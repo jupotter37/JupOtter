{
  "nbformat": 4,
  "nbformat_minor": 0,
  "metadata": {
    "kernelspec": {
      "display_name": "Python 3",
      "language": "python",
      "name": "python3"
    },
    "language_info": {
      "codemirror_mode": {
        "name": "ipython",
        "version": 3
      },
      "file_extension": ".py",
      "mimetype": "text/x-python",
      "name": "python",
      "nbconvert_exporter": "python",
      "pygments_lexer": "ipython3",
      "version": "3.5.1"
    },
    "colab": {
      "name": "Chapter 9 - Introduction to Biopython.ipynb",
      "provenance": []
    }
  },
  "cells": [
    {
      "cell_type": "markdown",
      "metadata": {
        "id": "t8str7sJqp2a",
        "colab_type": "text"
      },
      "source": [
        "Python for Bioinformatics\n",
        "-----------------------------\n",
        "\n",
        "![title](https://s3.amazonaws.com/py4bio/tapabiosmall.png)\n",
        "\n",
        "This Jupyter notebook is intented to be used alongside the book [Python for Bioinformatics](http://py3.us/)\n",
        "\n"
      ]
    },
    {
      "cell_type": "markdown",
      "metadata": {
        "id": "NLmiOAnBqp2c",
        "colab_type": "text"
      },
      "source": [
        "**Note:** Before opening the file, this file should be accesible from this Jupyter notebook. In order to do so, the following commands will download these files from Github and extract them into a directory called samples."
      ]
    },
    {
      "cell_type": "code",
      "metadata": {
        "id": "JMdqF26kqp2d",
        "colab_type": "code",
        "colab": {}
      },
      "source": [
        "!curl https://raw.githubusercontent.com/Serulab/Py4Bio/master/samples/samples.tar.bz2 -o samples.tar.bz2\n",
        "!mkdir samples\n",
        "!tar xvfj samples.tar.bz2 -C samples"
      ],
      "execution_count": 0,
      "outputs": []
    },
    {
      "cell_type": "markdown",
      "metadata": {
        "id": "gyD30yHHqp2h",
        "colab_type": "text"
      },
      "source": [
        "Chapter 9: Introduction to Biopython\n",
        "-----------------------------"
      ]
    },
    {
      "cell_type": "code",
      "metadata": {
        "id": "HuchAY5cqp2i",
        "colab_type": "code",
        "outputId": "b477cc1c-06f5-4ddc-f545-e65ef15e6d17",
        "colab": {}
      },
      "source": [
        "import platform\n",
        "platform.platform()"
      ],
      "execution_count": 0,
      "outputs": [
        {
          "output_type": "execute_result",
          "data": {
            "text/plain": [
              "'Linux-4.4.0-81-generic-x86_64-with-debian-stretch-sid'"
            ]
          },
          "metadata": {
            "tags": []
          },
          "execution_count": 3
        }
      ]
    },
    {
      "cell_type": "code",
      "metadata": {
        "scrolled": false,
        "id": "DD4sFUCpqp2m",
        "colab_type": "code",
        "outputId": "2a5577ac-8f2f-498e-f46f-b8b89588a436",
        "colab": {
          "base_uri": "https://localhost:8080/",
          "height": 119
        }
      },
      "source": [
        "!pip install biopython"
      ],
      "execution_count": 0,
      "outputs": [
        {
          "output_type": "stream",
          "text": [
            "Collecting biopython\n",
            "\u001b[?25l  Downloading https://files.pythonhosted.org/packages/83/3d/e0c8a993dbea1136be90c31345aefc5babdd5046cd52f81c18fc3fdad865/biopython-1.76-cp36-cp36m-manylinux1_x86_64.whl (2.3MB)\n",
            "\u001b[K     |████████████████████████████████| 2.3MB 2.8MB/s \n",
            "\u001b[?25hRequirement already satisfied: numpy in /usr/local/lib/python3.6/dist-packages (from biopython) (1.18.4)\n",
            "Installing collected packages: biopython\n",
            "Successfully installed biopython-1.76\n"
          ],
          "name": "stdout"
        }
      ]
    },
    {
      "cell_type": "markdown",
      "metadata": {
        "id": "BsZaaRvXqp2q",
        "colab_type": "text"
      },
      "source": [
        "Test Installation\n",
        "-----------------"
      ]
    },
    {
      "cell_type": "code",
      "metadata": {
        "scrolled": true,
        "id": "nPGSHve9qp2r",
        "colab_type": "code",
        "outputId": "c2a9ce1c-5680-4f36-ad73-849b06510f79",
        "colab": {}
      },
      "source": [
        "import Bio\n",
        "Bio.__version__"
      ],
      "execution_count": 0,
      "outputs": [
        {
          "output_type": "execute_result",
          "data": {
            "text/plain": [
              "'1.68'"
            ]
          },
          "metadata": {
            "tags": []
          },
          "execution_count": 3
        }
      ]
    },
    {
      "cell_type": "code",
      "metadata": {
        "id": "JtuOmU1Mqp2u",
        "colab_type": "code",
        "outputId": "4eddcb6f-96a2-49cd-fc66-1d028f0d79d4",
        "colab": {}
      },
      "source": [
        "import Bio.Alphabet\n",
        "Bio.Alphabet.ThreeLetterProtein.letters"
      ],
      "execution_count": 0,
      "outputs": [
        {
          "output_type": "execute_result",
          "data": {
            "text/plain": [
              "['Ala',\n",
              " 'Asx',\n",
              " 'Cys',\n",
              " 'Asp',\n",
              " 'Glu',\n",
              " 'Phe',\n",
              " 'Gly',\n",
              " 'His',\n",
              " 'Ile',\n",
              " 'Lys',\n",
              " 'Leu',\n",
              " 'Met',\n",
              " 'Asn',\n",
              " 'Pro',\n",
              " 'Gln',\n",
              " 'Arg',\n",
              " 'Ser',\n",
              " 'Thr',\n",
              " 'Sec',\n",
              " 'Val',\n",
              " 'Trp',\n",
              " 'Xaa',\n",
              " 'Tyr',\n",
              " 'Glx']"
            ]
          },
          "metadata": {
            "tags": []
          },
          "execution_count": 4
        }
      ]
    },
    {
      "cell_type": "code",
      "metadata": {
        "id": "e3-dKjZxqp2x",
        "colab_type": "code",
        "outputId": "0ecf66d9-1cb9-4f7c-8649-44d640a55759",
        "colab": {}
      },
      "source": [
        "from Bio.Alphabet import IUPAC\n",
        "IUPAC.IUPACProtein.letters"
      ],
      "execution_count": 0,
      "outputs": [
        {
          "output_type": "execute_result",
          "data": {
            "text/plain": [
              "'ACDEFGHIKLMNPQRSTVWY'"
            ]
          },
          "metadata": {
            "tags": []
          },
          "execution_count": 5
        }
      ]
    },
    {
      "cell_type": "code",
      "metadata": {
        "id": "UB1NCi3Eqp22",
        "colab_type": "code",
        "outputId": "42de4be1-918e-44b9-e81e-a8c6b983b305",
        "colab": {}
      },
      "source": [
        "IUPAC.unambiguous_dna.letters"
      ],
      "execution_count": 0,
      "outputs": [
        {
          "output_type": "execute_result",
          "data": {
            "text/plain": [
              "'GATC'"
            ]
          },
          "metadata": {
            "tags": []
          },
          "execution_count": 6
        }
      ]
    },
    {
      "cell_type": "code",
      "metadata": {
        "id": "2p_PX1xmqp25",
        "colab_type": "code",
        "outputId": "047238db-b4a8-4ee1-835f-9d0700a1911b",
        "colab": {}
      },
      "source": [
        "IUPAC.ambiguous_dna.letters"
      ],
      "execution_count": 0,
      "outputs": [
        {
          "output_type": "execute_result",
          "data": {
            "text/plain": [
              "'GATCRYWSMKHBVDN'"
            ]
          },
          "metadata": {
            "tags": []
          },
          "execution_count": 7
        }
      ]
    },
    {
      "cell_type": "code",
      "metadata": {
        "id": "mrY9LoAqqp27",
        "colab_type": "code",
        "outputId": "8fe64009-8245-42fa-b3f5-a43b14da092d",
        "colab": {}
      },
      "source": [
        "IUPAC.ExtendedIUPACProtein.letters"
      ],
      "execution_count": 0,
      "outputs": [
        {
          "output_type": "execute_result",
          "data": {
            "text/plain": [
              "'ACDEFGHIKLMNPQRSTVWYBXZJUO'"
            ]
          },
          "metadata": {
            "tags": []
          },
          "execution_count": 8
        }
      ]
    },
    {
      "cell_type": "code",
      "metadata": {
        "id": "UZsoF5hqqp2-",
        "colab_type": "code",
        "outputId": "a6df7cd1-e45f-44ac-f854-8275d8d13e30",
        "colab": {}
      },
      "source": [
        "IUPAC.ExtendedIUPACDNA.letters"
      ],
      "execution_count": 0,
      "outputs": [
        {
          "output_type": "execute_result",
          "data": {
            "text/plain": [
              "'GATCBDSW'"
            ]
          },
          "metadata": {
            "tags": []
          },
          "execution_count": 9
        }
      ]
    },
    {
      "cell_type": "code",
      "metadata": {
        "id": "yWedFQFtqp3A",
        "colab_type": "code",
        "outputId": "f8a172c6-63c6-41d4-b070-8c0d199807d3",
        "colab": {}
      },
      "source": [
        "from Bio.Seq import Seq\n",
        "import Bio.Alphabet\n",
        "seq = Seq('CCGGGTT', Bio.Alphabet.IUPAC.unambiguous_dna)\n",
        "seq.transcribe()"
      ],
      "execution_count": 0,
      "outputs": [
        {
          "output_type": "execute_result",
          "data": {
            "text/plain": [
              "Seq('CCGGGUU', IUPACUnambiguousRNA())"
            ]
          },
          "metadata": {
            "tags": []
          },
          "execution_count": 10
        }
      ]
    },
    {
      "cell_type": "code",
      "metadata": {
        "id": "K1h1vsdIqp3E",
        "colab_type": "code",
        "outputId": "79158c1f-7189-4577-f561-5c464345c086",
        "colab": {}
      },
      "source": [
        "seq.translate()"
      ],
      "execution_count": 0,
      "outputs": [
        {
          "output_type": "stream",
          "text": [
            "/home/nbuser/anaconda3_410/lib/python3.5/site-packages/Bio/Seq.py:2071: BiopythonWarning: Partial codon, len(sequence) not a multiple of three. Explicitly trim the sequence or add trailing N before translation. This may become an error in future.\n",
            "  BiopythonWarning)\n"
          ],
          "name": "stderr"
        },
        {
          "output_type": "execute_result",
          "data": {
            "text/plain": [
              "Seq('PG', IUPACProtein())"
            ]
          },
          "metadata": {
            "tags": []
          },
          "execution_count": 11
        }
      ]
    },
    {
      "cell_type": "code",
      "metadata": {
        "scrolled": true,
        "id": "vrJii2qrqp3J",
        "colab_type": "code",
        "outputId": "07403d26-b596-428e-81a1-2b884b662eba",
        "colab": {}
      },
      "source": [
        "rna_seq = Seq('CCGGGUU',Bio.Alphabet.IUPAC.unambiguous_rna)\n",
        "rna_seq.transcribe()"
      ],
      "execution_count": 0,
      "outputs": [
        {
          "output_type": "error",
          "ename": "ValueError",
          "evalue": "RNA cannot be transcribed!",
          "traceback": [
            "\u001b[0;31m---------------------------------------------------------------------------\u001b[0m",
            "\u001b[0;31mValueError\u001b[0m                                Traceback (most recent call last)",
            "\u001b[0;32m<ipython-input-12-0aba5e582c89>\u001b[0m in \u001b[0;36m<module>\u001b[0;34m()\u001b[0m\n\u001b[1;32m      1\u001b[0m \u001b[0mrna_seq\u001b[0m \u001b[0;34m=\u001b[0m \u001b[0mSeq\u001b[0m\u001b[0;34m(\u001b[0m\u001b[0;34m'CCGGGUU'\u001b[0m\u001b[0;34m,\u001b[0m\u001b[0mBio\u001b[0m\u001b[0;34m.\u001b[0m\u001b[0mAlphabet\u001b[0m\u001b[0;34m.\u001b[0m\u001b[0mIUPAC\u001b[0m\u001b[0;34m.\u001b[0m\u001b[0munambiguous_rna\u001b[0m\u001b[0;34m)\u001b[0m\u001b[0;34m\u001b[0m\u001b[0m\n\u001b[0;32m----> 2\u001b[0;31m \u001b[0mrna_seq\u001b[0m\u001b[0;34m.\u001b[0m\u001b[0mtranscribe\u001b[0m\u001b[0;34m(\u001b[0m\u001b[0;34m)\u001b[0m\u001b[0;34m\u001b[0m\u001b[0m\n\u001b[0m",
            "\u001b[0;32m~/anaconda3_410/lib/python3.5/site-packages/Bio/Seq.py\u001b[0m in \u001b[0;36mtranscribe\u001b[0;34m(self)\u001b[0m\n\u001b[1;32m    834\u001b[0m             \u001b[0;32mraise\u001b[0m \u001b[0mValueError\u001b[0m\u001b[0;34m(\u001b[0m\u001b[0;34m\"Proteins cannot be transcribed!\"\u001b[0m\u001b[0;34m)\u001b[0m\u001b[0;34m\u001b[0m\u001b[0m\n\u001b[1;32m    835\u001b[0m         \u001b[0;32mif\u001b[0m \u001b[0misinstance\u001b[0m\u001b[0;34m(\u001b[0m\u001b[0mbase\u001b[0m\u001b[0;34m,\u001b[0m \u001b[0mAlphabet\u001b[0m\u001b[0;34m.\u001b[0m\u001b[0mRNAAlphabet\u001b[0m\u001b[0;34m)\u001b[0m\u001b[0;34m:\u001b[0m\u001b[0;34m\u001b[0m\u001b[0m\n\u001b[0;32m--> 836\u001b[0;31m             \u001b[0;32mraise\u001b[0m \u001b[0mValueError\u001b[0m\u001b[0;34m(\u001b[0m\u001b[0;34m\"RNA cannot be transcribed!\"\u001b[0m\u001b[0;34m)\u001b[0m\u001b[0;34m\u001b[0m\u001b[0m\n\u001b[0m\u001b[1;32m    837\u001b[0m \u001b[0;34m\u001b[0m\u001b[0m\n\u001b[1;32m    838\u001b[0m         \u001b[0;32mif\u001b[0m \u001b[0mself\u001b[0m\u001b[0;34m.\u001b[0m\u001b[0malphabet\u001b[0m \u001b[0;34m==\u001b[0m \u001b[0mIUPAC\u001b[0m\u001b[0;34m.\u001b[0m\u001b[0munambiguous_dna\u001b[0m\u001b[0;34m:\u001b[0m\u001b[0;34m\u001b[0m\u001b[0m\n",
            "\u001b[0;31mValueError\u001b[0m: RNA cannot be transcribed!"
          ]
        }
      ]
    },
    {
      "cell_type": "code",
      "metadata": {
        "scrolled": true,
        "id": "rViJB0Qnqp3L",
        "colab_type": "code",
        "outputId": "e6623d70-4896-4fb7-d95f-b108d493829e",
        "colab": {}
      },
      "source": [
        "rna_seq.translate()"
      ],
      "execution_count": 0,
      "outputs": [
        {
          "output_type": "stream",
          "text": [
            "/home/nbuser/anaconda3_410/lib/python3.5/site-packages/Bio/Seq.py:2071: BiopythonWarning: Partial codon, len(sequence) not a multiple of three. Explicitly trim the sequence or add trailing N before translation. This may become an error in future.\n",
            "  BiopythonWarning)\n"
          ],
          "name": "stderr"
        },
        {
          "output_type": "execute_result",
          "data": {
            "text/plain": [
              "Seq('PG', IUPACProtein())"
            ]
          },
          "metadata": {
            "tags": []
          },
          "execution_count": 13
        }
      ]
    },
    {
      "cell_type": "code",
      "metadata": {
        "id": "IcPBGRjpqp3N",
        "colab_type": "code",
        "outputId": "0eb3fc62-2ee8-4c42-cd61-5f820c4ff372",
        "colab": {}
      },
      "source": [
        "rna_seq.back_transcribe()"
      ],
      "execution_count": 0,
      "outputs": [
        {
          "output_type": "execute_result",
          "data": {
            "text/plain": [
              "Seq('CCGGGTT', IUPACUnambiguousDNA())"
            ]
          },
          "metadata": {
            "tags": []
          },
          "execution_count": 14
        }
      ]
    },
    {
      "cell_type": "markdown",
      "metadata": {
        "id": "jGniDt6nqp3P",
        "colab_type": "text"
      },
      "source": [
        "Tip: The Transcribe Function in Biopython\n",
        "-----------------------------------------"
      ]
    },
    {
      "cell_type": "code",
      "metadata": {
        "scrolled": true,
        "id": "-zHdjKaiqp3Q",
        "colab_type": "code",
        "outputId": "3a4ff061-18bc-4ee7-e3c7-a6797b4b244c",
        "colab": {}
      },
      "source": [
        "from Bio.Seq import translate, transcribe, back_transcribe\n",
        "dnaseq = 'ATGGTATAA'\n",
        "translate(dnaseq)\n"
      ],
      "execution_count": 0,
      "outputs": [
        {
          "output_type": "execute_result",
          "data": {
            "text/plain": [
              "'MV*'"
            ]
          },
          "metadata": {
            "tags": []
          },
          "execution_count": 14
        }
      ]
    },
    {
      "cell_type": "code",
      "metadata": {
        "id": "xsf3UAAsqp3T",
        "colab_type": "code",
        "outputId": "99f445f7-22d9-4535-802a-bc4bfd380189",
        "colab": {}
      },
      "source": [
        "transcribe(dnaseq)"
      ],
      "execution_count": 0,
      "outputs": [
        {
          "output_type": "execute_result",
          "data": {
            "text/plain": [
              "'AUGGUAUAA'"
            ]
          },
          "metadata": {
            "tags": []
          },
          "execution_count": 15
        }
      ]
    },
    {
      "cell_type": "code",
      "metadata": {
        "id": "UFCEhVwWqp3V",
        "colab_type": "code",
        "outputId": "24ceaeaf-7d96-4bb6-f022-604fbd4755c6",
        "colab": {}
      },
      "source": [
        "rnaseq = transcribe(dnaseq)\n",
        "translate(rnaseq)"
      ],
      "execution_count": 0,
      "outputs": [
        {
          "output_type": "execute_result",
          "data": {
            "text/plain": [
              "'MV*'"
            ]
          },
          "metadata": {
            "tags": []
          },
          "execution_count": 16
        }
      ]
    },
    {
      "cell_type": "code",
      "metadata": {
        "scrolled": true,
        "id": "qjHM3UGqqp3X",
        "colab_type": "code",
        "outputId": "3d6a6e86-7fe4-4d00-c831-9452fd485dc4",
        "colab": {}
      },
      "source": [
        "back_transcribe(rnaseq)"
      ],
      "execution_count": 0,
      "outputs": [
        {
          "output_type": "execute_result",
          "data": {
            "text/plain": [
              "'ATGGTATAA'"
            ]
          },
          "metadata": {
            "tags": []
          },
          "execution_count": 17
        }
      ]
    },
    {
      "cell_type": "markdown",
      "metadata": {
        "id": "Fw5H9ZP_qp3Z",
        "colab_type": "text"
      },
      "source": [
        "Seq Objects as a String\n",
        "-----------------------"
      ]
    },
    {
      "cell_type": "code",
      "metadata": {
        "id": "Wqug345tqp3a",
        "colab_type": "code",
        "outputId": "e871ee3e-41b5-46e0-b732-7b9fa69b895f",
        "colab": {}
      },
      "source": [
        "seq = Seq('CCGGGTTAACGTA',Bio.Alphabet.IUPAC.unambiguous_dna)\n",
        "seq[:5]"
      ],
      "execution_count": 0,
      "outputs": [
        {
          "output_type": "execute_result",
          "data": {
            "text/plain": [
              "Seq('CCGGG', IUPACUnambiguousDNA())"
            ]
          },
          "metadata": {
            "tags": []
          },
          "execution_count": 18
        }
      ]
    },
    {
      "cell_type": "code",
      "metadata": {
        "id": "T6GqwdExqp3c",
        "colab_type": "code",
        "outputId": "b2e5151b-962e-406f-dd6f-10b71676942e",
        "colab": {}
      },
      "source": [
        "len(seq)"
      ],
      "execution_count": 0,
      "outputs": [
        {
          "output_type": "execute_result",
          "data": {
            "text/plain": [
              "13"
            ]
          },
          "metadata": {
            "tags": []
          },
          "execution_count": 19
        }
      ]
    },
    {
      "cell_type": "code",
      "metadata": {
        "id": "6VjpGoUoqp3e",
        "colab_type": "code",
        "outputId": "0bed3fca-eba7-40f5-9336-19df83152113",
        "colab": {}
      },
      "source": [
        "print(seq)"
      ],
      "execution_count": 0,
      "outputs": [
        {
          "output_type": "stream",
          "text": [
            "CCGGGTTAACGTA\n"
          ],
          "name": "stdout"
        }
      ]
    },
    {
      "cell_type": "markdown",
      "metadata": {
        "id": "V-Viq3jzqp3g",
        "colab_type": "text"
      },
      "source": [
        "MutableSeq\n",
        "----------"
      ]
    },
    {
      "cell_type": "code",
      "metadata": {
        "id": "jBcJeRj1qp3g",
        "colab_type": "code",
        "outputId": "73da26eb-c2a1-429d-9b7f-3bdd31999a0c",
        "colab": {}
      },
      "source": [
        "seq[0] = 'T'"
      ],
      "execution_count": 0,
      "outputs": [
        {
          "output_type": "error",
          "ename": "TypeError",
          "evalue": "'Seq' object does not support item assignment",
          "traceback": [
            "\u001b[0;31m---------------------------------------------------------------------------\u001b[0m",
            "\u001b[0;31mTypeError\u001b[0m                                 Traceback (most recent call last)",
            "\u001b[0;32m<ipython-input-21-7edd3100cf3d>\u001b[0m in \u001b[0;36m<module>\u001b[0;34m()\u001b[0m\n\u001b[0;32m----> 1\u001b[0;31m \u001b[0mseq\u001b[0m\u001b[0;34m[\u001b[0m\u001b[0;36m0\u001b[0m\u001b[0;34m]\u001b[0m \u001b[0;34m=\u001b[0m \u001b[0;34m'T'\u001b[0m\u001b[0;34m\u001b[0m\u001b[0m\n\u001b[0m",
            "\u001b[0;31mTypeError\u001b[0m: 'Seq' object does not support item assignment"
          ]
        }
      ]
    },
    {
      "cell_type": "code",
      "metadata": {
        "id": "Jm72hL-Bqp3i",
        "colab_type": "code",
        "outputId": "ef4a6abc-15a7-4bf0-a424-38c55b803460",
        "colab": {}
      },
      "source": [
        "mut_seq = seq.tomutable()\n",
        "mut_seq"
      ],
      "execution_count": 0,
      "outputs": [
        {
          "output_type": "execute_result",
          "data": {
            "text/plain": [
              "MutableSeq('CCGGGTTAACGTA', IUPACUnambiguousDNA())"
            ]
          },
          "metadata": {
            "tags": []
          },
          "execution_count": 23
        }
      ]
    },
    {
      "cell_type": "code",
      "metadata": {
        "id": "RiHzKRAWqp3m",
        "colab_type": "code",
        "outputId": "16e253a6-5e15-42f9-ab20-960c3abaac27",
        "colab": {}
      },
      "source": [
        "mut_seq[0] = 'T'\n",
        "mut_seq"
      ],
      "execution_count": 0,
      "outputs": [
        {
          "output_type": "execute_result",
          "data": {
            "text/plain": [
              "MutableSeq('TCGGGTTAACGTA', IUPACUnambiguousDNA())"
            ]
          },
          "metadata": {
            "tags": []
          },
          "execution_count": 24
        }
      ]
    },
    {
      "cell_type": "code",
      "metadata": {
        "id": "OzWI-Ks9qp3o",
        "colab_type": "code",
        "outputId": "2e115b50-9826-41df-8682-d18a598d82bb",
        "colab": {}
      },
      "source": [
        "mut_seq.reverse()\n",
        "mut_seq"
      ],
      "execution_count": 0,
      "outputs": [
        {
          "output_type": "execute_result",
          "data": {
            "text/plain": [
              "MutableSeq('ATGCAATTGGGCT', IUPACUnambiguousDNA())"
            ]
          },
          "metadata": {
            "tags": []
          },
          "execution_count": 25
        }
      ]
    },
    {
      "cell_type": "code",
      "metadata": {
        "collapsed": true,
        "id": "hrYy4lG2qp3q",
        "colab_type": "code",
        "colab": {}
      },
      "source": [
        "mut_seq.complement()"
      ],
      "execution_count": 0,
      "outputs": []
    },
    {
      "cell_type": "code",
      "metadata": {
        "id": "T4nqR9q7qp3t",
        "colab_type": "code",
        "outputId": "436c80cf-d2e1-491d-e92f-c75bb83e0916",
        "colab": {}
      },
      "source": [
        "mut_seq"
      ],
      "execution_count": 0,
      "outputs": [
        {
          "output_type": "execute_result",
          "data": {
            "text/plain": [
              "MutableSeq('TACGTTAACCCGA', IUPACUnambiguousDNA())"
            ]
          },
          "metadata": {
            "tags": []
          },
          "execution_count": 27
        }
      ]
    },
    {
      "cell_type": "code",
      "metadata": {
        "id": "FILzU_7jqp3v",
        "colab_type": "code",
        "outputId": "c7ebb3e6-a400-4c11-b797-e5c4b4054f4d",
        "colab": {}
      },
      "source": [
        "mut_seq.reverse_complement()\n",
        "mut_seq"
      ],
      "execution_count": 0,
      "outputs": [
        {
          "output_type": "execute_result",
          "data": {
            "text/plain": [
              "MutableSeq('TCGGGTTAACGTA', IUPACUnambiguousDNA())"
            ]
          },
          "metadata": {
            "tags": []
          },
          "execution_count": 28
        }
      ]
    },
    {
      "cell_type": "markdown",
      "metadata": {
        "id": "O1nJQzdVqp3y",
        "colab_type": "text"
      },
      "source": [
        "SeqRecord\n",
        "---------"
      ]
    },
    {
      "cell_type": "code",
      "metadata": {
        "id": "RNKj7egAqp3y",
        "colab_type": "code",
        "outputId": "b8613b86-1694-43bb-f6ee-97b77bfc8d3d",
        "colab": {}
      },
      "source": [
        "from Bio.SeqRecord import SeqRecord\n",
        "SeqRecord(seq, id='001', name='MHC gene')"
      ],
      "execution_count": 0,
      "outputs": [
        {
          "output_type": "execute_result",
          "data": {
            "text/plain": [
              "SeqRecord(seq=Seq('CCGGGTTAACGTA', IUPACUnambiguousDNA()), id='001', name='MHC gene', description='<unknown description>', dbxrefs=[])"
            ]
          },
          "metadata": {
            "tags": []
          },
          "execution_count": 31
        }
      ]
    },
    {
      "cell_type": "code",
      "metadata": {
        "id": "9R3Df-IMqp30",
        "colab_type": "code",
        "outputId": "c8fbf418-0f79-4411-839e-d19074ed0b8c",
        "colab": {}
      },
      "source": [
        "from Bio.SeqRecord import SeqRecord\n",
        "from Bio.Seq import Seq\n",
        "from Bio.Alphabet import generic_protein\n",
        "rec = SeqRecord(Seq('mdstnvrsgmksrkkkpkttvidddddcmtcsacqs'\n",
        "                        'klvkisditkvsldyintmrgntlacaacgsslkll',\n",
        "                generic_protein),\n",
        "                id = 'P20994.1', name = 'P20994',\n",
        "                description = 'Protein A19',\n",
        "                dbxrefs = ['Pfam:PF05077', 'InterPro:IPR007769',\n",
        "                           'DIP:2186N'])\n",
        "rec.annotations['note'] = 'A simple note'\n",
        "print(rec)"
      ],
      "execution_count": 0,
      "outputs": [
        {
          "output_type": "stream",
          "text": [
            "ID: P20994.1\n",
            "Name: P20994\n",
            "Description: Protein A19\n",
            "Database cross-references: Pfam:PF05077, InterPro:IPR007769, DIP:2186N\n",
            "Number of features: 0\n",
            "/note=A simple note\n",
            "Seq('mdstnvrsgmksrkkkpkttvidddddcmtcsacqsklvkisditkvsldyint...kll', ProteinAlphabet())\n"
          ],
          "name": "stdout"
        }
      ]
    },
    {
      "cell_type": "markdown",
      "metadata": {
        "id": "SG4-H9Upqp33",
        "colab_type": "text"
      },
      "source": [
        "Align\n",
        "-----"
      ]
    },
    {
      "cell_type": "markdown",
      "metadata": {
        "id": "PmI2oP3Gqp33",
        "colab_type": "text"
      },
      "source": [
        "**Listing 9.1:** Using Align module"
      ]
    },
    {
      "cell_type": "code",
      "metadata": {
        "id": "SLZ_u00Nqp34",
        "colab_type": "code",
        "outputId": "c7adf864-c899-4b8a-c8f2-36055a0b1130",
        "colab": {}
      },
      "source": [
        "from Bio.Alphabet import generic_protein\n",
        "from Bio.Align import MultipleSeqAlignment\n",
        "from Bio.Seq import Seq\n",
        "from Bio.SeqRecord import SeqRecord\n",
        "\n",
        "seq1 = 'MHQAIFIYQIGYPLKSGYIQSIRSPEYDNW'\n",
        "seq2 = 'MH--IFIYQIGYALKSGYIQSIRSPEY-NW'\n",
        "seq_rec_1 = SeqRecord(Seq(seq1, generic_protein), id = 'asp')\n",
        "seq_rec_2 = SeqRecord(Seq(seq2, generic_protein), id = 'unk')\n",
        "align = MultipleSeqAlignment([seq_rec_1, seq_rec_2])\n",
        "print(align)"
      ],
      "execution_count": 0,
      "outputs": [
        {
          "output_type": "stream",
          "text": [
            "ProteinAlphabet() alignment with 2 rows and 30 columns\n",
            "MHQAIFIYQIGYPLKSGYIQSIRSPEYDNW asp\n",
            "MH--IFIYQIGYALKSGYIQSIRSPEY-NW unk\n"
          ],
          "name": "stdout"
        }
      ]
    },
    {
      "cell_type": "code",
      "metadata": {
        "id": "AYZT2O-Uqp38",
        "colab_type": "code",
        "outputId": "b186393b-bd83-4d5c-b07b-1c216a8243a5",
        "colab": {}
      },
      "source": [
        "seq3 = 'M---IFIYQIGYAAKSGYIQSIRSPEY--W'\n",
        "seq_rec_3 = SeqRecord(Seq(seq3, generic_protein), id = 'cas')\n",
        "align.extend([seq_rec_3])\n",
        "print(align)"
      ],
      "execution_count": 0,
      "outputs": [
        {
          "output_type": "stream",
          "text": [
            "ProteinAlphabet() alignment with 3 rows and 30 columns\n",
            "MHQAIFIYQIGYPLKSGYIQSIRSPEYDNW asp\n",
            "MH--IFIYQIGYALKSGYIQSIRSPEY-NW unk\n",
            "M---IFIYQIGYAAKSGYIQSIRSPEY--W cas\n"
          ],
          "name": "stdout"
        }
      ]
    },
    {
      "cell_type": "code",
      "metadata": {
        "scrolled": true,
        "id": "Bn4kmannqp3_",
        "colab_type": "code",
        "outputId": "c3042827-cd84-46dc-e719-5f979dd7546b",
        "colab": {}
      },
      "source": [
        "align[0]"
      ],
      "execution_count": 0,
      "outputs": [
        {
          "output_type": "execute_result",
          "data": {
            "text/plain": [
              "SeqRecord(seq=Seq('MHQAIFIYQIGYPLKSGYIQSIRSPEYDNW', ProteinAlphabet()), id='asp', name='<unknown name>', description='<unknown description>', dbxrefs=[])"
            ]
          },
          "metadata": {
            "tags": []
          },
          "execution_count": 24
        }
      ]
    },
    {
      "cell_type": "code",
      "metadata": {
        "id": "De_AlJ-Vqp4B",
        "colab_type": "code",
        "outputId": "2ba08e22-2e95-4bee-e9ef-51cde8138455",
        "colab": {}
      },
      "source": [
        "print(align[:2,5:11])"
      ],
      "execution_count": 0,
      "outputs": [
        {
          "output_type": "stream",
          "text": [
            "ProteinAlphabet() alignment with 2 rows and 6 columns\n",
            "FIYQIG asp\n",
            "FIYQIG unk\n"
          ],
          "name": "stdout"
        }
      ]
    },
    {
      "cell_type": "code",
      "metadata": {
        "id": "KxCrCx7Qqp4D",
        "colab_type": "code",
        "outputId": "b49c655d-ee82-4e0f-d6dd-1f976ab70c80",
        "colab": {}
      },
      "source": [
        "len(align)"
      ],
      "execution_count": 0,
      "outputs": [
        {
          "output_type": "execute_result",
          "data": {
            "text/plain": [
              "3"
            ]
          },
          "metadata": {
            "tags": []
          },
          "execution_count": 26
        }
      ]
    },
    {
      "cell_type": "code",
      "metadata": {
        "id": "oU_vXv7Nqp4F",
        "colab_type": "code",
        "outputId": "c3bcc70f-042b-4509-ca15-f7806d7c21be",
        "colab": {}
      },
      "source": [
        "from Bio.SeqUtils.ProtParam import ProteinAnalysis\n",
        "for seq in align:\n",
        "    print(ProteinAnalysis(str(seq.seq)).isoelectric_point())"
      ],
      "execution_count": 0,
      "outputs": [
        {
          "output_type": "stream",
          "text": [
            "6.50421142578125\n",
            "8.16033935546875\n",
            "8.13848876953125\n"
          ],
          "name": "stdout"
        }
      ]
    },
    {
      "cell_type": "markdown",
      "metadata": {
        "id": "m4ISH0ZOqp4H",
        "colab_type": "text"
      },
      "source": [
        "AlignIO\n",
        "--------"
      ]
    },
    {
      "cell_type": "code",
      "metadata": {
        "scrolled": false,
        "id": "68pwth3-qp4K",
        "colab_type": "code",
        "outputId": "5cffa9fd-0114-4295-f4c2-5f119e06bd04",
        "colab": {}
      },
      "source": [
        "from Bio import AlignIO\n",
        "align = AlignIO.read('samples/cas9align.fasta', 'fasta')\n",
        "print(align)"
      ],
      "execution_count": 0,
      "outputs": [
        {
          "output_type": "stream",
          "text": [
            "SingleLetterAlphabet() alignment with 8 rows and 1407 columns\n",
            "MDKKYSIGLDIGTNSVGWAVITDDYKVPSKKFKVLGNTDRHSIK...GGD J7M7J1\n",
            "MDKKYSIGLDIGTNSVGWAVITDDYKVPSKKFKVLGNTDRHSIK...GGD A0A0C6FZC2\n",
            "MDKKYSIGLDIGTNSVGWAVITDDYKVPSKKFKVLGNTDRHSIK...GGD A0A1C2CVQ9\n",
            "MDKKYSIGLDIGTNSVGWAVITDDYKVPSKKFKVLGNTDRHSIK...GGD A0A1C2CV43\n",
            "MDKKYSIGLDIGTNSVGWAVITDDYKVPSKKFKVLGNTDRHSIK...GGD Q48TU5\n",
            "MDKKYSIGLDIGTNSVGWAVITDDYKVPSKKFKVLGNTDRHSIK...GGD M4YX12\n",
            "MKKPYSIGLDIGTNSVGWAVVTDDYKVPAKKMKVLGNTDKSHIK...GGD A0A0E2EP65\n",
            "--------------------------------------------...GED A0A150NVN1\n"
          ],
          "name": "stdout"
        }
      ]
    },
    {
      "cell_type": "code",
      "metadata": {
        "id": "lIWBaumLqp4M",
        "colab_type": "code",
        "outputId": "cd0ea59e-dd66-489b-95e3-3856f2435445",
        "colab": {}
      },
      "source": [
        "from Bio import AlignIO\n",
        "for alignment in AlignIO.parse('samples/example.aln', 'clustal'):\n",
        "    print(len(alignment))"
      ],
      "execution_count": 0,
      "outputs": [
        {
          "output_type": "stream",
          "text": [
            "6\n"
          ],
          "name": "stdout"
        }
      ]
    },
    {
      "cell_type": "code",
      "metadata": {
        "id": "GZ3AG068qp4O",
        "colab_type": "code",
        "outputId": "3c6239a2-fef0-4c60-e927-4203587bc182",
        "colab": {}
      },
      "source": [
        "from Bio import AlignIO\n",
        "AlignIO.convert(open('samples/cas9align.fasta'), 'fasta', 'cas9align.aln', 'clustal')"
      ],
      "execution_count": 0,
      "outputs": [
        {
          "output_type": "execute_result",
          "data": {
            "text/plain": [
              "1"
            ]
          },
          "metadata": {
            "tags": []
          },
          "execution_count": 7
        }
      ]
    },
    {
      "cell_type": "markdown",
      "metadata": {
        "id": "M6GTvktLqp4Q",
        "colab_type": "text"
      },
      "source": [
        "AlignInfo\n",
        "---------"
      ]
    },
    {
      "cell_type": "code",
      "metadata": {
        "id": "HGNSCA_gqp4Q",
        "colab_type": "code",
        "outputId": "98aabbdf-315c-4b1c-806c-cf5453e6926f",
        "colab": {
          "base_uri": "https://localhost:8080/",
          "height": 34
        }
      },
      "source": [
        "from Bio import AlignIO\n",
        "from Bio.Align.AlignInfo import SummaryInfo\n",
        "from Bio.Alphabet import ProteinAlphabet\n",
        "\n",
        "align = AlignIO.read('samples/cas9align.fasta', 'fasta', alphabet=ProteinAlphabet())\n",
        "summary = SummaryInfo(align)\n",
        "print(summary.information_content())"
      ],
      "execution_count": 0,
      "outputs": [
        {
          "output_type": "stream",
          "text": [
            "4951.072487965924\n"
          ],
          "name": "stdout"
        }
      ]
    },
    {
      "cell_type": "code",
      "metadata": {
        "id": "Z7aIh2CXqp4T",
        "colab_type": "code",
        "outputId": "30936b40-d651-492c-865c-7b71b5cd217a",
        "colab": {
          "base_uri": "https://localhost:8080/",
          "height": 34
        }
      },
      "source": [
        "summary.dumb_consensus(consensus_alpha=ProteinAlphabet())"
      ],
      "execution_count": 0,
      "outputs": [
        {
          "output_type": "execute_result",
          "data": {
            "text/plain": [
              "Seq('MDKKYSIGLDIGTNSVGWAVITDDYKVPSKKFKVLGNTDRHSIKKNLIGALLFD...GGD', ProteinAlphabet())"
            ]
          },
          "metadata": {
            "tags": []
          },
          "execution_count": 5
        }
      ]
    },
    {
      "cell_type": "code",
      "metadata": {
        "id": "in94OVmwqp4W",
        "colab_type": "code",
        "outputId": "b67e338d-cd99-4507-b734-1edb3800a0a6",
        "colab": {}
      },
      "source": [
        "summary.gap_consensus(consensus_alpha=ProteinAlphabet())"
      ],
      "execution_count": 0,
      "outputs": [
        {
          "output_type": "execute_result",
          "data": {
            "text/plain": [
              "Seq('MDKKYSIGLDIGTNSVGWAVITDDYKVPSKKFKVLGNTDRHSIKKNLIGALLFD...GGD', ProteinAlphabet())"
            ]
          },
          "metadata": {
            "tags": []
          },
          "execution_count": 10
        }
      ]
    },
    {
      "cell_type": "code",
      "metadata": {
        "scrolled": true,
        "id": "kNUjTAvwqp4Y",
        "colab_type": "code",
        "outputId": "5ac3ff2c-30c6-4f2c-d489-a1440c9b9920",
        "colab": {}
      },
      "source": [
        "print(summary.alignment)"
      ],
      "execution_count": 0,
      "outputs": [
        {
          "output_type": "stream",
          "text": [
            "ProteinAlphabet() alignment with 8 rows and 1407 columns\n",
            "MDKKYSIGLDIGTNSVGWAVITDDYKVPSKKFKVLGNTDRHSIK...GGD J7M7J1\n",
            "MDKKYSIGLDIGTNSVGWAVITDDYKVPSKKFKVLGNTDRHSIK...GGD A0A0C6FZC2\n",
            "MDKKYSIGLDIGTNSVGWAVITDDYKVPSKKFKVLGNTDRHSIK...GGD A0A1C2CVQ9\n",
            "MDKKYSIGLDIGTNSVGWAVITDDYKVPSKKFKVLGNTDRHSIK...GGD A0A1C2CV43\n",
            "MDKKYSIGLDIGTNSVGWAVITDDYKVPSKKFKVLGNTDRHSIK...GGD Q48TU5\n",
            "MDKKYSIGLDIGTNSVGWAVITDDYKVPSKKFKVLGNTDRHSIK...GGD M4YX12\n",
            "MKKPYSIGLDIGTNSVGWAVVTDDYKVPAKKMKVLGNTDKSHIK...GGD A0A0E2EP65\n",
            "--------------------------------------------...GED A0A150NVN1\n"
          ],
          "name": "stdout"
        }
      ]
    },
    {
      "cell_type": "code",
      "metadata": {
        "id": "7gq9uCaTqp4b",
        "colab_type": "code",
        "outputId": "6917a575-78b7-4526-ba15-44bbd68cffb6",
        "colab": {
          "base_uri": "https://localhost:8080/",
          "height": 1000
        }
      },
      "source": [
        "print(summary.pos_specific_score_matrix())"
      ],
      "execution_count": 0,
      "outputs": [
        {
          "output_type": "stream",
          "text": [
            "    -   A   C   D   E   F   G   H   I   K   L   M   N   P   Q   R   S   T   V   W   Y\n",
            "M  1.0 0.0 0.0 0.0 0.0 0.0 0.0 0.0 0.0 0.0 0.0 7.0 0.0 0.0 0.0 0.0 0.0 0.0 0.0 0.0 0.0\n",
            "D  1.0 0.0 0.0 6.0 0.0 0.0 0.0 0.0 0.0 1.0 0.0 0.0 0.0 0.0 0.0 0.0 0.0 0.0 0.0 0.0 0.0\n",
            "K  1.0 0.0 0.0 0.0 0.0 0.0 0.0 0.0 0.0 7.0 0.0 0.0 0.0 0.0 0.0 0.0 0.0 0.0 0.0 0.0 0.0\n",
            "K  1.0 0.0 0.0 0.0 0.0 0.0 0.0 0.0 0.0 6.0 0.0 0.0 0.0 1.0 0.0 0.0 0.0 0.0 0.0 0.0 0.0\n",
            "Y  1.0 0.0 0.0 0.0 0.0 0.0 0.0 0.0 0.0 0.0 0.0 0.0 0.0 0.0 0.0 0.0 0.0 0.0 0.0 0.0 7.0\n",
            "S  1.0 0.0 0.0 0.0 0.0 0.0 0.0 0.0 0.0 0.0 0.0 0.0 0.0 0.0 0.0 0.0 7.0 0.0 0.0 0.0 0.0\n",
            "I  1.0 0.0 0.0 0.0 0.0 0.0 0.0 0.0 7.0 0.0 0.0 0.0 0.0 0.0 0.0 0.0 0.0 0.0 0.0 0.0 0.0\n",
            "G  1.0 0.0 0.0 0.0 0.0 0.0 7.0 0.0 0.0 0.0 0.0 0.0 0.0 0.0 0.0 0.0 0.0 0.0 0.0 0.0 0.0\n",
            "L  1.0 0.0 0.0 0.0 0.0 0.0 0.0 0.0 0.0 0.0 7.0 0.0 0.0 0.0 0.0 0.0 0.0 0.0 0.0 0.0 0.0\n",
            "D  1.0 0.0 0.0 7.0 0.0 0.0 0.0 0.0 0.0 0.0 0.0 0.0 0.0 0.0 0.0 0.0 0.0 0.0 0.0 0.0 0.0\n",
            "I  1.0 0.0 0.0 0.0 0.0 0.0 0.0 0.0 7.0 0.0 0.0 0.0 0.0 0.0 0.0 0.0 0.0 0.0 0.0 0.0 0.0\n",
            "G  1.0 0.0 0.0 0.0 0.0 0.0 7.0 0.0 0.0 0.0 0.0 0.0 0.0 0.0 0.0 0.0 0.0 0.0 0.0 0.0 0.0\n",
            "T  1.0 0.0 0.0 0.0 0.0 0.0 0.0 0.0 0.0 0.0 0.0 0.0 0.0 0.0 0.0 0.0 0.0 7.0 0.0 0.0 0.0\n",
            "N  1.0 0.0 0.0 0.0 0.0 0.0 0.0 0.0 0.0 0.0 0.0 0.0 7.0 0.0 0.0 0.0 0.0 0.0 0.0 0.0 0.0\n",
            "S  1.0 0.0 0.0 0.0 0.0 0.0 0.0 0.0 0.0 0.0 0.0 0.0 0.0 0.0 0.0 0.0 7.0 0.0 0.0 0.0 0.0\n",
            "V  1.0 0.0 0.0 0.0 0.0 0.0 0.0 0.0 0.0 0.0 0.0 0.0 0.0 0.0 0.0 0.0 0.0 0.0 7.0 0.0 0.0\n",
            "G  1.0 0.0 0.0 0.0 0.0 0.0 7.0 0.0 0.0 0.0 0.0 0.0 0.0 0.0 0.0 0.0 0.0 0.0 0.0 0.0 0.0\n",
            "W  1.0 0.0 0.0 0.0 0.0 0.0 0.0 0.0 0.0 0.0 0.0 0.0 0.0 0.0 0.0 0.0 0.0 0.0 0.0 7.0 0.0\n",
            "A  1.0 7.0 0.0 0.0 0.0 0.0 0.0 0.0 0.0 0.0 0.0 0.0 0.0 0.0 0.0 0.0 0.0 0.0 0.0 0.0 0.0\n",
            "V  1.0 0.0 0.0 0.0 0.0 0.0 0.0 0.0 0.0 0.0 0.0 0.0 0.0 0.0 0.0 0.0 0.0 0.0 7.0 0.0 0.0\n",
            "I  1.0 0.0 0.0 0.0 0.0 0.0 0.0 0.0 6.0 0.0 0.0 0.0 0.0 0.0 0.0 0.0 0.0 0.0 1.0 0.0 0.0\n",
            "T  1.0 0.0 0.0 0.0 0.0 0.0 0.0 0.0 0.0 0.0 0.0 0.0 0.0 0.0 0.0 0.0 0.0 7.0 0.0 0.0 0.0\n",
            "D  1.0 0.0 0.0 7.0 0.0 0.0 0.0 0.0 0.0 0.0 0.0 0.0 0.0 0.0 0.0 0.0 0.0 0.0 0.0 0.0 0.0\n",
            "D  1.0 0.0 0.0 7.0 0.0 0.0 0.0 0.0 0.0 0.0 0.0 0.0 0.0 0.0 0.0 0.0 0.0 0.0 0.0 0.0 0.0\n",
            "Y  1.0 0.0 0.0 0.0 0.0 0.0 0.0 0.0 0.0 0.0 0.0 0.0 0.0 0.0 0.0 0.0 0.0 0.0 0.0 0.0 7.0\n",
            "K  1.0 0.0 0.0 0.0 0.0 0.0 0.0 0.0 0.0 7.0 0.0 0.0 0.0 0.0 0.0 0.0 0.0 0.0 0.0 0.0 0.0\n",
            "V  1.0 0.0 0.0 0.0 0.0 0.0 0.0 0.0 0.0 0.0 0.0 0.0 0.0 0.0 0.0 0.0 0.0 0.0 7.0 0.0 0.0\n",
            "P  1.0 0.0 0.0 0.0 0.0 0.0 0.0 0.0 0.0 0.0 0.0 0.0 0.0 7.0 0.0 0.0 0.0 0.0 0.0 0.0 0.0\n",
            "S  1.0 1.0 0.0 0.0 0.0 0.0 0.0 0.0 0.0 0.0 0.0 0.0 0.0 0.0 0.0 0.0 6.0 0.0 0.0 0.0 0.0\n",
            "K  1.0 0.0 0.0 0.0 0.0 0.0 0.0 0.0 0.0 7.0 0.0 0.0 0.0 0.0 0.0 0.0 0.0 0.0 0.0 0.0 0.0\n",
            "K  1.0 0.0 0.0 0.0 0.0 0.0 0.0 0.0 0.0 7.0 0.0 0.0 0.0 0.0 0.0 0.0 0.0 0.0 0.0 0.0 0.0\n",
            "F  1.0 0.0 0.0 0.0 0.0 6.0 0.0 0.0 0.0 0.0 0.0 1.0 0.0 0.0 0.0 0.0 0.0 0.0 0.0 0.0 0.0\n",
            "K  1.0 0.0 0.0 0.0 0.0 0.0 0.0 0.0 0.0 7.0 0.0 0.0 0.0 0.0 0.0 0.0 0.0 0.0 0.0 0.0 0.0\n",
            "V  1.0 0.0 0.0 0.0 0.0 0.0 0.0 0.0 0.0 0.0 0.0 0.0 0.0 0.0 0.0 0.0 0.0 0.0 7.0 0.0 0.0\n",
            "L  1.0 0.0 0.0 0.0 0.0 0.0 0.0 0.0 0.0 0.0 7.0 0.0 0.0 0.0 0.0 0.0 0.0 0.0 0.0 0.0 0.0\n",
            "G  1.0 0.0 0.0 0.0 0.0 0.0 7.0 0.0 0.0 0.0 0.0 0.0 0.0 0.0 0.0 0.0 0.0 0.0 0.0 0.0 0.0\n",
            "N  1.0 0.0 0.0 0.0 0.0 0.0 0.0 0.0 0.0 0.0 0.0 0.0 7.0 0.0 0.0 0.0 0.0 0.0 0.0 0.0 0.0\n",
            "T  1.0 0.0 0.0 0.0 0.0 0.0 0.0 0.0 0.0 0.0 0.0 0.0 0.0 0.0 0.0 0.0 0.0 7.0 0.0 0.0 0.0\n",
            "D  1.0 0.0 0.0 7.0 0.0 0.0 0.0 0.0 0.0 0.0 0.0 0.0 0.0 0.0 0.0 0.0 0.0 0.0 0.0 0.0 0.0\n",
            "R  1.0 0.0 0.0 0.0 0.0 0.0 0.0 0.0 0.0 1.0 0.0 0.0 0.0 0.0 0.0 6.0 0.0 0.0 0.0 0.0 0.0\n",
            "H  1.0 0.0 0.0 0.0 0.0 0.0 0.0 6.0 0.0 0.0 0.0 0.0 0.0 0.0 0.0 0.0 1.0 0.0 0.0 0.0 0.0\n",
            "S  1.0 0.0 0.0 0.0 0.0 0.0 0.0 1.0 0.0 0.0 0.0 0.0 0.0 0.0 0.0 0.0 6.0 0.0 0.0 0.0 0.0\n",
            "I  1.0 0.0 0.0 0.0 0.0 0.0 0.0 0.0 7.0 0.0 0.0 0.0 0.0 0.0 0.0 0.0 0.0 0.0 0.0 0.0 0.0\n",
            "K  1.0 0.0 0.0 0.0 0.0 0.0 0.0 0.0 0.0 7.0 0.0 0.0 0.0 0.0 0.0 0.0 0.0 0.0 0.0 0.0 0.0\n",
            "K  1.0 0.0 0.0 0.0 0.0 0.0 0.0 0.0 0.0 7.0 0.0 0.0 0.0 0.0 0.0 0.0 0.0 0.0 0.0 0.0 0.0\n",
            "N  1.0 0.0 0.0 0.0 0.0 0.0 0.0 0.0 0.0 0.0 0.0 0.0 7.0 0.0 0.0 0.0 0.0 0.0 0.0 0.0 0.0\n",
            "L  1.0 0.0 0.0 0.0 0.0 0.0 0.0 0.0 0.0 0.0 7.0 0.0 0.0 0.0 0.0 0.0 0.0 0.0 0.0 0.0 0.0\n",
            "I  1.0 0.0 0.0 0.0 0.0 0.0 0.0 0.0 6.0 0.0 1.0 0.0 0.0 0.0 0.0 0.0 0.0 0.0 0.0 0.0 0.0\n",
            "G  1.0 0.0 0.0 0.0 0.0 0.0 7.0 0.0 0.0 0.0 0.0 0.0 0.0 0.0 0.0 0.0 0.0 0.0 0.0 0.0 0.0\n",
            "A  1.0 7.0 0.0 0.0 0.0 0.0 0.0 0.0 0.0 0.0 0.0 0.0 0.0 0.0 0.0 0.0 0.0 0.0 0.0 0.0 0.0\n",
            "L  1.0 0.0 0.0 0.0 0.0 0.0 0.0 0.0 0.0 0.0 7.0 0.0 0.0 0.0 0.0 0.0 0.0 0.0 0.0 0.0 0.0\n",
            "L  1.0 0.0 0.0 0.0 0.0 0.0 0.0 0.0 0.0 0.0 7.0 0.0 0.0 0.0 0.0 0.0 0.0 0.0 0.0 0.0 0.0\n",
            "F  1.0 0.0 0.0 0.0 0.0 7.0 0.0 0.0 0.0 0.0 0.0 0.0 0.0 0.0 0.0 0.0 0.0 0.0 0.0 0.0 0.0\n",
            "D  1.0 0.0 0.0 7.0 0.0 0.0 0.0 0.0 0.0 0.0 0.0 0.0 0.0 0.0 0.0 0.0 0.0 0.0 0.0 0.0 0.0\n",
            "S  1.0 0.0 0.0 0.0 0.0 0.0 0.0 0.0 0.0 0.0 0.0 0.0 0.0 0.0 0.0 0.0 7.0 0.0 0.0 0.0 0.0\n",
            "G  1.0 0.0 0.0 0.0 0.0 0.0 7.0 0.0 0.0 0.0 0.0 0.0 0.0 0.0 0.0 0.0 0.0 0.0 0.0 0.0 0.0\n",
            "E  1.0 0.0 0.0 0.0 6.0 0.0 0.0 0.0 0.0 0.0 0.0 0.0 1.0 0.0 0.0 0.0 0.0 0.0 0.0 0.0 0.0\n",
            "T  1.0 0.0 0.0 0.0 0.0 0.0 0.0 0.0 0.0 0.0 0.0 0.0 0.0 0.0 0.0 0.0 0.0 7.0 0.0 0.0 0.0\n",
            "A  1.0 7.0 0.0 0.0 0.0 0.0 0.0 0.0 0.0 0.0 0.0 0.0 0.0 0.0 0.0 0.0 0.0 0.0 0.0 0.0 0.0\n",
            "E  1.0 0.0 0.0 0.0 7.0 0.0 0.0 0.0 0.0 0.0 0.0 0.0 0.0 0.0 0.0 0.0 0.0 0.0 0.0 0.0 0.0\n",
            "A  1.0 6.0 0.0 1.0 0.0 0.0 0.0 0.0 0.0 0.0 0.0 0.0 0.0 0.0 0.0 0.0 0.0 0.0 0.0 0.0 0.0\n",
            "T  1.0 0.0 0.0 0.0 0.0 0.0 0.0 0.0 0.0 0.0 0.0 0.0 0.0 0.0 0.0 1.0 0.0 6.0 0.0 0.0 0.0\n",
            "R  1.0 0.0 0.0 0.0 0.0 0.0 0.0 0.0 0.0 0.0 0.0 0.0 0.0 0.0 0.0 7.0 0.0 0.0 0.0 0.0 0.0\n",
            "L  1.0 0.0 0.0 0.0 0.0 0.0 0.0 0.0 0.0 0.0 7.0 0.0 0.0 0.0 0.0 0.0 0.0 0.0 0.0 0.0 0.0\n",
            "K  1.0 0.0 0.0 0.0 0.0 0.0 0.0 0.0 0.0 7.0 0.0 0.0 0.0 0.0 0.0 0.0 0.0 0.0 0.0 0.0 0.0\n",
            "R  1.0 0.0 0.0 0.0 0.0 0.0 0.0 0.0 0.0 0.0 0.0 0.0 0.0 0.0 0.0 7.0 0.0 0.0 0.0 0.0 0.0\n",
            "T  1.0 0.0 0.0 0.0 0.0 0.0 0.0 0.0 0.0 0.0 0.0 0.0 0.0 0.0 0.0 0.0 0.0 7.0 0.0 0.0 0.0\n",
            "A  1.0 7.0 0.0 0.0 0.0 0.0 0.0 0.0 0.0 0.0 0.0 0.0 0.0 0.0 0.0 0.0 0.0 0.0 0.0 0.0 0.0\n",
            "R  1.0 0.0 0.0 0.0 0.0 0.0 0.0 0.0 0.0 0.0 0.0 0.0 0.0 0.0 0.0 7.0 0.0 0.0 0.0 0.0 0.0\n",
            "R  1.0 0.0 0.0 0.0 0.0 0.0 0.0 0.0 0.0 0.0 0.0 0.0 0.0 0.0 0.0 7.0 0.0 0.0 0.0 0.0 0.0\n",
            "R  1.0 0.0 0.0 0.0 0.0 0.0 0.0 0.0 0.0 0.0 0.0 0.0 0.0 0.0 0.0 7.0 0.0 0.0 0.0 0.0 0.0\n",
            "Y  1.0 0.0 0.0 0.0 0.0 0.0 0.0 0.0 0.0 0.0 0.0 0.0 0.0 0.0 0.0 0.0 0.0 0.0 0.0 0.0 7.0\n",
            "T  1.0 0.0 0.0 0.0 0.0 0.0 0.0 0.0 0.0 0.0 0.0 0.0 0.0 0.0 0.0 0.0 0.0 7.0 0.0 0.0 0.0\n",
            "R  1.0 0.0 0.0 0.0 0.0 0.0 0.0 0.0 0.0 0.0 0.0 0.0 0.0 0.0 0.0 7.0 0.0 0.0 0.0 0.0 0.0\n",
            "R  1.0 0.0 0.0 0.0 0.0 0.0 0.0 0.0 0.0 0.0 0.0 0.0 0.0 0.0 0.0 7.0 0.0 0.0 0.0 0.0 0.0\n",
            "K  1.0 0.0 0.0 0.0 0.0 0.0 0.0 0.0 0.0 6.0 0.0 0.0 0.0 0.0 0.0 1.0 0.0 0.0 0.0 0.0 0.0\n",
            "N  1.0 0.0 0.0 0.0 0.0 0.0 0.0 0.0 0.0 0.0 0.0 0.0 7.0 0.0 0.0 0.0 0.0 0.0 0.0 0.0 0.0\n",
            "R  1.0 0.0 0.0 0.0 0.0 0.0 0.0 0.0 0.0 0.0 0.0 0.0 0.0 0.0 0.0 7.0 0.0 0.0 0.0 0.0 0.0\n",
            "I  1.0 0.0 0.0 0.0 0.0 0.0 0.0 0.0 7.0 0.0 0.0 0.0 0.0 0.0 0.0 0.0 0.0 0.0 0.0 0.0 0.0\n",
            "X  1.0 0.0 3.0 0.0 0.0 0.0 0.0 0.0 0.0 0.0 1.0 0.0 0.0 0.0 0.0 3.0 0.0 0.0 0.0 0.0 0.0\n",
            "Y  1.0 0.0 0.0 0.0 0.0 0.0 0.0 0.0 0.0 0.0 0.0 0.0 0.0 0.0 0.0 0.0 0.0 0.0 0.0 0.0 7.0\n",
            "L  1.0 0.0 0.0 0.0 0.0 0.0 0.0 0.0 0.0 0.0 7.0 0.0 0.0 0.0 0.0 0.0 0.0 0.0 0.0 0.0 0.0\n",
            "Q  1.0 0.0 0.0 0.0 0.0 0.0 0.0 0.0 0.0 0.0 0.0 0.0 0.0 0.0 7.0 0.0 0.0 0.0 0.0 0.0 0.0\n",
            "E  1.0 0.0 0.0 0.0 7.0 0.0 0.0 0.0 0.0 0.0 0.0 0.0 0.0 0.0 0.0 0.0 0.0 0.0 0.0 0.0 0.0\n",
            "I  1.0 0.0 0.0 0.0 0.0 0.0 0.0 0.0 7.0 0.0 0.0 0.0 0.0 0.0 0.0 0.0 0.0 0.0 0.0 0.0 0.0\n",
            "F  1.0 0.0 0.0 0.0 0.0 7.0 0.0 0.0 0.0 0.0 0.0 0.0 0.0 0.0 0.0 0.0 0.0 0.0 0.0 0.0 0.0\n",
            "S  1.0 0.0 0.0 0.0 0.0 0.0 0.0 0.0 0.0 0.0 0.0 0.0 0.0 0.0 0.0 0.0 7.0 0.0 0.0 0.0 0.0\n",
            "X  1.0 0.0 0.0 0.0 1.0 0.0 0.0 0.0 0.0 0.0 0.0 0.0 3.0 0.0 0.0 0.0 3.0 0.0 0.0 0.0 0.0\n",
            "E  1.0 0.0 0.0 0.0 7.0 0.0 0.0 0.0 0.0 0.0 0.0 0.0 0.0 0.0 0.0 0.0 0.0 0.0 0.0 0.0 0.0\n",
            "M  1.0 0.0 0.0 0.0 0.0 0.0 0.0 0.0 0.0 0.0 0.0 7.0 0.0 0.0 0.0 0.0 0.0 0.0 0.0 0.0 0.0\n",
            "X  1.0 3.0 0.0 0.0 0.0 0.0 1.0 0.0 0.0 0.0 0.0 0.0 0.0 0.0 0.0 0.0 3.0 0.0 0.0 0.0 0.0\n",
            "K  1.0 0.0 0.0 0.0 0.0 0.0 0.0 0.0 0.0 7.0 0.0 0.0 0.0 0.0 0.0 0.0 0.0 0.0 0.0 0.0 0.0\n",
            "V  1.0 0.0 0.0 0.0 0.0 0.0 0.0 0.0 0.0 0.0 0.0 0.0 0.0 0.0 0.0 0.0 0.0 0.0 7.0 0.0 0.0\n",
            "D  1.0 0.0 0.0 7.0 0.0 0.0 0.0 0.0 0.0 0.0 0.0 0.0 0.0 0.0 0.0 0.0 0.0 0.0 0.0 0.0 0.0\n",
            "D  1.0 0.0 0.0 7.0 0.0 0.0 0.0 0.0 0.0 0.0 0.0 0.0 0.0 0.0 0.0 0.0 0.0 0.0 0.0 0.0 0.0\n",
            "S  1.0 0.0 0.0 0.0 0.0 0.0 0.0 0.0 0.0 0.0 0.0 0.0 0.0 0.0 0.0 0.0 7.0 0.0 0.0 0.0 0.0\n",
            "F  1.0 0.0 0.0 0.0 0.0 7.0 0.0 0.0 0.0 0.0 0.0 0.0 0.0 0.0 0.0 0.0 0.0 0.0 0.0 0.0 0.0\n",
            "F  1.0 0.0 0.0 0.0 0.0 7.0 0.0 0.0 0.0 0.0 0.0 0.0 0.0 0.0 0.0 0.0 0.0 0.0 0.0 0.0 0.0\n",
            "H  1.0 0.0 0.0 0.0 0.0 0.0 0.0 7.0 0.0 0.0 0.0 0.0 0.0 0.0 0.0 0.0 0.0 0.0 0.0 0.0 0.0\n",
            "R  1.0 0.0 0.0 0.0 0.0 0.0 0.0 0.0 0.0 0.0 0.0 0.0 0.0 0.0 0.0 7.0 0.0 0.0 0.0 0.0 0.0\n",
            "L  1.0 0.0 0.0 0.0 0.0 0.0 0.0 0.0 0.0 0.0 7.0 0.0 0.0 0.0 0.0 0.0 0.0 0.0 0.0 0.0 0.0\n",
            "E  1.0 0.0 0.0 0.0 7.0 0.0 0.0 0.0 0.0 0.0 0.0 0.0 0.0 0.0 0.0 0.0 0.0 0.0 0.0 0.0 0.0\n",
            "E  1.0 0.0 0.0 1.0 6.0 0.0 0.0 0.0 0.0 0.0 0.0 0.0 0.0 0.0 0.0 0.0 0.0 0.0 0.0 0.0 0.0\n",
            "S  1.0 0.0 0.0 0.0 0.0 0.0 0.0 0.0 0.0 0.0 0.0 0.0 0.0 0.0 0.0 0.0 7.0 0.0 0.0 0.0 0.0\n",
            "F  1.0 0.0 0.0 0.0 0.0 7.0 0.0 0.0 0.0 0.0 0.0 0.0 0.0 0.0 0.0 0.0 0.0 0.0 0.0 0.0 0.0\n",
            "L  1.0 0.0 0.0 0.0 0.0 0.0 0.0 0.0 0.0 0.0 7.0 0.0 0.0 0.0 0.0 0.0 0.0 0.0 0.0 0.0 0.0\n",
            "V  1.0 0.0 0.0 0.0 0.0 0.0 0.0 0.0 0.0 0.0 0.0 0.0 0.0 0.0 0.0 0.0 0.0 0.0 7.0 0.0 0.0\n",
            "E  1.0 0.0 0.0 0.0 6.0 0.0 0.0 0.0 0.0 0.0 0.0 0.0 0.0 0.0 0.0 0.0 0.0 1.0 0.0 0.0 0.0\n",
            "E  1.0 0.0 0.0 0.0 7.0 0.0 0.0 0.0 0.0 0.0 0.0 0.0 0.0 0.0 0.0 0.0 0.0 0.0 0.0 0.0 0.0\n",
            "D  1.0 0.0 0.0 7.0 0.0 0.0 0.0 0.0 0.0 0.0 0.0 0.0 0.0 0.0 0.0 0.0 0.0 0.0 0.0 0.0 0.0\n",
            "K  1.0 0.0 0.0 0.0 0.0 0.0 0.0 0.0 0.0 7.0 0.0 0.0 0.0 0.0 0.0 0.0 0.0 0.0 0.0 0.0 0.0\n",
            "K  1.0 0.0 0.0 0.0 0.0 0.0 0.0 0.0 0.0 6.0 0.0 0.0 0.0 0.0 0.0 1.0 0.0 0.0 0.0 0.0 0.0\n",
            "H  1.0 0.0 0.0 0.0 0.0 0.0 1.0 6.0 0.0 0.0 0.0 0.0 0.0 0.0 0.0 0.0 0.0 0.0 0.0 0.0 0.0\n",
            "E  1.0 0.0 0.0 0.0 7.0 0.0 0.0 0.0 0.0 0.0 0.0 0.0 0.0 0.0 0.0 0.0 0.0 0.0 0.0 0.0 0.0\n",
            "R  1.0 0.0 0.0 0.0 0.0 0.0 0.0 0.0 0.0 0.0 0.0 0.0 0.0 0.0 0.0 7.0 0.0 0.0 0.0 0.0 0.0\n",
            "H  1.0 0.0 0.0 0.0 0.0 0.0 0.0 7.0 0.0 0.0 0.0 0.0 0.0 0.0 0.0 0.0 0.0 0.0 0.0 0.0 0.0\n",
            "P  1.0 0.0 0.0 0.0 0.0 0.0 0.0 0.0 0.0 0.0 0.0 0.0 0.0 7.0 0.0 0.0 0.0 0.0 0.0 0.0 0.0\n",
            "I  1.0 0.0 0.0 0.0 0.0 0.0 0.0 0.0 7.0 0.0 0.0 0.0 0.0 0.0 0.0 0.0 0.0 0.0 0.0 0.0 0.0\n",
            "F  1.0 0.0 0.0 0.0 0.0 7.0 0.0 0.0 0.0 0.0 0.0 0.0 0.0 0.0 0.0 0.0 0.0 0.0 0.0 0.0 0.0\n",
            "G  1.0 0.0 0.0 0.0 0.0 0.0 7.0 0.0 0.0 0.0 0.0 0.0 0.0 0.0 0.0 0.0 0.0 0.0 0.0 0.0 0.0\n",
            "N  1.0 0.0 0.0 0.0 0.0 0.0 0.0 0.0 0.0 0.0 0.0 0.0 7.0 0.0 0.0 0.0 0.0 0.0 0.0 0.0 0.0\n",
            "I  1.0 0.0 0.0 0.0 0.0 0.0 0.0 0.0 6.0 0.0 1.0 0.0 0.0 0.0 0.0 0.0 0.0 0.0 0.0 0.0 0.0\n",
            "V  1.0 0.0 0.0 0.0 1.0 0.0 0.0 0.0 0.0 0.0 0.0 0.0 0.0 0.0 0.0 0.0 0.0 0.0 6.0 0.0 0.0\n",
            "D  1.0 0.0 0.0 6.0 1.0 0.0 0.0 0.0 0.0 0.0 0.0 0.0 0.0 0.0 0.0 0.0 0.0 0.0 0.0 0.0 0.0\n",
            "E  1.0 0.0 0.0 0.0 7.0 0.0 0.0 0.0 0.0 0.0 0.0 0.0 0.0 0.0 0.0 0.0 0.0 0.0 0.0 0.0 0.0\n",
            "V  1.0 0.0 0.0 0.0 0.0 0.0 0.0 0.0 0.0 0.0 0.0 0.0 0.0 0.0 0.0 0.0 0.0 0.0 7.0 0.0 0.0\n",
            "A  1.0 6.0 0.0 0.0 0.0 0.0 0.0 0.0 0.0 1.0 0.0 0.0 0.0 0.0 0.0 0.0 0.0 0.0 0.0 0.0 0.0\n",
            "Y  1.0 0.0 0.0 0.0 0.0 0.0 0.0 0.0 0.0 0.0 0.0 0.0 0.0 0.0 0.0 0.0 0.0 0.0 0.0 0.0 7.0\n",
            "H  1.0 0.0 0.0 0.0 0.0 0.0 0.0 7.0 0.0 0.0 0.0 0.0 0.0 0.0 0.0 0.0 0.0 0.0 0.0 0.0 0.0\n",
            "E  1.0 0.0 0.0 0.0 7.0 0.0 0.0 0.0 0.0 0.0 0.0 0.0 0.0 0.0 0.0 0.0 0.0 0.0 0.0 0.0 0.0\n",
            "K  1.0 0.0 0.0 0.0 0.0 0.0 0.0 0.0 0.0 6.0 0.0 0.0 1.0 0.0 0.0 0.0 0.0 0.0 0.0 0.0 0.0\n",
            "Y  1.0 0.0 0.0 0.0 0.0 1.0 0.0 0.0 0.0 0.0 0.0 0.0 0.0 0.0 0.0 0.0 0.0 0.0 0.0 0.0 6.0\n",
            "P  1.0 0.0 0.0 0.0 0.0 0.0 0.0 0.0 0.0 0.0 0.0 0.0 0.0 7.0 0.0 0.0 0.0 0.0 0.0 0.0 0.0\n",
            "T  1.0 0.0 0.0 0.0 0.0 0.0 0.0 0.0 0.0 0.0 0.0 0.0 0.0 0.0 0.0 0.0 0.0 7.0 0.0 0.0 0.0\n",
            "I  1.0 0.0 0.0 0.0 0.0 0.0 0.0 0.0 7.0 0.0 0.0 0.0 0.0 0.0 0.0 0.0 0.0 0.0 0.0 0.0 0.0\n",
            "Y  1.0 0.0 0.0 0.0 0.0 0.0 0.0 0.0 0.0 0.0 0.0 0.0 0.0 0.0 0.0 0.0 0.0 0.0 0.0 0.0 7.0\n",
            "H  1.0 0.0 0.0 0.0 0.0 0.0 0.0 7.0 0.0 0.0 0.0 0.0 0.0 0.0 0.0 0.0 0.0 0.0 0.0 0.0 0.0\n",
            "L  1.0 0.0 0.0 0.0 0.0 0.0 0.0 0.0 0.0 0.0 7.0 0.0 0.0 0.0 0.0 0.0 0.0 0.0 0.0 0.0 0.0\n",
            "R  1.0 0.0 0.0 0.0 0.0 0.0 0.0 0.0 0.0 0.0 0.0 0.0 0.0 0.0 0.0 7.0 0.0 0.0 0.0 0.0 0.0\n",
            "K  1.0 0.0 0.0 0.0 0.0 0.0 0.0 0.0 0.0 6.0 0.0 0.0 0.0 0.0 1.0 0.0 0.0 0.0 0.0 0.0 0.0\n",
            "K  1.0 0.0 0.0 0.0 0.0 0.0 0.0 0.0 0.0 6.0 0.0 0.0 0.0 0.0 0.0 0.0 0.0 0.0 0.0 0.0 1.0\n",
            "L  1.0 0.0 0.0 0.0 0.0 0.0 0.0 0.0 0.0 0.0 7.0 0.0 0.0 0.0 0.0 0.0 0.0 0.0 0.0 0.0 0.0\n",
            "X  1.0 4.0 0.0 0.0 0.0 0.0 0.0 0.0 0.0 0.0 0.0 0.0 0.0 0.0 0.0 0.0 0.0 0.0 3.0 0.0 0.0\n",
            "D  1.0 0.0 0.0 7.0 0.0 0.0 0.0 0.0 0.0 0.0 0.0 0.0 0.0 0.0 0.0 0.0 0.0 0.0 0.0 0.0 0.0\n",
            "S  1.0 0.0 0.0 0.0 0.0 0.0 0.0 0.0 0.0 0.0 0.0 0.0 1.0 0.0 0.0 0.0 6.0 0.0 0.0 0.0 0.0\n",
            "T  1.0 0.0 0.0 0.0 0.0 0.0 0.0 0.0 0.0 0.0 0.0 0.0 0.0 1.0 0.0 0.0 0.0 6.0 0.0 0.0 0.0\n",
            "D  1.0 0.0 0.0 6.0 1.0 0.0 0.0 0.0 0.0 0.0 0.0 0.0 0.0 0.0 0.0 0.0 0.0 0.0 0.0 0.0 0.0\n",
            "K  1.0 0.0 0.0 0.0 0.0 0.0 0.0 0.0 0.0 7.0 0.0 0.0 0.0 0.0 0.0 0.0 0.0 0.0 0.0 0.0 0.0\n",
            "A  1.0 6.0 0.0 0.0 0.0 0.0 0.0 0.0 0.0 0.0 0.0 0.0 0.0 0.0 0.0 0.0 0.0 1.0 0.0 0.0 0.0\n",
            "D  1.0 0.0 0.0 7.0 0.0 0.0 0.0 0.0 0.0 0.0 0.0 0.0 0.0 0.0 0.0 0.0 0.0 0.0 0.0 0.0 0.0\n",
            "L  1.0 0.0 0.0 0.0 0.0 0.0 0.0 0.0 0.0 0.0 7.0 0.0 0.0 0.0 0.0 0.0 0.0 0.0 0.0 0.0 0.0\n",
            "R  1.0 0.0 0.0 0.0 0.0 0.0 0.0 0.0 0.0 0.0 0.0 0.0 0.0 0.0 0.0 7.0 0.0 0.0 0.0 0.0 0.0\n",
            "L  1.0 0.0 0.0 0.0 0.0 0.0 0.0 0.0 0.0 0.0 7.0 0.0 0.0 0.0 0.0 0.0 0.0 0.0 0.0 0.0 0.0\n",
            "I  1.0 0.0 0.0 0.0 0.0 0.0 0.0 0.0 6.0 0.0 0.0 0.0 0.0 0.0 0.0 0.0 0.0 0.0 1.0 0.0 0.0\n",
            "Y  1.0 0.0 0.0 0.0 0.0 0.0 0.0 0.0 0.0 0.0 0.0 0.0 0.0 0.0 0.0 0.0 0.0 0.0 0.0 0.0 7.0\n",
            "L  1.0 0.0 0.0 0.0 0.0 0.0 0.0 0.0 0.0 0.0 7.0 0.0 0.0 0.0 0.0 0.0 0.0 0.0 0.0 0.0 0.0\n",
            "A  1.0 7.0 0.0 0.0 0.0 0.0 0.0 0.0 0.0 0.0 0.0 0.0 0.0 0.0 0.0 0.0 0.0 0.0 0.0 0.0 0.0\n",
            "L  1.0 0.0 0.0 0.0 0.0 0.0 0.0 0.0 0.0 0.0 7.0 0.0 0.0 0.0 0.0 0.0 0.0 0.0 0.0 0.0 0.0\n",
            "A  1.0 7.0 0.0 0.0 0.0 0.0 0.0 0.0 0.0 0.0 0.0 0.0 0.0 0.0 0.0 0.0 0.0 0.0 0.0 0.0 0.0\n",
            "H  1.0 0.0 0.0 0.0 0.0 0.0 0.0 7.0 0.0 0.0 0.0 0.0 0.0 0.0 0.0 0.0 0.0 0.0 0.0 0.0 0.0\n",
            "M  1.0 0.0 0.0 0.0 0.0 0.0 0.0 0.0 1.0 0.0 0.0 6.0 0.0 0.0 0.0 0.0 0.0 0.0 0.0 0.0 0.0\n",
            "I  1.0 0.0 0.0 0.0 0.0 0.0 0.0 0.0 7.0 0.0 0.0 0.0 0.0 0.0 0.0 0.0 0.0 0.0 0.0 0.0 0.0\n",
            "K  1.0 0.0 0.0 0.0 0.0 0.0 0.0 0.0 0.0 7.0 0.0 0.0 0.0 0.0 0.0 0.0 0.0 0.0 0.0 0.0 0.0\n",
            "F  1.0 0.0 0.0 0.0 0.0 7.0 0.0 0.0 0.0 0.0 0.0 0.0 0.0 0.0 0.0 0.0 0.0 0.0 0.0 0.0 0.0\n",
            "R  1.0 0.0 0.0 0.0 0.0 0.0 1.0 0.0 0.0 0.0 0.0 0.0 0.0 0.0 0.0 6.0 0.0 0.0 0.0 0.0 0.0\n",
            "G  1.0 0.0 0.0 0.0 0.0 0.0 7.0 0.0 0.0 0.0 0.0 0.0 0.0 0.0 0.0 0.0 0.0 0.0 0.0 0.0 0.0\n",
            "H  1.0 0.0 0.0 0.0 0.0 0.0 0.0 7.0 0.0 0.0 0.0 0.0 0.0 0.0 0.0 0.0 0.0 0.0 0.0 0.0 0.0\n",
            "F  1.0 0.0 0.0 0.0 0.0 7.0 0.0 0.0 0.0 0.0 0.0 0.0 0.0 0.0 0.0 0.0 0.0 0.0 0.0 0.0 0.0\n",
            "L  1.0 0.0 0.0 0.0 0.0 0.0 0.0 0.0 0.0 0.0 7.0 0.0 0.0 0.0 0.0 0.0 0.0 0.0 0.0 0.0 0.0\n",
            "I  1.0 0.0 0.0 0.0 0.0 0.0 0.0 0.0 7.0 0.0 0.0 0.0 0.0 0.0 0.0 0.0 0.0 0.0 0.0 0.0 0.0\n",
            "E  1.0 0.0 0.0 0.0 7.0 0.0 0.0 0.0 0.0 0.0 0.0 0.0 0.0 0.0 0.0 0.0 0.0 0.0 0.0 0.0 0.0\n",
            "G  1.0 0.0 0.0 0.0 0.0 0.0 7.0 0.0 0.0 0.0 0.0 0.0 0.0 0.0 0.0 0.0 0.0 0.0 0.0 0.0 0.0\n",
            "D  1.0 0.0 0.0 6.0 0.0 0.0 0.0 0.0 0.0 1.0 0.0 0.0 0.0 0.0 0.0 0.0 0.0 0.0 0.0 0.0 0.0\n",
            "L  1.0 0.0 0.0 0.0 0.0 1.0 0.0 0.0 0.0 0.0 6.0 0.0 0.0 0.0 0.0 0.0 0.0 0.0 0.0 0.0 0.0\n",
            "N  1.0 0.0 0.0 1.0 0.0 0.0 0.0 0.0 0.0 0.0 0.0 0.0 6.0 0.0 0.0 0.0 0.0 0.0 0.0 0.0 0.0\n",
            "P  1.0 0.0 0.0 0.0 0.0 0.0 0.0 0.0 0.0 0.0 0.0 0.0 0.0 6.0 0.0 0.0 0.0 1.0 0.0 0.0 0.0\n",
            "D  1.0 0.0 0.0 6.0 0.0 0.0 0.0 0.0 0.0 0.0 0.0 0.0 0.0 0.0 0.0 1.0 0.0 0.0 0.0 0.0 0.0\n",
            "N  1.0 0.0 0.0 0.0 0.0 0.0 0.0 0.0 0.0 0.0 0.0 0.0 7.0 0.0 0.0 0.0 0.0 0.0 0.0 0.0 0.0\n",
            "S  1.0 0.0 0.0 0.0 0.0 0.0 0.0 0.0 0.0 0.0 0.0 0.0 1.0 0.0 0.0 0.0 6.0 0.0 0.0 0.0 0.0\n",
            "D  1.0 0.0 0.0 7.0 0.0 0.0 0.0 0.0 0.0 0.0 0.0 0.0 0.0 0.0 0.0 0.0 0.0 0.0 0.0 0.0 0.0\n",
            "V  1.0 0.0 0.0 0.0 0.0 0.0 0.0 0.0 0.0 0.0 0.0 2.0 0.0 0.0 0.0 0.0 0.0 0.0 5.0 0.0 0.0\n",
            "D  1.0 0.0 0.0 6.0 0.0 0.0 0.0 0.0 0.0 0.0 0.0 0.0 0.0 0.0 1.0 0.0 0.0 0.0 0.0 0.0 0.0\n",
            "K  1.0 0.0 0.0 0.0 0.0 0.0 0.0 0.0 0.0 6.0 0.0 0.0 0.0 0.0 0.0 1.0 0.0 0.0 0.0 0.0 0.0\n",
            "L  1.0 0.0 0.0 0.0 0.0 0.0 0.0 0.0 0.0 0.0 7.0 0.0 0.0 0.0 0.0 0.0 0.0 0.0 0.0 0.0 0.0\n",
            "F  1.0 0.0 0.0 0.0 0.0 7.0 0.0 0.0 0.0 0.0 0.0 0.0 0.0 0.0 0.0 0.0 0.0 0.0 0.0 0.0 0.0\n",
            "I  1.0 0.0 0.0 0.0 0.0 0.0 0.0 0.0 6.0 0.0 0.0 0.0 0.0 0.0 1.0 0.0 0.0 0.0 0.0 0.0 0.0\n",
            "Q  1.0 0.0 0.0 0.0 1.0 0.0 0.0 0.0 0.0 0.0 0.0 0.0 0.0 0.0 6.0 0.0 0.0 0.0 0.0 0.0 0.0\n",
            "L  1.0 0.0 0.0 0.0 0.0 1.0 0.0 0.0 0.0 0.0 6.0 0.0 0.0 0.0 0.0 0.0 0.0 0.0 0.0 0.0 0.0\n",
            "V  1.0 0.0 0.0 0.0 0.0 0.0 0.0 0.0 0.0 0.0 1.0 0.0 0.0 0.0 0.0 0.0 0.0 0.0 6.0 0.0 0.0\n",
            "Q  1.0 1.0 0.0 0.0 0.0 0.0 0.0 0.0 0.0 0.0 0.0 0.0 0.0 0.0 6.0 0.0 0.0 0.0 0.0 0.0 0.0\n",
            "T  1.0 0.0 0.0 0.0 0.0 0.0 0.0 0.0 0.0 0.0 0.0 0.0 0.0 0.0 0.0 0.0 0.0 6.0 1.0 0.0 0.0\n",
            "Y  1.0 0.0 0.0 0.0 0.0 0.0 0.0 0.0 0.0 0.0 0.0 0.0 0.0 0.0 0.0 0.0 0.0 0.0 0.0 0.0 7.0\n",
            "N  1.0 0.0 0.0 1.0 0.0 0.0 0.0 0.0 0.0 0.0 0.0 0.0 6.0 0.0 0.0 0.0 0.0 0.0 0.0 0.0 0.0\n",
            "Q  1.0 0.0 0.0 0.0 0.0 0.0 0.0 0.0 0.0 0.0 0.0 0.0 1.0 0.0 6.0 0.0 0.0 0.0 0.0 0.0 0.0\n",
            "L  1.0 0.0 0.0 0.0 0.0 0.0 0.0 0.0 0.0 0.0 6.0 0.0 0.0 0.0 0.0 0.0 0.0 1.0 0.0 0.0 0.0\n",
            "F  1.0 0.0 0.0 0.0 0.0 7.0 0.0 0.0 0.0 0.0 0.0 0.0 0.0 0.0 0.0 0.0 0.0 0.0 0.0 0.0 0.0\n",
            "E  1.0 0.0 0.0 0.0 7.0 0.0 0.0 0.0 0.0 0.0 0.0 0.0 0.0 0.0 0.0 0.0 0.0 0.0 0.0 0.0 0.0\n",
            "E  1.0 0.0 0.0 0.0 6.0 0.0 0.0 0.0 0.0 0.0 0.0 0.0 1.0 0.0 0.0 0.0 0.0 0.0 0.0 0.0 0.0\n",
            "N  1.0 0.0 0.0 0.0 0.0 0.0 0.0 0.0 0.0 0.0 0.0 0.0 6.0 0.0 0.0 0.0 1.0 0.0 0.0 0.0 0.0\n",
            "P  1.0 0.0 0.0 0.0 0.0 0.0 0.0 0.0 0.0 0.0 0.0 0.0 0.0 6.0 0.0 0.0 1.0 0.0 0.0 0.0 0.0\n",
            "I  1.0 0.0 0.0 0.0 0.0 0.0 0.0 0.0 6.0 0.0 1.0 0.0 0.0 0.0 0.0 0.0 0.0 0.0 0.0 0.0 0.0\n",
            "N  1.0 0.0 0.0 0.0 0.0 0.0 0.0 0.0 0.0 0.0 0.0 0.0 6.0 0.0 1.0 0.0 0.0 0.0 0.0 0.0 0.0\n",
            "A  1.0 6.0 0.0 0.0 1.0 0.0 0.0 0.0 0.0 0.0 0.0 0.0 0.0 0.0 0.0 0.0 0.0 0.0 0.0 0.0 0.0\n",
            "S  1.0 0.0 0.0 0.0 0.0 0.0 0.0 0.0 0.0 0.0 0.0 0.0 0.0 0.0 1.0 0.0 6.0 0.0 0.0 0.0 0.0\n",
            "X  1.0 0.0 0.0 0.0 0.0 0.0 3.0 0.0 0.0 0.0 0.0 0.0 1.0 0.0 0.0 3.0 0.0 0.0 0.0 0.0 0.0\n",
            "V  1.0 0.0 0.0 0.0 0.0 0.0 0.0 0.0 0.0 0.0 0.0 0.0 0.0 0.0 0.0 0.0 0.0 0.0 7.0 0.0 0.0\n",
            "D  1.0 0.0 0.0 6.0 0.0 0.0 0.0 0.0 0.0 0.0 0.0 0.0 0.0 0.0 1.0 0.0 0.0 0.0 0.0 0.0 0.0\n",
            "A  1.0 6.0 0.0 0.0 0.0 0.0 0.0 0.0 0.0 0.0 0.0 0.0 0.0 0.0 0.0 0.0 0.0 0.0 1.0 0.0 0.0\n",
            "K  1.0 0.0 0.0 0.0 1.0 0.0 0.0 0.0 0.0 6.0 0.0 0.0 0.0 0.0 0.0 0.0 0.0 0.0 0.0 0.0 0.0\n",
            "A  1.0 6.0 0.0 0.0 1.0 0.0 0.0 0.0 0.0 0.0 0.0 0.0 0.0 0.0 0.0 0.0 0.0 0.0 0.0 0.0 0.0\n",
            "I  1.0 0.0 0.0 0.0 0.0 0.0 0.0 0.0 7.0 0.0 0.0 0.0 0.0 0.0 0.0 0.0 0.0 0.0 0.0 0.0 0.0\n",
            "L  1.0 0.0 0.0 0.0 0.0 0.0 0.0 0.0 0.0 0.0 7.0 0.0 0.0 0.0 0.0 0.0 0.0 0.0 0.0 0.0 0.0\n",
            "S  1.0 0.0 0.0 0.0 0.0 0.0 0.0 0.0 0.0 0.0 0.0 0.0 0.0 0.0 0.0 0.0 6.0 1.0 0.0 0.0 0.0\n",
            "A  1.0 6.0 0.0 1.0 0.0 0.0 0.0 0.0 0.0 0.0 0.0 0.0 0.0 0.0 0.0 0.0 0.0 0.0 0.0 0.0 0.0\n",
            "R  1.0 0.0 0.0 0.0 0.0 0.0 0.0 0.0 0.0 1.0 0.0 0.0 0.0 0.0 0.0 6.0 0.0 0.0 0.0 0.0 0.0\n",
            "L  1.0 0.0 0.0 0.0 0.0 0.0 0.0 0.0 1.0 0.0 6.0 0.0 0.0 0.0 0.0 0.0 0.0 0.0 0.0 0.0 0.0\n",
            "S  1.0 0.0 0.0 0.0 0.0 0.0 0.0 0.0 0.0 0.0 0.0 0.0 0.0 0.0 0.0 0.0 7.0 0.0 0.0 0.0 0.0\n",
            "K  1.0 0.0 0.0 0.0 0.0 0.0 0.0 0.0 0.0 7.0 0.0 0.0 0.0 0.0 0.0 0.0 0.0 0.0 0.0 0.0 0.0\n",
            "S  1.0 0.0 0.0 0.0 0.0 0.0 0.0 0.0 0.0 0.0 0.0 0.0 0.0 0.0 0.0 0.0 7.0 0.0 0.0 0.0 0.0\n",
            "R  1.0 1.0 0.0 0.0 0.0 0.0 0.0 0.0 0.0 0.0 0.0 0.0 0.0 0.0 0.0 6.0 0.0 0.0 0.0 0.0 0.0\n",
            "R  1.0 0.0 0.0 0.0 0.0 0.0 0.0 0.0 0.0 1.0 0.0 0.0 0.0 0.0 0.0 6.0 0.0 0.0 0.0 0.0 0.0\n",
            "L  1.0 0.0 0.0 0.0 0.0 0.0 0.0 0.0 0.0 1.0 6.0 0.0 0.0 0.0 0.0 0.0 0.0 0.0 0.0 0.0 0.0\n",
            "E  1.0 0.0 0.0 1.0 6.0 0.0 0.0 0.0 0.0 0.0 0.0 0.0 0.0 0.0 0.0 0.0 0.0 0.0 0.0 0.0 0.0\n",
            "N  1.0 0.0 0.0 0.0 0.0 0.0 0.0 0.0 0.0 0.0 0.0 0.0 6.0 0.0 0.0 1.0 0.0 0.0 0.0 0.0 0.0\n",
            "L  1.0 0.0 0.0 0.0 0.0 0.0 0.0 0.0 0.0 0.0 6.0 0.0 0.0 0.0 0.0 0.0 0.0 0.0 1.0 0.0 0.0\n",
            "I  1.0 0.0 0.0 0.0 0.0 0.0 0.0 0.0 6.0 0.0 1.0 0.0 0.0 0.0 0.0 0.0 0.0 0.0 0.0 0.0 0.0\n",
            "A  1.0 6.0 0.0 0.0 0.0 0.0 0.0 0.0 0.0 1.0 0.0 0.0 0.0 0.0 0.0 0.0 0.0 0.0 0.0 0.0 0.0\n",
            "Q  1.0 0.0 0.0 0.0 0.0 0.0 0.0 0.0 0.0 0.0 1.0 0.0 0.0 0.0 6.0 0.0 0.0 0.0 0.0 0.0 0.0\n",
            "L  1.0 0.0 0.0 0.0 0.0 1.0 0.0 0.0 0.0 0.0 6.0 0.0 0.0 0.0 0.0 0.0 0.0 0.0 0.0 0.0 0.0\n",
            "P  1.0 0.0 0.0 0.0 0.0 0.0 0.0 0.0 0.0 0.0 0.0 0.0 0.0 7.0 0.0 0.0 0.0 0.0 0.0 0.0 0.0\n",
            "G  1.0 0.0 0.0 0.0 0.0 0.0 6.0 0.0 0.0 0.0 0.0 0.0 1.0 0.0 0.0 0.0 0.0 0.0 0.0 0.0 0.0\n",
            "E  1.0 0.0 0.0 0.0 7.0 0.0 0.0 0.0 0.0 0.0 0.0 0.0 0.0 0.0 0.0 0.0 0.0 0.0 0.0 0.0 0.0\n",
            "K  1.0 0.0 0.0 0.0 0.0 0.0 0.0 0.0 0.0 7.0 0.0 0.0 0.0 0.0 0.0 0.0 0.0 0.0 0.0 0.0 0.0\n",
            "X  1.0 0.0 0.0 0.0 0.0 0.0 0.0 0.0 0.0 3.0 0.0 0.0 0.0 0.0 0.0 3.0 1.0 0.0 0.0 0.0 0.0\n",
            "N  1.0 0.0 0.0 0.0 0.0 0.0 0.0 0.0 0.0 0.0 0.0 0.0 7.0 0.0 0.0 0.0 0.0 0.0 0.0 0.0 0.0\n",
            "G  1.0 0.0 0.0 0.0 0.0 0.0 7.0 0.0 0.0 0.0 0.0 0.0 0.0 0.0 0.0 0.0 0.0 0.0 0.0 0.0 0.0\n",
            "L  1.0 0.0 0.0 0.0 0.0 0.0 0.0 0.0 0.0 0.0 6.0 0.0 0.0 0.0 0.0 1.0 0.0 0.0 0.0 0.0 0.0\n",
            "F  1.0 0.0 0.0 0.0 0.0 7.0 0.0 0.0 0.0 0.0 0.0 0.0 0.0 0.0 0.0 0.0 0.0 0.0 0.0 0.0 0.0\n",
            "G  1.0 1.0 0.0 0.0 0.0 0.0 6.0 0.0 0.0 0.0 0.0 0.0 0.0 0.0 0.0 0.0 0.0 0.0 0.0 0.0 0.0\n",
            "N  1.0 0.0 0.0 0.0 1.0 0.0 0.0 0.0 0.0 0.0 0.0 0.0 6.0 0.0 0.0 0.0 0.0 0.0 0.0 0.0 0.0\n",
            "L  1.0 0.0 0.0 0.0 0.0 1.0 0.0 0.0 0.0 0.0 6.0 0.0 0.0 0.0 0.0 0.0 0.0 0.0 0.0 0.0 0.0\n",
            "I  1.0 0.0 0.0 0.0 0.0 0.0 0.0 0.0 6.0 0.0 1.0 0.0 0.0 0.0 0.0 0.0 0.0 0.0 0.0 0.0 0.0\n",
            "A  1.0 6.0 0.0 0.0 0.0 0.0 0.0 0.0 0.0 1.0 0.0 0.0 0.0 0.0 0.0 0.0 0.0 0.0 0.0 0.0 0.0\n",
            "L  1.0 0.0 0.0 0.0 0.0 0.0 0.0 0.0 0.0 0.0 7.0 0.0 0.0 0.0 0.0 0.0 0.0 0.0 0.0 0.0 0.0\n",
            "S  1.0 0.0 0.0 0.0 0.0 0.0 0.0 0.0 1.0 0.0 0.0 0.0 0.0 0.0 0.0 0.0 6.0 0.0 0.0 0.0 0.0\n",
            "L  1.0 0.0 0.0 0.0 0.0 0.0 0.0 0.0 0.0 0.0 6.0 0.0 0.0 0.0 0.0 0.0 0.0 0.0 1.0 0.0 0.0\n",
            "G  1.0 0.0 0.0 0.0 0.0 0.0 7.0 0.0 0.0 0.0 0.0 0.0 0.0 0.0 0.0 0.0 0.0 0.0 0.0 0.0 0.0\n",
            "L  1.0 0.0 0.0 0.0 0.0 0.0 0.0 0.0 0.0 0.0 6.0 0.0 1.0 0.0 0.0 0.0 0.0 0.0 0.0 0.0 0.0\n",
            "T  1.0 0.0 0.0 0.0 0.0 0.0 0.0 0.0 0.0 0.0 0.0 0.0 0.0 0.0 1.0 0.0 0.0 6.0 0.0 0.0 0.0\n",
            "P  1.0 1.0 0.0 0.0 0.0 0.0 0.0 0.0 0.0 0.0 0.0 0.0 0.0 6.0 0.0 0.0 0.0 0.0 0.0 0.0 0.0\n",
            "N  1.0 0.0 0.0 1.0 0.0 0.0 0.0 0.0 0.0 0.0 0.0 0.0 6.0 0.0 0.0 0.0 0.0 0.0 0.0 0.0 0.0\n",
            "F  1.0 0.0 0.0 0.0 0.0 7.0 0.0 0.0 0.0 0.0 0.0 0.0 0.0 0.0 0.0 0.0 0.0 0.0 0.0 0.0 0.0\n",
            "K  1.0 0.0 0.0 0.0 0.0 0.0 0.0 0.0 0.0 7.0 0.0 0.0 0.0 0.0 0.0 0.0 0.0 0.0 0.0 0.0 0.0\n",
            "S  1.0 0.0 0.0 0.0 0.0 0.0 0.0 0.0 0.0 1.0 0.0 0.0 0.0 0.0 0.0 0.0 6.0 0.0 0.0 0.0 0.0\n",
            "N  1.0 0.0 0.0 0.0 0.0 0.0 0.0 1.0 0.0 0.0 0.0 0.0 6.0 0.0 0.0 0.0 0.0 0.0 0.0 0.0 0.0\n",
            "F  1.0 0.0 0.0 0.0 0.0 7.0 0.0 0.0 0.0 0.0 0.0 0.0 0.0 0.0 0.0 0.0 0.0 0.0 0.0 0.0 0.0\n",
            "D  1.0 0.0 0.0 6.0 1.0 0.0 0.0 0.0 0.0 0.0 0.0 0.0 0.0 0.0 0.0 0.0 0.0 0.0 0.0 0.0 0.0\n",
            "L  1.0 0.0 0.0 0.0 0.0 0.0 0.0 0.0 0.0 0.0 7.0 0.0 0.0 0.0 0.0 0.0 0.0 0.0 0.0 0.0 0.0\n",
            "A  1.0 6.0 0.0 0.0 1.0 0.0 0.0 0.0 0.0 0.0 0.0 0.0 0.0 0.0 0.0 0.0 0.0 0.0 0.0 0.0 0.0\n",
            "E  1.0 0.0 0.0 0.0 7.0 0.0 0.0 0.0 0.0 0.0 0.0 0.0 0.0 0.0 0.0 0.0 0.0 0.0 0.0 0.0 0.0\n",
            "D  1.0 0.0 0.0 6.0 0.0 0.0 0.0 0.0 0.0 1.0 0.0 0.0 0.0 0.0 0.0 0.0 0.0 0.0 0.0 0.0 0.0\n",
            "A  1.0 7.0 0.0 0.0 0.0 0.0 0.0 0.0 0.0 0.0 0.0 0.0 0.0 0.0 0.0 0.0 0.0 0.0 0.0 0.0 0.0\n",
            "K  1.0 0.0 0.0 0.0 0.0 0.0 0.0 0.0 0.0 6.0 0.0 0.0 0.0 1.0 0.0 0.0 0.0 0.0 0.0 0.0 0.0\n",
            "L  1.0 0.0 0.0 0.0 0.0 0.0 0.0 0.0 0.0 0.0 7.0 0.0 0.0 0.0 0.0 0.0 0.0 0.0 0.0 0.0 0.0\n",
            "Q  1.0 0.0 0.0 0.0 0.0 0.0 0.0 0.0 0.0 0.0 0.0 0.0 0.0 0.0 7.0 0.0 0.0 0.0 0.0 0.0 0.0\n",
            "L  1.0 0.0 0.0 0.0 0.0 1.0 0.0 0.0 0.0 0.0 6.0 0.0 0.0 0.0 0.0 0.0 0.0 0.0 0.0 0.0 0.0\n",
            "S  1.0 0.0 0.0 0.0 0.0 0.0 0.0 0.0 0.0 0.0 0.0 0.0 0.0 0.0 0.0 0.0 7.0 0.0 0.0 0.0 0.0\n",
            "K  1.0 0.0 0.0 0.0 0.0 0.0 0.0 0.0 0.0 7.0 0.0 0.0 0.0 0.0 0.0 0.0 0.0 0.0 0.0 0.0 0.0\n",
            "D  1.0 0.0 0.0 7.0 0.0 0.0 0.0 0.0 0.0 0.0 0.0 0.0 0.0 0.0 0.0 0.0 0.0 0.0 0.0 0.0 0.0\n",
            "T  1.0 0.0 0.0 0.0 0.0 0.0 0.0 0.0 1.0 0.0 0.0 0.0 0.0 0.0 0.0 0.0 0.0 6.0 0.0 0.0 0.0\n",
            "Y  1.0 0.0 0.0 0.0 0.0 0.0 0.0 0.0 0.0 0.0 0.0 0.0 0.0 0.0 0.0 0.0 0.0 0.0 0.0 0.0 7.0\n",
            "D  1.0 0.0 0.0 6.0 1.0 0.0 0.0 0.0 0.0 0.0 0.0 0.0 0.0 0.0 0.0 0.0 0.0 0.0 0.0 0.0 0.0\n",
            "D  1.0 0.0 0.0 6.0 1.0 0.0 0.0 0.0 0.0 0.0 0.0 0.0 0.0 0.0 0.0 0.0 0.0 0.0 0.0 0.0 0.0\n",
            "D  1.0 0.0 0.0 6.0 1.0 0.0 0.0 0.0 0.0 0.0 0.0 0.0 0.0 0.0 0.0 0.0 0.0 0.0 0.0 0.0 0.0\n",
            "L  1.0 0.0 0.0 0.0 0.0 0.0 0.0 0.0 0.0 0.0 7.0 0.0 0.0 0.0 0.0 0.0 0.0 0.0 0.0 0.0 0.0\n",
            "D  1.0 0.0 0.0 6.0 1.0 0.0 0.0 0.0 0.0 0.0 0.0 0.0 0.0 0.0 0.0 0.0 0.0 0.0 0.0 0.0 0.0\n",
            "N  1.0 0.0 0.0 0.0 0.0 0.0 0.0 0.0 0.0 0.0 0.0 0.0 6.0 0.0 0.0 0.0 0.0 0.0 1.0 0.0 0.0\n",
            "L  1.0 0.0 0.0 0.0 0.0 0.0 0.0 0.0 0.0 0.0 7.0 0.0 0.0 0.0 0.0 0.0 0.0 0.0 0.0 0.0 0.0\n",
            "L  1.0 0.0 0.0 0.0 0.0 0.0 0.0 0.0 0.0 0.0 7.0 0.0 0.0 0.0 0.0 0.0 0.0 0.0 0.0 0.0 0.0\n",
            "A  1.0 7.0 0.0 0.0 0.0 0.0 0.0 0.0 0.0 0.0 0.0 0.0 0.0 0.0 0.0 0.0 0.0 0.0 0.0 0.0 0.0\n",
            "Q  1.0 0.0 0.0 0.0 0.0 0.0 0.0 0.0 0.0 0.0 0.0 0.0 0.0 0.0 7.0 0.0 0.0 0.0 0.0 0.0 0.0\n",
            "I  1.0 0.0 0.0 0.0 0.0 0.0 0.0 0.0 7.0 0.0 0.0 0.0 0.0 0.0 0.0 0.0 0.0 0.0 0.0 0.0 0.0\n",
            "G  1.0 0.0 0.0 0.0 0.0 0.0 7.0 0.0 0.0 0.0 0.0 0.0 0.0 0.0 0.0 0.0 0.0 0.0 0.0 0.0 0.0\n",
            "D  1.0 0.0 0.0 7.0 0.0 0.0 0.0 0.0 0.0 0.0 0.0 0.0 0.0 0.0 0.0 0.0 0.0 0.0 0.0 0.0 0.0\n",
            "Q  1.0 0.0 0.0 0.0 0.0 0.0 0.0 0.0 0.0 0.0 0.0 0.0 1.0 0.0 6.0 0.0 0.0 0.0 0.0 0.0 0.0\n",
            "Y  1.0 0.0 0.0 0.0 0.0 0.0 0.0 0.0 0.0 0.0 0.0 0.0 0.0 0.0 0.0 0.0 0.0 0.0 0.0 0.0 7.0\n",
            "A  1.0 7.0 0.0 0.0 0.0 0.0 0.0 0.0 0.0 0.0 0.0 0.0 0.0 0.0 0.0 0.0 0.0 0.0 0.0 0.0 0.0\n",
            "D  1.0 0.0 0.0 6.0 1.0 0.0 0.0 0.0 0.0 0.0 0.0 0.0 0.0 0.0 0.0 0.0 0.0 0.0 0.0 0.0 0.0\n",
            "L  1.0 0.0 0.0 0.0 0.0 0.0 0.0 0.0 0.0 0.0 7.0 0.0 0.0 0.0 0.0 0.0 0.0 0.0 0.0 0.0 0.0\n",
            "F  1.0 0.0 0.0 0.0 0.0 7.0 0.0 0.0 0.0 0.0 0.0 0.0 0.0 0.0 0.0 0.0 0.0 0.0 0.0 0.0 0.0\n",
            "L  1.0 0.0 0.0 0.0 0.0 0.0 0.0 0.0 0.0 0.0 7.0 0.0 0.0 0.0 0.0 0.0 0.0 0.0 0.0 0.0 0.0\n",
            "A  1.0 6.0 0.0 0.0 0.0 0.0 0.0 0.0 0.0 0.0 0.0 0.0 0.0 0.0 0.0 0.0 1.0 0.0 0.0 0.0 0.0\n",
            "A  1.0 7.0 0.0 0.0 0.0 0.0 0.0 0.0 0.0 0.0 0.0 0.0 0.0 0.0 0.0 0.0 0.0 0.0 0.0 0.0 0.0\n",
            "K  1.0 0.0 0.0 0.0 0.0 0.0 0.0 0.0 0.0 7.0 0.0 0.0 0.0 0.0 0.0 0.0 0.0 0.0 0.0 0.0 0.0\n",
            "N  1.0 0.0 0.0 0.0 0.0 0.0 0.0 0.0 0.0 1.0 0.0 0.0 6.0 0.0 0.0 0.0 0.0 0.0 0.0 0.0 0.0\n",
            "L  1.0 0.0 0.0 0.0 0.0 0.0 0.0 0.0 0.0 0.0 7.0 0.0 0.0 0.0 0.0 0.0 0.0 0.0 0.0 0.0 0.0\n",
            "S  1.0 0.0 0.0 0.0 0.0 0.0 0.0 0.0 0.0 0.0 0.0 0.0 0.0 0.0 0.0 0.0 6.0 0.0 0.0 0.0 1.0\n",
            "D  1.0 0.0 0.0 7.0 0.0 0.0 0.0 0.0 0.0 0.0 0.0 0.0 0.0 0.0 0.0 0.0 0.0 0.0 0.0 0.0 0.0\n",
            "A  1.0 6.0 0.0 0.0 0.0 0.0 0.0 0.0 0.0 0.0 0.0 0.0 0.0 0.0 0.0 0.0 1.0 0.0 0.0 0.0 0.0\n",
            "I  1.0 0.0 0.0 0.0 0.0 0.0 0.0 0.0 7.0 0.0 0.0 0.0 0.0 0.0 0.0 0.0 0.0 0.0 0.0 0.0 0.0\n",
            "L  1.0 0.0 0.0 0.0 0.0 0.0 0.0 0.0 0.0 0.0 7.0 0.0 0.0 0.0 0.0 0.0 0.0 0.0 0.0 0.0 0.0\n",
            "L  1.0 0.0 0.0 0.0 0.0 0.0 0.0 0.0 0.0 0.0 7.0 0.0 0.0 0.0 0.0 0.0 0.0 0.0 0.0 0.0 0.0\n",
            "S  1.0 0.0 0.0 0.0 0.0 0.0 0.0 0.0 0.0 0.0 0.0 0.0 0.0 0.0 0.0 0.0 7.0 0.0 0.0 0.0 0.0\n",
            "D  1.0 0.0 0.0 6.0 0.0 0.0 1.0 0.0 0.0 0.0 0.0 0.0 0.0 0.0 0.0 0.0 0.0 0.0 0.0 0.0 0.0\n",
            "I  1.0 0.0 0.0 0.0 0.0 0.0 0.0 0.0 7.0 0.0 0.0 0.0 0.0 0.0 0.0 0.0 0.0 0.0 0.0 0.0 0.0\n",
            "L  1.0 0.0 0.0 0.0 0.0 0.0 0.0 0.0 0.0 0.0 7.0 0.0 0.0 0.0 0.0 0.0 0.0 0.0 0.0 0.0 0.0\n",
            "R  1.0 0.0 0.0 0.0 0.0 0.0 0.0 0.0 0.0 0.0 0.0 0.0 0.0 0.0 0.0 6.0 0.0 1.0 0.0 0.0 0.0\n",
            "V  1.0 0.0 0.0 0.0 0.0 0.0 0.0 0.0 0.0 0.0 1.0 0.0 0.0 0.0 0.0 0.0 0.0 0.0 6.0 0.0 0.0\n",
            "N  1.0 0.0 0.0 0.0 0.0 0.0 0.0 0.0 0.0 0.0 0.0 0.0 6.0 0.0 0.0 0.0 0.0 1.0 0.0 0.0 0.0\n",
            "X  1.0 0.0 0.0 1.0 0.0 0.0 0.0 0.0 0.0 0.0 0.0 0.0 0.0 0.0 0.0 0.0 4.0 2.0 0.0 0.0 0.0\n",
            "E  1.0 0.0 0.0 0.0 6.0 0.0 0.0 0.0 0.0 0.0 0.0 0.0 0.0 0.0 0.0 0.0 0.0 0.0 1.0 0.0 0.0\n",
            "I  1.0 0.0 0.0 0.0 0.0 0.0 0.0 0.0 6.0 0.0 0.0 0.0 0.0 0.0 0.0 0.0 1.0 0.0 0.0 0.0 0.0\n",
            "T  1.0 0.0 0.0 0.0 0.0 0.0 0.0 0.0 0.0 0.0 0.0 0.0 0.0 0.0 0.0 0.0 0.0 7.0 0.0 0.0 0.0\n",
            "K  1.0 0.0 0.0 0.0 0.0 0.0 0.0 0.0 0.0 7.0 0.0 0.0 0.0 0.0 0.0 0.0 0.0 0.0 0.0 0.0 0.0\n",
            "A  1.0 7.0 0.0 0.0 0.0 0.0 0.0 0.0 0.0 0.0 0.0 0.0 0.0 0.0 0.0 0.0 0.0 0.0 0.0 0.0 0.0\n",
            "P  1.0 0.0 0.0 0.0 0.0 0.0 0.0 0.0 0.0 0.0 0.0 0.0 0.0 7.0 0.0 0.0 0.0 0.0 0.0 0.0 0.0\n",
            "L  1.0 0.0 0.0 0.0 0.0 0.0 0.0 0.0 0.0 0.0 7.0 0.0 0.0 0.0 0.0 0.0 0.0 0.0 0.0 0.0 0.0\n",
            "S  1.0 0.0 0.0 0.0 0.0 0.0 0.0 0.0 0.0 0.0 0.0 0.0 0.0 0.0 0.0 0.0 7.0 0.0 0.0 0.0 0.0\n",
            "A  1.0 7.0 0.0 0.0 0.0 0.0 0.0 0.0 0.0 0.0 0.0 0.0 0.0 0.0 0.0 0.0 0.0 0.0 0.0 0.0 0.0\n",
            "S  1.0 0.0 0.0 0.0 0.0 0.0 0.0 0.0 0.0 0.0 0.0 0.0 0.0 0.0 0.0 0.0 7.0 0.0 0.0 0.0 0.0\n",
            "M  1.0 0.0 0.0 0.0 0.0 0.0 0.0 0.0 0.0 0.0 0.0 7.0 0.0 0.0 0.0 0.0 0.0 0.0 0.0 0.0 0.0\n",
            "I  1.0 0.0 0.0 0.0 0.0 0.0 0.0 0.0 7.0 0.0 0.0 0.0 0.0 0.0 0.0 0.0 0.0 0.0 0.0 0.0 0.0\n",
            "K  1.0 0.0 0.0 0.0 0.0 0.0 0.0 0.0 0.0 6.0 0.0 0.0 0.0 0.0 1.0 0.0 0.0 0.0 0.0 0.0 0.0\n",
            "R  1.0 0.0 0.0 0.0 0.0 0.0 0.0 0.0 0.0 0.0 0.0 0.0 0.0 0.0 0.0 7.0 0.0 0.0 0.0 0.0 0.0\n",
            "Y  1.0 0.0 0.0 0.0 0.0 0.0 0.0 0.0 0.0 0.0 0.0 0.0 0.0 0.0 0.0 0.0 0.0 0.0 0.0 0.0 7.0\n",
            "D  1.0 0.0 0.0 6.0 0.0 0.0 0.0 0.0 0.0 0.0 0.0 0.0 1.0 0.0 0.0 0.0 0.0 0.0 0.0 0.0 0.0\n",
            "E  1.0 0.0 0.0 0.0 7.0 0.0 0.0 0.0 0.0 0.0 0.0 0.0 0.0 0.0 0.0 0.0 0.0 0.0 0.0 0.0 0.0\n",
            "H  1.0 0.0 0.0 0.0 0.0 0.0 0.0 7.0 0.0 0.0 0.0 0.0 0.0 0.0 0.0 0.0 0.0 0.0 0.0 0.0 0.0\n",
            "H  1.0 0.0 0.0 0.0 0.0 0.0 0.0 6.0 0.0 0.0 0.0 0.0 0.0 0.0 1.0 0.0 0.0 0.0 0.0 0.0 0.0\n",
            "Q  1.0 0.0 0.0 0.0 0.0 0.0 0.0 0.0 0.0 0.0 0.0 1.0 0.0 0.0 6.0 0.0 0.0 0.0 0.0 0.0 0.0\n",
            "D  1.0 0.0 0.0 7.0 0.0 0.0 0.0 0.0 0.0 0.0 0.0 0.0 0.0 0.0 0.0 0.0 0.0 0.0 0.0 0.0 0.0\n",
            "L  1.0 0.0 0.0 0.0 0.0 0.0 0.0 0.0 0.0 0.0 7.0 0.0 0.0 0.0 0.0 0.0 0.0 0.0 0.0 0.0 0.0\n",
            "T  1.0 1.0 0.0 0.0 0.0 0.0 0.0 0.0 0.0 0.0 0.0 0.0 0.0 0.0 0.0 0.0 0.0 6.0 0.0 0.0 0.0\n",
            "L  1.0 0.0 0.0 0.0 0.0 0.0 0.0 0.0 0.0 0.0 6.0 0.0 0.0 0.0 1.0 0.0 0.0 0.0 0.0 0.0 0.0\n",
            "L  1.0 0.0 0.0 0.0 0.0 0.0 0.0 0.0 0.0 0.0 7.0 0.0 0.0 0.0 0.0 0.0 0.0 0.0 0.0 0.0 0.0\n",
            "K  1.0 0.0 0.0 0.0 0.0 0.0 0.0 0.0 0.0 7.0 0.0 0.0 0.0 0.0 0.0 0.0 0.0 0.0 0.0 0.0 0.0\n",
            "A  1.0 6.0 0.0 0.0 0.0 0.0 0.0 0.0 0.0 0.0 0.0 0.0 0.0 0.0 1.0 0.0 0.0 0.0 0.0 0.0 0.0\n",
            "L  1.0 0.0 0.0 0.0 0.0 1.0 0.0 0.0 0.0 0.0 6.0 0.0 0.0 0.0 0.0 0.0 0.0 0.0 0.0 0.0 0.0\n",
            "V  1.0 0.0 0.0 0.0 0.0 0.0 0.0 0.0 1.0 0.0 0.0 0.0 0.0 0.0 0.0 0.0 0.0 0.0 6.0 0.0 0.0\n",
            "R  1.0 0.0 0.0 0.0 0.0 0.0 0.0 0.0 0.0 0.0 0.0 0.0 0.0 0.0 0.0 7.0 0.0 0.0 0.0 0.0 0.0\n",
            "Q  1.0 0.0 0.0 0.0 0.0 0.0 0.0 0.0 0.0 0.0 0.0 0.0 0.0 0.0 7.0 0.0 0.0 0.0 0.0 0.0 0.0\n",
            "Q  1.0 0.0 0.0 0.0 0.0 0.0 0.0 0.0 0.0 1.0 0.0 0.0 0.0 0.0 6.0 0.0 0.0 0.0 0.0 0.0 0.0\n",
            "L  1.0 0.0 0.0 0.0 0.0 0.0 0.0 0.0 0.0 0.0 7.0 0.0 0.0 0.0 0.0 0.0 0.0 0.0 0.0 0.0 0.0\n",
            "P  1.0 0.0 0.0 0.0 0.0 0.0 0.0 0.0 0.0 0.0 0.0 0.0 0.0 6.0 0.0 0.0 1.0 0.0 0.0 0.0 0.0\n",
            "E  1.0 0.0 0.0 1.0 6.0 0.0 0.0 0.0 0.0 0.0 0.0 0.0 0.0 0.0 0.0 0.0 0.0 0.0 0.0 0.0 0.0\n",
            "K  1.0 0.0 0.0 0.0 0.0 0.0 0.0 0.0 0.0 7.0 0.0 0.0 0.0 0.0 0.0 0.0 0.0 0.0 0.0 0.0 0.0\n",
            "Y  1.0 0.0 0.0 0.0 0.0 0.0 0.0 0.0 0.0 0.0 0.0 0.0 0.0 0.0 0.0 0.0 0.0 0.0 0.0 0.0 7.0\n",
            "K  1.0 0.0 0.0 0.0 0.0 0.0 0.0 0.0 0.0 6.0 0.0 0.0 1.0 0.0 0.0 0.0 0.0 0.0 0.0 0.0 0.0\n",
            "E  1.0 0.0 0.0 0.0 7.0 0.0 0.0 0.0 0.0 0.0 0.0 0.0 0.0 0.0 0.0 0.0 0.0 0.0 0.0 0.0 0.0\n",
            "I  1.0 0.0 0.0 0.0 0.0 0.0 0.0 0.0 6.0 0.0 0.0 0.0 0.0 0.0 0.0 0.0 0.0 0.0 1.0 0.0 0.0\n",
            "F  1.0 0.0 0.0 0.0 0.0 7.0 0.0 0.0 0.0 0.0 0.0 0.0 0.0 0.0 0.0 0.0 0.0 0.0 0.0 0.0 0.0\n",
            "F  1.0 0.0 0.0 0.0 0.0 6.0 0.0 0.0 0.0 0.0 0.0 0.0 0.0 0.0 0.0 0.0 1.0 0.0 0.0 0.0 0.0\n",
            "D  1.0 0.0 0.0 7.0 0.0 0.0 0.0 0.0 0.0 0.0 0.0 0.0 0.0 0.0 0.0 0.0 0.0 0.0 0.0 0.0 0.0\n",
            "Q  1.0 0.0 0.0 0.0 0.0 0.0 0.0 0.0 0.0 0.0 0.0 0.0 0.0 0.0 6.0 0.0 0.0 0.0 1.0 0.0 0.0\n",
            "S  1.0 0.0 0.0 0.0 0.0 0.0 0.0 0.0 0.0 0.0 0.0 0.0 0.0 0.0 0.0 0.0 7.0 0.0 0.0 0.0 0.0\n",
            "K  1.0 0.0 0.0 0.0 0.0 0.0 0.0 0.0 0.0 7.0 0.0 0.0 0.0 0.0 0.0 0.0 0.0 0.0 0.0 0.0 0.0\n",
            "N  1.0 0.0 0.0 1.0 0.0 0.0 0.0 0.0 0.0 0.0 0.0 0.0 6.0 0.0 0.0 0.0 0.0 0.0 0.0 0.0 0.0\n",
            "G  1.0 0.0 0.0 0.0 0.0 0.0 7.0 0.0 0.0 0.0 0.0 0.0 0.0 0.0 0.0 0.0 0.0 0.0 0.0 0.0 0.0\n",
            "Y  1.0 0.0 0.0 0.0 0.0 0.0 0.0 0.0 0.0 0.0 0.0 0.0 0.0 0.0 0.0 0.0 0.0 0.0 0.0 0.0 7.0\n",
            "A  1.0 7.0 0.0 0.0 0.0 0.0 0.0 0.0 0.0 0.0 0.0 0.0 0.0 0.0 0.0 0.0 0.0 0.0 0.0 0.0 0.0\n",
            "G  1.0 0.0 0.0 0.0 0.0 0.0 7.0 0.0 0.0 0.0 0.0 0.0 0.0 0.0 0.0 0.0 0.0 0.0 0.0 0.0 0.0\n",
            "Y  1.0 0.0 0.0 0.0 0.0 0.0 0.0 0.0 0.0 0.0 0.0 0.0 0.0 0.0 0.0 0.0 0.0 0.0 0.0 0.0 7.0\n",
            "I  1.0 0.0 0.0 0.0 0.0 0.0 0.0 0.0 7.0 0.0 0.0 0.0 0.0 0.0 0.0 0.0 0.0 0.0 0.0 0.0 0.0\n",
            "D  1.0 0.0 0.0 7.0 0.0 0.0 0.0 0.0 0.0 0.0 0.0 0.0 0.0 0.0 0.0 0.0 0.0 0.0 0.0 0.0 0.0\n",
            "G  1.0 0.0 0.0 0.0 0.0 0.0 7.0 0.0 0.0 0.0 0.0 0.0 0.0 0.0 0.0 0.0 0.0 0.0 0.0 0.0 0.0\n",
            "G  1.0 0.0 0.0 0.0 0.0 0.0 6.0 0.0 0.0 1.0 0.0 0.0 0.0 0.0 0.0 0.0 0.0 0.0 0.0 0.0 0.0\n",
            "A  1.0 6.0 0.0 0.0 0.0 0.0 0.0 0.0 0.0 0.0 0.0 0.0 0.0 0.0 0.0 0.0 0.0 1.0 0.0 0.0 0.0\n",
            "S  1.0 0.0 0.0 0.0 0.0 0.0 0.0 0.0 0.0 0.0 0.0 0.0 1.0 0.0 0.0 0.0 6.0 0.0 0.0 0.0 0.0\n",
            "Q  1.0 0.0 0.0 0.0 0.0 0.0 0.0 0.0 0.0 0.0 0.0 0.0 0.0 0.0 7.0 0.0 0.0 0.0 0.0 0.0 0.0\n",
            "E  1.0 0.0 0.0 0.0 7.0 0.0 0.0 0.0 0.0 0.0 0.0 0.0 0.0 0.0 0.0 0.0 0.0 0.0 0.0 0.0 0.0\n",
            "E  1.0 1.0 0.0 0.0 6.0 0.0 0.0 0.0 0.0 0.0 0.0 0.0 0.0 0.0 0.0 0.0 0.0 0.0 0.0 0.0 0.0\n",
            "F  1.0 0.0 0.0 0.0 0.0 7.0 0.0 0.0 0.0 0.0 0.0 0.0 0.0 0.0 0.0 0.0 0.0 0.0 0.0 0.0 0.0\n",
            "Y  1.0 0.0 0.0 0.0 0.0 0.0 0.0 0.0 0.0 0.0 0.0 0.0 0.0 0.0 0.0 0.0 0.0 0.0 0.0 0.0 7.0\n",
            "K  1.0 0.0 0.0 0.0 0.0 0.0 0.0 0.0 0.0 7.0 0.0 0.0 0.0 0.0 0.0 0.0 0.0 0.0 0.0 0.0 0.0\n",
            "F  1.0 0.0 0.0 0.0 0.0 6.0 0.0 0.0 0.0 0.0 0.0 0.0 0.0 0.0 0.0 0.0 0.0 0.0 0.0 0.0 1.0\n",
            "I  1.0 0.0 0.0 0.0 0.0 0.0 0.0 0.0 6.0 0.0 1.0 0.0 0.0 0.0 0.0 0.0 0.0 0.0 0.0 0.0 0.0\n",
            "K  1.0 0.0 0.0 0.0 0.0 0.0 0.0 0.0 0.0 7.0 0.0 0.0 0.0 0.0 0.0 0.0 0.0 0.0 0.0 0.0 0.0\n",
            "P  1.0 0.0 0.0 0.0 0.0 0.0 1.0 0.0 0.0 0.0 0.0 0.0 0.0 6.0 0.0 0.0 0.0 0.0 0.0 0.0 0.0\n",
            "I  1.0 0.0 0.0 0.0 0.0 0.0 0.0 0.0 6.0 0.0 1.0 0.0 0.0 0.0 0.0 0.0 0.0 0.0 0.0 0.0 0.0\n",
            "L  1.0 0.0 0.0 0.0 0.0 0.0 0.0 0.0 0.0 0.0 7.0 0.0 0.0 0.0 0.0 0.0 0.0 0.0 0.0 0.0 0.0\n",
            "E  1.0 0.0 0.0 0.0 6.0 0.0 0.0 0.0 0.0 0.0 0.0 0.0 1.0 0.0 0.0 0.0 0.0 0.0 0.0 0.0 0.0\n",
            "K  1.0 0.0 0.0 0.0 0.0 0.0 0.0 0.0 0.0 7.0 0.0 0.0 0.0 0.0 0.0 0.0 0.0 0.0 0.0 0.0 0.0\n",
            "M  1.0 0.0 0.0 0.0 0.0 0.0 0.0 0.0 1.0 0.0 0.0 6.0 0.0 0.0 0.0 0.0 0.0 0.0 0.0 0.0 0.0\n",
            "D  1.0 0.0 0.0 6.0 1.0 0.0 0.0 0.0 0.0 0.0 0.0 0.0 0.0 0.0 0.0 0.0 0.0 0.0 0.0 0.0 0.0\n",
            "G  1.0 0.0 0.0 0.0 0.0 0.0 7.0 0.0 0.0 0.0 0.0 0.0 0.0 0.0 0.0 0.0 0.0 0.0 0.0 0.0 0.0\n",
            "T  1.0 0.0 0.0 0.0 0.0 0.0 0.0 0.0 0.0 0.0 0.0 0.0 0.0 0.0 0.0 0.0 1.0 6.0 0.0 0.0 0.0\n",
            "E  1.0 0.0 0.0 0.0 6.0 0.0 1.0 0.0 0.0 0.0 0.0 0.0 0.0 0.0 0.0 0.0 0.0 0.0 0.0 0.0 0.0\n",
            "E  1.0 0.0 0.0 0.0 6.0 0.0 0.0 0.0 0.0 0.0 0.0 0.0 0.0 0.0 0.0 0.0 0.0 0.0 0.0 0.0 1.0\n",
            "L  1.0 0.0 0.0 0.0 0.0 1.0 0.0 0.0 0.0 0.0 6.0 0.0 0.0 0.0 0.0 0.0 0.0 0.0 0.0 0.0 0.0\n",
            "L  1.0 0.0 0.0 0.0 0.0 0.0 0.0 0.0 0.0 0.0 7.0 0.0 0.0 0.0 0.0 0.0 0.0 0.0 0.0 0.0 0.0\n",
            "X  1.0 4.0 0.0 1.0 0.0 0.0 0.0 0.0 0.0 0.0 0.0 0.0 0.0 0.0 0.0 0.0 0.0 0.0 2.0 0.0 0.0\n",
            "K  1.0 0.0 0.0 0.0 0.0 0.0 0.0 0.0 0.0 7.0 0.0 0.0 0.0 0.0 0.0 0.0 0.0 0.0 0.0 0.0 0.0\n",
            "L  1.0 0.0 0.0 0.0 0.0 0.0 0.0 0.0 1.0 0.0 6.0 0.0 0.0 0.0 0.0 0.0 0.0 0.0 0.0 0.0 0.0\n",
            "N  1.0 0.0 0.0 0.0 1.0 0.0 0.0 0.0 0.0 0.0 0.0 0.0 6.0 0.0 0.0 0.0 0.0 0.0 0.0 0.0 0.0\n",
            "R  1.0 0.0 0.0 0.0 0.0 0.0 0.0 0.0 0.0 0.0 0.0 0.0 0.0 0.0 0.0 7.0 0.0 0.0 0.0 0.0 0.0\n",
            "E  1.0 0.0 0.0 0.0 7.0 0.0 0.0 0.0 0.0 0.0 0.0 0.0 0.0 0.0 0.0 0.0 0.0 0.0 0.0 0.0 0.0\n",
            "D  1.0 0.0 0.0 7.0 0.0 0.0 0.0 0.0 0.0 0.0 0.0 0.0 0.0 0.0 0.0 0.0 0.0 0.0 0.0 0.0 0.0\n",
            "L  1.0 0.0 0.0 0.0 0.0 1.0 0.0 0.0 0.0 0.0 6.0 0.0 0.0 0.0 0.0 0.0 0.0 0.0 0.0 0.0 0.0\n",
            "L  1.0 0.0 0.0 0.0 0.0 0.0 0.0 0.0 0.0 0.0 7.0 0.0 0.0 0.0 0.0 0.0 0.0 0.0 0.0 0.0 0.0\n",
            "R  1.0 0.0 0.0 0.0 0.0 0.0 0.0 0.0 0.0 0.0 0.0 0.0 0.0 0.0 0.0 7.0 0.0 0.0 0.0 0.0 0.0\n",
            "K  1.0 0.0 0.0 0.0 0.0 0.0 0.0 0.0 0.0 7.0 0.0 0.0 0.0 0.0 0.0 0.0 0.0 0.0 0.0 0.0 0.0\n",
            "Q  1.0 0.0 0.0 0.0 0.0 0.0 0.0 0.0 0.0 0.0 0.0 0.0 0.0 0.0 7.0 0.0 0.0 0.0 0.0 0.0 0.0\n",
            "R  1.0 0.0 0.0 0.0 0.0 0.0 0.0 0.0 0.0 0.0 0.0 0.0 0.0 0.0 0.0 7.0 0.0 0.0 0.0 0.0 0.0\n",
            "T  1.0 0.0 0.0 0.0 0.0 0.0 0.0 0.0 0.0 0.0 0.0 0.0 0.0 0.0 0.0 0.0 0.0 7.0 0.0 0.0 0.0\n",
            "F  1.0 0.0 0.0 0.0 0.0 7.0 0.0 0.0 0.0 0.0 0.0 0.0 0.0 0.0 0.0 0.0 0.0 0.0 0.0 0.0 0.0\n",
            "D  1.0 0.0 0.0 7.0 0.0 0.0 0.0 0.0 0.0 0.0 0.0 0.0 0.0 0.0 0.0 0.0 0.0 0.0 0.0 0.0 0.0\n",
            "N  1.0 0.0 0.0 0.0 0.0 0.0 0.0 0.0 0.0 0.0 0.0 0.0 7.0 0.0 0.0 0.0 0.0 0.0 0.0 0.0 0.0\n",
            "G  1.0 0.0 0.0 0.0 0.0 0.0 7.0 0.0 0.0 0.0 0.0 0.0 0.0 0.0 0.0 0.0 0.0 0.0 0.0 0.0 0.0\n",
            "S  1.0 0.0 0.0 0.0 0.0 0.0 0.0 0.0 0.0 0.0 0.0 0.0 0.0 0.0 0.0 0.0 7.0 0.0 0.0 0.0 0.0\n",
            "I  1.0 0.0 0.0 0.0 0.0 0.0 0.0 0.0 7.0 0.0 0.0 0.0 0.0 0.0 0.0 0.0 0.0 0.0 0.0 0.0 0.0\n",
            "P  1.0 0.0 0.0 0.0 0.0 0.0 0.0 0.0 0.0 0.0 0.0 0.0 0.0 7.0 0.0 0.0 0.0 0.0 0.0 0.0 0.0\n",
            "H  1.0 0.0 0.0 0.0 0.0 0.0 0.0 7.0 0.0 0.0 0.0 0.0 0.0 0.0 0.0 0.0 0.0 0.0 0.0 0.0 0.0\n",
            "Q  1.0 0.0 0.0 0.0 0.0 0.0 0.0 0.0 0.0 0.0 0.0 0.0 0.0 0.0 7.0 0.0 0.0 0.0 0.0 0.0 0.0\n",
            "I  1.0 0.0 0.0 0.0 0.0 0.0 0.0 0.0 7.0 0.0 0.0 0.0 0.0 0.0 0.0 0.0 0.0 0.0 0.0 0.0 0.0\n",
            "H  1.0 0.0 0.0 0.0 0.0 0.0 0.0 7.0 0.0 0.0 0.0 0.0 0.0 0.0 0.0 0.0 0.0 0.0 0.0 0.0 0.0\n",
            "L  1.0 0.0 0.0 0.0 0.0 0.0 0.0 0.0 0.0 0.0 7.0 0.0 0.0 0.0 0.0 0.0 0.0 0.0 0.0 0.0 0.0\n",
            "G  1.0 0.0 0.0 0.0 0.0 0.0 6.0 0.0 0.0 0.0 0.0 0.0 0.0 0.0 1.0 0.0 0.0 0.0 0.0 0.0 0.0\n",
            "E  1.0 0.0 0.0 0.0 7.0 0.0 0.0 0.0 0.0 0.0 0.0 0.0 0.0 0.0 0.0 0.0 0.0 0.0 0.0 0.0 0.0\n",
            "L  1.0 0.0 0.0 0.0 0.0 0.0 0.0 0.0 0.0 0.0 6.0 1.0 0.0 0.0 0.0 0.0 0.0 0.0 0.0 0.0 0.0\n",
            "H  1.0 0.0 0.0 0.0 0.0 0.0 0.0 6.0 0.0 0.0 0.0 0.0 0.0 0.0 0.0 1.0 0.0 0.0 0.0 0.0 0.0\n",
            "A  1.0 7.0 0.0 0.0 0.0 0.0 0.0 0.0 0.0 0.0 0.0 0.0 0.0 0.0 0.0 0.0 0.0 0.0 0.0 0.0 0.0\n",
            "I  1.0 0.0 0.0 0.0 0.0 0.0 0.0 0.0 7.0 0.0 0.0 0.0 0.0 0.0 0.0 0.0 0.0 0.0 0.0 0.0 0.0\n",
            "L  1.0 0.0 0.0 0.0 0.0 0.0 0.0 0.0 1.0 0.0 6.0 0.0 0.0 0.0 0.0 0.0 0.0 0.0 0.0 0.0 0.0\n",
            "R  1.0 0.0 0.0 0.0 0.0 0.0 0.0 0.0 0.0 0.0 0.0 0.0 0.0 0.0 0.0 7.0 0.0 0.0 0.0 0.0 0.0\n",
            "R  1.0 0.0 0.0 0.0 0.0 0.0 0.0 0.0 0.0 0.0 0.0 0.0 0.0 0.0 0.0 7.0 0.0 0.0 0.0 0.0 0.0\n",
            "Q  1.0 0.0 0.0 0.0 0.0 0.0 0.0 0.0 0.0 0.0 0.0 0.0 0.0 0.0 7.0 0.0 0.0 0.0 0.0 0.0 0.0\n",
            "E  1.0 1.0 0.0 0.0 6.0 0.0 0.0 0.0 0.0 0.0 0.0 0.0 0.0 0.0 0.0 0.0 0.0 0.0 0.0 0.0 0.0\n",
            "D  1.0 0.0 0.0 6.0 1.0 0.0 0.0 0.0 0.0 0.0 0.0 0.0 0.0 0.0 0.0 0.0 0.0 0.0 0.0 0.0 0.0\n",
            "F  1.0 0.0 0.0 0.0 0.0 7.0 0.0 0.0 0.0 0.0 0.0 0.0 0.0 0.0 0.0 0.0 0.0 0.0 0.0 0.0 0.0\n",
            "Y  1.0 0.0 0.0 0.0 0.0 0.0 0.0 0.0 0.0 0.0 0.0 0.0 0.0 0.0 0.0 0.0 0.0 0.0 0.0 0.0 7.0\n",
            "P  1.0 0.0 0.0 0.0 0.0 0.0 0.0 0.0 0.0 0.0 0.0 0.0 0.0 7.0 0.0 0.0 0.0 0.0 0.0 0.0 0.0\n",
            "F  1.0 0.0 0.0 0.0 0.0 7.0 0.0 0.0 0.0 0.0 0.0 0.0 0.0 0.0 0.0 0.0 0.0 0.0 0.0 0.0 0.0\n",
            "L  1.0 0.0 0.0 0.0 0.0 0.0 0.0 0.0 0.0 0.0 7.0 0.0 0.0 0.0 0.0 0.0 0.0 0.0 0.0 0.0 0.0\n",
            "K  1.0 1.0 0.0 0.0 0.0 0.0 0.0 0.0 0.0 6.0 0.0 0.0 0.0 0.0 0.0 0.0 0.0 0.0 0.0 0.0 0.0\n",
            "D  1.0 0.0 0.0 7.0 0.0 0.0 0.0 0.0 0.0 0.0 0.0 0.0 0.0 0.0 0.0 0.0 0.0 0.0 0.0 0.0 0.0\n",
            "N  1.0 0.0 0.0 0.0 0.0 0.0 0.0 0.0 0.0 0.0 0.0 0.0 7.0 0.0 0.0 0.0 0.0 0.0 0.0 0.0 0.0\n",
            "R  1.0 0.0 0.0 0.0 0.0 0.0 0.0 0.0 0.0 0.0 0.0 0.0 0.0 0.0 1.0 6.0 0.0 0.0 0.0 0.0 0.0\n",
            "E  1.0 0.0 0.0 1.0 6.0 0.0 0.0 0.0 0.0 0.0 0.0 0.0 0.0 0.0 0.0 0.0 0.0 0.0 0.0 0.0 0.0\n",
            "K  1.0 0.0 0.0 0.0 0.0 0.0 0.0 0.0 0.0 6.0 0.0 0.0 0.0 0.0 0.0 1.0 0.0 0.0 0.0 0.0 0.0\n",
            "I  1.0 0.0 0.0 0.0 0.0 0.0 0.0 0.0 7.0 0.0 0.0 0.0 0.0 0.0 0.0 0.0 0.0 0.0 0.0 0.0 0.0\n",
            "E  1.0 0.0 0.0 0.0 7.0 0.0 0.0 0.0 0.0 0.0 0.0 0.0 0.0 0.0 0.0 0.0 0.0 0.0 0.0 0.0 0.0\n",
            "K  1.0 0.0 0.0 0.0 0.0 0.0 0.0 0.0 0.0 7.0 0.0 0.0 0.0 0.0 0.0 0.0 0.0 0.0 0.0 0.0 0.0\n",
            "I  1.0 0.0 0.0 0.0 0.0 0.0 0.0 0.0 7.0 0.0 0.0 0.0 0.0 0.0 0.0 0.0 0.0 0.0 0.0 0.0 0.0\n",
            "L  1.0 0.0 0.0 0.0 0.0 0.0 0.0 0.0 0.0 0.0 7.0 0.0 0.0 0.0 0.0 0.0 0.0 0.0 0.0 0.0 0.0\n",
            "T  1.0 0.0 0.0 0.0 0.0 0.0 0.0 0.0 0.0 0.0 0.0 0.0 0.0 0.0 0.0 0.0 0.0 7.0 0.0 0.0 0.0\n",
            "F  1.0 0.0 0.0 0.0 0.0 7.0 0.0 0.0 0.0 0.0 0.0 0.0 0.0 0.0 0.0 0.0 0.0 0.0 0.0 0.0 0.0\n",
            "R  1.0 0.0 0.0 0.0 0.0 0.0 0.0 0.0 0.0 0.0 0.0 0.0 0.0 0.0 0.0 7.0 0.0 0.0 0.0 0.0 0.0\n",
            "I  1.0 0.0 0.0 0.0 0.0 0.0 0.0 0.0 7.0 0.0 0.0 0.0 0.0 0.0 0.0 0.0 0.0 0.0 0.0 0.0 0.0\n",
            "P  1.0 0.0 0.0 0.0 0.0 0.0 0.0 0.0 0.0 0.0 0.0 0.0 0.0 7.0 0.0 0.0 0.0 0.0 0.0 0.0 0.0\n",
            "Y  1.0 0.0 0.0 0.0 0.0 0.0 0.0 0.0 0.0 0.0 0.0 0.0 0.0 0.0 0.0 0.0 0.0 0.0 0.0 0.0 7.0\n",
            "Y  1.0 0.0 0.0 0.0 0.0 0.0 0.0 0.0 0.0 0.0 0.0 0.0 0.0 0.0 0.0 0.0 0.0 0.0 0.0 0.0 7.0\n",
            "V  1.0 0.0 0.0 0.0 0.0 0.0 0.0 0.0 0.0 0.0 0.0 0.0 0.0 0.0 0.0 0.0 0.0 0.0 7.0 0.0 0.0\n",
            "G  1.0 0.0 0.0 0.0 0.0 0.0 7.0 0.0 0.0 0.0 0.0 0.0 0.0 0.0 0.0 0.0 0.0 0.0 0.0 0.0 0.0\n",
            "P  1.0 0.0 0.0 0.0 0.0 0.0 0.0 0.0 0.0 0.0 0.0 0.0 0.0 7.0 0.0 0.0 0.0 0.0 0.0 0.0 0.0\n",
            "L  1.0 0.0 0.0 0.0 0.0 0.0 0.0 0.0 0.0 0.0 7.0 0.0 0.0 0.0 0.0 0.0 0.0 0.0 0.0 0.0 0.0\n",
            "A  1.0 7.0 0.0 0.0 0.0 0.0 0.0 0.0 0.0 0.0 0.0 0.0 0.0 0.0 0.0 0.0 0.0 0.0 0.0 0.0 0.0\n",
            "R  1.0 0.0 0.0 0.0 0.0 0.0 0.0 0.0 0.0 0.0 0.0 0.0 0.0 0.0 0.0 7.0 0.0 0.0 0.0 0.0 0.0\n",
            "G  1.0 0.0 0.0 0.0 0.0 0.0 7.0 0.0 0.0 0.0 0.0 0.0 0.0 0.0 0.0 0.0 0.0 0.0 0.0 0.0 0.0\n",
            "N  1.0 0.0 0.0 0.0 0.0 0.0 0.0 0.0 0.0 1.0 0.0 0.0 6.0 0.0 0.0 0.0 0.0 0.0 0.0 0.0 0.0\n",
            "S  1.0 0.0 0.0 0.0 0.0 0.0 0.0 0.0 0.0 0.0 0.0 0.0 0.0 0.0 0.0 0.0 7.0 0.0 0.0 0.0 0.0\n",
            "R  1.0 0.0 0.0 1.0 0.0 0.0 0.0 0.0 0.0 0.0 0.0 0.0 0.0 0.0 0.0 6.0 0.0 0.0 0.0 0.0 0.0\n",
            "F  1.0 0.0 0.0 0.0 0.0 7.0 0.0 0.0 0.0 0.0 0.0 0.0 0.0 0.0 0.0 0.0 0.0 0.0 0.0 0.0 0.0\n",
            "A  1.0 7.0 0.0 0.0 0.0 0.0 0.0 0.0 0.0 0.0 0.0 0.0 0.0 0.0 0.0 0.0 0.0 0.0 0.0 0.0 0.0\n",
            "W  1.0 0.0 0.0 0.0 0.0 0.0 0.0 0.0 0.0 0.0 0.0 0.0 0.0 0.0 0.0 0.0 0.0 0.0 0.0 7.0 0.0\n",
            "M  1.0 0.0 0.0 0.0 0.0 0.0 0.0 0.0 0.0 0.0 1.0 6.0 0.0 0.0 0.0 0.0 0.0 0.0 0.0 0.0 0.0\n",
            "T  1.0 0.0 0.0 0.0 0.0 0.0 0.0 0.0 0.0 0.0 0.0 0.0 0.0 0.0 0.0 0.0 1.0 6.0 0.0 0.0 0.0\n",
            "R  1.0 0.0 0.0 0.0 0.0 0.0 0.0 0.0 0.0 0.0 0.0 0.0 0.0 0.0 0.0 7.0 0.0 0.0 0.0 0.0 0.0\n",
            "K  1.0 0.0 0.0 0.0 0.0 0.0 0.0 0.0 0.0 7.0 0.0 0.0 0.0 0.0 0.0 0.0 0.0 0.0 0.0 0.0 0.0\n",
            "S  1.0 0.0 0.0 0.0 0.0 0.0 0.0 0.0 0.0 0.0 0.0 0.0 0.0 0.0 0.0 0.0 7.0 0.0 0.0 0.0 0.0\n",
            "E  1.0 1.0 0.0 0.0 6.0 0.0 0.0 0.0 0.0 0.0 0.0 0.0 0.0 0.0 0.0 0.0 0.0 0.0 0.0 0.0 0.0\n",
            "E  1.0 0.0 0.0 1.0 6.0 0.0 0.0 0.0 0.0 0.0 0.0 0.0 0.0 0.0 0.0 0.0 0.0 0.0 0.0 0.0 0.0\n",
            "T  1.0 0.0 0.0 0.0 0.0 0.0 0.0 0.0 0.0 1.0 0.0 0.0 0.0 0.0 0.0 0.0 0.0 6.0 0.0 0.0 0.0\n",
            "I  1.0 0.0 0.0 0.0 0.0 0.0 0.0 0.0 7.0 0.0 0.0 0.0 0.0 0.0 0.0 0.0 0.0 0.0 0.0 0.0 0.0\n",
            "T  1.0 0.0 0.0 0.0 0.0 0.0 0.0 0.0 0.0 0.0 0.0 0.0 0.0 0.0 0.0 0.0 0.0 7.0 0.0 0.0 0.0\n",
            "P  1.0 0.0 0.0 0.0 0.0 0.0 0.0 0.0 0.0 0.0 0.0 0.0 0.0 7.0 0.0 0.0 0.0 0.0 0.0 0.0 0.0\n",
            "W  1.0 0.0 0.0 0.0 0.0 0.0 0.0 0.0 0.0 0.0 0.0 0.0 0.0 0.0 0.0 0.0 0.0 0.0 0.0 7.0 0.0\n",
            "N  1.0 0.0 0.0 0.0 0.0 0.0 0.0 0.0 0.0 0.0 0.0 0.0 7.0 0.0 0.0 0.0 0.0 0.0 0.0 0.0 0.0\n",
            "F  1.0 0.0 0.0 0.0 0.0 7.0 0.0 0.0 0.0 0.0 0.0 0.0 0.0 0.0 0.0 0.0 0.0 0.0 0.0 0.0 0.0\n",
            "E  1.0 0.0 0.0 1.0 6.0 0.0 0.0 0.0 0.0 0.0 0.0 0.0 0.0 0.0 0.0 0.0 0.0 0.0 0.0 0.0 0.0\n",
            "E  1.0 0.0 0.0 0.0 7.0 0.0 0.0 0.0 0.0 0.0 0.0 0.0 0.0 0.0 0.0 0.0 0.0 0.0 0.0 0.0 0.0\n",
            "V  1.0 0.0 0.0 0.0 0.0 0.0 0.0 0.0 1.0 0.0 0.0 0.0 0.0 0.0 0.0 0.0 0.0 0.0 6.0 0.0 0.0\n",
            "V  1.0 0.0 0.0 0.0 0.0 0.0 0.0 0.0 0.0 0.0 0.0 0.0 0.0 0.0 0.0 0.0 0.0 0.0 7.0 0.0 0.0\n",
            "D  1.0 0.0 0.0 7.0 0.0 0.0 0.0 0.0 0.0 0.0 0.0 0.0 0.0 0.0 0.0 0.0 0.0 0.0 0.0 0.0 0.0\n",
            "K  1.0 0.0 0.0 0.0 0.0 0.0 0.0 0.0 0.0 7.0 0.0 0.0 0.0 0.0 0.0 0.0 0.0 0.0 0.0 0.0 0.0\n",
            "G  1.0 0.0 0.0 0.0 1.0 0.0 6.0 0.0 0.0 0.0 0.0 0.0 0.0 0.0 0.0 0.0 0.0 0.0 0.0 0.0 0.0\n",
            "A  1.0 6.0 0.0 0.0 0.0 0.0 0.0 0.0 0.0 0.0 0.0 0.0 0.0 0.0 0.0 0.0 1.0 0.0 0.0 0.0 0.0\n",
            "S  1.0 0.0 0.0 0.0 0.0 0.0 0.0 0.0 0.0 0.0 0.0 0.0 0.0 0.0 0.0 0.0 7.0 0.0 0.0 0.0 0.0\n",
            "A  1.0 6.0 0.0 0.0 0.0 0.0 0.0 0.0 0.0 0.0 0.0 0.0 0.0 0.0 0.0 0.0 0.0 0.0 1.0 0.0 0.0\n",
            "Q  1.0 0.0 0.0 0.0 1.0 0.0 0.0 0.0 0.0 0.0 0.0 0.0 0.0 0.0 6.0 0.0 0.0 0.0 0.0 0.0 0.0\n",
            "S  1.0 1.0 0.0 0.0 0.0 0.0 0.0 0.0 0.0 0.0 0.0 0.0 0.0 0.0 0.0 0.0 6.0 0.0 0.0 0.0 0.0\n",
            "F  1.0 0.0 0.0 0.0 0.0 7.0 0.0 0.0 0.0 0.0 0.0 0.0 0.0 0.0 0.0 0.0 0.0 0.0 0.0 0.0 0.0\n",
            "I  1.0 0.0 0.0 0.0 0.0 0.0 0.0 0.0 7.0 0.0 0.0 0.0 0.0 0.0 0.0 0.0 0.0 0.0 0.0 0.0 0.0\n",
            "E  1.0 0.0 0.0 0.0 6.0 0.0 0.0 0.0 0.0 0.0 0.0 0.0 1.0 0.0 0.0 0.0 0.0 0.0 0.0 0.0 0.0\n",
            "R  1.0 0.0 0.0 0.0 0.0 0.0 0.0 0.0 0.0 0.0 0.0 0.0 0.0 0.0 0.0 7.0 0.0 0.0 0.0 0.0 0.0\n",
            "M  1.0 0.0 0.0 0.0 0.0 0.0 0.0 0.0 0.0 0.0 0.0 7.0 0.0 0.0 0.0 0.0 0.0 0.0 0.0 0.0 0.0\n",
            "T  1.0 0.0 0.0 0.0 0.0 0.0 0.0 0.0 0.0 0.0 0.0 0.0 0.0 0.0 0.0 0.0 0.0 7.0 0.0 0.0 0.0\n",
            "N  1.0 0.0 0.0 0.0 0.0 0.0 0.0 0.0 0.0 0.0 0.0 0.0 7.0 0.0 0.0 0.0 0.0 0.0 0.0 0.0 0.0\n",
            "F  1.0 0.0 0.0 0.0 0.0 6.0 0.0 0.0 0.0 0.0 0.0 0.0 0.0 0.0 0.0 0.0 0.0 0.0 0.0 0.0 1.0\n",
            "D  1.0 0.0 0.0 7.0 0.0 0.0 0.0 0.0 0.0 0.0 0.0 0.0 0.0 0.0 0.0 0.0 0.0 0.0 0.0 0.0 0.0\n",
            "K  1.0 0.0 0.0 0.0 0.0 0.0 0.0 0.0 0.0 6.0 1.0 0.0 0.0 0.0 0.0 0.0 0.0 0.0 0.0 0.0 0.0\n",
            "N  1.0 0.0 0.0 0.0 0.0 0.0 0.0 0.0 0.0 0.0 0.0 0.0 6.0 0.0 0.0 0.0 0.0 0.0 0.0 0.0 1.0\n",
            "L  1.0 0.0 0.0 0.0 0.0 0.0 0.0 0.0 0.0 0.0 7.0 0.0 0.0 0.0 0.0 0.0 0.0 0.0 0.0 0.0 0.0\n",
            "P  1.0 0.0 0.0 0.0 0.0 0.0 0.0 0.0 0.0 0.0 0.0 0.0 0.0 7.0 0.0 0.0 0.0 0.0 0.0 0.0 0.0\n",
            "N  1.0 0.0 0.0 0.0 0.0 0.0 0.0 0.0 0.0 0.0 0.0 0.0 7.0 0.0 0.0 0.0 0.0 0.0 0.0 0.0 0.0\n",
            "E  1.0 0.0 0.0 0.0 6.0 0.0 0.0 0.0 0.0 0.0 0.0 0.0 0.0 0.0 1.0 0.0 0.0 0.0 0.0 0.0 0.0\n",
            "K  1.0 0.0 0.0 0.0 0.0 0.0 0.0 0.0 0.0 7.0 0.0 0.0 0.0 0.0 0.0 0.0 0.0 0.0 0.0 0.0 0.0\n",
            "V  1.0 0.0 0.0 0.0 0.0 0.0 0.0 0.0 0.0 0.0 0.0 0.0 0.0 0.0 0.0 0.0 0.0 0.0 7.0 0.0 0.0\n",
            "L  1.0 0.0 0.0 0.0 0.0 0.0 0.0 0.0 0.0 0.0 7.0 0.0 0.0 0.0 0.0 0.0 0.0 0.0 0.0 0.0 0.0\n",
            "P  1.0 0.0 0.0 0.0 0.0 0.0 0.0 0.0 0.0 0.0 0.0 0.0 0.0 7.0 0.0 0.0 0.0 0.0 0.0 0.0 0.0\n",
            "K  1.0 0.0 0.0 0.0 0.0 0.0 0.0 0.0 0.0 7.0 0.0 0.0 0.0 0.0 0.0 0.0 0.0 0.0 0.0 0.0 0.0\n",
            "H  1.0 0.0 0.0 0.0 0.0 0.0 0.0 7.0 0.0 0.0 0.0 0.0 0.0 0.0 0.0 0.0 0.0 0.0 0.0 0.0 0.0\n",
            "S  1.0 0.0 0.0 0.0 0.0 0.0 0.0 0.0 0.0 0.0 0.0 0.0 0.0 0.0 0.0 0.0 7.0 0.0 0.0 0.0 0.0\n",
            "L  1.0 0.0 0.0 0.0 0.0 0.0 0.0 0.0 0.0 0.0 7.0 0.0 0.0 0.0 0.0 0.0 0.0 0.0 0.0 0.0 0.0\n",
            "L  1.0 0.0 0.0 0.0 0.0 0.0 0.0 0.0 0.0 0.0 7.0 0.0 0.0 0.0 0.0 0.0 0.0 0.0 0.0 0.0 0.0\n",
            "Y  1.0 0.0 0.0 0.0 0.0 0.0 0.0 0.0 0.0 0.0 0.0 0.0 0.0 0.0 0.0 0.0 0.0 0.0 0.0 0.0 7.0\n",
            "E  1.0 0.0 0.0 0.0 7.0 0.0 0.0 0.0 0.0 0.0 0.0 0.0 0.0 0.0 0.0 0.0 0.0 0.0 0.0 0.0 0.0\n",
            "Y  1.0 0.0 0.0 0.0 0.0 0.0 0.0 0.0 0.0 1.0 0.0 0.0 0.0 0.0 0.0 0.0 0.0 0.0 0.0 0.0 6.0\n",
            "F  1.0 0.0 0.0 0.0 0.0 7.0 0.0 0.0 0.0 0.0 0.0 0.0 0.0 0.0 0.0 0.0 0.0 0.0 0.0 0.0 0.0\n",
            "T  1.0 0.0 0.0 0.0 0.0 0.0 0.0 0.0 0.0 0.0 0.0 0.0 0.0 0.0 0.0 0.0 0.0 7.0 0.0 0.0 0.0\n",
            "V  1.0 0.0 0.0 0.0 0.0 0.0 0.0 0.0 0.0 0.0 0.0 0.0 0.0 0.0 0.0 0.0 0.0 0.0 7.0 0.0 0.0\n",
            "Y  1.0 0.0 0.0 0.0 0.0 0.0 0.0 0.0 0.0 0.0 0.0 0.0 0.0 0.0 0.0 0.0 0.0 0.0 0.0 0.0 7.0\n",
            "N  1.0 0.0 0.0 0.0 0.0 0.0 0.0 0.0 0.0 0.0 0.0 0.0 7.0 0.0 0.0 0.0 0.0 0.0 0.0 0.0 0.0\n",
            "E  1.0 0.0 0.0 0.0 7.0 0.0 0.0 0.0 0.0 0.0 0.0 0.0 0.0 0.0 0.0 0.0 0.0 0.0 0.0 0.0 0.0\n",
            "L  1.0 0.0 0.0 0.0 0.0 0.0 0.0 0.0 0.0 0.0 7.0 0.0 0.0 0.0 0.0 0.0 0.0 0.0 0.0 0.0 0.0\n",
            "T  1.0 0.0 0.0 0.0 0.0 0.0 0.0 0.0 0.0 0.0 0.0 0.0 0.0 0.0 0.0 0.0 0.0 7.0 0.0 0.0 0.0\n",
            "K  1.0 0.0 0.0 0.0 0.0 0.0 0.0 0.0 0.0 7.0 0.0 0.0 0.0 0.0 0.0 0.0 0.0 0.0 0.0 0.0 0.0\n",
            "V  1.0 0.0 0.0 0.0 0.0 0.0 0.0 0.0 0.0 0.0 0.0 0.0 0.0 0.0 0.0 0.0 0.0 0.0 7.0 0.0 0.0\n",
            "K  1.0 0.0 0.0 0.0 0.0 0.0 0.0 0.0 0.0 7.0 0.0 0.0 0.0 0.0 0.0 0.0 0.0 0.0 0.0 0.0 0.0\n",
            "Y  1.0 0.0 0.0 0.0 0.0 0.0 0.0 0.0 0.0 0.0 0.0 0.0 0.0 0.0 0.0 0.0 0.0 0.0 0.0 0.0 7.0\n",
            "V  1.0 0.0 0.0 0.0 0.0 0.0 0.0 0.0 0.0 1.0 0.0 0.0 0.0 0.0 0.0 0.0 0.0 0.0 6.0 0.0 0.0\n",
            "T  1.0 0.0 0.0 0.0 0.0 0.0 0.0 0.0 0.0 0.0 0.0 0.0 0.0 0.0 0.0 0.0 0.0 7.0 0.0 0.0 0.0\n",
            "E  1.0 0.0 0.0 0.0 7.0 0.0 0.0 0.0 0.0 0.0 0.0 0.0 0.0 0.0 0.0 0.0 0.0 0.0 0.0 0.0 0.0\n",
            "G  1.0 0.0 0.0 0.0 0.0 0.0 6.0 0.0 0.0 0.0 0.0 0.0 0.0 0.0 1.0 0.0 0.0 0.0 0.0 0.0 0.0\n",
            "M  1.0 0.0 0.0 0.0 0.0 0.0 1.0 0.0 0.0 0.0 0.0 6.0 0.0 0.0 0.0 0.0 0.0 0.0 0.0 0.0 0.0\n",
            "R  2.0 0.0 0.0 0.0 0.0 0.0 0.0 0.0 0.0 0.0 0.0 0.0 0.0 0.0 0.0 6.0 0.0 0.0 0.0 0.0 0.0\n",
            "K  1.0 0.0 0.0 0.0 0.0 0.0 0.0 0.0 0.0 7.0 0.0 0.0 0.0 0.0 0.0 0.0 0.0 0.0 0.0 0.0 0.0\n",
            "P  1.0 0.0 0.0 0.0 0.0 0.0 0.0 0.0 0.0 0.0 0.0 0.0 0.0 6.0 0.0 0.0 0.0 1.0 0.0 0.0 0.0\n",
            "A  1.0 5.0 0.0 0.0 2.0 0.0 0.0 0.0 0.0 0.0 0.0 0.0 0.0 0.0 0.0 0.0 0.0 0.0 0.0 0.0 0.0\n",
            "F  1.0 0.0 0.0 0.0 0.0 7.0 0.0 0.0 0.0 0.0 0.0 0.0 0.0 0.0 0.0 0.0 0.0 0.0 0.0 0.0 0.0\n",
            "L  1.0 0.0 0.0 0.0 0.0 1.0 0.0 0.0 0.0 0.0 6.0 0.0 0.0 0.0 0.0 0.0 0.0 0.0 0.0 0.0 0.0\n",
            "S  1.0 0.0 0.0 1.0 0.0 0.0 0.0 0.0 0.0 0.0 0.0 0.0 0.0 0.0 0.0 0.0 6.0 0.0 0.0 0.0 0.0\n",
            "G  1.0 1.0 0.0 0.0 0.0 0.0 6.0 0.0 0.0 0.0 0.0 0.0 0.0 0.0 0.0 0.0 0.0 0.0 0.0 0.0 0.0\n",
            "X  1.0 0.0 0.0 0.0 4.0 0.0 0.0 0.0 0.0 2.0 0.0 0.0 1.0 0.0 0.0 0.0 0.0 0.0 0.0 0.0 0.0\n",
            "Q  1.0 0.0 0.0 0.0 0.0 0.0 0.0 0.0 0.0 0.0 0.0 1.0 0.0 0.0 6.0 0.0 0.0 0.0 0.0 0.0 0.0\n",
            "K  1.0 0.0 0.0 0.0 0.0 0.0 0.0 0.0 0.0 7.0 0.0 0.0 0.0 0.0 0.0 0.0 0.0 0.0 0.0 0.0 0.0\n",
            "X  1.0 0.0 0.0 0.0 2.0 0.0 0.0 0.0 0.0 4.0 0.0 0.0 0.0 0.0 1.0 0.0 0.0 0.0 0.0 0.0 0.0\n",
            "A  1.0 6.0 0.0 0.0 1.0 0.0 0.0 0.0 0.0 0.0 0.0 0.0 0.0 0.0 0.0 0.0 0.0 0.0 0.0 0.0 0.0\n",
            "I  1.0 0.0 0.0 0.0 0.0 0.0 0.0 0.0 7.0 0.0 0.0 0.0 0.0 0.0 0.0 0.0 0.0 0.0 0.0 0.0 0.0\n",
            "V  1.0 0.0 0.0 0.0 0.0 1.0 0.0 0.0 0.0 0.0 0.0 0.0 0.0 0.0 0.0 0.0 0.0 0.0 6.0 0.0 0.0\n",
            "D  1.0 0.0 0.0 7.0 0.0 0.0 0.0 0.0 0.0 0.0 0.0 0.0 0.0 0.0 0.0 0.0 0.0 0.0 0.0 0.0 0.0\n",
            "L  1.0 0.0 0.0 0.0 0.0 0.0 1.0 0.0 0.0 0.0 6.0 0.0 0.0 0.0 0.0 0.0 0.0 0.0 0.0 0.0 0.0\n",
            "L  1.0 0.0 0.0 0.0 0.0 0.0 0.0 0.0 0.0 0.0 6.0 0.0 0.0 0.0 0.0 0.0 0.0 0.0 1.0 0.0 0.0\n",
            "F  1.0 0.0 0.0 0.0 0.0 7.0 0.0 0.0 0.0 0.0 0.0 0.0 0.0 0.0 0.0 0.0 0.0 0.0 0.0 0.0 0.0\n",
            "K  1.0 0.0 0.0 0.0 0.0 0.0 0.0 0.0 0.0 7.0 0.0 0.0 0.0 0.0 0.0 0.0 0.0 0.0 0.0 0.0 0.0\n",
            "T  1.0 0.0 0.0 0.0 0.0 0.0 0.0 0.0 0.0 0.0 0.0 0.0 0.0 0.0 0.0 0.0 0.0 6.0 1.0 0.0 0.0\n",
            "N  1.0 0.0 0.0 0.0 0.0 0.0 0.0 0.0 0.0 0.0 0.0 0.0 6.0 0.0 0.0 0.0 0.0 0.0 0.0 0.0 1.0\n",
            "R  1.0 0.0 0.0 0.0 0.0 0.0 0.0 0.0 0.0 0.0 0.0 0.0 0.0 0.0 0.0 7.0 0.0 0.0 0.0 0.0 0.0\n",
            "K  1.0 0.0 0.0 0.0 0.0 0.0 0.0 0.0 0.0 7.0 0.0 0.0 0.0 0.0 0.0 0.0 0.0 0.0 0.0 0.0 0.0\n",
            "V  1.0 0.0 0.0 0.0 0.0 0.0 0.0 0.0 0.0 0.0 0.0 0.0 0.0 0.0 0.0 0.0 0.0 0.0 7.0 0.0 0.0\n",
            "T  1.0 0.0 0.0 0.0 0.0 0.0 0.0 0.0 0.0 0.0 0.0 0.0 0.0 0.0 0.0 0.0 0.0 7.0 0.0 0.0 0.0\n",
            "V  1.0 0.0 0.0 0.0 0.0 0.0 0.0 0.0 0.0 1.0 0.0 0.0 0.0 0.0 0.0 0.0 0.0 0.0 6.0 0.0 0.0\n",
            "K  1.0 0.0 0.0 1.0 0.0 0.0 0.0 0.0 0.0 6.0 0.0 0.0 0.0 0.0 0.0 0.0 0.0 0.0 0.0 0.0 0.0\n",
            "Q  1.0 0.0 0.0 0.0 0.0 0.0 0.0 0.0 0.0 1.0 0.0 0.0 0.0 0.0 6.0 0.0 0.0 0.0 0.0 0.0 0.0\n",
            "L  1.0 0.0 0.0 0.0 0.0 0.0 0.0 0.0 0.0 0.0 7.0 0.0 0.0 0.0 0.0 0.0 0.0 0.0 0.0 0.0 0.0\n",
            "K  1.0 0.0 0.0 0.0 0.0 0.0 0.0 0.0 0.0 6.0 0.0 1.0 0.0 0.0 0.0 0.0 0.0 0.0 0.0 0.0 0.0\n",
            "E  1.0 0.0 0.0 1.0 6.0 0.0 0.0 0.0 0.0 0.0 0.0 0.0 0.0 0.0 0.0 0.0 0.0 0.0 0.0 0.0 0.0\n",
            "D  1.0 0.0 0.0 6.0 0.0 1.0 0.0 0.0 0.0 0.0 0.0 0.0 0.0 0.0 0.0 0.0 0.0 0.0 0.0 0.0 0.0\n",
            "Y  1.0 0.0 0.0 0.0 0.0 0.0 0.0 0.0 0.0 0.0 1.0 0.0 0.0 0.0 0.0 0.0 0.0 0.0 0.0 0.0 6.0\n",
            "F  1.0 0.0 0.0 0.0 1.0 6.0 0.0 0.0 0.0 0.0 0.0 0.0 0.0 0.0 0.0 0.0 0.0 0.0 0.0 0.0 0.0\n",
            "K  1.0 0.0 0.0 0.0 0.0 0.0 0.0 0.0 0.0 7.0 0.0 0.0 0.0 0.0 0.0 0.0 0.0 0.0 0.0 0.0 0.0\n",
            "K  1.0 0.0 0.0 0.0 1.0 0.0 0.0 0.0 0.0 6.0 0.0 0.0 0.0 0.0 0.0 0.0 0.0 0.0 0.0 0.0 0.0\n",
            "I  1.0 0.0 0.0 0.0 0.0 1.0 0.0 0.0 6.0 0.0 0.0 0.0 0.0 0.0 0.0 0.0 0.0 0.0 0.0 0.0 0.0\n",
            "E  1.0 0.0 0.0 1.0 6.0 0.0 0.0 0.0 0.0 0.0 0.0 0.0 0.0 0.0 0.0 0.0 0.0 0.0 0.0 0.0 0.0\n",
            "C  1.0 0.0 5.0 0.0 1.0 0.0 0.0 0.0 0.0 0.0 0.0 0.0 0.0 0.0 0.0 0.0 0.0 0.0 0.0 0.0 1.0\n",
            "F  1.0 0.0 0.0 0.0 0.0 7.0 0.0 0.0 0.0 0.0 0.0 0.0 0.0 0.0 0.0 0.0 0.0 0.0 0.0 0.0 0.0\n",
            "D  1.0 0.0 0.0 6.0 0.0 0.0 0.0 0.0 0.0 0.0 0.0 0.0 0.0 0.0 0.0 1.0 0.0 0.0 0.0 0.0 0.0\n",
            "S  1.0 0.0 0.0 0.0 0.0 0.0 0.0 0.0 1.0 0.0 0.0 0.0 0.0 0.0 0.0 0.0 6.0 0.0 0.0 0.0 0.0\n",
            "V  1.0 0.0 0.0 0.0 0.0 0.0 0.0 0.0 0.0 0.0 0.0 0.0 0.0 0.0 0.0 0.0 0.0 0.0 7.0 0.0 0.0\n",
            "E  1.0 0.0 0.0 1.0 6.0 0.0 0.0 0.0 0.0 0.0 0.0 0.0 0.0 0.0 0.0 0.0 0.0 0.0 0.0 0.0 0.0\n",
            "I  1.0 0.0 0.0 0.0 0.0 0.0 0.0 0.0 6.0 0.0 1.0 0.0 0.0 0.0 0.0 0.0 0.0 0.0 0.0 0.0 0.0\n",
            "S  1.0 0.0 0.0 0.0 0.0 0.0 0.0 0.0 0.0 0.0 0.0 0.0 0.0 0.0 0.0 0.0 6.0 1.0 0.0 0.0 0.0\n",
            "G  1.0 0.0 0.0 0.0 0.0 0.0 7.0 0.0 0.0 0.0 0.0 0.0 0.0 0.0 0.0 0.0 0.0 0.0 0.0 0.0 0.0\n",
            "V  1.0 0.0 0.0 0.0 0.0 0.0 0.0 0.0 0.0 0.0 1.0 0.0 0.0 0.0 0.0 0.0 0.0 0.0 6.0 0.0 0.0\n",
            "D  7.0 0.0 0.0 1.0 0.0 0.0 0.0 0.0 0.0 0.0 0.0 0.0 0.0 0.0 0.0 0.0 0.0 0.0 0.0 0.0 0.0\n",
            "K  7.0 0.0 0.0 0.0 0.0 0.0 0.0 0.0 0.0 1.0 0.0 0.0 0.0 0.0 0.0 0.0 0.0 0.0 0.0 0.0 0.0\n",
            "E  7.0 0.0 0.0 0.0 1.0 0.0 0.0 0.0 0.0 0.0 0.0 0.0 0.0 0.0 0.0 0.0 0.0 0.0 0.0 0.0 0.0\n",
            "E  1.0 0.0 0.0 0.0 6.0 0.0 0.0 0.0 0.0 0.0 0.0 0.0 1.0 0.0 0.0 0.0 0.0 0.0 0.0 0.0 0.0\n",
            "D  1.0 0.0 0.0 6.0 0.0 0.0 0.0 0.0 0.0 1.0 0.0 0.0 0.0 0.0 0.0 0.0 0.0 0.0 0.0 0.0 0.0\n",
            "R  1.0 1.0 0.0 0.0 0.0 0.0 0.0 0.0 0.0 0.0 0.0 0.0 0.0 0.0 0.0 6.0 0.0 0.0 0.0 0.0 0.0\n",
            "F  1.0 0.0 0.0 0.0 0.0 7.0 0.0 0.0 0.0 0.0 0.0 0.0 0.0 0.0 0.0 0.0 0.0 0.0 0.0 0.0 0.0\n",
            "N  1.0 0.0 0.0 0.0 0.0 0.0 0.0 0.0 0.0 0.0 0.0 0.0 7.0 0.0 0.0 0.0 0.0 0.0 0.0 0.0 0.0\n",
            "A  1.0 7.0 0.0 0.0 0.0 0.0 0.0 0.0 0.0 0.0 0.0 0.0 0.0 0.0 0.0 0.0 0.0 0.0 0.0 0.0 0.0\n",
            "S  1.0 0.0 0.0 0.0 0.0 0.0 0.0 0.0 0.0 0.0 0.0 0.0 0.0 0.0 0.0 0.0 7.0 0.0 0.0 0.0 0.0\n",
            "L  1.0 0.0 0.0 0.0 0.0 0.0 0.0 0.0 0.0 0.0 6.0 0.0 0.0 0.0 0.0 0.0 0.0 0.0 0.0 0.0 1.0\n",
            "G  1.0 0.0 0.0 0.0 0.0 0.0 7.0 0.0 0.0 0.0 0.0 0.0 0.0 0.0 0.0 0.0 0.0 0.0 0.0 0.0 0.0\n",
            "T  1.0 0.0 0.0 0.0 0.0 0.0 0.0 0.0 0.0 0.0 0.0 0.0 0.0 0.0 0.0 0.0 0.0 7.0 0.0 0.0 0.0\n",
            "Y  1.0 0.0 0.0 0.0 0.0 0.0 0.0 0.0 0.0 0.0 0.0 0.0 0.0 0.0 0.0 0.0 0.0 0.0 0.0 0.0 7.0\n",
            "H  1.0 0.0 0.0 0.0 0.0 0.0 0.0 7.0 0.0 0.0 0.0 0.0 0.0 0.0 0.0 0.0 0.0 0.0 0.0 0.0 0.0\n",
            "D  1.0 0.0 0.0 7.0 0.0 0.0 0.0 0.0 0.0 0.0 0.0 0.0 0.0 0.0 0.0 0.0 0.0 0.0 0.0 0.0 0.0\n",
            "L  0.0 0.0 0.0 0.0 0.0 0.0 0.0 0.0 0.0 0.0 7.0 1.0 0.0 0.0 0.0 0.0 0.0 0.0 0.0 0.0 0.0\n",
            "L  0.0 0.0 0.0 0.0 0.0 0.0 0.0 0.0 0.0 0.0 7.0 0.0 0.0 0.0 0.0 1.0 0.0 0.0 0.0 0.0 0.0\n",
            "K  0.0 0.0 0.0 0.0 0.0 0.0 0.0 0.0 0.0 8.0 0.0 0.0 0.0 0.0 0.0 0.0 0.0 0.0 0.0 0.0 0.0\n",
            "I  0.0 0.0 0.0 0.0 0.0 0.0 0.0 0.0 8.0 0.0 0.0 0.0 0.0 0.0 0.0 0.0 0.0 0.0 0.0 0.0 0.0\n",
            "I  1.0 0.0 0.0 0.0 0.0 0.0 0.0 0.0 7.0 0.0 0.0 0.0 0.0 0.0 0.0 0.0 0.0 0.0 0.0 0.0 0.0\n",
            "K  0.0 0.0 0.0 0.0 0.0 0.0 0.0 0.0 0.0 7.0 1.0 0.0 0.0 0.0 0.0 0.0 0.0 0.0 0.0 0.0 0.0\n",
            "D  0.0 0.0 0.0 8.0 0.0 0.0 0.0 0.0 0.0 0.0 0.0 0.0 0.0 0.0 0.0 0.0 0.0 0.0 0.0 0.0 0.0\n",
            "K  0.0 0.0 0.0 0.0 0.0 0.0 0.0 0.0 0.0 8.0 0.0 0.0 0.0 0.0 0.0 0.0 0.0 0.0 0.0 0.0 0.0\n",
            "D  0.0 0.0 0.0 7.0 1.0 0.0 0.0 0.0 0.0 0.0 0.0 0.0 0.0 0.0 0.0 0.0 0.0 0.0 0.0 0.0 0.0\n",
            "F  0.0 0.0 0.0 0.0 0.0 8.0 0.0 0.0 0.0 0.0 0.0 0.0 0.0 0.0 0.0 0.0 0.0 0.0 0.0 0.0 0.0\n",
            "L  0.0 0.0 0.0 0.0 0.0 0.0 0.0 0.0 0.0 0.0 7.0 1.0 0.0 0.0 0.0 0.0 0.0 0.0 0.0 0.0 0.0\n",
            "D  0.0 0.0 0.0 8.0 0.0 0.0 0.0 0.0 0.0 0.0 0.0 0.0 0.0 0.0 0.0 0.0 0.0 0.0 0.0 0.0 0.0\n",
            "N  0.0 0.0 0.0 1.0 0.0 0.0 0.0 0.0 0.0 0.0 0.0 0.0 7.0 0.0 0.0 0.0 0.0 0.0 0.0 0.0 0.0\n",
            "E  0.0 0.0 0.0 0.0 6.0 0.0 0.0 0.0 0.0 0.0 0.0 0.0 0.0 1.0 0.0 0.0 1.0 0.0 0.0 0.0 0.0\n",
            "E  0.0 0.0 0.0 0.0 6.0 0.0 0.0 0.0 0.0 2.0 0.0 0.0 0.0 0.0 0.0 0.0 0.0 0.0 0.0 0.0 0.0\n",
            "N  0.0 0.0 0.0 0.0 0.0 0.0 0.0 0.0 0.0 0.0 0.0 0.0 8.0 0.0 0.0 0.0 0.0 0.0 0.0 0.0 0.0\n",
            "E  0.0 0.0 0.0 0.0 8.0 0.0 0.0 0.0 0.0 0.0 0.0 0.0 0.0 0.0 0.0 0.0 0.0 0.0 0.0 0.0 0.0\n",
            "D  0.0 0.0 0.0 6.0 1.0 0.0 0.0 0.0 0.0 1.0 0.0 0.0 0.0 0.0 0.0 0.0 0.0 0.0 0.0 0.0 0.0\n",
            "I  0.0 0.0 0.0 0.0 0.0 0.0 0.0 0.0 8.0 0.0 0.0 0.0 0.0 0.0 0.0 0.0 0.0 0.0 0.0 0.0 0.0\n",
            "L  0.0 0.0 0.0 0.0 0.0 0.0 0.0 0.0 0.0 0.0 8.0 0.0 0.0 0.0 0.0 0.0 0.0 0.0 0.0 0.0 0.0\n",
            "E  0.0 0.0 0.0 0.0 8.0 0.0 0.0 0.0 0.0 0.0 0.0 0.0 0.0 0.0 0.0 0.0 0.0 0.0 0.0 0.0 0.0\n",
            "D  0.0 0.0 0.0 7.0 0.0 0.0 0.0 0.0 0.0 0.0 0.0 0.0 1.0 0.0 0.0 0.0 0.0 0.0 0.0 0.0 0.0\n",
            "I  0.0 0.0 0.0 0.0 0.0 0.0 0.0 0.0 8.0 0.0 0.0 0.0 0.0 0.0 0.0 0.0 0.0 0.0 0.0 0.0 0.0\n",
            "V  0.0 0.0 0.0 0.0 0.0 0.0 0.0 0.0 0.0 0.0 0.0 0.0 0.0 0.0 0.0 0.0 0.0 0.0 8.0 0.0 0.0\n",
            "L  0.0 0.0 0.0 0.0 0.0 0.0 0.0 1.0 0.0 0.0 7.0 0.0 0.0 0.0 0.0 0.0 0.0 0.0 0.0 0.0 0.0\n",
            "T  0.0 0.0 0.0 0.0 0.0 0.0 0.0 0.0 0.0 0.0 0.0 0.0 0.0 0.0 0.0 0.0 0.0 8.0 0.0 0.0 0.0\n",
            "L  0.0 0.0 0.0 0.0 0.0 0.0 0.0 0.0 0.0 0.0 8.0 0.0 0.0 0.0 0.0 0.0 0.0 0.0 0.0 0.0 0.0\n",
            "T  0.0 0.0 0.0 0.0 0.0 0.0 0.0 0.0 0.0 0.0 0.0 0.0 0.0 0.0 0.0 0.0 0.0 8.0 0.0 0.0 0.0\n",
            "L  0.0 0.0 0.0 0.0 0.0 0.0 0.0 0.0 1.0 0.0 7.0 0.0 0.0 0.0 0.0 0.0 0.0 0.0 0.0 0.0 0.0\n",
            "F  0.0 0.0 0.0 0.0 0.0 8.0 0.0 0.0 0.0 0.0 0.0 0.0 0.0 0.0 0.0 0.0 0.0 0.0 0.0 0.0 0.0\n",
            "E  0.0 0.0 0.0 0.0 8.0 0.0 0.0 0.0 0.0 0.0 0.0 0.0 0.0 0.0 0.0 0.0 0.0 0.0 0.0 0.0 0.0\n",
            "D  0.0 0.0 0.0 8.0 0.0 0.0 0.0 0.0 0.0 0.0 0.0 0.0 0.0 0.0 0.0 0.0 0.0 0.0 0.0 0.0 0.0\n",
            "X  0.0 0.0 0.0 0.0 0.0 0.0 0.0 0.0 0.0 3.0 0.0 0.0 0.0 0.0 0.0 5.0 0.0 0.0 0.0 0.0 0.0\n",
            "E  0.0 0.0 0.0 0.0 8.0 0.0 0.0 0.0 0.0 0.0 0.0 0.0 0.0 0.0 0.0 0.0 0.0 0.0 0.0 0.0 0.0\n",
            "M  0.0 0.0 0.0 0.0 0.0 0.0 0.0 0.0 0.0 0.0 0.0 8.0 0.0 0.0 0.0 0.0 0.0 0.0 0.0 0.0 0.0\n",
            "I  0.0 0.0 0.0 0.0 0.0 0.0 0.0 0.0 8.0 0.0 0.0 0.0 0.0 0.0 0.0 0.0 0.0 0.0 0.0 0.0 0.0\n",
            "E  0.0 0.0 0.0 0.0 6.0 0.0 0.0 0.0 0.0 1.0 0.0 0.0 0.0 0.0 0.0 1.0 0.0 0.0 0.0 0.0 0.0\n",
            "E  0.0 0.0 0.0 0.0 6.0 0.0 0.0 0.0 0.0 1.0 0.0 0.0 0.0 0.0 1.0 0.0 0.0 0.0 0.0 0.0 0.0\n",
            "R  0.0 0.0 0.0 0.0 0.0 0.0 0.0 0.0 0.0 0.0 0.0 0.0 0.0 0.0 0.0 8.0 0.0 0.0 0.0 0.0 0.0\n",
            "L  0.0 0.0 0.0 0.0 0.0 0.0 0.0 0.0 0.0 0.0 8.0 0.0 0.0 0.0 0.0 0.0 0.0 0.0 0.0 0.0 0.0\n",
            "K  0.0 1.0 0.0 0.0 0.0 0.0 0.0 0.0 0.0 7.0 0.0 0.0 0.0 0.0 0.0 0.0 0.0 0.0 0.0 0.0 0.0\n",
            "X  0.0 0.0 0.0 0.0 0.0 0.0 0.0 0.0 0.0 1.0 0.0 0.0 1.0 0.0 1.0 0.0 0.0 5.0 0.0 0.0 0.0\n",
            "Y  0.0 0.0 0.0 0.0 0.0 0.0 0.0 0.0 0.0 0.0 0.0 0.0 0.0 0.0 0.0 0.0 0.0 0.0 0.0 0.0 8.0\n",
            "A  0.0 6.0 0.0 1.0 0.0 0.0 0.0 0.0 0.0 0.0 0.0 0.0 0.0 0.0 0.0 0.0 1.0 0.0 0.0 0.0 0.0\n",
            "X  0.0 0.0 0.0 1.0 0.0 0.0 0.0 5.0 0.0 0.0 0.0 0.0 1.0 0.0 0.0 0.0 1.0 0.0 0.0 0.0 0.0\n",
            "L  0.0 0.0 0.0 0.0 0.0 0.0 0.0 0.0 0.0 0.0 8.0 0.0 0.0 0.0 0.0 0.0 0.0 0.0 0.0 0.0 0.0\n",
            "F  0.0 0.0 0.0 0.0 0.0 7.0 0.0 0.0 0.0 0.0 1.0 0.0 0.0 0.0 0.0 0.0 0.0 0.0 0.0 0.0 0.0\n",
            "D  0.0 0.0 0.0 7.0 0.0 0.0 0.0 0.0 0.0 0.0 0.0 0.0 0.0 0.0 0.0 0.0 0.0 1.0 0.0 0.0 0.0\n",
            "D  0.0 0.0 0.0 6.0 1.0 0.0 0.0 0.0 0.0 1.0 0.0 0.0 0.0 0.0 0.0 0.0 0.0 0.0 0.0 0.0 0.0\n",
            "K  0.0 0.0 0.0 0.0 1.0 0.0 0.0 0.0 0.0 7.0 0.0 0.0 0.0 0.0 0.0 0.0 0.0 0.0 0.0 0.0 0.0\n",
            "V  0.0 0.0 0.0 0.0 0.0 0.0 0.0 0.0 0.0 0.0 0.0 0.0 0.0 0.0 1.0 0.0 0.0 0.0 7.0 0.0 0.0\n",
            "M  0.0 0.0 0.0 0.0 0.0 0.0 0.0 0.0 1.0 0.0 1.0 6.0 0.0 0.0 0.0 0.0 0.0 0.0 0.0 0.0 0.0\n",
            "K  0.0 0.0 0.0 0.0 0.0 0.0 0.0 0.0 0.0 8.0 0.0 0.0 0.0 0.0 0.0 0.0 0.0 0.0 0.0 0.0 0.0\n",
            "Q  0.0 1.0 0.0 0.0 0.0 0.0 0.0 0.0 0.0 1.0 0.0 0.0 0.0 0.0 6.0 0.0 0.0 0.0 0.0 0.0 0.0\n",
            "L  0.0 0.0 0.0 0.0 0.0 0.0 0.0 0.0 0.0 0.0 8.0 0.0 0.0 0.0 0.0 0.0 0.0 0.0 0.0 0.0 0.0\n",
            "K  0.0 0.0 0.0 0.0 1.0 0.0 0.0 0.0 0.0 6.0 0.0 0.0 0.0 0.0 0.0 0.0 0.0 1.0 0.0 0.0 0.0\n",
            "R  0.0 0.0 0.0 0.0 0.0 0.0 0.0 0.0 0.0 0.0 0.0 0.0 0.0 0.0 0.0 8.0 0.0 0.0 0.0 0.0 0.0\n",
            "R  0.0 0.0 0.0 0.0 0.0 0.0 0.0 0.0 0.0 0.0 0.0 0.0 0.0 0.0 0.0 8.0 0.0 0.0 0.0 0.0 0.0\n",
            "X  0.0 0.0 0.0 0.0 0.0 0.0 0.0 5.0 0.0 0.0 0.0 0.0 0.0 0.0 0.0 3.0 0.0 0.0 0.0 0.0 0.0\n",
            "Y  0.0 0.0 0.0 0.0 0.0 0.0 0.0 0.0 0.0 0.0 0.0 0.0 0.0 0.0 0.0 0.0 0.0 0.0 0.0 0.0 8.0\n",
            "T  0.0 0.0 0.0 0.0 0.0 0.0 0.0 0.0 0.0 0.0 0.0 0.0 0.0 0.0 0.0 0.0 0.0 8.0 0.0 0.0 0.0\n",
            "G  0.0 0.0 0.0 0.0 0.0 0.0 8.0 0.0 0.0 0.0 0.0 0.0 0.0 0.0 0.0 0.0 0.0 0.0 0.0 0.0 0.0\n",
            "W  0.0 0.0 0.0 0.0 0.0 0.0 0.0 0.0 0.0 0.0 0.0 0.0 0.0 0.0 0.0 0.0 0.0 0.0 0.0 8.0 0.0\n",
            "G  0.0 0.0 0.0 0.0 0.0 0.0 8.0 0.0 0.0 0.0 0.0 0.0 0.0 0.0 0.0 0.0 0.0 0.0 0.0 0.0 0.0\n",
            "R  0.0 0.0 0.0 0.0 0.0 0.0 0.0 0.0 0.0 1.0 0.0 0.0 0.0 0.0 0.0 7.0 0.0 0.0 0.0 0.0 0.0\n",
            "L  0.0 0.0 0.0 0.0 0.0 0.0 0.0 0.0 0.0 0.0 8.0 0.0 0.0 0.0 0.0 0.0 0.0 0.0 0.0 0.0 0.0\n",
            "S  0.0 0.0 0.0 0.0 0.0 0.0 0.0 0.0 0.0 0.0 0.0 0.0 0.0 0.0 0.0 0.0 8.0 0.0 0.0 0.0 0.0\n",
            "R  0.0 2.0 0.0 0.0 0.0 0.0 0.0 0.0 0.0 0.0 0.0 0.0 0.0 0.0 0.0 6.0 0.0 0.0 0.0 0.0 0.0\n",
            "K  0.0 0.0 0.0 0.0 1.0 0.0 0.0 0.0 0.0 7.0 0.0 0.0 0.0 0.0 0.0 0.0 0.0 0.0 0.0 0.0 0.0\n",
            "L  0.0 0.0 0.0 0.0 0.0 0.0 0.0 0.0 0.0 0.0 8.0 0.0 0.0 0.0 0.0 0.0 0.0 0.0 0.0 0.0 0.0\n",
            "I  0.0 0.0 0.0 0.0 0.0 0.0 0.0 0.0 8.0 0.0 0.0 0.0 0.0 0.0 0.0 0.0 0.0 0.0 0.0 0.0 0.0\n",
            "N  0.0 0.0 0.0 0.0 0.0 0.0 0.0 1.0 0.0 0.0 0.0 0.0 7.0 0.0 0.0 0.0 0.0 0.0 0.0 0.0 0.0\n",
            "G  0.0 0.0 0.0 0.0 0.0 0.0 8.0 0.0 0.0 0.0 0.0 0.0 0.0 0.0 0.0 0.0 0.0 0.0 0.0 0.0 0.0\n",
            "I  0.0 0.0 0.0 0.0 0.0 0.0 0.0 0.0 8.0 0.0 0.0 0.0 0.0 0.0 0.0 0.0 0.0 0.0 0.0 0.0 0.0\n",
            "R  0.0 0.0 1.0 0.0 0.0 0.0 0.0 0.0 0.0 0.0 0.0 0.0 0.0 0.0 0.0 7.0 0.0 0.0 0.0 0.0 0.0\n",
            "D  0.0 0.0 0.0 7.0 0.0 0.0 0.0 0.0 0.0 0.0 0.0 0.0 1.0 0.0 0.0 0.0 0.0 0.0 0.0 0.0 0.0\n",
            "K  0.0 0.0 0.0 0.0 0.0 0.0 0.0 0.0 0.0 8.0 0.0 0.0 0.0 0.0 0.0 0.0 0.0 0.0 0.0 0.0 0.0\n",
            "Q  0.0 0.0 0.0 0.0 1.0 0.0 0.0 0.0 0.0 0.0 0.0 0.0 0.0 0.0 7.0 0.0 0.0 0.0 0.0 0.0 0.0\n",
            "S  0.0 0.0 0.0 0.0 0.0 0.0 0.0 0.0 0.0 0.0 0.0 0.0 0.0 0.0 0.0 0.0 7.0 1.0 0.0 0.0 0.0\n",
            "G  0.0 0.0 0.0 0.0 0.0 0.0 7.0 0.0 0.0 0.0 0.0 0.0 0.0 0.0 0.0 1.0 0.0 0.0 0.0 0.0 0.0\n",
            "K  0.0 0.0 0.0 0.0 0.0 0.0 0.0 0.0 0.0 8.0 0.0 0.0 0.0 0.0 0.0 0.0 0.0 0.0 0.0 0.0 0.0\n",
            "T  0.0 0.0 0.0 0.0 0.0 0.0 0.0 0.0 0.0 0.0 0.0 0.0 0.0 0.0 0.0 0.0 0.0 8.0 0.0 0.0 0.0\n",
            "I  0.0 0.0 0.0 0.0 0.0 0.0 0.0 0.0 8.0 0.0 0.0 0.0 0.0 0.0 0.0 0.0 0.0 0.0 0.0 0.0 0.0\n",
            "L  0.0 0.0 0.0 0.0 0.0 0.0 0.0 0.0 0.0 0.0 8.0 0.0 0.0 0.0 0.0 0.0 0.0 0.0 0.0 0.0 0.0\n",
            "D  0.0 0.0 0.0 8.0 0.0 0.0 0.0 0.0 0.0 0.0 0.0 0.0 0.0 0.0 0.0 0.0 0.0 0.0 0.0 0.0 0.0\n",
            "F  0.0 0.0 0.0 0.0 0.0 6.0 0.0 0.0 0.0 0.0 0.0 0.0 0.0 0.0 0.0 0.0 0.0 0.0 0.0 0.0 2.0\n",
            "L  0.0 0.0 0.0 0.0 0.0 0.0 0.0 0.0 0.0 0.0 8.0 0.0 0.0 0.0 0.0 0.0 0.0 0.0 0.0 0.0 0.0\n",
            "K  0.0 0.0 0.0 0.0 0.0 0.0 0.0 0.0 2.0 6.0 0.0 0.0 0.0 0.0 0.0 0.0 0.0 0.0 0.0 0.0 0.0\n",
            "S  0.0 0.0 0.0 2.0 0.0 0.0 0.0 0.0 0.0 0.0 0.0 0.0 0.0 0.0 0.0 0.0 6.0 0.0 0.0 0.0 0.0\n",
            "D  0.0 0.0 0.0 8.0 0.0 0.0 0.0 0.0 0.0 0.0 0.0 0.0 0.0 0.0 0.0 0.0 0.0 0.0 0.0 0.0 0.0\n",
            "G  0.0 0.0 0.0 0.0 0.0 0.0 8.0 0.0 0.0 0.0 0.0 0.0 0.0 0.0 0.0 0.0 0.0 0.0 0.0 0.0 0.0\n",
            "F  0.0 0.0 0.0 0.0 0.0 6.0 0.0 0.0 0.0 1.0 0.0 0.0 1.0 0.0 0.0 0.0 0.0 0.0 0.0 0.0 0.0\n",
            "A  0.0 6.0 0.0 0.0 0.0 0.0 0.0 0.0 1.0 0.0 0.0 0.0 0.0 0.0 0.0 0.0 1.0 0.0 0.0 0.0 0.0\n",
            "N  0.0 0.0 0.0 0.0 0.0 0.0 0.0 0.0 0.0 0.0 0.0 0.0 8.0 0.0 0.0 0.0 0.0 0.0 0.0 0.0 0.0\n",
            "R  0.0 0.0 0.0 0.0 0.0 0.0 0.0 0.0 0.0 0.0 0.0 0.0 0.0 0.0 0.0 8.0 0.0 0.0 0.0 0.0 0.0\n",
            "N  0.0 0.0 0.0 0.0 0.0 0.0 0.0 0.0 0.0 0.0 0.0 0.0 8.0 0.0 0.0 0.0 0.0 0.0 0.0 0.0 0.0\n",
            "F  0.0 0.0 0.0 0.0 0.0 8.0 0.0 0.0 0.0 0.0 0.0 0.0 0.0 0.0 0.0 0.0 0.0 0.0 0.0 0.0 0.0\n",
            "M  0.0 0.0 0.0 0.0 0.0 0.0 0.0 0.0 2.0 0.0 0.0 6.0 0.0 0.0 0.0 0.0 0.0 0.0 0.0 0.0 0.0\n",
            "Q  0.0 0.0 0.0 0.0 0.0 0.0 0.0 0.0 0.0 0.0 0.0 0.0 0.0 0.0 8.0 0.0 0.0 0.0 0.0 0.0 0.0\n",
            "L  0.0 0.0 0.0 0.0 0.0 0.0 0.0 0.0 0.0 0.0 8.0 0.0 0.0 0.0 0.0 0.0 0.0 0.0 0.0 0.0 0.0\n",
            "I  0.0 0.0 0.0 0.0 0.0 0.0 0.0 0.0 8.0 0.0 0.0 0.0 0.0 0.0 0.0 0.0 0.0 0.0 0.0 0.0 0.0\n",
            "X  0.0 0.0 0.0 0.0 0.0 0.0 0.0 5.0 0.0 0.0 0.0 0.0 3.0 0.0 0.0 0.0 0.0 0.0 0.0 0.0 0.0\n",
            "D  0.0 0.0 0.0 8.0 0.0 0.0 0.0 0.0 0.0 0.0 0.0 0.0 0.0 0.0 0.0 0.0 0.0 0.0 0.0 0.0 0.0\n",
            "D  0.0 0.0 0.0 8.0 0.0 0.0 0.0 0.0 0.0 0.0 0.0 0.0 0.0 0.0 0.0 0.0 0.0 0.0 0.0 0.0 0.0\n",
            "S  0.0 1.0 0.0 0.0 0.0 0.0 1.0 0.0 0.0 0.0 0.0 0.0 0.0 0.0 0.0 0.0 6.0 0.0 0.0 0.0 0.0\n",
            "L  0.0 0.0 0.0 0.0 0.0 0.0 0.0 0.0 0.0 0.0 8.0 0.0 0.0 0.0 0.0 0.0 0.0 0.0 0.0 0.0 0.0\n",
            "T  0.0 0.0 0.0 0.0 0.0 0.0 0.0 0.0 0.0 0.0 0.0 0.0 0.0 0.0 0.0 0.0 2.0 6.0 0.0 0.0 0.0\n",
            "F  0.0 0.0 0.0 0.0 0.0 8.0 0.0 0.0 0.0 0.0 0.0 0.0 0.0 0.0 0.0 0.0 0.0 0.0 0.0 0.0 0.0\n",
            "K  0.0 0.0 0.0 0.0 0.0 0.0 0.0 0.0 0.0 8.0 0.0 0.0 0.0 0.0 0.0 0.0 0.0 0.0 0.0 0.0 0.0\n",
            "E  0.0 0.0 0.0 0.0 8.0 0.0 0.0 0.0 0.0 0.0 0.0 0.0 0.0 0.0 0.0 0.0 0.0 0.0 0.0 0.0 0.0\n",
            "X  0.0 3.0 0.0 3.0 1.0 0.0 0.0 0.0 1.0 0.0 0.0 0.0 0.0 0.0 0.0 0.0 0.0 0.0 0.0 0.0 0.0\n",
            "I  0.0 0.0 0.0 0.0 0.0 0.0 0.0 0.0 8.0 0.0 0.0 0.0 0.0 0.0 0.0 0.0 0.0 0.0 0.0 0.0 0.0\n",
            "Q  0.0 1.0 0.0 0.0 0.0 0.0 0.0 0.0 0.0 0.0 0.0 0.0 0.0 0.0 7.0 0.0 0.0 0.0 0.0 0.0 0.0\n",
            "K  0.0 0.0 0.0 0.0 0.0 0.0 0.0 0.0 0.0 8.0 0.0 0.0 0.0 0.0 0.0 0.0 0.0 0.0 0.0 0.0 0.0\n",
            "A  0.0 8.0 0.0 0.0 0.0 0.0 0.0 0.0 0.0 0.0 0.0 0.0 0.0 0.0 0.0 0.0 0.0 0.0 0.0 0.0 0.0\n",
            "Q  0.0 0.0 0.0 0.0 0.0 0.0 0.0 0.0 0.0 0.0 0.0 0.0 0.0 0.0 8.0 0.0 0.0 0.0 0.0 0.0 0.0\n",
            "V  0.0 0.0 0.0 0.0 0.0 0.0 0.0 0.0 0.0 0.0 0.0 0.0 0.0 0.0 0.0 0.0 0.0 0.0 8.0 0.0 0.0\n",
            "S  0.0 0.0 0.0 0.0 0.0 0.0 0.0 0.0 1.0 0.0 0.0 0.0 0.0 0.0 0.0 0.0 6.0 0.0 1.0 0.0 0.0\n",
            "G  0.0 0.0 0.0 0.0 0.0 0.0 8.0 0.0 0.0 0.0 0.0 0.0 0.0 0.0 0.0 0.0 0.0 0.0 0.0 0.0 0.0\n",
            "Q  0.0 0.0 0.0 0.0 1.0 0.0 0.0 0.0 0.0 1.0 0.0 0.0 0.0 0.0 6.0 0.0 0.0 0.0 0.0 0.0 0.0\n",
            "G  0.0 0.0 0.0 0.0 0.0 0.0 6.0 0.0 0.0 0.0 0.0 0.0 0.0 0.0 0.0 0.0 0.0 2.0 0.0 0.0 0.0\n",
            "X  0.0 0.0 0.0 4.0 0.0 0.0 0.0 3.0 0.0 0.0 0.0 0.0 0.0 0.0 0.0 0.0 0.0 0.0 0.0 0.0 1.0\n",
            "S  0.0 0.0 0.0 1.0 0.0 0.0 0.0 0.0 0.0 0.0 0.0 0.0 1.0 0.0 0.0 0.0 6.0 0.0 0.0 0.0 0.0\n",
            "L  0.0 0.0 0.0 0.0 0.0 0.0 0.0 0.0 0.0 0.0 7.0 0.0 0.0 0.0 0.0 0.0 0.0 0.0 1.0 0.0 0.0\n",
            "H  0.0 0.0 0.0 0.0 0.0 0.0 0.0 6.0 0.0 1.0 0.0 0.0 1.0 0.0 0.0 0.0 0.0 0.0 0.0 0.0 0.0\n",
            "E  0.0 0.0 0.0 0.0 6.0 0.0 0.0 0.0 0.0 0.0 0.0 0.0 0.0 0.0 2.0 0.0 0.0 0.0 0.0 0.0 0.0\n",
            "X  0.0 0.0 0.0 0.0 0.0 0.0 0.0 3.0 0.0 0.0 0.0 0.0 0.0 0.0 3.0 0.0 0.0 0.0 2.0 0.0 0.0\n",
            "I  0.0 0.0 0.0 0.0 0.0 0.0 0.0 0.0 6.0 0.0 0.0 0.0 0.0 0.0 0.0 0.0 0.0 0.0 2.0 0.0 0.0\n",
            "A  0.0 6.0 0.0 0.0 0.0 0.0 0.0 0.0 0.0 0.0 0.0 0.0 0.0 0.0 1.0 0.0 1.0 0.0 0.0 0.0 0.0\n",
            "N  0.0 0.0 0.0 1.0 1.0 0.0 0.0 0.0 0.0 0.0 0.0 0.0 6.0 0.0 0.0 0.0 0.0 0.0 0.0 0.0 0.0\n",
            "L  0.0 0.0 0.0 0.0 0.0 0.0 0.0 0.0 1.0 0.0 7.0 0.0 0.0 0.0 0.0 0.0 0.0 0.0 0.0 0.0 0.0\n",
            "A  0.0 7.0 0.0 0.0 0.0 0.0 0.0 0.0 0.0 0.0 0.0 0.0 0.0 1.0 0.0 0.0 0.0 0.0 0.0 0.0 0.0\n",
            "G  0.0 0.0 0.0 0.0 0.0 0.0 8.0 0.0 0.0 0.0 0.0 0.0 0.0 0.0 0.0 0.0 0.0 0.0 0.0 0.0 0.0\n",
            "S  0.0 0.0 0.0 0.0 0.0 0.0 0.0 0.0 0.0 0.0 0.0 0.0 0.0 0.0 0.0 0.0 8.0 0.0 0.0 0.0 0.0\n",
            "P  0.0 0.0 0.0 0.0 0.0 0.0 0.0 0.0 0.0 0.0 0.0 0.0 0.0 8.0 0.0 0.0 0.0 0.0 0.0 0.0 0.0\n",
            "A  0.0 8.0 0.0 0.0 0.0 0.0 0.0 0.0 0.0 0.0 0.0 0.0 0.0 0.0 0.0 0.0 0.0 0.0 0.0 0.0 0.0\n",
            "I  0.0 0.0 0.0 0.0 0.0 0.0 0.0 0.0 8.0 0.0 0.0 0.0 0.0 0.0 0.0 0.0 0.0 0.0 0.0 0.0 0.0\n",
            "K  0.0 0.0 0.0 0.0 0.0 0.0 0.0 0.0 0.0 8.0 0.0 0.0 0.0 0.0 0.0 0.0 0.0 0.0 0.0 0.0 0.0\n",
            "K  0.0 0.0 0.0 0.0 0.0 0.0 0.0 0.0 0.0 8.0 0.0 0.0 0.0 0.0 0.0 0.0 0.0 0.0 0.0 0.0 0.0\n",
            "G  0.0 0.0 0.0 0.0 0.0 0.0 8.0 0.0 0.0 0.0 0.0 0.0 0.0 0.0 0.0 0.0 0.0 0.0 0.0 0.0 0.0\n",
            "I  0.0 0.0 0.0 0.0 0.0 0.0 0.0 0.0 8.0 0.0 0.0 0.0 0.0 0.0 0.0 0.0 0.0 0.0 0.0 0.0 0.0\n",
            "L  0.0 0.0 0.0 0.0 0.0 0.0 0.0 0.0 0.0 0.0 8.0 0.0 0.0 0.0 0.0 0.0 0.0 0.0 0.0 0.0 0.0\n",
            "Q  0.0 0.0 0.0 0.0 0.0 0.0 0.0 0.0 0.0 0.0 0.0 0.0 0.0 0.0 8.0 0.0 0.0 0.0 0.0 0.0 0.0\n",
            "X  0.0 0.0 0.0 0.0 0.0 0.0 0.0 0.0 0.0 0.0 0.0 0.0 0.0 0.0 0.0 0.0 5.0 3.0 0.0 0.0 0.0\n",
            "V  0.0 0.0 0.0 0.0 0.0 0.0 0.0 0.0 0.0 0.0 1.0 0.0 0.0 0.0 0.0 0.0 0.0 0.0 7.0 0.0 0.0\n",
            "K  0.0 0.0 0.0 0.0 0.0 0.0 0.0 0.0 0.0 8.0 0.0 0.0 0.0 0.0 0.0 0.0 0.0 0.0 0.0 0.0 0.0\n",
            "V  0.0 0.0 0.0 0.0 0.0 0.0 0.0 0.0 1.0 0.0 1.0 0.0 0.0 0.0 0.0 0.0 0.0 0.0 6.0 0.0 0.0\n",
            "V  0.0 0.0 0.0 0.0 0.0 0.0 0.0 0.0 0.0 0.0 0.0 0.0 0.0 0.0 0.0 0.0 0.0 0.0 8.0 0.0 0.0\n",
            "D  0.0 0.0 0.0 8.0 0.0 0.0 0.0 0.0 0.0 0.0 0.0 0.0 0.0 0.0 0.0 0.0 0.0 0.0 0.0 0.0 0.0\n",
            "E  0.0 0.0 0.0 0.0 8.0 0.0 0.0 0.0 0.0 0.0 0.0 0.0 0.0 0.0 0.0 0.0 0.0 0.0 0.0 0.0 0.0\n",
            "L  0.0 0.0 0.0 0.0 0.0 0.0 0.0 0.0 0.0 0.0 8.0 0.0 0.0 0.0 0.0 0.0 0.0 0.0 0.0 0.0 0.0\n",
            "V  0.0 0.0 0.0 0.0 0.0 0.0 0.0 0.0 0.0 0.0 0.0 0.0 0.0 0.0 0.0 0.0 0.0 0.0 8.0 0.0 0.0\n",
            "K  0.0 0.0 0.0 0.0 0.0 0.0 0.0 0.0 0.0 8.0 0.0 0.0 0.0 0.0 0.0 0.0 0.0 0.0 0.0 0.0 0.0\n",
            "V  0.0 0.0 0.0 0.0 0.0 0.0 0.0 0.0 1.0 0.0 0.0 0.0 0.0 0.0 0.0 0.0 0.0 0.0 7.0 0.0 0.0\n",
            "M  0.0 0.0 0.0 0.0 0.0 0.0 0.0 0.0 0.0 0.0 0.0 8.0 0.0 0.0 0.0 0.0 0.0 0.0 0.0 0.0 0.0\n",
            "G  0.0 0.0 0.0 0.0 0.0 0.0 8.0 0.0 0.0 0.0 0.0 0.0 0.0 0.0 0.0 0.0 0.0 0.0 0.0 0.0 0.0\n",
            "R  5.0 0.0 0.0 0.0 0.0 0.0 0.0 0.0 0.0 0.0 0.0 0.0 0.0 0.0 0.0 3.0 0.0 0.0 0.0 0.0 0.0\n",
            "H  0.0 0.0 0.0 0.0 0.0 0.0 0.0 8.0 0.0 0.0 0.0 0.0 0.0 0.0 0.0 0.0 0.0 0.0 0.0 0.0 0.0\n",
            "K  0.0 1.0 0.0 0.0 0.0 0.0 0.0 0.0 0.0 6.0 0.0 0.0 0.0 0.0 1.0 0.0 0.0 0.0 0.0 0.0 0.0\n",
            "P  0.0 0.0 0.0 0.0 0.0 0.0 0.0 0.0 0.0 0.0 0.0 0.0 0.0 8.0 0.0 0.0 0.0 0.0 0.0 0.0 0.0\n",
            "E  0.0 0.0 0.0 0.0 8.0 0.0 0.0 0.0 0.0 0.0 0.0 0.0 0.0 0.0 0.0 0.0 0.0 0.0 0.0 0.0 0.0\n",
            "N  0.0 0.0 0.0 0.0 0.0 0.0 0.0 0.0 0.0 0.0 0.0 0.0 7.0 0.0 0.0 0.0 1.0 0.0 0.0 0.0 0.0\n",
            "I  0.0 0.0 0.0 0.0 0.0 0.0 0.0 0.0 8.0 0.0 0.0 0.0 0.0 0.0 0.0 0.0 0.0 0.0 0.0 0.0 0.0\n",
            "V  0.0 0.0 0.0 0.0 0.0 0.0 0.0 0.0 0.0 0.0 0.0 0.0 0.0 0.0 0.0 0.0 0.0 0.0 8.0 0.0 0.0\n",
            "I  0.0 0.0 0.0 0.0 0.0 0.0 0.0 0.0 7.0 0.0 0.0 0.0 0.0 0.0 0.0 0.0 0.0 0.0 1.0 0.0 0.0\n",
            "E  0.0 0.0 0.0 0.0 8.0 0.0 0.0 0.0 0.0 0.0 0.0 0.0 0.0 0.0 0.0 0.0 0.0 0.0 0.0 0.0 0.0\n",
            "M  0.0 0.0 0.0 0.0 0.0 0.0 0.0 0.0 0.0 0.0 0.0 8.0 0.0 0.0 0.0 0.0 0.0 0.0 0.0 0.0 0.0\n",
            "A  0.0 8.0 0.0 0.0 0.0 0.0 0.0 0.0 0.0 0.0 0.0 0.0 0.0 0.0 0.0 0.0 0.0 0.0 0.0 0.0 0.0\n",
            "R  0.0 0.0 0.0 0.0 0.0 0.0 0.0 0.0 0.0 0.0 0.0 0.0 0.0 0.0 0.0 8.0 0.0 0.0 0.0 0.0 0.0\n",
            "E  0.0 0.0 0.0 0.0 8.0 0.0 0.0 0.0 0.0 0.0 0.0 0.0 0.0 0.0 0.0 0.0 0.0 0.0 0.0 0.0 0.0\n",
            "N  0.0 0.0 0.0 0.0 0.0 0.0 0.0 0.0 0.0 0.0 0.0 0.0 8.0 0.0 0.0 0.0 0.0 0.0 0.0 0.0 0.0\n",
            "Q  0.0 0.0 0.0 0.0 0.0 0.0 0.0 0.0 0.0 0.0 0.0 0.0 0.0 0.0 8.0 0.0 0.0 0.0 0.0 0.0 0.0\n",
            "T  0.0 0.0 0.0 0.0 0.0 1.0 0.0 0.0 0.0 0.0 0.0 0.0 0.0 0.0 0.0 0.0 0.0 7.0 0.0 0.0 0.0\n",
            "T  0.0 0.0 0.0 0.0 0.0 0.0 0.0 0.0 0.0 0.0 0.0 0.0 0.0 0.0 0.0 0.0 0.0 8.0 0.0 0.0 0.0\n",
            "Q  0.0 1.0 0.0 0.0 0.0 0.0 0.0 0.0 0.0 0.0 0.0 0.0 1.0 0.0 6.0 0.0 0.0 0.0 0.0 0.0 0.0\n",
            "K  0.0 0.0 0.0 0.0 0.0 0.0 0.0 0.0 0.0 7.0 0.0 0.0 0.0 0.0 1.0 0.0 0.0 0.0 0.0 0.0 0.0\n",
            "G  0.0 0.0 0.0 0.0 0.0 0.0 8.0 0.0 0.0 0.0 0.0 0.0 0.0 0.0 0.0 0.0 0.0 0.0 0.0 0.0 0.0\n",
            "Q  0.0 0.0 0.0 0.0 0.0 0.0 0.0 0.0 0.0 1.0 0.0 0.0 0.0 0.0 6.0 1.0 0.0 0.0 0.0 0.0 0.0\n",
            "K  0.0 0.0 0.0 0.0 0.0 0.0 0.0 0.0 0.0 7.0 0.0 0.0 0.0 0.0 0.0 1.0 0.0 0.0 0.0 0.0 0.0\n",
            "N  0.0 0.0 0.0 0.0 0.0 0.0 0.0 0.0 0.0 0.0 0.0 0.0 8.0 0.0 0.0 0.0 0.0 0.0 0.0 0.0 0.0\n",
            "S  0.0 0.0 0.0 0.0 0.0 0.0 0.0 0.0 0.0 0.0 0.0 0.0 0.0 0.0 0.0 0.0 8.0 0.0 0.0 0.0 0.0\n",
            "R  0.0 0.0 0.0 0.0 0.0 0.0 0.0 0.0 0.0 0.0 0.0 0.0 0.0 0.0 2.0 6.0 0.0 0.0 0.0 0.0 0.0\n",
            "E  0.0 0.0 0.0 0.0 6.0 0.0 0.0 0.0 0.0 0.0 0.0 0.0 0.0 0.0 2.0 0.0 0.0 0.0 0.0 0.0 0.0\n",
            "R  0.0 0.0 0.0 0.0 0.0 0.0 0.0 0.0 0.0 0.0 0.0 0.0 0.0 0.0 0.0 8.0 0.0 0.0 0.0 0.0 0.0\n",
            "M  0.0 0.0 0.0 0.0 0.0 0.0 0.0 0.0 0.0 0.0 1.0 6.0 0.0 0.0 0.0 0.0 0.0 0.0 0.0 0.0 1.0\n",
            "K  0.0 0.0 0.0 0.0 0.0 0.0 0.0 0.0 0.0 8.0 0.0 0.0 0.0 0.0 0.0 0.0 0.0 0.0 0.0 0.0 0.0\n",
            "R  0.0 0.0 0.0 0.0 0.0 0.0 1.0 0.0 0.0 0.0 0.0 0.0 0.0 0.0 0.0 7.0 0.0 0.0 0.0 0.0 0.0\n",
            "I  0.0 0.0 0.0 0.0 0.0 0.0 0.0 0.0 7.0 0.0 1.0 0.0 0.0 0.0 0.0 0.0 0.0 0.0 0.0 0.0 0.0\n",
            "E  0.0 0.0 0.0 0.0 7.0 0.0 0.0 0.0 0.0 0.0 0.0 0.0 0.0 0.0 0.0 0.0 0.0 1.0 0.0 0.0 0.0\n",
            "E  0.0 0.0 0.0 2.0 6.0 0.0 0.0 0.0 0.0 0.0 0.0 0.0 0.0 0.0 0.0 0.0 0.0 0.0 0.0 0.0 0.0\n",
            "G  0.0 1.0 0.0 0.0 0.0 0.0 6.0 0.0 0.0 0.0 0.0 0.0 0.0 0.0 0.0 0.0 1.0 0.0 0.0 0.0 0.0\n",
            "I  0.0 0.0 0.0 0.0 0.0 0.0 0.0 0.0 8.0 0.0 0.0 0.0 0.0 0.0 0.0 0.0 0.0 0.0 0.0 0.0 0.0\n",
            "K  0.0 0.0 0.0 0.0 0.0 0.0 0.0 0.0 0.0 8.0 0.0 0.0 0.0 0.0 0.0 0.0 0.0 0.0 0.0 0.0 0.0\n",
            "E  0.0 0.0 0.0 0.0 7.0 0.0 0.0 0.0 0.0 0.0 0.0 0.0 1.0 0.0 0.0 0.0 0.0 0.0 0.0 0.0 0.0\n",
            "L  0.0 0.0 0.0 0.0 0.0 1.0 0.0 0.0 0.0 0.0 7.0 0.0 0.0 0.0 0.0 0.0 0.0 0.0 0.0 0.0 0.0\n",
            "A  7.0 1.0 0.0 0.0 0.0 0.0 0.0 0.0 0.0 0.0 0.0 0.0 0.0 0.0 0.0 0.0 0.0 0.0 0.0 0.0 0.0\n",
            "P  7.0 0.0 0.0 0.0 0.0 0.0 0.0 0.0 0.0 0.0 0.0 0.0 0.0 1.0 0.0 0.0 0.0 0.0 0.0 0.0 0.0\n",
            "G  7.0 0.0 0.0 0.0 0.0 0.0 1.0 0.0 0.0 0.0 0.0 0.0 0.0 0.0 0.0 0.0 0.0 0.0 0.0 0.0 0.0\n",
            "L  7.0 0.0 0.0 0.0 0.0 0.0 0.0 0.0 0.0 0.0 1.0 0.0 0.0 0.0 0.0 0.0 0.0 0.0 0.0 0.0 0.0\n",
            "G  0.0 0.0 0.0 1.0 0.0 0.0 7.0 0.0 0.0 0.0 0.0 0.0 0.0 0.0 0.0 0.0 0.0 0.0 0.0 0.0 0.0\n",
            "S  0.0 0.0 0.0 0.0 0.0 0.0 0.0 0.0 0.0 0.0 0.0 0.0 0.0 0.0 0.0 0.0 8.0 0.0 0.0 0.0 0.0\n",
            "Q  0.0 0.0 0.0 0.0 0.0 0.0 0.0 0.0 0.0 0.0 0.0 0.0 0.0 0.0 7.0 0.0 0.0 1.0 0.0 0.0 0.0\n",
            "I  0.0 0.0 0.0 0.0 0.0 0.0 0.0 0.0 8.0 0.0 0.0 0.0 0.0 0.0 0.0 0.0 0.0 0.0 0.0 0.0 0.0\n",
            "L  0.0 0.0 0.0 0.0 0.0 0.0 0.0 0.0 0.0 0.0 8.0 0.0 0.0 0.0 0.0 0.0 0.0 0.0 0.0 0.0 0.0\n",
            "K  0.0 0.0 0.0 0.0 0.0 0.0 0.0 0.0 0.0 8.0 0.0 0.0 0.0 0.0 0.0 0.0 0.0 0.0 0.0 0.0 0.0\n",
            "E  0.0 0.0 0.0 0.0 8.0 0.0 0.0 0.0 0.0 0.0 0.0 0.0 0.0 0.0 0.0 0.0 0.0 0.0 0.0 0.0 0.0\n",
            "H  0.0 0.0 0.0 0.0 0.0 0.0 0.0 8.0 0.0 0.0 0.0 0.0 0.0 0.0 0.0 0.0 0.0 0.0 0.0 0.0 0.0\n",
            "P  0.0 0.0 0.0 0.0 0.0 0.0 0.0 0.0 0.0 0.0 0.0 0.0 0.0 8.0 0.0 0.0 0.0 0.0 0.0 0.0 0.0\n",
            "V  0.0 0.0 0.0 0.0 0.0 0.0 0.0 0.0 0.0 0.0 0.0 0.0 0.0 0.0 0.0 0.0 0.0 1.0 7.0 0.0 0.0\n",
            "E  0.0 0.0 0.0 1.0 7.0 0.0 0.0 0.0 0.0 0.0 0.0 0.0 0.0 0.0 0.0 0.0 0.0 0.0 0.0 0.0 0.0\n",
            "N  0.0 0.0 0.0 0.0 0.0 0.0 0.0 0.0 0.0 0.0 0.0 0.0 8.0 0.0 0.0 0.0 0.0 0.0 0.0 0.0 0.0\n",
            "T  0.0 0.0 0.0 0.0 0.0 0.0 0.0 0.0 1.0 0.0 0.0 0.0 0.0 0.0 0.0 0.0 1.0 6.0 0.0 0.0 0.0\n",
            "Q  0.0 0.0 0.0 0.0 0.0 0.0 0.0 0.0 0.0 0.0 0.0 0.0 0.0 0.0 8.0 0.0 0.0 0.0 0.0 0.0 0.0\n",
            "L  0.0 0.0 0.0 0.0 0.0 0.0 0.0 0.0 0.0 0.0 8.0 0.0 0.0 0.0 0.0 0.0 0.0 0.0 0.0 0.0 0.0\n",
            "Q  0.0 0.0 0.0 0.0 0.0 0.0 0.0 0.0 0.0 0.0 0.0 0.0 0.0 0.0 8.0 0.0 0.0 0.0 0.0 0.0 0.0\n",
            "N  0.0 0.0 0.0 0.0 0.0 0.0 0.0 0.0 0.0 0.0 0.0 0.0 8.0 0.0 0.0 0.0 0.0 0.0 0.0 0.0 0.0\n",
            "E  0.0 0.0 0.0 2.0 6.0 0.0 0.0 0.0 0.0 0.0 0.0 0.0 0.0 0.0 0.0 0.0 0.0 0.0 0.0 0.0 0.0\n",
            "K  0.0 0.0 0.0 0.0 0.0 0.0 0.0 0.0 0.0 6.0 0.0 0.0 0.0 0.0 0.0 2.0 0.0 0.0 0.0 0.0 0.0\n",
            "L  0.0 0.0 0.0 0.0 0.0 0.0 0.0 0.0 0.0 0.0 8.0 0.0 0.0 0.0 0.0 0.0 0.0 0.0 0.0 0.0 0.0\n",
            "Y  0.0 0.0 0.0 0.0 0.0 2.0 0.0 0.0 0.0 0.0 0.0 0.0 0.0 0.0 0.0 0.0 0.0 0.0 0.0 0.0 6.0\n",
            "L  0.0 0.0 0.0 0.0 0.0 0.0 0.0 0.0 0.0 0.0 8.0 0.0 0.0 0.0 0.0 0.0 0.0 0.0 0.0 0.0 0.0\n",
            "Y  0.0 0.0 0.0 0.0 0.0 0.0 0.0 0.0 0.0 0.0 0.0 0.0 0.0 0.0 0.0 0.0 0.0 0.0 0.0 0.0 8.0\n",
            "Y  0.0 0.0 0.0 0.0 0.0 0.0 0.0 0.0 0.0 0.0 0.0 0.0 0.0 0.0 0.0 0.0 0.0 0.0 0.0 0.0 8.0\n",
            "L  0.0 0.0 0.0 0.0 0.0 0.0 0.0 0.0 0.0 0.0 8.0 0.0 0.0 0.0 0.0 0.0 0.0 0.0 0.0 0.0 0.0\n",
            "Q  0.0 0.0 0.0 0.0 0.0 0.0 0.0 0.0 0.0 0.0 0.0 0.0 0.0 0.0 8.0 0.0 0.0 0.0 0.0 0.0 0.0\n",
            "N  0.0 0.0 0.0 0.0 0.0 0.0 0.0 0.0 0.0 0.0 0.0 0.0 8.0 0.0 0.0 0.0 0.0 0.0 0.0 0.0 0.0\n",
            "G  0.0 0.0 0.0 0.0 0.0 0.0 8.0 0.0 0.0 0.0 0.0 0.0 0.0 0.0 0.0 0.0 0.0 0.0 0.0 0.0 0.0\n",
            "R  0.0 0.0 0.0 0.0 0.0 0.0 0.0 0.0 0.0 0.0 0.0 0.0 0.0 0.0 0.0 8.0 0.0 0.0 0.0 0.0 0.0\n",
            "D  0.0 0.0 0.0 8.0 0.0 0.0 0.0 0.0 0.0 0.0 0.0 0.0 0.0 0.0 0.0 0.0 0.0 0.0 0.0 0.0 0.0\n",
            "M  0.0 0.0 0.0 0.0 0.0 0.0 0.0 0.0 0.0 0.0 0.0 8.0 0.0 0.0 0.0 0.0 0.0 0.0 0.0 0.0 0.0\n",
            "Y  0.0 0.0 0.0 0.0 0.0 0.0 0.0 0.0 0.0 0.0 0.0 0.0 0.0 0.0 0.0 0.0 0.0 0.0 0.0 0.0 8.0\n",
            "V  0.0 0.0 0.0 0.0 0.0 0.0 0.0 0.0 0.0 0.0 0.0 0.0 0.0 0.0 0.0 0.0 0.0 2.0 6.0 0.0 0.0\n",
            "D  0.0 0.0 0.0 6.0 0.0 0.0 2.0 0.0 0.0 0.0 0.0 0.0 0.0 0.0 0.0 0.0 0.0 0.0 0.0 0.0 0.0\n",
            "Q  0.0 0.0 0.0 0.0 1.0 0.0 0.0 0.0 0.0 1.0 0.0 0.0 0.0 0.0 6.0 0.0 0.0 0.0 0.0 0.0 0.0\n",
            "E  0.0 0.0 0.0 0.0 7.0 0.0 0.0 0.0 0.0 0.0 0.0 0.0 0.0 1.0 0.0 0.0 0.0 0.0 0.0 0.0 0.0\n",
            "L  0.0 0.0 0.0 0.0 0.0 0.0 0.0 0.0 0.0 0.0 8.0 0.0 0.0 0.0 0.0 0.0 0.0 0.0 0.0 0.0 0.0\n",
            "D  0.0 0.0 0.0 7.0 1.0 0.0 0.0 0.0 0.0 0.0 0.0 0.0 0.0 0.0 0.0 0.0 0.0 0.0 0.0 0.0 0.0\n",
            "I  0.0 0.0 0.0 0.0 0.0 0.0 0.0 0.0 8.0 0.0 0.0 0.0 0.0 0.0 0.0 0.0 0.0 0.0 0.0 0.0 0.0\n",
            "N  0.0 0.0 0.0 1.0 0.0 0.0 0.0 0.0 0.0 0.0 0.0 0.0 7.0 0.0 0.0 0.0 0.0 0.0 0.0 0.0 0.0\n",
            "R  0.0 0.0 0.0 0.0 0.0 0.0 0.0 0.0 0.0 0.0 0.0 0.0 0.0 0.0 1.0 6.0 0.0 0.0 0.0 0.0 1.0\n",
            "L  0.0 0.0 0.0 0.0 0.0 0.0 0.0 0.0 0.0 0.0 8.0 0.0 0.0 0.0 0.0 0.0 0.0 0.0 0.0 0.0 0.0\n",
            "S  0.0 0.0 0.0 0.0 0.0 0.0 0.0 0.0 0.0 0.0 0.0 0.0 0.0 0.0 0.0 0.0 8.0 0.0 0.0 0.0 0.0\n",
            "D  0.0 0.0 0.0 6.0 0.0 0.0 0.0 0.0 0.0 0.0 0.0 0.0 1.0 0.0 1.0 0.0 0.0 0.0 0.0 0.0 0.0\n",
            "Y  0.0 0.0 0.0 0.0 0.0 0.0 0.0 0.0 0.0 0.0 0.0 0.0 0.0 0.0 0.0 0.0 0.0 0.0 0.0 0.0 8.0\n",
            "D  0.0 0.0 0.0 8.0 0.0 0.0 0.0 0.0 0.0 0.0 0.0 0.0 0.0 0.0 0.0 0.0 0.0 0.0 0.0 0.0 0.0\n",
            "V  0.0 0.0 0.0 0.0 0.0 0.0 0.0 0.0 2.0 0.0 0.0 0.0 0.0 0.0 0.0 0.0 0.0 0.0 6.0 0.0 0.0\n",
            "D  0.0 0.0 0.0 8.0 0.0 0.0 0.0 0.0 0.0 0.0 0.0 0.0 0.0 0.0 0.0 0.0 0.0 0.0 0.0 0.0 0.0\n",
            "H  0.0 0.0 0.0 0.0 0.0 0.0 0.0 8.0 0.0 0.0 0.0 0.0 0.0 0.0 0.0 0.0 0.0 0.0 0.0 0.0 0.0\n",
            "I  0.0 0.0 0.0 0.0 0.0 0.0 0.0 0.0 8.0 0.0 0.0 0.0 0.0 0.0 0.0 0.0 0.0 0.0 0.0 0.0 0.0\n",
            "V  0.0 0.0 0.0 0.0 0.0 0.0 0.0 0.0 2.0 0.0 0.0 0.0 0.0 0.0 0.0 0.0 0.0 0.0 6.0 0.0 0.0\n",
            "P  0.0 0.0 0.0 0.0 0.0 0.0 0.0 0.0 0.0 0.0 0.0 0.0 0.0 8.0 0.0 0.0 0.0 0.0 0.0 0.0 0.0\n",
            "Q  0.0 0.0 0.0 0.0 0.0 0.0 0.0 0.0 0.0 0.0 0.0 0.0 0.0 0.0 8.0 0.0 0.0 0.0 0.0 0.0 0.0\n",
            "S  0.0 2.0 0.0 0.0 0.0 0.0 0.0 0.0 0.0 0.0 0.0 0.0 0.0 0.0 0.0 0.0 6.0 0.0 0.0 0.0 0.0\n",
            "F  0.0 0.0 0.0 0.0 0.0 8.0 0.0 0.0 0.0 0.0 0.0 0.0 0.0 0.0 0.0 0.0 0.0 0.0 0.0 0.0 0.0\n",
            "I  0.0 0.0 0.0 0.0 0.0 0.0 0.0 0.0 6.0 0.0 2.0 0.0 0.0 0.0 0.0 0.0 0.0 0.0 0.0 0.0 0.0\n",
            "K  0.0 0.0 0.0 0.0 0.0 0.0 0.0 0.0 0.0 8.0 0.0 0.0 0.0 0.0 0.0 0.0 0.0 0.0 0.0 0.0 0.0\n",
            "D  0.0 0.0 0.0 8.0 0.0 0.0 0.0 0.0 0.0 0.0 0.0 0.0 0.0 0.0 0.0 0.0 0.0 0.0 0.0 0.0 0.0\n",
            "D  0.0 0.0 0.0 7.0 0.0 0.0 0.0 0.0 0.0 0.0 0.0 0.0 1.0 0.0 0.0 0.0 0.0 0.0 0.0 0.0 0.0\n",
            "S  0.0 0.0 0.0 0.0 0.0 0.0 0.0 0.0 0.0 0.0 0.0 0.0 0.0 0.0 0.0 0.0 8.0 0.0 0.0 0.0 0.0\n",
            "I  0.0 0.0 0.0 0.0 0.0 0.0 0.0 0.0 7.0 0.0 1.0 0.0 0.0 0.0 0.0 0.0 0.0 0.0 0.0 0.0 0.0\n",
            "D  0.0 0.0 0.0 8.0 0.0 0.0 0.0 0.0 0.0 0.0 0.0 0.0 0.0 0.0 0.0 0.0 0.0 0.0 0.0 0.0 0.0\n",
            "N  0.0 0.0 0.0 0.0 0.0 0.0 0.0 0.0 0.0 0.0 0.0 0.0 8.0 0.0 0.0 0.0 0.0 0.0 0.0 0.0 0.0\n",
            "K  0.0 0.0 0.0 0.0 0.0 0.0 0.0 0.0 0.0 6.0 0.0 0.0 0.0 0.0 0.0 2.0 0.0 0.0 0.0 0.0 0.0\n",
            "V  0.0 0.0 0.0 0.0 0.0 0.0 0.0 0.0 0.0 0.0 0.0 0.0 0.0 0.0 0.0 0.0 0.0 0.0 8.0 0.0 0.0\n",
            "L  0.0 0.0 0.0 0.0 0.0 0.0 0.0 0.0 0.0 0.0 8.0 0.0 0.0 0.0 0.0 0.0 0.0 0.0 0.0 0.0 0.0\n",
            "T  0.0 0.0 0.0 0.0 0.0 0.0 0.0 0.0 0.0 0.0 0.0 0.0 0.0 0.0 0.0 0.0 0.0 8.0 0.0 0.0 0.0\n",
            "R  0.0 0.0 0.0 0.0 0.0 0.0 0.0 0.0 0.0 0.0 0.0 0.0 0.0 0.0 0.0 6.0 2.0 0.0 0.0 0.0 0.0\n",
            "S  0.0 0.0 0.0 0.0 0.0 0.0 0.0 0.0 0.0 0.0 0.0 0.0 0.0 0.0 0.0 0.0 8.0 0.0 0.0 0.0 0.0\n",
            "D  0.0 0.0 0.0 6.0 0.0 0.0 0.0 0.0 0.0 2.0 0.0 0.0 0.0 0.0 0.0 0.0 0.0 0.0 0.0 0.0 0.0\n",
            "K  0.0 0.0 0.0 0.0 2.0 0.0 0.0 0.0 0.0 6.0 0.0 0.0 0.0 0.0 0.0 0.0 0.0 0.0 0.0 0.0 0.0\n",
            "N  0.0 0.0 0.0 0.0 0.0 0.0 0.0 0.0 0.0 0.0 0.0 0.0 8.0 0.0 0.0 0.0 0.0 0.0 0.0 0.0 0.0\n",
            "R  0.0 0.0 0.0 0.0 0.0 0.0 0.0 0.0 0.0 0.0 0.0 0.0 0.0 0.0 0.0 8.0 0.0 0.0 0.0 0.0 0.0\n",
            "G  0.0 0.0 0.0 0.0 0.0 0.0 8.0 0.0 0.0 0.0 0.0 0.0 0.0 0.0 0.0 0.0 0.0 0.0 0.0 0.0 0.0\n",
            "K  0.0 0.0 0.0 0.0 0.0 0.0 0.0 0.0 0.0 8.0 0.0 0.0 0.0 0.0 0.0 0.0 0.0 0.0 0.0 0.0 0.0\n",
            "S  0.0 0.0 0.0 0.0 0.0 0.0 0.0 0.0 0.0 0.0 0.0 0.0 0.0 0.0 0.0 0.0 8.0 0.0 0.0 0.0 0.0\n",
            "D  0.0 0.0 0.0 7.0 0.0 0.0 0.0 0.0 0.0 0.0 0.0 0.0 1.0 0.0 0.0 0.0 0.0 0.0 0.0 0.0 0.0\n",
            "N  0.0 0.0 0.0 2.0 0.0 0.0 0.0 0.0 0.0 0.0 0.0 0.0 6.0 0.0 0.0 0.0 0.0 0.0 0.0 0.0 0.0\n",
            "V  0.0 0.0 0.0 0.0 0.0 0.0 0.0 0.0 0.0 0.0 0.0 0.0 0.0 0.0 0.0 0.0 0.0 0.0 8.0 0.0 0.0\n",
            "P  0.0 0.0 0.0 0.0 0.0 0.0 0.0 0.0 0.0 0.0 0.0 0.0 0.0 8.0 0.0 0.0 0.0 0.0 0.0 0.0 0.0\n",
            "S  0.0 0.0 0.0 0.0 0.0 0.0 0.0 0.0 0.0 0.0 0.0 0.0 0.0 0.0 0.0 0.0 8.0 0.0 0.0 0.0 0.0\n",
            "E  0.0 0.0 0.0 0.0 6.0 0.0 0.0 0.0 0.0 1.0 1.0 0.0 0.0 0.0 0.0 0.0 0.0 0.0 0.0 0.0 0.0\n",
            "E  0.0 0.0 0.0 0.0 7.0 0.0 0.0 0.0 0.0 0.0 0.0 0.0 1.0 0.0 0.0 0.0 0.0 0.0 0.0 0.0 0.0\n",
            "V  0.0 0.0 0.0 0.0 0.0 0.0 0.0 0.0 0.0 0.0 0.0 0.0 0.0 0.0 0.0 0.0 0.0 0.0 8.0 0.0 0.0\n",
            "V  0.0 0.0 0.0 0.0 0.0 0.0 0.0 0.0 0.0 0.0 0.0 0.0 0.0 0.0 0.0 0.0 0.0 0.0 8.0 0.0 0.0\n",
            "K  0.0 0.0 0.0 0.0 1.0 0.0 0.0 0.0 0.0 6.0 0.0 0.0 0.0 0.0 0.0 1.0 0.0 0.0 0.0 0.0 0.0\n",
            "K  0.0 0.0 0.0 0.0 0.0 0.0 0.0 0.0 0.0 8.0 0.0 0.0 0.0 0.0 0.0 0.0 0.0 0.0 0.0 0.0 0.0\n",
            "M  0.0 0.0 0.0 0.0 0.0 0.0 0.0 0.0 0.0 0.0 0.0 8.0 0.0 0.0 0.0 0.0 0.0 0.0 0.0 0.0 0.0\n",
            "K  0.0 0.0 0.0 0.0 0.0 0.0 0.0 0.0 0.0 8.0 0.0 0.0 0.0 0.0 0.0 0.0 0.0 0.0 0.0 0.0 0.0\n",
            "N  0.0 1.0 0.0 0.0 0.0 0.0 0.0 0.0 0.0 0.0 0.0 0.0 6.0 0.0 0.0 0.0 1.0 0.0 0.0 0.0 0.0\n",
            "Y  0.0 0.0 0.0 0.0 0.0 1.0 0.0 0.0 0.0 0.0 0.0 0.0 0.0 0.0 0.0 0.0 0.0 0.0 0.0 0.0 7.0\n",
            "W  0.0 0.0 0.0 0.0 0.0 0.0 0.0 0.0 0.0 0.0 0.0 0.0 0.0 0.0 0.0 0.0 0.0 0.0 0.0 8.0 0.0\n",
            "R  0.0 0.0 0.0 0.0 0.0 0.0 0.0 0.0 0.0 0.0 0.0 0.0 0.0 0.0 1.0 6.0 1.0 0.0 0.0 0.0 0.0\n",
            "Q  0.0 0.0 0.0 0.0 0.0 0.0 0.0 0.0 0.0 1.0 0.0 0.0 0.0 0.0 7.0 0.0 0.0 0.0 0.0 0.0 0.0\n",
            "L  0.0 0.0 0.0 0.0 0.0 0.0 0.0 0.0 0.0 0.0 8.0 0.0 0.0 0.0 0.0 0.0 0.0 0.0 0.0 0.0 0.0\n",
            "L  0.0 0.0 0.0 0.0 0.0 0.0 0.0 0.0 0.0 0.0 8.0 0.0 0.0 0.0 0.0 0.0 0.0 0.0 0.0 0.0 0.0\n",
            "N  0.0 0.0 0.0 1.0 0.0 0.0 0.0 0.0 0.0 0.0 0.0 0.0 6.0 0.0 0.0 0.0 1.0 0.0 0.0 0.0 0.0\n",
            "A  0.0 7.0 0.0 0.0 0.0 0.0 0.0 0.0 0.0 0.0 0.0 0.0 0.0 0.0 0.0 0.0 1.0 0.0 0.0 0.0 0.0\n",
            "K  0.0 0.0 0.0 0.0 0.0 0.0 0.0 0.0 0.0 8.0 0.0 0.0 0.0 0.0 0.0 0.0 0.0 0.0 0.0 0.0 0.0\n",
            "L  0.0 0.0 0.0 0.0 0.0 0.0 0.0 0.0 0.0 0.0 8.0 0.0 0.0 0.0 0.0 0.0 0.0 0.0 0.0 0.0 0.0\n",
            "I  0.0 0.0 0.0 0.0 0.0 0.0 0.0 0.0 8.0 0.0 0.0 0.0 0.0 0.0 0.0 0.0 0.0 0.0 0.0 0.0 0.0\n",
            "T  0.0 0.0 0.0 0.0 0.0 0.0 0.0 0.0 0.0 0.0 0.0 0.0 0.0 0.0 0.0 0.0 1.0 7.0 0.0 0.0 0.0\n",
            "Q  0.0 0.0 0.0 0.0 1.0 0.0 0.0 0.0 0.0 0.0 0.0 0.0 0.0 0.0 7.0 0.0 0.0 0.0 0.0 0.0 0.0\n",
            "R  0.0 0.0 0.0 0.0 0.0 0.0 0.0 0.0 0.0 0.0 0.0 0.0 0.0 0.0 0.0 8.0 0.0 0.0 0.0 0.0 0.0\n",
            "K  0.0 0.0 0.0 0.0 0.0 0.0 0.0 0.0 0.0 8.0 0.0 0.0 0.0 0.0 0.0 0.0 0.0 0.0 0.0 0.0 0.0\n",
            "F  0.0 0.0 0.0 0.0 0.0 8.0 0.0 0.0 0.0 0.0 0.0 0.0 0.0 0.0 0.0 0.0 0.0 0.0 0.0 0.0 0.0\n",
            "D  0.0 0.0 0.0 7.0 0.0 0.0 0.0 0.0 0.0 0.0 0.0 0.0 1.0 0.0 0.0 0.0 0.0 0.0 0.0 0.0 0.0\n",
            "N  0.0 0.0 0.0 0.0 0.0 0.0 0.0 0.0 0.0 0.0 0.0 0.0 8.0 0.0 0.0 0.0 0.0 0.0 0.0 0.0 0.0\n",
            "L  0.0 0.0 0.0 0.0 0.0 0.0 0.0 0.0 0.0 0.0 8.0 0.0 0.0 0.0 0.0 0.0 0.0 0.0 0.0 0.0 0.0\n",
            "T  0.0 0.0 0.0 0.0 0.0 0.0 0.0 0.0 0.0 0.0 0.0 0.0 0.0 0.0 0.0 0.0 0.0 8.0 0.0 0.0 0.0\n",
            "K  0.0 0.0 0.0 0.0 0.0 0.0 0.0 0.0 0.0 8.0 0.0 0.0 0.0 0.0 0.0 0.0 0.0 0.0 0.0 0.0 0.0\n",
            "A  0.0 8.0 0.0 0.0 0.0 0.0 0.0 0.0 0.0 0.0 0.0 0.0 0.0 0.0 0.0 0.0 0.0 0.0 0.0 0.0 0.0\n",
            "E  0.0 0.0 0.0 0.0 8.0 0.0 0.0 0.0 0.0 0.0 0.0 0.0 0.0 0.0 0.0 0.0 0.0 0.0 0.0 0.0 0.0\n",
            "R  0.0 0.0 0.0 0.0 0.0 0.0 0.0 0.0 0.0 0.0 0.0 0.0 0.0 0.0 0.0 8.0 0.0 0.0 0.0 0.0 0.0\n",
            "G  0.0 0.0 0.0 0.0 0.0 0.0 8.0 0.0 0.0 0.0 0.0 0.0 0.0 0.0 0.0 0.0 0.0 0.0 0.0 0.0 0.0\n",
            "G  0.0 0.0 0.0 0.0 0.0 0.0 8.0 0.0 0.0 0.0 0.0 0.0 0.0 0.0 0.0 0.0 0.0 0.0 0.0 0.0 0.0\n",
            "L  0.0 0.0 0.0 0.0 0.0 0.0 0.0 0.0 0.0 0.0 8.0 0.0 0.0 0.0 0.0 0.0 0.0 0.0 0.0 0.0 0.0\n",
            "S  0.0 0.0 0.0 1.0 0.0 0.0 0.0 0.0 0.0 0.0 0.0 0.0 0.0 0.0 0.0 0.0 6.0 1.0 0.0 0.0 0.0\n",
            "E  0.0 0.0 0.0 1.0 7.0 0.0 0.0 0.0 0.0 0.0 0.0 0.0 0.0 0.0 0.0 0.0 0.0 0.0 0.0 0.0 0.0\n",
            "L  0.0 0.0 0.0 1.0 0.0 0.0 0.0 0.0 0.0 0.0 7.0 0.0 0.0 0.0 0.0 0.0 0.0 0.0 0.0 0.0 0.0\n",
            "D  0.0 0.0 0.0 8.0 0.0 0.0 0.0 0.0 0.0 0.0 0.0 0.0 0.0 0.0 0.0 0.0 0.0 0.0 0.0 0.0 0.0\n",
            "K  0.0 0.0 0.0 0.0 0.0 0.0 0.0 0.0 0.0 8.0 0.0 0.0 0.0 0.0 0.0 0.0 0.0 0.0 0.0 0.0 0.0\n",
            "A  0.0 7.0 0.0 0.0 0.0 0.0 0.0 0.0 0.0 0.0 0.0 0.0 0.0 0.0 0.0 0.0 0.0 0.0 1.0 0.0 0.0\n",
            "G  0.0 0.0 0.0 0.0 0.0 0.0 8.0 0.0 0.0 0.0 0.0 0.0 0.0 0.0 0.0 0.0 0.0 0.0 0.0 0.0 0.0\n",
            "F  0.0 0.0 0.0 0.0 0.0 8.0 0.0 0.0 0.0 0.0 0.0 0.0 0.0 0.0 0.0 0.0 0.0 0.0 0.0 0.0 0.0\n",
            "I  0.0 0.0 0.0 0.0 0.0 0.0 0.0 0.0 8.0 0.0 0.0 0.0 0.0 0.0 0.0 0.0 0.0 0.0 0.0 0.0 0.0\n",
            "K  0.0 0.0 0.0 0.0 0.0 0.0 0.0 0.0 0.0 8.0 0.0 0.0 0.0 0.0 0.0 0.0 0.0 0.0 0.0 0.0 0.0\n",
            "R  0.0 0.0 0.0 0.0 0.0 0.0 0.0 0.0 0.0 0.0 0.0 0.0 0.0 0.0 0.0 8.0 0.0 0.0 0.0 0.0 0.0\n",
            "Q  0.0 0.0 0.0 0.0 0.0 0.0 0.0 0.0 0.0 0.0 0.0 0.0 0.0 0.0 8.0 0.0 0.0 0.0 0.0 0.0 0.0\n",
            "L  0.0 0.0 0.0 0.0 0.0 0.0 0.0 0.0 0.0 0.0 8.0 0.0 0.0 0.0 0.0 0.0 0.0 0.0 0.0 0.0 0.0\n",
            "V  0.0 0.0 0.0 0.0 0.0 0.0 0.0 0.0 0.0 0.0 0.0 0.0 0.0 0.0 0.0 0.0 0.0 0.0 8.0 0.0 0.0\n",
            "E  0.0 0.0 0.0 0.0 8.0 0.0 0.0 0.0 0.0 0.0 0.0 0.0 0.0 0.0 0.0 0.0 0.0 0.0 0.0 0.0 0.0\n",
            "T  0.0 0.0 0.0 0.0 0.0 0.0 0.0 0.0 0.0 0.0 0.0 0.0 0.0 0.0 0.0 0.0 0.0 8.0 0.0 0.0 0.0\n",
            "R  0.0 0.0 0.0 0.0 0.0 0.0 0.0 0.0 0.0 0.0 0.0 0.0 0.0 0.0 0.0 8.0 0.0 0.0 0.0 0.0 0.0\n",
            "Q  0.0 0.0 0.0 0.0 0.0 0.0 0.0 0.0 0.0 0.0 0.0 0.0 0.0 0.0 8.0 0.0 0.0 0.0 0.0 0.0 0.0\n",
            "I  0.0 0.0 0.0 0.0 0.0 0.0 0.0 0.0 8.0 0.0 0.0 0.0 0.0 0.0 0.0 0.0 0.0 0.0 0.0 0.0 0.0\n",
            "T  0.0 0.0 0.0 0.0 0.0 0.0 0.0 0.0 0.0 0.0 0.0 0.0 0.0 0.0 0.0 0.0 0.0 8.0 0.0 0.0 0.0\n",
            "K  0.0 0.0 0.0 0.0 0.0 0.0 0.0 0.0 0.0 8.0 0.0 0.0 0.0 0.0 0.0 0.0 0.0 0.0 0.0 0.0 0.0\n",
            "H  0.0 0.0 0.0 0.0 0.0 0.0 0.0 8.0 0.0 0.0 0.0 0.0 0.0 0.0 0.0 0.0 0.0 0.0 0.0 0.0 0.0\n",
            "V  0.0 0.0 0.0 0.0 0.0 0.0 0.0 0.0 0.0 0.0 0.0 0.0 0.0 0.0 0.0 0.0 0.0 0.0 8.0 0.0 0.0\n",
            "A  0.0 8.0 0.0 0.0 0.0 0.0 0.0 0.0 0.0 0.0 0.0 0.0 0.0 0.0 0.0 0.0 0.0 0.0 0.0 0.0 0.0\n",
            "Q  0.0 0.0 0.0 0.0 0.0 0.0 0.0 0.0 0.0 0.0 0.0 0.0 0.0 0.0 7.0 1.0 0.0 0.0 0.0 0.0 0.0\n",
            "I  0.0 0.0 0.0 0.0 0.0 0.0 0.0 0.0 8.0 0.0 0.0 0.0 0.0 0.0 0.0 0.0 0.0 0.0 0.0 0.0 0.0\n",
            "L  0.0 0.0 0.0 0.0 0.0 0.0 0.0 0.0 0.0 0.0 8.0 0.0 0.0 0.0 0.0 0.0 0.0 0.0 0.0 0.0 0.0\n",
            "D  0.0 0.0 0.0 8.0 0.0 0.0 0.0 0.0 0.0 0.0 0.0 0.0 0.0 0.0 0.0 0.0 0.0 0.0 0.0 0.0 0.0\n",
            "S  0.0 1.0 0.0 0.0 1.0 0.0 0.0 0.0 0.0 0.0 0.0 0.0 0.0 0.0 0.0 0.0 6.0 0.0 0.0 0.0 0.0\n",
            "R  0.0 0.0 0.0 0.0 0.0 0.0 0.0 0.0 0.0 0.0 0.0 0.0 0.0 0.0 0.0 8.0 0.0 0.0 0.0 0.0 0.0\n",
            "M  0.0 0.0 0.0 0.0 0.0 2.0 0.0 0.0 0.0 0.0 0.0 6.0 0.0 0.0 0.0 0.0 0.0 0.0 0.0 0.0 0.0\n",
            "N  0.0 0.0 0.0 0.0 0.0 0.0 0.0 1.0 0.0 0.0 0.0 0.0 7.0 0.0 0.0 0.0 0.0 0.0 0.0 0.0 0.0\n",
            "T  0.0 0.0 0.0 0.0 0.0 0.0 0.0 0.0 0.0 1.0 0.0 0.0 0.0 0.0 0.0 0.0 0.0 7.0 0.0 0.0 0.0\n",
            "K  0.0 0.0 0.0 0.0 2.0 0.0 0.0 0.0 0.0 6.0 0.0 0.0 0.0 0.0 0.0 0.0 0.0 0.0 0.0 0.0 0.0\n",
            "Y  0.0 0.0 0.0 0.0 0.0 0.0 0.0 0.0 0.0 0.0 0.0 0.0 0.0 0.0 0.0 0.0 0.0 1.0 1.0 0.0 6.0\n",
            "D  0.0 0.0 0.0 7.0 0.0 0.0 0.0 0.0 0.0 0.0 0.0 0.0 0.0 0.0 0.0 0.0 0.0 1.0 0.0 0.0 0.0\n",
            "E  0.0 0.0 0.0 0.0 8.0 0.0 0.0 0.0 0.0 0.0 0.0 0.0 0.0 0.0 0.0 0.0 0.0 0.0 0.0 0.0 0.0\n",
            "N  0.0 0.0 0.0 0.0 0.0 0.0 0.0 0.0 0.0 1.0 0.0 0.0 7.0 0.0 0.0 0.0 0.0 0.0 0.0 0.0 0.0\n",
            "D  0.0 0.0 0.0 6.0 0.0 0.0 0.0 0.0 0.0 0.0 0.0 0.0 2.0 0.0 0.0 0.0 0.0 0.0 0.0 0.0 0.0\n",
            "K  0.0 0.0 0.0 0.0 0.0 0.0 0.0 0.0 0.0 8.0 0.0 0.0 0.0 0.0 0.0 0.0 0.0 0.0 0.0 0.0 0.0\n",
            "L  0.0 0.0 0.0 0.0 0.0 0.0 0.0 0.0 0.0 2.0 6.0 0.0 0.0 0.0 0.0 0.0 0.0 0.0 0.0 0.0 0.0\n",
            "I  0.0 0.0 0.0 0.0 0.0 0.0 0.0 0.0 7.0 0.0 0.0 0.0 1.0 0.0 0.0 0.0 0.0 0.0 0.0 0.0 0.0\n",
            "R  0.0 0.0 0.0 0.0 0.0 0.0 0.0 0.0 0.0 0.0 0.0 0.0 0.0 0.0 0.0 8.0 0.0 0.0 0.0 0.0 0.0\n",
            "E  0.0 0.0 0.0 0.0 6.0 0.0 0.0 0.0 0.0 0.0 0.0 0.0 1.0 0.0 1.0 0.0 0.0 0.0 0.0 0.0 0.0\n",
            "V  0.0 0.0 0.0 0.0 0.0 0.0 0.0 0.0 0.0 0.0 0.0 0.0 0.0 0.0 0.0 0.0 0.0 0.0 8.0 0.0 0.0\n",
            "K  0.0 0.0 0.0 0.0 0.0 0.0 0.0 0.0 0.0 8.0 0.0 0.0 0.0 0.0 0.0 0.0 0.0 0.0 0.0 0.0 0.0\n",
            "V  0.0 0.0 0.0 0.0 0.0 0.0 0.0 0.0 2.0 0.0 0.0 0.0 0.0 0.0 0.0 0.0 0.0 0.0 6.0 0.0 0.0\n",
            "I  0.0 0.0 0.0 0.0 0.0 0.0 0.0 0.0 7.0 0.0 0.0 0.0 0.0 0.0 0.0 0.0 0.0 0.0 1.0 0.0 0.0\n",
            "T  0.0 0.0 0.0 0.0 0.0 0.0 0.0 0.0 0.0 0.0 0.0 0.0 0.0 0.0 0.0 0.0 0.0 8.0 0.0 0.0 0.0\n",
            "L  0.0 0.0 0.0 0.0 0.0 0.0 0.0 0.0 0.0 0.0 8.0 0.0 0.0 0.0 0.0 0.0 0.0 0.0 0.0 0.0 0.0\n",
            "K  0.0 0.0 0.0 0.0 0.0 0.0 0.0 0.0 0.0 8.0 0.0 0.0 0.0 0.0 0.0 0.0 0.0 0.0 0.0 0.0 0.0\n",
            "S  0.0 0.0 0.0 0.0 0.0 0.0 0.0 0.0 0.0 0.0 0.0 0.0 0.0 0.0 0.0 0.0 8.0 0.0 0.0 0.0 0.0\n",
            "K  0.0 0.0 0.0 0.0 0.0 0.0 0.0 0.0 0.0 6.0 0.0 0.0 2.0 0.0 0.0 0.0 0.0 0.0 0.0 0.0 0.0\n",
            "L  0.0 0.0 0.0 0.0 0.0 0.0 0.0 0.0 0.0 0.0 7.0 1.0 0.0 0.0 0.0 0.0 0.0 0.0 0.0 0.0 0.0\n",
            "V  0.0 0.0 0.0 0.0 0.0 0.0 0.0 0.0 0.0 0.0 0.0 0.0 0.0 0.0 0.0 0.0 0.0 0.0 8.0 0.0 0.0\n",
            "S  0.0 0.0 0.0 0.0 0.0 0.0 0.0 0.0 0.0 0.0 0.0 0.0 0.0 0.0 0.0 0.0 8.0 0.0 0.0 0.0 0.0\n",
            "D  0.0 0.0 0.0 6.0 0.0 0.0 0.0 0.0 0.0 0.0 0.0 0.0 2.0 0.0 0.0 0.0 0.0 0.0 0.0 0.0 0.0\n",
            "F  0.0 0.0 0.0 0.0 0.0 8.0 0.0 0.0 0.0 0.0 0.0 0.0 0.0 0.0 0.0 0.0 0.0 0.0 0.0 0.0 0.0\n",
            "R  0.0 0.0 0.0 0.0 0.0 0.0 0.0 0.0 0.0 0.0 0.0 0.0 0.0 0.0 0.0 8.0 0.0 0.0 0.0 0.0 0.0\n",
            "K  0.0 0.0 0.0 0.0 0.0 0.0 0.0 0.0 0.0 8.0 0.0 0.0 0.0 0.0 0.0 0.0 0.0 0.0 0.0 0.0 0.0\n",
            "D  0.0 0.0 0.0 6.0 2.0 0.0 0.0 0.0 0.0 0.0 0.0 0.0 0.0 0.0 0.0 0.0 0.0 0.0 0.0 0.0 0.0\n",
            "F  0.0 0.0 0.0 0.0 0.0 8.0 0.0 0.0 0.0 0.0 0.0 0.0 0.0 0.0 0.0 0.0 0.0 0.0 0.0 0.0 0.0\n",
            "Q  0.0 0.0 0.0 0.0 1.0 0.0 1.0 0.0 0.0 0.0 0.0 0.0 0.0 0.0 6.0 0.0 0.0 0.0 0.0 0.0 0.0\n",
            "F  0.0 0.0 0.0 0.0 0.0 6.0 0.0 0.0 0.0 0.0 2.0 0.0 0.0 0.0 0.0 0.0 0.0 0.0 0.0 0.0 0.0\n",
            "Y  0.0 0.0 0.0 0.0 0.0 0.0 0.0 0.0 0.0 0.0 0.0 0.0 0.0 0.0 0.0 0.0 0.0 0.0 0.0 0.0 8.0\n",
            "K  0.0 0.0 0.0 0.0 0.0 0.0 0.0 0.0 0.0 8.0 0.0 0.0 0.0 0.0 0.0 0.0 0.0 0.0 0.0 0.0 0.0\n",
            "V  0.0 0.0 0.0 0.0 0.0 0.0 0.0 0.0 0.0 0.0 0.0 0.0 0.0 0.0 0.0 0.0 0.0 0.0 8.0 0.0 0.0\n",
            "R  0.0 0.0 0.0 0.0 0.0 0.0 0.0 0.0 0.0 0.0 0.0 0.0 0.0 0.0 0.0 8.0 0.0 0.0 0.0 0.0 0.0\n",
            "E  0.0 0.0 0.0 0.0 8.0 0.0 0.0 0.0 0.0 0.0 0.0 0.0 0.0 0.0 0.0 0.0 0.0 0.0 0.0 0.0 0.0\n",
            "I  0.0 0.0 0.0 0.0 0.0 0.0 0.0 0.0 8.0 0.0 0.0 0.0 0.0 0.0 0.0 0.0 0.0 0.0 0.0 0.0 0.0\n",
            "N  0.0 0.0 0.0 0.0 0.0 0.0 0.0 0.0 0.0 0.0 0.0 0.0 8.0 0.0 0.0 0.0 0.0 0.0 0.0 0.0 0.0\n",
            "N  0.0 0.0 0.0 2.0 0.0 0.0 0.0 0.0 0.0 0.0 0.0 0.0 6.0 0.0 0.0 0.0 0.0 0.0 0.0 0.0 0.0\n",
            "Y  0.0 0.0 0.0 0.0 0.0 0.0 0.0 0.0 0.0 0.0 0.0 0.0 0.0 0.0 0.0 0.0 0.0 0.0 0.0 0.0 8.0\n",
            "H  0.0 0.0 0.0 0.0 0.0 0.0 0.0 8.0 0.0 0.0 0.0 0.0 0.0 0.0 0.0 0.0 0.0 0.0 0.0 0.0 0.0\n",
            "H  0.0 0.0 0.0 0.0 0.0 0.0 0.0 8.0 0.0 0.0 0.0 0.0 0.0 0.0 0.0 0.0 0.0 0.0 0.0 0.0 0.0\n",
            "A  0.0 8.0 0.0 0.0 0.0 0.0 0.0 0.0 0.0 0.0 0.0 0.0 0.0 0.0 0.0 0.0 0.0 0.0 0.0 0.0 0.0\n",
            "H  0.0 0.0 0.0 0.0 0.0 0.0 0.0 8.0 0.0 0.0 0.0 0.0 0.0 0.0 0.0 0.0 0.0 0.0 0.0 0.0 0.0\n",
            "D  0.0 0.0 0.0 8.0 0.0 0.0 0.0 0.0 0.0 0.0 0.0 0.0 0.0 0.0 0.0 0.0 0.0 0.0 0.0 0.0 0.0\n",
            "A  0.0 8.0 0.0 0.0 0.0 0.0 0.0 0.0 0.0 0.0 0.0 0.0 0.0 0.0 0.0 0.0 0.0 0.0 0.0 0.0 0.0\n",
            "Y  0.0 0.0 0.0 0.0 0.0 0.0 0.0 0.0 0.0 0.0 0.0 0.0 0.0 0.0 0.0 0.0 0.0 0.0 0.0 0.0 8.0\n",
            "L  0.0 0.0 0.0 0.0 0.0 0.0 0.0 0.0 0.0 0.0 8.0 0.0 0.0 0.0 0.0 0.0 0.0 0.0 0.0 0.0 0.0\n",
            "N  0.0 0.0 0.0 0.0 0.0 0.0 0.0 0.0 0.0 0.0 0.0 0.0 8.0 0.0 0.0 0.0 0.0 0.0 0.0 0.0 0.0\n",
            "A  0.0 8.0 0.0 0.0 0.0 0.0 0.0 0.0 0.0 0.0 0.0 0.0 0.0 0.0 0.0 0.0 0.0 0.0 0.0 0.0 0.0\n",
            "V  0.0 0.0 0.0 0.0 0.0 0.0 0.0 0.0 0.0 0.0 0.0 0.0 0.0 0.0 0.0 0.0 0.0 0.0 8.0 0.0 0.0\n",
            "V  0.0 0.0 0.0 0.0 0.0 0.0 0.0 0.0 1.0 0.0 0.0 0.0 0.0 0.0 0.0 0.0 0.0 0.0 7.0 0.0 0.0\n",
            "G  0.0 1.0 0.0 0.0 0.0 0.0 7.0 0.0 0.0 0.0 0.0 0.0 0.0 0.0 0.0 0.0 0.0 0.0 0.0 0.0 0.0\n",
            "T  0.0 0.0 0.0 0.0 0.0 0.0 0.0 0.0 0.0 2.0 0.0 0.0 0.0 0.0 0.0 0.0 0.0 6.0 0.0 0.0 0.0\n",
            "A  0.0 8.0 0.0 0.0 0.0 0.0 0.0 0.0 0.0 0.0 0.0 0.0 0.0 0.0 0.0 0.0 0.0 0.0 0.0 0.0 0.0\n",
            "L  0.0 0.0 0.0 0.0 0.0 0.0 0.0 0.0 1.0 0.0 7.0 0.0 0.0 0.0 0.0 0.0 0.0 0.0 0.0 0.0 0.0\n",
            "I  0.0 0.0 0.0 0.0 0.0 0.0 0.0 0.0 6.0 0.0 2.0 0.0 0.0 0.0 0.0 0.0 0.0 0.0 0.0 0.0 0.0\n",
            "K  0.0 0.0 0.0 0.0 0.0 0.0 1.0 0.0 0.0 7.0 0.0 0.0 0.0 0.0 0.0 0.0 0.0 0.0 0.0 0.0 0.0\n",
            "K  0.0 0.0 0.0 0.0 0.0 0.0 0.0 0.0 0.0 7.0 0.0 0.0 0.0 0.0 0.0 0.0 0.0 0.0 1.0 0.0 0.0\n",
            "Y  0.0 0.0 0.0 0.0 0.0 0.0 0.0 0.0 0.0 0.0 0.0 0.0 0.0 0.0 0.0 0.0 0.0 0.0 0.0 0.0 8.0\n",
            "P  0.0 0.0 0.0 0.0 0.0 0.0 0.0 0.0 0.0 0.0 0.0 0.0 0.0 8.0 0.0 0.0 0.0 0.0 0.0 0.0 0.0\n",
            "K  0.0 0.0 0.0 0.0 0.0 0.0 0.0 0.0 0.0 7.0 0.0 0.0 0.0 0.0 1.0 0.0 0.0 0.0 0.0 0.0 0.0\n",
            "L  0.0 0.0 0.0 0.0 0.0 0.0 0.0 0.0 0.0 0.0 8.0 0.0 0.0 0.0 0.0 0.0 0.0 0.0 0.0 0.0 0.0\n",
            "E  0.0 0.0 0.0 0.0 8.0 0.0 0.0 0.0 0.0 0.0 0.0 0.0 0.0 0.0 0.0 0.0 0.0 0.0 0.0 0.0 0.0\n",
            "S  0.0 0.0 0.0 0.0 0.0 0.0 0.0 0.0 0.0 0.0 0.0 0.0 0.0 2.0 0.0 0.0 6.0 0.0 0.0 0.0 0.0\n",
            "E  0.0 0.0 0.0 0.0 8.0 0.0 0.0 0.0 0.0 0.0 0.0 0.0 0.0 0.0 0.0 0.0 0.0 0.0 0.0 0.0 0.0\n",
            "F  0.0 0.0 0.0 0.0 0.0 8.0 0.0 0.0 0.0 0.0 0.0 0.0 0.0 0.0 0.0 0.0 0.0 0.0 0.0 0.0 0.0\n",
            "V  0.0 0.0 0.0 0.0 0.0 0.0 0.0 0.0 0.0 0.0 0.0 0.0 0.0 0.0 0.0 0.0 0.0 0.0 8.0 0.0 0.0\n",
            "Y  0.0 0.0 0.0 0.0 0.0 0.0 0.0 0.0 0.0 0.0 0.0 0.0 0.0 0.0 0.0 0.0 0.0 0.0 0.0 0.0 8.0\n",
            "G  0.0 0.0 0.0 0.0 0.0 0.0 8.0 0.0 0.0 0.0 0.0 0.0 0.0 0.0 0.0 0.0 0.0 0.0 0.0 0.0 0.0\n",
            "D  0.0 0.0 0.0 8.0 0.0 0.0 0.0 0.0 0.0 0.0 0.0 0.0 0.0 0.0 0.0 0.0 0.0 0.0 0.0 0.0 0.0\n",
            "Y  0.0 0.0 0.0 0.0 0.0 0.0 0.0 0.0 0.0 0.0 0.0 0.0 0.0 0.0 0.0 0.0 0.0 0.0 0.0 0.0 8.0\n",
            "K  0.0 0.0 0.0 0.0 0.0 0.0 0.0 0.0 0.0 6.0 0.0 0.0 0.0 1.0 1.0 0.0 0.0 0.0 0.0 0.0 0.0\n",
            "V  0.0 0.0 0.0 0.0 0.0 0.0 0.0 1.0 0.0 1.0 0.0 0.0 0.0 0.0 0.0 0.0 0.0 0.0 6.0 0.0 0.0\n",
            "Y  0.0 0.0 0.0 0.0 0.0 1.0 0.0 0.0 0.0 0.0 0.0 0.0 0.0 0.0 0.0 0.0 0.0 0.0 0.0 0.0 7.0\n",
            "D  0.0 0.0 0.0 7.0 0.0 0.0 0.0 1.0 0.0 0.0 0.0 0.0 0.0 0.0 0.0 0.0 0.0 0.0 0.0 0.0 0.0\n",
            "V  0.0 0.0 0.0 0.0 0.0 0.0 1.0 0.0 0.0 0.0 1.0 0.0 0.0 0.0 0.0 0.0 0.0 0.0 6.0 0.0 0.0\n",
            "R  0.0 0.0 0.0 0.0 0.0 0.0 0.0 1.0 0.0 1.0 0.0 0.0 0.0 0.0 0.0 6.0 0.0 0.0 0.0 0.0 0.0\n",
            "K  1.0 0.0 0.0 0.0 0.0 0.0 0.0 0.0 0.0 6.0 0.0 0.0 0.0 0.0 0.0 1.0 0.0 0.0 0.0 0.0 0.0\n",
            "M  1.0 0.0 0.0 0.0 0.0 0.0 0.0 0.0 0.0 0.0 0.0 6.0 0.0 0.0 0.0 0.0 0.0 0.0 0.0 0.0 1.0\n",
            "I  1.0 0.0 0.0 0.0 0.0 0.0 0.0 0.0 7.0 0.0 0.0 0.0 0.0 0.0 0.0 0.0 0.0 0.0 0.0 0.0 0.0\n",
            "A  1.0 6.0 0.0 0.0 0.0 0.0 0.0 0.0 0.0 0.0 0.0 0.0 0.0 0.0 0.0 0.0 1.0 0.0 0.0 0.0 0.0\n",
            "K  1.0 0.0 0.0 0.0 0.0 0.0 0.0 0.0 0.0 7.0 0.0 0.0 0.0 0.0 0.0 0.0 0.0 0.0 0.0 0.0 0.0\n",
            "S  1.0 0.0 0.0 0.0 0.0 0.0 0.0 0.0 0.0 0.0 0.0 0.0 0.0 0.0 0.0 0.0 7.0 0.0 0.0 0.0 0.0\n",
            "E  1.0 0.0 0.0 0.0 6.0 0.0 0.0 0.0 0.0 1.0 0.0 0.0 0.0 0.0 0.0 0.0 0.0 0.0 0.0 0.0 0.0\n",
            "D  7.0 0.0 0.0 1.0 0.0 0.0 0.0 0.0 0.0 0.0 0.0 0.0 0.0 0.0 0.0 0.0 0.0 0.0 0.0 0.0 0.0\n",
            "P  7.0 0.0 0.0 0.0 0.0 0.0 0.0 0.0 0.0 0.0 0.0 0.0 0.0 1.0 0.0 0.0 0.0 0.0 0.0 0.0 0.0\n",
            "Q  1.0 0.0 0.0 0.0 0.0 0.0 0.0 0.0 0.0 1.0 0.0 0.0 0.0 0.0 6.0 0.0 0.0 0.0 0.0 0.0 0.0\n",
            "E  0.0 0.0 0.0 0.0 7.0 0.0 0.0 0.0 0.0 1.0 0.0 0.0 0.0 0.0 0.0 0.0 0.0 0.0 0.0 0.0 0.0\n",
            "I  0.0 0.0 0.0 0.0 1.0 0.0 0.0 0.0 6.0 0.0 0.0 0.0 0.0 0.0 0.0 0.0 0.0 0.0 1.0 0.0 0.0\n",
            "G  0.0 0.0 0.0 0.0 1.0 0.0 6.0 0.0 0.0 0.0 0.0 0.0 1.0 0.0 0.0 0.0 0.0 0.0 0.0 0.0 0.0\n",
            "K  0.0 0.0 0.0 0.0 0.0 0.0 0.0 0.0 0.0 8.0 0.0 0.0 0.0 0.0 0.0 0.0 0.0 0.0 0.0 0.0 0.0\n",
            "A  0.0 8.0 0.0 0.0 0.0 0.0 0.0 0.0 0.0 0.0 0.0 0.0 0.0 0.0 0.0 0.0 0.0 0.0 0.0 0.0 0.0\n",
            "T  0.0 0.0 0.0 0.0 0.0 0.0 0.0 0.0 0.0 0.0 0.0 0.0 0.0 0.0 0.0 0.0 0.0 8.0 0.0 0.0 0.0\n",
            "A  0.0 7.0 0.0 0.0 1.0 0.0 0.0 0.0 0.0 0.0 0.0 0.0 0.0 0.0 0.0 0.0 0.0 0.0 0.0 0.0 0.0\n",
            "K  0.0 0.0 0.0 0.0 0.0 0.0 0.0 0.0 0.0 8.0 0.0 0.0 0.0 0.0 0.0 0.0 0.0 0.0 0.0 0.0 0.0\n",
            "X  0.0 0.0 0.0 0.0 0.0 0.0 0.0 0.0 0.0 1.0 0.0 0.0 0.0 0.0 0.0 3.0 0.0 0.0 0.0 0.0 4.0\n",
            "F  0.0 0.0 0.0 0.0 0.0 8.0 0.0 0.0 0.0 0.0 0.0 0.0 0.0 0.0 0.0 0.0 0.0 0.0 0.0 0.0 0.0\n",
            "F  0.0 0.0 0.0 0.0 0.0 8.0 0.0 0.0 0.0 0.0 0.0 0.0 0.0 0.0 0.0 0.0 0.0 0.0 0.0 0.0 0.0\n",
            "Y  0.0 0.0 0.0 0.0 0.0 0.0 0.0 0.0 0.0 0.0 0.0 0.0 0.0 0.0 0.0 0.0 0.0 0.0 0.0 0.0 8.0\n",
            "S  0.0 0.0 0.0 0.0 0.0 0.0 0.0 0.0 0.0 0.0 0.0 0.0 0.0 0.0 0.0 0.0 8.0 0.0 0.0 0.0 0.0\n",
            "N  0.0 0.0 0.0 0.0 0.0 0.0 0.0 0.0 0.0 0.0 0.0 0.0 8.0 0.0 0.0 0.0 0.0 0.0 0.0 0.0 0.0\n",
            "I  0.0 0.0 0.0 0.0 0.0 0.0 0.0 0.0 7.0 0.0 1.0 0.0 0.0 0.0 0.0 0.0 0.0 0.0 0.0 0.0 0.0\n",
            "M  0.0 0.0 0.0 0.0 0.0 0.0 0.0 0.0 0.0 0.0 1.0 7.0 0.0 0.0 0.0 0.0 0.0 0.0 0.0 0.0 0.0\n",
            "N  0.0 0.0 0.0 0.0 0.0 0.0 0.0 0.0 0.0 0.0 0.0 0.0 8.0 0.0 0.0 0.0 0.0 0.0 0.0 0.0 0.0\n",
            "F  0.0 0.0 0.0 0.0 0.0 8.0 0.0 0.0 0.0 0.0 0.0 0.0 0.0 0.0 0.0 0.0 0.0 0.0 0.0 0.0 0.0\n",
            "F  0.0 0.0 0.0 0.0 0.0 8.0 0.0 0.0 0.0 0.0 0.0 0.0 0.0 0.0 0.0 0.0 0.0 0.0 0.0 0.0 0.0\n",
            "K  0.0 0.0 0.0 0.0 0.0 0.0 0.0 0.0 0.0 8.0 0.0 0.0 0.0 0.0 0.0 0.0 0.0 0.0 0.0 0.0 0.0\n",
            "T  0.0 0.0 0.0 0.0 1.0 0.0 0.0 0.0 0.0 1.0 0.0 0.0 0.0 0.0 0.0 0.0 0.0 6.0 0.0 0.0 0.0\n",
            "E  0.0 0.0 0.0 1.0 7.0 0.0 0.0 0.0 0.0 0.0 0.0 0.0 0.0 0.0 0.0 0.0 0.0 0.0 0.0 0.0 0.0\n",
            "I  0.0 0.0 0.0 1.0 0.0 0.0 0.0 0.0 6.0 0.0 0.0 0.0 0.0 0.0 0.0 0.0 0.0 0.0 1.0 0.0 0.0\n",
            "T  0.0 0.0 0.0 0.0 0.0 0.0 0.0 1.0 0.0 0.0 0.0 0.0 0.0 0.0 0.0 0.0 0.0 6.0 1.0 0.0 0.0\n",
            "L  1.0 0.0 0.0 0.0 0.0 0.0 0.0 0.0 0.0 0.0 6.0 0.0 0.0 0.0 0.0 0.0 0.0 0.0 0.0 0.0 1.0\n",
            "A  1.0 7.0 0.0 0.0 0.0 0.0 0.0 0.0 0.0 0.0 0.0 0.0 0.0 0.0 0.0 0.0 0.0 0.0 0.0 0.0 0.0\n",
            "N  1.0 0.0 0.0 1.0 0.0 0.0 0.0 0.0 0.0 0.0 0.0 0.0 6.0 0.0 0.0 0.0 0.0 0.0 0.0 0.0 0.0\n",
            "G  1.0 0.0 0.0 0.0 0.0 0.0 7.0 0.0 0.0 0.0 0.0 0.0 0.0 0.0 0.0 0.0 0.0 0.0 0.0 0.0 0.0\n",
            "E  1.0 0.0 0.0 0.0 6.0 0.0 0.0 0.0 0.0 0.0 0.0 0.0 0.0 0.0 0.0 0.0 0.0 1.0 0.0 0.0 0.0\n",
            "I  1.0 0.0 0.0 0.0 0.0 0.0 0.0 0.0 7.0 0.0 0.0 0.0 0.0 0.0 0.0 0.0 0.0 0.0 0.0 0.0 0.0\n",
            "R  1.0 0.0 0.0 0.0 0.0 0.0 0.0 0.0 0.0 0.0 0.0 0.0 0.0 0.0 0.0 6.0 0.0 0.0 1.0 0.0 0.0\n",
            "K  1.0 0.0 0.0 0.0 0.0 0.0 0.0 0.0 0.0 7.0 0.0 0.0 0.0 0.0 0.0 0.0 0.0 0.0 0.0 0.0 0.0\n",
            "R  1.0 0.0 0.0 0.0 0.0 0.0 0.0 0.0 0.0 0.0 0.0 0.0 0.0 0.0 0.0 7.0 0.0 0.0 0.0 0.0 0.0\n",
            "P  1.0 0.0 0.0 0.0 1.0 0.0 0.0 0.0 0.0 0.0 0.0 0.0 0.0 6.0 0.0 0.0 0.0 0.0 0.0 0.0 0.0\n",
            "L  1.0 0.0 0.0 0.0 0.0 0.0 0.0 0.0 0.0 0.0 6.0 0.0 1.0 0.0 0.0 0.0 0.0 0.0 0.0 0.0 0.0\n",
            "I  1.0 0.0 0.0 0.0 0.0 0.0 0.0 0.0 7.0 0.0 0.0 0.0 0.0 0.0 0.0 0.0 0.0 0.0 0.0 0.0 0.0\n",
            "E  1.0 0.0 0.0 0.0 7.0 0.0 0.0 0.0 0.0 0.0 0.0 0.0 0.0 0.0 0.0 0.0 0.0 0.0 0.0 0.0 0.0\n",
            "T  0.0 0.0 0.0 0.0 0.0 0.0 0.0 0.0 0.0 0.0 0.0 0.0 0.0 0.0 0.0 1.0 0.0 6.0 0.0 0.0 1.0\n",
            "N  0.0 0.0 0.0 0.0 0.0 0.0 0.0 0.0 0.0 0.0 0.0 0.0 6.0 0.0 0.0 0.0 1.0 1.0 0.0 0.0 0.0\n",
            "X  0.0 0.0 0.0 1.0 3.0 0.0 3.0 0.0 0.0 1.0 0.0 0.0 0.0 0.0 0.0 0.0 0.0 0.0 0.0 0.0 0.0\n",
            "E  0.0 0.0 0.0 1.0 6.0 0.0 0.0 0.0 0.0 1.0 0.0 0.0 0.0 0.0 0.0 0.0 0.0 0.0 0.0 0.0 0.0\n",
            "T  0.0 0.0 0.0 0.0 0.0 0.0 0.0 0.0 0.0 0.0 0.0 0.0 1.0 0.0 0.0 0.0 0.0 7.0 0.0 0.0 0.0\n",
            "G  0.0 0.0 0.0 0.0 0.0 0.0 8.0 0.0 0.0 0.0 0.0 0.0 0.0 0.0 0.0 0.0 0.0 0.0 0.0 0.0 0.0\n",
            "E  0.0 0.0 0.0 0.0 8.0 0.0 0.0 0.0 0.0 0.0 0.0 0.0 0.0 0.0 0.0 0.0 0.0 0.0 0.0 0.0 0.0\n",
            "I  0.0 0.0 0.0 0.0 0.0 0.0 0.0 0.0 8.0 0.0 0.0 0.0 0.0 0.0 0.0 0.0 0.0 0.0 0.0 0.0 0.0\n",
            "V  0.0 1.0 0.0 0.0 0.0 0.0 0.0 0.0 1.0 0.0 0.0 0.0 0.0 0.0 0.0 0.0 0.0 0.0 6.0 0.0 0.0\n",
            "W  0.0 0.0 0.0 0.0 0.0 0.0 0.0 0.0 0.0 0.0 0.0 0.0 0.0 0.0 0.0 0.0 0.0 0.0 0.0 8.0 0.0\n",
            "X  0.0 0.0 0.0 5.0 0.0 0.0 0.0 0.0 0.0 1.0 0.0 0.0 2.0 0.0 0.0 0.0 0.0 0.0 0.0 0.0 0.0\n",
            "K  0.0 0.0 0.0 0.0 0.0 0.0 0.0 0.0 0.0 8.0 0.0 0.0 0.0 0.0 0.0 0.0 0.0 0.0 0.0 0.0 0.0\n",
            "G  0.0 0.0 0.0 1.0 1.0 0.0 6.0 0.0 0.0 0.0 0.0 0.0 0.0 0.0 0.0 0.0 0.0 0.0 0.0 0.0 0.0\n",
            "R  0.0 0.0 0.0 0.0 1.0 0.0 0.0 0.0 0.0 1.0 0.0 0.0 0.0 0.0 0.0 6.0 0.0 0.0 0.0 0.0 0.0\n",
            "D  0.0 0.0 0.0 7.0 0.0 0.0 0.0 1.0 0.0 0.0 0.0 0.0 0.0 0.0 0.0 0.0 0.0 0.0 0.0 0.0 0.0\n",
            "F  0.0 0.0 0.0 0.0 0.0 7.0 0.0 0.0 1.0 0.0 0.0 0.0 0.0 0.0 0.0 0.0 0.0 0.0 0.0 0.0 0.0\n",
            "A  0.0 7.0 0.0 0.0 0.0 0.0 0.0 0.0 0.0 0.0 0.0 0.0 0.0 0.0 0.0 0.0 1.0 0.0 0.0 0.0 0.0\n",
            "T  0.0 0.0 0.0 0.0 0.0 0.0 0.0 0.0 0.0 0.0 0.0 0.0 1.0 0.0 0.0 0.0 0.0 7.0 0.0 0.0 0.0\n",
            "V  0.0 0.0 0.0 0.0 0.0 0.0 0.0 0.0 2.0 0.0 0.0 0.0 0.0 0.0 0.0 0.0 0.0 0.0 6.0 0.0 0.0\n",
            "R  0.0 0.0 0.0 0.0 0.0 0.0 0.0 0.0 0.0 2.0 0.0 0.0 0.0 0.0 0.0 6.0 0.0 0.0 0.0 0.0 0.0\n",
            "K  0.0 0.0 0.0 0.0 0.0 0.0 0.0 0.0 0.0 8.0 0.0 0.0 0.0 0.0 0.0 0.0 0.0 0.0 0.0 0.0 0.0\n",
            "V  0.0 0.0 0.0 0.0 0.0 0.0 0.0 0.0 0.0 0.0 0.0 0.0 0.0 0.0 0.0 0.0 0.0 0.0 8.0 0.0 0.0\n",
            "L  0.0 0.0 0.0 0.0 0.0 0.0 0.0 0.0 0.0 0.0 8.0 0.0 0.0 0.0 0.0 0.0 0.0 0.0 0.0 0.0 0.0\n",
            "S  0.0 0.0 0.0 0.0 0.0 0.0 0.0 0.0 0.0 0.0 0.0 0.0 0.0 0.0 0.0 0.0 8.0 0.0 0.0 0.0 0.0\n",
            "M  0.0 0.0 0.0 0.0 0.0 1.0 0.0 0.0 0.0 0.0 0.0 6.0 0.0 0.0 0.0 0.0 0.0 0.0 0.0 0.0 1.0\n",
            "P  0.0 0.0 0.0 0.0 0.0 0.0 0.0 0.0 0.0 0.0 0.0 0.0 0.0 8.0 0.0 0.0 0.0 0.0 0.0 0.0 0.0\n",
            "Q  0.0 0.0 0.0 0.0 0.0 0.0 0.0 0.0 0.0 0.0 0.0 0.0 0.0 0.0 8.0 0.0 0.0 0.0 0.0 0.0 0.0\n",
            "V  0.0 0.0 0.0 0.0 0.0 0.0 0.0 0.0 0.0 0.0 0.0 0.0 0.0 0.0 0.0 0.0 0.0 0.0 8.0 0.0 0.0\n",
            "N  0.0 0.0 0.0 0.0 0.0 0.0 0.0 0.0 0.0 0.0 0.0 0.0 8.0 0.0 0.0 0.0 0.0 0.0 0.0 0.0 0.0\n",
            "I  0.0 0.0 0.0 0.0 0.0 0.0 0.0 0.0 8.0 0.0 0.0 0.0 0.0 0.0 0.0 0.0 0.0 0.0 0.0 0.0 0.0\n",
            "V  0.0 0.0 0.0 0.0 0.0 0.0 0.0 0.0 0.0 0.0 0.0 0.0 0.0 0.0 0.0 0.0 0.0 0.0 8.0 0.0 0.0\n",
            "K  0.0 0.0 0.0 0.0 0.0 0.0 0.0 0.0 0.0 8.0 0.0 0.0 0.0 0.0 0.0 0.0 0.0 0.0 0.0 0.0 0.0\n",
            "K  0.0 0.0 0.0 0.0 0.0 0.0 0.0 0.0 0.0 8.0 0.0 0.0 0.0 0.0 0.0 0.0 0.0 0.0 0.0 0.0 0.0\n",
            "T  0.0 0.0 0.0 0.0 0.0 0.0 0.0 0.0 0.0 0.0 0.0 0.0 0.0 0.0 0.0 0.0 0.0 7.0 1.0 0.0 0.0\n",
            "E  0.0 0.0 0.0 0.0 8.0 0.0 0.0 0.0 0.0 0.0 0.0 0.0 0.0 0.0 0.0 0.0 0.0 0.0 0.0 0.0 0.0\n",
            "V  0.0 0.0 0.0 0.0 2.0 0.0 0.0 0.0 0.0 0.0 0.0 0.0 0.0 0.0 0.0 0.0 0.0 0.0 6.0 0.0 0.0\n",
            "Q  0.0 0.0 0.0 0.0 0.0 0.0 0.0 0.0 0.0 0.0 0.0 0.0 0.0 0.0 8.0 0.0 0.0 0.0 0.0 0.0 0.0\n",
            "T  0.0 0.0 0.0 0.0 0.0 0.0 0.0 0.0 0.0 0.0 0.0 0.0 0.0 0.0 0.0 0.0 0.0 8.0 0.0 0.0 0.0\n",
            "G  0.0 0.0 0.0 0.0 0.0 0.0 7.0 0.0 0.0 0.0 0.0 0.0 0.0 0.0 0.0 0.0 0.0 0.0 1.0 0.0 0.0\n",
            "X  0.0 3.0 0.0 0.0 0.0 0.0 5.0 0.0 0.0 0.0 0.0 0.0 0.0 0.0 0.0 0.0 0.0 0.0 0.0 0.0 0.0\n",
            "Q  7.0 0.0 0.0 0.0 0.0 0.0 0.0 0.0 0.0 0.0 0.0 0.0 0.0 0.0 1.0 0.0 0.0 0.0 0.0 0.0 0.0\n",
            "N  7.0 0.0 0.0 0.0 0.0 0.0 0.0 0.0 0.0 0.0 0.0 0.0 1.0 0.0 0.0 0.0 0.0 0.0 0.0 0.0 0.0\n",
            "G  7.0 0.0 0.0 0.0 0.0 0.0 1.0 0.0 0.0 0.0 0.0 0.0 0.0 0.0 0.0 0.0 0.0 0.0 0.0 0.0 0.0\n",
            "G  7.0 0.0 0.0 0.0 0.0 0.0 1.0 0.0 0.0 0.0 0.0 0.0 0.0 0.0 0.0 0.0 0.0 0.0 0.0 0.0 0.0\n",
            "X  0.0 0.0 0.0 0.0 0.0 4.0 0.0 0.0 0.0 0.0 4.0 0.0 0.0 0.0 0.0 0.0 0.0 0.0 0.0 0.0 0.0\n",
            "X  0.0 0.0 0.0 0.0 0.0 1.0 0.0 0.0 0.0 0.0 0.0 0.0 0.0 0.0 0.0 0.0 4.0 3.0 0.0 0.0 0.0\n",
            "X  0.0 0.0 0.0 1.0 0.0 0.0 0.0 0.0 0.0 4.0 0.0 0.0 3.0 0.0 0.0 0.0 0.0 0.0 0.0 0.0 0.0\n",
            "E  0.0 0.0 0.0 0.0 7.0 0.0 0.0 0.0 0.0 0.0 0.0 0.0 1.0 0.0 0.0 0.0 0.0 0.0 0.0 0.0 0.0\n",
            "S  0.0 0.0 0.0 0.0 0.0 0.0 0.0 0.0 0.0 0.0 0.0 0.0 1.0 0.0 0.0 0.0 7.0 0.0 0.0 0.0 0.0\n",
            "I  0.0 0.0 0.0 0.0 0.0 0.0 0.0 0.0 8.0 0.0 0.0 0.0 0.0 0.0 0.0 0.0 0.0 0.0 0.0 0.0 0.0\n",
            "X  0.0 0.0 0.0 0.0 0.0 0.0 0.0 0.0 0.0 0.0 4.0 0.0 0.0 0.0 0.0 0.0 0.0 0.0 1.0 0.0 3.0\n",
            "X  0.0 3.0 0.0 0.0 0.0 0.0 0.0 0.0 0.0 0.0 0.0 0.0 0.0 4.0 0.0 0.0 1.0 0.0 0.0 0.0 0.0\n",
            "X  0.0 0.0 0.0 0.0 0.0 0.0 0.0 0.0 0.0 5.0 0.0 0.0 0.0 0.0 0.0 3.0 0.0 0.0 0.0 0.0 0.0\n",
            "X  0.0 0.0 0.0 0.0 1.0 0.0 4.0 0.0 0.0 0.0 0.0 0.0 0.0 0.0 0.0 3.0 0.0 0.0 0.0 0.0 0.0\n",
            "X  0.0 0.0 0.0 0.0 0.0 0.0 0.0 0.0 0.0 1.0 0.0 0.0 4.0 0.0 0.0 0.0 3.0 0.0 0.0 0.0 0.0\n",
            "V  7.0 0.0 0.0 0.0 0.0 0.0 0.0 0.0 0.0 0.0 0.0 0.0 0.0 0.0 0.0 0.0 0.0 0.0 1.0 0.0 0.0\n",
            "V  7.0 0.0 0.0 0.0 0.0 0.0 0.0 0.0 0.0 0.0 0.0 0.0 0.0 0.0 0.0 0.0 0.0 0.0 1.0 0.0 0.0\n",
            "D  7.0 0.0 0.0 1.0 0.0 0.0 0.0 0.0 0.0 0.0 0.0 0.0 0.0 0.0 0.0 0.0 0.0 0.0 0.0 0.0 0.0\n",
            "X  0.0 1.0 0.0 0.0 0.0 3.0 0.0 0.0 0.0 0.0 0.0 0.0 0.0 0.0 0.0 0.0 4.0 0.0 0.0 0.0 0.0\n",
            "D  0.0 0.0 0.0 7.0 0.0 0.0 0.0 0.0 0.0 0.0 0.0 0.0 0.0 0.0 0.0 0.0 1.0 0.0 0.0 0.0 0.0\n",
            "K  0.0 0.0 0.0 0.0 0.0 0.0 0.0 0.0 0.0 8.0 0.0 0.0 0.0 0.0 0.0 0.0 0.0 0.0 0.0 0.0 0.0\n",
            "L  0.0 0.0 0.0 0.0 0.0 0.0 0.0 0.0 0.0 0.0 8.0 0.0 0.0 0.0 0.0 0.0 0.0 0.0 0.0 0.0 0.0\n",
            "I  0.0 0.0 0.0 0.0 0.0 0.0 0.0 0.0 8.0 0.0 0.0 0.0 0.0 0.0 0.0 0.0 0.0 0.0 0.0 0.0 0.0\n",
            "X  0.0 3.0 0.0 0.0 0.0 0.0 0.0 0.0 0.0 0.0 0.0 0.0 0.0 2.0 0.0 0.0 3.0 0.0 0.0 0.0 0.0\n",
            "R  0.0 0.0 0.0 0.0 0.0 0.0 0.0 0.0 1.0 0.0 0.0 0.0 0.0 0.0 0.0 7.0 0.0 0.0 0.0 0.0 0.0\n",
            "K  0.0 0.0 0.0 0.0 0.0 0.0 0.0 0.0 0.0 8.0 0.0 0.0 0.0 0.0 0.0 0.0 0.0 0.0 0.0 0.0 0.0\n",
            "T  7.0 0.0 0.0 0.0 0.0 0.0 0.0 0.0 0.0 0.0 0.0 0.0 0.0 0.0 0.0 0.0 0.0 1.0 0.0 0.0 0.0\n",
            "K  7.0 0.0 0.0 0.0 0.0 0.0 0.0 0.0 0.0 1.0 0.0 0.0 0.0 0.0 0.0 0.0 0.0 0.0 0.0 0.0 0.0\n",
            "K  7.0 0.0 0.0 0.0 0.0 0.0 0.0 0.0 0.0 1.0 0.0 0.0 0.0 0.0 0.0 0.0 0.0 0.0 0.0 0.0 0.0\n",
            "X  0.0 0.0 0.0 0.0 0.0 1.0 0.0 3.0 0.0 3.0 0.0 0.0 0.0 0.0 0.0 0.0 1.0 0.0 0.0 0.0 0.0\n",
            "X  0.0 0.0 0.0 3.0 0.0 0.0 1.0 0.0 0.0 0.0 0.0 0.0 0.0 0.0 0.0 3.0 0.0 0.0 0.0 0.0 1.0\n",
            "X  0.0 0.0 0.0 0.0 0.0 3.0 0.0 0.0 0.0 0.0 1.0 0.0 0.0 0.0 0.0 0.0 0.0 0.0 0.0 4.0 0.0\n",
            "X  0.0 0.0 0.0 4.0 3.0 0.0 0.0 0.0 0.0 0.0 0.0 0.0 0.0 0.0 0.0 0.0 1.0 0.0 0.0 0.0 0.0\n",
            "X  0.0 0.0 0.0 0.0 0.0 0.0 0.0 0.0 0.0 0.0 0.0 0.0 0.0 4.0 0.0 0.0 3.0 1.0 0.0 0.0 0.0\n",
            "X  0.0 0.0 0.0 0.0 1.0 0.0 0.0 0.0 0.0 4.0 0.0 0.0 0.0 0.0 0.0 0.0 3.0 0.0 0.0 0.0 0.0\n",
            "K  0.0 0.0 0.0 0.0 0.0 0.0 0.0 0.0 0.0 8.0 0.0 0.0 0.0 0.0 0.0 0.0 0.0 0.0 0.0 0.0 0.0\n",
            "Y  0.0 0.0 0.0 0.0 0.0 0.0 0.0 0.0 0.0 0.0 0.0 0.0 0.0 0.0 0.0 0.0 0.0 0.0 0.0 0.0 8.0\n",
            "G  0.0 0.0 0.0 0.0 0.0 0.0 8.0 0.0 0.0 0.0 0.0 0.0 0.0 0.0 0.0 0.0 0.0 0.0 0.0 0.0 0.0\n",
            "G  0.0 0.0 0.0 0.0 0.0 0.0 8.0 0.0 0.0 0.0 0.0 0.0 0.0 0.0 0.0 0.0 0.0 0.0 0.0 0.0 0.0\n",
            "F  0.0 0.0 0.0 0.0 0.0 7.0 0.0 0.0 0.0 0.0 0.0 0.0 0.0 0.0 0.0 0.0 0.0 0.0 0.0 0.0 1.0\n",
            "X  0.0 1.0 0.0 4.0 0.0 0.0 3.0 0.0 0.0 0.0 0.0 0.0 0.0 0.0 0.0 0.0 0.0 0.0 0.0 0.0 0.0\n",
            "S  0.0 0.0 0.0 0.0 0.0 0.0 0.0 0.0 0.0 0.0 0.0 0.0 0.0 0.0 0.0 1.0 7.0 0.0 0.0 0.0 0.0\n",
            "P  0.0 0.0 0.0 0.0 0.0 0.0 0.0 0.0 0.0 0.0 0.0 0.0 0.0 8.0 0.0 0.0 0.0 0.0 0.0 0.0 0.0\n",
            "T  0.0 0.0 0.0 0.0 0.0 0.0 0.0 0.0 1.0 0.0 0.0 0.0 0.0 0.0 0.0 0.0 0.0 7.0 0.0 0.0 0.0\n",
            "V  0.0 0.0 0.0 0.0 0.0 0.0 0.0 0.0 1.0 0.0 0.0 0.0 0.0 0.0 0.0 0.0 0.0 0.0 7.0 0.0 0.0\n",
            "X  0.0 5.0 0.0 0.0 0.0 0.0 0.0 0.0 0.0 0.0 0.0 0.0 0.0 0.0 0.0 0.0 0.0 3.0 0.0 0.0 0.0\n",
            "Y  0.0 0.0 0.0 0.0 0.0 0.0 0.0 0.0 0.0 0.0 0.0 0.0 0.0 0.0 0.0 0.0 0.0 0.0 0.0 0.0 8.0\n",
            "S  0.0 0.0 0.0 0.0 0.0 0.0 0.0 0.0 0.0 0.0 0.0 0.0 0.0 0.0 0.0 0.0 8.0 0.0 0.0 0.0 0.0\n",
            "V  0.0 0.0 0.0 0.0 0.0 0.0 0.0 0.0 1.0 0.0 0.0 0.0 0.0 0.0 0.0 0.0 0.0 0.0 7.0 0.0 0.0\n",
            "L  0.0 0.0 0.0 0.0 0.0 0.0 0.0 0.0 0.0 0.0 8.0 0.0 0.0 0.0 0.0 0.0 0.0 0.0 0.0 0.0 0.0\n",
            "V  0.0 0.0 0.0 0.0 0.0 0.0 0.0 0.0 0.0 0.0 0.0 0.0 0.0 0.0 0.0 0.0 0.0 0.0 8.0 0.0 0.0\n",
            "V  0.0 0.0 0.0 0.0 0.0 0.0 0.0 0.0 1.0 0.0 0.0 0.0 0.0 0.0 0.0 0.0 0.0 1.0 6.0 0.0 0.0\n",
            "A  0.0 7.0 0.0 0.0 0.0 0.0 0.0 0.0 0.0 0.0 0.0 0.0 0.0 0.0 0.0 0.0 0.0 0.0 0.0 0.0 1.0\n",
            "K  0.0 0.0 0.0 1.0 0.0 0.0 0.0 0.0 0.0 7.0 0.0 0.0 0.0 0.0 0.0 0.0 0.0 0.0 0.0 0.0 0.0\n",
            "S  4.0 0.0 0.0 0.0 0.0 0.0 0.0 0.0 0.0 0.0 0.0 0.0 0.0 0.0 1.0 0.0 3.0 0.0 0.0 0.0 0.0\n",
            "K  4.0 0.0 0.0 0.0 0.0 0.0 0.0 0.0 0.0 3.0 0.0 0.0 1.0 0.0 0.0 0.0 0.0 0.0 0.0 0.0 0.0\n",
            "V  1.0 0.0 0.0 0.0 0.0 0.0 0.0 0.0 1.0 0.0 0.0 0.0 0.0 0.0 0.0 0.0 0.0 0.0 6.0 0.0 0.0\n",
            "X  1.0 0.0 0.0 0.0 4.0 0.0 0.0 0.0 0.0 0.0 0.0 0.0 0.0 0.0 3.0 0.0 0.0 0.0 0.0 0.0 0.0\n",
            "X  1.0 0.0 0.0 3.0 0.0 0.0 0.0 0.0 0.0 4.0 0.0 0.0 0.0 0.0 0.0 0.0 0.0 0.0 0.0 0.0 0.0\n",
            "G  1.0 0.0 0.0 0.0 0.0 0.0 7.0 0.0 0.0 0.0 0.0 0.0 0.0 0.0 0.0 0.0 0.0 0.0 0.0 0.0 0.0\n",
            "K  1.0 0.0 0.0 0.0 0.0 0.0 0.0 0.0 0.0 7.0 0.0 0.0 0.0 0.0 0.0 0.0 0.0 0.0 0.0 0.0 0.0\n",
            "X  1.0 0.0 0.0 0.0 0.0 0.0 0.0 0.0 0.0 0.0 0.0 0.0 0.0 0.0 0.0 0.0 4.0 0.0 3.0 0.0 0.0\n",
            "K  1.0 0.0 0.0 0.0 0.0 0.0 0.0 0.0 0.0 7.0 0.0 0.0 0.0 0.0 0.0 0.0 0.0 0.0 0.0 0.0 0.0\n",
            "K  1.0 0.0 0.0 0.0 0.0 0.0 0.0 0.0 0.0 7.0 0.0 0.0 0.0 0.0 0.0 0.0 0.0 0.0 0.0 0.0 0.0\n",
            "X  0.0 0.0 0.0 0.0 0.0 0.0 0.0 0.0 3.0 0.0 4.0 0.0 1.0 0.0 0.0 0.0 0.0 0.0 0.0 0.0 0.0\n",
            "K  0.0 0.0 0.0 0.0 0.0 0.0 0.0 0.0 0.0 8.0 0.0 0.0 0.0 0.0 0.0 0.0 0.0 0.0 0.0 0.0 0.0\n",
            "X  0.0 0.0 0.0 0.0 0.0 0.0 0.0 0.0 1.0 0.0 0.0 0.0 0.0 0.0 0.0 0.0 3.0 4.0 0.0 0.0 0.0\n",
            "X  0.0 0.0 0.0 0.0 0.0 0.0 3.0 0.0 0.0 1.0 0.0 0.0 0.0 0.0 0.0 0.0 0.0 0.0 4.0 0.0 0.0\n",
            "K  0.0 0.0 0.0 0.0 0.0 0.0 0.0 0.0 0.0 7.0 0.0 0.0 1.0 0.0 0.0 0.0 0.0 0.0 0.0 0.0 0.0\n",
            "E  0.0 1.0 0.0 0.0 6.0 0.0 0.0 0.0 0.0 0.0 0.0 0.0 0.0 0.0 0.0 0.0 0.0 1.0 0.0 0.0 0.0\n",
            "L  0.0 0.0 0.0 0.0 0.0 0.0 0.0 0.0 0.0 0.0 7.0 1.0 0.0 0.0 0.0 0.0 0.0 0.0 0.0 0.0 0.0\n",
            "X  0.0 0.0 0.0 0.0 0.0 0.0 0.0 0.0 3.0 0.0 3.0 0.0 0.0 0.0 0.0 0.0 0.0 0.0 2.0 0.0 0.0\n",
            "G  0.0 0.0 0.0 0.0 0.0 0.0 8.0 0.0 0.0 0.0 0.0 0.0 0.0 0.0 0.0 0.0 0.0 0.0 0.0 0.0 0.0\n",
            "I  0.0 0.0 0.0 0.0 0.0 0.0 0.0 0.0 7.0 0.0 0.0 0.0 0.0 0.0 0.0 0.0 0.0 0.0 1.0 0.0 0.0\n",
            "T  0.0 0.0 0.0 0.0 0.0 0.0 0.0 0.0 0.0 0.0 0.0 0.0 0.0 1.0 0.0 0.0 0.0 7.0 0.0 0.0 0.0\n",
            "X  0.0 0.0 0.0 0.0 0.0 0.0 0.0 0.0 4.0 0.0 3.0 0.0 0.0 0.0 0.0 0.0 0.0 0.0 1.0 0.0 0.0\n",
            "X  0.0 0.0 0.0 0.0 0.0 0.0 0.0 0.0 0.0 0.0 4.0 4.0 0.0 0.0 0.0 0.0 0.0 0.0 0.0 0.0 0.0\n",
            "X  0.0 0.0 0.0 3.0 4.0 0.0 0.0 0.0 0.0 0.0 0.0 0.0 0.0 0.0 0.0 0.0 0.0 1.0 0.0 0.0 0.0\n",
            "X  0.0 0.0 0.0 0.0 0.0 0.0 0.0 0.0 0.0 5.0 0.0 0.0 0.0 0.0 0.0 3.0 0.0 0.0 0.0 0.0 0.0\n",
            "X  0.0 0.0 0.0 0.0 0.0 0.0 0.0 0.0 0.0 0.0 4.0 1.0 0.0 0.0 0.0 0.0 3.0 0.0 0.0 0.0 0.0\n",
            "X  0.0 0.0 0.0 0.0 1.0 0.0 0.0 0.0 0.0 0.0 0.0 0.0 0.0 0.0 0.0 0.0 3.0 1.0 3.0 0.0 0.0\n",
            "F  0.0 0.0 0.0 0.0 0.0 8.0 0.0 0.0 0.0 0.0 0.0 0.0 0.0 0.0 0.0 0.0 0.0 0.0 0.0 0.0 0.0\n",
            "E  0.0 0.0 0.0 0.0 8.0 0.0 0.0 0.0 0.0 0.0 0.0 0.0 0.0 0.0 0.0 0.0 0.0 0.0 0.0 0.0 0.0\n",
            "K  0.0 0.0 0.0 0.0 0.0 0.0 0.0 0.0 0.0 6.0 0.0 0.0 0.0 0.0 0.0 2.0 0.0 0.0 0.0 0.0 0.0\n",
            "N  0.0 0.0 0.0 2.0 0.0 0.0 0.0 0.0 0.0 0.0 0.0 0.0 6.0 0.0 0.0 0.0 0.0 0.0 0.0 0.0 0.0\n",
            "P  0.0 0.0 0.0 0.0 0.0 0.0 0.0 0.0 0.0 0.0 0.0 0.0 0.0 8.0 0.0 0.0 0.0 0.0 0.0 0.0 0.0\n",
            "X  0.0 0.0 0.0 0.0 0.0 0.0 0.0 0.0 3.0 0.0 3.0 0.0 1.0 0.0 0.0 0.0 0.0 0.0 1.0 0.0 0.0\n",
            "X  0.0 1.0 0.0 3.0 0.0 0.0 0.0 0.0 0.0 3.0 1.0 0.0 0.0 0.0 0.0 0.0 0.0 0.0 0.0 0.0 0.0\n",
            "F  0.0 0.0 0.0 0.0 0.0 7.0 0.0 0.0 0.0 0.0 0.0 0.0 0.0 0.0 0.0 0.0 0.0 0.0 0.0 0.0 1.0\n",
            "X  0.0 0.0 0.0 0.0 0.0 0.0 0.0 0.0 3.0 0.0 5.0 0.0 0.0 0.0 0.0 0.0 0.0 0.0 0.0 0.0 0.0\n",
            "E  0.0 0.0 0.0 0.0 7.0 0.0 0.0 0.0 0.0 0.0 0.0 0.0 0.0 0.0 0.0 1.0 0.0 0.0 0.0 0.0 0.0\n",
            "X  0.0 3.0 0.0 3.0 0.0 0.0 0.0 0.0 0.0 0.0 0.0 0.0 1.0 0.0 0.0 1.0 0.0 0.0 0.0 0.0 0.0\n",
            "K  0.0 0.0 0.0 0.0 0.0 0.0 0.0 0.0 0.0 7.0 1.0 0.0 0.0 0.0 0.0 0.0 0.0 0.0 0.0 0.0 0.0\n",
            "G  0.0 0.0 0.0 0.0 0.0 0.0 8.0 0.0 0.0 0.0 0.0 0.0 0.0 0.0 0.0 0.0 0.0 0.0 0.0 0.0 0.0\n",
            "Y  0.0 0.0 0.0 0.0 0.0 0.0 0.0 0.0 1.0 0.0 0.0 0.0 0.0 0.0 0.0 0.0 0.0 0.0 0.0 0.0 7.0\n",
            "X  0.0 0.0 0.0 0.0 0.0 0.0 3.0 0.0 0.0 3.0 0.0 0.0 1.0 0.0 0.0 1.0 0.0 0.0 0.0 0.0 0.0\n",
            "X  0.0 0.0 0.0 0.0 3.0 0.0 0.0 0.0 0.0 0.0 0.0 0.0 5.0 0.0 0.0 0.0 0.0 0.0 0.0 0.0 0.0\n",
            "V  0.0 0.0 0.0 0.0 0.0 0.0 0.0 0.0 0.0 0.0 0.0 0.0 0.0 0.0 0.0 0.0 0.0 0.0 8.0 0.0 0.0\n",
            "X  0.0 0.0 0.0 0.0 0.0 0.0 0.0 0.0 0.0 2.0 0.0 0.0 0.0 0.0 4.0 1.0 1.0 0.0 0.0 0.0 0.0\n",
            "X  0.0 0.0 0.0 0.0 1.0 0.0 0.0 1.0 3.0 3.0 0.0 0.0 0.0 0.0 0.0 0.0 0.0 0.0 0.0 0.0 0.0\n",
            "D  1.0 0.0 0.0 6.0 1.0 0.0 0.0 0.0 0.0 0.0 0.0 0.0 0.0 0.0 0.0 0.0 0.0 0.0 0.0 0.0 0.0\n",
            "X  1.0 0.0 0.0 0.0 0.0 0.0 0.0 0.0 0.0 3.0 3.0 0.0 1.0 0.0 0.0 0.0 0.0 0.0 0.0 0.0 0.0\n",
            "X  0.0 0.0 3.0 0.0 0.0 0.0 0.0 0.0 4.0 0.0 0.0 0.0 0.0 0.0 0.0 0.0 0.0 0.0 1.0 0.0 0.0\n",
            "I  0.0 0.0 0.0 0.0 0.0 0.0 0.0 0.0 7.0 0.0 0.0 0.0 0.0 0.0 0.0 0.0 0.0 0.0 1.0 0.0 0.0\n",
            "K  0.0 0.0 0.0 0.0 0.0 0.0 0.0 0.0 0.0 8.0 0.0 0.0 0.0 0.0 0.0 0.0 0.0 0.0 0.0 0.0 0.0\n",
            "L  0.0 0.0 0.0 0.0 0.0 0.0 0.0 0.0 0.0 0.0 8.0 0.0 0.0 0.0 0.0 0.0 0.0 0.0 0.0 0.0 0.0\n",
            "P  0.0 0.0 0.0 0.0 0.0 0.0 0.0 0.0 0.0 0.0 0.0 0.0 0.0 7.0 0.0 0.0 0.0 0.0 1.0 0.0 0.0\n",
            "K  0.0 0.0 0.0 0.0 0.0 0.0 0.0 0.0 0.0 8.0 0.0 0.0 0.0 0.0 0.0 0.0 0.0 0.0 0.0 0.0 0.0\n",
            "Y  0.0 0.0 0.0 0.0 0.0 0.0 0.0 1.0 0.0 0.0 0.0 0.0 0.0 0.0 0.0 0.0 0.0 0.0 0.0 0.0 7.0\n",
            "S  0.0 0.0 0.0 0.0 0.0 0.0 0.0 0.0 0.0 0.0 0.0 0.0 0.0 0.0 0.0 0.0 7.0 1.0 0.0 0.0 0.0\n",
            "L  0.0 0.0 0.0 0.0 0.0 0.0 0.0 0.0 0.0 0.0 7.0 0.0 0.0 0.0 0.0 0.0 0.0 0.0 1.0 0.0 0.0\n",
            "F  0.0 0.0 0.0 0.0 0.0 7.0 0.0 0.0 0.0 0.0 1.0 0.0 0.0 0.0 0.0 0.0 0.0 0.0 0.0 0.0 0.0\n",
            "E  0.0 0.0 0.0 0.0 7.0 0.0 0.0 0.0 0.0 1.0 0.0 0.0 0.0 0.0 0.0 0.0 0.0 0.0 0.0 0.0 0.0\n",
            "X  0.0 0.0 0.0 0.0 0.0 4.0 0.0 0.0 0.0 0.0 4.0 0.0 0.0 0.0 0.0 0.0 0.0 0.0 0.0 0.0 0.0\n",
            "E  0.0 0.0 0.0 0.0 7.0 0.0 0.0 0.0 0.0 1.0 0.0 0.0 0.0 0.0 0.0 0.0 0.0 0.0 0.0 0.0 0.0\n",
            "N  0.0 0.0 0.0 0.0 0.0 0.0 0.0 1.0 0.0 0.0 0.0 0.0 7.0 0.0 0.0 0.0 0.0 0.0 0.0 0.0 0.0\n",
            "G  0.0 0.0 0.0 0.0 0.0 0.0 7.0 0.0 0.0 1.0 0.0 0.0 0.0 0.0 0.0 0.0 0.0 0.0 0.0 0.0 0.0\n",
            "Y  7.0 0.0 0.0 0.0 0.0 0.0 0.0 0.0 0.0 0.0 0.0 0.0 0.0 0.0 0.0 0.0 0.0 0.0 0.0 0.0 1.0\n",
            "G  7.0 0.0 0.0 0.0 0.0 0.0 1.0 0.0 0.0 0.0 0.0 0.0 0.0 0.0 0.0 0.0 0.0 0.0 0.0 0.0 0.0\n",
            "X  0.0 0.0 0.0 0.0 0.0 0.0 0.0 0.0 0.0 0.0 0.0 0.0 0.0 0.0 0.0 4.0 0.0 4.0 0.0 0.0 0.0\n",
            "X  0.0 0.0 0.0 0.0 0.0 0.0 0.0 0.0 0.0 4.0 0.0 0.0 0.0 0.0 0.0 3.0 0.0 0.0 0.0 0.0 1.0\n",
            "R  7.0 0.0 0.0 0.0 0.0 0.0 0.0 0.0 0.0 0.0 0.0 0.0 0.0 0.0 0.0 1.0 0.0 0.0 0.0 0.0 0.0\n",
            "R  0.0 0.0 0.0 0.0 0.0 0.0 0.0 0.0 0.0 0.0 0.0 0.0 0.0 0.0 0.0 8.0 0.0 0.0 0.0 0.0 0.0\n",
            "M  0.0 0.0 0.0 0.0 0.0 1.0 0.0 0.0 0.0 0.0 1.0 6.0 0.0 0.0 0.0 0.0 0.0 0.0 0.0 0.0 0.0\n",
            "L  0.0 0.0 0.0 0.0 0.0 0.0 0.0 0.0 1.0 0.0 7.0 0.0 0.0 0.0 0.0 0.0 0.0 0.0 0.0 0.0 0.0\n",
            "A  0.0 7.0 0.0 0.0 0.0 0.0 0.0 0.0 0.0 0.0 0.0 0.0 0.0 0.0 0.0 0.0 0.0 0.0 1.0 0.0 0.0\n",
            "S  0.0 0.0 0.0 0.0 0.0 0.0 0.0 0.0 0.0 0.0 0.0 0.0 0.0 0.0 0.0 0.0 8.0 0.0 0.0 0.0 0.0\n",
            "V  5.0 0.0 0.0 0.0 0.0 0.0 0.0 0.0 0.0 0.0 0.0 0.0 0.0 0.0 0.0 0.0 0.0 0.0 3.0 0.0 0.0\n",
            "M  5.0 0.0 0.0 0.0 0.0 0.0 0.0 0.0 0.0 0.0 0.0 3.0 0.0 0.0 0.0 0.0 0.0 0.0 0.0 0.0 0.0\n",
            "A  5.0 3.0 0.0 0.0 0.0 0.0 0.0 0.0 0.0 0.0 0.0 0.0 0.0 0.0 0.0 0.0 0.0 0.0 0.0 0.0 0.0\n",
            "N  5.0 0.0 0.0 0.0 0.0 0.0 0.0 0.0 0.0 0.0 0.0 0.0 3.0 0.0 0.0 0.0 0.0 0.0 0.0 0.0 0.0\n",
            "N  5.0 0.0 0.0 0.0 0.0 0.0 0.0 0.0 0.0 0.0 0.0 0.0 3.0 0.0 0.0 0.0 0.0 0.0 0.0 0.0 0.0\n",
            "N  5.0 0.0 0.0 0.0 0.0 0.0 0.0 0.0 0.0 0.0 0.0 0.0 3.0 0.0 0.0 0.0 0.0 0.0 0.0 0.0 0.0\n",
            "S  5.0 0.0 0.0 0.0 0.0 0.0 0.0 0.0 0.0 0.0 0.0 0.0 0.0 0.0 0.0 0.0 3.0 0.0 0.0 0.0 0.0\n",
            "X  0.0 4.0 0.0 0.0 0.0 0.0 0.0 0.0 0.0 0.0 0.0 0.0 1.0 0.0 0.0 3.0 0.0 0.0 0.0 0.0 0.0\n",
            "G  0.0 0.0 0.0 0.0 0.0 0.0 6.0 0.0 0.0 0.0 0.0 0.0 0.0 0.0 1.0 1.0 0.0 0.0 0.0 0.0 0.0\n",
            "X  0.0 0.0 0.0 3.0 5.0 0.0 0.0 0.0 0.0 0.0 0.0 0.0 0.0 0.0 0.0 0.0 0.0 0.0 0.0 0.0 0.0\n",
            "L  0.0 0.0 0.0 0.0 0.0 0.0 0.0 0.0 0.0 0.0 8.0 0.0 0.0 0.0 0.0 0.0 0.0 0.0 0.0 0.0 0.0\n",
            "Q  0.0 0.0 0.0 0.0 0.0 0.0 0.0 0.0 0.0 1.0 0.0 0.0 0.0 0.0 7.0 0.0 0.0 0.0 0.0 0.0 0.0\n",
            "K  0.0 0.0 0.0 0.0 0.0 0.0 0.0 0.0 0.0 7.0 0.0 0.0 0.0 0.0 0.0 1.0 0.0 0.0 0.0 0.0 0.0\n",
            "X  0.0 4.0 0.0 0.0 0.0 0.0 4.0 0.0 0.0 0.0 0.0 0.0 0.0 0.0 0.0 0.0 0.0 0.0 0.0 0.0 0.0\n",
            "N  0.0 0.0 0.0 0.0 0.0 0.0 0.0 0.0 0.0 0.0 0.0 0.0 8.0 0.0 0.0 0.0 0.0 0.0 0.0 0.0 0.0\n",
            "E  0.0 0.0 0.0 0.0 7.0 0.0 0.0 0.0 0.0 0.0 0.0 0.0 0.0 0.0 1.0 0.0 0.0 0.0 0.0 0.0 0.0\n",
            "X  0.0 0.0 0.0 0.0 0.0 0.0 0.0 0.0 2.0 0.0 3.0 3.0 0.0 0.0 0.0 0.0 0.0 0.0 0.0 0.0 0.0\n",
            "X  0.0 3.0 0.0 0.0 0.0 4.0 0.0 0.0 0.0 0.0 0.0 0.0 0.0 0.0 0.0 0.0 0.0 0.0 1.0 0.0 0.0\n",
            "L  0.0 0.0 0.0 0.0 0.0 0.0 0.0 0.0 0.0 0.0 7.0 0.0 0.0 0.0 0.0 0.0 0.0 0.0 1.0 0.0 0.0\n",
            "P  0.0 0.0 0.0 0.0 0.0 0.0 0.0 0.0 0.0 0.0 0.0 0.0 0.0 7.0 0.0 0.0 0.0 1.0 0.0 0.0 0.0\n",
            "X  0.0 3.0 0.0 0.0 0.0 0.0 0.0 0.0 0.0 0.0 0.0 0.0 1.0 0.0 0.0 0.0 3.0 1.0 0.0 0.0 0.0\n",
            "K  0.0 0.0 0.0 0.0 0.0 0.0 0.0 1.0 0.0 7.0 0.0 0.0 0.0 0.0 0.0 0.0 0.0 0.0 0.0 0.0 0.0\n",
            "X  0.0 0.0 0.0 0.0 0.0 0.0 0.0 0.0 0.0 0.0 4.0 0.0 0.0 0.0 1.0 0.0 0.0 0.0 0.0 0.0 3.0\n",
            "V  0.0 0.0 0.0 0.0 0.0 0.0 1.0 0.0 0.0 0.0 0.0 1.0 0.0 0.0 0.0 0.0 0.0 0.0 6.0 0.0 0.0\n",
            "X  0.0 0.0 0.0 0.0 0.0 0.0 0.0 0.0 0.0 1.0 0.0 0.0 3.0 0.0 0.0 0.0 0.0 4.0 0.0 0.0 0.0\n",
            "X  0.0 0.0 0.0 0.0 0.0 3.0 0.0 0.0 0.0 0.0 5.0 0.0 0.0 0.0 0.0 0.0 0.0 0.0 0.0 0.0 0.0\n",
            "L  0.0 0.0 0.0 0.0 0.0 0.0 0.0 0.0 1.0 0.0 7.0 0.0 0.0 0.0 0.0 0.0 0.0 0.0 0.0 0.0 0.0\n",
            "Y  0.0 0.0 0.0 0.0 0.0 0.0 0.0 0.0 0.0 0.0 0.0 0.0 0.0 0.0 0.0 0.0 1.0 0.0 0.0 0.0 7.0\n",
            "X  0.0 0.0 0.0 0.0 0.0 0.0 0.0 4.0 0.0 0.0 3.0 0.0 0.0 0.0 1.0 0.0 0.0 0.0 0.0 0.0 0.0\n",
            "A  0.0 7.0 0.0 0.0 0.0 0.0 0.0 0.0 0.0 0.0 0.0 0.0 0.0 0.0 0.0 0.0 0.0 0.0 0.0 0.0 1.0\n",
            "X  0.0 0.0 0.0 0.0 0.0 0.0 0.0 3.0 0.0 1.0 0.0 0.0 0.0 0.0 0.0 0.0 3.0 1.0 0.0 0.0 0.0\n",
            "X  0.0 0.0 0.0 0.0 0.0 0.0 0.0 3.0 0.0 3.0 0.0 0.0 1.0 0.0 0.0 0.0 0.0 1.0 0.0 0.0 0.0\n",
            "X  0.0 0.0 0.0 0.0 0.0 0.0 0.0 0.0 4.0 0.0 1.0 0.0 0.0 0.0 0.0 0.0 0.0 0.0 0.0 0.0 3.0\n",
            "E  0.0 0.0 0.0 1.0 6.0 0.0 0.0 1.0 0.0 0.0 0.0 0.0 0.0 0.0 0.0 0.0 0.0 0.0 0.0 0.0 0.0\n",
            "X  0.0 0.0 0.0 0.0 0.0 0.0 0.0 0.0 0.0 5.0 0.0 0.0 0.0 0.0 0.0 0.0 3.0 0.0 0.0 0.0 0.0\n",
            "X  0.0 0.0 0.0 0.0 0.0 0.0 0.0 0.0 0.0 0.0 3.0 0.0 1.0 0.0 0.0 0.0 3.0 0.0 1.0 0.0 0.0\n",
            "K  0.0 0.0 0.0 1.0 1.0 0.0 0.0 0.0 0.0 6.0 0.0 0.0 0.0 0.0 0.0 0.0 0.0 0.0 0.0 0.0 0.0\n",
            "X  1.0 0.0 0.0 0.0 4.0 0.0 3.0 0.0 0.0 0.0 0.0 0.0 0.0 0.0 0.0 0.0 0.0 0.0 0.0 0.0 0.0\n",
            "X  2.0 0.0 0.0 0.0 0.0 0.0 0.0 0.0 0.0 0.0 3.0 0.0 0.0 0.0 0.0 0.0 3.0 0.0 0.0 0.0 0.0\n",
            "X  2.0 0.0 0.0 0.0 3.0 0.0 0.0 0.0 0.0 0.0 0.0 0.0 0.0 3.0 0.0 0.0 0.0 0.0 0.0 0.0 0.0\n",
            "E  5.0 0.0 0.0 0.0 3.0 0.0 0.0 0.0 0.0 0.0 0.0 0.0 0.0 0.0 0.0 0.0 0.0 0.0 0.0 0.0 0.0\n",
            "D  5.0 0.0 0.0 3.0 0.0 0.0 0.0 0.0 0.0 0.0 0.0 0.0 0.0 0.0 0.0 0.0 0.0 0.0 0.0 0.0 0.0\n",
            "N  5.0 0.0 0.0 0.0 0.0 0.0 0.0 0.0 0.0 0.0 0.0 0.0 3.0 0.0 0.0 0.0 0.0 0.0 0.0 0.0 0.0\n",
            "E  4.0 0.0 0.0 0.0 3.0 0.0 0.0 0.0 0.0 0.0 0.0 0.0 0.0 1.0 0.0 0.0 0.0 0.0 0.0 0.0 0.0\n",
            "Q  4.0 0.0 0.0 0.0 0.0 0.0 0.0 0.0 0.0 1.0 0.0 0.0 0.0 0.0 3.0 0.0 0.0 0.0 0.0 0.0 0.0\n",
            "X  0.0 0.0 0.0 0.0 0.0 0.0 0.0 5.0 0.0 3.0 0.0 0.0 0.0 0.0 0.0 0.0 0.0 0.0 0.0 0.0 0.0\n",
            "X  0.0 0.0 0.0 1.0 3.0 0.0 0.0 0.0 0.0 0.0 1.0 0.0 0.0 0.0 3.0 0.0 0.0 0.0 0.0 0.0 0.0\n",
            "X  0.0 3.0 0.0 1.0 0.0 0.0 0.0 0.0 0.0 0.0 3.0 0.0 0.0 0.0 0.0 0.0 1.0 0.0 0.0 0.0 0.0\n",
            "X  0.0 0.0 0.0 0.0 0.0 3.0 0.0 0.0 0.0 0.0 1.0 0.0 0.0 0.0 0.0 0.0 0.0 0.0 0.0 0.0 4.0\n",
            "X  0.0 0.0 0.0 0.0 0.0 0.0 0.0 0.0 3.0 0.0 1.0 0.0 0.0 0.0 0.0 0.0 0.0 0.0 4.0 0.0 0.0\n",
            "X  0.0 0.0 0.0 1.0 3.0 0.0 0.0 0.0 0.0 1.0 3.0 0.0 0.0 0.0 0.0 0.0 0.0 0.0 0.0 0.0 0.0\n",
            "X  0.0 0.0 0.0 3.0 0.0 0.0 0.0 0.0 0.0 1.0 0.0 0.0 1.0 0.0 3.0 0.0 0.0 0.0 0.0 0.0 0.0\n",
            "H  0.0 0.0 0.0 0.0 0.0 0.0 0.0 7.0 0.0 0.0 0.0 0.0 1.0 0.0 0.0 0.0 0.0 0.0 0.0 0.0 0.0\n",
            "X  0.0 0.0 0.0 0.0 0.0 0.0 0.0 0.0 0.0 4.0 0.0 0.0 0.0 0.0 1.0 0.0 0.0 0.0 0.0 0.0 3.0\n",
            "X  0.0 0.0 0.0 1.0 0.0 0.0 0.0 3.0 0.0 0.0 0.0 0.0 3.0 0.0 1.0 0.0 0.0 0.0 0.0 0.0 0.0\n",
            "X  0.0 0.0 0.0 3.0 1.0 0.0 0.0 0.0 0.0 0.0 1.0 0.0 0.0 0.0 0.0 0.0 0.0 0.0 0.0 0.0 3.0\n",
            "L  0.0 0.0 0.0 0.0 0.0 1.0 0.0 0.0 1.0 0.0 6.0 0.0 0.0 0.0 0.0 0.0 0.0 0.0 0.0 0.0 0.0\n",
            "X  0.0 0.0 0.0 3.0 0.0 0.0 0.0 0.0 0.0 1.0 0.0 0.0 0.0 0.0 1.0 0.0 0.0 0.0 0.0 0.0 3.0\n",
            "X  0.0 0.0 0.0 0.0 4.0 0.0 0.0 0.0 0.0 0.0 0.0 0.0 0.0 0.0 3.0 0.0 1.0 0.0 0.0 0.0 0.0\n",
            "X  0.0 0.0 0.0 0.0 0.0 0.0 0.0 0.0 4.0 0.0 4.0 0.0 0.0 0.0 0.0 0.0 0.0 0.0 0.0 0.0 0.0\n",
            "X  0.0 0.0 0.0 0.0 0.0 0.0 0.0 0.0 3.0 0.0 4.0 0.0 0.0 0.0 0.0 0.0 0.0 0.0 0.0 1.0 0.0\n",
            "X  0.0 0.0 0.0 1.0 3.0 0.0 0.0 0.0 0.0 0.0 0.0 0.0 1.0 0.0 0.0 0.0 3.0 0.0 0.0 0.0 0.0\n",
            "X  0.0 0.0 0.0 0.0 0.0 0.0 0.0 0.0 0.0 0.0 0.0 0.0 0.0 0.0 4.0 0.0 0.0 0.0 1.0 0.0 3.0\n",
            "I  0.0 0.0 0.0 0.0 0.0 1.0 0.0 0.0 6.0 0.0 0.0 0.0 0.0 0.0 0.0 0.0 0.0 0.0 1.0 0.0 0.0\n",
            "X  0.0 0.0 0.0 0.0 3.0 0.0 0.0 0.0 0.0 0.0 1.0 0.0 0.0 0.0 0.0 0.0 4.0 0.0 0.0 0.0 0.0\n",
            "X  0.0 0.0 0.0 0.0 4.0 0.0 0.0 0.0 0.0 0.0 0.0 0.0 1.0 0.0 0.0 3.0 0.0 0.0 0.0 0.0 0.0\n",
            "F  0.0 0.0 0.0 0.0 0.0 8.0 0.0 0.0 0.0 0.0 0.0 0.0 0.0 0.0 0.0 0.0 0.0 0.0 0.0 0.0 0.0\n",
            "X  0.0 3.0 0.0 0.0 0.0 0.0 0.0 0.0 0.0 0.0 0.0 1.0 0.0 0.0 0.0 0.0 4.0 0.0 0.0 0.0 0.0\n",
            "X  0.0 0.0 0.0 0.0 0.0 0.0 0.0 0.0 0.0 4.0 1.0 0.0 0.0 0.0 0.0 0.0 3.0 0.0 0.0 0.0 0.0\n",
            "X  0.0 1.0 0.0 0.0 0.0 0.0 0.0 0.0 0.0 1.0 3.0 0.0 0.0 0.0 0.0 3.0 0.0 0.0 0.0 0.0 0.0\n",
            "X  0.0 0.0 0.0 0.0 0.0 0.0 0.0 0.0 0.0 0.0 0.0 0.0 0.0 0.0 0.0 0.0 0.0 1.0 3.0 0.0 4.0\n",
            "X  0.0 0.0 0.0 1.0 0.0 0.0 0.0 0.0 3.0 0.0 0.0 0.0 0.0 0.0 0.0 0.0 0.0 1.0 3.0 0.0 0.0\n",
            "X  0.0 0.0 0.0 3.0 0.0 0.0 0.0 0.0 0.0 0.0 5.0 0.0 0.0 0.0 0.0 0.0 0.0 0.0 0.0 0.0 0.0\n",
            "X  0.0 4.0 0.0 0.0 0.0 0.0 0.0 0.0 0.0 0.0 0.0 0.0 0.0 0.0 0.0 0.0 0.0 0.0 4.0 0.0 0.0\n",
            "X  0.0 0.0 0.0 3.0 4.0 0.0 0.0 0.0 0.0 0.0 0.0 0.0 1.0 0.0 0.0 0.0 0.0 0.0 0.0 0.0 0.0\n",
            "X  0.0 3.0 0.0 0.0 0.0 0.0 1.0 0.0 0.0 4.0 0.0 0.0 0.0 0.0 0.0 0.0 0.0 0.0 0.0 0.0 0.0\n",
            "N  0.0 0.0 0.0 0.0 0.0 0.0 0.0 0.0 0.0 1.0 0.0 0.0 7.0 0.0 0.0 0.0 0.0 0.0 0.0 0.0 0.0\n",
            "X  0.0 0.0 0.0 0.0 0.0 0.0 0.0 0.0 3.0 0.0 4.0 0.0 0.0 0.0 1.0 0.0 0.0 0.0 0.0 0.0 0.0\n",
            "X  0.0 0.0 0.0 3.0 1.0 0.0 0.0 0.0 0.0 0.0 0.0 0.0 0.0 0.0 0.0 0.0 3.0 0.0 0.0 0.0 1.0\n",
            "K  0.0 0.0 0.0 1.0 0.0 0.0 0.0 0.0 0.0 7.0 0.0 0.0 0.0 0.0 0.0 0.0 0.0 0.0 0.0 0.0 0.0\n",
            "V  0.0 0.0 0.0 0.0 1.0 0.0 0.0 0.0 1.0 0.0 0.0 0.0 0.0 0.0 0.0 0.0 0.0 0.0 6.0 0.0 0.0\n",
            "X  0.0 0.0 0.0 0.0 0.0 0.0 0.0 0.0 0.0 4.0 4.0 0.0 0.0 0.0 0.0 0.0 0.0 0.0 0.0 0.0 0.0\n",
            "X  0.0 0.0 0.0 0.0 4.0 0.0 0.0 0.0 1.0 0.0 0.0 0.0 0.0 0.0 0.0 0.0 3.0 0.0 0.0 0.0 0.0\n",
            "X  0.0 3.0 0.0 0.0 0.0 0.0 0.0 0.0 0.0 0.0 5.0 0.0 0.0 0.0 0.0 0.0 0.0 0.0 0.0 0.0 0.0\n",
            "X  0.0 0.0 0.0 0.0 0.0 3.0 0.0 0.0 0.0 0.0 0.0 0.0 0.0 0.0 0.0 0.0 0.0 1.0 0.0 0.0 4.0\n",
            "X  0.0 1.0 0.0 0.0 0.0 0.0 0.0 0.0 0.0 0.0 0.0 0.0 4.0 0.0 0.0 0.0 3.0 0.0 0.0 0.0 0.0\n",
            "X  0.0 0.0 0.0 0.0 0.0 0.0 0.0 0.0 0.0 3.0 0.0 0.0 4.0 0.0 1.0 0.0 0.0 0.0 0.0 0.0 0.0\n",
            "X  0.0 0.0 0.0 0.0 0.0 0.0 0.0 3.0 3.0 0.0 0.0 0.0 1.0 0.0 1.0 0.0 0.0 0.0 0.0 0.0 0.0\n",
            "X  0.0 0.0 0.0 0.0 3.0 0.0 0.0 0.0 0.0 0.0 0.0 0.0 1.0 0.0 0.0 3.0 0.0 1.0 0.0 0.0 0.0\n",
            "X  0.0 0.0 0.0 3.0 0.0 0.0 1.0 0.0 1.0 0.0 0.0 0.0 0.0 0.0 0.0 0.0 3.0 0.0 0.0 0.0 0.0\n",
            "X  0.0 0.0 0.0 0.0 2.0 0.0 0.0 0.0 0.0 3.0 0.0 0.0 0.0 0.0 0.0 0.0 0.0 0.0 0.0 0.0 3.0\n",
            "X  0.0 0.0 0.0 1.0 1.0 0.0 0.0 0.0 0.0 0.0 0.0 0.0 0.0 3.0 0.0 0.0 3.0 0.0 0.0 0.0 0.0\n",
            "I  0.0 0.0 1.0 0.0 0.0 0.0 0.0 0.0 6.0 0.0 1.0 0.0 0.0 0.0 0.0 0.0 0.0 0.0 0.0 0.0 0.0\n",
            "X  0.0 0.0 0.0 0.0 0.0 0.0 0.0 0.0 0.0 1.0 0.0 0.0 0.0 0.0 0.0 4.0 3.0 0.0 0.0 0.0 0.0\n",
            "E  0.0 0.0 0.0 0.0 7.0 0.0 0.0 0.0 0.0 0.0 0.0 0.0 1.0 0.0 0.0 0.0 0.0 0.0 0.0 0.0 0.0\n",
            "X  0.0 0.0 0.0 0.0 0.0 0.0 0.0 0.0 4.0 0.0 1.0 0.0 0.0 0.0 3.0 0.0 0.0 0.0 0.0 0.0 0.0\n",
            "X  0.0 4.0 3.0 0.0 0.0 0.0 0.0 0.0 0.0 0.0 0.0 1.0 0.0 0.0 0.0 0.0 0.0 0.0 0.0 0.0 0.0\n",
            "X  0.0 0.0 0.0 0.0 3.0 0.0 0.0 0.0 0.0 0.0 0.0 0.0 1.0 0.0 0.0 0.0 4.0 0.0 0.0 0.0 0.0\n",
            "X  0.0 0.0 0.0 0.0 0.0 0.0 0.0 0.0 0.0 0.0 0.0 0.0 3.0 0.0 0.0 1.0 4.0 0.0 0.0 0.0 0.0\n",
            "X  0.0 0.0 0.0 0.0 0.0 1.0 0.0 0.0 3.0 0.0 0.0 0.0 0.0 0.0 0.0 0.0 0.0 0.0 4.0 0.0 0.0\n",
            "I  0.0 0.0 0.0 0.0 0.0 0.0 0.0 0.0 8.0 0.0 0.0 0.0 0.0 0.0 0.0 0.0 0.0 0.0 0.0 0.0 0.0\n",
            "X  0.0 0.0 0.0 0.0 0.0 0.0 0.0 3.0 0.0 0.0 0.0 0.0 4.0 0.0 0.0 0.0 0.0 1.0 0.0 0.0 0.0\n",
            "L  0.0 0.0 0.0 0.0 0.0 0.0 0.0 0.0 0.0 0.0 7.0 0.0 0.0 0.0 0.0 0.0 0.0 1.0 0.0 0.0 0.0\n",
            "X  0.0 0.0 0.0 0.0 0.0 3.0 0.0 0.0 0.0 0.0 5.0 0.0 0.0 0.0 0.0 0.0 0.0 0.0 0.0 0.0 0.0\n",
            "T  0.0 0.0 0.0 0.0 0.0 0.0 0.0 0.0 0.0 0.0 0.0 0.0 0.0 0.0 0.0 0.0 1.0 7.0 0.0 0.0 0.0\n",
            "L  0.0 0.0 0.0 0.0 0.0 2.0 0.0 0.0 0.0 0.0 6.0 0.0 0.0 0.0 0.0 0.0 0.0 0.0 0.0 0.0 0.0\n",
            "T  0.0 0.0 0.0 0.0 0.0 0.0 0.0 0.0 0.0 0.0 0.0 0.0 0.0 0.0 0.0 0.0 0.0 8.0 0.0 0.0 0.0\n",
            "X  0.0 4.0 0.0 0.0 0.0 0.0 0.0 0.0 0.0 0.0 0.0 0.0 4.0 0.0 0.0 0.0 0.0 0.0 0.0 0.0 0.0\n",
            "X  0.0 0.0 0.0 0.0 0.0 0.0 0.0 0.0 2.0 0.0 3.0 0.0 0.0 0.0 0.0 0.0 3.0 0.0 0.0 0.0 0.0\n",
            "G  0.0 0.0 0.0 0.0 0.0 0.0 7.0 0.0 0.0 0.0 0.0 0.0 1.0 0.0 0.0 0.0 0.0 0.0 0.0 0.0 0.0\n",
            "A  0.0 8.0 0.0 0.0 0.0 0.0 0.0 0.0 0.0 0.0 0.0 0.0 0.0 0.0 0.0 0.0 0.0 0.0 0.0 0.0 0.0\n",
            "P  0.0 0.0 0.0 0.0 0.0 0.0 1.0 0.0 0.0 0.0 0.0 0.0 0.0 7.0 0.0 0.0 0.0 0.0 0.0 0.0 0.0\n",
            "A  0.0 7.0 0.0 0.0 0.0 0.0 0.0 0.0 0.0 0.0 0.0 0.0 0.0 0.0 1.0 0.0 0.0 0.0 0.0 0.0 0.0\n",
            "X  0.0 3.0 0.0 3.0 0.0 0.0 0.0 0.0 0.0 1.0 0.0 0.0 0.0 0.0 0.0 0.0 0.0 1.0 0.0 0.0 0.0\n",
            "F  0.0 0.0 0.0 0.0 0.0 7.0 0.0 0.0 0.0 1.0 0.0 0.0 0.0 0.0 0.0 0.0 0.0 0.0 0.0 0.0 0.0\n",
            "K  0.0 0.0 0.0 0.0 0.0 0.0 0.0 0.0 1.0 7.0 0.0 0.0 0.0 0.0 0.0 0.0 0.0 0.0 0.0 0.0 0.0\n",
            "X  0.0 0.0 0.0 0.0 0.0 4.0 0.0 0.0 1.0 0.0 0.0 0.0 0.0 0.0 0.0 0.0 0.0 0.0 0.0 0.0 3.0\n",
            "X  0.0 0.0 0.0 0.0 0.0 5.0 0.0 0.0 0.0 0.0 3.0 0.0 0.0 0.0 0.0 0.0 0.0 0.0 0.0 0.0 0.0\n",
            "X  0.0 0.0 0.0 5.0 0.0 0.0 3.0 0.0 0.0 0.0 0.0 0.0 0.0 0.0 0.0 0.0 0.0 0.0 0.0 0.0 0.0\n",
            "T  0.0 0.0 0.0 1.0 0.0 0.0 0.0 0.0 0.0 1.0 0.0 0.0 0.0 0.0 0.0 0.0 0.0 6.0 0.0 0.0 0.0\n",
            "T  0.0 0.0 0.0 0.0 0.0 0.0 0.0 0.0 0.0 0.0 0.0 0.0 1.0 0.0 0.0 0.0 0.0 7.0 0.0 0.0 0.0\n",
            "L  7.0 0.0 0.0 0.0 0.0 0.0 0.0 0.0 0.0 0.0 1.0 0.0 0.0 0.0 0.0 0.0 0.0 0.0 0.0 0.0 0.0\n",
            "S  7.0 0.0 0.0 0.0 0.0 0.0 0.0 0.0 0.0 0.0 0.0 0.0 0.0 0.0 0.0 0.0 1.0 0.0 0.0 0.0 0.0\n",
            "I  0.0 0.0 0.0 0.0 0.0 0.0 0.0 0.0 7.0 0.0 1.0 0.0 0.0 0.0 0.0 0.0 0.0 0.0 0.0 0.0 0.0\n",
            "X  0.0 0.0 0.0 4.0 0.0 0.0 0.0 0.0 0.0 0.0 0.0 0.0 0.0 4.0 0.0 0.0 0.0 0.0 0.0 0.0 0.0\n",
            "R  0.0 0.0 0.0 0.0 0.0 0.0 0.0 0.0 1.0 0.0 0.0 0.0 0.0 0.0 0.0 7.0 0.0 0.0 0.0 0.0 0.0\n",
            "K  0.0 0.0 0.0 0.0 0.0 0.0 0.0 0.0 0.0 8.0 0.0 0.0 0.0 0.0 0.0 0.0 0.0 0.0 0.0 0.0 0.0\n",
            "R  0.0 0.0 0.0 0.0 0.0 0.0 0.0 0.0 0.0 0.0 0.0 0.0 0.0 0.0 0.0 8.0 0.0 0.0 0.0 0.0 0.0\n",
            "Y  0.0 0.0 0.0 0.0 0.0 0.0 0.0 0.0 0.0 0.0 0.0 0.0 0.0 0.0 0.0 0.0 0.0 0.0 0.0 1.0 7.0\n",
            "X  0.0 0.0 0.0 0.0 0.0 0.0 3.0 0.0 0.0 0.0 0.0 0.0 0.0 0.0 1.0 0.0 0.0 4.0 0.0 0.0 0.0\n",
            "F  7.0 0.0 0.0 0.0 0.0 1.0 0.0 0.0 0.0 0.0 0.0 0.0 0.0 0.0 0.0 0.0 0.0 0.0 0.0 0.0 0.0\n",
            "T  7.0 0.0 0.0 0.0 0.0 0.0 0.0 0.0 0.0 0.0 0.0 0.0 0.0 0.0 0.0 0.0 0.0 1.0 0.0 0.0 0.0\n",
            "D  7.0 0.0 0.0 1.0 0.0 0.0 0.0 0.0 0.0 0.0 0.0 0.0 0.0 0.0 0.0 0.0 0.0 0.0 0.0 0.0 0.0\n",
            "S  7.0 0.0 0.0 0.0 0.0 0.0 0.0 0.0 0.0 0.0 0.0 0.0 0.0 0.0 0.0 0.0 1.0 0.0 0.0 0.0 0.0\n",
            "D  7.0 0.0 0.0 1.0 0.0 0.0 0.0 0.0 0.0 0.0 0.0 0.0 0.0 0.0 0.0 0.0 0.0 0.0 0.0 0.0 0.0\n",
            "K  7.0 0.0 0.0 0.0 0.0 0.0 0.0 0.0 0.0 1.0 0.0 0.0 0.0 0.0 0.0 0.0 0.0 0.0 0.0 0.0 0.0\n",
            "S  0.0 0.0 0.0 0.0 0.0 0.0 0.0 0.0 0.0 0.0 0.0 1.0 0.0 0.0 0.0 0.0 7.0 0.0 0.0 0.0 0.0\n",
            "X  0.0 0.0 0.0 0.0 0.0 0.0 0.0 0.0 0.0 0.0 0.0 0.0 0.0 3.0 0.0 0.0 0.0 4.0 1.0 0.0 0.0\n",
            "X  0.0 0.0 0.0 0.0 0.0 0.0 0.0 0.0 0.0 4.0 0.0 0.0 0.0 0.0 3.0 0.0 0.0 1.0 0.0 0.0 0.0\n",
            "X  0.0 0.0 0.0 0.0 4.0 0.0 0.0 0.0 0.0 1.0 0.0 0.0 0.0 0.0 0.0 0.0 3.0 0.0 0.0 0.0 0.0\n",
            "X  0.0 0.0 0.0 0.0 0.0 0.0 0.0 0.0 5.0 0.0 0.0 0.0 0.0 0.0 0.0 0.0 0.0 0.0 3.0 0.0 0.0\n",
            "L  0.0 0.0 0.0 0.0 0.0 0.0 0.0 0.0 1.0 0.0 7.0 0.0 0.0 0.0 0.0 0.0 0.0 0.0 0.0 0.0 0.0\n",
            "X  0.0 0.0 0.0 3.0 1.0 0.0 0.0 0.0 0.0 0.0 0.0 0.0 1.0 0.0 0.0 0.0 3.0 0.0 0.0 0.0 0.0\n",
            "X  0.0 4.0 0.0 0.0 0.0 0.0 0.0 0.0 0.0 0.0 0.0 0.0 0.0 0.0 0.0 0.0 4.0 0.0 0.0 0.0 0.0\n",
            "T  0.0 0.0 0.0 0.0 0.0 0.0 0.0 0.0 0.0 0.0 0.0 0.0 0.0 0.0 0.0 0.0 0.0 8.0 0.0 0.0 0.0\n",
            "L  0.0 0.0 0.0 0.0 0.0 1.0 0.0 0.0 0.0 0.0 7.0 0.0 0.0 0.0 0.0 0.0 0.0 0.0 0.0 0.0 0.0\n",
            "I  0.0 0.0 0.0 0.0 0.0 0.0 0.0 0.0 8.0 0.0 0.0 0.0 0.0 0.0 0.0 0.0 0.0 0.0 0.0 0.0 0.0\n",
            "H  0.0 0.0 0.0 0.0 0.0 0.0 0.0 8.0 0.0 0.0 0.0 0.0 0.0 0.0 0.0 0.0 0.0 0.0 0.0 0.0 0.0\n",
            "Q  0.0 0.0 0.0 0.0 0.0 0.0 0.0 0.0 0.0 0.0 0.0 0.0 0.0 0.0 8.0 0.0 0.0 0.0 0.0 0.0 0.0\n",
            "S  0.0 0.0 0.0 0.0 0.0 0.0 0.0 0.0 0.0 0.0 0.0 0.0 0.0 0.0 0.0 0.0 8.0 0.0 0.0 0.0 0.0\n",
            "I  0.0 0.0 0.0 0.0 0.0 0.0 0.0 0.0 8.0 0.0 0.0 0.0 0.0 0.0 0.0 0.0 0.0 0.0 0.0 0.0 0.0\n",
            "T  0.0 0.0 0.0 0.0 0.0 0.0 0.0 0.0 0.0 0.0 0.0 0.0 0.0 0.0 0.0 0.0 0.0 8.0 0.0 0.0 0.0\n",
            "G  0.0 0.0 0.0 0.0 0.0 0.0 8.0 0.0 0.0 0.0 0.0 0.0 0.0 0.0 0.0 0.0 0.0 0.0 0.0 0.0 0.0\n",
            "L  0.0 0.0 0.0 0.0 0.0 0.0 0.0 0.0 0.0 0.0 8.0 0.0 0.0 0.0 0.0 0.0 0.0 0.0 0.0 0.0 0.0\n",
            "Y  0.0 0.0 0.0 0.0 0.0 0.0 0.0 0.0 0.0 0.0 0.0 0.0 0.0 0.0 0.0 0.0 0.0 0.0 0.0 0.0 8.0\n",
            "E  0.0 0.0 0.0 0.0 8.0 0.0 0.0 0.0 0.0 0.0 0.0 0.0 0.0 0.0 0.0 0.0 0.0 0.0 0.0 0.0 0.0\n",
            "T  0.0 0.0 0.0 0.0 0.0 0.0 0.0 0.0 0.0 0.0 0.0 0.0 0.0 0.0 0.0 0.0 0.0 8.0 0.0 0.0 0.0\n",
            "R  0.0 0.0 0.0 0.0 0.0 0.0 0.0 0.0 0.0 0.0 0.0 0.0 0.0 0.0 0.0 8.0 0.0 0.0 0.0 0.0 0.0\n",
            "I  0.0 0.0 0.0 0.0 0.0 0.0 0.0 0.0 8.0 0.0 0.0 0.0 0.0 0.0 0.0 0.0 0.0 0.0 0.0 0.0 0.0\n",
            "D  0.0 0.0 0.0 8.0 0.0 0.0 0.0 0.0 0.0 0.0 0.0 0.0 0.0 0.0 0.0 0.0 0.0 0.0 0.0 0.0 0.0\n",
            "L  0.0 0.0 0.0 0.0 0.0 0.0 0.0 0.0 0.0 0.0 8.0 0.0 0.0 0.0 0.0 0.0 0.0 0.0 0.0 0.0 0.0\n",
            "S  0.0 0.0 0.0 0.0 0.0 0.0 0.0 0.0 0.0 0.0 0.0 0.0 1.0 0.0 0.0 0.0 7.0 0.0 0.0 0.0 0.0\n",
            "Q  0.0 0.0 0.0 0.0 0.0 0.0 0.0 0.0 0.0 2.0 0.0 0.0 0.0 0.0 6.0 0.0 0.0 0.0 0.0 0.0 0.0\n",
            "L  0.0 0.0 0.0 0.0 0.0 0.0 0.0 0.0 0.0 0.0 8.0 0.0 0.0 0.0 0.0 0.0 0.0 0.0 0.0 0.0 0.0\n",
            "G  0.0 0.0 0.0 0.0 0.0 0.0 8.0 0.0 0.0 0.0 0.0 0.0 0.0 0.0 0.0 0.0 0.0 0.0 0.0 0.0 0.0\n",
            "G  0.0 0.0 0.0 0.0 1.0 0.0 7.0 0.0 0.0 0.0 0.0 0.0 0.0 0.0 0.0 0.0 0.0 0.0 0.0 0.0 0.0\n",
            "D  0.0 0.0 0.0 8.0 0.0 0.0 0.0 0.0 0.0 0.0 0.0 0.0 0.0 0.0 0.0 0.0 0.0 0.0 0.0 0.0 0.0\n",
            "\n"
          ],
          "name": "stdout"
        }
      ]
    },
    {
      "cell_type": "code",
      "metadata": {
        "id": "m51_r8ZOqp4d",
        "colab_type": "code",
        "outputId": "04cc908c-7a8c-4b3f-9146-b3928aba35f2",
        "colab": {}
      },
      "source": [
        "from Bio.Align.Applications import ClustalwCommandline\n",
        "clustalw_exe = 'clustalw2'\n",
        "ccli = ClustalwCommandline(clustalw_exe, infile=\"samples/input4align.fasta\", outfile='../../aoutput.aln')\n",
        "print(ccli)\n"
      ],
      "execution_count": 0,
      "outputs": [
        {
          "output_type": "stream",
          "text": [
            "clustalw2 -infile=samples/input4align.fasta -outfile=../../aoutput.aln\n"
          ],
          "name": "stdout"
        }
      ]
    },
    {
      "cell_type": "code",
      "metadata": {
        "id": "SbiLZLVLqp4e",
        "colab_type": "code",
        "colab": {}
      },
      "source": [
        " clustalw_exe = 'clustalw2'"
      ],
      "execution_count": 0,
      "outputs": []
    },
    {
      "cell_type": "code",
      "metadata": {
        "id": "_6hfPwHjqp4g",
        "colab_type": "code",
        "colab": {}
      },
      "source": [
        "clustalw_exe='c:\\\\windows\\\\program file\\\\clustal\\\\clustalw.exe'"
      ],
      "execution_count": 0,
      "outputs": []
    },
    {
      "cell_type": "code",
      "metadata": {
        "id": "GKRx_kSdqp4i",
        "colab_type": "code",
        "outputId": "2be461e0-5652-4d7b-fb24-f0da906e4998",
        "colab": {}
      },
      "source": [
        "from Bio.Align.Applications import ClustalwCommandline\n",
        "clustalw_exe = 'clustalw2'\n",
        "ccli = ClustalwCommandline(clustalw_exe,\n",
        "infile=\"samples/input4align.fasta\", outfile='../../aoutput.aln')\n",
        "ccli()"
      ],
      "execution_count": 0,
      "outputs": [
        {
          "output_type": "error",
          "ename": "ApplicationError",
          "evalue": "Non-zero return code 127 from 'clustalw2 -infile=samples/input4align.fasta -outfile=../../aoutput.aln', message '/bin/sh: 1: clustalw2: not found'",
          "traceback": [
            "\u001b[0;31m---------------------------------------------------------------------------\u001b[0m",
            "\u001b[0;31mApplicationError\u001b[0m                          Traceback (most recent call last)",
            "\u001b[0;32m<ipython-input-16-b06b5262fe76>\u001b[0m in \u001b[0;36m<module>\u001b[0;34m()\u001b[0m\n\u001b[1;32m      3\u001b[0m ccli = ClustalwCommandline(clustalw_exe,\n\u001b[1;32m      4\u001b[0m infile=\"samples/input4align.fasta\", outfile='../../aoutput.aln')\n\u001b[0;32m----> 5\u001b[0;31m \u001b[0mccli\u001b[0m\u001b[0;34m(\u001b[0m\u001b[0;34m)\u001b[0m\u001b[0;34m\u001b[0m\u001b[0m\n\u001b[0m",
            "\u001b[0;32m~/anaconda3_410/lib/python3.5/site-packages/Bio/Application/__init__.py\u001b[0m in \u001b[0;36m__call__\u001b[0;34m(self, stdin, stdout, stderr, cwd, env)\u001b[0m\n\u001b[1;32m    514\u001b[0m         \u001b[0;32mif\u001b[0m \u001b[0mreturn_code\u001b[0m\u001b[0;34m:\u001b[0m\u001b[0;34m\u001b[0m\u001b[0m\n\u001b[1;32m    515\u001b[0m             raise ApplicationError(return_code, str(self),\n\u001b[0;32m--> 516\u001b[0;31m                                    stdout_str, stderr_str)\n\u001b[0m\u001b[1;32m    517\u001b[0m         \u001b[0;32mreturn\u001b[0m \u001b[0mstdout_str\u001b[0m\u001b[0;34m,\u001b[0m \u001b[0mstderr_str\u001b[0m\u001b[0;34m\u001b[0m\u001b[0m\n\u001b[1;32m    518\u001b[0m \u001b[0;34m\u001b[0m\u001b[0m\n",
            "\u001b[0;31mApplicationError\u001b[0m: Non-zero return code 127 from 'clustalw2 -infile=samples/input4align.fasta -outfile=../../aoutput.aln', message '/bin/sh: 1: clustalw2: not found'"
          ]
        }
      ]
    },
    {
      "cell_type": "code",
      "metadata": {
        "id": "dPOeQjIkqp4m",
        "colab_type": "code",
        "outputId": "58c8c85d-26b9-4108-adb6-dd886fcb6466",
        "colab": {}
      },
      "source": [
        "from Bio import AlignIO\n",
        "seqs = AlignIO.read('samples/aoutput.aln', 'clustal')\n",
        "seqs[0]"
      ],
      "execution_count": 0,
      "outputs": [
        {
          "output_type": "error",
          "ename": "FileNotFoundError",
          "evalue": "[Errno 2] No such file or directory: 'samples/aoutput.aln'",
          "traceback": [
            "\u001b[0;31m---------------------------------------------------------------------------\u001b[0m",
            "\u001b[0;31mFileNotFoundError\u001b[0m                         Traceback (most recent call last)",
            "\u001b[0;32m<ipython-input-17-a34c0e43eb24>\u001b[0m in \u001b[0;36m<module>\u001b[0;34m()\u001b[0m\n\u001b[1;32m      1\u001b[0m \u001b[0;32mfrom\u001b[0m \u001b[0mBio\u001b[0m \u001b[0;32mimport\u001b[0m \u001b[0mAlignIO\u001b[0m\u001b[0;34m\u001b[0m\u001b[0m\n\u001b[0;32m----> 2\u001b[0;31m \u001b[0mseqs\u001b[0m \u001b[0;34m=\u001b[0m \u001b[0mAlignIO\u001b[0m\u001b[0;34m.\u001b[0m\u001b[0mread\u001b[0m\u001b[0;34m(\u001b[0m\u001b[0;34m'samples/aoutput.aln'\u001b[0m\u001b[0;34m,\u001b[0m \u001b[0;34m'clustal'\u001b[0m\u001b[0;34m)\u001b[0m\u001b[0;34m\u001b[0m\u001b[0m\n\u001b[0m\u001b[1;32m      3\u001b[0m \u001b[0mseqs\u001b[0m\u001b[0;34m[\u001b[0m\u001b[0;36m0\u001b[0m\u001b[0;34m]\u001b[0m\u001b[0;34m\u001b[0m\u001b[0m\n",
            "\u001b[0;32m~/anaconda3_410/lib/python3.5/site-packages/Bio/AlignIO/__init__.py\u001b[0m in \u001b[0;36mread\u001b[0;34m(handle, format, seq_count, alphabet)\u001b[0m\n\u001b[1;32m    422\u001b[0m     \u001b[0miterator\u001b[0m \u001b[0;34m=\u001b[0m \u001b[0mparse\u001b[0m\u001b[0;34m(\u001b[0m\u001b[0mhandle\u001b[0m\u001b[0;34m,\u001b[0m \u001b[0mformat\u001b[0m\u001b[0;34m,\u001b[0m \u001b[0mseq_count\u001b[0m\u001b[0;34m,\u001b[0m \u001b[0malphabet\u001b[0m\u001b[0;34m)\u001b[0m\u001b[0;34m\u001b[0m\u001b[0m\n\u001b[1;32m    423\u001b[0m     \u001b[0;32mtry\u001b[0m\u001b[0;34m:\u001b[0m\u001b[0;34m\u001b[0m\u001b[0m\n\u001b[0;32m--> 424\u001b[0;31m         \u001b[0mfirst\u001b[0m \u001b[0;34m=\u001b[0m \u001b[0mnext\u001b[0m\u001b[0;34m(\u001b[0m\u001b[0miterator\u001b[0m\u001b[0;34m)\u001b[0m\u001b[0;34m\u001b[0m\u001b[0m\n\u001b[0m\u001b[1;32m    425\u001b[0m     \u001b[0;32mexcept\u001b[0m \u001b[0mStopIteration\u001b[0m\u001b[0;34m:\u001b[0m\u001b[0;34m\u001b[0m\u001b[0m\n\u001b[1;32m    426\u001b[0m         \u001b[0mfirst\u001b[0m \u001b[0;34m=\u001b[0m \u001b[0;32mNone\u001b[0m\u001b[0;34m\u001b[0m\u001b[0m\n",
            "\u001b[0;32m~/anaconda3_410/lib/python3.5/site-packages/Bio/AlignIO/__init__.py\u001b[0m in \u001b[0;36mparse\u001b[0;34m(handle, format, seq_count, alphabet)\u001b[0m\n\u001b[1;32m    345\u001b[0m         \u001b[0;32mraise\u001b[0m \u001b[0mTypeError\u001b[0m\u001b[0;34m(\u001b[0m\u001b[0;34m\"Need integer for seq_count (sequences per alignment)\"\u001b[0m\u001b[0;34m)\u001b[0m\u001b[0;34m\u001b[0m\u001b[0m\n\u001b[1;32m    346\u001b[0m \u001b[0;34m\u001b[0m\u001b[0m\n\u001b[0;32m--> 347\u001b[0;31m     \u001b[0;32mwith\u001b[0m \u001b[0mas_handle\u001b[0m\u001b[0;34m(\u001b[0m\u001b[0mhandle\u001b[0m\u001b[0;34m,\u001b[0m \u001b[0;34m'rU'\u001b[0m\u001b[0;34m)\u001b[0m \u001b[0;32mas\u001b[0m \u001b[0mfp\u001b[0m\u001b[0;34m:\u001b[0m\u001b[0;34m\u001b[0m\u001b[0m\n\u001b[0m\u001b[1;32m    348\u001b[0m         \u001b[0;31m# Map the file format to a sequence iterator:\u001b[0m\u001b[0;34m\u001b[0m\u001b[0;34m\u001b[0m\u001b[0m\n\u001b[1;32m    349\u001b[0m         \u001b[0;32mif\u001b[0m \u001b[0mformat\u001b[0m \u001b[0;32min\u001b[0m \u001b[0m_FormatToIterator\u001b[0m\u001b[0;34m:\u001b[0m\u001b[0;34m\u001b[0m\u001b[0m\n",
            "\u001b[0;32m~/anaconda3_410/lib/python3.5/contextlib.py\u001b[0m in \u001b[0;36m__enter__\u001b[0;34m(self)\u001b[0m\n\u001b[1;32m     57\u001b[0m     \u001b[0;32mdef\u001b[0m \u001b[0m__enter__\u001b[0m\u001b[0;34m(\u001b[0m\u001b[0mself\u001b[0m\u001b[0;34m)\u001b[0m\u001b[0;34m:\u001b[0m\u001b[0;34m\u001b[0m\u001b[0m\n\u001b[1;32m     58\u001b[0m         \u001b[0;32mtry\u001b[0m\u001b[0;34m:\u001b[0m\u001b[0;34m\u001b[0m\u001b[0m\n\u001b[0;32m---> 59\u001b[0;31m             \u001b[0;32mreturn\u001b[0m \u001b[0mnext\u001b[0m\u001b[0;34m(\u001b[0m\u001b[0mself\u001b[0m\u001b[0;34m.\u001b[0m\u001b[0mgen\u001b[0m\u001b[0;34m)\u001b[0m\u001b[0;34m\u001b[0m\u001b[0m\n\u001b[0m\u001b[1;32m     60\u001b[0m         \u001b[0;32mexcept\u001b[0m \u001b[0mStopIteration\u001b[0m\u001b[0;34m:\u001b[0m\u001b[0;34m\u001b[0m\u001b[0m\n\u001b[1;32m     61\u001b[0m             \u001b[0;32mraise\u001b[0m \u001b[0mRuntimeError\u001b[0m\u001b[0;34m(\u001b[0m\u001b[0;34m\"generator didn't yield\"\u001b[0m\u001b[0;34m)\u001b[0m \u001b[0;32mfrom\u001b[0m \u001b[0;32mNone\u001b[0m\u001b[0;34m\u001b[0m\u001b[0m\n",
            "\u001b[0;32m~/anaconda3_410/lib/python3.5/site-packages/Bio/File.py\u001b[0m in \u001b[0;36mas_handle\u001b[0;34m(handleish, mode, **kwargs)\u001b[0m\n\u001b[1;32m     86\u001b[0m                 \u001b[0;32myield\u001b[0m \u001b[0mfp\u001b[0m\u001b[0;34m\u001b[0m\u001b[0m\n\u001b[1;32m     87\u001b[0m         \u001b[0;32melse\u001b[0m\u001b[0;34m:\u001b[0m\u001b[0;34m\u001b[0m\u001b[0m\n\u001b[0;32m---> 88\u001b[0;31m             \u001b[0;32mwith\u001b[0m \u001b[0mopen\u001b[0m\u001b[0;34m(\u001b[0m\u001b[0mhandleish\u001b[0m\u001b[0;34m,\u001b[0m \u001b[0mmode\u001b[0m\u001b[0;34m,\u001b[0m \u001b[0;34m**\u001b[0m\u001b[0mkwargs\u001b[0m\u001b[0;34m)\u001b[0m \u001b[0;32mas\u001b[0m \u001b[0mfp\u001b[0m\u001b[0;34m:\u001b[0m\u001b[0;34m\u001b[0m\u001b[0m\n\u001b[0m\u001b[1;32m     89\u001b[0m                 \u001b[0;32myield\u001b[0m \u001b[0mfp\u001b[0m\u001b[0;34m\u001b[0m\u001b[0m\n\u001b[1;32m     90\u001b[0m     \u001b[0;32melse\u001b[0m\u001b[0;34m:\u001b[0m\u001b[0;34m\u001b[0m\u001b[0m\n",
            "\u001b[0;31mFileNotFoundError\u001b[0m: [Errno 2] No such file or directory: 'samples/aoutput.aln'"
          ]
        }
      ]
    },
    {
      "cell_type": "code",
      "metadata": {
        "id": "TWTIY7Uwqp4n",
        "colab_type": "code",
        "outputId": "6dc523b4-c475-46d7-b64f-e724f7f2cc0a",
        "colab": {}
      },
      "source": [
        "seqs[1]"
      ],
      "execution_count": 0,
      "outputs": [
        {
          "output_type": "error",
          "ename": "NameError",
          "evalue": "name 'seqs' is not defined",
          "traceback": [
            "\u001b[0;31m---------------------------------------------------------------------------\u001b[0m",
            "\u001b[0;31mNameError\u001b[0m                                 Traceback (most recent call last)",
            "\u001b[0;32m<ipython-input-18-92a5a641200e>\u001b[0m in \u001b[0;36m<module>\u001b[0;34m()\u001b[0m\n\u001b[0;32m----> 1\u001b[0;31m \u001b[0mseqs\u001b[0m\u001b[0;34m[\u001b[0m\u001b[0;36m1\u001b[0m\u001b[0;34m]\u001b[0m\u001b[0;34m\u001b[0m\u001b[0m\n\u001b[0m",
            "\u001b[0;31mNameError\u001b[0m: name 'seqs' is not defined"
          ]
        }
      ]
    },
    {
      "cell_type": "code",
      "metadata": {
        "id": "ZJB_Yg31qp4r",
        "colab_type": "code",
        "outputId": "5abf49dc-3f8d-4277-9fc4-d1f10d3112fa",
        "colab": {}
      },
      "source": [
        "seqs[2]"
      ],
      "execution_count": 0,
      "outputs": [
        {
          "output_type": "error",
          "ename": "NameError",
          "evalue": "name 'seqs' is not defined",
          "traceback": [
            "\u001b[0;31m---------------------------------------------------------------------------\u001b[0m",
            "\u001b[0;31mNameError\u001b[0m                                 Traceback (most recent call last)",
            "\u001b[0;32m<ipython-input-12-3ceb3f223e46>\u001b[0m in \u001b[0;36m<module>\u001b[0;34m()\u001b[0m\n\u001b[0;32m----> 1\u001b[0;31m \u001b[0mseqs\u001b[0m\u001b[0;34m[\u001b[0m\u001b[0;36m2\u001b[0m\u001b[0;34m]\u001b[0m\u001b[0;34m\u001b[0m\u001b[0m\n\u001b[0m",
            "\u001b[0;31mNameError\u001b[0m: name 'seqs' is not defined"
          ]
        }
      ]
    },
    {
      "cell_type": "code",
      "metadata": {
        "id": "34fOWpPwqp4t",
        "colab_type": "code",
        "outputId": "01a7fd41-5a57-4d9d-dd9f-880e2967936d",
        "colab": {}
      },
      "source": [
        "from Bio.Align.Applications import ClustalwCommandline\n",
        "clustalw_exe = 'clustalw2'\n",
        "ccli = ClustalwCommandline(clustalw_exe,\n",
        "infile=\"input4align.fasta\", outfile='../../aoutput.aln',\n",
        "pwgapopen=5)\n",
        "print(ccli)"
      ],
      "execution_count": 0,
      "outputs": [
        {
          "output_type": "error",
          "ename": "ImportError",
          "evalue": "No module named 'Bio'",
          "traceback": [
            "\u001b[0;31m---------------------------------------------------------------------------\u001b[0m",
            "\u001b[0;31mImportError\u001b[0m                               Traceback (most recent call last)",
            "\u001b[0;32m<ipython-input-13-288d95cfdc0d>\u001b[0m in \u001b[0;36m<module>\u001b[0;34m()\u001b[0m\n\u001b[0;32m----> 1\u001b[0;31m \u001b[0;32mfrom\u001b[0m \u001b[0mBio\u001b[0m\u001b[0;34m.\u001b[0m\u001b[0mAlign\u001b[0m\u001b[0;34m.\u001b[0m\u001b[0mApplications\u001b[0m \u001b[0;32mimport\u001b[0m \u001b[0mClustalwCommandline\u001b[0m\u001b[0;34m\u001b[0m\u001b[0m\n\u001b[0m\u001b[1;32m      2\u001b[0m \u001b[0mclustalw_exe\u001b[0m \u001b[0;34m=\u001b[0m \u001b[0;34m'clustalw2'\u001b[0m\u001b[0;34m\u001b[0m\u001b[0m\n\u001b[1;32m      3\u001b[0m ccli = ClustalwCommandline(clustalw_exe,\n\u001b[1;32m      4\u001b[0m \u001b[0minfile\u001b[0m\u001b[0;34m=\u001b[0m\u001b[0;34m\"input4align.fasta\"\u001b[0m\u001b[0;34m,\u001b[0m \u001b[0moutfile\u001b[0m\u001b[0;34m=\u001b[0m\u001b[0;34m'../../aoutput.aln'\u001b[0m\u001b[0;34m,\u001b[0m\u001b[0;34m\u001b[0m\u001b[0m\n\u001b[1;32m      5\u001b[0m pwgapopen=5)\n",
            "\u001b[0;31mImportError\u001b[0m: No module named 'Bio'"
          ]
        }
      ]
    },
    {
      "cell_type": "code",
      "metadata": {
        "id": "SzrJu72Aqp4v",
        "colab_type": "code",
        "outputId": "89c70f63-b42a-46dd-e7e9-7225d03380b3",
        "colab": {}
      },
      "source": [
        "from Bio.Align.Applications import ClustalwCommandline\n",
        "ccli = ClustalwCommandline()\n",
        "help(ccli)"
      ],
      "execution_count": 0,
      "outputs": [
        {
          "output_type": "error",
          "ename": "ImportError",
          "evalue": "No module named 'Bio'",
          "traceback": [
            "\u001b[0;31m---------------------------------------------------------------------------\u001b[0m",
            "\u001b[0;31mImportError\u001b[0m                               Traceback (most recent call last)",
            "\u001b[0;32m<ipython-input-14-e833cb41f902>\u001b[0m in \u001b[0;36m<module>\u001b[0;34m()\u001b[0m\n\u001b[0;32m----> 1\u001b[0;31m \u001b[0;32mfrom\u001b[0m \u001b[0mBio\u001b[0m\u001b[0;34m.\u001b[0m\u001b[0mAlign\u001b[0m\u001b[0;34m.\u001b[0m\u001b[0mApplications\u001b[0m \u001b[0;32mimport\u001b[0m \u001b[0mClustalwCommandline\u001b[0m\u001b[0;34m\u001b[0m\u001b[0m\n\u001b[0m\u001b[1;32m      2\u001b[0m \u001b[0mccli\u001b[0m \u001b[0;34m=\u001b[0m \u001b[0mClustalwCommandline\u001b[0m\u001b[0;34m(\u001b[0m\u001b[0;34m)\u001b[0m\u001b[0;34m\u001b[0m\u001b[0m\n\u001b[1;32m      3\u001b[0m \u001b[0mhelp\u001b[0m\u001b[0;34m(\u001b[0m\u001b[0mccli\u001b[0m\u001b[0;34m)\u001b[0m\u001b[0;34m\u001b[0m\u001b[0m\n",
            "\u001b[0;31mImportError\u001b[0m: No module named 'Bio'"
          ]
        }
      ]
    },
    {
      "cell_type": "markdown",
      "metadata": {
        "id": "eqotUPQNqp4x",
        "colab_type": "text"
      },
      "source": [
        "SeqIO\n",
        "----------\n"
      ]
    },
    {
      "cell_type": "code",
      "metadata": {
        "id": "ffGJiw_dqp4x",
        "colab_type": "code",
        "outputId": "f31611e1-2ece-408f-92c8-9882c8276c5e",
        "colab": {}
      },
      "source": [
        "from Bio import SeqIO\n",
        "f_in = open('samples/a19.gp')\n",
        "seq = SeqIO.parse(f_in, 'genbank')\n",
        "next(seq)"
      ],
      "execution_count": 0,
      "outputs": [
        {
          "output_type": "execute_result",
          "data": {
            "text/plain": [
              "SeqRecord(seq=Seq('MGHHHHHHHHHHSSGHIDDDDKHMLEMDSTNVRSGMKSRKKKPKTTVIDDDDDC...FAS', IUPACProtein()), id='AAX78491.1', name='AAX78491', description='unknown [synthetic construct].', dbxrefs=[])"
            ]
          },
          "metadata": {
            "tags": []
          },
          "execution_count": 13
        }
      ]
    },
    {
      "cell_type": "code",
      "metadata": {
        "id": "kNMD2TRMqp4y",
        "colab_type": "code",
        "outputId": "914304f8-6688-4acf-aee9-008452691366",
        "colab": {}
      },
      "source": [
        "f_in = open('samples/a19.gp')\n",
        "SeqIO.read(f_in, 'genbank')"
      ],
      "execution_count": 0,
      "outputs": [
        {
          "output_type": "execute_result",
          "data": {
            "text/plain": [
              "SeqRecord(seq=Seq('MGHHHHHHHHHHSSGHIDDDDKHMLEMDSTNVRSGMKSRKKKPKTTVIDDDDDC...FAS', IUPACProtein()), id='AAX78491.1', name='AAX78491', description='unknown [synthetic construct].', dbxrefs=[])"
            ]
          },
          "metadata": {
            "tags": []
          },
          "execution_count": 14
        }
      ]
    },
    {
      "cell_type": "markdown",
      "metadata": {
        "id": "vrDkIkMRqp41",
        "colab_type": "text"
      },
      "source": [
        "**Listing 9.2:** readfasta.py: Read a FASTA file"
      ]
    },
    {
      "cell_type": "code",
      "metadata": {
        "id": "w8zVOYegqp42",
        "colab_type": "code",
        "outputId": "60951405-6eff-49a4-aabb-4cc5e1008ddf",
        "colab": {}
      },
      "source": [
        "from Bio import SeqIO\n",
        "\n",
        "FILE_IN = 'samples/3seqs.fas'\n",
        "\n",
        "with open(FILE_IN) as fh:\n",
        "    for record in SeqIO.parse(fh, 'fasta'):\n",
        "        id_ = record.id\n",
        "        seq = record.seq\n",
        "        print('Name: {0}, size: {1}'.format(id_, len(seq)))"
      ],
      "execution_count": 0,
      "outputs": [
        {
          "output_type": "stream",
          "text": [
            "Name: Protein-X, size: 38\n",
            "Name: Protein-Y, size: 62\n",
            "Name: Protein-Z, size: 60\n"
          ],
          "name": "stdout"
        }
      ]
    },
    {
      "cell_type": "markdown",
      "metadata": {
        "id": "UDU5bIWbqp43",
        "colab_type": "text"
      },
      "source": [
        "**Listing 9.3:** rwfasta.py: Read a file and write it as a FASTA sequence"
      ]
    },
    {
      "cell_type": "code",
      "metadata": {
        "id": "-KkemlD2qp44",
        "colab_type": "code",
        "colab": {}
      },
      "source": [
        "from Bio import SeqIO\n",
        "from Bio.Seq import Seq\n",
        "from Bio.SeqRecord import SeqRecord\n",
        "with open('samples/NC2033.txt') as fh:\n",
        "    with open('NC2033.fasta','w') as f_out:\n",
        "        rawseq = fh.read().replace('\\n','')\n",
        "        record = (SeqRecord(Seq(rawseq),'NC2033.txt','',''),)\n",
        "        SeqIO.write(record, f_out,'fasta')"
      ],
      "execution_count": 0,
      "outputs": []
    },
    {
      "cell_type": "code",
      "metadata": {
        "id": "lmQX8dBdqp47",
        "colab_type": "code",
        "outputId": "af11c9f1-30fa-40dd-b698-59dc5a6a5781",
        "colab": {}
      },
      "source": [
        "from Bio import SeqIO\n",
        "fo_handle = open('myseqs.fasta','w')\n",
        "readseq = SeqIO.parse(open('samples/myseqs.gbk'), 'genbank')\n",
        "SeqIO.write(readseq, fo_handle, \"fasta\")\n",
        "fo_handle.close()"
      ],
      "execution_count": 0,
      "outputs": [
        {
          "output_type": "error",
          "ename": "FileNotFoundError",
          "evalue": "[Errno 2] No such file or directory: 'samples/myseqs.gbk'",
          "traceback": [
            "\u001b[0;31m---------------------------------------------------------------------------\u001b[0m",
            "\u001b[0;31mFileNotFoundError\u001b[0m                         Traceback (most recent call last)",
            "\u001b[0;32m<ipython-input-20-d2d167610741>\u001b[0m in \u001b[0;36m<module>\u001b[0;34m()\u001b[0m\n\u001b[1;32m      1\u001b[0m \u001b[0;32mfrom\u001b[0m \u001b[0mBio\u001b[0m \u001b[0;32mimport\u001b[0m \u001b[0mSeqIO\u001b[0m\u001b[0;34m\u001b[0m\u001b[0m\n\u001b[1;32m      2\u001b[0m \u001b[0mfo_handle\u001b[0m \u001b[0;34m=\u001b[0m \u001b[0mopen\u001b[0m\u001b[0;34m(\u001b[0m\u001b[0;34m'myseqs.fasta'\u001b[0m\u001b[0;34m,\u001b[0m\u001b[0;34m'w'\u001b[0m\u001b[0;34m)\u001b[0m\u001b[0;34m\u001b[0m\u001b[0m\n\u001b[0;32m----> 3\u001b[0;31m \u001b[0mreadseq\u001b[0m \u001b[0;34m=\u001b[0m \u001b[0mSeqIO\u001b[0m\u001b[0;34m.\u001b[0m\u001b[0mparse\u001b[0m\u001b[0;34m(\u001b[0m\u001b[0mopen\u001b[0m\u001b[0;34m(\u001b[0m\u001b[0;34m'samples/myseqs.gbk'\u001b[0m\u001b[0;34m)\u001b[0m\u001b[0;34m,\u001b[0m \u001b[0;34m'genbank'\u001b[0m\u001b[0;34m)\u001b[0m\u001b[0;34m\u001b[0m\u001b[0m\n\u001b[0m\u001b[1;32m      4\u001b[0m \u001b[0mSeqIO\u001b[0m\u001b[0;34m.\u001b[0m\u001b[0mwrite\u001b[0m\u001b[0;34m(\u001b[0m\u001b[0mreadseq\u001b[0m\u001b[0;34m,\u001b[0m \u001b[0mfo_handle\u001b[0m\u001b[0;34m,\u001b[0m \u001b[0;34m\"fasta\"\u001b[0m\u001b[0;34m)\u001b[0m\u001b[0;34m\u001b[0m\u001b[0m\n\u001b[1;32m      5\u001b[0m \u001b[0mfo_handle\u001b[0m\u001b[0;34m.\u001b[0m\u001b[0mclose\u001b[0m\u001b[0;34m(\u001b[0m\u001b[0;34m)\u001b[0m\u001b[0;34m\u001b[0m\u001b[0m\n",
            "\u001b[0;31mFileNotFoundError\u001b[0m: [Errno 2] No such file or directory: 'samples/myseqs.gbk'"
          ]
        }
      ]
    },
    {
      "cell_type": "code",
      "metadata": {
        "id": "qZZLfkJ8qp49",
        "colab_type": "code",
        "outputId": "0a5e0907-39aa-4681-87d5-da5e053420c5",
        "colab": {}
      },
      "source": [
        "from Bio import AlignIO\n",
        "fn = open('samples/secu3.aln')\n",
        "align = AlignIO.read(fn, 'clustal')\n",
        "print(align)"
      ],
      "execution_count": 0,
      "outputs": [
        {
          "output_type": "error",
          "ename": "FileNotFoundError",
          "evalue": "[Errno 2] No such file or directory: 'samples/secu3.aln'",
          "traceback": [
            "\u001b[0;31m---------------------------------------------------------------------------\u001b[0m",
            "\u001b[0;31mFileNotFoundError\u001b[0m                         Traceback (most recent call last)",
            "\u001b[0;32m<ipython-input-21-dc541f1c3317>\u001b[0m in \u001b[0;36m<module>\u001b[0;34m()\u001b[0m\n\u001b[1;32m      1\u001b[0m \u001b[0;32mfrom\u001b[0m \u001b[0mBio\u001b[0m \u001b[0;32mimport\u001b[0m \u001b[0mAlignIO\u001b[0m\u001b[0;34m\u001b[0m\u001b[0m\n\u001b[0;32m----> 2\u001b[0;31m \u001b[0mfn\u001b[0m \u001b[0;34m=\u001b[0m \u001b[0mopen\u001b[0m\u001b[0;34m(\u001b[0m\u001b[0;34m'samples/secu3.aln'\u001b[0m\u001b[0;34m)\u001b[0m\u001b[0;34m\u001b[0m\u001b[0m\n\u001b[0m\u001b[1;32m      3\u001b[0m \u001b[0malign\u001b[0m \u001b[0;34m=\u001b[0m \u001b[0mAlignIO\u001b[0m\u001b[0;34m.\u001b[0m\u001b[0mread\u001b[0m\u001b[0;34m(\u001b[0m\u001b[0mfn\u001b[0m\u001b[0;34m,\u001b[0m \u001b[0;34m'clustal'\u001b[0m\u001b[0;34m)\u001b[0m\u001b[0;34m\u001b[0m\u001b[0m\n\u001b[1;32m      4\u001b[0m \u001b[0mprint\u001b[0m\u001b[0;34m(\u001b[0m\u001b[0malign\u001b[0m\u001b[0;34m)\u001b[0m\u001b[0;34m\u001b[0m\u001b[0m\n",
            "\u001b[0;31mFileNotFoundError\u001b[0m: [Errno 2] No such file or directory: 'samples/secu3.aln'"
          ]
        }
      ]
    },
    {
      "cell_type": "markdown",
      "metadata": {
        "id": "v8NNXv7Rqp4_",
        "colab_type": "text"
      },
      "source": [
        "**Listing 9.4:** Alignments"
      ]
    },
    {
      "cell_type": "code",
      "metadata": {
        "id": "bGlKW7e9qp4_",
        "colab_type": "code",
        "colab": {}
      },
      "source": [
        "fi = open('samples/example.aln')\n",
        "with open('samples/example.phy', 'w') as fo:\n",
        "    align = AlignIO.read(fi, 'clustal')\n",
        "    AlignIO.write([align], fo, 'phylip')"
      ],
      "execution_count": 0,
      "outputs": []
    },
    {
      "cell_type": "markdown",
      "metadata": {
        "id": "jBiBfJunqp5A",
        "colab_type": "text"
      },
      "source": [
        "BLAST\n",
        "-----"
      ]
    },
    {
      "cell_type": "markdown",
      "metadata": {
        "id": "OeDT-8TIqp5B",
        "colab_type": "text"
      },
      "source": [
        "**Listing 9.5:** runblastn.py: Running a local NCBI BLAST"
      ]
    },
    {
      "cell_type": "code",
      "metadata": {
        "id": "BYxJJLzuqp5B",
        "colab_type": "code",
        "outputId": "0a649b2c-1913-487f-ce7f-d4b715123b53",
        "colab": {}
      },
      "source": [
        "from Bio.Blast.Applications imp\n",
        "BLAST_EXE = '~/opt/ncbi-blast-2\n",
        "f_in = '../../samples/seq3.txt'\n",
        "b_db = 'db/samples/TAIR8cds'\n",
        "blastn_cline = blastn(cmd=BLAST\n",
        "                      evalue=.0\n",
        "rh, eh = blastn_cline()"
      ],
      "execution_count": 0,
      "outputs": [
        {
          "output_type": "error",
          "ename": "SyntaxError",
          "evalue": "invalid syntax (<ipython-input-26-eabf2fcca57f>, line 1)",
          "traceback": [
            "\u001b[0;36m  File \u001b[0;32m\"<ipython-input-26-eabf2fcca57f>\"\u001b[0;36m, line \u001b[0;32m1\u001b[0m\n\u001b[0;31m    from Bio.Blast.Applications imp\u001b[0m\n\u001b[0m                                  ^\u001b[0m\n\u001b[0;31mSyntaxError\u001b[0m\u001b[0;31m:\u001b[0m invalid syntax\n"
          ]
        }
      ]
    },
    {
      "cell_type": "code",
      "metadata": {
        "id": "I0A_z8v8qp5C",
        "colab_type": "code",
        "outputId": "103942e0-044c-47d9-ac58-c895e7023d16",
        "colab": {}
      },
      "source": [
        " rh.readline()"
      ],
      "execution_count": 0,
      "outputs": [
        {
          "output_type": "error",
          "ename": "NameError",
          "evalue": "name 'rh' is not defined",
          "traceback": [
            "\u001b[0;31m---------------------------------------------------------------------------\u001b[0m",
            "\u001b[0;31mNameError\u001b[0m                                 Traceback (most recent call last)",
            "\u001b[0;32m<ipython-input-26-64516953df68>\u001b[0m in \u001b[0;36m<module>\u001b[0;34m()\u001b[0m\n\u001b[0;32m----> 1\u001b[0;31m \u001b[0mrh\u001b[0m\u001b[0;34m.\u001b[0m\u001b[0mreadline\u001b[0m\u001b[0;34m(\u001b[0m\u001b[0;34m)\u001b[0m\u001b[0;34m\u001b[0m\u001b[0m\n\u001b[0m",
            "\u001b[0;31mNameError\u001b[0m: name 'rh' is not defined"
          ]
        }
      ]
    },
    {
      "cell_type": "code",
      "metadata": {
        "id": "HC6CszSmqp5E",
        "colab_type": "code",
        "outputId": "5a6f4a16-a55f-4bd9-f9fa-cce6a34ab307",
        "colab": {}
      },
      "source": [
        "rh.readline()"
      ],
      "execution_count": 0,
      "outputs": [
        {
          "output_type": "error",
          "ename": "NameError",
          "evalue": "name 'rh' is not defined",
          "traceback": [
            "\u001b[0;31m---------------------------------------------------------------------------\u001b[0m",
            "\u001b[0;31mNameError\u001b[0m                                 Traceback (most recent call last)",
            "\u001b[0;32m<ipython-input-27-64516953df68>\u001b[0m in \u001b[0;36m<module>\u001b[0;34m()\u001b[0m\n\u001b[0;32m----> 1\u001b[0;31m \u001b[0mrh\u001b[0m\u001b[0;34m.\u001b[0m\u001b[0mreadline\u001b[0m\u001b[0;34m(\u001b[0m\u001b[0;34m)\u001b[0m\u001b[0;34m\u001b[0m\u001b[0m\n\u001b[0m",
            "\u001b[0;31mNameError\u001b[0m: name 'rh' is not defined"
          ]
        }
      ]
    },
    {
      "cell_type": "code",
      "metadata": {
        "id": "QOOKnkhdqp5F",
        "colab_type": "code",
        "outputId": "a15fd9b3-5415-41d3-ce22-e8553870a30a",
        "colab": {}
      },
      "source": [
        " eh.readline()"
      ],
      "execution_count": 0,
      "outputs": [
        {
          "output_type": "error",
          "ename": "NameError",
          "evalue": "name 'eh' is not defined",
          "traceback": [
            "\u001b[0;31m---------------------------------------------------------------------------\u001b[0m",
            "\u001b[0;31mNameError\u001b[0m                                 Traceback (most recent call last)",
            "\u001b[0;32m<ipython-input-28-fcf9dfaaec7c>\u001b[0m in \u001b[0;36m<module>\u001b[0;34m()\u001b[0m\n\u001b[0;32m----> 1\u001b[0;31m \u001b[0meh\u001b[0m\u001b[0;34m.\u001b[0m\u001b[0mreadline\u001b[0m\u001b[0;34m(\u001b[0m\u001b[0;34m)\u001b[0m\u001b[0;34m\u001b[0m\u001b[0m\n\u001b[0m",
            "\u001b[0;31mNameError\u001b[0m: name 'eh' is not defined"
          ]
        }
      ]
    },
    {
      "cell_type": "code",
      "metadata": {
        "id": "AAdgOx_Bqp5G",
        "colab_type": "code",
        "outputId": "94ebdccc-9f64-43b5-c274-c555f00cb808",
        "colab": {}
      },
      "source": [
        "fh = open('testblast.xml','w')\n",
        "fh.write(rh.read())\n",
        "fh.close()"
      ],
      "execution_count": 0,
      "outputs": [
        {
          "output_type": "error",
          "ename": "NameError",
          "evalue": "name 'rh' is not defined",
          "traceback": [
            "\u001b[0;31m---------------------------------------------------------------------------\u001b[0m",
            "\u001b[0;31mNameError\u001b[0m                                 Traceback (most recent call last)",
            "\u001b[0;32m<ipython-input-29-3b3577919c9c>\u001b[0m in \u001b[0;36m<module>\u001b[0;34m()\u001b[0m\n\u001b[1;32m      1\u001b[0m \u001b[0mfh\u001b[0m \u001b[0;34m=\u001b[0m \u001b[0mopen\u001b[0m\u001b[0;34m(\u001b[0m\u001b[0;34m'testblast.xml'\u001b[0m\u001b[0;34m,\u001b[0m\u001b[0;34m'w'\u001b[0m\u001b[0;34m)\u001b[0m\u001b[0;34m\u001b[0m\u001b[0m\n\u001b[0;32m----> 2\u001b[0;31m \u001b[0mfh\u001b[0m\u001b[0;34m.\u001b[0m\u001b[0mwrite\u001b[0m\u001b[0;34m(\u001b[0m\u001b[0mrh\u001b[0m\u001b[0;34m.\u001b[0m\u001b[0mread\u001b[0m\u001b[0;34m(\u001b[0m\u001b[0;34m)\u001b[0m\u001b[0;34m)\u001b[0m\u001b[0;34m\u001b[0m\u001b[0m\n\u001b[0m\u001b[1;32m      3\u001b[0m \u001b[0mfh\u001b[0m\u001b[0;34m.\u001b[0m\u001b[0mclose\u001b[0m\u001b[0;34m(\u001b[0m\u001b[0;34m)\u001b[0m\u001b[0;34m\u001b[0m\u001b[0m\n",
            "\u001b[0;31mNameError\u001b[0m: name 'rh' is not defined"
          ]
        }
      ]
    },
    {
      "cell_type": "code",
      "metadata": {
        "id": "BoBDjUCUqp5I",
        "colab_type": "code",
        "outputId": "2fe4c9ec-66a6-42a4-8c88-9551d75805d5",
        "colab": {}
      },
      "source": [
        "from Bio.Blast import NCBIXML\n",
        "for blast_record in NCBIXML.parse(rh):\n",
        "# Do something with blast_record"
      ],
      "execution_count": 0,
      "outputs": [
        {
          "output_type": "error",
          "ename": "SyntaxError",
          "evalue": "unexpected EOF while parsing (<ipython-input-30-96ccfdc6ac51>, line 3)",
          "traceback": [
            "\u001b[0;36m  File \u001b[0;32m\"<ipython-input-30-96ccfdc6ac51>\"\u001b[0;36m, line \u001b[0;32m3\u001b[0m\n\u001b[0;31m    # Do something with blast_record\u001b[0m\n\u001b[0m                                    ^\u001b[0m\n\u001b[0;31mSyntaxError\u001b[0m\u001b[0;31m:\u001b[0m unexpected EOF while parsing\n"
          ]
        }
      ]
    },
    {
      "cell_type": "markdown",
      "metadata": {
        "id": "PrioiOffqp5K",
        "colab_type": "text"
      },
      "source": [
        "**Listing 9.7:** BLASTparser1.py: Extract alignments title from a BLAST output"
      ]
    },
    {
      "cell_type": "code",
      "metadata": {
        "id": "72yYfoQDqp5L",
        "colab_type": "code",
        "outputId": "1b985033-534e-4b94-f770-2aebb1370790",
        "colab": {}
      },
      "source": [
        "from Bio.Blast import NCBIXML\n",
        "with open('samples/sampleXblast.xml') as xmlfh:\n",
        "    for record in NCBIXML.parse(xmlfh):\n",
        "        for align in record.alignments:\n",
        "            print(align.title)"
      ],
      "execution_count": 0,
      "outputs": [
        {
          "output_type": "stream",
          "text": [
            "gi|114816|sp|P04252.1|BAHG_VITST RecName: Full=Bacterial hemoglobin; AltName: Full=Soluble cytochrome O\n",
            "gi|52000645|sp|Q9RC40.1|HMP_BACHD RecName: Full=Flavohemoprotein; AltName: Full=Flavohemoglobin; AltName: Full=Hemoglobin-like protein; AltName: Full=Nitric oxide dioxygenase; Short=NO oxygenase; Short=NOD\n",
            "gi|52000637|sp|Q8ETH0.1|HMP_OCEIH RecName: Full=Flavohemoprotein; AltName: Full=Flavohemoglobin; AltName: Full=Hemoglobin-like protein; AltName: Full=Nitric oxide dioxygenase; Short=NO oxygenase; Short=NOD\n"
          ],
          "name": "stdout"
        }
      ]
    },
    {
      "cell_type": "code",
      "metadata": {
        "id": "4K5_6D4Tqp5N",
        "colab_type": "code",
        "outputId": "dfb3812a-bed6-4a70-8a80-0aed19ff2281",
        "colab": {}
      },
      "source": [
        " align.length"
      ],
      "execution_count": 0,
      "outputs": [
        {
          "output_type": "execute_result",
          "data": {
            "text/plain": [
              "406"
            ]
          },
          "metadata": {
            "tags": []
          },
          "execution_count": 29
        }
      ]
    },
    {
      "cell_type": "code",
      "metadata": {
        "id": "N0rx4TIXqp5O",
        "colab_type": "code",
        "outputId": "aa2dd1a7-137f-495f-d41e-2167a07555c1",
        "colab": {}
      },
      "source": [
        "align.hit_id"
      ],
      "execution_count": 0,
      "outputs": [
        {
          "output_type": "execute_result",
          "data": {
            "text/plain": [
              "'gi|52000637|sp|Q8ETH0.1|HMP_OCEIH'"
            ]
          },
          "metadata": {
            "tags": []
          },
          "execution_count": 30
        }
      ]
    },
    {
      "cell_type": "code",
      "metadata": {
        "id": "0FM0LAbZqp5P",
        "colab_type": "code",
        "outputId": "b1f95927-5d7f-4e50-87a1-64f77289541f",
        "colab": {}
      },
      "source": [
        " align.hit_def"
      ],
      "execution_count": 0,
      "outputs": [
        {
          "output_type": "execute_result",
          "data": {
            "text/plain": [
              "'RecName: Full=Flavohemoprotein; AltName: Full=Flavohemoglobin; AltName: Full=Hemoglobin-like protein; AltName: Full=Nitric oxide dioxygenase; Short=NO oxygenase; Short=NOD'"
            ]
          },
          "metadata": {
            "tags": []
          },
          "execution_count": 31
        }
      ]
    },
    {
      "cell_type": "code",
      "metadata": {
        "id": "vw09sZFHqp5R",
        "colab_type": "code",
        "outputId": "e3e16d38-56df-4c83-bc78-a7d598d6262f",
        "colab": {}
      },
      "source": [
        "align.hsps"
      ],
      "execution_count": 0,
      "outputs": [
        {
          "output_type": "execute_result",
          "data": {
            "text/plain": [
              "[<Bio.Blast.Record.HSP at 0x7f35ec3716d8>,\n",
              " <Bio.Blast.Record.HSP at 0x7f35ec371710>]"
            ]
          },
          "metadata": {
            "tags": []
          },
          "execution_count": 32
        }
      ]
    },
    {
      "cell_type": "code",
      "metadata": {
        "id": "rlKMHLBIqp5T",
        "colab_type": "code",
        "outputId": "7079216d-793f-4c83-fb80-0d310e3c7801",
        "colab": {}
      },
      "source": [
        "from Bio.Blast import NCBIXML\n",
        "threshold = 0.0001\n",
        "xmlfh = open('samples/other.xml')\n",
        "blast_record = next(NCBIXML.parse(open(xmlfh)))\n",
        "for align in blast_record.alignments:\n",
        "    if align.hsps[0].expect < threshold:\n",
        "        print(align.accession)    "
      ],
      "execution_count": 0,
      "outputs": [
        {
          "output_type": "error",
          "ename": "TypeError",
          "evalue": "invalid file: <_io.TextIOWrapper name='samples/other.xml' mode='r' encoding='ANSI_X3.4-1968'>",
          "traceback": [
            "\u001b[0;31m---------------------------------------------------------------------------\u001b[0m",
            "\u001b[0;31mTypeError\u001b[0m                                 Traceback (most recent call last)",
            "\u001b[0;32m<ipython-input-33-fa23ee8a54c0>\u001b[0m in \u001b[0;36m<module>\u001b[0;34m()\u001b[0m\n\u001b[1;32m      2\u001b[0m \u001b[0mthreshold\u001b[0m \u001b[0;34m=\u001b[0m \u001b[0;36m0.0001\u001b[0m\u001b[0;34m\u001b[0m\u001b[0m\n\u001b[1;32m      3\u001b[0m \u001b[0mxmlfh\u001b[0m \u001b[0;34m=\u001b[0m \u001b[0mopen\u001b[0m\u001b[0;34m(\u001b[0m\u001b[0;34m'samples/other.xml'\u001b[0m\u001b[0;34m)\u001b[0m\u001b[0;34m\u001b[0m\u001b[0m\n\u001b[0;32m----> 4\u001b[0;31m \u001b[0mblast_record\u001b[0m \u001b[0;34m=\u001b[0m \u001b[0mnext\u001b[0m\u001b[0;34m(\u001b[0m\u001b[0mNCBIXML\u001b[0m\u001b[0;34m.\u001b[0m\u001b[0mparse\u001b[0m\u001b[0;34m(\u001b[0m\u001b[0mopen\u001b[0m\u001b[0;34m(\u001b[0m\u001b[0mxmlfh\u001b[0m\u001b[0;34m)\u001b[0m\u001b[0;34m)\u001b[0m\u001b[0;34m)\u001b[0m\u001b[0;34m\u001b[0m\u001b[0m\n\u001b[0m\u001b[1;32m      5\u001b[0m \u001b[0;32mfor\u001b[0m \u001b[0malign\u001b[0m \u001b[0;32min\u001b[0m \u001b[0mblast_record\u001b[0m\u001b[0;34m.\u001b[0m\u001b[0malignments\u001b[0m\u001b[0;34m:\u001b[0m\u001b[0;34m\u001b[0m\u001b[0m\n\u001b[1;32m      6\u001b[0m     \u001b[0;32mif\u001b[0m \u001b[0malign\u001b[0m\u001b[0;34m.\u001b[0m\u001b[0mhsps\u001b[0m\u001b[0;34m[\u001b[0m\u001b[0;36m0\u001b[0m\u001b[0;34m]\u001b[0m\u001b[0;34m.\u001b[0m\u001b[0mexpect\u001b[0m \u001b[0;34m<\u001b[0m \u001b[0mthreshold\u001b[0m\u001b[0;34m:\u001b[0m\u001b[0;34m\u001b[0m\u001b[0m\n",
            "\u001b[0;31mTypeError\u001b[0m: invalid file: <_io.TextIOWrapper name='samples/other.xml' mode='r' encoding='ANSI_X3.4-1968'>"
          ]
        }
      ]
    },
    {
      "cell_type": "code",
      "metadata": {
        "id": "jgH228oxqp5U",
        "colab_type": "code",
        "outputId": "ead9a64d-7e54-4923-e802-8dfbecfdbcde",
        "colab": {}
      },
      "source": [
        "from Bio.Data import IUPACData\n",
        "IUPACData.ambiguous_dna_values['M']"
      ],
      "execution_count": 0,
      "outputs": [
        {
          "output_type": "execute_result",
          "data": {
            "text/plain": [
              "'AC'"
            ]
          },
          "metadata": {
            "tags": []
          },
          "execution_count": 34
        }
      ]
    },
    {
      "cell_type": "code",
      "metadata": {
        "id": "uQB6UmOxqp5V",
        "colab_type": "code",
        "outputId": "60b65ea2-9628-471b-d59f-5f2003fbf0aa",
        "colab": {}
      },
      "source": [
        "IUPACData.ambiguous_dna_values['H']"
      ],
      "execution_count": 0,
      "outputs": [
        {
          "output_type": "execute_result",
          "data": {
            "text/plain": [
              "'ACT'"
            ]
          },
          "metadata": {
            "tags": []
          },
          "execution_count": 35
        }
      ]
    },
    {
      "cell_type": "code",
      "metadata": {
        "id": "IQyoGDiPqp5W",
        "colab_type": "code",
        "outputId": "03a2d2b9-052b-4277-bae5-8038cc46c600",
        "colab": {}
      },
      "source": [
        "IUPACData.ambiguous_dna_values['X']"
      ],
      "execution_count": 0,
      "outputs": [
        {
          "output_type": "execute_result",
          "data": {
            "text/plain": [
              "'GATC'"
            ]
          },
          "metadata": {
            "tags": []
          },
          "execution_count": 36
        }
      ]
    },
    {
      "cell_type": "markdown",
      "metadata": {
        "id": "WI1LlWaTqp5Y",
        "colab_type": "text"
      },
      "source": [
        "**Listing 9.9:** protwwbiopy.py: Protein weight calculator with Biopython"
      ]
    },
    {
      "cell_type": "code",
      "metadata": {
        "id": "R4_JhyC_qp5Y",
        "colab_type": "code",
        "outputId": "eb8dd6cb-bdae-4774-b6dd-eec469326f9a",
        "colab": {}
      },
      "source": [
        "from Bio.Data.IUPACData import protein_weights as pw\n",
        "protseq = input('Enter your protein sequence: ')\n",
        "total_w = 0\n",
        "for aa in protseq:\n",
        "    total_w += pw.get(aa.upper(),0)\n",
        "total_w -= 18*(len(protseq)-1)\n",
        "print('The net weight is: {0}'.format(total_w))"
      ],
      "execution_count": 0,
      "outputs": [
        {
          "output_type": "stream",
          "text": [
            "Enter your protein sequence: ADVSMTGATATATAT\n",
            "The net weight is: 1368.6815000000001\n"
          ],
          "name": "stdout"
        }
      ]
    },
    {
      "cell_type": "code",
      "metadata": {
        "id": "vqmidoPjqp5Z",
        "colab_type": "code",
        "outputId": "98a06d09-fff8-4ffa-f969-a488c01e2bec",
        "colab": {}
      },
      "source": [
        "from Bio.Data.CodonTable import unambiguous_dna_by_id\n",
        "bact_trans=unambiguous_dna_by_id[11]\n",
        "bact_trans.forward_table['GTC']"
      ],
      "execution_count": 0,
      "outputs": [
        {
          "output_type": "execute_result",
          "data": {
            "text/plain": [
              "'V'"
            ]
          },
          "metadata": {
            "tags": []
          },
          "execution_count": 41
        }
      ]
    },
    {
      "cell_type": "code",
      "metadata": {
        "id": "r-LJYeTwqp5b",
        "colab_type": "code",
        "outputId": "9a81133a-4659-4c61-d278-2205217bcd45",
        "colab": {}
      },
      "source": [
        " bact_trans.back_table['R']"
      ],
      "execution_count": 0,
      "outputs": [
        {
          "output_type": "execute_result",
          "data": {
            "text/plain": [
              "'CGT'"
            ]
          },
          "metadata": {
            "tags": []
          },
          "execution_count": 42
        }
      ]
    },
    {
      "cell_type": "code",
      "metadata": {
        "id": "hBfLcn1Wqp5f",
        "colab_type": "code",
        "outputId": "6a9e8e2a-96c8-4c76-c56f-6b8f709ab075",
        "colab": {}
      },
      "source": [
        "from Bio.Data import CodonTable\n",
        "print (CodonTable.generic_by_id[2])"
      ],
      "execution_count": 0,
      "outputs": [
        {
          "output_type": "stream",
          "text": [
            "Table 2 Vertebrate Mitochondrial, SGC1\n",
            "\n",
            "  |  U      |  C      |  A      |  G      |\n",
            "--+---------+---------+---------+---------+--\n",
            "U | UUU F   | UCU S   | UAU Y   | UGU C   | U\n",
            "U | UUC F   | UCC S   | UAC Y   | UGC C   | C\n",
            "U | UUA L   | UCA S   | UAA Stop| UGA W   | A\n",
            "U | UUG L   | UCG S   | UAG Stop| UGG W   | G\n",
            "--+---------+---------+---------+---------+--\n",
            "C | CUU L   | CCU P   | CAU H   | CGU R   | U\n",
            "C | CUC L   | CCC P   | CAC H   | CGC R   | C\n",
            "C | CUA L   | CCA P   | CAA Q   | CGA R   | A\n",
            "C | CUG L   | CCG P   | CAG Q   | CGG R   | G\n",
            "--+---------+---------+---------+---------+--\n",
            "A | AUU I(s)| ACU T   | AAU N   | AGU S   | U\n",
            "A | AUC I(s)| ACC T   | AAC N   | AGC S   | C\n",
            "A | AUA M(s)| ACA T   | AAA K   | AGA Stop| A\n",
            "A | AUG M(s)| ACG T   | AAG K   | AGG Stop| G\n",
            "--+---------+---------+---------+---------+--\n",
            "G | GUU V   | GCU A   | GAU D   | GGU G   | U\n",
            "G | GUC V   | GCC A   | GAC D   | GGC G   | C\n",
            "G | GUA V   | GCA A   | GAA E   | GGA G   | A\n",
            "G | GUG V(s)| GCG A   | GAG E   | GGG G   | G\n",
            "--+---------+---------+---------+---------+--\n"
          ],
          "name": "stdout"
        }
      ]
    },
    {
      "cell_type": "markdown",
      "metadata": {
        "collapsed": false,
        "id": "AgRRZ5Fkqp5g",
        "colab_type": "text"
      },
      "source": [
        "eUtils: Retrieving Bibliography\n",
        "-----------"
      ]
    },
    {
      "cell_type": "markdown",
      "metadata": {
        "collapsed": false,
        "id": "hvdsa_JMqp5g",
        "colab_type": "text"
      },
      "source": [
        "**Listing 9.12:** entrez1.py: Retrieve and display data from PubMed"
      ]
    },
    {
      "cell_type": "code",
      "metadata": {
        "id": "VjdaoKT8qp5g",
        "colab_type": "code",
        "outputId": "826a6e72-2f82-4c0a-aa2e-3448c9ed1d76",
        "colab": {}
      },
      "source": [
        "from Bio import Entrez\n",
        "my_em = 'user@example.com'\n",
        "db = \"pubmed\"\n",
        "# Search de Entrez website using esearch from eUtils\n",
        "# esearch returns a handle (called h_search)\n",
        "h_search = Entrez.esearch(db=db, email=my_em,\n",
        "                         term='python and bioinformatics')\n",
        "# Parse the result with Entrez.read()\n",
        "record = Entrez.read(h_search)\n",
        "# Get the list of Ids returned by previous search\n",
        "res_ids = record[\"IdList\"]\n",
        "# For each id in the list\n",
        "for r_id in res_ids:\n",
        "   # Get summary information for each id\n",
        "   h_summ = Entrez.esummary(db=db, id=r_id, email=my_em)\n",
        "   # Parse the result with Entrez.read()\n",
        "   summ = Entrez.read(h_summ)\n",
        "   print(summ[0]['Title'])\n",
        "   print(summ[0]['DOI'])\n",
        "   print('==============================================')"
      ],
      "execution_count": 0,
      "outputs": [
        {
          "output_type": "error",
          "ename": "URLError",
          "evalue": "<urlopen error Tunnel connection failed: 403 Forbidden>",
          "traceback": [
            "\u001b[0;31m---------------------------------------------------------------------------\u001b[0m",
            "\u001b[0;31mOSError\u001b[0m                                   Traceback (most recent call last)",
            "\u001b[0;32m~/anaconda3_410/lib/python3.5/urllib/request.py\u001b[0m in \u001b[0;36mdo_open\u001b[0;34m(self, http_class, req, **http_conn_args)\u001b[0m\n\u001b[1;32m   1239\u001b[0m             \u001b[0;32mtry\u001b[0m\u001b[0;34m:\u001b[0m\u001b[0;34m\u001b[0m\u001b[0m\n\u001b[0;32m-> 1240\u001b[0;31m                 \u001b[0mh\u001b[0m\u001b[0;34m.\u001b[0m\u001b[0mrequest\u001b[0m\u001b[0;34m(\u001b[0m\u001b[0mreq\u001b[0m\u001b[0;34m.\u001b[0m\u001b[0mget_method\u001b[0m\u001b[0;34m(\u001b[0m\u001b[0;34m)\u001b[0m\u001b[0;34m,\u001b[0m \u001b[0mreq\u001b[0m\u001b[0;34m.\u001b[0m\u001b[0mselector\u001b[0m\u001b[0;34m,\u001b[0m \u001b[0mreq\u001b[0m\u001b[0;34m.\u001b[0m\u001b[0mdata\u001b[0m\u001b[0;34m,\u001b[0m \u001b[0mheaders\u001b[0m\u001b[0;34m)\u001b[0m\u001b[0;34m\u001b[0m\u001b[0m\n\u001b[0m\u001b[1;32m   1241\u001b[0m             \u001b[0;32mexcept\u001b[0m \u001b[0mOSError\u001b[0m \u001b[0;32mas\u001b[0m \u001b[0merr\u001b[0m\u001b[0;34m:\u001b[0m \u001b[0;31m# timeout error\u001b[0m\u001b[0;34m\u001b[0m\u001b[0m\n",
            "\u001b[0;32m~/anaconda3_410/lib/python3.5/http/client.py\u001b[0m in \u001b[0;36mrequest\u001b[0;34m(self, method, url, body, headers)\u001b[0m\n\u001b[1;32m   1082\u001b[0m         \u001b[0;34m\"\"\"Send a complete request to the server.\"\"\"\u001b[0m\u001b[0;34m\u001b[0m\u001b[0m\n\u001b[0;32m-> 1083\u001b[0;31m         \u001b[0mself\u001b[0m\u001b[0;34m.\u001b[0m\u001b[0m_send_request\u001b[0m\u001b[0;34m(\u001b[0m\u001b[0mmethod\u001b[0m\u001b[0;34m,\u001b[0m \u001b[0murl\u001b[0m\u001b[0;34m,\u001b[0m \u001b[0mbody\u001b[0m\u001b[0;34m,\u001b[0m \u001b[0mheaders\u001b[0m\u001b[0;34m)\u001b[0m\u001b[0;34m\u001b[0m\u001b[0m\n\u001b[0m\u001b[1;32m   1084\u001b[0m \u001b[0;34m\u001b[0m\u001b[0m\n",
            "\u001b[0;32m~/anaconda3_410/lib/python3.5/http/client.py\u001b[0m in \u001b[0;36m_send_request\u001b[0;34m(self, method, url, body, headers)\u001b[0m\n\u001b[1;32m   1127\u001b[0m             \u001b[0mbody\u001b[0m \u001b[0;34m=\u001b[0m \u001b[0mbody\u001b[0m\u001b[0;34m.\u001b[0m\u001b[0mencode\u001b[0m\u001b[0;34m(\u001b[0m\u001b[0;34m'iso-8859-1'\u001b[0m\u001b[0;34m)\u001b[0m\u001b[0;34m\u001b[0m\u001b[0m\n\u001b[0;32m-> 1128\u001b[0;31m         \u001b[0mself\u001b[0m\u001b[0;34m.\u001b[0m\u001b[0mendheaders\u001b[0m\u001b[0;34m(\u001b[0m\u001b[0mbody\u001b[0m\u001b[0;34m)\u001b[0m\u001b[0;34m\u001b[0m\u001b[0m\n\u001b[0m\u001b[1;32m   1129\u001b[0m \u001b[0;34m\u001b[0m\u001b[0m\n",
            "\u001b[0;32m~/anaconda3_410/lib/python3.5/http/client.py\u001b[0m in \u001b[0;36mendheaders\u001b[0;34m(self, message_body)\u001b[0m\n\u001b[1;32m   1078\u001b[0m             \u001b[0;32mraise\u001b[0m \u001b[0mCannotSendHeader\u001b[0m\u001b[0;34m(\u001b[0m\u001b[0;34m)\u001b[0m\u001b[0;34m\u001b[0m\u001b[0m\n\u001b[0;32m-> 1079\u001b[0;31m         \u001b[0mself\u001b[0m\u001b[0;34m.\u001b[0m\u001b[0m_send_output\u001b[0m\u001b[0;34m(\u001b[0m\u001b[0mmessage_body\u001b[0m\u001b[0;34m)\u001b[0m\u001b[0;34m\u001b[0m\u001b[0m\n\u001b[0m\u001b[1;32m   1080\u001b[0m \u001b[0;34m\u001b[0m\u001b[0m\n",
            "\u001b[0;32m~/anaconda3_410/lib/python3.5/http/client.py\u001b[0m in \u001b[0;36m_send_output\u001b[0;34m(self, message_body)\u001b[0m\n\u001b[1;32m    910\u001b[0m \u001b[0;34m\u001b[0m\u001b[0m\n\u001b[0;32m--> 911\u001b[0;31m         \u001b[0mself\u001b[0m\u001b[0;34m.\u001b[0m\u001b[0msend\u001b[0m\u001b[0;34m(\u001b[0m\u001b[0mmsg\u001b[0m\u001b[0;34m)\u001b[0m\u001b[0;34m\u001b[0m\u001b[0m\n\u001b[0m\u001b[1;32m    912\u001b[0m         \u001b[0;32mif\u001b[0m \u001b[0mmessage_body\u001b[0m \u001b[0;32mis\u001b[0m \u001b[0;32mnot\u001b[0m \u001b[0;32mNone\u001b[0m\u001b[0;34m:\u001b[0m\u001b[0;34m\u001b[0m\u001b[0m\n",
            "\u001b[0;32m~/anaconda3_410/lib/python3.5/http/client.py\u001b[0m in \u001b[0;36msend\u001b[0;34m(self, data)\u001b[0m\n\u001b[1;32m    853\u001b[0m             \u001b[0;32mif\u001b[0m \u001b[0mself\u001b[0m\u001b[0;34m.\u001b[0m\u001b[0mauto_open\u001b[0m\u001b[0;34m:\u001b[0m\u001b[0;34m\u001b[0m\u001b[0m\n\u001b[0;32m--> 854\u001b[0;31m                 \u001b[0mself\u001b[0m\u001b[0;34m.\u001b[0m\u001b[0mconnect\u001b[0m\u001b[0;34m(\u001b[0m\u001b[0;34m)\u001b[0m\u001b[0;34m\u001b[0m\u001b[0m\n\u001b[0m\u001b[1;32m    855\u001b[0m             \u001b[0;32melse\u001b[0m\u001b[0;34m:\u001b[0m\u001b[0;34m\u001b[0m\u001b[0m\n",
            "\u001b[0;32m~/anaconda3_410/lib/python3.5/http/client.py\u001b[0m in \u001b[0;36mconnect\u001b[0;34m(self)\u001b[0m\n\u001b[1;32m   1228\u001b[0m \u001b[0;34m\u001b[0m\u001b[0m\n\u001b[0;32m-> 1229\u001b[0;31m             \u001b[0msuper\u001b[0m\u001b[0;34m(\u001b[0m\u001b[0;34m)\u001b[0m\u001b[0;34m.\u001b[0m\u001b[0mconnect\u001b[0m\u001b[0;34m(\u001b[0m\u001b[0;34m)\u001b[0m\u001b[0;34m\u001b[0m\u001b[0m\n\u001b[0m\u001b[1;32m   1230\u001b[0m \u001b[0;34m\u001b[0m\u001b[0m\n",
            "\u001b[0;32m~/anaconda3_410/lib/python3.5/http/client.py\u001b[0m in \u001b[0;36mconnect\u001b[0;34m(self)\u001b[0m\n\u001b[1;32m    829\u001b[0m         \u001b[0;32mif\u001b[0m \u001b[0mself\u001b[0m\u001b[0;34m.\u001b[0m\u001b[0m_tunnel_host\u001b[0m\u001b[0;34m:\u001b[0m\u001b[0;34m\u001b[0m\u001b[0m\n\u001b[0;32m--> 830\u001b[0;31m             \u001b[0mself\u001b[0m\u001b[0;34m.\u001b[0m\u001b[0m_tunnel\u001b[0m\u001b[0;34m(\u001b[0m\u001b[0;34m)\u001b[0m\u001b[0;34m\u001b[0m\u001b[0m\n\u001b[0m\u001b[1;32m    831\u001b[0m \u001b[0;34m\u001b[0m\u001b[0m\n",
            "\u001b[0;32m~/anaconda3_410/lib/python3.5/http/client.py\u001b[0m in \u001b[0;36m_tunnel\u001b[0;34m(self)\u001b[0m\n\u001b[1;32m    808\u001b[0m             raise OSError(\"Tunnel connection failed: %d %s\" % (code,\n\u001b[0;32m--> 809\u001b[0;31m                                                                message.strip()))\n\u001b[0m\u001b[1;32m    810\u001b[0m         \u001b[0;32mwhile\u001b[0m \u001b[0;32mTrue\u001b[0m\u001b[0;34m:\u001b[0m\u001b[0;34m\u001b[0m\u001b[0m\n",
            "\u001b[0;31mOSError\u001b[0m: Tunnel connection failed: 403 Forbidden",
            "\nDuring handling of the above exception, another exception occurred:\n",
            "\u001b[0;31mURLError\u001b[0m                                  Traceback (most recent call last)",
            "\u001b[0;32m<ipython-input-37-8094888184e5>\u001b[0m in \u001b[0;36m<module>\u001b[0;34m()\u001b[0m\n\u001b[1;32m      5\u001b[0m \u001b[0;31m# esearch returns a handle (called h_search)\u001b[0m\u001b[0;34m\u001b[0m\u001b[0;34m\u001b[0m\u001b[0m\n\u001b[1;32m      6\u001b[0m h_search = Entrez.esearch(db=db, email=my_em,\n\u001b[0;32m----> 7\u001b[0;31m                          term='python and bioinformatics')\n\u001b[0m\u001b[1;32m      8\u001b[0m \u001b[0;31m# Parse the result with Entrez.read()\u001b[0m\u001b[0;34m\u001b[0m\u001b[0;34m\u001b[0m\u001b[0m\n\u001b[1;32m      9\u001b[0m \u001b[0mrecord\u001b[0m \u001b[0;34m=\u001b[0m \u001b[0mEntrez\u001b[0m\u001b[0;34m.\u001b[0m\u001b[0mread\u001b[0m\u001b[0;34m(\u001b[0m\u001b[0mh_search\u001b[0m\u001b[0;34m)\u001b[0m\u001b[0;34m\u001b[0m\u001b[0m\n",
            "\u001b[0;32m~/anaconda3_410/lib/python3.5/site-packages/Bio/Entrez/__init__.py\u001b[0m in \u001b[0;36mesearch\u001b[0;34m(db, term, **keywds)\u001b[0m\n\u001b[1;32m    214\u001b[0m                  'term': term}\n\u001b[1;32m    215\u001b[0m     \u001b[0mvariables\u001b[0m\u001b[0;34m.\u001b[0m\u001b[0mupdate\u001b[0m\u001b[0;34m(\u001b[0m\u001b[0mkeywds\u001b[0m\u001b[0;34m)\u001b[0m\u001b[0;34m\u001b[0m\u001b[0m\n\u001b[0;32m--> 216\u001b[0;31m     \u001b[0;32mreturn\u001b[0m \u001b[0m_open\u001b[0m\u001b[0;34m(\u001b[0m\u001b[0mcgi\u001b[0m\u001b[0;34m,\u001b[0m \u001b[0mvariables\u001b[0m\u001b[0;34m)\u001b[0m\u001b[0;34m\u001b[0m\u001b[0m\n\u001b[0m\u001b[1;32m    217\u001b[0m \u001b[0;34m\u001b[0m\u001b[0m\n\u001b[1;32m    218\u001b[0m \u001b[0;34m\u001b[0m\u001b[0m\n",
            "\u001b[0;32m~/anaconda3_410/lib/python3.5/site-packages/Bio/Entrez/__init__.py\u001b[0m in \u001b[0;36m_open\u001b[0;34m(cgi, params, post, ecitmatch)\u001b[0m\n\u001b[1;32m    522\u001b[0m             \u001b[0mhandle\u001b[0m \u001b[0;34m=\u001b[0m \u001b[0m_urlopen\u001b[0m\u001b[0;34m(\u001b[0m\u001b[0mcgi\u001b[0m\u001b[0;34m,\u001b[0m \u001b[0mdata\u001b[0m\u001b[0;34m=\u001b[0m\u001b[0m_as_bytes\u001b[0m\u001b[0;34m(\u001b[0m\u001b[0moptions\u001b[0m\u001b[0;34m)\u001b[0m\u001b[0;34m)\u001b[0m\u001b[0;34m\u001b[0m\u001b[0m\n\u001b[1;32m    523\u001b[0m         \u001b[0;32melse\u001b[0m\u001b[0;34m:\u001b[0m\u001b[0;34m\u001b[0m\u001b[0m\n\u001b[0;32m--> 524\u001b[0;31m             \u001b[0mhandle\u001b[0m \u001b[0;34m=\u001b[0m \u001b[0m_urlopen\u001b[0m\u001b[0;34m(\u001b[0m\u001b[0mcgi\u001b[0m\u001b[0;34m)\u001b[0m\u001b[0;34m\u001b[0m\u001b[0m\n\u001b[0m\u001b[1;32m    525\u001b[0m     \u001b[0;32mexcept\u001b[0m \u001b[0m_HTTPError\u001b[0m \u001b[0;32mas\u001b[0m \u001b[0mexception\u001b[0m\u001b[0;34m:\u001b[0m\u001b[0;34m\u001b[0m\u001b[0m\n\u001b[1;32m    526\u001b[0m         \u001b[0;32mraise\u001b[0m \u001b[0mexception\u001b[0m\u001b[0;34m\u001b[0m\u001b[0m\n",
            "\u001b[0;32m~/anaconda3_410/lib/python3.5/urllib/request.py\u001b[0m in \u001b[0;36murlopen\u001b[0;34m(url, data, timeout, cafile, capath, cadefault, context)\u001b[0m\n\u001b[1;32m    160\u001b[0m     \u001b[0;32melse\u001b[0m\u001b[0;34m:\u001b[0m\u001b[0;34m\u001b[0m\u001b[0m\n\u001b[1;32m    161\u001b[0m         \u001b[0mopener\u001b[0m \u001b[0;34m=\u001b[0m \u001b[0m_opener\u001b[0m\u001b[0;34m\u001b[0m\u001b[0m\n\u001b[0;32m--> 162\u001b[0;31m     \u001b[0;32mreturn\u001b[0m \u001b[0mopener\u001b[0m\u001b[0;34m.\u001b[0m\u001b[0mopen\u001b[0m\u001b[0;34m(\u001b[0m\u001b[0murl\u001b[0m\u001b[0;34m,\u001b[0m \u001b[0mdata\u001b[0m\u001b[0;34m,\u001b[0m \u001b[0mtimeout\u001b[0m\u001b[0;34m)\u001b[0m\u001b[0;34m\u001b[0m\u001b[0m\n\u001b[0m\u001b[1;32m    163\u001b[0m \u001b[0;34m\u001b[0m\u001b[0m\n\u001b[1;32m    164\u001b[0m \u001b[0;32mdef\u001b[0m \u001b[0minstall_opener\u001b[0m\u001b[0;34m(\u001b[0m\u001b[0mopener\u001b[0m\u001b[0;34m)\u001b[0m\u001b[0;34m:\u001b[0m\u001b[0;34m\u001b[0m\u001b[0m\n",
            "\u001b[0;32m~/anaconda3_410/lib/python3.5/urllib/request.py\u001b[0m in \u001b[0;36mopen\u001b[0;34m(self, fullurl, data, timeout)\u001b[0m\n\u001b[1;32m    463\u001b[0m             \u001b[0mreq\u001b[0m \u001b[0;34m=\u001b[0m \u001b[0mmeth\u001b[0m\u001b[0;34m(\u001b[0m\u001b[0mreq\u001b[0m\u001b[0;34m)\u001b[0m\u001b[0;34m\u001b[0m\u001b[0m\n\u001b[1;32m    464\u001b[0m \u001b[0;34m\u001b[0m\u001b[0m\n\u001b[0;32m--> 465\u001b[0;31m         \u001b[0mresponse\u001b[0m \u001b[0;34m=\u001b[0m \u001b[0mself\u001b[0m\u001b[0;34m.\u001b[0m\u001b[0m_open\u001b[0m\u001b[0;34m(\u001b[0m\u001b[0mreq\u001b[0m\u001b[0;34m,\u001b[0m \u001b[0mdata\u001b[0m\u001b[0;34m)\u001b[0m\u001b[0;34m\u001b[0m\u001b[0m\n\u001b[0m\u001b[1;32m    466\u001b[0m \u001b[0;34m\u001b[0m\u001b[0m\n\u001b[1;32m    467\u001b[0m         \u001b[0;31m# post-process response\u001b[0m\u001b[0;34m\u001b[0m\u001b[0;34m\u001b[0m\u001b[0m\n",
            "\u001b[0;32m~/anaconda3_410/lib/python3.5/urllib/request.py\u001b[0m in \u001b[0;36m_open\u001b[0;34m(self, req, data)\u001b[0m\n\u001b[1;32m    481\u001b[0m         \u001b[0mprotocol\u001b[0m \u001b[0;34m=\u001b[0m \u001b[0mreq\u001b[0m\u001b[0;34m.\u001b[0m\u001b[0mtype\u001b[0m\u001b[0;34m\u001b[0m\u001b[0m\n\u001b[1;32m    482\u001b[0m         result = self._call_chain(self.handle_open, protocol, protocol +\n\u001b[0;32m--> 483\u001b[0;31m                                   '_open', req)\n\u001b[0m\u001b[1;32m    484\u001b[0m         \u001b[0;32mif\u001b[0m \u001b[0mresult\u001b[0m\u001b[0;34m:\u001b[0m\u001b[0;34m\u001b[0m\u001b[0m\n\u001b[1;32m    485\u001b[0m             \u001b[0;32mreturn\u001b[0m \u001b[0mresult\u001b[0m\u001b[0;34m\u001b[0m\u001b[0m\n",
            "\u001b[0;32m~/anaconda3_410/lib/python3.5/urllib/request.py\u001b[0m in \u001b[0;36m_call_chain\u001b[0;34m(self, chain, kind, meth_name, *args)\u001b[0m\n\u001b[1;32m    441\u001b[0m         \u001b[0;32mfor\u001b[0m \u001b[0mhandler\u001b[0m \u001b[0;32min\u001b[0m \u001b[0mhandlers\u001b[0m\u001b[0;34m:\u001b[0m\u001b[0;34m\u001b[0m\u001b[0m\n\u001b[1;32m    442\u001b[0m             \u001b[0mfunc\u001b[0m \u001b[0;34m=\u001b[0m \u001b[0mgetattr\u001b[0m\u001b[0;34m(\u001b[0m\u001b[0mhandler\u001b[0m\u001b[0;34m,\u001b[0m \u001b[0mmeth_name\u001b[0m\u001b[0;34m)\u001b[0m\u001b[0;34m\u001b[0m\u001b[0m\n\u001b[0;32m--> 443\u001b[0;31m             \u001b[0mresult\u001b[0m \u001b[0;34m=\u001b[0m \u001b[0mfunc\u001b[0m\u001b[0;34m(\u001b[0m\u001b[0;34m*\u001b[0m\u001b[0margs\u001b[0m\u001b[0;34m)\u001b[0m\u001b[0;34m\u001b[0m\u001b[0m\n\u001b[0m\u001b[1;32m    444\u001b[0m             \u001b[0;32mif\u001b[0m \u001b[0mresult\u001b[0m \u001b[0;32mis\u001b[0m \u001b[0;32mnot\u001b[0m \u001b[0;32mNone\u001b[0m\u001b[0;34m:\u001b[0m\u001b[0;34m\u001b[0m\u001b[0m\n\u001b[1;32m    445\u001b[0m                 \u001b[0;32mreturn\u001b[0m \u001b[0mresult\u001b[0m\u001b[0;34m\u001b[0m\u001b[0m\n",
            "\u001b[0;32m~/anaconda3_410/lib/python3.5/urllib/request.py\u001b[0m in \u001b[0;36mhttps_open\u001b[0;34m(self, req)\u001b[0m\n\u001b[1;32m   1281\u001b[0m         \u001b[0;32mdef\u001b[0m \u001b[0mhttps_open\u001b[0m\u001b[0;34m(\u001b[0m\u001b[0mself\u001b[0m\u001b[0;34m,\u001b[0m \u001b[0mreq\u001b[0m\u001b[0;34m)\u001b[0m\u001b[0;34m:\u001b[0m\u001b[0;34m\u001b[0m\u001b[0m\n\u001b[1;32m   1282\u001b[0m             return self.do_open(http.client.HTTPSConnection, req,\n\u001b[0;32m-> 1283\u001b[0;31m                 context=self._context, check_hostname=self._check_hostname)\n\u001b[0m\u001b[1;32m   1284\u001b[0m \u001b[0;34m\u001b[0m\u001b[0m\n\u001b[1;32m   1285\u001b[0m         \u001b[0mhttps_request\u001b[0m \u001b[0;34m=\u001b[0m \u001b[0mAbstractHTTPHandler\u001b[0m\u001b[0;34m.\u001b[0m\u001b[0mdo_request_\u001b[0m\u001b[0;34m\u001b[0m\u001b[0m\n",
            "\u001b[0;32m~/anaconda3_410/lib/python3.5/urllib/request.py\u001b[0m in \u001b[0;36mdo_open\u001b[0;34m(self, http_class, req, **http_conn_args)\u001b[0m\n\u001b[1;32m   1240\u001b[0m                 \u001b[0mh\u001b[0m\u001b[0;34m.\u001b[0m\u001b[0mrequest\u001b[0m\u001b[0;34m(\u001b[0m\u001b[0mreq\u001b[0m\u001b[0;34m.\u001b[0m\u001b[0mget_method\u001b[0m\u001b[0;34m(\u001b[0m\u001b[0;34m)\u001b[0m\u001b[0;34m,\u001b[0m \u001b[0mreq\u001b[0m\u001b[0;34m.\u001b[0m\u001b[0mselector\u001b[0m\u001b[0;34m,\u001b[0m \u001b[0mreq\u001b[0m\u001b[0;34m.\u001b[0m\u001b[0mdata\u001b[0m\u001b[0;34m,\u001b[0m \u001b[0mheaders\u001b[0m\u001b[0;34m)\u001b[0m\u001b[0;34m\u001b[0m\u001b[0m\n\u001b[1;32m   1241\u001b[0m             \u001b[0;32mexcept\u001b[0m \u001b[0mOSError\u001b[0m \u001b[0;32mas\u001b[0m \u001b[0merr\u001b[0m\u001b[0;34m:\u001b[0m \u001b[0;31m# timeout error\u001b[0m\u001b[0;34m\u001b[0m\u001b[0m\n\u001b[0;32m-> 1242\u001b[0;31m                 \u001b[0;32mraise\u001b[0m \u001b[0mURLError\u001b[0m\u001b[0;34m(\u001b[0m\u001b[0merr\u001b[0m\u001b[0;34m)\u001b[0m\u001b[0;34m\u001b[0m\u001b[0m\n\u001b[0m\u001b[1;32m   1243\u001b[0m             \u001b[0mr\u001b[0m \u001b[0;34m=\u001b[0m \u001b[0mh\u001b[0m\u001b[0;34m.\u001b[0m\u001b[0mgetresponse\u001b[0m\u001b[0;34m(\u001b[0m\u001b[0;34m)\u001b[0m\u001b[0;34m\u001b[0m\u001b[0m\n\u001b[1;32m   1244\u001b[0m         \u001b[0;32mexcept\u001b[0m\u001b[0;34m:\u001b[0m\u001b[0;34m\u001b[0m\u001b[0m\n",
            "\u001b[0;31mURLError\u001b[0m: <urlopen error Tunnel connection failed: 403 Forbidden>"
          ]
        }
      ]
    },
    {
      "cell_type": "markdown",
      "metadata": {
        "collapsed": false,
        "id": "8Vrp1BGeqp5i",
        "colab_type": "text"
      },
      "source": [
        "eUtils: Retrieving Gene Information\n",
        "-------------------"
      ]
    },
    {
      "cell_type": "markdown",
      "metadata": {
        "collapsed": false,
        "id": "Hn94DqlMqp5i",
        "colab_type": "text"
      },
      "source": [
        "**Listing 9.13:** entrez2.py: Retrieve and display data from PubMed"
      ]
    },
    {
      "cell_type": "code",
      "metadata": {
        "id": "ngN2Pu_zqp5j",
        "colab_type": "code",
        "outputId": "5404f2e2-2f24-4349-97d5-59d3bba0b655",
        "colab": {}
      },
      "source": [
        "from Bio import Entrez\n",
        "my_em = 'user@example.com'\n",
        "db = \"gene\"\n",
        "term = 'cobalamin synthase homo sapiens'\n",
        "h_search = Entrez.esearch(db=db, email=my_em, term=term)\n",
        "record = Entrez.read(h_search)\n",
        "res_ids = record[\"IdList\"]\n",
        "for r_id in res_ids:\n",
        "   h_summ = Entrez.esummary(db=db, id=r_id, email=my_em)\n",
        "   s = Entrez.read(h_summ)\n",
        "   print(r_id)\n",
        "   name = s['DocumentSummarySet']['DocumentSummary'][0]['Name']\n",
        "   print(name)\n",
        "   su = s['DocumentSummarySet']['DocumentSummary'][0]['Summary']\n",
        "   print(su)\n",
        "   print('==============================================')"
      ],
      "execution_count": 0,
      "outputs": [
        {
          "output_type": "error",
          "ename": "URLError",
          "evalue": "<urlopen error Tunnel connection failed: 403 Forbidden>",
          "traceback": [
            "\u001b[0;31m---------------------------------------------------------------------------\u001b[0m",
            "\u001b[0;31mOSError\u001b[0m                                   Traceback (most recent call last)",
            "\u001b[0;32m~/anaconda3_410/lib/python3.5/urllib/request.py\u001b[0m in \u001b[0;36mdo_open\u001b[0;34m(self, http_class, req, **http_conn_args)\u001b[0m\n\u001b[1;32m   1239\u001b[0m             \u001b[0;32mtry\u001b[0m\u001b[0;34m:\u001b[0m\u001b[0;34m\u001b[0m\u001b[0m\n\u001b[0;32m-> 1240\u001b[0;31m                 \u001b[0mh\u001b[0m\u001b[0;34m.\u001b[0m\u001b[0mrequest\u001b[0m\u001b[0;34m(\u001b[0m\u001b[0mreq\u001b[0m\u001b[0;34m.\u001b[0m\u001b[0mget_method\u001b[0m\u001b[0;34m(\u001b[0m\u001b[0;34m)\u001b[0m\u001b[0;34m,\u001b[0m \u001b[0mreq\u001b[0m\u001b[0;34m.\u001b[0m\u001b[0mselector\u001b[0m\u001b[0;34m,\u001b[0m \u001b[0mreq\u001b[0m\u001b[0;34m.\u001b[0m\u001b[0mdata\u001b[0m\u001b[0;34m,\u001b[0m \u001b[0mheaders\u001b[0m\u001b[0;34m)\u001b[0m\u001b[0;34m\u001b[0m\u001b[0m\n\u001b[0m\u001b[1;32m   1241\u001b[0m             \u001b[0;32mexcept\u001b[0m \u001b[0mOSError\u001b[0m \u001b[0;32mas\u001b[0m \u001b[0merr\u001b[0m\u001b[0;34m:\u001b[0m \u001b[0;31m# timeout error\u001b[0m\u001b[0;34m\u001b[0m\u001b[0m\n",
            "\u001b[0;32m~/anaconda3_410/lib/python3.5/http/client.py\u001b[0m in \u001b[0;36mrequest\u001b[0;34m(self, method, url, body, headers)\u001b[0m\n\u001b[1;32m   1082\u001b[0m         \u001b[0;34m\"\"\"Send a complete request to the server.\"\"\"\u001b[0m\u001b[0;34m\u001b[0m\u001b[0m\n\u001b[0;32m-> 1083\u001b[0;31m         \u001b[0mself\u001b[0m\u001b[0;34m.\u001b[0m\u001b[0m_send_request\u001b[0m\u001b[0;34m(\u001b[0m\u001b[0mmethod\u001b[0m\u001b[0;34m,\u001b[0m \u001b[0murl\u001b[0m\u001b[0;34m,\u001b[0m \u001b[0mbody\u001b[0m\u001b[0;34m,\u001b[0m \u001b[0mheaders\u001b[0m\u001b[0;34m)\u001b[0m\u001b[0;34m\u001b[0m\u001b[0m\n\u001b[0m\u001b[1;32m   1084\u001b[0m \u001b[0;34m\u001b[0m\u001b[0m\n",
            "\u001b[0;32m~/anaconda3_410/lib/python3.5/http/client.py\u001b[0m in \u001b[0;36m_send_request\u001b[0;34m(self, method, url, body, headers)\u001b[0m\n\u001b[1;32m   1127\u001b[0m             \u001b[0mbody\u001b[0m \u001b[0;34m=\u001b[0m \u001b[0mbody\u001b[0m\u001b[0;34m.\u001b[0m\u001b[0mencode\u001b[0m\u001b[0;34m(\u001b[0m\u001b[0;34m'iso-8859-1'\u001b[0m\u001b[0;34m)\u001b[0m\u001b[0;34m\u001b[0m\u001b[0m\n\u001b[0;32m-> 1128\u001b[0;31m         \u001b[0mself\u001b[0m\u001b[0;34m.\u001b[0m\u001b[0mendheaders\u001b[0m\u001b[0;34m(\u001b[0m\u001b[0mbody\u001b[0m\u001b[0;34m)\u001b[0m\u001b[0;34m\u001b[0m\u001b[0m\n\u001b[0m\u001b[1;32m   1129\u001b[0m \u001b[0;34m\u001b[0m\u001b[0m\n",
            "\u001b[0;32m~/anaconda3_410/lib/python3.5/http/client.py\u001b[0m in \u001b[0;36mendheaders\u001b[0;34m(self, message_body)\u001b[0m\n\u001b[1;32m   1078\u001b[0m             \u001b[0;32mraise\u001b[0m \u001b[0mCannotSendHeader\u001b[0m\u001b[0;34m(\u001b[0m\u001b[0;34m)\u001b[0m\u001b[0;34m\u001b[0m\u001b[0m\n\u001b[0;32m-> 1079\u001b[0;31m         \u001b[0mself\u001b[0m\u001b[0;34m.\u001b[0m\u001b[0m_send_output\u001b[0m\u001b[0;34m(\u001b[0m\u001b[0mmessage_body\u001b[0m\u001b[0;34m)\u001b[0m\u001b[0;34m\u001b[0m\u001b[0m\n\u001b[0m\u001b[1;32m   1080\u001b[0m \u001b[0;34m\u001b[0m\u001b[0m\n",
            "\u001b[0;32m~/anaconda3_410/lib/python3.5/http/client.py\u001b[0m in \u001b[0;36m_send_output\u001b[0;34m(self, message_body)\u001b[0m\n\u001b[1;32m    910\u001b[0m \u001b[0;34m\u001b[0m\u001b[0m\n\u001b[0;32m--> 911\u001b[0;31m         \u001b[0mself\u001b[0m\u001b[0;34m.\u001b[0m\u001b[0msend\u001b[0m\u001b[0;34m(\u001b[0m\u001b[0mmsg\u001b[0m\u001b[0;34m)\u001b[0m\u001b[0;34m\u001b[0m\u001b[0m\n\u001b[0m\u001b[1;32m    912\u001b[0m         \u001b[0;32mif\u001b[0m \u001b[0mmessage_body\u001b[0m \u001b[0;32mis\u001b[0m \u001b[0;32mnot\u001b[0m \u001b[0;32mNone\u001b[0m\u001b[0;34m:\u001b[0m\u001b[0;34m\u001b[0m\u001b[0m\n",
            "\u001b[0;32m~/anaconda3_410/lib/python3.5/http/client.py\u001b[0m in \u001b[0;36msend\u001b[0;34m(self, data)\u001b[0m\n\u001b[1;32m    853\u001b[0m             \u001b[0;32mif\u001b[0m \u001b[0mself\u001b[0m\u001b[0;34m.\u001b[0m\u001b[0mauto_open\u001b[0m\u001b[0;34m:\u001b[0m\u001b[0;34m\u001b[0m\u001b[0m\n\u001b[0;32m--> 854\u001b[0;31m                 \u001b[0mself\u001b[0m\u001b[0;34m.\u001b[0m\u001b[0mconnect\u001b[0m\u001b[0;34m(\u001b[0m\u001b[0;34m)\u001b[0m\u001b[0;34m\u001b[0m\u001b[0m\n\u001b[0m\u001b[1;32m    855\u001b[0m             \u001b[0;32melse\u001b[0m\u001b[0;34m:\u001b[0m\u001b[0;34m\u001b[0m\u001b[0m\n",
            "\u001b[0;32m~/anaconda3_410/lib/python3.5/http/client.py\u001b[0m in \u001b[0;36mconnect\u001b[0;34m(self)\u001b[0m\n\u001b[1;32m   1228\u001b[0m \u001b[0;34m\u001b[0m\u001b[0m\n\u001b[0;32m-> 1229\u001b[0;31m             \u001b[0msuper\u001b[0m\u001b[0;34m(\u001b[0m\u001b[0;34m)\u001b[0m\u001b[0;34m.\u001b[0m\u001b[0mconnect\u001b[0m\u001b[0;34m(\u001b[0m\u001b[0;34m)\u001b[0m\u001b[0;34m\u001b[0m\u001b[0m\n\u001b[0m\u001b[1;32m   1230\u001b[0m \u001b[0;34m\u001b[0m\u001b[0m\n",
            "\u001b[0;32m~/anaconda3_410/lib/python3.5/http/client.py\u001b[0m in \u001b[0;36mconnect\u001b[0;34m(self)\u001b[0m\n\u001b[1;32m    829\u001b[0m         \u001b[0;32mif\u001b[0m \u001b[0mself\u001b[0m\u001b[0;34m.\u001b[0m\u001b[0m_tunnel_host\u001b[0m\u001b[0;34m:\u001b[0m\u001b[0;34m\u001b[0m\u001b[0m\n\u001b[0;32m--> 830\u001b[0;31m             \u001b[0mself\u001b[0m\u001b[0;34m.\u001b[0m\u001b[0m_tunnel\u001b[0m\u001b[0;34m(\u001b[0m\u001b[0;34m)\u001b[0m\u001b[0;34m\u001b[0m\u001b[0m\n\u001b[0m\u001b[1;32m    831\u001b[0m \u001b[0;34m\u001b[0m\u001b[0m\n",
            "\u001b[0;32m~/anaconda3_410/lib/python3.5/http/client.py\u001b[0m in \u001b[0;36m_tunnel\u001b[0;34m(self)\u001b[0m\n\u001b[1;32m    808\u001b[0m             raise OSError(\"Tunnel connection failed: %d %s\" % (code,\n\u001b[0;32m--> 809\u001b[0;31m                                                                message.strip()))\n\u001b[0m\u001b[1;32m    810\u001b[0m         \u001b[0;32mwhile\u001b[0m \u001b[0;32mTrue\u001b[0m\u001b[0;34m:\u001b[0m\u001b[0;34m\u001b[0m\u001b[0m\n",
            "\u001b[0;31mOSError\u001b[0m: Tunnel connection failed: 403 Forbidden",
            "\nDuring handling of the above exception, another exception occurred:\n",
            "\u001b[0;31mURLError\u001b[0m                                  Traceback (most recent call last)",
            "\u001b[0;32m<ipython-input-38-62df82e958b2>\u001b[0m in \u001b[0;36m<module>\u001b[0;34m()\u001b[0m\n\u001b[1;32m      3\u001b[0m \u001b[0mdb\u001b[0m \u001b[0;34m=\u001b[0m \u001b[0;34m\"gene\"\u001b[0m\u001b[0;34m\u001b[0m\u001b[0m\n\u001b[1;32m      4\u001b[0m \u001b[0mterm\u001b[0m \u001b[0;34m=\u001b[0m \u001b[0;34m'cobalamin synthase homo sapiens'\u001b[0m\u001b[0;34m\u001b[0m\u001b[0m\n\u001b[0;32m----> 5\u001b[0;31m \u001b[0mh_search\u001b[0m \u001b[0;34m=\u001b[0m \u001b[0mEntrez\u001b[0m\u001b[0;34m.\u001b[0m\u001b[0mesearch\u001b[0m\u001b[0;34m(\u001b[0m\u001b[0mdb\u001b[0m\u001b[0;34m=\u001b[0m\u001b[0mdb\u001b[0m\u001b[0;34m,\u001b[0m \u001b[0memail\u001b[0m\u001b[0;34m=\u001b[0m\u001b[0mmy_em\u001b[0m\u001b[0;34m,\u001b[0m \u001b[0mterm\u001b[0m\u001b[0;34m=\u001b[0m\u001b[0mterm\u001b[0m\u001b[0;34m)\u001b[0m\u001b[0;34m\u001b[0m\u001b[0m\n\u001b[0m\u001b[1;32m      6\u001b[0m \u001b[0mrecord\u001b[0m \u001b[0;34m=\u001b[0m \u001b[0mEntrez\u001b[0m\u001b[0;34m.\u001b[0m\u001b[0mread\u001b[0m\u001b[0;34m(\u001b[0m\u001b[0mh_search\u001b[0m\u001b[0;34m)\u001b[0m\u001b[0;34m\u001b[0m\u001b[0m\n\u001b[1;32m      7\u001b[0m \u001b[0mres_ids\u001b[0m \u001b[0;34m=\u001b[0m \u001b[0mrecord\u001b[0m\u001b[0;34m[\u001b[0m\u001b[0;34m\"IdList\"\u001b[0m\u001b[0;34m]\u001b[0m\u001b[0;34m\u001b[0m\u001b[0m\n",
            "\u001b[0;32m~/anaconda3_410/lib/python3.5/site-packages/Bio/Entrez/__init__.py\u001b[0m in \u001b[0;36mesearch\u001b[0;34m(db, term, **keywds)\u001b[0m\n\u001b[1;32m    214\u001b[0m                  'term': term}\n\u001b[1;32m    215\u001b[0m     \u001b[0mvariables\u001b[0m\u001b[0;34m.\u001b[0m\u001b[0mupdate\u001b[0m\u001b[0;34m(\u001b[0m\u001b[0mkeywds\u001b[0m\u001b[0;34m)\u001b[0m\u001b[0;34m\u001b[0m\u001b[0m\n\u001b[0;32m--> 216\u001b[0;31m     \u001b[0;32mreturn\u001b[0m \u001b[0m_open\u001b[0m\u001b[0;34m(\u001b[0m\u001b[0mcgi\u001b[0m\u001b[0;34m,\u001b[0m \u001b[0mvariables\u001b[0m\u001b[0;34m)\u001b[0m\u001b[0;34m\u001b[0m\u001b[0m\n\u001b[0m\u001b[1;32m    217\u001b[0m \u001b[0;34m\u001b[0m\u001b[0m\n\u001b[1;32m    218\u001b[0m \u001b[0;34m\u001b[0m\u001b[0m\n",
            "\u001b[0;32m~/anaconda3_410/lib/python3.5/site-packages/Bio/Entrez/__init__.py\u001b[0m in \u001b[0;36m_open\u001b[0;34m(cgi, params, post, ecitmatch)\u001b[0m\n\u001b[1;32m    522\u001b[0m             \u001b[0mhandle\u001b[0m \u001b[0;34m=\u001b[0m \u001b[0m_urlopen\u001b[0m\u001b[0;34m(\u001b[0m\u001b[0mcgi\u001b[0m\u001b[0;34m,\u001b[0m \u001b[0mdata\u001b[0m\u001b[0;34m=\u001b[0m\u001b[0m_as_bytes\u001b[0m\u001b[0;34m(\u001b[0m\u001b[0moptions\u001b[0m\u001b[0;34m)\u001b[0m\u001b[0;34m)\u001b[0m\u001b[0;34m\u001b[0m\u001b[0m\n\u001b[1;32m    523\u001b[0m         \u001b[0;32melse\u001b[0m\u001b[0;34m:\u001b[0m\u001b[0;34m\u001b[0m\u001b[0m\n\u001b[0;32m--> 524\u001b[0;31m             \u001b[0mhandle\u001b[0m \u001b[0;34m=\u001b[0m \u001b[0m_urlopen\u001b[0m\u001b[0;34m(\u001b[0m\u001b[0mcgi\u001b[0m\u001b[0;34m)\u001b[0m\u001b[0;34m\u001b[0m\u001b[0m\n\u001b[0m\u001b[1;32m    525\u001b[0m     \u001b[0;32mexcept\u001b[0m \u001b[0m_HTTPError\u001b[0m \u001b[0;32mas\u001b[0m \u001b[0mexception\u001b[0m\u001b[0;34m:\u001b[0m\u001b[0;34m\u001b[0m\u001b[0m\n\u001b[1;32m    526\u001b[0m         \u001b[0;32mraise\u001b[0m \u001b[0mexception\u001b[0m\u001b[0;34m\u001b[0m\u001b[0m\n",
            "\u001b[0;32m~/anaconda3_410/lib/python3.5/urllib/request.py\u001b[0m in \u001b[0;36murlopen\u001b[0;34m(url, data, timeout, cafile, capath, cadefault, context)\u001b[0m\n\u001b[1;32m    160\u001b[0m     \u001b[0;32melse\u001b[0m\u001b[0;34m:\u001b[0m\u001b[0;34m\u001b[0m\u001b[0m\n\u001b[1;32m    161\u001b[0m         \u001b[0mopener\u001b[0m \u001b[0;34m=\u001b[0m \u001b[0m_opener\u001b[0m\u001b[0;34m\u001b[0m\u001b[0m\n\u001b[0;32m--> 162\u001b[0;31m     \u001b[0;32mreturn\u001b[0m \u001b[0mopener\u001b[0m\u001b[0;34m.\u001b[0m\u001b[0mopen\u001b[0m\u001b[0;34m(\u001b[0m\u001b[0murl\u001b[0m\u001b[0;34m,\u001b[0m \u001b[0mdata\u001b[0m\u001b[0;34m,\u001b[0m \u001b[0mtimeout\u001b[0m\u001b[0;34m)\u001b[0m\u001b[0;34m\u001b[0m\u001b[0m\n\u001b[0m\u001b[1;32m    163\u001b[0m \u001b[0;34m\u001b[0m\u001b[0m\n\u001b[1;32m    164\u001b[0m \u001b[0;32mdef\u001b[0m \u001b[0minstall_opener\u001b[0m\u001b[0;34m(\u001b[0m\u001b[0mopener\u001b[0m\u001b[0;34m)\u001b[0m\u001b[0;34m:\u001b[0m\u001b[0;34m\u001b[0m\u001b[0m\n",
            "\u001b[0;32m~/anaconda3_410/lib/python3.5/urllib/request.py\u001b[0m in \u001b[0;36mopen\u001b[0;34m(self, fullurl, data, timeout)\u001b[0m\n\u001b[1;32m    463\u001b[0m             \u001b[0mreq\u001b[0m \u001b[0;34m=\u001b[0m \u001b[0mmeth\u001b[0m\u001b[0;34m(\u001b[0m\u001b[0mreq\u001b[0m\u001b[0;34m)\u001b[0m\u001b[0;34m\u001b[0m\u001b[0m\n\u001b[1;32m    464\u001b[0m \u001b[0;34m\u001b[0m\u001b[0m\n\u001b[0;32m--> 465\u001b[0;31m         \u001b[0mresponse\u001b[0m \u001b[0;34m=\u001b[0m \u001b[0mself\u001b[0m\u001b[0;34m.\u001b[0m\u001b[0m_open\u001b[0m\u001b[0;34m(\u001b[0m\u001b[0mreq\u001b[0m\u001b[0;34m,\u001b[0m \u001b[0mdata\u001b[0m\u001b[0;34m)\u001b[0m\u001b[0;34m\u001b[0m\u001b[0m\n\u001b[0m\u001b[1;32m    466\u001b[0m \u001b[0;34m\u001b[0m\u001b[0m\n\u001b[1;32m    467\u001b[0m         \u001b[0;31m# post-process response\u001b[0m\u001b[0;34m\u001b[0m\u001b[0;34m\u001b[0m\u001b[0m\n",
            "\u001b[0;32m~/anaconda3_410/lib/python3.5/urllib/request.py\u001b[0m in \u001b[0;36m_open\u001b[0;34m(self, req, data)\u001b[0m\n\u001b[1;32m    481\u001b[0m         \u001b[0mprotocol\u001b[0m \u001b[0;34m=\u001b[0m \u001b[0mreq\u001b[0m\u001b[0;34m.\u001b[0m\u001b[0mtype\u001b[0m\u001b[0;34m\u001b[0m\u001b[0m\n\u001b[1;32m    482\u001b[0m         result = self._call_chain(self.handle_open, protocol, protocol +\n\u001b[0;32m--> 483\u001b[0;31m                                   '_open', req)\n\u001b[0m\u001b[1;32m    484\u001b[0m         \u001b[0;32mif\u001b[0m \u001b[0mresult\u001b[0m\u001b[0;34m:\u001b[0m\u001b[0;34m\u001b[0m\u001b[0m\n\u001b[1;32m    485\u001b[0m             \u001b[0;32mreturn\u001b[0m \u001b[0mresult\u001b[0m\u001b[0;34m\u001b[0m\u001b[0m\n",
            "\u001b[0;32m~/anaconda3_410/lib/python3.5/urllib/request.py\u001b[0m in \u001b[0;36m_call_chain\u001b[0;34m(self, chain, kind, meth_name, *args)\u001b[0m\n\u001b[1;32m    441\u001b[0m         \u001b[0;32mfor\u001b[0m \u001b[0mhandler\u001b[0m \u001b[0;32min\u001b[0m \u001b[0mhandlers\u001b[0m\u001b[0;34m:\u001b[0m\u001b[0;34m\u001b[0m\u001b[0m\n\u001b[1;32m    442\u001b[0m             \u001b[0mfunc\u001b[0m \u001b[0;34m=\u001b[0m \u001b[0mgetattr\u001b[0m\u001b[0;34m(\u001b[0m\u001b[0mhandler\u001b[0m\u001b[0;34m,\u001b[0m \u001b[0mmeth_name\u001b[0m\u001b[0;34m)\u001b[0m\u001b[0;34m\u001b[0m\u001b[0m\n\u001b[0;32m--> 443\u001b[0;31m             \u001b[0mresult\u001b[0m \u001b[0;34m=\u001b[0m \u001b[0mfunc\u001b[0m\u001b[0;34m(\u001b[0m\u001b[0;34m*\u001b[0m\u001b[0margs\u001b[0m\u001b[0;34m)\u001b[0m\u001b[0;34m\u001b[0m\u001b[0m\n\u001b[0m\u001b[1;32m    444\u001b[0m             \u001b[0;32mif\u001b[0m \u001b[0mresult\u001b[0m \u001b[0;32mis\u001b[0m \u001b[0;32mnot\u001b[0m \u001b[0;32mNone\u001b[0m\u001b[0;34m:\u001b[0m\u001b[0;34m\u001b[0m\u001b[0m\n\u001b[1;32m    445\u001b[0m                 \u001b[0;32mreturn\u001b[0m \u001b[0mresult\u001b[0m\u001b[0;34m\u001b[0m\u001b[0m\n",
            "\u001b[0;32m~/anaconda3_410/lib/python3.5/urllib/request.py\u001b[0m in \u001b[0;36mhttps_open\u001b[0;34m(self, req)\u001b[0m\n\u001b[1;32m   1281\u001b[0m         \u001b[0;32mdef\u001b[0m \u001b[0mhttps_open\u001b[0m\u001b[0;34m(\u001b[0m\u001b[0mself\u001b[0m\u001b[0;34m,\u001b[0m \u001b[0mreq\u001b[0m\u001b[0;34m)\u001b[0m\u001b[0;34m:\u001b[0m\u001b[0;34m\u001b[0m\u001b[0m\n\u001b[1;32m   1282\u001b[0m             return self.do_open(http.client.HTTPSConnection, req,\n\u001b[0;32m-> 1283\u001b[0;31m                 context=self._context, check_hostname=self._check_hostname)\n\u001b[0m\u001b[1;32m   1284\u001b[0m \u001b[0;34m\u001b[0m\u001b[0m\n\u001b[1;32m   1285\u001b[0m         \u001b[0mhttps_request\u001b[0m \u001b[0;34m=\u001b[0m \u001b[0mAbstractHTTPHandler\u001b[0m\u001b[0;34m.\u001b[0m\u001b[0mdo_request_\u001b[0m\u001b[0;34m\u001b[0m\u001b[0m\n",
            "\u001b[0;32m~/anaconda3_410/lib/python3.5/urllib/request.py\u001b[0m in \u001b[0;36mdo_open\u001b[0;34m(self, http_class, req, **http_conn_args)\u001b[0m\n\u001b[1;32m   1240\u001b[0m                 \u001b[0mh\u001b[0m\u001b[0;34m.\u001b[0m\u001b[0mrequest\u001b[0m\u001b[0;34m(\u001b[0m\u001b[0mreq\u001b[0m\u001b[0;34m.\u001b[0m\u001b[0mget_method\u001b[0m\u001b[0;34m(\u001b[0m\u001b[0;34m)\u001b[0m\u001b[0;34m,\u001b[0m \u001b[0mreq\u001b[0m\u001b[0;34m.\u001b[0m\u001b[0mselector\u001b[0m\u001b[0;34m,\u001b[0m \u001b[0mreq\u001b[0m\u001b[0;34m.\u001b[0m\u001b[0mdata\u001b[0m\u001b[0;34m,\u001b[0m \u001b[0mheaders\u001b[0m\u001b[0;34m)\u001b[0m\u001b[0;34m\u001b[0m\u001b[0m\n\u001b[1;32m   1241\u001b[0m             \u001b[0;32mexcept\u001b[0m \u001b[0mOSError\u001b[0m \u001b[0;32mas\u001b[0m \u001b[0merr\u001b[0m\u001b[0;34m:\u001b[0m \u001b[0;31m# timeout error\u001b[0m\u001b[0;34m\u001b[0m\u001b[0m\n\u001b[0;32m-> 1242\u001b[0;31m                 \u001b[0;32mraise\u001b[0m \u001b[0mURLError\u001b[0m\u001b[0;34m(\u001b[0m\u001b[0merr\u001b[0m\u001b[0;34m)\u001b[0m\u001b[0;34m\u001b[0m\u001b[0m\n\u001b[0m\u001b[1;32m   1243\u001b[0m             \u001b[0mr\u001b[0m \u001b[0;34m=\u001b[0m \u001b[0mh\u001b[0m\u001b[0;34m.\u001b[0m\u001b[0mgetresponse\u001b[0m\u001b[0;34m(\u001b[0m\u001b[0;34m)\u001b[0m\u001b[0;34m\u001b[0m\u001b[0m\n\u001b[1;32m   1244\u001b[0m         \u001b[0;32mexcept\u001b[0m\u001b[0;34m:\u001b[0m\u001b[0;34m\u001b[0m\u001b[0m\n",
            "\u001b[0;31mURLError\u001b[0m: <urlopen error Tunnel connection failed: 403 Forbidden>"
          ]
        }
      ]
    },
    {
      "cell_type": "code",
      "metadata": {
        "id": "Ovhkeoreqp5k",
        "colab_type": "code",
        "outputId": "abddf19c-768e-4199-bafa-74009c8e198e",
        "colab": {}
      },
      "source": [
        "n = \"nucleotide\"\n",
        "handle = Entrez.efetch(db=n, id=\"326625\", rettype='fasta')\n",
        "print (handle.read())"
      ],
      "execution_count": 0,
      "outputs": [
        {
          "output_type": "stream",
          "text": [
            "/home/nbuser/anaconda3_410/lib/python3.5/site-packages/Bio/Entrez/__init__.py:559: UserWarning: \n",
            "Email address is not specified.\n",
            "\n",
            "To make use of NCBI's E-utilities, NCBI requires you to specify your\n",
            "email address with each request.  As an example, if your email address\n",
            "is A.N.Other@example.com, you can specify it as follows:\n",
            "   from Bio import Entrez\n",
            "   Entrez.email = 'A.N.Other@example.com'\n",
            "In case of excessive usage of the E-utilities, NCBI will attempt to contact\n",
            "a user at the email address provided before blocking access to the\n",
            "E-utilities.\n",
            "  E-utilities.\"\"\", UserWarning)\n"
          ],
          "name": "stderr"
        },
        {
          "output_type": "error",
          "ename": "URLError",
          "evalue": "<urlopen error Tunnel connection failed: 403 Forbidden>",
          "traceback": [
            "\u001b[0;31m---------------------------------------------------------------------------\u001b[0m",
            "\u001b[0;31mOSError\u001b[0m                                   Traceback (most recent call last)",
            "\u001b[0;32m~/anaconda3_410/lib/python3.5/urllib/request.py\u001b[0m in \u001b[0;36mdo_open\u001b[0;34m(self, http_class, req, **http_conn_args)\u001b[0m\n\u001b[1;32m   1239\u001b[0m             \u001b[0;32mtry\u001b[0m\u001b[0;34m:\u001b[0m\u001b[0;34m\u001b[0m\u001b[0m\n\u001b[0;32m-> 1240\u001b[0;31m                 \u001b[0mh\u001b[0m\u001b[0;34m.\u001b[0m\u001b[0mrequest\u001b[0m\u001b[0;34m(\u001b[0m\u001b[0mreq\u001b[0m\u001b[0;34m.\u001b[0m\u001b[0mget_method\u001b[0m\u001b[0;34m(\u001b[0m\u001b[0;34m)\u001b[0m\u001b[0;34m,\u001b[0m \u001b[0mreq\u001b[0m\u001b[0;34m.\u001b[0m\u001b[0mselector\u001b[0m\u001b[0;34m,\u001b[0m \u001b[0mreq\u001b[0m\u001b[0;34m.\u001b[0m\u001b[0mdata\u001b[0m\u001b[0;34m,\u001b[0m \u001b[0mheaders\u001b[0m\u001b[0;34m)\u001b[0m\u001b[0;34m\u001b[0m\u001b[0m\n\u001b[0m\u001b[1;32m   1241\u001b[0m             \u001b[0;32mexcept\u001b[0m \u001b[0mOSError\u001b[0m \u001b[0;32mas\u001b[0m \u001b[0merr\u001b[0m\u001b[0;34m:\u001b[0m \u001b[0;31m# timeout error\u001b[0m\u001b[0;34m\u001b[0m\u001b[0m\n",
            "\u001b[0;32m~/anaconda3_410/lib/python3.5/http/client.py\u001b[0m in \u001b[0;36mrequest\u001b[0;34m(self, method, url, body, headers)\u001b[0m\n\u001b[1;32m   1082\u001b[0m         \u001b[0;34m\"\"\"Send a complete request to the server.\"\"\"\u001b[0m\u001b[0;34m\u001b[0m\u001b[0m\n\u001b[0;32m-> 1083\u001b[0;31m         \u001b[0mself\u001b[0m\u001b[0;34m.\u001b[0m\u001b[0m_send_request\u001b[0m\u001b[0;34m(\u001b[0m\u001b[0mmethod\u001b[0m\u001b[0;34m,\u001b[0m \u001b[0murl\u001b[0m\u001b[0;34m,\u001b[0m \u001b[0mbody\u001b[0m\u001b[0;34m,\u001b[0m \u001b[0mheaders\u001b[0m\u001b[0;34m)\u001b[0m\u001b[0;34m\u001b[0m\u001b[0m\n\u001b[0m\u001b[1;32m   1084\u001b[0m \u001b[0;34m\u001b[0m\u001b[0m\n",
            "\u001b[0;32m~/anaconda3_410/lib/python3.5/http/client.py\u001b[0m in \u001b[0;36m_send_request\u001b[0;34m(self, method, url, body, headers)\u001b[0m\n\u001b[1;32m   1127\u001b[0m             \u001b[0mbody\u001b[0m \u001b[0;34m=\u001b[0m \u001b[0mbody\u001b[0m\u001b[0;34m.\u001b[0m\u001b[0mencode\u001b[0m\u001b[0;34m(\u001b[0m\u001b[0;34m'iso-8859-1'\u001b[0m\u001b[0;34m)\u001b[0m\u001b[0;34m\u001b[0m\u001b[0m\n\u001b[0;32m-> 1128\u001b[0;31m         \u001b[0mself\u001b[0m\u001b[0;34m.\u001b[0m\u001b[0mendheaders\u001b[0m\u001b[0;34m(\u001b[0m\u001b[0mbody\u001b[0m\u001b[0;34m)\u001b[0m\u001b[0;34m\u001b[0m\u001b[0m\n\u001b[0m\u001b[1;32m   1129\u001b[0m \u001b[0;34m\u001b[0m\u001b[0m\n",
            "\u001b[0;32m~/anaconda3_410/lib/python3.5/http/client.py\u001b[0m in \u001b[0;36mendheaders\u001b[0;34m(self, message_body)\u001b[0m\n\u001b[1;32m   1078\u001b[0m             \u001b[0;32mraise\u001b[0m \u001b[0mCannotSendHeader\u001b[0m\u001b[0;34m(\u001b[0m\u001b[0;34m)\u001b[0m\u001b[0;34m\u001b[0m\u001b[0m\n\u001b[0;32m-> 1079\u001b[0;31m         \u001b[0mself\u001b[0m\u001b[0;34m.\u001b[0m\u001b[0m_send_output\u001b[0m\u001b[0;34m(\u001b[0m\u001b[0mmessage_body\u001b[0m\u001b[0;34m)\u001b[0m\u001b[0;34m\u001b[0m\u001b[0m\n\u001b[0m\u001b[1;32m   1080\u001b[0m \u001b[0;34m\u001b[0m\u001b[0m\n",
            "\u001b[0;32m~/anaconda3_410/lib/python3.5/http/client.py\u001b[0m in \u001b[0;36m_send_output\u001b[0;34m(self, message_body)\u001b[0m\n\u001b[1;32m    910\u001b[0m \u001b[0;34m\u001b[0m\u001b[0m\n\u001b[0;32m--> 911\u001b[0;31m         \u001b[0mself\u001b[0m\u001b[0;34m.\u001b[0m\u001b[0msend\u001b[0m\u001b[0;34m(\u001b[0m\u001b[0mmsg\u001b[0m\u001b[0;34m)\u001b[0m\u001b[0;34m\u001b[0m\u001b[0m\n\u001b[0m\u001b[1;32m    912\u001b[0m         \u001b[0;32mif\u001b[0m \u001b[0mmessage_body\u001b[0m \u001b[0;32mis\u001b[0m \u001b[0;32mnot\u001b[0m \u001b[0;32mNone\u001b[0m\u001b[0;34m:\u001b[0m\u001b[0;34m\u001b[0m\u001b[0m\n",
            "\u001b[0;32m~/anaconda3_410/lib/python3.5/http/client.py\u001b[0m in \u001b[0;36msend\u001b[0;34m(self, data)\u001b[0m\n\u001b[1;32m    853\u001b[0m             \u001b[0;32mif\u001b[0m \u001b[0mself\u001b[0m\u001b[0;34m.\u001b[0m\u001b[0mauto_open\u001b[0m\u001b[0;34m:\u001b[0m\u001b[0;34m\u001b[0m\u001b[0m\n\u001b[0;32m--> 854\u001b[0;31m                 \u001b[0mself\u001b[0m\u001b[0;34m.\u001b[0m\u001b[0mconnect\u001b[0m\u001b[0;34m(\u001b[0m\u001b[0;34m)\u001b[0m\u001b[0;34m\u001b[0m\u001b[0m\n\u001b[0m\u001b[1;32m    855\u001b[0m             \u001b[0;32melse\u001b[0m\u001b[0;34m:\u001b[0m\u001b[0;34m\u001b[0m\u001b[0m\n",
            "\u001b[0;32m~/anaconda3_410/lib/python3.5/http/client.py\u001b[0m in \u001b[0;36mconnect\u001b[0;34m(self)\u001b[0m\n\u001b[1;32m   1228\u001b[0m \u001b[0;34m\u001b[0m\u001b[0m\n\u001b[0;32m-> 1229\u001b[0;31m             \u001b[0msuper\u001b[0m\u001b[0;34m(\u001b[0m\u001b[0;34m)\u001b[0m\u001b[0;34m.\u001b[0m\u001b[0mconnect\u001b[0m\u001b[0;34m(\u001b[0m\u001b[0;34m)\u001b[0m\u001b[0;34m\u001b[0m\u001b[0m\n\u001b[0m\u001b[1;32m   1230\u001b[0m \u001b[0;34m\u001b[0m\u001b[0m\n",
            "\u001b[0;32m~/anaconda3_410/lib/python3.5/http/client.py\u001b[0m in \u001b[0;36mconnect\u001b[0;34m(self)\u001b[0m\n\u001b[1;32m    829\u001b[0m         \u001b[0;32mif\u001b[0m \u001b[0mself\u001b[0m\u001b[0;34m.\u001b[0m\u001b[0m_tunnel_host\u001b[0m\u001b[0;34m:\u001b[0m\u001b[0;34m\u001b[0m\u001b[0m\n\u001b[0;32m--> 830\u001b[0;31m             \u001b[0mself\u001b[0m\u001b[0;34m.\u001b[0m\u001b[0m_tunnel\u001b[0m\u001b[0;34m(\u001b[0m\u001b[0;34m)\u001b[0m\u001b[0;34m\u001b[0m\u001b[0m\n\u001b[0m\u001b[1;32m    831\u001b[0m \u001b[0;34m\u001b[0m\u001b[0m\n",
            "\u001b[0;32m~/anaconda3_410/lib/python3.5/http/client.py\u001b[0m in \u001b[0;36m_tunnel\u001b[0;34m(self)\u001b[0m\n\u001b[1;32m    808\u001b[0m             raise OSError(\"Tunnel connection failed: %d %s\" % (code,\n\u001b[0;32m--> 809\u001b[0;31m                                                                message.strip()))\n\u001b[0m\u001b[1;32m    810\u001b[0m         \u001b[0;32mwhile\u001b[0m \u001b[0;32mTrue\u001b[0m\u001b[0;34m:\u001b[0m\u001b[0;34m\u001b[0m\u001b[0m\n",
            "\u001b[0;31mOSError\u001b[0m: Tunnel connection failed: 403 Forbidden",
            "\nDuring handling of the above exception, another exception occurred:\n",
            "\u001b[0;31mURLError\u001b[0m                                  Traceback (most recent call last)",
            "\u001b[0;32m<ipython-input-51-617c479d3d34>\u001b[0m in \u001b[0;36m<module>\u001b[0;34m()\u001b[0m\n\u001b[1;32m      1\u001b[0m \u001b[0mn\u001b[0m \u001b[0;34m=\u001b[0m \u001b[0;34m\"nucleotide\"\u001b[0m\u001b[0;34m\u001b[0m\u001b[0m\n\u001b[0;32m----> 2\u001b[0;31m \u001b[0mhandle\u001b[0m \u001b[0;34m=\u001b[0m \u001b[0mEntrez\u001b[0m\u001b[0;34m.\u001b[0m\u001b[0mefetch\u001b[0m\u001b[0;34m(\u001b[0m\u001b[0mdb\u001b[0m\u001b[0;34m=\u001b[0m\u001b[0mn\u001b[0m\u001b[0;34m,\u001b[0m \u001b[0mid\u001b[0m\u001b[0;34m=\u001b[0m\u001b[0;34m\"326625\"\u001b[0m\u001b[0;34m,\u001b[0m \u001b[0mrettype\u001b[0m\u001b[0;34m=\u001b[0m\u001b[0;34m'fasta'\u001b[0m\u001b[0;34m)\u001b[0m\u001b[0;34m\u001b[0m\u001b[0m\n\u001b[0m\u001b[1;32m      3\u001b[0m \u001b[0mprint\u001b[0m \u001b[0;34m(\u001b[0m\u001b[0mhandle\u001b[0m\u001b[0;34m.\u001b[0m\u001b[0mread\u001b[0m\u001b[0;34m(\u001b[0m\u001b[0;34m)\u001b[0m\u001b[0;34m)\u001b[0m\u001b[0;34m\u001b[0m\u001b[0m\n",
            "\u001b[0;32m~/anaconda3_410/lib/python3.5/site-packages/Bio/Entrez/__init__.py\u001b[0m in \u001b[0;36mefetch\u001b[0;34m(db, **keywords)\u001b[0m\n\u001b[1;32m    178\u001b[0m             \u001b[0;31m# more than about 200 IDs\u001b[0m\u001b[0;34m\u001b[0m\u001b[0;34m\u001b[0m\u001b[0m\n\u001b[1;32m    179\u001b[0m             \u001b[0mpost\u001b[0m \u001b[0;34m=\u001b[0m \u001b[0;32mTrue\u001b[0m\u001b[0;34m\u001b[0m\u001b[0m\n\u001b[0;32m--> 180\u001b[0;31m     \u001b[0;32mreturn\u001b[0m \u001b[0m_open\u001b[0m\u001b[0;34m(\u001b[0m\u001b[0mcgi\u001b[0m\u001b[0;34m,\u001b[0m \u001b[0mvariables\u001b[0m\u001b[0;34m,\u001b[0m \u001b[0mpost\u001b[0m\u001b[0;34m=\u001b[0m\u001b[0mpost\u001b[0m\u001b[0;34m)\u001b[0m\u001b[0;34m\u001b[0m\u001b[0m\n\u001b[0m\u001b[1;32m    181\u001b[0m \u001b[0;34m\u001b[0m\u001b[0m\n\u001b[1;32m    182\u001b[0m \u001b[0;34m\u001b[0m\u001b[0m\n",
            "\u001b[0;32m~/anaconda3_410/lib/python3.5/site-packages/Bio/Entrez/__init__.py\u001b[0m in \u001b[0;36m_open\u001b[0;34m(cgi, params, post, ecitmatch)\u001b[0m\n\u001b[1;32m    522\u001b[0m             \u001b[0mhandle\u001b[0m \u001b[0;34m=\u001b[0m \u001b[0m_urlopen\u001b[0m\u001b[0;34m(\u001b[0m\u001b[0mcgi\u001b[0m\u001b[0;34m,\u001b[0m \u001b[0mdata\u001b[0m\u001b[0;34m=\u001b[0m\u001b[0m_as_bytes\u001b[0m\u001b[0;34m(\u001b[0m\u001b[0moptions\u001b[0m\u001b[0;34m)\u001b[0m\u001b[0;34m)\u001b[0m\u001b[0;34m\u001b[0m\u001b[0m\n\u001b[1;32m    523\u001b[0m         \u001b[0;32melse\u001b[0m\u001b[0;34m:\u001b[0m\u001b[0;34m\u001b[0m\u001b[0m\n\u001b[0;32m--> 524\u001b[0;31m             \u001b[0mhandle\u001b[0m \u001b[0;34m=\u001b[0m \u001b[0m_urlopen\u001b[0m\u001b[0;34m(\u001b[0m\u001b[0mcgi\u001b[0m\u001b[0;34m)\u001b[0m\u001b[0;34m\u001b[0m\u001b[0m\n\u001b[0m\u001b[1;32m    525\u001b[0m     \u001b[0;32mexcept\u001b[0m \u001b[0m_HTTPError\u001b[0m \u001b[0;32mas\u001b[0m \u001b[0mexception\u001b[0m\u001b[0;34m:\u001b[0m\u001b[0;34m\u001b[0m\u001b[0m\n\u001b[1;32m    526\u001b[0m         \u001b[0;32mraise\u001b[0m \u001b[0mexception\u001b[0m\u001b[0;34m\u001b[0m\u001b[0m\n",
            "\u001b[0;32m~/anaconda3_410/lib/python3.5/urllib/request.py\u001b[0m in \u001b[0;36murlopen\u001b[0;34m(url, data, timeout, cafile, capath, cadefault, context)\u001b[0m\n\u001b[1;32m    160\u001b[0m     \u001b[0;32melse\u001b[0m\u001b[0;34m:\u001b[0m\u001b[0;34m\u001b[0m\u001b[0m\n\u001b[1;32m    161\u001b[0m         \u001b[0mopener\u001b[0m \u001b[0;34m=\u001b[0m \u001b[0m_opener\u001b[0m\u001b[0;34m\u001b[0m\u001b[0m\n\u001b[0;32m--> 162\u001b[0;31m     \u001b[0;32mreturn\u001b[0m \u001b[0mopener\u001b[0m\u001b[0;34m.\u001b[0m\u001b[0mopen\u001b[0m\u001b[0;34m(\u001b[0m\u001b[0murl\u001b[0m\u001b[0;34m,\u001b[0m \u001b[0mdata\u001b[0m\u001b[0;34m,\u001b[0m \u001b[0mtimeout\u001b[0m\u001b[0;34m)\u001b[0m\u001b[0;34m\u001b[0m\u001b[0m\n\u001b[0m\u001b[1;32m    163\u001b[0m \u001b[0;34m\u001b[0m\u001b[0m\n\u001b[1;32m    164\u001b[0m \u001b[0;32mdef\u001b[0m \u001b[0minstall_opener\u001b[0m\u001b[0;34m(\u001b[0m\u001b[0mopener\u001b[0m\u001b[0;34m)\u001b[0m\u001b[0;34m:\u001b[0m\u001b[0;34m\u001b[0m\u001b[0m\n",
            "\u001b[0;32m~/anaconda3_410/lib/python3.5/urllib/request.py\u001b[0m in \u001b[0;36mopen\u001b[0;34m(self, fullurl, data, timeout)\u001b[0m\n\u001b[1;32m    463\u001b[0m             \u001b[0mreq\u001b[0m \u001b[0;34m=\u001b[0m \u001b[0mmeth\u001b[0m\u001b[0;34m(\u001b[0m\u001b[0mreq\u001b[0m\u001b[0;34m)\u001b[0m\u001b[0;34m\u001b[0m\u001b[0m\n\u001b[1;32m    464\u001b[0m \u001b[0;34m\u001b[0m\u001b[0m\n\u001b[0;32m--> 465\u001b[0;31m         \u001b[0mresponse\u001b[0m \u001b[0;34m=\u001b[0m \u001b[0mself\u001b[0m\u001b[0;34m.\u001b[0m\u001b[0m_open\u001b[0m\u001b[0;34m(\u001b[0m\u001b[0mreq\u001b[0m\u001b[0;34m,\u001b[0m \u001b[0mdata\u001b[0m\u001b[0;34m)\u001b[0m\u001b[0;34m\u001b[0m\u001b[0m\n\u001b[0m\u001b[1;32m    466\u001b[0m \u001b[0;34m\u001b[0m\u001b[0m\n\u001b[1;32m    467\u001b[0m         \u001b[0;31m# post-process response\u001b[0m\u001b[0;34m\u001b[0m\u001b[0;34m\u001b[0m\u001b[0m\n",
            "\u001b[0;32m~/anaconda3_410/lib/python3.5/urllib/request.py\u001b[0m in \u001b[0;36m_open\u001b[0;34m(self, req, data)\u001b[0m\n\u001b[1;32m    481\u001b[0m         \u001b[0mprotocol\u001b[0m \u001b[0;34m=\u001b[0m \u001b[0mreq\u001b[0m\u001b[0;34m.\u001b[0m\u001b[0mtype\u001b[0m\u001b[0;34m\u001b[0m\u001b[0m\n\u001b[1;32m    482\u001b[0m         result = self._call_chain(self.handle_open, protocol, protocol +\n\u001b[0;32m--> 483\u001b[0;31m                                   '_open', req)\n\u001b[0m\u001b[1;32m    484\u001b[0m         \u001b[0;32mif\u001b[0m \u001b[0mresult\u001b[0m\u001b[0;34m:\u001b[0m\u001b[0;34m\u001b[0m\u001b[0m\n\u001b[1;32m    485\u001b[0m             \u001b[0;32mreturn\u001b[0m \u001b[0mresult\u001b[0m\u001b[0;34m\u001b[0m\u001b[0m\n",
            "\u001b[0;32m~/anaconda3_410/lib/python3.5/urllib/request.py\u001b[0m in \u001b[0;36m_call_chain\u001b[0;34m(self, chain, kind, meth_name, *args)\u001b[0m\n\u001b[1;32m    441\u001b[0m         \u001b[0;32mfor\u001b[0m \u001b[0mhandler\u001b[0m \u001b[0;32min\u001b[0m \u001b[0mhandlers\u001b[0m\u001b[0;34m:\u001b[0m\u001b[0;34m\u001b[0m\u001b[0m\n\u001b[1;32m    442\u001b[0m             \u001b[0mfunc\u001b[0m \u001b[0;34m=\u001b[0m \u001b[0mgetattr\u001b[0m\u001b[0;34m(\u001b[0m\u001b[0mhandler\u001b[0m\u001b[0;34m,\u001b[0m \u001b[0mmeth_name\u001b[0m\u001b[0;34m)\u001b[0m\u001b[0;34m\u001b[0m\u001b[0m\n\u001b[0;32m--> 443\u001b[0;31m             \u001b[0mresult\u001b[0m \u001b[0;34m=\u001b[0m \u001b[0mfunc\u001b[0m\u001b[0;34m(\u001b[0m\u001b[0;34m*\u001b[0m\u001b[0margs\u001b[0m\u001b[0;34m)\u001b[0m\u001b[0;34m\u001b[0m\u001b[0m\n\u001b[0m\u001b[1;32m    444\u001b[0m             \u001b[0;32mif\u001b[0m \u001b[0mresult\u001b[0m \u001b[0;32mis\u001b[0m \u001b[0;32mnot\u001b[0m \u001b[0;32mNone\u001b[0m\u001b[0;34m:\u001b[0m\u001b[0;34m\u001b[0m\u001b[0m\n\u001b[1;32m    445\u001b[0m                 \u001b[0;32mreturn\u001b[0m \u001b[0mresult\u001b[0m\u001b[0;34m\u001b[0m\u001b[0m\n",
            "\u001b[0;32m~/anaconda3_410/lib/python3.5/urllib/request.py\u001b[0m in \u001b[0;36mhttps_open\u001b[0;34m(self, req)\u001b[0m\n\u001b[1;32m   1281\u001b[0m         \u001b[0;32mdef\u001b[0m \u001b[0mhttps_open\u001b[0m\u001b[0;34m(\u001b[0m\u001b[0mself\u001b[0m\u001b[0;34m,\u001b[0m \u001b[0mreq\u001b[0m\u001b[0;34m)\u001b[0m\u001b[0;34m:\u001b[0m\u001b[0;34m\u001b[0m\u001b[0m\n\u001b[1;32m   1282\u001b[0m             return self.do_open(http.client.HTTPSConnection, req,\n\u001b[0;32m-> 1283\u001b[0;31m                 context=self._context, check_hostname=self._check_hostname)\n\u001b[0m\u001b[1;32m   1284\u001b[0m \u001b[0;34m\u001b[0m\u001b[0m\n\u001b[1;32m   1285\u001b[0m         \u001b[0mhttps_request\u001b[0m \u001b[0;34m=\u001b[0m \u001b[0mAbstractHTTPHandler\u001b[0m\u001b[0;34m.\u001b[0m\u001b[0mdo_request_\u001b[0m\u001b[0;34m\u001b[0m\u001b[0m\n",
            "\u001b[0;32m~/anaconda3_410/lib/python3.5/urllib/request.py\u001b[0m in \u001b[0;36mdo_open\u001b[0;34m(self, http_class, req, **http_conn_args)\u001b[0m\n\u001b[1;32m   1240\u001b[0m                 \u001b[0mh\u001b[0m\u001b[0;34m.\u001b[0m\u001b[0mrequest\u001b[0m\u001b[0;34m(\u001b[0m\u001b[0mreq\u001b[0m\u001b[0;34m.\u001b[0m\u001b[0mget_method\u001b[0m\u001b[0;34m(\u001b[0m\u001b[0;34m)\u001b[0m\u001b[0;34m,\u001b[0m \u001b[0mreq\u001b[0m\u001b[0;34m.\u001b[0m\u001b[0mselector\u001b[0m\u001b[0;34m,\u001b[0m \u001b[0mreq\u001b[0m\u001b[0;34m.\u001b[0m\u001b[0mdata\u001b[0m\u001b[0;34m,\u001b[0m \u001b[0mheaders\u001b[0m\u001b[0;34m)\u001b[0m\u001b[0;34m\u001b[0m\u001b[0m\n\u001b[1;32m   1241\u001b[0m             \u001b[0;32mexcept\u001b[0m \u001b[0mOSError\u001b[0m \u001b[0;32mas\u001b[0m \u001b[0merr\u001b[0m\u001b[0;34m:\u001b[0m \u001b[0;31m# timeout error\u001b[0m\u001b[0;34m\u001b[0m\u001b[0m\n\u001b[0;32m-> 1242\u001b[0;31m                 \u001b[0;32mraise\u001b[0m \u001b[0mURLError\u001b[0m\u001b[0;34m(\u001b[0m\u001b[0merr\u001b[0m\u001b[0;34m)\u001b[0m\u001b[0;34m\u001b[0m\u001b[0m\n\u001b[0m\u001b[1;32m   1243\u001b[0m             \u001b[0mr\u001b[0m \u001b[0;34m=\u001b[0m \u001b[0mh\u001b[0m\u001b[0;34m.\u001b[0m\u001b[0mgetresponse\u001b[0m\u001b[0;34m(\u001b[0m\u001b[0;34m)\u001b[0m\u001b[0;34m\u001b[0m\u001b[0m\n\u001b[1;32m   1244\u001b[0m         \u001b[0;32mexcept\u001b[0m\u001b[0;34m:\u001b[0m\u001b[0;34m\u001b[0m\u001b[0m\n",
            "\u001b[0;31mURLError\u001b[0m: <urlopen error Tunnel connection failed: 403 Forbidden>"
          ]
        }
      ]
    },
    {
      "cell_type": "code",
      "metadata": {
        "id": "MW4rKFutqp5l",
        "colab_type": "code",
        "outputId": "cea5d249-33ec-4a24-8cbc-900f50d37413",
        "colab": {}
      },
      "source": [
        "handle = Entrez.efetch(db=n, id=\"326625\", retmode='xml')\n",
        "record[0]['GBSeq_moltype']"
      ],
      "execution_count": 0,
      "outputs": [
        {
          "output_type": "stream",
          "text": [
            "/home/nbuser/anaconda3_410/lib/python3.5/site-packages/Bio/Entrez/__init__.py:559: UserWarning: \n",
            "Email address is not specified.\n",
            "\n",
            "To make use of NCBI's E-utilities, NCBI requires you to specify your\n",
            "email address with each request.  As an example, if your email address\n",
            "is A.N.Other@example.com, you can specify it as follows:\n",
            "   from Bio import Entrez\n",
            "   Entrez.email = 'A.N.Other@example.com'\n",
            "In case of excessive usage of the E-utilities, NCBI will attempt to contact\n",
            "a user at the email address provided before blocking access to the\n",
            "E-utilities.\n",
            "  E-utilities.\"\"\", UserWarning)\n"
          ],
          "name": "stderr"
        },
        {
          "output_type": "error",
          "ename": "URLError",
          "evalue": "<urlopen error Tunnel connection failed: 403 Forbidden>",
          "traceback": [
            "\u001b[0;31m---------------------------------------------------------------------------\u001b[0m",
            "\u001b[0;31mOSError\u001b[0m                                   Traceback (most recent call last)",
            "\u001b[0;32m~/anaconda3_410/lib/python3.5/urllib/request.py\u001b[0m in \u001b[0;36mdo_open\u001b[0;34m(self, http_class, req, **http_conn_args)\u001b[0m\n\u001b[1;32m   1239\u001b[0m             \u001b[0;32mtry\u001b[0m\u001b[0;34m:\u001b[0m\u001b[0;34m\u001b[0m\u001b[0m\n\u001b[0;32m-> 1240\u001b[0;31m                 \u001b[0mh\u001b[0m\u001b[0;34m.\u001b[0m\u001b[0mrequest\u001b[0m\u001b[0;34m(\u001b[0m\u001b[0mreq\u001b[0m\u001b[0;34m.\u001b[0m\u001b[0mget_method\u001b[0m\u001b[0;34m(\u001b[0m\u001b[0;34m)\u001b[0m\u001b[0;34m,\u001b[0m \u001b[0mreq\u001b[0m\u001b[0;34m.\u001b[0m\u001b[0mselector\u001b[0m\u001b[0;34m,\u001b[0m \u001b[0mreq\u001b[0m\u001b[0;34m.\u001b[0m\u001b[0mdata\u001b[0m\u001b[0;34m,\u001b[0m \u001b[0mheaders\u001b[0m\u001b[0;34m)\u001b[0m\u001b[0;34m\u001b[0m\u001b[0m\n\u001b[0m\u001b[1;32m   1241\u001b[0m             \u001b[0;32mexcept\u001b[0m \u001b[0mOSError\u001b[0m \u001b[0;32mas\u001b[0m \u001b[0merr\u001b[0m\u001b[0;34m:\u001b[0m \u001b[0;31m# timeout error\u001b[0m\u001b[0;34m\u001b[0m\u001b[0m\n",
            "\u001b[0;32m~/anaconda3_410/lib/python3.5/http/client.py\u001b[0m in \u001b[0;36mrequest\u001b[0;34m(self, method, url, body, headers)\u001b[0m\n\u001b[1;32m   1082\u001b[0m         \u001b[0;34m\"\"\"Send a complete request to the server.\"\"\"\u001b[0m\u001b[0;34m\u001b[0m\u001b[0m\n\u001b[0;32m-> 1083\u001b[0;31m         \u001b[0mself\u001b[0m\u001b[0;34m.\u001b[0m\u001b[0m_send_request\u001b[0m\u001b[0;34m(\u001b[0m\u001b[0mmethod\u001b[0m\u001b[0;34m,\u001b[0m \u001b[0murl\u001b[0m\u001b[0;34m,\u001b[0m \u001b[0mbody\u001b[0m\u001b[0;34m,\u001b[0m \u001b[0mheaders\u001b[0m\u001b[0;34m)\u001b[0m\u001b[0;34m\u001b[0m\u001b[0m\n\u001b[0m\u001b[1;32m   1084\u001b[0m \u001b[0;34m\u001b[0m\u001b[0m\n",
            "\u001b[0;32m~/anaconda3_410/lib/python3.5/http/client.py\u001b[0m in \u001b[0;36m_send_request\u001b[0;34m(self, method, url, body, headers)\u001b[0m\n\u001b[1;32m   1127\u001b[0m             \u001b[0mbody\u001b[0m \u001b[0;34m=\u001b[0m \u001b[0mbody\u001b[0m\u001b[0;34m.\u001b[0m\u001b[0mencode\u001b[0m\u001b[0;34m(\u001b[0m\u001b[0;34m'iso-8859-1'\u001b[0m\u001b[0;34m)\u001b[0m\u001b[0;34m\u001b[0m\u001b[0m\n\u001b[0;32m-> 1128\u001b[0;31m         \u001b[0mself\u001b[0m\u001b[0;34m.\u001b[0m\u001b[0mendheaders\u001b[0m\u001b[0;34m(\u001b[0m\u001b[0mbody\u001b[0m\u001b[0;34m)\u001b[0m\u001b[0;34m\u001b[0m\u001b[0m\n\u001b[0m\u001b[1;32m   1129\u001b[0m \u001b[0;34m\u001b[0m\u001b[0m\n",
            "\u001b[0;32m~/anaconda3_410/lib/python3.5/http/client.py\u001b[0m in \u001b[0;36mendheaders\u001b[0;34m(self, message_body)\u001b[0m\n\u001b[1;32m   1078\u001b[0m             \u001b[0;32mraise\u001b[0m \u001b[0mCannotSendHeader\u001b[0m\u001b[0;34m(\u001b[0m\u001b[0;34m)\u001b[0m\u001b[0;34m\u001b[0m\u001b[0m\n\u001b[0;32m-> 1079\u001b[0;31m         \u001b[0mself\u001b[0m\u001b[0;34m.\u001b[0m\u001b[0m_send_output\u001b[0m\u001b[0;34m(\u001b[0m\u001b[0mmessage_body\u001b[0m\u001b[0;34m)\u001b[0m\u001b[0;34m\u001b[0m\u001b[0m\n\u001b[0m\u001b[1;32m   1080\u001b[0m \u001b[0;34m\u001b[0m\u001b[0m\n",
            "\u001b[0;32m~/anaconda3_410/lib/python3.5/http/client.py\u001b[0m in \u001b[0;36m_send_output\u001b[0;34m(self, message_body)\u001b[0m\n\u001b[1;32m    910\u001b[0m \u001b[0;34m\u001b[0m\u001b[0m\n\u001b[0;32m--> 911\u001b[0;31m         \u001b[0mself\u001b[0m\u001b[0;34m.\u001b[0m\u001b[0msend\u001b[0m\u001b[0;34m(\u001b[0m\u001b[0mmsg\u001b[0m\u001b[0;34m)\u001b[0m\u001b[0;34m\u001b[0m\u001b[0m\n\u001b[0m\u001b[1;32m    912\u001b[0m         \u001b[0;32mif\u001b[0m \u001b[0mmessage_body\u001b[0m \u001b[0;32mis\u001b[0m \u001b[0;32mnot\u001b[0m \u001b[0;32mNone\u001b[0m\u001b[0;34m:\u001b[0m\u001b[0;34m\u001b[0m\u001b[0m\n",
            "\u001b[0;32m~/anaconda3_410/lib/python3.5/http/client.py\u001b[0m in \u001b[0;36msend\u001b[0;34m(self, data)\u001b[0m\n\u001b[1;32m    853\u001b[0m             \u001b[0;32mif\u001b[0m \u001b[0mself\u001b[0m\u001b[0;34m.\u001b[0m\u001b[0mauto_open\u001b[0m\u001b[0;34m:\u001b[0m\u001b[0;34m\u001b[0m\u001b[0m\n\u001b[0;32m--> 854\u001b[0;31m                 \u001b[0mself\u001b[0m\u001b[0;34m.\u001b[0m\u001b[0mconnect\u001b[0m\u001b[0;34m(\u001b[0m\u001b[0;34m)\u001b[0m\u001b[0;34m\u001b[0m\u001b[0m\n\u001b[0m\u001b[1;32m    855\u001b[0m             \u001b[0;32melse\u001b[0m\u001b[0;34m:\u001b[0m\u001b[0;34m\u001b[0m\u001b[0m\n",
            "\u001b[0;32m~/anaconda3_410/lib/python3.5/http/client.py\u001b[0m in \u001b[0;36mconnect\u001b[0;34m(self)\u001b[0m\n\u001b[1;32m   1228\u001b[0m \u001b[0;34m\u001b[0m\u001b[0m\n\u001b[0;32m-> 1229\u001b[0;31m             \u001b[0msuper\u001b[0m\u001b[0;34m(\u001b[0m\u001b[0;34m)\u001b[0m\u001b[0;34m.\u001b[0m\u001b[0mconnect\u001b[0m\u001b[0;34m(\u001b[0m\u001b[0;34m)\u001b[0m\u001b[0;34m\u001b[0m\u001b[0m\n\u001b[0m\u001b[1;32m   1230\u001b[0m \u001b[0;34m\u001b[0m\u001b[0m\n",
            "\u001b[0;32m~/anaconda3_410/lib/python3.5/http/client.py\u001b[0m in \u001b[0;36mconnect\u001b[0;34m(self)\u001b[0m\n\u001b[1;32m    829\u001b[0m         \u001b[0;32mif\u001b[0m \u001b[0mself\u001b[0m\u001b[0;34m.\u001b[0m\u001b[0m_tunnel_host\u001b[0m\u001b[0;34m:\u001b[0m\u001b[0;34m\u001b[0m\u001b[0m\n\u001b[0;32m--> 830\u001b[0;31m             \u001b[0mself\u001b[0m\u001b[0;34m.\u001b[0m\u001b[0m_tunnel\u001b[0m\u001b[0;34m(\u001b[0m\u001b[0;34m)\u001b[0m\u001b[0;34m\u001b[0m\u001b[0m\n\u001b[0m\u001b[1;32m    831\u001b[0m \u001b[0;34m\u001b[0m\u001b[0m\n",
            "\u001b[0;32m~/anaconda3_410/lib/python3.5/http/client.py\u001b[0m in \u001b[0;36m_tunnel\u001b[0;34m(self)\u001b[0m\n\u001b[1;32m    808\u001b[0m             raise OSError(\"Tunnel connection failed: %d %s\" % (code,\n\u001b[0;32m--> 809\u001b[0;31m                                                                message.strip()))\n\u001b[0m\u001b[1;32m    810\u001b[0m         \u001b[0;32mwhile\u001b[0m \u001b[0;32mTrue\u001b[0m\u001b[0;34m:\u001b[0m\u001b[0;34m\u001b[0m\u001b[0m\n",
            "\u001b[0;31mOSError\u001b[0m: Tunnel connection failed: 403 Forbidden",
            "\nDuring handling of the above exception, another exception occurred:\n",
            "\u001b[0;31mURLError\u001b[0m                                  Traceback (most recent call last)",
            "\u001b[0;32m<ipython-input-52-76fcf47ee27e>\u001b[0m in \u001b[0;36m<module>\u001b[0;34m()\u001b[0m\n\u001b[0;32m----> 1\u001b[0;31m \u001b[0mhandle\u001b[0m \u001b[0;34m=\u001b[0m \u001b[0mEntrez\u001b[0m\u001b[0;34m.\u001b[0m\u001b[0mefetch\u001b[0m\u001b[0;34m(\u001b[0m\u001b[0mdb\u001b[0m\u001b[0;34m=\u001b[0m\u001b[0mn\u001b[0m\u001b[0;34m,\u001b[0m \u001b[0mid\u001b[0m\u001b[0;34m=\u001b[0m\u001b[0;34m\"326625\"\u001b[0m\u001b[0;34m,\u001b[0m \u001b[0mretmode\u001b[0m\u001b[0;34m=\u001b[0m\u001b[0;34m'xml'\u001b[0m\u001b[0;34m)\u001b[0m\u001b[0;34m\u001b[0m\u001b[0m\n\u001b[0m\u001b[1;32m      2\u001b[0m \u001b[0mrecord\u001b[0m\u001b[0;34m[\u001b[0m\u001b[0;36m0\u001b[0m\u001b[0;34m]\u001b[0m\u001b[0;34m[\u001b[0m\u001b[0;34m'GBSeq_moltype'\u001b[0m\u001b[0;34m]\u001b[0m\u001b[0;34m\u001b[0m\u001b[0m\n",
            "\u001b[0;32m~/anaconda3_410/lib/python3.5/site-packages/Bio/Entrez/__init__.py\u001b[0m in \u001b[0;36mefetch\u001b[0;34m(db, **keywords)\u001b[0m\n\u001b[1;32m    178\u001b[0m             \u001b[0;31m# more than about 200 IDs\u001b[0m\u001b[0;34m\u001b[0m\u001b[0;34m\u001b[0m\u001b[0m\n\u001b[1;32m    179\u001b[0m             \u001b[0mpost\u001b[0m \u001b[0;34m=\u001b[0m \u001b[0;32mTrue\u001b[0m\u001b[0;34m\u001b[0m\u001b[0m\n\u001b[0;32m--> 180\u001b[0;31m     \u001b[0;32mreturn\u001b[0m \u001b[0m_open\u001b[0m\u001b[0;34m(\u001b[0m\u001b[0mcgi\u001b[0m\u001b[0;34m,\u001b[0m \u001b[0mvariables\u001b[0m\u001b[0;34m,\u001b[0m \u001b[0mpost\u001b[0m\u001b[0;34m=\u001b[0m\u001b[0mpost\u001b[0m\u001b[0;34m)\u001b[0m\u001b[0;34m\u001b[0m\u001b[0m\n\u001b[0m\u001b[1;32m    181\u001b[0m \u001b[0;34m\u001b[0m\u001b[0m\n\u001b[1;32m    182\u001b[0m \u001b[0;34m\u001b[0m\u001b[0m\n",
            "\u001b[0;32m~/anaconda3_410/lib/python3.5/site-packages/Bio/Entrez/__init__.py\u001b[0m in \u001b[0;36m_open\u001b[0;34m(cgi, params, post, ecitmatch)\u001b[0m\n\u001b[1;32m    522\u001b[0m             \u001b[0mhandle\u001b[0m \u001b[0;34m=\u001b[0m \u001b[0m_urlopen\u001b[0m\u001b[0;34m(\u001b[0m\u001b[0mcgi\u001b[0m\u001b[0;34m,\u001b[0m \u001b[0mdata\u001b[0m\u001b[0;34m=\u001b[0m\u001b[0m_as_bytes\u001b[0m\u001b[0;34m(\u001b[0m\u001b[0moptions\u001b[0m\u001b[0;34m)\u001b[0m\u001b[0;34m)\u001b[0m\u001b[0;34m\u001b[0m\u001b[0m\n\u001b[1;32m    523\u001b[0m         \u001b[0;32melse\u001b[0m\u001b[0;34m:\u001b[0m\u001b[0;34m\u001b[0m\u001b[0m\n\u001b[0;32m--> 524\u001b[0;31m             \u001b[0mhandle\u001b[0m \u001b[0;34m=\u001b[0m \u001b[0m_urlopen\u001b[0m\u001b[0;34m(\u001b[0m\u001b[0mcgi\u001b[0m\u001b[0;34m)\u001b[0m\u001b[0;34m\u001b[0m\u001b[0m\n\u001b[0m\u001b[1;32m    525\u001b[0m     \u001b[0;32mexcept\u001b[0m \u001b[0m_HTTPError\u001b[0m \u001b[0;32mas\u001b[0m \u001b[0mexception\u001b[0m\u001b[0;34m:\u001b[0m\u001b[0;34m\u001b[0m\u001b[0m\n\u001b[1;32m    526\u001b[0m         \u001b[0;32mraise\u001b[0m \u001b[0mexception\u001b[0m\u001b[0;34m\u001b[0m\u001b[0m\n",
            "\u001b[0;32m~/anaconda3_410/lib/python3.5/urllib/request.py\u001b[0m in \u001b[0;36murlopen\u001b[0;34m(url, data, timeout, cafile, capath, cadefault, context)\u001b[0m\n\u001b[1;32m    160\u001b[0m     \u001b[0;32melse\u001b[0m\u001b[0;34m:\u001b[0m\u001b[0;34m\u001b[0m\u001b[0m\n\u001b[1;32m    161\u001b[0m         \u001b[0mopener\u001b[0m \u001b[0;34m=\u001b[0m \u001b[0m_opener\u001b[0m\u001b[0;34m\u001b[0m\u001b[0m\n\u001b[0;32m--> 162\u001b[0;31m     \u001b[0;32mreturn\u001b[0m \u001b[0mopener\u001b[0m\u001b[0;34m.\u001b[0m\u001b[0mopen\u001b[0m\u001b[0;34m(\u001b[0m\u001b[0murl\u001b[0m\u001b[0;34m,\u001b[0m \u001b[0mdata\u001b[0m\u001b[0;34m,\u001b[0m \u001b[0mtimeout\u001b[0m\u001b[0;34m)\u001b[0m\u001b[0;34m\u001b[0m\u001b[0m\n\u001b[0m\u001b[1;32m    163\u001b[0m \u001b[0;34m\u001b[0m\u001b[0m\n\u001b[1;32m    164\u001b[0m \u001b[0;32mdef\u001b[0m \u001b[0minstall_opener\u001b[0m\u001b[0;34m(\u001b[0m\u001b[0mopener\u001b[0m\u001b[0;34m)\u001b[0m\u001b[0;34m:\u001b[0m\u001b[0;34m\u001b[0m\u001b[0m\n",
            "\u001b[0;32m~/anaconda3_410/lib/python3.5/urllib/request.py\u001b[0m in \u001b[0;36mopen\u001b[0;34m(self, fullurl, data, timeout)\u001b[0m\n\u001b[1;32m    463\u001b[0m             \u001b[0mreq\u001b[0m \u001b[0;34m=\u001b[0m \u001b[0mmeth\u001b[0m\u001b[0;34m(\u001b[0m\u001b[0mreq\u001b[0m\u001b[0;34m)\u001b[0m\u001b[0;34m\u001b[0m\u001b[0m\n\u001b[1;32m    464\u001b[0m \u001b[0;34m\u001b[0m\u001b[0m\n\u001b[0;32m--> 465\u001b[0;31m         \u001b[0mresponse\u001b[0m \u001b[0;34m=\u001b[0m \u001b[0mself\u001b[0m\u001b[0;34m.\u001b[0m\u001b[0m_open\u001b[0m\u001b[0;34m(\u001b[0m\u001b[0mreq\u001b[0m\u001b[0;34m,\u001b[0m \u001b[0mdata\u001b[0m\u001b[0;34m)\u001b[0m\u001b[0;34m\u001b[0m\u001b[0m\n\u001b[0m\u001b[1;32m    466\u001b[0m \u001b[0;34m\u001b[0m\u001b[0m\n\u001b[1;32m    467\u001b[0m         \u001b[0;31m# post-process response\u001b[0m\u001b[0;34m\u001b[0m\u001b[0;34m\u001b[0m\u001b[0m\n",
            "\u001b[0;32m~/anaconda3_410/lib/python3.5/urllib/request.py\u001b[0m in \u001b[0;36m_open\u001b[0;34m(self, req, data)\u001b[0m\n\u001b[1;32m    481\u001b[0m         \u001b[0mprotocol\u001b[0m \u001b[0;34m=\u001b[0m \u001b[0mreq\u001b[0m\u001b[0;34m.\u001b[0m\u001b[0mtype\u001b[0m\u001b[0;34m\u001b[0m\u001b[0m\n\u001b[1;32m    482\u001b[0m         result = self._call_chain(self.handle_open, protocol, protocol +\n\u001b[0;32m--> 483\u001b[0;31m                                   '_open', req)\n\u001b[0m\u001b[1;32m    484\u001b[0m         \u001b[0;32mif\u001b[0m \u001b[0mresult\u001b[0m\u001b[0;34m:\u001b[0m\u001b[0;34m\u001b[0m\u001b[0m\n\u001b[1;32m    485\u001b[0m             \u001b[0;32mreturn\u001b[0m \u001b[0mresult\u001b[0m\u001b[0;34m\u001b[0m\u001b[0m\n",
            "\u001b[0;32m~/anaconda3_410/lib/python3.5/urllib/request.py\u001b[0m in \u001b[0;36m_call_chain\u001b[0;34m(self, chain, kind, meth_name, *args)\u001b[0m\n\u001b[1;32m    441\u001b[0m         \u001b[0;32mfor\u001b[0m \u001b[0mhandler\u001b[0m \u001b[0;32min\u001b[0m \u001b[0mhandlers\u001b[0m\u001b[0;34m:\u001b[0m\u001b[0;34m\u001b[0m\u001b[0m\n\u001b[1;32m    442\u001b[0m             \u001b[0mfunc\u001b[0m \u001b[0;34m=\u001b[0m \u001b[0mgetattr\u001b[0m\u001b[0;34m(\u001b[0m\u001b[0mhandler\u001b[0m\u001b[0;34m,\u001b[0m \u001b[0mmeth_name\u001b[0m\u001b[0;34m)\u001b[0m\u001b[0;34m\u001b[0m\u001b[0m\n\u001b[0;32m--> 443\u001b[0;31m             \u001b[0mresult\u001b[0m \u001b[0;34m=\u001b[0m \u001b[0mfunc\u001b[0m\u001b[0;34m(\u001b[0m\u001b[0;34m*\u001b[0m\u001b[0margs\u001b[0m\u001b[0;34m)\u001b[0m\u001b[0;34m\u001b[0m\u001b[0m\n\u001b[0m\u001b[1;32m    444\u001b[0m             \u001b[0;32mif\u001b[0m \u001b[0mresult\u001b[0m \u001b[0;32mis\u001b[0m \u001b[0;32mnot\u001b[0m \u001b[0;32mNone\u001b[0m\u001b[0;34m:\u001b[0m\u001b[0;34m\u001b[0m\u001b[0m\n\u001b[1;32m    445\u001b[0m                 \u001b[0;32mreturn\u001b[0m \u001b[0mresult\u001b[0m\u001b[0;34m\u001b[0m\u001b[0m\n",
            "\u001b[0;32m~/anaconda3_410/lib/python3.5/urllib/request.py\u001b[0m in \u001b[0;36mhttps_open\u001b[0;34m(self, req)\u001b[0m\n\u001b[1;32m   1281\u001b[0m         \u001b[0;32mdef\u001b[0m \u001b[0mhttps_open\u001b[0m\u001b[0;34m(\u001b[0m\u001b[0mself\u001b[0m\u001b[0;34m,\u001b[0m \u001b[0mreq\u001b[0m\u001b[0;34m)\u001b[0m\u001b[0;34m:\u001b[0m\u001b[0;34m\u001b[0m\u001b[0m\n\u001b[1;32m   1282\u001b[0m             return self.do_open(http.client.HTTPSConnection, req,\n\u001b[0;32m-> 1283\u001b[0;31m                 context=self._context, check_hostname=self._check_hostname)\n\u001b[0m\u001b[1;32m   1284\u001b[0m \u001b[0;34m\u001b[0m\u001b[0m\n\u001b[1;32m   1285\u001b[0m         \u001b[0mhttps_request\u001b[0m \u001b[0;34m=\u001b[0m \u001b[0mAbstractHTTPHandler\u001b[0m\u001b[0;34m.\u001b[0m\u001b[0mdo_request_\u001b[0m\u001b[0;34m\u001b[0m\u001b[0m\n",
            "\u001b[0;32m~/anaconda3_410/lib/python3.5/urllib/request.py\u001b[0m in \u001b[0;36mdo_open\u001b[0;34m(self, http_class, req, **http_conn_args)\u001b[0m\n\u001b[1;32m   1240\u001b[0m                 \u001b[0mh\u001b[0m\u001b[0;34m.\u001b[0m\u001b[0mrequest\u001b[0m\u001b[0;34m(\u001b[0m\u001b[0mreq\u001b[0m\u001b[0;34m.\u001b[0m\u001b[0mget_method\u001b[0m\u001b[0;34m(\u001b[0m\u001b[0;34m)\u001b[0m\u001b[0;34m,\u001b[0m \u001b[0mreq\u001b[0m\u001b[0;34m.\u001b[0m\u001b[0mselector\u001b[0m\u001b[0;34m,\u001b[0m \u001b[0mreq\u001b[0m\u001b[0;34m.\u001b[0m\u001b[0mdata\u001b[0m\u001b[0;34m,\u001b[0m \u001b[0mheaders\u001b[0m\u001b[0;34m)\u001b[0m\u001b[0;34m\u001b[0m\u001b[0m\n\u001b[1;32m   1241\u001b[0m             \u001b[0;32mexcept\u001b[0m \u001b[0mOSError\u001b[0m \u001b[0;32mas\u001b[0m \u001b[0merr\u001b[0m\u001b[0;34m:\u001b[0m \u001b[0;31m# timeout error\u001b[0m\u001b[0;34m\u001b[0m\u001b[0m\n\u001b[0;32m-> 1242\u001b[0;31m                 \u001b[0;32mraise\u001b[0m \u001b[0mURLError\u001b[0m\u001b[0;34m(\u001b[0m\u001b[0merr\u001b[0m\u001b[0;34m)\u001b[0m\u001b[0;34m\u001b[0m\u001b[0m\n\u001b[0m\u001b[1;32m   1243\u001b[0m             \u001b[0mr\u001b[0m \u001b[0;34m=\u001b[0m \u001b[0mh\u001b[0m\u001b[0;34m.\u001b[0m\u001b[0mgetresponse\u001b[0m\u001b[0;34m(\u001b[0m\u001b[0;34m)\u001b[0m\u001b[0;34m\u001b[0m\u001b[0m\n\u001b[1;32m   1244\u001b[0m         \u001b[0;32mexcept\u001b[0m\u001b[0;34m:\u001b[0m\u001b[0;34m\u001b[0m\u001b[0m\n",
            "\u001b[0;31mURLError\u001b[0m: <urlopen error Tunnel connection failed: 403 Forbidden>"
          ]
        }
      ]
    },
    {
      "cell_type": "code",
      "metadata": {
        "id": "uup56qpMqp5n",
        "colab_type": "code",
        "outputId": "b35fa061-da89-49f0-f72a-441ec86bc376",
        "colab": {}
      },
      "source": [
        " record[0]['GBSeq_sequence']"
      ],
      "execution_count": 0,
      "outputs": [
        {
          "output_type": "error",
          "ename": "TypeError",
          "evalue": "'Blast' object does not support indexing",
          "traceback": [
            "\u001b[0;31m---------------------------------------------------------------------------\u001b[0m",
            "\u001b[0;31mTypeError\u001b[0m                                 Traceback (most recent call last)",
            "\u001b[0;32m<ipython-input-39-c703090a8121>\u001b[0m in \u001b[0;36m<module>\u001b[0;34m()\u001b[0m\n\u001b[0;32m----> 1\u001b[0;31m \u001b[0mrecord\u001b[0m\u001b[0;34m[\u001b[0m\u001b[0;36m0\u001b[0m\u001b[0;34m]\u001b[0m\u001b[0;34m[\u001b[0m\u001b[0;34m'GBSeq_sequence'\u001b[0m\u001b[0;34m]\u001b[0m\u001b[0;34m\u001b[0m\u001b[0m\n\u001b[0m",
            "\u001b[0;31mTypeError\u001b[0m: 'Blast' object does not support indexing"
          ]
        }
      ]
    },
    {
      "cell_type": "code",
      "metadata": {
        "id": "9ws5T7_Kqp5o",
        "colab_type": "code",
        "outputId": "0922e023-700a-48a1-99c8-b51bc39ee69b",
        "colab": {}
      },
      "source": [
        " record[0]['GBSeq_organism']"
      ],
      "execution_count": 0,
      "outputs": [
        {
          "output_type": "error",
          "ename": "NameError",
          "evalue": "name 'record' is not defined",
          "traceback": [
            "\u001b[0;31m---------------------------------------------------------------------------\u001b[0m",
            "\u001b[0;31mNameError\u001b[0m                                 Traceback (most recent call last)",
            "\u001b[0;32m<ipython-input-54-c73572f43209>\u001b[0m in \u001b[0;36m<module>\u001b[0;34m()\u001b[0m\n\u001b[0;32m----> 1\u001b[0;31m \u001b[0mrecord\u001b[0m\u001b[0;34m[\u001b[0m\u001b[0;36m0\u001b[0m\u001b[0;34m]\u001b[0m\u001b[0;34m[\u001b[0m\u001b[0;34m'GBSeq_organism'\u001b[0m\u001b[0;34m]\u001b[0m\u001b[0;34m\u001b[0m\u001b[0m\n\u001b[0m",
            "\u001b[0;31mNameError\u001b[0m: name 'record' is not defined"
          ]
        }
      ]
    },
    {
      "cell_type": "code",
      "metadata": {
        "id": "mTXY8tfFqp5q",
        "colab_type": "code",
        "outputId": "8dbd2de9-cd01-4ce7-ebc9-071f27f42e6e",
        "colab": {}
      },
      "source": [
        "from Bio.PDB.PDBParser import PDBParser\n",
        "pdbfn = '../../samples/1FAT.pdb'\n",
        "parser = PDBParser(PERMISSIVE=1)\n",
        "structure = parser.get_structure(\"1fat\", pdbfn)"
      ],
      "execution_count": 0,
      "outputs": [
        {
          "output_type": "error",
          "ename": "FileNotFoundError",
          "evalue": "[Errno 2] No such file or directory: '../../samples/1FAT.pdb'",
          "traceback": [
            "\u001b[0;31m---------------------------------------------------------------------------\u001b[0m",
            "\u001b[0;31mFileNotFoundError\u001b[0m                         Traceback (most recent call last)",
            "\u001b[0;32m<ipython-input-55-4de6d5ff5db9>\u001b[0m in \u001b[0;36m<module>\u001b[0;34m()\u001b[0m\n\u001b[1;32m      2\u001b[0m \u001b[0mpdbfn\u001b[0m \u001b[0;34m=\u001b[0m \u001b[0;34m'../../samples/1FAT.pdb'\u001b[0m\u001b[0;34m\u001b[0m\u001b[0m\n\u001b[1;32m      3\u001b[0m \u001b[0mparser\u001b[0m \u001b[0;34m=\u001b[0m \u001b[0mPDBParser\u001b[0m\u001b[0;34m(\u001b[0m\u001b[0mPERMISSIVE\u001b[0m\u001b[0;34m=\u001b[0m\u001b[0;36m1\u001b[0m\u001b[0;34m)\u001b[0m\u001b[0;34m\u001b[0m\u001b[0m\n\u001b[0;32m----> 4\u001b[0;31m \u001b[0mstructure\u001b[0m \u001b[0;34m=\u001b[0m \u001b[0mparser\u001b[0m\u001b[0;34m.\u001b[0m\u001b[0mget_structure\u001b[0m\u001b[0;34m(\u001b[0m\u001b[0;34m\"1fat\"\u001b[0m\u001b[0;34m,\u001b[0m \u001b[0mpdbfn\u001b[0m\u001b[0;34m)\u001b[0m\u001b[0;34m\u001b[0m\u001b[0m\n\u001b[0m",
            "\u001b[0;32m~/anaconda3_410/lib/python3.5/site-packages/Bio/PDB/PDBParser.py\u001b[0m in \u001b[0;36mget_structure\u001b[0;34m(self, id, file)\u001b[0m\n\u001b[1;32m     79\u001b[0m             \u001b[0mself\u001b[0m\u001b[0;34m.\u001b[0m\u001b[0mstructure_builder\u001b[0m\u001b[0;34m.\u001b[0m\u001b[0minit_structure\u001b[0m\u001b[0;34m(\u001b[0m\u001b[0mid\u001b[0m\u001b[0;34m)\u001b[0m\u001b[0;34m\u001b[0m\u001b[0m\n\u001b[1;32m     80\u001b[0m \u001b[0;34m\u001b[0m\u001b[0m\n\u001b[0;32m---> 81\u001b[0;31m             \u001b[0;32mwith\u001b[0m \u001b[0mas_handle\u001b[0m\u001b[0;34m(\u001b[0m\u001b[0mfile\u001b[0m\u001b[0;34m,\u001b[0m \u001b[0mmode\u001b[0m\u001b[0;34m=\u001b[0m\u001b[0;34m'rU'\u001b[0m\u001b[0;34m)\u001b[0m \u001b[0;32mas\u001b[0m \u001b[0mhandle\u001b[0m\u001b[0;34m:\u001b[0m\u001b[0;34m\u001b[0m\u001b[0m\n\u001b[0m\u001b[1;32m     82\u001b[0m                 \u001b[0mself\u001b[0m\u001b[0;34m.\u001b[0m\u001b[0m_parse\u001b[0m\u001b[0;34m(\u001b[0m\u001b[0mhandle\u001b[0m\u001b[0;34m.\u001b[0m\u001b[0mreadlines\u001b[0m\u001b[0;34m(\u001b[0m\u001b[0;34m)\u001b[0m\u001b[0;34m)\u001b[0m\u001b[0;34m\u001b[0m\u001b[0m\n\u001b[1;32m     83\u001b[0m \u001b[0;34m\u001b[0m\u001b[0m\n",
            "\u001b[0;32m~/anaconda3_410/lib/python3.5/contextlib.py\u001b[0m in \u001b[0;36m__enter__\u001b[0;34m(self)\u001b[0m\n\u001b[1;32m     57\u001b[0m     \u001b[0;32mdef\u001b[0m \u001b[0m__enter__\u001b[0m\u001b[0;34m(\u001b[0m\u001b[0mself\u001b[0m\u001b[0;34m)\u001b[0m\u001b[0;34m:\u001b[0m\u001b[0;34m\u001b[0m\u001b[0m\n\u001b[1;32m     58\u001b[0m         \u001b[0;32mtry\u001b[0m\u001b[0;34m:\u001b[0m\u001b[0;34m\u001b[0m\u001b[0m\n\u001b[0;32m---> 59\u001b[0;31m             \u001b[0;32mreturn\u001b[0m \u001b[0mnext\u001b[0m\u001b[0;34m(\u001b[0m\u001b[0mself\u001b[0m\u001b[0;34m.\u001b[0m\u001b[0mgen\u001b[0m\u001b[0;34m)\u001b[0m\u001b[0;34m\u001b[0m\u001b[0m\n\u001b[0m\u001b[1;32m     60\u001b[0m         \u001b[0;32mexcept\u001b[0m \u001b[0mStopIteration\u001b[0m\u001b[0;34m:\u001b[0m\u001b[0;34m\u001b[0m\u001b[0m\n\u001b[1;32m     61\u001b[0m             \u001b[0;32mraise\u001b[0m \u001b[0mRuntimeError\u001b[0m\u001b[0;34m(\u001b[0m\u001b[0;34m\"generator didn't yield\"\u001b[0m\u001b[0;34m)\u001b[0m \u001b[0;32mfrom\u001b[0m \u001b[0;32mNone\u001b[0m\u001b[0;34m\u001b[0m\u001b[0m\n",
            "\u001b[0;32m~/anaconda3_410/lib/python3.5/site-packages/Bio/File.py\u001b[0m in \u001b[0;36mas_handle\u001b[0;34m(handleish, mode, **kwargs)\u001b[0m\n\u001b[1;32m     86\u001b[0m                 \u001b[0;32myield\u001b[0m \u001b[0mfp\u001b[0m\u001b[0;34m\u001b[0m\u001b[0m\n\u001b[1;32m     87\u001b[0m         \u001b[0;32melse\u001b[0m\u001b[0;34m:\u001b[0m\u001b[0;34m\u001b[0m\u001b[0m\n\u001b[0;32m---> 88\u001b[0;31m             \u001b[0;32mwith\u001b[0m \u001b[0mopen\u001b[0m\u001b[0;34m(\u001b[0m\u001b[0mhandleish\u001b[0m\u001b[0;34m,\u001b[0m \u001b[0mmode\u001b[0m\u001b[0;34m,\u001b[0m \u001b[0;34m**\u001b[0m\u001b[0mkwargs\u001b[0m\u001b[0;34m)\u001b[0m \u001b[0;32mas\u001b[0m \u001b[0mfp\u001b[0m\u001b[0;34m:\u001b[0m\u001b[0;34m\u001b[0m\u001b[0m\n\u001b[0m\u001b[1;32m     89\u001b[0m                 \u001b[0;32myield\u001b[0m \u001b[0mfp\u001b[0m\u001b[0;34m\u001b[0m\u001b[0m\n\u001b[1;32m     90\u001b[0m     \u001b[0;32melse\u001b[0m\u001b[0;34m:\u001b[0m\u001b[0;34m\u001b[0m\u001b[0m\n",
            "\u001b[0;31mFileNotFoundError\u001b[0m: [Errno 2] No such file or directory: '../../samples/1FAT.pdb'"
          ]
        }
      ]
    },
    {
      "cell_type": "code",
      "metadata": {
        "id": "EL6YqNEzqp5r",
        "colab_type": "code",
        "outputId": "c1ed6676-4ab0-4abf-fb08-f7447ebe96ae",
        "colab": {}
      },
      "source": [
        " structure.child_list"
      ],
      "execution_count": 0,
      "outputs": [
        {
          "output_type": "error",
          "ename": "NameError",
          "evalue": "name 'structure' is not defined",
          "traceback": [
            "\u001b[0;31m---------------------------------------------------------------------------\u001b[0m",
            "\u001b[0;31mNameError\u001b[0m                                 Traceback (most recent call last)",
            "\u001b[0;32m<ipython-input-56-d701d5a86fa3>\u001b[0m in \u001b[0;36m<module>\u001b[0;34m()\u001b[0m\n\u001b[0;32m----> 1\u001b[0;31m \u001b[0mstructure\u001b[0m\u001b[0;34m.\u001b[0m\u001b[0mchild_list\u001b[0m\u001b[0;34m\u001b[0m\u001b[0m\n\u001b[0m",
            "\u001b[0;31mNameError\u001b[0m: name 'structure' is not defined"
          ]
        }
      ]
    },
    {
      "cell_type": "code",
      "metadata": {
        "id": "zMYlrsP1qp5u",
        "colab_type": "code",
        "outputId": "b8b7ec03-8b32-473b-de9a-3fd52be6e862",
        "colab": {}
      },
      "source": [
        "model = structure[0]\n",
        "model.child_list"
      ],
      "execution_count": 0,
      "outputs": [
        {
          "output_type": "error",
          "ename": "NameError",
          "evalue": "name 'structure' is not defined",
          "traceback": [
            "\u001b[0;31m---------------------------------------------------------------------------\u001b[0m",
            "\u001b[0;31mNameError\u001b[0m                                 Traceback (most recent call last)",
            "\u001b[0;32m<ipython-input-57-cdef636cb7c2>\u001b[0m in \u001b[0;36m<module>\u001b[0;34m()\u001b[0m\n\u001b[0;32m----> 1\u001b[0;31m \u001b[0mmodel\u001b[0m \u001b[0;34m=\u001b[0m \u001b[0mstructure\u001b[0m\u001b[0;34m[\u001b[0m\u001b[0;36m0\u001b[0m\u001b[0;34m]\u001b[0m\u001b[0;34m\u001b[0m\u001b[0m\n\u001b[0m\u001b[1;32m      2\u001b[0m \u001b[0mmodel\u001b[0m\u001b[0;34m.\u001b[0m\u001b[0mchild_list\u001b[0m\u001b[0;34m\u001b[0m\u001b[0m\n",
            "\u001b[0;31mNameError\u001b[0m: name 'structure' is not defined"
          ]
        }
      ]
    },
    {
      "cell_type": "code",
      "metadata": {
        "id": "Ms1qifv9qp5w",
        "colab_type": "code",
        "outputId": "ec981cf7-230c-4d8d-fbb2-c11613661c18",
        "colab": {}
      },
      "source": [
        "chain = model['B']\n",
        "chain.child_list[:5]\n"
      ],
      "execution_count": 0,
      "outputs": [
        {
          "output_type": "error",
          "ename": "NameError",
          "evalue": "name 'model' is not defined",
          "traceback": [
            "\u001b[0;31m---------------------------------------------------------------------------\u001b[0m",
            "\u001b[0;31mNameError\u001b[0m                                 Traceback (most recent call last)",
            "\u001b[0;32m<ipython-input-58-5dad86bfc928>\u001b[0m in \u001b[0;36m<module>\u001b[0;34m()\u001b[0m\n\u001b[0;32m----> 1\u001b[0;31m \u001b[0mchain\u001b[0m \u001b[0;34m=\u001b[0m \u001b[0mmodel\u001b[0m\u001b[0;34m[\u001b[0m\u001b[0;34m'B'\u001b[0m\u001b[0;34m]\u001b[0m\u001b[0;34m\u001b[0m\u001b[0m\n\u001b[0m\u001b[1;32m      2\u001b[0m \u001b[0mchain\u001b[0m\u001b[0;34m.\u001b[0m\u001b[0mchild_list\u001b[0m\u001b[0;34m[\u001b[0m\u001b[0;34m:\u001b[0m\u001b[0;36m5\u001b[0m\u001b[0;34m]\u001b[0m\u001b[0;34m\u001b[0m\u001b[0m\n",
            "\u001b[0;31mNameError\u001b[0m: name 'model' is not defined"
          ]
        }
      ]
    },
    {
      "cell_type": "code",
      "metadata": {
        "id": "F_HYg8keqp5x",
        "colab_type": "code",
        "outputId": "7940b04e-d4ea-4906-906b-46271ea0a500",
        "colab": {}
      },
      "source": [
        "residue = chain[4]\n",
        "residue.child_list"
      ],
      "execution_count": 0,
      "outputs": [
        {
          "output_type": "error",
          "ename": "NameError",
          "evalue": "name 'chain' is not defined",
          "traceback": [
            "\u001b[0;31m---------------------------------------------------------------------------\u001b[0m",
            "\u001b[0;31mNameError\u001b[0m                                 Traceback (most recent call last)",
            "\u001b[0;32m<ipython-input-59-d70b59c6a6e4>\u001b[0m in \u001b[0;36m<module>\u001b[0;34m()\u001b[0m\n\u001b[0;32m----> 1\u001b[0;31m \u001b[0mresidue\u001b[0m \u001b[0;34m=\u001b[0m \u001b[0mchain\u001b[0m\u001b[0;34m[\u001b[0m\u001b[0;36m4\u001b[0m\u001b[0;34m]\u001b[0m\u001b[0;34m\u001b[0m\u001b[0m\n\u001b[0m\u001b[1;32m      2\u001b[0m \u001b[0mresidue\u001b[0m\u001b[0;34m.\u001b[0m\u001b[0mchild_list\u001b[0m\u001b[0;34m\u001b[0m\u001b[0m\n",
            "\u001b[0;31mNameError\u001b[0m: name 'chain' is not defined"
          ]
        }
      ]
    },
    {
      "cell_type": "code",
      "metadata": {
        "id": "dj3-ZsFiqp5y",
        "colab_type": "code",
        "outputId": "bb5d504f-6c4d-4873-dbc4-4b890da999ab",
        "colab": {}
      },
      "source": [
        "atom = residue['CB']\n",
        "atom.bfactor"
      ],
      "execution_count": 0,
      "outputs": [
        {
          "output_type": "error",
          "ename": "NameError",
          "evalue": "name 'residue' is not defined",
          "traceback": [
            "\u001b[0;31m---------------------------------------------------------------------------\u001b[0m",
            "\u001b[0;31mNameError\u001b[0m                                 Traceback (most recent call last)",
            "\u001b[0;32m<ipython-input-60-1d1231137c9c>\u001b[0m in \u001b[0;36m<module>\u001b[0;34m()\u001b[0m\n\u001b[0;32m----> 1\u001b[0;31m \u001b[0matom\u001b[0m \u001b[0;34m=\u001b[0m \u001b[0mresidue\u001b[0m\u001b[0;34m[\u001b[0m\u001b[0;34m'CB'\u001b[0m\u001b[0;34m]\u001b[0m\u001b[0;34m\u001b[0m\u001b[0m\n\u001b[0m\u001b[1;32m      2\u001b[0m \u001b[0matom\u001b[0m\u001b[0;34m.\u001b[0m\u001b[0mbfactor\u001b[0m\u001b[0;34m\u001b[0m\u001b[0m\n",
            "\u001b[0;31mNameError\u001b[0m: name 'residue' is not defined"
          ]
        }
      ]
    },
    {
      "cell_type": "markdown",
      "metadata": {
        "id": "17Jxmu06qp51",
        "colab_type": "text"
      },
      "source": [
        "**Listing 9.14:** pdb2.py: Parse a gzipped PDB file"
      ]
    },
    {
      "cell_type": "code",
      "metadata": {
        "id": "p2wNJnLwqp52",
        "colab_type": "code",
        "outputId": "3aaa710c-4d15-489f-a28d-bc5ed0ecbbfa",
        "colab": {}
      },
      "source": [
        "import gzip\n",
        "import io\n",
        "from Bio.PDB.PDBParser import PDBParser\n",
        "\n",
        "def disorder(structure):\n",
        "   for chain in structure[0].get_list():\n",
        "       for residue in chain.get_list():\n",
        "           for atom in residue.get_list():\n",
        "               if atom.is_disordered():\n",
        "                   print(residue, atom)\n",
        "   return None\n",
        "\n",
        "pdbfn = 'samples/pdb1apk.ent.gz'\n",
        "handle = gzip.GzipFile(pdbfn)\n",
        "handle = io.StringIO(handle.read().decode('utf-8'))\n",
        "parser = PDBParser()\n",
        "structure = parser.get_structure('test', handle)\n",
        "disorder(structure)"
      ],
      "execution_count": 0,
      "outputs": [
        {
          "output_type": "stream",
          "text": [
            "<Residue CMP het=H_CMP resseq=401 icode= > <Disordered Atom P>\n",
            "<Residue CMP het=H_CMP resseq=401 icode= > <Disordered Atom O1P>\n",
            "<Residue CMP het=H_CMP resseq=401 icode= > <Disordered Atom O2P>\n",
            "<Residue CMP het=H_CMP resseq=401 icode= > <Disordered Atom O5*>\n",
            "<Residue CMP het=H_CMP resseq=401 icode= > <Disordered Atom C5*>\n",
            "<Residue CMP het=H_CMP resseq=401 icode= > <Disordered Atom C4*>\n",
            "<Residue CMP het=H_CMP resseq=401 icode= > <Disordered Atom O4*>\n",
            "<Residue CMP het=H_CMP resseq=401 icode= > <Disordered Atom C3*>\n",
            "<Residue CMP het=H_CMP resseq=401 icode= > <Disordered Atom O3*>\n",
            "<Residue CMP het=H_CMP resseq=401 icode= > <Disordered Atom C2*>\n",
            "<Residue CMP het=H_CMP resseq=401 icode= > <Disordered Atom O2*>\n",
            "<Residue CMP het=H_CMP resseq=401 icode= > <Disordered Atom C1*>\n",
            "<Residue CMP het=H_CMP resseq=401 icode= > <Disordered Atom N9>\n",
            "<Residue CMP het=H_CMP resseq=401 icode= > <Disordered Atom C8>\n",
            "<Residue CMP het=H_CMP resseq=401 icode= > <Disordered Atom N7>\n",
            "<Residue CMP het=H_CMP resseq=401 icode= > <Disordered Atom C5>\n",
            "<Residue CMP het=H_CMP resseq=401 icode= > <Disordered Atom C6>\n",
            "<Residue CMP het=H_CMP resseq=401 icode= > <Disordered Atom N6>\n",
            "<Residue CMP het=H_CMP resseq=401 icode= > <Disordered Atom N1>\n",
            "<Residue CMP het=H_CMP resseq=401 icode= > <Disordered Atom C2>\n",
            "<Residue CMP het=H_CMP resseq=401 icode= > <Disordered Atom N3>\n",
            "<Residue CMP het=H_CMP resseq=401 icode= > <Disordered Atom C4>\n"
          ],
          "name": "stdout"
        }
      ]
    },
    {
      "cell_type": "markdown",
      "metadata": {
        "collapsed": false,
        "id": "rzV-hwrrqp54",
        "colab_type": "text"
      },
      "source": [
        "PROSITE\n",
        "------"
      ]
    },
    {
      "cell_type": "code",
      "metadata": {
        "id": "yOlQdnJ1qp54",
        "colab_type": "code",
        "outputId": "b4c63015-598a-48f2-bd07-9320de177e1a",
        "colab": {}
      },
      "source": [
        "from Bio import Prosite\n",
        "handle = open(\"prosite.dat\")\n",
        "records = Prosite.parse(handle)\n",
        "for r in records:\n",
        "    print(r.accession)\n",
        "    print(r.name)\n",
        "    print(r.description)\n",
        "    print(r.pattern)\n",
        "    print(r.created)\n",
        "    print(r.pdoc)\n",
        "    print(\"===================================\")"
      ],
      "execution_count": 0,
      "outputs": [
        {
          "output_type": "error",
          "ename": "ImportError",
          "evalue": "cannot import name 'Prosite'",
          "traceback": [
            "\u001b[0;31m---------------------------------------------------------------------------\u001b[0m",
            "\u001b[0;31mImportError\u001b[0m                               Traceback (most recent call last)",
            "\u001b[0;32m<ipython-input-41-f430b19be190>\u001b[0m in \u001b[0;36m<module>\u001b[0;34m()\u001b[0m\n\u001b[0;32m----> 1\u001b[0;31m \u001b[0;32mfrom\u001b[0m \u001b[0mBio\u001b[0m \u001b[0;32mimport\u001b[0m \u001b[0mProsite\u001b[0m\u001b[0;34m\u001b[0m\u001b[0m\n\u001b[0m\u001b[1;32m      2\u001b[0m \u001b[0mhandle\u001b[0m \u001b[0;34m=\u001b[0m \u001b[0mopen\u001b[0m\u001b[0;34m(\u001b[0m\u001b[0;34m\"samples/prosite.dat\"\u001b[0m\u001b[0;34m)\u001b[0m\u001b[0;34m\u001b[0m\u001b[0m\n\u001b[1;32m      3\u001b[0m \u001b[0mrecords\u001b[0m \u001b[0;34m=\u001b[0m \u001b[0mProsite\u001b[0m\u001b[0;34m.\u001b[0m\u001b[0mparse\u001b[0m\u001b[0;34m(\u001b[0m\u001b[0mhandle\u001b[0m\u001b[0;34m)\u001b[0m\u001b[0;34m\u001b[0m\u001b[0m\n\u001b[1;32m      4\u001b[0m \u001b[0;32mfor\u001b[0m \u001b[0mr\u001b[0m \u001b[0;32min\u001b[0m \u001b[0mrecords\u001b[0m\u001b[0;34m:\u001b[0m\u001b[0;34m\u001b[0m\u001b[0m\n\u001b[1;32m      5\u001b[0m     \u001b[0mprint\u001b[0m\u001b[0;34m(\u001b[0m\u001b[0mr\u001b[0m\u001b[0;34m.\u001b[0m\u001b[0maccession\u001b[0m\u001b[0;34m)\u001b[0m\u001b[0;34m\u001b[0m\u001b[0m\n",
            "\u001b[0;31mImportError\u001b[0m: cannot import name 'Prosite'"
          ]
        }
      ]
    },
    {
      "cell_type": "code",
      "metadata": {
        "scrolled": true,
        "id": "7RH2d7P9qp56",
        "colab_type": "code",
        "outputId": "ad0ac292-97a6-48ca-d46d-7544b0335fe1",
        "colab": {}
      },
      "source": [
        "from Bio import Restriction\n",
        "Restriction.EcoRI"
      ],
      "execution_count": 0,
      "outputs": [
        {
          "output_type": "error",
          "ename": "AttributeError",
          "evalue": "type object 'RestrictionType' has no attribute 'size'",
          "traceback": [
            "\u001b[0;31m---------------------------------------------------------------------------\u001b[0m",
            "\u001b[0;31mAttributeError\u001b[0m                            Traceback (most recent call last)",
            "\u001b[0;32m~/anaconda3_410/lib/python3.5/site-packages/IPython/core/formatters.py\u001b[0m in \u001b[0;36m__call__\u001b[0;34m(self, obj)\u001b[0m\n\u001b[1;32m    898\u001b[0m             \u001b[0;31m# lookup registered printer\u001b[0m\u001b[0;34m\u001b[0m\u001b[0;34m\u001b[0m\u001b[0m\n\u001b[1;32m    899\u001b[0m             \u001b[0;32mtry\u001b[0m\u001b[0;34m:\u001b[0m\u001b[0;34m\u001b[0m\u001b[0m\n\u001b[0;32m--> 900\u001b[0;31m                 \u001b[0mprinter\u001b[0m \u001b[0;34m=\u001b[0m \u001b[0mself\u001b[0m\u001b[0;34m.\u001b[0m\u001b[0mlookup\u001b[0m\u001b[0;34m(\u001b[0m\u001b[0mobj\u001b[0m\u001b[0;34m)\u001b[0m\u001b[0;34m\u001b[0m\u001b[0m\n\u001b[0m\u001b[1;32m    901\u001b[0m             \u001b[0;32mexcept\u001b[0m \u001b[0mKeyError\u001b[0m\u001b[0;34m:\u001b[0m\u001b[0;34m\u001b[0m\u001b[0m\n\u001b[1;32m    902\u001b[0m                 \u001b[0;32mpass\u001b[0m\u001b[0;34m\u001b[0m\u001b[0m\n",
            "\u001b[0;32m~/anaconda3_410/lib/python3.5/site-packages/IPython/core/formatters.py\u001b[0m in \u001b[0;36mlookup\u001b[0;34m(self, obj)\u001b[0m\n\u001b[1;32m    384\u001b[0m             \u001b[0;32mreturn\u001b[0m \u001b[0mself\u001b[0m\u001b[0;34m.\u001b[0m\u001b[0msingleton_printers\u001b[0m\u001b[0;34m[\u001b[0m\u001b[0mobj_id\u001b[0m\u001b[0;34m]\u001b[0m\u001b[0;34m\u001b[0m\u001b[0m\n\u001b[1;32m    385\u001b[0m         \u001b[0;31m# then lookup by type\u001b[0m\u001b[0;34m\u001b[0m\u001b[0;34m\u001b[0m\u001b[0m\n\u001b[0;32m--> 386\u001b[0;31m         \u001b[0;32mreturn\u001b[0m \u001b[0mself\u001b[0m\u001b[0;34m.\u001b[0m\u001b[0mlookup_by_type\u001b[0m\u001b[0;34m(\u001b[0m\u001b[0m_get_type\u001b[0m\u001b[0;34m(\u001b[0m\u001b[0mobj\u001b[0m\u001b[0;34m)\u001b[0m\u001b[0;34m)\u001b[0m\u001b[0;34m\u001b[0m\u001b[0m\n\u001b[0m\u001b[1;32m    387\u001b[0m \u001b[0;34m\u001b[0m\u001b[0m\n\u001b[1;32m    388\u001b[0m     \u001b[0;32mdef\u001b[0m \u001b[0mlookup_by_type\u001b[0m\u001b[0;34m(\u001b[0m\u001b[0mself\u001b[0m\u001b[0;34m,\u001b[0m \u001b[0mtyp\u001b[0m\u001b[0;34m)\u001b[0m\u001b[0;34m:\u001b[0m\u001b[0;34m\u001b[0m\u001b[0m\n",
            "\u001b[0;32m~/anaconda3_410/lib/python3.5/site-packages/IPython/core/formatters.py\u001b[0m in \u001b[0;36m_get_type\u001b[0;34m(obj)\u001b[0m\n\u001b[1;32m    265\u001b[0m \u001b[0;32mdef\u001b[0m \u001b[0m_get_type\u001b[0m\u001b[0;34m(\u001b[0m\u001b[0mobj\u001b[0m\u001b[0;34m)\u001b[0m\u001b[0;34m:\u001b[0m\u001b[0;34m\u001b[0m\u001b[0m\n\u001b[1;32m    266\u001b[0m     \u001b[0;34m\"\"\"Return the type of an instance (old and new-style)\"\"\"\u001b[0m\u001b[0;34m\u001b[0m\u001b[0m\n\u001b[0;32m--> 267\u001b[0;31m     \u001b[0;32mreturn\u001b[0m \u001b[0mgetattr\u001b[0m\u001b[0;34m(\u001b[0m\u001b[0mobj\u001b[0m\u001b[0;34m,\u001b[0m \u001b[0;34m'__class__'\u001b[0m\u001b[0;34m,\u001b[0m \u001b[0;32mNone\u001b[0m\u001b[0;34m)\u001b[0m \u001b[0;32mor\u001b[0m \u001b[0mtype\u001b[0m\u001b[0;34m(\u001b[0m\u001b[0mobj\u001b[0m\u001b[0;34m)\u001b[0m\u001b[0;34m\u001b[0m\u001b[0m\n\u001b[0m\u001b[1;32m    268\u001b[0m \u001b[0;34m\u001b[0m\u001b[0m\n\u001b[1;32m    269\u001b[0m \u001b[0;34m\u001b[0m\u001b[0m\n",
            "\u001b[0;32m~/anaconda3_410/lib/python3.5/site-packages/Bio/Restriction/Restriction.py\u001b[0m in \u001b[0;36m__len__\u001b[0;34m(cls)\u001b[0m\n\u001b[1;32m    338\u001b[0m \u001b[0;34m\u001b[0m\u001b[0m\n\u001b[1;32m    339\u001b[0m         length of the recognition site.\"\"\"\n\u001b[0;32m--> 340\u001b[0;31m         \u001b[0;32mreturn\u001b[0m \u001b[0mcls\u001b[0m\u001b[0;34m.\u001b[0m\u001b[0msize\u001b[0m\u001b[0;34m\u001b[0m\u001b[0m\n\u001b[0m\u001b[1;32m    341\u001b[0m \u001b[0;34m\u001b[0m\u001b[0m\n\u001b[1;32m    342\u001b[0m     \u001b[0;32mdef\u001b[0m \u001b[0m__hash__\u001b[0m\u001b[0;34m(\u001b[0m\u001b[0mcls\u001b[0m\u001b[0;34m)\u001b[0m\u001b[0;34m:\u001b[0m\u001b[0;34m\u001b[0m\u001b[0m\n",
            "\u001b[0;31mAttributeError\u001b[0m: type object 'RestrictionType' has no attribute 'size'"
          ]
        },
        {
          "output_type": "error",
          "ename": "AttributeError",
          "evalue": "type object 'RestrictionType' has no attribute 'size'",
          "traceback": [
            "\u001b[0;31m---------------------------------------------------------------------------\u001b[0m",
            "\u001b[0;31mAttributeError\u001b[0m                            Traceback (most recent call last)",
            "\u001b[0;32m~/anaconda3_410/lib/python3.5/site-packages/IPython/core/formatters.py\u001b[0m in \u001b[0;36m__call__\u001b[0;34m(self, obj, include, exclude)\u001b[0m\n\u001b[1;32m    950\u001b[0m             \u001b[0;31m# lookup registered printer\u001b[0m\u001b[0;34m\u001b[0m\u001b[0;34m\u001b[0m\u001b[0m\n\u001b[1;32m    951\u001b[0m             \u001b[0;32mtry\u001b[0m\u001b[0;34m:\u001b[0m\u001b[0;34m\u001b[0m\u001b[0m\n\u001b[0;32m--> 952\u001b[0;31m                 \u001b[0mprinter\u001b[0m \u001b[0;34m=\u001b[0m \u001b[0mself\u001b[0m\u001b[0;34m.\u001b[0m\u001b[0mlookup\u001b[0m\u001b[0;34m(\u001b[0m\u001b[0mobj\u001b[0m\u001b[0;34m)\u001b[0m\u001b[0;34m\u001b[0m\u001b[0m\n\u001b[0m\u001b[1;32m    953\u001b[0m             \u001b[0;32mexcept\u001b[0m \u001b[0mKeyError\u001b[0m\u001b[0;34m:\u001b[0m\u001b[0;34m\u001b[0m\u001b[0m\n\u001b[1;32m    954\u001b[0m                 \u001b[0;32mpass\u001b[0m\u001b[0;34m\u001b[0m\u001b[0m\n",
            "\u001b[0;32m~/anaconda3_410/lib/python3.5/site-packages/IPython/core/formatters.py\u001b[0m in \u001b[0;36mlookup\u001b[0;34m(self, obj)\u001b[0m\n\u001b[1;32m    384\u001b[0m             \u001b[0;32mreturn\u001b[0m \u001b[0mself\u001b[0m\u001b[0;34m.\u001b[0m\u001b[0msingleton_printers\u001b[0m\u001b[0;34m[\u001b[0m\u001b[0mobj_id\u001b[0m\u001b[0;34m]\u001b[0m\u001b[0;34m\u001b[0m\u001b[0m\n\u001b[1;32m    385\u001b[0m         \u001b[0;31m# then lookup by type\u001b[0m\u001b[0;34m\u001b[0m\u001b[0;34m\u001b[0m\u001b[0m\n\u001b[0;32m--> 386\u001b[0;31m         \u001b[0;32mreturn\u001b[0m \u001b[0mself\u001b[0m\u001b[0;34m.\u001b[0m\u001b[0mlookup_by_type\u001b[0m\u001b[0;34m(\u001b[0m\u001b[0m_get_type\u001b[0m\u001b[0;34m(\u001b[0m\u001b[0mobj\u001b[0m\u001b[0;34m)\u001b[0m\u001b[0;34m)\u001b[0m\u001b[0;34m\u001b[0m\u001b[0m\n\u001b[0m\u001b[1;32m    387\u001b[0m \u001b[0;34m\u001b[0m\u001b[0m\n\u001b[1;32m    388\u001b[0m     \u001b[0;32mdef\u001b[0m \u001b[0mlookup_by_type\u001b[0m\u001b[0;34m(\u001b[0m\u001b[0mself\u001b[0m\u001b[0;34m,\u001b[0m \u001b[0mtyp\u001b[0m\u001b[0;34m)\u001b[0m\u001b[0;34m:\u001b[0m\u001b[0;34m\u001b[0m\u001b[0m\n",
            "\u001b[0;32m~/anaconda3_410/lib/python3.5/site-packages/IPython/core/formatters.py\u001b[0m in \u001b[0;36m_get_type\u001b[0;34m(obj)\u001b[0m\n\u001b[1;32m    265\u001b[0m \u001b[0;32mdef\u001b[0m \u001b[0m_get_type\u001b[0m\u001b[0;34m(\u001b[0m\u001b[0mobj\u001b[0m\u001b[0;34m)\u001b[0m\u001b[0;34m:\u001b[0m\u001b[0;34m\u001b[0m\u001b[0m\n\u001b[1;32m    266\u001b[0m     \u001b[0;34m\"\"\"Return the type of an instance (old and new-style)\"\"\"\u001b[0m\u001b[0;34m\u001b[0m\u001b[0m\n\u001b[0;32m--> 267\u001b[0;31m     \u001b[0;32mreturn\u001b[0m \u001b[0mgetattr\u001b[0m\u001b[0;34m(\u001b[0m\u001b[0mobj\u001b[0m\u001b[0;34m,\u001b[0m \u001b[0;34m'__class__'\u001b[0m\u001b[0;34m,\u001b[0m \u001b[0;32mNone\u001b[0m\u001b[0;34m)\u001b[0m \u001b[0;32mor\u001b[0m \u001b[0mtype\u001b[0m\u001b[0;34m(\u001b[0m\u001b[0mobj\u001b[0m\u001b[0;34m)\u001b[0m\u001b[0;34m\u001b[0m\u001b[0m\n\u001b[0m\u001b[1;32m    268\u001b[0m \u001b[0;34m\u001b[0m\u001b[0m\n\u001b[1;32m    269\u001b[0m \u001b[0;34m\u001b[0m\u001b[0m\n",
            "\u001b[0;32m~/anaconda3_410/lib/python3.5/site-packages/Bio/Restriction/Restriction.py\u001b[0m in \u001b[0;36m__len__\u001b[0;34m(cls)\u001b[0m\n\u001b[1;32m    338\u001b[0m \u001b[0;34m\u001b[0m\u001b[0m\n\u001b[1;32m    339\u001b[0m         length of the recognition site.\"\"\"\n\u001b[0;32m--> 340\u001b[0;31m         \u001b[0;32mreturn\u001b[0m \u001b[0mcls\u001b[0m\u001b[0;34m.\u001b[0m\u001b[0msize\u001b[0m\u001b[0;34m\u001b[0m\u001b[0m\n\u001b[0m\u001b[1;32m    341\u001b[0m \u001b[0;34m\u001b[0m\u001b[0m\n\u001b[1;32m    342\u001b[0m     \u001b[0;32mdef\u001b[0m \u001b[0m__hash__\u001b[0m\u001b[0;34m(\u001b[0m\u001b[0mcls\u001b[0m\u001b[0;34m)\u001b[0m\u001b[0;34m:\u001b[0m\u001b[0;34m\u001b[0m\u001b[0m\n",
            "\u001b[0;31mAttributeError\u001b[0m: type object 'RestrictionType' has no attribute 'size'"
          ]
        },
        {
          "output_type": "error",
          "ename": "TypeError",
          "evalue": "'NoneType' object is not iterable",
          "traceback": [
            "\u001b[0;31m---------------------------------------------------------------------------\u001b[0m",
            "\u001b[0;31mTypeError\u001b[0m                                 Traceback (most recent call last)",
            "\u001b[0;32m<ipython-input-65-d1ade7dd61b4>\u001b[0m in \u001b[0;36m<module>\u001b[0;34m()\u001b[0m\n\u001b[1;32m      1\u001b[0m \u001b[0;32mfrom\u001b[0m \u001b[0mBio\u001b[0m \u001b[0;32mimport\u001b[0m \u001b[0mRestriction\u001b[0m\u001b[0;34m\u001b[0m\u001b[0m\n\u001b[0;32m----> 2\u001b[0;31m \u001b[0mRestriction\u001b[0m\u001b[0;34m.\u001b[0m\u001b[0mEcoRI\u001b[0m\u001b[0;34m\u001b[0m\u001b[0m\n\u001b[0m",
            "\u001b[0;32m~/anaconda3_410/lib/python3.5/site-packages/IPython/core/displayhook.py\u001b[0m in \u001b[0;36m__call__\u001b[0;34m(self, result)\u001b[0m\n\u001b[1;32m    255\u001b[0m             \u001b[0mself\u001b[0m\u001b[0;34m.\u001b[0m\u001b[0mstart_displayhook\u001b[0m\u001b[0;34m(\u001b[0m\u001b[0;34m)\u001b[0m\u001b[0;34m\u001b[0m\u001b[0m\n\u001b[1;32m    256\u001b[0m             \u001b[0mself\u001b[0m\u001b[0;34m.\u001b[0m\u001b[0mwrite_output_prompt\u001b[0m\u001b[0;34m(\u001b[0m\u001b[0;34m)\u001b[0m\u001b[0;34m\u001b[0m\u001b[0m\n\u001b[0;32m--> 257\u001b[0;31m             \u001b[0mformat_dict\u001b[0m\u001b[0;34m,\u001b[0m \u001b[0mmd_dict\u001b[0m \u001b[0;34m=\u001b[0m \u001b[0mself\u001b[0m\u001b[0;34m.\u001b[0m\u001b[0mcompute_format_data\u001b[0m\u001b[0;34m(\u001b[0m\u001b[0mresult\u001b[0m\u001b[0;34m)\u001b[0m\u001b[0;34m\u001b[0m\u001b[0m\n\u001b[0m\u001b[1;32m    258\u001b[0m             \u001b[0mself\u001b[0m\u001b[0;34m.\u001b[0m\u001b[0mupdate_user_ns\u001b[0m\u001b[0;34m(\u001b[0m\u001b[0mresult\u001b[0m\u001b[0;34m)\u001b[0m\u001b[0;34m\u001b[0m\u001b[0m\n\u001b[1;32m    259\u001b[0m             \u001b[0mself\u001b[0m\u001b[0;34m.\u001b[0m\u001b[0mfill_exec_result\u001b[0m\u001b[0;34m(\u001b[0m\u001b[0mresult\u001b[0m\u001b[0;34m)\u001b[0m\u001b[0;34m\u001b[0m\u001b[0m\n",
            "\u001b[0;32m~/anaconda3_410/lib/python3.5/site-packages/IPython/core/displayhook.py\u001b[0m in \u001b[0;36mcompute_format_data\u001b[0;34m(self, result)\u001b[0m\n\u001b[1;32m    149\u001b[0m \u001b[0;34m\u001b[0m\u001b[0m\n\u001b[1;32m    150\u001b[0m         \"\"\"\n\u001b[0;32m--> 151\u001b[0;31m         \u001b[0;32mreturn\u001b[0m \u001b[0mself\u001b[0m\u001b[0;34m.\u001b[0m\u001b[0mshell\u001b[0m\u001b[0;34m.\u001b[0m\u001b[0mdisplay_formatter\u001b[0m\u001b[0;34m.\u001b[0m\u001b[0mformat\u001b[0m\u001b[0;34m(\u001b[0m\u001b[0mresult\u001b[0m\u001b[0;34m)\u001b[0m\u001b[0;34m\u001b[0m\u001b[0m\n\u001b[0m\u001b[1;32m    152\u001b[0m \u001b[0;34m\u001b[0m\u001b[0m\n\u001b[1;32m    153\u001b[0m     \u001b[0;31m# This can be set to True by the write_output_prompt method in a subclass\u001b[0m\u001b[0;34m\u001b[0m\u001b[0;34m\u001b[0m\u001b[0m\n",
            "\u001b[0;32m~/anaconda3_410/lib/python3.5/site-packages/IPython/core/formatters.py\u001b[0m in \u001b[0;36mformat\u001b[0;34m(self, obj, include, exclude)\u001b[0m\n\u001b[1;32m    148\u001b[0m             \u001b[0;32mreturn\u001b[0m \u001b[0;34m{\u001b[0m\u001b[0;34m}\u001b[0m\u001b[0;34m,\u001b[0m \u001b[0;34m{\u001b[0m\u001b[0;34m}\u001b[0m\u001b[0;34m\u001b[0m\u001b[0m\n\u001b[1;32m    149\u001b[0m \u001b[0;34m\u001b[0m\u001b[0m\n\u001b[0;32m--> 150\u001b[0;31m         \u001b[0mformat_dict\u001b[0m\u001b[0;34m,\u001b[0m \u001b[0mmd_dict\u001b[0m \u001b[0;34m=\u001b[0m \u001b[0mself\u001b[0m\u001b[0;34m.\u001b[0m\u001b[0mmimebundle_formatter\u001b[0m\u001b[0;34m(\u001b[0m\u001b[0mobj\u001b[0m\u001b[0;34m,\u001b[0m \u001b[0minclude\u001b[0m\u001b[0;34m=\u001b[0m\u001b[0minclude\u001b[0m\u001b[0;34m,\u001b[0m \u001b[0mexclude\u001b[0m\u001b[0;34m=\u001b[0m\u001b[0mexclude\u001b[0m\u001b[0;34m)\u001b[0m\u001b[0;34m\u001b[0m\u001b[0m\n\u001b[0m\u001b[1;32m    151\u001b[0m \u001b[0;34m\u001b[0m\u001b[0m\n\u001b[1;32m    152\u001b[0m         \u001b[0;32mif\u001b[0m \u001b[0mformat_dict\u001b[0m \u001b[0;32mor\u001b[0m \u001b[0mmd_dict\u001b[0m\u001b[0;34m:\u001b[0m\u001b[0;34m\u001b[0m\u001b[0m\n",
            "\u001b[0;31mTypeError\u001b[0m: 'NoneType' object is not iterable"
          ]
        }
      ]
    },
    {
      "cell_type": "code",
      "metadata": {
        "scrolled": false,
        "id": "sYA_jcHGqp57",
        "colab_type": "code",
        "outputId": "ade883e9-10eb-42f0-a9b5-89d11dd7c0ad",
        "colab": {}
      },
      "source": [
        "from Bio.Seq import Seq\n",
        "from Bio.Alphabet.IUPAC import IUPACAmbiguousDNA\n",
        "alfa = IUPACAmbiguousDNA()\n",
        "gi1942535 = Seq('CGCGAATTCGCG', alfa\n",
        "Restriction.EcoRI.search(gi1942535)"
      ],
      "execution_count": 0,
      "outputs": [
        {
          "output_type": "error",
          "ename": "SyntaxError",
          "evalue": "invalid syntax (<ipython-input-66-0cf64976e820>, line 5)",
          "traceback": [
            "\u001b[0;36m  File \u001b[0;32m\"<ipython-input-66-0cf64976e820>\"\u001b[0;36m, line \u001b[0;32m5\u001b[0m\n\u001b[0;31m    Restriction.EcoRI.search(gi1942535)\u001b[0m\n\u001b[0m              ^\u001b[0m\n\u001b[0;31mSyntaxError\u001b[0m\u001b[0;31m:\u001b[0m invalid syntax\n"
          ]
        }
      ]
    },
    {
      "cell_type": "code",
      "metadata": {
        "id": "FtKEk1Yqqp58",
        "colab_type": "code",
        "outputId": "3a2e8d24-8571-4daa-c9b3-1ceb1de06cee",
        "colab": {}
      },
      "source": [
        "Restriction.EcoRI.catalyse(gi1942535)"
      ],
      "execution_count": 0,
      "outputs": [
        {
          "output_type": "error",
          "ename": "NameError",
          "evalue": "name 'gi1942535' is not defined",
          "traceback": [
            "\u001b[0;31m---------------------------------------------------------------------------\u001b[0m",
            "\u001b[0;31mNameError\u001b[0m                                 Traceback (most recent call last)",
            "\u001b[0;32m<ipython-input-67-85cb48112d5a>\u001b[0m in \u001b[0;36m<module>\u001b[0;34m()\u001b[0m\n\u001b[0;32m----> 1\u001b[0;31m \u001b[0mRestriction\u001b[0m\u001b[0;34m.\u001b[0m\u001b[0mEcoRI\u001b[0m\u001b[0;34m.\u001b[0m\u001b[0mcatalyse\u001b[0m\u001b[0;34m(\u001b[0m\u001b[0mgi1942535\u001b[0m\u001b[0;34m)\u001b[0m\u001b[0;34m\u001b[0m\u001b[0m\n\u001b[0m",
            "\u001b[0;31mNameError\u001b[0m: name 'gi1942535' is not defined"
          ]
        }
      ]
    },
    {
      "cell_type": "code",
      "metadata": {
        "id": "c9b2QU8sqp59",
        "colab_type": "code",
        "outputId": "eeedc993-1924-4b4e-a94d-5d219b67f2db",
        "colab": {}
      },
      "source": [
        "enz1 = Restriction.EcoRI\n",
        "enz2 = Restriction.HindIII\n",
        "batch1 = Restriction.RestrictionBatch([enz1, enz2])\n",
        "batch1.search(gi1942535)"
      ],
      "execution_count": 0,
      "outputs": [
        {
          "output_type": "error",
          "ename": "NameError",
          "evalue": "name 'gi1942535' is not defined",
          "traceback": [
            "\u001b[0;31m---------------------------------------------------------------------------\u001b[0m",
            "\u001b[0;31mNameError\u001b[0m                                 Traceback (most recent call last)",
            "\u001b[0;32m<ipython-input-68-1ece0b7bd974>\u001b[0m in \u001b[0;36m<module>\u001b[0;34m()\u001b[0m\n\u001b[1;32m      2\u001b[0m \u001b[0menz2\u001b[0m \u001b[0;34m=\u001b[0m \u001b[0mRestriction\u001b[0m\u001b[0;34m.\u001b[0m\u001b[0mHindIII\u001b[0m\u001b[0;34m\u001b[0m\u001b[0m\n\u001b[1;32m      3\u001b[0m \u001b[0mbatch1\u001b[0m \u001b[0;34m=\u001b[0m \u001b[0mRestriction\u001b[0m\u001b[0;34m.\u001b[0m\u001b[0mRestrictionBatch\u001b[0m\u001b[0;34m(\u001b[0m\u001b[0;34m[\u001b[0m\u001b[0menz1\u001b[0m\u001b[0;34m,\u001b[0m \u001b[0menz2\u001b[0m\u001b[0;34m]\u001b[0m\u001b[0;34m)\u001b[0m\u001b[0;34m\u001b[0m\u001b[0m\n\u001b[0;32m----> 4\u001b[0;31m \u001b[0mbatch1\u001b[0m\u001b[0;34m.\u001b[0m\u001b[0msearch\u001b[0m\u001b[0;34m(\u001b[0m\u001b[0mgi1942535\u001b[0m\u001b[0;34m)\u001b[0m\u001b[0;34m\u001b[0m\u001b[0m\n\u001b[0m",
            "\u001b[0;31mNameError\u001b[0m: name 'gi1942535' is not defined"
          ]
        }
      ]
    },
    {
      "cell_type": "code",
      "metadata": {
        "id": "4eWbkN9Tqp5_",
        "colab_type": "code",
        "outputId": "7c8e3f64-8251-4fbd-9eb7-54899c3fbc71",
        "colab": {}
      },
      "source": [
        "dd = batch1.search(gi1942535)\n",
        "dd.get(Restriction.EcoRI)"
      ],
      "execution_count": 0,
      "outputs": [
        {
          "output_type": "error",
          "ename": "NameError",
          "evalue": "name 'gi1942535' is not defined",
          "traceback": [
            "\u001b[0;31m---------------------------------------------------------------------------\u001b[0m",
            "\u001b[0;31mNameError\u001b[0m                                 Traceback (most recent call last)",
            "\u001b[0;32m<ipython-input-69-48e6daf6cc61>\u001b[0m in \u001b[0;36m<module>\u001b[0;34m()\u001b[0m\n\u001b[0;32m----> 1\u001b[0;31m \u001b[0mdd\u001b[0m \u001b[0;34m=\u001b[0m \u001b[0mbatch1\u001b[0m\u001b[0;34m.\u001b[0m\u001b[0msearch\u001b[0m\u001b[0;34m(\u001b[0m\u001b[0mgi1942535\u001b[0m\u001b[0;34m)\u001b[0m\u001b[0;34m\u001b[0m\u001b[0m\n\u001b[0m\u001b[1;32m      2\u001b[0m \u001b[0mdd\u001b[0m\u001b[0;34m.\u001b[0m\u001b[0mget\u001b[0m\u001b[0;34m(\u001b[0m\u001b[0mRestriction\u001b[0m\u001b[0;34m.\u001b[0m\u001b[0mEcoRI\u001b[0m\u001b[0;34m)\u001b[0m\u001b[0;34m\u001b[0m\u001b[0m\n",
            "\u001b[0;31mNameError\u001b[0m: name 'gi1942535' is not defined"
          ]
        }
      ]
    },
    {
      "cell_type": "code",
      "metadata": {
        "id": "na2BHYYUqp6A",
        "colab_type": "code",
        "outputId": "0ebadd8c-d3ed-4e7d-dd26-52a08fc0d00d",
        "colab": {}
      },
      "source": [
        " dd.get(Restriction.HindIII)"
      ],
      "execution_count": 0,
      "outputs": [
        {
          "output_type": "error",
          "ename": "NameError",
          "evalue": "name 'dd' is not defined",
          "traceback": [
            "\u001b[0;31m---------------------------------------------------------------------------\u001b[0m",
            "\u001b[0;31mNameError\u001b[0m                                 Traceback (most recent call last)",
            "\u001b[0;32m<ipython-input-70-101f0133affd>\u001b[0m in \u001b[0;36m<module>\u001b[0;34m()\u001b[0m\n\u001b[0;32m----> 1\u001b[0;31m \u001b[0mdd\u001b[0m\u001b[0;34m.\u001b[0m\u001b[0mget\u001b[0m\u001b[0;34m(\u001b[0m\u001b[0mRestriction\u001b[0m\u001b[0;34m.\u001b[0m\u001b[0mHindIII\u001b[0m\u001b[0;34m)\u001b[0m\u001b[0;34m\u001b[0m\u001b[0m\n\u001b[0m",
            "\u001b[0;31mNameError\u001b[0m: name 'dd' is not defined"
          ]
        }
      ]
    },
    {
      "cell_type": "code",
      "metadata": {
        "id": "vX4QNtA-qp6C",
        "colab_type": "code",
        "outputId": "9f892747-2d91-44b5-c640-272dbd89b11c",
        "colab": {}
      },
      "source": [
        "batch1.add(Restriction.EarI)\n",
        "batch1"
      ],
      "execution_count": 0,
      "outputs": [
        {
          "output_type": "execute_result",
          "data": {
            "text/plain": [
              "RestrictionBatch(['EarI', 'EcoRI', 'HindIII'])"
            ]
          },
          "metadata": {
            "tags": []
          },
          "execution_count": 71
        }
      ]
    },
    {
      "cell_type": "code",
      "metadata": {
        "id": "uG_CDCOpqp6D",
        "colab_type": "code",
        "outputId": "02814efa-565e-464e-bd47-3fc1a4ddff35",
        "colab": {}
      },
      "source": [
        "batch1.remove(Restriction.EarI)\n",
        "batch1"
      ],
      "execution_count": 0,
      "outputs": [
        {
          "output_type": "execute_result",
          "data": {
            "text/plain": [
              "RestrictionBatch(['EcoRI', 'HindIII'])"
            ]
          },
          "metadata": {
            "tags": []
          },
          "execution_count": 72
        }
      ]
    },
    {
      "cell_type": "code",
      "metadata": {
        "collapsed": true,
        "id": "gy7FHyJjqp6E",
        "colab_type": "code",
        "colab": {}
      },
      "source": [
        "batch2 = Restriction.CommOnly"
      ],
      "execution_count": 0,
      "outputs": []
    },
    {
      "cell_type": "code",
      "metadata": {
        "id": "P11AdPG0qp6H",
        "colab_type": "code",
        "outputId": "4bb33573-9eb1-4bac-9009-6e076ffd5c01",
        "colab": {}
      },
      "source": [
        "an1 = Restriction.Analysis(batch1,gi1942535)\n",
        "an1.full()    "
      ],
      "execution_count": 0,
      "outputs": [
        {
          "output_type": "error",
          "ename": "NameError",
          "evalue": "name 'gi1942535' is not defined",
          "traceback": [
            "\u001b[0;31m---------------------------------------------------------------------------\u001b[0m",
            "\u001b[0;31mNameError\u001b[0m                                 Traceback (most recent call last)",
            "\u001b[0;32m<ipython-input-74-9fb55de7d8a8>\u001b[0m in \u001b[0;36m<module>\u001b[0;34m()\u001b[0m\n\u001b[0;32m----> 1\u001b[0;31m \u001b[0man1\u001b[0m \u001b[0;34m=\u001b[0m \u001b[0mRestriction\u001b[0m\u001b[0;34m.\u001b[0m\u001b[0mAnalysis\u001b[0m\u001b[0;34m(\u001b[0m\u001b[0mbatch1\u001b[0m\u001b[0;34m,\u001b[0m\u001b[0mgi1942535\u001b[0m\u001b[0;34m)\u001b[0m\u001b[0;34m\u001b[0m\u001b[0m\n\u001b[0m\u001b[1;32m      2\u001b[0m \u001b[0man1\u001b[0m\u001b[0;34m.\u001b[0m\u001b[0mfull\u001b[0m\u001b[0;34m(\u001b[0m\u001b[0;34m)\u001b[0m\u001b[0;34m\u001b[0m\u001b[0m\n",
            "\u001b[0;31mNameError\u001b[0m: name 'gi1942535' is not defined"
          ]
        }
      ]
    },
    {
      "cell_type": "code",
      "metadata": {
        "id": "fcjhSbQaqp6I",
        "colab_type": "code",
        "outputId": "fdbe97e6-11f9-49c4-d291-9cacc9bd3c58",
        "colab": {}
      },
      "source": [
        "an1.print_that()"
      ],
      "execution_count": 0,
      "outputs": [
        {
          "output_type": "error",
          "ename": "NameError",
          "evalue": "name 'an1' is not defined",
          "traceback": [
            "\u001b[0;31m---------------------------------------------------------------------------\u001b[0m",
            "\u001b[0;31mNameError\u001b[0m                                 Traceback (most recent call last)",
            "\u001b[0;32m<ipython-input-75-bf5011dba735>\u001b[0m in \u001b[0;36m<module>\u001b[0;34m()\u001b[0m\n\u001b[0;32m----> 1\u001b[0;31m \u001b[0man1\u001b[0m\u001b[0;34m.\u001b[0m\u001b[0mprint_that\u001b[0m\u001b[0;34m(\u001b[0m\u001b[0;34m)\u001b[0m\u001b[0;34m\u001b[0m\u001b[0m\n\u001b[0m",
            "\u001b[0;31mNameError\u001b[0m: name 'an1' is not defined"
          ]
        }
      ]
    },
    {
      "cell_type": "code",
      "metadata": {
        "id": "hWTxZkw4qp6K",
        "colab_type": "code",
        "outputId": "23d40085-aa47-411f-af46-900c0b598272",
        "colab": {}
      },
      "source": [
        "an1.print_as('map')\n",
        "an1.print_that()"
      ],
      "execution_count": 0,
      "outputs": [
        {
          "output_type": "error",
          "ename": "NameError",
          "evalue": "name 'an1' is not defined",
          "traceback": [
            "\u001b[0;31m---------------------------------------------------------------------------\u001b[0m",
            "\u001b[0;31mNameError\u001b[0m                                 Traceback (most recent call last)",
            "\u001b[0;32m<ipython-input-76-aca600616942>\u001b[0m in \u001b[0;36m<module>\u001b[0;34m()\u001b[0m\n\u001b[0;32m----> 1\u001b[0;31m \u001b[0man1\u001b[0m\u001b[0;34m.\u001b[0m\u001b[0mprint_as\u001b[0m\u001b[0;34m(\u001b[0m\u001b[0;34m'map'\u001b[0m\u001b[0;34m)\u001b[0m\u001b[0;34m\u001b[0m\u001b[0m\n\u001b[0m\u001b[1;32m      2\u001b[0m \u001b[0man1\u001b[0m\u001b[0;34m.\u001b[0m\u001b[0mprint_that\u001b[0m\u001b[0;34m(\u001b[0m\u001b[0;34m)\u001b[0m\u001b[0;34m\u001b[0m\u001b[0m\n",
            "\u001b[0;31mNameError\u001b[0m: name 'an1' is not defined"
          ]
        }
      ]
    },
    {
      "cell_type": "code",
      "metadata": {
        "id": "Zg8NDsEdqp6M",
        "colab_type": "code",
        "outputId": "d2f0003c-23eb-4b0a-8f96-51286098f06b",
        "colab": {}
      },
      "source": [
        "an1.only_between(1,8)"
      ],
      "execution_count": 0,
      "outputs": [
        {
          "output_type": "error",
          "ename": "NameError",
          "evalue": "name 'an1' is not defined",
          "traceback": [
            "\u001b[0;31m---------------------------------------------------------------------------\u001b[0m",
            "\u001b[0;31mNameError\u001b[0m                                 Traceback (most recent call last)",
            "\u001b[0;32m<ipython-input-77-9273daac5302>\u001b[0m in \u001b[0;36m<module>\u001b[0;34m()\u001b[0m\n\u001b[0;32m----> 1\u001b[0;31m \u001b[0man1\u001b[0m\u001b[0;34m.\u001b[0m\u001b[0monly_between\u001b[0m\u001b[0;34m(\u001b[0m\u001b[0;36m1\u001b[0m\u001b[0;34m,\u001b[0m\u001b[0;36m8\u001b[0m\u001b[0;34m)\u001b[0m\u001b[0;34m\u001b[0m\u001b[0m\n\u001b[0m",
            "\u001b[0;31mNameError\u001b[0m: name 'an1' is not defined"
          ]
        }
      ]
    },
    {
      "cell_type": "markdown",
      "metadata": {
        "id": "_ara5F6Sqp6P",
        "colab_type": "text"
      },
      "source": [
        "DNA Utils\n",
        "--------"
      ]
    },
    {
      "cell_type": "code",
      "metadata": {
        "id": "Wr8-m2ceqp6P",
        "colab_type": "code",
        "outputId": "9a9d29f4-37dd-4289-c827-fd2d74777812",
        "colab": {}
      },
      "source": [
        "from Bio.SeqUtils import GC\n",
        "GC('gacgatcggtattcgtag')    "
      ],
      "execution_count": 0,
      "outputs": [
        {
          "output_type": "execute_result",
          "data": {
            "text/plain": [
              "50.0"
            ]
          },
          "metadata": {
            "tags": []
          },
          "execution_count": 78
        }
      ]
    },
    {
      "cell_type": "code",
      "metadata": {
        "id": "pvlRDfsSqp6Q",
        "colab_type": "code",
        "outputId": "4be7e17a-46f7-403a-decf-f15cd26b5a29",
        "colab": {}
      },
      "source": [
        "from Bio.SeqUtils import MeltingTemp\n",
        "MeltingTemp.Tm_staluc('tgcagtacgtatcgt')"
      ],
      "execution_count": 0,
      "outputs": [
        {
          "output_type": "execute_result",
          "data": {
            "text/plain": [
              "42.211472744873504"
            ]
          },
          "metadata": {
            "tags": []
          },
          "execution_count": 79
        }
      ]
    },
    {
      "cell_type": "code",
      "metadata": {
        "id": "aNaFh5_zqp6V",
        "colab_type": "code",
        "outputId": "629a5379-76cc-4eac-8687-bc4070d4f2fe",
        "colab": {}
      },
      "source": [
        " print('%.2f'%MeltingTemp.Tm_staluc('tgcagtacgtatcgt'))"
      ],
      "execution_count": 0,
      "outputs": [
        {
          "output_type": "stream",
          "text": [
            "42.21\n"
          ],
          "name": "stdout"
        }
      ]
    },
    {
      "cell_type": "code",
      "metadata": {
        "id": "A4TPK_9vqp6W",
        "colab_type": "code",
        "outputId": "789a7168-e442-4314-9008-33fc3a5d7443",
        "colab": {}
      },
      "source": [
        "from Bio.SeqUtils import CheckSum\n",
        "myseq = 'acaagatgccattgtcccccggcctcctgctgctgct'\n",
        "CheckSum.gcg(myseq)"
      ],
      "execution_count": 0,
      "outputs": [
        {
          "output_type": "execute_result",
          "data": {
            "text/plain": [
              "1149"
            ]
          },
          "metadata": {
            "tags": []
          },
          "execution_count": 81
        }
      ]
    },
    {
      "cell_type": "code",
      "metadata": {
        "id": "ghMp6AbCqp6X",
        "colab_type": "code",
        "outputId": "43d471c0-6728-4738-b847-7355cd57a20b",
        "colab": {}
      },
      "source": [
        "CheckSum.crc32(myseq)"
      ],
      "execution_count": 0,
      "outputs": [
        {
          "output_type": "execute_result",
          "data": {
            "text/plain": [
              "2188528553"
            ]
          },
          "metadata": {
            "tags": []
          },
          "execution_count": 82
        }
      ]
    },
    {
      "cell_type": "code",
      "metadata": {
        "id": "MqRVzBjDqp6Y",
        "colab_type": "code",
        "outputId": "97779633-97ba-46bf-b5e1-70c49a529319",
        "colab": {}
      },
      "source": [
        "CheckSum.crc64(myseq)"
      ],
      "execution_count": 0,
      "outputs": [
        {
          "output_type": "execute_result",
          "data": {
            "text/plain": [
              "'CRC-A2CFDBE6AB3F7CFF'"
            ]
          },
          "metadata": {
            "tags": []
          },
          "execution_count": 83
        }
      ]
    },
    {
      "cell_type": "code",
      "metadata": {
        "id": "P_clMHVSqp6a",
        "colab_type": "code",
        "outputId": "1689f77b-97b9-4917-928d-de6659eac04e",
        "colab": {}
      },
      "source": [
        "CheckSum.seguid(myseq)"
      ],
      "execution_count": 0,
      "outputs": [
        {
          "output_type": "execute_result",
          "data": {
            "text/plain": [
              "'9V7Kf19tfPA5TntEP75YiZEm/9U'"
            ]
          },
          "metadata": {
            "tags": []
          },
          "execution_count": 84
        }
      ]
    },
    {
      "cell_type": "markdown",
      "metadata": {
        "id": "wiMt--ohqp6f",
        "colab_type": "text"
      },
      "source": [
        "Protein Utils\n",
        "------------"
      ]
    },
    {
      "cell_type": "markdown",
      "metadata": {
        "id": "iDRmiRPwqp6f",
        "colab_type": "text"
      },
      "source": [
        "**Listing 9.15:** protparam.py: Apply PropParam functions to a group of proteins"
      ]
    },
    {
      "cell_type": "code",
      "metadata": {
        "id": "s7fRm5VYqp6f",
        "colab_type": "code",
        "outputId": "d25e8f74-3e9b-4868-a1b6-20c1012b52d1",
        "colab": {}
      },
      "source": [
        "from Bio.SeqUtils.ProtParam import ProteinAnalysis\n",
        "from Bio.SeqUtils import ProtParamData\n",
        "from Bio import SeqIO\n",
        "with open('samples/pdbaa') as fh:\n",
        "   for rec in SeqIO.parse(fh,'fasta'):\n",
        "       myprot = ProteinAnalysis(str(rec.seq))\n",
        "       print(myprot.count_amino_acids())\n",
        "       print(myprot.get_amino_acids_percent())\n",
        "       print(myprot.molecular_weight())\n",
        "       print(myprot.aromaticity())\n",
        "       print(myprot.instability_index())\n",
        "       print(myprot.flexibility())\n",
        "       print(myprot.isoelectric_point())\n",
        "       print(myprot.secondary_structure_fraction())\n",
        "       print(myprot.protein_scale(ProtParamData.kd, 9, .4))"
      ],
      "execution_count": 0,
      "outputs": [
        {
          "output_type": "stream",
          "text": [
            "{'F': 9, 'L': 14, 'E': 8, 'P': 10, 'W': 0, 'T': 8, 'S': 10, 'C': 4, 'M': 2, 'R': 3, 'D': 10, 'V': 5, 'K': 5, 'I': 8, 'G': 17, 'Q': 6, 'A': 21, 'N': 7, 'H': 2, 'Y': 6}\n",
            "{'F': 0.05806451612903226, 'L': 0.09032258064516129, 'E': 0.05161290322580645, 'P': 0.06451612903225806, 'W': 0.0, 'T': 0.05161290322580645, 'S': 0.06451612903225806, 'C': 0.025806451612903226, 'A': 0.13548387096774195, 'R': 0.01935483870967742, 'V': 0.03225806451612903, 'K': 0.03225806451612903, 'D': 0.06451612903225806, 'G': 0.10967741935483871, 'I': 0.05161290322580645, 'M': 0.012903225806451613, 'Q': 0.03870967741935484, 'N': 0.04516129032258064, 'Y': 0.03870967741935484, 'H': 0.012903225806451613}\n",
            "16229.94529999999\n",
            "0.0967741935483871\n",
            "24.29296774193547\n",
            "[0.9806904761904762, 0.9747380952380953, 0.9736309523809523, 0.9731666666666666, 0.9723214285714286, 0.9627857142857142, 0.9687261904761906, 0.9978095238095237, 0.9725357142857143, 0.9962976190476192, 0.9756785714285715, 0.9804047619047621, 0.9990357142857142, 0.9922738095238095, 1.0118214285714284, 0.994952380952381, 1.0277380952380952, 1.0255595238095236, 1.025940476190476, 1.0314047619047617, 1.0173571428571428, 1.0322976190476187, 1.0175595238095236, 1.0404999999999998, 1.0345357142857143, 1.039142857142857, 1.0288095238095236, 1.029095238095238, 1.007190476190476, 1.0084642857142858, 1.0409285714285714, 0.9997023809523808, 0.9804285714285713, 1.0271071428571428, 0.9733809523809525, 1.0080833333333334, 1.0070714285714284, 0.9620238095238095, 1.019654761904762, 0.9772380952380954, 1.0241785714285716, 1.0411666666666668, 1.0220119047619047, 1.0562619047619048, 1.0377619047619047, 1.0362380952380952, 1.024547619047619, 0.9999404761904762, 1.0366666666666668, 0.9613928571428572, 0.9879880952380953, 1.0067857142857142, 0.9654642857142858, 1.0309404761904761, 0.9722857142857142, 1.034857142857143, 1.0209880952380952, 1.037309523809524, 1.0384285714285715, 1.0170119047619048, 1.0420476190476191, 1.0058333333333334, 0.9839880952380953, 0.9882380952380952, 0.9777023809523809, 1.0239404761904762, 0.9789880952380953, 1.0188928571428573, 1.0196785714285714, 1.0247023809523808, 1.0242142857142855, 1.0051309523809526, 1.0394999999999999, 1.0123690476190477, 1.006892857142857, 0.9717738095238095, 0.9819761904761903, 0.9960357142857144, 0.9679404761904762, 1.0179642857142857, 1.0187738095238097, 1.0123690476190477, 1.0336428571428573, 0.9850119047619049, 1.0187857142857144, 0.9749880952380954, 0.9962380952380953, 0.9750833333333334, 1.0134880952380954, 1.0111666666666668, 1.016547619047619, 1.0445952380952381, 1.0191190476190475, 1.0043333333333333, 1.040547619047619, 0.9689166666666666, 1.0015119047619048, 0.9681190476190477, 0.9917023809523811, 0.954845238095238, 0.9682738095238096, 0.9792261904761904, 1.0062142857142857, 0.955654761904762, 0.9979285714285714, 0.9649642857142859, 0.9873095238095237, 0.9620952380952381, 0.9854166666666666, 0.9481190476190478, 0.9725595238095239, 1.0014285714285713, 0.985202380952381, 1.0025, 1.0097976190476192, 0.9656904761904761, 0.9811190476190477, 0.9878928571428572, 0.9589166666666668, 0.9564523809523809, 0.9862619047619047, 0.9728571428571429, 0.9961904761904761, 0.997047619047619, 0.981952380952381, 1.0157738095238096, 0.9982500000000001, 0.9570119047619047, 0.9787261904761904, 0.9712261904761904, 1.0082738095238095, 0.9964285714285714, 1.0068333333333332, 1.0208333333333333, 1.0215714285714284, 1.0059166666666666, 0.9991904761904761, 0.9748690476190477, 0.9808928571428571, 0.9740595238095238, 1.0061071428571429, 0.9897261904761905, 0.9809047619047621, 1.0318571428571428, 1.0225000000000002, 1.0103690476190477]\n",
            "4.33868408203125\n",
            "(0.27096774193548384, 0.2838709677419355, 0.2903225806451613)\n",
            "[1.4166666666666667, 1.53, 2.004166666666667, 2.066666666666667, 2.111666666666667, 1.9983333333333333, 1.845, 1.7, 1.6383333333333334, 1.6033333333333335, 1.5683333333333334, 1.3533333333333333, 1.3716666666666668, 1.275, 0.9133333333333332, 0.6549999999999999, 0.3116666666666667, -0.1733333333333333, -0.4375, -0.43999999999999995, -0.4175, -0.5766666666666668, -0.7141666666666667, -0.7791666666666668, -1.1908333333333332, -1.2433333333333334, -1.405833333333333, -1.6025, -1.9083333333333332, -1.4066666666666665, -1.4608333333333334, -0.9650000000000002, -0.5283333333333333, -0.18583333333333338, -0.048333333333333485, 0.0949999999999999, 0.49833333333333324, 0.24916666666666684, -0.31833333333333336, -0.44416666666666665, -1.0325, -1.6933333333333334, -1.7441666666666666, -1.9800000000000002, -1.5341666666666667, -1.7691666666666668, -1.2858333333333334, -0.5858333333333334, -0.5025000000000001, -0.19250000000000012, -0.1516666666666667, 0.15333333333333332, 0.03916666666666657, -0.12750000000000017, -0.18833333333333338, -0.34750000000000014, -0.6925, -0.8800000000000002, -1.2783333333333335, -0.8825, -0.6349999999999999, -0.1825000000000001, 0.0708333333333332, 0.7291666666666666, 0.8016666666666667, 0.2883333333333333, -0.045000000000000075, -0.38000000000000006, -0.7199999999999999, -1.055, -1.0525, -0.8575, -0.525, 0.008333333333333415, 0.29999999999999993, 0.6608333333333333, 0.9758333333333332, 0.6791666666666666, 0.5699999999999998, 0.19583333333333344, -0.13499999999999995, -1.0999999999999999, -1.4233333333333336, -1.3741666666666665, -1.1024999999999998, -0.7941666666666668, -0.16166666666666676, 0.13749999999999976, 0.2124999999999999, -0.17916666666666672, -0.3708333333333334, -1.1183333333333334, -1.4016666666666666, -1.5249999999999997, -1.0083333333333333, -0.6583333333333333, 0.11666666666666654, 0.6425, 0.8049999999999997, 0.49833333333333324, 0.6899999999999998, 0.1566666666666667, 0.06999999999999984, 0.06666666666666665, 0.73, 0.79, 1.3808333333333334, 1.625, 1.7391666666666665, 1.2216666666666665, 0.9966666666666666, 0.23, 0.15249999999999994, 0.03916666666666685, 0.09416666666666663, -0.15833333333333344, 0.3049999999999999, 0.06916666666666667, 0.0033333333333332993, -0.15916666666666668, -0.05249999999999999, -0.2216666666666666, -0.1675000000000001, -0.20416666666666675, 0.19833333333333333, 0.48666666666666675, 0.9183333333333331, 0.6574999999999999, 0.6208333333333331, 0.3466666666666667, -0.4250000000000001, -1.0125, -1.2858333333333334, -1.7516666666666667, -1.7141666666666666, -1.2133333333333332, -0.19499999999999995, 0.3499999999999998, 0.9349999999999999, 1.4941666666666666, 1.4116666666666664, 0.86, 0.7316666666666668, 0.22750000000000017, -0.1550000000000001, -0.6733333333333333, -0.30500000000000005]\n",
            "{'F': 22, 'L': 62, 'E': 12, 'P': 22, 'W': 4, 'T': 26, 'S': 23, 'C': 4, 'M': 11, 'R': 10, 'D': 10, 'V': 44, 'K': 14, 'I': 47, 'G': 44, 'Q': 5, 'A': 44, 'N': 10, 'H': 12, 'Y': 9}\n",
            "{'F': 0.05057471264367816, 'L': 0.1425287356321839, 'E': 0.027586206896551724, 'P': 0.05057471264367816, 'W': 0.009195402298850575, 'T': 0.059770114942528735, 'S': 0.052873563218390804, 'C': 0.009195402298850575, 'A': 0.10114942528735632, 'R': 0.022988505747126436, 'V': 0.10114942528735632, 'K': 0.03218390804597701, 'D': 0.022988505747126436, 'G': 0.10114942528735632, 'I': 0.10804597701149425, 'M': 0.02528735632183908, 'Q': 0.011494252873563218, 'N': 0.022988505747126436, 'Y': 0.020689655172413793, 'H': 0.027586206896551724}\n",
            "45910.46060000002\n",
            "0.08045977011494253\n",
            "25.58666666666666\n",
            "[0.9745833333333335, 1.009797619047619, 0.9777142857142858, 1.0252261904761906, 1.0259880952380953, 1.0075952380952384, 1.0299880952380953, 1.0185, 0.9913214285714288, 0.996797619047619, 1.0089047619047617, 0.9798809523809524, 0.9723095238095238, 1.005345238095238, 0.9677142857142859, 1.00925, 0.9642500000000002, 0.9973452380952381, 0.9594880952380953, 0.9625476190476192, 0.9541428571428573, 0.9671309523809525, 0.9518333333333334, 0.9524761904761905, 0.98575, 0.9610238095238095, 0.9719642857142856, 0.9568690476190476, 0.966309523809524, 0.9622738095238096, 0.979952380952381, 0.9346666666666666, 0.9504642857142857, 0.9472142857142858, 0.9629047619047619, 0.9595238095238094, 0.9943690476190477, 0.9840476190476191, 0.9757976190476191, 0.9870714285714286, 0.9628571428571429, 0.9690238095238095, 0.9628809523809524, 0.9561904761904761, 0.9919642857142857, 0.9748571428571428, 0.9639404761904762, 1.0021666666666664, 0.9747738095238095, 0.9617857142857146, 0.9582619047619048, 0.9458809523809525, 0.940309523809524, 0.9347023809523811, 0.9465595238095238, 0.9572261904761904, 1.0137142857142858, 0.9856785714285712, 1.024309523809524, 0.9815476190476189, 1.0295, 0.9903690476190476, 0.9813928571428573, 0.9894047619047621, 1.0036785714285714, 0.996, 0.9907619047619048, 0.9602023809523809, 0.992547619047619, 0.9657619047619048, 0.9745, 0.9929166666666669, 0.973392857142857, 0.9505119047619048, 0.9642380952380953, 0.96225, 0.9588095238095237, 0.9582380952380954, 0.9818809523809525, 0.9534999999999999, 0.9981309523809524, 0.9674285714285715, 1.0178571428571428, 0.9599523809523811, 0.9963809523809524, 0.975857142857143, 0.997595238095238, 0.9789761904761904, 0.9459285714285715, 0.9650357142857141, 0.9615595238095238, 0.9450357142857142, 0.971297619047619, 0.9264880952380953, 0.9426428571428573, 0.9336547619047619, 0.9360833333333334, 0.9439642857142858, 0.9377261904761905, 0.9649642857142857, 0.9307738095238095, 0.9689523809523809, 0.9795357142857144, 1.0266309523809525, 1.0114880952380954, 0.9968333333333335, 1.0270595238095237, 1.0064404761904762, 1.0133452380952381, 0.9682499999999999, 0.9830714285714286, 0.9958571428571427, 0.9446428571428572, 0.9701190476190478, 0.9672380952380953, 1.0049523809523808, 0.987988095238095, 0.9788095238095238, 0.9938214285714285, 0.985702380952381, 1.0014642857142857, 0.9709404761904762, 0.9589523809523809, 0.9615, 0.96875, 0.9477500000000001, 0.960011904761905, 0.9858928571428571, 0.9584404761904763, 1.014452380952381, 0.9592142857142859, 0.9975714285714284, 0.9975833333333333, 0.9689404761904763, 0.9948214285714285, 0.9819880952380952, 0.9962619047619045, 0.9723571428571428, 0.9879285714285713, 0.9940476190476188, 0.9667738095238095, 0.986904761904762, 1.0143333333333335, 0.9940357142857142, 1.0349880952380954, 1.0120357142857141, 1.0333690476190476, 1.029642857142857, 1.0501904761904763, 1.0483095238095237, 1.0360833333333335, 1.0431666666666668, 0.9998690476190477, 0.9914761904761904, 0.9852142857142858, 0.9730833333333334, 0.9914166666666668, 0.9448809523809525, 0.981297619047619, 0.9712261904761904, 0.9609642857142857, 0.9780119047619048, 0.9528333333333333, 0.976202380952381, 0.9550714285714287, 0.9686904761904762, 0.9897857142857143, 0.9763928571428573, 0.9529047619047619, 0.9716904761904763, 0.9644285714285714, 0.9833095238095237, 0.9699523809523809, 0.9405238095238095, 0.9616666666666667, 0.969190476190476, 0.9495000000000001, 0.9556309523809523, 0.9766666666666666, 0.9380357142857145, 0.9602142857142859, 0.9546190476190478, 0.975642857142857, 0.9413809523809524, 0.955761904761905, 0.9570238095238095, 0.9786547619047619, 0.9476666666666669, 0.9744047619047619, 0.959047619047619, 0.9905119047619048, 0.9498214285714285, 0.9825357142857143, 0.9638928571428571, 0.987642857142857, 0.9578809523809523, 0.9775833333333334, 1.0128333333333335, 0.9801428571428571, 0.9929404761904761, 1.0028333333333332, 0.970904761904762, 0.9870119047619047, 1.0000714285714285, 0.9604285714285714, 0.9584523809523811, 0.9459880952380951, 0.9565476190476192, 0.9708214285714286, 0.9505357142857143, 0.9847857142857144, 0.961547619047619, 0.965654761904762, 0.9787857142857145, 0.9919880952380952, 0.9986190476190474, 0.9814285714285714, 0.9680119047619048, 1.0166190476190478, 0.9436666666666667, 0.9670000000000001, 0.9698571428571428, 0.9425357142857143, 0.951904761904762, 0.9623333333333333, 0.9462500000000001, 0.9662499999999999, 0.9900357142857145, 0.9617738095238095, 0.9713214285714287, 0.9545833333333333, 0.9577261904761905, 0.9596666666666668, 0.9578333333333333, 0.9731428571428571, 0.9938690476190476, 0.9545238095238096, 0.9758809523809524, 0.9946904761904762, 0.956404761904762, 0.9603452380952382, 0.9547738095238096, 0.9600595238095238, 0.9764761904761905, 0.9641309523809524, 0.9894642857142858, 0.9680714285714287, 1.002047619047619, 1.0428690476190476, 1.0186666666666668, 1.0144761904761905, 0.9924285714285714, 1.014392857142857, 1.0278095238095237, 1.0215238095238095, 1.0041309523809525, 1.002142857142857, 0.9877142857142859, 1.0019166666666668, 1.0011428571428571, 0.9917619047619048, 0.9656071428571429, 0.9750357142857143, 0.9960119047619047, 1.0023809523809524, 0.9922499999999999, 0.9756547619047621, 1.0114285714285713, 0.9837261904761905, 0.9770476190476189, 0.9798809523809524, 0.9981428571428572, 0.9774047619047618, 0.9578452380952381, 0.9789404761904761, 1.0091547619047618, 1.0033928571428572, 0.9977261904761905, 1.0219166666666668, 1.0161309523809523, 1.006702380952381, 1.0127738095238097, 0.9984880952380953, 1.0279285714285715, 1.02425, 1.0031309523809524, 0.9826309523809523, 1.015547619047619, 0.9693809523809523, 0.9798809523809524, 0.9751309523809524, 0.9552857142857143, 0.9783214285714286, 0.9703333333333333, 0.9586428571428571, 0.9701785714285714, 0.9907857142857145, 0.9596309523809525, 0.9473333333333332, 0.9673571428571428, 0.965547619047619, 0.9921309523809524, 0.9763333333333332, 0.9682261904761903, 0.9770595238095238, 0.9601904761904763, 0.9592499999999999, 0.9642142857142857, 0.9398928571428571, 0.9497380952380952, 0.948154761904762, 0.9762857142857144, 0.9421309523809523, 0.9757619047619049, 0.9990833333333332, 1.00425, 0.9645, 0.9970119047619047, 0.9896309523809524, 0.9863452380952382, 0.9667857142857144, 0.9944999999999999, 0.9604285714285713, 0.9724880952380952, 1.0001071428571426, 0.9579523809523811, 1.0028333333333332, 0.9619285714285715, 0.9868690476190475, 1.002904761904762, 0.9885714285714284, 0.9688095238095239, 1.0008333333333335, 0.9543333333333335, 0.9683452380952382, 0.9595476190476191, 0.9527023809523809, 0.9768571428571429, 0.9420714285714286, 0.9671785714285713, 0.9981071428571427, 0.97875, 1.0057023809523808, 0.9912380952380951, 0.9712261904761904, 0.9960714285714286, 0.962297619047619, 0.9762142857142858, 0.980345238095238, 1.0220595238095238, 1.001107142857143, 1.0264404761904762, 0.9897738095238096, 1.0494999999999999, 0.9987142857142859, 1.0421428571428575, 1.0348928571428573, 1.0011428571428571, 1.0284166666666668, 1.0099404761904762, 0.9779166666666668, 0.9843571428571429, 0.9757261904761906, 0.9819404761904762, 0.976607142857143, 0.9412142857142857, 0.9553690476190477, 0.9557142857142857, 0.9495833333333336, 0.9526190476190477, 0.9793928571428571, 0.954595238095238, 1.0100238095238094, 0.9974642857142856, 1.0011666666666668, 1.0335238095238095, 0.9790476190476189, 1.028357142857143, 0.9779999999999999, 1.018892857142857, 0.9908333333333333, 1.0019285714285713, 1.0321071428571431, 0.9847261904761906, 1.0469285714285714, 0.999595238095238, 0.9904642857142859, 1.0012619047619047, 0.9735952380952382, 0.9840000000000001, 0.9715119047619047, 0.9518571428571427, 0.9667142857142856, 0.9854166666666666, 0.9548809523809525, 0.9940595238095237, 0.9573095238095239, 0.9934166666666667, 0.9556666666666668, 0.9685714285714287, 0.9653809523809523, 1.0052857142857143, 0.944345238095238, 0.9679166666666668, 0.994154761904762, 0.956857142857143, 0.9849404761904763, 1.0065238095238094, 1.0147380952380953, 1.0245476190476193, 1.0152261904761906, 0.9837380952380952, 1.0087857142857142, 1.0008809523809525, 1.0255714285714286, 1.009595238095238, 0.9799285714285715, 1.0377023809523809, 0.9994285714285714, 1.0311547619047619, 0.9893095238095239, 1.0241785714285714, 1.0277738095238096, 1.0184642857142858, 0.9775595238095237, 0.9903928571428571]\n",
            "8.29595947265625\n",
            "(0.43218390804597695, 0.22758620689655173, 0.29655172413793107)\n",
            "[0.1225000000000001, 0.14749999999999988, -0.050833333333333376, -0.0074999999999999884, -0.3266666666666667, -0.6608333333333333, -0.7925, -0.7741666666666666, -0.7783333333333337, -0.05999999999999991, 0.2666666666666666, 0.6774999999999999, 0.8183333333333332, 1.2408333333333332, 0.7816666666666666, 0.4299999999999997, 0.6741666666666668, 0.7824999999999999, 0.4699999999999999, 0.7508333333333331, 1.0341666666666667, 1.2708333333333333, 1.2924999999999998, 1.5016666666666667, 1.825, 1.715, 1.883333333333333, 1.7916666666666667, 2.1225, 2.3316666666666666, 2.5825, 2.191666666666667, 2.463333333333333, 1.8825, 1.2724999999999997, 0.7875000000000001, 0.6875, 0.3900000000000001, 0.46749999999999986, 0.8566666666666666, 1.5041666666666664, 1.435833333333333, 1.7225, 1.969166666666667, 1.63, 1.2700000000000002, 1.1458333333333333, 1.2583333333333335, 0.9958333333333331, 1.1975, 1.795, 2.169166666666667, 2.1183333333333327, 2.0849999999999995, 2.0, 1.3266666666666664, 0.9858333333333332, 0.5333333333333334, 0.21750000000000017, -0.10333333333333321, 0.07749999999999997, 0.04416666666666654, 0.3833333333333333, 0.36916666666666664, 0.7758333333333333, 0.5483333333333335, 0.8191666666666667, 1.1316666666666666, 1.4174999999999998, 1.2449999999999999, 1.5991666666666664, 1.8983333333333334, 2.0475, 2.1616666666666666, 2.5625, 2.4916666666666667, 2.5500000000000003, 2.5666666666666664, 2.3366666666666664, 1.4558333333333333, 1.2025, 0.7991666666666668, 0.6891666666666668, 0.5541666666666666, 0.9041666666666667, 0.9825, 1.4241666666666664, 1.6424999999999998, 2.0274999999999994, 1.8933333333333333, 2.1208333333333336, 2.163333333333333, 2.4091666666666667, 2.57, 2.7566666666666664, 2.8541666666666665, 2.754166666666667, 2.7566666666666664, 3.000833333333333, 2.9458333333333333, 2.3674999999999997, 1.8683333333333334, 1.5941666666666665, 1.0016666666666667, 0.24749999999999997, 0.004166666666666652, -0.2574999999999999, -0.3191666666666666, -0.6275000000000001, -0.032499999999999994, 0.5633333333333336, 0.8974999999999999, 0.9550000000000001, 1.1499999999999997, 1.2916666666666667, 1.2991666666666666, 1.0, 1.0741666666666665, 0.9566666666666667, 1.0958333333333334, 1.3741666666666665, 1.7558333333333334, 2.3225000000000002, 2.7424999999999997, 2.768333333333333, 2.895, 2.683333333333333, 2.5591666666666666, 2.1041666666666665, 1.6925000000000001, 1.5925, 1.5574999999999999, 1.4700000000000004, 1.5075, 1.5233333333333334, 1.7691666666666668, 1.4316666666666666, 1.4525, 1.7249999999999999, 1.4358333333333333, 1.4483333333333333, 1.2175, 1.0525, 0.37499999999999994, -0.07166666666666673, -0.5491666666666666, -1.2033333333333334, -1.6500000000000001, -1.8283333333333331, -2.0375, -1.5716666666666665, -1.035, -0.22666666666666657, 0.3316666666666666, 1.278333333333333, 1.805, 1.8891666666666664, 2.14, 2.1616666666666666, 1.9291666666666665, 1.6225000000000003, 1.7725000000000002, 2.144166666666667, 2.0, 1.9383333333333332, 2.2075, 2.14, 2.0891666666666664, 1.5866666666666667, 1.5941666666666665, 1.373333333333333, 1.2208333333333334, 1.1600000000000001, 1.5558333333333332, 1.8558333333333337, 1.843333333333333, 2.1441666666666666, 2.795, 3.079166666666667, 2.7808333333333333, 2.8874999999999997, 3.0258333333333334, 3.0283333333333338, 2.716666666666667, 2.721666666666667, 2.3966666666666665, 2.2016666666666667, 1.6508333333333332, 1.6566666666666663, 1.5291666666666668, 1.485, 1.2233333333333332, 1.6149999999999995, 1.986666666666667, 1.6983333333333333, 1.3758333333333332, 1.3425, 0.8366666666666666, 0.5991666666666666, 0.69, 0.5383333333333334, 0.4733333333333332, 0.3249999999999999, 0.4508333333333332, 0.3716666666666666, 0.4533333333333333, 0.6433333333333332, 0.4341666666666666, 0.4024999999999999, 0.9591666666666665, 0.8724999999999999, 0.8566666666666665, 0.6675, 0.10333333333333328, -0.16500000000000015, -0.7566666666666667, -0.9075000000000001, -0.8316666666666667, -0.7325, -0.24083333333333337, 0.4341666666666666, 0.9691666666666666, 1.7741666666666667, 2.138333333333333, 2.345, 2.3525, 2.263333333333333, 2.2391666666666663, 2.079166666666667, 2.245833333333333, 2.73, 2.8225, 2.5583333333333336, 2.3366666666666664, 2.1366666666666667, 1.555, 0.6483333333333333, 0.38166666666666654, 0.5016666666666668, 0.6091666666666666, 0.7400000000000001, 1.4458333333333335, 1.5533333333333335, 1.5083333333333335, 1.6425, 1.4833333333333336, 0.765, 0.22916666666666666, -0.027500000000000007, -0.09000000000000001, -0.5375000000000002, -0.57, -0.8091666666666669, -1.073333333333333, -0.8150000000000001, -0.8008333333333334, -0.8925000000000001, -1.1616666666666666, -1.1558333333333333, -0.7916666666666666, -0.4183333333333336, -0.295, -0.10250000000000019, 0.08, 0.29749999999999993, 0.38583333333333325, 0.6916666666666668, 1.01, 0.9074999999999999, 0.963333333333333, 1.5233333333333334, 1.7266666666666666, 1.3766666666666663, 1.3166666666666664, 1.2391666666666667, 0.7225, -0.00833333333333347, -0.28666666666666674, -0.5791666666666666, -1.0374999999999999, -1.3183333333333334, -1.4375, -1.6025, -1.3108333333333333, -1.1483333333333334, -0.63, -0.18916666666666662, 0.45, 1.0966666666666665, 1.4591666666666665, 1.46, 1.7458333333333336, 1.259166666666667, 0.8650000000000001, 0.29083333333333333, 0.11166666666666673, 0.09166666666666674, 0.19416666666666674, 0.45166666666666666, 0.8749999999999999, 1.005, 1.3041666666666667, 1.5499999999999998, 1.7908333333333333, 2.0458333333333334, 2.200833333333333, 2.424166666666667, 2.8341666666666665, 2.8825, 2.9391666666666665, 2.9916666666666667, 2.5850000000000004, 1.9283333333333335, 1.8391666666666666, 1.5191666666666668, 1.1758333333333333, 0.9925, 1.5158333333333331, 1.2708333333333333, 1.2, 1.5566666666666666, 1.665, 1.45, 1.3233333333333333, 1.4933333333333334, 1.4350000000000003, 1.2833333333333332, 1.3775000000000002, 1.5358333333333334, 1.195, 1.4124999999999999, 1.4799999999999998, 1.9825, 1.748333333333333, 1.7825, 2.066666666666667, 2.2758333333333334, 1.8791666666666664, 1.9974999999999998, 1.7958333333333334, 1.4858333333333331, 1.3624999999999998, 1.0791666666666668, 1.1033333333333333, 1.0441666666666667, 1.2391666666666667, 1.1049999999999998, 1.1866666666666665, 0.9849999999999999, 0.9991666666666666, 0.16583333333333336, 0.05416666666666651, -0.6716666666666665, -1.195, -1.58, -1.6525, -1.9474999999999998, -1.5591666666666668, -1.2691666666666666, -0.5775000000000001, -0.09500000000000004, 0.5974999999999999, 1.3425, 1.6524999999999999, 2.1041666666666665, 2.645, 2.9466666666666668, 2.89, 3.046666666666667, 3.0675000000000003, 2.856666666666667, 2.3291666666666666, 1.5791666666666668, 1.2033333333333336, 0.525, 0.4250000000000001, 0.33750000000000013, 0.38000000000000006, 0.5708333333333333, 0.5916666666666667, 0.6849999999999999, 0.6625, 0.2508333333333333, 0.31833333333333336, 0.18083333333333332, 0.3483333333333334, 0.5708333333333332, 0.7366666666666667, 1.4025, 1.6791666666666665, 1.9800000000000002, 2.2641666666666667, 2.263333333333333, 2.359166666666667, 1.9949999999999999, 2.1158333333333332, 2.3024999999999998, 2.2741666666666664, 1.8041666666666665, 2.0866666666666664, 2.106666666666667, 1.9774999999999998, 1.8366666666666662, 2.2558333333333334, 1.8150000000000002, 1.2958333333333332, 0.8333333333333334, 0.42250000000000004, -0.17083333333333325, -0.3683333333333331, -0.07416666666666656, -0.2250000000000001, -0.16666666666666682, 0.5483333333333333, 0.4116666666666666, 0.38999999999999996, 0.1475000000000001, 0.11750000000000001, -0.25166666666666665, -0.5283333333333337, -0.6099999999999999, -0.6549999999999999, -1.4133333333333333, -1.7908333333333335, -2.381666666666667, -2.591666666666667, -3.1425]\n",
            "{'F': 4, 'L': 13, 'E': 10, 'P': 8, 'W': 1, 'T': 3, 'S': 4, 'C': 0, 'M': 0, 'R': 5, 'D': 4, 'V': 4, 'K': 5, 'I': 3, 'G': 3, 'Q': 10, 'A': 9, 'N': 7, 'H': 1, 'Y': 3}\n",
            "{'F': 0.041237113402061855, 'L': 0.13402061855670103, 'E': 0.10309278350515463, 'P': 0.08247422680412371, 'W': 0.010309278350515464, 'T': 0.030927835051546393, 'S': 0.041237113402061855, 'C': 0.0, 'A': 0.09278350515463918, 'R': 0.05154639175257732, 'V': 0.041237113402061855, 'K': 0.05154639175257732, 'D': 0.041237113402061855, 'G': 0.030927835051546393, 'I': 0.030927835051546393, 'M': 0.0, 'Q': 0.10309278350515463, 'N': 0.07216494845360824, 'Y': 0.030927835051546393, 'H': 0.010309278350515464}\n",
            "11119.312199999986\n",
            "0.08247422680412371\n",
            "66.65989690721648\n",
            "[0.9824761904761904, 1.0228095238095238, 1.0024880952380952, 1.004595238095238, 0.9910357142857141, 1.0128809523809523, 1.0211071428571428, 0.9710952380952381, 0.9914166666666666, 1.0081904761904763, 0.9886071428571428, 0.970904761904762, 0.9959880952380952, 0.9712142857142858, 1.0146309523809525, 0.9553928571428572, 0.9860595238095239, 1.007202380952381, 1.0098690476190475, 1.0181547619047617, 1.023297619047619, 1.0240119047619047, 1.0299166666666668, 0.9913928571428573, 1.0017261904761905, 1.0221666666666667, 0.9570595238095239, 0.9948690476190476, 0.9665952380952382, 1.0087261904761906, 0.9503095238095239, 0.9688214285714287, 0.9885714285714287, 0.9831071428571428, 0.9735595238095238, 1.0034166666666668, 1.0200952380952382, 0.9983095238095239, 1.0319166666666668, 1.0445952380952381, 1.0587976190476192, 1.05375, 1.0418214285714287, 1.0441785714285714, 1.0319047619047619, 1.0057380952380952, 0.985952380952381, 0.9855833333333334, 1.0066666666666668, 0.9396428571428572, 0.9667738095238095, 0.971297619047619, 0.9700000000000002, 1.0024166666666667, 0.9924047619047618, 0.9881666666666666, 1.0428214285714286, 1.04375, 1.0458333333333334, 1.0340952380952382, 1.0297380952380952, 1.0311428571428571, 0.9979880952380953, 0.9831785714285715, 0.9856071428571428, 1.0070119047619048, 0.9994166666666667, 0.987797619047619, 1.052702380952381, 1.0328690476190476, 1.048547619047619, 1.0471071428571428, 1.0473809523809525, 1.0454047619047617, 1.0367380952380951, 1.010202380952381, 1.020345238095238, 0.9812380952380954, 0.9938452380952382, 1.0057023809523808, 1.0293452380952381, 0.9986785714285714, 1.048357142857143, 1.0390000000000001, 1.0091309523809524, 1.0561666666666667, 1.0337142857142856, 1.0129285714285714]\n",
            "4.91363525390625\n",
            "(0.28865979381443296, 0.2268041237113402, 0.32989690721649484)\n",
            "[-0.7200000000000001, -0.24750000000000005, -0.19833333333333333, -0.2600000000000002, 0.08833333333333328, 0.6375000000000001, 0.1841666666666666, 0.2516666666666663, 0.3841666666666667, 0.24416666666666664, 0.038333333333333254, -0.11833333333333335, 0.26999999999999996, 0.41000000000000014, 0.22166666666666668, 0.1766666666666666, 0.0024999999999999467, -0.31499999999999995, -0.92, -1.6883333333333332, -1.4566666666666668, -1.3366666666666667, -1.4233333333333331, -0.6566666666666667, 0.13416666666666668, 0.8525, 0.7858333333333333, 0.9133333333333331, 1.1808333333333334, 0.8033333333333332, 0.02333333333333328, 0.285, -0.19666666666666663, -0.7525, -1.0625000000000002, -1.0966666666666665, -1.5458333333333334, -2.0875, -2.3091666666666666, -2.5675000000000003, -3.1466666666666665, -3.1975, -2.9416666666666664, -2.7075, -2.1941666666666664, -1.8391666666666666, -0.9341666666666669, -0.16749999999999998, -1.8503717077085943e-16, 0.5316666666666664, 0.8858333333333334, 0.5399999999999998, 0.40666666666666657, 0.2824999999999998, -0.06000000000000013, -0.8308333333333334, -1.3724999999999998, -1.8716666666666668, -2.6133333333333333, -2.5941666666666667, -2.2491666666666665, -1.9375, -1.4225, -0.7275000000000001, 0.07666666666666666, 0.23499999999999988, 0.05166666666666645, -0.19833333333333344, -0.6775000000000001, -1.33, -1.9883333333333333, -1.9333333333333336, -1.7499999999999998, -2.0066666666666664, -1.4083333333333332, -0.6541666666666667, 0.014166666666666624, 0.11749999999999987, 0.5883333333333333, 0.6266666666666668, 0.17749999999999996, -0.07416666666666671, -0.27666666666666667, -1.0483333333333333, -1.2641666666666664, -1.4149999999999998, -1.2241666666666666, -1.3483333333333334, -1.2083333333333335]\n",
            "{'F': 6, 'L': 13, 'E': 8, 'P': 4, 'W': 1, 'T': 10, 'S': 15, 'C': 3, 'M': 0, 'R': 5, 'D': 11, 'V': 9, 'K': 12, 'I': 10, 'G': 8, 'Q': 1, 'A': 3, 'N': 11, 'H': 5, 'Y': 5}\n",
            "{'F': 0.04285714285714286, 'L': 0.09285714285714286, 'E': 0.05714285714285714, 'P': 0.02857142857142857, 'W': 0.007142857142857143, 'T': 0.07142857142857142, 'S': 0.10714285714285714, 'C': 0.02142857142857143, 'A': 0.02142857142857143, 'R': 0.03571428571428571, 'V': 0.06428571428571428, 'K': 0.08571428571428572, 'D': 0.07857142857142857, 'G': 0.05714285714285714, 'I': 0.07142857142857142, 'M': 0.0, 'Q': 0.007142857142857143, 'N': 0.07857142857142857, 'Y': 0.03571428571428571, 'H': 0.03571428571428571}\n",
            "15769.493699999988\n",
            "0.08571428571428572\n",
            "18.022857142857138\n",
            "[0.9878095238095238, 1.032511904761905, 0.9722857142857144, 1.0272261904761903, 0.9848928571428572, 1.0250119047619048, 1.0264404761904764, 0.9875238095238095, 1.0050595238095237, 0.9925595238095238, 0.969142857142857, 0.9724880952380955, 0.9785952380952381, 0.9652142857142858, 1.0091309523809524, 0.9939404761904762, 1.0062023809523812, 1.0023452380952382, 0.9753095238095236, 0.9868928571428571, 0.9749047619047618, 0.9887023809523812, 0.9406071428571428, 0.9858214285714285, 0.9582619047619048, 0.9994761904761905, 0.9812380952380954, 0.9499047619047618, 0.9819404761904762, 1.0014166666666664, 0.9665952380952382, 1.0200714285714287, 0.9790119047619049, 0.9705119047619047, 0.982309523809524, 0.9764285714285715, 1.0139880952380953, 0.9439642857142858, 1.0103690476190477, 0.9742142857142857, 1.0307380952380953, 1.0210833333333336, 1.0272500000000002, 1.0457261904761905, 1.0150833333333333, 1.033964285714286, 1.0020238095238096, 0.981, 0.9869523809523809, 0.9753452380952381, 1.0019047619047619, 0.9763809523809525, 0.9703095238095238, 0.9992738095238096, 1.0460357142857144, 1.021809523809524, 1.045654761904762, 1.0590357142857143, 1.0543690476190477, 1.0672619047619047, 1.050904761904762, 1.0521190476190478, 1.0006071428571428, 1.0357619047619049, 1.006011904761905, 1.0560714285714288, 1.027, 1.0337142857142856, 1.0355, 1.0145595238095237, 1.0026428571428572, 1.0187738095238095, 0.9920833333333334, 1.0345833333333334, 1.0046666666666666, 1.0315833333333333, 1.0342261904761905, 1.070309523809524, 1.058702380952381, 1.0618809523809525, 1.0338333333333334, 1.0537261904761905, 1.0326071428571428, 0.9911428571428571, 1.0164285714285715, 0.9621071428571429, 0.981607142857143, 0.9759880952380953, 1.0046428571428572, 0.9978333333333335, 0.9743452380952381, 1.0368928571428573, 0.9804285714285713, 1.0398690476190477, 1.0219404761904765, 1.0016785714285714, 1.0189880952380952, 0.9970000000000001, 0.9755476190476192, 0.9853214285714286, 0.9444642857142856, 0.9586190476190476, 0.9630238095238096, 0.9894404761904764, 1.006607142857143, 1.0232142857142859, 1.0567261904761907, 1.0578452380952381, 1.0661785714285716, 1.0550833333333334, 1.0272738095238094, 1.0607142857142857, 1.0315833333333333, 1.0204642857142858, 0.9949523809523809, 0.9938333333333333, 0.9703095238095238, 0.9664642857142857, 0.9621309523809526, 0.9791904761904762, 0.9520833333333334, 0.977107142857143, 1.0189404761904763, 1.021261904761905, 0.9922857142857143, 1.0569285714285717, 1.0394166666666667, 1.0044404761904762, 1.049059523809524, 1.0102738095238095, 0.9855238095238095]\n",
            "6.21331787109375\n",
            "(0.3142857142857143, 0.2714285714285714, 0.17142857142857143)\n",
            "[0.5416666666666669, 0.9158333333333332, 0.9383333333333331, 0.6274999999999998, 0.6591666666666667, 0.6158333333333333, 0.13333333333333336, 0.39916666666666667, 0.17750000000000002, 0.35333333333333333, 0.5608333333333332, 0.6791666666666667, 0.8274999999999998, 0.6691666666666666, 0.5499999999999999, 0.5216666666666666, 0.49999999999999994, 0.9474999999999999, 1.008333333333333, 1.275, 1.6116666666666666, 1.7575, 1.55, 1.3824999999999996, 1.0491666666666666, 0.7016666666666665, 0.3366666666666666, 0.535, 0.2125, -0.1266666666666668, -0.165, -0.20833333333333318, -0.1708333333333334, -0.4925, -0.3158333333333334, -0.4150000000000002, -0.6458333333333335, -0.8633333333333334, -1.0608333333333335, -1.5125000000000002, -1.816666666666667, -2.16, -2.0033333333333334, -2.160833333333333, -1.8175, -1.2325000000000002, -0.4116666666666666, -0.059166666666666735, 0.43749999999999994, 1.1183333333333332, 1.4974999999999998, 1.2033333333333331, 1.1474999999999997, 0.5366666666666667, -0.27166666666666667, -1.1150000000000002, -1.5175, -1.9225, -2.56, -2.435, -2.3025, -1.6416666666666666, -1.4233333333333331, -1.1516666666666666, -1.4041666666666668, -1.4266666666666665, -1.9799999999999998, -1.795, -2.1041666666666665, -1.4883333333333333, -1.5641666666666667, -0.8533333333333335, -0.5183333333333334, -0.24916666666666684, -0.48833333333333334, -0.6691666666666668, -1.4316666666666669, -1.7091666666666665, -2.3608333333333333, -2.5058333333333334, -2.2466666666666666, -2.026666666666667, -1.4625000000000001, -0.5416666666666666, 0.535, 1.1041666666666665, 1.2824999999999998, 1.7341666666666666, 1.5166666666666666, 1.0208333333333333, 0.7283333333333332, 0.16999999999999993, -0.3375000000000001, -0.5725000000000002, -0.9441666666666667, -1.0825000000000002, -1.43, -1.1475, -1.1125, -0.46916666666666657, -0.1433333333333333, -0.0324999999999999, -0.03750000000000009, -0.215, -0.9191666666666668, -1.57, -2.2674999999999996, -2.4358333333333335, -2.7891666666666666, -2.5875, -2.2525, -1.7558333333333334, -1.515, -0.8841666666666668, -0.15000000000000005, 0.6466666666666666, 0.5699999999999998, 1.3533333333333335, 1.9291666666666671, 1.7566666666666666, 1.1516666666666666, 1.2866666666666668, 0.5858333333333333, -0.2558333333333335, -0.4516666666666665, -0.46166666666666645, -1.1575, -1.6408333333333334, -1.5833333333333333, -1.8866666666666667, -2.5133333333333336, -2.6458333333333335]\n",
            "{'F': 7, 'L': 11, 'E': 8, 'P': 3, 'W': 1, 'T': 11, 'S': 10, 'C': 3, 'M': 1, 'R': 3, 'D': 9, 'V': 10, 'K': 11, 'I': 8, 'G': 6, 'Q': 2, 'A': 4, 'N': 8, 'H': 4, 'Y': 3}\n",
            "{'F': 0.056910569105691054, 'L': 0.08943089430894309, 'E': 0.06504065040650407, 'P': 0.024390243902439025, 'W': 0.008130081300813009, 'T': 0.08943089430894309, 'S': 0.08130081300813008, 'C': 0.024390243902439025, 'A': 0.032520325203252036, 'R': 0.024390243902439025, 'V': 0.08130081300813008, 'K': 0.08943089430894309, 'D': 0.07317073170731707, 'G': 0.04878048780487805, 'I': 0.06504065040650407, 'M': 0.008130081300813009, 'Q': 0.016260162601626018, 'N': 0.06504065040650407, 'Y': 0.024390243902439025, 'H': 0.032520325203252036}\n",
            "13871.55879999998\n",
            "0.08943089430894309\n",
            "37.39837398373984\n",
            "[0.9848928571428572, 1.0250119047619048, 1.0298214285714287, 0.9934404761904762, 1.0135119047619048, 1.0170714285714286, 0.9693333333333334, 0.9838095238095238, 0.9875238095238095, 0.9701785714285713, 1.0107142857142857, 0.9927261904761904, 0.9954761904761905, 1.01925, 0.9679166666666668, 0.9884880952380951, 0.9765357142857143, 0.9903690476190476, 0.9428928571428572, 0.9858214285714285, 0.9582619047619048, 0.9988095238095239, 0.9800714285714287, 0.9482380952380952, 0.977107142857143, 1.0023690476190477, 0.9660952380952381, 1.0217857142857145, 0.9864999999999998, 0.9678690476190475, 0.9848214285714286, 0.9652857142857143, 0.9823690476190475, 0.9415833333333332, 0.9805595238095237, 0.9638571428571429, 1.0138452380952383, 1.007297619047619, 1.01275, 1.0261190476190474, 1.002595238095238, 0.9957380952380952, 1.0292738095238096, 0.9582499999999999, 0.98575, 0.9814285714285714, 1.0183095238095237, 0.9891904761904762, 0.9985000000000002, 1.003607142857143, 1.061202380952381, 1.0344761904761905, 1.060464285714286, 1.0623690476190477, 1.0583928571428574, 1.0703571428571428, 1.0525476190476193, 1.0526309523809525, 0.9996309523809523, 1.0324404761904762, 1.0073928571428572, 1.0543690476190477, 1.026309523809524, 1.0332738095238094, 1.035309523809524, 1.01475, 0.9948809523809523, 1.0051904761904762, 0.9726785714285716, 0.978309523809524, 1.0046666666666666, 1.006357142857143, 1.0148214285714285, 1.0545833333333334, 1.0471904761904764, 1.0565238095238096, 1.0182976190476192, 1.0537261904761905, 1.025642857142857, 0.985595238095238, 1.0123452380952382, 0.9576785714285714, 0.9770595238095238, 0.9714642857142858, 0.990904761904762, 0.9973571428571427, 0.9681309523809525, 1.0321785714285714, 0.9772619047619048, 1.0380595238095238, 1.0264166666666665, 1.0095119047619048, 1.0301785714285714, 1.0294523809523812, 0.9772142857142858, 1.0027857142857142, 0.9642976190476191, 0.9863690476190476, 0.9786904761904763, 1.027309523809524, 1.0107738095238095, 1.0381071428571427, 1.0641309523809526, 1.0575833333333333, 1.0491071428571428, 1.0425952380952381, 1.0048690476190476, 1.0277261904761905, 0.9794404761904761, 0.9813809523809525, 0.9775238095238095, 0.966392857142857, 0.9501904761904763, 0.9537976190476191]\n",
            "5.75482177734375\n",
            "(0.3252032520325203, 0.21951219512195125, 0.1951219512195122)\n",
            "[0.6591666666666667, 0.6158333333333333, -0.05333333333333331, 0.14250000000000015, -0.14916666666666656, -0.0433333333333333, 0.07416666666666664, 0.2550000000000001, 0.46583333333333315, 0.37666666666666665, 0.14249999999999993, 0.24333333333333318, 0.16416666666666663, 0.5541666666666667, 0.5524999999999999, 0.9041666666666667, 1.3058333333333334, 1.5166666666666666, 1.37, 1.3824999999999996, 1.0491666666666666, 0.975, 0.7124999999999999, 1.0133333333333332, 0.7933333333333333, 0.5566666666666665, 0.4158333333333333, 0.14333333333333323, 0.030833333333333195, -0.4808333333333334, -0.6400000000000001, -0.795, -0.9908333333333336, -1.1733333333333336, -1.1258333333333335, -1.445, -1.5425000000000002, -1.6391666666666669, -1.075, -1.11, -0.6733333333333333, 0.011666666666666678, 0.8075, 0.8424999999999999, 1.1716666666666666, 1.3383333333333336, 1.3158333333333332, 0.6366666666666667, 0.4108333333333332, -0.32999999999999996, -1.0083333333333333, -1.7216666666666667, -1.9941666666666666, -2.2691666666666666, -2.56, -2.435, -2.049166666666667, -1.32, -1.0166666666666666, -0.66, -0.8275000000000002, -0.9550000000000002, -1.593333333333333, -1.4933333333333334, -1.8875, -1.515, -1.0508333333333333, -0.14749999999999996, 0.3799999999999997, 0.8416666666666665, 0.7949999999999999, 0.4216666666666666, -0.5333333333333333, -0.83, -1.6091666666666669, -2.2025, -1.8783333333333332, -1.5933333333333335, -1.0941666666666667, -0.21166666666666675, 0.81, 1.0775, 0.9999999999999997, 1.3691666666666666, 1.0491666666666666, 0.4508333333333332, 0.24083333333333337, -0.23500000000000018, -0.6766666666666667, -0.8191666666666668, -0.9041666666666667, -1.0275, -1.36, -1.0625, -1.4124999999999999, -0.9341666666666667, -0.7333333333333333, -0.7725, -0.9275000000000001, -0.98, -1.5191666666666668, -2.0083333333333333, -2.5608333333333335, -2.334166666666667, -2.6925000000000003, -2.500833333333334, -2.3283333333333336, -1.8941666666666663, -1.7158333333333333, -1.1475000000000002, -0.5075000000000002, 0.3416666666666666, 0.3174999999999998, 1.153333333333333, 1.769166666666667]\n",
            "{'F': 3, 'L': 5, 'E': 5, 'P': 2, 'W': 1, 'T': 4, 'S': 2, 'C': 3, 'M': 2, 'R': 11, 'D': 6, 'V': 8, 'K': 5, 'I': 3, 'G': 6, 'Q': 6, 'A': 5, 'N': 2, 'H': 0, 'Y': 2}\n",
            "{'F': 0.037037037037037035, 'L': 0.06172839506172839, 'E': 0.06172839506172839, 'P': 0.024691358024691357, 'W': 0.012345679012345678, 'T': 0.04938271604938271, 'S': 0.024691358024691357, 'C': 0.037037037037037035, 'A': 0.06172839506172839, 'R': 0.13580246913580246, 'V': 0.09876543209876543, 'K': 0.06172839506172839, 'D': 0.07407407407407407, 'G': 0.07407407407407407, 'I': 0.037037037037037035, 'M': 0.024691358024691357, 'Q': 0.07407407407407407, 'N': 0.024691358024691357, 'Y': 0.024691358024691357, 'H': 0.0}\n",
            "9404.699399999994\n",
            "0.07407407407407407\n",
            "44.99506172839504\n",
            "[1.0347499999999998, 1.011238095238095, 1.0462619047619046, 1.0428214285714286, 1.0102738095238095, 1.0708809523809524, 1.0345238095238096, 1.0419642857142857, 0.9987380952380953, 1.026714285714286, 1.0113095238095238, 1.0073809523809523, 0.9724880952380953, 0.9990476190476191, 0.9998571428571429, 0.9638690476190477, 1.0273809523809525, 0.9597619047619048, 1.010154761904762, 1.0223690476190477, 0.9827976190476191, 0.9846904761904763, 1.0217261904761905, 0.9825119047619049, 1.0333809523809525, 0.9981666666666668, 0.9939761904761905, 1.0436785714285715, 1.0409404761904764, 1.026845238095238, 1.037297619047619, 0.9885595238095239, 1.0292738095238096, 0.9918333333333335, 1.0279642857142857, 1.0205357142857143, 1.0122380952380954, 1.0196547619047618, 1.016357142857143, 0.9881547619047618, 1.006857142857143, 0.966154761904762, 0.966297619047619, 0.9762738095238096, 0.9490714285714287, 0.9701904761904763, 0.9855119047619048, 0.9861190476190477, 0.9712619047619048, 0.9642738095238096, 0.9751785714285713, 0.9660357142857143, 0.984904761904762, 0.9616428571428572, 0.9981428571428569, 0.986345238095238, 0.9884761904761904, 0.9598333333333334, 0.9871309523809524, 0.9897738095238094, 0.9746428571428571, 1.0097738095238096, 0.9930952380952381, 0.9611904761904763, 0.9965952380952381, 0.9961666666666668, 1.0398214285714285, 1.00325, 1.0199642857142857, 1.0163571428571427, 0.9890000000000001, 1.0275357142857142]\n",
            "9.50335693359375\n",
            "(0.2716049382716049, 0.14814814814814814, 0.20987654320987653)\n",
            "[-1.7683333333333333, -1.4216666666666666, -1.2200000000000002, -1.4291666666666665, -1.6283333333333336, -1.2241666666666664, -1.1675, -1.515, -1.4675, -0.8899999999999998, -1.025, -0.9875000000000002, -0.5, -0.28916666666666657, -0.3675, -0.21083333333333334, -0.07333333333333325, -0.35249999999999987, -0.4708333333333334, -0.8591666666666667, -0.6458333333333334, -0.9833333333333333, -0.8541666666666669, -0.7833333333333335, -0.66, -0.6808333333333333, -0.6866666666666669, -1.0483333333333331, -1.2266666666666668, -2.039166666666667, -1.8766666666666667, -1.7699999999999998, -2.1058333333333334, -1.9675, -1.6849999999999998, -1.7175000000000002, -1.4016666666666666, -1.5750000000000002, -1.1666666666666667, -0.8783333333333334, -0.6866666666666666, -0.07833333333333344, 0.6208333333333332, 0.7641666666666667, 0.7441666666666666, 0.5441666666666667, 0.8691666666666668, 0.49750000000000005, 0.63, 0.7949999999999999, 0.975, 0.8850000000000001, 1.1308333333333334, 0.89, 0.8066666666666666, 0.4558333333333335, 0.3666666666666667, 0.42750000000000005, 0.5841666666666666, 0.22333333333333324, 0.3966666666666665, 0.6066666666666666, 0.7383333333333333, 0.6208333333333332, 0.46833333333333327, 0.13999999999999982, -0.3775000000000001, -0.4725000000000001, -0.8641666666666667, -1.1233333333333333, -1.5541666666666665, -1.6658333333333335, -1.7433333333333334]\n",
            "{'F': 10, 'L': 52, 'E': 63, 'P': 23, 'W': 3, 'T': 19, 'S': 23, 'C': 0, 'M': 6, 'R': 34, 'D': 25, 'V': 22, 'K': 32, 'I': 27, 'G': 25, 'Q': 18, 'A': 31, 'N': 6, 'H': 16, 'Y': 8}\n",
            "{'F': 0.022573363431151242, 'L': 0.11738148984198646, 'E': 0.14221218961625282, 'P': 0.05191873589164785, 'W': 0.006772009029345372, 'T': 0.04288939051918736, 'S': 0.05191873589164785, 'C': 0.0, 'A': 0.06997742663656885, 'R': 0.07674943566591422, 'V': 0.04966139954853273, 'K': 0.07223476297968397, 'D': 0.056433408577878104, 'G': 0.056433408577878104, 'I': 0.060948081264108354, 'M': 0.013544018058690745, 'Q': 0.040632054176072234, 'N': 0.013544018058690745, 'Y': 0.01805869074492099, 'H': 0.03611738148984198}\n",
            "50656.740400000104\n",
            "0.04740406320541761\n",
            "48.3106320541761\n",
            "[0.9831309523809525, 0.9732857142857143, 0.9671428571428573, 0.9671428571428573, 0.9732857142857143, 1.0006071428571428, 0.9906309523809524, 0.9941666666666668, 0.9798571428571428, 0.9958809523809523, 1.022297619047619, 0.9942619047619048, 1.0051547619047618, 1.009011904761905, 0.9969285714285715, 1.0200714285714287, 1.05675, 1.0415000000000003, 1.0416428571428573, 1.0685, 1.0436190476190477, 1.0759761904761906, 1.039059523809524, 1.0267380952380953, 1.0435238095238095, 1.0180714285714285, 1.0370714285714284, 1.0409880952380952, 1.0127142857142857, 1.0475714285714286, 1.0476785714285715, 1.0147261904761904, 1.0376309523809526, 0.9775, 1.000690476190476, 0.9976309523809525, 1.0204523809523809, 1.0270952380952383, 1.0316666666666667, 1.020511904761905, 1.0660952380952382, 1.0515833333333335, 1.0121309523809525, 1.0522380952380952, 1.039095238095238, 0.997952380952381, 1.0546071428571426, 1.0453333333333334, 1.036845238095238, 1.0640595238095238, 1.0483571428571428, 1.0602857142857143, 1.049904761904762, 1.0524761904761906, 1.0209880952380952, 1.0722261904761905, 1.0372380952380955, 1.033642857142857, 1.0308452380952382, 0.9951309523809525, 1.024309523809524, 1.0030119047619048, 1.0409047619047622, 1.0089166666666667, 1.0159404761904762, 0.9879285714285716, 1.0059285714285713, 1.0324761904761905, 0.9868095238095238, 1.0380238095238095, 1.0402261904761905, 1.0478690476190475, 1.0395833333333333, 1.060690476190476, 1.0316904761904762, 1.015261904761905, 1.051095238095238, 1.0040000000000002, 1.065797619047619, 1.050047619047619, 1.0640952380952382, 1.0697738095238096, 1.0679404761904763, 1.054392857142857, 1.0176904761904761, 1.051190476190476, 0.9960000000000002, 1.0351547619047619, 1.0225714285714287, 0.9820952380952382, 1.0404642857142856, 1.0138928571428572, 1.0340357142857144, 1.0277261904761905, 1.0182499999999999, 0.9947738095238094, 1.0175238095238095, 0.9995357142857143, 0.968404761904762, 0.9792261904761904, 0.9801190476190476, 1.013059523809524, 0.9586547619047617, 1.0114880952380951, 0.9981785714285714, 0.9750595238095239, 1.0114285714285716, 0.9593095238095237, 0.9801904761904764, 0.9953214285714286, 0.9840595238095238, 1.036904761904762, 1.0234404761904763, 1.0324404761904762, 1.0013690476190478, 1.0542380952380954, 0.9940000000000001, 1.0192857142857144, 1.0134880952380951, 1.0336428571428573, 0.9950714285714286, 1.0562500000000001, 1.0379880952380953, 1.0272738095238094, 1.0146547619047621, 1.0498571428571428, 1.0077142857142856, 1.0082380952380954, 1.0503214285714286, 1.0281309523809523, 0.9976309523809522, 1.0419285714285715, 1.0320952380952382, 0.9866666666666666, 1.0199404761904762, 1.0115952380952382, 0.9938452380952382, 1.0347142857142857, 1.0060238095238094, 1.015261904761905, 0.98575, 0.9992261904761905, 1.0102738095238095, 1.0078333333333334, 0.9582380952380953, 0.9869761904761906, 1.0035833333333333, 0.9867619047619048, 1.0143333333333335, 0.9612738095238097, 0.9955833333333333, 1.0151190476190475, 1.0003452380952382, 0.9858928571428571, 0.9947500000000001, 0.9719761904761904, 0.997702380952381, 0.9707380952380953, 0.9730476190476189, 1.007892857142857, 0.9960714285714286, 0.9925, 1.0452261904761906, 1.024154761904762, 1.0121904761904763, 1.017345238095238, 1.053797619047619, 1.0277976190476192, 1.0405952380952381, 1.0131785714285715, 1.0159166666666668, 1.0597976190476193, 1.0309880952380954, 1.0017738095238096, 1.0531309523809522, 1.028797619047619, 1.052309523809524, 1.0026547619047617, 1.0599880952380953, 1.0254880952380954, 1.0146785714285715, 1.0532142857142857, 1.0479166666666668, 1.0439166666666668, 1.0105595238095237, 1.0548333333333335, 1.0007976190476189, 0.9826309523809525, 0.978452380952381, 0.9691785714285717, 0.9650476190476189, 0.9837261904761905, 0.9949642857142857, 1.0247857142857144, 1.0106666666666666, 1.0402857142857143, 1.010892857142857, 1.0225833333333332, 1.0156785714285714, 1.002857142857143, 0.9758690476190476, 0.9805238095238096, 0.9835119047619049, 1.0189047619047618, 0.9737142857142858, 1.0044642857142858, 0.9693452380952382, 0.9958690476190477, 0.9645833333333333, 0.965059523809524, 0.9625714285714286, 0.9898690476190478, 0.9623214285714287, 1.0017976190476192, 1.0264404761904762, 1.0173690476190476, 0.9880833333333334, 1.0279166666666666, 1.0200357142857142, 1.0076666666666665, 1.0061309523809523, 0.974154761904762, 1.0117738095238094, 0.9612619047619047, 0.979107142857143, 0.9997976190476191, 0.9569880952380952, 0.986404761904762, 1.0174047619047617, 1.0254404761904763, 1.0158333333333334, 1.0302380952380954, 1.0231666666666666, 1.0179761904761904, 0.9872738095238096, 0.9858095238095237, 0.9985833333333334, 0.9842619047619048, 0.9804285714285715, 1.0312857142857144, 1.014154761904762, 0.9861666666666667, 1.0533452380952382, 0.9922142857142857, 1.0501904761904763, 0.9994642857142857, 1.008214285714286, 0.9898452380952382, 1.0360952380952382, 0.9658214285714286, 1.0155595238095239, 0.9813214285714286, 0.9702142857142858, 0.9843333333333333, 0.9645, 0.9407380952380952, 0.9521666666666666, 0.9581428571428573, 0.9750595238095237, 0.9762023809523809, 0.970142857142857, 0.9764404761904764, 1.0118333333333334, 0.9842738095238095, 0.9868571428571429, 0.9804285714285713, 1.0038928571428571, 1.0166785714285715, 0.9992738095238094, 0.9934761904761904, 1.0057142857142858, 0.994297619047619, 0.9776547619047617, 0.9957857142857143, 0.96075, 0.9949285714285716, 0.9463690476190477, 0.9718333333333333, 0.9723571428571428, 0.9682976190476191, 1.0115, 0.9752857142857143, 0.9858690476190475, 1.0281785714285714, 1.0245833333333334, 0.9865238095238095, 1.0310952380952383, 1.0040595238095238, 1.009654761904762, 1.0015714285714286, 1.004738095238095, 1.0099047619047619, 0.9889880952380954, 1.0271190476190477, 1.0142738095238095, 1.0291309523809526, 0.9928690476190474, 1.0407619047619048, 1.0238690476190477, 1.041309523809524, 1.0191071428571428, 1.017809523809524, 1.011952380952381, 1.0503809523809526, 1.0241190476190478, 0.988142857142857, 1.0217261904761905, 1.0323690476190477, 0.9948214285714285, 1.0037142857142858, 1.0184523809523807, 1.0135833333333333, 1.0064047619047618, 0.9849880952380953, 1.0413809523809523, 0.9983928571428571, 1.038904761904762, 1.005952380952381, 1.0100357142857144, 1.0555833333333335, 1.0295476190476192, 1.008107142857143, 1.0032261904761903, 1.0422261904761907, 0.982345238095238, 1.0213214285714285, 1.020047619047619, 1.0289642857142858, 1.0120357142857141, 0.9948571428571429, 1.0369285714285714, 0.9955833333333336, 1.0401666666666667, 0.9921904761904761, 1.021404761904762, 0.9961309523809525, 1.0434523809523808, 1.0451666666666668, 1.0525000000000002, 1.053559523809524, 1.0402380952380952, 1.0354404761904763, 1.0017619047619046, 1.0089880952380954, 1.0110833333333333, 0.9955714285714288, 0.9607380952380952, 0.9950238095238094, 1.024607142857143, 1.0131309523809524, 1.0184642857142858, 0.9875, 1.0128095238095238, 1.0346428571428572, 1.0142619047619048, 1.0137619047619049, 0.9873333333333333, 1.034142857142857, 0.9954047619047619, 1.0079761904761906, 1.0063095238095239, 1.0077380952380952, 1.004452380952381, 0.9814047619047618, 1.005857142857143, 1.0301666666666667, 1.0305, 1.0335595238095239, 1.008, 1.0666428571428572, 1.0412380952380953, 1.0145476190476193, 1.0144761904761905, 1.039202380952381, 1.0367976190476191, 0.994154761904762, 1.0472976190476193, 1.043297619047619, 1.020404761904762, 1.0427261904761906, 0.9930833333333334, 1.0001785714285714, 0.9877023809523809, 0.983547619047619, 1.0197500000000002, 0.9654523809523811, 1.014404761904762, 1.0233928571428572, 0.9990238095238094, 0.9921904761904761, 1.0003690476190477, 1.0348214285714288, 1.0055119047619048, 1.0075357142857142, 1.0268690476190476, 0.9885595238095238, 1.024857142857143, 0.9988928571428572, 1.0411666666666668, 1.015952380952381, 0.9786666666666667, 1.017845238095238, 0.9840000000000001, 0.9687261904761906, 0.9683928571428572, 0.9868571428571427, 0.9578333333333333, 0.9949642857142857, 0.9930238095238095, 1.0175595238095239, 0.9931071428571427, 0.9873214285714286, 1.0185119047619047, 1.0120714285714285, 0.9925357142857142, 1.0468809523809524, 1.0145833333333332, 1.0375952380952382, 1.0065595238095237, 1.0097738095238096, 1.0324880952380953, 1.0314166666666669, 0.9784285714285713, 1.0376309523809524, 0.9792142857142858, 1.0150714285714286, 1.0390476190476192, 1.0061785714285716, 1.0154642857142857, 1.0160833333333332, 1.0220357142857144, 1.0401785714285716, 0.9838690476190477, 1.0175476190476191]\n",
            "5.32061767578125\n",
            "(0.27539503386004516, 0.17381489841986456, 0.3431151241534989)\n",
            "[-1.9833333333333336, -2.5133333333333336, -2.66, -2.66, -2.5133333333333336, -1.8566666666666667, -0.9983333333333334, -0.4616666666666667, -0.19833333333333347, 0.16583333333333328, 0.2233333333333333, -0.2891666666666668, -0.48166666666666674, -0.8249999999999998, -1.4308333333333334, -1.8091666666666668, -1.9075, -2.1575, -2.568333333333334, -2.848333333333333, -2.7424999999999997, -3.0425, -2.5625, -2.2933333333333334, -2.1633333333333336, -1.7483333333333333, -1.5391666666666666, -1.6450000000000002, -1.5908333333333335, -1.8741666666666665, -1.5558333333333334, -1.2925, -0.4666666666666666, -0.10166666666666672, 0.04249999999999998, 0.15499999999999967, 0.2558333333333333, -0.3658333333333333, -0.8008333333333334, -1.0699999999999998, -1.3074999999999999, -1.7233333333333334, -1.2058333333333335, -0.8241666666666666, -0.8866666666666667, -1.0583333333333333, -1.0058333333333336, -1.1416666666666666, -1.7558333333333334, -1.8358333333333334, -2.0233333333333334, -1.9866666666666666, -2.0083333333333333, -1.9033333333333333, -1.8958333333333333, -1.760833333333333, -1.5833333333333333, -1.2300000000000002, -0.6900000000000001, -0.42250000000000004, -0.4591666666666668, -0.37416666666666654, -0.06750000000000018, -0.022499999999999964, -0.1550000000000001, -0.10500000000000005, 0.03333333333333329, -0.22333333333333347, -0.3583333333333334, -0.2866666666666668, -0.7091666666666666, -1.3241666666666667, -1.3991666666666667, -1.2916666666666667, -1.156666666666667, -0.9183333333333334, -0.7083333333333335, -0.8633333333333334, -1.1475000000000002, -1.5899999999999999, -2.1616666666666666, -2.3441666666666667, -2.2175, -1.9408333333333336, -1.3841666666666665, -0.9333333333333335, -0.2975000000000001, 0.08999999999999986, 0.15166666666666662, 0.18166666666666656, -0.18499999999999991, -0.41750000000000015, -0.5575000000000001, -0.7708333333333334, -0.9341666666666667, -1.3108333333333333, -0.9666666666666667, -1.2283333333333335, -1.3783333333333336, -0.815, -0.5675, -1.0083333333333335, -0.3958333333333335, -0.044166666666666465, 0.22333333333333324, 0.3608333333333332, 0.8549999999999999, 1.3541666666666667, 1.1208333333333333, 0.9266666666666666, 0.5741666666666666, 0.2741666666666665, -0.27749999999999986, -0.5200000000000001, -0.5308333333333333, -0.45916666666666667, -0.8750000000000001, -0.2741666666666667, -0.3591666666666664, -0.7091666666666668, -1.1233333333333333, -0.7733333333333333, -1.3375000000000001, -1.2825, -0.5199999999999998, -0.3225, -0.7525000000000001, -0.16583333333333347, 0.03166666666666673, -0.4125000000000001, -0.3216666666666667, 0.0025000000000000946, -0.16916666666666672, -0.09833333333333345, 0.21833333333333327, 0.2516666666666666, -0.26500000000000007, -0.07583333333333335, 0.15750000000000006, -0.3425000000000002, -0.4791666666666667, -0.045000000000000075, 0.11916666666666687, -0.01750000000000007, 0.2116666666666666, 0.32000000000000006, 0.28916666666666674, 0.17999999999999985, 0.5983333333333333, 0.7358333333333332, 0.8133333333333335, 0.39583333333333326, 0.7233333333333333, 0.22083333333333324, 0.015000000000000013, -0.2950000000000001, -0.5324999999999999, -0.67, -0.30583333333333335, -0.3283333333333333, -0.33916666666666667, -0.6458333333333334, -0.18249999999999997, -0.4675, -0.9191666666666669, -1.0225000000000002, -1.065, -1.1733333333333333, -1.0991666666666668, -1.1466666666666667, -0.7575, -0.9591666666666666, -1.0591666666666668, -1.2650000000000001, -0.8241666666666667, -1.2575, -1.6283333333333336, -1.1116666666666666, -0.7525, -1.1975, -1.0725, -1.0625000000000002, -1.4400000000000002, -2.2933333333333334, -2.435, -2.3208333333333333, -2.63, -1.9908333333333335, -1.1383333333333332, -0.7099999999999999, -0.6175000000000002, -0.29666666666666686, -0.49000000000000005, -0.7533333333333334, -0.9916666666666666, -1.0433333333333332, -1.5216666666666665, -1.6674999999999998, -1.2091666666666667, -0.8533333333333334, -0.91, -0.40666666666666673, -0.36000000000000004, -0.059166666666666735, -0.13416666666666685, 0.25249999999999984, 0.5708333333333333, 0.7975, 0.6716666666666669, 1.5499999999999998, 1.8625, 1.8958333333333333, 1.23, 1.1208333333333333, 0.33583333333333343, -0.4583333333333333, -1.2358333333333333, -1.3441666666666665, -1.3583333333333334, -1.3241666666666667, -0.7675000000000001, 0.053333333333333434, 0.2966666666666666, 0.6916666666666665, 1.2383333333333333, 1.3849999999999998, 0.9708333333333332, 0.6658333333333332, 0.24083333333333337, -0.6666666666666669, -1.2516666666666667, -0.9925, -0.9633333333333333, -1.1808333333333334, -0.47000000000000003, 0.37833333333333335, 0.4116666666666667, 0.22499999999999978, 0.525, 0.16833333333333345, -0.5241666666666668, -1.1816666666666666, -1.2941666666666662, -2.0341666666666667, -2.2800000000000002, -2.4116666666666666, -2.07, -2.0500000000000003, -1.4858333333333331, -1.2983333333333336, -0.6658333333333335, -0.36749999999999994, -0.17250000000000013, -0.38166666666666665, 0.16083333333333336, -0.2508333333333334, -0.4533333333333334, -0.3691666666666667, -0.0074999999999999884, -0.4533333333333334, -0.6791666666666667, -0.43166666666666664, -0.07166666666666661, -0.2516666666666667, -0.07750000000000012, 0.08000000000000003, 0.10500000000000005, -0.5375000000000001, -0.6833333333333332, -0.3708333333333334, -0.7458333333333331, -0.7908333333333334, -0.68, 0.0783333333333333, 0.13583333333333325, 0.36999999999999994, 0.8874999999999998, 0.8058333333333333, 0.3791666666666666, 0.9291666666666666, 0.4758333333333334, 0.0649999999999998, -0.036666666666666736, 0.09833333333333331, -0.5508333333333334, -0.9325000000000001, -0.5441666666666666, -0.9249999999999999, -1.5458333333333334, -1.096666666666667, -1.075, -1.649166666666667, -1.7991666666666666, -1.2408333333333335, -1.3283333333333334, -1.6458333333333337, -1.5266666666666666, -1.3475000000000001, -1.7300000000000002, -1.7508333333333335, -1.8133333333333332, -1.8758333333333335, -1.8041666666666665, -1.495, -1.2683333333333333, -0.7550000000000002, -0.18166666666666664, -0.01666666666666672, -0.02416666666666682, 0.24249999999999997, 0.2883333333333334, -0.3775000000000001, -0.5325000000000001, -0.6766666666666666, -1.2466666666666668, -1.2633333333333334, -1.3699999999999999, -1.6141666666666667, -1.6541666666666668, -1.175833333333333, -1.24, -0.9750000000000001, -0.31999999999999995, -0.010833333333333398, -0.45416666666666683, -0.23750000000000013, 0.013333333333333308, -0.25833333333333325, -0.27333333333333326, -0.08916666666666669, -0.17333333333333334, -0.32, 0.20583333333333323, 0.2399999999999999, 0.0658333333333333, -0.4425000000000001, -0.6716666666666669, -1.4083333333333332, -1.6333333333333335, -1.6674999999999998, -1.71, -1.8241666666666667, -1.6633333333333338, -1.0108333333333335, -0.4025, -0.09416666666666675, -0.04666666666666671, -0.1116666666666668, -0.5541666666666668, -0.5941666666666668, -0.8891666666666667, -0.8766666666666668, -1.1125, -0.8425000000000001, -0.8041666666666666, -0.3808333333333335, 0.040000000000000036, 0.31916666666666677, -0.18750000000000008, -0.10666666666666673, 0.09750000000000018, 0.3199999999999999, 0.0841666666666665, 0.24916666666666665, 0.05833333333333327, 0.12166666666666659, -0.24750000000000008, -0.5916666666666669, -0.6783333333333333, -0.6233333333333334, -0.875, -0.8916666666666667, -0.20500000000000004, 0.09249999999999987, -0.3916666666666666, -0.5908333333333335, -0.7116666666666668, -1.0916666666666666, -1.4183333333333332, -1.0825, -0.33416666666666667, -0.24750000000000008, 0.4516666666666666, 0.69, 0.5999999999999998, 0.3016666666666667, 0.16000000000000014, 0.010833333333333398, -0.38250000000000006, -0.3400000000000001, -0.14500000000000032, -0.6041666666666666, -0.9150000000000004, -1.1016666666666668, -1.2291666666666667, -1.7083333333333333, -2.034166666666667, -1.3283333333333334, -1.0058333333333331, -0.5758333333333333, -0.01333333333333342, 0.6941666666666668, 0.8641666666666664, 1.1458333333333333, 1.515, 1.3858333333333335, 0.6624999999999999, 0.10166666666666664, -0.28333333333333327, -1.1175, -1.7025, -1.4633333333333336, -1.6216666666666668, -1.7833333333333334, -1.6933333333333334, -1.3, -0.9991666666666665, -1.469166666666667, -1.3491666666666668, -0.7725, -1.1250000000000002, -1.1458333333333333, -1.1883333333333335, -1.2066666666666666, -1.6575, -2.2183333333333337, -2.1325000000000003, -2.295, -2.7733333333333334, -2.38, -2.4258333333333333, -2.4358333333333335, -1.9558333333333333, -1.3441666666666663, -1.1800000000000002]\n",
            "{'F': 1, 'L': 2, 'E': 5, 'P': 0, 'W': 1, 'T': 1, 'S': 1, 'C': 0, 'M': 1, 'R': 4, 'D': 1, 'V': 0, 'K': 8, 'I': 3, 'G': 0, 'Q': 5, 'A': 0, 'N': 1, 'H': 0, 'Y': 0}\n",
            "{'F': 0.029411764705882353, 'L': 0.058823529411764705, 'E': 0.14705882352941177, 'P': 0.0, 'W': 0.029411764705882353, 'T': 0.029411764705882353, 'S': 0.029411764705882353, 'C': 0.0, 'A': 0.0, 'R': 0.11764705882352941, 'V': 0.0, 'K': 0.23529411764705882, 'D': 0.029411764705882353, 'G': 0.0, 'I': 0.08823529411764706, 'M': 0.029411764705882353, 'Q': 0.14705882352941177, 'N': 0.029411764705882353, 'Y': 0.0, 'H': 0.0}\n",
            "4402.0914\n",
            "0.058823529411764705\n",
            "65.09117647058822\n",
            "[1.0440714285714285, 1.0506428571428572, 1.0169404761904761, 1.0881190476190479, 1.0601309523809523, 1.0704166666666668, 1.0756785714285715, 1.0690357142857143, 1.0987619047619048, 1.0798452380952381, 1.0674285714285716, 1.052714285714286, 1.0021190476190476, 1.0281190476190476, 1.0388809523809523, 1.016357142857143, 1.036559523809524, 1.0163095238095237, 1.041047619047619, 1.0490000000000002, 1.0109642857142855, 1.0048690476190476, 1.0238333333333334, 0.9977261904761906, 0.9808928571428572]\n",
            "10.20770263671875\n",
            "(0.20588235294117646, 0.058823529411764705, 0.23529411764705882)\n",
            "[-1.9000000000000001, -2.3533333333333335, -2.2733333333333334, -2.3983333333333334, -2.546666666666667, -2.686666666666667, -2.9033333333333338, -3.1133333333333333, -3.6666666666666665, -3.4966666666666666, -2.908333333333333, -2.6333333333333333, -2.3383333333333334, -2.0433333333333334, -1.9283333333333335, -2.1816666666666666, -2.471666666666667, -2.5849999999999995, -2.436666666666667, -2.7025, -2.501666666666667, -1.7525000000000002, -1.5141666666666669, -1.3775000000000002, -1.0, -0.8449999999999999]\n",
            "{'F': 26, 'L': 49, 'E': 27, 'P': 28, 'W': 3, 'T': 51, 'S': 50, 'C': 26, 'M': 8, 'R': 23, 'D': 18, 'V': 49, 'K': 34, 'I': 34, 'G': 30, 'Q': 19, 'A': 49, 'N': 32, 'H': 12, 'Y': 32}\n",
            "{'F': 0.043333333333333335, 'L': 0.08166666666666667, 'E': 0.045, 'P': 0.04666666666666667, 'W': 0.005, 'T': 0.085, 'S': 0.08333333333333333, 'C': 0.043333333333333335, 'A': 0.08166666666666667, 'R': 0.03833333333333333, 'V': 0.08166666666666667, 'K': 0.056666666666666664, 'D': 0.03, 'G': 0.05, 'I': 0.056666666666666664, 'M': 0.013333333333333334, 'Q': 0.03166666666666667, 'N': 0.05333333333333334, 'Y': 0.05333333333333334, 'H': 0.02}\n",
            "66268.42510000015\n",
            "0.10166666666666667\n",
            "32.094500000000004\n",
            "[0.9886309523809524, 0.9466904761904761, 0.962047619047619, 0.9532380952380952, 0.9506309523809523, 0.9666190476190477, 0.9892380952380951, 0.9851904761904762, 0.989452380952381, 1.0068928571428573, 0.9775476190476191, 1.006047619047619, 0.9634404761904762, 0.9962261904761904, 0.96525, 0.9510833333333333, 0.9745238095238093, 0.9869523809523809, 0.9771547619047619, 0.9814761904761904, 0.9422380952380953, 0.9691190476190477, 0.9541071428571428, 0.9516666666666667, 0.9857738095238096, 0.9184761904761904, 0.9560476190476189, 0.9614166666666667, 0.9865833333333336, 0.9425238095238095, 0.9557738095238096, 0.9649404761904763, 0.9814761904761905, 0.9850476190476191, 0.9978809523809524, 0.9758571428571428, 1.0230714285714286, 0.9690714285714286, 0.9827619047619048, 0.9823571428571428, 1.0035595238095236, 0.9649404761904761, 1.0038571428571428, 0.9843333333333333, 0.9613690476190477, 0.9777261904761906, 0.9696547619047619, 1.0073690476190476, 0.9720714285714285, 1.0013571428571428, 0.9909285714285713, 0.9728809523809523, 1.0211428571428571, 0.9764999999999999, 1.0166071428571428, 1.0065238095238096, 0.9782380952380954, 1.0140357142857144, 1.0164285714285715, 0.9643452380952381, 0.9847261904761906, 0.9800952380952381, 1.0022142857142857, 0.9863690476190476, 0.9669880952380953, 0.9955595238095237, 0.9500000000000002, 0.9624166666666667, 0.9545833333333333, 0.9604285714285714, 0.9921309523809524, 0.952154761904762, 0.988797619047619, 0.9931904761904762, 0.9624404761904761, 0.9758809523809524, 1.0001904761904763, 0.948297619047619, 0.9930952380952379, 0.9485238095238093, 0.9679404761904762, 0.9905595238095237, 0.9893095238095239, 0.9764166666666666, 0.9583333333333334, 0.9702500000000001, 0.9624166666666667, 0.9883571428571429, 0.9545833333333333, 0.9751785714285715, 1.0157142857142858, 0.9826904761904761, 0.976857142857143, 0.9825238095238095, 1.0122261904761902, 1.011047619047619, 1.008702380952381, 1.007345238095238, 1.012, 0.9858690476190475, 1.0008333333333335, 1.0271666666666668, 0.9607380952380952, 1.0137857142857145, 0.9823571428571428, 0.9727857142857143, 0.9938690476190476, 0.9797142857142856, 0.9602380952380952, 1.0088690476190476, 0.9571904761904761, 1.0137857142857143, 1.0290119047619048, 1.011154761904762, 1.0221666666666667, 1.0251666666666668, 0.9869166666666668, 1.014702380952381, 0.9813928571428573, 0.9980238095238095, 1.0027261904761904, 0.9889880952380953, 1.0087380952380953, 1.0119642857142856, 1.0401428571428573, 1.015797619047619, 0.9940357142857142, 1.0380119047619047, 0.9688095238095238, 0.9885, 0.9992619047619048, 0.9868333333333335, 1.013904761904762, 0.9765714285714285, 0.9842976190476191, 1.0137142857142858, 1.0030833333333333, 1.014952380952381, 1.0374166666666669, 1.0344404761904764, 1.023452380952381, 1.0580238095238097, 1.0564761904761906, 1.029095238095238, 1.0270238095238096, 0.9876785714285715, 1.0065238095238096, 0.9715952380952382, 0.9875595238095238, 0.9863214285714286, 0.9754166666666667, 1.0278214285714289, 1.0030238095238095, 0.9797261904761905, 1.008547619047619, 1.0292380952380953, 1.026714285714286, 0.9936309523809522, 1.0055357142857144, 0.972845238095238, 0.9754880952380953, 0.965309523809524, 0.9574880952380954, 0.9567380952380953, 1.011059523809524, 0.9772738095238095, 1.0258095238095237, 1.0489523809523813, 1.0405952380952381, 1.064654761904762, 1.0407023809523808, 1.0447976190476191, 1.0146428571428574, 1.0422500000000001, 1.003988095238095, 1.0044285714285714, 0.9639166666666668, 0.9765714285714285, 0.9671785714285716, 0.9796071428571429, 0.9696071428571429, 0.9435952380952382, 0.9727261904761905, 0.9736309523809523, 1.0035476190476191, 1.0279285714285715, 1.0105595238095237, 1.0310000000000001, 1.0428333333333335, 0.9978333333333333, 1.0422142857142858, 0.9932857142857143, 1.0207023809523808, 1.0073214285714287, 0.9610476190476192, 0.9874761904761906, 0.9787261904761906, 1.0201190476190476, 0.9730714285714287, 0.9741309523809524, 1.0239642857142859, 0.9793095238095239, 1.0263333333333333, 1.0094166666666666, 0.9875714285714287, 0.9939166666666667, 1.0241904761904763, 0.9889285714285714, 1.0451904761904762, 1.0089404761904763, 1.0197738095238098, 1.0130833333333333, 1.0136309523809524, 0.9957738095238097, 1.0291428571428571, 0.9635238095238096, 1.0035119047619048, 0.9780833333333334, 1.0055833333333333, 0.9928214285714285, 0.9490714285714287, 0.965202380952381, 0.9664761904761905, 0.963952380952381, 0.9788214285714286, 0.9816428571428572, 0.963702380952381, 1.00425, 0.9653214285714287, 0.9934166666666667, 0.9830357142857143, 0.9689642857142857, 0.9950714285714286, 0.9815476190476191, 0.9979761904761902, 0.9784166666666666, 0.9746785714285713, 0.993345238095238, 1.020857142857143, 1.0039642857142856, 1.0171904761904762, 0.9956309523809523, 0.991964285714286, 0.9998928571428571, 1.027309523809524, 0.9599404761904761, 0.9958928571428571, 0.991095238095238, 0.9691071428571428, 0.9808095238095239, 1.0002380952380954, 0.970452380952381, 0.9662142857142858, 0.9956666666666666, 0.9833690476190475, 1.0248214285714288, 1.0185357142857143, 1.0188333333333335, 0.9846904761904763, 1.0190357142857143, 1.0116190476190479, 0.9751904761904763, 0.9768333333333333, 0.9872261904761905, 1.0008333333333335, 0.9730833333333334, 1.0276190476190477, 1.0278333333333334, 1.0146904761904763, 1.0263333333333333, 1.0043809523809526, 1.0393571428571429, 1.0222619047619048, 0.9671785714285716, 0.9886547619047621, 0.9969166666666668, 0.9770595238095239, 1.0131428571428571, 1.0019285714285713, 1.0191666666666666, 1.0251428571428571, 1.0288571428571427, 1.0311071428571428, 1.0404880952380953, 1.0421190476190478, 1.0114404761904763, 0.9885119047619049, 0.985845238095238, 0.9929880952380953, 0.9618928571428572, 0.9835833333333333, 0.9435238095238095, 0.9672142857142857, 0.9495476190476191, 0.9598690476190477, 0.9631666666666667, 0.9915, 0.9681547619047618, 0.9761309523809525, 0.9814880952380953, 0.9597738095238094, 0.9681309523809523, 0.9581190476190476, 0.9724285714285714, 0.9601666666666666, 0.9501428571428571, 0.9957976190476191, 0.9561309523809524, 0.9845119047619048, 0.9803095238095239, 0.9707738095238095, 1.0053214285714287, 0.9670833333333333, 0.9792738095238097, 0.9855833333333334, 1.0296309523809524, 1.010702380952381, 0.986654761904762, 0.9898333333333333, 1.036654761904762, 0.9661904761904762, 0.9856190476190476, 1.0047142857142857, 0.9628571428571429, 0.9996071428571428, 1.0138571428571428, 0.9599523809523809, 1.017357142857143, 0.9831071428571428, 0.9730952380952382, 0.9878928571428572, 1.0117619047619049, 0.9885357142857144, 1.0238809523809524, 0.9879523809523809, 1.012392857142857, 0.9868214285714286, 1.025654761904762, 0.9589404761904762, 0.9864404761904763, 1.0134761904761906, 0.9802261904761904, 0.9780476190476192, 1.0344166666666668, 0.9796666666666667, 1.0393690476190478, 1.0330476190476192, 1.013940476190476, 1.0411190476190477, 1.0227142857142857, 1.012047619047619, 0.9799166666666667, 0.9861904761904763, 0.9719404761904764, 0.9984880952380953, 0.9684642857142857, 0.9642857142857143, 1.006416666666667, 0.9834285714285714, 0.9917619047619046, 1.0270595238095237, 1.0237261904761905, 1.0071428571428571, 1.0303690476190477, 1.005107142857143, 1.0230119047619046, 0.9652500000000002, 0.979142857142857, 0.9757619047619047, 0.9749761904761906, 1.009845238095238, 0.9980000000000001, 0.966642857142857, 1.0157976190476192, 0.9771666666666666, 0.9777857142857143, 0.9987738095238095, 0.9909761904761906, 0.9668928571428572, 1.0130476190476192, 0.9634761904761907, 1.0093214285714285, 0.9637500000000001, 0.9812261904761905, 1.003857142857143, 0.974952380952381, 0.996654761904762, 0.9841428571428572, 1.0392857142857144, 0.9895833333333334, 1.026892857142857, 0.9688809523809523, 0.9762857142857144, 0.9713809523809525, 0.9635833333333333, 0.969190476190476, 0.994452380952381, 1.0013809523809525, 1.0023809523809522, 1.0008809523809523, 1.0233333333333332, 0.9948928571428571, 1.0306190476190475, 0.9961785714285715, 1.016690476190476, 0.9935952380952381, 0.9923333333333333, 0.9780238095238095, 0.983154761904762, 0.9949404761904761, 0.9854404761904763, 0.9956428571428572, 0.9937619047619047, 0.9997142857142857, 1.052154761904762, 1.0206071428571428, 1.041404761904762, 1.0258571428571428, 1.0020357142857144, 1.0433333333333334, 1.0105238095238096, 0.9791785714285715, 1.00025, 0.981297619047619, 0.9637380952380953, 0.9704642857142858, 0.9566785714285715, 0.9991071428571429, 0.9632738095238095, 1.0078690476190477, 1.0004166666666667, 1.0011904761904762, 0.9695952380952381, 0.9803095238095239, 0.9769166666666668, 0.985107142857143, 0.9436785714285715, 0.9441071428571428, 0.9595238095238097, 0.9809880952380953, 0.9623690476190476, 1.0160833333333332, 1.0130476190476192, 1.0138809523809524, 0.984440476190476, 1.0044166666666667, 1.0226904761904763, 0.9871428571428572, 0.9745238095238096, 1.001059523809524, 0.9671190476190477, 0.9665595238095238, 0.9711190476190475, 0.9786428571428571, 1.0101309523809525, 0.9948214285714285, 1.0114285714285716, 0.9772857142857144, 1.0111309523809524, 1.0279642857142857, 1.0450833333333334, 1.032404761904762, 1.0353928571428572, 1.0108809523809523, 1.0526071428571429, 1.0177142857142858, 1.0114285714285716, 0.9717857142857143, 0.9837738095238093, 1.012357142857143, 0.9462142857142857, 0.9786785714285715, 0.9817857142857145, 1.0253214285714287, 0.9905714285714285, 1.0041666666666669, 0.9828214285714286, 1.0141547619047617, 0.9941666666666668, 1.0243928571428573, 0.9914642857142857, 1.0175833333333333, 1.0114880952380954, 0.9986666666666667, 0.9980119047619047, 1.029440476190476, 1.001404761904762, 1.0153571428571428, 1.0008452380952382, 0.9758928571428571, 1.0024642857142856, 0.9720357142857142, 0.9854880952380951, 1.0132023809523811, 0.9760833333333333, 0.9612976190476191, 0.9851666666666665, 1.0011666666666668, 0.990952380952381, 1.002547619047619, 0.9962380952380953, 0.9935357142857142, 0.9918928571428571, 1.03, 1.0131190476190477, 0.9723928571428571, 0.9746666666666667, 0.9770595238095238, 0.9790833333333333, 1.0002380952380951, 0.9867261904761904, 0.9748571428571429, 1.0303452380952383, 1.0187261904761906, 1.0191190476190475, 1.020357142857143, 1.002297619047619, 1.0024642857142858, 1.0268928571428573, 0.9943214285714287, 1.0060833333333332, 0.9753809523809525, 0.9843095238095236, 1.0034761904761904, 0.967154761904762, 0.996797619047619, 0.9857619047619046, 1.0011904761904762, 0.9938452380952382, 0.9923214285714286, 1.038095238095238, 1.0178214285714287, 1.0288809523809523, 1.0340952380952382, 1.035607142857143, 1.0411904761904762, 1.0389285714285716, 0.9867738095238094, 1.0194642857142857, 0.9626547619047618, 0.9632261904761905, 0.9505833333333332, 0.9429761904761905, 0.9472738095238095, 0.9833452380952379, 0.9685476190476191, 0.9855357142857143, 1.0114642857142857, 0.9879047619047618, 0.9996071428571428, 0.9932738095238095, 1.0027857142857144, 1.0118333333333334, 1.0023571428571427, 0.9777261904761904, 1.022154761904762, 0.9910119047619048, 0.9748809523809524, 1.006702380952381, 0.9563690476190477, 0.9861785714285715, 0.9626785714285715, 0.9896071428571428, 0.9921309523809524, 0.9950833333333333, 1.018059523809524, 1.0244761904761905, 0.9964642857142856, 0.9751785714285713, 0.9775952380952381, 0.9578452380952379, 0.9610952380952382, 0.9617738095238095, 0.9760000000000001, 0.9892857142857144, 0.985, 0.9836071428571429, 0.9861309523809525, 0.988202380952381, 1.030297619047619, 0.9914642857142857, 0.9797738095238098, 1.0346904761904763, 0.9742380952380952, 1.022047619047619, 1.019309523809524, 0.9699642857142857, 1.0193809523809523, 0.96775, 1.0106904761904763, 1.004904761904762]\n",
            "8.66204833984375\n",
            "(0.32166666666666666, 0.23333333333333334, 0.22166666666666668)\n",
            "[1.4083333333333332, 1.7541666666666667, 1.8625, 1.7441666666666666, 1.1608333333333334, 0.7633333333333332, 0.22333333333333347, -0.027500000000000042, -0.7050000000000001, -0.7483333333333335, -0.7116666666666668, -0.36500000000000005, -0.1924999999999999, 0.49333333333333335, 0.3624999999999999, 0.12583333333333332, -0.20666666666666686, 0.0300000000000001, -0.2258333333333334, -0.06500000000000024, 0.38583333333333325, 0.40166666666666667, 0.5858333333333333, 1.1300000000000001, 1.2458333333333333, 0.8241666666666664, 0.3066666666666666, 0.10583333333333338, 0.05416666666666673, 0.062499999999999854, 0.4533333333333333, 0.5625, 0.37749999999999995, 0.06166666666666657, 0.004166666666666726, 0.08250000000000009, -0.06916666666666653, -0.18000000000000008, 0.4424999999999999, 0.8908333333333333, 1.075833333333333, 1.0775, 1.4025, 1.1700000000000002, 0.5916666666666666, 0.48083333333333345, 0.5400000000000001, 0.20083333333333328, 0.2333333333333334, 0.3233333333333334, 0.5675000000000001, 0.4016666666666666, 0.2316666666666667, 0.6749999999999999, 0.6083333333333334, 0.2874999999999999, 0.33249999999999985, 0.17666666666666667, 0.30166666666666664, 0.07499999999999996, 0.3466666666666667, 0.6641666666666667, 0.5058333333333332, 0.41333333333333333, 0.6974999999999998, 0.6333333333333332, 0.9575, 0.6683333333333334, 0.6466666666666665, 0.3083333333333333, -0.18000000000000016, -0.37166666666666676, -0.3958333333333332, -0.6208333333333332, -0.31833333333333336, -0.16750000000000012, 0.5191666666666664, 0.9891666666666666, 1.4891666666666667, 1.3075, 1.0433333333333332, 1.0350000000000001, 1.2233333333333332, 1.163333333333333, 1.3883333333333334, 1.638333333333333, 1.6024999999999998, 1.2425, 0.9374999999999999, 0.7083333333333334, 0.19166666666666685, -0.3325000000000001, -0.4958333333333334, -0.31750000000000006, -0.4925, -0.47166666666666685, -0.006666666666666654, 0.45666666666666683, 0.23916666666666667, 0.45666666666666655, 0.56, 0.2541666666666665, 0.1858333333333332, 0.2674999999999999, 0.014166666666666735, -0.10916666666666679, -0.2199999999999999, -0.009166666666666731, -0.24750000000000003, -0.32250000000000006, -0.4758333333333334, -0.9058333333333334, -1.3291666666666668, -1.5091666666666665, -1.6575, -1.1708333333333334, -0.8983333333333334, -0.79, -0.41833333333333345, -0.22916666666666652, -0.28416666666666673, -0.5141666666666668, -0.7091666666666668, -0.6066666666666666, -1.0925, -0.9491666666666667, -0.33666666666666667, 0.15500000000000003, 0.48416666666666663, 0.6824999999999998, 0.8891666666666665, 1.0716666666666665, 0.4408333333333332, 0.44333333333333336, 0.08083333333333338, -0.31416666666666665, -0.875, -0.9000000000000002, -0.8775, -1.2508333333333335, -1.7250000000000003, -1.4908333333333335, -1.7750000000000001, -1.6958333333333335, -1.0975, -0.4791666666666665, -0.2508333333333333, 0.5249999999999999, 0.8725, 0.8099999999999999, 0.9033333333333332, 1.1250000000000002, 0.7583333333333334, 0.30249999999999994, 0.09249999999999996, -0.2391666666666669, -0.6158333333333335, -0.41500000000000004, -0.058333333333333126, 0.22416666666666676, 0.5716666666666667, 0.83, 1.2833333333333332, 1.3991666666666667, 0.9074999999999999, 0.17833333333333323, -0.5074999999999998, -1.1325, -1.6991666666666667, -1.4333333333333333, -1.4333333333333333, -1.7008333333333334, -1.7975, -1.6191666666666666, -1.5233333333333334, -1.1316666666666666, -0.8716666666666666, -0.4741666666666668, -0.3466666666666665, -0.1891666666666668, 0.2158333333333333, 0.2675, -0.07083333333333326, -0.6766666666666667, -0.8666666666666666, -1.2925, -1.2708333333333333, -1.4349999999999998, -0.9783333333333334, -1.0675, -0.849166666666667, -0.6658333333333334, -0.06750000000000005, 0.14000000000000004, 0.12666666666666648, -0.30083333333333356, 0.25000000000000006, -0.2366666666666668, -0.5341666666666668, -0.5366666666666667, -0.6933333333333334, -1.0833333333333335, -0.91, -0.5674999999999999, -0.2841666666666667, -0.5191666666666669, -0.28916666666666657, -0.46833333333333343, -0.6741666666666667, -0.7399999999999999, -0.9766666666666667, -1.4341666666666668, -1.1225, -0.9800000000000001, -0.4175, -0.21833333333333327, -0.06083333333333337, 0.3283333333333332, 0.7341666666666667, 1.1008333333333333, 1.6416666666666666, 1.7341666666666666, 1.86, 1.4441666666666666, 1.1949999999999998, 1.1883333333333332, 0.7408333333333333, 0.395, 0.5033333333333333, 0.5683333333333335, 0.8549999999999999, 0.8566666666666666, 0.9933333333333335, 1.0891666666666668, 1.0841666666666667, 0.7858333333333336, 0.6291666666666665, 0.215, -0.2958333333333334, -1.0375, -1.0833333333333333, -1.4666666666666661, -1.4466666666666665, -1.3108333333333333, -0.6816666666666668, -0.08000000000000007, 0.3841666666666666, 0.5249999999999999, 0.47500000000000003, 0.5125000000000001, 0.5683333333333334, 0.5508333333333332, 0.6608333333333333, 0.6091666666666666, 0.0599999999999998, 0.1858333333333332, 0.08500000000000019, -0.14166666666666675, -0.6074999999999999, -0.1558333333333334, -0.1208333333333333, -0.13750000000000018, 0.25749999999999984, 0.375, -0.18166666666666675, -0.6074999999999999, -0.6983333333333334, -0.9191666666666666, -1.3525000000000003, -1.6124999999999998, -1.4908333333333337, -1.3650000000000002, -1.0633333333333332, -0.48333333333333334, -0.34333333333333327, -0.055833333333333325, -0.04083333333333331, -0.08416666666666665, -0.18833333333333324, -0.3533333333333333, -0.7575, -1.0158333333333334, -1.3066666666666669, -1.3316666666666668, -1.2183333333333335, -1.0416666666666667, -0.48500000000000004, -0.19250000000000003, 0.5324999999999999, 1.0491666666666668, 1.8366666666666667, 1.8983333333333332, 2.0275, 1.5841666666666667, 1.1824999999999999, 0.6375000000000001, 0.09916666666666674, -0.0916666666666666, 0.08083333333333358, -0.04083333333333324, 0.10916666666666656, 0.6008333333333334, 0.9541666666666667, 0.8624999999999999, 0.5341666666666667, 0.8016666666666667, 0.5491666666666668, 0.48166666666666663, 0.38000000000000006, 0.6466666666666665, 0.88, 1.0474999999999999, 0.8674999999999997, 0.8283333333333331, 0.6933333333333335, 0.5249999999999999, -0.19999999999999996, -0.2483333333333333, -0.10249999999999992, -0.47666666666666674, -0.3958333333333334, 0.1250000000000001, 0.305, 0.28916666666666657, 0.29416666666666663, 0.15666666666666662, 0.21083333333333334, 0.32749999999999996, 0.42416666666666664, 0.32666666666666666, 0.34416666666666673, 0.7016666666666667, 0.0949999999999999, 0.23583333333333337, 0.012500000000000178, -0.19083333333333338, -0.5625, -0.5216666666666666, -1.0266666666666666, -0.7000000000000001, -1.2099999999999997, -0.9049999999999999, -1.3083333333333333, -1.1483333333333337, -1.366666666666667, -1.3733333333333337, -1.4383333333333332, -1.5741666666666667, -1.8925, -1.5191666666666668, -1.3775000000000002, -0.9400000000000001, -0.4283333333333334, 0.27333333333333326, 0.4633333333333332, 0.5791666666666665, 1.0058333333333331, 1.0233333333333332, 0.4041666666666665, 0.19583333333333328, 0.09333333333333334, -0.07000000000000006, -0.6958333333333334, -0.25500000000000006, -0.021666666666666612, 0.33499999999999996, 1.0266666666666666, 1.5241666666666667, 1.505, 1.7083333333333333, 1.345, 1.1974999999999998, 0.8916666666666663, 0.7516666666666668, 0.27583333333333326, 0.004166666666666578, -0.1158333333333333, -0.04916666666666669, -0.5675, -0.2641666666666667, 0.08416666666666665, 0.20916666666666658, 0.6058333333333331, 0.7666666666666666, 1.0108333333333333, 0.6416666666666666, 0.3383333333333334, -0.10333333333333335, -0.6116666666666667, -0.7991666666666667, -0.25333333333333324, -0.3675, 0.355, 0.5483333333333335, 0.7624999999999998, 0.4708333333333332, 0.7133333333333334, 0.31083333333333346, -0.0733333333333334, -0.4224999999999999, -0.17083333333333328, -0.45250000000000007, -0.4958333333333334, -0.4691666666666667, -0.24666666666666678, -0.20083333333333334, -0.014166666666666808, -0.26500000000000007, -1.4802973661668753e-16, -0.13666666666666671, 0.005833333333333357, -0.12750000000000003, -0.26750000000000007, -0.7591666666666667, -1.2083333333333335, -1.2325000000000002, -1.2908333333333335, -1.4600000000000002, -1.1383333333333334, -1.0683333333333336, -1.01, -0.5025000000000001, 0.05250000000000007, 0.39749999999999996, 0.08999999999999986, 0.7391666666666667, 0.8133333333333335, 0.47416666666666646, 0.1525, 0.5925, 0.3833333333333335, 0.5049999999999998, 0.5174999999999997, 1.1775, 1.3083333333333333, 1.3783333333333332, 1.0525, 1.16, 0.5408333333333332, -0.21333333333333335, -0.945, -0.7191666666666666, -0.6583333333333332, -0.7233333333333333, -0.3858333333333334, 0.5366666666666666, 0.6016666666666667, 0.8433333333333333, 1.3591666666666669, 1.9174999999999998, 1.5833333333333333, 1.2349999999999999, 1.0225, 0.48166666666666674, -0.07500000000000002, -0.15833333333333335, -0.23333333333333325, -0.5066666666666667, -0.6041666666666666, -0.6283333333333337, -0.38416666666666677, -0.5291666666666667, -0.5433333333333333, -0.9975, -0.8691666666666668, -0.6699999999999999, -0.525, 0.004999999999999893, 0.6616666666666667, 0.5566666666666666, 0.39249999999999985, 0.5225, 0.3299999999999999, 0.03583333333333327, -0.36499999999999994, -0.4058333333333333, -0.9741666666666667, -0.9600000000000001, -0.9766666666666667, -0.9025000000000002, -0.7583333333333333, -0.09499999999999986, -0.3508333333333334, -0.4116666666666668, -0.26500000000000007, -0.44250000000000017, -0.7541666666666668, -0.9424999999999999, -0.71, -0.3625, -0.3425000000000001, -0.13750000000000015, 0.3891666666666664, 0.7258333333333334, 0.6575, 0.5416666666666666, 0.5750000000000001, 0.34416666666666673, 0.08666666666666649, 0.17166666666666666, 0.036666666666666625, -0.5, -0.6749999999999999, -0.4058333333333332, -0.2016666666666667, 0.49166666666666664, 0.9725, 1.1083333333333334, 1.1716666666666666, 0.8891666666666667, 0.5833333333333334, -0.21750000000000003, -1.0808333333333333, -1.45, -1.4400000000000002, -1.285, -1.2083333333333335, -0.875, -0.4125000000000001, -0.18583333333333338, -0.011666666666666861, 0.57, 0.6783333333333333, 0.6191666666666665, 0.4791666666666666, 0.5924999999999999, 0.5583333333333335, 0.018333333333333274, -0.42583333333333334, -0.445, -0.8141666666666668, -0.9916666666666668, -1.0483333333333333, -1.1658333333333333, -1.3883333333333334, -1.836666666666667, -1.78, -1.5491666666666666, -1.0383333333333333, -0.3708333333333333, 0.305, 0.7149999999999999, 1.1066666666666665, 1.2433333333333332, 0.9908333333333333, 0.5333333333333333, 0.13833333333333334, -0.4175, -0.6266666666666667, -0.8866666666666667, -0.8866666666666667, -0.735, -0.9658333333333334, -1.175, -1.0391666666666668, -1.2, -0.9066666666666667, -0.7816666666666666, 0.059166666666666735, 0.4383333333333332, 0.3008333333333331, 0.7066666666666666, 0.6683333333333333, -0.12583333333333327, -0.4166666666666666, -0.5741666666666666, -0.5508333333333333, -0.4116666666666666, 0.4275, 1.3791666666666667, 1.6049999999999998, 1.8824999999999996, 1.7641666666666669, 1.4583333333333333, 1.0216666666666667, 0.7899999999999999, 0.39749999999999996, 0.26416666666666655, 0.5283333333333334, 0.36666666666666653, 0.3841666666666663, 0.5058333333333334, 0.15499999999999994, -0.025000000000000206, -0.10500000000000013, 0.22749999999999992, 0.2316666666666666, -0.005000000000000189, 0.026666666666666505, -0.4575, -0.45, -0.7000000000000001]\n",
            "{'F': 43, 'L': 57, 'E': 44, 'P': 10, 'W': 4, 'T': 18, 'S': 49, 'C': 7, 'M': 13, 'R': 16, 'D': 24, 'V': 26, 'K': 31, 'I': 40, 'G': 8, 'Q': 21, 'A': 12, 'N': 29, 'H': 26, 'Y': 23}\n",
            "{'F': 0.08582834331337326, 'L': 0.11377245508982035, 'E': 0.08782435129740519, 'P': 0.01996007984031936, 'W': 0.007984031936127744, 'T': 0.03592814371257485, 'S': 0.09780439121756487, 'C': 0.013972055888223553, 'A': 0.023952095808383235, 'R': 0.031936127744510975, 'V': 0.05189620758483034, 'K': 0.06187624750499002, 'D': 0.04790419161676647, 'G': 0.015968063872255488, 'I': 0.07984031936127745, 'M': 0.02594810379241517, 'Q': 0.041916167664670656, 'N': 0.05788423153692615, 'Y': 0.04590818363273453, 'H': 0.05189620758483034}\n",
            "59673.44500000004\n",
            "0.13972055888223553\n",
            "37.3411377245509\n",
            "[1.0351309523809524, 1.0370595238095237, 1.034107142857143, 1.025107142857143, 1.0123452380952382, 1.0361785714285714, 1.0208690476190476, 0.9842142857142858, 1.0284761904761905, 0.9671904761904762, 0.9905119047619048, 1.0127261904761906, 0.9541547619047619, 0.9787619047619048, 0.9751547619047619, 1.0223214285714286, 0.9691428571428572, 1.0200357142857144, 0.9751428571428572, 0.9665714285714286, 0.98125, 0.9842142857142858, 0.9939166666666667, 0.9954166666666667, 1.0114880952380954, 0.9802500000000001, 1.0154642857142857, 1.0269285714285714, 0.9691547619047621, 0.9869999999999999, 1.0063095238095239, 0.9646785714285715, 1.0088095238095238, 1.0114404761904763, 0.9892142857142858, 1.0066428571428572, 1.0049285714285714, 1.0520476190476191, 1.020904761904762, 1.0238095238095237, 0.9917380952380954, 1.0328690476190476, 0.9937738095238096, 0.9996785714285714, 1.0308690476190479, 0.9933333333333335, 0.9972738095238095, 0.9901904761904762, 1.0243333333333335, 0.9992380952380954, 0.9577261904761907, 0.9712142857142856, 0.9687976190476191, 0.9808690476190476, 0.9993690476190478, 0.9939642857142859, 0.9943928571428571, 1.0189404761904763, 1.0056666666666667, 0.9792857142857142, 1.0027261904761904, 0.9662142857142858, 0.9809166666666665, 1.0101666666666667, 0.9921190476190476, 1.0316785714285714, 1.0268333333333333, 1.033059523809524, 1.0409880952380954, 0.9994404761904763, 1.0425119047619047, 0.9707857142857141, 0.9748928571428572, 0.9622380952380952, 0.9536190476190478, 0.9516666666666668, 0.9424285714285714, 0.9579285714285716, 1.0062976190476192, 0.9557619047619048, 1.0035119047619048, 0.9813928571428571, 0.9785952380952383, 0.972654761904762, 0.9996071428571428, 0.9536785714285715, 0.9708809523809524, 0.9969166666666667, 0.9318690476190477, 0.9627976190476191, 0.9581547619047619, 0.969, 1.0014166666666666, 0.9966666666666668, 0.9885833333333333, 0.9842261904761904, 1.0368333333333335, 1.0052857142857143, 1.0289642857142858, 0.9997857142857145, 0.9878333333333335, 1.0022142857142857, 1.0371904761904762, 0.9980119047619049, 0.9590119047619048, 0.9882023809523811, 0.9883571428571427, 1.0189642857142858, 0.9997380952380953, 1.0010238095238095, 1.0057380952380954, 0.9792500000000001, 0.9855000000000002, 0.9916190476190477, 0.9590000000000002, 0.9694404761904761, 0.9971309523809524, 0.9902380952380951, 0.978452380952381, 1.0211309523809524, 1.0192380952380953, 0.9803809523809525, 1.0065476190476192, 1.0371904761904762, 0.9931190476190478, 1.0078928571428571, 0.9764642857142858, 1.018904761904762, 0.9750595238095239, 1.024047619047619, 0.9620238095238095, 1.0136904761904764, 0.9731904761904764, 1.0035, 1.0024523809523809, 0.9633690476190476, 1.0034761904761904, 0.9627857142857142, 0.9884166666666665, 1.0143214285714284, 1.0114761904761904, 1.0273809523809523, 1.006714285714286, 1.031440476190476, 0.9836904761904761, 1.0047738095238095, 0.9594642857142859, 0.9595595238095237, 0.9555714285714287, 0.9645, 0.9706190476190476, 0.9506190476190477, 0.981511904761905, 1.0202261904761907, 1.016011904761905, 1.0096428571428573, 0.9664166666666668, 0.9911904761904764, 0.9773571428571428, 0.9766190476190476, 0.9983928571428573, 0.9406071428571428, 1.013261904761905, 0.9686666666666668, 1.0341666666666667, 1.0016309523809523, 0.9883809523809524, 1.0453928571428572, 1.0244047619047618, 1.0405357142857146, 1.0225714285714285, 1.0028333333333332, 1.0365714285714287, 1.009892857142857, 0.9825, 0.9881666666666666, 1.0106666666666666, 0.9557619047619047, 0.9838571428571429, 0.9879404761904763, 1.0346666666666668, 1.0117380952380954, 0.9981785714285716, 1.025047619047619, 0.9906190476190476, 1.0315595238095239, 0.9824642857142857, 1.0136785714285714, 0.9739166666666667, 1.0134880952380954, 0.9853809523809522, 0.9776904761904762, 0.9983690476190477, 0.9737380952380952, 0.9784166666666668, 1.0081785714285716, 0.9436309523809525, 0.968357142857143, 0.965761904761905, 0.9643333333333334, 0.9775238095238095, 0.9763690476190476, 0.9491071428571428, 0.9734404761904762, 0.9906428571428572, 0.9664642857142857, 1.014952380952381, 0.9467738095238095, 0.9997619047619046, 0.9663809523809525, 0.9691904761904763, 0.9858333333333333, 1.0141904761904763, 0.9757738095238095, 1.042845238095238, 1.0355595238095239, 1.0320119047619047, 1.035607142857143, 1.0088452380952382, 1.0568928571428573, 1.0314642857142857, 1.0204523809523809, 1.021107142857143, 0.9892500000000001, 1.0251309523809522, 0.9624166666666667, 0.982547619047619, 0.9826904761904762, 1.0025714285714284, 0.9857619047619048, 1.0250833333333336, 1.006154761904762, 0.9987261904761905, 1.0460476190476191, 1.0023809523809524, 0.9924642857142858, 1.010047619047619, 1.0130119047619048, 1.0121547619047622, 0.9897023809523811, 1.0492857142857144, 1.0180833333333337, 1.0345476190476193, 0.9907261904761905, 1.0324285714285715, 0.9866071428571429, 1.0272857142857146, 0.9909404761904762, 1.0382619047619048, 1.0262261904761905, 1.0171547619047618, 0.9813095238095239, 0.9932857142857143, 0.9740714285714286, 0.9880833333333334, 0.9398452380952381, 0.9483928571428573, 0.9549166666666667, 0.9798214285714286, 0.948857142857143, 0.9700000000000001, 1.0015595238095238, 0.9973095238095239, 0.9546309523809523, 0.9674166666666667, 0.9758571428571428, 0.9843095238095236, 1.0129880952380954, 0.9976785714285715, 0.9894761904761905, 0.9808095238095239, 0.9894642857142857, 0.9909404761904762, 1.0105476190476192, 0.9519166666666666, 0.999952380952381, 1.0447619047619048, 1.028107142857143, 1.024345238095238, 1.023857142857143, 1.0078452380952383, 1.0266309523809525, 1.050059523809524, 1.0203333333333335, 1.0027738095238097, 0.9788690476190477, 0.9955833333333334, 0.9843571428571429, 0.9771547619047618, 0.9936785714285715, 0.9851666666666665, 0.9609761904761904, 0.9899880952380952, 1.0196666666666665, 0.9910714285714286, 0.9773690476190475, 1.0164761904761905, 0.9794642857142858, 1.0311190476190477, 0.9687619047619048, 1.0163690476190477, 0.9819761904761903, 1.036369047619048, 0.9868928571428571, 1.0554642857142857, 1.0322380952380952, 1.0544285714285717, 1.037309523809524, 1.0240357142857144, 0.9896309523809522, 0.9824166666666666, 0.9592857142857143, 0.9613214285714287, 0.9487857142857143, 0.9590952380952382, 0.9850119047619048, 0.9655833333333335, 0.973404761904762, 0.9674523809523811, 0.9703214285714287, 0.9763928571428571, 0.9944166666666666, 0.9908452380952382, 1.0024761904761905, 0.9693333333333334, 0.9903214285714286, 1.0041904761904763, 1.001857142857143, 0.9409761904761905, 0.9672261904761906, 0.9686071428571429, 0.9729642857142857, 1.0165, 0.9987619047619047, 1.0342738095238095, 1.0163333333333333, 1.0323214285714286, 1.0164880952380952, 0.9970833333333333, 1.015845238095238, 1.005642857142857, 0.9701666666666668, 1.0105119047619049, 0.9928809523809524, 0.9736071428571427, 0.9879761904761906, 1.0121428571428572, 1.0054523809523812, 0.9631785714285714, 0.9950952380952381, 1.022107142857143, 1.018654761904762, 0.9979761904761906, 1.0582976190476192, 1.0411428571428571, 1.041595238095238, 1.0009047619047617, 1.0328214285714286, 0.9878333333333332, 0.9875119047619049, 0.9822023809523809, 1.014952380952381, 0.9752857142857143, 0.9770357142857142, 1.0205238095238098, 0.9653333333333334, 0.9900833333333333, 1.017857142857143, 0.997047619047619, 0.9975357142857144, 0.9757261904761905, 0.9887857142857144, 0.9787023809523809, 1.0002738095238095, 0.95725, 0.969904761904762, 0.9930714285714285, 0.9492738095238096, 0.9801190476190476, 0.9460238095238095, 0.961952380952381, 0.9803809523809522, 0.9634523809523811, 0.9874642857142858, 1.0023333333333333, 0.9556309523809525, 0.9766666666666666, 0.9701666666666666, 0.9643452380952381, 0.9874523809523811, 0.9478809523809526, 0.9776190476190477, 1.010190476190476, 1.0126428571428572, 1.0188690476190476, 1.0318214285714287, 1.0441190476190478, 0.998607142857143, 1.0452857142857144, 0.9683333333333332, 0.9864166666666667, 0.9774880952380953, 0.9759880952380953, 0.9984404761904764, 0.9895357142857144, 0.9710119047619049, 1.025202380952381, 0.9934999999999999, 0.9796547619047621, 0.9943095238095239, 0.9912857142857143, 1.008714285714286, 0.953, 0.9882976190476191, 0.9975952380952381, 1.015809523809524, 0.9787619047619047, 0.9765833333333335, 1.0031428571428573, 0.9580476190476193, 0.9740238095238096, 0.9682380952380951, 1.0028452380952382, 0.9929523809523809, 0.9978214285714286, 0.9825952380952382, 1.0417619047619049, 0.9771785714285715, 1.0268095238095238, 0.9653095238095238, 0.9818333333333333, 1.0087857142857142, 1.0111190476190477, 0.9723571428571428, 1.036309523809524, 0.9923214285714288, 1.052547619047619, 1.0473333333333332, 1.041107142857143, 1.0395357142857145, 1.0240357142857144, 1.0757142857142856, 1.0377619047619047, 1.034154761904762, 1.0291428571428571, 0.9939761904761905, 1.0284285714285715, 0.9641309523809524, 0.9805714285714285, 0.9734404761904762, 0.9933333333333335, 0.9740595238095238, 0.9470833333333333, 0.9758690476190478, 0.974154761904762, 1.0059166666666668, 0.9935595238095238, 0.9836071428571428, 1.0509047619047618, 1.0214285714285714, 1.0395476190476192, 1.0004285714285714, 0.991, 0.9943214285714286, 0.9889285714285715, 1.0086071428571428, 0.9937738095238096, 1.0012261904761905, 0.9804880952380954, 1.0262499999999999, 0.992095238095238, 0.9777857142857143, 1.0001309523809525, 0.9493452380952382, 0.9587738095238096, 0.9541428571428573, 0.9545714285714285, 0.9567499999999999, 0.9806904761904762, 0.9535238095238096, 0.958047619047619, 0.9623333333333335, 0.9511071428571428, 0.9613809523809523, 0.9815357142857143, 0.9650238095238096, 1.017988095238095, 1.0115119047619048, 0.9915952380952381, 1.0158095238095237, 0.9815238095238095, 0.984202380952381]\n",
            "5.64373779296875\n",
            "(0.38522954091816364, 0.19161676646706588, 0.25149700598802394)\n",
            "[-0.5016666666666666, -1.0666666666666667, -1.4441666666666668, -1.8266666666666669, -2.006666666666667, -2.4433333333333334, -2.034166666666667, -1.195833333333333, -0.6716666666666669, -0.16500000000000004, 0.6916666666666665, 1.3608333333333331, 1.3358333333333332, 1.0266666666666664, 0.7999999999999999, -0.14583333333333348, -1.009166666666667, -1.074166666666667, -1.7008333333333334, -2.204166666666667, -2.211666666666667, -2.0416666666666665, -1.7125000000000004, -1.3125000000000002, -1.0683333333333331, -0.6475000000000001, -0.13333333333333344, 0.1191666666666666, 0.568333333333333, 0.7749999999999999, 0.68, -0.15083333333333337, -0.32083333333333347, -0.1449999999999999, -0.7608333333333333, -1.1775, -1.0574999999999999, -0.9658333333333334, -1.0999999999999999, -1.12, -0.5974999999999999, -0.7099999999999999, -0.9583333333333334, -0.5708333333333335, -0.025833333333333375, -0.0016666666666667052, -0.3408333333333336, 0.04583333333333336, 0.5641666666666667, 0.5533333333333333, 0.7349999999999999, 0.9449999999999998, 0.8166666666666665, 0.45333333333333314, -0.0008333333333334636, -0.13666666666666683, -0.30749999999999994, -0.8600000000000002, -0.7066666666666667, 0.054166666666666675, 0.23416666666666663, 0.26833333333333326, 0.29916666666666664, 0.11666666666666654, -0.4150000000000001, -1.1858333333333333, -0.9883333333333333, -1.5241666666666667, -1.5000000000000002, -0.7891666666666667, -0.36916666666666664, -0.23416666666666686, -0.09166666666666685, 0.07583333333333335, 0.19583333333333328, -0.4166666666666668, -0.4741666666666668, -0.6041666666666669, -0.9358333333333332, -1.2575000000000003, -1.0175000000000003, -0.8675, -0.6741666666666668, -0.31000000000000005, 0.1716666666666665, 0.7191666666666666, 1.3099999999999998, 1.6508333333333336, 1.9583333333333333, 1.760833333333333, 1.5558333333333332, 1.0041666666666667, 0.6375, 0.1924999999999999, -0.1616666666666667, -0.6499999999999999, -0.8424999999999999, -0.7566666666666667, -0.1841666666666667, -0.15333333333333332, -0.2350000000000002, -0.07499999999999989, -0.03083333333333334, -0.06583333333333356, 0.11916666666666664, 0.2591666666666666, -0.001666666666666668, -0.021666666666666796, 0.3491666666666666, 0.4008333333333332, -0.10333333333333346, 0.16083333333333336, 0.3033333333333333, 0.34833333333333333, 0.23833333333333315, 0.7791666666666667, 0.6541666666666667, -0.021666666666666834, 0.09249999999999996, 0.6074999999999999, -0.03749999999999994, -0.5325000000000001, -0.545, -0.3425000000000001, -1.1358333333333333, -0.9558333333333334, -0.9716666666666663, -0.8216666666666668, -0.9474999999999999, -0.1491666666666669, 0.23166666666666647, 0.5558333333333331, 0.6666666666666669, 0.7416666666666667, 0.7225, 1.1833333333333333, 1.1016666666666666, 0.9066666666666666, 0.5874999999999998, 0.17166666666666663, -0.49500000000000005, -0.9775, -1.3466666666666665, -1.8608333333333331, -1.7966666666666669, -1.1708333333333332, -0.6475000000000001, -0.2950000000000002, 0.13583333333333325, 0.5133333333333333, 0.15999999999999992, 0.004166666666666578, -0.3366666666666667, -0.7399999999999999, -1.2458333333333333, -1.3591666666666669, -0.8949999999999999, -0.8066666666666666, -0.7708333333333336, -0.5191666666666666, -0.06166666666666668, -0.21500000000000008, -0.48666666666666686, -0.4133333333333334, -0.6333333333333333, -0.985, -0.9625, -0.921666666666667, -0.6941666666666668, -0.8616666666666668, -0.8566666666666668, -0.36500000000000005, -0.04833333333333334, -0.09333333333333349, 0.2808333333333331, 1.0441666666666667, 1.1891666666666667, 0.6733333333333332, 0.5483333333333332, 0.425, -0.32416666666666677, -0.6933333333333334, -0.6916666666666665, -0.7133333333333334, -0.9341666666666666, -0.3816666666666668, -0.10500000000000005, 0.12416666666666654, -0.13000000000000003, -0.38916666666666694, -0.6941666666666667, -0.5316666666666667, -0.9383333333333335, -0.49666666666666676, -0.12666666666666662, 0.5299999999999999, 1.0941666666666665, 1.718333333333333, 1.9225, 1.9566666666666663, 1.5241666666666667, 1.0516666666666665, 0.6833333333333332, 0.13750000000000004, -0.15416666666666667, -0.44583333333333347, -0.4000000000000001, -0.16000000000000006, -0.10666666666666662, -0.19833333333333347, 0.25666666666666665, -0.024166666666666597, -0.09666666666666683, -0.7116666666666668, -0.8558333333333334, -0.8833333333333333, -1.4158333333333335, -1.7333333333333334, -1.6908333333333336, -1.924166666666667, -1.585, -1.5333333333333334, -1.0883333333333336, -0.5316666666666667, -0.13666666666666685, 0.08833333333333308, 0.6666666666666664, 0.7091666666666668, 0.48083333333333317, 0.2625, 0.19749999999999981, -0.18833333333333338, -0.0741666666666667, 0.17916666666666684, 0.17166666666666655, 0.1233333333333332, 0.5808333333333334, 0.2616666666666666, -0.26916666666666683, -0.3791666666666666, -0.6066666666666666, -1.3550000000000002, -1.2775, -1.1349999999999998, -0.7308333333333334, -0.8233333333333334, -0.4958333333333334, -0.6808333333333333, -0.3075000000000001, -0.19833333333333325, 0.13666666666666658, -0.11166666666666673, 0.5475, 0.8133333333333334, 1.4316666666666666, 1.6091666666666669, 1.8208333333333335, 1.675, 1.1441666666666666, 0.46499999999999986, 0.42750000000000005, 0.1708333333333334, -0.019166666666666627, 0.16083333333333324, 0.4283333333333334, 0.5141666666666665, 0.34916666666666646, 0.6633333333333332, 0.71, 0.6024999999999999, 0.3408333333333333, 0.5183333333333332, 0.6808333333333332, 0.7141666666666667, 0.46749999999999986, 0.14499999999999993, -0.4216666666666667, -1.115, -1.1716666666666666, -1.1524999999999999, -1.4366666666666668, -1.58, -1.2691666666666668, -1.425, -1.1333333333333335, -0.7516666666666665, -0.5408333333333335, -0.7266666666666667, 0.005833333333333209, 0.6608333333333333, 0.4783333333333332, 0.2491666666666664, 0.6875, 0.37333333333333346, 0.24249999999999985, 0.13833333333333334, 0.37749999999999995, -0.13750000000000007, -0.16749999999999998, -0.3825, -0.0441666666666668, -0.4825, -0.5, -1.0850000000000002, -1.1233333333333333, -1.68, -1.6033333333333335, -1.6308333333333334, -1.265, -1.3208333333333335, -0.3691666666666668, -0.06666666666666672, -0.1600000000000004, -0.22333333333333347, -0.06499999999999995, -0.7766666666666667, -0.8758333333333335, -0.7075, -0.6766666666666669, -1.1533333333333335, -1.1708333333333336, -1.0466666666666666, -1.0333333333333334, -1.08, -0.9025000000000002, -0.5891666666666668, 0.02499999999999991, 0.665833333333333, 1.215833333333333, 1.5033333333333332, 1.1716666666666664, 0.6374999999999998, 0.26499999999999996, -0.36500000000000016, -1.0708333333333335, -1.2733333333333332, -1.6266666666666667, -1.8691666666666669, -1.2716666666666667, -1.0766666666666664, -1.2650000000000001, -1.0258333333333334, -0.49333333333333335, -0.5283333333333333, -0.8158333333333335, -0.09166666666666679, 0.4166666666666666, 0.20666666666666655, 0.20916666666666658, 0.7450000000000001, 0.2850000000000001, -0.29916666666666686, -0.6608333333333334, -0.3924999999999999, -0.9225, -1.4258333333333335, -1.3741666666666668, -0.7475, -1.1108333333333333, -0.8925000000000002, -0.3291666666666667, -0.2066666666666667, -0.24000000000000007, 0.18000000000000002, 0.5575, 0.5658333333333333, 0.4841666666666666, 0.7516666666666666, 0.7374999999999999, 0.7591666666666668, 0.8116666666666666, 0.42833333333333323, 0.5125, 0.49, 0.18416666666666645, 0.0408333333333332, 0.14083333333333345, 0.2816666666666668, 0.17999999999999983, 0.3849999999999998, 0.6116666666666665, 0.09583333333333337, -0.40916666666666685, -0.4916666666666667, -0.3500000000000001, -0.21166666666666667, -0.30000000000000004, 0.4999999999999998, 1.2916666666666667, 1.2974999999999997, 1.1066666666666665, 0.8766666666666666, 0.12416666666666669, -0.9333333333333335, -1.3075, -1.4791666666666667, -1.425, -1.1175, -0.09416666666666673, 0.6033333333333333, 1.2758333333333332, 1.3716666666666668, 1.6658333333333333, 0.9816666666666668, 0.5308333333333332, -0.2558333333333333, -0.9050000000000001, -1.3625, -1.7791666666666668, -1.5116666666666667, -0.9233333333333333, -0.5800000000000001, -0.3025, 0.18166666666666656, 0.6291666666666668, 0.7016666666666665, 0.34249999999999997, 0.4083333333333334, 0.35333333333333344, -0.037500000000000054, -0.38333333333333347, -0.4858333333333335, -0.395, -0.9841666666666667, -0.8475000000000001, -0.9266666666666667, -0.43750000000000017, -0.5141666666666667, -0.22500000000000023, -0.23749999999999996, 0.2366666666666665, -0.24083333333333337, 0.05833333333333316, -0.2108333333333333, -0.13250000000000015, -0.7233333333333335, -0.7291666666666669, -0.6691666666666666, -0.8616666666666669, -1.3383333333333336, -1.1483333333333332, -1.3833333333333335, -1.5416666666666667, -1.595, -1.1416666666666666, -0.7358333333333332, -0.3491666666666668, 0.26083333333333325, 0.7583333333333332, 1.163333333333333, 1.5399999999999998, 1.7516666666666663, 1.7683333333333333, 1.4991666666666665, 1.5691666666666668, 1.1058333333333332, 0.6633333333333332, 0.27916666666666656, -0.5124999999999998, -1.0891666666666666, -1.2366666666666666, -1.1166666666666665, -0.8408333333333333, -0.8341666666666666, -0.659166666666667, -0.3508333333333334, -0.46916666666666673, -0.5208333333333334, -0.5466666666666666, -0.5599999999999999, -0.15750000000000006, 0.5083333333333332, 1.0275, 1.5566666666666666, 1.8, 1.9075, 1.8516666666666666, 1.6908333333333332, 1.7008333333333334, 1.4166666666666667, 1.5566666666666664, 1.4733333333333334, 1.4908333333333335, 1.1166666666666665, 0.9141666666666666, 0.44416666666666654, 0.13833333333333342, -0.5066666666666667, -1.0466666666666669, -1.4924999999999997, -1.6208333333333333, -2.2675, -2.435]\n",
            "{'F': 16, 'L': 28, 'E': 22, 'P': 23, 'W': 10, 'T': 43, 'S': 29, 'C': 19, 'M': 9, 'R': 28, 'D': 20, 'V': 33, 'K': 28, 'I': 34, 'G': 29, 'Q': 19, 'A': 24, 'N': 39, 'H': 10, 'Y': 11}\n",
            "{'F': 0.03375527426160337, 'L': 0.05907172995780591, 'E': 0.046413502109704644, 'P': 0.04852320675105485, 'W': 0.02109704641350211, 'T': 0.09071729957805907, 'S': 0.06118143459915612, 'C': 0.04008438818565401, 'A': 0.05063291139240506, 'R': 0.05907172995780591, 'V': 0.06962025316455696, 'K': 0.05907172995780591, 'D': 0.04219409282700422, 'G': 0.06118143459915612, 'I': 0.07172995780590717, 'M': 0.0189873417721519, 'Q': 0.04008438818565401, 'N': 0.08227848101265822, 'Y': 0.023206751054852322, 'H': 0.02109704641350211}\n",
            "53284.21910000006\n",
            "0.0780590717299578\n",
            "43.64964135021097\n",
            "[0.9694166666666666, 0.9673333333333334, 0.9380476190476191, 0.9465595238095239, 0.9544047619047621, 0.980547619047619, 0.946357142857143, 0.992702380952381, 0.9602023809523811, 0.9824761904761905, 1.0373333333333334, 1.0069880952380952, 1.0062142857142857, 1.0401309523809525, 0.9986904761904762, 1.0028333333333332, 0.9714761904761906, 0.9665714285714286, 0.9665238095238096, 0.9835714285714287, 0.9972738095238095, 1.0054642857142857, 0.9952380952380954, 1.042059523809524, 1.0024047619047618, 1.0130238095238095, 1.0570238095238096, 1.0120714285714287, 1.0550952380952383, 1.0340238095238097, 0.9980119047619049, 1.03175, 0.9760357142857143, 0.9771547619047618, 0.9849166666666666, 0.9657499999999999, 0.9523452380952381, 0.9662142857142858, 0.9492738095238094, 0.9755595238095238, 1.003797619047619, 0.987845238095238, 1.0264166666666665, 1.0236190476190474, 1.0409285714285712, 1.0434404761904763, 1.0342857142857143, 1.0371190476190475, 0.9857976190476189, 1.0104404761904762, 0.9947738095238096, 1.0254404761904763, 0.9949642857142857, 0.9872976190476191, 1.024761904761905, 1.0386190476190478, 1.0238452380952383, 0.9785238095238097, 1.0299166666666668, 0.9885119047619048, 0.994904761904762, 1.0383214285714288, 0.9943809523809523, 1.0122261904761904, 0.9940952380952381, 1.0052380952380955, 1.0376190476190477, 0.9926428571428572, 0.9850833333333333, 0.993452380952381, 0.9990238095238096, 1.005, 0.9581904761904761, 0.974, 0.997547619047619, 0.959095238095238, 0.9758095238095239, 1.0144761904761905, 0.9954523809523811, 1.0148452380952382, 0.9920357142857141, 1.0425476190476193, 1.0065714285714285, 0.9783809523809524, 0.9992619047619048, 1.02625, 0.965261904761905, 0.9969761904761906, 0.9899166666666666, 0.9574880952380953, 0.9626547619047617, 0.9645952380952381, 0.9714880952380953, 0.9490357142857142, 0.9840119047619047, 0.9472619047619049, 0.9932380952380951, 0.9946904761904762, 0.9673928571428573, 1.0008690476190476, 0.9987499999999999, 0.9839523809523809, 0.9869523809523809, 1.0101428571428572, 1.0186071428571428, 1.011702380952381, 0.9947619047619047, 1.0260833333333335, 1.0275238095238095, 1.0399285714285715, 0.9942142857142858, 1.0519047619047621, 1.009261904761905, 0.9855833333333334, 1.026107142857143, 0.9687976190476191, 1.01525, 0.9740714285714286, 1.0000119047619047, 0.9985119047619048, 1.0223928571428573, 0.9865000000000002, 1.0313928571428572, 1.0387857142857144, 1.045297619047619, 1.0229166666666667, 1.0382380952380952, 1.0415000000000003, 0.9842142857142858, 0.9970833333333334, 0.9812023809523809, 0.9606904761904763, 0.9582857142857142, 0.9660357142857143, 1.005059523809524, 0.9490000000000001, 1.0085238095238096, 0.9593095238095237, 0.9861190476190477, 1.0129404761904761, 0.9738333333333332, 1.030047619047619, 1.0288452380952382, 1.0243690476190477, 1.0369404761904761, 1.035809523809524, 1.0204642857142856, 1.0253095238095238, 0.9781666666666669, 1.0037500000000001, 0.9649166666666666, 0.9714404761904761, 0.996404761904762, 0.9505, 1.0078214285714284, 0.9742380952380952, 0.9831071428571428, 0.987, 0.9734523809523811, 0.9952142857142857, 0.9906904761904762, 0.9809761904761904, 0.9771190476190474, 1.0237023809523809, 1.0132738095238096, 0.9758690476190476, 1.028952380952381, 0.9835238095238095, 1.0442738095238095, 1.0002619047619046, 0.9771428571428573, 1.0145595238095235, 0.9567738095238095, 0.9731428571428571, 0.9560833333333334, 0.9531428571428571, 0.9797619047619047, 0.9829047619047618, 0.9683571428571428, 0.9902380952380951, 0.9571190476190475, 0.991440476190476, 0.9626190476190478, 0.9759523809523808, 1.016952380952381, 0.9660833333333333, 1.0578690476190478, 1.0287738095238095, 1.0525595238095238, 1.0502619047619048, 1.006714285714286, 1.059940476190476, 1.025988095238095, 1.0129285714285714, 1.0193214285714285, 1.0151785714285715, 0.983238095238095, 1.0313333333333334, 1.0050833333333333, 0.9800714285714285, 1.0189880952380952, 0.9837619047619047, 0.9776785714285714, 1.0004047619047618, 0.9540119047619048, 0.9915714285714284, 0.9691666666666666, 1.0009880952380952, 0.9735714285714285, 1.0261309523809525, 0.9932261904761907, 0.9789523809523809, 0.9982857142857142, 1.0156904761904761, 0.984904761904762, 0.9920119047619047, 0.9626666666666667, 0.9812142857142857, 0.9843333333333333, 1.0061428571428572, 0.988547619047619, 1.0024642857142858, 0.9899642857142859, 1.0296904761904762, 1.0484761904761906, 1.030702380952381, 1.0261785714285714, 0.9860714285714286, 1.010404761904762, 0.9968809523809524, 1.0159761904761904, 1.0109761904761907, 1.0201071428571429, 1.0174404761904763, 0.9992500000000002, 1.0376428571428573, 1.0326309523809525, 1.0281428571428572, 1.0126785714285713, 1.0420833333333335, 1.006797619047619, 0.9832380952380954, 0.9889047619047621, 0.9779404761904763, 0.9966190476190475, 0.9562380952380953, 1.0056309523809523, 0.9832142857142856, 1.0054166666666664, 0.9767142857142856, 1.0107857142857142, 0.9697261904761904, 1.0069642857142858, 0.9598809523809522, 1.0048214285714285, 1.0017261904761905, 1.0177857142857143, 1.0214761904761904, 1.0262261904761905, 1.0355238095238097, 1.0282142857142857, 1.0347380952380953, 1.0465238095238096, 1.0115476190476191, 0.9899166666666666, 1.0187738095238097, 0.9871071428571428, 1.0221190476190476, 1.0048809523809523, 0.9963571428571429, 0.996452380952381, 0.959797619047619, 0.9757023809523808, 0.9692738095238097, 0.9799166666666667, 0.9775000000000001, 0.9866547619047618, 0.997845238095238, 0.9716547619047619, 0.9938809523809523, 1.012333333333333, 1.0043690476190474, 0.9713333333333332, 1.0081071428571429, 0.9981309523809523, 0.9826666666666666, 0.9760952380952381, 0.9688214285714284, 1.0108690476190476, 0.9693214285714286, 1.017857142857143, 1.013309523809524, 0.9868333333333335, 1.013809523809524, 0.9904761904761905, 1.0327380952380953, 1.0164642857142858, 0.9936547619047619, 0.9985833333333334, 1.0239642857142859, 1.025809523809524, 0.9795119047619049, 1.0022261904761904, 1.0355357142857144, 1.0016428571428573, 0.991309523809524, 1.0155238095238097, 1.0232142857142859, 0.9789285714285715, 0.9937142857142857, 1.02225, 1.0083333333333333, 1.0020238095238096, 0.9862261904761903, 0.9744047619047619, 0.9786309523809525, 0.9882261904761904, 0.9569880952380952, 0.9925357142857143, 1.0055952380952382, 1.010011904761905, 1.0242142857142857, 1.0244166666666668, 1.0336904761904762, 1.0366785714285716, 0.9973690476190475, 1.0428333333333333, 0.9752857142857142, 1.0105833333333334, 0.9911309523809523, 0.9794761904761904, 1.0031904761904762, 0.9583809523809524, 1.0102142857142857, 0.9663095238095238, 1.0169404761904761, 0.9970357142857141, 1.0054285714285716, 0.9530833333333333, 0.9739523809523809, 0.9719166666666668, 0.9636190476190476, 1.0047142857142854, 0.969797619047619, 0.9994761904761905, 0.9945833333333334, 0.9815833333333334, 0.9933214285714287, 1.014547619047619, 0.9879285714285715, 0.9770119047619046, 0.9669404761904762, 0.9890952380952381, 1.0144404761904764, 0.9959761904761906, 0.9907380952380952, 1.0144761904761905, 0.9909642857142857, 1.0355357142857142, 1.019202380952381, 1.0264880952380953, 1.0289166666666667, 1.030904761904762, 1.0260238095238097, 1.0415595238095239, 1.040654761904762, 1.0355833333333333, 1.0354761904761904, 1.0191904761904762, 0.9929047619047618, 1.0122380952380954, 0.9780714285714287, 1.0008333333333332, 0.9529642857142856, 1.0004523809523809, 0.9722738095238095, 1.021095238095238, 0.9844404761904761, 0.971107142857143, 0.9841071428571427, 1.00275, 0.9634166666666666, 0.9628690476190476, 0.9978452380952382, 0.9783690476190475, 0.973392857142857, 1.0068452380952382, 0.9916547619047618, 0.9806190476190476, 0.9796904761904761, 0.9810357142857145, 0.996142857142857, 1.0021547619047617, 0.9970952380952381, 0.9759761904761904, 1.0159404761904762, 0.9946428571428572, 0.9671309523809525, 0.9700833333333333, 0.9806309523809524, 0.9502857142857143, 0.9704523809523812, 0.992404761904762, 0.9844285714285715, 0.9653809523809526, 0.9964404761904762, 0.9887499999999999, 0.9603452380952382, 0.9678333333333333, 0.9710119047619047, 0.9904642857142857, 0.9922261904761904, 1.0145595238095235, 1.0100714285714285, 1.027297619047619, 1.036797619047619, 1.0252857142857141, 1.045190476190476, 1.0288214285714286, 1.0217738095238094, 1.0230119047619046, 1.0359285714285715, 0.9980952380952381, 0.9940119047619047, 1.0242380952380952, 1.0206309523809525, 1.0207380952380953, 1.0190833333333333, 1.0247499999999998, 1.0364047619047618, 1.0069880952380952, 1.0292738095238096, 1.0262976190476192, 1.0106666666666666, 0.9868333333333332, 1.0268809523809523, 1.0151785714285717, 1.020702380952381, 0.9765833333333335, 1.0026904761904762, 1.0373214285714287, 0.9698928571428572, 1.0325000000000002, 0.9651309523809525, 0.9991666666666668, 1.0370952380952383, 0.9732023809523809, 1.0410238095238096, 1.0002857142857142, 0.9858095238095237, 1.0210357142857145, 0.9783452380952381, 1.0060595238095238, 1.0026785714285713, 0.9857380952380952, 1.001857142857143, 0.9814880952380951, 1.0377500000000002, 0.9831666666666666, 0.9953928571428573, 0.9768571428571429, 0.9871309523809524, 1.0085, 0.9869166666666667, 0.9959761904761903]\n",
            "8.99859619140625\n",
            "(0.27848101265822783, 0.25316455696202533, 0.1751054852320675)\n",
            "[0.5908333333333334, 0.6466666666666666, 0.7858333333333332, 1.1691666666666667, 0.6691666666666669, 0.8716666666666666, 0.6691666666666668, 0.5733333333333334, -0.025000000000000133, 0.05666666666666664, -0.4124999999999998, -0.8075000000000001, -1.2266666666666666, -0.8416666666666667, -0.7999999999999999, -0.21583333333333343, 0.5216666666666666, 1.0516666666666665, 0.8833333333333333, 1.1066666666666667, 0.6658333333333334, 0.3999999999999999, -0.19250000000000003, -0.6525, -1.0208333333333333, -1.3333333333333333, -1.68, -1.92, -2.393333333333333, -2.1233333333333335, -2.228333333333333, -1.8066666666666666, -1.2874999999999999, -0.9816666666666666, -0.5166666666666667, -0.012499999999999992, 0.45083333333333336, 0.6000000000000001, 0.5208333333333334, 0.465, 0.18833333333333332, -0.31583333333333347, -0.6141666666666667, -1.3324999999999998, -1.9475, -2.045, -2.021666666666667, -1.6091666666666669, -1.3141666666666667, -1.0983333333333334, -0.6425000000000001, -0.41500000000000004, -0.5425000000000001, -0.6700000000000003, -0.7108333333333333, -0.8783333333333334, -1.11, -0.9066666666666666, -0.8383333333333334, -1.3891666666666669, -1.5433333333333332, -1.4208333333333334, -1.14, -1.4225, -1.2850000000000001, -1.0125000000000002, -0.9633333333333334, -0.9350000000000002, -1.05, -0.6316666666666666, -0.5083333333333332, -0.5141666666666668, 0.2274999999999999, 0.8383333333333333, 0.7158333333333332, 0.540833333333333, 0.3141666666666666, 0.28333333333333344, -0.5416666666666669, -1.0233333333333334, -0.7633333333333333, -0.4991666666666667, -0.5691666666666667, 0.05749999999999996, 0.4716666666666666, 0.4833333333333332, 0.3933333333333333, 0.9224999999999999, 1.2441666666666664, 1.1683333333333332, 1.4466666666666665, 1.5858333333333334, 1.4941666666666666, 1.3241666666666665, 1.0049999999999997, 0.6566666666666668, 0.4108333333333334, -0.17250000000000001, -0.14583333333333348, 0.07583333333333342, 0.2525, -0.07750000000000012, -0.12416666666666672, 0.11083333333333341, -0.6666666666666669, -0.9391666666666668, -1.1541666666666666, -1.1033333333333333, -1.6333333333333335, -1.6800000000000004, -1.295, -0.98, -0.9475000000000001, -0.7558333333333334, -0.4000000000000002, -0.1758333333333333, -0.32083333333333347, -0.3941666666666667, -0.007500000000000136, -0.5116666666666666, -0.826666666666667, -1.3908333333333334, -1.5849999999999997, -2.3275, -2.8033333333333332, -2.6791666666666667, -2.6491666666666664, -2.5325, -1.6216666666666668, -0.6416666666666667, -0.14583333333333356, 0.2316666666666665, 0.7808333333333334, 0.6774999999999999, 0.44499999999999984, 0.7833333333333332, 0.7466666666666667, 0.8483333333333333, 0.8408333333333333, 0.7616666666666667, 0.4608333333333332, -0.2658333333333334, -0.9058333333333333, -1.6925000000000001, -2.203333333333333, -2.245833333333333, -2.6533333333333338, -1.9991666666666665, -1.2558333333333334, -0.9808333333333334, -0.4158333333333335, -0.050833333333333286, 0.019166666666666554, -1.4802973661668753e-16, 0.20166666666666666, 0.6041666666666669, 0.4891666666666666, 0.2708333333333333, 0.6741666666666665, 0.7416666666666667, 0.6858333333333332, 0.26750000000000007, 0.34500000000000003, 0.14916666666666675, -0.019166666666666703, -0.12833333333333333, 0.09583333333333328, 0.1683333333333331, 0.0024999999999999467, 0.2966666666666666, 0.42083333333333334, 0.23666666666666666, 0.3616666666666666, 0.41250000000000003, 0.38916666666666666, 0.5458333333333333, 0.37166666666666676, 0.6425, 0.5325, 1.1608333333333334, 1.6058333333333332, 1.4616666666666667, 1.5983333333333334, 1.4675, 0.8591666666666665, 0.08333333333333341, -0.7383333333333333, -1.2241666666666668, -1.9325, -2.2050000000000005, -1.8966666666666667, -1.7550000000000001, -1.5141666666666669, -0.979166666666667, -0.7058333333333332, -0.48166666666666685, -0.30083333333333334, 0.0641666666666667, 0.07416666666666664, 0.4758333333333333, 0.4791666666666668, 0.6249999999999999, 0.44916666666666655, 0.3575, 0.08916666666666669, 0.08416666666666665, -0.1799999999999999, -0.3775, -0.29000000000000004, 0.34833333333333355, 0.1958333333333334, 0.42083333333333317, 0.6083333333333333, 0.7883333333333334, 0.6391666666666667, 1.0874999999999997, 0.9858333333333332, 0.8966666666666665, 0.6858333333333334, 0.8849999999999999, 0.8316666666666667, 0.7441666666666665, 0.19749999999999998, -0.30166666666666675, -0.47000000000000003, -0.37749999999999995, -0.10583333333333315, -0.13999999999999999, -0.07666666666666666, -0.2450000000000002, -0.33000000000000007, -0.28166666666666673, -0.5833333333333331, -1.2991666666666666, -1.7266666666666666, -1.7741666666666667, -1.8941666666666668, -2.126666666666667, -1.6458333333333333, -1.0116666666666665, -0.7666666666666666, -0.24750000000000005, 0.6249999999999999, 0.835, 0.6458333333333331, 0.4516666666666665, 0.665, -0.09083333333333303, -0.08416666666666676, -0.38499999999999995, 0.13249999999999998, -0.06083333333333337, -0.01750000000000007, -0.32250000000000006, -0.5991666666666667, -1.3699999999999999, -1.7675, -2.2616666666666663, -2.500833333333333, -2.975, -2.9691666666666667, -2.3141666666666665, -2.345, -1.6241666666666665, -1.01, -0.5333333333333333, -0.44583333333333347, -0.20916666666666664, -0.24916666666666668, -0.2716666666666667, -0.6583333333333333, -0.36333333333333334, -0.5025000000000001, -0.2775, -0.36916666666666664, -0.04000000000000015, 0.43083333333333346, 0.5266666666666666, 0.24916666666666668, 0.8333333333333331, 0.5433333333333333, 0.13166666666666643, -0.024166666666666742, -0.1741666666666665, -0.67, -1.1658333333333333, -0.7441666666666668, -0.5216666666666665, -0.7866666666666667, -0.40666666666666657, -0.12749999999999995, -0.3975, -0.57, -0.9525000000000001, -1.0133333333333334, -1.165, -1.1433333333333333, -1.0808333333333333, -0.7358333333333333, -0.10166666666666672, -0.10166666666666659, -0.06666666666666672, 0.4749999999999999, 0.1441666666666667, -0.6741666666666667, -1.0783333333333334, -0.8516666666666667, -1.3933333333333333, -1.821666666666667, -1.7, -1.4333333333333336, -1.3691666666666666, -0.7316666666666668, -0.5441666666666666, 0.06583333333333323, 0.3841666666666666, 0.3724999999999999, 0.34749999999999986, 0.44, 0.19500000000000003, -0.3841666666666667, -0.8925000000000001, -0.4741666666666666, -0.8241666666666667, -0.6166666666666667, -0.3449999999999998, -0.11583333333333339, -0.28083333333333327, -0.22750000000000017, -0.1741666666666667, -0.3166666666666668, -0.5033333333333334, -0.26166666666666666, -0.39833333333333326, -0.5825, -0.27666666666666667, 0.060833333333333385, 0.034999999999999976, 0.07999999999999992, 0.29499999999999993, 0.1316666666666666, -0.012500000000000067, -0.09500000000000004, 0.08666666666666674, 0.12166666666666648, -0.08833333333333337, 0.07499999999999979, 0.05416666666666655, 0.125, 0.18916666666666662, 0.17416666666666647, -0.03749999999999998, -0.3000000000000002, -0.40499999999999997, -0.08916666666666671, -0.3416666666666666, -0.32416666666666677, -0.31750000000000006, -0.7183333333333336, -0.9033333333333337, -0.8341666666666668, -0.9466666666666664, -1.0691666666666666, -1.4450000000000003, -1.4425, -1.5291666666666668, -1.2558333333333331, -1.0841666666666667, -0.6550000000000001, -0.34, 0.21833333333333318, 0.15416666666666667, 0.7050000000000001, 0.5308333333333335, 0.16583333333333328, -0.1191666666666668, 0.2625, -0.2066666666666667, 0.11166666666666651, 0.25499999999999995, 0.33166666666666655, -0.45833333333333365, -0.12333333333333336, -0.21166666666666667, -0.8925000000000001, -1.0200000000000002, -0.4249999999999998, -0.5333333333333334, -0.2833333333333335, 0.045833333333333316, 0.1991666666666667, 0.1366666666666666, 0.03500000000000003, 0.08166666666666662, 0.19666666666666668, 0.5575000000000002, 0.3866666666666667, 0.5833333333333331, 1.1625000000000003, 1.2633333333333334, 0.6449999999999999, 1.1433333333333333, 1.0658333333333336, 0.5791666666666667, 0.49499999999999994, 1.215, 1.3716666666666668, 1.3499999999999999, 1.3908333333333331, 1.2883333333333333, 0.6591666666666665, 0.1591666666666667, -0.37250000000000005, -0.8775000000000001, -1.3458333333333334, -1.5599999999999998, -1.485, -1.2466666666666668, -1.3316666666666668, -1.3591666666666669, -1.1408333333333334, -1.2975, -1.3625, -1.1400000000000001, -1.0758333333333332, -1.1858333333333333, -1.305, -0.9725, -1.1833333333333333, -1.5833333333333337, -1.6766666666666667, -1.7425, -2.2391666666666663, -2.4133333333333336, -2.6225, -2.138333333333333, -2.1666666666666665, -1.861666666666667, -1.595, -1.4466666666666665, -1.2416666666666665, -0.7391666666666666, -0.7433333333333332, -0.12750000000000003, -0.12916666666666657, 0.005833333333333209, 0.3266666666666666, 0.45166666666666666, 0.7241666666666667, 0.6816666666666666, 0.6425, 0.8758333333333331, 0.4108333333333334, 0.5358333333333333, 0.04, -0.7783333333333332, -1.4041666666666666, -1.5391666666666666, -1.4891666666666665, -1.2591666666666665, -1.165, -0.8175, -1.1966666666666665, -1.5691666666666668, -2.106666666666667, -2.6441666666666666]\n",
            "{'F': 2, 'L': 9, 'E': 6, 'P': 3, 'W': 0, 'T': 7, 'S': 2, 'C': 0, 'M': 1, 'R': 4, 'D': 6, 'V': 4, 'K': 7, 'I': 7, 'G': 6, 'Q': 6, 'A': 2, 'N': 2, 'H': 1, 'Y': 1}\n",
            "{'F': 0.02631578947368421, 'L': 0.11842105263157894, 'E': 0.07894736842105263, 'P': 0.039473684210526314, 'W': 0.0, 'T': 0.09210526315789473, 'S': 0.02631578947368421, 'C': 0.0, 'A': 0.02631578947368421, 'R': 0.05263157894736842, 'V': 0.05263157894736842, 'K': 0.09210526315789473, 'D': 0.07894736842105263, 'G': 0.07894736842105263, 'I': 0.09210526315789473, 'M': 0.013157894736842105, 'Q': 0.07894736842105263, 'N': 0.02631578947368421, 'Y': 0.013157894736842105, 'H': 0.013157894736842105}\n",
            "8592.745799999997\n",
            "0.039473684210526314\n",
            "34.07763157894736\n",
            "[1.00825, 0.9673333333333334, 0.981654761904762, 1.012892857142857, 1.0139166666666666, 1.0250357142857145, 0.9858095238095237, 0.9896309523809522, 1.009892857142857, 0.9857976190476192, 1.029857142857143, 0.977, 1.0484404761904762, 1.0228690476190476, 1.0313214285714287, 1.0390119047619049, 1.0178928571428572, 1.0112619047619047, 1.0510714285714287, 1.0122976190476192, 1.0006904761904762, 1.0507261904761906, 1.0016904761904761, 1.048892857142857, 0.9959285714285716, 1.0529404761904761, 1.0492976190476193, 1.0502857142857145, 1.0460952380952382, 1.0319166666666666, 1.0220714285714283, 1.057904761904762, 1.0349404761904761, 1.037297619047619, 1.0235595238095239, 1.021797619047619, 1.0051309523809524, 0.9791547619047618, 0.9767857142857144, 0.9719285714285714, 0.9918214285714286, 0.9959523809523809, 1.0169047619047622, 1.0084404761904762, 1.0099880952380953, 1.0632023809523812, 1.0320119047619047, 1.0230595238095237, 1.0172380952380953, 1.0159285714285715, 1.0003928571428573, 1.026654761904762, 1.0072738095238094, 0.9763928571428573, 1.026261904761905, 0.9900238095238096, 1.0428214285714286, 1.0436666666666667, 1.034857142857143, 1.0317142857142856, 1.0102619047619048, 0.9948809523809523, 0.9864761904761905, 0.9640357142857144, 0.9535238095238096, 0.951904761904762, 0.9714880952380953]\n",
            "5.74090576171875\n",
            "(0.3026315789473684, 0.17105263157894737, 0.23684210526315788)\n",
            "[1.095, 0.7041666666666663, 0.5375, 0.1008333333333334, -0.013333333333333234, -0.315, 0.12833333333333333, 0.14416666666666658, 0.4158333333333332, 0.3366666666666667, 0.30166666666666647, 0.2258333333333334, -0.10583333333333345, -0.7825000000000001, -0.6258333333333334, -1.015, -1.0525, -0.8975000000000001, -0.7166666666666665, -0.6450000000000001, -0.8066666666666666, -0.23833333333333329, -0.5050000000000001, -0.8983333333333334, -1.0499999999999998, -1.1649999999999998, -1.7941666666666667, -1.4891666666666667, -1.6383333333333334, -1.3500000000000003, -1.5008333333333335, -1.2733333333333334, -1.445833333333333, -1.7633333333333334, -1.6741666666666666, -1.485, -1.3358333333333334, -0.6416666666666667, 0.13583333333333325, 0.5191666666666666, 0.5191666666666666, 0.6908333333333333, 0.3349999999999999, -0.5466666666666667, -1.0483333333333333, -1.4749999999999996, -1.8391666666666666, -1.6091666666666669, -1.28, -1.245, -1.3175000000000001, -1.1350000000000002, -0.7841666666666667, -1.0308333333333335, -1.0558333333333334, -1.3575, -1.7766666666666666, -2.0349999999999997, -1.7433333333333334, -1.8075, -1.2508333333333335, -0.8183333333333334, 0.17333333333333326, 0.4458333333333333, 1.2049999999999998, 1.2283333333333333, 0.9983333333333331, 0.3633333333333333]\n",
            "{'F': 18, 'L': 44, 'E': 27, 'P': 20, 'W': 4, 'T': 19, 'S': 22, 'C': 7, 'M': 4, 'R': 27, 'D': 13, 'V': 22, 'K': 12, 'I': 6, 'G': 27, 'Q': 30, 'A': 28, 'N': 3, 'H': 16, 'Y': 5}\n",
            "{'F': 0.05084745762711865, 'L': 0.12429378531073447, 'E': 0.07627118644067797, 'P': 0.05649717514124294, 'W': 0.011299435028248588, 'T': 0.05367231638418079, 'S': 0.062146892655367235, 'C': 0.01977401129943503, 'A': 0.07909604519774012, 'R': 0.07627118644067797, 'V': 0.062146892655367235, 'K': 0.03389830508474576, 'D': 0.03672316384180791, 'G': 0.07627118644067797, 'I': 0.01694915254237288, 'M': 0.011299435028248588, 'Q': 0.0847457627118644, 'N': 0.00847457627118644, 'Y': 0.014124293785310734, 'H': 0.04519774011299435}\n",
            "39740.64890000006\n",
            "0.07627118644067797\n",
            "59.869774011299434\n",
            "[1.0167380952380953, 1.001202380952381, 0.9844999999999999, 0.9754285714285713, 0.9909761904761903, 0.997845238095238, 0.9623571428571428, 0.9606190476190477, 0.9815357142857143, 0.9638571428571429, 1.0077380952380952, 0.9875476190476191, 1.0073690476190476, 0.9962857142857141, 1.0136904761904764, 0.978452380952381, 1.0028214285714285, 0.9785, 0.9854166666666666, 1.0045238095238096, 0.982392857142857, 1.0084404761904762, 0.9888095238095238, 1.0287023809523812, 1.0252738095238096, 0.9929166666666667, 0.9956547619047618, 1.0270357142857143, 0.9682619047619048, 0.9926785714285713, 0.9972857142857143, 1.0166785714285715, 0.9792857142857143, 0.9993095238095239, 1.0141785714285714, 0.9893095238095239, 1.0504880952380953, 1.0139285714285715, 1.0362857142857145, 1.0440952380952382, 1.0177380952380952, 1.0165476190476193, 0.9868214285714286, 0.9805952380952382, 0.9793452380952381, 0.9437142857142857, 0.9531666666666667, 0.9796904761904761, 0.9651071428571429, 0.9739285714285715, 0.993702380952381, 0.9679880952380954, 0.9895357142857144, 1.0229285714285716, 0.9778095238095238, 0.9940476190476191, 1.024154761904762, 1.009261904761905, 1.0116785714285714, 0.9792499999999998, 1.0094285714285713, 0.9981428571428571, 0.9806190476190478, 1.012392857142857, 0.9956428571428572, 0.9804404761904761, 1.0190238095238096, 0.99975, 0.9784404761904761, 1.010904761904762, 0.9732976190476191, 0.9839880952380953, 1.0140714285714285, 1.014404761904762, 0.9852738095238096, 1.0275119047619046, 1.0097857142857145, 1.0010357142857143, 0.9884285714285715, 0.9934880952380952, 1.0117500000000001, 1.0077380952380952, 0.9674166666666667, 0.9959761904761906, 1.0267261904761906, 0.968, 1.0050000000000001, 0.9722380952380953, 0.9868690476190475, 1.0356904761904762, 1.0098928571428571, 0.9838333333333334, 1.0426547619047621, 0.9994642857142857, 0.9986309523809525, 1.0231785714285715, 1.0112738095238096, 1.0225238095238096, 1.0260714285714287, 1.0027023809523812, 0.9984285714285716, 1.0299166666666668, 0.998642857142857, 0.9885238095238096, 1.018654761904762, 0.9608690476190476, 0.9814880952380953, 0.9911785714285715, 0.983797619047619, 0.9528333333333334, 0.9652619047619049, 0.990595238095238, 0.9600714285714286, 1.0012023809523807, 0.9697619047619047, 1.0318809523809525, 0.9918452380952381, 1.0055357142857144, 1.0204523809523809, 0.9881785714285715, 0.9767738095238094, 0.9936071428571429, 1.0044404761904762, 1.012595238095238, 0.9886547619047616, 0.9801785714285716, 1.0135, 1.0019761904761904, 0.9887857142857142, 1.0230833333333333, 1.0080357142857144, 0.9910238095238096, 1.0324285714285715, 1.0433095238095238, 1.028952380952381, 1.040047619047619, 1.033845238095238, 1.0491904761904762, 1.0011666666666665, 1.03425, 1.0326190476190475, 1.0269761904761903, 1.0298690476190475, 1.0395833333333335, 1.0075833333333333, 1.0287023809523808, 0.9899285714285714, 1.0175714285714283, 0.9802619047619048, 0.9895238095238096, 1.0103690476190477, 1.0057261904761905, 0.9824880952380952, 1.024702380952381, 0.9946904761904762, 1.0104761904761905, 0.9741309523809525, 0.993547619047619, 1.0077142857142856, 1.0071309523809524, 1.0102499999999999, 0.9792142857142858, 1.0314880952380954, 0.9932142857142858, 0.9919285714285715, 1.01125, 0.993702380952381, 0.9801666666666667, 0.9983928571428573, 1.0327380952380953, 1.0122261904761904, 0.9929523809523811, 0.9988928571428571, 1.0239404761904762, 1.0075119047619048, 0.9920238095238095, 0.9881190476190478, 1.0203571428571425, 0.9978571428571428, 0.9885, 0.9918571428571429, 0.9724642857142857, 0.995, 0.9703690476190475, 0.9915, 0.9913809523809524, 0.9898928571428571, 0.9726309523809523, 1.016297619047619, 1.0048333333333332, 1.0143690476190474, 1.0286190476190478, 0.9845357142857142, 1.0360595238095238, 1.0121785714285714, 0.9962857142857143, 1.0255238095238095, 0.9700357142857143, 1.0133809523809523, 0.9514166666666666, 0.9718333333333335, 0.9650357142857141, 0.9841547619047619, 0.9786666666666667, 1.01975, 1.0334761904761907, 1.041607142857143, 1.0394880952380952, 1.0525000000000002, 1.056857142857143, 1.0117619047619049, 1.0258928571428572, 0.9875595238095236, 0.9932619047619047, 1.006607142857143, 0.9700952380952381, 0.9589166666666665, 0.9683690476190476, 0.9561071428571429, 0.9887023809523809, 0.9637619047619049, 1.0081904761904763, 1.008142857142857, 1.0017500000000001, 1.0036785714285714, 0.9738809523809525, 0.9753928571428571, 0.9666547619047621, 0.9555476190476191, 0.962047619047619, 0.9796190476190476, 0.9600833333333334, 0.9969404761904761, 0.9650238095238096, 1.001809523809524, 0.9606428571428571, 0.9867738095238094, 1.0303928571428573, 0.9975595238095238, 1.011845238095238, 0.9997380952380953, 1.0118690476190477, 0.9941785714285714, 1.0113095238095238, 1.0116071428571427, 1.0021071428571429, 1.007952380952381, 0.9876309523809523, 0.9999880952380952, 1.0215476190476191, 0.9847857142857144, 0.9875357142857143, 1.0324285714285715, 0.9850000000000001, 1.0007857142857144, 0.9539166666666667, 0.9640119047619047, 0.9597142857142859, 0.9480714285714287, 0.9734880952380953, 0.9550833333333334, 1.0074404761904763, 1.0037142857142858, 1.0163333333333335, 1.0195595238095236, 1.0251666666666666, 0.9904285714285714, 1.0445952380952381, 0.9791785714285713, 0.9842857142857143, 1.0009761904761905, 0.9669166666666668, 1.00325, 0.9465952380952383, 0.968654761904762, 0.9677380952380953, 0.9807142857142856, 0.9932261904761903, 0.9611547619047618, 1.0121785714285714, 0.9932261904761904, 0.9708690476190478, 1.010154761904762, 0.9520357142857143, 0.9855357142857143, 0.9573809523809522, 0.9643809523809524, 0.9892619047619048, 0.9639761904761905, 1.0022261904761904, 1.0090238095238095, 1.0116309523809524, 1.023904761904762, 0.9790833333333333, 1.0039047619047619, 1.0258571428571428, 0.9987142857142859, 1.0208095238095238, 0.9705952380952381, 1.0133571428571428, 1.0004166666666667, 0.9833690476190478, 1.0310595238095241, 1.0129642857142858, 1.0544285714285717, 1.0440952380952382, 1.0454404761904763, 1.0214166666666666, 0.9988571428571428, 0.9949404761904762, 0.9913333333333336, 1.004202380952381, 0.9839880952380953, 0.9655595238095238, 1.0019642857142859, 0.9740833333333334, 0.9922738095238095, 1.030559523809524, 1.0153571428571428, 1.0416785714285715, 1.0261190476190474, 1.0457261904761905, 1.0077619047619049, 0.9932142857142858, 0.9922023809523809, 1.0084761904761905, 0.9822142857142857, 1.0006428571428572, 1.0289404761904763, 1.0404880952380953, 1.036059523809524, 1.0260119047619047, 0.9917738095238094, 0.9960833333333334, 1.0019761904761904, 0.9627857142857144, 0.9685833333333336, 0.9900714285714285, 0.9603452380952382, 1.0141904761904763, 0.96, 0.9982500000000001, 1.0286071428571428, 1.017797619047619, 1.0382142857142858]\n",
            "7.04351806640625\n",
            "(0.2796610169491526, 0.2033898305084746, 0.29096045197740117)\n",
            "[0.47000000000000003, 0.4708333333333334, 0.3325, 0.3325000000000001, 0.12583333333333338, 0.18333333333333326, 0.3908333333333333, 0.3541666666666667, -0.10833333333333335, -0.26749999999999996, -0.6358333333333334, -1.0133333333333334, -1.0775, -0.9474999999999998, -1.0833333333333335, -1.2483333333333333, -1.1208333333333333, -1.1300000000000001, -1.3350000000000002, -1.1875, -1.0716666666666665, -1.2458333333333333, -0.8366666666666669, -0.14249999999999993, -0.1100000000000001, 0.34083333333333304, 0.8283333333333331, 1.1575, 0.8033333333333333, 1.1766666666666665, 1.4625000000000001, 1.1483333333333332, 0.9091666666666667, 0.8941666666666666, 0.4875, 0.09583333333333327, -0.29750000000000004, -0.4458333333333333, -1.0108333333333335, -1.0699999999999998, -0.8575, -0.8183333333333335, -0.21083333333333334, 0.455, 0.5333333333333332, 0.8216666666666664, 0.9733333333333333, 1.0175, 0.7916666666666666, 0.9641666666666668, 0.9108333333333333, 0.8866666666666666, 1.1633333333333333, 1.3191666666666666, 0.9233333333333332, 0.6941666666666667, 0.875, 0.41583333333333344, 0.14083333333333334, 0.6041666666666666, 0.6008333333333333, 0.1491666666666666, 0.4516666666666665, 0.32416666666666677, 0.13916666666666655, -0.01750000000000007, 0.04499999999999993, -0.24666666666666673, -0.24833333333333352, -0.08666666666666674, -0.23916666666666683, -0.7708333333333336, -0.6633333333333332, -0.9325000000000001, -1.6333333333333335, -1.3716666666666668, -0.8183333333333332, -0.9633333333333333, -0.9525000000000002, -0.19833333333333325, 0.3408333333333333, 0.09833333333333316, -0.05666666666666672, 0.20416666666666675, 0.09666666666666668, -0.10416666666666667, -0.041666666666666886, 0.005833333333333228, 0.10750000000000008, -0.31416666666666665, -0.6158333333333335, -0.37499999999999994, -0.6308333333333332, -1.4108333333333334, -1.7058333333333335, -1.6633333333333333, -2.0725000000000002, -2.5641666666666665, -2.5841666666666665, -2.5108333333333333, -2.5816666666666666, -2.299166666666667, -1.6483333333333334, -1.0608333333333333, -0.5091666666666667, -0.30250000000000016, 0.2991666666666665, 0.7691666666666666, 0.7516666666666665, 0.9399999999999998, 1.3908333333333334, 1.4949999999999999, 1.1608333333333332, 1.1783333333333332, 1.2341666666666666, 0.5808333333333334, -0.25333333333333335, -0.5616666666666666, -1.0858333333333332, -1.6491666666666667, -2.285, -2.1341666666666668, -1.8991666666666667, -2.1791666666666667, -1.8275, -1.0641666666666667, -0.935, -1.0891666666666668, -0.5183333333333334, -0.525, -0.9841666666666667, -1.5408333333333335, -1.4425000000000001, -1.9716666666666667, -2.595, -2.2283333333333335, -1.9791666666666667, -2.2458333333333336, -1.9841666666666666, -1.7691666666666663, -1.9458333333333335, -1.9716666666666667, -1.885, -1.4241666666666666, -1.5983333333333334, -1.3625, -1.1975000000000005, -1.2, -1.5675, -1.4316666666666666, -1.6824999999999999, -1.6500000000000001, -1.705, -0.8391666666666668, -0.18499999999999994, -0.029166666666666823, 0.22833333333333314, 0.2783333333333333, 0.1525, -0.285, -0.2558333333333334, 0.011666666666666714, -0.21916666666666673, -0.6258333333333335, 0.009166666666666656, 0.39250000000000024, 0.27, -0.17333333333333348, 0.25, 0.3600000000000001, 0.020000000000000018, 0.03749999999999994, 0.4083333333333335, 0.4591666666666668, 0.13999999999999987, 0.30666666666666664, 0.6975000000000001, 0.5683333333333334, 0.5033333333333332, 0.5933333333333334, 1.105, 1.0133333333333332, 0.9208333333333334, 0.9283333333333332, 1.0841666666666667, 0.5316666666666667, 0.05083333333333312, -0.47083333333333327, -0.9066666666666664, -1.2716666666666667, -1.5208333333333333, -1.4558333333333335, -1.5775, -1.7474999999999998, -1.3075, -1.2133333333333334, -1.05, -0.45416666666666666, 0.03999999999999989, 0.48916666666666647, 0.7124999999999998, 0.9291666666666667, 0.6949999999999998, -0.24333333333333348, -0.6016666666666668, -1.3666666666666665, -2.1108333333333333, -2.328333333333333, -2.1433333333333335, -1.5816666666666668, -0.8966666666666668, -0.24583333333333338, -0.03250000000000014, 0.45166666666666666, 0.8166666666666668, 0.9916666666666666, 0.5341666666666666, 0.8791666666666668, 0.43749999999999994, -0.09166666666666679, -0.5133333333333332, -0.5099999999999999, -0.9016666666666665, -0.7758333333333334, -0.38666666666666677, 0.2866666666666666, 0.36249999999999977, 0.5474999999999999, 0.35249999999999976, -0.22000000000000008, -1.0116666666666667, -1.7483333333333333, -2.044166666666667, -1.9758333333333333, -1.7625000000000002, -1.2500000000000002, -0.8383333333333333, -0.6316666666666668, -0.8883333333333333, -0.6291666666666668, -0.5483333333333332, -0.8533333333333334, -1.1483333333333334, -0.8133333333333334, -1.0483333333333333, -1.1, -1.3666666666666665, -1.0516666666666665, -1.0433333333333332, -1.0466666666666666, -1.0333333333333334, -0.7983333333333333, -0.6333333333333334, -0.47833333333333333, -0.2450000000000001, 0.48500000000000015, 0.5299999999999999, 0.8791666666666668, 1.1708333333333332, 1.025, 0.5116666666666666, 0.09333333333333342, -0.4691666666666667, -0.9991666666666669, -1.3933333333333333, -1.0508333333333333, -0.9416666666666665, -0.9475000000000001, -0.40166666666666667, -0.23583333333333323, 0.1491666666666666, 0.45249999999999996, 1.07, 1.5250000000000004, 1.6383333333333334, 1.8533333333333335, 2.0975, 1.4566666666666668, 1.4841666666666666, 0.9766666666666669, 0.5908333333333332, 0.3533333333333332, 0.6741666666666667, 1.1366666666666667, 1.2124999999999997, 1.265, 1.4066666666666663, 1.0108333333333333, 0.6416666666666667, -0.15750000000000006, -0.26916666666666667, -0.3558333333333333, -0.6775000000000001, -0.8433333333333334, -0.7533333333333334, -0.6383333333333333, -1.1516666666666666, -1.5958333333333334, -1.3316666666666668, -1.480833333333333, -1.95, -1.9341666666666668, -1.8099999999999998, -2.0941666666666667, -2.5941666666666667, -2.1583333333333337, -1.8583333333333334, -1.5091666666666665, -1.1366666666666667, -0.5175000000000002, -0.4058333333333333, -0.2566666666666668, -0.09833333333333338, 0.019999999999999834, -0.35666666666666674, -0.24333333333333348, -0.4950000000000001, -0.6250000000000003, -1.209166666666667, -1.4225, -1.5366666666666664, -1.5908333333333333, -1.6833333333333336, -0.9825, -0.36833333333333335, 0.016666666666666607, -0.025833333333333375, -0.051666666666666715, -0.48583333333333334, -0.7275, -0.86, -0.9016666666666667, -1.1025, -0.6966666666666669, -0.5475, -0.1758333333333335, -0.058333333333333494, 0.19083333333333327, 0.13666666666666663, 0.020833333333333186, 0.049166666666666504, -0.08083333333333342, -0.605, -1.2033333333333334, -1.9525, -1.9566666666666668]\n",
            "{'F': 18, 'L': 44, 'E': 27, 'P': 20, 'W': 4, 'T': 19, 'S': 22, 'C': 7, 'M': 4, 'R': 27, 'D': 13, 'V': 22, 'K': 12, 'I': 6, 'G': 27, 'Q': 30, 'A': 29, 'N': 3, 'H': 15, 'Y': 5}\n",
            "{'F': 0.05084745762711865, 'L': 0.12429378531073447, 'E': 0.07627118644067797, 'P': 0.05649717514124294, 'W': 0.011299435028248588, 'T': 0.05367231638418079, 'S': 0.062146892655367235, 'C': 0.01977401129943503, 'A': 0.08192090395480225, 'R': 0.07627118644067797, 'V': 0.062146892655367235, 'K': 0.03389830508474576, 'D': 0.03672316384180791, 'G': 0.07627118644067797, 'I': 0.01694915254237288, 'M': 0.011299435028248588, 'Q': 0.0847457627118644, 'N': 0.00847457627118644, 'Y': 0.014124293785310734, 'H': 0.0423728813559322}\n",
            "39674.58750000006\n",
            "0.07627118644067797\n",
            "59.84293785310733\n",
            "[1.0167380952380953, 1.001202380952381, 0.9844999999999999, 0.9754285714285713, 0.9909761904761903, 0.997845238095238, 0.9623571428571428, 0.9606190476190477, 0.9815357142857143, 0.9638571428571429, 1.0077380952380952, 0.9875476190476191, 1.0073690476190476, 0.9962857142857141, 1.0136904761904764, 0.978452380952381, 1.0028214285714285, 0.9785, 0.9854166666666666, 1.0045238095238096, 0.982392857142857, 1.0084404761904762, 0.9888095238095238, 1.0287023809523812, 1.0252738095238096, 0.9929166666666667, 0.9956547619047618, 1.0270357142857143, 0.9682619047619048, 0.9926785714285713, 0.9972857142857143, 1.0166785714285715, 0.9792857142857143, 0.9993095238095239, 1.0141785714285714, 0.9893095238095239, 1.0504880952380953, 1.0139285714285715, 1.0362857142857145, 1.0440952380952382, 1.0177380952380952, 1.0165476190476193, 0.9868214285714286, 0.9805952380952382, 0.9793452380952381, 0.9437142857142857, 0.9531666666666667, 0.9796904761904761, 0.9651071428571429, 0.9739285714285715, 0.993702380952381, 0.9679880952380954, 0.9895357142857144, 1.0229285714285716, 0.9778095238095238, 0.9940476190476191, 1.024154761904762, 1.009261904761905, 1.0116785714285714, 0.9792499999999998, 1.0094285714285713, 0.9981428571428571, 0.9806190476190478, 1.012392857142857, 0.9956428571428572, 0.9804404761904761, 1.0190238095238096, 0.99975, 0.9784404761904761, 1.010904761904762, 0.9732976190476191, 0.9839880952380953, 1.0140714285714285, 1.014404761904762, 0.9852738095238096, 1.0275119047619046, 1.0097857142857145, 1.0010357142857143, 0.9884285714285715, 0.9934880952380952, 1.0117500000000001, 1.0077380952380952, 0.9674166666666667, 0.9959761904761906, 1.0267261904761906, 0.968, 1.0050000000000001, 0.9722380952380953, 0.9868690476190475, 1.0356904761904762, 1.0098928571428571, 0.9838333333333334, 1.0426547619047621, 0.9994642857142857, 0.9986309523809525, 1.0231785714285715, 1.0112738095238096, 1.0225238095238096, 1.0260714285714287, 1.0027023809523812, 0.9984285714285716, 1.0299166666666668, 0.998642857142857, 0.9885238095238096, 1.018654761904762, 0.9608690476190476, 0.9814880952380953, 0.9911785714285715, 0.983797619047619, 0.9528333333333334, 0.9652619047619049, 0.990595238095238, 0.9600714285714286, 1.0012023809523807, 0.9697619047619047, 1.0318809523809525, 0.9918452380952381, 1.0055357142857144, 1.0204523809523809, 0.9881785714285715, 0.9767738095238094, 0.9936071428571429, 1.0044404761904762, 1.012595238095238, 0.9886547619047616, 0.9801785714285716, 1.0135, 1.0019761904761904, 0.9887857142857142, 1.0230833333333333, 1.0080357142857144, 0.9910238095238096, 1.0324285714285715, 1.0433095238095238, 1.028952380952381, 1.040047619047619, 1.033845238095238, 1.0491904761904762, 1.0011666666666665, 1.03425, 1.0326190476190475, 1.0269761904761903, 1.0298690476190475, 1.0395833333333335, 1.0075833333333333, 1.0287023809523808, 0.9899285714285714, 1.0175714285714283, 0.9802619047619048, 0.9895238095238096, 1.0103690476190477, 1.0057261904761905, 0.9824880952380952, 1.024702380952381, 0.9946904761904762, 1.0104761904761905, 0.9741309523809525, 0.993547619047619, 1.0077142857142856, 1.0071309523809524, 1.0102499999999999, 0.9792142857142858, 1.0314880952380954, 0.9932142857142858, 0.9919285714285715, 1.01125, 0.993702380952381, 0.9801666666666667, 0.9983928571428573, 1.0327380952380953, 1.0122261904761904, 0.9929523809523811, 0.9988928571428571, 1.0239404761904762, 1.0075119047619048, 0.9920238095238095, 0.9881190476190478, 1.0203571428571425, 0.9978571428571428, 0.9885, 0.9918571428571429, 0.9724642857142857, 0.995, 0.9703690476190475, 0.9915, 0.9913809523809524, 0.9898928571428571, 0.9726309523809523, 1.016297619047619, 1.0048333333333332, 1.0143690476190474, 1.0286190476190478, 0.9845357142857142, 1.0360595238095238, 1.0121785714285714, 0.9962857142857143, 1.0255238095238095, 0.9700357142857143, 1.0133809523809523, 0.9514166666666666, 0.9718333333333335, 0.9650357142857141, 0.9841547619047619, 0.9786666666666667, 1.01975, 1.0334761904761907, 1.041607142857143, 1.0394880952380952, 1.0525000000000002, 1.056857142857143, 1.0117619047619049, 1.0258928571428572, 0.9875595238095236, 0.9932619047619047, 1.006607142857143, 0.9700952380952381, 0.9589166666666665, 0.9683690476190476, 0.9561071428571429, 0.9887023809523809, 0.9637619047619049, 1.0081904761904763, 1.008142857142857, 1.0017500000000001, 1.0036785714285714, 0.9738809523809525, 0.9753928571428571, 0.9666547619047621, 0.9555476190476191, 0.962047619047619, 0.9796190476190476, 0.9600833333333334, 0.9969404761904761, 0.9650238095238096, 1.001809523809524, 0.9606428571428571, 0.9867738095238094, 1.0303928571428573, 0.9975595238095238, 1.011845238095238, 0.9997380952380953, 1.0118690476190477, 0.9941785714285714, 1.0113095238095238, 1.0116071428571427, 1.0021071428571429, 1.007952380952381, 0.9876309523809523, 0.9999880952380952, 1.0215476190476191, 0.9847857142857144, 0.9875357142857143, 1.0324285714285715, 0.9850000000000001, 1.0007857142857144, 0.9539166666666667, 0.9640119047619047, 0.9597142857142859, 0.9480714285714287, 0.9734880952380953, 0.9550833333333334, 1.0074404761904763, 1.0037142857142858, 1.0163333333333335, 1.0195595238095236, 1.0251666666666666, 0.9904285714285714, 1.0445952380952381, 0.9791785714285713, 0.9842857142857143, 1.0009761904761905, 0.9669166666666668, 1.00325, 0.9465952380952383, 0.968654761904762, 0.9677380952380953, 0.9807142857142856, 0.9932261904761903, 0.9611547619047618, 1.0121785714285714, 0.9932261904761904, 0.9708690476190478, 1.010154761904762, 0.9520357142857143, 0.9855357142857143, 0.9590000000000002, 0.9672142857142858, 0.9933095238095239, 0.9757142857142856, 1.0022261904761904, 1.0142857142857142, 1.0156785714285714, 1.0267380952380953, 0.9807023809523808, 1.0039047619047619, 1.0258571428571428, 0.9987142857142859, 1.0208095238095238, 0.9705952380952381, 1.0133571428571428, 1.0004166666666667, 0.9833690476190478, 1.0310595238095241, 1.0129642857142858, 1.0544285714285717, 1.0440952380952382, 1.0454404761904763, 1.0214166666666666, 0.9988571428571428, 0.9949404761904762, 0.9913333333333336, 1.004202380952381, 0.9839880952380953, 0.9655595238095238, 1.0019642857142859, 0.9740833333333334, 0.9922738095238095, 1.030559523809524, 1.0153571428571428, 1.0416785714285715, 1.0261190476190474, 1.0457261904761905, 1.0077619047619049, 0.9932142857142858, 0.9922023809523809, 1.0084761904761905, 0.9822142857142857, 1.0006428571428572, 1.0289404761904763, 1.0404880952380953, 1.036059523809524, 1.0260119047619047, 0.9917738095238094, 0.9960833333333334, 1.0019761904761904, 0.9627857142857144, 0.9685833333333336, 0.9900714285714285, 0.9603452380952382, 1.0141904761904763, 0.96, 0.9982500000000001, 1.0286071428571428, 1.017797619047619, 1.0382142857142858]\n",
            "7.02032470703125\n",
            "(0.2796610169491526, 0.2033898305084746, 0.2937853107344633)\n",
            "[0.47000000000000003, 0.4708333333333334, 0.3325, 0.3325000000000001, 0.12583333333333338, 0.18333333333333326, 0.3908333333333333, 0.3541666666666667, -0.10833333333333335, -0.26749999999999996, -0.6358333333333334, -1.0133333333333334, -1.0775, -0.9474999999999998, -1.0833333333333335, -1.2483333333333333, -1.1208333333333333, -1.1300000000000001, -1.3350000000000002, -1.1875, -1.0716666666666665, -1.2458333333333333, -0.8366666666666669, -0.14249999999999993, -0.1100000000000001, 0.34083333333333304, 0.8283333333333331, 1.1575, 0.8033333333333333, 1.1766666666666665, 1.4625000000000001, 1.1483333333333332, 0.9091666666666667, 0.8941666666666666, 0.4875, 0.09583333333333327, -0.29750000000000004, -0.4458333333333333, -1.0108333333333335, -1.0699999999999998, -0.8575, -0.8183333333333335, -0.21083333333333334, 0.455, 0.5333333333333332, 0.8216666666666664, 0.9733333333333333, 1.0175, 0.7916666666666666, 0.9641666666666668, 0.9108333333333333, 0.8866666666666666, 1.1633333333333333, 1.3191666666666666, 0.9233333333333332, 0.6941666666666667, 0.875, 0.41583333333333344, 0.14083333333333334, 0.6041666666666666, 0.6008333333333333, 0.1491666666666666, 0.4516666666666665, 0.32416666666666677, 0.13916666666666655, -0.01750000000000007, 0.04499999999999993, -0.24666666666666673, -0.24833333333333352, -0.08666666666666674, -0.23916666666666683, -0.7708333333333336, -0.6633333333333332, -0.9325000000000001, -1.6333333333333335, -1.3716666666666668, -0.8183333333333332, -0.9633333333333333, -0.9525000000000002, -0.19833333333333325, 0.3408333333333333, 0.09833333333333316, -0.05666666666666672, 0.20416666666666675, 0.09666666666666668, -0.10416666666666667, -0.041666666666666886, 0.005833333333333228, 0.10750000000000008, -0.31416666666666665, -0.6158333333333335, -0.37499999999999994, -0.6308333333333332, -1.4108333333333334, -1.7058333333333335, -1.6633333333333333, -2.0725000000000002, -2.5641666666666665, -2.5841666666666665, -2.5108333333333333, -2.5816666666666666, -2.299166666666667, -1.6483333333333334, -1.0608333333333333, -0.5091666666666667, -0.30250000000000016, 0.2991666666666665, 0.7691666666666666, 0.7516666666666665, 0.9399999999999998, 1.3908333333333334, 1.4949999999999999, 1.1608333333333332, 1.1783333333333332, 1.2341666666666666, 0.5808333333333334, -0.25333333333333335, -0.5616666666666666, -1.0858333333333332, -1.6491666666666667, -2.285, -2.1341666666666668, -1.8991666666666667, -2.1791666666666667, -1.8275, -1.0641666666666667, -0.935, -1.0891666666666668, -0.5183333333333334, -0.525, -0.9841666666666667, -1.5408333333333335, -1.4425000000000001, -1.9716666666666667, -2.595, -2.2283333333333335, -1.9791666666666667, -2.2458333333333336, -1.9841666666666666, -1.7691666666666663, -1.9458333333333335, -1.9716666666666667, -1.885, -1.4241666666666666, -1.5983333333333334, -1.3625, -1.1975000000000005, -1.2, -1.5675, -1.4316666666666666, -1.6824999999999999, -1.6500000000000001, -1.705, -0.8391666666666668, -0.18499999999999994, -0.029166666666666823, 0.22833333333333314, 0.2783333333333333, 0.1525, -0.285, -0.2558333333333334, 0.011666666666666714, -0.21916666666666673, -0.6258333333333335, 0.009166666666666656, 0.39250000000000024, 0.27, -0.17333333333333348, 0.25, 0.3600000000000001, 0.020000000000000018, 0.03749999999999994, 0.4083333333333335, 0.4591666666666668, 0.13999999999999987, 0.30666666666666664, 0.6975000000000001, 0.5683333333333334, 0.5033333333333332, 0.5933333333333334, 1.105, 1.0133333333333332, 0.9208333333333334, 0.9283333333333332, 1.0841666666666667, 0.5316666666666667, 0.05083333333333312, -0.47083333333333327, -0.9066666666666664, -1.2716666666666667, -1.5208333333333333, -1.4558333333333335, -1.5775, -1.7474999999999998, -1.3075, -1.2133333333333334, -1.05, -0.45416666666666666, 0.03999999999999989, 0.48916666666666647, 0.7124999999999998, 0.9291666666666667, 0.6949999999999998, -0.24333333333333348, -0.6016666666666668, -1.3666666666666665, -2.1108333333333333, -2.328333333333333, -2.1433333333333335, -1.5816666666666668, -0.8966666666666668, -0.24583333333333338, -0.03250000000000014, 0.45166666666666666, 0.8166666666666668, 0.9916666666666666, 0.5341666666666666, 0.8791666666666668, 0.43749999999999994, -0.09166666666666679, -0.5133333333333332, -0.5099999999999999, -0.9016666666666665, -0.7758333333333334, -0.38666666666666677, 0.2866666666666666, 0.36249999999999977, 0.5474999999999999, 0.35249999999999976, -0.22000000000000008, -1.0116666666666667, -1.7483333333333333, -2.044166666666667, -1.9758333333333333, -1.7625000000000002, -1.2500000000000002, -0.8383333333333333, -0.6316666666666668, -0.8883333333333333, -0.6291666666666668, -0.5483333333333332, -0.8533333333333334, -1.1483333333333334, -0.8133333333333334, -1.0483333333333333, -1.1, -1.3666666666666665, -1.0516666666666665, -1.0433333333333332, -1.0466666666666666, -1.0333333333333334, -0.7983333333333333, -0.6333333333333334, -0.47833333333333333, -0.2450000000000001, 0.48500000000000015, 0.5299999999999999, 0.8791666666666668, 1.1708333333333332, 1.025, 0.5116666666666666, 0.09333333333333342, -0.4691666666666667, -0.9991666666666669, -1.3933333333333333, -1.0508333333333333, -0.9416666666666665, -0.9475000000000001, -0.40166666666666667, -0.23583333333333323, 0.1491666666666666, 0.45249999999999996, 1.07, 1.5250000000000004, 1.6383333333333334, 1.8533333333333335, 2.0975, 1.4566666666666668, 1.4841666666666666, 0.9766666666666669, 0.5908333333333332, 0.3533333333333332, 0.6741666666666667, 1.1366666666666667, 1.2124999999999997, 1.5983333333333334, 1.8649999999999995, 1.594166666666667, 1.3499999999999999, 0.6758333333333333, 0.43916666666666665, 0.22750000000000004, -0.21916666666666662, -0.5100000000000001, -0.7533333333333334, -0.6383333333333333, -1.1516666666666666, -1.5958333333333334, -1.3316666666666668, -1.480833333333333, -1.95, -1.9341666666666668, -1.8099999999999998, -2.0941666666666667, -2.5941666666666667, -2.1583333333333337, -1.8583333333333334, -1.5091666666666665, -1.1366666666666667, -0.5175000000000002, -0.4058333333333333, -0.2566666666666668, -0.09833333333333338, 0.019999999999999834, -0.35666666666666674, -0.24333333333333348, -0.4950000000000001, -0.6250000000000003, -1.209166666666667, -1.4225, -1.5366666666666664, -1.5908333333333333, -1.6833333333333336, -0.9825, -0.36833333333333335, 0.016666666666666607, -0.025833333333333375, -0.051666666666666715, -0.48583333333333334, -0.7275, -0.86, -0.9016666666666667, -1.1025, -0.6966666666666669, -0.5475, -0.1758333333333335, -0.058333333333333494, 0.19083333333333327, 0.13666666666666663, 0.020833333333333186, 0.049166666666666504, -0.08083333333333342, -0.605, -1.2033333333333334, -1.9525, -1.9566666666666668]\n",
            "{'F': 18, 'L': 44, 'E': 27, 'P': 20, 'W': 5, 'T': 19, 'S': 23, 'C': 7, 'M': 4, 'R': 27, 'D': 13, 'V': 22, 'K': 12, 'I': 6, 'G': 26, 'Q': 30, 'A': 28, 'N': 3, 'H': 15, 'Y': 5}\n",
            "{'F': 0.05084745762711865, 'L': 0.12429378531073447, 'E': 0.07627118644067797, 'P': 0.05649717514124294, 'W': 0.014124293785310734, 'T': 0.05367231638418079, 'S': 0.06497175141242938, 'C': 0.01977401129943503, 'A': 0.07909604519774012, 'R': 0.07627118644067797, 'V': 0.062146892655367235, 'K': 0.03389830508474576, 'D': 0.03672316384180791, 'G': 0.07344632768361582, 'I': 0.01694915254237288, 'M': 0.011299435028248588, 'Q': 0.0847457627118644, 'N': 0.00847457627118644, 'Y': 0.014124293785310734, 'H': 0.0423728813559322}\n",
            "39819.74550000006\n",
            "0.07909604519774012\n",
            "59.65819209039547\n",
            "[1.0167380952380953, 1.001202380952381, 0.9844999999999999, 0.9754285714285713, 0.9909761904761903, 0.997845238095238, 0.9623571428571428, 0.9606190476190477, 0.9815357142857143, 0.9638571428571429, 1.0077380952380952, 0.9875476190476191, 1.0073690476190476, 0.9962857142857141, 1.0136904761904764, 0.978452380952381, 1.0028214285714285, 0.9785, 0.9854166666666666, 1.0045238095238096, 0.982392857142857, 1.0084404761904762, 0.9888095238095238, 1.0287023809523812, 1.0252738095238096, 0.9929166666666667, 0.9956547619047618, 1.0270357142857143, 0.9682619047619048, 0.9926785714285713, 0.9972857142857143, 1.0166785714285715, 0.9792857142857143, 0.9993095238095239, 1.0141785714285714, 0.9893095238095239, 1.0504880952380953, 1.0139285714285715, 1.0362857142857145, 1.0440952380952382, 1.0177380952380952, 1.0165476190476193, 0.9868214285714286, 0.9805952380952382, 0.9793452380952381, 0.9437142857142857, 0.9531666666666667, 0.9796904761904761, 0.9651071428571429, 0.9739285714285715, 0.993702380952381, 0.9679880952380954, 0.9895357142857144, 1.0229285714285716, 0.9778095238095238, 0.9940476190476191, 1.024154761904762, 1.009261904761905, 1.0116785714285714, 0.9792499999999998, 1.0094285714285713, 0.9981428571428571, 0.9806190476190478, 1.012392857142857, 0.9956428571428572, 0.9804404761904761, 1.0190238095238096, 0.99975, 0.9784404761904761, 1.010904761904762, 0.9732976190476191, 0.9839880952380953, 1.0140714285714285, 1.014404761904762, 0.9852738095238096, 1.0275119047619046, 1.0097857142857145, 1.0010357142857143, 0.9884285714285715, 0.9934880952380952, 1.0117500000000001, 1.0077380952380952, 0.9674166666666667, 0.9959761904761906, 1.0267261904761906, 0.968, 1.0050000000000001, 0.9722380952380953, 0.9868690476190475, 1.0356904761904762, 1.0098928571428571, 0.9838333333333334, 1.0426547619047621, 0.9994642857142857, 0.9986309523809525, 1.0231785714285715, 1.0112738095238096, 1.0225238095238096, 1.0260714285714287, 1.0027023809523812, 0.9984285714285716, 1.0299166666666668, 0.998642857142857, 0.9885238095238096, 1.018654761904762, 0.9608690476190476, 0.9814880952380953, 0.9911785714285715, 0.983797619047619, 0.9528333333333334, 0.9652619047619049, 0.990595238095238, 0.9600714285714286, 1.0012023809523807, 0.9697619047619047, 1.0318809523809525, 0.9918452380952381, 1.0055357142857144, 1.0204523809523809, 0.9881785714285715, 0.9767738095238094, 0.9936071428571429, 1.0044404761904762, 1.012595238095238, 0.9886547619047616, 0.9801785714285716, 1.0135, 1.0019761904761904, 0.9887857142857142, 1.0230833333333333, 1.0080357142857144, 0.9910238095238096, 1.0324285714285715, 1.0433095238095238, 1.028952380952381, 1.040047619047619, 1.033845238095238, 1.0491904761904762, 1.0011666666666665, 1.03425, 1.0326190476190475, 1.0269761904761903, 1.0298690476190475, 1.0395833333333335, 1.0075833333333333, 1.0287023809523808, 0.9899285714285714, 1.0175714285714283, 0.9802619047619048, 0.9895238095238096, 1.0103690476190477, 1.0057261904761905, 0.9824880952380952, 1.024702380952381, 0.9946904761904762, 1.0104761904761905, 0.9741309523809525, 0.993547619047619, 1.0077142857142856, 1.0071309523809524, 1.0102499999999999, 0.9792142857142858, 1.0314880952380954, 0.9932142857142858, 0.9919285714285715, 1.01125, 0.993702380952381, 0.9801666666666667, 0.9983928571428573, 1.0327380952380953, 1.0122261904761904, 0.9929523809523811, 0.9988928571428571, 1.0239404761904762, 1.0075119047619048, 0.9920238095238095, 0.9881190476190478, 1.0203571428571425, 0.9978571428571428, 0.9885, 0.9918571428571429, 0.9724642857142857, 0.995, 0.9703690476190475, 0.9915, 0.9913809523809524, 0.9898928571428571, 0.9726309523809523, 1.016297619047619, 1.0048333333333332, 1.0143690476190474, 1.0286190476190478, 0.9845357142857142, 1.0360595238095238, 1.0121785714285714, 0.9962857142857143, 1.0255238095238095, 0.9700357142857143, 1.0133809523809523, 0.9514166666666666, 0.9718333333333335, 0.9650357142857141, 0.9841547619047619, 0.9786666666666667, 1.01975, 1.0334761904761907, 1.041607142857143, 1.0394880952380952, 1.0525000000000002, 1.056857142857143, 1.0117619047619049, 1.0258928571428572, 0.9875595238095236, 0.9932619047619047, 1.006607142857143, 0.9700952380952381, 0.9589166666666665, 0.9683690476190476, 0.9561071428571429, 0.9887023809523809, 0.9637619047619049, 1.0081904761904763, 1.008142857142857, 1.0017500000000001, 1.0036785714285714, 0.9738809523809525, 0.9753928571428571, 0.9666547619047621, 0.9555476190476191, 0.962047619047619, 0.9796190476190476, 0.9600833333333334, 0.9969404761904761, 0.9650238095238096, 1.001809523809524, 0.9606428571428571, 0.9867738095238094, 1.0303928571428573, 0.9975595238095238, 1.011845238095238, 0.9997380952380953, 1.0118690476190477, 0.9941785714285714, 1.0113095238095238, 1.0116071428571427, 1.0021071428571429, 1.007952380952381, 0.9876309523809523, 0.9999880952380952, 1.0215476190476191, 0.9847857142857144, 0.9875357142857143, 1.0324285714285715, 0.9850000000000001, 1.0007857142857144, 0.9539166666666667, 0.9640119047619047, 0.9597142857142859, 0.9480714285714287, 0.9734880952380953, 0.9550833333333334, 1.0074404761904763, 1.0037142857142858, 1.0163333333333335, 1.0195595238095236, 1.0251666666666666, 0.9904285714285714, 1.0445952380952381, 0.9791785714285713, 0.9842857142857143, 1.0009761904761905, 0.9669166666666668, 1.00325, 0.9465952380952383, 0.968654761904762, 0.9677380952380953, 0.9807142857142856, 0.9932261904761903, 0.9611547619047618, 1.0121785714285714, 0.9932261904761904, 0.9708690476190478, 1.010154761904762, 0.9520357142857143, 0.98625, 0.9564404761904763, 0.9623333333333335, 0.9889642857142859, 0.9480952380952381, 1.004547619047619, 1.0036904761904761, 1.0074047619047621, 1.0207857142857144, 0.9768928571428571, 1.0039047619047619, 1.0258571428571428, 0.9987142857142859, 1.0208095238095238, 0.9705952380952381, 1.0133571428571428, 1.0004166666666667, 0.9833690476190478, 1.0310595238095241, 1.0129642857142858, 1.0544285714285717, 1.0440952380952382, 1.0454404761904763, 1.0214166666666666, 0.9988571428571428, 0.9949404761904762, 0.9913333333333336, 1.004202380952381, 0.9839880952380953, 0.9655595238095238, 1.0019642857142859, 0.9740833333333334, 0.9922738095238095, 1.030559523809524, 1.0153571428571428, 1.0416785714285715, 1.0261190476190474, 1.0457261904761905, 1.0077619047619049, 0.9932142857142858, 0.9922023809523809, 1.0084761904761905, 0.9822142857142857, 1.0006428571428572, 1.0289404761904763, 1.0404880952380953, 1.036059523809524, 1.0260119047619047, 0.9917738095238094, 0.9960833333333334, 1.0019761904761904, 0.9627857142857144, 0.9685833333333336, 0.9900714285714285, 0.9603452380952382, 1.0141904761904763, 0.96, 0.9982500000000001, 1.0286071428571428, 1.017797619047619, 1.0382142857142858]\n",
            "7.02032470703125\n",
            "(0.2824858757062147, 0.2033898305084746, 0.29096045197740117)\n",
            "[0.47000000000000003, 0.4708333333333334, 0.3325, 0.3325000000000001, 0.12583333333333338, 0.18333333333333326, 0.3908333333333333, 0.3541666666666667, -0.10833333333333335, -0.26749999999999996, -0.6358333333333334, -1.0133333333333334, -1.0775, -0.9474999999999998, -1.0833333333333335, -1.2483333333333333, -1.1208333333333333, -1.1300000000000001, -1.3350000000000002, -1.1875, -1.0716666666666665, -1.2458333333333333, -0.8366666666666669, -0.14249999999999993, -0.1100000000000001, 0.34083333333333304, 0.8283333333333331, 1.1575, 0.8033333333333333, 1.1766666666666665, 1.4625000000000001, 1.1483333333333332, 0.9091666666666667, 0.8941666666666666, 0.4875, 0.09583333333333327, -0.29750000000000004, -0.4458333333333333, -1.0108333333333335, -1.0699999999999998, -0.8575, -0.8183333333333335, -0.21083333333333334, 0.455, 0.5333333333333332, 0.8216666666666664, 0.9733333333333333, 1.0175, 0.7916666666666666, 0.9641666666666668, 0.9108333333333333, 0.8866666666666666, 1.1633333333333333, 1.3191666666666666, 0.9233333333333332, 0.6941666666666667, 0.875, 0.41583333333333344, 0.14083333333333334, 0.6041666666666666, 0.6008333333333333, 0.1491666666666666, 0.4516666666666665, 0.32416666666666677, 0.13916666666666655, -0.01750000000000007, 0.04499999999999993, -0.24666666666666673, -0.24833333333333352, -0.08666666666666674, -0.23916666666666683, -0.7708333333333336, -0.6633333333333332, -0.9325000000000001, -1.6333333333333335, -1.3716666666666668, -0.8183333333333332, -0.9633333333333333, -0.9525000000000002, -0.19833333333333325, 0.3408333333333333, 0.09833333333333316, -0.05666666666666672, 0.20416666666666675, 0.09666666666666668, -0.10416666666666667, -0.041666666666666886, 0.005833333333333228, 0.10750000000000008, -0.31416666666666665, -0.6158333333333335, -0.37499999999999994, -0.6308333333333332, -1.4108333333333334, -1.7058333333333335, -1.6633333333333333, -2.0725000000000002, -2.5641666666666665, -2.5841666666666665, -2.5108333333333333, -2.5816666666666666, -2.299166666666667, -1.6483333333333334, -1.0608333333333333, -0.5091666666666667, -0.30250000000000016, 0.2991666666666665, 0.7691666666666666, 0.7516666666666665, 0.9399999999999998, 1.3908333333333334, 1.4949999999999999, 1.1608333333333332, 1.1783333333333332, 1.2341666666666666, 0.5808333333333334, -0.25333333333333335, -0.5616666666666666, -1.0858333333333332, -1.6491666666666667, -2.285, -2.1341666666666668, -1.8991666666666667, -2.1791666666666667, -1.8275, -1.0641666666666667, -0.935, -1.0891666666666668, -0.5183333333333334, -0.525, -0.9841666666666667, -1.5408333333333335, -1.4425000000000001, -1.9716666666666667, -2.595, -2.2283333333333335, -1.9791666666666667, -2.2458333333333336, -1.9841666666666666, -1.7691666666666663, -1.9458333333333335, -1.9716666666666667, -1.885, -1.4241666666666666, -1.5983333333333334, -1.3625, -1.1975000000000005, -1.2, -1.5675, -1.4316666666666666, -1.6824999999999999, -1.6500000000000001, -1.705, -0.8391666666666668, -0.18499999999999994, -0.029166666666666823, 0.22833333333333314, 0.2783333333333333, 0.1525, -0.285, -0.2558333333333334, 0.011666666666666714, -0.21916666666666673, -0.6258333333333335, 0.009166666666666656, 0.39250000000000024, 0.27, -0.17333333333333348, 0.25, 0.3600000000000001, 0.020000000000000018, 0.03749999999999994, 0.4083333333333335, 0.4591666666666668, 0.13999999999999987, 0.30666666666666664, 0.6975000000000001, 0.5683333333333334, 0.5033333333333332, 0.5933333333333334, 1.105, 1.0133333333333332, 0.9208333333333334, 0.9283333333333332, 1.0841666666666667, 0.5316666666666667, 0.05083333333333312, -0.47083333333333327, -0.9066666666666664, -1.2716666666666667, -1.5208333333333333, -1.4558333333333335, -1.5775, -1.7474999999999998, -1.3075, -1.2133333333333334, -1.05, -0.45416666666666666, 0.03999999999999989, 0.48916666666666647, 0.7124999999999998, 0.9291666666666667, 0.6949999999999998, -0.24333333333333348, -0.6016666666666668, -1.3666666666666665, -2.1108333333333333, -2.328333333333333, -2.1433333333333335, -1.5816666666666668, -0.8966666666666668, -0.24583333333333338, -0.03250000000000014, 0.45166666666666666, 0.8166666666666668, 0.9916666666666666, 0.5341666666666666, 0.8791666666666668, 0.43749999999999994, -0.09166666666666679, -0.5133333333333332, -0.5099999999999999, -0.9016666666666665, -0.7758333333333334, -0.38666666666666677, 0.2866666666666666, 0.36249999999999977, 0.5474999999999999, 0.35249999999999976, -0.22000000000000008, -1.0116666666666667, -1.7483333333333333, -2.044166666666667, -1.9758333333333333, -1.7625000000000002, -1.2500000000000002, -0.8383333333333333, -0.6316666666666668, -0.8883333333333333, -0.6291666666666668, -0.5483333333333332, -0.8533333333333334, -1.1483333333333334, -0.8133333333333334, -1.0483333333333333, -1.1, -1.3666666666666665, -1.0516666666666665, -1.0433333333333332, -1.0466666666666666, -1.0333333333333334, -0.7983333333333333, -0.6333333333333334, -0.47833333333333333, -0.2450000000000001, 0.48500000000000015, 0.5299999999999999, 0.8791666666666668, 1.1708333333333332, 1.025, 0.5116666666666666, 0.09333333333333342, -0.4691666666666667, -0.9991666666666669, -1.3933333333333333, -1.0508333333333333, -0.9416666666666665, -0.9475000000000001, -0.40166666666666667, -0.23583333333333323, 0.1491666666666666, 0.45249999999999996, 1.07, 1.5250000000000004, 1.6383333333333334, 1.8533333333333335, 2.0975, 1.4566666666666668, 1.4841666666666666, 0.9766666666666669, 0.5908333333333332, 0.3533333333333332, 0.6741666666666667, 1.1366666666666667, 1.185833333333333, 1.3816666666666666, 1.570833333333333, 1.2225, 0.9008333333333334, 0.1691666666666667, 0.010000000000000009, -0.12416666666666677, -0.49333333333333335, -0.6900000000000001, -0.7533333333333334, -0.6383333333333333, -1.1516666666666666, -1.5958333333333334, -1.3316666666666668, -1.480833333333333, -1.95, -1.9341666666666668, -1.8099999999999998, -2.0941666666666667, -2.5941666666666667, -2.1583333333333337, -1.8583333333333334, -1.5091666666666665, -1.1366666666666667, -0.5175000000000002, -0.4058333333333333, -0.2566666666666668, -0.09833333333333338, 0.019999999999999834, -0.35666666666666674, -0.24333333333333348, -0.4950000000000001, -0.6250000000000003, -1.209166666666667, -1.4225, -1.5366666666666664, -1.5908333333333333, -1.6833333333333336, -0.9825, -0.36833333333333335, 0.016666666666666607, -0.025833333333333375, -0.051666666666666715, -0.48583333333333334, -0.7275, -0.86, -0.9016666666666667, -1.1025, -0.6966666666666669, -0.5475, -0.1758333333333335, -0.058333333333333494, 0.19083333333333327, 0.13666666666666663, 0.020833333333333186, 0.049166666666666504, -0.08083333333333342, -0.605, -1.2033333333333334, -1.9525, -1.9566666666666668]\n",
            "{'F': 18, 'L': 44, 'E': 27, 'P': 20, 'W': 5, 'T': 19, 'S': 22, 'C': 7, 'M': 4, 'R': 27, 'D': 13, 'V': 22, 'K': 12, 'I': 6, 'G': 26, 'Q': 30, 'A': 29, 'N': 3, 'H': 15, 'Y': 5}\n",
            "{'F': 0.05084745762711865, 'L': 0.12429378531073447, 'E': 0.07627118644067797, 'P': 0.05649717514124294, 'W': 0.014124293785310734, 'T': 0.05367231638418079, 'S': 0.062146892655367235, 'C': 0.01977401129943503, 'A': 0.08192090395480225, 'R': 0.07627118644067797, 'V': 0.062146892655367235, 'K': 0.03389830508474576, 'D': 0.03672316384180791, 'G': 0.07344632768361582, 'I': 0.01694915254237288, 'M': 0.011299435028248588, 'Q': 0.0847457627118644, 'N': 0.00847457627118644, 'Y': 0.014124293785310734, 'H': 0.0423728813559322}\n",
            "39803.74610000006\n",
            "0.07909604519774012\n",
            "59.65819209039547\n",
            "[1.0167380952380953, 1.001202380952381, 0.9844999999999999, 0.9754285714285713, 0.9909761904761903, 0.997845238095238, 0.9623571428571428, 0.9606190476190477, 0.9815357142857143, 0.9638571428571429, 1.0077380952380952, 0.9875476190476191, 1.0073690476190476, 0.9962857142857141, 1.0136904761904764, 0.978452380952381, 1.0028214285714285, 0.9785, 0.9854166666666666, 1.0045238095238096, 0.982392857142857, 1.0084404761904762, 0.9888095238095238, 1.0287023809523812, 1.0252738095238096, 0.9929166666666667, 0.9956547619047618, 1.0270357142857143, 0.9682619047619048, 0.9926785714285713, 0.9972857142857143, 1.0166785714285715, 0.9792857142857143, 0.9993095238095239, 1.0141785714285714, 0.9893095238095239, 1.0504880952380953, 1.0139285714285715, 1.0362857142857145, 1.0440952380952382, 1.0177380952380952, 1.0165476190476193, 0.9868214285714286, 0.9805952380952382, 0.9793452380952381, 0.9437142857142857, 0.9531666666666667, 0.9796904761904761, 0.9651071428571429, 0.9739285714285715, 0.993702380952381, 0.9679880952380954, 0.9895357142857144, 1.0229285714285716, 0.9778095238095238, 0.9940476190476191, 1.024154761904762, 1.009261904761905, 1.0116785714285714, 0.9792499999999998, 1.0094285714285713, 0.9981428571428571, 0.9806190476190478, 1.012392857142857, 0.9956428571428572, 0.9804404761904761, 1.0190238095238096, 0.99975, 0.9784404761904761, 1.010904761904762, 0.9732976190476191, 0.9839880952380953, 1.0140714285714285, 1.014404761904762, 0.9852738095238096, 1.0275119047619046, 1.0097857142857145, 1.0010357142857143, 0.9884285714285715, 0.9934880952380952, 1.0117500000000001, 1.0077380952380952, 0.9674166666666667, 0.9959761904761906, 1.0267261904761906, 0.968, 1.0050000000000001, 0.9722380952380953, 0.9868690476190475, 1.0356904761904762, 1.0098928571428571, 0.9838333333333334, 1.0426547619047621, 0.9994642857142857, 0.9986309523809525, 1.0231785714285715, 1.0112738095238096, 1.0225238095238096, 1.0260714285714287, 1.0027023809523812, 0.9984285714285716, 1.0299166666666668, 0.998642857142857, 0.9885238095238096, 1.018654761904762, 0.9608690476190476, 0.9814880952380953, 0.9911785714285715, 0.983797619047619, 0.9528333333333334, 0.9652619047619049, 0.990595238095238, 0.9600714285714286, 1.0012023809523807, 0.9697619047619047, 1.0318809523809525, 0.9918452380952381, 1.0055357142857144, 1.0204523809523809, 0.9881785714285715, 0.9767738095238094, 0.9936071428571429, 1.0044404761904762, 1.012595238095238, 0.9886547619047616, 0.9801785714285716, 1.0135, 1.0019761904761904, 0.9887857142857142, 1.0230833333333333, 1.0080357142857144, 0.9910238095238096, 1.0324285714285715, 1.0433095238095238, 1.028952380952381, 1.040047619047619, 1.033845238095238, 1.0491904761904762, 1.0011666666666665, 1.03425, 1.0326190476190475, 1.0269761904761903, 1.0298690476190475, 1.0395833333333335, 1.0075833333333333, 1.0287023809523808, 0.9899285714285714, 1.0175714285714283, 0.9802619047619048, 0.9895238095238096, 1.0103690476190477, 1.0057261904761905, 0.9824880952380952, 1.024702380952381, 0.9946904761904762, 1.0104761904761905, 0.9741309523809525, 0.993547619047619, 1.0077142857142856, 1.0071309523809524, 1.0102499999999999, 0.9792142857142858, 1.0314880952380954, 0.9932142857142858, 0.9919285714285715, 1.01125, 0.993702380952381, 0.9801666666666667, 0.9983928571428573, 1.0327380952380953, 1.0122261904761904, 0.9929523809523811, 0.9988928571428571, 1.0239404761904762, 1.0075119047619048, 0.9920238095238095, 0.9881190476190478, 1.0203571428571425, 0.9978571428571428, 0.9885, 0.9918571428571429, 0.9724642857142857, 0.995, 0.9703690476190475, 0.9915, 0.9913809523809524, 0.9898928571428571, 0.9726309523809523, 1.016297619047619, 1.0048333333333332, 1.0143690476190474, 1.0286190476190478, 0.9845357142857142, 1.0360595238095238, 1.0121785714285714, 0.9962857142857143, 1.0255238095238095, 0.9700357142857143, 1.0133809523809523, 0.9514166666666666, 0.9718333333333335, 0.9650357142857141, 0.9841547619047619, 0.9786666666666667, 1.01975, 1.0334761904761907, 1.041607142857143, 1.0394880952380952, 1.0525000000000002, 1.056857142857143, 1.0117619047619049, 1.0258928571428572, 0.9875595238095236, 0.9932619047619047, 1.006607142857143, 0.9700952380952381, 0.9589166666666665, 0.9683690476190476, 0.9561071428571429, 0.9887023809523809, 0.9637619047619049, 1.0081904761904763, 1.008142857142857, 1.0017500000000001, 1.0036785714285714, 0.9738809523809525, 0.9753928571428571, 0.9666547619047621, 0.9555476190476191, 0.962047619047619, 0.9796190476190476, 0.9600833333333334, 0.9969404761904761, 0.9650238095238096, 1.001809523809524, 0.9606428571428571, 0.9867738095238094, 1.0303928571428573, 0.9975595238095238, 1.011845238095238, 0.9997380952380953, 1.0118690476190477, 0.9941785714285714, 1.0113095238095238, 1.0116071428571427, 1.0021071428571429, 1.007952380952381, 0.9876309523809523, 0.9999880952380952, 1.0215476190476191, 0.9847857142857144, 0.9875357142857143, 1.0324285714285715, 0.9850000000000001, 1.0007857142857144, 0.9539166666666667, 0.9640119047619047, 0.9597142857142859, 0.9480714285714287, 0.9734880952380953, 0.9550833333333334, 1.0074404761904763, 1.0037142857142858, 1.0163333333333335, 1.0195595238095236, 1.0251666666666666, 0.9904285714285714, 1.0445952380952381, 0.9791785714285713, 0.9842857142857143, 1.0009761904761905, 0.9669166666666668, 1.00325, 0.9465952380952383, 0.968654761904762, 0.9677380952380953, 0.9807142857142856, 0.9932261904761903, 0.9611547619047618, 1.0121785714285714, 0.9932261904761904, 0.9708690476190478, 1.010154761904762, 0.9520357142857143, 0.983297619047619, 0.9512738095238097, 0.954952380952381, 0.9675595238095239, 0.9480952380952381, 0.9949523809523809, 0.9963095238095238, 1.0022380952380954, 1.0178333333333334, 0.9768928571428571, 1.0039047619047619, 1.0258571428571428, 0.9987142857142859, 1.0208095238095238, 0.9705952380952381, 1.0133571428571428, 1.0004166666666667, 0.9833690476190478, 1.0310595238095241, 1.0129642857142858, 1.0544285714285717, 1.0440952380952382, 1.0454404761904763, 1.0214166666666666, 0.9988571428571428, 0.9949404761904762, 0.9913333333333336, 1.004202380952381, 0.9839880952380953, 0.9655595238095238, 1.0019642857142859, 0.9740833333333334, 0.9922738095238095, 1.030559523809524, 1.0153571428571428, 1.0416785714285715, 1.0261190476190474, 1.0457261904761905, 1.0077619047619049, 0.9932142857142858, 0.9922023809523809, 1.0084761904761905, 0.9822142857142857, 1.0006428571428572, 1.0289404761904763, 1.0404880952380953, 1.036059523809524, 1.0260119047619047, 0.9917738095238094, 0.9960833333333334, 1.0019761904761904, 0.9627857142857144, 0.9685833333333336, 0.9900714285714285, 0.9603452380952382, 1.0141904761904763, 0.96, 0.9982500000000001, 1.0286071428571428, 1.017797619047619, 1.0382142857142858]\n",
            "7.02032470703125\n",
            "(0.2824858757062147, 0.20056497175141244, 0.2937853107344633)\n",
            "[0.47000000000000003, 0.4708333333333334, 0.3325, 0.3325000000000001, 0.12583333333333338, 0.18333333333333326, 0.3908333333333333, 0.3541666666666667, -0.10833333333333335, -0.26749999999999996, -0.6358333333333334, -1.0133333333333334, -1.0775, -0.9474999999999998, -1.0833333333333335, -1.2483333333333333, -1.1208333333333333, -1.1300000000000001, -1.3350000000000002, -1.1875, -1.0716666666666665, -1.2458333333333333, -0.8366666666666669, -0.14249999999999993, -0.1100000000000001, 0.34083333333333304, 0.8283333333333331, 1.1575, 0.8033333333333333, 1.1766666666666665, 1.4625000000000001, 1.1483333333333332, 0.9091666666666667, 0.8941666666666666, 0.4875, 0.09583333333333327, -0.29750000000000004, -0.4458333333333333, -1.0108333333333335, -1.0699999999999998, -0.8575, -0.8183333333333335, -0.21083333333333334, 0.455, 0.5333333333333332, 0.8216666666666664, 0.9733333333333333, 1.0175, 0.7916666666666666, 0.9641666666666668, 0.9108333333333333, 0.8866666666666666, 1.1633333333333333, 1.3191666666666666, 0.9233333333333332, 0.6941666666666667, 0.875, 0.41583333333333344, 0.14083333333333334, 0.6041666666666666, 0.6008333333333333, 0.1491666666666666, 0.4516666666666665, 0.32416666666666677, 0.13916666666666655, -0.01750000000000007, 0.04499999999999993, -0.24666666666666673, -0.24833333333333352, -0.08666666666666674, -0.23916666666666683, -0.7708333333333336, -0.6633333333333332, -0.9325000000000001, -1.6333333333333335, -1.3716666666666668, -0.8183333333333332, -0.9633333333333333, -0.9525000000000002, -0.19833333333333325, 0.3408333333333333, 0.09833333333333316, -0.05666666666666672, 0.20416666666666675, 0.09666666666666668, -0.10416666666666667, -0.041666666666666886, 0.005833333333333228, 0.10750000000000008, -0.31416666666666665, -0.6158333333333335, -0.37499999999999994, -0.6308333333333332, -1.4108333333333334, -1.7058333333333335, -1.6633333333333333, -2.0725000000000002, -2.5641666666666665, -2.5841666666666665, -2.5108333333333333, -2.5816666666666666, -2.299166666666667, -1.6483333333333334, -1.0608333333333333, -0.5091666666666667, -0.30250000000000016, 0.2991666666666665, 0.7691666666666666, 0.7516666666666665, 0.9399999999999998, 1.3908333333333334, 1.4949999999999999, 1.1608333333333332, 1.1783333333333332, 1.2341666666666666, 0.5808333333333334, -0.25333333333333335, -0.5616666666666666, -1.0858333333333332, -1.6491666666666667, -2.285, -2.1341666666666668, -1.8991666666666667, -2.1791666666666667, -1.8275, -1.0641666666666667, -0.935, -1.0891666666666668, -0.5183333333333334, -0.525, -0.9841666666666667, -1.5408333333333335, -1.4425000000000001, -1.9716666666666667, -2.595, -2.2283333333333335, -1.9791666666666667, -2.2458333333333336, -1.9841666666666666, -1.7691666666666663, -1.9458333333333335, -1.9716666666666667, -1.885, -1.4241666666666666, -1.5983333333333334, -1.3625, -1.1975000000000005, -1.2, -1.5675, -1.4316666666666666, -1.6824999999999999, -1.6500000000000001, -1.705, -0.8391666666666668, -0.18499999999999994, -0.029166666666666823, 0.22833333333333314, 0.2783333333333333, 0.1525, -0.285, -0.2558333333333334, 0.011666666666666714, -0.21916666666666673, -0.6258333333333335, 0.009166666666666656, 0.39250000000000024, 0.27, -0.17333333333333348, 0.25, 0.3600000000000001, 0.020000000000000018, 0.03749999999999994, 0.4083333333333335, 0.4591666666666668, 0.13999999999999987, 0.30666666666666664, 0.6975000000000001, 0.5683333333333334, 0.5033333333333332, 0.5933333333333334, 1.105, 1.0133333333333332, 0.9208333333333334, 0.9283333333333332, 1.0841666666666667, 0.5316666666666667, 0.05083333333333312, -0.47083333333333327, -0.9066666666666664, -1.2716666666666667, -1.5208333333333333, -1.4558333333333335, -1.5775, -1.7474999999999998, -1.3075, -1.2133333333333334, -1.05, -0.45416666666666666, 0.03999999999999989, 0.48916666666666647, 0.7124999999999998, 0.9291666666666667, 0.6949999999999998, -0.24333333333333348, -0.6016666666666668, -1.3666666666666665, -2.1108333333333333, -2.328333333333333, -2.1433333333333335, -1.5816666666666668, -0.8966666666666668, -0.24583333333333338, -0.03250000000000014, 0.45166666666666666, 0.8166666666666668, 0.9916666666666666, 0.5341666666666666, 0.8791666666666668, 0.43749999999999994, -0.09166666666666679, -0.5133333333333332, -0.5099999999999999, -0.9016666666666665, -0.7758333333333334, -0.38666666666666677, 0.2866666666666666, 0.36249999999999977, 0.5474999999999999, 0.35249999999999976, -0.22000000000000008, -1.0116666666666667, -1.7483333333333333, -2.044166666666667, -1.9758333333333333, -1.7625000000000002, -1.2500000000000002, -0.8383333333333333, -0.6316666666666668, -0.8883333333333333, -0.6291666666666668, -0.5483333333333332, -0.8533333333333334, -1.1483333333333334, -0.8133333333333334, -1.0483333333333333, -1.1, -1.3666666666666665, -1.0516666666666665, -1.0433333333333332, -1.0466666666666666, -1.0333333333333334, -0.7983333333333333, -0.6333333333333334, -0.47833333333333333, -0.2450000000000001, 0.48500000000000015, 0.5299999999999999, 0.8791666666666668, 1.1708333333333332, 1.025, 0.5116666666666666, 0.09333333333333342, -0.4691666666666667, -0.9991666666666669, -1.3933333333333333, -1.0508333333333333, -0.9416666666666665, -0.9475000000000001, -0.40166666666666667, -0.23583333333333323, 0.1491666666666666, 0.45249999999999996, 1.07, 1.5250000000000004, 1.6383333333333334, 1.8533333333333335, 2.0975, 1.4566666666666668, 1.4841666666666666, 0.9766666666666669, 0.5908333333333332, 0.3533333333333332, 0.6741666666666667, 1.1366666666666667, 1.3591666666666662, 1.6199999999999999, 1.8741666666666665, 1.590833333333333, 1.3341666666666667, 0.5375, 0.31333333333333335, 0.11416666666666665, -0.32, -0.6900000000000001, -0.7533333333333334, -0.6383333333333333, -1.1516666666666666, -1.5958333333333334, -1.3316666666666668, -1.480833333333333, -1.95, -1.9341666666666668, -1.8099999999999998, -2.0941666666666667, -2.5941666666666667, -2.1583333333333337, -1.8583333333333334, -1.5091666666666665, -1.1366666666666667, -0.5175000000000002, -0.4058333333333333, -0.2566666666666668, -0.09833333333333338, 0.019999999999999834, -0.35666666666666674, -0.24333333333333348, -0.4950000000000001, -0.6250000000000003, -1.209166666666667, -1.4225, -1.5366666666666664, -1.5908333333333333, -1.6833333333333336, -0.9825, -0.36833333333333335, 0.016666666666666607, -0.025833333333333375, -0.051666666666666715, -0.48583333333333334, -0.7275, -0.86, -0.9016666666666667, -1.1025, -0.6966666666666669, -0.5475, -0.1758333333333335, -0.058333333333333494, 0.19083333333333327, 0.13666666666666663, 0.020833333333333186, 0.049166666666666504, -0.08083333333333342, -0.605, -1.2033333333333334, -1.9525, -1.9566666666666668]\n",
            "{'F': 15, 'L': 23, 'E': 17, 'P': 15, 'W': 2, 'T': 11, 'S': 16, 'C': 2, 'M': 9, 'R': 19, 'D': 12, 'V': 15, 'K': 7, 'I': 21, 'G': 20, 'Q': 6, 'A': 24, 'N': 10, 'H': 7, 'Y': 10}\n",
            "{'F': 0.05747126436781609, 'L': 0.08812260536398467, 'E': 0.06513409961685823, 'P': 0.05747126436781609, 'W': 0.007662835249042145, 'T': 0.0421455938697318, 'S': 0.06130268199233716, 'C': 0.007662835249042145, 'A': 0.09195402298850575, 'R': 0.07279693486590039, 'V': 0.05747126436781609, 'K': 0.02681992337164751, 'D': 0.04597701149425287, 'G': 0.07662835249042145, 'I': 0.08045977011494253, 'M': 0.034482758620689655, 'Q': 0.022988505747126436, 'N': 0.038314176245210725, 'Y': 0.038314176245210725, 'H': 0.02681992337164751}\n",
            "29202.224099999996\n",
            "0.10344827586206896\n",
            "38.13758620689655\n",
            "[0.9932857142857142, 1.0031785714285715, 0.9988095238095237, 0.989904761904762, 0.994297619047619, 0.9705, 0.976702380952381, 0.9657857142857144, 0.9759761904761904, 0.9779523809523809, 0.9567023809523809, 1.0003333333333333, 0.9746190476190476, 1.0169642857142855, 0.983297619047619, 1.0102619047619048, 0.9529880952380952, 0.9725714285714284, 0.9715119047619047, 0.9721190476190477, 0.9621428571428571, 0.9486071428571428, 0.9649166666666666, 0.9903333333333334, 0.9664166666666667, 0.9973928571428571, 0.9716071428571428, 1.0324761904761905, 0.978404761904762, 1.0354047619047617, 1.0175238095238097, 0.9727619047619046, 1.007059523809524, 0.9746785714285715, 0.990904761904762, 0.9843452380952381, 0.9792619047619049, 1.0130238095238095, 1.0322142857142858, 1.0264166666666665, 1.0282380952380952, 1.0221190476190476, 1.0286071428571428, 0.9805357142857142, 1.0166071428571428, 0.9672738095238096, 0.979107142857143, 0.9932142857142858, 0.9558928571428572, 0.9707023809523808, 0.9887619047619047, 0.9647142857142857, 0.9958452380952381, 0.9901071428571429, 0.9630476190476189, 1.005607142857143, 0.9612738095238095, 0.9979285714285714, 0.9824166666666666, 0.982547619047619, 0.9926190476190475, 1.0013690476190478, 1.0295833333333333, 1.0250000000000001, 1.0366071428571428, 1.0316309523809526, 0.9892500000000001, 1.0129285714285716, 1.032214285714286, 0.9665000000000001, 1.0122380952380952, 0.9804166666666667, 1.0065833333333334, 0.9746785714285715, 1.00775, 1.0102380952380952, 0.998845238095238, 0.9717261904761905, 0.9786309523809525, 0.9778809523809523, 0.9936071428571429, 0.9511904761904763, 0.967202380952381, 0.9656666666666668, 0.9862500000000002, 0.9856428571428573, 0.9607619047619048, 0.9833690476190478, 1.0099285714285715, 0.986654761904762, 0.98775, 0.9697738095238095, 0.9890595238095237, 1.0237142857142858, 0.9709761904761907, 1.0179404761904762, 1.04475, 1.0346428571428572, 1.0260357142857142, 1.0320714285714288, 0.9987738095238096, 1.0311666666666668, 0.9801190476190478, 0.9938333333333333, 1.0059761904761906, 0.9902976190476193, 0.971642857142857, 0.9843690476190478, 1.006595238095238, 0.9765357142857143, 0.9755, 1.0033333333333334, 1.0046309523809522, 0.9990119047619048, 1.0146071428571428, 1.0022738095238095, 0.9730238095238096, 0.9878809523809524, 0.9477380952380953, 0.9591190476190476, 0.9512619047619049, 0.9608452380952379, 1.0020119047619047, 0.9998928571428571, 1.0349880952380954, 1.02925, 1.0493928571428572, 1.0209404761904761, 1.0303690476190477, 0.9868690476190477, 1.0181071428571429, 0.9626785714285715, 0.9823690476190475, 0.9960714285714286, 0.9852380952380952, 1.0294642857142857, 1.026047619047619, 1.0232857142857144, 1.0228214285714285, 1.0469404761904764, 1.012154761904762, 1.0167142857142857, 0.985857142857143, 0.9727499999999998, 0.9815833333333334, 0.9794166666666668, 1.002547619047619, 1.0048690476190476, 0.9837142857142857, 0.9894404761904761, 1.0323928571428573, 0.9943095238095239, 1.0502023809523808, 1.026714285714286, 1.0127380952380953, 1.0399166666666668, 1.0074404761904763, 1.0075714285714286, 0.9785238095238095, 1.0013690476190478, 0.9515833333333332, 0.9626547619047618, 0.9708690476190476, 0.9792142857142858, 0.9820476190476191, 0.9579047619047619, 0.9902738095238094, 0.9851547619047619, 0.9760238095238096, 0.9682738095238096, 0.9712380952380952, 0.9979047619047621, 0.9765714285714286, 1.023154761904762, 0.9982500000000001, 0.9713095238095238, 0.9931666666666665, 0.9927738095238096, 1.0277023809523809, 0.9701904761904763, 1.0323809523809524, 1.0176547619047618, 1.032547619047619, 1.0411071428571428, 1.024535714285714, 1.0215476190476191, 0.9887619047619047, 1.0127142857142857, 1.009952380952381, 0.980642857142857, 1.0209642857142855, 1.0199642857142859, 0.9900357142857142, 1.0153333333333332, 0.9742857142857143, 0.9932500000000001, 0.997797619047619, 0.9944999999999999, 1.0100952380952382, 0.9678214285714285, 1.0216428571428569, 0.9746785714285715, 1.0132261904761906, 0.9913809523809524, 0.9711547619047619, 0.9910952380952383, 1.016952380952381, 0.9966071428571429, 0.997202380952381, 0.9831904761904762, 1.032345238095238, 1.0172619047619047, 0.9764285714285714, 1.0225357142857143, 0.9792857142857142, 1.021404761904762, 0.9787738095238095, 0.9635, 0.9771428571428573, 0.9827976190476191, 0.9601190476190476, 0.954404761904762, 0.9552976190476191, 0.9643809523809523, 0.9981785714285716, 0.9851785714285713, 0.9679047619047619, 1.0204166666666667, 0.9988809523809524, 0.9895833333333334, 0.9821309523809523, 0.9902500000000002, 1.0275, 0.9730595238095238, 1.0339166666666666, 1.005857142857143, 1.0249404761904761, 0.9701904761904763, 0.9852857142857144, 0.9808333333333336, 0.9731428571428573, 0.9992142857142857, 0.9810476190476191, 0.9635, 1.0130714285714284, 0.9641785714285716, 0.9851785714285716, 0.9934404761904762, 0.9870357142857143, 0.9639285714285715, 0.9821666666666666, 0.9954047619047619]\n",
            "6.19207763671875\n",
            "(0.32950191570881227, 0.23371647509578544, 0.27969348659003834)\n",
            "[0.6074999999999998, 0.10916666666666675, 0.09500000000000013, -0.05333333333333323, 0.14666666666666683, 0.2591666666666666, 0.7200000000000001, 1.0875, 1.3316666666666668, 1.4316666666666666, 1.3175, 0.9350000000000002, 0.4308333333333334, 0.3574999999999999, 0.3491666666666667, 0.7333333333333333, 0.8333333333333334, 1.0208333333333333, 1.1658333333333333, 1.6475, 1.5233333333333334, 1.8433333333333335, 1.7424999999999997, 1.8308333333333333, 1.2774999999999999, 1.4991666666666665, 1.1875, 0.5766666666666665, 0.2841666666666667, 0.4158333333333333, 0.4216666666666667, 0.6908333333333333, 0.8316666666666667, 0.9891666666666664, 0.4691666666666667, 0.1391666666666667, -0.43916666666666676, -1.5175, -2.3649999999999998, -3.0883333333333334, -3.1191666666666666, -2.9566666666666666, -2.2625, -1.7408333333333335, -1.1183333333333334, -0.5483333333333331, 0.12833333333333327, 0.11083333333333319, 0.5399999999999999, 0.2133333333333333, -0.07083333333333346, -0.28416666666666673, -0.30666666666666664, -0.36666666666666675, -0.49750000000000005, -0.5025000000000001, -0.14249999999999993, -0.02083333333333341, 0.44666666666666677, 0.48666666666666664, 0.23333333333333328, 0.13583333333333336, -0.48916666666666675, -0.6558333333333334, -0.8683333333333332, -1.3416666666666668, -1.2625000000000002, -1.1066666666666667, -0.6883333333333335, -0.7133333333333335, -0.13833333333333342, 0.21250000000000013, 0.05166666666666656, -0.12500000000000008, 0.20499999999999988, 0.2658333333333334, 0.5524999999999999, 0.5766666666666667, 1.2016666666666664, 1.0891666666666666, 0.9099999999999998, 0.4466666666666666, 0.19666666666666663, -0.17416666666666666, -0.30416666666666675, -0.5508333333333334, -0.1991666666666667, -0.22333333333333347, 0.19666666666666663, 0.3691666666666666, 0.30416666666666664, 0.4083333333333334, 0.4875, 0.1574999999999999, -0.09333333333333334, -0.10333333333333335, -0.17916666666666667, -0.44833333333333325, -0.9024999999999999, -0.3466666666666667, -0.5608333333333334, -0.5300000000000001, -0.4133333333333334, 0.0674999999999999, 0.2100000000000001, 0.2541666666666664, 0.3366666666666666, 0.7233333333333333, 0.2824999999999999, 0.1991666666666665, 0.019166666666666627, -0.5283333333333333, -1.1300000000000001, -1.0983333333333334, -0.7816666666666666, -0.7466666666666667, -0.04500000000000004, 0.9225000000000002, 1.5091666666666665, 1.5874999999999997, 1.9291666666666665, 1.6441666666666668, 0.9983333333333332, 0.13249999999999998, -0.3016666666666667, -0.9483333333333333, -1.1241666666666668, -1.3175, -0.9433333333333335, -0.9100000000000001, -0.9041666666666667, -0.9241666666666665, -1.1241666666666668, -1.5508333333333333, -1.9349999999999998, -1.9716666666666667, -2.1916666666666664, -2.1366666666666667, -1.8575, -1.2925, -0.9716666666666667, -0.13750000000000007, 0.7391666666666667, 1.1566666666666665, 1.0883333333333332, 0.9066666666666666, 0.8183333333333334, 0.2691666666666667, 0.10666666666666691, -0.35666666666666663, -0.5408333333333334, -0.7558333333333335, -0.7358333333333333, -0.9141666666666667, -0.8141666666666666, -0.9149999999999999, -0.8174999999999999, -0.4866666666666668, 0.3333333333333333, 0.6458333333333331, 0.4474999999999998, 0.34249999999999986, 0.28916666666666657, -0.09333333333333334, -0.6875000000000001, -0.5291666666666667, -0.3558333333333333, -0.09666666666666664, -0.06583333333333356, 0.605, 0.64, 0.07166666666666661, -0.03583333333333331, 0.5141666666666667, 0.565, 0.4133333333333333, 0.8208333333333333, 1.0675, 0.5433333333333331, 0.3475000000000001, 0.04249999999999998, -0.8216666666666668, -1.3783333333333332, -1.415, -1.0125, -1.1616666666666668, -0.43250000000000005, 0.04416666666666669, -0.0525000000000001, 0.14583333333333318, 0.22416666666666676, -0.030833333333333324, -0.4416666666666668, -0.3916666666666668, -0.5408333333333332, -1.0875000000000001, -0.9, -0.7933333333333331, -0.8316666666666667, -0.6349999999999999, -0.27250000000000013, 0.16416666666666666, 0.6441666666666667, 0.8708333333333331, 1.0024999999999997, 0.5291666666666667, 0.2933333333333332, -0.40666666666666673, -0.9283333333333332, -0.9541666666666666, -1.365, -1.1925000000000001, -0.955, -0.8633333333333334, -0.5266666666666667, -0.09416666666666673, -0.4008333333333334, -0.13250000000000006, 0.004166666666666726, 0.5341666666666667, 0.4883333333333331, 0.8899999999999998, 1.1158333333333335, 1.0833333333333333, 0.6866666666666665, 0.5974999999999998, 0.39999999999999986, 0.5283333333333333, 0.6050000000000001, 0.41333333333333316, 1.0174999999999998, 1.0708333333333333, 0.8099999999999999, 0.3691666666666667, 0.5258333333333334, 0.014166666666666735, -0.4100000000000001, -0.3583333333333332, 0.022500000000000114, -0.24083333333333343, 0.34, 0.34833333333333344, 0.7283333333333332, 0.4791666666666667, 0.3583333333333334, 0.1141666666666666, 0.06999999999999999, 0.11583333333333319, -0.2258333333333334, -0.42250000000000004, 0.18333333333333335, -0.1158333333333333, -0.14250000000000015]\n",
            "{'F': 16, 'L': 23, 'E': 17, 'P': 15, 'W': 2, 'T': 11, 'S': 17, 'C': 1, 'M': 9, 'R': 19, 'D': 12, 'V': 15, 'K': 7, 'I': 21, 'G': 20, 'Q': 6, 'A': 23, 'N': 10, 'H': 7, 'Y': 10}\n",
            "{'F': 0.06130268199233716, 'L': 0.08812260536398467, 'E': 0.06513409961685823, 'P': 0.05747126436781609, 'W': 0.007662835249042145, 'T': 0.0421455938697318, 'S': 0.06513409961685823, 'C': 0.0038314176245210726, 'A': 0.08812260536398467, 'R': 0.07279693486590039, 'V': 0.05747126436781609, 'K': 0.02681992337164751, 'D': 0.04597701149425287, 'G': 0.07662835249042145, 'I': 0.08045977011494253, 'M': 0.034482758620689655, 'Q': 0.022988505747126436, 'N': 0.038314176245210725, 'Y': 0.038314176245210725, 'H': 0.02681992337164751}\n",
            "29262.254399999994\n",
            "0.10727969348659003\n",
            "38.47015325670498\n",
            "[0.9932857142857142, 1.0031785714285715, 0.9988095238095237, 0.989904761904762, 0.994297619047619, 0.9705, 0.976702380952381, 0.9657857142857144, 0.9759761904761904, 0.9779523809523809, 0.9567023809523809, 1.0003333333333333, 0.9746190476190476, 1.0169642857142855, 0.983297619047619, 1.0102619047619048, 0.9529880952380952, 0.9725714285714284, 0.9715119047619047, 0.9721190476190477, 0.9621428571428571, 0.9486071428571428, 0.9649166666666666, 0.9903333333333334, 0.9664166666666667, 0.9973928571428571, 0.9716071428571428, 1.0324761904761905, 0.978404761904762, 1.0354047619047617, 1.0175238095238097, 0.9727619047619046, 1.007059523809524, 0.9746785714285715, 0.990904761904762, 0.9843452380952381, 0.9792619047619049, 1.0130238095238095, 1.0322142857142858, 1.0264166666666665, 1.034904761904762, 1.0337857142857143, 1.0452738095238094, 1.0288690476190478, 1.0166071428571428, 0.9889404761904762, 0.9957738095238095, 1.0048809523809525, 0.9625595238095238, 0.9707023809523808, 0.9887619047619047, 0.9647142857142857, 0.9958452380952381, 0.9901071428571429, 0.9630476190476189, 1.005607142857143, 0.9612738095238095, 0.9979285714285714, 0.9824166666666666, 0.982547619047619, 0.9926190476190475, 1.0013690476190478, 1.0295833333333333, 1.0250000000000001, 1.0366071428571428, 1.0316309523809526, 0.9892500000000001, 1.0129285714285716, 1.032214285714286, 0.9665000000000001, 1.0122380952380952, 0.9804166666666667, 1.0065833333333334, 0.9746785714285715, 1.00775, 1.0102380952380952, 0.998845238095238, 0.9717261904761905, 0.9786309523809525, 0.9778809523809523, 0.9936071428571429, 0.9511904761904763, 0.967202380952381, 0.9656666666666668, 0.9862500000000002, 0.9856428571428573, 0.9607619047619048, 0.9833690476190478, 1.0099285714285715, 0.986654761904762, 0.98775, 0.9697738095238095, 0.9890595238095237, 1.0237142857142858, 0.9709761904761907, 1.0179404761904762, 1.04475, 1.0346428571428572, 1.0260357142857142, 1.0320714285714288, 0.9987738095238096, 1.0311666666666668, 0.9801190476190478, 0.9938333333333333, 1.0059761904761906, 0.9902976190476193, 0.971642857142857, 0.9843690476190478, 1.006595238095238, 0.9765357142857143, 0.9755, 1.0033333333333334, 1.0046309523809522, 0.9990119047619048, 1.0146071428571428, 1.0022738095238095, 0.9730238095238096, 0.9878809523809524, 0.9477380952380953, 0.9591190476190476, 0.9512619047619049, 0.9608452380952379, 1.0020119047619047, 0.9998928571428571, 1.0349880952380954, 1.02925, 1.0493928571428572, 1.0209404761904761, 1.0303690476190477, 0.9868690476190477, 1.0181071428571429, 0.9626785714285715, 0.9823690476190475, 0.9960714285714286, 0.9852380952380952, 1.0261785714285716, 1.0202976190476192, 1.0150714285714286, 0.9990000000000001, 1.0469404761904764, 1.0014761904761904, 1.0085, 0.980107142857143, 0.9694642857142858, 0.9815833333333334, 0.9794166666666668, 1.002547619047619, 1.0048690476190476, 0.9837142857142857, 0.9894404761904761, 1.0323928571428573, 0.9943095238095239, 1.0502023809523808, 1.026714285714286, 1.0127380952380953, 1.0399166666666668, 1.0074404761904763, 1.0075714285714286, 0.9785238095238095, 1.0013690476190478, 0.9515833333333332, 0.9626547619047618, 0.9708690476190476, 0.9792142857142858, 0.9820476190476191, 0.9579047619047619, 0.9902738095238094, 0.9851547619047619, 0.9760238095238096, 0.9682738095238096, 0.9712380952380952, 0.9979047619047621, 0.9765714285714286, 1.023154761904762, 0.9982500000000001, 0.9713095238095238, 0.9931666666666665, 0.9927738095238096, 1.0277023809523809, 0.9701904761904763, 1.0323809523809524, 1.0176547619047618, 1.032547619047619, 1.0411071428571428, 1.024535714285714, 1.0215476190476191, 0.9887619047619047, 1.0127142857142857, 1.009952380952381, 0.980642857142857, 1.0209642857142855, 1.0199642857142859, 0.9900357142857142, 1.0153333333333332, 0.9742857142857143, 0.9932500000000001, 0.997797619047619, 0.9944999999999999, 1.0100952380952382, 0.9678214285714285, 1.0216428571428569, 0.9746785714285715, 1.0132261904761906, 0.9913809523809524, 0.9711547619047619, 0.9910952380952383, 1.016952380952381, 0.9966071428571429, 0.997202380952381, 0.9831904761904762, 1.032345238095238, 1.0172619047619047, 0.9764285714285714, 1.0225357142857143, 0.9792857142857142, 1.021404761904762, 0.9787738095238095, 0.9635, 0.9771428571428573, 0.9827976190476191, 0.9601190476190476, 0.954404761904762, 0.9552976190476191, 0.9643809523809523, 0.9981785714285716, 0.9851785714285713, 0.9679047619047619, 1.0204166666666667, 0.9988809523809524, 0.9895833333333334, 0.9821309523809523, 0.9902500000000002, 1.0275, 0.9730595238095238, 1.0339166666666666, 1.005857142857143, 1.0249404761904761, 0.9701904761904763, 0.9852857142857144, 0.9808333333333336, 0.9731428571428573, 0.9992142857142857, 0.9810476190476191, 0.9635, 1.0130714285714284, 0.9641785714285716, 0.9851785714285716, 0.9934404761904762, 0.9870357142857143, 0.9639285714285715, 0.9821666666666666, 0.9954047619047619]\n",
            "6.19232177734375\n",
            "(0.3333333333333333, 0.23754789272030652, 0.27586206896551724)\n",
            "[0.6074999999999998, 0.10916666666666675, 0.09500000000000013, -0.05333333333333323, 0.14666666666666683, 0.2591666666666666, 0.7200000000000001, 1.0875, 1.3316666666666668, 1.4316666666666666, 1.3175, 0.9350000000000002, 0.4308333333333334, 0.3574999999999999, 0.3491666666666667, 0.7333333333333333, 0.8333333333333334, 1.0208333333333333, 1.1658333333333333, 1.6475, 1.5233333333333334, 1.8433333333333335, 1.7424999999999997, 1.8308333333333333, 1.2774999999999999, 1.4991666666666665, 1.1875, 0.5766666666666665, 0.2841666666666667, 0.4158333333333333, 0.4216666666666667, 0.6908333333333333, 0.8316666666666667, 0.9891666666666664, 0.4691666666666667, 0.1391666666666667, -0.43916666666666676, -1.5175, -2.3649999999999998, -3.0883333333333334, -3.339166666666667, -3.2591666666666668, -2.6475000000000004, -2.2083333333333335, -1.6683333333333337, -1.0158333333333334, -0.25666666666666665, -0.1916666666666668, 0.3199999999999998, 0.2133333333333333, -0.07083333333333346, -0.28416666666666673, -0.30666666666666664, -0.36666666666666675, -0.49750000000000005, -0.5025000000000001, -0.14249999999999993, -0.02083333333333341, 0.44666666666666677, 0.48666666666666664, 0.23333333333333328, 0.13583333333333336, -0.48916666666666675, -0.6558333333333334, -0.8683333333333332, -1.3416666666666668, -1.2625000000000002, -1.1066666666666667, -0.6883333333333335, -0.7133333333333335, -0.13833333333333342, 0.21250000000000013, 0.05166666666666656, -0.12500000000000008, 0.20499999999999988, 0.2658333333333334, 0.5524999999999999, 0.5766666666666667, 1.2016666666666664, 1.0891666666666666, 0.9099999999999998, 0.4466666666666666, 0.19666666666666663, -0.17416666666666666, -0.30416666666666675, -0.5508333333333334, -0.1991666666666667, -0.22333333333333347, 0.19666666666666663, 0.3691666666666666, 0.30416666666666664, 0.4083333333333334, 0.4875, 0.1574999999999999, -0.09333333333333334, -0.10333333333333335, -0.17916666666666667, -0.44833333333333325, -0.9024999999999999, -0.3466666666666667, -0.5608333333333334, -0.5300000000000001, -0.4133333333333334, 0.0674999999999999, 0.2100000000000001, 0.2541666666666664, 0.3366666666666666, 0.7233333333333333, 0.2824999999999999, 0.1991666666666665, 0.019166666666666627, -0.5283333333333333, -1.1300000000000001, -1.0983333333333334, -0.7816666666666666, -0.7466666666666667, -0.04500000000000004, 0.9225000000000002, 1.5091666666666665, 1.5874999999999997, 1.9291666666666665, 1.6441666666666668, 0.9983333333333332, 0.13249999999999998, -0.3016666666666667, -0.9483333333333333, -1.1241666666666668, -1.3175, -0.9433333333333335, -0.9100000000000001, -0.9041666666666667, -0.9241666666666665, -1.1241666666666668, -1.5508333333333333, -1.9349999999999998, -1.905, -2.1, -2.02, -1.7158333333333333, -1.1258333333333332, -0.83, -0.02083333333333337, 0.8308333333333332, 1.2233333333333332, 1.0883333333333332, 0.9066666666666666, 0.8183333333333334, 0.2691666666666667, 0.10666666666666691, -0.35666666666666663, -0.5408333333333334, -0.7558333333333335, -0.7358333333333333, -0.9141666666666667, -0.8141666666666666, -0.9149999999999999, -0.8174999999999999, -0.4866666666666668, 0.3333333333333333, 0.6458333333333331, 0.4474999999999998, 0.34249999999999986, 0.28916666666666657, -0.09333333333333334, -0.6875000000000001, -0.5291666666666667, -0.3558333333333333, -0.09666666666666664, -0.06583333333333356, 0.605, 0.64, 0.07166666666666661, -0.03583333333333331, 0.5141666666666667, 0.565, 0.4133333333333333, 0.8208333333333333, 1.0675, 0.5433333333333331, 0.3475000000000001, 0.04249999999999998, -0.8216666666666668, -1.3783333333333332, -1.415, -1.0125, -1.1616666666666668, -0.43250000000000005, 0.04416666666666669, -0.0525000000000001, 0.14583333333333318, 0.22416666666666676, -0.030833333333333324, -0.4416666666666668, -0.3916666666666668, -0.5408333333333332, -1.0875000000000001, -0.9, -0.7933333333333331, -0.8316666666666667, -0.6349999999999999, -0.27250000000000013, 0.16416666666666666, 0.6441666666666667, 0.8708333333333331, 1.0024999999999997, 0.5291666666666667, 0.2933333333333332, -0.40666666666666673, -0.9283333333333332, -0.9541666666666666, -1.365, -1.1925000000000001, -0.955, -0.8633333333333334, -0.5266666666666667, -0.09416666666666673, -0.4008333333333334, -0.13250000000000006, 0.004166666666666726, 0.5341666666666667, 0.4883333333333331, 0.8899999999999998, 1.1158333333333335, 1.0833333333333333, 0.6866666666666665, 0.5974999999999998, 0.39999999999999986, 0.5283333333333333, 0.6050000000000001, 0.41333333333333316, 1.0174999999999998, 1.0708333333333333, 0.8099999999999999, 0.3691666666666667, 0.5258333333333334, 0.014166666666666735, -0.4100000000000001, -0.3583333333333332, 0.022500000000000114, -0.24083333333333343, 0.34, 0.34833333333333344, 0.7283333333333332, 0.4791666666666667, 0.3583333333333334, 0.1141666666666666, 0.06999999999999999, 0.11583333333333319, -0.2258333333333334, -0.42250000000000004, 0.18333333333333335, -0.1158333333333333, -0.14250000000000015]\n",
            "{'F': 16, 'L': 23, 'E': 17, 'P': 15, 'W': 2, 'T': 11, 'S': 16, 'C': 2, 'M': 9, 'R': 19, 'D': 12, 'V': 15, 'K': 7, 'I': 21, 'G': 20, 'Q': 6, 'A': 23, 'N': 10, 'H': 7, 'Y': 10}\n",
            "{'F': 0.06130268199233716, 'L': 0.08812260536398467, 'E': 0.06513409961685823, 'P': 0.05747126436781609, 'W': 0.007662835249042145, 'T': 0.0421455938697318, 'S': 0.06130268199233716, 'C': 0.007662835249042145, 'A': 0.08812260536398467, 'R': 0.07279693486590039, 'V': 0.05747126436781609, 'K': 0.02681992337164751, 'D': 0.04597701149425287, 'G': 0.07662835249042145, 'I': 0.08045977011494253, 'M': 0.034482758620689655, 'Q': 0.022988505747126436, 'N': 0.038314176245210725, 'Y': 0.038314176245210725, 'H': 0.02681992337164751}\n",
            "29278.319999999996\n",
            "0.10727969348659003\n",
            "38.359808429118765\n",
            "[0.9932857142857142, 1.0031785714285715, 0.9988095238095237, 0.989904761904762, 0.994297619047619, 0.9705, 0.976702380952381, 0.9657857142857144, 0.9759761904761904, 0.9779523809523809, 0.9567023809523809, 1.0003333333333333, 0.9746190476190476, 1.0169642857142855, 0.983297619047619, 1.0102619047619048, 0.9529880952380952, 0.9725714285714284, 0.9715119047619047, 0.9721190476190477, 0.9621428571428571, 0.9486071428571428, 0.9649166666666666, 0.9903333333333334, 0.9664166666666667, 0.9973928571428571, 0.9716071428571428, 1.0324761904761905, 0.978404761904762, 1.0354047619047617, 1.0175238095238097, 0.9727619047619046, 1.007059523809524, 0.9746785714285715, 0.990904761904762, 0.9843452380952381, 0.9792619047619049, 1.0130238095238095, 1.0322142857142858, 1.0264166666666665, 1.0282380952380952, 1.0221190476190476, 1.0286071428571428, 0.9805357142857142, 1.0166071428571428, 0.9672738095238096, 0.979107142857143, 0.9932142857142858, 0.9558928571428572, 0.9707023809523808, 0.9887619047619047, 0.9647142857142857, 0.9958452380952381, 0.9901071428571429, 0.9630476190476189, 1.005607142857143, 0.9612738095238095, 0.9979285714285714, 0.9824166666666666, 0.982547619047619, 0.9926190476190475, 1.0013690476190478, 1.0295833333333333, 1.0250000000000001, 1.0366071428571428, 1.0316309523809526, 0.9892500000000001, 1.0129285714285716, 1.032214285714286, 0.9665000000000001, 1.0122380952380952, 0.9804166666666667, 1.0065833333333334, 0.9746785714285715, 1.00775, 1.0102380952380952, 0.998845238095238, 0.9717261904761905, 0.9786309523809525, 0.9778809523809523, 0.9936071428571429, 0.9511904761904763, 0.967202380952381, 0.9656666666666668, 0.9862500000000002, 0.9856428571428573, 0.9607619047619048, 0.9833690476190478, 1.0099285714285715, 0.986654761904762, 0.98775, 0.9697738095238095, 0.9890595238095237, 1.0237142857142858, 0.9709761904761907, 1.0179404761904762, 1.04475, 1.0346428571428572, 1.0260357142857142, 1.0320714285714288, 0.9987738095238096, 1.0311666666666668, 0.9801190476190478, 0.9938333333333333, 1.0059761904761906, 0.9902976190476193, 0.971642857142857, 0.9843690476190478, 1.006595238095238, 0.9765357142857143, 0.9755, 1.0033333333333334, 1.0046309523809522, 0.9990119047619048, 1.0146071428571428, 1.0022738095238095, 0.9730238095238096, 0.9878809523809524, 0.9477380952380953, 0.9591190476190476, 0.9512619047619049, 0.9608452380952379, 1.0020119047619047, 0.9998928571428571, 1.0349880952380954, 1.02925, 1.0493928571428572, 1.0209404761904761, 1.0303690476190477, 0.9868690476190477, 1.0181071428571429, 0.9626785714285715, 0.9823690476190475, 0.9960714285714286, 0.9852380952380952, 1.0261785714285716, 1.0202976190476192, 1.0150714285714286, 0.9990000000000001, 1.0469404761904764, 1.0014761904761904, 1.0085, 0.980107142857143, 0.9694642857142858, 0.9815833333333334, 0.9794166666666668, 1.002547619047619, 1.0048690476190476, 0.9837142857142857, 0.9894404761904761, 1.0323928571428573, 0.9943095238095239, 1.0502023809523808, 1.026714285714286, 1.0127380952380953, 1.0399166666666668, 1.0074404761904763, 1.0075714285714286, 0.9785238095238095, 1.0013690476190478, 0.9515833333333332, 0.9626547619047618, 0.9708690476190476, 0.9792142857142858, 0.9820476190476191, 0.9579047619047619, 0.9902738095238094, 0.9851547619047619, 0.9760238095238096, 0.9682738095238096, 0.9712380952380952, 0.9979047619047621, 0.9765714285714286, 1.023154761904762, 0.9982500000000001, 0.9713095238095238, 0.9931666666666665, 0.9927738095238096, 1.0277023809523809, 0.9701904761904763, 1.0323809523809524, 1.0176547619047618, 1.032547619047619, 1.0411071428571428, 1.024535714285714, 1.0215476190476191, 0.9887619047619047, 1.0127142857142857, 1.009952380952381, 0.980642857142857, 1.0209642857142855, 1.0199642857142859, 0.9900357142857142, 1.0153333333333332, 0.9742857142857143, 0.9932500000000001, 0.997797619047619, 0.9944999999999999, 1.0100952380952382, 0.9678214285714285, 1.0216428571428569, 0.9746785714285715, 1.0132261904761906, 0.9913809523809524, 0.9711547619047619, 0.9910952380952383, 1.016952380952381, 0.9966071428571429, 0.997202380952381, 0.9831904761904762, 1.032345238095238, 1.0172619047619047, 0.9764285714285714, 1.0225357142857143, 0.9792857142857142, 1.021404761904762, 0.9787738095238095, 0.9635, 0.9771428571428573, 0.9827976190476191, 0.9601190476190476, 0.954404761904762, 0.9552976190476191, 0.9643809523809523, 0.9981785714285716, 0.9851785714285713, 0.9679047619047619, 1.0204166666666667, 0.9988809523809524, 0.9895833333333334, 0.9821309523809523, 0.9902500000000002, 1.0275, 0.9730595238095238, 1.0339166666666666, 1.005857142857143, 1.0249404761904761, 0.9701904761904763, 0.9852857142857144, 0.9808333333333336, 0.9731428571428573, 0.9992142857142857, 0.9810476190476191, 0.9635, 1.0130714285714284, 0.9641785714285716, 0.9851785714285716, 0.9934404761904762, 0.9870357142857143, 0.9639285714285715, 0.9821666666666666, 0.9954047619047619]\n",
            "6.19207763671875\n",
            "(0.3333333333333333, 0.23371647509578544, 0.27586206896551724)\n",
            "[0.6074999999999998, 0.10916666666666675, 0.09500000000000013, -0.05333333333333323, 0.14666666666666683, 0.2591666666666666, 0.7200000000000001, 1.0875, 1.3316666666666668, 1.4316666666666666, 1.3175, 0.9350000000000002, 0.4308333333333334, 0.3574999999999999, 0.3491666666666667, 0.7333333333333333, 0.8333333333333334, 1.0208333333333333, 1.1658333333333333, 1.6475, 1.5233333333333334, 1.8433333333333335, 1.7424999999999997, 1.8308333333333333, 1.2774999999999999, 1.4991666666666665, 1.1875, 0.5766666666666665, 0.2841666666666667, 0.4158333333333333, 0.4216666666666667, 0.6908333333333333, 0.8316666666666667, 0.9891666666666664, 0.4691666666666667, 0.1391666666666667, -0.43916666666666676, -1.5175, -2.3649999999999998, -3.0883333333333334, -3.1191666666666666, -2.9566666666666666, -2.2625, -1.7408333333333335, -1.1183333333333334, -0.5483333333333331, 0.12833333333333327, 0.11083333333333319, 0.5399999999999999, 0.2133333333333333, -0.07083333333333346, -0.28416666666666673, -0.30666666666666664, -0.36666666666666675, -0.49750000000000005, -0.5025000000000001, -0.14249999999999993, -0.02083333333333341, 0.44666666666666677, 0.48666666666666664, 0.23333333333333328, 0.13583333333333336, -0.48916666666666675, -0.6558333333333334, -0.8683333333333332, -1.3416666666666668, -1.2625000000000002, -1.1066666666666667, -0.6883333333333335, -0.7133333333333335, -0.13833333333333342, 0.21250000000000013, 0.05166666666666656, -0.12500000000000008, 0.20499999999999988, 0.2658333333333334, 0.5524999999999999, 0.5766666666666667, 1.2016666666666664, 1.0891666666666666, 0.9099999999999998, 0.4466666666666666, 0.19666666666666663, -0.17416666666666666, -0.30416666666666675, -0.5508333333333334, -0.1991666666666667, -0.22333333333333347, 0.19666666666666663, 0.3691666666666666, 0.30416666666666664, 0.4083333333333334, 0.4875, 0.1574999999999999, -0.09333333333333334, -0.10333333333333335, -0.17916666666666667, -0.44833333333333325, -0.9024999999999999, -0.3466666666666667, -0.5608333333333334, -0.5300000000000001, -0.4133333333333334, 0.0674999999999999, 0.2100000000000001, 0.2541666666666664, 0.3366666666666666, 0.7233333333333333, 0.2824999999999999, 0.1991666666666665, 0.019166666666666627, -0.5283333333333333, -1.1300000000000001, -1.0983333333333334, -0.7816666666666666, -0.7466666666666667, -0.04500000000000004, 0.9225000000000002, 1.5091666666666665, 1.5874999999999997, 1.9291666666666665, 1.6441666666666668, 0.9983333333333332, 0.13249999999999998, -0.3016666666666667, -0.9483333333333333, -1.1241666666666668, -1.3175, -0.9433333333333335, -0.9100000000000001, -0.9041666666666667, -0.9241666666666665, -1.1241666666666668, -1.5508333333333333, -1.9349999999999998, -1.905, -2.1, -2.02, -1.7158333333333333, -1.1258333333333332, -0.83, -0.02083333333333337, 0.8308333333333332, 1.2233333333333332, 1.0883333333333332, 0.9066666666666666, 0.8183333333333334, 0.2691666666666667, 0.10666666666666691, -0.35666666666666663, -0.5408333333333334, -0.7558333333333335, -0.7358333333333333, -0.9141666666666667, -0.8141666666666666, -0.9149999999999999, -0.8174999999999999, -0.4866666666666668, 0.3333333333333333, 0.6458333333333331, 0.4474999999999998, 0.34249999999999986, 0.28916666666666657, -0.09333333333333334, -0.6875000000000001, -0.5291666666666667, -0.3558333333333333, -0.09666666666666664, -0.06583333333333356, 0.605, 0.64, 0.07166666666666661, -0.03583333333333331, 0.5141666666666667, 0.565, 0.4133333333333333, 0.8208333333333333, 1.0675, 0.5433333333333331, 0.3475000000000001, 0.04249999999999998, -0.8216666666666668, -1.3783333333333332, -1.415, -1.0125, -1.1616666666666668, -0.43250000000000005, 0.04416666666666669, -0.0525000000000001, 0.14583333333333318, 0.22416666666666676, -0.030833333333333324, -0.4416666666666668, -0.3916666666666668, -0.5408333333333332, -1.0875000000000001, -0.9, -0.7933333333333331, -0.8316666666666667, -0.6349999999999999, -0.27250000000000013, 0.16416666666666666, 0.6441666666666667, 0.8708333333333331, 1.0024999999999997, 0.5291666666666667, 0.2933333333333332, -0.40666666666666673, -0.9283333333333332, -0.9541666666666666, -1.365, -1.1925000000000001, -0.955, -0.8633333333333334, -0.5266666666666667, -0.09416666666666673, -0.4008333333333334, -0.13250000000000006, 0.004166666666666726, 0.5341666666666667, 0.4883333333333331, 0.8899999999999998, 1.1158333333333335, 1.0833333333333333, 0.6866666666666665, 0.5974999999999998, 0.39999999999999986, 0.5283333333333333, 0.6050000000000001, 0.41333333333333316, 1.0174999999999998, 1.0708333333333333, 0.8099999999999999, 0.3691666666666667, 0.5258333333333334, 0.014166666666666735, -0.4100000000000001, -0.3583333333333332, 0.022500000000000114, -0.24083333333333343, 0.34, 0.34833333333333344, 0.7283333333333332, 0.4791666666666667, 0.3583333333333334, 0.1141666666666666, 0.06999999999999999, 0.11583333333333319, -0.2258333333333334, -0.42250000000000004, 0.18333333333333335, -0.1158333333333333, -0.14250000000000015]\n",
            "{'F': 9, 'L': 7, 'E': 13, 'P': 6, 'W': 9, 'T': 6, 'S': 15, 'C': 8, 'M': 2, 'R': 3, 'D': 3, 'V': 9, 'K': 8, 'I': 7, 'G': 9, 'Q': 7, 'A': 7, 'N': 12, 'H': 3, 'Y': 4}\n",
            "{'F': 0.061224489795918366, 'L': 0.047619047619047616, 'E': 0.08843537414965986, 'P': 0.04081632653061224, 'W': 0.061224489795918366, 'T': 0.04081632653061224, 'S': 0.10204081632653061, 'C': 0.05442176870748299, 'A': 0.047619047619047616, 'R': 0.02040816326530612, 'V': 0.061224489795918366, 'K': 0.05442176870748299, 'D': 0.02040816326530612, 'G': 0.061224489795918366, 'I': 0.047619047619047616, 'M': 0.013605442176870748, 'Q': 0.047619047619047616, 'N': 0.08163265306122448, 'Y': 0.027210884353741496, 'H': 0.02040816326530612}\n",
            "16936.7963\n",
            "0.14965986394557823\n",
            "34.28707482993195\n",
            "[1.0084285714285717, 1.013059523809524, 1.0045833333333332, 1.016154761904762, 1.0460952380952382, 0.9893571428571429, 1.0309761904761905, 0.983845238095238, 0.9659642857142856, 0.9964761904761904, 0.9437142857142857, 0.9686071428571427, 0.9946547619047618, 0.9690833333333332, 1.0051785714285715, 0.9698333333333332, 1.039904761904762, 1.002154761904762, 0.9877976190476192, 1.0289880952380952, 1.0063928571428573, 0.9980952380952381, 0.9544523809523808, 0.9726071428571428, 0.9642261904761905, 0.9724285714285714, 1.0064166666666667, 1.007952380952381, 1.0368214285714286, 1.0367380952380951, 1.0415714285714286, 1.0052023809523811, 1.0200238095238094, 1.0501071428571431, 1.0401904761904763, 1.0272380952380953, 1.046357142857143, 1.0258928571428572, 1.0348214285714288, 0.9904880952380953, 1.006702380952381, 1.0272857142857144, 0.967297619047619, 1.0023214285714286, 0.9733571428571428, 0.9695952380952383, 0.9612380952380952, 0.9538214285714285, 0.954047619047619, 0.95725, 0.9965952380952381, 0.9830833333333333, 1.0284166666666668, 1.0059166666666666, 1.0509523809523809, 1.0186785714285715, 1.0174166666666669, 0.9780357142857143, 0.9903333333333332, 0.9806904761904762, 0.9983928571428571, 0.9893452380952381, 0.9806785714285715, 1.028452380952381, 1.0271785714285715, 1.01075, 0.9827738095238097, 1.0164642857142858, 0.9638690476190477, 0.9677142857142856, 0.9676190476190476, 0.9882142857142856, 0.9671309523809525, 1.0164166666666667, 1.0180357142857144, 1.0250595238095237, 1.0348095238095236, 1.0391190476190475, 1.0411309523809524, 1.0325714285714287, 1.020190476190476, 0.9772738095238096, 1.0171190476190477, 0.9658333333333334, 0.9918333333333332, 1.0215357142857142, 1.0113452380952381, 0.998952380952381, 1.0343809523809524, 1.0113333333333334, 1.0642738095238096, 1.0350119047619049, 1.0150119047619046, 0.9888690476190478, 1.0062857142857144, 0.9599761904761905, 0.958845238095238, 0.9663928571428573, 0.9638214285714287, 1.0023928571428573, 1.011845238095238, 1.0089761904761905, 1.0241309523809523, 1.0096190476190476, 1.0461428571428573, 1.0108095238095238, 1.0357619047619049, 1.0035595238095236, 0.9800952380952379, 1.0083571428571427, 0.9943214285714287, 0.9488214285714285, 0.9620595238095239, 0.9584285714285715, 0.966642857142857, 1.0170119047619048, 0.9803690476190476, 0.9901190476190477, 1.0049642857142855, 0.9741309523809524, 1.0198928571428572, 0.9658690476190476, 1.01125, 0.9870119047619047, 0.9581428571428573, 0.9810119047619048, 0.9757142857142856, 1.0215833333333333, 0.9771190476190477, 1.0038928571428574, 1.0082499999999999, 1.0157261904761905, 1.01025, 0.978059523809524, 0.990904761904762, 1.034154761904762, 0.977047619047619, 1.0187142857142857]\n",
            "5.15301513671875\n",
            "(0.30612244897959184, 0.2857142857142857, 0.19727891156462585)\n",
            "[0.6025, -0.12250000000000005, -0.4033333333333334, -0.5083333333333332, -0.5575, -0.6566666666666667, -0.3299999999999999, 0.062499999999999924, 0.38083333333333336, 0.4008333333333334, 0.7683333333333332, 0.5924999999999999, 0.6116666666666667, 0.10166666666666664, -0.06166666666666665, -0.13833333333333325, -0.44916666666666666, -0.6891666666666666, -0.5208333333333334, -0.29416666666666663, -0.24500000000000002, 0.049166666666666546, 0.6691666666666668, 0.8616666666666667, 0.7391666666666666, 0.6849999999999999, 0.4099999999999999, -0.22416666666666682, -0.5333333333333333, -0.8166666666666668, -1.1441666666666668, -1.5241666666666667, -1.2666666666666668, -1.4391666666666667, -1.5616666666666668, -1.8191666666666666, -1.64, -1.68, -1.6358333333333333, -1.1708333333333334, -0.5275, -0.09916666666666663, -0.07666666666666681, 0.41999999999999993, 0.8558333333333333, 1.0791666666666664, 1.2158333333333335, 1.5883333333333332, 1.5574999999999999, 1.2558333333333331, 0.9083333333333332, 0.3658333333333335, -0.46083333333333343, -1.2616666666666667, -1.45, -1.3816666666666666, -0.7133333333333334, -0.48249999999999993, -0.0650000000000001, 0.3033333333333334, 0.32083333333333314, -0.046666666666666856, -0.23416666666666672, -0.3766666666666665, -0.88, -1.136666666666667, -0.5516666666666667, 0.12250000000000005, 0.07999999999999989, 0.7466666666666666, 1.1791666666666667, 1.0716666666666665, 0.6433333333333333, 0.2883333333333333, -0.13666666666666674, -0.9416666666666668, -1.6308333333333334, -2.0574999999999997, -2.4083333333333337, -2.648333333333333, -2.535, -2.075833333333333, -1.8233333333333333, -1.8566666666666667, -1.4800000000000002, -1.2233333333333334, -1.2991666666666668, -1.5750000000000002, -1.6841666666666664, -2.025, -2.1075, -2.1541666666666663, -1.7225000000000001, -1.5033333333333332, -1.2650000000000001, -0.9025000000000002, -0.4408333333333334, -0.40666666666666673, -0.40250000000000014, -0.8133333333333334, -1.0141666666666669, -1.531666666666667, -1.4966666666666668, -1.6166666666666665, -2.0208333333333335, -1.6825, -1.169166666666667, -1.0408333333333333, -0.36500000000000005, 0.47833333333333333, 1.0283333333333333, 1.1833333333333331, 1.4216666666666666, 1.4033333333333335, 0.8574999999999999, 0.2658333333333333, -0.1708333333333333, -0.6425, -0.9525000000000001, -1.26, -1.4108333333333334, -0.9883333333333334, -0.6141666666666665, -0.2933333333333333, -0.16500000000000004, 0.2483333333333333, 0.13749999999999987, -0.3000000000000001, -0.8224999999999999, -1.165, -1.5475, -1.6333333333333335, -1.6358333333333335, -0.8783333333333334, -0.5975000000000001, -0.5150000000000002, -0.20749999999999993, -0.15333333333333332, -0.0866666666666666]\n",
            "{'F': 9, 'L': 23, 'E': 13, 'P': 14, 'W': 4, 'T': 19, 'S': 31, 'C': 6, 'M': 4, 'R': 10, 'D': 12, 'V': 17, 'K': 11, 'I': 5, 'G': 17, 'Q': 14, 'A': 11, 'N': 8, 'H': 3, 'Y': 10}\n",
            "{'F': 0.03734439834024896, 'L': 0.0954356846473029, 'E': 0.05394190871369295, 'P': 0.058091286307053944, 'W': 0.016597510373443983, 'T': 0.07883817427385892, 'S': 0.12863070539419086, 'C': 0.024896265560165973, 'A': 0.04564315352697095, 'R': 0.04149377593360996, 'V': 0.07053941908713693, 'K': 0.04564315352697095, 'D': 0.04979253112033195, 'G': 0.07053941908713693, 'I': 0.02074688796680498, 'M': 0.016597510373443983, 'Q': 0.058091286307053944, 'N': 0.03319502074688797, 'Y': 0.04149377593360996, 'H': 0.012448132780082987}\n",
            "26597.47510000002\n",
            "0.0954356846473029\n",
            "51.97390041493777\n",
            "[1.0280238095238095, 0.9672261904761906, 0.9755119047619049, 0.9565357142857144, 0.9505833333333336, 0.9380000000000001, 0.9300357142857143, 0.9350714285714287, 0.9391785714285715, 0.962607142857143, 0.9935119047619045, 0.9943452380952381, 0.9931785714285714, 1.011404761904762, 1.0183809523809524, 1.014404761904762, 0.97125, 0.9857976190476191, 0.9882023809523808, 0.9977857142857142, 1.0010833333333333, 1.0032738095238096, 1.008, 0.9858452380952382, 1.0195238095238095, 0.9711309523809526, 0.9885714285714287, 0.9642142857142859, 0.986095238095238, 0.9708571428571428, 1.0053214285714287, 0.9969642857142856, 0.9991428571428571, 0.9859880952380953, 0.9776309523809525, 0.9807380952380953, 1.0005, 0.9557738095238095, 1.0055833333333335, 1.008095238095238, 1.0114285714285716, 1.016738095238095, 1.0161309523809525, 0.9929404761904763, 1.0268690476190474, 0.9887976190476192, 1.0315, 1.0205000000000002, 1.0109404761904761, 1.0187619047619048, 1.0007261904761906, 0.9861547619047621, 0.9822976190476191, 0.9939523809523808, 0.9451071428571428, 0.9721547619047619, 1.0022380952380954, 0.9956071428571427, 1.0028333333333332, 1.0243571428571427, 1.025952380952381, 1.036095238095238, 1.0358214285714287, 1.0293214285714285, 1.011261904761905, 1.0031785714285715, 0.9800952380952381, 0.9793571428571427, 0.9770119047619048, 1.0123690476190477, 0.9613214285714284, 1.0224166666666665, 1.0165000000000002, 1.0195238095238095, 1.0398809523809522, 1.023654761904762, 1.0274761904761904, 1.0062261904761907, 1.0379523809523807, 1.0196190476190476, 1.0020952380952381, 0.9929880952380953, 1.0350119047619049, 1.01675, 1.0257857142857145, 1.022190476190476, 1.033154761904762, 1.0270119047619046, 1.015952380952381, 1.025059523809524, 0.9782738095238095, 1.0111904761904762, 0.9819761904761903, 1.0256785714285717, 0.9633928571428573, 1.019309523809524, 0.996904761904762, 0.9943452380952381, 1.047107142857143, 0.9986785714285714, 1.0454642857142857, 1.021047619047619, 0.9934285714285715, 1.0259047619047619, 0.9846071428571428, 0.9636428571428572, 0.9627738095238095, 0.954345238095238, 0.9720595238095239, 0.9847738095238096, 0.9736904761904761, 0.9761428571428571, 0.978452380952381, 0.9785119047619046, 1.0105238095238094, 0.9859761904761906, 0.9638690476190477, 0.9704523809523808, 1.0080238095238097, 0.9650595238095238, 1.0118095238095237, 1.0032738095238094, 1.009785714285714, 1.014690476190476, 1.0395714285714288, 0.9953095238095238, 1.0524166666666668, 0.9907738095238094, 1.0477976190476193, 0.9952261904761905, 1.0004880952380955, 0.987047619047619, 1.004357142857143, 0.995345238095238, 1.0020357142857141, 0.9868333333333335, 0.9569880952380952, 0.9680714285714286, 0.9692142857142856, 0.9675595238095237, 1.0048452380952382, 1.0003214285714284, 1.020904761904762, 1.0375119047619048, 1.0492857142857144, 1.038142857142857, 1.0238214285714287, 1.067904761904762, 1.0239761904761904, 1.0268095238095238, 1.0132142857142856, 1.006595238095238, 1.0093571428571428, 0.9589761904761905, 0.9629166666666668, 0.95, 0.9602857142857145, 0.9569047619047618, 0.9815357142857143, 0.9739523809523809, 0.9564642857142858, 0.9910952380952383, 1.0184047619047618, 1.0026547619047619, 1.0300952380952382, 0.9997380952380953, 1.0417142857142858, 0.9891547619047619, 1.028654761904762, 0.9810952380952381, 1.040202380952381, 0.9761666666666667, 1.0289166666666667, 1.0062380952380952, 0.9982500000000001, 1.0019047619047619, 1.0287380952380953, 1.0210357142857145, 1.0209523809523808, 1.034952380952381, 1.0405714285714285, 1.0412261904761904, 1.049642857142857, 1.0285714285714285, 1.0104880952380952, 1.0400595238095238, 1.049107142857143, 1.0291904761904762, 1.0513214285714287, 1.0492619047619047, 1.0696190476190477, 1.048095238095238, 1.0404880952380953, 1.0209880952380952, 1.0036428571428573, 1.029702380952381, 0.9824523809523811, 1.0186190476190478, 0.9993214285714286, 0.9877142857142858, 0.9833452380952381, 1.0056666666666667, 0.9863809523809524, 1.0236666666666667, 1.0196190476190476, 0.9971666666666666, 1.0434166666666667, 1.0032023809523811, 1.0645952380952381, 1.035107142857143, 0.99675, 1.0446190476190478, 0.9707738095238095, 0.9930357142857144, 0.9899880952380952, 0.9597619047619048, 1.0097857142857145, 0.9477619047619047, 0.9962142857142857, 0.9785476190476191, 1.0079166666666666, 0.9996190476190476, 0.9854404761904764, 1.0270476190476192, 1.010154761904762, 1.0170357142857145, 0.9951666666666668, 1.0246904761904763, 1.0370714285714286, 1.0077380952380952, 0.9905238095238096, 1.040309523809524]\n",
            "5.43768310546875\n",
            "(0.2821576763485477, 0.2904564315352697, 0.21161825726141079)\n",
            "[0.27999999999999997, 0.6791666666666666, 1.6208333333333333, 2.263333333333333, 2.830833333333333, 2.858333333333333, 3.2525, 2.8000000000000003, 2.0858333333333334, 1.4174999999999998, 0.805, 0.09999999999999987, -0.6466666666666667, -0.6975000000000001, -0.3174999999999998, -0.1691666666666667, 0.19333333333333336, 0.5658333333333333, 0.6166666666666666, 0.36666666666666653, 0.3116666666666667, 0.19916666666666671, 0.13999999999999993, 0.18749999999999992, 0.7208333333333332, 0.9983333333333335, 1.6974999999999998, 1.8216666666666665, 1.6524999999999999, 1.0474999999999999, 0.9508333333333333, 0.2908333333333335, 0.18333333333333343, -0.045000000000000116, 0.31583333333333335, -0.022500000000000003, 0.1083333333333331, 0.11333333333333324, -0.2083333333333334, -0.7441666666666666, -0.5941666666666666, -0.8633333333333334, -0.8291666666666667, -0.7766666666666667, -0.5300000000000001, -0.6208333333333335, -0.9283333333333333, -0.9791666666666666, -1.2474999999999998, -1.245, -1.3441666666666665, -1.1550000000000002, -0.7599999999999999, -0.5575000000000001, -0.849166666666667, -1.0008333333333335, -1.2308333333333334, -1.5533333333333335, -2.1625, -2.105, -2.0916666666666663, -2.4083333333333337, -2.485, -2.0333333333333337, -1.445833333333333, -1.2858333333333334, -1.17, -0.2841666666666667, -0.016666666666666607, -0.1608333333333335, -0.31333333333333346, -0.44916666666666655, -1.1608333333333334, -1.76, -1.5333333333333332, -1.3041666666666665, -1.4750000000000003, -1.446666666666667, -0.9316666666666665, -0.8424999999999999, -0.8208333333333334, -0.8608333333333332, -0.7058333333333334, -0.9291666666666667, -0.7591666666666668, -0.56, -0.5708333333333334, -0.6458333333333335, -0.6241666666666665, -0.33666666666666667, -0.42583333333333334, 0.0858333333333332, 0.22333333333333327, 0.0924999999999998, 0.2416666666666666, 0.27666666666666667, 0.0024999999999999467, -0.3241666666666667, -0.7183333333333333, -0.4808333333333333, -0.7174999999999999, -0.7408333333333332, -0.5125000000000001, -0.6166666666666664, -0.2841666666666666, -0.21750000000000003, -0.16249999999999995, -0.010833333333333436, -0.23249999999999993, -0.46666666666666673, -0.7200000000000001, -0.8600000000000002, -1.0525, -1.2075, -1.0275, -0.6875, -0.2641666666666667, 0.09833333333333327, 0.23583333333333326, 0.19166666666666646, 0.16416666666666666, -0.27416666666666667, -0.4625000000000001, -0.8450000000000001, -0.5616666666666666, -0.8608333333333333, -0.8991666666666668, -0.8675, -0.5683333333333334, -0.5466666666666665, -0.16916666666666677, -0.1666666666666666, 0.28333333333333327, 0.41583333333333333, 0.9325, 1.47, 1.8158333333333332, 1.7566666666666666, 1.6524999999999999, 1.4666666666666668, 1.0425, 0.31749999999999984, -0.6433333333333334, -0.9616666666666664, -1.6591666666666667, -1.8891666666666669, -1.6841666666666668, -1.3741666666666668, -1.1783333333333335, -0.8233333333333334, -0.20249999999999999, 0.45583333333333353, 0.7491666666666669, 1.5174999999999998, 2.1941666666666664, 2.2325, 1.975833333333333, 1.8050000000000004, 1.3941666666666668, 0.5124999999999998, -0.3225000000000002, -0.8525, -1.2483333333333333, -1.8191666666666666, -1.468333333333333, -1.388333333333333, -1.3975, -1.4783333333333335, -0.9416666666666669, -0.9424999999999999, -1.01, -1.075, -0.4841666666666666, -0.9300000000000002, -0.6825000000000001, -0.44916666666666655, -0.4200000000000001, -0.9233333333333333, -1.0258333333333334, -1.2633333333333334, -1.6966666666666665, -1.68, -1.4458333333333335, -1.4408333333333336, -1.385, -1.2574999999999998, -1.4475, -1.7366666666666666, -2.0091666666666668, -2.214166666666667, -2.4858333333333333, -2.4658333333333333, -2.1508333333333334, -1.461666666666667, -1.0316666666666667, -0.7866666666666667, -0.38083333333333336, 0.2333333333333333, 0.2525, 0.5699999999999998, 0.7233333333333332, 0.6316666666666665, 0.4208333333333334, 0.22333333333333324, -0.12500000000000008, -0.6366666666666667, -1.2725000000000002, -1.7666666666666668, -2.4175, -2.2741666666666664, -2.1083333333333334, -1.9083333333333332, -1.1908333333333332, -0.7949999999999998, -0.12416666666666672, 0.31916666666666677, 0.36166666666666675, 0.12833333333333327, -0.24583333333333343, -0.22583333333333322, -0.5441666666666668, -0.7066666666666667, -0.455, -0.24499999999999997, -0.13750000000000007, -0.13416666666666674, -0.049166666666666727, 0.11916666666666664, -0.4575, -0.8666666666666668, -0.94, -1.1766666666666665, -1.5225]\n",
            "{'F': 11, 'L': 20, 'E': 14, 'P': 17, 'W': 9, 'T': 19, 'S': 44, 'C': 6, 'M': 4, 'R': 5, 'D': 7, 'V': 23, 'K': 16, 'I': 11, 'G': 33, 'Q': 12, 'A': 17, 'N': 5, 'H': 6, 'Y': 9}\n",
            "{'F': 0.03819444444444445, 'L': 0.06944444444444445, 'E': 0.04861111111111111, 'P': 0.059027777777777776, 'W': 0.03125, 'T': 0.06597222222222222, 'S': 0.1527777777777778, 'C': 0.020833333333333332, 'A': 0.059027777777777776, 'R': 0.017361111111111112, 'V': 0.0798611111111111, 'K': 0.05555555555555555, 'D': 0.024305555555555556, 'G': 0.11458333333333333, 'I': 0.03819444444444445, 'M': 0.013888888888888888, 'Q': 0.041666666666666664, 'N': 0.017361111111111112, 'Y': 0.03125, 'H': 0.020833333333333332}\n",
            "30583.058200000007\n",
            "0.10069444444444445\n",
            "41.38888888888886\n",
            "[0.9948809523809524, 0.9394880952380953, 0.9552738095238096, 0.9430833333333334, 0.9431666666666667, 0.9379166666666666, 0.9543452380952382, 0.9475833333333334, 0.9678928571428571, 1.0059642857142859, 0.9704761904761904, 0.9668333333333334, 0.9831904761904763, 0.9724999999999999, 1.0153333333333334, 0.9471071428571429, 0.9969523809523811, 0.964916666666667, 0.9867619047619048, 1.0131428571428571, 1.0040952380952382, 1.0072023809523807, 1.007452380952381, 1.0476666666666667, 1.0059642857142859, 1.0703333333333336, 1.0487619047619048, 1.0452738095238094, 1.0492857142857144, 1.062309523809524, 1.0371547619047619, 1.0129880952380954, 1.049107142857143, 0.9775476190476191, 1.0261904761904763, 0.9761428571428571, 1.0230952380952383, 1.033452380952381, 1.0155, 1.0243571428571427, 1.0328690476190476, 1.010654761904762, 0.994297619047619, 1.0169285714285714, 0.9681785714285714, 0.9576666666666667, 0.948392857142857, 0.9487499999999999, 0.9553690476190477, 0.9316666666666668, 0.9553809523809523, 0.9780833333333332, 0.9857023809523808, 0.9809642857142858, 1.0269404761904763, 1.016690476190476, 1.043297619047619, 1.0146190476190475, 0.9997380952380953, 1.0403571428571428, 0.9638571428571429, 0.9918095238095238, 0.9849404761904762, 0.9484047619047619, 0.9625119047619047, 0.962297619047619, 0.9963928571428572, 0.9669166666666668, 1.0262142857142857, 1.0118214285714286, 1.031, 1.006345238095238, 1.0188928571428573, 1.0050357142857143, 1.030702380952381, 1.0099523809523807, 1.008595238095238, 0.986404761904762, 1.0296666666666667, 1.0078095238095237, 1.002607142857143, 0.9762380952380953, 1.001797619047619, 0.9802500000000001, 1.0203809523809524, 0.9976190476190476, 1.0308690476190474, 1.0336666666666667, 1.0200238095238094, 1.0042380952380952, 1.0356666666666667, 0.9939642857142856, 0.9897976190476191, 0.9676190476190476, 0.973845238095238, 0.9965119047619049, 0.9530833333333333, 1.0121071428571429, 0.9966309523809523, 0.9862380952380951, 1.0467380952380954, 1.0024880952380952, 1.0411190476190477, 1.0305833333333332, 1.0151309523809524, 0.9960119047619048, 0.9742380952380953, 0.9692976190476191, 0.9572142857142858, 0.9489642857142856, 0.9715833333333334, 0.9760000000000001, 0.9910714285714286, 0.9937857142857144, 1.0149523809523808, 1.00075, 1.0178333333333331, 0.9918214285714287, 1.016702380952381, 1.016654761904762, 0.972654761904762, 0.9656071428571429, 0.9738095238095238, 0.9608690476190476, 0.9603928571428572, 0.992452380952381, 0.9821666666666666, 0.9879642857142856, 0.9852976190476189, 0.9788928571428572, 0.9800476190476191, 0.9933333333333333, 0.9695595238095238, 1.0093928571428572, 0.998595238095238, 0.9999285714285714, 1.032202380952381, 1.0195714285714286, 1.0564166666666668, 1.0229523809523808, 1.031095238095238, 1.021797619047619, 0.9866785714285714, 0.9907023809523811, 1.010535714285714, 0.9667261904761902, 1.0002380952380951, 1.016488095238095, 1.0218690476190477, 1.034309523809524, 1.051154761904762, 1.03675, 1.0359285714285715, 1.047297619047619, 1.0290833333333333, 1.0237023809523809, 1.0048452380952382, 1.0008095238095238, 0.9928452380952381, 0.9715476190476192, 0.9876547619047619, 0.9454761904761905, 0.976047619047619, 0.9735714285714285, 1.0115833333333333, 0.9855000000000002, 0.971607142857143, 1.0004761904761905, 1.0312261904761904, 1.0213095238095238, 0.999952380952381, 0.9821785714285715, 1.0088214285714285, 0.9812619047619048, 1.0105238095238096, 0.9634285714285714, 1.0192380952380955, 0.9998690476190478, 0.9997857142857143, 0.9957023809523811, 0.9922142857142857, 1.0110714285714284, 1.00425, 0.9901190476190477, 0.9665119047619047, 0.9845595238095238, 0.9888690476190476, 0.9606904761904763, 0.9954761904761905, 0.9616428571428572, 0.9685476190476191, 0.9841190476190476, 1.0110119047619048, 1.0035714285714286, 1.00225, 1.0020595238095236, 0.9824285714285714, 0.9936071428571429, 1.0138214285714287, 0.9696309523809525, 1.007047619047619, 0.9881785714285715, 0.9642619047619048, 0.9817738095238097, 0.9925595238095238, 0.9751666666666667, 1.0161785714285716, 1.0020238095238096, 1.01325, 1.017642857142857, 0.9961547619047618, 1.0320476190476189, 1.0011785714285715, 1.0061071428571426, 0.979952380952381, 0.9661071428571427, 0.9694880952380954, 0.961392857142857, 0.9917380952380952, 0.9532857142857144, 1.0082261904761904, 0.9848809523809524, 1.0459047619047621, 1.0207619047619048, 1.0367500000000003, 1.0392738095238097, 1.0276666666666667, 1.0593690476190478, 1.0045714285714287, 1.0546190476190476, 1.0383928571428573, 1.0153809523809525, 1.019297619047619, 1.0647380952380954, 1.0304285714285715, 1.047952380952381, 1.0286190476190475, 1.0125, 1.0694642857142858, 1.0477619047619047, 1.0288690476190476, 1.0368690476190476, 1.0279642857142857, 1.0042380952380952, 1.0337380952380952, 0.9627738095238095, 0.9835833333333335, 0.9765476190476191, 1.0039166666666666, 0.9904285714285714, 1.000857142857143, 0.9833452380952381, 1.0205833333333334, 1.0082857142857145, 0.9871190476190476, 0.9782261904761904, 1.0182619047619048, 0.9761547619047619, 1.0152619047619045, 1.0043214285714286, 0.9927142857142858, 1.0582380952380954, 1.0359166666666668, 1.0290119047619046, 1.0413571428571426, 1.0409642857142856, 1.045095238095238, 1.035095238095238, 1.0345714285714283, 1.0345714285714285, 1.0374285714285714, 1.0324285714285713, 1.0285238095238096, 1.024702380952381, 1.0197023809523809, 0.9837619047619047, 1.0306428571428572, 0.9822857142857143, 1.0197142857142858]\n",
            "6.99298095703125\n",
            "(0.2881944444444444, 0.34375, 0.1909722222222222)\n",
            "[1.0625, 1.2541666666666667, 1.88, 2.1458333333333335, 2.6300000000000003, 2.855, 2.785, 2.608333333333333, 2.4033333333333333, 1.7483333333333337, 1.2316666666666667, 0.6308333333333332, 0.6808333333333335, 0.045000000000000075, 0.10999999999999988, 0.5708333333333334, 0.5816666666666667, 0.27333333333333326, 0.5599999999999999, 0.4758333333333334, 0.1858333333333332, 0.08833333333333326, 0.021666666666666907, -0.5141666666666667, -1.0058333333333334, -0.8566666666666666, -1.3341666666666665, -1.5608333333333333, -1.4074999999999998, -1.3266666666666669, -1.1716666666666666, -0.64, 0.0341666666666666, -0.07916666666666668, -0.1333333333333333, -0.20083333333333353, -0.4216666666666666, -1.1958333333333333, -1.23, -1.3208333333333333, -1.2616666666666667, -1.1533333333333335, -0.6775000000000001, -0.32666666666666666, 0.02166666666666665, 0.3458333333333332, 0.5641666666666668, 0.9608333333333331, 0.7641666666666667, 0.5499999999999998, 0.3366666666666665, 0.15666666666666673, -0.24250000000000008, -0.9075000000000001, -1.0366666666666664, -0.8333333333333334, -1.1766666666666667, -0.9466666666666668, -0.5116666666666666, -0.4750000000000001, -0.1183333333333334, 0.4358333333333333, 0.8966666666666665, 0.9666666666666665, 1.2383333333333333, 1.2633333333333334, 0.9599999999999999, 0.3825, 0.12750000000000003, -0.5841666666666666, -1.0658333333333334, -1.1524999999999999, -1.1575, -1.4083333333333334, -0.9583333333333334, -0.9933333333333333, -0.7766666666666667, -0.9008333333333334, -0.5766666666666667, -0.6066666666666666, -0.18583333333333343, 0.027500000000000153, 0.4958333333333333, 0.27583333333333326, 0.30916666666666665, 0.010000000000000045, 0.20333333333333334, -0.5225, -0.665, -0.6974999999999999, -0.5183333333333334, -0.38500000000000006, -0.20249999999999999, 0.029999999999999954, -0.07000000000000002, -0.3658333333333335, -0.11916666666666664, -0.3200000000000001, -0.31500000000000006, -0.22416666666666674, -0.5383333333333334, -0.5508333333333334, -0.41083333333333344, -0.16249999999999995, -0.1683333333333333, -0.2433333333333334, 0.3583333333333334, 0.5508333333333333, 0.2966666666666665, 0.36083333333333334, 0.26000000000000006, -0.11833333333333329, -0.6675000000000001, -0.635, -0.3449999999999999, -0.6691666666666668, -0.9075000000000002, -0.5375000000000002, -0.31916666666666665, -0.6183333333333334, -0.27250000000000013, -0.023333333333333317, 0.11666666666666654, -0.28500000000000014, 0.033333333333333215, -0.057499999999999905, -0.2558333333333334, -0.23000000000000007, 0.06916666666666658, 0.29666666666666675, 0.6683333333333333, 0.8816666666666667, 1.1575, 1.1233333333333333, 0.8683333333333333, 0.2966666666666667, -0.14749999999999994, -0.4625000000000001, -0.9458333333333334, -0.7675, -0.40249999999999986, -0.3691666666666667, 0.21749999999999992, 0.7816666666666666, 1.0699999999999998, 0.9883333333333333, 1.0066666666666666, 0.535, -0.1458333333333335, -0.5966666666666667, -0.7783333333333333, -1.1783333333333335, -1.215, -1.055, -0.7841666666666667, -0.4483333333333333, 0.19500000000000006, 0.4466666666666666, 0.8925, 1.3841666666666665, 1.870833333333333, 1.7225000000000001, 1.5258333333333332, 1.1416666666666666, 0.8533333333333334, 0.0933333333333332, -0.36833333333333346, -0.7466666666666666, -0.705, -0.9466666666666667, -0.35666666666666685, 0.06583333333333341, 0.3625, 0.04999999999999986, 0.11833333333333333, 0.022500000000000075, -0.06333333333333326, -0.20749999999999988, -0.07250000000000005, -0.1433333333333334, 0.12583333333333335, 0.5858333333333333, 0.5533333333333332, 0.4424999999999999, 0.5508333333333334, 0.35416666666666674, 0.09583333333333321, 0.48500000000000004, 0.9741666666666667, 0.8949999999999999, 0.7866666666666663, 0.9816666666666668, 0.7891666666666666, 0.5133333333333332, 0.4208333333333334, 0.18749999999999997, 0.22583333333333333, 0.1941666666666666, 0.35166666666666657, 0.6875, 1.1483333333333332, 1.1608333333333334, 1.3374999999999997, 1.58, 1.5724999999999998, 1.1233333333333333, 0.9758333333333334, 0.8850000000000001, 0.46083333333333326, 0.1516666666666667, -0.01250000000000003, -0.25916666666666677, -0.4066666666666667, -0.25333333333333335, -0.10583333333333338, -0.14083333333333334, 0.07333333333333321, 0.21416666666666676, 0.0649999999999998, -0.23666666666666666, -0.5116666666666666, -0.9758333333333334, -1.7391666666666667, -2.0475, -2.0791666666666666, -1.9966666666666668, -1.8566666666666667, -1.7558333333333334, -1.8083333333333336, -1.3916666666666668, -1.6666666666666667, -1.635, -1.8058333333333332, -1.5266666666666666, -1.6925000000000001, -1.595, -1.6025, -1.3783333333333332, -1.6091666666666669, -1.5325, -1.1775, -0.9633333333333334, -0.5100000000000001, -0.09583333333333331, 0.6791666666666666, 0.8433333333333332, 1.075, 0.9866666666666667, 0.9916666666666666, 0.48666666666666664, 0.5191666666666667, 0.3166666666666668, 0.18083333333333326, -0.024166666666666763, -0.05666666666666683, -0.23916666666666672, -0.6383333333333333, -0.9249999999999999, -1.2516666666666667, -1.5258333333333336, -1.7125000000000001, -1.5766666666666669, -1.6175, -1.4400000000000002, -1.2074999999999998, -0.9258333333333334, -0.9841666666666669, -0.7266666666666667, -0.49333333333333335, -0.49333333333333335, -0.49333333333333335, -0.52, -0.5266666666666667, -0.5658333333333334, -0.775, -0.9474999999999999, -1.24, -1.1916666666666667, -1.4633333333333336, -1.6991666666666667]\n"
          ],
          "name": "stdout"
        }
      ]
    },
    {
      "cell_type": "markdown",
      "metadata": {
        "id": "KPoDUC1zqp6g",
        "colab_type": "text"
      },
      "source": [
        "**Listing 9.16:** phd1.py: Extract data from a .phd.1 file"
      ]
    },
    {
      "cell_type": "code",
      "metadata": {
        "id": "cDiIvuHNqp6h",
        "colab_type": "code",
        "outputId": "5f100add-8479-4602-9fc5-e64a216942d0",
        "colab": {}
      },
      "source": [
        "import pprint\n",
        "from Bio.Sequencing import Phd\n",
        "fn = 'samples/phd1'\n",
        "with open(fn) as fh:\n",
        "    rp = Phd.read(fh)\n",
        "# All the comments are in a dictionary\n",
        "pprint.pprint(rp.comments)\n",
        "# Sequence information\n",
        "print('Sequence: %s' % rp.seq)\n",
        "# Quality information for each base\n",
        "print('Quality: %s' % rp.sites)"
      ],
      "execution_count": 0,
      "outputs": [
        {
          "output_type": "stream",
          "text": [
            "{'abi_thumbprint': 0,\n",
            " 'call_method': 'phred',\n",
            " 'chem': 'term',\n",
            " 'chromat_file': '34_222_(80-A03-19).b.ab1',\n",
            " 'dye': 'big',\n",
            " 'phred_version': '0.020425.c',\n",
            " 'quality_levels': 99,\n",
            " 'time': 'Fri Feb 13 09:16:11 2004',\n",
            " 'trace_array_max_index': 10867,\n",
            " 'trace_array_min_index': 0,\n",
            " 'trace_peak_area_ratio': 0.1467,\n",
            " 'trim': (3, 391, 0.05)}\n",
            "Sequence: ctccgtcggaacatcatcggatcctatcacagagtttttgaacgagttctcgatgatttctcttgaggaaacagtcccatcatcggtgccaacagcaaccaaagtgttcgttaacgggcaatgggttggtattcacaagaacccggcggatctcgttgacactcttcgaagcttgcgtcgaacgactgatgttactccggaactgtcagttgtgcgtgatgtgtctgacaaggaattgcgcttgtacacggatggcggtcgtatagcccgaccactcttcgtcgttaacgaggagcagcgactcgcacttaagcgcgatatgttggagcggctcaatcctgacccggaaactggagagcgcatctcttactggaatgatcttatttcggagggtatgggttgagtacctggacactgaggaagacgtaactgtcctgatcgccttggtcgccgtcctattatagcgctttccagtaaggcggtgaacaccgttgactactctggctcacgtaacttatcttcacattccatattttctgtccactactgccttacaaccctgatgtctgcgctcgtgcgtgcagattgccctccagaaattcgtctttgtcgttcgtagttaggtggtttgtacattccctcatctttaatacatatacttctgtacgccctcctcatccggtcgcgctttatttaattttggtgtgtctttctctcataattccctcttcgtctttgctcaaccttgtgttaaattttttttttttctagatatctagttcgaatagcttgtgttttgtgaatattctttgttagtggtttcctgccgtccttttcgccgtcctctcctctccctccctccgactccaaagcgtg\n",
            "Quality: [('c', '9', '6'), ('t', '9', '18'), ('c', '10', '26'), ('c', '19', '38'), ('g', '22', '49'), ('t', '37', '65'), ('c', '28', '76'), ('g', '28', '87'), ('g', '24', '100'), ('a', '22', '108'), ('a', '15', '119'), ('c', '12', '135'), ('a', '10', '139'), ('t', '10', '156'), ('c', '24', '167'), ('a', '24', '174'), ('t', '35', '190'), ('c', '37', '201'), ('g', '50', '213'), ('g', '57', '227'), ('a', '57', '239'), ('t', '57', '252'), ('c', '57', '263'), ('c', '57', '274'), ('t', '57', '287'), ('a', '57', '297'), ('t', '57', '310'), ('c', '57', '320'), ('a', '57', '330'), ('c', '48', '341'), ('a', '48', '351'), ('g', '42', '363'), ('a', '42', '377'), ('g', '48', '388'), ('t', '57', '403'), ('t', '57', '415'), ('t', '57', '427'), ('t', '59', '439'), ('t', '59', '451'), ('g', '68', '463'), ('a', '57', '474'), ('a', '57', '486'), ('c', '57', '496'), ('g', '54', '509'), ('a', '54', '521'), ('g', '57', '532'), ('t', '57', '546'), ('t', '54', '558'), ('c', '54', '569'), ('t', '57', '582'), ('c', '54', '592'), ('g', '54', '605'), ('a', '57', '618'), ('t', '59', '630'), ('g', '59', '641'), ('a', '68', '654'), ('t', '68', '665'), ('t', '68', '678'), ('t', '68', '690'), ('c', '68', '701'), ('t', '59', '714'), ('c', '59', '725'), ('t', '59', '738'), ('t', '57', '751'), ('g', '57', '762'), ('a', '54', '775'), ('g', '54', '785'), ('g', '54', '799'), ('a', '57', '812'), ('a', '57', '823'), ('a', '57', '834'), ('c', '57', '844'), ('a', '57', '855'), ('g', '57', '867'), ('t', '57', '881'), ('c', '57', '892'), ('c', '57', '904'), ('c', '57', '916'), ('a', '57', '926'), ('t', '57', '940'), ('c', '57', '951'), ('a', '57', '963'), ('t', '54', '975'), ('c', '54', '987'), ('g', '54', '999'), ('g', '54', '1013'), ('t', '57', '1027'), ('g', '57', '1038'), ('c', '57', '1050'), ('c', '43', '1062'), ('a', '43', '1073'), ('a', '43', '1083'), ('c', '46', '1096'), ('a', '44', '1107'), ('g', '43', '1119'), ('c', '43', '1132'), ('a', '43', '1144'), ('a', '43', '1155'), ('c', '43', '1167'), ('c', '43', '1179'), ('a', '43', '1190'), ('a', '52', '1202'), ('a', '52', '1214'), ('g', '52', '1226'), ('t', '57', '1240'), ('g', '57', '1251'), ('t', '57', '1265'), ('t', '52', '1277'), ('c', '52', '1289'), ('g', '52', '1301'), ('t', '50', '1315'), ('t', '50', '1327'), ('a', '37', '1339'), ('a', '37', '1349'), ('c', '35', '1361'), ('g', '43', '1373'), ('g', '43', '1386'), ('g', '43', '1399'), ('c', '43', '1412'), ('a', '52', '1424'), ('a', '52', '1435'), ('t', '52', '1448'), ('g', '57', '1459'), ('g', '52', '1472'), ('g', '54', '1485'), ('t', '54', '1499'), ('t', '57', '1512'), ('g', '57', '1523'), ('g', '57', '1536'), ('t', '54', '1549'), ('a', '57', '1560'), ('t', '57', '1572'), ('t', '57', '1584'), ('c', '48', '1596'), ('a', '48', '1607'), ('c', '50', '1618'), ('a', '50', '1629'), ('a', '50', '1641'), ('g', '50', '1654'), ('a', '43', '1667'), ('a', '50', '1679'), ('c', '37', '1690'), ('c', '43', '1702'), ('c', '32', '1715'), ('g', '36', '1727'), ('g', '28', '1740'), ('c', '37', '1754'), ('g', '37', '1764'), ('g', '46', '1778'), ('a', '57', '1792'), ('t', '57', '1803'), ('c', '57', '1815'), ('t', '57', '1827'), ('c', '48', '1839'), ('g', '48', '1851'), ('t', '48', '1864'), ('t', '48', '1877'), ('g', '47', '1889'), ('a', '47', '1902'), ('c', '43', '1913'), ('a', '47', '1925'), ('c', '47', '1935'), ('t', '57', '1948'), ('c', '57', '1960'), ('t', '47', '1973'), ('t', '57', '1986'), ('c', '43', '1998'), ('g', '43', '2009'), ('a', '43', '2022'), ('a', '43', '2034'), ('g', '59', '2045'), ('c', '59', '2057'), ('t', '68', '2070'), ('t', '59', '2083'), ('g', '59', '2094'), ('c', '43', '2106'), ('g', '43', '2119'), ('t', '43', '2132'), ('c', '43', '2144'), ('g', '43', '2156'), ('a', '37', '2169'), ('a', '43', '2181'), ('c', '43', '2191'), ('g', '43', '2204'), ('a', '43', '2217'), ('c', '48', '2227'), ('t', '48', '2241'), ('g', '54', '2252'), ('a', '54', '2266'), ('t', '46', '2277'), ('g', '46', '2289'), ('t', '43', '2303'), ('t', '43', '2315'), ('a', '43', '2327'), ('c', '43', '2337'), ('t', '42', '2350'), ('c', '42', '2361'), ('c', '32', '2374'), ('g', '32', '2386'), ('g', '32', '2399'), ('a', '42', '2414'), ('a', '40', '2426'), ('c', '40', '2436'), ('t', '43', '2448'), ('g', '43', '2460'), ('t', '43', '2472'), ('c', '43', '2485'), ('a', '43', '2498'), ('g', '48', '2509'), ('t', '43', '2521'), ('t', '43', '2533'), ('g', '43', '2545'), ('t', '39', '2558'), ('g', '39', '2570'), ('c', '43', '2582'), ('g', '37', '2595'), ('t', '37', '2609'), ('g', '33', '2619'), ('a', '30', '2634'), ('t', '28', '2644'), ('g', '28', '2656'), ('t', '28', '2669'), ('g', '18', '2680'), ('t', '13', '2693'), ('c', '10', '2705'), ('t', '10', '2714'), ('g', '10', '2731'), ('a', '15', '2745'), ('c', '17', '2754'), ('a', '36', '2767'), ('a', '30', '2779'), ('g', '33', '2788'), ('g', '33', '2801'), ('a', '33', '2816'), ('a', '30', '2828'), ('t', '30', '2838'), ('t', '37', '2850'), ('g', '37', '2862'), ('c', '36', '2874'), ('g', '32', '2887'), ('c', '32', '2898'), ('t', '28', '2912'), ('t', '28', '2924'), ('g', '28', '2935'), ('t', '22', '2950'), ('a', '18', '2961'), ('c', '15', '2971'), ('a', '19', '2984'), ('c', '16', '2992'), ('g', '14', '3006'), ('g', '14', '3018'), ('a', '24', '3033'), ('t', '24', '3045'), ('g', '29', '3055'), ('g', '23', '3069'), ('c', '22', '3080'), ('g', '22', '3093'), ('g', '13', '3106'), ('t', '13', '3116'), ('c', '12', '3130'), ('g', '19', '3142'), ('t', '16', '3154'), ('a', '22', '3168'), ('t', '24', '3177'), ('a', '24', '3190'), ('g', '28', '3201'), ('c', '30', '3213'), ('c', '39', '3226'), ('c', '37', '3238'), ('g', '43', '3250'), ('a', '39', '3263'), ('c', '39', '3273'), ('c', '37', '3285'), ('a', '32', '3297'), ('c', '42', '3306'), ('t', '42', '3319'), ('c', '42', '3333'), ('t', '32', '3345'), ('t', '30', '3357'), ('c', '17', '3368'), ('g', '17', '3381'), ('t', '17', '3394'), ('c', '30', '3405'), ('g', '24', '3417'), ('t', '30', '3430'), ('t', '24', '3442'), ('a', '30', '3453'), ('a', '20', '3464'), ('c', '18', '3475'), ('g', '17', '3488'), ('a', '17', '3499'), ('g', '17', '3509'), ('g', '17', '3523'), ('a', '26', '3537'), ('g', '24', '3548'), ('c', '34', '3560'), ('a', '30', '3571'), ('g', '24', '3582'), ('c', '26', '3594'), ('g', '15', '3607'), ('a', '15', '3620'), ('c', '16', '3629'), ('t', '19', '3643'), ('c', '12', '3653'), ('g', '12', '3665'), ('c', '10', '3679'), ('a', '10', '3690'), ('c', '13', '3699'), ('t', '19', '3715'), ('t', '10', '3727'), ('a', '11', '3738'), ('a', '13', '3750'), ('g', '15', '3760'), ('c', '15', '3772'), ('g', '19', '3785'), ('c', '12', '3797'), ('g', '15', '3810'), ('a', '15', '3824'), ('t', '21', '3833'), ('a', '17', '3846'), ('t', '23', '3855'), ('g', '12', '3869'), ('t', '12', '3881'), ('t', '12', '3892'), ('g', '24', '3906'), ('g', '25', '3919'), ('a', '31', '3932'), ('g', '31', '3943'), ('c', '32', '3955'), ('g', '31', '3968'), ('g', '21', '3981'), ('c', '20', '3992'), ('t', '9', '4005'), ('c', '7', '4018'), ('a', '7', '4028'), ('a', '10', '4044'), ('t', '8', '4050'), ('c', '10', '4063'), ('c', '8', '4076'), ('t', '10', '4088'), ('g', '10', '4101'), ('a', '10', '4116'), ('c', '14', '4124'), ('c', '14', '4138'), ('c', '16', '4149'), ('g', '20', '4162'), ('g', '19', '4176'), ('a', '18', '4189'), ('a', '18', '4202'), ('a', '18', '4213'), ('c', '18', '4224'), ('t', '22', '4235'), ('g', '22', '4247'), ('g', '24', '4261'), ('a', '23', '4275'), ('g', '22', '4285'), ('a', '22', '4300'), ('g', '23', '4310'), ('c', '23', '4322'), ('g', '23', '4336'), ('c', '23', '4346'), ('a', '26', '4360'), ('t', '14', '4371'), ('c', '9', '4383'), ('t', '9', '4396'), ('c', '12', '4405'), ('t', '10', '4424'), ('t', '12', '4436'), ('a', '10', '4449'), ('c', '21', '4458'), ('t', '17', '4468'), ('g', '19', '4482'), ('g', '20', '4496'), ('a', '20', '4510'), ('a', '20', '4523'), ('t', '10', '4534'), ('g', '18', '4546'), ('a', '19', '4562'), ('t', '22', '4569'), ('c', '22', '4583'), ('t', '22', '4596'), ('t', '24', '4610'), ('a', '20', '4625'), ('t', '19', '4633'), ('t', '15', '4645'), ('t', '14', '4656'), ('c', '16', '4670'), ('g', '11', '4684'), ('g', '12', '4697'), ('a', '13', '4713'), ('g', '19', '4721'), ('g', '16', '4734'), ('g', '10', '4746'), ('t', '10', '4762'), ('a', '10', '4775'), ('t', '10', '4784'), ('g', '18', '4797'), ('g', '11', '4810'), ('g', '15', '4823'), ('t', '16', '4832'), ('t', '24', '4841'), ('g', '21', '4851'), ('a', '21', '4865'), ('g', '14', '4877'), ('t', '14', '4891'), ('a', '12', '4900'), ('c', '12', '4911'), ('c', '12', '4925'), ('t', '13', '4938'), ('g', '13', '4951'), ('g', '13', '4964'), ('a', '11', '4979'), ('c', '18', '4991'), ('a', '15', '5005'), ('c', '10', '5014'), ('t', '10', '5027'), ('g', '10', '5040'), ('a', '10', '5058'), ('g', '10', '5067'), ('g', '8', '5082'), ('a', '11', '5096'), ('a', '10', '5110'), ('g', '10', '5117'), ('a', '8', '5134'), ('c', '8', '5144'), ('g', '8', '5158'), ('t', '6', '5171'), ('a', '6', '5174'), ('a', '8', '5186'), ('c', '8', '5206'), ('t', '15', '5220'), ('g', '10', '5234'), ('t', '12', '5245'), ('c', '11', '5259'), ('c', '11', '5273'), ('t', '9', '5286'), ('g', '10', '5300'), ('a', '10', '5316'), ('t', '8', '5323'), ('c', '8', '5343'), ('g', '8', '5352'), ('c', '8', '5366'), ('c', '8', '5378'), ('t', '8', '5384'), ('t', '8', '5403'), ('g', '11', '5416'), ('g', '6', '5430'), ('t', '7', '5432'), ('c', '8', '5453'), ('g', '8', '5472'), ('c', '8', '5480'), ('c', '8', '5493'), ('g', '9', '5509'), ('t', '9', '5525'), ('c', '10', '5534'), ('c', '10', '5546'), ('t', '8', '5558'), ('a', '8', '5566'), ('t', '10', '5577'), ('t', '8', '5598'), ('a', '8', '5615'), ('t', '8', '5620'), ('a', '11', '5638'), ('g', '11', '5652'), ('c', '10', '5666'), ('g', '12', '5678'), ('c', '11', '5690'), ('t', '11', '5700'), ('t', '10', '5714'), ('t', '10', '5731'), ('c', '8', '5743'), ('c', '10', '5752'), ('a', '10', '5769'), ('g', '8', '5776'), ('t', '8', '5789'), ('a', '9', '5803'), ('a', '11', '5816'), ('g', '10', '5826'), ('g', '10', '5839'), ('c', '10', '5850'), ('g', '10', '5868'), ('g', '8', '5881'), ('t', '8', '5888'), ('g', '8', '5906'), ('a', '8', '5925'), ('a', '18', '5936'), ('c', '18', '5947'), ('a', '28', '5962'), ('c', '19', '5973'), ('c', '12', '5986'), ('g', '10', '5996'), ('t', '10', '6004'), ('t', '8', '6023'), ('g', '8', '6027'), ('a', '8', '6045'), ('c', '8', '6058'), ('t', '8', '6076'), ('a', '8', '6085'), ('c', '8', '6095'), ('t', '6', '6118'), ('c', '6', '6121'), ('t', '8', '6136'), ('g', '8', '6151'), ('g', '8', '6166'), ('c', '8', '6171'), ('t', '8', '6179'), ('c', '8', '6197'), ('a', '8', '6208'), ('c', '8', '6226'), ('g', '6', '6233'), ('t', '6', '6235'), ('a', '8', '6256'), ('a', '8', '6266'), ('c', '9', '6276'), ('t', '8', '6298'), ('t', '8', '6317'), ('a', '6', '6329'), ('t', '6', '6333'), ('c', '6', '6340'), ('t', '8', '6353'), ('t', '10', '6372'), ('c', '15', '6386'), ('a', '8', '6399'), ('c', '8', '6412'), ('a', '8', '6426'), ('t', '8', '6433'), ('t', '10', '6451'), ('c', '10', '6460'), ('c', '13', '6472'), ('a', '16', '6487'), ('t', '16', '6497'), ('a', '11', '6512'), ('t', '13', '6521'), ('t', '11', '6536'), ('t', '10', '6549'), ('t', '6', '6563'), ('c', '6', '6577'), ('t', '6', '6580'), ('g', '8', '6596'), ('t', '8', '6605'), ('c', '14', '6613'), ('c', '9', '6624'), ('a', '9', '6641'), ('c', '11', '6658'), ('t', '10', '6676'), ('a', '10', '6687'), ('c', '10', '6703'), ('t', '10', '6713'), ('g', '8', '6730'), ('c', '8', '6739'), ('c', '8', '6752'), ('t', '10', '6759'), ('t', '10', '6773'), ('a', '11', '6786'), ('c', '8', '6797'), ('a', '8', '6810'), ('a', '8', '6828'), ('c', '8', '6835'), ('c', '8', '6841'), ('c', '8', '6854'), ('t', '8', '6864'), ('g', '8', '6879'), ('a', '8', '6887'), ('t', '8', '6906'), ('g', '8', '6915'), ('t', '8', '6923'), ('c', '10', '6931'), ('t', '8', '6943'), ('g', '8', '6950'), ('c', '8', '6969'), ('g', '8', '6977'), ('c', '8', '6994'), ('t', '9', '7007'), ('c', '10', '7024'), ('g', '10', '7033'), ('t', '10', '7043'), ('g', '10', '7059'), ('c', '11', '7069'), ('g', '11', '7083'), ('t', '13', '7098'), ('g', '8', '7108'), ('c', '8', '7124'), ('a', '6', '7136'), ('g', '6', '7139'), ('a', '7', '7160'), ('t', '6', '7163'), ('t', '8', '7181'), ('g', '8', '7199'), ('c', '8', '7206'), ('c', '8', '7226'), ('c', '7', '7239'), ('t', '6', '7242'), ('c', '8', '7255'), ('c', '8', '7269'), ('a', '10', '7287'), ('g', '10', '7298'), ('a', '10', '7317'), ('a', '11', '7331'), ('a', '8', '7344'), ('t', '10', '7358'), ('t', '10', '7372'), ('c', '9', '7380'), ('g', '9', '7397'), ('t', '9', '7407'), ('c', '10', '7420'), ('t', '12', '7429'), ('t', '11', '7443'), ('t', '10', '7457'), ('g', '8', '7464'), ('t', '8', '7470'), ('c', '8', '7486'), ('g', '8', '7503'), ('t', '8', '7520'), ('t', '8', '7536'), ('c', '8', '7543'), ('g', '8', '7562'), ('t', '8', '7578'), ('a', '8', '7586'), ('g', '10', '7596'), ('t', '13', '7610'), ('t', '12', '7625'), ('a', '11', '7639'), ('g', '8', '7653'), ('g', '8', '7664'), ('t', '6', '7682'), ('g', '6', '7686'), ('g', '8', '7704'), ('t', '8', '7713'), ('t', '12', '7729'), ('t', '8', '7739'), ('g', '8', '7746'), ('t', '8', '7756'), ('a', '8', '7777'), ('c', '8', '7790'), ('a', '8', '7806'), ('t', '10', '7814'), ('t', '10', '7826'), ('c', '10', '7835'), ('c', '10', '7845'), ('c', '10', '7858'), ('t', '8', '7876'), ('c', '8', '7881'), ('a', '8', '7902'), ('t', '8', '7912'), ('c', '8', '7936'), ('t', '8', '7945'), ('t', '8', '7958'), ('t', '6', '7974'), ('a', '6', '7977'), ('a', '8', '7994'), ('t', '8', '8007'), ('a', '6', '8018'), ('c', '6', '8020'), ('a', '8', '8039'), ('t', '10', '8058'), ('a', '8', '8066'), ('t', '8', '8078'), ('a', '8', '8091'), ('c', '8', '8107'), ('t', '8', '8113'), ('t', '8', '8136'), ('c', '8', '8147'), ('t', '6', '8164'), ('g', '8', '8177'), ('t', '8', '8182'), ('a', '8', '8193'), ('c', '6', '8213'), ('g', '6', '8226'), ('c', '6', '8232'), ('c', '8', '8246'), ('c', '8', '8256'), ('t', '8', '8278'), ('c', '8', '8283'), ('c', '8', '8297'), ('t', '8', '8313'), ('c', '8', '8328'), ('a', '10', '8334'), ('t', '8', '8352'), ('c', '8', '8361'), ('c', '8', '8377'), ('g', '10', '8384'), ('g', '10', '8396'), ('t', '8', '8410'), ('c', '9', '8420'), ('g', '8', '8441'), ('c', '8', '8451'), ('g', '8', '8465'), ('c', '8', '8471'), ('t', '8', '8484'), ('t', '8', '8500'), ('t', '8', '8517'), ('a', '8', '8532'), ('t', '10', '8539'), ('t', '8', '8549'), ('t', '8', '8563'), ('a', '8', '8582'), ('a', '8', '8598'), ('t', '8', '8604'), ('t', '8', '8621'), ('t', '8', '8634'), ('t', '10', '8650'), ('g', '10', '8665'), ('g', '10', '8678'), ('t', '11', '8687'), ('g', '12', '8701'), ('t', '9', '8713'), ('g', '9', '8726'), ('t', '9', '8739'), ('c', '8', '8754'), ('t', '8', '8763'), ('t', '8', '8777'), ('t', '8', '8799'), ('c', '10', '8808'), ('t', '10', '8821'), ('c', '10', '8837'), ('t', '8', '8844'), ('c', '8', '8858'), ('a', '8', '8869'), ('t', '8', '8889'), ('a', '8', '8896'), ('a', '8', '8911'), ('t', '9', '8918'), ('t', '9', '8934'), ('c', '8', '8950'), ('c', '9', '8958'), ('c', '9', '8969'), ('t', '9', '8986'), ('c', '10', '8996'), ('t', '10', '9006'), ('t', '9', '9021'), ('c', '9', '9030'), ('g', '6', '9042'), ('t', '8', '9063'), ('c', '6', '9075'), ('t', '6', '9079'), ('t', '8', '9093'), ('t', '8', '9107'), ('g', '10', '9120'), ('c', '8', '9127'), ('t', '8', '9139'), ('c', '8', '9151'), ('a', '8', '9156'), ('a', '8', '9169'), ('c', '8', '9175'), ('c', '8', '9190'), ('t', '8', '9197'), ('t', '6', '9217'), ('g', '10', '9233'), ('t', '7', '9249'), ('g', '7', '9251'), ('t', '6', '9273'), ('t', '6', '9282'), ('a', '8', '9289'), ('a', '9', '9303'), ('a', '9', '9319'), ('t', '15', '9335'), ('t', '13', '9348'), ('t', '13', '9359'), ('t', '14', '9371'), ('t', '18', '9381'), ('t', '15', '9394'), ('t', '11', '9407'), ('t', '12', '9421'), ('t', '11', '9438'), ('t', '15', '9451'), ('t', '12', '9464'), ('t', '11', '9475'), ('c', '11', '9489'), ('t', '8', '9502'), ('a', '8', '9510'), ('g', '8', '9523'), ('a', '8', '9543'), ('t', '12', '9546'), ('a', '10', '9561'), ('t', '10', '9575'), ('c', '10', '9587'), ('t', '8', '9593'), ('a', '8', '9612'), ('g', '8', '9630'), ('t', '8', '9638'), ('t', '9', '9650'), ('c', '10', '9662'), ('g', '8', '9677'), ('a', '8', '9692'), ('a', '8', '9707'), ('t', '8', '9709'), ('a', '8', '9728'), ('g', '6', '9741'), ('c', '8', '9746'), ('t', '8', '9763'), ('t', '8', '9779'), ('g', '8', '9793'), ('t', '8', '9804'), ('g', '6', '9818'), ('t', '6', '9821'), ('t', '8', '9841'), ('t', '8', '9861'), ('t', '9', '9872'), ('g', '8', '9882'), ('t', '8', '9899'), ('g', '6', '9908'), ('a', '6', '9911'), ('a', '8', '9926'), ('t', '8', '9938'), ('a', '13', '9957'), ('t', '13', '9970'), ('t', '11', '9987'), ('c', '12', '9998'), ('t', '8', '10012'), ('t', '10', '10025'), ('t', '8', '10038'), ('g', '8', '10043'), ('t', '8', '10055'), ('t', '8', '10072'), ('a', '9', '10085'), ('g', '10', '10095'), ('t', '11', '10103'), ('g', '10', '10112'), ('g', '8', '10132'), ('t', '8', '10145'), ('t', '8', '10153'), ('t', '10', '10168'), ('c', '10', '10182'), ('c', '8', '10199'), ('t', '8', '10204'), ('g', '8', '10224'), ('c', '8', '10230'), ('c', '8', '10244'), ('g', '8', '10263'), ('t', '8', '10269'), ('c', '8', '10283'), ('c', '10', '10298'), ('t', '11', '10310'), ('t', '9', '10324'), ('t', '9', '10336'), ('t', '9', '10351'), ('c', '9', '10365'), ('g', '11', '10377'), ('c', '11', '10390'), ('c', '11', '10406'), ('g', '11', '10419'), ('t', '13', '10430'), ('c', '9', '10440'), ('c', '12', '10457'), ('t', '9', '10470'), ('c', '9', '10478'), ('t', '10', '10490'), ('c', '8', '10505'), ('c', '8', '10519'), ('t', '8', '10529'), ('c', '8', '10535'), ('t', '8', '10550'), ('c', '8', '10569'), ('c', '14', '10583'), ('c', '10', '10597'), ('t', '14', '10609'), ('c', '8', '10620'), ('c', '8', '10627'), ('c', '8', '10641'), ('t', '8', '10660'), ('c', '11', '10673'), ('c', '11', '10687'), ('g', '12', '10698'), ('a', '11', '10715'), ('c', '9', '10726'), ('t', '8', '10738'), ('c', '8', '10756'), ('c', '8', '10764'), ('a', '8', '10769'), ('a', '8', '10788'), ('a', '8', '10803'), ('g', '10', '10816'), ('c', '11', '10826'), ('g', '11', '10840'), ('t', '11', '10855'), ('g', '11', '10864')]\n"
          ],
          "name": "stdout"
        }
      ]
    },
    {
      "cell_type": "code",
      "metadata": {
        "id": "kgmkmreqqp6i",
        "colab_type": "code",
        "outputId": "3f320506-1e27-4a59-c58f-0c2a725d60fd",
        "colab": {}
      },
      "source": [
        "from Bio import SeqIO\n",
        "fn = '../../samples/phd1'\n",
        "fh = open(fn)\n",
        "seqs = SeqIO.parse(fh,'phd')\n",
        "seqs = SeqIO.parse(fh,'phd')\n",
        "for s in seqs:\n",
        "    print(s.seq)"
      ],
      "execution_count": 0,
      "outputs": [
        {
          "output_type": "error",
          "ename": "FileNotFoundError",
          "evalue": "[Errno 2] No such file or directory: '../../samples/phd1'",
          "traceback": [
            "\u001b[0;31m---------------------------------------------------------------------------\u001b[0m",
            "\u001b[0;31mFileNotFoundError\u001b[0m                         Traceback (most recent call last)",
            "\u001b[0;32m<ipython-input-87-333d1a936f53>\u001b[0m in \u001b[0;36m<module>\u001b[0;34m()\u001b[0m\n\u001b[1;32m      1\u001b[0m \u001b[0;32mfrom\u001b[0m \u001b[0mBio\u001b[0m \u001b[0;32mimport\u001b[0m \u001b[0mSeqIO\u001b[0m\u001b[0;34m\u001b[0m\u001b[0m\n\u001b[1;32m      2\u001b[0m \u001b[0mfn\u001b[0m \u001b[0;34m=\u001b[0m \u001b[0;34m'../../samples/phd1'\u001b[0m\u001b[0;34m\u001b[0m\u001b[0m\n\u001b[0;32m----> 3\u001b[0;31m \u001b[0mfh\u001b[0m \u001b[0;34m=\u001b[0m \u001b[0mopen\u001b[0m\u001b[0;34m(\u001b[0m\u001b[0mfn\u001b[0m\u001b[0;34m)\u001b[0m\u001b[0;34m\u001b[0m\u001b[0m\n\u001b[0m\u001b[1;32m      4\u001b[0m \u001b[0mseqs\u001b[0m \u001b[0;34m=\u001b[0m \u001b[0mSeqIO\u001b[0m\u001b[0;34m.\u001b[0m\u001b[0mparse\u001b[0m\u001b[0;34m(\u001b[0m\u001b[0mfh\u001b[0m\u001b[0;34m,\u001b[0m\u001b[0;34m'phd'\u001b[0m\u001b[0;34m)\u001b[0m\u001b[0;34m\u001b[0m\u001b[0m\n\u001b[1;32m      5\u001b[0m \u001b[0mseqs\u001b[0m \u001b[0;34m=\u001b[0m \u001b[0mSeqIO\u001b[0m\u001b[0;34m.\u001b[0m\u001b[0mparse\u001b[0m\u001b[0;34m(\u001b[0m\u001b[0mfh\u001b[0m\u001b[0;34m,\u001b[0m\u001b[0;34m'phd'\u001b[0m\u001b[0;34m)\u001b[0m\u001b[0;34m\u001b[0m\u001b[0m\n",
            "\u001b[0;31mFileNotFoundError\u001b[0m: [Errno 2] No such file or directory: '../../samples/phd1'"
          ]
        }
      ]
    },
    {
      "cell_type": "code",
      "metadata": {
        "id": "heQWYE-4qp6j",
        "colab_type": "code",
        "outputId": "eb06605a-1d00-4ca5-c190-cbe7cb08ef10",
        "colab": {}
      },
      "source": [
        "from Bio.Sequencing import Ace\n",
        "fn='836CLEAN-100.fasta.cap.ace'\n",
        "acefilerecord=Ace.read(open(fn))\n",
        "acefilerecord.ncontigs"
      ],
      "execution_count": 0,
      "outputs": [
        {
          "output_type": "error",
          "ename": "FileNotFoundError",
          "evalue": "[Errno 2] No such file or directory: '836CLEAN-100.fasta.cap.ace'",
          "traceback": [
            "\u001b[0;31m---------------------------------------------------------------------------\u001b[0m",
            "\u001b[0;31mFileNotFoundError\u001b[0m                         Traceback (most recent call last)",
            "\u001b[0;32m<ipython-input-88-2d91bd3dba7c>\u001b[0m in \u001b[0;36m<module>\u001b[0;34m()\u001b[0m\n\u001b[1;32m      1\u001b[0m \u001b[0;32mfrom\u001b[0m \u001b[0mBio\u001b[0m\u001b[0;34m.\u001b[0m\u001b[0mSequencing\u001b[0m \u001b[0;32mimport\u001b[0m \u001b[0mAce\u001b[0m\u001b[0;34m\u001b[0m\u001b[0m\n\u001b[1;32m      2\u001b[0m \u001b[0mfn\u001b[0m\u001b[0;34m=\u001b[0m\u001b[0;34m'836CLEAN-100.fasta.cap.ace'\u001b[0m\u001b[0;34m\u001b[0m\u001b[0m\n\u001b[0;32m----> 3\u001b[0;31m \u001b[0macefilerecord\u001b[0m\u001b[0;34m=\u001b[0m\u001b[0mAce\u001b[0m\u001b[0;34m.\u001b[0m\u001b[0mread\u001b[0m\u001b[0;34m(\u001b[0m\u001b[0mopen\u001b[0m\u001b[0;34m(\u001b[0m\u001b[0mfn\u001b[0m\u001b[0;34m)\u001b[0m\u001b[0;34m)\u001b[0m\u001b[0;34m\u001b[0m\u001b[0m\n\u001b[0m\u001b[1;32m      4\u001b[0m \u001b[0macefilerecord\u001b[0m\u001b[0;34m.\u001b[0m\u001b[0mncontigs\u001b[0m\u001b[0;34m\u001b[0m\u001b[0m\n",
            "\u001b[0;31mFileNotFoundError\u001b[0m: [Errno 2] No such file or directory: '836CLEAN-100.fasta.cap.ace'"
          ]
        }
      ]
    },
    {
      "cell_type": "code",
      "metadata": {
        "id": "23hpjAPvqp6k",
        "colab_type": "code",
        "outputId": "6f733ed9-f93e-4bbd-cd96-e04d9898cb84",
        "colab": {}
      },
      "source": [
        "acefilerecord.nreads"
      ],
      "execution_count": 0,
      "outputs": [
        {
          "output_type": "error",
          "ename": "NameError",
          "evalue": "name 'acefilerecord' is not defined",
          "traceback": [
            "\u001b[0;31m---------------------------------------------------------------------------\u001b[0m",
            "\u001b[0;31mNameError\u001b[0m                                 Traceback (most recent call last)",
            "\u001b[0;32m<ipython-input-89-de4362412e93>\u001b[0m in \u001b[0;36m<module>\u001b[0;34m()\u001b[0m\n\u001b[0;32m----> 1\u001b[0;31m \u001b[0macefilerecord\u001b[0m\u001b[0;34m.\u001b[0m\u001b[0mnreads\u001b[0m\u001b[0;34m\u001b[0m\u001b[0m\n\u001b[0m",
            "\u001b[0;31mNameError\u001b[0m: name 'acefilerecord' is not defined"
          ]
        }
      ]
    },
    {
      "cell_type": "code",
      "metadata": {
        "id": "RXaQ0xfBqp6l",
        "colab_type": "code",
        "outputId": "696a9d6e-b32e-47a6-fdbe-5c53f5d644d2",
        "colab": {}
      },
      "source": [
        "acefilerecord.wa[0].info"
      ],
      "execution_count": 0,
      "outputs": [
        {
          "output_type": "error",
          "ename": "NameError",
          "evalue": "name 'acefilerecord' is not defined",
          "traceback": [
            "\u001b[0;31m---------------------------------------------------------------------------\u001b[0m",
            "\u001b[0;31mNameError\u001b[0m                                 Traceback (most recent call last)",
            "\u001b[0;32m<ipython-input-90-7ccd5a6787ce>\u001b[0m in \u001b[0;36m<module>\u001b[0;34m()\u001b[0m\n\u001b[0;32m----> 1\u001b[0;31m \u001b[0macefilerecord\u001b[0m\u001b[0;34m.\u001b[0m\u001b[0mwa\u001b[0m\u001b[0;34m[\u001b[0m\u001b[0;36m0\u001b[0m\u001b[0;34m]\u001b[0m\u001b[0;34m.\u001b[0m\u001b[0minfo\u001b[0m\u001b[0;34m\u001b[0m\u001b[0m\n\u001b[0m",
            "\u001b[0;31mNameError\u001b[0m: name 'acefilerecord' is not defined"
          ]
        }
      ]
    },
    {
      "cell_type": "code",
      "metadata": {
        "id": "UFTrtsSrqp6m",
        "colab_type": "code",
        "outputId": "52479fa4-bc41-4d8d-d3bd-44a87add76f4",
        "colab": {}
      },
      "source": [
        "acefilerecord.wa[0].date"
      ],
      "execution_count": 0,
      "outputs": [
        {
          "output_type": "error",
          "ename": "NameError",
          "evalue": "name 'acefilerecord' is not defined",
          "traceback": [
            "\u001b[0;31m---------------------------------------------------------------------------\u001b[0m",
            "\u001b[0;31mNameError\u001b[0m                                 Traceback (most recent call last)",
            "\u001b[0;32m<ipython-input-91-15d5ea43f590>\u001b[0m in \u001b[0;36m<module>\u001b[0;34m()\u001b[0m\n\u001b[0;32m----> 1\u001b[0;31m \u001b[0macefilerecord\u001b[0m\u001b[0;34m.\u001b[0m\u001b[0mwa\u001b[0m\u001b[0;34m[\u001b[0m\u001b[0;36m0\u001b[0m\u001b[0;34m]\u001b[0m\u001b[0;34m.\u001b[0m\u001b[0mdate\u001b[0m\u001b[0;34m\u001b[0m\u001b[0m\n\u001b[0m",
            "\u001b[0;31mNameError\u001b[0m: name 'acefilerecord' is not defined"
          ]
        }
      ]
    },
    {
      "cell_type": "markdown",
      "metadata": {
        "id": "tEs_MfAlqp6n",
        "colab_type": "text"
      },
      "source": [
        "**Listing 9.17:** ace.py: Retrieve data from an “.ace” file"
      ]
    },
    {
      "cell_type": "code",
      "metadata": {
        "id": "8RTbGNPBqp6n",
        "colab_type": "code",
        "outputId": "cc829edf-42b1-43f3-e903-36bc9530d9cc",
        "colab": {}
      },
      "source": [
        "from Bio.Sequencing import Ace\n",
        "\n",
        "fn = 'samples/contig1.ace'\n",
        "acefilerecord = Ace.read(open(fn))\n",
        "\n",
        "# For each contig:\n",
        "for ctg in acefilerecord.contigs:\n",
        "    print('==========================================')\n",
        "    print('Contig name: %s'%ctg.name)\n",
        "    print('Bases: %s'%ctg.nbases)\n",
        "    print('Reads: %s'%ctg.nreads)\n",
        "    print('Segments: %s'%ctg.nsegments)\n",
        "    print('Sequence: %s'%ctg.sequence)\n",
        "    print('Quality: %s'%ctg.quality)\n",
        "    # For each read in contig:\n",
        "    for read in ctg.reads:\n",
        "        print('Read name: %s'%read.rd.name)\n",
        "        print('Align start: %s'%read.qa.align_clipping_start)\n",
        "        print('Align end: %s'%read.qa.align_clipping_end)\n",
        "        print('Qual start: %s'%read.qa.qual_clipping_start)\n",
        "        print('Qual end: %s'%read.qa.qual_clipping_end)\n",
        "        print('Read sequence: %s'%read.rd.sequence)\n",
        "        print('==========================================')"
      ],
      "execution_count": 0,
      "outputs": [
        {
          "output_type": "stream",
          "text": [
            "==========================================\n",
            "Contig name: Contig1\n",
            "Bases: 856\n",
            "Reads: 2\n",
            "Segments: 31\n",
            "Sequence: aatacgGGATTGCCCTAGTAACGGCGAGTGAAGCGGCAACAGCTCAAATTTGAAATCTGGCCCCCCGGCCCGAGTTGTAATTTGTAGAGG*ATGCTTCTGGGTAGCGACCGGTCTAAGTTCCTCGGAACAGGACGTCATAGAGGGTGAGAATCCCGTATGCGACCGGCCCGCGCCCTCCACGTAGCTCCTTCGACGAGTCGAGTTGTTTGGGAATGCAGCTCTAAATGGGAGGTAAATTTCTTCTAAAGCTAAATACCGGCCAGAGACCGATAGCGCACAAGTAGAGTGATCGAAAGATGAAAAGCACTTTGGAAAGAGAGTTAAAAAGCACGTGAAATTGTTGAAAGGGAAGCGCTTACAACCAGACTTTGGGGCGGTGTTCCGCCGGTCTTCTGACCGGTCCACTCGCCGTCCCGAGGCCAACATCATCTGGGACCGCCGGACAAGACCTCAGGAATGTGGCTCCCCCTCGGGGGAGTGTTATAGCCTGTGGTGATGCGGCGCGTCCCGGGTGAGGTCCGCGCTTCGGCAAGGATGTTGGCGTAATGGTTGTCAGCGGCCCGTCTTGAAACACGGACCAAGGAGTCTAACATCTATGCGAGTGTTCGGGTGTCAAACCCCTACGCGGAATGAAAGTGAACGGAGGTGGGAAGGGTAACCTGCACCATCGACCGATCCTGATGTCCTCGGATGGATTTGAGTAAGAGCATAGCTGTTGGGACCCGAAAGATGGTGAACTATGCCTGAATAGGGTGAAGCCAGAGGAAACTCTGGTGGAGGCTCGCAGCGGTTCTGACGTGCAAATCGATCGTCAAATTTGGGTATAGGGGCGAAAGActatcgaAcATCTAGtac\n",
            "Quality: [0, 0, 0, 0, 0, 0, 22, 23, 25, 28, 34, 47, 61, 46, 39, 34, 34, 30, 30, 31, 33, 47, 58, 64, 77, 52, 56, 50, 55, 53, 59, 70, 71, 71, 63, 70, 70, 69, 71, 69, 67, 52, 52, 52, 61, 64, 80, 77, 79, 59, 57, 57, 57, 57, 57, 57, 57, 57, 57, 48, 57, 57, 57, 57, 57, 57, 57, 69, 72, 72, 72, 72, 72, 72, 84, 69, 69, 57, 57, 57, 57, 57, 57, 54, 57, 57, 57, 54, 57, 57, 57, 72, 72, 72, 72, 72, 72, 72, 78, 78, 86, 89, 90, 90, 90, 90, 90, 86, 88, 81, 78, 72, 72, 83, 77, 84, 83, 83, 84, 83, 83, 83, 86, 87, 90, 90, 88, 90, 89, 85, 75, 87, 72, 83, 76, 81, 87, 90, 87, 90, 80, 75, 75, 82, 84, 85, 87, 90, 90, 90, 90, 90, 90, 86, 82, 89, 87, 90, 90, 90, 90, 90, 90, 90, 90, 90, 90, 90, 90, 90, 90, 90, 89, 83, 83, 83, 83, 83, 90, 90, 90, 90, 90, 90, 87, 83, 83, 83, 83, 84, 89, 90, 90, 90, 90, 90, 90, 90, 90, 90, 90, 90, 90, 90, 90, 90, 90, 90, 90, 90, 90, 90, 90, 90, 90, 90, 90, 90, 90, 90, 90, 90, 90, 90, 90, 90, 90, 90, 90, 90, 90, 89, 90, 90, 87, 87, 87, 87, 84, 90, 90, 90, 90, 90, 90, 90, 90, 90, 90, 90, 90, 90, 90, 90, 90, 90, 90, 90, 90, 90, 90, 90, 90, 90, 90, 90, 90, 90, 90, 90, 90, 90, 90, 90, 90, 90, 90, 90, 90, 90, 90, 90, 90, 90, 90, 90, 90, 90, 90, 90, 90, 90, 90, 90, 90, 90, 90, 90, 90, 90, 90, 90, 90, 90, 90, 90, 90, 90, 90, 90, 90, 90, 90, 90, 90, 90, 90, 90, 90, 90, 90, 90, 90, 90, 90, 90, 90, 90, 90, 90, 90, 90, 90, 90, 90, 90, 90, 90, 90, 90, 90, 90, 90, 90, 90, 90, 90, 90, 90, 90, 90, 90, 90, 90, 90, 90, 90, 90, 90, 90, 90, 90, 90, 90, 90, 90, 90, 90, 90, 90, 90, 90, 90, 90, 90, 90, 90, 90, 90, 90, 90, 90, 90, 90, 90, 90, 90, 90, 90, 90, 90, 90, 90, 90, 90, 90, 90, 90, 90, 90, 90, 90, 90, 90, 90, 90, 90, 90, 90, 90, 90, 90, 90, 90, 90, 90, 90, 90, 90, 90, 90, 90, 90, 90, 90, 90, 90, 90, 90, 90, 90, 90, 90, 90, 90, 90, 90, 90, 90, 90, 90, 90, 90, 90, 90, 90, 90, 90, 90, 90, 90, 90, 90, 90, 90, 90, 90, 90, 90, 90, 90, 90, 90, 90, 90, 90, 90, 90, 90, 90, 90, 90, 90, 90, 90, 90, 90, 90, 90, 90, 90, 90, 90, 90, 90, 90, 90, 90, 90, 90, 90, 90, 90, 90, 90, 90, 90, 90, 90, 90, 90, 90, 90, 90, 90, 90, 90, 90, 90, 90, 90, 90, 90, 90, 85, 85, 85, 90, 90, 90, 90, 90, 90, 90, 90, 90, 90, 90, 90, 90, 90, 90, 90, 90, 90, 90, 90, 90, 90, 90, 90, 90, 90, 90, 90, 90, 90, 90, 90, 90, 90, 90, 90, 90, 90, 90, 90, 90, 90, 90, 90, 90, 90, 90, 90, 90, 90, 90, 90, 90, 90, 89, 89, 82, 90, 87, 84, 84, 81, 89, 80, 80, 80, 81, 89, 89, 90, 90, 90, 90, 90, 90, 90, 90, 90, 90, 90, 90, 90, 90, 90, 90, 90, 90, 90, 90, 90, 90, 90, 90, 90, 90, 90, 90, 90, 90, 90, 90, 90, 89, 89, 89, 90, 90, 90, 90, 90, 90, 90, 90, 90, 90, 90, 90, 90, 90, 90, 90, 90, 90, 90, 77, 78, 77, 77, 83, 89, 90, 90, 90, 90, 90, 90, 90, 90, 90, 90, 90, 64, 66, 72, 90, 90, 87, 85, 86, 86, 90, 85, 85, 90, 86, 86, 90, 89, 87, 73, 76, 77, 90, 89, 90, 87, 90, 84, 84, 90, 90, 81, 89, 90, 90, 87, 90, 90, 90, 90, 90, 90, 90, 90, 90, 90, 90, 90, 81, 77, 75, 80, 80, 87, 84, 90, 90, 90, 90, 90, 90, 90, 82, 82, 70, 70, 70, 84, 87, 90, 87, 90, 88, 89, 86, 86, 90, 88, 90, 88, 88, 90, 90, 85, 87, 73, 74, 78, 81, 79, 83, 85, 84, 83, 83, 83, 90, 90, 90, 79, 79, 72, 72, 72, 72, 57, 57, 68, 68, 57, 57, 57, 72, 72, 90, 86, 83, 83, 83, 68, 68, 68, 68, 68, 68, 57, 78, 78, 75, 75, 68, 70, 81, 86, 78, 82, 76, 76, 62, 61, 61, 70, 82, 89, 85, 86, 83, 84, 87, 90, 87, 90, 57, 57, 57, 57, 57, 57, 50, 50, 53, 53, 57, 57, 79, 79, 61, 61, 60, 59, 62, 67, 74, 65, 62, 60, 53, 43, 40, 25, 12, 12, 16, 19, 14, 19, 14, 20, 15, 22, 30, 24, 28, 22, 21, 15, 19, 0]\n",
            "Read name: BL060c3-LR5.g.ab1\n",
            "Align start: 22\n",
            "Align end: 856\n",
            "Qual start: 80\n",
            "Qual end: 853\n",
            "Read sequence: tagcgaggaaagaacccaacaGgaTTGCCCTAGTAACGGCGAGTGAAGCGGCAACAGCTCAAATTTgaattctggctcccCGGCCCGAGTTGTAAtt*gtagagggaTGCTTCTGGGTAGCGACCGGTCTAAGTTCCTCGGAACAGGACGTCATAGAGGGTGAGAATCCCGTATGCGACCGGCCCGCGCCCTCCACGTAGCTCCTTCGACGAGTCGAGTTGTTTGGGAATGCAGCTCTAAATGGGAGGTAAATTTCTTCTAAAGCTAAATACCGGCCAGAGACCGATAGCGCACAAGTAGAGTGATCGAAAGATGAAAAGCACTTTGGAAAGAGAGTTAAAAAGCACGTGAAATTGTTGAAAGGGAAGCGCTTACAACCAGACTTTGGGGCGGTGTTCCGCCGGTCTTCTGACCGGTCCACTCGCCGTCCCGAGGCCAACATCATCTGGGACCGCCGGACAAGACCTCAGGAATGTGGCTCCCCCTCGGGGGAGTGTTATAGCCTGTGGTGATGCGGCGCGTCCCGGGTGAGGTCCGCGCTTCGGCAAGGATGTTGGCGTAATGGTTGTCAGCGGCCCGTCTTGAAACACGGACCAAGGAGTCTAACATCTATGCGAGTGTTCGGGTGTCAAACCCCTACGCGGAATGAAAGTGAACGGAGGTGGGAAGGGTAACCTGCACCATCGACCGATCCTGATGTCCTCGGATGGATTTGAGTAAGAGCATAGCTGTTGGGACCCGAAAGATGGTGAACTATGCCTGAATAGGGTGAAGCCAGAGGAAACTCTGGTGGAGGCTCGCAGCGGTTCTGACGTGCAAATCGATCGTCAAATTTGGGTATAGGGGCGAAAGActaatgaaccatcag\n",
            "==========================================\n",
            "Read name: BL060c3-LR0R.b.ab1\n",
            "Align start: 1\n",
            "Align end: 856\n",
            "Qual start: 7\n",
            "Qual end: 778\n",
            "Read sequence: aatacgGGATTGCCCTagtaacGGCGAGTGAAGCGGCAACAGCTCAAATTTGAAATCTGGCCCCCCGGCCCGAGTTGTAATTTGTAGAGG*ATGCTTCTGGGTAGCGACCGGTCTAAGTTCCTCGGAACAGGACGTCATAGAGGGTGAGAATCCCGTATGCGACCGGCCCGCGCCCTCCACGTAGCTCCTTCGACGAGTCGAGTTGTTTGGGAATGCAGCTCTAAATGGGAGGTAAATTTCTTCTAAAGCTAAATACCGGCCAGAGACCGATAGCGCACAAGTAGAGTGATCGAAAGATGAAAAGCACTTTGGAAAGAGAGTTAAAAAGCACGTGAAATTGTTGAAAGGGAAGCGCTTACAACCAGACTTTGGGGCGGTGTTCCGCCGGTCTTCTGACCGGTCCACTCGCCGTCCCGAGGCCAACATCATCTGGGACCGCCGGACAAGACCTCAGGAATGTGGCTCCCCCTCGGGGGAGTGTTATAGCCTGTGGTGATGCGGCGCGTCCCGGGTGAGGTCCGCGCTTCGGCAAGGATGTTGGCGTAATGGTTGTCAGCGGCCCGTCTTGAAACACGGACCAAGGAGTCTAACATCTATGCGAGTGTTCGGGTGTCAAACCCCTACGCGGAATGAAAGTGAACGGAGGTGGGAAGGGTAACCTGCACCATCGACCGATCCTGATGTCCTCGGATGGATTTGAGTAAGAGCATAGCTGTTGGGACCCGAAAGATGGTGAACTATGCCTGAATAGGGTGAAGCCAGagaaaacTCTGGTGgangCTCGCAGCGGTTCTGACGTGCAAATCGATCGTCAA*TTTGGGTATAGGGGCGAAAGActatcgaAcATCTAGtac\n",
            "==========================================\n",
            "==========================================\n",
            "Contig name: Contig2\n",
            "Bases: 3296\n",
            "Reads: 14\n",
            "Segments: 214\n",
            "Sequence: cacggatgatagcttcgcgacactagcttttcagctaaccgcaaataccaaatatccgaatcaacggttcctctcgtactAAGTTGAATTACTATTGCAACAACTATTCATCAGTAGGGTAAAACTAACCTGTCTCACGACGGTCTAAACCCAGCTCACGTTCCCTATTAGTGGGTGAACAATCCAACACTTATTGAATTCTGCTTCAATATGATAGGAAGAGCCGACATCGAAGGATCAAAAAGCAACGTCGCTATGAACGCTTGGCTGCCACAAGCCAGTTATCCCTGTGGTAACTTTTCTGACACCTCTAGGCTGAAATTTCCAGCGACTAAAGGATCGATAGGCCACACTTTCATGGTTTGTATTCACACTGAAAATCAAAATCAAGGGGACTTTTACCCTTTTGTTCTACACGAGATTTCTGTTCTCGTTGAGTCCCCCTTAGGACACCTGCGTTATCTTTTAACAGATGTGCCGCCCCAGCCAAACTCCCCACCTGACAATGTCTTTGACGTAGATCACCACACAAAGGTGGCTTAACGCGAGAAAGTGGGATTGCTCCCAGTTCTACTCCATCAAATAAGTAAAAAAACGATAAGGGTAGTGGTATTTCACCGTCGCCGAAGCTCCCACTTATTCTACACCCCCTATGTCTTTTCACAATGTCAAACTAGAGTCAAGCTCAACAGGGTCTTCTTTCCCCGCTGATTTTGCCAAGCCCGTTCCCTTGGCTGTGGTTTCGCTAGATAGTAGATAGGGACAGTGGGAATCTCGTTAATCCATTCATGCGCGTCACTAATTAGATGACGAGGCATTTGGCTACCTTAAGAGAGTCATAGTTACTCCCGCCGTTTACCCGCGCTTGGTTGAATTTCTTCACTTTGACATTCAGAGCACTGGGCAGAAATCACTTTGCGTCAACACCACTTTCTGGCCATCGCAAAGCTATGTTTTAATTAGACAGTCAGATTCCCCTTGTCCGTACCAGTTCTAAGTTAGTTGTTAATTGTATACCAGTAGCTACAAGTTTTATGCGCAGATACCCAAAGAGAGGCCCACTTTTTCAAAAAAAAATAAATTCTTTTTGGTCCAGTAGTCCTTTCTTAGGTTTCTGGATT**CAACAAGCAGCACAATATACCCAACCCTTAGAGCCAATCCTTTTCCCGAAGTTACGGATCTAATTTGCCGACTTCCCT*TATCTACATTATTCTATCAACTA*GAGGCTGTTCACCTTGGAGACCTGCTGCGGTTATGAGTACGACCAGGCATGAAGATGAAATTCTTTCCCTTGGATTTTCAAGGGCCGTCAAGAGCGCACCGGACAAAGCAAATTGCTCTGCTCTACCAAACATTGAACCCTATCTCCAGGTAATCTGATTTCAGGGTAAATTAGTCTGTTAAGAAGAAAAGAGAACTCTTCCCAGGGCTCTTGCTGGCGTCTCCAAGTTCATTTGCGTTACCGCAACACCCATATCCTGGTTCCGGAATATTAACCGGATTCCCTTTCGATAGGACGGTGCTAAAATAAAATAGCACAACTTTAAAACGGAGTTAACCTATCTCTTAGGATCGACTAACCCATGTCCAACTGCTGTTCACATGGAACCTTTCTCCACTTCAGTCTTCAAAGTTCTCATTTGAATATTTGCTACTACCACCAAGATCTGCACTAGAGGCAGTTTCACTCA*GGCTTACGCCCAAAGCTTCTTCACTACCTCCACGTCCGCCTACTCGTCAAGGCATCGCATTTACCTTGACGGTTGAGTATAGGTAGCACGCTTAAGCGCCATCCATTTTCAGGGCTAGTTCATTCGGCAGGTGAGTTGTTACACACTCCTTAGCGGATTCCGACTTCCATGGCCACCGTCCTGCTGTCTAGATGAACTAACACCTTTTGTGGTGTCTAAATGAGCGTGCATTCTGGCACCTTAA*CTCAACGTTCGGTTCATCCCGCATCGCCAGTTCTGCTTACCAAAAATGGCCCACTAGAAACTCACATTCGAAAGGGTT*CAAGGTTCAATTAAGCAACCTGAACTTCTTACATATTTAAAGTTTGAGAATAGGTTAAGGTTGTTTCAACCCTAAGGCCTCTAATCATTCGCTTTACCTCATAAAACTGAGTATTGAGTTTCTGCTATCCTGAGGGAAACTTCGGCGGAAACCAGCTACTAGATGGTTCGATTAGTCTTTCGCCCCTATACCCAAATTTGACGATCGATTTGCACGTCAGAATCGCTACGAGCTTCCACCAGAGTTTCCTCTGGCTTCACCCTATTCAGGCATAGTTCACCATCTTTCGGGTCCTAACAAATACGCTCTTGCTCAGACCAATAACTTAATAAAGTTAATAAGCCGGCCGATGGTGCTCCTTTTTTTAATTGGGGATCCCATCTTTTTACTTTCATTTCGCGTATGGGTTTTTCACCCAAACACTCGCGTATTTGGTAGACTCCTTGGTCCGTGTTTCAAGACGGGTCGATTAAAACCGTTTAGTCAACATCCTTTGTGCAAAAGTTAAAAACTTTTAAGAGATAAAAATTTACAAGAGCAACAGCTTATATACCAACCATCTGACTTTGAAAAGCCAGTTAAAATCAGTCATAAACCAATTGACAAGTAAACATCTCTGCCCCACCACCCCCTTGGAACAGGAGGAAGAAGGGTACACAGCAAACCTCAATCTTAATCAGTGTATAAAAATCAAAGTCTATAACACTTGAATCAAAAGAGTTTCAAGCTACCTTCCAATGATCTTTTTCCACCAATCAAAATTGATGTTGACTCTCTACCATTAGAGGGCCAGCCTAACAAGTAAATATTTTTAACAAGCAATGAGTTTTAACACATCAAAACTCGTAAAATATTACTTATTTAAAAAGCTGGATCTAAATAGTAAAATCCAACAGTTCCAAGCGTTTCCCTTTCAGCAATTTC*ACGTACTTTTAACTCTCTTTTCAAAGTTCTTTTCATCTTTCCC*TCGCGGTACTTGTTCGCTATCGGTCTCTTGCCAATATTTAGCTTTGGATGAAATTTACCACCCATTTTGGGCTGCATTCCCAAACAACCCGACTCTTAGAAAGTGTAACACATTGCAATAAGTTTAAGAATTTAGCCAAAGACGGGATTCTCACCCTCTATGACGCCCTCTTCCAAGGGACTTAGACTAAACAACTATCACAGATAACACTTCTTCAAATTACAATTCGGAGAGAGAATAAACTCCCCCAGATTCCAAATTTGAGCTCTTCCCGCTTCACTCGCCGttactagGGGAAtccttgtag\n",
            "Quality: [0, 0, 0, 0, 0, 0, 0, 0, 0, 0, 0, 0, 0, 0, 0, 0, 0, 0, 0, 0, 0, 0, 0, 0, 0, 0, 0, 0, 0, 0, 0, 0, 0, 0, 0, 0, 0, 0, 0, 0, 0, 0, 0, 0, 0, 0, 0, 0, 0, 0, 0, 0, 0, 0, 0, 0, 0, 0, 0, 0, 0, 0, 0, 0, 0, 0, 0, 0, 0, 0, 0, 0, 0, 0, 0, 0, 0, 0, 0, 0, 51, 68, 68, 68, 68, 68, 68, 68, 68, 68, 68, 68, 68, 68, 68, 68, 68, 68, 68, 68, 68, 68, 68, 68, 68, 68, 68, 68, 68, 68, 68, 68, 68, 68, 68, 68, 68, 68, 68, 68, 68, 68, 68, 68, 68, 68, 68, 68, 68, 68, 68, 68, 68, 68, 68, 68, 68, 68, 68, 68, 68, 68, 68, 68, 68, 68, 68, 68, 68, 68, 68, 68, 68, 68, 68, 68, 68, 68, 68, 68, 68, 68, 68, 68, 68, 68, 68, 68, 68, 68, 68, 68, 68, 68, 68, 68, 68, 68, 68, 68, 68, 68, 68, 68, 68, 68, 68, 68, 68, 68, 68, 68, 68, 68, 68, 68, 68, 68, 68, 68, 68, 68, 68, 68, 68, 68, 68, 68, 68, 68, 68, 68, 68, 68, 68, 68, 68, 68, 62, 62, 68, 68, 62, 62, 62, 62, 62, 62, 62, 62, 68, 62, 62, 62, 62, 62, 62, 62, 62, 68, 68, 68, 68, 68, 68, 68, 68, 68, 68, 68, 68, 68, 68, 68, 68, 62, 68, 68, 68, 68, 68, 68, 68, 68, 68, 68, 68, 68, 68, 68, 68, 68, 68, 68, 68, 68, 68, 68, 68, 68, 68, 68, 68, 68, 68, 68, 68, 68, 68, 68, 68, 68, 68, 68, 68, 68, 68, 68, 68, 68, 68, 68, 68, 68, 68, 68, 68, 68, 68, 78, 78, 78, 78, 78, 72, 72, 72, 68, 68, 68, 68, 68, 68, 68, 68, 78, 78, 78, 78, 78, 78, 78, 78, 78, 78, 78, 78, 78, 78, 78, 78, 78, 78, 78, 78, 78, 78, 78, 78, 78, 78, 78, 78, 78, 78, 78, 78, 78, 78, 78, 78, 78, 78, 78, 78, 78, 78, 78, 78, 78, 78, 78, 78, 72, 72, 72, 78, 78, 78, 78, 78, 78, 78, 78, 78, 78, 78, 78, 78, 78, 78, 78, 72, 72, 72, 72, 72, 72, 78, 78, 78, 78, 78, 78, 78, 78, 78, 78, 78, 78, 78, 78, 78, 78, 72, 72, 72, 72, 72, 72, 72, 78, 78, 78, 78, 78, 78, 78, 78, 78, 78, 78, 78, 78, 78, 78, 78, 78, 78, 78, 78, 78, 78, 78, 67, 67, 67, 67, 67, 67, 67, 67, 67, 67, 67, 78, 78, 78, 78, 78, 78, 78, 78, 78, 78, 78, 78, 78, 78, 78, 78, 78, 78, 78, 78, 78, 78, 78, 78, 78, 78, 78, 78, 78, 78, 78, 78, 78, 78, 78, 78, 78, 78, 78, 78, 78, 78, 78, 78, 72, 72, 72, 72, 72, 72, 72, 78, 78, 78, 78, 78, 78, 72, 72, 72, 72, 72, 72, 72, 72, 72, 72, 72, 78, 78, 78, 78, 78, 78, 78, 78, 78, 78, 78, 78, 78, 78, 78, 78, 78, 78, 78, 78, 78, 78, 78, 78, 78, 78, 78, 78, 78, 78, 78, 78, 78, 78, 78, 78, 78, 78, 78, 78, 78, 78, 78, 78, 78, 78, 78, 78, 78, 78, 78, 78, 78, 78, 78, 78, 78, 78, 78, 78, 78, 78, 78, 78, 78, 78, 78, 78, 78, 78, 78, 78, 78, 78, 78, 78, 78, 78, 78, 78, 78, 78, 78, 78, 78, 78, 78, 78, 78, 78, 78, 78, 78, 78, 78, 78, 78, 78, 72, 72, 72, 72, 72, 72, 72, 72, 72, 78, 72, 78, 78, 78, 78, 78, 78, 78, 78, 78, 72, 72, 72, 72, 72, 72, 78, 78, 78, 78, 78, 78, 78, 78, 78, 78, 78, 78, 78, 78, 78, 78, 78, 78, 78, 78, 78, 78, 78, 78, 78, 78, 78, 78, 78, 78, 78, 78, 72, 78, 78, 78, 78, 78, 78, 78, 78, 78, 78, 78, 78, 78, 78, 78, 78, 78, 78, 78, 78, 78, 78, 78, 78, 78, 78, 72, 72, 72, 72, 72, 72, 72, 72, 72, 62, 62, 62, 62, 62, 62, 78, 78, 78, 78, 78, 78, 78, 78, 78, 78, 72, 72, 72, 72, 72, 72, 72, 72, 78, 78, 78, 78, 78, 78, 78, 78, 78, 78, 78, 78, 78, 67, 67, 67, 67, 67, 67, 67, 67, 67, 67, 67, 67, 67, 67, 67, 67, 67, 67, 67, 67, 67, 67, 67, 78, 68, 59, 57, 57, 57, 57, 67, 67, 78, 67, 67, 67, 67, 67, 67, 67, 78, 78, 78, 78, 78, 78, 78, 78, 78, 78, 67, 67, 67, 67, 67, 67, 67, 62, 62, 62, 67, 67, 78, 67, 67, 67, 67, 78, 78, 78, 60, 60, 60, 60, 60, 60, 67, 67, 60, 60, 57, 57, 57, 57, 57, 67, 67, 67, 67, 67, 57, 57, 57, 57, 57, 57, 59, 68, 68, 68, 78, 78, 78, 58, 48, 47, 47, 48, 48, 59, 59, 59, 57, 57, 57, 57, 57, 57, 48, 48, 48, 54, 54, 57, 57, 59, 59, 54, 54, 54, 54, 54, 50, 50, 50, 48, 48, 48, 50, 48, 48, 43, 43, 43, 42, 42, 48, 47, 50, 50, 57, 44, 43, 40, 40, 40, 43, 43, 47, 47, 47, 37, 37, 37, 47, 47, 59, 59, 59, 32, 24, 24, 25, 25, 30, 30, 33, 51, 60, 60, 69, 69, 58, 58, 58, 47, 47, 47, 47, 43, 47, 47, 42, 45, 47, 49, 49, 49, 47, 47, 49, 54, 69, 69, 57, 57, 57, 57, 52, 52, 53, 53, 53, 57, 58, 53, 50, 50, 47, 46, 47, 58, 67, 64, 64, 64, 60, 60, 60, 60, 60, 60, 78, 78, 78, 63, 60, 60, 60, 60, 60, 69, 67, 60, 67, 67, 67, 67, 67, 67, 67, 67, 67, 69, 69, 67, 67, 67, 69, 69, 69, 67, 67, 67, 69, 67, 67, 67, 67, 67, 67, 67, 69, 69, 69, 67, 67, 67, 67, 69, 67, 67, 67, 67, 67, 67, 67, 67, 67, 67, 62, 67, 67, 67, 67, 67, 78, 78, 78, 67, 67, 64, 64, 67, 64, 64, 69, 64, 64, 64, 64, 67, 67, 67, 64, 64, 64, 67, 67, 78, 78, 78, 69, 69, 69, 69, 67, 67, 67, 67, 67, 67, 67, 69, 67, 67, 67, 67, 67, 67, 67, 67, 67, 67, 67, 62, 62, 62, 67, 67, 67, 67, 67, 69, 57, 57, 52, 52, 57, 57, 69, 67, 62, 62, 52, 57, 62, 62, 62, 62, 62, 68, 68, 68, 68, 62, 62, 62, 62, 62, 62, 62, 62, 62, 62, 62, 62, 62, 62, 62, 62, 62, 62, 62, 62, 62, 62, 62, 62, 62, 62, 62, 62, 62, 62, 62, 62, 62, 62, 62, 62, 62, 62, 62, 62, 62, 62, 62, 62, 62, 62, 62, 62, 52, 52, 52, 62, 62, 62, 52, 52, 52, 62, 62, 62, 62, 62, 62, 62, 62, 62, 62, 62, 62, 62, 62, 62, 62, 62, 68, 68, 62, 74, 74, 81, 74, 74, 71, 77, 78, 79, 72, 70, 72, 72, 62, 62, 62, 62, 62, 62, 62, 62, 62, 62, 62, 62, 62, 62, 62, 62, 62, 62, 62, 52, 52, 52, 73, 87, 84, 82, 81, 83, 82, 82, 88, 90, 89, 88, 87, 87, 77, 84, 81, 90, 90, 90, 90, 90, 90, 90, 90, 90, 90, 90, 90, 90, 87, 87, 87, 87, 90, 87, 90, 78, 87, 72, 72, 72, 72, 72, 78, 78, 90, 90, 90, 90, 90, 90, 90, 87, 87, 87, 72, 72, 72, 78, 78, 72, 67, 64, 64, 87, 87, 87, 90, 90, 90, 90, 90, 90, 90, 90, 90, 90, 90, 90, 90, 90, 90, 87, 90, 90, 90, 90, 90, 90, 90, 90, 90, 90, 90, 90, 90, 90, 90, 90, 90, 90, 90, 90, 90, 90, 90, 90, 90, 90, 90, 90, 90, 90, 90, 90, 90, 90, 90, 90, 90, 90, 90, 90, 90, 90, 90, 90, 90, 90, 90, 90, 90, 90, 90, 90, 90, 90, 90, 90, 90, 90, 90, 90, 90, 90, 90, 90, 90, 90, 90, 90, 90, 90, 90, 90, 90, 90, 90, 90, 90, 90, 90, 90, 90, 90, 90, 90, 90, 90, 90, 90, 90, 90, 90, 90, 90, 90, 90, 90, 90, 90, 90, 90, 90, 90, 90, 90, 90, 90, 90, 90, 90, 90, 90, 90, 90, 90, 90, 90, 90, 90, 90, 90, 90, 90, 90, 90, 90, 90, 90, 90, 90, 90, 90, 90, 90, 90, 90, 90, 90, 90, 90, 90, 90, 90, 90, 90, 90, 90, 90, 90, 90, 90, 90, 90, 90, 90, 90, 90, 90, 90, 90, 90, 90, 90, 90, 90, 90, 90, 90, 90, 90, 90, 90, 90, 90, 90, 90, 90, 90, 90, 90, 90, 90, 90, 90, 90, 90, 90, 90, 90, 90, 90, 90, 90, 90, 90, 90, 90, 90, 90, 90, 90, 90, 90, 90, 90, 90, 90, 90, 90, 90, 90, 90, 90, 90, 90, 90, 90, 90, 90, 90, 90, 90, 90, 90, 90, 90, 90, 90, 90, 90, 90, 90, 90, 90, 90, 90, 90, 90, 90, 90, 90, 90, 90, 90, 90, 90, 90, 90, 90, 90, 90, 90, 90, 90, 90, 90, 90, 90, 90, 90, 90, 90, 90, 90, 90, 90, 90, 90, 90, 90, 90, 90, 90, 90, 90, 90, 90, 90, 90, 90, 90, 90, 90, 90, 90, 90, 90, 90, 90, 90, 90, 90, 90, 90, 90, 90, 90, 90, 90, 90, 90, 90, 90, 90, 90, 90, 90, 90, 90, 90, 90, 90, 90, 90, 90, 90, 90, 90, 90, 90, 90, 90, 90, 90, 90, 90, 90, 90, 90, 90, 90, 90, 90, 90, 90, 90, 90, 90, 90, 90, 90, 90, 90, 90, 90, 90, 90, 90, 90, 90, 90, 90, 90, 90, 90, 90, 90, 90, 90, 90, 90, 90, 90, 90, 90, 90, 90, 90, 90, 90, 90, 90, 90, 90, 90, 90, 90, 90, 90, 90, 90, 90, 90, 90, 90, 90, 90, 90, 90, 90, 90, 90, 90, 90, 90, 90, 90, 90, 90, 90, 90, 90, 90, 90, 90, 90, 90, 90, 90, 90, 90, 90, 90, 90, 90, 90, 90, 90, 90, 90, 90, 90, 90, 90, 90, 90, 90, 90, 90, 90, 90, 90, 90, 90, 90, 90, 90, 90, 90, 90, 90, 90, 90, 90, 90, 90, 90, 90, 90, 90, 90, 90, 90, 90, 90, 90, 90, 90, 90, 90, 90, 90, 90, 90, 90, 90, 90, 90, 90, 90, 90, 90, 90, 90, 90, 90, 90, 90, 90, 90, 90, 90, 90, 90, 90, 90, 90, 90, 90, 90, 90, 90, 90, 90, 90, 90, 90, 90, 90, 90, 90, 90, 90, 90, 90, 90, 90, 90, 90, 90, 90, 90, 90, 90, 90, 90, 90, 90, 90, 90, 90, 90, 90, 90, 90, 90, 90, 90, 90, 90, 90, 90, 90, 90, 90, 90, 90, 90, 90, 90, 90, 90, 90, 90, 90, 90, 90, 90, 90, 90, 90, 90, 90, 90, 90, 90, 90, 90, 90, 90, 90, 90, 90, 90, 90, 90, 90, 90, 90, 90, 90, 90, 90, 90, 90, 90, 90, 90, 90, 90, 90, 90, 90, 90, 90, 90, 90, 90, 90, 90, 90, 90, 90, 90, 90, 90, 90, 90, 90, 90, 90, 90, 90, 90, 90, 90, 90, 90, 90, 90, 90, 90, 90, 90, 90, 90, 90, 90, 90, 90, 90, 90, 90, 90, 90, 90, 90, 90, 90, 90, 90, 90, 90, 90, 90, 90, 90, 90, 90, 90, 90, 90, 90, 90, 90, 90, 90, 90, 90, 90, 90, 90, 90, 90, 90, 90, 90, 90, 90, 90, 90, 90, 90, 90, 90, 90, 90, 90, 90, 90, 90, 90, 90, 90, 90, 90, 90, 90, 90, 90, 90, 90, 90, 90, 90, 90, 90, 90, 90, 90, 90, 90, 90, 90, 90, 90, 90, 90, 90, 90, 90, 90, 90, 90, 90, 90, 90, 90, 90, 90, 90, 90, 90, 90, 90, 90, 90, 90, 90, 90, 90, 90, 90, 90, 90, 90, 90, 90, 90, 90, 90, 90, 90, 90, 90, 90, 90, 90, 90, 90, 90, 90, 90, 90, 90, 90, 90, 90, 90, 90, 90, 90, 90, 90, 90, 90, 90, 90, 90, 90, 90, 90, 90, 90, 90, 90, 90, 90, 90, 90, 90, 90, 90, 90, 90, 90, 90, 90, 90, 90, 90, 90, 90, 90, 90, 90, 90, 90, 90, 90, 90, 90, 90, 90, 90, 90, 90, 90, 90, 90, 90, 90, 90, 90, 90, 90, 90, 90, 90, 90, 90, 90, 90, 90, 90, 90, 90, 90, 90, 90, 90, 90, 90, 90, 90, 90, 90, 90, 90, 90, 90, 90, 90, 90, 90, 90, 90, 90, 90, 90, 90, 90, 90, 90, 90, 90, 90, 90, 90, 90, 90, 90, 90, 90, 90, 90, 90, 90, 90, 90, 90, 90, 90, 90, 90, 90, 90, 90, 90, 90, 90, 90, 90, 90, 90, 90, 90, 90, 90, 90, 90, 90, 90, 90, 90, 90, 90, 90, 90, 90, 90, 90, 90, 90, 90, 90, 90, 90, 90, 90, 90, 90, 90, 90, 90, 90, 90, 90, 90, 90, 90, 90, 90, 90, 90, 90, 90, 90, 90, 90, 90, 90, 90, 90, 90, 90, 90, 90, 90, 90, 90, 90, 90, 90, 90, 90, 90, 90, 90, 90, 90, 90, 90, 90, 90, 90, 90, 90, 90, 90, 90, 90, 90, 90, 90, 90, 90, 90, 90, 90, 90, 90, 90, 90, 90, 90, 90, 90, 90, 90, 90, 90, 90, 90, 90, 90, 90, 90, 90, 90, 90, 90, 90, 90, 90, 90, 90, 90, 90, 90, 90, 90, 90, 90, 90, 90, 90, 90, 90, 90, 90, 90, 90, 90, 90, 90, 90, 90, 90, 90, 90, 90, 90, 90, 90, 90, 90, 90, 90, 90, 90, 90, 90, 90, 90, 90, 90, 90, 90, 90, 90, 90, 90, 90, 90, 90, 90, 90, 90, 90, 90, 90, 90, 90, 90, 90, 90, 90, 90, 90, 90, 90, 90, 90, 90, 90, 90, 90, 90, 90, 90, 90, 90, 90, 90, 90, 90, 90, 90, 90, 90, 90, 90, 90, 90, 90, 90, 90, 90, 90, 90, 90, 90, 90, 90, 90, 90, 90, 90, 90, 90, 90, 90, 90, 90, 90, 90, 78, 78, 78, 78, 78, 78, 78, 78, 90, 90, 90, 90, 90, 90, 90, 90, 90, 90, 90, 90, 90, 87, 78, 78, 78, 78, 78, 78, 78, 78, 78, 78, 78, 78, 78, 78, 78, 78, 78, 78, 78, 78, 78, 78, 88, 90, 90, 90, 90, 90, 90, 90, 90, 90, 90, 90, 90, 90, 90, 90, 90, 90, 90, 90, 90, 90, 89, 89, 90, 90, 90, 90, 90, 90, 90, 90, 90, 90, 90, 90, 90, 90, 90, 90, 90, 90, 90, 90, 90, 90, 90, 90, 90, 90, 90, 90, 90, 90, 90, 78, 78, 78, 78, 78, 78, 78, 78, 90, 90, 90, 90, 90, 90, 90, 90, 90, 90, 90, 90, 90, 90, 90, 90, 90, 90, 90, 90, 90, 90, 90, 90, 90, 90, 90, 90, 90, 90, 90, 90, 90, 90, 90, 90, 90, 90, 90, 90, 90, 90, 90, 90, 90, 90, 90, 90, 90, 90, 90, 90, 90, 90, 90, 90, 90, 90, 90, 90, 90, 90, 90, 90, 90, 90, 90, 90, 90, 90, 90, 90, 90, 90, 90, 90, 90, 90, 90, 90, 90, 90, 90, 90, 90, 90, 90, 90, 90, 90, 90, 90, 90, 90, 90, 90, 90, 90, 90, 90, 90, 90, 90, 90, 90, 90, 90, 90, 90, 90, 90, 90, 90, 90, 90, 90, 90, 90, 90, 90, 90, 90, 90, 90, 90, 90, 90, 90, 90, 90, 90, 90, 90, 90, 90, 90, 90, 90, 90, 90, 90, 90, 90, 90, 90, 90, 90, 90, 90, 90, 90, 90, 90, 90, 90, 90, 90, 90, 90, 90, 90, 90, 90, 90, 90, 90, 90, 90, 90, 90, 90, 90, 90, 90, 90, 90, 90, 90, 90, 90, 90, 90, 90, 90, 90, 90, 90, 90, 90, 90, 90, 90, 90, 90, 90, 90, 90, 90, 90, 90, 90, 90, 90, 90, 90, 90, 90, 90, 90, 90, 90, 90, 90, 90, 90, 89, 83, 83, 83, 83, 90, 90, 90, 90, 90, 90, 90, 90, 90, 90, 90, 90, 90, 90, 90, 90, 90, 90, 90, 90, 90, 90, 90, 90, 90, 90, 90, 90, 90, 90, 90, 90, 90, 90, 90, 90, 90, 90, 90, 90, 90, 90, 90, 90, 90, 90, 90, 90, 90, 90, 90, 90, 90, 90, 90, 90, 90, 90, 90, 90, 90, 90, 90, 90, 90, 90, 90, 90, 90, 90, 90, 90, 90, 90, 90, 90, 90, 90, 90, 90, 90, 90, 90, 90, 90, 90, 90, 90, 90, 90, 90, 90, 90, 90, 90, 90, 90, 90, 90, 90, 90, 90, 90, 90, 90, 90, 90, 90, 90, 90, 90, 90, 90, 90, 90, 90, 90, 90, 90, 90, 90, 90, 90, 90, 90, 90, 90, 90, 90, 90, 90, 90, 90, 90, 90, 90, 90, 90, 90, 90, 90, 90, 90, 90, 90, 90, 90, 90, 90, 90, 90, 90, 90, 90, 90, 90, 90, 90, 90, 90, 90, 90, 90, 90, 90, 90, 90, 90, 90, 90, 90, 90, 90, 90, 90, 90, 90, 90, 90, 90, 90, 90, 90, 90, 90, 90, 90, 90, 90, 87, 87, 87, 87, 90, 87, 87, 78, 78, 78, 78, 78, 72, 72, 72, 72, 72, 72, 72, 78, 78, 78, 72, 72, 72, 72, 72, 72, 72, 72, 72, 72, 72, 72, 72, 72, 72, 72, 72, 72, 72, 72, 78, 72, 72, 62, 62, 62, 62, 74, 82, 88, 81, 82, 84, 90, 90, 90, 90, 90, 90, 90, 90, 90, 90, 90, 90, 90, 90, 90, 90, 90, 80, 80, 80, 80, 80, 84, 80, 82, 86, 83, 87, 90, 89, 88, 88, 90, 90, 90, 90, 90, 90, 88, 81, 88, 89, 82, 86, 88, 90, 90, 90, 90, 88, 88, 72, 72, 72, 72, 72, 72, 72, 72, 72, 72, 72, 72, 72, 72, 72, 72, 72, 72, 72, 72, 72, 72, 72, 72, 72, 72, 72, 62, 62, 62, 72, 72, 72, 72, 72, 72, 72, 72, 72, 78, 78, 78, 72, 72, 78, 72, 72, 72, 72, 62, 62, 62, 72, 69, 67, 67, 67, 69, 69, 78, 78, 78, 78, 78, 78, 69, 69, 69, 67, 67, 69, 69, 78, 69, 69, 69, 67, 67, 69, 69, 78, 78, 78, 78, 78, 78, 78, 78, 69, 69, 67, 67, 67, 53, 53, 45, 67, 67, 67, 67, 69, 69, 69, 69, 69, 64, 64, 67, 67, 69, 67, 67, 64, 67, 67, 67, 67, 67, 78, 67, 67, 67, 67, 67, 67, 67, 67, 67, 67, 67, 67, 64, 64, 67, 67, 67, 67, 67, 67, 67, 67, 67, 67, 67, 69, 69, 57, 53, 53, 67, 67, 78, 69, 67, 67, 67, 67, 67, 67, 67, 67, 67, 67, 67, 69, 69, 78, 78, 78, 78, 78, 78, 78, 78, 78, 67, 67, 67, 67, 67, 67, 67, 67, 67, 64, 64, 64, 67, 67, 67, 67, 67, 67, 67, 64, 67, 67, 67, 67, 67, 67, 67, 67, 67, 67, 67, 67, 67, 67, 67, 67, 58, 58, 58, 58, 57, 51, 51, 49, 47, 51, 69, 54, 44, 27, 9, 9, 10, 10, 9, 9, 17, 24, 33, 25, 27, 24, 0, 0, 0, 0, 0, 0, 0, 0, 0]\n",
            "Read name: BL060-c1-LR12.g.ab1\n",
            "Align start: 1\n",
            "Align end: 862\n",
            "Qual start: 81\n",
            "Qual end: 842\n",
            "Read sequence: cacggatgatagcttcgcgacactagcttttcagctaaccgcaaataccaaatatccgaatcaacggttcctctcgtactAAGTTGAATTACTATTGCAACAACTATTCATCAGTAGGGTAAAACTAACCTGTCTCACGACGGTCTAAACCCAGCTCACGTTCCCTATTAGTGGGTGAACAATCCAACACTTATTGAATTCTGCTTCAATATGATAGGAAGAGCCGACATCGAAGGATCAAAAAGCAACGTCGCTATGAACGCTTGGCTGCCACAAGCCAGTTATCCCTGTGGTAACTTTTCTGACACCTCTAGGCTGAAATTTCCAGCGACTAAAGGATCGATAGGCCACACTTTCATGGTTTGTATTCACACTGAAAATCAAAATCAAGGGGACTTTTACCCTTTTGTTCTACACGAGATTTCTGTTCTCGTTGAGTCCCCCTTAGGACACCTGCGTTATCTTTTAACAGATGTGCCGCCCCAGCCAAACTCCCCACCTGACAATGTCTTTGACGTAGATCACCACACAAAGGTGGCTTAACGCGAGAAAGTGGGATTGCTCCCAGTTCTACTCCATCAAATAAGTAAAAAAACGATAAGGGTAGTGGTATTTCACCGTCGCCGAAGCTCCCACTTATTCTACACCCCCTATGTCTTTTCACAATGTCAAACTAGAGTCAAGCTCAACAGGGTCTTCTTTCCCCGCTGATTTTgcccaGCCCGTTCCCTTGGCTGTGGTTTCGCTAGATAGTAGATAGGGACAGTGGGAATCTCgtttaTCCATTCATGCGCGTCACTAATTAGATGACGAGGCATTTGGCTACCTTAAGAGAGTCATAGTTACTCCCGCCGTTTACCcg\n",
            "==========================================\n",
            "Read name: BL060-c1-LR11.g.ab1\n",
            "Align start: 8\n",
            "Align end: 880\n",
            "Qual start: 11\n",
            "Qual end: 807\n",
            "Read sequence: ctttctgacCTCTAGGCTGAA*TTTCCAGCGACTAAAGGATCGATAGGCCACACTTTCATGGTTTGTATTCACACTGAAAATCAAAATCAAGGGGACTTTTACCCTTTTGTTCTACACGAGATTTCTGTTCTCGTTGAGTCCCCCTTAGGACACCTGCGTTATCTTTTAACAGATGTGCCGCCCCAGCCAAACTCCCCACCTGACAATGTCTTTGACGTAGATCACCACACAAAGGTGGCTTAACGCGAGAAAGTGGGATTGCTCCCAGTTCTACTCCATCAAATAAGTAAAAAAACGATAAGGGTAGTGGTATTTCACCGTCGCCGAAGCTCCCACTTATTCTACACCCCCTATGTCTTTTCACAATGTCAAACTAGAGTCAAGCTCAACAGGGTCTTCTTTCCCCGCTGATTTTGCCAAGCCCGTTCCCTTGGCTGTGGTTTCGCTAGATAGTAGATAGGGACAGTGGGAATCTCGTTAATCCATTCATGCGCGTCACTAATTAGATGACGAGGCATTTGGCTACCTTAAGAGAGTCATAGTTACTCCCGCCGTTTACCCGCGCTTGGTTGAATTTCTTCACTTTGACATTCAGAGCACTGGGCAGAAATCACTTTGCGTCAACACCACTTTCTGGCCATCGCAAAGCTATGTTTTAATTAGACAGTCAGATTCCCCTTGTCCGTACCAGTTCTAAGTTAGTTGTTAATTGTATACCAGTAGCTACAAGTTTTATGCGCAGATACCCAAAGAGAGGCCCACTTTTTCAAAAAAAAATAAATTCTTTTTGGTCCAGTAGTCCTTTCTTAGGTTTCTGGatttncaaca*gcagcaca*tataccccacccttagagccaatccttttcccggagttacg\n",
            "==========================================\n",
            "Read name: BL060-c1-LR9.g.ab1\n",
            "Align start: 4\n",
            "Align end: 864\n",
            "Qual start: 7\n",
            "Qual end: 840\n",
            "Read sequence: cacccaCTTTCTGGCCATCGCAAAGCTATGTTTTAATTAGACAGTCAGATTCCCCTTGTCCGTACCAGTTCTAAGTTAGTTGTTAATTGTATACCAGTAGCTACAAGTTTTATGCGCAGATACCCAAAGAGAGGCCCACTTTTTCAAAAAAAAATAAATTCTTTTTGGTCCAGTAGTCCTTTCTTAGGTTTCTGGATT**CAACAAGCAGCACAATATACCCAACCCTTAGAGCCAATCCTTTTCCCGAAGTTACGGATCTAATTTGCCGACTTCCCT*TATCTACATTATTCTATCAACTA*GAGGCTGTTCACCTTGGAGACCTGCTGCGGTTATGAGTACGACCAGGCATGAAGATGAAATTCTTTCCCTTGGATTTTCAAGGGCCGTCAAGAGCGCACCGGACAAAGCAAATTGCTCTGCTCTACCAAACATTGAACCCTATCTCCAGGTAATCTGATTTCAGGGTAAATTAGTCTGTTAAGAAGAAAAGAGAACTCTTCCCAGGGCTCTTGCTGGCGTCTCCAAGTTCATTTGCGTTACCGCAACACCCATATCCTGGTTCCGGAATATTAACCGGATTCCCTTTCGATAGGACGGTGCTAAAATAAAATAGCACAACTTTAAAACGGAGTTAACCTATCTCTTAGGATCGACTAACCCATGTCCAACTGCTGTTCACATGGAACCTTTCTCCACTTCAGTCTTCAAAGTTCTCATTTGAATATTTGCTACTACCACCAAGATCTGCACTAGAGGCAGTTTCACTCA*GGCTTACGCCCAAAGCTTCTTCACTACCTCCACGTCCGCCTACTCGtcgagGCATCGCATTTACCTTGACGGTTGAGTATAGGTAGCACgc\n",
            "==========================================\n",
            "Read name: BL060-c1-LR17R.b.ab1\n",
            "Align start: 1\n",
            "Align end: 861\n",
            "Qual start: 63\n",
            "Qual end: 857\n",
            "Read sequence: ctaattggccgact*ccctataTCTACATTATTCTATCAActaagAGGCTGTtcccctTGGAGACCTGCTGCGGTTATGAGTACGACCAGGCATGAAGATGAaa*tcTTTCCCTTGGatttcaaagGGCCGTCAAGAGCGCACCGGACAAAGCAAATTGCTCTGCTCTACCAAACATTGAACCCTATCTCCAGGTAATCTGATTTCAGGGTAAATTAGTCTGTTAAGAAGAAAAGAGAACTCTTCCCAGGGCTCTTGCTGGCGTCTCCAAGTTCATTTGCGTTACCGCAACACCCATATCCTGGTTCCGGAATATTAACCGGATTCCCTTTCGATAGGACGGTGCTAAAATAAAATAGCACAACTTTAAAACGGAGTTAACCTATCTCTTAGGATCGACTAACCCATGTCCAACTGCTGTTCACATGGAACCTTTCTCCACTTCAGTCTTCAAAGTTCTCATTTGAATATTTGCTACTACCACCAAGATCTGCACTAGAGGCAGTTTCACTCA*GGCTTACGCCCAAAGCTTCTTCACTACCTCCACGTCCGCCTACTCGTCAAGGCATCGCATTTACCTTGACGGTTGAGTATAGGTAGCACGCTTAAGCGCCATCCATTTTCAGGGCTAGTTCATTCGGCAGGTGAGTTGTTACACACTCCTTAGCGGATTCCGACTTCCATGGCCACCGTCCTGCTGTCTAGATGAACTAACACCTTTTGTGGTGTCTAAATGAGCGTGCATTCTGGCACCTTAA*CTCAACGTTCGGTTCATCCCGCATCGCCAGTTCTGCTTACCAAAAATGGCCCACTAGAAACTCACATTCGAAAGGGTT*CAAGGTTCAAT*AAGCAACCTgact\n",
            "==========================================\n",
            "Read name: BL060-LR8.5.g.ab1\n",
            "Align start: 1\n",
            "Align end: 877\n",
            "Qual start: 13\n",
            "Qual end: 729\n",
            "Read sequence: tgCTGCGGTTATGAGTACGACCAGGCATGAAGATGAAATTCTTTCCCTTGGATTTTCAAGGGCCGTCAAGAGCGCACCGGACAAAGCAAATTGCTCTGCTCTACCAAACATTGAACCCTATCTCCAGGTAATCTGATTTCAGGGTAAATTAGTCTGTTAAGAAGAAAAGAGAACTCTTCCCAGGGCTCTTGCTGGCGTCTCCAAGTTCATTTGCGTTACCGCAACACCCATATCCTGGTTCCGGAATATTAACCGGATTCCCTTTCGATAGGACGGTGCTAAAATAAAATAGCACAACTTTAAAACGGAGTTAACCTATCTCTTAGGATCGACTAACCCATGTCCAACTGCTGTTCACATGGAACCTTTCTCCACTTCAGTCTTCAAAGTTCTCATTTGAATATTTGCTACTACCACCAAGATCTGCACTAGAGGCAGTTTCACTCA*GGCTTACGCCCAAAGCTTCTTCACTACCTCCACGTCCGCCTACTCGTCAAGGCATCGCATTTACCTTGACGGTTGAGTATAGGTAGCACGCTTAAGCGCCATCCATTTTCAGGGCTAGTTCATTCGGCAGGTGAGTTGTTACACACTCCTTAGCGGATTCCGACTTCCATGGCCACCGTCCTGCTGTCTAGATGAACTAACACCTTTTGTGGTGTCTAAATGAGCGTGCATTCTGGCACCTtaaactC*ACGTTCGGTTCATCCCGCATCGCCAGTTCTGcttnaccaAAAtGGCCCACTAGAAACTCACATTCGAAAGGgtttcagggntcattt*agCAACCTGAActttctaCATATTTAAaggttgAGAATAGGTTAagggtgtttttcacctaangnctctaatcatt*gcttttactcataaa\n",
            "==========================================\n",
            "Read name: BL060-LR3R.b.ab1\n",
            "Align start: 1\n",
            "Align end: 874\n",
            "Qual start: 65\n",
            "Qual end: 874\n",
            "Read sequence: ctCTTAGGATCGACTAACCCATGTCCAACTGCTGTTCACATGga*cCTTTCTCCACTTCAGTCTTCAAAGTTCTCATtgaaatATTTGCTACTACCACCAAGATCTGCACTAGAGGCAGTTTCACTCA*GGCTTACGCCCAAAGCTTCTTCACTACCTCCACGTCCGCCTACTCGTCAAGGCATCGCATTTACCTTGACGGTTGAGTATAGGTAGCACGCTTAAGCGCCATCCATTTTCAGGGCTAGTTCATTCGGCAGGTGAGTTGTTACACACTCCTTAGCGGATTCCGACTTCCATGGCCACCGTCCTGCTGTCTAGATGAACTAACACCTTTTGTGGTGTCTAAATGAGCGTGCATTCTGGCACCTTAA*CTCAACGTTCGGTTCATCCCGCATCGCCAGTTCTGCTTACCAAAAATGGCCCACTAGAAACTCACATTCGAAAGGGTT*CAAGGTTCAATTAAGCAACCTGAACTTCTTACATATTTAAAGTTTGAGAATAGGTTAAGGTTGTTTCAACCCTAAGGCCTCTAATCATTCGCTTTACCTCATAAAACTGAGTATTGAGTTTCTGCTATCCTGAGGGAAACTTCGGCGGAAACCAGCTACTAGATGGTTCGATTAGTCTTTCGCCCCTATACCCAAATTTGACGATCGATTTGCACGTCAGAATCGCTACGAGCTTCCACCAGAGTTTCCTCTGGCTTCACCCTATTCAGGCATAGTTCACCATCTTTCGGGTCCTAACAAATACGCTCTTGCTCAGACCAATAACTTAATAAAGTTAATAAGCCGGCCGATGGTGCTCCTTTTTTTAATTGGGGATCCCATCTTTTTACTTTCATTTCGCGTATGGGTTTT*CACCCAAac\n",
            "==========================================\n",
            "Read name: BL060-c1-LR3R.b.ab1\n",
            "Align start: 1\n",
            "Align end: 863\n",
            "Qual start: 73\n",
            "Qual end: 862\n",
            "Read sequence: CCaTGTCCAACTGCTGTTCACATGgancctTTCTCCACTTCAGTCTTCAAAGTTCTCATTTGAATattgnctACTACCACCAAGATCTGCACTAGAGGCAGTTTCACTCA*GGCTTACGCCCAAAGCTTCTTCACTACCTCCACGTCCGCCTACTCGTCAAGGCATCGCATTTACCTTGACGGTTGAGTATAGGTAGCACGCTTAAGCGCCATCCATTTTCAGGGCTAGTTCATTCGGCAGGTGAGTTGTTACACACTCCTTAGCGGATTCCGACTTCCATGGCCACCGTCCTGCTGTCTAGATGAACTAACACCTTTTGTGGTGTCTAAATGAGCGTGCATTCTGGCACCTTAA*CTCAACGTTCGGTTCATCCCGCATCGCCAGTTCTGCTTACCAAAAATGGCCCACTAGAAACTCACATTCGAAAGGGTT*CAAGGTTCAATTAAGCAACCTGAACTTCTTACATATTTAAAGTTTGAGAATAGGTTAAGGTTGTTTCAACCCCAAGGCCTCTAATCATTCGCTTTACCTCATAAAACTGAGTATTGAGTTTCTGCTATCCTGAGGGAAACTTCGGCGGAAACCAGCTACTAGATGGTTCGATTAGTCTTTCGCCCCTATACCCAAATTTGACGATCGATTTGCACGTCAGAATCGCTACGAGCTTCCACCAGAGTTTCCTCTGGCTTCACCCTATTCAGGCATAGTTCACCATCTTTCGGGTCCTAACAAATACGCTCTTGCTCAGACCAATAACTTAATAAAGTTAATAAGCCGGCCGATGGTGCTCCTTTTTTTAATTGGGGATCCCATCTTTTTACTTTCATTTCGCGTATGGG*TTTTCACCCAAACACTCGCga\n",
            "==========================================\n",
            "Read name: BL060-LR3R.b.ab1\n",
            "Align start: 442\n",
            "Align end: 854\n",
            "Qual start: 548\n",
            "Qual end: 847\n",
            "Read sequence: agaaagaggaaaaagaagaaagagggagagggaaggaaggaaggaaaaagaagaaagaagagagaagaggaaaagggaggagaagaagaaggagg*agagaggaaggaggagaaaagaaagaagggagagggagaaaggaaggaaagagagaaaaggaagaaggaaagaaagagaaggagaaaaaagagagaaggagaaaaagaaggaggaagggagggaaggggnaagaaaanngtgaaggaaaggggaagaaggagggaaaaaaaaaggggaggaaagggaaaaaagggtgagggaaagaaaggaaaaaggagganaaannaaaannaanaaanngan*nnnnanngnnnnnnnnnnnnnnnnnnnnnnnnnnnnnnnnnnnnnnnnnnnnnnnnnnnnnnnnnnnnnnnnnnnnna*nnnnnnannnnnnnnnnnnnngnnnnnnnnnnnnnnnnnnnnnnnnnnnnnnnnnnnnnnnnnnnnnnnnnnnnnnnnnnnnnnnnnnnnnnnnnnnnnnnnnnnnnnnnnnnnnnnnnnnntnntttcCTGAGGGAAACTTCGGCGGAAACCAGCTACTAGATGGTTCGATTAGTCTTTCGCCCCTATACCCAAATTTGACGATCGATTTGCACGTCAGAATCGCTACGAGCTTCCACCAGAGTTTCCTCTGGCTTCACCCTATTCAGGCATAGTTCACCATCTTTCGGGTCCTAACAAATACGCTCTTGCTCAGACCAATAACTTAATAAAGTTAATAAGCCGGCCGATGGTGCTCCTTTTTTTAATTGGGGATCCCATCTTTTTACTTTCATTTCGCGTATGGG*TTTTCACCCAAACACTCGCgtctttgctc\n",
            "==========================================\n",
            "Read name: BL060-c1-LR7.g.ab1\n",
            "Align start: 1\n",
            "Align end: 798\n",
            "Qual start: 20\n",
            "Qual end: 798\n",
            "Read sequence: agTttc*ctcagggctt*cGCCCAAAGCTTCTTCACTACCTCCACGTCCGCCTACTCGTCAAGGCATCGCATTTACCTTGACGGTTGAGTATAGGTAGCACGCTTAAGCGCCATCCATTTTCAGGGCTAGTTCATTCGGCAGGTGAGTTGTTACACACTCCTTAGCGGATTCCGACTTCCATGGCCACCGTCCTGCTGTCTAGATGAACTAACACCTTTTGTGGTGTCTAAATGAGCGTGCATTCTGGCACCTTAA*CTCAACGTTCGGTTCATCCCGCATCGCCAGTTCTGCTTACCAAAAATGGCCCACTAGAAACTCACATTCGAAAGGGTT*CAAGGTTCAATTAAGCAACCTGAACTTCTTACATATTTAAAGTTTGAGAATAGGTTAAGGTTGTTTCAACCCCAAGGCCTCTAATCATTCGCTTTACCTCATAAAACTGAGTATTGAGTTTCTGCTATCCTGAGGGAAACTTCGGCGGAAACCAGCTACTAGATGGTTCGATTAGTCTTTCGCCCCTATACCCAAATTTGACGATCGATTTGCACGTCAGAATCGCTACGAGCTTCCACCAGAGTTTCCTCTGGCTTCACCCTATTCAGGCATAGTTCACCATCTTTCGGGTCCTAACAAATACGCTCTTGCTCAGACCAATAACTTAATAAAGTTAATAAGCCGGCCGATGGTGCTCCTTTTTTTAATTGGGGATCCCATCTTTTTACTTTCATTTCGCGTATGGGTTTTTCACCCAAACACTCGCGTATTTGGTAGACTCCTTGGTCCGTGTTTCAAGAcxxxxxxxxxxxxxxxxxxxxxxxxxxxxxxxxxxxxxxxxxxxxxxxxxxxxxxxxxxxxxxxxxxxxxxxxxxxxxxxx\n",
            "==========================================\n",
            "Read name: BL060-LR7.g.ab1\n",
            "Align start: 4\n",
            "Align end: 765\n",
            "Qual start: 14\n",
            "Qual end: 765\n",
            "Read sequence: ggctaCGCCc*aaGCTTCTTCACTACCTCCACGTCCGCCTACTCGTCAAGGCATCGCATTTACCTTGACGGTTGAGTATAGGTAGCACGCTTAAGCGCCATCCATTTTCAGGGCTAGTTCATTCGGCAGGTGAGTTGTTACACACTCCTTAGCGGATTCCGACTTCCATGGCCACCGTCCTGCTGTCTAGATGAACTAACACCTTTTGTGGTGTCTAAATGAGCGTGCATTCTGGCACCTTAA*CTCAACGTTCGGTTCATCCCGCATCGCCAGTTCTGCTTACCAAAAATGGCCCACTAGAAACTCACATTCGAAAGGGTT*CAAGGTTCAATTAAGCAACCTGAACTTCTTACATATTTAAAGTTTGAGAATAGGTTAAGGTTGTTTCAACCCTAAGGCCTCTAATCATTCGCTTTACCTCATAAAACTGAGTATTGAGTTTCTGCTATCCTGAGGGAAACTTCGGCGGAAACCAGCTACTAGATGGTTCGATTAGTCTTTCGCCCCTATACCCAAATTTGACGATCGATTTGCACGTCAGAATCGCTACGAGCTTCCACCAGAGTTTCCTCTGGCTTCACCCTATTCAGGCATAGTTCACCATCTTTCGGGTCCTAACAAATACGCTCTTGCTCAGACCAATAACTTAATAAAGTTAATAAGCCGGCCGATGGTGCTCCTTTTTTTAATTGGGGATCCCATCTTTTTACTTTCATTTCGCGTATGGGTTTTTCACCCAAACACTCGCGTATTTGGTAGACtcttgcccggtgtgtttaaaaacaaaannnnncnttttttcgctttttgntgtgntcggttttgctgttcttgtttggctttgtttccctttcgtgggagggcctgttggcgttgcg\n",
            "==========================================\n",
            "Read name: BL060c5-LR5.g.ab1\n",
            "Align start: 1\n",
            "Align end: 871\n",
            "Qual start: 12\n",
            "Qual end: 767\n",
            "Read sequence: ggtTCGATTAGTCTTTCGCCCCTAt*ccCAAATTTGACGATCGATTTGCACGTCAGAATCGCTACGAGCTTCCACCAGAGTTTCCTCTGGCTTCACCCTATTCAGGCATAGTTCACCATCTTTCGGGTCCTAACAAATACGCTCTTGCTCAGACCAATAACTTAATAAAGTTAATAAGCCGGCCGATGGTGCTCCTTTTTTTAATTGGGGATCCCATCTTTTTACTTTCATTTCGCGTATGGGTTTTTCACCCAAACACTCGCGTATTTGGTAGACTCCTTGGTCCGTGTTTCAAGACGGGTCGATTAAAACCGTTTAGTCAACATCCTTTGTGCAAAAGTTAAAAACTTTTAAGAGATAAAAATTTACAAGAGCAACAGCTTATATACCAACCATCTGACTTTGAAAAGCCAGCTAAAATCAGTCATAAACCAATTGACAAGTAAACATCTCTGCCCCACCACCCCCTTGGAACAGGAGGAAGAAGGGTACACAGCAAACCTCAATCTTAATCAGTGTATAAAAATCAAAGTCTATAACACTTGAATCAAAAGAGTTTCAAGCTACCTTCCAATGATCTTTTTCCACCAATCAAAATTGATGTTGACTCTCTACCATTAGAGGGCCAGCCTAACAAGTAAATATTTTTAACAAGCAATGAGTTTTAACACATCAAAACTCGTAAAATATTACTTATTTAAAAAGCTGGATCTAAATAGTAAAATCCAACAGTTCCAAGCGTTTCCCTTTCAGCAATTTC*ACGTACtttttaCtctncttTCaaangtcTTTTCATCTTtcccctcgcg*tACTTGTTCGCTATCGGTCTCTTGCCAATATTTAGCTTTGGATGAAATTTACCACCCatt\n",
            "==========================================\n",
            "Read name: BL060c2-LR5.g.ab1\n",
            "Align start: 10\n",
            "Align end: 835\n",
            "Qual start: 11\n",
            "Qual end: 757\n",
            "Read sequence: ggttcatatgTCTTTCGCCCCTATa*cCAAATTTGACGATCGATTTGCACGTCAGAATCGCTACGAGCTTCCACCAGAGTTTCCTCTGGCTTCACCCTATTCAGGCATAGTTCACCATCTTTCGGGTCCTAACAAATACGCTCTTGCTCAGACCAATAACTTAATAAAGTTAATAAGCCGGCCGATGGTGCTCCTTTTTTTAATTGGGGATCCCATCTTTTTACTTTCATTTCGCGTATGGGTTTTTCACCCAAACACTCGCGTATTTGGTAGACTCCTTGGTCCGTGTTTCAAGACGGGTCGATTAAAACCGTTTAGTCAACATCCTTTGTGCAAAAGTTAAAAACTTTTAAGAGATAAAAATTTACAAGAGCAACAGCTTATATACCAACCATCTGACTTTGAAAAGCCAGTTAAAATCAGTCATAAACCAATTGACAAGTAAACATCTCTGCCCCACCACCCCCTTGGAACAGGAGGAAGAAGGGTACACAGCAAACCTCAATCTTAATCAGTGTATAAAAATCAAAGTCTATAACACTTGAATCAAAAGAGTTTCAAGCTACCTTCCAATGATCTTTTTCCACCAATCAAAATTGATGTTGACTCTCTACCATTAGAGGGCCAGCCTAACAAGTAAATATTTTTAACAAGCAATGAGTTTTAACACATCAAAACTCGTAAAATATTACTTATTTAAAAAGCTGGATCTAAATAGTAAAATCCAACAGTTCCAAGCGTTTCCCTTTCAGCAATTtcnacGTACTTTTA*CTCTCTTTTCAAAg*tcTTTTCATctt*ccC*TCACGGTACTTGTTCGCTATCGGTCTCTTGCaata\n",
            "==========================================\n",
            "Read name: BL060c5-LR0R.b.ab1\n",
            "Align start: 1\n",
            "Align end: 847\n",
            "Qual start: 94\n",
            "Qual end: 835\n",
            "Read sequence: cACTCGCGTATTtgg*agactc*ttgGTCCGTGTTTCAAGACGGGTCGATTAAAACCGTTTAGTCAACATCCTTTGTGCAAAAGTtaaaacctTTTAAGAGATAAAAATTTACAAGAGCAACAGCTTATATACCAACCATCTGACTTTGAAAAGCCAGCTAAAATCAGTCATAAACCAATTGACAAGTAAACATCTCTGCCCCACCACCCCCTTGGAACAGGAGGAAGAAGGGTACACAGCAAACCTCAATCTTAATCAGTGTATAAAAATCAAAGTCTATAACACTTGAATCAAAAGAGTTTCAAGCTACCTTCCAATGATCTTTTTCCACCAATCAAAATTGATGTTGACTCTCTACCATTAGAGGGCCAGCCTAACAAGTAAATATTTTTAACAAGCAATGAGTTTTAACACATCAAAACTCGTAAAATATTACTTATTTAAAAAGCTGGATCTAAATAGTAAAATCCAACAGTTCCAAGCGTTTCCCTTTCAGCAATTTC*ACGTACTTTTAACTCTCTTTTCAAAGTTCTTTTCATCTTTCCC*TCGCGGTACTTGTTCGCTATCGGTCTCTTGCCAATATTTAGCTTTGGATGAAATTTACCACCCATTTTGGGCTGCATTCCCAAACAACCCGACTCTTAGAAAGTGTAACACATTGCAATAAGTTTAAGAATTTAGCCAAAGACGGGATTCTCACCCTCTATGACGCCCTCTTCCAAGGGACTTAGACTAAACAACTATCACAGATAACACTTCTTCAAATTACAATTCGGAGAGAGAATAAACTCCCCCAGATTCCAAATTTGAGCTCTTCCCGCTTCACTCGCCGttactagGGGaacccctgca\n",
            "==========================================\n",
            "Read name: BL060c2-LR0R.b.ab1\n",
            "Align start: 1\n",
            "Align end: 852\n",
            "Qual start: 33\n",
            "Qual end: 831\n",
            "Read sequence: cgCGTa*tTGGTAGACtc*ttggtcngtg*ttcaAGACGGGTCGATtaaa*ccGTTTAGTCAACATCCTTTGTGCAAAAGTtaaaa*ctTTTAAGAGATAAAAATTTACAAGAGCAACAGCTTATATACCAACCATCTGACttgnaaAAGCCAGTTAAAATCAGTCATAAACCAATTGACAAGTAAACATCTCTGCCCCACCACCCCCTTGGAACAGGAGGAAGAAGGGTACACAGCAAACCTCAATCTTAATCAGTGTATAAAAATCAAAGTCTATAACACTTGAATCAAAAGAGTTTCAAGCTACCTTCCAATGATCTTTTTCCACCAATCAAAATTGATGTTGACTCTCTACCATTAGAGGGCCAGCCTAACAAGTAAATATTTTTAACAAGCAATGAGTTTTAACACATCAAAACTCGTAAAATATTACTTATTTAAAAAGCTGGATCTAAATAGTAAAATCCAACAGTTCCAAGCGTTTCCCTTTCAGCAATTTC*ACGTACTTTTAACTCTCTTTTCAAAGTTCTTTTCATCTTTCCC*TCACGGTACTTGTTCGCTATCGGTCTCTTGCCAATATTTAGCTTTGGATGAAATTTACCACCCATTTTGGGCTGCATTCCCAAACAACCCGACTCTTAGAAAGTGTAACACATTGCAATAAGTTTAAGAATTTAGCCAAAGACGGGATTCTCACCCTCTATGACGCCCTCTTCCAAGGGACTTAGACTAAACAACTATCACAGATAACACTTCTTCAAATTACAATTCGGAGAGAGAATAAACTCCCCCAGATTCCAAATTTGAGCTCTTCCCGCTTCACTCGCCGttactagGGGAAtccttgtag\n",
            "==========================================\n"
          ],
          "name": "stdout"
        }
      ]
    },
    {
      "cell_type": "markdown",
      "metadata": {
        "id": "XliMT4Iwqp6o",
        "colab_type": "text"
      },
      "source": [
        "**Listing 9.18:** Retrieve data from a SwissProt file"
      ]
    },
    {
      "cell_type": "code",
      "metadata": {
        "id": "XhtdXWnBqp6o",
        "colab_type": "code",
        "outputId": "dd3d0698-738f-40e1-bb21-e5fabd100699",
        "colab": {}
      },
      "source": [
        "from Bio import SwissProt\n",
        "with open('samples/spfile.txt') as fh:\n",
        "        records = SwissProt.parse(fh)\n",
        "        for record in records:\n",
        "            print('Entry name: %s' % record.entry_name)\n",
        "            print('Accession(s): %s' % ','.join(record.accessions))\n",
        "            print('Keywords: %s' % ','.join(record.keywords))\n",
        "            print('Sequence: %s' % record.sequence)"
      ],
      "execution_count": 0,
      "outputs": [
        {
          "output_type": "stream",
          "text": [
            "Entry name: 6PGL_ECOLC\n",
            "Accession(s): B1IXL9\n",
            "Keywords: Acetylation,Carbohydrate metabolism,Glucose metabolism,Hydrolase\n",
            "Sequence: MKQTVYIASPESQQIHVWNLNHEGALTLTQVVDVPGQVQPMVVSPDKRYLYVGVRPEFRVLAYRIAPDDGALTFAAESALPGSPTHISTDHQGQFVFVGSYNAGNVSVTRLEDGLPVGVVDVVEGLDGCHSANISPDNRTLWVPALKQDRICLFTVSDDGHLVAQDPAEVTTVEGAGPRHMVFHPNEQYAYCVNELNSSVDVWELKDPHGNIECVQTLDMMPENFSDTRWAADIHITPDGRHLYACDRTASLITVFSVSEDGSVLSKEGFQPTETQPRGFNVDHSGKYLIAAGQKSHHISVYEIVGEQGLLHEKGRYAVGQGPMWVVVNAH\n"
          ],
          "name": "stdout"
        }
      ]
    },
    {
      "cell_type": "markdown",
      "metadata": {
        "id": "vXVXleQbqp6q",
        "colab_type": "text"
      },
      "source": [
        "**Listing 9.19:** Attributes of a SwissProt record"
      ]
    },
    {
      "cell_type": "code",
      "metadata": {
        "id": "DVwtEso6qp6q",
        "colab_type": "code",
        "outputId": "f5cde5f3-429d-4fb1-e659-8ef15eb9db8d",
        "colab": {}
      },
      "source": [
        "from Bio import SwissProt\n",
        "with open('samples/spfile.txt') as fh:\n",
        "    record = next(SwissProt.parse(fh))\n",
        "    for att in dir(record):\n",
        "        if not att.startswith('__'):\n",
        "                print(att, getattr(record,att))"
      ],
      "execution_count": 0,
      "outputs": [
        {
          "output_type": "stream",
          "text": [
            "accessions ['B1IXL9']\n",
            "annotation_update ('05-JUL-2017', 0)\n",
            "comments ['FUNCTION: Catalyzes the hydrolysis of 6-phosphogluconolactone to 6-phosphogluconate. {ECO:0000255|HAMAP-Rule:MF_01605}.', 'CATALYTIC ACTIVITY: 6-phospho-D-glucono-1,5-lactone + H(2)O = 6- phospho-D-gluconate. {ECO:0000255|HAMAP-Rule:MF_01605}.', 'PATHWAY: Carbohydrate degradation; pentose phosphate pathway; D- ribulose 5-phosphate from D-glucose 6-phosphate (oxidative stage): step 2/3. {ECO:0000255|HAMAP-Rule:MF_01605}.', 'SIMILARITY: Belongs to the cycloisomerase 2 family. {ECO:0000255|HAMAP-Rule:MF_01605}.']\n",
            "created ('20-MAY-2008', 0)\n",
            "cross_references [('EMBL', 'CP000946', 'ACA78522.1', '-', 'Genomic_DNA'), ('RefSeq', 'WP_000815435.1', 'NC_010468.1'), ('ProteinModelPortal', 'B1IXL9', '-'), ('SMR', 'B1IXL9', '-'), ('EnsemblBacteria', 'ACA78522', 'ACA78522', 'EcolC_2895'), ('KEGG', 'ecl:EcolC_2895', '-'), ('eggNOG', 'ENOG4105HHQ', 'Bacteria'), ('eggNOG', 'COG2706', 'LUCA'), ('HOGENOM', 'HOG000257418', '-'), ('KO', 'K07404', '-'), ('OMA', 'TANYHKG', '-'), ('UniPathway', 'UPA00115', 'UER00409'), ('GO', 'GO:0017057', 'F:6-phosphogluconolactonase activity', 'IEA:UniProtKB-EC'), ('GO', 'GO:0006006', 'P:glucose metabolic process', 'IEA:UniProtKB-KW'), ('GO', 'GO:0006098', 'P:pentose-phosphate shunt', 'IEA:UniProtKB-UniPathway'), ('Gene3D', '2.130.10.10', '-', '1'), ('HAMAP', 'MF_01605', '6P_gluconolactonase', '1'), ('InterPro', 'IPR022528', '6-phosphogluconolactonase_YbhE'), ('InterPro', 'IPR019405', 'Lactonase_7-beta_prop'), ('InterPro', 'IPR011045', 'N2O_reductase_N'), ('InterPro', 'IPR015943', 'WD40/YVTN_repeat-like_dom'), ('Pfam', 'PF10282', 'Lactonase', '1'), ('SUPFAM', 'SSF50974', 'SSF50974', '1')]\n",
            "data_class Reviewed\n",
            "description RecName: Full=6-phosphogluconolactonase {ECO:0000255|HAMAP-Rule:MF_01605}; Short=6-P-gluconolactonase {ECO:0000255|HAMAP-Rule:MF_01605}; EC=3.1.1.31 {ECO:0000255|HAMAP-Rule:MF_01605};\n",
            "entry_name 6PGL_ECOLC\n",
            "features [('CHAIN', 1, 331, '6-phosphogluconolactonase.', 'PRO_1000088029'), ('MOD_RES', 287, 287, 'N6-acetyllysine. {ECO:0000255|HAMAP- Rule:MF_01605}.', '')]\n",
            "gene_name Name=pgl {ECO:0000255|HAMAP-Rule:MF_01605}; OrderedLocusNames=EcolC_2895;\n",
            "host_organism []\n",
            "host_taxonomy_id []\n",
            "keywords ['Acetylation', 'Carbohydrate metabolism', 'Glucose metabolism', 'Hydrolase']\n",
            "molecule_type None\n",
            "organelle \n",
            "organism Escherichia coli (strain ATCC 8739 / DSM 1576 / Crooks).\n",
            "organism_classification ['Bacteria', 'Proteobacteria', 'Gammaproteobacteria', 'Enterobacterales', 'Enterobacteriaceae', 'Escherichia']\n",
            "references [<Bio.SwissProt.Reference object at 0x7f35d2a65c88>]\n",
            "seqinfo (331, 36308, 'D731044CFCF31A8F')\n",
            "sequence MKQTVYIASPESQQIHVWNLNHEGALTLTQVVDVPGQVQPMVVSPDKRYLYVGVRPEFRVLAYRIAPDDGALTFAAESALPGSPTHISTDHQGQFVFVGSYNAGNVSVTRLEDGLPVGVVDVVEGLDGCHSANISPDNRTLWVPALKQDRICLFTVSDDGHLVAQDPAEVTTVEGAGPRHMVFHPNEQYAYCVNELNSSVDVWELKDPHGNIECVQTLDMMPENFSDTRWAADIHITPDGRHLYACDRTASLITVFSVSEDGSVLSKEGFQPTETQPRGFNVDHSGKYLIAAGQKSHHISVYEIVGEQGLLHEKGRYAVGQGPMWVVVNAH\n",
            "sequence_length 331\n",
            "sequence_update ('29-APR-2008', 0)\n",
            "taxonomy_id ['481805']\n"
          ],
          "name": "stdout"
        }
      ]
    },
    {
      "cell_type": "markdown",
      "metadata": {
        "id": "K1Ehut51qp6t",
        "colab_type": "text"
      },
      "source": [
        "VER DE ACA PARA ABAJO SI ESTO ESTA BIEN O HABRIA QUE PONERLO ARRIBA!!!!\n",
        "-------------------"
      ]
    },
    {
      "cell_type": "markdown",
      "metadata": {
        "id": "rMi4fiheqp6t",
        "colab_type": "text"
      },
      "source": [
        "*How to download a file*"
      ]
    },
    {
      "cell_type": "code",
      "metadata": {
        "scrolled": true,
        "id": "GbrnuTVNqp6t",
        "colab_type": "code",
        "outputId": "343697d7-085b-49a6-a560-5a07e45bd282",
        "colab": {}
      },
      "source": [
        "!curl https://s3.amazonaws.com/py4bio/cas9align.fasta -o cas9align.fasta"
      ],
      "execution_count": 0,
      "outputs": [
        {
          "output_type": "stream",
          "text": [
            "  % Total    % Received % Xferd  Average Speed   Time    Time     Time  Current\n",
            "                                 Dload  Upload   Total   Spent    Left  Speed\n",
            "100 11532  100 11532    0     0   2754      0  0:00:04  0:00:04 --:--:--  2755\n"
          ],
          "name": "stdout"
        }
      ]
    },
    {
      "cell_type": "code",
      "metadata": {
        "id": "cDpJqe0rqp6v",
        "colab_type": "code",
        "outputId": "25a955ef-df07-45aa-fad4-850cedf2c843",
        "colab": {}
      },
      "source": [
        "with open('cas9align.fasta') as f_in:\n",
        "    print(f_in.read())"
      ],
      "execution_count": 0,
      "outputs": [
        {
          "output_type": "stream",
          "text": [
            ">J7M7J1\n",
            "MDKKYSIGLDIGTNSVGWAVITDDYKVPSKKFKVLGNTDRHSIKKNLIGALLFDSGETAE\n",
            "ATRLKRTARRRYTRRKNRICYLQEIFSNEMAKVDDSFFHRLEESFLVEEDKKHERHPIFG\n",
            "NIVDEVAYHEKYPTIYHLRKKLVDSTDKADLRLIYLALAHMIKFRGHFLIEGDLNPDNSD\n",
            "VDKLFIQLVQTYNQLFEENPINASGVDAKAILSARLSKSRRLENLIAQLPGEKKNGLFGN\n",
            "LIALSLGLTPNFKSNFDLAEDAKLQLSKDTYDDDLDNLLAQIGDQYADLFLAAKNLSDAI\n",
            "LLSDILRVNTEITKAPLSASMIKRYDEHHQDLTLLKALVRQQLPEKYKEIFFDQSKNGYA\n",
            "GYIDGGASQEEFYKFIKPILEKMDGTEELLVKLNREDLLRKQRTFDNGSIPHQIHLGELH\n",
            "AILRRQEDFYPFLKDNREKIEKILTFRIPYYVGPLARGNSRFAWMTRKSEETITPWNFEE\n",
            "VVDKGASAQSFIERMTNFDKNLPNEKVLPKHSLLYEYFTVYNELTKVKYVTEGMRKPAFL\n",
            "SGEQKKAIVDLLFKTNRKVTVKQLKEDYFKKIECFDSVEISGV---EDRFNASLGTYHDL\n",
            "LKIIKDKDFLDNEENEDILEDIVLTLTLFEDREMIEERLKTYAHLFDDKVMKQLKRRRYT\n",
            "GWGRLSRKLINGIRDKQSGKTILDFLKSDGFANRNFMQLIHDDSLTFKEDIQKAQVSGQG\n",
            "DSLHEHIANLAGSPAIKKGILQTVKVVDELVKVMGRHKPENIVIEMARENQTTQKGQKNS\n",
            "RERMKRIEEGIKEL----GSQILKEHPVENTQLQNEKLYLYYLQNGRDMYVDQELDINRL\n",
            "SDYDVDHIVPQSFLKDDSIDNKVLTRSDKNRGKSDNVPSEEVVKKMKNYWRQLLNAKLIT\n",
            "QRKFDNLTKAERGGLSELDKAGFIKRQLVETRQITKHVAQILDSRMNTKYDENDKLIREV\n",
            "KVITLKSKLVSDFRKDFQFYKVREINNYHHAHDAYLNAVVGTALIKKYPKLESEFVYGDY\n",
            "KVYDVRKMIAKSE--QEIGKATAKYFFYSNIMNFFKTEITLANGEIRKRPLIETNGETGE\n",
            "IVWDKGRDFATVRKVLSMPQVNIVKKTEVQTGG----FSKESILPKRN---SDKLIARK-\n",
            "--KDWDPKKYGGFDSPTVAYSVLVVAK--VEKGKSKKLKSVKELLGITIMERSSFEKNPI\n",
            "DFLEAKGYKEVKKDLIIKLPKYSLFELENG--RK-RMLAS-------AGELQKGNELALP\n",
            "SKYVNFLYLASHYEKLKGSPEDNEQKQLFVEQHKHYLDEIIEQISEFSKRVILADANLDK\n",
            "VLSAYNKHRDKPIREQAENIIHLFTLTNLGAPAAFKYFDTT--IDRKRYT------STKE\n",
            "VLDATLIHQSITGLYETRIDLSQLGGD\n",
            ">A0A0C6FZC2\n",
            "MDKKYSIGLDIGTNSVGWAVITDDYKVPSKKFKVLGNTDRHSIKKNLIGALLFDSGETAE\n",
            "ATRLKRTARRRYTRRKNRICYLQEIFSNEMAKVDDSFFHRLEESFLVEEDKKHERHPIFG\n",
            "NIVDEVAYHEKYPTIYHLRKKLVDSTDKADLRLIYLALAHMIKFRGHFLIEGDLNPDNSD\n",
            "VDKLFIQLVQTYNQLFEENPINASGVDAKAILSARLSKSRRLENLIAQLPGEKKNGLFGN\n",
            "LIALSLGLTPNFKSNFDLAEDAKLQLSKDTYDDDLDNLLAQIGDQYADLFLAAKNLSDAI\n",
            "LLSDILRVNTEITKAPLSASMIKRYDEHHQDLTLLKALVRQQLPEKYKEIFFDQSKNGYA\n",
            "GYIDGGASQEEFYKFIKPILEKMDGTEELLVKLNREDLLRKQRTFDNGSIPHQIHLGELH\n",
            "AILRRQEDFYPFLKDNREKIEKILTFRIPYYVGPLARGNSRFAWMTRKSEETITPWNFEE\n",
            "VVDKGASAQSFIERMTNFDKNLPNEKVLPKHSLLYEYFTVYNELTKVKYVTEGMRKPAFL\n",
            "SGEQKKAIVDLLFKTNRKVTVKQLKEDYFKKIECFDSVEISGV---EDRFNASLGTYHDL\n",
            "LKIIKDKDFLDNEENEDILEDIVLTLTLFEDREMIEERLKTYAHLFDDKVMKQLKRRRYT\n",
            "GWGRLSRKLINGIRDKQSGKTILDFLKSDGFANRNFMQLIHDDSLTFKEDIQKAQVSGQG\n",
            "DSLHEHIANLAGSPAIKKGILQTVKVVDELVKVMGRHKPENIVIEMARENQTTQKGQKNS\n",
            "RERMKRIEEGIKEL----GSQILKEHPVENTQLQNEKLYLYYLQNGRDMYVDQELDINRL\n",
            "SDYDVDHIVPQSFLKDDSIDNKVLTRSDKNRGKSDNVPSEEVVKKMKNYWRQLLNAKLIT\n",
            "QRKFDNLTKAERGGLSELDKAGFIKRQLVETRQITKHVAQILDSRMNTKYDENDKLIREV\n",
            "KVITLKSKLVSDFRKDFQFYKVREINNYHHAHDAYLNAVVGTALIKKYPKLESEFVYGDY\n",
            "KVYDVRKMIAKSE--QEIGKATAKYFFYSNIMNFFKTEITLANGEIRKRPLIETNGETGE\n",
            "IVWDKGRDFATVRKVLSMPQVNIVKKTEVQTGG----FSKESILPKRN---SDKLIARK-\n",
            "--KDWDPKKYGGFDSPTVAYSVLVVAK--VEKGKSKKLKSVKELLGITIMERSSFEKNPI\n",
            "DFLEAKGYKEVKKDLIIKLPKYSLFELENG--RK-RMLAS-------AGELQKGNELALP\n",
            "SKYVNFLYLASHYEKLKGSPEDNEQKQLFVEQHKHYLDEIIEQISEFSKRVILADANLDK\n",
            "VLSAYNKHRDKPIREQAENIIHLFTLTNLGAPAAFKYFDTT--IDRKRYT------STKE\n",
            "VLDATLIHQSITGLYETRIDLSQLGGD\n",
            ">A0A1C2CVQ9\n",
            "MDKKYSIGLDIGTNSVGWAVITDDYKVPSKKFKVLGNTDRHSIKKNLIGALLFDSGETAE\n",
            "ATRLKRTARRRYTRRKNRIRYLQEIFSSEMSKVDDSFFHRLEESFLVEEDKKHERHPIFG\n",
            "NIVDEVAYHEKYPTIYHLRKKLADSTDKADLRLIYLALAHMIKFRGHFLIEGDLNPDNSD\n",
            "VDKLFIQLVQTYNQLFEENPINASRVDAKAILSARLSKSRRLENLIAQLPGEKRNGLFGN\n",
            "LIALSLGLTPNFKSNFDLAEDAKLQLSKDTYDDDLDNLLAQIGDQYADLFLAAKNLSDAI\n",
            "LLSDILRVNSEITKAPLSASMIKRYDEHHQDLTLLKALVRQQLPEKYKEIFFDQSKNGYA\n",
            "GYIDGGASQEEFYKFIKPILEKMDGTEELLAKLNREDLLRKQRTFDNGSIPHQIHLGELH\n",
            "AILRRQEDFYPFLKDNREKIEKILTFRIPYYVGPLARGNSRFAWMTRKSEETITPWNFEE\n",
            "VVDKGASAQSFIERMTNFDKNLPNEKVLPKHSLLYEYFTVYNELTKVKYVTEGMRKPAFL\n",
            "SGEQKKAIVDLLFKTNRKVTVKQLKEDYFKKIECFDSVEISGV---EDRFNASLGTYHDL\n",
            "LKIIKDKDFLDNEENEDILEDIVLTLTLFEDKEMIEERLKTYAHLFDDKVMKQLKRRHYT\n",
            "GWGRLSRKLINGIRDKQSGKTILDFLKSDGFANRNFIQLIHDDSLTFKEAIQKAQVSGQG\n",
            "HSLHEQIANLAGSPAIKKGILQSVKVVDELVKVMG-HKPENIVIEMARENQTTQKGQKNS\n",
            "RERMKRIEEGIKEL----GSQILKEHPVENTQLQNEKLYLYYLQNGRDMYVDQELDINRL\n",
            "SDYDVDHIVPQSFIKDDSIDNKVLTRSDKNRGKSDNVPSEEVVKKMKNYWRQLLNAKLIT\n",
            "QRKFDNLTKAERGGLSELDKAGFIKRQLVETRQITKHVAQILDSRMNTKYDENDKLIREV\n",
            "KVITLKSKLVSDFRKDFQFYKVREINNYHHAHDAYLNAVVGTALIKKYPKLESEFVYGDY\n",
            "KVYDVRKMIAKSE--QEIGKATAKRFFYSNIMNFFKTEITLANGEIRKRPLIETNEETGE\n",
            "IVWDKGRDFATVRKVLSMPQVNIVKKTEVQTGA----LTNESIYARGS---FDKLISRK-\n",
            "--HRFESSKYGGFGSPTVTYSVLVVAKSKVQDGKVKKIKTGKELIGITLLDKLVFEKNPL\n",
            "KFIEDKGYGNVQIDKCIKLPKYSLFEFENG--TR-RMLASVMANNNSRGDLQKANEMFLP\n",
            "AKLVTLLYHAHKIESSKELE-----HEAYILDHYNDLYQLLSYIERFASLYVDVEKNISK\n",
            "VKELFSNIESYSISEICSSVINLLTLTASGAPADFKFLGTT--IPRKRYG------SPQS\n",
            "ILSSTLIHQSITGLYETRIDLSQLGGD\n",
            ">A0A1C2CV43\n",
            "MDKKYSIGLDIGTNSVGWAVITDDYKVPSKKFKVLGNTDRHSIKKNLIGALLFDSGETAE\n",
            "ATRLKRTARRRYTRRKNRIRYLQEIFSSEMSKVDDSFFHRLEESFLVEEDKKHERHPIFG\n",
            "NIVDEVAYHEKYPTIYHLRKKLADSTDKADLRLIYLALAHMIKFRGHFLIEGDLNPDNSD\n",
            "MDKLFIQLVQTYNQLFEENPINASRVDAKAILSARLSKSRRLENLIAQLPGEKRNGLFGN\n",
            "LIALSLGLTPNFKSNFDLAEDAKLQLSKDTYDDDLDNLLAQIGDQYADLFLAAKNLSDAI\n",
            "LLSDILRVNSEITKAPLSASMIKRYDEHHQDLTLLKALVRQQLPEKYKEIFFDQSKNGYA\n",
            "GYIDGGASQEEFYKFIKPILEKMDGTEELLAKLNREDLLRKQRTFDNGSIPHQIHLGELH\n",
            "AILRRQEDFYPFLKDNREKIEKILTFRIPYYVGPLARGNSRFAWMTRKSEETITPWNFEE\n",
            "VVDKGASAQSFIERMTNFDKNLPNEKVLPKHSLLYEYFTVYNELTKVKYVTEGMRKPEFL\n",
            "SGKQKEAIVDLLFKTNRKVTVKQLKEDYFKKIEYFDSVEISGV---EDRFNASLGTYHDL\n",
            "LKIIKDKDFLDNEENEDILEDIVLTLTLFEDKEMIEERLKKYANLFDDKVMKQLKRRHYT\n",
            "GWGRLSRKLINGIRDKQSGKTILDFLKSDGFANRNFMQLINDDSLTFKEAIQKAQVSGQG\n",
            "HSLHEQIANLAGSPAIKKGILQSVKVVDELVKVMG-HKPENIVIEMARENQTTQKGQKNS\n",
            "RERMKRIEEGIKEL----GSQILKEHPVENTQLQNEKLYLYYLQNGRDMYVDQELDINRL\n",
            "SDYDVDHIVPQSFIKDDSIDNKVLTRSDKNRGKSDNVPSEEVVKKMKNYWRQLLNAKLIT\n",
            "QRKFDNLTKAERGGLSELDKAGFIKRQLVETRQITKHVAQILDSRMNTKYDENDKLIREV\n",
            "KVITLKSKLVSDFRKDFQFYKVREINNYHHAHDAYLNAVVGTALIKKYPKLESEFVYGDY\n",
            "KVYDVRKMIAKSE--QEIGKATAKRFFYSNIMNFFKTEITLANGEIRKRPLIETNEETGE\n",
            "IVWDKGRDFATVRKVLSMPQVNIVKKTEVQTGA----LTNESIYARGS---FDKLISRK-\n",
            "--HRFESSKYGGFGSPTVTYSVLVVAKSKVQDGKVKKIKTGKELIGITLLDKLVFEKNPL\n",
            "KFIEDKGYGNVQIDKCIKLPKYSLFEFENG--TR-RMLASVMANNNSRGDLQKANEMFLP\n",
            "AKLVTLLYHAHKIESSKELE-----HEAYILDHYNDLYQLLSYIERFASLYVDVEKNISK\n",
            "VKELFSNIESYSISEICSSVINLLTLTASGAPADFKFLGTT--IPRKRYG------SPQS\n",
            "ILSSTLIHQSITGLYETRIDLSQLGGD\n",
            ">Q48TU5\n",
            "MDKKYSIGLDIGTNSVGWAVITDDYKVPSKKFKVLGNTDRHSIKKNLIGALLFDSGETAE\n",
            "ATRLKRTARRRYTRRKNRICYLQEIFSNEMAKVDDSFFHRLEESFLVEEDKKHERHPIFG\n",
            "NIVDEVAYHEKYPTIYHLRKKLVDSTDKADLRLIYLALAHMIKFRGHFLIEGDLNPDNSD\n",
            "VDKLFIQLVQTYNQLFEENPINASGVDAKAILSARLSKSRRLENLIAQLPGEKKNGLFGN\n",
            "LIALSLGLTPNFKSNFDLAEDAKLQLSKDTYDDDLDNLLAQIGDQYADLFLAAKNLSDAI\n",
            "LLSDILRLNSEITKAPLSASMIKRYDEHHQDLTLLKALVRQQLPEKYKEIFFDQSKNGYA\n",
            "GYIDGGASQEEFYKFIKPILEKMDGTEELLAKLNREDLLRKQRTFDNGSIPHQIHLGELH\n",
            "AILRRQEDFYPFLKDNREKIEKILTFRIPYYVGPLARGNSRFAWMTRKSEETITPWNFEE\n",
            "VVDKGASAQSFIERMTNFDKNLPNEKVLPKHSLLYEYFTVYNELTKVKYVTEGMRKPAFL\n",
            "SGEQKKAIVDLLFKTNRKVTVKQLKEDYFKKIECFDSVEISGV---EDRFNASLGTYHDL\n",
            "LKIIKDKDFLDNEENEDILEDIVLTLTLFEDREMIEERLKTYAHLFDDKVMKQLKRRRYT\n",
            "GWGRLSRKLINGIRDKQSGKTILDFLKSDGFANRNFMQLIHDDSLTFKEDIQKAQVSGQG\n",
            "DSLHEHIANLAGSPAIKKGILQTVKVVDELVKVMGRHKPENIVIEMARENQTTQKGQKNS\n",
            "RERMKRIEEGIKEL----GSQILKEHPVENTQLQNEKLYLYYLQNGRDMYVDQELDINRL\n",
            "SDYDVDHIVPQSFIKDDSIDNKVLTRSDKNRGKSNNVPSEEVVKKMKNYWRQLLNAKLIT\n",
            "QRKFDNLTKAERGGLSELDKAGFIKRQLVETRQITKHVAQILDSRMNTKYDENDKLIREV\n",
            "KVITLKSKLVSDFRKDFQFYKVREINNYHHAHDAYLNAVVGTALIKKYPKLESEFVYGDY\n",
            "KVYDVRKMIAKSE--QEIGKATAKYFFYSNIMNFFKTEITLANGEIRKRPLIETNGETGE\n",
            "IVWDKGRDFATVRKVLSMPQVNIVKKTEVQTGG----FSKESILPKRN---SDKLIARK-\n",
            "--KDWDPKKYGGFDSPTVAYSVLVVAK--VEKGKSKKLKSVKELLGITIMERSSFEKNPI\n",
            "DFLEAKGYKEVRKDLIVKLPKYSLFELENG--RK-RMLAS-------AGELQKGNELALP\n",
            "SKYVNFLYLASHYEKLKGSPEDNEQKQLFVEQHKHYLDEIIEQISEFSKRVILADANLDK\n",
            "VLSAYNKHRDKPIREQAENIIHLFTLTNLGAPAAFKYFDTT--IDRKRYT------STKE\n",
            "VLDATFIHQSITGLYETRIDLSQLGGD\n",
            ">M4YX12\n",
            "MDKKYSIGLDIGTNSVGWAVITDDYKVPSKKFKVLGNTDRHSIKKNLIGALLFDSGETAE\n",
            "ATRLKRTARRRYTRRKNRIRYLQEIFSSEMSKVDDSFFHRLEESFLVEEDKKHERHPIFG\n",
            "NIVDEVAYHEKYPTIYHLRKKLADSTDKADLRLIYLALAHMIKFRGHFLIEGDLNPDNSD\n",
            "MDKLFIQLVQTYNQLFEENPINASRVDAKAILSARLSKSRRLENLIAQLPGEKRNGLFGN\n",
            "LIALSLGLTPNFKSNFDLAEDAKLQLSKDTYDDDLDNLLAQIGDQYADLFLAAKNLSDAI\n",
            "LLSDILRVNSEITKAPLSASMIKRYDEHHQDLTLLKALVRQQLPEKYKEIFFDQSKNGYA\n",
            "GYIDGGASQEEFYKFIKPILEKMDGTEELLAKLNREDLLRKQRTFDNGSIPHQIHLGELH\n",
            "AILRRQEDFYPFLKDNREKIEKILTFRIPYYVGPLARGNSRFAWMTRKSEETITPWNFEE\n",
            "VVDKGASAQSFIERMTNFDKNLPNEKVLPKHSLLYEYFTVYNELTKVKYVTEGMRKPEFL\n",
            "SGKQKEAIVDLLFKTNRKVTVKQLKEDYFKKIECFDSVEISGV---EDRFNASLGTYHDL\n",
            "LKIIKDKDFLDNEENEDILEDIVLTLTLFEDKEMIEERLKTYAHLFDDKVMKQLKRRHYT\n",
            "GWGRLSRKLINGIRDKQSGKTILDFLKSDGFANRNFIQLIHDDSLTFKEAIQKAQVSGQG\n",
            "HSLHEQIANLAGSPAIKKGILQSVKVVDELVKVMG-HKPENIVIEMARENQTTQKGQKNS\n",
            "RERMKRIEEGIKEL----GSQILKEHPVENTQLQNEKLYLYYLQNGRDMYVDQELDINRL\n",
            "SDYDVDHIVPQSFIKDDSIDNKVLTRSDKNRGKSDDVPSEEVVKKMKNYWRQLLNAKLIT\n",
            "QRKFDNLTKAERGGLSELDKAGFIKRQLVETRQITKHVAQILDSRMNTKYDENDKLIREV\n",
            "KVITLKSKLVSDFRKDFQFYKVREINNYHHAHDAYLNAVVGTALIKKYPKLESEFVYGDY\n",
            "KVYDVRKMIAKSE--QEIGKATAKRFFYSNIMNFFKTEITLANGEIRKRPLIETNEETGE\n",
            "IVWNKGRDFATVRKVLSMPQVNIVKKTEVQTGA----LTNESIYARGS---FDKLISRK-\n",
            "--HRFESSKYGGFGSPTVTYSVLVVAKSKVQDGKVKKIKTGKELIGITLLDKLVFEKNPL\n",
            "KFIEDKGYGNVQIDKCIKLPKYSLFEFENG--TR-RMLASVMANNNSRGDLQKANEMFLP\n",
            "AKLVTLLYHAHKIESSKELE-----HEAYILDHYNDLYQLLSYIERFASLYVDVEKNISK\n",
            "VKELFSNIESYSISEICSSVINLLTLTASGAPADFKFLGTT--IPRKRYG------SPQS\n",
            "ILSSTLIHQSITGLYETRIDLSQLGGD\n",
            ">A0A0E2EP65\n",
            "MKKPYSIGLDIGTNSVGWAVVTDDYKVPAKKMKVLGNTDKSHIKKNLLGALLFDSGNTAE\n",
            "DRRLKRTARRRYTRRRNRILYLQEIFSEEMGKVDDSFFHRLEDSFLVTEDKRGERHPIFG\n",
            "NLEEEVKYHENFPTIYHLRQYLADNPEKTDLRLVYLALAHIIKFGGHFLIEGKFDTRNND\n",
            "VQRLFQEFLAVYDNTFENSSLQEQNVQVEEILTDKISKSAKKDRVLKLFPNEKSNGRFAE\n",
            "FLKLIVGNQADFKKHFELEEKAPLQFSKDIYEEELEVLLAQIGDNYAELFLSAKKLYDSI\n",
            "LLSGILTVTDVSTKAPLSASMIQRYNEHQMDLAQLKQFIRQKLSDKYNEVFSDVSKDGYA\n",
            "GYIDGKTNQEAFYKYLKGLLNKIEGSGYFLDKIEREDFLRKQRTFDNGSIPHQIHLQEMR\n",
            "AIIRRQAEFYPFLADNQDRIEKILTFRIPYYVGPLARGKSDFAWLSRKSADKITPWNFDE\n",
            "IVDKESSVEAFINRMTNYDLYLPNQKVLPKHSLLYEKFTVYNELTKVKYKTEQG-KTAFF\n",
            "DANMKQEIFDGVFKVYRKVTKDKLMDFLEKEFDEFRIVDLTGLDKENKAFNASYGTYHDL\n",
            "RKI-LDKDFLDNSKNEKILEDIVLTLTLFEDREMIRKRLKNYSDLLTKEQLKKLERRHYT\n",
            "GWGRLSAELIHGIRNKESRKTILDYLIDDGNSNRNFMQLINDDALSFKEEIAKAQVIGET\n",
            "DNLNQVVSDIAGSPAIKKGILQSLKIVDELVKIMG-HQPENIVVEMARENQFTNQGRRNS\n",
            "QQRLKGLTDSIKEF----GSQILKEHPVENSQLQNDRLFLYYLQNGRDMYTGEELDIDYL\n",
            "SQYDIDHIIPQAFIKDNSIDNRVLTSSKENRGKSDDVPSKNVVRKMKSYWSKLLSAKLIT\n",
            "QRKFDNLTKAERGGLTDDDKAGFIKRQLVETRQITKHVARILDERFHTETDENNKKIRQV\n",
            "KIVTLKSNLVSNFRKEFELYKVREINDYHHAHDAYLNAVIGKALLGVYPQLEPEFVYGDY\n",
            "PHFHGH----------KENKATAKKFFYSNIMNFFKKDDV-------------RTDKNGE\n",
            "IIWKKDEHISNIKKVLSYPQVNIVKKVEEQTGG----FSKESILPKGN---SDKLIPRKT\n",
            "KKFYWDTKKYGGFDSPIVAYSILVIAD--IEKGKSKKLKTVKALVGVTIMEKMTFERDPV\n",
            "AFLERKGYRNVQEENIIKLPKYSLFKLENG--RK-RLLAS-------ARELQKGNEIVLP\n",
            "NHLGTLLYHAKNIHKVDE-----PKHLDYVDKHKDEFKELLDVVSNFSKKYTLAEGNLEK\n",
            "IKELYAQNNGEDLKELASSFINLLTFTAIGAPATFKFFDKN--IDRKRYT------STTE\n",
            "ILNATLIHQSITGLYETRIDLSKLGGD\n",
            ">A0A150NVN1\n",
            "------------------------------------------------------------\n",
            "------------------------------------------------------------\n",
            "------------------------------------------------------------\n",
            "------------------------------------------------------------\n",
            "------------------------------------------------------------\n",
            "------------------------------------------------------------\n",
            "------------------------------------------------------------\n",
            "------------------------------------------------------------\n",
            "------------------------------------------------------------\n",
            "-----------------------------------------------------------M\n",
            "LKIIKDKEFMDDPKNEEILENIVHTLTIFEDREMIKQRLAQYDSLFDEKVIKALTRRHYT\n",
            "GWGKLSAKLINGICDKQTGKTILDYLIDDGKINRNFMQLINDDGLSFKEIIQKAQVVGKT\n",
            "YDVKQVVQELPGSPAIKKGILQSVKLVDELVKVMG-HAPESIVIEMARENQTTAKGKKNS\n",
            "QQRYKRIEDAIKNLAPGLDSTILKEHPTDNIQLQNDRLFLYYLQNGRDMYTGKPLEINQL\n",
            "SNYDIDHIIPQAFIKDDSLDNRVLTSSKENRGKSDNVPSLEVVEKMKAFWQQLLDSKLIS\n",
            "ERKFNNLTKAERGGLDELDKVGFIKRQLVETRQITKHVAQILDARFNKEVTEKNKKNRNV\n",
            "KIITLKSNMVSNFRKEFGLYKVREINDYHHAHDAYLNAVVAKAILKKYPKLEPEFVYGDY\n",
            "QKYDLKRYISKSKDPKEVEKATEKYFFYSNLLNFFKEEVHYADGTIVKRENIEYSKDTGE\n",
            "IAWNKEKDFATIKKVLSFPQVNIVKKTEEQTVGQNGGLFDNNIVSKEKVVDASKLIPIK-\n",
            "--SGLSPEKYGGYARPTIAYSVLVTYKQN--------NKIKNTMVGIPVLTKLEFERDPN\n",
            "LYLRNLGINNVSH--VIKLVKHTVLEFKHKYGTYRRFIVS-------NQELKRANQIFVT\n",
            "TKQMKLISQYTTLDKNE--------HDSLLKNNQQLIQSIWNQFLEFMLATDLVNKKQYD\n",
            "ELILTNNQTIEECRNIMNRVITTLSFTNINAGQKKIIFDDTLSLPIKRWQFTDSDKMVKK\n",
            "IIESTLIHQSITGLYETRIDLNKLGED\n",
            "\n"
          ],
          "name": "stdout"
        }
      ]
    },
    {
      "cell_type": "code",
      "metadata": {
        "id": "3DNx4MNYqp6x",
        "colab_type": "code",
        "outputId": "ebd4f7c8-a2fc-41b3-fe99-ead94ad0af69",
        "colab": {}
      },
      "source": [
        "print(dir(align))"
      ],
      "execution_count": 0,
      "outputs": [
        {
          "output_type": "stream",
          "text": [
            "['__add__', '__class__', '__delattr__', '__dict__', '__dir__', '__doc__', '__eq__', '__format__', '__ge__', '__getattribute__', '__getitem__', '__gt__', '__hash__', '__init__', '__iter__', '__le__', '__len__', '__lt__', '__module__', '__ne__', '__new__', '__reduce__', '__reduce_ex__', '__repr__', '__setattr__', '__sizeof__', '__str__', '__subclasshook__', '__weakref__', '_alphabet', '_append', '_records', '_str_line', 'add_sequence', 'annotations', 'append', 'extend', 'format', 'get_alignment_length', 'get_all_seqs', 'get_column', 'get_seq_by_num', 'sort']\n"
          ],
          "name": "stdout"
        }
      ]
    },
    {
      "cell_type": "code",
      "metadata": {
        "id": "Zlv_fstIqp6y",
        "colab_type": "code",
        "outputId": "3cc27db6-c2f5-4b5b-88bf-19abb9ce9369",
        "colab": {}
      },
      "source": [
        "from Bio import AlignIO\n",
        "AlignIO.write(align, 'cas9align.phy', 'phylip')"
      ],
      "execution_count": 0,
      "outputs": [
        {
          "output_type": "execute_result",
          "data": {
            "text/plain": [
              "1"
            ]
          },
          "metadata": {
            "tags": []
          },
          "execution_count": 27
        }
      ]
    },
    {
      "cell_type": "code",
      "metadata": {
        "collapsed": true,
        "id": "6F-Ec6Szqp60",
        "colab_type": "code",
        "colab": {}
      },
      "source": [
        "from Bio.Alphabet import ProteinAlphabet"
      ],
      "execution_count": 0,
      "outputs": []
    },
    {
      "cell_type": "code",
      "metadata": {
        "id": "aSYj9QSTqp61",
        "colab_type": "code",
        "colab": {}
      },
      "source": [
        "align._alphabet = ProteinAlphabet()"
      ],
      "execution_count": 0,
      "outputs": []
    },
    {
      "cell_type": "code",
      "metadata": {
        "id": "VRJTJncaqp62",
        "colab_type": "code",
        "outputId": "13a8656e-a1f7-437f-8691-e2844f9a9bbb",
        "colab": {}
      },
      "source": [
        "print(align)"
      ],
      "execution_count": 0,
      "outputs": [
        {
          "output_type": "stream",
          "text": [
            "ProteinAlphabet() alignment with 8 rows and 1407 columns\n",
            "MDKKYSIGLDIGTNSVGWAVITDDYKVPSKKFKVLGNTDRHSIK...GGD J7M7J1\n",
            "MDKKYSIGLDIGTNSVGWAVITDDYKVPSKKFKVLGNTDRHSIK...GGD A0A0C6FZC2\n",
            "MDKKYSIGLDIGTNSVGWAVITDDYKVPSKKFKVLGNTDRHSIK...GGD A0A1C2CVQ9\n",
            "MDKKYSIGLDIGTNSVGWAVITDDYKVPSKKFKVLGNTDRHSIK...GGD A0A1C2CV43\n",
            "MDKKYSIGLDIGTNSVGWAVITDDYKVPSKKFKVLGNTDRHSIK...GGD Q48TU5\n",
            "MDKKYSIGLDIGTNSVGWAVITDDYKVPSKKFKVLGNTDRHSIK...GGD M4YX12\n",
            "MKKPYSIGLDIGTNSVGWAVVTDDYKVPAKKMKVLGNTDKSHIK...GGD A0A0E2EP65\n",
            "--------------------------------------------...GED A0A150NVN1\n"
          ],
          "name": "stdout"
        }
      ]
    },
    {
      "cell_type": "code",
      "metadata": {
        "id": "H7k10Xp_qp66",
        "colab_type": "code",
        "outputId": "5bf3a548-c0b8-4a27-bd12-f31d29deaf16",
        "colab": {}
      },
      "source": [
        "print(align[3:,:5])"
      ],
      "execution_count": 0,
      "outputs": [
        {
          "output_type": "stream",
          "text": [
            "SingleLetterAlphabet() alignment with 5 rows and 5 columns\n",
            "MDKKY A0A1C2CV43\n",
            "MDKKY Q48TU5\n",
            "MDKKY M4YX12\n",
            "MKKPY A0A0E2EP65\n",
            "----- A0A150NVN1\n"
          ],
          "name": "stdout"
        }
      ]
    },
    {
      "cell_type": "code",
      "metadata": {
        "scrolled": true,
        "id": "q7Cr3rfcqp67",
        "colab_type": "code",
        "outputId": "940d69ba-a7c9-47c4-9a92-0bba5471e453",
        "colab": {}
      },
      "source": [
        "with open('cas9align.aln') as f_in:\n",
        "    print(f_in.read())"
      ],
      "execution_count": 0,
      "outputs": [
        {
          "output_type": "stream",
          "text": [
            "CLUSTAL X (1.81) multiple sequence alignment\n",
            "\n",
            "\n",
            "J7M7J1                              MDKKYSIGLDIGTNSVGWAVITDDYKVPSKKFKVLGNTDRHSIKKNLIGA\n",
            "A0A0C6FZC2                          MDKKYSIGLDIGTNSVGWAVITDDYKVPSKKFKVLGNTDRHSIKKNLIGA\n",
            "A0A1C2CVQ9                          MDKKYSIGLDIGTNSVGWAVITDDYKVPSKKFKVLGNTDRHSIKKNLIGA\n",
            "A0A1C2CV43                          MDKKYSIGLDIGTNSVGWAVITDDYKVPSKKFKVLGNTDRHSIKKNLIGA\n",
            "Q48TU5                              MDKKYSIGLDIGTNSVGWAVITDDYKVPSKKFKVLGNTDRHSIKKNLIGA\n",
            "M4YX12                              MDKKYSIGLDIGTNSVGWAVITDDYKVPSKKFKVLGNTDRHSIKKNLIGA\n",
            "A0A0E2EP65                          MKKPYSIGLDIGTNSVGWAVVTDDYKVPAKKMKVLGNTDKSHIKKNLLGA\n",
            "A0A150NVN1                          --------------------------------------------------\n",
            "\n",
            "J7M7J1                              LLFDSGETAEATRLKRTARRRYTRRKNRICYLQEIFSNEMAKVDDSFFHR\n",
            "A0A0C6FZC2                          LLFDSGETAEATRLKRTARRRYTRRKNRICYLQEIFSNEMAKVDDSFFHR\n",
            "A0A1C2CVQ9                          LLFDSGETAEATRLKRTARRRYTRRKNRIRYLQEIFSSEMSKVDDSFFHR\n",
            "A0A1C2CV43                          LLFDSGETAEATRLKRTARRRYTRRKNRIRYLQEIFSSEMSKVDDSFFHR\n",
            "Q48TU5                              LLFDSGETAEATRLKRTARRRYTRRKNRICYLQEIFSNEMAKVDDSFFHR\n",
            "M4YX12                              LLFDSGETAEATRLKRTARRRYTRRKNRIRYLQEIFSSEMSKVDDSFFHR\n",
            "A0A0E2EP65                          LLFDSGNTAEDRRLKRTARRRYTRRRNRILYLQEIFSEEMGKVDDSFFHR\n",
            "A0A150NVN1                          --------------------------------------------------\n",
            "\n",
            "J7M7J1                              LEESFLVEEDKKHERHPIFGNIVDEVAYHEKYPTIYHLRKKLVDSTDKAD\n",
            "A0A0C6FZC2                          LEESFLVEEDKKHERHPIFGNIVDEVAYHEKYPTIYHLRKKLVDSTDKAD\n",
            "A0A1C2CVQ9                          LEESFLVEEDKKHERHPIFGNIVDEVAYHEKYPTIYHLRKKLADSTDKAD\n",
            "A0A1C2CV43                          LEESFLVEEDKKHERHPIFGNIVDEVAYHEKYPTIYHLRKKLADSTDKAD\n",
            "Q48TU5                              LEESFLVEEDKKHERHPIFGNIVDEVAYHEKYPTIYHLRKKLVDSTDKAD\n",
            "M4YX12                              LEESFLVEEDKKHERHPIFGNIVDEVAYHEKYPTIYHLRKKLADSTDKAD\n",
            "A0A0E2EP65                          LEDSFLVTEDKRGERHPIFGNLEEEVKYHENFPTIYHLRQYLADNPEKTD\n",
            "A0A150NVN1                          --------------------------------------------------\n",
            "\n",
            "J7M7J1                              LRLIYLALAHMIKFRGHFLIEGDLNPDNSDVDKLFIQLVQTYNQLFEENP\n",
            "A0A0C6FZC2                          LRLIYLALAHMIKFRGHFLIEGDLNPDNSDVDKLFIQLVQTYNQLFEENP\n",
            "A0A1C2CVQ9                          LRLIYLALAHMIKFRGHFLIEGDLNPDNSDVDKLFIQLVQTYNQLFEENP\n",
            "A0A1C2CV43                          LRLIYLALAHMIKFRGHFLIEGDLNPDNSDMDKLFIQLVQTYNQLFEENP\n",
            "Q48TU5                              LRLIYLALAHMIKFRGHFLIEGDLNPDNSDVDKLFIQLVQTYNQLFEENP\n",
            "M4YX12                              LRLIYLALAHMIKFRGHFLIEGDLNPDNSDMDKLFIQLVQTYNQLFEENP\n",
            "A0A0E2EP65                          LRLVYLALAHIIKFGGHFLIEGKFDTRNNDVQRLFQEFLAVYDNTFENSS\n",
            "A0A150NVN1                          --------------------------------------------------\n",
            "\n",
            "J7M7J1                              INASGVDAKAILSARLSKSRRLENLIAQLPGEKKNGLFGNLIALSLGLTP\n",
            "A0A0C6FZC2                          INASGVDAKAILSARLSKSRRLENLIAQLPGEKKNGLFGNLIALSLGLTP\n",
            "A0A1C2CVQ9                          INASRVDAKAILSARLSKSRRLENLIAQLPGEKRNGLFGNLIALSLGLTP\n",
            "A0A1C2CV43                          INASRVDAKAILSARLSKSRRLENLIAQLPGEKRNGLFGNLIALSLGLTP\n",
            "Q48TU5                              INASGVDAKAILSARLSKSRRLENLIAQLPGEKKNGLFGNLIALSLGLTP\n",
            "M4YX12                              INASRVDAKAILSARLSKSRRLENLIAQLPGEKRNGLFGNLIALSLGLTP\n",
            "A0A0E2EP65                          LQEQNVQVEEILTDKISKSAKKDRVLKLFPNEKSNGRFAEFLKLIVGNQA\n",
            "A0A150NVN1                          --------------------------------------------------\n",
            "\n",
            "J7M7J1                              NFKSNFDLAEDAKLQLSKDTYDDDLDNLLAQIGDQYADLFLAAKNLSDAI\n",
            "A0A0C6FZC2                          NFKSNFDLAEDAKLQLSKDTYDDDLDNLLAQIGDQYADLFLAAKNLSDAI\n",
            "A0A1C2CVQ9                          NFKSNFDLAEDAKLQLSKDTYDDDLDNLLAQIGDQYADLFLAAKNLSDAI\n",
            "A0A1C2CV43                          NFKSNFDLAEDAKLQLSKDTYDDDLDNLLAQIGDQYADLFLAAKNLSDAI\n",
            "Q48TU5                              NFKSNFDLAEDAKLQLSKDTYDDDLDNLLAQIGDQYADLFLAAKNLSDAI\n",
            "M4YX12                              NFKSNFDLAEDAKLQLSKDTYDDDLDNLLAQIGDQYADLFLAAKNLSDAI\n",
            "A0A0E2EP65                          DFKKHFELEEKAPLQFSKDIYEEELEVLLAQIGDNYAELFLSAKKLYDSI\n",
            "A0A150NVN1                          --------------------------------------------------\n",
            "\n",
            "J7M7J1                              LLSDILRVNTEITKAPLSASMIKRYDEHHQDLTLLKALVRQQLPEKYKEI\n",
            "A0A0C6FZC2                          LLSDILRVNTEITKAPLSASMIKRYDEHHQDLTLLKALVRQQLPEKYKEI\n",
            "A0A1C2CVQ9                          LLSDILRVNSEITKAPLSASMIKRYDEHHQDLTLLKALVRQQLPEKYKEI\n",
            "A0A1C2CV43                          LLSDILRVNSEITKAPLSASMIKRYDEHHQDLTLLKALVRQQLPEKYKEI\n",
            "Q48TU5                              LLSDILRLNSEITKAPLSASMIKRYDEHHQDLTLLKALVRQQLPEKYKEI\n",
            "M4YX12                              LLSDILRVNSEITKAPLSASMIKRYDEHHQDLTLLKALVRQQLPEKYKEI\n",
            "A0A0E2EP65                          LLSGILTVTDVSTKAPLSASMIQRYNEHQMDLAQLKQFIRQKLSDKYNEV\n",
            "A0A150NVN1                          --------------------------------------------------\n",
            "\n",
            "J7M7J1                              FFDQSKNGYAGYIDGGASQEEFYKFIKPILEKMDGTEELLVKLNREDLLR\n",
            "A0A0C6FZC2                          FFDQSKNGYAGYIDGGASQEEFYKFIKPILEKMDGTEELLVKLNREDLLR\n",
            "A0A1C2CVQ9                          FFDQSKNGYAGYIDGGASQEEFYKFIKPILEKMDGTEELLAKLNREDLLR\n",
            "A0A1C2CV43                          FFDQSKNGYAGYIDGGASQEEFYKFIKPILEKMDGTEELLAKLNREDLLR\n",
            "Q48TU5                              FFDQSKNGYAGYIDGGASQEEFYKFIKPILEKMDGTEELLAKLNREDLLR\n",
            "M4YX12                              FFDQSKNGYAGYIDGGASQEEFYKFIKPILEKMDGTEELLAKLNREDLLR\n",
            "A0A0E2EP65                          FSDVSKDGYAGYIDGKTNQEAFYKYLKGLLNKIEGSGYFLDKIEREDFLR\n",
            "A0A150NVN1                          --------------------------------------------------\n",
            "\n",
            "J7M7J1                              KQRTFDNGSIPHQIHLGELHAILRRQEDFYPFLKDNREKIEKILTFRIPY\n",
            "A0A0C6FZC2                          KQRTFDNGSIPHQIHLGELHAILRRQEDFYPFLKDNREKIEKILTFRIPY\n",
            "A0A1C2CVQ9                          KQRTFDNGSIPHQIHLGELHAILRRQEDFYPFLKDNREKIEKILTFRIPY\n",
            "A0A1C2CV43                          KQRTFDNGSIPHQIHLGELHAILRRQEDFYPFLKDNREKIEKILTFRIPY\n",
            "Q48TU5                              KQRTFDNGSIPHQIHLGELHAILRRQEDFYPFLKDNREKIEKILTFRIPY\n",
            "M4YX12                              KQRTFDNGSIPHQIHLGELHAILRRQEDFYPFLKDNREKIEKILTFRIPY\n",
            "A0A0E2EP65                          KQRTFDNGSIPHQIHLQEMRAIIRRQAEFYPFLADNQDRIEKILTFRIPY\n",
            "A0A150NVN1                          --------------------------------------------------\n",
            "\n",
            "J7M7J1                              YVGPLARGNSRFAWMTRKSEETITPWNFEEVVDKGASAQSFIERMTNFDK\n",
            "A0A0C6FZC2                          YVGPLARGNSRFAWMTRKSEETITPWNFEEVVDKGASAQSFIERMTNFDK\n",
            "A0A1C2CVQ9                          YVGPLARGNSRFAWMTRKSEETITPWNFEEVVDKGASAQSFIERMTNFDK\n",
            "A0A1C2CV43                          YVGPLARGNSRFAWMTRKSEETITPWNFEEVVDKGASAQSFIERMTNFDK\n",
            "Q48TU5                              YVGPLARGNSRFAWMTRKSEETITPWNFEEVVDKGASAQSFIERMTNFDK\n",
            "M4YX12                              YVGPLARGNSRFAWMTRKSEETITPWNFEEVVDKGASAQSFIERMTNFDK\n",
            "A0A0E2EP65                          YVGPLARGKSDFAWLSRKSADKITPWNFDEIVDKESSVEAFINRMTNYDL\n",
            "A0A150NVN1                          --------------------------------------------------\n",
            "\n",
            "J7M7J1                              NLPNEKVLPKHSLLYEYFTVYNELTKVKYVTEGMRKPAFLSGEQKKAIVD\n",
            "A0A0C6FZC2                          NLPNEKVLPKHSLLYEYFTVYNELTKVKYVTEGMRKPAFLSGEQKKAIVD\n",
            "A0A1C2CVQ9                          NLPNEKVLPKHSLLYEYFTVYNELTKVKYVTEGMRKPAFLSGEQKKAIVD\n",
            "A0A1C2CV43                          NLPNEKVLPKHSLLYEYFTVYNELTKVKYVTEGMRKPEFLSGKQKEAIVD\n",
            "Q48TU5                              NLPNEKVLPKHSLLYEYFTVYNELTKVKYVTEGMRKPAFLSGEQKKAIVD\n",
            "M4YX12                              NLPNEKVLPKHSLLYEYFTVYNELTKVKYVTEGMRKPEFLSGKQKEAIVD\n",
            "A0A0E2EP65                          YLPNQKVLPKHSLLYEKFTVYNELTKVKYKTEQG-KTAFFDANMKQEIFD\n",
            "A0A150NVN1                          --------------------------------------------------\n",
            "\n",
            "J7M7J1                              LLFKTNRKVTVKQLKEDYFKKIECFDSVEISGV---EDRFNASLGTYHDL\n",
            "A0A0C6FZC2                          LLFKTNRKVTVKQLKEDYFKKIECFDSVEISGV---EDRFNASLGTYHDL\n",
            "A0A1C2CVQ9                          LLFKTNRKVTVKQLKEDYFKKIECFDSVEISGV---EDRFNASLGTYHDL\n",
            "A0A1C2CV43                          LLFKTNRKVTVKQLKEDYFKKIEYFDSVEISGV---EDRFNASLGTYHDL\n",
            "Q48TU5                              LLFKTNRKVTVKQLKEDYFKKIECFDSVEISGV---EDRFNASLGTYHDL\n",
            "M4YX12                              LLFKTNRKVTVKQLKEDYFKKIECFDSVEISGV---EDRFNASLGTYHDL\n",
            "A0A0E2EP65                          GVFKVYRKVTKDKLMDFLEKEFDEFRIVDLTGLDKENKAFNASYGTYHDL\n",
            "A0A150NVN1                          -------------------------------------------------M\n",
            "\n",
            "J7M7J1                              LKIIKDKDFLDNEENEDILEDIVLTLTLFEDREMIEERLKTYAHLFDDKV\n",
            "A0A0C6FZC2                          LKIIKDKDFLDNEENEDILEDIVLTLTLFEDREMIEERLKTYAHLFDDKV\n",
            "A0A1C2CVQ9                          LKIIKDKDFLDNEENEDILEDIVLTLTLFEDKEMIEERLKTYAHLFDDKV\n",
            "A0A1C2CV43                          LKIIKDKDFLDNEENEDILEDIVLTLTLFEDKEMIEERLKKYANLFDDKV\n",
            "Q48TU5                              LKIIKDKDFLDNEENEDILEDIVLTLTLFEDREMIEERLKTYAHLFDDKV\n",
            "M4YX12                              LKIIKDKDFLDNEENEDILEDIVLTLTLFEDKEMIEERLKTYAHLFDDKV\n",
            "A0A0E2EP65                          RKI-LDKDFLDNSKNEKILEDIVLTLTLFEDREMIRKRLKNYSDLLTKEQ\n",
            "A0A150NVN1                          LKIIKDKEFMDDPKNEEILENIVHTLTIFEDREMIKQRLAQYDSLFDEKV\n",
            "\n",
            "J7M7J1                              MKQLKRRRYTGWGRLSRKLINGIRDKQSGKTILDFLKSDGFANRNFMQLI\n",
            "A0A0C6FZC2                          MKQLKRRRYTGWGRLSRKLINGIRDKQSGKTILDFLKSDGFANRNFMQLI\n",
            "A0A1C2CVQ9                          MKQLKRRHYTGWGRLSRKLINGIRDKQSGKTILDFLKSDGFANRNFIQLI\n",
            "A0A1C2CV43                          MKQLKRRHYTGWGRLSRKLINGIRDKQSGKTILDFLKSDGFANRNFMQLI\n",
            "Q48TU5                              MKQLKRRRYTGWGRLSRKLINGIRDKQSGKTILDFLKSDGFANRNFMQLI\n",
            "M4YX12                              MKQLKRRHYTGWGRLSRKLINGIRDKQSGKTILDFLKSDGFANRNFIQLI\n",
            "A0A0E2EP65                          LKKLERRHYTGWGRLSAELIHGIRNKESRKTILDYLIDDGNSNRNFMQLI\n",
            "A0A150NVN1                          IKALTRRHYTGWGKLSAKLINGICDKQTGKTILDYLIDDGKINRNFMQLI\n",
            "\n",
            "J7M7J1                              HDDSLTFKEDIQKAQVSGQGDSLHEHIANLAGSPAIKKGILQTVKVVDEL\n",
            "A0A0C6FZC2                          HDDSLTFKEDIQKAQVSGQGDSLHEHIANLAGSPAIKKGILQTVKVVDEL\n",
            "A0A1C2CVQ9                          HDDSLTFKEAIQKAQVSGQGHSLHEQIANLAGSPAIKKGILQSVKVVDEL\n",
            "A0A1C2CV43                          NDDSLTFKEAIQKAQVSGQGHSLHEQIANLAGSPAIKKGILQSVKVVDEL\n",
            "Q48TU5                              HDDSLTFKEDIQKAQVSGQGDSLHEHIANLAGSPAIKKGILQTVKVVDEL\n",
            "M4YX12                              HDDSLTFKEAIQKAQVSGQGHSLHEQIANLAGSPAIKKGILQSVKVVDEL\n",
            "A0A0E2EP65                          NDDALSFKEEIAKAQVIGETDNLNQVVSDIAGSPAIKKGILQSLKIVDEL\n",
            "A0A150NVN1                          NDDGLSFKEIIQKAQVVGKTYDVKQVVQELPGSPAIKKGILQSVKLVDEL\n",
            "\n",
            "J7M7J1                              VKVMGRHKPENIVIEMARENQTTQKGQKNSRERMKRIEEGIKEL----GS\n",
            "A0A0C6FZC2                          VKVMGRHKPENIVIEMARENQTTQKGQKNSRERMKRIEEGIKEL----GS\n",
            "A0A1C2CVQ9                          VKVMG-HKPENIVIEMARENQTTQKGQKNSRERMKRIEEGIKEL----GS\n",
            "A0A1C2CV43                          VKVMG-HKPENIVIEMARENQTTQKGQKNSRERMKRIEEGIKEL----GS\n",
            "Q48TU5                              VKVMGRHKPENIVIEMARENQTTQKGQKNSRERMKRIEEGIKEL----GS\n",
            "M4YX12                              VKVMG-HKPENIVIEMARENQTTQKGQKNSRERMKRIEEGIKEL----GS\n",
            "A0A0E2EP65                          VKIMG-HQPENIVVEMARENQFTNQGRRNSQQRLKGLTDSIKEF----GS\n",
            "A0A150NVN1                          VKVMG-HAPESIVIEMARENQTTAKGKKNSQQRYKRIEDAIKNLAPGLDS\n",
            "\n",
            "J7M7J1                              QILKEHPVENTQLQNEKLYLYYLQNGRDMYVDQELDINRLSDYDVDHIVP\n",
            "A0A0C6FZC2                          QILKEHPVENTQLQNEKLYLYYLQNGRDMYVDQELDINRLSDYDVDHIVP\n",
            "A0A1C2CVQ9                          QILKEHPVENTQLQNEKLYLYYLQNGRDMYVDQELDINRLSDYDVDHIVP\n",
            "A0A1C2CV43                          QILKEHPVENTQLQNEKLYLYYLQNGRDMYVDQELDINRLSDYDVDHIVP\n",
            "Q48TU5                              QILKEHPVENTQLQNEKLYLYYLQNGRDMYVDQELDINRLSDYDVDHIVP\n",
            "M4YX12                              QILKEHPVENTQLQNEKLYLYYLQNGRDMYVDQELDINRLSDYDVDHIVP\n",
            "A0A0E2EP65                          QILKEHPVENSQLQNDRLFLYYLQNGRDMYTGEELDIDYLSQYDIDHIIP\n",
            "A0A150NVN1                          TILKEHPTDNIQLQNDRLFLYYLQNGRDMYTGKPLEINQLSNYDIDHIIP\n",
            "\n",
            "J7M7J1                              QSFLKDDSIDNKVLTRSDKNRGKSDNVPSEEVVKKMKNYWRQLLNAKLIT\n",
            "A0A0C6FZC2                          QSFLKDDSIDNKVLTRSDKNRGKSDNVPSEEVVKKMKNYWRQLLNAKLIT\n",
            "A0A1C2CVQ9                          QSFIKDDSIDNKVLTRSDKNRGKSDNVPSEEVVKKMKNYWRQLLNAKLIT\n",
            "A0A1C2CV43                          QSFIKDDSIDNKVLTRSDKNRGKSDNVPSEEVVKKMKNYWRQLLNAKLIT\n",
            "Q48TU5                              QSFIKDDSIDNKVLTRSDKNRGKSNNVPSEEVVKKMKNYWRQLLNAKLIT\n",
            "M4YX12                              QSFIKDDSIDNKVLTRSDKNRGKSDDVPSEEVVKKMKNYWRQLLNAKLIT\n",
            "A0A0E2EP65                          QAFIKDNSIDNRVLTSSKENRGKSDDVPSKNVVRKMKSYWSKLLSAKLIT\n",
            "A0A150NVN1                          QAFIKDDSLDNRVLTSSKENRGKSDNVPSLEVVEKMKAFWQQLLDSKLIS\n",
            "\n",
            "J7M7J1                              QRKFDNLTKAERGGLSELDKAGFIKRQLVETRQITKHVAQILDSRMNTKY\n",
            "A0A0C6FZC2                          QRKFDNLTKAERGGLSELDKAGFIKRQLVETRQITKHVAQILDSRMNTKY\n",
            "A0A1C2CVQ9                          QRKFDNLTKAERGGLSELDKAGFIKRQLVETRQITKHVAQILDSRMNTKY\n",
            "A0A1C2CV43                          QRKFDNLTKAERGGLSELDKAGFIKRQLVETRQITKHVAQILDSRMNTKY\n",
            "Q48TU5                              QRKFDNLTKAERGGLSELDKAGFIKRQLVETRQITKHVAQILDSRMNTKY\n",
            "M4YX12                              QRKFDNLTKAERGGLSELDKAGFIKRQLVETRQITKHVAQILDSRMNTKY\n",
            "A0A0E2EP65                          QRKFDNLTKAERGGLTDDDKAGFIKRQLVETRQITKHVARILDERFHTET\n",
            "A0A150NVN1                          ERKFNNLTKAERGGLDELDKVGFIKRQLVETRQITKHVAQILDARFNKEV\n",
            "\n",
            "J7M7J1                              DENDKLIREVKVITLKSKLVSDFRKDFQFYKVREINNYHHAHDAYLNAVV\n",
            "A0A0C6FZC2                          DENDKLIREVKVITLKSKLVSDFRKDFQFYKVREINNYHHAHDAYLNAVV\n",
            "A0A1C2CVQ9                          DENDKLIREVKVITLKSKLVSDFRKDFQFYKVREINNYHHAHDAYLNAVV\n",
            "A0A1C2CV43                          DENDKLIREVKVITLKSKLVSDFRKDFQFYKVREINNYHHAHDAYLNAVV\n",
            "Q48TU5                              DENDKLIREVKVITLKSKLVSDFRKDFQFYKVREINNYHHAHDAYLNAVV\n",
            "M4YX12                              DENDKLIREVKVITLKSKLVSDFRKDFQFYKVREINNYHHAHDAYLNAVV\n",
            "A0A0E2EP65                          DENNKKIRQVKIVTLKSNLVSNFRKEFELYKVREINDYHHAHDAYLNAVI\n",
            "A0A150NVN1                          TEKNKKNRNVKIITLKSNMVSNFRKEFGLYKVREINDYHHAHDAYLNAVV\n",
            "\n",
            "J7M7J1                              GTALIKKYPKLESEFVYGDYKVYDVRKMIAKSE--QEIGKATAKYFFYSN\n",
            "A0A0C6FZC2                          GTALIKKYPKLESEFVYGDYKVYDVRKMIAKSE--QEIGKATAKYFFYSN\n",
            "A0A1C2CVQ9                          GTALIKKYPKLESEFVYGDYKVYDVRKMIAKSE--QEIGKATAKRFFYSN\n",
            "A0A1C2CV43                          GTALIKKYPKLESEFVYGDYKVYDVRKMIAKSE--QEIGKATAKRFFYSN\n",
            "Q48TU5                              GTALIKKYPKLESEFVYGDYKVYDVRKMIAKSE--QEIGKATAKYFFYSN\n",
            "M4YX12                              GTALIKKYPKLESEFVYGDYKVYDVRKMIAKSE--QEIGKATAKRFFYSN\n",
            "A0A0E2EP65                          GKALLGVYPQLEPEFVYGDYPHFHGH----------KENKATAKKFFYSN\n",
            "A0A150NVN1                          AKAILKKYPKLEPEFVYGDYQKYDLKRYISKSKDPKEVEKATEKYFFYSN\n",
            "\n",
            "J7M7J1                              IMNFFKTEITLANGEIRKRPLIETNGETGEIVWDKGRDFATVRKVLSMPQ\n",
            "A0A0C6FZC2                          IMNFFKTEITLANGEIRKRPLIETNGETGEIVWDKGRDFATVRKVLSMPQ\n",
            "A0A1C2CVQ9                          IMNFFKTEITLANGEIRKRPLIETNEETGEIVWDKGRDFATVRKVLSMPQ\n",
            "A0A1C2CV43                          IMNFFKTEITLANGEIRKRPLIETNEETGEIVWDKGRDFATVRKVLSMPQ\n",
            "Q48TU5                              IMNFFKTEITLANGEIRKRPLIETNGETGEIVWDKGRDFATVRKVLSMPQ\n",
            "M4YX12                              IMNFFKTEITLANGEIRKRPLIETNEETGEIVWNKGRDFATVRKVLSMPQ\n",
            "A0A0E2EP65                          IMNFFKKDDV-------------RTDKNGEIIWKKDEHISNIKKVLSYPQ\n",
            "A0A150NVN1                          LLNFFKEEVHYADGTIVKRENIEYSKDTGEIAWNKEKDFATIKKVLSFPQ\n",
            "\n",
            "J7M7J1                              VNIVKKTEVQTGG----FSKESILPKRN---SDKLIARK---KDWDPKKY\n",
            "A0A0C6FZC2                          VNIVKKTEVQTGG----FSKESILPKRN---SDKLIARK---KDWDPKKY\n",
            "A0A1C2CVQ9                          VNIVKKTEVQTGA----LTNESIYARGS---FDKLISRK---HRFESSKY\n",
            "A0A1C2CV43                          VNIVKKTEVQTGA----LTNESIYARGS---FDKLISRK---HRFESSKY\n",
            "Q48TU5                              VNIVKKTEVQTGG----FSKESILPKRN---SDKLIARK---KDWDPKKY\n",
            "M4YX12                              VNIVKKTEVQTGA----LTNESIYARGS---FDKLISRK---HRFESSKY\n",
            "A0A0E2EP65                          VNIVKKVEEQTGG----FSKESILPKGN---SDKLIPRKTKKFYWDTKKY\n",
            "A0A150NVN1                          VNIVKKTEEQTVGQNGGLFDNNIVSKEKVVDASKLIPIK---SGLSPEKY\n",
            "\n",
            "J7M7J1                              GGFDSPTVAYSVLVVAK--VEKGKSKKLKSVKELLGITIMERSSFEKNPI\n",
            "A0A0C6FZC2                          GGFDSPTVAYSVLVVAK--VEKGKSKKLKSVKELLGITIMERSSFEKNPI\n",
            "A0A1C2CVQ9                          GGFGSPTVTYSVLVVAKSKVQDGKVKKIKTGKELIGITLLDKLVFEKNPL\n",
            "A0A1C2CV43                          GGFGSPTVTYSVLVVAKSKVQDGKVKKIKTGKELIGITLLDKLVFEKNPL\n",
            "Q48TU5                              GGFDSPTVAYSVLVVAK--VEKGKSKKLKSVKELLGITIMERSSFEKNPI\n",
            "M4YX12                              GGFGSPTVTYSVLVVAKSKVQDGKVKKIKTGKELIGITLLDKLVFEKNPL\n",
            "A0A0E2EP65                          GGFDSPIVAYSILVIAD--IEKGKSKKLKTVKALVGVTIMEKMTFERDPV\n",
            "A0A150NVN1                          GGYARPTIAYSVLVTYKQN--------NKIKNTMVGIPVLTKLEFERDPN\n",
            "\n",
            "J7M7J1                              DFLEAKGYKEVKKDLIIKLPKYSLFELENG--RK-RMLAS-------AGE\n",
            "A0A0C6FZC2                          DFLEAKGYKEVKKDLIIKLPKYSLFELENG--RK-RMLAS-------AGE\n",
            "A0A1C2CVQ9                          KFIEDKGYGNVQIDKCIKLPKYSLFEFENG--TR-RMLASVMANNNSRGD\n",
            "A0A1C2CV43                          KFIEDKGYGNVQIDKCIKLPKYSLFEFENG--TR-RMLASVMANNNSRGD\n",
            "Q48TU5                              DFLEAKGYKEVRKDLIVKLPKYSLFELENG--RK-RMLAS-------AGE\n",
            "M4YX12                              KFIEDKGYGNVQIDKCIKLPKYSLFEFENG--TR-RMLASVMANNNSRGD\n",
            "A0A0E2EP65                          AFLERKGYRNVQEENIIKLPKYSLFKLENG--RK-RLLAS-------ARE\n",
            "A0A150NVN1                          LYLRNLGINNVSH--VIKLVKHTVLEFKHKYGTYRRFIVS-------NQE\n",
            "\n",
            "J7M7J1                              LQKGNELALPSKYVNFLYLASHYEKLKGSPEDNEQKQLFVEQHKHYLDEI\n",
            "A0A0C6FZC2                          LQKGNELALPSKYVNFLYLASHYEKLKGSPEDNEQKQLFVEQHKHYLDEI\n",
            "A0A1C2CVQ9                          LQKANEMFLPAKLVTLLYHAHKIESSKELE-----HEAYILDHYNDLYQL\n",
            "A0A1C2CV43                          LQKANEMFLPAKLVTLLYHAHKIESSKELE-----HEAYILDHYNDLYQL\n",
            "Q48TU5                              LQKGNELALPSKYVNFLYLASHYEKLKGSPEDNEQKQLFVEQHKHYLDEI\n",
            "M4YX12                              LQKANEMFLPAKLVTLLYHAHKIESSKELE-----HEAYILDHYNDLYQL\n",
            "A0A0E2EP65                          LQKGNEIVLPNHLGTLLYHAKNIHKVDE-----PKHLDYVDKHKDEFKEL\n",
            "A0A150NVN1                          LKRANQIFVTTKQMKLISQYTTLDKNE--------HDSLLKNNQQLIQSI\n",
            "\n",
            "J7M7J1                              IEQISEFSKRVILADANLDKVLSAYNKHRDKPIREQAENIIHLFTLTNLG\n",
            "A0A0C6FZC2                          IEQISEFSKRVILADANLDKVLSAYNKHRDKPIREQAENIIHLFTLTNLG\n",
            "A0A1C2CVQ9                          LSYIERFASLYVDVEKNISKVKELFSNIESYSISEICSSVINLLTLTASG\n",
            "A0A1C2CV43                          LSYIERFASLYVDVEKNISKVKELFSNIESYSISEICSSVINLLTLTASG\n",
            "Q48TU5                              IEQISEFSKRVILADANLDKVLSAYNKHRDKPIREQAENIIHLFTLTNLG\n",
            "M4YX12                              LSYIERFASLYVDVEKNISKVKELFSNIESYSISEICSSVINLLTLTASG\n",
            "A0A0E2EP65                          LDVVSNFSKKYTLAEGNLEKIKELYAQNNGEDLKELASSFINLLTFTAIG\n",
            "A0A150NVN1                          WNQFLEFMLATDLVNKKQYDELILTNNQTIEECRNIMNRVITTLSFTNIN\n",
            "\n",
            "J7M7J1                              APAAFKYFDTT--IDRKRYT------STKEVLDATLIHQSITGLYETRID\n",
            "A0A0C6FZC2                          APAAFKYFDTT--IDRKRYT------STKEVLDATLIHQSITGLYETRID\n",
            "A0A1C2CVQ9                          APADFKFLGTT--IPRKRYG------SPQSILSSTLIHQSITGLYETRID\n",
            "A0A1C2CV43                          APADFKFLGTT--IPRKRYG------SPQSILSSTLIHQSITGLYETRID\n",
            "Q48TU5                              APAAFKYFDTT--IDRKRYT------STKEVLDATFIHQSITGLYETRID\n",
            "M4YX12                              APADFKFLGTT--IPRKRYG------SPQSILSSTLIHQSITGLYETRID\n",
            "A0A0E2EP65                          APATFKFFDKN--IDRKRYT------STTEILNATLIHQSITGLYETRID\n",
            "A0A150NVN1                          AGQKKIIFDDTLSLPIKRWQFTDSDKMVKKIIESTLIHQSITGLYETRID\n",
            "\n",
            "J7M7J1                              LSQLGGD\n",
            "A0A0C6FZC2                          LSQLGGD\n",
            "A0A1C2CVQ9                          LSQLGGD\n",
            "A0A1C2CV43                          LSQLGGD\n",
            "Q48TU5                              LSQLGGD\n",
            "M4YX12                              LSQLGGD\n",
            "A0A0E2EP65                          LSKLGGD\n",
            "A0A150NVN1                          LNKLGED\n",
            "\n",
            "\n",
            "\n"
          ],
          "name": "stdout"
        }
      ]
    },
    {
      "cell_type": "code",
      "metadata": {
        "id": "ELJ0t8bmqp69",
        "colab_type": "code",
        "outputId": "bf7175d2-1466-43a7-bf9f-3eec1abfe4a8",
        "colab": {}
      },
      "source": [
        "from Bio.Align.AlignInfo import print_info_content\n",
        "print_info_content(align)"
      ],
      "execution_count": 0,
      "outputs": [
        {
          "output_type": "error",
          "ename": "AttributeError",
          "evalue": "'MultipleSeqAlignment' object has no attribute 'ic_vector'",
          "traceback": [
            "\u001b[0;31m---------------------------------------------------------------------------\u001b[0m",
            "\u001b[0;31mAttributeError\u001b[0m                            Traceback (most recent call last)",
            "\u001b[0;32m<ipython-input-79-6e8a7abf4def>\u001b[0m in \u001b[0;36m<module>\u001b[0;34m()\u001b[0m\n\u001b[1;32m      1\u001b[0m \u001b[0;32mfrom\u001b[0m \u001b[0mBio\u001b[0m\u001b[0;34m.\u001b[0m\u001b[0mAlign\u001b[0m\u001b[0;34m.\u001b[0m\u001b[0mAlignInfo\u001b[0m \u001b[0;32mimport\u001b[0m \u001b[0mprint_info_content\u001b[0m\u001b[0;34m\u001b[0m\u001b[0m\n\u001b[0;32m----> 2\u001b[0;31m \u001b[0mprint_info_content\u001b[0m\u001b[0;34m(\u001b[0m\u001b[0malign\u001b[0m\u001b[0;34m)\u001b[0m\u001b[0;34m\u001b[0m\u001b[0m\n\u001b[0m",
            "\u001b[0;32m/home/nbuser/anaconda3_410/lib/python3.5/site-packages/Bio/Align/AlignInfo.py\u001b[0m in \u001b[0;36mprint_info_content\u001b[0;34m(summary_info, fout, rep_record)\u001b[0m\n\u001b[1;32m    691\u001b[0m         ic_vector value\"\"\"\n\u001b[1;32m    692\u001b[0m     \u001b[0mfout\u001b[0m \u001b[0;34m=\u001b[0m \u001b[0mfout\u001b[0m \u001b[0;32mor\u001b[0m \u001b[0msys\u001b[0m\u001b[0;34m.\u001b[0m\u001b[0mstdout\u001b[0m\u001b[0;34m\u001b[0m\u001b[0m\n\u001b[0;32m--> 693\u001b[0;31m     \u001b[0;32mif\u001b[0m \u001b[0;32mnot\u001b[0m \u001b[0msummary_info\u001b[0m\u001b[0;34m.\u001b[0m\u001b[0mic_vector\u001b[0m\u001b[0;34m:\u001b[0m\u001b[0;34m\u001b[0m\u001b[0m\n\u001b[0m\u001b[1;32m    694\u001b[0m         \u001b[0msummary_info\u001b[0m\u001b[0;34m.\u001b[0m\u001b[0minformation_content\u001b[0m\u001b[0;34m(\u001b[0m\u001b[0;34m)\u001b[0m\u001b[0;34m\u001b[0m\u001b[0m\n\u001b[1;32m    695\u001b[0m     \u001b[0mrep_sequence\u001b[0m \u001b[0;34m=\u001b[0m \u001b[0msummary_info\u001b[0m\u001b[0;34m.\u001b[0m\u001b[0malignment\u001b[0m\u001b[0;34m[\u001b[0m\u001b[0mrep_record\u001b[0m\u001b[0;34m]\u001b[0m\u001b[0;34m.\u001b[0m\u001b[0mseq\u001b[0m\u001b[0;34m\u001b[0m\u001b[0m\n",
            "\u001b[0;31mAttributeError\u001b[0m: 'MultipleSeqAlignment' object has no attribute 'ic_vector'"
          ]
        }
      ]
    },
    {
      "cell_type": "code",
      "metadata": {
        "id": "bod4Dvkrqp6-",
        "colab_type": "code",
        "outputId": "2883918b-0386-4f2a-b568-d1cdd83a4a6c",
        "colab": {}
      },
      "source": [
        "summary.pos_specific_score_matrix()"
      ],
      "execution_count": 0,
      "outputs": [
        {
          "output_type": "error",
          "ename": "ValueError",
          "evalue": "Alignment contains a sequence with                                 an incompatible alphabet.",
          "traceback": [
            "\u001b[0;31m---------------------------------------------------------------------------\u001b[0m",
            "\u001b[0;31mValueError\u001b[0m                                Traceback (most recent call last)",
            "\u001b[0;32m<ipython-input-81-f24f947e0873>\u001b[0m in \u001b[0;36m<module>\u001b[0;34m()\u001b[0m\n\u001b[0;32m----> 1\u001b[0;31m \u001b[0msummary\u001b[0m\u001b[0;34m.\u001b[0m\u001b[0mpos_specific_score_matrix\u001b[0m\u001b[0;34m(\u001b[0m\u001b[0;34m)\u001b[0m\u001b[0;34m\u001b[0m\u001b[0m\n\u001b[0m",
            "\u001b[0;32m/home/nbuser/anaconda3_410/lib/python3.5/site-packages/Bio/Align/AlignInfo.py\u001b[0m in \u001b[0;36mpos_specific_score_matrix\u001b[0;34m(self, axis_seq, chars_to_ignore)\u001b[0m\n\u001b[1;32m    404\u001b[0m             \u001b[0;32massert\u001b[0m \u001b[0mlen\u001b[0m\u001b[0;34m(\u001b[0m\u001b[0maxis_seq\u001b[0m\u001b[0;34m)\u001b[0m \u001b[0;34m==\u001b[0m \u001b[0mself\u001b[0m\u001b[0;34m.\u001b[0m\u001b[0malignment\u001b[0m\u001b[0;34m.\u001b[0m\u001b[0mget_alignment_length\u001b[0m\u001b[0;34m(\u001b[0m\u001b[0;34m)\u001b[0m\u001b[0;34m\u001b[0m\u001b[0m\n\u001b[1;32m    405\u001b[0m         \u001b[0;32melse\u001b[0m\u001b[0;34m:\u001b[0m\u001b[0;34m\u001b[0m\u001b[0m\n\u001b[0;32m--> 406\u001b[0;31m             \u001b[0mleft_seq\u001b[0m \u001b[0;34m=\u001b[0m \u001b[0mself\u001b[0m\u001b[0;34m.\u001b[0m\u001b[0mdumb_consensus\u001b[0m\u001b[0;34m(\u001b[0m\u001b[0;34m)\u001b[0m\u001b[0;34m\u001b[0m\u001b[0m\n\u001b[0m\u001b[1;32m    407\u001b[0m \u001b[0;34m\u001b[0m\u001b[0m\n\u001b[1;32m    408\u001b[0m         \u001b[0mpssm_info\u001b[0m \u001b[0;34m=\u001b[0m \u001b[0;34m[\u001b[0m\u001b[0;34m]\u001b[0m\u001b[0;34m\u001b[0m\u001b[0m\n",
            "\u001b[0;32m/home/nbuser/anaconda3_410/lib/python3.5/site-packages/Bio/Align/AlignInfo.py\u001b[0m in \u001b[0;36mdumb_consensus\u001b[0;34m(self, threshold, ambiguous, consensus_alpha, require_multiple)\u001b[0m\n\u001b[1;32m    112\u001b[0m         \u001b[0;31m# we need to guess a consensus alphabet if one isn't specified\u001b[0m\u001b[0;34m\u001b[0m\u001b[0;34m\u001b[0m\u001b[0m\n\u001b[1;32m    113\u001b[0m         \u001b[0;32mif\u001b[0m \u001b[0mconsensus_alpha\u001b[0m \u001b[0;32mis\u001b[0m \u001b[0;32mNone\u001b[0m\u001b[0;34m:\u001b[0m\u001b[0;34m\u001b[0m\u001b[0m\n\u001b[0;32m--> 114\u001b[0;31m             \u001b[0mconsensus_alpha\u001b[0m \u001b[0;34m=\u001b[0m \u001b[0mself\u001b[0m\u001b[0;34m.\u001b[0m\u001b[0m_guess_consensus_alphabet\u001b[0m\u001b[0;34m(\u001b[0m\u001b[0mambiguous\u001b[0m\u001b[0;34m)\u001b[0m\u001b[0;34m\u001b[0m\u001b[0m\n\u001b[0m\u001b[1;32m    115\u001b[0m \u001b[0;34m\u001b[0m\u001b[0m\n\u001b[1;32m    116\u001b[0m         \u001b[0;32mreturn\u001b[0m \u001b[0mSeq\u001b[0m\u001b[0;34m(\u001b[0m\u001b[0mconsensus\u001b[0m\u001b[0;34m,\u001b[0m \u001b[0mconsensus_alpha\u001b[0m\u001b[0;34m)\u001b[0m\u001b[0;34m\u001b[0m\u001b[0m\n",
            "\u001b[0;32m/home/nbuser/anaconda3_410/lib/python3.5/site-packages/Bio/Align/AlignInfo.py\u001b[0m in \u001b[0;36m_guess_consensus_alphabet\u001b[0;34m(self, ambiguous)\u001b[0m\n\u001b[1;32m    190\u001b[0m             \u001b[0;32mif\u001b[0m \u001b[0;32mnot\u001b[0m \u001b[0misinstance\u001b[0m\u001b[0;34m(\u001b[0m\u001b[0malt\u001b[0m\u001b[0;34m,\u001b[0m \u001b[0ma\u001b[0m\u001b[0;34m.\u001b[0m\u001b[0m__class__\u001b[0m\u001b[0;34m)\u001b[0m\u001b[0;34m:\u001b[0m\u001b[0;34m\u001b[0m\u001b[0m\n\u001b[1;32m    191\u001b[0m                 raise ValueError(\"Alignment contains a sequence with \\\n\u001b[0;32m--> 192\u001b[0;31m                                 an incompatible alphabet.\")\n\u001b[0m\u001b[1;32m    193\u001b[0m \u001b[0;34m\u001b[0m\u001b[0m\n\u001b[1;32m    194\u001b[0m         \u001b[0;31m# Check the ambiguous character we are going to use in the consensus\u001b[0m\u001b[0;34m\u001b[0m\u001b[0;34m\u001b[0m\u001b[0m\n",
            "\u001b[0;31mValueError\u001b[0m: Alignment contains a sequence with                                 an incompatible alphabet."
          ]
        }
      ]
    },
    {
      "cell_type": "code",
      "metadata": {
        "id": "LkNoVifQqp6_",
        "colab_type": "code",
        "outputId": "ec3169b5-24bb-4358-ff32-3d39d5c929f5",
        "colab": {}
      },
      "source": [
        "from Bio import Alphabet \n",
        "for record in align:\n",
        "    print(Alphabet._get_base_alphabet(record.seq.alphabet))"
      ],
      "execution_count": 0,
      "outputs": [
        {
          "output_type": "stream",
          "text": [
            "SingleLetterAlphabet()\n",
            "SingleLetterAlphabet()\n",
            "SingleLetterAlphabet()\n",
            "SingleLetterAlphabet()\n",
            "SingleLetterAlphabet()\n",
            "SingleLetterAlphabet()\n",
            "SingleLetterAlphabet()\n",
            "SingleLetterAlphabet()\n"
          ],
          "name": "stdout"
        }
      ]
    },
    {
      "cell_type": "code",
      "metadata": {
        "id": "bOsbO_KRqp7A",
        "colab_type": "code",
        "outputId": "77e69dfa-fc54-4770-eeec-6be6c9f7ee3a",
        "colab": {}
      },
      "source": [
        "!curl https://raw.githubusercontent.com/Serulab/Py4Bio/master/cas9align.fasta -o archivo2.txt"
      ],
      "execution_count": 0,
      "outputs": [
        {
          "output_type": "stream",
          "text": [
            "  % Total    % Received % Xferd  Average Speed   Time    Time     Time  Current\n",
            "                                 Dload  Upload   Total   Spent    Left  Speed\n",
            "100    15  100    15    0     0      2      0  0:00:07  0:00:05  0:00:02     3\n"
          ],
          "name": "stdout"
        }
      ]
    },
    {
      "cell_type": "code",
      "metadata": {
        "id": "7qzkiuHcqp7B",
        "colab_type": "code",
        "outputId": "6017429a-2d55-490d-cf6e-fbc7cd148bf6",
        "colab": {}
      },
      "source": [
        "with open('archivo2.txt') as fh:\n",
        "    print(fh.read())"
      ],
      "execution_count": 0,
      "outputs": [
        {
          "output_type": "stream",
          "text": [
            "404: Not Found\n",
            "\n"
          ],
          "name": "stdout"
        }
      ]
    },
    {
      "cell_type": "code",
      "metadata": {
        "collapsed": true,
        "id": "chHo8jnkqp7E",
        "colab_type": "code",
        "colab": {}
      },
      "source": [
        "# http://biopython.org/DIST/docs/api/Bio.Align.Applications._ClustalOmega.ClustalOmegaCommandline-class.html\n"
      ],
      "execution_count": 0,
      "outputs": []
    },
    {
      "cell_type": "code",
      "metadata": {
        "collapsed": true,
        "id": "gdyUF9ltqp7F",
        "colab_type": "code",
        "colab": {}
      },
      "source": [
        ""
      ],
      "execution_count": 0,
      "outputs": []
    }
  ]
}
