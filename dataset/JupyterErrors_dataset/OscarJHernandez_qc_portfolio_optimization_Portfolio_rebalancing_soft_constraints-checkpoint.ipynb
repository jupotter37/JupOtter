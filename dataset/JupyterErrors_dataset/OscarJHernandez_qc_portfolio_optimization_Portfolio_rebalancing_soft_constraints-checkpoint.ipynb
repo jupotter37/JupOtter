{
 "cells": [
  {
   "cell_type": "code",
   "execution_count": 1,
   "metadata": {
    "collapsed": true
   },
   "outputs": [],
   "source": [
    "import cirq\n",
    "from cirq.contrib.svg import SVGCircuit\n",
    "import sympy\n",
    "import numpy as np\n",
    "%matplotlib inline\n",
    "import matplotlib.pyplot as plt"
   ]
  },
  {
   "cell_type": "markdown",
   "metadata": {},
   "source": [
    "# The Portfolio Rebalancing Optimization using QAOA with soft constraints"
   ]
  },
  {
   "cell_type": "markdown",
   "metadata": {},
   "source": [
    "In this notebook, we will apply the QAOA algorithm to solve the portfolio optimization problem using a soft constraint\n",
    "\n",
    "\n",
    "$$\n",
    "C_{RR}({\\bf z}) = \\sum_i (1-\\lambda) r_i z_i - \\lambda\\sum_{ij} \\sigma_{ij} z_i z_j\n",
    "$$\n",
    "\n",
    "$$\n",
    "C_{TC}({\\bf z}) = \\sum_i T (1- \\delta(z-y))\n",
    "$$\n",
    "\n",
    "\n",
    "The soft constraint that we impose will be given \n",
    "\n",
    "$$\n",
    "H =C_{RR}({\\bf z})+C_{TC}({\\bf z})+A\\left(D-\\sum_i z_i \\right)^2\n",
    "$$"
   ]
  },
  {
   "cell_type": "markdown",
   "metadata": {},
   "source": [
    "# Generate the inital ground state wave function of the reference Hamiltonian"
   ]
  },
  {
   "cell_type": "code",
   "execution_count": 2,
   "metadata": {
    "collapsed": false
   },
   "outputs": [
    {
     "name": "stdout",
     "output_type": "stream",
     "text": [
      "[(0, 1), (2, 3)]\n",
      "\n",
      "[cirq.LineQubit(0), cirq.LineQubit(1), cirq.LineQubit(2), cirq.LineQubit(3)]\n"
     ]
    },
    {
     "data": {
      "image/svg+xml": [
       "<svg xmlns=\"http://www.w3.org/2000/svg\" width=\"220.0\" height=\"200.0\"><line x1=\"30.0\" x2=\"190.0\" y1=\"25.0\" y2=\"25.0\" stroke=\"#1967d2\" stroke-width=\"1\" /><line x1=\"30.0\" x2=\"190.0\" y1=\"75.0\" y2=\"75.0\" stroke=\"#1967d2\" stroke-width=\"1\" /><line x1=\"30.0\" x2=\"190.0\" y1=\"125.0\" y2=\"125.0\" stroke=\"#1967d2\" stroke-width=\"1\" /><line x1=\"30.0\" x2=\"190.0\" y1=\"175.0\" y2=\"175.0\" stroke=\"#1967d2\" stroke-width=\"1\" /><rect x=\"10.0\" y=\"5.0\" width=\"40\" height=\"40\" stroke=\"black\" fill=\"white\" stroke-width=\"0\" /><text x=\"30.0\" y=\"25.0\" dominant-baseline=\"middle\" text-anchor=\"middle\" font-size=\"14px\">0: </text><rect x=\"10.0\" y=\"55.0\" width=\"40\" height=\"40\" stroke=\"black\" fill=\"white\" stroke-width=\"0\" /><text x=\"30.0\" y=\"75.0\" dominant-baseline=\"middle\" text-anchor=\"middle\" font-size=\"14px\">1: </text><rect x=\"10.0\" y=\"105.0\" width=\"40\" height=\"40\" stroke=\"black\" fill=\"white\" stroke-width=\"0\" /><text x=\"30.0\" y=\"125.0\" dominant-baseline=\"middle\" text-anchor=\"middle\" font-size=\"14px\">2: </text><rect x=\"10.0\" y=\"155.0\" width=\"40\" height=\"40\" stroke=\"black\" fill=\"white\" stroke-width=\"0\" /><text x=\"30.0\" y=\"175.0\" dominant-baseline=\"middle\" text-anchor=\"middle\" font-size=\"14px\">3: </text><rect x=\"70.0\" y=\"5.0\" width=\"40\" height=\"40\" stroke=\"black\" fill=\"white\" stroke-width=\"1\" /><text x=\"90.0\" y=\"25.0\" dominant-baseline=\"middle\" text-anchor=\"middle\" font-size=\"18px\">H</text><rect x=\"70.0\" y=\"55.0\" width=\"40\" height=\"40\" stroke=\"black\" fill=\"white\" stroke-width=\"1\" /><text x=\"90.0\" y=\"75.0\" dominant-baseline=\"middle\" text-anchor=\"middle\" font-size=\"18px\">H</text><rect x=\"70.0\" y=\"105.0\" width=\"40\" height=\"40\" stroke=\"black\" fill=\"white\" stroke-width=\"1\" /><text x=\"90.0\" y=\"125.0\" dominant-baseline=\"middle\" text-anchor=\"middle\" font-size=\"18px\">H</text><rect x=\"70.0\" y=\"155.0\" width=\"40\" height=\"40\" stroke=\"black\" fill=\"white\" stroke-width=\"1\" /><text x=\"90.0\" y=\"175.0\" dominant-baseline=\"middle\" text-anchor=\"middle\" font-size=\"18px\">H</text><rect x=\"130.0\" y=\"5.0\" width=\"40\" height=\"40\" stroke=\"black\" fill=\"white\" stroke-width=\"1\" /><text x=\"150.0\" y=\"25.0\" dominant-baseline=\"middle\" text-anchor=\"middle\" font-size=\"18px\">M</text><rect x=\"130.0\" y=\"55.0\" width=\"40\" height=\"40\" stroke=\"black\" fill=\"white\" stroke-width=\"1\" /><text x=\"150.0\" y=\"75.0\" dominant-baseline=\"middle\" text-anchor=\"middle\" font-size=\"18px\">M</text><rect x=\"130.0\" y=\"105.0\" width=\"40\" height=\"40\" stroke=\"black\" fill=\"white\" stroke-width=\"1\" /><text x=\"150.0\" y=\"125.0\" dominant-baseline=\"middle\" text-anchor=\"middle\" font-size=\"18px\">M</text><rect x=\"130.0\" y=\"155.0\" width=\"40\" height=\"40\" stroke=\"black\" fill=\"white\" stroke-width=\"1\" /><text x=\"150.0\" y=\"175.0\" dominant-baseline=\"middle\" text-anchor=\"middle\" font-size=\"18px\">M</text></svg>"
      ],
      "text/plain": [
       "<cirq.contrib.svg.svg.SVGCircuit at 0x7fb21183ea00>"
      ]
     },
     "execution_count": 2,
     "metadata": {},
     "output_type": "execute_result"
    }
   ],
   "source": [
    "# Choose the number of portfolios to optimize\n",
    "N = 2\n",
    "\n",
    "# Define the transaction cost\n",
    "T = sympy.symbols(\"T\")\n",
    "D = sympy.symbols(\"D\")\n",
    "A = sympy.symbols(\"A\")\n",
    "\n",
    "# Define our previous holdings\n",
    "y = np.zeros(N)\n",
    "\n",
    "# Define qubits on the grid.\n",
    "qubits = [cirq.LineQubit(i) for i in range(2*N)]\n",
    "\n",
    "# Define the indices that we will use\n",
    "index_grid_pair = [(2*i,2*i+1) for i in range(0,N) ]\n",
    "\n",
    "print(index_grid_pair)\n",
    "print()\n",
    "\n",
    "# Next we take these quibits which are in states |0> and apply a Hadamard gate to each one.\n",
    "# this generates the eigenvectors of the reference Hamiltonian\n",
    "\n",
    "print(qubits)\n",
    "\n",
    "hadamard_operators = [cirq.H(qubits[i]) for i in range(len(qubits))]\n",
    "measurements = cirq.Moment([cirq.measure(qubits[i],key=str(i)) for i in range(len(qubits))])\n",
    "#measurements = cirq.Moment( [cirq.measure(qubits[2],qubits[0],qubits[1],qubits[3],key='x') ])\n",
    "\n",
    "# Create the circuit from this \n",
    "circuit = cirq.Circuit((hadamard_operators,measurements))\n",
    "\n",
    "#print(circuit)\n",
    "SVGCircuit(circuit)\n"
   ]
  },
  {
   "cell_type": "markdown",
   "metadata": {},
   "source": [
    "# Implementation of the mixing operator\n",
    "\n",
    "We have generated the ground state wave function of the reference Hamiltonian. Now, we need to construc the Unitary operator $U({\\beta})$ that represents the time evolution operator \n",
    "\n",
    "$$\n",
    "\\begin{align}\n",
    "U({\\bf \\beta}) &= e^{-i\\beta B}, \\\\\n",
    "B &= \\sum_{i} X_i.\n",
    "\\end{align}\n",
    "$$\n",
    "\n",
    "In the `cirq` api, this operator is implemented as \n",
    "\n",
    "$$\n",
    "\\text{cirq.rx} \\equiv e^{-i X \\beta / 2}.\n",
    "$$\n",
    "\n"
   ]
  },
  {
   "cell_type": "code",
   "execution_count": 3,
   "metadata": {
    "collapsed": false
   },
   "outputs": [
    {
     "data": {
      "image/svg+xml": [
       "<svg xmlns=\"http://www.w3.org/2000/svg\" width=\"311.421171875\" height=\"200.0\"><line x1=\"30.0\" x2=\"281.421171875\" y1=\"25.0\" y2=\"25.0\" stroke=\"#1967d2\" stroke-width=\"1\" /><line x1=\"30.0\" x2=\"281.421171875\" y1=\"75.0\" y2=\"75.0\" stroke=\"#1967d2\" stroke-width=\"1\" /><line x1=\"30.0\" x2=\"281.421171875\" y1=\"125.0\" y2=\"125.0\" stroke=\"#1967d2\" stroke-width=\"1\" /><line x1=\"30.0\" x2=\"281.421171875\" y1=\"175.0\" y2=\"175.0\" stroke=\"#1967d2\" stroke-width=\"1\" /><rect x=\"10.0\" y=\"5.0\" width=\"40\" height=\"40\" stroke=\"black\" fill=\"white\" stroke-width=\"0\" /><text x=\"30.0\" y=\"25.0\" dominant-baseline=\"middle\" text-anchor=\"middle\" font-size=\"14px\">0: </text><rect x=\"10.0\" y=\"55.0\" width=\"40\" height=\"40\" stroke=\"black\" fill=\"white\" stroke-width=\"0\" /><text x=\"30.0\" y=\"75.0\" dominant-baseline=\"middle\" text-anchor=\"middle\" font-size=\"14px\">1: </text><rect x=\"10.0\" y=\"105.0\" width=\"40\" height=\"40\" stroke=\"black\" fill=\"white\" stroke-width=\"0\" /><text x=\"30.0\" y=\"125.0\" dominant-baseline=\"middle\" text-anchor=\"middle\" font-size=\"14px\">2: </text><rect x=\"10.0\" y=\"155.0\" width=\"40\" height=\"40\" stroke=\"black\" fill=\"white\" stroke-width=\"0\" /><text x=\"30.0\" y=\"175.0\" dominant-baseline=\"middle\" text-anchor=\"middle\" font-size=\"14px\">3: </text><rect x=\"70.0\" y=\"5.0\" width=\"40\" height=\"40\" stroke=\"black\" fill=\"white\" stroke-width=\"1\" /><text x=\"90.0\" y=\"25.0\" dominant-baseline=\"middle\" text-anchor=\"middle\" font-size=\"18px\">H</text><rect x=\"70.0\" y=\"55.0\" width=\"40\" height=\"40\" stroke=\"black\" fill=\"white\" stroke-width=\"1\" /><text x=\"90.0\" y=\"75.0\" dominant-baseline=\"middle\" text-anchor=\"middle\" font-size=\"18px\">H</text><rect x=\"70.0\" y=\"105.0\" width=\"40\" height=\"40\" stroke=\"black\" fill=\"white\" stroke-width=\"1\" /><text x=\"90.0\" y=\"125.0\" dominant-baseline=\"middle\" text-anchor=\"middle\" font-size=\"18px\">H</text><rect x=\"70.0\" y=\"155.0\" width=\"40\" height=\"40\" stroke=\"black\" fill=\"white\" stroke-width=\"1\" /><text x=\"90.0\" y=\"175.0\" dominant-baseline=\"middle\" text-anchor=\"middle\" font-size=\"18px\">H</text><rect x=\"130.0\" y=\"5.0\" width=\"71.421171875\" height=\"40\" stroke=\"black\" fill=\"white\" stroke-width=\"1\" /><text x=\"165.7105859375\" y=\"25.0\" dominant-baseline=\"middle\" text-anchor=\"middle\" font-size=\"14px\">Rx(2*b_0)</text><rect x=\"130.0\" y=\"55.0\" width=\"71.421171875\" height=\"40\" stroke=\"black\" fill=\"white\" stroke-width=\"1\" /><text x=\"165.7105859375\" y=\"75.0\" dominant-baseline=\"middle\" text-anchor=\"middle\" font-size=\"14px\">Rx(2*b_0)</text><rect x=\"130.0\" y=\"105.0\" width=\"71.421171875\" height=\"40\" stroke=\"black\" fill=\"white\" stroke-width=\"1\" /><text x=\"165.7105859375\" y=\"125.0\" dominant-baseline=\"middle\" text-anchor=\"middle\" font-size=\"14px\">Rx(2*b_0)</text><rect x=\"130.0\" y=\"155.0\" width=\"71.421171875\" height=\"40\" stroke=\"black\" fill=\"white\" stroke-width=\"1\" /><text x=\"165.7105859375\" y=\"175.0\" dominant-baseline=\"middle\" text-anchor=\"middle\" font-size=\"14px\">Rx(2*b_0)</text><rect x=\"221.421171875\" y=\"5.0\" width=\"40\" height=\"40\" stroke=\"black\" fill=\"white\" stroke-width=\"1\" /><text x=\"241.421171875\" y=\"25.0\" dominant-baseline=\"middle\" text-anchor=\"middle\" font-size=\"18px\">M</text><rect x=\"221.421171875\" y=\"55.0\" width=\"40\" height=\"40\" stroke=\"black\" fill=\"white\" stroke-width=\"1\" /><text x=\"241.421171875\" y=\"75.0\" dominant-baseline=\"middle\" text-anchor=\"middle\" font-size=\"18px\">M</text><rect x=\"221.421171875\" y=\"105.0\" width=\"40\" height=\"40\" stroke=\"black\" fill=\"white\" stroke-width=\"1\" /><text x=\"241.421171875\" y=\"125.0\" dominant-baseline=\"middle\" text-anchor=\"middle\" font-size=\"18px\">M</text><rect x=\"221.421171875\" y=\"155.0\" width=\"40\" height=\"40\" stroke=\"black\" fill=\"white\" stroke-width=\"1\" /><text x=\"241.421171875\" y=\"175.0\" dominant-baseline=\"middle\" text-anchor=\"middle\" font-size=\"18px\">M</text></svg>"
      ],
      "text/plain": [
       "<cirq.contrib.svg.svg.SVGCircuit at 0x7fb211845bb0>"
      ]
     },
     "execution_count": 3,
     "metadata": {},
     "output_type": "execute_result"
    }
   ],
   "source": [
    "# Generate a list of symbolic arguments\n",
    "beta_list = [\"b_\"+str(i) for i in range(1)]\n",
    "\n",
    "# Convert them to symbolic numpy objects\n",
    "betas = sympy.symbols(beta_list)\n",
    "\n",
    "\n",
    "mixer_operators = [cirq.rx(2*betas[0]).on(qubits[i]) for i in range(len(qubits))]\n",
    "\n",
    "# Create the circuit from this \n",
    "circuit = cirq.Circuit((hadamard_operators,mixer_operators,measurements))\n",
    "\n",
    "#print(circuit)\n",
    "\n",
    "SVGCircuit(circuit)"
   ]
  },
  {
   "cell_type": "markdown",
   "metadata": {},
   "source": [
    "# Implementation of the exponential cost-function\n",
    "\n",
    "\n",
    "For the portfolio optimization problem we have that the operator $Z_i$ is the difference between the Pauli-$z$ matrices\n",
    "$$\n",
    "\\begin{align}\n",
    "Z_i = \\frac{1}{2}\\left(z^{+}_{i}-z^{-}_{i} \\right),\n",
    "\\end{align}\n",
    "$$\n",
    "\n",
    "\n",
    "where the $z^+_i$ and $z^-_i$ operate on the $i$-th qubit pair $|q_+,q_- \\rangle$ and $q_{\\pm}=\\lbrace 0,1\\rbrace$\n",
    "\n",
    "$$\n",
    "C_{RR}({\\bf z}) = \\sum_i (1-\\lambda) r_i z_i - \\lambda\\sum_{ij} \\sigma_{ij} z_i z_j\n",
    "$$\n",
    "\n",
    "\n",
    "$$\n",
    "\\begin{align}\n",
    "e^{-i \\gamma C_{RR}(z) } &=   \\rm{Exp}\\left(  i \\gamma (1-\\lambda) \\sum_{k=1} \\mu_k Z_k \\right)  \\rm{Exp}\\left( - i \\lambda \\gamma  \\sum_{ij} \\sigma_{ij} Z_i Z_j \\right) \\\\\n",
    "&=   \\prod_{k=1} \\rm{Exp}\\left( i \\gamma (1-\\lambda) \\mu_k Z_k \\right) \\prod_{ij} \\rm{Exp}\\left( - i \\lambda \\gamma  \\sigma_{ij} Z_i Z_j \\right) \\\\\n",
    "&=   \\prod_{k=1} \\rm{Exp}\\left( i \\gamma (1-\\lambda) \\frac{1}{2} \\mu_k z^{+}_{k} \\right)\\left( i \\gamma (1-\\lambda) \\frac{1}{2} \\mu_k (-z^{-}_{k}) \\right) \\prod_{ij} \\rm{Exp}\\left( - i \\lambda \\frac{1}{4} \\gamma  \\sigma_{ij} \\left(z^{+}_{i}z^{+}_{j}-z^{+}_{i}z^{-}_{j}-z^{-}_{i}z^{+}_{j}+z^{-}_{i}z^{-}_{j} \\right) \\right)\n",
    "\\end{align}\n",
    "$$\n"
   ]
  },
  {
   "cell_type": "code",
   "execution_count": 4,
   "metadata": {
    "collapsed": false
   },
   "outputs": [
    {
     "data": {
      "image/svg+xml": [
       "<svg xmlns=\"http://www.w3.org/2000/svg\" width=\"510.95953125000005\" height=\"200.0\"><line x1=\"30.0\" x2=\"480.95953125000005\" y1=\"25.0\" y2=\"25.0\" stroke=\"#1967d2\" stroke-width=\"1\" /><line x1=\"30.0\" x2=\"480.95953125000005\" y1=\"75.0\" y2=\"75.0\" stroke=\"#1967d2\" stroke-width=\"1\" /><line x1=\"30.0\" x2=\"480.95953125000005\" y1=\"125.0\" y2=\"125.0\" stroke=\"#1967d2\" stroke-width=\"1\" /><line x1=\"30.0\" x2=\"480.95953125000005\" y1=\"175.0\" y2=\"175.0\" stroke=\"#1967d2\" stroke-width=\"1\" /><rect x=\"10.0\" y=\"5.0\" width=\"40\" height=\"40\" stroke=\"black\" fill=\"white\" stroke-width=\"0\" /><text x=\"30.0\" y=\"25.0\" dominant-baseline=\"middle\" text-anchor=\"middle\" font-size=\"14px\">0: </text><rect x=\"10.0\" y=\"55.0\" width=\"40\" height=\"40\" stroke=\"black\" fill=\"white\" stroke-width=\"0\" /><text x=\"30.0\" y=\"75.0\" dominant-baseline=\"middle\" text-anchor=\"middle\" font-size=\"14px\">1: </text><rect x=\"10.0\" y=\"105.0\" width=\"40\" height=\"40\" stroke=\"black\" fill=\"white\" stroke-width=\"0\" /><text x=\"30.0\" y=\"125.0\" dominant-baseline=\"middle\" text-anchor=\"middle\" font-size=\"14px\">2: </text><rect x=\"10.0\" y=\"155.0\" width=\"40\" height=\"40\" stroke=\"black\" fill=\"white\" stroke-width=\"0\" /><text x=\"30.0\" y=\"175.0\" dominant-baseline=\"middle\" text-anchor=\"middle\" font-size=\"14px\">3: </text><rect x=\"70.0\" y=\"5.0\" width=\"40\" height=\"40\" stroke=\"black\" fill=\"white\" stroke-width=\"1\" /><text x=\"90.0\" y=\"25.0\" dominant-baseline=\"middle\" text-anchor=\"middle\" font-size=\"18px\">H</text><rect x=\"70.0\" y=\"55.0\" width=\"40\" height=\"40\" stroke=\"black\" fill=\"white\" stroke-width=\"1\" /><text x=\"90.0\" y=\"75.0\" dominant-baseline=\"middle\" text-anchor=\"middle\" font-size=\"18px\">H</text><rect x=\"70.0\" y=\"105.0\" width=\"40\" height=\"40\" stroke=\"black\" fill=\"white\" stroke-width=\"1\" /><text x=\"90.0\" y=\"125.0\" dominant-baseline=\"middle\" text-anchor=\"middle\" font-size=\"18px\">H</text><rect x=\"70.0\" y=\"155.0\" width=\"40\" height=\"40\" stroke=\"black\" fill=\"white\" stroke-width=\"1\" /><text x=\"90.0\" y=\"175.0\" dominant-baseline=\"middle\" text-anchor=\"middle\" font-size=\"18px\">H</text><rect x=\"130.0\" y=\"5.0\" width=\"71.421171875\" height=\"40\" stroke=\"black\" fill=\"white\" stroke-width=\"1\" /><text x=\"165.7105859375\" y=\"25.0\" dominant-baseline=\"middle\" text-anchor=\"middle\" font-size=\"14px\">Rx(2*b_0)</text><rect x=\"130.0\" y=\"55.0\" width=\"71.421171875\" height=\"40\" stroke=\"black\" fill=\"white\" stroke-width=\"1\" /><text x=\"165.7105859375\" y=\"75.0\" dominant-baseline=\"middle\" text-anchor=\"middle\" font-size=\"14px\">Rx(2*b_0)</text><rect x=\"130.0\" y=\"105.0\" width=\"71.421171875\" height=\"40\" stroke=\"black\" fill=\"white\" stroke-width=\"1\" /><text x=\"165.7105859375\" y=\"125.0\" dominant-baseline=\"middle\" text-anchor=\"middle\" font-size=\"14px\">Rx(2*b_0)</text><rect x=\"130.0\" y=\"155.0\" width=\"71.421171875\" height=\"40\" stroke=\"black\" fill=\"white\" stroke-width=\"1\" /><text x=\"165.7105859375\" y=\"175.0\" dominant-baseline=\"middle\" text-anchor=\"middle\" font-size=\"14px\">Rx(2*b_0)</text><rect x=\"221.42117187500003\" y=\"5.0\" width=\"179.53835937500003\" height=\"40\" stroke=\"black\" fill=\"white\" stroke-width=\"1\" /><text x=\"311.19035156250004\" y=\"25.0\" dominant-baseline=\"middle\" text-anchor=\"middle\" font-size=\"14px\">Rz(gamma*mu_0*(1 - lam))</text><rect x=\"221.42117187500003\" y=\"55.0\" width=\"179.53835937500003\" height=\"40\" stroke=\"black\" fill=\"white\" stroke-width=\"1\" /><text x=\"311.19035156250004\" y=\"75.0\" dominant-baseline=\"middle\" text-anchor=\"middle\" font-size=\"14px\">Rz(gamma*mu_0*(lam - 1))</text><rect x=\"221.42117187500003\" y=\"105.0\" width=\"179.53835937500003\" height=\"40\" stroke=\"black\" fill=\"white\" stroke-width=\"1\" /><text x=\"311.19035156250004\" y=\"125.0\" dominant-baseline=\"middle\" text-anchor=\"middle\" font-size=\"14px\">Rz(gamma*mu_1*(1 - lam))</text><rect x=\"221.42117187500003\" y=\"155.0\" width=\"179.53835937500003\" height=\"40\" stroke=\"black\" fill=\"white\" stroke-width=\"1\" /><text x=\"311.19035156250004\" y=\"175.0\" dominant-baseline=\"middle\" text-anchor=\"middle\" font-size=\"14px\">Rz(gamma*mu_1*(lam - 1))</text><rect x=\"420.95953125000005\" y=\"5.0\" width=\"40\" height=\"40\" stroke=\"black\" fill=\"white\" stroke-width=\"1\" /><text x=\"440.95953125000005\" y=\"25.0\" dominant-baseline=\"middle\" text-anchor=\"middle\" font-size=\"18px\">M</text><rect x=\"420.95953125000005\" y=\"55.0\" width=\"40\" height=\"40\" stroke=\"black\" fill=\"white\" stroke-width=\"1\" /><text x=\"440.95953125000005\" y=\"75.0\" dominant-baseline=\"middle\" text-anchor=\"middle\" font-size=\"18px\">M</text><rect x=\"420.95953125000005\" y=\"105.0\" width=\"40\" height=\"40\" stroke=\"black\" fill=\"white\" stroke-width=\"1\" /><text x=\"440.95953125000005\" y=\"125.0\" dominant-baseline=\"middle\" text-anchor=\"middle\" font-size=\"18px\">M</text><rect x=\"420.95953125000005\" y=\"155.0\" width=\"40\" height=\"40\" stroke=\"black\" fill=\"white\" stroke-width=\"1\" /><text x=\"440.95953125000005\" y=\"175.0\" dominant-baseline=\"middle\" text-anchor=\"middle\" font-size=\"18px\">M</text></svg>"
      ],
      "text/plain": [
       "<cirq.contrib.svg.svg.SVGCircuit at 0x7fb211845070>"
      ]
     },
     "execution_count": 4,
     "metadata": {},
     "output_type": "execute_result"
    }
   ],
   "source": [
    "# Returns\n",
    "mu = sympy.symbols([\"mu_\"+str(k) for k in range(N)])\n",
    "\n",
    "\n",
    "# Convert them to symbolic numpy objects\n",
    "lam,gamma = sympy.symbols(\"lam, gamma\")\n",
    "\n",
    "cost_returns_operators = [cirq.rz((-1)**int(i)*(1-lam)*gamma*mu[int(i/2)]).on(qubits[i]) for i in range(len(qubits))]\n",
    "\n",
    "# Create the circuit from this \n",
    "circuit = cirq.Circuit((hadamard_operators,mixer_operators,cost_returns_operators,measurements))\n",
    "\n",
    "#print(circuit)\n",
    "\n",
    "SVGCircuit(circuit)"
   ]
  },
  {
   "cell_type": "markdown",
   "metadata": {},
   "source": [
    " ## Implementation of $e^{ i \\gamma z_i z_j}$\n",
    " \n",
    "This operator only contributes if $i \\neq j$. If $i=j$ then the operator is simply an overall constant phase that can be ignored. First, we will implement $e^{ i \\gamma \\pi z_i z_j}$ by rescaling the $\\gamma$ parameter. Furthermore, we note that an overall phase factor does not not change the final result when taking expectation values with wavefunctions, so we will remove an $e^{i\\pi\\gamma}$ phase from the implementation of this operator to simplify its decomposition.\n",
    " \n",
    " $$\n",
    " \\begin{align}\n",
    "  \\text{Exp}\\left(i \\pi \\gamma z_i z_j \\right) &= \n",
    " \\begin{bmatrix}\n",
    "   e^{\\left(i \\pi \\gamma   \\right)} & 0 & 0 & 0 \\\\\n",
    "  0 & e^{-\\left(i \\pi \\gamma   \\right)} & 0 & 0 \\\\\n",
    "  0 & 0 & e^{-\\left(i \\pi \\gamma \\right)} & 0 \\\\\n",
    "  0 & 0 & 0 & e^{\\left(i \\pi \\gamma  \\right)}\n",
    "  \\end{bmatrix},\\\\\n",
    "  &= \n",
    " e^{i \\pi \\gamma}\n",
    " \\begin{bmatrix}\n",
    "   1 & 0 & 0 & 0 \\\\\n",
    "  0 & e^{-2\\left(i \\pi \\gamma   \\right)} & 0 & 0 \\\\\n",
    "  0 & 0 & e^{-2\\left(i \\pi \\gamma \\right)} & 0 \\\\\n",
    "  0 & 0 & 0 &1\n",
    "  \\end{bmatrix},\n",
    " \\end{align}\n",
    " $$\n",
    " \n",
    " Now, we note that in `cirq`, the above matrix is implemented as\n",
    " \n",
    " $$\n",
    " \\text{cirq.ZZPowGate}(t) = \n",
    "   \\begin{bmatrix}\n",
    "   1 & 0 & 0 & 0 \\\\\n",
    "  0 & e^{i\\pi t} & 0 & 0 \\\\\n",
    "  0 & 0 &  e^{i\\pi t} & 0 \\\\\n",
    "  0 & 0 & 0 &  1\n",
    "  \\end{bmatrix}.\n",
    " $$\n",
    " \n",
    " \n",
    " For the purposes of implementation also note that\n",
    " \n",
    " $$\n",
    " X_2  \\equiv \\left( I \\otimes X \\right)  = \\begin{bmatrix}\n",
    "  X & {\\bf 0}\\\\\n",
    "  {\\bf 0} & X \n",
    "  \\end{bmatrix}\n",
    "   = \\begin{bmatrix}\n",
    "  0 & 1 & 0& 0\\\\\n",
    "  1 & 0 & 0& 0\\\\\n",
    "  0 & 0 & 0& 1\\\\\n",
    "  0 & 0 & 1& 0\\\\\n",
    "  \\end{bmatrix},\n",
    " $$\n",
    " \n",
    "  $$\n",
    " X_1  \\equiv \\left( X \\otimes I \\right)  = \\begin{bmatrix}\n",
    "  {\\bf 0} & I\\\\\n",
    "  I & {\\bf 0} \n",
    "  \\end{bmatrix}\n",
    "   = \\begin{bmatrix}\n",
    "  0 & 0 & 1& 0\\\\\n",
    "  0 & 0 & 0& 1\\\\\n",
    "  1 & 0 & 0& 0\\\\\n",
    "  0 & 1 & 0& 0\\\\\n",
    "  \\end{bmatrix},\n",
    " $$\n",
    " \n",
    "   $$\n",
    " X_1  X_2 = X_2  X_1 = \\begin{bmatrix}\n",
    "  {\\bf 0} & X\\\\\n",
    "  X & {\\bf 0} \n",
    "  \\end{bmatrix}\n",
    "   = \\begin{bmatrix}\n",
    "  0 & 0 & 0& 1\\\\\n",
    "  0 & 0 & 1& 0\\\\\n",
    "  0 & 1 & 0& 0\\\\\n",
    "  1 & 0 & 0& 0\\\\\n",
    "  \\end{bmatrix}.\n",
    " $$"
   ]
  },
  {
   "cell_type": "markdown",
   "metadata": {},
   "source": [
    "Finally, we arrive at the decomposition of our operator of interest in terms of gate operations\n",
    " \n",
    "$$\n",
    "\\text{Exp}\\left(i \\pi \\gamma z_i z_j \\right) = e^{i\\gamma \\pi}\\text{cirq.ZZPowGate}(-2\\gamma)\n",
    "$$\n",
    " "
   ]
  },
  {
   "cell_type": "code",
   "execution_count": 5,
   "metadata": {
    "collapsed": false
   },
   "outputs": [
    {
     "name": "stdout",
     "output_type": "stream",
     "text": [
      "[cirq.LineQubit(0), cirq.LineQubit(1), cirq.LineQubit(2), cirq.LineQubit(3)]\n",
      "\n",
      "++ Combinations\n",
      "[(0, 2), (2, 0)]\n",
      "\n",
      "-- Combinations\n",
      "[(1, 3), (3, 1)]\n",
      "\n",
      "+- Combinations\n",
      "[(0, 1), (0, 3), (2, 1), (2, 3)]\n",
      "\n",
      "-+ Combinations\n",
      "[(1, 0), (1, 2), (3, 0), (3, 2)]\n",
      "\n",
      "+- Combinations| Same portfolio\n",
      "[(0, 1), (2, 3)]\n",
      "sigma_0_0\n",
      "\n",
      "Example circut for application of Exp(zi zj) \n",
      "\n"
     ]
    },
    {
     "data": {
      "image/svg+xml": [
       "<svg xmlns=\"http://www.w3.org/2000/svg\" width=\"327.1760546875\" height=\"100.0\"><line x1=\"30.0\" x2=\"297.1760546875\" y1=\"25.0\" y2=\"25.0\" stroke=\"#1967d2\" stroke-width=\"1\" /><line x1=\"30.0\" x2=\"297.1760546875\" y1=\"75.0\" y2=\"75.0\" stroke=\"#1967d2\" stroke-width=\"1\" /><line x1=\"173.58802734375\" x2=\"173.58802734375\" y1=\"25.0\" y2=\"75.0\" stroke=\"black\" stroke-width=\"3\" /><rect x=\"10.0\" y=\"5.0\" width=\"40\" height=\"40\" stroke=\"black\" fill=\"white\" stroke-width=\"0\" /><text x=\"30.0\" y=\"25.0\" dominant-baseline=\"middle\" text-anchor=\"middle\" font-size=\"14px\">0: </text><rect x=\"10.0\" y=\"55.0\" width=\"40\" height=\"40\" stroke=\"black\" fill=\"white\" stroke-width=\"0\" /><text x=\"30.0\" y=\"75.0\" dominant-baseline=\"middle\" text-anchor=\"middle\" font-size=\"14px\">2: </text><rect x=\"70.0\" y=\"5.0\" width=\"207.17605468750003\" height=\"40\" stroke=\"black\" fill=\"white\" stroke-width=\"1\" /><text x=\"173.58802734375\" y=\"25.0\" dominant-baseline=\"middle\" text-anchor=\"middle\" font-size=\"14px\">ZZ</text><rect x=\"70.0\" y=\"55.0\" width=\"207.17605468750003\" height=\"40\" stroke=\"black\" fill=\"white\" stroke-width=\"1\" /><text x=\"173.58802734375\" y=\"75.0\" dominant-baseline=\"middle\" text-anchor=\"middle\" font-size=\"14px\">ZZ^(-gamma*lam*sigma_1_0/2)</text></svg>"
      ],
      "text/plain": [
       "<cirq.contrib.svg.svg.SVGCircuit at 0x7fb211795b80>"
      ]
     },
     "execution_count": 5,
     "metadata": {},
     "output_type": "execute_result"
    }
   ],
   "source": [
    "def exp_zz(gamma,qubit1,qubit2):\n",
    "    \"\"\"\n",
    "    Exponentiates the Exp[]\n",
    "    \"\"\"\n",
    "    \n",
    "    #D1 = [ cirq.X.on(qubit2), cirq.CZPowGate(exponent= -2*gamma).on(qubit1,qubit2), cirq.X.on(qubit2)]\n",
    "    #D2 = [ cirq.X.on(qubit1),cirq.X.on(qubit2), cirq.CZPowGate(exponent= -2*gamma).on(qubit1,qubit2),cirq.X.on(qubit1),cirq.X.on(qubit2)]\n",
    "    \n",
    "    #decomposition = D2.append(D1)\n",
    "    \n",
    "    return [cirq.ZZPowGate(exponent= -2*gamma).on(qubit1,qubit2)]\n",
    "\n",
    "\n",
    "\n",
    "def remove_digonal_combinations(combination_list):\n",
    "    \"\"\"\n",
    "    Simple utility function to remove the diagonal combinations from a list\n",
    "    of possible connections\n",
    "    \"\"\"\n",
    "    \n",
    "    purged_list = []\n",
    "    \n",
    "    \n",
    "    for i in range(len(index_grid_pp)):\n",
    "        p1,p2 = combination_list[i]\n",
    "    \n",
    "        if(p1!=p2):\n",
    "            purged_list.append((p1,p2))\n",
    "    \n",
    "    \n",
    "    return purged_list\n",
    "\n",
    "def map_combinations_to_portfolio_index(combination_list):\n",
    "    \n",
    "    \n",
    "    portfolio_index= [ (int(combination_list[i][0]/2), int(combination_list[i][1]/2)) for i in range(len(combination_list))]\n",
    "    \n",
    "    return portfolio_index\n",
    "\n",
    "\n",
    "# Covariance matrix\n",
    "sigma = sympy.symbols([[\"sigma_\"+str(i)+\"_\"+str(j) for i in range(N)] for j in range(N)])\n",
    "\n",
    "print(qubits)\n",
    "print()\n",
    "# Define the s^+ , s^- permutations that we will use for summations\n",
    "index_grid_p = [2*i for i in range(0,N)]\n",
    "index_grid_m = [2*i+1 for i in range(0,N)]\n",
    "index_grid_pm = [(2*i,2*j+1) for i in range(0,N) for j in range(0,N) ]\n",
    "index_grid_pm_ii = [(2*i,2*i+1) for i in range(0,N)]\n",
    "index_grid_mp = [(2*i+1,2*j) for i in range(0,N) for j in range(0,N) ]\n",
    "index_grid_pp = [(2*i,2*j) for i in range(0,N) for j in range(0,N)  ]\n",
    "index_grid_mm = [(2*i+1,2*j+1) for i in range(0,N) for j in range(0,N) ]\n",
    "\n",
    "\n",
    "index_grid_pp_offdiagonal  =  remove_digonal_combinations(index_grid_pp)\n",
    "index_grid_mm_offdiagonal  =  remove_digonal_combinations(index_grid_mm)\n",
    "index_grid_pm_offdiagonal  =  remove_digonal_combinations(index_grid_pm)\n",
    "index_grid_mp_offdiagonal  =  remove_digonal_combinations(index_grid_mp)\n",
    "\n",
    "\n",
    "index_grid_pp_portfolio = map_combinations_to_portfolio_index(index_grid_pp_offdiagonal)\n",
    "index_grid_mm_portfolio = map_combinations_to_portfolio_index(index_grid_mm_offdiagonal)\n",
    "index_grid_pm_portfolio = map_combinations_to_portfolio_index(index_grid_pm_offdiagonal)\n",
    "index_grid_mp_portfolio = map_combinations_to_portfolio_index(index_grid_mp_offdiagonal)\n",
    "\n",
    "print(\"++ Combinations\")\n",
    "print(index_grid_pp_offdiagonal)\n",
    "print()\n",
    "print(\"-- Combinations\")\n",
    "print(index_grid_mm_offdiagonal)\n",
    "print()\n",
    "print(\"+- Combinations\")\n",
    "print(index_grid_pm_offdiagonal)\n",
    "print()\n",
    "print(\"-+ Combinations\")\n",
    "print(index_grid_mp_offdiagonal)\n",
    "print()\n",
    "print(\"+- Combinations| Same portfolio\")\n",
    "print(index_grid_pm_ii)\n",
    "\n",
    "\n",
    "k=0\n",
    "print(sigma[int(index_grid_pp[k][0]/2)][int(index_grid_pp[k][1]/2)])\n",
    "\n",
    "pp1,pp2 = index_grid_pp_offdiagonal[0]\n",
    "pp1_portfolio, pp2_portfolio =index_grid_pp_portfolio[0]\n",
    "circuit = cirq.Circuit(exp_zz(gamma*lam/4*sigma[pp1_portfolio][pp2_portfolio],qubit1=qubits[pp1],qubit2=qubits[pp2]))\n",
    "\n",
    "print(\"\")\n",
    "print(\"Example circut for application of Exp(zi zj) \\n\")\n",
    "#print(circuit)\n",
    "SVGCircuit(circuit)\n",
    "#print(\"\")\n"
   ]
  },
  {
   "cell_type": "markdown",
   "metadata": {},
   "source": [
    "# Implementation of of full volatility term\n",
    "\n",
    "\n",
    "$$\n",
    "\\text{Exp}\\left( \\sum_{ij} \\lambda \\sigma_{ij}Z_i Z_j \\right) = \\text{Exp}\\left( \\sum_{ij} \\frac{\\lambda}{4}\\sigma_{ij}\\left(z^{+}_{i} z^{+}_{j}-z^{+}_{i} z^{-}_{j}-z^{-}_{i} z^{+}_{j}+z^{-}_{i} z^{-}_{j} \\right) \\right)\n",
    "$$"
   ]
  },
  {
   "cell_type": "code",
   "execution_count": 6,
   "metadata": {
    "collapsed": false
   },
   "outputs": [
    {
     "data": {
      "image/svg+xml": [
       "<svg xmlns=\"http://www.w3.org/2000/svg\" width=\"2526.3018359375\" height=\"240.0\"><line x1=\"30.0\" x2=\"2496.3018359375\" y1=\"45.0\" y2=\"45.0\" stroke=\"#1967d2\" stroke-width=\"1\" /><line x1=\"30.0\" x2=\"2496.3018359375\" y1=\"95.0\" y2=\"95.0\" stroke=\"#1967d2\" stroke-width=\"1\" /><line x1=\"30.0\" x2=\"2496.3018359375\" y1=\"145.0\" y2=\"145.0\" stroke=\"#1967d2\" stroke-width=\"1\" /><line x1=\"30.0\" x2=\"2496.3018359375\" y1=\"195.0\" y2=\"195.0\" stroke=\"#1967d2\" stroke-width=\"1\" /><line x1=\"1384.4078906250002\" x2=\"1799.4357812500002\" y1=\"5.0\" y2=\"5.0\" stroke=\"black\" stroke-width=\"1\" /><line x1=\"1384.4078906250002\" x2=\"1799.4357812500002\" y1=\"235.0\" y2=\"235.0\" stroke=\"black\" stroke-width=\"1\" /><line x1=\"736.8660546875001\" x2=\"1151.8939453125001\" y1=\"5.0\" y2=\"5.0\" stroke=\"black\" stroke-width=\"1\" /><line x1=\"736.8660546875001\" x2=\"1151.8939453125001\" y1=\"235.0\" y2=\"235.0\" stroke=\"black\" stroke-width=\"1\" /><line x1=\"173.58802734375\" x2=\"173.58802734375\" y1=\"45.0\" y2=\"145.0\" stroke=\"black\" stroke-width=\"3\" /><line x1=\"400.76408203125004\" x2=\"400.76408203125004\" y1=\"45.0\" y2=\"145.0\" stroke=\"black\" stroke-width=\"3\" /><line x1=\"625.6090820312501\" x2=\"625.6090820312501\" y1=\"45.0\" y2=\"95.0\" stroke=\"black\" stroke-width=\"3\" /><line x1=\"838.1230273437501\" x2=\"838.1230273437501\" y1=\"45.0\" y2=\"195.0\" stroke=\"black\" stroke-width=\"3\" /><line x1=\"1040.6369726562502\" x2=\"1040.6369726562502\" y1=\"95.0\" y2=\"145.0\" stroke=\"black\" stroke-width=\"3\" /><line x1=\"1273.15091796875\" x2=\"1273.15091796875\" y1=\"145.0\" y2=\"195.0\" stroke=\"black\" stroke-width=\"3\" /><line x1=\"1273.15091796875\" x2=\"1273.15091796875\" y1=\"45.0\" y2=\"95.0\" stroke=\"black\" stroke-width=\"3\" /><line x1=\"1485.6648632812503\" x2=\"1485.6648632812503\" y1=\"95.0\" y2=\"145.0\" stroke=\"black\" stroke-width=\"3\" /><line x1=\"1688.17880859375\" x2=\"1688.17880859375\" y1=\"45.0\" y2=\"195.0\" stroke=\"black\" stroke-width=\"3\" /><line x1=\"1920.6927539062503\" x2=\"1920.6927539062503\" y1=\"145.0\" y2=\"195.0\" stroke=\"black\" stroke-width=\"3\" /><line x1=\"2145.53775390625\" x2=\"2145.53775390625\" y1=\"95.0\" y2=\"195.0\" stroke=\"black\" stroke-width=\"3\" /><line x1=\"2372.7138085937504\" x2=\"2372.7138085937504\" y1=\"95.0\" y2=\"195.0\" stroke=\"black\" stroke-width=\"3\" /><line x1=\"1384.4078906250002\" x2=\"1384.4078906250002\" y1=\"5.0\" y2=\"15.0\" stroke=\"black\" stroke-width=\"3\" /><line x1=\"1799.4357812500002\" x2=\"1799.4357812500002\" y1=\"5.0\" y2=\"15.0\" stroke=\"black\" stroke-width=\"3\" /><line x1=\"1384.4078906250002\" x2=\"1384.4078906250002\" y1=\"225.0\" y2=\"235.0\" stroke=\"black\" stroke-width=\"3\" /><line x1=\"1799.4357812500002\" x2=\"1799.4357812500002\" y1=\"225.0\" y2=\"235.0\" stroke=\"black\" stroke-width=\"3\" /><line x1=\"736.8660546875001\" x2=\"736.8660546875001\" y1=\"5.0\" y2=\"15.0\" stroke=\"black\" stroke-width=\"3\" /><line x1=\"1151.8939453125001\" x2=\"1151.8939453125001\" y1=\"5.0\" y2=\"15.0\" stroke=\"black\" stroke-width=\"3\" /><line x1=\"736.8660546875001\" x2=\"736.8660546875001\" y1=\"225.0\" y2=\"235.0\" stroke=\"black\" stroke-width=\"3\" /><line x1=\"1151.8939453125001\" x2=\"1151.8939453125001\" y1=\"225.0\" y2=\"235.0\" stroke=\"black\" stroke-width=\"3\" /><rect x=\"10.0\" y=\"25.0\" width=\"40\" height=\"40\" stroke=\"black\" fill=\"white\" stroke-width=\"0\" /><text x=\"30.0\" y=\"45.0\" dominant-baseline=\"middle\" text-anchor=\"middle\" font-size=\"14px\">0: </text><rect x=\"10.0\" y=\"75.0\" width=\"40\" height=\"40\" stroke=\"black\" fill=\"white\" stroke-width=\"0\" /><text x=\"30.0\" y=\"95.0\" dominant-baseline=\"middle\" text-anchor=\"middle\" font-size=\"14px\">1: </text><rect x=\"10.0\" y=\"125.0\" width=\"40\" height=\"40\" stroke=\"black\" fill=\"white\" stroke-width=\"0\" /><text x=\"30.0\" y=\"145.0\" dominant-baseline=\"middle\" text-anchor=\"middle\" font-size=\"14px\">2: </text><rect x=\"10.0\" y=\"175.0\" width=\"40\" height=\"40\" stroke=\"black\" fill=\"white\" stroke-width=\"0\" /><text x=\"30.0\" y=\"195.0\" dominant-baseline=\"middle\" text-anchor=\"middle\" font-size=\"14px\">3: </text><rect x=\"70.0\" y=\"25.0\" width=\"207.17605468750003\" height=\"40\" stroke=\"black\" fill=\"white\" stroke-width=\"1\" /><text x=\"173.58802734375\" y=\"45.0\" dominant-baseline=\"middle\" text-anchor=\"middle\" font-size=\"14px\">ZZ</text><rect x=\"70.0\" y=\"125.0\" width=\"207.17605468750003\" height=\"40\" stroke=\"black\" fill=\"white\" stroke-width=\"1\" /><text x=\"173.58802734375\" y=\"145.0\" dominant-baseline=\"middle\" text-anchor=\"middle\" font-size=\"14px\">ZZ^(-gamma*lam*sigma_1_0/2)</text><rect x=\"297.1760546875\" y=\"125.0\" width=\"207.17605468750003\" height=\"40\" stroke=\"black\" fill=\"white\" stroke-width=\"1\" /><text x=\"400.76408203125004\" y=\"145.0\" dominant-baseline=\"middle\" text-anchor=\"middle\" font-size=\"14px\">ZZ^(-gamma*lam*sigma_0_1/2)</text><rect x=\"297.1760546875\" y=\"25.0\" width=\"207.17605468750003\" height=\"40\" stroke=\"black\" fill=\"white\" stroke-width=\"1\" /><text x=\"400.76408203125004\" y=\"45.0\" dominant-baseline=\"middle\" text-anchor=\"middle\" font-size=\"14px\">ZZ</text><rect x=\"524.352109375\" y=\"25.0\" width=\"202.51394531250003\" height=\"40\" stroke=\"black\" fill=\"white\" stroke-width=\"1\" /><text x=\"625.6090820312501\" y=\"45.0\" dominant-baseline=\"middle\" text-anchor=\"middle\" font-size=\"14px\">ZZ</text><rect x=\"524.352109375\" y=\"75.0\" width=\"202.51394531250003\" height=\"40\" stroke=\"black\" fill=\"white\" stroke-width=\"1\" /><text x=\"625.6090820312501\" y=\"95.0\" dominant-baseline=\"middle\" text-anchor=\"middle\" font-size=\"14px\">ZZ^(gamma*lam*sigma_0_0/2)</text><rect x=\"736.8660546875001\" y=\"25.0\" width=\"202.51394531250003\" height=\"40\" stroke=\"black\" fill=\"white\" stroke-width=\"1\" /><text x=\"838.1230273437501\" y=\"45.0\" dominant-baseline=\"middle\" text-anchor=\"middle\" font-size=\"14px\">ZZ</text><rect x=\"736.8660546875001\" y=\"175.0\" width=\"202.51394531250003\" height=\"40\" stroke=\"black\" fill=\"white\" stroke-width=\"1\" /><text x=\"838.1230273437501\" y=\"195.0\" dominant-baseline=\"middle\" text-anchor=\"middle\" font-size=\"14px\">ZZ^(gamma*lam*sigma_1_0/2)</text><rect x=\"939.3800000000002\" y=\"125.0\" width=\"202.51394531250003\" height=\"40\" stroke=\"black\" fill=\"white\" stroke-width=\"1\" /><text x=\"1040.6369726562502\" y=\"145.0\" dominant-baseline=\"middle\" text-anchor=\"middle\" font-size=\"14px\">ZZ^(gamma*lam*sigma_0_1/2)</text><rect x=\"939.3800000000002\" y=\"75.0\" width=\"202.51394531250003\" height=\"40\" stroke=\"black\" fill=\"white\" stroke-width=\"1\" /><text x=\"1040.6369726562502\" y=\"95.0\" dominant-baseline=\"middle\" text-anchor=\"middle\" font-size=\"14px\">ZZ</text><rect x=\"1171.8939453125\" y=\"125.0\" width=\"202.51394531250003\" height=\"40\" stroke=\"black\" fill=\"white\" stroke-width=\"1\" /><text x=\"1273.15091796875\" y=\"145.0\" dominant-baseline=\"middle\" text-anchor=\"middle\" font-size=\"14px\">ZZ</text><rect x=\"1171.8939453125\" y=\"175.0\" width=\"202.51394531250003\" height=\"40\" stroke=\"black\" fill=\"white\" stroke-width=\"1\" /><text x=\"1273.15091796875\" y=\"195.0\" dominant-baseline=\"middle\" text-anchor=\"middle\" font-size=\"14px\">ZZ^(gamma*lam*sigma_1_1/2)</text><rect x=\"1171.8939453125\" y=\"75.0\" width=\"202.51394531250003\" height=\"40\" stroke=\"black\" fill=\"white\" stroke-width=\"1\" /><text x=\"1273.15091796875\" y=\"95.0\" dominant-baseline=\"middle\" text-anchor=\"middle\" font-size=\"14px\">ZZ^(gamma*lam*sigma_0_0/2)</text><rect x=\"1171.8939453125\" y=\"25.0\" width=\"202.51394531250003\" height=\"40\" stroke=\"black\" fill=\"white\" stroke-width=\"1\" /><text x=\"1273.15091796875\" y=\"45.0\" dominant-baseline=\"middle\" text-anchor=\"middle\" font-size=\"14px\">ZZ</text><rect x=\"1384.4078906250002\" y=\"75.0\" width=\"202.51394531250003\" height=\"40\" stroke=\"black\" fill=\"white\" stroke-width=\"1\" /><text x=\"1485.6648632812503\" y=\"95.0\" dominant-baseline=\"middle\" text-anchor=\"middle\" font-size=\"14px\">ZZ</text><rect x=\"1384.4078906250002\" y=\"125.0\" width=\"202.51394531250003\" height=\"40\" stroke=\"black\" fill=\"white\" stroke-width=\"1\" /><text x=\"1485.6648632812503\" y=\"145.0\" dominant-baseline=\"middle\" text-anchor=\"middle\" font-size=\"14px\">ZZ^(gamma*lam*sigma_1_0/2)</text><rect x=\"1586.9218359375\" y=\"175.0\" width=\"202.51394531250003\" height=\"40\" stroke=\"black\" fill=\"white\" stroke-width=\"1\" /><text x=\"1688.17880859375\" y=\"195.0\" dominant-baseline=\"middle\" text-anchor=\"middle\" font-size=\"14px\">ZZ^(gamma*lam*sigma_0_1/2)</text><rect x=\"1586.9218359375\" y=\"25.0\" width=\"202.51394531250003\" height=\"40\" stroke=\"black\" fill=\"white\" stroke-width=\"1\" /><text x=\"1688.17880859375\" y=\"45.0\" dominant-baseline=\"middle\" text-anchor=\"middle\" font-size=\"14px\">ZZ</text><rect x=\"1819.4357812500002\" y=\"175.0\" width=\"202.51394531250003\" height=\"40\" stroke=\"black\" fill=\"white\" stroke-width=\"1\" /><text x=\"1920.6927539062503\" y=\"195.0\" dominant-baseline=\"middle\" text-anchor=\"middle\" font-size=\"14px\">ZZ^(gamma*lam*sigma_1_1/2)</text><rect x=\"1819.4357812500002\" y=\"125.0\" width=\"202.51394531250003\" height=\"40\" stroke=\"black\" fill=\"white\" stroke-width=\"1\" /><text x=\"1920.6927539062503\" y=\"145.0\" dominant-baseline=\"middle\" text-anchor=\"middle\" font-size=\"14px\">ZZ</text><rect x=\"2041.9497265625\" y=\"75.0\" width=\"207.17605468750003\" height=\"40\" stroke=\"black\" fill=\"white\" stroke-width=\"1\" /><text x=\"2145.53775390625\" y=\"95.0\" dominant-baseline=\"middle\" text-anchor=\"middle\" font-size=\"14px\">ZZ</text><rect x=\"2041.9497265625\" y=\"175.0\" width=\"207.17605468750003\" height=\"40\" stroke=\"black\" fill=\"white\" stroke-width=\"1\" /><text x=\"2145.53775390625\" y=\"195.0\" dominant-baseline=\"middle\" text-anchor=\"middle\" font-size=\"14px\">ZZ^(-gamma*lam*sigma_1_0/2)</text><rect x=\"2269.1257812500003\" y=\"175.0\" width=\"207.17605468750003\" height=\"40\" stroke=\"black\" fill=\"white\" stroke-width=\"1\" /><text x=\"2372.7138085937504\" y=\"195.0\" dominant-baseline=\"middle\" text-anchor=\"middle\" font-size=\"14px\">ZZ^(-gamma*lam*sigma_0_1/2)</text><rect x=\"2269.1257812500003\" y=\"75.0\" width=\"207.17605468750003\" height=\"40\" stroke=\"black\" fill=\"white\" stroke-width=\"1\" /><text x=\"2372.7138085937504\" y=\"95.0\" dominant-baseline=\"middle\" text-anchor=\"middle\" font-size=\"14px\">ZZ</text></svg>"
      ],
      "text/plain": [
       "<cirq.contrib.svg.svg.SVGCircuit at 0x7fb24c07dfd0>"
      ]
     },
     "execution_count": 6,
     "metadata": {},
     "output_type": "execute_result"
    }
   ],
   "source": [
    "# Now let us build the entire circuit up to now\n",
    "\n",
    "cost_volatility_operators_pp = []\n",
    "cost_volatility_operators_mm = []\n",
    "cost_volatility_operators_pm = []\n",
    "cost_volatility_operators_mp = []\n",
    "\n",
    "# Loop over all ++ combinations\n",
    "for k in range(len(index_grid_pp_offdiagonal)):\n",
    "    i_qubit,j_qubit = index_grid_pp_offdiagonal[k]\n",
    "    i_portfolio, j_portfolio =index_grid_pp_portfolio[k]\n",
    "    cost_volatility_operators_pp.append(exp_zz(gamma*lam/4*sigma[i_portfolio][j_portfolio],qubit1=qubits[i_qubit],qubit2=qubits[j_qubit]))\n",
    "\n",
    "# Loop over all +- combinations\n",
    "for k in range(len(index_grid_pm_offdiagonal)):\n",
    "    i_qubit,j_qubit = index_grid_pm_offdiagonal[k]\n",
    "    i_portfolio, j_portfolio =index_grid_pm_portfolio[k]\n",
    "    cost_volatility_operators_pm.append(exp_zz((-1)*gamma*lam/4*sigma[i_portfolio][j_portfolio],qubit1=qubits[i_qubit],qubit2=qubits[j_qubit]))\n",
    "\n",
    "    # Loop over all -+ combinations\n",
    "for k in range(len(index_grid_mp_offdiagonal)):\n",
    "    i_qubit,j_qubit = index_grid_mp_offdiagonal[k]\n",
    "    i_portfolio, j_portfolio =index_grid_mp_portfolio[k]\n",
    "    cost_volatility_operators_mp.append(exp_zz((-1)*gamma*lam/4*sigma[i_portfolio][j_portfolio],qubit1=qubits[i_qubit],qubit2=qubits[j_qubit]))\n",
    "\n",
    "    # Loop over all -- combinations\n",
    "for k in range(len(index_grid_mm_offdiagonal)):\n",
    "    i_qubit,j_qubit = index_grid_mm_offdiagonal[k]\n",
    "    i_portfolio, j_portfolio =index_grid_mm_portfolio[k]\n",
    "    cost_volatility_operators_mm.append(exp_zz(gamma*lam/4*sigma[i_portfolio][j_portfolio],qubit1=qubits[i_qubit],qubit2=qubits[j_qubit]))\n",
    "\n",
    "\n",
    "#cost_returns_operators = [cirq.rz((-1)**int(i)*(1-lam)*gamma*mu[int(i/2)]).on(qubits[i]) for i in range(len(qubits))]\n",
    "\n",
    "# Create the circuit from this \n",
    "circuit = cirq.Circuit((cost_volatility_operators_pp,cost_volatility_operators_pm,cost_volatility_operators_mp,cost_volatility_operators_mm))\n",
    "SVGCircuit(circuit)"
   ]
  },
  {
   "cell_type": "markdown",
   "metadata": {},
   "source": [
    "# Implement the exponential operator of the transaction cost\n",
    "\n",
    "\n",
    "$$\n",
    "C_{TC}(z) = \\frac{1}{4}T\\left( 3+(1-y^2_i-y_i)z^{+}_{i}+(1-y^2_i+y_i)z^{-}_{i}+(2y^2_i-1)z^{+}_{i}z^{-}_{i} \\right)\n",
    "$$\n",
    "\n",
    "\n",
    "$$\n",
    "\\begin{align}\n",
    "\\text{Exp}\\left( i\\pi \\gamma C_{TC}(z) \\right) = \\prod_{j=1} \\text{Exp}\\left(  i\\pi \\gamma \\frac{1}{4}T\\left(1-y^2_j-y_j\\right)z^{+}_{j}\\right)\\text{Exp}\\left(  i\\pi \\gamma \\frac{1}{4}T\\left(1-y^2_j+y_j\\right)z^{-}_{j} \\right)\\text{Exp}\\left(  i\\pi \\gamma \\frac{1}{4}T\\left(2y^2_j-1\\right)z^{+}_{j}z^{-}_{j} \\right) \\\\\n",
    "= \\prod_{j=1} \\text{Exp}\\left(  i\\pi \\gamma \\frac{1}{4}T\\left(1-y^2_j-y_j\\right)z^{+}_{j}\\right) \\prod_{j=1} \\text{Exp}\\left(  i\\pi \\gamma \\frac{1}{4}T\\left(1-y^2_j+y_j\\right)z^{-}_{j} \\right) \\prod_{j=1}\\text{Exp}\\left(  i\\pi \\gamma \\frac{1}{4}T\\left(2y^2_j-1\\right)z^{+}_{j}z^{-}_{j} \\right)\n",
    "\\end{align}\n",
    "$$\n",
    "\n"
   ]
  },
  {
   "cell_type": "code",
   "execution_count": 7,
   "metadata": {
    "collapsed": false
   },
   "outputs": [
    {
     "name": "stdout",
     "output_type": "stream",
     "text": [
      "[0, 2]\n"
     ]
    },
    {
     "data": {
      "image/svg+xml": [
       "<svg xmlns=\"http://www.w3.org/2000/svg\" width=\"544.2185937500001\" height=\"200.0\"><line x1=\"30.0\" x2=\"514.2185937500001\" y1=\"25.0\" y2=\"25.0\" stroke=\"#1967d2\" stroke-width=\"1\" /><line x1=\"30.0\" x2=\"514.2185937500001\" y1=\"75.0\" y2=\"75.0\" stroke=\"#1967d2\" stroke-width=\"1\" /><line x1=\"30.0\" x2=\"514.2185937500001\" y1=\"125.0\" y2=\"125.0\" stroke=\"#1967d2\" stroke-width=\"1\" /><line x1=\"30.0\" x2=\"514.2185937500001\" y1=\"175.0\" y2=\"175.0\" stroke=\"#1967d2\" stroke-width=\"1\" /><line x1=\"282.10929687500004\" x2=\"282.10929687500004\" y1=\"25.0\" y2=\"75.0\" stroke=\"black\" stroke-width=\"3\" /><line x1=\"282.10929687500004\" x2=\"282.10929687500004\" y1=\"125.0\" y2=\"175.0\" stroke=\"black\" stroke-width=\"3\" /><rect x=\"10.0\" y=\"5.0\" width=\"40\" height=\"40\" stroke=\"black\" fill=\"white\" stroke-width=\"0\" /><text x=\"30.0\" y=\"25.0\" dominant-baseline=\"middle\" text-anchor=\"middle\" font-size=\"14px\">0: </text><rect x=\"10.0\" y=\"55.0\" width=\"40\" height=\"40\" stroke=\"black\" fill=\"white\" stroke-width=\"0\" /><text x=\"30.0\" y=\"75.0\" dominant-baseline=\"middle\" text-anchor=\"middle\" font-size=\"14px\">1: </text><rect x=\"10.0\" y=\"105.0\" width=\"40\" height=\"40\" stroke=\"black\" fill=\"white\" stroke-width=\"0\" /><text x=\"30.0\" y=\"125.0\" dominant-baseline=\"middle\" text-anchor=\"middle\" font-size=\"14px\">2: </text><rect x=\"10.0\" y=\"155.0\" width=\"40\" height=\"40\" stroke=\"black\" fill=\"white\" stroke-width=\"0\" /><text x=\"30.0\" y=\"175.0\" dominant-baseline=\"middle\" text-anchor=\"middle\" font-size=\"14px\">3: </text><rect x=\"70.0\" y=\"5.0\" width=\"128.20730468750003\" height=\"40\" stroke=\"black\" fill=\"white\" stroke-width=\"1\" /><text x=\"134.10365234375\" y=\"25.0\" dominant-baseline=\"middle\" text-anchor=\"middle\" font-size=\"14px\">Rz(0.25*T*gamma)</text><rect x=\"70.0\" y=\"105.0\" width=\"128.20730468750003\" height=\"40\" stroke=\"black\" fill=\"white\" stroke-width=\"1\" /><text x=\"134.10365234375\" y=\"125.0\" dominant-baseline=\"middle\" text-anchor=\"middle\" font-size=\"14px\">Rz(0.25*T*gamma)</text><rect x=\"218.20730468750003\" y=\"5.0\" width=\"127.80398437500003\" height=\"40\" stroke=\"black\" fill=\"white\" stroke-width=\"1\" /><text x=\"282.10929687500004\" y=\"25.0\" dominant-baseline=\"middle\" text-anchor=\"middle\" font-size=\"14px\">ZZ</text><rect x=\"218.20730468750003\" y=\"55.0\" width=\"127.80398437500003\" height=\"40\" stroke=\"black\" fill=\"white\" stroke-width=\"1\" /><text x=\"282.10929687500004\" y=\"75.0\" dominant-baseline=\"middle\" text-anchor=\"middle\" font-size=\"14px\">ZZ^(0.5*T*gamma)</text><rect x=\"218.20730468750003\" y=\"105.0\" width=\"127.80398437500003\" height=\"40\" stroke=\"black\" fill=\"white\" stroke-width=\"1\" /><text x=\"282.10929687500004\" y=\"125.0\" dominant-baseline=\"middle\" text-anchor=\"middle\" font-size=\"14px\">ZZ</text><rect x=\"218.20730468750003\" y=\"155.0\" width=\"127.80398437500003\" height=\"40\" stroke=\"black\" fill=\"white\" stroke-width=\"1\" /><text x=\"282.10929687500004\" y=\"175.0\" dominant-baseline=\"middle\" text-anchor=\"middle\" font-size=\"14px\">ZZ^(0.5*T*gamma)</text><rect x=\"366.01128906250005\" y=\"55.0\" width=\"128.20730468750003\" height=\"40\" stroke=\"black\" fill=\"white\" stroke-width=\"1\" /><text x=\"430.11494140625007\" y=\"75.0\" dominant-baseline=\"middle\" text-anchor=\"middle\" font-size=\"14px\">Rz(0.25*T*gamma)</text><rect x=\"366.01128906250005\" y=\"155.0\" width=\"128.20730468750003\" height=\"40\" stroke=\"black\" fill=\"white\" stroke-width=\"1\" /><text x=\"430.11494140625007\" y=\"175.0\" dominant-baseline=\"middle\" text-anchor=\"middle\" font-size=\"14px\">Rz(0.25*T*gamma)</text></svg>"
      ],
      "text/plain": [
       "<cirq.contrib.svg.svg.SVGCircuit at 0x7fb2117c22e0>"
      ]
     },
     "execution_count": 7,
     "metadata": {},
     "output_type": "execute_result"
    }
   ],
   "source": [
    "transaction_operators_p_i = []\n",
    "transaction_operators_m_i = []\n",
    "transaction_operators_pm_ii = []\n",
    "\n",
    "print(index_grid_p)\n",
    "\n",
    "\n",
    "\n",
    "for k in range(len(index_grid_p)):\n",
    "    angle_i = (1/4)*T*(1-y[k]**2-y[k])*gamma\n",
    "    i_qubit = index_grid_p[k]\n",
    "    transaction_operators_p_i.append(cirq.rz(angle_i).on(qubits[i_qubit]) )\n",
    "    \n",
    "for k in range(len(index_grid_pm_ii)):\n",
    "    angle_k = (1/4)*T*(2*y[k]**2-1)*gamma\n",
    "    i_qubit, j_qubit = index_grid_pm_ii[k]\n",
    "    i_portfolio, j_portfolio =index_grid_pm_ii[k]\n",
    "    transaction_operators_pm_ii.append(exp_zz( angle_k,qubit1=qubits[i_qubit],qubit2=qubits[j_qubit]))\n",
    "\n",
    "for k in range(len(index_grid_m)):\n",
    "    angle_i = (1/4)*T*(1-y[k]**2+y[k])*gamma\n",
    "    i_qubit = index_grid_m[k]\n",
    "    transaction_operators_m_i.append(cirq.rz(angle_i).on(qubits[i_qubit]) )\n",
    "    \n",
    "\n",
    "circuit = cirq.Circuit((transaction_operators_p_i,transaction_operators_pm_ii,transaction_operators_m_i))\n",
    "SVGCircuit(circuit)"
   ]
  },
  {
   "cell_type": "markdown",
   "metadata": {},
   "source": [
    "# Now we implement the soft constraint Term\n",
    "\n",
    "$$\n",
    "P_{\\rm INV}(z) = A\\left(\\sum^N_i z^2_i -D \\right)^2\n",
    "$$\n",
    "\n",
    "which can be factored into\n",
    "\n",
    "$$\n",
    "\\begin{align}\n",
    "P_{\\rm INV}(z) = \\frac{A}{4} \\left( z^+_i z^+_j-z^+_i z^-_j - z^+_i z^+_j+ z^-_i z^-_j \\right) -AD(z^+_j-z^-_j)+AD^2\n",
    "\\end{align}\n",
    "$$"
   ]
  },
  {
   "cell_type": "code",
   "execution_count": 8,
   "metadata": {
    "collapsed": false
   },
   "outputs": [
    {
     "data": {
      "image/svg+xml": [
       "<svg xmlns=\"http://www.w3.org/2000/svg\" width=\"236.51785156250003\" height=\"200.0\"><line x1=\"30.0\" x2=\"206.51785156250003\" y1=\"25.0\" y2=\"25.0\" stroke=\"#1967d2\" stroke-width=\"1\" /><line x1=\"30.0\" x2=\"206.51785156250003\" y1=\"75.0\" y2=\"75.0\" stroke=\"#1967d2\" stroke-width=\"1\" /><line x1=\"30.0\" x2=\"206.51785156250003\" y1=\"125.0\" y2=\"125.0\" stroke=\"#1967d2\" stroke-width=\"1\" /><line x1=\"30.0\" x2=\"206.51785156250003\" y1=\"175.0\" y2=\"175.0\" stroke=\"#1967d2\" stroke-width=\"1\" /><rect x=\"10.0\" y=\"5.0\" width=\"40\" height=\"40\" stroke=\"black\" fill=\"white\" stroke-width=\"0\" /><text x=\"30.0\" y=\"25.0\" dominant-baseline=\"middle\" text-anchor=\"middle\" font-size=\"14px\">0: </text><rect x=\"10.0\" y=\"55.0\" width=\"40\" height=\"40\" stroke=\"black\" fill=\"white\" stroke-width=\"0\" /><text x=\"30.0\" y=\"75.0\" dominant-baseline=\"middle\" text-anchor=\"middle\" font-size=\"14px\">1: </text><rect x=\"10.0\" y=\"105.0\" width=\"40\" height=\"40\" stroke=\"black\" fill=\"white\" stroke-width=\"0\" /><text x=\"30.0\" y=\"125.0\" dominant-baseline=\"middle\" text-anchor=\"middle\" font-size=\"14px\">2: </text><rect x=\"10.0\" y=\"155.0\" width=\"40\" height=\"40\" stroke=\"black\" fill=\"white\" stroke-width=\"0\" /><text x=\"30.0\" y=\"175.0\" dominant-baseline=\"middle\" text-anchor=\"middle\" font-size=\"14px\">3: </text><rect x=\"70.0\" y=\"5.0\" width=\"116.51785156250003\" height=\"40\" stroke=\"black\" fill=\"white\" stroke-width=\"1\" /><text x=\"128.25892578125\" y=\"25.0\" dominant-baseline=\"middle\" text-anchor=\"middle\" font-size=\"14px\">Rz(A*D*gamma)</text><rect x=\"70.0\" y=\"55.0\" width=\"116.51785156250003\" height=\"40\" stroke=\"black\" fill=\"white\" stroke-width=\"1\" /><text x=\"128.25892578125\" y=\"75.0\" dominant-baseline=\"middle\" text-anchor=\"middle\" font-size=\"14px\">Rz(-A*D*gamma)</text><rect x=\"70.0\" y=\"105.0\" width=\"116.51785156250003\" height=\"40\" stroke=\"black\" fill=\"white\" stroke-width=\"1\" /><text x=\"128.25892578125\" y=\"125.0\" dominant-baseline=\"middle\" text-anchor=\"middle\" font-size=\"14px\">Rz(A*D*gamma)</text><rect x=\"70.0\" y=\"155.0\" width=\"116.51785156250003\" height=\"40\" stroke=\"black\" fill=\"white\" stroke-width=\"1\" /><text x=\"128.25892578125\" y=\"175.0\" dominant-baseline=\"middle\" text-anchor=\"middle\" font-size=\"14px\">Rz(-A*D*gamma)</text></svg>"
      ],
      "text/plain": [
       "<cirq.contrib.svg.svg.SVGCircuit at 0x7fb2117b0280>"
      ]
     },
     "execution_count": 8,
     "metadata": {},
     "output_type": "execute_result"
    }
   ],
   "source": [
    "\n",
    "# We implement the AD terms of the penalty function just like we did for the returns\n",
    "penalty_AD_operators = [cirq.rz( (-1)**i * gamma*A*D).on(qubits[i]) for i in range(len(qubits))]\n",
    "\n",
    "# Create the circuit from this \n",
    "circuit = cirq.Circuit((penalty_AD_operators))\n",
    "\n",
    "#print(circuit)\n",
    "\n",
    "SVGCircuit(circuit)"
   ]
  },
  {
   "cell_type": "code",
   "execution_count": 9,
   "metadata": {
    "collapsed": false
   },
   "outputs": [
    {
     "data": {
      "image/svg+xml": [
       "<svg xmlns=\"http://www.w3.org/2000/svg\" width=\"1567.5616015625003\" height=\"240.0\"><line x1=\"30.0\" x2=\"1537.5616015625003\" y1=\"45.0\" y2=\"45.0\" stroke=\"#1967d2\" stroke-width=\"1\" /><line x1=\"30.0\" x2=\"1537.5616015625003\" y1=\"95.0\" y2=\"95.0\" stroke=\"#1967d2\" stroke-width=\"1\" /><line x1=\"30.0\" x2=\"1537.5616015625003\" y1=\"145.0\" y2=\"145.0\" stroke=\"#1967d2\" stroke-width=\"1\" /><line x1=\"30.0\" x2=\"1537.5616015625003\" y1=\"195.0\" y2=\"195.0\" stroke=\"#1967d2\" stroke-width=\"1\" /><line x1=\"861.4586718750002\" x2=\"1102.1701562500002\" y1=\"5.0\" y2=\"5.0\" stroke=\"black\" stroke-width=\"1\" /><line x1=\"861.4586718750002\" x2=\"1102.1701562500002\" y1=\"235.0\" y2=\"235.0\" stroke=\"black\" stroke-width=\"1\" /><line x1=\"475.3914453125001\" x2=\"716.1029296875001\" y1=\"5.0\" y2=\"5.0\" stroke=\"black\" stroke-width=\"1\" /><line x1=\"475.3914453125001\" x2=\"716.1029296875001\" y1=\"235.0\" y2=\"235.0\" stroke=\"black\" stroke-width=\"1\" /><line x1=\"130.00892578125\" x2=\"130.00892578125\" y1=\"45.0\" y2=\"145.0\" stroke=\"black\" stroke-width=\"3\" /><line x1=\"270.02677734375004\" x2=\"270.02677734375004\" y1=\"45.0\" y2=\"145.0\" stroke=\"black\" stroke-width=\"3\" /><line x1=\"407.71357421875007\" x2=\"407.71357421875007\" y1=\"45.0\" y2=\"95.0\" stroke=\"black\" stroke-width=\"3\" /><line x1=\"533.0693164062501\" x2=\"533.0693164062501\" y1=\"45.0\" y2=\"195.0\" stroke=\"black\" stroke-width=\"3\" /><line x1=\"648.4250585937501\" x2=\"648.4250585937501\" y1=\"95.0\" y2=\"145.0\" stroke=\"black\" stroke-width=\"3\" /><line x1=\"793.7808007812502\" x2=\"793.7808007812502\" y1=\"145.0\" y2=\"195.0\" stroke=\"black\" stroke-width=\"3\" /><line x1=\"793.7808007812502\" x2=\"793.7808007812502\" y1=\"45.0\" y2=\"95.0\" stroke=\"black\" stroke-width=\"3\" /><line x1=\"919.1365429687502\" x2=\"919.1365429687502\" y1=\"95.0\" y2=\"145.0\" stroke=\"black\" stroke-width=\"3\" /><line x1=\"1034.49228515625\" x2=\"1034.49228515625\" y1=\"45.0\" y2=\"195.0\" stroke=\"black\" stroke-width=\"3\" /><line x1=\"1179.8480273437503\" x2=\"1179.8480273437503\" y1=\"145.0\" y2=\"195.0\" stroke=\"black\" stroke-width=\"3\" /><line x1=\"1317.5348242187501\" x2=\"1317.5348242187501\" y1=\"95.0\" y2=\"195.0\" stroke=\"black\" stroke-width=\"3\" /><line x1=\"1457.5526757812504\" x2=\"1457.5526757812504\" y1=\"95.0\" y2=\"195.0\" stroke=\"black\" stroke-width=\"3\" /><line x1=\"861.4586718750002\" x2=\"861.4586718750002\" y1=\"5.0\" y2=\"15.0\" stroke=\"black\" stroke-width=\"3\" /><line x1=\"1102.1701562500002\" x2=\"1102.1701562500002\" y1=\"5.0\" y2=\"15.0\" stroke=\"black\" stroke-width=\"3\" /><line x1=\"861.4586718750002\" x2=\"861.4586718750002\" y1=\"225.0\" y2=\"235.0\" stroke=\"black\" stroke-width=\"3\" /><line x1=\"1102.1701562500002\" x2=\"1102.1701562500002\" y1=\"225.0\" y2=\"235.0\" stroke=\"black\" stroke-width=\"3\" /><line x1=\"475.3914453125001\" x2=\"475.3914453125001\" y1=\"5.0\" y2=\"15.0\" stroke=\"black\" stroke-width=\"3\" /><line x1=\"716.1029296875001\" x2=\"716.1029296875001\" y1=\"5.0\" y2=\"15.0\" stroke=\"black\" stroke-width=\"3\" /><line x1=\"475.3914453125001\" x2=\"475.3914453125001\" y1=\"225.0\" y2=\"235.0\" stroke=\"black\" stroke-width=\"3\" /><line x1=\"716.1029296875001\" x2=\"716.1029296875001\" y1=\"225.0\" y2=\"235.0\" stroke=\"black\" stroke-width=\"3\" /><rect x=\"10.0\" y=\"25.0\" width=\"40\" height=\"40\" stroke=\"black\" fill=\"white\" stroke-width=\"0\" /><text x=\"30.0\" y=\"45.0\" dominant-baseline=\"middle\" text-anchor=\"middle\" font-size=\"14px\">0: </text><rect x=\"10.0\" y=\"75.0\" width=\"40\" height=\"40\" stroke=\"black\" fill=\"white\" stroke-width=\"0\" /><text x=\"30.0\" y=\"95.0\" dominant-baseline=\"middle\" text-anchor=\"middle\" font-size=\"14px\">1: </text><rect x=\"10.0\" y=\"125.0\" width=\"40\" height=\"40\" stroke=\"black\" fill=\"white\" stroke-width=\"0\" /><text x=\"30.0\" y=\"145.0\" dominant-baseline=\"middle\" text-anchor=\"middle\" font-size=\"14px\">2: </text><rect x=\"10.0\" y=\"175.0\" width=\"40\" height=\"40\" stroke=\"black\" fill=\"white\" stroke-width=\"0\" /><text x=\"30.0\" y=\"195.0\" dominant-baseline=\"middle\" text-anchor=\"middle\" font-size=\"14px\">3: </text><rect x=\"70.0\" y=\"25.0\" width=\"120.01785156250003\" height=\"40\" stroke=\"black\" fill=\"white\" stroke-width=\"1\" /><text x=\"130.00892578125\" y=\"45.0\" dominant-baseline=\"middle\" text-anchor=\"middle\" font-size=\"14px\">ZZ</text><rect x=\"70.0\" y=\"125.0\" width=\"120.01785156250003\" height=\"40\" stroke=\"black\" fill=\"white\" stroke-width=\"1\" /><text x=\"130.00892578125\" y=\"145.0\" dominant-baseline=\"middle\" text-anchor=\"middle\" font-size=\"14px\">ZZ^(-A*gamma/2)</text><rect x=\"210.01785156250003\" y=\"125.0\" width=\"120.01785156250003\" height=\"40\" stroke=\"black\" fill=\"white\" stroke-width=\"1\" /><text x=\"270.02677734375004\" y=\"145.0\" dominant-baseline=\"middle\" text-anchor=\"middle\" font-size=\"14px\">ZZ^(-A*gamma/2)</text><rect x=\"210.01785156250003\" y=\"25.0\" width=\"120.01785156250003\" height=\"40\" stroke=\"black\" fill=\"white\" stroke-width=\"1\" /><text x=\"270.02677734375004\" y=\"45.0\" dominant-baseline=\"middle\" text-anchor=\"middle\" font-size=\"14px\">ZZ</text><rect x=\"350.03570312500005\" y=\"25.0\" width=\"115.35574218750003\" height=\"40\" stroke=\"black\" fill=\"white\" stroke-width=\"1\" /><text x=\"407.71357421875007\" y=\"45.0\" dominant-baseline=\"middle\" text-anchor=\"middle\" font-size=\"14px\">ZZ</text><rect x=\"350.03570312500005\" y=\"75.0\" width=\"115.35574218750003\" height=\"40\" stroke=\"black\" fill=\"white\" stroke-width=\"1\" /><text x=\"407.71357421875007\" y=\"95.0\" dominant-baseline=\"middle\" text-anchor=\"middle\" font-size=\"14px\">ZZ^(A*gamma/2)</text><rect x=\"475.3914453125001\" y=\"25.0\" width=\"115.35574218750001\" height=\"40\" stroke=\"black\" fill=\"white\" stroke-width=\"1\" /><text x=\"533.0693164062501\" y=\"45.0\" dominant-baseline=\"middle\" text-anchor=\"middle\" font-size=\"14px\">ZZ</text><rect x=\"475.3914453125001\" y=\"175.0\" width=\"115.35574218750001\" height=\"40\" stroke=\"black\" fill=\"white\" stroke-width=\"1\" /><text x=\"533.0693164062501\" y=\"195.0\" dominant-baseline=\"middle\" text-anchor=\"middle\" font-size=\"14px\">ZZ^(A*gamma/2)</text><rect x=\"590.7471875000001\" y=\"125.0\" width=\"115.35574218750001\" height=\"40\" stroke=\"black\" fill=\"white\" stroke-width=\"1\" /><text x=\"648.4250585937501\" y=\"145.0\" dominant-baseline=\"middle\" text-anchor=\"middle\" font-size=\"14px\">ZZ^(A*gamma/2)</text><rect x=\"590.7471875000001\" y=\"75.0\" width=\"115.35574218750001\" height=\"40\" stroke=\"black\" fill=\"white\" stroke-width=\"1\" /><text x=\"648.4250585937501\" y=\"95.0\" dominant-baseline=\"middle\" text-anchor=\"middle\" font-size=\"14px\">ZZ</text><rect x=\"736.1029296875001\" y=\"125.0\" width=\"115.35574218750003\" height=\"40\" stroke=\"black\" fill=\"white\" stroke-width=\"1\" /><text x=\"793.7808007812502\" y=\"145.0\" dominant-baseline=\"middle\" text-anchor=\"middle\" font-size=\"14px\">ZZ</text><rect x=\"736.1029296875001\" y=\"175.0\" width=\"115.35574218750003\" height=\"40\" stroke=\"black\" fill=\"white\" stroke-width=\"1\" /><text x=\"793.7808007812502\" y=\"195.0\" dominant-baseline=\"middle\" text-anchor=\"middle\" font-size=\"14px\">ZZ^(A*gamma/2)</text><rect x=\"736.1029296875001\" y=\"75.0\" width=\"115.35574218750003\" height=\"40\" stroke=\"black\" fill=\"white\" stroke-width=\"1\" /><text x=\"793.7808007812502\" y=\"95.0\" dominant-baseline=\"middle\" text-anchor=\"middle\" font-size=\"14px\">ZZ^(A*gamma/2)</text><rect x=\"736.1029296875001\" y=\"25.0\" width=\"115.35574218750003\" height=\"40\" stroke=\"black\" fill=\"white\" stroke-width=\"1\" /><text x=\"793.7808007812502\" y=\"45.0\" dominant-baseline=\"middle\" text-anchor=\"middle\" font-size=\"14px\">ZZ</text><rect x=\"861.4586718750002\" y=\"75.0\" width=\"115.35574218750001\" height=\"40\" stroke=\"black\" fill=\"white\" stroke-width=\"1\" /><text x=\"919.1365429687502\" y=\"95.0\" dominant-baseline=\"middle\" text-anchor=\"middle\" font-size=\"14px\">ZZ</text><rect x=\"861.4586718750002\" y=\"125.0\" width=\"115.35574218750001\" height=\"40\" stroke=\"black\" fill=\"white\" stroke-width=\"1\" /><text x=\"919.1365429687502\" y=\"145.0\" dominant-baseline=\"middle\" text-anchor=\"middle\" font-size=\"14px\">ZZ^(A*gamma/2)</text><rect x=\"976.8144140625001\" y=\"175.0\" width=\"115.35574218750001\" height=\"40\" stroke=\"black\" fill=\"white\" stroke-width=\"1\" /><text x=\"1034.49228515625\" y=\"195.0\" dominant-baseline=\"middle\" text-anchor=\"middle\" font-size=\"14px\">ZZ^(A*gamma/2)</text><rect x=\"976.8144140625001\" y=\"25.0\" width=\"115.35574218750001\" height=\"40\" stroke=\"black\" fill=\"white\" stroke-width=\"1\" /><text x=\"1034.49228515625\" y=\"45.0\" dominant-baseline=\"middle\" text-anchor=\"middle\" font-size=\"14px\">ZZ</text><rect x=\"1122.1701562500002\" y=\"175.0\" width=\"115.35574218750003\" height=\"40\" stroke=\"black\" fill=\"white\" stroke-width=\"1\" /><text x=\"1179.8480273437503\" y=\"195.0\" dominant-baseline=\"middle\" text-anchor=\"middle\" font-size=\"14px\">ZZ^(A*gamma/2)</text><rect x=\"1122.1701562500002\" y=\"125.0\" width=\"115.35574218750003\" height=\"40\" stroke=\"black\" fill=\"white\" stroke-width=\"1\" /><text x=\"1179.8480273437503\" y=\"145.0\" dominant-baseline=\"middle\" text-anchor=\"middle\" font-size=\"14px\">ZZ</text><rect x=\"1257.5258984375\" y=\"75.0\" width=\"120.01785156250003\" height=\"40\" stroke=\"black\" fill=\"white\" stroke-width=\"1\" /><text x=\"1317.5348242187501\" y=\"95.0\" dominant-baseline=\"middle\" text-anchor=\"middle\" font-size=\"14px\">ZZ</text><rect x=\"1257.5258984375\" y=\"175.0\" width=\"120.01785156250003\" height=\"40\" stroke=\"black\" fill=\"white\" stroke-width=\"1\" /><text x=\"1317.5348242187501\" y=\"195.0\" dominant-baseline=\"middle\" text-anchor=\"middle\" font-size=\"14px\">ZZ^(-A*gamma/2)</text><rect x=\"1397.5437500000003\" y=\"175.0\" width=\"120.01785156250003\" height=\"40\" stroke=\"black\" fill=\"white\" stroke-width=\"1\" /><text x=\"1457.5526757812504\" y=\"195.0\" dominant-baseline=\"middle\" text-anchor=\"middle\" font-size=\"14px\">ZZ^(-A*gamma/2)</text><rect x=\"1397.5437500000003\" y=\"75.0\" width=\"120.01785156250003\" height=\"40\" stroke=\"black\" fill=\"white\" stroke-width=\"1\" /><text x=\"1457.5526757812504\" y=\"95.0\" dominant-baseline=\"middle\" text-anchor=\"middle\" font-size=\"14px\">ZZ</text></svg>"
      ],
      "text/plain": [
       "<cirq.contrib.svg.svg.SVGCircuit at 0x7fb211791be0>"
      ]
     },
     "execution_count": 9,
     "metadata": {},
     "output_type": "execute_result"
    }
   ],
   "source": [
    "# Now let us build the entire circuit up to now\n",
    "\n",
    "penalty_A_operators_pp = []\n",
    "penalty_A_operators_mm = []\n",
    "penalty_A_operators_pm = []\n",
    "penalty_A_operators_mp = []\n",
    "\n",
    "# Loop over all ++ combinations\n",
    "for k in range(len(index_grid_pp_offdiagonal)):\n",
    "    i_qubit,j_qubit = index_grid_pp_offdiagonal[k]\n",
    "    i_portfolio, j_portfolio =index_grid_pp_portfolio[k]\n",
    "    penalty_A_operators_pp.append(exp_zz(gamma*A/4,qubit1=qubits[i_qubit],qubit2=qubits[j_qubit]))\n",
    "\n",
    "# Loop over all +- combinations\n",
    "for k in range(len(index_grid_pm_offdiagonal)):\n",
    "    i_qubit,j_qubit = index_grid_pm_offdiagonal[k]\n",
    "    i_portfolio, j_portfolio =index_grid_pm_portfolio[k]\n",
    "    penalty_A_operators_pm.append(exp_zz((-1)*A/4*gamma,qubit1=qubits[i_qubit],qubit2=qubits[j_qubit]))\n",
    "\n",
    "    # Loop over all -+ combinations\n",
    "for k in range(len(index_grid_mp_offdiagonal)):\n",
    "    i_qubit,j_qubit = index_grid_mp_offdiagonal[k]\n",
    "    i_portfolio, j_portfolio =index_grid_mp_portfolio[k]\n",
    "    penalty_A_operators_mp.append(exp_zz((-1)*A/4*gamma,qubit1=qubits[i_qubit],qubit2=qubits[j_qubit]))\n",
    "\n",
    "    # Loop over all -- combinations\n",
    "for k in range(len(index_grid_mm_offdiagonal)):\n",
    "    i_qubit,j_qubit = index_grid_mm_offdiagonal[k]\n",
    "    i_portfolio, j_portfolio =index_grid_mm_portfolio[k]\n",
    "    penalty_A_operators_mm.append(exp_zz(A/4*gamma,qubit1=qubits[i_qubit],qubit2=qubits[j_qubit]))\n",
    "\n",
    "# Create the circuit from this \n",
    "circuit = cirq.Circuit((penalty_A_operators_pp ,penalty_A_operators_pm,penalty_A_operators_mp,penalty_A_operators_mm))\n",
    "#circuit = cirq.Circuit((penalty_A_operators_pm))\n",
    "SVGCircuit(circuit)"
   ]
  },
  {
   "cell_type": "markdown",
   "metadata": {},
   "source": [
    "# Construct the final circuit and run the simulator for a single instance of the parameters\n"
   ]
  },
  {
   "cell_type": "code",
   "execution_count": 10,
   "metadata": {
    "collapsed": false
   },
   "outputs": [
    {
     "data": {
      "image/svg+xml": [
       "<svg xmlns=\"http://www.w3.org/2000/svg\" width=\"4945.559414062503\" height=\"240.0\"><line x1=\"30.0\" x2=\"4915.559414062503\" y1=\"45.0\" y2=\"45.0\" stroke=\"#1967d2\" stroke-width=\"1\" /><line x1=\"30.0\" x2=\"4915.559414062503\" y1=\"95.0\" y2=\"95.0\" stroke=\"#1967d2\" stroke-width=\"1\" /><line x1=\"30.0\" x2=\"4915.559414062503\" y1=\"145.0\" y2=\"145.0\" stroke=\"#1967d2\" stroke-width=\"1\" /><line x1=\"30.0\" x2=\"4915.559414062503\" y1=\"195.0\" y2=\"195.0\" stroke=\"#1967d2\" stroke-width=\"1\" /><line x1=\"4179.456484375001\" x2=\"4420.167968750002\" y1=\"5.0\" y2=\"5.0\" stroke=\"black\" stroke-width=\"1\" /><line x1=\"4179.456484375001\" x2=\"4420.167968750002\" y1=\"235.0\" y2=\"235.0\" stroke=\"black\" stroke-width=\"1\" /><line x1=\"3793.3892578125015\" x2=\"4034.100742187501\" y1=\"5.0\" y2=\"5.0\" stroke=\"black\" stroke-width=\"1\" /><line x1=\"3793.3892578125015\" x2=\"4034.100742187501\" y1=\"235.0\" y2=\"235.0\" stroke=\"black\" stroke-width=\"1\" /><line x1=\"3261.4799609375013\" x2=\"3508.015664062501\" y1=\"5.0\" y2=\"5.0\" stroke=\"black\" stroke-width=\"1\" /><line x1=\"3261.4799609375013\" x2=\"3508.015664062501\" y1=\"235.0\" y2=\"235.0\" stroke=\"black\" stroke-width=\"1\" /><line x1=\"2382.9092578125\" x2=\"2728.2926171875006\" y1=\"5.0\" y2=\"5.0\" stroke=\"black\" stroke-width=\"1\" /><line x1=\"2382.9092578125\" x2=\"2728.2926171875006\" y1=\"235.0\" y2=\"235.0\" stroke=\"black\" stroke-width=\"1\" /><line x1=\"1735.3674218750002\" x2=\"2150.3953125000003\" y1=\"5.0\" y2=\"5.0\" stroke=\"black\" stroke-width=\"1\" /><line x1=\"1735.3674218750002\" x2=\"2150.3953125000003\" y1=\"235.0\" y2=\"235.0\" stroke=\"black\" stroke-width=\"1\" /><line x1=\"1087.8255859375001\" x2=\"1502.8534765625002\" y1=\"5.0\" y2=\"5.0\" stroke=\"black\" stroke-width=\"1\" /><line x1=\"1087.8255859375001\" x2=\"1502.8534765625002\" y1=\"235.0\" y2=\"235.0\" stroke=\"black\" stroke-width=\"1\" /><line x1=\"524.5475585937501\" x2=\"524.5475585937501\" y1=\"45.0\" y2=\"145.0\" stroke=\"black\" stroke-width=\"3\" /><line x1=\"751.7236132812501\" x2=\"751.7236132812501\" y1=\"45.0\" y2=\"145.0\" stroke=\"black\" stroke-width=\"3\" /><line x1=\"976.5686132812501\" x2=\"976.5686132812501\" y1=\"45.0\" y2=\"95.0\" stroke=\"black\" stroke-width=\"3\" /><line x1=\"1189.08255859375\" x2=\"1189.08255859375\" y1=\"45.0\" y2=\"195.0\" stroke=\"black\" stroke-width=\"3\" /><line x1=\"1391.5965039062503\" x2=\"1391.5965039062503\" y1=\"95.0\" y2=\"145.0\" stroke=\"black\" stroke-width=\"3\" /><line x1=\"1624.11044921875\" x2=\"1624.11044921875\" y1=\"145.0\" y2=\"195.0\" stroke=\"black\" stroke-width=\"3\" /><line x1=\"1624.11044921875\" x2=\"1624.11044921875\" y1=\"45.0\" y2=\"95.0\" stroke=\"black\" stroke-width=\"3\" /><line x1=\"1836.6243945312503\" x2=\"1836.6243945312503\" y1=\"95.0\" y2=\"145.0\" stroke=\"black\" stroke-width=\"3\" /><line x1=\"2039.1383398437501\" x2=\"2039.1383398437501\" y1=\"45.0\" y2=\"195.0\" stroke=\"black\" stroke-width=\"3\" /><line x1=\"2271.6522851562504\" x2=\"2271.6522851562504\" y1=\"145.0\" y2=\"195.0\" stroke=\"black\" stroke-width=\"3\" /><line x1=\"2486.49728515625\" x2=\"2486.49728515625\" y1=\"95.0\" y2=\"195.0\" stroke=\"black\" stroke-width=\"3\" /><line x1=\"2851.8806445312507\" x2=\"2851.8806445312507\" y1=\"95.0\" y2=\"195.0\" stroke=\"black\" stroke-width=\"3\" /><line x1=\"3039.370664062501\" x2=\"3039.370664062501\" y1=\"45.0\" y2=\"95.0\" stroke=\"black\" stroke-width=\"3\" /><line x1=\"3039.370664062501\" x2=\"3039.370664062501\" y1=\"145.0\" y2=\"195.0\" stroke=\"black\" stroke-width=\"3\" /><line x1=\"3438.0067382812513\" x2=\"3438.0067382812513\" y1=\"45.0\" y2=\"145.0\" stroke=\"black\" stroke-width=\"3\" /><line x1=\"3588.024589843751\" x2=\"3588.024589843751\" y1=\"45.0\" y2=\"145.0\" stroke=\"black\" stroke-width=\"3\" /><line x1=\"3725.7113867187513\" x2=\"3725.7113867187513\" y1=\"45.0\" y2=\"95.0\" stroke=\"black\" stroke-width=\"3\" /><line x1=\"3851.0671289062516\" x2=\"3851.0671289062516\" y1=\"45.0\" y2=\"195.0\" stroke=\"black\" stroke-width=\"3\" /><line x1=\"3966.4228710937514\" x2=\"3966.4228710937514\" y1=\"95.0\" y2=\"145.0\" stroke=\"black\" stroke-width=\"3\" /><line x1=\"4111.778613281251\" x2=\"4111.778613281251\" y1=\"145.0\" y2=\"195.0\" stroke=\"black\" stroke-width=\"3\" /><line x1=\"4111.778613281251\" x2=\"4111.778613281251\" y1=\"45.0\" y2=\"95.0\" stroke=\"black\" stroke-width=\"3\" /><line x1=\"4237.134355468751\" x2=\"4237.134355468751\" y1=\"95.0\" y2=\"145.0\" stroke=\"black\" stroke-width=\"3\" /><line x1=\"4352.490097656251\" x2=\"4352.490097656251\" y1=\"45.0\" y2=\"195.0\" stroke=\"black\" stroke-width=\"3\" /><line x1=\"4497.8458398437515\" x2=\"4497.8458398437515\" y1=\"145.0\" y2=\"195.0\" stroke=\"black\" stroke-width=\"3\" /><line x1=\"4635.532636718752\" x2=\"4635.532636718752\" y1=\"95.0\" y2=\"195.0\" stroke=\"black\" stroke-width=\"3\" /><line x1=\"4775.550488281252\" x2=\"4775.550488281252\" y1=\"95.0\" y2=\"195.0\" stroke=\"black\" stroke-width=\"3\" /><line x1=\"4179.456484375001\" x2=\"4179.456484375001\" y1=\"5.0\" y2=\"15.0\" stroke=\"black\" stroke-width=\"3\" /><line x1=\"4420.167968750002\" x2=\"4420.167968750002\" y1=\"5.0\" y2=\"15.0\" stroke=\"black\" stroke-width=\"3\" /><line x1=\"4179.456484375001\" x2=\"4179.456484375001\" y1=\"225.0\" y2=\"235.0\" stroke=\"black\" stroke-width=\"3\" /><line x1=\"4420.167968750002\" x2=\"4420.167968750002\" y1=\"225.0\" y2=\"235.0\" stroke=\"black\" stroke-width=\"3\" /><line x1=\"3793.3892578125015\" x2=\"3793.3892578125015\" y1=\"5.0\" y2=\"15.0\" stroke=\"black\" stroke-width=\"3\" /><line x1=\"4034.100742187501\" x2=\"4034.100742187501\" y1=\"5.0\" y2=\"15.0\" stroke=\"black\" stroke-width=\"3\" /><line x1=\"3793.3892578125015\" x2=\"3793.3892578125015\" y1=\"225.0\" y2=\"235.0\" stroke=\"black\" stroke-width=\"3\" /><line x1=\"4034.100742187501\" x2=\"4034.100742187501\" y1=\"225.0\" y2=\"235.0\" stroke=\"black\" stroke-width=\"3\" /><line x1=\"3261.4799609375013\" x2=\"3261.4799609375013\" y1=\"5.0\" y2=\"15.0\" stroke=\"black\" stroke-width=\"3\" /><line x1=\"3508.015664062501\" x2=\"3508.015664062501\" y1=\"5.0\" y2=\"15.0\" stroke=\"black\" stroke-width=\"3\" /><line x1=\"3261.4799609375013\" x2=\"3261.4799609375013\" y1=\"225.0\" y2=\"235.0\" stroke=\"black\" stroke-width=\"3\" /><line x1=\"3508.015664062501\" x2=\"3508.015664062501\" y1=\"225.0\" y2=\"235.0\" stroke=\"black\" stroke-width=\"3\" /><line x1=\"2382.9092578125\" x2=\"2382.9092578125\" y1=\"5.0\" y2=\"15.0\" stroke=\"black\" stroke-width=\"3\" /><line x1=\"2728.2926171875006\" x2=\"2728.2926171875006\" y1=\"5.0\" y2=\"15.0\" stroke=\"black\" stroke-width=\"3\" /><line x1=\"2382.9092578125\" x2=\"2382.9092578125\" y1=\"225.0\" y2=\"235.0\" stroke=\"black\" stroke-width=\"3\" /><line x1=\"2728.2926171875006\" x2=\"2728.2926171875006\" y1=\"225.0\" y2=\"235.0\" stroke=\"black\" stroke-width=\"3\" /><line x1=\"1735.3674218750002\" x2=\"1735.3674218750002\" y1=\"5.0\" y2=\"15.0\" stroke=\"black\" stroke-width=\"3\" /><line x1=\"2150.3953125000003\" x2=\"2150.3953125000003\" y1=\"5.0\" y2=\"15.0\" stroke=\"black\" stroke-width=\"3\" /><line x1=\"1735.3674218750002\" x2=\"1735.3674218750002\" y1=\"225.0\" y2=\"235.0\" stroke=\"black\" stroke-width=\"3\" /><line x1=\"2150.3953125000003\" x2=\"2150.3953125000003\" y1=\"225.0\" y2=\"235.0\" stroke=\"black\" stroke-width=\"3\" /><line x1=\"1087.8255859375001\" x2=\"1087.8255859375001\" y1=\"5.0\" y2=\"15.0\" stroke=\"black\" stroke-width=\"3\" /><line x1=\"1502.8534765625002\" x2=\"1502.8534765625002\" y1=\"5.0\" y2=\"15.0\" stroke=\"black\" stroke-width=\"3\" /><line x1=\"1087.8255859375001\" x2=\"1087.8255859375001\" y1=\"225.0\" y2=\"235.0\" stroke=\"black\" stroke-width=\"3\" /><line x1=\"1502.8534765625002\" x2=\"1502.8534765625002\" y1=\"225.0\" y2=\"235.0\" stroke=\"black\" stroke-width=\"3\" /><rect x=\"10.0\" y=\"25.0\" width=\"40\" height=\"40\" stroke=\"black\" fill=\"white\" stroke-width=\"0\" /><text x=\"30.0\" y=\"45.0\" dominant-baseline=\"middle\" text-anchor=\"middle\" font-size=\"14px\">0: </text><rect x=\"10.0\" y=\"75.0\" width=\"40\" height=\"40\" stroke=\"black\" fill=\"white\" stroke-width=\"0\" /><text x=\"30.0\" y=\"95.0\" dominant-baseline=\"middle\" text-anchor=\"middle\" font-size=\"14px\">1: </text><rect x=\"10.0\" y=\"125.0\" width=\"40\" height=\"40\" stroke=\"black\" fill=\"white\" stroke-width=\"0\" /><text x=\"30.0\" y=\"145.0\" dominant-baseline=\"middle\" text-anchor=\"middle\" font-size=\"14px\">2: </text><rect x=\"10.0\" y=\"175.0\" width=\"40\" height=\"40\" stroke=\"black\" fill=\"white\" stroke-width=\"0\" /><text x=\"30.0\" y=\"195.0\" dominant-baseline=\"middle\" text-anchor=\"middle\" font-size=\"14px\">3: </text><rect x=\"70.0\" y=\"25.0\" width=\"40\" height=\"40\" stroke=\"black\" fill=\"white\" stroke-width=\"1\" /><text x=\"90.0\" y=\"45.0\" dominant-baseline=\"middle\" text-anchor=\"middle\" font-size=\"18px\">H</text><rect x=\"70.0\" y=\"75.0\" width=\"40\" height=\"40\" stroke=\"black\" fill=\"white\" stroke-width=\"1\" /><text x=\"90.0\" y=\"95.0\" dominant-baseline=\"middle\" text-anchor=\"middle\" font-size=\"18px\">H</text><rect x=\"70.0\" y=\"125.0\" width=\"40\" height=\"40\" stroke=\"black\" fill=\"white\" stroke-width=\"1\" /><text x=\"90.0\" y=\"145.0\" dominant-baseline=\"middle\" text-anchor=\"middle\" font-size=\"18px\">H</text><rect x=\"70.0\" y=\"175.0\" width=\"40\" height=\"40\" stroke=\"black\" fill=\"white\" stroke-width=\"1\" /><text x=\"90.0\" y=\"195.0\" dominant-baseline=\"middle\" text-anchor=\"middle\" font-size=\"18px\">H</text><rect x=\"130.0\" y=\"25.0\" width=\"71.421171875\" height=\"40\" stroke=\"black\" fill=\"white\" stroke-width=\"1\" /><text x=\"165.7105859375\" y=\"45.0\" dominant-baseline=\"middle\" text-anchor=\"middle\" font-size=\"14px\">Rx(2*b_0)</text><rect x=\"130.0\" y=\"75.0\" width=\"71.421171875\" height=\"40\" stroke=\"black\" fill=\"white\" stroke-width=\"1\" /><text x=\"165.7105859375\" y=\"95.0\" dominant-baseline=\"middle\" text-anchor=\"middle\" font-size=\"14px\">Rx(2*b_0)</text><rect x=\"130.0\" y=\"125.0\" width=\"71.421171875\" height=\"40\" stroke=\"black\" fill=\"white\" stroke-width=\"1\" /><text x=\"165.7105859375\" y=\"145.0\" dominant-baseline=\"middle\" text-anchor=\"middle\" font-size=\"14px\">Rx(2*b_0)</text><rect x=\"130.0\" y=\"175.0\" width=\"71.421171875\" height=\"40\" stroke=\"black\" fill=\"white\" stroke-width=\"1\" /><text x=\"165.7105859375\" y=\"195.0\" dominant-baseline=\"middle\" text-anchor=\"middle\" font-size=\"14px\">Rx(2*b_0)</text><rect x=\"221.42117187500003\" y=\"25.0\" width=\"179.53835937500003\" height=\"40\" stroke=\"black\" fill=\"white\" stroke-width=\"1\" /><text x=\"311.19035156250004\" y=\"45.0\" dominant-baseline=\"middle\" text-anchor=\"middle\" font-size=\"14px\">Rz(gamma*mu_0*(1 - lam))</text><rect x=\"221.42117187500003\" y=\"75.0\" width=\"179.53835937500003\" height=\"40\" stroke=\"black\" fill=\"white\" stroke-width=\"1\" /><text x=\"311.19035156250004\" y=\"95.0\" dominant-baseline=\"middle\" text-anchor=\"middle\" font-size=\"14px\">Rz(gamma*mu_0*(lam - 1))</text><rect x=\"221.42117187500003\" y=\"125.0\" width=\"179.53835937500003\" height=\"40\" stroke=\"black\" fill=\"white\" stroke-width=\"1\" /><text x=\"311.19035156250004\" y=\"145.0\" dominant-baseline=\"middle\" text-anchor=\"middle\" font-size=\"14px\">Rz(gamma*mu_1*(1 - lam))</text><rect x=\"221.42117187500003\" y=\"175.0\" width=\"179.53835937500003\" height=\"40\" stroke=\"black\" fill=\"white\" stroke-width=\"1\" /><text x=\"311.19035156250004\" y=\"195.0\" dominant-baseline=\"middle\" text-anchor=\"middle\" font-size=\"14px\">Rz(gamma*mu_1*(lam - 1))</text><rect x=\"420.95953125000005\" y=\"25.0\" width=\"207.17605468750003\" height=\"40\" stroke=\"black\" fill=\"white\" stroke-width=\"1\" /><text x=\"524.5475585937501\" y=\"45.0\" dominant-baseline=\"middle\" text-anchor=\"middle\" font-size=\"14px\">ZZ</text><rect x=\"420.95953125000005\" y=\"125.0\" width=\"207.17605468750003\" height=\"40\" stroke=\"black\" fill=\"white\" stroke-width=\"1\" /><text x=\"524.5475585937501\" y=\"145.0\" dominant-baseline=\"middle\" text-anchor=\"middle\" font-size=\"14px\">ZZ^(-gamma*lam*sigma_1_0/2)</text><rect x=\"648.1355859375001\" y=\"125.0\" width=\"207.17605468750003\" height=\"40\" stroke=\"black\" fill=\"white\" stroke-width=\"1\" /><text x=\"751.7236132812501\" y=\"145.0\" dominant-baseline=\"middle\" text-anchor=\"middle\" font-size=\"14px\">ZZ^(-gamma*lam*sigma_0_1/2)</text><rect x=\"648.1355859375001\" y=\"25.0\" width=\"207.17605468750003\" height=\"40\" stroke=\"black\" fill=\"white\" stroke-width=\"1\" /><text x=\"751.7236132812501\" y=\"45.0\" dominant-baseline=\"middle\" text-anchor=\"middle\" font-size=\"14px\">ZZ</text><rect x=\"875.3116406250001\" y=\"25.0\" width=\"202.51394531250003\" height=\"40\" stroke=\"black\" fill=\"white\" stroke-width=\"1\" /><text x=\"976.5686132812501\" y=\"45.0\" dominant-baseline=\"middle\" text-anchor=\"middle\" font-size=\"14px\">ZZ</text><rect x=\"875.3116406250001\" y=\"75.0\" width=\"202.51394531250003\" height=\"40\" stroke=\"black\" fill=\"white\" stroke-width=\"1\" /><text x=\"976.5686132812501\" y=\"95.0\" dominant-baseline=\"middle\" text-anchor=\"middle\" font-size=\"14px\">ZZ^(gamma*lam*sigma_0_0/2)</text><rect x=\"1087.8255859375\" y=\"25.0\" width=\"202.51394531250003\" height=\"40\" stroke=\"black\" fill=\"white\" stroke-width=\"1\" /><text x=\"1189.08255859375\" y=\"45.0\" dominant-baseline=\"middle\" text-anchor=\"middle\" font-size=\"14px\">ZZ</text><rect x=\"1087.8255859375\" y=\"175.0\" width=\"202.51394531250003\" height=\"40\" stroke=\"black\" fill=\"white\" stroke-width=\"1\" /><text x=\"1189.08255859375\" y=\"195.0\" dominant-baseline=\"middle\" text-anchor=\"middle\" font-size=\"14px\">ZZ^(gamma*lam*sigma_1_0/2)</text><rect x=\"1290.3395312500002\" y=\"125.0\" width=\"202.51394531250003\" height=\"40\" stroke=\"black\" fill=\"white\" stroke-width=\"1\" /><text x=\"1391.5965039062503\" y=\"145.0\" dominant-baseline=\"middle\" text-anchor=\"middle\" font-size=\"14px\">ZZ^(gamma*lam*sigma_0_1/2)</text><rect x=\"1290.3395312500002\" y=\"75.0\" width=\"202.51394531250003\" height=\"40\" stroke=\"black\" fill=\"white\" stroke-width=\"1\" /><text x=\"1391.5965039062503\" y=\"95.0\" dominant-baseline=\"middle\" text-anchor=\"middle\" font-size=\"14px\">ZZ</text><rect x=\"1522.8534765625\" y=\"125.0\" width=\"202.51394531250003\" height=\"40\" stroke=\"black\" fill=\"white\" stroke-width=\"1\" /><text x=\"1624.11044921875\" y=\"145.0\" dominant-baseline=\"middle\" text-anchor=\"middle\" font-size=\"14px\">ZZ</text><rect x=\"1522.8534765625\" y=\"175.0\" width=\"202.51394531250003\" height=\"40\" stroke=\"black\" fill=\"white\" stroke-width=\"1\" /><text x=\"1624.11044921875\" y=\"195.0\" dominant-baseline=\"middle\" text-anchor=\"middle\" font-size=\"14px\">ZZ^(gamma*lam*sigma_1_1/2)</text><rect x=\"1522.8534765625\" y=\"75.0\" width=\"202.51394531250003\" height=\"40\" stroke=\"black\" fill=\"white\" stroke-width=\"1\" /><text x=\"1624.11044921875\" y=\"95.0\" dominant-baseline=\"middle\" text-anchor=\"middle\" font-size=\"14px\">ZZ^(gamma*lam*sigma_0_0/2)</text><rect x=\"1522.8534765625\" y=\"25.0\" width=\"202.51394531250003\" height=\"40\" stroke=\"black\" fill=\"white\" stroke-width=\"1\" /><text x=\"1624.11044921875\" y=\"45.0\" dominant-baseline=\"middle\" text-anchor=\"middle\" font-size=\"14px\">ZZ</text><rect x=\"1735.3674218750002\" y=\"75.0\" width=\"202.51394531250003\" height=\"40\" stroke=\"black\" fill=\"white\" stroke-width=\"1\" /><text x=\"1836.6243945312503\" y=\"95.0\" dominant-baseline=\"middle\" text-anchor=\"middle\" font-size=\"14px\">ZZ</text><rect x=\"1735.3674218750002\" y=\"125.0\" width=\"202.51394531250003\" height=\"40\" stroke=\"black\" fill=\"white\" stroke-width=\"1\" /><text x=\"1836.6243945312503\" y=\"145.0\" dominant-baseline=\"middle\" text-anchor=\"middle\" font-size=\"14px\">ZZ^(gamma*lam*sigma_1_0/2)</text><rect x=\"1937.8813671875\" y=\"175.0\" width=\"202.51394531250003\" height=\"40\" stroke=\"black\" fill=\"white\" stroke-width=\"1\" /><text x=\"2039.1383398437501\" y=\"195.0\" dominant-baseline=\"middle\" text-anchor=\"middle\" font-size=\"14px\">ZZ^(gamma*lam*sigma_0_1/2)</text><rect x=\"1937.8813671875\" y=\"25.0\" width=\"202.51394531250003\" height=\"40\" stroke=\"black\" fill=\"white\" stroke-width=\"1\" /><text x=\"2039.1383398437501\" y=\"45.0\" dominant-baseline=\"middle\" text-anchor=\"middle\" font-size=\"14px\">ZZ</text><rect x=\"2170.3953125000003\" y=\"175.0\" width=\"202.51394531250003\" height=\"40\" stroke=\"black\" fill=\"white\" stroke-width=\"1\" /><text x=\"2271.6522851562504\" y=\"195.0\" dominant-baseline=\"middle\" text-anchor=\"middle\" font-size=\"14px\">ZZ^(gamma*lam*sigma_1_1/2)</text><rect x=\"2170.3953125000003\" y=\"125.0\" width=\"202.51394531250003\" height=\"40\" stroke=\"black\" fill=\"white\" stroke-width=\"1\" /><text x=\"2271.6522851562504\" y=\"145.0\" dominant-baseline=\"middle\" text-anchor=\"middle\" font-size=\"14px\">ZZ</text><rect x=\"2170.3953125000003\" y=\"25.0\" width=\"202.51394531250003\" height=\"40\" stroke=\"black\" fill=\"white\" stroke-width=\"1\" /><text x=\"2271.6522851562504\" y=\"45.0\" dominant-baseline=\"middle\" text-anchor=\"middle\" font-size=\"14px\">Rz(0.25*T*gamma)</text><rect x=\"2382.9092578125\" y=\"75.0\" width=\"207.17605468750003\" height=\"40\" stroke=\"black\" fill=\"white\" stroke-width=\"1\" /><text x=\"2486.49728515625\" y=\"95.0\" dominant-baseline=\"middle\" text-anchor=\"middle\" font-size=\"14px\">ZZ</text><rect x=\"2382.9092578125\" y=\"175.0\" width=\"207.17605468750003\" height=\"40\" stroke=\"black\" fill=\"white\" stroke-width=\"1\" /><text x=\"2486.49728515625\" y=\"195.0\" dominant-baseline=\"middle\" text-anchor=\"middle\" font-size=\"14px\">ZZ^(-gamma*lam*sigma_1_0/2)</text><rect x=\"2590.0853125000003\" y=\"125.0\" width=\"128.20730468750003\" height=\"40\" stroke=\"black\" fill=\"white\" stroke-width=\"1\" /><text x=\"2654.1889648437505\" y=\"145.0\" dominant-baseline=\"middle\" text-anchor=\"middle\" font-size=\"14px\">Rz(0.25*T*gamma)</text><rect x=\"2748.2926171875006\" y=\"175.0\" width=\"207.17605468750003\" height=\"40\" stroke=\"black\" fill=\"white\" stroke-width=\"1\" /><text x=\"2851.8806445312507\" y=\"195.0\" dominant-baseline=\"middle\" text-anchor=\"middle\" font-size=\"14px\">ZZ^(-gamma*lam*sigma_0_1/2)</text><rect x=\"2748.2926171875006\" y=\"75.0\" width=\"207.17605468750003\" height=\"40\" stroke=\"black\" fill=\"white\" stroke-width=\"1\" /><text x=\"2851.8806445312507\" y=\"95.0\" dominant-baseline=\"middle\" text-anchor=\"middle\" font-size=\"14px\">ZZ</text><rect x=\"2975.468671875001\" y=\"25.0\" width=\"127.80398437500003\" height=\"40\" stroke=\"black\" fill=\"white\" stroke-width=\"1\" /><text x=\"3039.370664062501\" y=\"45.0\" dominant-baseline=\"middle\" text-anchor=\"middle\" font-size=\"14px\">ZZ</text><rect x=\"2975.468671875001\" y=\"75.0\" width=\"127.80398437500003\" height=\"40\" stroke=\"black\" fill=\"white\" stroke-width=\"1\" /><text x=\"3039.370664062501\" y=\"95.0\" dominant-baseline=\"middle\" text-anchor=\"middle\" font-size=\"14px\">ZZ^(0.5*T*gamma)</text><rect x=\"2975.468671875001\" y=\"125.0\" width=\"127.80398437500003\" height=\"40\" stroke=\"black\" fill=\"white\" stroke-width=\"1\" /><text x=\"3039.370664062501\" y=\"145.0\" dominant-baseline=\"middle\" text-anchor=\"middle\" font-size=\"14px\">ZZ</text><rect x=\"2975.468671875001\" y=\"175.0\" width=\"127.80398437500003\" height=\"40\" stroke=\"black\" fill=\"white\" stroke-width=\"1\" /><text x=\"3039.370664062501\" y=\"195.0\" dominant-baseline=\"middle\" text-anchor=\"middle\" font-size=\"14px\">ZZ^(0.5*T*gamma)</text><rect x=\"3123.272656250001\" y=\"75.0\" width=\"128.20730468750003\" height=\"40\" stroke=\"black\" fill=\"white\" stroke-width=\"1\" /><text x=\"3187.376308593751\" y=\"95.0\" dominant-baseline=\"middle\" text-anchor=\"middle\" font-size=\"14px\">Rz(0.25*T*gamma)</text><rect x=\"3123.272656250001\" y=\"175.0\" width=\"128.20730468750003\" height=\"40\" stroke=\"black\" fill=\"white\" stroke-width=\"1\" /><text x=\"3187.376308593751\" y=\"195.0\" dominant-baseline=\"middle\" text-anchor=\"middle\" font-size=\"14px\">Rz(0.25*T*gamma)</text><rect x=\"3123.272656250001\" y=\"25.0\" width=\"128.20730468750003\" height=\"40\" stroke=\"black\" fill=\"white\" stroke-width=\"1\" /><text x=\"3187.376308593751\" y=\"45.0\" dominant-baseline=\"middle\" text-anchor=\"middle\" font-size=\"14px\">Rz(A*D*gamma)</text><rect x=\"3123.272656250001\" y=\"125.0\" width=\"128.20730468750003\" height=\"40\" stroke=\"black\" fill=\"white\" stroke-width=\"1\" /><text x=\"3187.376308593751\" y=\"145.0\" dominant-baseline=\"middle\" text-anchor=\"middle\" font-size=\"14px\">Rz(A*D*gamma)</text><rect x=\"3261.4799609375013\" y=\"75.0\" width=\"116.51785156250001\" height=\"40\" stroke=\"black\" fill=\"white\" stroke-width=\"1\" /><text x=\"3319.7388867187515\" y=\"95.0\" dominant-baseline=\"middle\" text-anchor=\"middle\" font-size=\"14px\">Rz(-A*D*gamma)</text><rect x=\"3261.4799609375013\" y=\"175.0\" width=\"116.51785156250001\" height=\"40\" stroke=\"black\" fill=\"white\" stroke-width=\"1\" /><text x=\"3319.7388867187515\" y=\"195.0\" dominant-baseline=\"middle\" text-anchor=\"middle\" font-size=\"14px\">Rz(-A*D*gamma)</text><rect x=\"3377.997812500001\" y=\"25.0\" width=\"120.01785156250001\" height=\"40\" stroke=\"black\" fill=\"white\" stroke-width=\"1\" /><text x=\"3438.0067382812513\" y=\"45.0\" dominant-baseline=\"middle\" text-anchor=\"middle\" font-size=\"14px\">ZZ</text><rect x=\"3377.997812500001\" y=\"125.0\" width=\"120.01785156250001\" height=\"40\" stroke=\"black\" fill=\"white\" stroke-width=\"1\" /><text x=\"3438.0067382812513\" y=\"145.0\" dominant-baseline=\"middle\" text-anchor=\"middle\" font-size=\"14px\">ZZ^(-A*gamma/2)</text><rect x=\"3528.015664062501\" y=\"125.0\" width=\"120.01785156250003\" height=\"40\" stroke=\"black\" fill=\"white\" stroke-width=\"1\" /><text x=\"3588.024589843751\" y=\"145.0\" dominant-baseline=\"middle\" text-anchor=\"middle\" font-size=\"14px\">ZZ^(-A*gamma/2)</text><rect x=\"3528.015664062501\" y=\"25.0\" width=\"120.01785156250003\" height=\"40\" stroke=\"black\" fill=\"white\" stroke-width=\"1\" /><text x=\"3588.024589843751\" y=\"45.0\" dominant-baseline=\"middle\" text-anchor=\"middle\" font-size=\"14px\">ZZ</text><rect x=\"3668.033515625001\" y=\"25.0\" width=\"115.35574218750003\" height=\"40\" stroke=\"black\" fill=\"white\" stroke-width=\"1\" /><text x=\"3725.7113867187513\" y=\"45.0\" dominant-baseline=\"middle\" text-anchor=\"middle\" font-size=\"14px\">ZZ</text><rect x=\"3668.033515625001\" y=\"75.0\" width=\"115.35574218750003\" height=\"40\" stroke=\"black\" fill=\"white\" stroke-width=\"1\" /><text x=\"3725.7113867187513\" y=\"95.0\" dominant-baseline=\"middle\" text-anchor=\"middle\" font-size=\"14px\">ZZ^(A*gamma/2)</text><rect x=\"3793.3892578125015\" y=\"25.0\" width=\"115.35574218750001\" height=\"40\" stroke=\"black\" fill=\"white\" stroke-width=\"1\" /><text x=\"3851.0671289062516\" y=\"45.0\" dominant-baseline=\"middle\" text-anchor=\"middle\" font-size=\"14px\">ZZ</text><rect x=\"3793.3892578125015\" y=\"175.0\" width=\"115.35574218750001\" height=\"40\" stroke=\"black\" fill=\"white\" stroke-width=\"1\" /><text x=\"3851.0671289062516\" y=\"195.0\" dominant-baseline=\"middle\" text-anchor=\"middle\" font-size=\"14px\">ZZ^(A*gamma/2)</text><rect x=\"3908.7450000000013\" y=\"125.0\" width=\"115.35574218750001\" height=\"40\" stroke=\"black\" fill=\"white\" stroke-width=\"1\" /><text x=\"3966.4228710937514\" y=\"145.0\" dominant-baseline=\"middle\" text-anchor=\"middle\" font-size=\"14px\">ZZ^(A*gamma/2)</text><rect x=\"3908.7450000000013\" y=\"75.0\" width=\"115.35574218750001\" height=\"40\" stroke=\"black\" fill=\"white\" stroke-width=\"1\" /><text x=\"3966.4228710937514\" y=\"95.0\" dominant-baseline=\"middle\" text-anchor=\"middle\" font-size=\"14px\">ZZ</text><rect x=\"4054.1007421875006\" y=\"125.0\" width=\"115.35574218750003\" height=\"40\" stroke=\"black\" fill=\"white\" stroke-width=\"1\" /><text x=\"4111.778613281251\" y=\"145.0\" dominant-baseline=\"middle\" text-anchor=\"middle\" font-size=\"14px\">ZZ</text><rect x=\"4054.1007421875006\" y=\"175.0\" width=\"115.35574218750003\" height=\"40\" stroke=\"black\" fill=\"white\" stroke-width=\"1\" /><text x=\"4111.778613281251\" y=\"195.0\" dominant-baseline=\"middle\" text-anchor=\"middle\" font-size=\"14px\">ZZ^(A*gamma/2)</text><rect x=\"4054.1007421875006\" y=\"75.0\" width=\"115.35574218750003\" height=\"40\" stroke=\"black\" fill=\"white\" stroke-width=\"1\" /><text x=\"4111.778613281251\" y=\"95.0\" dominant-baseline=\"middle\" text-anchor=\"middle\" font-size=\"14px\">ZZ^(A*gamma/2)</text><rect x=\"4054.1007421875006\" y=\"25.0\" width=\"115.35574218750003\" height=\"40\" stroke=\"black\" fill=\"white\" stroke-width=\"1\" /><text x=\"4111.778613281251\" y=\"45.0\" dominant-baseline=\"middle\" text-anchor=\"middle\" font-size=\"14px\">ZZ</text><rect x=\"4179.456484375001\" y=\"75.0\" width=\"115.35574218750001\" height=\"40\" stroke=\"black\" fill=\"white\" stroke-width=\"1\" /><text x=\"4237.134355468751\" y=\"95.0\" dominant-baseline=\"middle\" text-anchor=\"middle\" font-size=\"14px\">ZZ</text><rect x=\"4179.456484375001\" y=\"125.0\" width=\"115.35574218750001\" height=\"40\" stroke=\"black\" fill=\"white\" stroke-width=\"1\" /><text x=\"4237.134355468751\" y=\"145.0\" dominant-baseline=\"middle\" text-anchor=\"middle\" font-size=\"14px\">ZZ^(A*gamma/2)</text><rect x=\"4294.812226562502\" y=\"175.0\" width=\"115.35574218750001\" height=\"40\" stroke=\"black\" fill=\"white\" stroke-width=\"1\" /><text x=\"4352.490097656251\" y=\"195.0\" dominant-baseline=\"middle\" text-anchor=\"middle\" font-size=\"14px\">ZZ^(A*gamma/2)</text><rect x=\"4294.812226562502\" y=\"25.0\" width=\"115.35574218750001\" height=\"40\" stroke=\"black\" fill=\"white\" stroke-width=\"1\" /><text x=\"4352.490097656251\" y=\"45.0\" dominant-baseline=\"middle\" text-anchor=\"middle\" font-size=\"14px\">ZZ</text><rect x=\"4440.167968750002\" y=\"175.0\" width=\"115.35574218750003\" height=\"40\" stroke=\"black\" fill=\"white\" stroke-width=\"1\" /><text x=\"4497.8458398437515\" y=\"195.0\" dominant-baseline=\"middle\" text-anchor=\"middle\" font-size=\"14px\">ZZ^(A*gamma/2)</text><rect x=\"4440.167968750002\" y=\"125.0\" width=\"115.35574218750003\" height=\"40\" stroke=\"black\" fill=\"white\" stroke-width=\"1\" /><text x=\"4497.8458398437515\" y=\"145.0\" dominant-baseline=\"middle\" text-anchor=\"middle\" font-size=\"14px\">ZZ</text><rect x=\"4575.523710937502\" y=\"75.0\" width=\"120.01785156250003\" height=\"40\" stroke=\"black\" fill=\"white\" stroke-width=\"1\" /><text x=\"4635.532636718752\" y=\"95.0\" dominant-baseline=\"middle\" text-anchor=\"middle\" font-size=\"14px\">ZZ</text><rect x=\"4575.523710937502\" y=\"175.0\" width=\"120.01785156250003\" height=\"40\" stroke=\"black\" fill=\"white\" stroke-width=\"1\" /><text x=\"4635.532636718752\" y=\"195.0\" dominant-baseline=\"middle\" text-anchor=\"middle\" font-size=\"14px\">ZZ^(-A*gamma/2)</text><rect x=\"4715.541562500002\" y=\"175.0\" width=\"120.01785156250003\" height=\"40\" stroke=\"black\" fill=\"white\" stroke-width=\"1\" /><text x=\"4775.550488281252\" y=\"195.0\" dominant-baseline=\"middle\" text-anchor=\"middle\" font-size=\"14px\">ZZ^(-A*gamma/2)</text><rect x=\"4715.541562500002\" y=\"75.0\" width=\"120.01785156250003\" height=\"40\" stroke=\"black\" fill=\"white\" stroke-width=\"1\" /><text x=\"4775.550488281252\" y=\"95.0\" dominant-baseline=\"middle\" text-anchor=\"middle\" font-size=\"14px\">ZZ</text><rect x=\"4855.559414062503\" y=\"25.0\" width=\"40\" height=\"40\" stroke=\"black\" fill=\"white\" stroke-width=\"1\" /><text x=\"4875.559414062503\" y=\"45.0\" dominant-baseline=\"middle\" text-anchor=\"middle\" font-size=\"18px\">M</text><rect x=\"4855.559414062503\" y=\"75.0\" width=\"40\" height=\"40\" stroke=\"black\" fill=\"white\" stroke-width=\"1\" /><text x=\"4875.559414062503\" y=\"95.0\" dominant-baseline=\"middle\" text-anchor=\"middle\" font-size=\"18px\">M</text><rect x=\"4855.559414062503\" y=\"125.0\" width=\"40\" height=\"40\" stroke=\"black\" fill=\"white\" stroke-width=\"1\" /><text x=\"4875.559414062503\" y=\"145.0\" dominant-baseline=\"middle\" text-anchor=\"middle\" font-size=\"18px\">M</text><rect x=\"4855.559414062503\" y=\"175.0\" width=\"40\" height=\"40\" stroke=\"black\" fill=\"white\" stroke-width=\"1\" /><text x=\"4875.559414062503\" y=\"195.0\" dominant-baseline=\"middle\" text-anchor=\"middle\" font-size=\"18px\">M</text></svg>"
      ],
      "text/plain": [
       "<cirq.contrib.svg.svg.SVGCircuit at 0x7fb24c0895b0>"
      ]
     },
     "execution_count": 10,
     "metadata": {},
     "output_type": "execute_result"
    }
   ],
   "source": [
    "penalty = (penalty_AD_operators,penalty_A_operators_pp ,penalty_A_operators_pm,penalty_A_operators_mp,penalty_A_operators_mm)\n",
    "portfolio_lagrangian = (cost_returns_operators,cost_volatility_operators_pp,cost_volatility_operators_pm,cost_volatility_operators_mp,cost_volatility_operators_mm)\n",
    "transaction_costs = (transaction_operators_p_i,transaction_operators_pm_ii,transaction_operators_m_i)\n",
    "\n",
    "\n",
    "circuit = cirq.Circuit(hadamard_operators,mixer_operators,portfolio_lagrangian,transaction_costs,penalty,measurements)\n",
    "SVGCircuit(circuit)"
   ]
  },
  {
   "cell_type": "code",
   "execution_count": 11,
   "metadata": {
    "collapsed": true
   },
   "outputs": [],
   "source": [
    "def convert_to_y(x):\n",
    "    '''\n",
    "    Converts the bitstring x to the vector y={-1,0,1}\n",
    "    for the portfolio\n",
    "    '''\n",
    "    \n",
    "    # Rescales the bit string to [-1 or 1]\n",
    "    s = 2.0*np.array(x)-1.0\n",
    "    \n",
    "    y = np.zeros(N)\n",
    "    \n",
    "    for i in range(N):\n",
    "        y[i] = (s[2*i]-s[2*i+1])/2\n",
    "    \n",
    "    return y\n",
    "\n",
    "def portfolio_penalty_cost(y,A,D):\n",
    "    penalty = 0.0\n",
    "    \n",
    "    \n",
    "    penalty = A*(np.sum(y)-D)**2\n",
    "    \n",
    "    return penalty\n",
    "\n",
    "def portfolio_cost_function(y):\n",
    "    '''\n",
    "    The cost function for a portfolio\n",
    "    \n",
    "    y-- a bitstring array giving the results of the portfolio {-1,0,1}\n",
    "    '''\n",
    "    cost = 0 \n",
    "    \n",
    "    for i in range(N):\n",
    "        Zi = x[2*i]+x[2*i+1]\n",
    "    \n",
    "    \n",
    "    return cost"
   ]
  },
  {
   "cell_type": "code",
   "execution_count": 13,
   "metadata": {
    "collapsed": true
   },
   "outputs": [],
   "source": [
    "def convert_measurements_to_array(results,N,n_repetitions):\n",
    "    '''\n",
    "    \n",
    "    results -- \n",
    "    '''\n",
    "    \n",
    "    # Instantiate the array\n",
    "    X = np.zeros((2*N,n_repetitions))\n",
    "    \n",
    "    # Retrieve all of the measurements for each Qbit and store the result in the tensor\n",
    "    for i in range(len(result.measurements.keys())):\n",
    "        key = list(result.measurements.keys())[i]\n",
    "        X[i,:] = np.array(result.measurements[key]).flatten()\n",
    "    \n",
    "    \n",
    "    return X\n",
    "\n",
    "\n",
    "def convert_measurements_to_Z(X,N,n_repetitions):\n",
    "    '''\n",
    "    Converts collection of simulations in the computational basis to \n",
    "    the Z-values\n",
    "    \n",
    "    Z_i = (1/2)(z^+_i - z^-_i)\n",
    "    \n",
    "    where z^{+/-} = {-1,1}\n",
    "    '''\n",
    "    \n",
    "    Z = np.zeros((N,n_repetitions))\n",
    "    \n",
    "    for i in range(0,n_repetitions):\n",
    "        x_bitstring = X[:,i]\n",
    "        \n",
    "        # Converts the bitstring to portfolio \n",
    "        Z[:,i] = convert_to_y(x_bitstring)\n",
    "    \n",
    "    return Z\n",
    "\n",
    "\n",
    "def count_instances(N,results,n_repetitions):\n",
    "    '''\n",
    "    \n",
    "    '''\n",
    "    \n",
    "    X = convert_measurements_to_array(results,N,n_repetitions)\n",
    "    Z = convert_measurements_to_Z(X,N,n_repetitions)\n",
    "    \n",
    "    # The dictionary to store the results\n",
    "    portfolio_results = {}\n",
    "    \n",
    "    \n",
    "    # The values that can be taken by Zi\n",
    "    portfolio_index = [-1,0,1]\n",
    "    \n",
    "    portfolio_keys = itertools.product(portfolio_index,repeat=N)\n",
    "    \n",
    "    labels = []\n",
    "    label_counts = []\n",
    "    label_penalty = []\n",
    "    \n",
    "    \n",
    "    for state in list(portfolio_keys):\n",
    "        \n",
    "        # convert the tuple to numpy integer vector \n",
    "        Z_state =  np.array([state[i] for i in range(len(state))]).astype(int)\n",
    "        \n",
    "        # convert the Z_state to a string\n",
    "        state_key = ''.join(Z_state.astype('str'))\n",
    "        \n",
    "        state_count = 0\n",
    "        \n",
    "        for i in range(n_repetitions):\n",
    "            \n",
    "            # retrieve a sample\n",
    "            Zi = Z[:,i].flatten()\n",
    "            \n",
    "            label_penalty.append(portfolio_penalty_cost(Zi,A_val,D_val))\n",
    "            \n",
    "            # check if Zi sample matches the Z-label\n",
    "            if(np.array_equal(Z_state,Zi)==True):\n",
    "                state_count+=1\n",
    "        \n",
    "        # Save all of the values\n",
    "        labels.append(state_key)\n",
    "        label_counts.append(state_count)\n",
    "        \n",
    "        portfolio_results[state_key] = state_count\n",
    "        \n",
    "    portfolio_results['penalty_cost_samples'] = label_penalty \n",
    "    portfolio_results['labels']= labels\n",
    "    portfolio_results['counts']= label_counts\n",
    "    \n",
    "    return portfolio_results\n"
   ]
  },
  {
   "cell_type": "code",
   "execution_count": 30,
   "metadata": {
    "collapsed": false
   },
   "outputs": [
    {
     "name": "stdout",
     "output_type": "stream",
     "text": [
      "[mu_0, mu_1] [[sigma_0_0, sigma_1_0], [sigma_0_1, sigma_1_1]] lam gamma [b_0]\n",
      "{mu_0: 100.0, mu_1: -10.0, sigma_0_0: 0.0, sigma_1_0: 0.0, sigma_0_1: 0.0, sigma_1_1: 0.0, b_0: 2.3, gamma: 0.0, lam: 0, A: 1.0, D: 0.0}\n"
     ]
    }
   ],
   "source": [
    "print(mu,sigma,lam,gamma,betas)\n",
    "\n",
    "\n",
    "resolved_params = {}\n",
    "\n",
    "A_val = 1.0\n",
    "D_val = 0.0\n",
    "\n",
    "\n",
    "for k in range(len(mu)):\n",
    "    \n",
    "    mu_k = mu[k]\n",
    "    \n",
    "    if(k==0):\n",
    "        resolved_params[mu_k] = 100.0\n",
    "    else:\n",
    "        resolved_params[mu_k] = -10.0\n",
    "\n",
    "for i in range(len(mu)):\n",
    "    for j in range(len(mu)):\n",
    "        \n",
    "        if(i==j):\n",
    "            resolved_params[sigma[i][j]] = 0.0\n",
    "        else:\n",
    "            resolved_params[sigma[i][j]] = 0.0\n",
    "\n",
    "for beta in betas:\n",
    "    resolved_params[beta] =  2.3\n",
    "   \n",
    "resolved_params[gamma] = 0.0\n",
    "resolved_params[lam] = 0\n",
    "\n",
    "\n",
    "resolved_params[A] = A_val\n",
    "resolved_params[D] = D_val\n",
    "\n",
    "\n",
    "print(resolved_params)\n",
    "\n",
    "\n",
    "# Resolve all of the parameters\n",
    "resolver = cirq.ParamResolver(resolved_params)"
   ]
  },
  {
   "cell_type": "code",
   "execution_count": 36,
   "metadata": {
    "collapsed": false
   },
   "outputs": [
    {
     "data": {
      "image/png": "[encoded data removed]",
      "text/plain": [
       "<Figure size 720x720 with 1 Axes>"
      ]
     },
     "metadata": {
      "needs_background": "light"
     },
     "output_type": "display_data"
    },
    {
     "data": {
      "image/png": "[encoded data removed]",
      "text/plain": [
       "<Figure size 720x720 with 1 Axes>"
      ]
     },
     "metadata": {
      "needs_background": "light"
     },
     "output_type": "display_data"
    },
    {
     "data": {
      "image/png": "[encoded data removed]",
      "text/plain": [
       "<Figure size 432x288 with 1 Axes>"
      ]
     },
     "metadata": {
      "needs_background": "light"
     },
     "output_type": "display_data"
    },
    {
     "data": {
      "image/svg+xml": [
       "<svg xmlns=\"http://www.w3.org/2000/svg\" width=\"447.93902343750005\" height=\"200.0\"><line x1=\"30.0\" x2=\"417.93902343750005\" y1=\"25.0\" y2=\"25.0\" stroke=\"#1967d2\" stroke-width=\"1\" /><line x1=\"30.0\" x2=\"417.93902343750005\" y1=\"75.0\" y2=\"75.0\" stroke=\"#1967d2\" stroke-width=\"1\" /><line x1=\"30.0\" x2=\"417.93902343750005\" y1=\"125.0\" y2=\"125.0\" stroke=\"#1967d2\" stroke-width=\"1\" /><line x1=\"30.0\" x2=\"417.93902343750005\" y1=\"175.0\" y2=\"175.0\" stroke=\"#1967d2\" stroke-width=\"1\" /><rect x=\"10.0\" y=\"5.0\" width=\"40\" height=\"40\" stroke=\"black\" fill=\"white\" stroke-width=\"0\" /><text x=\"30.0\" y=\"25.0\" dominant-baseline=\"middle\" text-anchor=\"middle\" font-size=\"14px\">0: </text><rect x=\"10.0\" y=\"55.0\" width=\"40\" height=\"40\" stroke=\"black\" fill=\"white\" stroke-width=\"0\" /><text x=\"30.0\" y=\"75.0\" dominant-baseline=\"middle\" text-anchor=\"middle\" font-size=\"14px\">1: </text><rect x=\"10.0\" y=\"105.0\" width=\"40\" height=\"40\" stroke=\"black\" fill=\"white\" stroke-width=\"0\" /><text x=\"30.0\" y=\"125.0\" dominant-baseline=\"middle\" text-anchor=\"middle\" font-size=\"14px\">2: </text><rect x=\"10.0\" y=\"155.0\" width=\"40\" height=\"40\" stroke=\"black\" fill=\"white\" stroke-width=\"0\" /><text x=\"30.0\" y=\"175.0\" dominant-baseline=\"middle\" text-anchor=\"middle\" font-size=\"14px\">3: </text><rect x=\"70.0\" y=\"5.0\" width=\"40\" height=\"40\" stroke=\"black\" fill=\"white\" stroke-width=\"1\" /><text x=\"90.0\" y=\"25.0\" dominant-baseline=\"middle\" text-anchor=\"middle\" font-size=\"18px\">H</text><rect x=\"70.0\" y=\"55.0\" width=\"40\" height=\"40\" stroke=\"black\" fill=\"white\" stroke-width=\"1\" /><text x=\"90.0\" y=\"75.0\" dominant-baseline=\"middle\" text-anchor=\"middle\" font-size=\"18px\">H</text><rect x=\"70.0\" y=\"105.0\" width=\"40\" height=\"40\" stroke=\"black\" fill=\"white\" stroke-width=\"1\" /><text x=\"90.0\" y=\"125.0\" dominant-baseline=\"middle\" text-anchor=\"middle\" font-size=\"18px\">H</text><rect x=\"70.0\" y=\"155.0\" width=\"40\" height=\"40\" stroke=\"black\" fill=\"white\" stroke-width=\"1\" /><text x=\"90.0\" y=\"175.0\" dominant-baseline=\"middle\" text-anchor=\"middle\" font-size=\"18px\">H</text><rect x=\"130.0\" y=\"5.0\" width=\"71.421171875\" height=\"40\" stroke=\"black\" fill=\"white\" stroke-width=\"1\" /><text x=\"165.7105859375\" y=\"25.0\" dominant-baseline=\"middle\" text-anchor=\"middle\" font-size=\"14px\">Rx(2*b_0)</text><rect x=\"130.0\" y=\"55.0\" width=\"71.421171875\" height=\"40\" stroke=\"black\" fill=\"white\" stroke-width=\"1\" /><text x=\"165.7105859375\" y=\"75.0\" dominant-baseline=\"middle\" text-anchor=\"middle\" font-size=\"14px\">Rx(2*b_0)</text><rect x=\"130.0\" y=\"105.0\" width=\"71.421171875\" height=\"40\" stroke=\"black\" fill=\"white\" stroke-width=\"1\" /><text x=\"165.7105859375\" y=\"125.0\" dominant-baseline=\"middle\" text-anchor=\"middle\" font-size=\"14px\">Rx(2*b_0)</text><rect x=\"130.0\" y=\"155.0\" width=\"71.421171875\" height=\"40\" stroke=\"black\" fill=\"white\" stroke-width=\"1\" /><text x=\"165.7105859375\" y=\"175.0\" dominant-baseline=\"middle\" text-anchor=\"middle\" font-size=\"14px\">Rx(2*b_0)</text><rect x=\"221.42117187500003\" y=\"5.0\" width=\"116.51785156250003\" height=\"40\" stroke=\"black\" fill=\"white\" stroke-width=\"1\" /><text x=\"279.68009765625004\" y=\"25.0\" dominant-baseline=\"middle\" text-anchor=\"middle\" font-size=\"14px\">Rz(A*D*gamma)</text><rect x=\"221.42117187500003\" y=\"55.0\" width=\"116.51785156250003\" height=\"40\" stroke=\"black\" fill=\"white\" stroke-width=\"1\" /><text x=\"279.68009765625004\" y=\"75.0\" dominant-baseline=\"middle\" text-anchor=\"middle\" font-size=\"14px\">Rz(-A*D*gamma)</text><rect x=\"221.42117187500003\" y=\"105.0\" width=\"116.51785156250003\" height=\"40\" stroke=\"black\" fill=\"white\" stroke-width=\"1\" /><text x=\"279.68009765625004\" y=\"125.0\" dominant-baseline=\"middle\" text-anchor=\"middle\" font-size=\"14px\">Rz(A*D*gamma)</text><rect x=\"221.42117187500003\" y=\"155.0\" width=\"116.51785156250003\" height=\"40\" stroke=\"black\" fill=\"white\" stroke-width=\"1\" /><text x=\"279.68009765625004\" y=\"175.0\" dominant-baseline=\"middle\" text-anchor=\"middle\" font-size=\"14px\">Rz(-A*D*gamma)</text><rect x=\"357.93902343750005\" y=\"5.0\" width=\"40\" height=\"40\" stroke=\"black\" fill=\"white\" stroke-width=\"1\" /><text x=\"377.93902343750005\" y=\"25.0\" dominant-baseline=\"middle\" text-anchor=\"middle\" font-size=\"18px\">M</text><rect x=\"357.93902343750005\" y=\"55.0\" width=\"40\" height=\"40\" stroke=\"black\" fill=\"white\" stroke-width=\"1\" /><text x=\"377.93902343750005\" y=\"75.0\" dominant-baseline=\"middle\" text-anchor=\"middle\" font-size=\"18px\">M</text><rect x=\"357.93902343750005\" y=\"105.0\" width=\"40\" height=\"40\" stroke=\"black\" fill=\"white\" stroke-width=\"1\" /><text x=\"377.93902343750005\" y=\"125.0\" dominant-baseline=\"middle\" text-anchor=\"middle\" font-size=\"18px\">M</text><rect x=\"357.93902343750005\" y=\"155.0\" width=\"40\" height=\"40\" stroke=\"black\" fill=\"white\" stroke-width=\"1\" /><text x=\"377.93902343750005\" y=\"175.0\" dominant-baseline=\"middle\" text-anchor=\"middle\" font-size=\"18px\">M</text></svg>"
      ],
      "text/plain": [
       "<cirq.contrib.svg.svg.SVGCircuit at 0x7fb210b41be0>"
      ]
     },
     "execution_count": 36,
     "metadata": {},
     "output_type": "execute_result"
    }
   ],
   "source": [
    "import itertools\n",
    "\n",
    "n_repetitions = 5000\n",
    "\n",
    "#circuit = cirq.Circuit(hadamard_operators,mixer_operators,portfolio_lagrangian,penalty)\n",
    "#circuit = cirq.Circuit(hadamard_operators,mixer_operators,penalty)\n",
    "#penalty_AD_operators\n",
    "#circuit = cirq.Circuit(hadamard_operators,mixer_operators,penalty_AD_operators)\n",
    "circuit = cirq.Circuit(hadamard_operators,mixer_operators,penalty_AD_operators)\n",
    "circuit.append(measurements)\n",
    "\n",
    "simulator = cirq.Simulator()\n",
    "result = simulator.run(circuit, resolver,repetitions=n_repetitions)\n",
    "\n",
    "\n",
    "portfolio_results = count_instances(N,result,n_repetitions)\n",
    "\n",
    "plt.figure(figsize=(10,10))\n",
    "plt.title('D-value: '+str(D_val))\n",
    "plt.bar(np.arange(len(portfolio_results['labels'])), portfolio_results['counts'], tick_label=portfolio_results['labels'])\n",
    "plt.xticks(rotation=90)\n",
    "plt.show()\n",
    "#cirq.plot_state_histogram(result)\n",
    "# # Generate a grid for the parameters\n",
    "# sweep_b0 = cirq.Linspace(key=betas[0], start=0.0, stop=1.0, length=10)\n",
    "# angles_b0 = [angle for angle in sweep_b0]\n",
    "# #sweep_gamma = cirq.Linspace(key=gamma, start=0.0, stop=1.0, length=10)\n",
    "# #sweeps = (sweep_b0*sweep_gamma)\n",
    "\n",
    "# result_sweep = simulator.run_sweep(circuit,params=sweep_b0, repetitions=10)\n",
    "\n",
    "# #\n",
    "# X = np.zeros((len(qubits),10))\n",
    "\n",
    "# for i in range(len(result.measurements.keys())):\n",
    "#     key = list(result.measurements.keys())[i]\n",
    "#     X[i,:] = np.array(result.measurements[key]).flatten()\n",
    "\n",
    "# print(X)\n",
    "\n",
    "\n",
    "plt.figure(figsize=(10,10))\n",
    "plt.hist(portfolio_results['penalty_cost_samples'])\n",
    "plt.show()\n",
    "\n",
    "plt.clf()\n",
    "cirq.plot_state_histogram(result)\n",
    "\n",
    "SVGCircuit(circuit)"
   ]
  },
  {
   "cell_type": "code",
   "execution_count": 15,
   "metadata": {
    "collapsed": false
   },
   "outputs": [
    {
     "ename": "NameError",
     "evalue": "name 'result_sweep' is not defined",
     "output_type": "error",
     "traceback": [
      "\u001b[0;31m---------------------------------------------------------------------------\u001b[0m",
      "\u001b[0;31mNameError\u001b[0m                                 Traceback (most recent call last)",
      "\u001b[0;32m<ipython-input-15-13ad239fdfce>\u001b[0m in \u001b[0;36m<module>\u001b[0;34m\u001b[0m\n\u001b[0;32m----> 1\u001b[0;31m \u001b[0mprint\u001b[0m\u001b[0;34m(\u001b[0m\u001b[0mresult_sweep\u001b[0m\u001b[0;34m[\u001b[0m\u001b[0;36m1\u001b[0m\u001b[0;34m]\u001b[0m\u001b[0;34m.\u001b[0m\u001b[0mmeasurements\u001b[0m\u001b[0;34m[\u001b[0m\u001b[0;34m'0'\u001b[0m\u001b[0;34m]\u001b[0m\u001b[0;34m.\u001b[0m\u001b[0mflatten\u001b[0m\u001b[0;34m(\u001b[0m\u001b[0;34m)\u001b[0m\u001b[0;34m)\u001b[0m\u001b[0;34m\u001b[0m\u001b[0;34m\u001b[0m\u001b[0m\n\u001b[0m\u001b[1;32m      2\u001b[0m \u001b[0mprint\u001b[0m\u001b[0;34m(\u001b[0m\u001b[0mresult_sweep\u001b[0m\u001b[0;34m[\u001b[0m\u001b[0;36m1\u001b[0m\u001b[0;34m]\u001b[0m\u001b[0;34m.\u001b[0m\u001b[0mmeasurements\u001b[0m\u001b[0;34m[\u001b[0m\u001b[0;34m'1'\u001b[0m\u001b[0;34m]\u001b[0m\u001b[0;34m.\u001b[0m\u001b[0mflatten\u001b[0m\u001b[0;34m(\u001b[0m\u001b[0;34m)\u001b[0m\u001b[0;34m)\u001b[0m\u001b[0;34m\u001b[0m\u001b[0;34m\u001b[0m\u001b[0m\n\u001b[1;32m      3\u001b[0m \u001b[0mprint\u001b[0m\u001b[0;34m(\u001b[0m\u001b[0mresult_sweep\u001b[0m\u001b[0;34m[\u001b[0m\u001b[0;36m1\u001b[0m\u001b[0;34m]\u001b[0m\u001b[0;34m.\u001b[0m\u001b[0mmeasurements\u001b[0m\u001b[0;34m[\u001b[0m\u001b[0;34m'2'\u001b[0m\u001b[0;34m]\u001b[0m\u001b[0;34m.\u001b[0m\u001b[0mflatten\u001b[0m\u001b[0;34m(\u001b[0m\u001b[0;34m)\u001b[0m\u001b[0;34m)\u001b[0m\u001b[0;34m\u001b[0m\u001b[0;34m\u001b[0m\u001b[0m\n\u001b[1;32m      4\u001b[0m \u001b[0mprint\u001b[0m\u001b[0;34m(\u001b[0m\u001b[0mresult_sweep\u001b[0m\u001b[0;34m[\u001b[0m\u001b[0;36m1\u001b[0m\u001b[0;34m]\u001b[0m\u001b[0;34m.\u001b[0m\u001b[0mmeasurements\u001b[0m\u001b[0;34m[\u001b[0m\u001b[0;34m'3'\u001b[0m\u001b[0;34m]\u001b[0m\u001b[0;34m.\u001b[0m\u001b[0mflatten\u001b[0m\u001b[0;34m(\u001b[0m\u001b[0;34m)\u001b[0m\u001b[0;34m)\u001b[0m\u001b[0;34m\u001b[0m\u001b[0;34m\u001b[0m\u001b[0m\n",
      "\u001b[0;31mNameError\u001b[0m: name 'result_sweep' is not defined"
     ]
    }
   ],
   "source": [
    "print(result_sweep[1].measurements['0'].flatten())\n",
    "print(result_sweep[1].measurements['1'].flatten())\n",
    "print(result_sweep[1].measurements['2'].flatten())\n",
    "print(result_sweep[1].measurements['3'].flatten())"
   ]
  },
  {
   "cell_type": "code",
   "execution_count": null,
   "metadata": {
    "collapsed": false
   },
   "outputs": [],
   "source": [
    "plt.hist(label_penalty)"
   ]
  },
  {
   "cell_type": "code",
   "execution_count": null,
   "metadata": {
    "collapsed": true
   },
   "outputs": [],
   "source": []
  }
 ],
 "metadata": {
  "anaconda-cloud": {},
  "kernelspec": {
   "display_name": "cirq",
   "language": "python",
   "name": "cirq"
  },
  "language_info": {
   "codemirror_mode": {
    "name": "ipython",
    "version": 3
   },
   "file_extension": ".py",
   "mimetype": "text/x-python",
   "name": "python",
   "nbconvert_exporter": "python",
   "pygments_lexer": "ipython3",
   "version": "3.8.2"
  }
 },
 "nbformat": 4,
 "nbformat_minor": 4
}
