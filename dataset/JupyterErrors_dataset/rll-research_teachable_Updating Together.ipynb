{
 "cells": [
  {
   "cell_type": "code",
   "execution_count": 4,
   "id": "89de7af2",
   "metadata": {},
   "outputs": [
    {
     "name": "stdout",
     "output_type": "stream",
     "text": [
      "/home/olivia/Documents/Teachable/babyai/d4rl\n"
     ]
    }
   ],
   "source": [
    "cd ../d4rl"
   ]
  },
  {
   "cell_type": "code",
   "execution_count": 5,
   "id": "559c0432",
   "metadata": {},
   "outputs": [
    {
     "name": "stdout",
     "output_type": "stream",
     "text": [
      "Obtaining file:///home/olivia/Documents/Teachable/babyai/d4rl\n",
      "Collecting dm_control@ git+git://github.com/deepmind/dm_control@master#egg=dm_control\n",
      "  Cloning git://github.com/deepmind/dm_control (to revision master) to /tmp/pip-install-32hpa39b/dm-control_04a2791b7395457e993b5f4bd80ec0cb\n",
      "  Running command git clone -q git://github.com/deepmind/dm_control /tmp/pip-install-32hpa39b/dm-control_04a2791b7395457e993b5f4bd80ec0cb\n",
      "Collecting mjrl@ git+git://github.com/aravindr93/mjrl@master#egg=mjrl\n",
      "  Cloning git://github.com/aravindr93/mjrl (to revision master) to /tmp/pip-install-32hpa39b/mjrl_3a4c0acb6392467283c9780fa9b46d7c\n",
      "  Running command git clone -q git://github.com/aravindr93/mjrl /tmp/pip-install-32hpa39b/mjrl_3a4c0acb6392467283c9780fa9b46d7c\n",
      "Requirement already satisfied: gym in /home/olivia/anaconda3/envs/teachable/lib/python3.7/site-packages (from d4rl-content==1.1) (0.18.0)\n",
      "Requirement already satisfied: numpy in /home/olivia/anaconda3/envs/teachable/lib/python3.7/site-packages (from d4rl-content==1.1) (1.19.4)\n",
      "Requirement already satisfied: mujoco_py in /home/olivia/anaconda3/envs/teachable/lib/python3.7/site-packages (from d4rl-content==1.1) (2.0.2.13)\n",
      "Requirement already satisfied: pybullet in /home/olivia/anaconda3/envs/teachable/lib/python3.7/site-packages (from d4rl-content==1.1) (3.1.0)\n",
      "Requirement already satisfied: h5py in /home/olivia/anaconda3/envs/teachable/lib/python3.7/site-packages (from d4rl-content==1.1) (2.10.0)\n",
      "Requirement already satisfied: termcolor in /home/olivia/anaconda3/envs/teachable/lib/python3.7/site-packages (from d4rl-content==1.1) (1.1.0)\n",
      "Requirement already satisfied: click in /home/olivia/anaconda3/envs/teachable/lib/python3.7/site-packages (from d4rl-content==1.1) (7.1.2)\n",
      "Requirement already satisfied: absl-py>=0.7.0 in /home/olivia/anaconda3/envs/teachable/lib/python3.7/site-packages (from dm_control@ git+git://github.com/deepmind/dm_control@master#egg=dm_control->d4rl-content==1.1) (0.11.0)\n",
      "Requirement already satisfied: dm-env in /home/olivia/anaconda3/envs/teachable/lib/python3.7/site-packages (from dm_control@ git+git://github.com/deepmind/dm_control@master#egg=dm_control->d4rl-content==1.1) (1.4)\n",
      "Requirement already satisfied: dm-tree!=0.1.2 in /home/olivia/anaconda3/envs/teachable/lib/python3.7/site-packages (from dm_control@ git+git://github.com/deepmind/dm_control@master#egg=dm_control->d4rl-content==1.1) (0.1.5)\n",
      "Requirement already satisfied: future in /home/olivia/anaconda3/envs/teachable/lib/python3.7/site-packages (from dm_control@ git+git://github.com/deepmind/dm_control@master#egg=dm_control->d4rl-content==1.1) (0.18.2)\n",
      "Requirement already satisfied: glfw in /home/olivia/anaconda3/envs/teachable/lib/python3.7/site-packages (from dm_control@ git+git://github.com/deepmind/dm_control@master#egg=dm_control->d4rl-content==1.1) (1.7.0)\n",
      "Requirement already satisfied: labmaze in /home/olivia/anaconda3/envs/teachable/lib/python3.7/site-packages (from dm_control@ git+git://github.com/deepmind/dm_control@master#egg=dm_control->d4rl-content==1.1) (1.0.4)\n",
      "Requirement already satisfied: lxml in /home/olivia/anaconda3/envs/teachable/lib/python3.7/site-packages (from dm_control@ git+git://github.com/deepmind/dm_control@master#egg=dm_control->d4rl-content==1.1) (4.6.3)\n",
      "Requirement already satisfied: protobuf>=3.15.6 in /home/olivia/anaconda3/envs/teachable/lib/python3.7/site-packages (from dm_control@ git+git://github.com/deepmind/dm_control@master#egg=dm_control->d4rl-content==1.1) (3.15.6)\n",
      "Requirement already satisfied: pyopengl>=3.1.4 in /home/olivia/anaconda3/envs/teachable/lib/python3.7/site-packages (from dm_control@ git+git://github.com/deepmind/dm_control@master#egg=dm_control->d4rl-content==1.1) (3.1.5)\n",
      "Requirement already satisfied: pyparsing in /home/olivia/anaconda3/envs/teachable/lib/python3.7/site-packages (from dm_control@ git+git://github.com/deepmind/dm_control@master#egg=dm_control->d4rl-content==1.1) (2.2.0)\n",
      "Requirement already satisfied: requests in /home/olivia/anaconda3/envs/teachable/lib/python3.7/site-packages (from dm_control@ git+git://github.com/deepmind/dm_control@master#egg=dm_control->d4rl-content==1.1) (2.25.1)\n",
      "Requirement already satisfied: setuptools!=50.0.0 in /home/olivia/anaconda3/envs/teachable/lib/python3.7/site-packages (from dm_control@ git+git://github.com/deepmind/dm_control@master#egg=dm_control->d4rl-content==1.1) (56.0.0)\n",
      "Requirement already satisfied: scipy in /home/olivia/anaconda3/envs/teachable/lib/python3.7/site-packages (from dm_control@ git+git://github.com/deepmind/dm_control@master#egg=dm_control->d4rl-content==1.1) (1.1.0)\n",
      "Requirement already satisfied: tqdm in /home/olivia/anaconda3/envs/teachable/lib/python3.7/site-packages (from dm_control@ git+git://github.com/deepmind/dm_control@master#egg=dm_control->d4rl-content==1.1) (4.61.0)\n",
      "Requirement already satisfied: six in /home/olivia/anaconda3/envs/teachable/lib/python3.7/site-packages (from absl-py>=0.7.0->dm_control@ git+git://github.com/deepmind/dm_control@master#egg=dm_control->d4rl-content==1.1) (1.15.0)\n",
      "Requirement already satisfied: Pillow<=7.2.0 in /home/olivia/anaconda3/envs/teachable/lib/python3.7/site-packages (from gym->d4rl-content==1.1) (5.2.0)\n",
      "Requirement already satisfied: cloudpickle<1.7.0,>=1.2.0 in /home/olivia/anaconda3/envs/teachable/lib/python3.7/site-packages (from gym->d4rl-content==1.1) (1.6.0)\n",
      "Requirement already satisfied: pyglet<=1.5.0,>=1.4.0 in /home/olivia/anaconda3/envs/teachable/lib/python3.7/site-packages (from gym->d4rl-content==1.1) (1.5.0)\n",
      "Requirement already satisfied: fasteners~=0.15 in /home/olivia/anaconda3/envs/teachable/lib/python3.7/site-packages (from mujoco_py->d4rl-content==1.1) (0.16)\n",
      "Requirement already satisfied: Cython>=0.27.2 in /home/olivia/anaconda3/envs/teachable/lib/python3.7/site-packages (from mujoco_py->d4rl-content==1.1) (0.28.5)\n",
      "Requirement already satisfied: cffi>=1.10 in /home/olivia/anaconda3/envs/teachable/lib/python3.7/site-packages (from mujoco_py->d4rl-content==1.1) (1.11.5)\n",
      "Requirement already satisfied: imageio>=2.1.2 in /home/olivia/anaconda3/envs/teachable/lib/python3.7/site-packages (from mujoco_py->d4rl-content==1.1) (2.4.1)\n",
      "Requirement already satisfied: pycparser in /home/olivia/anaconda3/envs/teachable/lib/python3.7/site-packages (from cffi>=1.10->mujoco_py->d4rl-content==1.1) (2.18)\n",
      "Requirement already satisfied: chardet<5,>=3.0.2 in /home/olivia/anaconda3/envs/teachable/lib/python3.7/site-packages (from requests->dm_control@ git+git://github.com/deepmind/dm_control@master#egg=dm_control->d4rl-content==1.1) (3.0.4)\n",
      "Requirement already satisfied: certifi>=2017.4.17 in /home/olivia/anaconda3/envs/teachable/lib/python3.7/site-packages (from requests->dm_control@ git+git://github.com/deepmind/dm_control@master#egg=dm_control->d4rl-content==1.1) (2020.6.20)\n",
      "Requirement already satisfied: urllib3<1.27,>=1.21.1 in /home/olivia/anaconda3/envs/teachable/lib/python3.7/site-packages (from requests->dm_control@ git+git://github.com/deepmind/dm_control@master#egg=dm_control->d4rl-content==1.1) (1.23)\n",
      "Requirement already satisfied: idna<3,>=2.5 in /home/olivia/anaconda3/envs/teachable/lib/python3.7/site-packages (from requests->dm_control@ git+git://github.com/deepmind/dm_control@master#egg=dm_control->d4rl-content==1.1) (2.7)\n",
      "Installing collected packages: d4rl-content\n",
      "  Attempting uninstall: d4rl-content\n",
      "    Found existing installation: d4rl-content 1.1\n",
      "\u001b[31mERROR: Exception:\n",
      "Traceback (most recent call last):\n",
      "  File \"/home/olivia/anaconda3/envs/teachable/lib/python3.7/site-packages/pip/_internal/cli/base_command.py\", line 180, in _main\n",
      "    status = self.run(options, args)\n",
      "  File \"/home/olivia/anaconda3/envs/teachable/lib/python3.7/site-packages/pip/_internal/cli/req_command.py\", line 205, in wrapper\n",
      "    return func(self, options, args)\n",
      "  File \"/home/olivia/anaconda3/envs/teachable/lib/python3.7/site-packages/pip/_internal/commands/install.py\", line 402, in run\n",
      "    pycompile=options.compile,\n",
      "  File \"/home/olivia/anaconda3/envs/teachable/lib/python3.7/site-packages/pip/_internal/req/__init__.py\", line 71, in install_given_reqs\n",
      "    auto_confirm=True\n",
      "  File \"/home/olivia/anaconda3/envs/teachable/lib/python3.7/site-packages/pip/_internal/req/req_install.py\", line 657, in uninstall\n",
      "    uninstalled_pathset = UninstallPathSet.from_dist(dist)\n",
      "  File \"/home/olivia/anaconda3/envs/teachable/lib/python3.7/site-packages/pip/_internal/req/req_uninstall.py\", line 537, in from_dist\n",
      "    link_pointer, dist.project_name, dist.location)\n",
      "AssertionError: Egg-link /home/olivia/Documents/Teachable/babyai/envs/d4rl does not match installed location of d4rl-content (at /home/olivia/Documents/Teachable/babyai/d4rl)\u001b[0m\n",
      "\u001b[33mWARNING: You are using pip version 21.1.3; however, version 21.2.4 is available.\n",
      "You should consider upgrading via the '/home/olivia/anaconda3/envs/teachable/bin/python -m pip install --upgrade pip' command.\u001b[0m\n"
     ]
    },
    {
     "name": "stdout",
     "output_type": "stream",
     "text": [
      "Note: you may need to restart the kernel to use updated packages.\n"
     ]
    }
   ],
   "source": [
    "pip install -e ."
   ]
  },
  {
   "cell_type": "code",
   "execution_count": 6,
   "id": "9af8861d",
   "metadata": {},
   "outputs": [
    {
     "name": "stdout",
     "output_type": "stream",
     "text": [
      "/home/olivia/Documents/Teachable/babyai/meta-mb-internal\n"
     ]
    }
   ],
   "source": [
    "cd ../meta-mb-internal"
   ]
  },
  {
   "cell_type": "code",
   "execution_count": 7,
   "id": "33fdbe0a",
   "metadata": {},
   "outputs": [
    {
     "ename": "ModuleNotFoundError",
     "evalue": "No module named 'd4rl_content.pointmaze.waypoint_controller'",
     "output_type": "error",
     "traceback": [
      "\u001b[0;31m---------------------------------------------------------------------------\u001b[0m",
      "\u001b[0;31mModuleNotFoundError\u001b[0m                       Traceback (most recent call last)",
      "\u001b[0;32m<ipython-input-7-d8545273536f>\u001b[0m in \u001b[0;36m<module>\u001b[0;34m\u001b[0m\n\u001b[1;32m      2\u001b[0m \u001b[0;32mfrom\u001b[0m \u001b[0mmeta_mb\u001b[0m\u001b[0;34m.\u001b[0m\u001b[0menvs\u001b[0m\u001b[0;34m.\u001b[0m\u001b[0mnormalized_env\u001b[0m \u001b[0;32mimport\u001b[0m \u001b[0mnormalize\u001b[0m\u001b[0;34m\u001b[0m\u001b[0;34m\u001b[0m\u001b[0m\n\u001b[1;32m      3\u001b[0m \u001b[0;32mfrom\u001b[0m \u001b[0mmeta_mb\u001b[0m\u001b[0;34m.\u001b[0m\u001b[0malgos\u001b[0m\u001b[0;34m.\u001b[0m\u001b[0mppo_torch\u001b[0m \u001b[0;32mimport\u001b[0m \u001b[0mPPOAlgo\u001b[0m\u001b[0;34m\u001b[0m\u001b[0;34m\u001b[0m\u001b[0m\n\u001b[0;32m----> 4\u001b[0;31m \u001b[0;32mfrom\u001b[0m \u001b[0mmeta_mb\u001b[0m\u001b[0;34m.\u001b[0m\u001b[0mtrainers\u001b[0m\u001b[0;34m.\u001b[0m\u001b[0mmf_trainer\u001b[0m \u001b[0;32mimport\u001b[0m \u001b[0mTrainer\u001b[0m\u001b[0;34m\u001b[0m\u001b[0;34m\u001b[0m\u001b[0m\n\u001b[0m\u001b[1;32m      5\u001b[0m \u001b[0;32mfrom\u001b[0m \u001b[0mmeta_mb\u001b[0m\u001b[0;34m.\u001b[0m\u001b[0msamplers\u001b[0m\u001b[0;34m.\u001b[0m\u001b[0mmeta_samplers\u001b[0m\u001b[0;34m.\u001b[0m\u001b[0mmeta_sampler\u001b[0m \u001b[0;32mimport\u001b[0m \u001b[0mMetaSampler\u001b[0m\u001b[0;34m\u001b[0m\u001b[0;34m\u001b[0m\u001b[0m\n\u001b[1;32m      6\u001b[0m \u001b[0;32mfrom\u001b[0m \u001b[0mmeta_mb\u001b[0m\u001b[0;34m.\u001b[0m\u001b[0msamplers\u001b[0m\u001b[0;34m.\u001b[0m\u001b[0mmeta_samplers\u001b[0m\u001b[0;34m.\u001b[0m\u001b[0mrl2_sample_processor\u001b[0m \u001b[0;32mimport\u001b[0m \u001b[0mRL2SampleProcessor\u001b[0m\u001b[0;34m\u001b[0m\u001b[0;34m\u001b[0m\u001b[0m\n",
      "\u001b[0;32m~/Documents/Teachable/babyai/meta-mb-internal/meta_mb/trainers/mf_trainer.py\u001b[0m in \u001b[0;36m<module>\u001b[0;34m\u001b[0m\n\u001b[1;32m     16\u001b[0m \u001b[0;32mimport\u001b[0m \u001b[0mpathlib\u001b[0m\u001b[0;34m\u001b[0m\u001b[0;34m\u001b[0m\u001b[0m\n\u001b[1;32m     17\u001b[0m \u001b[0;34m\u001b[0m\u001b[0m\n\u001b[0;32m---> 18\u001b[0;31m \u001b[0;32mfrom\u001b[0m \u001b[0menvs\u001b[0m\u001b[0;34m.\u001b[0m\u001b[0md4rl_envs\u001b[0m \u001b[0;32mimport\u001b[0m \u001b[0mAntEnv\u001b[0m\u001b[0;34m,\u001b[0m \u001b[0mPointMassEnv\u001b[0m\u001b[0;34m\u001b[0m\u001b[0;34m\u001b[0m\u001b[0m\n\u001b[0m\u001b[1;32m     19\u001b[0m \u001b[0;34m\u001b[0m\u001b[0m\n\u001b[1;32m     20\u001b[0m \u001b[0;34m\u001b[0m\u001b[0m\n",
      "\u001b[0;32m~/Documents/Teachable/babyai/envs/d4rl_envs.py\u001b[0m in \u001b[0;36m<module>\u001b[0;34m\u001b[0m\n\u001b[1;32m      5\u001b[0m \u001b[0;32mimport\u001b[0m \u001b[0mtorch\u001b[0m\u001b[0;34m\u001b[0m\u001b[0;34m\u001b[0m\u001b[0m\n\u001b[1;32m      6\u001b[0m \u001b[0;32mfrom\u001b[0m \u001b[0mgym\u001b[0m\u001b[0;34m.\u001b[0m\u001b[0mspaces\u001b[0m \u001b[0;32mimport\u001b[0m \u001b[0mBox\u001b[0m\u001b[0;34m,\u001b[0m \u001b[0mDiscrete\u001b[0m\u001b[0;34m\u001b[0m\u001b[0;34m\u001b[0m\u001b[0m\n\u001b[0;32m----> 7\u001b[0;31m \u001b[0;32mfrom\u001b[0m \u001b[0md4rl_content\u001b[0m\u001b[0;34m.\u001b[0m\u001b[0mpointmaze\u001b[0m\u001b[0;34m.\u001b[0m\u001b[0mwaypoint_controller\u001b[0m \u001b[0;32mimport\u001b[0m \u001b[0mWaypointController\u001b[0m\u001b[0;34m\u001b[0m\u001b[0;34m\u001b[0m\u001b[0m\n\u001b[0m\u001b[1;32m      8\u001b[0m \u001b[0;32mfrom\u001b[0m \u001b[0md4rl\u001b[0m\u001b[0;34m.\u001b[0m\u001b[0moracle\u001b[0m\u001b[0;34m.\u001b[0m\u001b[0mbatch_teacher\u001b[0m \u001b[0;32mimport\u001b[0m \u001b[0mBatchTeacher\u001b[0m\u001b[0;34m\u001b[0m\u001b[0;34m\u001b[0m\u001b[0m\n\u001b[1;32m      9\u001b[0m \u001b[0;32mfrom\u001b[0m \u001b[0moracle\u001b[0m\u001b[0;34m.\u001b[0m\u001b[0mcardinal_teacher\u001b[0m \u001b[0;32mimport\u001b[0m \u001b[0mCardinalCorrections\u001b[0m\u001b[0;34m\u001b[0m\u001b[0;34m\u001b[0m\u001b[0m\n",
      "\u001b[0;31mModuleNotFoundError\u001b[0m: No module named 'd4rl_content.pointmaze.waypoint_controller'"
     ]
    }
   ],
   "source": [
    "from meta_mb.meta_envs.rl2_env import rl2env\n",
    "from meta_mb.envs.normalized_env import normalize\n",
    "from meta_mb.algos.ppo_torch import PPOAlgo\n",
    "from meta_mb.trainers.mf_trainer import Trainer\n",
    "from meta_mb.samplers.meta_samplers.meta_sampler import MetaSampler\n",
    "from meta_mb.samplers.meta_samplers.rl2_sample_processor import RL2SampleProcessor\n",
    "from babyai.model import ACModel, Reconstructor\n",
    "from meta_mb.trainers.il_trainer import ImitationLearning\n",
    "from babyai.arguments import ArgumentParser\n",
    "from babyai.utils.obs_preprocessor import make_obs_preprocessor, make_obs_preprocessor_choose_teachers\n",
    "from babyai.teacher_schedule import make_teacher_schedule\n",
    "from babyai.levels.augment import DataAugmenter\n",
    "from scripts.test_generalization import make_log_fn"
   ]
  },
  {
   "cell_type": "markdown",
   "id": "70ec2af1",
   "metadata": {},
   "source": [
    "# Load Model"
   ]
  },
  {
   "cell_type": "code",
   "execution_count": 15,
   "id": "b42444b7",
   "metadata": {},
   "outputs": [
    {
     "name": "stdout",
     "output_type": "stream",
     "text": [
      "['/home/olivia/Documents/Teachable/babyai', '/home/olivia/Documents/Teachable/babyai', '/home/olivia/Documents/XRL/rllab', '/home/olivia/Documents/doodad', '/home/olivia/Documents/Sim2/relay-policy-learning/adept_envs', '/home/olivia/Documents/Sim2Real/sim2real2sim_mb', '/home/olivia/Documents/XRL/doodad', '/home/olivia/anaconda3/envs/teachable/lib/python37.zip', '/home/olivia/anaconda3/envs/teachable/lib/python3.7', '/home/olivia/anaconda3/envs/teachable/lib/python3.7/lib-dynload', '', '/home/olivia/.local/lib/python3.7/site-packages', '/home/olivia/anaconda3/envs/teachable/lib/python3.7/site-packages', '/home/olivia/Documents/Teachable/babyai/envs/d4rl', '/home/olivia/anaconda3/envs/teachable/lib/python3.7/site-packages/IPython/extensions', '/home/olivia/.ipython']\n"
     ]
    }
   ],
   "source": [
    "import sys\n",
    "print(sys.path)"
   ]
  },
  {
   "cell_type": "markdown",
   "id": "15589609",
   "metadata": {},
   "source": [
    "# Collect Demos"
   ]
  },
  {
   "cell_type": "code",
   "execution_count": 16,
   "id": "f76dea97",
   "metadata": {},
   "outputs": [],
   "source": [
    "sys.path.append('/home/olivia/Documents/Teachable/babyai/envs/d4rl')"
   ]
  },
  {
   "cell_type": "code",
   "execution_count": 21,
   "id": "aac35955",
   "metadata": {},
   "outputs": [
    {
     "name": "stdout",
     "output_type": "stream",
     "text": [
      "Obtaining file:///home/olivia/Documents/Teachable/babyai/d4rl\n",
      "Collecting dm_control@ git+git://github.com/deepmind/dm_control@master#egg=dm_control\n",
      "  Cloning git://github.com/deepmind/dm_control (to revision master) to /tmp/pip-install-n86zi9rw/dm-control_e84febdf52d04634965ded7bdd73d67d\n",
      "  Running command git clone -q git://github.com/deepmind/dm_control /tmp/pip-install-n86zi9rw/dm-control_e84febdf52d04634965ded7bdd73d67d\n",
      "Collecting mjrl@ git+git://github.com/aravindr93/mjrl@master#egg=mjrl\n",
      "  Cloning git://github.com/aravindr93/mjrl (to revision master) to /tmp/pip-install-n86zi9rw/mjrl_e4ef23bdf7f74659b58488f3de33cea4\n",
      "  Running command git clone -q git://github.com/aravindr93/mjrl /tmp/pip-install-n86zi9rw/mjrl_e4ef23bdf7f74659b58488f3de33cea4\n",
      "Requirement already satisfied: gym in /home/olivia/anaconda3/envs/teachable/lib/python3.7/site-packages (from d4rl-content==1.1) (0.18.0)\n",
      "Requirement already satisfied: numpy in /home/olivia/anaconda3/envs/teachable/lib/python3.7/site-packages (from d4rl-content==1.1) (1.19.4)\n",
      "Requirement already satisfied: mujoco_py in /home/olivia/anaconda3/envs/teachable/lib/python3.7/site-packages (from d4rl-content==1.1) (2.0.2.13)\n",
      "Requirement already satisfied: pybullet in /home/olivia/anaconda3/envs/teachable/lib/python3.7/site-packages (from d4rl-content==1.1) (3.1.0)\n",
      "Requirement already satisfied: h5py in /home/olivia/anaconda3/envs/teachable/lib/python3.7/site-packages (from d4rl-content==1.1) (2.10.0)\n",
      "Requirement already satisfied: termcolor in /home/olivia/anaconda3/envs/teachable/lib/python3.7/site-packages (from d4rl-content==1.1) (1.1.0)\n",
      "Requirement already satisfied: click in /home/olivia/anaconda3/envs/teachable/lib/python3.7/site-packages (from d4rl-content==1.1) (7.1.2)\n",
      "Requirement already satisfied: absl-py>=0.7.0 in /home/olivia/anaconda3/envs/teachable/lib/python3.7/site-packages (from dm_control@ git+git://github.com/deepmind/dm_control@master#egg=dm_control->d4rl-content==1.1) (0.11.0)\n",
      "Requirement already satisfied: dm-env in /home/olivia/anaconda3/envs/teachable/lib/python3.7/site-packages (from dm_control@ git+git://github.com/deepmind/dm_control@master#egg=dm_control->d4rl-content==1.1) (1.4)\n",
      "Requirement already satisfied: dm-tree!=0.1.2 in /home/olivia/anaconda3/envs/teachable/lib/python3.7/site-packages (from dm_control@ git+git://github.com/deepmind/dm_control@master#egg=dm_control->d4rl-content==1.1) (0.1.5)\n",
      "Requirement already satisfied: future in /home/olivia/anaconda3/envs/teachable/lib/python3.7/site-packages (from dm_control@ git+git://github.com/deepmind/dm_control@master#egg=dm_control->d4rl-content==1.1) (0.18.2)\n",
      "Requirement already satisfied: glfw in /home/olivia/anaconda3/envs/teachable/lib/python3.7/site-packages (from dm_control@ git+git://github.com/deepmind/dm_control@master#egg=dm_control->d4rl-content==1.1) (1.7.0)\n",
      "Requirement already satisfied: labmaze in /home/olivia/anaconda3/envs/teachable/lib/python3.7/site-packages (from dm_control@ git+git://github.com/deepmind/dm_control@master#egg=dm_control->d4rl-content==1.1) (1.0.4)\n",
      "Requirement already satisfied: lxml in /home/olivia/anaconda3/envs/teachable/lib/python3.7/site-packages (from dm_control@ git+git://github.com/deepmind/dm_control@master#egg=dm_control->d4rl-content==1.1) (4.6.3)\n",
      "Requirement already satisfied: protobuf>=3.15.6 in /home/olivia/anaconda3/envs/teachable/lib/python3.7/site-packages (from dm_control@ git+git://github.com/deepmind/dm_control@master#egg=dm_control->d4rl-content==1.1) (3.15.6)\n",
      "Requirement already satisfied: pyopengl>=3.1.4 in /home/olivia/anaconda3/envs/teachable/lib/python3.7/site-packages (from dm_control@ git+git://github.com/deepmind/dm_control@master#egg=dm_control->d4rl-content==1.1) (3.1.5)\n",
      "Requirement already satisfied: pyparsing in /home/olivia/anaconda3/envs/teachable/lib/python3.7/site-packages (from dm_control@ git+git://github.com/deepmind/dm_control@master#egg=dm_control->d4rl-content==1.1) (2.2.0)\n",
      "Requirement already satisfied: requests in /home/olivia/anaconda3/envs/teachable/lib/python3.7/site-packages (from dm_control@ git+git://github.com/deepmind/dm_control@master#egg=dm_control->d4rl-content==1.1) (2.25.1)\n",
      "Requirement already satisfied: setuptools!=50.0.0 in /home/olivia/anaconda3/envs/teachable/lib/python3.7/site-packages (from dm_control@ git+git://github.com/deepmind/dm_control@master#egg=dm_control->d4rl-content==1.1) (56.0.0)\n",
      "Requirement already satisfied: scipy in /home/olivia/anaconda3/envs/teachable/lib/python3.7/site-packages (from dm_control@ git+git://github.com/deepmind/dm_control@master#egg=dm_control->d4rl-content==1.1) (1.1.0)\n",
      "Requirement already satisfied: tqdm in /home/olivia/anaconda3/envs/teachable/lib/python3.7/site-packages (from dm_control@ git+git://github.com/deepmind/dm_control@master#egg=dm_control->d4rl-content==1.1) (4.61.0)\n",
      "Requirement already satisfied: six in /home/olivia/anaconda3/envs/teachable/lib/python3.7/site-packages (from absl-py>=0.7.0->dm_control@ git+git://github.com/deepmind/dm_control@master#egg=dm_control->d4rl-content==1.1) (1.15.0)\n",
      "Requirement already satisfied: Pillow<=7.2.0 in /home/olivia/anaconda3/envs/teachable/lib/python3.7/site-packages (from gym->d4rl-content==1.1) (5.2.0)\n",
      "Requirement already satisfied: cloudpickle<1.7.0,>=1.2.0 in /home/olivia/anaconda3/envs/teachable/lib/python3.7/site-packages (from gym->d4rl-content==1.1) (1.6.0)\n",
      "Requirement already satisfied: pyglet<=1.5.0,>=1.4.0 in /home/olivia/anaconda3/envs/teachable/lib/python3.7/site-packages (from gym->d4rl-content==1.1) (1.5.0)\n",
      "Requirement already satisfied: imageio>=2.1.2 in /home/olivia/anaconda3/envs/teachable/lib/python3.7/site-packages (from mujoco_py->d4rl-content==1.1) (2.4.1)\n",
      "Requirement already satisfied: fasteners~=0.15 in /home/olivia/anaconda3/envs/teachable/lib/python3.7/site-packages (from mujoco_py->d4rl-content==1.1) (0.16)\n",
      "Requirement already satisfied: cffi>=1.10 in /home/olivia/anaconda3/envs/teachable/lib/python3.7/site-packages (from mujoco_py->d4rl-content==1.1) (1.11.5)\n",
      "Requirement already satisfied: Cython>=0.27.2 in /home/olivia/anaconda3/envs/teachable/lib/python3.7/site-packages (from mujoco_py->d4rl-content==1.1) (0.28.5)\n",
      "Requirement already satisfied: pycparser in /home/olivia/anaconda3/envs/teachable/lib/python3.7/site-packages (from cffi>=1.10->mujoco_py->d4rl-content==1.1) (2.18)\n",
      "Requirement already satisfied: certifi>=2017.4.17 in /home/olivia/anaconda3/envs/teachable/lib/python3.7/site-packages (from requests->dm_control@ git+git://github.com/deepmind/dm_control@master#egg=dm_control->d4rl-content==1.1) (2020.6.20)\n",
      "Requirement already satisfied: chardet<5,>=3.0.2 in /home/olivia/anaconda3/envs/teachable/lib/python3.7/site-packages (from requests->dm_control@ git+git://github.com/deepmind/dm_control@master#egg=dm_control->d4rl-content==1.1) (3.0.4)\n",
      "Requirement already satisfied: idna<3,>=2.5 in /home/olivia/anaconda3/envs/teachable/lib/python3.7/site-packages (from requests->dm_control@ git+git://github.com/deepmind/dm_control@master#egg=dm_control->d4rl-content==1.1) (2.7)\n",
      "Requirement already satisfied: urllib3<1.27,>=1.21.1 in /home/olivia/anaconda3/envs/teachable/lib/python3.7/site-packages (from requests->dm_control@ git+git://github.com/deepmind/dm_control@master#egg=dm_control->d4rl-content==1.1) (1.23)\n",
      "Building wheels for collected packages: dm-control\n",
      "  Building wheel for dm-control (setup.py) ... \u001b[?25ldone\n",
      "\u001b[?25h  Created wheel for dm-control: filename=dm_control-0.0.397762600-py3-none-any.whl size=38610278 sha256=28d6e93d1534ceaffbdbe079d471b0998abeaf70f4e29d5d1bfbb661e903d0e6\n",
      "  Stored in directory: /tmp/pip-ephem-wheel-cache-jus3tj47/wheels/12/5f/c9/84d47c2ff82d6f5c6382d503aae8ae3e7df21ae7619979c9f0\n",
      "Successfully built dm-control\n",
      "Installing collected packages: dm-control, d4rl-content\n",
      "  Attempting uninstall: dm-control\n",
      "    Found existing installation: dm-control 0.0.391260125\n",
      "    Uninstalling dm-control-0.0.391260125:\n",
      "      Successfully uninstalled dm-control-0.0.391260125\n",
      "  Attempting uninstall: d4rl-content\n",
      "    Found existing installation: d4rl-content 1.1\n",
      "\u001b[31mERROR: Exception:\n",
      "Traceback (most recent call last):\n",
      "  File \"/home/olivia/anaconda3/envs/teachable/lib/python3.7/site-packages/pip/_internal/cli/base_command.py\", line 180, in _main\n",
      "    status = self.run(options, args)\n",
      "  File \"/home/olivia/anaconda3/envs/teachable/lib/python3.7/site-packages/pip/_internal/cli/req_command.py\", line 205, in wrapper\n",
      "    return func(self, options, args)\n",
      "  File \"/home/olivia/anaconda3/envs/teachable/lib/python3.7/site-packages/pip/_internal/commands/install.py\", line 402, in run\n",
      "    pycompile=options.compile,\n",
      "  File \"/home/olivia/anaconda3/envs/teachable/lib/python3.7/site-packages/pip/_internal/req/__init__.py\", line 71, in install_given_reqs\n",
      "    auto_confirm=True\n",
      "  File \"/home/olivia/anaconda3/envs/teachable/lib/python3.7/site-packages/pip/_internal/req/req_install.py\", line 657, in uninstall\n",
      "    uninstalled_pathset = UninstallPathSet.from_dist(dist)\n",
      "  File \"/home/olivia/anaconda3/envs/teachable/lib/python3.7/site-packages/pip/_internal/req/req_uninstall.py\", line 537, in from_dist\n",
      "    link_pointer, dist.project_name, dist.location)\n",
      "AssertionError: Egg-link /home/olivia/Documents/Teachable/babyai/envs/d4rl does not match installed location of d4rl-content (at /home/olivia/Documents/Teachable/babyai/d4rl)\u001b[0m\n",
      "\u001b[33mWARNING: You are using pip version 21.1.3; however, version 21.2.4 is available.\n",
      "You should consider upgrading via the '/home/olivia/anaconda3/envs/teachable/bin/python -m pip install --upgrade pip' command.\u001b[0m\n"
     ]
    },
    {
     "name": "stdout",
     "output_type": "stream",
     "text": [
      "Note: you may need to restart the kernel to use updated packages.\n"
     ]
    }
   ],
   "source": []
  },
  {
   "cell_type": "code",
   "execution_count": null,
   "id": "372b8bfe",
   "metadata": {},
   "outputs": [],
   "source": []
  }
 ],
 "metadata": {
  "kernelspec": {
   "display_name": "Python 3",
   "language": "python",
   "name": "python3"
  },
  "language_info": {
   "codemirror_mode": {
    "name": "ipython",
    "version": 3
   },
   "file_extension": ".py",
   "mimetype": "text/x-python",
   "name": "python",
   "nbconvert_exporter": "python",
   "pygments_lexer": "ipython3",
   "version": "3.7.6"
  }
 },
 "nbformat": 4,
 "nbformat_minor": 5
}
