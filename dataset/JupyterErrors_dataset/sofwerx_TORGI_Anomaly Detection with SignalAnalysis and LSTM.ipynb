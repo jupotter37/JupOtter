{
 "cells": [
  {
   "cell_type": "markdown",
   "metadata": {
    "hide_input": false,
    "toc": true
   },
   "source": [
    "<h1>Table of Contents<span class=\"tocSkip\"></span></h1>\n",
    "<div class=\"toc\" style=\"margin-top: 1em;\"><ul class=\"toc-item\"><li><span><a href=\"#Imports\" data-toc-modified-id=\"Imports-1\"><span class=\"toc-item-num\">1&nbsp;&nbsp;</span>Imports</a></span></li><li><span><a href=\"#Data-Prep\" data-toc-modified-id=\"Data-Prep-2\"><span class=\"toc-item-num\">2&nbsp;&nbsp;</span>Data Prep</a></span><ul class=\"toc-item\"><li><span><a href=\"#Workflow\" data-toc-modified-id=\"Workflow-2.1\"><span class=\"toc-item-num\">2.1&nbsp;&nbsp;</span>Workflow</a></span></li><li><span><a href=\"#Build-Sqlite-Data-Base\" data-toc-modified-id=\"Build-Sqlite-Data-Base-2.2\"><span class=\"toc-item-num\">2.2&nbsp;&nbsp;</span>Build Sqlite Data Base</a></span></li><li><span><a href=\"#Clean-Data\" data-toc-modified-id=\"Clean-Data-2.3\"><span class=\"toc-item-num\">2.3&nbsp;&nbsp;</span>Clean Data</a></span></li><li><span><a href=\"#Create-SVID-Columns\" data-toc-modified-id=\"Create-SVID-Columns-2.4\"><span class=\"toc-item-num\">2.4&nbsp;&nbsp;</span>Create SVID Columns</a></span></li><li><span><a href=\"#Normalize-Signal-Data\" data-toc-modified-id=\"Normalize-Signal-Data-2.5\"><span class=\"toc-item-num\">2.5&nbsp;&nbsp;</span>Normalize Signal Data</a></span></li><li><span><a href=\"#Generate-Files-with-Different-Sampling-Rates\" data-toc-modified-id=\"Generate-Files-with-Different-Sampling-Rates-2.6\"><span class=\"toc-item-num\">2.6&nbsp;&nbsp;</span>Generate Files with Different Sampling Rates</a></span></li><li><span><a href=\"#Calculate-Cross-Correlation-Matrix-(CCM)\" data-toc-modified-id=\"Calculate-Cross-Correlation-Matrix-(CCM)-2.7\"><span class=\"toc-item-num\">2.7&nbsp;&nbsp;</span>Calculate Cross Correlation Matrix (CCM)</a></span></li><li><span><a href=\"#Store-SigCCM-Data-in-HDF5\" data-toc-modified-id=\"Store-SigCCM-Data-in-HDF5-2.8\"><span class=\"toc-item-num\">2.8&nbsp;&nbsp;</span>Store SigCCM Data in HDF5</a></span></li><li><span><a href=\"#Shape-Data-for-LSTM-Input\" data-toc-modified-id=\"Shape-Data-for-LSTM-Input-2.9\"><span class=\"toc-item-num\">2.9&nbsp;&nbsp;</span>Shape Data for LSTM Input</a></span></li><li><span><a href=\"#Pandas-IO-Tools\" data-toc-modified-id=\"Pandas-IO-Tools-2.10\"><span class=\"toc-item-num\">2.10&nbsp;&nbsp;</span>Pandas IO Tools</a></span><ul class=\"toc-item\"><li><span><a href=\"#HDF5-Files\" data-toc-modified-id=\"HDF5-Files-2.10.1\"><span class=\"toc-item-num\">2.10.1&nbsp;&nbsp;</span>HDF5 Files</a></span></li><li><span><a href=\"#PyArrow-and-Parque-Files\" data-toc-modified-id=\"PyArrow-and-Parque-Files-2.10.2\"><span class=\"toc-item-num\">2.10.2&nbsp;&nbsp;</span>PyArrow and Parque Files</a></span></li><li><span><a href=\"#IO-Routines\" data-toc-modified-id=\"IO-Routines-2.10.3\"><span class=\"toc-item-num\">2.10.3&nbsp;&nbsp;</span>IO Routines</a></span></li></ul></li><li><span><a href=\"#Save-Pickled-Files\" data-toc-modified-id=\"Save-Pickled-Files-2.11\"><span class=\"toc-item-num\">2.11&nbsp;&nbsp;</span>Save Pickled Files</a></span><ul class=\"toc-item\"><li><span><a href=\"#Save-to-Dill-File\" data-toc-modified-id=\"Save-to-Dill-File-2.11.1\"><span class=\"toc-item-num\">2.11.1&nbsp;&nbsp;</span>Save to Dill File</a></span></li><li><span><a href=\"#Save-to-HDF5-File\" data-toc-modified-id=\"Save-to-HDF5-File-2.11.2\"><span class=\"toc-item-num\">2.11.2&nbsp;&nbsp;</span>Save to HDF5 File</a></span></li><li><span><a href=\"#Save-to-PyArrow-Parquet-File\" data-toc-modified-id=\"Save-to-PyArrow-Parquet-File-2.11.3\"><span class=\"toc-item-num\">2.11.3&nbsp;&nbsp;</span>Save to PyArrow-Parquet File</a></span></li></ul></li><li><span><a href=\"#Load-Files\" data-toc-modified-id=\"Load-Files-2.12\"><span class=\"toc-item-num\">2.12&nbsp;&nbsp;</span>Load Files</a></span><ul class=\"toc-item\"><li><span><a href=\"#Load-from-Pickled-Files\" data-toc-modified-id=\"Load-from-Pickled-Files-2.12.1\"><span class=\"toc-item-num\">2.12.1&nbsp;&nbsp;</span>Load from Pickled Files</a></span></li><li><span><a href=\"#Load-from-HDF5-File\" data-toc-modified-id=\"Load-from-HDF5-File-2.12.2\"><span class=\"toc-item-num\">2.12.2&nbsp;&nbsp;</span>Load from HDF5 File</a></span></li><li><span><a href=\"#Load-from-PyArrow-Parquet-File\" data-toc-modified-id=\"Load-from-PyArrow-Parquet-File-2.12.3\"><span class=\"toc-item-num\">2.12.3&nbsp;&nbsp;</span>Load from PyArrow-Parquet File</a></span></li></ul></li></ul></li><li><span><a href=\"#Data-Generator\" data-toc-modified-id=\"Data-Generator-3\"><span class=\"toc-item-num\">3&nbsp;&nbsp;</span>Data Generator</a></span><ul class=\"toc-item\"><li><span><a href=\"#Generator-in-a-Python-Class\" data-toc-modified-id=\"Generator-in-a-Python-Class-3.1\"><span class=\"toc-item-num\">3.1&nbsp;&nbsp;</span>Generator in a Python Class</a></span></li><li><span><a href=\"#Generator-Based-on-Numpy-IO\" data-toc-modified-id=\"Generator-Based-on-Numpy-IO-3.2\"><span class=\"toc-item-num\">3.2&nbsp;&nbsp;</span>Generator Based on Numpy IO</a></span></li><li><span><a href=\"#Generator-Based-on-HD5-IO\" data-toc-modified-id=\"Generator-Based-on-HD5-IO-3.3\"><span class=\"toc-item-num\">3.3&nbsp;&nbsp;</span>Generator Based on HD5 IO</a></span></li></ul></li><li><span><a href=\"#LSTM\" data-toc-modified-id=\"LSTM-4\"><span class=\"toc-item-num\">4&nbsp;&nbsp;</span>LSTM</a></span><ul class=\"toc-item\"><li><span><a href=\"#Workflow\" data-toc-modified-id=\"Workflow-4.1\"><span class=\"toc-item-num\">4.1&nbsp;&nbsp;</span>Workflow</a></span></li><li><span><a href=\"#Build-the-LSTM-Model\" data-toc-modified-id=\"Build-the-LSTM-Model-4.2\"><span class=\"toc-item-num\">4.2&nbsp;&nbsp;</span>Build the LSTM Model</a></span></li><li><span><a href=\"#Make-Predictions-and-Plot-ROC-AUC-Metric\" data-toc-modified-id=\"Make-Predictions-and-Plot-ROC-AUC-Metric-4.3\"><span class=\"toc-item-num\">4.3&nbsp;&nbsp;</span>Make Predictions and Plot ROC-AUC Metric</a></span></li></ul></li><li><span><a href=\"#LSTM-(Phony-Data)\" data-toc-modified-id=\"LSTM-(Phony-Data)-5\"><span class=\"toc-item-num\">5&nbsp;&nbsp;</span>LSTM (Phony Data)</a></span></li><li><span><a href=\"#LSTM-(withtout-Generator)\" data-toc-modified-id=\"LSTM-(withtout-Generator)-6\"><span class=\"toc-item-num\">6&nbsp;&nbsp;</span>LSTM (withtout Generator)</a></span></li></ul></div>"
   ]
  },
  {
   "cell_type": "markdown",
   "metadata": {},
   "source": [
    "# Imports"
   ]
  },
  {
   "cell_type": "code",
   "execution_count": 2,
   "metadata": {},
   "outputs": [],
   "source": [
    "import numpy as np \n",
    "import pandas as pd\n",
    "import pickle as pkl\n",
    "import pyarrow as pa\n",
    "import pyarrow.parquet as pq\n",
    "import collections\n",
    "import keras\n",
    "import math\n",
    "import h5py\n",
    "import os\n",
    "\n",
    "# os\n",
    "from os import mkdir\n",
    "\n",
    "# pandas\n",
    "from pandas import read_csv \n",
    "from pandas import datetime \n",
    "from pandas.plotting import autocorrelation_plot\n",
    "\n",
    "# scipy\n",
    "from scipy import sparse\n",
    "from scipy import signal\n",
    "from scipy.signal import correlate\n",
    "from scipy.signal import correlate2d\n",
    "from scipy.sparse import coo_matrix, vstack\n",
    "\n",
    "# statsmodels\n",
    "from statsmodels.tsa.arima_model import ARIMA \n",
    "\n",
    "# sci-kit learn\n",
    "from sklearn.metrics import auc\n",
    "from sklearn.metrics import roc_curve\n",
    "from sklearn.metrics import mean_squared_error\n",
    "from sklearn.datasets import make_classification\n",
    "from sklearn.model_selection import train_test_split\n",
    "\n",
    "# matplotlib\n",
    "from matplotlib import pyplot as plt\n",
    "\n",
    "# sqlite\n",
    "# from sqlalchemy import create_engine\n",
    "# from flask.ext.sqlalchemy import SQLAlchemy\n",
    "# from flask_sqlalchemy import SQLAlchemy\n",
    "# from sqlalchemy import create_engine\n",
    "\n",
    "# sci-kit learn\n",
    "from sklearn.decomposition import PCA\n",
    "from sklearn.metrics import mean_squared_error\n",
    "from sklearn.preprocessing import MinMaxScaler\n",
    "\n",
    "# keras\n",
    "from keras.preprocessing.sequence import pad_sequences\n",
    "from keras.callbacks import EarlyStopping\n",
    "from keras.layers import TimeDistributed\n",
    "from keras.models import Sequential\n",
    "from keras.models import Model\n",
    "from keras.layers import Dense\n",
    "from keras.layers import LSTM"
   ]
  },
  {
   "cell_type": "markdown",
   "metadata": {},
   "source": [
    "# Data Prep"
   ]
  },
  {
   "cell_type": "markdown",
   "metadata": {},
   "source": [
    "## Workflow \n",
    "\n",
    "* Table join on jupyterhub to merge AGC, CN0 and local timestamp info\n",
    "* Read CSV file and load into sqlite db in chunks to avoid using enormous CSV files and make data more accessible\n",
    "* Load dataframe, change time stamps to 64 bit integers\n",
    "* Sort data by local time \n",
    "* Reindex dataframe\n",
    "* Remove NaN Values from Attack Column\n",
    "* Limit Data to Days with Jamming\n",
    "* Create SVID Columns\n",
    "* Add Cross Correlation Column to Data\n",
    "* Routines in order they are called:\n",
    "  * concat_ccm ==> mycorrelate \n",
    "  * add_time_steps\n",
    "  * genbatchhd5"
   ]
  },
  {
   "cell_type": "code",
   "execution_count": 2,
   "metadata": {},
   "outputs": [
    {
     "data": {
      "text/plain": [
       "'1.2.0'"
      ]
     },
     "execution_count": 2,
     "metadata": {},
     "output_type": "execute_result"
    }
   ],
   "source": [
    "scipy.__version__"
   ]
  },
  {
   "cell_type": "markdown",
   "metadata": {},
   "source": [
    "## Build Sqlite Data Base"
   ]
  },
  {
   "cell_type": "code",
   "execution_count": null,
   "metadata": {
    "collapsed": true
   },
   "outputs": [],
   "source": [
    "filepath = 'CSV Files/combined.csv'"
   ]
  },
  {
   "cell_type": "code",
   "execution_count": null,
   "metadata": {
    "collapsed": true
   },
   "outputs": [],
   "source": [
    "# csv_database = create_engine('sqlite:///csv_database.db')\n",
    "csv_database = create_engine('sqlite:///combined.db')"
   ]
  },
  {
   "cell_type": "code",
   "execution_count": null,
   "metadata": {
    "collapsed": true
   },
   "outputs": [],
   "source": [
    "chunksize = 100000\n",
    "i, j = 0, 1\n",
    "for df in pd.read_csv(filepath, chunksize=chunksize, iterator=True):\n",
    "    df = df.rename(columns={c: c.replace(' ', '_') for c in df.columns}) \n",
    "    # shift up all index values by j\n",
    "    df.index += j\n",
    "    i += 1\n",
    "    df.to_sql('table', csv_database, if_exists='append')\n",
    "    # take highest index value and add one\n",
    "    # (don't know the index of the highest index, so use -1)\n",
    "    j = df.index[-1] + 1"
   ]
  },
  {
   "cell_type": "markdown",
   "metadata": {},
   "source": [
    "NOTE: Sqlite apparently requires you to put the table name between quotes. See this [Stackoverflow article](https://stackoverflow.com/questions/25387537/inserting-a-table-name-into-a-query-gives-sqlite3-operationalerror-near-sy)."
   ]
  },
  {
   "cell_type": "code",
   "execution_count": null,
   "metadata": {
    "collapsed": true
   },
   "outputs": [],
   "source": [
    "# id, svid, constellation, cn0, agc, has_agc, sat_time_nanos\n",
    "# fields = \"id, svid, constellation, cn0, agc, has_agc, sat_time_nanos\"\n",
    "# fields = \"constellation, cn0, agc, has_agc, sat_time_nanos\"\n",
    "# fields = \"cn0, agc\"\n",
    "# sql_string = 'SELECT ' + fields + ' FROM table'\n",
    "# sql_string = 'SELECT * FROM \"table\" LIMIT 5'\n",
    "flds = \"svid, constellation, cn0, agc, local_time, sat_time_nanos, attack\"\n",
    "sql_string = 'SELECT ' + flds + ' FROM \"table\"'"
   ]
  },
  {
   "cell_type": "code",
   "execution_count": null,
   "metadata": {
    "collapsed": true
   },
   "outputs": [],
   "source": [
    "df_combined = pd.read_sql_query(sql_string, csv_database)"
   ]
  },
  {
   "cell_type": "code",
   "execution_count": null,
   "metadata": {
    "collapsed": true
   },
   "outputs": [],
   "source": [
    "df_combined[df_combined[\"Attack\"] == 1].count()"
   ]
  },
  {
   "cell_type": "markdown",
   "metadata": {},
   "source": [
    "## Clean Data"
   ]
  },
  {
   "cell_type": "markdown",
   "metadata": {},
   "source": [
    "Convert Time Stamps and SVID from Float to 64bit Integer"
   ]
  },
  {
   "cell_type": "code",
   "execution_count": null,
   "metadata": {
    "collapsed": true
   },
   "outputs": [],
   "source": [
    "sat_time_nanos = df_combined[\"sat_time_nanos\"]\n",
    "localtime = df_combined[\"local_time\"]\n",
    "svids = df_combined[\"svid\"]"
   ]
  },
  {
   "cell_type": "code",
   "execution_count": null,
   "metadata": {
    "collapsed": true
   },
   "outputs": [],
   "source": [
    "sat_time_nanos = sat_time_nanos.astype('int64')\n",
    "localtime = localtime.astype('int64') \n",
    "svids = svids.astype('int64')"
   ]
  },
  {
   "cell_type": "code",
   "execution_count": null,
   "metadata": {
    "collapsed": true
   },
   "outputs": [],
   "source": [
    "df_combined[\"sat_time_nanos\"] = sat_time_nanos\n",
    "df_combined[\"local_time\"] = localtime\n",
    "df_combined[\"svid\"] = svids"
   ]
  },
  {
   "cell_type": "markdown",
   "metadata": {},
   "source": [
    "Sort Data by Local Time Stamp and Reindex"
   ]
  },
  {
   "cell_type": "code",
   "execution_count": null,
   "metadata": {
    "collapsed": true
   },
   "outputs": [],
   "source": [
    "# colheader = 'sat_time_nanos'\n",
    "colheader = 'local_time'\n",
    "df_combined_sorted = df_combined.sort_values(colheader).copy()"
   ]
  },
  {
   "cell_type": "code",
   "execution_count": null,
   "metadata": {
    "collapsed": true
   },
   "outputs": [],
   "source": [
    "df_combined_sorted.index = range(len(df_combined_sorted))"
   ]
  },
  {
   "cell_type": "markdown",
   "metadata": {},
   "source": [
    "Remove NaN Values from Attack Column"
   ]
  },
  {
   "cell_type": "code",
   "execution_count": null,
   "metadata": {
    "collapsed": true
   },
   "outputs": [],
   "source": [
    "values = {\"Attack\": False}\n",
    "df_combined_sorted = df_combined_sorted.fillna(value = values)"
   ]
  },
  {
   "cell_type": "code",
   "execution_count": null,
   "metadata": {
    "collapsed": true
   },
   "outputs": [],
   "source": [
    "df_combined_sorted[\"Attack\"].value_counts()"
   ]
  },
  {
   "cell_type": "markdown",
   "metadata": {},
   "source": [
    "Limit Days to Days with Jamming.\n",
    "\n",
    "Reasoning:\n",
    "* Assuming this will probably not cause data imbalance, based on Tracey's statement that pervasive jamming might represent actual conditions and \n",
    "* We don't know how to label much of the data we have. We cannot assume the absence of a True Attack label means Attack = False necessarily. \n",
    "\n",
    "Hao's calculated range of local time stamps on jamming days:\n",
    "* local time for 10/3/2018 00:00 is 1538264040000 \n",
    "* local time for 10/6/2018 00:00 is 1538523240000 "
   ]
  },
  {
   "cell_type": "code",
   "execution_count": null,
   "metadata": {
    "collapsed": true
   },
   "outputs": [],
   "source": [
    "(df_combined_sorted[\"local_time\"].min(), \n",
    " df_combined_sorted[\"local_time\"].max())"
   ]
  },
  {
   "cell_type": "code",
   "execution_count": null,
   "metadata": {
    "collapsed": true
   },
   "outputs": [],
   "source": [
    "df_jamming = df_combined_sorted[\n",
    "    df_combined_sorted[\"local_time\"] >= 1538264040000 # 1538264040000 \n",
    "]"
   ]
  },
  {
   "cell_type": "code",
   "execution_count": null,
   "metadata": {
    "collapsed": true
   },
   "outputs": [],
   "source": [
    "df_jamming = df_combined_sorted[\n",
    "    df_combined_sorted[\"local_time\"] >= 0 # 1538264040000 \n",
    "]\n",
    "df_jamming[\"Attack\"].value_counts()"
   ]
  },
  {
   "cell_type": "code",
   "execution_count": null,
   "metadata": {
    "collapsed": true
   },
   "outputs": [],
   "source": [
    "df_jamming = df_jamming[\n",
    "     (df_jamming[\"local_time\"] <= 1538523240000) # 1538523240000\n",
    "]"
   ]
  },
  {
   "cell_type": "markdown",
   "metadata": {},
   "source": [
    "## Create SVID Columns"
   ]
  },
  {
   "cell_type": "code",
   "execution_count": 16,
   "metadata": {
    "collapsed": true
   },
   "outputs": [],
   "source": [
    "def get_headers(df): \n",
    "    \n",
    "    svids = df[\"svid\"].unique()\n",
    "    svids = list(svids)\n",
    "\n",
    "    svidhdrs = []\n",
    "    \n",
    "    # create separate AGC & CN0 labels for each\n",
    "    # of the 106 AGC & CN0 signals.\n",
    "    for svid in svids:       \n",
    "        agc_nm = \"agc_\" + \"{:003d}\".format(svid)  \n",
    "        cn0_nm = \"cn0_\" + \"{:003d}\".format(svid) \n",
    "        svidhdrs.append(agc_nm)\n",
    "        svidhdrs.append(cn0_nm)\n",
    "\n",
    "    svidhdrs.sort()\n",
    "\n",
    "    # Since we have separate AGC & CN0 signals for\n",
    "    # each of the 106 signals, eliminate the original\n",
    "    # AGC & CN0 labels (without number suffixes)\n",
    "    dfcols = list(df.columns)\n",
    "    dfcols.remove('svid')\n",
    "    dfcols.remove('cn0')\n",
    "    dfcols.remove('agc')    \n",
    "    dfcols.remove('constellation')\n",
    "    dfcols.remove('sat_time_nanos')    \n",
    "    \n",
    "    colhdrs = dfcols + svidhdrs\n",
    "    \n",
    "    # Return signal IDs and (new) revised column headers\n",
    "    return svids, colhdrs"
   ]
  },
  {
   "cell_type": "code",
   "execution_count": 17,
   "metadata": {
    "collapsed": true
   },
   "outputs": [],
   "source": [
    "def create_svid_cols(df):\n",
    "\n",
    "    svids, colhdrs = get_headers(df) \n",
    "    df_new = pd.DataFrame(columns = colhdrs)\n",
    "    # Create a first row of zeros\n",
    "    d = {k:0 for k in colhdrs}    \n",
    "    df_new.loc[0] = d # first row\n",
    "    \n",
    "    lt_previous = -1      \n",
    "    \n",
    "    for rowidx, row in df.iterrows():\n",
    "       \n",
    "        svid = row[\"svid\"]         \n",
    "        agc_nm = \"agc_\" + \"{:003d}\".format(svid)  \n",
    "        cn0_nm = \"cn0_\" + \"{:003d}\".format(svid)        \n",
    "\n",
    "        lt = row[\"local_time\"]\n",
    "                    \n",
    "        if lt != lt_previous and lt_previous != -1:\n",
    "            \n",
    "            # new time stamp\n",
    "                                        \n",
    "            # open up a new row in dataframe\n",
    "            nrow = len(df_new)\n",
    "            \n",
    "            # initialize new row to have same values as last row\n",
    "            lastrow = df_new.loc[nrow - 1].to_dict()\n",
    "            df_new.loc[nrow] = lastrow\n",
    "                           \n",
    "        else:\n",
    "            # load data into current (already existing) last row\n",
    "            nrow = len(df_new) - 1\n",
    "            \n",
    "        df_new.loc[nrow][agc_nm] = row[\"agc\"]\n",
    "        df_new.loc[nrow][cn0_nm] = row[\"cn0\"]\n",
    "        df_new.loc[nrow][\"Attack\"] = row[\"Attack\"]\n",
    "        df_new.loc[nrow][\"local_time\"] = lt  \n",
    "        \n",
    "        lt_previous = lt\n",
    "    \n",
    "    # This code will also output an **array** of signal info\n",
    "    # (Remove it for now)\n",
    "    \n",
    "    # df_allcolumns = df_new.copy()\n",
    "    # df_signalsonly = df_new.drop(\n",
    "    #                     [\"local_time\", \"Attack\"], axis = 1)    \n",
    "    # signalsonly = df_signalsonly.values\n",
    "    # \n",
    "    # return df_allcolumns, signalsonly\n",
    "    \n",
    "    return df_new"
   ]
  },
  {
   "cell_type": "code",
   "execution_count": null,
   "metadata": {
    "collapsed": true
   },
   "outputs": [],
   "source": [
    "# df_signals, arr_signalsonly = create_svid_cols(df_jamming) \n",
    "\n",
    "df_signals = create_svid_cols(df_jamming)"
   ]
  },
  {
   "cell_type": "markdown",
   "metadata": {},
   "source": [
    "Pickle the result."
   ]
  },
  {
   "cell_type": "code",
   "execution_count": 9,
   "metadata": {
    "collapsed": true
   },
   "outputs": [],
   "source": [
    "path = PickledDir + \"df_signals.pkl\"\n",
    "fd = open(path, \"wb\")\n",
    "pkl.dump(df_signals, fd)\n",
    "fd.close()"
   ]
  },
  {
   "cell_type": "markdown",
   "metadata": {},
   "source": [
    "## Normalize Signal Data"
   ]
  },
  {
   "cell_type": "markdown",
   "metadata": {},
   "source": [
    "Do the signal values need to be normalized?\n",
    "\n",
    "Take a peak at max signal values to find out."
   ]
  },
  {
   "cell_type": "code",
   "execution_count": 15,
   "metadata": {
    "collapsed": true
   },
   "outputs": [],
   "source": [
    "data_cols = list(df_signals.columns)"
   ]
  },
  {
   "cell_type": "code",
   "execution_count": 16,
   "metadata": {},
   "outputs": [
    {
     "data": {
      "text/plain": [
       "local_time    1.538464e+12\n",
       "Attack        1.000000e+00\n",
       "agc_001       1.711000e+01\n",
       "agc_002       3.270000e+00\n",
       "agc_003       3.160000e+01\n",
       "agc_004       3.368000e+01\n",
       "agc_005       3.368000e+01\n",
       "agc_006       3.368000e+01\n",
       "agc_007       3.368000e+01\n",
       "agc_008       2.203000e+01\n",
       "dtype: float64"
      ]
     },
     "execution_count": 16,
     "metadata": {},
     "output_type": "execute_result"
    }
   ],
   "source": [
    "df_signals[data_cols].max()[:10]"
   ]
  },
  {
   "cell_type": "code",
   "execution_count": 7,
   "metadata": {
    "collapsed": true
   },
   "outputs": [],
   "source": [
    "def normalize_signals(df):\n",
    "    \n",
    "    # initialize scaler object\n",
    "    scaler = MinMaxScaler(feature_range=(0, 1))\n",
    "    \n",
    "    # extract column names and remove \n",
    "    # those that are irrelevant \n",
    "    data_cols = list(df_signals_in_cols.columns)\n",
    "    data_cols.remove(\"local_time\")\n",
    "    data_cols.remove(\"Attack\")\n",
    "    \n",
    "    # extract signal values\n",
    "    vals = df[data_cols].values\n",
    "    vals = vals.astype('float32')\n",
    "    vals_norm = scaler.fit_transform(vals)\n",
    "    \n",
    "    df_norm = df.copy()\n",
    "    for idx, colname in enumerate(data_cols):\n",
    "        df_norm[colname] = vals_norm[:, idx]\n",
    "\n",
    "    return df_norm"
   ]
  },
  {
   "cell_type": "code",
   "execution_count": 8,
   "metadata": {
    "collapsed": true
   },
   "outputs": [],
   "source": [
    "df_norm = normalize_signals(df_signals)"
   ]
  },
  {
   "cell_type": "markdown",
   "metadata": {},
   "source": [
    "Pickle the result."
   ]
  },
  {
   "cell_type": "code",
   "execution_count": 9,
   "metadata": {
    "collapsed": true
   },
   "outputs": [],
   "source": [
    "path = PickledDir + \"df_norm.pkl\"\n",
    "fd = open(path, \"wb\")\n",
    "pkl.dump(df_norm, fd)\n",
    "fd.close()"
   ]
  },
  {
   "cell_type": "markdown",
   "metadata": {},
   "source": [
    "## Generate Files with Different Sampling Rates"
   ]
  },
  {
   "cell_type": "code",
   "execution_count": 5,
   "metadata": {
    "collapsed": true
   },
   "outputs": [],
   "source": [
    "# Filter DataFrame, selecting every *samplerate* rows (records)\n",
    "def samplerecords(df, samplerate):\n",
    "\n",
    "    indices = list(range(0, len(df), samplerate))    \n",
    "    df_filtered = df.iloc[indices]\n",
    "    \n",
    "    return df_filtered"
   ]
  },
  {
   "cell_type": "code",
   "execution_count": 6,
   "metadata": {},
   "outputs": [
    {
     "data": {
      "text/plain": [
       "(86243, 90)"
      ]
     },
     "execution_count": 6,
     "metadata": {},
     "output_type": "execute_result"
    }
   ],
   "source": [
    "df_norm.shape"
   ]
  },
  {
   "cell_type": "code",
   "execution_count": 14,
   "metadata": {},
   "outputs": [
    {
     "data": {
      "text/plain": [
       "(32550, 90)"
      ]
     },
     "execution_count": 14,
     "metadata": {},
     "output_type": "execute_result"
    }
   ],
   "source": [
    "df_norm_attackperiod.shape"
   ]
  },
  {
   "cell_type": "code",
   "execution_count": 7,
   "metadata": {},
   "outputs": [
    {
     "data": {
      "text/plain": [
       "(4313, 90)"
      ]
     },
     "execution_count": 7,
     "metadata": {},
     "output_type": "execute_result"
    }
   ],
   "source": [
    "df_norm_step20 = samplerecords(df_norm, 20)\n",
    "df_norm_step20.shape"
   ]
  },
  {
   "cell_type": "code",
   "execution_count": 8,
   "metadata": {},
   "outputs": [
    {
     "data": {
      "text/plain": [
       "(863, 90)"
      ]
     },
     "execution_count": 8,
     "metadata": {},
     "output_type": "execute_result"
    }
   ],
   "source": [
    "df_norm_step100 = samplerecords(df_norm, 100)\n",
    "df_norm_step100.shape"
   ]
  },
  {
   "cell_type": "code",
   "execution_count": 9,
   "metadata": {},
   "outputs": [
    {
     "data": {
      "text/plain": [
       "(87, 90)"
      ]
     },
     "execution_count": 9,
     "metadata": {},
     "output_type": "execute_result"
    }
   ],
   "source": [
    "df_norm_step1000 = samplerecords(df_norm, 1000)\n",
    "df_norm_step1000.shape"
   ]
  },
  {
   "cell_type": "markdown",
   "metadata": {},
   "source": [
    "Plots of labels VS. local time."
   ]
  },
  {
   "cell_type": "code",
   "execution_count": 11,
   "metadata": {},
   "outputs": [
    {
     "data": {
      "text/plain": [
       "[<matplotlib.lines.Line2D at 0x7f17265b28d0>]"
      ]
     },
     "execution_count": 11,
     "metadata": {},
     "output_type": "execute_result"
    },
    {
     "data": {
      "image/png": "[encoded data removed]",
      "text/plain": [
       "<Figure size 432x288 with 1 Axes>"
      ]
     },
     "metadata": {},
     "output_type": "display_data"
    }
   ],
   "source": [
    "plt.plot(df_norm_step1000.index,\n",
    "         df_norm_step1000[\"Attack\"])"
   ]
  },
  {
   "cell_type": "code",
   "execution_count": 13,
   "metadata": {},
   "outputs": [
    {
     "data": {
      "text/plain": [
       "[<matplotlib.lines.Line2D at 0x7f17263b6e48>]"
      ]
     },
     "execution_count": 13,
     "metadata": {},
     "output_type": "execute_result"
    },
    {
     "data": {
      "image/png": "[encoded data removed]",
      "text/plain": [
       "<Figure size 432x288 with 1 Axes>"
      ]
     },
     "metadata": {},
     "output_type": "display_data"
    }
   ],
   "source": [
    "plt.plot(df_norm_attackperiod.index,\n",
    "         df_norm_attackperiod[\"Attack\"])"
   ]
  },
  {
   "cell_type": "markdown",
   "metadata": {},
   "source": [
    "Pickle the result."
   ]
  },
  {
   "cell_type": "code",
   "execution_count": 56,
   "metadata": {
    "collapsed": true
   },
   "outputs": [],
   "source": [
    "path = PickledDir + \"df_norm_step20.pkl\"\n",
    "fd = open(path, \"wb\")\n",
    "pkl.dump(df_norm_step20, fd)\n",
    "fd.close()"
   ]
  },
  {
   "cell_type": "code",
   "execution_count": 57,
   "metadata": {
    "collapsed": true
   },
   "outputs": [],
   "source": [
    "path = PickledDir + \"df_norm_step100.pkl\"\n",
    "fd = open(path, \"wb\")\n",
    "pkl.dump(df_norm_step100, fd)\n",
    "fd.close()"
   ]
  },
  {
   "cell_type": "code",
   "execution_count": 58,
   "metadata": {
    "collapsed": true
   },
   "outputs": [],
   "source": [
    "path = PickledDir + \"df_norm_step1000.pkl\"\n",
    "fd = open(path, \"wb\")\n",
    "pkl.dump(df_norm_step1000, fd)\n",
    "fd.close()"
   ]
  },
  {
   "cell_type": "markdown",
   "metadata": {},
   "source": [
    "## Calculate Cross Correlation Matrix (CCM)\n",
    "\n",
    "Calculate the cross correlation matrix on a sliding time window and append the contents of the ccm to the signal data."
   ]
  },
  {
   "cell_type": "code",
   "execution_count": 114,
   "metadata": {
    "collapsed": true
   },
   "outputs": [],
   "source": [
    "def mycorrelate(ar_signals, normalized = False):\n",
    "    \n",
    "    # initialize cross correlation matrix with zeros\n",
    "    nrows = ar_signals.shape[0]    \n",
    "    ccm = np.zeros(shape=(nrows, nrows), dtype=list)\n",
    "    \n",
    "    for i, outer_row in enumerate(ar_signals):\n",
    "        for j, inner_row in enumerate(ar_signals): \n",
    "\n",
    "            if(not normalized):\n",
    "                x = np.correlate(inner_row, outer_row) \n",
    "            else: \n",
    "                len_inner = int(len(inner_row))\n",
    "                mean_inner = np.mean(inner_row)\n",
    "                std_inner = np.std(inner_row)\n",
    "                a = (inner_row - mean_inner) / (std_inner * len_inner) \n",
    "                b = (outer_row - np.mean(outer_row)) / (\n",
    "                     np.std(outer_row)) \n",
    "                x = np.correlate(a, b) \n",
    "                    \n",
    "            ccm[i][j] = x[0] \n",
    "            \n",
    "    return ccm"
   ]
  },
  {
   "cell_type": "markdown",
   "metadata": {},
   "source": [
    "**concat_ccm**\n",
    "\n",
    "* Look ahead the number of time slices specified in window parameter _win_ \n",
    "* Take the cross correlation matrix (CCM) in the window of all signals.\n",
    "* Flatten each CCM into a single (nested 2D) list\n",
    "* Each row will have a flatted CCM. Store it in the **sigccm** column."
   ]
  },
  {
   "cell_type": "code",
   "execution_count": 115,
   "metadata": {
    "collapsed": true
   },
   "outputs": [],
   "source": [
    "#############################################################\n",
    "# concat_ccm: \n",
    "# Description: Takes DataFrame of signals as input \n",
    "# and concatenates a flattened ccm onto each row,\n",
    "# but unlike prior version of this routine, concat_ccm\n",
    "# will save the results at regular intervals as a precaution.\n",
    "#############################################################\n",
    "\n",
    "def concat_ccm(df, win, batchID, batch_size):\n",
    "\n",
    "    DataDir = \"data/\"\n",
    "    BatchDir = DataDir + batchID + \"/\"    \n",
    "\n",
    "    # If directory does not already exist\n",
    "    # for this batch, create it.\n",
    "    if not os.path.isdir(BatchDir):\n",
    "        mkdir(BatchDir)    \n",
    "    \n",
    "    result = []    \n",
    "    width = df.shape[1]\n",
    "    length = df.shape[0]\n",
    "    \n",
    "    # Isolate signal columns in order to calculate CCM\n",
    "    value_cols = list(df.columns)\n",
    "    value_cols.remove(\"local_time\")\n",
    "    value_cols.remove(\"Attack\")\n",
    "    \n",
    "    df_values = df[value_cols]\n",
    "    \n",
    "    # Cross correlation matrix (ccm) will be a \n",
    "    # square matrix of dimensions (win X win)\n",
    "    \n",
    "    # Length of augmented row will be:\n",
    "    #    length of current row + flattened ccm (win X win)    \n",
    "    # First win-1 rows will be extended by zeros\n",
    "    for i in range(win - 1):\n",
    "        row = list(df_values.iloc[i].values)\n",
    "        zeros = np.zeros(win * win).tolist()\n",
    "        result.append(row + zeros)\n",
    "    \n",
    "    for idx, _ in enumerate(df_values.iterrows()):\n",
    "        \n",
    "        if idx + win > length:\n",
    "            break\n",
    "\n",
    "        view = df_values.iloc[idx : idx + win].values        \n",
    "        ccm = mycorrelate(view, normalized = True)\n",
    "        \n",
    "        flatmatrix = ccm.ravel().tolist()\n",
    "\n",
    "        # Attach the flattened CCM to the **end** of the window\n",
    "        # (Careful: indices change within the view)\n",
    "        # Last line of view will always have index of win - 1\n",
    "        concatenated_line = list(view[win - 1, :]) + flatmatrix \n",
    "        result.append(concatenated_line)\n",
    "        \n",
    "        if idx != 0 and idx % batch_size == 0:\n",
    "            \n",
    "            fnm = 'df_{:s}_id{:d}.pkl'.format(batchID, idx)\n",
    "            \n",
    "            df_view = df.iloc[0 : idx + win].copy()        \n",
    "            df_view[\"sigccm\"] = pd.Series(result).values\n",
    "\n",
    "            df_view[\"sigccm\"] = df_view.sigccm.apply(\n",
    "                                   lambda x: [list(x)])\n",
    "    \n",
    "            # reindex output DataFrame\n",
    "            df_view.index = range(len(df_view))\n",
    "\n",
    "            path = BatchDir + fnm\n",
    "            fd = open(path, \"wb\")\n",
    "            pkl.dump(df_view, fd)\n",
    "            fd.close()\n",
    "\n",
    "    df_augmented = df.copy()\n",
    "    df_augmented[\"sigccm\"] = pd.Series(result).values\n",
    "    \n",
    "    # Column \"sigccm\" now contains list elements.\n",
    "    # Encapsulate each list element with an extra set\n",
    "    # of list brackets to set the stage for creating\n",
    "    # a list of lists that represents the time steps\n",
    "    # of an LSTM\n",
    "    \n",
    "    df_augmented[\"sigccm\"] = df_augmented.sigccm.apply(\n",
    "                                    lambda x: [list(x)])\n",
    "\n",
    "    # reindex output DataFrame\n",
    "    df_augmented.index = range(len(df_augmented))\n",
    "    \n",
    "    return df_augmented, result"
   ]
  },
  {
   "cell_type": "markdown",
   "metadata": {},
   "source": [
    "Generate SigCCM Training Data"
   ]
  },
  {
   "cell_type": "code",
   "execution_count": null,
   "metadata": {
    "collapsed": true
   },
   "outputs": [],
   "source": [
    "df_augmented, res = concat_ccm(df_norm_attackperiod, \n",
    "                          win = 100,\n",
    "                          batchID = \"norm_attack\",\n",
    "                          batch_size = 1000)"
   ]
  },
  {
   "cell_type": "markdown",
   "metadata": {},
   "source": [
    "Generate SigCCM Test Data"
   ]
  },
  {
   "cell_type": "code",
   "execution_count": 116,
   "metadata": {
    "collapsed": true
   },
   "outputs": [],
   "source": [
    "df_attack_5000to6000 = df_norm_attackperiod[5000:6000]"
   ]
  },
  {
   "cell_type": "code",
   "execution_count": 117,
   "metadata": {
    "collapsed": true
   },
   "outputs": [],
   "source": [
    "df_augmented, res = concat_ccm(df_attack_5000to6000, \n",
    "                          win = 100,\n",
    "                          batchID = \"norm_attack\",\n",
    "                          batch_size = 1000)"
   ]
  },
  {
   "cell_type": "markdown",
   "metadata": {},
   "source": [
    "## Store SigCCM Data in HDF5"
   ]
  },
  {
   "cell_type": "markdown",
   "metadata": {},
   "source": [
    "Store SigCCM training data.\n",
    "\n",
    "For now, `add_time_steps_df()`, requires a DataFrame input. It can't read directly from an HDF5 data store, so this step can be skipped. "
   ]
  },
  {
   "cell_type": "code",
   "execution_count": 142,
   "metadata": {},
   "outputs": [
    {
     "data": {
      "text/plain": [
       "(5100, 91)"
      ]
     },
     "execution_count": 142,
     "metadata": {},
     "output_type": "execute_result"
    }
   ],
   "source": [
    "df_attack_id5000.shape "
   ]
  },
  {
   "cell_type": "code",
   "execution_count": 143,
   "metadata": {},
   "outputs": [
    {
     "data": {
      "text/plain": [
       "'data/attack_id5000/attack_id5000.h5'"
      ]
     },
     "execution_count": 143,
     "metadata": {},
     "output_type": "execute_result"
    }
   ],
   "source": [
    "df = df_attack_id5000\n",
    "dataID = \"attack_id5000\"\n",
    "h5path = store_series_of_lists_in_h5file(df, dataID, \n",
    "                                         \"sigccm\", \"Attack\")"
   ]
  },
  {
   "cell_type": "code",
   "execution_count": 162,
   "metadata": {},
   "outputs": [
    {
     "data": {
      "text/plain": [
       "(1, 10088)"
      ]
     },
     "execution_count": 162,
     "metadata": {},
     "output_type": "execute_result"
    }
   ],
   "source": [
    "pd.DataFrame(sigccm[0]).shape"
   ]
  },
  {
   "cell_type": "code",
   "execution_count": 154,
   "metadata": {
    "collapsed": true
   },
   "outputs": [],
   "source": [
    "a = extracth5toarray(h5path, \"sigccm\")"
   ]
  },
  {
   "cell_type": "code",
   "execution_count": 155,
   "metadata": {},
   "outputs": [
    {
     "data": {
      "text/plain": [
       "(5100, 1, 10088)"
      ]
     },
     "execution_count": 155,
     "metadata": {},
     "output_type": "execute_result"
    }
   ],
   "source": [
    "a.shape"
   ]
  },
  {
   "cell_type": "markdown",
   "metadata": {},
   "source": [
    "Store SigCCM test data."
   ]
  },
  {
   "cell_type": "code",
   "execution_count": 125,
   "metadata": {},
   "outputs": [],
   "source": [
    "# df_attack_5000to6000.head()\n",
    "# df_augmented.head()"
   ]
  },
  {
   "cell_type": "code",
   "execution_count": 123,
   "metadata": {},
   "outputs": [],
   "source": [
    "df = df_augmented\n",
    "dataID = \"attack_5000to6000\"\n",
    "h5path = store_series_of_lists_in_h5file(df, dataID, \n",
    "                                         \"sigccm\", \"Attack\")"
   ]
  },
  {
   "cell_type": "markdown",
   "metadata": {},
   "source": [
    "## Shape Data for LSTM Input"
   ]
  },
  {
   "cell_type": "markdown",
   "metadata": {},
   "source": [
    "Just as we had a lookahead window for purposes of calculating the CCM, likewise, we now calculate a moving lookahead window to create LSTM time steps."
   ]
  },
  {
   "cell_type": "markdown",
   "metadata": {},
   "source": [
    "**DataFrame Input**"
   ]
  },
  {
   "cell_type": "code",
   "execution_count": 127,
   "metadata": {
    "collapsed": true
   },
   "outputs": [],
   "source": [
    "def add_time_steps_df(df, win = 3):\n",
    "\n",
    "    sigccm = df[\"sigccm\"].copy()\n",
    "    \n",
    "    # Calculate the length of the list elements\n",
    "    # so we'll know how big the padding has to be\n",
    "    listlen = len(df[\"sigccm\"][0][0])\n",
    "    padding = list(np.repeat(0, listlen))\n",
    "    \n",
    "    if win < 2:\n",
    "        return sigccm\n",
    "    \n",
    "    # # First merge requires slightly different syntax\n",
    "    # # in call to combine method\n",
    "    # s = df[\"sigccm\"].apply(lambda x: x[0]).shift(-1).fillna(0)\n",
    "    # sigccm = sigccm.combine(s, lambda x1, x2: x1 + [x2])\n",
    "    # \n",
    "    # if win < 3:\n",
    "    #     return sigccm\n",
    "    \n",
    "    # Subsequent merges\n",
    "    for i in range(1, win):\n",
    "        \n",
    "        s = df[\"sigccm\"].apply(\n",
    "            lambda x: x[0]).shift(-i).fillna(0)\n",
    "            \n",
    "        sigccm = sigccm.combine(s, lambda x1, x2: x1 + [x2])\n",
    "    \n",
    "    df[\"sigccm\"] = sigccm\n",
    "\n",
    "    return df"
   ]
  },
  {
   "cell_type": "markdown",
   "metadata": {},
   "source": [
    "Add time steps to training data."
   ]
  },
  {
   "cell_type": "code",
   "execution_count": 5,
   "metadata": {
    "collapsed": true
   },
   "outputs": [],
   "source": [
    "df_attack_id5000[\"sigccm\"] = df_attack_id5000.sigccm.apply(\n",
    "                                lambda x: [list(x)]) "
   ]
  },
  {
   "cell_type": "code",
   "execution_count": 166,
   "metadata": {
    "collapsed": true
   },
   "outputs": [],
   "source": [
    "df_rows_5000_ccm_100_lstm_100 = add_time_steps_df(\n",
    "    df_attack_id5000, win = 100)"
   ]
  },
  {
   "cell_type": "markdown",
   "metadata": {},
   "source": [
    "Add time steps to test data."
   ]
  },
  {
   "cell_type": "code",
   "execution_count": 128,
   "metadata": {},
   "outputs": [],
   "source": [
    "df_rows_5000to6000_ccm_100_lstm_100 = add_time_steps_df(\n",
    "    df_augmented, win = 100)"
   ]
  },
  {
   "cell_type": "markdown",
   "metadata": {},
   "source": [
    "Time steps have been added. Store the results for the training data."
   ]
  },
  {
   "cell_type": "code",
   "execution_count": 265,
   "metadata": {},
   "outputs": [
    {
     "name": "stdout",
     "output_type": "stream",
     "text": [
      "Mismatch with element 5001:\n",
      "\n",
      "chunkshape = (100, 10088)\n",
      "Mismatch with element 5002:\n",
      "\n",
      "chunkshape = (100, 10088)\n",
      "Mismatch with element 5003:\n",
      "\n",
      "chunkshape = (100, 10088)\n",
      "Mismatch with element 5004:\n",
      "\n",
      "chunkshape = (100, 10088)\n",
      "Mismatch with element 5005:\n",
      "\n",
      "chunkshape = (100, 10088)\n",
      "Mismatch with element 5006:\n",
      "\n",
      "chunkshape = (100, 10088)\n",
      "Mismatch with element 5007:\n",
      "\n",
      "chunkshape = (100, 10088)\n",
      "Mismatch with element 5008:\n",
      "\n",
      "chunkshape = (100, 10088)\n",
      "Mismatch with element 5009:\n",
      "\n",
      "chunkshape = (100, 10088)\n",
      "Mismatch with element 5010:\n",
      "\n",
      "chunkshape = (100, 10088)\n",
      "Mismatch with element 5011:\n",
      "\n",
      "chunkshape = (100, 10088)\n",
      "Mismatch with element 5012:\n",
      "\n",
      "chunkshape = (100, 10088)\n",
      "Mismatch with element 5013:\n",
      "\n",
      "chunkshape = (100, 10088)\n",
      "Mismatch with element 5014:\n",
      "\n",
      "chunkshape = (100, 10088)\n",
      "Mismatch with element 5015:\n",
      "\n",
      "chunkshape = (100, 10088)\n",
      "Mismatch with element 5016:\n",
      "\n",
      "chunkshape = (100, 10088)\n",
      "Mismatch with element 5017:\n",
      "\n",
      "chunkshape = (100, 10088)\n",
      "Mismatch with element 5018:\n",
      "\n",
      "chunkshape = (100, 10088)\n",
      "Mismatch with element 5019:\n",
      "\n",
      "chunkshape = (100, 10088)\n",
      "Mismatch with element 5020:\n",
      "\n",
      "chunkshape = (100, 10088)\n",
      "Mismatch with element 5021:\n",
      "\n",
      "chunkshape = (100, 10088)\n",
      "Mismatch with element 5022:\n",
      "\n",
      "chunkshape = (100, 10088)\n",
      "Mismatch with element 5023:\n",
      "\n",
      "chunkshape = (100, 10088)\n",
      "Mismatch with element 5024:\n",
      "\n",
      "chunkshape = (100, 10088)\n",
      "Mismatch with element 5025:\n",
      "\n",
      "chunkshape = (100, 10088)\n",
      "Mismatch with element 5026:\n",
      "\n",
      "chunkshape = (100, 10088)\n",
      "Mismatch with element 5027:\n",
      "\n",
      "chunkshape = (100, 10088)\n",
      "Mismatch with element 5028:\n",
      "\n",
      "chunkshape = (100, 10088)\n",
      "Mismatch with element 5029:\n",
      "\n",
      "chunkshape = (100, 10088)\n",
      "Mismatch with element 5030:\n",
      "\n",
      "chunkshape = (100, 10088)\n",
      "Mismatch with element 5031:\n",
      "\n",
      "chunkshape = (100, 10088)\n",
      "Mismatch with element 5032:\n",
      "\n",
      "chunkshape = (100, 10088)\n",
      "Mismatch with element 5033:\n",
      "\n",
      "chunkshape = (100, 10088)\n",
      "Mismatch with element 5034:\n",
      "\n",
      "chunkshape = (100, 10088)\n",
      "Mismatch with element 5035:\n",
      "\n",
      "chunkshape = (100, 10088)\n",
      "Mismatch with element 5036:\n",
      "\n",
      "chunkshape = (100, 10088)\n",
      "Mismatch with element 5037:\n",
      "\n",
      "chunkshape = (100, 10088)\n",
      "Mismatch with element 5038:\n",
      "\n",
      "chunkshape = (100, 10088)\n",
      "Mismatch with element 5039:\n",
      "\n",
      "chunkshape = (100, 10088)\n",
      "Mismatch with element 5040:\n",
      "\n",
      "chunkshape = (100, 10088)\n",
      "Mismatch with element 5041:\n",
      "\n",
      "chunkshape = (100, 10088)\n",
      "Mismatch with element 5042:\n",
      "\n",
      "chunkshape = (100, 10088)\n",
      "Mismatch with element 5043:\n",
      "\n",
      "chunkshape = (100, 10088)\n",
      "Mismatch with element 5044:\n",
      "\n",
      "chunkshape = (100, 10088)\n",
      "Mismatch with element 5045:\n",
      "\n",
      "chunkshape = (100, 10088)\n",
      "Mismatch with element 5046:\n",
      "\n",
      "chunkshape = (100, 10088)\n",
      "Mismatch with element 5047:\n",
      "\n",
      "chunkshape = (100, 10088)\n",
      "Mismatch with element 5048:\n",
      "\n",
      "chunkshape = (100, 10088)\n",
      "Mismatch with element 5049:\n",
      "\n",
      "chunkshape = (100, 10088)\n",
      "Mismatch with element 5050:\n",
      "\n",
      "chunkshape = (100, 10088)\n",
      "Mismatch with element 5051:\n",
      "\n",
      "chunkshape = (100, 10088)\n",
      "Mismatch with element 5052:\n",
      "\n",
      "chunkshape = (100, 10088)\n",
      "Mismatch with element 5053:\n",
      "\n",
      "chunkshape = (100, 10088)\n",
      "Mismatch with element 5054:\n",
      "\n",
      "chunkshape = (100, 10088)\n",
      "Mismatch with element 5055:\n",
      "\n",
      "chunkshape = (100, 10088)\n",
      "Mismatch with element 5056:\n",
      "\n",
      "chunkshape = (100, 10088)\n",
      "Mismatch with element 5057:\n",
      "\n",
      "chunkshape = (100, 10088)\n",
      "Mismatch with element 5058:\n",
      "\n",
      "chunkshape = (100, 10088)\n",
      "Mismatch with element 5059:\n",
      "\n",
      "chunkshape = (100, 10088)\n",
      "Mismatch with element 5060:\n",
      "\n",
      "chunkshape = (100, 10088)\n",
      "Mismatch with element 5061:\n",
      "\n",
      "chunkshape = (100, 10088)\n",
      "Mismatch with element 5062:\n",
      "\n",
      "chunkshape = (100, 10088)\n",
      "Mismatch with element 5063:\n",
      "\n",
      "chunkshape = (100, 10088)\n",
      "Mismatch with element 5064:\n",
      "\n",
      "chunkshape = (100, 10088)\n",
      "Mismatch with element 5065:\n",
      "\n",
      "chunkshape = (100, 10088)\n",
      "Mismatch with element 5066:\n",
      "\n",
      "chunkshape = (100, 10088)\n",
      "Mismatch with element 5067:\n",
      "\n",
      "chunkshape = (100, 10088)\n",
      "Mismatch with element 5068:\n",
      "\n",
      "chunkshape = (100, 10088)\n",
      "Mismatch with element 5069:\n",
      "\n",
      "chunkshape = (100, 10088)\n",
      "Mismatch with element 5070:\n",
      "\n",
      "chunkshape = (100, 10088)\n",
      "Mismatch with element 5071:\n",
      "\n",
      "chunkshape = (100, 10088)\n",
      "Mismatch with element 5072:\n",
      "\n",
      "chunkshape = (100, 10088)\n",
      "Mismatch with element 5073:\n",
      "\n",
      "chunkshape = (100, 10088)\n",
      "Mismatch with element 5074:\n",
      "\n",
      "chunkshape = (100, 10088)\n",
      "Mismatch with element 5075:\n",
      "\n",
      "chunkshape = (100, 10088)\n",
      "Mismatch with element 5076:\n",
      "\n",
      "chunkshape = (100, 10088)\n",
      "Mismatch with element 5077:\n",
      "\n",
      "chunkshape = (100, 10088)\n",
      "Mismatch with element 5078:\n",
      "\n",
      "chunkshape = (100, 10088)\n",
      "Mismatch with element 5079:\n",
      "\n",
      "chunkshape = (100, 10088)\n",
      "Mismatch with element 5080:\n",
      "\n",
      "chunkshape = (100, 10088)\n",
      "Mismatch with element 5081:\n",
      "\n",
      "chunkshape = (100, 10088)\n",
      "Mismatch with element 5082:\n",
      "\n",
      "chunkshape = (100, 10088)\n",
      "Mismatch with element 5083:\n",
      "\n",
      "chunkshape = (100, 10088)\n",
      "Mismatch with element 5084:\n",
      "\n",
      "chunkshape = (100, 10088)\n",
      "Mismatch with element 5085:\n",
      "\n",
      "chunkshape = (100, 10088)\n",
      "Mismatch with element 5086:\n",
      "\n",
      "chunkshape = (100, 10088)\n",
      "Mismatch with element 5087:\n",
      "\n",
      "chunkshape = (100, 10088)\n",
      "Mismatch with element 5088:\n",
      "\n",
      "chunkshape = (100, 10088)\n",
      "Mismatch with element 5089:\n",
      "\n",
      "chunkshape = (100, 10088)\n",
      "Mismatch with element 5090:\n",
      "\n",
      "chunkshape = (100, 10088)\n",
      "Mismatch with element 5091:\n",
      "\n",
      "chunkshape = (100, 10088)\n",
      "Mismatch with element 5092:\n",
      "\n",
      "chunkshape = (100, 10088)\n",
      "Mismatch with element 5093:\n",
      "\n",
      "chunkshape = (100, 10088)\n",
      "Mismatch with element 5094:\n",
      "\n",
      "chunkshape = (100, 10088)\n",
      "Mismatch with element 5095:\n",
      "\n",
      "chunkshape = (100, 10088)\n",
      "Mismatch with element 5096:\n",
      "\n",
      "chunkshape = (100, 10088)\n",
      "Mismatch with element 5097:\n",
      "\n",
      "chunkshape = (100, 10088)\n",
      "Mismatch with element 5098:\n",
      "\n",
      "chunkshape = (100, 10088)\n",
      "Mismatch with element 5099:\n",
      "\n",
      "chunkshape = (100, 10088)\n"
     ]
    }
   ],
   "source": [
    "df = df_rows_5000_ccm_100_lstm_100\n",
    "dataID = \"rows_5000_ccm_100_lstm_100\"\n",
    "h5path = store_series_of_lists_in_h5file(df, dataID, \n",
    "                                         \"sigccm\", \"Attack\") "
   ]
  },
  {
   "cell_type": "code",
   "execution_count": 219,
   "metadata": {},
   "outputs": [
    {
     "data": {
      "text/plain": [
       "'data/rows_5000_ccm_100_lstm_100/rows_5000_ccm_100_lstm_100.h5'"
      ]
     },
     "execution_count": 219,
     "metadata": {},
     "output_type": "execute_result"
    }
   ],
   "source": [
    "h5path"
   ]
  },
  {
   "cell_type": "markdown",
   "metadata": {},
   "source": [
    "Time steps have been added. Store the results for the test data."
   ]
  },
  {
   "cell_type": "code",
   "execution_count": 129,
   "metadata": {},
   "outputs": [
    {
     "name": "stdout",
     "output_type": "stream",
     "text": [
      "Mismatch with element 901:\n",
      "\n",
      "chunkshape = (100, 10088)\n",
      "Mismatch with element 902:\n",
      "\n",
      "chunkshape = (100, 10088)\n",
      "Mismatch with element 903:\n",
      "\n",
      "chunkshape = (100, 10088)\n",
      "Mismatch with element 904:\n",
      "\n",
      "chunkshape = (100, 10088)\n",
      "Mismatch with element 905:\n",
      "\n",
      "chunkshape = (100, 10088)\n",
      "Mismatch with element 906:\n",
      "\n",
      "chunkshape = (100, 10088)\n",
      "Mismatch with element 907:\n",
      "\n",
      "chunkshape = (100, 10088)\n",
      "Mismatch with element 908:\n",
      "\n",
      "chunkshape = (100, 10088)\n",
      "Mismatch with element 909:\n",
      "\n",
      "chunkshape = (100, 10088)\n",
      "Mismatch with element 910:\n",
      "\n",
      "chunkshape = (100, 10088)\n",
      "Mismatch with element 911:\n",
      "\n",
      "chunkshape = (100, 10088)\n",
      "Mismatch with element 912:\n",
      "\n",
      "chunkshape = (100, 10088)\n",
      "Mismatch with element 913:\n",
      "\n",
      "chunkshape = (100, 10088)\n",
      "Mismatch with element 914:\n",
      "\n",
      "chunkshape = (100, 10088)\n",
      "Mismatch with element 915:\n",
      "\n",
      "chunkshape = (100, 10088)\n",
      "Mismatch with element 916:\n",
      "\n",
      "chunkshape = (100, 10088)\n",
      "Mismatch with element 917:\n",
      "\n",
      "chunkshape = (100, 10088)\n",
      "Mismatch with element 918:\n",
      "\n",
      "chunkshape = (100, 10088)\n",
      "Mismatch with element 919:\n",
      "\n",
      "chunkshape = (100, 10088)\n",
      "Mismatch with element 920:\n",
      "\n",
      "chunkshape = (100, 10088)\n",
      "Mismatch with element 921:\n",
      "\n",
      "chunkshape = (100, 10088)\n",
      "Mismatch with element 922:\n",
      "\n",
      "chunkshape = (100, 10088)\n",
      "Mismatch with element 923:\n",
      "\n",
      "chunkshape = (100, 10088)\n",
      "Mismatch with element 924:\n",
      "\n",
      "chunkshape = (100, 10088)\n",
      "Mismatch with element 925:\n",
      "\n",
      "chunkshape = (100, 10088)\n",
      "Mismatch with element 926:\n",
      "\n",
      "chunkshape = (100, 10088)\n",
      "Mismatch with element 927:\n",
      "\n",
      "chunkshape = (100, 10088)\n",
      "Mismatch with element 928:\n",
      "\n",
      "chunkshape = (100, 10088)\n",
      "Mismatch with element 929:\n",
      "\n",
      "chunkshape = (100, 10088)\n",
      "Mismatch with element 930:\n",
      "\n",
      "chunkshape = (100, 10088)\n",
      "Mismatch with element 931:\n",
      "\n",
      "chunkshape = (100, 10088)\n",
      "Mismatch with element 932:\n",
      "\n",
      "chunkshape = (100, 10088)\n",
      "Mismatch with element 933:\n",
      "\n",
      "chunkshape = (100, 10088)\n",
      "Mismatch with element 934:\n",
      "\n",
      "chunkshape = (100, 10088)\n",
      "Mismatch with element 935:\n",
      "\n",
      "chunkshape = (100, 10088)\n",
      "Mismatch with element 936:\n",
      "\n",
      "chunkshape = (100, 10088)\n",
      "Mismatch with element 937:\n",
      "\n",
      "chunkshape = (100, 10088)\n",
      "Mismatch with element 938:\n",
      "\n",
      "chunkshape = (100, 10088)\n",
      "Mismatch with element 939:\n",
      "\n",
      "chunkshape = (100, 10088)\n",
      "Mismatch with element 940:\n",
      "\n",
      "chunkshape = (100, 10088)\n",
      "Mismatch with element 941:\n",
      "\n",
      "chunkshape = (100, 10088)\n",
      "Mismatch with element 942:\n",
      "\n",
      "chunkshape = (100, 10088)\n",
      "Mismatch with element 943:\n",
      "\n",
      "chunkshape = (100, 10088)\n",
      "Mismatch with element 944:\n",
      "\n",
      "chunkshape = (100, 10088)\n",
      "Mismatch with element 945:\n",
      "\n",
      "chunkshape = (100, 10088)\n",
      "Mismatch with element 946:\n",
      "\n",
      "chunkshape = (100, 10088)\n",
      "Mismatch with element 947:\n",
      "\n",
      "chunkshape = (100, 10088)\n",
      "Mismatch with element 948:\n",
      "\n",
      "chunkshape = (100, 10088)\n",
      "Mismatch with element 949:\n",
      "\n",
      "chunkshape = (100, 10088)\n",
      "Mismatch with element 950:\n",
      "\n",
      "chunkshape = (100, 10088)\n",
      "Mismatch with element 951:\n",
      "\n",
      "chunkshape = (100, 10088)\n",
      "Mismatch with element 952:\n",
      "\n",
      "chunkshape = (100, 10088)\n",
      "Mismatch with element 953:\n",
      "\n",
      "chunkshape = (100, 10088)\n",
      "Mismatch with element 954:\n",
      "\n",
      "chunkshape = (100, 10088)\n",
      "Mismatch with element 955:\n",
      "\n",
      "chunkshape = (100, 10088)\n",
      "Mismatch with element 956:\n",
      "\n",
      "chunkshape = (100, 10088)\n",
      "Mismatch with element 957:\n",
      "\n",
      "chunkshape = (100, 10088)\n",
      "Mismatch with element 958:\n",
      "\n",
      "chunkshape = (100, 10088)\n",
      "Mismatch with element 959:\n",
      "\n",
      "chunkshape = (100, 10088)\n",
      "Mismatch with element 960:\n",
      "\n",
      "chunkshape = (100, 10088)\n",
      "Mismatch with element 961:\n",
      "\n",
      "chunkshape = (100, 10088)\n",
      "Mismatch with element 962:\n",
      "\n",
      "chunkshape = (100, 10088)\n",
      "Mismatch with element 963:\n",
      "\n",
      "chunkshape = (100, 10088)\n",
      "Mismatch with element 964:\n",
      "\n",
      "chunkshape = (100, 10088)\n",
      "Mismatch with element 965:\n",
      "\n",
      "chunkshape = (100, 10088)\n",
      "Mismatch with element 966:\n",
      "\n",
      "chunkshape = (100, 10088)\n",
      "Mismatch with element 967:\n",
      "\n",
      "chunkshape = (100, 10088)\n",
      "Mismatch with element 968:\n",
      "\n",
      "chunkshape = (100, 10088)\n",
      "Mismatch with element 969:\n",
      "\n",
      "chunkshape = (100, 10088)\n",
      "Mismatch with element 970:\n",
      "\n",
      "chunkshape = (100, 10088)\n",
      "Mismatch with element 971:\n",
      "\n",
      "chunkshape = (100, 10088)\n",
      "Mismatch with element 972:\n",
      "\n",
      "chunkshape = (100, 10088)\n",
      "Mismatch with element 973:\n",
      "\n",
      "chunkshape = (100, 10088)\n",
      "Mismatch with element 974:\n",
      "\n",
      "chunkshape = (100, 10088)\n",
      "Mismatch with element 975:\n",
      "\n",
      "chunkshape = (100, 10088)\n",
      "Mismatch with element 976:\n",
      "\n",
      "chunkshape = (100, 10088)\n",
      "Mismatch with element 977:\n",
      "\n",
      "chunkshape = (100, 10088)\n",
      "Mismatch with element 978:\n",
      "\n",
      "chunkshape = (100, 10088)\n",
      "Mismatch with element 979:\n",
      "\n",
      "chunkshape = (100, 10088)\n",
      "Mismatch with element 980:\n",
      "\n",
      "chunkshape = (100, 10088)\n",
      "Mismatch with element 981:\n",
      "\n",
      "chunkshape = (100, 10088)\n",
      "Mismatch with element 982:\n",
      "\n",
      "chunkshape = (100, 10088)\n",
      "Mismatch with element 983:\n",
      "\n",
      "chunkshape = (100, 10088)\n",
      "Mismatch with element 984:\n",
      "\n",
      "chunkshape = (100, 10088)\n",
      "Mismatch with element 985:\n",
      "\n",
      "chunkshape = (100, 10088)\n",
      "Mismatch with element 986:\n",
      "\n",
      "chunkshape = (100, 10088)\n",
      "Mismatch with element 987:\n",
      "\n",
      "chunkshape = (100, 10088)\n",
      "Mismatch with element 988:\n",
      "\n",
      "chunkshape = (100, 10088)\n",
      "Mismatch with element 989:\n",
      "\n",
      "chunkshape = (100, 10088)\n",
      "Mismatch with element 990:\n",
      "\n",
      "chunkshape = (100, 10088)\n",
      "Mismatch with element 991:\n",
      "\n",
      "chunkshape = (100, 10088)\n",
      "Mismatch with element 992:\n",
      "\n",
      "chunkshape = (100, 10088)\n",
      "Mismatch with element 993:\n",
      "\n",
      "chunkshape = (100, 10088)\n",
      "Mismatch with element 994:\n",
      "\n",
      "chunkshape = (100, 10088)\n",
      "Mismatch with element 995:\n",
      "\n",
      "chunkshape = (100, 10088)\n",
      "Mismatch with element 996:\n",
      "\n",
      "chunkshape = (100, 10088)\n",
      "Mismatch with element 997:\n",
      "\n",
      "chunkshape = (100, 10088)\n",
      "Mismatch with element 998:\n",
      "\n",
      "chunkshape = (100, 10088)\n",
      "Mismatch with element 999:\n",
      "\n",
      "chunkshape = (100, 10088)\n"
     ]
    }
   ],
   "source": [
    "df = df_rows_5000to6000_ccm_100_lstm_100\n",
    "dataID = \"rows_5000to6000_ccm_100_lstm_100\"\n",
    "h5path = store_series_of_lists_in_h5file(df, dataID, \n",
    "                                         \"sigccm\", \"Attack\")"
   ]
  },
  {
   "cell_type": "code",
   "execution_count": 130,
   "metadata": {},
   "outputs": [
    {
     "data": {
      "text/plain": [
       "'data/rows_5000to6000_ccm_100_lstm_100/rows_5000to6000_ccm_100_lstm_100.h5'"
      ]
     },
     "execution_count": 130,
     "metadata": {},
     "output_type": "execute_result"
    }
   ],
   "source": [
    "h5path"
   ]
  },
  {
   "cell_type": "markdown",
   "metadata": {},
   "source": [
    "Miscellaneous info about shape of data."
   ]
  },
  {
   "cell_type": "code",
   "execution_count": 167,
   "metadata": {},
   "outputs": [
    {
     "data": {
      "text/plain": [
       "(5100, 91)"
      ]
     },
     "execution_count": 167,
     "metadata": {},
     "output_type": "execute_result"
    }
   ],
   "source": [
    "df_rows_5000_ccm_100_lstm_100.shape"
   ]
  },
  {
   "cell_type": "code",
   "execution_count": 173,
   "metadata": {
    "collapsed": true
   },
   "outputs": [],
   "source": [
    "sigccm = df_rows_5000_ccm_100_lstm_100[\"sigccm\"]"
   ]
  },
  {
   "cell_type": "code",
   "execution_count": 174,
   "metadata": {},
   "outputs": [
    {
     "data": {
      "text/plain": [
       "(100, 10088)"
      ]
     },
     "execution_count": 174,
     "metadata": {},
     "output_type": "execute_result"
    }
   ],
   "source": [
    "pd.DataFrame(sigccm[0]).shape"
   ]
  },
  {
   "cell_type": "code",
   "execution_count": 213,
   "metadata": {},
   "outputs": [
    {
     "data": {
      "text/plain": [
       "(5100, 1)"
      ]
     },
     "execution_count": 213,
     "metadata": {},
     "output_type": "execute_result"
    }
   ],
   "source": [
    "pd.DataFrame(df[\"Attack\"]).shape"
   ]
  },
  {
   "cell_type": "code",
   "execution_count": 261,
   "metadata": {
    "collapsed": true
   },
   "outputs": [],
   "source": [
    "attack2 = df_rows_5000_ccm_100_lstm_100[\"Attack\"]"
   ]
  },
  {
   "cell_type": "code",
   "execution_count": 262,
   "metadata": {},
   "outputs": [
    {
     "data": {
      "text/plain": [
       "(5100,)"
      ]
     },
     "execution_count": 262,
     "metadata": {},
     "output_type": "execute_result"
    }
   ],
   "source": [
    "attack2.shape"
   ]
  },
  {
   "cell_type": "code",
   "execution_count": 263,
   "metadata": {},
   "outputs": [
    {
     "data": {
      "text/plain": [
       "1.0"
      ]
     },
     "execution_count": 263,
     "metadata": {},
     "output_type": "execute_result"
    }
   ],
   "source": [
    "attack2[0]"
   ]
  },
  {
   "cell_type": "markdown",
   "metadata": {},
   "source": [
    "## Pandas IO Tools\n",
    "\n",
    "* [Pandas IO Tools](https://pandas.pydata.org/pandas-docs/stable/user_guide/io.html) "
   ]
  },
  {
   "cell_type": "markdown",
   "metadata": {},
   "source": [
    "**Storing huge 2D lists**"
   ]
  },
  {
   "cell_type": "code",
   "execution_count": null,
   "metadata": {
    "collapsed": true
   },
   "outputs": [],
   "source": [
    "# df = df_rows_5000_ccm_100_lstm_100.copy()"
   ]
  },
  {
   "cell_type": "code",
   "execution_count": 5,
   "metadata": {
    "collapsed": true
   },
   "outputs": [],
   "source": [
    "sigccm = df[\"sigccm\"]"
   ]
  },
  {
   "cell_type": "code",
   "execution_count": 7,
   "metadata": {},
   "outputs": [
    {
     "data": {
      "text/plain": [
       "0    [[0.5943655, 0.9374445, 0.4947335, 0.389245, 0...\n",
       "1    [[0.5943655, 0.9374445, 0.4950527, 0.37161678,...\n",
       "2    [[0.5943655, 0.9374445, 0.5639962, 0.65135324,...\n",
       "3    [[0.5943655, 0.9374445, 0.51292694, 0.37143874...\n",
       "4    [[0.5943655, 0.9374445, 0.49792534, 0.41417378...\n",
       "Name: sigccm, dtype: object"
      ]
     },
     "execution_count": 7,
     "metadata": {},
     "output_type": "execute_result"
    }
   ],
   "source": [
    "sigccm.head()"
   ]
  },
  {
   "cell_type": "code",
   "execution_count": 21,
   "metadata": {
    "collapsed": true
   },
   "outputs": [],
   "source": [
    "list2D = sigccm[0]"
   ]
  },
  {
   "cell_type": "code",
   "execution_count": 14,
   "metadata": {},
   "outputs": [
    {
     "data": {
      "text/plain": [
       "list"
      ]
     },
     "execution_count": 14,
     "metadata": {},
     "output_type": "execute_result"
    }
   ],
   "source": [
    "type(list2D)"
   ]
  },
  {
   "cell_type": "code",
   "execution_count": 13,
   "metadata": {},
   "outputs": [
    {
     "data": {
      "text/plain": [
       "(100, 10088)"
      ]
     },
     "execution_count": 13,
     "metadata": {},
     "output_type": "execute_result"
    }
   ],
   "source": [
    "pd.DataFrame(list2D).shape"
   ]
  },
  {
   "cell_type": "markdown",
   "metadata": {},
   "source": [
    "**Save 2D List with HD**"
   ]
  },
  {
   "cell_type": "markdown",
   "metadata": {},
   "source": [
    "Attempt to save it as a list. Fails with error: \n",
    "\n",
    "    TypeError: cannot properly create the storer for: [_TYPE_MAP] [group->/biglist (Group) '',value-><class 'list'>,format->table,append->True,kwargs->{'encoding': None, 'dropna': False}]"
   ]
  },
  {
   "cell_type": "code",
   "execution_count": 15,
   "metadata": {
    "collapsed": true
   },
   "outputs": [],
   "source": [
    ">> store = pd.HDFStore(\"junkBig2DList\", mode = 'w')\n",
    ">> store.append(\"biglist\", list2D) "
   ]
  },
  {
   "cell_type": "markdown",
   "metadata": {},
   "source": [
    "Attempt to save it as an array. Fails with error:\n",
    "\n",
    "    TypeError: cannot properly create the storer for: [_TYPE_MAP] [group->/biglist (Group) '',value-><class 'numpy.ndarray'>,format->table,append->True,kwargs->{'encoding': None, 'dropna': False}]"
   ]
  },
  {
   "cell_type": "code",
   "execution_count": 22,
   "metadata": {},
   "outputs": [
    {
     "data": {
      "text/plain": [
       "(100, 10088)"
      ]
     },
     "execution_count": 22,
     "metadata": {},
     "output_type": "execute_result"
    }
   ],
   "source": [
    "array2D = np.array(list2D)\n",
    "array2D.shape"
   ]
  },
  {
   "cell_type": "code",
   "execution_count": null,
   "metadata": {
    "collapsed": true
   },
   "outputs": [],
   "source": [
    ">> store = pd.HDFStore(\"junkBig2DList\", mode = 'w')\n",
    ">> store.append(\"biglist\", array2D)"
   ]
  },
  {
   "cell_type": "markdown",
   "metadata": {},
   "source": [
    "Attempt to save it as a dataframe **_also_** fails with the error:\n",
    "\n",
    "    End of HDF5 error back trace. Can't set attribute 'non_index_axes' in node:  /biglist (Group) ''.\n",
    "    \n",
    "Apparently, this occurs because the HDF5 format allows for a maximum of 2,000 columns. This [StackOverflow forum post](https://stackoverflow.com/questions/16639503/unable-to-save-dataframe-to-hdf5-object-header-message-is-too-large) explains:\n",
    "\n",
    "> HDF5 has a header limit of 64kb for all metadata of the columns. This include name, types, etc. When you go about roughly 2000 columns, you will run out of space to store all the metadata. This is a fundamental limitation of pytables. I don't think they will make workarounds on their side any time soon. You will either have to split the table up or choose another storage format."
   ]
  },
  {
   "cell_type": "code",
   "execution_count": 25,
   "metadata": {},
   "outputs": [
    {
     "data": {
      "text/plain": [
       "(100, 10088)"
      ]
     },
     "execution_count": 25,
     "metadata": {},
     "output_type": "execute_result"
    }
   ],
   "source": [
    "df2D = pd.DataFrame(list2D)\n",
    "df2D.shape"
   ]
  },
  {
   "cell_type": "code",
   "execution_count": 29,
   "metadata": {},
   "outputs": [
    {
     "data": {
      "text/html": [
       "<div>\n",
       "<style scoped>\n",
       "    .dataframe tbody tr th:only-of-type {\n",
       "        vertical-align: middle;\n",
       "    }\n",
       "\n",
       "    .dataframe tbody tr th {\n",
       "        vertical-align: top;\n",
       "    }\n",
       "\n",
       "    .dataframe thead th {\n",
       "        text-align: right;\n",
       "    }\n",
       "</style>\n",
       "<table border=\"1\" class=\"dataframe\">\n",
       "  <thead>\n",
       "    <tr style=\"text-align: right;\">\n",
       "      <th></th>\n",
       "      <th>0</th>\n",
       "      <th>1</th>\n",
       "      <th>2</th>\n",
       "      <th>3</th>\n",
       "      <th>4</th>\n",
       "      <th>5</th>\n",
       "      <th>6</th>\n",
       "      <th>7</th>\n",
       "      <th>8</th>\n",
       "      <th>9</th>\n",
       "      <th>...</th>\n",
       "      <th>10078</th>\n",
       "      <th>10079</th>\n",
       "      <th>10080</th>\n",
       "      <th>10081</th>\n",
       "      <th>10082</th>\n",
       "      <th>10083</th>\n",
       "      <th>10084</th>\n",
       "      <th>10085</th>\n",
       "      <th>10086</th>\n",
       "      <th>10087</th>\n",
       "    </tr>\n",
       "  </thead>\n",
       "  <tbody>\n",
       "    <tr>\n",
       "      <th>0</th>\n",
       "      <td>0.594365</td>\n",
       "      <td>0.937445</td>\n",
       "      <td>0.494734</td>\n",
       "      <td>0.389245</td>\n",
       "      <td>0.414776</td>\n",
       "      <td>0.394848</td>\n",
       "      <td>0.478838</td>\n",
       "      <td>0.555175</td>\n",
       "      <td>0.573013</td>\n",
       "      <td>0.608837</td>\n",
       "      <td>...</td>\n",
       "      <td>0.0</td>\n",
       "      <td>0.0</td>\n",
       "      <td>0.0</td>\n",
       "      <td>0.0</td>\n",
       "      <td>0.0</td>\n",
       "      <td>0.0</td>\n",
       "      <td>0.0</td>\n",
       "      <td>0.0</td>\n",
       "      <td>0.0</td>\n",
       "      <td>0.0</td>\n",
       "    </tr>\n",
       "    <tr>\n",
       "      <th>1</th>\n",
       "      <td>0.594365</td>\n",
       "      <td>0.937445</td>\n",
       "      <td>0.495053</td>\n",
       "      <td>0.371617</td>\n",
       "      <td>0.397884</td>\n",
       "      <td>0.377382</td>\n",
       "      <td>0.479147</td>\n",
       "      <td>0.555578</td>\n",
       "      <td>0.573383</td>\n",
       "      <td>0.608837</td>\n",
       "      <td>...</td>\n",
       "      <td>0.0</td>\n",
       "      <td>0.0</td>\n",
       "      <td>0.0</td>\n",
       "      <td>0.0</td>\n",
       "      <td>0.0</td>\n",
       "      <td>0.0</td>\n",
       "      <td>0.0</td>\n",
       "      <td>0.0</td>\n",
       "      <td>0.0</td>\n",
       "      <td>0.0</td>\n",
       "    </tr>\n",
       "  </tbody>\n",
       "</table>\n",
       "<p>2 rows × 10088 columns</p>\n",
       "</div>"
      ],
      "text/plain": [
       "      0         1         2         3         4         5         6      \\\n",
       "0  0.594365  0.937445  0.494734  0.389245  0.414776  0.394848  0.478838   \n",
       "1  0.594365  0.937445  0.495053  0.371617  0.397884  0.377382  0.479147   \n",
       "\n",
       "      7         8         9      ...  10078  10079  10080  10081  10082  \\\n",
       "0  0.555175  0.573013  0.608837  ...    0.0    0.0    0.0    0.0    0.0   \n",
       "1  0.555578  0.573383  0.608837  ...    0.0    0.0    0.0    0.0    0.0   \n",
       "\n",
       "   10083  10084  10085  10086  10087  \n",
       "0    0.0    0.0    0.0    0.0    0.0  \n",
       "1    0.0    0.0    0.0    0.0    0.0  \n",
       "\n",
       "[2 rows x 10088 columns]"
      ]
     },
     "execution_count": 29,
     "metadata": {},
     "output_type": "execute_result"
    }
   ],
   "source": [
    "df2D[:2]"
   ]
  },
  {
   "cell_type": "code",
   "execution_count": null,
   "metadata": {
    "collapsed": true
   },
   "outputs": [],
   "source": [
    "# This fails:\n",
    ">> store = pd.HDFStore(\"junkBig2DList\", mode = 'w')\n",
    ">> store.append(\"biglist\", df2D)"
   ]
  },
  {
   "cell_type": "code",
   "execution_count": 36,
   "metadata": {
    "collapsed": true
   },
   "outputs": [],
   "source": [
    "store.close()"
   ]
  },
  {
   "cell_type": "markdown",
   "metadata": {},
   "source": [
    "<font color=\"blue\">**However, as explained by one of the comments in the StackOverflow forum, if you specify fixed format, it works!**</font>"
   ]
  },
  {
   "cell_type": "code",
   "execution_count": 32,
   "metadata": {
    "collapsed": true
   },
   "outputs": [],
   "source": [
    "df2D.to_hdf(\"junkBig2DList\",'biglist',format='f')"
   ]
  },
  {
   "cell_type": "code",
   "execution_count": 33,
   "metadata": {
    "collapsed": true
   },
   "outputs": [],
   "source": [
    "df2D_imported = pd.read_hdf(\"junkBig2DList\",'biglist')"
   ]
  },
  {
   "cell_type": "code",
   "execution_count": 35,
   "metadata": {},
   "outputs": [
    {
     "data": {
      "text/html": [
       "<div>\n",
       "<style scoped>\n",
       "    .dataframe tbody tr th:only-of-type {\n",
       "        vertical-align: middle;\n",
       "    }\n",
       "\n",
       "    .dataframe tbody tr th {\n",
       "        vertical-align: top;\n",
       "    }\n",
       "\n",
       "    .dataframe thead th {\n",
       "        text-align: right;\n",
       "    }\n",
       "</style>\n",
       "<table border=\"1\" class=\"dataframe\">\n",
       "  <thead>\n",
       "    <tr style=\"text-align: right;\">\n",
       "      <th></th>\n",
       "      <th>0</th>\n",
       "      <th>1</th>\n",
       "      <th>2</th>\n",
       "      <th>3</th>\n",
       "      <th>4</th>\n",
       "      <th>5</th>\n",
       "      <th>6</th>\n",
       "      <th>7</th>\n",
       "      <th>8</th>\n",
       "      <th>9</th>\n",
       "      <th>...</th>\n",
       "      <th>10078</th>\n",
       "      <th>10079</th>\n",
       "      <th>10080</th>\n",
       "      <th>10081</th>\n",
       "      <th>10082</th>\n",
       "      <th>10083</th>\n",
       "      <th>10084</th>\n",
       "      <th>10085</th>\n",
       "      <th>10086</th>\n",
       "      <th>10087</th>\n",
       "    </tr>\n",
       "  </thead>\n",
       "  <tbody>\n",
       "    <tr>\n",
       "      <th>0</th>\n",
       "      <td>0.594365</td>\n",
       "      <td>0.937445</td>\n",
       "      <td>0.494734</td>\n",
       "      <td>0.389245</td>\n",
       "      <td>0.414776</td>\n",
       "      <td>0.394848</td>\n",
       "      <td>0.478838</td>\n",
       "      <td>0.555175</td>\n",
       "      <td>0.573013</td>\n",
       "      <td>0.608837</td>\n",
       "      <td>...</td>\n",
       "      <td>0.0</td>\n",
       "      <td>0.0</td>\n",
       "      <td>0.0</td>\n",
       "      <td>0.0</td>\n",
       "      <td>0.0</td>\n",
       "      <td>0.0</td>\n",
       "      <td>0.0</td>\n",
       "      <td>0.0</td>\n",
       "      <td>0.0</td>\n",
       "      <td>0.0</td>\n",
       "    </tr>\n",
       "    <tr>\n",
       "      <th>1</th>\n",
       "      <td>0.594365</td>\n",
       "      <td>0.937445</td>\n",
       "      <td>0.495053</td>\n",
       "      <td>0.371617</td>\n",
       "      <td>0.397884</td>\n",
       "      <td>0.377382</td>\n",
       "      <td>0.479147</td>\n",
       "      <td>0.555578</td>\n",
       "      <td>0.573383</td>\n",
       "      <td>0.608837</td>\n",
       "      <td>...</td>\n",
       "      <td>0.0</td>\n",
       "      <td>0.0</td>\n",
       "      <td>0.0</td>\n",
       "      <td>0.0</td>\n",
       "      <td>0.0</td>\n",
       "      <td>0.0</td>\n",
       "      <td>0.0</td>\n",
       "      <td>0.0</td>\n",
       "      <td>0.0</td>\n",
       "      <td>0.0</td>\n",
       "    </tr>\n",
       "  </tbody>\n",
       "</table>\n",
       "<p>2 rows × 10088 columns</p>\n",
       "</div>"
      ],
      "text/plain": [
       "      0         1         2         3         4         5         6      \\\n",
       "0  0.594365  0.937445  0.494734  0.389245  0.414776  0.394848  0.478838   \n",
       "1  0.594365  0.937445  0.495053  0.371617  0.397884  0.377382  0.479147   \n",
       "\n",
       "      7         8         9      ...  10078  10079  10080  10081  10082  \\\n",
       "0  0.555175  0.573013  0.608837  ...    0.0    0.0    0.0    0.0    0.0   \n",
       "1  0.555578  0.573383  0.608837  ...    0.0    0.0    0.0    0.0    0.0   \n",
       "\n",
       "   10083  10084  10085  10086  10087  \n",
       "0    0.0    0.0    0.0    0.0    0.0  \n",
       "1    0.0    0.0    0.0    0.0    0.0  \n",
       "\n",
       "[2 rows x 10088 columns]"
      ]
     },
     "execution_count": 35,
     "metadata": {},
     "output_type": "execute_result"
    }
   ],
   "source": [
    "df2D_imported[:2]"
   ]
  },
  {
   "cell_type": "markdown",
   "metadata": {},
   "source": [
    "Saving a huge 2D list using `h5py`.\n",
    "\n",
    "Try chunking as described in [this article](https://www.oreilly.com/library/view/python-and-hdf5/9781491944981/ch04.html)."
   ]
  },
  {
   "cell_type": "code",
   "execution_count": null,
   "metadata": {
    "collapsed": true
   },
   "outputs": [],
   "source": [
    ">>> f = h5py.File(\"imagetest.hdf5\")\n",
    ">>> dset = f.create_dataset(\"Images\", (100, 480, 640), dtype='uint8')\n",
    ">>> dset = f.create_dataset('chunked', \n",
    "                            (100,480,640), \n",
    "                             dtype='i1', \n",
    "                             chunks=(1,64,64))"
   ]
  },
  {
   "cell_type": "code",
   "execution_count": 80,
   "metadata": {
    "collapsed": true
   },
   "outputs": [],
   "source": [
    "f = h5py.File(\"junkBig2DList.h5\") "
   ]
  },
  {
   "cell_type": "code",
   "execution_count": 81,
   "metadata": {
    "collapsed": true
   },
   "outputs": [],
   "source": [
    "dset = f.create_dataset('biglist', (5000,100,10000), \n",
    "                             dtype='f', \n",
    "                             chunks=(1,100,10000))"
   ]
  },
  {
   "cell_type": "code",
   "execution_count": 82,
   "metadata": {},
   "outputs": [
    {
     "data": {
      "text/plain": [
       "(100, 10088)"
      ]
     },
     "execution_count": 82,
     "metadata": {},
     "output_type": "execute_result"
    }
   ],
   "source": [
    "pd.DataFrame(list2D).shape"
   ]
  },
  {
   "cell_type": "code",
   "execution_count": 83,
   "metadata": {},
   "outputs": [
    {
     "data": {
      "text/plain": [
       "(1, 100, 10000)"
      ]
     },
     "execution_count": 83,
     "metadata": {},
     "output_type": "execute_result"
    }
   ],
   "source": [
    "a = np.array(list3D)\n",
    "b = np.resize(a, (1, 100, 10000))\n",
    "b.shape"
   ]
  },
  {
   "cell_type": "markdown",
   "metadata": {},
   "source": [
    "Here we successfully assign a (100, 10000) array to the first 3 elements of the dataset."
   ]
  },
  {
   "cell_type": "code",
   "execution_count": 84,
   "metadata": {
    "collapsed": true
   },
   "outputs": [],
   "source": [
    "dset[0] = b\n",
    "dset[1] = b\n",
    "dset[2] = b"
   ]
  },
  {
   "cell_type": "code",
   "execution_count": 85,
   "metadata": {
    "collapsed": true
   },
   "outputs": [],
   "source": [
    "f.close()"
   ]
  },
  {
   "cell_type": "markdown",
   "metadata": {},
   "source": [
    "Unfortunately, you can't open the dataset with `read_hdf`"
   ]
  },
  {
   "cell_type": "markdown",
   "metadata": {},
   "source": [
    "`pd_file = pd.read_hdf('junkBig2DList.h5', 'biglist')`\n",
    "\n",
    "    TypeError: cannot create a storer if the object is not existing nor a value are passed"
   ]
  },
  {
   "cell_type": "markdown",
   "metadata": {},
   "source": [
    "But if you open it with `h5py` in read mode, you can then extract the dataset (array) elements one at a time."
   ]
  },
  {
   "cell_type": "code",
   "execution_count": 88,
   "metadata": {
    "collapsed": true
   },
   "outputs": [],
   "source": [
    "f = h5py.File('junkBig2DList.h5', 'r')"
   ]
  },
  {
   "cell_type": "code",
   "execution_count": 89,
   "metadata": {},
   "outputs": [
    {
     "data": {
      "text/plain": [
       "['biglist']"
      ]
     },
     "execution_count": 89,
     "metadata": {},
     "output_type": "execute_result"
    }
   ],
   "source": [
    "list(f.keys())"
   ]
  },
  {
   "cell_type": "code",
   "execution_count": 90,
   "metadata": {
    "collapsed": true
   },
   "outputs": [],
   "source": [
    "x = f[\"biglist\"]"
   ]
  },
  {
   "cell_type": "code",
   "execution_count": 92,
   "metadata": {},
   "outputs": [
    {
     "data": {
      "text/plain": [
       "(h5py._hl.dataset.Dataset, (5000, 100, 10000))"
      ]
     },
     "execution_count": 92,
     "metadata": {},
     "output_type": "execute_result"
    }
   ],
   "source": [
    "type(x), x.shape"
   ]
  },
  {
   "cell_type": "code",
   "execution_count": 95,
   "metadata": {},
   "outputs": [
    {
     "data": {
      "text/plain": [
       "(numpy.ndarray, (100, 10000))"
      ]
     },
     "execution_count": 95,
     "metadata": {},
     "output_type": "execute_result"
    }
   ],
   "source": [
    "z = x[0]\n",
    "type(z), z.shape"
   ]
  },
  {
   "cell_type": "code",
   "execution_count": null,
   "metadata": {
    "collapsed": true
   },
   "outputs": [],
   "source": []
  },
  {
   "cell_type": "markdown",
   "metadata": {},
   "source": [
    "**Save 3D List with PyArrow**"
   ]
  },
  {
   "cell_type": "code",
   "execution_count": null,
   "metadata": {
    "collapsed": true
   },
   "outputs": [],
   "source": []
  },
  {
   "cell_type": "markdown",
   "metadata": {},
   "source": [
    "### HDF5 Files\n",
    "\n",
    "* [Pandas IO Tools](https://pandas.pydata.org/pandas-docs/stable/user_guide/io.html) \n",
    "* [Chunking with HDF5 Datasets](https://www.oreilly.com/library/view/python-and-hdf5/9781491944981/ch04.html)\n",
    "* [How to store a very large 3 dimensional matrix in HDF5 format](https://stackoverflow.com/questions/42053308/how-to-store-very-large-3-dimensional-matrix-in-hdf5-format)\n",
    "* [How to use HDF5 files in Python](https://www.pythonforthelab.com/blog/how-to-use-hdf5-files-in-python/)\n",
    "* [The Blaze Ecosystem](http://blaze.pydata.org/)\n",
    "* [Using pandas with large datasets](https://www.dataquest.io/blog/pandas-big-data/)\n",
    "* [How to save and load large pandas dataframes.\n",
    "](https://metarabbit.wordpress.com/2013/12/10/how-to-save-load-large-pandas-dataframes/)\n",
    "* [Efficiently Store Pandas DataFrames](http://matthewrocklin.com/blog/work/2015/03/16/Fast-Serialization)\n",
    "* [pandas HDFStore - how to reopen?](https://stackoverflow.com/questions/14591855/pandas-hdfstore-how-to-reopen/24608109) \n",
    "* [HDFStore appending for mixed datatypes](https://github.com/pandas-dev/pandas/issues/3032) \n",
    "* [Storing Padas objects along with regular Python objects in HDF5](https://stackoverflow.com/questions/17820071/storing-pandas-objects-along-with-regular-python-objects-in-hdf5) \n",
    "* [Pandas Cookbook - HDFStore](https://pandas.pydata.org/pandas-docs/stable/user_guide/cookbook.html) \n",
    "  * Managing heterogeneous data\n",
    "  * Creating a store chunk-by-chunk from a CSV file\n",
    "  * Appending to a store, while creating a unique index\n",
    "* [Append large amounts of data to HDFStore with unique index](https://stackoverflow.com/questions/16997048/how-does-one-append-large-amounts-of-data-to-a-pandas-hdfstore-and-get-a-natural) \n",
    "* [Pickle dump huge file without memory error - klepto, hinkle](https://stackoverflow.com/questions/17513036/pickle-dump-huge-file-without-memory-error) \n",
    "* [Large data work flows using pandas](https://stackoverflow.com/questions/14262433/large-data-work-flows-using-pandas) \n",
    "* [How to store a dataframe using pandas](https://stackoverflow.com/questions/17098654/how-to-store-a-dataframe-using-pandas)"
   ]
  },
  {
   "cell_type": "code",
   "execution_count": 61,
   "metadata": {},
   "outputs": [
    {
     "data": {
      "text/html": [
       "<div>\n",
       "<style scoped>\n",
       "    .dataframe tbody tr th:only-of-type {\n",
       "        vertical-align: middle;\n",
       "    }\n",
       "\n",
       "    .dataframe tbody tr th {\n",
       "        vertical-align: top;\n",
       "    }\n",
       "\n",
       "    .dataframe thead th {\n",
       "        text-align: right;\n",
       "    }\n",
       "</style>\n",
       "<table border=\"1\" class=\"dataframe\">\n",
       "  <thead>\n",
       "    <tr style=\"text-align: right;\">\n",
       "      <th></th>\n",
       "      <th>A</th>\n",
       "      <th>B</th>\n",
       "      <th>C</th>\n",
       "    </tr>\n",
       "  </thead>\n",
       "  <tbody>\n",
       "    <tr>\n",
       "      <th>0</th>\n",
       "      <td>1</td>\n",
       "      <td>2</td>\n",
       "      <td>3</td>\n",
       "    </tr>\n",
       "    <tr>\n",
       "      <th>1</th>\n",
       "      <td>4</td>\n",
       "      <td>5</td>\n",
       "      <td>6</td>\n",
       "    </tr>\n",
       "    <tr>\n",
       "      <th>2</th>\n",
       "      <td>7</td>\n",
       "      <td>8</td>\n",
       "      <td>9</td>\n",
       "    </tr>\n",
       "  </tbody>\n",
       "</table>\n",
       "</div>"
      ],
      "text/plain": [
       "   A  B  C\n",
       "0  1  2  3\n",
       "1  4  5  6\n",
       "2  7  8  9"
      ]
     },
     "execution_count": 61,
     "metadata": {},
     "output_type": "execute_result"
    }
   ],
   "source": [
    "x_junk1 = np.array([[1, 2, 3], [4, 5, 6], [7, 8, 9]])\n",
    "x_junk2 = np.array([[11, 12, 13], [14, 15, 16], [17, 18, 19]])\n",
    "x_junk3 = np.array([[21, 22, 23], [24, 25, 26], [27, 28, 29]])\n",
    "\n",
    "df_junk1 = pd.DataFrame(x_junk1, columns = [\"A\", \"B\", \"C\"])\n",
    "df_junk2 = pd.DataFrame(x_junk2, columns = [\"A\", \"B\", \"C\"])\n",
    "df_junk3 = pd.DataFrame(x_junk3, columns = [\"A\", \"B\", \"C\"])\n",
    "\n",
    "df_junk1"
   ]
  },
  {
   "cell_type": "code",
   "execution_count": 60,
   "metadata": {
    "collapsed": true
   },
   "outputs": [],
   "source": [
    "store = pd.HDFStore(\"junk2\", mode = 'w')"
   ]
  },
  {
   "cell_type": "code",
   "execution_count": 43,
   "metadata": {
    "collapsed": true
   },
   "outputs": [],
   "source": [
    "store.append(\"junk1\", df_junk1)\n",
    "store.append(\"junk2\", df_junk2)\n",
    "store.append(\"junk3\", df_junk3)"
   ]
  },
  {
   "cell_type": "code",
   "execution_count": 59,
   "metadata": {
    "collapsed": true
   },
   "outputs": [],
   "source": [
    "store.close()"
   ]
  },
  {
   "cell_type": "code",
   "execution_count": 46,
   "metadata": {
    "collapsed": true
   },
   "outputs": [],
   "source": [
    "df = pd.read_hdf(\"junk\", \"junk3\")"
   ]
  },
  {
   "cell_type": "code",
   "execution_count": 47,
   "metadata": {},
   "outputs": [
    {
     "data": {
      "text/html": [
       "<div>\n",
       "<style scoped>\n",
       "    .dataframe tbody tr th:only-of-type {\n",
       "        vertical-align: middle;\n",
       "    }\n",
       "\n",
       "    .dataframe tbody tr th {\n",
       "        vertical-align: top;\n",
       "    }\n",
       "\n",
       "    .dataframe thead th {\n",
       "        text-align: right;\n",
       "    }\n",
       "</style>\n",
       "<table border=\"1\" class=\"dataframe\">\n",
       "  <thead>\n",
       "    <tr style=\"text-align: right;\">\n",
       "      <th></th>\n",
       "      <th>A</th>\n",
       "      <th>B</th>\n",
       "      <th>C</th>\n",
       "    </tr>\n",
       "  </thead>\n",
       "  <tbody>\n",
       "    <tr>\n",
       "      <th>0</th>\n",
       "      <td>21</td>\n",
       "      <td>22</td>\n",
       "      <td>23</td>\n",
       "    </tr>\n",
       "    <tr>\n",
       "      <th>1</th>\n",
       "      <td>24</td>\n",
       "      <td>25</td>\n",
       "      <td>26</td>\n",
       "    </tr>\n",
       "    <tr>\n",
       "      <th>2</th>\n",
       "      <td>27</td>\n",
       "      <td>28</td>\n",
       "      <td>29</td>\n",
       "    </tr>\n",
       "  </tbody>\n",
       "</table>\n",
       "</div>"
      ],
      "text/plain": [
       "    A   B   C\n",
       "0  21  22  23\n",
       "1  24  25  26\n",
       "2  27  28  29"
      ]
     },
     "execution_count": 47,
     "metadata": {},
     "output_type": "execute_result"
    }
   ],
   "source": [
    "df"
   ]
  },
  {
   "cell_type": "markdown",
   "metadata": {},
   "source": [
    "Assign to an HDStore attribute."
   ]
  },
  {
   "cell_type": "code",
   "execution_count": 4,
   "metadata": {
    "collapsed": true
   },
   "outputs": [],
   "source": [
    "# THIS DOESN'T WORK\n",
    "# store.get_storer(\"trash1\").attrs.my_attribute = x_junk1 "
   ]
  },
  {
   "cell_type": "markdown",
   "metadata": {
    "collapsed": true
   },
   "source": [
    "Test with Torgi data."
   ]
  },
  {
   "cell_type": "code",
   "execution_count": 40,
   "metadata": {
    "collapsed": true
   },
   "outputs": [],
   "source": [
    "df_2rows = data.iloc[:2].copy()"
   ]
  },
  {
   "cell_type": "code",
   "execution_count": 32,
   "metadata": {
    "collapsed": true
   },
   "outputs": [],
   "source": [
    "# store.put(\"junk\", x_junk1, table = True)\n",
    "# store.put(\"junk\", df_junk, table = True)"
   ]
  },
  {
   "cell_type": "code",
   "execution_count": 4,
   "metadata": {
    "collapsed": true
   },
   "outputs": [],
   "source": [
    "store = pd.HDFStore(\"garbage1\")"
   ]
  },
  {
   "cell_type": "code",
   "execution_count": 6,
   "metadata": {},
   "outputs": [
    {
     "data": {
      "text/html": [
       "<div>\n",
       "<style scoped>\n",
       "    .dataframe tbody tr th:only-of-type {\n",
       "        vertical-align: middle;\n",
       "    }\n",
       "\n",
       "    .dataframe tbody tr th {\n",
       "        vertical-align: top;\n",
       "    }\n",
       "\n",
       "    .dataframe thead th {\n",
       "        text-align: right;\n",
       "    }\n",
       "</style>\n",
       "<table border=\"1\" class=\"dataframe\">\n",
       "  <thead>\n",
       "    <tr style=\"text-align: right;\">\n",
       "      <th></th>\n",
       "      <th>id</th>\n",
       "    </tr>\n",
       "  </thead>\n",
       "  <tbody>\n",
       "    <tr>\n",
       "      <th>0</th>\n",
       "      <td>g1</td>\n",
       "    </tr>\n",
       "  </tbody>\n",
       "</table>\n",
       "</div>"
      ],
      "text/plain": [
       "   id\n",
       "0  g1"
      ]
     },
     "execution_count": 6,
     "metadata": {},
     "output_type": "execute_result"
    }
   ],
   "source": [
    "df1 = pd.DataFrame([\"g1\"], columns = [\"id\"])\n",
    "df1"
   ]
  },
  {
   "cell_type": "code",
   "execution_count": 10,
   "metadata": {
    "collapsed": true
   },
   "outputs": [],
   "source": [
    "store.append(\"batch1\", df1)"
   ]
  },
  {
   "cell_type": "code",
   "execution_count": 7,
   "metadata": {
    "collapsed": true
   },
   "outputs": [],
   "source": [
    "x_junk1 = np.array([[1, 2, 3], [4, 5, 6], [7, 8, 9]])"
   ]
  },
  {
   "cell_type": "code",
   "execution_count": 11,
   "metadata": {
    "collapsed": true
   },
   "outputs": [],
   "source": [
    "store.get_storer(\"batch1\").attrs.my_attribute = x_junk1"
   ]
  },
  {
   "cell_type": "code",
   "execution_count": 12,
   "metadata": {},
   "outputs": [
    {
     "data": {
      "text/plain": [
       "['/batch1']"
      ]
     },
     "execution_count": 12,
     "metadata": {},
     "output_type": "execute_result"
    }
   ],
   "source": [
    "list(store)"
   ]
  },
  {
   "cell_type": "code",
   "execution_count": 14,
   "metadata": {},
   "outputs": [
    {
     "data": {
      "text/plain": [
       "(1, 1)"
      ]
     },
     "execution_count": 14,
     "metadata": {},
     "output_type": "execute_result"
    }
   ],
   "source": [
    "store['batch1'].shape"
   ]
  },
  {
   "cell_type": "code",
   "execution_count": 17,
   "metadata": {
    "collapsed": true
   },
   "outputs": [],
   "source": [
    "# store['batch1'].attrs <<< ERROR\n",
    "store.close()"
   ]
  },
  {
   "cell_type": "code",
   "execution_count": 16,
   "metadata": {
    "collapsed": true
   },
   "outputs": [],
   "source": [
    "import h5py"
   ]
  },
  {
   "cell_type": "code",
   "execution_count": 18,
   "metadata": {
    "collapsed": true
   },
   "outputs": [],
   "source": [
    "f = h5py.File(\"garbage1\")"
   ]
  },
  {
   "cell_type": "code",
   "execution_count": 26,
   "metadata": {},
   "outputs": [
    {
     "data": {
      "text/plain": [
       "(['batch1'], [<HDF5 group \"/batch1\" (2 members)>])"
      ]
     },
     "execution_count": 26,
     "metadata": {},
     "output_type": "execute_result"
    }
   ],
   "source": [
    "list(f.keys()), list(f.values())"
   ]
  },
  {
   "cell_type": "code",
   "execution_count": 25,
   "metadata": {
    "collapsed": true
   },
   "outputs": [],
   "source": [
    "# list(f[\"batch1\"].attrs) << THIS WORKS, lists all attributes"
   ]
  },
  {
   "cell_type": "code",
   "execution_count": 24,
   "metadata": {},
   "outputs": [
    {
     "data": {
      "text/plain": [
       "array([[1, 2, 3],\n",
       "       [4, 5, 6],\n",
       "       [7, 8, 9]])"
      ]
     },
     "execution_count": 24,
     "metadata": {},
     "output_type": "execute_result"
    }
   ],
   "source": [
    "f[\"batch1\"].attrs[\"my_attribute\"]"
   ]
  },
  {
   "cell_type": "code",
   "execution_count": 27,
   "metadata": {
    "collapsed": true
   },
   "outputs": [],
   "source": [
    "group1 = f.create_group(\"group1\")"
   ]
  },
  {
   "cell_type": "code",
   "execution_count": 28,
   "metadata": {},
   "outputs": [
    {
     "data": {
      "text/plain": [
       "'/group1'"
      ]
     },
     "execution_count": 28,
     "metadata": {},
     "output_type": "execute_result"
    }
   ],
   "source": [
    "group1.name"
   ]
  },
  {
   "cell_type": "code",
   "execution_count": 29,
   "metadata": {},
   "outputs": [
    {
     "data": {
      "text/plain": [
       "[]"
      ]
     },
     "execution_count": 29,
     "metadata": {},
     "output_type": "execute_result"
    }
   ],
   "source": [
    "list(group1)"
   ]
  },
  {
   "cell_type": "code",
   "execution_count": 31,
   "metadata": {
    "collapsed": true
   },
   "outputs": [],
   "source": [
    "# f.get_storer(\"group1\").attrs.my_attribute = x_junk1 <<< ERROR"
   ]
  },
  {
   "cell_type": "code",
   "execution_count": 35,
   "metadata": {},
   "outputs": [
    {
     "data": {
      "text/plain": [
       "ItemsViewHDF5(<Attributes of HDF5 object at 140564480995176>)"
      ]
     },
     "execution_count": 35,
     "metadata": {},
     "output_type": "execute_result"
    }
   ],
   "source": [
    "group1.attrs.items()"
   ]
  },
  {
   "cell_type": "code",
   "execution_count": 36,
   "metadata": {
    "collapsed": true
   },
   "outputs": [],
   "source": [
    "group1.attrs.create(\"attrib1\", x_junk1)"
   ]
  },
  {
   "cell_type": "code",
   "execution_count": 37,
   "metadata": {
    "collapsed": true
   },
   "outputs": [],
   "source": [
    "x = group1.attrs.get(\"attrib1\")"
   ]
  },
  {
   "cell_type": "code",
   "execution_count": 38,
   "metadata": {},
   "outputs": [
    {
     "data": {
      "text/plain": [
       "array([[1, 2, 3],\n",
       "       [4, 5, 6],\n",
       "       [7, 8, 9]])"
      ]
     },
     "execution_count": 38,
     "metadata": {},
     "output_type": "execute_result"
    }
   ],
   "source": [
    "x"
   ]
  },
  {
   "cell_type": "code",
   "execution_count": 41,
   "metadata": {
    "collapsed": true
   },
   "outputs": [],
   "source": [
    "z = np.random.rand(100, 100)"
   ]
  },
  {
   "cell_type": "code",
   "execution_count": 42,
   "metadata": {},
   "outputs": [
    {
     "data": {
      "text/plain": [
       "array([0.27101293, 0.45711131, 0.82391123, ..., 0.10666072, 0.52993864,\n",
       "       0.15903336])"
      ]
     },
     "execution_count": 42,
     "metadata": {},
     "output_type": "execute_result"
    }
   ],
   "source": [
    "# w = z.ravel().tolist()\n",
    "w = z.ravel()\n",
    "w"
   ]
  },
  {
   "cell_type": "code",
   "execution_count": 44,
   "metadata": {
    "collapsed": true
   },
   "outputs": [],
   "source": [
    "# group1.attrs.create(\"attrib2\", w) <<< COMPLAINS w too large"
   ]
  },
  {
   "cell_type": "markdown",
   "metadata": {},
   "source": [
    "Datasets look promising."
   ]
  },
  {
   "cell_type": "code",
   "execution_count": 42,
   "metadata": {
    "collapsed": true
   },
   "outputs": [],
   "source": [
    "f.close()"
   ]
  },
  {
   "cell_type": "code",
   "execution_count": 43,
   "metadata": {
    "collapsed": true
   },
   "outputs": [],
   "source": [
    "f = h5py.File(\"garbage4\")"
   ]
  },
  {
   "cell_type": "code",
   "execution_count": 44,
   "metadata": {
    "collapsed": true
   },
   "outputs": [],
   "source": [
    "dataset = f.create_dataset(\"bigdata4\", \n",
    "                            shape=(1, 10000), \n",
    "                            dtype=np.float64)"
   ]
  },
  {
   "cell_type": "code",
   "execution_count": 45,
   "metadata": {},
   "outputs": [
    {
     "data": {
      "text/plain": [
       "h5py._hl.dataset.Dataset"
      ]
     },
     "execution_count": 45,
     "metadata": {},
     "output_type": "execute_result"
    }
   ],
   "source": [
    "type(dataset)"
   ]
  },
  {
   "cell_type": "code",
   "execution_count": 46,
   "metadata": {
    "collapsed": true
   },
   "outputs": [],
   "source": [
    "x4 = f[\"bigdata4\"] "
   ]
  },
  {
   "cell_type": "code",
   "execution_count": 47,
   "metadata": {},
   "outputs": [
    {
     "data": {
      "text/plain": [
       "((1, 10000), h5py._hl.dataset.Dataset)"
      ]
     },
     "execution_count": 47,
     "metadata": {},
     "output_type": "execute_result"
    }
   ],
   "source": [
    "x4.shape, type(x4)"
   ]
  },
  {
   "cell_type": "code",
   "execution_count": 48,
   "metadata": {
    "collapsed": true
   },
   "outputs": [],
   "source": [
    "a4 = f[\"bigdata4\"][()]"
   ]
  },
  {
   "cell_type": "code",
   "execution_count": 49,
   "metadata": {},
   "outputs": [
    {
     "data": {
      "text/plain": [
       "(numpy.ndarray, (1, 10000))"
      ]
     },
     "execution_count": 49,
     "metadata": {},
     "output_type": "execute_result"
    }
   ],
   "source": [
    "type(a4), a4.shape"
   ]
  },
  {
   "cell_type": "code",
   "execution_count": 50,
   "metadata": {},
   "outputs": [
    {
     "data": {
      "text/plain": [
       "array([[0., 0., 0., ..., 0., 0., 0.]])"
      ]
     },
     "execution_count": 50,
     "metadata": {},
     "output_type": "execute_result"
    }
   ],
   "source": [
    "a4"
   ]
  },
  {
   "cell_type": "code",
   "execution_count": 51,
   "metadata": {},
   "outputs": [
    {
     "data": {
      "text/plain": [
       "(numpy.ndarray, (10000,))"
      ]
     },
     "execution_count": 51,
     "metadata": {},
     "output_type": "execute_result"
    }
   ],
   "source": [
    "x2 = np.random.rand(10000)\n",
    "type(x2), x2.shape"
   ]
  },
  {
   "cell_type": "code",
   "execution_count": 52,
   "metadata": {},
   "outputs": [
    {
     "data": {
      "text/plain": [
       "array([0.19308598, 0.13214827, 0.58452798])"
      ]
     },
     "execution_count": 52,
     "metadata": {},
     "output_type": "execute_result"
    }
   ],
   "source": [
    "x2[:3]"
   ]
  },
  {
   "cell_type": "code",
   "execution_count": 53,
   "metadata": {},
   "outputs": [
    {
     "data": {
      "text/plain": [
       "array([[0., 0., 0., ..., 0., 0., 0.]])"
      ]
     },
     "execution_count": 53,
     "metadata": {},
     "output_type": "execute_result"
    }
   ],
   "source": [
    "f[\"bigdata4\"][:3]"
   ]
  },
  {
   "cell_type": "code",
   "execution_count": 17,
   "metadata": {
    "collapsed": true
   },
   "outputs": [],
   "source": [
    "# f[\"bigdata1\"] = x2 <<< gives and ERROR"
   ]
  },
  {
   "cell_type": "code",
   "execution_count": 19,
   "metadata": {
    "collapsed": true
   },
   "outputs": [],
   "source": [
    "# f[\"bigdata1\"].append(x2) <<< gives and ERROR"
   ]
  },
  {
   "cell_type": "code",
   "execution_count": 54,
   "metadata": {
    "collapsed": true
   },
   "outputs": [],
   "source": [
    "dataset[0] = x2"
   ]
  },
  {
   "cell_type": "code",
   "execution_count": 55,
   "metadata": {},
   "outputs": [
    {
     "data": {
      "text/plain": [
       "(1, 10000)"
      ]
     },
     "execution_count": 55,
     "metadata": {},
     "output_type": "execute_result"
    }
   ],
   "source": [
    "dataset.shape"
   ]
  },
  {
   "cell_type": "code",
   "execution_count": 56,
   "metadata": {},
   "outputs": [
    {
     "data": {
      "text/plain": [
       "<HDF5 dataset \"bigdata4\": shape (1, 10000), type \"<f8\">"
      ]
     },
     "execution_count": 56,
     "metadata": {},
     "output_type": "execute_result"
    }
   ],
   "source": [
    "dataset"
   ]
  },
  {
   "cell_type": "code",
   "execution_count": null,
   "metadata": {
    "collapsed": true
   },
   "outputs": [],
   "source": []
  },
  {
   "cell_type": "code",
   "execution_count": null,
   "metadata": {
    "collapsed": true
   },
   "outputs": [],
   "source": []
  },
  {
   "cell_type": "code",
   "execution_count": 94,
   "metadata": {
    "collapsed": true
   },
   "outputs": [],
   "source": [
    "DataDir = \"data/\"\n",
    "SubDir = \"lstm_ready/\"\n",
    "DirPath = DataDir + SubDir\n",
    "hdf5file = \"attack_rows_5000_ccm_100_lstm_100\"\n",
    "fnm = DirPath + hdf5file"
   ]
  },
  {
   "cell_type": "code",
   "execution_count": 122,
   "metadata": {
    "collapsed": true
   },
   "outputs": [],
   "source": [
    "# store = pd.HDFStore(\"garbagetest0\", mode = 'w')\n",
    "# store.append(\"data\", sigccm.values)"
   ]
  },
  {
   "cell_type": "code",
   "execution_count": 107,
   "metadata": {
    "collapsed": true
   },
   "outputs": [],
   "source": [
    "# df_attack_rows_5000_ccm_100_lstm_100.to_hdf(\n",
    "#     'test.h5', 'data', format='table')"
   ]
  },
  {
   "cell_type": "code",
   "execution_count": 97,
   "metadata": {
    "collapsed": true
   },
   "outputs": [],
   "source": [
    "# drop localtime because it's an integer and HDF5 doesn't\n",
    "# like that for some reason\n",
    "df = df_attack_rows_5000_ccm_100_lstm_100.drop(\n",
    "                            [\"local_time\"], axis = 1)"
   ]
  },
  {
   "cell_type": "code",
   "execution_count": 108,
   "metadata": {
    "collapsed": true
   },
   "outputs": [],
   "source": [
    "# f = h5py.File(fnm)\n",
    "# store = pd.HDFStore(fnm, mode = 'w')\n",
    "# store.append(hdf5file, df)"
   ]
  },
  {
   "cell_type": "code",
   "execution_count": 10,
   "metadata": {
    "collapsed": true
   },
   "outputs": [],
   "source": [
    "# df_attack_id5000.info(memory_usage='deep')"
   ]
  },
  {
   "cell_type": "markdown",
   "metadata": {},
   "source": [
    "### PyArrow and Parque Files"
   ]
  },
  {
   "cell_type": "markdown",
   "metadata": {},
   "source": [
    "* [Pandas Integration](https://arrow.apache.org/docs/python/pandas.html#pandas-integration)\n",
    "* [Reading and Writing the Apache Parquet Format](https://arrow.apache.org/docs/python/parquet.html)"
   ]
  },
  {
   "cell_type": "code",
   "execution_count": 17,
   "metadata": {
    "collapsed": true
   },
   "outputs": [],
   "source": [
    "import pyarrow as pa"
   ]
  },
  {
   "cell_type": "code",
   "execution_count": 12,
   "metadata": {
    "collapsed": true
   },
   "outputs": [],
   "source": [
    "# from pyarrow import parque as pq\n",
    "import pyarrow.parquet as pq"
   ]
  },
  {
   "cell_type": "code",
   "execution_count": 14,
   "metadata": {
    "collapsed": true
   },
   "outputs": [],
   "source": [
    "table = pa.Table.from_pandas(df3)"
   ]
  },
  {
   "cell_type": "code",
   "execution_count": 17,
   "metadata": {
    "collapsed": true
   },
   "outputs": [],
   "source": [
    "pq.write_table(table, 'parquet.example1')"
   ]
  },
  {
   "cell_type": "code",
   "execution_count": 18,
   "metadata": {
    "collapsed": true
   },
   "outputs": [],
   "source": [
    "table2 = pq.read_table('parquet.example1')"
   ]
  },
  {
   "cell_type": "code",
   "execution_count": 15,
   "metadata": {
    "collapsed": true
   },
   "outputs": [],
   "source": [
    "df4 = table.to_pandas()"
   ]
  },
  {
   "cell_type": "code",
   "execution_count": 19,
   "metadata": {
    "collapsed": true
   },
   "outputs": [],
   "source": [
    "df5 = table2.to_pandas()"
   ]
  },
  {
   "cell_type": "markdown",
   "metadata": {},
   "source": [
    "### IO Routines"
   ]
  },
  {
   "cell_type": "code",
   "execution_count": 204,
   "metadata": {
    "collapsed": true
   },
   "outputs": [],
   "source": [
    "def extracth5toarray(h5path, dataID):\n",
    "    f = h5py.File(h5path)\n",
    "    s = f[dataID]\n",
    "    return np.array(s)"
   ]
  },
  {
   "cell_type": "code",
   "execution_count": 119,
   "metadata": {
    "collapsed": true
   },
   "outputs": [],
   "source": [
    "def store_series_of_lists_in_h5file(df, dataID, colID1 = None, \n",
    "                                                colID2 = None):\n",
    "    \n",
    "    DataDir = \"data/\"\n",
    "    DataDir = DataDir + dataID + \"/\"  \n",
    "    \n",
    "    # If directory does not already exist\n",
    "    # for this batch, create it.\n",
    "    if not os.path.isdir(DataDir):\n",
    "        mkdir(DataDir)\n",
    "\n",
    "    col1 = df[colID1]\n",
    "    col2 = df[colID2]\n",
    "    \n",
    "    # get the dimensions of \n",
    "    length = len(col1)\n",
    "    col1_x, col1_y = np.array(col1[0]).shape\n",
    "    # col2_x, col2_y = np.array(col2).shape\n",
    "    \n",
    "    path = DataDir + dataID + \".h5\"\n",
    "    f = h5py.File(path) \n",
    "    \n",
    "    if colID1 != None:\n",
    "        dataset1 = f.create_dataset(colID1, (length, col1_x, col1_y), \n",
    "                                     dtype='f', \n",
    "                                     chunks=(1, col1_x, col1_y))    \n",
    "\n",
    "    if colID2 != None:        \n",
    "        dataset2 = f.create_dataset(colID2, (length,), \n",
    "                                     dtype='f', \n",
    "                                     chunks=(1,))          \n",
    "    \n",
    "    chunkshape1 = (col1_x, col1_y)\n",
    "    # chunkshape2 = (col2_x, col2_y)\n",
    "    for i, row in enumerate(col1):\n",
    "        shape1 = np.array(col1[i]).shape\n",
    "        # shape2 = np.array(col2[i]).shape\n",
    "        # if shape1 != chunkshape1 and shape2 != chunkshape2:\n",
    "        if shape1 != chunkshape1:    \n",
    "            print(\"Mismatch with element %d:\\n\" % (i))\n",
    "            print(\"chunkshape = %s\" % str(chunkshape1)) \n",
    "            continue\n",
    "        else:\n",
    "            dataset1[i] = col1[i]\n",
    "            dataset2[i] = col2[i]\n",
    "\n",
    "    f.close()\n",
    "    \n",
    "    return path     "
   ]
  },
  {
   "cell_type": "markdown",
   "metadata": {},
   "source": [
    "## Save Pickled Files"
   ]
  },
  {
   "cell_type": "code",
   "execution_count": null,
   "metadata": {
    "collapsed": true
   },
   "outputs": [],
   "source": [
    "PickledDir = \"Pickled Files/\""
   ]
  },
  {
   "cell_type": "code",
   "execution_count": null,
   "metadata": {
    "collapsed": true
   },
   "outputs": [],
   "source": [
    "path = PickledDir + \"df_signals.pkl\"\n",
    "fd = open(path, \"wb\")\n",
    "pkl.dump(df_signals, fd)\n",
    "fd.close()"
   ]
  },
  {
   "cell_type": "code",
   "execution_count": 155,
   "metadata": {
    "collapsed": true
   },
   "outputs": [],
   "source": [
    "path = PickledDir + \"df_signals_ccm.pkl\"\n",
    "fd = open(path, \"wb\")\n",
    "pkl.dump(df_signals_ccm, fd)\n",
    "fd.close()"
   ]
  },
  {
   "cell_type": "code",
   "execution_count": 19,
   "metadata": {
    "collapsed": true
   },
   "outputs": [],
   "source": [
    "path = PickledDir + \"df_rows_2000_ccm_100.pkl\"\n",
    "fd = open(path, \"wb\")\n",
    "pkl.dump(df_rows_2000_ccm_100, fd)\n",
    "fd.close()"
   ]
  },
  {
   "cell_type": "code",
   "execution_count": 11,
   "metadata": {
    "collapsed": true
   },
   "outputs": [],
   "source": [
    "# This throws a Memory error:\n",
    "#\n",
    "# PickledDir = \"Pickled Files/\"\n",
    "# path = PickledDir + \"df_attack_rows_5000_ccm_100_lstm_100.pkl\"\n",
    "# fd = open(path, \"wb\")\n",
    "# pkl.dump(df_attack_rows_5000_ccm_100_lstm_100, fd)\n",
    "# fd.close()"
   ]
  },
  {
   "cell_type": "markdown",
   "metadata": {},
   "source": [
    "### Save to Dill File"
   ]
  },
  {
   "cell_type": "code",
   "execution_count": null,
   "metadata": {
    "collapsed": true
   },
   "outputs": [],
   "source": [
    "import dill\n",
    "\n",
    "PickledDir = \"Pickled Files/\"\n",
    "path = PickledDir + \"df_attack_rows_5000_ccm_100_lstm_100.dill\"\n",
    "fd = open(path, \"wb\")\n",
    "dill.dump(df_attack_rows_5000_ccm_100_lstm_100, fd)\n",
    "fd.close()"
   ]
  },
  {
   "cell_type": "markdown",
   "metadata": {},
   "source": [
    "### Save to HDF5 File"
   ]
  },
  {
   "cell_type": "code",
   "execution_count": null,
   "metadata": {
    "collapsed": true
   },
   "outputs": [],
   "source": [
    "DataDir = \"data/rows_5000_ccm_100_lstm_100/\""
   ]
  },
  {
   "cell_type": "code",
   "execution_count": 12,
   "metadata": {
    "collapsed": true
   },
   "outputs": [],
   "source": [
    "fnm = \"rows_5000_ccm_100_lstm_100.h5\"\n",
    "path = DataDir + fnm"
   ]
  },
  {
   "cell_type": "markdown",
   "metadata": {},
   "source": [
    "**Using a DataFrame method**"
   ]
  },
  {
   "cell_type": "code",
   "execution_count": null,
   "metadata": {
    "collapsed": true
   },
   "outputs": [],
   "source": [
    "store = pd.HDFStore(path)\n",
    "store.is_open"
   ]
  },
  {
   "cell_type": "markdown",
   "metadata": {},
   "source": [
    "`store.put()` warns that performance might suffer, because PyTables is just going to pickle the objects (i.e. may as well use Pickle)."
   ]
  },
  {
   "cell_type": "code",
   "execution_count": 65,
   "metadata": {
    "collapsed": true
   },
   "outputs": [],
   "source": [
    ">> store.put('df', df_rows_5000_ccm_100_lstm_100)"
   ]
  },
  {
   "cell_type": "code",
   "execution_count": 16,
   "metadata": {
    "collapsed": true
   },
   "outputs": [],
   "source": [
    "store.close()"
   ]
  },
  {
   "cell_type": "markdown",
   "metadata": {},
   "source": [
    "**Using `h5py`**"
   ]
  },
  {
   "cell_type": "code",
   "execution_count": 98,
   "metadata": {
    "collapsed": true
   },
   "outputs": [],
   "source": [
    "df = df_rows_5000_ccm_100_lstm_100.head()"
   ]
  },
  {
   "cell_type": "markdown",
   "metadata": {},
   "source": [
    "### Save to PyArrow-Parquet File"
   ]
  },
  {
   "cell_type": "code",
   "execution_count": 12,
   "metadata": {},
   "outputs": [
    {
     "data": {
      "text/plain": [
       "local_time     object\n",
       "Attack         object\n",
       "agc_001       float32\n",
       "agc_002       float32\n",
       "agc_003       float32\n",
       "agc_004       float32\n",
       "agc_005       float32\n",
       "agc_006       float32\n",
       "agc_007       float32\n",
       "agc_008       float32\n",
       "agc_009       float32\n",
       "agc_010       float32\n",
       "agc_011       float32\n",
       "agc_012       float32\n",
       "agc_013       float32\n",
       "agc_014       float32\n",
       "agc_015       float32\n",
       "agc_016       float32\n",
       "agc_017       float32\n",
       "agc_018       float32\n",
       "agc_019       float32\n",
       "agc_020       float32\n",
       "agc_021       float32\n",
       "agc_022       float32\n",
       "agc_023       float32\n",
       "agc_024       float32\n",
       "agc_025       float32\n",
       "agc_026       float32\n",
       "agc_027       float32\n",
       "agc_028       float32\n",
       "               ...   \n",
       "cn0_016       float32\n",
       "cn0_017       float32\n",
       "cn0_018       float32\n",
       "cn0_019       float32\n",
       "cn0_020       float32\n",
       "cn0_021       float32\n",
       "cn0_022       float32\n",
       "cn0_023       float32\n",
       "cn0_024       float32\n",
       "cn0_025       float32\n",
       "cn0_026       float32\n",
       "cn0_027       float32\n",
       "cn0_028       float32\n",
       "cn0_029       float32\n",
       "cn0_030       float32\n",
       "cn0_031       float32\n",
       "cn0_032       float32\n",
       "cn0_093       float32\n",
       "cn0_094       float32\n",
       "cn0_095       float32\n",
       "cn0_096       float32\n",
       "cn0_097       float32\n",
       "cn0_100       float32\n",
       "cn0_101       float32\n",
       "cn0_102       float32\n",
       "cn0_103       float32\n",
       "cn0_104       float32\n",
       "cn0_105       float32\n",
       "cn0_106       float32\n",
       "sigccm         object\n",
       "Length: 91, dtype: object"
      ]
     },
     "execution_count": 12,
     "metadata": {},
     "output_type": "execute_result"
    }
   ],
   "source": [
    "df_rows_5000_ccm_100_lstm_100.dtypes"
   ]
  },
  {
   "cell_type": "code",
   "execution_count": 14,
   "metadata": {
    "collapsed": true
   },
   "outputs": [],
   "source": [
    "sigccm = df_rows_5000_ccm_100_lstm_100[\"sigccm\"]"
   ]
  },
  {
   "cell_type": "code",
   "execution_count": 15,
   "metadata": {},
   "outputs": [
    {
     "data": {
      "text/plain": [
       "dtype('O')"
      ]
     },
     "execution_count": 15,
     "metadata": {},
     "output_type": "execute_result"
    }
   ],
   "source": [
    "sigccm.dtype"
   ]
  },
  {
   "cell_type": "code",
   "execution_count": 16,
   "metadata": {
    "collapsed": true
   },
   "outputs": [],
   "source": [
    "df = df_rows_5000_ccm_100_lstm_100.copy()"
   ]
  },
  {
   "cell_type": "code",
   "execution_count": null,
   "metadata": {
    "collapsed": true
   },
   "outputs": [],
   "source": [
    "df[\"sigccm\"] = df.sigccm.apply(lambda x: np.array(x)) "
   ]
  },
  {
   "cell_type": "code",
   "execution_count": 17,
   "metadata": {
    "collapsed": true
   },
   "outputs": [],
   "source": [
    "table = pa.Table.from_pandas(df_rows_5000_ccm_100_lstm_100)\n",
    "pq.write_table(table, 'parquet.example1')\n",
    "table2 = pq.read_table('parquet.example1')\n",
    "df4 = table.to_pandas() \n",
    "df5 = table2.to_pandas()"
   ]
  },
  {
   "cell_type": "code",
   "execution_count": 19,
   "metadata": {
    "collapsed": true
   },
   "outputs": [],
   "source": []
  },
  {
   "cell_type": "markdown",
   "metadata": {},
   "source": [
    "## Load Files"
   ]
  },
  {
   "cell_type": "markdown",
   "metadata": {},
   "source": [
    "### Load from Pickled Files"
   ]
  },
  {
   "cell_type": "code",
   "execution_count": 3,
   "metadata": {
    "collapsed": true
   },
   "outputs": [],
   "source": [
    "PickledDir = \"Pickled Files/\""
   ]
  },
  {
   "cell_type": "markdown",
   "metadata": {},
   "source": [
    "**Raw data** (after some cleaning)."
   ]
  },
  {
   "cell_type": "code",
   "execution_count": 7,
   "metadata": {
    "collapsed": true
   },
   "outputs": [],
   "source": [
    "path = PickledDir + \"df_jamming.pkl\"\n",
    "fd = open(path, \"rb\")\n",
    "df_jamming = pkl.load(fd)\n",
    "fd.close()"
   ]
  },
  {
   "cell_type": "markdown",
   "metadata": {},
   "source": [
    "**Data after each phone's signal data has been assigned a column**."
   ]
  },
  {
   "cell_type": "code",
   "execution_count": 4,
   "metadata": {
    "collapsed": true
   },
   "outputs": [],
   "source": [
    "path = PickledDir + \"df_signals.pkl\"\n",
    "fd = open(path, \"rb\")\n",
    "df_signals = pkl.load(fd)\n",
    "fd.close()"
   ]
  },
  {
   "cell_type": "markdown",
   "metadata": {},
   "source": [
    "**Data after signals have been normalized**."
   ]
  },
  {
   "cell_type": "code",
   "execution_count": 4,
   "metadata": {
    "collapsed": true,
    "scrolled": true
   },
   "outputs": [],
   "source": [
    "PickledDir = \"Pickled Files/\"\n",
    "path = PickledDir + \"df_norm.pkl\"\n",
    "fd = open(path, \"rb\")\n",
    "df_norm = pkl.load(fd)\n",
    "fd.close()"
   ]
  },
  {
   "cell_type": "markdown",
   "metadata": {},
   "source": [
    "**Data for time period in which jamming occurred**."
   ]
  },
  {
   "cell_type": "code",
   "execution_count": 113,
   "metadata": {
    "collapsed": true
   },
   "outputs": [],
   "source": [
    "PickledDir = \"Pickled Files/\"\n",
    "path = PickledDir + \"df_norm_attackperiod.pkl\"\n",
    "fd = open(path, \"rb\")\n",
    "df_norm_attackperiod = pkl.load(fd)\n",
    "fd.close()"
   ]
  },
  {
   "cell_type": "markdown",
   "metadata": {},
   "source": [
    "**Data after column with CCM matrix has been added**."
   ]
  },
  {
   "cell_type": "code",
   "execution_count": 102,
   "metadata": {
    "collapsed": true
   },
   "outputs": [],
   "source": [
    "DataDir = \"data/attack_period1/\"\n",
    "path = DataDir + \"df_attack_id5000.pkl\"\n",
    "fd = open(path, \"rb\")\n",
    "df_attack_id5000 = pkl.load(fd)\n",
    "fd.close()"
   ]
  },
  {
   "cell_type": "code",
   "execution_count": 103,
   "metadata": {},
   "outputs": [
    {
     "data": {
      "text/plain": [
       "(5100, 91)"
      ]
     },
     "execution_count": 103,
     "metadata": {},
     "output_type": "execute_result"
    }
   ],
   "source": [
    "df_attack_id5000.shape"
   ]
  },
  {
   "cell_type": "markdown",
   "metadata": {},
   "source": [
    "`df_attack_id5000` was saved without the proper nesting of the data in `sigccm`. Fix that problem."
   ]
  },
  {
   "cell_type": "code",
   "execution_count": 106,
   "metadata": {
    "collapsed": true
   },
   "outputs": [],
   "source": [
    "df_attack_id5000[\"sigccm\"] = df_attack_id5000.sigccm.apply(\n",
    "                                lambda x: [list(x)])"
   ]
  },
  {
   "cell_type": "code",
   "execution_count": null,
   "metadata": {
    "collapsed": true
   },
   "outputs": [],
   "source": []
  },
  {
   "cell_type": "markdown",
   "metadata": {},
   "source": [
    "**Data after LSTM time steps have been added**."
   ]
  },
  {
   "cell_type": "code",
   "execution_count": 62,
   "metadata": {
    "collapsed": true
   },
   "outputs": [],
   "source": [
    "PickledDir = \"Pickled Files/\"\n",
    "path = PickledDir + \"df_lstm_100_rows_2000_ccm_100.pkl\"\n",
    "fd = open(path, \"rb\")\n",
    "df_lstm_100_rows_2000_ccm_100 = pkl.load(fd)\n",
    "fd.close()"
   ]
  },
  {
   "cell_type": "markdown",
   "metadata": {},
   "source": [
    "### Load from HDF5 File"
   ]
  },
  {
   "cell_type": "code",
   "execution_count": 3,
   "metadata": {
    "collapsed": true
   },
   "outputs": [],
   "source": [
    "DataDir = \"data/rows_5000_ccm_100_lstm_100/\"\n",
    "hdf5_fnm = DataDir + \"rows_5000_ccm_100_lstm_100.h5\""
   ]
  },
  {
   "cell_type": "markdown",
   "metadata": {},
   "source": [
    "Read HDF5 data with DataFrame method."
   ]
  },
  {
   "cell_type": "code",
   "execution_count": 4,
   "metadata": {
    "collapsed": true
   },
   "outputs": [],
   "source": [
    "df = pd.read_hdf(hdf5_fnm)\n",
    "df_rows_5000_ccm_100_lstm_100 = df"
   ]
  },
  {
   "cell_type": "markdown",
   "metadata": {
    "collapsed": true
   },
   "source": [
    "Read HDF5 data with `h5py`."
   ]
  },
  {
   "cell_type": "code",
   "execution_count": 67,
   "metadata": {
    "collapsed": true
   },
   "outputs": [],
   "source": [
    "f = h5py.File(hdf5_fnm)"
   ]
  },
  {
   "cell_type": "code",
   "execution_count": 69,
   "metadata": {
    "collapsed": true
   },
   "outputs": [],
   "source": [
    "df = f[\"df\"]"
   ]
  },
  {
   "cell_type": "markdown",
   "metadata": {},
   "source": [
    "### Load from PyArrow-Parquet File"
   ]
  },
  {
   "cell_type": "code",
   "execution_count": 7,
   "metadata": {
    "collapsed": true
   },
   "outputs": [],
   "source": [
    "df = df_rows_5000_ccm_100_lstm_100.copy()"
   ]
  },
  {
   "cell_type": "code",
   "execution_count": null,
   "metadata": {},
   "outputs": [
    {
     "name": "stderr",
     "output_type": "stream",
     "text": [
      "/home/john/anaconda3/envs/py36/lib/python3.6/site-packages/pandas/core/indexing.py:190: SettingWithCopyWarning: \n",
      "A value is trying to be set on a copy of a slice from a DataFrame\n",
      "\n",
      "See the caveats in the documentation: http://pandas.pydata.org/pandas-docs/stable/indexing.html#indexing-view-versus-copy\n",
      "  self._setitem_with_indexer(indexer, value)\n"
     ]
    }
   ],
   "source": [
    "for i, e in enumerate(df.iterrows()):\n",
    "    df[\"sigccm\"].iloc[i] = np.array(df[\"sigccm\"].iloc[i])"
   ]
  },
  {
   "cell_type": "markdown",
   "metadata": {},
   "source": [
    "# Data Generator"
   ]
  },
  {
   "cell_type": "markdown",
   "metadata": {},
   "source": [
    "## Generator in a Python Class"
   ]
  },
  {
   "cell_type": "markdown",
   "metadata": {},
   "source": [
    "**Using Python Class `getitem` as Generator**"
   ]
  },
  {
   "cell_type": "code",
   "execution_count": 4,
   "metadata": {
    "collapsed": true
   },
   "outputs": [],
   "source": [
    "class DataGenerator(keras.utils.Sequence):\n",
    "    'Generates data for Keras'\n",
    "    def __init__(self, batchID, \n",
    "                 batch_size = 32, \n",
    "                 dim = (32,32,32)):\n",
    "\n",
    "        self.dim = dim\n",
    "        self.batch_size = batch_size\n",
    "        self.datafile_IDs = []\n",
    "        self.labelfile_IDs = []\n",
    "        self.batchID = batchID    \n",
    "        self.DataDir = \"data/\"\n",
    "        self.BatchDir = \"\"\n",
    "        \n",
    "        DataDir = self.DataDir\n",
    "        BatchDir = DataDir + batchID + \"/\"\n",
    "        self.BatchDir = BatchDir\n",
    "        \n",
    "        path = BatchDir + \"datafilenames_\" + batchID + \".pkl\"                                    \n",
    "        fd = open(path, \"rb\")\n",
    "        self.datafile_IDs = pkl.load(fd)\n",
    "        fd.close()\n",
    "        \n",
    "        path = BatchDir + \"labelfilenames_\" + batchID + \".pkl\"        \n",
    "        fd = open(path, \"rb\")\n",
    "        self.labelfile_IDs = pkl.load(fd)\n",
    "        fd.close()\n",
    "\n",
    "    def __len__(self):\n",
    "        'Denotes the number of batches per epoch'\n",
    "        return int(\n",
    "            np.floor(len(self.datafile_IDs) / self.batch_size))\n",
    "\n",
    "    def __getitem__(self, index):\n",
    "        \n",
    "        'Generate one batch of data'\n",
    "        \n",
    "        datafn = self.datafile_IDs[index]        \n",
    "        labelfn = self.labelfile_IDs[index]  \n",
    "        \n",
    "        print(\"In getitem: index = %d, datafn = %s, labelfn = %s\" % (\n",
    "               index, datafn, labelfn))\n",
    "\n",
    "        batch_size = self.batch_size\n",
    "        \n",
    "        # Initialize data arrays for this batch     \n",
    "        X = np.empty((self.batch_size, *self.dim))\n",
    "        y = np.empty((self.batch_size), dtype=int)         \n",
    "\n",
    "        BatchDir = self.BatchDir\n",
    "\n",
    "        # Read data\n",
    "        datafn = BatchDir + datafn\n",
    "        X = np.load(datafn)\n",
    "\n",
    "        # Read label\n",
    "        labelfn = BatchDir + labelfn\n",
    "        y = np.load(labelfn)\n",
    "        \n",
    "        return X, y        "
   ]
  },
  {
   "cell_type": "code",
   "execution_count": 6,
   "metadata": {
    "collapsed": true
   },
   "outputs": [],
   "source": [
    "df_input = df_lstm_100_rows_2000_ccm_100\n",
    "df_short = df_input[100:200].copy()\n",
    "df_test = df_input[200:300].copy()"
   ]
  },
  {
   "cell_type": "code",
   "execution_count": 7,
   "metadata": {
    "collapsed": true
   },
   "outputs": [],
   "source": [
    "genbatchfiles(df_short, batchID = \"short\", batch_size = 20)"
   ]
  },
  {
   "cell_type": "code",
   "execution_count": 8,
   "metadata": {
    "collapsed": true
   },
   "outputs": [],
   "source": [
    "params = {'batchID': \"short\", 'batch_size': 20, 'dim': (100, 10088)}"
   ]
  },
  {
   "cell_type": "code",
   "execution_count": 10,
   "metadata": {
    "collapsed": true
   },
   "outputs": [],
   "source": [
    "dg = DataGenerator(**params)"
   ]
  },
  {
   "cell_type": "markdown",
   "metadata": {},
   "source": [
    "**Older, More Complicated Version of Class-Style Generator**"
   ]
  },
  {
   "cell_type": "code",
   "execution_count": 4,
   "metadata": {
    "collapsed": true
   },
   "outputs": [],
   "source": [
    "def savedata(df, batchID, recs_per_id = 5):\n",
    "\n",
    "    DataDir = \"data/\"\n",
    "    BatchDir = DataDir + batchID + \"/\"\n",
    "    \n",
    "    # If directory does not already exist\n",
    "    # for this batch, create it.\n",
    "    if not os.path.isdir(BatchDir):\n",
    "        mkdir(BatchDir)\n",
    "\n",
    "    sigccm = df[\"sigccm\"]\n",
    "    attack = df[\"Attack\"]\n",
    "        \n",
    "    idcnt = 0\n",
    "    datafiles = []\n",
    "    labelfiles = []\n",
    "    \n",
    "    # number of records to process\n",
    "    nrecs = len(sigccm)\n",
    "    \n",
    "    for i in range(0, nrecs, recs_per_id):\n",
    "        \n",
    "        if i + recs_per_id > nrecs:\n",
    "            upperbound = nrecs \n",
    "        else: \n",
    "            upperbound = i + recs_per_id\n",
    "        \n",
    "        x = np.stack(sigccm[i : upperbound]) \n",
    "        y = np.stack(attack[i : upperbound]) \n",
    "        \n",
    "        fnm = 'data_{:s}{:02d}.npy'.format(batchID, idcnt)\n",
    "        datafiles.append(fnm)        \n",
    "        np.save(BatchDir + fnm, x)\n",
    "        \n",
    "        fnm = 'labels_{:s}{:02d}.npy'.format(batchID, idcnt)\n",
    "        labelfiles.append(fnm)        \n",
    "        np.save(BatchDir + fnm, y)\n",
    "        \n",
    "        idcnt = idcnt + 1\n",
    "        \n",
    "    path = BatchDir + \"datafilenames_\" + batchID + \".pkl\"\n",
    "    \n",
    "    fd = open(path, \"wb\")\n",
    "    pkl.dump(datafiles, fd)\n",
    "    fd.close() \n",
    "\n",
    "    path = BatchDir + \"labelfilenames_\" + batchID + \".pkl\"\n",
    "    \n",
    "    fd = open(path, \"wb\")\n",
    "    pkl.dump(labelfiles, fd)\n",
    "    fd.close()    "
   ]
  },
  {
   "cell_type": "code",
   "execution_count": 5,
   "metadata": {
    "collapsed": true
   },
   "outputs": [],
   "source": [
    "class DataGenerator(keras.utils.Sequence):\n",
    "    'Generates data for Keras'\n",
    "    def __init__(self, batchID, batch_size=32, \n",
    "                 dim=(32,32,32), shuffle = False):\n",
    "        'Initialization'\n",
    "        self.dim = dim\n",
    "        self.batch_size = batch_size\n",
    "        self.datafile_IDs = []\n",
    "        self.labelfile_IDs = []\n",
    "        self.batchID = batchID    \n",
    "        self.DataDir = \"data/\"\n",
    "        self.BatchDir = \"\"\n",
    "        self.shuffle = shuffle\n",
    "        # self.on_epoch_end() \n",
    "        \n",
    "        DataDir = self.DataDir\n",
    "        BatchDir = DataDir + batchID + \"/\"\n",
    "        self.BatchDir = BatchDir\n",
    "        \n",
    "        path = BatchDir + \"datafilenames_\" + batchID + \".pkl\"                                    \n",
    "        fd = open(path, \"rb\")\n",
    "        self.datafile_IDs = pkl.load(fd)\n",
    "        fd.close()\n",
    "        \n",
    "        path = BatchDir + \"labelfilenames_\" + batchID + \".pkl\"        \n",
    "        fd = open(path, \"rb\")\n",
    "        self.labelfile_IDs = pkl.load(fd)\n",
    "        fd.close()\n",
    "\n",
    "    def __len__(self):\n",
    "        'Denotes the number of batches per epoch'\n",
    "        return int(\n",
    "            np.floor(len(self.datafile_IDs) / self.batch_size))\n",
    "\n",
    "    def __getitem__(self, index):\n",
    "        \n",
    "        'Generate one batch of data'\n",
    "        \n",
    "        # Find file names for the batch   \n",
    "        \n",
    "        # Here \"batch size\" = Number of files we read in for\n",
    "        # each element (index value) of the DataGenerator object\n",
    "        batch_size = self.batch_size\n",
    "        datafile_IDs = self.datafile_IDs[\n",
    "             index * batch_size : (index + 1) * batch_size]        \n",
    "        labelfile_IDs = self.labelfile_IDs[\n",
    "             index * batch_size : (index + 1) * batch_size]        \n",
    "        \n",
    "        # Generate data\n",
    "        X, y = self.__data_generation(datafile_IDs, labelfile_IDs)\n",
    "\n",
    "        return X, y\n",
    "\n",
    "    # def on_epoch_end(self):\n",
    "    #     'Updates indexes after each epoch'\n",
    "        # self.indexes = np.arange(len(self.list_IDs))\n",
    "        # if self.shuffle == True:\n",
    "        #     np.random.shuffle(self.indexes)\n",
    "    #    print(\"Call to routine on_epoch_end()\")\n",
    "\n",
    "    def __data_generation(self, datafile_IDs, labelfile_IDs):\n",
    "        \n",
    "        'Generates data containing batch_size samples' \n",
    "        \n",
    "        BatchDir = self.BatchDir\n",
    "        \n",
    "        # X : (n_samples, *dim, n_channels)\n",
    "        \n",
    "        # Initialize data arrays for this batch     \n",
    "        X = np.empty((self.batch_size, *self.dim))\n",
    "        y = np.empty((self.batch_size), dtype=int)         \n",
    "        \n",
    "        data_arrays = []\n",
    "        label_arrays = []\n",
    "        \n",
    "        # Generate data\n",
    "        for datafn, labelfn in zip(datafile_IDs, labelfile_IDs):\n",
    "            \n",
    "            # Store data\n",
    "            datafn = BatchDir + datafn\n",
    "            dat = np.load(datafn)\n",
    "            data_arrays.append(dat)\n",
    "\n",
    "            # Store label\n",
    "            labelfn = BatchDir + labelfn\n",
    "            lbl = np.load(labelfn)\n",
    "            label_arrays.append(lbl)\n",
    "\n",
    "        X = np.vstack(data_arrays)\n",
    "        y = np.vstack(label_arrays)\n",
    "        \n",
    "        return X, y        "
   ]
  },
  {
   "cell_type": "code",
   "execution_count": 6,
   "metadata": {
    "collapsed": true
   },
   "outputs": [],
   "source": [
    "df_input = df_lstm_100_rows_2000_ccm_100"
   ]
  },
  {
   "cell_type": "code",
   "execution_count": 7,
   "metadata": {
    "collapsed": true
   },
   "outputs": [],
   "source": [
    "df_short200 = df_input[100:300].copy()\n",
    "df_test = df_input[300:400].copy()"
   ]
  },
  {
   "cell_type": "code",
   "execution_count": 8,
   "metadata": {
    "collapsed": true
   },
   "outputs": [],
   "source": [
    "batchID = \"short200\"\n",
    "\n",
    "savedata(df_short200, batchID, recs_per_id = 5)"
   ]
  },
  {
   "cell_type": "code",
   "execution_count": 9,
   "metadata": {},
   "outputs": [
    {
     "data": {
      "text/plain": [
       "{'batch_size': 10, 'dim': (100, 10088), 'shuffle': False}"
      ]
     },
     "execution_count": 9,
     "metadata": {},
     "output_type": "execute_result"
    }
   ],
   "source": [
    "# pd.DataFrame(sigccm[0]).shape\n",
    "# (100, 10088)\n",
    "params = {'dim': (100, 10088),\n",
    "          'batch_size': 10,\n",
    "          'shuffle': False}\n",
    "params"
   ]
  },
  {
   "cell_type": "code",
   "execution_count": 10,
   "metadata": {
    "collapsed": true
   },
   "outputs": [],
   "source": [
    "dg = DataGenerator(batchID = \"short\", **params)"
   ]
  },
  {
   "cell_type": "code",
   "execution_count": 11,
   "metadata": {
    "collapsed": true
   },
   "outputs": [],
   "source": [
    "X, y = dg[0]"
   ]
  },
  {
   "cell_type": "code",
   "execution_count": 12,
   "metadata": {},
   "outputs": [
    {
     "data": {
      "text/plain": [
       "(20, 100, 10088)"
      ]
     },
     "execution_count": 12,
     "metadata": {},
     "output_type": "execute_result"
    }
   ],
   "source": [
    "X.shape"
   ]
  },
  {
   "cell_type": "markdown",
   "metadata": {},
   "source": [
    "**Boneyard**"
   ]
  },
  {
   "cell_type": "code",
   "execution_count": 85,
   "metadata": {
    "collapsed": true
   },
   "outputs": [],
   "source": [
    "def genbatchhd5(df, batchID, batch_size):\n",
    "\n",
    "    DataDir = \"data/\"\n",
    "    BatchDir = DataDir + batchID + \"/\"\n",
    "    \n",
    "    # If directory does not already exist\n",
    "    # for this batch, create it.\n",
    "    if not os.path.isdir(BatchDir):\n",
    "        mkdir(BatchDir)\n",
    "\n",
    "    sigccm = df[\"sigccm\"]\n",
    "    attack = df[\"Attack\"]\n",
    "        \n",
    "    idcnt = 0\n",
    "\n",
    "    # number of records to process\n",
    "    nrecs = len(sigccm)\n",
    "    print(\"Number of records: %d\" % nrecs)    \n",
    "    \n",
    "    nbatches = np.floor(nrecs / batch_size)\n",
    "    \n",
    "    f = h5py.File(BatchDir + batchID + \".h5\")    \n",
    "    dataset_data = f.create_dataset(\"data\", \n",
    "                           shape=(nbatches, batch_size, 10000), \n",
    "                           dtype=np.float64)\n",
    "    dataset_labels = f.create_dataset(\"labels\", \n",
    "                           shape=(nbatches, batch_size, 1), \n",
    "                           dtype=np.float64)\n",
    "    \n",
    "    for i in range(0, nrecs, batch_size):\n",
    "        \n",
    "        if i + batch_size > nrecs:\n",
    "            # upperbound = nrecs \n",
    "            \n",
    "            # if we don't have enough records left \n",
    "            # to make a complete batch, just bail out\n",
    "            break\n",
    "        else: \n",
    "            upperbound = i + batch_size            \n",
    "        \n",
    "        x = np.stack(sigccm[i : upperbound]) \n",
    "        y = np.stack(attack[i : upperbound]) \n",
    "        \n",
    "        dataset_data[idcnt] = x\n",
    "        dataset_labels[idcnt] = y\n",
    "        \n",
    "        # fnm = 'data_{:s}{:02d}.npy'.format(batchID, idcnt)\n",
    "        # dataid = 'data_{:s}{:02d}'.format(batchID, idcnt)\n",
    "        # dataid = 'data_{:02d}'.format(idcnt)\n",
    "        # dataids.append(dataid)        \n",
    "        # hd5store.append(dataid, df_x)\n",
    "        # hd5store.put(dataid, x)\n",
    "        # np.save(BatchDir + fnm, x) \n",
    "\n",
    "        # >> store.get_storer(\"junk\").attrs.my_attribute = x_junk1\n",
    "               \n",
    "        # labelid = 'labels_{:s}{:02d}'.format(batchID, idcnt)\n",
    "        # labelid = 'labels_{:02d}'.format(idcnt)\n",
    "        # labelids.append(labelid)        \n",
    "        # hd5store.append(labelid, df_y)\n",
    "        # hd5store.put(labelid, y)\n",
    "        # np.save(BatchDir + fnm, y)\n",
    "        \n",
    "        idcnt = idcnt + 1            \n",
    "\n",
    "    f.close()\n",
    "    \n",
    "    # data_ids = \"dataids_\" + batchID\n",
    "    # label_ids = \"labelids_\" + batchID\n",
    "    # hd5store.put(data_ids, dataids)\n",
    "    # hd5store.put(label_ids, labelids)\n",
    "    \n",
    "    # path = BatchDir + \"datafilenames_\" + batchID + \".pkl\"\n",
    "    # \n",
    "    # fd = open(path, \"wb\")\n",
    "    # pkl.dump(datafiles, fd)\n",
    "    # fd.close() \n",
    "    # \n",
    "    # path = BatchDir + \"labelfilenames_\" + batchID + \".pkl\"\n",
    "    # \n",
    "    # fd = open(path, \"wb\")\n",
    "    # pkl.dump(labelfiles, fd)\n",
    "    # fd.close()    \n",
    "    "
   ]
  },
  {
   "cell_type": "code",
   "execution_count": 78,
   "metadata": {
    "collapsed": true
   },
   "outputs": [],
   "source": [
    "df_junktest3 = df_rows_5000_ccm_100_lstm_100[:100].copy()"
   ]
  },
  {
   "cell_type": "code",
   "execution_count": 86,
   "metadata": {
    "collapsed": true
   },
   "outputs": [],
   "source": [
    "batchID = \"junktest3\"\n",
    "DataDir = \"data/\"\n",
    "BatchDir = DataDir + batchID + \"/\"\n",
    "batch_size = 20"
   ]
  },
  {
   "cell_type": "code",
   "execution_count": 87,
   "metadata": {},
   "outputs": [
    {
     "name": "stdout",
     "output_type": "stream",
     "text": [
      "Number of records: 100\n"
     ]
    },
    {
     "ename": "TypeError",
     "evalue": "Can't broadcast (20, 100, 10088) -> (1, 10000)",
     "output_type": "error",
     "traceback": [
      "\u001b[0;31m---------------------------------------------------------------------------\u001b[0m",
      "\u001b[0;31mTypeError\u001b[0m                                 Traceback (most recent call last)",
      "\u001b[0;32m<ipython-input-87-24b8cd6c463f>\u001b[0m in \u001b[0;36m<module>\u001b[0;34m()\u001b[0m\n\u001b[1;32m      1\u001b[0m genbatchhd5(df_junktest3,\n\u001b[1;32m      2\u001b[0m             \u001b[0mbatchID\u001b[0m \u001b[0;34m=\u001b[0m \u001b[0mbatchID\u001b[0m\u001b[0;34m,\u001b[0m\u001b[0;34m\u001b[0m\u001b[0m\n\u001b[0;32m----> 3\u001b[0;31m             batch_size = batch_size)\n\u001b[0m",
      "\u001b[0;32m<ipython-input-85-532b2af35d3f>\u001b[0m in \u001b[0;36mgenbatchhd5\u001b[0;34m(df, batchID, batch_size)\u001b[0m\n\u001b[1;32m     42\u001b[0m         \u001b[0my\u001b[0m \u001b[0;34m=\u001b[0m \u001b[0mnp\u001b[0m\u001b[0;34m.\u001b[0m\u001b[0mstack\u001b[0m\u001b[0;34m(\u001b[0m\u001b[0mattack\u001b[0m\u001b[0;34m[\u001b[0m\u001b[0mi\u001b[0m \u001b[0;34m:\u001b[0m \u001b[0mupperbound\u001b[0m\u001b[0;34m]\u001b[0m\u001b[0;34m)\u001b[0m\u001b[0;34m\u001b[0m\u001b[0m\n\u001b[1;32m     43\u001b[0m \u001b[0;34m\u001b[0m\u001b[0m\n\u001b[0;32m---> 44\u001b[0;31m         \u001b[0mdataset_data\u001b[0m\u001b[0;34m[\u001b[0m\u001b[0midcnt\u001b[0m\u001b[0;34m]\u001b[0m \u001b[0;34m=\u001b[0m \u001b[0mx\u001b[0m\u001b[0;34m\u001b[0m\u001b[0m\n\u001b[0m\u001b[1;32m     45\u001b[0m         \u001b[0mdataset_labels\u001b[0m\u001b[0;34m[\u001b[0m\u001b[0midcnt\u001b[0m\u001b[0;34m]\u001b[0m \u001b[0;34m=\u001b[0m \u001b[0my\u001b[0m\u001b[0;34m\u001b[0m\u001b[0m\n\u001b[1;32m     46\u001b[0m \u001b[0;34m\u001b[0m\u001b[0m\n",
      "\u001b[0;32mh5py/_objects.pyx\u001b[0m in \u001b[0;36mh5py._objects.with_phil.wrapper\u001b[0;34m()\u001b[0m\n",
      "\u001b[0;32mh5py/_objects.pyx\u001b[0m in \u001b[0;36mh5py._objects.with_phil.wrapper\u001b[0;34m()\u001b[0m\n",
      "\u001b[0;32m~/anaconda3/envs/py36/lib/python3.6/site-packages/h5py/_hl/dataset.py\u001b[0m in \u001b[0;36m__setitem__\u001b[0;34m(self, args, val)\u001b[0m\n\u001b[1;32m    629\u001b[0m             \u001b[0mmshape_pad\u001b[0m \u001b[0;34m=\u001b[0m \u001b[0mmshape\u001b[0m\u001b[0;34m\u001b[0m\u001b[0m\n\u001b[1;32m    630\u001b[0m         \u001b[0mmspace\u001b[0m \u001b[0;34m=\u001b[0m \u001b[0mh5s\u001b[0m\u001b[0;34m.\u001b[0m\u001b[0mcreate_simple\u001b[0m\u001b[0;34m(\u001b[0m\u001b[0mmshape_pad\u001b[0m\u001b[0;34m,\u001b[0m \u001b[0;34m(\u001b[0m\u001b[0mh5s\u001b[0m\u001b[0;34m.\u001b[0m\u001b[0mUNLIMITED\u001b[0m\u001b[0;34m,\u001b[0m\u001b[0;34m)\u001b[0m\u001b[0;34m*\u001b[0m\u001b[0mlen\u001b[0m\u001b[0;34m(\u001b[0m\u001b[0mmshape_pad\u001b[0m\u001b[0;34m)\u001b[0m\u001b[0;34m)\u001b[0m\u001b[0;34m\u001b[0m\u001b[0m\n\u001b[0;32m--> 631\u001b[0;31m         \u001b[0;32mfor\u001b[0m \u001b[0mfspace\u001b[0m \u001b[0;32min\u001b[0m \u001b[0mselection\u001b[0m\u001b[0;34m.\u001b[0m\u001b[0mbroadcast\u001b[0m\u001b[0;34m(\u001b[0m\u001b[0mmshape\u001b[0m\u001b[0;34m)\u001b[0m\u001b[0;34m:\u001b[0m\u001b[0;34m\u001b[0m\u001b[0m\n\u001b[0m\u001b[1;32m    632\u001b[0m             \u001b[0mself\u001b[0m\u001b[0;34m.\u001b[0m\u001b[0mid\u001b[0m\u001b[0;34m.\u001b[0m\u001b[0mwrite\u001b[0m\u001b[0;34m(\u001b[0m\u001b[0mmspace\u001b[0m\u001b[0;34m,\u001b[0m \u001b[0mfspace\u001b[0m\u001b[0;34m,\u001b[0m \u001b[0mval\u001b[0m\u001b[0;34m,\u001b[0m \u001b[0mmtype\u001b[0m\u001b[0;34m,\u001b[0m \u001b[0mdxpl\u001b[0m\u001b[0;34m=\u001b[0m\u001b[0mself\u001b[0m\u001b[0;34m.\u001b[0m\u001b[0m_dxpl\u001b[0m\u001b[0;34m)\u001b[0m\u001b[0;34m\u001b[0m\u001b[0m\n\u001b[1;32m    633\u001b[0m \u001b[0;34m\u001b[0m\u001b[0m\n",
      "\u001b[0;32m~/anaconda3/envs/py36/lib/python3.6/site-packages/h5py/_hl/selections.py\u001b[0m in \u001b[0;36mbroadcast\u001b[0;34m(self, target_shape)\u001b[0m\n\u001b[1;32m    297\u001b[0m                     \u001b[0mtshape\u001b[0m\u001b[0;34m.\u001b[0m\u001b[0mappend\u001b[0m\u001b[0;34m(\u001b[0m\u001b[0mt\u001b[0m\u001b[0;34m)\u001b[0m\u001b[0;34m\u001b[0m\u001b[0m\n\u001b[1;32m    298\u001b[0m                 \u001b[0;32melse\u001b[0m\u001b[0;34m:\u001b[0m\u001b[0;34m\u001b[0m\u001b[0m\n\u001b[0;32m--> 299\u001b[0;31m                     \u001b[0;32mraise\u001b[0m \u001b[0mTypeError\u001b[0m\u001b[0;34m(\u001b[0m\u001b[0;34m\"Can't broadcast %s -> %s\"\u001b[0m \u001b[0;34m%\u001b[0m \u001b[0;34m(\u001b[0m\u001b[0mtarget_shape\u001b[0m\u001b[0;34m,\u001b[0m \u001b[0mcount\u001b[0m\u001b[0;34m)\u001b[0m\u001b[0;34m)\u001b[0m\u001b[0;34m\u001b[0m\u001b[0m\n\u001b[0m\u001b[1;32m    300\u001b[0m         \u001b[0mtshape\u001b[0m\u001b[0;34m.\u001b[0m\u001b[0mreverse\u001b[0m\u001b[0;34m(\u001b[0m\u001b[0;34m)\u001b[0m\u001b[0;34m\u001b[0m\u001b[0m\n\u001b[1;32m    301\u001b[0m         \u001b[0mtshape\u001b[0m \u001b[0;34m=\u001b[0m \u001b[0mtuple\u001b[0m\u001b[0;34m(\u001b[0m\u001b[0mtshape\u001b[0m\u001b[0;34m)\u001b[0m\u001b[0;34m\u001b[0m\u001b[0m\n",
      "\u001b[0;31mTypeError\u001b[0m: Can't broadcast (20, 100, 10088) -> (1, 10000)"
     ]
    }
   ],
   "source": [
    "genbatchhd5(df_junktest3,\n",
    "            batchID = batchID, \n",
    "            batch_size = batch_size)"
   ]
  },
  {
   "cell_type": "code",
   "execution_count": 57,
   "metadata": {
    "collapsed": true
   },
   "outputs": [],
   "source": [
    "data = df_recs_5000_ccm_100_lstm_100\n",
    "batchID = \"recs_5000_ccm_100_lstm_100\"\n",
    "batch_size = 200\n",
    "\n",
    "DataDir = \"data/\"\n",
    "hd5fnm = \"recs_5000_ccm_100_lstm_100.h5\"\n",
    "path = DataDir + hd5fnm\n",
    "hd5store = pd.HDFStore(path)"
   ]
  },
  {
   "cell_type": "code",
   "execution_count": 60,
   "metadata": {},
   "outputs": [
    {
     "ename": "NameError",
     "evalue": "name 'df_rows_2000_ccm_100_lstm_100' is not defined",
     "output_type": "error",
     "traceback": [
      "\u001b[0;31m---------------------------------------------------------------------------\u001b[0m",
      "\u001b[0;31mNameError\u001b[0m                                 Traceback (most recent call last)",
      "\u001b[0;32m<ipython-input-60-0a7d4c7cae04>\u001b[0m in \u001b[0;36m<module>\u001b[0;34m()\u001b[0m\n\u001b[0;32m----> 1\u001b[0;31m \u001b[0mdf_rows_2000_ccm_100_lstm_100\u001b[0m\u001b[0;34m.\u001b[0m\u001b[0mhead\u001b[0m\u001b[0;34m(\u001b[0m\u001b[0;34m)\u001b[0m\u001b[0;34m\u001b[0m\u001b[0m\n\u001b[0m",
      "\u001b[0;31mNameError\u001b[0m: name 'df_rows_2000_ccm_100_lstm_100' is not defined"
     ]
    }
   ],
   "source": [
    "df_rows_2000_ccm_100_lstm_100.head()"
   ]
  },
  {
   "cell_type": "code",
   "execution_count": 49,
   "metadata": {
    "collapsed": true
   },
   "outputs": [],
   "source": [
    "dat = f.create_dataset(\"bigdata1\", shape=(10000,), dtype=np.float64)"
   ]
  },
  {
   "cell_type": "code",
   "execution_count": 50,
   "metadata": {
    "collapsed": true
   },
   "outputs": [],
   "source": [
    "x1 = f[\"bigdata1\"] "
   ]
  },
  {
   "cell_type": "code",
   "execution_count": 51,
   "metadata": {},
   "outputs": [
    {
     "data": {
      "text/plain": [
       "((10000,), h5py._hl.dataset.Dataset)"
      ]
     },
     "execution_count": 51,
     "metadata": {},
     "output_type": "execute_result"
    }
   ],
   "source": [
    "x1.shape, type(x1)"
   ]
  },
  {
   "cell_type": "code",
   "execution_count": 52,
   "metadata": {
    "collapsed": true
   },
   "outputs": [],
   "source": [
    "a1 = f[\"bigdata1\"][()]"
   ]
  },
  {
   "cell_type": "code",
   "execution_count": 53,
   "metadata": {},
   "outputs": [
    {
     "data": {
      "text/plain": [
       "(numpy.ndarray, (10000,))"
      ]
     },
     "execution_count": 53,
     "metadata": {},
     "output_type": "execute_result"
    }
   ],
   "source": [
    "type(a1), a1.shape"
   ]
  },
  {
   "cell_type": "markdown",
   "metadata": {},
   "source": [
    "## Generator Based on Numpy IO"
   ]
  },
  {
   "cell_type": "markdown",
   "metadata": {},
   "source": [
    "**Batch Generation Using Numpy IO**"
   ]
  },
  {
   "cell_type": "code",
   "execution_count": 9,
   "metadata": {
    "collapsed": true
   },
   "outputs": [],
   "source": [
    "def genbatchfiles(df, batchID, batch_size = 5):\n",
    "\n",
    "    DataDir = \"data/\"\n",
    "    BatchDir = DataDir + batchID + \"/\"\n",
    "    \n",
    "    # If directory does not already exist\n",
    "    # for this batch, create it.\n",
    "    if not os.path.isdir(BatchDir):\n",
    "        mkdir(BatchDir)\n",
    "\n",
    "    sigccm = df[\"sigccm\"]\n",
    "    attack = df[\"Attack\"]\n",
    "        \n",
    "    idcnt = 0\n",
    "    datafiles = []\n",
    "    labelfiles = []\n",
    "    \n",
    "    # number of records to process\n",
    "    nrecs = len(sigccm)\n",
    "    print(\"Number of records: %d\" % nrecs)\n",
    "    \n",
    "    for i in range(0, nrecs, batch_size):\n",
    "        \n",
    "        if i + batch_size > nrecs:\n",
    "            # upperbound = nrecs \n",
    "            \n",
    "            # if we don't have enough records left \n",
    "            # to make a complete batch, just bail out\n",
    "            break\n",
    "        else: \n",
    "            upperbound = i + batch_size            \n",
    "        \n",
    "        x = np.stack(sigccm[i : upperbound]) \n",
    "        y = np.stack(attack[i : upperbound]) \n",
    "        \n",
    "        fnm = 'data_{:s}{:02d}.npy'.format(batchID, idcnt)\n",
    "        datafiles.append(fnm)        \n",
    "        np.save(BatchDir + fnm, x)\n",
    "               \n",
    "        fnm = 'labels_{:s}{:02d}.npy'.format(batchID, idcnt)\n",
    "        labelfiles.append(fnm)        \n",
    "        np.save(BatchDir + fnm, y)\n",
    "        \n",
    "        idcnt = idcnt + 1            \n",
    "        \n",
    "    path = BatchDir + \"datafilenames_\" + batchID + \".pkl\"\n",
    "    \n",
    "    fd = open(path, \"wb\")\n",
    "    pkl.dump(datafiles, fd)\n",
    "    fd.close() \n",
    "\n",
    "    path = BatchDir + \"labelfilenames_\" + batchID + \".pkl\"\n",
    "    \n",
    "    fd = open(path, \"wb\")\n",
    "    pkl.dump(labelfiles, fd)\n",
    "    fd.close()    "
   ]
  },
  {
   "cell_type": "code",
   "execution_count": 10,
   "metadata": {},
   "outputs": [
    {
     "name": "stdout",
     "output_type": "stream",
     "text": [
      "Number of records: 5100\n"
     ]
    }
   ],
   "source": [
    "data = df_rows_5000_ccm_100_lstm_100\n",
    "batchID = \"rows_5000_ccm_100_lstm_100\" \n",
    "batch_size = 200\n",
    "\n",
    "genbatchfiles(data,\n",
    "              batchID = batchID, \n",
    "              batch_size = batch_size)"
   ]
  },
  {
   "cell_type": "markdown",
   "metadata": {},
   "source": [
    "**Data Generator Based on Numpy IO**"
   ]
  },
  {
   "cell_type": "code",
   "execution_count": 22,
   "metadata": {
    "collapsed": true
   },
   "outputs": [],
   "source": [
    "def data_generator(batchID, \n",
    "                   batch_size = 32, \n",
    "                   dim = (20, 100)):\n",
    "\n",
    "    print(\"In data_generator.\")   \n",
    "    \n",
    "    outputshape = (batch_size, *dim)\n",
    "    \n",
    "    DataDir = \"data/\"\n",
    "    BatchDir = DataDir + batchID + \"/\"\n",
    "    \n",
    "    datafile_IDs = []\n",
    "    labelfile_IDs = []\n",
    "\n",
    "    path = BatchDir + \"datafilenames_\" + batchID + \".pkl\"                                    \n",
    "    fd = open(path, \"rb\")\n",
    "    datafile_IDs = pkl.load(fd)\n",
    "    fd.close()\n",
    "\n",
    "    path = BatchDir + \"labelfilenames_\" + batchID + \".pkl\"        \n",
    "    fd = open(path, \"rb\")\n",
    "    labelfile_IDs = pkl.load(fd)\n",
    "    fd.close()       \n",
    "\n",
    "    while True:\n",
    "        for index in range(len(datafile_IDs)):    \n",
    "\n",
    "            'Generate one batch of data'\n",
    "\n",
    "            datafn = datafile_IDs[index]        \n",
    "            labelfn = labelfile_IDs[index]  \n",
    "\n",
    "            # Initialize data arrays for this batch     \n",
    "            # X = np.empty((batch_size, *dim))\n",
    "            # y = np.empty((batch_size), dtype=int)         \n",
    "\n",
    "            # Read data\n",
    "            datapath = BatchDir + datafn\n",
    "            X = np.load(datapath)\n",
    "\n",
    "            # Read label\n",
    "            labelpath = BatchDir + labelfn\n",
    "            y = np.load(labelpath) \n",
    "\n",
    "            if outputshape != X.shape:\n",
    "                msg = \"Wrong shape: \"\n",
    "                idx = \"index = {:d}, \".format(index)\n",
    "                fnm = \"datafn = {:s}, \".format(datafn)\n",
    "                shp = \"X.shape = {:s}\".format(str(X.shape))\n",
    "                msg = msg + idx + fnm + shp\n",
    "                print(msg)\n",
    "\n",
    "            else: \n",
    "\n",
    "                yield X, y                 "
   ]
  },
  {
   "cell_type": "code",
   "execution_count": 23,
   "metadata": {
    "collapsed": true
   },
   "outputs": [],
   "source": [
    "params = {'batchID': \"rows_5000_ccm_100_lstm_100\", \n",
    "          'batch_size': 200, 'dim': (100, 10088)} "
   ]
  },
  {
   "cell_type": "code",
   "execution_count": 24,
   "metadata": {
    "collapsed": true
   },
   "outputs": [],
   "source": [
    "dg = data_generator(**params) "
   ]
  },
  {
   "cell_type": "markdown",
   "metadata": {},
   "source": [
    "## Generator Based on HD5 IO"
   ]
  },
  {
   "cell_type": "code",
   "execution_count": 3,
   "metadata": {
    "collapsed": true
   },
   "outputs": [],
   "source": [
    "def data_generator(dataID,\n",
    "                   batch_size, \n",
    "                   dim = (20, 100)):      \n",
    "    \n",
    "    print(\"In data_generator.\")      \n",
    "\n",
    "    DataDir = \"data/\"\n",
    "    BatchDir = DataDir + dataID + \"/\"\n",
    "    h5path = BatchDir + dataID + \".h5\"\n",
    "    \n",
    "    f = h5py.File(h5path, \"r\")\n",
    "    data = f[\"sigccm\"]\n",
    "    labels = f[\"Attack\"]\n",
    "\n",
    "    # number of records to process\n",
    "    nrecs = len(data)\n",
    "    \n",
    "    outputshape = (batch_size, *dim)\n",
    "    \n",
    "    while True:            \n",
    "    \n",
    "        for i in range(0, nrecs, batch_size):\n",
    "\n",
    "            'Generate one batch of data'\n",
    "            \n",
    "            if i + batch_size > nrecs:\n",
    "                \n",
    "                # upperbound = nrecs \n",
    "                \n",
    "                # If we can get a complete batch\n",
    "                # out of the remaining data, go\n",
    "                # ahead and wrap up this epoch and\n",
    "                # start the next one.\n",
    "                \n",
    "                break\n",
    "                \n",
    "            else: \n",
    "                upperbound = i + batch_size\n",
    "\n",
    "            X = np.array(data[i : upperbound]) \n",
    "            y = np.array(labels[i : upperbound])             \n",
    "            \n",
    "            if outputshape != X.shape:\n",
    "                msg = \"Wrong shape: \"\n",
    "                idx = \"index = {:d}, \".format(index)\n",
    "                shp = \"X.shape = {:s}\".format(str(X.shape))\n",
    "                msg = msg + idx + shp\n",
    "                print(msg)\n",
    "\n",
    "            else:\n",
    "\n",
    "                # Label (Attack) field has an extra\n",
    "                # nested array dimension. Get rid of it.\n",
    "                \n",
    "                u = np.array(y)\n",
    "                y = np.resize(u, (batch_size, 1))\n",
    "                yield X, y  \n",
    "                \n",
    "    f.close()"
   ]
  },
  {
   "cell_type": "markdown",
   "metadata": {},
   "source": [
    "Create generator for training data."
   ]
  },
  {
   "cell_type": "code",
   "execution_count": 4,
   "metadata": {},
   "outputs": [
    {
     "data": {
      "text/plain": [
       "{'batch_size': 200,\n",
       " 'dataID': 'rows_5000_ccm_100_lstm_100',\n",
       " 'dim': (100, 10088)}"
      ]
     },
     "execution_count": 4,
     "metadata": {},
     "output_type": "execute_result"
    }
   ],
   "source": [
    "params_train = {'dataID': \"rows_5000_ccm_100_lstm_100\",\n",
    "          'batch_size': 200,\n",
    "          'dim': (100, 10088)}\n",
    "params_train"
   ]
  },
  {
   "cell_type": "code",
   "execution_count": 5,
   "metadata": {
    "collapsed": true
   },
   "outputs": [],
   "source": [
    "dg = data_generator(**params_train)"
   ]
  },
  {
   "cell_type": "markdown",
   "metadata": {},
   "source": [
    "Target data must have the shape `(num_samples, num_classes)` according fchollet himself. See [this StackOverflow post](https://github.com/keras-team/keras/issues/9233)."
   ]
  },
  {
   "cell_type": "code",
   "execution_count": 103,
   "metadata": {},
   "outputs": [],
   "source": [
    "cnt = 0\n",
    "for X, y in dg:\n",
    "    if cnt > 0:\n",
    "        break\n",
    "    # print(y.shape)\n",
    "    # print(y)\n",
    "    X2 = X\n",
    "    y2 = y\n",
    "    u2 = u\n",
    "    cnt = cnt + 1"
   ]
  },
  {
   "cell_type": "code",
   "execution_count": 104,
   "metadata": {},
   "outputs": [
    {
     "data": {
      "text/plain": [
       "((200, 100, 10088), (200, 1), (200,))"
      ]
     },
     "execution_count": 104,
     "metadata": {},
     "output_type": "execute_result"
    }
   ],
   "source": [
    "X2.shape, y2.shape, u2.shape"
   ]
  },
  {
   "cell_type": "code",
   "execution_count": 34,
   "metadata": {},
   "outputs": [
    {
     "data": {
      "text/plain": [
       "(200,)"
      ]
     },
     "execution_count": 34,
     "metadata": {},
     "output_type": "execute_result"
    }
   ],
   "source": [
    "a = np.array(np.random.rand(200))\n",
    "a.shape"
   ]
  },
  {
   "cell_type": "markdown",
   "metadata": {},
   "source": [
    "Create generator for test data."
   ]
  },
  {
   "cell_type": "code",
   "execution_count": 6,
   "metadata": {},
   "outputs": [
    {
     "data": {
      "text/plain": [
       "{'batch_size': 200,\n",
       " 'dataID': 'rows_5000to6000_ccm_100_lstm_100',\n",
       " 'dim': (100, 10088)}"
      ]
     },
     "execution_count": 6,
     "metadata": {},
     "output_type": "execute_result"
    }
   ],
   "source": [
    "params_test = {'dataID': \"rows_5000to6000_ccm_100_lstm_100\",\n",
    "               'batch_size': 200,\n",
    "               'dim': (100, 10088)}\n",
    "params_test"
   ]
  },
  {
   "cell_type": "code",
   "execution_count": 7,
   "metadata": {
    "collapsed": true
   },
   "outputs": [],
   "source": [
    "dg_validation = data_generator(**params_test)"
   ]
  },
  {
   "cell_type": "markdown",
   "metadata": {},
   "source": [
    "# LSTM"
   ]
  },
  {
   "cell_type": "markdown",
   "metadata": {},
   "source": [
    "* **batch_size** determines the number of samples in each mini batch amd allows us to adjust between two extremes: accurate gradient direction (large batch size) VS. fast iteration (small batch size). \n",
    "  * _Maximum_: the number of all samples\n",
    "  * _Gradient Descent_: become increasingly accurate as batch size approaches total number of samples\n",
    "  * _Loss_: decreases as batch size approaches the number of samples (??), provided the learning rate is small enough.\n",
    "  * _Speed of Iterations_: decreases as batch size approaches the minimum of 1. \n",
    "  * _Stochastic gradient descent_: What we get with a batch size = 1. Fast but the direction of the gradient step is based only on one example, the loss may jump around. \n",
    "  * _Maximum Batch Size_: may be limited if your model + data set does not fit into the available (GPU) memory.\n",
    "  \n",
    "* **steps_per_epoch:** <font color=\"blue\">**_the number of samples in your dataset divided by the batch size, or 1 if that cannot be determined_**</font>. Keras interprets this as the number of batch iterations before a training epoch is considered finished. If you have a training set of fixed size you can ignore it but it may be useful if you have a huge data set or if you are generating random data augmentations on the fly, i.e. if your training set has a (generated) infinite size. If you have the time to go through your whole training data set I recommend to skip this parameter.\n",
    "* **validation_steps** similar to steps_per_epoch but on the validation data set instead on the training data. If you have the time to go through your whole validation data set I recommend to skip this parameter.\n"
   ]
  },
  {
   "cell_type": "markdown",
   "metadata": {},
   "source": [
    "## Workflow\n",
    "\n",
    "* Create Batch Files\n",
    "* Generator"
   ]
  },
  {
   "cell_type": "markdown",
   "metadata": {},
   "source": [
    "## Build the LSTM Model"
   ]
  },
  {
   "cell_type": "code",
   "execution_count": 142,
   "metadata": {},
   "outputs": [
    {
     "data": {
      "text/plain": [
       "'2.1.2'"
      ]
     },
     "execution_count": 142,
     "metadata": {},
     "output_type": "execute_result"
    }
   ],
   "source": [
    "keras.__version__"
   ]
  },
  {
   "cell_type": "code",
   "execution_count": 8,
   "metadata": {},
   "outputs": [
    {
     "data": {
      "text/plain": [
       "(100, 10088, 1)"
      ]
     },
     "execution_count": 8,
     "metadata": {},
     "output_type": "execute_result"
    }
   ],
   "source": [
    "time_series_length, input_dim, output_dim = 100, 10088, 1\n",
    "time_series_length, input_dim, output_dim"
   ]
  },
  {
   "cell_type": "code",
   "execution_count": 9,
   "metadata": {
    "collapsed": true
   },
   "outputs": [],
   "source": [
    "# Build the model\n",
    "model = Sequential()"
   ]
  },
  {
   "cell_type": "code",
   "execution_count": 10,
   "metadata": {},
   "outputs": [],
   "source": [
    "# I arbitrarily picked the output dimensions as 20\n",
    "model.add(LSTM(20, \n",
    "               input_shape=(time_series_length, input_dim))) \n",
    "\n",
    "# model.add(TimeDistributed(Dense(1)))\n",
    "# The max output value is > 1 so relu is used as final activation.\n",
    "# model.add(Dense(output_dim, activation='relu'))\n",
    "model.add(Dense(output_dim, activation='sigmoid'))\n",
    "\n",
    "model.compile(loss='mean_squared_error',\n",
    "              optimizer='sgd',\n",
    "              metrics=['accuracy'])\n",
    "# model.compile(loss='mae', optimizer='adam') "
   ]
  },
  {
   "cell_type": "markdown",
   "metadata": {},
   "source": [
    "Example datafile: `data_rows_5000_ccm_100_lstm_100_id00.npy`\n",
    "\n",
    "**steps_per_epoch** = the number of samples in your dataset divided by the batch size, or 1 if that cannot be determined."
   ]
  },
  {
   "cell_type": "code",
   "execution_count": 12,
   "metadata": {},
   "outputs": [
    {
     "data": {
      "text/plain": [
       "(24, 4)"
      ]
     },
     "execution_count": 12,
     "metadata": {},
     "output_type": "execute_result"
    }
   ],
   "source": [
    "batch_size = params[\"batch_size\"]\n",
    "# subtract 100 to account for bad records that were discarded\n",
    "steps_per_epoch = int(np.floor((5000 - 100) / batch_size))\n",
    "validation_steps = int(np.floor((1000 - 100) / batch_size))\n",
    "steps_per_epoch, validation_steps"
   ]
  },
  {
   "cell_type": "code",
   "execution_count": null,
   "metadata": {},
   "outputs": [
    {
     "name": "stdout",
     "output_type": "stream",
     "text": [
      "In data_generator.\n",
      "Epoch 1/10\n",
      "23/24 [===========================>..] - ETA: 2s - loss: 0.1244 - acc: 0.8583In data_generator.\n",
      "24/24 [==============================] - 73s 3s/step - loss: 0.1241 - acc: 0.8585 - val_loss: 0.1186 - val_acc: 0.8625\n",
      "Epoch 2/10\n",
      "24/24 [==============================] - 70s 3s/step - loss: 0.1217 - acc: 0.8581 - val_loss: 0.1186 - val_acc: 0.8625\n",
      "Epoch 3/10\n",
      "24/24 [==============================] - 90s 4s/step - loss: 0.1213 - acc: 0.8588 - val_loss: 0.1328 - val_acc: 0.7588\n",
      "Epoch 4/10\n",
      "24/24 [==============================] - 97s 4s/step - loss: 0.1217 - acc: 0.8581 - val_loss: 0.1337 - val_acc: 0.7575\n",
      "Epoch 5/10\n",
      "23/24 [===========================>..] - ETA: 2s - loss: 0.1213 - acc: 0.8587"
     ]
    }
   ],
   "source": [
    "history = model.fit_generator(generator = dg,\n",
    "                    validation_data = dg_validation,\n",
    "                    validation_steps = validation_steps,\n",
    "                    steps_per_epoch = steps_per_epoch,\n",
    "                    epochs=10, \n",
    "                    verbose=1,\n",
    "                    workers=1,\n",
    "                    use_multiprocessing=False)"
   ]
  },
  {
   "cell_type": "markdown",
   "metadata": {},
   "source": [
    "Plot the training and test loss."
   ]
  },
  {
   "cell_type": "code",
   "execution_count": 112,
   "metadata": {},
   "outputs": [
    {
     "data": {
      "image/png": "[encoded data removed]",
      "text/plain": [
       "<Figure size 432x288 with 1 Axes>"
      ]
     },
     "metadata": {},
     "output_type": "display_data"
    }
   ],
   "source": [
    "# plot history\n",
    "plt.plot(history.history['loss'], label='train')\n",
    "# plt.plot(history.history['val_loss'], label='test')\n",
    "plt.legend()\n",
    "plt.show()"
   ]
  },
  {
   "cell_type": "markdown",
   "metadata": {},
   "source": [
    "## Make Predictions and Plot ROC-AUC Metric"
   ]
  },
  {
   "cell_type": "code",
   "execution_count": null,
   "metadata": {
    "collapsed": true
   },
   "outputs": [],
   "source": [
    "# Make predictions with stacked LSTMs\n",
    "trainPredict = model.predict(X_train, batch_size=batch_size)\n",
    "model.reset_states()\n",
    "testPredict = model.predict(X_test, batch_size=batch_size)"
   ]
  },
  {
   "cell_type": "code",
   "execution_count": 36,
   "metadata": {
    "collapsed": true
   },
   "outputs": [],
   "source": [
    "# Make predictions with regular LSTM\n",
    "trainPredict = model.predict(X_train)\n",
    "testPredict = model.predict(X_test)"
   ]
  },
  {
   "cell_type": "code",
   "execution_count": 37,
   "metadata": {
    "collapsed": true
   },
   "outputs": [],
   "source": [
    "fpr, tpr, thresholds = roc_curve(y_test, testPredict)"
   ]
  },
  {
   "cell_type": "code",
   "execution_count": 38,
   "metadata": {
    "collapsed": true
   },
   "outputs": [],
   "source": [
    "auc = auc(fpr, tpr)"
   ]
  },
  {
   "cell_type": "code",
   "execution_count": 39,
   "metadata": {},
   "outputs": [
    {
     "data": {
      "image/png": "[encoded data removed]",
      "text/plain": [
       "<Figure size 432x288 with 1 Axes>"
      ]
     },
     "metadata": {},
     "output_type": "display_data"
    }
   ],
   "source": [
    "plt.figure(1)\n",
    "plt.plot([0, 1], [0, 1], 'k--')\n",
    "plt.plot(fpr, tpr, \n",
    "         label='area = {:.3f}'.format(auc))\n",
    "plt.xlabel('False positive rate')\n",
    "plt.ylabel('True positive rate')\n",
    "plt.title('ROC curve')\n",
    "plt.legend(loc='best')\n",
    "plt.show()"
   ]
  },
  {
   "cell_type": "code",
   "execution_count": 152,
   "metadata": {},
   "outputs": [
    {
     "data": {
      "image/png": "[encoded data removed]",
      "text/plain": [
       "<Figure size 432x288 with 1 Axes>"
      ]
     },
     "metadata": {},
     "output_type": "display_data"
    }
   ],
   "source": [
    "# Zoom in view of the upper left corner.\n",
    "plt.figure(2)\n",
    "plt.xlim(0, 0.2)\n",
    "plt.ylim(0.8, 1)\n",
    "plt.plot([0, 1], [0, 1], 'k--')\n",
    "plt.plot(fpr, tpr, \n",
    "         label='area = {:.3f}'.format(auc))\n",
    "plt.xlabel('False positive rate')\n",
    "plt.ylabel('True positive rate')\n",
    "plt.title('ROC curve (zoomed in at top left)')\n",
    "plt.legend(loc='best')\n",
    "plt.show() "
   ]
  },
  {
   "cell_type": "code",
   "execution_count": 51,
   "metadata": {},
   "outputs": [
    {
     "data": {
      "text/plain": [
       "1.0    13178\n",
       "0.0     3045\n",
       "Name: 0, dtype: int64"
      ]
     },
     "execution_count": 51,
     "metadata": {},
     "output_type": "execute_result"
    }
   ],
   "source": [
    "df_tst = pd.DataFrame(y_test)\n",
    "df_tst[0].value_counts()"
   ]
  },
  {
   "cell_type": "markdown",
   "metadata": {
    "collapsed": true
   },
   "source": [
    "# LSTM (Phony Data)"
   ]
  },
  {
   "cell_type": "markdown",
   "metadata": {},
   "source": [
    "Adding a reference to the values attribute changes nothing."
   ]
  },
  {
   "cell_type": "code",
   "execution_count": 163,
   "metadata": {
    "collapsed": true
   },
   "outputs": [],
   "source": [
    "y2 = np.stack(df_test.Attack.values)"
   ]
  },
  {
   "cell_type": "code",
   "execution_count": 164,
   "metadata": {},
   "outputs": [
    {
     "data": {
      "text/plain": [
       "array([[1.]])"
      ]
     },
     "execution_count": 164,
     "metadata": {},
     "output_type": "execute_result"
    }
   ],
   "source": [
    "y2[0]"
   ]
  },
  {
   "cell_type": "markdown",
   "metadata": {},
   "source": [
    "In the next section, we'll use Numpy's random number generator to create phony data."
   ]
  },
  {
   "cell_type": "code",
   "execution_count": 16,
   "metadata": {},
   "outputs": [
    {
     "data": {
      "text/plain": [
       "[[0.45583479289738404, 0.21757927986735615]]"
      ]
     },
     "execution_count": 16,
     "metadata": {},
     "output_type": "execute_result"
    }
   ],
   "source": [
    "np.random.rand(1, 2).tolist()"
   ]
  },
  {
   "cell_type": "code",
   "execution_count": 31,
   "metadata": {},
   "outputs": [
    {
     "data": {
      "text/plain": [
       "(150, 100)"
      ]
     },
     "execution_count": 31,
     "metadata": {},
     "output_type": "execute_result"
    }
   ],
   "source": [
    "x = np.random.rand(150, 100, 10088).tolist()\n",
    "pd.DataFrame(x).shape"
   ]
  },
  {
   "cell_type": "code",
   "execution_count": 3,
   "metadata": {
    "collapsed": true
   },
   "outputs": [],
   "source": [
    "x = np.random.rand(150, 100, 10088).tolist()\n",
    "df = pd.DataFrame({\"sigccm\" : x})\n",
    "cell = df[\"sigccm\"][0]"
   ]
  },
  {
   "cell_type": "code",
   "execution_count": 4,
   "metadata": {},
   "outputs": [
    {
     "data": {
      "text/plain": [
       "((150, 1), list, (100, 10088))"
      ]
     },
     "execution_count": 4,
     "metadata": {},
     "output_type": "execute_result"
    }
   ],
   "source": [
    "df.shape, type(cell), pd.DataFrame(cell).shape"
   ]
  },
  {
   "cell_type": "code",
   "execution_count": 5,
   "metadata": {},
   "outputs": [
    {
     "data": {
      "text/plain": [
       "array([0., 0., 1., 0., 1., 0., 1., 0., 1., 0.])"
      ]
     },
     "execution_count": 5,
     "metadata": {},
     "output_type": "execute_result"
    }
   ],
   "source": [
    "np.round(np.random.rand(10), decimals=0)"
   ]
  },
  {
   "cell_type": "markdown",
   "metadata": {},
   "source": [
    "**Creating Phony Data**"
   ]
  },
  {
   "cell_type": "code",
   "execution_count": 8,
   "metadata": {
    "collapsed": true
   },
   "outputs": [],
   "source": [
    "x = np.random.rand(150, 100, 10088).tolist()\n",
    "df = pd.DataFrame({\"sigccm\" : x})"
   ]
  },
  {
   "cell_type": "code",
   "execution_count": 9,
   "metadata": {},
   "outputs": [
    {
     "data": {
      "text/html": [
       "<div>\n",
       "<style scoped>\n",
       "    .dataframe tbody tr th:only-of-type {\n",
       "        vertical-align: middle;\n",
       "    }\n",
       "\n",
       "    .dataframe tbody tr th {\n",
       "        vertical-align: top;\n",
       "    }\n",
       "\n",
       "    .dataframe thead th {\n",
       "        text-align: right;\n",
       "    }\n",
       "</style>\n",
       "<table border=\"1\" class=\"dataframe\">\n",
       "  <thead>\n",
       "    <tr style=\"text-align: right;\">\n",
       "      <th></th>\n",
       "      <th>sigccm</th>\n",
       "      <th>Attack</th>\n",
       "    </tr>\n",
       "  </thead>\n",
       "  <tbody>\n",
       "    <tr>\n",
       "      <th>0</th>\n",
       "      <td>[[0.678836519498704, 0.6638220771352924, 0.394...</td>\n",
       "      <td>0.0</td>\n",
       "    </tr>\n",
       "    <tr>\n",
       "      <th>1</th>\n",
       "      <td>[[0.9729769191557206, 0.34775875908483944, 0.1...</td>\n",
       "      <td>1.0</td>\n",
       "    </tr>\n",
       "    <tr>\n",
       "      <th>2</th>\n",
       "      <td>[[0.4898145090325974, 0.8010816779466625, 0.62...</td>\n",
       "      <td>0.0</td>\n",
       "    </tr>\n",
       "    <tr>\n",
       "      <th>3</th>\n",
       "      <td>[[0.14739207553348754, 0.09734288838161331, 0....</td>\n",
       "      <td>0.0</td>\n",
       "    </tr>\n",
       "    <tr>\n",
       "      <th>4</th>\n",
       "      <td>[[0.5490501707745227, 0.3838102347864333, 0.64...</td>\n",
       "      <td>1.0</td>\n",
       "    </tr>\n",
       "  </tbody>\n",
       "</table>\n",
       "</div>"
      ],
      "text/plain": [
       "                                              sigccm  Attack\n",
       "0  [[0.678836519498704, 0.6638220771352924, 0.394...     0.0\n",
       "1  [[0.9729769191557206, 0.34775875908483944, 0.1...     1.0\n",
       "2  [[0.4898145090325974, 0.8010816779466625, 0.62...     0.0\n",
       "3  [[0.14739207553348754, 0.09734288838161331, 0....     0.0\n",
       "4  [[0.5490501707745227, 0.3838102347864333, 0.64...     1.0"
      ]
     },
     "execution_count": 9,
     "metadata": {},
     "output_type": "execute_result"
    }
   ],
   "source": [
    "bools = np.round(np.random.rand(150), decimals=0)\n",
    "attack = pd.Series(bools)\n",
    "df[\"Attack\"] = attack\n",
    "df.head()"
   ]
  },
  {
   "cell_type": "markdown",
   "metadata": {},
   "source": [
    "**Data Prep with Phony Data**"
   ]
  },
  {
   "cell_type": "code",
   "execution_count": 10,
   "metadata": {
    "collapsed": true
   },
   "outputs": [],
   "source": [
    "genbatchfiles(df, batchID = \"phony\", batch_size = 20)"
   ]
  },
  {
   "cell_type": "code",
   "execution_count": 11,
   "metadata": {
    "collapsed": true
   },
   "outputs": [],
   "source": [
    "params = {'batchID': \"phony\", 'batch_size': 20, 'dim': (100, 10088)}"
   ]
  },
  {
   "cell_type": "markdown",
   "metadata": {},
   "source": [
    "Using generator class."
   ]
  },
  {
   "cell_type": "code",
   "execution_count": 11,
   "metadata": {
    "collapsed": true
   },
   "outputs": [],
   "source": [
    "dg = DataGenerator(**params)"
   ]
  },
  {
   "cell_type": "markdown",
   "metadata": {},
   "source": [
    "Using generator routine."
   ]
  },
  {
   "cell_type": "code",
   "execution_count": 36,
   "metadata": {
    "collapsed": true
   },
   "outputs": [],
   "source": [
    "def data_generator(batchID, \n",
    "                   batch_size = 32, \n",
    "                   dim = (32,32,32)):\n",
    "\n",
    "    print(\"In data_generator.\")        \n",
    "    \n",
    "    DataDir = \"data/\"\n",
    "    BatchDir = DataDir + batchID + \"/\"\n",
    "    \n",
    "    datafile_IDs = []\n",
    "    labelfile_IDs = []\n",
    "\n",
    "    path = BatchDir + \"datafilenames_\" + batchID + \".pkl\"                                    \n",
    "    fd = open(path, \"rb\")\n",
    "    datafile_IDs = pkl.load(fd)\n",
    "    fd.close()\n",
    "\n",
    "    path = BatchDir + \"labelfilenames_\" + batchID + \".pkl\"        \n",
    "    fd = open(path, \"rb\")\n",
    "    labelfile_IDs = pkl.load(fd)\n",
    "    fd.close()       \n",
    "    \n",
    "    while True:\n",
    "        for index in range(len(datafile_IDs)):\n",
    "\n",
    "            'Generate one batch of data'\n",
    "\n",
    "            datafn = datafile_IDs[index]        \n",
    "            labelfn = labelfile_IDs[index] \n",
    "\n",
    "            # print(\"In data_generator loop:\")        \n",
    "            # print(\"index = %d, datafn = %s, labelfn = %s\" % (\n",
    "            #        index, datafn, labelfn))        \n",
    "\n",
    "            # Initialize data arrays for this batch     \n",
    "            X = np.empty((batch_size, *dim))\n",
    "            y = np.empty((batch_size), dtype=int)         \n",
    "\n",
    "            # Read data\n",
    "            datafn = BatchDir + datafn\n",
    "            X = np.load(datafn)\n",
    "\n",
    "            # Read label\n",
    "            labelfn = BatchDir + labelfn\n",
    "            y = np.load(labelfn)\n",
    "\n",
    "            yield X, y  "
   ]
  },
  {
   "cell_type": "markdown",
   "metadata": {},
   "source": [
    "**LSTM with Phony Data**"
   ]
  },
  {
   "cell_type": "code",
   "execution_count": 37,
   "metadata": {},
   "outputs": [
    {
     "data": {
      "text/plain": [
       "(100, 10088, 1)"
      ]
     },
     "execution_count": 37,
     "metadata": {},
     "output_type": "execute_result"
    }
   ],
   "source": [
    "time_series_length, input_dim, output_dim = 100, 10088, 1\n",
    "time_series_length, input_dim, output_dim"
   ]
  },
  {
   "cell_type": "code",
   "execution_count": 38,
   "metadata": {
    "collapsed": true
   },
   "outputs": [],
   "source": [
    "# Build the model\n",
    "model = Sequential()"
   ]
  },
  {
   "cell_type": "code",
   "execution_count": 39,
   "metadata": {
    "collapsed": true
   },
   "outputs": [],
   "source": [
    "# I arbitrarily picked the output dimensions as 20\n",
    "model.add(LSTM(20, \n",
    "               input_shape=(time_series_length, input_dim))) \n",
    "\n",
    "# The max output value is > 1 so relu is used as final activation.\n",
    "model.add(Dense(output_dim, activation='relu'))\n",
    "\n",
    "model.compile(loss='mean_squared_error',\n",
    "              optimizer='sgd',\n",
    "              metrics=['accuracy'])\n",
    "# model.compile(loss='mae', optimizer='adam') "
   ]
  },
  {
   "cell_type": "code",
   "execution_count": 40,
   "metadata": {
    "collapsed": true
   },
   "outputs": [],
   "source": [
    "params = {'batchID': \"short\", 'batch_size': 20, 'dim': (100, 10088)}"
   ]
  },
  {
   "cell_type": "code",
   "execution_count": 41,
   "metadata": {
    "collapsed": true
   },
   "outputs": [],
   "source": [
    "dg = data_generator(**params)"
   ]
  },
  {
   "cell_type": "code",
   "execution_count": 42,
   "metadata": {},
   "outputs": [
    {
     "name": "stdout",
     "output_type": "stream",
     "text": [
      "In data_generator.Epoch 1/10\n",
      "\n",
      "5/5 [==============================] - 2s 303ms/step - loss: 1.0000 - acc: 0.0000e+00\n",
      "Epoch 2/10\n",
      "5/5 [==============================] - 1s 250ms/step - loss: 1.0000 - acc: 0.0000e+00\n",
      "Epoch 3/10\n",
      "5/5 [==============================] - 1s 262ms/step - loss: 1.0000 - acc: 0.0000e+00\n",
      "Epoch 4/10\n",
      "5/5 [==============================] - 1s 260ms/step - loss: 1.0000 - acc: 0.0000e+00\n",
      "Epoch 5/10\n",
      "5/5 [==============================] - 1s 253ms/step - loss: 1.0000 - acc: 0.0000e+00\n",
      "Epoch 6/10\n",
      "5/5 [==============================] - 1s 257ms/step - loss: 1.0000 - acc: 0.0000e+00\n",
      "Epoch 7/10\n",
      "5/5 [==============================] - 1s 269ms/step - loss: 1.0000 - acc: 0.0000e+00\n",
      "Epoch 8/10\n",
      "5/5 [==============================] - 1s 262ms/step - loss: 1.0000 - acc: 0.0000e+00\n",
      "Epoch 9/10\n",
      "5/5 [==============================] - 1s 256ms/step - loss: 1.0000 - acc: 0.0000e+00\n",
      "Epoch 10/10\n",
      "5/5 [==============================] - 1s 265ms/step - loss: 1.0000 - acc: 0.0000e+00\n"
     ]
    },
    {
     "data": {
      "text/plain": [
       "<keras.callbacks.History at 0x7f47b7f34080>"
      ]
     },
     "execution_count": 42,
     "metadata": {},
     "output_type": "execute_result"
    }
   ],
   "source": [
    "model.fit_generator(generator = dg,\n",
    "                    steps_per_epoch = 5,\n",
    "                    epochs=10, \n",
    "                    verbose=1,\n",
    "                    workers=1,\n",
    "                    use_multiprocessing=False)"
   ]
  },
  {
   "cell_type": "markdown",
   "metadata": {},
   "source": [
    "# LSTM (withtout Generator)"
   ]
  },
  {
   "cell_type": "code",
   "execution_count": 181,
   "metadata": {
    "collapsed": true
   },
   "outputs": [],
   "source": [
    "df_input = df_lstm_100_rows_2000_ccm_100"
   ]
  },
  {
   "cell_type": "code",
   "execution_count": 127,
   "metadata": {},
   "outputs": [
    {
     "data": {
      "text/plain": [
       "(2000, 91)"
      ]
     },
     "execution_count": 127,
     "metadata": {},
     "output_type": "execute_result"
    }
   ],
   "source": [
    "df_input.shape"
   ]
  },
  {
   "cell_type": "code",
   "execution_count": 128,
   "metadata": {
    "collapsed": true
   },
   "outputs": [],
   "source": [
    "sigccm = df_input[\"sigccm\"]"
   ]
  },
  {
   "cell_type": "markdown",
   "metadata": {},
   "source": [
    "Shape of a single element in the `sigccm` column should be:\n",
    "\n",
    "    window size X flattened ccm size"
   ]
  },
  {
   "cell_type": "code",
   "execution_count": 129,
   "metadata": {},
   "outputs": [
    {
     "data": {
      "text/plain": [
       "(100, 10088)"
      ]
     },
     "execution_count": 129,
     "metadata": {},
     "output_type": "execute_result"
    }
   ],
   "source": [
    "max_sequence_length, input_length = pd.DataFrame(sigccm[0]).shape\n",
    "max_sequence_length, input_length"
   ]
  },
  {
   "cell_type": "code",
   "execution_count": 130,
   "metadata": {},
   "outputs": [
    {
     "data": {
      "text/plain": [
       "(1980, 91)"
      ]
     },
     "execution_count": 130,
     "metadata": {},
     "output_type": "execute_result"
    }
   ],
   "source": [
    "# Head and tail do not have fully defined rolling windows\n",
    "# Truncate them. \n",
    "df_input = df_input[10:-10]\n",
    "df_input.shape"
   ]
  },
  {
   "cell_type": "code",
   "execution_count": 131,
   "metadata": {
    "collapsed": true
   },
   "outputs": [],
   "source": [
    "df_input.index = range(len(df_input))"
   ]
  },
  {
   "cell_type": "code",
   "execution_count": null,
   "metadata": {
    "collapsed": true
   },
   "outputs": [],
   "source": []
  },
  {
   "cell_type": "code",
   "execution_count": 15,
   "metadata": {
    "collapsed": true
   },
   "outputs": [],
   "source": [
    "# df_input.sigccm.tolist()\n",
    "X_train_init = np.asarray(df_input.sigccm)"
   ]
  },
  {
   "cell_type": "code",
   "execution_count": 19,
   "metadata": {},
   "outputs": [
    {
     "name": "stderr",
     "output_type": "stream",
     "text": [
      "IOPub data rate exceeded.\n",
      "The notebook server will temporarily stop sending output\n",
      "to the client in order to avoid crashing it.\n",
      "To change this limit, set the config variable\n",
      "`--NotebookApp.iopub_data_rate_limit`.\n"
     ]
    }
   ],
   "source": [
    "X_train_init[:3]"
   ]
  },
  {
   "cell_type": "code",
   "execution_count": 16,
   "metadata": {},
   "outputs": [
    {
     "data": {
      "text/plain": [
       "(100, 100, 100, (1980,), (100, 10088))"
      ]
     },
     "execution_count": 16,
     "metadata": {},
     "output_type": "execute_result"
    }
   ],
   "source": [
    "(len(X_train_init[1]),\n",
    "df_input.sigccm.apply(len).min(), \n",
    "df_input.sigccm.apply(len).max(),\n",
    "X_train_init.shape, np.asarray(X_train_init[0]).shape)"
   ]
  },
  {
   "cell_type": "code",
   "execution_count": 17,
   "metadata": {},
   "outputs": [
    {
     "ename": "MemoryError",
     "evalue": "",
     "output_type": "error",
     "traceback": [
      "\u001b[0;31m---------------------------------------------------------------------------\u001b[0m",
      "\u001b[0;31mMemoryError\u001b[0m                               Traceback (most recent call last)",
      "\u001b[0;32m<ipython-input-17-ed4d6be59c80>\u001b[0m in \u001b[0;36m<module>\u001b[0;34m()\u001b[0m\n\u001b[1;32m      1\u001b[0m \u001b[0;31m# X_train = np.hstack(X_train_init).reshape(\u001b[0m\u001b[0;34m\u001b[0m\u001b[0;34m\u001b[0m\u001b[0m\n\u001b[0;32m----> 2\u001b[0;31m X_train = np.column_stack(X_train_init).reshape(\n\u001b[0m\u001b[1;32m      3\u001b[0m                     \u001b[0mlen\u001b[0m\u001b[0;34m(\u001b[0m\u001b[0mdf_input\u001b[0m\u001b[0;34m)\u001b[0m\u001b[0;34m,\u001b[0m\u001b[0;34m\u001b[0m\u001b[0m\n\u001b[1;32m      4\u001b[0m                     \u001b[0mmax_sequence_length\u001b[0m\u001b[0;34m,\u001b[0m\u001b[0;34m\u001b[0m\u001b[0m\n\u001b[1;32m      5\u001b[0m                     input_length)\n",
      "\u001b[0;32m~/anaconda3/envs/py36/lib/python3.6/site-packages/numpy/lib/shape_base.py\u001b[0m in \u001b[0;36mcolumn_stack\u001b[0;34m(tup)\u001b[0m\n\u001b[1;32m    367\u001b[0m             \u001b[0marr\u001b[0m \u001b[0;34m=\u001b[0m \u001b[0marray\u001b[0m\u001b[0;34m(\u001b[0m\u001b[0marr\u001b[0m\u001b[0;34m,\u001b[0m \u001b[0mcopy\u001b[0m\u001b[0;34m=\u001b[0m\u001b[0;32mFalse\u001b[0m\u001b[0;34m,\u001b[0m \u001b[0msubok\u001b[0m\u001b[0;34m=\u001b[0m\u001b[0;32mTrue\u001b[0m\u001b[0;34m,\u001b[0m \u001b[0mndmin\u001b[0m\u001b[0;34m=\u001b[0m\u001b[0;36m2\u001b[0m\u001b[0;34m)\u001b[0m\u001b[0;34m.\u001b[0m\u001b[0mT\u001b[0m\u001b[0;34m\u001b[0m\u001b[0m\n\u001b[1;32m    368\u001b[0m         \u001b[0marrays\u001b[0m\u001b[0;34m.\u001b[0m\u001b[0mappend\u001b[0m\u001b[0;34m(\u001b[0m\u001b[0marr\u001b[0m\u001b[0;34m)\u001b[0m\u001b[0;34m\u001b[0m\u001b[0m\n\u001b[0;32m--> 369\u001b[0;31m     \u001b[0;32mreturn\u001b[0m \u001b[0m_nx\u001b[0m\u001b[0;34m.\u001b[0m\u001b[0mconcatenate\u001b[0m\u001b[0;34m(\u001b[0m\u001b[0marrays\u001b[0m\u001b[0;34m,\u001b[0m \u001b[0;36m1\u001b[0m\u001b[0;34m)\u001b[0m\u001b[0;34m\u001b[0m\u001b[0m\n\u001b[0m\u001b[1;32m    370\u001b[0m \u001b[0;34m\u001b[0m\u001b[0m\n\u001b[1;32m    371\u001b[0m \u001b[0;32mdef\u001b[0m \u001b[0mdstack\u001b[0m\u001b[0;34m(\u001b[0m\u001b[0mtup\u001b[0m\u001b[0;34m)\u001b[0m\u001b[0;34m:\u001b[0m\u001b[0;34m\u001b[0m\u001b[0m\n",
      "\u001b[0;31mMemoryError\u001b[0m: "
     ]
    }
   ],
   "source": [
    "# X_train = np.hstack(X_train_init).reshape(\n",
    "X_train = np.column_stack(X_train_init).reshape(\n",
    "                    len(df_input),\n",
    "                    max_sequence_length,\n",
    "                    input_length)"
   ]
  },
  {
   "cell_type": "code",
   "execution_count": 116,
   "metadata": {
    "collapsed": true
   },
   "outputs": [],
   "source": [
    "output_cols = ['Attack']"
   ]
  },
  {
   "cell_type": "code",
   "execution_count": 21,
   "metadata": {
    "collapsed": true
   },
   "outputs": [],
   "source": [
    "df_input['Attack'] = df_input[output_cols].apply(\n",
    "                                     tuple, axis=1).apply(list)"
   ]
  },
  {
   "cell_type": "code",
   "execution_count": 22,
   "metadata": {
    "collapsed": true
   },
   "outputs": [],
   "source": [
    "y_train = np.hstack(np.asarray(df_input.Attack)).reshape(\n",
    "                    len(df_input),len(output_cols))"
   ]
  },
  {
   "cell_type": "code",
   "execution_count": 23,
   "metadata": {},
   "outputs": [
    {
     "data": {
      "text/plain": [
       "86223"
      ]
     },
     "execution_count": 23,
     "metadata": {},
     "output_type": "execute_result"
    }
   ],
   "source": [
    "len(y_train)"
   ]
  },
  {
   "cell_type": "code",
   "execution_count": 24,
   "metadata": {
    "collapsed": true
   },
   "outputs": [],
   "source": [
    "X_test = X_train[70000:]\n",
    "y_test = y_train[70000:]"
   ]
  },
  {
   "cell_type": "code",
   "execution_count": 25,
   "metadata": {
    "collapsed": true
   },
   "outputs": [],
   "source": [
    "X_train = X_train[:70000]\n",
    "y_train = y_train[:70000]"
   ]
  },
  {
   "cell_type": "code",
   "execution_count": 26,
   "metadata": {},
   "outputs": [
    {
     "data": {
      "text/plain": [
       "(10, 488)"
      ]
     },
     "execution_count": 26,
     "metadata": {},
     "output_type": "execute_result"
    }
   ],
   "source": [
    "# Get input dimensions\n",
    "\n",
    "# Input length is the length for one input sequence \n",
    "# (i.e. the number of rows in a sample)\n",
    "# Input dim is the number of dimensions in one input vector \n",
    "# (i.e. number of input columns)\n",
    "input_length = X_train.shape[1]\n",
    "input_dim = X_train.shape[2]\n",
    "\n",
    "input_length, input_dim"
   ]
  },
  {
   "cell_type": "code",
   "execution_count": 27,
   "metadata": {},
   "outputs": [
    {
     "data": {
      "text/plain": [
       "1"
      ]
     },
     "execution_count": 27,
     "metadata": {},
     "output_type": "execute_result"
    }
   ],
   "source": [
    "# Output dimension is just the shape of a single output vector\n",
    "# In this case it's just 1, but it could be more\n",
    "output_dim = len(y_train[0])\n",
    "output_dim"
   ]
  },
  {
   "cell_type": "markdown",
   "metadata": {},
   "source": [
    "**Build the LSTM Model**"
   ]
  },
  {
   "cell_type": "code",
   "execution_count": 231,
   "metadata": {
    "collapsed": true
   },
   "outputs": [],
   "source": [
    "# Build the model\n",
    "model = Sequential()"
   ]
  },
  {
   "cell_type": "code",
   "execution_count": null,
   "metadata": {
    "collapsed": true
   },
   "outputs": [],
   "source": [
    "# Stacked LSTMs\n",
    "model.add(LSTM(4, batch_input_shape=(batch_size, look_back, 1), \n",
    "               stateful=True, return_sequences=True))\n",
    "model.add(LSTM(4, batch_input_shape=(batch_size, look_back, 1), \n",
    "               stateful=True))\n",
    "model.add(Dense(output_dim))\n",
    "model.compile(loss='mean_squared_error', optimizer='adam')"
   ]
  },
  {
   "cell_type": "code",
   "execution_count": 226,
   "metadata": {},
   "outputs": [
    {
     "data": {
      "text/plain": [
       "(20, 100, 10088)"
      ]
     },
     "execution_count": 226,
     "metadata": {},
     "output_type": "execute_result"
    }
   ],
   "source": [
    "X_train.shape"
   ]
  },
  {
   "cell_type": "code",
   "execution_count": 225,
   "metadata": {},
   "outputs": [
    {
     "data": {
      "text/plain": [
       "(100, 10088)"
      ]
     },
     "execution_count": 225,
     "metadata": {},
     "output_type": "execute_result"
    }
   ],
   "source": [
    "time_series_length, input_dim"
   ]
  },
  {
   "cell_type": "code",
   "execution_count": 232,
   "metadata": {
    "collapsed": true
   },
   "outputs": [],
   "source": [
    "# I arbitrarily picked the output dimensions as 20\n",
    "model.add(LSTM(20, \n",
    "               input_shape=(time_series_length, input_dim))) \n",
    "\n",
    "# The max output value is > 1 so relu is used as final activation.\n",
    "model.add(Dense(output_dim, activation='relu'))\n",
    "\n",
    "model.compile(loss='mean_squared_error',\n",
    "              optimizer='sgd',\n",
    "              metrics=['accuracy'])\n",
    "# model.compile(loss='mae', optimizer='adam') "
   ]
  },
  {
   "cell_type": "code",
   "execution_count": null,
   "metadata": {
    "collapsed": true
   },
   "outputs": [],
   "source": [
    "# Fit stacked LSTMs\n",
    "for i in range(100):\n",
    "    model.fit(trainX, trainY, epochs=1, batch_size=batch_size, \n",
    "              verbose=2, shuffle=False)\n",
    "    model.reset_states()"
   ]
  },
  {
   "cell_type": "code",
   "execution_count": 233,
   "metadata": {},
   "outputs": [
    {
     "data": {
      "text/plain": [
       "((20, 100, 10088), (20,), (20, 100, 10088), (20,))"
      ]
     },
     "execution_count": 233,
     "metadata": {},
     "output_type": "execute_result"
    }
   ],
   "source": [
    "X_train.shape, y_train.shape, X_test.shape, y_test.shape"
   ]
  },
  {
   "cell_type": "code",
   "execution_count": 215,
   "metadata": {},
   "outputs": [
    {
     "data": {
      "text/plain": [
       "'tensorflow'"
      ]
     },
     "execution_count": 215,
     "metadata": {},
     "output_type": "execute_result"
    }
   ],
   "source": [
    "keras.backend.backend()"
   ]
  },
  {
   "cell_type": "code",
   "execution_count": 234,
   "metadata": {},
   "outputs": [
    {
     "name": "stdout",
     "output_type": "stream",
     "text": [
      "Epoch 1/10\n",
      " - 1s - loss: 1.0588 - acc: 0.0000e+00\n",
      "Epoch 2/10\n",
      " - 0s - loss: 0.2395 - acc: 0.5500\n",
      "Epoch 3/10\n",
      " - 0s - loss: 0.0710 - acc: 0.9500\n",
      "Epoch 4/10\n",
      " - 0s - loss: 0.0608 - acc: 0.9500\n",
      "Epoch 5/10\n",
      " - 0s - loss: 0.0391 - acc: 0.9500\n",
      "Epoch 6/10\n",
      " - 1s - loss: 0.0337 - acc: 0.9500\n",
      "Epoch 7/10\n",
      " - 0s - loss: 0.0302 - acc: 0.9500\n",
      "Epoch 8/10\n",
      " - 0s - loss: 0.0274 - acc: 0.9500\n",
      "Epoch 9/10\n",
      " - 0s - loss: 0.0249 - acc: 0.9500\n",
      "Epoch 10/10\n",
      " - 0s - loss: 0.0228 - acc: 0.9500\n"
     ]
    }
   ],
   "source": [
    "# Fit regular lSTM\n",
    "early_stop_callback = EarlyStopping(monitor = \"val_loss\",\n",
    "                                    verbose = 2, mode = 'min', \n",
    "                                    patience = 3)\n",
    "\n",
    "# history = model.fit(X_train, y_train, epochs=100, batch_size = 10, \n",
    "#                     validation_data = (X_test, y_test), verbose = 2, \n",
    "#                     callbacks=[early_stop_callback],\n",
    "#                     shuffle = False)\n",
    "\n",
    "# history = model.fit(X_train, y_train, epochs=10, batch_size = 10, \n",
    "#                     validation_data = (X_test, y_test), verbose = 2, \n",
    "#                     shuffle = False)\n",
    "\n",
    "history = model.fit(X_train, y_train, epochs=10, batch_size = 10, \n",
    "                    verbose = 2, shuffle = False)"
   ]
  },
  {
   "cell_type": "code",
   "execution_count": 235,
   "metadata": {},
   "outputs": [
    {
     "name": "stdout",
     "output_type": "stream",
     "text": [
      "Done.\n"
     ]
    }
   ],
   "source": [
    "print(\"Done.\")"
   ]
  },
  {
   "cell_type": "markdown",
   "metadata": {},
   "source": [
    "Plot the training and test loss."
   ]
  },
  {
   "cell_type": "code",
   "execution_count": 34,
   "metadata": {},
   "outputs": [
    {
     "data": {
      "image/png": "[encoded data removed]",
      "text/plain": [
       "<Figure size 432x288 with 1 Axes>"
      ]
     },
     "metadata": {},
     "output_type": "display_data"
    }
   ],
   "source": [
    "# plot history\n",
    "plt.plot(history.history['loss'], label='train')\n",
    "plt.plot(history.history['val_loss'], label='test')\n",
    "plt.legend()\n",
    "plt.show()"
   ]
  },
  {
   "cell_type": "markdown",
   "metadata": {},
   "source": [
    "**Make Predictions and Plot ROC-AUC Metric**"
   ]
  },
  {
   "cell_type": "code",
   "execution_count": null,
   "metadata": {
    "collapsed": true
   },
   "outputs": [],
   "source": [
    "# Make predictions with stacked LSTMs\n",
    "trainPredict = model.predict(X_train, batch_size=batch_size)\n",
    "model.reset_states()\n",
    "testPredict = model.predict(X_test, batch_size=batch_size)"
   ]
  },
  {
   "cell_type": "code",
   "execution_count": 36,
   "metadata": {
    "collapsed": true
   },
   "outputs": [],
   "source": [
    "# Make predictions with regular LSTM\n",
    "trainPredict = model.predict(X_train)\n",
    "testPredict = model.predict(X_test)"
   ]
  },
  {
   "cell_type": "code",
   "execution_count": 37,
   "metadata": {
    "collapsed": true
   },
   "outputs": [],
   "source": [
    "fpr, tpr, thresholds = roc_curve(y_test, testPredict)"
   ]
  },
  {
   "cell_type": "code",
   "execution_count": 38,
   "metadata": {
    "collapsed": true
   },
   "outputs": [],
   "source": [
    "auc = auc(fpr, tpr)"
   ]
  },
  {
   "cell_type": "code",
   "execution_count": 39,
   "metadata": {},
   "outputs": [
    {
     "data": {
      "image/png": "[encoded data removed]",
      "text/plain": [
       "<Figure size 432x288 with 1 Axes>"
      ]
     },
     "metadata": {},
     "output_type": "display_data"
    }
   ],
   "source": [
    "plt.figure(1)\n",
    "plt.plot([0, 1], [0, 1], 'k--')\n",
    "plt.plot(fpr, tpr, \n",
    "         label='area = {:.3f}'.format(auc))\n",
    "plt.xlabel('False positive rate')\n",
    "plt.ylabel('True positive rate')\n",
    "plt.title('ROC curve')\n",
    "plt.legend(loc='best')\n",
    "plt.show()"
   ]
  },
  {
   "cell_type": "code",
   "execution_count": 152,
   "metadata": {},
   "outputs": [
    {
     "data": {
      "image/png": "[encoded data removed]",
      "text/plain": [
       "<Figure size 432x288 with 1 Axes>"
      ]
     },
     "metadata": {},
     "output_type": "display_data"
    }
   ],
   "source": [
    "# Zoom in view of the upper left corner.\n",
    "plt.figure(2)\n",
    "plt.xlim(0, 0.2)\n",
    "plt.ylim(0.8, 1)\n",
    "plt.plot([0, 1], [0, 1], 'k--')\n",
    "plt.plot(fpr, tpr, \n",
    "         label='area = {:.3f}'.format(auc))\n",
    "plt.xlabel('False positive rate')\n",
    "plt.ylabel('True positive rate')\n",
    "plt.title('ROC curve (zoomed in at top left)')\n",
    "plt.legend(loc='best')\n",
    "plt.show() "
   ]
  },
  {
   "cell_type": "code",
   "execution_count": 51,
   "metadata": {},
   "outputs": [
    {
     "data": {
      "text/plain": [
       "1.0    13178\n",
       "0.0     3045\n",
       "Name: 0, dtype: int64"
      ]
     },
     "execution_count": 51,
     "metadata": {},
     "output_type": "execute_result"
    }
   ],
   "source": [
    "df_tst = pd.DataFrame(y_test)\n",
    "df_tst[0].value_counts()"
   ]
  }
 ],
 "metadata": {
  "kernelspec": {
   "display_name": "Python [conda env:py36]",
   "language": "python",
   "name": "conda-env-py36-py"
  },
  "language_info": {
   "codemirror_mode": {
    "name": "ipython",
    "version": 3
   },
   "file_extension": ".py",
   "mimetype": "text/x-python",
   "name": "python",
   "nbconvert_exporter": "python",
   "pygments_lexer": "ipython3",
   "version": "3.7.2"
  },
  "latex_envs": {
   "LaTeX_envs_menu_present": true,
   "autocomplete": true,
   "bibliofile": "biblio.bib",
   "cite_by": "apalike",
   "current_citInitial": 1,
   "eqLabelWithNumbers": true,
   "eqNumInitial": 1,
   "hotkeys": {
    "equation": "Ctrl-E",
    "itemize": "Ctrl-I"
   },
   "labels_anchors": false,
   "latex_user_defs": false,
   "report_style_numbering": false,
   "user_envs_cfg": false
  },
  "toc": {
   "nav_menu": {},
   "number_sections": true,
   "sideBar": true,
   "skip_h1_title": false,
   "toc_cell": true,
   "toc_position": {},
   "toc_section_display": "block",
   "toc_window_display": false
  }
 },
 "nbformat": 4,
 "nbformat_minor": 2
}
