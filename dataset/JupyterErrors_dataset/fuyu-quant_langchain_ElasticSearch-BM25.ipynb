{
 "cells": [
  {
   "cell_type": "markdown",
   "metadata": {},
   "source": [
    "# ElasticSearch BM25"
   ]
  },
  {
   "cell_type": "code",
   "execution_count": 3,
   "metadata": {},
   "outputs": [
    {
     "name": "stdout",
     "output_type": "stream",
     "text": [
      "Collecting elasticsearch\n",
      "  Downloading elasticsearch-8.7.0-py3-none-any.whl (387 kB)\n",
      "\u001b[2K     \u001b[90m━━━━━━━━━━━━━━━━━━━━━━━━━━━━━━━━━━━━━━\u001b[0m \u001b[32m387.9/387.9 kB\u001b[0m \u001b[31m15.2 MB/s\u001b[0m eta \u001b[36m0:00:00\u001b[0m\n",
      "\u001b[?25hCollecting elastic-transport<9,>=8\n",
      "  Downloading elastic_transport-8.4.0-py3-none-any.whl (59 kB)\n",
      "\u001b[2K     \u001b[90m━━━━━━━━━━━━━━━━━━━━━━━━━━━━━━━━━━━━━━━━\u001b[0m \u001b[32m59.5/59.5 kB\u001b[0m \u001b[31m12.7 MB/s\u001b[0m eta \u001b[36m0:00:00\u001b[0m\n",
      "\u001b[?25hRequirement already satisfied: urllib3<2,>=1.26.2 in /opt/conda/lib/python3.10/site-packages (from elastic-transport<9,>=8->elasticsearch) (1.26.15)\n",
      "Requirement already satisfied: certifi in /opt/conda/lib/python3.10/site-packages (from elastic-transport<9,>=8->elasticsearch) (2022.12.7)\n",
      "Installing collected packages: elastic-transport, elasticsearch\n",
      "Successfully installed elastic-transport-8.4.0 elasticsearch-8.7.0\n"
     ]
    }
   ],
   "source": [
    "!pip install elasticsearch"
   ]
  },
  {
   "cell_type": "code",
   "execution_count": 4,
   "metadata": {},
   "outputs": [],
   "source": [
    "from langchain.retrievers import ElasticSearchBM25Retriever"
   ]
  },
  {
   "cell_type": "code",
   "execution_count": 9,
   "metadata": {},
   "outputs": [
    {
     "ename": "ValueError",
     "evalue": "URL must include a 'scheme', 'host', and 'port' component (ie 'https://localhost:9200')",
     "output_type": "error",
     "traceback": [
      "\u001b[0;31m---------------------------------------------------------------------------\u001b[0m",
      "\u001b[0;31mValueError\u001b[0m                                Traceback (most recent call last)",
      "Cell \u001b[0;32mIn[9], line 2\u001b[0m\n\u001b[1;32m      1\u001b[0m elasticsearch_url\u001b[38;5;241m=\u001b[39m\u001b[38;5;124m\"\u001b[39m\u001b[38;5;124mhttps://www.brainpad.co.jp\u001b[39m\u001b[38;5;124m\"\u001b[39m\n\u001b[0;32m----> 2\u001b[0m retriever \u001b[38;5;241m=\u001b[39m \u001b[43mElasticSearchBM25Retriever\u001b[49m\u001b[38;5;241;43m.\u001b[39;49m\u001b[43mcreate\u001b[49m\u001b[43m(\u001b[49m\u001b[43melasticsearch_url\u001b[49m\u001b[43m,\u001b[49m\u001b[43m \u001b[49m\u001b[38;5;124;43m\"\u001b[39;49m\u001b[38;5;124;43mlangchain-index-4\u001b[39;49m\u001b[38;5;124;43m\"\u001b[39;49m\u001b[43m)\u001b[49m\n",
      "File \u001b[0;32m/opt/conda/lib/python3.10/site-packages/langchain/retrievers/elastic_search_bm25.py:49\u001b[0m, in \u001b[0;36mElasticSearchBM25Retriever.create\u001b[0;34m(cls, elasticsearch_url, index_name, k1, b)\u001b[0m\n\u001b[1;32m     46\u001b[0m \u001b[39mfrom\u001b[39;00m \u001b[39melasticsearch\u001b[39;00m \u001b[39mimport\u001b[39;00m Elasticsearch\n\u001b[1;32m     48\u001b[0m \u001b[39m# Create an Elasticsearch client instance\u001b[39;00m\n\u001b[0;32m---> 49\u001b[0m es \u001b[39m=\u001b[39m Elasticsearch(elasticsearch_url)\n\u001b[1;32m     51\u001b[0m \u001b[39m# Define the index settings and mappings\u001b[39;00m\n\u001b[1;32m     52\u001b[0m settings \u001b[39m=\u001b[39m {\n\u001b[1;32m     53\u001b[0m     \u001b[39m\"\u001b[39m\u001b[39manalysis\u001b[39m\u001b[39m\"\u001b[39m: {\u001b[39m\"\u001b[39m\u001b[39manalyzer\u001b[39m\u001b[39m\"\u001b[39m: {\u001b[39m\"\u001b[39m\u001b[39mdefault\u001b[39m\u001b[39m\"\u001b[39m: {\u001b[39m\"\u001b[39m\u001b[39mtype\u001b[39m\u001b[39m\"\u001b[39m: \u001b[39m\"\u001b[39m\u001b[39mstandard\u001b[39m\u001b[39m\"\u001b[39m}}},\n\u001b[1;32m     54\u001b[0m     \u001b[39m\"\u001b[39m\u001b[39msimilarity\u001b[39m\u001b[39m\"\u001b[39m: {\n\u001b[0;32m   (...)\u001b[0m\n\u001b[1;32m     60\u001b[0m     },\n\u001b[1;32m     61\u001b[0m }\n",
      "File \u001b[0;32m/opt/conda/lib/python3.10/site-packages/elasticsearch/_sync/client/__init__.py:330\u001b[0m, in \u001b[0;36mElasticsearch.__init__\u001b[0;34m(self, hosts, cloud_id, api_key, basic_auth, bearer_auth, opaque_id, headers, connections_per_node, http_compress, verify_certs, ca_certs, client_cert, client_key, ssl_assert_hostname, ssl_assert_fingerprint, ssl_version, ssl_context, ssl_show_warn, transport_class, request_timeout, node_class, node_pool_class, randomize_nodes_in_pool, node_selector_class, dead_node_backoff_factor, max_dead_node_backoff, serializer, serializers, default_mimetype, max_retries, retry_on_status, retry_on_timeout, sniff_on_start, sniff_before_requests, sniff_on_node_failure, sniff_timeout, min_delay_between_sniffing, sniffed_node_callback, meta_header, timeout, randomize_hosts, host_info_callback, sniffer_timeout, sniff_on_connection_fail, http_auth, maxsize, _transport)\u001b[0m\n\u001b[1;32m    327\u001b[0m         requests_session_auth \u001b[39m=\u001b[39m http_auth\n\u001b[1;32m    328\u001b[0m         http_auth \u001b[39m=\u001b[39m DEFAULT\n\u001b[0;32m--> 330\u001b[0m node_configs \u001b[39m=\u001b[39m client_node_configs(\n\u001b[1;32m    331\u001b[0m     hosts,\n\u001b[1;32m    332\u001b[0m     cloud_id\u001b[39m=\u001b[39;49mcloud_id,\n\u001b[1;32m    333\u001b[0m     requests_session_auth\u001b[39m=\u001b[39;49mrequests_session_auth,\n\u001b[1;32m    334\u001b[0m     connections_per_node\u001b[39m=\u001b[39;49mconnections_per_node,\n\u001b[1;32m    335\u001b[0m     http_compress\u001b[39m=\u001b[39;49mhttp_compress,\n\u001b[1;32m    336\u001b[0m     verify_certs\u001b[39m=\u001b[39;49mverify_certs,\n\u001b[1;32m    337\u001b[0m     ca_certs\u001b[39m=\u001b[39;49mca_certs,\n\u001b[1;32m    338\u001b[0m     client_cert\u001b[39m=\u001b[39;49mclient_cert,\n\u001b[1;32m    339\u001b[0m     client_key\u001b[39m=\u001b[39;49mclient_key,\n\u001b[1;32m    340\u001b[0m     ssl_assert_hostname\u001b[39m=\u001b[39;49mssl_assert_hostname,\n\u001b[1;32m    341\u001b[0m     ssl_assert_fingerprint\u001b[39m=\u001b[39;49mssl_assert_fingerprint,\n\u001b[1;32m    342\u001b[0m     ssl_version\u001b[39m=\u001b[39;49mssl_version,\n\u001b[1;32m    343\u001b[0m     ssl_context\u001b[39m=\u001b[39;49mssl_context,\n\u001b[1;32m    344\u001b[0m     ssl_show_warn\u001b[39m=\u001b[39;49mssl_show_warn,\n\u001b[1;32m    345\u001b[0m )\n\u001b[1;32m    346\u001b[0m transport_kwargs: t\u001b[39m.\u001b[39mDict[\u001b[39mstr\u001b[39m, t\u001b[39m.\u001b[39mAny] \u001b[39m=\u001b[39m {}\n\u001b[1;32m    347\u001b[0m \u001b[39mif\u001b[39;00m node_class \u001b[39mis\u001b[39;00m \u001b[39mnot\u001b[39;00m DEFAULT:\n",
      "File \u001b[0;32m/opt/conda/lib/python3.10/site-packages/elasticsearch/_sync/client/utils.py:105\u001b[0m, in \u001b[0;36mclient_node_configs\u001b[0;34m(hosts, cloud_id, requests_session_auth, **kwargs)\u001b[0m\n\u001b[1;32m    103\u001b[0m \u001b[39melse\u001b[39;00m:\n\u001b[1;32m    104\u001b[0m     \u001b[39massert\u001b[39;00m hosts \u001b[39mis\u001b[39;00m \u001b[39mnot\u001b[39;00m \u001b[39mNone\u001b[39;00m\n\u001b[0;32m--> 105\u001b[0m     node_configs \u001b[39m=\u001b[39m hosts_to_node_configs(hosts)\n\u001b[1;32m    107\u001b[0m \u001b[39m# Remove all values which are 'DEFAULT' to avoid overwriting actual defaults.\u001b[39;00m\n\u001b[1;32m    108\u001b[0m node_options \u001b[39m=\u001b[39m {k: v \u001b[39mfor\u001b[39;00m k, v \u001b[39min\u001b[39;00m kwargs\u001b[39m.\u001b[39mitems() \u001b[39mif\u001b[39;00m v \u001b[39mis\u001b[39;00m \u001b[39mnot\u001b[39;00m DEFAULT}\n",
      "File \u001b[0;32m/opt/conda/lib/python3.10/site-packages/elasticsearch/_sync/client/utils.py:143\u001b[0m, in \u001b[0;36mhosts_to_node_configs\u001b[0;34m(hosts)\u001b[0m\n\u001b[1;32m    141\u001b[0m \u001b[39m# To make the logic here simpler we reroute everything to be List[X]\u001b[39;00m\n\u001b[1;32m    142\u001b[0m \u001b[39mif\u001b[39;00m \u001b[39mnot\u001b[39;00m \u001b[39misinstance\u001b[39m(hosts, (\u001b[39mtuple\u001b[39m, \u001b[39mlist\u001b[39m)):\n\u001b[0;32m--> 143\u001b[0m     \u001b[39mreturn\u001b[39;00m hosts_to_node_configs([hosts])\n\u001b[1;32m    145\u001b[0m node_configs: List[NodeConfig] \u001b[39m=\u001b[39m []\n\u001b[1;32m    146\u001b[0m \u001b[39mfor\u001b[39;00m host \u001b[39min\u001b[39;00m hosts:\n",
      "File \u001b[0;32m/opt/conda/lib/python3.10/site-packages/elasticsearch/_sync/client/utils.py:151\u001b[0m, in \u001b[0;36mhosts_to_node_configs\u001b[0;34m(hosts)\u001b[0m\n\u001b[1;32m    148\u001b[0m     node_configs\u001b[39m.\u001b[39mappend(host)\n\u001b[1;32m    150\u001b[0m \u001b[39melif\u001b[39;00m \u001b[39misinstance\u001b[39m(host, \u001b[39mstr\u001b[39m):\n\u001b[0;32m--> 151\u001b[0m     node_configs\u001b[39m.\u001b[39mappend(url_to_node_config(host))\n\u001b[1;32m    153\u001b[0m \u001b[39melif\u001b[39;00m \u001b[39misinstance\u001b[39m(host, Mapping):\n\u001b[1;32m    154\u001b[0m     node_configs\u001b[39m.\u001b[39mappend(host_mapping_to_node_config(host))\n",
      "File \u001b[0;32m/opt/conda/lib/python3.10/site-packages/elastic_transport/client_utils.py:216\u001b[0m, in \u001b[0;36murl_to_node_config\u001b[0;34m(url, use_default_ports_for_scheme)\u001b[0m\n\u001b[1;32m    210\u001b[0m         parsed_port \u001b[39m=\u001b[39m \u001b[39m80\u001b[39m\n\u001b[1;32m    212\u001b[0m \u001b[39mif\u001b[39;00m \u001b[39many\u001b[39m(\n\u001b[1;32m    213\u001b[0m     component \u001b[39min\u001b[39;00m (\u001b[39mNone\u001b[39;00m, \u001b[39m\"\u001b[39m\u001b[39m\"\u001b[39m)\n\u001b[1;32m    214\u001b[0m     \u001b[39mfor\u001b[39;00m component \u001b[39min\u001b[39;00m (parsed_url\u001b[39m.\u001b[39mscheme, parsed_url\u001b[39m.\u001b[39mhost, parsed_port)\n\u001b[1;32m    215\u001b[0m ):\n\u001b[0;32m--> 216\u001b[0m     \u001b[39mraise\u001b[39;00m \u001b[39mValueError\u001b[39;00m(\n\u001b[1;32m    217\u001b[0m         \u001b[39m\"\u001b[39m\u001b[39mURL must include a \u001b[39m\u001b[39m'\u001b[39m\u001b[39mscheme\u001b[39m\u001b[39m'\u001b[39m\u001b[39m, \u001b[39m\u001b[39m'\u001b[39m\u001b[39mhost\u001b[39m\u001b[39m'\u001b[39m\u001b[39m, and \u001b[39m\u001b[39m'\u001b[39m\u001b[39mport\u001b[39m\u001b[39m'\u001b[39m\u001b[39m component (ie \u001b[39m\u001b[39m'\u001b[39m\u001b[39mhttps://localhost:9200\u001b[39m\u001b[39m'\u001b[39m\u001b[39m)\u001b[39m\u001b[39m\"\u001b[39m\n\u001b[1;32m    218\u001b[0m     )\n\u001b[1;32m    219\u001b[0m \u001b[39massert\u001b[39;00m parsed_url\u001b[39m.\u001b[39mscheme \u001b[39mis\u001b[39;00m \u001b[39mnot\u001b[39;00m \u001b[39mNone\u001b[39;00m\n\u001b[1;32m    220\u001b[0m \u001b[39massert\u001b[39;00m parsed_url\u001b[39m.\u001b[39mhost \u001b[39mis\u001b[39;00m \u001b[39mnot\u001b[39;00m \u001b[39mNone\u001b[39;00m\n",
      "\u001b[0;31mValueError\u001b[0m: URL must include a 'scheme', 'host', and 'port' component (ie 'https://localhost:9200')"
     ]
    }
   ],
   "source": [
    "elasticsearch_url=\"https://localhost:9200\"\n",
    "retriever = ElasticSearchBM25Retriever.create(elasticsearch_url, \"langchain-index-4\")"
   ]
  },
  {
   "cell_type": "code",
   "execution_count": 6,
   "metadata": {},
   "outputs": [
    {
     "ename": "NameError",
     "evalue": "name 'retriever' is not defined",
     "output_type": "error",
     "traceback": [
      "\u001b[0;31m---------------------------------------------------------------------------\u001b[0m",
      "\u001b[0;31mNameError\u001b[0m                                 Traceback (most recent call last)",
      "Cell \u001b[0;32mIn[6], line 1\u001b[0m\n\u001b[0;32m----> 1\u001b[0m \u001b[43mretriever\u001b[49m\u001b[38;5;241m.\u001b[39madd_texts([\u001b[38;5;124m\"\u001b[39m\u001b[38;5;124mfoo\u001b[39m\u001b[38;5;124m\"\u001b[39m, \u001b[38;5;124m\"\u001b[39m\u001b[38;5;124mbar\u001b[39m\u001b[38;5;124m\"\u001b[39m, \u001b[38;5;124m\"\u001b[39m\u001b[38;5;124mworld\u001b[39m\u001b[38;5;124m\"\u001b[39m, \u001b[38;5;124m\"\u001b[39m\u001b[38;5;124mhello\u001b[39m\u001b[38;5;124m\"\u001b[39m, \u001b[38;5;124m\"\u001b[39m\u001b[38;5;124mfoo bar\u001b[39m\u001b[38;5;124m\"\u001b[39m])\n",
      "\u001b[0;31mNameError\u001b[0m: name 'retriever' is not defined"
     ]
    }
   ],
   "source": [
    "retriever.add_texts([\"foo\", \"bar\", \"world\", \"hello\", \"foo bar\"])"
   ]
  },
  {
   "cell_type": "code",
   "execution_count": null,
   "metadata": {},
   "outputs": [],
   "source": [
    "result = retriever.get_relevant_documents(\"foo\")"
   ]
  },
  {
   "cell_type": "code",
   "execution_count": null,
   "metadata": {},
   "outputs": [],
   "source": [
    "result"
   ]
  }
 ],
 "metadata": {
  "kernelspec": {
   "display_name": "Python 3.10.9 ('base')",
   "language": "python",
   "name": "python3"
  },
  "language_info": {
   "codemirror_mode": {
    "name": "ipython",
    "version": 3
   },
   "file_extension": ".py",
   "mimetype": "text/x-python",
   "name": "python",
   "nbconvert_exporter": "python",
   "pygments_lexer": "ipython3",
   "version": "3.10.9"
  },
  "orig_nbformat": 4,
  "vscode": {
   "interpreter": {
    "hash": "d4d1e4263499bec80672ea0156c357c1ee493ec2b1c70f0acce89fc37c4a6abe"
   }
  }
 },
 "nbformat": 4,
 "nbformat_minor": 2
}
