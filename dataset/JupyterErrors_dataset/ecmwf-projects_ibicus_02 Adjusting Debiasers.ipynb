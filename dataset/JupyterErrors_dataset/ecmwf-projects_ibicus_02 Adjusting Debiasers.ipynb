{
 "cells": [
  {
   "cell_type": "markdown",
   "id": "c9cffae3-8d9c-4da7-a70d-350e185215fe",
   "metadata": {},
   "source": [
    "# Getting to know the flexibility of ibicus: modifying and adjusting debiasers"
   ]
  },
  {
   "cell_type": "markdown",
   "id": "c0679686-c320-4d2e-843d-45b3e2e59faa",
   "metadata": {},
   "source": [
    "The following notebook shows how to adjust parameters to modify debiasers. \n",
    "\n",
    "For in-depth information about the bias adjustment methods and their usage refer to the documentation that can be found under - API reference -> debias-module."
   ]
  },
  {
   "cell_type": "code",
   "execution_count": 1,
   "id": "7a4ad5dd-ed67-48d1-8302-67656e8d39b7",
   "metadata": {},
   "outputs": [],
   "source": [
    "import numpy as np\n",
    "import matplotlib.pyplot as plt"
   ]
  },
  {
   "cell_type": "markdown",
   "id": "bd6c5a1f-a7d9-40cc-b39c-2799252acaec",
   "metadata": {
    "jp-MarkdownHeadingCollapsed": true,
    "tags": []
   },
   "source": [
    "## 0. Read in data"
   ]
  },
  {
   "cell_type": "markdown",
   "id": "d72bdb59-914a-43a9-bed9-f43c42c98d09",
   "metadata": {},
   "source": [
    "We start by reading in and preprocessing some data. For an explanation of the steps please refer to the [01 Getting started](https://nbviewer.org/github/ecmwf-projects/ibicus/blob/main/notebooks/01%20Getting%20Started.ipynb) notebook."
   ]
  },
  {
   "cell_type": "code",
   "execution_count": 2,
   "id": "2830b3d6-44f3-4008-bfbb-76f5a4ea057c",
   "metadata": {},
   "outputs": [],
   "source": [
    "import numpy as np\n",
    "\n",
    "def get_data(variable, data_path = \"testing_data/\"):\n",
    "    # Load in the data \n",
    "    data = np.load(f\"{data_path}{variable}.npz\", allow_pickle = True)\n",
    "    # Return arrays\n",
    "    return data[\"obs\"], data[\"cm_hist\"], data[\"cm_future\"], data[\"time_obs\"], data[\"time_cm_hist\"], data[\"time_cm_future\"]"
   ]
  },
  {
   "cell_type": "markdown",
   "id": "527787a6",
   "metadata": {},
   "source": [
    "We work with daily mean near-surface temperature ('tas') and precipitation flux ('pr') in this notebook. Lets get the testing data for these two variables:"
   ]
  },
  {
   "cell_type": "code",
   "execution_count": 3,
   "id": "04fc1aca-8029-4db0-8ab9-162fc87397d2",
   "metadata": {},
   "outputs": [],
   "source": [
    "tas_obs, tas_cm_hist, tas_cm_future, tas_time_obs, tas_time_cm_hist, tas_time_cm_future = get_data(\"tas\")\n",
    "pr_obs, pr_cm_hist, pr_cm_future, pr_time_obs, pr_time_cm_hist, pr_time_cm_future = get_data(\"tas\")"
   ]
  },
  {
   "cell_type": "markdown",
   "id": "a5ab11b8-f183-48c3-928d-5fa727aa953d",
   "metadata": {
    "tags": []
   },
   "source": [
    "## 1. A first example"
   ]
  },
  {
   "cell_type": "markdown",
   "id": "77b1a5e0-5b5b-4ca7-b219-3d528ef50d5f",
   "metadata": {},
   "source": [
    "As shown in the [01 Getting Started](https://nbviewer.org/github/ecmwf-projects/ibicus/blob/main/notebooks/01%20Getting%20Started.ipynb) notebook, each debiaser is a subclass of the abstract `Debiaser` class. This provides a unified interface for initialising and applying debiasers. Let's read in some temperature data:"
   ]
  },
  {
   "cell_type": "markdown",
   "id": "759ec3a4-120f-42a7-bfec-1b672865fb85",
   "metadata": {},
   "source": [
    "We can initialise a debiaser for `\"tas\"` by using the `from_variable` method. If we want to apply ISIMIP and Equidistant-CDF-Matching (ECDFM) we can write:"
   ]
  },
  {
   "cell_type": "code",
   "execution_count": 4,
   "id": "c6d33b6a-de6c-48aa-9c74-21cd77b23f5f",
   "metadata": {},
   "outputs": [],
   "source": [
    "from ibicus.debias import ECDFM, ISIMIP, DeltaChange\n",
    "\n",
    "tas_debiaser_ECDFM = ECDFM.from_variable(\"tas\")\n",
    "tas_debiaser_ISIMIP = ISIMIP.from_variable(\"tas\")"
   ]
  },
  {
   "cell_type": "markdown",
   "id": "786a6fea-3ef7-435c-9b92-cd6078355aee",
   "metadata": {},
   "source": [
    "Applying the debiasers works using the `apply`-classmethod."
   ]
  },
  {
   "cell_type": "code",
   "execution_count": 5,
   "id": "4afeddf1-46e9-4d06-95b1-3e558a85c95d",
   "metadata": {},
   "outputs": [
    {
     "name": "stderr",
     "output_type": "stream",
     "text": [
      " 37%|█████████████████████████████████████████████████████████████▌                                                                                                       | 84/225 [00:46<01:15,  1.87it/s]/home/jakobwes/anaconda3/lib/python3.9/site-packages/scipy/stats/_continuous_distns.py:684: RuntimeWarning: invalid value encountered in sqrt\n",
      "  sk = 2*(b-a)*np.sqrt(a + b + 1) / (a + b + 2) / np.sqrt(a*b)\n",
      " 39%|███████████████████████████████████████████████████████████████▊                                                                                                     | 87/225 [00:48<01:13,  1.87it/s]/home/jakobwes/anaconda3/lib/python3.9/site-packages/scipy/stats/_continuous_distns.py:684: RuntimeWarning: invalid value encountered in sqrt\n",
      "  sk = 2*(b-a)*np.sqrt(a + b + 1) / (a + b + 2) / np.sqrt(a*b)\n",
      " 39%|████████████████████████████████████████████████████████████████▌                                                                                                    | 88/225 [00:48<01:12,  1.90it/s]/home/jakobwes/anaconda3/lib/python3.9/site-packages/scipy/stats/_continuous_distns.py:684: RuntimeWarning: invalid value encountered in sqrt\n",
      "  sk = 2*(b-a)*np.sqrt(a + b + 1) / (a + b + 2) / np.sqrt(a*b)\n",
      " 41%|████████████████████████████████████████████████████████████████████▏                                                                                                | 93/225 [00:51<01:06,  1.99it/s]/home/jakobwes/anaconda3/lib/python3.9/site-packages/scipy/stats/_continuous_distns.py:684: RuntimeWarning: invalid value encountered in sqrt\n",
      "  sk = 2*(b-a)*np.sqrt(a + b + 1) / (a + b + 2) / np.sqrt(a*b)\n",
      " 51%|███████████████████████████████████████████████████████████████████████████████████▊                                                                                | 115/225 [01:03<01:03,  1.72it/s]/home/jakobwes/anaconda3/lib/python3.9/site-packages/scipy/stats/_continuous_distns.py:684: RuntimeWarning: invalid value encountered in sqrt\n",
      "  sk = 2*(b-a)*np.sqrt(a + b + 1) / (a + b + 2) / np.sqrt(a*b)\n",
      " 57%|█████████████████████████████████████████████████████████████████████████████████████████████▎                                                                      | 128/225 [01:10<00:49,  1.95it/s]/home/jakobwes/anaconda3/lib/python3.9/site-packages/scipy/stats/_continuous_distns.py:684: RuntimeWarning: invalid value encountered in sqrt\n",
      "  sk = 2*(b-a)*np.sqrt(a + b + 1) / (a + b + 2) / np.sqrt(a*b)\n",
      " 62%|█████████████████████████████████████████████████████████████████████████████████████████████████████▎                                                              | 139/225 [01:17<00:53,  1.59it/s]/home/jakobwes/anaconda3/lib/python3.9/site-packages/scipy/stats/_continuous_distns.py:684: RuntimeWarning: invalid value encountered in sqrt\n",
      "  sk = 2*(b-a)*np.sqrt(a + b + 1) / (a + b + 2) / np.sqrt(a*b)\n",
      " 66%|███████████████████████████████████████████████████████████████████████████████████████████████████████████▉                                                        | 148/225 [01:23<00:56,  1.36it/s]/home/jakobwes/anaconda3/lib/python3.9/site-packages/scipy/stats/_continuous_distns.py:684: RuntimeWarning: invalid value encountered in sqrt\n",
      "  sk = 2*(b-a)*np.sqrt(a + b + 1) / (a + b + 2) / np.sqrt(a*b)\n",
      " 68%|██████████████████████████████████████████████████████████████████████████████████████████████████████████████▊                                                     | 152/225 [01:26<00:48,  1.50it/s]/home/jakobwes/anaconda3/lib/python3.9/site-packages/scipy/stats/_continuous_distns.py:684: RuntimeWarning: invalid value encountered in sqrt\n",
      "  sk = 2*(b-a)*np.sqrt(a + b + 1) / (a + b + 2) / np.sqrt(a*b)\n",
      " 72%|█████████████████████████████████████████████████████████████████████████████████████████████████████████████████████▎                                              | 161/225 [01:31<00:35,  1.79it/s]/home/jakobwes/anaconda3/lib/python3.9/site-packages/scipy/stats/_continuous_distns.py:684: RuntimeWarning: invalid value encountered in sqrt\n",
      "  sk = 2*(b-a)*np.sqrt(a + b + 1) / (a + b + 2) / np.sqrt(a*b)\n",
      " 75%|██████████████████████████████████████████████████████████████████████████████████████████████████████████████████████████▍                                         | 168/225 [01:35<00:31,  1.84it/s]/home/jakobwes/anaconda3/lib/python3.9/site-packages/scipy/stats/_continuous_distns.py:684: RuntimeWarning: invalid value encountered in sqrt\n",
      "  sk = 2*(b-a)*np.sqrt(a + b + 1) / (a + b + 2) / np.sqrt(a*b)\n",
      " 76%|███████████████████████████████████████████████████████████████████████████████████████████████████████████████████████████▉                                        | 170/225 [01:36<00:28,  1.95it/s]/home/jakobwes/anaconda3/lib/python3.9/site-packages/scipy/stats/_continuous_distns.py:684: RuntimeWarning: invalid value encountered in sqrt\n",
      "  sk = 2*(b-a)*np.sqrt(a + b + 1) / (a + b + 2) / np.sqrt(a*b)\n",
      " 78%|████████████████████████████████████████████████████████████████████████████████████████████████████████████████████████████████▎                                   | 176/225 [01:39<00:27,  1.81it/s]/home/jakobwes/anaconda3/lib/python3.9/site-packages/scipy/stats/_continuous_distns.py:684: RuntimeWarning: invalid value encountered in sqrt\n",
      "  sk = 2*(b-a)*np.sqrt(a + b + 1) / (a + b + 2) / np.sqrt(a*b)\n",
      " 79%|█████████████████████████████████████████████████████████████████████████████████████████████████████████████████████████████████                                   | 177/225 [01:40<00:25,  1.85it/s]/home/jakobwes/anaconda3/lib/python3.9/site-packages/scipy/stats/_continuous_distns.py:684: RuntimeWarning: invalid value encountered in sqrt\n",
      "  sk = 2*(b-a)*np.sqrt(a + b + 1) / (a + b + 2) / np.sqrt(a*b)\n",
      " 81%|████████████████████████████████████████████████████████████████████████████████████████████████████████████████████████████████████▋                               | 182/225 [01:42<00:22,  1.91it/s]/home/jakobwes/anaconda3/lib/python3.9/site-packages/scipy/stats/_continuous_distns.py:684: RuntimeWarning: invalid value encountered in sqrt\n",
      "  sk = 2*(b-a)*np.sqrt(a + b + 1) / (a + b + 2) / np.sqrt(a*b)\n",
      " 82%|██████████████████████████████████████████████████████████████████████████████████████████████████████████████████████████████████████▊                             | 185/225 [01:44<00:19,  2.10it/s]/home/jakobwes/anaconda3/lib/python3.9/site-packages/scipy/stats/_continuous_distns.py:684: RuntimeWarning: invalid value encountered in sqrt\n",
      "  sk = 2*(b-a)*np.sqrt(a + b + 1) / (a + b + 2) / np.sqrt(a*b)\n",
      " 84%|█████████████████████████████████████████████████████████████████████████████████████████████████████████████████████████████████████████                           | 188/225 [01:45<00:19,  1.94it/s]/home/jakobwes/anaconda3/lib/python3.9/site-packages/scipy/stats/_continuous_distns.py:684: RuntimeWarning: invalid value encountered in sqrt\n",
      "  sk = 2*(b-a)*np.sqrt(a + b + 1) / (a + b + 2) / np.sqrt(a*b)\n",
      " 88%|███████████████████████████████████████████████████████████████████████████████████████████████████████████████████████████████████████████████▌                    | 197/225 [01:50<00:13,  2.13it/s]/home/jakobwes/anaconda3/lib/python3.9/site-packages/scipy/optimize/_minpack_py.py:175: RuntimeWarning: The iteration is not making good progress, as measured by the \n",
      "  improvement from the last ten iterations.\n",
      "  warnings.warn(msg, RuntimeWarning)\n",
      " 88%|█████████████████████████████████████████████████████████████████████████████████████████████████████████████████████████████████████████████████                   | 199/225 [01:51<00:11,  2.29it/s]/home/jakobwes/anaconda3/lib/python3.9/site-packages/scipy/optimize/_minpack_py.py:175: RuntimeWarning: The iteration is not making good progress, as measured by the \n",
      "  improvement from the last ten iterations.\n",
      "  warnings.warn(msg, RuntimeWarning)\n",
      " 89%|█████████████████████████████████████████████████████████████████████████████████████████████████████████████████████████████████████████████████▊                  | 200/225 [01:51<00:11,  2.23it/s]/home/jakobwes/anaconda3/lib/python3.9/site-packages/scipy/stats/_continuous_distns.py:684: RuntimeWarning: invalid value encountered in sqrt\n",
      "  sk = 2*(b-a)*np.sqrt(a + b + 1) / (a + b + 2) / np.sqrt(a*b)\n",
      " 91%|████████████████████████████████████████████████████████████████████████████████████████████████████████████████████████████████████████████████████▋               | 204/225 [01:53<00:10,  2.04it/s]/home/jakobwes/anaconda3/lib/python3.9/site-packages/scipy/stats/_continuous_distns.py:684: RuntimeWarning: invalid value encountered in sqrt\n",
      "  sk = 2*(b-a)*np.sqrt(a + b + 1) / (a + b + 2) / np.sqrt(a*b)\n",
      " 93%|████████████████████████████████████████████████████████████████████████████████████████████████████████████████████████████████████████████████████████▎           | 209/225 [01:56<00:07,  2.11it/s]/home/jakobwes/anaconda3/lib/python3.9/site-packages/scipy/stats/_continuous_distns.py:684: RuntimeWarning: invalid value encountered in sqrt\n",
      "  sk = 2*(b-a)*np.sqrt(a + b + 1) / (a + b + 2) / np.sqrt(a*b)\n",
      " 95%|███████████████████████████████████████████████████████████████████████████████████████████████████████████████████████████████████████████████████████████▉        | 214/225 [01:58<00:04,  2.32it/s]/home/jakobwes/anaconda3/lib/python3.9/site-packages/scipy/stats/_continuous_distns.py:684: RuntimeWarning: invalid value encountered in sqrt\n",
      "  sk = 2*(b-a)*np.sqrt(a + b + 1) / (a + b + 2) / np.sqrt(a*b)\n",
      " 96%|█████████████████████████████████████████████████████████████████████████████████████████████████████████████████████████████████████████████████████████████▍      | 216/225 [01:58<00:03,  2.64it/s]/home/jakobwes/anaconda3/lib/python3.9/site-packages/scipy/stats/_continuous_distns.py:684: RuntimeWarning: invalid value encountered in sqrt\n",
      "  sk = 2*(b-a)*np.sqrt(a + b + 1) / (a + b + 2) / np.sqrt(a*b)\n",
      " 99%|█████████████████████████████████████████████████████████████████████████████████████████████████████████████████████████████████████████████████████████████████▊  | 222/225 [02:01<00:01,  2.03it/s]/home/jakobwes/anaconda3/lib/python3.9/site-packages/scipy/stats/_continuous_distns.py:684: RuntimeWarning: invalid value encountered in sqrt\n",
      "  sk = 2*(b-a)*np.sqrt(a + b + 1) / (a + b + 2) / np.sqrt(a*b)\n",
      "100%|████████████████████████████████████████████████████████████████████████████████████████████████████████████████████████████████████████████████████████████████████| 225/225 [02:03<00:00,  1.82it/s]\n"
     ]
    }
   ],
   "source": [
    "tas_ECDFM = tas_debiaser_ECDFM.apply(tas_obs, tas_cm_hist, tas_cm_future)"
   ]
  },
  {
   "cell_type": "markdown",
   "id": "edc2f6a9-a396-4f7e-bfe8-1d36ec057bd1",
   "metadata": {},
   "source": [
    "Some debiasers like ISIMIP require additional arguments in the apply-method like the dates:"
   ]
  },
  {
   "cell_type": "code",
   "execution_count": 6,
   "id": "b0c24d55-8a4f-41fc-b430-6e8f6ef7ec28",
   "metadata": {},
   "outputs": [
    {
     "name": "stderr",
     "output_type": "stream",
     "text": [
      "100%|████████████████████████████████████████████████████████████████████████████████████████████████████████████████████████████████████████████████████████████████████| 225/225 [10:18<00:00,  2.75s/it]\n"
     ]
    }
   ],
   "source": [
    "tas_ISIMIP = tas_debiaser_ISIMIP.apply(tas_obs, tas_cm_hist, tas_cm_future, time_obs = tas_time_obs, time_cm_hist = tas_time_cm_hist, time_cm_future =tas_time_cm_future)"
   ]
  },
  {
   "cell_type": "markdown",
   "id": "46824882-f503-44f7-ad22-2c0cc3a8c60e",
   "metadata": {},
   "source": [
    "We can compare the bias corrected output using the evaluation framework. In this notebook, we limit ourselves to plotting the distribution of the debiased data at location [1,1]:"
   ]
  },
  {
   "cell_type": "code",
   "execution_count": 7,
   "id": "a7de0bf6-e9b2-4393-8219-d2ae992c75c5",
   "metadata": {},
   "outputs": [
    {
     "data": {
      "image/png": "[encoded data removed]",
      "text/plain": [
       "<Figure size 640x480 with 1 Axes>"
      ]
     },
     "metadata": {},
     "output_type": "display_data"
    }
   ],
   "source": [
    "plt.hist(tas_ECDFM[:, 1, 1], bins=\"auto\", alpha = 0.5, label = \"ECDFM\")\n",
    "plt.hist(tas_ISIMIP[:, 1, 1], bins=\"auto\", alpha = 0.5, label = \"ISIMIP\")\n",
    "plt.legend()\n",
    "plt.show()"
   ]
  },
  {
   "cell_type": "markdown",
   "id": "b7f98cdd-d056-4cd4-b756-a29d1002d32a",
   "metadata": {},
   "source": [
    "We see that the data distributions produced by ECDFM and ISIMIP do differ. For info on how to evaluate this have a look at our notebook on evaluation"
   ]
  },
  {
   "cell_type": "markdown",
   "id": "9f8c657f-1c05-40a6-95cb-2a4497f70bd9",
   "metadata": {},
   "source": [
    "## 2. Going deeper: initialising and applying debiasers"
   ]
  },
  {
   "cell_type": "markdown",
   "id": "51825b29",
   "metadata": {},
   "source": [
    "Every debiaser that is part of the package consists of a set of parameters controlling the behavior as well as a `from_variable` and `apply`-method."
   ]
  },
  {
   "cell_type": "markdown",
   "id": "e68dd34f-bb4c-4819-87d2-db966b8510b7",
   "metadata": {},
   "source": [
    "### 2.1. Initialisation"
   ]
  },
  {
   "cell_type": "markdown",
   "id": "1d88c145-1b49-485f-8661-dfdb561fed56",
   "metadata": {},
   "source": [
    "Let's have a look at the tas-ECDFM debiaser defined above using the `from_variable` method."
   ]
  },
  {
   "cell_type": "code",
   "execution_count": 8,
   "id": "8ee38a89-4459-47a6-ad31-f797be1b98db",
   "metadata": {},
   "outputs": [
    {
     "data": {
      "text/plain": [
       "ECDFM(variable='Daily mean near-surface air temperature', reasonable_physical_range=[100, 400], distribution=<scipy.stats._continuous_distns.beta_gen object at 0x7f017faa6340>, cdf_threshold=1e-10)"
      ]
     },
     "execution_count": 8,
     "metadata": {},
     "output_type": "execute_result"
    }
   ],
   "source": [
    "tas_debiaser_ECDFM"
   ]
  },
  {
   "cell_type": "markdown",
   "id": "0d08991e-0107-4c33-8580-6d4ec34fffaf",
   "metadata": {},
   "source": [
    "We see that two parameters are set: a variable referring to the variable we are debiasing, as well as a distribution. These parameters fully determine the setting of this particular debiaser, equidistant-CDF-matching.\n",
    "\n",
    "Using the `from_variable` method, a debiaser is initialized using the default parameters associated with this variable for this particular debiaser. The same outcome can be achieved by directly setting the required parameters, without using the `from_variable` method:"
   ]
  },
  {
   "cell_type": "code",
   "execution_count": 9,
   "id": "c7df1d2d-3af7-4297-838b-df53939e586d",
   "metadata": {},
   "outputs": [],
   "source": [
    "import scipy.stats\n",
    "tas_debiaser_ECDFM_v2 = ECDFM(distribution=scipy.stats.beta)"
   ]
  },
  {
   "cell_type": "markdown",
   "id": "55464614",
   "metadata": {},
   "source": [
    "And we can see that these debiasers are absolutely identical:"
   ]
  },
  {
   "cell_type": "code",
   "execution_count": 10,
   "id": "41a6b923",
   "metadata": {},
   "outputs": [
    {
     "data": {
      "text/plain": [
       "True"
      ]
     },
     "execution_count": 10,
     "metadata": {},
     "output_type": "execute_result"
    }
   ],
   "source": [
    "tas_debiaser_ECDFM == tas_debiaser_ECDFM_v2"
   ]
  },
  {
   "cell_type": "markdown",
   "id": "6a01b50b",
   "metadata": {},
   "source": [
    "**Learning**: if we set all the parameters needed manually to the default parameters of a specific variable, the debiaser will be equivalent to a debiaser initialized using the `from_variable` method.\n",
    "\n",
    "Have a look at the documentation of each bias adjustment method to find out which parameters need to be set for that specific debiaser.\n",
    "\n",
    "The table below gives an overview of which variables currently have default setting for which debiasers - 'experimental default settings' are marked with brackets around the x."
   ]
  },
  {
   "cell_type": "markdown",
   "id": "46c0d20a-d3a2-496b-a13d-f1816c8bada9",
   "metadata": {},
   "source": [
    "| Variable  | `LinearScaling` | `DeltaChange` | `QuantileMapping` | `ScaledDistributionMapping` | `CDFt`  | `ECDFM` | `QuantileDeltaMapping` | `ISIMIP` |\n",
    "|-----------|:-------------------------:|:-----------------------:|:---------------------------:|:-------------------------------------:|:-----------------:|:-----------------:|:--------------------------------:|:------------------:|\n",
    "| hurs      |  (x)         |  (x)       |  (x)           |                                       |  (x) |  (x) |  (x)                |  x    |\n",
    "| pr        |  x           |  x         |  x             |  x                       |  x   |  x   |  x                  |  x    |\n",
    "| prsnratio |                           |                         |                             |                                       |                   |                   |                                  |  x    |\n",
    "| psl       |  (x)         |  (x)       |  (x)           |                                       |  (x) |  (x) |  (x)                |  x    |\n",
    "| rlds      |  (x)         |  (x)       |  (x)           |                                       |  (x) |  (x) |  (x)                |  x    |\n",
    "| rsds      |  (x)         |  (x)       |                             |                                       |  (x) |                   |                                  |  x    |\n",
    "| sfcWind   |  (x)         |  (x)       |  (x)           |                                       |  (x) |  (x) |  (x)                |  x    |\n",
    "| tas       |  x           |  x         |  x             |  x                       |  x   |  x   |  x                  |  x    |\n",
    "| tasmin    |  x           |  x         |  (x)           |  (x)                     |  x   |  (x) |  (x)                |                    |\n",
    "| tasmax    |  x           |  x         |  (x)           |  (x)                     |  x   |  (x) |  (x)                |                    |\n",
    "| tasrange  |                           |                         |                             |                                       |  (x) |                   |                                  |  x    |\n",
    "| tasskew   |                           |                         |                             |                                       |  (x) |                   |                                  |  x    |\n"
   ]
  },
  {
   "cell_type": "markdown",
   "id": "c1e9127a-f408-4b3f-891f-113591d73fe6",
   "metadata": {},
   "source": [
    "If we try to initialize a debiaser that does not exist for a certain variable using the `from_variable` method, we are basically asking for error message:"
   ]
  },
  {
   "cell_type": "code",
   "execution_count": 11,
   "id": "40c0f5b1-e52c-4eaa-9398-9d6db556b705",
   "metadata": {},
   "outputs": [
    {
     "ename": "ValueError",
     "evalue": "Unfortunately currently no default settings exist for the variable tasmin in the debiaser ISIMIP. You can set the required class parameters manually by using the class constructor.",
     "output_type": "error",
     "traceback": [
      "\u001b[0;31m---------------------------------------------------------------------------\u001b[0m",
      "\u001b[0;31mValueError\u001b[0m                                Traceback (most recent call last)",
      "\u001b[0;32m/tmp/ipykernel_49752/2091483589.py\u001b[0m in \u001b[0;36m<module>\u001b[0;34m\u001b[0m\n\u001b[0;32m----> 1\u001b[0;31m \u001b[0mdebiaser3\u001b[0m \u001b[0;34m=\u001b[0m \u001b[0mISIMIP\u001b[0m\u001b[0;34m.\u001b[0m\u001b[0mfrom_variable\u001b[0m\u001b[0;34m(\u001b[0m\u001b[0;34m\"tasmin\"\u001b[0m\u001b[0;34m)\u001b[0m\u001b[0;34m\u001b[0m\u001b[0;34m\u001b[0m\u001b[0m\n\u001b[0m",
      "\u001b[0;32m~/anaconda3/lib/python3.9/site-packages/ibicus/debias/_isimip.py\u001b[0m in \u001b[0;36mfrom_variable\u001b[0;34m(cls, variable, **kwargs)\u001b[0m\n\u001b[1;32m    341\u001b[0m     \u001b[0;34m@\u001b[0m\u001b[0mclassmethod\u001b[0m\u001b[0;34m\u001b[0m\u001b[0;34m\u001b[0m\u001b[0m\n\u001b[1;32m    342\u001b[0m     \u001b[0;32mdef\u001b[0m \u001b[0mfrom_variable\u001b[0m\u001b[0;34m(\u001b[0m\u001b[0mcls\u001b[0m\u001b[0;34m,\u001b[0m \u001b[0mvariable\u001b[0m\u001b[0;34m:\u001b[0m \u001b[0mUnion\u001b[0m\u001b[0;34m[\u001b[0m\u001b[0mstr\u001b[0m\u001b[0;34m,\u001b[0m \u001b[0mVariable\u001b[0m\u001b[0;34m]\u001b[0m\u001b[0;34m,\u001b[0m \u001b[0;34m**\u001b[0m\u001b[0mkwargs\u001b[0m\u001b[0;34m)\u001b[0m\u001b[0;34m:\u001b[0m\u001b[0;34m\u001b[0m\u001b[0;34m\u001b[0m\u001b[0m\n\u001b[0;32m--> 343\u001b[0;31m         return super()._from_variable(\n\u001b[0m\u001b[1;32m    344\u001b[0m             \u001b[0mcls\u001b[0m\u001b[0;34m,\u001b[0m\u001b[0;34m\u001b[0m\u001b[0;34m\u001b[0m\u001b[0m\n\u001b[1;32m    345\u001b[0m             \u001b[0mvariable\u001b[0m\u001b[0;34m=\u001b[0m\u001b[0mvariable\u001b[0m\u001b[0;34m,\u001b[0m\u001b[0;34m\u001b[0m\u001b[0;34m\u001b[0m\u001b[0m\n",
      "\u001b[0;32m~/anaconda3/lib/python3.9/site-packages/ibicus/debias/_debiaser.py\u001b[0m in \u001b[0;36m_from_variable\u001b[0;34m(child_class, variable, default_settings_variable, experimental_default_setting_variable, default_settings_general, **kwargs)\u001b[0m\n\u001b[1;32m    137\u001b[0m                 ]\n\u001b[1;32m    138\u001b[0m             \u001b[0;32melse\u001b[0m\u001b[0;34m:\u001b[0m\u001b[0;34m\u001b[0m\u001b[0;34m\u001b[0m\u001b[0m\n\u001b[0;32m--> 139\u001b[0;31m                 raise ValueError(\n\u001b[0m\u001b[1;32m    140\u001b[0m                     \u001b[0;34mf\"Unfortunately currently no default settings exist for the variable {variable} in the debiaser {child_class.__name__}. You can set the required class parameters manually by using the class constructor.\"\u001b[0m\u001b[0;34m\u001b[0m\u001b[0;34m\u001b[0m\u001b[0m\n\u001b[1;32m    141\u001b[0m                 )\n",
      "\u001b[0;31mValueError\u001b[0m: Unfortunately currently no default settings exist for the variable tasmin in the debiaser ISIMIP. You can set the required class parameters manually by using the class constructor."
     ]
    }
   ],
   "source": [
    "debiaser3 = ISIMIP.from_variable(\"tasmin\")"
   ]
  },
  {
   "cell_type": "markdown",
   "id": "affead10-d3fd-4447-8a00-1b6a82e1bdfb",
   "metadata": {},
   "source": [
    "ISIMIP instead offers the option to debias `tasrange` and `tasskew` and calculate `tasmin` from those."
   ]
  },
  {
   "cell_type": "markdown",
   "id": "5fcf6d02-cbad-4f99-b796-632821482c3b",
   "metadata": {},
   "source": [
    "Some bias adjustment methods offer and additional `for_precipitation` method to initialise it for precipitation (`pr`). Precipitation methods can be a bit more complicated and sometimes require the specification of a threshold under which precipitation is assumed to be zero. The `for_precipitation`-method is there to facilitate the choice of method.\n",
    "\n",
    "For example we can initialise a `QuantileMapping` debiaser with a precipitation gamma hurdle model. A hurdle model is a two step model where precipitation occurrence is modelled binomially and then a gamma distribution is assumed for the amounts. An alternative model is the censored model where all precipitation amounts under a threshold (so also all dry days) are assumed censored, so labeled 'not known' to the model.\n",
    "\n",
    "Let's initialize both:"
   ]
  },
  {
   "cell_type": "code",
   "execution_count": 12,
   "id": "2062b508-acb6-4b3b-97db-31175cd04c8a",
   "metadata": {},
   "outputs": [],
   "source": [
    "from ibicus.debias import QuantileMapping\n",
    "\n",
    "# Initialise debiaser\n",
    "pr_debiaser_QM_hurdle = QuantileMapping.for_precipitation(model_type = \"hurdle\")\n",
    "pr_debiaser_QM_censored = QuantileMapping.for_precipitation(model_type = \"censored\", censoring_threshold = 0.1/86400)"
   ]
  },
  {
   "cell_type": "markdown",
   "id": "a687e70a-2a00-4902-9120-ff62ba3f624d",
   "metadata": {},
   "source": [
    "### 2.2. Application"
   ]
  },
  {
   "cell_type": "markdown",
   "id": "3bb595a4-da0d-4271-be83-d3639b8778ac",
   "metadata": {},
   "source": [
    "The bias adjustment method is applied through the apply-function. Lets initialise and apply a `DeltaChange` debiaser for `\"tas\"`:"
   ]
  },
  {
   "cell_type": "code",
   "execution_count": 13,
   "id": "2ff9194b-afae-476e-859c-5aa49a795beb",
   "metadata": {},
   "outputs": [
    {
     "name": "stderr",
     "output_type": "stream",
     "text": [
      "100%|██████████████████████████████████████████████████████████████████████████████████████████████████████████████████████████████████████████████████████████████████| 225/225 [00:00<00:00, 4552.27it/s]\n"
     ]
    }
   ],
   "source": [
    "tas_debiaser_DC = DeltaChange.from_variable(\"tas\")\n",
    "tas_debiased_DC = tas_debiaser_DC.apply(tas_obs, tas_cm_hist, tas_cm_future)"
   ]
  },
  {
   "cell_type": "markdown",
   "id": "dfcbf921-e1c4-46ba-bdc8-e9eadcea9c67",
   "metadata": {},
   "source": [
    "As you can see, the apply function needs three numpy arrays of data in the form: \n",
    "\n",
    "- obs representing observations of a climatological variable\n",
    "- cm_hist representing climate model values for a climatological variable during a reference/the observational period\n",
    "- cm_future representing climate model values for a climatological variable during a future  or application period that is to be debiased\n",
    "\n",
    "All three are assumed to be 3d-numpy arrays where the first dimension corresponds to time and the other two to spatial locations. The locations in obs, cm_hist  and cm_future need to be the same and observational data has to be regridded to match the scale of the climate model grid prior to applying the bias adjustment.\n",
    "\n",
    "Besides obs, cm_hist and cm_future some debiasers might also require additional information like the dates to which observations and climate model values correspond, for example to apply the debiaser in a running window-mode. We have already seen an example in the first chapter of this notebook, when we initialized and applied ISIMIP. Dates datasets are arrays of dates in one of several formats:"
   ]
  },
  {
   "cell_type": "code",
   "execution_count": 14,
   "id": "fae174d1-0db7-4668-8781-15a375c40422",
   "metadata": {},
   "outputs": [
    {
     "data": {
      "text/plain": [
       "array([cftime.DatetimeGregorian(1979, 1, 1, 0, 0, 0, 0, has_year_zero=False),\n",
       "       cftime.DatetimeGregorian(1979, 1, 2, 0, 0, 0, 0, has_year_zero=False),\n",
       "       cftime.DatetimeGregorian(1979, 1, 3, 0, 0, 0, 0, has_year_zero=False),\n",
       "       ...,\n",
       "       cftime.DatetimeGregorian(2005, 12, 29, 0, 0, 0, 0, has_year_zero=False),\n",
       "       cftime.DatetimeGregorian(2005, 12, 30, 0, 0, 0, 0, has_year_zero=False),\n",
       "       cftime.DatetimeGregorian(2005, 12, 31, 0, 0, 0, 0, has_year_zero=False)],\n",
       "      dtype=object)"
      ]
     },
     "execution_count": 14,
     "metadata": {},
     "output_type": "execute_result"
    }
   ],
   "source": [
    "tas_time_obs"
   ]
  },
  {
   "cell_type": "markdown",
   "id": "7b2dc041-1895-42a2-9e88-be8c58e524da",
   "metadata": {},
   "source": [
    "ISIMIP also runs without having been passed date arguments, by inference:"
   ]
  },
  {
   "cell_type": "code",
   "execution_count": 15,
   "id": "58807008-b4f1-4a6c-8a9b-3b94e686c05f",
   "metadata": {},
   "outputs": [
    {
     "name": "stderr",
     "output_type": "stream",
     "text": [
      "  0%|                                                                                                                                                                              | 0/225 [00:00<?, ?it/s]/home/jakobwes/anaconda3/lib/python3.9/site-packages/ibicus/debias/_debiaser.py:387: UserWarning: ISIMIP runs without time-information for at least one of obs, cm_hist or cm_future.\n",
      "                    This information is inferred, assuming the first observation is on a January 1st. Observations are chunked according to the assumed time information.\n",
      "                    This might lead to slight numerical differences to the run with time information, however the debiasing is not fundamentally changed.\n",
      "  return func(obs, cm_hist, cm_future, **kwargs)\n",
      "100%|████████████████████████████████████████████████████████████████████████████████████████████████████████████████████████████████████████████████████████████████████| 225/225 [09:36<00:00,  2.56s/it]\n"
     ]
    }
   ],
   "source": [
    "tas_ISIMIP_nodates = tas_debiaser_ISIMIP.apply(tas_obs, tas_cm_hist, tas_cm_future)"
   ]
  },
  {
   "cell_type": "code",
   "execution_count": 16,
   "id": "c9cf3835-e5d2-4355-a2ad-aa430aef41fd",
   "metadata": {},
   "outputs": [
    {
     "name": "stderr",
     "output_type": "stream",
     "text": [
      "100%|████████████████████████████████████████████████████████████████████████████████████████████████████████████████████████████████████████████████████████████████████| 225/225 [09:23<00:00,  2.50s/it]\n"
     ]
    }
   ],
   "source": [
    "debiaser = ISIMIP.from_variable(\"tas\")\n",
    "tas_ISIMIP_nodates = debiaser.apply(tas_obs, tas_cm_hist, tas_cm_future)"
   ]
  },
  {
   "cell_type": "markdown",
   "id": "a7de1e5b-b4e7-4420-ae92-4260ec17f3df",
   "metadata": {},
   "source": [
    "## 3. Modifying the debiasers"
   ]
  },
  {
   "cell_type": "markdown",
   "id": "c0f08c76-a831-4d4b-bed1-a1a0b318d1b8",
   "metadata": {},
   "source": [
    "As seen above it is possible to initialise a debiaser either using the `from_variable`-method or the class-constructor. Using the class constructor, it is possible to extent debiasers to meteorological variables which are currently not covered by the `from_variable`-method."
   ]
  },
  {
   "cell_type": "markdown",
   "id": "70ea545f-bfc5-4737-9b59-b3a60449e44b",
   "metadata": {},
   "source": [
    "However, in many cases, even when working with variables that have default settings, it will be important to modify the behavior of debiasers to improve its application for a certain variable/region and problem at hand. \n",
    "\n",
    "For parametric methods, we might want to change the distribution to improve fit eg. for extremes, we might want to use a different trend-capturing method if trends are unrealistic, modified or inflated, or just generally might want to do some additional adjustment the debiaser offers. \n",
    "\n",
    "Parameters of the debiaser can be modified either by setting them differently in the class constructor or in the `from_variable`-method. For example if we decide to apply `QuantileMapping` and the climate change trend of the model is not entirely realistic it might be a good idea not to use detrending prior to quantile mapping. This can be done through:"
   ]
  },
  {
   "cell_type": "code",
   "execution_count": 17,
   "id": "68357b03-becd-41fc-92d0-874e2c7ec48a",
   "metadata": {},
   "outputs": [],
   "source": [
    "tas_debiaser_QM_v1 = QuantileMapping.from_variable(\"tas\", detrending = \"no_detrending\")"
   ]
  },
  {
   "cell_type": "markdown",
   "id": "adeaf9a3-690e-4e73-98e6-0d44e63dd0c2",
   "metadata": {},
   "source": [
    "or:"
   ]
  },
  {
   "cell_type": "code",
   "execution_count": 18,
   "id": "eacf9ef9-6f41-43da-82a1-e0be2771564c",
   "metadata": {},
   "outputs": [
    {
     "data": {
      "text/plain": [
       "True"
      ]
     },
     "execution_count": 18,
     "metadata": {},
     "output_type": "execute_result"
    }
   ],
   "source": [
    "tas_debiaser_QM_v2 = QuantileMapping(distribution = scipy.stats.norm, detrending = \"no_detrending\")\n",
    "tas_debiaser_QM_v1 == tas_debiaser_QM_v2"
   ]
  },
  {
   "cell_type": "markdown",
   "id": "51ac32f6-c727-4bd4-91ee-188b0919c68e",
   "metadata": {},
   "source": [
    "It is also possible to directly modify the class attribute: "
   ]
  },
  {
   "cell_type": "code",
   "execution_count": 19,
   "id": "b1c6dd6c-91fa-409b-9cbd-53de246fe87f",
   "metadata": {},
   "outputs": [
    {
     "data": {
      "text/plain": [
       "True"
      ]
     },
     "execution_count": 19,
     "metadata": {},
     "output_type": "execute_result"
    }
   ],
   "source": [
    "tas_debiaser_QM_v3 = QuantileMapping.from_variable(\"tas\")\n",
    "tas_debiaser_QM_v3.detrending = \"no_detrending\"\n",
    "\n",
    "tas_debiaser_QM_v1 == tas_debiaser_QM_v3"
   ]
  },
  {
   "cell_type": "markdown",
   "id": "a50dbd41-6392-42e9-9700-b2861fd2d9e0",
   "metadata": {},
   "source": [
    "However, no validation is applied to the new arguments, so this method is generally not recommended."
   ]
  },
  {
   "cell_type": "markdown",
   "id": "f303902f-c9ca-4bec-a867-45905c7f547a",
   "metadata": {},
   "source": [
    "**How to know which parameters to change**: Some debiasers such as ISIMIP have many parameters to control the behavior, but oftentimes only a few are central. The documentation for each of the debiasers provides an indication of the central and required parameters and how they modify the debiasing behavior."
   ]
  }
 ],
 "metadata": {
  "kernelspec": {
   "display_name": "Python 3 (ipykernel)",
   "language": "python",
   "name": "python3"
  },
  "language_info": {
   "codemirror_mode": {
    "name": "ipython",
    "version": 3
   },
   "file_extension": ".py",
   "mimetype": "text/x-python",
   "name": "python",
   "nbconvert_exporter": "python",
   "pygments_lexer": "ipython3",
   "version": "3.9.13"
  }
 },
 "nbformat": 4,
 "nbformat_minor": 5
}
