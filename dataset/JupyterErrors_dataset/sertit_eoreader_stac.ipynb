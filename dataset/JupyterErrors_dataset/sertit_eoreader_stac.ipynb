{
 "cells": [
  {
   "cell_type": "markdown",
   "id": "1a8ab2e1",
   "metadata": {},
   "source": [
    "# STAC\n",
    "Let's use EOReader to create [SpatioTemporal Asset Catalog (STAC)](https://stacspec.org/) items.\n",
    "\n",
    "<div class=\"alert alert-info\">\n",
    "  \n",
    "   <strong>Note:</strong> This is experimental for now, use it at your own risk !\n",
    "    \n",
    "</div>\n",
    "\n",
    "<div class=\"alert alert-warning\">\n",
    "  \n",
    "<strong>Warning:</strong>\n",
    "You will need to install <a href=\"https://pystac.readthedocs.io/en/stable/\"><code>pystac[validation]</code></a>,\n",
    "<a href=\"https://python-visualization.github.io/folium/\"><code>folium</code></a>\n",
    "and <a href=\"https://eodag.readthedocs.io/en/stable/\"><code>eodag</code></a> (version != 2.6.0) to run this notebook\n",
    "    \n",
    "</div>"
   ]
  },
  {
   "cell_type": "markdown",
   "id": "f8c3f849",
   "metadata": {},
   "source": [
    "## Imports"
   ]
  },
  {
   "cell_type": "code",
   "execution_count": 1,
   "id": "24919c6c",
   "metadata": {
    "scrolled": true,
    "ExecuteTime": {
     "start_time": "2023-05-31T13:47:06.863191Z",
     "end_time": "2023-05-31T13:47:09.812739Z"
    }
   },
   "outputs": [],
   "source": [
    "# Imports\n",
    "import os\n",
    "\n",
    "import pystac\n",
    "import geopandas as gpd\n",
    "from tempfile import TemporaryDirectory\n",
    "from shapely.geometry import mapping\n",
    "\n",
    "from eodag import setup_logging\n",
    "from eodag.api.core import EODataAccessGateway\n",
    "\n",
    "from eoreader.reader import Reader"
   ]
  },
  {
   "cell_type": "markdown",
   "id": "ac4f9267",
   "metadata": {},
   "source": [
    "## Create logger"
   ]
  },
  {
   "cell_type": "code",
   "execution_count": 2,
   "id": "67d01536",
   "metadata": {
    "scrolled": true,
    "ExecuteTime": {
     "start_time": "2023-05-31T13:47:09.818473Z",
     "end_time": "2023-05-31T13:47:09.821097Z"
    }
   },
   "outputs": [],
   "source": [
    "# Create logger\n",
    "import logging\n",
    "from sertit import logs\n",
    "\n",
    "logger = logging.getLogger(\"eoreader\")\n",
    "logs.init_logger(logger)"
   ]
  },
  {
   "cell_type": "markdown",
   "id": "5f1d458f",
   "metadata": {},
   "source": [
    "## Linking some data \n",
    "\n",
    "Let's take 3 products covering approximately the same area (over DAX city in France):\n",
    "- One Landsat-8 OLI-TIRS collection 2\n",
    "- One Landsat-5 TM collection 2\n",
    "- One Sentinel-2 L1C"
   ]
  },
  {
   "cell_type": "code",
   "execution_count": 3,
   "id": "8cf0171b",
   "metadata": {
    "scrolled": true,
    "ExecuteTime": {
     "start_time": "2023-05-31T13:47:09.824231Z",
     "end_time": "2023-05-31T13:47:09.863490Z"
    }
   },
   "outputs": [],
   "source": [
    "prod_folder = os.path.join(\"/home\", \"data\", \"DATA\", \"PRODS\")\n",
    "paths = [\n",
    "    # Landsat-8 OLI-TIRS collection 2\n",
    "    os.path.join(prod_folder, \"LANDSATS_COL2\", \"LC08_L1TP_200030_20201220_20210310_02_T1.tar\"),\n",
    "    # Landsat-5 TM collection 2    \n",
    "    os.path.join(prod_folder, \"LANDSATS_COL2\", \"LT05_L1TP_200030_20111110_20200820_02_T1.tar\"),\n",
    "    # Sentinel-2 L2A\n",
    "    os.path.join(prod_folder, \"S2\", \"PB 02.07+\", \"S2A_MSIL1C_20191215T110441_N0208_R094_T30TXP_20191215T114155.SAFE\"),\n",
    "]"
   ]
  },
  {
   "cell_type": "markdown",
   "id": "84ac5591",
   "metadata": {},
   "source": [
    "## Create STAC catalog\n",
    "Create a STAC catalog and add 3 STAC items to it."
   ]
  },
  {
   "cell_type": "code",
   "execution_count": 4,
   "id": "00924896",
   "metadata": {
    "scrolled": true,
    "ExecuteTime": {
     "start_time": "2023-05-31T13:47:09.850898Z",
     "end_time": "2023-05-31T13:47:09.883406Z"
    }
   },
   "outputs": [],
   "source": [
    "# Create the reader\n",
    "reader = Reader()\n",
    "\n",
    "# Work in a temporary directory\n",
    "tmp = TemporaryDirectory()"
   ]
  },
  {
   "cell_type": "code",
   "execution_count": 5,
   "id": "8bd49e91",
   "metadata": {
    "ExecuteTime": {
     "start_time": "2023-05-31T13:47:09.886531Z",
     "end_time": "2023-05-31T13:47:09.920506Z"
    }
   },
   "outputs": [],
   "source": [
    "# Create STAC catalog\n",
    "catalog_path = os.path.join(tmp.name, \"catalog.json\")\n",
    "catalog = pystac.Catalog(\n",
    "    id='SERTIT_101',\n",
    "    description=\"SERTIT's Catalog\",\n",
    "    title='SERTIT Catalog',\n",
    "    href=catalog_path\n",
    ")"
   ]
  },
  {
   "cell_type": "code",
   "execution_count": 6,
   "id": "e6ca3360",
   "metadata": {
    "ExecuteTime": {
     "start_time": "2023-05-31T13:47:09.914511Z",
     "end_time": "2023-05-31T13:47:55.711041Z"
    }
   },
   "outputs": [
    {
     "name": "stderr",
     "output_type": "stream",
     "text": [
      "2023-05-31 11:47:09,915 - [INFO] - *** LC08_L1TP_200030_20201220_20210310_02_T1.tar ***\n",
      "2023-05-31 11:47:34,019 - [WARNING] - No quicklook found in 20201220T104856_L8_200030_OLI_TIRS\n",
      "2023-05-31 11:47:37,448 - [INFO] - *** LT05_L1TP_200030_20111110_20200820_02_T1.tar ***\n",
      "2023-05-31 11:47:45,405 - [INFO] - *** S2A_MSIL1C_20191215T110441_N0208_R094_T30TXP_20191215T114155.SAFE ***\n"
     ]
    }
   ],
   "source": [
    "# Add all the products into the STAC catalog\n",
    "for path in paths:\n",
    "    logger.info(f\"*** {os.path.basename(path)} ***\")\n",
    "\n",
    "    # Open the product\n",
    "    prod = reader.open(path, remove_tmp=True)\n",
    "\n",
    "    # Get item\n",
    "    item = prod.stac.create_item()\n",
    "\n",
    "    # Add item to catalogue\n",
    "    catalog.add_item(item)"
   ]
  },
  {
   "cell_type": "code",
   "execution_count": 7,
   "id": "ed7e59bd",
   "metadata": {
    "scrolled": false,
    "ExecuteTime": {
     "start_time": "2023-05-31T13:47:55.846264Z",
     "end_time": "2023-05-31T13:47:55.859250Z"
    }
   },
   "outputs": [
    {
     "name": "stdout",
     "output_type": "stream",
     "text": [
      "* <Catalog id=SERTIT_101>\n",
      "  * <Item id=20201220T104856_L8_200030_OLI_TIRS>\n",
      "  * <Item id=20111110T103612_L5_200030_TM>\n",
      "  * <Item id=20191215T110441_S2_T30TXP_L1C_114155>\n"
     ]
    }
   ],
   "source": [
    "# Save catalog\n",
    "catalog.describe()\n",
    "catalog.normalize_and_save(tmp.name, catalog_type=pystac.CatalogType.SELF_CONTAINED)"
   ]
  },
  {
   "cell_type": "code",
   "execution_count": 8,
   "id": "8add76bd",
   "outputs": [
    {
     "data": {
      "text/plain": "<Item id=20201220T104856_L8_200030_OLI_TIRS>",
      "text/html": "\n\n<div class=\"jp-RenderedHTMLCommon jp-RenderedHTML jp-mod-trusted jp-OutputArea-output\">\n    <div style=\"\n        width: 24px;\n        height: 24px;\n        background-color: #DBF5FF;\n        border: 3px solid #4CC9FF;\n        border-radius: 5px;\n        position: absolute;\">\n    </div>\n    <div>\n        <details style=\"margin-left: 48px;\">\n            <summary style=\"margin-bottom: 20px;\">\n                <h3 style=\"margin-bottom: 0px; display: inline;\">Item: 20201220T104856_L8_200030_OLI_TIRS</h3>\n            </summary>\n            <table style=\"width: 100%; text-align: left;\">\n                <tr><td style=\"text-align: left;\"><strong>id:</strong> 20201220T104856_L8_200030_OLI_TIRS </td></tr>\n                \n                    <tr><td style=\"text-align: left;\"><strong>bbox:</strong> [-2.744857724803896, 42.09665285173287, 0.14785265624107427, 44.2467651307631] </td></tr>\n                \n                \n                    \n                        <tr><td style=\"text-align: left;\"><strong>tilename:</strong> 200030 </td></tr>\n                    \n                        <tr><td style=\"text-align: left;\"><strong>eo:cloud_cover:</strong> 16.36 </td></tr>\n                    \n                        <tr><td style=\"text-align: left;\"><strong>proj:epsg:</strong> 32630 </td></tr>\n                    \n                        <tr><td style=\"text-align: left;\"><strong>proj:wkt2:</strong> PROJCS[\"WGS 84 / UTM zone 30N\",GEOGCS[\"WGS 84\",DATUM[\"WGS_1984\",SPHEROID[\"WGS 84\",6378137,298.257223563,AUTHORITY[\"EPSG\",\"7030\"]],AUTHORITY[\"EPSG\",\"6326\"]],PRIMEM[\"Greenwich\",0,AUTHORITY[\"EPSG\",\"8901\"]],UNIT[\"degree\",0.0174532925199433,AUTHORITY[\"EPSG\",\"9122\"]],AUTHORITY[\"EPSG\",\"4326\"]],PROJECTION[\"Transverse_Mercator\"],PARAMETER[\"latitude_of_origin\",0],PARAMETER[\"central_meridian\",-3],PARAMETER[\"scale_factor\",0.9996],PARAMETER[\"false_easting\",500000],PARAMETER[\"false_northing\",0],UNIT[\"metre\",1,AUTHORITY[\"EPSG\",\"9001\"]],AXIS[\"Easting\",EAST],AXIS[\"Northing\",NORTH],AUTHORITY[\"EPSG\",\"32630\"]] </td></tr>\n                    \n                        <tr><td style=\"text-align: left;\"><strong>proj:geometry:</strong> {'type': 'Polygon', 'coordinates': (((704535.0, 4665915.0), (703755.0, 4666095.0), (690465.0, 4669185.0), (630855.0, 4683045.0), (526215.0, 4707375.0), (523635.0, 4707975.0), (523125.0, 4708095.0), (523005.0, 4708125.0), (522945.0, 4708155.0), (522945.0, 4708275.0), (522975.0, 4708425.0), (523185.0, 4709355.0), (566355.0, 4898205.0), (566445.0, 4898595.0), (566475.0, 4898715.0), (566505.0, 4898715.0), (567045.0, 4898595.0), (567975.0, 4898385.0), (573405.0, 4897155.0), (586515.0, 4894185.0), (697485.0, 4869045.0), (748335.0, 4857525.0), (748575.0, 4857465.0), (748575.0, 4857375.0), (748455.0, 4856835.0), (747285.0, 4851675.0), (747135.0, 4851015.0), (745305.0, 4842975.0), (744675.0, 4840215.0), (742125.0, 4829055.0), (741315.0, 4825515.0), (739995.0, 4819755.0), (738825.0, 4814655.0), (729945.0, 4775955.0), (705225.0, 4668735.0), (704685.0, 4666395.0), (704565.0, 4665915.0), (704535.0, 4665915.0)),)} </td></tr>\n                    \n                        <tr><td style=\"text-align: left;\"><strong>proj:bbox:</strong> [521085.0, 4664985.0, 751515.0, 4899315.0] </td></tr>\n                    \n                        <tr><td style=\"text-align: left;\"><strong>proj:centroid:</strong> {'lat': 43.183607660455536, 'lon': -1.3295876133318103} </td></tr>\n                    \n                        <tr><td style=\"text-align: left;\"><strong>proj:shape:</strong> [7811, 7681] </td></tr>\n                    \n                        <tr><td style=\"text-align: left;\"><strong>proj:transform:</strong> [30.0, 0.0, 521085.0, 0.0, -30.0, 4899315.0, 0.0, 0.0, 1.0] </td></tr>\n                    \n                        <tr><td style=\"text-align: left;\"><strong>view:sun_azimuth:</strong> 161.76832577 </td></tr>\n                    \n                        <tr><td style=\"text-align: left;\"><strong>view:sun_elevation:</strong> 68.76909132 </td></tr>\n                    \n                        <tr><td style=\"text-align: left;\"><strong>title:</strong> 20201220T104856_L8_200030_OLI_TIRS </td></tr>\n                    \n                        <tr><td style=\"text-align: left;\"><strong>created:</strong> 2023-05-31T11:47:34.966933Z </td></tr>\n                    \n                        <tr><td style=\"text-align: left;\"><strong>updated:</strong> 2023-05-31T11:47:34.966943Z </td></tr>\n                    \n                        <tr><td style=\"text-align: left;\"><strong>start_datetime:</strong> 2020-12-20T10:48:56Z </td></tr>\n                    \n                        <tr><td style=\"text-align: left;\"><strong>end_datetime:</strong> 2020-12-20T10:48:56Z </td></tr>\n                    \n                        <tr><td style=\"text-align: left;\"><strong>instruments:</strong> ['OLI-TIRS'] </td></tr>\n                    \n                        <tr><td style=\"text-align: left;\"><strong>constellation:</strong> landsat-8 </td></tr>\n                    \n                        <tr><td style=\"text-align: left;\"><strong>gsd:</strong> 30.0 </td></tr>\n                    \n                        <tr><td style=\"text-align: left;\"><strong>datetime:</strong> 2020-12-20T10:48:56Z </td></tr>\n                    \n                \n                \n            </table>\n            \n        <details>\n            <summary style=\"margin-bottom: 10px; margin-top: 10px;\">\n                <h4 style=\"margin-bottom: 0px; display: inline;\">STAC Extensions</h4>\n            </summary>\n            <table style=\"width: 100%; text-align: left;\">\n                \n                    <tr><td style=\"text-align: left;\"><a href=\"https://stac-extensions.github.io/eo/v1.0.0/schema.json\">https://stac-extensions.github.io/eo/v1.0.0/schema.json</a></td></tr>\n                \n                    <tr><td style=\"text-align: left;\"><a href=\"https://stac-extensions.github.io/projection/v1.1.0/schema.json\">https://stac-extensions.github.io/projection/v1.1.0/schema.json</a></td></tr>\n                \n                    <tr><td style=\"text-align: left;\"><a href=\"https://stac-extensions.github.io/view/v1.0.0/schema.json\">https://stac-extensions.github.io/view/v1.0.0/schema.json</a></td></tr>\n                \n            </table>\n        </details>\n    \n            \n        <details>\n            <summary style=\"margin-bottom: 10px; margin-top: 10px;\">\n                <h4 style=\"margin-bottom: 0px; display: inline;\">Assets</h4>\n            </summary>\n            \n                \n\n<div class=\"jp-RenderedHTMLCommon jp-RenderedHTML jp-mod-trusted jp-OutputArea-output\">\n    <div style=\"\n        width: 24px;\n        height: 24px;\n        background-color: #FED7E5;\n        border: 3px solid #FA4C8C;\n        border-radius: 5px;\n        position: absolute;\">\n    </div>\n    <div>\n        <details style=\"margin-left: 48px;\">\n            <summary style=\"margin-bottom: 20px;\">\n                <h3 style=\"margin-bottom: 0px; display: inline;\">Asset:  Coastal aerosol </h3>\n            </summary>\n            <table style=\"width: 100%; text-align: left;\">\n                <tr><td style=\"text-align: left;\"><strong>href:</strong> tar+file:///home/data/DATA/PRODS/LANDSATS_COL2/LC08_L1TP_200030_20201220_20210310_02_T1.tar!LC08_L1TP_200030_20201220_20210310_02_T1_B1.TIF </td></tr>\n                \n                    <tr><td style=\"text-align: left;\"><strong>type:</strong> image/tiff; application=geotiff </td></tr>\n                \n                \n                    <tr><td style=\"text-align: left;\"><strong>title:</strong> Coastal aerosol </td></tr>\n                \n                \n                    <tr><td style=\"text-align: left;\"><strong>description:</strong> Coastal and aerosol studies </td></tr>\n                \n                \n                    <tr><td style=\"text-align: left;\"><strong>roles:</strong> ['reflectance'] </td></tr>\n                \n                \n                    <tr><td style=\"text-align: left;\"><strong>owner:</strong> 20201220T104856_L8_200030_OLI_TIRS </td></tr>\n                \n                \n        \n            \n                <tr><td style=\"text-align: left;\"><strong>eoreader_name:</strong> COASTAL_AEROSOL </td></tr>\n            \n        \n            \n                <tr><td style=\"text-align: left;\"><strong>eo:bands:</strong> [{'name': 'Coastal aerosol', 'common_name': 'coastal', 'description': 'Coastal and aerosol studies', 'center_wavelength': 0.44, 'full_width_half_max': 0.02}] </td></tr>\n            \n        \n            \n                <tr><td style=\"text-align: left;\"><strong>created:</strong> 2023-05-31T11:47:34.965925Z </td></tr>\n            \n        \n            \n                <tr><td style=\"text-align: left;\"><strong>updated:</strong> 2023-05-31T11:47:34.965980Z </td></tr>\n            \n        \n            \n                <tr><td style=\"text-align: left;\"><strong>start_datetime:</strong> 2020-12-20T10:48:56Z </td></tr>\n            \n        \n            \n                <tr><td style=\"text-align: left;\"><strong>end_datetime:</strong> 2020-12-20T10:48:56Z </td></tr>\n            \n        \n            \n                <tr><td style=\"text-align: left;\"><strong>instruments:</strong> ['OLI-TIRS'] </td></tr>\n            \n        \n            \n                <tr><td style=\"text-align: left;\"><strong>constellation:</strong> landsat-8 </td></tr>\n            \n        \n            \n                <tr><td style=\"text-align: left;\"><strong>gsd:</strong> 30 </td></tr>\n            \n        \n    \n            </table>\n        </details>\n    </div>\n</div>\n            \n                \n\n<div class=\"jp-RenderedHTMLCommon jp-RenderedHTML jp-mod-trusted jp-OutputArea-output\">\n    <div style=\"\n        width: 24px;\n        height: 24px;\n        background-color: #FED7E5;\n        border: 3px solid #FA4C8C;\n        border-radius: 5px;\n        position: absolute;\">\n    </div>\n    <div>\n        <details style=\"margin-left: 48px;\">\n            <summary style=\"margin-bottom: 20px;\">\n                <h3 style=\"margin-bottom: 0px; display: inline;\">Asset:  Blue </h3>\n            </summary>\n            <table style=\"width: 100%; text-align: left;\">\n                <tr><td style=\"text-align: left;\"><strong>href:</strong> tar+file:///home/data/DATA/PRODS/LANDSATS_COL2/LC08_L1TP_200030_20201220_20210310_02_T1.tar!LC08_L1TP_200030_20201220_20210310_02_T1_B2.TIF </td></tr>\n                \n                    <tr><td style=\"text-align: left;\"><strong>type:</strong> image/tiff; application=geotiff </td></tr>\n                \n                \n                    <tr><td style=\"text-align: left;\"><strong>title:</strong> Blue </td></tr>\n                \n                \n                    <tr><td style=\"text-align: left;\"><strong>description:</strong> Bathymetric mapping, distinguishing soil from vegetation and deciduous from coniferous vegetation </td></tr>\n                \n                \n                    <tr><td style=\"text-align: left;\"><strong>roles:</strong> ['reflectance'] </td></tr>\n                \n                \n                    <tr><td style=\"text-align: left;\"><strong>owner:</strong> 20201220T104856_L8_200030_OLI_TIRS </td></tr>\n                \n                \n        \n            \n                <tr><td style=\"text-align: left;\"><strong>eoreader_name:</strong> BLUE </td></tr>\n            \n        \n            \n                <tr><td style=\"text-align: left;\"><strong>eo:bands:</strong> [{'name': 'Blue', 'common_name': 'blue', 'description': 'Bathymetric mapping, distinguishing soil from vegetation and deciduous from coniferous vegetation', 'center_wavelength': 0.48, 'full_width_half_max': 0.06}] </td></tr>\n            \n        \n            \n                <tr><td style=\"text-align: left;\"><strong>created:</strong> 2023-05-31T11:47:34.966111Z </td></tr>\n            \n        \n            \n                <tr><td style=\"text-align: left;\"><strong>updated:</strong> 2023-05-31T11:47:34.966126Z </td></tr>\n            \n        \n            \n                <tr><td style=\"text-align: left;\"><strong>start_datetime:</strong> 2020-12-20T10:48:56Z </td></tr>\n            \n        \n            \n                <tr><td style=\"text-align: left;\"><strong>end_datetime:</strong> 2020-12-20T10:48:56Z </td></tr>\n            \n        \n            \n                <tr><td style=\"text-align: left;\"><strong>instruments:</strong> ['OLI-TIRS'] </td></tr>\n            \n        \n            \n                <tr><td style=\"text-align: left;\"><strong>constellation:</strong> landsat-8 </td></tr>\n            \n        \n            \n                <tr><td style=\"text-align: left;\"><strong>gsd:</strong> 30 </td></tr>\n            \n        \n    \n            </table>\n        </details>\n    </div>\n</div>\n            \n                \n\n<div class=\"jp-RenderedHTMLCommon jp-RenderedHTML jp-mod-trusted jp-OutputArea-output\">\n    <div style=\"\n        width: 24px;\n        height: 24px;\n        background-color: #FED7E5;\n        border: 3px solid #FA4C8C;\n        border-radius: 5px;\n        position: absolute;\">\n    </div>\n    <div>\n        <details style=\"margin-left: 48px;\">\n            <summary style=\"margin-bottom: 20px;\">\n                <h3 style=\"margin-bottom: 0px; display: inline;\">Asset:  Green </h3>\n            </summary>\n            <table style=\"width: 100%; text-align: left;\">\n                <tr><td style=\"text-align: left;\"><strong>href:</strong> tar+file:///home/data/DATA/PRODS/LANDSATS_COL2/LC08_L1TP_200030_20201220_20210310_02_T1.tar!LC08_L1TP_200030_20201220_20210310_02_T1_B3.TIF </td></tr>\n                \n                    <tr><td style=\"text-align: left;\"><strong>type:</strong> image/tiff; application=geotiff </td></tr>\n                \n                \n                    <tr><td style=\"text-align: left;\"><strong>title:</strong> Green </td></tr>\n                \n                \n                    <tr><td style=\"text-align: left;\"><strong>description:</strong> Emphasizes peak vegetation, which is useful for assessing plant vigor </td></tr>\n                \n                \n                    <tr><td style=\"text-align: left;\"><strong>roles:</strong> ['reflectance'] </td></tr>\n                \n                \n                    <tr><td style=\"text-align: left;\"><strong>owner:</strong> 20201220T104856_L8_200030_OLI_TIRS </td></tr>\n                \n                \n        \n            \n                <tr><td style=\"text-align: left;\"><strong>eoreader_name:</strong> GREEN </td></tr>\n            \n        \n            \n                <tr><td style=\"text-align: left;\"><strong>eo:bands:</strong> [{'name': 'Green', 'common_name': 'green', 'description': 'Emphasizes peak vegetation, which is useful for assessing plant vigor', 'center_wavelength': 0.56, 'full_width_half_max': 0.06}] </td></tr>\n            \n        \n            \n                <tr><td style=\"text-align: left;\"><strong>created:</strong> 2023-05-31T11:47:34.966204Z </td></tr>\n            \n        \n            \n                <tr><td style=\"text-align: left;\"><strong>updated:</strong> 2023-05-31T11:47:34.966215Z </td></tr>\n            \n        \n            \n                <tr><td style=\"text-align: left;\"><strong>start_datetime:</strong> 2020-12-20T10:48:56Z </td></tr>\n            \n        \n            \n                <tr><td style=\"text-align: left;\"><strong>end_datetime:</strong> 2020-12-20T10:48:56Z </td></tr>\n            \n        \n            \n                <tr><td style=\"text-align: left;\"><strong>instruments:</strong> ['OLI-TIRS'] </td></tr>\n            \n        \n            \n                <tr><td style=\"text-align: left;\"><strong>constellation:</strong> landsat-8 </td></tr>\n            \n        \n            \n                <tr><td style=\"text-align: left;\"><strong>gsd:</strong> 30 </td></tr>\n            \n        \n    \n            </table>\n        </details>\n    </div>\n</div>\n            \n                \n\n<div class=\"jp-RenderedHTMLCommon jp-RenderedHTML jp-mod-trusted jp-OutputArea-output\">\n    <div style=\"\n        width: 24px;\n        height: 24px;\n        background-color: #FED7E5;\n        border: 3px solid #FA4C8C;\n        border-radius: 5px;\n        position: absolute;\">\n    </div>\n    <div>\n        <details style=\"margin-left: 48px;\">\n            <summary style=\"margin-bottom: 20px;\">\n                <h3 style=\"margin-bottom: 0px; display: inline;\">Asset:  Red </h3>\n            </summary>\n            <table style=\"width: 100%; text-align: left;\">\n                <tr><td style=\"text-align: left;\"><strong>href:</strong> tar+file:///home/data/DATA/PRODS/LANDSATS_COL2/LC08_L1TP_200030_20201220_20210310_02_T1.tar!LC08_L1TP_200030_20201220_20210310_02_T1_B4.TIF </td></tr>\n                \n                    <tr><td style=\"text-align: left;\"><strong>type:</strong> image/tiff; application=geotiff </td></tr>\n                \n                \n                    <tr><td style=\"text-align: left;\"><strong>title:</strong> Red </td></tr>\n                \n                \n                    <tr><td style=\"text-align: left;\"><strong>description:</strong> Discriminates vegetation slopes </td></tr>\n                \n                \n                    <tr><td style=\"text-align: left;\"><strong>roles:</strong> ['reflectance'] </td></tr>\n                \n                \n                    <tr><td style=\"text-align: left;\"><strong>owner:</strong> 20201220T104856_L8_200030_OLI_TIRS </td></tr>\n                \n                \n        \n            \n                <tr><td style=\"text-align: left;\"><strong>eoreader_name:</strong> RED </td></tr>\n            \n        \n            \n                <tr><td style=\"text-align: left;\"><strong>eo:bands:</strong> [{'name': 'Red', 'common_name': 'red', 'description': 'Discriminates vegetation slopes', 'center_wavelength': 0.655, 'full_width_half_max': 0.03}] </td></tr>\n            \n        \n            \n                <tr><td style=\"text-align: left;\"><strong>created:</strong> 2023-05-31T11:47:34.966278Z </td></tr>\n            \n        \n            \n                <tr><td style=\"text-align: left;\"><strong>updated:</strong> 2023-05-31T11:47:34.966290Z </td></tr>\n            \n        \n            \n                <tr><td style=\"text-align: left;\"><strong>start_datetime:</strong> 2020-12-20T10:48:56Z </td></tr>\n            \n        \n            \n                <tr><td style=\"text-align: left;\"><strong>end_datetime:</strong> 2020-12-20T10:48:56Z </td></tr>\n            \n        \n            \n                <tr><td style=\"text-align: left;\"><strong>instruments:</strong> ['OLI-TIRS'] </td></tr>\n            \n        \n            \n                <tr><td style=\"text-align: left;\"><strong>constellation:</strong> landsat-8 </td></tr>\n            \n        \n            \n                <tr><td style=\"text-align: left;\"><strong>gsd:</strong> 30 </td></tr>\n            \n        \n    \n            </table>\n        </details>\n    </div>\n</div>\n            \n                \n\n<div class=\"jp-RenderedHTMLCommon jp-RenderedHTML jp-mod-trusted jp-OutputArea-output\">\n    <div style=\"\n        width: 24px;\n        height: 24px;\n        background-color: #FED7E5;\n        border: 3px solid #FA4C8C;\n        border-radius: 5px;\n        position: absolute;\">\n    </div>\n    <div>\n        <details style=\"margin-left: 48px;\">\n            <summary style=\"margin-bottom: 20px;\">\n                <h3 style=\"margin-bottom: 0px; display: inline;\">Asset:  Near Infrared (NIR) </h3>\n            </summary>\n            <table style=\"width: 100%; text-align: left;\">\n                <tr><td style=\"text-align: left;\"><strong>href:</strong> tar+file:///home/data/DATA/PRODS/LANDSATS_COL2/LC08_L1TP_200030_20201220_20210310_02_T1.tar!LC08_L1TP_200030_20201220_20210310_02_T1_B5.TIF </td></tr>\n                \n                    <tr><td style=\"text-align: left;\"><strong>type:</strong> image/tiff; application=geotiff </td></tr>\n                \n                \n                    <tr><td style=\"text-align: left;\"><strong>title:</strong> Near Infrared (NIR) </td></tr>\n                \n                \n                    <tr><td style=\"text-align: left;\"><strong>description:</strong> Emphasizes biomass content and shorelines </td></tr>\n                \n                \n                    <tr><td style=\"text-align: left;\"><strong>roles:</strong> ['reflectance'] </td></tr>\n                \n                \n                    <tr><td style=\"text-align: left;\"><strong>owner:</strong> 20201220T104856_L8_200030_OLI_TIRS </td></tr>\n                \n                \n        \n            \n                <tr><td style=\"text-align: left;\"><strong>eoreader_name:</strong> NARROW_NIR </td></tr>\n            \n        \n            \n                <tr><td style=\"text-align: left;\"><strong>eo:bands:</strong> [{'name': 'Near Infrared (NIR)', 'common_name': 'nir08', 'description': 'Emphasizes biomass content and shorelines', 'center_wavelength': 0.865, 'full_width_half_max': 0.03}] </td></tr>\n            \n        \n            \n                <tr><td style=\"text-align: left;\"><strong>created:</strong> 2023-05-31T11:47:34.966381Z </td></tr>\n            \n        \n            \n                <tr><td style=\"text-align: left;\"><strong>updated:</strong> 2023-05-31T11:47:34.966388Z </td></tr>\n            \n        \n            \n                <tr><td style=\"text-align: left;\"><strong>start_datetime:</strong> 2020-12-20T10:48:56Z </td></tr>\n            \n        \n            \n                <tr><td style=\"text-align: left;\"><strong>end_datetime:</strong> 2020-12-20T10:48:56Z </td></tr>\n            \n        \n            \n                <tr><td style=\"text-align: left;\"><strong>instruments:</strong> ['OLI-TIRS'] </td></tr>\n            \n        \n            \n                <tr><td style=\"text-align: left;\"><strong>constellation:</strong> landsat-8 </td></tr>\n            \n        \n            \n                <tr><td style=\"text-align: left;\"><strong>gsd:</strong> 30 </td></tr>\n            \n        \n    \n            </table>\n        </details>\n    </div>\n</div>\n            \n                \n\n<div class=\"jp-RenderedHTMLCommon jp-RenderedHTML jp-mod-trusted jp-OutputArea-output\">\n    <div style=\"\n        width: 24px;\n        height: 24px;\n        background-color: #FED7E5;\n        border: 3px solid #FA4C8C;\n        border-radius: 5px;\n        position: absolute;\">\n    </div>\n    <div>\n        <details style=\"margin-left: 48px;\">\n            <summary style=\"margin-bottom: 20px;\">\n                <h3 style=\"margin-bottom: 0px; display: inline;\">Asset:  Cirrus </h3>\n            </summary>\n            <table style=\"width: 100%; text-align: left;\">\n                <tr><td style=\"text-align: left;\"><strong>href:</strong> tar+file:///home/data/DATA/PRODS/LANDSATS_COL2/LC08_L1TP_200030_20201220_20210310_02_T1.tar!LC08_L1TP_200030_20201220_20210310_02_T1_B9.TIF </td></tr>\n                \n                    <tr><td style=\"text-align: left;\"><strong>type:</strong> image/tiff; application=geotiff </td></tr>\n                \n                \n                    <tr><td style=\"text-align: left;\"><strong>title:</strong> Cirrus </td></tr>\n                \n                \n                    <tr><td style=\"text-align: left;\"><strong>description:</strong> Improved detection of cirrus cloud contamination </td></tr>\n                \n                \n                    <tr><td style=\"text-align: left;\"><strong>roles:</strong> ['reflectance'] </td></tr>\n                \n                \n                    <tr><td style=\"text-align: left;\"><strong>owner:</strong> 20201220T104856_L8_200030_OLI_TIRS </td></tr>\n                \n                \n        \n            \n                <tr><td style=\"text-align: left;\"><strong>eoreader_name:</strong> CIRRUS </td></tr>\n            \n        \n            \n                <tr><td style=\"text-align: left;\"><strong>eo:bands:</strong> [{'name': 'Cirrus', 'common_name': 'cirrus', 'description': 'Improved detection of cirrus cloud contamination', 'center_wavelength': 1.37, 'full_width_half_max': 0.02}] </td></tr>\n            \n        \n            \n                <tr><td style=\"text-align: left;\"><strong>created:</strong> 2023-05-31T11:47:34.966427Z </td></tr>\n            \n        \n            \n                <tr><td style=\"text-align: left;\"><strong>updated:</strong> 2023-05-31T11:47:34.966433Z </td></tr>\n            \n        \n            \n                <tr><td style=\"text-align: left;\"><strong>start_datetime:</strong> 2020-12-20T10:48:56Z </td></tr>\n            \n        \n            \n                <tr><td style=\"text-align: left;\"><strong>end_datetime:</strong> 2020-12-20T10:48:56Z </td></tr>\n            \n        \n            \n                <tr><td style=\"text-align: left;\"><strong>instruments:</strong> ['OLI-TIRS'] </td></tr>\n            \n        \n            \n                <tr><td style=\"text-align: left;\"><strong>constellation:</strong> landsat-8 </td></tr>\n            \n        \n            \n                <tr><td style=\"text-align: left;\"><strong>gsd:</strong> 30 </td></tr>\n            \n        \n    \n            </table>\n        </details>\n    </div>\n</div>\n            \n                \n\n<div class=\"jp-RenderedHTMLCommon jp-RenderedHTML jp-mod-trusted jp-OutputArea-output\">\n    <div style=\"\n        width: 24px;\n        height: 24px;\n        background-color: #FED7E5;\n        border: 3px solid #FA4C8C;\n        border-radius: 5px;\n        position: absolute;\">\n    </div>\n    <div>\n        <details style=\"margin-left: 48px;\">\n            <summary style=\"margin-bottom: 20px;\">\n                <h3 style=\"margin-bottom: 0px; display: inline;\">Asset:  SWIR 1 </h3>\n            </summary>\n            <table style=\"width: 100%; text-align: left;\">\n                <tr><td style=\"text-align: left;\"><strong>href:</strong> tar+file:///home/data/DATA/PRODS/LANDSATS_COL2/LC08_L1TP_200030_20201220_20210310_02_T1.tar!LC08_L1TP_200030_20201220_20210310_02_T1_B6.TIF </td></tr>\n                \n                    <tr><td style=\"text-align: left;\"><strong>type:</strong> image/tiff; application=geotiff </td></tr>\n                \n                \n                    <tr><td style=\"text-align: left;\"><strong>title:</strong> SWIR 1 </td></tr>\n                \n                \n                    <tr><td style=\"text-align: left;\"><strong>description:</strong> Discriminates moisture content of soil and vegetation; penetrates thin clouds </td></tr>\n                \n                \n                    <tr><td style=\"text-align: left;\"><strong>roles:</strong> ['reflectance'] </td></tr>\n                \n                \n                    <tr><td style=\"text-align: left;\"><strong>owner:</strong> 20201220T104856_L8_200030_OLI_TIRS </td></tr>\n                \n                \n        \n            \n                <tr><td style=\"text-align: left;\"><strong>eoreader_name:</strong> SWIR_1 </td></tr>\n            \n        \n            \n                <tr><td style=\"text-align: left;\"><strong>eo:bands:</strong> [{'name': 'SWIR 1', 'common_name': 'swir16', 'description': 'Discriminates moisture content of soil and vegetation; penetrates thin clouds', 'center_wavelength': 1.61, 'full_width_half_max': 0.08}] </td></tr>\n            \n        \n            \n                <tr><td style=\"text-align: left;\"><strong>created:</strong> 2023-05-31T11:47:34.966473Z </td></tr>\n            \n        \n            \n                <tr><td style=\"text-align: left;\"><strong>updated:</strong> 2023-05-31T11:47:34.966479Z </td></tr>\n            \n        \n            \n                <tr><td style=\"text-align: left;\"><strong>start_datetime:</strong> 2020-12-20T10:48:56Z </td></tr>\n            \n        \n            \n                <tr><td style=\"text-align: left;\"><strong>end_datetime:</strong> 2020-12-20T10:48:56Z </td></tr>\n            \n        \n            \n                <tr><td style=\"text-align: left;\"><strong>instruments:</strong> ['OLI-TIRS'] </td></tr>\n            \n        \n            \n                <tr><td style=\"text-align: left;\"><strong>constellation:</strong> landsat-8 </td></tr>\n            \n        \n            \n                <tr><td style=\"text-align: left;\"><strong>gsd:</strong> 30 </td></tr>\n            \n        \n    \n            </table>\n        </details>\n    </div>\n</div>\n            \n                \n\n<div class=\"jp-RenderedHTMLCommon jp-RenderedHTML jp-mod-trusted jp-OutputArea-output\">\n    <div style=\"\n        width: 24px;\n        height: 24px;\n        background-color: #FED7E5;\n        border: 3px solid #FA4C8C;\n        border-radius: 5px;\n        position: absolute;\">\n    </div>\n    <div>\n        <details style=\"margin-left: 48px;\">\n            <summary style=\"margin-bottom: 20px;\">\n                <h3 style=\"margin-bottom: 0px; display: inline;\">Asset:  SWIR 2 </h3>\n            </summary>\n            <table style=\"width: 100%; text-align: left;\">\n                <tr><td style=\"text-align: left;\"><strong>href:</strong> tar+file:///home/data/DATA/PRODS/LANDSATS_COL2/LC08_L1TP_200030_20201220_20210310_02_T1.tar!LC08_L1TP_200030_20201220_20210310_02_T1_B7.TIF </td></tr>\n                \n                    <tr><td style=\"text-align: left;\"><strong>type:</strong> image/tiff; application=geotiff </td></tr>\n                \n                \n                    <tr><td style=\"text-align: left;\"><strong>title:</strong> SWIR 2 </td></tr>\n                \n                \n                    <tr><td style=\"text-align: left;\"><strong>description:</strong> Improved moisture content of soil and vegetation; penetrates thin clouds </td></tr>\n                \n                \n                    <tr><td style=\"text-align: left;\"><strong>roles:</strong> ['reflectance'] </td></tr>\n                \n                \n                    <tr><td style=\"text-align: left;\"><strong>owner:</strong> 20201220T104856_L8_200030_OLI_TIRS </td></tr>\n                \n                \n        \n            \n                <tr><td style=\"text-align: left;\"><strong>eoreader_name:</strong> SWIR_2 </td></tr>\n            \n        \n            \n                <tr><td style=\"text-align: left;\"><strong>eo:bands:</strong> [{'name': 'SWIR 2', 'common_name': 'swir22', 'description': 'Improved moisture content of soil and vegetation; penetrates thin clouds', 'center_wavelength': 2.2, 'full_width_half_max': 0.18}] </td></tr>\n            \n        \n            \n                <tr><td style=\"text-align: left;\"><strong>created:</strong> 2023-05-31T11:47:34.966521Z </td></tr>\n            \n        \n            \n                <tr><td style=\"text-align: left;\"><strong>updated:</strong> 2023-05-31T11:47:34.966530Z </td></tr>\n            \n        \n            \n                <tr><td style=\"text-align: left;\"><strong>start_datetime:</strong> 2020-12-20T10:48:56Z </td></tr>\n            \n        \n            \n                <tr><td style=\"text-align: left;\"><strong>end_datetime:</strong> 2020-12-20T10:48:56Z </td></tr>\n            \n        \n            \n                <tr><td style=\"text-align: left;\"><strong>instruments:</strong> ['OLI-TIRS'] </td></tr>\n            \n        \n            \n                <tr><td style=\"text-align: left;\"><strong>constellation:</strong> landsat-8 </td></tr>\n            \n        \n            \n                <tr><td style=\"text-align: left;\"><strong>gsd:</strong> 30 </td></tr>\n            \n        \n    \n            </table>\n        </details>\n    </div>\n</div>\n            \n                \n\n<div class=\"jp-RenderedHTMLCommon jp-RenderedHTML jp-mod-trusted jp-OutputArea-output\">\n    <div style=\"\n        width: 24px;\n        height: 24px;\n        background-color: #FED7E5;\n        border: 3px solid #FA4C8C;\n        border-radius: 5px;\n        position: absolute;\">\n    </div>\n    <div>\n        <details style=\"margin-left: 48px;\">\n            <summary style=\"margin-bottom: 20px;\">\n                <h3 style=\"margin-bottom: 0px; display: inline;\">Asset:  Thermal Infrared (TIRS) 1 </h3>\n            </summary>\n            <table style=\"width: 100%; text-align: left;\">\n                <tr><td style=\"text-align: left;\"><strong>href:</strong> tar+file:///home/data/DATA/PRODS/LANDSATS_COL2/LC08_L1TP_200030_20201220_20210310_02_T1.tar!LC08_L1TP_200030_20201220_20210310_02_T1_B10.TIF </td></tr>\n                \n                    <tr><td style=\"text-align: left;\"><strong>type:</strong> image/tiff; application=geotiff </td></tr>\n                \n                \n                    <tr><td style=\"text-align: left;\"><strong>title:</strong> Thermal Infrared (TIRS) 1 </td></tr>\n                \n                \n                    <tr><td style=\"text-align: left;\"><strong>description:</strong> 100 meter resolution, thermal mapping and estimated soil moisture </td></tr>\n                \n                \n                    <tr><td style=\"text-align: left;\"><strong>roles:</strong> ['brightness_temperature'] </td></tr>\n                \n                \n                    <tr><td style=\"text-align: left;\"><strong>owner:</strong> 20201220T104856_L8_200030_OLI_TIRS </td></tr>\n                \n                \n        \n            \n                <tr><td style=\"text-align: left;\"><strong>eoreader_name:</strong> THERMAL_IR_1 </td></tr>\n            \n        \n            \n                <tr><td style=\"text-align: left;\"><strong>eo:bands:</strong> [{'name': 'Thermal Infrared (TIRS) 1', 'common_name': 'lwir11', 'description': '100 meter resolution, thermal mapping and estimated soil moisture', 'center_wavelength': 10.895, 'full_width_half_max': 0.59}] </td></tr>\n            \n        \n            \n                <tr><td style=\"text-align: left;\"><strong>created:</strong> 2023-05-31T11:47:34.966593Z </td></tr>\n            \n        \n            \n                <tr><td style=\"text-align: left;\"><strong>updated:</strong> 2023-05-31T11:47:34.966601Z </td></tr>\n            \n        \n            \n                <tr><td style=\"text-align: left;\"><strong>start_datetime:</strong> 2020-12-20T10:48:56Z </td></tr>\n            \n        \n            \n                <tr><td style=\"text-align: left;\"><strong>end_datetime:</strong> 2020-12-20T10:48:56Z </td></tr>\n            \n        \n            \n                <tr><td style=\"text-align: left;\"><strong>instruments:</strong> ['OLI-TIRS'] </td></tr>\n            \n        \n            \n                <tr><td style=\"text-align: left;\"><strong>constellation:</strong> landsat-8 </td></tr>\n            \n        \n            \n                <tr><td style=\"text-align: left;\"><strong>gsd:</strong> 100 </td></tr>\n            \n        \n    \n            </table>\n        </details>\n    </div>\n</div>\n            \n                \n\n<div class=\"jp-RenderedHTMLCommon jp-RenderedHTML jp-mod-trusted jp-OutputArea-output\">\n    <div style=\"\n        width: 24px;\n        height: 24px;\n        background-color: #FED7E5;\n        border: 3px solid #FA4C8C;\n        border-radius: 5px;\n        position: absolute;\">\n    </div>\n    <div>\n        <details style=\"margin-left: 48px;\">\n            <summary style=\"margin-bottom: 20px;\">\n                <h3 style=\"margin-bottom: 0px; display: inline;\">Asset:  Thermal Infrared (TIRS) 2 </h3>\n            </summary>\n            <table style=\"width: 100%; text-align: left;\">\n                <tr><td style=\"text-align: left;\"><strong>href:</strong> tar+file:///home/data/DATA/PRODS/LANDSATS_COL2/LC08_L1TP_200030_20201220_20210310_02_T1.tar!LC08_L1TP_200030_20201220_20210310_02_T1_B11.TIF </td></tr>\n                \n                    <tr><td style=\"text-align: left;\"><strong>type:</strong> image/tiff; application=geotiff </td></tr>\n                \n                \n                    <tr><td style=\"text-align: left;\"><strong>title:</strong> Thermal Infrared (TIRS) 2 </td></tr>\n                \n                \n                    <tr><td style=\"text-align: left;\"><strong>description:</strong> 100 meter resolution, improved thermal mapping and estimated soil moisture </td></tr>\n                \n                \n                    <tr><td style=\"text-align: left;\"><strong>roles:</strong> ['brightness_temperature'] </td></tr>\n                \n                \n                    <tr><td style=\"text-align: left;\"><strong>owner:</strong> 20201220T104856_L8_200030_OLI_TIRS </td></tr>\n                \n                \n        \n            \n                <tr><td style=\"text-align: left;\"><strong>eoreader_name:</strong> THERMAL_IR_2 </td></tr>\n            \n        \n            \n                <tr><td style=\"text-align: left;\"><strong>eo:bands:</strong> [{'name': 'Thermal Infrared (TIRS) 2', 'common_name': 'lwir12', 'description': '100 meter resolution, improved thermal mapping and estimated soil moisture', 'center_wavelength': 12.005, 'full_width_half_max': 1.01}] </td></tr>\n            \n        \n            \n                <tr><td style=\"text-align: left;\"><strong>created:</strong> 2023-05-31T11:47:34.966640Z </td></tr>\n            \n        \n            \n                <tr><td style=\"text-align: left;\"><strong>updated:</strong> 2023-05-31T11:47:34.966647Z </td></tr>\n            \n        \n            \n                <tr><td style=\"text-align: left;\"><strong>start_datetime:</strong> 2020-12-20T10:48:56Z </td></tr>\n            \n        \n            \n                <tr><td style=\"text-align: left;\"><strong>end_datetime:</strong> 2020-12-20T10:48:56Z </td></tr>\n            \n        \n            \n                <tr><td style=\"text-align: left;\"><strong>instruments:</strong> ['OLI-TIRS'] </td></tr>\n            \n        \n            \n                <tr><td style=\"text-align: left;\"><strong>constellation:</strong> landsat-8 </td></tr>\n            \n        \n            \n                <tr><td style=\"text-align: left;\"><strong>gsd:</strong> 100 </td></tr>\n            \n        \n    \n            </table>\n        </details>\n    </div>\n</div>\n            \n                \n\n<div class=\"jp-RenderedHTMLCommon jp-RenderedHTML jp-mod-trusted jp-OutputArea-output\">\n    <div style=\"\n        width: 24px;\n        height: 24px;\n        background-color: #FED7E5;\n        border: 3px solid #FA4C8C;\n        border-radius: 5px;\n        position: absolute;\">\n    </div>\n    <div>\n        <details style=\"margin-left: 48px;\">\n            <summary style=\"margin-bottom: 20px;\">\n                <h3 style=\"margin-bottom: 0px; display: inline;\">Asset:  Panchromatic </h3>\n            </summary>\n            <table style=\"width: 100%; text-align: left;\">\n                <tr><td style=\"text-align: left;\"><strong>href:</strong> tar+file:///home/data/DATA/PRODS/LANDSATS_COL2/LC08_L1TP_200030_20201220_20210310_02_T1.tar!LC08_L1TP_200030_20201220_20210310_02_T1_B8.TIF </td></tr>\n                \n                    <tr><td style=\"text-align: left;\"><strong>type:</strong> image/tiff; application=geotiff </td></tr>\n                \n                \n                    <tr><td style=\"text-align: left;\"><strong>title:</strong> Panchromatic </td></tr>\n                \n                \n                    <tr><td style=\"text-align: left;\"><strong>description:</strong> 15 meter resolution, sharper image definition </td></tr>\n                \n                \n                    <tr><td style=\"text-align: left;\"><strong>roles:</strong> ['reflectance'] </td></tr>\n                \n                \n                    <tr><td style=\"text-align: left;\"><strong>owner:</strong> 20201220T104856_L8_200030_OLI_TIRS </td></tr>\n                \n                \n        \n            \n                <tr><td style=\"text-align: left;\"><strong>eoreader_name:</strong> PANCHROMATIC </td></tr>\n            \n        \n            \n                <tr><td style=\"text-align: left;\"><strong>eo:bands:</strong> [{'name': 'Panchromatic', 'common_name': 'pan', 'description': '15 meter resolution, sharper image definition', 'center_wavelength': 0.59, 'full_width_half_max': 0.18}] </td></tr>\n            \n        \n            \n                <tr><td style=\"text-align: left;\"><strong>created:</strong> 2023-05-31T11:47:34.966691Z </td></tr>\n            \n        \n            \n                <tr><td style=\"text-align: left;\"><strong>updated:</strong> 2023-05-31T11:47:34.966698Z </td></tr>\n            \n        \n            \n                <tr><td style=\"text-align: left;\"><strong>start_datetime:</strong> 2020-12-20T10:48:56Z </td></tr>\n            \n        \n            \n                <tr><td style=\"text-align: left;\"><strong>end_datetime:</strong> 2020-12-20T10:48:56Z </td></tr>\n            \n        \n            \n                <tr><td style=\"text-align: left;\"><strong>instruments:</strong> ['OLI-TIRS'] </td></tr>\n            \n        \n            \n                <tr><td style=\"text-align: left;\"><strong>constellation:</strong> landsat-8 </td></tr>\n            \n        \n            \n                <tr><td style=\"text-align: left;\"><strong>gsd:</strong> 30 </td></tr>\n            \n        \n    \n            </table>\n        </details>\n    </div>\n</div>\n            \n        </details>\n    \n            \n        <details>\n            <summary style=\"margin-bottom: 10px; margin-top: 10px\">\n                <h4 style=\"margin-bottom: 0px; display: inline;\">Links</h4>\n            </summary>\n            \n                \n\n<div class=\"jp-RenderedHTMLCommon jp-RenderedHTML jp-mod-trusted jp-OutputArea-output\">\n    <div style=\"\n        width: 24px;\n        height: 24px;\n        background-color: #FFF7E5;\n        border: 3px solid #FF6132;\n        border-radius: 5px;\n        position: absolute;\">\n    </div>\n    <div style=\"margin-left: 48px;\">\n        <h4 style=\"margin-bottom: 0px;\">Link:  SERTIT Catalog </h4>\n        <table style=\"width: 100%; text-align: left;\">\n            <tr><td style=\"text-align: left;\"><strong>rel:</strong> root </td></tr>\n            <tr><td style=\"text-align: left;\"><strong>href:</strong> /tmp/tmpgyucfjoj/catalog.json </td></tr>\n            \n                <tr><td style=\"text-align: left;\"><strong>type:</strong> application/json </td></tr>\n            \n            \n                <tr><td style=\"text-align: left;\"><strong>title:</strong> SERTIT Catalog </td></tr>\n            \n            \n        </table>\n        \n    </div>\n</div>\n            \n                \n\n<div class=\"jp-RenderedHTMLCommon jp-RenderedHTML jp-mod-trusted jp-OutputArea-output\">\n    <div style=\"\n        width: 24px;\n        height: 24px;\n        background-color: #FFF7E5;\n        border: 3px solid #FF6132;\n        border-radius: 5px;\n        position: absolute;\">\n    </div>\n    <div style=\"margin-left: 48px;\">\n        <h4 style=\"margin-bottom: 0px;\">Link: </h4>\n        <table style=\"width: 100%; text-align: left;\">\n            <tr><td style=\"text-align: left;\"><strong>rel:</strong> self </td></tr>\n            <tr><td style=\"text-align: left;\"><strong>href:</strong> /tmp/tmpgyucfjoj/20201220T104856_L8_200030_OLI_TIRS/20201220T104856_L8_200030_OLI_TIRS.json </td></tr>\n            \n                <tr><td style=\"text-align: left;\"><strong>type:</strong> application/json </td></tr>\n            \n            \n            \n        </table>\n        \n    </div>\n</div>\n            \n                \n\n<div class=\"jp-RenderedHTMLCommon jp-RenderedHTML jp-mod-trusted jp-OutputArea-output\">\n    <div style=\"\n        width: 24px;\n        height: 24px;\n        background-color: #FFF7E5;\n        border: 3px solid #FF6132;\n        border-radius: 5px;\n        position: absolute;\">\n    </div>\n    <div style=\"margin-left: 48px;\">\n        <h4 style=\"margin-bottom: 0px;\">Link:  SERTIT Catalog </h4>\n        <table style=\"width: 100%; text-align: left;\">\n            <tr><td style=\"text-align: left;\"><strong>rel:</strong> parent </td></tr>\n            <tr><td style=\"text-align: left;\"><strong>href:</strong> /tmp/tmpgyucfjoj/catalog.json </td></tr>\n            \n                <tr><td style=\"text-align: left;\"><strong>type:</strong> application/json </td></tr>\n            \n            \n                <tr><td style=\"text-align: left;\"><strong>title:</strong> SERTIT Catalog </td></tr>\n            \n            \n        </table>\n        \n    </div>\n</div>\n            \n        </details>\n    \n        </details>\n    </div>\n</div>"
     },
     "execution_count": 8,
     "metadata": {},
     "output_type": "execute_result"
    }
   ],
   "source": [
    "list(catalog.get_items())[0]"
   ],
   "metadata": {
    "collapsed": false,
    "ExecuteTime": {
     "start_time": "2023-05-31T13:47:55.846264Z",
     "end_time": "2023-05-31T13:47:56.293385Z"
    }
   }
  },
  {
   "cell_type": "markdown",
   "id": "82087c67",
   "metadata": {},
   "source": [
    "# Query the catalog\n",
    "\n",
    "`EODAG` is an opensource python library that implements STAC and allows you to query your local STAC catalog.  \n",
    "Look at [here](https://eodag.readthedocs.io/en/stable/notebooks/tutos/tuto_stac_client.html) for a detailed tutorial."
   ]
  },
  {
   "cell_type": "code",
   "execution_count": 9,
   "id": "06c820bf",
   "metadata": {
    "scrolled": true,
    "ExecuteTime": {
     "start_time": "2023-05-31T13:47:56.287161Z",
     "end_time": "2023-05-31T13:47:58.500136Z"
    }
   },
   "outputs": [],
   "source": [
    "# Create an EODAG custom STAC provider\n",
    "dag = EODataAccessGateway()\n",
    "\n",
    "# Set EODAG logging level to WARNING\n",
    "setup_logging(verbose=1)\n",
    "\n",
    "# Add the custom STAC provider, exactly like in the tutorial mentioned above\n",
    "dag.update_providers_config(\"\"\"\n",
    "stac_http_provider:\n",
    "    search:\n",
    "        type: StaticStacSearch\n",
    "        api_endpoint: %s\n",
    "    products:\n",
    "        GENERIC_PRODUCT_TYPE:\n",
    "            productType: '{productType}'\n",
    "    download:\n",
    "        type: HTTPDownload\n",
    "        base_uri: %s\n",
    "        flatten_top_dirs: True\n",
    "        outputs_prefix: %s\n",
    "\"\"\" % (catalog_path, tmp.name, tmp.name))\n",
    "\n",
    "# Set the custom STAC provider as preferred\n",
    "dag.set_preferred_provider(\"stac_http_provider\")"
   ]
  },
  {
   "cell_type": "code",
   "execution_count": 10,
   "id": "eba4756e",
   "metadata": {
    "scrolled": true
   },
   "outputs": [
    {
     "ename": "UnsupportedProvider",
     "evalue": "",
     "output_type": "error",
     "traceback": [
      "\u001B[0;31m---------------------------------------------------------------------------\u001B[0m",
      "\u001B[0;31mKeyError\u001B[0m                                  Traceback (most recent call last)",
      "File \u001B[0;32m/opt/conda/lib/python3.10/site-packages/eodag/plugins/manager.py:156\u001B[0m, in \u001B[0;36mPluginManager.get_search_plugins\u001B[0;34m(self, product_type, provider)\u001B[0m\n\u001B[1;32m    155\u001B[0m \u001B[38;5;28;01mtry\u001B[39;00m:\n\u001B[0;32m--> 156\u001B[0m     config \u001B[38;5;241m=\u001B[39m \u001B[38;5;28;43mself\u001B[39;49m\u001B[38;5;241;43m.\u001B[39;49m\u001B[43mproviders_config\u001B[49m\u001B[43m[\u001B[49m\u001B[43mprovider\u001B[49m\u001B[43m]\u001B[49m\n\u001B[1;32m    157\u001B[0m \u001B[38;5;28;01mexcept\u001B[39;00m \u001B[38;5;167;01mKeyError\u001B[39;00m:\n",
      "\u001B[0;31mKeyError\u001B[0m: 'stac_http_provider'",
      "\nDuring handling of the above exception, another exception occurred:\n",
      "\u001B[0;31mUnsupportedProvider\u001B[0m                       Traceback (most recent call last)",
      "Cell \u001B[0;32mIn[10], line 2\u001B[0m\n\u001B[1;32m      1\u001B[0m \u001B[38;5;66;03m# Query every product from inside the catalog\u001B[39;00m\n\u001B[0;32m----> 2\u001B[0m all_products, _ \u001B[38;5;241m=\u001B[39m \u001B[43mdag\u001B[49m\u001B[38;5;241;43m.\u001B[39;49m\u001B[43msearch\u001B[49m\u001B[43m(\u001B[49m\u001B[43m)\u001B[49m\n",
      "File \u001B[0;32m/opt/conda/lib/python3.10/site-packages/eodag/api/core.py:887\u001B[0m, in \u001B[0;36mEODataAccessGateway.search\u001B[0;34m(self, page, items_per_page, raise_errors, start, end, geom, locations, **kwargs)\u001B[0m\n\u001B[1;32m    825\u001B[0m \u001B[38;5;28;01mdef\u001B[39;00m \u001B[38;5;21msearch\u001B[39m(\n\u001B[1;32m    826\u001B[0m     \u001B[38;5;28mself\u001B[39m,\n\u001B[1;32m    827\u001B[0m     page\u001B[38;5;241m=\u001B[39mDEFAULT_PAGE,\n\u001B[0;32m   (...)\u001B[0m\n\u001B[1;32m    834\u001B[0m     \u001B[38;5;241m*\u001B[39m\u001B[38;5;241m*\u001B[39mkwargs,\n\u001B[1;32m    835\u001B[0m ):\n\u001B[1;32m    836\u001B[0m \u001B[38;5;250m    \u001B[39m\u001B[38;5;124;03m\"\"\"Look for products matching criteria on known providers.\u001B[39;00m\n\u001B[1;32m    837\u001B[0m \n\u001B[1;32m    838\u001B[0m \u001B[38;5;124;03m    The default behaviour is to look for products on the provider with the\u001B[39;00m\n\u001B[0;32m   (...)\u001B[0m\n\u001B[1;32m    885\u001B[0m \u001B[38;5;124;03m        enforced here.\u001B[39;00m\n\u001B[1;32m    886\u001B[0m \u001B[38;5;124;03m    \"\"\"\u001B[39;00m\n\u001B[0;32m--> 887\u001B[0m     search_kwargs \u001B[38;5;241m=\u001B[39m \u001B[38;5;28;43mself\u001B[39;49m\u001B[38;5;241;43m.\u001B[39;49m\u001B[43m_prepare_search\u001B[49m\u001B[43m(\u001B[49m\n\u001B[1;32m    888\u001B[0m \u001B[43m        \u001B[49m\u001B[43mstart\u001B[49m\u001B[38;5;241;43m=\u001B[39;49m\u001B[43mstart\u001B[49m\u001B[43m,\u001B[49m\u001B[43m \u001B[49m\u001B[43mend\u001B[49m\u001B[38;5;241;43m=\u001B[39;49m\u001B[43mend\u001B[49m\u001B[43m,\u001B[49m\u001B[43m \u001B[49m\u001B[43mgeom\u001B[49m\u001B[38;5;241;43m=\u001B[39;49m\u001B[43mgeom\u001B[49m\u001B[43m,\u001B[49m\u001B[43m \u001B[49m\u001B[43mlocations\u001B[49m\u001B[38;5;241;43m=\u001B[39;49m\u001B[43mlocations\u001B[49m\u001B[43m,\u001B[49m\u001B[43m \u001B[49m\u001B[38;5;241;43m*\u001B[39;49m\u001B[38;5;241;43m*\u001B[39;49m\u001B[43mkwargs\u001B[49m\n\u001B[1;32m    889\u001B[0m \u001B[43m    \u001B[49m\u001B[43m)\u001B[49m\n\u001B[1;32m    890\u001B[0m     search_plugin \u001B[38;5;241m=\u001B[39m search_kwargs\u001B[38;5;241m.\u001B[39mpop(\u001B[38;5;124m\"\u001B[39m\u001B[38;5;124msearch_plugin\u001B[39m\u001B[38;5;124m\"\u001B[39m, \u001B[38;5;28;01mNone\u001B[39;00m)\n\u001B[1;32m    891\u001B[0m     \u001B[38;5;28;01mif\u001B[39;00m search_kwargs\u001B[38;5;241m.\u001B[39mget(\u001B[38;5;124m\"\u001B[39m\u001B[38;5;124mid\u001B[39m\u001B[38;5;124m\"\u001B[39m):\n\u001B[1;32m    892\u001B[0m         \u001B[38;5;66;03m# adds minimal pagination to be able to check only 1 product is returned\u001B[39;00m\n",
      "File \u001B[0;32m/opt/conda/lib/python3.10/site-packages/eodag/api/core.py:1306\u001B[0m, in \u001B[0;36mEODataAccessGateway._prepare_search\u001B[0;34m(self, start, end, geom, locations, **kwargs)\u001B[0m\n\u001B[1;32m   1299\u001B[0m \u001B[38;5;28;01mif\u001B[39;00m (\n\u001B[1;32m   1300\u001B[0m     product_type\n\u001B[1;32m   1301\u001B[0m     \u001B[38;5;129;01mnot\u001B[39;00m \u001B[38;5;129;01min\u001B[39;00m \u001B[38;5;28mself\u001B[39m\u001B[38;5;241m.\u001B[39m_plugins_manager\u001B[38;5;241m.\u001B[39mproduct_type_to_provider_config_map\u001B[38;5;241m.\u001B[39mkeys()\n\u001B[1;32m   1302\u001B[0m ):\n\u001B[1;32m   1303\u001B[0m     logger\u001B[38;5;241m.\u001B[39mdebug(\n\u001B[1;32m   1304\u001B[0m         \u001B[38;5;124mf\u001B[39m\u001B[38;5;124m\"\u001B[39m\u001B[38;5;124mFetching external product types sources to find \u001B[39m\u001B[38;5;132;01m{\u001B[39;00mproduct_type\u001B[38;5;132;01m}\u001B[39;00m\u001B[38;5;124m product type\u001B[39m\u001B[38;5;124m\"\u001B[39m\n\u001B[1;32m   1305\u001B[0m     )\n\u001B[0;32m-> 1306\u001B[0m     \u001B[38;5;28;43mself\u001B[39;49m\u001B[38;5;241;43m.\u001B[39;49m\u001B[43mfetch_product_types_list\u001B[49m\u001B[43m(\u001B[49m\u001B[43m)\u001B[49m\n\u001B[1;32m   1308\u001B[0m search_plugin \u001B[38;5;241m=\u001B[39m \u001B[38;5;28mnext\u001B[39m(\n\u001B[1;32m   1309\u001B[0m     \u001B[38;5;28mself\u001B[39m\u001B[38;5;241m.\u001B[39m_plugins_manager\u001B[38;5;241m.\u001B[39mget_search_plugins(product_type\u001B[38;5;241m=\u001B[39mproduct_type)\n\u001B[1;32m   1310\u001B[0m )\n\u001B[1;32m   1311\u001B[0m \u001B[38;5;28;01mif\u001B[39;00m search_plugin\u001B[38;5;241m.\u001B[39mprovider \u001B[38;5;241m!=\u001B[39m \u001B[38;5;28mself\u001B[39m\u001B[38;5;241m.\u001B[39mget_preferred_provider()[\u001B[38;5;241m0\u001B[39m]:\n",
      "File \u001B[0;32m/opt/conda/lib/python3.10/site-packages/eodag/api/core.py:613\u001B[0m, in \u001B[0;36mEODataAccessGateway.fetch_product_types_list\u001B[0;34m(self, provider)\u001B[0m\n\u001B[1;32m    608\u001B[0m         \u001B[38;5;28;01mcontinue\u001B[39;00m\n\u001B[1;32m    609\u001B[0m     \u001B[38;5;66;03m# providers not skipped here should be user-modified\u001B[39;00m\n\u001B[1;32m    610\u001B[0m     \u001B[38;5;66;03m# or not in ext_product_types_conf (if eodag system conf != eodag conf used for ext_product_types_conf)\u001B[39;00m\n\u001B[1;32m    611\u001B[0m \n\u001B[1;32m    612\u001B[0m \u001B[38;5;66;03m# discover product types for user configured provider\u001B[39;00m\n\u001B[0;32m--> 613\u001B[0m provider_ext_product_types_conf \u001B[38;5;241m=\u001B[39m \u001B[38;5;28;43mself\u001B[39;49m\u001B[38;5;241;43m.\u001B[39;49m\u001B[43mdiscover_product_types\u001B[49m\u001B[43m(\u001B[49m\n\u001B[1;32m    614\u001B[0m \u001B[43m    \u001B[49m\u001B[43mprovider\u001B[49m\u001B[38;5;241;43m=\u001B[39;49m\u001B[43mprovider\u001B[49m\n\u001B[1;32m    615\u001B[0m \u001B[43m\u001B[49m\u001B[43m)\u001B[49m\n\u001B[1;32m    617\u001B[0m \u001B[38;5;66;03m# update eodag product types list with new conf\u001B[39;00m\n\u001B[1;32m    618\u001B[0m \u001B[38;5;28mself\u001B[39m\u001B[38;5;241m.\u001B[39mupdate_product_types_list(provider_ext_product_types_conf)\n",
      "File \u001B[0;32m/opt/conda/lib/python3.10/site-packages/eodag/api/core.py:648\u001B[0m, in \u001B[0;36mEODataAccessGateway.discover_product_types\u001B[0;34m(self, provider)\u001B[0m\n\u001B[1;32m    646\u001B[0m     \u001B[38;5;28;01mreturn\u001B[39;00m\n\u001B[1;32m    647\u001B[0m \u001B[38;5;28;01mif\u001B[39;00m \u001B[38;5;28mgetattr\u001B[39m(search_plugin_config, \u001B[38;5;124m\"\u001B[39m\u001B[38;5;124mdiscover_product_types\u001B[39m\u001B[38;5;124m\"\u001B[39m, \u001B[38;5;28;01mNone\u001B[39;00m):\n\u001B[0;32m--> 648\u001B[0m     search_plugin \u001B[38;5;241m=\u001B[39m \u001B[38;5;28;43mnext\u001B[39;49m\u001B[43m(\u001B[49m\n\u001B[1;32m    649\u001B[0m \u001B[43m        \u001B[49m\u001B[38;5;28;43mself\u001B[39;49m\u001B[38;5;241;43m.\u001B[39;49m\u001B[43m_plugins_manager\u001B[49m\u001B[38;5;241;43m.\u001B[39;49m\u001B[43mget_search_plugins\u001B[49m\u001B[43m(\u001B[49m\u001B[43mprovider\u001B[49m\u001B[38;5;241;43m=\u001B[39;49m\u001B[43mprovider\u001B[49m\u001B[43m)\u001B[49m\n\u001B[1;32m    650\u001B[0m \u001B[43m    \u001B[49m\u001B[43m)\u001B[49m\n\u001B[1;32m    651\u001B[0m     \u001B[38;5;66;03m# append auth to search plugin if needed\u001B[39;00m\n\u001B[1;32m    652\u001B[0m     \u001B[38;5;28;01mif\u001B[39;00m \u001B[38;5;28mgetattr\u001B[39m(search_plugin\u001B[38;5;241m.\u001B[39mconfig, \u001B[38;5;124m\"\u001B[39m\u001B[38;5;124mneed_auth\u001B[39m\u001B[38;5;124m\"\u001B[39m, \u001B[38;5;28;01mFalse\u001B[39;00m):\n",
      "File \u001B[0;32m/opt/conda/lib/python3.10/site-packages/eodag/plugins/manager.py:158\u001B[0m, in \u001B[0;36mPluginManager.get_search_plugins\u001B[0;34m(self, product_type, provider)\u001B[0m\n\u001B[1;32m    156\u001B[0m     config \u001B[38;5;241m=\u001B[39m \u001B[38;5;28mself\u001B[39m\u001B[38;5;241m.\u001B[39mproviders_config[provider]\n\u001B[1;32m    157\u001B[0m \u001B[38;5;28;01mexcept\u001B[39;00m \u001B[38;5;167;01mKeyError\u001B[39;00m:\n\u001B[0;32m--> 158\u001B[0m     \u001B[38;5;28;01mraise\u001B[39;00m UnsupportedProvider\n\u001B[1;32m    159\u001B[0m \u001B[38;5;28;01myield\u001B[39;00m get_plugin()\n\u001B[1;32m    160\u001B[0m \u001B[38;5;66;03m# Signal the end of iteration as we already have what we wanted (see PEP-479)\u001B[39;00m\n",
      "\u001B[0;31mUnsupportedProvider\u001B[0m: "
     ]
    }
   ],
   "source": [
    "# Query every product from inside the catalog\n",
    "all_products, _ = dag.search()"
   ]
  },
  {
   "cell_type": "code",
   "execution_count": null,
   "id": "7160fd0e",
   "metadata": {
    "scrolled": false
   },
   "outputs": [],
   "source": [
    "# Load an AOI\n",
    "aoi_path = os.path.join(\"/home\", \"data\", \"DATA\", \"AOIs\", \"DAX.geojson\")\n",
    "aoi = gpd.read_file(aoi_path)\n",
    "aoi_geojson = mapping(aoi.geometry.values[0])\n",
    "\n",
    "# Query spatially with the AOI and temporally with a time period\n",
    "query_args = {\"start\": \"2020-05-01\", \"end\": \"2022-05-06\", \"geom\": aoi.geometry.values[0]}\n",
    "query_products, _ = dag.search(**query_args)"
   ]
  },
  {
   "cell_type": "code",
   "execution_count": null,
   "id": "b2ff187f",
   "metadata": {},
   "outputs": [],
   "source": [
    "query_products[0]"
   ]
  },
  {
   "cell_type": "code",
   "execution_count": null,
   "id": "4e52cc30",
   "metadata": {
    "scrolled": true
   },
   "outputs": [],
   "source": [
    "query_products[0].assets['Blue']"
   ]
  },
  {
   "cell_type": "markdown",
   "id": "dfa163fc",
   "metadata": {},
   "source": [
    "## Display the results\n",
    "\n",
    "We can use `folium` to display the results geometry over a map."
   ]
  },
  {
   "cell_type": "code",
   "execution_count": null,
   "id": "280fef1d",
   "metadata": {
    "scrolled": false
   },
   "outputs": [],
   "source": [
    "import folium\n",
    "\n",
    "# Create a map zoomed over the search area\n",
    "fmap = folium.Map((43.2, -1.05), zoom_start=7)\n",
    "\n",
    "# Add a layer green layer for the query over the AOI\n",
    "folium.GeoJson(\n",
    "    data=all_products.as_geojson_object(),\n",
    "    tooltip = \"All products stored in the catalog\",\n",
    "    style_function=lambda x: {'color': 'green'}\n",
    ").add_to(fmap)\n",
    "\n",
    "# Add a layer green layer for the query over the AOI\n",
    "folium.GeoJson(\n",
    "    data=query_products.as_geojson_object(),\n",
    "    tooltip = \"Retrieved products with the query\",\n",
    "    style_function=lambda x: {'color': 'red'}\n",
    ").add_to(fmap)\n",
    "\n",
    "# Add a layer blue layer for the AOI\n",
    "folium.GeoJson(\n",
    "    data=aoi_geojson,\n",
    "    tooltip = \"DAX AOI\",\n",
    "    style_function=lambda x: {'color': 'blue'}\n",
    ").add_to(fmap)\n",
    "\n",
    "fmap"
   ]
  },
  {
   "cell_type": "code",
   "execution_count": null,
   "id": "6f11e5ea",
   "metadata": {
    "scrolled": true
   },
   "outputs": [],
   "source": [
    "# Clean the tmp directory\n",
    "tmp.cleanup()\n"
   ]
  }
 ],
 "metadata": {
  "kernelspec": {
   "display_name": "Python 3 (ipykernel)",
   "language": "python",
   "name": "python3"
  },
  "language_info": {
   "codemirror_mode": {
    "name": "ipython",
    "version": 3
   },
   "file_extension": ".py",
   "mimetype": "text/x-python",
   "name": "python",
   "nbconvert_exporter": "python",
   "pygments_lexer": "ipython3",
   "version": "3.10.8"
  }
 },
 "nbformat": 4,
 "nbformat_minor": 5
}
