{
  "cells": [
    {
      "cell_type": "markdown",
      "metadata": {
        "id": "wDhfh5GiZEEO"
      },
      "source": [
        "# Ejercicios de Introducción a Python"
      ]
    },
    {
      "cell_type": "markdown",
      "metadata": {
        "id": "qzhMHBlxZEEQ"
      },
      "source": [
        ":::{exercise}\n",
        ":label: chapter1-merge\n",
        "\n",
        "Crea una función `merge` que acepte un número arbitrario de diccionarios y devuelva un diccionario cuyas claves sean las uniones de las claves de los diccionarios de entradas y los valores listas donde se concatenan los valores de los diccionarios originales. Por ejemplo,\n",
        "\n",
        "```\n",
        "dict1 = {\n",
        "    \"foo\": 1,\n",
        "    \"bar\": [3, 4],\n",
        "    \"baz\": None\n",
        "}\n",
        "\n",
        "dict2 = {\n",
        "    \"foo\": \"Hello world\",\n",
        "    5: \"five\"\n",
        "}\n",
        "\n",
        "dict3 = {\n",
        "    \"bar\": \"yes\"\n",
        "}\n",
        "\n",
        ">>> merge(dict1, dict2, dict3)\n",
        "\n",
        "{\n",
        "    'foo': [1, 'Hello world'],\n",
        "    'bar': [[3, 4], 'yes'],\n",
        "    'baz': [None],\n",
        "    5: ['five']\n",
        "}\n",
        "```\n",
        "\n",
        ":::"
      ]
    },
    {
      "cell_type": "code",
      "source": [
        "d = {\"a\": \"foo\", \"b\": \"bar\"}\n",
        "for k in d:\n",
        "    print(k)"
      ],
      "metadata": {
        "colab": {
          "base_uri": "https://localhost:8080/"
        },
        "id": "j0bQ92RpJxJD",
        "outputId": "2da549f3-8e2c-4b63-b9f0-9112880bc556"
      },
      "execution_count": null,
      "outputs": [
        {
          "output_type": "stream",
          "name": "stdout",
          "text": [
            "a\n",
            "b\n"
          ]
        }
      ]
    },
    {
      "cell_type": "code",
      "source": [
        "def merge(*args):\n",
        "    merge_dict = {}\n",
        "    for dictionary in args:\n",
        "        # iterar sobre las claves de dictionary\n",
        "        for key in dictionary:\n",
        "            if key in merge_dict:\n",
        "                merge_dict[key].append(dictionary[key])\n",
        "            else:\n",
        "                merge_dict[key] = [dictionary[key]]\n",
        "    return merge_dict\n"
      ],
      "metadata": {
        "id": "3JgYpi4XIq-p"
      },
      "execution_count": null,
      "outputs": []
    },
    {
      "cell_type": "code",
      "source": [
        "dict1 = {\n",
        "    \"foo\": 1,\n",
        "    \"bar\": [3, 4],\n",
        "    \"baz\": None\n",
        "}\n",
        "\n",
        "dict2 = {\n",
        "    \"foo\": \"Hello world\",\n",
        "    5: \"five\"\n",
        "}\n",
        "\n",
        "dict3 = {\n",
        "    \"bar\": \"yes\"\n",
        "}\n",
        "\n",
        "merge(dict1, dict2, dict3)"
      ],
      "metadata": {
        "colab": {
          "base_uri": "https://localhost:8080/"
        },
        "id": "31pMhyRxIlXk",
        "outputId": "cb4dd71e-316c-43ed-8c13-b418e82f4735"
      },
      "execution_count": null,
      "outputs": [
        {
          "output_type": "execute_result",
          "data": {
            "text/plain": [
              "{'foo': [1, 'Hello world'], 'bar': [[3, 4], 'yes'], 'baz': [None], 5: ['five']}"
            ]
          },
          "metadata": {},
          "execution_count": 6
        }
      ]
    },
    {
      "cell_type": "markdown",
      "source": [
        ":::{exercise}\n",
        ":label: chapter1-exercises-4\n",
        "\n",
        "Considera el siguiente ejemplo\n",
        "\n",
        "```\n",
        "a = [1, 2, [3, 4]]\n",
        "b = list(a)\n",
        "```\n",
        "\n",
        "¿Cambia algún elemento de la lista `a` tras ejecutar `b.append(100)`?¿Y tras ejecutar `b[2][0] = -100`? ¿Por qué?\n",
        "\n",
        ":::"
      ],
      "metadata": {
        "id": "LZJsa8ZR0zP3"
      }
    },
    {
      "cell_type": "code",
      "source": [
        "a = [1, 2, [3, 4]]\n",
        "b = list(a)\n",
        "\n",
        "b[2][0] = -100\n",
        "print(a)"
      ],
      "metadata": {
        "id": "Lb7OAnhfLPBI",
        "outputId": "28b704b0-310f-4f04-da69-3e42ae4e5152",
        "colab": {
          "base_uri": "https://localhost:8080/"
        }
      },
      "execution_count": null,
      "outputs": [
        {
          "output_type": "stream",
          "name": "stdout",
          "text": [
            "[1, 2, [-100, 4]]\n"
          ]
        }
      ]
    },
    {
      "cell_type": "markdown",
      "metadata": {
        "id": "0giHwgj_a9EB"
      },
      "source": [
        ":::{exercise}\n",
        ":label: chapter1-concat_to_str\n",
        "\n",
        "Crea una función `concat_to_str` que convierta una secuencia de objetos de Python en una cadena de transcripciones siguiendo las siguientes normas:\n",
        "\n",
        "- Si el objeto es un entero, entonces escribimos cada dígito en español separados por guiones. Si el entero es negativo, lo indicamos empezando la cadena por `menos`:\n",
        "    - `142` -> `uno-cuatro-dos`\n",
        "    -  `-12` -> `menos-uno-dos`\n",
        "- Si el objeto es un flotante, nos quedamos con la parte entera y hacemos lo mismo que en el caso anterior añadiendo `\"y decimales\"` al final.\n",
        "    - `12.324` -> `uno-dos y decimales`\n",
        "- Si el objeto es una cadena, lo dejamos como está.\n",
        "- Si el objeto es de otro tipo (incluido `bool`), añadimos `\"<OTRO>\"`.\n",
        "\n",
        "Las transcripciones deben estar separas por `\" | \"`. Por ejemplo,\n",
        "\n",
        "```\n",
        ">>> s = concat_to_str([12, -14.23, \"hello\", True, None, 10.1, 5])\n",
        "\"uno-dos | menos-uno-cuatro y decimales\" | hello | <OTRO> | <OTRO> | uno-cero y decimales | cinco\"\n",
        "```\n",
        "\n",
        ":::"
      ]
    },
    {
      "cell_type": "code",
      "source": [
        "[i for i in str(-5438543)]"
      ],
      "metadata": {
        "id": "EQsCkCB-PS-9",
        "outputId": "2451f1e3-043e-404d-b536-853d22186691",
        "colab": {
          "base_uri": "https://localhost:8080/"
        }
      },
      "execution_count": null,
      "outputs": [
        {
          "output_type": "execute_result",
          "data": {
            "text/plain": [
              "['-', '5', '4', '3', '8', '5', '4', '3']"
            ]
          },
          "metadata": {},
          "execution_count": 18
        }
      ]
    },
    {
      "cell_type": "code",
      "source": [
        "def traduce(objeto):\n",
        "    if isinstance(objeto, int) and not isinstance(objeto, bool):\n",
        "        return traduce_entero(objeto)\n",
        "\n",
        "    if isinstance(objeto, float):\n",
        "        return traduce_flotante(objeto)\n",
        "\n",
        "    if isinstance(objeto, str):\n",
        "        return objeto\n",
        "\n",
        "    return \"<OTRO>\"\n",
        "\n",
        "def traduce_entero(n):\n",
        "    n_str = str(n)\n",
        "    digits = [i for i in n_str]\n",
        "    return \"-\".join([traduce_digito(digit) for digit in digits])\n",
        "\n",
        "traductor_digitos = {\n",
        "    \"1\": \"uno\",\n",
        "    \"2\": \"dos\",\n",
        "    \"3\": \"tres\",\n",
        "    \"4\": \"cuatro\",\n",
        "    \"5\": \"cinco\",\n",
        "    \"6\": \"seis\",\n",
        "    \"7\": \"siete\",\n",
        "    \"8\": \"ocho\",\n",
        "    \"9\": \"nueve\",\n",
        "    \"0\": \"cero\",\n",
        "    \"-\": \"menos\"\n",
        "}\n",
        "\n",
        "def traduce_digito(digito):\n",
        "    return traductor_digitos[digito]\n",
        "\n",
        "def traduce_flotante(f):\n",
        "    f_rounded = round(f)\n",
        "    return traduce_entero(f_rounded) + \" y decimales\"\n",
        "\n",
        "def concat_to_str(iterable):\n",
        "    traducciones = [traduce(i) for i in iterable]\n",
        "    return \" | \".join(traducciones)"
      ],
      "metadata": {
        "id": "VuCGnWA0NI_n"
      },
      "execution_count": null,
      "outputs": []
    },
    {
      "cell_type": "code",
      "source": [
        "concat_to_str([12, -14.23, \"hello\", True, None, 10.1, -5])"
      ],
      "metadata": {
        "id": "bBzRmtoYPFCx",
        "outputId": "3fa62372-1e1f-489e-fec7-7cf1d9e39039",
        "colab": {
          "base_uri": "https://localhost:8080/",
          "height": 36
        }
      },
      "execution_count": null,
      "outputs": [
        {
          "output_type": "execute_result",
          "data": {
            "text/plain": [
              "'uno-dos | menos-uno-cuatro y decimales | hello | <OTRO> | <OTRO> | uno-cero y decimales | menos-cinco'"
            ],
            "application/vnd.google.colaboratory.intrinsic+json": {
              "type": "string"
            }
          },
          "metadata": {},
          "execution_count": 23
        }
      ]
    },
    {
      "cell_type": "markdown",
      "source": [
        ":::{exercise}\n",
        ":label: chapter1-books\n",
        "\n",
        "Visita [este sitio web](https://gutenberg.org/browse/scores/top#books-last30) y copia el enlace de descarga de un libro a tu elección en texto plano en una variable `url`. Por ejemplo, [este](https://gutenberg.org/cache/epub/1342/pg1342.txt) es el enlace de descarga de *Orgullo y Prejuicio*.\n",
        "\n",
        "Utiliza el módulo `requests` para realizar una petición http y guardar el cuerpo de la respuesta en una variable `book` tal y como se indica a continuación\n",
        "\n",
        "```\n",
        "import requests\n",
        "\n",
        "url = \"https://gutenberg.org/cache/epub/1342/pg1342.txt\"\n",
        "book_request = requests.get(url)\n",
        "book = book_request.text\n",
        "```\n",
        "\n",
        "Escribe una función `count_words` que devuelva un diccionario con las 50 palabras más frecuentes del libro que tenga como claves dichas palabras y como valor el número de apariciones.\n",
        "\n",
        ":::"
      ],
      "metadata": {
        "id": "WFflJSheU4-w"
      }
    },
    {
      "cell_type": "code",
      "source": [
        "import requests\n",
        "\n",
        "url = \"https://gutenberg.org/ebooks/2000.txt.utf-8\"\n",
        "\n",
        "book_request = requests.get(url)\n",
        "book = book_request.text"
      ],
      "metadata": {
        "id": "N4qyQK04Z-4X"
      },
      "execution_count": 13,
      "outputs": []
    },
    {
      "cell_type": "code",
      "source": [
        "book_processed = (\n",
        "    book\n",
        "    .replace(\"\\n\", \" \")\n",
        "    .replace(\"\\r\", \" \")\n",
        "    .replace(\"-\", \" \")\n",
        ")\n",
        "\n",
        "words = book_processed.split(\" \")\n",
        "words = [w.lower() for w in words if w != \"\" if len(w) >= 10]\n",
        "results = {}\n",
        "for word in words:\n",
        "    if word in results:\n",
        "        results[word] += 1\n",
        "    else:\n",
        "        results[word] = 1\n",
        "\n",
        "results = sorted(results.items(), key=lambda item: item[1], reverse=True)[:100]"
      ],
      "metadata": {
        "id": "nt1iEAvQdFYM"
      },
      "execution_count": 43,
      "outputs": []
    },
    {
      "cell_type": "markdown",
      "source": [
        ":::{exercise}\n",
        ":label: chapter1-shopping-cart\n",
        "\n",
        "Crea una clase `CarritoCompra`, donde cada instancia almacenará dos listas de cadenas representando productos\n",
        "\n",
        "- una lista para productos que necesitamos, `necesitados`.\n",
        "- otra para productos ya comprados, `comprados`.\n",
        "\n",
        "Un producto no puede aparecer más de una vez en cada lista.\n",
        "\n",
        "Crea un método `__init__` que acepte una cadena o un iterable de cadenas representando productos que se añadirán a la lista de `necesitados` y además métodos para\n",
        "\n",
        "- `añade_necestidados`: añadir nuevos elementos necesitados al carrito,\n",
        "- `compra`: marcar un producto como comprado (pasa de necesitados a comprados),\n",
        "- `elimina_necesitados`, `elimina_comprados`: eliminar un producto, ya sea de la lista de necesitados o comprados,\n",
        "- `lista_necestidados` y `lista_comprados`: listar los elementos necesitados o comprados en orden alfabético.\n",
        "\n",
        ":::"
      ],
      "metadata": {
        "id": "-xt1nDKN0wuN"
      }
    },
    {
      "cell_type": "code",
      "source": [
        "[1, 2, 3].extend([4])"
      ],
      "metadata": {
        "id": "6L2EItVikcln"
      },
      "execution_count": 46,
      "outputs": []
    },
    {
      "cell_type": "code",
      "source": [
        "l = [\"foo\", \"bar\"]\n",
        "l.sort()\n",
        "print(l)"
      ],
      "metadata": {
        "id": "_7nzh8H8lxr6",
        "outputId": "ff4e1415-e767-4378-b6a8-ac3a356c14ca",
        "colab": {
          "base_uri": "https://localhost:8080/"
        }
      },
      "execution_count": 54,
      "outputs": [
        {
          "output_type": "stream",
          "name": "stdout",
          "text": [
            "['bar', 'foo']\n"
          ]
        }
      ]
    },
    {
      "cell_type": "code",
      "source": [
        "from typing import List\n",
        "from collections.abc import Iterable\n",
        "\n",
        "class CarritoCompra:\n",
        "    def __init__(self, necesitados: Iterable[str] = []):\n",
        "        self.necesitados: List = necesitados\n",
        "        self.comprados: List = []\n",
        "\n",
        "    def anade_necesitados(self, elementos: Iterable[str]):\n",
        "        self.necesitados.extend(elementos)\n",
        "\n",
        "    def compra(self, elemento: str):\n",
        "        self.comprados.append(elemento)\n",
        "        self.necesitados.remove(elemento)\n",
        "\n",
        "    def elimina_necesitados(self, elemento: str):\n",
        "        self.necesitados.remove(elemento)\n",
        "\n",
        "    def elimina_comprados(self, elemento: str):\n",
        "        self.comprados.remove(elemento)\n",
        "\n",
        "    def lista_necesitados(self):\n",
        "        self.necesitados.sort()\n",
        "        print(self.necesitados)\n",
        "\n",
        "    def lista_comprados(self):\n",
        "        self.comprados.sort()\n",
        "        print(self.comprados)"
      ],
      "metadata": {
        "id": "jgEUXb2ch9Tg"
      },
      "execution_count": 60,
      "outputs": []
    },
    {
      "cell_type": "code",
      "source": [
        "carrito = CarritoCompra()\n",
        "\n",
        "carrito.anade_necesitados([\"manzana\", \"pera\", \"pescado\"])"
      ],
      "metadata": {
        "id": "woBHujeGnA0G",
        "outputId": "105ba36f-53d4-464a-b612-dc8d2cfbc593",
        "colab": {
          "base_uri": "https://localhost:8080/"
        }
      },
      "execution_count": 61,
      "outputs": [
        {
          "output_type": "stream",
          "name": "stdout",
          "text": [
            "['manzana', 'pera', 'pescado']\n"
          ]
        }
      ]
    },
    {
      "cell_type": "code",
      "source": [
        "carrito.lista_necesitados()\n",
        "carrito.lista_comprados()\n",
        "\n",
        "carrito.compra(\"pescado\")\n",
        "carrito.compra(\"pera\")\n",
        "carrito.compra(\"carne\")\n",
        "carrito.lista_necesitados()\n",
        "carrito.lista_comprados()\n",
        "\n",
        "carrito.elimina_necesitados(\"pera\")\n",
        "carrito.elimina_necesitados(\"manzana\")\n",
        "carrito.elimina_comprados(\"pera\")\n",
        "carrito.lista_necesitados()\n",
        "carrito.lista_comprados()"
      ],
      "metadata": {
        "id": "BVYNGHPOjm6a",
        "outputId": "98be5faa-519c-4581-ffaf-c6b7ac5d51ca",
        "colab": {
          "base_uri": "https://localhost:8080/",
          "height": 421
        }
      },
      "execution_count": 62,
      "outputs": [
        {
          "output_type": "stream",
          "name": "stdout",
          "text": [
            "['manzana', 'pera', 'pescado']\n",
            "[]\n"
          ]
        },
        {
          "output_type": "error",
          "ename": "ValueError",
          "evalue": "ignored",
          "traceback": [
            "\u001b[0;31m---------------------------------------------------------------------------\u001b[0m",
            "\u001b[0;31mValueError\u001b[0m                                Traceback (most recent call last)",
            "\u001b[0;32m<ipython-input-62-3445b7b93df5>\u001b[0m in \u001b[0;36m<cell line: 6>\u001b[0;34m()\u001b[0m\n\u001b[1;32m      4\u001b[0m \u001b[0mcarrito\u001b[0m\u001b[0;34m.\u001b[0m\u001b[0mcompra\u001b[0m\u001b[0;34m(\u001b[0m\u001b[0;34m\"pescado\"\u001b[0m\u001b[0;34m)\u001b[0m\u001b[0;34m\u001b[0m\u001b[0;34m\u001b[0m\u001b[0m\n\u001b[1;32m      5\u001b[0m \u001b[0mcarrito\u001b[0m\u001b[0;34m.\u001b[0m\u001b[0mcompra\u001b[0m\u001b[0;34m(\u001b[0m\u001b[0;34m\"pera\"\u001b[0m\u001b[0;34m)\u001b[0m\u001b[0;34m\u001b[0m\u001b[0;34m\u001b[0m\u001b[0m\n\u001b[0;32m----> 6\u001b[0;31m \u001b[0mcarrito\u001b[0m\u001b[0;34m.\u001b[0m\u001b[0mcompra\u001b[0m\u001b[0;34m(\u001b[0m\u001b[0;34m\"carne\"\u001b[0m\u001b[0;34m)\u001b[0m\u001b[0;34m\u001b[0m\u001b[0;34m\u001b[0m\u001b[0m\n\u001b[0m\u001b[1;32m      7\u001b[0m \u001b[0mcarrito\u001b[0m\u001b[0;34m.\u001b[0m\u001b[0mlista_necesitados\u001b[0m\u001b[0;34m(\u001b[0m\u001b[0;34m)\u001b[0m\u001b[0;34m\u001b[0m\u001b[0;34m\u001b[0m\u001b[0m\n\u001b[1;32m      8\u001b[0m \u001b[0mcarrito\u001b[0m\u001b[0;34m.\u001b[0m\u001b[0mlista_comprados\u001b[0m\u001b[0;34m(\u001b[0m\u001b[0;34m)\u001b[0m\u001b[0;34m\u001b[0m\u001b[0;34m\u001b[0m\u001b[0m\n",
            "\u001b[0;32m<ipython-input-60-844dd3155c5f>\u001b[0m in \u001b[0;36mcompra\u001b[0;34m(self, elemento)\u001b[0m\n\u001b[1;32m     12\u001b[0m     \u001b[0;32mdef\u001b[0m \u001b[0mcompra\u001b[0m\u001b[0;34m(\u001b[0m\u001b[0mself\u001b[0m\u001b[0;34m,\u001b[0m \u001b[0melemento\u001b[0m\u001b[0;34m:\u001b[0m \u001b[0mstr\u001b[0m\u001b[0;34m)\u001b[0m\u001b[0;34m:\u001b[0m\u001b[0;34m\u001b[0m\u001b[0;34m\u001b[0m\u001b[0m\n\u001b[1;32m     13\u001b[0m         \u001b[0mself\u001b[0m\u001b[0;34m.\u001b[0m\u001b[0mcomprados\u001b[0m\u001b[0;34m.\u001b[0m\u001b[0mappend\u001b[0m\u001b[0;34m(\u001b[0m\u001b[0melemento\u001b[0m\u001b[0;34m)\u001b[0m\u001b[0;34m\u001b[0m\u001b[0;34m\u001b[0m\u001b[0m\n\u001b[0;32m---> 14\u001b[0;31m         \u001b[0mself\u001b[0m\u001b[0;34m.\u001b[0m\u001b[0mnecesitados\u001b[0m\u001b[0;34m.\u001b[0m\u001b[0mremove\u001b[0m\u001b[0;34m(\u001b[0m\u001b[0melemento\u001b[0m\u001b[0;34m)\u001b[0m\u001b[0;34m\u001b[0m\u001b[0;34m\u001b[0m\u001b[0m\n\u001b[0m\u001b[1;32m     15\u001b[0m \u001b[0;34m\u001b[0m\u001b[0m\n\u001b[1;32m     16\u001b[0m     \u001b[0;32mdef\u001b[0m \u001b[0melimina_necesitados\u001b[0m\u001b[0;34m(\u001b[0m\u001b[0mself\u001b[0m\u001b[0;34m,\u001b[0m \u001b[0melemento\u001b[0m\u001b[0;34m:\u001b[0m \u001b[0mstr\u001b[0m\u001b[0;34m)\u001b[0m\u001b[0;34m:\u001b[0m\u001b[0;34m\u001b[0m\u001b[0;34m\u001b[0m\u001b[0m\n",
            "\u001b[0;31mValueError\u001b[0m: list.remove(x): x not in list"
          ]
        }
      ]
    },
    {
      "cell_type": "markdown",
      "source": [
        ":::{exercise} :label: return-none\n",
        "Lee [este blog](https://stackoverflow.com/questions/15300550/return-return-none-and-no-return-at-all) sobre en una función que devuelve `None` es mejor\n",
        "\n",
        "- No incluir `return`\n",
        "- Incuir solamente `return`\n",
        "- Incluir `return None`\n",
        "\n",
        "Y pon ejemplos de cuándo deberíamos usar cada uno de ellos."
      ],
      "metadata": {
        "id": "HA3ELD5xrOH_"
      }
    }
  ],
  "metadata": {
    "colab": {
      "provenance": []
    },
    "kernelspec": {
      "display_name": "Python 3.9.1 64-bit",
      "language": "python",
      "name": "python3"
    },
    "language_info": {
      "name": "python",
      "version": "3.9.1"
    },
    "orig_nbformat": 4,
    "vscode": {
      "interpreter": {
        "hash": "397704579725e15f5c7cb49fe5f0341eb7531c82d19f2c29d197e8b64ab5776b"
      }
    }
  },
  "nbformat": 4,
  "nbformat_minor": 0
}