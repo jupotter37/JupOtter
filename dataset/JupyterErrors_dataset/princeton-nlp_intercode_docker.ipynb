{
 "cells": [
  {
   "cell_type": "code",
   "execution_count": 21,
   "id": "a270cf06",
   "metadata": {},
   "outputs": [],
   "source": [
    "import docker\n",
    "import os\n",
    "from rich import print"
   ]
  },
  {
   "cell_type": "code",
   "execution_count": 3,
   "id": "b0b81b78",
   "metadata": {},
   "outputs": [],
   "source": [
    "CONTAINER_AGENT_NAME = \"intercode-agent\"\n",
    "CONTAINER_EVAL_NAME = \"intercode-eval\"\n",
    "CONTAINER_IMAGE = \"intercode\"\n",
    "CONTAINER_START_CMD = \"bin/sh\""
   ]
  },
  {
   "cell_type": "markdown",
   "id": "106eaf06",
   "metadata": {},
   "source": [
    "### Start Up a Container"
   ]
  },
  {
   "cell_type": "code",
   "execution_count": 4,
   "id": "a83e7276",
   "metadata": {},
   "outputs": [],
   "source": [
    "client = docker.from_env()"
   ]
  },
  {
   "cell_type": "code",
   "execution_count": 5,
   "id": "b758cd26",
   "metadata": {},
   "outputs": [],
   "source": [
    "if CONTAINER_AGENT_NAME in [container.name for container in client.containers.list()]:\n",
    "    container_agent = client.containers.get(CONTAINER_AGENT_NAME)\n",
    "else:\n",
    "    container_agent = client.containers.run(CONTAINER_IMAGE, detach=True,\n",
    "        name=CONTAINER_AGENT_NAME, tty=True)\n",
    "container_agent.restart()"
   ]
  },
  {
   "cell_type": "code",
   "execution_count": 7,
   "id": "39d686cf",
   "metadata": {},
   "outputs": [],
   "source": [
    "command = 'ls'\n",
    "output = container_agent.exec_run(command).output.decode('utf-8')"
   ]
  },
  {
   "cell_type": "code",
   "execution_count": 8,
   "id": "ef7425ee",
   "metadata": {},
   "outputs": [
    {
     "data": {
      "text/html": [
       "<pre style=\"white-space:pre;overflow-x:auto;line-height:normal;font-family:Menlo,'DejaVu Sans Mono',consolas,'Courier New',monospace\">bin\n",
       "dev\n",
       "etc\n",
       "home\n",
       "lib\n",
       "media\n",
       "mnt\n",
       "opt\n",
       "proc\n",
       "root\n",
       "run\n",
       "sbin\n",
       "setup.sh\n",
       "srv\n",
       "sys\n",
       "testbed\n",
       "tmp\n",
       "usr\n",
       "var\n",
       "\n",
       "</pre>\n"
      ],
      "text/plain": [
       "bin\n",
       "dev\n",
       "etc\n",
       "home\n",
       "lib\n",
       "media\n",
       "mnt\n",
       "opt\n",
       "proc\n",
       "root\n",
       "run\n",
       "sbin\n",
       "setup.sh\n",
       "srv\n",
       "sys\n",
       "testbed\n",
       "tmp\n",
       "usr\n",
       "var\n",
       "\n"
      ]
     },
     "metadata": {},
     "output_type": "display_data"
    }
   ],
   "source": [
    "print(output)"
   ]
  },
  {
   "cell_type": "markdown",
   "id": "9e744d20",
   "metadata": {},
   "source": [
    "### Run bash script via `exec_run`"
   ]
  },
  {
   "cell_type": "code",
   "execution_count": 24,
   "id": "5845bc21",
   "metadata": {},
   "outputs": [
    {
     "ename": "NameError",
     "evalue": "name '__file__' is not defined",
     "output_type": "error",
     "traceback": [
      "\u001b[0;31m---------------------------------------------------------------------------\u001b[0m",
      "\u001b[0;31mNameError\u001b[0m                                 Traceback (most recent call last)",
      "\u001b[0;32m/var/folders/w_/tjc36b5n05799rw440kxnh6r0000gp/T/ipykernel_51474/3861028362.py\u001b[0m in \u001b[0;36m<module>\u001b[0;34m\u001b[0m\n\u001b[0;32m----> 1\u001b[0;31m \u001b[0mos\u001b[0m\u001b[0;34m.\u001b[0m\u001b[0mpath\u001b[0m\u001b[0;34m.\u001b[0m\u001b[0mdirname\u001b[0m\u001b[0;34m(\u001b[0m\u001b[0mos\u001b[0m\u001b[0;34m.\u001b[0m\u001b[0mpath\u001b[0m\u001b[0;34m.\u001b[0m\u001b[0mabspath\u001b[0m\u001b[0;34m(\u001b[0m\u001b[0m__file__\u001b[0m\u001b[0;34m)\u001b[0m\u001b[0;34m)\u001b[0m\u001b[0;34m\u001b[0m\u001b[0;34m\u001b[0m\u001b[0m\n\u001b[0m",
      "\u001b[0;31mNameError\u001b[0m: name '__file__' is not defined"
     ]
    }
   ],
   "source": [
    "os.path.dirname(os.path.abspath(__file__))"
   ]
  },
  {
   "cell_type": "code",
   "execution_count": 20,
   "id": "a7302c84",
   "metadata": {},
   "outputs": [
    {
     "data": {
      "text/plain": [
       "'rm -rf /testbed;mkdir -p /testbed/dir1/subdir1/subsubdir1;mkdir -p /testbed/dir1/subdir2;mkdir -p /testbed/dir2/subdir1;mkdir -p /testbed/dir2/subdir2/subsubdir1;mkdir -p /testbed/dir3/subdir1/subsubdir1;mkdir -p /testbed/dir3/subdir2;echo \"Hello, World!\" > /testbed/dir1/textfile1.txt;echo \"Another text file\" > /testbed/dir2/subdir1/textfile2.txt;echo \"Yet another text file\" > /testbed/dir3/subdir1/subsubdir1/textfile3.txt;echo \"Text file 4\" > /testbed/dir1/subdir1/textfile4.txt;echo \"Text file 5\" > /testbed/dir2/subdir2/textfile5.txt;echo \"Text file 6\" > /testbed/dir3/textfile6.txt;echo -e \"#!/bin/sh\\\\necho \\'Shell script 1\\'\" > /testbed/dir1/subdir1/shellscript1.sh;echo -e \"#!/bin/sh\\\\necho \\'Shell script 2\\'\" > /testbed/dir2/shellscript2.sh;echo -e \"#!/bin/sh\\\\necho \\'Shell script 3\\'\" > /testbed/dir3/subdir1/subsubdir1/shellscript3.sh;echo -e \"#!/bin/sh\\\\necho \\'Shell script 4\\'\" > /testbed/dir1/subdir1/subsubdir1/shellscript4.sh;echo -e \"#!/bin/sh\\\\necho \\'Shell script 5\\'\" > /testbed/dir2/subdir2/shellscript5.sh;chmod +x /testbed/dir1/subdir1/shellscript1.sh;chmod +x /testbed/dir2/shellscript2.sh;chmod +x /testbed/dir3/subdir1/subsubdir1/shellscript3.sh;chmod +x /testbed/dir1/subdir1/subsubdir1/shellscript4.sh;chmod +x /testbed/dir2/subdir2/shellscript5.sh;echo -e \"#!/usr/bin/env python3\\\\nprint(\\'Python script 1\\')\" > /testbed/dir1/subdir1/subsubdir1/pythonscript1.py;echo -e \"#!/usr/bin/env python3\\\\nprint(\\'Python script 2\\')\" > /testbed/dir2/subdir2/pythonscript2.py;echo -e \"#!/usr/bin/env python3\\\\nprint(\\'Python script 3\\')\" > /testbed/dir3/subdir1/pythonscript3.py;echo -e \"#!/usr/bin/env python3\\\\nprint(\\'Python script 4\\')\" > /testbed/dir1/subdir1/pythonscript4.py;chmod +x /testbed/dir1/subdir1/subsubdir1/pythonscript1.py;chmod +x /testbed/dir2/subdir2/pythonscript2.py;chmod +x /testbed/dir3/subdir1/pythonscript3.py;chmod +x /testbed/dir1/subdir1/pythonscript4.py;echo -e \\'{\\\\n  \"key1\": \"value1\",\\\\n  \"key2\": \"value2\",\\\\n  \"key3\": \"value3\"\\\\n}\\' > /testbed/dir1/subdir1/jsonfile1.json;echo -e \\'column1,column2,column3\\\\nvalue1,value2,value3\\\\nvalue4,value5,value6\\' > /testbed/dir3/subdir2/csvfile1.csv'"
      ]
     },
     "execution_count": 20,
     "metadata": {},
     "output_type": "execute_result"
    }
   ],
   "source": [
    "\";\".join([x.replace(\"\\n\", \"\") for x in\n",
    "          open(\"/Users/johnyang/Desktop/Research/intercode/bash/setup.sh\", \"r\").readlines()\n",
    "          if not x.startswith(\"#\") and len(x) > 0 and x != \"\\n\"])"
   ]
  },
  {
   "cell_type": "code",
   "execution_count": 15,
   "id": "3e18432b",
   "metadata": {},
   "outputs": [
    {
     "data": {
      "text/html": [
       "<pre style=\"white-space:pre;overflow-x:auto;line-height:normal;font-family:Menlo,'DejaVu Sans Mono',consolas,'Courier New',monospace\">hi #!<span style=\"color: #800080; text-decoration-color: #800080\">/bin/</span><span style=\"color: #ff00ff; text-decoration-color: #ff00ff\">sh</span>\n",
       "\n",
       "</pre>\n"
      ],
      "text/plain": [
       "hi #!\u001b[35m/bin/\u001b[0m\u001b[95msh\u001b[0m\n",
       "\n"
      ]
     },
     "metadata": {},
     "output_type": "display_data"
    },
    {
     "data": {
      "text/html": [
       "<pre style=\"white-space:pre;overflow-x:auto;line-height:normal;font-family:Menlo,'DejaVu Sans Mono',consolas,'Courier New',monospace\">hi rm -rf <span style=\"color: #800080; text-decoration-color: #800080\">/</span><span style=\"color: #ff00ff; text-decoration-color: #ff00ff\">testbed</span>\n",
       "\n",
       "</pre>\n"
      ],
      "text/plain": [
       "hi rm -rf \u001b[35m/\u001b[0m\u001b[95mtestbed\u001b[0m\n",
       "\n"
      ]
     },
     "metadata": {},
     "output_type": "display_data"
    },
    {
     "data": {
      "text/html": [
       "<pre style=\"white-space:pre;overflow-x:auto;line-height:normal;font-family:Menlo,'DejaVu Sans Mono',consolas,'Courier New',monospace\">hi \n",
       "\n",
       "</pre>\n"
      ],
      "text/plain": [
       "hi \n",
       "\n"
      ]
     },
     "metadata": {},
     "output_type": "display_data"
    },
    {
     "data": {
      "text/html": [
       "<pre style=\"white-space:pre;overflow-x:auto;line-height:normal;font-family:Menlo,'DejaVu Sans Mono',consolas,'Courier New',monospace\">hi mkdir -p <span style=\"color: #800080; text-decoration-color: #800080\">/testbed/dir1/subdir1/</span><span style=\"color: #ff00ff; text-decoration-color: #ff00ff\">subsubdir1</span>\n",
       "\n",
       "</pre>\n"
      ],
      "text/plain": [
       "hi mkdir -p \u001b[35m/testbed/dir1/subdir1/\u001b[0m\u001b[95msubsubdir1\u001b[0m\n",
       "\n"
      ]
     },
     "metadata": {},
     "output_type": "display_data"
    },
    {
     "data": {
      "text/html": [
       "<pre style=\"white-space:pre;overflow-x:auto;line-height:normal;font-family:Menlo,'DejaVu Sans Mono',consolas,'Courier New',monospace\">hi mkdir -p <span style=\"color: #800080; text-decoration-color: #800080\">/testbed/dir1/</span><span style=\"color: #ff00ff; text-decoration-color: #ff00ff\">subdir2</span>\n",
       "\n",
       "</pre>\n"
      ],
      "text/plain": [
       "hi mkdir -p \u001b[35m/testbed/dir1/\u001b[0m\u001b[95msubdir2\u001b[0m\n",
       "\n"
      ]
     },
     "metadata": {},
     "output_type": "display_data"
    },
    {
     "data": {
      "text/html": [
       "<pre style=\"white-space:pre;overflow-x:auto;line-height:normal;font-family:Menlo,'DejaVu Sans Mono',consolas,'Courier New',monospace\">hi mkdir -p <span style=\"color: #800080; text-decoration-color: #800080\">/testbed/dir2/</span><span style=\"color: #ff00ff; text-decoration-color: #ff00ff\">subdir1</span>\n",
       "\n",
       "</pre>\n"
      ],
      "text/plain": [
       "hi mkdir -p \u001b[35m/testbed/dir2/\u001b[0m\u001b[95msubdir1\u001b[0m\n",
       "\n"
      ]
     },
     "metadata": {},
     "output_type": "display_data"
    },
    {
     "data": {
      "text/html": [
       "<pre style=\"white-space:pre;overflow-x:auto;line-height:normal;font-family:Menlo,'DejaVu Sans Mono',consolas,'Courier New',monospace\">hi mkdir -p <span style=\"color: #800080; text-decoration-color: #800080\">/testbed/dir2/subdir2/</span><span style=\"color: #ff00ff; text-decoration-color: #ff00ff\">subsubdir1</span>\n",
       "\n",
       "</pre>\n"
      ],
      "text/plain": [
       "hi mkdir -p \u001b[35m/testbed/dir2/subdir2/\u001b[0m\u001b[95msubsubdir1\u001b[0m\n",
       "\n"
      ]
     },
     "metadata": {},
     "output_type": "display_data"
    },
    {
     "data": {
      "text/html": [
       "<pre style=\"white-space:pre;overflow-x:auto;line-height:normal;font-family:Menlo,'DejaVu Sans Mono',consolas,'Courier New',monospace\">hi mkdir -p <span style=\"color: #800080; text-decoration-color: #800080\">/testbed/dir3/subdir1/</span><span style=\"color: #ff00ff; text-decoration-color: #ff00ff\">subsubdir1</span>\n",
       "\n",
       "</pre>\n"
      ],
      "text/plain": [
       "hi mkdir -p \u001b[35m/testbed/dir3/subdir1/\u001b[0m\u001b[95msubsubdir1\u001b[0m\n",
       "\n"
      ]
     },
     "metadata": {},
     "output_type": "display_data"
    },
    {
     "data": {
      "text/html": [
       "<pre style=\"white-space:pre;overflow-x:auto;line-height:normal;font-family:Menlo,'DejaVu Sans Mono',consolas,'Courier New',monospace\">hi mkdir -p <span style=\"color: #800080; text-decoration-color: #800080\">/testbed/dir3/</span><span style=\"color: #ff00ff; text-decoration-color: #ff00ff\">subdir2</span>\n",
       "\n",
       "</pre>\n"
      ],
      "text/plain": [
       "hi mkdir -p \u001b[35m/testbed/dir3/\u001b[0m\u001b[95msubdir2\u001b[0m\n",
       "\n"
      ]
     },
     "metadata": {},
     "output_type": "display_data"
    },
    {
     "data": {
      "text/html": [
       "<pre style=\"white-space:pre;overflow-x:auto;line-height:normal;font-family:Menlo,'DejaVu Sans Mono',consolas,'Courier New',monospace\">hi \n",
       "\n",
       "</pre>\n"
      ],
      "text/plain": [
       "hi \n",
       "\n"
      ]
     },
     "metadata": {},
     "output_type": "display_data"
    },
    {
     "data": {
      "text/html": [
       "<pre style=\"white-space:pre;overflow-x:auto;line-height:normal;font-family:Menlo,'DejaVu Sans Mono',consolas,'Courier New',monospace\">hi echo <span style=\"color: #008000; text-decoration-color: #008000\">\"Hello, World!\"</span> &gt; <span style=\"color: #800080; text-decoration-color: #800080\">/testbed/dir1/</span><span style=\"color: #ff00ff; text-decoration-color: #ff00ff\">textfile1.txt</span>\n",
       "\n",
       "</pre>\n"
      ],
      "text/plain": [
       "hi echo \u001b[32m\"Hello, World!\"\u001b[0m > \u001b[35m/testbed/dir1/\u001b[0m\u001b[95mtextfile1.txt\u001b[0m\n",
       "\n"
      ]
     },
     "metadata": {},
     "output_type": "display_data"
    },
    {
     "data": {
      "text/html": [
       "<pre style=\"white-space:pre;overflow-x:auto;line-height:normal;font-family:Menlo,'DejaVu Sans Mono',consolas,'Courier New',monospace\">hi echo <span style=\"color: #008000; text-decoration-color: #008000\">\"Another text file\"</span> &gt; <span style=\"color: #800080; text-decoration-color: #800080\">/testbed/dir2/subdir1/</span><span style=\"color: #ff00ff; text-decoration-color: #ff00ff\">textfile2.txt</span>\n",
       "\n",
       "</pre>\n"
      ],
      "text/plain": [
       "hi echo \u001b[32m\"Another text file\"\u001b[0m > \u001b[35m/testbed/dir2/subdir1/\u001b[0m\u001b[95mtextfile2.txt\u001b[0m\n",
       "\n"
      ]
     },
     "metadata": {},
     "output_type": "display_data"
    },
    {
     "data": {
      "text/html": [
       "<pre style=\"white-space:pre;overflow-x:auto;line-height:normal;font-family:Menlo,'DejaVu Sans Mono',consolas,'Courier New',monospace\">hi echo <span style=\"color: #008000; text-decoration-color: #008000\">\"Yet another text file\"</span> &gt; <span style=\"color: #800080; text-decoration-color: #800080\">/testbed/dir3/subdir1/subsubdir1/</span><span style=\"color: #ff00ff; text-decoration-color: #ff00ff\">textfile3.txt</span>\n",
       "\n",
       "</pre>\n"
      ],
      "text/plain": [
       "hi echo \u001b[32m\"Yet another text file\"\u001b[0m > \u001b[35m/testbed/dir3/subdir1/subsubdir1/\u001b[0m\u001b[95mtextfile3.txt\u001b[0m\n",
       "\n"
      ]
     },
     "metadata": {},
     "output_type": "display_data"
    },
    {
     "data": {
      "text/html": [
       "<pre style=\"white-space:pre;overflow-x:auto;line-height:normal;font-family:Menlo,'DejaVu Sans Mono',consolas,'Courier New',monospace\">hi echo <span style=\"color: #008000; text-decoration-color: #008000\">\"Text file 4\"</span> &gt; <span style=\"color: #800080; text-decoration-color: #800080\">/testbed/dir1/subdir1/</span><span style=\"color: #ff00ff; text-decoration-color: #ff00ff\">textfile4.txt</span>\n",
       "\n",
       "</pre>\n"
      ],
      "text/plain": [
       "hi echo \u001b[32m\"Text file 4\"\u001b[0m > \u001b[35m/testbed/dir1/subdir1/\u001b[0m\u001b[95mtextfile4.txt\u001b[0m\n",
       "\n"
      ]
     },
     "metadata": {},
     "output_type": "display_data"
    },
    {
     "data": {
      "text/html": [
       "<pre style=\"white-space:pre;overflow-x:auto;line-height:normal;font-family:Menlo,'DejaVu Sans Mono',consolas,'Courier New',monospace\">hi echo <span style=\"color: #008000; text-decoration-color: #008000\">\"Text file 5\"</span> &gt; <span style=\"color: #800080; text-decoration-color: #800080\">/testbed/dir2/subdir2/</span><span style=\"color: #ff00ff; text-decoration-color: #ff00ff\">textfile5.txt</span>\n",
       "\n",
       "</pre>\n"
      ],
      "text/plain": [
       "hi echo \u001b[32m\"Text file 5\"\u001b[0m > \u001b[35m/testbed/dir2/subdir2/\u001b[0m\u001b[95mtextfile5.txt\u001b[0m\n",
       "\n"
      ]
     },
     "metadata": {},
     "output_type": "display_data"
    },
    {
     "data": {
      "text/html": [
       "<pre style=\"white-space:pre;overflow-x:auto;line-height:normal;font-family:Menlo,'DejaVu Sans Mono',consolas,'Courier New',monospace\">hi echo <span style=\"color: #008000; text-decoration-color: #008000\">\"Text file 6\"</span> &gt; <span style=\"color: #800080; text-decoration-color: #800080\">/testbed/dir3/</span><span style=\"color: #ff00ff; text-decoration-color: #ff00ff\">textfile6.txt</span>\n",
       "\n",
       "</pre>\n"
      ],
      "text/plain": [
       "hi echo \u001b[32m\"Text file 6\"\u001b[0m > \u001b[35m/testbed/dir3/\u001b[0m\u001b[95mtextfile6.txt\u001b[0m\n",
       "\n"
      ]
     },
     "metadata": {},
     "output_type": "display_data"
    },
    {
     "data": {
      "text/html": [
       "<pre style=\"white-space:pre;overflow-x:auto;line-height:normal;font-family:Menlo,'DejaVu Sans Mono',consolas,'Courier New',monospace\">hi \n",
       "\n",
       "</pre>\n"
      ],
      "text/plain": [
       "hi \n",
       "\n"
      ]
     },
     "metadata": {},
     "output_type": "display_data"
    },
    {
     "data": {
      "text/html": [
       "<pre style=\"white-space:pre;overflow-x:auto;line-height:normal;font-family:Menlo,'DejaVu Sans Mono',consolas,'Courier New',monospace\">hi echo -e <span style=\"color: #008000; text-decoration-color: #008000\">\"#!/bin/sh\\necho 'Shell script 1'\"</span> &gt; <span style=\"color: #800080; text-decoration-color: #800080\">/testbed/dir1/subdir1/</span><span style=\"color: #ff00ff; text-decoration-color: #ff00ff\">shellscript1.sh</span>\n",
       "\n",
       "</pre>\n"
      ],
      "text/plain": [
       "hi echo -e \u001b[32m\"#!/bin/sh\\necho 'Shell script 1'\"\u001b[0m > \u001b[35m/testbed/dir1/subdir1/\u001b[0m\u001b[95mshellscript1.sh\u001b[0m\n",
       "\n"
      ]
     },
     "metadata": {},
     "output_type": "display_data"
    },
    {
     "data": {
      "text/html": [
       "<pre style=\"white-space:pre;overflow-x:auto;line-height:normal;font-family:Menlo,'DejaVu Sans Mono',consolas,'Courier New',monospace\">hi echo -e <span style=\"color: #008000; text-decoration-color: #008000\">\"#!/bin/sh\\necho 'Shell script 2'\"</span> &gt; <span style=\"color: #800080; text-decoration-color: #800080\">/testbed/dir2/</span><span style=\"color: #ff00ff; text-decoration-color: #ff00ff\">shellscript2.sh</span>\n",
       "\n",
       "</pre>\n"
      ],
      "text/plain": [
       "hi echo -e \u001b[32m\"#!/bin/sh\\necho 'Shell script 2'\"\u001b[0m > \u001b[35m/testbed/dir2/\u001b[0m\u001b[95mshellscript2.sh\u001b[0m\n",
       "\n"
      ]
     },
     "metadata": {},
     "output_type": "display_data"
    },
    {
     "data": {
      "text/html": [
       "<pre style=\"white-space:pre;overflow-x:auto;line-height:normal;font-family:Menlo,'DejaVu Sans Mono',consolas,'Courier New',monospace\">hi echo -e <span style=\"color: #008000; text-decoration-color: #008000\">\"#!/bin/sh\\necho 'Shell script 3'\"</span> &gt; <span style=\"color: #800080; text-decoration-color: #800080\">/testbed/dir3/subdir1/subsubdir1/</span><span style=\"color: #ff00ff; text-decoration-color: #ff00ff\">shellscript3.sh</span>\n",
       "\n",
       "</pre>\n"
      ],
      "text/plain": [
       "hi echo -e \u001b[32m\"#!/bin/sh\\necho 'Shell script 3'\"\u001b[0m > \u001b[35m/testbed/dir3/subdir1/subsubdir1/\u001b[0m\u001b[95mshellscript3.sh\u001b[0m\n",
       "\n"
      ]
     },
     "metadata": {},
     "output_type": "display_data"
    },
    {
     "data": {
      "text/html": [
       "<pre style=\"white-space:pre;overflow-x:auto;line-height:normal;font-family:Menlo,'DejaVu Sans Mono',consolas,'Courier New',monospace\">hi echo -e <span style=\"color: #008000; text-decoration-color: #008000\">\"#!/bin/sh\\necho 'Shell script 4'\"</span> &gt; <span style=\"color: #800080; text-decoration-color: #800080\">/testbed/dir1/subdir1/subsubdir1/</span><span style=\"color: #ff00ff; text-decoration-color: #ff00ff\">shellscript4.sh</span>\n",
       "\n",
       "</pre>\n"
      ],
      "text/plain": [
       "hi echo -e \u001b[32m\"#!/bin/sh\\necho 'Shell script 4'\"\u001b[0m > \u001b[35m/testbed/dir1/subdir1/subsubdir1/\u001b[0m\u001b[95mshellscript4.sh\u001b[0m\n",
       "\n"
      ]
     },
     "metadata": {},
     "output_type": "display_data"
    },
    {
     "data": {
      "text/html": [
       "<pre style=\"white-space:pre;overflow-x:auto;line-height:normal;font-family:Menlo,'DejaVu Sans Mono',consolas,'Courier New',monospace\">hi echo -e <span style=\"color: #008000; text-decoration-color: #008000\">\"#!/bin/sh\\necho 'Shell script 5'\"</span> &gt; <span style=\"color: #800080; text-decoration-color: #800080\">/testbed/dir2/subdir2/</span><span style=\"color: #ff00ff; text-decoration-color: #ff00ff\">shellscript5.sh</span>\n",
       "\n",
       "</pre>\n"
      ],
      "text/plain": [
       "hi echo -e \u001b[32m\"#!/bin/sh\\necho 'Shell script 5'\"\u001b[0m > \u001b[35m/testbed/dir2/subdir2/\u001b[0m\u001b[95mshellscript5.sh\u001b[0m\n",
       "\n"
      ]
     },
     "metadata": {},
     "output_type": "display_data"
    },
    {
     "data": {
      "text/html": [
       "<pre style=\"white-space:pre;overflow-x:auto;line-height:normal;font-family:Menlo,'DejaVu Sans Mono',consolas,'Courier New',monospace\">hi chmod +x <span style=\"color: #800080; text-decoration-color: #800080\">/testbed/dir1/subdir1/</span><span style=\"color: #ff00ff; text-decoration-color: #ff00ff\">shellscript1.sh</span>\n",
       "\n",
       "</pre>\n"
      ],
      "text/plain": [
       "hi chmod +x \u001b[35m/testbed/dir1/subdir1/\u001b[0m\u001b[95mshellscript1.sh\u001b[0m\n",
       "\n"
      ]
     },
     "metadata": {},
     "output_type": "display_data"
    },
    {
     "data": {
      "text/html": [
       "<pre style=\"white-space:pre;overflow-x:auto;line-height:normal;font-family:Menlo,'DejaVu Sans Mono',consolas,'Courier New',monospace\">hi chmod +x <span style=\"color: #800080; text-decoration-color: #800080\">/testbed/dir2/</span><span style=\"color: #ff00ff; text-decoration-color: #ff00ff\">shellscript2.sh</span>\n",
       "\n",
       "</pre>\n"
      ],
      "text/plain": [
       "hi chmod +x \u001b[35m/testbed/dir2/\u001b[0m\u001b[95mshellscript2.sh\u001b[0m\n",
       "\n"
      ]
     },
     "metadata": {},
     "output_type": "display_data"
    },
    {
     "data": {
      "text/html": [
       "<pre style=\"white-space:pre;overflow-x:auto;line-height:normal;font-family:Menlo,'DejaVu Sans Mono',consolas,'Courier New',monospace\">hi chmod +x <span style=\"color: #800080; text-decoration-color: #800080\">/testbed/dir3/subdir1/subsubdir1/</span><span style=\"color: #ff00ff; text-decoration-color: #ff00ff\">shellscript3.sh</span>\n",
       "\n",
       "</pre>\n"
      ],
      "text/plain": [
       "hi chmod +x \u001b[35m/testbed/dir3/subdir1/subsubdir1/\u001b[0m\u001b[95mshellscript3.sh\u001b[0m\n",
       "\n"
      ]
     },
     "metadata": {},
     "output_type": "display_data"
    },
    {
     "data": {
      "text/html": [
       "<pre style=\"white-space:pre;overflow-x:auto;line-height:normal;font-family:Menlo,'DejaVu Sans Mono',consolas,'Courier New',monospace\">hi chmod +x <span style=\"color: #800080; text-decoration-color: #800080\">/testbed/dir1/subdir1/subsubdir1/</span><span style=\"color: #ff00ff; text-decoration-color: #ff00ff\">shellscript4.sh</span>\n",
       "\n",
       "</pre>\n"
      ],
      "text/plain": [
       "hi chmod +x \u001b[35m/testbed/dir1/subdir1/subsubdir1/\u001b[0m\u001b[95mshellscript4.sh\u001b[0m\n",
       "\n"
      ]
     },
     "metadata": {},
     "output_type": "display_data"
    },
    {
     "data": {
      "text/html": [
       "<pre style=\"white-space:pre;overflow-x:auto;line-height:normal;font-family:Menlo,'DejaVu Sans Mono',consolas,'Courier New',monospace\">hi chmod +x <span style=\"color: #800080; text-decoration-color: #800080\">/testbed/dir2/subdir2/</span><span style=\"color: #ff00ff; text-decoration-color: #ff00ff\">shellscript5.sh</span>\n",
       "\n",
       "</pre>\n"
      ],
      "text/plain": [
       "hi chmod +x \u001b[35m/testbed/dir2/subdir2/\u001b[0m\u001b[95mshellscript5.sh\u001b[0m\n",
       "\n"
      ]
     },
     "metadata": {},
     "output_type": "display_data"
    },
    {
     "data": {
      "text/html": [
       "<pre style=\"white-space:pre;overflow-x:auto;line-height:normal;font-family:Menlo,'DejaVu Sans Mono',consolas,'Courier New',monospace\">hi \n",
       "\n",
       "</pre>\n"
      ],
      "text/plain": [
       "hi \n",
       "\n"
      ]
     },
     "metadata": {},
     "output_type": "display_data"
    },
    {
     "data": {
      "text/html": [
       "<pre style=\"white-space:pre;overflow-x:auto;line-height:normal;font-family:Menlo,'DejaVu Sans Mono',consolas,'Courier New',monospace\">hi echo -e <span style=\"color: #008000; text-decoration-color: #008000\">\"#!/usr/bin/env python3\\nprint('Python script 1')\"</span> &gt; <span style=\"color: #800080; text-decoration-color: #800080\">/testbed/dir1/subdir1/subsubdir1/</span><span style=\"color: #ff00ff; text-decoration-color: #ff00ff\">pythonscript1.py</span>\n",
       "\n",
       "</pre>\n"
      ],
      "text/plain": [
       "hi echo -e \u001b[32m\"#!/usr/bin/env python3\\nprint\u001b[0m\u001b[32m(\u001b[0m\u001b[32m'Python script 1'\u001b[0m\u001b[32m)\u001b[0m\u001b[32m\"\u001b[0m > \u001b[35m/testbed/dir1/subdir1/subsubdir1/\u001b[0m\u001b[95mpythonscript1.py\u001b[0m\n",
       "\n"
      ]
     },
     "metadata": {},
     "output_type": "display_data"
    },
    {
     "data": {
      "text/html": [
       "<pre style=\"white-space:pre;overflow-x:auto;line-height:normal;font-family:Menlo,'DejaVu Sans Mono',consolas,'Courier New',monospace\">hi echo -e <span style=\"color: #008000; text-decoration-color: #008000\">\"#!/usr/bin/env python3\\nprint('Python script 2')\"</span> &gt; <span style=\"color: #800080; text-decoration-color: #800080\">/testbed/dir2/subdir2/</span><span style=\"color: #ff00ff; text-decoration-color: #ff00ff\">pythonscript2.py</span>\n",
       "\n",
       "</pre>\n"
      ],
      "text/plain": [
       "hi echo -e \u001b[32m\"#!/usr/bin/env python3\\nprint\u001b[0m\u001b[32m(\u001b[0m\u001b[32m'Python script 2'\u001b[0m\u001b[32m)\u001b[0m\u001b[32m\"\u001b[0m > \u001b[35m/testbed/dir2/subdir2/\u001b[0m\u001b[95mpythonscript2.py\u001b[0m\n",
       "\n"
      ]
     },
     "metadata": {},
     "output_type": "display_data"
    },
    {
     "data": {
      "text/html": [
       "<pre style=\"white-space:pre;overflow-x:auto;line-height:normal;font-family:Menlo,'DejaVu Sans Mono',consolas,'Courier New',monospace\">hi echo -e <span style=\"color: #008000; text-decoration-color: #008000\">\"#!/usr/bin/env python3\\nprint('Python script 3')\"</span> &gt; <span style=\"color: #800080; text-decoration-color: #800080\">/testbed/dir3/subdir1/</span><span style=\"color: #ff00ff; text-decoration-color: #ff00ff\">pythonscript3.py</span>\n",
       "\n",
       "</pre>\n"
      ],
      "text/plain": [
       "hi echo -e \u001b[32m\"#!/usr/bin/env python3\\nprint\u001b[0m\u001b[32m(\u001b[0m\u001b[32m'Python script 3'\u001b[0m\u001b[32m)\u001b[0m\u001b[32m\"\u001b[0m > \u001b[35m/testbed/dir3/subdir1/\u001b[0m\u001b[95mpythonscript3.py\u001b[0m\n",
       "\n"
      ]
     },
     "metadata": {},
     "output_type": "display_data"
    },
    {
     "data": {
      "text/html": [
       "<pre style=\"white-space:pre;overflow-x:auto;line-height:normal;font-family:Menlo,'DejaVu Sans Mono',consolas,'Courier New',monospace\">hi echo -e <span style=\"color: #008000; text-decoration-color: #008000\">\"#!/usr/bin/env python3\\nprint('Python script 4')\"</span> &gt; <span style=\"color: #800080; text-decoration-color: #800080\">/testbed/dir1/subdir1/</span><span style=\"color: #ff00ff; text-decoration-color: #ff00ff\">pythonscript4.py</span>\n",
       "\n",
       "</pre>\n"
      ],
      "text/plain": [
       "hi echo -e \u001b[32m\"#!/usr/bin/env python3\\nprint\u001b[0m\u001b[32m(\u001b[0m\u001b[32m'Python script 4'\u001b[0m\u001b[32m)\u001b[0m\u001b[32m\"\u001b[0m > \u001b[35m/testbed/dir1/subdir1/\u001b[0m\u001b[95mpythonscript4.py\u001b[0m\n",
       "\n"
      ]
     },
     "metadata": {},
     "output_type": "display_data"
    },
    {
     "data": {
      "text/html": [
       "<pre style=\"white-space:pre;overflow-x:auto;line-height:normal;font-family:Menlo,'DejaVu Sans Mono',consolas,'Courier New',monospace\">hi chmod +x <span style=\"color: #800080; text-decoration-color: #800080\">/testbed/dir1/subdir1/subsubdir1/</span><span style=\"color: #ff00ff; text-decoration-color: #ff00ff\">pythonscript1.py</span>\n",
       "\n",
       "</pre>\n"
      ],
      "text/plain": [
       "hi chmod +x \u001b[35m/testbed/dir1/subdir1/subsubdir1/\u001b[0m\u001b[95mpythonscript1.py\u001b[0m\n",
       "\n"
      ]
     },
     "metadata": {},
     "output_type": "display_data"
    },
    {
     "data": {
      "text/html": [
       "<pre style=\"white-space:pre;overflow-x:auto;line-height:normal;font-family:Menlo,'DejaVu Sans Mono',consolas,'Courier New',monospace\">hi chmod +x <span style=\"color: #800080; text-decoration-color: #800080\">/testbed/dir2/subdir2/</span><span style=\"color: #ff00ff; text-decoration-color: #ff00ff\">pythonscript2.py</span>\n",
       "\n",
       "</pre>\n"
      ],
      "text/plain": [
       "hi chmod +x \u001b[35m/testbed/dir2/subdir2/\u001b[0m\u001b[95mpythonscript2.py\u001b[0m\n",
       "\n"
      ]
     },
     "metadata": {},
     "output_type": "display_data"
    },
    {
     "data": {
      "text/html": [
       "<pre style=\"white-space:pre;overflow-x:auto;line-height:normal;font-family:Menlo,'DejaVu Sans Mono',consolas,'Courier New',monospace\">hi chmod +x <span style=\"color: #800080; text-decoration-color: #800080\">/testbed/dir3/subdir1/</span><span style=\"color: #ff00ff; text-decoration-color: #ff00ff\">pythonscript3.py</span>\n",
       "\n",
       "</pre>\n"
      ],
      "text/plain": [
       "hi chmod +x \u001b[35m/testbed/dir3/subdir1/\u001b[0m\u001b[95mpythonscript3.py\u001b[0m\n",
       "\n"
      ]
     },
     "metadata": {},
     "output_type": "display_data"
    },
    {
     "data": {
      "text/html": [
       "<pre style=\"white-space:pre;overflow-x:auto;line-height:normal;font-family:Menlo,'DejaVu Sans Mono',consolas,'Courier New',monospace\">hi chmod +x <span style=\"color: #800080; text-decoration-color: #800080\">/testbed/dir1/subdir1/</span><span style=\"color: #ff00ff; text-decoration-color: #ff00ff\">pythonscript4.py</span>\n",
       "\n",
       "</pre>\n"
      ],
      "text/plain": [
       "hi chmod +x \u001b[35m/testbed/dir1/subdir1/\u001b[0m\u001b[95mpythonscript4.py\u001b[0m\n",
       "\n"
      ]
     },
     "metadata": {},
     "output_type": "display_data"
    },
    {
     "data": {
      "text/html": [
       "<pre style=\"white-space:pre;overflow-x:auto;line-height:normal;font-family:Menlo,'DejaVu Sans Mono',consolas,'Courier New',monospace\">hi \n",
       "\n",
       "</pre>\n"
      ],
      "text/plain": [
       "hi \n",
       "\n"
      ]
     },
     "metadata": {},
     "output_type": "display_data"
    },
    {
     "data": {
      "text/html": [
       "<pre style=\"white-space:pre;overflow-x:auto;line-height:normal;font-family:Menlo,'DejaVu Sans Mono',consolas,'Courier New',monospace\">hi echo -e <span style=\"color: #008000; text-decoration-color: #008000\">'{\\n  \"key1\": \"value1\",\\n  \"key2\": \"value2\",\\n  \"key3\": \"value3\"\\n}'</span> &gt; \n",
       "<span style=\"color: #800080; text-decoration-color: #800080\">/testbed/dir1/subdir1/</span><span style=\"color: #ff00ff; text-decoration-color: #ff00ff\">jsonfile1.json</span>\n",
       "\n",
       "</pre>\n"
      ],
      "text/plain": [
       "hi echo -e \u001b[32m'\u001b[0m\u001b[32m{\u001b[0m\u001b[32m\\n  \"key1\": \"value1\",\\n  \"key2\": \"value2\",\\n  \"key3\": \"value3\"\\n\u001b[0m\u001b[32m}\u001b[0m\u001b[32m'\u001b[0m > \n",
       "\u001b[35m/testbed/dir1/subdir1/\u001b[0m\u001b[95mjsonfile1.json\u001b[0m\n",
       "\n"
      ]
     },
     "metadata": {},
     "output_type": "display_data"
    },
    {
     "data": {
      "text/html": [
       "<pre style=\"white-space:pre;overflow-x:auto;line-height:normal;font-family:Menlo,'DejaVu Sans Mono',consolas,'Courier New',monospace\">hi echo -e <span style=\"color: #008000; text-decoration-color: #008000\">'column1,column2,column3\\nvalue1,value2,value3\\nvalue4,value5,value6'</span> &gt; \n",
       "<span style=\"color: #800080; text-decoration-color: #800080\">/testbed/dir3/subdir2/</span><span style=\"color: #ff00ff; text-decoration-color: #ff00ff\">csvfile1.csv</span>\n",
       "</pre>\n"
      ],
      "text/plain": [
       "hi echo -e \u001b[32m'column1,column2,column3\\nvalue1,value2,value3\\nvalue4,value5,value6'\u001b[0m > \n",
       "\u001b[35m/testbed/dir3/subdir2/\u001b[0m\u001b[95mcsvfile1.csv\u001b[0m\n"
      ]
     },
     "metadata": {},
     "output_type": "display_data"
    }
   ],
   "source": [
    "f = open(\"/Users/johnyang/Desktop/Research/intercode/bash/setup.sh\", \"r\")\n",
    "for line in f.readlines():\n",
    "    print(\"hi\", line)"
   ]
  },
  {
   "cell_type": "code",
   "execution_count": 10,
   "id": "a611b19b",
   "metadata": {},
   "outputs": [
    {
     "name": "stdout",
     "output_type": "stream",
     "text": [
      "docker.ipynb     playground.ipynb\r\n"
     ]
    }
   ],
   "source": [
    "!ls"
   ]
  },
  {
   "cell_type": "markdown",
   "id": "ce1ac39e",
   "metadata": {},
   "source": [
    "### Playing with Sockets"
   ]
  },
  {
   "cell_type": "code",
   "execution_count": 65,
   "id": "9e104f30",
   "metadata": {},
   "outputs": [],
   "source": [
    "_, socket_agent = container_agent.exec_run(\n",
    "    cmd=CONTAINER_START_CMD, stdin=True, tty=True, stream=True, socket=True)"
   ]
  },
  {
   "cell_type": "code",
   "execution_count": 68,
   "id": "3301b849",
   "metadata": {},
   "outputs": [
    {
     "name": "stdout",
     "output_type": "stream",
     "text": [
      "sleep 2; echo \"hi\"\r\n",
      "\u001b[?2004l\r\n",
      "-----\n"
     ]
    }
   ],
   "source": [
    "actions = ['pwd', 'touch hello.txt', 'ls', 'mkdir folder1', 'mkdir -p folder3/folder4/file2.txt' 'mkdir folder2', 'rm -rf folder2']\n",
    "actions = ['sleep 2; echo \\\"hi\\\"']\n",
    "for action in actions:\n",
    "    socket_agent._sock.send(action.encode('utf-8') + b\"\\n\")\n",
    "    time.sleep(0.5)\n",
    "    output = socket_agent._sock.recv(100000).decode(\"utf-8\")\n",
    "    print(f\"{output}\\n-----\")"
   ]
  },
  {
   "cell_type": "markdown",
   "id": "582ee439",
   "metadata": {},
   "source": [
    "### Playing with container `diff`"
   ]
  },
  {
   "cell_type": "code",
   "execution_count": 67,
   "id": "5b445fac",
   "metadata": {},
   "outputs": [
    {
     "name": "stdout",
     "output_type": "stream",
     "text": [
      "/folder1 1\n",
      "/folder3 1\n",
      "/folder3/folder4 1\n",
      "/folder3/folder4/file2.txtmkdir 1\n",
      "/hello.txt 1\n"
     ]
    }
   ],
   "source": [
    "changes = container_agent.diff()\n",
    "if changes and len(changes) > 0:\n",
    "    for change in changes:\n",
    "        print(change['Path'], change['Kind'])\n",
    "else:\n",
    "    print(\"No changes\")"
   ]
  },
  {
   "cell_type": "code",
   "execution_count": 87,
   "id": "e2bba3f5",
   "metadata": {},
   "outputs": [
    {
     "data": {
      "text/plain": [
       "['/hello.txt - 1',\n",
       " '/folder3 - 1',\n",
       " '/folder3/folder4 - 1',\n",
       " '/folder3/folder4/file2.txtmkdir - 1',\n",
       " '/folder1 - 1']"
      ]
     },
     "execution_count": 87,
     "metadata": {},
     "output_type": "execute_result"
    }
   ],
   "source": [
    "changes = [f\"{x['Path']} - {x['Kind']}\" for x in container_agent.diff()]\n",
    "changes"
   ]
  },
  {
   "cell_type": "code",
   "execution_count": 91,
   "id": "d4693810",
   "metadata": {},
   "outputs": [
    {
     "data": {
      "text/plain": [
       "['/hello.txt - 1', '/folder1 - 1', '/folder3 - 1']"
      ]
     },
     "execution_count": 91,
     "metadata": {},
     "output_type": "execute_result"
    }
   ],
   "source": [
    "copy = container_agent.diff()[:3]\n",
    "changes_2 = [f\"{x['Path']} - {x['Kind']}\" for x in copy]\n",
    "changes_2"
   ]
  },
  {
   "cell_type": "code",
   "execution_count": 93,
   "id": "bc215bbe",
   "metadata": {},
   "outputs": [
    {
     "data": {
      "text/plain": [
       "set()"
      ]
     },
     "execution_count": 93,
     "metadata": {},
     "output_type": "execute_result"
    }
   ],
   "source": [
    "set(changes_2) - set(changes)"
   ]
  },
  {
   "cell_type": "code",
   "execution_count": 94,
   "id": "18526fa7",
   "metadata": {},
   "outputs": [
    {
     "data": {
      "text/plain": [
       "{'/folder3/folder4 - 1', '/folder3/folder4/file2.txtmkdir - 1'}"
      ]
     },
     "execution_count": 94,
     "metadata": {},
     "output_type": "execute_result"
    }
   ],
   "source": [
    "set(changes) - set(changes_2)"
   ]
  },
  {
   "cell_type": "code",
   "execution_count": null,
   "id": "d72c893d",
   "metadata": {},
   "outputs": [],
   "source": []
  }
 ],
 "metadata": {
  "kernelspec": {
   "display_name": "Python 3 (ipykernel)",
   "language": "python",
   "name": "python3"
  },
  "language_info": {
   "codemirror_mode": {
    "name": "ipython",
    "version": 3
   },
   "file_extension": ".py",
   "mimetype": "text/x-python",
   "name": "python",
   "nbconvert_exporter": "python",
   "pygments_lexer": "ipython3",
   "version": "3.7.11"
  }
 },
 "nbformat": 4,
 "nbformat_minor": 5
}
