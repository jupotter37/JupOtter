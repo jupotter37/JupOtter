{
 "metadata": {
  "language_info": {
   "codemirror_mode": {
    "name": "ipython",
    "version": 3
   },
   "file_extension": ".py",
   "mimetype": "text/x-python",
   "name": "python",
   "nbconvert_exporter": "python",
   "pygments_lexer": "ipython3",
   "version": "3.8.6-final"
  },
  "orig_nbformat": 2,
  "kernelspec": {
   "name": "python3",
   "display_name": "Python 3",
   "language": "python"
  }
 },
 "nbformat": 4,
 "nbformat_minor": 2,
 "cells": [
  {
   "source": [
    "# Deep Learning Course - LAB 1\n",
    "\n",
    "## Intro to PyTorch\n",
    "\n",
    "PyTorch (PT) is a Python (and C++) library for Machine Learning (ML) particularly suited for Neural Networks and their applications.\n",
    "\n",
    "Its great selection of built-in modules, models, functions, CUDA capability, tensor arithmetic support and automatic differentiation functionality make it one of the most used scientific libraries for Deep Learning.\n",
    "\n",
    "Note: for this series of labs, we advise to install Python >= 3.7"
   ],
   "cell_type": "markdown",
   "metadata": {}
  },
  {
   "source": [
    "### Installing PyTorch\n",
    "\n",
    "We advise to install PyTorch following the directions given in its [home page](https://pytorch.org/get-started/locally/). Just typing `pip install torch` may not be the correct action as you have to take into account the compatibility with `cuda`. If you have `cuda` installed, you can find your version by typing `nvcc --version` in a terminal (Linux/iOS). \n",
    "\n",
    "If you're using Windows, we first suggest first to install Anaconda and then install PyTorch from the `anaconda prompt` software via `conda` (preferably) or `pip`.\n",
    "\n",
    "If you're using Google Colab, all the libraries needed to follow this lecture should be pre-installed there.\n",
    "\n",
    "We see now how to operate on Colab."
   ],
   "cell_type": "markdown",
   "metadata": {}
  },
  {
   "source": [
    "### For Colab users\n",
    "\n",
    "Google Colab is a handy tool that we suggest you use for this course---especially if your laptop does not support CUDA or has limited hardware capabilities. Anyway, note that **we'll try to avoid GPU code as much as possible**.\n",
    "\n",
    "Essentially, Colab renders available to you a virtual machine with a limited hardware capability and disk where you can execute your code inside a given time window. You can even ask for a GPU (if you use it too much you'll need to start waiting a lot before it's available though)."
   ],
   "cell_type": "markdown",
   "metadata": {}
  },
  {
   "source": [
    "#### Your (maybe) first Colab commands\n",
    "\n",
    "Colab Jupyter-style notebook interface with a few tweaks.\n",
    "\n",
    "For instance, you may run (some) bash command from here prepending `!` to your code."
   ],
   "cell_type": "markdown",
   "metadata": {}
  },
  {
   "cell_type": "code",
   "execution_count": null,
   "metadata": {},
   "outputs": [],
   "source": [
    "!ls"
   ]
  },
  {
   "cell_type": "code",
   "execution_count": null,
   "metadata": {},
   "outputs": [],
   "source": [
    "!pwd"
   ]
  },
  {
   "cell_type": "code",
   "execution_count": null,
   "metadata": {},
   "outputs": [],
   "source": [
    "!git clone https://github.com/mnzluca/IntroToAI"
   ]
  },
  {
   "source": [
    "This makes it very easy to operate your virtual machine without the need for a terminal. "
   ],
   "cell_type": "markdown",
   "metadata": {}
  },
  {
   "source": [
    "#### File transfer on Colab\n",
    "\n",
    "One of the most intricate action in Colab is file transfer. Since your files reside on the virtual machine, there're two main ways to operate file transfer on Colab.\n",
    "\n",
    "* `files.download()` / `.upload()`"
   ],
   "cell_type": "markdown",
   "metadata": {}
  },
  {
   "cell_type": "code",
   "execution_count": null,
   "metadata": {},
   "outputs": [],
   "source": [
    "from google.colab import files\n",
    "files.upload()"
   ]
  },
  {
   "cell_type": "code",
   "execution_count": null,
   "metadata": {},
   "outputs": [],
   "source": [
    "files.download(\"sample_data/README.md\")"
   ]
  },
  {
   "source": [
    "Although it may be much more handy to connect your Google Drive to Colab. Here is a snippet that lets you do this."
   ],
   "cell_type": "markdown",
   "metadata": {}
  },
  {
   "cell_type": "code",
   "execution_count": null,
   "metadata": {},
   "outputs": [],
   "source": [
    "from google.colab import drive\n",
    "\n",
    "folder_mount = '/content/drive' # Your Drive will be mounted on top of this path\n",
    "\n",
    "drive.mount(folder_mount)"
   ]
  },
  {
   "source": [
    "### Dive into PyTorch - connections with NumPy\n",
    "\n",
    "Like NumPy, PyTorch provides its own multidimensional array class, called `Tensor`. `Tensor`s are essentially the equivalent of NumPy `ndarray`s.\n",
    "If we wish to operate a very superficial comparison between `Tensor` and `ndarray`, we can say that:\n",
    "* `Tensor` draws a lot of methods from NumPy, although it's missing some (see [this GitHub issue](if you're interested))\n",
    "* `Tensor` is more OO than `ndarray` and solves some inconsistencies within NumPy\n",
    "* `Tensor` has CUDA support"
   ],
   "cell_type": "markdown",
   "metadata": {}
  },
  {
   "cell_type": "code",
   "execution_count": 1,
   "metadata": {},
   "outputs": [
    {
     "output_type": "stream",
     "name": "stdout",
     "text": [
      "x\ntensor([[1., 5., 4.],\n        [3., 2., 1.]])\n\n\ny\n[[1 5 4]\n [3 2 1]]\n\n\n"
     ]
    }
   ],
   "source": [
    "import torch\n",
    "import numpy as np\n",
    "\n",
    "# create custom Tensor and ndarray\n",
    "x = torch.Tensor([[1,5,4],[3,2,1]])\n",
    "y = np.array([[1,5,4],[3,2,1]])\n",
    "\n",
    "def pretty_print(obj, title=None):\n",
    "    if title is not None:\n",
    "        print(title)\n",
    "    print(obj)\n",
    "    print(\"\\n\")\n",
    "\n",
    "pretty_print(x, \"x\")\n",
    "pretty_print(y, \"y\")"
   ]
  },
  {
   "source": [
    "What are the types of these objs?"
   ],
   "cell_type": "markdown",
   "metadata": {}
  },
  {
   "cell_type": "code",
   "execution_count": 3,
   "metadata": {},
   "outputs": [
    {
     "output_type": "execute_result",
     "data": {
      "text/plain": [
       "(torch.float32, dtype('int64'))"
      ]
     },
     "metadata": {},
     "execution_count": 3
    }
   ],
   "source": [
    "x.dtype, y.dtype"
   ]
  },
  {
   "source": [
    "`torch` already thinks with Machine Learning in mind as the `Tensor` is implicitly converted to `dtype float32`, while NumPy makes no such assumption.\n",
    "\n",
    "For more info on `Tensor` data types, please check the beginning of [this page](https://pytorch.org/docs/stable/tensors.html).\n",
    "\n",
    "As in NumPy, we can call the `.shape` attribute to get the shape of the structures. Moreover, `Tensor`s have also the `.size()` method which is analogous to `.shape`."
   ],
   "cell_type": "markdown",
   "metadata": {}
  },
  {
   "cell_type": "code",
   "execution_count": 4,
   "metadata": {},
   "outputs": [
    {
     "output_type": "execute_result",
     "data": {
      "text/plain": [
       "(torch.Size([2, 3]), (2, 3), torch.Size([2, 3]))"
      ]
     },
     "metadata": {},
     "execution_count": 4
    }
   ],
   "source": [
    "x.shape, y.shape, x.size()"
   ]
  },
  {
   "source": [
    "Notice how a `Tensor` shape is **not** a tuple.\n",
    "\n",
    "We can also create a random `Tensor` analogously to NumPy.\n",
    "\n",
    "A `2 × 3 × 3` `Tensor` is the same as saying \"2 3 × 3 matrices\", or a \"cubic matrix\"\n",
    "\n",
    "![](img/tensors.jpg)"
   ],
   "cell_type": "markdown",
   "metadata": {}
  },
  {
   "cell_type": "code",
   "execution_count": 5,
   "metadata": {},
   "outputs": [
    {
     "output_type": "execute_result",
     "data": {
      "text/plain": [
       "tensor([[[0.1979, 0.0354, 0.2890],\n",
       "         [0.3130, 0.3351, 0.0798],\n",
       "         [0.6230, 0.0044, 0.2463]],\n",
       "\n",
       "        [[0.9191, 0.7643, 0.5969],\n",
       "         [0.1360, 0.1418, 0.9200],\n",
       "         [0.1939, 0.3518, 0.6723]]])"
      ]
     },
     "metadata": {},
     "execution_count": 5
    }
   ],
   "source": [
    "x = torch.rand([2, 3, 3])\n",
    "x"
   ]
  },
  {
   "cell_type": "code",
   "execution_count": 6,
   "metadata": {},
   "outputs": [
    {
     "output_type": "execute_result",
     "data": {
      "text/plain": [
       "array([[[0.14960837, 0.0575751 , 0.14201719],\n",
       "        [0.10672149, 0.17704619, 0.24056053],\n",
       "        [0.73694955, 0.67954417, 0.29276477]],\n",
       "\n",
       "       [[0.25848376, 0.59991603, 0.72930109],\n",
       "        [0.61297739, 0.72617984, 0.95106057],\n",
       "        [0.93104396, 0.20183704, 0.29100071]]])"
      ]
     },
     "metadata": {},
     "execution_count": 6
    }
   ],
   "source": [
    "y = np.random.rand(2, 3, 3)\n",
    "y"
   ]
  },
  {
   "source": [
    "We can get the total number of elements in a `Tensor` via the `numel()` method"
   ],
   "cell_type": "markdown",
   "metadata": {}
  },
  {
   "cell_type": "code",
   "execution_count": 7,
   "metadata": {},
   "outputs": [
    {
     "output_type": "execute_result",
     "data": {
      "text/plain": [
       "18"
      ]
     },
     "metadata": {},
     "execution_count": 7
    }
   ],
   "source": [
    "x.numel()"
   ]
  },
  {
   "source": [
    "We can get the memory occupied by each element of a `Tensor` via `element_size()`"
   ],
   "cell_type": "markdown",
   "metadata": {}
  },
  {
   "cell_type": "code",
   "execution_count": 8,
   "metadata": {},
   "outputs": [
    {
     "output_type": "execute_result",
     "data": {
      "text/plain": [
       "4"
      ]
     },
     "metadata": {},
     "execution_count": 8
    }
   ],
   "source": [
    "x.element_size()"
   ]
  },
  {
   "source": [
    "Hence, we can quickly calculate the size of the `Tensor` within the RAM"
   ],
   "cell_type": "markdown",
   "metadata": {}
  },
  {
   "cell_type": "code",
   "execution_count": 9,
   "metadata": {},
   "outputs": [
    {
     "output_type": "execute_result",
     "data": {
      "text/plain": [
       "72"
      ]
     },
     "metadata": {},
     "execution_count": 9
    }
   ],
   "source": [
    "x.numel() * x.element_size()"
   ]
  },
  {
   "source": [
    "#### Slicing a `Tensor`\n",
    "\n",
    "You can slice a `Tensor` (*i.e.*, extract a substructure of a `Tensor`) as in NumPy using the square brackets:"
   ],
   "cell_type": "markdown",
   "metadata": {}
  },
  {
   "cell_type": "code",
   "execution_count": 10,
   "metadata": {},
   "outputs": [
    {
     "output_type": "stream",
     "name": "stdout",
     "text": [
      "Slice first element (x[0])\ntensor([[0.1979, 0.0354, 0.2890],\n        [0.3130, 0.3351, 0.0798],\n        [0.6230, 0.0044, 0.2463]])\n\n\nSlice element at (1, 2, 0) (x[1, 2, 0])\ntensor(0.1939)\n\n\nSlice first element of second dim (x[:, 0])\ntensor([[0.1979, 0.0354, 0.2890],\n        [0.9191, 0.7643, 0.5969]])\n\n\nAs above (x[:, 0] equivalent to x[:, 0, :])\ntensor([[0.1979, 0.0354, 0.2890],\n        [0.9191, 0.7643, 0.5969]])\n\n\nSlice first and second el of third dim (x[:, :, 0:2])\ntensor([[[0.1979, 0.0354],\n         [0.3130, 0.3351],\n         [0.6230, 0.0044]],\n\n        [[0.9191, 0.7643],\n         [0.1360, 0.1418],\n         [0.1939, 0.3518]]])\n\n\nAs above (x[:, :, 0:2] equivalent to x[:, :, (0, 1)])\ntensor([[[0.1979, 0.0354],\n         [0.3130, 0.3351],\n         [0.6230, 0.0044]],\n\n        [[0.9191, 0.7643],\n         [0.1360, 0.1418],\n         [0.1939, 0.3518]]])\n\n\n"
     ]
    }
   ],
   "source": [
    "# extract first element (i.e., matrix) of first dimension\n",
    "pretty_print(x[0], \"Slice first element (x[0])\")\n",
    "\n",
    "# extract a specific element\n",
    "pretty_print(x[1,2,0], \"Slice element at (1, 2, 0) (x[1, 2, 0])\")\n",
    "\n",
    "# extract first element of second dimension (\":\" means all the elements of the given dim)\n",
    "pretty_print(x[:, 0], \"Slice first element of second dim (x[:, 0])\")\n",
    "\n",
    "# note that it is equivalent to\n",
    "pretty_print(x[:, 0, :], \"As above (x[:, 0] equivalent to x[:, 0, :])\")\n",
    "\n",
    "# extract range of dimensions (first and second element of third dim) \n",
    "pretty_print(x[:, :, 0:2], \"Slice first and second el of third dim (x[:, :, 0:2])\")\n",
    "\n",
    "# note that it is equivalent to (i.e., you can also pass list for slicing, as opposed to Py vanilla lists/tuples)\n",
    "pretty_print(x[:, :, (0, 1)], \"As above (x[:, :, 0:2] equivalent to x[:, :, (0, 1)])\")"
   ]
  },
  {
   "source": [
    "In Py, you can also slice any list by interval via the \"double colon\" notation `::` (`from`:`to - 1`:`step`). Note that `::3` means \"take all elements of the object by step of 3 starting from 0 until the list ends\"."
   ],
   "cell_type": "markdown",
   "metadata": {}
  },
  {
   "cell_type": "code",
   "execution_count": null,
   "metadata": {},
   "outputs": [],
   "source": [
    "torch.range(0, 10)[0:7:3]"
   ]
  },
  {
   "source": [
    "#### `Tensor` supports linear algebra"
   ],
   "cell_type": "markdown",
   "metadata": {}
  },
  {
   "cell_type": "code",
   "execution_count": 11,
   "metadata": {},
   "outputs": [
    {
     "output_type": "stream",
     "name": "stdout",
     "text": [
      "z1\nshape torch.Size([4, 5])\ntensor([[0.2751, 0.6537, 0.4259, 0.5092, 0.4803],\n        [0.6530, 0.8824, 0.5237, 0.1732, 0.1353],\n        [0.0223, 0.8833, 0.6441, 0.5998, 0.6388],\n        [0.3315, 0.0546, 0.5148, 0.9451, 0.9886]])\n\nz2\nshape torch.Size([5, 4])\ntensor([[0.2751, 0.6530, 0.0223, 0.3315],\n        [0.6537, 0.8824, 0.8833, 0.0546],\n        [0.4259, 0.5237, 0.6441, 0.5148],\n        [0.5092, 0.1732, 0.5998, 0.9451],\n        [0.4803, 0.1353, 0.6388, 0.9886]])\n"
     ]
    }
   ],
   "source": [
    "z1 = torch.rand([4, 5])\n",
    "print(\"z1\")\n",
    "print(\"shape\", z1.shape)\n",
    "print(z1)\n",
    "\n",
    "# transposition\n",
    "z2 = z1.T\n",
    "\n",
    "print(\"\\nz2\")\n",
    "print(\"shape\", z2.shape)\n",
    "print(z2)"
   ]
  },
  {
   "cell_type": "code",
   "execution_count": 12,
   "metadata": {},
   "outputs": [
    {
     "output_type": "stream",
     "name": "stdout",
     "text": [
      "Matrix multiplication: with '@'\ntensor([[1.1745, 1.1327, 1.4702, 1.3022],\n        [1.1327, 1.5276, 1.3216, 0.8317],\n        [1.4702, 1.3216, 1.9634, 1.5856],\n        [1.3022, 0.8317, 1.5856, 2.2484]])\n\n\nMatrix multiplication: with torch.matmul\ntensor([[1.1745, 1.1327, 1.4702, 1.3022],\n        [1.1327, 1.5276, 1.3216, 0.8317],\n        [1.4702, 1.3216, 1.9634, 1.5856],\n        [1.3022, 0.8317, 1.5856, 2.2484]])\n\n\nMatrix multiplication: with Tensor.matmul\ntensor([[1.1745, 1.1327, 1.4702, 1.3022],\n        [1.1327, 1.5276, 1.3216, 0.8317],\n        [1.4702, 1.3216, 1.9634, 1.5856],\n        [1.3022, 0.8317, 1.5856, 2.2484]])\n\n\n"
     ]
    }
   ],
   "source": [
    "# matrix multiplication\n",
    "pretty_print(z1 @ z2, \"Matrix multiplication: with '@'\")\n",
    "\n",
    "# equivalent to\n",
    "pretty_print(torch.matmul(z1, z2), \"Matrix multiplication: with torch.matmul\")\n",
    "\n",
    "# and also\n",
    "pretty_print(z1.matmul(z2), \"Matrix multiplication: with Tensor.matmul\")"
   ]
  },
  {
   "source": [
    "Note that `@` identifies the matrix product.\n",
    "\n",
    "Don't mistake `@` and `*` as the latter is the Hadamard (element-by-element) product!"
   ],
   "cell_type": "markdown",
   "metadata": {}
  },
  {
   "source": [
    "#### Question: is it possible to do scalar product between vectors?\n",
    "\n",
    "Note: the scalar product is also called [inner or dot or projection product](https://en.wikipedia.org/wiki/Dot_product).\n",
    "\n",
    "Like we have seen with matrices, we can proceed as follows for vectors:"
   ],
   "cell_type": "markdown",
   "metadata": {}
  },
  {
   "cell_type": "code",
   "execution_count": 20,
   "metadata": {},
   "outputs": [
    {
     "output_type": "stream",
     "name": "stdout",
     "text": [
      "vec1\ntensor([0.0517, 0.9706, 0.9280, 0.9003, 0.9078])\n\n\nvec2\ntensor([0.2240, 0.2746, 0.1598, 0.1357, 0.5763])\n\n\nI can use '@' even if the two vectors aren't conformable (i.e. both colum or row vectors\ntensor(1.0718)\n\n\nThis is the 'classical' inner product between row and column vector -- Notice the dim of the output\ntensor([[1.0718]])\n\n\nNotice that the same result can be achieved via the `matmul` method of torch -- as we have seen, it's the inner product\ntensor(1.0718)\n\n\n...and also via torch.dot\ntensor(1.0718)\n\n\n"
     ]
    }
   ],
   "source": [
    "vec1 = torch.rand((5,))\n",
    "vec2 = torch.rand((5,))\n",
    "\n",
    "pretty_print(vec1, \"vec1\")\n",
    "pretty_print(vec2, \"vec2\")\n",
    "\n",
    "pretty_print(vec1 @ vec2, \"I can use '@' even if the two vectors aren't conformable (i.e. both colum or row vectors\")\n",
    "\n",
    "pretty_print(vec1.unsqueeze(0) @ vec2.unsqueeze(-1), \"This is the 'classical' inner product between row and column vector -- Notice the dim of the output\")\n",
    "\n",
    "pretty_print(torch.matmul(vec1, vec2), \"Notice that the same result can be achieved via the `matmul` method of torch -- as we have seen, it's the inner product\")\n",
    "\n",
    "pretty_print(torch.dot(vec1, vec2), \"...and also via torch.dot\")"
   ]
  },
  {
   "cell_type": "code",
   "execution_count": 19,
   "metadata": {},
   "outputs": [
    {
     "output_type": "error",
     "ename": "RuntimeError",
     "evalue": "1D tensors expected, but got 2D and 2D tensors",
     "traceback": [
      "\u001b[0;31m---------------------------------------------------------------------------\u001b[0m",
      "\u001b[0;31mRuntimeError\u001b[0m                              Traceback (most recent call last)",
      "\u001b[0;32m<ipython-input-19-2924219380b7>\u001b[0m in \u001b[0;36m<module>\u001b[0;34m\u001b[0m\n\u001b[1;32m      1\u001b[0m \u001b[0;31m# dot works only with vectors!\u001b[0m\u001b[0;34m\u001b[0m\u001b[0;34m\u001b[0m\u001b[0;34m\u001b[0m\u001b[0m\n\u001b[0;32m----> 2\u001b[0;31m \u001b[0mtorch\u001b[0m\u001b[0;34m.\u001b[0m\u001b[0mdot\u001b[0m\u001b[0;34m(\u001b[0m\u001b[0mtorch\u001b[0m\u001b[0;34m.\u001b[0m\u001b[0mrand\u001b[0m\u001b[0;34m(\u001b[0m\u001b[0;34m(\u001b[0m\u001b[0;36m3\u001b[0m\u001b[0;34m,\u001b[0m\u001b[0;36m4\u001b[0m\u001b[0;34m)\u001b[0m\u001b[0;34m)\u001b[0m\u001b[0;34m,\u001b[0m \u001b[0mtorch\u001b[0m\u001b[0;34m.\u001b[0m\u001b[0mrand\u001b[0m\u001b[0;34m(\u001b[0m\u001b[0;36m4\u001b[0m\u001b[0;34m,\u001b[0m\u001b[0;36m3\u001b[0m\u001b[0;34m)\u001b[0m\u001b[0;34m)\u001b[0m\u001b[0;34m\u001b[0m\u001b[0;34m\u001b[0m\u001b[0m\n\u001b[0m\u001b[1;32m      3\u001b[0m \u001b[0;34m\u001b[0m\u001b[0m\n\u001b[1;32m      4\u001b[0m \u001b[0;31m# do this instead!\u001b[0m\u001b[0;34m\u001b[0m\u001b[0;34m\u001b[0m\u001b[0;34m\u001b[0m\u001b[0m\n\u001b[1;32m      5\u001b[0m \u001b[0mtorch\u001b[0m\u001b[0;34m.\u001b[0m\u001b[0mmatmul\u001b[0m\u001b[0;34m(\u001b[0m\u001b[0mtorch\u001b[0m\u001b[0;34m.\u001b[0m\u001b[0mrand\u001b[0m\u001b[0;34m(\u001b[0m\u001b[0;34m(\u001b[0m\u001b[0;36m3\u001b[0m\u001b[0;34m,\u001b[0m\u001b[0;36m4\u001b[0m\u001b[0;34m)\u001b[0m\u001b[0;34m)\u001b[0m\u001b[0;34m,\u001b[0m \u001b[0mtorch\u001b[0m\u001b[0;34m.\u001b[0m\u001b[0mrand\u001b[0m\u001b[0;34m(\u001b[0m\u001b[0;36m4\u001b[0m\u001b[0;34m,\u001b[0m\u001b[0;36m3\u001b[0m\u001b[0;34m)\u001b[0m\u001b[0;34m)\u001b[0m\u001b[0;34m\u001b[0m\u001b[0;34m\u001b[0m\u001b[0m\n",
      "\u001b[0;31mRuntimeError\u001b[0m: 1D tensors expected, but got 2D and 2D tensors"
     ]
    }
   ],
   "source": [
    "# dot works only with vectors!\n",
    "torch.dot(torch.rand((3,4)), torch.rand(4,3))\n",
    "\n",
    "# do this instead!\n",
    "torch.matmul(torch.rand((3,4)), torch.rand(4,3))"
   ]
  },
  {
   "source": [
    "On to the tutorial, let us see more examples of operations on tensors and conformability between tensors...."
   ],
   "cell_type": "markdown",
   "metadata": {}
  },
  {
   "cell_type": "code",
   "execution_count": 13,
   "metadata": {},
   "outputs": [
    {
     "output_type": "error",
     "ename": "RuntimeError",
     "evalue": "The size of tensor a (5) must match the size of tensor b (4) at non-singleton dimension 1",
     "traceback": [
      "\u001b[0;31m---------------------------------------------------------------------------\u001b[0m",
      "\u001b[0;31mRuntimeError\u001b[0m                              Traceback (most recent call last)",
      "\u001b[0;32m<ipython-input-13-2e428a0c80e7>\u001b[0m in \u001b[0;36m<module>\u001b[0;34m\u001b[0m\n\u001b[0;32m----> 1\u001b[0;31m \u001b[0mz1\u001b[0m \u001b[0;34m*\u001b[0m \u001b[0mz2\u001b[0m \u001b[0;31m# this gives an Exception\u001b[0m\u001b[0;34m\u001b[0m\u001b[0;34m\u001b[0m\u001b[0m\n\u001b[0m",
      "\u001b[0;31mRuntimeError\u001b[0m: The size of tensor a (5) must match the size of tensor b (4) at non-singleton dimension 1"
     ]
    }
   ],
   "source": [
    "z1 * z2 # this gives an Exception"
   ]
  },
  {
   "cell_type": "code",
   "execution_count": 14,
   "metadata": {},
   "outputs": [
    {
     "output_type": "execute_result",
     "data": {
      "text/plain": [
       "tensor([[7.5657e-02, 4.2738e-01, 1.8139e-01, 2.5933e-01, 2.3071e-01],\n",
       "        [4.2638e-01, 7.7860e-01, 2.7430e-01, 3.0000e-02, 1.8301e-02],\n",
       "        [4.9867e-04, 7.8017e-01, 4.1492e-01, 3.5971e-01, 4.0806e-01],\n",
       "        [1.0988e-01, 2.9806e-03, 2.6506e-01, 8.9314e-01, 9.7730e-01]])"
      ]
     },
     "metadata": {},
     "execution_count": 14
    }
   ],
   "source": [
    "z1 * z1"
   ]
  },
  {
   "source": [
    "Generally, the \"regular\" arithmetic operators for Python act as element-wise operators in `Tensor`s (as in `ndarrays`)"
   ],
   "cell_type": "markdown",
   "metadata": {}
  },
  {
   "cell_type": "code",
   "execution_count": 15,
   "metadata": {},
   "outputs": [
    {
     "output_type": "execute_result",
     "data": {
      "text/plain": [
       "tensor([[7.5657e-02, 4.2738e-01, 1.8139e-01, 2.5933e-01, 2.3071e-01],\n",
       "        [4.2638e-01, 7.7860e-01, 2.7430e-01, 3.0000e-02, 1.8301e-02],\n",
       "        [4.9867e-04, 7.8017e-01, 4.1492e-01, 3.5971e-01, 4.0806e-01],\n",
       "        [1.0988e-01, 2.9806e-03, 2.6506e-01, 8.9314e-01, 9.7730e-01]])"
      ]
     },
     "metadata": {},
     "execution_count": 15
    }
   ],
   "source": [
    "z1 ** 2 # Equivalent to above"
   ]
  },
  {
   "cell_type": "code",
   "execution_count": 16,
   "metadata": {},
   "outputs": [
    {
     "output_type": "stream",
     "name": "stdout",
     "text": [
      "z1 % z3 (remainder of integer division)\ntensor([[ 0.2751,  0.6537,  0.4259,  0.5092,  0.4803],\n        [ 0.0530,  0.8824,  0.5237,  0.1732,  0.1353],\n        [-0.9777,  0.8833, -3.3559,  0.5998,  0.6388],\n        [ 0.3315,  0.0546,  0.5148,  0.9451,  0.9886]])\n\n\nz3 // z1 (integer division)\ntensor([[  3.,   3.,   7.,   7.,  14.],\n        [  0.,   2.,   7.,  28.,  22.],\n        [-44.,   3.,  -6.,   3.,   3.],\n        [  3.,  18.,   1.,   1.,   2.]])\n\n\nin-place tensor division (z3 /= z1)\ntensor([[  3.6356,   3.0593,   7.0439,   7.8548,  14.5734],\n        [  0.3063,   2.2666,   7.6375,  28.8674,  22.1759],\n        [-44.7810,   3.3965,  -6.2098,   3.3347,   3.1309],\n        [  3.0168,  18.3168,   1.9424,   1.0581,   2.0231]])\n\n\n"
     ]
    }
   ],
   "source": [
    "z3 = torch.Tensor([[1,2,3,4,7],[0.2,2,4,5,3],[-1,3,-4,2,2],[1,1,1,1,2]])\n",
    "pretty_print(z1 % z3, \"z1 % z3 (remainder of integer division)\")\n",
    "pretty_print(z3 // z1, \"z3 // z1 (integer division)\") # integer division\n",
    "z3 /= z1\n",
    "pretty_print(z3, \"in-place tensor division (z3 /= z1)\")"
   ]
  },
  {
   "source": [
    "As for `ndarrays`, `Tensor`s arithmetic operations support **broadcasting**. Roughly speaking, when two `Tensor`s have different shapes and a binary+ operator is applied to them, PT will try to find a way to make these objects \"compatible\" for the operation. \n",
    "\n",
    "Of course, broadcasting is not always possible, but as a rule of thumb, if some dimensions of a `Tensor` are one and the other dimensions are the same, broadcasting works."
   ],
   "cell_type": "markdown",
   "metadata": {}
  },
  {
   "cell_type": "code",
   "execution_count": 17,
   "metadata": {},
   "outputs": [
    {
     "output_type": "stream",
     "name": "stdout",
     "text": [
      "small_vector_5: tensor([1., 2., 3., 5., 2.]) ; Shape: torch.Size([5]) \n\nBroadcasting: dividing matrix by row vector\ntensor([[0.2751, 0.3269, 0.1420, 0.1018, 0.2402],\n        [0.6530, 0.4412, 0.1746, 0.0346, 0.0676],\n        [0.0223, 0.4416, 0.2147, 0.1200, 0.3194],\n        [0.3315, 0.0273, 0.1716, 0.1890, 0.4943]])\n\n\nsmall_vector_4:\n tensor([[4.],\n        [2.],\n        [3.],\n        [1.]]) \nShape: torch.Size([4, 1]) \n\nBroadcasting: dividing matrix by column vector\ntensor([[0.0688, 0.1634, 0.1065, 0.1273, 0.1201],\n        [0.3265, 0.4412, 0.2619, 0.0866, 0.0676],\n        [0.0074, 0.2944, 0.2147, 0.1999, 0.2129],\n        [0.3315, 0.0546, 0.5148, 0.9451, 0.9886]])\n\n\n"
     ]
    }
   ],
   "source": [
    "small_vector_5 = torch.Tensor([1,2,3,5,2]) # this is treated as a row vector (1 x 5 matrix)\n",
    "print(\"small_vector_5:\", small_vector_5, \"; Shape:\", small_vector_5.shape, \"\\n\")\n",
    "\n",
    "pretty_print(z1 / small_vector_5, \"Broadcasting: dividing matrix by row vector\")\n",
    "\n",
    "small_vector_4 = torch.Tensor([4,2,3,1])\n",
    "small_vector_4 = small_vector_4.unsqueeze(-1) # this operation \"transposes\" the vector into a column vector (4 x 1 matrix)\n",
    "print(\"small_vector_4:\\n\", small_vector_4, \"\\nShape:\", small_vector_4.shape, \"\\n\")\n",
    "\n",
    "pretty_print(z1 / small_vector_4, \"Broadcasting: dividing matrix by column vector\")"
   ]
  },
  {
   "cell_type": "code",
   "execution_count": null,
   "metadata": {},
   "outputs": [],
   "source": [
    "torch.Tensor([1,2,3]) == torch.Tensor([[1,2,3]]) # single-dim Tensors are also row vectors"
   ]
  },
  {
   "source": [
    "#### Reshaping and permuting\n",
    "\n",
    "Sometimes it may be necessary to reshape the tensors to apply some specific operators.\n",
    "\n",
    "Take the example of RGB images: they can be seen as `3 x h x w` tensors, where `h` is the height and `w` the width.\n",
    "\n",
    "![](img/image_tensor.png)\n",
    "\n",
    "Sometimes, it may be necessary to \"flatten\" the three matrices into vectors, thus obtaining a `3 x hw` tensor."
   ],
   "cell_type": "markdown",
   "metadata": {}
  },
  {
   "cell_type": "code",
   "execution_count": 18,
   "metadata": {},
   "outputs": [
    {
     "output_type": "execute_result",
     "data": {
      "text/plain": [
       "torch.Size([3, 243, 880])"
      ]
     },
     "metadata": {},
     "execution_count": 18
    }
   ],
   "source": [
    "image = torch.load(\"data/img.pt\")\n",
    "image.shape"
   ]
  },
  {
   "source": [
    "This flattening may be achieved via the `reshape` method."
   ],
   "cell_type": "markdown",
   "metadata": {}
  },
  {
   "cell_type": "code",
   "execution_count": 19,
   "metadata": {},
   "outputs": [
    {
     "output_type": "stream",
     "name": "stdout",
     "text": [
      "shape of image_reshaped\ntorch.Size([3, 213840])\n\n\n"
     ]
    }
   ],
   "source": [
    "image_reshaped = image.reshape(3, 243*880)\n",
    "pretty_print(image_reshaped.shape, \"shape of image_reshaped\")"
   ]
  },
  {
   "source": [
    "We can alternatively use the `view` method..."
   ],
   "cell_type": "markdown",
   "metadata": {}
  },
  {
   "cell_type": "code",
   "execution_count": 20,
   "metadata": {},
   "outputs": [
    {
     "output_type": "stream",
     "name": "stdout",
     "text": [
      "shape of image_view\ntorch.Size([3, 213840])\n\n\n"
     ]
    }
   ],
   "source": [
    "image_view = image.view(3, 243*880)\n",
    "pretty_print(image_view.shape, \"shape of image_view\")"
   ]
  },
  {
   "source": [
    "**Q**: what is the difference between `reshape` and `view`?\n",
    "\n",
    "* `view` does not copy the object. It's just a _view_ of the original tensor.\n",
    "* `reshape` sometimes copy the object, sometimes it does not and resorts to `view` (thanks to Emanuele for the tip :) )\n",
    "\n",
    "### Addition discussed during lecture\n",
    "\n",
    "**Example of *inconsistency* in the behavior between `reshape` and `view`** (provided by Andrea Gasparin):\n"
   ],
   "cell_type": "markdown",
   "metadata": {}
  },
  {
   "cell_type": "code",
   "execution_count": 64,
   "metadata": {},
   "outputs": [
    {
     "output_type": "error",
     "ename": "RuntimeError",
     "evalue": "view size is not compatible with input tensor's size and stride (at least one dimension spans across two contiguous subspaces). Use .reshape(...) instead.",
     "traceback": [
      "\u001b[0;31m---------------------------------------------------------------------------\u001b[0m",
      "\u001b[0;31mRuntimeError\u001b[0m                              Traceback (most recent call last)",
      "\u001b[0;32m<ipython-input-64-36b3fdeceafb>\u001b[0m in \u001b[0;36m<module>\u001b[0;34m\u001b[0m\n\u001b[1;32m      2\u001b[0m \u001b[0my\u001b[0m \u001b[0;34m=\u001b[0m \u001b[0mz\u001b[0m\u001b[0;34m.\u001b[0m\u001b[0mt\u001b[0m\u001b[0;34m(\u001b[0m\u001b[0;34m)\u001b[0m\u001b[0;34m\u001b[0m\u001b[0;34m\u001b[0m\u001b[0m\n\u001b[1;32m      3\u001b[0m \u001b[0my\u001b[0m\u001b[0;34m.\u001b[0m\u001b[0msize\u001b[0m\u001b[0;34m(\u001b[0m\u001b[0;34m)\u001b[0m\u001b[0;34m\u001b[0m\u001b[0;34m\u001b[0m\u001b[0m\n\u001b[0;32m----> 4\u001b[0;31m \u001b[0my\u001b[0m\u001b[0;34m.\u001b[0m\u001b[0mview\u001b[0m\u001b[0;34m(\u001b[0m\u001b[0;36m6\u001b[0m\u001b[0;34m)\u001b[0m \u001b[0;31m# I wish to reshape the matrix z in a vector of size 6 - this gives an error\u001b[0m\u001b[0;34m\u001b[0m\u001b[0;34m\u001b[0m\u001b[0m\n\u001b[0m",
      "\u001b[0;31mRuntimeError\u001b[0m: view size is not compatible with input tensor's size and stride (at least one dimension spans across two contiguous subspaces). Use .reshape(...) instead."
     ]
    }
   ],
   "source": [
    "z = torch.tensor([[1,2,3],[4,5,6]])\n",
    "y = z.t()\n",
    "y.size()\n",
    "y.view(6) # I wish to reshape the matrix z in a vector of size 6 - this gives an error"
   ]
  },
  {
   "cell_type": "code",
   "execution_count": 67,
   "metadata": {},
   "outputs": [
    {
     "output_type": "stream",
     "name": "stdout",
     "text": [
      "tensor([1, 4, 2, 5, 3, 6])\n"
     ]
    }
   ],
   "source": [
    "z = torch.tensor([[1,2,3],[4,5,6]])\n",
    "y = z.t()\n",
    "y.size()\n",
    "yy = y.reshape(6) # this instead is safe\n",
    "print(yy)"
   ]
  },
  {
   "source": [
    "The reason for the error in the first cell lies in the way PyTorch stores the tensor in memory. A detailed, yet easy-to-grasp explanation is given [here](https://discuss.pytorch.org/t/contigious-vs-non-contigious-tensor/30107/2) by Piotr Bialecki, one of the top PyTorch developers.\n",
    "\n",
    "Let's go more in-depth in the memory management:"
   ],
   "cell_type": "markdown",
   "metadata": {}
  },
  {
   "cell_type": "code",
   "execution_count": 70,
   "metadata": {},
   "outputs": [
    {
     "output_type": "stream",
     "name": "stdout",
     "text": [
      "tensor([  1,   4, 100,   5,   3,   6])\ntensor([[1, 4],\n        [2, 5],\n        [3, 6]])\ntensor([[1, 2, 3],\n        [4, 5, 6]])\n"
     ]
    }
   ],
   "source": [
    "# the memory of yy is different from the one of y and z\n",
    "yy[2] = 100\n",
    "print(yy)\n",
    "print(y)\n",
    "print(z)"
   ]
  },
  {
   "cell_type": "code",
   "execution_count": 71,
   "metadata": {},
   "outputs": [
    {
     "output_type": "stream",
     "name": "stdout",
     "text": [
      "tensor([[  1, 100],\n        [  2,   5],\n        [  3,   6]])\ntensor([[  1,   2,   3],\n        [100,   5,   6]])\n"
     ]
    }
   ],
   "source": [
    "# but the memory of y and z is the same\n",
    "y[0,1] = 100\n",
    "print(y)\n",
    "print(z)"
   ]
  },
  {
   "cell_type": "code",
   "execution_count": 73,
   "metadata": {},
   "outputs": [
    {
     "output_type": "stream",
     "name": "stdout",
     "text": [
      "tensor([[ -4,   2,   3],\n        [100,   5,   6]])\ntensor([[ -4, 100],\n        [  2,   5],\n        [  3,   6]])\n"
     ]
    }
   ],
   "source": [
    "# also using .T we get the same result\n",
    "zz = y.T\n",
    "zz[0,0] = -4\n",
    "print(zz)\n",
    "print(y)"
   ]
  },
  {
   "cell_type": "code",
   "execution_count": 77,
   "metadata": {},
   "outputs": [
    {
     "output_type": "stream",
     "name": "stdout",
     "text": [
      "tensor([[ -4,   2,   3],\n        [100,  36,   6]])\nthe update we made on zz does not propagate on to y\ntensor([[ -4, 100],\n        [  2,   5],\n        [  3,   6]])\n"
     ]
    }
   ],
   "source": [
    "# if we want a deep copy, we need to call .clone() to copy the tensor (NB: .copy() for ndarrays)\n",
    "zz = y.T.clone()\n",
    "zz[1,1] = 36\n",
    "print(zz)\n",
    "print(\"the update we made on zz does not propagate on to y\")\n",
    "print(y)"
   ]
  },
  {
   "source": [
    "## End of addition"
   ],
   "cell_type": "markdown",
   "metadata": {}
  },
  {
   "source": [
    "Some libraries encode images as `h x w x 3` tensors instead of `3 x h x w`.\n",
    "\n",
    "To convert between these two format, one may be tempted to `reshape` or `view` the tensor: in the end, they share the number of elements.\n",
    "\n"
   ],
   "cell_type": "markdown",
   "metadata": {}
  },
  {
   "cell_type": "code",
   "execution_count": 21,
   "metadata": {},
   "outputs": [
    {
     "output_type": "display_data",
     "data": {
      "text/plain": "<Figure size 432x288 with 1 Axes>",
      "image/svg+xml": "<?xml version=\"1.0\" encoding=\"utf-8\" standalone=\"no\"?>\n<!DOCTYPE svg PUBLIC \"-//W3C//DTD SVG 1.1//EN\"\n  \"http://www.w3.org/Graphics/SVG/1.1/DTD/svg11.dtd\">\n<!-- Created with matplotlib (https://matplotlib.org/) -->\n<svg height=\"127.137571pt\" version=\"1.1\" viewBox=\"0 0 375.2875 127.137571\" width=\"375.2875pt\" xmlns=\"http://www.w3.org/2000/svg\" xmlns:xlink=\"http://www.w3.org/1999/xlink\">\n <metadata>\n  <rdf:RDF xmlns:cc=\"http://creativecommons.org/ns#\" xmlns:dc=\"http://purl.org/dc/elements/1.1/\" xmlns:rdf=\"http://www.w3.org/1999/02/22-rdf-syntax-ns#\">\n   <cc:Work>\n    <dc:type rdf:resource=\"http://purl.org/dc/dcmitype/StillImage\"/>\n    <dc:date>2021-03-16T11:45:33.277779</dc:date>\n    <dc:format>image/svg+xml</dc:format>\n    <dc:creator>\n     <cc:Agent>\n      <dc:title>Matplotlib v3.3.3, https://matplotlib.org/</dc:title>\n     </cc:Agent>\n    </dc:creator>\n   </cc:Work>\n  </rdf:RDF>\n </metadata>\n <defs>\n  <style type=\"text/css\">*{stroke-linecap:butt;stroke-linejoin:round;}</style>\n </defs>\n <g id=\"figure_1\">\n  <g id=\"patch_1\">\n   <path d=\"M 0 127.137571 \nL 375.2875 127.137571 \nL 375.2875 0 \nL 0 0 \nz\n\" style=\"fill:none;\"/>\n  </g>\n  <g id=\"axes_1\">\n   <g id=\"patch_2\">\n    <path d=\"M 33.2875 103.259446 \nL 368.0875 103.259446 \nL 368.0875 10.808991 \nL 33.2875 10.808991 \nz\n\" style=\"fill:#ffffff;\"/>\n   </g>\n   <g clip-path=\"url(#p644d7c35f5)\">\n    <image height=\"93\" id=\"image4f02536f1e\" transform=\"scale(1 -1)translate(0 -93)\" width=\"335\" x=\"33.2875\" xlink:href=\"data:image/png;base64,\niVBORw0KGgoAAAANSUhEUgAAAU8AAABdCAYAAAAlpOTWAACXnElEQVR4nOz9V5NlWXbnif22OuJq1x4yRWRmZWWWQhU0GgNMd/XMkE0bG3L4NA984EfhA78CPwWHRg5nzIbDpnVPNxpACTSqskRWishQrv3qe+5RW/DhXPfwyFA3KiPRDaCXZaS7X3G2XnuJ/1pLeO9DCBWPDucoUZJ0Uhbzmsgodrf6TOYZYTphYSSbMuG8qolVjVQpMjbkleT2Xh/Bq9H88D6fzqYEEbNlaz579Ijtm+/y5n6bg6Njfv2bL9i6voda1pznY7ppG1dJ9q5tI2TM977z/iu1JwSE0PxeF3M+/sUvWJRw4/YbjA8eoPp7vP/ePg8+P+T07BCRxkRRi+L8FFo9IiPodDdxWc43vvMB6lUH/DVStZyymEwoQkovSpllQ1rb12hFnrIoyfIckRp06cjynCjWhEITdWMiIrqb7aeeGUIzZ8+jT3/5V9joTRJfsVh+xr0jxx/86Z/iDu8ytiV3H465ubFJWZ5xNIZOJEk2U7rCsvmNP+JW37x0XCEExDM6MT78jI8Pz0H2eXNg+fw4490Pvk23njOsS+5/fsBg+zrGD3l4WrAx0EgSNrsxtrPPnf3Bq0zvs3oGr7zjn/+s4XRM5RzdOEWyJKsSNrodymxKHUO91GgncCoj2AhUjVGKurJ0t3ZIlHzFFkv++t/+jDf3u5jrN/nso1+gu3t89919Pn14gsyGOCJIAovhEpOk1HlBqz9gNM/5J7//O8iXDj+s9pCgmavV4QuOz37xC6a25sb1t1hmY/Ja8N47b3M6PECUNbPM0dOWmfMEr/ClQ/faWDvnrTfepxXr32Ker/TsJXt7XVr1QiCko8ghiQXCa4IN2NpS2RJlDLGKsM6htUDJGKMcrg4Yomc++GLThwuOdeU1ACUlfnjCF7OI/Zt9ssUSORmyYUY8fDQn0gbsksobUhPRSQ02CE5PTrh+8+2Xj0yIp7Z3w0CbA6l0jFiMqYMlX+Z4PyRbpDw6OSc2EuUldWHRJiZpRdTBs5gMMXFvrYl/PNbAlSlYvf7ka1+VnI/IlqB0QUg0UkOVz5EWFllBZRWqzKilROkIiWPpanxh0al6Tv9fMKYQcL7i4cPP6SUDhJwSasXB+ZL841+w3LiGdDUPHz5Ctx1pq0/uHNXogFx16fr1Bn/R3tV9E0IgWE/UajNf5FS2onaOo+EEX5xy7DXB15wND0mVRZsEH2qKbIgLXbrp/iu1HZ65UK/x5gyQlAsmVUZd7pDEC5Z5gY4NdjpmqTqYMOJ8EWOSGcG2UAZUVRM6MakHnr2ET/f6Yh69ZZ5LPvnbv2UnTbh39wyTjnlvL+HnH/2CbnnKvG5TyJx8lHP95k3sPGNmDLv9m6y5epd7qPn5eN/nXiCt5fhkyHgyRsuS8c4uD+7fJa4CJ4XDLGbMlKHf6REWFUsd2Bps42+t0/rjtp9cv6YPr4NxAggffCCAq0tcACEVi2lOnBqUlDjr0bFBiYAP4LylrqCVGoSE4DzKvFyKeIq8I1tWOAFJqLl/cML+9RvYckrhNFubmygJiECdlxTe0293sL7Eh4jYvNpt+yQFirKkri1JEnH26JjOzjY6VMzymo3BALmSLrz3VGVFp9uB4CgdJOar3XwEz2ieM2ineDxCSMRqjYUUWFszLys22521zmkIlsUyB69INAynE9LuBiGf41VEmiYoJRBCgvO44NA6wbuCoBJi/epzWWQLyrxExm3q7BH3zz3v3bnO/c8+pbV1m+s7fS6kjbosEComiiTLyZL2Zhf1FXawszWzyZgcw2ZiuXc04+btm8xPj6lEm/3dHiEEpJQEXxOEwihNVZToKMaYNbnNc8g7h609UfJ434ewWioBzjqcc0TxswWLL5Mta5bFAhkZhPAsM0+7G7NczFG0iTsaFTwIgQsBicAISVl64iRBvfLxC4yGpyyXJRvXrvPwNx/jkg1u9yN+8+CQN99+k26S4IIDBM4GtJaIULMoLdsbG6/a4BOUz6YMJzPSzga2nDLNPbf2Njk4eMTWznVarRi8ByXxvplYJSRlNaPV3vxKewcgeAdCcUW+oTmAqwvTOYJSvOxUCOfcE6w8lEtORkfU6QA3KYjSFKlqQi3p9WKm4ylRBP3dW/wWLPOZdHT/I/7mNzm304xPpxm3BzEnk5Lt2+/x3ff2+fQXH3NGj3/6u6+mqq9DZXbEjz85Y0cIThYjNtI+Vb3EJQPeu9nj43tnyCTmBx98wCtqR0/QVUnU5kt+9fO/wm1f4+zTU/p7W5hqxrJK+Na37/DJz3+FFJL3//j3ab9cP7pCgcVyxiyDtCzIdaDrFZn2JCZFaE+RZ6i4z3a/89sP5kttfvSX/w7Rjjk4fohM92i3U+r5mDc+/AEb+ZC7oylbW29w++bma2rzMR18/gWLvKRmQrZM6O0nlMOcwe4NwuKQUaHpd7Z4586119bm7Owuvzz2bNklp/WCm50txrag091mr2P59OExur/Nd+/ceaXnBmByfI43lhKLryJ0yyJyQdzpIRZLFnFgkG7STr7iBX7RZjHjL3/2Y9r9Nzm5+ykbu2+g/Yjcdvn273yT09N7TM/Oee/7f0RXsqbUuSZ5x91f/y2uv8Po3gHpzjZJ8BS149qNa9z79a9Ju22uvftNttL1LqLnkVjZ7QKBz37zaySarDyjdH1aWwo/Ltm+cZv52QGzCq5df4vrOy8+I/rLNqUgJEZJbBUQzgEl1tcY34NSIKoapyOkgKcV49+OpEoRYsIwy9DCMDqekRU5m3c0s/Ejjh5N6N4ZPNP+9ZXb1gotPfO8wAdBWSwpbYmOLcZoltmETvsaQvCa2hcIIRDKkJ0tEMEj7JzCF8yrNpGJWC6WdLp9lBAvbfMptSRYrKiwwiJETBGgzEsiHaPKBcuqoi1e5xEI+NIxm59QOQizKdlixtnDh9z55u9z/5OPGbe32Aj2Nba5IgHOexbTBVXicDZjNCyZHR0Sb96kpxWLLKebuq/e1BU1PviaopgzWVgwgvFoxIPhlLc+6COCJ5tPSDtbr95G8JSlwJY5xJpQlyxnFZQC028zKy1iAeKa5dLi9hXJ2ZpldsrxiSfMz5hMC5w9Y1Zs851v3eJvf/ExN3sJlYXw1fjX0xTAZgtO5yXVfM6sLJCuYji27N+6RSQdtphTude0X4WA4Mkyz+LsPqEH8+kSO3VURxM6196i9hmHI832Zv3yx1VVHS5sgSDBOuraoVONEgLrHFJ4PIrgPcFWFMHQTjSCsLItCkLwICX4gJACJdXazMY7i/UerTTBe7xzlFWFjhOEr8mXNUkrJo7jZ9oyvwoF76nrGm0M3nsA6rJEGgPesixrYhMTxxFSya/cdggB7xyVDURG4D1orXCuwFmNlIGiyEEZkjiCAFIKpJRPzWezZuHxc0MAX+NRaNkcLk+gzHOSNMbWFdnSkuqIuBMDj1XNCyN68IEgBPIZa/fs9qEoFiAStAJBwDvLdJmx0dtkORtSCEG3s0minx7DV51LV+WUwRArsTJpeRbLBa12j2I2IXeBbm9AGmmu2sK+Spu2qqhrS5TEjSmEwGyW0e20sPWS+aKm3WqTtuMnvvvk2MNq/lZMGRAhkJUZUhgUAiEFrq4pfKBlIrJshpeeVmuTNFIXHXqegZovG9afuX7BcnY6pdVJkbI5y0Uxp3QJO4OUR4cHmKjL3t5mIzC95vWbTMYkSdrscyVxtmSRCTYGMQcP7qPbPXZ3dzDy5YLEGi0SAizn53jVRiuBEgpnK2bZgo2tbYYHD7AmYmt7n1RfNe88vXfEg08/DSGKIAgKYdE2UNSOOOpy69omR+fHmCAoXUnh2qQuYxmgmyps6ah1i0TMQXYILYuf10Qbe1xfUy286kDJJ4/4lz/6KaLyJDLBdxPqRxPqtqfb2eKP//zPSb6KqfM57YcQWC5m/O3PPkeGgqzO8V6jey1umMD98YRvfvePufkMr/SrtkPw/PJHf03R3oDphJmHH/zgexw8+hRTFxyPauJuRTGNyHxNqyyxcZ8//rPfI5FPDt4t54zyHI3CW4cMkqAUQXjSWKJRTLxD1x6QRNRkDpytMK0Y5QJxEEy1QFUVsexQ4dgY9DFmfUZ3wcQP7n7MvbMli+GQzqBFEgQL7RElbL3xPh++sXM5F6+TQghMH93nZJFRuJpynBF1B3Q7hqXz5Jnnu9/5JpH6aswzEPD5jF/96lP6126zHN7DxZu8+9YbnD56xHA0xBpDFNqU1QlKdPAK+tub3Ll58ynmORydkJVgIoWvFwTTRRZLpElpbw6oJhMcCmdLorbGo/DDBVmUYHRNEicIJ7CLCtmRRNJAAb29fmNHX3Pump+ez376M2qfc1orIl8TdVLyaYZp9/jgm+/T6yTA61u/S63JWx6e3KesBMVZg+zZQmC29/DTEbK7yZu39r9yuyEExpMDPn8449a1lM8/OeaN9z9kV+WcLj2H979gsLFPYpY8PJox6KVYY7i+9y7bG/FTe0cHEYiiiCA1IV8QG4GRAh97yiJHColWkloaQpVTqIgU0ELitCTWDulbOB8QZUmoZGNbeCU4gEAQWGQVvfY2WZjQandZVFNKIE3aSLdkOM+50U+/0gQ+u3WQUlJWGVpHbHUSTocZrlKMZhlpt4OWrwegEoAoVmS1IfWBosxZZgsefnGfjY1NhBAsZzmxFwx6G4TZGCUtw9mcG4P+E8/yvma+WNAxmloKQu1xlceqiMJDP4koao8uLM5HLEKNSiK8cNiyJPaC3AWK2KMcFHWOL0v6vV7T1zUgAWJlWggBFpMps8mU4WiCNzXD6YK8ndJyiuzuPd67sYXRcq3nrkePmWG1zHl0eIJpx+SLISGrmbctob2Bz3WjGSF/a5RDYzODgGAxPUb2B4wnU4IsWFzb5ouHD3FVAZHC1QsEI5K2oioh++KQa3s3aZmrjQesDwgfsAFE5aiKHAHEZUkZ17hgCWVNLT1M5liZIqVCOhDKU81zaq/B5chFgtUOZdSlFPvSoV4xC/lixr2je8znOWXSYhAlzB4c00paFKNzOt0NPnj/DSTr7Yt157R5lOf8+B7nk0BLd5hMhuSVxM4svWxCfCtdfe63XjzEhZbmS05Hp3RaCbULPLg3pN0f88VIk43HLDJLFDuWhSPIgKumhHqD7Y3rT+0dUds6EFabMADegtKXjOISoRVWMB/5JdWDle1zxS29cwipVmrm86FKF5Chq/CXEAKexwzKe4/zDqNf3TX1yrfUarNdbLlmHBpvK5SJXplpPq/94ANlnoGJkc6SW0snTckWC3TaIo2ujvUl7Ho1XxJBEIGAw3qJXl1cl9KuFOC/dJtdbkax+q8ZufMepcwlju9i/Z4az2q9r9oCvfeX21uEQG0rUBF69Rm5tvPrFSTElXrqQ7hUU0MIuNqhtKBygTgyr7R+z907IeB9xXy6pN3vkU2HELVJI8F0njMYbDaXbAgQGuREeDzFT5F3rjlywSMFFKVHS4HSsvEwB0GQAu88QgY8AYFCSAnOgpB4PPjGG+0FeO8wJrp0kDxrTOHK2j0+a466rlf9lbi6pFjWpJ0EpRQhQBStfw5f5fwFVmgf33zP25raeZyzKBWTpjHqFby1T8DMrowxhEC2GHO+qLm2mfDpJwfceONNFicPmYeYO7euI6THh4bzKQlBCIKD6BnYUuH9Y9BdtXQgJFH6+h0zz6OnFvUfGHnvKcoSACEaVgerwxQEAb86XBLwq9cAoUiTV7PQu2KETDZfq034ZfQ8POvfYQeesu29TvJVTe2bNQorDYmrFz5XGONK0nDOE0UxSq9vIw/BM3OBvv5qMKpXoi8xlv8QdHnBfx208q4/Fg0aW/5jKTYQgkDKpg8rr89KAHj5Bf4EOz0eHxH1rrG/Lur2FelZwOO/q0W7ukjTgwkuDeBWQP+WwXlPVnnaWgA5QSRIISlqi1YKLSW5W5Cm22x21jcdOGf5+cP7dMqaYM5RfpcQampKFB2kX1IbjbYGZ4ZItw3eMxOK965dY6PfR69z6wbH9JMFg++8Hub5rE0tvsQ0ml+/3vX7sgTj6yUHh4dUFpyvCWi0lFA5xMqJUniHEbI5MmVApbrps2xx+/Yeeg0J+GL81eGSe7MDnBacS8WOd9Qy4CwkMrD0ikQEJDD2EZuqwhWKVPa5/sHmlzSJ540v4OspWV3R13tfC6rkZfR302Ygy6YcHp6tHJwCJVfaAh6BatbJN9qSuMReNn3b3b9Or9Na22nsg2U5/YJZ3kEUAhXAtwRh4fDtRmCRS0toayg8KghcWyLsHJluszl4MeLlCea54Wpk8vVN4oVjwTfy+QsO6Je4/kotExcHovnkWqrdxfRfGsa95+Cnh1S3K0JWUM4WxNe2yArHSS65syHx2SfU0XXiqMP9ac1GYuhFcFjcQ7k9vn37Ha7d3F5zw0l0mpAITdAK4RrEgAwOJWJEbRGxxsgIG0ukTZAhsFA145NDqtmSrdv7xFK9ZMNUDDcCG2v0aB16FlMMITzz4rtYx2dFBDWfa4wxv80B/XI/wvKU44e/pBLbZPU9am7T1wL/2Rj99gYowcfVnLeiHhGB6qNz4u/sEILj8JOSs+/P+e67b5C8BDd4sVdlgNjEON2MK0LiPXgliIynrATKCHTweKuJooYp1PmMu/cX3NzbptPuoZ4Tz3sxvvkc8gVwaw1b5VegCw9/w7OflKJfW+jNC+jR8oQvTob0ZOD+cckbezGImmH9iIF6E+kEy3uW7nsRPpwwtoqB2kQWE44ffsQb3/zPubnfZy3vg5BUdkqWCcTCNZGTLhBGNTJInFCIUdlgsGYOLcB6jajOcVnBPK+4ubdN9BzhRYfgWc7G5JUnpB2q4y84qcXKflURiBpFUwqMjjBa4UPzeqQVQht6vR7xmupGUSz45LP7aCmQAoLwKNlsZC8qhEgauTc48gCpbJ5b+wotNCE0qrCI+rzzxjXUGs0+sRkFSKnQWuGVQkmF1hqpG/FdKYlQEqsUSimE9AipUAqMiUnTlOMHP0Xv/Ak78csRBSF4svkUljXoGcGmIGpcKJF4hMuxRqJthE/miHqCAMrIoOIYe3fK3ajmjf4eaZo8tb9D8Cu7Z8ydGzcpyhIJCCVxDi6ChwICrZq4Ke8CF457W3lMrNc+N/NHhzycTRESKmsJCMzqy5WF2KwcELZhpkF4QiPko3QDS8NLbr37Hpsr7+2rUqvdIdFdRJVS06NnwEUlotVGRpKk8HSiLrEM1GmO6XRAeNqtFnG94Mcff8rvf+cDopcK9IEQHNZZvBB4IbDB44Ig+IC1ARfA1is7qxfUtSXUAoTAyAmnZ6dMi/e5sdV/ps334m7oDgZ0Oo7a2sYS4Va26tWH/KVnOhAeGyqRxqC1Wg9zHWq++PyXnI8tUgh85cDIpl/eI4VErM6xCDXIqIEdBpqwXtPAFZNenxu7+/w2FoagBK1Oh44Ek2i6nQRPydIburKHqANBFbQ7Kd7G5Gi6uounwjrN4a9/g87eZv/t7Ze3tTKxSNFE161MmUgpQahGgJONDTmolfQrWEm2mvPFglle8/beHt2Weopfa4Eg8hbZ6QGeWfkJIn4LRGAZTol5Ey1gVp+RRPsYJVnUJxh1E6UEZ9WYR/dKvnlzmzR9uUG5qBf8+Gc/IyHgQ4F3c7TeQQjIwjE67BMJCKHkxAf2VQJCMLdDWnoTjcA5x2QJ4z/8Y373229jXjH0Z3R6j8/HJ7hFjssKzMmArHQMrWLWFoTyAbU+x6iEw5mjYyRt5ZnGBe+/u8cgKfHCriVJCSBOUloYvEyRod0wTy+Roo1wkloJTEjwJiNELVSAUnpKW6N8jJkvOT58QO+dm2z1208kZbAUzELEptDUruKT6YxbxiC15HAOt7qS4B2n55adbUMInsOx5+amxjrH8UdDBt/cZX+7d2XjPJ/Gn9zn3x/cJYjA3NaUQbCpG6n4aOzZHzTfzmcebSQmBQKMZpaNgUYEqCYzfvXokH/6T/6MvY2nTSDPciyu/iIQqOsahMM5jxMO75v19z4QHAjnVw6sgBce7z1SBqoqh6jLOQnW80LmeWliWh08IRqLp5QKFcARkMIjRUBIiRIgnWxCmqWkyiqssyRGkw0fcFJ22Ny7TfxEaK+gXAaiGKSG/GDOVBQEY7FHOfQkIomwsxm1VEijcOMlToNqxfh8Cu0ut2++S7v1cqdmcCV3P/sRD48jIFAf1Kh9g1QCliX4gOy1IICdHaP6+80zs4wQpchIIURg4Rd887s/5E++9W5z9l5BYPW2ZjqZIrVgMS+YzSqCqMlCRiLnyNqxKGrU3OLdknlQxHpBWCyAmN52h/p+gbizXqPOr/aPFCgEQUmEXjmChERIjZIatAdnEVJihaSoSnwcYeuCTx4dcHN/i71e+wmHuQZQKkbFMeBII43XSeMBIyIRKToESqUwUYwmoFEYbVAEhIzox5rDsxO2b1xjoF8U+XDpi73igbzwkIIIK+eJEIAkCN9IL1f84Bf/cILPfvnXFNWCP/nB99bG8IUAGztv8r03rxMWOeVkTnxzl6x0HOaCd/qCsGxTmT1i02UwqdhIIgYRHFcPmc/GnPsJe8/J+PPUcAVorTGRIEiDwhCQOF8jZdREcSlB5A0+jgiVQQJGeqIqUKsKh8LUgsnhfWy1ye72LmolOioEmhWzwFGt1ENrHUUJNvV4HGUdmgAEAs75lRlE0I23oFpyfmjZubG1xjloDosUEiklEoVq0NMIDVo3cCBzKeFD8KCkQMsmnlgojR+e8K//5b/kj/7kT7h9fYPnncAn57hR/Y2SWKlQUmJFozG4lTNASmhSXj3eD1JKpAx4as4OH7DYeWtlU3vpYBGrcQb8ipGu8CBSIiTgGq96c+80mooUgiiJEEjKvEClmmU1Z3L4Bdev3WYQP5a4/QViIkAoNVE7QaYBWhLaGlKDqwMkGt1q4dUSbwS6kxLKCEvN8eGQ69cHtFovtsULIdFKN954PEJJVKSa/iuHFwKhNIgARqJWal2Q6rHERsB7y8OPfsK/znL+sz/4NtEriKBCiEbTkwElNFJpXLBIxMqrL5EElFQQBGq1v4KQjEYTCpHQFusapwQqrLRo6wheEJwnVA7pJF4GhC0JFkQdkDisa/hQGkUsqgKcRkRwfvqIMOuze3O/2e+smOelFTFACAK/8lL54PGigUj41a3fGHr9YwklNCJuuuE4sZ6+erHF5gr75AJdciFdSBdAffkzj20xYZUk4AJmIwN8Oj7hQ+/ZVeth+MLKw/Z4fsVlO41TVa5gLxcSRxPdI1WzefZ2tkjnx42Us0aDwXnODx4xziqEGSFc2Uy0KPB+gvQOrz3SRYh0jFvmICR1v0u/3SWVmpxAbWt0qMmmJ3wx99y6uUt0ETXT3DirNbzwIq5Uwgsb18rLH4LnalIjESBpJyzvKcJuQEQvlV8unRxCrFq/4ELqij0NLhlUs3uumtSaKCZbzbn/oym3/pv1nVwhNOvQMGyuQOIaT6m8hAeFJjJLyEYtC44o7rK7k3IkXh56d9FPgkVphZCKBNBSYX3AIDHSk4rmYoikILbNBeE15EVJJCQmSaiWFpMkFLLg0cP7MNilu9lvLsBwIU+vpAm5YlLNFmxgSVIgVAP/Q9JITAKEDKgg2Oor7OILaH3w8vFczD9wNSGTR+GCRz9h5Lo8bI/t3SIQRPPz+Iufcv7eDtd3bqw5nyCUotXr0hWetF3S7sT4oCh9Qlu38bXDxYKk1SK4Fi1h6KgOzhZEcUQtFIvJem01antzCQTV7IcgBUE2Fx5aICJFkBKpAkqCl5IgFS4IlG6hbMYyOBIZc364YOmPuHljh8johnmWrqZeLkm0ZrlssZAZLa2o5pIymtKOI/zCMY1ndKMInyvyZImKI1qVo1ALgtb48HLvq/GC+vSAKYFga6blgnbUeLRtPaXygdQYhHScFzUhihESsmqODAVppPAEpOnhRYcgXt3w4nxFWZUIa6lsjbI11nmsZYUv81hqrKxxdU0poEJSzGc4PWAjaaHFeswTKdm+cZNeYQnaoNx1gqjxIUPIAcIV1AqMT/DG4O0+KghGwWLLitpFSGXAwzKzaBXBecbn5SnXb2/QSTShspAatDDEZ1PyQQcRQC1mZEkPJaFajJmkHYSAcjpnZNpoqShlQeS2GpXGvxxuJEwgW8xAKnJXsqwFUdSA0LO8Zk4TklgtHaGEqJYIBNmiJlIaISRUJYlLkcYT/GqTr+klCd7yya9+zrAcsHQPqMWYvhT4z6aIeRe04otqyjTuEQsJnwyR9gEgyGZbXHv3NmmarC7RNdpDX3p/bSMt0Mj4zSXrvEDS2EErK/HRY/NBbkuMSmlpR1mWlGVMJ5JMzj9iXH3Arb0NqDPG2RKlNctiyNFoQpzE+MmCfCRpd1r4bEFW16SdHiIvqXDE7Q4yZLR2dtnuSMRK+3jxYATegfUWPFSUhDpGa4H3jqoOCOsIeKraE63sr85afBAY00iervYEI5A4wL0S4iI4z3I+J1ZQFRXLzBEoyX3JUi6gdmS1xSwbZEUmDAuT4bMMKxX9QY/OUq8nuBAIzlLVNdI2F5R3nuACwoELAllbQi2RdXOd2EgivMP6Eis0SWyQoiQvlxgdUZU5P330gA9299EIQdrdxGZzap2wdf0d5Nk5ZYjY2rnDcjqmcDDYuYXNllReMNi+TTEaMUOx1ekhszNOZoZ0++UD6vR2+K//xf+Wv/zJj8mtZqPOmC8d/UELFbaZLjLiOCaNDANbkWc57X6fnbDFfLwk6rdIlaKuaubZArb31l64C1JKE8cxoQ54E2FMROQdJhZNvLlRoCNMZNARxIkhiiDpd7DTJSenQ9bO0RMC3lqstThvUaEGUUOoCaJG2IraSIS3eLlSL0LAa0GcpICgLC2piolaNbnLkWGApOCzPON77S3asmJcLOialDvXtziazemlPW5fEwwXOVu9HrdvDjhbLhl0erxzy3CSzWl1tui8mzCajdHVeoks9n//O3ynGPLp8ZiEmGgxxwiDaRvejEuWy5p2r0O7FZgvFhijiOMUZZaUpafbSxGthHw+w+ruJQNb1xMvhOat9z7kDbPHoupRiztsGHDRCPHOABkrknLKHdMnkVCJE8zv7IKH+7+cc3p6zuLa5toe7YbJepxvnG6+CaDDBwcyNEEFK3VWIgiuSeNmYoU0MVWW4UxEGiVkVUVeBSIU5WjOPB8weKuNXFQ402HwQZf0+BEL2vTeNpTDMwrVp//mTYrRGYXu0usl2OmIXLYZdBOyfMbpbMn1rn8Sc/oskgnvv/8njCZ/TW4l8a5gPqvobySYjqGcZ5SVotUy+HSbbJrR2ehi+h3mwxlSK0xq6Mou+XROq3dhNH6OCeSpDjWaYxTFJBp0BEkSERAk3hDJGKkgNQVJHBNMROINiYnxScp0dsSj8y7vhvVyssJjs4uQTTDBRS4CKQApkUi8asw6giaNoXANwkLVDltYRD8m9hDqJU4kSOEYH/xilVVJazqdLnnp0UnE9v4e09kSKaG3tcU8y4m0ob21RbbIkELR29khzDPyZYkWXTqUdIW67NzzR6O48Y0P+WediP/lL/4Ni6VHqsDZ0SntbhctYTEZsozbxFoihedsOqIfpZhEMR+dk0erSJwqZzKeXsLOH6Munt9+Yw1bqUUX0Cnf5F8MQuJ9EyUVpMOvkpR4rxspIwg6m7t0zTkKsbIBPZsu+yACVbEkW1QEnYOfAw4RMhwS4SpqBdqVkGb4YobAM+9E9FSXVMcoUeLdEiECaZSwpMAFRaUlSIlOWnRsyfj0jNJW+GrOJwdHCOepXM69WtJOI6qq4IvK0+u0ca7g/hdH7G72gZrZouam6jcg4hdsxijp8Lt/9kOSH/0lP//ioNk3ywXlwtJpp7Rbgmw2o9Xu0m63KbIZGYp2lCIomc1ndDo9Wt0ui2zGomWbM3VpiH+JRCiaRCpWystkKU00lWxsjuKxuitkExEnhQQR0FHKtWt9TmSNkJLnLt8VHKtUoIxGa0XsPVqB8QEfJEp6TGjUPSkE2iiMahLM5MucGEkrTqhLi8cTJRGmltg5EAtk3Xh7484GeVHgQsTWjTfwo2MWmaTV2SCfTJmNEzrdTerljPnE00l7yGLBfA6ddgdpp8yWmt72Sy4gobj+1vv8syTmX//oxywWkoGyZItFo0oPehTLjGUp6bZbGKXIFhntXpf+zgb5Yk5RStppC6NKlrMZ3r0gufBTrze2Yh0ZtAwo7dA6wuNRFow2K1SIxxhDcAYjIozQ1Bq6/X1a0lCN/XrO2gBVXbNcLpEFqCBxeUA7hah8s4fqGiqBqD1aQl15gqOxt8YaYWryYkHL9JBJC19VoD1OLNAXh1wqTbt1sWMkm5v91T4K9Pr9yw61Wq3L39udx1Cdx3fBenf6xo13+Rf/m02m8/IxXnD1bbE6wFJcvvIUDu0i/EyYiE3dMOx1tYe6LsiyDJ/lVLMZUSdmXtTMK5gFhcuW+CijLmE+LVBljEgE82JIEW2w2YrQ4uUmiot+pt0e/cgTVI5wWwRRIYIhyA1EvaQyEmNjbFwj7XYDYcIhy5qikERa46WkrhZoJTA6wbkCqvKiFWKdsHvt8Sq8c+fVoXvP2pBPe75Bxynf/qM/5faH88v3rHXolePAO0sQchXN0YRtaq2BgHMWpF7FSHu0br/wIDwVWBE80+kMK2OyKqOO5hgl8XlBWC5QtcbbnJIUQqDyJaEsCcEymY/ZqfdJN1ovltAem/oIXmJri/eOXARqB1XwVChq4SlrGttZ8JQW6sjiazAypqozCIoo1lTWMc9gJ07QkWRpPd6sbP1S0W61Lxdsd+uxDXF7Z/fSLr/Dk1rWhWAXNrdZ3SC83O4i2Lj2Fv/FDzeZL4rGGeYctQ8YrYBAXdvVekHwDqGaDGoNTDBchkp6X9MfbD17nZ5DNp/zm19/Rl/AvUNHPdUIWbNwX3CCRAbB/POajjR4d8JIaDbkJmQzNq9fY297j+Qi/PQ59Bh/LImMod1qIVwgeAEp+EVARY19XKgAkYaiwXkKoxASytpS2kA7ihsTZp4jrabTU8x9SVG5x8zzRfTbRJE8Tj76fGp1Nmm9lpy8X2KcLww7C2gT0W43jq6qDpheF5k6FqVko6sIpksR9Yh1l16o6MWGQSLIyw1s5jg5HnH7wzUdRniK5RKVW4Iu0CHD+QpBhhcR0i6pjUQ7i6tzhJ0jgCo2GGNwBrJqQSzaRNpgbUlVCNptwzI2T/Thyxvqt8E8PzVbXwapr/5U2rC5+fqSGz9vLp9qH0m328GZPrJqU6kOHSmxiUV1u6gIdFmT6IRYBISIiOIIQUQ/dSzOjljEN1j3sr2QYqUAIyRKBqQHERqJVqnGYSQCSBkaTKECJwWpismrnNpCR3foqJqiKEiUpWUa+MwT43tOkMHz6OJTVyO/Xj6g5jOtdp9Wu/+SD69P6/GIgI5avPnWHba0xEcVd24YkCUT59hS7+EdLMqc7jsx3iWcesOu2YPFkOlsyOjwjFTfWu/sraKVGie3Q6JXDlOBDJ4Q5FWvdeNECwHhAjrWRCFg5wW2rehECTZfUhQK0i6pnj6dDPm10pphVF8nPS8HJaxM/1KuVD7XvLKSlBohoOl/47UVaKFob2wwMIO1EhWvOoDSAh1FDejYSyQaIQU1AikNRiq0NCgtG/ynlAjlqPKASRJSE+OdxfkaZRIS48lDTvC9l15Qfx/phVLMysMeRJPvUoYLm1YjNQXE5Q0gpVxBqlQDzYljdq7f5DDyK0TJen0RCKSWqBVmUBmBcLLRDhAoJdBIVGhMBQFPZQu0DcRRiq+XlEVFaGliranzQB05vFod4H9EJKQiimOMDBjjiGKDCIEIjdIaEQJKa0wUEWxMFDSxiXA6pj/YB9klH63PrL1zVHWNsB5FE1aLg7p2OCkJtUNZh/CeEDy2dgRrm6CBliKODUVdUguN0ClSFNRlAVq8pnTUf49ICMFsfMKj6gyR1/h5hs7GLGrLkVXIVODz+9RRQWI63J8U9OKIvoGRnDAY9NnqqDWqB140GFBxTBwaRq1CgvAWISuUTxsvbpAYb/CRwcgUKSCTDq1hWVa0vMbrFEUOhceblEh5ppX9j+KC+rromWaE4Dk9OiALFbk/oVYRGZJwuoB2G2kk59WUVC+IBFRnZ0QPKgSB06Fgp9wj3kwvbaUvphXQ3ntcZSmlxHpPLQPWaxyOupCouLlsa2sa0L4TJDoh1EuWQdORBiklRVHRNjGyZSAXhHgNrPA/MArBURYFlRY4V1OVAk9JVTtqX+Gto/KWuqyapNNA4UtsmZNlNZvXdmlFes15E2iliaMIjEcGhYwgSIGOHE4FZBLwxiC0bTClsUZIQ+3A1jVJMJhE4QuHF5IkNsQSXFX+42OeIOhvXqfz5hZhUVBPZ0Q3dplXJVGlebet8JmjjG7QinvIYUE/MWzGgpPqPrawHJ2d88ba7loBWUVVOYKApc3RyuFDDVSIUFMgaalAcIq6yom0JMgAKiUyEIoKhyUREUF6stzR62lMHF1Kx6+DnnWbvyjrzddz8K+o00+MbZUjVir29m9Q6z0yW1Kpm2xKQTmcYa53kbFgXHS4GfVJZKA4VZibewg85XzJYnjIuHUNceP5zPPxeAVBerwQSCWJyhriCBM81jpkJIh0k4lMSkFka9xKMq2DJYoiYhcoi4pWnNBLS+p6QSgFaaRXQQOvdw6fZcZ5XgXQr2P5XpSCEkAoSZImRCKgtSCOoyZNoxQYE+ElRCInSmKUMigvMEqjdMyyLjk+OeYN8eZ6Nk8CrirIlgZZNhdhUAJRAnloggJsiVg6ZBnAe7xWaF+jYomJwWYZHkGsU5ZVRVXUyCTC6OgfI/MMEBzOWvBNbLIPK4xcCDjv8DQMw1rbqPC+iQIBQbe/yYYarM2wlIz44Po1xgfnLNnF44lXKkCeeUySNpExtUOpXbyySOXYlIp8WSGlxnRi/NxSsCSWPdJEUvgp3ra+drX9RerR154R6xljCwS8aCQYaJIJB/mYSXgfmsx+oYERPT5kAm1idq7f4ihe2cPW6EJ8LaV9vGSxzNiWjqIqiaUkcZZlIYkjSe4qFJq+rimcJBECYTy+cMjEoKKIvCiwRtJSXaQ9p3AFPlkDm/kV6MXP/vpTCD7zMvYS4UMD+RLh0nArLqJmGsNLc+aCXyEoGrPZYLsHpocbrTtvkmjzHdTkmNDWeFsggkBvReR1gdQa0VbUZU3cTbFV2eBAVZc6d7gIoqiNqgvKusSrGBMF6mpJZb4mtf3L2XeeInERzvY1Sy5f2iAXkTHJrZKzaUaaxJzmc7qLFqmWJMNjMr9JZHYZngwZbEdsiSXDszHtvU3iXLOYn9FvNza35/bgSpSPANJ2n+hWxMHREK0KXFWTlZ6krfG+JpIGFSuWRUGSKnwd8AWkLUUtHbZwCNNGB025rAhJizi0qYJ//bP3Cifq61i/l7UfdJvPHoyo3RwvZkyGf8v2Zg9Xzpn8OmK7l1LNZvxaafrdNvP6GP+LEYNuSuEF0+I68eD5YYxfbl/piL3reyTzEdPzjFRYyrpARwmxcDg8LRXhnUW4mE7kqSqHFhEhkSwrR0fWtFoRRd0cThNFTXmNdQMt/gFRmlvu//rXdFsJo7M5v5pGxKlmlp0Tmc9JtWA6mpLe3UD7BaeLGdNOhnGO1kaH7TghjdbNASrodHZ4770O9+/f5WQ0wzmLRSGUXEVUeghgFzlGO3Ce2gsiBXVpSAabqLbECEG+LAk44jSizs2TyZD/sZD3lpO7n/PFyZCyWDKcDEk6O7SN4Pz0jPbONiklp+cztnd2CTZnvFiwubGLKzOWwwf8s//9f0e39WreyrquGZ0+4N7dY5bOIaTHSI2rK6zUGCUIVVNLXXlPTZOogAJM6xp7fYFwMLWSpCMod7t8e2vvH6b6EFae7i+/HAJ5PueTX/2CaSUJ2YzhtGT32hbZfMaiXLKzsU2WTckzw85eymJ4Sh312BxEnAwnnN/Y4v/0O/8ZrVfg/SEEitmMR8fnaC2pbIENijQSLBcFOmmj8dQ4jI4IdUVpFC0EPp8iiLFphq8ibFbSSnfot26z/ebrX71ngeWfWxHgtTf+WKIXPL2AwVmOHt7lwckpcZQyPT3HtwZstgznp6eY/gYdAyezMZtpH6lrZmc57Z1ddJhweiJ4s/V9Pvxh7/ldWPWj6USD+nHOMTo94GRSobylCBUtExGco5KCWCq8r/BoNJLal0SmBbZgYmp6os+8srTCkKnpssMCEb6Gq29d/OPXRWsNKQSy2Zh53uBMnfNNIoSV1NzEQ/vGniUETbqeBoTtPezs7WJekA/v+dAbx+J8yPF0jATc0mNjBRbwOTJqNxVMjSORGlcW1DqlpQRuOUOGhCykEM8pt3f4we711848/25tnE+1vpY66W3B+XAKonE8IJpEIc6XgEEKQV05dNRkfCqrGmMavKJTmus7uy90+j1vDuqq5uzgEbMix1pw1hEnmrwORDIQGU1VzAlpm+A9qrLoJKUuC1wyw4gd4tmMOrTY3P4Gu2++eomZF9G6x/lrWct1TUghMF9MsU6glSBbFiRxgsSRlzVJkuB9jbMeYyKcraiDppUobFmjZJf+VvycRz+/B957ZuMxx8MDbCWw9armkwpUy5IkbuNdDcEijaDMPVGUNGkIa0eZ9NiOM6bB0qmKf5yS539wCoGiWHB6eERuoawKgnRoETcLGkvwDmqPihOqqkJKiLSmyiuK0KfddrjdFh9sXP+a8v7/J3oeBW85PnzEaDTGS41zjsgYXG2RHoKRVKVtctHGmqpwiESAl6jgSWxNiHp0+rfZv/l6med/opdTUUx49PFDlvgmUUhpEUZhKw9GoISjLAJxrJvE1qEgEpqgYloty1IZkskM4dzrqij/n+iVSICrCu7d+5zj0zFSBcoaEqMJwuOXDqHBCY3EIYWjyjU6FTgVs9lvEW5u8GHvPzHPv3Na2cqWixEnJ9MmS4+rqX2EjhzZsqYVRwhrKQlEcURZFeA1SSTJpwuiuEd/8AZ7N/9BGl3+46YQsGXF0dkZ82wGzpLVmk6icKEieEGkJIXzpNrgqalrGrypLygrGKiykTxDCI04fImfetJqcjV1f/CNKtt4xQKVc0TavAAWsfreMyJ9HAHFy0HCDfT58fND4IXV9J4NuXkyAMMHh/wtMjJ5Hy7ToL2wx085qp6jUoTAbHLGIq+xVU3tLCYyiNpjtUYLqGyF0QnCQ+UaFQcc5aDLW51NhLfUAYx8tfF47/BBYvTjuXx2WZSnVemwqsZ5dR5eXMxr9RznEOr5EJ3nmwyurl9T6mJtrO3jhxOEQD7DFveiPrxo/epiyaODh0wmGXVpEYkG15ynuBVjbYkDYhVR1SVEEuUlfp5z/d0/5NbNqIE9SfkK1UUbsmWNjn87yTU42+TufLVv4YJH/Rbn5gnynucnFnjB10KT7f51kQ+B2elDzjOH0ZqyzNBRc868d2htcNUSdIISElcViCRBlRVVuVgxTzvm//7f/zsm03O+8/1v8Zu7d4nTPf4P//S7/NUvP2b4i59wprf45nbC3xyM2OqnJKUnunkHmwf+6//qj155I5fjIWd2iXWaTu05nZzR3brB9iBhPB7z8Oic3kYbUQRyu8SoCI2g2+sTpObmzfUzq8CTh89WFWfHB2SVZ7C1TTU6xyc9rl8fMDqbMp2N8EYRxSl2vkCYCCkEaauFKB07N/dfOzD9ywiFl9mkBOLSoTK8+2t+/Dd/w9B1+eDmTf7mox/xg//8X3BrK/Do/jn/7i9/ylvfvU4oDfc/+YTt3QG17fHO27tIPeAH33//lft7cnwXp/YwdUbhjjk5l3zjm98kjI+Z2ZrT8yWbnQ7OTRjOAmki0d2Irha0tu+wmb78AD6ZRf4x5dMzjiYLnIvZadccz0r2b9ym5UoyZzk9HtHub2PcnPNZSZqCkoZOOyUkPbZfoYDfOuSdparts8fAYz7d/L56JYCOYrSCf//j/x8PT2veuPM+neUnfHQW8Wd//k+Y/+pnlG3FwfEE5/ZI/SMmdYRzSzY2ush8wa0/+CG3Oq/KBB1ffHbAdkfD9hbHD45IkjY39/scnU+Q5RzvDSHx5LOayCRUpSXqtCgqy7tv3lgrwOAiSu/Jlz1nR8fktmTQ36SoK6wT7GxvkeUTqD1V6UilZQkEp7DeoXQMyrI12CXSX+30has5H0LAer9KiHOBD10JAaKp9/54HI9LffvgV74GobDFhIODE77x4buMzhfEsWA2OuNvfvEb3jIxrZbhJPMMui0GnQFeL5gcPED1rj/zFn/WbX11IoUIuNmY02VMv59iK0uWzWnrnPFkSawUEkdQikhoWrHCl4LpeEJv8+X1S54VeXMhATcJRwTC1fjgqUqLEDlVGTOeLVBKEQmDcAFjDMIoUJI8z4jlsw3Vzxv/s6TQ54HRX9WIf/HpsvI8uHvMPBpxe3uDECnu3f0ElVk++nhEScXJ559R+D7oFqHMmS5qPv9sxttvf2v99q7EUHtXcTY6oacjvMkRwTCcV/jjRyySAYKK4WiMTGqiJKX2niKbUAuDWTMk/lkF5UIITUEkrbFliadGaMEiLyGfMPZNLfPFcoYJdZOsRDpsnTPJPC3zfC/ts9pexwEjlSZ5ZSnuckDUZw/5xaef8cXU8778NaezFr88+pDxX/0Fw/4u48PPORm16HceotN3sLJELWZsvneLQb0+XO3xmByLAuzZPVrtmOHJnChasNvX3H94QNtNKaqUUizJp5bt/W3qWUFhDJ32xgul9iutXTKoJ8uoQBEC0gfmecFiUQE13U6Hs7NjYiuZOzCLBZlRjRMnr6lUoJ0O2OpdTeH88rafXL+GAT5xzIRAr1MIbUXy8qdE+OADAYrZmHlZM9jo8suPPuXarVtEoeJsnHH9xnWSSIMQ1LZkMivY2x6AteTW0mq9JEvNsyh4itoSgiAKluF4Rm9zA19n1EHTabdXWFCwVY0LniROH5ebfU41wnWpqmuC9xitmY4mJL0uipplaZs0X6sZ9s5RV5aknUJwWM8Lvezrjn04y9nopHga6UpcICukwNqaeVGx2emstVGDy3h4dMKijHlj0/DX//4jPvj+HzB/9GvObMq3v3GHSDYp9WxRgRQkSUqRjwlqg37n1VW/qiipqxplYpwdcTYNXNvd4OTogKS7w2YvXWXIAmdrgtQYJamykrjTenWV+wp551hmGbVQdI3jZJKzs73FYjLGipiNQbspgicE3tUEIVGyyQGrjXmhyWet9q3D1p7oSs2uC0wvovHAO+eaCLA1njcZjnj44DNa1+7QyR/wy0eW73/3Dh///CP6Nz7g9m4bIVZJmF2zX7RWjI+n7N7ea0ovvyIVixl55Wht9BkdnhBMxFYr5mg4Ynt3h/giqxIQ/CoDEY68dnSvZFb7bagqMhbzgqjVxducvKrZ6HeZjse02n3iOIIVgH5VeBUBWFsQJ52vrPUF7y6zfl0OUjzWEYJrhLaXzepTDqNydMD/9L/8j8Rvvs/dv/gbdt7+FqI8IC+2+OGfvs//5//7F+xsaP7kv/3v2PgqJ+AKTUYHfHHg2E2XPFrk7LcM48LS2bjGG9cHnD04YiJiPnhz7RTEa5Otpnx6nLElBJNiRiduU7uKWqdc34g5OJsho5i3r1/7SuFsV2/ferng5z/5N7jdm5z+5oje3jZRNWVRpvzgd9/nFz/5WxSKb/3TP6X7iufi3m/+gr/+TLJfHvHruuD3+jvcr3P2br7HtjjiF/eOiXe/w//ujz/87QfzJTr87DNkrBnOJkjdxbQMNsvZuXGbTr3gNM9ppZtsbb6WFFpP0PT0jKp2WJFRlBHJRkyYVcTdPqGaMC8EnaTLzt7ryyA0Of6Enx1atquM42rB7e42w3pJd7DP9b7l118cYAZ7/N7733i1BwfL//o//yva/RYPj+8ixC7tGxp3kHPnD36Phz/9t0xUj+996we8dWvj9QymXvLZwReYeIf5ySGt/h4qzLA24cabN5guhuTTBdfevEPyOOfKa6LA6dE9fLpBMZxg2ikmBOrg6Pc3GR4dohLNYP8GnRfWRns5Pc7y5vn4Fx8hhGGRH1O6PumWxo8K9t98h9nxF4wLwc033uX23ou1lKeyKmml0Cri5MEIjabODij8iGW+Q53NOLx7j973P8CIlzlNXmFgaAgl2TJHollMSmpf4LcFy8WY6fkCfS39WrBpQioiAkVVIIWmLgtq7xHKYqI23haotFHVX0/7q5pIJmJ6Oic4SygnLOoF06qD0Yb5dEZ/sINeo80nzCKAr0vG41OEzSlF4IvZI355/wHp/ju447t8fjzmnd7Lat28CgWcdRT5gjw4El9S1ktGwxG7197k/OgR87RDmrz+aCgQOA/FsqSKA1I6imVBPh+x1RkQS0lVWULsvnpLV9R45yuW+ZTx3OJV4Cw/5YvzEe9+bwvhHbPxkE53DdPSU214xuMlD+5+TKFqhudnuAeO4RcH/J9/511+/vFDSrfFN9/OgdfDPL3zlPWY4Sgg8xnLAnyYUizb3Ly1zb2DI7YjjfUQXjesw0Moc2YFyLJkWZdIb8mWjt7GFko4qC32dW0d0XD/xdwzPb9L6HjGoxn1uaM6GNG/9R6lnfHwLGJ39+V1rkRZlEEqgQ/NREoBi6ym04mbjN11jfU5NiREwjKbThjOHXfeug7eNxm7wyoP3io/oZAKvcryvQ4F73AhoERTFyZ4j3MOqZqM77ay6EijjXntWYTCKvpAKYX3zSq52oJq6sLU1qGlRhvdjPU1tOedpbIQmebwG61wNsc6g5Se5XKJMjFJHEFYpcR7xnwGv6qCudJrAoF6uSS3jnbaAinx1jI6H7G5u0UxH3JwNKXT3+DGjR2aZGsN871QWhpV+9n21+el96vrnECEkiubrrPkdUUraVEXGaUIJFGHSK2/J9afy7rJSrWq4Bm8pyoLTJJii5zSeeK0RawVryMZRoNMabIAxUm8QhwEppMF3W4HWy2YLmq67Q6tTsJFAumm7WfP3+MXYDx8hI8GxAK0ktgy53Q+5+b+NT752U+p0w5vvfMhg+QlnOzL8BKet36e6TQjTkxTLE8I6rqgrg29rmE4mSBFwsbGhRnt9a7fMl+idYRsNjrOlZSlpNMyjM7OkHGLXr+Llq/uE3hGi4QAy9kZTnfQUjRedFszzRZsbW1x8uAuLm6xu7tPelXafZYP5f/2f/2/BHaus9vu8eujz2jFfRanE67f+YD/9l/8Mf/D/+N/JEpjprMxwVyjZ4f87OEJ777Vp1ho5PVd+pNHnLsBW28Jlkclb3z7n/PPf/DGWsO5CoWpsyEffXEX6QURES5WcF5QJpY47vGND7/JS4s7viJdOHDKMuf+vSGagoIagsDFml0ZOMmWXL/1Htvd395Le+koCp6f/cW/IW9vEsYjxg7+6I9/n0cPfk1U5Dw6r0n6JfkkYuFrWmWJjzf4sx/+4ZOLCUx+/Tf8Pz+619RNjy2zs0CaCqbC8v33f4dr8YK/ejRGz86o6bM30BwPjzk8mrL35pvo4LmRGD5dzjGhxZbZIqtm/JN//k/pd836l98qln98fsL5tKLK5kRpjEZQGYd00Ole59pu53IuXieFEMhHQ7K6IvcWl1eYuEccBfIQqMvA7Zv76LXS0L2wIWwx5Wd/+0s2br7N/OQzXLzFh994l8P7XzA8P6PWERFtyvIYJbo4BRt7O7z/5htfGrfjp3/xP3P/xBM6EfbwkNbePuXsITp+kx/88I85+flfMS8Fh/OMWzstgol58Jd/TX3zA3aiJXFnE9NqMfz412zeeotuV1CUCX/0h7+LWveiX0UFhRA4++IhnpKpkyjn0K2YIivRScrNa7skyevUwK5cHsEzWpxRVwo3W1JoycB5wmCAXyyQrQ5bm72v3G4IgeHwIZ/cn/DGzZTf/PIRb3/4O1zTS44zz4PPP2Fz+waxznhwOGXQb+G04fbND9jdSp7aO7qWCW/tbqFbW/RGZ01hpq0uQiw4HS1I4ph+L6UWntPTE4oo4Z07u/R6AyQZrpigOjukucNPx8wnlrwsX16M6glqJKC8srRMl2WRodMIZzNK59EmRrkls7xiuxV9pQl8dutNyY/aZgSt6USGSVaiIsVyviRqJWgpXnFMz6YARJFgVhtS51guMxbzOXd/8xk727soLVnOC+Ig2drYxk9HICxnswW3NwdPPKu2GafDIXG7Rct7To+OoN2nwvGR/YjeN7ZY5BXRdMLUVjx8OMX0u8RCMxxNiKRndH/GtBUwLuWkOmQxm/J7/+zPALOWp/lCSg0BqmJJXuTMZzO6skO9XGLbEbEVZMtTdrfaKLVuUod16DEzdJVjOJkhE02dL3CZIE5zSPsIqy49Or9t0xelYQBmowPUxiZnoxGOJbdv7fPp3bu4qoRYY6sYxYikIykLWHyWc+vGbdpP+OU8o8k5o7MKo3eQ+ZTPPjplp+spsozo1k38+BS/kBwvFswenJCFhNTF2OMDXFrjPrvHNOohJkcMpxWuVRKiff7oD393vVDJ1doJINic88mQPC+o44i2MhTjBcYYquWcNI65fn23+exrWr+rppB8NmKeKYww5HYGS0HhNO3lHC2jr9bmCnIEAXzBwekBnbRNWVs+/+yEzsaIT4YRi9GI6bwmThzLvEn64qop3m2xu3X7qb3zhMMoBCiLJUnaeNOugtMv6SUcxNkKhyEy4jFe6kuT1bQVnlQPr9yAjz/jVzVTXt3Y8sq31Jc2m78IBnB1U8PlwpX6FdsPPlBkC0QUI5xlWVt67Rbz2RTT6tCKr14Oj1MsPI+895dqu7MZ00Kz0Y4eBxWwwrQJARd175sQmdVzrwLGA+WyIG61LgHbz00ocYGDuwrpuVzDlXfU1wipV7kBeAWp7xUkxAtHwBP7JuCdRymJDWF9Kezykc/5dAh4XzEZL+hu9JmPzhBRl1YcGE2XbG3tYFZ8mnCF4Ypnr2CVL3FK4a2DUHN+PqPb7ZIkGqRGhYAXEu8sSkFlPZFUONlUW1VKUdmmAJ0OgspVZHXF7ubOZf2oZ40pXFm7Szemd1hn8Rcd9g2Ez8QaKRUhBIxZ32nzKucvAN7WzfYUAryjch7vG1B8FEUotdqrr9D25Tgv2gmB+XzIybTi9nbKL391nzfefZfZwV1mPuX9t28hRMCvcLhKQpCS4CCKnx77E7Ht1bJJ7Bqlr98x8zx6VsLUf0jkvSPLchrThAXRJKe4tFU+cUU1EFwECGnotl/NTOCKETLZfO0A/hfR8/Csf4cd+O3FyTXIlRXLsmDFDy8lrwArBnX1UmjWUgpJkrRWdc7XoxA8Mxfo67/DYNsvMZb/EPTiqLSvTuEC68QVuW8Vafblc3L1fda4cJ9gp8fjI6LeNfa/pmjpZwGP/64W7eoilaMK0aHJHG09MtL4AJWHVAucXyKIkaKJb1VSogXkdoFSbTrxekB5gMot+H//6CdsOoctfo1I3ke5knk5ppPsE8Qpk9BlU6RUy/uo9m0Unnsh8M+++V3eunl9VRf8JRQc008WDL7zepjnszb1l7WE5tevd/2ecnK4ksl4jA2aQE0IGiUFVI6gJQiBFc3GFgCFI8QX8xezudVdC2N6Mf7prw7594ef4KPA57nj7USz9AWlNWxGmtNZxaBlMMbzKPPcaGl8ronFJt//L77JIHnxXrmMXKmnZHVFX+99LaiSl9HfVcasolwyHE4giNVFs8piJjwhNNKlDAIvQYjGoRV848ja2NwkieO1ncbB1xw8/GsW+TZ+agmA6inK0xy1E6ODxI1mqO0edmEJHkxPU84eku5+wJ03rr9Qa3mCeW64Gpl8fZP42EAcLr26T73H8xfyanmEddf6qrRw8YzppwvEW5ZQVMhlid/sUlgYF3CtA9hHWLmFlilHhaKjHF0D5+GYkHW42dumt9Vda8MFAabbY4OAXabQ2kC7AllU9FobOJFhQ48N2aE0Z8jeBsY7DkLGyYPPmR6MeP/3PqSl1EvGXDHcCK8JwPJspvisS++V1LNXCD99bj+qMfnigFpsUYhjrNujLSXiIIO9BLTika/ZFwYNyM9muHe6CASjhwumbxa8sTdokBtrtBsqQ6/TI7Q8MvIMUoN2MfOlpt81jOtAryeIY8up8gw6EVYK8tGSn//oJ7zz3tvs7+4j5LMP/EU78znkC+DWP7yCflfpxM4ZLws6BE4mmmsDh6dmKYe0uQY11McWfUOi1IhZkHT8BpQzyukD2vvfYmfQWuWbfxkFbHbEdG5wR44gPBpD/mhGHLfRTuAfniAiqIcVBDBEiMkBswIm8wXf+sY7tKJnC5M6eM/pweeczyoA4voz4ugCU2kJ6AbSokCrCKMVAQfoRiKSmlYrXjvqprYVRyfnaMGqTKtHybgprxAqCGalxHoqIEI2psdQI4O+tCMFGbGz0V8rv8BTm1GIRm0O4P2FhBUAeakCXthfgw8EtVJJhSZppyzmDxD9t+nql6vVITjOTw8IeY0rDgnJBtqXzMtzuknAqyNGbk4hWlT5AaodoUPgLJF8uHub7N8/4C9bFT9445sMeq2nzD4hePKiQhK4sbVDUdeYi+goAfLyvhIru9GlubKx4bmA1C9jzI+pGk4ZVUUT7bJSf/RKda5d4CLHSHBiZT/yEAS180jZlDQRQbJ9/TrtZ9iRXk6BKIqRMgEZ4X1MgiRENTJJCEpivCQWptljcYxPEkAQGUE71Nw7POH2rRuYNcbsXc18Psdbz3LpmdWahSvJCsUsGBaLwJRAHDnmC8fUxdQzgbQpPTPh57/4Vwzf/FO++da1RkL+0gL62mGDJW63uNlqY71/rDpeGEuf8AdccTr4gNBqFf2zzgI6zk7vM18EfADpJOjVJRhWZoiVWC6FA2EQF3tISJACISRxp8Wg0+e3CtSSiqTTpgNMa0mr42n4TEZLtBC1wCY1uqsJosAGSTu0EcpCMORnZ8yLDTovAbA38wMuNLZThwM83iu8D1gfEB5cCOgQ8Cuzk/Ke4DwmSjkYHnLy1xl/9K0P2OpHTxnttSCwOPyM07yp2tjb1vT77yMIVGGMFvtIBFkYo0WjglSMkOwivGfi55ycWt7a6hDFL2egpav4/OEjkuAQwiJZEMRmg58TQwibqAAIy1DAlm8WMBdzErrIADYEloXkzbff4s7t3dWmXJ8W0zNO7g4RlUMua/wspfaBSQVZFIAhNkxRRIwKRaIdLQOzpObmzoC07fBqzcqHQtLvb7Hb9bj8GJ/uYnxJKw+0W7t4USPDBruiRbGcoTu7mBA4qWecDc9IhaFd1vzkf/g33PnhH/DGtY0njCqVG/Ojj+/R8QGPJHrjLd5NI5xznFrYM81lM59JBv0mscEog602CCFZ3l+ibrTZ6KWXjqUXjSp/NORedkKQgoJAGaC/em+YSzZWgPRqKdE6oOJGLZtl0G2vLqOs5GQ24b0779PvPB3C+CzH4uqvS5ui4IJhiAvsMxdYylWxYGTDERCrTDzWlgStmds2/iUh0hdtSqVJ05TQ8qTe025FeCdx2tBKNWnu6HQkRltS52m1YpyD06MRfndJFHeZ3v8ZP5094lsffJ80NlfGKzi+e8jdw3t4FYjsgHc+uIVOJMxqiBUyVfh5hpXgtcQvquaOjxS+mhPiFjub14lj/XL26SuG559zNkwaRnAKYpeVp9ijfMC3DQSQxYiQbjasOi+RUYRXAkSg1AV7177FN27soV+VgwZPXZWUAapaUJQBgaUKJaWsEDW4usaXDi9qqqCoqBBVSXCKaBAjhjVif52z12Rics7hvAcc0ju893jncU0ZM3zweOfwNhC8oqwqZudnVMmAVJX8rz/+Md/64EPeub7xROYrDRBJRRw1lRgjI4mjGAgEoYmIVwzLYERTMc4GiRKq+bIwdEzgfDRmsLtJ+4UG73BlwzcLceEpvbhVhbgALjWdfHwwmtvh4vt4ydnh59Q25xt33lwbwxdCoDvYoX2rB0WNWBSEnR6l9bRrxfXEE3yKZYCRKe1c0taOjg6M5IhqUZC5jHZ4OfMMKxdzFCe0CNSk0EoxTuJIabVSHCkJKSkpMiSoJMUIT8s7dmzM0cdHuKyNKQ0Pf/4jZtO3+PDdO48lfeGpXEldCxCK4HyTNhCB880ciwAWz4Vr0LrmvITgUS4lVDmLUUFve42MHRfz3HhMGmZ1sYYKpGpsRJqLmvdAUCgJSgWQILVFzGd8/Mtf8N7777M1aPE8T+qTc/w4LeKFNuBFU/vcB4FCEMKqP+LCrNCsQwgQZCCbDSmiG40avdadK9BagwnIyKO0QkuN8hpjDEpKlJZEkUAZj4kMaMHm7jYy3OP8/JTWRo8sO+bf/Pjf8p3v/j7Xe4/DVIM3SK1QWqJt05bWAoJdSXsSoTRaK0JswOpGFGzFTa1xbxmez9ncapG+xL6KkCjdBJsImvW7kDyxDhkCqCbzvtTglWquKykbO7FUIJr65pOH9/hVXvHBu7deObb+Ip0hTjwWsC8gGuJxsUW52msiCCSSLK+pVEbbr2mcEmBYjVdJQKK1QUmDWaV79KvLVUqFNqCUopXERJ0Bvzk6w/R2sWnNZ5/8jPz0Gh989xuYlQanofHx+hCQISC8WHmoLjZdM5iLIV106uKXEJrGo3bEOARaL3EghCv/bxAz4hI+E64UNHsMnn/szmwOfKNeCxGQwFE54VrwbAq5ttPV+yu20Es4yYXEIi49qeKSgYvLfIvdTovINWr/Ws4S73jw6a8YLSt8+Qk+CWhbsqzPSaIxQZwwDl0OSaiK++h0jpaCR/0W715/m43OJkW+YFpU7AWYHH3Cj4ZLvvv9D+ikTQTSRVIRTyBcWZsn+dGV+aQpMXKhRJpE484UoQ9ijRwhl+nwLkwv/vKNJyAyTzA+ARe10pvvS/AVpx9XbP5B69XA61ck0YahXpRKaS6N5hpepRLzF3tGoHVCtxM4fU76uGdR8BVlWeBVwC4tpYjI3ZKyislFTZVb8ljjraXIK3LtqPNAljmu3eowEI7h2YTW7nVyPeVnP/8p1c13uHn7OlquLjdxARoQXOSrFWJlKgpNPHYIF46LK3tOeIRUdDoCV55AcnvNQa32iZDIFfIDv3rt8j0uTVhN38JK7meFBgnMzz4n32/R7e+sPZ9SKeIkIQpgYkEcN/lxXTDEImruCy3RkSEIjUFivEEYw2CgKZUinwu6a7bnnaMqS1ztQThC3ZRSkVWFcwFbl+iqoqpKQBAqqJYFsmUY7O5RTuZMqpKNzZvc/eUhS2v51rffpZPG6CAEtUmZnM8xUmJdTKeX04o0rtAsTUGkFKGSVFGF1IpQaipRIE1ExzsqXSNEfIW5PZ+Ud/jhKWPVLFjuc8yqjKwTGcFrYtUw65n1zW0nofQ5KlRESuAQmKhDkDG+yZ+z9uJd9E9JRRD2CciCEIAUKNcw1Qv+c8EEfFlS1wXtdowW63mag5Dcfu9D3hBQZxBa3yPyJfPlEe32m7jwiHM22JdtikUb1X0PEzyynLCcjygzw+72Bu7hCedHGVtvbbG8N+NH2c/44AffYLObEi0rKiFBKsJkSh1vIYMkyZc4nSAAZQucTxqVrJ5T2xiJoNYFwreR4SIC6iUDUoGqKvFAKRyVF0RCEoCq8hS+4QS2bhiXam4oytJTrvIwCldjvEZICLZRLdZ2k3jLg7ufMalPqeQZLoxIg4azEjEyeAOnwTNBohFEBzm1bUGQuHKHjRsDTBJdMqmXkoiI4oQQeWQsieKY2DlKERPHmjhxpIkiMpa4MsRxjIoDpV9wfHZOuzdgd7vNwXjEvJ0w6MXc/8X/xFn2Q7773m00Uw4PH4FUqLqFegTt1EBWUSmI0ohQFNQeTBIjS0sdHCqJEeR0trbptEDINcrxBgheIJQgePC6wQhLAUGKJkfxyh9gvUStkp4HBITGXIJwBMdK6/AI3CshLhqV2TWiWJCNOh08PggQHufASRDONXZ1IfHBgXPY4IniHi2t1mtzpR1qpRopWwiUVCitkEqhCASpUEqhlUYiUFqTxIbp4pypiNnb2iHMHnA2HBLTp65O+e//asJ/+Z1voYWQvPXBH6CST7h/OkUpwfHBIXv7t9no7lMVOaUXtLubuMWSpYNWuonLcrLg6bdilJszLg3JGpmq0qTLD77/fT5/cJfKarpU5Lmn1Y4QfpNlWWG0wihFNwRsVWCSFpI+5dyhOppINCV+iiIn9NqvJLVc3PL+QvJa8Qtx9bYVgXDh+BCSEBwIgUwMoq6YzRa018xJCYGqyFmGQJ2XIHKsKyiLAimXuJBTiJRcSPJlgVZLajxWCwabO5yFc85HE3Tcpb/tOR+dIspbbEvPvxo/4L/Z/JDf+94HfPTZ59gyUJ4ecw/P7Z1d+qlksczppgm9jmKaL+mlLbY6MTNX0opamGsxeZkRufXu8s43bnHDzzjJcnQI1FVFhELEin1dU5aOJI2JTKAoy2ZTqqamua8DcSsixIYqyxAmbYoSiFfwvgvNzTffZk9uUcou3u/TQuI7OWo3wRtBy1uui0YtU2qOe7cLKE7v1UxmGUVXX5HQX0LisUlJCskl6v2KDhX8488QGshN2uuQbPQ5PDmFziZbW9ssF0cM5yP2E0lxfsqDyTXe/v07/IGquHs8wxiJrxbEu28zuBnjZmNq3SVtadx8QiHbtFsGt5hSiIRWGlG5gmles916wpX0HIrY2/4m2fxzSiRyYMkXgqSlkKmkyiuoAlGk8XpAMS+IuwmkEdWixEiQkSJxKXVRouOVee15dvKnOtRIrlKplROqqQghCZdOKSEaAUuppry3Co2DUQhJqOaM520S315v7UKzr5TWBOlW7SmU1M1PQCiN1AqnVMM8lQKl2ezvMjo/YXw+RfX6DETC8RfndN9oEyL49Cf/ryarkooi3nzvfTqDEdY7ggg4EUjbKa12Sl7UJImBKKGoSqSSRL0uoqoJHiLRpSMtKRfG+RfcCkIwuH6dDxPBzz77DYtJjQ0wGc4xcQIhsFgukCbGqIZxzecTWtKAhHw2R8nGu+99wWK+bKSbK/ClF99KKyPqSkq+VABDM+bGFisv0/tJVok5AB8ESatPUk8aT+4LbD2XqiuBPJsxLmrqfAblGGMLltWYZdHGM2EMaHKKbIwqz1AEzpKaUWxot9uYVuBkMSLd1uzsbPHoZMy87FPFfYKUtAd7fO/DmJ/99OecjCf4+TmT4ZhBorDecugFRhsQnjMUsTEEYTm2ik5kENJS5jUbsosSL1w9tIl44/0PUF98xqPzGVEcU9cVofJExpDGiiLPieKEJEmwZUZFIFGGOliKIieOUuJWm6LMKSLP1UglXgK2F+KxGUUIiZACKRRi9U9KgRRNiZXmcKw+i8DoiM2BYezdYzvesxfvyhw46rqCGnxZY6MGMVLXUKlAXXuqWiBEk8PTOoW1juF4we6+YmNvB3s+pw6adn9Aag3jRxn9GxqxaLJr3Xz3W6jkcw6OxgilOD59hIrvsNnfhuUSmwui9ga+znG1JultoVxBsIJu2iWuC6rS0O685EYQgv7OPt9Qkl/f/4K6NKRtqIqCqJWQtBPqsqSoHWlk0EpSFAVRkpL0WlR5hrWNT0TJiqosEOEFDsan3mgY7WNLnEQEtzpnoTEhIFeSbvMNv7IPCS1IZb9R8ZdrXrYCssWco5Mj3FmD9lAYqmFNPIiRLhDGI+S5oRpWCCSRMITpBCVKWt0NVAkPR/fo7r1Hb3OLYnpGHkFkpujLQy41O/u7z+xD9womzlwJH2xduQAeAwdeLk4LBOnmdb737Q7zRbl6TT423kEj6V14JlZq3YXX9GpYh9SabhArCeGlTV/2sVHbPMJZgvM4Z1ceOIGraryyBGGxtaMWgTIErMvJQ0U70WjWjIwQgt7GDtcE2OUptK6hXcmyEKTtm019m7DBnmxTzjNU7zbaO6Z+gVlUjBeea2aDpOWYjc/oaEN/axvcnMVsetlMkg74/T/50+d04fFGey7w/bndf/K7QoCKYm6/+z7bN/LLdfDeI+VFaWYHK6dgoMlapVeZ1r13CKlWQr5HiOSF0tKXAytCCFS1a3Ku4vCypvQObx3aW0LdhFA6LZpaO6rZP0JCUU/xoUMUJ1dz3z6jUa5ImJooignGI1OFMRGxckQiJo4VURSI4wbnaWpPFEWIWDDoSGbjzyHtsTPoM81Kzs4L7uzu0+62GI3GbMVuNT7F9dvvce3W0/up3e5e0az6V9557HRqXfy+goy9iATQ3tzlO50eVe0auGHwOM/qQgrYVWDIasKfMG35EFBy5egJlihOnrlOzyNX5Ty4f8DIw9nMUE5qpPQ4TlF4sFAf10gvEXLCEkHLjlE2Z+faHp3uAK1enLTmsg9C0O702Bf7DVRJePR+xHK2JNlOUA587pHb29SiAg9my4DqM3MF55OKmxvX2TEbTCdnOLvBmzs9DscZJ2ezx8zzddPj5KPPpzjpEifrmn5fRF9inFcW+5njEwIpBUHKJhWdWqEHhEKqgDASqzRaaJRVaOOJNBiTEJaO6XjGxqYnyJfPXfCO6fiMk9rjinN8fIz2JXl5RpqmeE4Zhoog21TLM1TWReGZtzW93g5FNOdkdIaUbbY3B0yLKZOZ4NbuJv1OZ5Xw4GJYL7+NX44Q+NLfX5q/y30pFe3O60tu/Lx9+KzXjVEIafBS4tAYr3DCo5UiaMAFpNAIGVBO4VbmmEi1yCdDlv29S4fSS3qFx2OdBRcI1uOsa6At3jV1273HOYFzrkmt6BTOBoTR7G3tcHRywjiO6Xa32XI1w9Mz9p3h2nYPXT4//vy3olc4y1GUEL3GHDvr8hGpE27euk0vBPTIcG3TIoWl9JJI3II6UIsa84YB0SETqgHJ51NsmZGfTohcf02bJ3i7giqtbKhYi7UeZ5uIomAd3lqstc0lWwuwge7mBpvZiPHwCN+V7G9uc3RwzHCs6Hc32Ay9p5Mhv1ZaM4zq66Rn5TAMNMBZ4ZviT01ezKaS5IUjIXiPFx7vmzynbmWbS5KUVLdXMIp1VAdBq92nHzyVHiA7G2iXExcFaXsD52a4MGBDtymiPqo1IBKBe9Upp6dDZNJnbyPm/t1zsq5kc2sXtyg5nZyDTwkvuaD+PtKLpJiLVy5M1PiVd/1yLRoTCyE0TpHgH6+pUrQ3ttDSr8k8xeX/ffAE51Yoi1XiGBroDkiCD3i/0pKCZTyaYHqW7Y0tymzO8HyKuhazmWxR/OYhZSunH63PdP7BkGhsnhqBMgKjm0wqGo3RullfA0ZrPApFI9QEqdFJH5tEFKP15k0QKPOM0WiEnVh8sBgdUUwKlsME6QVhPIFzjR3XEMCICDGfEPwUNgwbcZeDk/tkqk9r8zrd6JCDyYib2vDVctv/PSQhBPl8wvBwgqgselHi6gVl8Iy8QqgA7hSrKjQJ55UgU4GFhkmUMWht0I7XvxQEkiSOSAATDCGJ0T4QiInjCOdbxMQkKgEboZMEhaNrNhjoiM8/HtKrt+hs7ODrA8ZjoLXDRrtkulwg/iO4oL4uet7llM2nLCyUcoINiiJo/MwijQIjmLoaQ1MzidmCMKwQQTCdazZ9F5WqV5g3iVQaZRQidhijUU6htEGvSigrJdBGILVsvLhasbW5Q1h+xllu2OsN0LHjN6fHtLf2ae9sMLUVS+O+urT594zkChcrvW+CGFYewwvHEyKAagQTGTQyKKSUeBHIsoq43yV6QenqJyhA2u6xq3ZxvpE8zb4hm+akewnSB3wekPv71KYGHzDbBqIRhTF8Ojol7r/B1u4Am82Z5pb9dpuBEUzvZ//4mCdA2t3k5s0O5BV6UWB3upTBoX3EDeUJDtwqtl3lkq7xdAyk4RSf18zzJesWWdBBUR6dcCqhXBbU+pC2cUxnQ9qdFKUWnGQZod2nWi6ohkd0EkGtPfSusTkYkA1HLOsOtwYDalHy2eGMO9t9er3Oa2Wez6vq+bxb/us5+FckwifGtsI/Iuh2ByRqi1yWOLZpe43Lasy2IRjB0lbsSNN4hycxfqcxDbncUc5HFGoL0X8+SP7qeFW7JJ8VaCUwsyWF6uFtjcstlUyQdsm8agJMyOYUUR+8o9awub1FPR4zPDunu3WNaztt8vkpYe4Z3N4g9esnnF579p5hBnj2+n31rPrrtn/19RCaSB4XwDmN9w04XwrbBHcECHblkxCOIBo7K0EgrGC+mBKFrTVtnpJFmXNycoIbNZVyIxGzHC2Ij1soIbCjM9SJwE0qrIfER8jlgsHNlK2kw2J4TBnX3OzdJj+bcn46RvSvsbO59dICcf8AKVzEOAHgQmP8Ds1bl9FNjQrW/LvEBAaI4xadOF3HLwaA0R3+yz/6Prtph529D0k1RKrNzWt38IUnTW9wo79JXXg2975JJANBad5J2hw9PCD3gf71bepiwTAbY5IeW5sp59ND8qK60r+v/u+Zs/UC9eh1tfvkvycaeOr1AIRVuQ8RAuJSVb5Y1+ZvfwnpfmzWEErR6W0QK3kZAPKyeRi8d43d3U28lbzb1ozHE4yMGYSS8Szj2k5CXcwoCs+tjmE4nSDbmqiTMzybkrZ7DPpdRmfnFBY2N6+j8rxRJfGvff6etT7PWb2vZf2etz8ev7gKnpViFQX2uBTwRdSXCBdrFi4DWEDQ6mq6nVaTU2GtPij2b/8+EYHWtRY+LSmrmsGdAdl8hleG+HafxXRBtN2BpGRZWeLtdxifzsjrwGDnOrqyjGZTZHvAxkaX6eiQWWm/HsnzxYvGpUTxtUsuX7JrXTix5H5BlnviOGa2LIidJZKS9mJK1W6j9CblYonsJgxExjLz+F6Ldh2TVRk8J8vKZasrTnvRdn/7Gt/53ZS/+dtf0klTquWSo8Kws9tmOjnH6Ba9ruH45ITNzR42XzAel/T2NsjUjNmsTau3SdtYxkdDfHufnf4ex8G9dnvnq9jgvo71e1n7QcTcP84Q1ARZUc4f0O528L5g9kgxaEXYZcmh9KRpi1pOsQ/ntCJNhWRZ99GtNaSWFUmT8P63PuDw4Sf84qMHtBPD6ekBSXsTQ8nB0ZStwRZlNmVaKfobEefHJyRxF5m0OZ569lqS7d1NHs0fMq9L+v0NZCfBvuyc/AOkuKh58OCQPI7IFwWPlpo4UpTFHNQRiRIUsyXiKCUSBdOyoBsViNrS6iW0pEIrufa8be2+w5//+Q5//e/+NY9mGcEOOfKStN1ifPc3YCJaSnMyHNPqREg35fgo0G+njIc5rbfapP02aZB8fjzmxi7s7G1T3J0/mQz5HwuF4JgenzJcFtRVQZYvMEmPSAiy+Yy438OEisW8ot/v4FzNosjptPv4uiRfnPCt3/lDomhNsO6Kqrrk/m/+hp/85FPmtqYoMrqtLlW+oBSGfhoxmwzR6QYxjlmR0Wr1cNkS0XqLb103YCRfnFZcu9mlvNPjh2/8DutnF/17RI2m9pRJIhCoypzjo0OqECHKjPnS0Ru0qcqSyhd0W33yfEFdGnp9QzmfYKMWrVQxmeVMt1v88fV3SV6xQ9PTE3718V1c8MznQ6xKGHQM49MZycYW2i6Z15ZBt0c2GZEnCXtJxNnDL2htXsd1R8i8T3Y4Yve9b7Apv8uHf/D6V+9ZKKwLZvO121gvpcaVdvel5oJ3jIdnzJYZSdxiOZvjow4dI1jMZsh2m1TDqMwY6DbSOJbjkqg/wDBnPPFs1LfZ/+7z5y2s+tF0ohHUrK24//Ev+fRgiKtyJssFg26fOl+Qo+i3WizmQ1TSJyYwW87p97fw+YzDsOTd/W9wfFDQa33OtPUGb2UjRPgarr61PGFf4yKuN6SmHEZWVFza067YiC4hcyubtkQ84dEdDAaoF2SUeb4a7Dj74gs+OXgASGanU9RGD+08y2xGZ2Obar4gi2EnaTE5P0N2t2hJy/jRMRvXbjNbCoQ+Y/HWPv/HD//Ja2eef7c2zqdaZ53lC65mtlg2zgS3quIqwAcLNDhS7zxCNWD42rlVNibwSjDo9F+YFPl5c1DlSz7+6OcMl0uKecYid2xt9xlPFyRRRKelGZ2fkmztgi0o5wX9zS3mo3MyPeL23neoPv+cWbvHrf1/zg/+6LcvKvgq/f4yfS1reYVxvozyYomUBiUFZW0xWiOCp3aOyBhCaGBhSummRAiaWIN3Fl8bku6zleYXjd97x4PPPuFXn3+CLSxnZyOSXp8o8kxGMzY3digXM2zw9DbaTM5nJJ0BcSLJFjlV+wbv7y/47DxjY7T8xyl5/genEJhPz/jVz39FLjSL8RCrBZutHqPRmLjXw4SC+SSjt73LcjYFreklKZPphHH1/2/vvZotO7I7v9/KzG2Ou+fa8vDoBtgWTTctMoYaMsQJKmJGilDoSS960EdRhL6BPoYUowdKESOGzGhIimbYBt2NRjd8VaFu1bXHbpNOD7nPNYUyp4ACOGpiPQBxbt17cmfmzpXL/Nd/bfLaCyXVDc2/eOWf8fxb4n0tT5LgGt59+x/44PZ9fAycnE7Z2dnBVhVV7Rltj6imMzJVUAwMx0dzejsj8pjgU6PGY168ziD/Pr/9289XeX4tT5f59A5/+W//hjmwXM5xFobjPtPDKWbYp5fB6WnFxuaItq6ofct4NCJIwc62oyq2Gbz/4HIDuK/lKxQBVy/427/6v3nvzhESG6ZLz3g0pG1nuFozGuacLpbkRY+clskksrEzoPHwwvUrqDfH/PHLP/xaef4jSAyBo/sf85O3fw2ZZnl0SMg26fUCh8dz9na2CdWc0zawvbXBdHJEVmwyyDwnD6bsvnyT8fB3+cFbzxY8+Fqeh0RsteTnP/85n+w/ALvkaCnsbfapqilRcjbKnOPpjNFoDHHJfBEYj0YsFodQ7HLTNcnyjDHiGovKdFevfTlqEpNP25XUxTP4ihBpvKcw2RNgEXJGafXwBNIoT3cfUt60a/0b0+d16sovPcWlyrWIu1Ay+MSx42UyXudjh+97yhM/nKh6zHOF4Lj3yQccTVtwLZNlxc72Fu1sRi2GjUGf6eyE/nALrGfazNnZ2sTOj5htj/jhq99HB5dYd56xy6gPnhgVxpz3aXn4Gc+pAR+aYex2Ty7/7lPdxtW79JgFfHzI4Hz/Ygz4IBj9bK5n9B6U6tiBnvSIj1qDRz9bNTniZz//GXfuHTI9mcCgz8Bojg9P2NjdJrYLprVlZ2PMbDaBsmQgitn8hDd/77/lD98a4pxHRJ0x/a8rrrGYYg0OwUfOMZyXO38Ff3dRgnMXOtKuL95btP58833kcwTP7fd+xof3JoTgOTk5ZGNrD5oFizqwtbXB4vSAWIwZ9jSHD47Z3LuKWi65//H9Tnm6E/6n//kvmUyP+Pb3vsOvPnyP/uAK/+Wf/A5/8/YvOfrF33Nkdnhju+Qf7h6xuVFQBk1580VCHfkv/uUfPvNC2NmSZVjgJCf3kVmzoFdu0O/lVNWMybQmLxUSDJ4WiRk5jrI3wAJbm5vPNN7Fw9dWU37+o59wPGt44bXXOPzofbLdF3jru7f48Jd3uHfvE0JZUJQ9qvv76NEOmYmMxjtI3fKt3/4ez/ieP1W894978kvPLokqhgTxSEQshx/8gr/90Y849Rt854Ub/P3bf89bf/Sf89Ju5O7Hh/zt3/2YF79zEyrhow8+ZGdnC+9KXnrlGjrf5Hd/8MYzP+9sfh8bNsl8jfVLZovA1RvXkPmEZQxMF5Z+XkCsmC0jZRFgmNOLhry/zSB/+gG8fHGdy/HtX/L27XvYuMk3tx2/uDvjuz/4PcZ2ykFb8f47H7F57UUye8jH9xfs7uQQc/a2hvjRLd68ufXM832SeNuyqGrOORhWJL8rDNxKhMSemy6PojekyIT/8Ld/wZ37jpdef4N+/R5vf2r4kz/550ze/SlVL3Jnf04Wr2D8p8yrDK9nbIw3yOdLbv7Bf8at4bOBZiKBg4MpG5mCjYJqMkeZgtEw43TRYFxqeeNUTVslGr7aOkyeg3fsbG+ucd4v5xHOf+z5xY9/zIP5gtde/QaLxQmLRvPdb32D+w8+IVYtx7OG7Sxw2nFNhCZgRgNirHn99W8zLL8YSCiujlD3oVlxeUZPJHHDBr/iYIj4EBPLU0h07EoJzq6gSkrj61M++eQer/3Wb3F6vKRaHDA52ufv336HV3JDXiruThsGZcFGf5PQLjj++EPM+IVHPuCjbuuLCykqEJc1lYuUuUFcxLY1PvO4NlLkWepbIgEtgo4B5YWqasjKNbLcjwCPryxgEQiiELckSmC5rInHh8ymfd59/yMGAyGLQrO06CynV2paHzh9cJ98sLnWBj2OJehxNf+fpzf9StrW88mv7jLLD3hld4OoI+//+teYecNP3zllEYW77/4aGwZI1sdXC45mU5yd8fI3vrP2OJe6Z/rAbDljqBRet0QUs6VFzaZUpkRwVDXEHEwuhKBo6yU+5GytGeZbjfcw2Dq2Ft3LmZ0sCdESQuT2/hG+ucfHVqek3OFdespR5AXeNVSLE5yr2ShuPNPY6yRgdJazkX3O4EmMuKNPefvdd/lg1vIN9WvuHw/4xaff5uCv/5LTzV1Obn/I4bTPYHQb0a+iM0uYH7P76kuM2meHlsUQaLwwPT0iG1xlMWlALL2sz+nxlL6qsXVJyxy7CAy2R7hlxBmV2OrXMhzOvZKHz8LCegrvuPvpEYeH+2Sq5fD6NX79q19gGnhQe7LJKRNj2BhtEuYtCxXZ27nCq6+Ex474qLEv79/K6Li0KBTFs4dOiqJAQgyRCNX0mFlt2dze5J23f8XVW7coxfLgeM61GzcoM4VohXMtJ6cVV69sId5RWcug/2yQnTSpQGsdoNDRMZ/X9IZ98DVODHlWoCTRwdnGAoG8KAnBE0U/c9+ih0Znuayw1lIWOXc/vsvW9WsYGqaLlu2dHUzngnrvqeuG8eYYoqN20Muz9d6fxw4fmCwbhkWBj66jVOMsWhKDZ9F6NnolssY8o19w++4+87bg5d2Cv/mHn/LGW7/H4u67PHAF33njdTICojJcU+OBfq9PXU2Iesx4+OyukG1avPdok+HcjHktbG4MmJyeorMe/V6O0hqJEeda0Dm5EWztyMv8C2V7nW04PT6mImM7b3j/7oyXX3uJ6b071LLBCze2gABK4W0DKqPIMprFEl32KZ6C032aBO9xLmCyVSuUrutATPR6wSfuhCxfb11PDo+488n7DG68Sr+6zc/uNvzOW2/w7o9+xMaNb/PilSEQECO4jglJa83pvQm7L18je9azEANNtcQ6yAY9FtM5ohSlKGZ1xXA8IlcrRn4h+piIq6PHi0oexReQ+ckhDw5PGWxeoZk/YFLDyzd3+eTjj7hy9SVGG73EkSodh4BSZFqxWJwy3th7IsplvekHolIPkepcDgtF0U/1Lj+TMGoP7/Dn//bP6b38Ju//3c/YffGbiL3HotrkT//oTf7if/8rtsY5/+K//m8YP6f27ovllIODyFZZc+QdmwpmQejnIza3SqbHpzidcXV78/kMeEGq6cf8xU/v80qhuXPygL3RDnWzoM3HfP/VbX78q0/JBgP+4Aff/3zdAju5ePv6pmX/9jvU4x0md6YMxyOkXeKd5sZLN3lw+zYiwo03XqN8xvjSB7/+9/zNryLX2wPesw3fG21xu224evM1ds0hb394j96Vb/Gv/vD7n38yD8nswQO0UUxtiyJHCoXULf3xFrm3zKwlKwepbcjzFIEPf/oL5ouWNj9lOi/ZutGnuT9jfONlZHabwypnd/MKb7xx67kNW83v8fGJYds3nIaK3WzATFoyM2KzH7h/MkV6A17au/ZM4ayI59/9b/8H+ajk3v0PwFxneFXjHix49bd/n/0f/xVHMuT73/09Xn/xOYUeQsP9ySHGjFkeHlMONxFmtFKwszWmaRY0c8/W3g6ZrF1Yt554x89/9P8Qtm9x/P4d+rs79MSzsJGXXnyRX//0Rwy2x7zwW2+x1/9i7865xxe5d2cfjWURlgTbp9hRuFPHxuaYajqljbAxvsrO5pMt0s+wKmltyFXOp7cPCM7jq3ssm2Pqeg8/n7L/4Yf0vvddtHqeWDGNKIe1Fi2atnJE43B6hLOW0DpkUHwp2DSV5/RM4GCywAVhOT2hti1qs09eGJaTBwxHr6SysecyvqSWx7rETRyZgIoVzjhqW5AZYbmoGQ4GKJ7O3HQpLAIE2zA9uofBUXvPe8dzfnXnE/rXXsPdf5/3Pj3izY03Hgmk/rwSXSoAqMVTWCAIzaJhOFYsp1NcXpCFddytZ5XU5G52ckI7jni35P7+gpOPP+LNKy+znWVM7s8ZrxlqeeJIZ258SIfQLWlrR5TAwjccL5fsXOkh3mGXE1Q5fOYFFgJHxzWTj36JDQ0nsxPaDxqObu/z333vTX7yszvUasSbr3/3C89nJTEEAnOmU40KFYu5RtQcHwIyHnC6mDOIitAVLTxXiRAXU+7MPsRNJpwuF0RXc++g5oXXXiXXgXZxSuWe07vTeZOtBzs9wfWFZmo5sRZOA73xDk5ajuaajf7jchAXvq6u66iUpM6KMSUkZrOG0UaJ1hpvLS40OJ+RmchscsKDieObr94ghoDSGkJqIqW06kDlqVfI2q0VQiAQkK4xWfQRH0P6vtD1FteCybLnTnMXQ6C1lizLE4lvJDFkawPRU9UNeV5S9opuTl9wvBgJ3tG6SGLjEozRhNBgnUZLoG0dojVZZs7KWFMDustWaPQeFwJKFFFSJberliysZ9jvg1IE7zk9PGS8t0M7PeHOp1OGW5vcvLnXfffKXUl4hkTcrToUxKOzzhfnAuB8C2Sos76Hgcp5enmBsw2OgDE9MrUmjd8zrKVvl9Qxo+waxodgmS8WDAZj6ukxcxvY2NxmWORdlv85jOkstrVkRee+irCY1wx6Bc5X1E2kyAry0pzPV1bk3mff9NligBg5PrxLzDfIIbWHaJbszxe8eOUa7/3iH2hMj5df/y7bPbMK4aU9fAi78ijkw6P3L7KYV+SFOfv71lkIhl7PMF8uCCFjY1Q+RwNiNX7g9OSEoiwBQSuFsxWTBWyPCz764EPy/pibt66TG/Ucxk5rXs9PcKaHEUGLIjrHopkz3NhicnwARjMcblNmhnPk0WffHfkf/4f/PsreVXYGI965/RG7422O7+1z8+Vv81/9qz/kf/k3/ytlYTiZTYnZHiN/ws/u3uON13dYnArqxg02Dj/hOG5y5RuG+d2KV9/6M/74+49OJD0sF6Ewvp1z+/A+RhXoEPFKo+cWn0XQBVdvXef5ARXOx48xMp+c8Dd/9y4SlizbBRFD6Pd4pa/54OiI7/3OH/PqtfEXHifGwMfvfUDoj4jTOZW3vPr6qxwe3yPzjunSocuWapbhxJPXLU3e59vfeo3iIWjV9J0f829++ms2JEcXLYsJlIXhVFm+/8b3uJEv+OtPDtHTI7waszvOeHD8gNv7E26++DLiPa/0Db9cTMkYsFvusrBz/vmf/jHjQba2ojk7hLMF88oRbIWonMIILg+I9+SyycZmSjZ8GUxCxx++x6fTGUvfUB3NyAZbjDdyGheYLQK///tv0cu+2OUXY8TXS+7vPyAbbhLaYywlV69cZX58zGw5x4mQxZImnKIZgniKwZBrV3bQlwb3/N1f/Tkf3gmYcYk9/JRs8yphepe8/zrf/+Pf58FP/5pJo3gwm3Njb4gqMj759/+B5sab7BYTeqNdso0RB+/8jJ2brzMeK5qmzw9/+IOu9chak0qxzeBZHJ0QxFHZ1C9NFTlNZVG5YWc8IuuSYs9r/86Ue7B8cPd9mjoy3T9hoRR7Eiiu38KdHqBGu7zx2kuXeqZ/rvFCYDo/5P5hxfam4eBgwe7V62waz6TxnB4e0BtskGvP0emSQT/DKmGzf42t7d5n3h3jVMFr16+iijE7x6cUeHZ3t8hMw9FJzajXYzQucFpxcP8BTa/PG6/fZNgfIr7Ft1PM+Cr9yuOOj5mfOKqqeka3MFk9TePIQ44NHmUygm8IHnwulDQsG8v4c+LaniZKa6p6Qpb32BqUHBzNkKLg5HDCYGODItfPxdWNRDKjaLxQKFhWLW294HD/gNFgQPARO7fkUTDFAHERJZ55XVEMLrPu22bG4fExeTmkxLH/6V1ib5NWw8/922x+c5eFtZjZlJm1fPxJV7ePcP/4hL6OvP3xKaeDQBZH7Lf3WUyn/N6f/KeM1yyTlA6zmSyyVI3hli1FqXBtg0VTBqibGYONAq3XLyFcY/SzF7qez3n/ozuU4x7V5IDm1DI5rWB0hdgUiFwma3nmkS7ErKvmGJvnNPMZLjaMt7c4Op3gXIMQaGODjxVlkeOI1AdTtrZ36JmLg3uOTw5ZTEDlm/jTI+7cPuTqMLD88GfoF24Sjg+xM83+8pTjj96mCgU9V9LevQ2jFv/hHY6LEXLyKafHAddbIr1b/PA/+cF6pZLd3iX8tme+rLFtk86bZDSNoCTSSk21NGTjpDyf1/6dGxSe/dvvsn8YGJWbHC4fsKgD7cSxuThl+Nrwi43bMXAlsczrJWWrcF44Oqro9eYcVZpmuaT2QmE8znmWVhHaEyo/Zmu7/My7c54wiunhmnpJ0Rt0WqIDp69IBZJjd+7SSfrpRdIB51oihixTl/529e8rWWH4LsFfYnL/LzqMIQS01mfF/uvees98O3Zjd39M8C1IRrQNuijhGcHBjwWBh4htatAZgsf6QJFntHWN5EUiel0VBHR7EENEHlMUEEK3XhLxdsGkNmwPCs7woSFyTjy4Uv9prdWq1/1qnAhtVVMMB2dW0mMJJR4Cu58xacXVKDGxr4tKw6eHXNPyewb3uos7hBBSPJLUh6epHVkm1D7S77LeX/jdiZEQLHVlKfo9bLMkqozMCHXr6RVlh5o4LyCIF7CfD39rUy0IyqQa/Og4PDhlMNpg0M9TS9wY8CIE51EanI9kShGUIN6jtMb6gMRIpjQuWubLliu7Ow9XhXzm7F1UnJAA49bZs8BmiDG1MzEq0cdFMGZ9fOWznL9IQlA4FxARfOuwweJCJNMFvV6GNuahsMfTx75Y3LP6XDdz5nVgc5Bx794JWzs7LE8OsWLY29niLA6CwujUZiV6IS8/a7Rdqm1vlx5Ekfeef2LmcfKk5mS/CRJCoHU24aUFVDy/eJK3G842SyScxR8DQpk/G1mur49R5fZzjQk/TdbtevklPgBf5sC+tYTOSDgb7uxTN+eV9dZd+RIldefUa7rOpPjf1EfG5jlBWNaRhxTLP4asVZX2OSWGcF4RSSQqhYpyhvW+aJCFEC55UdK1QX6SXLpK9k/ukW9c5xpfzgY+Cnj8VW3axU2a3p1QZy0SAsEFyFI2sfHQMwANkRxBqF0k04JRitovGI2usDVco0F9J95HPjw9ZFB7VG+K1CMcHpMHbJujxIGK4DJUWRGrkiBCrTKujwcMBsPzToZPkuiZ/GrO5veej/J8YsLhgkv4Ze/fZ5IctuLevU9pvCJgiSGVFEvriV3SyMnqxY5QRyhTskH0gFu3dh+KPT5+3Bgj4dBxYI+JRnOqhVHb4kzyDrLgqaPBxIQSWYihH2p0KClizsYLQ/KnWGurmH+wExa2ZWyufimokqfJV8WYtaxm7N87TJ4KCmGVSU/97hPJdWcASyoBjzHt397Vawz7vbWTxpGAt/ep2xHSgkSFzz2q1sReV5rceGwhKAsSwRcgYUnUI0bDJ/cqu7SzW96iyi9vEVcH7WFX8OLPH1UzffF3VlnLtTP5cFaTv/qeD//yXW73HkDdouuWuDumdpHjJVwbBLC3CdkVtBR8WmlGJjI0gSMeMDAv8QffeYtrN7fXciOUKFRuME5QmUJaA0rIc0cIJrVxVQHBoIwmmpwgoAtFNT0h1pbe7hYZT7sJW462IltrrcrT5VFKcbU/lxXraq9SA7RHl1R2jnzkPJHxTMmoC5/rB/zyJ/8XR/UGjd7H+2uMtIY7c7ha4JVwG89NVaCCR341g2+mWPHpfsY3fvhN/tl3Xqcosic+wyoJppVGicZHQTKN9pqockKIKInkKocYUKJTqw6XGpq5WHPvuGVnNKKXl4+tW1/NbzaDag68sD6t2/OWr4JK8s70Dv/vj96hFyIHE8P17UDEseCA3O8hThPuB7KbENURS5Ux8GNoZgzGPX7rd/+MF66umbhVmuDmzOeCqQWCxvYsRZURXIMVTVlHaisYK6DAukAmFRFH7SI74yHmMbaLiSFwtP8xJwtHjJHe/dss8l63UJ4YNSAoI2iVpW53pNiSUoqApsgTu/M6J8J6x2Q2J+uUYEogd13zYosPihUDiCWVSYqCEC0EndwhpfBRGPZ6a5EpPPqViF0MCwiduywdHGJl0ne2feiwfSiNcwt+8g//J2b3z9grnl5ZFWKgqSp05VE0SFXhlcfHQFtHRBxKQ7AtihYqjZNIDCURDfcW3NeeK/0xWZ4/4lLx1K1FYuTW3lWc912IMxJEUHHlngjnrbjjOWg4RFAqtUB46mzATSoq8YhEXEd2qkMgAjYEpHN/gl8tXyAGsD6gJNV1K4Th9hY9Y545AxeJZFlOSQkqI4aSQimiaVFlj2gUmWspVEmmAlK0+LIkxtShcXrnPf6drfmj33+Lp5fXp2SGEkGMJhOF1oqgNEoFlE/xQIkaCZKwz0pACUpFDBPmyxOW9ia7g15XLXZ5wsF6XPQUgz4vDIb4EBFZXUIdSU88D/PEuLLQut/pIIFrxQOjYzo9oG6S5SxBgVm1AhHER4JK8WoRT8QkiFzsMh1Go5XCFBll3v9cRSNBgclzSgRZCnkJREWDoi8DpIFWtZSDnBDntCLkviD6Gr+s+clf/hXy/d/l1qtP7yIWiCAGbQw6iwgGrxK8MmqDFoXOBGPAoHASMcqjRWODMKs9y+aIvdGYfu+z0EsjRJrjfao4hBjI+zOUegkRCOoU7bdAhEYtMX5ADAGvZmg/SPXMIoSZ4oXNPlnx9ICyJXI4XzKIHsRR6AobxunW01NCHCJeQAVmRrFhBUSwZolxfRSp71DTQj1y7O1uPHOp5uzkPu99+j7SWHTtcCc9HMLEKmbGIRximaBjzlGT0dOOng4s+oEXru2w0VvicGvdwiJClmfkViGZRuU5XnvyzBFDnhwXiaio0XlAfIFR0GaG4Bqi1uSNZTGZovdGDAfFJbezdRN+ceeITTRBG/z2BldcIjCYKMVmSHFs1/YYDh0hwtRGBjqglUIOPe12znhUdhfHk5VoOGqYZ3MckcZobPQMOzzxJBhGYhHANwVaOSRPh33ZQK/0SBRYtNSxZWvjKoO+eQQHwWcTi92ns4twRYoSu985DyNIugyl82C6TowiiU08GsWnjcZFnkjld1ZXrwyiwHlHjEVqPRw8AdCddRq9R+kMHyKESPTgWiH2wKGhuse0GVCO98izi/MVju4eczA9ABMpmjHXXtlGlxpZBtBCLASpW6KOOCXEKu1hMAHnpnjVY2u4R7kGWUYMjsYesVikhLA5KYnbbUoOWSgC2DIp+NzPsNkoJYpaD0bjdVLatmnIzR7XNsed0bS+xOCp64oMoW0Uy0UAHI20GCrERprGEpeeIC2NKPLQENsGg0aPPMuP58hre08dS4igwZgMHdIZoyjIgkbnggd0UOQ5nTcLkgW8bwkxEHwKH9w9XXAlFmz2L5dLG0TIdU6pCyKespDE5CwQtMb4nIiAtmiVdZlTTS4mWTY6Y5DXnJwu2NjZoJc9aTHjCm+a/iPxLMsOIDGcgcIjnEVDVvjI2AXoI4oYNHV1yv3Dlit7u5g1Aryr79rYvsbrPYGqRS1quLJF4yMPKrjR80gY4NQWmepzdykMtWeoIyf6mGo2Zx6W6LiGC7OKNCiF0qSMoVFEBZkJOKtROnYWoUIpS5TOQtQgjRCNJARCK1TzQwibDIf9szioUslDCC7i0EQEY0yKEyk62jah9QHfdSdEdVahj2hfEF1NM6nob+08fQHpnmc1dzl329GCiurcKmK1RgoRRfcoGK1QreXo/n30lT16g+Kxe3d5jbuQzcUlVqCVIoiCAGIEow1Kq6617SrEE9OFfHKM7b94dlieKiGx6kQRfBeDE6XSwfSRxHKXGHcwGrrGZiqD6JMF6o3Cu5qjyRHbm1uU5ny+EY3OM0RH8qXCW0/QHlU5gslARcS51GM8SxajEoMyEVMWKAenkwWbqkeZP7mEUbqaeNMpcC0arzRKSJ5CiIhOJq4QE7uQdIlOzi3hSMTPZ+y7yPW9zfVi8hf2MGX5BYnpzIrS3ZsriFZoExCVPJSUdFMo0SznLaKWxNF6ORkBaB11tUxue9RYbynrEk+NFaFXQR1AWwUKnA0YaVGSIaFFvCMbCIv5CbrqMdzdPLPyTQr+d0rs7P+kd00p8Ocp/+SigNIrF2Kl4DRZrplLpHxa3KTLJq/eWzn7dVkhZroF7jYqQpQOJBVXNFcgEtFKsZCaKgZGImsnXc9ic507ksYJhHCeAe+oHtLzSQodiMB4NKBgmiyQNQaMITA9OKaaN6hRg1o0hAyK3FHXWUI3mIi3Cl22xEVDqzwy3GSQKXRIbpMoh/iWpZ1QHTi2dzfIVxVd0gGdk7ZKEKSgLkFRVsoiRgheiJIUqQTIcsFPc+IGyBrvpRKVFIkCJRoVujYYESRc0Eid0pJL3mrKRAcUJldM9wPla5En27sX1rP73tWFevaOhGQREuS8u6Kk7pqxe7e1LtkYjViIXTOuGAFHrywJSnBKKMserRiCUvQLgwsGZTJUAJRnEDOcAltXeAViFHgNIrQ6cnJ8wri3QTlYhZyku88E6W61NC86uFeE6ElHNbn0iu7cRY9WmqIHzp1CfmWd1WMFJ4sqvSOBgBbdvRPxbOzOdkedQUOSiBJECbE5xi4UarS5dvRFtKIsexQRslJR9CJaHDYYMnJEC8ooijLHx5xMKQqXEU1GuaWolKJq1hsrAmhDURQoPASDygXdaCTLUUaBc2SZRgJEIxQ5KAm0rUFUgcJhQ8B7xbJx1IdTtjd7aJMly7MV4WgywQg4l7N3I1AqhZ8bnPEYpVG1ImYJGyitwUtEKc2grbBZwMjgzIV64uI5h5qesjSR4AMTsUiYp8MjLdZOybQBFakDqJgYUKKyhNaTaUVUCmN6RJXisSIB1kQIxE5Rdho4fQ6dVdZZrxJT/xvfxXbTxCC2Lda1ZIMMJWt2PhRh48o2o0FA9U+R3iZOO/qlY1n3EOWTJWg1qlwSegO8eBqTga0JCKICAUVwBaZJjEb792fsbhZkpiCc1tTGED2MK4fZ6EMURnWN6RUIXUzVZBAFXVXk/RQCacsKiSmeR3w63Cgoj7UtQSW3J0ShdUl5ekmxTREhBs7wiTEGvBe87+JrwWM6FRB0TAyXa958MVg+fv/X3J0PaM0BIUwog4L7NXJiCJliPzqmKsOgKG8vaX2PKEKsr7F1a4TKzZkX89TxoqG1C6LW1CrSs55WUvmwjp7GawSLQpgrQUuEVhN8xOsIDoieEHO8S0aAm3zKob3G7mYfFU759M4nKK3ImwG7o+10mBuHFcEsNOIdPgBak2mDBI8lIqpmtLVDViq0XuN9jJEYFDrTEAQpBJ1lRAIqKkIMGB26c5xjdAZExHQ4VZ0uARs4sx7x+hL64qnr6QPeOTyChIizniAuXXh4goM2eqRt0+cOaxmCx4kny0tKrddEeUTwjrZpME3K1ThlkaBxbYNziswGWuXQNsGYXPAYY4loREdCVOA9osBHcLbmk9mSq/1NDKK48ep3ibc/5mjpyYxidnRCGG5R5ENC07IQT1nk+LqlRpHnJbFpWRDpZ0DwzG1kHZrGXl5w8+o1TmfHuJgjJtA2UJSC8n2WLpBngg7QU+DbBpUVaAEvQBnR6drEO0csC8IzZAAFOrdr9VnObthzSymm+jQRoiiQgKgIRhPbmulswfoIPsAHvPepoZX3BDzOWpzPEO9Ac2ZhnokCJEvzDA6FBmWTxSEKCQ33bMYr/QHfeu1Ffn3vHjkRe3zIXTdkuz8kl8B0uaCfZWRKmFdLSm0Y5sKiXWAwyFho7JKe7a/VSC67tUH/3oKKSC8KIXgKkxM0bHpLiEJe5oTMY11My6g0w15ILHGZhszQ1jUqL9G17nCRa66lGF54+VWGdpNaDQn+On1RhHKBvlYSCkUZLDfJyRRoZvhvptjdwUeB08kCt/d00oeVRBXxtlMoXqULQKdkXIJId9ZiSLXZBIdSgs4VwQmKiFcKXEBiQ9CCUwY3X9C6Pjsvv8C3Vcv+zNMrNLlyFKMt+lcNcTmnkT69niZUc1rVoyg01BWNZBRaaKNl1lhMbw0viJxefp1gT2mDhmFFvdTkOQTjaIMFp8kyjY0jWFpUqZBcExqPtDYl5GxB8A6VgRbXReEecR5WUJeLP5DOco3p8lUrt6RL0irR6ODOe7jLyhIWbD1jakfE3rqGEmdG0pkFRAojqS7JZkThlCTUyyoSFROICucxIeKzDLxDYgANRXAsJp8kViWV59x65VX6RxOQdAM4gcGgjwz6NNaT5ylO0jZN6kiYZRgfkBjIdUGWCUVQKWbypHtINIOtTUweuXtyQDOPBBRNVSMqgxhoFwnQqrtsrW1b8o40xM0CGp2qjmLLUja5vq0uxN6eZv12OLIuJtfhmFJMVXXYvtBl2CWS0vFd9ROKcjBm4JcYWKsViAgEa2nqlqgcuqnwOhJ9xbIBpZJiFh/ItSVWNU45KonkGAoXiToiNMnHVgZxjpCDVxpE0R/v8maZ8+7Pf8XBbI4/9BwMdtge9PB4TlAYZQgpRE5uNEE8NuYMDLSuZuIcQ9no1vzxYrKMrevX4OCApYO8yLDOElxEK4PKAq5tQTRaFMG3hAyyaLDRg7dolaOLIgHQ/eqeupAUevL2nSEuEoF0Gkcpgyh9Fl5SotAqKWWlNDEGjCnY2jLcw3Xf8djNO1sDbYRB3getCCoyLHJa0dgA/WhoY4agCc5jxaPRZFqzXDQJCJgpsAaJMVl8DlSwKTsfQOmMqy9/A7V/h5NpjVeGyewYyW+wPd5BVQ3ihHKwhfEhIV42emSuJXqhyPr0oyU4kOLJF7qIpr8xRhPZn07IdZZCNm2LKlIVTwie1suZJWutQxmDyhTeWYJPl4RSHpwl6vBoxdnt1cM/EFFp7buwoFIQETRgRENQKQYqiigqEeSIwRmhr1O80bMeVFFIvxtiTHDA2JVYSweZUwpUaueiDbQhkRF5FDFEghF8G4ihAa2JCoJTtFlAaDFnh1xpdva2L75BZ7HBQXZempRfCEr3WEEnoNdbreEaWDGlKEfb3DQF9dgnt7ILOKbJrfoopUOllEokyI8o79NZxuAsbvnUodPM4qqSJylHJam6h+gSVKT7txgi3losERsCLixYxBEbg3RrrQsQN2VJ32fovkPUACeBsjDovI9SjqgitAZdQAwlXkWU0ejWEZVGtCJIjxiq9NzKEHykiK5bIyiKDb77g9+5NG54mAauW8szNRXjpfYf6hEX+qMqwEyWs33lCiPXjb9q/3t2e4UulsxZDE+L6uLEAenIn0MM6PDZnlmPGv9srWPKxja2ocbipUbHxIyjg0a8JoaUbPFe0HlnwSihcRO876Gfxvre3f8CeAtzuyAqYVJqaFqczvBKCLbFSQmxRovGaYV1ltZFNIaAEINCddVjwQs4IUggikkxWRFAc+X6S+xdO3+fYgf/Go7On7UQdUaOkeX5Wbgpw4AacBbUfsrUyo0xN/r9RMLd7VdYJUDlvOT3UXuxqsRJ3+XPFOe6zPuuWfLRhx8wCMKD04zmpEWUx8sBOgZ01NR3WkxQoE5YakXfHiNtzdUbu/R6m2h5MmPbeTk5qQMFJMXp4UyvhTRnQsS5tC9agQ0Ro1OSEJOUbJGrFG4gWdo+ekJU58rzkQstn9Xwj2vw1v3r2d49rt3ERSnKAZ+DAf+Rcum5LiRKHjk/pc7cBS0KdGKNFp8WTovgspxMMrICsiyQm0hGD5Ywn1YdNnQdVylgm4a2Deg8oJ2llXRzNa1G64BIJLQBJS2xNgQjOLpUgs5wsUGH7iUgEhCMjrRGXYLpfJab9cnujYh8pl754Rk9bo7aZGjz/EhaHjfOZ0DyCHluyCUnaEOgoC8ZzgBag9FILMhUjhGPtClWFUMk133a2THW3mKdyzZFh4SiyPAImQh5nhOjELUiI8MHMDpDR4XTkUwlZWetw4gmICnsoiQ9j84onMYrT+Tx3A+yRlsWUQpz0Xxe13pAyM3FC0RfzhisXWB4vv/rGhI6K7l160VGgB5k3NqLaGVZOEUeX0C8xkdH8VqGDw+YCoz9Dr6aENoFzcmc2H+Gks6wcthXF0LiXCBE0PHMiLp4XUiMIBEtkBGogmCCoLUnSobRGVm0nyVDfq7yFMzgVyGPVv6BEBOhgiciwROCI8ZOGcXuZpLOguoscKUUea/HBsO1iIohbYsyBiMOpRKEJrmZNmX0VSLOiCKEGM5aj5BBaAzReHTIwYFIQIkBcdjMEQiXlOdvijzNipGzYxDBQ9AX2CzjKksdWK3MytOIWjHY2mGWrbtu6diJ6vYseLRWKXqiNEYiuIA2BhNInLMqQohY36J9TAgVGoLNkYFBLFincMLZu/ZPSroLW0c6+J5CR43ROsXgRYOO6eIXjRZB0GiVkZdjnO7ThPWUdSBgOwtz1TA1dSkFv0oYy3nBQYLUCVEpfCPQiwQttJLQCE4KTGiI3qOD54u1ofv/oYgIi+kpd4/vohpPtmxwzZyGwP0WdCbg9rG6IdN9HtRCXwdmOjIplmz0xmxvCOvi8lXXUlaMRlRAqUR4rLXCmAwlKZOnco3uGwI5AWh9MgAcChUtVjQaTVw4fNYHF1HOXYIj/abJoy6nGCPTyQnHtaM2M0I4pA6GcNKgigyMcOJrcinJtaBmc8JRC2imc8WWG6JyfQacf5rECHXVEJWiLRVVbfE6o/UNlbME6VG7CoOm1hrj2xTjDBoUtEHISO2dm6rFBCGamNAHen2WsN8kEa1TONgIEgOBSAiCznQyWrpIjkSNUQZjDEHDfNJQ7myTm/WI1hWKTHX9zqzQMbwQz+B0KfncRtCizqBhEjxKQEsH8TMpBBYFjMRUodTyT095AgzGO9zqOaRqMfMaf2VMIwFVK25kERUirdolVz3UUjEwng0T6ckBsXFMlgvW7UkQPZhKoaLHtTnRRbwEWnQiIvBAEDQB30DrfVK4MbmbQkC1DqtDsm5yRWsVJhf8Sgk8p3V51G3+JNabL+fgX3CnL81thfFVjMfb+P6Y2jSEuMswZoRpjdrSxEIxD5Y9Sdl2dWjwuxtAxC2hnR/RNDcuJRg/8wQX52taDBrRmn7wyW0n0cWZjM5ryMlEU0cwpkSpgPOeIIIRwVpQKtLrg1hHaBVGCYr1uy2svXqPCAM8ev++OKv+uuNf/LmoVJHlAecMIQSMgFYulRZHhThPiCmp6WPAe0d0oKMwm50Sek/2+s54LIjUEaxzHcNSwLU2VYg5hw8pgeVsJLbpjNoeeBXQWgh4om/JLWhfJHgmCuUtCv1PUXnGBDrvPoWuRl8uJFeiqLO2F6vQuCiQKOTFgBEL1nWWxSiuj0dUx1Mar3Ei9JQGpWk9FLkhZBnaNfi4RVGAip5SoBUBJThjUJWCwhFtTiZglKP150m2L0ue5B596S7nY+aWEi3p3yWmZNAK6rKqFhDdJQFJCjeE1Id7tLnDXD89Ht8NhBpnmKmnqRf0JGDFoGLCdVoiSvuU/XWennhqNLkk/GruOvRGxxuQCglKjEwJqtdhTb+8NXzyd3/5FIKPHD90SS1JZclcrPdfFTZIqkiT2GGAJbUJ6o9y8mKYQjJrPLxEQfeuoKZTrAZRDrzDl0IUDd5SKY8OGpunsxRsIGY53gd86bFiiDrhll00oFuaKJRKfTnK86mxnM6i+NItl4dekFUSa+PNEn1b44uCk0XFwDlMjIyWM+JoBGqH5XSOjAt2dMOiDkjRZ1DnLNyC2IfHZYdh9dKksRVQlD2ybeFkWtPLI95b6qDIBuCDQ3uLdV2Q2iSqLOU1eZZqqhUWawqMVwSXklDBggr+uSvOZznMX8b+PW38oPsczuHo9AEtNc30Q4ajAcHVzO5lbBQKW1tua0nY5GyOu72gzIVWMiq3hTby2HV7eHxlcsZbhmUt2MpTaEUbGnJdEmOLV4LYLjUvJb0CnPWUURMzz6yxqexYa7wF3f1uCxRfsvL8j1EGrTDd36c2muVJzZ1Kk2WKup6jzQMyBc1sif60j6FiZhuqzBPbluFWn6EYtFZrrpswKDYor5U8uH+fyWQCBILSXevhdONmSqiDRolFRcFXoMQTXEGv108xTpWjvCPGhK1ra/PlKM9HZem/OrnojjzCNRHhpe98i7JX8ONfvospFEcP7pGVY3KjeLB/j3JzRCaKg7v3GW8MyXDsPzhlONgkDy1HhxWRx2M8pcvkXxq7KNjYyajmx0wOJsx8oMhJ5a8hEE3ClilviZKhohCUS+QE3lMOc0qbaoAbAYNgnoFsd135x47BncOdUmTk4adR5Q7/8s/+NT//6d/xwb0ZUi6YLhxbt67Tr2tqX3Fz6wp1Pcc2GeMbI9r5FGt67G0ZTqbH2GrjsTHrR81fRNHLBxjfcDJf0CtzWtcSAxS5og0BlEZFT+s8RhUEb6kUDMoM21qsDeS6JuQFtVUofU5a8rzlUcCvx3YEeO6DX0B/8NkNvHn9G/zrP9W8/c477GzDcjbDZ0Oubl9lNpsg/QF7e9scN0s2sx32jKM5tZi9a2TMOZnMeWH05Fhx7J4jPYRCZTk7167RH/ZZWI0JHq9TwkciOBHGEXQWaFsh04ZIqjJSIaBxeAdBCTE2eFeSK5D4JVx9XwUv4BcdnxhZzE6ZLZsOGJ+SOJdO7DnuKsGGzspgFDt7O2RPgJM8FnoTHO28YtIs0ng1uEwgKFSscTFDK43LPMoBvsFKctUTMDoyC2PyfIIbj3hxuP0ENf755KuNcX5m9LXcyeAaDo9Ok/vnfXKJRQjRISSqu+jDWWzT+kBuElieLOfK9s4Tk36PWwNnPcvJKQvXJn41H9CFpo2KLFhQChMtrUo0i8Y5ojZ465HhDLcYM/JLKikZjG4w3nq+u7fucf5S9vIZQkiz2Ql1E9Ai1K1NbFMx4mIgMyaxGrnUagQf8JJR5uBdIDMjNrYeXQ/3pPl777FNy2T5ANemUmWjO/Id61BR42PEiAUtqXxTpyIQ5yNN1mOkZyyUYlDHy204vpavSGKktQ3LyZQ6JjB+jA2oArxPlR4xoEIgxIyAx+iIBEVrGyo/ppc3yHbBjd7mb2y2/T9WidEzOTlmMZvhJUMkYLTBu4BG8CqB6/saKkKqmikSi5ByUMYKp4b0NnYZjZ/31fe1PE1au2By75QqphbftA5yQ7Cpmk+riG9TlVXrBVSL0QZROWVeM1OGcmEvNID7Wr5aEQi2Yf/BA6bzCqMCAYPEgDYFumlpogXTx8Qm8VOGDBtayHts9A2yVXKtt/fcLc+v5SkSE3a0rucs5g6tEnmwCxlKOZZNoJcZNJG5bcjyIpFvBIUxQj2bo7KScrTH5ujr3fvKJUa8cxzP5sRgMQJLZyizSIyOtnH0ihLrHTiHKRVVEymzAvDUVUvp5WvL8x9TYowE76iqOY33eNvxRYqgvBAyjSJgnU3Vv14TVJtqi3Vk2it5qTf+jVSej4rRxUthlH9sScmepl5yeHzEyeEUiQZVRJwN4IW8VORlRtQRQ8F8NifrFWTakDWOwZWX2Bx/hQ3fvpZLEmKkmhzTREOWGaytEJNjRBG8I1ExLMh6farakhtN1bYYFLmO/H8+mGWSlXWjKAAAAABJRU5ErkJggg==\" y=\"-10.259446\"/>\n   </g>\n   <g id=\"matplotlib.axis_1\">\n    <g id=\"xtick_1\">\n     <g id=\"line2d_1\">\n      <defs>\n       <path d=\"M 0 0 \nL 0 3.5 \n\" id=\"m0186501997\" style=\"stroke:#000000;stroke-width:0.8;\"/>\n      </defs>\n      <g>\n       <use style=\"stroke:#000000;stroke-width:0.8;\" x=\"33.477727\" xlink:href=\"#m0186501997\" y=\"103.259446\"/>\n      </g>\n     </g>\n     <g id=\"text_1\">\n      <!-- 0 -->\n      <g transform=\"translate(30.296477 117.857884)scale(0.1 -0.1)\">\n       <defs>\n        <path d=\"M 31.78125 66.40625 \nQ 24.171875 66.40625 20.328125 58.90625 \nQ 16.5 51.421875 16.5 36.375 \nQ 16.5 21.390625 20.328125 13.890625 \nQ 24.171875 6.390625 31.78125 6.390625 \nQ 39.453125 6.390625 43.28125 13.890625 \nQ 47.125 21.390625 47.125 36.375 \nQ 47.125 51.421875 43.28125 58.90625 \nQ 39.453125 66.40625 31.78125 66.40625 \nz\nM 31.78125 74.21875 \nQ 44.046875 74.21875 50.515625 64.515625 \nQ 56.984375 54.828125 56.984375 36.375 \nQ 56.984375 17.96875 50.515625 8.265625 \nQ 44.046875 -1.421875 31.78125 -1.421875 \nQ 19.53125 -1.421875 13.0625 8.265625 \nQ 6.59375 17.96875 6.59375 36.375 \nQ 6.59375 54.828125 13.0625 64.515625 \nQ 19.53125 74.21875 31.78125 74.21875 \nz\n\" id=\"DejaVuSans-48\"/>\n       </defs>\n       <use xlink:href=\"#DejaVuSans-48\"/>\n      </g>\n     </g>\n    </g>\n    <g id=\"xtick_2\">\n     <g id=\"line2d_2\">\n      <g>\n       <use style=\"stroke:#000000;stroke-width:0.8;\" x=\"71.523182\" xlink:href=\"#m0186501997\" y=\"103.259446\"/>\n      </g>\n     </g>\n     <g id=\"text_2\">\n      <!-- 100 -->\n      <g transform=\"translate(61.979432 117.857884)scale(0.1 -0.1)\">\n       <defs>\n        <path d=\"M 12.40625 8.296875 \nL 28.515625 8.296875 \nL 28.515625 63.921875 \nL 10.984375 60.40625 \nL 10.984375 69.390625 \nL 28.421875 72.90625 \nL 38.28125 72.90625 \nL 38.28125 8.296875 \nL 54.390625 8.296875 \nL 54.390625 0 \nL 12.40625 0 \nz\n\" id=\"DejaVuSans-49\"/>\n       </defs>\n       <use xlink:href=\"#DejaVuSans-49\"/>\n       <use x=\"63.623047\" xlink:href=\"#DejaVuSans-48\"/>\n       <use x=\"127.246094\" xlink:href=\"#DejaVuSans-48\"/>\n      </g>\n     </g>\n    </g>\n    <g id=\"xtick_3\">\n     <g id=\"line2d_3\">\n      <g>\n       <use style=\"stroke:#000000;stroke-width:0.8;\" x=\"109.568636\" xlink:href=\"#m0186501997\" y=\"103.259446\"/>\n      </g>\n     </g>\n     <g id=\"text_3\">\n      <!-- 200 -->\n      <g transform=\"translate(100.024886 117.857884)scale(0.1 -0.1)\">\n       <defs>\n        <path d=\"M 19.1875 8.296875 \nL 53.609375 8.296875 \nL 53.609375 0 \nL 7.328125 0 \nL 7.328125 8.296875 \nQ 12.9375 14.109375 22.625 23.890625 \nQ 32.328125 33.6875 34.8125 36.53125 \nQ 39.546875 41.84375 41.421875 45.53125 \nQ 43.3125 49.21875 43.3125 52.78125 \nQ 43.3125 58.59375 39.234375 62.25 \nQ 35.15625 65.921875 28.609375 65.921875 \nQ 23.96875 65.921875 18.8125 64.3125 \nQ 13.671875 62.703125 7.8125 59.421875 \nL 7.8125 69.390625 \nQ 13.765625 71.78125 18.9375 73 \nQ 24.125 74.21875 28.421875 74.21875 \nQ 39.75 74.21875 46.484375 68.546875 \nQ 53.21875 62.890625 53.21875 53.421875 \nQ 53.21875 48.921875 51.53125 44.890625 \nQ 49.859375 40.875 45.40625 35.40625 \nQ 44.1875 33.984375 37.640625 27.21875 \nQ 31.109375 20.453125 19.1875 8.296875 \nz\n\" id=\"DejaVuSans-50\"/>\n       </defs>\n       <use xlink:href=\"#DejaVuSans-50\"/>\n       <use x=\"63.623047\" xlink:href=\"#DejaVuSans-48\"/>\n       <use x=\"127.246094\" xlink:href=\"#DejaVuSans-48\"/>\n      </g>\n     </g>\n    </g>\n    <g id=\"xtick_4\">\n     <g id=\"line2d_4\">\n      <g>\n       <use style=\"stroke:#000000;stroke-width:0.8;\" x=\"147.614091\" xlink:href=\"#m0186501997\" y=\"103.259446\"/>\n      </g>\n     </g>\n     <g id=\"text_4\">\n      <!-- 300 -->\n      <g transform=\"translate(138.070341 117.857884)scale(0.1 -0.1)\">\n       <defs>\n        <path d=\"M 40.578125 39.3125 \nQ 47.65625 37.796875 51.625 33 \nQ 55.609375 28.21875 55.609375 21.1875 \nQ 55.609375 10.40625 48.1875 4.484375 \nQ 40.765625 -1.421875 27.09375 -1.421875 \nQ 22.515625 -1.421875 17.65625 -0.515625 \nQ 12.796875 0.390625 7.625 2.203125 \nL 7.625 11.71875 \nQ 11.71875 9.328125 16.59375 8.109375 \nQ 21.484375 6.890625 26.8125 6.890625 \nQ 36.078125 6.890625 40.9375 10.546875 \nQ 45.796875 14.203125 45.796875 21.1875 \nQ 45.796875 27.640625 41.28125 31.265625 \nQ 36.765625 34.90625 28.71875 34.90625 \nL 20.21875 34.90625 \nL 20.21875 43.015625 \nL 29.109375 43.015625 \nQ 36.375 43.015625 40.234375 45.921875 \nQ 44.09375 48.828125 44.09375 54.296875 \nQ 44.09375 59.90625 40.109375 62.90625 \nQ 36.140625 65.921875 28.71875 65.921875 \nQ 24.65625 65.921875 20.015625 65.03125 \nQ 15.375 64.15625 9.8125 62.3125 \nL 9.8125 71.09375 \nQ 15.4375 72.65625 20.34375 73.4375 \nQ 25.25 74.21875 29.59375 74.21875 \nQ 40.828125 74.21875 47.359375 69.109375 \nQ 53.90625 64.015625 53.90625 55.328125 \nQ 53.90625 49.265625 50.4375 45.09375 \nQ 46.96875 40.921875 40.578125 39.3125 \nz\n\" id=\"DejaVuSans-51\"/>\n       </defs>\n       <use xlink:href=\"#DejaVuSans-51\"/>\n       <use x=\"63.623047\" xlink:href=\"#DejaVuSans-48\"/>\n       <use x=\"127.246094\" xlink:href=\"#DejaVuSans-48\"/>\n      </g>\n     </g>\n    </g>\n    <g id=\"xtick_5\">\n     <g id=\"line2d_5\">\n      <g>\n       <use style=\"stroke:#000000;stroke-width:0.8;\" x=\"185.659545\" xlink:href=\"#m0186501997\" y=\"103.259446\"/>\n      </g>\n     </g>\n     <g id=\"text_5\">\n      <!-- 400 -->\n      <g transform=\"translate(176.115795 117.857884)scale(0.1 -0.1)\">\n       <defs>\n        <path d=\"M 37.796875 64.3125 \nL 12.890625 25.390625 \nL 37.796875 25.390625 \nz\nM 35.203125 72.90625 \nL 47.609375 72.90625 \nL 47.609375 25.390625 \nL 58.015625 25.390625 \nL 58.015625 17.1875 \nL 47.609375 17.1875 \nL 47.609375 0 \nL 37.796875 0 \nL 37.796875 17.1875 \nL 4.890625 17.1875 \nL 4.890625 26.703125 \nz\n\" id=\"DejaVuSans-52\"/>\n       </defs>\n       <use xlink:href=\"#DejaVuSans-52\"/>\n       <use x=\"63.623047\" xlink:href=\"#DejaVuSans-48\"/>\n       <use x=\"127.246094\" xlink:href=\"#DejaVuSans-48\"/>\n      </g>\n     </g>\n    </g>\n    <g id=\"xtick_6\">\n     <g id=\"line2d_6\">\n      <g>\n       <use style=\"stroke:#000000;stroke-width:0.8;\" x=\"223.705\" xlink:href=\"#m0186501997\" y=\"103.259446\"/>\n      </g>\n     </g>\n     <g id=\"text_6\">\n      <!-- 500 -->\n      <g transform=\"translate(214.16125 117.857884)scale(0.1 -0.1)\">\n       <defs>\n        <path d=\"M 10.796875 72.90625 \nL 49.515625 72.90625 \nL 49.515625 64.59375 \nL 19.828125 64.59375 \nL 19.828125 46.734375 \nQ 21.96875 47.46875 24.109375 47.828125 \nQ 26.265625 48.1875 28.421875 48.1875 \nQ 40.625 48.1875 47.75 41.5 \nQ 54.890625 34.8125 54.890625 23.390625 \nQ 54.890625 11.625 47.5625 5.09375 \nQ 40.234375 -1.421875 26.90625 -1.421875 \nQ 22.3125 -1.421875 17.546875 -0.640625 \nQ 12.796875 0.140625 7.71875 1.703125 \nL 7.71875 11.625 \nQ 12.109375 9.234375 16.796875 8.0625 \nQ 21.484375 6.890625 26.703125 6.890625 \nQ 35.15625 6.890625 40.078125 11.328125 \nQ 45.015625 15.765625 45.015625 23.390625 \nQ 45.015625 31 40.078125 35.4375 \nQ 35.15625 39.890625 26.703125 39.890625 \nQ 22.75 39.890625 18.8125 39.015625 \nQ 14.890625 38.140625 10.796875 36.28125 \nz\n\" id=\"DejaVuSans-53\"/>\n       </defs>\n       <use xlink:href=\"#DejaVuSans-53\"/>\n       <use x=\"63.623047\" xlink:href=\"#DejaVuSans-48\"/>\n       <use x=\"127.246094\" xlink:href=\"#DejaVuSans-48\"/>\n      </g>\n     </g>\n    </g>\n    <g id=\"xtick_7\">\n     <g id=\"line2d_7\">\n      <g>\n       <use style=\"stroke:#000000;stroke-width:0.8;\" x=\"261.750455\" xlink:href=\"#m0186501997\" y=\"103.259446\"/>\n      </g>\n     </g>\n     <g id=\"text_7\">\n      <!-- 600 -->\n      <g transform=\"translate(252.206705 117.857884)scale(0.1 -0.1)\">\n       <defs>\n        <path d=\"M 33.015625 40.375 \nQ 26.375 40.375 22.484375 35.828125 \nQ 18.609375 31.296875 18.609375 23.390625 \nQ 18.609375 15.53125 22.484375 10.953125 \nQ 26.375 6.390625 33.015625 6.390625 \nQ 39.65625 6.390625 43.53125 10.953125 \nQ 47.40625 15.53125 47.40625 23.390625 \nQ 47.40625 31.296875 43.53125 35.828125 \nQ 39.65625 40.375 33.015625 40.375 \nz\nM 52.59375 71.296875 \nL 52.59375 62.3125 \nQ 48.875 64.0625 45.09375 64.984375 \nQ 41.3125 65.921875 37.59375 65.921875 \nQ 27.828125 65.921875 22.671875 59.328125 \nQ 17.53125 52.734375 16.796875 39.40625 \nQ 19.671875 43.65625 24.015625 45.921875 \nQ 28.375 48.1875 33.59375 48.1875 \nQ 44.578125 48.1875 50.953125 41.515625 \nQ 57.328125 34.859375 57.328125 23.390625 \nQ 57.328125 12.15625 50.6875 5.359375 \nQ 44.046875 -1.421875 33.015625 -1.421875 \nQ 20.359375 -1.421875 13.671875 8.265625 \nQ 6.984375 17.96875 6.984375 36.375 \nQ 6.984375 53.65625 15.1875 63.9375 \nQ 23.390625 74.21875 37.203125 74.21875 \nQ 40.921875 74.21875 44.703125 73.484375 \nQ 48.484375 72.75 52.59375 71.296875 \nz\n\" id=\"DejaVuSans-54\"/>\n       </defs>\n       <use xlink:href=\"#DejaVuSans-54\"/>\n       <use x=\"63.623047\" xlink:href=\"#DejaVuSans-48\"/>\n       <use x=\"127.246094\" xlink:href=\"#DejaVuSans-48\"/>\n      </g>\n     </g>\n    </g>\n    <g id=\"xtick_8\">\n     <g id=\"line2d_8\">\n      <g>\n       <use style=\"stroke:#000000;stroke-width:0.8;\" x=\"299.795909\" xlink:href=\"#m0186501997\" y=\"103.259446\"/>\n      </g>\n     </g>\n     <g id=\"text_8\">\n      <!-- 700 -->\n      <g transform=\"translate(290.252159 117.857884)scale(0.1 -0.1)\">\n       <defs>\n        <path d=\"M 8.203125 72.90625 \nL 55.078125 72.90625 \nL 55.078125 68.703125 \nL 28.609375 0 \nL 18.3125 0 \nL 43.21875 64.59375 \nL 8.203125 64.59375 \nz\n\" id=\"DejaVuSans-55\"/>\n       </defs>\n       <use xlink:href=\"#DejaVuSans-55\"/>\n       <use x=\"63.623047\" xlink:href=\"#DejaVuSans-48\"/>\n       <use x=\"127.246094\" xlink:href=\"#DejaVuSans-48\"/>\n      </g>\n     </g>\n    </g>\n    <g id=\"xtick_9\">\n     <g id=\"line2d_9\">\n      <g>\n       <use style=\"stroke:#000000;stroke-width:0.8;\" x=\"337.841364\" xlink:href=\"#m0186501997\" y=\"103.259446\"/>\n      </g>\n     </g>\n     <g id=\"text_9\">\n      <!-- 800 -->\n      <g transform=\"translate(328.297614 117.857884)scale(0.1 -0.1)\">\n       <defs>\n        <path d=\"M 31.78125 34.625 \nQ 24.75 34.625 20.71875 30.859375 \nQ 16.703125 27.09375 16.703125 20.515625 \nQ 16.703125 13.921875 20.71875 10.15625 \nQ 24.75 6.390625 31.78125 6.390625 \nQ 38.8125 6.390625 42.859375 10.171875 \nQ 46.921875 13.96875 46.921875 20.515625 \nQ 46.921875 27.09375 42.890625 30.859375 \nQ 38.875 34.625 31.78125 34.625 \nz\nM 21.921875 38.8125 \nQ 15.578125 40.375 12.03125 44.71875 \nQ 8.5 49.078125 8.5 55.328125 \nQ 8.5 64.0625 14.71875 69.140625 \nQ 20.953125 74.21875 31.78125 74.21875 \nQ 42.671875 74.21875 48.875 69.140625 \nQ 55.078125 64.0625 55.078125 55.328125 \nQ 55.078125 49.078125 51.53125 44.71875 \nQ 48 40.375 41.703125 38.8125 \nQ 48.828125 37.15625 52.796875 32.3125 \nQ 56.78125 27.484375 56.78125 20.515625 \nQ 56.78125 9.90625 50.3125 4.234375 \nQ 43.84375 -1.421875 31.78125 -1.421875 \nQ 19.734375 -1.421875 13.25 4.234375 \nQ 6.78125 9.90625 6.78125 20.515625 \nQ 6.78125 27.484375 10.78125 32.3125 \nQ 14.796875 37.15625 21.921875 38.8125 \nz\nM 18.3125 54.390625 \nQ 18.3125 48.734375 21.84375 45.5625 \nQ 25.390625 42.390625 31.78125 42.390625 \nQ 38.140625 42.390625 41.71875 45.5625 \nQ 45.3125 48.734375 45.3125 54.390625 \nQ 45.3125 60.0625 41.71875 63.234375 \nQ 38.140625 66.40625 31.78125 66.40625 \nQ 25.390625 66.40625 21.84375 63.234375 \nQ 18.3125 60.0625 18.3125 54.390625 \nz\n\" id=\"DejaVuSans-56\"/>\n       </defs>\n       <use xlink:href=\"#DejaVuSans-56\"/>\n       <use x=\"63.623047\" xlink:href=\"#DejaVuSans-48\"/>\n       <use x=\"127.246094\" xlink:href=\"#DejaVuSans-48\"/>\n      </g>\n     </g>\n    </g>\n   </g>\n   <g id=\"matplotlib.axis_2\">\n    <g id=\"ytick_1\">\n     <g id=\"line2d_10\">\n      <defs>\n       <path d=\"M 0 0 \nL -3.5 0 \n\" id=\"m653b7956aa\" style=\"stroke:#000000;stroke-width:0.8;\"/>\n      </defs>\n      <g>\n       <use style=\"stroke:#000000;stroke-width:0.8;\" x=\"33.2875\" xlink:href=\"#m653b7956aa\" y=\"10.999219\"/>\n      </g>\n     </g>\n     <g id=\"text_10\">\n      <!-- 0 -->\n      <g transform=\"translate(19.925 14.798437)scale(0.1 -0.1)\">\n       <use xlink:href=\"#DejaVuSans-48\"/>\n      </g>\n     </g>\n    </g>\n    <g id=\"ytick_2\">\n     <g id=\"line2d_11\">\n      <g>\n       <use style=\"stroke:#000000;stroke-width:0.8;\" x=\"33.2875\" xlink:href=\"#m653b7956aa\" y=\"49.044673\"/>\n      </g>\n     </g>\n     <g id=\"text_11\">\n      <!-- 100 -->\n      <g transform=\"translate(7.2 52.843892)scale(0.1 -0.1)\">\n       <use xlink:href=\"#DejaVuSans-49\"/>\n       <use x=\"63.623047\" xlink:href=\"#DejaVuSans-48\"/>\n       <use x=\"127.246094\" xlink:href=\"#DejaVuSans-48\"/>\n      </g>\n     </g>\n    </g>\n    <g id=\"ytick_3\">\n     <g id=\"line2d_12\">\n      <g>\n       <use style=\"stroke:#000000;stroke-width:0.8;\" x=\"33.2875\" xlink:href=\"#m653b7956aa\" y=\"87.090128\"/>\n      </g>\n     </g>\n     <g id=\"text_12\">\n      <!-- 200 -->\n      <g transform=\"translate(7.2 90.889347)scale(0.1 -0.1)\">\n       <use xlink:href=\"#DejaVuSans-50\"/>\n       <use x=\"63.623047\" xlink:href=\"#DejaVuSans-48\"/>\n       <use x=\"127.246094\" xlink:href=\"#DejaVuSans-48\"/>\n      </g>\n     </g>\n    </g>\n   </g>\n   <g id=\"patch_3\">\n    <path d=\"M 33.2875 103.259446 \nL 33.2875 10.808991 \n\" style=\"fill:none;stroke:#000000;stroke-linecap:square;stroke-linejoin:miter;stroke-width:0.8;\"/>\n   </g>\n   <g id=\"patch_4\">\n    <path d=\"M 368.0875 103.259446 \nL 368.0875 10.808991 \n\" style=\"fill:none;stroke:#000000;stroke-linecap:square;stroke-linejoin:miter;stroke-width:0.8;\"/>\n   </g>\n   <g id=\"patch_5\">\n    <path d=\"M 33.2875 103.259446 \nL 368.0875 103.259446 \n\" style=\"fill:none;stroke:#000000;stroke-linecap:square;stroke-linejoin:miter;stroke-width:0.8;\"/>\n   </g>\n   <g id=\"patch_6\">\n    <path d=\"M 33.2875 10.808991 \nL 368.0875 10.808991 \n\" style=\"fill:none;stroke:#000000;stroke-linecap:square;stroke-linejoin:miter;stroke-width:0.8;\"/>\n   </g>\n  </g>\n </g>\n <defs>\n  <clipPath id=\"p644d7c35f5\">\n   <rect height=\"92.450455\" width=\"334.8\" x=\"33.2875\" y=\"10.808991\"/>\n  </clipPath>\n </defs>\n</svg>\n",
      "image/png": "[encoded data removed]"
     },
     "metadata": {
      "needs_background": "light"
     }
    }
   ],
   "source": [
    "from matplotlib import pyplot as plt\n",
    "\n",
    "image2 = image.reshape(243, 880, 3)\n",
    "\n",
    "plt.imshow(image2)\n",
    "plt.show()"
   ]
  },
  {
   "source": [
    "That does not seem to work though: reshape does not change the order of the elements within the memory.\n",
    "\n",
    "In order to do so, we need to use `permute`, which changes shape **and** the order of the elements.\n",
    "We need to pass the new order of the dimensions to it."
   ],
   "cell_type": "markdown",
   "metadata": {}
  },
  {
   "cell_type": "code",
   "execution_count": 22,
   "metadata": {},
   "outputs": [
    {
     "output_type": "display_data",
     "data": {
      "text/plain": "<Figure size 432x288 with 1 Axes>",
      "image/svg+xml": "<?xml version=\"1.0\" encoding=\"utf-8\" standalone=\"no\"?>\n<!DOCTYPE svg PUBLIC \"-//W3C//DTD SVG 1.1//EN\"\n  \"http://www.w3.org/Graphics/SVG/1.1/DTD/svg11.dtd\">\n<!-- Created with matplotlib (https://matplotlib.org/) -->\n<svg height=\"127.137571pt\" version=\"1.1\" viewBox=\"0 0 375.2875 127.137571\" width=\"375.2875pt\" xmlns=\"http://www.w3.org/2000/svg\" xmlns:xlink=\"http://www.w3.org/1999/xlink\">\n <metadata>\n  <rdf:RDF xmlns:cc=\"http://creativecommons.org/ns#\" xmlns:dc=\"http://purl.org/dc/elements/1.1/\" xmlns:rdf=\"http://www.w3.org/1999/02/22-rdf-syntax-ns#\">\n   <cc:Work>\n    <dc:type rdf:resource=\"http://purl.org/dc/dcmitype/StillImage\"/>\n    <dc:date>2021-03-16T11:46:40.951576</dc:date>\n    <dc:format>image/svg+xml</dc:format>\n    <dc:creator>\n     <cc:Agent>\n      <dc:title>Matplotlib v3.3.3, https://matplotlib.org/</dc:title>\n     </cc:Agent>\n    </dc:creator>\n   </cc:Work>\n  </rdf:RDF>\n </metadata>\n <defs>\n  <style type=\"text/css\">*{stroke-linecap:butt;stroke-linejoin:round;}</style>\n </defs>\n <g id=\"figure_1\">\n  <g id=\"patch_1\">\n   <path d=\"M 0 127.137571 \nL 375.2875 127.137571 \nL 375.2875 0 \nL 0 0 \nz\n\" style=\"fill:none;\"/>\n  </g>\n  <g id=\"axes_1\">\n   <g id=\"patch_2\">\n    <path d=\"M 33.2875 103.259446 \nL 368.0875 103.259446 \nL 368.0875 10.808991 \nL 33.2875 10.808991 \nz\n\" style=\"fill:#ffffff;\"/>\n   </g>\n   <g clip-path=\"url(#p0d840ed2cb)\">\n    <image height=\"93\" id=\"imagec2c0e985e4\" transform=\"scale(1 -1)translate(0 -93)\" width=\"335\" x=\"33.2875\" xlink:href=\"data:image/png;base64,\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\" y=\"-10.259446\"/>\n   </g>\n   <g id=\"matplotlib.axis_1\">\n    <g id=\"xtick_1\">\n     <g id=\"line2d_1\">\n      <defs>\n       <path d=\"M 0 0 \nL 0 3.5 \n\" id=\"me802bf5e92\" style=\"stroke:#000000;stroke-width:0.8;\"/>\n      </defs>\n      <g>\n       <use style=\"stroke:#000000;stroke-width:0.8;\" x=\"33.477727\" xlink:href=\"#me802bf5e92\" y=\"103.259446\"/>\n      </g>\n     </g>\n     <g id=\"text_1\">\n      <!-- 0 -->\n      <g transform=\"translate(30.296477 117.857884)scale(0.1 -0.1)\">\n       <defs>\n        <path d=\"M 31.78125 66.40625 \nQ 24.171875 66.40625 20.328125 58.90625 \nQ 16.5 51.421875 16.5 36.375 \nQ 16.5 21.390625 20.328125 13.890625 \nQ 24.171875 6.390625 31.78125 6.390625 \nQ 39.453125 6.390625 43.28125 13.890625 \nQ 47.125 21.390625 47.125 36.375 \nQ 47.125 51.421875 43.28125 58.90625 \nQ 39.453125 66.40625 31.78125 66.40625 \nz\nM 31.78125 74.21875 \nQ 44.046875 74.21875 50.515625 64.515625 \nQ 56.984375 54.828125 56.984375 36.375 \nQ 56.984375 17.96875 50.515625 8.265625 \nQ 44.046875 -1.421875 31.78125 -1.421875 \nQ 19.53125 -1.421875 13.0625 8.265625 \nQ 6.59375 17.96875 6.59375 36.375 \nQ 6.59375 54.828125 13.0625 64.515625 \nQ 19.53125 74.21875 31.78125 74.21875 \nz\n\" id=\"DejaVuSans-48\"/>\n       </defs>\n       <use xlink:href=\"#DejaVuSans-48\"/>\n      </g>\n     </g>\n    </g>\n    <g id=\"xtick_2\">\n     <g id=\"line2d_2\">\n      <g>\n       <use style=\"stroke:#000000;stroke-width:0.8;\" x=\"71.523182\" xlink:href=\"#me802bf5e92\" y=\"103.259446\"/>\n      </g>\n     </g>\n     <g id=\"text_2\">\n      <!-- 100 -->\n      <g transform=\"translate(61.979432 117.857884)scale(0.1 -0.1)\">\n       <defs>\n        <path d=\"M 12.40625 8.296875 \nL 28.515625 8.296875 \nL 28.515625 63.921875 \nL 10.984375 60.40625 \nL 10.984375 69.390625 \nL 28.421875 72.90625 \nL 38.28125 72.90625 \nL 38.28125 8.296875 \nL 54.390625 8.296875 \nL 54.390625 0 \nL 12.40625 0 \nz\n\" id=\"DejaVuSans-49\"/>\n       </defs>\n       <use xlink:href=\"#DejaVuSans-49\"/>\n       <use x=\"63.623047\" xlink:href=\"#DejaVuSans-48\"/>\n       <use x=\"127.246094\" xlink:href=\"#DejaVuSans-48\"/>\n      </g>\n     </g>\n    </g>\n    <g id=\"xtick_3\">\n     <g id=\"line2d_3\">\n      <g>\n       <use style=\"stroke:#000000;stroke-width:0.8;\" x=\"109.568636\" xlink:href=\"#me802bf5e92\" y=\"103.259446\"/>\n      </g>\n     </g>\n     <g id=\"text_3\">\n      <!-- 200 -->\n      <g transform=\"translate(100.024886 117.857884)scale(0.1 -0.1)\">\n       <defs>\n        <path d=\"M 19.1875 8.296875 \nL 53.609375 8.296875 \nL 53.609375 0 \nL 7.328125 0 \nL 7.328125 8.296875 \nQ 12.9375 14.109375 22.625 23.890625 \nQ 32.328125 33.6875 34.8125 36.53125 \nQ 39.546875 41.84375 41.421875 45.53125 \nQ 43.3125 49.21875 43.3125 52.78125 \nQ 43.3125 58.59375 39.234375 62.25 \nQ 35.15625 65.921875 28.609375 65.921875 \nQ 23.96875 65.921875 18.8125 64.3125 \nQ 13.671875 62.703125 7.8125 59.421875 \nL 7.8125 69.390625 \nQ 13.765625 71.78125 18.9375 73 \nQ 24.125 74.21875 28.421875 74.21875 \nQ 39.75 74.21875 46.484375 68.546875 \nQ 53.21875 62.890625 53.21875 53.421875 \nQ 53.21875 48.921875 51.53125 44.890625 \nQ 49.859375 40.875 45.40625 35.40625 \nQ 44.1875 33.984375 37.640625 27.21875 \nQ 31.109375 20.453125 19.1875 8.296875 \nz\n\" id=\"DejaVuSans-50\"/>\n       </defs>\n       <use xlink:href=\"#DejaVuSans-50\"/>\n       <use x=\"63.623047\" xlink:href=\"#DejaVuSans-48\"/>\n       <use x=\"127.246094\" xlink:href=\"#DejaVuSans-48\"/>\n      </g>\n     </g>\n    </g>\n    <g id=\"xtick_4\">\n     <g id=\"line2d_4\">\n      <g>\n       <use style=\"stroke:#000000;stroke-width:0.8;\" x=\"147.614091\" xlink:href=\"#me802bf5e92\" y=\"103.259446\"/>\n      </g>\n     </g>\n     <g id=\"text_4\">\n      <!-- 300 -->\n      <g transform=\"translate(138.070341 117.857884)scale(0.1 -0.1)\">\n       <defs>\n        <path d=\"M 40.578125 39.3125 \nQ 47.65625 37.796875 51.625 33 \nQ 55.609375 28.21875 55.609375 21.1875 \nQ 55.609375 10.40625 48.1875 4.484375 \nQ 40.765625 -1.421875 27.09375 -1.421875 \nQ 22.515625 -1.421875 17.65625 -0.515625 \nQ 12.796875 0.390625 7.625 2.203125 \nL 7.625 11.71875 \nQ 11.71875 9.328125 16.59375 8.109375 \nQ 21.484375 6.890625 26.8125 6.890625 \nQ 36.078125 6.890625 40.9375 10.546875 \nQ 45.796875 14.203125 45.796875 21.1875 \nQ 45.796875 27.640625 41.28125 31.265625 \nQ 36.765625 34.90625 28.71875 34.90625 \nL 20.21875 34.90625 \nL 20.21875 43.015625 \nL 29.109375 43.015625 \nQ 36.375 43.015625 40.234375 45.921875 \nQ 44.09375 48.828125 44.09375 54.296875 \nQ 44.09375 59.90625 40.109375 62.90625 \nQ 36.140625 65.921875 28.71875 65.921875 \nQ 24.65625 65.921875 20.015625 65.03125 \nQ 15.375 64.15625 9.8125 62.3125 \nL 9.8125 71.09375 \nQ 15.4375 72.65625 20.34375 73.4375 \nQ 25.25 74.21875 29.59375 74.21875 \nQ 40.828125 74.21875 47.359375 69.109375 \nQ 53.90625 64.015625 53.90625 55.328125 \nQ 53.90625 49.265625 50.4375 45.09375 \nQ 46.96875 40.921875 40.578125 39.3125 \nz\n\" id=\"DejaVuSans-51\"/>\n       </defs>\n       <use xlink:href=\"#DejaVuSans-51\"/>\n       <use x=\"63.623047\" xlink:href=\"#DejaVuSans-48\"/>\n       <use x=\"127.246094\" xlink:href=\"#DejaVuSans-48\"/>\n      </g>\n     </g>\n    </g>\n    <g id=\"xtick_5\">\n     <g id=\"line2d_5\">\n      <g>\n       <use style=\"stroke:#000000;stroke-width:0.8;\" x=\"185.659545\" xlink:href=\"#me802bf5e92\" y=\"103.259446\"/>\n      </g>\n     </g>\n     <g id=\"text_5\">\n      <!-- 400 -->\n      <g transform=\"translate(176.115795 117.857884)scale(0.1 -0.1)\">\n       <defs>\n        <path d=\"M 37.796875 64.3125 \nL 12.890625 25.390625 \nL 37.796875 25.390625 \nz\nM 35.203125 72.90625 \nL 47.609375 72.90625 \nL 47.609375 25.390625 \nL 58.015625 25.390625 \nL 58.015625 17.1875 \nL 47.609375 17.1875 \nL 47.609375 0 \nL 37.796875 0 \nL 37.796875 17.1875 \nL 4.890625 17.1875 \nL 4.890625 26.703125 \nz\n\" id=\"DejaVuSans-52\"/>\n       </defs>\n       <use xlink:href=\"#DejaVuSans-52\"/>\n       <use x=\"63.623047\" xlink:href=\"#DejaVuSans-48\"/>\n       <use x=\"127.246094\" xlink:href=\"#DejaVuSans-48\"/>\n      </g>\n     </g>\n    </g>\n    <g id=\"xtick_6\">\n     <g id=\"line2d_6\">\n      <g>\n       <use style=\"stroke:#000000;stroke-width:0.8;\" x=\"223.705\" xlink:href=\"#me802bf5e92\" y=\"103.259446\"/>\n      </g>\n     </g>\n     <g id=\"text_6\">\n      <!-- 500 -->\n      <g transform=\"translate(214.16125 117.857884)scale(0.1 -0.1)\">\n       <defs>\n        <path d=\"M 10.796875 72.90625 \nL 49.515625 72.90625 \nL 49.515625 64.59375 \nL 19.828125 64.59375 \nL 19.828125 46.734375 \nQ 21.96875 47.46875 24.109375 47.828125 \nQ 26.265625 48.1875 28.421875 48.1875 \nQ 40.625 48.1875 47.75 41.5 \nQ 54.890625 34.8125 54.890625 23.390625 \nQ 54.890625 11.625 47.5625 5.09375 \nQ 40.234375 -1.421875 26.90625 -1.421875 \nQ 22.3125 -1.421875 17.546875 -0.640625 \nQ 12.796875 0.140625 7.71875 1.703125 \nL 7.71875 11.625 \nQ 12.109375 9.234375 16.796875 8.0625 \nQ 21.484375 6.890625 26.703125 6.890625 \nQ 35.15625 6.890625 40.078125 11.328125 \nQ 45.015625 15.765625 45.015625 23.390625 \nQ 45.015625 31 40.078125 35.4375 \nQ 35.15625 39.890625 26.703125 39.890625 \nQ 22.75 39.890625 18.8125 39.015625 \nQ 14.890625 38.140625 10.796875 36.28125 \nz\n\" id=\"DejaVuSans-53\"/>\n       </defs>\n       <use xlink:href=\"#DejaVuSans-53\"/>\n       <use x=\"63.623047\" xlink:href=\"#DejaVuSans-48\"/>\n       <use x=\"127.246094\" xlink:href=\"#DejaVuSans-48\"/>\n      </g>\n     </g>\n    </g>\n    <g id=\"xtick_7\">\n     <g id=\"line2d_7\">\n      <g>\n       <use style=\"stroke:#000000;stroke-width:0.8;\" x=\"261.750455\" xlink:href=\"#me802bf5e92\" y=\"103.259446\"/>\n      </g>\n     </g>\n     <g id=\"text_7\">\n      <!-- 600 -->\n      <g transform=\"translate(252.206705 117.857884)scale(0.1 -0.1)\">\n       <defs>\n        <path d=\"M 33.015625 40.375 \nQ 26.375 40.375 22.484375 35.828125 \nQ 18.609375 31.296875 18.609375 23.390625 \nQ 18.609375 15.53125 22.484375 10.953125 \nQ 26.375 6.390625 33.015625 6.390625 \nQ 39.65625 6.390625 43.53125 10.953125 \nQ 47.40625 15.53125 47.40625 23.390625 \nQ 47.40625 31.296875 43.53125 35.828125 \nQ 39.65625 40.375 33.015625 40.375 \nz\nM 52.59375 71.296875 \nL 52.59375 62.3125 \nQ 48.875 64.0625 45.09375 64.984375 \nQ 41.3125 65.921875 37.59375 65.921875 \nQ 27.828125 65.921875 22.671875 59.328125 \nQ 17.53125 52.734375 16.796875 39.40625 \nQ 19.671875 43.65625 24.015625 45.921875 \nQ 28.375 48.1875 33.59375 48.1875 \nQ 44.578125 48.1875 50.953125 41.515625 \nQ 57.328125 34.859375 57.328125 23.390625 \nQ 57.328125 12.15625 50.6875 5.359375 \nQ 44.046875 -1.421875 33.015625 -1.421875 \nQ 20.359375 -1.421875 13.671875 8.265625 \nQ 6.984375 17.96875 6.984375 36.375 \nQ 6.984375 53.65625 15.1875 63.9375 \nQ 23.390625 74.21875 37.203125 74.21875 \nQ 40.921875 74.21875 44.703125 73.484375 \nQ 48.484375 72.75 52.59375 71.296875 \nz\n\" id=\"DejaVuSans-54\"/>\n       </defs>\n       <use xlink:href=\"#DejaVuSans-54\"/>\n       <use x=\"63.623047\" xlink:href=\"#DejaVuSans-48\"/>\n       <use x=\"127.246094\" xlink:href=\"#DejaVuSans-48\"/>\n      </g>\n     </g>\n    </g>\n    <g id=\"xtick_8\">\n     <g id=\"line2d_8\">\n      <g>\n       <use style=\"stroke:#000000;stroke-width:0.8;\" x=\"299.795909\" xlink:href=\"#me802bf5e92\" y=\"103.259446\"/>\n      </g>\n     </g>\n     <g id=\"text_8\">\n      <!-- 700 -->\n      <g transform=\"translate(290.252159 117.857884)scale(0.1 -0.1)\">\n       <defs>\n        <path d=\"M 8.203125 72.90625 \nL 55.078125 72.90625 \nL 55.078125 68.703125 \nL 28.609375 0 \nL 18.3125 0 \nL 43.21875 64.59375 \nL 8.203125 64.59375 \nz\n\" id=\"DejaVuSans-55\"/>\n       </defs>\n       <use xlink:href=\"#DejaVuSans-55\"/>\n       <use x=\"63.623047\" xlink:href=\"#DejaVuSans-48\"/>\n       <use x=\"127.246094\" xlink:href=\"#DejaVuSans-48\"/>\n      </g>\n     </g>\n    </g>\n    <g id=\"xtick_9\">\n     <g id=\"line2d_9\">\n      <g>\n       <use style=\"stroke:#000000;stroke-width:0.8;\" x=\"337.841364\" xlink:href=\"#me802bf5e92\" y=\"103.259446\"/>\n      </g>\n     </g>\n     <g id=\"text_9\">\n      <!-- 800 -->\n      <g transform=\"translate(328.297614 117.857884)scale(0.1 -0.1)\">\n       <defs>\n        <path d=\"M 31.78125 34.625 \nQ 24.75 34.625 20.71875 30.859375 \nQ 16.703125 27.09375 16.703125 20.515625 \nQ 16.703125 13.921875 20.71875 10.15625 \nQ 24.75 6.390625 31.78125 6.390625 \nQ 38.8125 6.390625 42.859375 10.171875 \nQ 46.921875 13.96875 46.921875 20.515625 \nQ 46.921875 27.09375 42.890625 30.859375 \nQ 38.875 34.625 31.78125 34.625 \nz\nM 21.921875 38.8125 \nQ 15.578125 40.375 12.03125 44.71875 \nQ 8.5 49.078125 8.5 55.328125 \nQ 8.5 64.0625 14.71875 69.140625 \nQ 20.953125 74.21875 31.78125 74.21875 \nQ 42.671875 74.21875 48.875 69.140625 \nQ 55.078125 64.0625 55.078125 55.328125 \nQ 55.078125 49.078125 51.53125 44.71875 \nQ 48 40.375 41.703125 38.8125 \nQ 48.828125 37.15625 52.796875 32.3125 \nQ 56.78125 27.484375 56.78125 20.515625 \nQ 56.78125 9.90625 50.3125 4.234375 \nQ 43.84375 -1.421875 31.78125 -1.421875 \nQ 19.734375 -1.421875 13.25 4.234375 \nQ 6.78125 9.90625 6.78125 20.515625 \nQ 6.78125 27.484375 10.78125 32.3125 \nQ 14.796875 37.15625 21.921875 38.8125 \nz\nM 18.3125 54.390625 \nQ 18.3125 48.734375 21.84375 45.5625 \nQ 25.390625 42.390625 31.78125 42.390625 \nQ 38.140625 42.390625 41.71875 45.5625 \nQ 45.3125 48.734375 45.3125 54.390625 \nQ 45.3125 60.0625 41.71875 63.234375 \nQ 38.140625 66.40625 31.78125 66.40625 \nQ 25.390625 66.40625 21.84375 63.234375 \nQ 18.3125 60.0625 18.3125 54.390625 \nz\n\" id=\"DejaVuSans-56\"/>\n       </defs>\n       <use xlink:href=\"#DejaVuSans-56\"/>\n       <use x=\"63.623047\" xlink:href=\"#DejaVuSans-48\"/>\n       <use x=\"127.246094\" xlink:href=\"#DejaVuSans-48\"/>\n      </g>\n     </g>\n    </g>\n   </g>\n   <g id=\"matplotlib.axis_2\">\n    <g id=\"ytick_1\">\n     <g id=\"line2d_10\">\n      <defs>\n       <path d=\"M 0 0 \nL -3.5 0 \n\" id=\"ma4f23d2a1e\" style=\"stroke:#000000;stroke-width:0.8;\"/>\n      </defs>\n      <g>\n       <use style=\"stroke:#000000;stroke-width:0.8;\" x=\"33.2875\" xlink:href=\"#ma4f23d2a1e\" y=\"10.999219\"/>\n      </g>\n     </g>\n     <g id=\"text_10\">\n      <!-- 0 -->\n      <g transform=\"translate(19.925 14.798437)scale(0.1 -0.1)\">\n       <use xlink:href=\"#DejaVuSans-48\"/>\n      </g>\n     </g>\n    </g>\n    <g id=\"ytick_2\">\n     <g id=\"line2d_11\">\n      <g>\n       <use style=\"stroke:#000000;stroke-width:0.8;\" x=\"33.2875\" xlink:href=\"#ma4f23d2a1e\" y=\"49.044673\"/>\n      </g>\n     </g>\n     <g id=\"text_11\">\n      <!-- 100 -->\n      <g transform=\"translate(7.2 52.843892)scale(0.1 -0.1)\">\n       <use xlink:href=\"#DejaVuSans-49\"/>\n       <use x=\"63.623047\" xlink:href=\"#DejaVuSans-48\"/>\n       <use x=\"127.246094\" xlink:href=\"#DejaVuSans-48\"/>\n      </g>\n     </g>\n    </g>\n    <g id=\"ytick_3\">\n     <g id=\"line2d_12\">\n      <g>\n       <use style=\"stroke:#000000;stroke-width:0.8;\" x=\"33.2875\" xlink:href=\"#ma4f23d2a1e\" y=\"87.090128\"/>\n      </g>\n     </g>\n     <g id=\"text_12\">\n      <!-- 200 -->\n      <g transform=\"translate(7.2 90.889347)scale(0.1 -0.1)\">\n       <use xlink:href=\"#DejaVuSans-50\"/>\n       <use x=\"63.623047\" xlink:href=\"#DejaVuSans-48\"/>\n       <use x=\"127.246094\" xlink:href=\"#DejaVuSans-48\"/>\n      </g>\n     </g>\n    </g>\n   </g>\n   <g id=\"patch_3\">\n    <path d=\"M 33.2875 103.259446 \nL 33.2875 10.808991 \n\" style=\"fill:none;stroke:#000000;stroke-linecap:square;stroke-linejoin:miter;stroke-width:0.8;\"/>\n   </g>\n   <g id=\"patch_4\">\n    <path d=\"M 368.0875 103.259446 \nL 368.0875 10.808991 \n\" style=\"fill:none;stroke:#000000;stroke-linecap:square;stroke-linejoin:miter;stroke-width:0.8;\"/>\n   </g>\n   <g id=\"patch_5\">\n    <path d=\"M 33.2875 103.259446 \nL 368.0875 103.259446 \n\" style=\"fill:none;stroke:#000000;stroke-linecap:square;stroke-linejoin:miter;stroke-width:0.8;\"/>\n   </g>\n   <g id=\"patch_6\">\n    <path d=\"M 33.2875 10.808991 \nL 368.0875 10.808991 \n\" style=\"fill:none;stroke:#000000;stroke-linecap:square;stroke-linejoin:miter;stroke-width:0.8;\"/>\n   </g>\n  </g>\n </g>\n <defs>\n  <clipPath id=\"p0d840ed2cb\">\n   <rect height=\"92.450455\" width=\"334.8\" x=\"33.2875\" y=\"10.808991\"/>\n  </clipPath>\n </defs>\n</svg>\n",
      "image/png": "[encoded data removed]"
     },
     "metadata": {
      "needs_background": "light"
     }
    }
   ],
   "source": [
    "image3 = image.permute(1,2,0) # 1,2,0 --> old dim1 goes first, old dim2 goes second, dim0 goes last\n",
    "# can also do image.permute(-2,-1,0) -- works with negative indices as well\n",
    "plt.imshow(image3)\n",
    "plt.show()"
   ]
  },
  {
   "source": [
    "#### More linear algebra"
   ],
   "cell_type": "markdown",
   "metadata": {}
  },
  {
   "cell_type": "code",
   "execution_count": 23,
   "metadata": {},
   "outputs": [
    {
     "output_type": "stream",
     "name": "stdout",
     "text": [
      "Tensor norm\ntensor(64.5359)\n\n\nndarray norm\n2.235063093412696\n\n\n"
     ]
    }
   ],
   "source": [
    "z3_norm = z3.norm()\n",
    "pretty_print(z3_norm, \"Tensor norm\")\n",
    "pretty_print(np.linalg.norm(y), \"ndarray norm\") # notice how torch is more OO"
   ]
  },
  {
   "source": [
    "Notice how methods reducing `Tensor`s to scalars still return singleton `Tensor`s. (be wary of this feature when scripting something in PT)\n",
    "\n",
    "To \"disentangle\" the scalar from a `Tensor` use the `.item()` method."
   ],
   "cell_type": "markdown",
   "metadata": {}
  },
  {
   "cell_type": "code",
   "execution_count": 24,
   "metadata": {},
   "outputs": [
    {
     "output_type": "execute_result",
     "data": {
      "text/plain": [
       "64.5359115600586"
      ]
     },
     "metadata": {},
     "execution_count": 24
    }
   ],
   "source": [
    "z3_norm.item()"
   ]
  },
  {
   "source": [
    "Note that, as for NumPy, PT supports `Tensor`s operator on a subset of its dimensions.\n",
    "\n",
    "For example, given a `3x4x4 Tensor`, we might want to calculate the norm of each of the three `4x4` matrices composing it. We must hence specify to the `norm` method the dimensions on which we want it to operate the reduction:"
   ],
   "cell_type": "markdown",
   "metadata": {}
  },
  {
   "cell_type": "code",
   "execution_count": 25,
   "metadata": {},
   "outputs": [
    {
     "output_type": "stream",
     "name": "stdout",
     "text": [
      "z4\ntensor([[[0.5820, 0.1355, 0.7393, 0.4219],\n         [0.2921, 0.4727, 0.2903, 0.3912],\n         [0.1394, 0.7092, 0.4334, 0.9730],\n         [0.0859, 0.7248, 0.9008, 0.0304]],\n\n        [[0.9415, 0.9944, 0.0030, 0.7757],\n         [0.9281, 0.0303, 0.5653, 0.0272],\n         [0.1806, 0.1935, 0.9044, 0.4786],\n         [0.4686, 0.0784, 0.7671, 0.5011]],\n\n        [[0.0911, 0.0178, 0.0791, 0.1231],\n         [0.6704, 0.4222, 0.0845, 0.8894],\n         [0.3142, 0.9314, 0.4535, 0.9136],\n         [0.0585, 0.2098, 0.9575, 0.7493]]])\n\n\nNorm of the three matrices composing z4 -- z4.norm(dim=(1,2))\ntensor([2.1517, 2.4170, 2.2334])\n\n\n"
     ]
    }
   ],
   "source": [
    "z4 = torch.rand((3,4,4))\n",
    "pretty_print(z4, \"z4\")\n",
    "pretty_print(z4.norm(dim=(1,2)), \"Norm of the three matrices composing z4 -- z4.norm(dim=(1,2))\")"
   ]
  },
  {
   "source": [
    "As expected, the result is a `1x3 Tensor`, showing the norm of each of the matrices.\n",
    "\n",
    "We can notice this behaviour in other `Tensor` operator applying a reduction, for example `.sum()` and `.prod()` (sum/product of the elements within the tensor).\n",
    "\n",
    "By specifying `z4.prod(dim=1)`, we **fix** the second dimension and loop through the other dimensions, applying the product for all of the resulting tensor slices. Let's see a code for clarity."
   ],
   "cell_type": "markdown",
   "metadata": {}
  },
  {
   "cell_type": "code",
   "execution_count": 83,
   "metadata": {},
   "outputs": [
    {
     "output_type": "stream",
     "name": "stdout",
     "text": [
      "The result of our fancy loop ...\ntensor([[0.0020, 0.0329, 0.0838, 0.0049],\n        [0.0739, 0.0005, 0.0012, 0.0051],\n        [0.0011, 0.0015, 0.0029, 0.0749]])\n\n\n... is the same as z4.prod(dim=1)\ntensor([[0.0020, 0.0329, 0.0838, 0.0049],\n        [0.0739, 0.0005, 0.0012, 0.0051],\n        [0.0011, 0.0015, 0.0029, 0.0749]])\n\n\n"
     ]
    }
   ],
   "source": [
    "# 1. let us create an empty vector with the shape of the dimension we did NOT specify in `prod` above:\n",
    "product_fix_dim = torch.empty([z4.shape[0], z4.shape[2]])\n",
    "\n",
    "# 2. we loop through these dimensions to get the result of `z4.prod(dim=1)`\n",
    "for i in range(product_fix_dim.shape[0]):\n",
    "    for j in range(product_fix_dim.shape[1]):\n",
    "        # the result for the (i,j) position is the product of the corresponding sub-tensor z4[i, :, j]\n",
    "        # (we consider the whole of the 2nd dim, loop through the 1st and 3rd)\n",
    "        product_fix_dim[i, j] = z4[i, :, j].prod()\n",
    "\n",
    "pretty_print(product_fix_dim, \"The result of our fancy loop ...\")\n",
    "pretty_print(z4.prod(dim=1), \"... is the same as z4.prod(dim=1)\")"
   ]
  },
  {
   "source": [
    "Analogously, we may apply the same reasoning to the `sum()` method:\n",
    "\n",
    "`z4.sum(dim=0)`:\n",
    "* we fix the first dim\n",
    "* and loop through the other dims"
   ],
   "cell_type": "markdown",
   "metadata": {}
  },
  {
   "cell_type": "code",
   "execution_count": 84,
   "metadata": {},
   "outputs": [
    {
     "output_type": "stream",
     "name": "stdout",
     "text": [
      "z4.sum(dim=0) -- Element-wise sum of the three matrices composing the tensor -- is a 4x4 matrix\ntensor([[1.6146, 1.1477, 0.8214, 1.3207],\n        [1.8905, 0.9253, 0.9401, 1.3078],\n        [0.6341, 1.8341, 1.7913, 2.3652],\n        [0.6130, 1.0129, 2.6255, 1.2807]])\n\n\n"
     ]
    }
   ],
   "source": [
    "pretty_print(z4.sum(dim=0), \"z4.sum(dim=0) -- Element-wise sum of the three matrices composing the tensor -- is a 4x4 matrix\")"
   ]
  },
  {
   "source": [
    "this is analogous to"
   ],
   "cell_type": "markdown",
   "metadata": {}
  },
  {
   "cell_type": "code",
   "execution_count": 85,
   "metadata": {},
   "outputs": [
    {
     "output_type": "execute_result",
     "data": {
      "text/plain": [
       "tensor([[1.6146, 1.1477, 0.8214, 1.3207],\n",
       "        [1.8905, 0.9253, 0.9401, 1.3078],\n",
       "        [0.6341, 1.8341, 1.7913, 2.3652],\n",
       "        [0.6130, 1.0129, 2.6255, 1.2807]])"
      ]
     },
     "metadata": {},
     "execution_count": 85
    }
   ],
   "source": [
    "z4[0] + z4[1] + z4[2]"
   ]
  },
  {
   "source": [
    "#### Seamless conversion from NumPy to PT"
   ],
   "cell_type": "markdown",
   "metadata": {}
  },
  {
   "cell_type": "code",
   "execution_count": 89,
   "metadata": {},
   "outputs": [
    {
     "output_type": "stream",
     "name": "stdout",
     "text": [
      "y converted to torch.Tensor\ntensor([[0.6141, 0.4795, 0.7494, 0.3560, 0.4533],\n        [0.6387, 0.1042, 0.1154, 0.3800, 0.8823],\n        [0.1786, 0.3805, 0.9923, 0.2637, 0.5792]], dtype=torch.float64)\n\n\nx converted to numpy.ndarray\n[[0.750955   0.8151372  0.04494298 0.28971398]\n [0.4151706  0.06861478 0.26499754 0.29053414]\n [0.8374292  0.44086808 0.41431475 0.09464335]\n [0.37190622 0.71664613 0.80756414 0.7272926 ]\n [0.83341646 0.9326028  0.96685326 0.24846023]\n [0.67148143 0.5095051  0.13152337 0.19347757]]\n\n\nExample of implicit conversion Tensor → ndarray (np.linalg.norm(x) where x is torch.tensor)\n2.807384\n\n\n"
     ]
    },
    {
     "output_type": "error",
     "ename": "AttributeError",
     "evalue": "'numpy.ndarray' object has no attribute 'dim'",
     "traceback": [
      "\u001b[0;31m---------------------------------------------------------------------------\u001b[0m",
      "\u001b[0;31mAttributeError\u001b[0m                            Traceback (most recent call last)",
      "\u001b[0;32m<ipython-input-89-38b04a77845c>\u001b[0m in \u001b[0;36m<module>\u001b[0;34m\u001b[0m\n\u001b[1;32m     10\u001b[0m \u001b[0mpretty_print\u001b[0m\u001b[0;34m(\u001b[0m\u001b[0mnp\u001b[0m\u001b[0;34m.\u001b[0m\u001b[0mlinalg\u001b[0m\u001b[0;34m.\u001b[0m\u001b[0mnorm\u001b[0m\u001b[0;34m(\u001b[0m\u001b[0mx\u001b[0m\u001b[0;34m)\u001b[0m\u001b[0;34m,\u001b[0m \u001b[0;34m\"Example of implicit conversion Tensor → ndarray (np.linalg.norm(x) where x is torch.tensor)\"\u001b[0m\u001b[0;34m)\u001b[0m\u001b[0;34m\u001b[0m\u001b[0;34m\u001b[0m\u001b[0m\n\u001b[1;32m     11\u001b[0m \u001b[0;34m\u001b[0m\u001b[0m\n\u001b[0;32m---> 12\u001b[0;31m \u001b[0mtorch\u001b[0m\u001b[0;34m.\u001b[0m\u001b[0mnorm\u001b[0m\u001b[0;34m(\u001b[0m\u001b[0mx_numpy\u001b[0m\u001b[0;34m)\u001b[0m \u001b[0;31m# this does not work\u001b[0m\u001b[0;34m\u001b[0m\u001b[0;34m\u001b[0m\u001b[0m\n\u001b[0m",
      "\u001b[0;32m~/.pyenv/versions/lottery/lib/python3.8/site-packages/torch/functional.py\u001b[0m in \u001b[0;36mnorm\u001b[0;34m(input, p, dim, keepdim, out, dtype)\u001b[0m\n\u001b[1;32m   1282\u001b[0m                 norm, (input,), input, p=p, dim=dim, keepdim=keepdim, out=out, dtype=dtype)\n\u001b[1;32m   1283\u001b[0m \u001b[0;34m\u001b[0m\u001b[0m\n\u001b[0;32m-> 1284\u001b[0;31m     \u001b[0mndim\u001b[0m \u001b[0;34m=\u001b[0m \u001b[0minput\u001b[0m\u001b[0;34m.\u001b[0m\u001b[0mdim\u001b[0m\u001b[0;34m(\u001b[0m\u001b[0;34m)\u001b[0m\u001b[0;34m\u001b[0m\u001b[0;34m\u001b[0m\u001b[0m\n\u001b[0m\u001b[1;32m   1285\u001b[0m \u001b[0;34m\u001b[0m\u001b[0m\n\u001b[1;32m   1286\u001b[0m     \u001b[0;31m# catch default case\u001b[0m\u001b[0;34m\u001b[0m\u001b[0;34m\u001b[0m\u001b[0;34m\u001b[0m\u001b[0m\n",
      "\u001b[0;31mAttributeError\u001b[0m: 'numpy.ndarray' object has no attribute 'dim'"
     ]
    }
   ],
   "source": [
    "y_numpy = np.random.rand(3,5)\n",
    "y_torch = torch.from_numpy(y_numpy)\n",
    "pretty_print(y_torch, \"y converted to torch.Tensor\")\n",
    "\n",
    "x = torch.rand(6,4)\n",
    "x_numpy = x.numpy()\n",
    "pretty_print(x_numpy, \"x converted to numpy.ndarray\")\n",
    "\n",
    "# Note that NumPy implicitly converts Tensor to ndarray whenever it can; the same doesn't happen for PT\n",
    "pretty_print(np.linalg.norm(x), \"Example of implicit conversion Tensor → ndarray (np.linalg.norm(x) where x is torch.tensor)\")\n",
    "\n",
    "torch.norm(x_numpy) # this does not work"
   ]
  },
  {
   "source": [
    "#### Stochastic functionalities"
   ],
   "cell_type": "markdown",
   "metadata": {}
  },
  {
   "source": [
    "We can render the (pseudo)random number generator deterministic by calling `torch.manual_seed(integer)`.\n",
    "\n",
    "This works for both CPU and CUDA RNG calls."
   ],
   "cell_type": "markdown",
   "metadata": {}
  },
  {
   "cell_type": "code",
   "execution_count": 31,
   "metadata": {},
   "outputs": [
    {
     "output_type": "stream",
     "name": "stdout",
     "text": [
      "...from now on our random tensor should be the same...\n"
     ]
    }
   ],
   "source": [
    "torch.manual_seed(123456)\n",
    "print(\"...from now on our random tensor should be the same...\")"
   ]
  },
  {
   "cell_type": "code",
   "execution_count": null,
   "metadata": {},
   "outputs": [],
   "source": [
    "pretty_print(torch.randperm(10), \"(randperm) Random permutation of 0:10\")\n",
    "\n",
    "pretty_print(torch.rand_like(z1), \"(rand_like) Create random vector with the same shape of z_1\")\n",
    "\n",
    "pretty_print(torch.randint(10, (3, 3)), \"(randint) Like rand, but with integers up to 10\")\n",
    "\n",
    "pretty_print(torch.normal(0, 1, (3, 3)), \"(normal) Sampling a 3x3 iid scalars from N(0,1)\")\n",
    "\n",
    "pretty_print(torch.normal(torch.Tensor([[1,2,3],[4,5,6],[0,0,0]]), torch.Tensor([[1,0.5,0.9],[0.5,1,0.1],[3,4,1]])), \"Sampling from 9 normals with different means and std into a (3x3) Tensor\")"
   ]
  },
  {
   "source": [
    "### Using GPUs\n",
    "\n",
    "All `Torch.Tensor` methods support GPU computation via built-in CUDA wrappers.\n",
    "\n",
    "Just transfer the involved `Tensor`s to CUDA and let the magic happen :)"
   ],
   "cell_type": "markdown",
   "metadata": {}
  },
  {
   "cell_type": "code",
   "execution_count": 32,
   "metadata": {},
   "outputs": [],
   "source": [
    "# check if cuda is available on this machine\n",
    "torch.cuda.is_available()\n",
    "\n",
    "has_cuda_gpu = torch.cuda.is_available()"
   ]
  },
  {
   "cell_type": "code",
   "execution_count": 33,
   "metadata": {},
   "outputs": [
    {
     "output_type": "stream",
     "name": "stdout",
     "text": [
      "True\n"
     ]
    }
   ],
   "source": [
    "print(has_cuda_gpu)"
   ]
  },
  {
   "cell_type": "code",
   "execution_count": 34,
   "metadata": {},
   "outputs": [],
   "source": [
    "if has_cuda_gpu:\n",
    "    dim = 10000\n",
    "    large_cpu_matrix = torch.rand((dim, dim)) \n",
    "    large_gpu_matrix = large_cpu_matrix.to(\"cuda\") # Can also specify \"cuda:gpu_id\" if multiple GPUs\n",
    "    # alternatively, you may also call large_cpu_matrix.cuda() or large_cpu_matrix.cuda(0)\n",
    "else:\n",
    "    print(\"Sorry, this part of the notebook is inaccessible since it seems you don't have a CUDA-capable GPU on your device :/\")"
   ]
  },
  {
   "cell_type": "code",
   "execution_count": 35,
   "metadata": {},
   "outputs": [
    {
     "output_type": "stream",
     "name": "stdout",
     "text": [
      "Device of large_cpu_matrix\n",
      "cpu\n",
      "\n",
      "\n",
      "Device of large_gpu_matrix\n",
      "cuda:0\n",
      "\n",
      "\n",
      "If a tensor is not on CPU, the device will also be printed if you print the tensor itself\n",
      "tensor([[5.0428e-01, 8.1779e-01, 4.7977e-01,  ..., 1.7381e-01, 4.0279e-01,\n",
      "         9.3094e-01],\n",
      "        [6.3436e-01, 2.6846e-01, 1.6301e-01,  ..., 4.2925e-01, 7.0442e-01,\n",
      "         1.2210e-01],\n",
      "        [2.5419e-01, 4.3673e-01, 6.7700e-01,  ..., 6.3087e-01, 9.8650e-01,\n",
      "         3.7654e-01],\n",
      "        ...,\n",
      "        [9.8112e-01, 6.9375e-02, 2.2300e-02,  ..., 4.2557e-02, 8.0621e-04,\n",
      "         1.5227e-02],\n",
      "        [6.6242e-01, 9.5211e-02, 6.0156e-01,  ..., 4.5382e-01, 4.3648e-01,\n",
      "         5.3945e-02],\n",
      "        [9.9791e-01, 7.4037e-01, 8.5499e-01,  ..., 8.7518e-03, 7.4990e-01,\n",
      "         3.6018e-01]], device='cuda:0')\n",
      "\n",
      "\n"
     ]
    }
   ],
   "source": [
    "pretty_print(large_cpu_matrix.device, \"Device of large_cpu_matrix\")\n",
    "pretty_print(large_gpu_matrix.device, \"Device of large_gpu_matrix\")\n",
    "pretty_print(large_gpu_matrix, \"If a tensor is not on CPU, the device will also be printed if you print the tensor itself\")"
   ]
  },
  {
   "cell_type": "code",
   "execution_count": 36,
   "metadata": {},
   "outputs": [
    {
     "output_type": "stream",
     "name": "stdout",
     "text": [
      "Norm of large cpu matrix. Time: 1.5063260229944717\nNorm of large gpu matrix. Time: 0.0031517299939878285\n"
     ]
    }
   ],
   "source": [
    "if has_cuda_gpu:\n",
    "    import timeit\n",
    "\n",
    "    # NOTE: please fix this number w.r.t. your GPU and CPU\n",
    "    repetitions = 100\n",
    "\n",
    "    print(\"Norm of large cpu matrix. Time:\", timeit.timeit(\"large_cpu_matrix.norm()\", number=repetitions, globals=locals()))\n",
    "    print(\"Norm of large gpu matrix. Time:\", timeit.timeit(\"large_gpu_matrix.norm()\", number=repetitions, globals=locals()))\n",
    "else:\n",
    "    print(\"Sorry, this part of the notebook is inaccessible since it seems you don't have a CUDA-capable GPU on your device :/\")"
   ]
  },
  {
   "source": [
    "Captain obvious: Use `tensor.cpu()` or `tensor.to(\"cpu\")` to move a tensor to your CPU"
   ],
   "cell_type": "markdown",
   "metadata": {}
  },
  {
   "source": [
    "### Building easy ML models\n",
    "\n",
    "By using all the pieces we've seen till now, we can build our first ML model using PyTorch: a linear regressor, whose model is\n",
    "\n",
    "`y = XW + b`\n",
    "\n",
    "which can also be simplified as\n",
    "\n",
    "`y = XW`\n",
    "\n",
    "if we incorporate the bias `b` inside `W` and add to the `X` a column of ones to the right.\n",
    "\n",
    "We'll first create our data. The `X`s are the 0:9 range plus some iid random noise, while the `y` is just the 0:9 range"
   ],
   "cell_type": "markdown",
   "metadata": {}
  },
  {
   "cell_type": "code",
   "execution_count": 93,
   "metadata": {},
   "outputs": [
    {
     "output_type": "stream",
     "name": "stdout",
     "text": [
      "X (covariates)\n",
      "tensor([[-0.2650,  0.2161, -0.2802,  1.0000],\n",
      "        [ 0.9848,  0.0430,  1.0216,  1.0000],\n",
      "        [ 1.4556,  2.1842,  2.0312,  1.0000],\n",
      "        [ 2.7556,  2.8797,  3.4583,  1.0000],\n",
      "        [ 3.9554,  3.5894,  4.4929,  1.0000],\n",
      "        [ 5.0654,  4.8100,  5.2219,  1.0000],\n",
      "        [ 6.1556,  6.0982,  6.3832,  1.0000],\n",
      "        [ 7.5513,  6.7626,  7.4063,  1.0000],\n",
      "        [ 8.5523,  7.8797,  8.0356,  1.0000],\n",
      "        [ 9.5921,  8.7126,  9.0762,  1.0000]])\n",
      "\n",
      "\n",
      "y (response)\n",
      "tensor([[0.],\n",
      "        [1.],\n",
      "        [2.],\n",
      "        [3.],\n",
      "        [4.],\n",
      "        [5.],\n",
      "        [6.],\n",
      "        [7.],\n",
      "        [8.],\n",
      "        [9.]])\n",
      "\n",
      "\n",
      "<ipython-input-93-6ef5fba205fd>:4: UserWarning: torch.range is deprecated and will be removed in a future release because its behavior is inconsistent with Python's range builtin. Instead, use torch.arange, which produces values in [start, end).\n",
      "  x1 = torch.range(0, 9).unsqueeze(-1)\n",
      "<ipython-input-93-6ef5fba205fd>:5: UserWarning: torch.range is deprecated and will be removed in a future release because its behavior is inconsistent with Python's range builtin. Instead, use torch.arange, which produces values in [start, end).\n",
      "  x2 = torch.range(0, 9).unsqueeze(-1)\n",
      "<ipython-input-93-6ef5fba205fd>:6: UserWarning: torch.range is deprecated and will be removed in a future release because its behavior is inconsistent with Python's range builtin. Instead, use torch.arange, which produces values in [start, end).\n",
      "  x3 = torch.range(0, 9).unsqueeze(-1)\n",
      "<ipython-input-93-6ef5fba205fd>:16: UserWarning: torch.range is deprecated and will be removed in a future release because its behavior is inconsistent with Python's range builtin. Instead, use torch.arange, which produces values in [start, end).\n",
      "  y = torch.range(0, 9).unsqueeze(-1)\n"
     ]
    }
   ],
   "source": [
    "# Note: torch.range(0, 9) (I see now it is deprecated) returns all numbers from 0 to 9\n",
    "# torch.arange(0, 9) instead returns all numbers from 0 to 8.\n",
    "# remember to fix the indices if you wish to substitute `range` with `arange`\n",
    "x1 = torch.range(0, 9).unsqueeze(-1)\n",
    "x2 = torch.range(0, 9).unsqueeze(-1)\n",
    "x3 = torch.range(0, 9).unsqueeze(-1)\n",
    "x0 = torch.ones([10]).unsqueeze(-1)\n",
    "# first, concatenate x1, x2, and x3 to form a single matrix X\n",
    "X = torch.cat((x1, x2, x3), dim=1)\n",
    "# add small noise to the Xs\n",
    "eps = torch.normal(0, .3, (10, 3))\n",
    "X += eps\n",
    "# concatenate also x0 so we can express the model as y=XW\n",
    "X = torch.cat((X, x0), dim=1)\n",
    "\n",
    "y = torch.range(0, 9).unsqueeze(-1)\n",
    "\n",
    "\n",
    "pretty_print(X, \"X (covariates)\")\n",
    "pretty_print(y, \"y (response)\")"
   ]
  },
  {
   "source": [
    "For the case of linear regression, we usually wish to obtain a set of weights minimizing the so called mean square error/loss (MSE), which is the squared difference between the ground truth and the model prediction, summed for each data instance.\n",
    "\n",
    "We know that the OLS/Max Likelihood esitmator is the one yielding the optimal set of weights in that regard."
   ],
   "cell_type": "markdown",
   "metadata": {}
  },
  {
   "cell_type": "code",
   "execution_count": 94,
   "metadata": {},
   "outputs": [
    {
     "output_type": "stream",
     "name": "stdout",
     "text": [
      "W (optimal weights/coefficients [first 3] and bias/intercept [last one])\ntensor([[0.4656],\n        [0.2137],\n        [0.2605],\n        [0.2243]])\n\n\n"
     ]
    }
   ],
   "source": [
    "W_hat = ((X.T @ X).inverse()) @ X.T @ y # OLS estimator\n",
    "\n",
    "pretty_print(W_hat, \"W (optimal weights/coefficients [first 3] and bias/intercept [last one])\")"
   ]
  },
  {
   "source": [
    "We can evaluate our model on the mean square loss"
   ],
   "cell_type": "markdown",
   "metadata": {}
  },
  {
   "cell_type": "code",
   "execution_count": 39,
   "metadata": {},
   "outputs": [],
   "source": [
    "def mean_square_loss(y, y_hat):\n",
    "    return (((y - y_hat).norm())**2).item() / y.shape[0]"
   ]
  },
  {
   "source": [
    "Let's apply it to our data.\n",
    "\n",
    "First we need to obtain the predictions, then we can evaluate the MSE."
   ],
   "cell_type": "markdown",
   "metadata": {}
  },
  {
   "cell_type": "code",
   "execution_count": 40,
   "metadata": {},
   "outputs": [
    {
     "output_type": "stream",
     "name": "stdout",
     "text": [
      "Predictions (y_hat)\ntensor([[0.0863],\n        [0.9310],\n        [2.1796],\n        [2.8582],\n        [3.9763],\n        [4.8704],\n        [6.0650],\n        [6.9140],\n        [8.0850],\n        [9.0342]])\n\n\nLoss (MSE)\n0.010194782167673111\n\n\n"
     ]
    }
   ],
   "source": [
    "y_hat = X @ W_hat\n",
    "pretty_print(y_hat, \"Predictions (y_hat)\")\n",
    "\n",
    "pretty_print(mean_square_loss(y, y_hat), \"Loss (MSE)\")"
   ]
  },
  {
   "source": [
    "#### Using PT built-ins\n",
    "\n",
    "We will now be exploring the second chunk of PT functionalities, namely the built-in structures and routines supporting the creation of ML models.\n",
    "\n",
    "We can create the same model we have seen before using PT built-in structures, so we start to see them right away.\n",
    "\n",
    "Usually, a PT model is a `class` inheriting from `torch.nn.Module`. Inside this class, we'll define two methods:\n",
    "* the constructor (`__init__`) in which we define the building blocks of our model as class variables (later during our lectures we'll see more \"elegant\" methods to build models architectures)\n",
    "* the `forward` method, which specifies how the data fed into the model needs to be processed in order to produce the output\n",
    "\n",
    "Note for those who already know something about NNs: we don't need to define `backward` methods since we're constructing our model with built-in PT building blocks. PT automatically creates a `backward` routine based upon the `forward` method.\n",
    "\n",
    "Our model only has one building block (layer) which is a `Linear` layer.\n",
    "We need to specify the size of the input (i.e. the coefficients `W` of our linear regressor) and the size of the output (i.e. how many scalars it produces) of the layer. We additionaly request our layer to have a bias term `b` (which acts as the intercept of the hyperplane we saw before).\n",
    "\n",
    "The `Linear` layer processes its input as `XW + b`, which is exactly the (first) equation of the linear regressor we saw before.\n",
    "\n"
   ],
   "cell_type": "markdown",
   "metadata": {}
  },
  {
   "cell_type": "code",
   "execution_count": 41,
   "metadata": {},
   "outputs": [],
   "source": [
    "class LinearRegressor(torch.nn.Module):\n",
    "    def __init__(self):\n",
    "        super().__init__()\n",
    "        self.regressor = torch.nn.Linear(in_features=3, out_features=1, bias=True)\n",
    "\n",
    "    def forward(self, X):\n",
    "        return self.regressor(X)"
   ]
  },
  {
   "source": [
    "We can create an instance of our model and inspect the current parameters by using the `state_dict` method, which prints the building blocks of our model and their current parameters. Note that `state_dict` is essentially a dictonary indexed by the names of the building blocks which we defined inside the constructor (plus some additional identifiers if a layer has more than one set of parameters)."
   ],
   "cell_type": "markdown",
   "metadata": {}
  },
  {
   "cell_type": "code",
   "execution_count": 42,
   "metadata": {},
   "outputs": [
    {
     "output_type": "stream",
     "name": "stdout",
     "text": [
      "regressor.weight tensor([[-0.0559,  0.0661, -0.2839]])\nregressor.bias tensor([-0.2220])\n"
     ]
    }
   ],
   "source": [
    "lin_reg = LinearRegressor()\n",
    "\n",
    "for param_name, param in lin_reg.state_dict().items():\n",
    "    print(param_name, param)"
   ]
  },
  {
   "source": [
    "We can update the parameters via `state_dict` and re-using the same OLS estimates we obtained before.\n",
    "\n",
    "Note that PT is thought of for Deep Learning: it does not have (I think) the routines to solve different ML problems.\n",
    "\n",
    "Next time, we'll see how we can unleash PT's gradient-based iterative training routines and compare the results w.r.t. the OLS estimators."
   ],
   "cell_type": "markdown",
   "metadata": {}
  },
  {
   "cell_type": "code",
   "execution_count": 43,
   "metadata": {},
   "outputs": [
    {
     "output_type": "execute_result",
     "data": {
      "text/plain": [
       "<All keys matched successfully>"
      ]
     },
     "metadata": {},
     "execution_count": 43
    }
   ],
   "source": [
    "state_dict = lin_reg.state_dict()\n",
    "state_dict[\"regressor.weight\"] = W_hat[:3].T\n",
    "state_dict[\"regressor.bias\"] = W_hat[3]\n",
    "lin_reg.load_state_dict(state_dict)"
   ]
  },
  {
   "cell_type": "code",
   "execution_count": 44,
   "metadata": {},
   "outputs": [
    {
     "output_type": "stream",
     "name": "stdout",
     "text": [
      "regressor.weight tensor([[ 0.4203,  0.6025, -0.0451]])\nregressor.bias tensor([0.0949])\n"
     ]
    }
   ],
   "source": [
    "# Check if it worked\n",
    "for param_name, param in lin_reg.state_dict().items():\n",
    "    print(param_name, param)"
   ]
  },
  {
   "source": [
    "The `forward` method gets implicitly called by passing the data to our model's instance `lin_reg`:"
   ],
   "cell_type": "markdown",
   "metadata": {}
  },
  {
   "cell_type": "code",
   "execution_count": 45,
   "metadata": {},
   "outputs": [
    {
     "output_type": "stream",
     "name": "stdout",
     "text": [
      "Predictions of torch class\ntensor([[0.0863],\n        [0.9310],\n        [2.1796],\n        [2.8582],\n        [3.9763],\n        [4.8704],\n        [6.0650],\n        [6.9140],\n        [8.0850],\n        [9.0342]], grad_fn=<AddmmBackward>)\n\n\n"
     ]
    }
   ],
   "source": [
    "X_lin_reg = X[:,:3]\n",
    "predictions_lin_reg = lin_reg(X_lin_reg)\n",
    "pretty_print(predictions_lin_reg, \"Predictions of torch class\")"
   ]
  },
  {
   "source": [
    "The predictions are the same as before"
   ],
   "cell_type": "markdown",
   "metadata": {}
  },
  {
   "cell_type": "code",
   "execution_count": 46,
   "metadata": {},
   "outputs": [
    {
     "output_type": "stream",
     "name": "stdout",
     "text": [
      "Predictions of linear model\ntensor([[0.0863],\n        [0.9310],\n        [2.1796],\n        [2.8582],\n        [3.9763],\n        [4.8704],\n        [6.0650],\n        [6.9140],\n        [8.0850],\n        [9.0342]])\n\n\n"
     ]
    }
   ],
   "source": [
    "pretty_print(y_hat, \"Predictions of linear model\")"
   ]
  },
  {
   "source": [
    "### Adding non-linearity\n",
    "\n",
    "One of the staples of DL is that the relationship between the `X`s and the predictions is **non-linear**.\n",
    "\n",
    "The non-linearity is obtain by applying a non-linear function (called *activation function*) after each linear layer.\n",
    "\n",
    "We can complicate just a little bit our linear model to create a **logistic regressor**:\n",
    "\n",
    "`y = logistic(XW + b)`,\n",
    "\n",
    "where `logistic(z) = exp(z) / (1 + exp(z))`\n",
    "\n",
    "The logistic function has different names:\n",
    "* in statistics, it's usually called *inverse logit* as well\n",
    "* in DL and mathematics, it's called *sigmoid function* due to its \"S\" shape\n",
    "\n",
    "Hystorically, the sigmoid was between the first activation functions used in NNs.\n",
    "\n",
    "![](img/sigmoid.png)\n",
    "\n",
    "Logistic regression is usually used as a **binary classification model** instead of a regression model.\n",
    "In this setting, we suppose we have two destination classes to which we assign values 0 and 1: `y ∈ {0, 1}`.\n",
    "Since the codomain of the sigmoid is `[0,1]`, we can interpret its output `ŷ` as a probability value, and assign each data to the class 0 if `ŷ <= 0.5`, to the class 1 otherwise.\n"
   ],
   "cell_type": "markdown",
   "metadata": {}
  },
  {
   "cell_type": "code",
   "execution_count": 48,
   "metadata": {},
   "outputs": [
    {
     "output_type": "stream",
     "name": "stdout",
     "text": [
      "y for our classification problem\ntensor([0., 1., 0., 0., 1., 1., 1., 0., 1., 1.])\n\n\n"
     ]
    }
   ],
   "source": [
    "y = torch.Tensor([0,1,0,0,1,1,1,0,1,1])\n",
    "pretty_print(y, \"y for our classification problem\")"
   ]
  },
  {
   "source": [
    "Note that we may also want our y to be a vector of `int`s.\n",
    "We can convert the `Tensor` type to `int` by calling the method `.long()` or `.int()` of `Tensor`.\n",
    "\n",
    "As in NumPy, the type of the `Tensor` is found within the `dtype` variable of the given `Tensor`."
   ],
   "cell_type": "markdown",
   "metadata": {}
  },
  {
   "cell_type": "code",
   "execution_count": 49,
   "metadata": {},
   "outputs": [
    {
     "output_type": "stream",
     "name": "stdout",
     "text": [
      "y converted to int\ntensor([0, 1, 0, 0, 1, 1, 1, 0, 1, 1])\n\n\nData type of y\ntorch.int64\n\n\n"
     ]
    }
   ],
   "source": [
    "y = y.long()\n",
    "pretty_print(y, \"y converted to int\")\n",
    "pretty_print(y.dtype, \"Data type of y\")"
   ]
  },
  {
   "source": [
    "Let us now build our logistic regressor in PT.\n",
    "\n",
    "We only need one single addition wrt the linear regressor: in the `forward` method, we'll add the sigmoidal non-linearity by calling the `sigmoid` function within the `torch.nn.functional` library.\n",
    "\n",
    "Note that there also exist some \"mirror\" alias of these functionals within `torch.nn` (e.g. `torch.nn.Sigmoid`): we'll learn in the following lecture why these aliases are there and how to use them."
   ],
   "cell_type": "markdown",
   "metadata": {}
  },
  {
   "cell_type": "code",
   "execution_count": 50,
   "metadata": {},
   "outputs": [],
   "source": [
    "class LogisticRegressor(torch.nn.Module):\n",
    "    def __init__(self):\n",
    "        super().__init__()\n",
    "        # no difference wrt linear regressor\n",
    "        self.regressor = torch.nn.Linear(in_features=3, out_features=1)\n",
    "    \n",
    "    def forward(self, X):\n",
    "        out = self.regressor(X)\n",
    "        # here we apply the sigmoid fct to the output of regressor\n",
    "        out = torch.sigmoid(out)\n",
    "        return out"
   ]
  },
  {
   "source": [
    "We can instantiate our logistic regressor and use it to calculate our predictions on the same X as before.\n",
    "\n",
    "Note that **we're using the initial (random) weights which PT has assigned to the model parameters**.\n",
    "For our linear regressor, we were able to analytically obtain the OLS value of the parameters.\n",
    "In the case of logistic regression, there's no MaxLikelihood estimator obtainable in close form and we need to resort to numerical methods to obtain them.\n",
    "Since the part concerning numerical optimization will be discussed during the next Lab, we will not be training our model (hence results will obviously be sub-par)."
   ],
   "cell_type": "markdown",
   "metadata": {}
  },
  {
   "cell_type": "code",
   "execution_count": 51,
   "metadata": {},
   "outputs": [
    {
     "output_type": "stream",
     "name": "stdout",
     "text": [
      "logistic regressor predictions\n",
      "tensor([[0.5733],\n",
      "        [0.8115],\n",
      "        [0.9574],\n",
      "        [0.9820],\n",
      "        [0.9976],\n",
      "        [0.9981],\n",
      "        [0.9998],\n",
      "        [0.9999],\n",
      "        [1.0000],\n",
      "        [1.0000]], grad_fn=<SigmoidBackward>)\n",
      "\n",
      "\n",
      "/home/zullich/.pyenv/versions/lottery/lib/python3.8/site-packages/torch/nn/functional.py:1639: UserWarning: nn.functional.sigmoid is deprecated. Use torch.sigmoid instead.\n",
      "  warnings.warn(\"nn.functional.sigmoid is deprecated. Use torch.sigmoid instead.\")\n"
     ]
    }
   ],
   "source": [
    "log_reg = LogisticRegressor()\n",
    "y_hat = log_reg(X_lin_reg)\n",
    "pretty_print(y_hat, \"logistic regressor predictions\")"
   ]
  },
  {
   "source": [
    "There exist many ways to evaluate the performance of the logistic regressor: one of them is **accuracy** (correctly identified units / total number of units).\n",
    "We can define a function to evaluate accuracy and calculate it on our model and data"
   ],
   "cell_type": "markdown",
   "metadata": {}
  },
  {
   "cell_type": "code",
   "execution_count": 52,
   "metadata": {},
   "outputs": [],
   "source": [
    "def accuracy(y, y_hat):\n",
    "    # Assign each y_hat to its predicted class\n",
    "    pred_classes = torch.where(y_hat < .5, 0, 1).squeeze().long()\n",
    "    correct = (pred_classes == y).sum()\n",
    "    return (correct / y.shape[0]).item()"
   ]
  },
  {
   "cell_type": "code",
   "execution_count": 53,
   "metadata": {},
   "outputs": [
    {
     "output_type": "execute_result",
     "data": {
      "text/plain": [
       "0.6000000238418579"
      ]
     },
     "metadata": {},
     "execution_count": 53
    }
   ],
   "source": [
    "accuracy(y, y_hat)"
   ]
  },
  {
   "source": [
    "#### Visualizing linear and logistic regression as a computational graph\n",
    "\n",
    "We now need to convert the equation of the linear and the logistic regression:\n",
    "* `y = σ(WX + b)`\n",
    "\n",
    "where `σ` is a generic `ℝ → ℝ` function: sigmoid for logistic regression, identity for linear regression.\n",
    "\n",
    "![](img/log_reg_graph.jpg)\n",
    "\n",
    "We organize the input in *nodes* (on the left part) s.t. each node represents one dimension/covariate.\n",
    "For each data instance, we substitute to each node the corresponding numeric value.\n",
    "The nodes undergo one or more operations, namely, from left to right:\n",
    "\n",
    "1. Each node is multiplied by its corresponding weight (a value placed on the edge indicates that the node is multiplied by said value)\n",
    "2. All the corresponding outputs are summed together\n",
    "\n",
    "These two operations identify the dot product between vectors `X` and `W`\n",
    "\n",
    "3. The bias term `b` is added\n",
    "4. The non-linear function `σ` is applied to the result of this sum\n",
    "5. Finally, we assign that value to the variable `ŷ`, which is also indicated as a node\n"
   ],
   "cell_type": "markdown",
   "metadata": {}
  },
  {
   "source": [
    "### Our first MultiLayer Perceptron (MLP)\n",
    "\n",
    "The MLP is a family of Artificial NNs in which the input is a vector of size `ℝ^d` and the output is again a vector of size `ℝ^p`, where `p` is determined upon the nature of the problem we wish to solve. Additionally, a MLP is characterized by multiple stages (*layers*) of sequential vector-matrix multiplication and non-linearity (steps 1., 2., 3. above) in which each output of the layer `l-1` acts as input to the layer `l`.\n",
    "\n",
    "Taking inspiration to the graph of the logistic regression, we can translate all into an image to give sense to these words:\n",
    "\n",
    "![](img/mlp_graph.jpg)\n",
    "\n",
    "In NNs, each of the nodes within the graph is called a **neuron**\n",
    "\n",
    "Neurons are organized in **layers**\n",
    "\n",
    "In computational graphs, layers are shown from left to right (or bottom to top sometimes), which is the direction of the flow of information inside the NN.\n",
    "\n",
    "The first layer is called **input layer** and represents the dimensions of our data.\n",
    "\n",
    "The last layer is called **output layer** and represent the output of our NN.\n",
    "\n",
    "All the intermediate layers are called **hidden layers**. To be defined MLP, there must be at least one hidden layer inside our model.\n",
    "\n",
    "If the NN is an MLP, each neuron in a given layer (except for the input) receives information from every neuron of the previous; moreover, each neuron in any layer (except for the output) sends information to every neuron of the next layer. There's no communication between neurons of the same layer (if it happens, we have a **Recursive Neural Network**)."
   ],
   "cell_type": "markdown",
   "metadata": {}
  },
  {
   "source": [
    "For the sake of brevity, usually in NN computational graphs we drop the blocks `+` and `σ`, the values of weights, and the reference to the bias terms, remaining with a scheme conveying info about\n",
    "* the number of neurons per layer\n",
    "* the connectivity of neurons\n",
    "\n",
    "The graph above becomes:\n",
    "\n",
    "![](img/mlp_graph_common.jpg)\n",
    "\n",
    "We can then start programming our simple MLP in PT.\n",
    "\n",
    "We will suppose that our MLP is for **binary classification**, hence the activation function `τ` is the sigmoid."
   ],
   "cell_type": "markdown",
   "metadata": {}
  },
  {
   "cell_type": "code",
   "execution_count": 54,
   "metadata": {},
   "outputs": [],
   "source": [
    "class MLP(torch.nn.Module):\n",
    "    def __init__(self):\n",
    "        super().__init__()\n",
    "        self.layer1 = torch.nn.Linear(in_features=3, out_features=2)\n",
    "        self.layer2 = torch.nn.Linear(in_features=2, out_features=1)\n",
    "\n",
    "    def forward(self, X):\n",
    "        out = self.layer1(X)\n",
    "        out = torch.nn.functional.relu(out)\n",
    "        out = self.layer2(out)\n",
    "        out = torch.nn.functional.sigmoid(out)\n",
    "        return out\n"
   ]
  },
  {
   "source": [
    "For the great majority of MLP, it's very hard to get analytical solutions to our sets of weights and biases. We then resort to numerical methods for optimization.\n",
    "\n",
    "In DL, we normally used gradient-based methods like Stochastic Gradient Descent with *backpropagation* to find approximate solutions.\n",
    "\n",
    "We'll cover these topics in future lectures. For now, the focus is to build a MLP in PT and perform the *forward pass* (=evaluate the model on a set of data)."
   ],
   "cell_type": "markdown",
   "metadata": {}
  },
  {
   "source": [
    "We can analyse the structure of our MLP by just printing the model"
   ],
   "cell_type": "markdown",
   "metadata": {}
  },
  {
   "cell_type": "code",
   "execution_count": 55,
   "metadata": {},
   "outputs": [
    {
     "output_type": "execute_result",
     "data": {
      "text/plain": [
       "MLP(\n",
       "  (layer1): Linear(in_features=3, out_features=2, bias=True)\n",
       "  (layer2): Linear(in_features=2, out_features=1, bias=True)\n",
       ")"
      ]
     },
     "metadata": {},
     "execution_count": 55
    }
   ],
   "source": [
    "model = MLP()\n",
    "model"
   ]
  },
  {
   "source": [
    "although we might wanna have additional informations.\n",
    "\n",
    "There's an additional package, called `torch-summary` which helps us producing more informative and exhaustive model summaries."
   ],
   "cell_type": "markdown",
   "metadata": {}
  },
  {
   "cell_type": "code",
   "execution_count": 95,
   "metadata": {},
   "outputs": [
    {
     "output_type": "stream",
     "name": "stdout",
     "text": [
      "Requirement already satisfied: torch-summary in /home/zullich/.pyenv/versions/3.8.6/envs/lottery/lib/python3.8/site-packages (1.4.5)\n"
     ]
    }
   ],
   "source": [
    "import sys\n",
    "!{sys.executable} -m pip install torch-summary #how to use pip or conda in jupyter notebooks\n",
    "from torchsummary import summary"
   ]
  },
  {
   "cell_type": "code",
   "execution_count": 57,
   "metadata": {},
   "outputs": [
    {
     "output_type": "stream",
     "name": "stdout",
     "text": [
      "=================================================================\nLayer (type:depth-idx)                   Param #\n=================================================================\n├─Linear: 1-1                            8\n├─Linear: 1-2                            3\n=================================================================\nTotal params: 11\nTrainable params: 11\nNon-trainable params: 0\n=================================================================\n"
     ]
    },
    {
     "output_type": "execute_result",
     "data": {
      "text/plain": [
       "=================================================================\n",
       "Layer (type:depth-idx)                   Param #\n",
       "=================================================================\n",
       "├─Linear: 1-1                            8\n",
       "├─Linear: 1-2                            3\n",
       "=================================================================\n",
       "Total params: 11\n",
       "Trainable params: 11\n",
       "Non-trainable params: 0\n",
       "================================================================="
      ]
     },
     "metadata": {},
     "execution_count": 57
    }
   ],
   "source": [
    "summary(model)"
   ]
  },
  {
   "source": [
    "Let us suppose we wish to build a larger model from the graph below.\n",
    "\n",
    "![](img/mlp_graph_larger.jpg)\n",
    "\n",
    "We suppose that\n",
    "\n",
    "1. The layers have no bias units\n",
    "2. The activation function for hidden layers is `ReLU`\n",
    "\n",
    "Moreover, we suppose that this is a classification problem.\n",
    "\n",
    "As you might recall, when the number of classes is > 2, we encode the problem in such a way that the output layer has a no. of neurons corresponding to the no. of classes. Doing so, we establish a correspondence between output units and classes. The value of the $j$-th neuron represents the **confidence** of the network in assigning a given data instance to the $j$-th class.\n",
    "\n",
    "Classically, when the network is encoded in such way, the activation function for the final layer is the **softmax** function.\n",
    "If $C$ is the total number of classes,\n",
    "\n",
    "$softmax(z_j) = \\frac{\\exp(z_j)}{\\sum_{k=1}^C \\exp(z_k)}$\n",
    "\n",
    "where $j\\in \\{1,\\cdots,C\\}$ is one of the classes.\n",
    "\n",
    "If we repeat this calculation for all $j$s, we end up with $C$ normalized values (i.e., between 0 and 1) which can be interpreted as probability that the network assigns the instance to the corresponding class."
   ],
   "cell_type": "markdown",
   "metadata": {}
  },
  {
   "source": [
    "#### Homework (see Moodle for additional info)\n",
    "\n",
    "1. build the MLP using PT built-ins as above\n",
    "2. Instantiate and summarise\n",
    "3. Provide calculation for the exact number of parameters of the MLP (also in the case of bias terms)\n",
    "4. Calculate the L1 and L2 norm of parameters for the params of each layer"
   ],
   "cell_type": "markdown",
   "metadata": {}
  }
 ]
}