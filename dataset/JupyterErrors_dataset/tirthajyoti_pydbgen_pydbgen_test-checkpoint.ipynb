{
 "cells": [
  {
   "cell_type": "code",
   "execution_count": 5,
   "metadata": {
    "collapsed": true
   },
   "outputs": [],
   "source": [
    "from pydbgen import pydb"
   ]
  },
  {
   "cell_type": "code",
   "execution_count": 10,
   "metadata": {},
   "outputs": [],
   "source": [
    "myDB=pydb()"
   ]
  },
  {
   "cell_type": "code",
   "execution_count": 11,
   "metadata": {},
   "outputs": [
    {
     "name": "stdout",
     "output_type": "stream",
     "text": [
      "957-606-6855\n",
      "459-956-6002\n",
      "423-086-3710\n",
      "170-016-2656\n",
      "186-387-9849\n",
      "543-881-7240\n",
      "685-382-1489\n",
      "799-752-4786\n",
      "426-993-2188\n",
      "381-956-5413\n"
     ]
    }
   ],
   "source": [
    "for _ in range(10):\n",
    "    print(myDB.simple_ph_num())"
   ]
  },
  {
   "cell_type": "code",
   "execution_count": 12,
   "metadata": {},
   "outputs": [
    {
     "name": "stdout",
     "output_type": "stream",
     "text": [
      "JCI-008\n",
      "1SCJ671\n",
      "DWD-7325\n",
      "EED-0979\n",
      "4ABD316\n",
      "5FKT745\n",
      "JTR-299\n",
      "ORD-967\n",
      "5LSW171\n",
      "8CFX992\n"
     ]
    }
   ],
   "source": [
    "for _ in range(10):\n",
    "    print(myDB.license_plate())"
   ]
  },
  {
   "cell_type": "code",
   "execution_count": 13,
   "metadata": {},
   "outputs": [
    {
     "name": "stdout",
     "output_type": "stream",
     "text": [
      "Sarkar_Tirtha@hotmail.com\n",
      "Sarkar.Tirtha@gmail.com\n",
      "Tirtha.Sarkar@protonmail.com\n",
      "TSarkar@outlook.com\n",
      "Tirtha.S44@aol.com\n",
      "Tirtha.Sarkar@aol.com\n",
      "TirthaSarkar@protonmail.com\n",
      "Tirtha_Sarkar63@aol.com\n",
      "TSarkar41@xfinity.com\n",
      "Sarkar.Tirtha@yandex.com\n"
     ]
    }
   ],
   "source": [
    "for _ in range(10):\n",
    "    print(myDB.realistic_email('Tirtha Sarkar'))"
   ]
  },
  {
   "cell_type": "code",
   "execution_count": 14,
   "metadata": {},
   "outputs": [
    {
     "name": "stdout",
     "output_type": "stream",
     "text": [
      "Morrisville\n",
      "Larson\n",
      "Keltys\n",
      "Roads End\n",
      "Andrews\n",
      "Grand Chenier\n",
      "Lake Katrine\n",
      "North Johns\n",
      "Kimballton\n",
      "Kelloggsville\n"
     ]
    }
   ],
   "source": [
    "for _ in range(10):\n",
    "    print(myDB.city_real())"
   ]
  },
  {
   "cell_type": "code",
   "execution_count": 15,
   "metadata": {},
   "outputs": [
    {
     "name": "stdout",
     "output_type": "stream",
     "text": [
      "0       Jordan Turner\n",
      "1          Troy Young\n",
      "2    Anthony Jennings\n",
      "3        Kathy Carter\n",
      "4           Kyle Bell\n",
      "dtype: object\n"
     ]
    }
   ],
   "source": [
    "se=myDB.gen_data_series(num=5)\n",
    "print(se)"
   ]
  },
  {
   "cell_type": "code",
   "execution_count": 16,
   "metadata": {},
   "outputs": [
    {
     "name": "stdout",
     "output_type": "stream",
     "text": [
      "Please input a positive integer for the number of examples\n",
      "None\n"
     ]
    }
   ],
   "source": [
    "se=myDB.gen_data_series(num=-2)\n",
    "print(se)"
   ]
  },
  {
   "cell_type": "code",
   "execution_count": 17,
   "metadata": {},
   "outputs": [
    {
     "name": "stdout",
     "output_type": "stream",
     "text": [
      "0    Steven Freeman\n",
      "1    Michael Macias\n",
      "dtype: object\n"
     ]
    }
   ],
   "source": [
    "se=myDB.gen_data_series(num=2.3)\n",
    "print(se)"
   ]
  },
  {
   "cell_type": "code",
   "execution_count": 18,
   "metadata": {},
   "outputs": [
    {
     "name": "stdout",
     "output_type": "stream",
     "text": [
      "Please input a positive integer for the number of examples\n",
      "None\n"
     ]
    }
   ],
   "source": [
    "se=myDB.gen_data_series(num=-2.3)\n",
    "print(se)"
   ]
  },
  {
   "cell_type": "code",
   "execution_count": 19,
   "metadata": {},
   "outputs": [
    {
     "name": "stdout",
     "output_type": "stream",
     "text": [
      "Number of samples not understood, terminating...\n",
      "None\n"
     ]
    }
   ],
   "source": [
    "se=myDB.gen_data_series(num='hello')\n",
    "print(se)"
   ]
  },
  {
   "cell_type": "code",
   "execution_count": 20,
   "metadata": {},
   "outputs": [
    {
     "name": "stdout",
     "output_type": "stream",
     "text": [
      "Number of samples not understood, terminating...\n",
      "None\n"
     ]
    }
   ],
   "source": [
    "se=myDB.gen_data_series(num=[2,3])\n",
    "print(se)"
   ]
  },
  {
   "cell_type": "code",
   "execution_count": 21,
   "metadata": {},
   "outputs": [
    {
     "name": "stdout",
     "output_type": "stream",
     "text": [
      "0    2016-04-03\n",
      "1    1998-11-09\n",
      "2    1970-10-09\n",
      "3    1985-09-17\n",
      "4    1989-10-08\n",
      "5    1990-05-26\n",
      "6    1983-12-25\n",
      "7    2015-05-07\n",
      "8    1992-03-06\n",
      "9    2010-11-21\n",
      "dtype: object\n"
     ]
    }
   ],
   "source": [
    "se=myDB.gen_data_series(data_type='date')\n",
    "print(se)"
   ]
  },
  {
   "cell_type": "code",
   "execution_count": 22,
   "metadata": {},
   "outputs": [
    {
     "name": "stdout",
     "output_type": "stream",
     "text": [
      "Data type not understood. No series generated\n",
      "None\n"
     ]
    }
   ],
   "source": [
    "se=myDB.gen_data_series(data_type=12)\n",
    "print(se)"
   ]
  },
  {
   "cell_type": "code",
   "execution_count": 23,
   "metadata": {},
   "outputs": [
    {
     "data": {
      "text/html": [
       "<div>\n",
       "<style>\n",
       "    .dataframe thead tr:only-child th {\n",
       "        text-align: right;\n",
       "    }\n",
       "\n",
       "    .dataframe thead th {\n",
       "        text-align: left;\n",
       "    }\n",
       "\n",
       "    .dataframe tbody tr th {\n",
       "        vertical-align: top;\n",
       "    }\n",
       "</style>\n",
       "<table border=\"1\" class=\"dataframe\">\n",
       "  <thead>\n",
       "    <tr style=\"text-align: right;\">\n",
       "      <th></th>\n",
       "      <th>name</th>\n",
       "      <th>ssn</th>\n",
       "      <th>job_title</th>\n",
       "    </tr>\n",
       "  </thead>\n",
       "  <tbody>\n",
       "    <tr>\n",
       "      <th>0</th>\n",
       "      <td>Thomas Roberts</td>\n",
       "      <td>491-35-1897</td>\n",
       "      <td>Retail buyer</td>\n",
       "    </tr>\n",
       "    <tr>\n",
       "      <th>1</th>\n",
       "      <td>Robert Davis</td>\n",
       "      <td>460-65-6950</td>\n",
       "      <td>Best boy</td>\n",
       "    </tr>\n",
       "    <tr>\n",
       "      <th>2</th>\n",
       "      <td>Leonard Gonzales</td>\n",
       "      <td>506-79-0766</td>\n",
       "      <td>Glass blower/designer</td>\n",
       "    </tr>\n",
       "    <tr>\n",
       "      <th>3</th>\n",
       "      <td>Amanda Miller</td>\n",
       "      <td>589-66-4009</td>\n",
       "      <td>Further education lecturer</td>\n",
       "    </tr>\n",
       "    <tr>\n",
       "      <th>4</th>\n",
       "      <td>Michelle Young</td>\n",
       "      <td>334-93-3411</td>\n",
       "      <td>Trade mark attorney</td>\n",
       "    </tr>\n",
       "    <tr>\n",
       "      <th>5</th>\n",
       "      <td>James Deleon</td>\n",
       "      <td>224-73-7945</td>\n",
       "      <td>Pensions consultant</td>\n",
       "    </tr>\n",
       "    <tr>\n",
       "      <th>6</th>\n",
       "      <td>Paige Miller</td>\n",
       "      <td>046-16-6923</td>\n",
       "      <td>Games developer</td>\n",
       "    </tr>\n",
       "    <tr>\n",
       "      <th>7</th>\n",
       "      <td>Brian Hahn</td>\n",
       "      <td>579-96-9488</td>\n",
       "      <td>Scientist, forensic</td>\n",
       "    </tr>\n",
       "    <tr>\n",
       "      <th>8</th>\n",
       "      <td>Elizabeth Castaneda</td>\n",
       "      <td>651-25-2731</td>\n",
       "      <td>TEFL teacher</td>\n",
       "    </tr>\n",
       "    <tr>\n",
       "      <th>9</th>\n",
       "      <td>Allison Garcia</td>\n",
       "      <td>334-65-3066</td>\n",
       "      <td>Psychologist, counselling</td>\n",
       "    </tr>\n",
       "  </tbody>\n",
       "</table>\n",
       "</div>"
      ],
      "text/plain": [
       "                  name          ssn                   job_title\n",
       "0       Thomas Roberts  491-35-1897                Retail buyer\n",
       "1         Robert Davis  460-65-6950                    Best boy\n",
       "2     Leonard Gonzales  506-79-0766       Glass blower/designer\n",
       "3        Amanda Miller  589-66-4009  Further education lecturer\n",
       "4       Michelle Young  334-93-3411         Trade mark attorney\n",
       "5         James Deleon  224-73-7945         Pensions consultant\n",
       "6         Paige Miller  046-16-6923             Games developer\n",
       "7           Brian Hahn  579-96-9488         Scientist, forensic\n",
       "8  Elizabeth Castaneda  651-25-2731                TEFL teacher\n",
       "9       Allison Garcia  334-65-3066   Psychologist, counselling"
      ]
     },
     "execution_count": 23,
     "metadata": {},
     "output_type": "execute_result"
    }
   ],
   "source": [
    "testdf=myDB.gen_dataframe(fields=['name','ssn','job_title'])\n",
    "testdf"
   ]
  },
  {
   "cell_type": "code",
   "execution_count": 25,
   "metadata": {},
   "outputs": [
    {
     "name": "stdout",
     "output_type": "stream",
     "text": [
      "Please input a positive integer for the number of examples\n"
     ]
    }
   ],
   "source": [
    "testdf=myDB.gen_dataframe(-4,fields=['name','email','city'])\n",
    "testdf"
   ]
  },
  {
   "cell_type": "code",
   "execution_count": 26,
   "metadata": {},
   "outputs": [
    {
     "data": {
      "text/html": [
       "<div>\n",
       "<style>\n",
       "    .dataframe thead tr:only-child th {\n",
       "        text-align: right;\n",
       "    }\n",
       "\n",
       "    .dataframe thead th {\n",
       "        text-align: left;\n",
       "    }\n",
       "\n",
       "    .dataframe tbody tr th {\n",
       "        vertical-align: top;\n",
       "    }\n",
       "</style>\n",
       "<table border=\"1\" class=\"dataframe\">\n",
       "  <thead>\n",
       "    <tr style=\"text-align: right;\">\n",
       "      <th></th>\n",
       "      <th>name</th>\n",
       "      <th>email</th>\n",
       "      <th>city</th>\n",
       "    </tr>\n",
       "  </thead>\n",
       "  <tbody>\n",
       "    <tr>\n",
       "      <th>0</th>\n",
       "      <td>Roger Stanley</td>\n",
       "      <td>Stanley_Roger@comcast.net</td>\n",
       "      <td>Geigertown</td>\n",
       "    </tr>\n",
       "    <tr>\n",
       "      <th>1</th>\n",
       "      <td>Jared Ellis</td>\n",
       "      <td>Jared.Ellis@xfinity.com</td>\n",
       "      <td>Houma</td>\n",
       "    </tr>\n",
       "    <tr>\n",
       "      <th>2</th>\n",
       "      <td>Zachary Wallace</td>\n",
       "      <td>Zachary.W@comcast.net</td>\n",
       "      <td>Perrin</td>\n",
       "    </tr>\n",
       "    <tr>\n",
       "      <th>3</th>\n",
       "      <td>Marissa Maldonado</td>\n",
       "      <td>Marissa.M93@gmail.com</td>\n",
       "      <td>Starks</td>\n",
       "    </tr>\n",
       "    <tr>\n",
       "      <th>4</th>\n",
       "      <td>Bryan Newman</td>\n",
       "      <td>BNewman@hotmail.com</td>\n",
       "      <td>New Post</td>\n",
       "    </tr>\n",
       "  </tbody>\n",
       "</table>\n",
       "</div>"
      ],
      "text/plain": [
       "                name                      email        city\n",
       "0      Roger Stanley  Stanley_Roger@comcast.net  Geigertown\n",
       "1        Jared Ellis    Jared.Ellis@xfinity.com       Houma\n",
       "2    Zachary Wallace      Zachary.W@comcast.net      Perrin\n",
       "3  Marissa Maldonado      Marissa.M93@gmail.com      Starks\n",
       "4       Bryan Newman        BNewman@hotmail.com    New Post"
      ]
     },
     "execution_count": 26,
     "metadata": {},
     "output_type": "execute_result"
    }
   ],
   "source": [
    "testdf=myDB.gen_dataframe('5',fields=['name','email','city'])\n",
    "testdf"
   ]
  },
  {
   "cell_type": "code",
   "execution_count": 27,
   "metadata": {
    "collapsed": true
   },
   "outputs": [],
   "source": [
    "myDB.gen_table(20,fields=['name','city','job_title','phone','company'],\n",
    "          db_file='TestDB.db',table_name='People')"
   ]
  },
  {
   "cell_type": "code",
   "execution_count": 28,
   "metadata": {
    "collapsed": true
   },
   "outputs": [],
   "source": [
    "myDB.gen_excel(15,fields=['name','year','email','license_plate'],filename='TestExcel.xlsx')"
   ]
  },
  {
   "cell_type": "code",
   "execution_count": 32,
   "metadata": {},
   "outputs": [
    {
     "ename": "OperationalError",
     "evalue": "no such column: None",
     "output_type": "error",
     "traceback": [
      "\u001b[0;31m---------------------------------------------------------------------------\u001b[0m",
      "\u001b[0;31mOperationalError\u001b[0m                          Traceback (most recent call last)",
      "\u001b[0;32m<ipython-input-32-b6d470b526d8>\u001b[0m in \u001b[0;36m<module>\u001b[0;34m()\u001b[0m\n\u001b[1;32m      1\u001b[0m myDB.gen_table(20,fields=['name','age', 'city','job_title','phone','company'],\n\u001b[0;32m----> 2\u001b[0;31m           db_file='TestDB.db',table_name='People', primarykey='age')\n\u001b[0m",
      "\u001b[0;32m~/Documents/igor-franca/pydbgen/tests/pydbgen.py\u001b[0m in \u001b[0;36mgen_table\u001b[0;34m(self, num, fields, db_file, table_name, primarykey, real_email, real_city, phone_simple, seed)\u001b[0m\n\u001b[1;32m    432\u001b[0m         \u001b[0;32mfor\u001b[0m \u001b[0mi\u001b[0m \u001b[0;32min\u001b[0m \u001b[0mrange\u001b[0m\u001b[0;34m(\u001b[0m\u001b[0mnum\u001b[0m\u001b[0;34m)\u001b[0m\u001b[0;34m:\u001b[0m\u001b[0;34m\u001b[0m\u001b[0m\n\u001b[1;32m    433\u001b[0m             \u001b[0mstr_insert\u001b[0m\u001b[0;34m=\u001b[0m\u001b[0;34m\"INSERT INTO \"\u001b[0m\u001b[0;34m+\u001b[0m\u001b[0mtable_name\u001b[0m\u001b[0;34m+\u001b[0m \u001b[0;34m\" VALUES \"\u001b[0m\u001b[0;34m+\u001b[0m \u001b[0mstr\u001b[0m\u001b[0;34m(\u001b[0m\u001b[0mtuple\u001b[0m\u001b[0;34m(\u001b[0m\u001b[0mtemp_df\u001b[0m\u001b[0;34m.\u001b[0m\u001b[0miloc\u001b[0m\u001b[0;34m[\u001b[0m\u001b[0mi\u001b[0m\u001b[0;34m]\u001b[0m\u001b[0;34m)\u001b[0m\u001b[0;34m)\u001b[0m \u001b[0;34m+\u001b[0m\u001b[0;34m';'\u001b[0m\u001b[0;34m\u001b[0m\u001b[0m\n\u001b[0;32m--> 434\u001b[0;31m             \u001b[0mc\u001b[0m\u001b[0;34m.\u001b[0m\u001b[0mexecute\u001b[0m\u001b[0;34m(\u001b[0m\u001b[0mstr_insert\u001b[0m\u001b[0;34m)\u001b[0m\u001b[0;34m\u001b[0m\u001b[0m\n\u001b[0m\u001b[1;32m    435\u001b[0m \u001b[0;34m\u001b[0m\u001b[0m\n\u001b[1;32m    436\u001b[0m         \u001b[0;31m# Commit the insertions and close the connection\u001b[0m\u001b[0;34m\u001b[0m\u001b[0;34m\u001b[0m\u001b[0m\n",
      "\u001b[0;31mOperationalError\u001b[0m: no such column: None"
     ]
    }
   ],
   "source": [
    "myDB.gen_table(20,fields=['name','age', 'city','job_title','phone','company'],\n",
    "          db_file='TestDB.db',table_name='People', primarykey='age')"
   ]
  },
  {
   "cell_type": "code",
   "execution_count": 30,
   "metadata": {},
   "outputs": [
    {
     "name": "stdout",
     "output_type": "stream",
     "text": [
      "Primary key type not identified. Not generating any table\n"
     ]
    }
   ],
   "source": [
    "myDB.gen_table(20,fields=['name','city','job_title','phone','company'],\n",
    "          db_file='TestDB.db',table_name='People', primarykey=12)"
   ]
  },
  {
   "cell_type": "code",
   "execution_count": 31,
   "metadata": {
    "collapsed": true
   },
   "outputs": [],
   "source": [
    "myDB.gen_table(20,fields=['name','city','job_title','phone','company','email'],\n",
    "          db_file='TestDB.db',table_name='People', primarykey='city',real_city=True,real_email=False,phone_simple=False)"
   ]
  },
  {
   "cell_type": "code",
   "execution_count": null,
   "metadata": {
    "collapsed": true
   },
   "outputs": [],
   "source": []
  }
 ],
 "metadata": {
  "kernelspec": {
   "display_name": "Python 3",
   "language": "python",
   "name": "python3"
  },
  "language_info": {
   "codemirror_mode": {
    "name": "ipython",
    "version": 3
   },
   "file_extension": ".py",
   "mimetype": "text/x-python",
   "name": "python",
   "nbconvert_exporter": "python",
   "pygments_lexer": "ipython3",
   "version": "3.6.3"
  },
  "latex_envs": {
   "LaTeX_envs_menu_present": true,
   "autoclose": false,
   "autocomplete": true,
   "bibliofile": "biblio.bib",
   "cite_by": "apalike",
   "current_citInitial": 1,
   "eqLabelWithNumbers": true,
   "eqNumInitial": 1,
   "hotkeys": {
    "equation": "Ctrl-E",
    "itemize": "Ctrl-I"
   },
   "labels_anchors": false,
   "latex_user_defs": false,
   "report_style_numbering": false,
   "user_envs_cfg": false
  }
 },
 "nbformat": 4,
 "nbformat_minor": 2
}
