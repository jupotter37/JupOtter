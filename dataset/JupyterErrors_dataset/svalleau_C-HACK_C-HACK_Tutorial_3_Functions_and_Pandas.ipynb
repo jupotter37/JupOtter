{
 "cells": [
  {
   "cell_type": "markdown",
   "metadata": {},
   "source": [
    "##### Copyright 2021 The C-HACKMASTERS."
   ]
  },
  {
   "cell_type": "code",
   "execution_count": 1,
   "metadata": {},
   "outputs": [],
   "source": [
    "#@title Licensed under the Apache License, Version 2.0 (the \"License\");\n",
    "# you may not use this file except in compliance with the License.\n",
    "# You may obtain a copy of the License at\n",
    "#\n",
    "# https://www.apache.org/licenses/LICENSE-2.0\n",
    "#\n",
    "# Unless required by applicable law or agreed to in writing, software\n",
    "# distributed under the License is distributed on an \"AS IS\" BASIS,\n",
    "# WITHOUT WARRANTIES OR CONDITIONS OF ANY KIND, either express or implied.\n",
    "# See the License for the specific language governing permissions and\n",
    "# limitations under the License."
   ]
  },
  {
   "cell_type": "markdown",
   "metadata": {
    "id": "cPmio-GwmEwG"
   },
   "source": [
    "# **C-HACK Tutorial 3: Functions and Pandas Introduction**\n",
    "\n",
    "**Instructor**: Dave Beck<br>\n",
    "**Contact**: dacb@uw.edu"
   ]
  },
  {
   "cell_type": "markdown",
   "metadata": {
    "id": "NmU6fUWgmEwI"
   },
   "source": [
    "**Acknowlegements**: Dave would like acknowledge the entire C-Hack hackmaster team for review and comments on the tutorial.  In particular, this tutorial was reviewed by:\n",
    "* Anne Farley\n",
    "* Michael Mosqueda\n",
    "* Dia Nguyen"
   ]
  },
  {
   "cell_type": "markdown",
   "metadata": {
    "id": "Oad0hoA9mEwJ"
   },
   "source": [
    "---"
   ]
  },
  {
   "cell_type": "markdown",
   "metadata": {
    "id": "_m1fggeomEwJ"
   },
   "source": [
    "Today, we will discuss **_functions_** in more depth.  We've seen them previously and used them, for example the `.append()` **_function_**.  Here, we'll dig into how you can make your own functions to encapsulate code that you will reuse over and over.  \n",
    "\n",
    "Then we'll jump into the **Pandas** package.  Packages are collections of related functions.  These are the things we `import`. Pandas is a two dimensional data structure like a spreadsheet in Excel."
   ]
  },
  {
   "cell_type": "markdown",
   "metadata": {
    "id": "5yGc3D7xmEwK"
   },
   "source": [
    "### 3.1 Review from Tutorial on Data Structures and Flow Control\n",
    "\n",
    "In our last tutorial, we discussed **_lists_**, **_dictionaries_**, and **_flow control_**.\n",
    "\n",
    "**_Lists_** are **_ordered collections_** of data that can be used to hold multiple pieces of information while preserving thier order.  We use `[` and `]` to access elements by their indices which start with `0`.  All things that operate on **_lists_** like slices use the concept of an inclusive lower bound and an exclusive upper bound.  So, the following gets elements from the **_list_** `my_list` with index values of `0`, `1`, and `2`, but **not** `3`!\n",
    "\n",
    "```\n",
    "my_list[0:3]\n",
    "```\n",
    "\n",
    "It is equivalent to what other way of writing the same statement using **_slicing_**?  Hint, think about leaving out one of the numbers in the slice!\n",
    "\n",
    "**_Dictionaries_** are **_named_** **_collections_** of data that can be used to hold multiple pieces of information as **_values_** that are addressed by **_keys_** resulting in a **_key_** to **_value_** data structure.  They are accessed with `[` and `]` but intialized with `{` and `}`.  E.g.\n",
    "\n",
    "```\n",
    "my_dict = { 'cake' : 'Tasty!', 'toenails' : 'Gross!' }\n",
    "my_dict['cake']\n",
    "```\n",
    "\n",
    "Finally, we talked about **_flow control_** and using the concept of **_conditional execution_** to decide which code statements were executed.  Remember this figure?\n",
    "\n",
    "<img src=\"https://docs.oracle.com/cd/B19306_01/appdev.102/b14261/lnpls008.gif\">Flow control figure</img>\n",
    "\n",
    "What are the **_if_** statments?\n",
    "\n",
    "Where do **_for_** loops fit in?\n",
    "\n",
    "What was the overarching concept of a **_function_**?"
   ]
  },
  {
   "cell_type": "markdown",
   "metadata": {
    "id": "PryGZXQwmEwK"
   },
   "source": [
    "### 3.2 Functions\n",
    "\n",
    "For loops let you repeat some code for every item in a list.  Functions are similar in that they run the same lines of code for new values of some variable.  They are different in that functions are not limited to looping over items.\n",
    "\n",
    "Functions are a critical part of writing easy to read, reusable code.\n",
    "\n",
    "Create a function like:\n",
    "```\n",
    "def function_name (parameters):\n",
    "    \"\"\"\n",
    "    optional docstring\n",
    "    \"\"\"\n",
    "    function expressions\n",
    "    return [variable]\n",
    "```\n",
    "\n",
    "_Note:_ Sometimes I use the word argument in place of parameter.\n",
    "\n",
    "Here is a simple example.  It prints a string that was passed in and returns nothing.\n",
    "\n",
    "```\n",
    "def print_string(str):\n",
    "    \"\"\"This prints out a string passed as the parameter.\"\"\"\n",
    "    print(str)\n",
    "    return\n",
    "```"
   ]
  },
  {
   "cell_type": "code",
   "execution_count": null,
   "metadata": {
    "id": "fV0lZXV9mEwL"
   },
   "outputs": [],
   "source": [
    "def print_string(string):\n",
    "    \"\"\"This prints out a string passed as the parameter.\"\"\"\n",
    "    print(string)\n",
    "    return"
   ]
  },
  {
   "cell_type": "markdown",
   "metadata": {
    "id": "h_uE2gUSmEwL"
   },
   "source": [
    "To call the function, use:\n",
    "```\n",
    "print_string(\"Dave is awesome!\")\n",
    "```\n",
    "\n",
    "_Note:_ The function has to be defined before you can call it!"
   ]
  },
  {
   "cell_type": "code",
   "execution_count": null,
   "metadata": {
    "colab": {
     "base_uri": "https://localhost:8080/",
     "height": 205
    },
    "executionInfo": {
     "elapsed": 347,
     "status": "error",
     "timestamp": 1609985815727,
     "user": {
      "displayName": "David A. C. Beck",
      "photoUrl": "https://lh3.googleusercontent.com/a-/AOh14Gj0iGiFYbZdgtc6mx7XFYHkDly4A5-rGHh-mcN4=s64",
      "userId": "12214785840310827834"
     },
     "user_tz": 480
    },
    "id": "BUwNoV9Poc8j",
    "outputId": "89435f8c-eba7-461d-f717-ff4c78fb7be5"
   },
   "outputs": [
    {
     "ename": "TypeError",
     "evalue": "ignored",
     "output_type": "error",
     "traceback": [
      "\u001b[0;31m---------------------------------------------------------------------------\u001b[0m",
      "\u001b[0;31mTypeError\u001b[0m                                 Traceback (most recent call last)",
      "\u001b[0;32m<ipython-input-24-51c7333bccd1>\u001b[0m in \u001b[0;36m<module>\u001b[0;34m()\u001b[0m\n\u001b[1;32m      1\u001b[0m \u001b[0;34m\u001b[0m\u001b[0m\n\u001b[0;32m----> 2\u001b[0;31m \u001b[0mprint_string\u001b[0m\u001b[0;34m(\u001b[0m\u001b[0;34m)\u001b[0m\u001b[0;34m\u001b[0m\u001b[0;34m\u001b[0m\u001b[0m\n\u001b[0m",
      "\u001b[0;31mTypeError\u001b[0m: print_string() missing 1 required positional argument: 'string'"
     ]
    }
   ],
   "source": [
    "\n",
    "print_string()"
   ]
  },
  {
   "cell_type": "code",
   "execution_count": null,
   "metadata": {
    "colab": {
     "base_uri": "https://localhost:8080/"
    },
    "executionInfo": {
     "elapsed": 351,
     "status": "ok",
     "timestamp": 1609984797825,
     "user": {
      "displayName": "David A. C. Beck",
      "photoUrl": "https://lh3.googleusercontent.com/a-/AOh14Gj0iGiFYbZdgtc6mx7XFYHkDly4A5-rGHh-mcN4=s64",
      "userId": "12214785840310827834"
     },
     "user_tz": 480
    },
    "id": "NFP4JFtomEwL",
    "outputId": "088ba3eb-4336-47e4-a4ba-56d9dc54f6a9"
   },
   "outputs": [
    {
     "name": "stdout",
     "output_type": "stream",
     "text": [
      "Dave is OK\n",
      "the function has ended\n"
     ]
    }
   ],
   "source": [
    "print_string(\"Dave is OK\")\n",
    "print(\"the function has ended\")"
   ]
  },
  {
   "cell_type": "markdown",
   "metadata": {
    "id": "RMvDCmQsmEwM"
   },
   "source": [
    "If you don't provide an argument or too many, you get an error."
   ]
  },
  {
   "cell_type": "code",
   "execution_count": null,
   "metadata": {
    "colab": {
     "base_uri": "https://localhost:8080/"
    },
    "executionInfo": {
     "elapsed": 384,
     "status": "ok",
     "timestamp": 1609985023826,
     "user": {
      "displayName": "David A. C. Beck",
      "photoUrl": "https://lh3.googleusercontent.com/a-/AOh14Gj0iGiFYbZdgtc6mx7XFYHkDly4A5-rGHh-mcN4=s64",
      "userId": "12214785840310827834"
     },
     "user_tz": 480
    },
    "id": "etARjaJpmEwM",
    "outputId": "b1fa3efd-1dcd-438c-9cbf-361707058d35"
   },
   "outputs": [
    {
     "name": "stdout",
     "output_type": "stream",
     "text": [
      "<function print_string at 0x7f0e61a29620>\n"
     ]
    }
   ],
   "source": [
    "print_string(print_string)"
   ]
  },
  {
   "cell_type": "code",
   "execution_count": null,
   "metadata": {
    "colab": {
     "base_uri": "https://localhost:8080/"
    },
    "executionInfo": {
     "elapsed": 373,
     "status": "ok",
     "timestamp": 1609985362293,
     "user": {
      "displayName": "David A. C. Beck",
      "photoUrl": "https://lh3.googleusercontent.com/a-/AOh14Gj0iGiFYbZdgtc6mx7XFYHkDly4A5-rGHh-mcN4=s64",
      "userId": "12214785840310827834"
     },
     "user_tz": 480
    },
    "id": "oOqMl7arlvlV",
    "outputId": "9a147417-530d-4a34-ec15-e0e08ef8b18e"
   },
   "outputs": [
    {
     "data": {
      "text/plain": [
       "12"
      ]
     },
     "execution_count": 20,
     "metadata": {
      "tags": []
     },
     "output_type": "execute_result"
    }
   ],
   "source": [
    "def my_func(a_number, b_number):\n",
    "  return [a_number, b_number, a_number * b_number]\n",
    "\n",
    "my_func_result = my_func(3, 4)\n",
    "\n",
    "my_func_result[2]\n",
    "\n"
   ]
  },
  {
   "cell_type": "markdown",
   "metadata": {
    "id": "DcPPOxRgmEwN"
   },
   "source": [
    "#### 3.2.1 Function Parameters\n",
    "\n",
    "Parameters (or arguments) in Python are all passed by reference.  This means that if you modify the parameters in the function, they are modified outside of the function.\n",
    "\n",
    "See the following example:\n",
    "\n",
    "```\n",
    "def change_list(my_list):\n",
    "   \"\"\"This changes a passed list into this function\"\"\"\n",
    "   my_list.append('four');\n",
    "   print('list inside the function: ', my_list)\n",
    "   return\n",
    "\n",
    "my_list = [1, 2, 3];\n",
    "print('list before the function: ', my_list)\n",
    "change_list(my_list);\n",
    "print('list after the function: ', my_list)\n",
    "```"
   ]
  },
  {
   "cell_type": "code",
   "execution_count": null,
   "metadata": {
    "colab": {
     "base_uri": "https://localhost:8080/"
    },
    "executionInfo": {
     "elapsed": 344,
     "status": "ok",
     "timestamp": 1609985531485,
     "user": {
      "displayName": "David A. C. Beck",
      "photoUrl": "https://lh3.googleusercontent.com/a-/AOh14Gj0iGiFYbZdgtc6mx7XFYHkDly4A5-rGHh-mcN4=s64",
      "userId": "12214785840310827834"
     },
     "user_tz": 480
    },
    "id": "pid662VymEwN",
    "outputId": "a31ec6a2-ae17-4dc5-c79b-3b5087dbf8f3"
   },
   "outputs": [
    {
     "name": "stdout",
     "output_type": "stream",
     "text": [
      "list before the function:  [1, 2, 3]\n",
      "list inside the function:  [1, 2, 3, 'four']\n",
      "list after the function:  [1, 2, 3, 'four']\n"
     ]
    }
   ],
   "source": [
    "def change_list(a_list):\n",
    "   \"\"\"This changes a passed list into this function\"\"\"\n",
    "   a_list.append('four');\n",
    "   print('list inside the function: ', a_list)\n",
    "   return\n",
    "\n",
    "my_list = [1, 2, 3];\n",
    "print('list before the function: ', my_list)\n",
    "change_list(my_list);\n",
    "print('list after the function: ', my_list)"
   ]
  },
  {
   "cell_type": "code",
   "execution_count": null,
   "metadata": {
    "colab": {
     "base_uri": "https://localhost:8080/"
    },
    "executionInfo": {
     "elapsed": 341,
     "status": "ok",
     "timestamp": 1609985631730,
     "user": {
      "displayName": "David A. C. Beck",
      "photoUrl": "https://lh3.googleusercontent.com/a-/AOh14Gj0iGiFYbZdgtc6mx7XFYHkDly4A5-rGHh-mcN4=s64",
      "userId": "12214785840310827834"
     },
     "user_tz": 480
    },
    "id": "55v7RbdDnoyQ",
    "outputId": "e4dc4d2c-4589-480e-fb8e-f4d86ccf8886"
   },
   "outputs": [
    {
     "name": "stdout",
     "output_type": "stream",
     "text": [
      "4\n",
      "returned\n",
      "42\n"
     ]
    }
   ],
   "source": [
    "def a_func(a_num):\n",
    "  a_num = 4\n",
    "  print(a_num)\n",
    "  return\n",
    "\n",
    "my_num = 42\n",
    "a_func(42)\n",
    "print(\"returned\")\n",
    "print(my_num)"
   ]
  },
  {
   "cell_type": "markdown",
   "metadata": {
    "id": "87Ka2A6kmEwN"
   },
   "source": [
    "#### 3.2.2 For advanced folks...\n",
    "\n",
    "Variables have scope: **_global_** and **_local_**\n",
    "\n",
    "In a function, new variables that you create are not saved when the function returns - these are **_local_** variables.  Variables defined outside of the function can be accessed but not changed - these are **_global_** variables, _Note_ there is a way to do this with the **_global_** keyword.  Generally, the use of **_global_** variables is not encouraged, instead use parameters.\n",
    "\n",
    "```\n",
    "my_global_1 = 'bad idea'\n",
    "my_global_2 = 'another bad one'\n",
    "my_global_3 = 'better idea'\n",
    "\n",
    "def my_function():\n",
    "    print(my_global_1)\n",
    "    my_global_2 = 'broke your global, man!'\n",
    "    global my_global_3\n",
    "    my_global_3 = 'still a better idea'\n",
    "    return\n",
    "    \n",
    "my_function()\n",
    "print(my_global_2)\n",
    "print(my_global_3)\n",
    "```"
   ]
  },
  {
   "cell_type": "code",
   "execution_count": null,
   "metadata": {
    "id": "Jbky8pLcmEwO"
   },
   "outputs": [],
   "source": [
    "my_global_1 = 'bad idea'\n",
    "my_global_2 = 'another bad one'\n",
    "my_global_3 = 'better idea'\n",
    "\n",
    "def my_function():\n",
    "    print(my_global_1)\n",
    "    my_global_2 = 'broke your global, man!'\n",
    "    global my_global_3\n",
    "    my_global_3 = 'still a better idea'\n",
    "    return\n",
    "    \n",
    "my_function()\n",
    "print(my_global_2)\n",
    "print(my_global_3)"
   ]
  },
  {
   "cell_type": "markdown",
   "metadata": {
    "id": "WQd0CtzEmEwO"
   },
   "source": [
    "In general, you want to use parameters to provide data to a function and return a result with the `return`. E.g.\n",
    "\n",
    "```\n",
    "def sum(x, y):\n",
    "    my_sum = x + y\n",
    "    return my_sum\n",
    "```\n",
    "\n",
    "If you are going to return multiple objects, what data structure that we talked about can be used?  Give and example below."
   ]
  },
  {
   "cell_type": "code",
   "execution_count": null,
   "metadata": {
    "id": "OBluJNAxmEwO"
   },
   "outputs": [],
   "source": []
  },
  {
   "cell_type": "markdown",
   "metadata": {
    "id": "-SiUKsyFmEwP"
   },
   "source": [
    "#### 3.2.3 Parameters have four different types:\n",
    "\n",
    "| type | behavior |\n",
    "|------|----------|\n",
    "| required | positional, must be present or error, e.g. `my_func(first_name, last_name)` |\n",
    "| keyword | position independent, e.g. `my_func(first_name, last_name)` can be called `my_func(first_name='Dave', last_name='Beck')` or `my_func(last_name='Beck', first_name='Dave')` |\n",
    "| default | keyword params that default to a value if not provided |\n"
   ]
  },
  {
   "cell_type": "code",
   "execution_count": null,
   "metadata": {
    "id": "9ZfYaJg4orkp"
   },
   "outputs": [],
   "source": [
    "\n",
    "my_func(\"Beck\", \"Dave\")"
   ]
  },
  {
   "cell_type": "markdown",
   "metadata": {
    "id": "I84rZUFEmEwQ"
   },
   "source": [
    "```\n",
    "def print_name(first, last='the C-Hacker'):\n",
    "    print(f'Your name is {first} {last}')\n",
    "    return\n",
    "```"
   ]
  },
  {
   "cell_type": "code",
   "execution_count": null,
   "metadata": {
    "id": "JQgD2bXzmEwQ"
   },
   "outputs": [],
   "source": [
    "def print_name(first, middle='', last='the C-Hacker'):\n",
    "    \"\"\"\n",
    "    The last name default is a fun joke, HA HA!\n",
    "    \"\"\"\n",
    "    print(f'Your name is {first} {middle} {last}')\n",
    "    return"
   ]
  },
  {
   "cell_type": "code",
   "execution_count": null,
   "metadata": {
    "colab": {
     "base_uri": "https://localhost:8080/"
    },
    "executionInfo": {
     "elapsed": 309,
     "status": "ok",
     "timestamp": 1609986422885,
     "user": {
      "displayName": "David A. C. Beck",
      "photoUrl": "https://lh3.googleusercontent.com/a-/AOh14Gj0iGiFYbZdgtc6mx7XFYHkDly4A5-rGHh-mcN4=s64",
      "userId": "12214785840310827834"
     },
     "user_tz": 480
    },
    "id": "uVAd6Q8lpJxQ",
    "outputId": "4c378ca9-e9a7-40b6-bbee-c29523fdd6c3"
   },
   "outputs": [
    {
     "name": "stdout",
     "output_type": "stream",
     "text": [
      "Your name is Dave Danger Beck\n"
     ]
    }
   ],
   "source": [
    "print_name(\"Dave\", last=\"Beck\", middle=\"Danger\")"
   ]
  },
  {
   "cell_type": "markdown",
   "metadata": {
    "id": "Q9XRruofmEwQ"
   },
   "source": [
    "Play around with the above function."
   ]
  },
  {
   "cell_type": "code",
   "execution_count": null,
   "metadata": {
    "colab": {
     "base_uri": "https://localhost:8080/"
    },
    "executionInfo": {
     "elapsed": 321,
     "status": "ok",
     "timestamp": 1609986443535,
     "user": {
      "displayName": "David A. C. Beck",
      "photoUrl": "https://lh3.googleusercontent.com/a-/AOh14Gj0iGiFYbZdgtc6mx7XFYHkDly4A5-rGHh-mcN4=s64",
      "userId": "12214785840310827834"
     },
     "user_tz": 480
    },
    "id": "9SHINcbdmEwR",
    "outputId": "ed7e0c45-b980-4c21-ec3a-703e9e454705"
   },
   "outputs": [
    {
     "name": "stdout",
     "output_type": "stream",
     "text": [
      "Your name is Dave  his Data Science Majesty\n"
     ]
    }
   ],
   "source": [
    "print_name('Dave', last='his Data Science Majesty')"
   ]
  },
  {
   "cell_type": "code",
   "execution_count": null,
   "metadata": {
    "colab": {
     "base_uri": "https://localhost:8080/"
    },
    "executionInfo": {
     "elapsed": 331,
     "status": "ok",
     "timestamp": 1609986175793,
     "user": {
      "displayName": "David A. C. Beck",
      "photoUrl": "https://lh3.googleusercontent.com/a-/AOh14Gj0iGiFYbZdgtc6mx7XFYHkDly4A5-rGHh-mcN4=s64",
      "userId": "12214785840310827834"
     },
     "user_tz": 480
    },
    "id": "WjMxUNuAp1Zn",
    "outputId": "c3c75da3-61d0-45d7-b5e2-0154f132b067"
   },
   "outputs": [
    {
     "data": {
      "text/plain": [
       "3"
      ]
     },
     "execution_count": 31,
     "metadata": {
      "tags": []
     },
     "output_type": "execute_result"
    }
   ],
   "source": [
    "3"
   ]
  },
  {
   "cell_type": "markdown",
   "metadata": {
    "id": "stuB_0h8mEwR"
   },
   "source": [
    "**DETOUR** into string formatting.  In the function `print_name` you may have noticed the `f` in front of the `\"` quotation mark at the begining of the string. This is a special thing called an **f-string**.  Details on them, including how they are used and how they differ from other ways of embedding the value of string variables in new string is [here](https://realpython.com/python-f-strings/).  They are a relatively new language addition (Python >= 3.6), but they are the bees knees.\n",
    "\n",
    "Put simply, when you put an `f` in front of the first quotation mark of a string (it can be `\"` or `'`), the curly braces `{` and `}` can be used to enclose a variable name.  The value of that variable name when the **f-string** is evaluated will be substituted into the location of the curly braces.  Neat, right!\n",
    "\n",
    "Some more examples:\n",
    "\n",
    "```\n",
    "my_favorite_number = 42\n",
    "print(f\"My favorite number is {my_favorite_number}.\")\n",
    "print(f\"My favorite number times 2 is {my_favorite_number*2}.\")\n",
    "\n",
    "my_favorite_animal = \"liger\"\n",
    "print(f\"My favorite animal is a {my_favorite_animal}.\")\n",
    "print(f\"What is a {my_favorite_animal} you ask?  It's pretty much my favorite animal. It's like a lion and a tiger mixed... bred for its skills in magic.\")\n",
    "```"
   ]
  },
  {
   "cell_type": "code",
   "execution_count": null,
   "metadata": {
    "id": "ICwO1kC0qXbC"
   },
   "outputs": [],
   "source": []
  },
  {
   "cell_type": "markdown",
   "metadata": {
    "id": "R2PtJozcmEwS"
   },
   "source": [
    "my_favorite_number = 42\n",
    "print(f\"My favorite number is {my_favorite_number}.\")\n",
    "print(f\"My favorite number times 2 is {my_favorite_number*2}.\")\n",
    "\n",
    "my_favorite_animal = \"liger\"\n",
    "print(f\"My favorite animal is a {my_favorite_animal}.\")\n",
    "print(f\"What is a {my_favorite_animal} you ask?  It's pretty much my favorite animal. It's like a lion and a tiger mixed... bred for its skills in magic.\")"
   ]
  },
  {
   "cell_type": "code",
   "execution_count": null,
   "metadata": {
    "colab": {
     "base_uri": "https://localhost:8080/"
    },
    "executionInfo": {
     "elapsed": 383,
     "status": "ok",
     "timestamp": 1609986272614,
     "user": {
      "displayName": "David A. C. Beck",
      "photoUrl": "https://lh3.googleusercontent.com/a-/AOh14Gj0iGiFYbZdgtc6mx7XFYHkDly4A5-rGHh-mcN4=s64",
      "userId": "12214785840310827834"
     },
     "user_tz": 480
    },
    "id": "vhcDd68OqMoO",
    "outputId": "7a0f238f-614f-46df-e883-f3cf98600dcf"
   },
   "outputs": [
    {
     "name": "stdout",
     "output_type": "stream",
     "text": [
      "My favorite number is 42.\n",
      "My favorite number times 2 is 84.\n",
      "My favorite animal is a liger.\n",
      "What is a liger you ask?  It's pretty much my favorite animal. It's like a lion and a tiger mixed... bred for its skills in magic.\n"
     ]
    }
   ],
   "source": [
    "my_favorite_number = 42\n",
    "print(f\"My favorite number is {my_favorite_number}.\")\n",
    "print(f\"My favorite number times 2 is {my_favorite_number*2}.\")\n",
    " \n",
    "my_favorite_animal = \"liger\"\n",
    "print(f\"My favorite animal is a {my_favorite_animal}.\")\n",
    "print(f\"What is a {my_favorite_animal} you ask?  It's pretty much my favorite animal. It's like a lion and a tiger mixed... bred for its skills in magic.\")"
   ]
  },
  {
   "cell_type": "markdown",
   "metadata": {
    "id": "dNr3RxCqmEwS"
   },
   "source": [
    "**END DETOUR!**"
   ]
  },
  {
   "cell_type": "markdown",
   "metadata": {
    "id": "rOjgpTm_mEwS"
   },
   "source": [
    "Functions can contain any code that you put anywhere else including:\n",
    "* if...elif...else\n",
    "* for...else\n",
    "* while\n",
    "* other function calls"
   ]
  },
  {
   "cell_type": "markdown",
   "metadata": {
    "id": "f46sVhpqmEwS"
   },
   "source": [
    "```\n",
    "def print_name_age(first, last, age):\n",
    "    print_name(first, last)\n",
    "    print('Your age is %d' % (age))\n",
    "    if age > 35:\n",
    "        print('You are really old.')\n",
    "    return\n",
    "```\n"
   ]
  },
  {
   "cell_type": "code",
   "execution_count": null,
   "metadata": {
    "id": "OzmMcHH6mEwT"
   },
   "outputs": [],
   "source": [
    "def print_name_age(first, last, age):\n",
    "    \"\"\"\n",
    "    prints a your name and age\n",
    "    \"\"\"\n",
    "    print_name(first, last)\n",
    "    print(f'Your age is {age}')\n",
    "    if age > 35:\n",
    "        print('You are really old.')\n",
    "    return"
   ]
  },
  {
   "cell_type": "markdown",
   "metadata": {
    "id": "dLmPKzcUmEwT"
   },
   "source": [
    "```\n",
    "print_name_age(age=46, last='Beck', first='Dave')\n",
    "```"
   ]
  },
  {
   "cell_type": "code",
   "execution_count": null,
   "metadata": {
    "colab": {
     "base_uri": "https://localhost:8080/"
    },
    "executionInfo": {
     "elapsed": 339,
     "status": "ok",
     "timestamp": 1609986637563,
     "user": {
      "displayName": "David A. C. Beck",
      "photoUrl": "https://lh3.googleusercontent.com/a-/AOh14Gj0iGiFYbZdgtc6mx7XFYHkDly4A5-rGHh-mcN4=s64",
      "userId": "12214785840310827834"
     },
     "user_tz": 480
    },
    "id": "Wq09tHu_rb99",
    "outputId": "96fb0c68-8c9c-4469-e7c5-84576e36cea2"
   },
   "outputs": [
    {
     "name": "stdout",
     "output_type": "stream",
     "text": [
      "Your name is Dave Beck the C-Hacker\n",
      "Your age is 46\n",
      "You are really old.\n"
     ]
    }
   ],
   "source": [
    "print_name_age(age=46, last='Beck', first='Dave')"
   ]
  },
  {
   "cell_type": "code",
   "execution_count": null,
   "metadata": {
    "colab": {
     "base_uri": "https://localhost:8080/"
    },
    "executionInfo": {
     "elapsed": 367,
     "status": "ok",
     "timestamp": 1609986575592,
     "user": {
      "displayName": "David A. C. Beck",
      "photoUrl": "https://lh3.googleusercontent.com/a-/AOh14Gj0iGiFYbZdgtc6mx7XFYHkDly4A5-rGHh-mcN4=s64",
      "userId": "12214785840310827834"
     },
     "user_tz": 480
    },
    "id": "vnE1REormEwT",
    "outputId": "917caca9-681e-49a4-8b0e-a434a13bd9f0"
   },
   "outputs": [
    {
     "name": "stdout",
     "output_type": "stream",
     "text": [
      "Your name is Dave Beck the C-Hacker\n",
      "Your age is 46\n",
      "You are really old.\n"
     ]
    }
   ],
   "source": [
    "print_name_age()"
   ]
  },
  {
   "cell_type": "markdown",
   "metadata": {
    "id": "G09LKuSUmEwT"
   },
   "source": [
    "## 3.3 Pandas and the Scientific Python Toolkit\n",
    "\n",
    "In addition to Python's built-in modules like the ``math`` module we explored above, there are also many often-used third-party modules that are core tools for doing data science with Python.\n",
    "Some of the most important ones are:\n",
    "\n",
    "#### [``numpy``](http://numpy.org/): Numerical Python\n",
    "\n",
    "Numpy is short for \"Numerical Python\", and contains tools for efficient manipulation of arrays of data.\n",
    "If you have used other computational tools like IDL or MatLab, Numpy should feel very familiar.\n",
    "\n",
    "#### [``scipy``](http://scipy.org/): Scientific Python\n",
    "\n",
    "Scipy is short for \"Scientific Python\", and contains a wide range of functionality for accomplishing common scientific tasks, such as optimization/minimization, numerical integration, interpolation, and much more.\n",
    "We will not look closely at Scipy today, but we will use its functionality later in the course.\n",
    "\n",
    "#### [``pandas``](http://pandas.pydata.org/): Labeled Data Manipulation in Python\n",
    "\n",
    "Pandas is short for \"Panel Data\", and contains tools for doing more advanced manipulation of labeled data in Python, in particular with a columnar data structure called a *Data Frame*.\n",
    "If you've used the [R](http://rstats.org) statistical language (and in particular the so-called \"Hadley Stack\"), much of the functionality in Pandas should feel very familiar.\n",
    "\n",
    "#### [``matplotlib``](http://matplotlib.org): Visualization in Python\n",
    "\n",
    "Matplotlib started out as a Matlab plotting clone in Python, and has grown from there in the 15 years since its creation. It is the most popular data visualization tool currently in the Python data world (though other recent packages are starting to encroach on its monopoly)."
   ]
  },
  {
   "cell_type": "markdown",
   "metadata": {
    "id": "FIZmkcp3mEwU"
   },
   "source": [
    "### 3.3.1 Pandas\n",
    "\n",
    "We begin by loading the Panda's package.  Packages are collections of functions that share a common utility.  We've seen `import` before.  Let's use it to import Pandas and all the richness that pandas has."
   ]
  },
  {
   "cell_type": "markdown",
   "metadata": {
    "id": "Ya3oama_mEwU"
   },
   "source": [
    "```\n",
    "import pandas\n",
    "from sklearn.datasets import load_boston\n",
    "```"
   ]
  },
  {
   "cell_type": "code",
   "execution_count": null,
   "metadata": {
    "id": "NF9liBPamEwU"
   },
   "outputs": [],
   "source": [
    "import pandas\n",
    "from sklearn.datasets import load_boston"
   ]
  },
  {
   "cell_type": "markdown",
   "metadata": {
    "id": "xXz5yrM6mEwU"
   },
   "source": [
    "We import a function `_load_boston` that loads a simple data set we can play with called the Boston house price data from the late 1970s.\n",
    "\n",
    "```\n",
    "dataset = load_boston()\n",
    "print(dataset.DESCR)\n",
    "```"
   ]
  },
  {
   "cell_type": "code",
   "execution_count": null,
   "metadata": {
    "colab": {
     "base_uri": "https://localhost:8080/"
    },
    "executionInfo": {
     "elapsed": 358,
     "status": "ok",
     "timestamp": 1609987244100,
     "user": {
      "displayName": "David A. C. Beck",
      "photoUrl": "https://lh3.googleusercontent.com/a-/AOh14Gj0iGiFYbZdgtc6mx7XFYHkDly4A5-rGHh-mcN4=s64",
      "userId": "12214785840310827834"
     },
     "user_tz": 480
    },
    "id": "fhqYglWrmEwV",
    "outputId": "41b17501-21d0-4395-aea4-5372d3909929"
   },
   "outputs": [
    {
     "name": "stdout",
     "output_type": "stream",
     "text": [
      ".. _boston_dataset:\n",
      "\n",
      "Boston house prices dataset\n",
      "---------------------------\n",
      "\n",
      "**Data Set Characteristics:**  \n",
      "\n",
      "    :Number of Instances: 506 \n",
      "\n",
      "    :Number of Attributes: 13 numeric/categorical predictive. Median Value (attribute 14) is usually the target.\n",
      "\n",
      "    :Attribute Information (in order):\n",
      "        - CRIM     per capita crime rate by town\n",
      "        - ZN       proportion of residential land zoned for lots over 25,000 sq.ft.\n",
      "        - INDUS    proportion of non-retail business acres per town\n",
      "        - CHAS     Charles River dummy variable (= 1 if tract bounds river; 0 otherwise)\n",
      "        - NOX      nitric oxides concentration (parts per 10 million)\n",
      "        - RM       average number of rooms per dwelling\n",
      "        - AGE      proportion of owner-occupied units built prior to 1940\n",
      "        - DIS      weighted distances to five Boston employment centres\n",
      "        - RAD      index of accessibility to radial highways\n",
      "        - TAX      full-value property-tax rate per $10,000\n",
      "        - PTRATIO  pupil-teacher ratio by town\n",
      "        - B        1000(Bk - 0.63)^2 where Bk is the proportion of blacks by town\n",
      "        - LSTAT    % lower status of the population\n",
      "        - MEDV     Median value of owner-occupied homes in $1000's\n",
      "\n",
      "    :Missing Attribute Values: None\n",
      "\n",
      "    :Creator: Harrison, D. and Rubinfeld, D.L.\n",
      "\n",
      "This is a copy of UCI ML housing dataset.\n",
      "https://archive.ics.uci.edu/ml/machine-learning-databases/housing/\n",
      "\n",
      "\n",
      "This dataset was taken from the StatLib library which is maintained at Carnegie Mellon University.\n",
      "\n",
      "The Boston house-price data of Harrison, D. and Rubinfeld, D.L. 'Hedonic\n",
      "prices and the demand for clean air', J. Environ. Economics & Management,\n",
      "vol.5, 81-102, 1978.   Used in Belsley, Kuh & Welsch, 'Regression diagnostics\n",
      "...', Wiley, 1980.   N.B. Various transformations are used in the table on\n",
      "pages 244-261 of the latter.\n",
      "\n",
      "The Boston house-price data has been used in many machine learning papers that address regression\n",
      "problems.   \n",
      "     \n",
      ".. topic:: References\n",
      "\n",
      "   - Belsley, Kuh & Welsch, 'Regression diagnostics: Identifying Influential Data and Sources of Collinearity', Wiley, 1980. 244-261.\n",
      "   - Quinlan,R. (1993). Combining Instance-Based and Model-Based Learning. In Proceedings on the Tenth International Conference of Machine Learning, 236-243, University of Massachusetts, Amherst. Morgan Kaufmann.\n",
      "\n"
     ]
    }
   ],
   "source": [
    "dataset = load_boston()\n",
    "print(dataset.DESCR)"
   ]
  },
  {
   "cell_type": "markdown",
   "metadata": {
    "id": "rjARItJxmEwV"
   },
   "source": [
    "```\n",
    "df = pandas.DataFrame()\n",
    "```"
   ]
  },
  {
   "cell_type": "code",
   "execution_count": null,
   "metadata": {
    "id": "IXAsfI7pmEwW"
   },
   "outputs": [],
   "source": [
    "df = pandas.DataFrame()"
   ]
  },
  {
   "cell_type": "code",
   "execution_count": null,
   "metadata": {
    "colab": {
     "base_uri": "https://localhost:8080/",
     "height": 52
    },
    "executionInfo": {
     "elapsed": 394,
     "status": "ok",
     "timestamp": 1609987450146,
     "user": {
      "displayName": "David A. C. Beck",
      "photoUrl": "https://lh3.googleusercontent.com/a-/AOh14Gj0iGiFYbZdgtc6mx7XFYHkDly4A5-rGHh-mcN4=s64",
      "userId": "12214785840310827834"
     },
     "user_tz": 480
    },
    "id": "wlJXFnpPutJ6",
    "outputId": "de30d6ca-4d4e-4604-c53c-3e39161bba62"
   },
   "outputs": [
    {
     "data": {
      "text/html": [
       "<div>\n",
       "<style scoped>\n",
       "    .dataframe tbody tr th:only-of-type {\n",
       "        vertical-align: middle;\n",
       "    }\n",
       "\n",
       "    .dataframe tbody tr th {\n",
       "        vertical-align: top;\n",
       "    }\n",
       "\n",
       "    .dataframe thead th {\n",
       "        text-align: right;\n",
       "    }\n",
       "</style>\n",
       "<table border=\"1\" class=\"dataframe\">\n",
       "  <thead>\n",
       "    <tr style=\"text-align: right;\">\n",
       "      <th></th>\n",
       "    </tr>\n",
       "  </thead>\n",
       "  <tbody>\n",
       "  </tbody>\n",
       "</table>\n",
       "</div>"
      ],
      "text/plain": [
       "Empty DataFrame\n",
       "Columns: []\n",
       "Index: []"
      ]
     },
     "execution_count": 46,
     "metadata": {
      "tags": []
     },
     "output_type": "execute_result"
    }
   ],
   "source": [
    "df"
   ]
  },
  {
   "cell_type": "markdown",
   "metadata": {
    "id": "_K-Q09p4mEwW"
   },
   "source": [
    "Because we'll use it so much, we often import under a shortened name using the ``import ... as ...`` pattern:"
   ]
  },
  {
   "cell_type": "markdown",
   "metadata": {
    "id": "SwBOGnaOmEwW"
   },
   "source": [
    "```\n",
    "import pandas as pd\n",
    "```"
   ]
  },
  {
   "cell_type": "code",
   "execution_count": null,
   "metadata": {
    "id": "ukNL261SmEwW"
   },
   "outputs": [],
   "source": [
    "import pandas as pd"
   ]
  },
  {
   "cell_type": "markdown",
   "metadata": {
    "id": "ZS2LPhPFmEwW"
   },
   "source": [
    "Let's create an empty _data frame_ and put the result into a variable called `df`.  This is a popular choice for a _data frame_ variable name."
   ]
  },
  {
   "cell_type": "markdown",
   "metadata": {
    "id": "wV1wb-CvmEwX"
   },
   "source": [
    "```\n",
    "df = pd.DataFrame()\n",
    "```"
   ]
  },
  {
   "cell_type": "code",
   "execution_count": null,
   "metadata": {
    "id": "tbUXmkAbmEwX"
   },
   "outputs": [],
   "source": [
    "df = pd.DataFrame()"
   ]
  },
  {
   "cell_type": "markdown",
   "metadata": {
    "id": "GjGOBqRYmEwX"
   },
   "source": [
    "Let's open the Boston Housing data as a pandas data frame.  Notice we change the value of the `df` variable to point to a new data frame.\n",
    "\n",
    "```\n",
    "df = pd.DataFrame(dataset.data, columns=dataset.feature_names)\n",
    "```"
   ]
  },
  {
   "cell_type": "code",
   "execution_count": null,
   "metadata": {
    "id": "s_78KiRKvLnG"
   },
   "outputs": [],
   "source": []
  },
  {
   "cell_type": "code",
   "execution_count": null,
   "metadata": {
    "colab": {
     "base_uri": "https://localhost:8080/"
    },
    "executionInfo": {
     "elapsed": 327,
     "status": "ok",
     "timestamp": 1609987852668,
     "user": {
      "displayName": "David A. C. Beck",
      "photoUrl": "https://lh3.googleusercontent.com/a-/AOh14Gj0iGiFYbZdgtc6mx7XFYHkDly4A5-rGHh-mcN4=s64",
      "userId": "12214785840310827834"
     },
     "user_tz": 480
    },
    "id": "WRHPKYHvwDNI",
    "outputId": "7895b140-c6da-4eba-96e2-f89e0d4385f8"
   },
   "outputs": [
    {
     "data": {
      "text/plain": [
       "['CRIM',\n",
       " 'ZN',\n",
       " 'INDUS',\n",
       " 'CHAS',\n",
       " 'NOX',\n",
       " 'RM',\n",
       " 'AGE',\n",
       " 'DIS',\n",
       " 'RAD',\n",
       " 'TAX',\n",
       " 'PTRATIO',\n",
       " 'B',\n",
       " 'LSTAT']"
      ]
     },
     "execution_count": 55,
     "metadata": {
      "tags": []
     },
     "output_type": "execute_result"
    }
   ],
   "source": [
    "\n",
    "list(dataset.feature_names)"
   ]
  },
  {
   "cell_type": "code",
   "execution_count": null,
   "metadata": {
    "id": "ZlAwdVigmEwY"
   },
   "outputs": [],
   "source": [
    "df = pd.DataFrame(dataset.data, columns=dataset.feature_names)"
   ]
  },
  {
   "cell_type": "markdown",
   "metadata": {
    "id": "YTCzeKNZmEwY"
   },
   "source": [
    "*Note: strings in Python can be defined either with double quotes or single quotes*"
   ]
  },
  {
   "cell_type": "markdown",
   "metadata": {
    "id": "jyXzgg0xmEwY"
   },
   "source": [
    "### 3.3.2 Viewing Pandas Dataframes"
   ]
  },
  {
   "cell_type": "markdown",
   "metadata": {
    "id": "-1qy_-BGmEwY"
   },
   "source": [
    "The ``head()`` and ``tail()`` methods show us the first and last rows of the data.\n",
    "\n",
    "```\n",
    "df.head()\n",
    "df.tail()\n",
    "```"
   ]
  },
  {
   "cell_type": "code",
   "execution_count": null,
   "metadata": {
    "colab": {
     "base_uri": "https://localhost:8080/",
     "height": 228
    },
    "executionInfo": {
     "elapsed": 374,
     "status": "ok",
     "timestamp": 1609987618184,
     "user": {
      "displayName": "David A. C. Beck",
      "photoUrl": "https://lh3.googleusercontent.com/a-/AOh14Gj0iGiFYbZdgtc6mx7XFYHkDly4A5-rGHh-mcN4=s64",
      "userId": "12214785840310827834"
     },
     "user_tz": 480
    },
    "id": "HZdRygrDmEwY",
    "outputId": "37b4d027-8ebb-4240-f21a-8b7ed4a20399"
   },
   "outputs": [
    {
     "data": {
      "text/html": [
       "<div>\n",
       "<style scoped>\n",
       "    .dataframe tbody tr th:only-of-type {\n",
       "        vertical-align: middle;\n",
       "    }\n",
       "\n",
       "    .dataframe tbody tr th {\n",
       "        vertical-align: top;\n",
       "    }\n",
       "\n",
       "    .dataframe thead th {\n",
       "        text-align: right;\n",
       "    }\n",
       "</style>\n",
       "<table border=\"1\" class=\"dataframe\">\n",
       "  <thead>\n",
       "    <tr style=\"text-align: right;\">\n",
       "      <th></th>\n",
       "      <th>CRIM</th>\n",
       "      <th>ZN</th>\n",
       "      <th>INDUS</th>\n",
       "      <th>CHAS</th>\n",
       "      <th>NOX</th>\n",
       "      <th>RM</th>\n",
       "      <th>AGE</th>\n",
       "      <th>DIS</th>\n",
       "      <th>RAD</th>\n",
       "      <th>TAX</th>\n",
       "      <th>PTRATIO</th>\n",
       "      <th>B</th>\n",
       "      <th>LSTAT</th>\n",
       "    </tr>\n",
       "  </thead>\n",
       "  <tbody>\n",
       "    <tr>\n",
       "      <th>0</th>\n",
       "      <td>0.00632</td>\n",
       "      <td>18.0</td>\n",
       "      <td>2.31</td>\n",
       "      <td>0.0</td>\n",
       "      <td>0.538</td>\n",
       "      <td>6.575</td>\n",
       "      <td>65.2</td>\n",
       "      <td>4.0900</td>\n",
       "      <td>1.0</td>\n",
       "      <td>296.0</td>\n",
       "      <td>15.3</td>\n",
       "      <td>396.90</td>\n",
       "      <td>4.98</td>\n",
       "    </tr>\n",
       "    <tr>\n",
       "      <th>1</th>\n",
       "      <td>0.02731</td>\n",
       "      <td>0.0</td>\n",
       "      <td>7.07</td>\n",
       "      <td>0.0</td>\n",
       "      <td>0.469</td>\n",
       "      <td>6.421</td>\n",
       "      <td>78.9</td>\n",
       "      <td>4.9671</td>\n",
       "      <td>2.0</td>\n",
       "      <td>242.0</td>\n",
       "      <td>17.8</td>\n",
       "      <td>396.90</td>\n",
       "      <td>9.14</td>\n",
       "    </tr>\n",
       "    <tr>\n",
       "      <th>2</th>\n",
       "      <td>0.02729</td>\n",
       "      <td>0.0</td>\n",
       "      <td>7.07</td>\n",
       "      <td>0.0</td>\n",
       "      <td>0.469</td>\n",
       "      <td>7.185</td>\n",
       "      <td>61.1</td>\n",
       "      <td>4.9671</td>\n",
       "      <td>2.0</td>\n",
       "      <td>242.0</td>\n",
       "      <td>17.8</td>\n",
       "      <td>392.83</td>\n",
       "      <td>4.03</td>\n",
       "    </tr>\n",
       "    <tr>\n",
       "      <th>3</th>\n",
       "      <td>0.03237</td>\n",
       "      <td>0.0</td>\n",
       "      <td>2.18</td>\n",
       "      <td>0.0</td>\n",
       "      <td>0.458</td>\n",
       "      <td>6.998</td>\n",
       "      <td>45.8</td>\n",
       "      <td>6.0622</td>\n",
       "      <td>3.0</td>\n",
       "      <td>222.0</td>\n",
       "      <td>18.7</td>\n",
       "      <td>394.63</td>\n",
       "      <td>2.94</td>\n",
       "    </tr>\n",
       "    <tr>\n",
       "      <th>4</th>\n",
       "      <td>0.06905</td>\n",
       "      <td>0.0</td>\n",
       "      <td>2.18</td>\n",
       "      <td>0.0</td>\n",
       "      <td>0.458</td>\n",
       "      <td>7.147</td>\n",
       "      <td>54.2</td>\n",
       "      <td>6.0622</td>\n",
       "      <td>3.0</td>\n",
       "      <td>222.0</td>\n",
       "      <td>18.7</td>\n",
       "      <td>396.90</td>\n",
       "      <td>5.33</td>\n",
       "    </tr>\n",
       "  </tbody>\n",
       "</table>\n",
       "</div>"
      ],
      "text/plain": [
       "      CRIM    ZN  INDUS  CHAS    NOX  ...  RAD    TAX  PTRATIO       B  LSTAT\n",
       "0  0.00632  18.0   2.31   0.0  0.538  ...  1.0  296.0     15.3  396.90   4.98\n",
       "1  0.02731   0.0   7.07   0.0  0.469  ...  2.0  242.0     17.8  396.90   9.14\n",
       "2  0.02729   0.0   7.07   0.0  0.469  ...  2.0  242.0     17.8  392.83   4.03\n",
       "3  0.03237   0.0   2.18   0.0  0.458  ...  3.0  222.0     18.7  394.63   2.94\n",
       "4  0.06905   0.0   2.18   0.0  0.458  ...  3.0  222.0     18.7  396.90   5.33\n",
       "\n",
       "[5 rows x 13 columns]"
      ]
     },
     "execution_count": 50,
     "metadata": {
      "tags": []
     },
     "output_type": "execute_result"
    }
   ],
   "source": [
    "df.head()"
   ]
  },
  {
   "cell_type": "code",
   "execution_count": null,
   "metadata": {
    "colab": {
     "base_uri": "https://localhost:8080/",
     "height": 228
    },
    "executionInfo": {
     "elapsed": 334,
     "status": "ok",
     "timestamp": 1609987666403,
     "user": {
      "displayName": "David A. C. Beck",
      "photoUrl": "https://lh3.googleusercontent.com/a-/AOh14Gj0iGiFYbZdgtc6mx7XFYHkDly4A5-rGHh-mcN4=s64",
      "userId": "12214785840310827834"
     },
     "user_tz": 480
    },
    "id": "zAQkYnt0mEwZ",
    "outputId": "5fcb8609-eec9-49f4-c6be-a56d5dd03853"
   },
   "outputs": [
    {
     "data": {
      "text/html": [
       "<div>\n",
       "<style scoped>\n",
       "    .dataframe tbody tr th:only-of-type {\n",
       "        vertical-align: middle;\n",
       "    }\n",
       "\n",
       "    .dataframe tbody tr th {\n",
       "        vertical-align: top;\n",
       "    }\n",
       "\n",
       "    .dataframe thead th {\n",
       "        text-align: right;\n",
       "    }\n",
       "</style>\n",
       "<table border=\"1\" class=\"dataframe\">\n",
       "  <thead>\n",
       "    <tr style=\"text-align: right;\">\n",
       "      <th></th>\n",
       "      <th>CRIM</th>\n",
       "      <th>ZN</th>\n",
       "      <th>INDUS</th>\n",
       "      <th>CHAS</th>\n",
       "      <th>NOX</th>\n",
       "      <th>RM</th>\n",
       "      <th>AGE</th>\n",
       "      <th>DIS</th>\n",
       "      <th>RAD</th>\n",
       "      <th>TAX</th>\n",
       "      <th>PTRATIO</th>\n",
       "      <th>B</th>\n",
       "      <th>LSTAT</th>\n",
       "    </tr>\n",
       "  </thead>\n",
       "  <tbody>\n",
       "    <tr>\n",
       "      <th>501</th>\n",
       "      <td>0.06263</td>\n",
       "      <td>0.0</td>\n",
       "      <td>11.93</td>\n",
       "      <td>0.0</td>\n",
       "      <td>0.573</td>\n",
       "      <td>6.593</td>\n",
       "      <td>69.1</td>\n",
       "      <td>2.4786</td>\n",
       "      <td>1.0</td>\n",
       "      <td>273.0</td>\n",
       "      <td>21.0</td>\n",
       "      <td>391.99</td>\n",
       "      <td>9.67</td>\n",
       "    </tr>\n",
       "    <tr>\n",
       "      <th>502</th>\n",
       "      <td>0.04527</td>\n",
       "      <td>0.0</td>\n",
       "      <td>11.93</td>\n",
       "      <td>0.0</td>\n",
       "      <td>0.573</td>\n",
       "      <td>6.120</td>\n",
       "      <td>76.7</td>\n",
       "      <td>2.2875</td>\n",
       "      <td>1.0</td>\n",
       "      <td>273.0</td>\n",
       "      <td>21.0</td>\n",
       "      <td>396.90</td>\n",
       "      <td>9.08</td>\n",
       "    </tr>\n",
       "    <tr>\n",
       "      <th>503</th>\n",
       "      <td>0.06076</td>\n",
       "      <td>0.0</td>\n",
       "      <td>11.93</td>\n",
       "      <td>0.0</td>\n",
       "      <td>0.573</td>\n",
       "      <td>6.976</td>\n",
       "      <td>91.0</td>\n",
       "      <td>2.1675</td>\n",
       "      <td>1.0</td>\n",
       "      <td>273.0</td>\n",
       "      <td>21.0</td>\n",
       "      <td>396.90</td>\n",
       "      <td>5.64</td>\n",
       "    </tr>\n",
       "    <tr>\n",
       "      <th>504</th>\n",
       "      <td>0.10959</td>\n",
       "      <td>0.0</td>\n",
       "      <td>11.93</td>\n",
       "      <td>0.0</td>\n",
       "      <td>0.573</td>\n",
       "      <td>6.794</td>\n",
       "      <td>89.3</td>\n",
       "      <td>2.3889</td>\n",
       "      <td>1.0</td>\n",
       "      <td>273.0</td>\n",
       "      <td>21.0</td>\n",
       "      <td>393.45</td>\n",
       "      <td>6.48</td>\n",
       "    </tr>\n",
       "    <tr>\n",
       "      <th>505</th>\n",
       "      <td>0.04741</td>\n",
       "      <td>0.0</td>\n",
       "      <td>11.93</td>\n",
       "      <td>0.0</td>\n",
       "      <td>0.573</td>\n",
       "      <td>6.030</td>\n",
       "      <td>80.8</td>\n",
       "      <td>2.5050</td>\n",
       "      <td>1.0</td>\n",
       "      <td>273.0</td>\n",
       "      <td>21.0</td>\n",
       "      <td>396.90</td>\n",
       "      <td>7.88</td>\n",
       "    </tr>\n",
       "  </tbody>\n",
       "</table>\n",
       "</div>"
      ],
      "text/plain": [
       "        CRIM   ZN  INDUS  CHAS    NOX  ...  RAD    TAX  PTRATIO       B  LSTAT\n",
       "501  0.06263  0.0  11.93   0.0  0.573  ...  1.0  273.0     21.0  391.99   9.67\n",
       "502  0.04527  0.0  11.93   0.0  0.573  ...  1.0  273.0     21.0  396.90   9.08\n",
       "503  0.06076  0.0  11.93   0.0  0.573  ...  1.0  273.0     21.0  396.90   5.64\n",
       "504  0.10959  0.0  11.93   0.0  0.573  ...  1.0  273.0     21.0  393.45   6.48\n",
       "505  0.04741  0.0  11.93   0.0  0.573  ...  1.0  273.0     21.0  396.90   7.88\n",
       "\n",
       "[5 rows x 13 columns]"
      ]
     },
     "execution_count": 51,
     "metadata": {
      "tags": []
     },
     "output_type": "execute_result"
    }
   ],
   "source": [
    "df.tail()"
   ]
  },
  {
   "cell_type": "markdown",
   "metadata": {
    "id": "gYasr1FZmEwZ"
   },
   "source": [
    "The ``shape`` attribute shows us the number of elements:\n",
    "\n",
    "```\n",
    "df.shape\n",
    "```\n",
    "\n",
    "Note it doesn't have the `()` because it isn't a **_function_** - it is an **_attribute_** or variable attached to the `df` object."
   ]
  },
  {
   "cell_type": "code",
   "execution_count": null,
   "metadata": {
    "colab": {
     "base_uri": "https://localhost:8080/"
    },
    "executionInfo": {
     "elapsed": 314,
     "status": "ok",
     "timestamp": 1609987883152,
     "user": {
      "displayName": "David A. C. Beck",
      "photoUrl": "https://lh3.googleusercontent.com/a-/AOh14Gj0iGiFYbZdgtc6mx7XFYHkDly4A5-rGHh-mcN4=s64",
      "userId": "12214785840310827834"
     },
     "user_tz": 480
    },
    "id": "qd7d1U1smEwZ",
    "outputId": "52b46e2d-b058-4f99-b0b0-8da5a58f649d"
   },
   "outputs": [
    {
     "data": {
      "text/plain": [
       "(506, 13)"
      ]
     },
     "execution_count": 56,
     "metadata": {
      "tags": []
     },
     "output_type": "execute_result"
    }
   ],
   "source": [
    "df.shape"
   ]
  },
  {
   "cell_type": "markdown",
   "metadata": {
    "id": "ITfTDeOAmEwZ"
   },
   "source": [
    "The ``columns`` attribute gives us the column names\n",
    "\n",
    "```\n",
    "df.columns\n",
    "```\n"
   ]
  },
  {
   "cell_type": "code",
   "execution_count": null,
   "metadata": {
    "colab": {
     "base_uri": "https://localhost:8080/"
    },
    "executionInfo": {
     "elapsed": 329,
     "status": "ok",
     "timestamp": 1609987914229,
     "user": {
      "displayName": "David A. C. Beck",
      "photoUrl": "https://lh3.googleusercontent.com/a-/AOh14Gj0iGiFYbZdgtc6mx7XFYHkDly4A5-rGHh-mcN4=s64",
      "userId": "12214785840310827834"
     },
     "user_tz": 480
    },
    "id": "xm-ghY-8mEwZ",
    "outputId": "bb45e16f-1e4a-4986-b226-f4e04d71bd91"
   },
   "outputs": [
    {
     "data": {
      "text/plain": [
       "Index(['CRIM', 'ZN', 'INDUS', 'CHAS', 'NOX', 'RM', 'AGE', 'DIS', 'RAD', 'TAX',\n",
       "       'PTRATIO', 'B', 'LSTAT'],\n",
       "      dtype='object')"
      ]
     },
     "execution_count": 59,
     "metadata": {
      "tags": []
     },
     "output_type": "execute_result"
    }
   ],
   "source": [
    "df.columns"
   ]
  },
  {
   "cell_type": "markdown",
   "metadata": {
    "id": "gStxuVSfmEwZ"
   },
   "source": [
    "The ``index`` attribute gives us the index names\n",
    "\n",
    "```\n",
    "df.index\n",
    "```"
   ]
  },
  {
   "cell_type": "code",
   "execution_count": null,
   "metadata": {
    "colab": {
     "base_uri": "https://localhost:8080/"
    },
    "executionInfo": {
     "elapsed": 322,
     "status": "ok",
     "timestamp": 1609987918840,
     "user": {
      "displayName": "David A. C. Beck",
      "photoUrl": "https://lh3.googleusercontent.com/a-/AOh14Gj0iGiFYbZdgtc6mx7XFYHkDly4A5-rGHh-mcN4=s64",
      "userId": "12214785840310827834"
     },
     "user_tz": 480
    },
    "id": "Ts4x4z0qmEwa",
    "outputId": "f703763f-b445-40d5-8fcd-4d9aea07a083"
   },
   "outputs": [
    {
     "data": {
      "text/plain": [
       "RangeIndex(start=0, stop=506, step=1)"
      ]
     },
     "execution_count": 60,
     "metadata": {
      "tags": []
     },
     "output_type": "execute_result"
    }
   ],
   "source": [
    "df.index"
   ]
  },
  {
   "cell_type": "markdown",
   "metadata": {
    "id": "kIUstagxmEwa"
   },
   "source": [
    "The ``dtypes`` attribute gives the data types of each column, remember the data type *_floating point_**?:"
   ]
  },
  {
   "cell_type": "markdown",
   "metadata": {
    "id": "ttu3dBc7mEwa"
   },
   "source": [
    "```\n",
    "df.dtypes\n",
    "```"
   ]
  },
  {
   "cell_type": "code",
   "execution_count": null,
   "metadata": {
    "colab": {
     "base_uri": "https://localhost:8080/"
    },
    "executionInfo": {
     "elapsed": 427,
     "status": "ok",
     "timestamp": 1609987953208,
     "user": {
      "displayName": "David A. C. Beck",
      "photoUrl": "https://lh3.googleusercontent.com/a-/AOh14Gj0iGiFYbZdgtc6mx7XFYHkDly4A5-rGHh-mcN4=s64",
      "userId": "12214785840310827834"
     },
     "user_tz": 480
    },
    "id": "anYyUDQlmEwa",
    "outputId": "3906b442-9543-4436-f84d-70404c8f0dc2"
   },
   "outputs": [
    {
     "data": {
      "text/plain": [
       "CRIM       float64\n",
       "ZN         float64\n",
       "INDUS      float64\n",
       "CHAS       float64\n",
       "NOX        float64\n",
       "RM         float64\n",
       "AGE        float64\n",
       "DIS        float64\n",
       "RAD        float64\n",
       "TAX        float64\n",
       "PTRATIO    float64\n",
       "B          float64\n",
       "LSTAT      float64\n",
       "dtype: object"
      ]
     },
     "execution_count": 61,
     "metadata": {
      "tags": []
     },
     "output_type": "execute_result"
    }
   ],
   "source": [
    "df.dtypes"
   ]
  },
  {
   "cell_type": "markdown",
   "metadata": {
    "id": "KYEvxKnfmEwa"
   },
   "source": [
    "### 3.3.3. Manipulating data with ``pandas``\n",
    "\n",
    "Here we'll cover some key features of manipulating data with pandas"
   ]
  },
  {
   "cell_type": "markdown",
   "metadata": {
    "id": "1wt9tZ9HmEwa"
   },
   "source": [
    "Access columns by name using square-bracket indexing:\n",
    "\n",
    "```\n",
    "df['CRIM']\n",
    "```"
   ]
  },
  {
   "cell_type": "code",
   "execution_count": null,
   "metadata": {
    "colab": {
     "base_uri": "https://localhost:8080/"
    },
    "executionInfo": {
     "elapsed": 354,
     "status": "ok",
     "timestamp": 1609988107149,
     "user": {
      "displayName": "David A. C. Beck",
      "photoUrl": "https://lh3.googleusercontent.com/a-/AOh14Gj0iGiFYbZdgtc6mx7XFYHkDly4A5-rGHh-mcN4=s64",
      "userId": "12214785840310827834"
     },
     "user_tz": 480
    },
    "id": "3jKvjzSSmEwa",
    "outputId": "481e517d-3ae5-4cd5-f3af-7e5defa074ce"
   },
   "outputs": [
    {
     "data": {
      "text/plain": [
       "0      0.00632\n",
       "1      0.02731\n",
       "2      0.02729\n",
       "3      0.03237\n",
       "4      0.06905\n",
       "        ...   \n",
       "501    0.06263\n",
       "502    0.04527\n",
       "503    0.06076\n",
       "504    0.10959\n",
       "505    0.04741\n",
       "Name: CRIM, Length: 506, dtype: float64"
      ]
     },
     "execution_count": 62,
     "metadata": {
      "tags": []
     },
     "output_type": "execute_result"
    }
   ],
   "source": [
    "df['CRIM']"
   ]
  },
  {
   "cell_type": "markdown",
   "metadata": {
    "id": "1DIS9WRHmEwa"
   },
   "source": [
    "Mathematical operations on columns happen *element-wise*:\n",
    "\n",
    "```\n",
    "df['CRIM'] * 100.\n",
    "```"
   ]
  },
  {
   "cell_type": "code",
   "execution_count": null,
   "metadata": {
    "colab": {
     "base_uri": "https://localhost:8080/"
    },
    "executionInfo": {
     "elapsed": 411,
     "status": "ok",
     "timestamp": 1609988169520,
     "user": {
      "displayName": "David A. C. Beck",
      "photoUrl": "https://lh3.googleusercontent.com/a-/AOh14Gj0iGiFYbZdgtc6mx7XFYHkDly4A5-rGHh-mcN4=s64",
      "userId": "12214785840310827834"
     },
     "user_tz": 480
    },
    "id": "rK2lQvZ0mEwb",
    "outputId": "254514d1-1087-4228-bf82-a2976d88a0ea"
   },
   "outputs": [
    {
     "data": {
      "text/plain": [
       "0       0.632\n",
       "1       2.731\n",
       "2       2.729\n",
       "3       3.237\n",
       "4       6.905\n",
       "        ...  \n",
       "501     6.263\n",
       "502     4.527\n",
       "503     6.076\n",
       "504    10.959\n",
       "505     4.741\n",
       "Name: CRIM, Length: 506, dtype: float64"
      ]
     },
     "execution_count": 65,
     "metadata": {
      "tags": []
     },
     "output_type": "execute_result"
    }
   ],
   "source": [
    "df['CRIM'] * 100."
   ]
  },
  {
   "cell_type": "markdown",
   "metadata": {
    "id": "xVYmjfNkmEwb"
   },
   "source": [
    "Columns can be created (or overwritten) with the assignment operator.\n",
    "Let's create a CRIME per 100 individuals column.\n",
    "\n",
    "```\n",
    "df['CRIM_per_100'] = df['CRIM'] * 100\n",
    "```"
   ]
  },
  {
   "cell_type": "code",
   "execution_count": null,
   "metadata": {
    "id": "Vp9HQFbgmEwb"
   },
   "outputs": [],
   "source": [
    "df['CRIM_per_100'] = df['CRIM'] * 100"
   ]
  },
  {
   "cell_type": "markdown",
   "metadata": {
    "id": "M3_bq9NSmEwb"
   },
   "source": [
    "Let's use the `.head()` **_function_** to see our new data!\n",
    "\n",
    "```\n",
    "df.head()\n",
    "```"
   ]
  },
  {
   "cell_type": "code",
   "execution_count": null,
   "metadata": {
    "colab": {
     "base_uri": "https://localhost:8080/",
     "height": 228
    },
    "executionInfo": {
     "elapsed": 336,
     "status": "ok",
     "timestamp": 1609988311569,
     "user": {
      "displayName": "David A. C. Beck",
      "photoUrl": "https://lh3.googleusercontent.com/a-/AOh14Gj0iGiFYbZdgtc6mx7XFYHkDly4A5-rGHh-mcN4=s64",
      "userId": "12214785840310827834"
     },
     "user_tz": 480
    },
    "id": "2lGmXOx2mEwb",
    "outputId": "c334cd6d-da49-4ab3-fd18-4a4a7d87e5d9"
   },
   "outputs": [
    {
     "data": {
      "text/html": [
       "<div>\n",
       "<style scoped>\n",
       "    .dataframe tbody tr th:only-of-type {\n",
       "        vertical-align: middle;\n",
       "    }\n",
       "\n",
       "    .dataframe tbody tr th {\n",
       "        vertical-align: top;\n",
       "    }\n",
       "\n",
       "    .dataframe thead th {\n",
       "        text-align: right;\n",
       "    }\n",
       "</style>\n",
       "<table border=\"1\" class=\"dataframe\">\n",
       "  <thead>\n",
       "    <tr style=\"text-align: right;\">\n",
       "      <th></th>\n",
       "      <th>CRIM</th>\n",
       "      <th>ZN</th>\n",
       "      <th>INDUS</th>\n",
       "      <th>CHAS</th>\n",
       "      <th>NOX</th>\n",
       "      <th>RM</th>\n",
       "      <th>AGE</th>\n",
       "      <th>DIS</th>\n",
       "      <th>RAD</th>\n",
       "      <th>TAX</th>\n",
       "      <th>PTRATIO</th>\n",
       "      <th>B</th>\n",
       "      <th>LSTAT</th>\n",
       "      <th>CRIM_per_100</th>\n",
       "    </tr>\n",
       "  </thead>\n",
       "  <tbody>\n",
       "    <tr>\n",
       "      <th>0</th>\n",
       "      <td>0.00632</td>\n",
       "      <td>18.0</td>\n",
       "      <td>2.31</td>\n",
       "      <td>0.0</td>\n",
       "      <td>0.538</td>\n",
       "      <td>6.575</td>\n",
       "      <td>65.2</td>\n",
       "      <td>4.0900</td>\n",
       "      <td>1.0</td>\n",
       "      <td>296.0</td>\n",
       "      <td>15.3</td>\n",
       "      <td>396.90</td>\n",
       "      <td>4.98</td>\n",
       "      <td>0.632</td>\n",
       "    </tr>\n",
       "    <tr>\n",
       "      <th>1</th>\n",
       "      <td>0.02731</td>\n",
       "      <td>0.0</td>\n",
       "      <td>7.07</td>\n",
       "      <td>0.0</td>\n",
       "      <td>0.469</td>\n",
       "      <td>6.421</td>\n",
       "      <td>78.9</td>\n",
       "      <td>4.9671</td>\n",
       "      <td>2.0</td>\n",
       "      <td>242.0</td>\n",
       "      <td>17.8</td>\n",
       "      <td>396.90</td>\n",
       "      <td>9.14</td>\n",
       "      <td>2.731</td>\n",
       "    </tr>\n",
       "    <tr>\n",
       "      <th>2</th>\n",
       "      <td>0.02729</td>\n",
       "      <td>0.0</td>\n",
       "      <td>7.07</td>\n",
       "      <td>0.0</td>\n",
       "      <td>0.469</td>\n",
       "      <td>7.185</td>\n",
       "      <td>61.1</td>\n",
       "      <td>4.9671</td>\n",
       "      <td>2.0</td>\n",
       "      <td>242.0</td>\n",
       "      <td>17.8</td>\n",
       "      <td>392.83</td>\n",
       "      <td>4.03</td>\n",
       "      <td>2.729</td>\n",
       "    </tr>\n",
       "    <tr>\n",
       "      <th>3</th>\n",
       "      <td>0.03237</td>\n",
       "      <td>0.0</td>\n",
       "      <td>2.18</td>\n",
       "      <td>0.0</td>\n",
       "      <td>0.458</td>\n",
       "      <td>6.998</td>\n",
       "      <td>45.8</td>\n",
       "      <td>6.0622</td>\n",
       "      <td>3.0</td>\n",
       "      <td>222.0</td>\n",
       "      <td>18.7</td>\n",
       "      <td>394.63</td>\n",
       "      <td>2.94</td>\n",
       "      <td>3.237</td>\n",
       "    </tr>\n",
       "    <tr>\n",
       "      <th>4</th>\n",
       "      <td>0.06905</td>\n",
       "      <td>0.0</td>\n",
       "      <td>2.18</td>\n",
       "      <td>0.0</td>\n",
       "      <td>0.458</td>\n",
       "      <td>7.147</td>\n",
       "      <td>54.2</td>\n",
       "      <td>6.0622</td>\n",
       "      <td>3.0</td>\n",
       "      <td>222.0</td>\n",
       "      <td>18.7</td>\n",
       "      <td>396.90</td>\n",
       "      <td>5.33</td>\n",
       "      <td>6.905</td>\n",
       "    </tr>\n",
       "  </tbody>\n",
       "</table>\n",
       "</div>"
      ],
      "text/plain": [
       "      CRIM    ZN  INDUS  CHAS  ...  PTRATIO       B  LSTAT  CRIM_per_100\n",
       "0  0.00632  18.0   2.31   0.0  ...     15.3  396.90   4.98         0.632\n",
       "1  0.02731   0.0   7.07   0.0  ...     17.8  396.90   9.14         2.731\n",
       "2  0.02729   0.0   7.07   0.0  ...     17.8  392.83   4.03         2.729\n",
       "3  0.03237   0.0   2.18   0.0  ...     18.7  394.63   2.94         3.237\n",
       "4  0.06905   0.0   2.18   0.0  ...     18.7  396.90   5.33         6.905\n",
       "\n",
       "[5 rows x 14 columns]"
      ]
     },
     "execution_count": 69,
     "metadata": {
      "tags": []
     },
     "output_type": "execute_result"
    }
   ],
   "source": [
    "df.head()"
   ]
  },
  {
   "cell_type": "markdown",
   "metadata": {
    "id": "V2ghv0XhmEwc"
   },
   "source": [
    "In preparation for grouping the data, let's bin the regions by their crime count. For that, we'll use ``pd.cut``.  The documentation for ``pd.cut`` can be found [here](https://pandas.pydata.org/pandas-docs/stable/reference/api/pandas.cut.html). It is used to bin values into discrete intervals.  This is like a histogram where for each *bin* along the range of data values, you count the number of occurrences of that bin.  in our example, we'll use 10 bins and let Pandas decide how to evenly divide the range into the bins.  Let's see it in action.\n",
    "\n",
    "```\n",
    "df['CRIM_group'] = pd.cut(df['CRIM'], 10)\n",
    "df.head()\n",
    "df.dtypes\n",
    "```"
   ]
  },
  {
   "cell_type": "code",
   "execution_count": null,
   "metadata": {
    "id": "FdWF9lAymEwc"
   },
   "outputs": [],
   "source": [
    "df['CRIM_group'] = pd.cut(df['CRIM'], 10)"
   ]
  },
  {
   "cell_type": "code",
   "execution_count": null,
   "metadata": {
    "colab": {
     "base_uri": "https://localhost:8080/",
     "height": 316
    },
    "executionInfo": {
     "elapsed": 346,
     "status": "ok",
     "timestamp": 1609988442921,
     "user": {
      "displayName": "David A. C. Beck",
      "photoUrl": "https://lh3.googleusercontent.com/a-/AOh14Gj0iGiFYbZdgtc6mx7XFYHkDly4A5-rGHh-mcN4=s64",
      "userId": "12214785840310827834"
     },
     "user_tz": 480
    },
    "id": "SulE4OarmEwc",
    "outputId": "54f8d6f4-5974-4598-eb40-9cb5a809d739"
   },
   "outputs": [
    {
     "data": {
      "text/html": [
       "<div>\n",
       "<style scoped>\n",
       "    .dataframe tbody tr th:only-of-type {\n",
       "        vertical-align: middle;\n",
       "    }\n",
       "\n",
       "    .dataframe tbody tr th {\n",
       "        vertical-align: top;\n",
       "    }\n",
       "\n",
       "    .dataframe thead th {\n",
       "        text-align: right;\n",
       "    }\n",
       "</style>\n",
       "<table border=\"1\" class=\"dataframe\">\n",
       "  <thead>\n",
       "    <tr style=\"text-align: right;\">\n",
       "      <th></th>\n",
       "      <th>CRIM</th>\n",
       "      <th>ZN</th>\n",
       "      <th>INDUS</th>\n",
       "      <th>CHAS</th>\n",
       "      <th>NOX</th>\n",
       "      <th>RM</th>\n",
       "      <th>AGE</th>\n",
       "      <th>DIS</th>\n",
       "      <th>RAD</th>\n",
       "      <th>TAX</th>\n",
       "      <th>PTRATIO</th>\n",
       "      <th>B</th>\n",
       "      <th>LSTAT</th>\n",
       "      <th>CRIM_per_100</th>\n",
       "      <th>CRIM_group</th>\n",
       "    </tr>\n",
       "  </thead>\n",
       "  <tbody>\n",
       "    <tr>\n",
       "      <th>0</th>\n",
       "      <td>0.00632</td>\n",
       "      <td>18.0</td>\n",
       "      <td>2.31</td>\n",
       "      <td>0.0</td>\n",
       "      <td>0.538</td>\n",
       "      <td>6.575</td>\n",
       "      <td>65.2</td>\n",
       "      <td>4.0900</td>\n",
       "      <td>1.0</td>\n",
       "      <td>296.0</td>\n",
       "      <td>15.3</td>\n",
       "      <td>396.90</td>\n",
       "      <td>4.98</td>\n",
       "      <td>0.632</td>\n",
       "      <td>(-0.0826, 8.903]</td>\n",
       "    </tr>\n",
       "    <tr>\n",
       "      <th>1</th>\n",
       "      <td>0.02731</td>\n",
       "      <td>0.0</td>\n",
       "      <td>7.07</td>\n",
       "      <td>0.0</td>\n",
       "      <td>0.469</td>\n",
       "      <td>6.421</td>\n",
       "      <td>78.9</td>\n",
       "      <td>4.9671</td>\n",
       "      <td>2.0</td>\n",
       "      <td>242.0</td>\n",
       "      <td>17.8</td>\n",
       "      <td>396.90</td>\n",
       "      <td>9.14</td>\n",
       "      <td>2.731</td>\n",
       "      <td>(-0.0826, 8.903]</td>\n",
       "    </tr>\n",
       "    <tr>\n",
       "      <th>2</th>\n",
       "      <td>0.02729</td>\n",
       "      <td>0.0</td>\n",
       "      <td>7.07</td>\n",
       "      <td>0.0</td>\n",
       "      <td>0.469</td>\n",
       "      <td>7.185</td>\n",
       "      <td>61.1</td>\n",
       "      <td>4.9671</td>\n",
       "      <td>2.0</td>\n",
       "      <td>242.0</td>\n",
       "      <td>17.8</td>\n",
       "      <td>392.83</td>\n",
       "      <td>4.03</td>\n",
       "      <td>2.729</td>\n",
       "      <td>(-0.0826, 8.903]</td>\n",
       "    </tr>\n",
       "    <tr>\n",
       "      <th>3</th>\n",
       "      <td>0.03237</td>\n",
       "      <td>0.0</td>\n",
       "      <td>2.18</td>\n",
       "      <td>0.0</td>\n",
       "      <td>0.458</td>\n",
       "      <td>6.998</td>\n",
       "      <td>45.8</td>\n",
       "      <td>6.0622</td>\n",
       "      <td>3.0</td>\n",
       "      <td>222.0</td>\n",
       "      <td>18.7</td>\n",
       "      <td>394.63</td>\n",
       "      <td>2.94</td>\n",
       "      <td>3.237</td>\n",
       "      <td>(-0.0826, 8.903]</td>\n",
       "    </tr>\n",
       "    <tr>\n",
       "      <th>4</th>\n",
       "      <td>0.06905</td>\n",
       "      <td>0.0</td>\n",
       "      <td>2.18</td>\n",
       "      <td>0.0</td>\n",
       "      <td>0.458</td>\n",
       "      <td>7.147</td>\n",
       "      <td>54.2</td>\n",
       "      <td>6.0622</td>\n",
       "      <td>3.0</td>\n",
       "      <td>222.0</td>\n",
       "      <td>18.7</td>\n",
       "      <td>396.90</td>\n",
       "      <td>5.33</td>\n",
       "      <td>6.905</td>\n",
       "      <td>(-0.0826, 8.903]</td>\n",
       "    </tr>\n",
       "  </tbody>\n",
       "</table>\n",
       "</div>"
      ],
      "text/plain": [
       "      CRIM    ZN  INDUS  CHAS  ...       B  LSTAT  CRIM_per_100        CRIM_group\n",
       "0  0.00632  18.0   2.31   0.0  ...  396.90   4.98         0.632  (-0.0826, 8.903]\n",
       "1  0.02731   0.0   7.07   0.0  ...  396.90   9.14         2.731  (-0.0826, 8.903]\n",
       "2  0.02729   0.0   7.07   0.0  ...  392.83   4.03         2.729  (-0.0826, 8.903]\n",
       "3  0.03237   0.0   2.18   0.0  ...  394.63   2.94         3.237  (-0.0826, 8.903]\n",
       "4  0.06905   0.0   2.18   0.0  ...  396.90   5.33         6.905  (-0.0826, 8.903]\n",
       "\n",
       "[5 rows x 15 columns]"
      ]
     },
     "execution_count": 74,
     "metadata": {
      "tags": []
     },
     "output_type": "execute_result"
    }
   ],
   "source": [
    "df.head()"
   ]
  },
  {
   "cell_type": "code",
   "execution_count": null,
   "metadata": {
    "colab": {
     "base_uri": "https://localhost:8080/"
    },
    "executionInfo": {
     "elapsed": 311,
     "status": "ok",
     "timestamp": 1609988445060,
     "user": {
      "displayName": "David A. C. Beck",
      "photoUrl": "https://lh3.googleusercontent.com/a-/AOh14Gj0iGiFYbZdgtc6mx7XFYHkDly4A5-rGHh-mcN4=s64",
      "userId": "12214785840310827834"
     },
     "user_tz": 480
    },
    "id": "us5dPVyimEwc",
    "outputId": "909c2380-202b-4953-bada-9cf97cfc622f"
   },
   "outputs": [
    {
     "data": {
      "text/plain": [
       "CRIM             float64\n",
       "ZN               float64\n",
       "INDUS            float64\n",
       "CHAS             float64\n",
       "NOX              float64\n",
       "RM               float64\n",
       "AGE              float64\n",
       "DIS              float64\n",
       "RAD              float64\n",
       "TAX              float64\n",
       "PTRATIO          float64\n",
       "B                float64\n",
       "LSTAT            float64\n",
       "CRIM_per_100     float64\n",
       "CRIM_group      category\n",
       "dtype: object"
      ]
     },
     "execution_count": 75,
     "metadata": {
      "tags": []
     },
     "output_type": "execute_result"
    }
   ],
   "source": [
    "df.dtypes"
   ]
  },
  {
   "cell_type": "markdown",
   "metadata": {
    "id": "es9v37gsmEwc"
   },
   "source": [
    "### 3.3.4 Simple Grouping of Data\n",
    "\n",
    "The real power of Pandas comes in its tools for grouping and aggregating data. Here we'll look at *value counts* and the basics of *group-by* operations."
   ]
  },
  {
   "cell_type": "markdown",
   "metadata": {
    "id": "jlz_3hWjmEwc"
   },
   "source": [
    "#### 3.3.4.1 Value Counts"
   ]
  },
  {
   "cell_type": "markdown",
   "metadata": {
    "id": "--1-xr3hmEwc"
   },
   "source": [
    "Pandas includes an array of useful functionality for manipulating and analyzing tabular data.\n",
    "We'll take a look at two of these here."
   ]
  },
  {
   "cell_type": "markdown",
   "metadata": {
    "id": "Ir71vllcmEwc"
   },
   "source": [
    "The ``pandas.value_counts`` returns statistics on the unique values within each column.\n",
    "\n",
    "We can use it, for example, to break down the molecules by their mass group that we just created:"
   ]
  },
  {
   "cell_type": "markdown",
   "metadata": {
    "id": "OYnvUmD_mEwc"
   },
   "source": [
    "```\n",
    "pd.value_counts(df['CRIM_group'])\n",
    "```"
   ]
  },
  {
   "cell_type": "code",
   "execution_count": null,
   "metadata": {
    "colab": {
     "base_uri": "https://localhost:8080/"
    },
    "executionInfo": {
     "elapsed": 334,
     "status": "ok",
     "timestamp": 1609988489557,
     "user": {
      "displayName": "David A. C. Beck",
      "photoUrl": "https://lh3.googleusercontent.com/a-/AOh14Gj0iGiFYbZdgtc6mx7XFYHkDly4A5-rGHh-mcN4=s64",
      "userId": "12214785840310827834"
     },
     "user_tz": 480
    },
    "id": "c_QuwLElmEwd",
    "outputId": "b4ae1d10-33aa-49ba-a79f-758a24e40c38"
   },
   "outputs": [
    {
     "data": {
      "text/plain": [
       "(-0.0826, 8.903]    439\n",
       "(8.903, 17.8]        44\n",
       "(17.8, 26.697]       14\n",
       "(35.594, 44.491]      3\n",
       "(44.491, 53.388]      2\n",
       "(80.079, 88.976]      1\n",
       "(71.182, 80.079]      1\n",
       "(62.285, 71.182]      1\n",
       "(26.697, 35.594]      1\n",
       "(53.388, 62.285]      0\n",
       "Name: CRIM_group, dtype: int64"
      ]
     },
     "execution_count": 76,
     "metadata": {
      "tags": []
     },
     "output_type": "execute_result"
    }
   ],
   "source": [
    "pd.value_counts(df['CRIM_group'])"
   ]
  },
  {
   "cell_type": "markdown",
   "metadata": {
    "id": "D4unetCamEwd"
   },
   "source": [
    "What happens if we try this on a continuous valued variable?"
   ]
  },
  {
   "cell_type": "markdown",
   "metadata": {
    "id": "beB8NxG3mEwd"
   },
   "source": [
    "```\n",
    "pd.value_counts(df['CRIM'])\n",
    "```"
   ]
  },
  {
   "cell_type": "code",
   "execution_count": null,
   "metadata": {
    "colab": {
     "base_uri": "https://localhost:8080/"
    },
    "executionInfo": {
     "elapsed": 334,
     "status": "ok",
     "timestamp": 1609988557526,
     "user": {
      "displayName": "David A. C. Beck",
      "photoUrl": "https://lh3.googleusercontent.com/a-/AOh14Gj0iGiFYbZdgtc6mx7XFYHkDly4A5-rGHh-mcN4=s64",
      "userId": "12214785840310827834"
     },
     "user_tz": 480
    },
    "id": "4t0mUh1tmEwd",
    "outputId": "861c75da-1791-4324-95e8-aae5adbf45ac"
   },
   "outputs": [
    {
     "data": {
      "text/plain": [
       "14.33370    2\n",
       "0.01501     2\n",
       "0.08265     1\n",
       "0.53700     1\n",
       "1.35472     1\n",
       "           ..\n",
       "13.67810    1\n",
       "0.88125     1\n",
       "0.01951     1\n",
       "0.49298     1\n",
       "0.03578     1\n",
       "Name: CRIM, Length: 504, dtype: int64"
      ]
     },
     "execution_count": 77,
     "metadata": {
      "tags": []
     },
     "output_type": "execute_result"
    }
   ],
   "source": [
    "pd.value_counts(df['CRIM'])"
   ]
  },
  {
   "cell_type": "markdown",
   "metadata": {
    "id": "ovSgy5VumEwd"
   },
   "source": [
    "We can do a little data exploration with this by seeing how common different values are.  Here, let's look at the nitrious oxide concentration."
   ]
  },
  {
   "cell_type": "markdown",
   "metadata": {
    "id": "gJFZITaemEwd"
   },
   "source": [
    "```\n",
    "pd.value_counts(df['NOX'])\n",
    "```"
   ]
  },
  {
   "cell_type": "code",
   "execution_count": null,
   "metadata": {
    "colab": {
     "base_uri": "https://localhost:8080/"
    },
    "executionInfo": {
     "elapsed": 365,
     "status": "ok",
     "timestamp": 1609988646552,
     "user": {
      "displayName": "David A. C. Beck",
      "photoUrl": "https://lh3.googleusercontent.com/a-/AOh14Gj0iGiFYbZdgtc6mx7XFYHkDly4A5-rGHh-mcN4=s64",
      "userId": "12214785840310827834"
     },
     "user_tz": 480
    },
    "id": "s20EN7ONmEwe",
    "outputId": "1a386bf2-1a4d-4736-dbc3-50e02c9bd167"
   },
   "outputs": [
    {
     "data": {
      "text/plain": [
       "0.538    23\n",
       "0.713    18\n",
       "0.437    17\n",
       "0.871    16\n",
       "0.489    15\n",
       "         ..\n",
       "0.385     1\n",
       "0.394     1\n",
       "0.518     1\n",
       "0.422     1\n",
       "0.389     1\n",
       "Name: NOX, Length: 81, dtype: int64"
      ]
     },
     "execution_count": 78,
     "metadata": {
      "tags": []
     },
     "output_type": "execute_result"
    }
   ],
   "source": [
    "pd.value_counts(df['NOX'])"
   ]
  },
  {
   "cell_type": "markdown",
   "metadata": {
    "id": "qoVhcpbrmEwe"
   },
   "source": [
    "#### 3.3.4.2 Group-by Operation\n",
    "\n",
    "One of the killer features of the Pandas dataframe is the ability to do group-by operations.\n",
    "You can visualize the group-by like this (image borrowed from the [Python Data Science Handbook](http://shop.oreilly.com/product/0636920034919.do))\n",
    "\n",
    "![image](https://swcarpentry.github.io/r-novice-gapminder/fig/12-plyr-fig1.png)"
   ]
  },
  {
   "cell_type": "markdown",
   "metadata": {
    "id": "KKLA2eshmEwe"
   },
   "source": [
    "Let's break take this in smaller steps.\n",
    "Recall our ``CRIM_group`` column."
   ]
  },
  {
   "cell_type": "markdown",
   "metadata": {
    "id": "f542DPgTmEwe"
   },
   "source": [
    "```\n",
    "pd.value_counts(df['CRIM_group'])\n",
    "```"
   ]
  },
  {
   "cell_type": "code",
   "execution_count": null,
   "metadata": {
    "colab": {
     "base_uri": "https://localhost:8080/"
    },
    "executionInfo": {
     "elapsed": 375,
     "status": "ok",
     "timestamp": 1609988807912,
     "user": {
      "displayName": "David A. C. Beck",
      "photoUrl": "https://lh3.googleusercontent.com/a-/AOh14Gj0iGiFYbZdgtc6mx7XFYHkDly4A5-rGHh-mcN4=s64",
      "userId": "12214785840310827834"
     },
     "user_tz": 480
    },
    "id": "KeVRi1yomEwe",
    "outputId": "41f00611-686f-4d5e-9d57-8071e405df9a"
   },
   "outputs": [
    {
     "data": {
      "text/plain": [
       "(-0.0826, 8.903]    439\n",
       "(8.903, 17.8]        44\n",
       "(17.8, 26.697]       14\n",
       "(35.594, 44.491]      3\n",
       "(44.491, 53.388]      2\n",
       "(80.079, 88.976]      1\n",
       "(71.182, 80.079]      1\n",
       "(62.285, 71.182]      1\n",
       "(26.697, 35.594]      1\n",
       "(53.388, 62.285]      0\n",
       "Name: CRIM_group, dtype: int64"
      ]
     },
     "execution_count": 79,
     "metadata": {
      "tags": []
     },
     "output_type": "execute_result"
    }
   ],
   "source": [
    "pd.value_counts(df['CRIM_group'])"
   ]
  },
  {
   "cell_type": "markdown",
   "metadata": {
    "id": "IVTQdYZEmEwe"
   },
   "source": [
    "`groupby` allows us to look at the number of values for each column and each value.  The group by documentation is [here](https://pandas.pydata.org/pandas-docs/stable/reference/api/pandas.DataFrame.groupby.html).  Basically, `groupby` allows us to create *groups* of records based on their values. Let's count how many records, or rows, in our data set fall into each bin of our CRIM data. "
   ]
  },
  {
   "cell_type": "markdown",
   "metadata": {
    "id": "eMpH59rrmEwe"
   },
   "source": [
    "```\n",
    "df.groupby(['CRIM_group']).count()\n",
    "```"
   ]
  },
  {
   "cell_type": "code",
   "execution_count": null,
   "metadata": {
    "colab": {
     "base_uri": "https://localhost:8080/",
     "height": 417
    },
    "executionInfo": {
     "elapsed": 359,
     "status": "ok",
     "timestamp": 1609988820453,
     "user": {
      "displayName": "David A. C. Beck",
      "photoUrl": "https://lh3.googleusercontent.com/a-/AOh14Gj0iGiFYbZdgtc6mx7XFYHkDly4A5-rGHh-mcN4=s64",
      "userId": "12214785840310827834"
     },
     "user_tz": 480
    },
    "id": "7RbvB8ZPmEwe",
    "outputId": "9a74bd25-38fa-4e25-84ef-ee913de77f7b"
   },
   "outputs": [
    {
     "data": {
      "text/html": [
       "<div>\n",
       "<style scoped>\n",
       "    .dataframe tbody tr th:only-of-type {\n",
       "        vertical-align: middle;\n",
       "    }\n",
       "\n",
       "    .dataframe tbody tr th {\n",
       "        vertical-align: top;\n",
       "    }\n",
       "\n",
       "    .dataframe thead th {\n",
       "        text-align: right;\n",
       "    }\n",
       "</style>\n",
       "<table border=\"1\" class=\"dataframe\">\n",
       "  <thead>\n",
       "    <tr style=\"text-align: right;\">\n",
       "      <th></th>\n",
       "      <th>CRIM</th>\n",
       "      <th>ZN</th>\n",
       "      <th>INDUS</th>\n",
       "      <th>CHAS</th>\n",
       "      <th>NOX</th>\n",
       "      <th>RM</th>\n",
       "      <th>AGE</th>\n",
       "      <th>DIS</th>\n",
       "      <th>RAD</th>\n",
       "      <th>TAX</th>\n",
       "      <th>PTRATIO</th>\n",
       "      <th>B</th>\n",
       "      <th>LSTAT</th>\n",
       "      <th>CRIM_per_100</th>\n",
       "    </tr>\n",
       "    <tr>\n",
       "      <th>CRIM_group</th>\n",
       "      <th></th>\n",
       "      <th></th>\n",
       "      <th></th>\n",
       "      <th></th>\n",
       "      <th></th>\n",
       "      <th></th>\n",
       "      <th></th>\n",
       "      <th></th>\n",
       "      <th></th>\n",
       "      <th></th>\n",
       "      <th></th>\n",
       "      <th></th>\n",
       "      <th></th>\n",
       "      <th></th>\n",
       "    </tr>\n",
       "  </thead>\n",
       "  <tbody>\n",
       "    <tr>\n",
       "      <th>(-0.0826, 8.903]</th>\n",
       "      <td>439</td>\n",
       "      <td>439</td>\n",
       "      <td>439</td>\n",
       "      <td>439</td>\n",
       "      <td>439</td>\n",
       "      <td>439</td>\n",
       "      <td>439</td>\n",
       "      <td>439</td>\n",
       "      <td>439</td>\n",
       "      <td>439</td>\n",
       "      <td>439</td>\n",
       "      <td>439</td>\n",
       "      <td>439</td>\n",
       "      <td>439</td>\n",
       "    </tr>\n",
       "    <tr>\n",
       "      <th>(8.903, 17.8]</th>\n",
       "      <td>44</td>\n",
       "      <td>44</td>\n",
       "      <td>44</td>\n",
       "      <td>44</td>\n",
       "      <td>44</td>\n",
       "      <td>44</td>\n",
       "      <td>44</td>\n",
       "      <td>44</td>\n",
       "      <td>44</td>\n",
       "      <td>44</td>\n",
       "      <td>44</td>\n",
       "      <td>44</td>\n",
       "      <td>44</td>\n",
       "      <td>44</td>\n",
       "    </tr>\n",
       "    <tr>\n",
       "      <th>(17.8, 26.697]</th>\n",
       "      <td>14</td>\n",
       "      <td>14</td>\n",
       "      <td>14</td>\n",
       "      <td>14</td>\n",
       "      <td>14</td>\n",
       "      <td>14</td>\n",
       "      <td>14</td>\n",
       "      <td>14</td>\n",
       "      <td>14</td>\n",
       "      <td>14</td>\n",
       "      <td>14</td>\n",
       "      <td>14</td>\n",
       "      <td>14</td>\n",
       "      <td>14</td>\n",
       "    </tr>\n",
       "    <tr>\n",
       "      <th>(26.697, 35.594]</th>\n",
       "      <td>1</td>\n",
       "      <td>1</td>\n",
       "      <td>1</td>\n",
       "      <td>1</td>\n",
       "      <td>1</td>\n",
       "      <td>1</td>\n",
       "      <td>1</td>\n",
       "      <td>1</td>\n",
       "      <td>1</td>\n",
       "      <td>1</td>\n",
       "      <td>1</td>\n",
       "      <td>1</td>\n",
       "      <td>1</td>\n",
       "      <td>1</td>\n",
       "    </tr>\n",
       "    <tr>\n",
       "      <th>(35.594, 44.491]</th>\n",
       "      <td>3</td>\n",
       "      <td>3</td>\n",
       "      <td>3</td>\n",
       "      <td>3</td>\n",
       "      <td>3</td>\n",
       "      <td>3</td>\n",
       "      <td>3</td>\n",
       "      <td>3</td>\n",
       "      <td>3</td>\n",
       "      <td>3</td>\n",
       "      <td>3</td>\n",
       "      <td>3</td>\n",
       "      <td>3</td>\n",
       "      <td>3</td>\n",
       "    </tr>\n",
       "    <tr>\n",
       "      <th>(44.491, 53.388]</th>\n",
       "      <td>2</td>\n",
       "      <td>2</td>\n",
       "      <td>2</td>\n",
       "      <td>2</td>\n",
       "      <td>2</td>\n",
       "      <td>2</td>\n",
       "      <td>2</td>\n",
       "      <td>2</td>\n",
       "      <td>2</td>\n",
       "      <td>2</td>\n",
       "      <td>2</td>\n",
       "      <td>2</td>\n",
       "      <td>2</td>\n",
       "      <td>2</td>\n",
       "    </tr>\n",
       "    <tr>\n",
       "      <th>(53.388, 62.285]</th>\n",
       "      <td>0</td>\n",
       "      <td>0</td>\n",
       "      <td>0</td>\n",
       "      <td>0</td>\n",
       "      <td>0</td>\n",
       "      <td>0</td>\n",
       "      <td>0</td>\n",
       "      <td>0</td>\n",
       "      <td>0</td>\n",
       "      <td>0</td>\n",
       "      <td>0</td>\n",
       "      <td>0</td>\n",
       "      <td>0</td>\n",
       "      <td>0</td>\n",
       "    </tr>\n",
       "    <tr>\n",
       "      <th>(62.285, 71.182]</th>\n",
       "      <td>1</td>\n",
       "      <td>1</td>\n",
       "      <td>1</td>\n",
       "      <td>1</td>\n",
       "      <td>1</td>\n",
       "      <td>1</td>\n",
       "      <td>1</td>\n",
       "      <td>1</td>\n",
       "      <td>1</td>\n",
       "      <td>1</td>\n",
       "      <td>1</td>\n",
       "      <td>1</td>\n",
       "      <td>1</td>\n",
       "      <td>1</td>\n",
       "    </tr>\n",
       "    <tr>\n",
       "      <th>(71.182, 80.079]</th>\n",
       "      <td>1</td>\n",
       "      <td>1</td>\n",
       "      <td>1</td>\n",
       "      <td>1</td>\n",
       "      <td>1</td>\n",
       "      <td>1</td>\n",
       "      <td>1</td>\n",
       "      <td>1</td>\n",
       "      <td>1</td>\n",
       "      <td>1</td>\n",
       "      <td>1</td>\n",
       "      <td>1</td>\n",
       "      <td>1</td>\n",
       "      <td>1</td>\n",
       "    </tr>\n",
       "    <tr>\n",
       "      <th>(80.079, 88.976]</th>\n",
       "      <td>1</td>\n",
       "      <td>1</td>\n",
       "      <td>1</td>\n",
       "      <td>1</td>\n",
       "      <td>1</td>\n",
       "      <td>1</td>\n",
       "      <td>1</td>\n",
       "      <td>1</td>\n",
       "      <td>1</td>\n",
       "      <td>1</td>\n",
       "      <td>1</td>\n",
       "      <td>1</td>\n",
       "      <td>1</td>\n",
       "      <td>1</td>\n",
       "    </tr>\n",
       "  </tbody>\n",
       "</table>\n",
       "</div>"
      ],
      "text/plain": [
       "                  CRIM   ZN  INDUS  CHAS  ...  PTRATIO    B  LSTAT  CRIM_per_100\n",
       "CRIM_group                                ...                                   \n",
       "(-0.0826, 8.903]   439  439    439   439  ...      439  439    439           439\n",
       "(8.903, 17.8]       44   44     44    44  ...       44   44     44            44\n",
       "(17.8, 26.697]      14   14     14    14  ...       14   14     14            14\n",
       "(26.697, 35.594]     1    1      1     1  ...        1    1      1             1\n",
       "(35.594, 44.491]     3    3      3     3  ...        3    3      3             3\n",
       "(44.491, 53.388]     2    2      2     2  ...        2    2      2             2\n",
       "(53.388, 62.285]     0    0      0     0  ...        0    0      0             0\n",
       "(62.285, 71.182]     1    1      1     1  ...        1    1      1             1\n",
       "(71.182, 80.079]     1    1      1     1  ...        1    1      1             1\n",
       "(80.079, 88.976]     1    1      1     1  ...        1    1      1             1\n",
       "\n",
       "[10 rows x 14 columns]"
      ]
     },
     "execution_count": 80,
     "metadata": {
      "tags": []
     },
     "output_type": "execute_result"
    }
   ],
   "source": [
    "df.groupby(['CRIM_group']).count()"
   ]
  },
  {
   "cell_type": "markdown",
   "metadata": {
    "id": "qAdGAlPPmEwf"
   },
   "source": [
    "Now, let's find the mean of each of the columns for each ``CRIM_group``.  *Notice* what happens to the non-numeric columns."
   ]
  },
  {
   "cell_type": "markdown",
   "metadata": {
    "id": "hEKa6tfCmEwf"
   },
   "source": [
    "```\n",
    "df.groupby(['CRIM_group']).mean()\n",
    "```"
   ]
  },
  {
   "cell_type": "code",
   "execution_count": null,
   "metadata": {
    "colab": {
     "base_uri": "https://localhost:8080/",
     "height": 576
    },
    "executionInfo": {
     "elapsed": 371,
     "status": "ok",
     "timestamp": 1609988884812,
     "user": {
      "displayName": "David A. C. Beck",
      "photoUrl": "https://lh3.googleusercontent.com/a-/AOh14Gj0iGiFYbZdgtc6mx7XFYHkDly4A5-rGHh-mcN4=s64",
      "userId": "12214785840310827834"
     },
     "user_tz": 480
    },
    "id": "qM910PfPmEwf",
    "outputId": "4429f2f7-199f-4ce1-85c9-53c8fd798a8b"
   },
   "outputs": [
    {
     "data": {
      "text/html": [
       "<div>\n",
       "<style scoped>\n",
       "    .dataframe tbody tr th:only-of-type {\n",
       "        vertical-align: middle;\n",
       "    }\n",
       "\n",
       "    .dataframe tbody tr th {\n",
       "        vertical-align: top;\n",
       "    }\n",
       "\n",
       "    .dataframe thead th {\n",
       "        text-align: right;\n",
       "    }\n",
       "</style>\n",
       "<table border=\"1\" class=\"dataframe\">\n",
       "  <thead>\n",
       "    <tr style=\"text-align: right;\">\n",
       "      <th></th>\n",
       "      <th>CRIM</th>\n",
       "      <th>ZN</th>\n",
       "      <th>INDUS</th>\n",
       "      <th>CHAS</th>\n",
       "      <th>NOX</th>\n",
       "      <th>RM</th>\n",
       "      <th>AGE</th>\n",
       "      <th>DIS</th>\n",
       "      <th>RAD</th>\n",
       "      <th>TAX</th>\n",
       "      <th>PTRATIO</th>\n",
       "      <th>B</th>\n",
       "      <th>LSTAT</th>\n",
       "      <th>CRIM_per_100</th>\n",
       "    </tr>\n",
       "    <tr>\n",
       "      <th>CRIM_group</th>\n",
       "      <th></th>\n",
       "      <th></th>\n",
       "      <th></th>\n",
       "      <th></th>\n",
       "      <th></th>\n",
       "      <th></th>\n",
       "      <th></th>\n",
       "      <th></th>\n",
       "      <th></th>\n",
       "      <th></th>\n",
       "      <th></th>\n",
       "      <th></th>\n",
       "      <th></th>\n",
       "      <th></th>\n",
       "    </tr>\n",
       "  </thead>\n",
       "  <tbody>\n",
       "    <tr>\n",
       "      <th>(-0.0826, 8.903]</th>\n",
       "      <td>1.180608</td>\n",
       "      <td>13.09795</td>\n",
       "      <td>10.074055</td>\n",
       "      <td>0.077449</td>\n",
       "      <td>0.535822</td>\n",
       "      <td>6.346704</td>\n",
       "      <td>64.651708</td>\n",
       "      <td>4.108292</td>\n",
       "      <td>7.343964</td>\n",
       "      <td>368.897494</td>\n",
       "      <td>18.189294</td>\n",
       "      <td>371.041503</td>\n",
       "      <td>11.186492</td>\n",
       "      <td>118.060838</td>\n",
       "    </tr>\n",
       "    <tr>\n",
       "      <th>(8.903, 17.8]</th>\n",
       "      <td>12.147610</td>\n",
       "      <td>0.00000</td>\n",
       "      <td>18.100000</td>\n",
       "      <td>0.022727</td>\n",
       "      <td>0.680318</td>\n",
       "      <td>6.065114</td>\n",
       "      <td>93.375000</td>\n",
       "      <td>1.851452</td>\n",
       "      <td>24.000000</td>\n",
       "      <td>666.000000</td>\n",
       "      <td>20.200000</td>\n",
       "      <td>257.762727</td>\n",
       "      <td>20.938182</td>\n",
       "      <td>1214.761000</td>\n",
       "    </tr>\n",
       "    <tr>\n",
       "      <th>(17.8, 26.697]</th>\n",
       "      <td>21.582093</td>\n",
       "      <td>0.00000</td>\n",
       "      <td>18.100000</td>\n",
       "      <td>0.000000</td>\n",
       "      <td>0.680071</td>\n",
       "      <td>5.409429</td>\n",
       "      <td>96.592857</td>\n",
       "      <td>1.501614</td>\n",
       "      <td>24.000000</td>\n",
       "      <td>666.000000</td>\n",
       "      <td>20.200000</td>\n",
       "      <td>314.495714</td>\n",
       "      <td>26.416429</td>\n",
       "      <td>2158.209286</td>\n",
       "    </tr>\n",
       "    <tr>\n",
       "      <th>(26.697, 35.594]</th>\n",
       "      <td>28.655800</td>\n",
       "      <td>0.00000</td>\n",
       "      <td>18.100000</td>\n",
       "      <td>0.000000</td>\n",
       "      <td>0.597000</td>\n",
       "      <td>5.155000</td>\n",
       "      <td>100.000000</td>\n",
       "      <td>1.589400</td>\n",
       "      <td>24.000000</td>\n",
       "      <td>666.000000</td>\n",
       "      <td>20.200000</td>\n",
       "      <td>210.970000</td>\n",
       "      <td>20.080000</td>\n",
       "      <td>2865.580000</td>\n",
       "    </tr>\n",
       "    <tr>\n",
       "      <th>(35.594, 44.491]</th>\n",
       "      <td>39.180967</td>\n",
       "      <td>0.00000</td>\n",
       "      <td>18.100000</td>\n",
       "      <td>0.000000</td>\n",
       "      <td>0.688333</td>\n",
       "      <td>5.728667</td>\n",
       "      <td>88.033333</td>\n",
       "      <td>1.653300</td>\n",
       "      <td>24.000000</td>\n",
       "      <td>666.000000</td>\n",
       "      <td>20.200000</td>\n",
       "      <td>248.393333</td>\n",
       "      <td>24.163333</td>\n",
       "      <td>3918.096667</td>\n",
       "    </tr>\n",
       "    <tr>\n",
       "      <th>(44.491, 53.388]</th>\n",
       "      <td>48.440950</td>\n",
       "      <td>0.00000</td>\n",
       "      <td>18.100000</td>\n",
       "      <td>0.000000</td>\n",
       "      <td>0.645000</td>\n",
       "      <td>5.138000</td>\n",
       "      <td>100.000000</td>\n",
       "      <td>1.535600</td>\n",
       "      <td>24.000000</td>\n",
       "      <td>666.000000</td>\n",
       "      <td>20.200000</td>\n",
       "      <td>45.435000</td>\n",
       "      <td>23.545000</td>\n",
       "      <td>4844.095000</td>\n",
       "    </tr>\n",
       "    <tr>\n",
       "      <th>(53.388, 62.285]</th>\n",
       "      <td>NaN</td>\n",
       "      <td>NaN</td>\n",
       "      <td>NaN</td>\n",
       "      <td>NaN</td>\n",
       "      <td>NaN</td>\n",
       "      <td>NaN</td>\n",
       "      <td>NaN</td>\n",
       "      <td>NaN</td>\n",
       "      <td>NaN</td>\n",
       "      <td>NaN</td>\n",
       "      <td>NaN</td>\n",
       "      <td>NaN</td>\n",
       "      <td>NaN</td>\n",
       "      <td>NaN</td>\n",
       "    </tr>\n",
       "    <tr>\n",
       "      <th>(62.285, 71.182]</th>\n",
       "      <td>67.920800</td>\n",
       "      <td>0.00000</td>\n",
       "      <td>18.100000</td>\n",
       "      <td>0.000000</td>\n",
       "      <td>0.693000</td>\n",
       "      <td>5.683000</td>\n",
       "      <td>100.000000</td>\n",
       "      <td>1.425400</td>\n",
       "      <td>24.000000</td>\n",
       "      <td>666.000000</td>\n",
       "      <td>20.200000</td>\n",
       "      <td>384.970000</td>\n",
       "      <td>22.980000</td>\n",
       "      <td>6792.080000</td>\n",
       "    </tr>\n",
       "    <tr>\n",
       "      <th>(71.182, 80.079]</th>\n",
       "      <td>73.534100</td>\n",
       "      <td>0.00000</td>\n",
       "      <td>18.100000</td>\n",
       "      <td>0.000000</td>\n",
       "      <td>0.679000</td>\n",
       "      <td>5.957000</td>\n",
       "      <td>100.000000</td>\n",
       "      <td>1.802600</td>\n",
       "      <td>24.000000</td>\n",
       "      <td>666.000000</td>\n",
       "      <td>20.200000</td>\n",
       "      <td>16.450000</td>\n",
       "      <td>20.620000</td>\n",
       "      <td>7353.410000</td>\n",
       "    </tr>\n",
       "    <tr>\n",
       "      <th>(80.079, 88.976]</th>\n",
       "      <td>88.976200</td>\n",
       "      <td>0.00000</td>\n",
       "      <td>18.100000</td>\n",
       "      <td>0.000000</td>\n",
       "      <td>0.671000</td>\n",
       "      <td>6.968000</td>\n",
       "      <td>91.900000</td>\n",
       "      <td>1.416500</td>\n",
       "      <td>24.000000</td>\n",
       "      <td>666.000000</td>\n",
       "      <td>20.200000</td>\n",
       "      <td>396.900000</td>\n",
       "      <td>17.210000</td>\n",
       "      <td>8897.620000</td>\n",
       "    </tr>\n",
       "  </tbody>\n",
       "</table>\n",
       "</div>"
      ],
      "text/plain": [
       "                       CRIM        ZN  ...      LSTAT  CRIM_per_100\n",
       "CRIM_group                             ...                         \n",
       "(-0.0826, 8.903]   1.180608  13.09795  ...  11.186492    118.060838\n",
       "(8.903, 17.8]     12.147610   0.00000  ...  20.938182   1214.761000\n",
       "(17.8, 26.697]    21.582093   0.00000  ...  26.416429   2158.209286\n",
       "(26.697, 35.594]  28.655800   0.00000  ...  20.080000   2865.580000\n",
       "(35.594, 44.491]  39.180967   0.00000  ...  24.163333   3918.096667\n",
       "(44.491, 53.388]  48.440950   0.00000  ...  23.545000   4844.095000\n",
       "(53.388, 62.285]        NaN       NaN  ...        NaN           NaN\n",
       "(62.285, 71.182]  67.920800   0.00000  ...  22.980000   6792.080000\n",
       "(71.182, 80.079]  73.534100   0.00000  ...  20.620000   7353.410000\n",
       "(80.079, 88.976]  88.976200   0.00000  ...  17.210000   8897.620000\n",
       "\n",
       "[10 rows x 14 columns]"
      ]
     },
     "execution_count": 81,
     "metadata": {
      "tags": []
     },
     "output_type": "execute_result"
    }
   ],
   "source": [
    "df.groupby(['CRIM_group']).mean()"
   ]
  },
  {
   "cell_type": "markdown",
   "metadata": {
    "id": "OP52UZismEwf"
   },
   "source": [
    "You can specify a groupby using the names of table columns and compute other functions, such as the ``sum``, ``count``, ``std``, and ``describe``."
   ]
  },
  {
   "cell_type": "markdown",
   "metadata": {
    "id": "XyUSH-2OmEwf"
   },
   "source": [
    "```\n",
    "df.groupby(['CRIM_group'])['NOX'].describe()\n",
    "```"
   ]
  },
  {
   "cell_type": "code",
   "execution_count": null,
   "metadata": {
    "colab": {
     "base_uri": "https://localhost:8080/",
     "height": 417
    },
    "executionInfo": {
     "elapsed": 356,
     "status": "ok",
     "timestamp": 1609988964903,
     "user": {
      "displayName": "David A. C. Beck",
      "photoUrl": "https://lh3.googleusercontent.com/a-/AOh14Gj0iGiFYbZdgtc6mx7XFYHkDly4A5-rGHh-mcN4=s64",
      "userId": "12214785840310827834"
     },
     "user_tz": 480
    },
    "id": "Lhc_m50VmEwf",
    "outputId": "e95b805d-2c53-4190-b8bf-8731f0d314cb"
   },
   "outputs": [
    {
     "data": {
      "text/html": [
       "<div>\n",
       "<style scoped>\n",
       "    .dataframe tbody tr th:only-of-type {\n",
       "        vertical-align: middle;\n",
       "    }\n",
       "\n",
       "    .dataframe tbody tr th {\n",
       "        vertical-align: top;\n",
       "    }\n",
       "\n",
       "    .dataframe thead th {\n",
       "        text-align: right;\n",
       "    }\n",
       "</style>\n",
       "<table border=\"1\" class=\"dataframe\">\n",
       "  <thead>\n",
       "    <tr style=\"text-align: right;\">\n",
       "      <th></th>\n",
       "      <th>count</th>\n",
       "      <th>mean</th>\n",
       "      <th>std</th>\n",
       "      <th>min</th>\n",
       "      <th>25%</th>\n",
       "      <th>50%</th>\n",
       "      <th>75%</th>\n",
       "      <th>max</th>\n",
       "    </tr>\n",
       "    <tr>\n",
       "      <th>CRIM_group</th>\n",
       "      <th></th>\n",
       "      <th></th>\n",
       "      <th></th>\n",
       "      <th></th>\n",
       "      <th></th>\n",
       "      <th></th>\n",
       "      <th></th>\n",
       "      <th></th>\n",
       "    </tr>\n",
       "  </thead>\n",
       "  <tbody>\n",
       "    <tr>\n",
       "      <th>(-0.0826, 8.903]</th>\n",
       "      <td>439.0</td>\n",
       "      <td>0.535822</td>\n",
       "      <td>0.111496</td>\n",
       "      <td>0.385</td>\n",
       "      <td>0.445</td>\n",
       "      <td>0.515</td>\n",
       "      <td>0.58500</td>\n",
       "      <td>0.871</td>\n",
       "    </tr>\n",
       "    <tr>\n",
       "      <th>(8.903, 17.8]</th>\n",
       "      <td>44.0</td>\n",
       "      <td>0.680318</td>\n",
       "      <td>0.054516</td>\n",
       "      <td>0.580</td>\n",
       "      <td>0.631</td>\n",
       "      <td>0.693</td>\n",
       "      <td>0.72350</td>\n",
       "      <td>0.770</td>\n",
       "    </tr>\n",
       "    <tr>\n",
       "      <th>(17.8, 26.697]</th>\n",
       "      <td>14.0</td>\n",
       "      <td>0.680071</td>\n",
       "      <td>0.031448</td>\n",
       "      <td>0.597</td>\n",
       "      <td>0.671</td>\n",
       "      <td>0.679</td>\n",
       "      <td>0.69825</td>\n",
       "      <td>0.740</td>\n",
       "    </tr>\n",
       "    <tr>\n",
       "      <th>(26.697, 35.594]</th>\n",
       "      <td>1.0</td>\n",
       "      <td>0.597000</td>\n",
       "      <td>NaN</td>\n",
       "      <td>0.597</td>\n",
       "      <td>0.597</td>\n",
       "      <td>0.597</td>\n",
       "      <td>0.59700</td>\n",
       "      <td>0.597</td>\n",
       "    </tr>\n",
       "    <tr>\n",
       "      <th>(35.594, 44.491]</th>\n",
       "      <td>3.0</td>\n",
       "      <td>0.688333</td>\n",
       "      <td>0.008083</td>\n",
       "      <td>0.679</td>\n",
       "      <td>0.686</td>\n",
       "      <td>0.693</td>\n",
       "      <td>0.69300</td>\n",
       "      <td>0.693</td>\n",
       "    </tr>\n",
       "    <tr>\n",
       "      <th>(44.491, 53.388]</th>\n",
       "      <td>2.0</td>\n",
       "      <td>0.645000</td>\n",
       "      <td>0.067882</td>\n",
       "      <td>0.597</td>\n",
       "      <td>0.621</td>\n",
       "      <td>0.645</td>\n",
       "      <td>0.66900</td>\n",
       "      <td>0.693</td>\n",
       "    </tr>\n",
       "    <tr>\n",
       "      <th>(53.388, 62.285]</th>\n",
       "      <td>0.0</td>\n",
       "      <td>NaN</td>\n",
       "      <td>NaN</td>\n",
       "      <td>NaN</td>\n",
       "      <td>NaN</td>\n",
       "      <td>NaN</td>\n",
       "      <td>NaN</td>\n",
       "      <td>NaN</td>\n",
       "    </tr>\n",
       "    <tr>\n",
       "      <th>(62.285, 71.182]</th>\n",
       "      <td>1.0</td>\n",
       "      <td>0.693000</td>\n",
       "      <td>NaN</td>\n",
       "      <td>0.693</td>\n",
       "      <td>0.693</td>\n",
       "      <td>0.693</td>\n",
       "      <td>0.69300</td>\n",
       "      <td>0.693</td>\n",
       "    </tr>\n",
       "    <tr>\n",
       "      <th>(71.182, 80.079]</th>\n",
       "      <td>1.0</td>\n",
       "      <td>0.679000</td>\n",
       "      <td>NaN</td>\n",
       "      <td>0.679</td>\n",
       "      <td>0.679</td>\n",
       "      <td>0.679</td>\n",
       "      <td>0.67900</td>\n",
       "      <td>0.679</td>\n",
       "    </tr>\n",
       "    <tr>\n",
       "      <th>(80.079, 88.976]</th>\n",
       "      <td>1.0</td>\n",
       "      <td>0.671000</td>\n",
       "      <td>NaN</td>\n",
       "      <td>0.671</td>\n",
       "      <td>0.671</td>\n",
       "      <td>0.671</td>\n",
       "      <td>0.67100</td>\n",
       "      <td>0.671</td>\n",
       "    </tr>\n",
       "  </tbody>\n",
       "</table>\n",
       "</div>"
      ],
      "text/plain": [
       "                  count      mean       std  ...    50%      75%    max\n",
       "CRIM_group                                   ...                       \n",
       "(-0.0826, 8.903]  439.0  0.535822  0.111496  ...  0.515  0.58500  0.871\n",
       "(8.903, 17.8]      44.0  0.680318  0.054516  ...  0.693  0.72350  0.770\n",
       "(17.8, 26.697]     14.0  0.680071  0.031448  ...  0.679  0.69825  0.740\n",
       "(26.697, 35.594]    1.0  0.597000       NaN  ...  0.597  0.59700  0.597\n",
       "(35.594, 44.491]    3.0  0.688333  0.008083  ...  0.693  0.69300  0.693\n",
       "(44.491, 53.388]    2.0  0.645000  0.067882  ...  0.645  0.66900  0.693\n",
       "(53.388, 62.285]    0.0       NaN       NaN  ...    NaN      NaN    NaN\n",
       "(62.285, 71.182]    1.0  0.693000       NaN  ...  0.693  0.69300  0.693\n",
       "(71.182, 80.079]    1.0  0.679000       NaN  ...  0.679  0.67900  0.679\n",
       "(80.079, 88.976]    1.0  0.671000       NaN  ...  0.671  0.67100  0.671\n",
       "\n",
       "[10 rows x 8 columns]"
      ]
     },
     "execution_count": 82,
     "metadata": {
      "tags": []
     },
     "output_type": "execute_result"
    }
   ],
   "source": [
    "df.groupby(['CRIM_group'])['NOX'].describe()"
   ]
  },
  {
   "cell_type": "markdown",
   "metadata": {
    "id": "shvVEwgsmEwf"
   },
   "source": [
    "The simplest version of a groupby looks like this, and you can use almost any aggregation function you wish (mean, median, sum, minimum, maximum, standard deviation, count, etc.)\n",
    "\n",
    "```\n",
    "<data object>.groupby(<grouping values>).<aggregate>()\n",
    "```\n",
    "\n",
    "You can even group by multiple values: for example we can look at the CRIM and NOX grouped by the ``CRIM_group`` and ``NOX``."
   ]
  },
  {
   "cell_type": "code",
   "execution_count": null,
   "metadata": {
    "id": "NlNE5xrxmEwf"
   },
   "outputs": [],
   "source": []
  },
  {
   "cell_type": "code",
   "execution_count": null,
   "metadata": {
    "id": "uy6tlR-gmEwf"
   },
   "outputs": [],
   "source": []
  },
  {
   "cell_type": "code",
   "execution_count": null,
   "metadata": {
    "id": "WM92Y04vmEwg"
   },
   "outputs": [],
   "source": []
  },
  {
   "cell_type": "markdown",
   "metadata": {
    "id": "SSIssvoxmEwg"
   },
   "source": [
    "## 3.5 Breakout for Functions and Pandas\n",
    "\n",
    "Write a function that takes a column in Pandas and computes the [arithmetic mean](https://en.wikipedia.org/wiki/Arithmetic_mean) value of the data in it without using Pandas **_aggregate_** functions.\n",
    "\n",
    "Compare that result to the one from Pandas **_aggregate_** function `.mean()`.  How did your values compare?  Were they exactly equal?  Did you expect them to be given what you know about **_floating point_** numbers?"
   ]
  },
  {
   "cell_type": "code",
   "execution_count": null,
   "metadata": {
    "id": "kw5CYkVLmEwg"
   },
   "outputs": [],
   "source": []
  }
 ],
 "metadata": {
  "colab": {
   "collapsed_sections": [
    "-SiUKsyFmEwP",
    "FIZmkcp3mEwU",
    "jyXzgg0xmEwY",
    "KYEvxKnfmEwa",
    "es9v37gsmEwc",
    "jlz_3hWjmEwc",
    "qoVhcpbrmEwe"
   ],
   "name": "C-HACK Tutorial: Functions and Pandas.ipynb",
   "provenance": [
    {
     "file_id": "13bVNcHOv06KWD6jn3mBesOhXHMXY5imq",
     "timestamp": 1609868718759
    }
   ],
   "toc_visible": true
  },
  "kernelspec": {
   "display_name": "Python (tunnel)",
   "language": "python",
   "name": "python3"
  },
  "language_info": {
   "codemirror_mode": {
    "name": "ipython",
    "version": 3
   },
   "file_extension": ".py",
   "mimetype": "text/x-python",
   "name": "python",
   "nbconvert_exporter": "python",
   "pygments_lexer": "ipython3",
   "version": "3.7.7"
  }
 },
 "nbformat": 4,
 "nbformat_minor": 1
}
