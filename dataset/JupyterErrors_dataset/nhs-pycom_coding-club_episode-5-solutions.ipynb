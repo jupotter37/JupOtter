{
  "nbformat": 4,
  "nbformat_minor": 0,
  "metadata": {
    "colab": {
      "name": "Copy of IntroPython-5.ipynb",
      "provenance": [],
      "collapsed_sections": [],
      "toc_visible": true,
      "include_colab_link": true
    },
    "kernelspec": {
      "name": "python3",
      "display_name": "Python 3"
    },
    "language_info": {
      "name": "python"
    }
  },
  "cells": [
    {
      "cell_type": "markdown",
      "metadata": {
        "id": "view-in-github",
        "colab_type": "text"
      },
      "source": [
        "<a href=\"https://colab.research.google.com/github/nhs-pycom/coding-club-IntroPython-5/blob/main/Copy_of_IntroPython_5.ipynb\" target=\"_parent\"><img src=\"https://colab.research.google.com/assets/colab-badge.svg\" alt=\"Open In Colab\"/></a>"
      ]
    },
    {
      "cell_type": "markdown",
      "metadata": {
        "id": "8g-GBAPXVvSV"
      },
      "source": [
        "#**The NHSX Analytics Unit introduction to Python Session 5**\n",
        "\n",
        "Python for Data Analysis by Wes McKinney was used as a key resource for this session. \n",
        "\n",
        "This session focus on the basics of Pandas, a package similar to NumPy in that which contains tools and data structures for working with data. The big difference however, is that Pandas is designed for use with datasets containing multiple datatypes, aka heterogenous data. Pandas is a big topic, so I am going to focus on showing you the basic functionality in this session.\n",
        "\n"
      ]
    },
    {
      "cell_type": "markdown",
      "metadata": {
        "id": "fD81bBu85MmH"
      },
      "source": [
        "As Pandas is not part of base Python, it must be imported if we want to use any functions within it. Pandas is traditionally imported with the alias 'pd'.\n",
        "\n",
        "Any function we use from pandas has to be proceeded by 'pd.' so Python knows to look in the Pandas package to find the function.\n"
      ]
    },
    {
      "cell_type": "code",
      "metadata": {
        "id": "qSH5QHFp5SMN"
      },
      "source": [
        "import pandas as pd"
      ],
      "execution_count": null,
      "outputs": []
    },
    {
      "cell_type": "markdown",
      "metadata": {
        "id": "g0jaF0epi_HL"
      },
      "source": [
        "# **11. Pandas Series:**\n",
        "\n",
        "A Pandas series is a one dimensional object that contains a single data type, similar to an array. The key feature that separates it from an array is that the sequence of values has an associated sequence of labels. A good way to think of a series is a fancy numpy array, where each value in the array gets a name.\n",
        "\n",
        "This is probably a good moment to also note that, confusingly, Pandas uses different names for data types than base python. They are mostly close enough to be obvious, with the exception of strings, which Pandas calls 'objects'."
      ]
    },
    {
      "cell_type": "markdown",
      "metadata": {
        "id": "vB8chPPVh61Z"
      },
      "source": [
        "##**Creating a Series**\n",
        "\n",
        "We can create a series in lots of different ways, but here we will create one from a list using the Pandas Series function. \n",
        "\n",
        "We see the series in the output below, with the index on the left, and the values we specified on the right. It also tells us the data type of the series, which we can see Pandas correctly inferred was an integer, and so set to int64. \n",
        "\n",
        "If we change one of the inputs to a float, the dtype for the whole series will change to float64. This is because a series may only contain one data type. "
      ]
    },
    {
      "cell_type": "code",
      "metadata": {
        "id": "OE1AP48HiVbm",
        "colab": {
          "base_uri": "https://localhost:8080/"
        },
        "outputId": "4390ee98-1e81-4022-80b1-8bc515e8272e"
      },
      "source": [
        "#note the capitalisation on Series\n",
        "demo_series = pd.Series([1337, 66, 42])\n",
        "print(demo_series)"
      ],
      "execution_count": null,
      "outputs": [
        {
          "output_type": "stream",
          "text": [
            "0    1337\n",
            "1      66\n",
            "2      42\n",
            "dtype: int64\n"
          ],
          "name": "stdout"
        }
      ]
    },
    {
      "cell_type": "markdown",
      "metadata": {
        "id": "FpHl_xockO_m"
      },
      "source": [
        "We can access the index and the values attributes of a series separately:"
      ]
    },
    {
      "cell_type": "code",
      "metadata": {
        "id": "yCpCvUo8mYyu",
        "colab": {
          "base_uri": "https://localhost:8080/"
        },
        "outputId": "eab3b589-e59c-409c-a64e-a6dd03cd7f4e"
      },
      "source": [
        "print(demo_series.index)\n",
        "\n",
        "print(demo_series.values)"
      ],
      "execution_count": null,
      "outputs": [
        {
          "output_type": "stream",
          "text": [
            "RangeIndex(start=0, stop=3, step=1)\n",
            "[1337   66   42]\n"
          ],
          "name": "stdout"
        }
      ]
    },
    {
      "cell_type": "markdown",
      "metadata": {
        "id": "P2c8VjUroCUN"
      },
      "source": [
        "As we did not define an index, Python created a default one in the form of a range-like object, with values from 0 to n-1.\n",
        "\n",
        "If we want to specify the range instead of using a default one, we can do so as the series is created:"
      ]
    },
    {
      "cell_type": "code",
      "metadata": {
        "id": "QN9hNPh0puAH",
        "colab": {
          "base_uri": "https://localhost:8080/"
        },
        "outputId": "3a43c8f1-de3e-4fae-efbf-7e38bb15d68b"
      },
      "source": [
        "demo_series = pd.Series([1337, 66, 42], index = ['a','b','c'])\n",
        "print(demo_series)"
      ],
      "execution_count": null,
      "outputs": [
        {
          "output_type": "stream",
          "text": [
            "a    1337\n",
            "b      66\n",
            "c      42\n",
            "dtype: int64\n"
          ],
          "name": "stdout"
        }
      ]
    },
    {
      "cell_type": "code",
      "metadata": {
        "id": "fAdepC_H7Ckr",
        "colab": {
          "base_uri": "https://localhost:8080/"
        },
        "outputId": "77b6a1c8-fb81-4f5c-fe22-dd8dc87e7c6a"
      },
      "source": [
        "#We can also update the index of an existing series:\n",
        "demo_series.index = ['d','e','f']\n",
        "print(demo_series)"
      ],
      "execution_count": null,
      "outputs": [
        {
          "output_type": "stream",
          "text": [
            "d    1337\n",
            "e      66\n",
            "f      42\n",
            "dtype: int64\n"
          ],
          "name": "stdout"
        }
      ]
    },
    {
      "cell_type": "markdown",
      "metadata": {
        "id": "MXntCyqj7Zk3"
      },
      "source": [
        "We can use the index to access specific values in the list."
      ]
    },
    {
      "cell_type": "code",
      "metadata": {
        "id": "c1O5fQ727iUg",
        "colab": {
          "base_uri": "https://localhost:8080/"
        },
        "outputId": "adb572c0-888a-4104-8a35-102e619f07e8"
      },
      "source": [
        "print(demo_series['f'])"
      ],
      "execution_count": null,
      "outputs": [
        {
          "output_type": "stream",
          "text": [
            "42\n"
          ],
          "name": "stdout"
        }
      ]
    },
    {
      "cell_type": "code",
      "metadata": {
        "id": "jOrzlr56Lr8P",
        "colab": {
          "base_uri": "https://localhost:8080/"
        },
        "outputId": "aec92497-7d34-46a0-d94a-5583ee812f98"
      },
      "source": [
        "#we can pass multiple index values with a list\n",
        "print(demo_series[['f','e']])"
      ],
      "execution_count": null,
      "outputs": [
        {
          "output_type": "stream",
          "text": [
            "f    42\n",
            "e    66\n",
            "dtype: int64\n"
          ],
          "name": "stdout"
        }
      ]
    },
    {
      "cell_type": "code",
      "metadata": {
        "id": "qE3bPv9HqxxL",
        "colab": {
          "base_uri": "https://localhost:8080/"
        },
        "outputId": "6bf84009-2a96-4e7e-f227-f83762d39b7f"
      },
      "source": [
        "#Task 61: create a series of 5 items, which does not use the default index. Access an item in the list using its index.\n",
        "eg_series = pd.Series([1,1,2,3,5], index = ['a','b','c', 'd', 'e'])\n",
        "print(eg_series[['b']])"
      ],
      "execution_count": null,
      "outputs": [
        {
          "output_type": "stream",
          "text": [
            "b    1\n",
            "dtype: int64\n"
          ],
          "name": "stdout"
        }
      ]
    },
    {
      "cell_type": "code",
      "metadata": {
        "id": "mYQIrhVIrm7m",
        "colab": {
          "base_uri": "https://localhost:8080/"
        },
        "outputId": "4a50eea3-a121-4917-854d-93dddc212cee"
      },
      "source": [
        "#Task 62: There are multiple ways to create a series. Try to make one out of this dictionary. Does anything interesting happen?\n",
        "demo_dict = {\"Bird\": \"Sparrow\", \"Mammal\": \"Dog\", \"Fish\": \"Cod\"}\n",
        "pd_dict = pd.Series(demo_dict)\n",
        "print(pd_dict)"
      ],
      "execution_count": null,
      "outputs": [
        {
          "output_type": "stream",
          "text": [
            "Bird      Sparrow\n",
            "Mammal        Dog\n",
            "Fish          Cod\n",
            "dtype: object\n"
          ],
          "name": "stdout"
        }
      ]
    },
    {
      "cell_type": "markdown",
      "metadata": {
        "id": "awZN39w5tBqb"
      },
      "source": [
        "You may not often see series' used on their own in Python. However, it was important to cover them, as they are the building blocks of Pandas most *exciting* feature....."
      ]
    },
    {
      "cell_type": "markdown",
      "metadata": {
        "id": "DW1RDQYg6iBN"
      },
      "source": [
        "# **12. Pandas Dataframes:**\n",
        "\n",
        "A dataframe is a two dimensional* table of data, similar to something you might work with in a spreadsheet. It can be thought of a a collection of series which all share the same index. \n",
        "\n",
        "Each series contains a single data type, but that can vary between series, meaning a dataframe as a whole can contain multiple datatypes.\n",
        "\n",
        "![series_df.PNG](data:image/png;base64,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)\n",
        "\n",
        "*dataframes can have more than two dimensions, but don't worry about that for now."
      ]
    },
    {
      "cell_type": "markdown",
      "metadata": {
        "id": "OE5u8J5G9I5H"
      },
      "source": [
        "##**Creating a Dataframe**\n",
        "\n",
        "Like series, dataframes can be created in lots of different ways. Here we are going to create one with a list of lists.\n",
        "\n",
        "Each sub-list contains a row in the dataframe. As with series, we have to specify the index values or use the default values, but with a dataframe we have both the row and column names  to think about. \n",
        "\n",
        "I have specificed the column names, but I'm going to leave the row index as default as that seems appropriate for this data."
      ]
    },
    {
      "cell_type": "code",
      "metadata": {
        "id": "HIetL22_6huu",
        "colab": {
          "base_uri": "https://localhost:8080/"
        },
        "outputId": "b8faa929-fe41-4487-fcd7-a447dacbab52"
      },
      "source": [
        "#note the capitalisation in DataFrame\n",
        "demo_df = pd.DataFrame([['joe',30,5],['jerry',40,6],['jemma',25,6]],columns=['name','age','height'])\n",
        "print(demo_df)"
      ],
      "execution_count": null,
      "outputs": [
        {
          "output_type": "stream",
          "text": [
            "    name  age  height\n",
            "0    joe   30       5\n",
            "1  jerry   40       6\n",
            "2  jemma   25       6\n"
          ],
          "name": "stdout"
        }
      ]
    },
    {
      "cell_type": "code",
      "metadata": {
        "id": "qEqAByV6-bvT",
        "colab": {
          "base_uri": "https://localhost:8080/"
        },
        "outputId": "53333e70-b678-478b-aa60-bdbb38b5793e"
      },
      "source": [
        "#Task 63: Create a dataframe with the following info. BONUS POINTS if you can do it using a dictionary or even a dictionary of dictionaries.\n",
        "#remember that each column is a series\n",
        "#Dog    age   colour\n",
        "#Fido   2     grey \n",
        "#Spot   3     white\n",
        "#Lassie 4     red\n",
        "dict_fd ={\"Fido\": 2, \"Spot\": \"3\", \"Lassie\": 4}\n",
        "dict_fd2 ={\"Fido\": \"grey\", \"Spot\": \"white\", \"Lassie\": \"red\"}\n",
        "\n",
        "pd1 = pd.Series(dict_fd)\n",
        "pd2=pd.Series(dict_fd2)\n",
        "pd3=pd.concat([pd1, pd2], axis=1)\n",
        "\n",
        "print(pd3)"
      ],
      "execution_count": null,
      "outputs": [
        {
          "output_type": "stream",
          "text": [
            "        0      1\n",
            "Fido    2   grey\n",
            "Spot    3  white\n",
            "Lassie  4    red\n"
          ],
          "name": "stdout"
        }
      ]
    },
    {
      "cell_type": "markdown",
      "metadata": {
        "id": "KX0veaHu1Wng"
      },
      "source": [
        "This is also probably a good point to untangle some ambiguous terminology. As we have seen, a dataframe has a set of row names and column names. These are sometimes both refererred to as an index. However, in a dataframe object, the row index attribute is simply called 'index', whereas the column index is called 'columns'.  I am going to stick to that for the rest of the session. \n",
        "\n",
        "Additionally, selecting particular sets of data is also sometimes called 'indexing', but I'm going to avoid that where possible. "
      ]
    },
    {
      "cell_type": "markdown",
      "metadata": {
        "id": "xrVvC0pGDuOY"
      },
      "source": [
        "##**Importing a CSV file to a dataframe**\n",
        "\n",
        "A extremely useful feature of Pandas is that is has a function which handles importing an external csv file into Python as a dataframe. Importing files in base python can be fiddly, but the Pandas function read_csv handles opening the file and copying the data with a single command."
      ]
    },
    {
      "cell_type": "code",
      "metadata": {
        "id": "hI11LpnGGMfJ",
        "colab": {
          "base_uri": "https://localhost:8080/"
        },
        "outputId": "f162d7d7-6429-48dd-a0bc-a944ada264ca"
      },
      "source": [
        "#The file we are using is stored on the github repo, so the file location is the url.\n",
        "#If it was on your local machine, it would be the file path there instead, e.g. C:\\desktop\\people.csv.\n",
        "#To save space, we'll store the url in a variable. \n",
        "\n",
        "file_location = \"https://raw.githubusercontent.com/nhs-pycom/coding-club-IntroPython-5/main/people.csv\"\n",
        "\n",
        "demo_df2 = pd.read_csv(file_location)\n",
        "print(demo_df2)"
      ],
      "execution_count": null,
      "outputs": [
        {
          "output_type": "stream",
          "text": [
            "             Name   Age Favourite Colour Date of Birth Height     fsdaf     ID\n",
            "0          Dallas  42.0              Red    29/06/1979  1,760  jhgjhgfj  B5443\n",
            "1            Kane  39.0           Purple    29/06/1982  1,801   sffsdfd  H5655\n",
            "2          Ripley  29.0           Orange    27/06/1992  1,650   ytryrty  Y4355\n",
            "3             Ash  40.0            Green    01/07/1981  1,720     vbvcb  T5434\n",
            "4         Lambert  26.0             Pink    29/06/1995  1,820     uiyui  B1123\n",
            "5          Parker  27.0             Blue    30/06/1994  1,755    mnbmbm  R6954\n",
            "6           Brett  30.0           Orange    02/07/1991  1,545    qwewqe  D5543\n",
            "7           Jones   5.0             none    26/06/2016     20     qweqe  L6546\n",
            "8     End of list   NaN              NaN           NaN    NaN       NaN    NaN\n",
            "9  Really the end   NaN              NaN           NaN    NaN       NaN    NaN\n"
          ],
          "name": "stdout"
        }
      ]
    },
    {
      "cell_type": "markdown",
      "metadata": {
        "id": "xc9_gT5hGuPg"
      },
      "source": [
        "The file has been read and loaded into a dataframe successfully, but we can see that the data is quite messy and needs some cleaning. Fortunately, *read_csv* has lots of ways that you can use to help it understand how you want it to read the data. \n",
        "\n",
        "To start with, there are rows of junk text at the end of this file. We can use *skipfooter* to tell it to ignore them. Additionally there is a column that contains nonsense. We can exclude that using the *usecol* argument to specify which columns we do want. \n",
        "\n",
        "It also looks like the column ID might be appropriate to use as an index, so lets tell the function to use that instead of generating a default one, using 'index_col'.\n",
        "\n",
        "(Setting the engine to python is required to prevent an warning related to the skipfooter argument, don't worry about that at this point). "
      ]
    },
    {
      "cell_type": "code",
      "metadata": {
        "id": "lbcJHMZYHFdJ",
        "colab": {
          "base_uri": "https://localhost:8080/"
        },
        "outputId": "e5a867c6-74a0-4e5b-b43a-447a17e62b45"
      },
      "source": [
        "demo_df2 = pd.read_csv(file_location, skipfooter=2, engine='python', index_col='ID',\n",
        "usecols=['ID', 'Name', 'Age', 'Favourite Colour', 'Date of Birth', 'Height'])\n",
        "\n",
        "print(demo_df2 , \"\\n\")\n",
        "\n",
        "demo_df2.dtypes"
      ],
      "execution_count": null,
      "outputs": [
        {
          "output_type": "stream",
          "text": [
            "          Name  Age Favourite Colour Date of Birth Height\n",
            "ID                                                       \n",
            "B5443   Dallas   42              Red    29/06/1979  1,760\n",
            "H5655     Kane   39           Purple    29/06/1982  1,801\n",
            "Y4355   Ripley   29           Orange    27/06/1992  1,650\n",
            "T5434      Ash   40            Green    01/07/1981  1,720\n",
            "B1123  Lambert   26             Pink    29/06/1995  1,820\n",
            "R6954   Parker   27             Blue    30/06/1994  1,755\n",
            "D5543    Brett   30           Orange    02/07/1991  1,545\n",
            "L6546    Jones    5             none    26/06/2016     20 \n",
            "\n"
          ],
          "name": "stdout"
        },
        {
          "output_type": "execute_result",
          "data": {
            "text/plain": [
              "Name                object\n",
              "Age                  int64\n",
              "Favourite Colour    object\n",
              "Date of Birth       object\n",
              "Height              object\n",
              "dtype: object"
            ]
          },
          "metadata": {
            "tags": []
          },
          "execution_count": 19
        }
      ]
    },
    {
      "cell_type": "markdown",
      "metadata": {
        "id": "uWDdGJU_EfS3"
      },
      "source": [
        "This looks a lot better, we have gotten rid of the junk rows, excluded the column we don't want, and set the index appropriately. \n",
        "\n",
        "However, the dtypes attribute shows that the DOB and Height columns have been read as objects (aka strings). We may want to perform operations on these columns, so need them set to the proper datatypes. \n",
        "\n",
        "We can use *parse_dates* to tell Pandas to treat the DOB column as a datetime object. \n",
        "\n",
        "The Height column is being read as an object because it contains commas. We can tell Pandas the commas are just thousand dividers using the argument *thousands*. "
      ]
    },
    {
      "cell_type": "code",
      "metadata": {
        "id": "SlH7k-MoNshh",
        "colab": {
          "base_uri": "https://localhost:8080/"
        },
        "outputId": "a823f242-cbbc-41f6-9ee5-7a1ef3ed98af"
      },
      "source": [
        "demo_df2 = pd.read_csv(file_location, parse_dates=[\"Date of Birth\"], thousands=\",\", skipfooter=2, engine='python',\n",
        "index_col='ID', usecols=['ID', 'Name', 'Age', 'Favourite Colour', 'Date of Birth', 'Height'])\n",
        "\n",
        "print(demo_df2, \"\\n\")\n",
        "\n",
        "print(demo_df2.dtypes)"
      ],
      "execution_count": null,
      "outputs": [
        {
          "output_type": "stream",
          "text": [
            "          Name  Age Favourite Colour Date of Birth  Height\n",
            "ID                                                        \n",
            "B5443   Dallas   42              Red    1979-06-29    1760\n",
            "H5655     Kane   39           Purple    1982-06-29    1801\n",
            "Y4355   Ripley   29           Orange    1992-06-27    1650\n",
            "T5434      Ash   40            Green    1981-01-07    1720\n",
            "B1123  Lambert   26             Pink    1995-06-29    1820\n",
            "R6954   Parker   27             Blue    1994-06-30    1755\n",
            "D5543    Brett   30           Orange    1991-02-07    1545\n",
            "L6546    Jones    5             none    2016-06-26      20 \n",
            "\n",
            "Name                        object\n",
            "Age                          int64\n",
            "Favourite Colour            object\n",
            "Date of Birth       datetime64[ns]\n",
            "Height                       int64\n",
            "dtype: object\n"
          ],
          "name": "stdout"
        }
      ]
    },
    {
      "cell_type": "markdown",
      "metadata": {
        "id": "MWuomNAROYnR"
      },
      "source": [
        "Now all of our columns are the correct datatype. There are many more arguments not covered here that can be used to deal with messy csv data."
      ]
    },
    {
      "cell_type": "code",
      "metadata": {
        "id": "TWsO-mGXomhv"
      },
      "source": [
        "#Task 64. Here is the URL for a dataset we're going to be looking at later on. Load it into a dataframe called \"cereal_df\"\n",
        "https://raw.githubusercontent.com/nhs-pycom/coding-club-IntroPython-5/main/cereal.csv"
      ],
      "execution_count": null,
      "outputs": []
    },
    {
      "cell_type": "markdown",
      "metadata": {
        "id": "rWwm379al6bV"
      },
      "source": [
        "##**Examining a Dataframe**\n",
        "\n",
        "Here are a few useful commands you can use to examine a dataframe:"
      ]
    },
    {
      "cell_type": "code",
      "metadata": {
        "id": "3lwQu0V1ykmo",
        "colab": {
          "base_uri": "https://localhost:8080/",
          "height": 328
        },
        "outputId": "72465dbb-43b9-41f5-f936-e9c118b7bdcf"
      },
      "source": [
        "#Returns the top 5 rows in a dataframe. Tail does the same for the last 5 rows. \n",
        "demo_df2.tail(10)"
      ],
      "execution_count": null,
      "outputs": [
        {
          "output_type": "execute_result",
          "data": {
            "text/html": [
              "<div>\n",
              "<style scoped>\n",
              "    .dataframe tbody tr th:only-of-type {\n",
              "        vertical-align: middle;\n",
              "    }\n",
              "\n",
              "    .dataframe tbody tr th {\n",
              "        vertical-align: top;\n",
              "    }\n",
              "\n",
              "    .dataframe thead th {\n",
              "        text-align: right;\n",
              "    }\n",
              "</style>\n",
              "<table border=\"1\" class=\"dataframe\">\n",
              "  <thead>\n",
              "    <tr style=\"text-align: right;\">\n",
              "      <th></th>\n",
              "      <th>Name</th>\n",
              "      <th>Age</th>\n",
              "      <th>Favourite Colour</th>\n",
              "      <th>Date of Birth</th>\n",
              "      <th>Height</th>\n",
              "    </tr>\n",
              "    <tr>\n",
              "      <th>ID</th>\n",
              "      <th></th>\n",
              "      <th></th>\n",
              "      <th></th>\n",
              "      <th></th>\n",
              "      <th></th>\n",
              "    </tr>\n",
              "  </thead>\n",
              "  <tbody>\n",
              "    <tr>\n",
              "      <th>B5443</th>\n",
              "      <td>Dallas</td>\n",
              "      <td>42</td>\n",
              "      <td>Red</td>\n",
              "      <td>1979-06-29</td>\n",
              "      <td>1760</td>\n",
              "    </tr>\n",
              "    <tr>\n",
              "      <th>H5655</th>\n",
              "      <td>Kane</td>\n",
              "      <td>39</td>\n",
              "      <td>Purple</td>\n",
              "      <td>1982-06-29</td>\n",
              "      <td>1801</td>\n",
              "    </tr>\n",
              "    <tr>\n",
              "      <th>Y4355</th>\n",
              "      <td>Ripley</td>\n",
              "      <td>29</td>\n",
              "      <td>Orange</td>\n",
              "      <td>1992-06-27</td>\n",
              "      <td>1650</td>\n",
              "    </tr>\n",
              "    <tr>\n",
              "      <th>T5434</th>\n",
              "      <td>Ash</td>\n",
              "      <td>40</td>\n",
              "      <td>Green</td>\n",
              "      <td>1981-01-07</td>\n",
              "      <td>1720</td>\n",
              "    </tr>\n",
              "    <tr>\n",
              "      <th>B1123</th>\n",
              "      <td>Lambert</td>\n",
              "      <td>26</td>\n",
              "      <td>Pink</td>\n",
              "      <td>1995-06-29</td>\n",
              "      <td>1820</td>\n",
              "    </tr>\n",
              "    <tr>\n",
              "      <th>R6954</th>\n",
              "      <td>Parker</td>\n",
              "      <td>27</td>\n",
              "      <td>Blue</td>\n",
              "      <td>1994-06-30</td>\n",
              "      <td>1755</td>\n",
              "    </tr>\n",
              "    <tr>\n",
              "      <th>D5543</th>\n",
              "      <td>Brett</td>\n",
              "      <td>30</td>\n",
              "      <td>Orange</td>\n",
              "      <td>1991-02-07</td>\n",
              "      <td>1545</td>\n",
              "    </tr>\n",
              "    <tr>\n",
              "      <th>L6546</th>\n",
              "      <td>Jones</td>\n",
              "      <td>5</td>\n",
              "      <td>none</td>\n",
              "      <td>2016-06-26</td>\n",
              "      <td>20</td>\n",
              "    </tr>\n",
              "  </tbody>\n",
              "</table>\n",
              "</div>"
            ],
            "text/plain": [
              "          Name  Age Favourite Colour Date of Birth  Height\n",
              "ID                                                        \n",
              "B5443   Dallas   42              Red    1979-06-29    1760\n",
              "H5655     Kane   39           Purple    1982-06-29    1801\n",
              "Y4355   Ripley   29           Orange    1992-06-27    1650\n",
              "T5434      Ash   40            Green    1981-01-07    1720\n",
              "B1123  Lambert   26             Pink    1995-06-29    1820\n",
              "R6954   Parker   27             Blue    1994-06-30    1755\n",
              "D5543    Brett   30           Orange    1991-02-07    1545\n",
              "L6546    Jones    5             none    2016-06-26      20"
            ]
          },
          "metadata": {
            "tags": []
          },
          "execution_count": 23
        }
      ]
    },
    {
      "cell_type": "code",
      "metadata": {
        "id": "pcXkMVYOx8iq",
        "colab": {
          "base_uri": "https://localhost:8080/",
          "height": 506
        },
        "outputId": "cbb902dc-a223-459f-f8dc-372453c5f807"
      },
      "source": [
        "#provides descriptive stats for each column. Only includes numeric columns unless you use the  argument. Only certain stats can be applied to non-numeric fields.\n",
        "demo_df2.describe(include='all')"
      ],
      "execution_count": null,
      "outputs": [
        {
          "output_type": "stream",
          "text": [
            "/usr/local/lib/python3.7/dist-packages/ipykernel_launcher.py:2: FutureWarning: Treating datetime data as categorical rather than numeric in `.describe` is deprecated and will be removed in a future version of pandas. Specify `datetime_is_numeric=True` to silence this warning and adopt the future behavior now.\n",
            "  \n"
          ],
          "name": "stderr"
        },
        {
          "output_type": "execute_result",
          "data": {
            "text/html": [
              "<div>\n",
              "<style scoped>\n",
              "    .dataframe tbody tr th:only-of-type {\n",
              "        vertical-align: middle;\n",
              "    }\n",
              "\n",
              "    .dataframe tbody tr th {\n",
              "        vertical-align: top;\n",
              "    }\n",
              "\n",
              "    .dataframe thead th {\n",
              "        text-align: right;\n",
              "    }\n",
              "</style>\n",
              "<table border=\"1\" class=\"dataframe\">\n",
              "  <thead>\n",
              "    <tr style=\"text-align: right;\">\n",
              "      <th></th>\n",
              "      <th>Name</th>\n",
              "      <th>Age</th>\n",
              "      <th>Favourite Colour</th>\n",
              "      <th>Date of Birth</th>\n",
              "      <th>Height</th>\n",
              "    </tr>\n",
              "  </thead>\n",
              "  <tbody>\n",
              "    <tr>\n",
              "      <th>count</th>\n",
              "      <td>8</td>\n",
              "      <td>8.000000</td>\n",
              "      <td>8</td>\n",
              "      <td>8</td>\n",
              "      <td>8.000000</td>\n",
              "    </tr>\n",
              "    <tr>\n",
              "      <th>unique</th>\n",
              "      <td>8</td>\n",
              "      <td>NaN</td>\n",
              "      <td>7</td>\n",
              "      <td>8</td>\n",
              "      <td>NaN</td>\n",
              "    </tr>\n",
              "    <tr>\n",
              "      <th>top</th>\n",
              "      <td>Brett</td>\n",
              "      <td>NaN</td>\n",
              "      <td>Orange</td>\n",
              "      <td>1994-06-30 00:00:00</td>\n",
              "      <td>NaN</td>\n",
              "    </tr>\n",
              "    <tr>\n",
              "      <th>freq</th>\n",
              "      <td>1</td>\n",
              "      <td>NaN</td>\n",
              "      <td>2</td>\n",
              "      <td>1</td>\n",
              "      <td>NaN</td>\n",
              "    </tr>\n",
              "    <tr>\n",
              "      <th>first</th>\n",
              "      <td>NaN</td>\n",
              "      <td>NaN</td>\n",
              "      <td>NaN</td>\n",
              "      <td>1979-06-29 00:00:00</td>\n",
              "      <td>NaN</td>\n",
              "    </tr>\n",
              "    <tr>\n",
              "      <th>last</th>\n",
              "      <td>NaN</td>\n",
              "      <td>NaN</td>\n",
              "      <td>NaN</td>\n",
              "      <td>2016-06-26 00:00:00</td>\n",
              "      <td>NaN</td>\n",
              "    </tr>\n",
              "    <tr>\n",
              "      <th>mean</th>\n",
              "      <td>NaN</td>\n",
              "      <td>29.750000</td>\n",
              "      <td>NaN</td>\n",
              "      <td>NaN</td>\n",
              "      <td>1508.875000</td>\n",
              "    </tr>\n",
              "    <tr>\n",
              "      <th>std</th>\n",
              "      <td>NaN</td>\n",
              "      <td>11.804963</td>\n",
              "      <td>NaN</td>\n",
              "      <td>NaN</td>\n",
              "      <td>608.079045</td>\n",
              "    </tr>\n",
              "    <tr>\n",
              "      <th>min</th>\n",
              "      <td>NaN</td>\n",
              "      <td>5.000000</td>\n",
              "      <td>NaN</td>\n",
              "      <td>NaN</td>\n",
              "      <td>20.000000</td>\n",
              "    </tr>\n",
              "    <tr>\n",
              "      <th>25%</th>\n",
              "      <td>NaN</td>\n",
              "      <td>26.750000</td>\n",
              "      <td>NaN</td>\n",
              "      <td>NaN</td>\n",
              "      <td>1623.750000</td>\n",
              "    </tr>\n",
              "    <tr>\n",
              "      <th>50%</th>\n",
              "      <td>NaN</td>\n",
              "      <td>29.500000</td>\n",
              "      <td>NaN</td>\n",
              "      <td>NaN</td>\n",
              "      <td>1737.500000</td>\n",
              "    </tr>\n",
              "    <tr>\n",
              "      <th>75%</th>\n",
              "      <td>NaN</td>\n",
              "      <td>39.250000</td>\n",
              "      <td>NaN</td>\n",
              "      <td>NaN</td>\n",
              "      <td>1770.250000</td>\n",
              "    </tr>\n",
              "    <tr>\n",
              "      <th>max</th>\n",
              "      <td>NaN</td>\n",
              "      <td>42.000000</td>\n",
              "      <td>NaN</td>\n",
              "      <td>NaN</td>\n",
              "      <td>1820.000000</td>\n",
              "    </tr>\n",
              "  </tbody>\n",
              "</table>\n",
              "</div>"
            ],
            "text/plain": [
              "         Name        Age Favourite Colour        Date of Birth       Height\n",
              "count       8   8.000000                8                    8     8.000000\n",
              "unique      8        NaN                7                    8          NaN\n",
              "top     Brett        NaN           Orange  1994-06-30 00:00:00          NaN\n",
              "freq        1        NaN                2                    1          NaN\n",
              "first     NaN        NaN              NaN  1979-06-29 00:00:00          NaN\n",
              "last      NaN        NaN              NaN  2016-06-26 00:00:00          NaN\n",
              "mean      NaN  29.750000              NaN                  NaN  1508.875000\n",
              "std       NaN  11.804963              NaN                  NaN   608.079045\n",
              "min       NaN   5.000000              NaN                  NaN    20.000000\n",
              "25%       NaN  26.750000              NaN                  NaN  1623.750000\n",
              "50%       NaN  29.500000              NaN                  NaN  1737.500000\n",
              "75%       NaN  39.250000              NaN                  NaN  1770.250000\n",
              "max       NaN  42.000000              NaN                  NaN  1820.000000"
            ]
          },
          "metadata": {
            "tags": []
          },
          "execution_count": 25
        }
      ]
    },
    {
      "cell_type": "code",
      "metadata": {
        "id": "mkNp7kUpG_nj",
        "colab": {
          "base_uri": "https://localhost:8080/"
        },
        "outputId": "509362de-1230-4967-a686-d542969db930"
      },
      "source": [
        "#can also produce stats for individual columns. These are useful if you want to assign them to a variable and use as an input elsewhere. \n",
        "a = demo_df2['Height'].max()\n",
        "b = demo_df2['Height'].mean()\n",
        "\n",
        "print(\"Max:\", round(a,1), \" Mean:\", round(b,1))"
      ],
      "execution_count": null,
      "outputs": [
        {
          "output_type": "stream",
          "text": [
            "Max: 1820  Mean: 1508.9\n"
          ],
          "name": "stdout"
        }
      ]
    },
    {
      "cell_type": "code",
      "metadata": {
        "id": "5eGWAP2M5MHK",
        "colab": {
          "base_uri": "https://localhost:8080/",
          "height": 316
        },
        "outputId": "daec697d-65ae-4b62-b0b6-8a55e29cf842"
      },
      "source": [
        "#Task 65: calculating the range of the age column by finding the max, and deducting the min from it. \n",
        "range_age = demo_df2['Age'].max() - demo_df2['Age'].min()\n",
        "range_age\n"
      ],
      "execution_count": null,
      "outputs": [
        {
          "output_type": "error",
          "ename": "AttributeError",
          "evalue": "ignored",
          "traceback": [
            "\u001b[0;31m---------------------------------------------------------------------------\u001b[0m",
            "\u001b[0;31mAttributeError\u001b[0m                            Traceback (most recent call last)",
            "\u001b[0;32m<ipython-input-29-24306a173f10>\u001b[0m in \u001b[0;36m<module>\u001b[0;34m()\u001b[0m\n\u001b[1;32m      3\u001b[0m \u001b[0mrange_age\u001b[0m\u001b[0;34m\u001b[0m\u001b[0;34m\u001b[0m\u001b[0m\n\u001b[1;32m      4\u001b[0m \u001b[0;34m\u001b[0m\u001b[0m\n\u001b[0;32m----> 5\u001b[0;31m \u001b[0mdemo_df2\u001b[0m\u001b[0;34m[\u001b[0m\u001b[0;34m'Height'\u001b[0m\u001b[0;34m]\u001b[0m\u001b[0;34m.\u001b[0m\u001b[0mrnge\u001b[0m\u001b[0;34m(\u001b[0m\u001b[0;34m)\u001b[0m\u001b[0;34m\u001b[0m\u001b[0;34m\u001b[0m\u001b[0m\n\u001b[0m",
            "\u001b[0;32m/usr/local/lib/python3.7/dist-packages/pandas/core/generic.py\u001b[0m in \u001b[0;36m__getattr__\u001b[0;34m(self, name)\u001b[0m\n\u001b[1;32m   5139\u001b[0m             \u001b[0;32mif\u001b[0m \u001b[0mself\u001b[0m\u001b[0;34m.\u001b[0m\u001b[0m_info_axis\u001b[0m\u001b[0;34m.\u001b[0m\u001b[0m_can_hold_identifiers_and_holds_name\u001b[0m\u001b[0;34m(\u001b[0m\u001b[0mname\u001b[0m\u001b[0;34m)\u001b[0m\u001b[0;34m:\u001b[0m\u001b[0;34m\u001b[0m\u001b[0;34m\u001b[0m\u001b[0m\n\u001b[1;32m   5140\u001b[0m                 \u001b[0;32mreturn\u001b[0m \u001b[0mself\u001b[0m\u001b[0;34m[\u001b[0m\u001b[0mname\u001b[0m\u001b[0;34m]\u001b[0m\u001b[0;34m\u001b[0m\u001b[0;34m\u001b[0m\u001b[0m\n\u001b[0;32m-> 5141\u001b[0;31m             \u001b[0;32mreturn\u001b[0m \u001b[0mobject\u001b[0m\u001b[0;34m.\u001b[0m\u001b[0m__getattribute__\u001b[0m\u001b[0;34m(\u001b[0m\u001b[0mself\u001b[0m\u001b[0;34m,\u001b[0m \u001b[0mname\u001b[0m\u001b[0;34m)\u001b[0m\u001b[0;34m\u001b[0m\u001b[0;34m\u001b[0m\u001b[0m\n\u001b[0m\u001b[1;32m   5142\u001b[0m \u001b[0;34m\u001b[0m\u001b[0m\n\u001b[1;32m   5143\u001b[0m     \u001b[0;32mdef\u001b[0m \u001b[0m__setattr__\u001b[0m\u001b[0;34m(\u001b[0m\u001b[0mself\u001b[0m\u001b[0;34m,\u001b[0m \u001b[0mname\u001b[0m\u001b[0;34m:\u001b[0m \u001b[0mstr\u001b[0m\u001b[0;34m,\u001b[0m \u001b[0mvalue\u001b[0m\u001b[0;34m)\u001b[0m \u001b[0;34m->\u001b[0m \u001b[0;32mNone\u001b[0m\u001b[0;34m:\u001b[0m\u001b[0;34m\u001b[0m\u001b[0;34m\u001b[0m\u001b[0m\n",
            "\u001b[0;31mAttributeError\u001b[0m: 'Series' object has no attribute 'rnge'"
          ]
        }
      ]
    },
    {
      "cell_type": "markdown",
      "metadata": {
        "id": "mgxfpO5qHbHo"
      },
      "source": [
        "##**Appending and Dropping rows and columns**\n",
        "\n"
      ]
    },
    {
      "cell_type": "markdown",
      "metadata": {
        "id": "zAQZCJHhw1HV"
      },
      "source": [
        "A new column can be easily added by picking a name and assigning some data. Here we have added a rank column to the dataframe."
      ]
    },
    {
      "cell_type": "code",
      "metadata": {
        "id": "2QDpJsxXxpyO",
        "colab": {
          "base_uri": "https://localhost:8080/"
        },
        "outputId": "7312f1ed-436f-439b-a8cb-2376e17b3e4a"
      },
      "source": [
        "ranks = ['Captain', 'Executive Officer', \"Warrant Office\", \"Science Officer\", \"Navigator\", \"Chief Engingeer\", \"Engineering Technician\", \"Cat\"]\n",
        "\n",
        "demo_df2['Rank'] = ranks\n",
        "print(demo_df2)"
      ],
      "execution_count": null,
      "outputs": [
        {
          "output_type": "stream",
          "text": [
            "          Name  Age  ... Height                    Rank\n",
            "ID                   ...                               \n",
            "B5443   Dallas   42  ...   1760                 Captain\n",
            "H5655     Kane   39  ...   1801       Executive Officer\n",
            "Y4355   Ripley   29  ...   1650          Warrant Office\n",
            "T5434      Ash   40  ...   1720         Science Officer\n",
            "B1123  Lambert   26  ...   1820               Navigator\n",
            "R6954   Parker   27  ...   1755         Chief Engingeer\n",
            "D5543    Brett   30  ...   1545  Engineering Technician\n",
            "L6546    Jones    5  ...     20                     Cat\n",
            "\n",
            "[8 rows x 6 columns]\n"
          ],
          "name": "stdout"
        }
      ]
    },
    {
      "cell_type": "code",
      "metadata": {
        "id": "B6ELU44J4D5_",
        "colab": {
          "base_uri": "https://localhost:8080/",
          "height": 328
        },
        "outputId": "9f188ca9-bce5-440b-c08b-84f67f2c0423"
      },
      "source": [
        "demo_df2_new_row = pd.DataFrame([['Xeno',1,'red','29/06/1982', 'acid', 1900, 'Stowaway']], columns =['Name', 'Age', 'Favourite Colour', 'Date of Birth', 'Blood Type', 'Height', 'Rank'], index = [\"99999\"])\n",
        "demo_df2_new_row[\"Date of Birth\"] = pd.to_datetime(demo_df2_new_row[\"Date of Birth\"])  \n",
        "\n",
        "demo_df2.append(demo_df2_new_row)"
      ],
      "execution_count": null,
      "outputs": [
        {
          "output_type": "execute_result",
          "data": {
            "text/html": [
              "<div>\n",
              "<style scoped>\n",
              "    .dataframe tbody tr th:only-of-type {\n",
              "        vertical-align: middle;\n",
              "    }\n",
              "\n",
              "    .dataframe tbody tr th {\n",
              "        vertical-align: top;\n",
              "    }\n",
              "\n",
              "    .dataframe thead th {\n",
              "        text-align: right;\n",
              "    }\n",
              "</style>\n",
              "<table border=\"1\" class=\"dataframe\">\n",
              "  <thead>\n",
              "    <tr style=\"text-align: right;\">\n",
              "      <th></th>\n",
              "      <th>Name</th>\n",
              "      <th>Age</th>\n",
              "      <th>Favourite Colour</th>\n",
              "      <th>Date of Birth</th>\n",
              "      <th>Height</th>\n",
              "      <th>Rank</th>\n",
              "      <th>Blood Type</th>\n",
              "    </tr>\n",
              "  </thead>\n",
              "  <tbody>\n",
              "    <tr>\n",
              "      <th>B5443</th>\n",
              "      <td>Dallas</td>\n",
              "      <td>42</td>\n",
              "      <td>Red</td>\n",
              "      <td>1979-06-29</td>\n",
              "      <td>1760</td>\n",
              "      <td>Captain</td>\n",
              "      <td>NaN</td>\n",
              "    </tr>\n",
              "    <tr>\n",
              "      <th>H5655</th>\n",
              "      <td>Kane</td>\n",
              "      <td>39</td>\n",
              "      <td>Purple</td>\n",
              "      <td>1982-06-29</td>\n",
              "      <td>1801</td>\n",
              "      <td>Executive Officer</td>\n",
              "      <td>NaN</td>\n",
              "    </tr>\n",
              "    <tr>\n",
              "      <th>Y4355</th>\n",
              "      <td>Ripley</td>\n",
              "      <td>29</td>\n",
              "      <td>Orange</td>\n",
              "      <td>1992-06-27</td>\n",
              "      <td>1650</td>\n",
              "      <td>Warrant Office</td>\n",
              "      <td>NaN</td>\n",
              "    </tr>\n",
              "    <tr>\n",
              "      <th>T5434</th>\n",
              "      <td>Ash</td>\n",
              "      <td>40</td>\n",
              "      <td>Green</td>\n",
              "      <td>1981-01-07</td>\n",
              "      <td>1720</td>\n",
              "      <td>Science Officer</td>\n",
              "      <td>NaN</td>\n",
              "    </tr>\n",
              "    <tr>\n",
              "      <th>B1123</th>\n",
              "      <td>Lambert</td>\n",
              "      <td>26</td>\n",
              "      <td>Pink</td>\n",
              "      <td>1995-06-29</td>\n",
              "      <td>1820</td>\n",
              "      <td>Navigator</td>\n",
              "      <td>NaN</td>\n",
              "    </tr>\n",
              "    <tr>\n",
              "      <th>R6954</th>\n",
              "      <td>Parker</td>\n",
              "      <td>27</td>\n",
              "      <td>Blue</td>\n",
              "      <td>1994-06-30</td>\n",
              "      <td>1755</td>\n",
              "      <td>Chief Engingeer</td>\n",
              "      <td>NaN</td>\n",
              "    </tr>\n",
              "    <tr>\n",
              "      <th>D5543</th>\n",
              "      <td>Brett</td>\n",
              "      <td>30</td>\n",
              "      <td>Orange</td>\n",
              "      <td>1991-02-07</td>\n",
              "      <td>1545</td>\n",
              "      <td>Engineering Technician</td>\n",
              "      <td>NaN</td>\n",
              "    </tr>\n",
              "    <tr>\n",
              "      <th>L6546</th>\n",
              "      <td>Jones</td>\n",
              "      <td>5</td>\n",
              "      <td>none</td>\n",
              "      <td>2016-06-26</td>\n",
              "      <td>20</td>\n",
              "      <td>Cat</td>\n",
              "      <td>NaN</td>\n",
              "    </tr>\n",
              "    <tr>\n",
              "      <th>99999</th>\n",
              "      <td>Xeno</td>\n",
              "      <td>1</td>\n",
              "      <td>red</td>\n",
              "      <td>1982-06-29</td>\n",
              "      <td>1900</td>\n",
              "      <td>Stowaway</td>\n",
              "      <td>acid</td>\n",
              "    </tr>\n",
              "  </tbody>\n",
              "</table>\n",
              "</div>"
            ],
            "text/plain": [
              "          Name  Age Favourite Colour  ... Height                    Rank Blood Type\n",
              "B5443   Dallas   42              Red  ...   1760                 Captain        NaN\n",
              "H5655     Kane   39           Purple  ...   1801       Executive Officer        NaN\n",
              "Y4355   Ripley   29           Orange  ...   1650          Warrant Office        NaN\n",
              "T5434      Ash   40            Green  ...   1720         Science Officer        NaN\n",
              "B1123  Lambert   26             Pink  ...   1820               Navigator        NaN\n",
              "R6954   Parker   27             Blue  ...   1755         Chief Engingeer        NaN\n",
              "D5543    Brett   30           Orange  ...   1545  Engineering Technician        NaN\n",
              "L6546    Jones    5             none  ...     20                     Cat        NaN\n",
              "99999     Xeno    1              red  ...   1900                Stowaway       acid\n",
              "\n",
              "[9 rows x 7 columns]"
            ]
          },
          "metadata": {
            "tags": []
          },
          "execution_count": 31
        }
      ]
    },
    {
      "cell_type": "markdown",
      "metadata": {
        "id": "CvZ60nDO6zLO"
      },
      "source": [
        "If we have another dataframe with the same columns, we can append it to the end of our dataframe. with the .append method. Any columns not present in the original will be added to the original dataframe and populated with nulls.\n",
        "\n",
        "The process creates a new object rather than updating the original. If we wanted to make this change permanent, we would need to assign the output of this process back to the original dataframe name. \n"
      ]
    },
    {
      "cell_type": "markdown",
      "metadata": {
        "id": "ZSadh_cgw6rT"
      },
      "source": [
        "You can drop a row or column using its index using the drop method. You specify if it is a row (axis = 0) or column (axis = 1)."
      ]
    },
    {
      "cell_type": "code",
      "metadata": {
        "id": "UnJaHyerjpEc"
      },
      "source": [
        "demo_df2.drop('Age', axis = 1)"
      ],
      "execution_count": null,
      "outputs": []
    },
    {
      "cell_type": "code",
      "metadata": {
        "id": "20vXDa0QkQ5Z",
        "colab": {
          "base_uri": "https://localhost:8080/"
        },
        "outputId": "185fafbd-e292-4a6f-d4da-ffcfcf197e7c"
      },
      "source": [
        "#If you add the argument inplace=True, the method will modify the actual dataframe, rather than creating a new one. \n",
        "#Be careful though, this means the element you drop is permanently gone. We will make a copy of our dataframe to do this. \n",
        "demo_df2_copy = demo_df2.copy()\n",
        "\n",
        "demo_df2_copy.drop('H5655', axis = 0, inplace = True)\n",
        "print(demo_df2_copy)"
      ],
      "execution_count": null,
      "outputs": [
        {
          "output_type": "stream",
          "text": [
            "          Name  Age  ... Height                    Rank\n",
            "ID                   ...                               \n",
            "B5443   Dallas   42  ...   1760                 Captain\n",
            "H5655     Kane   39  ...   1801       Executive Officer\n",
            "Y4355   Ripley   29  ...   1650          Warrant Office\n",
            "T5434      Ash   40  ...   1720         Science Officer\n",
            "B1123  Lambert   26  ...   1820               Navigator\n",
            "R6954   Parker   27  ...   1755         Chief Engingeer\n",
            "D5543    Brett   30  ...   1545  Engineering Technician\n",
            "L6546    Jones    5  ...     20                     Cat\n",
            "\n",
            "[8 rows x 6 columns]\n"
          ],
          "name": "stdout"
        }
      ]
    },
    {
      "cell_type": "code",
      "metadata": {
        "id": "1bClnbspxyXx",
        "colab": {
          "base_uri": "https://localhost:8080/"
        },
        "outputId": "2631e50c-45e3-4229-8444-e84423585684"
      },
      "source": [
        "#Task 66: drop Lambert's entry, and the height column, from the copy of the dataframe.\n",
        "#demo_df2_copy.drop('B1123', axis = 0, inplace = True)\n",
        "#demo_df2_copy.drop('Height', axis = 1, inplace = True)\n",
        "print(demo_df2_copy)"
      ],
      "execution_count": null,
      "outputs": [
        {
          "output_type": "stream",
          "text": [
            "         Name  Age Favourite Colour Date of Birth                    Rank\n",
            "ID                                                                       \n",
            "B5443  Dallas   42              Red    1979-06-29                 Captain\n",
            "H5655    Kane   39           Purple    1982-06-29       Executive Officer\n",
            "Y4355  Ripley   29           Orange    1992-06-27          Warrant Office\n",
            "T5434     Ash   40            Green    1981-01-07         Science Officer\n",
            "R6954  Parker   27             Blue    1994-06-30         Chief Engingeer\n",
            "D5543   Brett   30           Orange    1991-02-07  Engineering Technician\n",
            "L6546   Jones    5             none    2016-06-26                     Cat\n"
          ],
          "name": "stdout"
        }
      ]
    },
    {
      "cell_type": "markdown",
      "metadata": {
        "id": "DzCigTCDXj08"
      },
      "source": [
        "##**Selecting Data In a Dataframe** \n",
        "\n",
        "The mechanisms to select data from a dataframe are a bit unintuitive. However, learning them properly can help to mitigate that. \n",
        "\n",
        "You can select data by passing one or more column names. However, this only works for columns, and passing row indexes will result in an error. "
      ]
    },
    {
      "cell_type": "code",
      "metadata": {
        "id": "7N0LxJZ0X0VH",
        "colab": {
          "base_uri": "https://localhost:8080/"
        },
        "outputId": "2da641b5-d5e5-47b6-ac7a-b200c0c8f222"
      },
      "source": [
        "print(demo_df2['Name'])\n",
        "\n",
        "print(demo_df2[['Name','Age']])"
      ],
      "execution_count": null,
      "outputs": [
        {
          "output_type": "stream",
          "text": [
            "ID\n",
            "B5443     Dallas\n",
            "H5655       Kane\n",
            "Y4355     Ripley\n",
            "T5434        Ash\n",
            "B1123    Lambert\n",
            "R6954     Parker\n",
            "D5543      Brett\n",
            "L6546      Jones\n",
            "Name: Name, dtype: object\n",
            "          Name  Age\n",
            "ID                 \n",
            "B5443   Dallas   42\n",
            "H5655     Kane   39\n",
            "Y4355   Ripley   29\n",
            "T5434      Ash   40\n",
            "B1123  Lambert   26\n",
            "R6954   Parker   27\n",
            "D5543    Brett   30\n",
            "L6546    Jones    5\n"
          ],
          "name": "stdout"
        }
      ]
    },
    {
      "cell_type": "code",
      "metadata": {
        "id": "1WJiCAVTZ7xT",
        "colab": {
          "base_uri": "https://localhost:8080/",
          "height": 173
        },
        "outputId": "4cf46da8-9193-439d-d048-1e1c26b4b45f"
      },
      "source": [
        "#EXCEPTION1 - Passing it a slice will give you rows. This is both annoying and useful. \n",
        "demo_df2[3:6]"
      ],
      "execution_count": null,
      "outputs": [
        {
          "output_type": "execute_result",
          "data": {
            "text/html": [
              "<div>\n",
              "<style scoped>\n",
              "    .dataframe tbody tr th:only-of-type {\n",
              "        vertical-align: middle;\n",
              "    }\n",
              "\n",
              "    .dataframe tbody tr th {\n",
              "        vertical-align: top;\n",
              "    }\n",
              "\n",
              "    .dataframe thead th {\n",
              "        text-align: right;\n",
              "    }\n",
              "</style>\n",
              "<table border=\"1\" class=\"dataframe\">\n",
              "  <thead>\n",
              "    <tr style=\"text-align: right;\">\n",
              "      <th></th>\n",
              "      <th>Name</th>\n",
              "      <th>Age</th>\n",
              "      <th>Favourite Colour</th>\n",
              "      <th>Date of Birth</th>\n",
              "      <th>Height</th>\n",
              "      <th>Rank</th>\n",
              "    </tr>\n",
              "    <tr>\n",
              "      <th>ID</th>\n",
              "      <th></th>\n",
              "      <th></th>\n",
              "      <th></th>\n",
              "      <th></th>\n",
              "      <th></th>\n",
              "      <th></th>\n",
              "    </tr>\n",
              "  </thead>\n",
              "  <tbody>\n",
              "    <tr>\n",
              "      <th>T5434</th>\n",
              "      <td>Ash</td>\n",
              "      <td>40</td>\n",
              "      <td>Green</td>\n",
              "      <td>1981-01-07</td>\n",
              "      <td>1720</td>\n",
              "      <td>Science Officer</td>\n",
              "    </tr>\n",
              "    <tr>\n",
              "      <th>B1123</th>\n",
              "      <td>Lambert</td>\n",
              "      <td>26</td>\n",
              "      <td>Pink</td>\n",
              "      <td>1995-06-29</td>\n",
              "      <td>1820</td>\n",
              "      <td>Navigator</td>\n",
              "    </tr>\n",
              "    <tr>\n",
              "      <th>R6954</th>\n",
              "      <td>Parker</td>\n",
              "      <td>27</td>\n",
              "      <td>Blue</td>\n",
              "      <td>1994-06-30</td>\n",
              "      <td>1755</td>\n",
              "      <td>Chief Engingeer</td>\n",
              "    </tr>\n",
              "  </tbody>\n",
              "</table>\n",
              "</div>"
            ],
            "text/plain": [
              "          Name  Age Favourite Colour Date of Birth  Height             Rank\n",
              "ID                                                                         \n",
              "T5434      Ash   40            Green    1981-01-07    1720  Science Officer\n",
              "B1123  Lambert   26             Pink    1995-06-29    1820        Navigator\n",
              "R6954   Parker   27             Blue    1994-06-30    1755  Chief Engingeer"
            ]
          },
          "metadata": {
            "tags": []
          },
          "execution_count": 37
        }
      ]
    },
    {
      "cell_type": "code",
      "metadata": {
        "id": "c4rI8d1KasK-",
        "colab": {
          "base_uri": "https://localhost:8080/",
          "height": 235
        },
        "outputId": "b33c63d1-e6fe-4361-c3bc-e0b31b43713d"
      },
      "source": [
        "#EXCEPTION2 - passing it a boolean sequence will also give you rows (more on this later)\n",
        "demo_df2[[True, True, False, False, False, True, True, True]]"
      ],
      "execution_count": null,
      "outputs": [
        {
          "output_type": "execute_result",
          "data": {
            "text/html": [
              "<div>\n",
              "<style scoped>\n",
              "    .dataframe tbody tr th:only-of-type {\n",
              "        vertical-align: middle;\n",
              "    }\n",
              "\n",
              "    .dataframe tbody tr th {\n",
              "        vertical-align: top;\n",
              "    }\n",
              "\n",
              "    .dataframe thead th {\n",
              "        text-align: right;\n",
              "    }\n",
              "</style>\n",
              "<table border=\"1\" class=\"dataframe\">\n",
              "  <thead>\n",
              "    <tr style=\"text-align: right;\">\n",
              "      <th></th>\n",
              "      <th>Name</th>\n",
              "      <th>Age</th>\n",
              "      <th>Favourite Colour</th>\n",
              "      <th>Date of Birth</th>\n",
              "      <th>Height</th>\n",
              "      <th>Rank</th>\n",
              "    </tr>\n",
              "    <tr>\n",
              "      <th>ID</th>\n",
              "      <th></th>\n",
              "      <th></th>\n",
              "      <th></th>\n",
              "      <th></th>\n",
              "      <th></th>\n",
              "      <th></th>\n",
              "    </tr>\n",
              "  </thead>\n",
              "  <tbody>\n",
              "    <tr>\n",
              "      <th>B5443</th>\n",
              "      <td>Dallas</td>\n",
              "      <td>42</td>\n",
              "      <td>Red</td>\n",
              "      <td>1979-06-29</td>\n",
              "      <td>1760</td>\n",
              "      <td>Captain</td>\n",
              "    </tr>\n",
              "    <tr>\n",
              "      <th>H5655</th>\n",
              "      <td>Kane</td>\n",
              "      <td>39</td>\n",
              "      <td>Purple</td>\n",
              "      <td>1982-06-29</td>\n",
              "      <td>1801</td>\n",
              "      <td>Executive Officer</td>\n",
              "    </tr>\n",
              "    <tr>\n",
              "      <th>R6954</th>\n",
              "      <td>Parker</td>\n",
              "      <td>27</td>\n",
              "      <td>Blue</td>\n",
              "      <td>1994-06-30</td>\n",
              "      <td>1755</td>\n",
              "      <td>Chief Engingeer</td>\n",
              "    </tr>\n",
              "    <tr>\n",
              "      <th>D5543</th>\n",
              "      <td>Brett</td>\n",
              "      <td>30</td>\n",
              "      <td>Orange</td>\n",
              "      <td>1991-02-07</td>\n",
              "      <td>1545</td>\n",
              "      <td>Engineering Technician</td>\n",
              "    </tr>\n",
              "    <tr>\n",
              "      <th>L6546</th>\n",
              "      <td>Jones</td>\n",
              "      <td>5</td>\n",
              "      <td>none</td>\n",
              "      <td>2016-06-26</td>\n",
              "      <td>20</td>\n",
              "      <td>Cat</td>\n",
              "    </tr>\n",
              "  </tbody>\n",
              "</table>\n",
              "</div>"
            ],
            "text/plain": [
              "         Name  Age  ... Height                    Rank\n",
              "ID                  ...                               \n",
              "B5443  Dallas   42  ...   1760                 Captain\n",
              "H5655    Kane   39  ...   1801       Executive Officer\n",
              "R6954  Parker   27  ...   1755         Chief Engingeer\n",
              "D5543   Brett   30  ...   1545  Engineering Technician\n",
              "L6546   Jones    5  ...     20                     Cat\n",
              "\n",
              "[5 rows x 6 columns]"
            ]
          },
          "metadata": {
            "tags": []
          },
          "execution_count": 38
        }
      ]
    },
    {
      "cell_type": "markdown",
      "metadata": {
        "id": "wElpHwiQX0zU"
      },
      "source": [
        "However, you are probably going to want to do more complex selection than that at some point. Which is where the **.loc** and **.iloc** methods comes in.  \n",
        "\n",
        "loc allows you to select a chunk of a dataframe via the index (rows) and column names. iloc allows you to do the same, but with integers representing the position within the datframe. \n"
      ]
    },
    {
      "cell_type": "code",
      "metadata": {
        "id": "qfV9kW-Vb5Tv",
        "colab": {
          "base_uri": "https://localhost:8080/"
        },
        "outputId": "d8ea955f-4f44-4e9d-de91-880085a99bc7"
      },
      "source": [
        "#loc allows you to specify row names and columns names (always in that order). You can pass a single value or a list for either:\n",
        "demo_df2.loc['B5443',['Name','Age','Height']]"
      ],
      "execution_count": null,
      "outputs": [
        {
          "output_type": "execute_result",
          "data": {
            "text/plain": [
              "Name      Dallas\n",
              "Age           42\n",
              "Height      1760\n",
              "Name: B5443, dtype: object"
            ]
          },
          "metadata": {
            "tags": []
          },
          "execution_count": 39
        }
      ]
    },
    {
      "cell_type": "code",
      "metadata": {
        "id": "n-qVM6DGb3C2",
        "colab": {
          "base_uri": "https://localhost:8080/"
        },
        "outputId": "117cd259-3660-4bfb-c81b-6338f79583af"
      },
      "source": [
        "#iloc allows you to specify row and column numbers. You can also pass a slice here:\n",
        "demo_df2.iloc[3:6,4]"
      ],
      "execution_count": null,
      "outputs": [
        {
          "output_type": "execute_result",
          "data": {
            "text/plain": [
              "ID\n",
              "T5434    1720\n",
              "B1123    1820\n",
              "R6954    1755\n",
              "Name: Height, dtype: int64"
            ]
          },
          "metadata": {
            "tags": []
          },
          "execution_count": 40
        }
      ]
    },
    {
      "cell_type": "code",
      "metadata": {
        "id": "Vcst5J_Xbkmn",
        "colab": {
          "base_uri": "https://localhost:8080/",
          "height": 142
        },
        "outputId": "2c07d1ec-6a43-4648-a7bb-51beecab1877"
      },
      "source": [
        "#you can also combine them, but this is frowned upon and you may be sent to Python jail. \n",
        "demo_df2.iloc[:,0:4].loc[['T5434','B1123'],:]"
      ],
      "execution_count": null,
      "outputs": [
        {
          "output_type": "execute_result",
          "data": {
            "text/html": [
              "<div>\n",
              "<style scoped>\n",
              "    .dataframe tbody tr th:only-of-type {\n",
              "        vertical-align: middle;\n",
              "    }\n",
              "\n",
              "    .dataframe tbody tr th {\n",
              "        vertical-align: top;\n",
              "    }\n",
              "\n",
              "    .dataframe thead th {\n",
              "        text-align: right;\n",
              "    }\n",
              "</style>\n",
              "<table border=\"1\" class=\"dataframe\">\n",
              "  <thead>\n",
              "    <tr style=\"text-align: right;\">\n",
              "      <th></th>\n",
              "      <th>Name</th>\n",
              "      <th>Age</th>\n",
              "      <th>Favourite Colour</th>\n",
              "      <th>Date of Birth</th>\n",
              "    </tr>\n",
              "    <tr>\n",
              "      <th>ID</th>\n",
              "      <th></th>\n",
              "      <th></th>\n",
              "      <th></th>\n",
              "      <th></th>\n",
              "    </tr>\n",
              "  </thead>\n",
              "  <tbody>\n",
              "    <tr>\n",
              "      <th>T5434</th>\n",
              "      <td>Ash</td>\n",
              "      <td>40</td>\n",
              "      <td>Green</td>\n",
              "      <td>1981-01-07</td>\n",
              "    </tr>\n",
              "    <tr>\n",
              "      <th>B1123</th>\n",
              "      <td>Lambert</td>\n",
              "      <td>26</td>\n",
              "      <td>Pink</td>\n",
              "      <td>1995-06-29</td>\n",
              "    </tr>\n",
              "  </tbody>\n",
              "</table>\n",
              "</div>"
            ],
            "text/plain": [
              "          Name  Age Favourite Colour Date of Birth\n",
              "ID                                                \n",
              "T5434      Ash   40            Green    1981-01-07\n",
              "B1123  Lambert   26             Pink    1995-06-29"
            ]
          },
          "metadata": {
            "tags": []
          },
          "execution_count": 41
        }
      ]
    },
    {
      "cell_type": "markdown",
      "metadata": {
        "id": "tLtkoJU7ECAS"
      },
      "source": [
        "**Conditional selection** is a very useful technique which allows you to select data based on some criteria. The mechanism was covered in the last session, whereby you create a sequence of boolean values, which are used to select rows. \n",
        "\n"
      ]
    },
    {
      "cell_type": "code",
      "metadata": {
        "id": "2-qkhk9ZElvu",
        "colab": {
          "base_uri": "https://localhost:8080/"
        },
        "outputId": "e82fc284-6824-407a-80b6-06e5bca52c0d"
      },
      "source": [
        "#this line of code produces series of boolean values. The value is true where the Age is geater than 30. \n",
        "demo_df2['Age'] >30"
      ],
      "execution_count": null,
      "outputs": [
        {
          "output_type": "execute_result",
          "data": {
            "text/plain": [
              "ID\n",
              "B5443     True\n",
              "H5655     True\n",
              "Y4355    False\n",
              "T5434     True\n",
              "B1123    False\n",
              "R6954    False\n",
              "D5543    False\n",
              "L6546    False\n",
              "Name: Age, dtype: bool"
            ]
          },
          "metadata": {
            "tags": []
          },
          "execution_count": 42
        }
      ]
    },
    {
      "cell_type": "code",
      "metadata": {
        "id": "0YvLbGe8FBwD",
        "colab": {
          "base_uri": "https://localhost:8080/",
          "height": 173
        },
        "outputId": "e8232932-91d6-4532-bf08-04a462a9edf4"
      },
      "source": [
        "#If we use that code as an input to the index, the list of boolean values is used to select rows from the data table,\n",
        "#returning each row that meets that criteria. THis is very useful for filtering data. \n",
        "demo_df2[demo_df2['Age'] >30]"
      ],
      "execution_count": null,
      "outputs": [
        {
          "output_type": "execute_result",
          "data": {
            "text/html": [
              "<div>\n",
              "<style scoped>\n",
              "    .dataframe tbody tr th:only-of-type {\n",
              "        vertical-align: middle;\n",
              "    }\n",
              "\n",
              "    .dataframe tbody tr th {\n",
              "        vertical-align: top;\n",
              "    }\n",
              "\n",
              "    .dataframe thead th {\n",
              "        text-align: right;\n",
              "    }\n",
              "</style>\n",
              "<table border=\"1\" class=\"dataframe\">\n",
              "  <thead>\n",
              "    <tr style=\"text-align: right;\">\n",
              "      <th></th>\n",
              "      <th>Name</th>\n",
              "      <th>Age</th>\n",
              "      <th>Favourite Colour</th>\n",
              "      <th>Date of Birth</th>\n",
              "      <th>Height</th>\n",
              "      <th>Rank</th>\n",
              "    </tr>\n",
              "    <tr>\n",
              "      <th>ID</th>\n",
              "      <th></th>\n",
              "      <th></th>\n",
              "      <th></th>\n",
              "      <th></th>\n",
              "      <th></th>\n",
              "      <th></th>\n",
              "    </tr>\n",
              "  </thead>\n",
              "  <tbody>\n",
              "    <tr>\n",
              "      <th>B5443</th>\n",
              "      <td>Dallas</td>\n",
              "      <td>42</td>\n",
              "      <td>Red</td>\n",
              "      <td>1979-06-29</td>\n",
              "      <td>1760</td>\n",
              "      <td>Captain</td>\n",
              "    </tr>\n",
              "    <tr>\n",
              "      <th>H5655</th>\n",
              "      <td>Kane</td>\n",
              "      <td>39</td>\n",
              "      <td>Purple</td>\n",
              "      <td>1982-06-29</td>\n",
              "      <td>1801</td>\n",
              "      <td>Executive Officer</td>\n",
              "    </tr>\n",
              "    <tr>\n",
              "      <th>T5434</th>\n",
              "      <td>Ash</td>\n",
              "      <td>40</td>\n",
              "      <td>Green</td>\n",
              "      <td>1981-01-07</td>\n",
              "      <td>1720</td>\n",
              "      <td>Science Officer</td>\n",
              "    </tr>\n",
              "  </tbody>\n",
              "</table>\n",
              "</div>"
            ],
            "text/plain": [
              "         Name  Age Favourite Colour Date of Birth  Height               Rank\n",
              "ID                                                                          \n",
              "B5443  Dallas   42              Red    1979-06-29    1760            Captain\n",
              "H5655    Kane   39           Purple    1982-06-29    1801  Executive Officer\n",
              "T5434     Ash   40            Green    1981-01-07    1720    Science Officer"
            ]
          },
          "metadata": {
            "tags": []
          },
          "execution_count": 43
        }
      ]
    },
    {
      "cell_type": "code",
      "metadata": {
        "id": "07CWtqy7G5Y2",
        "colab": {
          "base_uri": "https://localhost:8080/",
          "height": 142
        },
        "outputId": "2862c73c-0b2f-49a2-f044-993835463720"
      },
      "source": [
        "#you can add multiple criteria\n",
        "demo_df2[(demo_df2['Age'] >30) & (demo_df2['Height'] >1750)]"
      ],
      "execution_count": null,
      "outputs": [
        {
          "output_type": "execute_result",
          "data": {
            "text/html": [
              "<div>\n",
              "<style scoped>\n",
              "    .dataframe tbody tr th:only-of-type {\n",
              "        vertical-align: middle;\n",
              "    }\n",
              "\n",
              "    .dataframe tbody tr th {\n",
              "        vertical-align: top;\n",
              "    }\n",
              "\n",
              "    .dataframe thead th {\n",
              "        text-align: right;\n",
              "    }\n",
              "</style>\n",
              "<table border=\"1\" class=\"dataframe\">\n",
              "  <thead>\n",
              "    <tr style=\"text-align: right;\">\n",
              "      <th></th>\n",
              "      <th>Name</th>\n",
              "      <th>Age</th>\n",
              "      <th>Favourite Colour</th>\n",
              "      <th>Date of Birth</th>\n",
              "      <th>Height</th>\n",
              "      <th>Rank</th>\n",
              "    </tr>\n",
              "    <tr>\n",
              "      <th>ID</th>\n",
              "      <th></th>\n",
              "      <th></th>\n",
              "      <th></th>\n",
              "      <th></th>\n",
              "      <th></th>\n",
              "      <th></th>\n",
              "    </tr>\n",
              "  </thead>\n",
              "  <tbody>\n",
              "    <tr>\n",
              "      <th>B5443</th>\n",
              "      <td>Dallas</td>\n",
              "      <td>42</td>\n",
              "      <td>Red</td>\n",
              "      <td>1979-06-29</td>\n",
              "      <td>1760</td>\n",
              "      <td>Captain</td>\n",
              "    </tr>\n",
              "    <tr>\n",
              "      <th>H5655</th>\n",
              "      <td>Kane</td>\n",
              "      <td>39</td>\n",
              "      <td>Purple</td>\n",
              "      <td>1982-06-29</td>\n",
              "      <td>1801</td>\n",
              "      <td>Executive Officer</td>\n",
              "    </tr>\n",
              "  </tbody>\n",
              "</table>\n",
              "</div>"
            ],
            "text/plain": [
              "         Name  Age Favourite Colour Date of Birth  Height               Rank\n",
              "ID                                                                          \n",
              "B5443  Dallas   42              Red    1979-06-29    1760            Captain\n",
              "H5655    Kane   39           Purple    1982-06-29    1801  Executive Officer"
            ]
          },
          "metadata": {
            "tags": []
          },
          "execution_count": 44
        }
      ]
    },
    {
      "cell_type": "code",
      "metadata": {
        "id": "eZpXP1AwoAHB",
        "colab": {
          "base_uri": "https://localhost:8080/",
          "height": 142
        },
        "outputId": "2c3fac69-c1df-40f7-b51b-edfb735cc417"
      },
      "source": [
        "#And even do it with partial strings by using 'str.contains'\n",
        "demo_df2[demo_df2['Name'].str.contains('ne')]"
      ],
      "execution_count": null,
      "outputs": [
        {
          "output_type": "execute_result",
          "data": {
            "text/html": [
              "<div>\n",
              "<style scoped>\n",
              "    .dataframe tbody tr th:only-of-type {\n",
              "        vertical-align: middle;\n",
              "    }\n",
              "\n",
              "    .dataframe tbody tr th {\n",
              "        vertical-align: top;\n",
              "    }\n",
              "\n",
              "    .dataframe thead th {\n",
              "        text-align: right;\n",
              "    }\n",
              "</style>\n",
              "<table border=\"1\" class=\"dataframe\">\n",
              "  <thead>\n",
              "    <tr style=\"text-align: right;\">\n",
              "      <th></th>\n",
              "      <th>Name</th>\n",
              "      <th>Age</th>\n",
              "      <th>Favourite Colour</th>\n",
              "      <th>Date of Birth</th>\n",
              "      <th>Height</th>\n",
              "      <th>Rank</th>\n",
              "    </tr>\n",
              "    <tr>\n",
              "      <th>ID</th>\n",
              "      <th></th>\n",
              "      <th></th>\n",
              "      <th></th>\n",
              "      <th></th>\n",
              "      <th></th>\n",
              "      <th></th>\n",
              "    </tr>\n",
              "  </thead>\n",
              "  <tbody>\n",
              "    <tr>\n",
              "      <th>H5655</th>\n",
              "      <td>Kane</td>\n",
              "      <td>39</td>\n",
              "      <td>Purple</td>\n",
              "      <td>1982-06-29</td>\n",
              "      <td>1801</td>\n",
              "      <td>Executive Officer</td>\n",
              "    </tr>\n",
              "    <tr>\n",
              "      <th>L6546</th>\n",
              "      <td>Jones</td>\n",
              "      <td>5</td>\n",
              "      <td>none</td>\n",
              "      <td>2016-06-26</td>\n",
              "      <td>20</td>\n",
              "      <td>Cat</td>\n",
              "    </tr>\n",
              "  </tbody>\n",
              "</table>\n",
              "</div>"
            ],
            "text/plain": [
              "        Name  Age Favourite Colour Date of Birth  Height               Rank\n",
              "ID                                                                         \n",
              "H5655   Kane   39           Purple    1982-06-29    1801  Executive Officer\n",
              "L6546  Jones    5             none    2016-06-26      20                Cat"
            ]
          },
          "metadata": {
            "tags": []
          },
          "execution_count": 45
        }
      ]
    },
    {
      "cell_type": "code",
      "metadata": {
        "id": "2_e61-7-DRvu",
        "colab": {
          "base_uri": "https://localhost:8080/",
          "height": 235
        },
        "outputId": "0e95f5ed-2498-4dc7-851c-fc8919bb00b0"
      },
      "source": [
        "#We are going to use the dataset we imported earlier  which contains nutritional info for cereals. If you didn't complete that task, the code to do it is here:\n",
        "file_location = \"https://raw.githubusercontent.com/nhs-pycom/coding-club-IntroPython-5/main/cereal.csv\"\n",
        "cereal_df = pd.read_csv(file_location, index_col = 'name')\n",
        "cereal_df.head()"
      ],
      "execution_count": null,
      "outputs": [
        {
          "output_type": "execute_result",
          "data": {
            "text/html": [
              "<div>\n",
              "<style scoped>\n",
              "    .dataframe tbody tr th:only-of-type {\n",
              "        vertical-align: middle;\n",
              "    }\n",
              "\n",
              "    .dataframe tbody tr th {\n",
              "        vertical-align: top;\n",
              "    }\n",
              "\n",
              "    .dataframe thead th {\n",
              "        text-align: right;\n",
              "    }\n",
              "</style>\n",
              "<table border=\"1\" class=\"dataframe\">\n",
              "  <thead>\n",
              "    <tr style=\"text-align: right;\">\n",
              "      <th></th>\n",
              "      <th>mfr</th>\n",
              "      <th>type</th>\n",
              "      <th>calories</th>\n",
              "      <th>protein</th>\n",
              "      <th>fat</th>\n",
              "      <th>sodium</th>\n",
              "      <th>fiber</th>\n",
              "      <th>carbo</th>\n",
              "      <th>sugars</th>\n",
              "      <th>potass</th>\n",
              "      <th>vitamins</th>\n",
              "      <th>shelf</th>\n",
              "      <th>weight</th>\n",
              "      <th>cups</th>\n",
              "      <th>rating</th>\n",
              "    </tr>\n",
              "    <tr>\n",
              "      <th>name</th>\n",
              "      <th></th>\n",
              "      <th></th>\n",
              "      <th></th>\n",
              "      <th></th>\n",
              "      <th></th>\n",
              "      <th></th>\n",
              "      <th></th>\n",
              "      <th></th>\n",
              "      <th></th>\n",
              "      <th></th>\n",
              "      <th></th>\n",
              "      <th></th>\n",
              "      <th></th>\n",
              "      <th></th>\n",
              "      <th></th>\n",
              "    </tr>\n",
              "  </thead>\n",
              "  <tbody>\n",
              "    <tr>\n",
              "      <th>100% Bran</th>\n",
              "      <td>N</td>\n",
              "      <td>C</td>\n",
              "      <td>70</td>\n",
              "      <td>4</td>\n",
              "      <td>1</td>\n",
              "      <td>130</td>\n",
              "      <td>10.0</td>\n",
              "      <td>5.0</td>\n",
              "      <td>6</td>\n",
              "      <td>280</td>\n",
              "      <td>25</td>\n",
              "      <td>3</td>\n",
              "      <td>1.0</td>\n",
              "      <td>0.33</td>\n",
              "      <td>68.402973</td>\n",
              "    </tr>\n",
              "    <tr>\n",
              "      <th>100% Natural Bran</th>\n",
              "      <td>Q</td>\n",
              "      <td>C</td>\n",
              "      <td>120</td>\n",
              "      <td>3</td>\n",
              "      <td>5</td>\n",
              "      <td>15</td>\n",
              "      <td>2.0</td>\n",
              "      <td>8.0</td>\n",
              "      <td>8</td>\n",
              "      <td>135</td>\n",
              "      <td>0</td>\n",
              "      <td>3</td>\n",
              "      <td>1.0</td>\n",
              "      <td>1.00</td>\n",
              "      <td>33.983679</td>\n",
              "    </tr>\n",
              "    <tr>\n",
              "      <th>All-Bran</th>\n",
              "      <td>K</td>\n",
              "      <td>C</td>\n",
              "      <td>70</td>\n",
              "      <td>4</td>\n",
              "      <td>1</td>\n",
              "      <td>260</td>\n",
              "      <td>9.0</td>\n",
              "      <td>7.0</td>\n",
              "      <td>5</td>\n",
              "      <td>320</td>\n",
              "      <td>25</td>\n",
              "      <td>3</td>\n",
              "      <td>1.0</td>\n",
              "      <td>0.33</td>\n",
              "      <td>59.425505</td>\n",
              "    </tr>\n",
              "    <tr>\n",
              "      <th>All-Bran with Extra Fiber</th>\n",
              "      <td>K</td>\n",
              "      <td>C</td>\n",
              "      <td>50</td>\n",
              "      <td>4</td>\n",
              "      <td>0</td>\n",
              "      <td>140</td>\n",
              "      <td>14.0</td>\n",
              "      <td>8.0</td>\n",
              "      <td>0</td>\n",
              "      <td>330</td>\n",
              "      <td>25</td>\n",
              "      <td>3</td>\n",
              "      <td>1.0</td>\n",
              "      <td>0.50</td>\n",
              "      <td>93.704912</td>\n",
              "    </tr>\n",
              "    <tr>\n",
              "      <th>Almond Delight</th>\n",
              "      <td>R</td>\n",
              "      <td>C</td>\n",
              "      <td>110</td>\n",
              "      <td>2</td>\n",
              "      <td>2</td>\n",
              "      <td>200</td>\n",
              "      <td>1.0</td>\n",
              "      <td>14.0</td>\n",
              "      <td>8</td>\n",
              "      <td>-1</td>\n",
              "      <td>25</td>\n",
              "      <td>3</td>\n",
              "      <td>1.0</td>\n",
              "      <td>0.75</td>\n",
              "      <td>34.384843</td>\n",
              "    </tr>\n",
              "  </tbody>\n",
              "</table>\n",
              "</div>"
            ],
            "text/plain": [
              "                          mfr type  calories  ...  weight  cups     rating\n",
              "name                                          ...                         \n",
              "100% Bran                   N    C        70  ...     1.0  0.33  68.402973\n",
              "100% Natural Bran           Q    C       120  ...     1.0  1.00  33.983679\n",
              "All-Bran                    K    C        70  ...     1.0  0.33  59.425505\n",
              "All-Bran with Extra Fiber   K    C        50  ...     1.0  0.50  93.704912\n",
              "Almond Delight              R    C       110  ...     1.0  0.75  34.384843\n",
              "\n",
              "[5 rows x 15 columns]"
            ]
          },
          "metadata": {
            "tags": []
          },
          "execution_count": 46
        }
      ]
    },
    {
      "cell_type": "code",
      "metadata": {
        "id": "ol_E4nL0vzsQ"
      },
      "source": [
        "#Tasks \n",
        "#67) Drop the entry for 'Raisin Bran' from the dataframe\n",
        "cereal_df.drop('Raisin Bran', axis = 0, inplace = True)"
      ],
      "execution_count": null,
      "outputs": []
    },
    {
      "cell_type": "code",
      "metadata": {
        "id": "iHwrVoOyv2qQ",
        "colab": {
          "base_uri": "https://localhost:8080/"
        },
        "outputId": "23707bc7-0a3c-459b-a976-09157fbdc9e0"
      },
      "source": [
        "#68) Find which has higher sugar content, Cocoa Puffs or Wheaties?\n",
        "a = cereal_df.loc[['Cocoa Puffs','Wheaties'],'sugars']\n",
        "a"
      ],
      "execution_count": null,
      "outputs": [
        {
          "output_type": "execute_result",
          "data": {
            "text/plain": [
              "name\n",
              "Cocoa Puffs    13\n",
              "Wheaties        3\n",
              "Name: sugars, dtype: int64"
            ]
          },
          "metadata": {
            "tags": []
          },
          "execution_count": 50
        }
      ]
    },
    {
      "cell_type": "code",
      "metadata": {
        "id": "Hlp-KHuNv50X",
        "colab": {
          "base_uri": "https://localhost:8080/",
          "height": 452
        },
        "outputId": "266293ff-62b1-4484-eb37-aefb70aef279"
      },
      "source": [
        "#69) Return every cereal name that contains 'bran'. Remember the name column has been assigned as the index!\n",
        "cereal_df.filter(like = 'Bran', axis=0)"
      ],
      "execution_count": null,
      "outputs": [
        {
          "output_type": "execute_result",
          "data": {
            "text/html": [
              "<div>\n",
              "<style scoped>\n",
              "    .dataframe tbody tr th:only-of-type {\n",
              "        vertical-align: middle;\n",
              "    }\n",
              "\n",
              "    .dataframe tbody tr th {\n",
              "        vertical-align: top;\n",
              "    }\n",
              "\n",
              "    .dataframe thead th {\n",
              "        text-align: right;\n",
              "    }\n",
              "</style>\n",
              "<table border=\"1\" class=\"dataframe\">\n",
              "  <thead>\n",
              "    <tr style=\"text-align: right;\">\n",
              "      <th></th>\n",
              "      <th>mfr</th>\n",
              "      <th>type</th>\n",
              "      <th>calories</th>\n",
              "      <th>protein</th>\n",
              "      <th>fat</th>\n",
              "      <th>sodium</th>\n",
              "      <th>fiber</th>\n",
              "      <th>carbo</th>\n",
              "      <th>sugars</th>\n",
              "      <th>potass</th>\n",
              "      <th>vitamins</th>\n",
              "      <th>shelf</th>\n",
              "      <th>weight</th>\n",
              "      <th>cups</th>\n",
              "      <th>rating</th>\n",
              "    </tr>\n",
              "    <tr>\n",
              "      <th>name</th>\n",
              "      <th></th>\n",
              "      <th></th>\n",
              "      <th></th>\n",
              "      <th></th>\n",
              "      <th></th>\n",
              "      <th></th>\n",
              "      <th></th>\n",
              "      <th></th>\n",
              "      <th></th>\n",
              "      <th></th>\n",
              "      <th></th>\n",
              "      <th></th>\n",
              "      <th></th>\n",
              "      <th></th>\n",
              "      <th></th>\n",
              "    </tr>\n",
              "  </thead>\n",
              "  <tbody>\n",
              "    <tr>\n",
              "      <th>100% Bran</th>\n",
              "      <td>N</td>\n",
              "      <td>C</td>\n",
              "      <td>70</td>\n",
              "      <td>4</td>\n",
              "      <td>1</td>\n",
              "      <td>130</td>\n",
              "      <td>10.0</td>\n",
              "      <td>5.0</td>\n",
              "      <td>6</td>\n",
              "      <td>280</td>\n",
              "      <td>25</td>\n",
              "      <td>3</td>\n",
              "      <td>1.00</td>\n",
              "      <td>0.33</td>\n",
              "      <td>68.402973</td>\n",
              "    </tr>\n",
              "    <tr>\n",
              "      <th>100% Natural Bran</th>\n",
              "      <td>Q</td>\n",
              "      <td>C</td>\n",
              "      <td>120</td>\n",
              "      <td>3</td>\n",
              "      <td>5</td>\n",
              "      <td>15</td>\n",
              "      <td>2.0</td>\n",
              "      <td>8.0</td>\n",
              "      <td>8</td>\n",
              "      <td>135</td>\n",
              "      <td>0</td>\n",
              "      <td>3</td>\n",
              "      <td>1.00</td>\n",
              "      <td>1.00</td>\n",
              "      <td>33.983679</td>\n",
              "    </tr>\n",
              "    <tr>\n",
              "      <th>All-Bran</th>\n",
              "      <td>K</td>\n",
              "      <td>C</td>\n",
              "      <td>70</td>\n",
              "      <td>4</td>\n",
              "      <td>1</td>\n",
              "      <td>260</td>\n",
              "      <td>9.0</td>\n",
              "      <td>7.0</td>\n",
              "      <td>5</td>\n",
              "      <td>320</td>\n",
              "      <td>25</td>\n",
              "      <td>3</td>\n",
              "      <td>1.00</td>\n",
              "      <td>0.33</td>\n",
              "      <td>59.425505</td>\n",
              "    </tr>\n",
              "    <tr>\n",
              "      <th>All-Bran with Extra Fiber</th>\n",
              "      <td>K</td>\n",
              "      <td>C</td>\n",
              "      <td>50</td>\n",
              "      <td>4</td>\n",
              "      <td>0</td>\n",
              "      <td>140</td>\n",
              "      <td>14.0</td>\n",
              "      <td>8.0</td>\n",
              "      <td>0</td>\n",
              "      <td>330</td>\n",
              "      <td>25</td>\n",
              "      <td>3</td>\n",
              "      <td>1.00</td>\n",
              "      <td>0.50</td>\n",
              "      <td>93.704912</td>\n",
              "    </tr>\n",
              "    <tr>\n",
              "      <th>Bran Chex</th>\n",
              "      <td>R</td>\n",
              "      <td>C</td>\n",
              "      <td>90</td>\n",
              "      <td>2</td>\n",
              "      <td>1</td>\n",
              "      <td>200</td>\n",
              "      <td>4.0</td>\n",
              "      <td>15.0</td>\n",
              "      <td>6</td>\n",
              "      <td>125</td>\n",
              "      <td>25</td>\n",
              "      <td>1</td>\n",
              "      <td>1.00</td>\n",
              "      <td>0.67</td>\n",
              "      <td>49.120253</td>\n",
              "    </tr>\n",
              "    <tr>\n",
              "      <th>Bran Flakes</th>\n",
              "      <td>P</td>\n",
              "      <td>C</td>\n",
              "      <td>90</td>\n",
              "      <td>3</td>\n",
              "      <td>0</td>\n",
              "      <td>210</td>\n",
              "      <td>5.0</td>\n",
              "      <td>13.0</td>\n",
              "      <td>5</td>\n",
              "      <td>190</td>\n",
              "      <td>25</td>\n",
              "      <td>3</td>\n",
              "      <td>1.00</td>\n",
              "      <td>0.67</td>\n",
              "      <td>53.313813</td>\n",
              "    </tr>\n",
              "    <tr>\n",
              "      <th>Cracklin' Oat Bran</th>\n",
              "      <td>K</td>\n",
              "      <td>C</td>\n",
              "      <td>110</td>\n",
              "      <td>3</td>\n",
              "      <td>3</td>\n",
              "      <td>140</td>\n",
              "      <td>4.0</td>\n",
              "      <td>10.0</td>\n",
              "      <td>7</td>\n",
              "      <td>160</td>\n",
              "      <td>25</td>\n",
              "      <td>3</td>\n",
              "      <td>1.00</td>\n",
              "      <td>0.50</td>\n",
              "      <td>40.448772</td>\n",
              "    </tr>\n",
              "    <tr>\n",
              "      <th>Fruitful Bran</th>\n",
              "      <td>K</td>\n",
              "      <td>C</td>\n",
              "      <td>120</td>\n",
              "      <td>3</td>\n",
              "      <td>0</td>\n",
              "      <td>240</td>\n",
              "      <td>5.0</td>\n",
              "      <td>14.0</td>\n",
              "      <td>12</td>\n",
              "      <td>190</td>\n",
              "      <td>25</td>\n",
              "      <td>3</td>\n",
              "      <td>1.33</td>\n",
              "      <td>0.67</td>\n",
              "      <td>41.015492</td>\n",
              "    </tr>\n",
              "    <tr>\n",
              "      <th>Post Nat. Raisin Bran</th>\n",
              "      <td>P</td>\n",
              "      <td>C</td>\n",
              "      <td>120</td>\n",
              "      <td>3</td>\n",
              "      <td>1</td>\n",
              "      <td>200</td>\n",
              "      <td>6.0</td>\n",
              "      <td>11.0</td>\n",
              "      <td>14</td>\n",
              "      <td>260</td>\n",
              "      <td>25</td>\n",
              "      <td>3</td>\n",
              "      <td>1.33</td>\n",
              "      <td>0.67</td>\n",
              "      <td>37.840594</td>\n",
              "    </tr>\n",
              "    <tr>\n",
              "      <th>Raisin Nut Bran</th>\n",
              "      <td>G</td>\n",
              "      <td>C</td>\n",
              "      <td>100</td>\n",
              "      <td>3</td>\n",
              "      <td>2</td>\n",
              "      <td>140</td>\n",
              "      <td>2.5</td>\n",
              "      <td>10.5</td>\n",
              "      <td>8</td>\n",
              "      <td>140</td>\n",
              "      <td>25</td>\n",
              "      <td>3</td>\n",
              "      <td>1.00</td>\n",
              "      <td>0.50</td>\n",
              "      <td>39.703400</td>\n",
              "    </tr>\n",
              "    <tr>\n",
              "      <th>Shredded Wheat 'n'Bran</th>\n",
              "      <td>N</td>\n",
              "      <td>C</td>\n",
              "      <td>90</td>\n",
              "      <td>3</td>\n",
              "      <td>0</td>\n",
              "      <td>0</td>\n",
              "      <td>4.0</td>\n",
              "      <td>19.0</td>\n",
              "      <td>0</td>\n",
              "      <td>140</td>\n",
              "      <td>0</td>\n",
              "      <td>1</td>\n",
              "      <td>1.00</td>\n",
              "      <td>0.67</td>\n",
              "      <td>74.472949</td>\n",
              "    </tr>\n",
              "    <tr>\n",
              "      <th>Total Raisin Bran</th>\n",
              "      <td>G</td>\n",
              "      <td>C</td>\n",
              "      <td>140</td>\n",
              "      <td>3</td>\n",
              "      <td>1</td>\n",
              "      <td>190</td>\n",
              "      <td>4.0</td>\n",
              "      <td>15.0</td>\n",
              "      <td>14</td>\n",
              "      <td>230</td>\n",
              "      <td>100</td>\n",
              "      <td>3</td>\n",
              "      <td>1.50</td>\n",
              "      <td>1.00</td>\n",
              "      <td>28.592785</td>\n",
              "    </tr>\n",
              "  </tbody>\n",
              "</table>\n",
              "</div>"
            ],
            "text/plain": [
              "                          mfr type  calories  ...  weight  cups     rating\n",
              "name                                          ...                         \n",
              "100% Bran                   N    C        70  ...    1.00  0.33  68.402973\n",
              "100% Natural Bran           Q    C       120  ...    1.00  1.00  33.983679\n",
              "All-Bran                    K    C        70  ...    1.00  0.33  59.425505\n",
              "All-Bran with Extra Fiber   K    C        50  ...    1.00  0.50  93.704912\n",
              "Bran Chex                   R    C        90  ...    1.00  0.67  49.120253\n",
              "Bran Flakes                 P    C        90  ...    1.00  0.67  53.313813\n",
              "Cracklin' Oat Bran          K    C       110  ...    1.00  0.50  40.448772\n",
              "Fruitful Bran               K    C       120  ...    1.33  0.67  41.015492\n",
              "Post Nat. Raisin Bran       P    C       120  ...    1.33  0.67  37.840594\n",
              "Raisin Nut Bran             G    C       100  ...    1.00  0.50  39.703400\n",
              "Shredded Wheat 'n'Bran      N    C        90  ...    1.00  0.67  74.472949\n",
              "Total Raisin Bran           G    C       140  ...    1.50  1.00  28.592785\n",
              "\n",
              "[12 rows x 15 columns]"
            ]
          },
          "metadata": {
            "tags": []
          },
          "execution_count": 51
        }
      ]
    },
    {
      "cell_type": "code",
      "metadata": {
        "id": "wL7wucEzv61O",
        "colab": {
          "base_uri": "https://localhost:8080/",
          "height": 1000
        },
        "outputId": "c07afc6f-4cfb-4704-8157-a3557eba73b7"
      },
      "source": [
        "#70) Return details for all cereals that have a higher than average protein content\n",
        "cereal_df[cereal_df['protein'] >cereal_df['protein'].mean()]"
      ],
      "execution_count": null,
      "outputs": [
        {
          "output_type": "execute_result",
          "data": {
            "text/html": [
              "<div>\n",
              "<style scoped>\n",
              "    .dataframe tbody tr th:only-of-type {\n",
              "        vertical-align: middle;\n",
              "    }\n",
              "\n",
              "    .dataframe tbody tr th {\n",
              "        vertical-align: top;\n",
              "    }\n",
              "\n",
              "    .dataframe thead th {\n",
              "        text-align: right;\n",
              "    }\n",
              "</style>\n",
              "<table border=\"1\" class=\"dataframe\">\n",
              "  <thead>\n",
              "    <tr style=\"text-align: right;\">\n",
              "      <th></th>\n",
              "      <th>mfr</th>\n",
              "      <th>type</th>\n",
              "      <th>calories</th>\n",
              "      <th>protein</th>\n",
              "      <th>fat</th>\n",
              "      <th>sodium</th>\n",
              "      <th>fiber</th>\n",
              "      <th>carbo</th>\n",
              "      <th>sugars</th>\n",
              "      <th>potass</th>\n",
              "      <th>vitamins</th>\n",
              "      <th>shelf</th>\n",
              "      <th>weight</th>\n",
              "      <th>cups</th>\n",
              "      <th>rating</th>\n",
              "    </tr>\n",
              "    <tr>\n",
              "      <th>name</th>\n",
              "      <th></th>\n",
              "      <th></th>\n",
              "      <th></th>\n",
              "      <th></th>\n",
              "      <th></th>\n",
              "      <th></th>\n",
              "      <th></th>\n",
              "      <th></th>\n",
              "      <th></th>\n",
              "      <th></th>\n",
              "      <th></th>\n",
              "      <th></th>\n",
              "      <th></th>\n",
              "      <th></th>\n",
              "      <th></th>\n",
              "    </tr>\n",
              "  </thead>\n",
              "  <tbody>\n",
              "    <tr>\n",
              "      <th>100% Bran</th>\n",
              "      <td>N</td>\n",
              "      <td>C</td>\n",
              "      <td>70</td>\n",
              "      <td>4</td>\n",
              "      <td>1</td>\n",
              "      <td>130</td>\n",
              "      <td>10.0</td>\n",
              "      <td>5.0</td>\n",
              "      <td>6</td>\n",
              "      <td>280</td>\n",
              "      <td>25</td>\n",
              "      <td>3</td>\n",
              "      <td>1.00</td>\n",
              "      <td>0.33</td>\n",
              "      <td>68.402973</td>\n",
              "    </tr>\n",
              "    <tr>\n",
              "      <th>100% Natural Bran</th>\n",
              "      <td>Q</td>\n",
              "      <td>C</td>\n",
              "      <td>120</td>\n",
              "      <td>3</td>\n",
              "      <td>5</td>\n",
              "      <td>15</td>\n",
              "      <td>2.0</td>\n",
              "      <td>8.0</td>\n",
              "      <td>8</td>\n",
              "      <td>135</td>\n",
              "      <td>0</td>\n",
              "      <td>3</td>\n",
              "      <td>1.00</td>\n",
              "      <td>1.00</td>\n",
              "      <td>33.983679</td>\n",
              "    </tr>\n",
              "    <tr>\n",
              "      <th>All-Bran</th>\n",
              "      <td>K</td>\n",
              "      <td>C</td>\n",
              "      <td>70</td>\n",
              "      <td>4</td>\n",
              "      <td>1</td>\n",
              "      <td>260</td>\n",
              "      <td>9.0</td>\n",
              "      <td>7.0</td>\n",
              "      <td>5</td>\n",
              "      <td>320</td>\n",
              "      <td>25</td>\n",
              "      <td>3</td>\n",
              "      <td>1.00</td>\n",
              "      <td>0.33</td>\n",
              "      <td>59.425505</td>\n",
              "    </tr>\n",
              "    <tr>\n",
              "      <th>All-Bran with Extra Fiber</th>\n",
              "      <td>K</td>\n",
              "      <td>C</td>\n",
              "      <td>50</td>\n",
              "      <td>4</td>\n",
              "      <td>0</td>\n",
              "      <td>140</td>\n",
              "      <td>14.0</td>\n",
              "      <td>8.0</td>\n",
              "      <td>0</td>\n",
              "      <td>330</td>\n",
              "      <td>25</td>\n",
              "      <td>3</td>\n",
              "      <td>1.00</td>\n",
              "      <td>0.50</td>\n",
              "      <td>93.704912</td>\n",
              "    </tr>\n",
              "    <tr>\n",
              "      <th>Basic 4</th>\n",
              "      <td>G</td>\n",
              "      <td>C</td>\n",
              "      <td>130</td>\n",
              "      <td>3</td>\n",
              "      <td>2</td>\n",
              "      <td>210</td>\n",
              "      <td>2.0</td>\n",
              "      <td>18.0</td>\n",
              "      <td>8</td>\n",
              "      <td>100</td>\n",
              "      <td>25</td>\n",
              "      <td>3</td>\n",
              "      <td>1.33</td>\n",
              "      <td>0.75</td>\n",
              "      <td>37.038562</td>\n",
              "    </tr>\n",
              "    <tr>\n",
              "      <th>Bran Flakes</th>\n",
              "      <td>P</td>\n",
              "      <td>C</td>\n",
              "      <td>90</td>\n",
              "      <td>3</td>\n",
              "      <td>0</td>\n",
              "      <td>210</td>\n",
              "      <td>5.0</td>\n",
              "      <td>13.0</td>\n",
              "      <td>5</td>\n",
              "      <td>190</td>\n",
              "      <td>25</td>\n",
              "      <td>3</td>\n",
              "      <td>1.00</td>\n",
              "      <td>0.67</td>\n",
              "      <td>53.313813</td>\n",
              "    </tr>\n",
              "    <tr>\n",
              "      <th>Cheerios</th>\n",
              "      <td>G</td>\n",
              "      <td>C</td>\n",
              "      <td>110</td>\n",
              "      <td>6</td>\n",
              "      <td>2</td>\n",
              "      <td>290</td>\n",
              "      <td>2.0</td>\n",
              "      <td>17.0</td>\n",
              "      <td>1</td>\n",
              "      <td>105</td>\n",
              "      <td>25</td>\n",
              "      <td>1</td>\n",
              "      <td>1.00</td>\n",
              "      <td>1.25</td>\n",
              "      <td>50.764999</td>\n",
              "    </tr>\n",
              "    <tr>\n",
              "      <th>Clusters</th>\n",
              "      <td>G</td>\n",
              "      <td>C</td>\n",
              "      <td>110</td>\n",
              "      <td>3</td>\n",
              "      <td>2</td>\n",
              "      <td>140</td>\n",
              "      <td>2.0</td>\n",
              "      <td>13.0</td>\n",
              "      <td>7</td>\n",
              "      <td>105</td>\n",
              "      <td>25</td>\n",
              "      <td>3</td>\n",
              "      <td>1.00</td>\n",
              "      <td>0.50</td>\n",
              "      <td>40.400208</td>\n",
              "    </tr>\n",
              "    <tr>\n",
              "      <th>Cracklin' Oat Bran</th>\n",
              "      <td>K</td>\n",
              "      <td>C</td>\n",
              "      <td>110</td>\n",
              "      <td>3</td>\n",
              "      <td>3</td>\n",
              "      <td>140</td>\n",
              "      <td>4.0</td>\n",
              "      <td>10.0</td>\n",
              "      <td>7</td>\n",
              "      <td>160</td>\n",
              "      <td>25</td>\n",
              "      <td>3</td>\n",
              "      <td>1.00</td>\n",
              "      <td>0.50</td>\n",
              "      <td>40.448772</td>\n",
              "    </tr>\n",
              "    <tr>\n",
              "      <th>Cream of Wheat (Quick)</th>\n",
              "      <td>N</td>\n",
              "      <td>H</td>\n",
              "      <td>100</td>\n",
              "      <td>3</td>\n",
              "      <td>0</td>\n",
              "      <td>80</td>\n",
              "      <td>1.0</td>\n",
              "      <td>21.0</td>\n",
              "      <td>0</td>\n",
              "      <td>-1</td>\n",
              "      <td>0</td>\n",
              "      <td>2</td>\n",
              "      <td>1.00</td>\n",
              "      <td>1.00</td>\n",
              "      <td>64.533816</td>\n",
              "    </tr>\n",
              "    <tr>\n",
              "      <th>Frosted Mini-Wheats</th>\n",
              "      <td>K</td>\n",
              "      <td>C</td>\n",
              "      <td>100</td>\n",
              "      <td>3</td>\n",
              "      <td>0</td>\n",
              "      <td>0</td>\n",
              "      <td>3.0</td>\n",
              "      <td>14.0</td>\n",
              "      <td>7</td>\n",
              "      <td>100</td>\n",
              "      <td>25</td>\n",
              "      <td>2</td>\n",
              "      <td>1.00</td>\n",
              "      <td>0.80</td>\n",
              "      <td>58.345141</td>\n",
              "    </tr>\n",
              "    <tr>\n",
              "      <th>Fruit &amp; Fibre Dates; Walnuts; and Oats</th>\n",
              "      <td>P</td>\n",
              "      <td>C</td>\n",
              "      <td>120</td>\n",
              "      <td>3</td>\n",
              "      <td>2</td>\n",
              "      <td>160</td>\n",
              "      <td>5.0</td>\n",
              "      <td>12.0</td>\n",
              "      <td>10</td>\n",
              "      <td>200</td>\n",
              "      <td>25</td>\n",
              "      <td>3</td>\n",
              "      <td>1.25</td>\n",
              "      <td>0.67</td>\n",
              "      <td>40.917047</td>\n",
              "    </tr>\n",
              "    <tr>\n",
              "      <th>Fruitful Bran</th>\n",
              "      <td>K</td>\n",
              "      <td>C</td>\n",
              "      <td>120</td>\n",
              "      <td>3</td>\n",
              "      <td>0</td>\n",
              "      <td>240</td>\n",
              "      <td>5.0</td>\n",
              "      <td>14.0</td>\n",
              "      <td>12</td>\n",
              "      <td>190</td>\n",
              "      <td>25</td>\n",
              "      <td>3</td>\n",
              "      <td>1.33</td>\n",
              "      <td>0.67</td>\n",
              "      <td>41.015492</td>\n",
              "    </tr>\n",
              "    <tr>\n",
              "      <th>Grape Nuts Flakes</th>\n",
              "      <td>P</td>\n",
              "      <td>C</td>\n",
              "      <td>100</td>\n",
              "      <td>3</td>\n",
              "      <td>1</td>\n",
              "      <td>140</td>\n",
              "      <td>3.0</td>\n",
              "      <td>15.0</td>\n",
              "      <td>5</td>\n",
              "      <td>85</td>\n",
              "      <td>25</td>\n",
              "      <td>3</td>\n",
              "      <td>1.00</td>\n",
              "      <td>0.88</td>\n",
              "      <td>52.076897</td>\n",
              "    </tr>\n",
              "    <tr>\n",
              "      <th>Grape-Nuts</th>\n",
              "      <td>P</td>\n",
              "      <td>C</td>\n",
              "      <td>110</td>\n",
              "      <td>3</td>\n",
              "      <td>0</td>\n",
              "      <td>170</td>\n",
              "      <td>3.0</td>\n",
              "      <td>17.0</td>\n",
              "      <td>3</td>\n",
              "      <td>90</td>\n",
              "      <td>25</td>\n",
              "      <td>3</td>\n",
              "      <td>1.00</td>\n",
              "      <td>0.25</td>\n",
              "      <td>53.371007</td>\n",
              "    </tr>\n",
              "    <tr>\n",
              "      <th>Great Grains Pecan</th>\n",
              "      <td>P</td>\n",
              "      <td>C</td>\n",
              "      <td>120</td>\n",
              "      <td>3</td>\n",
              "      <td>3</td>\n",
              "      <td>75</td>\n",
              "      <td>3.0</td>\n",
              "      <td>13.0</td>\n",
              "      <td>4</td>\n",
              "      <td>100</td>\n",
              "      <td>25</td>\n",
              "      <td>3</td>\n",
              "      <td>1.00</td>\n",
              "      <td>0.33</td>\n",
              "      <td>45.811716</td>\n",
              "    </tr>\n",
              "    <tr>\n",
              "      <th>Honey Nut Cheerios</th>\n",
              "      <td>G</td>\n",
              "      <td>C</td>\n",
              "      <td>110</td>\n",
              "      <td>3</td>\n",
              "      <td>1</td>\n",
              "      <td>250</td>\n",
              "      <td>1.5</td>\n",
              "      <td>11.5</td>\n",
              "      <td>10</td>\n",
              "      <td>90</td>\n",
              "      <td>25</td>\n",
              "      <td>1</td>\n",
              "      <td>1.00</td>\n",
              "      <td>0.75</td>\n",
              "      <td>31.072217</td>\n",
              "    </tr>\n",
              "    <tr>\n",
              "      <th>Just Right Fruit &amp; Nut</th>\n",
              "      <td>K</td>\n",
              "      <td>C</td>\n",
              "      <td>140</td>\n",
              "      <td>3</td>\n",
              "      <td>1</td>\n",
              "      <td>170</td>\n",
              "      <td>2.0</td>\n",
              "      <td>20.0</td>\n",
              "      <td>9</td>\n",
              "      <td>95</td>\n",
              "      <td>100</td>\n",
              "      <td>3</td>\n",
              "      <td>1.30</td>\n",
              "      <td>0.75</td>\n",
              "      <td>36.471512</td>\n",
              "    </tr>\n",
              "    <tr>\n",
              "      <th>Life</th>\n",
              "      <td>Q</td>\n",
              "      <td>C</td>\n",
              "      <td>100</td>\n",
              "      <td>4</td>\n",
              "      <td>2</td>\n",
              "      <td>150</td>\n",
              "      <td>2.0</td>\n",
              "      <td>12.0</td>\n",
              "      <td>6</td>\n",
              "      <td>95</td>\n",
              "      <td>25</td>\n",
              "      <td>2</td>\n",
              "      <td>1.00</td>\n",
              "      <td>0.67</td>\n",
              "      <td>45.328074</td>\n",
              "    </tr>\n",
              "    <tr>\n",
              "      <th>Maypo</th>\n",
              "      <td>A</td>\n",
              "      <td>H</td>\n",
              "      <td>100</td>\n",
              "      <td>4</td>\n",
              "      <td>1</td>\n",
              "      <td>0</td>\n",
              "      <td>0.0</td>\n",
              "      <td>16.0</td>\n",
              "      <td>3</td>\n",
              "      <td>95</td>\n",
              "      <td>25</td>\n",
              "      <td>2</td>\n",
              "      <td>1.00</td>\n",
              "      <td>1.00</td>\n",
              "      <td>54.850917</td>\n",
              "    </tr>\n",
              "    <tr>\n",
              "      <th>Muesli Raisins; Dates; &amp; Almonds</th>\n",
              "      <td>R</td>\n",
              "      <td>C</td>\n",
              "      <td>150</td>\n",
              "      <td>4</td>\n",
              "      <td>3</td>\n",
              "      <td>95</td>\n",
              "      <td>3.0</td>\n",
              "      <td>16.0</td>\n",
              "      <td>11</td>\n",
              "      <td>170</td>\n",
              "      <td>25</td>\n",
              "      <td>3</td>\n",
              "      <td>1.00</td>\n",
              "      <td>1.00</td>\n",
              "      <td>37.136863</td>\n",
              "    </tr>\n",
              "    <tr>\n",
              "      <th>Muesli Raisins; Peaches; &amp; Pecans</th>\n",
              "      <td>R</td>\n",
              "      <td>C</td>\n",
              "      <td>150</td>\n",
              "      <td>4</td>\n",
              "      <td>3</td>\n",
              "      <td>150</td>\n",
              "      <td>3.0</td>\n",
              "      <td>16.0</td>\n",
              "      <td>11</td>\n",
              "      <td>170</td>\n",
              "      <td>25</td>\n",
              "      <td>3</td>\n",
              "      <td>1.00</td>\n",
              "      <td>1.00</td>\n",
              "      <td>34.139765</td>\n",
              "    </tr>\n",
              "    <tr>\n",
              "      <th>Mueslix Crispy Blend</th>\n",
              "      <td>K</td>\n",
              "      <td>C</td>\n",
              "      <td>160</td>\n",
              "      <td>3</td>\n",
              "      <td>2</td>\n",
              "      <td>150</td>\n",
              "      <td>3.0</td>\n",
              "      <td>17.0</td>\n",
              "      <td>13</td>\n",
              "      <td>160</td>\n",
              "      <td>25</td>\n",
              "      <td>3</td>\n",
              "      <td>1.50</td>\n",
              "      <td>0.67</td>\n",
              "      <td>30.313351</td>\n",
              "    </tr>\n",
              "    <tr>\n",
              "      <th>Nutri-Grain Almond-Raisin</th>\n",
              "      <td>K</td>\n",
              "      <td>C</td>\n",
              "      <td>140</td>\n",
              "      <td>3</td>\n",
              "      <td>2</td>\n",
              "      <td>220</td>\n",
              "      <td>3.0</td>\n",
              "      <td>21.0</td>\n",
              "      <td>7</td>\n",
              "      <td>130</td>\n",
              "      <td>25</td>\n",
              "      <td>3</td>\n",
              "      <td>1.33</td>\n",
              "      <td>0.67</td>\n",
              "      <td>40.692320</td>\n",
              "    </tr>\n",
              "    <tr>\n",
              "      <th>Nutri-grain Wheat</th>\n",
              "      <td>K</td>\n",
              "      <td>C</td>\n",
              "      <td>90</td>\n",
              "      <td>3</td>\n",
              "      <td>0</td>\n",
              "      <td>170</td>\n",
              "      <td>3.0</td>\n",
              "      <td>18.0</td>\n",
              "      <td>2</td>\n",
              "      <td>90</td>\n",
              "      <td>25</td>\n",
              "      <td>3</td>\n",
              "      <td>1.00</td>\n",
              "      <td>1.00</td>\n",
              "      <td>59.642837</td>\n",
              "    </tr>\n",
              "    <tr>\n",
              "      <th>Oatmeal Raisin Crisp</th>\n",
              "      <td>G</td>\n",
              "      <td>C</td>\n",
              "      <td>130</td>\n",
              "      <td>3</td>\n",
              "      <td>2</td>\n",
              "      <td>170</td>\n",
              "      <td>1.5</td>\n",
              "      <td>13.5</td>\n",
              "      <td>10</td>\n",
              "      <td>120</td>\n",
              "      <td>25</td>\n",
              "      <td>3</td>\n",
              "      <td>1.25</td>\n",
              "      <td>0.50</td>\n",
              "      <td>30.450843</td>\n",
              "    </tr>\n",
              "    <tr>\n",
              "      <th>Post Nat. Raisin Bran</th>\n",
              "      <td>P</td>\n",
              "      <td>C</td>\n",
              "      <td>120</td>\n",
              "      <td>3</td>\n",
              "      <td>1</td>\n",
              "      <td>200</td>\n",
              "      <td>6.0</td>\n",
              "      <td>11.0</td>\n",
              "      <td>14</td>\n",
              "      <td>260</td>\n",
              "      <td>25</td>\n",
              "      <td>3</td>\n",
              "      <td>1.33</td>\n",
              "      <td>0.67</td>\n",
              "      <td>37.840594</td>\n",
              "    </tr>\n",
              "    <tr>\n",
              "      <th>Product 19</th>\n",
              "      <td>K</td>\n",
              "      <td>C</td>\n",
              "      <td>100</td>\n",
              "      <td>3</td>\n",
              "      <td>0</td>\n",
              "      <td>320</td>\n",
              "      <td>1.0</td>\n",
              "      <td>20.0</td>\n",
              "      <td>3</td>\n",
              "      <td>45</td>\n",
              "      <td>100</td>\n",
              "      <td>3</td>\n",
              "      <td>1.00</td>\n",
              "      <td>1.00</td>\n",
              "      <td>41.503540</td>\n",
              "    </tr>\n",
              "    <tr>\n",
              "      <th>Quaker Oat Squares</th>\n",
              "      <td>Q</td>\n",
              "      <td>C</td>\n",
              "      <td>100</td>\n",
              "      <td>4</td>\n",
              "      <td>1</td>\n",
              "      <td>135</td>\n",
              "      <td>2.0</td>\n",
              "      <td>14.0</td>\n",
              "      <td>6</td>\n",
              "      <td>110</td>\n",
              "      <td>25</td>\n",
              "      <td>3</td>\n",
              "      <td>1.00</td>\n",
              "      <td>0.50</td>\n",
              "      <td>49.511874</td>\n",
              "    </tr>\n",
              "    <tr>\n",
              "      <th>Quaker Oatmeal</th>\n",
              "      <td>Q</td>\n",
              "      <td>H</td>\n",
              "      <td>100</td>\n",
              "      <td>5</td>\n",
              "      <td>2</td>\n",
              "      <td>0</td>\n",
              "      <td>2.7</td>\n",
              "      <td>-1.0</td>\n",
              "      <td>-1</td>\n",
              "      <td>110</td>\n",
              "      <td>0</td>\n",
              "      <td>1</td>\n",
              "      <td>1.00</td>\n",
              "      <td>0.67</td>\n",
              "      <td>50.828392</td>\n",
              "    </tr>\n",
              "    <tr>\n",
              "      <th>Raisin Nut Bran</th>\n",
              "      <td>G</td>\n",
              "      <td>C</td>\n",
              "      <td>100</td>\n",
              "      <td>3</td>\n",
              "      <td>2</td>\n",
              "      <td>140</td>\n",
              "      <td>2.5</td>\n",
              "      <td>10.5</td>\n",
              "      <td>8</td>\n",
              "      <td>140</td>\n",
              "      <td>25</td>\n",
              "      <td>3</td>\n",
              "      <td>1.00</td>\n",
              "      <td>0.50</td>\n",
              "      <td>39.703400</td>\n",
              "    </tr>\n",
              "    <tr>\n",
              "      <th>Shredded Wheat 'n'Bran</th>\n",
              "      <td>N</td>\n",
              "      <td>C</td>\n",
              "      <td>90</td>\n",
              "      <td>3</td>\n",
              "      <td>0</td>\n",
              "      <td>0</td>\n",
              "      <td>4.0</td>\n",
              "      <td>19.0</td>\n",
              "      <td>0</td>\n",
              "      <td>140</td>\n",
              "      <td>0</td>\n",
              "      <td>1</td>\n",
              "      <td>1.00</td>\n",
              "      <td>0.67</td>\n",
              "      <td>74.472949</td>\n",
              "    </tr>\n",
              "    <tr>\n",
              "      <th>Shredded Wheat spoon size</th>\n",
              "      <td>N</td>\n",
              "      <td>C</td>\n",
              "      <td>90</td>\n",
              "      <td>3</td>\n",
              "      <td>0</td>\n",
              "      <td>0</td>\n",
              "      <td>3.0</td>\n",
              "      <td>20.0</td>\n",
              "      <td>0</td>\n",
              "      <td>120</td>\n",
              "      <td>0</td>\n",
              "      <td>1</td>\n",
              "      <td>1.00</td>\n",
              "      <td>0.67</td>\n",
              "      <td>72.801787</td>\n",
              "    </tr>\n",
              "    <tr>\n",
              "      <th>Special K</th>\n",
              "      <td>K</td>\n",
              "      <td>C</td>\n",
              "      <td>110</td>\n",
              "      <td>6</td>\n",
              "      <td>0</td>\n",
              "      <td>230</td>\n",
              "      <td>1.0</td>\n",
              "      <td>16.0</td>\n",
              "      <td>3</td>\n",
              "      <td>55</td>\n",
              "      <td>25</td>\n",
              "      <td>1</td>\n",
              "      <td>1.00</td>\n",
              "      <td>1.00</td>\n",
              "      <td>53.131324</td>\n",
              "    </tr>\n",
              "    <tr>\n",
              "      <th>Total Raisin Bran</th>\n",
              "      <td>G</td>\n",
              "      <td>C</td>\n",
              "      <td>140</td>\n",
              "      <td>3</td>\n",
              "      <td>1</td>\n",
              "      <td>190</td>\n",
              "      <td>4.0</td>\n",
              "      <td>15.0</td>\n",
              "      <td>14</td>\n",
              "      <td>230</td>\n",
              "      <td>100</td>\n",
              "      <td>3</td>\n",
              "      <td>1.50</td>\n",
              "      <td>1.00</td>\n",
              "      <td>28.592785</td>\n",
              "    </tr>\n",
              "    <tr>\n",
              "      <th>Total Whole Grain</th>\n",
              "      <td>G</td>\n",
              "      <td>C</td>\n",
              "      <td>100</td>\n",
              "      <td>3</td>\n",
              "      <td>1</td>\n",
              "      <td>200</td>\n",
              "      <td>3.0</td>\n",
              "      <td>16.0</td>\n",
              "      <td>3</td>\n",
              "      <td>110</td>\n",
              "      <td>100</td>\n",
              "      <td>3</td>\n",
              "      <td>1.00</td>\n",
              "      <td>1.00</td>\n",
              "      <td>46.658844</td>\n",
              "    </tr>\n",
              "    <tr>\n",
              "      <th>Wheat Chex</th>\n",
              "      <td>R</td>\n",
              "      <td>C</td>\n",
              "      <td>100</td>\n",
              "      <td>3</td>\n",
              "      <td>1</td>\n",
              "      <td>230</td>\n",
              "      <td>3.0</td>\n",
              "      <td>17.0</td>\n",
              "      <td>3</td>\n",
              "      <td>115</td>\n",
              "      <td>25</td>\n",
              "      <td>1</td>\n",
              "      <td>1.00</td>\n",
              "      <td>0.67</td>\n",
              "      <td>49.787445</td>\n",
              "    </tr>\n",
              "    <tr>\n",
              "      <th>Wheaties</th>\n",
              "      <td>G</td>\n",
              "      <td>C</td>\n",
              "      <td>100</td>\n",
              "      <td>3</td>\n",
              "      <td>1</td>\n",
              "      <td>200</td>\n",
              "      <td>3.0</td>\n",
              "      <td>17.0</td>\n",
              "      <td>3</td>\n",
              "      <td>110</td>\n",
              "      <td>25</td>\n",
              "      <td>1</td>\n",
              "      <td>1.00</td>\n",
              "      <td>1.00</td>\n",
              "      <td>51.592193</td>\n",
              "    </tr>\n",
              "  </tbody>\n",
              "</table>\n",
              "</div>"
            ],
            "text/plain": [
              "                                       mfr type  ...  cups     rating\n",
              "name                                             ...                 \n",
              "100% Bran                                N    C  ...  0.33  68.402973\n",
              "100% Natural Bran                        Q    C  ...  1.00  33.983679\n",
              "All-Bran                                 K    C  ...  0.33  59.425505\n",
              "All-Bran with Extra Fiber                K    C  ...  0.50  93.704912\n",
              "Basic 4                                  G    C  ...  0.75  37.038562\n",
              "Bran Flakes                              P    C  ...  0.67  53.313813\n",
              "Cheerios                                 G    C  ...  1.25  50.764999\n",
              "Clusters                                 G    C  ...  0.50  40.400208\n",
              "Cracklin' Oat Bran                       K    C  ...  0.50  40.448772\n",
              "Cream of Wheat (Quick)                   N    H  ...  1.00  64.533816\n",
              "Frosted Mini-Wheats                      K    C  ...  0.80  58.345141\n",
              "Fruit & Fibre Dates; Walnuts; and Oats   P    C  ...  0.67  40.917047\n",
              "Fruitful Bran                            K    C  ...  0.67  41.015492\n",
              "Grape Nuts Flakes                        P    C  ...  0.88  52.076897\n",
              "Grape-Nuts                               P    C  ...  0.25  53.371007\n",
              "Great Grains Pecan                       P    C  ...  0.33  45.811716\n",
              "Honey Nut Cheerios                       G    C  ...  0.75  31.072217\n",
              "Just Right Fruit & Nut                   K    C  ...  0.75  36.471512\n",
              "Life                                     Q    C  ...  0.67  45.328074\n",
              "Maypo                                    A    H  ...  1.00  54.850917\n",
              "Muesli Raisins; Dates; & Almonds         R    C  ...  1.00  37.136863\n",
              "Muesli Raisins; Peaches; & Pecans        R    C  ...  1.00  34.139765\n",
              "Mueslix Crispy Blend                     K    C  ...  0.67  30.313351\n",
              "Nutri-Grain Almond-Raisin                K    C  ...  0.67  40.692320\n",
              "Nutri-grain Wheat                        K    C  ...  1.00  59.642837\n",
              "Oatmeal Raisin Crisp                     G    C  ...  0.50  30.450843\n",
              "Post Nat. Raisin Bran                    P    C  ...  0.67  37.840594\n",
              "Product 19                               K    C  ...  1.00  41.503540\n",
              "Quaker Oat Squares                       Q    C  ...  0.50  49.511874\n",
              "Quaker Oatmeal                           Q    H  ...  0.67  50.828392\n",
              "Raisin Nut Bran                          G    C  ...  0.50  39.703400\n",
              "Shredded Wheat 'n'Bran                   N    C  ...  0.67  74.472949\n",
              "Shredded Wheat spoon size                N    C  ...  0.67  72.801787\n",
              "Special K                                K    C  ...  1.00  53.131324\n",
              "Total Raisin Bran                        G    C  ...  1.00  28.592785\n",
              "Total Whole Grain                        G    C  ...  1.00  46.658844\n",
              "Wheat Chex                               R    C  ...  0.67  49.787445\n",
              "Wheaties                                 G    C  ...  1.00  51.592193\n",
              "\n",
              "[38 rows x 15 columns]"
            ]
          },
          "metadata": {
            "tags": []
          },
          "execution_count": 55
        }
      ]
    }
  ]
}