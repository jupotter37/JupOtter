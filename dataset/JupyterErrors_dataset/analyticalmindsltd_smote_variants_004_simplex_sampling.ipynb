{
 "cells": [
  {
   "cell_type": "code",
   "execution_count": 1,
   "metadata": {},
   "outputs": [],
   "source": [
    "import numpy as np\n",
    "import itertools\n",
    "from smote_variants import array_array_index, base_idx_neighbor_idx_simplices, all_neighbor_simplices_real_idx, simplex_volume, simplex_volumes\n",
    "from smote_variants import SimplexSamplingMixin\n",
    "\n",
    "from sklearn.neighbors import NearestNeighbors"
   ]
  },
  {
   "cell_type": "code",
   "execution_count": 2,
   "metadata": {},
   "outputs": [],
   "source": [
    "from smote_variants import SMOTE"
   ]
  },
  {
   "cell_type": "code",
   "execution_count": null,
   "metadata": {},
   "outputs": [],
   "source": []
  },
  {
   "cell_type": "code",
   "execution_count": 3,
   "metadata": {},
   "outputs": [],
   "source": [
    "simplex = np.array([[1, 0, 0],\n",
    "                    [0, 1, 0],\n",
    "                    [0, 0, 1],\n",
    "                    [0, 0, 0]])\n",
    "simplex = np.array([[1, 0],\n",
    "                    [0, 1],\n",
    "                    [0, 0]])"
   ]
  },
  {
   "cell_type": "code",
   "execution_count": 10,
   "metadata": {},
   "outputs": [],
   "source": [
    "X = np.array([[1, 1, 1, 1],\n",
    "                    [2, 2, 2, 2],\n",
    "                    [3, 3, 3, 3],\n",
    "                    [4, 4, 4, 4],\n",
    "                    [5, 5, 5, 5],\n",
    "                    [6, 6, 6, 6],\n",
    "                    [7, 7, 7, 7],\n",
    "                    [8, 8, 8, 8]], dtype=float)\n",
    "n_neighbors = 5"
   ]
  },
  {
   "cell_type": "code",
   "execution_count": 20,
   "metadata": {},
   "outputs": [],
   "source": [
    "vertex_weights = np.array([1.0, 1.0, 0.5, 1.0, 1.0, 0.5, 0.5, 1.0])"
   ]
  },
  {
   "cell_type": "code",
   "execution_count": 15,
   "metadata": {},
   "outputs": [],
   "source": [
    "simplices = np.array([[0, 1, 2, 3, 4],\n",
    "                        [5, 2, 1, 3, 4]])"
   ]
  },
  {
   "cell_type": "code",
   "execution_count": 79,
   "metadata": {},
   "outputs": [],
   "source": [
    "def reweight_simplex_vertices(X, simplices, X_vertices=None, vertex_weights=None):\n",
    "    if X_vertices is None:\n",
    "        X_vertices = X\n",
    "\n",
    "    vertex_weights_simplices = vertex_weights[simplices[:,1:]]\n",
    "\n",
    "    X_base = X[simplices[:,0]]\n",
    "    X_neighbors = X_vertices[simplices[:,1:]]\n",
    "\n",
    "    diff_vectors = X_neighbors - X_base[:,None]\n",
    "\n",
    "    weighted = (diff_vectors.T*vertex_weights_simplices.T).T\n",
    "\n",
    "    reverted = weighted + X_base[:,None]\n",
    "\n",
    "    return np.concatenate([X_base[:,None], reverted], axis=1)"
   ]
  },
  {
   "cell_type": "code",
   "execution_count": 72,
   "metadata": {},
   "outputs": [],
   "source": [
    "X = np.array([[1.0, 0.0],\n",
    "                [2.0, 1.0],\n",
    "                [3.0, 2.0]])\n",
    "X_vertices = np.array([[10.0, 0.0],\n",
    "                        [20.0, 10.0],\n",
    "                        [30.0, 20.0]])\n",
    "simplices = np.array([[0, 1]])\n",
    "vertex_weights = np.array([1.0, 0.5])"
   ]
  },
  {
   "cell_type": "code",
   "execution_count": 78,
   "metadata": {},
   "outputs": [
    {
     "data": {
      "text/plain": [
       "array([[[ 1. ,  0. ],\n",
       "        [10.5,  5. ]]])"
      ]
     },
     "execution_count": 78,
     "metadata": {},
     "output_type": "execute_result"
    }
   ],
   "source": [
    "vertex_weights_simplices = vertex_weights[simplices[:,1:]]\n",
    "\n",
    "X_base = X[simplices[:,0]]\n",
    "X_neighbors = X_vertices[simplices[:,1:]]\n",
    "\n",
    "diff_vectors = X_neighbors[:,:,:] - X_base[:,None]\n",
    "\n",
    "weighted = (diff_vectors.T*vertex_weights_simplices.T).T\n",
    "\n",
    "reverted = weighted + X_base[:,None]\n",
    "\n",
    "np.concatenate([X_base[:,None], reverted], axis=1)"
   ]
  },
  {
   "cell_type": "code",
   "execution_count": 77,
   "metadata": {},
   "outputs": [
    {
     "data": {
      "text/plain": [
       "array([], shape=(1, 0, 2), dtype=float64)"
      ]
     },
     "execution_count": 77,
     "metadata": {},
     "output_type": "execute_result"
    }
   ],
   "source": [
    "diff_vectors"
   ]
  },
  {
   "cell_type": "code",
   "execution_count": 81,
   "metadata": {},
   "outputs": [
    {
     "data": {
      "text/plain": [
       "array([[[ 1. ,  0. ],\n",
       "        [10.5,  5. ]]])"
      ]
     },
     "execution_count": 81,
     "metadata": {},
     "output_type": "execute_result"
    }
   ],
   "source": [
    "reweight_simplex_vertices(X, simplices, X_vertices, vertex_weights)"
   ]
  },
  {
   "cell_type": "code",
   "execution_count": 16,
   "metadata": {},
   "outputs": [],
   "source": [
    "X_simp = X[simplices]"
   ]
  },
  {
   "cell_type": "code",
   "execution_count": 21,
   "metadata": {},
   "outputs": [],
   "source": [
    "X_base = X_simp[:,0,:]"
   ]
  },
  {
   "cell_type": "code",
   "execution_count": 32,
   "metadata": {},
   "outputs": [],
   "source": [
    "vertex_weights_simp = vertex_weights[simplices[:,1:]]"
   ]
  },
  {
   "cell_type": "code",
   "execution_count": 28,
   "metadata": {},
   "outputs": [],
   "source": [
    "diff_vectors = X_simp[:,1:,:] - X_base[:,None]"
   ]
  },
  {
   "cell_type": "code",
   "execution_count": 45,
   "metadata": {},
   "outputs": [],
   "source": [
    "weighted = (diff_vectors.T*vertex_weights_simp.T).T"
   ]
  },
  {
   "cell_type": "code",
   "execution_count": 61,
   "metadata": {},
   "outputs": [],
   "source": [
    "reverted = weighted + X_base[:,None]"
   ]
  },
  {
   "cell_type": "code",
   "execution_count": 62,
   "metadata": {},
   "outputs": [
    {
     "data": {
      "text/plain": [
       "array([[[1. , 1. , 1. , 1. ],\n",
       "        [2. , 2. , 2. , 2. ],\n",
       "        [2. , 2. , 2. , 2. ],\n",
       "        [4. , 4. , 4. , 4. ],\n",
       "        [5. , 5. , 5. , 5. ]],\n",
       "\n",
       "       [[6. , 6. , 6. , 6. ],\n",
       "        [4.5, 4.5, 4.5, 4.5],\n",
       "        [2. , 2. , 2. , 2. ],\n",
       "        [4. , 4. , 4. , 4. ],\n",
       "        [5. , 5. , 5. , 5. ]]])"
      ]
     },
     "execution_count": 62,
     "metadata": {},
     "output_type": "execute_result"
    }
   ],
   "source": [
    "np.concatenate([X_base[:,None], reverted], axis=1)"
   ]
  },
  {
   "cell_type": "code",
   "execution_count": null,
   "metadata": {},
   "outputs": [],
   "source": []
  },
  {
   "cell_type": "code",
   "execution_count": 38,
   "metadata": {},
   "outputs": [
    {
     "ename": "ValueError",
     "evalue": "operands could not be broadcast together with shapes (2,4,4) (4,1,2) ",
     "output_type": "error",
     "traceback": [
      "\u001b[0;31m---------------------------------------------------------------------------\u001b[0m",
      "\u001b[0;31mValueError\u001b[0m                                Traceback (most recent call last)",
      "\u001b[1;32m/home/gykovacs/workspaces/smote_variants/notebooks/experiments/004_simplex_sampling.ipynb Cell 17\u001b[0m in \u001b[0;36m<cell line: 1>\u001b[0;34m()\u001b[0m\n\u001b[0;32m----> <a href='vscode-notebook-cell://wsl%2Bubuntu-20.04/home/gykovacs/workspaces/smote_variants/notebooks/experiments/004_simplex_sampling.ipynb#ch0000132vscode-remote?line=0'>1</a>\u001b[0m diff_vectors\u001b[39m*\u001b[39;49mvertex_weights_simp\u001b[39m.\u001b[39;49mT[:,\u001b[39mNone\u001b[39;49;00m]\n",
      "\u001b[0;31mValueError\u001b[0m: operands could not be broadcast together with shapes (2,4,4) (4,1,2) "
     ]
    }
   ],
   "source": [
    "diff_vectors*vertex_weights_simp[:,None]"
   ]
  },
  {
   "cell_type": "code",
   "execution_count": 5,
   "metadata": {},
   "outputs": [
    {
     "name": "stderr",
     "output_type": "stream",
     "text": [
      "2022-07-20 15:33:13,099:INFO:{SMOTE}: Running sampling via {('SMOTE', \"{'proportion': 1.0, 'n_neighbors': 5, 'nn_params': {}, 'n_jobs': 1, 'sampling_params': {'n_dim': 2, 'simplex_sampling': 'uniform', 'within_simplex_sampling': 'random'}, 'random_state': None}\")}\n",
      "2022-07-20 15:33:13,108:INFO:NearestNeighborsWithMetricTensor: NN fitting with metric minkowski\n",
      "2022-07-20 15:33:13,130:INFO:NearestNeighborsWithMetricTensor: kneighbors query minkowski\n"
     ]
    },
    {
     "data": {
      "text/plain": [
       "(array([[1.        , 1.        , 1.        , 1.        ],\n",
       "        [2.        , 2.        , 2.        , 2.        ],\n",
       "        [3.        , 3.        , 3.        , 3.        ],\n",
       "        [4.        , 4.        , 4.        , 4.        ],\n",
       "        [5.        , 5.        , 5.        , 5.        ],\n",
       "        [6.        , 6.        , 6.        , 6.        ],\n",
       "        [7.        , 7.        , 7.        , 7.        ],\n",
       "        [8.        , 8.        , 8.        , 8.        ],\n",
       "        [6.52314702, 6.52314702, 6.52314702, 6.52314702],\n",
       "        [4.54549651, 4.54549651, 4.54549651, 4.54549651]]),\n",
       " array([0, 0, 0, 1, 1, 0, 1, 0, 1, 1]))"
      ]
     },
     "execution_count": 5,
     "metadata": {},
     "output_type": "execute_result"
    }
   ],
   "source": [
    "SMOTE().sample(X, np.array([0, 0, 0, 1, 1, 0, 1, 0]))"
   ]
  },
  {
   "cell_type": "code",
   "execution_count": null,
   "metadata": {},
   "outputs": [],
   "source": []
  },
  {
   "cell_type": "code",
   "execution_count": 6,
   "metadata": {},
   "outputs": [],
   "source": [
    "dim = 3"
   ]
  },
  {
   "cell_type": "code",
   "execution_count": 7,
   "metadata": {},
   "outputs": [],
   "source": [
    "dist, ind = NearestNeighbors(n_neighbors=n_neighbors).fit(X).kneighbors(X, return_distance=True)"
   ]
  },
  {
   "cell_type": "code",
   "execution_count": 8,
   "metadata": {},
   "outputs": [],
   "source": [
    "ssm = SimplexSamplingMixin(n_dim=2)"
   ]
  },
  {
   "cell_type": "code",
   "execution_count": 9,
   "metadata": {},
   "outputs": [
    {
     "ename": "TypeError",
     "evalue": "SimplexSamplingMixin.sample_simplex() got an unexpected keyword argument 'distances'",
     "output_type": "error",
     "traceback": [
      "\u001b[0;31m---------------------------------------------------------------------------\u001b[0m",
      "\u001b[0;31mTypeError\u001b[0m                                 Traceback (most recent call last)",
      "\u001b[1;32m/home/gykovacs/workspaces/smote_variants/notebooks/experiments/004_simplex_sampling.ipynb Cell 11\u001b[0m in \u001b[0;36m<cell line: 1>\u001b[0;34m()\u001b[0m\n\u001b[0;32m----> <a href='vscode-notebook-cell://wsl%2Bubuntu-20.04/home/gykovacs/workspaces/smote_variants/notebooks/experiments/004_simplex_sampling.ipynb#ch0000117vscode-remote?line=0'>1</a>\u001b[0m ssm\u001b[39m.\u001b[39;49msample_simplex(X, distances\u001b[39m=\u001b[39;49mdist, indices\u001b[39m=\u001b[39;49mind, n_to_sample\u001b[39m=\u001b[39;49m\u001b[39m10\u001b[39;49m)\n",
      "\u001b[0;31mTypeError\u001b[0m: SimplexSamplingMixin.sample_simplex() got an unexpected keyword argument 'distances'"
     ]
    }
   ],
   "source": [
    "ssm.sample_simplex(X, distances=dist, indices=ind, n_to_sample=10)"
   ]
  },
  {
   "cell_type": "code",
   "execution_count": null,
   "metadata": {},
   "outputs": [],
   "source": []
  },
  {
   "cell_type": "code",
   "execution_count": null,
   "metadata": {},
   "outputs": [],
   "source": [
    "all_simplices = all_neighbor_simplices_real_idx(dim, ind)"
   ]
  },
  {
   "cell_type": "code",
   "execution_count": null,
   "metadata": {},
   "outputs": [
    {
     "data": {
      "text/plain": [
       "array([[1., 1., 1., 1.],\n",
       "       [2., 2., 2., 2.],\n",
       "       [3., 3., 3., 3.]])"
      ]
     },
     "execution_count": 7,
     "metadata": {},
     "output_type": "execute_result"
    }
   ],
   "source": [
    "X[all_simplices][0]"
   ]
  },
  {
   "cell_type": "code",
   "execution_count": null,
   "metadata": {},
   "outputs": [],
   "source": [
    "X2 = np.array([[[0.0, 1.0, 0.0],\n",
    "                [1.0, 0.0, 0.0]],\n",
    "                [[0.0, 2.0, 0.0],\n",
    "                [2.0, 0.0, 0.0]]])"
   ]
  },
  {
   "cell_type": "code",
   "execution_count": null,
   "metadata": {},
   "outputs": [
    {
     "data": {
      "text/plain": [
       "array([1.41421356, 2.82842712])"
      ]
     },
     "execution_count": 9,
     "metadata": {},
     "output_type": "execute_result"
    }
   ],
   "source": [
    "np.sqrt(np.sum((X2[:,0,:] - X2[:,1,:])**2, axis=1))"
   ]
  },
  {
   "cell_type": "code",
   "execution_count": null,
   "metadata": {},
   "outputs": [
    {
     "data": {
      "text/plain": [
       "[1.4142135623730951, 2.82842712474619]"
      ]
     },
     "execution_count": 10,
     "metadata": {},
     "output_type": "execute_result"
    }
   ],
   "source": [
    "[simplex_volume(x) for x in X2]"
   ]
  },
  {
   "cell_type": "code",
   "execution_count": null,
   "metadata": {},
   "outputs": [
    {
     "data": {
      "text/plain": [
       "0.0"
      ]
     },
     "execution_count": 11,
     "metadata": {},
     "output_type": "execute_result"
    }
   ],
   "source": [
    "simplex_volume(X[all_simplices][1])"
   ]
  },
  {
   "cell_type": "code",
   "execution_count": null,
   "metadata": {},
   "outputs": [
    {
     "ename": "NameError",
     "evalue": "name 'neighbors_indices' is not defined",
     "output_type": "error",
     "traceback": [
      "\u001b[0;31m---------------------------------------------------------------------------\u001b[0m",
      "\u001b[0;31mNameError\u001b[0m                                 Traceback (most recent call last)",
      "\u001b[1;32m/home/gykovacs/workspaces/smote_variants/notebooks/experiments/004_simplex_sampling.ipynb Cell 12\u001b[0m in \u001b[0;36m<cell line: 1>\u001b[0;34m()\u001b[0m\n\u001b[0;32m----> <a href='vscode-notebook-cell://wsl%2Bubuntu-20.04/home/gykovacs/workspaces/smote_variants/notebooks/experiments/004_simplex_sampling.ipynb#ch0000067vscode-remote?line=0'>1</a>\u001b[0m \u001b[39mprint\u001b[39m(neighbors_indices[:\u001b[39m10\u001b[39m])\n",
      "\u001b[0;31mNameError\u001b[0m: name 'neighbors_indices' is not defined"
     ]
    }
   ],
   "source": [
    "print(neighbors_indices[:10])"
   ]
  },
  {
   "cell_type": "code",
   "execution_count": null,
   "metadata": {},
   "outputs": [
    {
     "name": "stdout",
     "output_type": "stream",
     "text": [
      "[[0 1 2]\n",
      " [0 1 3]\n",
      " [0 1 4]\n",
      " [0 2 3]\n",
      " [0 2 4]\n",
      " [0 3 4]\n",
      " [1 1 2]\n",
      " [1 1 3]\n",
      " [1 1 4]\n",
      " [1 2 3]]\n"
     ]
    }
   ],
   "source": [
    "print(all_simplices[:10])"
   ]
  },
  {
   "cell_type": "code",
   "execution_count": null,
   "metadata": {},
   "outputs": [
    {
     "name": "stdout",
     "output_type": "stream",
     "text": [
      "Help on function take in module numpy:\n",
      "\n",
      "take(a, indices, axis=None, out=None, mode='raise')\n",
      "    Take elements from an array along an axis.\n",
      "    \n",
      "    When axis is not None, this function does the same thing as \"fancy\"\n",
      "    indexing (indexing arrays using arrays); however, it can be easier to use\n",
      "    if you need elements along a given axis. A call such as\n",
      "    ``np.take(arr, indices, axis=3)`` is equivalent to\n",
      "    ``arr[:,:,:,indices,...]``.\n",
      "    \n",
      "    Explained without fancy indexing, this is equivalent to the following use\n",
      "    of `ndindex`, which sets each of ``ii``, ``jj``, and ``kk`` to a tuple of\n",
      "    indices::\n",
      "    \n",
      "        Ni, Nk = a.shape[:axis], a.shape[axis+1:]\n",
      "        Nj = indices.shape\n",
      "        for ii in ndindex(Ni):\n",
      "            for jj in ndindex(Nj):\n",
      "                for kk in ndindex(Nk):\n",
      "                    out[ii + jj + kk] = a[ii + (indices[jj],) + kk]\n",
      "    \n",
      "    Parameters\n",
      "    ----------\n",
      "    a : array_like (Ni..., M, Nk...)\n",
      "        The source array.\n",
      "    indices : array_like (Nj...)\n",
      "        The indices of the values to extract.\n",
      "    \n",
      "        .. versionadded:: 1.8.0\n",
      "    \n",
      "        Also allow scalars for indices.\n",
      "    axis : int, optional\n",
      "        The axis over which to select values. By default, the flattened\n",
      "        input array is used.\n",
      "    out : ndarray, optional (Ni..., Nj..., Nk...)\n",
      "        If provided, the result will be placed in this array. It should\n",
      "        be of the appropriate shape and dtype. Note that `out` is always\n",
      "        buffered if `mode='raise'`; use other modes for better performance.\n",
      "    mode : {'raise', 'wrap', 'clip'}, optional\n",
      "        Specifies how out-of-bounds indices will behave.\n",
      "    \n",
      "        * 'raise' -- raise an error (default)\n",
      "        * 'wrap' -- wrap around\n",
      "        * 'clip' -- clip to the range\n",
      "    \n",
      "        'clip' mode means that all indices that are too large are replaced\n",
      "        by the index that addresses the last element along that axis. Note\n",
      "        that this disables indexing with negative numbers.\n",
      "    \n",
      "    Returns\n",
      "    -------\n",
      "    out : ndarray (Ni..., Nj..., Nk...)\n",
      "        The returned array has the same type as `a`.\n",
      "    \n",
      "    See Also\n",
      "    --------\n",
      "    compress : Take elements using a boolean mask\n",
      "    ndarray.take : equivalent method\n",
      "    take_along_axis : Take elements by matching the array and the index arrays\n",
      "    \n",
      "    Notes\n",
      "    -----\n",
      "    \n",
      "    By eliminating the inner loop in the description above, and using `s_` to\n",
      "    build simple slice objects, `take` can be expressed  in terms of applying\n",
      "    fancy indexing to each 1-d slice::\n",
      "    \n",
      "        Ni, Nk = a.shape[:axis], a.shape[axis+1:]\n",
      "        for ii in ndindex(Ni):\n",
      "            for kk in ndindex(Nj):\n",
      "                out[ii + s_[...,] + kk] = a[ii + s_[:,] + kk][indices]\n",
      "    \n",
      "    For this reason, it is equivalent to (but faster than) the following use\n",
      "    of `apply_along_axis`::\n",
      "    \n",
      "        out = np.apply_along_axis(lambda a_1d: a_1d[indices], axis, a)\n",
      "    \n",
      "    Examples\n",
      "    --------\n",
      "    >>> a = [4, 3, 5, 7, 6, 8]\n",
      "    >>> indices = [0, 1, 4]\n",
      "    >>> np.take(a, indices)\n",
      "    array([4, 3, 6])\n",
      "    \n",
      "    In this example if `a` is an ndarray, \"fancy\" indexing can be used.\n",
      "    \n",
      "    >>> a = np.array(a)\n",
      "    >>> a[indices]\n",
      "    array([4, 3, 6])\n",
      "    \n",
      "    If `indices` is not one dimensional, the output also has these dimensions.\n",
      "    \n",
      "    >>> np.take(a, [[0, 1], [2, 3]])\n",
      "    array([[4, 3],\n",
      "           [5, 7]])\n",
      "\n"
     ]
    }
   ],
   "source": [
    "help(np.take)"
   ]
  },
  {
   "cell_type": "code",
   "execution_count": null,
   "metadata": {},
   "outputs": [
    {
     "data": {
      "text/plain": [
       "array([[0, 1, 2],\n",
       "       [0, 1, 3],\n",
       "       [0, 1, 4],\n",
       "       [0, 2, 3],\n",
       "       [0, 2, 4],\n",
       "       [0, 3, 4],\n",
       "       [1, 1, 2],\n",
       "       [1, 1, 3],\n",
       "       [1, 1, 4],\n",
       "       [1, 2, 3]])"
      ]
     },
     "execution_count": 135,
     "metadata": {},
     "output_type": "execute_result"
    }
   ],
   "source": [
    "np.take(neighbors_indices[:10], all_simplices[:10])"
   ]
  },
  {
   "cell_type": "code",
   "execution_count": null,
   "metadata": {},
   "outputs": [
    {
     "data": {
      "text/plain": [
       "array([[[0, 1, 2],\n",
       "        [0, 1, 2],\n",
       "        [0, 1, 2]],\n",
       "\n",
       "       [[3, 4, 5],\n",
       "        [3, 4, 5],\n",
       "        [3, 4, 5]],\n",
       "\n",
       "       [[6, 7, 8],\n",
       "        [6, 7, 8],\n",
       "        [6, 7, 8]]])"
      ]
     },
     "execution_count": 144,
     "metadata": {},
     "output_type": "execute_result"
    }
   ],
   "source": [
    "arr[:,idx]"
   ]
  },
  {
   "cell_type": "code",
   "execution_count": null,
   "metadata": {},
   "outputs": [],
   "source": [
    "def array_array_index(array, indices):\n",
    "    \"\"\"\n",
    "    Take samples from an array by indices row by row\n",
    "\n",
    "    Args:\n",
    "        array (np.array): array to sample from\n",
    "        indices (np.array): array of indices\n",
    "    \n",
    "    Returns:\n",
    "        array (indices.shape): the sampled values\n",
    "    \"\"\"\n",
    "    stride = np.arange(indices.shape[0])*array.shape[1]\n",
    "    indices_mod = indices + stride[:, None]\n",
    "    indices_flat = indices_mod.flatten()\n",
    "    return array.flatten()[indices_flat].reshape(indices.shape)\n",
    "    "
   ]
  },
  {
   "cell_type": "code",
   "execution_count": null,
   "metadata": {},
   "outputs": [
    {
     "data": {
      "text/plain": [
       "array([[0, 1, 3],\n",
       "       [0, 2, 3],\n",
       "       [3, 1, 2],\n",
       "       [0, 0, 0]])"
      ]
     },
     "execution_count": 174,
     "metadata": {},
     "output_type": "execute_result"
    }
   ],
   "source": [
    "arr = np.array([[0, 1, 2, 3], [3, 4, 5, 6], [6, 7, 8, 9], [10, 11, 12, 13]])\n",
    "idx = np.array([[0, 1, 3], [0, 2, 3], [3, 1, 2], [0, 0, 0]])\n",
    "np.take(arr, idx)"
   ]
  },
  {
   "cell_type": "code",
   "execution_count": null,
   "metadata": {},
   "outputs": [
    {
     "data": {
      "text/plain": [
       "array([[ 0,  1,  3],\n",
       "       [ 3,  5,  6],\n",
       "       [ 9,  7,  8],\n",
       "       [10, 10, 10]])"
      ]
     },
     "execution_count": 175,
     "metadata": {},
     "output_type": "execute_result"
    }
   ],
   "source": [
    "array_array_index(arr, idx)"
   ]
  },
  {
   "cell_type": "code",
   "execution_count": null,
   "metadata": {},
   "outputs": [
    {
     "data": {
      "text/plain": [
       "array([0, 1, 2, 3, 4, 5, 6, 7, 8])"
      ]
     },
     "execution_count": 163,
     "metadata": {},
     "output_type": "execute_result"
    }
   ],
   "source": [
    "arr.flatten()"
   ]
  },
  {
   "cell_type": "code",
   "execution_count": null,
   "metadata": {},
   "outputs": [
    {
     "data": {
      "text/plain": [
       "array([0, 3, 6])"
      ]
     },
     "execution_count": 157,
     "metadata": {},
     "output_type": "execute_result"
    }
   ],
   "source": [
    "np.arange(idx.shape[0])*arr.shape[1]"
   ]
  },
  {
   "cell_type": "code",
   "execution_count": null,
   "metadata": {},
   "outputs": [],
   "source": [
    "idx_mod = idx + (np.arange(idx.shape[0])*arr.shape[1])[:, None]"
   ]
  },
  {
   "cell_type": "code",
   "execution_count": null,
   "metadata": {},
   "outputs": [
    {
     "data": {
      "text/plain": [
       "array([[0, 1, 2],\n",
       "       [3, 4, 5],\n",
       "       [6, 7, 8]])"
      ]
     },
     "execution_count": 159,
     "metadata": {},
     "output_type": "execute_result"
    }
   ],
   "source": [
    "idx_mod"
   ]
  },
  {
   "cell_type": "code",
   "execution_count": null,
   "metadata": {},
   "outputs": [
    {
     "data": {
      "text/plain": [
       "array([0, 1, 2, 3, 4, 5, 6, 7, 8])"
      ]
     },
     "execution_count": 160,
     "metadata": {},
     "output_type": "execute_result"
    }
   ],
   "source": [
    "idx_mod.reshape(np.prod(idx_mod.shape))"
   ]
  },
  {
   "cell_type": "code",
   "execution_count": null,
   "metadata": {},
   "outputs": [
    {
     "data": {
      "text/plain": [
       "array([[0, 1, 2],\n",
       "       [3, 4, 5],\n",
       "       [6, 7, 8]])"
      ]
     },
     "execution_count": 161,
     "metadata": {},
     "output_type": "execute_result"
    }
   ],
   "source": [
    "arr.reshape(np.prod(arr.shape))[idx_mod].reshape(arr.shape)"
   ]
  },
  {
   "cell_type": "code",
   "execution_count": null,
   "metadata": {},
   "outputs": [
    {
     "ename": "IndexError",
     "evalue": "index 1 is out of bounds for axis 0 with size 1",
     "output_type": "error",
     "traceback": [
      "\u001b[0;31m---------------------------------------------------------------------------\u001b[0m",
      "\u001b[0;31mIndexError\u001b[0m                                Traceback (most recent call last)",
      "\u001b[1;32m/home/gykovacs/workspaces/smote_variants/notebooks/experiments/004_simplex_sampling.ipynb Cell 19\u001b[0m in \u001b[0;36m<cell line: 1>\u001b[0;34m()\u001b[0m\n\u001b[0;32m----> <a href='vscode-notebook-cell://wsl%2Bubuntu-20.04/home/gykovacs/workspaces/smote_variants/notebooks/experiments/004_simplex_sampling.ipynb#ch0000075vscode-remote?line=0'>1</a>\u001b[0m arr[\u001b[39mNone\u001b[39;49;00m,:,:][idx]\n",
      "\u001b[0;31mIndexError\u001b[0m: index 1 is out of bounds for axis 0 with size 1"
     ]
    }
   ],
   "source": [
    "arr[:,:][idx]"
   ]
  },
  {
   "cell_type": "code",
   "execution_count": null,
   "metadata": {},
   "outputs": [],
   "source": [
    "neighbor_vector_indices = np.take(neighbors_indices, all_simplices[:,1:])"
   ]
  },
  {
   "cell_type": "code",
   "execution_count": null,
   "metadata": {},
   "outputs": [
    {
     "data": {
      "text/plain": [
       "42"
      ]
     },
     "execution_count": 131,
     "metadata": {},
     "output_type": "execute_result"
    }
   ],
   "source": [
    "len(all_simplices)"
   ]
  },
  {
   "cell_type": "code",
   "execution_count": null,
   "metadata": {},
   "outputs": [
    {
     "data": {
      "text/plain": [
       "42"
      ]
     },
     "execution_count": 130,
     "metadata": {},
     "output_type": "execute_result"
    }
   ],
   "source": [
    "len(neighbor_vector_indices)"
   ]
  },
  {
   "cell_type": "code",
   "execution_count": null,
   "metadata": {},
   "outputs": [
    {
     "data": {
      "text/plain": [
       "array([[1, 2],\n",
       "       [1, 3],\n",
       "       [1, 4],\n",
       "       [2, 3],\n",
       "       [2, 4],\n",
       "       [3, 4],\n",
       "       [1, 2],\n",
       "       [1, 3],\n",
       "       [1, 4],\n",
       "       [2, 3],\n",
       "       [2, 4],\n",
       "       [3, 4],\n",
       "       [1, 2],\n",
       "       [1, 3],\n",
       "       [1, 4],\n",
       "       [2, 3],\n",
       "       [2, 4],\n",
       "       [3, 4],\n",
       "       [1, 2],\n",
       "       [1, 3],\n",
       "       [1, 4],\n",
       "       [2, 3],\n",
       "       [2, 4],\n",
       "       [3, 4],\n",
       "       [1, 2],\n",
       "       [1, 3],\n",
       "       [1, 4],\n",
       "       [2, 3],\n",
       "       [2, 4],\n",
       "       [3, 4],\n",
       "       [1, 2],\n",
       "       [1, 3],\n",
       "       [1, 4],\n",
       "       [2, 3],\n",
       "       [2, 4],\n",
       "       [3, 4],\n",
       "       [1, 2],\n",
       "       [1, 3],\n",
       "       [1, 4],\n",
       "       [2, 3],\n",
       "       [2, 4],\n",
       "       [3, 4]])"
      ]
     },
     "execution_count": 124,
     "metadata": {},
     "output_type": "execute_result"
    }
   ],
   "source": [
    "neighbor_vector_indices"
   ]
  },
  {
   "cell_type": "code",
   "execution_count": null,
   "metadata": {},
   "outputs": [],
   "source": [
    "simplex_indices = np.vstack([base_vector_indices.T, neighbor_vector_indices.T]).T"
   ]
  },
  {
   "cell_type": "code",
   "execution_count": null,
   "metadata": {},
   "outputs": [
    {
     "data": {
      "text/plain": [
       "array([[0, 1, 2],\n",
       "       [0, 1, 3],\n",
       "       [0, 1, 4],\n",
       "       [0, 2, 3],\n",
       "       [0, 2, 4],\n",
       "       [0, 3, 4],\n",
       "       [1, 1, 2],\n",
       "       [1, 1, 3],\n",
       "       [1, 1, 4],\n",
       "       [1, 2, 3],\n",
       "       [1, 2, 4],\n",
       "       [1, 3, 4],\n",
       "       [2, 1, 2],\n",
       "       [2, 1, 3],\n",
       "       [2, 1, 4],\n",
       "       [2, 2, 3],\n",
       "       [2, 2, 4],\n",
       "       [2, 3, 4],\n",
       "       [3, 1, 2],\n",
       "       [3, 1, 3],\n",
       "       [3, 1, 4],\n",
       "       [3, 2, 3],\n",
       "       [3, 2, 4],\n",
       "       [3, 3, 4],\n",
       "       [4, 1, 2],\n",
       "       [4, 1, 3],\n",
       "       [4, 1, 4],\n",
       "       [4, 2, 3],\n",
       "       [4, 2, 4],\n",
       "       [4, 3, 4],\n",
       "       [5, 1, 2],\n",
       "       [5, 1, 3],\n",
       "       [5, 1, 4],\n",
       "       [5, 2, 3],\n",
       "       [5, 2, 4],\n",
       "       [5, 3, 4],\n",
       "       [6, 1, 2],\n",
       "       [6, 1, 3],\n",
       "       [6, 1, 4],\n",
       "       [6, 2, 3],\n",
       "       [6, 2, 4],\n",
       "       [6, 3, 4]])"
      ]
     },
     "execution_count": 126,
     "metadata": {},
     "output_type": "execute_result"
    }
   ],
   "source": [
    "simplex_indices"
   ]
  },
  {
   "cell_type": "code",
   "execution_count": null,
   "metadata": {},
   "outputs": [],
   "source": [
    "\n",
    "\n",
    "\n",
    "\n",
    "simplex_indices = np.vstack([base_vector_indices.T, neighbor_vector_indices.T]).T"
   ]
  },
  {
   "cell_type": "code",
   "execution_count": null,
   "metadata": {},
   "outputs": [
    {
     "data": {
      "text/plain": [
       "array([[0, 1, 2, 0, 1],\n",
       "       [0, 1, 2, 0, 1],\n",
       "       [0, 1, 2, 0, 1],\n",
       "       [0, 1, 2, 0, 1],\n",
       "       [0, 1, 2, 0, 1],\n",
       "       [0, 1, 2, 0, 1],\n",
       "       [0, 1, 2, 0, 1],\n",
       "       [0, 1, 2, 0, 1],\n",
       "       [0, 1, 2, 0, 1],\n",
       "       [0, 1, 2, 0, 1],\n",
       "       [0, 1, 2, 0, 1],\n",
       "       [0, 1, 2, 0, 1],\n",
       "       [1, 0, 2, 0, 1],\n",
       "       [1, 0, 2, 0, 1],\n",
       "       [1, 0, 2, 0, 1],\n",
       "       [1, 0, 2, 0, 1],\n",
       "       [1, 0, 2, 0, 1],\n",
       "       [1, 0, 2, 0, 1],\n",
       "       [1, 0, 2, 0, 1],\n",
       "       [1, 0, 2, 0, 1],\n",
       "       [1, 0, 2, 0, 1],\n",
       "       [1, 0, 2, 0, 1],\n",
       "       [1, 0, 2, 0, 1],\n",
       "       [1, 0, 2, 0, 1],\n",
       "       [2, 1, 0, 1, 0],\n",
       "       [2, 1, 0, 1, 0],\n",
       "       [2, 1, 0, 1, 0],\n",
       "       [2, 1, 0, 1, 0],\n",
       "       [2, 1, 0, 1, 0],\n",
       "       [2, 1, 0, 1, 0],\n",
       "       [2, 1, 0, 1, 0],\n",
       "       [2, 1, 0, 1, 0],\n",
       "       [2, 1, 0, 1, 0],\n",
       "       [2, 1, 0, 1, 0],\n",
       "       [2, 1, 0, 1, 0],\n",
       "       [2, 1, 0, 1, 0],\n",
       "       [3, 2, 1, 3, 1],\n",
       "       [3, 2, 1, 3, 1],\n",
       "       [3, 2, 1, 3, 1],\n",
       "       [3, 2, 1, 3, 1],\n",
       "       [3, 2, 1, 3, 1],\n",
       "       [3, 2, 1, 3, 1],\n",
       "       [3, 2, 1, 3, 1],\n",
       "       [3, 2, 1, 3, 1],\n",
       "       [3, 2, 1, 3, 1],\n",
       "       [3, 2, 1, 3, 1],\n",
       "       [3, 2, 1, 3, 1],\n",
       "       [3, 2, 1, 3, 1],\n",
       "       [4, 3, 0, 0, 2],\n",
       "       [4, 3, 0, 0, 2],\n",
       "       [4, 3, 0, 0, 2],\n",
       "       [4, 3, 0, 0, 2],\n",
       "       [4, 3, 0, 0, 2],\n",
       "       [4, 3, 0, 0, 2],\n",
       "       [4, 3, 0, 0, 2],\n",
       "       [4, 3, 0, 0, 2],\n",
       "       [4, 3, 0, 0, 2],\n",
       "       [4, 3, 0, 0, 2],\n",
       "       [4, 3, 0, 0, 2],\n",
       "       [4, 3, 0, 0, 2],\n",
       "       [5, 0, 1, 0, 2],\n",
       "       [5, 0, 1, 0, 2],\n",
       "       [5, 0, 1, 0, 2],\n",
       "       [5, 0, 1, 0, 2],\n",
       "       [5, 0, 1, 0, 2],\n",
       "       [5, 0, 1, 0, 2],\n",
       "       [5, 0, 1, 0, 2],\n",
       "       [5, 0, 1, 0, 2],\n",
       "       [5, 0, 1, 0, 2],\n",
       "       [5, 0, 1, 0, 2],\n",
       "       [5, 0, 1, 0, 2],\n",
       "       [5, 0, 1, 0, 2],\n",
       "       [6, 3, 1, 0, 2],\n",
       "       [6, 3, 1, 0, 2],\n",
       "       [6, 3, 1, 0, 2],\n",
       "       [6, 3, 1, 0, 2],\n",
       "       [6, 3, 1, 0, 2],\n",
       "       [6, 3, 1, 0, 2],\n",
       "       [6, 3, 1, 0, 2],\n",
       "       [6, 3, 1, 0, 2],\n",
       "       [6, 3, 1, 0, 2],\n",
       "       [6, 3, 1, 0, 2],\n",
       "       [6, 3, 1, 0, 2],\n",
       "       [6, 3, 1, 0, 2]])"
      ]
     },
     "execution_count": 77,
     "metadata": {},
     "output_type": "execute_result"
    }
   ],
   "source": [
    "simplex_indices"
   ]
  },
  {
   "cell_type": "code",
   "execution_count": null,
   "metadata": {},
   "outputs": [],
   "source": []
  },
  {
   "cell_type": "code",
   "execution_count": null,
   "metadata": {},
   "outputs": [],
   "source": [
    "picked = all_simplices[np.random.choice(np.arange(all_simplices.shape[0]), 10)]"
   ]
  },
  {
   "cell_type": "code",
   "execution_count": null,
   "metadata": {},
   "outputs": [],
   "source": [
    "weights = np.ones(simplices.shape)"
   ]
  },
  {
   "cell_type": "code",
   "execution_count": null,
   "metadata": {},
   "outputs": [],
   "source": [
    "weights = weights/np.sum(weights, axis=1)[:, None]"
   ]
  },
  {
   "cell_type": "code",
   "execution_count": null,
   "metadata": {},
   "outputs": [],
   "source": []
  },
  {
   "cell_type": "code",
   "execution_count": null,
   "metadata": {},
   "outputs": [
    {
     "data": {
      "text/plain": [
       "array([[5, 1, 1],\n",
       "       [1, 2, 2],\n",
       "       [1, 2, 4],\n",
       "       [0, 2, 1],\n",
       "       [3, 1, 4],\n",
       "       [1, 3, 2],\n",
       "       [1, 3, 3],\n",
       "       [3, 2, 4],\n",
       "       [0, 4, 3],\n",
       "       [2, 2, 2]])"
      ]
     },
     "execution_count": 65,
     "metadata": {},
     "output_type": "execute_result"
    }
   ],
   "source": [
    "picked"
   ]
  },
  {
   "cell_type": "code",
   "execution_count": null,
   "metadata": {},
   "outputs": [
    {
     "data": {
      "text/plain": [
       "array([[5, 6, 4, 3, 2],\n",
       "       [1, 0, 2, 3, 4],\n",
       "       [1, 0, 2, 3, 4],\n",
       "       [0, 1, 2, 3, 4],\n",
       "       [3, 2, 4, 5, 1],\n",
       "       [1, 0, 2, 3, 4],\n",
       "       [1, 0, 2, 3, 4],\n",
       "       [3, 2, 4, 5, 1],\n",
       "       [0, 1, 2, 3, 4],\n",
       "       [2, 1, 3, 4, 0]])"
      ]
     },
     "execution_count": 66,
     "metadata": {},
     "output_type": "execute_result"
    }
   ],
   "source": [
    "ind[picked[:,0]]"
   ]
  },
  {
   "cell_type": "code",
   "execution_count": null,
   "metadata": {},
   "outputs": [
    {
     "data": {
      "text/plain": [
       "array([[1, 1],\n",
       "       [2, 2],\n",
       "       [2, 4],\n",
       "       [2, 1],\n",
       "       [1, 4],\n",
       "       [3, 2],\n",
       "       [3, 3],\n",
       "       [2, 4],\n",
       "       [4, 3],\n",
       "       [2, 2]])"
      ]
     },
     "execution_count": 67,
     "metadata": {},
     "output_type": "execute_result"
    }
   ],
   "source": [
    "picked[:,1:]"
   ]
  },
  {
   "cell_type": "code",
   "execution_count": null,
   "metadata": {},
   "outputs": [],
   "source": [
    "bases = ind[picked[:,0]]"
   ]
  },
  {
   "cell_type": "code",
   "execution_count": null,
   "metadata": {},
   "outputs": [
    {
     "data": {
      "text/plain": [
       "array([[5, 6, 4, 3, 2],\n",
       "       [0, 1, 2, 3, 4],\n",
       "       [0, 1, 2, 3, 4],\n",
       "       [0, 1, 2, 3, 4],\n",
       "       [3, 2, 4, 5, 1],\n",
       "       [6, 5, 4, 3, 2],\n",
       "       [0, 1, 2, 3, 4],\n",
       "       [4, 5, 3, 6, 2],\n",
       "       [6, 5, 4, 3, 2],\n",
       "       [6, 5, 4, 3, 2]])"
      ]
     },
     "execution_count": 54,
     "metadata": {},
     "output_type": "execute_result"
    }
   ],
   "source": [
    "bases"
   ]
  },
  {
   "cell_type": "code",
   "execution_count": null,
   "metadata": {},
   "outputs": [
    {
     "data": {
      "text/plain": [
       "array([[6, 6],\n",
       "       [4, 4],\n",
       "       [4, 2],\n",
       "       [4, 6],\n",
       "       [6, 2],\n",
       "       [3, 4],\n",
       "       [3, 3],\n",
       "       [4, 2],\n",
       "       [2, 3],\n",
       "       [4, 4]])"
      ]
     },
     "execution_count": 68,
     "metadata": {},
     "output_type": "execute_result"
    }
   ],
   "source": [
    "np.take(bases, picked[:,1:])"
   ]
  },
  {
   "cell_type": "code",
   "execution_count": null,
   "metadata": {},
   "outputs": [],
   "source": [
    "simplices_final = np.vstack([picked[:,0].T, np.take(bases, picked[:,1:]).T]).T"
   ]
  },
  {
   "cell_type": "code",
   "execution_count": null,
   "metadata": {},
   "outputs": [
    {
     "data": {
      "text/plain": [
       "array([[[6., 6., 6., 6.],\n",
       "        [7., 7., 7., 7.],\n",
       "        [7., 7., 7., 7.]],\n",
       "\n",
       "       [[2., 2., 2., 2.],\n",
       "        [5., 5., 5., 5.],\n",
       "        [5., 5., 5., 5.]],\n",
       "\n",
       "       [[2., 2., 2., 2.],\n",
       "        [5., 5., 5., 5.],\n",
       "        [3., 3., 3., 3.]],\n",
       "\n",
       "       [[1., 1., 1., 1.],\n",
       "        [5., 5., 5., 5.],\n",
       "        [7., 7., 7., 7.]],\n",
       "\n",
       "       [[4., 4., 4., 4.],\n",
       "        [7., 7., 7., 7.],\n",
       "        [3., 3., 3., 3.]],\n",
       "\n",
       "       [[2., 2., 2., 2.],\n",
       "        [4., 4., 4., 4.],\n",
       "        [5., 5., 5., 5.]],\n",
       "\n",
       "       [[2., 2., 2., 2.],\n",
       "        [4., 4., 4., 4.],\n",
       "        [4., 4., 4., 4.]],\n",
       "\n",
       "       [[4., 4., 4., 4.],\n",
       "        [5., 5., 5., 5.],\n",
       "        [3., 3., 3., 3.]],\n",
       "\n",
       "       [[1., 1., 1., 1.],\n",
       "        [3., 3., 3., 3.],\n",
       "        [4., 4., 4., 4.]],\n",
       "\n",
       "       [[3., 3., 3., 3.],\n",
       "        [5., 5., 5., 5.],\n",
       "        [5., 5., 5., 5.]]])"
      ]
     },
     "execution_count": 71,
     "metadata": {},
     "output_type": "execute_result"
    }
   ],
   "source": [
    "X[simplices_final]"
   ]
  },
  {
   "cell_type": "code",
   "execution_count": null,
   "metadata": {},
   "outputs": [
    {
     "data": {
      "text/plain": [
       "array([[[[0, 1, 2, 3, 4]],\n",
       "\n",
       "        [[0, 1, 2, 3, 4]],\n",
       "\n",
       "        [[0, 1, 2, 3, 4]]],\n",
       "\n",
       "\n",
       "       [[[0, 1, 2, 3, 4]],\n",
       "\n",
       "        [[0, 1, 2, 3, 4]],\n",
       "\n",
       "        [[0, 1, 2, 3, 4]]],\n",
       "\n",
       "\n",
       "       [[[0, 1, 2, 3, 4]],\n",
       "\n",
       "        [[3, 2, 4, 5, 1]],\n",
       "\n",
       "        [[0, 1, 2, 3, 4]]],\n",
       "\n",
       "\n",
       "       [[[0, 1, 2, 3, 4]],\n",
       "\n",
       "        [[0, 1, 2, 3, 4]],\n",
       "\n",
       "        [[0, 1, 2, 3, 4]]],\n",
       "\n",
       "\n",
       "       [[[0, 1, 2, 3, 4]],\n",
       "\n",
       "        [[0, 1, 2, 3, 4]],\n",
       "\n",
       "        [[0, 1, 2, 3, 4]]],\n",
       "\n",
       "\n",
       "       [[[0, 1, 2, 3, 4]],\n",
       "\n",
       "        [[3, 2, 4, 5, 1]],\n",
       "\n",
       "        [[3, 2, 4, 5, 1]]],\n",
       "\n",
       "\n",
       "       [[[0, 1, 2, 3, 4]],\n",
       "\n",
       "        [[0, 1, 2, 3, 4]],\n",
       "\n",
       "        [[0, 1, 2, 3, 4]]],\n",
       "\n",
       "\n",
       "       [[[0, 1, 2, 3, 4]],\n",
       "\n",
       "        [[3, 2, 4, 5, 1]],\n",
       "\n",
       "        [[0, 1, 2, 3, 4]]],\n",
       "\n",
       "\n",
       "       [[[0, 1, 2, 3, 4]],\n",
       "\n",
       "        [[0, 1, 2, 3, 4]],\n",
       "\n",
       "        [[0, 1, 2, 3, 4]]],\n",
       "\n",
       "\n",
       "       [[[0, 1, 2, 3, 4]],\n",
       "\n",
       "        [[0, 1, 2, 3, 4]],\n",
       "\n",
       "        [[0, 1, 2, 3, 4]]]])"
      ]
     },
     "execution_count": 53,
     "metadata": {},
     "output_type": "execute_result"
    }
   ],
   "source": [
    "bases[picked[:,1:]]"
   ]
  },
  {
   "cell_type": "code",
   "execution_count": null,
   "metadata": {},
   "outputs": [
    {
     "data": {
      "text/plain": [
       "array([[[0, 1, 2, 3, 4],\n",
       "        [0, 1, 2, 3, 4],\n",
       "        [0, 1, 2, 3, 4]],\n",
       "\n",
       "       [[0, 1, 2, 3, 4],\n",
       "        [0, 1, 2, 3, 4],\n",
       "        [0, 1, 2, 3, 4]],\n",
       "\n",
       "       [[0, 1, 2, 3, 4],\n",
       "        [3, 2, 4, 5, 1],\n",
       "        [0, 1, 2, 3, 4]],\n",
       "\n",
       "       [[0, 1, 2, 3, 4],\n",
       "        [0, 1, 2, 3, 4],\n",
       "        [0, 1, 2, 3, 4]],\n",
       "\n",
       "       [[0, 1, 2, 3, 4],\n",
       "        [0, 1, 2, 3, 4],\n",
       "        [0, 1, 2, 3, 4]],\n",
       "\n",
       "       [[0, 1, 2, 3, 4],\n",
       "        [3, 2, 4, 5, 1],\n",
       "        [3, 2, 4, 5, 1]],\n",
       "\n",
       "       [[0, 1, 2, 3, 4],\n",
       "        [0, 1, 2, 3, 4],\n",
       "        [0, 1, 2, 3, 4]],\n",
       "\n",
       "       [[0, 1, 2, 3, 4],\n",
       "        [3, 2, 4, 5, 1],\n",
       "        [0, 1, 2, 3, 4]],\n",
       "\n",
       "       [[0, 1, 2, 3, 4],\n",
       "        [0, 1, 2, 3, 4],\n",
       "        [0, 1, 2, 3, 4]],\n",
       "\n",
       "       [[0, 1, 2, 3, 4],\n",
       "        [0, 1, 2, 3, 4],\n",
       "        [0, 1, 2, 3, 4]]])"
      ]
     },
     "execution_count": 40,
     "metadata": {},
     "output_type": "execute_result"
    }
   ],
   "source": [
    "simplex_neighbor"
   ]
  },
  {
   "cell_type": "code",
   "execution_count": null,
   "metadata": {},
   "outputs": [],
   "source": []
  },
  {
   "cell_type": "code",
   "execution_count": null,
   "metadata": {},
   "outputs": [],
   "source": [
    "weighted_simplices = X[ind]"
   ]
  },
  {
   "cell_type": "code",
   "execution_count": null,
   "metadata": {},
   "outputs": [],
   "source": []
  },
  {
   "cell_type": "code",
   "execution_count": null,
   "metadata": {},
   "outputs": [],
   "source": [
    "simplices = np.array([[0, 1, 2],\n",
    "                    [0, 1, 3]])"
   ]
  },
  {
   "cell_type": "code",
   "execution_count": null,
   "metadata": {},
   "outputs": [],
   "source": [
    "weights = np.random.rand(*simplices.shape)\n",
    "weights = np.ones(simplices.shape)"
   ]
  },
  {
   "cell_type": "code",
   "execution_count": null,
   "metadata": {},
   "outputs": [],
   "source": [
    "weights = weights/np.sum(weights, axis=1)[:, None]"
   ]
  },
  {
   "cell_type": "code",
   "execution_count": null,
   "metadata": {},
   "outputs": [
    {
     "data": {
      "text/plain": [
       "array([[0.33333333, 0.33333333, 0.33333333],\n",
       "       [0.33333333, 0.33333333, 0.33333333]])"
      ]
     },
     "execution_count": 6,
     "metadata": {},
     "output_type": "execute_result"
    }
   ],
   "source": [
    "weights"
   ]
  },
  {
   "cell_type": "code",
   "execution_count": null,
   "metadata": {},
   "outputs": [
    {
     "data": {
      "text/plain": [
       "array([[[1., 1., 1., 1.],\n",
       "        [2., 2., 2., 2.],\n",
       "        [3., 3., 3., 3.]],\n",
       "\n",
       "       [[1., 1., 1., 1.],\n",
       "        [2., 2., 2., 2.],\n",
       "        [4., 4., 4., 4.]]])"
      ]
     },
     "execution_count": 7,
     "metadata": {},
     "output_type": "execute_result"
    }
   ],
   "source": [
    "X[simplices]"
   ]
  },
  {
   "cell_type": "code",
   "execution_count": null,
   "metadata": {},
   "outputs": [],
   "source": [
    "weighted_simplices = X[simplices]*weights[:, :, None]"
   ]
  },
  {
   "cell_type": "code",
   "execution_count": null,
   "metadata": {},
   "outputs": [
    {
     "data": {
      "text/plain": [
       "array([[[0.33333333, 0.33333333, 0.33333333, 0.33333333],\n",
       "        [0.66666667, 0.66666667, 0.66666667, 0.66666667],\n",
       "        [1.        , 1.        , 1.        , 1.        ]],\n",
       "\n",
       "       [[0.33333333, 0.33333333, 0.33333333, 0.33333333],\n",
       "        [0.66666667, 0.66666667, 0.66666667, 0.66666667],\n",
       "        [1.33333333, 1.33333333, 1.33333333, 1.33333333]]])"
      ]
     },
     "execution_count": 9,
     "metadata": {},
     "output_type": "execute_result"
    }
   ],
   "source": [
    "weighted_simplices"
   ]
  },
  {
   "cell_type": "code",
   "execution_count": null,
   "metadata": {},
   "outputs": [
    {
     "data": {
      "text/plain": [
       "array([[2.        , 2.        , 2.        , 2.        ],\n",
       "       [2.33333333, 2.33333333, 2.33333333, 2.33333333]])"
      ]
     },
     "execution_count": 10,
     "metadata": {},
     "output_type": "execute_result"
    }
   ],
   "source": [
    "np.sum(weighted_simplices, axis=1)"
   ]
  },
  {
   "cell_type": "code",
   "execution_count": null,
   "metadata": {},
   "outputs": [],
   "source": [
    "from smote_variants import SimplexSamplingMixin"
   ]
  },
  {
   "cell_type": "code",
   "execution_count": null,
   "metadata": {},
   "outputs": [],
   "source": [
    "ssm = SimplexSamplingMixin(n_dim=2, simplex_sampling='uniform', within_simplex_sampling='random', random_state=5)"
   ]
  },
  {
   "cell_type": "code",
   "execution_count": null,
   "metadata": {},
   "outputs": [
    {
     "data": {
      "text/plain": [
       "{'sampling_params': {'n_dim': 2,\n",
       "  'simplex_sampling': 'uniform',\n",
       "  'within_simplex_sampling': 'random'},\n",
       " 'random_state': 5}"
      ]
     },
     "execution_count": 13,
     "metadata": {},
     "output_type": "execute_result"
    }
   ],
   "source": [
    "ssm.get_params()"
   ]
  },
  {
   "cell_type": "code",
   "execution_count": null,
   "metadata": {},
   "outputs": [],
   "source": [
    "from sklearn.neighbors import NearestNeighbors"
   ]
  },
  {
   "cell_type": "code",
   "execution_count": null,
   "metadata": {},
   "outputs": [],
   "source": [
    "nn = NearestNeighbors(n_neighbors=3).fit(X)\n",
    "dist, ind = nn.kneighbors(X, return_distance=True)"
   ]
  },
  {
   "cell_type": "code",
   "execution_count": null,
   "metadata": {},
   "outputs": [
    {
     "ename": "ValueError",
     "evalue": "operands could not be broadcast together with shapes (2,3,3,4) (3,2,1) ",
     "output_type": "error",
     "traceback": [
      "\u001b[0;31m---------------------------------------------------------------------------\u001b[0m",
      "\u001b[0;31mValueError\u001b[0m                                Traceback (most recent call last)",
      "\u001b[1;32m/home/gykovacs/workspaces/smote_variants/notebooks/experiments/004_simplex_sampling.ipynb Cell 16\u001b[0m in \u001b[0;36m<cell line: 1>\u001b[0;34m()\u001b[0m\n\u001b[0;32m----> <a href='vscode-notebook-cell://wsl%2Bubuntu-20.04/home/gykovacs/workspaces/smote_variants/notebooks/experiments/004_simplex_sampling.ipynb#ch0000016vscode-remote?line=0'>1</a>\u001b[0m ssm\u001b[39m.\u001b[39;49msample_simplex(X, distances\u001b[39m=\u001b[39;49mdist, indices\u001b[39m=\u001b[39;49mind, n_to_sample\u001b[39m=\u001b[39;49m\u001b[39m3\u001b[39;49m)\n",
      "File \u001b[0;32m~/workspaces/smote_variants/smote_variants/_base.py:495\u001b[0m, in \u001b[0;36mSimplexSamplingMixin.sample_simplex\u001b[0;34m(self, X, distances, indices, n_to_sample, distance_range)\u001b[0m\n\u001b[1;32m    489\u001b[0m simplices \u001b[39m=\u001b[39m \u001b[39mself\u001b[39m\u001b[39m.\u001b[39msimplices(X,\n\u001b[1;32m    490\u001b[0m                             n_to_sample,\n\u001b[1;32m    491\u001b[0m                             distances\u001b[39m=\u001b[39mdistances,\n\u001b[1;32m    492\u001b[0m                             indices\u001b[39m=\u001b[39mindices)\n\u001b[1;32m    494\u001b[0m \u001b[39mif\u001b[39;00m \u001b[39mself\u001b[39m\u001b[39m.\u001b[39mwithin_simplex_sampling \u001b[39m==\u001b[39m \u001b[39m'\u001b[39m\u001b[39mrandom\u001b[39m\u001b[39m'\u001b[39m:\n\u001b[0;32m--> 495\u001b[0m     \u001b[39mreturn\u001b[39;00m \u001b[39mself\u001b[39;49m\u001b[39m.\u001b[39;49mrandom_samples_from_simplices(X, indices, simplices)\n\u001b[1;32m    496\u001b[0m \u001b[39melif\u001b[39;00m \u001b[39mself\u001b[39m\u001b[39m.\u001b[39mwithin_simplex_sampling \u001b[39m==\u001b[39m \u001b[39m'\u001b[39m\u001b[39mdeterministic\u001b[39m\u001b[39m'\u001b[39m:\n\u001b[1;32m    497\u001b[0m     \u001b[39mreturn\u001b[39;00m \u001b[39mself\u001b[39m\u001b[39m.\u001b[39mdeterministic_samples_from_simplices(X, indices, simplices)\n",
      "File \u001b[0;32m~/workspaces/smote_variants/smote_variants/_base.py:441\u001b[0m, in \u001b[0;36mSimplexSamplingMixin.random_samples_from_simplices\u001b[0;34m(self, X, indices, simplices)\u001b[0m\n\u001b[1;32m    439\u001b[0m weights \u001b[39m=\u001b[39m \u001b[39mself\u001b[39m\u001b[39m.\u001b[39mrandom_state\u001b[39m.\u001b[39mrandom_sample(simplices\u001b[39m.\u001b[39mshape)\n\u001b[1;32m    440\u001b[0m weights \u001b[39m=\u001b[39m weights\u001b[39m/\u001b[39mnp\u001b[39m.\u001b[39msum(weights, axis\u001b[39m=\u001b[39m\u001b[39m1\u001b[39m)[:, \u001b[39mNone\u001b[39;00m]\n\u001b[0;32m--> 441\u001b[0m weighted_simplices \u001b[39m=\u001b[39m X[indices[simplices\u001b[39m.\u001b[39;49mT]]\u001b[39m*\u001b[39;49mweights[:, :, \u001b[39mNone\u001b[39;49;00m]\n\u001b[1;32m    442\u001b[0m samples \u001b[39m=\u001b[39m np\u001b[39m.\u001b[39msum(weighted_simplices, axis\u001b[39m=\u001b[39m\u001b[39m1\u001b[39m)\n\u001b[1;32m    443\u001b[0m \u001b[39mreturn\u001b[39;00m samples\n",
      "\u001b[0;31mValueError\u001b[0m: operands could not be broadcast together with shapes (2,3,3,4) (3,2,1) "
     ]
    }
   ],
   "source": [
    "ssm.sample_simplex(X, distances=dist, indices=ind, n_to_sample=3)"
   ]
  },
  {
   "cell_type": "code",
   "execution_count": null,
   "metadata": {},
   "outputs": [
    {
     "data": {
      "text/plain": [
       "array([[0, 1, 2],\n",
       "       [0, 1, 3]])"
      ]
     },
     "execution_count": 20,
     "metadata": {},
     "output_type": "execute_result"
    }
   ],
   "source": [
    "simplices"
   ]
  },
  {
   "cell_type": "code",
   "execution_count": null,
   "metadata": {},
   "outputs": [],
   "source": []
  },
  {
   "cell_type": "code",
   "execution_count": null,
   "metadata": {},
   "outputs": [
    {
     "data": {
      "text/plain": [
       "array([[[0, 1, 2],\n",
       "        [0, 1, 2]],\n",
       "\n",
       "       [[1, 2, 0],\n",
       "        [1, 2, 0]],\n",
       "\n",
       "       [[2, 1, 3],\n",
       "        [3, 4, 2]]])"
      ]
     },
     "execution_count": 24,
     "metadata": {},
     "output_type": "execute_result"
    }
   ],
   "source": [
    "ind[(simplices.T)]"
   ]
  },
  {
   "cell_type": "code",
   "execution_count": null,
   "metadata": {},
   "outputs": [
    {
     "ename": "IndexError",
     "evalue": "shape mismatch: indexing arrays could not be broadcast together with shapes (2,) (2,3) ",
     "output_type": "error",
     "traceback": [
      "\u001b[0;31m---------------------------------------------------------------------------\u001b[0m",
      "\u001b[0;31mIndexError\u001b[0m                                Traceback (most recent call last)",
      "\u001b[1;32m/home/gykovacs/workspaces/smote_variants/notebooks/experiments/004_simplex_sampling.ipynb Cell 17\u001b[0m in \u001b[0;36m<cell line: 1>\u001b[0;34m()\u001b[0m\n\u001b[0;32m----> <a href='vscode-notebook-cell://wsl%2Bubuntu-20.04/home/gykovacs/workspaces/smote_variants/notebooks/experiments/004_simplex_sampling.ipynb#ch0000017vscode-remote?line=0'>1</a>\u001b[0m X[ind[np\u001b[39m.\u001b[39;49marange(\u001b[39mlen\u001b[39;49m(simplices)), simplices]]\n",
      "\u001b[0;31mIndexError\u001b[0m: shape mismatch: indexing arrays could not be broadcast together with shapes (2,) (2,3) "
     ]
    }
   ],
   "source": [
    "X[ind[np.arange(len(simplices)), simplices]]"
   ]
  },
  {
   "cell_type": "code",
   "execution_count": null,
   "metadata": {},
   "outputs": [],
   "source": []
  }
 ],
 "metadata": {
  "kernelspec": {
   "display_name": "Python 3.10.4 ('smote_variants')",
   "language": "python",
   "name": "python3"
  },
  "language_info": {
   "codemirror_mode": {
    "name": "ipython",
    "version": 3
   },
   "file_extension": ".py",
   "mimetype": "text/x-python",
   "name": "python",
   "nbconvert_exporter": "python",
   "pygments_lexer": "ipython3",
   "version": "3.10.4"
  },
  "orig_nbformat": 4,
  "vscode": {
   "interpreter": {
    "hash": "04ee80b1cee16018cf8dd56bf8f0a10a10cf53a2e8478a33e897f29ae53ad00d"
   }
  }
 },
 "nbformat": 4,
 "nbformat_minor": 2
}
