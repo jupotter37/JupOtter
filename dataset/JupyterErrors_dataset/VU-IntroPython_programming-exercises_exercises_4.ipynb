{
 "cells": [
  {
   "cell_type": "markdown",
   "id": "aa397236-aa5d-4261-94bb-0506ef41b535",
   "metadata": {},
   "source": [
    "# Exercise 1 : find longest word\n",
    "***\n",
    "Write a Python function that takes a list of words and returns the length of the longest one. \n"
   ]
  },
  {
   "cell_type": "code",
   "execution_count": 5,
   "id": "30716320-262d-431a-b078-a51c05fa8472",
   "metadata": {},
   "outputs": [],
   "source": [
    "from typing import List,Dict"
   ]
  },
  {
   "cell_type": "markdown",
   "id": "4789413e-60bc-4971-9f69-a38966fa4339",
   "metadata": {},
   "source": [
    "## Example:\n",
    "_input_: <br>\n",
    "['a','word','panda'] <br>\n",
    "<br>Mm\n",
    "_output_: <br>\n",
    "\"panda\" <br>"
   ]
  },
  {
   "cell_type": "code",
   "execution_count": 6,
   "id": "aab488dd-db87-473f-bae0-d571feb40782",
   "metadata": {},
   "outputs": [
    {
     "name": "stdout",
     "output_type": "stream",
     "text": [
      "panda\n"
     ]
    }
   ],
   "source": [
    "#  answer\n",
    "\n",
    "\n",
    "def find_longest_word(words_list: List[str]) -> str:  \n",
    "    \"\"\"\n",
    "    find the longest word in a list of words.\n",
    "    \"\"\"\n",
    "    word_len = []  \n",
    "    for n in words_list:  \n",
    "        word_len.append((len(n), n))  \n",
    "    word_len.sort()  \n",
    "    return word_len[-1][1]  \n",
    "  \n",
    "print(find_longest_word(['a','word','panda']))  \n"
   ]
  },
  {
   "cell_type": "code",
   "execution_count": null,
   "id": "9efefeaa-91f5-4854-96cb-eeb50ece6d23",
   "metadata": {},
   "outputs": [],
   "source": []
  },
  {
   "cell_type": "markdown",
   "id": "b5d4182a-b1bc-4784-bda4-5323bea83bb1",
   "metadata": {},
   "source": [
    "# Exercise 2 : concatenate dictionaries\n",
    "***\n",
    "Write a Python program to concatenate three dictionaries to create a new one. If original dictionaries have same keys, the value of that key should be add up.\n",
    "*NOTES:\n",
    "- The input are 3 list -\n",
    "\n",
    "## Example1:\n",
    "_input_: <br>\n",
    "dic1={1:10, 2:20}\n",
    "dic2={3:30, 4:40}\n",
    "dic3={5:50,6:60}\n",
    "<br>\n",
    "\n",
    "_output_: <br>\n",
    "{1: 10, 2: 20, 3: 30, 4: 40, 5: 50, 6: 60} <br>\n",
    "\n",
    "\n",
    "## Example2:\n",
    "\n",
    "_input_: <br>\n",
    "dic1={1:10, 2:20}\n",
    "dic2={3:30, 4:40}\n",
    "dic3={2:50, 4:10}\n",
    "<br>\n",
    "\n",
    "_output_: <br>\n",
    "{1: 10, 2: 70, 3: 30, 4: 50} <br>"
   ]
  },
  {
   "cell_type": "code",
   "execution_count": 14,
   "id": "2f46787a-b1d4-4364-8446-eea36a4b694b",
   "metadata": {},
   "outputs": [
    {
     "ename": "TypeError",
     "evalue": "'int' object is not iterable",
     "output_type": "error",
     "traceback": [
      "\u001b[0;31m---------------------------------------------------------------------------\u001b[0m",
      "\u001b[0;31mTypeError\u001b[0m                                 Traceback (most recent call last)",
      "\u001b[0;32m<ipython-input-14-ba51a5f2108b>\u001b[0m in \u001b[0;36m<module>\u001b[0;34m\u001b[0m\n\u001b[1;32m     18\u001b[0m     \u001b[0;32mreturn\u001b[0m \u001b[0mdic4\u001b[0m\u001b[0;34m\u001b[0m\u001b[0;34m\u001b[0m\u001b[0m\n\u001b[1;32m     19\u001b[0m \u001b[0;34m\u001b[0m\u001b[0m\n\u001b[0;32m---> 20\u001b[0;31m \u001b[0mconcatenate_dictionaries\u001b[0m\u001b[0;34m(\u001b[0m\u001b[0mdic1\u001b[0m\u001b[0;34m,\u001b[0m \u001b[0mdic2\u001b[0m\u001b[0;34m,\u001b[0m \u001b[0mdic3\u001b[0m\u001b[0;34m)\u001b[0m\u001b[0;34m\u001b[0m\u001b[0;34m\u001b[0m\u001b[0m\n\u001b[0m",
      "\u001b[0;32m<ipython-input-14-ba51a5f2108b>\u001b[0m in \u001b[0;36mconcatenate_dictionaries\u001b[0;34m(dic1, dic2, dic3)\u001b[0m\n\u001b[1;32m     13\u001b[0m     \u001b[0;32mfor\u001b[0m \u001b[0md\u001b[0m \u001b[0;32min\u001b[0m \u001b[0mdic1\u001b[0m\u001b[0;34m:\u001b[0m\u001b[0;34m\u001b[0m\u001b[0;34m\u001b[0m\u001b[0m\n\u001b[1;32m     14\u001b[0m         \u001b[0;32mif\u001b[0m \u001b[0md\u001b[0m \u001b[0;32mnot\u001b[0m \u001b[0;32min\u001b[0m \u001b[0mdic4\u001b[0m\u001b[0;34m:\u001b[0m\u001b[0;34m\u001b[0m\u001b[0;34m\u001b[0m\u001b[0m\n\u001b[0;32m---> 15\u001b[0;31m             \u001b[0mdic4\u001b[0m\u001b[0;34m.\u001b[0m\u001b[0mupdate\u001b[0m\u001b[0;34m(\u001b[0m\u001b[0md\u001b[0m\u001b[0;34m)\u001b[0m\u001b[0;34m\u001b[0m\u001b[0;34m\u001b[0m\u001b[0m\n\u001b[0m\u001b[1;32m     16\u001b[0m         \u001b[0;32melse\u001b[0m\u001b[0;34m:\u001b[0m\u001b[0;34m\u001b[0m\u001b[0;34m\u001b[0m\u001b[0m\n\u001b[1;32m     17\u001b[0m             \u001b[0;32mcontinue\u001b[0m\u001b[0;34m\u001b[0m\u001b[0;34m\u001b[0m\u001b[0m\n",
      "\u001b[0;31mTypeError\u001b[0m: 'int' object is not iterable"
     ]
    }
   ],
   "source": [
    "# answer\n",
    "\n",
    "dic1={1:10, 2:20}  \n",
    "dic2={3:30, 4:40}  \n",
    "dic3={5:50, 6:60}  \n",
    "\n",
    "\n",
    "def  concatenate_dictionaries(dic1: Dict, dic2: Dict, dic3: Dict) -> Dict:\n",
    "    \"\"\"\n",
    "    concatenate three dictionaries to create a new one\n",
    "    \"\"\"\n",
    "    dic4 = {}  \n",
    "    for d in (dic1, dic2, dic3): \n",
    "        dic4.update(d)  \n",
    "    return dic4\n",
    "\n",
    "concatenate_dictionaries(dic1, dic2, dic3)"
   ]
  },
  {
   "cell_type": "code",
   "execution_count": null,
   "id": "6a9fb22b-b8ce-447a-b217-111349ac32dd",
   "metadata": {},
   "outputs": [],
   "source": []
  },
  {
   "cell_type": "code",
   "execution_count": null,
   "id": "a15697bf-b15a-4e18-bbe9-a8071a1e4251",
   "metadata": {},
   "outputs": [],
   "source": []
  }
 ],
 "metadata": {
  "kernelspec": {
   "display_name": "Python 3",
   "language": "python",
   "name": "python3"
  },
  "language_info": {
   "codemirror_mode": {
    "name": "ipython",
    "version": 3
   },
   "file_extension": ".py",
   "mimetype": "text/x-python",
   "name": "python",
   "nbconvert_exporter": "python",
   "pygments_lexer": "ipython3",
   "version": "3.8.8"
  }
 },
 "nbformat": 4,
 "nbformat_minor": 5
}
