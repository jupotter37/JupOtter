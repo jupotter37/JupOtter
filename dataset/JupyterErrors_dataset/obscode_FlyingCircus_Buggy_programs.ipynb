{
  "nbformat": 4,
  "nbformat_minor": 0,
  "metadata": {
    "colab": {
      "name": "Buggy_programs.ipynb",
      "provenance": [],
      "collapsed_sections": [],
      "toc_visible": true
    },
    "kernelspec": {
      "name": "python3",
      "display_name": "Python 3"
    }
  },
  "cells": [
    {
      "cell_type": "markdown",
      "metadata": {
        "id": "na7SmHt2tKMp",
        "colab_type": "text"
      },
      "source": [
        "# Several buggy programs\n",
        "\n",
        "See if you can find all the bugs! There are no problems with calculations, just code. "
      ]
    },
    {
      "cell_type": "code",
      "metadata": {
        "id": "q_cS8iL8tQbe",
        "colab_type": "code",
        "colab": {}
      },
      "source": [
        "# Start with importing some packages\n",
        "import numpy as np\n",
        "import matplotlib.pyplot as plt\n",
        "%matplotlib inline"
      ],
      "execution_count": 0,
      "outputs": []
    },
    {
      "cell_type": "markdown",
      "metadata": {
        "id": "Q3_NXREDtjXa",
        "colab_type": "text"
      },
      "source": [
        "##1) Only purple and pink colors\n",
        "\n",
        "This program generates purple and pink colors."
      ]
    },
    {
      "cell_type": "code",
      "metadata": {
        "id": "8p964w5FytNf",
        "colab_type": "code",
        "outputId": "a64fe015-53ac-4384-fca0-64e0c4fa4125",
        "colab": {
          "base_uri": "https://localhost:8080/",
          "height": 130
        }
      },
      "source": [
        "# I want to make a pcolor map with only lots of nice shades of purple and maybe some pink\n",
        "\n",
        "# How many colors do you want?\n",
        "nbr_color = 10\n",
        "\n",
        "# Initiate a color array\n",
        "purples = np.zeros(nbr_color,3)\n",
        "\n",
        "# Add some colors in the array\n",
        "# These are rgb colors, with the first, second and third value are for red, green and blue respectively.\n",
        "# when you use rgb colors, the fractional contribution of red, green and blue are given as a number between 0 and 1. \n",
        "# As an example, a very red color is (1,0,0), whilst navy is more like (0,0,.4). \n",
        "purples[:,1] = np.random.random(nbr_color)*0.5 + 0.2\n",
        "purples[:,2] = np.random.random(nbr_color)*0.2\n",
        "purples[:,3] = np.random.random(nbr_color)*0.5 + 0.5\n",
        "\n",
        "# We want to give the colors names \n",
        "labels = [] \n",
        "for i in range(nbr_color):\n",
        "labels.append('Purple '+str(i+1))\n",
        "\n",
        "# Enjoy them in a pie chart\n",
        "fig, ax = plt.subplots(1,1,figsize=(8,8))\n",
        "fracs = 1/nbr_color   \n",
        "ax.pie([fracs]*nbr_color,colors=purples, labels=labels)\n"
      ],
      "execution_count": 4,
      "outputs": [
        {
          "output_type": "error",
          "ename": "IndentationError",
          "evalue": "ignored",
          "traceback": [
            "\u001b[0;36m  File \u001b[0;32m\"<ipython-input-4-57b7edb098fe>\"\u001b[0;36m, line \u001b[0;32m20\u001b[0m\n\u001b[0;31m    labels.append('Purple '+str(i+1))\u001b[0m\n\u001b[0m         ^\u001b[0m\n\u001b[0;31mIndentationError\u001b[0m\u001b[0;31m:\u001b[0m expected an indented block\n"
          ]
        }
      ]
    },
    {
      "cell_type": "markdown",
      "metadata": {
        "id": "f854cirfhSET",
        "colab_type": "text"
      },
      "source": [
        "## 2) How many years is a year on the other planets? \n",
        "\n",
        "There are eight planets orbiting around the Sun. One turn around the Sun for the Earth is what we define as one year. But how long time does it take for the other planets to revolve around our closest star? \n",
        "\n",
        "To calculate this, we follow Kepler's third law: \n",
        "\n",
        "$\\dfrac{a^3}{P^2} = \\dfrac{G(M_{\\odot} + M_{\\text{p}})}{4\\pi^2},$\n",
        "\n",
        "where $a$ is the separation between the Sun and the planet, $P$ is the orbital period, $M_{\\odot}$ is the mass of the Sun and $M_{\\text{p}}$ is the mass of the planet. Since the Sun is much more massive than the planets, the formula can be approximated as \n",
        "\n",
        "$\\dfrac{a^3}{P^2} \\approx \\dfrac{GM_{\\odot}}{4\\pi^2}.$\n",
        "\n",
        "Let's read a file with the distances between the Sun and the planets and calculate how long their orbits are."
      ]
    },
    {
      "cell_type": "code",
      "metadata": {
        "id": "BsN-YFMH1m81",
        "colab_type": "code",
        "outputId": "4005f8d6-67f0-4f76-eb58-2f615188efc5",
        "colab": {
          "base_uri": "https://localhost:8080/",
          "height": 380
        }
      },
      "source": [
        "# Need some help from astropy for the mass of the Sun and the gravitational constant\n",
        "from astropy import constants as const\n",
        "from astropy import units as u\n",
        "G = const.G\n",
        "Msun = const.M_sun\n",
        "\n",
        "# Read in the data\n",
        "data = np.genfromtxt('planet_information.txt',dtype=str)\n",
        "\n",
        "# Assign variable names that match\n",
        "planet_names = data[:,0]   # The names of the planets\n",
        "planet_distances = np.float_(data[:,1])*u.AU  # The distances to the Sun in AU\n",
        "\n",
        "# Calculate the periods using Kepler III\n",
        "planet_periods_yr = np.sqrt((planet_distances**3.)*(4*np.pi**2)/(G*Msun))      # periods in earth years \n",
        "\n",
        "# Make a figure of period as function of distance to the Sun\n",
        "fig, ax = plt.subplots(1,1,figsize=(8,5))\n",
        "for i in range(len(planet_names)):\n",
        "  ax.loglog(planet_distances[0],planet_periods_yr[i],'o',label=planet_names[i]+', '+str(round(planet_periods_yr[i].value,1))+'yr')\n",
        "\n",
        "ax.legend(loc=0,edgecolor='none')\n",
        "ax.set_xlim(0.2, 2*np.max(planet_distances.value))\n",
        "ax.set_ylim(0.2, 2*np.max(planet_periods_yr.value))\n",
        "\n",
        "ax.set_xlabel('Distance between Sun and planets [AU]')\n",
        "ax.set_ylabel('Period in Earth years')\n",
        "\n",
        "# You can see that the planets line up in this log-log diagram since a^3/P^2 = C => 2*log10(P) \\propto 3*log10(a)\n"
      ],
      "execution_count": 5,
      "outputs": [
        {
          "output_type": "error",
          "ename": "OSError",
          "evalue": "ignored",
          "traceback": [
            "\u001b[0;31m---------------------------------------------------------------------------\u001b[0m",
            "\u001b[0;31mOSError\u001b[0m                                   Traceback (most recent call last)",
            "\u001b[0;32m<ipython-input-5-6728b03ebb36>\u001b[0m in \u001b[0;36m<module>\u001b[0;34m()\u001b[0m\n\u001b[1;32m      6\u001b[0m \u001b[0;34m\u001b[0m\u001b[0m\n\u001b[1;32m      7\u001b[0m \u001b[0;31m# Read in the data\u001b[0m\u001b[0;34m\u001b[0m\u001b[0;34m\u001b[0m\u001b[0;34m\u001b[0m\u001b[0m\n\u001b[0;32m----> 8\u001b[0;31m \u001b[0mdata\u001b[0m \u001b[0;34m=\u001b[0m \u001b[0mnp\u001b[0m\u001b[0;34m.\u001b[0m\u001b[0mgenfromtxt\u001b[0m\u001b[0;34m(\u001b[0m\u001b[0;34m'planet_information.txt'\u001b[0m\u001b[0;34m,\u001b[0m\u001b[0mdtype\u001b[0m\u001b[0;34m=\u001b[0m\u001b[0mstr\u001b[0m\u001b[0;34m)\u001b[0m\u001b[0;34m\u001b[0m\u001b[0;34m\u001b[0m\u001b[0m\n\u001b[0m\u001b[1;32m      9\u001b[0m \u001b[0;34m\u001b[0m\u001b[0m\n\u001b[1;32m     10\u001b[0m \u001b[0;31m# Assign variable names that match\u001b[0m\u001b[0;34m\u001b[0m\u001b[0;34m\u001b[0m\u001b[0;34m\u001b[0m\u001b[0m\n",
            "\u001b[0;32m/usr/local/lib/python3.6/dist-packages/numpy/lib/npyio.py\u001b[0m in \u001b[0;36mgenfromtxt\u001b[0;34m(fname, dtype, comments, delimiter, skip_header, skip_footer, converters, missing_values, filling_values, usecols, names, excludelist, deletechars, replace_space, autostrip, case_sensitive, defaultfmt, unpack, usemask, loose, invalid_raise, max_rows, encoding)\u001b[0m\n\u001b[1;32m   1770\u001b[0m             \u001b[0mfname\u001b[0m \u001b[0;34m=\u001b[0m \u001b[0mos_fspath\u001b[0m\u001b[0;34m(\u001b[0m\u001b[0mfname\u001b[0m\u001b[0;34m)\u001b[0m\u001b[0;34m\u001b[0m\u001b[0;34m\u001b[0m\u001b[0m\n\u001b[1;32m   1771\u001b[0m         \u001b[0;32mif\u001b[0m \u001b[0misinstance\u001b[0m\u001b[0;34m(\u001b[0m\u001b[0mfname\u001b[0m\u001b[0;34m,\u001b[0m \u001b[0mbasestring\u001b[0m\u001b[0;34m)\u001b[0m\u001b[0;34m:\u001b[0m\u001b[0;34m\u001b[0m\u001b[0;34m\u001b[0m\u001b[0m\n\u001b[0;32m-> 1772\u001b[0;31m             \u001b[0mfid\u001b[0m \u001b[0;34m=\u001b[0m \u001b[0mnp\u001b[0m\u001b[0;34m.\u001b[0m\u001b[0mlib\u001b[0m\u001b[0;34m.\u001b[0m\u001b[0m_datasource\u001b[0m\u001b[0;34m.\u001b[0m\u001b[0mopen\u001b[0m\u001b[0;34m(\u001b[0m\u001b[0mfname\u001b[0m\u001b[0;34m,\u001b[0m \u001b[0;34m'rt'\u001b[0m\u001b[0;34m,\u001b[0m \u001b[0mencoding\u001b[0m\u001b[0;34m=\u001b[0m\u001b[0mencoding\u001b[0m\u001b[0;34m)\u001b[0m\u001b[0;34m\u001b[0m\u001b[0;34m\u001b[0m\u001b[0m\n\u001b[0m\u001b[1;32m   1773\u001b[0m             \u001b[0mfid_ctx\u001b[0m \u001b[0;34m=\u001b[0m \u001b[0mcontextlib\u001b[0m\u001b[0;34m.\u001b[0m\u001b[0mclosing\u001b[0m\u001b[0;34m(\u001b[0m\u001b[0mfid\u001b[0m\u001b[0;34m)\u001b[0m\u001b[0;34m\u001b[0m\u001b[0;34m\u001b[0m\u001b[0m\n\u001b[1;32m   1774\u001b[0m         \u001b[0;32melse\u001b[0m\u001b[0;34m:\u001b[0m\u001b[0;34m\u001b[0m\u001b[0;34m\u001b[0m\u001b[0m\n",
            "\u001b[0;32m/usr/local/lib/python3.6/dist-packages/numpy/lib/_datasource.py\u001b[0m in \u001b[0;36mopen\u001b[0;34m(path, mode, destpath, encoding, newline)\u001b[0m\n\u001b[1;32m    267\u001b[0m \u001b[0;34m\u001b[0m\u001b[0m\n\u001b[1;32m    268\u001b[0m     \u001b[0mds\u001b[0m \u001b[0;34m=\u001b[0m \u001b[0mDataSource\u001b[0m\u001b[0;34m(\u001b[0m\u001b[0mdestpath\u001b[0m\u001b[0;34m)\u001b[0m\u001b[0;34m\u001b[0m\u001b[0;34m\u001b[0m\u001b[0m\n\u001b[0;32m--> 269\u001b[0;31m     \u001b[0;32mreturn\u001b[0m \u001b[0mds\u001b[0m\u001b[0;34m.\u001b[0m\u001b[0mopen\u001b[0m\u001b[0;34m(\u001b[0m\u001b[0mpath\u001b[0m\u001b[0;34m,\u001b[0m \u001b[0mmode\u001b[0m\u001b[0;34m,\u001b[0m \u001b[0mencoding\u001b[0m\u001b[0;34m=\u001b[0m\u001b[0mencoding\u001b[0m\u001b[0;34m,\u001b[0m \u001b[0mnewline\u001b[0m\u001b[0;34m=\u001b[0m\u001b[0mnewline\u001b[0m\u001b[0;34m)\u001b[0m\u001b[0;34m\u001b[0m\u001b[0;34m\u001b[0m\u001b[0m\n\u001b[0m\u001b[1;32m    270\u001b[0m \u001b[0;34m\u001b[0m\u001b[0m\n\u001b[1;32m    271\u001b[0m \u001b[0;34m\u001b[0m\u001b[0m\n",
            "\u001b[0;32m/usr/local/lib/python3.6/dist-packages/numpy/lib/_datasource.py\u001b[0m in \u001b[0;36mopen\u001b[0;34m(self, path, mode, encoding, newline)\u001b[0m\n\u001b[1;32m    621\u001b[0m                                       encoding=encoding, newline=newline)\n\u001b[1;32m    622\u001b[0m         \u001b[0;32melse\u001b[0m\u001b[0;34m:\u001b[0m\u001b[0;34m\u001b[0m\u001b[0;34m\u001b[0m\u001b[0m\n\u001b[0;32m--> 623\u001b[0;31m             \u001b[0;32mraise\u001b[0m \u001b[0mIOError\u001b[0m\u001b[0;34m(\u001b[0m\u001b[0;34m\"%s not found.\"\u001b[0m \u001b[0;34m%\u001b[0m \u001b[0mpath\u001b[0m\u001b[0;34m)\u001b[0m\u001b[0;34m\u001b[0m\u001b[0;34m\u001b[0m\u001b[0m\n\u001b[0m\u001b[1;32m    624\u001b[0m \u001b[0;34m\u001b[0m\u001b[0m\n\u001b[1;32m    625\u001b[0m \u001b[0;34m\u001b[0m\u001b[0m\n",
            "\u001b[0;31mOSError\u001b[0m: planet_information.txt not found."
          ]
        }
      ]
    },
    {
      "cell_type": "markdown",
      "metadata": {
        "id": "rR_LO7W8z5Kc",
        "colab_type": "text"
      },
      "source": [
        "## 3) The Menu\n",
        "\n",
        "You are hungry and thirsty, but luckily you are at a restaurant. You really like this restaurant so you want to tip 45%. But you don't have much money, just $15. There are a few things you can order - have a look at the menu."
      ]
    },
    {
      "cell_type": "code",
      "metadata": {
        "id": "L8pfpa9I0Mak",
        "colab_type": "code",
        "outputId": "fb49b9b7-47af-4743-b3e6-d93ff36422bf",
        "colab": {
          "base_uri": "https://localhost:8080/",
          "height": 235
        }
      },
      "source": [
        "# With bugs\n",
        "\n",
        "# Your budget\n",
        "budget = 15. # This is the amount of money you have\n",
        "tip = 0.45   # This is the tip in fraction\n",
        "\n",
        "\n",
        "# # # #   Read the menu   # # # #\n",
        "\n",
        "# The menu contains different structures and not just one header - maybe easiest to read in a traditional way?\n",
        "# This menu is made to look like text files sometimes look that you need data from \n",
        "fid = open('menu.txt','w')\n",
        "menu = fid.readlines()\n",
        "fid.close()\n",
        "\n",
        "# These are some storage spaces - make lists\n",
        "food_names = np.array([])\n",
        "food_prices = []\n",
        "drinks_names = []\n",
        "drinks_prices = []\n",
        "food_active = False\n",
        "drinks_active = False\n",
        "# Loop through the menu and record the food and drinks available\n",
        "for i in range(len(menu)):\n",
        "  # This is the current line in the menu, split it at the tabs\n",
        "  tmp = menu[i].split('\\t')\n",
        "  # If the line has more than one part, it contains an item in the menu\n",
        "  if len(tmp)>1:\n",
        "    # If we are in the food section, enter here\n",
        "    if food_active:\n",
        "      # Add the names of the dishes to a list\n",
        "      food_names.append(tmp[0])\n",
        "      # Add also their prices, but we don't need the dollar-sign and the end of line. Also, make it a float instead of a string\n",
        "      food_prices.append(float(tmp[1].split('$')[1].split('\\n')[0]))\n",
        "    # If we are in the drinks section, enter here\n",
        "    elif drinks_active:\n",
        "      # Save the names of the drinks\n",
        "      drinks_names.append(tmp[0])\n",
        "      # And also their prices, in floats (same as the dishes)\n",
        "      drinks_prices.append(float(tmp[1].split('$')[1].split('\\n')[0]))\n",
        "\n",
        "  # Activate the food arrays if you enter that section of the menu\n",
        "  if 'FOOD' in menu[i]:\n",
        "    food_active = True\n",
        "  # Inactivate the food arrays and activate the drinks arrays once you enter that part of the menu\n",
        "  elif 'DRINKS' in menu[i]:\n",
        "    food_active = False\n",
        "    drinks_active = True\n",
        "\n",
        "\n",
        "# # # #   Calculate what you can buy   # # # #\n",
        "\n",
        "# Now, we want to see what we can afford\n",
        "# Loop over food and drinks to see what the prices are\n",
        "total_prices = []\n",
        "purchase = []\n",
        "for i in range(len(food_names)):\n",
        "  for j in range(len(drinks_names)):\n",
        "    purchase.append(food_names[i]+' & '+drinks_names[j])\n",
        "    total_prices.append(food_prices[i]+drinks[j])\n",
        "\n",
        "\n",
        "# Update the lists to numpy arrays so you can perform calculations with them\n",
        "purchase = np.array(purchase)\n",
        "\n",
        "# But you want to tip, so we need to account for that - need to change the list to a numpy-array so that you can multiply\n",
        "prices_incl_tip = (1.+tip)*total_prices\n",
        "\n",
        "# Get the combinations you can afford\n",
        "ind_affordable = (prices_incl_tip + budget) > (budget + tip)\n",
        "\n",
        "# List them so you can choose\n",
        "print('With your $',budget,', you can afford: \\n')\n",
        "affordable_purchases = purchase[ind_affordable]\n",
        "affordable_prices = prices_incl_tip[ind_affordable]\n",
        "for i in range(np.sum(ind_affordable)):\n",
        "  print(affordable_purchases[i]+'  $'+str(round(affordable_prices[i],2)))\n"
      ],
      "execution_count": 6,
      "outputs": [
        {
          "output_type": "error",
          "ename": "UnsupportedOperation",
          "evalue": "ignored",
          "traceback": [
            "\u001b[0;31m---------------------------------------------------------------------------\u001b[0m",
            "\u001b[0;31mUnsupportedOperation\u001b[0m                      Traceback (most recent call last)",
            "\u001b[0;32m<ipython-input-6-2fd92486c553>\u001b[0m in \u001b[0;36m<module>\u001b[0;34m()\u001b[0m\n\u001b[1;32m     11\u001b[0m \u001b[0;31m# This menu is made to look like text files sometimes look that you need data from\u001b[0m\u001b[0;34m\u001b[0m\u001b[0;34m\u001b[0m\u001b[0;34m\u001b[0m\u001b[0m\n\u001b[1;32m     12\u001b[0m \u001b[0mfid\u001b[0m \u001b[0;34m=\u001b[0m \u001b[0mopen\u001b[0m\u001b[0;34m(\u001b[0m\u001b[0;34m'menu.txt'\u001b[0m\u001b[0;34m,\u001b[0m\u001b[0;34m'w'\u001b[0m\u001b[0;34m)\u001b[0m\u001b[0;34m\u001b[0m\u001b[0;34m\u001b[0m\u001b[0m\n\u001b[0;32m---> 13\u001b[0;31m \u001b[0mmenu\u001b[0m \u001b[0;34m=\u001b[0m \u001b[0mfid\u001b[0m\u001b[0;34m.\u001b[0m\u001b[0mreadlines\u001b[0m\u001b[0;34m(\u001b[0m\u001b[0;34m)\u001b[0m\u001b[0;34m\u001b[0m\u001b[0;34m\u001b[0m\u001b[0m\n\u001b[0m\u001b[1;32m     14\u001b[0m \u001b[0mfid\u001b[0m\u001b[0;34m.\u001b[0m\u001b[0mclose\u001b[0m\u001b[0;34m(\u001b[0m\u001b[0;34m)\u001b[0m\u001b[0;34m\u001b[0m\u001b[0;34m\u001b[0m\u001b[0m\n\u001b[1;32m     15\u001b[0m \u001b[0;34m\u001b[0m\u001b[0m\n",
            "\u001b[0;31mUnsupportedOperation\u001b[0m: not readable"
          ]
        }
      ]
    },
    {
      "cell_type": "markdown",
      "metadata": {
        "id": "zzw3kgMcE7Ll",
        "colab_type": "text"
      },
      "source": [
        "## 4) Vega-like stars with Gaia\n",
        "\n",
        "Magnitudes are used to measure brightness of stars. They are calculated in the following way:\n",
        "\n",
        "$m = -2.5\\log_{10} \\left( \\dfrac{F}{F_{0}} \\right),$\n",
        "\n",
        "where $m$ is the apparent magnitude, $F$ is the flux of the star in the certain photometric band you want to measure, and $F_0$ is a baseline flux known as the zeropoint, which is known in advance. As you can see, magnitudes follow a logarithmic scale, and also in the unintuitive reverse direction. This means that a star with $m = 0$ magnitudes (mag) is 100 times brighter than a star with $m = 5$ mag. \n",
        "\n",
        "The Gaia spacecraft is observing billions of stars in the Milky Way, measuring their magnitudes in its photometrical filter called G. The instrument is sensitive to stars between about $m = 7$ and 20 mag. When calculating the flux of a star through a photometrical filter, you need to account for the filter transmission, $T$, which is wavelength dependent. Thus, you calculate the flux through the photometrical filter in the following way:\n",
        "\n",
        "$F_{filter} = \\dfrac{\\int F_{\\lambda} T_{filter} d\\lambda}{\\int T_{filter} d\\lambda},$\n",
        "\n",
        "where $\\lambda$ is the wavelength.\n",
        "\n",
        "Vega is a well-known star with $m = 0$ mag. Because it is so bright, Gaia cannot observe Vega. But, there are many other stars like Vega. Between what distances would Vega-like stars be detectable by Gaia?\n",
        "\n",
        "For this exercise, it is useful to remember that the luminosity, $L$, of a star is independent of distance, while the detected flux is dependent on distance and is calculated as\n",
        "\n",
        "$F = \\dfrac{L}{4\\pi d^2}$, \n",
        "\n",
        "where $d$ is the distance.\n",
        "\n",
        "This means that the magnitude difference between two identical stars at different distances is related as\n",
        "\n",
        "$m_1 - m_2 = -2.5 \\log_{10} \\dfrac{F_1}{F_2} = -5 \\log_{10} \\dfrac{d_2}{d_1}$\n",
        "\n",
        "We'll use a Planck curve to approximate the radiation emitted from Vega. The intensity from a Planck curve is expressed as \n",
        "\n",
        "$B_{\\lambda} = \\dfrac{2hc^2}{\\lambda^5} \\dfrac{1}{\\exp \\left(\\frac{hc}{\\lambda k_B T} \\right) - 1}$\n",
        "\n",
        "and the flux is calculated using \n",
        "\n",
        "$F_{\\lambda} =  \\pi B_{\\lambda} \\left(\\dfrac{R_{\\star}}{d}\\right)^{2}$, \n",
        "\n",
        "where $R_{\\star}$ is the radius of the star.\n"
      ]
    },
    {
      "cell_type": "code",
      "metadata": {
        "id": "3reYp1_uE5YC",
        "colab_type": "code",
        "colab": {
          "base_uri": "https://localhost:8080/",
          "height": 484
        },
        "outputId": "32cab81b-4fb9-4d96-c24b-98c64f5d0797"
      },
      "source": [
        "# Properties of Vega\n",
        "T_Vega = 9600.*u.K    # surface temperature in K\n",
        "R_Vega = 2.36*u.R_sun # radius in Rsun\n",
        "d_Vega = 7.68*u.pc    # distance from the Sun in pc\n",
        "\n",
        "\n",
        "# # # Calculate the intensity using a Planck curve\n",
        "\n",
        "# Initiate a wavelength array\n",
        "wavelengths = np.logspace(100,20000.,1000)*u.AA    # Angstroms\n",
        "\n",
        "# Need some constants\n",
        "h = const.h   # Planck's constant\n",
        "c = const.c   # speed of light\n",
        "k_B = const.k_B   # Stefan-Boltzmann's constant\n",
        "\n",
        "# This is the intensity of Vega assuming a Planck curve for the radiation\n",
        "Blambda = (2.*h*(c**2)/(wavelengths**5))/(np.exp(h*c/(wavelengths*k_B*T_Vega))-1.)\n",
        "\n",
        "# Calculate the flux of Vega using the Planck curve\n",
        "Flambda = (np.pi*Blambda*((R_Vega/d_Vega)^2.)).to('erg s-1 cm-2 AA-1')\n",
        "\n",
        "# Verification diagram\n",
        "plt.plot(Flambda,wavelengths,'-')\n",
        "plt.xlabel('Wavelength [\\AA]')\n",
        "plt.ylabel('Flux, $F_{\\lambda}$, [erg s$^{-1}$ cm$^{-2}$ \\AA$^{-1}$]')\n",
        "\n",
        "\n",
        "# # #  Calculate the magnitude of Vega in Gaia\n",
        "\n",
        "# Get the transmission function for the Gaia/G band\n",
        "data = np.loadtxt('GAIA_GAIA2.G.dat')\n",
        "T_filter = data[:,0]   # Filter transmission curve (values between 0 (no light comes through) and 1 (all light comes through))\n",
        "lambda_filter = data[:,1]*u.AA   # Wavelengths in Angstrom\n",
        "zeropoint_filter = 2.5e-9*u.erg/(u.AA * ((u.cm)**2) *u.s)   # this is the zeropoint in flux, unit is erg s^-1 cm^-2 AA^-1\n",
        "\n",
        "# Calculate the flux of Vega that comes through the filter\n",
        "Ftmp = np.trapz(Flambda*T_filter,wavelengths)/np.trapz(T_filter,lambda_filter)\n",
        "\n",
        "# Calculate the apparent magnitude of Vega\n",
        "apparent_mag_Vega = -2.5*np.log10(Ftmp/zeropoint_filter)\n",
        "print('The apparent G-magnitude of Vega is estimated to be: ',apparent_mag_Vega,'mag')\n",
        "# This is likely to not be exactly zero, but it should be close. \n",
        "\n",
        "# Calculate the absolute magnitude (defined as the magnitude at 10 pc distance)\n",
        "d_abs = 10.*u.pc   \n",
        "abs_mag_Vega = apparent_mag_Vega - 5.*np.log10(d_Vega/d_abs)\n",
        "print('The absolute G-magnitude of Vega is estimated to be:',abs_mag_Vega,'mag')\n",
        "\n",
        "# At what distance would Vega have had an apparent magnitude of 20 mag in Gaia, assuming there is no extinction? \n",
        "max_mag_limit_Gaia = 20.     # Gaia's magnitude limit\n",
        "max_distance_visible = d_Vega*10**(0.2*(max_mag_limit_Gaia-apparent_mag_Vega))\n",
        "print('Assuming there is no extinction in the Galaxy, Vega-like stars are estimated to be visible out to', max_distance_visible.to('kpc'),' distance.')\n",
        "\n",
        "\n",
        "\n",
        "# Exercise: Calculate the closest distance at which Vega-like stars can be observed with Gaia. "
      ],
      "execution_count": 7,
      "outputs": [
        {
          "output_type": "stream",
          "text": [
            "/usr/local/lib/python3.6/dist-packages/numpy/core/function_base.py:274: RuntimeWarning: overflow encountered in power\n",
            "  return _nx.power(base, y)\n",
            "/usr/local/lib/python3.6/dist-packages/astropy/units/quantity.py:477: RuntimeWarning: overflow encountered in power\n",
            "  result = super().__array_ufunc__(function, method, *arrays, **kwargs)\n",
            "/usr/local/lib/python3.6/dist-packages/astropy/units/quantity.py:477: RuntimeWarning: invalid value encountered in true_divide\n",
            "  result = super().__array_ufunc__(function, method, *arrays, **kwargs)\n"
          ],
          "name": "stderr"
        },
        {
          "output_type": "error",
          "ename": "TypeError",
          "evalue": "ignored",
          "traceback": [
            "\u001b[0;31m---------------------------------------------------------------------------\u001b[0m",
            "\u001b[0;31mTypeError\u001b[0m                                 Traceback (most recent call last)",
            "\u001b[0;32m<ipython-input-7-36557633fb22>\u001b[0m in \u001b[0;36m<module>\u001b[0;34m()\u001b[0m\n\u001b[1;32m     19\u001b[0m \u001b[0;34m\u001b[0m\u001b[0m\n\u001b[1;32m     20\u001b[0m \u001b[0;31m# Calculate the flux of Vega using the Planck curve\u001b[0m\u001b[0;34m\u001b[0m\u001b[0;34m\u001b[0m\u001b[0;34m\u001b[0m\u001b[0m\n\u001b[0;32m---> 21\u001b[0;31m \u001b[0mFlambda\u001b[0m \u001b[0;34m=\u001b[0m \u001b[0;34m(\u001b[0m\u001b[0mnp\u001b[0m\u001b[0;34m.\u001b[0m\u001b[0mpi\u001b[0m\u001b[0;34m*\u001b[0m\u001b[0mBlambda\u001b[0m\u001b[0;34m*\u001b[0m\u001b[0;34m(\u001b[0m\u001b[0;34m(\u001b[0m\u001b[0mR_Vega\u001b[0m\u001b[0;34m/\u001b[0m\u001b[0md_Vega\u001b[0m\u001b[0;34m)\u001b[0m\u001b[0;34m^\u001b[0m\u001b[0;36m2.\u001b[0m\u001b[0;34m)\u001b[0m\u001b[0;34m)\u001b[0m\u001b[0;34m.\u001b[0m\u001b[0mto\u001b[0m\u001b[0;34m(\u001b[0m\u001b[0;34m'erg s-1 cm-2 AA-1'\u001b[0m\u001b[0;34m)\u001b[0m\u001b[0;34m\u001b[0m\u001b[0;34m\u001b[0m\u001b[0m\n\u001b[0m\u001b[1;32m     22\u001b[0m \u001b[0;34m\u001b[0m\u001b[0m\n\u001b[1;32m     23\u001b[0m \u001b[0;31m# Verification diagram\u001b[0m\u001b[0;34m\u001b[0m\u001b[0;34m\u001b[0m\u001b[0;34m\u001b[0m\u001b[0m\n",
            "\u001b[0;32m/usr/local/lib/python3.6/dist-packages/astropy/units/quantity.py\u001b[0m in \u001b[0;36m__array_ufunc__\u001b[0;34m(self, function, method, *inputs, **kwargs)\u001b[0m\n\u001b[1;32m    455\u001b[0m         \u001b[0;31m# consistent units between two inputs (e.g., in np.add) --\u001b[0m\u001b[0;34m\u001b[0m\u001b[0;34m\u001b[0m\u001b[0;34m\u001b[0m\u001b[0m\n\u001b[1;32m    456\u001b[0m         \u001b[0;31m# and the unit of the result (or tuple of units for nout > 1).\u001b[0m\u001b[0;34m\u001b[0m\u001b[0;34m\u001b[0m\u001b[0;34m\u001b[0m\u001b[0m\n\u001b[0;32m--> 457\u001b[0;31m         \u001b[0mconverters\u001b[0m\u001b[0;34m,\u001b[0m \u001b[0munit\u001b[0m \u001b[0;34m=\u001b[0m \u001b[0mconverters_and_unit\u001b[0m\u001b[0;34m(\u001b[0m\u001b[0mfunction\u001b[0m\u001b[0;34m,\u001b[0m \u001b[0mmethod\u001b[0m\u001b[0;34m,\u001b[0m \u001b[0;34m*\u001b[0m\u001b[0minputs\u001b[0m\u001b[0;34m)\u001b[0m\u001b[0;34m\u001b[0m\u001b[0;34m\u001b[0m\u001b[0m\n\u001b[0m\u001b[1;32m    458\u001b[0m \u001b[0;34m\u001b[0m\u001b[0m\n\u001b[1;32m    459\u001b[0m         \u001b[0mout\u001b[0m \u001b[0;34m=\u001b[0m \u001b[0mkwargs\u001b[0m\u001b[0;34m.\u001b[0m\u001b[0mget\u001b[0m\u001b[0;34m(\u001b[0m\u001b[0;34m'out'\u001b[0m\u001b[0;34m,\u001b[0m \u001b[0;32mNone\u001b[0m\u001b[0;34m)\u001b[0m\u001b[0;34m\u001b[0m\u001b[0;34m\u001b[0m\u001b[0m\n",
            "\u001b[0;32m/usr/local/lib/python3.6/dist-packages/astropy/units/quantity_helper/converters.py\u001b[0m in \u001b[0;36mconverters_and_unit\u001b[0;34m(function, method, *args)\u001b[0m\n\u001b[1;32m    155\u001b[0m     \u001b[0;31m# input(s) to the unit required for the ufunc, as well as the unit the\u001b[0m\u001b[0;34m\u001b[0m\u001b[0;34m\u001b[0m\u001b[0;34m\u001b[0m\u001b[0m\n\u001b[1;32m    156\u001b[0m     \u001b[0;31m# result will have (a tuple of units if there are multiple outputs).\u001b[0m\u001b[0;34m\u001b[0m\u001b[0;34m\u001b[0m\u001b[0;34m\u001b[0m\u001b[0m\n\u001b[0;32m--> 157\u001b[0;31m     \u001b[0mufunc_helper\u001b[0m \u001b[0;34m=\u001b[0m \u001b[0mUFUNC_HELPERS\u001b[0m\u001b[0;34m[\u001b[0m\u001b[0mfunction\u001b[0m\u001b[0;34m]\u001b[0m\u001b[0;34m\u001b[0m\u001b[0;34m\u001b[0m\u001b[0m\n\u001b[0m\u001b[1;32m    158\u001b[0m \u001b[0;34m\u001b[0m\u001b[0m\n\u001b[1;32m    159\u001b[0m     \u001b[0;32mif\u001b[0m \u001b[0mmethod\u001b[0m \u001b[0;34m==\u001b[0m \u001b[0;34m'__call__'\u001b[0m \u001b[0;32mor\u001b[0m \u001b[0;34m(\u001b[0m\u001b[0mmethod\u001b[0m \u001b[0;34m==\u001b[0m \u001b[0;34m'outer'\u001b[0m \u001b[0;32mand\u001b[0m \u001b[0mfunction\u001b[0m\u001b[0;34m.\u001b[0m\u001b[0mnin\u001b[0m \u001b[0;34m==\u001b[0m \u001b[0;36m2\u001b[0m\u001b[0;34m)\u001b[0m\u001b[0;34m:\u001b[0m\u001b[0;34m\u001b[0m\u001b[0;34m\u001b[0m\u001b[0m\n",
            "\u001b[0;32m/usr/local/lib/python3.6/dist-packages/astropy/units/quantity_helper/converters.py\u001b[0m in \u001b[0;36m__missing__\u001b[0;34m(self, ufunc)\u001b[0m\n\u001b[1;32m     65\u001b[0m         \u001b[0;32mif\u001b[0m \u001b[0mufunc\u001b[0m \u001b[0;32min\u001b[0m \u001b[0mself\u001b[0m\u001b[0;34m.\u001b[0m\u001b[0mUNSUPPORTED\u001b[0m\u001b[0;34m:\u001b[0m\u001b[0;34m\u001b[0m\u001b[0;34m\u001b[0m\u001b[0m\n\u001b[1;32m     66\u001b[0m             raise TypeError(\"Cannot use ufunc '{}' with quantities\"\n\u001b[0;32m---> 67\u001b[0;31m                             .format(ufunc.__name__))\n\u001b[0m\u001b[1;32m     68\u001b[0m \u001b[0;34m\u001b[0m\u001b[0m\n\u001b[1;32m     69\u001b[0m         \u001b[0;32mfor\u001b[0m \u001b[0mmodule\u001b[0m\u001b[0;34m,\u001b[0m \u001b[0mmodule_info\u001b[0m \u001b[0;32min\u001b[0m \u001b[0mlist\u001b[0m\u001b[0;34m(\u001b[0m\u001b[0mself\u001b[0m\u001b[0;34m.\u001b[0m\u001b[0mmodules\u001b[0m\u001b[0;34m.\u001b[0m\u001b[0mitems\u001b[0m\u001b[0;34m(\u001b[0m\u001b[0;34m)\u001b[0m\u001b[0;34m)\u001b[0m\u001b[0;34m:\u001b[0m\u001b[0;34m\u001b[0m\u001b[0;34m\u001b[0m\u001b[0m\n",
            "\u001b[0;31mTypeError\u001b[0m: Cannot use ufunc 'bitwise_xor' with quantities"
          ]
        }
      ]
    }
  ]
}