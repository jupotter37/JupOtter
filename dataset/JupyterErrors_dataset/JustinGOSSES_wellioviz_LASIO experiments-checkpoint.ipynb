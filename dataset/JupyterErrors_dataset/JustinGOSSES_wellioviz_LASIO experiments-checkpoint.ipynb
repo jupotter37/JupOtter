{
 "cells": [
  {
   "cell_type": "code",
   "execution_count": 1,
   "metadata": {},
   "outputs": [],
   "source": [
    "from IPython.core.display import HTML"
   ]
  },
  {
   "cell_type": "code",
   "execution_count": 2,
   "metadata": {},
   "outputs": [],
   "source": [
    "test_word = \"hello  world\""
   ]
  },
  {
   "cell_type": "code",
   "execution_count": 3,
   "metadata": {},
   "outputs": [
    {
     "data": {
      "application/javascript": [
       "alert('Hello, hello  world ')"
      ],
      "text/plain": [
       "<IPython.core.display.Javascript object>"
      ]
     },
     "execution_count": 3,
     "metadata": {},
     "output_type": "execute_result"
    }
   ],
   "source": [
    "from IPython.core.display import Javascript\n",
    "Javascript(\"alert('Hello, \"+test_word+\" ')\")"
   ]
  },
  {
   "cell_type": "code",
   "execution_count": 4,
   "metadata": {},
   "outputs": [
    {
     "name": "stderr",
     "output_type": "stream",
     "text": [
      "/Users/justingosses/anaconda/lib/python3.5/site-packages/ipykernel_launcher.py:2: DeprecationWarning: Traits should be given as instances, not types (for example, `Int()`, not `Int`). Passing types is deprecated in traitlets 4.1.\n",
      "  \n"
     ]
    }
   ],
   "source": [
    "import ipywidgets as widgets\n",
    "class MapboxWidget(widgets.DOMWidget):\n",
    "    from traitlets import Dict, Unicode\n",
    "    _view_name = Unicode('MapboxGLView').tag(sync=True)\n",
    "    _view_module = Unicode('mapboxglModule').tag(sync=True)\n",
    "    _view_module_version = Unicode('0.1.0').tag(sync=True)\n",
    "    value = Dict({\"my_key\": \"Hello\"}).tag(sync=True)\n",
    "    def create(self):\n",
    "        from IPython.core.display import Javascript\n",
    "        return Javascript(\"\"\"\n",
    "            require.undef('mapboxglModule');\n",
    "            define('mapboxglModule', [\"@jupyter-widgets/base\"], widgets => {\n",
    "            let MapboxGLView = widgets.DOMWidgetView.extend({\n",
    "                    defaults: _.extend({}, widgets.DOMWidgetModel.prototype.defaults, { value: '' }),\n",
    "                    render: function() {\n",
    "                        this.value_changed();\n",
    "                        this.model.on('change:value', this.value_changed, this);\n",
    "                    },\n",
    "            value_changed: function() {\n",
    "                        this.el.textContent = this.model.get('value').my_key;\n",
    "                    },\n",
    "                });\n",
    "            return {\n",
    "                    MapboxGLView,\n",
    "                };\n",
    "            });\n",
    "        \"\"\")"
   ]
  },
  {
   "cell_type": "markdown",
   "metadata": {},
   "source": [
    "### Now lets bring in lasio"
   ]
  },
  {
   "cell_type": "code",
   "execution_count": 4,
   "metadata": {},
   "outputs": [],
   "source": [
    "import lasio"
   ]
  },
  {
   "cell_type": "code",
   "execution_count": 5,
   "metadata": {},
   "outputs": [
    {
     "data": {
      "text/plain": [
       "<module 'lasio' from '/Users/justingosses/anaconda/envs/wellioviz/lib/python3.7/site-packages/lasio/__init__.py'>"
      ]
     },
     "execution_count": 5,
     "metadata": {},
     "output_type": "execute_result"
    }
   ],
   "source": [
    "lasio"
   ]
  },
  {
   "cell_type": "markdown",
   "metadata": {},
   "source": [
    "#### Load a well"
   ]
  },
  {
   "cell_type": "code",
   "execution_count": 6,
   "metadata": {},
   "outputs": [],
   "source": [
    "test_las_path = \"../docs/assets/00-01-01-073-05W5-0.LAS\""
   ]
  },
  {
   "cell_type": "code",
   "execution_count": 7,
   "metadata": {},
   "outputs": [],
   "source": [
    "las = lasio.read(test_las_path)"
   ]
  },
  {
   "cell_type": "code",
   "execution_count": 9,
   "metadata": {},
   "outputs": [
    {
     "data": {
      "text/plain": [
       "<lasio.las.LASFile at 0x10a91d5c0>"
      ]
     },
     "execution_count": 9,
     "metadata": {},
     "output_type": "execute_result"
    }
   ],
   "source": [
    "las"
   ]
  },
  {
   "cell_type": "markdown",
   "metadata": {},
   "source": [
    "#### A few lines of exploration to show how lasio works..."
   ]
  },
  {
   "cell_type": "code",
   "execution_count": 10,
   "metadata": {},
   "outputs": [
    {
     "data": {
      "text/plain": [
       "lasio.las.LASFile"
      ]
     },
     "execution_count": 10,
     "metadata": {},
     "output_type": "execute_result"
    }
   ],
   "source": [
    "type(las)"
   ]
  },
  {
   "cell_type": "code",
   "execution_count": 11,
   "metadata": {},
   "outputs": [
    {
     "data": {
      "text/plain": [
       "[CurveItem(mnemonic=DEPT, unit=M, value=00 001 00 00, descr=DEPTH        - DEPTH, original_mnemonic=DEPT, data.shape=(1041,)),\n",
       " CurveItem(mnemonic=DPHI, unit=V/V, value=00 890 00 00, descr=PHID         - DENSITY POROSITY (SANDSTONE), original_mnemonic=DPHI, data.shape=(1041,)),\n",
       " CurveItem(mnemonic=NPHI, unit=V/V, value=00 330 00 00, descr=PHIN         - NEUTRON POROSITY (SANDSTONE), original_mnemonic=NPHI, data.shape=(1041,)),\n",
       " CurveItem(mnemonic=GR, unit=API, value=00 310 00 00, descr=GR           - GAMMA RAY, original_mnemonic=GR, data.shape=(1041,)),\n",
       " CurveItem(mnemonic=CALI, unit=MM, value=00 280 01 00, descr=CAL          - CALIPER, original_mnemonic=CALI, data.shape=(1041,)),\n",
       " CurveItem(mnemonic=ILD, unit=OHMM, value=00 120 00 00, descr=RESD         - DEEP RESISTIVITY (DIL), original_mnemonic=ILD, data.shape=(1041,))]"
      ]
     },
     "execution_count": 11,
     "metadata": {},
     "output_type": "execute_result"
    }
   ],
   "source": [
    "las.curves"
   ]
  },
  {
   "cell_type": "code",
   "execution_count": 12,
   "metadata": {},
   "outputs": [
    {
     "data": {
      "text/plain": [
       "lasio.las_items.SectionItems"
      ]
     },
     "execution_count": 12,
     "metadata": {},
     "output_type": "execute_result"
    }
   ],
   "source": [
    "type(las.curves)"
   ]
  },
  {
   "cell_type": "code",
   "execution_count": 13,
   "metadata": {},
   "outputs": [
    {
     "data": {
      "text/plain": [
       "CurveItem(mnemonic=DEPT, unit=M, value=00 001 00 00, descr=DEPTH        - DEPTH, original_mnemonic=DEPT, data.shape=(1041,))"
      ]
     },
     "execution_count": 13,
     "metadata": {},
     "output_type": "execute_result"
    }
   ],
   "source": [
    "las.curves[0]"
   ]
  },
  {
   "cell_type": "code",
   "execution_count": 14,
   "metadata": {},
   "outputs": [
    {
     "data": {
      "text/plain": [
       "'DEPT'"
      ]
     },
     "execution_count": 14,
     "metadata": {},
     "output_type": "execute_result"
    }
   ],
   "source": [
    "las.curves[0][\"mnemonic\"]"
   ]
  },
  {
   "cell_type": "code",
   "execution_count": 15,
   "metadata": {},
   "outputs": [
    {
     "data": {
      "text/plain": [
       "'00 001 00 00'"
      ]
     },
     "execution_count": 15,
     "metadata": {},
     "output_type": "execute_result"
    }
   ],
   "source": [
    "las.curves[0][\"value\"]"
   ]
  },
  {
   "cell_type": "code",
   "execution_count": 16,
   "metadata": {},
   "outputs": [
    {
     "ename": "KeyError",
     "evalue": "'CurveItem only has restricted items (not data)'",
     "output_type": "error",
     "traceback": [
      "\u001b[0;31m---------------------------------------------------------------------------\u001b[0m",
      "\u001b[0;31mKeyError\u001b[0m                                  Traceback (most recent call last)",
      "\u001b[0;32m<ipython-input-16-133ae72b371b>\u001b[0m in \u001b[0;36m<module>\u001b[0;34m()\u001b[0m\n\u001b[0;32m----> 1\u001b[0;31m \u001b[0mlas\u001b[0m\u001b[0;34m.\u001b[0m\u001b[0mcurves\u001b[0m\u001b[0;34m[\u001b[0m\u001b[0;34m\"GR\"\u001b[0m\u001b[0;34m]\u001b[0m\u001b[0;34m[\u001b[0m\u001b[0;34m\"data\"\u001b[0m\u001b[0;34m]\u001b[0m\u001b[0;34m\u001b[0m\u001b[0m\n\u001b[0m",
      "\u001b[0;32m~/anaconda/lib/python3.5/site-packages/lasio/las_items.py\u001b[0m in \u001b[0;36m__getitem__\u001b[0;34m(self, key)\u001b[0m\n\u001b[1;32m     61\u001b[0m         \u001b[0;32melse\u001b[0m\u001b[0;34m:\u001b[0m\u001b[0;34m\u001b[0m\u001b[0m\n\u001b[1;32m     62\u001b[0m             raise KeyError(\n\u001b[0;32m---> 63\u001b[0;31m                 'CurveItem only has restricted items (not %s)' % key)\n\u001b[0m\u001b[1;32m     64\u001b[0m \u001b[0;34m\u001b[0m\u001b[0m\n\u001b[1;32m     65\u001b[0m     \u001b[0;32mdef\u001b[0m \u001b[0m__repr__\u001b[0m\u001b[0;34m(\u001b[0m\u001b[0mself\u001b[0m\u001b[0;34m)\u001b[0m\u001b[0;34m:\u001b[0m\u001b[0;34m\u001b[0m\u001b[0m\n",
      "\u001b[0;31mKeyError\u001b[0m: 'CurveItem only has restricted items (not data)'"
     ]
    }
   ],
   "source": [
    "las.curves[\"GR\"][\"data\"]"
   ]
  },
  {
   "cell_type": "code",
   "execution_count": 17,
   "metadata": {},
   "outputs": [
    {
     "data": {
      "text/plain": [
       "array([238.379, 238.331, 238.069, ..., 265.467, 266.024, 266.581])"
      ]
     },
     "execution_count": 17,
     "metadata": {},
     "output_type": "execute_result"
    }
   ],
   "source": [
    "las.curves[4].data"
   ]
  },
  {
   "cell_type": "code",
   "execution_count": 18,
   "metadata": {},
   "outputs": [
    {
     "data": {
      "text/plain": [
       "array([82.478, 86.413, 90.229, ..., 51.129, 58.34 , 64.622])"
      ]
     },
     "execution_count": 18,
     "metadata": {},
     "output_type": "execute_result"
    }
   ],
   "source": [
    "las.curves[\"GR\"].data"
   ]
  },
  {
   "cell_type": "code",
   "execution_count": 19,
   "metadata": {},
   "outputs": [
    {
     "data": {
      "text/plain": [
       "[HeaderItem(mnemonic=GL, unit=M, value=583.3, descr=gl           - GROUND LEVEL ELEVATION, original_mnemonic=GL),\n",
       " HeaderItem(mnemonic=EREF, unit=M, value=589, descr=kb           - ELEVATION OF DEPTH REFERENCE, original_mnemonic=EREF),\n",
       " HeaderItem(mnemonic=DATM, unit=M, value=583.3, descr=datum        - DATUM ELEVATION, original_mnemonic=DATM),\n",
       " HeaderItem(mnemonic=TDD, unit=M, value=733.4, descr=tdd          - TOTAL DEPTH DRILLER, original_mnemonic=TDD),\n",
       " HeaderItem(mnemonic=RUN, unit=, value=ONE, descr=Run          - RUN NUMBER, original_mnemonic=RUN),\n",
       " HeaderItem(mnemonic=ENG, unit=, value=SIMMONS, descr=Engineer     - RECORDING ENGINEER, original_mnemonic=ENG),\n",
       " HeaderItem(mnemonic=WIT, unit=, value=SANK, descr=Witness      - WITNESSED BY, original_mnemonic=WIT),\n",
       " HeaderItem(mnemonic=BASE, unit=, value=S.L., descr=Branch       - HOME BASE OF LOGGING UNIT, original_mnemonic=BASE),\n",
       " HeaderItem(mnemonic=MUD, unit=, value=GEL CHEM, descr=Mud_type     - MUD TYPE, original_mnemonic=MUD),\n",
       " HeaderItem(mnemonic=MATR, unit=, value=SANDSTONE, descr=Logunit      - NEUTRON MATRIX, original_mnemonic=MATR),\n",
       " HeaderItem(mnemonic=TMAX, unit=C, value=41, descr=BHT          - MAXIMUM RECORDED TEMPERATURE, original_mnemonic=TMAX),\n",
       " HeaderItem(mnemonic=BHTD, unit=M, value=733.8, descr=BHTDEP       - MAXIMUM RECORDED TEMPERATURE, original_mnemonic=BHTD),\n",
       " HeaderItem(mnemonic=RMT, unit=C, value=17, descr=MDTP         - TEMPERATURE OF MUD, original_mnemonic=RMT),\n",
       " HeaderItem(mnemonic=MUDD, unit=KG/M, value=1100, descr=MWT          - MUD DENSITY, original_mnemonic=MUDD),\n",
       " HeaderItem(mnemonic=NEUT, unit=, value=1, descr=NEUTRON      - NEUTRON TYPE, original_mnemonic=NEUT),\n",
       " HeaderItem(mnemonic=RESI, unit=, value=0, descr=RESIST       - RESISTIVITY TYPE, original_mnemonic=RESI),\n",
       " HeaderItem(mnemonic=RM, unit=OHMM, value=2.62, descr=RM           - RESISTIVITY OF MUD, original_mnemonic=RM),\n",
       " HeaderItem(mnemonic=RMC, unit=OHMM, value=0, descr=RMC          - RESISTIVITY OF MUD CAKE, original_mnemonic=RMC),\n",
       " HeaderItem(mnemonic=RMF, unit=OHMM, value=1.02, descr=RMF          - RESISTIVITY OF MUD FILTRATE, original_mnemonic=RMF),\n",
       " HeaderItem(mnemonic=SUFT, unit=C, value=0, descr=SUFT         - SURFACE TEMPERATURE, original_mnemonic=SUFT)]"
      ]
     },
     "execution_count": 19,
     "metadata": {},
     "output_type": "execute_result"
    }
   ],
   "source": [
    "las.params"
   ]
  },
  {
   "cell_type": "code",
   "execution_count": 20,
   "metadata": {},
   "outputs": [
    {
     "data": {
      "text/plain": [
       "HeaderItem(mnemonic=RUN, unit=, value=ONE, descr=Run          - RUN NUMBER, original_mnemonic=RUN)"
      ]
     },
     "execution_count": 20,
     "metadata": {},
     "output_type": "execute_result"
    }
   ],
   "source": [
    "las.params[4]"
   ]
  },
  {
   "cell_type": "code",
   "execution_count": 21,
   "metadata": {},
   "outputs": [
    {
     "data": {
      "text/plain": [
       "HeaderItem(mnemonic=GL, unit=M, value=583.3, descr=gl           - GROUND LEVEL ELEVATION, original_mnemonic=GL)"
      ]
     },
     "execution_count": 21,
     "metadata": {},
     "output_type": "execute_result"
    }
   ],
   "source": [
    "las.params[\"GL\"]"
   ]
  },
  {
   "cell_type": "code",
   "execution_count": 22,
   "metadata": {},
   "outputs": [
    {
     "data": {
      "text/plain": [
       "array([[3.90000e+02, 1.99000e-01, 4.57000e-01, 8.24780e+01, 2.38379e+02,\n",
       "        2.92300e+00],\n",
       "       [3.90250e+02, 2.08000e-01, 4.56000e-01, 8.64130e+01, 2.38331e+02,\n",
       "        2.92500e+00],\n",
       "       [3.90500e+02, 2.46000e-01, 4.52000e-01, 9.02290e+01, 2.38069e+02,\n",
       "        2.91700e+00],\n",
       "       ...,\n",
       "       [6.49500e+02, 2.30000e-02, 1.26000e-01, 5.11290e+01, 2.65467e+02,\n",
       "        1.44490e+01],\n",
       "       [6.49750e+02, 2.80000e-02, 1.46000e-01, 5.83400e+01, 2.66024e+02,\n",
       "        1.22360e+01],\n",
       "       [6.50000e+02, 3.60000e-02, 1.66000e-01, 6.46220e+01, 2.66581e+02,\n",
       "        1.05760e+01]])"
      ]
     },
     "execution_count": 22,
     "metadata": {},
     "output_type": "execute_result"
    }
   ],
   "source": [
    "las.data"
   ]
  },
  {
   "cell_type": "code",
   "execution_count": 23,
   "metadata": {},
   "outputs": [
    {
     "data": {
      "text/plain": [
       "1041"
      ]
     },
     "execution_count": 23,
     "metadata": {},
     "output_type": "execute_result"
    }
   ],
   "source": [
    "len(las.data)"
   ]
  },
  {
   "cell_type": "code",
   "execution_count": 24,
   "metadata": {},
   "outputs": [
    {
     "data": {
      "text/plain": [
       "array([3.91000e+02, 2.87000e-01, 4.84000e-01, 8.88660e+01, 2.39724e+02,\n",
       "       2.89000e+00])"
      ]
     },
     "execution_count": 24,
     "metadata": {},
     "output_type": "execute_result"
    }
   ],
   "source": [
    "las.data[4]"
   ]
  },
  {
   "cell_type": "markdown",
   "metadata": {},
   "source": [
    "## Copy and pasta from another example: https://michhar.github.io/javascript-and-python-have-a-party/"
   ]
  },
  {
   "cell_type": "code",
   "execution_count": 25,
   "metadata": {
    "collapsed": true
   },
   "outputs": [],
   "source": [
    "from IPython.display import HTML"
   ]
  },
  {
   "cell_type": "code",
   "execution_count": 26,
   "metadata": {},
   "outputs": [
    {
     "data": {
      "text/html": [
       "<div id='textid'>100</div>"
      ],
      "text/plain": [
       "<IPython.core.display.HTML object>"
      ]
     },
     "execution_count": 26,
     "metadata": {},
     "output_type": "execute_result"
    }
   ],
   "source": [
    "pystartlife = str(100)\n",
    "HTML(\"<div id='textid'>\" + pystartlife + \"</div>\")"
   ]
  },
  {
   "cell_type": "code",
   "execution_count": 27,
   "metadata": {},
   "outputs": [
    {
     "data": {
      "application/javascript": [
       "// Get the python variable from the DOM\n",
       "var startlife = document.getElementById('textid').innerHTML;"
      ],
      "text/plain": [
       "<IPython.core.display.Javascript object>"
      ]
     },
     "metadata": {},
     "output_type": "display_data"
    }
   ],
   "source": [
    "%%javascript\n",
    "// Get the python variable from the DOM\n",
    "var startlife = document.getElementById('textid').innerHTML;"
   ]
  },
  {
   "cell_type": "code",
   "execution_count": 28,
   "metadata": {},
   "outputs": [
    {
     "data": {
      "application/javascript": [
       "var startlife = document.getElementById('textid').innerHTML;\n",
       "// Define a User class with a method\n",
       "function User() {\n",
       "    this.name = '';\n",
       "    this.life = Number(startlife);\n",
       "    this.giveLife = function giveLife(targetPlayer) {\n",
       "        targetPlayer.life += 1;\n",
       "        this.life -= 1;\n",
       "    }\n",
       "}\n",
       "// Use class\n",
       "var Alfred = new User();\n",
       "var Wallace = new User();\n",
       "\n",
       "// Names were blank so give them name values\n",
       "Alfred.name = 'Alfred';\n",
       "Wallace.name = 'Wallace';\n",
       "\n",
       "// Let's play a game!\n",
       "\n",
       "// Let Alfred give life to Wallace\n",
       "Alfred.giveLife(Wallace);\n",
       "\n",
       "// Save these variables back to python variables to work with later\n",
       "IPython.notebook.kernel.execute('Alfred_life=\"' + Alfred.life + '\";');\n",
       "IPython.notebook.kernel.execute('Wallace_life=\"' + Wallace.life + '\";');"
      ],
      "text/plain": [
       "<IPython.core.display.Javascript object>"
      ]
     },
     "metadata": {},
     "output_type": "display_data"
    }
   ],
   "source": [
    "%%javascript\n",
    "var startlife = document.getElementById('textid').innerHTML;\n",
    "// Define a User class with a method\n",
    "function User() {\n",
    "    this.name = '';\n",
    "    this.life = Number(startlife);\n",
    "    this.giveLife = function giveLife(targetPlayer) {\n",
    "        targetPlayer.life += 1;\n",
    "        this.life -= 1;\n",
    "    }\n",
    "}\n",
    "// Use class\n",
    "var Alfred = new User();\n",
    "var Wallace = new User();\n",
    "\n",
    "// Names were blank so give them name values\n",
    "Alfred.name = 'Alfred';\n",
    "Wallace.name = 'Wallace';\n",
    "\n",
    "// Let's play a game!\n",
    "\n",
    "// Let Alfred give life to Wallace\n",
    "Alfred.giveLife(Wallace);\n",
    "\n",
    "// Save these variables back to python variables to work with later\n",
    "IPython.notebook.kernel.execute('Alfred_life=\"' + Alfred.life + '\";');\n",
    "IPython.notebook.kernel.execute('Wallace_life=\"' + Wallace.life + '\";');"
   ]
  },
  {
   "cell_type": "code",
   "execution_count": 29,
   "metadata": {},
   "outputs": [
    {
     "name": "stdout",
     "output_type": "stream",
     "text": [
      "99\n",
      "101\n"
     ]
    }
   ],
   "source": [
    "print(Alfred_life)\n",
    "print(Wallace_life)"
   ]
  },
  {
   "cell_type": "markdown",
   "metadata": {},
   "source": [
    "## Now the same well parsed by wellio.js into JSON"
   ]
  },
  {
   "cell_type": "code",
   "execution_count": 30,
   "metadata": {
    "collapsed": true
   },
   "outputs": [],
   "source": [
    "test_las_path2 = \"../docs/assets/00-01-01-073-05W5-0.LAS\""
   ]
  },
  {
   "cell_type": "code",
   "execution_count": 31,
   "metadata": {},
   "outputs": [
    {
     "ename": "SyntaxError",
     "evalue": "EOL while scanning string literal (<ipython-input-31-42775a8aa770>, line 6)",
     "output_type": "error",
     "traceback": [
      "\u001b[0;36m  File \u001b[0;32m\"<ipython-input-31-42775a8aa770>\"\u001b[0;36m, line \u001b[0;32m6\u001b[0m\n\u001b[0;31m    <script> \\\u001b[0m\n\u001b[0m               \n^\u001b[0m\n\u001b[0;31mSyntaxError\u001b[0m\u001b[0;31m:\u001b[0m EOL while scanning string literal\n"
     ]
    }
   ],
   "source": [
    "pystartlife = str(100)\n",
    "HTML(\"<div id='las_path'>\" + test_las_path2 + \n",
    "     \"</div> \\\n",
    "     <script src='https://raw.githubusercontent.com/JustinGOSSES/wellioviz/master/docs/js/bundle.js'></script> \\\n",
    "     <script src='https://raw.githubusercontent.com/JustinGOSSES/wellioviz/master/docs/js/main.js'></script> \\\n",
    "     <script> \\ \n",
    "     var las_path= document.getElementById(\"+test_las_path2+\").innerHTML; \\\n",
    "    function readInLASFromASSETS(\"+test_las_path2+\"){ \\\n",
    "          //all_files = [las_path];  \\\n",
    "          //// removes all status spans for uploads  \\\n",
    "          $.ajax({ \\\n",
    "                    url : las_path, \\\n",
    "                    dataType: 'text', \\\n",
    "                    success : function (data) { \\\n",
    "                      all_files = [data,\"\"] \\\n",
    "                      document.getElementById('upload-success').innerHTML = 'upload success'; \\\n",
    "                      console.log('successfully loaded .draw_curve_from_data/assets/00-01-01-073-05W5-0.LAS') \\\n",
    "                    }, \\\n",
    "                    error : function (XMLHttpRequest, textStatus, errorThrown) { \\\n",
    "                      document.getElementById('upload-success'').innerHTML = 'upload failure''; \\\n",
    "                      console.log('error in function readInLASFromASSETS() : ',textStatus, errorThrown) \\\n",
    "                    }  \\\n",
    "                }); \\\n",
    "            return data \\\n",
    "        } \\\n",
    "     var single_well_json = las2json(readInLASFromASSETS(las_path)); \\\n",
    "    IPython.notebook.kernel.execute('las_json=\"' + single_well_json + '\";'); \\\n",
    "     <script>\"\n",
    "    )"
   ]
  },
  {
   "cell_type": "code",
   "execution_count": 32,
   "metadata": {},
   "outputs": [
    {
     "data": {
      "application/javascript": [
       "var las_path= document.getElementById('las_path').innerHTML;\n",
       "function readInLASFromASSETS(las_path){\n",
       "  //all_files = [\"./assets/00-01-01-073-05W5-0.LAS\"];\n",
       "  //// removes all status spans for uploads\n",
       "//   removeInnerHTML(\"upload-file-info\");\n",
       "//   removeInnerHTML(\"upload-success\");\n",
       "  $.ajax({\n",
       "            url : las_path,\n",
       "            dataType: \"text\",\n",
       "            success : function (data) {\n",
       "              all_files = [data,\"\"]\n",
       "              document.getElementById(\"upload-success\").innerHTML = \"upload success\";\n",
       "              console.log(\"successfully loaded .draw_curve_from_data/assets/00-01-01-073-05W5-0.LAS\")\n",
       "            },\n",
       "            error : function (XMLHttpRequest, textStatus, errorThrown) {\n",
       "              document.getElementById(\"upload-success\").innerHTML = \"upload failure\";\n",
       "              console.log(\"error in function readInLASFromASSETS() : \",textStatus, errorThrown)\n",
       "            } \n",
       "        });\n",
       "    return data\n",
       "}\n",
       "function las2json(onelas){\n",
       "\t\t//// var lasjson establishes a blank json for holding las 2.0 data. It will look like the example below:\n",
       "\t\tvar lasjson = {\n",
       "\t\t\t\t\"VERSION INFORMATION\":{\n",
       "\t\t\t\t\t\"VERS\":{\"MNEM\":\"\",\"UNIT\":\"\",\"DATA\":\"\",\"DESCRIPTION OF MNEMONIC 1\":\"\",\"DESCRIPTION OF MNEMONIC 2\":\"\"},\n",
       "\t\t\t\t\t\"WRAP\":{\"MNEM\":\"\",\"UNIT\":\"\",\"DATA\":\"\",\"DESCRIPTION OF MNEMONIC 1\":\"\",\"DESCRIPTION OF MNEMONIC 2\":\"\"}\n",
       "\t\t\t\t}\n",
       "\t\t\t\t,\n",
       "\t\t\t\t\"WELL INFORMATION BLOCK\":{\n",
       "\t\t\t\t\t\t\"GENERATED\":\"\",\n",
       "\t\t\t\t\t\t\"MNEM_0\":{\"MNEM\":\"\",\"UNIT\":\"\",\"DATA\":\"\",\"DESCRIPTION OF MNEMONIC 1\":\"\",\"DESCRIPTION OF MNEMONIC 2\":\"\"},\n",
       "\t\t\t\t\t\t\"MNEM_1\":{\"MNEM\":\"\",\"UNIT\":\"\",\"DATA\":\"\",\"DESCRIPTION OF MNEMONIC 1\":\"\",\"DESCRIPTION OF MNEMONIC 2\":\"\"},\n",
       "\t\t\t\t\t\t\"MNEM_2\":{\"MNEM\":\"\",\"UNIT\":\"\",\"DATA\":\"\",\"DESCRIPTION OF MNEMONIC 1\":\"\",\"DESCRIPTION OF MNEMONIC 2\":\"\"}\n",
       "\t\t\t\t\t}\n",
       "\t\t\t\t,\n",
       "\t\t\t\t\"CURVE INFORMATION BLOCK\":{\n",
       "\t\t\t\t\t\t\"MNEM_0\":{\"MNEM\":\"\",\"UNIT\":\"\",\"ERCB CURVE CODE\":\"\",\"CURVE DESCRIPTION 1\":\"\",\"CURVE DESCRIPTION 2\":\"\"}, \n",
       "\t\t\t\t\t\t\"MNEM_0\":{\"MNEM\":\"\",\"UNIT\":\"\",\"ERCB CURVE CODE\":\"\",\"CURVE DESCRIPTION 1\":\"\",\"CURVE DESCRIPTION 2\":\"\"}\n",
       "\t\t\t\t\t}\t\n",
       "\t\t\t\t,\n",
       "\t\t\t\t\"PARAMETER INFORMATION\":{\n",
       "\t\t\t\t\t\t\"MNEM_0\":{\"MNEM\":\"\",\"UNIT\":\"\",\"DATA\":\"\",\"DESCRIPTION OF MNEMONIC 1\":\"\",\"DESCRIPTION OF MNEMONIC 2\":\"\"}, \n",
       "\t\t\t\t\t\t\"MNEM_1\":{\"MNEM\":\"\",\"UNIT\":\"\",\"DATA\":\"\",\"DESCRIPTION OF MNEMONIC 1\":\"\",\"DESCRIPTION OF MNEMONIC 2\":\"\"}\n",
       "\t\t\t\t\t}\n",
       "\t\t\t\t,\n",
       "\t\t\t\t\"CURVES\":{\n",
       "\t\t\t\t\t\t\"Curve_NAME_ONE\" :[1,2,3,4,5,6,7,8,9,10,11],\n",
       "\t\t\t\t\t\t\"Curve_NAME_ONE\" :[1,2,3,4,5,6,7,8,9,10,11],\n",
       "\t\t\t\t\t}\n",
       "\t\t\t}\n",
       "\t\t//// Some objects in the json were partially populated in the example above to make understanding the format easier.\n",
       "\t\t//// We'll empty them as a first step \n",
       "\t\tlasjson[\"VERSION INFORMATION\"] = {};\n",
       "\t\tlasjson[\"WELL INFORMATION BLOCK\"] = {};\n",
       "\t\tlasjson[\"CURVE INFORMATION BLOCK\"] = {};\n",
       "\t\tlasjson[\"PARAMETER INFORMATION\"] = {};\n",
       "\t\tlasjson[\"CURVES\"] = {};\n",
       "\t\t//// Within the \"blocks\" [\"CURVE INFORMATION BLOCK\",\"PARAMETER INFORMATION\", etc.] there are other objects with repeating keys.\n",
       "\t\t//// The variables below will be the building blocks for each of those objects {}. They are initially populated with empty strings as the values.\n",
       "\t\tvar ver_info_obj = {\"MNEM\":\"\",\"UNIT\":\"\",\"DATA\":\"\",\"DESCRIPTION OF MNEMONIC 1\":\"\",\"DESCRIPTION OF MNEMONIC 2\":\"\"};\n",
       "\t\tvar well_info_obj = {\"MNEM\":\"\",\"UNIT\":\"\",\"DATA\":\"\",\"DESCRIPTION OF MNEMONIC 1\":\"\",\"DESCRIPTION OF MNEMONIC 2\":\"\"};\n",
       "\t\tvar curve_info_obj = {\"MNEM\":\"\",\"UNIT\":\"\",\"ERCB CURVE CODE\":\"\",\"CURVE DESCRIPTION 1\":\"\",\"CURVE DESCRIPTION 2\":\"\"};\n",
       "\t\tvar param_info_obj = {\"MNEM\":\"\",\"UNIT\":\"\",\"DATA\":\"\",\"DESCRIPTION OF MNEMONIC 1\":\"\",\"DESCRIPTION OF MNEMONIC 2\":\"\"};\n",
       "\t\t//// The las file is read as a txt file. It will first be split into seperate strings based on \"~\" character which occurs at the top of each \"block\"\n",
       "\t\tconsole.log(\"onelas = \",onelas)\n",
       "\t\tvar split1 = onelas.split(\"~\");\n",
       "\t\tconsole.log(\"split1 = \",split1)\n",
       "\t\tvar vers_str = \"\";\n",
       "\t\tvar well_info_str = \"\";\n",
       "\t\tvar curve_info_str = \"\";\n",
       "\t\tvar param_info_str = \"\";\n",
       "\t\tvar other = \"\";\n",
       "\t\tvar curve_str = \"\";\n",
       "\n",
       "\t\t//// As the 'OTHER' block may or may not be present, we have to split by '~' and then look for a substring to make sure we have the right block before we put each into a variable.\n",
       "\t\tfor(i = 0; i < split1.length; i++){\n",
       "\t\t\tif(split1[i].includes(\"VERSION\")){var vers_str = split1[i]}\n",
       "\t\t\telse if (split1[i].includes(\"WELL INFORMATION\")){well_info_str = split1[i]}\n",
       "\t\t\telse if (split1[i].includes(\"CURVE INFORMATION\")){curve_info_str = split1[i]}\n",
       "\t\t\telse if (split1[i].includes(\"PARAMETER\")){param_info_str = split1[i]}\n",
       "\t\t\telse if (split1[i].includes(\"OTHER\")){other = split1[i]}\n",
       "\t\t\telse if (split1[i].includes(\"A  DEPTH\")){curve_str = split1[i]}\n",
       "\t\t\telse{console.log(\"there is a problem, in wellio.js the las2json() function has to many item in the string array created by splitting on '~'. \")}\n",
       "\t\t}\n",
       "\n",
       "\n",
       "\t\t//// Working with version block first by splitting it by newline and places each item into an array\n",
       "\t\t//// and taking items of array 1 and 2 for vers and wrap\n",
       "\t\tvar vers_line = vers_str.split(\"\\n\")[1];\n",
       "\t\tvar wrap_line = vers_str.split(\"\\n\")[2];\n",
       "\t\t//// As version information, well information, and parameter information blocks contain objects with the same keys, we can process them using a loop.\n",
       "\t\t//// function to process objects for ver_info_obj, well_inf_obj, and param_info_obj\n",
       "\t\t//// The splitLineofType1() function takes as argument the prototypical object building block and the array of strings for that block\n",
       "\t\tfunction splitLineofType1(ver_info_obj,arrayString){\n",
       "\t\t\t//// splits string (should be a single line from the LAS text) by \":\", takes the first item of the resulting array, and then replaces any \" \" with \"\".\n",
       "\t\t\tvar vers_line_1half = arrayString.split(\":\")[0].replace(\" \",\"\");\n",
       "\t\t\t//// splits the previous string variable by \".\" into an array of strings.\n",
       "\t\t\tvar vers_line_1half_array = vers_line_1half.split(\".\")\n",
       "\t\t\t//// trimming this so I get \"UWI\" instead of \"UWI    \"\n",
       "\t\t\tver_info_obj[\"MNEM\"] = vers_line_1half_array[0].trim()\n",
       "\t\t\tvar unit_and_data = vers_line_1half_array.slice(1,vers_line_1half_array.length);\n",
       "\t\t\tvar unit_and_data_str = \"                        \";\n",
       "\t\t\tif (unit_and_data.length > 1){\n",
       "\t\t\t\tunit_and_data_str = unit_and_data[0].toString()+\".\"+unit_and_data[1].toString();\n",
       "\t\t\t}\n",
       "\t\t\telse{\n",
       "\t\t\t\tunit_and_data_str = unit_and_data.toString()\n",
       "\t\t\t}\n",
       "\t\t\tvar unit = unit_and_data_str[0,5].trim();\n",
       "\t\t\tvar data = unit_and_data_str.substring(5,unit_and_data_str.length).trim();\n",
       "\t\t\tver_info_obj[\"DATA\"] = data\n",
       "\t  \t\tver_info_obj[\"UNIT\"] = unit\n",
       "\t  \t\t//// \n",
       "\t  \t\tif(arrayString.split(\":\")[1].indexOf(\"-\") !== -1){\n",
       "\t  \t\t\tver_info_obj[\"DESCRIPTION OF MNEMONIC 1\"] = arrayString.split(\":\")[1].split(\"-\")[0].trim()\n",
       "\t  \t\t\tver_info_obj[\"DESCRIPTION OF MNEMONIC 2\"] = arrayString.split(\":\")[1].split(\"-\")[1].replace(\"\\r\",\"\").trim()\n",
       "\t  \t\t}\n",
       "\t  \t\telse{\n",
       "\t  \t\t\tver_info_obj[\"DESCRIPTION OF MNEMONIC 1\"] = arrayString.split(\":\")[1].replace(\"\\r\",\"\").trim()\n",
       "\t  \t\t\tver_info_obj[\"DESCRIPTION OF MNEMONIC 2\"] = \"\"\n",
       "\t  \t\t}\n",
       "\t \t\treturn ver_info_obj\n",
       "\t\t};\n",
       "\t\tlasjson[\"VERSION INFORMATION\"][\"WRAP\"] = splitLineofType1(Object.assign({}, ver_info_obj),wrap_line);\n",
       "\t\tlasjson[\"VERSION INFORMATION\"][\"VERS\"] = splitLineofType1(Object.assign({}, ver_info_obj),vers_line);\n",
       "\t\t//// Working with PARAMETER INFORMATION block second by splitting it by newline into an array and taking items after 0,1,2 or [3:]\n",
       "\t\t//// This basically just skips some lines with titles and such\n",
       "\t\tvar param_line_array = param_info_str.split(\"\\n\").slice(3,);\n",
       "\t\tfor(i = 0; i < param_line_array.length; i++){\n",
       "\t\t\t//// create one object for parameter line\n",
       "\t\t\tif(param_line_array[i] != \"\"){\n",
       "\t\t\t\tvar param_obj_inst = splitLineofType1(Object.assign({}, param_info_obj),param_line_array[i]);\n",
       "\t\t\t\tlasjson[\"PARAMETER INFORMATION\"][param_obj_inst[\"MNEM\"]] = param_obj_inst\n",
       "\t\t\t}\n",
       "\t\t}\n",
       "\t\t//// Working with CURVE INFORMATION BLOCK second by splitting it by newline into an array and taking items after 0,1,2 or [3:]\n",
       "\t\tvar curve_line_array = curve_info_str.split(\"\\n\").slice(3,);\n",
       "\t\tfor(i = 0; i < curve_line_array.length; i++){\n",
       "\t\t\t//// create one object for parameter line\n",
       "\t\t\tif(curve_line_array[i] != \"\"){\n",
       "\t\t\t\tvar curve_obj_inst = splitLineofType1(Object.assign({}, curve_info_obj),curve_line_array[i]);\n",
       "\t\t\t\tlasjson[\"CURVE INFORMATION BLOCK\"][curve_obj_inst[\"MNEM\"]] = curve_obj_inst\n",
       "\t\t\t}\n",
       "\t\t}\n",
       "\t\t//// Working with WELL INFORMATION BLOCK second by splitting it by newline into an array and taking items after 0,1,2 or [3:]\n",
       "\t\tvar well_line_array = well_info_str.split(\"\\n\").slice(3,);\n",
       "\t\tfor(i = 0; i < well_line_array.length; i++){\n",
       "\t\t\tif(well_line_array[i].includes(\"Generated\")){\n",
       "\t\t\t\tlasjson[\"WELL INFORMATION BLOCK\"][\"GENERATED\"] = well_line_array[i].replace(\"\\r\",\"\").replace(\"\\t\",\" \").replace(\"#\",\"\")\n",
       "\t\t\t}\n",
       "\t\t\t//// create one object for parameter line\n",
       "\t\t\telse if(well_line_array[i] != \"\"){\n",
       "\t\t\t\tvar well_obj_inst = splitLineofType1(Object.assign({}, well_info_obj),well_line_array[i]);\n",
       "\t\t\t\tlasjson[\"WELL INFORMATION BLOCK\"][well_obj_inst[\"MNEM\"]] = well_obj_inst\n",
       "\t\t\t}\n",
       "\t\t\telse{\n",
       "\t\t\t\tconsole.log(\" got else \")\n",
       "\t\t\t}\n",
       "\t\t}\n",
       "\t\t//// Working with CURVES second by splitting it by newline into an array,\n",
       "\t\t//// then using the first line item of that array to find the curve names\n",
       "\t\t//// using those curves names to establish object keys and then interating through the other array items\n",
       "\t\t//// and populating arrays for each key\n",
       "\t\tvar curve_str_array = curve_str.split(\"\\n\");\n",
       "\t\tvar curve_names_array = [];\n",
       "\t\tvar curve_names_array_holder = [];\n",
       "\t\tif(curve_str_array[0][0] === \"A\"){\n",
       "\t\t\tcurve_names_array = curve_str_array[0].split(\" \")\n",
       "\t\t\tvar last_curv_name_position = curve_names_array.length - 1;\n",
       "\t\t\tcurve_names_array[last_curv_name_position] = curve_names_array[last_curv_name_position].replace(\"\\r\",\"\")\n",
       "\t\t\tconsole.log(\"0 curve_names_array = \",curve_names_array)\n",
       "\t\t\tcurve_names_array = curve_names_array.slice(1,curve_names_array.length);\n",
       "\t\t\tfor(i = 0; i < curve_names_array.length; i++){\n",
       "\t\t\t\tif(curve_names_array[i] !== \"\"){\n",
       "\t\t\t\t\tconsole.log(\"0.5 curve_names_array[i] = \",curve_names_array[i])\n",
       "\t\t\t\t\tcurve_names_array_holder.push(curve_names_array[i]);\n",
       "\t\t\t\t\tlasjson[\"CURVES\"][curve_names_array[i]] = []\n",
       "\t\t\t\t}\n",
       "\t\t\t}\n",
       "\t\t}\n",
       "\t\telse{console.log(\"Couldn't find curve names above curves in LAS, check formatting!\")}\n",
       "\t\t//// start at position 1 instead of 0 is to avoid the curve names\n",
       "\t\tfor(j = 1; j < curve_str_array.length; j++){\n",
       "\t\t\tvar curve_data_line_array = curve_str_array[j].split(\" \");\n",
       "\t\t\tvar counter_of_curve_names = 0;\n",
       "\t\t\tconsole.log(\"curve_data_line_array.length = \",curve_data_line_array.length)\n",
       "\t\t\tconsole.log(\"curve_data_line_array = \",curve_data_line_array)\n",
       "\t\t\tvar last_curv_data_line_position = curve_data_line_array.length - 1;\n",
       "\t\t\tconsole.log(\"curve_data_line_array[last_curv_data_line_position] = \",curve_data_line_array[last_curv_data_line_position])\n",
       "\t\t\tcurve_data_line_array[last_curv_data_line_position] = curve_data_line_array[last_curv_data_line_position].replace(\"\\r\",\"\")\n",
       "\t\t\tconsole.log(\"curve_data_line_array[last_curv_data_line_position] = \",curve_data_line_array[last_curv_data_line_position])\n",
       "\t\t\tfor(k = 0; k < curve_data_line_array.length; k++){\n",
       "\t\t\t\tif(curve_data_line_array[k] !== \"\"){\t\t\t\t\n",
       "\t\t\t\t\tlasjson[\"CURVES\"][curve_names_array_holder[counter_of_curve_names]].push(curve_data_line_array[k])\n",
       "\t\t\t\t\tcounter_of_curve_names += 1;\n",
       "\t\t\t\t}\n",
       "\t\t\t}\n",
       "\t\t}\n",
       "\t\tconsole.log(\" test: lasjson\",lasjson);\n",
       "\t\treturn(lasjson)\n",
       "\t}\n",
       "var single_well_json = las2json(readInLASFromASSETS(las_path));\n",
       "IPython.notebook.kernel.execute('las_json=\"' + single_well_json + '\";');\n",
       "// Define a User class with a method"
      ],
      "text/plain": [
       "<IPython.core.display.Javascript object>"
      ]
     },
     "metadata": {},
     "output_type": "display_data"
    }
   ],
   "source": [
    "%%javascript\n",
    "var las_path= document.getElementById('las_path').innerHTML;\n",
    "function readInLASFromASSETS(las_path){\n",
    "  //all_files = [\"./assets/00-01-01-073-05W5-0.LAS\"];\n",
    "  //// removes all status spans for uploads\n",
    "//   removeInnerHTML(\"upload-file-info\");\n",
    "//   removeInnerHTML(\"upload-success\");\n",
    "  $.ajax({\n",
    "            url : las_path,\n",
    "            dataType: \"text\",\n",
    "            success : function (data) {\n",
    "              all_files = [data,\"\"]\n",
    "              document.getElementById(\"upload-success\").innerHTML = \"upload success\";\n",
    "              console.log(\"successfully loaded .draw_curve_from_data/assets/00-01-01-073-05W5-0.LAS\")\n",
    "            },\n",
    "            error : function (XMLHttpRequest, textStatus, errorThrown) {\n",
    "              document.getElementById(\"upload-success\").innerHTML = \"upload failure\";\n",
    "              console.log(\"error in function readInLASFromASSETS() : \",textStatus, errorThrown)\n",
    "            } \n",
    "        });\n",
    "    return data\n",
    "}\n",
    "function las2json(onelas){\n",
    "\t\t//// var lasjson establishes a blank json for holding las 2.0 data. It will look like the example below:\n",
    "\t\tvar lasjson = {\n",
    "\t\t\t\t\"VERSION INFORMATION\":{\n",
    "\t\t\t\t\t\"VERS\":{\"MNEM\":\"\",\"UNIT\":\"\",\"DATA\":\"\",\"DESCRIPTION OF MNEMONIC 1\":\"\",\"DESCRIPTION OF MNEMONIC 2\":\"\"},\n",
    "\t\t\t\t\t\"WRAP\":{\"MNEM\":\"\",\"UNIT\":\"\",\"DATA\":\"\",\"DESCRIPTION OF MNEMONIC 1\":\"\",\"DESCRIPTION OF MNEMONIC 2\":\"\"}\n",
    "\t\t\t\t}\n",
    "\t\t\t\t,\n",
    "\t\t\t\t\"WELL INFORMATION BLOCK\":{\n",
    "\t\t\t\t\t\t\"GENERATED\":\"\",\n",
    "\t\t\t\t\t\t\"MNEM_0\":{\"MNEM\":\"\",\"UNIT\":\"\",\"DATA\":\"\",\"DESCRIPTION OF MNEMONIC 1\":\"\",\"DESCRIPTION OF MNEMONIC 2\":\"\"},\n",
    "\t\t\t\t\t\t\"MNEM_1\":{\"MNEM\":\"\",\"UNIT\":\"\",\"DATA\":\"\",\"DESCRIPTION OF MNEMONIC 1\":\"\",\"DESCRIPTION OF MNEMONIC 2\":\"\"},\n",
    "\t\t\t\t\t\t\"MNEM_2\":{\"MNEM\":\"\",\"UNIT\":\"\",\"DATA\":\"\",\"DESCRIPTION OF MNEMONIC 1\":\"\",\"DESCRIPTION OF MNEMONIC 2\":\"\"}\n",
    "\t\t\t\t\t}\n",
    "\t\t\t\t,\n",
    "\t\t\t\t\"CURVE INFORMATION BLOCK\":{\n",
    "\t\t\t\t\t\t\"MNEM_0\":{\"MNEM\":\"\",\"UNIT\":\"\",\"ERCB CURVE CODE\":\"\",\"CURVE DESCRIPTION 1\":\"\",\"CURVE DESCRIPTION 2\":\"\"}, \n",
    "\t\t\t\t\t\t\"MNEM_0\":{\"MNEM\":\"\",\"UNIT\":\"\",\"ERCB CURVE CODE\":\"\",\"CURVE DESCRIPTION 1\":\"\",\"CURVE DESCRIPTION 2\":\"\"}\n",
    "\t\t\t\t\t}\t\n",
    "\t\t\t\t,\n",
    "\t\t\t\t\"PARAMETER INFORMATION\":{\n",
    "\t\t\t\t\t\t\"MNEM_0\":{\"MNEM\":\"\",\"UNIT\":\"\",\"DATA\":\"\",\"DESCRIPTION OF MNEMONIC 1\":\"\",\"DESCRIPTION OF MNEMONIC 2\":\"\"}, \n",
    "\t\t\t\t\t\t\"MNEM_1\":{\"MNEM\":\"\",\"UNIT\":\"\",\"DATA\":\"\",\"DESCRIPTION OF MNEMONIC 1\":\"\",\"DESCRIPTION OF MNEMONIC 2\":\"\"}\n",
    "\t\t\t\t\t}\n",
    "\t\t\t\t,\n",
    "\t\t\t\t\"CURVES\":{\n",
    "\t\t\t\t\t\t\"Curve_NAME_ONE\" :[1,2,3,4,5,6,7,8,9,10,11],\n",
    "\t\t\t\t\t\t\"Curve_NAME_ONE\" :[1,2,3,4,5,6,7,8,9,10,11],\n",
    "\t\t\t\t\t}\n",
    "\t\t\t}\n",
    "\t\t//// Some objects in the json were partially populated in the example above to make understanding the format easier.\n",
    "\t\t//// We'll empty them as a first step \n",
    "\t\tlasjson[\"VERSION INFORMATION\"] = {};\n",
    "\t\tlasjson[\"WELL INFORMATION BLOCK\"] = {};\n",
    "\t\tlasjson[\"CURVE INFORMATION BLOCK\"] = {};\n",
    "\t\tlasjson[\"PARAMETER INFORMATION\"] = {};\n",
    "\t\tlasjson[\"CURVES\"] = {};\n",
    "\t\t//// Within the \"blocks\" [\"CURVE INFORMATION BLOCK\",\"PARAMETER INFORMATION\", etc.] there are other objects with repeating keys.\n",
    "\t\t//// The variables below will be the building blocks for each of those objects {}. They are initially populated with empty strings as the values.\n",
    "\t\tvar ver_info_obj = {\"MNEM\":\"\",\"UNIT\":\"\",\"DATA\":\"\",\"DESCRIPTION OF MNEMONIC 1\":\"\",\"DESCRIPTION OF MNEMONIC 2\":\"\"};\n",
    "\t\tvar well_info_obj = {\"MNEM\":\"\",\"UNIT\":\"\",\"DATA\":\"\",\"DESCRIPTION OF MNEMONIC 1\":\"\",\"DESCRIPTION OF MNEMONIC 2\":\"\"};\n",
    "\t\tvar curve_info_obj = {\"MNEM\":\"\",\"UNIT\":\"\",\"ERCB CURVE CODE\":\"\",\"CURVE DESCRIPTION 1\":\"\",\"CURVE DESCRIPTION 2\":\"\"};\n",
    "\t\tvar param_info_obj = {\"MNEM\":\"\",\"UNIT\":\"\",\"DATA\":\"\",\"DESCRIPTION OF MNEMONIC 1\":\"\",\"DESCRIPTION OF MNEMONIC 2\":\"\"};\n",
    "\t\t//// The las file is read as a txt file. It will first be split into seperate strings based on \"~\" character which occurs at the top of each \"block\"\n",
    "\t\tconsole.log(\"onelas = \",onelas)\n",
    "\t\tvar split1 = onelas.split(\"~\");\n",
    "\t\tconsole.log(\"split1 = \",split1)\n",
    "\t\tvar vers_str = \"\";\n",
    "\t\tvar well_info_str = \"\";\n",
    "\t\tvar curve_info_str = \"\";\n",
    "\t\tvar param_info_str = \"\";\n",
    "\t\tvar other = \"\";\n",
    "\t\tvar curve_str = \"\";\n",
    "\n",
    "\t\t//// As the 'OTHER' block may or may not be present, we have to split by '~' and then look for a substring to make sure we have the right block before we put each into a variable.\n",
    "\t\tfor(i = 0; i < split1.length; i++){\n",
    "\t\t\tif(split1[i].includes(\"VERSION\")){var vers_str = split1[i]}\n",
    "\t\t\telse if (split1[i].includes(\"WELL INFORMATION\")){well_info_str = split1[i]}\n",
    "\t\t\telse if (split1[i].includes(\"CURVE INFORMATION\")){curve_info_str = split1[i]}\n",
    "\t\t\telse if (split1[i].includes(\"PARAMETER\")){param_info_str = split1[i]}\n",
    "\t\t\telse if (split1[i].includes(\"OTHER\")){other = split1[i]}\n",
    "\t\t\telse if (split1[i].includes(\"A  DEPTH\")){curve_str = split1[i]}\n",
    "\t\t\telse{console.log(\"there is a problem, in wellio.js the las2json() function has to many item in the string array created by splitting on '~'. \")}\n",
    "\t\t}\n",
    "\n",
    "\n",
    "\t\t//// Working with version block first by splitting it by newline and places each item into an array\n",
    "\t\t//// and taking items of array 1 and 2 for vers and wrap\n",
    "\t\tvar vers_line = vers_str.split(\"\\n\")[1];\n",
    "\t\tvar wrap_line = vers_str.split(\"\\n\")[2];\n",
    "\t\t//// As version information, well information, and parameter information blocks contain objects with the same keys, we can process them using a loop.\n",
    "\t\t//// function to process objects for ver_info_obj, well_inf_obj, and param_info_obj\n",
    "\t\t//// The splitLineofType1() function takes as argument the prototypical object building block and the array of strings for that block\n",
    "\t\tfunction splitLineofType1(ver_info_obj,arrayString){\n",
    "\t\t\t//// splits string (should be a single line from the LAS text) by \":\", takes the first item of the resulting array, and then replaces any \" \" with \"\".\n",
    "\t\t\tvar vers_line_1half = arrayString.split(\":\")[0].replace(\" \",\"\");\n",
    "\t\t\t//// splits the previous string variable by \".\" into an array of strings.\n",
    "\t\t\tvar vers_line_1half_array = vers_line_1half.split(\".\")\n",
    "\t\t\t//// trimming this so I get \"UWI\" instead of \"UWI    \"\n",
    "\t\t\tver_info_obj[\"MNEM\"] = vers_line_1half_array[0].trim()\n",
    "\t\t\tvar unit_and_data = vers_line_1half_array.slice(1,vers_line_1half_array.length);\n",
    "\t\t\tvar unit_and_data_str = \"                        \";\n",
    "\t\t\tif (unit_and_data.length > 1){\n",
    "\t\t\t\tunit_and_data_str = unit_and_data[0].toString()+\".\"+unit_and_data[1].toString();\n",
    "\t\t\t}\n",
    "\t\t\telse{\n",
    "\t\t\t\tunit_and_data_str = unit_and_data.toString()\n",
    "\t\t\t}\n",
    "\t\t\tvar unit = unit_and_data_str[0,5].trim();\n",
    "\t\t\tvar data = unit_and_data_str.substring(5,unit_and_data_str.length).trim();\n",
    "\t\t\tver_info_obj[\"DATA\"] = data\n",
    "\t  \t\tver_info_obj[\"UNIT\"] = unit\n",
    "\t  \t\t//// \n",
    "\t  \t\tif(arrayString.split(\":\")[1].indexOf(\"-\") !== -1){\n",
    "\t  \t\t\tver_info_obj[\"DESCRIPTION OF MNEMONIC 1\"] = arrayString.split(\":\")[1].split(\"-\")[0].trim()\n",
    "\t  \t\t\tver_info_obj[\"DESCRIPTION OF MNEMONIC 2\"] = arrayString.split(\":\")[1].split(\"-\")[1].replace(\"\\r\",\"\").trim()\n",
    "\t  \t\t}\n",
    "\t  \t\telse{\n",
    "\t  \t\t\tver_info_obj[\"DESCRIPTION OF MNEMONIC 1\"] = arrayString.split(\":\")[1].replace(\"\\r\",\"\").trim()\n",
    "\t  \t\t\tver_info_obj[\"DESCRIPTION OF MNEMONIC 2\"] = \"\"\n",
    "\t  \t\t}\n",
    "\t \t\treturn ver_info_obj\n",
    "\t\t};\n",
    "\t\tlasjson[\"VERSION INFORMATION\"][\"WRAP\"] = splitLineofType1(Object.assign({}, ver_info_obj),wrap_line);\n",
    "\t\tlasjson[\"VERSION INFORMATION\"][\"VERS\"] = splitLineofType1(Object.assign({}, ver_info_obj),vers_line);\n",
    "\t\t//// Working with PARAMETER INFORMATION block second by splitting it by newline into an array and taking items after 0,1,2 or [3:]\n",
    "\t\t//// This basically just skips some lines with titles and such\n",
    "\t\tvar param_line_array = param_info_str.split(\"\\n\").slice(3,);\n",
    "\t\tfor(i = 0; i < param_line_array.length; i++){\n",
    "\t\t\t//// create one object for parameter line\n",
    "\t\t\tif(param_line_array[i] != \"\"){\n",
    "\t\t\t\tvar param_obj_inst = splitLineofType1(Object.assign({}, param_info_obj),param_line_array[i]);\n",
    "\t\t\t\tlasjson[\"PARAMETER INFORMATION\"][param_obj_inst[\"MNEM\"]] = param_obj_inst\n",
    "\t\t\t}\n",
    "\t\t}\n",
    "\t\t//// Working with CURVE INFORMATION BLOCK second by splitting it by newline into an array and taking items after 0,1,2 or [3:]\n",
    "\t\tvar curve_line_array = curve_info_str.split(\"\\n\").slice(3,);\n",
    "\t\tfor(i = 0; i < curve_line_array.length; i++){\n",
    "\t\t\t//// create one object for parameter line\n",
    "\t\t\tif(curve_line_array[i] != \"\"){\n",
    "\t\t\t\tvar curve_obj_inst = splitLineofType1(Object.assign({}, curve_info_obj),curve_line_array[i]);\n",
    "\t\t\t\tlasjson[\"CURVE INFORMATION BLOCK\"][curve_obj_inst[\"MNEM\"]] = curve_obj_inst\n",
    "\t\t\t}\n",
    "\t\t}\n",
    "\t\t//// Working with WELL INFORMATION BLOCK second by splitting it by newline into an array and taking items after 0,1,2 or [3:]\n",
    "\t\tvar well_line_array = well_info_str.split(\"\\n\").slice(3,);\n",
    "\t\tfor(i = 0; i < well_line_array.length; i++){\n",
    "\t\t\tif(well_line_array[i].includes(\"Generated\")){\n",
    "\t\t\t\tlasjson[\"WELL INFORMATION BLOCK\"][\"GENERATED\"] = well_line_array[i].replace(\"\\r\",\"\").replace(\"\\t\",\" \").replace(\"#\",\"\")\n",
    "\t\t\t}\n",
    "\t\t\t//// create one object for parameter line\n",
    "\t\t\telse if(well_line_array[i] != \"\"){\n",
    "\t\t\t\tvar well_obj_inst = splitLineofType1(Object.assign({}, well_info_obj),well_line_array[i]);\n",
    "\t\t\t\tlasjson[\"WELL INFORMATION BLOCK\"][well_obj_inst[\"MNEM\"]] = well_obj_inst\n",
    "\t\t\t}\n",
    "\t\t\telse{\n",
    "\t\t\t\tconsole.log(\" got else \")\n",
    "\t\t\t}\n",
    "\t\t}\n",
    "\t\t//// Working with CURVES second by splitting it by newline into an array,\n",
    "\t\t//// then using the first line item of that array to find the curve names\n",
    "\t\t//// using those curves names to establish object keys and then interating through the other array items\n",
    "\t\t//// and populating arrays for each key\n",
    "\t\tvar curve_str_array = curve_str.split(\"\\n\");\n",
    "\t\tvar curve_names_array = [];\n",
    "\t\tvar curve_names_array_holder = [];\n",
    "\t\tif(curve_str_array[0][0] === \"A\"){\n",
    "\t\t\tcurve_names_array = curve_str_array[0].split(\" \")\n",
    "\t\t\tvar last_curv_name_position = curve_names_array.length - 1;\n",
    "\t\t\tcurve_names_array[last_curv_name_position] = curve_names_array[last_curv_name_position].replace(\"\\r\",\"\")\n",
    "\t\t\tconsole.log(\"0 curve_names_array = \",curve_names_array)\n",
    "\t\t\tcurve_names_array = curve_names_array.slice(1,curve_names_array.length);\n",
    "\t\t\tfor(i = 0; i < curve_names_array.length; i++){\n",
    "\t\t\t\tif(curve_names_array[i] !== \"\"){\n",
    "\t\t\t\t\tconsole.log(\"0.5 curve_names_array[i] = \",curve_names_array[i])\n",
    "\t\t\t\t\tcurve_names_array_holder.push(curve_names_array[i]);\n",
    "\t\t\t\t\tlasjson[\"CURVES\"][curve_names_array[i]] = []\n",
    "\t\t\t\t}\n",
    "\t\t\t}\n",
    "\t\t}\n",
    "\t\telse{console.log(\"Couldn't find curve names above curves in LAS, check formatting!\")}\n",
    "\t\t//// start at position 1 instead of 0 is to avoid the curve names\n",
    "\t\tfor(j = 1; j < curve_str_array.length; j++){\n",
    "\t\t\tvar curve_data_line_array = curve_str_array[j].split(\" \");\n",
    "\t\t\tvar counter_of_curve_names = 0;\n",
    "\t\t\tconsole.log(\"curve_data_line_array.length = \",curve_data_line_array.length)\n",
    "\t\t\tconsole.log(\"curve_data_line_array = \",curve_data_line_array)\n",
    "\t\t\tvar last_curv_data_line_position = curve_data_line_array.length - 1;\n",
    "\t\t\tconsole.log(\"curve_data_line_array[last_curv_data_line_position] = \",curve_data_line_array[last_curv_data_line_position])\n",
    "\t\t\tcurve_data_line_array[last_curv_data_line_position] = curve_data_line_array[last_curv_data_line_position].replace(\"\\r\",\"\")\n",
    "\t\t\tconsole.log(\"curve_data_line_array[last_curv_data_line_position] = \",curve_data_line_array[last_curv_data_line_position])\n",
    "\t\t\tfor(k = 0; k < curve_data_line_array.length; k++){\n",
    "\t\t\t\tif(curve_data_line_array[k] !== \"\"){\t\t\t\t\n",
    "\t\t\t\t\tlasjson[\"CURVES\"][curve_names_array_holder[counter_of_curve_names]].push(curve_data_line_array[k])\n",
    "\t\t\t\t\tcounter_of_curve_names += 1;\n",
    "\t\t\t\t}\n",
    "\t\t\t}\n",
    "\t\t}\n",
    "\t\tconsole.log(\" test: lasjson\",lasjson);\n",
    "\t\treturn(lasjson)\n",
    "\t}\n",
    "var single_well_json = las2json(readInLASFromASSETS(las_path));\n",
    "IPython.notebook.kernel.execute('las_json=\"' + single_well_json + '\";');\n",
    "// Define a User class with a method"
   ]
  },
  {
   "cell_type": "code",
   "execution_count": null,
   "metadata": {
    "collapsed": true
   },
   "outputs": [],
   "source": []
  },
  {
   "cell_type": "code",
   "execution_count": null,
   "metadata": {
    "collapsed": true
   },
   "outputs": [],
   "source": []
  },
  {
   "cell_type": "code",
   "execution_count": 33,
   "metadata": {},
   "outputs": [
    {
     "data": {
      "text/html": [
       "<div id='las_path'>../docs/assets/00-01-01-073-05W5-0.LAS</div> <script src='https://raw.githubusercontent.com/JustinGOSSES/wellioviz/master/docs/js/bundle.js'></script><script src='https://raw.githubusercontent.com/JustinGOSSES/wellioviz/master/docs/js/main.js'></script> <script> var las_path= document.getElementById(../docs/assets/00-01-01-073-05W5-0.LAS).innerHTML; var single_well_json = las2json(readInLASFromASSETS(las_path)); IPython.notebook.kernel.execute('las_json= + single_well_json + ;'); <script>"
      ],
      "text/plain": [
       "<IPython.core.display.HTML object>"
      ]
     },
     "execution_count": 33,
     "metadata": {},
     "output_type": "execute_result"
    }
   ],
   "source": [
    "pystartlife = str(100)\n",
    "HTML(\"<div id='las_path'>\" + test_las_path2 + \"</div> <script src='https://raw.githubusercontent.com/JustinGOSSES/wellioviz/master/docs/js/bundle.js'></script><script src='https://raw.githubusercontent.com/JustinGOSSES/wellioviz/master/docs/js/main.js'></script> <script> var las_path= document.getElementById(\"+test_las_path2+\").innerHTML; var single_well_json = las2json(readInLASFromASSETS(las_path)); IPython.notebook.kernel.execute('las_json=\"' + single_well_json + '\";'); <script>\")"
   ]
  },
  {
   "cell_type": "code",
   "execution_count": null,
   "metadata": {
    "collapsed": true
   },
   "outputs": [],
   "source": []
  },
  {
   "cell_type": "code",
   "execution_count": null,
   "metadata": {
    "collapsed": true
   },
   "outputs": [],
   "source": []
  },
  {
   "cell_type": "code",
   "execution_count": null,
   "metadata": {
    "collapsed": true
   },
   "outputs": [],
   "source": []
  },
  {
   "cell_type": "code",
   "execution_count": 8,
   "metadata": {},
   "outputs": [
    {
     "name": "stdout",
     "output_type": "stream",
     "text": [
      "Requirement already up-to-date: pixiedust in /Users/justingosses/anaconda/envs/wellioviz/lib/python3.7/site-packages (1.1.17)\n",
      "Requirement already satisfied, skipping upgrade: geojson in /Users/justingosses/anaconda/envs/wellioviz/lib/python3.7/site-packages (from pixiedust) (2.5.0)\n",
      "Requirement already satisfied, skipping upgrade: mpld3 in /Users/justingosses/anaconda/envs/wellioviz/lib/python3.7/site-packages (from pixiedust) (0.3)\n",
      "Requirement already satisfied, skipping upgrade: markdown in /Users/justingosses/anaconda/envs/wellioviz/lib/python3.7/site-packages (from pixiedust) (3.1.1)\n",
      "Requirement already satisfied, skipping upgrade: lxml in /Users/justingosses/anaconda/envs/wellioviz/lib/python3.7/site-packages (from pixiedust) (4.4.2)\n",
      "Requirement already satisfied, skipping upgrade: colour in /Users/justingosses/anaconda/envs/wellioviz/lib/python3.7/site-packages (from pixiedust) (0.1.5)\n",
      "Requirement already satisfied, skipping upgrade: astunparse in /Users/justingosses/anaconda/envs/wellioviz/lib/python3.7/site-packages (from pixiedust) (1.6.2)\n",
      "Requirement already satisfied, skipping upgrade: requests in /Users/justingosses/anaconda/envs/wellioviz/lib/python3.7/site-packages (from pixiedust) (2.22.0)\n",
      "Requirement already satisfied, skipping upgrade: setuptools>=36 in /Users/justingosses/anaconda/envs/wellioviz/lib/python3.7/site-packages (from markdown->pixiedust) (42.0.1.post20191125)\n",
      "Requirement already satisfied, skipping upgrade: six<2.0,>=1.6.1 in /Users/justingosses/anaconda/envs/wellioviz/lib/python3.7/site-packages (from astunparse->pixiedust) (1.13.0)\n",
      "Requirement already satisfied, skipping upgrade: wheel<1.0,>=0.23.0 in /Users/justingosses/anaconda/envs/wellioviz/lib/python3.7/site-packages (from astunparse->pixiedust) (0.33.6)\n",
      "Requirement already satisfied, skipping upgrade: urllib3!=1.25.0,!=1.25.1,<1.26,>=1.21.1 in /Users/justingosses/anaconda/envs/wellioviz/lib/python3.7/site-packages (from requests->pixiedust) (1.25.7)\n",
      "Requirement already satisfied, skipping upgrade: idna<2.9,>=2.5 in /Users/justingosses/anaconda/envs/wellioviz/lib/python3.7/site-packages (from requests->pixiedust) (2.8)\n",
      "Requirement already satisfied, skipping upgrade: certifi>=2017.4.17 in /Users/justingosses/anaconda/envs/wellioviz/lib/python3.7/site-packages (from requests->pixiedust) (2019.11.28)\n",
      "Requirement already satisfied, skipping upgrade: chardet<3.1.0,>=3.0.2 in /Users/justingosses/anaconda/envs/wellioviz/lib/python3.7/site-packages (from requests->pixiedust) (3.0.4)\n",
      "Requirement already up-to-date: pixiedust_node in /Users/justingosses/anaconda/envs/wellioviz/lib/python3.7/site-packages (0.2.5)\n",
      "Requirement already satisfied, skipping upgrade: ipython in /Users/justingosses/anaconda/envs/wellioviz/lib/python3.7/site-packages (from pixiedust_node) (7.10.0)\n",
      "Requirement already satisfied, skipping upgrade: pandas in /Users/justingosses/anaconda/envs/wellioviz/lib/python3.7/site-packages (from pixiedust_node) (0.25.3)\n",
      "Requirement already satisfied, skipping upgrade: pixiedust in /Users/justingosses/anaconda/envs/wellioviz/lib/python3.7/site-packages (from pixiedust_node) (1.1.17)\n",
      "Requirement already satisfied, skipping upgrade: pickleshare in /Users/justingosses/anaconda/envs/wellioviz/lib/python3.7/site-packages (from ipython->pixiedust_node) (0.7.5)\n",
      "Requirement already satisfied, skipping upgrade: setuptools>=18.5 in /Users/justingosses/anaconda/envs/wellioviz/lib/python3.7/site-packages (from ipython->pixiedust_node) (42.0.1.post20191125)\n",
      "Requirement already satisfied, skipping upgrade: prompt-toolkit<3.1.0,>=2.0.0 in /Users/justingosses/anaconda/envs/wellioviz/lib/python3.7/site-packages (from ipython->pixiedust_node) (3.0.2)\n",
      "Requirement already satisfied, skipping upgrade: traitlets>=4.2 in /Users/justingosses/anaconda/envs/wellioviz/lib/python3.7/site-packages (from ipython->pixiedust_node) (4.3.3)\n",
      "Requirement already satisfied, skipping upgrade: pygments in /Users/justingosses/anaconda/envs/wellioviz/lib/python3.7/site-packages (from ipython->pixiedust_node) (2.5.2)\n",
      "Requirement already satisfied, skipping upgrade: decorator in /Users/justingosses/anaconda/envs/wellioviz/lib/python3.7/site-packages (from ipython->pixiedust_node) (4.4.1)\n",
      "Requirement already satisfied, skipping upgrade: pexpect; sys_platform != \"win32\" in /Users/justingosses/anaconda/envs/wellioviz/lib/python3.7/site-packages (from ipython->pixiedust_node) (4.7.0)\n",
      "Requirement already satisfied, skipping upgrade: backcall in /Users/justingosses/anaconda/envs/wellioviz/lib/python3.7/site-packages (from ipython->pixiedust_node) (0.1.0)\n",
      "Requirement already satisfied, skipping upgrade: appnope; sys_platform == \"darwin\" in /Users/justingosses/anaconda/envs/wellioviz/lib/python3.7/site-packages (from ipython->pixiedust_node) (0.1.0)\n",
      "Requirement already satisfied, skipping upgrade: jedi>=0.10 in /Users/justingosses/anaconda/envs/wellioviz/lib/python3.7/site-packages (from ipython->pixiedust_node) (0.15.1)\n",
      "Requirement already satisfied, skipping upgrade: python-dateutil>=2.6.1 in /Users/justingosses/anaconda/envs/wellioviz/lib/python3.7/site-packages (from pandas->pixiedust_node) (2.8.1)\n",
      "Requirement already satisfied, skipping upgrade: numpy>=1.13.3 in /Users/justingosses/anaconda/envs/wellioviz/lib/python3.7/site-packages (from pandas->pixiedust_node) (1.17.4)\n",
      "Requirement already satisfied, skipping upgrade: pytz>=2017.2 in /Users/justingosses/anaconda/envs/wellioviz/lib/python3.7/site-packages (from pandas->pixiedust_node) (2019.3)\n",
      "Requirement already satisfied, skipping upgrade: mpld3 in /Users/justingosses/anaconda/envs/wellioviz/lib/python3.7/site-packages (from pixiedust->pixiedust_node) (0.3)\n",
      "Requirement already satisfied, skipping upgrade: lxml in /Users/justingosses/anaconda/envs/wellioviz/lib/python3.7/site-packages (from pixiedust->pixiedust_node) (4.4.2)\n",
      "Requirement already satisfied, skipping upgrade: astunparse in /Users/justingosses/anaconda/envs/wellioviz/lib/python3.7/site-packages (from pixiedust->pixiedust_node) (1.6.2)\n",
      "Requirement already satisfied, skipping upgrade: geojson in /Users/justingosses/anaconda/envs/wellioviz/lib/python3.7/site-packages (from pixiedust->pixiedust_node) (2.5.0)\n",
      "Requirement already satisfied, skipping upgrade: markdown in /Users/justingosses/anaconda/envs/wellioviz/lib/python3.7/site-packages (from pixiedust->pixiedust_node) (3.1.1)\n",
      "Requirement already satisfied, skipping upgrade: colour in /Users/justingosses/anaconda/envs/wellioviz/lib/python3.7/site-packages (from pixiedust->pixiedust_node) (0.1.5)\n",
      "Requirement already satisfied, skipping upgrade: requests in /Users/justingosses/anaconda/envs/wellioviz/lib/python3.7/site-packages (from pixiedust->pixiedust_node) (2.22.0)\n",
      "Requirement already satisfied, skipping upgrade: wcwidth in /Users/justingosses/anaconda/envs/wellioviz/lib/python3.7/site-packages (from prompt-toolkit<3.1.0,>=2.0.0->ipython->pixiedust_node) (0.1.7)\n",
      "Requirement already satisfied, skipping upgrade: six in /Users/justingosses/anaconda/envs/wellioviz/lib/python3.7/site-packages (from traitlets>=4.2->ipython->pixiedust_node) (1.13.0)\n",
      "Requirement already satisfied, skipping upgrade: ipython-genutils in /Users/justingosses/anaconda/envs/wellioviz/lib/python3.7/site-packages (from traitlets>=4.2->ipython->pixiedust_node) (0.2.0)\n",
      "Requirement already satisfied, skipping upgrade: ptyprocess>=0.5 in /Users/justingosses/anaconda/envs/wellioviz/lib/python3.7/site-packages (from pexpect; sys_platform != \"win32\"->ipython->pixiedust_node) (0.6.0)\n",
      "Requirement already satisfied, skipping upgrade: parso>=0.5.0 in /Users/justingosses/anaconda/envs/wellioviz/lib/python3.7/site-packages (from jedi>=0.10->ipython->pixiedust_node) (0.5.1)\n",
      "Requirement already satisfied, skipping upgrade: wheel<1.0,>=0.23.0 in /Users/justingosses/anaconda/envs/wellioviz/lib/python3.7/site-packages (from astunparse->pixiedust->pixiedust_node) (0.33.6)\n",
      "Requirement already satisfied, skipping upgrade: idna<2.9,>=2.5 in /Users/justingosses/anaconda/envs/wellioviz/lib/python3.7/site-packages (from requests->pixiedust->pixiedust_node) (2.8)\n",
      "Requirement already satisfied, skipping upgrade: urllib3!=1.25.0,!=1.25.1,<1.26,>=1.21.1 in /Users/justingosses/anaconda/envs/wellioviz/lib/python3.7/site-packages (from requests->pixiedust->pixiedust_node) (1.25.7)\n",
      "Requirement already satisfied, skipping upgrade: certifi>=2017.4.17 in /Users/justingosses/anaconda/envs/wellioviz/lib/python3.7/site-packages (from requests->pixiedust->pixiedust_node) (2019.11.28)\n",
      "Requirement already satisfied, skipping upgrade: chardet<3.1.0,>=3.0.2 in /Users/justingosses/anaconda/envs/wellioviz/lib/python3.7/site-packages (from requests->pixiedust->pixiedust_node) (3.0.4)\n"
     ]
    }
   ],
   "source": [
    "# # install or upgrade the packages\n",
    "# # restart the kernel to pick up the latest version\n",
    "!pip install pixiedust --upgrade\n",
    "!pip install pixiedust_node --upgrade"
   ]
  },
  {
   "cell_type": "code",
   "execution_count": 9,
   "metadata": {},
   "outputs": [
    {
     "name": "stdout",
     "output_type": "stream",
     "text": [
      "Pixiedust database opened successfully\n"
     ]
    },
    {
     "data": {
      "text/html": [
       "\n",
       "        <div style=\"margin:10px\">\n",
       "            <a href=\"https://github.com/ibm-watson-data-lab/pixiedust\" target=\"_new\">\n",
       "                <img src=\"https://github.com/ibm-watson-data-lab/pixiedust/raw/master/docs/_static/pd_icon32.png\" style=\"float:left;margin-right:10px\"/>\n",
       "            </a>\n",
       "            <span>Pixiedust version 1.1.17</span>\n",
       "        </div>\n",
       "        "
      ],
      "text/plain": [
       "<IPython.core.display.HTML object>"
      ]
     },
     "metadata": {},
     "output_type": "display_data"
    },
    {
     "data": {
      "text/html": [
       "\n",
       "            <div style=\"margin:10px\"> \n",
       "            <a href=\"https://github.com/ibm-cds-labs/pixiedust_node\" target=\"_new\"> \n",
       "            <img src=\"https://github.com/ibm-cds-labs/pixiedust_node/raw/master/docs/_images/pdn_icon32.png\" style=\"float:left;margin-right:10px\"/> \n",
       "            </a> \n",
       "            <span>Pixiedust Node.js</span> \n",
       "            </div> \n"
      ],
      "text/plain": [
       "<IPython.core.display.HTML object>"
      ]
     },
     "metadata": {},
     "output_type": "display_data"
    },
    {
     "name": "stdout",
     "output_type": "stream",
     "text": [
      "pixiedust_node 0.2.5 started. Cells starting '%%node' may contain Node.js code.\n"
     ]
    }
   ],
   "source": [
    "import pixiedust_node"
   ]
  },
  {
   "cell_type": "code",
   "execution_count": 10,
   "metadata": {},
   "outputs": [
    {
     "name": "stdout",
     "output_type": "stream",
     "text": [
      "\"2019-12-01T06:15:05.285Z\"\n"
     ]
    }
   ],
   "source": [
    "%%node\n",
    "print(new Date());"
   ]
  },
  {
   "cell_type": "code",
   "execution_count": 11,
   "metadata": {},
   "outputs": [],
   "source": [
    "import pixiedust"
   ]
  },
  {
   "cell_type": "code",
   "execution_count": 12,
   "metadata": {},
   "outputs": [
    {
     "data": {
      "text/plain": [
       "3"
      ]
     },
     "execution_count": 12,
     "metadata": {},
     "output_type": "execute_result"
    }
   ],
   "source": [
    "import sys\n",
    "sys.version_info.major"
   ]
  },
  {
   "cell_type": "code",
   "execution_count": 13,
   "metadata": {},
   "outputs": [
    {
     "data": {
      "text/plain": [
       "7"
      ]
     },
     "execution_count": 13,
     "metadata": {},
     "output_type": "execute_result"
    }
   ],
   "source": [
    "sys.version_info.minor"
   ]
  },
  {
   "cell_type": "code",
   "execution_count": 14,
   "metadata": {},
   "outputs": [
    {
     "ename": "SyntaxError",
     "evalue": "invalid syntax (<ipython-input-14-f424c86e39cf>, line 1)",
     "output_type": "error",
     "traceback": [
      "\u001b[0;36m  File \u001b[0;32m\"<ipython-input-14-f424c86e39cf>\"\u001b[0;36m, line \u001b[0;32m1\u001b[0m\n\u001b[0;31m    Which Python\u001b[0m\n\u001b[0m               ^\u001b[0m\n\u001b[0;31mSyntaxError\u001b[0m\u001b[0;31m:\u001b[0m invalid syntax\n"
     ]
    }
   ],
   "source": [
    "Which Python"
   ]
  },
  {
   "cell_type": "code",
   "execution_count": 15,
   "metadata": {},
   "outputs": [
    {
     "data": {
      "text/plain": [
       "True"
      ]
     },
     "execution_count": 15,
     "metadata": {},
     "output_type": "execute_result"
    }
   ],
   "source": [
    "sys.version_info.major == 3\n",
    "sys.version_info.minor > 6"
   ]
  },
  {
   "cell_type": "code",
   "execution_count": 16,
   "metadata": {},
   "outputs": [],
   "source": [
    "import pixiedust_node"
   ]
  },
  {
   "cell_type": "code",
   "execution_count": 28,
   "metadata": {},
   "outputs": [
    {
     "name": "stdout",
     "output_type": "stream",
     "text": [
      "\"2019-12-01T16:31:04.022Z\"\n"
     ]
    }
   ],
   "source": [
    "%%node\n",
    "print(new Date());"
   ]
  },
  {
   "cell_type": "code",
   "execution_count": null,
   "metadata": {},
   "outputs": [],
   "source": [
    "%%node\n"
   ]
  },
  {
   "cell_type": "code",
   "execution_count": 30,
   "metadata": {},
   "outputs": [
    {
     "name": "stdout",
     "output_type": "stream",
     "text": [
      "ReferenceError: npm is not defined\n",
      "at repl:1:1\n",
      "at ContextifyScript.Script.runInContext (vm.js:53:29)\n",
      "at REPLServer.defaultEval (repl.js:241:29)\n",
      "at bound (domain.js:301:14)\n",
      "at REPLServer.runBound [as eval] (domain.js:314:12)\n",
      "at REPLServer.onLine (repl.js:433:10)\n",
      "at emitOne (events.js:115:13)\n",
      "at REPLServer.emit (events.js:210:7)\n",
      "at REPLServer.Interface._onLine (readline.js:278:10)\n",
      "at REPLServer.Interface._normalWrite (readline.js:419:12)\n"
     ]
    }
   ],
   "source": [
    "%%node\n",
    "npm -v"
   ]
  },
  {
   "cell_type": "code",
   "execution_count": 29,
   "metadata": {},
   "outputs": [
    {
     "name": "stdout",
     "output_type": "stream",
     "text": [
      "ReferenceError: npm is not defined\n",
      "at repl:1:1\n",
      "at ContextifyScript.Script.runInContext (vm.js:53:29)\n",
      "at REPLServer.defaultEval (repl.js:241:29)\n",
      "at bound (domain.js:301:14)\n",
      "at REPLServer.runBound [as eval] (domain.js:314:12)\n",
      "at REPLServer.onLine (repl.js:433:10)\n",
      "at emitOne (events.js:115:13)\n",
      "at REPLServer.emit (events.js:210:7)\n",
      "at REPLServer.Interface._onLine (readline.js:278:10)\n",
      "at REPLServer.Interface._normalWrite (readline.js:419:12)\n"
     ]
    }
   ],
   "source": [
    "%%node\n",
    "npm.install('wellio')"
   ]
  },
  {
   "cell_type": "code",
   "execution_count": 20,
   "metadata": {},
   "outputs": [
    {
     "name": "stdout",
     "output_type": "stream",
     "text": [
      "Error: Cannot find module 'wellio'\n",
      "at Function.Module._resolveFilename (module.js:485:15)\n",
      "at Function.Module._load (module.js:437:25)\n",
      "at Module.require (module.js:513:17)\n",
      "at require (internal/module.js:11:18)\n",
      "at repl:1:14\n",
      "at ContextifyScript.Script.runInContext (vm.js:53:29)\n",
      "at REPLServer.defaultEval (repl.js:241:29)\n",
      "at bound (domain.js:301:14)\n",
      "at REPLServer.runBound [as eval] (domain.js:314:12)\n",
      "at REPLServer.onLine (repl.js:433:10)\n"
     ]
    }
   ],
   "source": [
    "%%node\n",
    "var wellio = require('wellio');\n",
    "wellio"
   ]
  },
  {
   "cell_type": "code",
   "execution_count": 23,
   "metadata": {},
   "outputs": [
    {
     "name": "stdout",
     "output_type": "stream",
     "text": [
      "/Users/justingosses/.nvm/versions/node/v8.1.2/bin/npm list -s\n",
      "/Users/justingosses/node\n",
      "└── (empty)\n"
     ]
    }
   ],
   "source": [
    "\n",
    "npm.list()"
   ]
  },
  {
   "cell_type": "code",
   "execution_count": 25,
   "metadata": {},
   "outputs": [
    {
     "name": "stdout",
     "output_type": "stream",
     "text": [
      "Error: Cannot find module 'wellio'\n",
      "at Function.Module._resolveFilename (module.js:485:15)\n",
      "at Function.Module._load (module.js:437:25)\n",
      "at Module.require (module.js:513:17)\n",
      "at require (internal/module.js:11:18)\n",
      "at repl:1:14\n",
      "at ContextifyScript.Script.runInContext (vm.js:53:29)\n",
      "at REPLServer.defaultEval (repl.js:241:29)\n",
      "at bound (domain.js:301:14)\n",
      "at REPLServer.runBound [as eval] (domain.js:314:12)\n",
      "at REPLServer.onLine (repl.js:433:10)\n",
      "TypeError: Cannot read property 'las2json' of undefined\n",
      "at repl:1:7\n",
      "at ContextifyScript.Script.runInContext (vm.js:53:29)\n",
      "at REPLServer.defaultEval (repl.js:241:29)\n",
      "at bound (domain.js:301:14)\n",
      "at REPLServer.runBound [as eval] (domain.js:314:12)\n",
      "at REPLServer.onLine (repl.js:433:10)\n",
      "at emitOne (events.js:115:13)\n",
      "at REPLServer.emit (events.js:210:7)\n",
      "at REPLServer.Interface._onLine (readline.js:278:10)\n",
      "at REPLServer.Interface._normalWrite (readline.js:419:12)\n"
     ]
    }
   ],
   "source": [
    "%%node\n",
    "var wellio = require('wellio');\n",
    "wellio.las2json(\"../docs/assets/00-01-01-073-05W5-0.LAS\")"
   ]
  },
  {
   "cell_type": "code",
   "execution_count": 27,
   "metadata": {},
   "outputs": [
    {
     "name": "stdout",
     "output_type": "stream",
     "text": [
      "Error: Cannot find module 'silverlining'\n",
      "at Function.Module._resolveFilename (module.js:485:15)\n",
      "at Function.Module._load (module.js:437:25)\n",
      "at Module.require (module.js:513:17)\n",
      "at require (internal/module.js:11:18)\n",
      "at repl:1:20\n",
      "at ContextifyScript.Script.runInContext (vm.js:53:29)\n",
      "at REPLServer.defaultEval (repl.js:241:29)\n",
      "at bound (domain.js:301:14)\n",
      "at REPLServer.runBound [as eval] (domain.js:314:12)\n",
      "at REPLServer.onLine (repl.js:433:10)\n",
      "Error: Cannot find module 'request-promise'\n",
      "at Function.Module._resolveFilename (module.js:485:15)\n",
      "at Function.Module._load (module.js:437:25)\n",
      "at Module.require (module.js:513:17)\n",
      "at require (internal/module.js:11:18)\n",
      "at repl:1:15\n",
      "at ContextifyScript.Script.runInContext (vm.js:53:29)\n",
      "at REPLServer.defaultEval (repl.js:241:29)\n",
      "at bound (domain.js:301:14)\n",
      "at REPLServer.runBound [as eval] (domain.js:314:12)\n",
      "at REPLServer.onLine (repl.js:433:10)\n",
      "TypeError: silverlining is not a function\n",
      "at repl:1:14\n",
      "at ContextifyScript.Script.runInContext (vm.js:53:29)\n",
      "at REPLServer.defaultEval (repl.js:241:29)\n",
      "at bound (domain.js:301:14)\n",
      "at REPLServer.runBound [as eval] (domain.js:314:12)\n",
      "at REPLServer.onLine (repl.js:433:10)\n",
      "at emitOne (events.js:115:13)\n",
      "at REPLServer.emit (events.js:210:7)\n",
      "at REPLServer.Interface._onLine (readline.js:278:10)\n",
      "at REPLServer.Interface._normalWrite (readline.js:419:12)\n",
      "TypeError: Cannot read property 'count' of undefined\n",
      "at repl:1:7\n",
      "at ContextifyScript.Script.runInContext (vm.js:53:29)\n",
      "at REPLServer.defaultEval (repl.js:241:29)\n",
      "at bound (domain.js:301:14)\n",
      "at REPLServer.runBound [as eval] (domain.js:314:12)\n",
      "at REPLServer.onLine (repl.js:433:10)\n",
      "at emitOne (events.js:115:13)\n",
      "at REPLServer.emit (events.js:210:7)\n",
      "at REPLServer.Interface._onLine (readline.js:278:10)\n",
      "at REPLServer.Interface._normalWrite (readline.js:419:12)\n"
     ]
    }
   ],
   "source": [
    "%%node\n",
    "var silverlining = require('silverlining');\n",
    "var request = require('request-promise');\n",
    "// connect to Cloudant using Silverlining\n",
    "var url = 'https://reader.cloudant.com/cities';\n",
    "var cities = silverlining(url);\n",
    "\n",
    "// fetch number of cities per country\n",
    "cities.count('country').then(print);"
   ]
  },
  {
   "cell_type": "code",
   "execution_count": null,
   "metadata": {},
   "outputs": [],
   "source": []
  },
  {
   "cell_type": "code",
   "execution_count": null,
   "metadata": {},
   "outputs": [],
   "source": []
  },
  {
   "cell_type": "code",
   "execution_count": null,
   "metadata": {},
   "outputs": [],
   "source": []
  },
  {
   "cell_type": "code",
   "execution_count": null,
   "metadata": {},
   "outputs": [],
   "source": []
  },
  {
   "cell_type": "code",
   "execution_count": null,
   "metadata": {
    "collapsed": true
   },
   "outputs": [],
   "source": [
    "%%javascript\n",
    "var startlife = document.getElementById('textid').innerHTML;\n",
    "// Define a User class with a method"
   ]
  },
  {
   "cell_type": "code",
   "execution_count": null,
   "metadata": {
    "collapsed": true
   },
   "outputs": [],
   "source": []
  },
  {
   "cell_type": "code",
   "execution_count": null,
   "metadata": {
    "collapsed": true
   },
   "outputs": [],
   "source": [
    "import ipywidgets as widgets\n",
    "class MapboxWidget(widgets.DOMWidget):\n",
    "    from traitlets import Dict, Unicode\n",
    "    _view_name = Unicode('MapboxGLView').tag(sync=True)\n",
    "    _view_module = Unicode('mapboxglModule').tag(sync=True)\n",
    "    _view_module_version = Unicode('0.1.0').tag(sync=True)\n",
    "    value = Dict({\"my_key\": \"Hello\"}).tag(sync=True)\n",
    "    def create(self):\n",
    "        from IPython.core.display import Javascript\n",
    "        return Javascript(\"\"\"\n",
    "            require.undef('mapboxglModule');\n",
    "            define('mapboxglModule', [\"@jupyter-widgets/base\"], widgets => {\n",
    "            let MapboxGLView = widgets.DOMWidgetView.extend({\n",
    "                    defaults: _.extend({}, widgets.DOMWidgetModel.prototype.defaults, { value: '' }),\n",
    "                    render: function() {\n",
    "                        this.value_changed();\n",
    "                        this.model.on('change:value', this.value_changed, this);\n",
    "                    },\n",
    "            value_changed: function() {\n",
    "                        this.el.textContent = this.model.get('value').my_key;\n",
    "                    },\n",
    "                });\n",
    "            return {\n",
    "                    MapboxGLView,\n",
    "                };\n",
    "            });\n",
    "        \"\"\")"
   ]
  }
 ],
 "metadata": {
  "kernelspec": {
   "display_name": "Python 3",
   "language": "python",
   "name": "python3"
  },
  "language_info": {
   "codemirror_mode": {
    "name": "ipython",
    "version": 3
   },
   "file_extension": ".py",
   "mimetype": "text/x-python",
   "name": "python",
   "nbconvert_exporter": "python",
   "pygments_lexer": "ipython3",
   "version": "3.7.5"
  }
 },
 "nbformat": 4,
 "nbformat_minor": 2
}
