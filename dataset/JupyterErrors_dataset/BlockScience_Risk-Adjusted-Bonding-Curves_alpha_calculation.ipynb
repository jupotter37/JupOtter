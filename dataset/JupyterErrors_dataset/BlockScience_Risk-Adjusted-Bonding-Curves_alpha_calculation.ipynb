{
 "cells": [
  {
   "cell_type": "code",
   "execution_count": 66,
   "metadata": {},
   "outputs": [
    {
     "name": "stdout",
     "output_type": "stream",
     "text": [
      "1\n",
      "4\n",
      "5\n",
      "6\n",
      "3\n",
      "0\n",
      "1\n"
     ]
    }
   ],
   "source": [
    "E = 0.45\n",
    "C = 700\n",
    "R = 300\n",
    "private_alpha = [0.6]\n",
    "alpha = [0.5]\n",
    "max_deltas = 20\n",
    "Q1 = [10]\n",
    "q1 = [0]\n",
    "S1 = [10] \n",
    "S0 = [5]\n",
    "s1 = [0]\n",
    "s = [20]\n",
    "deltaq1 = [1] # deltaq1 = deltas\n",
    "# deltas = [20, 20, -20, 20, 20, -20,20, 20, -20, 20, 20]\n",
    "deltas = [1, 4, 5, 6, 3, 0, 1] # deltas should be greater than or equal to s[i]\n",
    "#deltaq1 = [1, 4, 5, 6, 3, 2, 0, 4]\n",
    "\n",
    "\n",
    "for i in range(len(deltas)): \n",
    "    #print(i)\n",
    "    print(deltas[i])\n",
    "    #print((len(deltas)))\n",
    "    \n",
    "    "
   ]
  },
  {
   "cell_type": "code",
   "execution_count": 12,
   "metadata": {},
   "outputs": [
    {
     "name": "stdout",
     "output_type": "stream",
     "text": [
      "A =  -0.09090909090909091\n",
      "A1 =  1.0\n",
      "alpha_bar =  1.0\n",
      "new_alpha =  0.5453125\n"
     ]
    }
   ],
   "source": [
    "E = 0.45\n",
    "deltas = [1]\n",
    "\n",
    "for i in range(len(deltas)): \n",
    "    A = (1/(Q1[i]*(Q1[i]+deltaq1[i]))) * \\\n",
    "            ((q1[i]*(Q1[i]*deltas[i]) - (deltaq1[i]*s[i])) + deltaq1[i]*((Q1[i]*s1[i]) + (Q1[i]*deltas[i])))\n",
    "\n",
    "    A1 = (((q1[i] + deltaq1[i])/(Q1[i]+deltaq1[i]))*(S1[i]+deltas[i])) - ((q1[i]/Q1[i])*S1[i])\n",
    "    \n",
    "    alpha_bar = (deltas[i]*R)/(A1*(C+R) - (deltas[i]*C))\n",
    "\n",
    "    new_alpha = E*(alpha[i]) + (1-E)*(alpha[i])*((S1[i]+S0[i])/(S1[i]+S0[i]+deltas[i])) + \\\n",
    "                (alpha_bar)*(deltas[i]/(S1[i]+S0[i]+deltas[i]))\n",
    "\n",
    "    print(\"A = \", A)\n",
    "    print(\"A1 = \", A1)\n",
    "    print(\"alpha_bar = \", alpha_bar)\n",
    "    print(\"new_alpha = \", new_alpha)"
   ]
  },
  {
   "cell_type": "code",
   "execution_count": 20,
   "metadata": {},
   "outputs": [
    {
     "name": "stdout",
     "output_type": "stream",
     "text": [
      "A =  -0.09090909090909091\n",
      "A1 =  1.0\n",
      "alpha_bar =  1.0\n",
      "new_alpha =  0.5453125\n"
     ]
    }
   ],
   "source": [
    "E = 0.45 \n",
    "deltas = [1]\n",
    "\n",
    "for i in range(len(deltas)): \n",
    "    A = (1/(Q1[i]*(Q1[i]+deltaq1[i]))) * \\\n",
    "            ((q1[i]*(Q1[i]*deltas[i]) - (deltaq1[i]*s[i])) + deltaq1[i]*((Q1[i]*s1[i]) + (Q1[i]*deltas[i])))\n",
    "    \n",
    "    A1 = (((q1[i] + deltaq1[i])/(Q1[i]+deltaq1[i]))*(S1[i]+deltas[i])) - ((q1[i]/Q1[i])*S1[i])\n",
    "\n",
    "    alpha_bar = (deltas[i]*R)/(A1*(C+R) - (deltas[i]*C))\n",
    "\n",
    "    new_alpha = E*(alpha[i]) + (1-E)*(alpha[i])*((S1[i]+S0[i])/(S1[i]+S0[i]+deltas[i])) + \\\n",
    "                (alpha_bar)*(deltas[i]/(S1[i]+S0[i]+deltas[i]))\n",
    "\n",
    "    print(\"A = \", A)\n",
    "    print(\"A1 = \", A1)\n",
    "    print(\"alpha_bar = \", alpha_bar)\n",
    "    print(\"new_alpha = \", new_alpha)"
   ]
  },
  {
   "cell_type": "markdown",
   "metadata": {},
   "source": [
    "**Setting E = 1.3 results in alpha moving in the right direction**"
   ]
  },
  {
   "cell_type": "code",
   "execution_count": 69,
   "metadata": {},
   "outputs": [
    {
     "name": "stdout",
     "output_type": "stream",
     "text": [
      "type1 =  <class 'float'>\n",
      "alpha_bar_pre =  1.0  | alpha_bar =  0.05\n",
      "new_alpha =  0.48593749999999997\n",
      "deltas = 1  | deltaq =  1\n",
      "s[i] = 20\n",
      "____________________________\n",
      "type1 =  <class 'float'>\n",
      "alpha_bar_pre =  4.0  | alpha_bar =  0.2\n",
      "new_alpha =  0.47248437500000007\n",
      "deltas = 4  | deltaq =  1\n",
      "s[i] = 19\n",
      "____________________________\n",
      "type1 =  <class 'float'>\n",
      "alpha_bar_pre =  1.25  | alpha_bar =  0.0625\n",
      "new_alpha =  0.4330110937500001\n",
      "deltas = 5  | deltaq =  4\n",
      "s[i] = 15\n",
      "____________________________\n",
      "type1 =  <class 'float'>\n",
      "alpha_bar_pre =  1.2  | alpha_bar =  0.06\n",
      "new_alpha =  0.3985292676411291\n",
      "deltas = 6  | deltaq =  5\n",
      "s[i] = 10\n",
      "____________________________\n",
      "type1 =  <class 'float'>\n",
      "alpha_bar_pre =  0.5  | alpha_bar =  0.025\n",
      "new_alpha =  0.38139475906442727\n",
      "deltas = 3  | deltaq =  6\n",
      "s[i] = 4\n",
      "____________________________\n",
      "type1 =  <class 'float'>\n",
      "alpha_bar_pre =  0.0  | alpha_bar =  0.0\n",
      "new_alpha =  0.3813947590644273\n",
      "deltas = 0  | deltaq =  3\n",
      "s[i] = 1\n",
      "____________________________\n",
      "type0 =  <class 'float'>\n",
      "alpha_bar_pre =  0.0  | alpha_bar =  0.3813947590644273\n",
      "new_alpha =  0.38629840596668424\n",
      "deltas = 1  | deltaq =  0\n",
      "s[i] = 1\n",
      "____________________________\n"
     ]
    }
   ],
   "source": [
    "for i in range(len(deltas)): \n",
    "\n",
    "    A = (1/(Q1[i]*(Q1[i]+deltaq1[i]))) * \\\n",
    "            ((q1[i]*(Q1[i]*deltas[i]) - (deltaq1[i]*s[i])) + deltaq1[i]*((Q1[i]*s1[i]) + (Q1[i]*deltas[i])))\n",
    "\n",
    "    A1 = (((q1[i] + deltaq1[i])/(Q1[i]+deltaq1[i]))*(S1[i]+deltas[i])) - ((q1[i]/Q1[i])*S1[i])\n",
    "        \n",
    "    #alpha_hat = (deltas[i]*R)/((A1*(C+R)) - (deltas[i]*C))\n",
    "    \n",
    "    if deltaq1[i] == 0:\n",
    "        alpha_bar = alpha[i] #spot_alpha,\n",
    "        print(\"type0 = \", type(alpha_bar))\n",
    "    else:\n",
    "        alpha_bar_pre = deltas[i]/deltaq1[i] \n",
    "        alpha_bar = alpha_bar_pre/max_deltas # normalized\n",
    "        print(\"type1 = \", type(alpha_bar))\n",
    "\n",
    "    new_alpha = E*(alpha[i]) + (1-E)*((alpha[i])*((S1[i]+S0[i])/(S1[i]+S0[i]+deltas[i]))) + \\\n",
    "                (alpha_bar)*(deltas[i]/(S1[i]+S0[i]+deltas[i]))\n",
    "\n",
    "    #print(\"A = \", A)\n",
    "    #print(\"A1 = \", A1)\n",
    "    print(\"alpha_bar_pre = \", alpha_bar_pre, \" | alpha_bar = \", alpha_bar)\n",
    "    print(\"new_alpha = \", new_alpha)\n",
    "    print(\"deltas =\", deltas[i], \" | deltaq = \", deltaq1[i])\n",
    "    print(\"s[i] =\" , s[i])\n",
    "    print(\"____________________________\")\n",
    "    \n",
    "    # Update operations\n",
    "    Q1.append(Q1[i] + deltaq1[i])\n",
    "    S1.append(S1[i] + deltas[i])\n",
    "    S0.append(S0[i])\n",
    "    s1.append(s1[i] + deltas[i])\n",
    "    s.append(s[i] - deltas[i])\n",
    "    q1.append(q1[i] + deltaq1[i])\n",
    "    alpha.append(new_alpha)   \n",
    "    deltaq1.append(deltas[i])\n",
    "    \n",
    "    "
   ]
  },
  {
   "cell_type": "code",
   "execution_count": 61,
   "metadata": {},
   "outputs": [
    {
     "name": "stdout",
     "output_type": "stream",
     "text": [
      "[0.5, 0.48593749999999997, 0.47248437500000007, 0.4330110937500001, 0.3985292676411291, 0.38139475906442727, 0.3758776033267482]\n"
     ]
    }
   ],
   "source": [
    "print(alpha)"
   ]
  },
  {
   "cell_type": "code",
   "execution_count": 122,
   "metadata": {},
   "outputs": [],
   "source": [
    "import matplotlib.pyplot as plt"
   ]
  },
  {
   "cell_type": "code",
   "execution_count": 157,
   "metadata": {
    "scrolled": true
   },
   "outputs": [
    {
     "data": {
      "text/plain": [
       "[<matplotlib.lines.Line2D at 0x118179990>]"
      ]
     },
     "execution_count": 157,
     "metadata": {},
     "output_type": "execute_result"
    },
    {
     "data": {
      "image/png": "[encoded data removed]",
      "text/plain": [
       "<Figure size 432x288 with 1 Axes>"
      ]
     },
     "metadata": {
      "needs_background": "light"
     },
     "output_type": "display_data"
    }
   ],
   "source": [
    "plt.plot(alpha)\n",
    "plt.plot(deltas, 'r--')"
   ]
  },
  {
   "cell_type": "code",
   "execution_count": 156,
   "metadata": {},
   "outputs": [
    {
     "data": {
      "text/plain": [
       "[<matplotlib.lines.Line2D at 0x1180d9550>]"
      ]
     },
     "execution_count": 156,
     "metadata": {},
     "output_type": "execute_result"
    },
    {
     "data": {
      "image/png": "[encoded data removed]",
      "text/plain": [
       "<Figure size 432x288 with 1 Axes>"
      ]
     },
     "metadata": {
      "needs_background": "light"
     },
     "output_type": "display_data"
    }
   ],
   "source": [
    "plt.plot(Q1, 'g--')\n",
    "plt.plot(q1, 'b--')\n",
    "plt.plot(s, 'r--')"
   ]
  },
  {
   "cell_type": "code",
   "execution_count": 151,
   "metadata": {},
   "outputs": [
    {
     "data": {
      "text/plain": [
       "[<matplotlib.lines.Line2D at 0x117d39490>]"
      ]
     },
     "execution_count": 151,
     "metadata": {},
     "output_type": "execute_result"
    },
    {
     "data": {
      "image/png": "[encoded data removed]",
      "text/plain": [
       "<Figure size 432x288 with 1 Axes>"
      ]
     },
     "metadata": {
      "needs_background": "light"
     },
     "output_type": "display_data"
    }
   ],
   "source": [
    "plt.plot(S1)"
   ]
  },
  {
   "cell_type": "markdown",
   "metadata": {},
   "source": [
    "### Approach 1: Normalize alpha"
   ]
  },
  {
   "cell_type": "markdown",
   "metadata": {},
   "source": [
    "Use feature scaling with $min(\\bar\\alpha) = 0$, i.e when agent does not attest, deltas = 0, and $max(\\bar\\alpha) = s_t$, since the maximum permissible amount of supply tokens that any agent can attest through a single action.\n",
    "\n",
    "$$\\bar\\alpha_{norm} = \\frac{\\bar\\alpha - min(\\bar\\alpha)}{max(\\bar\\alpha) - min(\\bar\\alpha)}$$\n",
    "\n",
    "$$\\bar\\alpha_{norm} = \\frac{\\bar\\alpha}{s_t} $$"
   ]
  },
  {
   "cell_type": "code",
   "execution_count": null,
   "metadata": {},
   "outputs": [],
   "source": [
    "Outstanding Q: Choice of max_deltas"
   ]
  },
  {
   "cell_type": "code",
   "execution_count": 71,
   "metadata": {},
   "outputs": [
    {
     "ename": "IndentationError",
     "evalue": "unindent does not match any outer indentation level (<tokenize>, line 6)",
     "output_type": "error",
     "traceback": [
      "\u001b[0;36m  File \u001b[0;32m\"<tokenize>\"\u001b[0;36m, line \u001b[0;32m6\u001b[0m\n\u001b[0;31m    A = (((q1[i] + deltaq1[i])/(Q1[i]+deltaq1[i]))*(S1[i]+deltas[i])) - ((q1[i]/Q1[i])*S1[i])\u001b[0m\n\u001b[0m    ^\u001b[0m\n\u001b[0;31mIndentationError\u001b[0m\u001b[0;31m:\u001b[0m unindent does not match any outer indentation level\n"
     ]
    }
   ],
   "source": [
    "E = 1\n",
    "\n",
    "for i in range(len(deltas)): \n",
    "\n",
    "    # A = (1/(Q1[i]*(Q1[i]+deltaq1[i]))) * \\\n",
    "            #((q1[i]*(Q1[i]*deltas[i]) - (deltaq1[i]*s[i])) + deltaq1[i]*((Q1[i]*s1[i]) + (Q1[i]*deltas[i])))\n",
    "\n",
    "    A = (((q1[i] + deltaq1[i])/(Q1[i]+deltaq1[i]))*(S1[i]+deltas[i])) - ((q1[i]/Q1[i])*S1[i])\n",
    "    \n",
    "    \n",
    "        \n",
    "    #alpha_hat = (deltas[i]*R)/((A1*(C+R)) - (deltas[i]*C))\n",
    "    \n",
    "    if deltaq1[i] == 0:\n",
    "        alpha_bar = alpha[i] #spot_alpha,\n",
    "        print(\"type0 = \", type(alpha_bar))\n",
    "    else:\n",
    "        alpha_bar_pre = deltas[i]/deltaq1[i] \n",
    "        alpha_bar = alpha_bar_pre/max_deltas # normalized\n",
    "        print(\"type1 = \", type(alpha_bar))\n",
    "\n",
    "    new_alpha = E*(alpha[i]) + (1-E)*((alpha[i])*((S1[i]+S0[i])/(S1[i]+S0[i]+deltas[i]))) + \\\n",
    "                (alpha_bar)*(deltas[i]/(S1[i]+S0[i]+deltas[i]))\n",
    "\n",
    "    #print(\"A = \", A)\n",
    "    #print(\"A1 = \", A1)\n",
    "    print(\"alpha_bar_pre = \", alpha_bar_pre, \" | alpha_bar = \", alpha_bar)\n",
    "    print(\"new_alpha = \", new_alpha)\n",
    "    print(\"deltas =\", deltas[i], \" | deltaq = \", deltaq1[i])\n",
    "    print(\"s[i] =\" , s[i])\n",
    "    print(\"____________________________\")\n",
    "    \n",
    "    # Update operations\n",
    "    Q1.append(Q1[i] + deltaq1[i])\n",
    "    S1.append(S1[i] + deltas[i])\n",
    "    S0.append(S0[i])\n",
    "    s1.append(s1[i] + deltas[i])\n",
    "    s.append(s[i] - deltas[i])\n",
    "    q1.append(q1[i] + deltaq1[i])\n",
    "    alpha.append(new_alpha)   \n",
    "    deltaq1.append(deltas[i])"
   ]
  },
  {
   "cell_type": "markdown",
   "metadata": {},
   "source": [
    "### Revision - June 1, 2020"
   ]
  },
  {
   "cell_type": "code",
   "execution_count": 75,
   "metadata": {},
   "outputs": [
    {
     "name": "stdout",
     "output_type": "stream",
     "text": [
      "alpha_bar_pre =  0.0  | alpha_bar =  -9.000000000000327\n",
      "new_alpha =  0.17937499999998896\n",
      "deltas = 1  | deltaq =  1\n",
      "s[i] = 20\n",
      "____________________________\n",
      "alpha_bar_pre =  0.0  | alpha_bar =  -0.5625000000000003\n",
      "new_alpha =  0.3727062499999999\n",
      "deltas = 4  | deltaq =  1\n",
      "s[i] = 19\n",
      "____________________________\n",
      "alpha_bar_pre =  0.0  | alpha_bar =  -0.5294117647058826\n",
      "new_alpha =  0.36427959191176473\n",
      "deltas = 5  | deltaq =  4\n",
      "s[i] = 15\n",
      "____________________________\n",
      "alpha_bar_pre =  0.0  | alpha_bar =  -0.5094339622641512\n",
      "new_alpha =  0.3345103846698114\n",
      "deltas = 6  | deltaq =  5\n",
      "s[i] = 10\n",
      "____________________________\n",
      "alpha_bar_pre =  0.0  | alpha_bar =  -0.6279069767441866\n",
      "new_alpha =  0.34962259952629937\n",
      "deltas = 3  | deltaq =  6\n",
      "s[i] = 4\n",
      "____________________________\n",
      "alpha_bar_pre =  0.0  | alpha_bar =  0.0\n",
      "new_alpha =  0.3813947590644273\n",
      "deltas = 0  | deltaq =  3\n",
      "s[i] = 1\n",
      "____________________________\n",
      "alpha_bar_pre =  0.0  | alpha_bar =  -9.000000000000327\n",
      "new_alpha =  0.2366532399245711\n",
      "deltas = 1  | deltaq =  0\n",
      "s[i] = 1\n",
      "____________________________\n"
     ]
    }
   ],
   "source": [
    "E = 0.46\n",
    "\n",
    "for i in range(len(deltas)): \n",
    "\n",
    "    # A = (1/(Q1[i]*(Q1[i]+deltaq1[i]))) * \\\n",
    "            #((q1[i]*(Q1[i]*deltas[i]) - (deltaq1[i]*s[i])) + deltaq1[i]*((Q1[i]*s1[i]) + (Q1[i]*deltas[i])))\n",
    "\n",
    "    A = (((q1[i] + deltaq1[i])/(Q1[i]+deltaq1[i]))*(S1[i]+deltas[i])) - ((q1[i]/Q1[i])*S1[i])\n",
    "    \n",
    "    \n",
    "    alpha_bar = (deltas[i]*R)/((A1*(C+R)) - (deltas[i]*C))\n",
    "    \n",
    "\n",
    "    new_alpha = E*(alpha[i]) + (1-E)*(((alpha[i])*((S1[i]+S0[i])/(S1[i]+S0[i]+deltas[i]))) + \\\n",
    "                (alpha_bar)*(deltas[i]/(S1[i]+S0[i]+deltas[i])))\n",
    "\n",
    "    #print(\"A = \", A)\n",
    "    #print(\"A1 = \", A1)\n",
    "    print(\"alpha_bar_pre = \", alpha_bar_pre, \" | alpha_bar = \", alpha_bar)\n",
    "    print(\"new_alpha = \", new_alpha)\n",
    "    print(\"deltas =\", deltas[i], \" | deltaq = \", deltaq1[i])\n",
    "    print(\"s[i] =\" , s[i])\n",
    "    print(\"____________________________\")\n",
    "    \n",
    "    # Update operations\n",
    "    Q1.append(Q1[i] + deltaq1[i])\n",
    "    S1.append(S1[i] + deltas[i])\n",
    "    S0.append(S0[i])\n",
    "    s1.append(s1[i] + deltas[i])\n",
    "    s.append(s[i] - deltas[i])\n",
    "    q1.append(q1[i] + deltaq1[i])\n",
    "    alpha.append(new_alpha)   \n",
    "    deltaq1.append(deltas[i])"
   ]
  },
  {
   "cell_type": "code",
   "execution_count": 28,
   "metadata": {},
   "outputs": [
    {
     "name": "stdout",
     "output_type": "stream",
     "text": [
      "1\n",
      "4\n",
      "5\n",
      "6\n",
      "3\n",
      "0\n",
      "1\n"
     ]
    }
   ],
   "source": [
    "E = 0.45\n",
    "C = 7000\n",
    "R = 3000\n",
    "S = 300\n",
    "#I = 1200\n",
    "private_alpha = [0.6]\n",
    "alpha = [0.5]\n",
    "max_deltas = 20\n",
    "Q1 = [100]\n",
    "q1 = [0]\n",
    "S1 = [100] \n",
    "S0 = [100]\n",
    "s1 = [0]\n",
    "s = [20]\n",
    "# deltaq1 = [1] # deltaq1 = deltas\n",
    "# deltas = [20, 20, -20, 20, 20, -20,20, 20, -20, 20, 20]\n",
    "deltas = [1, 4, 5, 6, 3, 0, 1] # deltas should be greater than or equal to s[i]\n",
    "#deltaq1 = [1, 4, 5, 6, 3, 1]\n",
    "\n",
    "for i in range(len(deltas)): \n",
    "    print(deltas[i])"
   ]
  },
  {
   "cell_type": "code",
   "execution_count": 17,
   "metadata": {},
   "outputs": [
    {
     "name": "stdout",
     "output_type": "stream",
     "text": [
      "new_alpha =  0.48350473065121036\n",
      "deltas = 1  | deltaq =  1\n",
      "s[i] = 20\n",
      "____________________________\n",
      "new_alpha =  0.4324914274284184\n",
      "deltas = 4  | deltaq =  4\n",
      "s[i] = 19\n",
      "____________________________\n",
      "new_alpha =  0.3865220792935465\n",
      "deltas = 5  | deltaq =  5\n",
      "s[i] = 15\n",
      "____________________________\n",
      "new_alpha =  0.34664872862159335\n",
      "deltas = 6  | deltaq =  6\n",
      "s[i] = 10\n",
      "____________________________\n",
      "new_alpha =  0.33021858477865307\n",
      "deltas = 3  | deltaq =  3\n",
      "s[i] = 4\n",
      "____________________________\n",
      "new_alpha =  0.33021858477865307\n",
      "deltas = 0  | deltaq =  0\n",
      "s[i] = 1\n",
      "____________________________\n",
      "new_alpha =  0.32513203481956954\n",
      "deltas = 1  | deltaq =  1\n",
      "s[i] = 1\n",
      "____________________________\n"
     ]
    }
   ],
   "source": [
    "E = 0.46\n",
    "\n",
    "for i in range(len(deltas)): \n",
    "    \n",
    "    B = (C+R)*((((q1[i]+deltaq1[i])/(Q1[i]+deltaq1[i]))*((S1[i]+deltas[i]/S)))-((q1[i]*S1[i])/(Q1[i]*S))) - (C)*(deltas[i]/S)\n",
    "    \n",
    "    alpha_bar = (deltas[i]/S)*(R/B)\n",
    "    \n",
    "    new_alpha = (E*alpha[i]) + (1-E)*((((S1[i]+S0[i])/(S1[i]+S0[i]+deltas[i]))*alpha[i]) + ((deltas[i]/(S1[i]+S0[i]+deltas[i]))*alpha_bar))\n",
    "    \n",
    "    print(\"new_alpha = \", new_alpha)\n",
    "    print(\"deltas =\", deltas[i], \" | deltaq = \", deltaq1[i])\n",
    "    print(\"s[i] =\" , s[i])\n",
    "    print(\"____________________________\")\n",
    "    \n",
    "    # Update operations\n",
    "    Q1.append(Q1[i] + deltaq1[i])\n",
    "    S1.append(S1[i] + deltas[i])\n",
    "    S0.append(S0[i])\n",
    "    s1.append(s1[i] + deltas[i])\n",
    "    s.append(s[i] - deltas[i])\n",
    "    q1.append(q1[i] + deltaq1[i])\n",
    "    alpha.append(new_alpha)   \n",
    "    #deltaq1.append(deltas[i])\n",
    "    \n",
    "    "
   ]
  },
  {
   "cell_type": "markdown",
   "metadata": {},
   "source": [
    "#### Try with term 1, term 2, term 3"
   ]
  },
  {
   "cell_type": "code",
   "execution_count": 30,
   "metadata": {},
   "outputs": [
    {
     "name": "stdout",
     "output_type": "stream",
     "text": [
      "D =  0.004975124378109453\n",
      "alpha_bar =  0.06233186571425884\n",
      "alpha[i] = 0.5 | new_alpha =  0.49882417516162036\n",
      "deltas = 1  | deltaq1 =  5.773502691896324\n",
      "s[i] = 20\n",
      "____________________________\n",
      "D =  0.01951219512195122\n",
      "alpha_bar =  0.15595901638002552\n",
      "alpha[i] = 0.49882417516162036 | new_alpha =  0.4952115471471411\n",
      "deltas = 4  | deltaq1 =  12.213672050459229\n",
      "s[i] = 19\n",
      "____________________________\n",
      "D =  0.023809523809523808\n",
      "alpha_bar =  0.18934430814322548\n",
      "alpha[i] = 0.4952115471471411 | new_alpha =  0.4912789683599479\n",
      "deltas = 5  | deltaq1 =  15.232078761440219\n",
      "s[i] = 15\n",
      "____________________________\n",
      "D =  0.027777777777777776\n",
      "alpha_bar =  0.2226449738344758\n",
      "alpha[i] = 0.4912789683599479 | new_alpha =  0.4872494584420658\n",
      "deltas = 6  | deltaq1 =  18.84004750742875\n",
      "s[i] = 10\n",
      "____________________________\n",
      "D =  0.0136986301369863\n",
      "alpha_bar =  0.14896876963662667\n",
      "alpha[i] = 0.4872494584420658 | new_alpha =  0.4847471081413133\n",
      "deltas = 3  | deltaq1 =  15.205930101122458\n",
      "s[i] = 4\n",
      "____________________________\n",
      "alpha[i] = 0.4847471081413133 | new_alpha =  0.4847471081413133\n",
      "____________________________\n"
     ]
    },
    {
     "ename": "IndexError",
     "evalue": "list assignment index out of range",
     "output_type": "error",
     "traceback": [
      "\u001b[0;31m---------------------------------------------------------------------------\u001b[0m",
      "\u001b[0;31mIndexError\u001b[0m                                Traceback (most recent call last)",
      "\u001b[0;32m<ipython-input-30-b64a3ad05e57>\u001b[0m in \u001b[0;36m<module>\u001b[0;34m\u001b[0m\n\u001b[1;32m      6\u001b[0m \u001b[0;34m\u001b[0m\u001b[0m\n\u001b[1;32m      7\u001b[0m     \u001b[0mA\u001b[0m \u001b[0;34m=\u001b[0m \u001b[0;36m1\u001b[0m\u001b[0;34m+\u001b[0m\u001b[0;34m(\u001b[0m\u001b[0mdeltas\u001b[0m\u001b[0;34m[\u001b[0m\u001b[0mi\u001b[0m\u001b[0;34m]\u001b[0m\u001b[0;34m/\u001b[0m\u001b[0mS\u001b[0m\u001b[0;34m)\u001b[0m\u001b[0;34m\u001b[0m\u001b[0;34m\u001b[0m\u001b[0m\n\u001b[0;32m----> 8\u001b[0;31m     \u001b[0mdeltaq1\u001b[0m\u001b[0;34m[\u001b[0m\u001b[0mi\u001b[0m\u001b[0;34m]\u001b[0m \u001b[0;34m=\u001b[0m \u001b[0mQ1\u001b[0m\u001b[0;34m[\u001b[0m\u001b[0mi\u001b[0m\u001b[0;34m]\u001b[0m\u001b[0;34m*\u001b[0m\u001b[0;34m(\u001b[0m\u001b[0mmath\u001b[0m\u001b[0;34m.\u001b[0m\u001b[0msqrt\u001b[0m\u001b[0;34m(\u001b[0m\u001b[0mA\u001b[0m\u001b[0;34m-\u001b[0m\u001b[0;36m1\u001b[0m\u001b[0;34m)\u001b[0m\u001b[0;34m)\u001b[0m\u001b[0;34m\u001b[0m\u001b[0;34m\u001b[0m\u001b[0m\n\u001b[0m\u001b[1;32m      9\u001b[0m \u001b[0;34m\u001b[0m\u001b[0m\n\u001b[1;32m     10\u001b[0m     \u001b[0;32mif\u001b[0m \u001b[0mdeltas\u001b[0m\u001b[0;34m[\u001b[0m\u001b[0mi\u001b[0m\u001b[0;34m]\u001b[0m \u001b[0;34m==\u001b[0m \u001b[0;36m0\u001b[0m\u001b[0;34m:\u001b[0m\u001b[0;34m\u001b[0m\u001b[0;34m\u001b[0m\u001b[0m\n",
      "\u001b[0;31mIndexError\u001b[0m: list assignment index out of range"
     ]
    }
   ],
   "source": [
    "import math\n",
    "\n",
    "E = 0.46\n",
    "\n",
    "for i in range(len(deltas)): \n",
    "    \n",
    "    A = 1+(deltas[i]/S)\n",
    "    deltaq1[i] = Q1[i]*(math.sqrt(A-1))\n",
    "        \n",
    "    if deltas[i] == 0:\n",
    "        new_alpha = alpha[i]\n",
    "        print(\"alpha[i] =\", alpha[i], \"| new_alpha = \", new_alpha)\n",
    "        print(\"____________________________\")\n",
    "    else:   \n",
    "        attest_prop_after = (q1[i]+deltaq1[i])/(Q1[i]+deltaq1[i])\n",
    "        supply_prop_after = (S1[i]+deltas[i])/S\n",
    "        attest_supply_prop_before = (q1[i]*S1[i])/(Q1[i]*S)\n",
    "    \n",
    "        B = (C+R)*((attest_prop_after*supply_prop_after) - attest_supply_prop_before) - (C)*(deltas[i]/S)\n",
    "    \n",
    "        D = deltas[i]/(S1[i]+S0[i]+deltas[i])\n",
    "    \n",
    "        alpha_bar = (deltas[i]/S)*(R/B)\n",
    "    \n",
    "        T1 = E*alpha[i]\n",
    "    \n",
    "        T2 = (1-E)*(1-D)*alpha[i]\n",
    "    \n",
    "        T3 = (1-E)*(D)*alpha_bar\n",
    "    \n",
    "        new_alpha = T1+T2+T3\n",
    "    \n",
    "        print(\"D = \", D)\n",
    "        print(\"alpha_bar = \", alpha_bar)\n",
    "        print(\"alpha[i] =\", alpha[i], \"| new_alpha = \", new_alpha)\n",
    "        print(\"deltas =\", deltas[i], \" | deltaq1 = \", deltaq1[i])\n",
    "        print(\"s[i] =\" , s[i])\n",
    "        print(\"____________________________\")\n",
    "    \n",
    "    # Update operations\n",
    "    Q1.append(Q1[i] + deltaq1[i])\n",
    "    S1.append(S1[i] + deltas[i])\n",
    "    S0.append(S0[i])\n",
    "    s1.append(s1[i] + deltas[i])\n",
    "    s.append(s[i] - deltas[i])\n",
    "    q1.append(q1[i] + deltaq1[i])\n",
    "    alpha.append(new_alpha)   \n",
    "    "
   ]
  },
  {
   "cell_type": "markdown",
   "metadata": {},
   "source": [
    "#### Try without D"
   ]
  },
  {
   "cell_type": "code",
   "execution_count": 19,
   "metadata": {},
   "outputs": [
    {
     "name": "stdout",
     "output_type": "stream",
     "text": [
      "new_alpha =  0.5060756904193658\n",
      "deltas = 1  | deltaq =  1\n",
      "s[i] = 20\n",
      "____________________________\n",
      "new_alpha =  0.4895307690889041\n",
      "deltas = 4  | deltaq =  4\n",
      "s[i] = 19\n",
      "____________________________\n",
      "new_alpha =  0.4361900575654047\n",
      "deltas = 5  | deltaq =  5\n",
      "s[i] = 15\n",
      "____________________________\n",
      "new_alpha =  0.38923169030697025\n",
      "deltas = 6  | deltaq =  6\n",
      "s[i] = 10\n",
      "____________________________\n",
      "new_alpha =  0.34763074519059717\n",
      "deltas = 3  | deltaq =  3\n",
      "s[i] = 4\n",
      "____________________________\n",
      "new_alpha =  0.33021858477865307\n",
      "deltas = 0  | deltaq =  0\n",
      "s[i] = 1\n",
      "____________________________\n",
      "new_alpha =  0.33050737199120284\n",
      "deltas = 1  | deltaq =  1\n",
      "s[i] = 1\n",
      "____________________________\n"
     ]
    }
   ],
   "source": [
    "E = 0.46\n",
    "\n",
    "for i in range(len(deltas)): \n",
    "    \n",
    "    B = (C+R)*((((q1[i]+deltaq1[i])/(Q1[i]+deltaq1[i]))*((S1[i]+deltas[i]/S)))-((q1[i]*S1[i])/(Q1[i]*S))) - (C)*(deltas[i]/S)\n",
    "    \n",
    "    D = deltas[i]/(S1[i]+S0[i]+deltas[i])\n",
    "    \n",
    "    alpha_bar = (deltas[i]/S)*(R/B)\n",
    "    \n",
    "    T1 = E*alpha[i]\n",
    "    \n",
    "    T2 = (1-E)*(1)*alpha[i]\n",
    "    \n",
    "    T3 = (1-E)*(1)*alpha_bar\n",
    "    \n",
    "    new_alpha = T1+T2+T3\n",
    "    \n",
    "    print(\"new_alpha = \", new_alpha)\n",
    "    print(\"deltas =\", deltas[i], \" | deltaq = \", deltaq1[i])\n",
    "    print(\"s[i] =\" , s[i])\n",
    "    print(\"____________________________\")\n",
    "    \n",
    "    # Update operations\n",
    "    Q1.append(Q1[i] + deltaq1[i])\n",
    "    S1.append(S1[i] + deltas[i])\n",
    "    S0.append(S0[i])\n",
    "    s1.append(s1[i] + deltas[i])\n",
    "    s.append(s[i] - deltas[i])\n",
    "    q1.append(q1[i] + deltaq1[i])\n",
    "    alpha.append(new_alpha)   "
   ]
  },
  {
   "cell_type": "markdown",
   "metadata": {},
   "source": [
    "### June 2, 2020"
   ]
  },
  {
   "cell_type": "code",
   "execution_count": 13,
   "metadata": {},
   "outputs": [
    {
     "name": "stdout",
     "output_type": "stream",
     "text": [
      "1\n",
      "4\n",
      "5\n",
      "6\n",
      "3\n",
      "0\n",
      "1\n"
     ]
    }
   ],
   "source": [
    "E = 0.45\n",
    "C = 700\n",
    "R = 300\n",
    "S = 30\n",
    "private_alpha = [0.6]\n",
    "alpha = [0.5]\n",
    "max_deltas = 20\n",
    "Q1 = [10]\n",
    "q1 = [0]\n",
    "S1 = [10] \n",
    "S0 = [5]\n",
    "s1 = [0]\n",
    "s = [20]\n",
    "#deltaq1 = [1] # deltaq1 = deltas\n",
    "# deltas = [20, 20, -20, 20, 20, -20,20, 20, -20, 20, 20]\n",
    "deltas = [1, 4, 5, 6, 3, 0, 1] # deltas should be greater than or equal to s[i]\n",
    "#deltaq1 = [1, 4, 5, 6, 3, 0, 1]\n",
    "\n",
    "for i in range(len(deltas)): \n",
    "    print(deltas[i])"
   ]
  },
  {
   "cell_type": "code",
   "execution_count": 7,
   "metadata": {},
   "outputs": [
    {
     "name": "stdout",
     "output_type": "stream",
     "text": [
      "alpha_bar =  0.01125127855438118\n",
      "new_alpha =  0.48319926270030683\n",
      "deltas = 1  | deltaq =  1\n",
      "s[i] = 20\n",
      "_____________________________________\n",
      "alpha_bar =  0.01115933044017359\n",
      "new_alpha =  0.43127487015169225\n",
      "deltas = 4  | deltaq =  4\n",
      "s[i] = 19\n",
      "_____________________________________\n",
      "alpha_bar =  0.006849315068493151\n",
      "new_alpha =  0.38458805909254035\n",
      "deltas = 5  | deltaq =  5\n",
      "s[i] = 15\n",
      "_____________________________________\n",
      "alpha_bar =  0.00501779817300682\n",
      "new_alpha =  0.3441821926075577\n",
      "deltas = 6  | deltaq =  6\n",
      "s[i] = 10\n",
      "_____________________________________\n",
      "alpha_bar =  0.0018185492018589614\n",
      "new_alpha =  0.3275674863834577\n",
      "deltas = 3  | deltaq =  3\n",
      "s[i] = 4\n",
      "_____________________________________\n",
      "alpha_bar =  0.0\n",
      "new_alpha =  0.3275674863834577\n",
      "deltas = 0  | deltaq =  0\n",
      "s[i] = 1\n",
      "_____________________________________\n",
      "alpha_bar =  0.0005347911343514171\n",
      "new_alpha =  0.32242840117240035\n",
      "deltas = 1  | deltaq =  1\n",
      "s[i] = 1\n",
      "_____________________________________\n"
     ]
    }
   ],
   "source": [
    "for i in range(len(deltas)): \n",
    "    \n",
    "    B = (C+R)*((((q1[i]+deltaq1[i])/(Q1[i]+deltaq1[i]))*((S1[i]+deltas[i]/S)))-((q1[i]*S1[i])/(Q1[i]*S))) - (C)*(deltas[i]/S)\n",
    "    \n",
    "    D = deltas[i]/(S1[i]+S0[i]+deltas[i])\n",
    "    \n",
    "    alpha_bar = (deltas[i]/S)*(R/B)\n",
    "    \n",
    "    T1 = E*alpha[i]\n",
    "    \n",
    "    T2 = (1-E)*(1-D)*alpha[i]\n",
    "    \n",
    "    T3 = (1-E)*(D)*alpha_bar\n",
    "    \n",
    "    new_alpha = T1+T2+T3\n",
    "    \n",
    "    print(\"alpha_bar = \", alpha_bar)\n",
    "    print(\"new_alpha = \", new_alpha)\n",
    "    print(\"deltas =\", deltas[i], \" | deltaq = \", deltaq1[i])\n",
    "    print(\"s[i] =\" , s[i])\n",
    "    print(\"_____________________________________\")\n",
    "    \n",
    "    # Update operations\n",
    "    Q1.append(Q1[i] + deltaq1[i])\n",
    "    S1.append(S1[i] + deltas[i])\n",
    "    S0.append(S0[i])\n",
    "    s1.append(s1[i] + deltas[i])\n",
    "    s.append(s[i] - deltas[i])\n",
    "    q1.append(q1[i] + deltaq1[i])\n",
    "    alpha.append(new_alpha) "
   ]
  },
  {
   "cell_type": "markdown",
   "metadata": {},
   "source": [
    "#### Alpha bar is too small. Alpha update moves in the wrong direction"
   ]
  },
  {
   "cell_type": "markdown",
   "metadata": {},
   "source": [
    "#### Try with quadratic relationship b/w deltas and deltaq1"
   ]
  },
  {
   "cell_type": "markdown",
   "metadata": {},
   "source": [
    "$$deltaq1 = {deltas}^2$$"
   ]
  },
  {
   "cell_type": "code",
   "execution_count": 14,
   "metadata": {},
   "outputs": [
    {
     "name": "stdout",
     "output_type": "stream",
     "text": [
      "alpha_bar =  0.01125127855438118\n",
      "new_alpha =  0.48319926270030683\n",
      "deltas = 1  | deltaq =  1\n",
      "s[i] = 20\n",
      "_____________________________________\n",
      "alpha_bar =  0.005811242242709043\n",
      "new_alpha =  0.43068658044997116\n",
      "deltas = 4  | deltaq =  16\n",
      "s[i] = 19\n",
      "_____________________________________\n",
      "alpha_bar =  0.0042306486994672515\n",
      "new_alpha =  0.3837764279574158\n",
      "deltas = 5  | deltaq =  25\n",
      "s[i] = 15\n",
      "_____________________________________\n",
      "alpha_bar =  0.003483089963585878\n",
      "new_alpha =  0.34329358875162097\n",
      "deltas = 6  | deltaq =  36\n",
      "s[i] = 10\n",
      "_____________________________________\n",
      "alpha_bar =  0.0013291334763919985\n",
      "new_alpha =  0.32669825489267607\n",
      "deltas = 3  | deltaq =  9\n",
      "s[i] = 4\n",
      "_____________________________________\n",
      "alpha_bar =  0.0\n",
      "new_alpha =  0.32669825489267607\n",
      "deltas = 0  | deltaq =  0\n",
      "s[i] = 1\n",
      "_____________________________________\n",
      "alpha_bar =  0.0003971342055988764\n",
      "new_alpha =  0.32157066585330774\n",
      "deltas = 1  | deltaq =  1\n",
      "s[i] = 1\n",
      "_____________________________________\n"
     ]
    }
   ],
   "source": [
    "for i in range(len(deltas)): \n",
    "    \n",
    "    deltaq1[i] = deltas[i]**2\n",
    "    \n",
    "    B = (C+R)*((((q1[i]+deltaq1[i])/(Q1[i]+deltaq1[i]))*((S1[i]+deltas[i]/S)))-((q1[i]*S1[i])/(Q1[i]*S))) - (C)*(deltas[i]/S)\n",
    "    \n",
    "    D = deltas[i]/(S1[i]+S0[i]+deltas[i])\n",
    "    \n",
    "    alpha_bar = (deltas[i]/S)*(R/B)\n",
    "    \n",
    "    T1 = E*alpha[i]\n",
    "    \n",
    "    T2 = (1-E)*(1-D)*alpha[i]\n",
    "    \n",
    "    T3 = (1-E)*(D)*alpha_bar\n",
    "    \n",
    "    new_alpha = T1+T2+T3\n",
    "    \n",
    "    print(\"alpha_bar = \", alpha_bar)\n",
    "    print(\"new_alpha = \", new_alpha)\n",
    "    print(\"deltas =\", deltas[i], \" | deltaq = \", deltaq1[i])\n",
    "    print(\"s[i] =\" , s[i])\n",
    "    print(\"_____________________________________\")\n",
    "    \n",
    "    # Update operations\n",
    "    Q1.append(Q1[i] + deltaq1[i])\n",
    "    S1.append(S1[i] + deltas[i])\n",
    "    S0.append(S0[i])\n",
    "    s1.append(s1[i] + deltas[i])\n",
    "    s.append(s[i] - deltas[i])\n",
    "    q1.append(q1[i] + deltaq1[i])\n",
    "    alpha.append(new_alpha) "
   ]
  },
  {
   "cell_type": "markdown",
   "metadata": {},
   "source": [
    "Try with $deltaq1 = \\sqrt {deltas}$"
   ]
  },
  {
   "cell_type": "code",
   "execution_count": 16,
   "metadata": {},
   "outputs": [
    {
     "name": "stdout",
     "output_type": "stream",
     "text": [
      "alpha_bar =  0.01125127855438118\n",
      "new_alpha =  0.48319926270030683\n",
      "deltas = 1  | deltaq =  1.0\n",
      "s[i] = 20\n",
      "_____________________________________\n",
      "alpha_bar =  0.01637623346630275\n",
      "new_alpha =  0.43184872948456643\n",
      "deltas = 4  | deltaq =  2.0\n",
      "s[i] = 19\n",
      "_____________________________________\n",
      "alpha_bar =  0.005236957081210546\n",
      "new_alpha =  0.38388712187940754\n",
      "deltas = 5  | deltaq =  2.23606797749979\n",
      "s[i] = 15\n",
      "_____________________________________\n",
      "alpha_bar =  0.0037946636253586687\n",
      "new_alpha =  0.3433267562704549\n",
      "deltas = 6  | deltaq =  2.449489742783178\n",
      "s[i] = 10\n",
      "_____________________________________\n",
      "alpha_bar =  0.001342092215946395\n",
      "new_alpha =  0.32669888377268386\n",
      "deltas = 3  | deltaq =  1.7320508075688772\n",
      "s[i] = 4\n",
      "_____________________________________\n",
      "alpha_bar =  0.0\n",
      "new_alpha =  0.32669825489267607\n",
      "deltas = 0  | deltaq =  0.0\n",
      "s[i] = 1\n",
      "_____________________________________\n",
      "alpha_bar =  0.0003971342055988764\n",
      "new_alpha =  0.32157066585330774\n",
      "deltas = 1  | deltaq =  1.0\n",
      "s[i] = 1\n",
      "_____________________________________\n"
     ]
    }
   ],
   "source": [
    "import math\n",
    "\n",
    "for i in range(len(deltas)): \n",
    "    \n",
    "    deltaq1[i] = math.sqrt(deltas[i])\n",
    "    \n",
    "    B = (C+R)*((((q1[i]+deltaq1[i])/(Q1[i]+deltaq1[i]))*((S1[i]+deltas[i]/S)))-((q1[i]*S1[i])/(Q1[i]*S))) - (C)*(deltas[i]/S)\n",
    "    \n",
    "    D = deltas[i]/(S1[i]+S0[i]+deltas[i])\n",
    "    \n",
    "    alpha_bar = (deltas[i]/S)*(R/B)\n",
    "    \n",
    "    T1 = E*alpha[i]\n",
    "    \n",
    "    T2 = (1-E)*(1-D)*alpha[i]\n",
    "    \n",
    "    T3 = (1-E)*(D)*alpha_bar\n",
    "    \n",
    "    new_alpha = T1+T2+T3\n",
    "    \n",
    "    print(\"alpha_bar = \", alpha_bar)\n",
    "    print(\"new_alpha = \", new_alpha)\n",
    "    print(\"deltas =\", deltas[i], \" | deltaq = \", deltaq1[i])\n",
    "    print(\"s[i] =\" , s[i])\n",
    "    print(\"_____________________________________\")\n",
    "    \n",
    "    # Update operations\n",
    "    Q1.append(Q1[i] + deltaq1[i])\n",
    "    S1.append(S1[i] + deltas[i])\n",
    "    S0.append(S0[i])\n",
    "    s1.append(s1[i] + deltas[i])\n",
    "    s.append(s[i] - deltas[i])\n",
    "    q1.append(q1[i] + deltaq1[i])\n",
    "    alpha.append(new_alpha) "
   ]
  },
  {
   "cell_type": "markdown",
   "metadata": {},
   "source": [
    "# Alpha update upon positive attestation"
   ]
  },
  {
   "cell_type": "code",
   "execution_count": 4,
   "metadata": {},
   "outputs": [
    {
     "name": "stdout",
     "output_type": "stream",
     "text": [
      "1\n",
      "4\n",
      "5\n",
      "6\n",
      "3\n",
      "0\n",
      "1\n"
     ]
    }
   ],
   "source": [
    "E = 0.45\n",
    "C = 7000\n",
    "R = 3000\n",
    "S = 300\n",
    "#I = 1200\n",
    "private_alpha = [0.6]\n",
    "alpha = [0.5]\n",
    "max_deltas = 20\n",
    "Q1 = [100]\n",
    "q1 = [0]\n",
    "S1 = [100] \n",
    "S0 = [100]\n",
    "s1 = [0]\n",
    "s = [20]\n",
    "\n",
    "deltas = [1, 4, 5, 6, 3, 0, 1]\n",
    "\n",
    "for i in range(len(deltas)): \n",
    "    print(deltas[i])"
   ]
  },
  {
   "cell_type": "code",
   "execution_count": 5,
   "metadata": {},
   "outputs": [
    {
     "name": "stdout",
     "output_type": "stream",
     "text": [
      "D =  0.004975124378109453\n",
      "alpha_bar =  0.06233186571425884\n",
      "alpha[i] = 0.5 | new_alpha =  0.49882417516162036\n",
      "alpha =  [0.5]\n",
      "deltas = 1  | deltaq1 =  5.773502691896324\n",
      "s[i] = 20\n",
      "____________________________\n",
      "D =  0.01951219512195122\n",
      "alpha_bar =  0.15595901638002552\n",
      "alpha[i] = 0.49882417516162036 | new_alpha =  0.4952115471471411\n",
      "alpha =  [0.5, 0.49882417516162036]\n",
      "deltas = 4  | deltaq1 =  12.213672050459229\n",
      "s[i] = 19\n",
      "____________________________\n",
      "D =  0.023809523809523808\n",
      "alpha_bar =  0.18934430814322548\n",
      "alpha[i] = 0.4952115471471411 | new_alpha =  0.4912789683599479\n",
      "alpha =  [0.5, 0.49882417516162036, 0.4952115471471411]\n",
      "deltas = 5  | deltaq1 =  15.232078761440219\n",
      "s[i] = 15\n",
      "____________________________\n",
      "D =  0.027777777777777776\n",
      "alpha_bar =  0.2226449738344758\n",
      "alpha[i] = 0.4912789683599479 | new_alpha =  0.4872494584420658\n",
      "alpha =  [0.5, 0.49882417516162036, 0.4952115471471411, 0.4912789683599479]\n",
      "deltas = 6  | deltaq1 =  18.84004750742875\n",
      "s[i] = 10\n",
      "____________________________\n",
      "D =  0.0136986301369863\n",
      "alpha_bar =  0.14896876963662667\n",
      "alpha[i] = 0.4872494584420658 | new_alpha =  0.4847471081413133\n",
      "alpha =  [0.5, 0.49882417516162036, 0.4952115471471411, 0.4912789683599479, 0.4872494584420658]\n",
      "deltas = 3  | deltaq1 =  15.205930101122458\n",
      "s[i] = 4\n",
      "____________________________\n",
      "alpha[i] = 0.4847471081413133 | new_alpha =  0.4847471081413133\n",
      "____________________________\n",
      "D =  0.004545454545454545\n",
      "alpha_bar =  0.0829163238326006\n",
      "alpha[i] = 0.4847471081413133 | new_alpha =  0.4837607962161919\n",
      "alpha =  [0.5, 0.49882417516162036, 0.4952115471471411, 0.4912789683599479, 0.4872494584420658, 0.4847471081413133, 0.4847471081413133]\n",
      "deltas = 1  | deltaq1 =  9.657062620877959\n",
      "s[i] = 1\n",
      "____________________________\n"
     ]
    }
   ],
   "source": [
    "import math\n",
    "\n",
    "E = 0.46\n",
    "\n",
    "for i in range(len(deltas)): \n",
    "    \n",
    "    A = 1+(deltas[i]/S)\n",
    "    deltaq1 = Q1[i]*(math.sqrt(A-1))\n",
    "        \n",
    "    if deltas[i] == 0:\n",
    "        new_alpha = alpha[i]\n",
    "        print(\"alpha[i] =\", alpha[i], \"| new_alpha = \", new_alpha)\n",
    "        print(\"____________________________\")\n",
    "    else:   \n",
    "        attest_prop_after = (q1[i]+deltaq1)/(Q1[i]+deltaq1)\n",
    "        supply_prop_after = (S1[i]+deltas[i])/S\n",
    "        attest_supply_prop_before = (q1[i]*S1[i])/(Q1[i]*S)\n",
    "    \n",
    "        B = (C+R)*((attest_prop_after*supply_prop_after) - attest_supply_prop_before) - (C)*(deltas[i]/S)\n",
    "    \n",
    "        D = deltas[i]/(S1[i]+S0[i]+deltas[i])\n",
    "    \n",
    "        alpha_bar = (deltas[i]/S)*(R/B)\n",
    "    \n",
    "        T1 = E*alpha[i]\n",
    "    \n",
    "        T2 = (1-E)*(1-D)*alpha[i]\n",
    "    \n",
    "        T3 = (1-E)*(D)*alpha_bar\n",
    "    \n",
    "        new_alpha = T1+T2+T3\n",
    "    \n",
    "        print(\"D = \", D)\n",
    "        print(\"alpha_bar = \", alpha_bar)\n",
    "        print(\"alpha[i] =\", alpha[i], \"| new_alpha = \", new_alpha)\n",
    "        print(\"alpha = \", alpha)\n",
    "        print(\"deltas =\", deltas[i], \" | deltaq1 = \", deltaq1)\n",
    "        print(\"s[i] =\" , s[i])\n",
    "        print(\"____________________________\")\n",
    "    \n",
    "    # Update operations\n",
    "    Q1.append(Q1[i] + deltaq1)\n",
    "    S1.append(S1[i] + deltas[i])\n",
    "    S0.append(S0[i])\n",
    "    s1.append(s1[i] + deltas[i])\n",
    "    s.append(s[i] - deltas[i])\n",
    "    q1.append(q1[i] + deltaq1)\n",
    "    alpha.append(new_alpha) "
   ]
  },
  {
   "cell_type": "markdown",
   "metadata": {},
   "source": [
    "### June 11"
   ]
  },
  {
   "cell_type": "code",
   "execution_count": 1,
   "metadata": {},
   "outputs": [
    {
     "name": "stdout",
     "output_type": "stream",
     "text": [
      "1\n",
      "4\n",
      "5\n",
      "6\n",
      "3\n",
      "0\n",
      "1\n"
     ]
    }
   ],
   "source": [
    "E = 0.45\n",
    "C = 7000\n",
    "R = 3000\n",
    "S = 300\n",
    "#I = 1200\n",
    "private_alpha = [0.6]\n",
    "alpha = [0.5]\n",
    "max_deltas = 20\n",
    "Q1 = [100]\n",
    "q1 = [0]\n",
    "S1 = [100] \n",
    "S0 = [100]\n",
    "s1 = [0]\n",
    "s = [20]\n",
    "\n",
    "deltas = [1, 4, 5, 6, 3, 0, 1]\n",
    "\n",
    "for i in range(len(deltas)): \n",
    "    print(deltas[i])"
   ]
  },
  {
   "cell_type": "code",
   "execution_count": 2,
   "metadata": {},
   "outputs": [
    {
     "name": "stdout",
     "output_type": "stream",
     "text": [
      "D =  0.004975124378109453\n",
      "alpha_bar =  0.06233186571425884\n",
      "alpha[i] = 0.5 | new_alpha =  0.49882417516162036\n",
      "alpha =  [0.5]\n",
      "deltas = 1  | deltaq1 =  5.773502691896324\n",
      "s[i] = 20\n",
      "____________________________\n",
      "D =  0.01951219512195122\n",
      "alpha_bar =  0.15595901638002552\n",
      "alpha[i] = 0.49882417516162036 | new_alpha =  0.4952115471471411\n",
      "alpha =  [0.5, 0.49882417516162036]\n",
      "deltas = 4  | deltaq1 =  12.213672050459229\n",
      "s[i] = 19\n",
      "____________________________\n",
      "D =  0.023809523809523808\n",
      "alpha_bar =  0.18934430814322548\n",
      "alpha[i] = 0.4952115471471411 | new_alpha =  0.4912789683599479\n",
      "alpha =  [0.5, 0.49882417516162036, 0.4952115471471411]\n",
      "deltas = 5  | deltaq1 =  15.232078761440219\n",
      "s[i] = 15\n",
      "____________________________\n",
      "D =  0.027777777777777776\n",
      "alpha_bar =  0.2226449738344758\n",
      "alpha[i] = 0.4912789683599479 | new_alpha =  0.4872494584420658\n",
      "alpha =  [0.5, 0.49882417516162036, 0.4952115471471411, 0.4912789683599479]\n",
      "deltas = 6  | deltaq1 =  18.84004750742875\n",
      "s[i] = 10\n",
      "____________________________\n",
      "D =  0.0136986301369863\n",
      "alpha_bar =  0.14896876963662667\n",
      "alpha[i] = 0.4872494584420658 | new_alpha =  0.4847471081413133\n",
      "alpha =  [0.5, 0.49882417516162036, 0.4952115471471411, 0.4912789683599479, 0.4872494584420658]\n",
      "deltas = 3  | deltaq1 =  15.205930101122458\n",
      "s[i] = 4\n",
      "____________________________\n",
      "alpha[i] = 0.4847471081413133 | new_alpha =  0.4847471081413133\n",
      "____________________________\n",
      "D =  0.004545454545454545\n",
      "alpha_bar =  0.0829163238326006\n",
      "alpha[i] = 0.4847471081413133 | new_alpha =  0.4837607962161919\n",
      "alpha =  [0.5, 0.49882417516162036, 0.4952115471471411, 0.4912789683599479, 0.4872494584420658, 0.4847471081413133, 0.4847471081413133]\n",
      "deltas = 1  | deltaq1 =  9.657062620877959\n",
      "s[i] = 1\n",
      "____________________________\n"
     ]
    }
   ],
   "source": [
    "import math\n",
    "\n",
    "E = 0.46\n",
    "\n",
    "for i in range(len(deltas)): \n",
    "    \n",
    "    A = 1+(deltas[i]/S)\n",
    "    deltaq1 = Q1[i]*(math.sqrt(A-1))\n",
    "        \n",
    "    if deltas[i] == 0:\n",
    "        new_alpha = alpha[i]\n",
    "        print(\"alpha[i] =\", alpha[i], \"| new_alpha = \", new_alpha)\n",
    "        print(\"____________________________\")\n",
    "    else:   \n",
    "        attest_prop_after = (q1[i]+deltaq1)/(Q1[i]+deltaq1)\n",
    "        supply_prop_after = (S1[i]+deltas[i])/S\n",
    "        attest_supply_prop_before = (q1[i]*S1[i])/(Q1[i]*S)\n",
    "    \n",
    "        B = (C+R)*((attest_prop_after*supply_prop_after) - attest_supply_prop_before) - (C)*(deltas[i]/S)\n",
    "    \n",
    "        D = deltas[i]/(S1[i]+S0[i]+deltas[i])\n",
    "    \n",
    "        alpha_bar = (deltas[i]/S)*(R/B)\n",
    "    \n",
    "        T1 = E*alpha[i]\n",
    "    \n",
    "        T2 = (1-E)*(1-D)*alpha[i]\n",
    "    \n",
    "        T3 = (1-E)*(D)*alpha_bar\n",
    "    \n",
    "        new_alpha = T1+T2+T3\n",
    "    \n",
    "        print(\"D = \", D)\n",
    "        print(\"alpha_bar = \", alpha_bar)\n",
    "        print(\"alpha[i] =\", alpha[i], \"| new_alpha = \", new_alpha)\n",
    "        print(\"alpha = \", alpha)\n",
    "        print(\"deltas =\", deltas[i], \" | deltaq1 = \", deltaq1)\n",
    "        print(\"s[i] =\" , s[i])\n",
    "        print(\"____________________________\")\n",
    "    \n",
    "    # Update operations\n",
    "    Q1.append(Q1[i] + deltaq1)\n",
    "    S1.append(S1[i] + deltas[i])\n",
    "    S0.append(S0[i])\n",
    "    s1.append(s1[i] + deltas[i])\n",
    "    s.append(s[i] - deltas[i])\n",
    "    q1.append(q1[i] + deltaq1)\n",
    "    alpha.append(new_alpha)"
   ]
  },
  {
   "cell_type": "code",
   "execution_count": null,
   "metadata": {},
   "outputs": [],
   "source": []
  }
 ],
 "metadata": {
  "kernelspec": {
   "display_name": "Python 3",
   "language": "python",
   "name": "python3"
  },
  "language_info": {
   "codemirror_mode": {
    "name": "ipython",
    "version": 3
   },
   "file_extension": ".py",
   "mimetype": "text/x-python",
   "name": "python",
   "nbconvert_exporter": "python",
   "pygments_lexer": "ipython3",
   "version": "3.7.4"
  }
 },
 "nbformat": 4,
 "nbformat_minor": 4
}
