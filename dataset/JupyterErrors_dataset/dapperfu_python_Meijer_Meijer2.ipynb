{
 "cells": [
  {
   "cell_type": "code",
   "execution_count": 2,
   "metadata": {},
   "outputs": [],
   "source": [
    "import os\n",
    "import requests\n",
    "import base64\n",
    "import json\n",
    "from cached_property import cached_property"
   ]
  },
  {
   "cell_type": "code",
   "execution_count": 29,
   "metadata": {},
   "outputs": [],
   "source": [
    "class Meijer(object):\n",
    "    # From Meijer_v5.20.1_apkpure.com/res/values/strings.xml\n",
    "    account_services_client_id = \"mma\"\n",
    "    account_services_secret = \"drAqas76Re7RekeBanaMaNEMah7paDE5\"\n",
    "    # Token string, decoded\n",
    "    token_decoded = f\"{account_services_client_id}:{account_services_secret}\".encode(\"UTF-8\")\n",
    "    # Token string, encoded\n",
    "    basic_token = base64.encodebytes(token_decoded).decode(\"UTF-8\").strip()\n",
    "    \n",
    "    def __init__(self, user: str=None, password: str=None):\n",
    "        \"\"\"Meijer: Use the Meijer App, programatically, in Python.\n",
    "        \n",
    "        user: username/e-mail address for mperks\n",
    "        pass: password.\n",
    "        \"\"\"\n",
    "        self.user = user\n",
    "        self.password = password\n",
    "        # This is set on login.\n",
    "        self.bearer_token = None\n",
    "        \n",
    "    @cached_property\n",
    "    def session(self):\n",
    "        # Create a requests session.\n",
    "        s=requests.Session()\n",
    "        s.headers.update(\n",
    "            {\n",
    "            'Platform': 'Android',\n",
    "            'Version': '5.20.1',\n",
    "            'Build': '52001000',\n",
    "            'Content-Type': 'application/x-www-form-urlencoded',\n",
    "            'Connection': \"Keep-Alive\",\n",
    "            'Accept-Encoding': 'gzip',\n",
    "            'User-Agent': 'okhttp/3.8.0',\n",
    "            }\n",
    "        )\n",
    "        return s\n",
    "\n",
    "    def post(self, **request):\n",
    "        r = self.session.post(**request)\n",
    "        self.r_ = r # debugs\n",
    "        assert r.status_code==200\n",
    "        return r\n",
    "        \n",
    "        \n",
    "    def get(self, **request):\n",
    "        r = self.session.get(**request)\n",
    "        self.r_ = r # debugs\n",
    "        assert r.status_code==200\n",
    "        return r\n",
    "        \n",
    "    def login(self):\n",
    "        request=dict()\n",
    "        request[\"url\"] = \"https://login.meijer.com/as/token.oauth2\"\n",
    "        request[\"headers\"] = {\n",
    "            'Authorization': f\"Basic {self.basic_token}\",\n",
    "        }\n",
    "        request[\"params\"] =  {\n",
    "            'grant_type': 'password',\n",
    "            'scope': 'openid',\n",
    "            \"username\": self.user,\n",
    "            \"password\": self.password\n",
    "        }\n",
    "        r = self.post(**session)\n",
    "        for key, value in r.json().items():\n",
    "            setattr(self, key, value)\n",
    "            \n",
    "        _, meijer_id64, _ = self.access_token.split(\".\")\n",
    "        ids = json.loads(base64.decodebytes(f\"{meijer_id64}=\".encode()))\n",
    "        for key, value in ids.items():\n",
    "            setattr(self, key, value)\n",
    "            \n",
    "        self.bearer_token = f'{self.token_type} {self.access_token}'\n",
    "\n",
    "    @cached_property\n",
    "    def coupons(self):\n",
    "        # Coupons\n",
    "        request=dict()\n",
    "        request[\"url\"] = \"https://mperksservices.meijer.com/dgtlmPerksMMA/api/offers\"\n",
    "        request[\"headers\"] = {\n",
    "            'Accept': \"application/vnd.meijer.digitalmperks.offers-v1.0+json\",\n",
    "            'Authorization': self.bearer_token,\n",
    "            'Platform': 'Android',\n",
    "            'Version': '5.20.1',\n",
    "            'Build': '52001000',\n",
    "            'Content-Type': 'application/vnd.meijer.digitalmperks.offers-v1.0+json',\n",
    "            'Connection': \"Keep-Alive\",\n",
    "            'Accept-Encoding': 'gzip',\n",
    "            'User-Agent': 'okhttp/3.8.0'\n",
    "        }\n",
    "        request[\"json\"] = json.loads('{\"categoryId\":\"\",\"ceilingCount\":0,\"ceilingDuration\":0,\"currentPage\":1,\"displayReasonFilters\":[],\"getOfferCountPerDepartment\":true,\"offerClass\":1,\"offerIds\":[],\"pageSize\":9999,\"rewardCouponId\":0,\"searchCriteria\":\"\",\"showClippedCoupons\":false,\"showOnlySpecialOffers\":false,\"showRedeemedOffers\":false,\"sortType\":\"BySuggested\",\"storeId\":52,\"tagId\":\"\",\"upcList\":[],\"zip\":\"\"}')\n",
    "        r = self.session.post(**request)\n",
    "        self.r_ = r\n",
    "        assert r.status_code == 200\n",
    "        return r.json()['listOfCoupons']\n",
    "    \n",
    "    def clip(self, coupon):\n",
    "        if isinstance(coupon, dict):\n",
    "            meijerOfferId = coupon[\"meijerOfferId\"]\n",
    "        elif isinstance(coupon, [str, int]):\n",
    "            meijerOfferId = coupon\n",
    "        \n",
    "        request[\"url\"] = \"https://mperksservices.meijer.com/dgtlmPerksMMA/api/offers/Clip\"\n",
    "        request[\"headers\"] = {\n",
    "            'Accept': \"application/vnd.meijer.digitalmperks.clip-v1.0+json\",\n",
    "            'Authorization': self.bearer_token,\n",
    "            'Platform': 'Android',\n",
    "            'Version': '5.20.1',\n",
    "            'Build': '52001000',\n",
    "            'Content-Type': 'application/vnd.meijer.digitalmperks.clip-v1.0+json',\n",
    "            'Connection': \"Keep-Alive\",\n",
    "            'Accept-Encoding': 'gzip',\n",
    "            'User-Agent': 'okhttp/3.8.0'\n",
    "        }\n",
    "        request[\"json\"] = {\n",
    "            \"meijerOfferId\": meijerOfferId\n",
    "        }\n",
    "        r = self.session.post(**request)\n",
    "        self.r_ = r\n",
    "        assert r.status_code == 200\n",
    "        \n",
    "    @cached_property\n",
    "    def stores(self):\n",
    "        request=dict()\n",
    "        request[\"url\"] = \"https://mservices.meijer.com/storeinfo/api/mobile/near\"\n",
    "        request[\"headers\"] = {\n",
    "            'Version': \"7\",\n",
    "            'Authorization': self.bearer_token,\n",
    "        }\n",
    "        latitude, longitude=43.016570, -85.726290\n",
    "        request[\"params\"] =  {\n",
    "            'latitude': latitude,\n",
    "            'longitude': longitude,\n",
    "            'miles': '10000',\n",
    "            'numToReturn': '10000',\n",
    "        }\n",
    "        r = self.session.get(**request)\n",
    "        self.r_ = r\n",
    "        assert r.status_code == 200\n",
    "        return r.json()[\"store\"]\n",
    "\n",
    "    def get_store(self, store_id):\n",
    "        request=dict()\n",
    "        request[\"url\"] = \"https://mservices.meijer.com/storeinfo/api/mobile/stores/{}?dataVariant=2\".format(store_id)\n",
    "        request[\"headers\"] = {\n",
    "            'Version': '7',\n",
    "            'Authorization': self.bearer_token,\n",
    "            'Connection': \"Keep-Alive\",\n",
    "            'Accept-Encoding': 'gzip',\n",
    "            'User-Agent': 'okhttp/3.8.0'\n",
    "        }\n",
    "        r = self.session.get(**request)\n",
    "        self.r_ = r\n",
    "        assert r.status_code==200\n",
    "        return r.json()[\"store\"][0]\n",
    "\n",
    "    def __repr__(self):\n",
    "        return \"Meijer<>\"\n",
    "    \n",
    "    def __enter__(self):\n",
    "        return self\n",
    "    \n",
    "    def __exit__(self, exc_type, exc_val, exc_tb):\n",
    "        pass"
   ]
  },
  {
   "cell_type": "code",
   "execution_count": 30,
   "metadata": {},
   "outputs": [],
   "source": [
    "meijer_email, meijer_pass,  = os.environ[\"MEIJER_API_KEY\"].strip().split(\"|\")\n",
    "m = Meijer(meijer_email, meijer_pass)\n",
    "self = m"
   ]
  },
  {
   "cell_type": "code",
   "execution_count": 31,
   "metadata": {
    "scrolled": true
   },
   "outputs": [
    {
     "ename": "NameError",
     "evalue": "name 'session' is not defined",
     "output_type": "error",
     "traceback": [
      "\u001b[0;31m---------------------------------------------------------------------------\u001b[0m",
      "\u001b[0;31mNameError\u001b[0m                                 Traceback (most recent call last)",
      "\u001b[0;32m<ipython-input-31-56c01f60a1fe>\u001b[0m in \u001b[0;36m<module>\u001b[0;34m\u001b[0m\n\u001b[0;32m----> 1\u001b[0;31m \u001b[0mm\u001b[0m\u001b[0;34m.\u001b[0m\u001b[0mlogin\u001b[0m\u001b[0;34m(\u001b[0m\u001b[0;34m)\u001b[0m\u001b[0;34m\u001b[0m\u001b[0;34m\u001b[0m\u001b[0m\n\u001b[0m",
      "\u001b[0;32m<ipython-input-29-f14674211bce>\u001b[0m in \u001b[0;36mlogin\u001b[0;34m(self)\u001b[0m\n\u001b[1;32m     61\u001b[0m             \u001b[0;34m\"password\"\u001b[0m\u001b[0;34m:\u001b[0m \u001b[0mself\u001b[0m\u001b[0;34m.\u001b[0m\u001b[0mpassword\u001b[0m\u001b[0;34m\u001b[0m\u001b[0;34m\u001b[0m\u001b[0m\n\u001b[1;32m     62\u001b[0m         }\n\u001b[0;32m---> 63\u001b[0;31m         \u001b[0mr\u001b[0m \u001b[0;34m=\u001b[0m \u001b[0mself\u001b[0m\u001b[0;34m.\u001b[0m\u001b[0mpost\u001b[0m\u001b[0;34m(\u001b[0m\u001b[0;34m**\u001b[0m\u001b[0msession\u001b[0m\u001b[0;34m)\u001b[0m\u001b[0;34m\u001b[0m\u001b[0;34m\u001b[0m\u001b[0m\n\u001b[0m\u001b[1;32m     64\u001b[0m         \u001b[0;32mfor\u001b[0m \u001b[0mkey\u001b[0m\u001b[0;34m,\u001b[0m \u001b[0mvalue\u001b[0m \u001b[0;32min\u001b[0m \u001b[0mr\u001b[0m\u001b[0;34m.\u001b[0m\u001b[0mjson\u001b[0m\u001b[0;34m(\u001b[0m\u001b[0;34m)\u001b[0m\u001b[0;34m.\u001b[0m\u001b[0mitems\u001b[0m\u001b[0;34m(\u001b[0m\u001b[0;34m)\u001b[0m\u001b[0;34m:\u001b[0m\u001b[0;34m\u001b[0m\u001b[0;34m\u001b[0m\u001b[0m\n\u001b[1;32m     65\u001b[0m             \u001b[0msetattr\u001b[0m\u001b[0;34m(\u001b[0m\u001b[0mself\u001b[0m\u001b[0;34m,\u001b[0m \u001b[0mkey\u001b[0m\u001b[0;34m,\u001b[0m \u001b[0mvalue\u001b[0m\u001b[0;34m)\u001b[0m\u001b[0;34m\u001b[0m\u001b[0;34m\u001b[0m\u001b[0m\n",
      "\u001b[0;31mNameError\u001b[0m: name 'session' is not defined"
     ]
    }
   ],
   "source": [
    "m.login()"
   ]
  },
  {
   "cell_type": "code",
   "execution_count": 32,
   "metadata": {},
   "outputs": [
    {
     "ename": "AssertionError",
     "evalue": "",
     "output_type": "error",
     "traceback": [
      "\u001b[0;31m---------------------------------------------------------------------------\u001b[0m",
      "\u001b[0;31mAssertionError\u001b[0m                            Traceback (most recent call last)",
      "\u001b[0;32m<ipython-input-32-5ff343b7ce65>\u001b[0m in \u001b[0;36m<module>\u001b[0;34m\u001b[0m\n\u001b[0;32m----> 1\u001b[0;31m \u001b[0mlen\u001b[0m\u001b[0;34m(\u001b[0m\u001b[0mm\u001b[0m\u001b[0;34m.\u001b[0m\u001b[0mstores\u001b[0m\u001b[0;34m)\u001b[0m\u001b[0;34m\u001b[0m\u001b[0;34m\u001b[0m\u001b[0m\n\u001b[0m",
      "\u001b[0;32m/projects/python_Meijer/lib/python3.7/site-packages/cached_property.py\u001b[0m in \u001b[0;36m__get__\u001b[0;34m(self, obj, cls)\u001b[0m\n\u001b[1;32m     33\u001b[0m             \u001b[0;32mreturn\u001b[0m \u001b[0mself\u001b[0m\u001b[0;34m.\u001b[0m\u001b[0m_wrap_in_coroutine\u001b[0m\u001b[0;34m(\u001b[0m\u001b[0mobj\u001b[0m\u001b[0;34m)\u001b[0m\u001b[0;34m\u001b[0m\u001b[0;34m\u001b[0m\u001b[0m\n\u001b[1;32m     34\u001b[0m \u001b[0;34m\u001b[0m\u001b[0m\n\u001b[0;32m---> 35\u001b[0;31m         \u001b[0mvalue\u001b[0m \u001b[0;34m=\u001b[0m \u001b[0mobj\u001b[0m\u001b[0;34m.\u001b[0m\u001b[0m__dict__\u001b[0m\u001b[0;34m[\u001b[0m\u001b[0mself\u001b[0m\u001b[0;34m.\u001b[0m\u001b[0mfunc\u001b[0m\u001b[0;34m.\u001b[0m\u001b[0m__name__\u001b[0m\u001b[0;34m]\u001b[0m \u001b[0;34m=\u001b[0m \u001b[0mself\u001b[0m\u001b[0;34m.\u001b[0m\u001b[0mfunc\u001b[0m\u001b[0;34m(\u001b[0m\u001b[0mobj\u001b[0m\u001b[0;34m)\u001b[0m\u001b[0;34m\u001b[0m\u001b[0;34m\u001b[0m\u001b[0m\n\u001b[0m\u001b[1;32m     36\u001b[0m         \u001b[0;32mreturn\u001b[0m \u001b[0mvalue\u001b[0m\u001b[0;34m\u001b[0m\u001b[0;34m\u001b[0m\u001b[0m\n\u001b[1;32m     37\u001b[0m \u001b[0;34m\u001b[0m\u001b[0m\n",
      "\u001b[0;32m<ipython-input-29-f14674211bce>\u001b[0m in \u001b[0;36mstores\u001b[0;34m(self)\u001b[0m\n\u001b[1;32m    136\u001b[0m         \u001b[0mr\u001b[0m \u001b[0;34m=\u001b[0m \u001b[0mself\u001b[0m\u001b[0;34m.\u001b[0m\u001b[0msession\u001b[0m\u001b[0;34m.\u001b[0m\u001b[0mget\u001b[0m\u001b[0;34m(\u001b[0m\u001b[0;34m**\u001b[0m\u001b[0mrequest\u001b[0m\u001b[0;34m)\u001b[0m\u001b[0;34m\u001b[0m\u001b[0;34m\u001b[0m\u001b[0m\n\u001b[1;32m    137\u001b[0m         \u001b[0mself\u001b[0m\u001b[0;34m.\u001b[0m\u001b[0mr_\u001b[0m \u001b[0;34m=\u001b[0m \u001b[0mr\u001b[0m\u001b[0;34m\u001b[0m\u001b[0;34m\u001b[0m\u001b[0m\n\u001b[0;32m--> 138\u001b[0;31m         \u001b[0;32massert\u001b[0m \u001b[0mr\u001b[0m\u001b[0;34m.\u001b[0m\u001b[0mstatus_code\u001b[0m \u001b[0;34m==\u001b[0m \u001b[0;36m200\u001b[0m\u001b[0;34m\u001b[0m\u001b[0;34m\u001b[0m\u001b[0m\n\u001b[0m\u001b[1;32m    139\u001b[0m         \u001b[0;32mreturn\u001b[0m \u001b[0mr\u001b[0m\u001b[0;34m.\u001b[0m\u001b[0mjson\u001b[0m\u001b[0;34m(\u001b[0m\u001b[0;34m)\u001b[0m\u001b[0;34m[\u001b[0m\u001b[0;34m\"store\"\u001b[0m\u001b[0;34m]\u001b[0m\u001b[0;34m\u001b[0m\u001b[0;34m\u001b[0m\u001b[0m\n\u001b[1;32m    140\u001b[0m \u001b[0;34m\u001b[0m\u001b[0m\n",
      "\u001b[0;31mAssertionError\u001b[0m: "
     ]
    }
   ],
   "source": [
    "len(m.stores)"
   ]
  },
  {
   "cell_type": "code",
   "execution_count": null,
   "metadata": {},
   "outputs": [],
   "source": [
    "m.login"
   ]
  },
  {
   "cell_type": "code",
   "execution_count": 4,
   "metadata": {},
   "outputs": [],
   "source": [
    "with Meijer(meijer_email, meijer_pass) as meijer:\n",
    "    stores = meijer.stores"
   ]
  },
  {
   "cell_type": "code",
   "execution_count": 5,
   "metadata": {},
   "outputs": [],
   "source": [
    "for store in stores:\n",
    "    for pop in [\"AuxUnitInfo\", \"GasStationAmenities\", \"GasStationHours\"]:\n",
    "        try:\n",
    "            store.pop(pop)\n",
    "        except:\n",
    "            pass"
   ]
  },
  {
   "cell_type": "code",
   "execution_count": 6,
   "metadata": {},
   "outputs": [],
   "source": [
    "def MeijerStore(self):\n",
    "    def __init__(self, cfg):\n",
    "        self.cfg=cfg\n",
    "        \n",
    "    @property\n",
    "    def latitude(self):\n",
    "        return self.cfg[\"latitude\"]\n",
    "    \n",
    "    @property\n",
    "    def longitude(self):\n",
    "        return self.cfg[\"longitude\"]\n",
    "        \n",
    "    def __repr__(self):\n",
    "        return f\"<MeijerStore({self.latitude}, {self.longitude})>\""
   ]
  },
  {
   "cell_type": "code",
   "execution_count": 7,
   "metadata": {},
   "outputs": [],
   "source": [
    "from dotty_dict import dotty"
   ]
  },
  {
   "cell_type": "code",
   "execution_count": 8,
   "metadata": {},
   "outputs": [],
   "source": [
    "for store_id in range(100):\n",
    "    try:\n",
    "        store = m.get_store(store_id)\n",
    "        break\n",
    "    except:\n",
    "        pass"
   ]
  },
  {
   "cell_type": "code",
   "execution_count": 9,
   "metadata": {},
   "outputs": [
    {
     "name": "stdout",
     "output_type": "stream",
     "text": [
      "<class 'dict'>\n",
      "<class 'list'>\n",
      "<class 'list'>\n",
      "<class 'list'>\n",
      "<class 'NoneType'>\n",
      "<class 'str'>\n",
      "<class 'str'>\n",
      "<class 'str'>\n",
      "<class 'int'>\n",
      "<class 'str'>\n",
      "<class 'str'>\n",
      "<class 'str'>\n",
      "<class 'str'>\n",
      "<class 'float'>\n",
      "<class 'float'>\n",
      "<class 'str'>\n",
      "<class 'str'>\n",
      "<class 'float'>\n",
      "<class 'str'>\n",
      "<class 'str'>\n",
      "<class 'str'>\n",
      "<class 'bool'>\n",
      "<class 'list'>\n"
     ]
    }
   ],
   "source": [
    "for key, value in store.items():\n",
    "    print(type(value))"
   ]
  },
  {
   "cell_type": "code",
   "execution_count": 10,
   "metadata": {},
   "outputs": [],
   "source": [
    "def f7(seq):\n",
    "    # Not order preserving\n",
    "    unique = (list(set(seq)))\n",
    "    return unique"
   ]
  },
  {
   "cell_type": "code",
   "execution_count": 11,
   "metadata": {},
   "outputs": [
    {
     "data": {
      "text/plain": [
       "[bool, NoneType, list, float, int, str, dict]"
      ]
     },
     "execution_count": 11,
     "metadata": {},
     "output_type": "execute_result"
    }
   ],
   "source": [
    "f7([type(value) for key, value in store.items()])"
   ]
  },
  {
   "cell_type": "code",
   "execution_count": 12,
   "metadata": {},
   "outputs": [
    {
     "data": {
      "text/plain": [
       "list"
      ]
     },
     "execution_count": 12,
     "metadata": {},
     "output_type": "execute_result"
    }
   ],
   "source": [
    "type(value)"
   ]
  },
  {
   "cell_type": "code",
   "execution_count": 13,
   "metadata": {},
   "outputs": [
    {
     "data": {
      "text/plain": [
       "{'dict': {'AuxUnitInfo': {'AuxUnitId': 3019,\n",
       "   'UnitId': 19,\n",
       "   'Address': '650 W Norton Ave',\n",
       "   'AddressLine2': '',\n",
       "   'LongName': 'Norton Shores',\n",
       "   'ShortName': 'GS-3019',\n",
       "   'PhoneNumber': '',\n",
       "   'City': 'Muskegon',\n",
       "   'State': 'MI',\n",
       "   'ZipCode': '494410000',\n",
       "   'OpenDate': '2009-06-30T00:00:00',\n",
       "   'CloseDate': '1901-01-01T00:00:00',\n",
       "   'UpdatedTimestamp': '0001-01-01T00:00:00',\n",
       "   'Latitude': 43.19129,\n",
       "   'Longitude': -86.26104,\n",
       "   'ImageURL': 'http://us411.co/liberty_tax/images/Meijer_Logo2.jpg',\n",
       "   'ImageSize': 720,\n",
       "   'ImageFormat': 'jpg',\n",
       "   'TimeZone': 'E',\n",
       "   'DaylightSavings': '1',\n",
       "   'AuxUnitTypeId': 0,\n",
       "   'AuxUnitType': None}},\n",
       " 'list': {'GasStationAmenities': [{'UnitId': 19,\n",
       "    'AuxiliaryUnitId': 3019,\n",
       "    'AmentityType': 'Beer',\n",
       "    'AmentityGroupType': 'Station'},\n",
       "   {'UnitId': 19,\n",
       "    'AuxiliaryUnitId': 3019,\n",
       "    'AmentityType': 'Open 24 Hrs',\n",
       "    'AmentityGroupType': 'Station'},\n",
       "   {'UnitId': 19,\n",
       "    'AuxiliaryUnitId': 3019,\n",
       "    'AmentityType': 'Atm',\n",
       "    'AmentityGroupType': 'Station'},\n",
       "   {'UnitId': 19,\n",
       "    'AuxiliaryUnitId': 3019,\n",
       "    'AmentityType': 'Lotto',\n",
       "    'AmentityGroupType': 'Station'},\n",
       "   {'UnitId': 19,\n",
       "    'AuxiliaryUnitId': 3019,\n",
       "    'AmentityType': 'RestRoom',\n",
       "    'AmentityGroupType': 'Station'},\n",
       "   {'UnitId': 19,\n",
       "    'AuxiliaryUnitId': 3019,\n",
       "    'AmentityType': 'Gift Cards',\n",
       "    'AmentityGroupType': 'Station'},\n",
       "   {'UnitId': 19,\n",
       "    'AuxiliaryUnitId': 3019,\n",
       "    'AmentityType': 'Tobacco',\n",
       "    'AmentityGroupType': 'Station'},\n",
       "   {'UnitId': 19,\n",
       "    'AuxiliaryUnitId': 3019,\n",
       "    'AmentityType': 'Propane',\n",
       "    'AmentityGroupType': 'Station'}],\n",
       "  'GasStationHours': [{'DayOfTheWeek': 'Sunday',\n",
       "    'OpenTime': '00:00:00',\n",
       "    'CloseTime': '00:00:00'},\n",
       "   {'DayOfTheWeek': 'Monday', 'OpenTime': '00:00:00', 'CloseTime': '00:00:00'},\n",
       "   {'DayOfTheWeek': 'Tuesday',\n",
       "    'OpenTime': '00:00:00',\n",
       "    'CloseTime': '00:00:00'},\n",
       "   {'DayOfTheWeek': 'Wednesday',\n",
       "    'OpenTime': '00:00:00',\n",
       "    'CloseTime': '00:00:00'},\n",
       "   {'DayOfTheWeek': 'Thursday',\n",
       "    'OpenTime': '00:00:00',\n",
       "    'CloseTime': '00:00:00'},\n",
       "   {'DayOfTheWeek': 'Friday', 'OpenTime': '00:00:00', 'CloseTime': '00:00:00'},\n",
       "   {'DayOfTheWeek': 'Saturday',\n",
       "    'OpenTime': '00:00:00',\n",
       "    'CloseTime': '00:00:00'}],\n",
       "  'FuelPrices': [{'FuelType': 'UNL-Regular Unleaded',\n",
       "    'FuelPrice': 2.599,\n",
       "    'PriceEffectiveDate': '2019-11-18T14:37:21.567'},\n",
       "   {'FuelType': 'MID-Medium Unleaded',\n",
       "    'FuelPrice': 2.899,\n",
       "    'PriceEffectiveDate': '2019-11-18T14:37:21.567'},\n",
       "   {'FuelType': 'PREM-Premium Unleaded',\n",
       "    'FuelPrice': 3.199,\n",
       "    'PriceEffectiveDate': '2019-11-18T14:37:21.567'},\n",
       "   {'FuelType': 'DSL-Diesel',\n",
       "    'FuelPrice': 2.889,\n",
       "    'PriceEffectiveDate': '2019-11-18T14:37:21.567'},\n",
       "   {'FuelType': 'E85-Premium Unleaded',\n",
       "    'FuelPrice': 2.499,\n",
       "    'PriceEffectiveDate': '2019-11-18T14:37:21.567'}],\n",
       "  'pharmacyHours': [{'dayHours': '8:00 AM - 9:00 PM', 'dayOfTheWeek': 'M-F'},\n",
       "   {'dayHours': '9:00 AM - 7:00 PM', 'dayOfTheWeek': 'Sat'},\n",
       "   {'dayHours': '10:00 AM - 6:00 PM', 'dayOfTheWeek': 'Sun'}]},\n",
       " 'NoneType': {'StoreFlag': None},\n",
       " 'str': {'UnitType': 'MS',\n",
       "  'IsMobileShoppingEnabled': 'Y',\n",
       "  'IsMobilePaymentEnabled': 'N',\n",
       "  'streetAddress': '700 W Norton Ave',\n",
       "  'city': 'Muskegon',\n",
       "  'state': 'MI',\n",
       "  'zip': '49441',\n",
       "  'storeHours': 'Open 24 hrs a day, 364 days a year.',\n",
       "  'storeName': '700 W Norton Ave, Muskegon, MI 49441',\n",
       "  'storeShortName': 'Norton Shores',\n",
       "  'storePhoneNumber': '2317399381',\n",
       "  'pharmacyPhone': '2317335710'},\n",
       " 'int': {'unitid': 19},\n",
       " 'float': {'latitude': 43.19307, 'longitude': -86.26123, 'milesFrom': 0.0},\n",
       " 'bool': {'isPharmacy': False}}"
      ]
     },
     "execution_count": 13,
     "metadata": {},
     "output_type": "execute_result"
    }
   ],
   "source": [
    "parameters_by_class=dict()\n",
    "for key, value in store.items():\n",
    "    t = (type(value).__name__)\n",
    "    if t not in parameters_by_class:\n",
    "        parameters_by_class[t]=dict()\n",
    "    parameters_by_class[t][key]=value\n",
    "parameters_by_class"
   ]
  },
  {
   "cell_type": "code",
   "execution_count": 14,
   "metadata": {},
   "outputs": [
    {
     "data": {
      "text/plain": [
       "{'latitude': 43.19307, 'longitude': -86.26123, 'milesFrom': 0.0}"
      ]
     },
     "execution_count": 14,
     "metadata": {},
     "output_type": "execute_result"
    }
   ],
   "source": [
    "parameters_by_class['float']"
   ]
  },
  {
   "cell_type": "code",
   "execution_count": 15,
   "metadata": {},
   "outputs": [
    {
     "data": {
      "text/plain": [
       "{'unitid': 19}"
      ]
     },
     "execution_count": 15,
     "metadata": {},
     "output_type": "execute_result"
    }
   ],
   "source": [
    "parameters_by_class['int']"
   ]
  },
  {
   "cell_type": "code",
   "execution_count": 16,
   "metadata": {},
   "outputs": [
    {
     "data": {
      "text/plain": [
       "{'isPharmacy': False}"
      ]
     },
     "execution_count": 16,
     "metadata": {},
     "output_type": "execute_result"
    }
   ],
   "source": [
    "parameters_by_class['bool']"
   ]
  },
  {
   "cell_type": "code",
   "execution_count": 17,
   "metadata": {},
   "outputs": [
    {
     "data": {
      "text/plain": [
       "{'UnitType': 'MS',\n",
       " 'IsMobileShoppingEnabled': 'Y',\n",
       " 'IsMobilePaymentEnabled': 'N',\n",
       " 'streetAddress': '700 W Norton Ave',\n",
       " 'city': 'Muskegon',\n",
       " 'state': 'MI',\n",
       " 'zip': '49441',\n",
       " 'storeHours': 'Open 24 hrs a day, 364 days a year.',\n",
       " 'storeName': '700 W Norton Ave, Muskegon, MI 49441',\n",
       " 'storeShortName': 'Norton Shores',\n",
       " 'storePhoneNumber': '2317399381',\n",
       " 'pharmacyPhone': '2317335710'}"
      ]
     },
     "execution_count": 17,
     "metadata": {},
     "output_type": "execute_result"
    }
   ],
   "source": [
    "parameters_by_class['str']"
   ]
  },
  {
   "cell_type": "code",
   "execution_count": 18,
   "metadata": {},
   "outputs": [
    {
     "data": {
      "text/plain": [
       "{'GasStationAmenities': [{'UnitId': 19,\n",
       "   'AuxiliaryUnitId': 3019,\n",
       "   'AmentityType': 'Beer',\n",
       "   'AmentityGroupType': 'Station'},\n",
       "  {'UnitId': 19,\n",
       "   'AuxiliaryUnitId': 3019,\n",
       "   'AmentityType': 'Open 24 Hrs',\n",
       "   'AmentityGroupType': 'Station'},\n",
       "  {'UnitId': 19,\n",
       "   'AuxiliaryUnitId': 3019,\n",
       "   'AmentityType': 'Atm',\n",
       "   'AmentityGroupType': 'Station'},\n",
       "  {'UnitId': 19,\n",
       "   'AuxiliaryUnitId': 3019,\n",
       "   'AmentityType': 'Lotto',\n",
       "   'AmentityGroupType': 'Station'},\n",
       "  {'UnitId': 19,\n",
       "   'AuxiliaryUnitId': 3019,\n",
       "   'AmentityType': 'RestRoom',\n",
       "   'AmentityGroupType': 'Station'},\n",
       "  {'UnitId': 19,\n",
       "   'AuxiliaryUnitId': 3019,\n",
       "   'AmentityType': 'Gift Cards',\n",
       "   'AmentityGroupType': 'Station'},\n",
       "  {'UnitId': 19,\n",
       "   'AuxiliaryUnitId': 3019,\n",
       "   'AmentityType': 'Tobacco',\n",
       "   'AmentityGroupType': 'Station'},\n",
       "  {'UnitId': 19,\n",
       "   'AuxiliaryUnitId': 3019,\n",
       "   'AmentityType': 'Propane',\n",
       "   'AmentityGroupType': 'Station'}],\n",
       " 'GasStationHours': [{'DayOfTheWeek': 'Sunday',\n",
       "   'OpenTime': '00:00:00',\n",
       "   'CloseTime': '00:00:00'},\n",
       "  {'DayOfTheWeek': 'Monday', 'OpenTime': '00:00:00', 'CloseTime': '00:00:00'},\n",
       "  {'DayOfTheWeek': 'Tuesday', 'OpenTime': '00:00:00', 'CloseTime': '00:00:00'},\n",
       "  {'DayOfTheWeek': 'Wednesday',\n",
       "   'OpenTime': '00:00:00',\n",
       "   'CloseTime': '00:00:00'},\n",
       "  {'DayOfTheWeek': 'Thursday',\n",
       "   'OpenTime': '00:00:00',\n",
       "   'CloseTime': '00:00:00'},\n",
       "  {'DayOfTheWeek': 'Friday', 'OpenTime': '00:00:00', 'CloseTime': '00:00:00'},\n",
       "  {'DayOfTheWeek': 'Saturday',\n",
       "   'OpenTime': '00:00:00',\n",
       "   'CloseTime': '00:00:00'}],\n",
       " 'FuelPrices': [{'FuelType': 'UNL-Regular Unleaded',\n",
       "   'FuelPrice': 2.599,\n",
       "   'PriceEffectiveDate': '2019-11-18T14:37:21.567'},\n",
       "  {'FuelType': 'MID-Medium Unleaded',\n",
       "   'FuelPrice': 2.899,\n",
       "   'PriceEffectiveDate': '2019-11-18T14:37:21.567'},\n",
       "  {'FuelType': 'PREM-Premium Unleaded',\n",
       "   'FuelPrice': 3.199,\n",
       "   'PriceEffectiveDate': '2019-11-18T14:37:21.567'},\n",
       "  {'FuelType': 'DSL-Diesel',\n",
       "   'FuelPrice': 2.889,\n",
       "   'PriceEffectiveDate': '2019-11-18T14:37:21.567'},\n",
       "  {'FuelType': 'E85-Premium Unleaded',\n",
       "   'FuelPrice': 2.499,\n",
       "   'PriceEffectiveDate': '2019-11-18T14:37:21.567'}],\n",
       " 'pharmacyHours': [{'dayHours': '8:00 AM - 9:00 PM', 'dayOfTheWeek': 'M-F'},\n",
       "  {'dayHours': '9:00 AM - 7:00 PM', 'dayOfTheWeek': 'Sat'},\n",
       "  {'dayHours': '10:00 AM - 6:00 PM', 'dayOfTheWeek': 'Sun'}]}"
      ]
     },
     "execution_count": 18,
     "metadata": {},
     "output_type": "execute_result"
    }
   ],
   "source": [
    "parameters_by_class['list']"
   ]
  },
  {
   "cell_type": "code",
   "execution_count": 19,
   "metadata": {},
   "outputs": [],
   "source": [
    "fuel_stores = list()\n",
    "for store in m.stores:\n",
    "    if store[\"FuelPrices\"] is None:\n",
    "        continue\n",
    "    for fuel in store[\"FuelPrices\"]:\n",
    "        store[fuel[\"FuelType\"].split(\"-\")[1]]=fuel[\"FuelPrice\"]\n",
    "        store[fuel[\"FuelType\"]+\"_time\"]=fuel[\"PriceEffectiveDate\"]\n",
    "    for f in [\"AuxUnitInfo\", \"GasStationAmenities\", \"GasStationHours\"]:\n",
    "        try:\n",
    "            store.pop(f)\n",
    "        except:\n",
    "            pass\n",
    "    fuel_stores.append(store)\n",
    "    len(store[\"FuelPrices\"])"
   ]
  },
  {
   "cell_type": "code",
   "execution_count": 22,
   "metadata": {},
   "outputs": [],
   "source": [
    "import pandas as pd"
   ]
  },
  {
   "cell_type": "code",
   "execution_count": 23,
   "metadata": {},
   "outputs": [],
   "source": [
    "df = pd.DataFrame(fuel_stores)"
   ]
  },
  {
   "cell_type": "code",
   "execution_count": 24,
   "metadata": {},
   "outputs": [],
   "source": [
    "import pandas as pd\n",
    "import matplotlib.pyplot as plt\n",
    "import seaborn as sns\n",
    "import matplotlib.ticker as mtick"
   ]
  },
  {
   "cell_type": "code",
   "execution_count": 25,
   "metadata": {},
   "outputs": [
    {
     "data": {
      "image/png": "[encoded data removed]",
      "text/plain": [
       "<Figure size 432x288 with 1 Axes>"
      ]
     },
     "metadata": {
      "needs_background": "light"
     },
     "output_type": "display_data"
    }
   ],
   "source": [
    "ax = df[\"Regular Unleaded\"].plot(kind='hist', bins=10)\n",
    "plt.title(\"Histogram of Regular Unleaded at Meijer\")\n",
    "plt.xlabel(\"Regular Unleaded Fuel Price\")\n",
    "plt.ylabel(\"Number of Meijer Stores\")\n",
    "fmt = '${x:,.2f}'\n",
    "tick = mtick.StrMethodFormatter(fmt)\n",
    "ax.xaxis.set_major_formatter(tick)"
   ]
  },
  {
   "cell_type": "code",
   "execution_count": 27,
   "metadata": {},
   "outputs": [
    {
     "data": {
      "text/plain": [
       "{'AuxUnitInfo': {'AuxUnitId': 3071,\n",
       "  'UnitId': 71,\n",
       "  'Address': '1800 Holton Rd',\n",
       "  'AddressLine2': '',\n",
       "  'LongName': 'Holton Road - North Muskegon',\n",
       "  'ShortName': 'GS-3071',\n",
       "  'PhoneNumber': '231744-7629',\n",
       "  'City': 'North Muskegon',\n",
       "  'State': 'MI',\n",
       "  'ZipCode': '494451532',\n",
       "  'OpenDate': '1990-11-13T00:00:00',\n",
       "  'CloseDate': '1901-01-01T00:00:00',\n",
       "  'UpdatedTimestamp': '0001-01-01T00:00:00',\n",
       "  'Latitude': 43.28586,\n",
       "  'Longitude': -86.22109,\n",
       "  'ImageURL': 'http://us411.co/liberty_tax/images/Meijer_Logo2.jpg',\n",
       "  'ImageSize': 720,\n",
       "  'ImageFormat': 'jpg',\n",
       "  'TimeZone': 'E',\n",
       "  'DaylightSavings': '1',\n",
       "  'AuxUnitTypeId': 0,\n",
       "  'AuxUnitType': None},\n",
       " 'GasStationAmenities': [{'UnitId': 71,\n",
       "   'AuxiliaryUnitId': 3071,\n",
       "   'AmentityType': 'Beer',\n",
       "   'AmentityGroupType': 'Station'},\n",
       "  {'UnitId': 71,\n",
       "   'AuxiliaryUnitId': 3071,\n",
       "   'AmentityType': 'Kerosene',\n",
       "   'AmentityGroupType': 'Station'},\n",
       "  {'UnitId': 71,\n",
       "   'AuxiliaryUnitId': 3071,\n",
       "   'AmentityType': 'Open 24 Hrs',\n",
       "   'AmentityGroupType': 'Station'},\n",
       "  {'UnitId': 71,\n",
       "   'AuxiliaryUnitId': 3071,\n",
       "   'AmentityType': 'Atm',\n",
       "   'AmentityGroupType': 'Station'},\n",
       "  {'UnitId': 71,\n",
       "   'AuxiliaryUnitId': 3071,\n",
       "   'AmentityType': 'Lotto',\n",
       "   'AmentityGroupType': 'Station'},\n",
       "  {'UnitId': 71,\n",
       "   'AuxiliaryUnitId': 3071,\n",
       "   'AmentityType': 'RestRoom',\n",
       "   'AmentityGroupType': 'Station'},\n",
       "  {'UnitId': 71,\n",
       "   'AuxiliaryUnitId': 3071,\n",
       "   'AmentityType': 'Gift Cards',\n",
       "   'AmentityGroupType': 'Station'},\n",
       "  {'UnitId': 71,\n",
       "   'AuxiliaryUnitId': 3071,\n",
       "   'AmentityType': 'Tobacco',\n",
       "   'AmentityGroupType': 'Station'},\n",
       "  {'UnitId': 71,\n",
       "   'AuxiliaryUnitId': 3071,\n",
       "   'AmentityType': 'Propane',\n",
       "   'AmentityGroupType': 'Station'}],\n",
       " 'GasStationHours': [{'DayOfTheWeek': 'Sunday',\n",
       "   'OpenTime': '00:00:00',\n",
       "   'CloseTime': '00:00:00'},\n",
       "  {'DayOfTheWeek': 'Monday', 'OpenTime': '00:00:00', 'CloseTime': '00:00:00'},\n",
       "  {'DayOfTheWeek': 'Tuesday', 'OpenTime': '00:00:00', 'CloseTime': '00:00:00'},\n",
       "  {'DayOfTheWeek': 'Wednesday',\n",
       "   'OpenTime': '00:00:00',\n",
       "   'CloseTime': '00:00:00'},\n",
       "  {'DayOfTheWeek': 'Thursday',\n",
       "   'OpenTime': '00:00:00',\n",
       "   'CloseTime': '00:00:00'},\n",
       "  {'DayOfTheWeek': 'Friday', 'OpenTime': '00:00:00', 'CloseTime': '00:00:00'},\n",
       "  {'DayOfTheWeek': 'Saturday',\n",
       "   'OpenTime': '00:00:00',\n",
       "   'CloseTime': '00:00:00'}],\n",
       " 'FuelPrices': [{'FuelType': 'UNL-Regular Unleaded',\n",
       "   'FuelPrice': 2.599,\n",
       "   'PriceEffectiveDate': '2019-11-19T07:57:42.403'},\n",
       "  {'FuelType': 'MID-Medium Unleaded',\n",
       "   'FuelPrice': 2.899,\n",
       "   'PriceEffectiveDate': '2019-11-19T07:57:42.403'},\n",
       "  {'FuelType': 'PREM-Premium Unleaded',\n",
       "   'FuelPrice': 3.199,\n",
       "   'PriceEffectiveDate': '2019-11-19T07:57:42.403'},\n",
       "  {'FuelType': 'DSL-Diesel',\n",
       "   'FuelPrice': 3.079,\n",
       "   'PriceEffectiveDate': '2019-11-19T07:57:42.403'},\n",
       "  {'FuelType': 'KERO-Kerosene',\n",
       "   'FuelPrice': 9.999,\n",
       "   'PriceEffectiveDate': '2019-11-19T07:57:42.403'}],\n",
       " 'StoreFlag': None,\n",
       " 'UnitType': 'MS',\n",
       " 'IsMobileShoppingEnabled': 'Y',\n",
       " 'IsMobilePaymentEnabled': 'N',\n",
       " 'unitid': 71,\n",
       " 'streetAddress': '1800 Holton Rd',\n",
       " 'city': 'North Muskegon',\n",
       " 'state': 'MI',\n",
       " 'zip': '49445',\n",
       " 'latitude': 43.28345,\n",
       " 'longitude': -86.22025,\n",
       " 'storeHours': 'Open 24 hrs a day, 364 days a year.',\n",
       " 'storeName': '1800 Holton Rd, North Muskegon, MI 49445',\n",
       " 'milesFrom': 0.0,\n",
       " 'storeShortName': 'Holton Rd',\n",
       " 'storePhoneNumber': '2317447441',\n",
       " 'pharmacyPhone': '2317447610',\n",
       " 'isPharmacy': False,\n",
       " 'pharmacyHours': [{'dayHours': '8:00 AM - 9:00 PM', 'dayOfTheWeek': 'M-F'},\n",
       "  {'dayHours': '9:00 AM - 7:00 PM', 'dayOfTheWeek': 'Sat'},\n",
       "  {'dayHours': '10:00 AM - 6:00 PM', 'dayOfTheWeek': 'Sun'}]}"
      ]
     },
     "execution_count": 27,
     "metadata": {},
     "output_type": "execute_result"
    }
   ],
   "source": [
    "m.get_store(71)"
   ]
  }
 ],
 "metadata": {
  "kernelspec": {
   "display_name": "Python 3",
   "language": "python",
   "name": "python3"
  },
  "language_info": {
   "codemirror_mode": {
    "name": "ipython",
    "version": 3
   },
   "file_extension": ".py",
   "mimetype": "text/x-python",
   "name": "python",
   "nbconvert_exporter": "python",
   "pygments_lexer": "ipython3",
   "version": "3.7.3"
  }
 },
 "nbformat": 4,
 "nbformat_minor": 2
}
