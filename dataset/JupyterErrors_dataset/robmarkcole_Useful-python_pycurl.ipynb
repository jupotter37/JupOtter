{
 "cells": [
  {
   "cell_type": "markdown",
   "metadata": {},
   "source": [
    "http://pycurl.io/"
   ]
  },
  {
   "cell_type": "code",
   "execution_count": 1,
   "metadata": {},
   "outputs": [
    {
     "ename": "ImportError",
     "evalue": "dlopen(/Users/robincole/miniconda3/lib/python3.6/site-packages/pycurl.cpython-36m-darwin.so, 2): Library not loaded: @rpath/libcurl.4.dylib\n  Referenced from: /Users/robincole/miniconda3/lib/python3.6/site-packages/pycurl.cpython-36m-darwin.so\n  Reason: Incompatible library version: pycurl.cpython-36m-darwin.so requires version 9.0.0 or later, but libcurl.4.dylib provides version 7.0.0",
     "output_type": "error",
     "traceback": [
      "\u001b[0;31m---------------------------------------------------------------------------\u001b[0m",
      "\u001b[0;31mImportError\u001b[0m                               Traceback (most recent call last)",
      "\u001b[0;32m<ipython-input-1-5021bb1b82cf>\u001b[0m in \u001b[0;36m<module>\u001b[0;34m()\u001b[0m\n\u001b[1;32m      1\u001b[0m \u001b[0;32mimport\u001b[0m \u001b[0msys\u001b[0m\u001b[0;34m\u001b[0m\u001b[0m\n\u001b[0;32m----> 2\u001b[0;31m \u001b[0;32mimport\u001b[0m \u001b[0mpycurl\u001b[0m\u001b[0;34m\u001b[0m\u001b[0m\n\u001b[0m\u001b[1;32m      3\u001b[0m \u001b[0;34m\u001b[0m\u001b[0m\n\u001b[1;32m      4\u001b[0m \u001b[0mPY3\u001b[0m \u001b[0;34m=\u001b[0m \u001b[0msys\u001b[0m\u001b[0;34m.\u001b[0m\u001b[0mversion_info\u001b[0m\u001b[0;34m[\u001b[0m\u001b[0;36m0\u001b[0m\u001b[0;34m]\u001b[0m \u001b[0;34m>\u001b[0m \u001b[0;36m2\u001b[0m\u001b[0;34m\u001b[0m\u001b[0m\n\u001b[1;32m      5\u001b[0m \u001b[0;34m\u001b[0m\u001b[0m\n",
      "\u001b[0;31mImportError\u001b[0m: dlopen(/Users/robincole/miniconda3/lib/python3.6/site-packages/pycurl.cpython-36m-darwin.so, 2): Library not loaded: @rpath/libcurl.4.dylib\n  Referenced from: /Users/robincole/miniconda3/lib/python3.6/site-packages/pycurl.cpython-36m-darwin.so\n  Reason: Incompatible library version: pycurl.cpython-36m-darwin.so requires version 9.0.0 or later, but libcurl.4.dylib provides version 7.0.0"
     ]
    }
   ],
   "source": [
    "import sys\n",
    "import pycurl\n",
    "\n",
    "PY3 = sys.version_info[0] > 2\n",
    "\n",
    "\n",
    "class Test:\n",
    "    def __init__(self):\n",
    "        self.contents = ''\n",
    "        if PY3:\n",
    "            self.contents = self.contents.encode('ascii')\n",
    "\n",
    "    def body_callback(self, buf):\n",
    "        self.contents = self.contents + buf\n",
    "\n",
    "\n",
    "sys.stderr.write(\"Testing %s\\n\" % pycurl.version)\n",
    "\n",
    "t = Test()\n",
    "c = pycurl.Curl()\n",
    "c.setopt(c.URL, 'https://curl.haxx.se/dev/')\n",
    "c.setopt(c.WRITEFUNCTION, t.body_callback)\n",
    "c.perform()\n",
    "c.close()\n",
    "\n",
    "print(t.contents)"
   ]
  },
  {
   "cell_type": "code",
   "execution_count": null,
   "metadata": {},
   "outputs": [],
   "source": []
  }
 ],
 "metadata": {
  "kernelspec": {
   "display_name": "Python 3",
   "language": "python",
   "name": "python3"
  },
  "language_info": {
   "codemirror_mode": {
    "name": "ipython",
    "version": 3
   },
   "file_extension": ".py",
   "mimetype": "text/x-python",
   "name": "python",
   "nbconvert_exporter": "python",
   "pygments_lexer": "ipython3",
   "version": "3.6.4"
  }
 },
 "nbformat": 4,
 "nbformat_minor": 2
}
