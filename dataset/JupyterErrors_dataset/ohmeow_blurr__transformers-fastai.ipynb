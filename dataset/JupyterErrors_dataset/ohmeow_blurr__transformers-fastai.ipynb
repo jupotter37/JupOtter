{
 "cells": [
  {
   "cell_type": "code",
   "execution_count": null,
   "metadata": {},
   "outputs": [],
   "source": [
    "%reload_ext autoreload\n",
    "%autoreload 2\n",
    "%matplotlib inline\n",
    "\n",
    "import sys\n",
    "sys.path.append('..')"
   ]
  },
  {
   "cell_type": "code",
   "execution_count": null,
   "metadata": {},
   "outputs": [],
   "source": [
    "import pdb, sys, inspect\n",
    "from enum import Enum\n",
    "\n",
    "import pandas as pd\n",
    "import torch\n",
    "\n",
    "from transformers import *\n",
    "from fastai2.text.all import *"
   ]
  },
  {
   "cell_type": "code",
   "execution_count": null,
   "metadata": {},
   "outputs": [
    {
     "name": "stdout",
     "output_type": "stream",
     "text": [
      "Using GPU #1: GeForce GTX 1080 Ti\n"
     ]
    }
   ],
   "source": [
    "torch.cuda.set_device(1)\n",
    "print(f'Using GPU #{torch.cuda.current_device()}: {torch.cuda.get_device_name()}')"
   ]
  },
  {
   "cell_type": "code",
   "execution_count": null,
   "metadata": {},
   "outputs": [
    {
     "data": {
      "text/plain": [
       "([transformers.configuration_distilbert.DistilBertConfig,\n",
       "  transformers.configuration_albert.AlbertConfig,\n",
       "  transformers.configuration_roberta.RobertaConfig,\n",
       "  transformers.configuration_bert.BertConfig,\n",
       "  transformers.configuration_xlnet.XLNetConfig,\n",
       "  transformers.configuration_flaubert.FlaubertConfig,\n",
       "  transformers.configuration_xlm.XLMConfig],\n",
       " ('distilbert', 'albert', 'roberta', 'bert', 'xlnet', 'flaubert', 'xlm'))"
      ]
     },
     "execution_count": null,
     "metadata": {},
     "output_type": "execute_result"
    }
   ],
   "source": [
    "MODEL_FOR_QUESTION_ANSWERING_MAPPING\n",
    "MODEL_FOR_TOKEN_CLASSIFICATION_MAPPING\n",
    "MODEL_MAPPING\n",
    "\n",
    "MODEL_CONFIG_CLASSES = list(MODEL_FOR_QUESTION_ANSWERING_MAPPING.keys())\n",
    "MODEL_TYPES = tuple(conf.model_type for conf in MODEL_CONFIG_CLASSES)\n",
    "ALL_MODELS = sum((tuple(conf.pretrained_config_archive_map.keys()) for conf in MODEL_CONFIG_CLASSES), (),)\n",
    "MODEL_CONFIG_CLASSES, MODEL_TYPES, #ALL_MODELS"
   ]
  },
  {
   "cell_type": "markdown",
   "metadata": {},
   "source": [
    "## Utility Methods"
   ]
  },
  {
   "cell_type": "code",
   "execution_count": null,
   "metadata": {},
   "outputs": [],
   "source": [
    "# converts string representation to class\n",
    "def str_to_class(classname):\n",
    "    return getattr(sys.modules[__name__], classname)"
   ]
  },
  {
   "cell_type": "markdown",
   "metadata": {},
   "source": [
    "## Class Inspection & Querying"
   ]
  },
  {
   "cell_type": "markdown",
   "metadata": {},
   "source": [
    "**Notes**:\n",
    "\n",
    "[1] There are \"three standard classes required to use each model: **configuration, models and tokenizer**.\"\n",
    "\n",
    "[2] All three standard classes can be initialized [via] `from_pretrained()`.  This method will download (as needed), cache, and load the pre-trained instace from the library or via the filesystem. \n",
    "\n",
    "**Models**: All derive from `nn.Module` (e.g., `BertModel`)\n",
    "\n",
    "**Configuration**: Stores configuration required to **build a model** (e.g., `BertConfig`). \"*If you are using a pretrained model* without any modification, *creating the model will automatically take care of instantiating the configuration* (which is part of the model).\"\n",
    "\n",
    "**Tokenizer**: Stores the vocab for each model and provides methods to encode/decode strings and provide the various embeddings required to be fed into a model.\n",
    "\n",
    "**`from_pretrained()`**: To instantiate any of the above classes using a friendly name included in the library (`bert-base-uncased`) or from a path.\n",
    "\n",
    "**`save_pretrained()`**: To save any of the classes locally so it can be re-loaded using `from_pretrained()`"
   ]
  },
  {
   "cell_type": "code",
   "execution_count": null,
   "metadata": {},
   "outputs": [
    {
     "data": {
      "text/plain": [
       "[('AdamW', transformers.optimization.AdamW),\n",
       " ('AdaptiveEmbedding', transformers.modeling_transfo_xl.AdaptiveEmbedding),\n",
       " ('AlbertConfig', transformers.configuration_albert.AlbertConfig),\n",
       " ('AlbertForMaskedLM', transformers.modeling_albert.AlbertForMaskedLM),\n",
       " ('AlbertForQuestionAnswering',\n",
       "  transformers.modeling_albert.AlbertForQuestionAnswering)]"
      ]
     },
     "execution_count": null,
     "metadata": {},
     "output_type": "execute_result"
    }
   ],
   "source": [
    "transformer_classes = inspect.getmembers(sys.modules[__name__], \n",
    "                                         lambda member: inspect.isclass(member)\n",
    "                                                         and member.__module__.startswith('transformers.'))\n",
    "\n",
    "transformer_classes[:5]"
   ]
  },
  {
   "cell_type": "code",
   "execution_count": null,
   "metadata": {},
   "outputs": [
    {
     "data": {
      "text/html": [
       "<div>\n",
       "<style scoped>\n",
       "    .dataframe tbody tr th:only-of-type {\n",
       "        vertical-align: middle;\n",
       "    }\n",
       "\n",
       "    .dataframe tbody tr th {\n",
       "        vertical-align: top;\n",
       "    }\n",
       "\n",
       "    .dataframe thead th {\n",
       "        text-align: right;\n",
       "    }\n",
       "</style>\n",
       "<table border=\"1\" class=\"dataframe\">\n",
       "  <thead>\n",
       "    <tr style=\"text-align: right;\">\n",
       "      <th></th>\n",
       "      <th>class_name</th>\n",
       "      <th>class_location</th>\n",
       "    </tr>\n",
       "  </thead>\n",
       "  <tbody>\n",
       "    <tr>\n",
       "      <th>0</th>\n",
       "      <td>AdamW</td>\n",
       "      <td>&lt;class 'transformers.optimization.AdamW'&gt;</td>\n",
       "    </tr>\n",
       "    <tr>\n",
       "      <th>1</th>\n",
       "      <td>AdaptiveEmbedding</td>\n",
       "      <td>&lt;class 'transformers.modeling_transfo_xl.AdaptiveEmbedding'&gt;</td>\n",
       "    </tr>\n",
       "    <tr>\n",
       "      <th>2</th>\n",
       "      <td>AlbertConfig</td>\n",
       "      <td>&lt;class 'transformers.configuration_albert.AlbertConfig'&gt;</td>\n",
       "    </tr>\n",
       "    <tr>\n",
       "      <th>3</th>\n",
       "      <td>AlbertForMaskedLM</td>\n",
       "      <td>&lt;class 'transformers.modeling_albert.AlbertForMaskedLM'&gt;</td>\n",
       "    </tr>\n",
       "    <tr>\n",
       "      <th>4</th>\n",
       "      <td>AlbertForQuestionAnswering</td>\n",
       "      <td>&lt;class 'transformers.modeling_albert.AlbertForQuestionAnswering'&gt;</td>\n",
       "    </tr>\n",
       "  </tbody>\n",
       "</table>\n",
       "</div>"
      ],
      "text/plain": [
       "                   class_name  \\\n",
       "0                       AdamW   \n",
       "1           AdaptiveEmbedding   \n",
       "2                AlbertConfig   \n",
       "3           AlbertForMaskedLM   \n",
       "4  AlbertForQuestionAnswering   \n",
       "\n",
       "                                                      class_location  \n",
       "0                          <class 'transformers.optimization.AdamW'>  \n",
       "1       <class 'transformers.modeling_transfo_xl.AdaptiveEmbedding'>  \n",
       "2           <class 'transformers.configuration_albert.AlbertConfig'>  \n",
       "3           <class 'transformers.modeling_albert.AlbertForMaskedLM'>  \n",
       "4  <class 'transformers.modeling_albert.AlbertForQuestionAnswering'>  "
      ]
     },
     "execution_count": null,
     "metadata": {},
     "output_type": "execute_result"
    }
   ],
   "source": [
    "df = pd.DataFrame(transformer_classes, columns=['class_name', 'class_location'])\n",
    "df.head()"
   ]
  },
  {
   "cell_type": "code",
   "execution_count": null,
   "metadata": {},
   "outputs": [
    {
     "data": {
      "text/html": [
       "<div>\n",
       "<style scoped>\n",
       "    .dataframe tbody tr th:only-of-type {\n",
       "        vertical-align: middle;\n",
       "    }\n",
       "\n",
       "    .dataframe tbody tr th {\n",
       "        vertical-align: top;\n",
       "    }\n",
       "\n",
       "    .dataframe thead th {\n",
       "        text-align: right;\n",
       "    }\n",
       "</style>\n",
       "<table border=\"1\" class=\"dataframe\">\n",
       "  <thead>\n",
       "    <tr style=\"text-align: right;\">\n",
       "      <th></th>\n",
       "      <th>class_name</th>\n",
       "      <th>class_location</th>\n",
       "      <th>module</th>\n",
       "    </tr>\n",
       "  </thead>\n",
       "  <tbody>\n",
       "    <tr>\n",
       "      <th>0</th>\n",
       "      <td>AdamW</td>\n",
       "      <td>&lt;class 'transformers.optimization.AdamW'&gt;</td>\n",
       "      <td>transformers.optimization</td>\n",
       "    </tr>\n",
       "    <tr>\n",
       "      <th>1</th>\n",
       "      <td>AdaptiveEmbedding</td>\n",
       "      <td>&lt;class 'transformers.modeling_transfo_xl.AdaptiveEmbedding'&gt;</td>\n",
       "      <td>transformers.modeling_transfo_xl</td>\n",
       "    </tr>\n",
       "    <tr>\n",
       "      <th>2</th>\n",
       "      <td>AlbertConfig</td>\n",
       "      <td>&lt;class 'transformers.configuration_albert.AlbertConfig'&gt;</td>\n",
       "      <td>transformers.configuration_albert</td>\n",
       "    </tr>\n",
       "    <tr>\n",
       "      <th>3</th>\n",
       "      <td>AlbertForMaskedLM</td>\n",
       "      <td>&lt;class 'transformers.modeling_albert.AlbertForMaskedLM'&gt;</td>\n",
       "      <td>transformers.modeling_albert</td>\n",
       "    </tr>\n",
       "    <tr>\n",
       "      <th>4</th>\n",
       "      <td>AlbertForQuestionAnswering</td>\n",
       "      <td>&lt;class 'transformers.modeling_albert.AlbertForQuestionAnswering'&gt;</td>\n",
       "      <td>transformers.modeling_albert</td>\n",
       "    </tr>\n",
       "  </tbody>\n",
       "</table>\n",
       "</div>"
      ],
      "text/plain": [
       "                   class_name  \\\n",
       "0                       AdamW   \n",
       "1           AdaptiveEmbedding   \n",
       "2                AlbertConfig   \n",
       "3           AlbertForMaskedLM   \n",
       "4  AlbertForQuestionAnswering   \n",
       "\n",
       "                                                      class_location  \\\n",
       "0                          <class 'transformers.optimization.AdamW'>   \n",
       "1       <class 'transformers.modeling_transfo_xl.AdaptiveEmbedding'>   \n",
       "2           <class 'transformers.configuration_albert.AlbertConfig'>   \n",
       "3           <class 'transformers.modeling_albert.AlbertForMaskedLM'>   \n",
       "4  <class 'transformers.modeling_albert.AlbertForQuestionAnswering'>   \n",
       "\n",
       "                              module  \n",
       "0          transformers.optimization  \n",
       "1   transformers.modeling_transfo_xl  \n",
       "2  transformers.configuration_albert  \n",
       "3       transformers.modeling_albert  \n",
       "4       transformers.modeling_albert  "
      ]
     },
     "execution_count": null,
     "metadata": {},
     "output_type": "execute_result"
    }
   ],
   "source": [
    "df['module'] = df.class_location.apply(lambda v: v.__module__); df.head()"
   ]
  },
  {
   "cell_type": "code",
   "execution_count": null,
   "metadata": {},
   "outputs": [
    {
     "data": {
      "text/html": [
       "<div>\n",
       "<style scoped>\n",
       "    .dataframe tbody tr th:only-of-type {\n",
       "        vertical-align: middle;\n",
       "    }\n",
       "\n",
       "    .dataframe tbody tr th {\n",
       "        vertical-align: top;\n",
       "    }\n",
       "\n",
       "    .dataframe thead th {\n",
       "        text-align: right;\n",
       "    }\n",
       "</style>\n",
       "<table border=\"1\" class=\"dataframe\">\n",
       "  <thead>\n",
       "    <tr style=\"text-align: right;\">\n",
       "      <th></th>\n",
       "      <th>class_name</th>\n",
       "      <th>module</th>\n",
       "    </tr>\n",
       "  </thead>\n",
       "  <tbody>\n",
       "    <tr>\n",
       "      <th>0</th>\n",
       "      <td>AdamW</td>\n",
       "      <td>transformers.optimization</td>\n",
       "    </tr>\n",
       "    <tr>\n",
       "      <th>1</th>\n",
       "      <td>AdaptiveEmbedding</td>\n",
       "      <td>transformers.modeling_transfo_xl</td>\n",
       "    </tr>\n",
       "    <tr>\n",
       "      <th>2</th>\n",
       "      <td>AlbertConfig</td>\n",
       "      <td>transformers.configuration_albert</td>\n",
       "    </tr>\n",
       "    <tr>\n",
       "      <th>3</th>\n",
       "      <td>AlbertForMaskedLM</td>\n",
       "      <td>transformers.modeling_albert</td>\n",
       "    </tr>\n",
       "    <tr>\n",
       "      <th>4</th>\n",
       "      <td>AlbertForQuestionAnswering</td>\n",
       "      <td>transformers.modeling_albert</td>\n",
       "    </tr>\n",
       "  </tbody>\n",
       "</table>\n",
       "</div>"
      ],
      "text/plain": [
       "                   class_name                             module\n",
       "0                       AdamW          transformers.optimization\n",
       "1           AdaptiveEmbedding   transformers.modeling_transfo_xl\n",
       "2                AlbertConfig  transformers.configuration_albert\n",
       "3           AlbertForMaskedLM       transformers.modeling_albert\n",
       "4  AlbertForQuestionAnswering       transformers.modeling_albert"
      ]
     },
     "execution_count": null,
     "metadata": {},
     "output_type": "execute_result"
    }
   ],
   "source": [
    "df.drop(labels=['class_location'], axis=1, inplace=True)\n",
    "df.head()"
   ]
  },
  {
   "cell_type": "code",
   "execution_count": null,
   "metadata": {},
   "outputs": [],
   "source": [
    "module_parts_df = df.module.str.split(\".\", n = -1, expand = True) "
   ]
  },
  {
   "cell_type": "code",
   "execution_count": null,
   "metadata": {},
   "outputs": [
    {
     "data": {
      "text/html": [
       "<div>\n",
       "<style scoped>\n",
       "    .dataframe tbody tr th:only-of-type {\n",
       "        vertical-align: middle;\n",
       "    }\n",
       "\n",
       "    .dataframe tbody tr th {\n",
       "        vertical-align: top;\n",
       "    }\n",
       "\n",
       "    .dataframe thead th {\n",
       "        text-align: right;\n",
       "    }\n",
       "</style>\n",
       "<table border=\"1\" class=\"dataframe\">\n",
       "  <thead>\n",
       "    <tr style=\"text-align: right;\">\n",
       "      <th></th>\n",
       "      <th>class_name</th>\n",
       "      <th>module</th>\n",
       "      <th>module_part_0</th>\n",
       "      <th>module_part_1</th>\n",
       "      <th>module_part_2</th>\n",
       "      <th>module_part_3</th>\n",
       "    </tr>\n",
       "  </thead>\n",
       "  <tbody>\n",
       "    <tr>\n",
       "      <th>0</th>\n",
       "      <td>AdamW</td>\n",
       "      <td>transformers.optimization</td>\n",
       "      <td>transformers</td>\n",
       "      <td>optimization</td>\n",
       "      <td>None</td>\n",
       "      <td>None</td>\n",
       "    </tr>\n",
       "    <tr>\n",
       "      <th>1</th>\n",
       "      <td>AdaptiveEmbedding</td>\n",
       "      <td>transformers.modeling_transfo_xl</td>\n",
       "      <td>transformers</td>\n",
       "      <td>modeling_transfo_xl</td>\n",
       "      <td>None</td>\n",
       "      <td>None</td>\n",
       "    </tr>\n",
       "    <tr>\n",
       "      <th>2</th>\n",
       "      <td>AlbertConfig</td>\n",
       "      <td>transformers.configuration_albert</td>\n",
       "      <td>transformers</td>\n",
       "      <td>configuration_albert</td>\n",
       "      <td>None</td>\n",
       "      <td>None</td>\n",
       "    </tr>\n",
       "    <tr>\n",
       "      <th>3</th>\n",
       "      <td>AlbertForMaskedLM</td>\n",
       "      <td>transformers.modeling_albert</td>\n",
       "      <td>transformers</td>\n",
       "      <td>modeling_albert</td>\n",
       "      <td>None</td>\n",
       "      <td>None</td>\n",
       "    </tr>\n",
       "    <tr>\n",
       "      <th>4</th>\n",
       "      <td>AlbertForQuestionAnswering</td>\n",
       "      <td>transformers.modeling_albert</td>\n",
       "      <td>transformers</td>\n",
       "      <td>modeling_albert</td>\n",
       "      <td>None</td>\n",
       "      <td>None</td>\n",
       "    </tr>\n",
       "  </tbody>\n",
       "</table>\n",
       "</div>"
      ],
      "text/plain": [
       "                   class_name                             module  \\\n",
       "0                       AdamW          transformers.optimization   \n",
       "1           AdaptiveEmbedding   transformers.modeling_transfo_xl   \n",
       "2                AlbertConfig  transformers.configuration_albert   \n",
       "3           AlbertForMaskedLM       transformers.modeling_albert   \n",
       "4  AlbertForQuestionAnswering       transformers.modeling_albert   \n",
       "\n",
       "  module_part_0         module_part_1 module_part_2 module_part_3  \n",
       "0  transformers          optimization          None          None  \n",
       "1  transformers   modeling_transfo_xl          None          None  \n",
       "2  transformers  configuration_albert          None          None  \n",
       "3  transformers       modeling_albert          None          None  \n",
       "4  transformers       modeling_albert          None          None  "
      ]
     },
     "execution_count": null,
     "metadata": {},
     "output_type": "execute_result"
    }
   ],
   "source": [
    "for i in range(len(module_parts_df.columns)):\n",
    "    df[f'module_part_{i}'] = module_parts_df[i]\n",
    "    \n",
    "df.head()"
   ]
  },
  {
   "cell_type": "code",
   "execution_count": null,
   "metadata": {},
   "outputs": [
    {
     "data": {
      "text/html": [
       "<div>\n",
       "<style scoped>\n",
       "    .dataframe tbody tr th:only-of-type {\n",
       "        vertical-align: middle;\n",
       "    }\n",
       "\n",
       "    .dataframe tbody tr th {\n",
       "        vertical-align: top;\n",
       "    }\n",
       "\n",
       "    .dataframe thead th {\n",
       "        text-align: right;\n",
       "    }\n",
       "</style>\n",
       "<table border=\"1\" class=\"dataframe\">\n",
       "  <thead>\n",
       "    <tr style=\"text-align: right;\">\n",
       "      <th></th>\n",
       "      <th>0</th>\n",
       "      <th>1</th>\n",
       "    </tr>\n",
       "  </thead>\n",
       "  <tbody>\n",
       "    <tr>\n",
       "      <th>0</th>\n",
       "      <td>optimization</td>\n",
       "      <td>None</td>\n",
       "    </tr>\n",
       "    <tr>\n",
       "      <th>1</th>\n",
       "      <td>modeling</td>\n",
       "      <td>transfo_xl</td>\n",
       "    </tr>\n",
       "    <tr>\n",
       "      <th>2</th>\n",
       "      <td>configuration</td>\n",
       "      <td>albert</td>\n",
       "    </tr>\n",
       "    <tr>\n",
       "      <th>3</th>\n",
       "      <td>modeling</td>\n",
       "      <td>albert</td>\n",
       "    </tr>\n",
       "    <tr>\n",
       "      <th>4</th>\n",
       "      <td>modeling</td>\n",
       "      <td>albert</td>\n",
       "    </tr>\n",
       "  </tbody>\n",
       "</table>\n",
       "</div>"
      ],
      "text/plain": [
       "               0           1\n",
       "0   optimization        None\n",
       "1       modeling  transfo_xl\n",
       "2  configuration      albert\n",
       "3       modeling      albert\n",
       "4       modeling      albert"
      ]
     },
     "execution_count": null,
     "metadata": {},
     "output_type": "execute_result"
    }
   ],
   "source": [
    "module_part_1_df = df.module_part_1.str.split(\"_\", n = 1, expand = True) \n",
    "module_part_1_df.head()"
   ]
  },
  {
   "cell_type": "code",
   "execution_count": null,
   "metadata": {},
   "outputs": [
    {
     "data": {
      "text/html": [
       "<div>\n",
       "<style scoped>\n",
       "    .dataframe tbody tr th:only-of-type {\n",
       "        vertical-align: middle;\n",
       "    }\n",
       "\n",
       "    .dataframe tbody tr th {\n",
       "        vertical-align: top;\n",
       "    }\n",
       "\n",
       "    .dataframe thead th {\n",
       "        text-align: right;\n",
       "    }\n",
       "</style>\n",
       "<table border=\"1\" class=\"dataframe\">\n",
       "  <thead>\n",
       "    <tr style=\"text-align: right;\">\n",
       "      <th></th>\n",
       "      <th>class_name</th>\n",
       "      <th>module</th>\n",
       "      <th>module_part_0</th>\n",
       "      <th>module_part_1</th>\n",
       "      <th>module_part_2</th>\n",
       "      <th>module_part_3</th>\n",
       "      <th>functional_area</th>\n",
       "      <th>arch</th>\n",
       "    </tr>\n",
       "  </thead>\n",
       "  <tbody>\n",
       "    <tr>\n",
       "      <th>0</th>\n",
       "      <td>AdamW</td>\n",
       "      <td>transformers.optimization</td>\n",
       "      <td>transformers</td>\n",
       "      <td>optimization</td>\n",
       "      <td>None</td>\n",
       "      <td>None</td>\n",
       "      <td>optimization</td>\n",
       "      <td>None</td>\n",
       "    </tr>\n",
       "    <tr>\n",
       "      <th>1</th>\n",
       "      <td>AdaptiveEmbedding</td>\n",
       "      <td>transformers.modeling_transfo_xl</td>\n",
       "      <td>transformers</td>\n",
       "      <td>modeling_transfo_xl</td>\n",
       "      <td>None</td>\n",
       "      <td>None</td>\n",
       "      <td>modeling</td>\n",
       "      <td>transfo_xl</td>\n",
       "    </tr>\n",
       "    <tr>\n",
       "      <th>2</th>\n",
       "      <td>AlbertConfig</td>\n",
       "      <td>transformers.configuration_albert</td>\n",
       "      <td>transformers</td>\n",
       "      <td>configuration_albert</td>\n",
       "      <td>None</td>\n",
       "      <td>None</td>\n",
       "      <td>configuration</td>\n",
       "      <td>albert</td>\n",
       "    </tr>\n",
       "    <tr>\n",
       "      <th>3</th>\n",
       "      <td>AlbertForMaskedLM</td>\n",
       "      <td>transformers.modeling_albert</td>\n",
       "      <td>transformers</td>\n",
       "      <td>modeling_albert</td>\n",
       "      <td>None</td>\n",
       "      <td>None</td>\n",
       "      <td>modeling</td>\n",
       "      <td>albert</td>\n",
       "    </tr>\n",
       "    <tr>\n",
       "      <th>4</th>\n",
       "      <td>AlbertForQuestionAnswering</td>\n",
       "      <td>transformers.modeling_albert</td>\n",
       "      <td>transformers</td>\n",
       "      <td>modeling_albert</td>\n",
       "      <td>None</td>\n",
       "      <td>None</td>\n",
       "      <td>modeling</td>\n",
       "      <td>albert</td>\n",
       "    </tr>\n",
       "  </tbody>\n",
       "</table>\n",
       "</div>"
      ],
      "text/plain": [
       "                   class_name                             module  \\\n",
       "0                       AdamW          transformers.optimization   \n",
       "1           AdaptiveEmbedding   transformers.modeling_transfo_xl   \n",
       "2                AlbertConfig  transformers.configuration_albert   \n",
       "3           AlbertForMaskedLM       transformers.modeling_albert   \n",
       "4  AlbertForQuestionAnswering       transformers.modeling_albert   \n",
       "\n",
       "  module_part_0         module_part_1 module_part_2 module_part_3  \\\n",
       "0  transformers          optimization          None          None   \n",
       "1  transformers   modeling_transfo_xl          None          None   \n",
       "2  transformers  configuration_albert          None          None   \n",
       "3  transformers       modeling_albert          None          None   \n",
       "4  transformers       modeling_albert          None          None   \n",
       "\n",
       "  functional_area        arch  \n",
       "0    optimization        None  \n",
       "1        modeling  transfo_xl  \n",
       "2   configuration      albert  \n",
       "3        modeling      albert  \n",
       "4        modeling      albert  "
      ]
     },
     "execution_count": null,
     "metadata": {},
     "output_type": "execute_result"
    }
   ],
   "source": [
    "df[['functional_area', 'arch']] = module_part_1_df\n",
    "df.head()"
   ]
  },
  {
   "cell_type": "markdown",
   "metadata": {},
   "source": [
    "Look custom, task-based implementations of models (indicated by `<model>For<task>`)"
   ]
  },
  {
   "cell_type": "code",
   "execution_count": null,
   "metadata": {},
   "outputs": [
    {
     "data": {
      "text/html": [
       "<div>\n",
       "<style scoped>\n",
       "    .dataframe tbody tr th:only-of-type {\n",
       "        vertical-align: middle;\n",
       "    }\n",
       "\n",
       "    .dataframe tbody tr th {\n",
       "        vertical-align: top;\n",
       "    }\n",
       "\n",
       "    .dataframe thead th {\n",
       "        text-align: right;\n",
       "    }\n",
       "</style>\n",
       "<table border=\"1\" class=\"dataframe\">\n",
       "  <thead>\n",
       "    <tr style=\"text-align: right;\">\n",
       "      <th></th>\n",
       "      <th>0</th>\n",
       "      <th>1</th>\n",
       "    </tr>\n",
       "  </thead>\n",
       "  <tbody>\n",
       "    <tr>\n",
       "      <th>1</th>\n",
       "      <td>AdaptiveEmbedding</td>\n",
       "      <td>None</td>\n",
       "    </tr>\n",
       "    <tr>\n",
       "      <th>3</th>\n",
       "      <td>Albert</td>\n",
       "      <td>MaskedLM</td>\n",
       "    </tr>\n",
       "    <tr>\n",
       "      <th>4</th>\n",
       "      <td>Albert</td>\n",
       "      <td>QuestionAnswering</td>\n",
       "    </tr>\n",
       "    <tr>\n",
       "      <th>5</th>\n",
       "      <td>Albert</td>\n",
       "      <td>SequenceClassification</td>\n",
       "    </tr>\n",
       "    <tr>\n",
       "      <th>6</th>\n",
       "      <td>Albert</td>\n",
       "      <td>TokenClassification</td>\n",
       "    </tr>\n",
       "  </tbody>\n",
       "</table>\n",
       "</div>"
      ],
      "text/plain": [
       "                   0                       1\n",
       "1  AdaptiveEmbedding                    None\n",
       "3             Albert                MaskedLM\n",
       "4             Albert       QuestionAnswering\n",
       "5             Albert  SequenceClassification\n",
       "6             Albert     TokenClassification"
      ]
     },
     "execution_count": null,
     "metadata": {},
     "output_type": "execute_result"
    }
   ],
   "source": [
    "model_type_df = df[(df.functional_area == 'modeling')].class_name.str.split('For', n=1, expand=True)\n",
    "model_type_df.head()"
   ]
  },
  {
   "cell_type": "code",
   "execution_count": null,
   "metadata": {},
   "outputs": [],
   "source": [
    "model_type_df[1] = np.where(model_type_df[1].notnull(), 'For' + model_type_df[1].astype(str), model_type_df[1])\n",
    "df['model_task'] = model_type_df[1]"
   ]
  },
  {
   "cell_type": "markdown",
   "metadata": {},
   "source": [
    "Look custom, task-based implementations of models (indicated by `<model>With<task>`)"
   ]
  },
  {
   "cell_type": "code",
   "execution_count": null,
   "metadata": {},
   "outputs": [
    {
     "data": {
      "text/html": [
       "<div>\n",
       "<style scoped>\n",
       "    .dataframe tbody tr th:only-of-type {\n",
       "        vertical-align: middle;\n",
       "    }\n",
       "\n",
       "    .dataframe tbody tr th {\n",
       "        vertical-align: top;\n",
       "    }\n",
       "\n",
       "    .dataframe thead th {\n",
       "        text-align: right;\n",
       "    }\n",
       "</style>\n",
       "<table border=\"1\" class=\"dataframe\">\n",
       "  <thead>\n",
       "    <tr style=\"text-align: right;\">\n",
       "      <th></th>\n",
       "      <th>0</th>\n",
       "      <th>1</th>\n",
       "    </tr>\n",
       "  </thead>\n",
       "  <tbody>\n",
       "    <tr>\n",
       "      <th>1</th>\n",
       "      <td>AdaptiveEmbedding</td>\n",
       "      <td>None</td>\n",
       "    </tr>\n",
       "    <tr>\n",
       "      <th>3</th>\n",
       "      <td>AlbertForMaskedLM</td>\n",
       "      <td>None</td>\n",
       "    </tr>\n",
       "    <tr>\n",
       "      <th>4</th>\n",
       "      <td>AlbertForQuestionAnswering</td>\n",
       "      <td>None</td>\n",
       "    </tr>\n",
       "    <tr>\n",
       "      <th>5</th>\n",
       "      <td>AlbertForSequenceClassification</td>\n",
       "      <td>None</td>\n",
       "    </tr>\n",
       "    <tr>\n",
       "      <th>6</th>\n",
       "      <td>AlbertForTokenClassification</td>\n",
       "      <td>None</td>\n",
       "    </tr>\n",
       "  </tbody>\n",
       "</table>\n",
       "</div>"
      ],
      "text/plain": [
       "                                 0     1\n",
       "1                AdaptiveEmbedding  None\n",
       "3                AlbertForMaskedLM  None\n",
       "4       AlbertForQuestionAnswering  None\n",
       "5  AlbertForSequenceClassification  None\n",
       "6     AlbertForTokenClassification  None"
      ]
     },
     "execution_count": null,
     "metadata": {},
     "output_type": "execute_result"
    }
   ],
   "source": [
    "model_type_df = df[(df.functional_area == 'modeling')].class_name.str.split('With', n=1, expand=True)\n",
    "model_type_df.head()"
   ]
  },
  {
   "cell_type": "code",
   "execution_count": null,
   "metadata": {},
   "outputs": [],
   "source": [
    "model_type_df[1] = np.where(model_type_df[1].notnull(), \n",
    "                            'With' + model_type_df[1].astype(str), \n",
    "                            df[(df.functional_area == 'modeling')].model_task)\n",
    "\n",
    "df['model_task'] = model_type_df[1]"
   ]
  },
  {
   "cell_type": "code",
   "execution_count": null,
   "metadata": {},
   "outputs": [
    {
     "data": {
      "text/html": [
       "<div>\n",
       "<style scoped>\n",
       "    .dataframe tbody tr th:only-of-type {\n",
       "        vertical-align: middle;\n",
       "    }\n",
       "\n",
       "    .dataframe tbody tr th {\n",
       "        vertical-align: top;\n",
       "    }\n",
       "\n",
       "    .dataframe thead th {\n",
       "        text-align: right;\n",
       "    }\n",
       "</style>\n",
       "<table border=\"1\" class=\"dataframe\">\n",
       "  <thead>\n",
       "    <tr style=\"text-align: right;\">\n",
       "      <th></th>\n",
       "      <th>class_name</th>\n",
       "      <th>module</th>\n",
       "      <th>module_part_0</th>\n",
       "      <th>module_part_1</th>\n",
       "      <th>module_part_2</th>\n",
       "      <th>module_part_3</th>\n",
       "      <th>functional_area</th>\n",
       "      <th>arch</th>\n",
       "      <th>model_task</th>\n",
       "    </tr>\n",
       "  </thead>\n",
       "  <tbody>\n",
       "    <tr>\n",
       "      <th>0</th>\n",
       "      <td>AdamW</td>\n",
       "      <td>transformers.optimization</td>\n",
       "      <td>transformers</td>\n",
       "      <td>optimization</td>\n",
       "      <td>None</td>\n",
       "      <td>None</td>\n",
       "      <td>optimization</td>\n",
       "      <td>None</td>\n",
       "      <td>NaN</td>\n",
       "    </tr>\n",
       "    <tr>\n",
       "      <th>1</th>\n",
       "      <td>AdaptiveEmbedding</td>\n",
       "      <td>transformers.modeling_transfo_xl</td>\n",
       "      <td>transformers</td>\n",
       "      <td>modeling_transfo_xl</td>\n",
       "      <td>None</td>\n",
       "      <td>None</td>\n",
       "      <td>modeling</td>\n",
       "      <td>transfo_xl</td>\n",
       "      <td>None</td>\n",
       "    </tr>\n",
       "    <tr>\n",
       "      <th>2</th>\n",
       "      <td>AlbertConfig</td>\n",
       "      <td>transformers.configuration_albert</td>\n",
       "      <td>transformers</td>\n",
       "      <td>configuration_albert</td>\n",
       "      <td>None</td>\n",
       "      <td>None</td>\n",
       "      <td>configuration</td>\n",
       "      <td>albert</td>\n",
       "      <td>NaN</td>\n",
       "    </tr>\n",
       "    <tr>\n",
       "      <th>3</th>\n",
       "      <td>AlbertForMaskedLM</td>\n",
       "      <td>transformers.modeling_albert</td>\n",
       "      <td>transformers</td>\n",
       "      <td>modeling_albert</td>\n",
       "      <td>None</td>\n",
       "      <td>None</td>\n",
       "      <td>modeling</td>\n",
       "      <td>albert</td>\n",
       "      <td>ForMaskedLM</td>\n",
       "    </tr>\n",
       "    <tr>\n",
       "      <th>4</th>\n",
       "      <td>AlbertForQuestionAnswering</td>\n",
       "      <td>transformers.modeling_albert</td>\n",
       "      <td>transformers</td>\n",
       "      <td>modeling_albert</td>\n",
       "      <td>None</td>\n",
       "      <td>None</td>\n",
       "      <td>modeling</td>\n",
       "      <td>albert</td>\n",
       "      <td>ForQuestionAnswering</td>\n",
       "    </tr>\n",
       "  </tbody>\n",
       "</table>\n",
       "</div>"
      ],
      "text/plain": [
       "                   class_name                             module  \\\n",
       "0                       AdamW          transformers.optimization   \n",
       "1           AdaptiveEmbedding   transformers.modeling_transfo_xl   \n",
       "2                AlbertConfig  transformers.configuration_albert   \n",
       "3           AlbertForMaskedLM       transformers.modeling_albert   \n",
       "4  AlbertForQuestionAnswering       transformers.modeling_albert   \n",
       "\n",
       "  module_part_0         module_part_1 module_part_2 module_part_3  \\\n",
       "0  transformers          optimization          None          None   \n",
       "1  transformers   modeling_transfo_xl          None          None   \n",
       "2  transformers  configuration_albert          None          None   \n",
       "3  transformers       modeling_albert          None          None   \n",
       "4  transformers       modeling_albert          None          None   \n",
       "\n",
       "  functional_area        arch            model_task  \n",
       "0    optimization        None                   NaN  \n",
       "1        modeling  transfo_xl                  None  \n",
       "2   configuration      albert                   NaN  \n",
       "3        modeling      albert           ForMaskedLM  \n",
       "4        modeling      albert  ForQuestionAnswering  "
      ]
     },
     "execution_count": null,
     "metadata": {},
     "output_type": "execute_result"
    }
   ],
   "source": [
    "df.head()"
   ]
  },
  {
   "cell_type": "code",
   "execution_count": null,
   "metadata": {},
   "outputs": [
    {
     "name": "stdout",
     "output_type": "stream",
     "text": [
      "[nan, None, 'ForMaskedLM', 'ForQuestionAnswering', 'ForSequenceClassification', 'ForTokenClassification', 'ForPreTraining', 'WithLMHead', 'ForConditionalGeneration', 'ForMultipleChoice', 'ForNextSentencePrediction', 'ForQuestionAnsweringSimple', 'WithLMHeadModel', 'ForClassification']\n",
      "['optimization', 'modeling', 'configuration', 'tokenization', 'pipelines', 'data', 'benchmark', 'hf', 'modelcard', 'training']\n",
      "[None, 'processors']\n",
      "[None, 'utils', 'squad']\n"
     ]
    }
   ],
   "source": [
    "print(list(df.model_task.unique()))\n",
    "print(list(df.functional_area.unique()))\n",
    "print(list(df.module_part_2.unique()))\n",
    "print(list(df.module_part_3.unique()))"
   ]
  },
  {
   "cell_type": "code",
   "execution_count": null,
   "metadata": {},
   "outputs": [],
   "source": [
    "# look at what we're going to remove (use to verify we're just getting rid of stuff we want too)\n",
    "# df[~df['hf_class_type'].isin(['modeling', 'configuration', 'tokenization'])]"
   ]
  },
  {
   "cell_type": "code",
   "execution_count": null,
   "metadata": {},
   "outputs": [],
   "source": [
    "df = df[df['functional_area'].isin(['modeling', 'configuration', 'tokenization'])]"
   ]
  },
  {
   "cell_type": "markdown",
   "metadata": {},
   "source": [
    "### Get included architectures"
   ]
  },
  {
   "cell_type": "code",
   "execution_count": null,
   "metadata": {},
   "outputs": [],
   "source": [
    "def get_architectures(): \n",
    "    return df[(df.arch.notna()) & (df.arch != None)].arch.unique().tolist()"
   ]
  },
  {
   "cell_type": "code",
   "execution_count": null,
   "metadata": {},
   "outputs": [
    {
     "name": "stdout",
     "output_type": "stream",
     "text": [
      "['transfo_xl', 'albert', 'auto', 'bart', 'bert', 'bert_japanese', 'ctrl', 'camembert', 'utils', 'distilbert', 'electra', 'flaubert', 'gpt2', 'mmbt', 'openai', 'encoder_decoder', 'roberta', 't5', 'xlm', 'xlm_roberta', 'xlnet']\n"
     ]
    }
   ],
   "source": [
    "print(get_architectures())"
   ]
  },
  {
   "cell_type": "code",
   "execution_count": null,
   "metadata": {},
   "outputs": [],
   "source": [
    "TRANSFORMER_ARCHITECTURES = Enum('TRANSFORMER_ARCHITECTURES', get_architectures())"
   ]
  },
  {
   "cell_type": "code",
   "execution_count": null,
   "metadata": {},
   "outputs": [
    {
     "name": "stdout",
     "output_type": "stream",
     "text": [
      "(#21) [<TRANSFORMER_ARCHITECTURES.transfo_xl: 1>,<TRANSFORMER_ARCHITECTURES.albert: 2>,<TRANSFORMER_ARCHITECTURES.auto: 3>,<TRANSFORMER_ARCHITECTURES.bart: 4>,<TRANSFORMER_ARCHITECTURES.bert: 5>,<TRANSFORMER_ARCHITECTURES.bert_japanese: 6>,<TRANSFORMER_ARCHITECTURES.ctrl: 7>,<TRANSFORMER_ARCHITECTURES.camembert: 8>,<TRANSFORMER_ARCHITECTURES.utils: 9>,<TRANSFORMER_ARCHITECTURES.distilbert: 10>...]\n"
     ]
    }
   ],
   "source": [
    "print(L(TRANSFORMER_ARCHITECTURES))"
   ]
  },
  {
   "cell_type": "markdown",
   "metadata": {},
   "source": [
    "### Get an architecture's config"
   ]
  },
  {
   "cell_type": "code",
   "execution_count": null,
   "metadata": {},
   "outputs": [],
   "source": [
    "def get_config(arch): \n",
    "    return df[(df.functional_area == 'configuration') & (df.arch == arch)].class_name.values[0]"
   ]
  },
  {
   "cell_type": "code",
   "execution_count": null,
   "metadata": {},
   "outputs": [
    {
     "name": "stdout",
     "output_type": "stream",
     "text": [
      "BertConfig\n"
     ]
    }
   ],
   "source": [
    "print(get_config('bert'))"
   ]
  },
  {
   "cell_type": "markdown",
   "metadata": {},
   "source": [
    "### Get an architecture's tokenizers\n",
    "\n",
    "There may be multiple so this returns a list"
   ]
  },
  {
   "cell_type": "code",
   "execution_count": null,
   "metadata": {},
   "outputs": [],
   "source": [
    "def get_tokenizers(arch): \n",
    "    return df[(df.functional_area == 'tokenization') & (df.arch == arch)].class_name.values"
   ]
  },
  {
   "cell_type": "code",
   "execution_count": null,
   "metadata": {},
   "outputs": [
    {
     "name": "stdout",
     "output_type": "stream",
     "text": [
      "['ElectraTokenizer' 'ElectraTokenizerFast']\n"
     ]
    }
   ],
   "source": [
    "print(get_tokenizers('electra'))"
   ]
  },
  {
   "cell_type": "markdown",
   "metadata": {},
   "source": [
    "### Get included custom model tasks\n",
    "\n",
    "Get the type of tasks for which there is a custom model for (*optional: by architecture*). There are a number of customized models built for specific tasks like token classification, question/answering, LM, etc...."
   ]
  },
  {
   "cell_type": "code",
   "execution_count": null,
   "metadata": {},
   "outputs": [],
   "source": [
    "def get_tasks(arch=None): \n",
    "    query = ['model_task.notna()']\n",
    "    if (arch): query.append(f'arch == \"{arch}\"')\n",
    "        \n",
    "    return df.query(' & '.join(query)).model_task.unique().tolist()"
   ]
  },
  {
   "cell_type": "code",
   "execution_count": null,
   "metadata": {},
   "outputs": [
    {
     "name": "stdout",
     "output_type": "stream",
     "text": [
      "['ForMaskedLM', 'ForQuestionAnswering', 'ForSequenceClassification', 'ForTokenClassification', 'ForPreTraining', 'WithLMHead', 'ForConditionalGeneration', 'ForMultipleChoice', 'ForNextSentencePrediction', 'ForQuestionAnsweringSimple', 'WithLMHeadModel', 'ForClassification']\n",
      "['ForConditionalGeneration', 'ForSequenceClassification']\n"
     ]
    }
   ],
   "source": [
    "print(get_tasks())\n",
    "print(get_tasks('bart'))"
   ]
  },
  {
   "cell_type": "code",
   "execution_count": null,
   "metadata": {},
   "outputs": [],
   "source": [
    "TRANSFORMER_TASKS_ALL = Enum('TRANSFORMER_TASKS_ALL', get_tasks())\n",
    "TRANSFORMER_TASKS_AUTO = Enum('TRANSFORMER_TASKS_AUTO', get_tasks('auto'))"
   ]
  },
  {
   "cell_type": "code",
   "execution_count": null,
   "metadata": {},
   "outputs": [
    {
     "name": "stdout",
     "output_type": "stream",
     "text": [
      "--- all tasks ---\n",
      "(#12) [<TRANSFORMER_TASKS_ALL.ForMaskedLM: 1>,<TRANSFORMER_TASKS_ALL.ForQuestionAnswering: 2>,<TRANSFORMER_TASKS_ALL.ForSequenceClassification: 3>,<TRANSFORMER_TASKS_ALL.ForTokenClassification: 4>,<TRANSFORMER_TASKS_ALL.ForPreTraining: 5>,<TRANSFORMER_TASKS_ALL.WithLMHead: 6>,<TRANSFORMER_TASKS_ALL.ForConditionalGeneration: 7>,<TRANSFORMER_TASKS_ALL.ForMultipleChoice: 8>,<TRANSFORMER_TASKS_ALL.ForNextSentencePrediction: 9>,<TRANSFORMER_TASKS_ALL.ForQuestionAnsweringSimple: 10>...]\n",
      "\n",
      "--- auto only ---\n",
      "(#5) [<TRANSFORMER_TASKS_AUTO.ForPreTraining: 1>,<TRANSFORMER_TASKS_AUTO.ForQuestionAnswering: 2>,<TRANSFORMER_TASKS_AUTO.ForSequenceClassification: 3>,<TRANSFORMER_TASKS_AUTO.ForTokenClassification: 4>,<TRANSFORMER_TASKS_AUTO.WithLMHead: 5>]\n"
     ]
    }
   ],
   "source": [
    "print('--- all tasks ---')\n",
    "print(L(TRANSFORMER_TASKS_ALL))\n",
    "print('\\n--- auto only ---')\n",
    "print(L(TRANSFORMER_TASKS_AUTO))"
   ]
  },
  {
   "cell_type": "markdown",
   "metadata": {},
   "source": [
    "### Get included models\n",
    "\n",
    "The transformer models available for use (*optional: by architecture | task*)"
   ]
  },
  {
   "cell_type": "code",
   "execution_count": null,
   "metadata": {},
   "outputs": [],
   "source": [
    "def get_models(arch=None, task=None): \n",
    "    query = ['functional_area == \"modeling\"']\n",
    "    if (arch): query.append(f'arch == \"{arch}\"')\n",
    "    if (task): query.append(f'model_task == \"{task}\"')\n",
    "        \n",
    "    return df.query(' & '.join(query)).class_name.tolist()"
   ]
  },
  {
   "cell_type": "code",
   "execution_count": null,
   "metadata": {},
   "outputs": [
    {
     "name": "stdout",
     "output_type": "stream",
     "text": [
      "(#95) ['AdaptiveEmbedding','AlbertForMaskedLM','AlbertForQuestionAnswering','AlbertForSequenceClassification','AlbertForTokenClassification','AlbertModel','AlbertPreTrainedModel','AutoModel','AutoModelForPreTraining','AutoModelForQuestionAnswering'...]\n"
     ]
    }
   ],
   "source": [
    "print(L(get_models()))"
   ]
  },
  {
   "cell_type": "code",
   "execution_count": null,
   "metadata": {},
   "outputs": [
    {
     "name": "stdout",
     "output_type": "stream",
     "text": [
      "['BertForMaskedLM', 'BertForMultipleChoice', 'BertForNextSentencePrediction', 'BertForPreTraining', 'BertForQuestionAnswering', 'BertForSequenceClassification', 'BertForTokenClassification', 'BertModel', 'BertPreTrainedModel']\n"
     ]
    }
   ],
   "source": [
    "print(get_models(arch='bert'))"
   ]
  },
  {
   "cell_type": "code",
   "execution_count": null,
   "metadata": {},
   "outputs": [
    {
     "name": "stdout",
     "output_type": "stream",
     "text": [
      "['AlbertForTokenClassification', 'AutoModelForTokenClassification', 'BertForTokenClassification', 'CamembertForTokenClassification', 'DistilBertForTokenClassification', 'ElectraForTokenClassification', 'RobertaForTokenClassification', 'XLMForTokenClassification', 'XLMRobertaForTokenClassification', 'XLNetForTokenClassification']\n"
     ]
    }
   ],
   "source": [
    "print(get_models(task='ForTokenClassification'))"
   ]
  },
  {
   "cell_type": "code",
   "execution_count": null,
   "metadata": {},
   "outputs": [
    {
     "name": "stdout",
     "output_type": "stream",
     "text": [
      "['BertForTokenClassification']\n"
     ]
    }
   ],
   "source": [
    "print(get_models(arch='bert', task='ForTokenClassification'))"
   ]
  },
  {
   "cell_type": "code",
   "execution_count": null,
   "metadata": {},
   "outputs": [],
   "source": [
    "TRANSFORMER_MODELS = Enum('TRANSFORMER_MODELS', get_models())"
   ]
  },
  {
   "cell_type": "code",
   "execution_count": null,
   "metadata": {},
   "outputs": [
    {
     "name": "stdout",
     "output_type": "stream",
     "text": [
      "(#95) [<TRANSFORMER_MODELS.AdaptiveEmbedding: 1>,<TRANSFORMER_MODELS.AlbertForMaskedLM: 2>,<TRANSFORMER_MODELS.AlbertForQuestionAnswering: 3>,<TRANSFORMER_MODELS.AlbertForSequenceClassification: 4>,<TRANSFORMER_MODELS.AlbertForTokenClassification: 5>,<TRANSFORMER_MODELS.AlbertModel: 6>,<TRANSFORMER_MODELS.AlbertPreTrainedModel: 7>,<TRANSFORMER_MODELS.AutoModel: 8>,<TRANSFORMER_MODELS.AutoModelForPreTraining: 9>,<TRANSFORMER_MODELS.AutoModelForQuestionAnswering: 10>...]\n"
     ]
    }
   ],
   "source": [
    "print(L(TRANSFORMER_MODELS))"
   ]
  },
  {
   "cell_type": "markdown",
   "metadata": {},
   "source": [
    "### Get tokenizers, config, and model for a given model name / enum"
   ]
  },
  {
   "cell_type": "code",
   "execution_count": null,
   "metadata": {},
   "outputs": [],
   "source": [
    "def get_classes_for_model(model_name_or_enum):\n",
    "    model_name = model_name_or_enum if isinstance(model_name_or_enum, str) else model_name_or_enum.name\n",
    "    \n",
    "    meta = df[df.class_name == model_name]\n",
    "    tokenizers = get_tokenizers(meta.arch.values[0])\n",
    "    config = get_config(meta.arch.values[0])\n",
    "    \n",
    "    return ([str_to_class(tok) for tok in tokenizers], str_to_class(config), str_to_class(model_name))"
   ]
  },
  {
   "cell_type": "code",
   "execution_count": null,
   "metadata": {},
   "outputs": [
    {
     "name": "stdout",
     "output_type": "stream",
     "text": [
      "<class 'transformers.tokenization_roberta.RobertaTokenizer'>\n",
      "<class 'transformers.configuration_roberta.RobertaConfig'>\n",
      "<class 'transformers.modeling_roberta.RobertaForSequenceClassification'>\n"
     ]
    }
   ],
   "source": [
    "tokenizers, config, model = get_classes_for_model('RobertaForSequenceClassification')\n",
    "\n",
    "print(tokenizers[0])\n",
    "print(config)\n",
    "print(model)"
   ]
  },
  {
   "cell_type": "code",
   "execution_count": null,
   "metadata": {},
   "outputs": [
    {
     "name": "stdout",
     "output_type": "stream",
     "text": [
      "<class 'transformers.tokenization_distilbert.DistilBertTokenizer'>\n",
      "<class 'transformers.configuration_distilbert.DistilBertConfig'>\n",
      "<class 'transformers.modeling_distilbert.DistilBertModel'>\n"
     ]
    }
   ],
   "source": [
    "tokenizers, config, model = get_classes_for_model(TRANSFORMER_MODELS.DistilBertModel)\n",
    "\n",
    "print(tokenizers[0])\n",
    "print(config)\n",
    "print(model)"
   ]
  },
  {
   "cell_type": "code",
   "execution_count": null,
   "metadata": {},
   "outputs": [],
   "source": [
    "def get_model_architecture(model_name_or_enum):\n",
    "    model_name = model_name_or_enum if isinstance(model_name_or_enum, str) else model_name_or_enum.name\n",
    "    return df[df.class_name == model_name].arch.values[0]"
   ]
  },
  {
   "cell_type": "code",
   "execution_count": null,
   "metadata": {},
   "outputs": [
    {
     "data": {
      "text/plain": [
       "'roberta'"
      ]
     },
     "execution_count": null,
     "metadata": {},
     "output_type": "execute_result"
    }
   ],
   "source": [
    "get_model_architecture('RobertaForSequenceClassification')"
   ]
  },
  {
   "cell_type": "markdown",
   "metadata": {},
   "source": [
    "## Loading Pre-Trained (configs, tokenizer, model)"
   ]
  },
  {
   "cell_type": "code",
   "execution_count": null,
   "metadata": {},
   "outputs": [],
   "source": [
    "tokenizer = AutoTokenizer.from_pretrained(\"bert-base-cased-finetuned-mrpc\")\n",
    "model = AutoModelForSequenceClassification.from_pretrained(\"bert-base-cased-finetuned-mrpc\")"
   ]
  },
  {
   "cell_type": "code",
   "execution_count": null,
   "metadata": {},
   "outputs": [],
   "source": [
    "def get_auto_hf_objects(pretrained_model_name_or_path,\n",
    "                        task=TRANSFORMER_TASKS_AUTO.ForSequenceClassification, \n",
    "                        config=None):\n",
    "    \n",
    "    tokenizer = AutoTokenizer.from_pretrained(pretrained_model_name_or_path)\n",
    "    config = AutoConfig.from_pretrained(pretrained_model_name_or_path) if (config is None) else config\n",
    "    \n",
    "    model = str_to_class(f'AutoModel{task.name}').from_pretrained(pretrained_model_name_or_path, \n",
    "                                                                  config=config)\n",
    "    arch = get_model_architecture(type(model).__name__)\n",
    "    \n",
    "    return (arch, tokenizer, config, model)"
   ]
  },
  {
   "cell_type": "code",
   "execution_count": null,
   "metadata": {},
   "outputs": [
    {
     "name": "stdout",
     "output_type": "stream",
     "text": [
      "bert\n",
      "<class 'transformers.tokenization_bert.BertTokenizer'>\n",
      "<class 'transformers.configuration_bert.BertConfig'>\n",
      "<class 'transformers.modeling_bert.BertForMaskedLM'>\n"
     ]
    }
   ],
   "source": [
    "arch, tokenizer, config, model = get_auto_hf_objects(\"bert-base-cased-finetuned-mrpc\", \n",
    "                                                     task=TRANSFORMER_TASKS_AUTO.WithLMHead)\n",
    "\n",
    "print(arch)\n",
    "print(type(tokenizer))\n",
    "print(type(config))\n",
    "print(type(model))"
   ]
  },
  {
   "cell_type": "code",
   "execution_count": null,
   "metadata": {},
   "outputs": [
    {
     "name": "stdout",
     "output_type": "stream",
     "text": [
      "flaubert\n",
      "<class 'transformers.tokenization_flaubert.FlaubertTokenizer'>\n",
      "<class 'transformers.configuration_flaubert.FlaubertConfig'>\n",
      "<class 'transformers.modeling_flaubert.FlaubertForQuestionAnsweringSimple'>\n"
     ]
    }
   ],
   "source": [
    "arch, tokenizer, config, model = get_auto_hf_objects(\"fmikaelian/flaubert-base-uncased-squad\", \n",
    "                                                              task=TRANSFORMER_TASKS_AUTO.ForQuestionAnswering)\n",
    "\n",
    "print(arch)\n",
    "print(type(tokenizer))\n",
    "print(type(config))\n",
    "print(type(model))"
   ]
  },
  {
   "cell_type": "code",
   "execution_count": null,
   "metadata": {},
   "outputs": [],
   "source": [
    "def get_transformer_objects(pretrained_model_name_or_path, \n",
    "                            tokenizer_cls=BertTokenizer,\n",
    "                            model_cls=TRANSFORMER_MODELS.BertModel,\n",
    "                            config_cls=BertConfig):\n",
    "    \n",
    "    tokenizer = tokenizer_cls.from_pretrained(pretrained_model_name_or_path)\n",
    "    \n",
    "    if (config_cls is None):\n",
    "        model = str_to_class(model_cls.name).from_pretrained(pretrained_model_name_or_path)\n",
    "        config = None\n",
    "    else:\n",
    "        config = config_cls.from_pretrained(pretrained_model_name_or_path)\n",
    "        model = str_to_class(model_cls.name).from_pretrained(pretrained_model_name_or_path, config=config)\n",
    "    \n",
    "    arch = get_model_architecture(type(model).__name__)\n",
    "        \n",
    "    return (arch, tokenizer, config, model)"
   ]
  },
  {
   "cell_type": "code",
   "execution_count": null,
   "metadata": {},
   "outputs": [
    {
     "name": "stdout",
     "output_type": "stream",
     "text": [
      "bert\n",
      "<class 'transformers.tokenization_bert.BertTokenizer'>\n",
      "<class 'NoneType'>\n",
      "<class 'transformers.modeling_bert.BertForNextSentencePrediction'>\n"
     ]
    }
   ],
   "source": [
    "arch, tokenizer, config, model = get_transformer_objects(\"bert-base-cased-finetuned-mrpc\",\n",
    "                                                         tokenizer_cls=BertTokenizer, \n",
    "                                                         config_cls=None,\n",
    "                                                         model_cls=TRANSFORMER_MODELS.BertForNextSentencePrediction)\n",
    "print(arch)\n",
    "print(type(tokenizer))\n",
    "print(type(config))\n",
    "print(type(model))"
   ]
  },
  {
   "cell_type": "markdown",
   "metadata": {},
   "source": [
    "## TextTuple Block"
   ]
  },
  {
   "cell_type": "code",
   "execution_count": null,
   "metadata": {},
   "outputs": [],
   "source": [
    "class HF_BaseInput(list): pass"
   ]
  },
  {
   "cell_type": "code",
   "execution_count": null,
   "metadata": {},
   "outputs": [],
   "source": [
    "class HF_Tokenizer():\n",
    "    def __init__(self, hf_arch, hf_tokenizer, **kwargs):\n",
    "        self.hf_arch = hf_arch\n",
    "        self.hf_tokenizer = hf_tokenizer\n",
    "        \n",
    "    def __call__(self, items): \n",
    "        for txt in items: yield self._tokenize(txt)\n",
    "\n",
    "    def _tokenize(self, txt):\n",
    "        return self.hf_tokenizer.tokenize(txt)"
   ]
  },
  {
   "cell_type": "code",
   "execution_count": null,
   "metadata": {},
   "outputs": [
    {
     "ename": "NameError",
     "evalue": "name 'Transform' is not defined",
     "output_type": "error",
     "traceback": [
      "\u001b[0;31m---------------------------------------------------------------------------\u001b[0m",
      "\u001b[0;31mNameError\u001b[0m                                 Traceback (most recent call last)",
      "\u001b[0;32m<ipython-input-1-15e1c12ec179>\u001b[0m in \u001b[0;36m<module>\u001b[0;34m\u001b[0m\n\u001b[0;32m----> 1\u001b[0;31m \u001b[0;32mclass\u001b[0m \u001b[0mHF_BatchTransform\u001b[0m\u001b[0;34m(\u001b[0m\u001b[0mTransform\u001b[0m\u001b[0;34m)\u001b[0m\u001b[0;34m:\u001b[0m\u001b[0;34m\u001b[0m\u001b[0;34m\u001b[0m\u001b[0m\n\u001b[0m\u001b[1;32m      2\u001b[0m \u001b[0;34m\u001b[0m\u001b[0m\n\u001b[1;32m      3\u001b[0m     \u001b[0;32mdef\u001b[0m \u001b[0m__init__\u001b[0m\u001b[0;34m(\u001b[0m\u001b[0mself\u001b[0m\u001b[0;34m,\u001b[0m \u001b[0mhf_arch\u001b[0m\u001b[0;34m,\u001b[0m \u001b[0mhf_tokenizer\u001b[0m\u001b[0;34m,\u001b[0m \u001b[0mmax_seq_len\u001b[0m\u001b[0;34m=\u001b[0m\u001b[0;36m512\u001b[0m\u001b[0;34m,\u001b[0m \u001b[0mtruncation_strategy\u001b[0m\u001b[0;34m=\u001b[0m\u001b[0;34m'longest_first'\u001b[0m\u001b[0;34m)\u001b[0m\u001b[0;34m:\u001b[0m\u001b[0;34m\u001b[0m\u001b[0;34m\u001b[0m\u001b[0m\n\u001b[1;32m      4\u001b[0m \u001b[0;34m\u001b[0m\u001b[0m\n\u001b[1;32m      5\u001b[0m         \u001b[0mself\u001b[0m\u001b[0;34m.\u001b[0m\u001b[0mhf_arch\u001b[0m \u001b[0;34m=\u001b[0m \u001b[0mhf_arch\u001b[0m\u001b[0;34m\u001b[0m\u001b[0;34m\u001b[0m\u001b[0m\n",
      "\u001b[0;31mNameError\u001b[0m: name 'Transform' is not defined"
     ]
    }
   ],
   "source": [
    "class HF_BatchTransform(Transform):\n",
    "    \n",
    "    def __init__(self, hf_arch, hf_tokenizer, max_seq_len=512, truncation_strategy='longest_first'):\n",
    "        \n",
    "        self.hf_arch = hf_arch\n",
    "        self.hf_tokenizer = hf_tokenizer\n",
    "        store_attr(self, 'max_seq_len, truncation_strategy')\n",
    "        \n",
    "    def encodes(self, samples):\n",
    "        \n",
    "        encoded_samples = []\n",
    "        for idx, sample in enumerate(samples):\n",
    "            \n",
    "            if (isinstance(sample[0], tuple)):\n",
    "                a_tok_ids = sample[0][0].tolist()\n",
    "                b_tok_ids = sample[0][1].tolist()\n",
    "            else:\n",
    "                a_tok_ids = sample[0].tolist()\n",
    "                b_tok_ids = None\n",
    "            \n",
    "            res = self.hf_tokenizer.prepare_for_model(a_tok_ids, b_tok_ids, \n",
    "                                                      max_length=self.max_seq_len, \n",
    "                                                      pad_to_max_length=True,\n",
    "                                                      truncation_strategy=self.truncation_strategy,\n",
    "                                                      return_tensors='pt')\n",
    "            \n",
    "            input_ids = res['input_ids'][0]\n",
    "            token_type_ids = res['token_type_ids'][0] if ('token_type_ids' in res) else torch.tensor([-9999]) \n",
    "            attention_mask = res['attention_mask'][0] if ('attention_mask' in res) else torch.tensor([-9999]) \n",
    "\n",
    "            inputs = [input_ids, token_type_ids, attention_mask]\n",
    "            targets = sample[1:]\n",
    "            \n",
    "            encoded_samples.append((HF_BaseInput(inputs), *targets))\n",
    "            \n",
    "        return encoded_samples\n",
    "    \n",
    "    def decodes(self, encoded_samples):\n",
    "        pdb.set_trace()\n",
    "        pass"
   ]
  },
  {
   "cell_type": "code",
   "execution_count": null,
   "metadata": {},
   "outputs": [],
   "source": [
    "class HF_TextBlock(TransformBlock):\n",
    "    \n",
    "    @delegates(Numericalize.__init__)\n",
    "    def __init__(self, tok_tfms, hf_arch, hf_tokenizer, \n",
    "                 hf_batch_tfm=None, vocab=None, max_seq_len=512, **kwargs):\n",
    "\n",
    "        if hf_batch_tfm is None:\n",
    "            hf_batch_tfm = HF_BatchTransform(hf_arch, hf_tokenizer, max_seq_len=max_seq_len,\n",
    "                                             truncation_strategy='longest_first')\n",
    "            \n",
    "        return super().__init__(type_tfms=[*tok_tfms, Numericalize(vocab, **kwargs)],\n",
    "                                dl_type=SortedDL, \n",
    "                                dls_kwargs={ 'before_batch': hf_batch_tfm })\n",
    "\n",
    "    @classmethod\n",
    "    @delegates(Tokenizer.from_df, keep=True)\n",
    "    def from_df(cls, text_cols_lists, hf_arch, hf_tokenizer,\n",
    "                res_col_names=None, vocab=None, \n",
    "                hf_batch_tfm=None, max_seq_len=512, **kwargs):\n",
    "        \n",
    "        # grab hf tokenizer class to do the actual tokenization (via tok_func) and its vocab\n",
    "        tokenizer_cls = partial(HF_Tokenizer, hf_arch=hf_arch, hf_tokenizer=hf_tokenizer)\n",
    "        if (vocab is None): vocab = list(hf_tokenizer.get_vocab())\n",
    "\n",
    "        # build the column name(s) returned after tokenization\n",
    "        if (res_col_names is None): res_col_names = [ f'text{i}' for i in range(len(text_cols_lists)) ] \n",
    "    \n",
    "        tok_tfms = [ Tokenizer.from_df(text_cols, \n",
    "                                       res_col_name=res_col_name, \n",
    "                                       tok_func=tokenizer_cls,\n",
    "                                       rules=[], **kwargs) \n",
    "                    for text_cols, res_col_name in zip(text_cols_lists, res_col_names) ]\n",
    "  \n",
    "        return cls(tok_tfms, hf_arch=hf_arch, hf_tokenizer=hf_tokenizer, \n",
    "                   hf_batch_tfm=hf_batch_tfm, vocab=vocab, max_seq_len=max_seq_len)"
   ]
  },
  {
   "cell_type": "markdown",
   "metadata": {},
   "source": [
    "Test it out"
   ]
  },
  {
   "cell_type": "code",
   "execution_count": null,
   "metadata": {},
   "outputs": [],
   "source": [
    "path = untar_data(URLs.IMDB_SAMPLE)\n",
    "model_path = Path('models')\n",
    "imdb_df = pd.read_csv(path/'texts.csv')\n",
    "imdb_df['text2'] = imdb_df['text']\n",
    "# imdb_df.head()"
   ]
  },
  {
   "cell_type": "code",
   "execution_count": null,
   "metadata": {},
   "outputs": [],
   "source": [
    "task = TRANSFORMER_TASKS_AUTO.ForSequenceClassification\n",
    "\n",
    "pretrained_model_name = \"roberta-base\" # \"distilbert-base-uncased\" \"bert-base-uncased\"\n",
    "config = AutoConfig.from_pretrained(pretrained_model_name)\n",
    "hf_arch, hf_tokenizer, hf_config, hf_model = get_auto_hf_objects(pretrained_model_name, \n",
    "                                                                 task=task, \n",
    "                                                                 config=config)"
   ]
  },
  {
   "cell_type": "code",
   "execution_count": null,
   "metadata": {},
   "outputs": [],
   "source": [
    "# hft_config"
   ]
  },
  {
   "cell_type": "code",
   "execution_count": null,
   "metadata": {},
   "outputs": [],
   "source": [
    "# tokenizer_cls = partial(HF_Tokenizer, hf_arch=hf_arch, hf_tokenizer=hf_tokenizer)"
   ]
  },
  {
   "cell_type": "code",
   "execution_count": null,
   "metadata": {},
   "outputs": [],
   "source": [
    "# vocab = list(hf_tokenizer.get_vocab())"
   ]
  },
  {
   "cell_type": "code",
   "execution_count": null,
   "metadata": {},
   "outputs": [],
   "source": []
  },
  {
   "cell_type": "code",
   "execution_count": null,
   "metadata": {},
   "outputs": [],
   "source": [
    "# # single input\n",
    "# blocks = (\n",
    "#     HF_TextBlock.from_df(text_cols_lists=[['text']], hf_arch=hf_arch, hf_tokenizer=hf_tokenizer),\n",
    "#     CategoryBlock\n",
    "# )\n",
    "\n",
    "# dblock = DataBlock(blocks=blocks, \n",
    "#                    get_x=lambda x: x.text0,\n",
    "#                    get_y=ColReader('label'), \n",
    "#                    splitter=ColSplitter(col='is_valid'))"
   ]
  },
  {
   "cell_type": "code",
   "execution_count": null,
   "metadata": {},
   "outputs": [],
   "source": [
    "# tuple input (e.g. for question-answer, etc...)\n",
    "\n",
    "# (optional): override HF_BatchTransform defaults\n",
    "hf_batch_tfm = HF_BatchTransform(hf_arch, hf_tokenizer, max_seq_len=128, truncation_strategy='longest_first')\n",
    "\n",
    "blocks = (\n",
    "    HF_TextBlock.from_df(text_cols_lists=[['text'],['text2']], \n",
    "                         hf_arch=hf_arch, hf_tokenizer=hf_tokenizer, hf_batch_tfm=hf_batch_tfm),\n",
    "    CategoryBlock\n",
    ")\n",
    "\n",
    "dblock = DataBlock(blocks=blocks, \n",
    "                   get_x=lambda x: (x.text0, x.text1),\n",
    "                   get_y=ColReader('label'), \n",
    "                   splitter=ColSplitter(col='is_valid'))"
   ]
  },
  {
   "cell_type": "code",
   "execution_count": null,
   "metadata": {},
   "outputs": [],
   "source": [
    "# dblock.summary(imdb_df)"
   ]
  },
  {
   "cell_type": "code",
   "execution_count": null,
   "metadata": {},
   "outputs": [],
   "source": [
    "bsz = 4"
   ]
  },
  {
   "cell_type": "code",
   "execution_count": null,
   "metadata": {},
   "outputs": [
    {
     "data": {
      "text/html": [],
      "text/plain": [
       "<IPython.core.display.HTML object>"
      ]
     },
     "metadata": {},
     "output_type": "display_data"
    },
    {
     "data": {
      "text/html": [],
      "text/plain": [
       "<IPython.core.display.HTML object>"
      ]
     },
     "metadata": {},
     "output_type": "display_data"
    },
    {
     "name": "stdout",
     "output_type": "stream",
     "text": [
      "CPU times: user 2.76 s, sys: 1.24 s, total: 4 s\n",
      "Wall time: 4.73 s\n"
     ]
    }
   ],
   "source": [
    "%%time\n",
    "dls = dblock.dataloaders(imdb_df, bs=bsz)"
   ]
  },
  {
   "cell_type": "code",
   "execution_count": null,
   "metadata": {},
   "outputs": [
    {
     "data": {
      "text/plain": [
       "Counter({0: 417, 1: 383})"
      ]
     },
     "execution_count": null,
     "metadata": {},
     "output_type": "execute_result"
    }
   ],
   "source": [
    "[y.item() for x,y in dls.train_ds ]\n",
    "Counter([y.item() for x,y in dls.train_ds ])"
   ]
  },
  {
   "cell_type": "code",
   "execution_count": null,
   "metadata": {},
   "outputs": [
    {
     "data": {
      "text/plain": [
       "negative    417\n",
       "positive    383\n",
       "Name: label, dtype: int64"
      ]
     },
     "execution_count": null,
     "metadata": {},
     "output_type": "execute_result"
    }
   ],
   "source": [
    "dls.items['label'].value_counts()"
   ]
  },
  {
   "cell_type": "code",
   "execution_count": null,
   "metadata": {},
   "outputs": [
    {
     "data": {
      "text/plain": [
       "(2, 3, 4)"
      ]
     },
     "execution_count": null,
     "metadata": {},
     "output_type": "execute_result"
    }
   ],
   "source": [
    "b = dls.one_batch(); len(b), len(b[0]), len(b[1]) "
   ]
  },
  {
   "cell_type": "code",
   "execution_count": null,
   "metadata": {},
   "outputs": [
    {
     "data": {
      "text/plain": [
       "(torch.Size([4, 128]),\n",
       " torch.Size([4, 1]),\n",
       " torch.Size([4, 128]),\n",
       " torch.Size([4]))"
      ]
     },
     "execution_count": null,
     "metadata": {},
     "output_type": "execute_result"
    }
   ],
   "source": [
    "b[0][0].shape, b[0][1].shape, b[0][2].shape, b[1].shape"
   ]
  },
  {
   "cell_type": "code",
   "execution_count": null,
   "metadata": {},
   "outputs": [],
   "source": [
    "@typedispatch\n",
    "def show_batch(x:HF_BaseInput, y, samples, hf_tokenizer, ctxs=None, max_n=6, **kwargs):        \n",
    "    if ctxs is None: ctxs = get_empty_df(min(len(samples), max_n))\n",
    "        \n",
    "    samples = samples = L((TitledStr(hf_tokenizer.decode(inp)),*s[1:]) for inp, s in zip(x[0], samples))\n",
    "    ctxs = show_batch[object](x, y, samples, max_n=max_n, ctxs=ctxs, **kwargs)\n",
    "\n",
    "    display_df(pd.DataFrame(ctxs))\n",
    "    return ctxs"
   ]
  },
  {
   "cell_type": "code",
   "execution_count": null,
   "metadata": {},
   "outputs": [
    {
     "data": {
      "text/plain": [
       "2"
      ]
     },
     "execution_count": null,
     "metadata": {},
     "output_type": "execute_result"
    }
   ],
   "source": [
    "len(dls.train.vocab[1])"
   ]
  },
  {
   "cell_type": "code",
   "execution_count": null,
   "metadata": {},
   "outputs": [
    {
     "data": {
      "text/html": [
       "<table border=\"1\" class=\"dataframe\">\n",
       "  <thead>\n",
       "    <tr style=\"text-align: right;\">\n",
       "      <th></th>\n",
       "      <th>text</th>\n",
       "      <th>category</th>\n",
       "    </tr>\n",
       "  </thead>\n",
       "  <tbody>\n",
       "    <tr>\n",
       "      <th>0</th>\n",
       "      <td>&lt;s&gt;Un-bleeping-believable! Meg Ryan doesn't even look her usual pert lovable self in this, which normally makes me forgive her shallow ticky acting schtick. Hard to believe she was the producer on this dog. Plus Kevin Kline: what kind of suicide trip has his career been&lt;/s&gt;&lt;/s&gt;Un-bleeping-believable! Meg Ryan doesn't even look her usual pert lovable self in this, which normally makes me forgive her shallow ticky acting schtick. Hard to believe she was the producer on this dog. Plus Kevin Kline: what kind of suicide trip has his career been&lt;/s&gt;</td>\n",
       "      <td>negative</td>\n",
       "    </tr>\n",
       "    <tr>\n",
       "      <th>1</th>\n",
       "      <td>&lt;s&gt;What we have here is a damn good little nineties thriller that, while perhaps lacking in substance, still provides great entertainment throughout it's running time and overall does everything you could possibly want a film of this nature to do. I saw this film principally because it was directed by John Dahl - a highly underrated director&lt;/s&gt;&lt;/s&gt;What we have here is a damn good little nineties thriller that, while perhaps lacking in substance, still provides great entertainment throughout it's running time and overall does everything you could possibly want a film of this nature to do. I saw this film principally because it was directed by John Dahl - a highly underrated director&lt;/s&gt;</td>\n",
       "      <td>positive</td>\n",
       "    </tr>\n",
       "    <tr>\n",
       "      <th>2</th>\n",
       "      <td>&lt;s&gt;The combination of reading the Novella and viewing this film has inspired my wife and I to new levels. Recently I was pondering a statement made by the artist Thomas Kinkade in one of his inspirational books; He states: \"You and I were not designed to breathe the fetid air of five&lt;/s&gt;&lt;/s&gt;The combination of reading the Novella and viewing this film has inspired my wife and I to new levels. Recently I was pondering a statement made by the artist Thomas Kinkade in one of his inspirational books; He states: \"You and I were not designed to breathe the fetid air of five&lt;/s&gt;</td>\n",
       "      <td>positive</td>\n",
       "    </tr>\n",
       "    <tr>\n",
       "      <th>3</th>\n",
       "      <td>&lt;s&gt;I have to admit I've caught this one a few times on the USA Network. There's just something about the, well, sheer stupidity of this flick which makes me want to watch it whenever it's on. Yes, you're right about the sub-par acting, the plot which only an seven year&lt;/s&gt;&lt;/s&gt;I have to admit I've caught this one a few times on the USA Network. There's just something about the, well, sheer stupidity of this flick which makes me want to watch it whenever it's on. Yes, you're right about the sub-par acting, the plot which only an seven year&lt;/s&gt;</td>\n",
       "      <td>negative</td>\n",
       "    </tr>\n",
       "  </tbody>\n",
       "</table>"
      ],
      "text/plain": [
       "<IPython.core.display.HTML object>"
      ]
     },
     "metadata": {},
     "output_type": "display_data"
    }
   ],
   "source": [
    "dls.show_batch(hf_tokenizer=hf_tokenizer)"
   ]
  },
  {
   "cell_type": "code",
   "execution_count": null,
   "metadata": {},
   "outputs": [],
   "source": [
    "class HF_BaseModelWrapper(torch.nn.Module):\n",
    "    def __init__(self, hf_model):\n",
    "        super().__init__()\n",
    "        self.hf_model = hf_model\n",
    "        self.hf_model_fwd_args = hf_model.forward.__code__.co_varnames\n",
    "        \n",
    "    def forward(self, x):\n",
    "        model_kwargs = {}\n",
    "        model_kwargs['input_ids'] = x[0]\n",
    "        if (self._include_arg('token_type_ids', x[1])): model_kwargs['token_type_ids'] = x[1]\n",
    "        if (self._include_arg('attention_mask', x[2])): model_kwargs['attention_mask'] = x[2]\n",
    "        \n",
    "        outputs = self.hf_model(**model_kwargs)\n",
    "        return outputs[0]\n",
    "    \n",
    "    def _include_arg(self, arg_name, tensor_val):\n",
    "        if (tensor_val[0][0].item() == -9999 or arg_name not in self.hf_model_fwd_args):\n",
    "            return False\n",
    "        return True"
   ]
  },
  {
   "cell_type": "code",
   "execution_count": null,
   "metadata": {},
   "outputs": [],
   "source": [
    "def hf_splitter(m):\n",
    "    root_modules = list(m.hf_model.named_children())\n",
    "    top_module_name, top_module = root_modules[0]\n",
    "    \n",
    "    groups = L([ m for m_name, m in list(top_module.named_children()) ])\n",
    "    groups += L([ m for m_name, m in root_modules[1:] ])\n",
    "\n",
    "    return groups.map(params).filter(lambda el: len(el) > 0)"
   ]
  },
  {
   "cell_type": "code",
   "execution_count": null,
   "metadata": {},
   "outputs": [],
   "source": [
    "model = HF_BaseModelWrapper(hf_model)"
   ]
  },
  {
   "cell_type": "code",
   "execution_count": null,
   "metadata": {},
   "outputs": [],
   "source": [
    "learn = Learner(dls, \n",
    "                model,\n",
    "                opt_func=partial(Adam, decouple_wd=True),\n",
    "                loss_func=CrossEntropyLossFlat(),\n",
    "                metrics=[accuracy],\n",
    "                cbs=[MixedPrecision(clip=0.1)],\n",
    "                splitter=hf_splitter)\n",
    "\n",
    "\n",
    "learn.create_opt()             # -> will create your layer groups based on your \"splitter\" function\n",
    "learn.freeze()"
   ]
  },
  {
   "cell_type": "code",
   "execution_count": null,
   "metadata": {},
   "outputs": [
    {
     "name": "stdout",
     "output_type": "stream",
     "text": [
      "4\n"
     ]
    }
   ],
   "source": [
    "print(len(learn.opt.param_groups))"
   ]
  },
  {
   "cell_type": "code",
   "execution_count": null,
   "metadata": {},
   "outputs": [],
   "source": [
    "# learn.summary()"
   ]
  },
  {
   "cell_type": "code",
   "execution_count": null,
   "metadata": {},
   "outputs": [
    {
     "data": {
      "text/html": [],
      "text/plain": [
       "<IPython.core.display.HTML object>"
      ]
     },
     "metadata": {},
     "output_type": "display_data"
    },
    {
     "data": {
      "text/plain": [
       "SuggestedLRs(lr_min=0.0009120108559727668, lr_steep=0.033113110810518265)"
      ]
     },
     "execution_count": null,
     "metadata": {},
     "output_type": "execute_result"
    },
    {
     "data": {
      "image/png": "[encoded data removed]",
      "text/plain": [
       "<Figure size 432x288 with 1 Axes>"
      ]
     },
     "metadata": {
      "needs_background": "light"
     },
     "output_type": "display_data"
    }
   ],
   "source": [
    "learn.lr_find(suggestions=True)"
   ]
  },
  {
   "cell_type": "code",
   "execution_count": null,
   "metadata": {},
   "outputs": [
    {
     "data": {
      "text/html": [
       "<table border=\"1\" class=\"dataframe\">\n",
       "  <thead>\n",
       "    <tr style=\"text-align: left;\">\n",
       "      <th>epoch</th>\n",
       "      <th>train_loss</th>\n",
       "      <th>valid_loss</th>\n",
       "      <th>accuracy</th>\n",
       "      <th>time</th>\n",
       "    </tr>\n",
       "  </thead>\n",
       "  <tbody>\n",
       "    <tr>\n",
       "      <td>0</td>\n",
       "      <td>0.740570</td>\n",
       "      <td>0.660914</td>\n",
       "      <td>0.595000</td>\n",
       "      <td>00:07</td>\n",
       "    </tr>\n",
       "    <tr>\n",
       "      <td>1</td>\n",
       "      <td>0.688771</td>\n",
       "      <td>0.630932</td>\n",
       "      <td>0.650000</td>\n",
       "      <td>00:07</td>\n",
       "    </tr>\n",
       "    <tr>\n",
       "      <td>2</td>\n",
       "      <td>0.610525</td>\n",
       "      <td>0.609174</td>\n",
       "      <td>0.660000</td>\n",
       "      <td>00:07</td>\n",
       "    </tr>\n",
       "  </tbody>\n",
       "</table>"
      ],
      "text/plain": [
       "<IPython.core.display.HTML object>"
      ]
     },
     "metadata": {},
     "output_type": "display_data"
    }
   ],
   "source": [
    "learn.fit_one_cycle(3, lr_max=1e-3)"
   ]
  },
  {
   "cell_type": "code",
   "execution_count": null,
   "metadata": {},
   "outputs": [
    {
     "data": {
      "text/html": [],
      "text/plain": [
       "<IPython.core.display.HTML object>"
      ]
     },
     "metadata": {},
     "output_type": "display_data"
    },
    {
     "data": {
      "text/plain": [
       "('negative', tensor(0), tensor([0.5326, 0.4674]))"
      ]
     },
     "execution_count": null,
     "metadata": {},
     "output_type": "execute_result"
    }
   ],
   "source": [
    "learn.predict('I really liked the movie')"
   ]
  },
  {
   "cell_type": "code",
   "execution_count": null,
   "metadata": {},
   "outputs": [
    {
     "data": {
      "text/html": [],
      "text/plain": [
       "<IPython.core.display.HTML object>"
      ]
     },
     "metadata": {},
     "output_type": "display_data"
    },
    {
     "data": {
      "text/plain": [
       "('negative', tensor(0), tensor([0.5408, 0.4592]))"
      ]
     },
     "execution_count": null,
     "metadata": {},
     "output_type": "execute_result"
    }
   ],
   "source": [
    "inf_df = pd.DataFrame.from_dict([{'text0': 'I really liked the movie', 'text1': 'The movie was great'}], \n",
    "                                orient='columns')\n",
    "learn.predict(inf_df.iloc[0])"
   ]
  },
  {
   "cell_type": "code",
   "execution_count": null,
   "metadata": {},
   "outputs": [],
   "source": [
    "learn.unfreeze()"
   ]
  },
  {
   "cell_type": "code",
   "execution_count": null,
   "metadata": {},
   "outputs": [
    {
     "data": {
      "text/html": [
       "<table border=\"1\" class=\"dataframe\">\n",
       "  <thead>\n",
       "    <tr style=\"text-align: left;\">\n",
       "      <th>epoch</th>\n",
       "      <th>train_loss</th>\n",
       "      <th>valid_loss</th>\n",
       "      <th>accuracy</th>\n",
       "      <th>time</th>\n",
       "    </tr>\n",
       "  </thead>\n",
       "  <tbody>\n",
       "    <tr>\n",
       "      <td>0</td>\n",
       "      <td>0.494450</td>\n",
       "      <td>0.779669</td>\n",
       "      <td>0.755000</td>\n",
       "      <td>00:26</td>\n",
       "    </tr>\n",
       "    <tr>\n",
       "      <td>1</td>\n",
       "      <td>0.563251</td>\n",
       "      <td>0.947728</td>\n",
       "      <td>0.770000</td>\n",
       "      <td>00:25</td>\n",
       "    </tr>\n",
       "    <tr>\n",
       "      <td>2</td>\n",
       "      <td>0.401092</td>\n",
       "      <td>0.968394</td>\n",
       "      <td>0.775000</td>\n",
       "      <td>00:25</td>\n",
       "    </tr>\n",
       "  </tbody>\n",
       "</table>"
      ],
      "text/plain": [
       "<IPython.core.display.HTML object>"
      ]
     },
     "metadata": {},
     "output_type": "display_data"
    }
   ],
   "source": [
    "learn.fit_one_cycle(3, lr_max=slice(1e-6, 1e-3))"
   ]
  },
  {
   "cell_type": "code",
   "execution_count": null,
   "metadata": {},
   "outputs": [
    {
     "data": {
      "image/png": "[encoded data removed]",
      "text/plain": [
       "<Figure size 432x288 with 1 Axes>"
      ]
     },
     "metadata": {
      "needs_background": "light"
     },
     "output_type": "display_data"
    }
   ],
   "source": [
    "learn.recorder.plot_loss()"
   ]
  },
  {
   "cell_type": "code",
   "execution_count": null,
   "metadata": {},
   "outputs": [
    {
     "data": {
      "text/html": [],
      "text/plain": [
       "<IPython.core.display.HTML object>"
      ]
     },
     "metadata": {},
     "output_type": "display_data"
    },
    {
     "data": {
      "text/plain": [
       "('positive', tensor(1), tensor([0.2022, 0.7978]))"
      ]
     },
     "execution_count": null,
     "metadata": {},
     "output_type": "execute_result"
    }
   ],
   "source": [
    "learn.predict(\"This was a really good movie, \")"
   ]
  },
  {
   "cell_type": "code",
   "execution_count": null,
   "metadata": {},
   "outputs": [
    {
     "data": {
      "text/html": [],
      "text/plain": [
       "<IPython.core.display.HTML object>"
      ]
     },
     "metadata": {},
     "output_type": "display_data"
    },
    {
     "data": {
      "text/plain": [
       "('positive', tensor(1), tensor([0.4018, 0.5982]))"
      ]
     },
     "execution_count": null,
     "metadata": {},
     "output_type": "execute_result"
    }
   ],
   "source": [
    "inf_df = pd.DataFrame.from_dict([{'text0': 'This was a really good movie', 'text1': 'i loved it'}], \n",
    "                                orient='columns')\n",
    "learn.predict(inf_df.iloc[0])"
   ]
  },
  {
   "cell_type": "code",
   "execution_count": null,
   "metadata": {},
   "outputs": [
    {
     "data": {
      "text/html": [],
      "text/plain": [
       "<IPython.core.display.HTML object>"
      ]
     },
     "metadata": {},
     "output_type": "display_data"
    },
    {
     "data": {
      "text/plain": [
       "('negative', tensor(0), tensor([9.9945e-01, 5.5145e-04]))"
      ]
     },
     "execution_count": null,
     "metadata": {},
     "output_type": "execute_result"
    }
   ],
   "source": [
    "learn.predict(\"Acting was so bad it was almost funny.\")"
   ]
  },
  {
   "cell_type": "code",
   "execution_count": null,
   "metadata": {},
   "outputs": [
    {
     "data": {
      "text/html": [],
      "text/plain": [
       "<IPython.core.display.HTML object>"
      ]
     },
     "metadata": {},
     "output_type": "display_data"
    },
    {
     "data": {
      "text/plain": [
       "('negative', tensor(0), tensor([0.9980, 0.0020]))"
      ]
     },
     "execution_count": null,
     "metadata": {},
     "output_type": "execute_result"
    }
   ],
   "source": [
    "inf_df = pd.DataFrame.from_dict([{'text0': 'Acting was so bad it was almost funny', 'text1': 'HATE!'}], \n",
    "                                orient='columns')\n",
    "learn.predict(inf_df.iloc[0])"
   ]
  },
  {
   "cell_type": "code",
   "execution_count": null,
   "metadata": {},
   "outputs": [],
   "source": []
  }
 ],
 "metadata": {
  "kernelspec": {
   "display_name": "Python 3",
   "language": "python",
   "name": "python3"
  }
 },
 "nbformat": 4,
 "nbformat_minor": 2
}
