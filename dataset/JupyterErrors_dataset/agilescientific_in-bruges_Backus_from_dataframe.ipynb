{
 "cells": [
  {
   "cell_type": "markdown",
   "metadata": {},
   "source": [
    "#### Objective"
   ]
  },
  {
   "cell_type": "markdown",
   "metadata": {},
   "source": [
    "This notebook shows an example of how to:\n",
    "- Use Welly to load two wells with Vp, Vs, and RHOB curves\n",
    "- store the wells in Pandas DataFrames, the nconcatenate in a single Pandas DataFrame \n",
    "- filter and upscale with Backus average all curves individually, well by well, using Padas groupby "
   ]
  },
  {
   "cell_type": "markdown",
   "metadata": {},
   "source": [
    "#### Import libraries"
   ]
  },
  {
   "cell_type": "code",
   "execution_count": 1,
   "metadata": {},
   "outputs": [],
   "source": [
    "import bruges as br\n",
    "import numpy as np\n",
    "import pandas as pd\n",
    "from welly import Well\n",
    "import matplotlib.pyplot as plt"
   ]
  },
  {
   "cell_type": "markdown",
   "metadata": {},
   "source": [
    "#### Import wells"
   ]
  },
  {
   "cell_type": "code",
   "execution_count": 2,
   "metadata": {},
   "outputs": [],
   "source": [
    "R39 = Well.from_las('../data/R-39.las')"
   ]
  },
  {
   "cell_type": "code",
   "execution_count": 3,
   "metadata": {},
   "outputs": [],
   "source": [
    "w129 = Well.from_las('../data/P-129_out.las')"
   ]
  },
  {
   "cell_type": "markdown",
   "metadata": {},
   "source": [
    "#### Data clean-up and manipulation"
   ]
  },
  {
   "cell_type": "markdown",
   "metadata": {},
   "source": [
    "- Make dataframes\n",
    "- Deal with null values\n",
    "- Select columns of interest\n",
    "- Convert slowness to velocity\n",
    "- Add well name column\n",
    "- Concatenate dataframes"
   ]
  },
  {
   "cell_type": "markdown",
   "metadata": {},
   "source": [
    "Make dataframes"
   ]
  },
  {
   "cell_type": "code",
   "execution_count": 30,
   "metadata": {},
   "outputs": [
    {
     "data": {
      "text/html": [
       "<div>\n",
       "<style scoped>\n",
       "    .dataframe tbody tr th:only-of-type {\n",
       "        vertical-align: middle;\n",
       "    }\n",
       "\n",
       "    .dataframe tbody tr th {\n",
       "        vertical-align: top;\n",
       "    }\n",
       "\n",
       "    .dataframe thead th {\n",
       "        text-align: right;\n",
       "    }\n",
       "</style>\n",
       "<table border=\"1\" class=\"dataframe\">\n",
       "  <thead>\n",
       "    <tr style=\"text-align: right;\">\n",
       "      <th></th>\n",
       "      <th>DT</th>\n",
       "      <th>DTS</th>\n",
       "      <th>RHOB</th>\n",
       "    </tr>\n",
       "  </thead>\n",
       "  <tbody>\n",
       "    <tr>\n",
       "      <th>count</th>\n",
       "      <td>7843.000000</td>\n",
       "      <td>7843.000000</td>\n",
       "      <td>7843.000000</td>\n",
       "    </tr>\n",
       "    <tr>\n",
       "      <th>mean</th>\n",
       "      <td>279.843323</td>\n",
       "      <td>455.340913</td>\n",
       "      <td>2493.556531</td>\n",
       "    </tr>\n",
       "    <tr>\n",
       "      <th>std</th>\n",
       "      <td>25.963527</td>\n",
       "      <td>439.113290</td>\n",
       "      <td>114.662210</td>\n",
       "    </tr>\n",
       "    <tr>\n",
       "      <th>min</th>\n",
       "      <td>166.347500</td>\n",
       "      <td>-3278.379200</td>\n",
       "      <td>2050.229000</td>\n",
       "    </tr>\n",
       "    <tr>\n",
       "      <th>25%</th>\n",
       "      <td>262.778350</td>\n",
       "      <td>461.351100</td>\n",
       "      <td>2450.387250</td>\n",
       "    </tr>\n",
       "    <tr>\n",
       "      <th>50%</th>\n",
       "      <td>284.251700</td>\n",
       "      <td>515.766000</td>\n",
       "      <td>2505.075000</td>\n",
       "    </tr>\n",
       "    <tr>\n",
       "      <th>75%</th>\n",
       "      <td>299.587350</td>\n",
       "      <td>555.725100</td>\n",
       "      <td>2569.123050</td>\n",
       "    </tr>\n",
       "    <tr>\n",
       "      <th>max</th>\n",
       "      <td>348.946300</td>\n",
       "      <td>590.522000</td>\n",
       "      <td>3144.669700</td>\n",
       "    </tr>\n",
       "  </tbody>\n",
       "</table>\n",
       "</div>"
      ],
      "text/plain": [
       "                DT          DTS         RHOB\n",
       "count  7843.000000  7843.000000  7843.000000\n",
       "mean    279.843323   455.340913  2493.556531\n",
       "std      25.963527   439.113290   114.662210\n",
       "min     166.347500 -3278.379200  2050.229000\n",
       "25%     262.778350   461.351100  2450.387250\n",
       "50%     284.251700   515.766000  2505.075000\n",
       "75%     299.587350   555.725100  2569.123050\n",
       "max     348.946300   590.522000  3144.669700"
      ]
     },
     "execution_count": 30,
     "metadata": {},
     "output_type": "execute_result"
    }
   ],
   "source": [
    "w39_df = R39.df()\n",
    "w39_df = w39_df[['DT4P', 'DT4S', 'RHOB']]\n",
    "w39_df.columns = ['DT', 'DTS', 'RHOB']\n",
    "w39_df.describe(include = 'all')"
   ]
  },
  {
   "cell_type": "markdown",
   "metadata": {},
   "source": [
    "Checking well R-39 for null values"
   ]
  },
  {
   "cell_type": "code",
   "execution_count": 31,
   "metadata": {},
   "outputs": [
    {
     "name": "stdout",
     "output_type": "stream",
     "text": [
      "DT False\n",
      "DTS False\n",
      "RHOB False\n",
      "DT      0\n",
      "DTS     0\n",
      "RHOB    0\n",
      "dtype: int64\n"
     ]
    }
   ],
   "source": [
    "for x in w39_df.columns:\n",
    "    print (x, w39_df[x].isnull().values.any())\n",
    "    \n",
    "print(w39_df.isnull().sum()) # finds how many missing points there are"
   ]
  },
  {
   "cell_type": "markdown",
   "metadata": {},
   "source": [
    "There are no null values. Let's check P-129"
   ]
  },
  {
   "cell_type": "code",
   "execution_count": 6,
   "metadata": {},
   "outputs": [
    {
     "data": {
      "text/html": [
       "<div>\n",
       "<style scoped>\n",
       "    .dataframe tbody tr th:only-of-type {\n",
       "        vertical-align: middle;\n",
       "    }\n",
       "\n",
       "    .dataframe tbody tr th {\n",
       "        vertical-align: top;\n",
       "    }\n",
       "\n",
       "    .dataframe thead th {\n",
       "        text-align: right;\n",
       "    }\n",
       "</style>\n",
       "<table border=\"1\" class=\"dataframe\">\n",
       "  <thead>\n",
       "    <tr style=\"text-align: right;\">\n",
       "      <th></th>\n",
       "      <th>DT</th>\n",
       "      <th>DTS</th>\n",
       "      <th>RHOB</th>\n",
       "    </tr>\n",
       "  </thead>\n",
       "  <tbody>\n",
       "    <tr>\n",
       "      <th>count</th>\n",
       "      <td>10850.000000</td>\n",
       "      <td>10850.000000</td>\n",
       "      <td>12707.000000</td>\n",
       "    </tr>\n",
       "    <tr>\n",
       "      <th>mean</th>\n",
       "      <td>63.078827</td>\n",
       "      <td>107.128658</td>\n",
       "      <td>2.613912</td>\n",
       "    </tr>\n",
       "    <tr>\n",
       "      <th>std</th>\n",
       "      <td>6.529424</td>\n",
       "      <td>12.769174</td>\n",
       "      <td>0.254185</td>\n",
       "    </tr>\n",
       "    <tr>\n",
       "      <th>min</th>\n",
       "      <td>40.583134</td>\n",
       "      <td>78.108894</td>\n",
       "      <td>1.173953</td>\n",
       "    </tr>\n",
       "    <tr>\n",
       "      <th>25%</th>\n",
       "      <td>59.051755</td>\n",
       "      <td>95.865942</td>\n",
       "      <td>2.526586</td>\n",
       "    </tr>\n",
       "    <tr>\n",
       "      <th>50%</th>\n",
       "      <td>62.426868</td>\n",
       "      <td>104.755680</td>\n",
       "      <td>2.660130</td>\n",
       "    </tr>\n",
       "    <tr>\n",
       "      <th>75%</th>\n",
       "      <td>67.749138</td>\n",
       "      <td>117.113300</td>\n",
       "      <td>2.716321</td>\n",
       "    </tr>\n",
       "    <tr>\n",
       "      <th>max</th>\n",
       "      <td>112.469643</td>\n",
       "      <td>174.300812</td>\n",
       "      <td>4.628800</td>\n",
       "    </tr>\n",
       "  </tbody>\n",
       "</table>\n",
       "</div>"
      ],
      "text/plain": [
       "                 DT           DTS          RHOB\n",
       "count  10850.000000  10850.000000  12707.000000\n",
       "mean      63.078827    107.128658      2.613912\n",
       "std        6.529424     12.769174      0.254185\n",
       "min       40.583134     78.108894      1.173953\n",
       "25%       59.051755     95.865942      2.526586\n",
       "50%       62.426868    104.755680      2.660130\n",
       "75%       67.749138    117.113300      2.716321\n",
       "max      112.469643    174.300812      4.628800"
      ]
     },
     "execution_count": 6,
     "metadata": {},
     "output_type": "execute_result"
    }
   ],
   "source": [
    "w129_df = w129.df()\n",
    "w129_df = w129_df[['DT', 'DTS', 'RHOB']]\n",
    "w129_df.describe(include = 'all')"
   ]
  },
  {
   "cell_type": "code",
   "execution_count": 7,
   "metadata": {},
   "outputs": [
    {
     "name": "stdout",
     "output_type": "stream",
     "text": [
      "DT True\n",
      "DTS True\n",
      "RHOB True\n",
      "DT      1868\n",
      "DTS     1868\n",
      "RHOB      11\n",
      "dtype: int64\n"
     ]
    }
   ],
   "source": [
    "for x in w129_df.columns:\n",
    "    print (x, w129_df[x].isnull().values.any())\n",
    "\n",
    "print(w129_df.isnull().sum()) # finds how many missing points there are"
   ]
  },
  {
   "cell_type": "markdown",
   "metadata": {},
   "source": [
    "It looks like there are several null values in P-129. Below we replace missing values with the mean, then check again"
   ]
  },
  {
   "cell_type": "code",
   "execution_count": 8,
   "metadata": {
    "collapsed": false
   },
   "outputs": [
    {
     "name": "stdout",
     "output_type": "stream",
     "text": [
      "DT False\n",
      "DTS False\n",
      "RHOB False\n"
     ]
    }
   ],
   "source": [
    "w129_df['DT'].fillna(w129_df['DT'].mean(),inplace=True)\n",
    "w129_df['DTS'].fillna(w129_df['DTS'].mean(),inplace=True)\n",
    "w129_df['RHOB'].fillna(w129_df['RHOB'].mean(),inplace=True)\n",
    "\n",
    "for x in w129_df.columns:\n",
    "  print(x, w129_df[x].isnull().values.any())"
   ]
  },
  {
   "cell_type": "markdown",
   "metadata": {},
   "source": [
    "Convert slowness to velocity"
   ]
  },
  {
   "cell_type": "markdown",
   "metadata": {},
   "source": [
    "For well P-129: usec/ft >> m/s"
   ]
  },
  {
   "cell_type": "code",
   "execution_count": 9,
   "metadata": {},
   "outputs": [
    {
     "data": {
      "text/html": [
       "<div>\n",
       "<style scoped>\n",
       "    .dataframe tbody tr th:only-of-type {\n",
       "        vertical-align: middle;\n",
       "    }\n",
       "\n",
       "    .dataframe tbody tr th {\n",
       "        vertical-align: top;\n",
       "    }\n",
       "\n",
       "    .dataframe thead th {\n",
       "        text-align: right;\n",
       "    }\n",
       "</style>\n",
       "<table border=\"1\" class=\"dataframe\">\n",
       "  <thead>\n",
       "    <tr style=\"text-align: right;\">\n",
       "      <th></th>\n",
       "      <th>DT</th>\n",
       "      <th>DTS</th>\n",
       "      <th>RHOB</th>\n",
       "      <th>Vp</th>\n",
       "      <th>Vs</th>\n",
       "    </tr>\n",
       "  </thead>\n",
       "  <tbody>\n",
       "    <tr>\n",
       "      <th>count</th>\n",
       "      <td>12718.000000</td>\n",
       "      <td>12718.000000</td>\n",
       "      <td>12718.000000</td>\n",
       "      <td>12718.000000</td>\n",
       "      <td>12718.000000</td>\n",
       "    </tr>\n",
       "    <tr>\n",
       "      <th>mean</th>\n",
       "      <td>63.078827</td>\n",
       "      <td>107.128658</td>\n",
       "      <td>2.613912</td>\n",
       "      <td>4876.114574</td>\n",
       "      <td>2878.256580</td>\n",
       "    </tr>\n",
       "    <tr>\n",
       "      <th>std</th>\n",
       "      <td>6.030834</td>\n",
       "      <td>11.794114</td>\n",
       "      <td>0.254075</td>\n",
       "      <td>467.266198</td>\n",
       "      <td>303.324065</td>\n",
       "    </tr>\n",
       "    <tr>\n",
       "      <th>min</th>\n",
       "      <td>40.583134</td>\n",
       "      <td>78.108894</td>\n",
       "      <td>1.173953</td>\n",
       "      <td>2710.064626</td>\n",
       "      <td>1748.700978</td>\n",
       "    </tr>\n",
       "    <tr>\n",
       "      <th>25%</th>\n",
       "      <td>59.555985</td>\n",
       "      <td>97.160316</td>\n",
       "      <td>2.526682</td>\n",
       "      <td>4571.141464</td>\n",
       "      <td>2652.189518</td>\n",
       "    </tr>\n",
       "    <tr>\n",
       "      <th>50%</th>\n",
       "      <td>63.078827</td>\n",
       "      <td>107.128658</td>\n",
       "      <td>2.660023</td>\n",
       "      <td>4832.049264</td>\n",
       "      <td>2845.177066</td>\n",
       "    </tr>\n",
       "    <tr>\n",
       "      <th>75%</th>\n",
       "      <td>66.679188</td>\n",
       "      <td>114.923914</td>\n",
       "      <td>2.716266</td>\n",
       "      <td>5117.873507</td>\n",
       "      <td>3137.083236</td>\n",
       "    </tr>\n",
       "    <tr>\n",
       "      <th>max</th>\n",
       "      <td>112.469643</td>\n",
       "      <td>174.300812</td>\n",
       "      <td>4.628800</td>\n",
       "      <td>7510.509225</td>\n",
       "      <td>3902.244457</td>\n",
       "    </tr>\n",
       "  </tbody>\n",
       "</table>\n",
       "</div>"
      ],
      "text/plain": [
       "                 DT           DTS          RHOB            Vp            Vs\n",
       "count  12718.000000  12718.000000  12718.000000  12718.000000  12718.000000\n",
       "mean      63.078827    107.128658      2.613912   4876.114574   2878.256580\n",
       "std        6.030834     11.794114      0.254075    467.266198    303.324065\n",
       "min       40.583134     78.108894      1.173953   2710.064626   1748.700978\n",
       "25%       59.555985     97.160316      2.526682   4571.141464   2652.189518\n",
       "50%       63.078827    107.128658      2.660023   4832.049264   2845.177066\n",
       "75%       66.679188    114.923914      2.716266   5117.873507   3137.083236\n",
       "max      112.469643    174.300812      4.628800   7510.509225   3902.244457"
      ]
     },
     "execution_count": 9,
     "metadata": {},
     "output_type": "execute_result"
    }
   ],
   "source": [
    "w129_df['Vp'] = 3.048e5 / w129_df['DT'] \n",
    "w129_df['Vs'] = 3.048e5 / w129_df['DTS'] \n",
    "w129_df.describe(include = 'all')"
   ]
  },
  {
   "cell_type": "markdown",
   "metadata": {},
   "source": [
    "For well -39: usec/m >> m/s"
   ]
  },
  {
   "cell_type": "code",
   "execution_count": 10,
   "metadata": {},
   "outputs": [
    {
     "data": {
      "text/html": [
       "<div>\n",
       "<style scoped>\n",
       "    .dataframe tbody tr th:only-of-type {\n",
       "        vertical-align: middle;\n",
       "    }\n",
       "\n",
       "    .dataframe tbody tr th {\n",
       "        vertical-align: top;\n",
       "    }\n",
       "\n",
       "    .dataframe thead th {\n",
       "        text-align: right;\n",
       "    }\n",
       "</style>\n",
       "<table border=\"1\" class=\"dataframe\">\n",
       "  <thead>\n",
       "    <tr style=\"text-align: right;\">\n",
       "      <th></th>\n",
       "      <th>DT</th>\n",
       "      <th>DTS</th>\n",
       "      <th>RHOB</th>\n",
       "      <th>Vp</th>\n",
       "      <th>Vs</th>\n",
       "    </tr>\n",
       "  </thead>\n",
       "  <tbody>\n",
       "    <tr>\n",
       "      <th>count</th>\n",
       "      <td>7843.000000</td>\n",
       "      <td>7843.000000</td>\n",
       "      <td>7843.000000</td>\n",
       "      <td>7843.000000</td>\n",
       "      <td>7843.000000</td>\n",
       "    </tr>\n",
       "    <tr>\n",
       "      <th>mean</th>\n",
       "      <td>279.843323</td>\n",
       "      <td>455.340913</td>\n",
       "      <td>2493.556531</td>\n",
       "      <td>3607.216564</td>\n",
       "      <td>1977.281811</td>\n",
       "    </tr>\n",
       "    <tr>\n",
       "      <th>std</th>\n",
       "      <td>25.963527</td>\n",
       "      <td>439.113290</td>\n",
       "      <td>114.662210</td>\n",
       "      <td>367.703324</td>\n",
       "      <td>377.646396</td>\n",
       "    </tr>\n",
       "    <tr>\n",
       "      <th>min</th>\n",
       "      <td>166.347500</td>\n",
       "      <td>-3278.379200</td>\n",
       "      <td>2050.229000</td>\n",
       "      <td>2865.770464</td>\n",
       "      <td>-305.028778</td>\n",
       "    </tr>\n",
       "    <tr>\n",
       "      <th>25%</th>\n",
       "      <td>262.778350</td>\n",
       "      <td>461.351100</td>\n",
       "      <td>2450.387250</td>\n",
       "      <td>3337.924649</td>\n",
       "      <td>1791.625370</td>\n",
       "    </tr>\n",
       "    <tr>\n",
       "      <th>50%</th>\n",
       "      <td>284.251700</td>\n",
       "      <td>515.766000</td>\n",
       "      <td>2505.075000</td>\n",
       "      <td>3518.008863</td>\n",
       "      <td>1932.638279</td>\n",
       "    </tr>\n",
       "    <tr>\n",
       "      <th>75%</th>\n",
       "      <td>299.587350</td>\n",
       "      <td>555.725100</td>\n",
       "      <td>2569.123050</td>\n",
       "      <td>3805.488542</td>\n",
       "      <td>2141.848409</td>\n",
       "    </tr>\n",
       "    <tr>\n",
       "      <th>max</th>\n",
       "      <td>348.946300</td>\n",
       "      <td>590.522000</td>\n",
       "      <td>3144.669700</td>\n",
       "      <td>6011.512046</td>\n",
       "      <td>3392.929000</td>\n",
       "    </tr>\n",
       "  </tbody>\n",
       "</table>\n",
       "</div>"
      ],
      "text/plain": [
       "                DT          DTS         RHOB           Vp           Vs\n",
       "count  7843.000000  7843.000000  7843.000000  7843.000000  7843.000000\n",
       "mean    279.843323   455.340913  2493.556531  3607.216564  1977.281811\n",
       "std      25.963527   439.113290   114.662210   367.703324   377.646396\n",
       "min     166.347500 -3278.379200  2050.229000  2865.770464  -305.028778\n",
       "25%     262.778350   461.351100  2450.387250  3337.924649  1791.625370\n",
       "50%     284.251700   515.766000  2505.075000  3518.008863  1932.638279\n",
       "75%     299.587350   555.725100  2569.123050  3805.488542  2141.848409\n",
       "max     348.946300   590.522000  3144.669700  6011.512046  3392.929000"
      ]
     },
     "execution_count": 10,
     "metadata": {},
     "output_type": "execute_result"
    }
   ],
   "source": [
    "w39_df['Vp'] = 1.0e6 / w39_df['DT'] \n",
    "w39_df['Vs'] = 1.0e6 / w39_df['DTS'] \n",
    "w39_df.describe(include = 'all')"
   ]
  },
  {
   "cell_type": "markdown",
   "metadata": {},
   "source": [
    "Add well name columns"
   ]
  },
  {
   "cell_type": "code",
   "execution_count": 11,
   "metadata": {},
   "outputs": [
    {
     "data": {
      "text/html": [
       "<div>\n",
       "<style scoped>\n",
       "    .dataframe tbody tr th:only-of-type {\n",
       "        vertical-align: middle;\n",
       "    }\n",
       "\n",
       "    .dataframe tbody tr th {\n",
       "        vertical-align: top;\n",
       "    }\n",
       "\n",
       "    .dataframe thead th {\n",
       "        text-align: right;\n",
       "    }\n",
       "</style>\n",
       "<table border=\"1\" class=\"dataframe\">\n",
       "  <thead>\n",
       "    <tr style=\"text-align: right;\">\n",
       "      <th></th>\n",
       "      <th>DT</th>\n",
       "      <th>DTS</th>\n",
       "      <th>RHOB</th>\n",
       "      <th>Vp</th>\n",
       "      <th>Vs</th>\n",
       "      <th>DEPTH</th>\n",
       "      <th>well</th>\n",
       "    </tr>\n",
       "  </thead>\n",
       "  <tbody>\n",
       "    <tr>\n",
       "      <th>count</th>\n",
       "      <td>7843.000000</td>\n",
       "      <td>7843.000000</td>\n",
       "      <td>7843.000000</td>\n",
       "      <td>7843.000000</td>\n",
       "      <td>7843.000000</td>\n",
       "      <td>7843.000000</td>\n",
       "      <td>7843</td>\n",
       "    </tr>\n",
       "    <tr>\n",
       "      <th>unique</th>\n",
       "      <td>NaN</td>\n",
       "      <td>NaN</td>\n",
       "      <td>NaN</td>\n",
       "      <td>NaN</td>\n",
       "      <td>NaN</td>\n",
       "      <td>NaN</td>\n",
       "      <td>1</td>\n",
       "    </tr>\n",
       "    <tr>\n",
       "      <th>top</th>\n",
       "      <td>NaN</td>\n",
       "      <td>NaN</td>\n",
       "      <td>NaN</td>\n",
       "      <td>NaN</td>\n",
       "      <td>NaN</td>\n",
       "      <td>NaN</td>\n",
       "      <td>R-39</td>\n",
       "    </tr>\n",
       "    <tr>\n",
       "      <th>freq</th>\n",
       "      <td>NaN</td>\n",
       "      <td>NaN</td>\n",
       "      <td>NaN</td>\n",
       "      <td>NaN</td>\n",
       "      <td>NaN</td>\n",
       "      <td>NaN</td>\n",
       "      <td>7843</td>\n",
       "    </tr>\n",
       "    <tr>\n",
       "      <th>mean</th>\n",
       "      <td>279.843323</td>\n",
       "      <td>455.340913</td>\n",
       "      <td>2493.556531</td>\n",
       "      <td>3607.216564</td>\n",
       "      <td>1977.281811</td>\n",
       "      <td>2790.596400</td>\n",
       "      <td>NaN</td>\n",
       "    </tr>\n",
       "    <tr>\n",
       "      <th>std</th>\n",
       "      <td>25.963527</td>\n",
       "      <td>439.113290</td>\n",
       "      <td>114.662210</td>\n",
       "      <td>367.703324</td>\n",
       "      <td>377.646396</td>\n",
       "      <td>345.067648</td>\n",
       "      <td>NaN</td>\n",
       "    </tr>\n",
       "    <tr>\n",
       "      <th>min</th>\n",
       "      <td>166.347500</td>\n",
       "      <td>-3278.379200</td>\n",
       "      <td>2050.229000</td>\n",
       "      <td>2865.770464</td>\n",
       "      <td>-305.028778</td>\n",
       "      <td>2193.036000</td>\n",
       "      <td>NaN</td>\n",
       "    </tr>\n",
       "    <tr>\n",
       "      <th>25%</th>\n",
       "      <td>262.778350</td>\n",
       "      <td>461.351100</td>\n",
       "      <td>2450.387250</td>\n",
       "      <td>3337.924649</td>\n",
       "      <td>1791.625370</td>\n",
       "      <td>2491.816200</td>\n",
       "      <td>NaN</td>\n",
       "    </tr>\n",
       "    <tr>\n",
       "      <th>50%</th>\n",
       "      <td>284.251700</td>\n",
       "      <td>515.766000</td>\n",
       "      <td>2505.075000</td>\n",
       "      <td>3518.008863</td>\n",
       "      <td>1932.638279</td>\n",
       "      <td>2790.596400</td>\n",
       "      <td>NaN</td>\n",
       "    </tr>\n",
       "    <tr>\n",
       "      <th>75%</th>\n",
       "      <td>299.587350</td>\n",
       "      <td>555.725100</td>\n",
       "      <td>2569.123050</td>\n",
       "      <td>3805.488542</td>\n",
       "      <td>2141.848409</td>\n",
       "      <td>3089.376600</td>\n",
       "      <td>NaN</td>\n",
       "    </tr>\n",
       "    <tr>\n",
       "      <th>max</th>\n",
       "      <td>348.946300</td>\n",
       "      <td>590.522000</td>\n",
       "      <td>3144.669700</td>\n",
       "      <td>6011.512046</td>\n",
       "      <td>3392.929000</td>\n",
       "      <td>3388.156800</td>\n",
       "      <td>NaN</td>\n",
       "    </tr>\n",
       "  </tbody>\n",
       "</table>\n",
       "</div>"
      ],
      "text/plain": [
       "                 DT          DTS         RHOB           Vp           Vs  \\\n",
       "count   7843.000000  7843.000000  7843.000000  7843.000000  7843.000000   \n",
       "unique          NaN          NaN          NaN          NaN          NaN   \n",
       "top             NaN          NaN          NaN          NaN          NaN   \n",
       "freq            NaN          NaN          NaN          NaN          NaN   \n",
       "mean     279.843323   455.340913  2493.556531  3607.216564  1977.281811   \n",
       "std       25.963527   439.113290   114.662210   367.703324   377.646396   \n",
       "min      166.347500 -3278.379200  2050.229000  2865.770464  -305.028778   \n",
       "25%      262.778350   461.351100  2450.387250  3337.924649  1791.625370   \n",
       "50%      284.251700   515.766000  2505.075000  3518.008863  1932.638279   \n",
       "75%      299.587350   555.725100  2569.123050  3805.488542  2141.848409   \n",
       "max      348.946300   590.522000  3144.669700  6011.512046  3392.929000   \n",
       "\n",
       "              DEPTH  well  \n",
       "count   7843.000000  7843  \n",
       "unique          NaN     1  \n",
       "top             NaN  R-39  \n",
       "freq            NaN  7843  \n",
       "mean    2790.596400   NaN  \n",
       "std      345.067648   NaN  \n",
       "min     2193.036000   NaN  \n",
       "25%     2491.816200   NaN  \n",
       "50%     2790.596400   NaN  \n",
       "75%     3089.376600   NaN  \n",
       "max     3388.156800   NaN  "
      ]
     },
     "execution_count": 11,
     "metadata": {},
     "output_type": "execute_result"
    }
   ],
   "source": [
    "w39_df['DEPTH'] = w39_df.index\n",
    "name = (['R-39']*len(w39_df))\n",
    "w39_df['well'] = name\n",
    "w39_df = w39_df.reset_index(drop=True)\n",
    "w39_df.describe(include = 'all')"
   ]
  },
  {
   "cell_type": "code",
   "execution_count": 12,
   "metadata": {},
   "outputs": [
    {
     "data": {
      "text/html": [
       "<div>\n",
       "<style scoped>\n",
       "    .dataframe tbody tr th:only-of-type {\n",
       "        vertical-align: middle;\n",
       "    }\n",
       "\n",
       "    .dataframe tbody tr th {\n",
       "        vertical-align: top;\n",
       "    }\n",
       "\n",
       "    .dataframe thead th {\n",
       "        text-align: right;\n",
       "    }\n",
       "</style>\n",
       "<table border=\"1\" class=\"dataframe\">\n",
       "  <thead>\n",
       "    <tr style=\"text-align: right;\">\n",
       "      <th></th>\n",
       "      <th>DT</th>\n",
       "      <th>DTS</th>\n",
       "      <th>RHOB</th>\n",
       "      <th>Vp</th>\n",
       "      <th>Vs</th>\n",
       "      <th>DEPTH</th>\n",
       "      <th>well</th>\n",
       "    </tr>\n",
       "  </thead>\n",
       "  <tbody>\n",
       "    <tr>\n",
       "      <th>count</th>\n",
       "      <td>12718.000000</td>\n",
       "      <td>12718.000000</td>\n",
       "      <td>12718.000000</td>\n",
       "      <td>12718.000000</td>\n",
       "      <td>12718.000000</td>\n",
       "      <td>12718.00000</td>\n",
       "      <td>12718</td>\n",
       "    </tr>\n",
       "    <tr>\n",
       "      <th>unique</th>\n",
       "      <td>NaN</td>\n",
       "      <td>NaN</td>\n",
       "      <td>NaN</td>\n",
       "      <td>NaN</td>\n",
       "      <td>NaN</td>\n",
       "      <td>NaN</td>\n",
       "      <td>1</td>\n",
       "    </tr>\n",
       "    <tr>\n",
       "      <th>top</th>\n",
       "      <td>NaN</td>\n",
       "      <td>NaN</td>\n",
       "      <td>NaN</td>\n",
       "      <td>NaN</td>\n",
       "      <td>NaN</td>\n",
       "      <td>NaN</td>\n",
       "      <td>P-129</td>\n",
       "    </tr>\n",
       "    <tr>\n",
       "      <th>freq</th>\n",
       "      <td>NaN</td>\n",
       "      <td>NaN</td>\n",
       "      <td>NaN</td>\n",
       "      <td>NaN</td>\n",
       "      <td>NaN</td>\n",
       "      <td>NaN</td>\n",
       "      <td>12718</td>\n",
       "    </tr>\n",
       "    <tr>\n",
       "      <th>mean</th>\n",
       "      <td>63.078827</td>\n",
       "      <td>107.128658</td>\n",
       "      <td>2.613912</td>\n",
       "      <td>4876.114574</td>\n",
       "      <td>2878.256580</td>\n",
       "      <td>970.10220</td>\n",
       "      <td>NaN</td>\n",
       "    </tr>\n",
       "    <tr>\n",
       "      <th>std</th>\n",
       "      <td>6.030834</td>\n",
       "      <td>11.794114</td>\n",
       "      <td>0.254075</td>\n",
       "      <td>467.266198</td>\n",
       "      <td>303.324065</td>\n",
       "      <td>559.53884</td>\n",
       "      <td>NaN</td>\n",
       "    </tr>\n",
       "    <tr>\n",
       "      <th>min</th>\n",
       "      <td>40.583134</td>\n",
       "      <td>78.108894</td>\n",
       "      <td>1.173953</td>\n",
       "      <td>2710.064626</td>\n",
       "      <td>1748.700978</td>\n",
       "      <td>1.06680</td>\n",
       "      <td>NaN</td>\n",
       "    </tr>\n",
       "    <tr>\n",
       "      <th>25%</th>\n",
       "      <td>59.555985</td>\n",
       "      <td>97.160316</td>\n",
       "      <td>2.526682</td>\n",
       "      <td>4571.141464</td>\n",
       "      <td>2652.189518</td>\n",
       "      <td>485.58450</td>\n",
       "      <td>NaN</td>\n",
       "    </tr>\n",
       "    <tr>\n",
       "      <th>50%</th>\n",
       "      <td>63.078827</td>\n",
       "      <td>107.128658</td>\n",
       "      <td>2.660023</td>\n",
       "      <td>4832.049264</td>\n",
       "      <td>2845.177066</td>\n",
       "      <td>970.10220</td>\n",
       "      <td>NaN</td>\n",
       "    </tr>\n",
       "    <tr>\n",
       "      <th>75%</th>\n",
       "      <td>66.679188</td>\n",
       "      <td>114.923914</td>\n",
       "      <td>2.716266</td>\n",
       "      <td>5117.873507</td>\n",
       "      <td>3137.083236</td>\n",
       "      <td>1454.61990</td>\n",
       "      <td>NaN</td>\n",
       "    </tr>\n",
       "    <tr>\n",
       "      <th>max</th>\n",
       "      <td>112.469643</td>\n",
       "      <td>174.300812</td>\n",
       "      <td>4.628800</td>\n",
       "      <td>7510.509225</td>\n",
       "      <td>3902.244457</td>\n",
       "      <td>1939.13760</td>\n",
       "      <td>NaN</td>\n",
       "    </tr>\n",
       "  </tbody>\n",
       "</table>\n",
       "</div>"
      ],
      "text/plain": [
       "                  DT           DTS          RHOB            Vp            Vs  \\\n",
       "count   12718.000000  12718.000000  12718.000000  12718.000000  12718.000000   \n",
       "unique           NaN           NaN           NaN           NaN           NaN   \n",
       "top              NaN           NaN           NaN           NaN           NaN   \n",
       "freq             NaN           NaN           NaN           NaN           NaN   \n",
       "mean       63.078827    107.128658      2.613912   4876.114574   2878.256580   \n",
       "std         6.030834     11.794114      0.254075    467.266198    303.324065   \n",
       "min        40.583134     78.108894      1.173953   2710.064626   1748.700978   \n",
       "25%        59.555985     97.160316      2.526682   4571.141464   2652.189518   \n",
       "50%        63.078827    107.128658      2.660023   4832.049264   2845.177066   \n",
       "75%        66.679188    114.923914      2.716266   5117.873507   3137.083236   \n",
       "max       112.469643    174.300812      4.628800   7510.509225   3902.244457   \n",
       "\n",
       "              DEPTH   well  \n",
       "count   12718.00000  12718  \n",
       "unique          NaN      1  \n",
       "top             NaN  P-129  \n",
       "freq            NaN  12718  \n",
       "mean      970.10220    NaN  \n",
       "std       559.53884    NaN  \n",
       "min         1.06680    NaN  \n",
       "25%       485.58450    NaN  \n",
       "50%       970.10220    NaN  \n",
       "75%      1454.61990    NaN  \n",
       "max      1939.13760    NaN  "
      ]
     },
     "execution_count": 12,
     "metadata": {},
     "output_type": "execute_result"
    }
   ],
   "source": [
    "w129_df['DEPTH'] = w129_df.index\n",
    "name = (['P-129']*len(w129_df))\n",
    "w129_df['well'] = name\n",
    "w129_df = w129_df.reset_index(drop=True)\n",
    "w129_df.describe(include = 'all')"
   ]
  },
  {
   "cell_type": "markdown",
   "metadata": {},
   "source": [
    "Concatenate dataframes drop slownness columns, sort columns"
   ]
  },
  {
   "cell_type": "code",
   "execution_count": 13,
   "metadata": {},
   "outputs": [
    {
     "data": {
      "text/html": [
       "<div>\n",
       "<style scoped>\n",
       "    .dataframe tbody tr th:only-of-type {\n",
       "        vertical-align: middle;\n",
       "    }\n",
       "\n",
       "    .dataframe tbody tr th {\n",
       "        vertical-align: top;\n",
       "    }\n",
       "\n",
       "    .dataframe thead th {\n",
       "        text-align: right;\n",
       "    }\n",
       "</style>\n",
       "<table border=\"1\" class=\"dataframe\">\n",
       "  <thead>\n",
       "    <tr style=\"text-align: right;\">\n",
       "      <th></th>\n",
       "      <th>DEPTH</th>\n",
       "      <th>Vp</th>\n",
       "      <th>Vs</th>\n",
       "      <th>RHOB</th>\n",
       "      <th>well</th>\n",
       "    </tr>\n",
       "  </thead>\n",
       "  <tbody>\n",
       "    <tr>\n",
       "      <th>count</th>\n",
       "      <td>20561.000000</td>\n",
       "      <td>20561.000000</td>\n",
       "      <td>20561.000000</td>\n",
       "      <td>20561.000000</td>\n",
       "      <td>20561</td>\n",
       "    </tr>\n",
       "    <tr>\n",
       "      <th>unique</th>\n",
       "      <td>NaN</td>\n",
       "      <td>NaN</td>\n",
       "      <td>NaN</td>\n",
       "      <td>NaN</td>\n",
       "      <td>2</td>\n",
       "    </tr>\n",
       "    <tr>\n",
       "      <th>top</th>\n",
       "      <td>NaN</td>\n",
       "      <td>NaN</td>\n",
       "      <td>NaN</td>\n",
       "      <td>NaN</td>\n",
       "      <td>P-129</td>\n",
       "    </tr>\n",
       "    <tr>\n",
       "      <th>freq</th>\n",
       "      <td>NaN</td>\n",
       "      <td>NaN</td>\n",
       "      <td>NaN</td>\n",
       "      <td>NaN</td>\n",
       "      <td>12718</td>\n",
       "    </tr>\n",
       "    <tr>\n",
       "      <th>mean</th>\n",
       "      <td>1664.530293</td>\n",
       "      <td>4392.093024</td>\n",
       "      <td>2534.579467</td>\n",
       "      <td>952.784768</td>\n",
       "      <td>NaN</td>\n",
       "    </tr>\n",
       "    <tr>\n",
       "      <th>std</th>\n",
       "      <td>1010.484213</td>\n",
       "      <td>752.684838</td>\n",
       "      <td>550.313508</td>\n",
       "      <td>1212.057079</td>\n",
       "      <td>NaN</td>\n",
       "    </tr>\n",
       "    <tr>\n",
       "      <th>min</th>\n",
       "      <td>1.066800</td>\n",
       "      <td>2710.064626</td>\n",
       "      <td>-305.028778</td>\n",
       "      <td>1.173953</td>\n",
       "      <td>NaN</td>\n",
       "    </tr>\n",
       "    <tr>\n",
       "      <th>25%</th>\n",
       "      <td>784.402800</td>\n",
       "      <td>3668.174042</td>\n",
       "      <td>2031.489303</td>\n",
       "      <td>2.629247</td>\n",
       "      <td>NaN</td>\n",
       "    </tr>\n",
       "    <tr>\n",
       "      <th>50%</th>\n",
       "      <td>1567.738800</td>\n",
       "      <td>4495.494080</td>\n",
       "      <td>2603.913645</td>\n",
       "      <td>2.731956</td>\n",
       "      <td>NaN</td>\n",
       "    </tr>\n",
       "    <tr>\n",
       "      <th>75%</th>\n",
       "      <td>2604.820800</td>\n",
       "      <td>4918.987281</td>\n",
       "      <td>2950.243692</td>\n",
       "      <td>2476.824000</td>\n",
       "      <td>NaN</td>\n",
       "    </tr>\n",
       "    <tr>\n",
       "      <th>max</th>\n",
       "      <td>3388.156800</td>\n",
       "      <td>7510.509225</td>\n",
       "      <td>3902.244457</td>\n",
       "      <td>3144.669700</td>\n",
       "      <td>NaN</td>\n",
       "    </tr>\n",
       "  </tbody>\n",
       "</table>\n",
       "</div>"
      ],
      "text/plain": [
       "               DEPTH            Vp            Vs          RHOB   well\n",
       "count   20561.000000  20561.000000  20561.000000  20561.000000  20561\n",
       "unique           NaN           NaN           NaN           NaN      2\n",
       "top              NaN           NaN           NaN           NaN  P-129\n",
       "freq             NaN           NaN           NaN           NaN  12718\n",
       "mean     1664.530293   4392.093024   2534.579467    952.784768    NaN\n",
       "std      1010.484213    752.684838    550.313508   1212.057079    NaN\n",
       "min         1.066800   2710.064626   -305.028778      1.173953    NaN\n",
       "25%       784.402800   3668.174042   2031.489303      2.629247    NaN\n",
       "50%      1567.738800   4495.494080   2603.913645      2.731956    NaN\n",
       "75%      2604.820800   4918.987281   2950.243692   2476.824000    NaN\n",
       "max      3388.156800   7510.509225   3902.244457   3144.669700    NaN"
      ]
     },
     "execution_count": 13,
     "metadata": {},
     "output_type": "execute_result"
    }
   ],
   "source": [
    "wells = pd.DataFrame()\n",
    "\n",
    "for i,df in enumerate([ w129_df, w39_df]):\n",
    "    wells=wells.append(df)   \n",
    "\n",
    "wells.drop(wells.columns[[0, 1]], inplace=True, axis=1) \n",
    "wells = wells[['DEPTH', 'Vp', 'Vs', 'RHOB', 'well']]    \n",
    "wells.describe(include = 'all')"
   ]
  },
  {
   "cell_type": "markdown",
   "metadata": {},
   "source": [
    "#### Despike Vp, Vs, and RHOB curves"
   ]
  },
  {
   "cell_type": "markdown",
   "metadata": {},
   "source": [
    "##### Logic:\n",
    "    group dataframe by well\n",
    "\n",
    "        for each well\n",
    "\n",
    "            for each of Vp, Vs, RHOB\n",
    "    \n",
    "                smooth log using Bruges' median"
   ]
  },
  {
   "cell_type": "code",
   "execution_count": 14,
   "metadata": {},
   "outputs": [],
   "source": [
    "logs = ['Vp', 'Vs', 'RHOB']"
   ]
  },
  {
   "cell_type": "code",
   "execution_count": 15,
   "metadata": {},
   "outputs": [],
   "source": [
    "window = 13"
   ]
  },
  {
   "cell_type": "code",
   "execution_count": 16,
   "metadata": {},
   "outputs": [],
   "source": [
    "wells_sm = pd.DataFrame()\n",
    "\n",
    "grouped = wells['well'].unique()\n",
    "\n",
    "for well in grouped:    \n",
    "    new_df = pd.DataFrame()   \n",
    "    for log in logs:\n",
    "        sm = br.filters.mean(np.array(wells[log][wells['well'] == well]), window)\n",
    "        new_df[str(log) + '_sm'] = sm \n",
    "    wells_sm = pd.concat([wells_sm, new_df])"
   ]
  },
  {
   "cell_type": "markdown",
   "metadata": {},
   "source": [
    "Combine DataFrame of smoothed curves with original DataFrame"
   ]
  },
  {
   "cell_type": "code",
   "execution_count": 17,
   "metadata": {},
   "outputs": [
    {
     "data": {
      "text/html": [
       "<div>\n",
       "<style scoped>\n",
       "    .dataframe tbody tr th:only-of-type {\n",
       "        vertical-align: middle;\n",
       "    }\n",
       "\n",
       "    .dataframe tbody tr th {\n",
       "        vertical-align: top;\n",
       "    }\n",
       "\n",
       "    .dataframe thead th {\n",
       "        text-align: right;\n",
       "    }\n",
       "</style>\n",
       "<table border=\"1\" class=\"dataframe\">\n",
       "  <thead>\n",
       "    <tr style=\"text-align: right;\">\n",
       "      <th></th>\n",
       "      <th>DEPTH</th>\n",
       "      <th>Vp</th>\n",
       "      <th>Vs</th>\n",
       "      <th>RHOB</th>\n",
       "      <th>well</th>\n",
       "      <th>Vp_sm</th>\n",
       "      <th>Vs_sm</th>\n",
       "      <th>RHOB_sm</th>\n",
       "    </tr>\n",
       "  </thead>\n",
       "  <tbody>\n",
       "    <tr>\n",
       "      <th>count</th>\n",
       "      <td>20561.0000</td>\n",
       "      <td>20561.000000</td>\n",
       "      <td>20561.000000</td>\n",
       "      <td>20561.00000</td>\n",
       "      <td>20561</td>\n",
       "      <td>20561.000000</td>\n",
       "      <td>20561.000000</td>\n",
       "      <td>20561.00000</td>\n",
       "    </tr>\n",
       "    <tr>\n",
       "      <th>unique</th>\n",
       "      <td>20561.0000</td>\n",
       "      <td>18174.000000</td>\n",
       "      <td>18097.000000</td>\n",
       "      <td>19889.00000</td>\n",
       "      <td>2</td>\n",
       "      <td>18587.000000</td>\n",
       "      <td>18562.000000</td>\n",
       "      <td>20054.00000</td>\n",
       "    </tr>\n",
       "    <tr>\n",
       "      <th>top</th>\n",
       "      <td>2425.5984</td>\n",
       "      <td>4832.049264</td>\n",
       "      <td>2845.177066</td>\n",
       "      <td>2.39882</td>\n",
       "      <td>P-129</td>\n",
       "      <td>4832.049264</td>\n",
       "      <td>2845.177066</td>\n",
       "      <td>2.39882</td>\n",
       "    </tr>\n",
       "    <tr>\n",
       "      <th>freq</th>\n",
       "      <td>1.0000</td>\n",
       "      <td>1868.000000</td>\n",
       "      <td>1868.000000</td>\n",
       "      <td>195.00000</td>\n",
       "      <td>12718</td>\n",
       "      <td>1856.000000</td>\n",
       "      <td>1856.000000</td>\n",
       "      <td>168.00000</td>\n",
       "    </tr>\n",
       "  </tbody>\n",
       "</table>\n",
       "</div>"
      ],
      "text/plain": [
       "             DEPTH            Vp            Vs         RHOB   well  \\\n",
       "count   20561.0000  20561.000000  20561.000000  20561.00000  20561   \n",
       "unique  20561.0000  18174.000000  18097.000000  19889.00000      2   \n",
       "top      2425.5984   4832.049264   2845.177066      2.39882  P-129   \n",
       "freq        1.0000   1868.000000   1868.000000    195.00000  12718   \n",
       "\n",
       "               Vp_sm         Vs_sm      RHOB_sm  \n",
       "count   20561.000000  20561.000000  20561.00000  \n",
       "unique  18587.000000  18562.000000  20054.00000  \n",
       "top      4832.049264   2845.177066      2.39882  \n",
       "freq     1856.000000   1856.000000    168.00000  "
      ]
     },
     "execution_count": 17,
     "metadata": {},
     "output_type": "execute_result"
    }
   ],
   "source": [
    "wells_despiked = (np.concatenate((wells.values, wells_sm.values), axis=1))\n",
    "cols = list(wells) + list(wells_sm)\n",
    "wells_despiked_df = pd.DataFrame(wells_despiked, columns=cols)\n",
    "wells_despiked_df.describe()"
   ]
  },
  {
   "cell_type": "markdown",
   "metadata": {},
   "source": [
    "Make sure results make sense"
   ]
  },
  {
   "cell_type": "code",
   "execution_count": 18,
   "metadata": {},
   "outputs": [
    {
     "data": {
      "image/png": "[encoded data removed]",
      "text/plain": [
       "<Figure size 432x720 with 2 Axes>"
      ]
     },
     "metadata": {
      "needs_background": "light"
     },
     "output_type": "display_data"
    }
   ],
   "source": [
    "fig = plt.figure(figsize=(6,10))\n",
    "\n",
    "ax0 = fig.add_subplot(121)\n",
    "ax0.plot(wells_despiked_df.loc[wells_despiked_df.well == 'P-129', 'Vp'], \n",
    "         wells_despiked_df.loc[wells_despiked_df.well == 'P-129', 'DEPTH'],\n",
    "                                 'gray', alpha=0.6, linewidth = 3, label='Vp')\n",
    "ax0.plot(wells_despiked_df.loc[wells_despiked_df.well == 'P-129', 'Vp_sm'], \n",
    "         wells_despiked_df.loc[wells_despiked_df.well == 'P-129', 'DEPTH'],\n",
    "                                 'k', linewidth = 1, label='despiked Vp')\n",
    "ax0.set_xlim([2500, 7500])\n",
    "ax0.legend( loc='upper left')\n",
    "ax0.set_title('Despiked Vp')\n",
    "ax0.set_ylabel(r'depth [m]', size=12)\n",
    "ax0.invert_yaxis()\n",
    "ax0.set_xlabel(r'Vp [m/s]', size=12)\n",
    "\n",
    "ax1 = fig.add_subplot(122)\n",
    "ax1.plot(wells_despiked_df.loc[wells_despiked_df.well == 'P-129', 'Vs'], \n",
    "         wells_despiked_df.loc[wells_despiked_df.well == 'P-129', 'DEPTH'],\n",
    "                                 'lightblue', alpha=0.6, linewidth = 3, label='Vs')\n",
    "ax1.plot(wells_despiked_df.loc[wells_despiked_df.well == 'P-129', 'Vs_sm'], \n",
    "         wells_despiked_df.loc[wells_despiked_df.well == 'P-129', 'DEPTH'],\n",
    "                                 'b', linewidth = 1, label='despiked Vs')\n",
    "ax1.set_xlim([1000, 4000])\n",
    "ax1.legend( loc='upper left')\n",
    "ax1.set_title('Despiked Vp')\n",
    "ax1.set_ylabel(r'depth [m]', size=12)\n",
    "ax1.invert_yaxis()\n",
    "ax1.set_xlabel(r'Vs [m/s]', size=12)\n",
    "\n",
    "plt.tight_layout()\n",
    "plt.show()"
   ]
  },
  {
   "cell_type": "code",
   "execution_count": 19,
   "metadata": {},
   "outputs": [
    {
     "data": {
      "image/png": "[encoded data removed]",
      "text/plain": [
       "<Figure size 432x720 with 2 Axes>"
      ]
     },
     "metadata": {
      "needs_background": "light"
     },
     "output_type": "display_data"
    }
   ],
   "source": [
    "fig = plt.figure(figsize=(6,10))\n",
    "ax0 = fig.add_subplot(121)\n",
    "ax0.plot(wells_despiked_df.loc[wells_despiked_df.well == 'R-39', 'Vp'], \n",
    "         wells_despiked_df.loc[wells_despiked_df.well == 'R-39', 'DEPTH'],\n",
    "                                 'gray', alpha=0.6, linewidth = 3, label='Vp')\n",
    "ax0.plot(wells_despiked_df.loc[wells_despiked_df.well == 'R-39', 'Vp_sm'], \n",
    "         wells_despiked_df.loc[wells_despiked_df.well == 'R-39', 'DEPTH'],\n",
    "                                 'k', linewidth = 1, label='despiked Vp')\n",
    "ax0.set_xlim([2500, 7500])\n",
    "ax0.legend( loc='upper left')\n",
    "ax0.set_title('Despiked Vp')\n",
    "ax0.set_ylabel(r'depth [m]', size=12)\n",
    "ax0.invert_yaxis()\n",
    "ax0.set_xlabel(r'Vp [m/s]', size=12)\n",
    "\n",
    "ax1 = fig.add_subplot(122)\n",
    "ax1.plot(wells_despiked_df.loc[wells_despiked_df.well == 'R-39', 'Vs'], \n",
    "         wells_despiked_df.loc[wells_despiked_df.well == 'R-39', 'DEPTH'],\n",
    "                                 'lightblue', alpha=0.6, linewidth = 3, label='Vs')\n",
    "ax1.plot(wells_despiked_df.loc[wells_despiked_df.well == 'R-39', 'Vs_sm'], \n",
    "         wells_despiked_df.loc[wells_despiked_df.well == 'R-39', 'DEPTH'],\n",
    "                                 'b', linewidth = 1, label='despiked Vs')\n",
    "#ax1.set_xlim([1000, 4000])\n",
    "ax1.legend( loc='upper left')\n",
    "ax1.set_title('Despiked Vp')\n",
    "ax1.set_ylabel(r'depth [m]', size=12)\n",
    "ax1.invert_yaxis()\n",
    "ax1.set_xlabel(r'Vs [m/s]', size=12)\n",
    "\n",
    "plt.tight_layout()\n",
    "plt.show()"
   ]
  },
  {
   "cell_type": "markdown",
   "metadata": {},
   "source": [
    "#### Upscale with Backus average Vp, Vs, and RHOB"
   ]
  },
  {
   "cell_type": "code",
   "execution_count": 20,
   "metadata": {},
   "outputs": [],
   "source": [
    "lb = 30.0"
   ]
  },
  {
   "cell_type": "code",
   "execution_count": 21,
   "metadata": {},
   "outputs": [],
   "source": [
    "dz = 0.15240"
   ]
  },
  {
   "cell_type": "code",
   "execution_count": 22,
   "metadata": {},
   "outputs": [],
   "source": [
    "test_vp = np.array(wells_despiked_df['Vp_sm'][wells_despiked_df['well'] == 'P-129'])"
   ]
  },
  {
   "cell_type": "code",
   "execution_count": 23,
   "metadata": {},
   "outputs": [
    {
     "name": "stdout",
     "output_type": "stream",
     "text": [
      "<class 'float'> <class 'float'> <class 'numpy.ndarray'>\n"
     ]
    }
   ],
   "source": [
    "print (type(lb), type(dz), type(test_vp))"
   ]
  },
  {
   "cell_type": "code",
   "execution_count": 47,
   "metadata": {},
   "outputs": [
    {
     "ename": "AttributeError",
     "evalue": "'float' object has no attribute 'sqrt'",
     "output_type": "error",
     "traceback": [
      "\u001b[0;31m---------------------------------------------------------------------------\u001b[0m",
      "\u001b[0;31mAttributeError\u001b[0m                            Traceback (most recent call last)",
      "\u001b[0;32m<ipython-input-47-568194a4ffc0>\u001b[0m in \u001b[0;36m<module>\u001b[0;34m\u001b[0m\n\u001b[1;32m      9\u001b[0m     \u001b[0mrhob\u001b[0m \u001b[0;34m=\u001b[0m \u001b[0mnp\u001b[0m\u001b[0;34m.\u001b[0m\u001b[0marray\u001b[0m\u001b[0;34m(\u001b[0m\u001b[0mwells_despiked_df\u001b[0m\u001b[0;34m[\u001b[0m\u001b[0;34m'RHOB'\u001b[0m\u001b[0;34m]\u001b[0m\u001b[0;34m[\u001b[0m\u001b[0mwells_despiked_df\u001b[0m\u001b[0;34m[\u001b[0m\u001b[0;34m'well'\u001b[0m\u001b[0;34m]\u001b[0m \u001b[0;34m==\u001b[0m \u001b[0mwell\u001b[0m\u001b[0;34m]\u001b[0m\u001b[0;34m)\u001b[0m\u001b[0;34m\u001b[0m\u001b[0m\n\u001b[1;32m     10\u001b[0m \u001b[0;34m\u001b[0m\u001b[0m\n\u001b[0;32m---> 11\u001b[0;31m     \u001b[0mVp_bks\u001b[0m\u001b[0;34m,\u001b[0m \u001b[0mVs_bks\u001b[0m\u001b[0;34m,\u001b[0m \u001b[0mrhob_bks\u001b[0m \u001b[0;34m=\u001b[0m \u001b[0mbr\u001b[0m\u001b[0;34m.\u001b[0m\u001b[0mrockphysics\u001b[0m\u001b[0;34m.\u001b[0m\u001b[0mbackus\u001b[0m\u001b[0;34m(\u001b[0m\u001b[0mVp\u001b[0m\u001b[0;34m,\u001b[0m \u001b[0mVs\u001b[0m\u001b[0;34m,\u001b[0m \u001b[0mrhob\u001b[0m\u001b[0;34m,\u001b[0m \u001b[0mlb\u001b[0m\u001b[0;34m,\u001b[0m \u001b[0mdz\u001b[0m\u001b[0;34m)\u001b[0m\u001b[0;34m\u001b[0m\u001b[0m\n\u001b[0m\u001b[1;32m     12\u001b[0m     \u001b[0mnew_df\u001b[0m\u001b[0;34m[\u001b[0m\u001b[0mstr\u001b[0m\u001b[0;34m(\u001b[0m\u001b[0mVp\u001b[0m\u001b[0;34m)\u001b[0m \u001b[0;34m+\u001b[0m \u001b[0;34m'_bk'\u001b[0m\u001b[0;34m]\u001b[0m \u001b[0;34m=\u001b[0m \u001b[0mVp_bks\u001b[0m\u001b[0;34m\u001b[0m\u001b[0m\n\u001b[1;32m     13\u001b[0m     \u001b[0mnew_df\u001b[0m\u001b[0;34m[\u001b[0m\u001b[0mstr\u001b[0m\u001b[0;34m(\u001b[0m\u001b[0mVs\u001b[0m\u001b[0;34m)\u001b[0m \u001b[0;34m+\u001b[0m \u001b[0;34m'_bk'\u001b[0m\u001b[0;34m]\u001b[0m \u001b[0;34m=\u001b[0m \u001b[0mVs_bks\u001b[0m\u001b[0;34m\u001b[0m\u001b[0m\n",
      "\u001b[0;32m/anaconda2/envs/bruges/lib/python3.6/site-packages/bruges/rockphysics/anisotropy.py\u001b[0m in \u001b[0;36mbackus\u001b[0;34m(vp, vs, rho, lb, dz)\u001b[0m\n\u001b[1;32m     83\u001b[0m     \u001b[0;31m# Compute the vertical velocities from Liner (2014) equation 5:\u001b[0m\u001b[0;34m\u001b[0m\u001b[0;34m\u001b[0m\u001b[0m\n\u001b[1;32m     84\u001b[0m     \u001b[0mR\u001b[0m \u001b[0;34m=\u001b[0m \u001b[0mmoving_average\u001b[0m\u001b[0;34m(\u001b[0m\u001b[0mrho\u001b[0m\u001b[0;34m,\u001b[0m \u001b[0mlb\u001b[0m\u001b[0;34m/\u001b[0m\u001b[0mdz\u001b[0m\u001b[0;34m,\u001b[0m \u001b[0mmode\u001b[0m\u001b[0;34m=\u001b[0m\u001b[0;34m'same'\u001b[0m\u001b[0;34m)\u001b[0m\u001b[0;34m\u001b[0m\u001b[0m\n\u001b[0;32m---> 85\u001b[0;31m     \u001b[0mvp0\u001b[0m \u001b[0;34m=\u001b[0m \u001b[0mnp\u001b[0m\u001b[0;34m.\u001b[0m\u001b[0msqrt\u001b[0m\u001b[0;34m(\u001b[0m\u001b[0mC\u001b[0m \u001b[0;34m/\u001b[0m \u001b[0mR\u001b[0m\u001b[0;34m)\u001b[0m\u001b[0;34m\u001b[0m\u001b[0m\n\u001b[0m\u001b[1;32m     86\u001b[0m     \u001b[0mvs0\u001b[0m \u001b[0;34m=\u001b[0m \u001b[0mnp\u001b[0m\u001b[0;34m.\u001b[0m\u001b[0msqrt\u001b[0m\u001b[0;34m(\u001b[0m\u001b[0mL\u001b[0m \u001b[0;34m/\u001b[0m \u001b[0mR\u001b[0m\u001b[0;34m)\u001b[0m\u001b[0;34m\u001b[0m\u001b[0m\n\u001b[1;32m     87\u001b[0m \u001b[0;34m\u001b[0m\u001b[0m\n",
      "\u001b[0;31mAttributeError\u001b[0m: 'float' object has no attribute 'sqrt'"
     ]
    }
   ],
   "source": [
    "wells_bk = pd.DataFrame()\n",
    "\n",
    "grouped = wells_despiked_df['well'].unique()\n",
    "\n",
    "for well in grouped:    \n",
    "    new_df = pd.DataFrame() \n",
    "    Vp = np.array(wells_despiked_df['Vp_sm'][wells_despiked_df['well'] == well])\n",
    "    Vs = np.array(wells_despiked_df['Vs_sm'][wells_despiked_df['well'] == well])\n",
    "    rhob = np.array(wells_despiked_df['RHOB'][wells_despiked_df['well'] == well]) \n",
    "\n",
    "    Vp_bks, Vs_bks, rhob_bks = br.rockphysics.backus(Vp, Vs, rhob, lb, dz)    \n",
    "    new_df[str(Vp) + '_bk'] = Vp_bks\n",
    "    new_df[str(Vs) + '_bk'] = Vs_bks\n",
    "    new_df[str(RHOB) + '_bk'] = rhob_bks\n",
    "                     \n",
    "    wells_bk = pd.concat([wells_bk, new_df])"
   ]
  },
  {
   "cell_type": "markdown",
   "metadata": {},
   "source": [
    "## Problem is the spikes in Vs\n",
    "The proper way to fix it is to do \n",
    "\n",
    "`Vs<1500 = np.nan`\n",
    "\n",
    "then use the welly interpolate function for curves `Vs.interpolate()`"
   ]
  },
  {
   "cell_type": "code",
   "execution_count": 28,
   "metadata": {},
   "outputs": [
    {
     "name": "stdout",
     "output_type": "stream",
     "text": [
      "P-129 3495.4928679925442 6297.150143157205\n",
      "P-129 2076.6258794425607 3529.395549083391\n",
      "P-129 1.1739528179 4.6287999153\n",
      "R-39 2973.0812750891464 5101.915686454829\n",
      "R-39 -305.02877763499725 3226.3079256191236\n",
      "R-39 2050.229 3144.6697\n"
     ]
    }
   ],
   "source": [
    "wells_bk = pd.DataFrame()\n",
    "\n",
    "grouped = wells_despiked_df['well'].unique()\n",
    "\n",
    "for well in grouped:    \n",
    "    new_df = pd.DataFrame() \n",
    "    Vp = np.array(wells_despiked_df['Vp_sm'][wells_despiked_df['well'] == well])\n",
    "    Vs = np.array(wells_despiked_df['Vs_sm'][wells_despiked_df['well'] == well])\n",
    "    rhob = np.array(wells_despiked_df['RHOB'][wells_despiked_df['well'] == well]) \n",
    "    print(well, np.amin(Vp), np.amax(Vp))\n",
    "    print(well, np.amin(Vs), np.amax(Vs))\n",
    "    print(well, np.amin(rhob), np.amax(rhob))"
   ]
  },
  {
   "cell_type": "markdown",
   "metadata": {},
   "source": [
    "Combine DataFrame of smoothed curves with original DataFrame"
   ]
  },
  {
   "cell_type": "code",
   "execution_count": null,
   "metadata": {},
   "outputs": [],
   "source": [
    "wells_despiked = (np.concatenate((wells.values, wells_sm.values), axis=1))\n",
    "cols = list(wells) + list(wells_sm)\n",
    "wells_despiked_df = pd.DataFrame(wells_despiked, columns=cols)\n",
    "wells_despiked_df.describe()"
   ]
  },
  {
   "cell_type": "markdown",
   "metadata": {},
   "source": [
    "##### To be continued..."
   ]
  },
  {
   "cell_type": "code",
   "execution_count": null,
   "metadata": {},
   "outputs": [],
   "source": []
  }
 ],
 "metadata": {
  "kernelspec": {
   "display_name": "Python [conda env:bruges]",
   "language": "python",
   "name": "conda-env-bruges-py"
  },
  "language_info": {
   "codemirror_mode": {
    "name": "ipython",
    "version": 3
   },
   "file_extension": ".py",
   "mimetype": "text/x-python",
   "name": "python",
   "nbconvert_exporter": "python",
   "pygments_lexer": "ipython3",
   "version": "3.6.6"
  }
 },
 "nbformat": 4,
 "nbformat_minor": 2
}
