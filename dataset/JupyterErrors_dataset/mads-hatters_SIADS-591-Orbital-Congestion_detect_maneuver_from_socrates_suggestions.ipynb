{
 "cells": [
  {
   "cell_type": "markdown",
   "metadata": {},
   "source": [
    "# DEPRECATED! GO HERE FOR LATEST WORKING: <a href=\"../../job/maneuver/detect_maneuver_from_socrates_suggestions.ipynb\">job/maneuver/detect_maneuver_from_socrates_suggestions.ipynb</a>\n",
    "\n",
    "#### Please leave this alone though!"
   ]
  },
  {
   "cell_type": "code",
   "execution_count": 1,
   "metadata": {},
   "outputs": [
    {
     "ename": "Exception",
     "evalue": "STOP! THIS IS DEPRECATED!",
     "output_type": "error",
     "traceback": [
      "\u001b[0;31m---------------------------------------------------------------------------\u001b[0m",
      "\u001b[0;31mException\u001b[0m                                 Traceback (most recent call last)",
      "\u001b[0;32m<ipython-input-1-10bd9f2e988c>\u001b[0m in \u001b[0;36m<module>\u001b[0;34m\u001b[0m\n\u001b[0;32m----> 1\u001b[0;31m \u001b[0;32mraise\u001b[0m \u001b[0mException\u001b[0m\u001b[0;34m(\u001b[0m\u001b[0;34m\"STOP! THIS IS DEPRECATED!\"\u001b[0m\u001b[0;34m)\u001b[0m\u001b[0;34m\u001b[0m\u001b[0;34m\u001b[0m\u001b[0m\n\u001b[0m",
      "\u001b[0;31mException\u001b[0m: STOP! THIS IS DEPRECATED!"
     ]
    }
   ],
   "source": [
    "raise Exception(\"STOP! THIS IS DEPRECATED!\")"
   ]
  },
  {
   "cell_type": "code",
   "execution_count": null,
   "metadata": {},
   "outputs": [],
   "source": [
    "import pandas as pd\n",
    "import matplotlib.pyplot as plt\n",
    "import matplotlib\n",
    "from os import listdir\n",
    "from os.path import isfile, join\n",
    "import re\n",
    "import datetime\n",
    "import numpy as np\n",
    "\n",
    "import importlib\n",
    "import detect_maneuver # put it in a .py so it can be used by the SOCRATES detection part also\n",
    "importlib.reload(detect_maneuver);"
   ]
  },
  {
   "cell_type": "code",
   "execution_count": null,
   "metadata": {},
   "outputs": [],
   "source": [
    "satcat = pd.read_csv(f'../satcat_all.csv')"
   ]
  },
  {
   "cell_type": "markdown",
   "metadata": {},
   "source": [
    "Let's identify the incident from SOCRATES first"
   ]
  },
  {
   "cell_type": "code",
   "execution_count": null,
   "metadata": {},
   "outputs": [],
   "source": [
    "path = '../../data/socrates/'\n",
    "files = [ (match[0],match[1]) for f in listdir(path) if isfile(join(path, f))  if (match:=re.search('^socrates_([0-9]{14})\\.csv(\\.gz)?$', f))]\n",
    "files\n",
    "\n",
    "# Build single dataset\n",
    "odf = pd.DataFrame()\n",
    "for file,date in files:\n",
    "    tmp_df = pd.read_csv(path + file)\n",
    "    odf = pd.concat([odf,tmp_df])"
   ]
  },
  {
   "cell_type": "code",
   "execution_count": null,
   "metadata": {},
   "outputs": [],
   "source": [
    "socrates = odf.copy()\n",
    "socrates = socrates.sort_values(by=\"tca_time\", ascending=False)\n",
    "socrates = socrates[socrates.max_prob != 1]\n",
    "socrates = socrates[socrates.rel_velo_kms > 0.2]\n",
    "socrates['tca_time'] = socrates['tca_time'].astype('datetime64[ns]')\n",
    "socrates['extract_date'] = socrates['extract_date'].astype('datetime64[ns]')\n",
    "\n",
    "# `tca_rounded` is to allow grouping of the same event with slightly different `tca_time`\n",
    "socrates['tca_rounded'] = socrates['tca_time'].dt.round('30min')\n",
    "\n",
    "# socrates"
   ]
  },
  {
   "cell_type": "code",
   "execution_count": null,
   "metadata": {},
   "outputs": [],
   "source": [
    "path = f'../../../siads591 data/filtered_raw/payload.pkl.gz' # path to the data file\n",
    "df = pd.read_pickle(path, compression=\"gzip\")\n",
    "\n",
    "unique_active_satellites = df[df.index > \"2020-11-01\"].NORAD_CAT_ID.unique()"
   ]
  },
  {
   "cell_type": "code",
   "execution_count": null,
   "metadata": {},
   "outputs": [],
   "source": [
    "unique_active_satellites"
   ]
  },
  {
   "cell_type": "markdown",
   "metadata": {},
   "source": [
    "Filtering for active satellies in LEO only resulted in the removal of only 1.35% of Socrates entries! That means most of the Socrates entries are related to active LEO satellites. (232204 -> 229079)"
   ]
  },
  {
   "cell_type": "code",
   "execution_count": null,
   "metadata": {},
   "outputs": [],
   "source": [
    "active_socrates = socrates.copy()\n",
    "\n",
    "# each group represents a conjunction event\n",
    "active_socrates = active_socrates.groupby(by=[\"sat1_norad\",\"sat2_norad\",\"tca_rounded\"]).agg({'max_prob':'max', 'tca_time':'max', 'extract_date':['min','nunique']})\n",
    "active_socrates.columns = active_socrates.columns.to_flat_index()\n",
    "active_socrates = active_socrates.reset_index()\n",
    "active_socrates.columns = ['sat1','sat2','tca_r','max_prob','tca','extract_date','nunique']\n",
    "\n",
    "# we are evaluating individual satellite maneuvers, so we break up each pair into separate entries\n",
    "active_socrates = active_socrates.melt(id_vars=['tca_r', 'max_prob', 'tca', 'extract_date', 'nunique'], value_vars=[\"sat1\",\"sat2\"])\n",
    "active_socrates = active_socrates.drop(columns=['variable'])\n",
    "active_socrates = active_socrates.rename(columns={'value':'norad_id'})\n",
    "\n",
    "# filter only for satellites that could potentially move\n",
    "active_socrates = active_socrates[(active_socrates.norad_id.isin(unique_active_satellites))]\n",
    "active_socrates = active_socrates.sort_values(by=\"max_prob\", ascending=False)\n",
    "# active_socrates\n",
    "\n",
    "base_socrates_prob = pd.DataFrame({'extract_date':socrates.extract_date.unique()})\n",
    "base_socrates_prob[\"max_prob\"] = 0\n",
    "base_socrates_prob = base_socrates_prob.set_index(\"extract_date\")"
   ]
  },
  {
   "cell_type": "code",
   "execution_count": null,
   "metadata": {},
   "outputs": [],
   "source": [
    "combined_maneuver_functions = {\n",
    "    'INCLINATION': [\n",
    "        (\"rolling_10_neightor_diff\", lambda x:x.rolling(10, min_periods=1).mean().shift(-9) - x.rolling(10, min_periods=1).mean(), [0.008]),\n",
    "    ],\n",
    "    'SEMIMAJOR_AXIS': [\n",
    "        (\"rolling_3_neightor_diff\", lambda x:x.rolling(3, min_periods=1).mean().shift(-2) - x.rolling(3, min_periods=1).mean(), [0.025]),\n",
    "    ],\n",
    "}"
   ]
  },
  {
   "cell_type": "code",
   "execution_count": null,
   "metadata": {},
   "outputs": [],
   "source": [
    "# active_socrates contain all the interesting things that we want to look at\n",
    "# each row represents an active satellite in an event, sorted by max max_prob\n",
    "it = active_socrates.iterrows()"
   ]
  },
  {
   "cell_type": "code",
   "execution_count": null,
   "metadata": {
    "scrolled": false
   },
   "outputs": [],
   "source": [
    "# generate_single_inline = True\n",
    "generate_single_inline = False\n",
    "\n",
    "# loop them 1 by 1 manually\n",
    "while True:\n",
    "    row = next(it)[1]\n",
    "    if row[\"max_prob\"] < 0.005:\n",
    "        break\n",
    "    norad_id = row['norad_id']\n",
    "    tca_r = row['tca_r']\n",
    "\n",
    "    soc_data = socrates[((socrates.sat1_norad == norad_id) | (socrates.sat2_norad == norad_id)) & (socrates.tca_rounded == tca_r)].drop_duplicates(subset=[\"extract_date\"]).sort_values(by=\"extract_date\").copy()\n",
    "#     if len(soc_data) <= 1: # with only a single prediction nothing visible gets plotted\n",
    "#         continue\n",
    "    # display(soc_data)\n",
    "    sat = df[df.NORAD_CAT_ID == norad_id].reset_index().copy()\n",
    "    sat = sat.drop_duplicates(subset=[\"EPOCH\"])\n",
    "    sat = sat.set_index(\"EPOCH\")[['SEMIMAJOR_AXIS_x1000','INCLINATION_x10000']]\n",
    "    sat['INCLINATION'] = sat['INCLINATION_x10000'].astype(np.float64) / 10000\n",
    "    sat['SEMIMAJOR_AXIS'] = sat['SEMIMAJOR_AXIS_x1000'].astype(np.float64) / 1000\n",
    "    sat = sat[['INCLINATION','SEMIMAJOR_AXIS']]\n",
    "\n",
    "    sat_short = sat.loc[(sat.index >= (soc_data.extract_date.min() - pd.Timedelta(\"14 days\"))) & (sat.index <= (soc_data.tca_time.mean() + pd.Timedelta(\"5 days\")))]\n",
    "    \n",
    "    probs = base_socrates_prob.copy()\n",
    "    probs.update(soc_data[['max_prob','extract_date']].set_index(\"extract_date\"))\n",
    "    probs = probs.loc[((probs.index >= soc_data.extract_date.min()) & (probs.index <= soc_data.tca_time.mean())) | (probs.max_prob >0)]\n",
    "    \n",
    "    fixed = detect_maneuver.remove_strange_data(sat_short)\n",
    "    maneuver_results, combined_results = detect_maneuver.find_maneuvers(fixed, combined_maneuver_functions)\n",
    "    \n",
    "    stuff = (fixed, combined_results, f'{satcat.loc[(satcat.NORAD_CAT_ID == norad_id),\"SATNAME\"].values[0]} ({norad_id}) ')\n",
    "    \n",
    "    fig = plt.figure(figsize=(10,6))\n",
    "    ax1 = fig.add_subplot(2, 1, 1)\n",
    "    ax2 = fig.add_subplot(2, 1, 2, sharex = ax1)\n",
    "    \n",
    "    \n",
    "    detect_maneuver.plot_combined_maneuvers(fig, ax1, *stuff)\n",
    "    fig.tight_layout(pad=1.5)\n",
    "    fig.set_facecolor(\"white\")\n",
    "    detect_maneuver.plot_extra_lines(ax2,sat_short,probs,soc_data)\n",
    "    fig.legend()\n",
    "\n",
    "#     ax3 = fig.add_subplot(3, 1, 3)\n",
    "#     detect_maneuver.plot_combined_maneuvers(fig, ax3, sat, None, \"\")\n",
    "#     plt.setp(ax2.get_xticklabels(), visible=True)\n",
    "    \n",
    "    if generate_single_inline:\n",
    "        break\n",
    "    fig.savefig(f'socrates_rmm/{len(combined_results)}_{round(probs.max_prob.max()*100, 3)}%_{satcat.loc[(satcat.NORAD_CAT_ID == norad_id),\"SATNAME\"].values[0]}_{norad_id}_{soc_data.tca_time.mean().strftime(\"%Y-%m-%d_%H%M\")}.png', facecolor='white', transparent=False)\n",
    "    plt.close()\n"
   ]
  },
  {
   "cell_type": "code",
   "execution_count": null,
   "metadata": {},
   "outputs": [],
   "source": []
  }
 ],
 "metadata": {
  "kernelspec": {
   "display_name": "Python 3",
   "language": "python",
   "name": "python3"
  },
  "language_info": {
   "codemirror_mode": {
    "name": "ipython",
    "version": 3
   },
   "file_extension": ".py",
   "mimetype": "text/x-python",
   "name": "python",
   "nbconvert_exporter": "python",
   "pygments_lexer": "ipython3",
   "version": "3.8.5"
  }
 },
 "nbformat": 4,
 "nbformat_minor": 4
}
