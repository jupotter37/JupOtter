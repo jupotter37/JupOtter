{
 "cells": [
  {
   "cell_type": "code",
   "execution_count": 2,
   "metadata": {},
   "outputs": [
    {
     "ename": "NameError",
     "evalue": "name 'jf' is not defined",
     "output_type": "error",
     "traceback": [
      "\u001b[0;31m---------------------------------------------------------------------------\u001b[0m",
      "\u001b[0;31mNameError\u001b[0m                                 Traceback (most recent call last)",
      "\u001b[0;32m<ipython-input-2-32a1decaea78>\u001b[0m in \u001b[0;36m<module>\u001b[0;34m\u001b[0m\n\u001b[1;32m      7\u001b[0m \u001b[0;34m\u001b[0m\u001b[0m\n\u001b[1;32m      8\u001b[0m \u001b[0;31m# 爬蟲\u001b[0m\u001b[0;34m\u001b[0m\u001b[0;34m\u001b[0m\u001b[0;34m\u001b[0m\u001b[0m\n\u001b[0;32m----> 9\u001b[0;31m \u001b[0;32mfor\u001b[0m \u001b[0mkey\u001b[0m \u001b[0;32min\u001b[0m \u001b[0mjf\u001b[0m\u001b[0;34m:\u001b[0m\u001b[0;34m\u001b[0m\u001b[0;34m\u001b[0m\u001b[0m\n\u001b[0m\u001b[1;32m     10\u001b[0m     \u001b[0mprint\u001b[0m\u001b[0;34m(\u001b[0m\u001b[0;34m\"~~~~~~~~~~~~~~~~~~\"\u001b[0m \u001b[0;34m,\u001b[0m\u001b[0mkey\u001b[0m \u001b[0;34m,\u001b[0m\u001b[0;34m\"~~~~~~~~~~~~~~~~~~\"\u001b[0m\u001b[0;34m)\u001b[0m\u001b[0;34m\u001b[0m\u001b[0;34m\u001b[0m\u001b[0m\n\u001b[1;32m     11\u001b[0m     \u001b[0mr\u001b[0m \u001b[0;34m=\u001b[0m \u001b[0mrequests\u001b[0m\u001b[0;34m.\u001b[0m\u001b[0mget\u001b[0m\u001b[0;34m(\u001b[0m\u001b[0mjf\u001b[0m\u001b[0;34m[\u001b[0m\u001b[0mkey\u001b[0m\u001b[0;34m]\u001b[0m\u001b[0;34m)\u001b[0m\u001b[0;34m\u001b[0m\u001b[0;34m\u001b[0m\u001b[0m\n",
      "\u001b[0;31mNameError\u001b[0m: name 'jf' is not defined"
     ]
    }
   ],
   "source": [
    "import requests\n",
    "from bs4 import BeautifulSoup\n",
    "import json\n",
    "import os\n",
    "\n",
    "\n",
    "\n",
    "# 爬蟲\n",
    "for key in jf:\n",
    "    print(\"~~~~~~~~~~~~~~~~~~\" ,key ,\"~~~~~~~~~~~~~~~~~~\")\n",
    "    r = requests.get(jf[key])\n",
    "    r.encoding='utf-8'\n",
    "    content = r.text\n",
    "    soup = BeautifulSoup(content, 'lxml') \n",
    "    tables = soup.find_all(class_ = 'mc')\n",
    "\n",
    "    # 遍歷並通知\n",
    "    for announce in tables:\n",
    "        try:\n",
    "            news = announce.find(class_ = 'ptname').a.string\n",
    "            link = announce.find(class_ = 'ptname').a.get('href')\n",
    "            data = announce.find(class_ = 'date').string.split()[1]\n",
    "        except:\n",
    "            pass\n",
    "        print(news)\n",
    "        print(link)\n",
    "        print(data)"
   ]
  },
  {
   "cell_type": "code",
   "execution_count": 40,
   "metadata": {},
   "outputs": [
    {
     "name": "stdout",
     "output_type": "stream",
     "text": [
      "電機系 蔡秉叡  榮獲 107年度科技部大專學生研究創作獎 指導教授：吳炳飛教授\n",
      "https://www.dece.nctu.edu.tw//zh_tw/News/Honors/%E9%9B%BB%E6%A9%9F%E7%B3%BB-%E8%94%A1%E7%A7%89%E5%8F%A1-%E6%A6%AE%E7%8D%B2-107%E5%B9%B4%E5%BA%A6%E7%A7%91%E6%8A%80%E9%83%A8%E5%A4%A7%E5%B0%88%E5%AD%B8%E7%94%9F%E7%A0%94%E7%A9%B6%E5%89%B5%E4%BD%9C%E7%8D%8E-%E6%8C%87%E5%B0%8E%E6%95%99%E6%8E%88-%E5%90%B3%E7%82%B3%E9%A3%9B%E6%95%99%E6%8E%88-89587352\n",
      "2019-07-05\n",
      "電信所 蔡易珈 同學 碩士論文 獲獎榮獲第23屆科林論文獎碩士論文頭等獎   指導老師： 李義明教授\n",
      "https://www.dece.nctu.edu.tw//zh_tw/News/Honors/%E9%9B%BB%E4%BF%A1%E6%89%80-%E8%94%A1%E6%98%93%E7%8F%88-%E5%90%8C%E5%AD%B8-%E7%A2%A9%E5%A3%AB%E8%AB%96%E6%96%87-%E7%8D%B2%E7%8D%8E%E6%A6%AE%E7%8D%B2%E7%AC%AC23%E5%B1%86%E7%A7%91%E6%9E%97%E8%AB%96%E6%96%87%E7%8D%8E%E7%A2%A9%E5%A3%AB%E8%AB%96%E6%96%87%E9%A0%AD%E7%AD%89%E7%8D%8E-%E6%8C%87%E5%B0%8E%E8%80%81%E5%B8%AB-%E6%9D%8E%E7%BE%A9%E6%98%8E%E6%95%99%E6%8E%88-32959574\n",
      "2019-05-24\n",
      "趙昌博 教授 榮獲  107 年度科技部傑出研究獎\n",
      "https://www.dece.nctu.edu.tw//zh_tw/News/Honors/%E8%B6%99%E6%98%8C%E5%8D%9A-%E6%95%99%E6%8E%88-%E6%A6%AE%E7%8D%B2-107-%E5%B9%B4%E5%BA%A6%E7%A7%91%E6%8A%80%E9%83%A8%E5%82%91%E5%87%BA%E7%A0%94%E7%A9%B6%E7%8D%8E-64649312\n",
      "2019-03-28\n",
      "何家駿  論文刊登於Neural Computing and Application (NCAA)   (1月2019)。 指導老師:王啟旭教授\n",
      "https://www.dece.nctu.edu.tw//zh_tw/News/Honors/%E4%BD%95%E5%AE%B6%E9%A7%BF-%E8%AB%96%E6%96%87%E5%88%8A%E7%99%BB%E6%96%BCNeural-Computing-and-Application-NCAA-1%E6%9C%882019-%E6%8C%87%E5%B0%8E%E8%80%81%E5%B8%AB-%E7%8E%8B%E5%95%9F%E6%97%AD%E6%95%99%E6%8E%88-34059544\n",
      "2019-03-28\n",
      "陳科宏 教授 榮獲  107 年度科技部傑出研究獎\n",
      "https://www.dece.nctu.edu.tw//zh_tw/News/Honors/%E9%99%B3%E7%A7%91%E5%AE%8F-%E6%95%99%E6%8E%88-%E6%A6%AE%E7%8D%B2-107-%E5%B9%B4%E5%BA%A6%E7%A7%91%E6%8A%80%E9%83%A8%E5%82%91%E5%87%BA%E7%A0%94%E7%A9%B6%E7%8D%8E-38880659\n",
      "2019-03-28\n",
      "林詩凱 榮獲  榮獲最佳博碩士論文獎碩士論文獎佳作  指導老師:闕河鳴教授   \n",
      "https://www.dece.nctu.edu.tw//zh_tw/News/Honors/%E6%9E%97%E8%A9%A9%E5%87%B1-%E6%A6%AE%E7%8D%B2-%E6%A6%AE%E7%8D%B2%E6%9C%80%E4%BD%B3%E5%8D%9A%E7%A2%A9%E5%A3%AB%E8%AB%96%E6%96%87%E7%8D%8E%E7%A2%A9%E5%A3%AB%E8%AB%96%E6%96%87%E7%8D%8E%E4%BD%B3%E4%BD%9C-%E6%8C%87%E5%B0%8E%E8%80%81%E5%B8%AB-%E9%97%95%E6%B2%B3%E9%B3%B4%E6%95%99%E6%8E%88-28561669\n",
      "2019-03-28\n",
      "廖千慧 榮獲  榮獲臺灣積體電路設計學會「107年度博士論文獎」 指導老師:溫宏斌教授   \n",
      "https://www.dece.nctu.edu.tw//zh_tw/News/Honors/%E5%BB%96%E5%8D%83%E6%85%A7-%E6%A6%AE%E7%8D%B2-%E6%A6%AE%E7%8D%B2%E8%87%BA%E7%81%A3%E7%A9%8D%E9%AB%94%E9%9B%BB%E8%B7%AF%E8%A8%AD%E8%A8%88%E5%AD%B8%E6%9C%83-107%E5%B9%B4%E5%BA%A6%E5%8D%9A%E5%A3%AB%E8%AB%96%E6%96%87%E7%8D%8E-%E6%8C%87%E5%B0%8E%E8%80%81%E5%B8%AB-%E6%BA%AB%E5%AE%8F%E6%96%8C%E6%95%99%E6%8E%88-1364426\n",
      "2019-03-28\n",
      "林家瑜、翁治平 榮獲  榮獲旭泰科技論文獎銀獎5萬元  指導老師:王蒞君教授   \n",
      "https://www.dece.nctu.edu.tw//zh_tw/News/Honors/%E6%9E%97%E5%AE%B6%E7%91%9C-%E7%BF%81%E6%B2%BB%E5%B9%B3-%E6%A6%AE%E7%8D%B2-%E6%A6%AE%E7%8D%B2%E6%97%AD%E6%B3%B0%E7%A7%91%E6%8A%80%E8%AB%96%E6%96%87%E7%8D%8E%E9%8A%80%E7%8D%8E5%E8%90%AC%E5%85%83-%E6%8C%87%E5%B0%8E%E8%80%81%E5%B8%AB-%E7%8E%8B%E8%92%9E%E5%90%9B%E6%95%99%E6%8E%88-97570260\n",
      "2019-03-28\n",
      "林詩凱 榮獲  榮獲最佳博碩士論文獎碩士論文獎佳作  指導老師:闕河鳴教授   \n",
      "https://www.dece.nctu.edu.tw//zh_tw/News/Honors/%E6%9E%97%E8%A9%A9%E5%87%B1-%E6%A6%AE%E7%8D%B2-%E6%A6%AE%E7%8D%B2%E6%9C%80%E4%BD%B3%E5%8D%9A%E7%A2%A9%E5%A3%AB%E8%AB%96%E6%96%87%E7%8D%8E%E7%A2%A9%E5%A3%AB%E8%AB%96%E6%96%87%E7%8D%8E%E4%BD%B3%E4%BD%9C-%E6%8C%87%E5%B0%8E%E8%80%81%E5%B8%AB-%E9%97%95%E6%B2%B3%E9%B3%B4%E6%95%99%E6%8E%88-81025874\n",
      "2019-03-28\n",
      "林詩凱 榮獲  榮獲最佳博碩士論文獎碩士論文獎佳作  指導老師:闕河鳴教授   \n",
      "https://www.dece.nctu.edu.tw//zh_tw/News/Honors/%E6%9E%97%E8%A9%A9%E5%87%B1-%E6%A6%AE%E7%8D%B2-%E6%A6%AE%E7%8D%B2%E6%9C%80%E4%BD%B3%E5%8D%9A%E7%A2%A9%E5%A3%AB%E8%AB%96%E6%96%87%E7%8D%8E%E7%A2%A9%E5%A3%AB%E8%AB%96%E6%96%87%E7%8D%8E%E4%BD%B3%E4%BD%9C-%E6%8C%87%E5%B0%8E%E8%80%81%E5%B8%AB-%E9%97%95%E6%B2%B3%E9%B3%B4%E6%95%99%E6%8E%88-22985876\n",
      "2019-03-28\n"
     ]
    }
   ],
   "source": [
    "ta_link = \"https://www.dece.nctu.edu.tw/zh_tw/News/Honors\"\n",
    "r = requests.get(ta_link)\n",
    "r.encoding = 'utf-8'\n",
    "soup = BeautifulSoup(r.text, 'lxml')\n",
    "tables = soup.find_all(class_=\"i-annc__title\")\n",
    "datas = soup.find_all(class_ = \"i-annc__postdate-content\")\n",
    "for i in range(len(tables)):\n",
    "    announce = tables[i]\n",
    "    data = datas[i]\n",
    "    try:\n",
    "        title =  announce.string\n",
    "        link = \"https://www.dece.nctu.edu.tw/\"\n",
    "        link += str(announce.get(\"href\"))\n",
    "        data = str(data).split()[-1][:-7]\n",
    "        print(title)\n",
    "        print(link)\n",
    "        print(data)\n",
    "        \n",
    "        if type(data) == None:\n",
    "            data = None\n",
    "    except:\n",
    "        pass\n"
   ]
  },
  {
   "cell_type": "code",
   "execution_count": null,
   "metadata": {},
   "outputs": [],
   "source": []
  }
 ],
 "metadata": {
  "kernelspec": {
   "display_name": "Python 3",
   "language": "python",
   "name": "python3"
  },
  "language_info": {
   "codemirror_mode": {
    "name": "ipython",
    "version": 3
   },
   "file_extension": ".py",
   "mimetype": "text/x-python",
   "name": "python",
   "nbconvert_exporter": "python",
   "pygments_lexer": "ipython3",
   "version": "3.7.1"
  }
 },
 "nbformat": 4,
 "nbformat_minor": 2
}
