{
 "cells": [
  {
   "cell_type": "markdown",
   "source": [
    "This package implements HSIC, KCIT, and SDCIT.\n"
   ],
   "metadata": {
    "collapsed": false,
    "pycharm": {
     "name": "#%% md\n"
    }
   }
  },
  {
   "cell_type": "code",
   "execution_count": 1,
   "metadata": {
    "collapsed": true,
    "pycharm": {
     "is_executing": false
    }
   },
   "outputs": [
    {
     "traceback": [
      "\u001b[0;31m---------------------------------------------------------------------------\u001b[0m",
      "\u001b[0;31mModuleNotFoundError\u001b[0m                       Traceback (most recent call last)",
      "\u001b[0;32m<ipython-input-1-37ed5eb4243a>\u001b[0m in \u001b[0;36m<module>\u001b[0;34m\u001b[0m\n\u001b[1;32m      1\u001b[0m \u001b[0;32mimport\u001b[0m \u001b[0mnumpy\u001b[0m \u001b[0;32mas\u001b[0m \u001b[0mnp\u001b[0m\u001b[0;34m\u001b[0m\u001b[0;34m\u001b[0m\u001b[0m\n\u001b[0;32m----> 2\u001b[0;31m \u001b[0;32mfrom\u001b[0m \u001b[0msdcit\u001b[0m\u001b[0;34m.\u001b[0m\u001b[0mkcit\u001b[0m \u001b[0;32mimport\u001b[0m \u001b[0mpython_kcit\u001b[0m\u001b[0;34m,\u001b[0m \u001b[0mpython_kcit_K\u001b[0m\u001b[0;34m\u001b[0m\u001b[0;34m\u001b[0m\u001b[0m\n\u001b[0m\u001b[1;32m      3\u001b[0m \u001b[0;32mfrom\u001b[0m \u001b[0msdcit\u001b[0m\u001b[0;34m.\u001b[0m\u001b[0mutils\u001b[0m \u001b[0;32mimport\u001b[0m \u001b[0mrbf_kernel_median\u001b[0m\u001b[0;34m\u001b[0m\u001b[0;34m\u001b[0m\u001b[0m\n\u001b[1;32m      4\u001b[0m \u001b[0;32mfrom\u001b[0m \u001b[0msdcit\u001b[0m\u001b[0;34m.\u001b[0m\u001b[0msdcit\u001b[0m \u001b[0;32mimport\u001b[0m \u001b[0mSDCIT\u001b[0m\u001b[0;34m\u001b[0m\u001b[0;34m\u001b[0m\u001b[0m\n\u001b[1;32m      5\u001b[0m \u001b[0;34m\u001b[0m\u001b[0m\n",
      "\u001b[0;32m~/Dropbox/python_projs/SDCIT/sdcit/sdcit.py\u001b[0m in \u001b[0;36m<module>\u001b[0;34m\u001b[0m\n\u001b[1;32m      3\u001b[0m \u001b[0;32mimport\u001b[0m \u001b[0mnumpy\u001b[0m \u001b[0;32mas\u001b[0m \u001b[0mnp\u001b[0m\u001b[0;34m\u001b[0m\u001b[0;34m\u001b[0m\u001b[0m\n\u001b[1;32m      4\u001b[0m \u001b[0;32mimport\u001b[0m \u001b[0mnumpy\u001b[0m\u001b[0;34m.\u001b[0m\u001b[0mma\u001b[0m \u001b[0;32mas\u001b[0m \u001b[0mma\u001b[0m\u001b[0;34m\u001b[0m\u001b[0;34m\u001b[0m\u001b[0m\n\u001b[0;32m----> 5\u001b[0;31m \u001b[0;32mfrom\u001b[0m \u001b[0msdcit\u001b[0m\u001b[0;34m.\u001b[0m\u001b[0mcython_impl\u001b[0m\u001b[0;34m.\u001b[0m\u001b[0mcy_sdcit\u001b[0m \u001b[0;32mimport\u001b[0m \u001b[0mcy_sdcit\u001b[0m\u001b[0;34m,\u001b[0m \u001b[0mcy_split_permutation\u001b[0m\u001b[0;34m,\u001b[0m \u001b[0mcy_dense_permutation\u001b[0m\u001b[0;34m\u001b[0m\u001b[0;34m\u001b[0m\u001b[0m\n\u001b[0m\u001b[1;32m      6\u001b[0m \u001b[0;32mfrom\u001b[0m \u001b[0msklearn\u001b[0m\u001b[0;34m.\u001b[0m\u001b[0mlinear_model\u001b[0m \u001b[0;32mimport\u001b[0m \u001b[0mLinearRegression\u001b[0m\u001b[0;34m\u001b[0m\u001b[0;34m\u001b[0m\u001b[0m\n\u001b[1;32m      7\u001b[0m \u001b[0;34m\u001b[0m\u001b[0m\n",
      "\u001b[0;31mModuleNotFoundError\u001b[0m: No module named 'sdcit.cython_impl'; 'sdcit' is not a package"
     ],
     "ename": "ModuleNotFoundError",
     "evalue": "No module named 'sdcit.cython_impl'; 'sdcit' is not a package",
     "output_type": "error"
    }
   ],
   "source": [
    "import numpy as np\n",
    "from sdcit.kcit import python_kcit, python_kcit_K\n",
    "from sdcit.utils import rbf_kernel_median\n",
    "from sdcit.sdcit_mod import SDCIT\n",
    "\n",
    "\n",
    "np.random.seed(0)\n",
    "\n",
    "N = 200\n",
    "# Three independent random variables\n",
    "X = np.random.randn(N, 2)\n",
    "Y = np.random.randn(N, 2)\n",
    "Z = np.random.randn(N, 2)\n",
    "Kx, Ky, Kz = rbf_kernel_median(X, Y, Z)  # median heuristic\n",
    "test_statistic, p_value = SDCIT(Kx, Ky, Kz)\n",
    "print('SDCIT p_value: {:.4f}'.format(p_value))\n",
    "\n",
    "p_value_for_KCIT = python_kcit(X, Y, Z)[2]\n",
    "print('KCIT  p_value: {:.4f}'.format(p_value_for_KCIT))\n",
    "\n",
    "p_value_for_KCIT = python_kcit_K(Kx, Ky, Kz)[2]\n",
    "print('KCIT  p_value: {:.4f}'.format(p_value_for_KCIT))\n",
    "\n",
    "\n",
    "# (conditionally dependent)\n",
    "# X --> Z <-- Y \n",
    "Z = X + Y + np.random.randn(N, 2)\n",
    "Kx, Ky, Kz = rbf_kernel_median(X, Y, Z)  # median heuristic\n",
    "test_statistic, p_value = SDCIT(Kx, Ky, Kz)\n",
    "print('SDCIT p_value: {:.4f}'.format(p_value))\n",
    "\n",
    "p_value_for_KCIT = python_kcit(X, Y, Z)[2]\n",
    "print('KCIT  p_value: {:.4f}'.format(p_value_for_KCIT))\n",
    "\n",
    "p_value_for_KCIT = python_kcit_K(Kx, Ky, Kz)[2]\n",
    "print('KCIT  p_value: {:.4f}'.format(p_value_for_KCIT))\n",
    "\n",
    "\n",
    "\n",
    "# (conditionally independent)\n",
    "# X <-- Z --> Y \n",
    "Z = np.random.randn(N, 2)\n",
    "X = Z + np.random.randn(N, 2)\n",
    "Y = Z + np.random.randn(N, 2)\n",
    "Kx, Ky, Kz = rbf_kernel_median(X, Y, Z)  # median heuristic\n",
    "test_statistic, p_value = SDCIT(Kx, Ky, Kz)\n",
    "print('SDCIT p_value: {:.4f}'.format(p_value))\n",
    "\n",
    "p_value_for_KCIT = python_kcit(X, Y, Z)[2]\n",
    "print('KCIT  p_value: {:.4f}'.format(p_value_for_KCIT))\n",
    "\n",
    "p_value_for_KCIT = python_kcit_K(Kx, Ky, Kz)[2]\n",
    "print('KCIT  p_value: {:.4f}'.format(p_value_for_KCIT))\n"
   ]
  }
 ],
 "metadata": {
  "kernelspec": {
   "display_name": "Python 3",
   "language": "python",
   "name": "python3"
  },
  "language_info": {
   "codemirror_mode": {
    "name": "ipython",
    "version": 2
   },
   "file_extension": ".py",
   "mimetype": "text/x-python",
   "name": "python",
   "nbconvert_exporter": "python",
   "pygments_lexer": "ipython2",
   "version": "2.7.6"
  },
  "pycharm": {
   "stem_cell": {
    "cell_type": "raw",
    "source": [],
    "metadata": {
     "collapsed": false
    }
   }
  }
 },
 "nbformat": 4,
 "nbformat_minor": 0
}