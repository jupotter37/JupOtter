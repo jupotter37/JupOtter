{
 "cells": [
  {
   "cell_type": "code",
   "execution_count": null,
   "metadata": {
    "collapsed": false,
    "slideshow": {
     "slide_type": "skip"
    }
   },
   "outputs": [],
   "source": [
    "!jupyter nbconvert Lecture-16.ipynb --to slides --post serve"
   ]
  },
  {
   "cell_type": "markdown",
   "metadata": {
    "slideshow": {
     "slide_type": "slide"
    }
   },
   "source": [
    "# Lecture 16:  Analytical Solutions II:  The Laplace Transform and Semi Infinite Media"
   ]
  },
  {
   "cell_type": "markdown",
   "metadata": {
    "slideshow": {
     "slide_type": "subslide"
    }
   },
   "source": [
    "### Sections\n",
    "\n",
    "* [Introduction](#Introduction)\n",
    "* [Learning Goals](#Learning-Goals)\n",
    "* [On Your Own](#On-Your-Own)\n",
    "    * The Laplace Transform\n",
    "    * The Laplace Transform of Derivatives\n",
    "* [In Class](#In-Class)\n",
    "    * Solving a PDE using Laplace Transformations\n",
    "    * Applying the Boundary Conditions\n",
    "* [Homework](#Homework)\n",
    "* [Summary](#Summary)\n",
    "* [Looking Ahead](#Looking-Ahead)\n",
    "* [Reading Assignments and Practice](#Reading-Assignments-and-Practice)"
   ]
  },
  {
   "cell_type": "markdown",
   "metadata": {
    "slideshow": {
     "slide_type": "skip"
    }
   },
   "source": [
    "### Introduction\n",
    "----\n",
    "\n",
    "While using the words \"hard\" or \"not hard\" are a bit unfair when discussing solutions to the diffusion equation, I will say that my personal experience is that problems with finite bounds are a bit trickier to set up than problems where the boundaries are located infinitely far away.  The simpler solutions to infinite/semi-infinite problems make them tempting to use on problems with small dimensions.  So that is a source of tension for the materials scientist!  Do I use the quick and easy solution, or do I try and simulate/compute the more-precise solution?  Understanding the limitations and quantifying the error (and, if possible bounding the error) is a useful tactic.  "
   ]
  },
  {
   "cell_type": "markdown",
   "metadata": {
    "slideshow": {
     "slide_type": "slide"
    }
   },
   "source": [
    "Set up our notebook with a few (usual) imports:"
   ]
  },
  {
   "cell_type": "code",
   "execution_count": 1,
   "metadata": {
    "collapsed": true,
    "slideshow": {
     "slide_type": "fragment"
    }
   },
   "outputs": [],
   "source": [
    "%matplotlib inline\n",
    "import numpy as np\n",
    "import math as math\n",
    "from scipy.special import erfc\n",
    "from ipywidgets import interact, fixed\n",
    "import matplotlib.pyplot as plt"
   ]
  },
  {
   "cell_type": "code",
   "execution_count": 2,
   "metadata": {
    "collapsed": true,
    "slideshow": {
     "slide_type": "skip"
    }
   },
   "outputs": [],
   "source": [
    "# run this cell before class.\n",
    "\n",
    "def diffusionSolution(x, t, C0, D):\n",
    "    return C0*erfc(x/(2.0*np.sqrt(D*t)))\n",
    "\n",
    "def myfig(t=0.1, C0=5.0, D=1.0):\n",
    "    \"\"\"\n",
    "    This function plots a solution to the diffusion equation\n",
    "    based on a Laplace transform solution.  Four inputs are \n",
    "    required.\n",
    "    \n",
    "    \n",
    "    \n",
    "    \"\"\"\n",
    "    x = np.linspace(0.0, 100.0, 5000)\n",
    "    y1 = diffusionSolution(x, t, C0, D)\n",
    "    fig = plt.figure(figsize=(5,4))\n",
    "    axes = fig.add_axes([0.1, 0.1, 0.8, 0.8])\n",
    "    axes.plot(x, y1, 'r', label=r\"$c(x,t)$\")\n",
    "    plt.fill_between(x, 0, y1, alpha=0.1, color='red')\n",
    "    axes.set_xlim([0.0,10.0])\n",
    "    axes.set_ylim([0.0,10.0])\n",
    "    axes.legend()\n",
    "    axes.grid(False)\n",
    "    return"
   ]
  },
  {
   "cell_type": "code",
   "execution_count": 3,
   "metadata": {
    "collapsed": false,
    "slideshow": {
     "slide_type": "slide"
    }
   },
   "outputs": [
    {
     "ename": "ValueError",
     "evalue": "sequence too large; cannot be greater than 32",
     "output_type": "error",
     "traceback": [
      "\u001b[0;31m---------------------------------------------------------------------------\u001b[0m",
      "\u001b[0;31mValueError\u001b[0m                                Traceback (most recent call last)",
      "\u001b[0;32m<ipython-input-2-8560d667f303>\u001b[0m in \u001b[0;36mmyfig\u001b[0;34m(t, C0, D)\u001b[0m\n\u001b[1;32m     14\u001b[0m     \"\"\"\n\u001b[1;32m     15\u001b[0m     \u001b[0mx\u001b[0m \u001b[0;34m=\u001b[0m \u001b[0mnp\u001b[0m\u001b[0;34m.\u001b[0m\u001b[0mlinspace\u001b[0m\u001b[0;34m(\u001b[0m\u001b[0;36m0.0\u001b[0m\u001b[0;34m,\u001b[0m \u001b[0;36m100.0\u001b[0m\u001b[0;34m,\u001b[0m \u001b[0;36m5000\u001b[0m\u001b[0;34m)\u001b[0m\u001b[0;34m\u001b[0m\u001b[0m\n\u001b[0;32m---> 16\u001b[0;31m     \u001b[0my1\u001b[0m \u001b[0;34m=\u001b[0m \u001b[0mdiffusionSolution\u001b[0m\u001b[0;34m(\u001b[0m\u001b[0mx\u001b[0m\u001b[0;34m,\u001b[0m \u001b[0mt\u001b[0m\u001b[0;34m,\u001b[0m \u001b[0mC0\u001b[0m\u001b[0;34m,\u001b[0m \u001b[0mD\u001b[0m\u001b[0;34m)\u001b[0m\u001b[0;34m\u001b[0m\u001b[0m\n\u001b[0m\u001b[1;32m     17\u001b[0m     \u001b[0mfig\u001b[0m \u001b[0;34m=\u001b[0m \u001b[0mplt\u001b[0m\u001b[0;34m.\u001b[0m\u001b[0mfigure\u001b[0m\u001b[0;34m(\u001b[0m\u001b[0mfigsize\u001b[0m\u001b[0;34m=\u001b[0m\u001b[0;34m(\u001b[0m\u001b[0;36m5\u001b[0m\u001b[0;34m,\u001b[0m\u001b[0;36m4\u001b[0m\u001b[0;34m)\u001b[0m\u001b[0;34m)\u001b[0m\u001b[0;34m\u001b[0m\u001b[0m\n\u001b[1;32m     18\u001b[0m     \u001b[0maxes\u001b[0m \u001b[0;34m=\u001b[0m \u001b[0mfig\u001b[0m\u001b[0;34m.\u001b[0m\u001b[0madd_axes\u001b[0m\u001b[0;34m(\u001b[0m\u001b[0;34m[\u001b[0m\u001b[0;36m0.1\u001b[0m\u001b[0;34m,\u001b[0m \u001b[0;36m0.1\u001b[0m\u001b[0;34m,\u001b[0m \u001b[0;36m0.8\u001b[0m\u001b[0;34m,\u001b[0m \u001b[0;36m0.8\u001b[0m\u001b[0;34m]\u001b[0m\u001b[0;34m)\u001b[0m\u001b[0;34m\u001b[0m\u001b[0m\n",
      "\u001b[0;32m<ipython-input-2-8560d667f303>\u001b[0m in \u001b[0;36mdiffusionSolution\u001b[0;34m(x, t, C0, D)\u001b[0m\n\u001b[1;32m      2\u001b[0m \u001b[0;34m\u001b[0m\u001b[0m\n\u001b[1;32m      3\u001b[0m \u001b[0;32mdef\u001b[0m \u001b[0mdiffusionSolution\u001b[0m\u001b[0;34m(\u001b[0m\u001b[0mx\u001b[0m\u001b[0;34m,\u001b[0m \u001b[0mt\u001b[0m\u001b[0;34m,\u001b[0m \u001b[0mC0\u001b[0m\u001b[0;34m,\u001b[0m \u001b[0mD\u001b[0m\u001b[0;34m)\u001b[0m\u001b[0;34m:\u001b[0m\u001b[0;34m\u001b[0m\u001b[0m\n\u001b[0;32m----> 4\u001b[0;31m     \u001b[0;32mreturn\u001b[0m \u001b[0mC0\u001b[0m\u001b[0;34m*\u001b[0m\u001b[0merfc\u001b[0m\u001b[0;34m(\u001b[0m\u001b[0mx\u001b[0m\u001b[0;34m/\u001b[0m\u001b[0;34m(\u001b[0m\u001b[0;36m2.0\u001b[0m\u001b[0;34m*\u001b[0m\u001b[0mnp\u001b[0m\u001b[0;34m.\u001b[0m\u001b[0msqrt\u001b[0m\u001b[0;34m(\u001b[0m\u001b[0mD\u001b[0m\u001b[0;34m*\u001b[0m\u001b[0mt\u001b[0m\u001b[0;34m)\u001b[0m\u001b[0;34m)\u001b[0m\u001b[0;34m)\u001b[0m\u001b[0;34m\u001b[0m\u001b[0m\n\u001b[0m\u001b[1;32m      5\u001b[0m \u001b[0;34m\u001b[0m\u001b[0m\n\u001b[1;32m      6\u001b[0m \u001b[0;32mdef\u001b[0m \u001b[0mmyfig\u001b[0m\u001b[0;34m(\u001b[0m\u001b[0mt\u001b[0m\u001b[0;34m=\u001b[0m\u001b[0;36m0.1\u001b[0m\u001b[0;34m,\u001b[0m \u001b[0mC0\u001b[0m\u001b[0;34m=\u001b[0m\u001b[0;36m5.0\u001b[0m\u001b[0;34m,\u001b[0m \u001b[0mD\u001b[0m\u001b[0;34m=\u001b[0m\u001b[0;36m1.0\u001b[0m\u001b[0;34m)\u001b[0m\u001b[0;34m:\u001b[0m\u001b[0;34m\u001b[0m\u001b[0m\n",
      "\u001b[0;32m/home/lewisd2/anaconda2/lib/python2.7/site-packages/sympy/core/function.pyc\u001b[0m in \u001b[0;36m__new__\u001b[0;34m(cls, *args, **options)\u001b[0m\n\u001b[1;32m    383\u001b[0m \u001b[0;34m\u001b[0m\u001b[0m\n\u001b[1;32m    384\u001b[0m         \u001b[0mevaluate\u001b[0m \u001b[0;34m=\u001b[0m \u001b[0moptions\u001b[0m\u001b[0;34m.\u001b[0m\u001b[0mget\u001b[0m\u001b[0;34m(\u001b[0m\u001b[0;34m'evaluate'\u001b[0m\u001b[0;34m,\u001b[0m \u001b[0mglobal_evaluate\u001b[0m\u001b[0;34m[\u001b[0m\u001b[0;36m0\u001b[0m\u001b[0;34m]\u001b[0m\u001b[0;34m)\u001b[0m\u001b[0;34m\u001b[0m\u001b[0m\n\u001b[0;32m--> 385\u001b[0;31m         \u001b[0mresult\u001b[0m \u001b[0;34m=\u001b[0m \u001b[0msuper\u001b[0m\u001b[0;34m(\u001b[0m\u001b[0mFunction\u001b[0m\u001b[0;34m,\u001b[0m \u001b[0mcls\u001b[0m\u001b[0;34m)\u001b[0m\u001b[0;34m.\u001b[0m\u001b[0m__new__\u001b[0m\u001b[0;34m(\u001b[0m\u001b[0mcls\u001b[0m\u001b[0;34m,\u001b[0m \u001b[0;34m*\u001b[0m\u001b[0margs\u001b[0m\u001b[0;34m,\u001b[0m \u001b[0;34m**\u001b[0m\u001b[0moptions\u001b[0m\u001b[0;34m)\u001b[0m\u001b[0;34m\u001b[0m\u001b[0m\n\u001b[0m\u001b[1;32m    386\u001b[0m         \u001b[0;32mif\u001b[0m \u001b[0;32mnot\u001b[0m \u001b[0mevaluate\u001b[0m \u001b[0;32mor\u001b[0m \u001b[0;32mnot\u001b[0m \u001b[0misinstance\u001b[0m\u001b[0;34m(\u001b[0m\u001b[0mresult\u001b[0m\u001b[0;34m,\u001b[0m \u001b[0mcls\u001b[0m\u001b[0;34m)\u001b[0m\u001b[0;34m:\u001b[0m\u001b[0;34m\u001b[0m\u001b[0m\n\u001b[1;32m    387\u001b[0m             \u001b[0;32mreturn\u001b[0m \u001b[0mresult\u001b[0m\u001b[0;34m\u001b[0m\u001b[0m\n",
      "\u001b[0;32m/home/lewisd2/anaconda2/lib/python2.7/site-packages/sympy/core/function.pyc\u001b[0m in \u001b[0;36m__new__\u001b[0;34m(cls, *args, **options)\u001b[0m\n\u001b[1;32m    197\u001b[0m         \u001b[0;32mfrom\u001b[0m \u001b[0msympy\u001b[0m\u001b[0;34m.\u001b[0m\u001b[0msets\u001b[0m\u001b[0;34m.\u001b[0m\u001b[0msets\u001b[0m \u001b[0;32mimport\u001b[0m \u001b[0mFiniteSet\u001b[0m\u001b[0;34m\u001b[0m\u001b[0m\n\u001b[1;32m    198\u001b[0m \u001b[0;34m\u001b[0m\u001b[0m\n\u001b[0;32m--> 199\u001b[0;31m         \u001b[0margs\u001b[0m \u001b[0;34m=\u001b[0m \u001b[0mlist\u001b[0m\u001b[0;34m(\u001b[0m\u001b[0mmap\u001b[0m\u001b[0;34m(\u001b[0m\u001b[0msympify\u001b[0m\u001b[0;34m,\u001b[0m \u001b[0margs\u001b[0m\u001b[0;34m)\u001b[0m\u001b[0;34m)\u001b[0m\u001b[0;34m\u001b[0m\u001b[0m\n\u001b[0m\u001b[1;32m    200\u001b[0m         \u001b[0mevaluate\u001b[0m \u001b[0;34m=\u001b[0m \u001b[0moptions\u001b[0m\u001b[0;34m.\u001b[0m\u001b[0mpop\u001b[0m\u001b[0;34m(\u001b[0m\u001b[0;34m'evaluate'\u001b[0m\u001b[0;34m,\u001b[0m \u001b[0mglobal_evaluate\u001b[0m\u001b[0;34m[\u001b[0m\u001b[0;36m0\u001b[0m\u001b[0;34m]\u001b[0m\u001b[0;34m)\u001b[0m\u001b[0;34m\u001b[0m\u001b[0m\n\u001b[1;32m    201\u001b[0m         \u001b[0;31m# WildFunction (and anything else like it) may have nargs defined\u001b[0m\u001b[0;34m\u001b[0m\u001b[0;34m\u001b[0m\u001b[0m\n",
      "\u001b[0;32m/home/lewisd2/anaconda2/lib/python2.7/site-packages/sympy/core/sympify.pyc\u001b[0m in \u001b[0;36msympify\u001b[0;34m(a, locals, convert_xor, strict, rational, evaluate)\u001b[0m\n\u001b[1;32m    280\u001b[0m         \u001b[0;32mtry\u001b[0m\u001b[0;34m:\u001b[0m\u001b[0;34m\u001b[0m\u001b[0m\n\u001b[1;32m    281\u001b[0m             return type(a)([sympify(x, locals=locals, convert_xor=convert_xor,\n\u001b[0;32m--> 282\u001b[0;31m                 rational=rational) for x in a])\n\u001b[0m\u001b[1;32m    283\u001b[0m         \u001b[0;32mexcept\u001b[0m \u001b[0mTypeError\u001b[0m\u001b[0;34m:\u001b[0m\u001b[0;34m\u001b[0m\u001b[0m\n\u001b[1;32m    284\u001b[0m             \u001b[0;31m# Not all iterables are rebuildable with their type.\u001b[0m\u001b[0;34m\u001b[0m\u001b[0;34m\u001b[0m\u001b[0m\n",
      "\u001b[0;31mValueError\u001b[0m: sequence too large; cannot be greater than 32"
     ]
    }
   ],
   "source": [
    "interact(myfig, t=(0.001,100.0,0.1), C0=(1.0,10.0,1.0), D=(1.0,10.0,1.0));"
   ]
  },
  {
   "cell_type": "markdown",
   "metadata": {
    "slideshow": {
     "slide_type": "skip"
    }
   },
   "source": [
    "[Top of Page](#Sections)"
   ]
  },
  {
   "cell_type": "markdown",
   "metadata": {
    "slideshow": {
     "slide_type": "slide"
    }
   },
   "source": [
    "### Learning Goals\n",
    "----\n",
    "\n",
    "* Practice computing integral transforms and their inverses using Python\n",
    "* Identify useful resources in textbooks or on the Web\n",
    "* Use the Laplace transform to solve a semi-infinite diffusion problem\n",
    "* Gain confidence to apply the Laplace transform in future lectures"
   ]
  },
  {
   "cell_type": "markdown",
   "metadata": {
    "slideshow": {
     "slide_type": "skip"
    }
   },
   "source": [
    "[Top of Page](#Sections)"
   ]
  },
  {
   "cell_type": "markdown",
   "metadata": {
    "slideshow": {
     "slide_type": "skip"
    }
   },
   "source": [
    "### On Your Own\n",
    "----"
   ]
  },
  {
   "cell_type": "markdown",
   "metadata": {
    "slideshow": {
     "slide_type": "skip"
    }
   },
   "source": [
    "#### The Laplace Transform\n",
    "\n",
    "The Laplace transform is an integral transform.  The Laplace transform of a function $f(t)$ is defined to be:\n",
    "\n",
    "$$\n",
    "\\int_0^{\\infty} f(t) e^{-st} dt\n",
    "$$\n",
    "\n",
    "We will explore `sympy`'s functionality for computing the Laplace transform.  But first let us to the integration explicitly."
   ]
  },
  {
   "cell_type": "code",
   "execution_count": 4,
   "metadata": {
    "collapsed": false,
    "scrolled": true,
    "slideshow": {
     "slide_type": "skip"
    }
   },
   "outputs": [
    {
     "name": "stdout",
     "output_type": "stream",
     "text": [
      "IPython console for SymPy 1.0 (Python 2.7.12-64-bit) (ground types: python)\n"
     ]
    }
   ],
   "source": [
    "%matplotlib notebook\n",
    "\n",
    "import sympy as sp\n",
    "sp.init_session(quiet=True)"
   ]
  },
  {
   "cell_type": "markdown",
   "metadata": {
    "slideshow": {
     "slide_type": "skip"
    }
   },
   "source": [
    "Here we set up a few symbols so that our notation is consistent.  It is imperitive that we place conditions on these parameters.  You can relax these conditions, but in most introductory textbooks these conditions are spelled out in the text rather than symbolically.  So it can be easy to miss the conditions if you are scanning the equations."
   ]
  },
  {
   "cell_type": "code",
   "execution_count": 5,
   "metadata": {
    "collapsed": true,
    "slideshow": {
     "slide_type": "skip"
    }
   },
   "outputs": [],
   "source": [
    "s = symbols('s', positive=True)\n",
    "omega = symbols('omega', positive=True)\n",
    "C0 = symbols('C0', positive=True)\n",
    "init_printing()"
   ]
  },
  {
   "cell_type": "markdown",
   "metadata": {
    "slideshow": {
     "slide_type": "skip"
    }
   },
   "source": [
    "Here is the Laplace transform of $\\sin(\\omega t)$:"
   ]
  },
  {
   "cell_type": "code",
   "execution_count": 6,
   "metadata": {
    "collapsed": false,
    "slideshow": {
     "slide_type": "skip"
    }
   },
   "outputs": [
    {
     "data": {
      "image/png": "[encoded data removed]",
      "text/latex": [
       "$$\\int_{0}^{\\infty} e^{- s t} \\sin{\\left (\\omega t \\right )}\\, dt$$"
      ],
      "text/plain": [
       "∞                  \n",
       "⌠                  \n",
       "⎮  -s⋅t            \n",
       "⎮ ℯ    ⋅sin(ω⋅t) dt\n",
       "⌡                  \n",
       "0                  "
      ]
     },
     "execution_count": 6,
     "metadata": {},
     "output_type": "execute_result"
    }
   ],
   "source": [
    "laplaceSinIntegral = sp.Integral(sp.sin(omega*t)*sp.exp(-s*t), (t,0,oo))\n",
    "laplaceSinIntegral"
   ]
  },
  {
   "cell_type": "code",
   "execution_count": 7,
   "metadata": {
    "collapsed": false,
    "slideshow": {
     "slide_type": "skip"
    }
   },
   "outputs": [
    {
     "data": {
      "image/png": "[encoded data removed]",
      "text/latex": [
       "$$\\frac{1}{\\omega \\left(1 + \\frac{s^{2}}{\\omega^{2}}\\right)}$$"
      ],
      "text/plain": [
       "    1     \n",
       "──────────\n",
       "  ⎛     2⎞\n",
       "  ⎜    s ⎟\n",
       "ω⋅⎜1 + ──⎟\n",
       "  ⎜     2⎟\n",
       "  ⎝    ω ⎠"
      ]
     },
     "execution_count": 7,
     "metadata": {},
     "output_type": "execute_result"
    }
   ],
   "source": [
    "laplaceSinIntegral.doit()"
   ]
  },
  {
   "cell_type": "markdown",
   "metadata": {
    "slideshow": {
     "slide_type": "skip"
    }
   },
   "source": [
    "We can Laplace transform a constant (this is important for boundary conditions):"
   ]
  },
  {
   "cell_type": "code",
   "execution_count": 8,
   "metadata": {
    "collapsed": false,
    "slideshow": {
     "slide_type": "skip"
    }
   },
   "outputs": [
    {
     "data": {
      "image/png": "[encoded data removed]",
      "text/latex": [
       "$$\\frac{C_{0}}{s}$$"
      ],
      "text/plain": [
       "C₀\n",
       "──\n",
       "s "
      ]
     },
     "execution_count": 8,
     "metadata": {},
     "output_type": "execute_result"
    }
   ],
   "source": [
    "sp.integrate(C0*sp.exp(-s*t), (t,0,oo))"
   ]
  },
  {
   "cell_type": "code",
   "execution_count": null,
   "metadata": {
    "collapsed": true,
    "slideshow": {
     "slide_type": "skip"
    }
   },
   "outputs": [],
   "source": [
    "?sp.laplace_transform"
   ]
  },
  {
   "cell_type": "code",
   "execution_count": 9,
   "metadata": {
    "collapsed": false,
    "slideshow": {
     "slide_type": "skip"
    }
   },
   "outputs": [
    {
     "data": {
      "text/plain": [
       "(1/(s**2 + 1), 0, True)"
      ]
     },
     "execution_count": 9,
     "metadata": {},
     "output_type": "execute_result"
    }
   ],
   "source": [
    "sp.laplace_transform(sp.sin(t), t, s)"
   ]
  },
  {
   "cell_type": "code",
   "execution_count": 10,
   "metadata": {
    "collapsed": false,
    "slideshow": {
     "slide_type": "skip"
    }
   },
   "outputs": [
    {
     "data": {
      "image/png": "[encoded data removed]",
      "text/latex": [
       "$$\\frac{\\omega}{\\omega^{2} + s^{2}}$$"
      ],
      "text/plain": [
       "   ω   \n",
       "───────\n",
       " 2    2\n",
       "ω  + s "
      ]
     },
     "execution_count": 10,
     "metadata": {},
     "output_type": "execute_result"
    }
   ],
   "source": [
    "sp.laplace_transform(sin(omega*t), t, s)[0]"
   ]
  },
  {
   "cell_type": "code",
   "execution_count": 11,
   "metadata": {
    "collapsed": false,
    "slideshow": {
     "slide_type": "skip"
    }
   },
   "outputs": [
    {
     "data": {
      "text/plain": [
       "(C0/s, 0, True)"
      ]
     },
     "execution_count": 11,
     "metadata": {},
     "output_type": "execute_result"
    }
   ],
   "source": [
    "sp.laplace_transform(C0, t, s)"
   ]
  },
  {
   "cell_type": "markdown",
   "metadata": {
    "slideshow": {
     "slide_type": "slide"
    }
   },
   "source": [
    "### In Class - Part I\n",
    "----\n",
    "\n",
    "#### The Laplace Transform of Derivatives\n",
    "\n",
    "This is where the strength of the method is realized.  We will use the product rule to develop an expression for the Laplace transform of a derivative with respect to time and space.  In time the transform requires integration by parts.  In space we require differentiation under the integral."
   ]
  },
  {
   "cell_type": "markdown",
   "metadata": {
    "slideshow": {
     "slide_type": "slide"
    }
   },
   "source": [
    "Start with our symbolic representation of a derivative quantity"
   ]
  },
  {
   "cell_type": "code",
   "execution_count": 12,
   "metadata": {
    "collapsed": false,
    "slideshow": {
     "slide_type": "fragment"
    }
   },
   "outputs": [
    {
     "data": {
      "image/png": "[encoded data removed]",
      "text/latex": [
       "$$\\frac{\\partial}{\\partial x} f{\\left (x,t \\right )}$$"
      ],
      "text/plain": [
       "∂          \n",
       "──(f(x, t))\n",
       "∂x         "
      ]
     },
     "execution_count": 12,
     "metadata": {},
     "output_type": "execute_result"
    }
   ],
   "source": [
    "sp.diff(f(x,t),x)"
   ]
  },
  {
   "cell_type": "markdown",
   "metadata": {
    "slideshow": {
     "slide_type": "slide"
    }
   },
   "source": [
    "Let us apply the laplace transform function to this definition:"
   ]
  },
  {
   "cell_type": "code",
   "execution_count": 13,
   "metadata": {
    "collapsed": false,
    "slideshow": {
     "slide_type": "fragment"
    }
   },
   "outputs": [
    {
     "data": {
      "image/png": "[encoded data removed]",
      "text/latex": [
       "$$\\mathcal{L}_{t}\\left[\\frac{\\partial}{\\partial t} f{\\left (x,t \\right )}\\right]\\left(s\\right)$$"
      ],
      "text/plain": [
       "                ⎛∂                ⎞\n",
       "LaplaceTransform⎜──(f(x, t)), t, s⎟\n",
       "                ⎝∂t               ⎠"
      ]
     },
     "execution_count": 13,
     "metadata": {},
     "output_type": "execute_result"
    }
   ],
   "source": [
    "sp.laplace_transform(sp.diff(f(x,t),t), t, s)"
   ]
  },
  {
   "cell_type": "markdown",
   "metadata": {
    "slideshow": {
     "slide_type": "slide"
    }
   },
   "source": [
    "`sympy` is being strictly correct, but unhelpful.  A short discussion on integration by parts will help you to understand the textbook definition of the Laplace transform of a derivative.\n",
    "\n",
    "I think of integration by parts now a little differently than when I learned it.  [Wikipedia's description](https://en.wikipedia.org/wiki/Integration_by_parts) is closer to how I think about things now.  Start by applying the product (chain?) rule to the product of functions:\n",
    "\n",
    "$$\n",
    "\\frac{d}{dx} (u(x)v(x)) = u(x)\\frac{dv(x)}{dx} + v(x)\\frac{du(x)}{dx}\n",
    "$$"
   ]
  },
  {
   "cell_type": "markdown",
   "metadata": {
    "slideshow": {
     "slide_type": "fragment"
    }
   },
   "source": [
    "then integrate and re arrange:\n",
    "\n",
    "$$\n",
    "\\int u(x) v'(x) \\, dx = u(x) v(x) - \\int v(x) \\, u'(x) dx\n",
    "$$"
   ]
  },
  {
   "cell_type": "markdown",
   "metadata": {
    "slideshow": {
     "slide_type": "slide"
    }
   },
   "source": [
    "We can apply similar logic to define the Laplace transform of the derivative of $f(t)$.  We can start by differentiating the product \n",
    "\n",
    "$$f(x,t) e^{-st}$$"
   ]
  },
  {
   "cell_type": "code",
   "execution_count": 14,
   "metadata": {
    "collapsed": false,
    "slideshow": {
     "slide_type": "fragment"
    }
   },
   "outputs": [
    {
     "data": {
      "image/png": "[encoded data removed]",
      "text/latex": [
       "$$- s f{\\left (x,t \\right )} e^{- s t} + e^{- s t} \\frac{\\partial}{\\partial t} f{\\left (x,t \\right )}$$"
      ],
      "text/plain": [
       "             -s⋅t    -s⋅t ∂          \n",
       "- s⋅f(x, t)⋅ℯ     + ℯ    ⋅──(f(x, t))\n",
       "                          ∂t         "
      ]
     },
     "execution_count": 14,
     "metadata": {},
     "output_type": "execute_result"
    }
   ],
   "source": [
    "sp.diff(f(x,t)*sp.exp(-s*t),t)"
   ]
  },
  {
   "cell_type": "markdown",
   "metadata": {
    "slideshow": {
     "slide_type": "slide"
    }
   },
   "source": [
    "We can write the integral of the product (`sympy` will not evaluate this for us because of the use of `Integral`). We can call for integration with the `doit()` method:"
   ]
  },
  {
   "cell_type": "code",
   "execution_count": null,
   "metadata": {
    "collapsed": false,
    "slideshow": {
     "slide_type": "fragment"
    }
   },
   "outputs": [],
   "source": [
    "leftHandSide = sp.Integral(sp.Derivative(f(x,t)*sp.exp(-s*t),t),(t,0,oo))\n",
    "leftHandSide"
   ]
  },
  {
   "cell_type": "markdown",
   "metadata": {
    "slideshow": {
     "slide_type": "fragment"
    }
   },
   "source": [
    "By the fundamental theorem of the Calculus this expression is:\n",
    "\n",
    "$$\n",
    "[e^{-st}f(t)] \\, \\Big |^{\\,t=\\infty}_{\\, t=0}\n",
    "$$"
   ]
  },
  {
   "cell_type": "markdown",
   "metadata": {
    "slideshow": {
     "slide_type": "slide"
    }
   },
   "source": [
    "Here we use a little bit of code to write the Integral for each term produced by the product rule:"
   ]
  },
  {
   "cell_type": "code",
   "execution_count": null,
   "metadata": {
    "collapsed": false,
    "scrolled": true,
    "slideshow": {
     "slide_type": "fragment"
    }
   },
   "outputs": [],
   "source": [
    "expandedDerivative = sp.diff(f(x,t)*sp.exp(-s*t),t)\n",
    "[sp.Integral(terms,(t,0,oo)) for terms in expandedDerivative.args]"
   ]
  },
  {
   "cell_type": "markdown",
   "metadata": {
    "slideshow": {
     "slide_type": "slide"
    }
   },
   "source": [
    "Making our whole definition:\n",
    "\n",
    "$$\n",
    "\\mathcal{L}(f_t) = \\int_{0}^{\\infty} e^{- s t} \\frac{\\partial f(x,t)}{\\partial t}\\, dt = [e^{-st}f(t)] \\, \\Big |^{\\,t=\\infty}_{\\, t=0} + \\int_{0}^{\\infty} s f{\\left (x,t \\right )} e^{- s t}\\, dt\n",
    "$$"
   ]
  },
  {
   "cell_type": "markdown",
   "metadata": {
    "slideshow": {
     "slide_type": "fragment"
    }
   },
   "source": [
    "Where the $t$ subscript refers to differentiation in time.  It's that simple.  Some texts will continue from this point and define, generally, the Laplace transform of an n'th derivative.  The only remaining wrinkle is to find the Laplace transform of a spatial derivative and then we have all the tools we need to solve the diffusion equation using Laplace transforms.  "
   ]
  },
  {
   "cell_type": "markdown",
   "metadata": {
    "slideshow": {
     "slide_type": "skip"
    }
   },
   "source": [
    "[Top of Page](#Sections)"
   ]
  },
  {
   "cell_type": "markdown",
   "metadata": {
    "slideshow": {
     "slide_type": "slide"
    }
   },
   "source": [
    "To find the Laplace transform of the derivative of $f$ with respect to $x$, let us start with `sympy`:"
   ]
  },
  {
   "cell_type": "code",
   "execution_count": null,
   "metadata": {
    "collapsed": false,
    "slideshow": {
     "slide_type": "fragment"
    }
   },
   "outputs": [],
   "source": [
    "sp.laplace_transform(sp.diff(f(x,t),x), t, s)"
   ]
  },
  {
   "cell_type": "markdown",
   "metadata": {
    "slideshow": {
     "slide_type": "slide"
    }
   },
   "source": [
    "OK.  So - we need to dive a bit deeper on how to define things here.  The quick answer is that you can change the order of operations.  \n",
    "\n",
    "The longer answer is that the operations for [differentiation under the integral](https://en.wikipedia.org/wiki/Leibniz_integral_rule) commute under certain conditions.  The previous link and [this](https://en.wikipedia.org/wiki/Interchange_of_limiting_operations) one provide some needed background. We've encountered this idea before when we define cross derivatives under partial differentiation:\n",
    "\n",
    "$$\n",
    "\\frac{\\partial}{\\partial y} \\left( \\frac{\\partial f}{\\partial x} \\right) \\equiv \\frac{\\partial^2 f}{\\partial y \\partial x} = \\frac{\\partial^2 f}{\\partial x \\partial y}\n",
    "$$"
   ]
  },
  {
   "cell_type": "markdown",
   "metadata": {
    "slideshow": {
     "slide_type": "skip"
    }
   },
   "source": [
    "For what it's worth - I scanned my calculus texbook and an applied math text and neither text indexes this rule for easy reference.  I'm not sure how you would learn this on your own - except to rationalize that integration and differentiation are limit processes and if the variables of the limits are independent then maybe the operations commute.  The diffusion text (from which I pulled this discussion) does not provide reference or proof that the limit operations (i.e. differentation and integration) can be interchanged - the text merely says that it can be done."
   ]
  },
  {
   "cell_type": "markdown",
   "metadata": {
    "slideshow": {
     "slide_type": "slide"
    }
   },
   "source": [
    "$$\n",
    "\\mathcal{L}\\left( \\frac{\\partial^2 f(x,t)}{\\partial x^2} \\right) = \\frac{\\partial^2}{\\partial x^2} \\mathcal{L} (f(x,t)) = \\frac{\\partial^2 A(x)}{\\partial x^2}\n",
    "$$"
   ]
  },
  {
   "cell_type": "markdown",
   "metadata": {
    "slideshow": {
     "slide_type": "slide"
    }
   },
   "source": [
    "Ultimately, once you use the Laplace transform on the diffusion equation:\n",
    "\n",
    "$$\n",
    "D \\frac{\\partial^2 c}{\\partial x^2} = \\frac{\\partial c}{\\partial t}\n",
    "$$\n",
    "\n",
    "you end up with an ordinary differential equation in x alone.  The time dependence is removed by the integral.  A is the tranformed function:\n",
    "\n",
    "$$\n",
    "D \\frac{\\partial^2 A(x)}{\\partial x^2} = s A(x)\n",
    "$$"
   ]
  },
  {
   "cell_type": "markdown",
   "metadata": {
    "slideshow": {
     "slide_type": "skip"
    }
   },
   "source": [
    "[Top of Page](#Sections)"
   ]
  },
  {
   "cell_type": "markdown",
   "metadata": {
    "slideshow": {
     "slide_type": "slide"
    }
   },
   "source": [
    "### In Class - Part II\n",
    "----\n",
    "\n",
    "#### Solving a Differential Equation Using Laplace Transforms\n",
    "\n",
    "Solving this differential equation is as simple as calling DSolve and investigating the behavior at the boundaries.  Don't forget to transform the boundary conditions, too.  The notation \"A\" here is used to remind you that after the Laplace transform we are in a different space."
   ]
  },
  {
   "cell_type": "code",
   "execution_count": 15,
   "metadata": {
    "collapsed": false,
    "slideshow": {
     "slide_type": "slide"
    }
   },
   "outputs": [],
   "source": [
    "import sympy as sp\n",
    "sp.init_printing()"
   ]
  },
  {
   "cell_type": "code",
   "execution_count": 16,
   "metadata": {
    "collapsed": true,
    "slideshow": {
     "slide_type": "fragment"
    }
   },
   "outputs": [],
   "source": [
    "f = sp.symbols('f', cls=sp.Function)\n",
    "x = sp.symbols('x', real=True)\n",
    "s = sp.symbols('s', real=True, positive=True)\n",
    "C0, D = sp.symbols('C0 D', real=True, positive=True)\n",
    "C1, C2 = sp.symbols('C1 C2')\n",
    "t = sp.symbols('t', real=True, positive=True)"
   ]
  },
  {
   "cell_type": "markdown",
   "metadata": {
    "slideshow": {
     "slide_type": "slide"
    }
   },
   "source": [
    "The problem of interest here is one where the substance, $c(x,t)$ is diffusing into an semi-infinite ($0 \\leq x \\leq \\infty$) medium that is initially devoid of any solute (e.g. $c(x,0) = 0$).  Note that this initial condition explicitly sets the value of one of the terms in the Laplace transform of the time derivative of $c(x,t)$.  By virtue of a Laplace transform of Fick's law:\n",
    "\n",
    "$$\n",
    "\\frac{\\partial c(x,t)}{\\partial t} = D \\frac{\\partial^2 c(x,t)}{\\partial x^2}\n",
    "$$\n",
    "\n",
    "we arrive at the differential equation of interest (where `f` is the Laplace transform of $c(x,y)$:\n",
    "\n",
    "$$\n",
    "\\left. s \\,\\, f(x) - f(x) \\right|_{t=0} = D \\frac{\\partial^2 f(x)}{\\partial x^2}\n",
    "$$\n",
    "\n",
    "in one variable, $x$ as we've integrated the time variable out of the PDE by the Laplace transform.  The second term on the LHS is zero by virtue of the initial conditions."
   ]
  },
  {
   "cell_type": "code",
   "execution_count": 17,
   "metadata": {
    "collapsed": false,
    "slideshow": {
     "slide_type": "slide"
    }
   },
   "outputs": [
    {
     "data": {
      "image/png": "[encoded data removed]",
      "text/latex": [
       "$$\\frac{d^{2}}{d x^{2}}  f{\\left (x \\right )} - \\frac{s}{D} f{\\left (x \\right )} = 0$$"
      ],
      "text/plain": [
       "  2                   \n",
       " d          s⋅f(x)    \n",
       "───(f(x)) - ────── = 0\n",
       "  2           D       \n",
       "dx                    "
      ]
     },
     "execution_count": 17,
     "metadata": {},
     "output_type": "execute_result"
    }
   ],
   "source": [
    "equationToSolve = sp.Eq((sp.diff(f(x),x,2) - (s/D)*f(x)),0)\n",
    "equationToSolve"
   ]
  },
  {
   "cell_type": "markdown",
   "metadata": {
    "slideshow": {
     "slide_type": "slide"
    }
   },
   "source": [
    "Calling `sp.dsolve` to find the function $f(x)$ we get:"
   ]
  },
  {
   "cell_type": "code",
   "execution_count": 18,
   "metadata": {
    "collapsed": false,
    "scrolled": true,
    "slideshow": {
     "slide_type": "fragment"
    }
   },
   "outputs": [
    {
     "data": {
      "image/png": "[encoded data removed]",
      "text/latex": [
       "$$f{\\left (x \\right )} = C_{1} e^{- \\frac{\\sqrt{s} x}{\\sqrt{D}}} + C_{2} e^{\\frac{\\sqrt{s} x}{\\sqrt{D}}}$$"
      ],
      "text/plain": [
       "           -√s⋅x        √s⋅x\n",
       "           ──────       ────\n",
       "             √D          √D \n",
       "f(x) = C₁⋅ℯ       + C₂⋅ℯ    "
      ]
     },
     "execution_count": 18,
     "metadata": {},
     "output_type": "execute_result"
    }
   ],
   "source": [
    "solutionToEquation = sp.dsolve(equationToSolve,f(x))\n",
    "solutionToEquation"
   ]
  },
  {
   "cell_type": "markdown",
   "metadata": {
    "slideshow": {
     "slide_type": "slide"
    }
   },
   "source": [
    "#### Applying the Boundary Conditions\n",
    "\n",
    "Now we use the boundary conditions to evaluate the constants.  What happens as x goes to infinity?"
   ]
  },
  {
   "cell_type": "code",
   "execution_count": 19,
   "metadata": {
    "collapsed": false,
    "slideshow": {
     "slide_type": "skip"
    }
   },
   "outputs": [
    {
     "data": {
      "image/png": "[encoded data removed]",
      "text/latex": [
       "$$f{\\left (\\infty \\right )} = \\infty C_{2}$$"
      ],
      "text/plain": [
       "f(∞) = ∞⋅C₂"
      ]
     },
     "execution_count": 19,
     "metadata": {},
     "output_type": "execute_result"
    }
   ],
   "source": [
    "solutionToEquation.subs(x,sp.oo)"
   ]
  },
  {
   "cell_type": "markdown",
   "metadata": {},
   "source": [
    "C2 must therefore be zero.  We also know that at $x=0$ and $t=0$ the concentration of the diffusant is $C_0$.  We Laplace transform this boundary condition:"
   ]
  },
  {
   "cell_type": "code",
   "execution_count": 20,
   "metadata": {
    "collapsed": false,
    "slideshow": {
     "slide_type": "skip"
    }
   },
   "outputs": [
    {
     "data": {
      "image/png": "[encoded data removed]",
      "text/latex": [
       "$$\\left ( \\frac{C_{0}}{s}, \\quad -\\infty, \\quad \\mathrm{True}\\right )$$"
      ],
      "text/plain": [
       "⎛C₀          ⎞\n",
       "⎜──, -∞, True⎟\n",
       "⎝s           ⎠"
      ]
     },
     "execution_count": 20,
     "metadata": {},
     "output_type": "execute_result"
    }
   ],
   "source": [
    "sp.laplace_transform(C0,t,s)"
   ]
  },
  {
   "cell_type": "code",
   "execution_count": 21,
   "metadata": {
    "collapsed": false,
    "slideshow": {
     "slide_type": "skip"
    }
   },
   "outputs": [
    {
     "data": {
      "image/png": "[encoded data removed]",
      "text/latex": [
       "$$f{\\left (0 \\right )} = C_{1}$$"
      ],
      "text/plain": [
       "f(0) = C₁"
      ]
     },
     "execution_count": 21,
     "metadata": {},
     "output_type": "execute_result"
    }
   ],
   "source": [
    "solutionToEquation.subs([(C2,0),(x,0)])"
   ]
  },
  {
   "cell_type": "markdown",
   "metadata": {
    "slideshow": {
     "slide_type": "skip"
    }
   },
   "source": [
    "Identifying that $C_1 = C_0/s$.  Making the final substitutions:"
   ]
  },
  {
   "cell_type": "code",
   "execution_count": 22,
   "metadata": {
    "collapsed": false,
    "slideshow": {
     "slide_type": "skip"
    }
   },
   "outputs": [
    {
     "data": {
      "image/png": "[encoded data removed]",
      "text/latex": [
       "$$\\frac{C_{0}}{s} e^{- \\frac{\\sqrt{s} x}{\\sqrt{D}}}$$"
      ],
      "text/plain": [
       "    -√s⋅x \n",
       "    ──────\n",
       "      √D  \n",
       "C₀⋅ℯ      \n",
       "──────────\n",
       "    s     "
      ]
     },
     "execution_count": 22,
     "metadata": {},
     "output_type": "execute_result"
    }
   ],
   "source": [
    "thingToInverseTransform = solutionToEquation.subs([(C2,0),(C1,C0/s)])\n",
    "thingToInverseTransform.rhs"
   ]
  },
  {
   "cell_type": "markdown",
   "metadata": {
    "slideshow": {
     "slide_type": "skip"
    }
   },
   "source": [
    "You can use the `rhs` and `lhs` attributes to get the bits of the functions you are interested in."
   ]
  },
  {
   "cell_type": "code",
   "execution_count": 23,
   "metadata": {
    "collapsed": false,
    "slideshow": {
     "slide_type": "skip"
    }
   },
   "outputs": [
    {
     "data": {
      "image/png": "[encoded data removed]",
      "text/latex": [
       "$$C_{0} \\left(- \\operatorname{erf}{\\left (\\frac{x}{2 \\sqrt{D} \\sqrt{t}} \\right )} + 1\\right)$$"
      ],
      "text/plain": [
       "   ⎛     ⎛   x   ⎞    ⎞\n",
       "C₀⋅⎜- erf⎜───────⎟ + 1⎟\n",
       "   ⎝     ⎝2⋅√D⋅√t⎠    ⎠"
      ]
     },
     "execution_count": 23,
     "metadata": {},
     "output_type": "execute_result"
    }
   ],
   "source": [
    "sp.inverse_laplace_transform(thingToInverseTransform.rhs, s, t)"
   ]
  },
  {
   "cell_type": "markdown",
   "metadata": {
    "slideshow": {
     "slide_type": "skip"
    }
   },
   "source": [
    "It helps to know that $\\mathrm{erfc}(z) = 1 - \\mathrm{erf}(z)$.  With this substition our final equation for the domain $\\{x\\, |\\, 0 \\leq x \\leq \\infty \\}$ is:\n",
    "\n",
    "$$\n",
    "c(x,t) = C_0 \\, \\mathrm{erfc} \\left( \\frac{x}{2\\sqrt{Dt}} \\right)\n",
    "$$"
   ]
  },
  {
   "cell_type": "markdown",
   "metadata": {
    "slideshow": {
     "slide_type": "skip"
    }
   },
   "source": [
    "#### DIY:  Plot the solution and use `interact` to explore the effect of variables"
   ]
  },
  {
   "cell_type": "code",
   "execution_count": null,
   "metadata": {
    "collapsed": true,
    "slideshow": {
     "slide_type": "skip"
    }
   },
   "outputs": [],
   "source": [
    "# Your code goes here.\n",
    "\n",
    "%matplotlib notebook\n",
    "\n",
    "import numpy as np\n",
    "import matplotlib.pyplot as plt\n",
    "from scipy.special import erfc\n",
    "from ipywidgets import interact, fixed \n",
    "\n",
    "def awesomeLaplaceFunction(x):\n",
    "    return x**2\n",
    "\n",
    "def makeAwesomePlotForProfLewis(x_finish, numPoints):\n",
    "    # create a linspace that has 0 to x_finish\n",
    "    # set to \"x\" value\n",
    "    x = np.linspace(start=0, stop=x_finish, num=numPoints)\n",
    "    \n",
    "    # call awesomeLaplaceFunction and set to \"y\" value.\n",
    "    y = awesomeLaplaceFunction(x)\n",
    "    \n",
    "    # make a plot (I will copy code from elsewhere for this one)\n",
    "    fig = plt.figure()\n",
    "\n",
    "    axes = fig.add_axes([0.1, 0.1, 0.8, 0.8]) # left, bottom, width, height (range 0 to 1)\n",
    "\n",
    "    axes.semilogx(xb, gamma, 'r')\n",
    "\n",
    "    # Setting the y-limit cleans up the plot.\n",
    "    axes.set_ylim([0,0.8])\n",
    "    axes.set_xlabel('Bulk Concentration $x_b$')\n",
    "    axes.set_ylabel('Surface Tension $\\gamma$')\n",
    "    axes.set_title('Surface Tension Change due to Adsorption');\n",
    "    \n",
    "    return None\n",
    "\n",
    "interact(makeAwesomePlotForProfLewis, (arg1,0,1), (arg2,0,1));"
   ]
  },
  {
   "cell_type": "markdown",
   "metadata": {
    "slideshow": {
     "slide_type": "skip"
    }
   },
   "source": [
    "_Question:  All those times we write $x \\propto \\sqrt{DT}$ what are we really saying?  Did playing with the values above give you some insight?_"
   ]
  },
  {
   "cell_type": "markdown",
   "metadata": {
    "slideshow": {
     "slide_type": "slide"
    }
   },
   "source": [
    "### Diffusion from a Point Source Located at the Origin\n",
    "\n",
    "![](./images/point_source.png)"
   ]
  },
  {
   "cell_type": "markdown",
   "metadata": {
    "slideshow": {
     "slide_type": "fragment"
    }
   },
   "source": [
    "You won't have the above figure, but you should be able to make your own `interact` visualization to make one of your own."
   ]
  },
  {
   "cell_type": "markdown",
   "metadata": {
    "slideshow": {
     "slide_type": "slide"
    }
   },
   "source": [
    "Recall that the transform of:\n",
    "\n",
    "$$\n",
    "\\frac{\\partial c(x,t)}{\\partial t} = D \\frac{\\partial^2 c(x,t)}{\\partial x^2}\n",
    "$$"
   ]
  },
  {
   "cell_type": "markdown",
   "metadata": {
    "slideshow": {
     "slide_type": "slide"
    }
   },
   "source": [
    "is:\n",
    "\n",
    "$$\n",
    "\\left. s \\,\\, f(x) - f(x) \\right|_{t=0} = D \\frac{\\partial^2 f(x)}{\\partial x^2}\n",
    "$$\n",
    "\n",
    "where $f$ is the Laplace transform of $c$."
   ]
  },
  {
   "cell_type": "markdown",
   "metadata": {
    "slideshow": {
     "slide_type": "slide"
    }
   },
   "source": [
    "Now we consider a point source located at the origin of our coordinate system.  Note that $c(x,0) = 0$ everywhere EXCEPT at $x=0$ where we have an amount of substance $M$.\n",
    "\n",
    "In this problem we are solving over all space.  Recalling our general solution to this problem in Laplace space:\n",
    "\n",
    "$$\n",
    "f{\\left (x \\right )} = C_{1} e^{- \\frac{\\sqrt{s} x}{\\sqrt{D}}} + C_{2} e^{\\frac{\\sqrt{s} x}{\\sqrt{D}}}\n",
    "$$"
   ]
  },
  {
   "cell_type": "markdown",
   "metadata": {
    "slideshow": {
     "slide_type": "fragment"
    }
   },
   "source": [
    "Let us examine the behavior of $C_1$ and $C_2$.  As $x \\rightarrow \\infty$, $C_2$ must be zero and as $x \\rightarrow -\\infty$, $C_1$ must go to zero to ensure that the solution remains finite.\n",
    "\n",
    "So we can use the symmetry of the problem to our advantage to help us arrive at a solution."
   ]
  },
  {
   "cell_type": "markdown",
   "metadata": {
    "slideshow": {
     "slide_type": "fragment"
    }
   },
   "source": [
    "The mass that will diffuse into the $x>0$ part of the system will be $M/2$ so we can define the equation we want to solve, and then Laplace transform the LHS boundary condition."
   ]
  },
  {
   "cell_type": "code",
   "execution_count": null,
   "metadata": {
    "collapsed": true,
    "slideshow": {
     "slide_type": "slide"
    }
   },
   "outputs": [],
   "source": [
    "# some initial imports.\n",
    "\n",
    "import sympy as sp\n",
    "sp.init_printing()"
   ]
  },
  {
   "cell_type": "code",
   "execution_count": null,
   "metadata": {
    "collapsed": true,
    "slideshow": {
     "slide_type": "fragment"
    }
   },
   "outputs": [],
   "source": [
    "f, c = sp.symbols('f c', cls=sp.Function)\n",
    "x = sp.symbols('x', real=True)\n",
    "s = sp.symbols('s', real=True, positive=True)\n",
    "C0, D, M = sp.symbols('C0 D M', real=True, positive=True)\n",
    "C1, C2 = sp.symbols('C1 C2')\n",
    "t = sp.symbols('t', real=True, positive=True)"
   ]
  },
  {
   "cell_type": "markdown",
   "metadata": {
    "slideshow": {
     "slide_type": "slide"
    }
   },
   "source": [
    "A quick reminder of the differential equation of interest:\n",
    "\n",
    "$$\n",
    "\\left. s \\,\\, f(x) - f(x) \\right|_{t=0} = D \\frac{\\partial^2 f(x)}{\\partial x^2}\n",
    "$$"
   ]
  },
  {
   "cell_type": "code",
   "execution_count": null,
   "metadata": {
    "collapsed": false,
    "slideshow": {
     "slide_type": "fragment"
    }
   },
   "outputs": [],
   "source": [
    "equationToSolve = None\n",
    "equationToSolve"
   ]
  },
  {
   "cell_type": "markdown",
   "metadata": {
    "slideshow": {
     "slide_type": "slide"
    }
   },
   "source": [
    "Now we invoke `dsolve`."
   ]
  },
  {
   "cell_type": "code",
   "execution_count": null,
   "metadata": {
    "collapsed": false,
    "slideshow": {
     "slide_type": "fragment"
    }
   },
   "outputs": [],
   "source": [
    "solutionToEquation = sp.dsolve(equationToSolve,f(x))\n",
    "solutionToEquation"
   ]
  },
  {
   "cell_type": "markdown",
   "metadata": {
    "slideshow": {
     "slide_type": "slide"
    }
   },
   "source": [
    "Consider the solution and what the values of the constants must be given the physical constraints on the problem.  Reason out the value of one of the constants and substitute."
   ]
  },
  {
   "cell_type": "code",
   "execution_count": null,
   "metadata": {
    "collapsed": false,
    "slideshow": {
     "slide_type": "fragment"
    }
   },
   "outputs": [],
   "source": [
    "solutionXPositive = solutionToEquation # What substitution do you have to make?\n",
    "solutionXPositive"
   ]
  },
  {
   "cell_type": "markdown",
   "metadata": {
    "slideshow": {
     "slide_type": "slide"
    }
   },
   "source": [
    "Let us write a definite integral for our mass constraint\n",
    "\n",
    "$$\n",
    "\\int^\\infty_0 c(x,t) = \\frac{M}{2}\n",
    "$$"
   ]
  },
  {
   "cell_type": "code",
   "execution_count": null,
   "metadata": {
    "collapsed": false,
    "slideshow": {
     "slide_type": "fragment"
    }
   },
   "outputs": [],
   "source": [
    "massConstraint = sp.Eq(sp.Integral(c(x,t),(x,0,sp.oo)),M/2)\n",
    "massConstraint"
   ]
  },
  {
   "cell_type": "markdown",
   "metadata": {
    "slideshow": {
     "slide_type": "slide"
    }
   },
   "source": [
    "In order to use the integral as a boundary condition we need to Laplace transform both sides of the equation.  What do we know?\n",
    "\n",
    "* The LHS is a limit process independent of the variable of the transform.\n",
    "* The RHS is a constant."
   ]
  },
  {
   "cell_type": "code",
   "execution_count": null,
   "metadata": {
    "collapsed": false,
    "slideshow": {
     "slide_type": "slide"
    }
   },
   "outputs": [],
   "source": [
    "[sp.laplace_transform(massConstraint.lhs, t, s), \\\n",
    " sp.laplace_transform(massConstraint.rhs, t, s)]"
   ]
  },
  {
   "cell_type": "code",
   "execution_count": null,
   "metadata": {
    "collapsed": true,
    "slideshow": {
     "slide_type": "fragment"
    }
   },
   "outputs": [],
   "source": [
    "solutionXPositive"
   ]
  },
  {
   "cell_type": "markdown",
   "metadata": {
    "slideshow": {
     "slide_type": "fragment"
    }
   },
   "source": [
    "Inspecting the above and changing the order of integration operations (i.e. move the Laplace transform inside the other integral) in the transform of the mass constraint, we know the following must be true."
   ]
  },
  {
   "cell_type": "code",
   "execution_count": null,
   "metadata": {
    "collapsed": false,
    "slideshow": {
     "slide_type": "slide"
    }
   },
   "outputs": [],
   "source": [
    "massConstraintIntegral = sp.Eq(sp.Integral(solutionXPositive.rhs,\\\n",
    "                                           (x,0,sp.oo)),M/2/s)\n",
    "massConstraintIntegral"
   ]
  },
  {
   "cell_type": "markdown",
   "metadata": {
    "slideshow": {
     "slide_type": "slide"
    }
   },
   "source": [
    "Do the integration:"
   ]
  },
  {
   "cell_type": "code",
   "execution_count": null,
   "metadata": {
    "collapsed": false,
    "scrolled": true,
    "slideshow": {
     "slide_type": "fragment"
    }
   },
   "outputs": [],
   "source": [
    "massConstraintEvaluated = massConstraintIntegral.doit()\n",
    "massConstraintEvaluated"
   ]
  },
  {
   "cell_type": "markdown",
   "metadata": {
    "slideshow": {
     "slide_type": "slide"
    }
   },
   "source": [
    "Solve for the contant."
   ]
  },
  {
   "cell_type": "code",
   "execution_count": null,
   "metadata": {
    "collapsed": false,
    "slideshow": {
     "slide_type": "fragment"
    }
   },
   "outputs": [],
   "source": [
    "constantOne = sp.solveset(massConstraintEvaluated,C1)\n",
    "constantOne"
   ]
  },
  {
   "cell_type": "markdown",
   "metadata": {
    "slideshow": {
     "slide_type": "fragment"
    }
   },
   "source": [
    "In the cell below - put your value for $C_1$ as determined above."
   ]
  },
  {
   "cell_type": "code",
   "execution_count": null,
   "metadata": {
    "collapsed": false,
    "slideshow": {
     "slide_type": "fragment"
    }
   },
   "outputs": [],
   "source": [
    "finalResults = solutionXPositive.subs(C1, None)\n",
    "finalResults"
   ]
  },
  {
   "cell_type": "markdown",
   "metadata": {
    "slideshow": {
     "slide_type": "slide"
    }
   },
   "source": [
    "Invert the transformation."
   ]
  },
  {
   "cell_type": "code",
   "execution_count": null,
   "metadata": {
    "collapsed": false,
    "slideshow": {
     "slide_type": "fragment"
    }
   },
   "outputs": [],
   "source": [
    "sp.inverse_laplace_transform(finalResults.rhs, s, t)"
   ]
  },
  {
   "cell_type": "markdown",
   "metadata": {
    "slideshow": {
     "slide_type": "slide"
    }
   },
   "source": [
    "Our final solution is then:\n",
    "\n",
    "$$\n",
    "c(x,t) = \\frac{M}{2\\sqrt{\\pi D t}} \\exp \\left(- \\frac{x^{2}}{4 D t} \\right)\n",
    "$$"
   ]
  },
  {
   "cell_type": "markdown",
   "metadata": {
    "slideshow": {
     "slide_type": "skip"
    }
   },
   "source": [
    "\n",
    "[Top of Page](#Sections)"
   ]
  },
  {
   "cell_type": "markdown",
   "metadata": {
    "slideshow": {
     "slide_type": "slide"
    }
   },
   "source": [
    "### DIY:  Use `interact` to create a visualization of the above solution."
   ]
  },
  {
   "cell_type": "code",
   "execution_count": null,
   "metadata": {
    "collapsed": true,
    "slideshow": {
     "slide_type": "fragment"
    }
   },
   "outputs": [],
   "source": [
    "# Your code goes here."
   ]
  },
  {
   "cell_type": "markdown",
   "metadata": {
    "slideshow": {
     "slide_type": "skip"
    }
   },
   "source": [
    "\n",
    "[Top of Page](#Sections)"
   ]
  },
  {
   "cell_type": "markdown",
   "metadata": {
    "slideshow": {
     "slide_type": "slide"
    }
   },
   "source": [
    "### Homework\n",
    "----\n",
    "\n",
    "1.  Write a function that sums the contributions from an arbitrary number of point sources located at an arbitrary position along the 1D space.  (e.g. one point source at $x=1$ and another at $x=5$, etc.)\n",
    "1.  Generalize this to an infinite number of point sources located in the half domain $-\\infty \\leq x \\leq 0$.  When done correctly (integrate!) you will get the diffusion couple solution.  This is a standard diffusion analysis technique meaning that there are plenty of resources available describing the procedure."
   ]
  },
  {
   "cell_type": "markdown",
   "metadata": {
    "slideshow": {
     "slide_type": "skip"
    }
   },
   "source": [
    "[Top of Page](#Sections)"
   ]
  },
  {
   "cell_type": "markdown",
   "metadata": {
    "slideshow": {
     "slide_type": "skip"
    }
   },
   "source": [
    "### Looking Ahead\n",
    "----\n",
    "\n",
    "Next topic is numerical solutions to the diffusion equation.  We have examined the analytical methods so that we begin building foundational knowledge of \"standard\" diffusion geometries and solutions.  This gives us a way to check our numerical solutions and the errors that are part of said solutions.  \n",
    "\n",
    "We will be once again looking at storing numerical data in arrays and operations on those arrays.  The main intellectual challenge will be thinking of arrays of numerical data as different \"states\" of the system.  The operations on those arrays are governed by the differential governing equations."
   ]
  },
  {
   "cell_type": "markdown",
   "metadata": {
    "slideshow": {
     "slide_type": "skip"
    }
   },
   "source": [
    "[Top of Page](#Sections)"
   ]
  },
  {
   "cell_type": "markdown",
   "metadata": {
    "slideshow": {
     "slide_type": "skip"
    }
   },
   "source": [
    "### Reading Assignments and Practice\n",
    "----\n",
    "\n",
    "* The solutions here are found in standard texbooks.  You can look at authors such as: Crank, Shewmon, and Glicksman.  Some texts are more mathematical than others - some are more materials focused than others.\n",
    "* Having access to a table of Laplace transforms will be helpful.  The computer algebra system doesn't really provide that much help in the cases above.  Mostly it keeps you from making silly mistakes.  So - practice with a transforms table by your side.\n",
    "* Try and solve some diffusion problems that you devise yourself.  See if you can get to the point where you understand that there is really only one solution - it is just that the solutions are re-scaled for each case."
   ]
  },
  {
   "cell_type": "markdown",
   "metadata": {},
   "source": [
    "[Top of Page](#Sections)"
   ]
  },
  {
   "cell_type": "code",
   "execution_count": null,
   "metadata": {
    "collapsed": true
   },
   "outputs": [],
   "source": []
  }
 ],
 "metadata": {
  "anaconda-cloud": {},
  "celltoolbar": "Slideshow",
  "kernelspec": {
   "display_name": "Python 2",
   "language": "python",
   "name": "python2"
  },
  "language_info": {
   "codemirror_mode": {
    "name": "ipython",
    "version": 2
   },
   "file_extension": ".py",
   "mimetype": "text/x-python",
   "name": "python",
   "nbconvert_exporter": "python",
   "pygments_lexer": "ipython2",
   "version": "2.7.13"
  }
 },
 "nbformat": 4,
 "nbformat_minor": 0
}
