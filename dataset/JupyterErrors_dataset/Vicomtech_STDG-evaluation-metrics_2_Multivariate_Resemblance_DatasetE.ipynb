{
 "cells": [
  {
   "cell_type": "markdown",
   "metadata": {},
   "source": [
    "# Multivariate Resemblance Analysis (MRA) Dataset E"
   ]
  },
  {
   "cell_type": "code",
   "execution_count": 1,
   "metadata": {},
   "outputs": [
    {
     "name": "stdout",
     "output_type": "stream",
     "text": [
      "Libraries imported!!\n"
     ]
    }
   ],
   "source": [
    "#import libraries\n",
    "import warnings\n",
    "warnings.filterwarnings(\"ignore\")\n",
    "import numpy as np\n",
    "import pandas as pd\n",
    "from matplotlib import pyplot as plt\n",
    "import os\n",
    "print('Libraries imported!!')"
   ]
  },
  {
   "cell_type": "code",
   "execution_count": 2,
   "metadata": {},
   "outputs": [
    {
     "name": "stdout",
     "output_type": "stream",
     "text": [
      "Functions imported!!\n"
     ]
    }
   ],
   "source": [
    "#define directory of functions and actual directory\n",
    "HOME_PATH = '' #home path of the project\n",
    "FUNCTIONS_DIR = 'EVALUATION FUNCTIONS/RESEMBLANCE'\n",
    "ACTUAL_DIR = os.getcwd()\n",
    "\n",
    "#change directory to functions directory\n",
    "os.chdir(HOME_PATH + FUNCTIONS_DIR)\n",
    "\n",
    "#import functions for univariate resemblance analisys\n",
    "from multivariate_resemblance import get_numerical_correlations\n",
    "from multivariate_resemblance import plot_correlations\n",
    "from multivariate_resemblance import get_categorical_correlations\n",
    "from multivariate_resemblance import compute_mra_score\n",
    "\n",
    "#change directory to actual directory\n",
    "os.chdir(ACTUAL_DIR)\n",
    "print('Functions imported!!')"
   ]
  },
  {
   "cell_type": "markdown",
   "metadata": {},
   "source": [
    "## 1. Read real and synthetic datasets\n",
    "In this part real and synthetic datasets are read."
   ]
  },
  {
   "cell_type": "code",
   "execution_count": 3,
   "metadata": {},
   "outputs": [],
   "source": [
    "#Define global variables\n",
    "DATA_TYPES = ['Real','GM','SDV','CTGAN','WGANGP']\n",
    "SYNTHESIZERS = ['GM','SDV','CTGAN','WGANGP']\n",
    "FILEPATHS = {'Real' : HOME_PATH + 'REAL DATASETS/TRAIN DATASETS/E_PimaIndiansDiabetes_Real_Train.csv',\n",
    "            'GM' : HOME_PATH + 'SYNTHETIC DATASETS/GM/E_PimaIndiansDiabetes_Synthetic_GM.csv',\n",
    "            'SDV' : HOME_PATH + 'SYNTHETIC DATASETS/SDV/E_PimaIndiansDiabetes_Synthetic_SDV.csv',\n",
    "            'CTGAN' : HOME_PATH + 'SYNTHETIC DATASETS/CTGAN/E_PimaIndiansDiabetes_Synthetic_CTGAN.csv',\n",
    "            'WGANGP' : HOME_PATH + 'SYNTHETIC DATASETS/WGANGP/E_PimaIndiansDiabetes_Synthetic_WGANGP.csv'}\n",
    "categorical_columns = ['Outcome']\n",
    "data = dict()"
   ]
  },
  {
   "cell_type": "code",
   "execution_count": 4,
   "metadata": {},
   "outputs": [
    {
     "data": {
      "text/plain": [
       "{'Real':      Pregnancies  Glucose  BloodPressure  SkinThickness  Insulin   BMI  \\\n",
       " 0              2       84              0              0        0   0.0   \n",
       " 1              9      112             82             24        0  28.2   \n",
       " 2              1      139             46             19       83  28.7   \n",
       " 3              0      161             50              0        0  21.9   \n",
       " 4              6      134             80             37      370  46.2   \n",
       " ..           ...      ...            ...            ...      ...   ...   \n",
       " 609            5      139             64             35      140  28.6   \n",
       " 610            1       96            122              0        0  22.4   \n",
       " 611           10      101             86             37        0  45.6   \n",
       " 612            0      141              0              0        0  42.4   \n",
       " 613            0      125             96              0        0  22.5   \n",
       " \n",
       "      DiabetesPedigreeFunction  Age Outcome  \n",
       " 0                       0.304   21       0  \n",
       " 1                       1.282   50       1  \n",
       " 2                       0.654   22       0  \n",
       " 3                       0.254   65       0  \n",
       " 4                       0.238   46       1  \n",
       " ..                        ...  ...     ...  \n",
       " 609                     0.411   26       0  \n",
       " 610                     0.207   27       0  \n",
       " 611                     1.136   38       1  \n",
       " 612                     0.205   29       1  \n",
       " 613                     0.262   21       0  \n",
       " \n",
       " [614 rows x 9 columns],\n",
       " 'GM':      Pregnancies  Glucose  BloodPressure  SkinThickness  Insulin        BMI  \\\n",
       " 0             11      140             67             -6      139  21.454652   \n",
       " 1              0      111             63              0      108  23.818868   \n",
       " 2              5       88             77             14      -64  27.547578   \n",
       " 3              3       94             79             25      120  32.149746   \n",
       " 4              9      131              0             29      244  30.608647   \n",
       " ..           ...      ...            ...            ...      ...        ...   \n",
       " 609            4      132             64             37      -43  40.607103   \n",
       " 610            7      114             79             20       -7  29.984722   \n",
       " 611            1       68             71              1      -89  23.307341   \n",
       " 612            6       97             73             32      257  27.208406   \n",
       " 613            7      109             69              4      104  36.714954   \n",
       " \n",
       "      DiabetesPedigreeFunction  Age Outcome  \n",
       " 0                    0.138648   45       0  \n",
       " 1                    0.347041   25       0  \n",
       " 2                    0.331241   63       1  \n",
       " 3                    0.164218   38       1  \n",
       " 4                    0.296024   25       1  \n",
       " ..                        ...  ...     ...  \n",
       " 609                  0.863559   42       1  \n",
       " 610                  0.427422   21       0  \n",
       " 611                  0.261145   22       0  \n",
       " 612                  0.176116   29       0  \n",
       " 613                  0.514602   28       0  \n",
       " \n",
       " [614 rows x 9 columns],\n",
       " 'SDV':      Pregnancies  Glucose  BloodPressure  SkinThickness  Insulin   BMI  \\\n",
       " 0              3      145            129             37      230  41.9   \n",
       " 1              8      112             77             38      108  37.7   \n",
       " 2              1      114             64             44      260  30.7   \n",
       " 3              3      194             83             29      293  35.5   \n",
       " 4              2       70             65             26     -132  24.4   \n",
       " ..           ...      ...            ...            ...      ...   ...   \n",
       " 609           10      100             66             37       95  42.4   \n",
       " 610            0      122             77             -2      180  14.2   \n",
       " 611            6      126             62             32      119  25.4   \n",
       " 612            2      181             81             28      118  34.5   \n",
       " 613            3      163             74             33      117  33.8   \n",
       " \n",
       "      DiabetesPedigreeFunction  Age Outcome  \n",
       " 0                       0.854   34       1  \n",
       " 1                       1.187   38       0  \n",
       " 2                       0.065   24       0  \n",
       " 3                       0.689   24       0  \n",
       " 4                       0.129   35       0  \n",
       " ..                        ...  ...     ...  \n",
       " 609                     0.093   34       0  \n",
       " 610                     0.246   34       0  \n",
       " 611                     0.673   48       0  \n",
       " 612                     0.888   38       1  \n",
       " 613                     0.277   15       0  \n",
       " \n",
       " [614 rows x 9 columns],\n",
       " 'CTGAN':      Pregnancies  Glucose  BloodPressure  SkinThickness  Insulin   BMI  \\\n",
       " 0              0       80            102             14        2  29.0   \n",
       " 1              8      142             42             35      -16  42.8   \n",
       " 2              1      116             66             12       -3  17.2   \n",
       " 3              0       73             92             -2       39  22.8   \n",
       " 4              0      213             67              2      268  24.2   \n",
       " ..           ...      ...            ...            ...      ...   ...   \n",
       " 609            5      130             73             11      586  36.5   \n",
       " 610            0      139             73              9       -2  21.7   \n",
       " 611           -1       77             57             29      -10  27.3   \n",
       " 612            0      104             50             47      -11  36.6   \n",
       " 613            6       81             44             54      163  23.2   \n",
       " \n",
       "      DiabetesPedigreeFunction  Age Outcome  \n",
       " 0                       1.022   57       1  \n",
       " 1                       0.114   23       1  \n",
       " 2                       0.120   21       0  \n",
       " 3                       0.293   56       1  \n",
       " 4                       0.503   29       1  \n",
       " ..                        ...  ...     ...  \n",
       " 609                     0.562   55       1  \n",
       " 610                     0.287   29       1  \n",
       " 611                     0.047   51       0  \n",
       " 612                     0.847   59       1  \n",
       " 613                     0.108   23       1  \n",
       " \n",
       " [614 rows x 9 columns],\n",
       " 'WGANGP':      Pregnancies  Glucose  BloodPressure  SkinThickness  Insulin        BMI  \\\n",
       " 0              2      128             77              7       25  27.523672   \n",
       " 1              2      127             76             10       43  26.481262   \n",
       " 2              2      128             79              7       34  26.954290   \n",
       " 3              2      130             78              8       34  25.400051   \n",
       " 4              1      115             78             11       48  27.617651   \n",
       " ..           ...      ...            ...            ...      ...        ...   \n",
       " 609            2      117             71             14       60  28.184755   \n",
       " 610            2      123             75              7       30  29.951437   \n",
       " 611            2      126             74             11       53  27.091782   \n",
       " 612            2      129             74              9       47  26.547909   \n",
       " 613            2      136             25              7       21  27.907232   \n",
       " \n",
       "      DiabetesPedigreeFunction  Age Outcome  \n",
       " 0                    0.330995   37       0  \n",
       " 1                    0.347808   33       0  \n",
       " 2                    0.311545   38       0  \n",
       " 3                    0.339302   35       0  \n",
       " 4                    0.316792   32       0  \n",
       " ..                        ...  ...     ...  \n",
       " 609                  0.345568   30       0  \n",
       " 610                  0.359797   35       0  \n",
       " 611                  0.317798   33       0  \n",
       " 612                  0.326646   33       0  \n",
       " 613                  0.293885   30       1  \n",
       " \n",
       " [614 rows x 9 columns]}"
      ]
     },
     "execution_count": 4,
     "metadata": {},
     "output_type": "execute_result"
    }
   ],
   "source": [
    "#iterate over all datasets filepaths and read each dataset\n",
    "for name, path in FILEPATHS.items() :\n",
    "    data[name] = pd.read_csv(path)\n",
    "    for col in categorical_columns :\n",
    "        data[name][col] = data[name][col].astype('category')\n",
    "data"
   ]
  },
  {
   "cell_type": "markdown",
   "metadata": {},
   "source": [
    "## 2. Plot PPC matrixes and calculate matrixes norms"
   ]
  },
  {
   "cell_type": "code",
   "execution_count": 5,
   "metadata": {},
   "outputs": [
    {
     "data": {
      "text/plain": [
       "{'Real': 3.2477,\n",
       " 'GM': 3.1542,\n",
       " 'SDV': 3.2412,\n",
       " 'CTGAN': 2.8529,\n",
       " 'WGANGP': 4.3979}"
      ]
     },
     "execution_count": 5,
     "metadata": {},
     "output_type": "execute_result"
    }
   ],
   "source": [
    "#compute correlation matrixes for all datasets\n",
    "cors_numerical = dict()\n",
    "norms_numerical = dict()\n",
    "for name in DATA_TYPES :\n",
    "    cors_numerical[name], norms_numerical[name] = get_numerical_correlations(data[name])\n",
    "norms_numerical"
   ]
  },
  {
   "cell_type": "code",
   "execution_count": 6,
   "metadata": {},
   "outputs": [
    {
     "data": {
      "image/png": "[encoded data removed]",
      "text/plain": [
       "<Figure size 1080x180 with 6 Axes>"
      ]
     },
     "metadata": {
      "needs_background": "light"
     },
     "output_type": "display_data"
    }
   ],
   "source": [
    "fig, axs = plt.subplots(nrows=1, ncols=5, figsize=(15, 2.5))\n",
    "axs_idxs = range(6)\n",
    "idx = dict(zip(DATA_TYPES,axs_idxs))\n",
    "\n",
    "for name_idx, name in enumerate(DATA_TYPES) :\n",
    "    ax = axs[idx[name]]\n",
    "    matrix = cors_numerical[name]\n",
    "    \n",
    "    if name_idx != len(DATA_TYPES) - 1:\n",
    "        plot_correlations(matrix, ax, color_bar=False)\n",
    "    else:\n",
    "        plot_correlations(matrix, ax, color_bar=True)\n",
    "    \n",
    "    if name_idx > 0:\n",
    "        ax.set_yticks([])  \n",
    "        \n",
    "    if name == 'Real' :\n",
    "        ax.set_title(name)\n",
    "    else :\n",
    "        score = compute_mra_score(cors_numerical['Real'], matrix)\n",
    "        ax.set_title(name + ' (' + str(score) + ')')\n",
    "    \n",
    "fig.savefig('MULTIVARIATE RESEMBLANCE RESULTS/PPC_Matrices.svg', bbox_inches='tight')"
   ]
  },
  {
   "cell_type": "markdown",
   "metadata": {},
   "source": [
    "## 3. Plot correlations for categorical variables and calculate matrixes norms"
   ]
  },
  {
   "cell_type": "code",
   "execution_count": 7,
   "metadata": {},
   "outputs": [
    {
     "data": {
      "text/plain": [
       "{'Real': nan, 'GM': nan, 'SDV': nan, 'CTGAN': nan, 'WGANGP': nan}"
      ]
     },
     "execution_count": 7,
     "metadata": {},
     "output_type": "execute_result"
    }
   ],
   "source": [
    "#compute correlation matrixes for all datasets\n",
    "cors_categorical = dict()\n",
    "norms_categorical = dict()\n",
    "for name in DATA_TYPES :\n",
    "    cors_categorical[name], norms_categorical[name] = get_categorical_correlations(data[name])\n",
    "norms_categorical"
   ]
  },
  {
   "cell_type": "code",
   "execution_count": 8,
   "metadata": {},
   "outputs": [
    {
     "ename": "ZeroDivisionError",
     "evalue": "division by zero",
     "output_type": "error",
     "traceback": [
      "\u001b[0;31m---------------------------------------------------------------------------\u001b[0m",
      "\u001b[0;31mZeroDivisionError\u001b[0m                         Traceback (most recent call last)",
      "\u001b[0;32m<ipython-input-8-d6e97631c616>\u001b[0m in \u001b[0;36m<module>\u001b[0;34m\u001b[0m\n\u001b[1;32m     19\u001b[0m         \u001b[0max\u001b[0m\u001b[0;34m.\u001b[0m\u001b[0mset_title\u001b[0m\u001b[0;34m(\u001b[0m\u001b[0mname\u001b[0m\u001b[0;34m)\u001b[0m\u001b[0;34m\u001b[0m\u001b[0;34m\u001b[0m\u001b[0m\n\u001b[1;32m     20\u001b[0m     \u001b[0;32melse\u001b[0m \u001b[0;34m:\u001b[0m\u001b[0;34m\u001b[0m\u001b[0;34m\u001b[0m\u001b[0m\n\u001b[0;32m---> 21\u001b[0;31m         \u001b[0mscore\u001b[0m \u001b[0;34m=\u001b[0m \u001b[0mcompute_mra_score\u001b[0m\u001b[0;34m(\u001b[0m\u001b[0mcors_categorical\u001b[0m\u001b[0;34m[\u001b[0m\u001b[0;34m'Real'\u001b[0m\u001b[0;34m]\u001b[0m\u001b[0;34m,\u001b[0m \u001b[0mmatrix\u001b[0m\u001b[0;34m)\u001b[0m\u001b[0;34m\u001b[0m\u001b[0;34m\u001b[0m\u001b[0m\n\u001b[0m\u001b[1;32m     22\u001b[0m         \u001b[0max\u001b[0m\u001b[0;34m.\u001b[0m\u001b[0mset_title\u001b[0m\u001b[0;34m(\u001b[0m\u001b[0mname\u001b[0m \u001b[0;34m+\u001b[0m \u001b[0;34m' ('\u001b[0m \u001b[0;34m+\u001b[0m \u001b[0mstr\u001b[0m\u001b[0;34m(\u001b[0m\u001b[0mscore\u001b[0m\u001b[0;34m)\u001b[0m \u001b[0;34m+\u001b[0m \u001b[0;34m')'\u001b[0m\u001b[0;34m)\u001b[0m\u001b[0;34m\u001b[0m\u001b[0;34m\u001b[0m\u001b[0m\n\u001b[1;32m     23\u001b[0m \u001b[0;34m\u001b[0m\u001b[0m\n",
      "\u001b[0;32m~/work/notebooks/POST TFM/EVALUATION FUNCTIONS/RESEMBLANCE/multivariate_resemblance.py\u001b[0m in \u001b[0;36mcompute_mra_score\u001b[0;34m(real, synthetic)\u001b[0m\n\u001b[1;32m    140\u001b[0m \u001b[0;34m\u001b[0m\u001b[0m\n\u001b[1;32m    141\u001b[0m     \u001b[0;31m#return the percentage of correlations preserved in synthetic data (rounded to two decimals)\u001b[0m\u001b[0;34m\u001b[0m\u001b[0;34m\u001b[0m\u001b[0;34m\u001b[0m\u001b[0m\n\u001b[0;32m--> 142\u001b[0;31m     \u001b[0;32mreturn\u001b[0m \u001b[0mnp\u001b[0m\u001b[0;34m.\u001b[0m\u001b[0mround\u001b[0m\u001b[0;34m(\u001b[0m\u001b[0mpreserved_cors\u001b[0m\u001b[0;34m/\u001b[0m\u001b[0mtotal_cors\u001b[0m\u001b[0;34m,\u001b[0m\u001b[0;36m2\u001b[0m\u001b[0;34m)\u001b[0m\u001b[0;34m\u001b[0m\u001b[0;34m\u001b[0m\u001b[0m\n\u001b[0m",
      "\u001b[0;31mZeroDivisionError\u001b[0m: division by zero"
     ]
    },
    {
     "data": {
      "image/png": "[encoded data removed]",
      "text/plain": [
       "<Figure size 1080x180 with 5 Axes>"
      ]
     },
     "metadata": {
      "needs_background": "light"
     },
     "output_type": "display_data"
    }
   ],
   "source": [
    "fig, axs = plt.subplots(nrows=1, ncols=5, figsize=(15, 2.5))\n",
    "axs_idxs = range(6)\n",
    "idx = dict(zip(DATA_TYPES,axs_idxs))\n",
    "first = True\n",
    "\n",
    "for name_idx, name in enumerate(DATA_TYPES) :\n",
    "    ax = axs[idx[name]]\n",
    "    matrix = cors_categorical[name]\n",
    "    \n",
    "    if name_idx != len(DATA_TYPES) - 1:\n",
    "        plot_correlations(matrix, ax, color_bar=False)\n",
    "    else:\n",
    "        plot_correlations(matrix, ax, color_bar=True)\n",
    "    \n",
    "    if name_idx > 0:\n",
    "        ax.set_yticks([])    \n",
    "\n",
    "    if name == 'Real' :\n",
    "        ax.set_title(name)\n",
    "    else :\n",
    "        score = compute_mra_score(cors_categorical['Real'], matrix)\n",
    "        ax.set_title(name + ' (' + str(score) + ')')\n",
    "        \n",
    "fig.savefig('MULTIVARIATE RESEMBLANCE RESULTS/Categorical_Matrices.svg', bbox_inches='tight')"
   ]
  },
  {
   "cell_type": "markdown",
   "metadata": {},
   "source": [
    "## 4. Explore the results"
   ]
  },
  {
   "cell_type": "code",
   "execution_count": 9,
   "metadata": {},
   "outputs": [
    {
     "data": {
      "text/plain": [
       "{'Real': 3.2477,\n",
       " 'GM': 3.1542,\n",
       " 'SDV': 3.2412,\n",
       " 'CTGAN': 2.8529,\n",
       " 'WGANGP': 4.3979}"
      ]
     },
     "execution_count": 9,
     "metadata": {},
     "output_type": "execute_result"
    }
   ],
   "source": [
    "norms_numerical"
   ]
  },
  {
   "cell_type": "code",
   "execution_count": 10,
   "metadata": {
    "scrolled": true
   },
   "outputs": [
    {
     "data": {
      "text/plain": [
       "{'Real': nan, 'GM': nan, 'SDV': nan, 'CTGAN': nan, 'WGANGP': nan}"
      ]
     },
     "execution_count": 10,
     "metadata": {},
     "output_type": "execute_result"
    }
   ],
   "source": [
    "norms_categorical"
   ]
  },
  {
   "cell_type": "code",
   "execution_count": 11,
   "metadata": {},
   "outputs": [
    {
     "data": {
      "text/html": [
       "<div>\n",
       "<style scoped>\n",
       "    .dataframe tbody tr th:only-of-type {\n",
       "        vertical-align: middle;\n",
       "    }\n",
       "\n",
       "    .dataframe tbody tr th {\n",
       "        vertical-align: top;\n",
       "    }\n",
       "\n",
       "    .dataframe thead th {\n",
       "        text-align: right;\n",
       "    }\n",
       "</style>\n",
       "<table border=\"1\" class=\"dataframe\">\n",
       "  <thead>\n",
       "    <tr style=\"text-align: right;\">\n",
       "      <th></th>\n",
       "      <th>Real</th>\n",
       "      <th>GM</th>\n",
       "      <th>SDV</th>\n",
       "      <th>CTGAN</th>\n",
       "      <th>WGANGP</th>\n",
       "    </tr>\n",
       "  </thead>\n",
       "  <tbody>\n",
       "    <tr>\n",
       "      <th>PPC_MATRIX_NORMS</th>\n",
       "      <td>3.2477</td>\n",
       "      <td>3.1542</td>\n",
       "      <td>3.2412</td>\n",
       "      <td>2.8529</td>\n",
       "      <td>4.3979</td>\n",
       "    </tr>\n",
       "    <tr>\n",
       "      <th>CATEGORICAL_CORS_MATRIX_NORMS</th>\n",
       "      <td>NaN</td>\n",
       "      <td>NaN</td>\n",
       "      <td>NaN</td>\n",
       "      <td>NaN</td>\n",
       "      <td>NaN</td>\n",
       "    </tr>\n",
       "  </tbody>\n",
       "</table>\n",
       "</div>"
      ],
      "text/plain": [
       "                                 Real      GM     SDV   CTGAN  WGANGP\n",
       "PPC_MATRIX_NORMS               3.2477  3.1542  3.2412  2.8529  4.3979\n",
       "CATEGORICAL_CORS_MATRIX_NORMS     NaN     NaN     NaN     NaN     NaN"
      ]
     },
     "execution_count": 11,
     "metadata": {},
     "output_type": "execute_result"
    }
   ],
   "source": [
    "norms_data = [np.asarray(list(norms_numerical.values())), np.asarray(list(norms_categorical.values()))]\n",
    "df_norms = pd.DataFrame(data=norms_data, columns=DATA_TYPES, index=['PPC_MATRIX_NORMS','CATEGORICAL_CORS_MATRIX_NORMS'])\n",
    "df_norms.to_csv('MULTIVARIATE RESEMBLANCE RESULTS/Correlation_Matrix_Norms.csv')\n",
    "df_norms"
   ]
  },
  {
   "cell_type": "code",
   "execution_count": null,
   "metadata": {},
   "outputs": [],
   "source": []
  }
 ],
 "metadata": {
  "kernelspec": {
   "display_name": "Python 3",
   "language": "python",
   "name": "python3"
  },
  "language_info": {
   "codemirror_mode": {
    "name": "ipython",
    "version": 3
   },
   "file_extension": ".py",
   "mimetype": "text/x-python",
   "name": "python",
   "nbconvert_exporter": "python",
   "pygments_lexer": "ipython3",
   "version": "3.8.5"
  }
 },
 "nbformat": 4,
 "nbformat_minor": 5
}
