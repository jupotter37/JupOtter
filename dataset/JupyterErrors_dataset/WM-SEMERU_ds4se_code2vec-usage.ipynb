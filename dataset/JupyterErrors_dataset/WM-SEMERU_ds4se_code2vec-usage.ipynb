{
 "cells": [
  {
   "cell_type": "code",
   "execution_count": 1,
   "metadata": {},
   "outputs": [],
   "source": [
    "import sys\n",
    "sys.path.append('/tf/main/notebooks/code2vec/code2vec')\n",
    "\n",
    "from typing import *\n",
    "import tensorflow as tf\n",
    "tf.executing_eagerly()\n",
    "tf.config.set_visible_devices([], 'GPU')"
   ]
  },
  {
   "cell_type": "code",
   "execution_count": 20,
   "metadata": {},
   "outputs": [],
   "source": [
    "import pandas as pd\n",
    "from pprint import pprint"
   ]
  },
  {
   "cell_type": "markdown",
   "metadata": {},
   "source": [
    "## code2vec_vectorization\n",
    "\n",
    "> This module uses Code2Vec model to perform vectorization on source code\n",
    "\n",
    "> @Alvaro 14 April 2021"
   ]
  },
  {
   "cell_type": "markdown",
   "metadata": {},
   "source": [
    "## Load model"
   ]
  },
  {
   "cell_type": "code",
   "execution_count": 3,
   "metadata": {},
   "outputs": [],
   "source": [
    "config = {\n",
    "    'code2vec_model_path': '/tf/main/dvc-ds4se/models/cv/java-large-release/saved_model_iter3.release',\n",
    "    'code2vec_predicter': {\n",
    "        'SHOW_TOP_CONTEXTS': 10,\n",
    "        'MAX_PATH_LENGTH': 8,\n",
    "        'MAX_PATH_WIDTH': 2,\n",
    "        'JAR_PATH': 'JavaExtractor/JPredict/target/JavaExtractor-0.0.1-SNAPSHOT.jar',\n",
    "    },\n",
    "    'codesearchnet_java_csv_path': '/tf/main/dvc-ds4se/code/searchnet/[codesearchnet-java-1597073966.81902].csv',\n",
    "    'spm_model_path': '/tf/main/my_model/spm',\n",
    "    'spm_vocab_size': 16384,\n",
    "    'spm_sentence_length': 256,\n",
    "    'ae_checkpoint_path': '/tf/main/my_model/ae_checkpoint',\n",
    "    'ae_embedding_dim': 256,\n",
    "    'ae_batch_size': 16,\n",
    "}"
   ]
  },
  {
   "cell_type": "code",
   "execution_count": 4,
   "metadata": {},
   "outputs": [],
   "source": [
    "import code2vec\n",
    "import common as code2vec_common\n",
    "import config as code2vec_config\n",
    "import extractor as code2vec_extrator\n",
    "\n",
    "code2vec_cfg = code2vec_config.Config(set_defaults=True)\n",
    "code2vec_cfg.PREDICT = True\n",
    "code2vec_cfg.MODEL_LOAD_PATH = config['code2vec_model_path']\n",
    "code2vec_cfg.DL_FRAMEWORK = 'tensorflow'\n",
    "code2vec_cfg.EXPORT_CODE_VECTORS = True\n",
    "code2vec_cfg.verify()"
   ]
  },
  {
   "cell_type": "code",
   "execution_count": 5,
   "metadata": {},
   "outputs": [
    {
     "name": "stdout",
     "output_type": "stream",
     "text": [
      "Help on module code2vec:\n",
      "\n",
      "NAME\n",
      "    code2vec\n",
      "\n",
      "FUNCTIONS\n",
      "    load_model_dynamically(config:config.Config) -> model_base.Code2VecModelBase\n",
      "\n",
      "FILE\n",
      "    /tf/main/notebooks/code2vec/code2vec/code2vec.py\n",
      "\n",
      "\n"
     ]
    }
   ],
   "source": [
    "help(code2vec)"
   ]
  },
  {
   "cell_type": "code",
   "execution_count": 6,
   "metadata": {},
   "outputs": [],
   "source": [
    "code2vec_model = code2vec.load_model_dynamically(code2vec_cfg)\n",
    "code2vec_path_extractor = code2vec_extrator.Extractor(\n",
    "    code2vec_cfg,\n",
    "    jar_path=config['code2vec_predicter']['JAR_PATH'],\n",
    "    max_path_length=config['code2vec_predicter']['MAX_PATH_LENGTH'],\n",
    "    max_path_width=config['code2vec_predicter']['MAX_PATH_WIDTH']\n",
    ")"
   ]
  },
  {
   "cell_type": "code",
   "execution_count": 12,
   "metadata": {},
   "outputs": [],
   "source": [
    "import os\n",
    "import tempfile\n",
    "import numpy as np\n",
    "\n",
    "def code2vec_predict(code: str) -> List[np.ndarray]:\n",
    "    os.chdir('/tf/main/notebooks/code2vec/code2vec')\n",
    "    with tempfile.NamedTemporaryFile(mode='w', encoding='utf-8', suffix='.java') as input_file:\n",
    "        input_file.write(code)\n",
    "        input_file.flush()\n",
    "        input_filename = input_file.name\n",
    "        try:\n",
    "            predict_lines, hash_to_string_dict = code2vec_path_extractor.extract_paths(input_filename)\n",
    "        except ValueError as e:\n",
    "            raise\n",
    "    assert len(predict_lines) == 1\n",
    "    raw_prediction_results = code2vec_model.predict(predict_lines)\n",
    "    assert len(raw_prediction_results) == 1\n",
    "    raw_prediction = raw_prediction_results[0]\n",
    "    return raw_prediction.code_vector"
   ]
  },
  {
   "cell_type": "markdown",
   "metadata": {},
   "source": [
    "## Load data (Searchnet - Java)"
   ]
  },
  {
   "cell_type": "code",
   "execution_count": 8,
   "metadata": {},
   "outputs": [],
   "source": [
    "java_df = pd.read_csv(config['codesearchnet_java_csv_path'], header=0, index_col=0, sep='~')"
   ]
  },
  {
   "cell_type": "code",
   "execution_count": 9,
   "metadata": {},
   "outputs": [
    {
     "data": {
      "text/html": [
       "<div>\n",
       "<style scoped>\n",
       "    .dataframe tbody tr th:only-of-type {\n",
       "        vertical-align: middle;\n",
       "    }\n",
       "\n",
       "    .dataframe tbody tr th {\n",
       "        vertical-align: top;\n",
       "    }\n",
       "\n",
       "    .dataframe thead th {\n",
       "        text-align: right;\n",
       "    }\n",
       "</style>\n",
       "<table border=\"1\" class=\"dataframe\">\n",
       "  <thead>\n",
       "    <tr style=\"text-align: right;\">\n",
       "      <th></th>\n",
       "      <th>repo</th>\n",
       "      <th>path</th>\n",
       "      <th>url</th>\n",
       "      <th>code</th>\n",
       "      <th>code_tokens</th>\n",
       "      <th>docstring</th>\n",
       "      <th>docstring_tokens</th>\n",
       "      <th>language</th>\n",
       "      <th>partition</th>\n",
       "      <th>bpe32k</th>\n",
       "      <th>code_len</th>\n",
       "      <th>bpe32_len</th>\n",
       "    </tr>\n",
       "  </thead>\n",
       "  <tbody>\n",
       "    <tr>\n",
       "      <th>0</th>\n",
       "      <td>ReactiveX/RxJava</td>\n",
       "      <td>src/main/java/io/reactivex/internal/observers/...</td>\n",
       "      <td>https://github.com/ReactiveX/RxJava/blob/ac841...</td>\n",
       "      <td>protected final void fastPathOrderedEmit(U val...</td>\n",
       "      <td>['protected', 'final', 'void', 'fastPathOrdere...</td>\n",
       "      <td>Makes sure the fast-path emits in order.\\n@par...</td>\n",
       "      <td>['Makes', 'sure', 'the', 'fast', '-', 'path', ...</td>\n",
       "      <td>java</td>\n",
       "      <td>test</td>\n",
       "      <td>['▁protected', '▁final', '▁void', '▁fast', 'Pa...</td>\n",
       "      <td>134</td>\n",
       "      <td>138</td>\n",
       "    </tr>\n",
       "    <tr>\n",
       "      <th>1</th>\n",
       "      <td>ReactiveX/RxJava</td>\n",
       "      <td>src/main/java/io/reactivex/Observable.java</td>\n",
       "      <td>https://github.com/ReactiveX/RxJava/blob/ac841...</td>\n",
       "      <td>@CheckReturnValue\\n    @NonNull\\n    @Schedule...</td>\n",
       "      <td>['@', 'CheckReturnValue', '@', 'NonNull', '@',...</td>\n",
       "      <td>Mirrors the one ObservableSource in an Iterabl...</td>\n",
       "      <td>['Mirrors', 'the', 'one', 'ObservableSource', ...</td>\n",
       "      <td>java</td>\n",
       "      <td>test</td>\n",
       "      <td>['▁', '@', 'CheckReturnValue', '▁', '@', 'NonN...</td>\n",
       "      <td>63</td>\n",
       "      <td>71</td>\n",
       "    </tr>\n",
       "    <tr>\n",
       "      <th>2</th>\n",
       "      <td>ReactiveX/RxJava</td>\n",
       "      <td>src/main/java/io/reactivex/Observable.java</td>\n",
       "      <td>https://github.com/ReactiveX/RxJava/blob/ac841...</td>\n",
       "      <td>@SuppressWarnings(\"unchecked\")\\n    @CheckRetu...</td>\n",
       "      <td>['@', 'SuppressWarnings', '(', '\"unchecked\"', ...</td>\n",
       "      <td>Mirrors the one ObservableSource in an array o...</td>\n",
       "      <td>['Mirrors', 'the', 'one', 'ObservableSource', ...</td>\n",
       "      <td>java</td>\n",
       "      <td>test</td>\n",
       "      <td>['▁', '@', 'SuppressWarnings', '(\"', 'unchecke...</td>\n",
       "      <td>107</td>\n",
       "      <td>109</td>\n",
       "    </tr>\n",
       "    <tr>\n",
       "      <th>3</th>\n",
       "      <td>ReactiveX/RxJava</td>\n",
       "      <td>src/main/java/io/reactivex/Observable.java</td>\n",
       "      <td>https://github.com/ReactiveX/RxJava/blob/ac841...</td>\n",
       "      <td>@SuppressWarnings({ \"unchecked\", \"rawtypes\" })...</td>\n",
       "      <td>['@', 'SuppressWarnings', '(', '{', '\"unchecke...</td>\n",
       "      <td>Concatenates elements of each ObservableSource...</td>\n",
       "      <td>['Concatenates', 'elements', 'of', 'each', 'Ob...</td>\n",
       "      <td>java</td>\n",
       "      <td>test</td>\n",
       "      <td>['▁', '@', 'SuppressWarnings', '({', '▁\"', 'un...</td>\n",
       "      <td>79</td>\n",
       "      <td>83</td>\n",
       "    </tr>\n",
       "    <tr>\n",
       "      <th>4</th>\n",
       "      <td>ReactiveX/RxJava</td>\n",
       "      <td>src/main/java/io/reactivex/Observable.java</td>\n",
       "      <td>https://github.com/ReactiveX/RxJava/blob/ac841...</td>\n",
       "      <td>@SuppressWarnings({ \"unchecked\", \"rawtypes\" })...</td>\n",
       "      <td>['@', 'SuppressWarnings', '(', '{', '\"unchecke...</td>\n",
       "      <td>Returns an Observable that emits the items emi...</td>\n",
       "      <td>['Returns', 'an', 'Observable', 'that', 'emits...</td>\n",
       "      <td>java</td>\n",
       "      <td>test</td>\n",
       "      <td>['▁', '@', 'SuppressWarnings', '({', '▁\"', 'un...</td>\n",
       "      <td>91</td>\n",
       "      <td>112</td>\n",
       "    </tr>\n",
       "  </tbody>\n",
       "</table>\n",
       "</div>"
      ],
      "text/plain": [
       "               repo                                               path  \\\n",
       "0  ReactiveX/RxJava  src/main/java/io/reactivex/internal/observers/...   \n",
       "1  ReactiveX/RxJava         src/main/java/io/reactivex/Observable.java   \n",
       "2  ReactiveX/RxJava         src/main/java/io/reactivex/Observable.java   \n",
       "3  ReactiveX/RxJava         src/main/java/io/reactivex/Observable.java   \n",
       "4  ReactiveX/RxJava         src/main/java/io/reactivex/Observable.java   \n",
       "\n",
       "                                                 url  \\\n",
       "0  https://github.com/ReactiveX/RxJava/blob/ac841...   \n",
       "1  https://github.com/ReactiveX/RxJava/blob/ac841...   \n",
       "2  https://github.com/ReactiveX/RxJava/blob/ac841...   \n",
       "3  https://github.com/ReactiveX/RxJava/blob/ac841...   \n",
       "4  https://github.com/ReactiveX/RxJava/blob/ac841...   \n",
       "\n",
       "                                                code  \\\n",
       "0  protected final void fastPathOrderedEmit(U val...   \n",
       "1  @CheckReturnValue\\n    @NonNull\\n    @Schedule...   \n",
       "2  @SuppressWarnings(\"unchecked\")\\n    @CheckRetu...   \n",
       "3  @SuppressWarnings({ \"unchecked\", \"rawtypes\" })...   \n",
       "4  @SuppressWarnings({ \"unchecked\", \"rawtypes\" })...   \n",
       "\n",
       "                                         code_tokens  \\\n",
       "0  ['protected', 'final', 'void', 'fastPathOrdere...   \n",
       "1  ['@', 'CheckReturnValue', '@', 'NonNull', '@',...   \n",
       "2  ['@', 'SuppressWarnings', '(', '\"unchecked\"', ...   \n",
       "3  ['@', 'SuppressWarnings', '(', '{', '\"unchecke...   \n",
       "4  ['@', 'SuppressWarnings', '(', '{', '\"unchecke...   \n",
       "\n",
       "                                           docstring  \\\n",
       "0  Makes sure the fast-path emits in order.\\n@par...   \n",
       "1  Mirrors the one ObservableSource in an Iterabl...   \n",
       "2  Mirrors the one ObservableSource in an array o...   \n",
       "3  Concatenates elements of each ObservableSource...   \n",
       "4  Returns an Observable that emits the items emi...   \n",
       "\n",
       "                                    docstring_tokens language partition  \\\n",
       "0  ['Makes', 'sure', 'the', 'fast', '-', 'path', ...     java      test   \n",
       "1  ['Mirrors', 'the', 'one', 'ObservableSource', ...     java      test   \n",
       "2  ['Mirrors', 'the', 'one', 'ObservableSource', ...     java      test   \n",
       "3  ['Concatenates', 'elements', 'of', 'each', 'Ob...     java      test   \n",
       "4  ['Returns', 'an', 'Observable', 'that', 'emits...     java      test   \n",
       "\n",
       "                                              bpe32k  code_len  bpe32_len  \n",
       "0  ['▁protected', '▁final', '▁void', '▁fast', 'Pa...       134        138  \n",
       "1  ['▁', '@', 'CheckReturnValue', '▁', '@', 'NonN...        63         71  \n",
       "2  ['▁', '@', 'SuppressWarnings', '(\"', 'unchecke...       107        109  \n",
       "3  ['▁', '@', 'SuppressWarnings', '({', '▁\"', 'un...        79         83  \n",
       "4  ['▁', '@', 'SuppressWarnings', '({', '▁\"', 'un...        91        112  "
      ]
     },
     "execution_count": 9,
     "metadata": {},
     "output_type": "execute_result"
    }
   ],
   "source": [
    "java_df.head()"
   ]
  },
  {
   "cell_type": "markdown",
   "metadata": {},
   "source": [
    "## Use code2vec with Searchnet data"
   ]
  },
  {
   "cell_type": "code",
   "execution_count": 13,
   "metadata": {},
   "outputs": [
    {
     "name": "stdout",
     "output_type": "stream",
     "text": [
      "INFO:tensorflow:Restoring parameters from /tf/main/dvc-ds4se/models/cv/java-large-release/saved_model_iter3.release\n",
      "array([-0.02760463, -0.7521175 ,  0.28506714, -0.27454707, -0.18097347,\n",
      "        0.24782339, -0.6722916 ,  0.46888486, -0.28081748,  0.8019222 ,\n",
      "array([-0.78671896,  0.285906  , -0.85090244, -0.8599002 ,  0.91621435,\n",
      "        0.9692382 , -0.8304114 ,  0.94401   , -0.86446977,  0.50095403,\n",
      "array([-0.5689152 ,  0.03706676, -0.83483744, -0.5761111 ,  0.73942655,\n",
      "        0.73533094, -0.8511594 ,  0.89340436, -0.71481305,  0.53665817,\n",
      "array([ 7.55247056e-01, -5.92072904e-01, -9.10713613e-01, -8.35382640e-01,\n",
      "        9.15723562e-01, -5.24400175e-01, -6.66961819e-02,  9.70486164e-01,\n"
     ]
    }
   ],
   "source": [
    "for i, row in java_df.iterrows():\n",
    "    if i == 4:\n",
    "        break\n",
    "    print('\\n'.join(repr(code2vec_predict(row['code'])).split('\\n')[:2]))"
   ]
  },
  {
   "cell_type": "code",
   "execution_count": 34,
   "metadata": {},
   "outputs": [],
   "source": [
    "samples = java_df.sample(10)"
   ]
  },
  {
   "cell_type": "markdown",
   "metadata": {},
   "source": [
    "# Limitations\n",
    "\n",
    "Apparently Code2vec is not able to code snippets with errors, because it is unable to generate the required AST structure."
   ]
  },
  {
   "cell_type": "code",
   "execution_count": 39,
   "metadata": {},
   "outputs": [
    {
     "ename": "ValueError",
     "evalue": "Exception in thread \"main\" com.github.javaparser.ParseProblemException: Encountered unexpected token: \"}\" \"}\"\n    at line 103, column 2.\n\nWas expecting one of:\n\n    \";\"\n    \"@\"\n    \"\\u001a\"\n    \"abstract\"\n    \"class\"\n    \"enum\"\n    \"final\"\n    \"interface\"\n    \"native\"\n    \"private\"\n    \"protected\"\n    \"public\"\n    \"static\"\n    \"strictfp\"\n    \"synchronized\"\n    \"transient\"\n    \"volatile\"\n    <EOF>\n\n\n\tat com.github.javaparser.JavaParser.simplifiedParse(JavaParser.java:242)\n\tat com.github.javaparser.JavaParser.parse(JavaParser.java:210)\n\tat JavaExtractor.FeatureExtractor.parseFileWithRetries(FeatureExtractor.java:70)\n\tat JavaExtractor.FeatureExtractor.extractFeatures(FeatureExtractor.java:40)\n\tat JavaExtractor.ExtractFeaturesTask.extractSingleFile(ExtractFeaturesTask.java:64)\n\tat JavaExtractor.ExtractFeaturesTask.processFile(ExtractFeaturesTask.java:39)\n\tat JavaExtractor.App.main(App.java:33)\n",
     "output_type": "error",
     "traceback": [
      "\u001b[0;31m---------------------------------------------------------------------------\u001b[0m",
      "\u001b[0;31mValueError\u001b[0m                                Traceback (most recent call last)",
      "\u001b[0;32m<ipython-input-39-f29452471dea>\u001b[0m in \u001b[0;36m<module>\u001b[0;34m\u001b[0m\n\u001b[0;32m----> 1\u001b[0;31m \u001b[0mc2v_vecs\u001b[0m \u001b[0;34m=\u001b[0m \u001b[0msamples\u001b[0m\u001b[0;34m[\u001b[0m\u001b[0;34m'code'\u001b[0m\u001b[0;34m]\u001b[0m\u001b[0;34m.\u001b[0m\u001b[0mapply\u001b[0m\u001b[0;34m(\u001b[0m\u001b[0;32mlambda\u001b[0m \u001b[0msnippet\u001b[0m\u001b[0;34m:\u001b[0m \u001b[0mcode2vec_predict\u001b[0m\u001b[0;34m(\u001b[0m\u001b[0msnippet\u001b[0m\u001b[0;34m)\u001b[0m\u001b[0;34m)\u001b[0m\u001b[0;34m\u001b[0m\u001b[0;34m\u001b[0m\u001b[0m\n\u001b[0m",
      "\u001b[0;32m/usr/local/lib/python3.6/dist-packages/pandas/core/series.py\u001b[0m in \u001b[0;36mapply\u001b[0;34m(self, func, convert_dtype, args, **kwds)\u001b[0m\n\u001b[1;32m   3846\u001b[0m             \u001b[0;32melse\u001b[0m\u001b[0;34m:\u001b[0m\u001b[0;34m\u001b[0m\u001b[0;34m\u001b[0m\u001b[0m\n\u001b[1;32m   3847\u001b[0m                 \u001b[0mvalues\u001b[0m \u001b[0;34m=\u001b[0m \u001b[0mself\u001b[0m\u001b[0;34m.\u001b[0m\u001b[0mastype\u001b[0m\u001b[0;34m(\u001b[0m\u001b[0mobject\u001b[0m\u001b[0;34m)\u001b[0m\u001b[0;34m.\u001b[0m\u001b[0mvalues\u001b[0m\u001b[0;34m\u001b[0m\u001b[0;34m\u001b[0m\u001b[0m\n\u001b[0;32m-> 3848\u001b[0;31m                 \u001b[0mmapped\u001b[0m \u001b[0;34m=\u001b[0m \u001b[0mlib\u001b[0m\u001b[0;34m.\u001b[0m\u001b[0mmap_infer\u001b[0m\u001b[0;34m(\u001b[0m\u001b[0mvalues\u001b[0m\u001b[0;34m,\u001b[0m \u001b[0mf\u001b[0m\u001b[0;34m,\u001b[0m \u001b[0mconvert\u001b[0m\u001b[0;34m=\u001b[0m\u001b[0mconvert_dtype\u001b[0m\u001b[0;34m)\u001b[0m\u001b[0;34m\u001b[0m\u001b[0;34m\u001b[0m\u001b[0m\n\u001b[0m\u001b[1;32m   3849\u001b[0m \u001b[0;34m\u001b[0m\u001b[0m\n\u001b[1;32m   3850\u001b[0m         \u001b[0;32mif\u001b[0m \u001b[0mlen\u001b[0m\u001b[0;34m(\u001b[0m\u001b[0mmapped\u001b[0m\u001b[0;34m)\u001b[0m \u001b[0;32mand\u001b[0m \u001b[0misinstance\u001b[0m\u001b[0;34m(\u001b[0m\u001b[0mmapped\u001b[0m\u001b[0;34m[\u001b[0m\u001b[0;36m0\u001b[0m\u001b[0;34m]\u001b[0m\u001b[0;34m,\u001b[0m \u001b[0mSeries\u001b[0m\u001b[0;34m)\u001b[0m\u001b[0;34m:\u001b[0m\u001b[0;34m\u001b[0m\u001b[0;34m\u001b[0m\u001b[0m\n",
      "\u001b[0;32mpandas/_libs/lib.pyx\u001b[0m in \u001b[0;36mpandas._libs.lib.map_infer\u001b[0;34m()\u001b[0m\n",
      "\u001b[0;32m<ipython-input-39-f29452471dea>\u001b[0m in \u001b[0;36m<lambda>\u001b[0;34m(snippet)\u001b[0m\n\u001b[0;32m----> 1\u001b[0;31m \u001b[0mc2v_vecs\u001b[0m \u001b[0;34m=\u001b[0m \u001b[0msamples\u001b[0m\u001b[0;34m[\u001b[0m\u001b[0;34m'code'\u001b[0m\u001b[0;34m]\u001b[0m\u001b[0;34m.\u001b[0m\u001b[0mapply\u001b[0m\u001b[0;34m(\u001b[0m\u001b[0;32mlambda\u001b[0m \u001b[0msnippet\u001b[0m\u001b[0;34m:\u001b[0m \u001b[0mcode2vec_predict\u001b[0m\u001b[0;34m(\u001b[0m\u001b[0msnippet\u001b[0m\u001b[0;34m)\u001b[0m\u001b[0;34m)\u001b[0m\u001b[0;34m\u001b[0m\u001b[0;34m\u001b[0m\u001b[0m\n\u001b[0m",
      "\u001b[0;32m<ipython-input-12-226a493d7ec8>\u001b[0m in \u001b[0;36mcode2vec_predict\u001b[0;34m(code)\u001b[0m\n\u001b[1;32m     10\u001b[0m         \u001b[0minput_filename\u001b[0m \u001b[0;34m=\u001b[0m \u001b[0minput_file\u001b[0m\u001b[0;34m.\u001b[0m\u001b[0mname\u001b[0m\u001b[0;34m\u001b[0m\u001b[0;34m\u001b[0m\u001b[0m\n\u001b[1;32m     11\u001b[0m         \u001b[0;32mtry\u001b[0m\u001b[0;34m:\u001b[0m\u001b[0;34m\u001b[0m\u001b[0;34m\u001b[0m\u001b[0m\n\u001b[0;32m---> 12\u001b[0;31m             \u001b[0mpredict_lines\u001b[0m\u001b[0;34m,\u001b[0m \u001b[0mhash_to_string_dict\u001b[0m \u001b[0;34m=\u001b[0m \u001b[0mcode2vec_path_extractor\u001b[0m\u001b[0;34m.\u001b[0m\u001b[0mextract_paths\u001b[0m\u001b[0;34m(\u001b[0m\u001b[0minput_filename\u001b[0m\u001b[0;34m)\u001b[0m\u001b[0;34m\u001b[0m\u001b[0;34m\u001b[0m\u001b[0m\n\u001b[0m\u001b[1;32m     13\u001b[0m         \u001b[0;32mexcept\u001b[0m \u001b[0mValueError\u001b[0m \u001b[0;32mas\u001b[0m \u001b[0me\u001b[0m\u001b[0;34m:\u001b[0m\u001b[0;34m\u001b[0m\u001b[0;34m\u001b[0m\u001b[0m\n\u001b[1;32m     14\u001b[0m             \u001b[0;32mraise\u001b[0m\u001b[0;34m\u001b[0m\u001b[0;34m\u001b[0m\u001b[0m\n",
      "\u001b[0;32m/tf/main/notebooks/code2vec/code2vec/extractor.py\u001b[0m in \u001b[0;36mextract_paths\u001b[0;34m(self, path)\u001b[0m\n\u001b[1;32m     17\u001b[0m         \u001b[0;32mif\u001b[0m \u001b[0mlen\u001b[0m\u001b[0;34m(\u001b[0m\u001b[0moutput\u001b[0m\u001b[0;34m)\u001b[0m \u001b[0;34m==\u001b[0m \u001b[0;36m0\u001b[0m\u001b[0;34m:\u001b[0m\u001b[0;34m\u001b[0m\u001b[0;34m\u001b[0m\u001b[0m\n\u001b[1;32m     18\u001b[0m             \u001b[0merr\u001b[0m \u001b[0;34m=\u001b[0m \u001b[0merr\u001b[0m\u001b[0;34m.\u001b[0m\u001b[0mdecode\u001b[0m\u001b[0;34m(\u001b[0m\u001b[0;34m)\u001b[0m\u001b[0;34m\u001b[0m\u001b[0;34m\u001b[0m\u001b[0m\n\u001b[0;32m---> 19\u001b[0;31m             \u001b[0;32mraise\u001b[0m \u001b[0mValueError\u001b[0m\u001b[0;34m(\u001b[0m\u001b[0merr\u001b[0m\u001b[0;34m)\u001b[0m\u001b[0;34m\u001b[0m\u001b[0;34m\u001b[0m\u001b[0m\n\u001b[0m\u001b[1;32m     20\u001b[0m         \u001b[0mhash_to_string_dict\u001b[0m \u001b[0;34m=\u001b[0m \u001b[0;34m{\u001b[0m\u001b[0;34m}\u001b[0m\u001b[0;34m\u001b[0m\u001b[0;34m\u001b[0m\u001b[0m\n\u001b[1;32m     21\u001b[0m         \u001b[0mresult\u001b[0m \u001b[0;34m=\u001b[0m \u001b[0;34m[\u001b[0m\u001b[0;34m]\u001b[0m\u001b[0;34m\u001b[0m\u001b[0;34m\u001b[0m\u001b[0m\n",
      "\u001b[0;31mValueError\u001b[0m: Exception in thread \"main\" com.github.javaparser.ParseProblemException: Encountered unexpected token: \"}\" \"}\"\n    at line 103, column 2.\n\nWas expecting one of:\n\n    \";\"\n    \"@\"\n    \"\\u001a\"\n    \"abstract\"\n    \"class\"\n    \"enum\"\n    \"final\"\n    \"interface\"\n    \"native\"\n    \"private\"\n    \"protected\"\n    \"public\"\n    \"static\"\n    \"strictfp\"\n    \"synchronized\"\n    \"transient\"\n    \"volatile\"\n    <EOF>\n\n\n\tat com.github.javaparser.JavaParser.simplifiedParse(JavaParser.java:242)\n\tat com.github.javaparser.JavaParser.parse(JavaParser.java:210)\n\tat JavaExtractor.FeatureExtractor.parseFileWithRetries(FeatureExtractor.java:70)\n\tat JavaExtractor.FeatureExtractor.extractFeatures(FeatureExtractor.java:40)\n\tat JavaExtractor.ExtractFeaturesTask.extractSingleFile(ExtractFeaturesTask.java:64)\n\tat JavaExtractor.ExtractFeaturesTask.processFile(ExtractFeaturesTask.java:39)\n\tat JavaExtractor.App.main(App.java:33)\n"
     ]
    }
   ],
   "source": [
    "c2v_vecs = samples['code'].apply(lambda snippet: code2vec_predict(snippet))"
   ]
  },
  {
   "cell_type": "code",
   "execution_count": 37,
   "metadata": {},
   "outputs": [
    {
     "data": {
      "text/plain": [
       "29525    public static String getVcsUrl(Map<String, Str...\n",
       "7962     public void write(Writer out)\\n         throws...\n",
       "22950    public static byte[] encodeBase64(final byte[]...\n",
       "14894    public DataSet getDataSet()\\n    {\\n        if...\n",
       "11822    @Override\\n  public void close() {\\n    try {\\...\n",
       "21986    public static int cublasGetMatrix (int rows, i...\n",
       "14580    public static <T, C extends Collection<T>> C c...\n",
       "8471     public static OperationBuilder gzipCompression...\n",
       "29768    @Override\\n    public synchronized Enumeration...\n",
       "7750     public final void accept(T value) {\\n\\n       ...\n",
       "Name: code, dtype: object"
      ]
     },
     "execution_count": 37,
     "metadata": {},
     "output_type": "execute_result"
    }
   ],
   "source": [
    "c2v_vecs"
   ]
  },
  {
   "cell_type": "code",
   "execution_count": 28,
   "metadata": {},
   "outputs": [],
   "source": [
    "individual_vec = code2vec_predict(java_df['code'].values[345])"
   ]
  },
  {
   "cell_type": "code",
   "execution_count": 29,
   "metadata": {},
   "outputs": [
    {
     "name": "stdout",
     "output_type": "stream",
     "text": [
      "(384,)\n"
     ]
    }
   ],
   "source": [
    "print(individual_vec.shape)"
   ]
  },
  {
   "cell_type": "code",
   "execution_count": 30,
   "metadata": {},
   "outputs": [
    {
     "data": {
      "text/plain": [
       "['array([ 0.90667623,  0.23809455, -0.8514606 ,  0.59510237,  0.75598276,',\n",
       " '        0.33530924, -0.89018124, -0.10340924, -0.08221343,  0.1775785 ,']"
      ]
     },
     "execution_count": 30,
     "metadata": {},
     "output_type": "execute_result"
    }
   ],
   "source": [
    "repr(individual_vec).split('\\n')[:2]"
   ]
  },
  {
   "cell_type": "code",
   "execution_count": 31,
   "metadata": {},
   "outputs": [
    {
     "name": "stdout",
     "output_type": "stream",
     "text": [
      "array([ 0.90667623,  0.23809455, -0.8514606 ,  0.59510237,  0.75598276,\n",
      "        0.33530924, -0.89018124, -0.10340924, -0.08221343,  0.1775785 ,\n",
      "        0.68682784,  0.8717235 , -0.8824909 , -0.2163393 , -0.94581205,\n",
      "       -0.60218436,  0.16467701,  0.5311251 ,  0.61102974, -0.91910887,\n",
      "       -0.06518988,  0.92059714, -0.6736148 ,  0.29241586, -0.89693016,\n",
      "        0.9556126 , -0.72767204, -0.6197471 , -0.77548754,  0.65452117,\n",
      "       -0.8779617 , -0.89800316, -0.90010667,  0.9015    , -0.8361703 ,\n",
      "        0.9941117 ,  0.83574724, -0.8061686 , -0.65711653, -0.8074735 ,\n",
      "        0.78486156, -0.29897797,  0.9641091 ,  0.5523618 , -0.52341473,\n",
      "        0.7395637 , -0.98014444,  0.05120218,  0.8844695 , -0.9133232 ,\n",
      "        0.14564386, -0.971864  , -0.03832306, -0.24839212, -0.726976  ,\n",
      "        0.6552962 ,  0.8738723 , -0.93183345,  0.9217573 , -0.47155234,\n",
      "        0.23935933, -0.9609556 , -0.7694921 ,  0.00795595,  0.6573367 ,\n",
      "        0.14391422,  0.77083814, -0.56578416,  0.6385719 , -0.8605773 ,\n",
      "       -0.08998964, -0.9152267 , -0.26494926, -0.7834179 , -0.874772  ,\n",
      "       -0.183479  ,  0.45991355, -0.64009947, -0.89154047, -0.62671417,\n",
      "        0.7910679 , -0.3615168 ,  0.9668796 ,  0.83317804, -0.89086396,\n",
      "       -0.3830303 , -0.9524878 ,  0.6384584 ,  0.887769  , -0.03987212,\n",
      "       -0.22616337, -0.9773926 ,  0.94355965, -0.88959515, -0.5885825 ,\n",
      "        0.21915436,  0.25571018, -0.67014676, -0.9644795 , -0.60675204,\n",
      "        0.4422032 , -0.8389746 ,  0.6911425 , -0.8235643 ,  0.99349374,\n",
      "        0.6580209 , -0.9618879 ,  0.5359187 ,  0.96023506,  0.71404845,\n",
      "        0.5883206 , -0.9517394 ,  0.9356483 ,  0.01915724, -0.85950524,\n",
      "       -0.97637063, -0.85055304,  0.6731169 ,  0.8807629 , -0.6811999 ,\n",
      "       -0.82258284, -0.60838556,  0.7276759 ,  0.8099397 ,  0.51460415,\n",
      "        0.78223616, -0.7230485 ,  0.7594839 , -0.6407636 ,  0.16446434,\n",
      "        0.7224736 , -0.6637316 , -0.4189317 , -0.5659798 ,  0.8504635 ,\n",
      "       -0.39627817,  0.3296231 ,  0.8434308 , -0.6524742 ,  0.9022493 ,\n",
      "        0.5056506 ,  0.8254227 , -0.48934942,  0.4023584 ,  0.7397813 ,\n",
      "       -0.8923005 , -0.03090231,  0.50544274, -0.86953956,  0.6174863 ,\n",
      "        0.7816181 , -0.9302153 , -0.47948718,  0.4836202 ,  0.11084059,\n",
      "       -0.4916398 , -0.36031124, -0.27927542, -0.02485122,  0.9408225 ,\n",
      "        0.51592916, -0.38373876, -0.6091329 , -0.2978325 ,  0.98413354,\n",
      "       -0.79235923,  0.86497813, -0.8270297 ,  0.5046555 , -0.8401862 ,\n",
      "        0.6917475 , -0.37242687, -0.21509118,  0.9952206 , -0.4988583 ,\n",
      "        0.7282118 ,  0.756922  , -0.5802432 , -0.9579138 , -0.9606662 ,\n",
      "        0.747466  ,  0.9336372 ,  0.9113148 ,  0.92039436, -0.7748792 ,\n",
      "       -0.7974893 ,  0.823378  ,  0.13456509,  0.196044  ,  0.84091526,\n",
      "        0.40457094,  0.8418262 , -0.42681566,  0.34144992, -0.35958466,\n",
      "       -0.9467508 ,  0.33785522,  0.9478406 ,  0.86752117,  0.9477478 ,\n",
      "        0.9304946 ,  0.9650412 , -0.48673   , -0.64584243, -0.8811497 ,\n",
      "       -0.82241756,  0.83267915,  0.96859443,  0.95232517,  0.06313136,\n",
      "        0.71023005, -0.9751802 , -0.9268213 ,  0.70706064, -0.856204  ,\n",
      "        0.9559092 , -0.5623535 ,  0.11310522, -0.9350945 ,  0.86596304,\n",
      "        0.23083864,  0.17207968,  0.50392306, -0.77389073,  0.4811926 ,\n",
      "       -0.7253974 ,  0.43920094,  0.9958861 ,  0.6903592 , -0.9314577 ,\n",
      "        0.3625387 , -0.94849116,  0.9852755 , -0.5298049 ,  0.3174794 ,\n",
      "        0.01095822, -0.3985882 ,  0.9041501 , -0.6883557 ,  0.5073407 ,\n",
      "        0.15640064, -0.745527  ,  0.80842394, -0.19697694,  0.5468816 ,\n",
      "        0.8573955 , -0.2571448 ,  0.14945535, -0.9162499 , -0.15384954,\n",
      "        0.7503304 , -0.98780507,  0.10955907,  0.9892964 , -0.5223266 ,\n",
      "       -0.20424649,  0.77365696, -0.8480251 , -0.9553006 ,  0.7384195 ,\n",
      "       -0.8471131 ,  0.08131848,  0.9312494 , -0.9538194 , -0.6500718 ,\n",
      "       -0.99190396,  0.4058977 ,  0.48191833,  0.77718824,  0.259011  ,\n",
      "        0.9648151 , -0.61262333, -0.9027612 , -0.18249692, -0.67985225,\n",
      "        0.41275844,  0.82118005, -0.72618437,  0.6215081 , -0.40822405,\n",
      "        0.31119078, -0.83965755, -0.7603322 , -0.9171012 , -0.9737757 ,\n",
      "       -0.52093333, -0.9197536 ,  0.85237676, -0.13981172,  0.21357796,\n",
      "        0.6838898 ,  0.8989123 , -0.08246055,  0.64206094, -0.92954034,\n",
      "        0.6238347 ,  0.83009   , -0.76780546,  0.95795906,  0.6595788 ,\n",
      "        0.78891337,  0.88848025, -0.68615115,  0.981941  ,  0.87992346,\n",
      "       -0.88519084,  0.6976325 ,  0.59193933,  0.7786034 ,  0.34906918,\n",
      "        0.09639756, -0.95960975,  0.3112352 ,  0.8345838 , -0.92912745,\n",
      "        0.89431053,  0.494727  , -0.44178203,  0.497217  ,  0.13457468,\n",
      "        0.02779773, -0.5492551 , -0.7966479 , -0.56218356, -0.9699719 ,\n",
      "        0.25388613,  0.1428406 ,  0.81382185, -0.91222316,  0.26587746,\n",
      "       -0.77251077, -0.83603257, -0.1688737 , -0.49621755,  0.14037377,\n",
      "        0.88014764,  0.01828605, -0.8008795 , -0.14822166,  0.72674125,\n",
      "       -0.09990126,  0.37504908, -0.66684324, -0.69221425, -0.9730315 ,\n",
      "       -0.42090306,  0.9737169 , -0.3039917 ,  0.61347383, -0.18843855,\n",
      "       -0.968581  ,  0.6238256 ,  0.9128286 , -0.33129194, -0.817232  ,\n",
      "       -0.6387006 ,  0.6901528 ,  0.3634557 , -0.5632676 , -0.96470153,\n",
      "       -0.35957795, -0.6414147 , -0.94082433,  0.06430883, -0.5921718 ,\n",
      "       -0.9172292 , -0.51810914,  0.52899504, -0.5315786 ,  0.8624152 ,\n",
      "        0.92085737, -0.4336671 , -0.8877431 , -0.655062  ,  0.30729786,\n",
      "        0.97122747,  0.5645724 , -0.77369386,  0.6824009 , -0.81609297,\n",
      "        0.92162126,  0.5365972 , -0.53211457, -0.07999437], dtype=float32)\n"
     ]
    }
   ],
   "source": [
    "pprint(individual_vec)"
   ]
  },
  {
   "cell_type": "code",
   "execution_count": 15,
   "metadata": {},
   "outputs": [],
   "source": [
    "def get_code2vec_vectors(df: pd.DataFrame, code_column: str):\n",
    "    \"\"\"\n",
    "    \"\"\"\n",
    "\n",
    "    c2v_vectors = df[code_column]"
   ]
  }
 ],
 "metadata": {
  "kernelspec": {
   "display_name": "Python 3",
   "language": "python",
   "name": "python3"
  },
  "language_info": {
   "codemirror_mode": {
    "name": "ipython",
    "version": 3
   },
   "file_extension": ".py",
   "mimetype": "text/x-python",
   "name": "python",
   "nbconvert_exporter": "python",
   "pygments_lexer": "ipython3",
   "version": "3.6.8"
  }
 },
 "nbformat": 4,
 "nbformat_minor": 2
}
