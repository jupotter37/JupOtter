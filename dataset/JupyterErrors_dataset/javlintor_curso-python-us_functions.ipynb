{
  "cells": [
    {
      "cell_type": "markdown",
      "metadata": {
        "id": "ZC4U5fcR58M1"
      },
      "source": [
        "# Funciones"
      ]
    },
    {
      "cell_type": "markdown",
      "metadata": {
        "id": "qeFUhv8c58M3"
      },
      "source": [
        "Las funciones son bloques fundamentales de los programas de Python que nos permiten reutilizar trozos de código. Para definirlas utilizamos `def`"
      ]
    },
    {
      "cell_type": "code",
      "source": [
        "def add(x, y):\n",
        "    return x + y"
      ],
      "metadata": {
        "id": "SQKHPx8q8BV0"
      },
      "execution_count": null,
      "outputs": []
    },
    {
      "cell_type": "markdown",
      "source": [
        "En la cabecera de la función (lo que definimos entre `def` y `:`) especificamos el nombre de la función y de los parámetros. El cuerpo de la función es una secuencia de declaraciones que se ejecutan cuando se llama a la función. Para ello, simplemente escribimos el nombre de la función seguido de los argumentos incluidos entre paréntesis"
      ],
      "metadata": {
        "id": "wO0TF4ZI8DUV"
      }
    },
    {
      "cell_type": "code",
      "source": [
        "a = add(2, 3)"
      ],
      "metadata": {
        "id": "89jk4ORn8g_8"
      },
      "execution_count": null,
      "outputs": []
    },
    {
      "cell_type": "markdown",
      "source": [
        "Si queremos que nuestra función devuelva un valor, utilizamos el comando `return`, que puede aparecer varias veces en el cuerpo de una función. Para devolver varios valores, podemos utilizar tuplas."
      ],
      "metadata": {
        "id": "6DtTKkQ7W614"
      }
    },
    {
      "cell_type": "code",
      "source": [
        "def foo():\n",
        "    return \"bar\", \"baz\""
      ],
      "metadata": {
        "id": "moSqoBmuXbYT"
      },
      "execution_count": null,
      "outputs": []
    },
    {
      "cell_type": "code",
      "source": [
        "a, b = foo()\n",
        "print(a, b)"
      ],
      "metadata": {
        "colab": {
          "base_uri": "https://localhost:8080/"
        },
        "id": "YzeOeM9DXnM4",
        "outputId": "c44abf02-5bbc-4382-b0d4-fc2c56ddd5b5"
      },
      "execution_count": null,
      "outputs": [
        {
          "output_type": "stream",
          "name": "stdout",
          "text": [
            "bar baz\n"
          ]
        }
      ]
    },
    {
      "cell_type": "markdown",
      "source": [
        "Cuando la ejecución de una función termina sin encontrar ningún return, ésta devuelve `None`."
      ],
      "metadata": {
        "id": "FdO-7Az1Xbwg"
      }
    },
    {
      "cell_type": "markdown",
      "source": [
        ":::{exercise}\n",
        ":label: functions-def\n",
        "\n",
        "Escribe una función `count_even` que acepte un argumento llamado `numbers`,  que será un iterable que contenga enteros, y devuelva cúantos son pares.  \n",
        "\n",
        ":::"
      ],
      "metadata": {
        "id": "otl55wDzbFo6"
      }
    },
    {
      "cell_type": "markdown",
      "source": [
        ":::{solution} functions-def\n",
        ":class: dropdown\n",
        "\n",
        "```\n",
        "def count_even(numbers):\n",
        "    l = len([x for x in numbers if x % 2 == 0])\n",
        "    return l\n",
        "```\n",
        "\n",
        "```\n",
        ">>> count_even([2, 3, 4, 5, 6, -2])\n",
        "4\n",
        "```\n",
        "\n",
        ":::\n"
      ],
      "metadata": {
        "id": "feeu138Uzzzw"
      }
    },
    {
      "cell_type": "markdown",
      "source": [
        "---\n",
        "## Argumentos por defecto\n",
        "\n",
        "Podemos incluir valores por defecto en los parámetros de nuestras funciones mediante asignaciones que se realizan en la cabecera de la misma."
      ],
      "metadata": {
        "id": "Os-Dl_JR8rSR"
      }
    },
    {
      "cell_type": "code",
      "source": [
        "def f(a, b=3):\n",
        "    print(a)\n",
        "    print(b)"
      ],
      "metadata": {
        "id": "57we44Xm8wCm"
      },
      "execution_count": null,
      "outputs": []
    },
    {
      "cell_type": "code",
      "source": [
        "f(a=2)"
      ],
      "metadata": {
        "id": "pLMDPtCtH3Ys",
        "outputId": "57e87005-a490-49b3-db7f-f38cc52b5b6d",
        "colab": {
          "base_uri": "https://localhost:8080/"
        }
      },
      "execution_count": null,
      "outputs": [
        {
          "output_type": "stream",
          "name": "stdout",
          "text": [
            "2\n",
            "3\n"
          ]
        }
      ]
    },
    {
      "cell_type": "code",
      "source": [
        "f(a=2, b=1)"
      ],
      "metadata": {
        "id": "5WIyA0GgH6MR",
        "outputId": "be6011c5-01ee-4232-b2b7-3e65bfe937c8",
        "colab": {
          "base_uri": "https://localhost:8080/"
        }
      },
      "execution_count": null,
      "outputs": [
        {
          "output_type": "stream",
          "name": "stdout",
          "text": [
            "2\n",
            "1\n"
          ]
        }
      ]
    },
    {
      "cell_type": "markdown",
      "source": [
        "Cuando en una función definimos un parámetro con un valor por defecto, ese parámetro y todos los que le siguen son opcionales. De este modo, **es un error de sintaxis especificar un parámetro sin valor por defecto después de un parámetro con uno**. Por ejemplo,"
      ],
      "metadata": {
        "id": "Wy9emIklH8oZ"
      }
    },
    {
      "cell_type": "code",
      "source": [
        "def f(a, b, c=1, d):\n",
        "    pass"
      ],
      "metadata": {
        "id": "PjfMYiclIgJG",
        "outputId": "c1457fc5-3ded-43d6-b978-b1ccc2167f05",
        "colab": {
          "base_uri": "https://localhost:8080/",
          "height": 134
        }
      },
      "execution_count": null,
      "outputs": [
        {
          "output_type": "error",
          "ename": "SyntaxError",
          "evalue": "ignored",
          "traceback": [
            "\u001b[0;36m  File \u001b[0;32m\"<ipython-input-6-6eed9b32205d>\"\u001b[0;36m, line \u001b[0;32m1\u001b[0m\n\u001b[0;31m    def f(a, b, c=1, d):\u001b[0m\n\u001b[0m         ^\u001b[0m\n\u001b[0;31mSyntaxError\u001b[0m\u001b[0;31m:\u001b[0m non-default argument follows default argument\n"
          ]
        }
      ]
    },
    {
      "cell_type": "markdown",
      "source": [
        "Otra cosa importante es que **los valores por defecto se evalúan cuando se define la función, no cuando la función se llama**. Mira este ejemplo"
      ],
      "metadata": {
        "id": "AmbhRhLAIidB"
      }
    },
    {
      "cell_type": "code",
      "source": [
        "def f(x, items=[]):\n",
        "    items.append(x)\n",
        "    return items\n",
        "\n",
        "a = f(1)\n",
        "b = f(2)\n",
        "c = f(3)\n",
        "print(c)"
      ],
      "metadata": {
        "id": "sXLSTv4DI-Fe",
        "outputId": "e88f2d82-d098-4caf-f7d3-68437e6dc730",
        "colab": {
          "base_uri": "https://localhost:8080/"
        }
      },
      "execution_count": null,
      "outputs": [
        {
          "output_type": "stream",
          "name": "stdout",
          "text": [
            "[1, 2, 3]\n"
          ]
        }
      ]
    },
    {
      "cell_type": "markdown",
      "source": [
        "Por ello, es altamente recomendable usar *None* en los parámetros *vacíos o desconocidos* de nuestras funciones e incluir una comprobación.  "
      ],
      "metadata": {
        "id": "cHNVWZLbJGbn"
      }
    },
    {
      "cell_type": "code",
      "source": [
        "def f(x, items=None):\n",
        "    if items is None:\n",
        "        items = []\n",
        "    items.append(x)\n",
        "    return items\n",
        "\n",
        "a = f(1)\n",
        "b = f(2)\n",
        "c = f(3)\n",
        "print(c)"
      ],
      "metadata": {
        "id": "nL5EUtdbJV07",
        "outputId": "6d9f8a2b-3c7c-4110-e911-a7b877e00504",
        "colab": {
          "base_uri": "https://localhost:8080/"
        }
      },
      "execution_count": null,
      "outputs": [
        {
          "output_type": "stream",
          "name": "stdout",
          "text": [
            "[3]\n"
          ]
        }
      ]
    },
    {
      "cell_type": "markdown",
      "source": [
        "---\n",
        "## Argumentos variacionales\n",
        "\n",
        "Una función en Python puede aceptar **un número variable** de argumentos si un asterisco `*` se utiliza antes del nombre de una variable, que por convenio suele denominarse `*args`. Por ejemplo"
      ],
      "metadata": {
        "id": "2SRSV1QMJeBw"
      }
    },
    {
      "cell_type": "code",
      "source": [
        "def product(first, *args):\n",
        "    result = first\n",
        "    for x in args:\n",
        "        result = result * x\n",
        "    return result"
      ],
      "metadata": {
        "id": "QhS_QFgK8pGT"
      },
      "execution_count": null,
      "outputs": []
    },
    {
      "cell_type": "code",
      "source": [
        "product(10, 20)"
      ],
      "metadata": {
        "colab": {
          "base_uri": "https://localhost:8080/"
        },
        "id": "v8iHgO2a8yBs",
        "outputId": "573371bf-708b-44e4-c6c9-ddb2e5388a5d"
      },
      "execution_count": null,
      "outputs": [
        {
          "output_type": "execute_result",
          "data": {
            "text/plain": [
              "200"
            ]
          },
          "metadata": {},
          "execution_count": 10
        }
      ]
    },
    {
      "cell_type": "code",
      "source": [
        "product(10, 20, 5)"
      ],
      "metadata": {
        "colab": {
          "base_uri": "https://localhost:8080/"
        },
        "id": "c0A-xxXO872c",
        "outputId": "8aee3f85-13ed-429f-845a-1f320fa10967"
      },
      "execution_count": null,
      "outputs": [
        {
          "output_type": "execute_result",
          "data": {
            "text/plain": [
              "1000"
            ]
          },
          "metadata": {},
          "execution_count": 11
        }
      ]
    },
    {
      "cell_type": "markdown",
      "source": [
        "En este caso, todos los argumentos extra se localizan en la variable `args` como una tupla. Podemos por lo tanto trabajar con los argumentos utilizando las operaciones estándar de secuencias: iteración, slicing, desempaquetado etc."
      ],
      "metadata": {
        "id": "3akJA4bp89Sj"
      }
    },
    {
      "cell_type": "markdown",
      "source": [
        "---\n",
        "## Argumentos nombrados y posicionales\n",
        "\n",
        "Los argumentos de las funciones también pueden nombrarse explícitamente para cada parámetro cuando son invocadas, además en ese caso el orden de los argumentos no importa siempre que cada uno tome **un único valor**"
      ],
      "metadata": {
        "id": "gP8QRmvk9ufh"
      }
    },
    {
      "cell_type": "code",
      "source": [
        "def f(w, x, y, z):\n",
        "    pass"
      ],
      "metadata": {
        "id": "kCG7x19U-YrW"
      },
      "execution_count": null,
      "outputs": []
    },
    {
      "cell_type": "markdown",
      "source": [
        "Podemos llamarla como `f(x=3, y=22, w=\"foo\", z=[1, 2])` y alterar el orden. Los argumentos en los que explicitamos el nombre son denominados **argumentos nombrados** y el resto **argumentos posicionales**. Si combinamos ambos, tendremos que tener en cuenta que los posicionales deben ir siempre primero y que ningún argumento reciba más de un valor. Por ejemplo"
      ],
      "metadata": {
        "id": "RM1oyfWv-bna"
      }
    },
    {
      "cell_type": "code",
      "source": [
        "# ✅\n",
        "f(\"foo\", 3, z=[1, 2], y=22)"
      ],
      "metadata": {
        "id": "UiTSwCzN_Lyv"
      },
      "execution_count": null,
      "outputs": []
    },
    {
      "cell_type": "code",
      "source": [
        "# ❌\n",
        "f(3, 22, w=\"foo\", z=[1, 2])"
      ],
      "metadata": {
        "colab": {
          "base_uri": "https://localhost:8080/",
          "height": 190
        },
        "id": "8oAPcGjq_LJT",
        "outputId": "7fe5e4ee-4d00-47b6-9e1a-1e74f7e4ef61"
      },
      "execution_count": null,
      "outputs": [
        {
          "output_type": "error",
          "ename": "TypeError",
          "evalue": "ignored",
          "traceback": [
            "\u001b[0;31m---------------------------------------------------------------------------\u001b[0m",
            "\u001b[0;31mTypeError\u001b[0m                                 Traceback (most recent call last)",
            "\u001b[0;32m<ipython-input-14-79c55e15d211>\u001b[0m in \u001b[0;36m<module>\u001b[0;34m\u001b[0m\n\u001b[1;32m      1\u001b[0m \u001b[0;31m# ❌\u001b[0m\u001b[0;34m\u001b[0m\u001b[0;34m\u001b[0m\u001b[0;34m\u001b[0m\u001b[0m\n\u001b[0;32m----> 2\u001b[0;31m \u001b[0mf\u001b[0m\u001b[0;34m(\u001b[0m\u001b[0;36m3\u001b[0m\u001b[0;34m,\u001b[0m \u001b[0;36m22\u001b[0m\u001b[0;34m,\u001b[0m \u001b[0mw\u001b[0m\u001b[0;34m=\u001b[0m\u001b[0;34m\"foo\"\u001b[0m\u001b[0;34m,\u001b[0m \u001b[0mz\u001b[0m\u001b[0;34m=\u001b[0m\u001b[0;34m[\u001b[0m\u001b[0;36m1\u001b[0m\u001b[0;34m,\u001b[0m \u001b[0;36m2\u001b[0m\u001b[0;34m]\u001b[0m\u001b[0;34m)\u001b[0m\u001b[0;34m\u001b[0m\u001b[0;34m\u001b[0m\u001b[0m\n\u001b[0m",
            "\u001b[0;31mTypeError\u001b[0m: f() got multiple values for argument 'w'"
          ]
        }
      ]
    },
    {
      "cell_type": "markdown",
      "source": [
        "Podemos obligar al uso de argumentos nombrados en nuestras funciones añadiendo argumentos tras un asterisco `*`. Por ejemplo"
      ],
      "metadata": {
        "id": "V26t47LW_mMW"
      }
    },
    {
      "cell_type": "code",
      "source": [
        "def product(first, *args, scale=1):\n",
        "    result = first * scale\n",
        "    for x in args:\n",
        "        result = result * x\n",
        "    return result"
      ],
      "metadata": {
        "id": "TUgpICtoALtp"
      },
      "execution_count": null,
      "outputs": []
    },
    {
      "cell_type": "code",
      "source": [
        "def read_data(filename, *, debug=False):\n",
        "    pass"
      ],
      "metadata": {
        "id": "oqyjsqKwAPno"
      },
      "execution_count": null,
      "outputs": []
    },
    {
      "cell_type": "code",
      "source": [
        "data = read_data(\"Data.csv\", True)"
      ],
      "metadata": {
        "colab": {
          "base_uri": "https://localhost:8080/",
          "height": 171
        },
        "id": "suy0IhLSA3JI",
        "outputId": "77c81740-5276-4dca-bcdd-2f6741559c5b"
      },
      "execution_count": null,
      "outputs": [
        {
          "output_type": "error",
          "ename": "TypeError",
          "evalue": "ignored",
          "traceback": [
            "\u001b[0;31m---------------------------------------------------------------------------\u001b[0m",
            "\u001b[0;31mTypeError\u001b[0m                                 Traceback (most recent call last)",
            "\u001b[0;32m<ipython-input-17-875c77499821>\u001b[0m in \u001b[0;36m<module>\u001b[0;34m\u001b[0m\n\u001b[0;32m----> 1\u001b[0;31m \u001b[0mdata\u001b[0m \u001b[0;34m=\u001b[0m \u001b[0mread_data\u001b[0m\u001b[0;34m(\u001b[0m\u001b[0;34m\"Data.csv\"\u001b[0m\u001b[0;34m,\u001b[0m \u001b[0;32mTrue\u001b[0m\u001b[0;34m)\u001b[0m\u001b[0;34m\u001b[0m\u001b[0;34m\u001b[0m\u001b[0m\n\u001b[0m",
            "\u001b[0;31mTypeError\u001b[0m: read_data() takes 1 positional argument but 2 were given"
          ]
        }
      ]
    },
    {
      "cell_type": "code",
      "source": [
        "data = read_data(\"Data.csv\", debug=True)"
      ],
      "metadata": {
        "id": "Msp9fh-OA8Xn"
      },
      "execution_count": null,
      "outputs": []
    },
    {
      "cell_type": "markdown",
      "source": [
        "---\n",
        "## Argumentos variacionales nombrados\n",
        "Si el último argumento de una función tiene el prefijo `**`, todos los argumentos nombrados que no coincidan con los anteriormente definidos se guardarán en un diccionario que se pasa a la función, que por convenio suele llamarse `kwargs`."
      ],
      "metadata": {
        "id": "l2jVuGReA_UJ"
      }
    },
    {
      "cell_type": "code",
      "source": [
        "def make_table(data, **kwargs):\n",
        "\n",
        "    font_color = kwargs.pop(\"font_color\", \"black\")\n",
        "    bg_color = kwargs.pop(\"bg_color\", \"white\")\n",
        "    width = kwargs.pop(\"width\", None)\n",
        "    # otros argumentos...\n",
        "    if kwargs:\n",
        "        # lanza un error si hay otras configuraciones\n",
        "        pass"
      ],
      "metadata": {
        "id": "cdrTzSPKGUUM"
      },
      "execution_count": null,
      "outputs": []
    },
    {
      "cell_type": "markdown",
      "source": [
        "Combinando el uso de `*` y `**` podemos escribir funciones que aceptan cualquier combinatión de argumentos. Los argumentos posicionales son pasado como una tupla y los nombrados como un diccionario"
      ],
      "metadata": {
        "id": "4tdw76h9Hc9E"
      }
    },
    {
      "cell_type": "code",
      "source": [
        "def f(*args, **kwargs):\n",
        "    print(args)\n",
        "    print(kwargs)"
      ],
      "metadata": {
        "id": "C8aWZaZfH7_-"
      },
      "execution_count": null,
      "outputs": []
    },
    {
      "cell_type": "code",
      "source": [
        "f(3, 2, a=\"foo\", debug=False)"
      ],
      "metadata": {
        "id": "63fgBOaEID-k",
        "outputId": "a2956d6d-4e14-4e3e-e8b3-3ea01109972d",
        "colab": {
          "base_uri": "https://localhost:8080/"
        }
      },
      "execution_count": null,
      "outputs": [
        {
          "output_type": "stream",
          "name": "stdout",
          "text": [
            "(3, 2)\n",
            "{'a': 'foo', 'debug': False}\n"
          ]
        }
      ]
    },
    {
      "cell_type": "markdown",
      "source": [
        "Es posible pasar los argumentos a una función en formato de tupla o diccionario usando `*` y `**` respectivamente"
      ],
      "metadata": {
        "id": "4hikfr-3KBBm"
      }
    },
    {
      "cell_type": "code",
      "source": [
        "def f(x, y, z):\n",
        "    pass\n",
        "\n",
        "s = (1, \"foo\", [0, 1])\n",
        "\n",
        "d = {\n",
        "    \"x\": 1,\n",
        "    \"y\": \"foo\",\n",
        "    \"z\": [0, 1]\n",
        "}\n",
        "\n",
        "f(*s)\n",
        "f(**d)"
      ],
      "metadata": {
        "id": "bW8gird3KEYE"
      },
      "execution_count": null,
      "outputs": []
    },
    {
      "cell_type": "markdown",
      "source": [
        ":::{exercise}\n",
        ":label: functions-recursive\n",
        "\n",
        "Dado un entero positivo $n$, consideremos la siguiente función\n",
        "\n",
        "$$\n",
        "f(n) =  \\begin{cases}\n",
        "      n / 2, & \\text{si }\\ n\\text{ es par} \\\\\n",
        "      3n + 1, & \\text{en caso contrario.}\n",
        "\\end{cases}\n",
        "$$\n",
        "\n",
        "Definimos **la órbita de $n$** como el conjunto de enteros que se obtienen al aplicar reiteradamente $f$ hasta obtener 1. Escribe una función `collatz` que acepte un número arbitrario de enteros y devuelva un diccionario donde las claves sean los enteros y los valores listas con sus correspondientes órbitas.\n",
        "\n",
        "> La [Conjetura de Collatz](https://en.wikipedia.org/wiki/Collatz_conjecture) propone que todo entero tiene una órbita finita.\n",
        "\n",
        ":::"
      ],
      "metadata": {
        "id": "bQKFhxM0cfvf"
      }
    },
    {
      "cell_type": "markdown",
      "source": [
        ":::{solution} functions-recursive\n",
        ":class: dropdown\n",
        "\n",
        "```\n",
        "def compute_orbit(n):\n",
        "    l = []\n",
        "    while n > 1:\n",
        "        l.append(n)\n",
        "        if n % 2 == 0:\n",
        "            n = n // 2\n",
        "        else:\n",
        "            n = 3*n + 1\n",
        "    l.append(1)\n",
        "    return l\n",
        "\n",
        "def collatz(*args):\n",
        "    ret = {n:compute_orbit(n) for n in args}\n",
        "    return ret\n",
        "```\n",
        "\n",
        ":::\n"
      ],
      "metadata": {
        "id": "okGKDzMf2F7D"
      }
    },
    {
      "cell_type": "markdown",
      "source": [
        "---\n",
        "## Nombres, Documentación e indicaciones de tipado\n",
        "\n",
        "La convención estándar para nombrar funciones es utilizar *snake_case*, al igual que en las variables. Si se pretende que una función no sea utilizada directamente, si no que implementa algún tipo de detalle interno en nuestro programa, se suele empezar el nombre de la variable por un guión bajo."
      ],
      "metadata": {
        "id": "xFtZd4TLqLz3"
      }
    },
    {
      "cell_type": "markdown",
      "source": [
        "Como todo lo que definimos en Python, **las funciones también son objetos**, y tienen una serie de atributos que es importante conocer."
      ],
      "metadata": {
        "id": "VKG4kIcosAZB"
      }
    },
    {
      "cell_type": "code",
      "source": [
        "def square(x):\n",
        "    return x * x"
      ],
      "metadata": {
        "id": "2oxXZmynsOhw"
      },
      "execution_count": null,
      "outputs": []
    },
    {
      "cell_type": "markdown",
      "source": [
        "El nombre de la función queda guardado en el atributo `__name__`."
      ],
      "metadata": {
        "id": "4wR1gbOdzxXw"
      }
    },
    {
      "cell_type": "code",
      "source": [
        "square.__name__"
      ],
      "metadata": {
        "colab": {
          "base_uri": "https://localhost:8080/",
          "height": 36
        },
        "id": "9zHWfGQOz7qS",
        "outputId": "ff9fc481-cda0-4879-f716-ffb270afa33d"
      },
      "execution_count": null,
      "outputs": [
        {
          "output_type": "execute_result",
          "data": {
            "text/plain": [
              "'square'"
            ],
            "application/vnd.google.colaboratory.intrinsic+json": {
              "type": "string"
            }
          },
          "metadata": {},
          "execution_count": 23
        }
      ]
    },
    {
      "cell_type": "markdown",
      "source": [
        "Es común que la primera expresión que aparece en una función sea una cadena describiendo su uso. Por ejemplo,"
      ],
      "metadata": {
        "id": "xAezX3RGz9aR"
      }
    },
    {
      "cell_type": "code",
      "source": [
        "def factorial(n):\n",
        "    \"\"\"\n",
        "    Calcula el factorial de n. Por ejemplo,\n",
        "\n",
        "    >>> factorial(6)\n",
        "    120\n",
        "    \"\"\"\n",
        "    if n <= 1:\n",
        "        return 1\n",
        "    else:\n",
        "        return n*factorial(n-1)"
      ],
      "metadata": {
        "id": "kCTd00Jg0HyY"
      },
      "execution_count": null,
      "outputs": []
    },
    {
      "cell_type": "markdown",
      "source": [
        "La variable de tipo `str` que guarda la documentación está en el atributo `__doc__` de la función. A menudo es consultado por jupyter o IDEs para mostrarla al usuario."
      ],
      "metadata": {
        "id": "X84g3Ed60b56"
      }
    },
    {
      "cell_type": "code",
      "source": [
        "print(factorial.__doc__)"
      ],
      "metadata": {
        "colab": {
          "base_uri": "https://localhost:8080/"
        },
        "id": "a3lSjmY606eJ",
        "outputId": "3a31a09c-9f6b-48d7-eafb-8d9a6a26f967"
      },
      "execution_count": null,
      "outputs": [
        {
          "output_type": "stream",
          "name": "stdout",
          "text": [
            "\n",
            "    Calcula el factorial de n. Por ejemplo, \n",
            "\n",
            "    >>> factorial(6)\n",
            "    120\n",
            "    \n"
          ]
        }
      ]
    },
    {
      "cell_type": "markdown",
      "source": [
        "> Python soporta **funciones recursivas**, es decir, funciones que se llaman a sí mismas. `factorial` es un ejemplo de función recursiva."
      ],
      "metadata": {
        "id": "4PViDUrkYXDc"
      }
    },
    {
      "cell_type": "markdown",
      "source": [
        "También se pueden realizar anotaciones sobre el tipado de los argumentos y del valor a devolver por la función. Como ya vimos, este tipo de indicaciones **son totalmente ignoradas por el intérprete de Python**, solo sirven para herramientas como [pylint](https://pylint.pycqa.org/en/latest/) que comprueban la consistencia de nuestro código sin ejecutarlo."
      ],
      "metadata": {
        "id": "t1jyEZfU076n"
      }
    },
    {
      "cell_type": "code",
      "source": [
        "def factorial(n: int) -> int:\n",
        "    if n <= 1:\n",
        "        return 1\n",
        "    else:\n",
        "        return n * factorial(n - 1)"
      ],
      "metadata": {
        "id": "i45MorIb2uIu"
      },
      "execution_count": null,
      "outputs": []
    },
    {
      "cell_type": "markdown",
      "source": [
        "Esta información queda guardada en forma de diccionario en el atributo `__annotations__`."
      ],
      "metadata": {
        "id": "EcUdqcCI25Xh"
      }
    },
    {
      "cell_type": "code",
      "source": [
        "factorial.__annotations__"
      ],
      "metadata": {
        "colab": {
          "base_uri": "https://localhost:8080/"
        },
        "id": "ePKtYEbl-krz",
        "outputId": "e5c5c78c-239f-4f34-bd3e-8bd79dff7eee"
      },
      "execution_count": null,
      "outputs": [
        {
          "output_type": "execute_result",
          "data": {
            "text/plain": [
              "{'n': int, 'return': int}"
            ]
          },
          "metadata": {},
          "execution_count": 32
        }
      ]
    },
    {
      "cell_type": "markdown",
      "source": [
        "---\n",
        "## Llamadas a la función y alcance\n",
        "\n",
        "Cuando definimos una función, Python crea los objetos definidos en los parámetros por defecto y las respectivas variables en el espacio de nombres local de la función que apuntan a los mismos."
      ],
      "metadata": {
        "id": "j-I1Jk3v-nY4"
      }
    },
    {
      "cell_type": "code",
      "source": [
        "def init_foo():\n",
        "    print(\"foo\")\n",
        "    return 0"
      ],
      "metadata": {
        "id": "uRACiovsHCvf"
      },
      "execution_count": null,
      "outputs": []
    },
    {
      "cell_type": "code",
      "source": [
        "def f(arg1=1, arg2=init_foo()):\n",
        "    print(a, b)"
      ],
      "metadata": {
        "colab": {
          "base_uri": "https://localhost:8080/"
        },
        "id": "rsqPCr3OHOkM",
        "outputId": "5022c78e-1cd6-4662-fa81-c631f7740678"
      },
      "execution_count": null,
      "outputs": [
        {
          "output_type": "stream",
          "name": "stdout",
          "text": [
            "foo\n"
          ]
        }
      ]
    },
    {
      "cell_type": "code",
      "source": [
        "arg1"
      ],
      "metadata": {
        "colab": {
          "base_uri": "https://localhost:8080/",
          "height": 171
        },
        "id": "4xt9UIhJHpqh",
        "outputId": "446715fb-b88b-45da-dce8-a33f4f284abd"
      },
      "execution_count": null,
      "outputs": [
        {
          "output_type": "error",
          "ename": "NameError",
          "evalue": "ignored",
          "traceback": [
            "\u001b[0;31m---------------------------------------------------------------------------\u001b[0m",
            "\u001b[0;31mNameError\u001b[0m                                 Traceback (most recent call last)",
            "\u001b[0;32m<ipython-input-45-42cd4c5c2b13>\u001b[0m in \u001b[0;36m<module>\u001b[0;34m\u001b[0m\n\u001b[0;32m----> 1\u001b[0;31m \u001b[0marg1\u001b[0m\u001b[0;34m\u001b[0m\u001b[0;34m\u001b[0m\u001b[0m\n\u001b[0m",
            "\u001b[0;31mNameError\u001b[0m: name 'arg1' is not defined"
          ]
        }
      ]
    },
    {
      "cell_type": "markdown",
      "source": [
        "Cuando se realiza una llamada a una función, los parámetros (por defecto o no) pasan a ser variables que apuntan a los objetos de entrada de la función. Python crea estas referencias directamente, **sin realizar ningún tipo de copiado**, por ello hay que tener especial precaución con los objetos mutables que se pasan en la llamada de una función.  "
      ],
      "metadata": {
        "id": "BnMzzhVkIO7p"
      }
    },
    {
      "cell_type": "code",
      "source": [
        "def square(items):\n",
        "    for i, x in enumerate(items):\n",
        "        items[i] = x * x\n",
        "    return items"
      ],
      "metadata": {
        "id": "war4c9_gI8-6"
      },
      "execution_count": null,
      "outputs": []
    },
    {
      "cell_type": "code",
      "source": [
        "a = [1, 2, 3, 4, 5]\n",
        "square(a)"
      ],
      "metadata": {
        "colab": {
          "base_uri": "https://localhost:8080/"
        },
        "id": "5GtKhCn3JBkm",
        "outputId": "061635f7-ddb5-4108-f55f-3321b04ec9f3"
      },
      "execution_count": null,
      "outputs": [
        {
          "output_type": "execute_result",
          "data": {
            "text/plain": [
              "[1, 4, 9, 16, 25]"
            ]
          },
          "metadata": {},
          "execution_count": 50
        }
      ]
    },
    {
      "cell_type": "code",
      "source": [
        "a"
      ],
      "metadata": {
        "colab": {
          "base_uri": "https://localhost:8080/"
        },
        "id": "w3sG20IEJLLz",
        "outputId": "5d6d4fcc-8363-4c29-cb5c-db921e5f9d64"
      },
      "execution_count": null,
      "outputs": [
        {
          "output_type": "execute_result",
          "data": {
            "text/plain": [
              "[1, 4, 9, 16, 25]"
            ]
          },
          "metadata": {},
          "execution_count": 51
        }
      ]
    },
    {
      "cell_type": "markdown",
      "source": [
        "Las funciones que mutan los objetos de entrada o que cambian el estado de otras partes del programa, se dice que tienen *side effects*. Un indicardor importante para identificarlas es que normalmente estas funciones no devuelven ningún valor. Se puede evitar este tipo de comportamiento en las funciones reasignando el nombre de la variable local."
      ],
      "metadata": {
        "id": "6HBMkvBUJLhD"
      }
    },
    {
      "cell_type": "code",
      "source": [
        "def square_nse(items):\n",
        "    # Nada de side-effects\n",
        "    items = [x * x for x in items]\n",
        "    return items"
      ],
      "metadata": {
        "id": "NcD3SA2eLIvG"
      },
      "execution_count": null,
      "outputs": []
    },
    {
      "cell_type": "code",
      "source": [
        "a = [1, 2, 3, 4, 5]\n",
        "square(a)"
      ],
      "metadata": {
        "colab": {
          "base_uri": "https://localhost:8080/"
        },
        "id": "e5SQOLtiLZdT",
        "outputId": "2250a523-9ab7-4f1a-fb0f-19065c66a68d"
      },
      "execution_count": null,
      "outputs": [
        {
          "output_type": "execute_result",
          "data": {
            "text/plain": [
              "[1, 4, 9, 16, 25]"
            ]
          },
          "metadata": {},
          "execution_count": 57
        }
      ]
    },
    {
      "cell_type": "code",
      "source": [
        "a"
      ],
      "metadata": {
        "colab": {
          "base_uri": "https://localhost:8080/"
        },
        "id": "hDgm2GxrLbMh",
        "outputId": "81027158-9cda-4dc5-b391-68c468fe21a7"
      },
      "execution_count": null,
      "outputs": [
        {
          "output_type": "execute_result",
          "data": {
            "text/plain": [
              "[1, 2, 3, 4, 5]"
            ]
          },
          "metadata": {},
          "execution_count": 58
        }
      ]
    },
    {
      "cell_type": "markdown",
      "source": [
        "Cada vez que ejecutamos una función se crea **un espacio de nombres local**, que es un entorno que contiene el nombre y los valores de los parámetros de la fucnión así como variables que son asignadas dentro de la función. Las variables no definidas en el espacio local de una función son buscadas de forma dinámica (es decir, durante la ejecución de la función cuando es llamada) en el espacio global de nombres.\n",
        "\n",
        "En este contexto son dos los tipos de errores que nos podemos encontrar\n",
        "- `UnboundedLocalError`: variable local que todavía no ha sido asignada.\n",
        "- `NameError`: se menciona una variable que no está ni el espacio de nombres local ni global.\n",
        "\n",
        "\n",
        "Considera los siguientes ejemplos"
      ],
      "metadata": {
        "id": "PIWuAV9BMOu8"
      }
    },
    {
      "cell_type": "code",
      "source": [
        "def f():\n",
        "    n = n + 1\n",
        "\n",
        "f()"
      ],
      "metadata": {
        "colab": {
          "base_uri": "https://localhost:8080/",
          "height": 318
        },
        "id": "YbrdTBZmSPh-",
        "outputId": "18e918af-d990-474c-a2b1-094893324137"
      },
      "execution_count": null,
      "outputs": [
        {
          "output_type": "error",
          "ename": "UnboundLocalError",
          "evalue": "ignored",
          "traceback": [
            "\u001b[0;31m---------------------------------------------------------------------------\u001b[0m",
            "\u001b[0;31mUnboundLocalError\u001b[0m                         Traceback (most recent call last)",
            "\u001b[0;32m<ipython-input-70-d227933f6b14>\u001b[0m in \u001b[0;36m<module>\u001b[0;34m\u001b[0m\n\u001b[1;32m      2\u001b[0m     \u001b[0mn\u001b[0m \u001b[0;34m=\u001b[0m \u001b[0mn\u001b[0m \u001b[0;34m+\u001b[0m \u001b[0;36m1\u001b[0m\u001b[0;34m\u001b[0m\u001b[0;34m\u001b[0m\u001b[0m\n\u001b[1;32m      3\u001b[0m \u001b[0;34m\u001b[0m\u001b[0m\n\u001b[0;32m----> 4\u001b[0;31m \u001b[0mf\u001b[0m\u001b[0;34m(\u001b[0m\u001b[0;34m)\u001b[0m\u001b[0;34m\u001b[0m\u001b[0;34m\u001b[0m\u001b[0m\n\u001b[0m",
            "\u001b[0;32m<ipython-input-70-d227933f6b14>\u001b[0m in \u001b[0;36mf\u001b[0;34m()\u001b[0m\n\u001b[1;32m      1\u001b[0m \u001b[0;32mdef\u001b[0m \u001b[0mf\u001b[0m\u001b[0;34m(\u001b[0m\u001b[0;34m)\u001b[0m\u001b[0;34m:\u001b[0m\u001b[0;34m\u001b[0m\u001b[0;34m\u001b[0m\u001b[0m\n\u001b[0;32m----> 2\u001b[0;31m     \u001b[0mn\u001b[0m \u001b[0;34m=\u001b[0m \u001b[0mn\u001b[0m \u001b[0;34m+\u001b[0m \u001b[0;36m1\u001b[0m\u001b[0;34m\u001b[0m\u001b[0;34m\u001b[0m\u001b[0m\n\u001b[0m\u001b[1;32m      3\u001b[0m \u001b[0;34m\u001b[0m\u001b[0m\n\u001b[1;32m      4\u001b[0m \u001b[0mf\u001b[0m\u001b[0;34m(\u001b[0m\u001b[0;34m)\u001b[0m\u001b[0;34m\u001b[0m\u001b[0;34m\u001b[0m\u001b[0m\n",
            "\u001b[0;31mUnboundLocalError\u001b[0m: local variable 'n' referenced before assignment"
          ]
        }
      ]
    },
    {
      "cell_type": "code",
      "source": [
        "def g():\n",
        "    print(non_defined_var)\n",
        "\n",
        "g()"
      ],
      "metadata": {
        "colab": {
          "base_uri": "https://localhost:8080/",
          "height": 318
        },
        "id": "MK849dBWSdvl",
        "outputId": "44f6f1bc-c3d3-483e-dd9a-8d632af65d2a"
      },
      "execution_count": null,
      "outputs": [
        {
          "output_type": "error",
          "ename": "NameError",
          "evalue": "ignored",
          "traceback": [
            "\u001b[0;31m---------------------------------------------------------------------------\u001b[0m",
            "\u001b[0;31mNameError\u001b[0m                                 Traceback (most recent call last)",
            "\u001b[0;32m<ipython-input-69-9a9aa7a53d93>\u001b[0m in \u001b[0;36m<module>\u001b[0;34m\u001b[0m\n\u001b[1;32m      2\u001b[0m     \u001b[0mprint\u001b[0m\u001b[0;34m(\u001b[0m\u001b[0mnon_defined_var\u001b[0m\u001b[0;34m)\u001b[0m\u001b[0;34m\u001b[0m\u001b[0;34m\u001b[0m\u001b[0m\n\u001b[1;32m      3\u001b[0m \u001b[0;34m\u001b[0m\u001b[0m\n\u001b[0;32m----> 4\u001b[0;31m \u001b[0mg\u001b[0m\u001b[0;34m(\u001b[0m\u001b[0;34m)\u001b[0m\u001b[0;34m\u001b[0m\u001b[0;34m\u001b[0m\u001b[0m\n\u001b[0m",
            "\u001b[0;32m<ipython-input-69-9a9aa7a53d93>\u001b[0m in \u001b[0;36mg\u001b[0;34m()\u001b[0m\n\u001b[1;32m      1\u001b[0m \u001b[0;32mdef\u001b[0m \u001b[0mg\u001b[0m\u001b[0;34m(\u001b[0m\u001b[0;34m)\u001b[0m\u001b[0;34m:\u001b[0m\u001b[0;34m\u001b[0m\u001b[0;34m\u001b[0m\u001b[0m\n\u001b[0;32m----> 2\u001b[0;31m     \u001b[0mprint\u001b[0m\u001b[0;34m(\u001b[0m\u001b[0mnon_defined_var\u001b[0m\u001b[0;34m)\u001b[0m\u001b[0;34m\u001b[0m\u001b[0;34m\u001b[0m\u001b[0m\n\u001b[0m\u001b[1;32m      3\u001b[0m \u001b[0;34m\u001b[0m\u001b[0m\n\u001b[1;32m      4\u001b[0m \u001b[0mg\u001b[0m\u001b[0;34m(\u001b[0m\u001b[0;34m)\u001b[0m\u001b[0;34m\u001b[0m\u001b[0;34m\u001b[0m\u001b[0m\n",
            "\u001b[0;31mNameError\u001b[0m: name 'non_defined_var' is not defined"
          ]
        }
      ]
    },
    {
      "cell_type": "code",
      "source": [
        "global_var = \"foo\"\n",
        "def h():\n",
        "    print(global_var)\n",
        "\n",
        "h()"
      ],
      "metadata": {
        "colab": {
          "base_uri": "https://localhost:8080/"
        },
        "id": "45CSkYgJTmWP",
        "outputId": "77fcc808-5ebb-4bca-dffa-44b6f5dcc03c"
      },
      "execution_count": null,
      "outputs": [
        {
          "output_type": "stream",
          "name": "stdout",
          "text": [
            "foo\n"
          ]
        }
      ]
    },
    {
      "cell_type": "markdown",
      "source": [
        "Las variables definidas dentro de las funciones (incluidos los parámetros) tienen un *scope* o alcance que restringe su acceso a la definición de la función. Por ello cuando un nombre aparece tanto en el espacio de nombres local como global, su valor depende del *scope* del mismo."
      ],
      "metadata": {
        "id": "Pe8o6INGUAF6"
      }
    },
    {
      "cell_type": "code",
      "source": [
        "x = 42\n",
        "def f():\n",
        "    x = 13\n",
        "    print(x)\n",
        "\n",
        "f()\n",
        "print(x)"
      ],
      "metadata": {
        "colab": {
          "base_uri": "https://localhost:8080/"
        },
        "id": "tKaXXrOMUlFB",
        "outputId": "b348325c-47af-4ee0-8661-5991f9244906"
      },
      "execution_count": null,
      "outputs": [
        {
          "output_type": "stream",
          "name": "stdout",
          "text": [
            "13\n",
            "42\n"
          ]
        }
      ]
    },
    {
      "cell_type": "markdown",
      "source": [
        "Si dentro de una función queremos acceder al valor global de una variable utilizamos `global`"
      ],
      "metadata": {
        "id": "5T9Hoss8Uu6d"
      }
    },
    {
      "cell_type": "code",
      "source": [
        "x = 42\n",
        "def f():\n",
        "    global x\n",
        "    x = 13\n",
        "    print(x)\n",
        "\n",
        "f()\n",
        "print(x)"
      ],
      "metadata": {
        "colab": {
          "base_uri": "https://localhost:8080/"
        },
        "id": "8CzyzbycU2uB",
        "outputId": "d9149aeb-e43f-48a8-b52e-4141d03bedaa"
      },
      "execution_count": null,
      "outputs": [
        {
          "output_type": "stream",
          "name": "stdout",
          "text": [
            "13\n",
            "13\n"
          ]
        }
      ]
    },
    {
      "cell_type": "markdown",
      "source": [
        "Python acepta funciones **recursivas**, es decir, funciones que se llaman a así mismas"
      ],
      "metadata": {
        "id": "jOp-q8QDTNbC"
      }
    },
    {
      "cell_type": "code",
      "source": [
        "def fibonacci(n):\n",
        "    if n > 1:\n",
        "        return fibonacci(n-1) + fibonacci(n-2)\n",
        "    return 1"
      ],
      "metadata": {
        "id": "GFtqVVqqTTH5"
      },
      "execution_count": null,
      "outputs": []
    },
    {
      "cell_type": "markdown",
      "source": [
        "---\n",
        "## Funciones lambda\n"
      ],
      "metadata": {
        "id": "Z0-ogxs1Dd1K"
      }
    },
    {
      "cell_type": "markdown",
      "source": [
        "Se puden definir funciones **anónimas**, es decir, no tienen un nombre asignado, mediante las denominadas **expresiones lambda**, que tienen la siguiente sintaxis\n",
        "\n",
        "```\n",
        "lambda args: expression\n",
        "```\n",
        "\n",
        "donde `args` son parámetros separados por comas y `expression` es una expresión (una concatenación de operadores; no se realizan bucles, ni asignaciones etc). Por ejemplo"
      ],
      "metadata": {
        "id": "kPtQQxFlEBK5"
      }
    },
    {
      "cell_type": "code",
      "source": [
        "a = lambda x, y: x + y\n",
        "\n",
        "a(2, 3)"
      ],
      "metadata": {
        "colab": {
          "base_uri": "https://localhost:8080/"
        },
        "id": "aqOGx1mQFJBm",
        "outputId": "daa2625f-384c-4ffa-e3b1-8f4dc9704ad0"
      },
      "execution_count": null,
      "outputs": [
        {
          "output_type": "execute_result",
          "data": {
            "text/plain": [
              "5"
            ]
          },
          "metadata": {},
          "execution_count": 1
        }
      ]
    },
    {
      "cell_type": "markdown",
      "source": [
        "Las expresiones lambda son útiles cuando por ejemplo pasemos una función como parámetro a una función de orden superior."
      ],
      "metadata": {
        "id": "LX7cJwcqFeSM"
      }
    },
    {
      "cell_type": "markdown",
      "source": [
        ":::{exercise}\n",
        ":label: functions-lambda\n",
        "\n",
        "Pasa una función lambda al parámetro `key` [del método `sort`](https://docs.python.org/3/library/stdtypes.html#list) para ordenar una lista (de menor a mayor) de cadenas por order alfabético pero empezando por el último elemento de la cadena. Por ejemplo\n",
        "\n",
        "```\n",
        "[\"foo\", \"bar\", \"baz\"] -> [\"baz\", \"bar\", \"foo\"]\n",
        "```\n",
        "\n",
        ":::"
      ],
      "metadata": {
        "id": "iQiYlZmjFqpG"
      }
    },
    {
      "cell_type": "markdown",
      "source": [
        "---\n",
        "## Map, Filter, Reduce\n",
        "\n",
        "Python soporta lo que se denomina el concepto de **funciones de orden superior**. Esto significa que podemos usar funciones como argumentos de otras funciones, almacenarlas en estructuras de datos, devolver una función en una función etc. Considera el siguiente ejemplo"
      ],
      "metadata": {
        "id": "6wWqT4enaJM1"
      }
    },
    {
      "cell_type": "code",
      "source": [
        "import time\n",
        "\n",
        "def after(seconds, f):\n",
        "    time.sleep(seconds)\n",
        "    f()\n",
        "\n",
        "def foo():\n",
        "    print(\"Foo!\")\n",
        "\n",
        "after(10, foo)"
      ],
      "metadata": {
        "colab": {
          "base_uri": "https://localhost:8080/"
        },
        "id": "EnkBozKcaVJ-",
        "outputId": "730ad857-5c6c-47fa-f5b9-bc62eb436a7a"
      },
      "execution_count": null,
      "outputs": [
        {
          "output_type": "stream",
          "name": "stdout",
          "text": [
            "Foo!\n"
          ]
        }
      ]
    },
    {
      "cell_type": "markdown",
      "source": [
        "En este contexto, Python incorporta algunas funciones que nos permiten trabajar con funciones y que son la base de las expresiones de comprensión. Por un lado tenemos `filter` para filtrar según una función que devuelva un booleano y `map` para aplicar una función a un iterable."
      ],
      "metadata": {
        "id": "kFc5D83qe9-o"
      }
    },
    {
      "cell_type": "code",
      "source": [
        "nums = list(range(11))\n",
        "filt = filter(lambda x: x%3 == 0, nums)\n",
        "squares = map(lambda x: x*x, nums)"
      ],
      "metadata": {
        "id": "GrFyaElfJke6"
      },
      "execution_count": null,
      "outputs": []
    },
    {
      "cell_type": "code",
      "source": [
        "type(filt)"
      ],
      "metadata": {
        "colab": {
          "base_uri": "https://localhost:8080/"
        },
        "id": "xPQSZ63gJvTv",
        "outputId": "447693cc-0007-4b68-8cfb-323640e9a5bf"
      },
      "execution_count": null,
      "outputs": [
        {
          "output_type": "execute_result",
          "data": {
            "text/plain": [
              "filter"
            ]
          },
          "metadata": {},
          "execution_count": 13
        }
      ]
    },
    {
      "cell_type": "code",
      "source": [
        "type(squares)"
      ],
      "metadata": {
        "colab": {
          "base_uri": "https://localhost:8080/"
        },
        "id": "4J2uyJUIKXl2",
        "outputId": "9a2488c2-9b6d-4224-ccd0-1de58cd19c99"
      },
      "execution_count": null,
      "outputs": [
        {
          "output_type": "execute_result",
          "data": {
            "text/plain": [
              "map"
            ]
          },
          "metadata": {},
          "execution_count": 14
        }
      ]
    },
    {
      "cell_type": "markdown",
      "source": [
        "Tanto `filter` como `map` devuelven **generadores**."
      ],
      "metadata": {
        "id": "JUr7oHTcLBIb"
      }
    },
    {
      "cell_type": "markdown",
      "source": [
        "Finalmente, existe la función `reduce` del módulo `itertools` para aplicar una función de dos parámetros a los objetos de un iterable de forma reiterada."
      ],
      "metadata": {
        "id": "l76ojkEgMAid"
      }
    },
    {
      "cell_type": "code",
      "source": [
        "from functools import reduce\n",
        "nums = range(11)\n",
        "total = reduce(lambda x, y: x + y, nums)\n",
        "print(total)"
      ],
      "metadata": {
        "colab": {
          "base_uri": "https://localhost:8080/"
        },
        "id": "VPqTmVAiMQRa",
        "outputId": "b9da6caa-15a4-413e-88b0-1b410d921b10"
      },
      "execution_count": null,
      "outputs": [
        {
          "output_type": "stream",
          "name": "stdout",
          "text": [
            "55\n"
          ]
        }
      ]
    },
    {
      "cell_type": "markdown",
      "source": [
        "La función reduce tiene un parámetro opcional `initial` por si queremos añadirlo al principio del iterable antes de ejecutar las evaluaciones de la función."
      ],
      "metadata": {
        "id": "dHSKllxwNJqV"
      }
    },
    {
      "cell_type": "markdown",
      "source": [
        "![Screenshot 2023-11-09 at 19.43.35.png](data:image/png;base64,iVBORw0KGgoAAAANSUhEUgAABBgAAAKSCAYAAAB4GmjtAAAKq2lDQ1BJQ0MgUHJvZmlsZQAASImVlwdQU+kWx7970xstIXQIvQnSCSAlhBZAQDrYCEmAUEIMBBU7Iq7AWlARQUXRBREF1wLIIiqi2BZFBewLsggo62LBhsq7wBB29817b96ZOXN+OTnf/zvfnfvNnAsARYErFqfCCgCkiTIlob6ejOiYWAZuEJAADpCBGbDj8jLErJCQQIDYTPy7fegG0GS8ZzGp9e///1dT5AsyeABAIQjH8zN4aQifQfwlTyzJBAB1EMnrL88UT3IbwjQJ0iDCDyY5cZpHJjl+itFgqiY8lI0wDQA8mcuVJAJAZiB5RhYvEdEheyBsJeILRQiLEXZLS0vnI3wSYROkBsmRJ/WZ8X/RSfybZrxMk8tNlPH0WaYM7yXMEKdyV/6fj+N/W1qqdGYPI8TJSRK/UCQqIc/sQUp6gIxF8UHBMyzkT9VPcZLUL2KGeRns2Bnmc70CZGtTgwJnOEHow5HpZHLCZ1iQ4R02w5L0UNleCRI2a4a5ktl9pSkRsnySgCPTz04Kj5rhLGFk0AxnpIQFzNawZXmJNFTWv0Dk6zm7r4/s7GkZfzmvkCNbm5kU7ic7O3e2f4GINauZES3rjS/w8p6tiZDVizM9ZXuJU0Nk9YJUX1k+IytMtjYTeSFn14bInmEy1z9khgEbpINUxCWAAQKRX14AZApWZE4ehJ0uXikRJiZlMljIDRMwOCKe5RyGjZWNLQCT93X6dXhHn7qHEP3GbC7nPQCu/ImJiebZXKABAGc2AUB8MZszbgFATgWAawU8qSRrOjd1lzCACOQBDagBbaAPTIAFsAEOwAV4AG/gD4JBOIgBSwAPJIE0pPPlYDXYAPJAAdgOdoNSUA4Og6PgBDgFGkAzuASugpvgDugCj0EvGACvwCj4AMYhCMJBFIgKqUE6kCFkDtlATMgN8oYCoVAoBoqDEiERJIVWQxuhAqgIKoUOQdXQz9A56BJ0HeqEHkJ90DD0FvoCo2AyTIO1YCN4LsyEWXAAHA4vhhPhZXA2nAtvhUvgCvg4XA9fgm/CXXAv/AoeQwEUCUVH6aIsUEwUGxWMikUloCSotah8VDGqAlWLakK1o+6helEjqM9oLJqKZqAt0C5oP3QEmodehl6LLkSXoo+i69Ft6HvoPvQo+juGgtHEmGOcMRxMNCYRsxyThynGVGLOYq5gujADmA9YLJaONcY6Yv2wMdhk7CpsIXY/tg57EduJ7ceO4XA4NZw5zhUXjOPiMnF5uL2447gLuLu4AdwnPAmvg7fB++Bj8SJ8Dr4Yfwzfgr+LH8SPExQIhgRnQjCBT1hJ2EY4Qmgi3CYMEMaJikRjoisxnJhM3EAsIdYSrxCfEN+RSCQ9khNpAUlIWk8qIZ0kXSP1kT6TlchmZDZ5EVlK3kquIl8kPyS/o1AoRhQPSiwlk7KVUk25THlG+SRHlbOU48jx5dbJlcnVy92Vey1PkDeUZ8kvkc+WL5Y/LX9bfkSBoGCkwFbgKqxVKFM4p9CjMKZIVbRWDFZMUyxUPKZ4XXFICadkpOStxFfKVTqsdFmpn4qi6lPZVB51I/UI9Qp1gIalGdM4tGRaAe0ErYM2qqykbKccqbxCuUz5vHIvHUU3onPoqfRt9FP0bvoXFS0VlopAZYtKrcpdlY+qGqoeqgLVfNU61S7VL2oMNW+1FLUdag1qT9XR6mbqC9SXqx9Qv6I+okHTcNHgaeRrnNJ4pAlrmmmGaq7SPKx5S3NMS1vLV0ustVfrstaINl3bQztZe5d2i/awDlXHTUeos0vngs5LhjKDxUhllDDaGKO6mrp+ulLdQ7oduuN6xnoRejl6dXpP9Yn6TP0E/V36rfqjBjoG8w1WG9QYPDIkGDINkwz3GLYbfjQyNooy2mzUYDRkrGrMMc42rjF+YkIxcTdZZlJhct8Ua8o0TTHdb3rHDDazN0syKzO7bQ6bO5gLzfebd87BzHGaI5pTMafHgmzBssiyqLHos6RbBlrmWDZYvp5rMDd27o657XO/W9lbpVodsXpsrWTtb51j3WT91sbMhmdTZnPflmLrY7vOttH2jZ25ncDugN0De6r9fPvN9q323xwcHSQOtQ7DjgaOcY77HHuYNGYIs5B5zQnj5Om0zqnZ6bOzg3Om8ynnP10sXFJcjrkMzTOeJ5h3ZF6/q54r1/WQa68bwy3O7aBbr7uuO9e9wv25h74H36PSY5BlykpmHWe99rTylHie9fzIdmavYV/0Qnn5euV7dXgreUd4l3o/89HzSfSp8Rn1tfdd5XvRD+MX4LfDr4ejxeFxqjmj/o7+a/zbAsgBYQGlAc8DzQIlgU3z4fn+83fOfxJkGCQKaggGwZzgncFPQ4xDloX8sgC7IGRB2YIXodahq0Pbw6hhS8OOhX0I9wzfFv44wiRCGtEaKR+5KLI68mOUV1RRVG/03Og10Tdj1GOEMY2xuNjI2MrYsYXeC3cvHFhkvyhvUfdi48UrFl9for4kdcn5pfJLuUtPx2HiouKOxX3lBnMruGPxnPh98aM8Nm8P7xXfg7+LPyxwFRQJBhNcE4oShhJdE3cmDie5JxUnjQjZwlLhm2S/5PLkjynBKVUpE6lRqXVp+LS4tHMiJVGKqC1dO31FeqfYXJwn7l3mvGz3slFJgKQyA8pYnNGYSUMGo1tSE+kmaV+WW1ZZ1qflkctPr1BcIVpxa6XZyi0rB7N9sn9ahV7FW9W6Wnf1htV9a1hrDq2F1savbV2nvy533cB63/VHNxA3pGz4Nccqpyjn/caojU25Wrnrc/s3+W6qyZPLk+T1bHbZXP4D+gfhDx1bbLfs3fI9n59/o8CqoLjgayGv8MaP1j+W/DixNWFrxzaHbQe2Y7eLtnfvcN9xtEixKLuof+f8nfW7GLvyd73fvXT39WK74vI9xD3SPb0lgSWNew32bt/7tTSptKvMs6xun+a+Lfs+7ufvv3vA40BtuVZ5QfmXg8KDDw75HqqvMKooPow9nHX4xZHII+0/MX+qrlSvLKj8ViWq6j0aerSt2rG6+pjmsW01cI20Zvj4ouN3TnidaKy1qD1UR68rOAlOSk++/Dnu5+5TAadaTzNP154xPLPvLPVsfj1Uv7J+tCGpobcxprHznP+51iaXprO/WP5S1azbXHZe+fy2FmJLbsvEhewLYxfFF0cuJV7qb13a+vhy9OX7bQvaOq4EXLl21efq5XZW+4VrrtearztfP3eDeaPhpsPN+lv2t87+av/r2Q6Hjvrbjrcb7zjdaeqc19ly1/3upXte967e59y/2RXU1dkd0f2gZ1FP7wP+g6GHqQ/fPMp6NP54/RPMk/ynCk+Ln2k+q/jN9Le6Xofe831efbeehz1/3M/rf/V7xu9fB3JfUF4UD+oMVg/ZDDUP+wzfebnw5cAr8avxkbw/FP/Y99rk9Zk/Pf68NRo9OvBG8mbibeE7tXdV7+3et46FjD37kPZh/GP+J7VPRz8zP7d/ifoyOL78K+5ryTfTb03fA74/mUibmBBzJdypUQCFOJyQAMDbKgAoMQBQ7yDzw8LpeXrKoOlvgCkC/4mnZ+4pcwCgFgmTYxH7IgAnETdaj2h7ADA5EoV7ANjWVuYzs+/UnD5pWOSL5aDbJHWpRorBP2x6hv9L3/+MYFLVDvwz/gtZUgZjWQweDgAAAIplWElmTU0AKgAAAAgABAEaAAUAAAABAAAAPgEbAAUAAAABAAAARgEoAAMAAAABAAIAAIdpAAQAAAABAAAATgAAAAAAAACQAAAAAQAAAJAAAAABAAOShgAHAAAAEgAAAHigAgAEAAAAAQAABBigAwAEAAAAAQAAApIAAAAAQVNDSUkAAABTY3JlZW5zaG90XsrOoQAAAAlwSFlzAAAWJQAAFiUBSVIk8AAAAddpVFh0WE1MOmNvbS5hZG9iZS54bXAAAAAAADx4OnhtcG1ldGEgeG1sbnM6eD0iYWRvYmU6bnM6bWV0YS8iIHg6eG1wdGs9IlhNUCBDb3JlIDYuMC4wIj4KICAgPHJkZjpSREYgeG1sbnM6cmRmPSJodHRwOi8vd3d3LnczLm9yZy8xOTk5LzAyLzIyLXJkZi1zeW50YXgtbnMjIj4KICAgICAgPHJkZjpEZXNjcmlwdGlvbiByZGY6YWJvdXQ9IiIKICAgICAgICAgICAgeG1sbnM6ZXhpZj0iaHR0cDovL25zLmFkb2JlLmNvbS9leGlmLzEuMC8iPgogICAgICAgICA8ZXhpZjpQaXhlbFlEaW1lbnNpb24+NjU4PC9leGlmOlBpeGVsWURpbWVuc2lvbj4KICAgICAgICAgPGV4aWY6UGl4ZWxYRGltZW5zaW9uPjEwNDg8L2V4aWY6UGl4ZWxYRGltZW5zaW9uPgogICAgICAgICA8ZXhpZjpVc2VyQ29tbWVudD5TY3JlZW5zaG90PC9leGlmOlVzZXJDb21tZW50PgogICAgICA8L3JkZjpEZXNjcmlwdGlvbj4KICAgPC9yZGY6UkRGPgo8L3g6eG1wbWV0YT4KUBZy+gAAABxpRE9UAAAAAgAAAAAAAAFJAAAAKAAAAUkAAAFJAABOw4d0JqMAAEAASURBVHgB7N0HnBX1uf/xZyu9t4AIgiKioIICAiIKlqioiS1Rk9iNLbkGvQIRQQ0mGiMaNcZY4lWjSfxrNBrbvQIKIgoootgbKApL72xj9z+zyS5n98zMmTP195v57H35YnfKb555P994Lo9nzxTUGl/CFwIIIIAAAggggAACCCCAAAIIIOBDoIABgw89TkUAAQQQQAABBBBAAAEEEEAAgToBBgwEAQEEEEAAAQQQQAABBBBAAAEEfAswYPBNyAIIIIAAAggggAACCCCAAAIIIMCAgQwggAACCCCAAAIIIIAAAggggIBvAQYMvglZAAEEEEAAAQQQQAABBBBAAAEEGDCQAQQQQAABBBBAAAEEEEAAAQQQ8C3AgME3IQsggAACCCCAAAIIIIAAAggggAADBjKAAAIIIIAAAggggAACCCCAAAK+BRgw+CZkAQQQQAABBBBAAAEEEEAAAQQQYMBABhBAAAEEEEAAAQQQQAABBBBAwLcAAwbfhCyAAAIIIIAAAggggAACCCCAAAIMGMgAAggggAACCCCAAAIIIIAAAgj4FmDA4JuQBRBAAAEEEEAAAQQQQAABBBBAgAEDGUAAAQQQQAABBBBAAAEEEEAAAd8CDBh8E7IAAggggAACCCCAAAIIIIAAAggwYCADCCCAAAIIIIAAAggggAACCCDgW4ABg29CFkAAAQQQQAABBBBAAAEEEEAAAQYMZAABBBBAAAEEEEAAAQQQQAABBHwLMGDwTcgCCCCAAAIIIIAAAggggAACCCDAgIEMIIAAAggggAACCCCAAAIIIICAbwEGDL4JWQABBBBAAAEEEEAAAQQQQAABBBgwkAEEEEAAAQQQQAABBBBAAAEEEPAtwIDBNyELIIAAAggggAACCCCAAAIIIIAAAwYygAACCCCAAAIIIIAAAggggAACvgUYMPgmZAEEEEAAAQQQQAABBBBAAAEEEGDAQAYQQAABBBBAAAEEEEAAAQQQQMC3AAMG34QsgAACCCCAAAIIIIAAAggggAACDBjIAAIIIIAAAggggAACCCCAAAII+BZgwOCbkAUQQAABBBBAAAEEEEAAAQQQQIABAxlAAAEEEEAAAQQQQAABBBBAAAHfAgwYfBOyAAIIIIAAAggggAACCCCAAAIIMGAgAwgggAACCCCAAAIIIIAAAggg4FuAAYNvQhZAAAEEEEAAAQQQQAABBBBAAAEGDGQAAQQQQAABBBBAAAEEEEAAAQR8CzBg8E3IAggggAACCCCAAAIIIIAAAgggwICBDCCAAAIIIIAAAggggAACCCCAgG8BBgy+CVkAAQQQQAABBBBAAAEEEEAAAQQYMJABBBBAAAEEEEAAAQQQQAABBBDwLcCAwTchCyCAAAIIIIAAAggggAACCCCAAAMGMoAAAggggAACCCCAAAIIIIAAAr4FGDD4JmQBBBBAAAEEEEAAAQQQQAABBBBgwEAGEEAAAQQQQAABBBBAAAEEEEDAtwADBt+ELIAAAggggAACCCCAAAIIIIAAAgwYyAACCCCAAAIIIIAAAggggAACCPgWYMDgm5AFEEAAAQQQQAABBBBAAAEEEECAAQMZQAABBBBAAAEEEEAAAQQQQAAB3wIMGHwTsgACCCCAAAIIIIAAAggggAACCDBgiDgDVTtrpaSowNVVd9bUSq1xZHGhu+NdLZqAgwwWqamtxSUBveQWEEAAAQQQQAABBBBAIDkCDBh89PKNT9fLmk0VWSu0aFYkRw7qWrf9q7Xb5YGZy+XdZRtlRdn2um0d2zeTAbu3kZ8e1UcG9Gzb6PwvVm+Te//3S/ng682ycs2Oun3du7SQvXu0kZH9O8n3hveQfOcNX67eLr9/7lMpMk4sNP4xBxZFBYXG98bwoqiwbuDRpmWxtCwtki5tm8m+u7eVPbq0rDu+UXEB/WAOWf53SZnUmJOCJl/D9+4oXY0aMr/eXb5Jnlm4Ulas3yEr1myXsnXldbubG86dDcvdjVrH7NtZDtuvs3Rp0/jczHX4HgEEEEAAAQQQQAABBBBAIDwBBgw+bC9/4B158/11lissnDFOXnynTK59eKnl/vqNk08fICcf0qPux3+88a385vEP63dZ/jl47w4y/cz9sv4SbnnwfzbOfn+1XP3Ae06HZO0z//I+qG87GdirnQzp216G79VRCgJ6I8WTb3wjNz3+UdY1zQ03njNQjt6/W92+D1dslluf/UyWfLrB8lirjWMHd5OrvtePQYMVDtsQQAABBBBAAAEEEEAAgRAFGDD4wHUaMPzlqmHyo98tcLX6wxOGSpHxaxNn3eLu+FGDOsvt5x7gam3zoL/NWyG3Pvmx6+OtDhzQp51cdWI/2b93O6vdeW1zqufKU/rLD0f1FPOdH2fdukDKK3bmtbZ5sDkcmXzaPnLckO/kfS4nIIAAAggggAACCCCAAAIIeBNgwODNre4spwHDccavMjz/5reuVj/eeAeD+esCLyxY6ep486BH/3uY7N29javj73zhc3n4/5a5OjbXQUce1E3+6/i95Dvtm+c61Ha/04Dh3GP6yE/G9JIzb1vQ8Csitgvl2DH1zH3lhIO75ziK3QgggAACCCCAAAIIIIAAAkEIMGDwoeg0YMhnWfO/uJeWFMrmrVWuTzt1zO4y8aS9XR0/5bEP5KVF7ocXuRY16/2fK4bKnt1a5TrUcr/TgOHEEbvJkD3by3V/ed/y3Hw33nLB/nL4vl3yPY3jEUAAAQQQQAABBBBAAAEE8hRgwJAnWObhbgYM5l/G83mbv/kBkF3aNZOPl2/OvFTW9yMGdpY7znP3axIX3fO2LP7E/ecYZF3MYkPb1iXyyC+GSY8O+b+TwWnAYP76R7PiIpm1uMziqvlvMut8evIIadOiJP+TOQMBBBBAAAEEEEAAAQQQQMC1AAMG11TZB+YaMJgfyHjrOYOkTfMSWb25Qqb+7QN566P12Qv9Z8sFx/aVi47sU/dhip+s3OL4mQy9e7SWJ64abrtW5o6L710sn67YIpVVNXkNOzLXsPp+6ICOcveFg612OW5zGjD07NZS1m6syKrT/AyIvb7TWvp0bWk8RaNAzCdLLDKe4uHmXR+nGe/2uNrluz0cC2cnAggggAACCCCAAAIIIICArQADBlua3DtyDRievGak9OrUomGhl4xHM055yPqpElYDg+lPfCT/fP2bhvMzvzHfGTH3N4dnbsrre/NRkdU7a6TK+Gdr+U4p21QuZcZf7L81HgX56cqt8vJb7t5BcOclg+WQfh3zurbTgKHpQgft01GmGU/a6G7zmQ/Pv71Kprn4dYp/TTtUuhnvDOELAQQQQAABBBBAAAEEEEAgHAEGDD5cnQYMfXu2kb9PGNZo9U3bq+TIKXMabav/4ZLxe8p5Y/eo/7Huz1x/ETcfhRnW18ZtlfLMolXy0Mxlju8SOKBfB7n/kiF5lZHrvuoX++9T+8tpI3rmfDymm8dwXn7iXnL24b3rl+ZPBBBAAAEEEEAAAQQQQACBgAUYMPgAdRowHLp/F7ntnP0brV5u/IrC6ImzG22r/+H6H+2X9VjFFxavkqmP2H/YYZgDhvq6vl63Q8783ZtZv7JQv9/8c/avx0jr5sWZmxy/dzNgOMZ4+sN04ykQbr9yWVm9Q8Tt2hyHAAIIIIAAAggggAACCCCQW4ABQ24j2yOcBgzmoyevM97an/nlNGC4/acHyqj+nTIPlxffKZNrH7b+lQrzwCgGDOZ13vtqk5x3+yLzW8uvfJ/U4GbA8PSUkbJbx12/XmJ54YyNO43HfB43fZ6sN37Nw+6r6a+s2B3HdgQQQAABBBBAAAEEEEAAgfwFGDDkb9ZwhtOA4QTjcYtTT9un4VjzG6cBwx0XD5YRezf+LANVBgxm7Rf88W1Z8qn1kyguND+c8qg+5mGuvnINGE4+tKdMPrm/q7UyD7pv5pdy73NfZG5q9P1N5w6ScYO6NtrGDwgggAACCCCAAAIIIIAAAsEIMGDw4ZimAcNtz30mj81cbql1qvGUhol5PKUh14DhxnMGytH7d7O8ltPGsk0VMv7612wPOfeYPnLpMX1t97MDAQQQQAABBBBAAAEEEEDAuwADBu92kqYBg9O7KcYN6SY3/Wiga8lcA4Y/X3GwDOrVzvV6mQf+5M5F8uGXmzI3NXw/YmBnueO8Axp+5hsEEEAAAQQQQAABBBBAAIHgBBgw+LDUdcCwrWKnfLJyi3y2cpvxz1bZuK1KtlZUy5Yd1cajK2uluKhAurQtlV5dWhqP2WwpPTu3kC/LtsstxmMzrb6G79dJ7jr/QKtdlttyDRheuP5Q6dzG2yMlJz6yVGYttn7EptWTPSwLZCMCCCCAAAIIIIAAAggggEDeAgwY8ibbdYJOA4Zq40MQX3l/jbzw9iqZs2TNrpsI4Lth+3aSP1wQ3IBhwa3jcj6a0q7sW/75qTz+6leWu7t1ai7/umaU5T42IoAAAggggAACCCCAAAII+BNgwODDT5cBw5ufrZebnvxYVhjvQgjjK8gBQ9vWJTLzhsM8l/ng7GVy97OfW57fvFmRzP3N4Zb72IgAAggggAACCCCAAAIIIOBPgAGDDz8dBgy5nqzg4/YbTlVpwPDsopVyw2MfNNTW9JuoHu3Z9Lr8jAACCCCAAAIIIIAAAggkXYABg48Oqz5geHTO13L705/4uEN3p6o0YHhh8SqZ+sj7toUzYLClYQcCCCCAAAIIIIAAAggg4EuAAYMPPpUHDC8tKZMpDy31cXfuT1VpwPDY3K/ltqeshyr8ioT7nnIkAggggAACCCCAAAIIIJCvAAOGfMUyjld5wHDq796U5d9uzag2+1vz8w6OG9Zddu/YQjoY33doXSrNi4ukurZWqqprZPP2Klm2envdEyTeXb5RVq7Zkb2IsUWlAcPtz30mj85cblknH/JoycJGBBBAAAEEEEAAAQQQQCAQAQYMPhhVHTAsXrZRLrrjLds7M/+iPeX0ATJ0zw5SVFhge1zmjrkfrZMJ976Tuanhe5UGDFOMz194yfgcBqsvHlNppcI2BBBAAAEEEEAAAQQQQCAYAQYMPhxVHTBM/dsH8sIC679kd2zfTB782cHSo0PzvO585nurZdKD71meo9KA4aJ73pbFn2ywrHPogI5y94WDLfexEQEEEEAAAQQQQAABBBBAwJ8AAwYffqoOGM68faF8+tVmyzubeua+csLB3S33OW186JXlctczn1keEuSAwc/nJGwyfqXjyClzLGs0N/7oyN7yX8ftZbufHQgggAACCCCAAAIIIIAAAt4FGDB4txNVBwzjps6RzVurLO/sickjpHeXlpb7nDZefO9ieeuj9ZaHBDlgMC/w3HWHSte2zSyv5bQx11Mzpp89UI45oJvTEuxDAAEEEEAAAQQQQAABBBDwKMCAwSOceZqqA4ahE2ba3tU/rhkpu3dqYbvfascnK7fIWbcssNpVty3oAcMtF+wvh+/bxfZ6VjtqakVO/PU8KVtXbrW7bpvX4YrtguxAAAEEEEAAAQQQQAABBBBoEGDA0ECR/zeqDhjG32j/F+2bzxskYwd2dX2zOyp3yo/vWOT4RIqgBwwD+rSTP/10iLQoLXRd5z+ND3acbnzAo91Xz24t5amJI+x2sx0BBBBAAAEEEEAAAQQQQMCnAAMGH4CqDhiueug9eXXJass7696lhfx1wnBp1azIcn/mxg3bKuWax96XhR9a/2pE/bFBDxjMdUcN6iy//fEgKS3OPWRw+nyI+hp/dlI/+cmYXvU/8icCCCCAAAIIIIAAAggggEDAAgwYfICqOmC4f+aX8qfnvrC9s8F7d5ArT+wn/Xu0sTxmR2WNzFq6WmY8/Umjz3Lo37utfLw8+8Mj27YukTGDukqPjs2ke4cW8h3jCRXd2zeXLsbnKJQUZT8G82/zVsitT35see3MjeYHPp42enf53rDuxq91tJSCjKXMd1Z89O0WeXbhKnl2/jeZp1l+7/VzHSwXYyMCCCCAAAIIIIAAAggggECWAAOGLBL3G1QdMMz5cK1ced+SnDey/17tZe/d2kjn1qVSUV0jO40PMlixdofMWlxmee65x/SRB1/60nKf1cafG+8a+LHFuwbcDhiarmk+YrObMbzYYjwtYkXZ9qa7bX826770mL62+9mBAAIIIIAAAggggAACCCDgX4ABgw9DVQcM5VU18qPfL3T83IR8b9v8y/1dFx4gZzp82GPTNb0MGMx3Q3Q3PoTS6p0STdd383O3Ts3lSeOzF5q5+FULN+txDAIIIIAAAggggAACCCCAgLUAAwZrF1dbVR0wmMV/tXa7nPLr+a7uw81Bl4zfU747+Dty0q/muTm87hivA4bzj+ojtz31ievr2B1o/orFvZcNkQE929odwnYEEEAAAQQQQAABBBBAAIGABBgw+IBUecBg3taL75TJtQ8v9XGH/z517OBucuNZ+8mWHVVy9LVzXa/ndcDwxMRD5Me3L3R85GSuIszhwj3GcGE/hgu5qNiPAAIIIIAAAggggAACCAQiwIDBB6PqAwbz1uZ+tE7uev5z+WLFFk93eszB3WXaDwbUfVij+eGPh02a7XodrwOGmTccJqs3V8gFf3hLVq7Z4fp69QeaH2J5zSn7SO8uLes38ScCCCCAAAIIIIAAAggggEDIAgwYfABP+/uH8vyb31qucM4xe8hlx+zZaF+18SGKR1zzqpRX7Gy03fzhjosHy4i9Ozba7vQOBPMzEV6aemij4+1+qK0Vmf3+arnzuc9dfzji8Yf0kJ8c3kv6dm3VsKxRvgy/cmbDz7m+8TNgMNfebLxj4ukFK+Xx17529W4Gc7Bw6sjd5Oj9u+Uqjf0IIIAAAggggAACCCCAAAIBCzBgCBhU5eXMQcOGbZWycmO5rNxQLt+s2yHrtlZKcWGhtDJ+paC78YQG8xGTfbq2lA6tSi1vxXxHRHFhgZSWFEqJ8Wcz80/jAxRL6/8xHktZUlxU97N5XOajJesXdHqKhPkhj+Y7GDK/zLrf+2qTrDDqNd/ZULapQiqMd1N0MI7tZDwBo5sxbBm6Vwdp26Ik8zS+RwABBBBAAAEEEEAAAQQQiFCAAUOE2Fzq3wL5DhhwQwABBBBAAAEEEEAAAQQQUF+AAYP6PUpchQwYEtdSbggBBBBAAAEEEEAAAQQQEAYMhCByAQYMkZNzQQQQQAABBBBAAAEEEEAgdAEGDKETc4GmAgwYmorwMwIIIIAAAggggAACCCCgvwADBv17qN0dMGDQrmUUjAACCCCAAAIIIIAAAgjkFGDAkJOIA4IWYMAQtCjrIYAAAggggAACCCCAAALxCzBgiL8HqauAAUPqWs4NI4AAAggggAACCCCAQAoEGDCkoMmq3SIDBtU6Qj0IIIAAAggggAACCCCAgH8BBgz+DVkhTwEGDHmCcTgCCCCAAAIIIIAAAgggoIEAAwYNmpS0EhkwJK2j3A8CCCCAAAIIIIAAAgggIMKAgRRELsCAIXJyLogAAggggAACCCCAAAIIhC7AgCF0Yi7QVIABQ1MRfkYAAQQQQAABBBBAAAEE9BdgwKB/D7W7AwYM2rWMghFAAAEEEEAAAQQQQACBnAIMGHIScUDQAvM/WS/PLPzWctnWzUvkmlP6W+5jIwIIIIAAAggggAACCCCAgLoCDBjU7Q2VIYAAAggggAACCCCAAAIIIKCNAAMGbVpFoQgggAACCCCAAAIIIIAAAgioK8CAQd3eUBkCCCCAAAIIIIAAAggggAAC2ggwYNCmVRSKAAIIIIAAAggggAACCCCAgLoCDBjU7Q2VIYAAAggggAACCCCAAAIIIKCNAAMGbVpFoQgggAACCCCAAAIIIIAAAgioK8CAQd3eUBkCCCCAAAIIIIAAAggggAAC2ggwYNCmVRSKAAIIIIAAAggggAACCCCAgLoCDBjU7Q2VIYAAAggggAACCCCAAAIIIKCNAAMGbVpFoQgggAACCCCAAAIIIIAAAgioK8CAQd3eUBkCCCCAAAIIIIAAAggggAAC2ggwYNCmVRSKAAIIIIAAAggggAACCCCAgLoCDBjU7Q2VIYAAAggggAACCCCAAAIIIKCNAAMGbVpFoQgggAACCCCAAAIIIIAAAgioK8CAQd3eUBkCCCCAAAIIIIAAAggggAAC2ggwYNCmVRSKAAIIIIAAAggggAACCCCAgLoCDBjU7Q2VIYAAAggggAACCCCAAAIIIKCNAAMGbVpFoQgggAACCCCAAAIIIIAAAgioK8CAQd3eUBkCCCCAAAIIIIAAAggggAAC2ggwYNCmVRSKAAIIIIAAAggggAACCCCAgLoCDBjU7Q2VIYAAAggggAACCCCAAAIIIKCNAAMGbVpFoQgggAACCCCAAAIIIIAAAgioK8CAQd3eUBkCCCCAAAIIIIAAAggggAAC2ggwYNCmVRSKAAIIIIAAAggggAACCCCAgLoCDBjU7Q2VIYAAAggggAACCCCAAAIIIKCNAAMGbVpFoQgggAACCCCAAAIIIIAAAgioK8CAQd3eUBkCCCCAAAIIIIAAAggggAAC2ggwYNCmVRSKAAIIIIAAAggggAACCCCAgLoCDBjU7Q2VIYAAAggggAACCCCAAAIIIKCNAAMGbVpFoQgggAACCCCAAAIIIIAAAgioK8CAQd3eUBkCCCCAAAIIIIAAAggggAAC2ggwYNCmVRSKAAIIIIAAAggggAACCCCAgLoCDBjU7Q2VIYAAAggggAACCCCAAAIIIKCNAAMGbVpFoQgggAACCCCAAAIIIIAAAgioK8CAQd3eUBkCCCCAAAIIIIAAAggggAAC2ggwYNCmVRSKAAIIIIAAAggggAACCCCAgLoCDBjU7Q2VIYAAAggggAACCCCAAAIIIKCNAAMGbVpFoQgggAACCCCAAAIIIIAAAgioK8CAQd3eUBkCCCCAAAIIIIAAAggggAAC2ggwYNCmVRSKAAIIIIAAAggggAACCCCAgLoCDBjU7Q2VIYAAAggggAACCCCAAAIIIKCNAAMGbVpFoQgggAACCCCAAAIIIIAAAgioK8CAQd3eUBkCCCCAAAIIIIAAAggggAAC2ggwYNCmVRSKAAIIIIAAAggggAACCCCAgLoCDBjU7Q2VIYAAAggggAACCCCAAAIIIKCNAAMGbVpFoQgggAACCCCAAAIIIIAAAgioK8CAQd3eBFrZ6i0VsnJduazaVC6z3l0jbVqWyG4dmwd6DRZrLLC1vFq+XV8uPQznA/doX/fnbh1aSPPSwsYH8pNnAXLtmc7zieTaM53rE8m1a6rADiTXgVHaLkSubWlC20GuQ6NtWJhcN1BE9g25joza84UYMHimU+PEDVsr5OmFq2T+x2tl3eZK2VG5U8ora6TS+LO6plZqdhr/1IoUWJRbK7XGdqs9FgezKU8B09WAt/kqKiqUwsICKSkulNKSQmnZvEhaNiuWPbq1lHGDOsuRg7rZnJmOzeRa1T6Taz+dIdd+9MI8l1z70SXXfvTCPJdc+9El1370wjyXXIepG9TaDBiCkoxonaUrNsm/jIHC219slG/XbJcKY5jg66vA+B9qrf1fhH2tzcmeBQqM4UPbViWyV49WMnrfLnLy8N2kRYLf+UCuPUdFqxPJNf++1iqwLosl1+TaZVS0Ooxck2utAuuy2LTl2iVL4IcxYAicNNgF3/pig/x93gr54KvNsnZjpezc6fNfeMGWx2qRCRRI8+aF0qtrKzlor/YyYXy/yK4cxoXIdRiqOq5JrnXsGjXnEiDXuYTYr6MAudaxa9ScSyBZuc51t1HtZ8AQlXSe13n89RXyP7OWyxrjd/j50k3A+e1bQdxNgfHOk8F7t5frfjhAurdrEcSSkaxBriNhDuki5NoOllzbyeiwnVzbdYlc28nosJ1c23WJXNvJ6LCdXOvQJbNGBgyKder25z6Vf76xUrZuq4qwsvD/BxvhzaTuUn17tpFfnLCnHNKvk7L3Tq6VbY2yhZFru9bw72s7GR22k2u7LpFrOxkdtpNruy6RazsZHbbrkGtVHRkwKNKZXz66VF5Zslqqqvk8BEVaol0Z3To1l3OO6C2njuypTO3kWplWaFsIuda2dRTuIECuHXDYpa0Auda2dRTuIKBirh3KVWIXA4aY23Dp/e/Iog/XG5+zyGAh5laEdPnop9dtWhXL+Uf3lbNG7x7SPeVellznNtL7CHKtd/+o3lqAXFu7sFVvAXKtd/+o3lognbm2tlBvKwOGmHry0bdb5NI/vi1btlUHWEGtdOnYwnjkYbG0Nh552Nb4i2b7FiXSsW2JdGndTLp0aCY92jeX7h2bS5vmJQFel6XsBMyx0eqNFfLtpnIp21AhazYb/2yqlI3bKox/KmVL+U7ZtqOq7tGim7ZWSnWA72AZOqCj3H3hYLvSQtlOrkNhVW5Rch1ES/j3dRCKQa5BroPQJNdBKAa5BrkOQpNcB6EY5Bppy3WQdlGsxYAhCuUm17j35S/l/he/kFofD4QwH7PSsW0z6b97axmzb+e6xxg2uQw/aijwRdl2eWbRN7Los83y9eotsn3HTl930dUYJj1+1TBpFcFAiVz7alWiTybX/Ps6iQEn1+SaXOcW4P8PyW3EEeEL6Pzv6/B1gr8CA4bgTR1XvMz4lYgFH6xzPMZqp/nUgN26tpAD+3SQYwZ3UfoD/azqZ5s3gWpjCPXE/BUy98O1suij9VJTY85s8/sqKSmUyaftIycc3D2/E/M4mlzngcWhQq4JQRIFyHUSu8o9kWsykEQBXXKtqz0Dhog6V2Ek+ZSb50vZuvweO1lUVCAj9+siN/1okJQWR1Qsl1FW4KUlq+SeF5fJirJtedd47NDucsMZ++Z9ntMJ5NpJh31uBci1WymO00mAXOvULWp1K0Cu3UpxnE4CquVaJzurWhkwWKkEvO2Ft8tk+uMfSmWl+7e7t2xRJN89qLtMPrl/wNWwXBIEPlqxRX79j4/kw2Wb87qdvXZvK3/9xdC8zrE7mFzbybDdqwC59irHeSoLkGuVu0NtXgXItVc5zlNZQIVcq+zjtjYGDG6lPB5n/iVs6l+Wuj67Q7tSOeOwXnKu8bhBvhDIJbCjskYmP/quvPbuWjF/jcbNl/m4nX9dM8rNobbHkGtbGnYEIECuA0BkCeUEyLVyLaGgAATIdQCILKGcQFy5Vg7CY0EMGDzCuTnNfPv42Clz3L1zwfi74fjh3WXa6cG+hd1NnRyTDIGTbnpdvl29w9XNDN67vdx78UGujm16ELluKsLPYQqQ6zB1WTsuAXIdlzzXDVOAXIepy9pxCUSV67juL4zrMmAIQ/U/a46/cZ6rz1woLS2SKacPkGOHdAuxGpZOg8DP/7xE5i9d6+pWf3JkL/nZcf1cHZt5ELnO1OD7KATIdRTKXCNqAXIdtTjXi0KAXEehzDWiFogi11HfU5jXY8AQkq7bT9U3367+j4mj+ADHkPqQxmUfmLlM7jMeg7pzp/MTJ8zfqPjjZUPkoL4dXDORa9dUHBiwALkOGJTllBAg10q0gSICFiDXAYOynBICYeZaiRsMsAgGDAFi1i9178tfyn3Pf1H/o+2fw/frLHedf4DtfnYg4FXg05Vb5eJ73pbNW6ocl2jVskRemX6Y4zH1O8l1vQR/xiVAruOS57phCpDrMHVZOy4Bch2XPNcNUyCMXIdZb1xrM2AIWP6jb7fIT2YskNoa54UH9+sg914yxPkg9iLgU2DkxNlSVeUcxr4928jfJwxzvBK5duRhZ8QC5DpicC4XiQC5joSZi0QsQK4jBudykQgEletIio3hIgwYAkYfe+2rsmVbteOqvHPBkYedAQscOmm2VBhPm3D6+u6w7vKrH9p/wCi5dtJjXxwC5DoOda4ZtgC5DluY9eMQINdxqHPNsAWCyHXYNca1PgOGAOUvvf8dWfjBOscVg3hEoOMF2IlAE4HZ76+Rqx94t8nW7B//ctVQ6d+jbdYOcp1FwgYFBMi1Ak2ghMAFyHXgpCyogAC5VqAJlBC4gN9cB16QQgsyYAiwGcOunCW1tfYfrGc+LWL29MP5QMcAzVnKncDNT38sT8xZ4XjwwL7t5MHLD846hlxnkbBBEQFyrUgjKCNQAXIdKCeLKSJArhVpBGUEKuAn14EWothiDBgCasgvH10q//dWmf1qxif233DWQB5FaS/EnpAFfnLnQvnwy822VykwHivx+i1jpbhw1yHkepcF36kpQK7V7AtV+RMg1/78OFtNAXKtZl+oyp+Al1z7u6L6ZzNgCKhHI6+eJVXV9u9eGH9Id5l2uv3vuAdUBssg4Chw5LS5smlLpe0xhx3QRW49e/+G/eS6gYJvFBYg1wo3h9I8C5Brz3ScqLAAuVa4OZTmWSDfXHu+kCYnMmAIoFG3P/epPDrzK9uVOrQrlf+dNtp2PzsQiErgyfkr5Kb/97Ht5YpLCmX+zUfU7SfXtkzsUEyAXCvWEMoJRIBcB8LIIooJkGvFGkI5gQjkk+tALqj4IgwYAmjQEdfOka3bqmxXuvSEveTcI3rb7mcHAlEKHHvDa7J2Y4XtJU8Z3Usmfb+fkGtbInYoKECuFWwKJfkWINe+CVlAQQFyrWBTKMm3gNtc+76QBgswYPDZpMdfXyG3PGH/X4RbtiiSV2883OdVOB2B4AT+Nm+F3PqkU2aL5bLj9yTXwZGzUgQC5DoCZC4RuQC5jpycC0YgQK4jQOYSkQu4yfWrN46JvK44LsiAwaf6cdPnyZr15barnHxoT5l8cn/b/exAIA6Bw6e8Ktu2V9teulXLEmO//btyyLUtHTtiFCDXMeJz6dAEyHVotCwcowC5jhGfS4cmkCvXl5/UT84e0yu066uyMAMGH51464sNcvFdb9uuUFRUIG8Yn8rPFwKqCcx47jP568zllmWZj1o1nyhh90Wu7WTYHrcAuY67A1w/DAFyHYYqa8YtQK7j7gDXD0PAKdfm9Tq1byYvTj00jEsrtSYDBh/tuPqR92T24tW2K4zev6vMOGeQ7X52IBCnwMiJs6WqqiarBGO+YAwYsjY3bCDXDRR8o6AAuVawKZTkW4Bc+yZkAQUFyLWCTaEk3wJ2ua5feOGMcfXfJvZPBgw+Wjv+xnlSts761yPM/wL82s1jpbTYxwU4FYEQBSY+slRmLS7L6wrkOi8uDo5BgFzHgM4lQxcg16ETc4EYBMh1DOhcMnSBXLme9MMBcsqwHqHXEecFGDD40D/kv2fLzp3Z/wXYXLJnt5by1MQRPlbnVATCFdhkfMbCkVPmWFzEfPuC8TYGiy9ybYHCJqUEyLVS7aCYgATIdUCQLKOUALlWqh0UE5CAfa7/fYERAzvLHecdENDV1FyGAYPHvixdsUnOnbHI9uzjh/eQ634wwHY/OxBQQeDQSbOlonLXkKyg0Bgt7Poxq0RynUXCBgUFyLWCTaEk3wLk2jchCygoQK4VbAol+RZomuvMBTu2K5WXpo3O3JS47xkweGzpTU99LE/OXWF79p2XHCiH9Otku58dCKggcPqtb8qX32xtKKXWeOdCgfF/dl/k2k6G7SoJkGuVukEtQQmQ66AkWUclAXKtUjeoJSiBprnOXLegsEAW/C7ZDwFgwJDZ8Ty+T3tw8qDiUIUFcg3KMktPw78QM++X7/UVINf69o7K7QXItb0Ne/QVINf69o7K7QVy5Trp/8GOAYN9Nhz3pP2tL4447NRGYOmKLcav+izIqNf87AXrdzCk4S1dGRB8q7EAuda4eZRuK0CubWnYobEAuda4eZRuK5Cd68aHjj9kN5l2+j6NNyboJwYMHpq5YWuFHD31NdszRw7qLL8/N9kf3mF78+zQTuCQq2bJzhrjlyOM51OaT4mw+yLXdjJsV1GAXKvYFWryK0Cu/QpyvooC5FrFrlCTX4H6XFutk/QPTWfAYNX1HNsenL1c7n72M9ujJp1uPH7kkGQ/fsT25tmhnUDD41bN4YIxZLD7Itd2MmxXUYBcq9gVavIrQK79CnK+igLkWsWuUJNfgYZcWyxUUlIor998hMWeZGxiwOChjxfds1gWf7Le9syFM8bZ7mMHAqoJ/PdD78krS1bnLItc5yTiAIUEyLVCzaCUwATIdWCULKSQALlWqBmUEphArly/cP1o6dymNLDrqbQQAwYP3Tjlt/Plq1XbLc8032K+4NZkfzKo5Y2zUVuBO5//XB5+eZnjr0iQa23bm9rCyXVqW5/oGyfXiW5vam+OXKe29Ym+8fpc293k7396oIzsn8wnDjJgsOu6w/bjpr8ma9ZXWB7RpWNzeX7KKMt9bERARYFla7bLab+Zb5Rm/wGP5FrFzlGTkwC5dtJhn64C5FrXzlG3kwC5dtJhn64Cu3JtfQeTf7CPnDx8N+udmm9lwOChgWOnzpEtW6ssz+zdo7U8cdVwy31sREBFgcrqGhl19WzH0si1Iw87FRQg1wo2hZJ8C5Br34QsoKAAuVawKZTkWyBXri88rq9cdGQf39dRcQEGDB664vSIyv36tJf/+dlBHlblFATiExh65UypNZ4kYfcUCXIdX2+4sncBcu3djjPVFSDX6vaGyrwLkGvvdpyproCZ67o3CFuUePKhPWXyyf0t9ui/iQGDhx4ecrXxWL9q60/bHzGws9xxHo+o9MDKKTEKDDceVVljPkHCOtZCrmNsDpf2LECuPdNxosIC5Frh5lCaZwFy7ZmOExUWqMu18R/wrL4OH9xNbvnxQKtd2m9jwOChhcPM/9prnRU5dmh3ueGMfT2syikIxCcwcuJsqaqqsS2AXNvSsENhAXKtcHMozbMAufZMx4kKC5BrhZtDaZ4FnHI9eO+Ocu/Fgz2vrfKJDBg8dOfgCTOlwOa8s8b1kiuO72ezl80IqClw+DWvytYd1eRazfZQlUcBcu0RjtOUFiDXSreH4jwKkGuPcJymtICZ623G/39t9dWvV1t57IqhVru038aAIc8Wrt5SIcdPe832rCtO6idnjellu58dCKgoMG7aq7J5i/W/AM16ybWKXaOmXALkOpcQ+3UUINc6do2acwmQ61xC7NdR4Khpc2Tjln8/GMB893tBw3+hrpHuXVrJM5NH6nhbOWtmwJCTqPEBS5ZtkgvuWNR4Y8ZPN54zUI7ev1vGFr5FQH2B797wmqzbaP3oVbN6cq1+D6kwW4BcZ5uwRX8Bcq1/D7mDbAFynW3CFv0FTvzNPFm5ptzyRtq3K5b/mzbGcp/uGxkw5NnBl5aUyZSHltqe9eAVB8vAXu1s97MDARUFjrpurmzcXGlbGrm2pWGHwgLkWuHmUJpnAXLtmY4TFRYg1wo3h9I8C5zw69dl1dodluebT25bcOtYy326b2TAkGcHJz6yVGYtLrM968UbDpVOrZvZ7mcHAioKjLz6Famq3mlbGrm2pWGHwgLkWuHmUJpnAXLtmY4TFRYg1wo3h9I8Cxx9/WuyYZP9O4QXzhjneW2VT2TAkGd3pj/5sfxz3grbs+b99ggpLS603c8OBFQUGP3LV6W83P4zGMi1il2jplwC5DqXEPt1FCDXOnaNmnMJkOtcQuzXUWD8jfOkbJ31r0iYH8iwkHcw6NjW4Gt+cPZy+cOznxqftt/wKR2NLsJfxBpx8IMmAifd9Lp8s3o7udakX5TpToBcu3PiKL0EyLVe/aJadwLk2p0TR+klcNGf3pLFH2+0LLqwsEDe/B2/ImGJk7aN5oDh7mc/Mz4G1Lhz49NAm34xYGgqws86CJz82zfk61XbyLUOzaJG1wLk2jUVB2okQK41ahaluhYg166pOFAjgcsfeEfefH+dZcUlxjveXzfe+Z7EL35FIs+uNgwYGp23a9rAgKERDD9oItDwwt6oXnLdiIMftBMg19q1jIJdCJBrF0gcop0AudauZRTsQoABgwskDhGxHjDskmHAsMuC7/QRsH5h31U/ud5lwXf6CJBrfXpFpe4FyLV7K47UR4Bc69MrKnUvwIDBvVWqj2TAkOr2J/bmeWFPbGtTfWPkOtXtT+zNk+vEtjbVN0auU93+xN48A4bEtjbYG2PAEKwnq6khwAu7Gn2gimAFyHWwnqymhgC5VqMPVBGsALkO1pPV1BBgwKBGH5SvggGD8i2iQA8CvLB7QOMU5QXItfItokAPAuTaAxqnKC9ArpVvEQV6EGDA4AEtjacwYEhj15N/z7ywJ7/HabxDcp3Grif/nsl18nucxjsk12nsevLvmQFD8nscyB0yYAiEkUUUE+CFXbGGUE4gAuQ6EEYWUUyAXCvWEMoJRIBcB8LIIooJMGBQrCGqlsOAQdXOUJcfAV7Y/ehxrqoC5FrVzlCXHwFy7UePc1UVINeqdoa6/AgwYPCjl6JzGTCkqNkpulVe2FPU7BTdKrlOUbNTdKvkOkXNTtGtkusUNTtFt8qAIUXN9nOrDBj86HGuqgK8sKvaGeryI0Cu/ehxrqoC5FrVzlCXHwFy7UePc1UVYMCgamcUq4sBg2INoZxABHhhD4SRRRQTINeKNYRyAhEg14EwsohiAuRasYZQTiACDBgCYUz+IgwYkt/jNN4hL+xp7Hry75lcJ7/HabxDcp3Grif/nsl18nucxjtkwJDGrnu4ZwYMHtA4RXkBXtiVbxEFehAg1x7QOEV5AXKtfIso0IMAufaAxinKCzBgUL5FahTIgEGNPlBFsAK8sAfryWpqCJBrNfpAFcEKkOtgPVlNDQFyrUYfqCJYAQYMwXomdjUGDIltbapvjBf2VLc/sTdPrhPb2lTfGLlOdfsTe/PkOrGtTfWNMWBIdfvd3zwDBvdWHKmPAC/s+vSKSt0LkGv3VhypjwC51qdXVOpegFy7t+JIfQQYMOjTq1grZcAQKz8XD0mAF/aQYFk2VgFyHSs/Fw9JgFyHBMuysQqQ61j5uXhIAgwYQoJN2rIMGJLWUe7HFOCFnRwkUYBcJ7Gr3BO5JgNJFCDXSewq98SAgQy4EmDA4IqJgzQT4IVds4ZRrisBcu2KiYM0EyDXmjWMcl0JkGtXTBykmQADBs0aFle5DBjikue6YQrwwh6mLmvHJUCu45LnumEKkOswdVk7LgFyHZc81w1TgAFDmLoJWpsBQ4Kaya00CPDC3kDBNwkSINcJaia30iBArhso+CZBAuQ6Qc3kVhoEGDA0UPCNkwADBicd9ukqwAu7rp2jbicBcu2kwz5dBci1rp2jbicBcu2kwz5dBRgw6Nq5iOtmwBAxOJeLRIAX9kiYuUjEAuQ6YnAuF4kAuY6EmYtELECuIwbncpEIMGCIhFn/izBg0L+H3EG2AC/s2SZs0V+AXOvfQ+4gW4BcZ5uwRX8Bcq1/D7mDbAEGDNkmbLEQYMBggcIm7QV4Yde+hdyAhQC5tkBhk/YC5Fr7FnIDFgLk2gKFTdoLMGDQvoXR3AADhmicuUq0ArywR+vN1aIRINfROHOVaAXIdbTeXC0aAXIdjTNXiVaAAUO03tpejQGDtq2jcAcBXtgdcNilrQC51rZ1FO4gQK4dcNilrQC51rZ1FO4gwIDBAYdduwQYMOyy4LvkCPDCnpxecie7BMj1Lgu+S44AuU5OL7mTXQLkepcF3yVHgAFDcnoZ6p0wYAiVl8VjEuCFPSZ4LhuqALkOlZfFYxIg1zHBc9lQBch1qLwsHpMAA4aY4HW7LAMG3TpGvW4EeGF3o8QxugmQa906Rr1uBMi1GyWO0U2AXOvWMep1I8CAwY0SxwgDBkKQRAFe2JPYVe6JXJOBJAqQ6yR2lXsi12QgiQIMGJLY1RDuiQFDCKgsGbsAL+yxt4ACQhAg1yGgsmTsAuQ69hZQQAgC5DoEVJaMXYABQ+wt0KMABgx69Ikq8xPghT0/L47WQ4Bc69EnqsxPgFzn58XRegiQaz36RJX5CTBgyM8rtUczYEht6xN947ywJ7q9qb05cp3a1if6xsl1otub2psj16ltfaJvnAFDotsb3M0xYAjOkpXUEeCFXZ1eUElwAuQ6OEtWUkeAXKvTCyoJToBcB2fJSuoIMGBQpxdKV8KAQen2UJxHAV7YPcJxmtIC5Frp9lCcRwFy7RGO05QWINdKt4fiPAowYPAIl7bTGDCkrePpuF9e2NPR57TdJblOW8fTcb/kOh19Tttdkuu0dTwd98uAIR199n2XDBh8E7KAggK8sCvYFEryLUCufROygIIC5FrBplCSbwFy7ZuQBRQUYMCgYFNULIkBg4pdoSa/Aryw+xXkfBUFyLWKXaEmvwLk2q8g56soQK5V7Ao1+RVgwOBXMCXnM2BISaNTdpu8sKes4Sm5XXKdkkan7DbJdcoanpLbJdcpaXTKbpMBQ8oa7vV2GTB4leM8lQV4YVe5O9TmVYBce5XjPJUFyLXK3aE2rwLk2qsc56kswIBB5e4oVBsDBoWaQSmBCfDCHhglCykkQK4VagalBCZArgOjZCGFBMi1Qs2glMAEGDAERpnshRgwJLu/ab07XtjT2vlk3ze5TnZ/03p35DqtnU/2fZPrZPc3rXfHgCGtnc/zvhkw5AnG4VoI8MKuRZsoMk8Bcp0nGIdrIUCutWgTReYpQK7zBONwLQQYMGjRpviLZMAQfw+oIHgBXtiDN2XF+AXIdfw9oILgBch18KasGL8AuY6/B1QQvAADhuBNE7kiA4ZEtjX1N8ULe+ojkEgAcp3Itqb+psh16iOQSABynci2pv6mGDCkPgLuABgwuHPiKL0EeGHXq19U606AXLtz4ii9BMi1Xv2iWncC5NqdE0fpJcCAQa9+xVYtA4bY6LlwiAK8sIeIy9KxCZDr2Oi5cIgC5DpEXJaOTYBcx0bPhUMUYMAQIm6SlmbAkKRuci/1Aryw10vwZ5IEyHWSusm91AuQ63oJ/kySALlOUje5l3oBBgz1EvzpKMCAwZGHnZoK8MKuaeMo21GAXDvysFNTAXKtaeMo21GAXDvysFNTAQYMmjYu6rIZMEQtzvWiEOCFPQplrhG1ALmOWpzrRSFArqNQ5hpRC5DrqMW5XhQCDBiiUE7ANRgwJKCJ3EKWAC/sWSRsSIAAuU5AE7mFLAFynUXChgQIkOsENJFbyBJgwJBFwgYrAQYMVips012AF3bdO0j9VgLk2kqFbboLkGvdO0j9VgLk2kqFbboLMGDQvYMR1c+AISJoLhOpAC/skXJzsYgEyHVE0FwmUgFyHSk3F4tIgFxHBM1lIhVgwBApt74XY8Cgb++o3F6AF3Z7G/boK0Cu9e0dldsLkGt7G/boK0Cu9e0dldsLMGCwt2FPhgADhgwMvk2MAC/siWklN5IhQK4zMPg2MQLkOjGt5EYyBMh1BgbfJkaAAUNiWhnujTBgCNeX1eMR4IU9HneuGq4AuQ7Xl9XjESDX8bhz1XAFyHW4vqwejwADhnjctbsqAwbtWkbBLgR4YXeBxCHaCZBr7VpGwS4EyLULJA7RToBca9cyCnYhwIDBBRKHiDBgIAVJFOCFPYld5Z7INRlIogC5TmJXuSdyTQaSKMCAIYldDeGeGDCEgMqSsQvwwh57CyggBAFyHQIqS8YuQK5jbwEFhCBArkNAZcnYBRgwxN4CPQpgwKBHn6gyPwFe2PPz4mg9BMi1Hn2iyvwEyHV+XhythwC51qNPVJmfAAOG/LxSezQDhtS2PtE3zgt7otub2psj16ltfaJvnFwnur2pvTlyndrWJ/rGGTAkur3B3RwDhuAsWUkdAV7Y1ekFlQQnQK6Ds2QldQTItTq9oJLgBMh1cJaspI4AAwZ1eqF0JQwYlG4PxXkU4IXdIxynKS1ArpVuD8V5FCDXHuE4TWkBcq10eyjOowADBo9waTuNAUPaOp6O++WFPR19Tttdkuu0dTwd90uu09HntN0luU5bx9NxvwwY0tFn33fJgME3IQsoKMALu4JNoSTfAuTaNyELKChArhVsCiX5FiDXvglZQEEBBgwKNkXFkhgwqNgVavIrwAu7X0HOV1GAXKvYFWryK0Cu/QpyvooC5FrFrlCTXwEGDH4FU3I+A4aUNDplt8kLe8oanpLbJdcpaXTKbpNcp6zhKbldcp2SRqfsNhkwpKzhXm+XAYNXOc5TWYAXdpW7Q21eBci1VznOU1mAXKvcHWrzKkCuvcpxnsoCDBhU7o5CtTFgUKgZlBKYAC/sgVGykEIC5FqhZlBKYALkOjBKFlJIgFwr1AxKCUyAAUNglMleiAFDsvub1rvjhT2tnU/2fZPrZPc3rXdHrtPa+WTfN7lOdn/TencMGNLa+TzvmwFDnmAcroUAL+xatIki8xQg13mCcbgWAuRaizZRZJ4C5DpPMA7XQoABgxZtir9IBgzx94AKghfghT14U1aMX4Bcx98DKghegFwHb8qK8QuQ6/h7QAXBCzBgCN40kSsyYEhkW1N/U7ywpz4CiQQg14lsa+pvilynPgKJBCDXiWxr6m+KAUPqI+AOgAGDOyeO0kuAF3a9+kW17gTItTsnjtJLgFzr1S+qdSdArt05cZReAgwY9OpXbNUyYIiNnguHKMALe4i4LB2bALmOjZ4LhyhArkPEZenYBMh1bPRcOEQBBgwh4iZpaQYMSeom91IvwAt7vQR/JkmAXCepm9xLvQC5rpfgzyQJkOskdZN7qRdgwFAvwZ+OAgwYHHnYqakAL+yaNo6yHQXItSMPOzUVINeaNo6yHQXItSMPOzUVYMCgaeOiLpsBQ9TiXC8KAV7Yo1DmGlELkOuoxbleFALkOgplrhG1ALmOWpzrRSHAgCEK5QRcgwFDAprILWQJ8MKeRcKGBAiQ6wQ0kVvIEiDXWSRsSIAAuU5AE7mFLAEGDFkkbLASYMBgpcI23QV4Yde9g9RvJUCurVTYprsAuda9g9RvJUCurVTYprsAAwbdOxhR/QwYIoLmMpEK8MIeKTcXi0iAXEcEzWUiFSDXkXJzsYgEyHVE0FwmUgEGDJFy63sxBgz69o7K7QV4Ybe3YY++AuRa395Rub0Auba3YY++AuRa395Rub0AAwZ7G/ZkCDBgyMDg28QI8MKemFZyIxkC5DoDg28TI0CuE9NKbiRDgFxnYPBtYgQYMCSmleHeCAOGcH1ZPR4BXtjjceeq4QqQ63B9WT0eAXIdjztXDVeAXIfry+rxCNQPGGprRQoKMmooLJAS45/Xf3tExsbkfFtQa3wl53bCvxMGDOEbc4XoBXhhj96cK4YvQK7DN+YK0QuQ6+jNuWL4AuQ6fGOuEL1A/YDB6solJcaA4eaxVru038aAIc8W3vXS5/LQS8tsz5pnTKJKiwtt97MDARUFjr5hrmzYWGlbGrm2pWGHwgLkWuHmUJpnAXLtmY4TFRYg1wo3h9I8C5xx2wL57Ost1ucbb2lYeCsDBmuclG2d/OhSefmtMtu7fs0YMDRjwGDrww41BUZNmi2VlTW2xZFrWxp2KCxArhVuDqV5FiDXnuk4UWEBcq1wcyjNs8BR182RjZurbM6vlYUzjrTZp/dm3sGQZ//ufP5zefjlZbZn/eOXI2X3zi1s97MDARUFxvzyVdleXm1bGrm2pWGHwgLkWuHmUJpnAXLtmY4TFRYg1wo3h9I8Cxz7q3mydkO5zfnGOxhm8A4GG5x0bZ7zwRqZcN+7jT+oI4PgrsuGyPA9O2Rs4VsE1Bc4dvpcWbOuklyr3yoqzEOAXOeBxaHaCJBrbVpFoXkIkOs8sDhUG4FTbpkvX63cbllvaWmRzLvpcMt9um/kHQx5dvDzsm3yw5vfNM6y/mzMa8/cT048+Dt5rsrhCMQrcMz182T9pgqjCHIdbye4epAC5DpITdZSRYBcq9IJ6ghSgFwHqclaqggcP32erF5v/Q6GLh2by/NTRqlSaqB1MGDIk7Pc+D310cbvq9t9XTx+Lzl/bG+73WxHQEmBcVPnyOatdr8jJkKulWwbReUQINc5gNitpQC51rJtFJ1DgFznAGK3lgLjphn///UW6///uneP1vLEVcO1vK/Bv4TNAAAOg0lEQVRcRTNgyCVksX/ohFnGVuv/0nvK6F4y6fv9LM5iEwLqChw6+RUpL68xfkWCXKvbJSrLV4Bc5yvG8ToIkGsdukSN+QqQ63zFOF4HATPXFRU7LUvdt097eehnB1nu030jAwYPHRx25SyprbX+i9i4Id3kph8N9LAqpyAQn8CIq2dLVZU5YLCugVxbu7BVbQFyrXZ/qM6bALn25sZZaguQa7X7Q3XeBMxcV1dbP6Vt+H6d5K7zD/S2sOJnMWDw0CCnsBzUv4Pc89MhHlblFATiE3AamplVkev4esOVvQuQa+92nKmuALlWtzdU5l2AXHu340x1BZxy/d2Du8uvztxX3eJ9VMaAwQPemGuMR/rtsH6k396928qj/zXUw6qcgkB8AkMnzHS8OLl25GGnogLkWtHGUJYvAXLti4+TFRUg14o2hrJ8CTjl+oyxvWTC+GT+Wj0DBg+xOXLaXNm0pdLyzN26tpCnJ4203MdGBFQU2LC9So6eMsf4tR+x/RUJcq1i56jJSYBcO+mwT1cBcq1r56jbSYBcO+mwT1eB+lzb1X/5iXvJ2Yf3ttut9XYGDB7ad+JvXpeVa3ZYntmpfTN5ceqhlvvYiICKAnM+WCtX3r/EsTRy7cjDTgUFyLWCTaEk3wLk2jchCygoQK4VbAol+RbIlevpZw+UYw7o5vs6Ki7AgMFDV864baF89vVmyzOLiwtk/m/HWu5jIwIqCtz78pdy3/NfGKWZn/Bo/eGl5FrFzlGTkwC5dtJhn64C5FrXzlG3kwC5dtJhn64Cu3JtfQf3//xgOWCPdtY7Nd/KgMFDAyc/9r68vGiV7Zl/nzhC+nZrabufHQioJHDuXYtk6RebjJLsBwxmveRapa5RSy4Bcp1LiP06CpBrHbtGzbkEyHUuIfbrKLAr1xbVG49tW3hrcv+DNAMGi57n2vTye2Uy+cGltof9+Mg+8vPj+truZwcCKgkcce0c2bqtynjvQq0xYrB5TqVRMLlWqWvUkkuAXOcSYr+OAuRax65Rcy4Bcp1LiP06CtTn2qr2Nq1LZNYNh1ntSsQ2Bgwe2zjsqllSW2P9dvL+xpMk/sKTJDzKclrUAkMnvGxc8j+DBWOiWvdpjxZFkGsLFDYpK0CulW0NhfkQINc+8DhVWQFyrWxrKMyHQKNcN1ln0J7t5M+XHdxka3J+ZMDgsZdHXmc8SWKz9ZMkWrYolldvHONxZU5DIDqBZ4xf9fmV8Ss/DV8OvyVBrhuU+EZxAXKteIMoz5MAufbExkmKC5BrxRtEeZ4EsnLdZJWLju0jFx6V3He7M2Bo0nC3P178p7flrY832B4+/3fjpLjQdjc7EFBCYMJD78ncJasbaqk1nlVZYL6LweaLXNvAsFkpAXKtVDsoJiABch0QJMsoJUCulWoHxQQk0DTXTZd94frR0rlNadPNifmZAYPHVj4692u5/alPbM+e8P1+csboXrb72YGACgLH/uo1WbuhYlcpDu9gMA8i17uo+E5dAXKtbm+ozLsAufZux5nqCpBrdXtDZd4FsnKdsVSz0mJ57aZkv9OdAUNGw/P5dkdljRw26RXjFOvPYRi6bye5+4ID81mSYxGIXGD4VbOlpqam4bpmmv/9QY/kugGFb7QTINfatYyCXQiQaxdIHKKdALnWrmUU7EKgaa4zT9ljt9by/64cnrkpcd8zYPDR0tG/fEXKy3darmC+zXxBgh8/YnnTbNRK4IGZy+Se5z7PqvnfQ4aszXUbyLW1C1vVESDX6vSCSoITINfBWbKSOgLkWp1eUElwAna5rr/C90b1lGtO6V//YyL/ZMDgo61n3b5QPvlqs+0K08/eT4454Du2+9mBQJwCp936piz7ZmveJZDrvMk4IUIBch0hNpeKTIBcR0bNhSIUINcRYnOpyARy5fqey4fIQX07RFZPHBdiwOBDfca/PpW/zvrKdoWe3VrJUxMPsd3PDgTiEli+doec+uvXrS+f43MYyLU1G1vjFyDX8feACoIXINfBm7Ji/ALkOv4eUEHwAo65Ni5XVFQob9xyRPAXVmxFBgw+GzLsyllifvK+3dcjE4bJPj3b2O1mOwKxCJx/91vy7mcbPV+bXHum48QQBch1iLgsHZsAuY6NnguHKECuQ8Rl6dgEcuV60J4d5M+XDYmtvqguzIDBp/RPjcdVvu3wuMoBe7SVh38+1OdVOB2BYAWGXTnTGIzZrzmgTzv58MtNtgeQa1sadsQoQK5jxOfSoQmQ69BoWThGAXIdIz6XDk0gV67/ZryzfU/jHe5J/2LA4LPDKzftkBOvt3mr+X/WnnPTEdKitNDnlTgdgWAEJj36vsx8a5XtYr17tJY7L9yfXNsKsUNFAXKtYleoya8AufYryPkqCpBrFbtCTX4F3OT6iauS/fSIekMGDPUSPv78wYwF8sWKLbYrjBrUSW4/l0dW2gKxI1KBEVfPlurqXY+mbHrxm84bJOMGdhVy3VSGn1UWINcqd4favAqQa69ynKeyALlWuTvU5lXAba69rq/TeQwYAujWG5+uk5/98R3HlRbOGOe4n50IRCHwQ+PJEZ87PDmiY7tSeWna6LpSyHUUHeEaQQiQ6yAUWUM1AXKtWkeoJwgBch2EImuoJpBPrlWrPYx6GDAEpDr+xnlStq7cdrUeXVvIPyeNtN3PDgTCFpjzwRq58oH3xOnDFy4/sZ+cfXivhlLIdQMF3ygqQK4VbQxl+RIg1774OFlRAXKtaGMoy5eAl1z7uqAGJzNgCKhJT7y+Qm5+4mPH1UYO6iK/P3d/x2PYiUBYAqMnz5byCvtfjWjZokhevfHwRpcn1404+EFBAXKtYFMoybcAufZNyAIKCpBrBZtCSb4FvOTa90UVX4ABQ4ANGnvtq7JlW7Xjihcfv6ecP24Px2PYiUDQAt+/eb6sKNvuuOwpo3vKpO/3zzqGXGeRsEERAXKtSCMoI1ABch0oJ4spIkCuFWkEZQQq4CfXgRai2GIMGAJsyKNzv5bbn/rEccWiogJ5ZMIw6de9teNx7EQgKIErH3pX5ixZ47hcq5bF8sr0MZbHkGtLFjbGLECuY24Alw9FgFyHwsqiMQuQ65gbwOVDEfCb61CKUmRRBgwBN+LS+xbLwg/XO67atk2JzLz+MMdj2IlAEAJuhgMFBQXyh0uHyNA929teklzb0rAjBgFyHQM6lwxdgFyHTswFYhAg1zGgc8nQBYLKdeiFxnQBBgwhwB8/fZ6sXm//gY/mJUtKCuX1m48I4eosicC/Bcx/+d1mvKOmIAfIWeN6yRXH98txlAi5zknEAREIkOsIkLlE5ALkOnJyLhiBALmOAJlLRC4QdK4jv4EILsiAIQTkbeVVctS016Sqyv4D9czLNistlF/9eKAcsV+XEKpgyTQLuHnblulz4N4d5b6LB7uiIteumDgoRAFyHSIuS8cmQK5jo+fCIQqQ6xBxWTo2gTByHdvNhHhhBgwh4T67aKXc8NgHrlY/9bCeMvF72R+u5+pkDkKgiYCbD5wxT+ncsbm8MGVUk7OdfyTXzj7sDU+AXIdny8rxCZDr+Oy5cngC5Do8W1aOTyDMXMd3V+FcmQFDOK51q0796wfywsKVrq4woE9befhnQ10dy0EIWAmYz+G95pGljo+irD+vqKhQ/jV1lHRuU1q/yfWf5No1FQcGIECuA0BkCeUEyLVyLaGgAATIdQCILKGcQFS5Vu7GfRTEgMEHnptTz7htoXz29WY3h0o74y97lxzbV045ZDdXx3MQAvUCZ8x4Uz77ZptIbW39Jsc/J57aX04d2dPxGKed5NpJh31BCZDroCRZRyUBcq1SN6glKAFyHZQk66gkEHWuVbp3P7UwYPCj5/Lc8TfOk7J1zh/6mLlU5/bN5Oxxe8gPR3n/C2DmenyfXIFJj74vry5ZLdXVzp/3kSlw8qE9ZfLJ/n8lh1xnqvJ9kALkOkhN1lJFgFyr0gnqCFKAXAepyVqqCMSZa1UM/NTBgMGPXh7nXnTPW7L4k415nCHSqmWxnDhiN5lw/F55ncfByRZYvnaH3PD4B/Le5xvdvmGhDqTYeHLJlSf18/XOhaay5LqpCD97FSDXXuU4T2UBcq1yd6jNqwC59irHeSoLqJRrlZ3c1MaAwY1SQMfc+fyn8sjMr/L6S6F5afORlqMHdpFfntJf2rUsCagaltFN4P6Zy+Sld8pk2Tdb8y69U/tS+csvhnv6zIVcFyPXuYTY7yRArp102KerALnWtXPU7SRArp102KergKq51tXTrJsBQ8Tde+uLDXLln9+TbdurPF3ZfLRljy4tZUjf9jJ+aA8Z2LONp3U4SX2BZxatktlLV8lHX2+V9ZuqpKbG/a9BZN7dAf3ay/2XHJS5KfDvyXXgpIldkFwntrWpvjFyner2J/bmyXViW5vqG9Mp17o2igFDTJ37wYwF8sWKLb6vXlRYIJ07NJMBPdtKL2PwcMLQ7tKjQ3MpLS70vTYLRCOwwRg2vbd8s3z0zWaZ/9E6WVa2XbZuqzQuXuCrgIKCAjlz7O5yxfH9fK2Tz8nkOh+tZB9LrrP7y7+vs01020KusztGrrNNdNtCrrM7Rq6zTXTbkqRc62bPgCHGjl37tw/kxQXuHmOZd5nG300Ljb9gFhUV1A0bSo13PjQvLar79YyKqpq6bd07N5NmxUV5L80J7gTWba6UNZvKpcQY9rRsVmI8PrJayqt2SkVljezcWVv3T63Lpz64u+Kuo8zP77j57IEyvF+nXRsj+o5cRwQd02XIdQjw/Ps6BNT8liTX+Xm5Oppcu2IK8yByHYIuuQ4BNb8l05rr/JTiPZoBQ7z+8vG3m+Wmf3wi73+52fjLv7tHDMZcsuvLm3dj/HtYGu7qP98Ycw++QhJo2aJEjj24m0z6vv+nRPgpMcm59uMSxrlp+N8ZuQ4jOWqvSa6j6w//vo7OWrUrhfG/M/59rVqX01dPknOtSzf/PwAAAP//5lTHNAAAQABJREFU7L0J/FXXVS++mecpYQiQEMKQhIQMzCQBQhICgcSPtj5bte9fbf0/n9Y+/762drK1Wptaa9u/1T591qG2Wn21ra2aCTKTmTAlITMhQIBAmOeZvO/3woV992/d+Zyz17l3LU25vzues/Z3r7P2Ont9v53ehTmz6B44ccq5T/3j8+7Jl3a6E8fxR+6tk3v33VOuU6dOJWdyGm6d8HzJ0/ZHkx44b0B394GbLnYfnDOqyW9K9uOth+tk/dP8t7X2PDNcN4+QfH6D4TrGuFm8juH1mL+Z7DyzeB1zLO23z3mgPXB97nx1PupkBQZ9A/PH//aqu2/FVnfo8IlsDo6L/YTLTPy6cjUElrSswJDM0I66oLf7yKKx7paJQ5P5whS/pRVwnaJ7GvrqVp1nhusKcEghXlf4tSgvGa6juL3kRy1el7ijJf9Iap5ZvK4AjzaI1xXOPspL7YjrKI6u8qNWYKjioJgvf/fRje5f8N/OPUdjHkZDv82dCuHuhYa+yD7UwQNdunR2V4we4H7vv1zmxg7r0+F17U/kGdfafNtK88xwrQ1d8Y7HcB3P9+EvW7wOPdI6fzczzyxetw4OWu1M2hnXmsbSCgyaRqPCsfzo6U1uKdonXn1rn9u9/7h79xRrdGbt4IEe3bu64UN6umtHD3S3TRrqpowZ1DKnbbhumaGs+0QM13W7zD6QAw8YrnMwSHaIdXvAcF23y+wDOfBAK+M6tvutwBB7BBr8/adf3+kWr9ruVr+5223bdcQdb5i3odJmogYPzj5WxgM1+Bq9I/36dHWjh/V2N0wY4n522nA3uF/3Mt/Xek8brvM4pobraqNmuK7mIY2vG66rjYrhupqHNL5eA65x2F27dnYTLu5neYjl1xpBLByT4VpwStSnrMAQ1f3J/fiO/cfca1v2u617jrgd+465nfh7F/7bCx6HA/zvyDF3+OhJt5e7Hwo/28l1xmIWu+1TsRMn3wXJ4+lfCn+ArRNdu5RjaAjfnc+/eeYnyJhFsgn4oXv3zq5/726ud88urk/Prq5/n25uUK/ubhDIGc/v091dMKiHu2BAT3cNWh/MznlAG67PHZmOR1nPM8N1MuNuuK7sR8N1Zf9ofdVwrWtkqsXrbbuPuF17j4kHfcvkYe4r/3Wi+Fq7PWm41jXihmtd41HuaKzAUM4z9nxTHvj0P61xD67cJn6HXbhEt9iT5oG6PWDzrG6X2Qdy4AHDdQ4GyQ4x9x6weZb7IbQTEDxguBacEuEpKzBEcHo7/KRN8HYYZTvH2B6weRZ7BOz30/CA4ToNr9p3mgdKPWDzrNQf9ldreMBwrWMcrcCgYxxa7ihsgrfckNoJKfSAzTOFg2KH1LQHDNdNu9C+wDxQ1QM2z6q6yN6QQw8YrnUMmhUYdIxDyx2FTfCWG1I7IYUesHmmcFDskJr2gOG6aRfaF5gHqnrA5llVF9kbcugBw7WOQbMCg45xaLmjsAneckNqJ6TQAzbPFA6KHVLTHjBcN+1C+wLzQFUP2Dyr6iJ7Qw49YLjWMWhWYNAxDi13FDbBW25I7YQUesDmmcJBsUNq2gOG66ZdaF9gHqjqAZtnVV1kb8ihBwzXOgbNCgw6xqHljsImeMsNqZ2QQg/YPFM4KHZITXvAcN20C+0LzANVPWDzrKqL7A059IDhWsegWYFBxzi03FHYBG+5IbUTUugBm2cKB8UOqWkPGK6bdqF9gXmgqgdsnlV1kb0hhx4wXOsYNCsw6BiHljsKm+AtN6R2Qgo9YPNM4aDYITXtAcN10y60LzAPVPWAzbOqLrI35NADhmsdg2YFBh3j0HJHYRO85YbUTkihB2yeKRwUO6SmPWC4btqF9gXmgaoesHlW1UX2hhx6wHCtY9CswKBjHFruKGyCt9yQ2gkp9IDNM4WDYofUtAcM10270L7APFDVAzbPqrrI3pBDDxiudQyaFRh0jEPLHYVN8JYbUjshhR6weaZwUOyQmvaA4bppF9oXmAeqesDmWVUX2Rty6AHDtY5BswKDjnFouaOwCd5yQ2onpNADNs8UDoodUtMeMFw37UL7AvNAVQ/YPKvqIntDDj1guNYxaFZg0DEOLXcUNsFbbkjthBR6wOaZwkGxQ2raA4brpl1oX2AeqOoBm2dVXWRvyKEHDNc6Bs0KDDrGoeWOwiZ4yw2pnZBCD9g8UzgodkhNe8Bw3bQL7QvMA1U9YPOsqovsDTn0gOFax6BZgUHHOLTcUdgEb7khtRNS6AGbZwoHxQ6paQ8Yrpt2oX2BeaCqB2yeVXWRvSGHHjBc6xg0KzDoGIeWOwqb4C03pHZCCj1g80zhoNghNe0Bw3XTLrQvMA9U9YDNs6ousjfk0AOGax2DZgUGHePQckdhE7zlhtROSKEHbJ4pHBQ7pKY9YLhu2oX2BeaBqh6weVbVRfaGHHrAcK1j0KzAoGMcWu4obIK33JDaCSn0gM0zhYNih9S0BwzXTbvQvsA8UNUDNs+qusjekEMPGK51DJoVGHSMQ8sdhU3wlhtSOyGFHrB5pnBQ7JCa9oDhumkX2heYB6p6wOZZVRfZG3LoAcO1jkGzAoOOcWi5o7AJ3nJDaiek0AM2zxQOih1S0x4wXDftQvsC80BVD9g8q+oie0MOPWC41jFoVmDQMQ4tdxQ2wVtuSO2EFHrA5pnCQbFDatoDhuumXWhfYB6o6gGbZ1VdZG/IoQcM1zoGzQoMOsah5Y7CJnjLDamdkEIP2DxTOCh2SE17wHDdtAvtC8wDVT1g86yqi+wNOfSA4VrHoFmBQcc4tNxR2ARvuSG1E1LoAZtnCgfFDqlpDxium3ahfYF5oKoHbJ5VdZG9IYceMFzrGDQrMOgYh5Y7CpvgLTekdkIKPWDzTOGg2CE17QHDddMutC8wD1T1gM2zqi6yN+TQA4ZrHYNmBQYd49ByR2ETvOWG1E5IoQdsnikcFDukpj1guG7ahfYF5oGqHrB5VtVF9oYcesBwrWPQrMCgYxxa7ihsgrfckNoJKfSAzTOFg2KH1LQHDNdNu9C+wDxQ1QM2z6q6yN6QQw8YrnUMmhUYdIxDyx2FTfCWG1I7IYUesHmmcFDskJr2gOG6aRfaF5gHqnrA5llVF9kbcugBw7WOQbMCg45xaLmjsAneckNqJ6TQAzbPFA6KHVLTHjBcN+1C+wLzQFUP2Dyr6iJ7Qw49YLjWMWhWYNAxDi13FDbBW25I7YQUesDmmcJBsUNq2gOG66ZdaF9gHqjqAZtnVV1kb8ihBwzXOgbNCgw6xqHljsImeMsNqZ2QQg/YPFM4KHZITXvAcN20C+0LzANVPWDzrKqL7A059IDhWsegWYFBxzjk6ihe3rzfjTyvp+vfq1vZ425mgu87fNxt3nXETRjZr+z32wvmgVb3gM2zVh/h9jw/w3V7jruddbYesHmWrb/t17LxgOE6Gz8n8StWYEjCi23yHd97dKP728Xr3OEjJwtnPH/qcHfnL18hnn2jBYbf++eX3JLlbxe+s1fPLu5jP3ep+7npI8TfsCfNA63ogZ8u2+K+8dPXbJ614uC28TkZrtt48O3UM/OAzbPMXG0/lKEHDNcZOjuhn7ICQ0KObPWv8Rf+/rn+yvzR7qO3jfWfKjxupMDwrfvecN9dsr7Dd1UqZHR4sz1hHsixB2ye5Xjw7NDLesBwXdY19oJ5IDEP2DxLzJX2RYo8YLhWNBh1HIoVGOpwVju/ddrHHhRPn7sM7vr8DR3aJeotMLAt4o4/euLsXdvwx579xi3hU/a3eaDlPGDzrOWG1E4IHjBcGwzMA+l7wOZZ+j62X8jeA4br7H2exC9agSEJL7b4d5AP4ee+9ETZs/zs+ye498wobWOot8Dwk2e2uC//4OWyv/HTz91Q4H0o+wZ7wTyQcw/YPMv5ANrhix4wXItusSfNA4l6wOZZou60L1PiAcO1koFo4DCswNCA09rxI3M++0jZ3QWjR/R1P/zEjBK31Ftg+IWvPePWbzlQ8h3FP7hLYumX5xb/tH/NAy3rAZtnLTu0bX1ihuu2Hn47+Yw8YPMsI0fbz2TqAcN1pu5O7MeswJCYK1v7iz4L8sX7z5AvSmca7jCop8BQrUJ5K8gkv1yGTFI6FnvOPJBXD9g8y+vI2XFX8oDhupJ37DXzQDIesHmWjB/tW3R5wHCtazxqPRorMNTqqTZ/37K1u91v/eXKsl4IyR7rKTCUI3cs/tj3Pj7dJCuLzrB/W9oDlGD64NeXlT1Hm2dlXWMvKPaAXT8UD44dWst4wOZZywylnYjnAcO154wcPbQCQ44GK/ahLvyjx92O3UfFwxg8qIe79/Ozzr5WT4Ghnu89+wP2wDzQoh6oZz7YPGtRELTgaRmuW3BQ7ZTUecDmmbohsQNKwAOG6wScmPFXWIEhY4fn+ee+8pNX3Y8f21T2FPydBrUufOq9Y1v2x+0F80CLeKCeHT02z1pk0NvgNOz60QaDbKcY3QM2z6IPgR1ACh4wXKfg1JS/0goMKTu4lb6+Hq6EWhc+9fZWtZI/7VzMA5IHbJ5JXrHn8u4Bw3XeR9COPw8esHmWh1GyY6zXA4brej0W//1WYIg/Brk6glrVHmotMNTLDpsrZ9nBmgca9IDNswYdZx9T7QHDterhsYNrEQ/YPGuRgbTTKPGA4brEHer/sAKD+iHSdYDfe2SD+4v/WFv2oP74Q1e5eVcNdbUUGB544R33me+8UPa7Pvv+Ce49M0aUfd1eMA+0qgd+8swW9+UfvFz29GyelXWNvaDYA3b9UDw4dmgt4wGbZy0zlHYingcM154zcvDQCgw5GCRNh7jv8HF3y+8tLXtI100c7P78w9fUVGD47b9/zj21ZkfZ73rwzjmuf69uZV+3F8wDreoBm2etOrLtfV6G6/Yefzv7bDxg8ywbP9uvZOsBw3W2/m7216zA0KwH2/DztRQGvvzjV92DK7eJ3rll8jD32Z+/rKZChfgF9qR5oA08YPOsDQa5DU/RcN2Gg26nnLkHbJ5l7nL7wQw8YLjOwMkJ/YQVGBJyZDt9TS2tDc+8vqtigWHG+PNq2gLeTn61czUP+B6weeZ7wx63igcM160yknYemj1g80zz6NixNeoBw3Wjnsv+c1ZgyN7nLfGL1cgZx17Qp2KB4Y2tB936LQdEX/Tq2cUt/fJc8TV70jzQTh6wedZOo90+52q4bp+xtjON5wGbZ/F8b7+cngcM1+n5NslvtgJDkt5so++qJi95/cQh7sk120WPVHqNH7h16nD35V++QvysPWkeaCcP2Dxrp9Fun3M1XLfPWNuZxvOAzbN4vrdfTs8Dhuv0fJvkN1uBIUlvttF3vbx5v/vg15eVPeOLh/d1G96WdyhUeo1f+L2PT3cTRvYr+932gnmgXTxg86xdRrq9ztNw3V7jbWcbxwM2z+L43X41XQ8YrtP1b1LfbgWGpDzZht+z8I8edzt2HxXPvEf3Lu7osZN1vzZ4UA937+dniZ+zJ80D7egBm2ftOOqtf86G69YfYzvD+B6weRZ/DOwIkveA4Tp5nyb9jVZgSNqjbfR937rvDffdJevLnvG7rhP+792S16Xn/Df8yvzR7qO3jfWfssfmgbb2gM2zth7+lj15w3XLDq2dmCIP2DxTNBh2KIl5wHCdmCtT+yIrMKTm2tb/4s27jrif+9ITZU+UpYVOwavSc/5bfvq5G9zI83r6T9lj80Bbe8DmWVsPf8uevOG6ZYfWTkyRB2yeKRoMO5TEPGC4TsyVqX2RFRhSc217fPEvfO2ZsmoQ776L/QqdSksM0nNFT40e0df98BMzin/av+YB88AZD9g8Myi0ogcM1604qnZO2jxg80zbiNjxJOEBw3USXkzvO6zAkJ5v2+Kbf/LMFvflH7xc9lz9HQv+Y+kDn33/BPeeGSOkl+w580Bbe8DmWVsPf8uevOG6ZYfWTkyRB2yeKRoMO5TEPGC4TsyVqXyRFRhScWv7fOm+w8fdLb+3NJETfvDOOa5/r26JfJd9iXmglTxg86yVRtPOpegBw3XRE/aveSA9D9g8S8+39s3xPGC4juf7Wn7ZCgy1eMneU9EDv/33z7mn1uwo+x7uXKCVNkucfq74v9dNHOz+/MPXFP+0f80D5oHAAzbPAofYny3hAcN1SwyjnYRyD9g8Uz5AdngNecBw3ZDbMvmQFRgycXNr/8gDL7zjPvOdF5o6yT/+0FVu3lVDm/oO+7B5oJU9YPOslUe3fc/NcN2+Y29nnp0HbJ5l52v7pew8YLjOztf1/pIVGOr1mL1f9MCczz7iDh85Kb5GYkdaSPhYfHOvnl3c0i/PLf5p/5oHzANlPGDzrIxj7Olce8Bwnevhs4PPiQdsnuVkoOww6/KA4boud2X2ZiswZObq1v6hz/7zS+7+5W+XOUk2RxQbJTq+5dapw92Xf/mKji/YM+YB80CJB2yelbjD/mgRDxiuW2Qg7TRUe8DmmerhsYNr0AOG6wYdl/LHrMCQsoPb5etf3rzfffDry8qcbmX9iO99fLqbMLJfmc/a0+YB80DRAzbPip6wf1vJA4brVhpNOxetHrB5pnVk7Lia8YDhuhnvpfdZKzCk59u2++aFf/S427H7aIfzZotEufaIwYN6uHs/P6vDZ+wJ84B5QPaAzTPZL/Zsvj1guM73+NnR58MDNs/yMU52lPV5wHBdn7+yeLcVGLLwcpv8xrfue8N9d8n64Gwrt0f8yvzR7qO3jQ0+Y3+aB8wD5Txg86ycZ+z5PHvAcJ3n0bNjz4sHbJ7lZaTsOOvxgOG6Hm9l814rMGTj57b4lc27jrif+9ITJedauTnCuZ9+7gY38ryeJZ+xP8wD5oHyHrB5Vt439kp+PWC4zu/Y2ZHnxwM2z/IzVnaktXvAcF27r7J6pxUYsvJ0m/zOL3ztGbd+y4GzZ1upPWL0iL7uh5+Ycfa99sA8YB6ozQM2z2rzk70rXx4wXOdrvOxo8+kBm2f5HDc76soeMFxX9k/Wr1qBIWuPR/q9d/YfdW/vPOK27j3iHnp+u+vXu1sqOwde3LjPPfrcOzWd5Y3XDHVXjupf03vz+KYDR064LdjVMQI7NK4dPbDw78hBvVzP7p3zeDoqjzkrXGs7+ZjzzHCdPhoM19V9nPT1w3Bd3efNvqNdcd2s35r5vITrFWv3uD/98Ss1fe1n3z/BvWfGiJre265vMlxnP/KG6+x9Xu8vWoGhXo8pe//uA0fdT5/d6p56dYfbue+YO3zspDty7JQ7hn9PnHrXnTqJ/9CnQCaE0N6FdGQn8ZXwnbX/Xa0lwv+met7rfy4fjytzT3Tp0tl17tzJdeva2XXv1tn17tnF9e7R1Y0e1tvdctVgN++qYfk4zZSOUhuuUzrNhr+2nrlTz3urH5DhurqPyr/DcF3eN3ylHqzW897Kv8pXDdfVfVT+HYbr8r6J+4qM63rmzoN3znH9e3WLexqRft1wHcnxVX/WcF3VRQreYAUGBYNQzyGs2bTX3YWCwsp1e9yW7YfcURQTmrJOmKhQeUja6rmAJf3brfB9nVB86N+nmxs3oo+bfcUQ994ZI12vFt75kBdca8NW3uaZ4VpnvDZcN+cBw7XhujkExfl01esH0sMBfbtbHtLo8KSUXzd6OO3yOcO1jpG2AoOOcSh7FCvW7XY/eGKTewmtBzv2HHMnTzZ5IS/7S8m9UHVy46dqeU9yR9QK39TJ9ezZ2Y0a2sdNGTfQfeyO8bk+qTziWpvDa5lDtbwn7nkZruP6X9+v14LZWt4T98wM13H9b79ezQO1zKGO7zFcV/OrvR7XAx0x2/F4Or6ntXDd8YzjPGMFhjh+r/qr//rkJvcPD21w29HDn0frOIHPnUWl1869K8+P5O1bSZ5RJ1TGJ1060P3BL05wwwf0SvKrU/2uvOM6Vec08OWV5lKl1xr4KXzEcF3Ob4brcp5p7PlK2K30WmO/Zrgu5zfDdTnP5OH56riuNJcqvVY8e8tDip6wf7PzgOE6O18390tWYGjOf4l/+s/uft39+9NvuwMHjyf+3eW/sPqELf9Z+ZVKF6dKr8nfZs9W8sCYC/u5//kzY93M8edXelvU11oF11GdKPx4pblU6TXhq9Q9ZbguNyTJx+tyvxTr+UrYrfRarOOt53cN1+W81fq4LnfmsZ6vNJcqvSYdr+Fa8gqfM1yX80xaz1fCbqXXpOPJA66l49bwnBUYNIwCjuGz31/jHoH6wvEThH/+rdwkJrEk/5+Vb7NkPTDs/J7uV2+62P2X6y9M9oub+LZWw3UTrkjlo+0wzwzXqUBH9ZcaruMMj8XrOH6P9atpzDOL17FG03636IF2wXXxfLX+awWGyCPzkb9d7Za/vAs8i5wSrWWFU+pUqlTB82yv4kL21et+fbq6X5s/xn1g9kXRANXKuI7m1DI/HGeeGa7LDIc9nZAHDNcJObKGr7F4XYOTcv2W8vE6rXlmeUiuAZOTg29PXOdkcJwVGCKN1Ctb9ruP/NVKt//giQSP4F035LxekDzs6vpC8rA/FpoDIS90Xv9ubkjfHm7IoB5uxMCebvh5PV2/npVlhx5cf9IdPHKu6MGL0DUXdHajB3Wu63jvW73N/fSZLYXPvGfmSLfgmqF1fT5885b9p9zyzaVEl726d3K3jukSvjXzvx+Bz/Z5PuMBXDqssxvU6bjbsveI27b7qNu+D//tPeb2HDyK/465/Ufg58PHC9Kiew8ccycS3MEybcJ57i//26RM/aAd1w9hjA4EY3QVxuiSOnGdtFMLuN4CXJ+bcq5XD+D6ktpwnfQ888/PcO2cdlw/uIFx5Bx4Go3X/rgn8Vg1ruGzfZ7PeL4Wr5MYdX15SBJn5X/Hpr2n3Mq3gzykjnjtf1fSjxuJ15t3Hna79h53Jwua5u+6k5aHCMOSHK4fePOkO3T0XLzmj12NPKTe/Fo4yKaeUo1r+Gxf4LNq8brVcN3U4Eb4sBUYIjj92w+86f72vnXu3dLrU11HQlms8/r3cJdd1NfdeMXggoxhXV9Q4c2PIvHaHSRe487v7CYOqa+4UOEnGnppL4ILL56FivuZb+iKQ1p0aVcX98ice2rTSbftQOkF48L+ndzUEbUtEIsOWbftkPuP5Zvd8rX73Fvv7HeHDp8svtTQv0NRTPrXT0x3faoUlBr68uBDecT12PM6u6uGxkXPHhQ8OOdCXC8c39V1YYE+ohmunTNcNwbAcvFaK65HIl5Ps3hd12BnnYdoiNfE9aPIQ7gWLxrzEK24vgi4nmK4Lg5VTf+miuuNyK8PeeDBEanANfKQR4Q8xPLr8pDJMr8ufxR6X7ECQ8Zj81toiVj20s66f5VtBSOH9nLXXjLILZg0JDVCv2ewUH47WCgP79fJzRhZ30K57hOs4QN3vXrC+YV10jjMubiLG9Qz7ips1dZTbsOe0mrR+b06udk4tmbtBL72R09tco+9vMMtf2WXO+VnNTV+ebdund1nfuFy9zNTh9f4ifrflktc9wWuL2x+jOr3Vukn7n7thDvuwaeA61HANTAU054Drt80XOuO15sRr/eXJqsWryvPGovXzqmP1wKuRyAPma4gD7n7dcRrr+6vOl73Rh6Ca0mzZnlIsx48/Xkpvx6BAtD0OgtAyRxN6bdozUMsXpeOU57+sgJDRqN1FBH65//kKbdtZ32yk11wC/P6K4e4r/zXq1z3ruke7AvvnHJv7PJWOvg5LnJuTGCh3OyRL1570h32qwv4wskjOrtR/ePefX4d/noRfvOtH7ZK3lLj1nb/c7U8XvzcVve/71vvNm07WMvbS96zcNpw98VfuqLkuWb/yAWutwHXu0vH6DzgmsWp2HYfcH3EwzV3MUxGK9LFkVs2Xt8JXG8v9ZnhujpaMo3XAq61xmviegrj9YDI8dpwrT4PeR64XhfEazW4fgN5yPHSgt4kbG3XGK/7onV0Xkqto5aHVL8WhO8Q82vcHLtxdPw8JMyv1cTrHchD8J9v7ZSH+Oedx8dWYMhg1O5duc196V9fdseOeWXvKr/bu1cXd9uU4e4z772syjuTeXkdFsrPBwvl3t06uflj4we/h7EdcW/QN3/Z4M5uAv6LadzpwYq0b93hrkXY2p62vbJpv/vyv73iXl6/r66fGndRf/cv/3NaXZ8p9+Y84PpNJKqrcSeed5mK1huJ1/yUEq/ib9Ty70NCT+F4tGxcGbllY+vB07j2WzZ6dO3kFo5LPxYYrmtBjnPE9XNYiPnWRwkXjRSvL0WL3RWRW+y2nonX/vLQcO0jqONjDXmIFlyzPZPtbL6pwTV2fFi8Ls3F/HEKH2eOa8RrFs58M1z73uj4eBvykKfeKh3TdorXHT2Sv2eswJDymHER9vv/tKbmXxk0oLv7pTmj3IcgN5iVbUc/2JOYyP4FKquFcrVzFHvAB4DbYHj6i51Kx3YIdzHuX1fqM9BiuAVjuzrwa2Zmh4+dcp/5/vPu8ed31KzOQRmpu37vhqaOMbe4xkJ5UQYL5WrOlXA9EluAp0XeAnwQuykewF06PxYYrsuPZpR4jcTrSRQ2/THSEq95HXkHx+fbhcD11Mi4PgRc3x/gmn3zt46xeO2PVfFxDFzvAO/T4+gB9w3dfe52cCzFNileX4Q8ZIrCPIS8PQvGdXWMCVmZ5SHlPS3l15pxrTUPaad4XR5N+XrFCgwpjhe3j9/8uaW17VzAReGOGcPdF96X7Bb2aqfH3u/71p4Ae/C5d3JBcQt2LvTBYiymib1XCfUUNnte96AP09+Qwjvk11/UxQ3B8cWyn/3Kk27LO4dr+vlJlw503/6NKTW9N3xTHnDNsSGufcqKzkhWb8Z2RG4djWncUbE+5DYwXJcdEsP1OdeUi9c3Y0dOX+w4i2mrcIduQ7C1PSkummbPS4rX1yFeD7V4XepaQChGHsJ4vZh5iFebYrxmq2GfyLi2eF0KkWp/Wbw+56FCvEauGOL6ZuA6drxejXi9Xmu8Bi8V7p2dtXbKr8+edAs8sAJDioN4x51P1MS50B2l5s+9b4JbOHlYikcjf/W96AE/6vWAcyKTSGk4CPBi2lq0bKwJWjb6gttgXkrcBvWcK++EHQz6MK/GtvYx2N4e0zbuO+V+9x+ed+vW10Yi+sF5o9z/WDS+7kPOA67DBQXv9s7AgmJEZFy/LvQUptkrW8/gckfOwWNeho8QQIWNsZH5IN4Crj9huC4MZRivOVok4CUBXkwTcY2F4TwFLXb34xrHnTm+XTMc0rSR+SA2QOrwk9+1eM1xCblo+ByJ70iAF9OkPCTNHvB6zlWK14U8JHK83oB4/UmL14WhlHBNYmmV+XWKnB1N4RofppR47DwkK1zX4yvt77UCQ0ojVCtLM7er/9unbkidwFE6zQfRA74/0JVl/zf7wGMauQ2WBT2FWrYAL4XE0K5AYmgMLujUMI5pu9EbuvSMxNDjq99yS5e/CRnU0qQ6PD4Wk/7qtya7KWMGhS+V/TsPuH4AC+UD/kIZZ3Ml+r/How88prEH/OmAsyOrnsJq503s7AqkaccMBK5BOBnTdiM+LT0jTdvuuH4QuN4f4PoKxOtLFcZrLbiWJJeZqDJhjWl7KLmM6y+t3XH9APxwIMhDrgC/0qUKOJbCPEQLriU+CA24LuQhjNeGayfGayW4jsUdVgh4Ff5Hitca8pCC5DLiVNq4ruCaXL5kBYYUho266X9zz7qq3zzjysHuW792TdX3pfGGx9EruyPolR2NnsJrI/cU8g4qEw6/v7gLcsFCT2HcnNA9I0hnaZCEY9DjHXtfOuudPYfd/7lnldt/4HhF+PTp3c098qU5Fd9TfDEXuEYBaEdQABoFXE9WgGsW9PyaD1uRbsu4V7Y4lv6/z2456TbvKy1GacA1d0jea7guDNXjAq4vRgFoUuQCELkNyNmhEdfLgOstAa4vwA6mmRqkaUNc70a8vrcN4zUKm+Re8E0DrrlDkQtEH9fMQ+ZnzNnh+6X4mEWPLYE0rRZc34Wt7ZS0LNo77YprIV6PRry+Nna8Bq6ZX5/yxqiAa+QhPSLn18tw82ULbsL4piEP4fGEuN4OXP9LwvHaP+9WeWwFhoRH8pUt+90Hv7EMd48rf/Gk8YPct39zcuU3pfTqclygNgUXqGFIvK7TkHjhAsW+Nd9ugI5zTG4DHssL6FcLpQ4HKZUYcli4UuqQknDXf+phdzx0qO9cPB5zYT/3g49ND54t/TMPuF6BBcVbwYJiKHB9vQJchy0b3D3C+Ta0Dx5ENLYhcRuwb1pwHW4vpc+4oG43XGuO1xKuY3PREMtrEK/XBv3FAyFNO1ehNC2PdzJaNtoN1yveRrzeW7qg0JKH3CP0gMfm7CBOKIlNaWzftEp48ibRlJHANaTE2yoP0YxrFDZ97jDiiPE6eh4ixGstuF6CQuOhYOfgZEouJ4hrfz630mMrMCQ8mjd//lG3/+CJit8ac+fCK+gB53++9Qe3AUlnYtsS9MryjphvGrgNqMkdSgxpkfCUpA5DCc9Zn37YHfUZc3wHn3l82/Th7o9+sTzBqHZcv7z9lHsVGve+9UdPIcnvYlvYK0uEE9djI29tl6QONUt4hpJw7YBrzfE6xDULm9cA15dE7gEXpWkVSy63I65fQrx+LYjXA1CwvwkkvLFtCXbkUCXKN7aKcat2TFsPzo5VW3RKLkstG+2Yh0i41pJfd4jXAHOBYylyHkJcr367NHfTkl8/jN0ebI/wLY147X9/Kz22AkOCo/mRv13tnn2pMsFeEhKBjR7yRkzklcFE7gmliNsUyPZJF6hxCHwTkbDGNG635/Zk37ohB7p9fHzprFol4R5+cbv75N8975+C+PifPjHNXTaif4fXtON6E3Yt8G6Y31bTEwuK2xQQzEk9hRp6ZYnrJ3IkTStJwrU6rkluuYLx2stvegHXCxTgWuTsUMBFw+32TyBe+7FAsyTcRSAxnAIyQ99aHdeM18sRrzXi+lHwB5BHwDcV8VrAtRZeKlHCsw1xXYjXKAD5piW/FrnDFHAs7QSumV+3c7z28dJqj63AkOCITv/4Q5gopRcn/+upFvHwl+ZGIXQkqRQvnv7hUVeWGtNxN2k7R8IZEjv6pqH3SpSEw0HehLvi/SJLHUoSnoOx3X4WtrtJ9ic/fdX9aOkm6aWzz00cM8B956NTz/5dfKAa10gGuYj3cc0FxUIUgMhxENMkXGvolS1Iwr1RKk1LV3G3R2xcS9JZgyElOAttUpK1Kq65yHkMuPZ7wBmvFyFexy25lonXaEUiO3pMY7ym1KHfA862mlsUSHjWK3XYyrgukhEXsdIVsGHBPnK4lvMQpbjmta2Qh6DgGNNWoVC0IWhzqSRN26q45l1u5tcd4rWCPETiNtDQisQ4TY4lX8KTaNaQh4i4riAl3gyuY87ftH/bCgwJefiz31/j7l+xrfy3YeZ88QMTo0hRcvF1NxMv70Y8E6856Edlv3VME3vA0St7o9JeWUp4xpaE49ZSbsXzrRbprA/+xbPu5Tf3+R8redwJoHjyT292XMgUTTOueYx3B2RpBVxjMcr+vZgmcnYoxTXjw0wUpmJLZ0lShyx4cIFYydoF13OxfXwA2tli2vNbT7l1e0pjzyAkXjeWKQBleawhHwR/W4PUIXvm2TvvWy3bptsF1xrykLzFa+YhIyNLeEq4bsc8hLfGQpJtLfm1Zs4OrfFalKZNKQ/xrwmt+NgKDAmN6vWffMgdD/gD/K++Y+Zw94X3le9x99+b9OPF4DY47B0bFxRF8p2kf6ue7xN7wJX0ykoSnhMgdXhZZKlD7vR4GlvbeQErWg+sv3jHvhab94XH3N79x8q+dc41Q9zXf+Xqs6+rxjV6ZQ97vbK80E85Q75z9gQiPBB7ZbXgWpI6BK7ZVxjTyB7NOy2+1SMJ19K4VhSvucPECz2uDxKvW6sUgPwxTeuxJAk3AZJw7AOPaQXJZeCasalo9WybbnlcM16DjDimrUMB6PmgAKSGiwbxel9AMKcG14GUuOH6NIqZX08GueXFIAGMaZq5DR7Cbo99QSuSBlxTSpxqcRzDoqWZhxR/o1X/tQJDAiP7Z3e/7r7/4May3zRoQHe35Auzy76e5guPYJvtnkAGKiQpSfP3y303e6+4Bdi37ojH3AIc29jDu12h1OF+JBoknfG34XVBtj9/LCSGanTbj5/a5L7yw1fLurgr+gue+pObCq9rxvXDuEDtDS5QGnDNHvDHA1xr6QF/DLjeqRTX5GA56d3kpXQWJTzpu1qsZXBdA6lULf5I+j0SF0138PcsUsDfQy6R7YHksgqpQ8TrUJq2XXEtcSypiNcCx5IWXEvStFokl0ku7W9tJ64XIA8hL0Qt1jLxWnEeEnLRaMa1lnidJa5rmSd5f48VGBIYwZs+v9QdOHi87Dd95GfGuQ/ddHHZ19N6QSIBHNmvk5uG7XUxjYIG7JX1FxSdcYGikkXfyD2FK9FTuDHoKRwCboMbynAbZOnHcEsZdzFQwnNwne0AC7/4uNux52jZQ//52aPcp98z3hmuy7pIfEFzD7go4QlcU6IqtrF963ggvDMLLVLthmuJLO1CbIOeGpAAZj1eIhcN4zVaNvpG5qJRjeugfYvj1ojkct7jtYRrFXkI7m8U8hDvbiUXymxFis1FI+YhaEUifmKb1JbYjnmIVlwfB67vY37t4VoLZ4fmeC3l141ILtcar2PP4yx+3woMTXr5X5/c5P70R+XvCPfu1cU9eufcJn+l/o9LpFJDlFygQn17nt10EISNAKFSTJMk4bRIZ92PdoCDXjsA/XTNsMYk4f7PE5vc139cCbNd3W/dPjY3uD6/AvlOlni6F61IR71WJP42ie9icxtIuNYi4SlKwkE5ZkwD0lkth2sUDmcr4KLJFa6VSC5L8bpRyeU841oiI65EAhg7XmvIQ0TJZS24RsvGQa9lg2vYay0PKcD2POQhcxQUgDrk10irpw9Hfh2ZsyNPuOaAXg1cj2lAcrmWeP3onTcWMNPq/2MFhiZHeNGXnnDbdx0p+y3vnXWh+8x7Lyv7ehovNEoCmMaxhN8p9cpegT7ZSyP3ym6CJNxypRJDktQhAx8DYKM293OPuoOHgtvG3pf16d0Nr5fflRMD12+gV/aFoFeWd1DnKe0Bv0IBt4EkCVdPr6wHicQfSrhuVpo2j7iWyC25k2ueAjlKMV6rwHXHeK1FwlNqBxiLghk15xu1POJaIkvri4XyPOxUjG0Sx9KVwPX4yFw0mqUO05DwzCOuXwfJ9osBybaWPOQhpZwdqvNrtLkkLU1bDdcf/dnx7lduHBU7DKb++1ZgaMLFK9btdr/xrZVlv6ELGuSfBit/lrYVvagkAfRNi16y1FOoofdKlIRDDqRCOguEM2/v9/a6YWB5R7xZSbhv3L3W/cuDG3yYnH1MqVUqSpSzGLgukKUF5DtaegqlHnANvbLkqOBix0ePZqnDJCQ884Zrkko9HZBbaikAaY3X5XBNolty0sS0ZVtOui37/BmHeI22xBlNtiXmDtc5y0NGo2DPO/ExbR+kDskt5BPMMV5rwLUouQxcz2wzXG8Drtka4V9UNefXKvIQ4LqQh3hhkbgmx5KvWBZj7pHQsUN+nXK85nmeP7CHu+/3Z8U45Ux/0woMTbj7k//4gnt41Ttlv2H21UPdN371qrKvJ/3CIWyhvx8VTP8CRW6D2+og30n6mIrfp7n3SuopnI3edG55i2lpS2dd/6mH3XE2WAdG/FSoL7gYuH6A5JbeoRbILXGBooJGTMtbr6wGSbjnoUSwbrc3mBjAgZDLZe9zEpYnXEvxegFxHXet41aAi+atgItGg3Y68SHFa25Nji1Nm7bkcm5wjTYx7nzxOZbIbTB/TO1kxEnEAek7lmNBsSko2GvB9V2vQUq8NCy6OYiJ50WWErc85DSSmF8/AFyXkGwD11TRYVE4pkm41tISLcVrDfn1GuxCWYvdKL4NRFvi3ITaEsvF6+LvPfuNW4oPW/ZfKzA0MbR33PmE27ZTbo/gHeDH/+Rm171Gdv8mDuPsR+9BD/gxrweci8TrkXgNqZME8OwXJvRAc+9VKOHJU+adDN7RiGmihCfaAeYn2A7wqX9c4x5ata2u04yCa5ClHfM25bAAQlwPA0lhTHsFF6dXgq2SWrgNFgcSnvSTBlyLknAJS3jmFdeM19eBs2OoRlwr6QGXcD0J8fpihfE6aQnPvOKasec6FOxjx+uXd5xyr+I/3/prwbUgJT4ZEp4XR5bwFPOQNo3XEhcNSQBjx2vV+bWQh0wargPX5Knzb6T1zhjXn/7FCe7np4/ww1HLPbYCQxNDOvN3H3Yn/TK9910XDuvtfvKp67xn0n3IyuoBj3yHv9YoCWCSR7ph7ynHiezvqtDcKzsevbJXNtErm4TvKJFJBRDfZ2lsw9sLjoV5n1sqHDIX7t5+Nu8dWeNaIktjLzN7mmNagdsA26F9M1z73uj4mLimdJZvhutz3piIHvBxkXvANyJer3y7dBHWC3fnFiiQo6RE715st/VNa7xOQ5o2F/EaeYhPAsixapQszR/nZh8T1ySc9K+pFq8re1WM1ylI0+YV1zrykI5cNFpa7DTH6zAP6XamJbryjKjv1fK4Pv09100c7P78w9fU96U5e7cVGBocsDWb9roPfWN52U/fPmOE+4P3Tyj7epIvSGRpzZIAJnF8e5AMkhjIv6hza/vPXJbhto4yJ8K+Z/Y/+6ZBOusoeBfvX1e6VZISQwUJzxQk4WZ9+mF3lLqhZ6wT1u3vnvuz+PTZf7PE9dINJ92uw6VjRHUBsrHHNC5yOvQU4gK1CFvbOVYx7SkUptgn6psGXHMHyuI3Amla+OoW7MjpgzsHSZtmXEtkaRriNXHNpNA37vy9HfE6+RHyf6X6YwnXF6JXdmqTPeDVf7nyOyRc864YiQy5gyFp04zrpSge7kIR0bdLBnZ211ygIF4D1/6RaeGiEaUOwfY/TYM0LXYO+lKHaUp4qsZ1nvIQTDUN3AZSvNaShyxhfu1d5gr5NfIQEisnbSGu/e8/b0B3t/gLs/2nWu6xFRgaHNKv/ORV9+PHNpX99F/85rVu5vjzy76e1AsS+U4SpFJJHN/d6Cn0W/w5fdlTOChyT+Eq9BdvCPqLNUtnpSl1+L6vP+Pe3Hzg7HC/izSsU4XlRFa4XoZe2S1Br2wSJIBnT7SJB1JPoYYe8OfAbcAtrb5pwbWkMc0kegQWiWmY4bo+r3LxxTGihnrRuFC+EfF6ILaRxzRJcnkw+HFmaZSEg6PaMl6jYL8lKNhfkAAJYLO4I66Zh/jcBlpw/Rx2VLy5R2e8DqUOeZNoJtoB0pJc1hqvn8Uuxc0BaStbfdjyE9tEzg7wB5wXuSVaykO0xOswDyGuScCbloRniGsfM51Q2Vj2tZv9p1rusRUYGhxSDcB5EZJ9r0O6zzcu3pkUxjapV5Y9haP6x72boVliSJLOSlvqsFqhzMdRVgFRwvUALHJuUiBvtgRbgA95rUi8QE0ZqQDXiAP0m29qJOHgs/2ez3iMbYlr8HUw/viWJLml/731Pg7jNRdmU9ArOypyD7godahFmhZ3xfcHLRuG69PIU4trAHsq4vVFkfMQSXI5ac6OemNA8f1SHsK2UbYjpWWWh9Tn2ZA7jHnIJOwUis0dpjpeC3nIBLQlXpZiW2I1XGd1w64+dCX3biswNOjL2Ftf3kRP4XNBr2zvhEkAG3SNewiJFyWXfLsUk5jJV0yjhCd3fDAYFy2NHvDid9fz72PYhrczaAfIQmJozab9aPVZ5h0qnSPfscxiS9d69soC1/4RJE2+451sXQ8lffvLBnd2E/BfTGOrD+WWNOI6ltShOlxjZwl7wH1SKbaG3Do2fjFYc7w2yeXSyKIN1xIJoBZuA6kHXEUeojhex5Jc1obrDfsQr7eUFoO15CESrjVw0UiSy1ry68eRX+9QkV+XxvM7Zo50X3jf5aVPttBfVmBoYDB3Hzjq5v/+42U/ef1Vg903P5Qeecd2LJSfDBbKaZCUlD3BCi+QnPCdoAdcQ6/sYahrkDDQlxhi7xX71RgEY1psCc+Zn3gIkmJojsAKlSoR5SxtXLPAwgWpv1BOgyyt3PlVel7ENXplp0bulT0EXBeks7xciNK0CzRIwmF7KckwfctSEk4LrpnYkFTKx7WWxEtrD7gUrwvStJBc7hGZwsfi9ekZTX4c8uT41hXX0jvGRx4gHJCE6wsVxOvDZ6TEwzyE6lA9U+gB98em2mNJcpkKCVRKyMK0xOvdwDV5zXzTkl9L3AZsM5wemYumEK+xQ6BESpx5CPPruPdfnBSvhwDXN2SMax9PxcdZk6YXfzerf63A0ICnv/PwBveX/7m27Cc//T7Ij8xMR35EIpUqkJRg+3jfFEilyp6k8MIq9IBvCHrAtfZe8fA1SGe9hG3Tr0XeNn1WbpXFBX8VFIxxmrhmj+y9AakUD4ckgGmQ7wSnVvFPzT3goXQWfTYTUoexJeEkXA9A+9ZNGbZvacA1OWjuWxuQWyLhKpC2Rl5QrEa8Xq80Xoe45gSlNO1QcC/ENFESDtfdmxGnsjItuF4MXJdwG8ABbGOj9GNM406hDUq5DcIecDJPzgSuL4gsTSvF66wlPDXgmqSWzENKcA04M173i5xfS/GafAtzwLsQ2zrgGgekIb9+BbK0/M+3rNu3zuLaP4gzj7vhDtqTf3KT8EprPGUFhgbG8df/9yq36rVdZT/57DduKftasy8w+B31iqtcUEwbnh5JSa3Hq7n36n5UVkPpLA0SQxuxDW9lsA0vxvbS3/3uC+6R596pOtRp4jokleLBTANnx8jIvbIiZwcWhvMUbG3vgGvEgoLUYYq9slVBgje8BVyvCHAdQzpLK66nk9wSd1NjmohrJNDzMlwolzt/SXKZyjFUkIlpm4Dr5YbrwhCEnB3saWMeMjIyrl/DYuKlYEHBhSEL1bFNklzWIE3LeE1pWv/egsXrc2iZhoL9yL5x47WYXyvJQ9TGa7TbLg/ayDXm1/f+4Ww3uF/3c4BroUdWYGhgMH/+q0+5jVsPiZ/kFvNlX79ZfK3ZJx8USErSJpWq5ZjfPtNT6OtAxbhASccqSh0OgtThsLjJ6u4jpyU8/WPmNjxKHbJolKX9xT1vuO89sB4JRvkWiVRxLZClXQ5eA/4X0yj3yC2JvvWAbt/CcfGTVUkSToPUoSRNS0m4Oy7Nftt0bFxL3AYacM14TZUWf0GhpWVDklzWIHXIeE2eHH9rO3G9EPGa8n1ZWmxcSySA5KEhH01Mo+oQWf99XGuJ1xLH0iUDOrlrUJSJaXtBvkvZXH9re0HCE20u3BmbpcXGtRSvVXB2IA8JuWi04FprvN7D/Brx2o8FjNO3I16zhTRLK+K63G9+879f666/LH3FwXK/n+bzVmBowLuLvvS4277rqPjJIef1dPd87gbxtWaelMjSsiABrHbMh9BTWOgB91qtOZHnK+gBlySGtEgdhhJDvJbfiG14MSTh1m8/5H7hj5/CEXAQ5awiLVxLpFIXQzudjMgxTcQ1XDMfF6gecXPCQhIdSmdpwDUXX9xh5UvTcgy5bZoqIFmbNlyPwt3dyZE5Ow4gXjOR9hcUhXhNboPIuDZp2tpmSFRcg0tk+yHvYo9D1pCHFHDNHnDv0IhrciyRxyemLUcxb1MguZwlF02lc7/rVbQDeD7j4ms2etMHRZA6jIlriWNJA67JscQbiye9Xf7E9a3YkcObeDFtmSRNi50ebNGMbaKUOFpJqLKXtZ3DtfzLn3n/5e69M0bKL+b8WSswNDCAN//+Urf/wHHxkxeP6Ot+9IkZ4muNPimSlKAX9QYFOuBS7xWPa0jkXtk16C9eG/QXa5E6DNsBeH2fElHC8xgaDm/45MMV4ZkGriVSKeJGI64L3AYgUmJiGNMkCc+sewrLnX+Ia75vEqQOL44kdWi47jhSYeLFd2iN1wOxyJmroL84bAfgXbGY0rSG64641pqHSNwGWuM1cT0Zhf2LscMzhqnCdYYkgJV8LeFaA7eBhGsWpW5UEK/DPIT59bXYsXyJUlz/t0Vj3K/Pu6QSDHL7mhUYGhi6ShKVV14y0P3D/5jSwLfKH5FISrIm35GPzLklUGXgnV7f2HrArdoxjcRlJMTxTYvEkCR1qGEb3rSPP+jexe2fcioS7YTrB3CH94Avs4qawlWQWB0buQdckoQzaVp/lnd8bLg+55MOPeDA9dXAdWxuA0rTrg56ZdXEa2yz3QNWed8sXp/2hpY8ZPHak44s9r5p4OwoSC6Ds8NveYzRA+77pfj4EcN1wRWvgq/jZa2cHUq5wzTHa60SnsxD/Bby4jzkv++ddaH7zHsv859qmcdWYGhgKGd+ErJ+wQWt+DXXTRzs/vzDyUhUaiFLK56b/6+0UB6Dre1XR97avutMr6zfe6VFYohSdeH20pGQGJoWWWKIyiSzPokCAwe4NE87O+RJ4ppkaSsCUiktiZfUU8jCAklBY5oodYgtkosU8EFolYQ7egLbfT+VHa4L8ZoLZW8OaeGikXCtgbNDjNeYardH4OwI5/fT2AJMbXffLkLf/JTIffNZx2u2Y7Hd0DctuJbyEC2cHeQ28E0Lz4nUDqBBwjNrXG8hFw3muG9sE1uoQGZV4g7TgGtK0z4WSC5rkRJ/Gq1IW4NWJA35NVtGb/hd5CGll5KzsJs7aZj70/9n4tm/W+mBFRgaGM3pvNtbBiwLpw13X/ylKxr41tKP7MUdVCaFfq8sNaYXoleWPVgxbRmSjS2Bvv1wbB2fEbn3qiAJhx5wSg0VjXcPbkEPeHQJT0k6C+0AsxW0uXBL2R98eymKZqW7Poo+5L+J4foM+U7YK0uyNJJLxTStPeCsZd77WkdcUxqvX2ypw7dPuvV7vQmHAdQiTUupwz/MCteI11zs+NeFWCSA4RzS2ivLcCNJ094MKdN+ETg7fL+tFnB9PrYAz1awBZjbpr/4N49lEq/3A9cPh3kI4jS5DWLHa4ljSUMeQlxTmta/nDIPoURvbAnP55CHvBlKeCrJQzLFNcgtyUXjx2vm1SwuRKY2cM9iobw5WChr4Owo4PoN4NqryRTya+QhsaXEJVxrkfCslodMuvQ89+3fmORfflrmsRUYGhjKqR97sAwVnnMfuGWU+53bxzfwrec+wnT9biwowgsUF6OcNDFtzTvgNthVuhDV2nvF4DdVgXTW6/AXe+d90yKdVWQE/9o/PO6O4BZCOXQlgWuef9gDzjGijnMM8h1/PCRca+6VnYFdL7GlDl/die2l2wNcY2HIgl5si41rkqXNAlmaxevySAh7ZRkLuDuAd1NjmmYJz6KSVMx4PQt5CIstMU2K11rykJCzQ42EJ+I1e+d9440XDdK0WcdriduAxcPYuJY4lrTgWo7XnRGvcbGLaKKEpxZcn1H+Y7w+yi06go0f1d/98+9ME17J/1NWYKhzDN/Zf9Td/oXHy37qd352vPvAjaPKvl7LCx0uUPjQJHAbxCLfKR4ze8BXowLORLBoWnrAixeo4nHxXy2ScM8E2/C0bC/1lUn+/396wh06hD3lZSwtXF8LEsDRkUgAi6cq4boPLlBkao5tknSWBkm4gjRtgGst0lmPQ1p0B6S9aNFwjXg9OjIXjcTZoQbX2O2xD7uZfNMQr7cCN4zX/p1NLfHalzrMAtchxxJHi6StGuL1c0o5lqR4fdn5nd0EcJ3ENOI6lDrUguus85AQ1xyXayKSABZxIcVrLVw0D2GhvA+7PnzTGq+1tCL5uP6zf3rSHTx0WhiA15Zza6hTbviQPu4/PnO979qWeWwFhjqH8rn1e93/++fLy37qzl+d6OZfPazs69VekHoKx6MH/MrIPeDkDmDvnp94aVlQSNwGGqQOJekstrlQwpNBMKYtR5vLJq/N5Zvff9odOChLr/I408D1OOB6YmRc7wCuKZXp41rLBUrqldUgnVflivUAAEAASURBVHUQiQaJMH2fcXvpArRvRcd1IAmXOq4FsjQN8ZqcHY/j2HzrroSzQ2u8FqVpiWu0A3SPuz50oeJO6rhGAYha8r5pxbUWjiWt8ZoEmFxU+/GaO6wYr2NL02aehyiO14yL/hhpyUP8hXIxHmjIQ4hrEheH7bbMr3t0LR5pnH9XoMXuLa919H/94Bm3Z+8R8WAGDujq7v/CjeJreX/SCgx1juDi57a5z313TdlPfed3prqJowaUfb3SC09hobPtzJ234vu0kO8sRk+hz23ABcVc9sriTm9MMwnP+r0vSQx9859RYDhQvsDQFK5xR3BbQJamAdfk7CCuS1qR4M55Y7u4PpG5DSRca+E2kLaXcts0jy+mSYo7qeJaitcgbZ2qgLQ1jNdcUJDbIDYXTbhQJl6GKJaEux5tLkNxfDGNbUhsR/ItTVxL5JZsx5o+Im5VnDuMF6MH/KTnCuYhN5FjSWG8Jm6In9h2D7hojnmk5Lx7SqnDoZHjddZ5iIhrxOvpkeP1ceCanB1+fs0x0sCxZPG6/tn7MmL1q0Er0l/+8Fm3e/ch8cuo3Lbs6zeLr+X9SSsw1DmCn/rHNe6hVdvKfuq+L85y5/ftUfb1ci+sEkgAz+vZyc1BUhjbwgUFq6wzcYEioVJMky5QWrgN7hckhjRIeG6gJByw5lfKuVXyi99+zB332XuCgW0U15rJ0ki+c9RLvHjKTKJjcxtICwotknASrjVsL90IZZJVgTJJqrjGHFqvlCyNxIlHvc0LvA89EwS8seO1VADSHK+pHBNbmlZSJqHizh/+dTrxWjNZWpiHFOI1cD0ich4i4bo/brxwgRjbHsAdXu6k9G0i2jXGoW0jpm1EHrISMTRU3EkrD3kBHFhv5IQ7jOMyDXnIyMhcNCbhWf8MIa65lgvz6298/ym3e2/5G3jPfuOW+n8sB5+wAkOdg/SlH7/q/v2JTWU/9cRXb3Ld66RXlkil1PTKYiv0PjBJ+8Z2DW6XjGmapbMkSThe0Hlhj2l7MI6UzvKDH6F6O5iT5/zeo+7IkfIcDEnhWgup1AMoAB1Q2FNICc/lSqUOJe30ceAZmIj+1ZhWFteQOpzz2RRwLZC29gW55TwF5JYSrq9A3Lk08oJiExKvAq49oGjpAWdM3B20A2iQphWVpDDVFiFe35hCvF4HjqXnA24DLfG6SG7pwcddORh5CP6LaaLUIQr2CxXIBz+KLfe70QLomwYp8bLxOqU8ZB3i9fMBybaa/FrgNtDAsbQZO06fDTiWtMRrUcITeQhvdMQ0xutH2DrqHUQhv0Ye8jN3PuG27ZRbJEjI8KztYPC81sYPv/PwBve//vN1EAPLd+/rXYixJYI68j4qNfdekbjs2sgTeT8lhhCYw4l8mwKJIUkSToN0FvvUeGeTbQG+zcWiaCAWRz/7lSfd5ncOJYZriSxNM2fHKNwtmBx5CzBJlB4WuA0WoQecW4FjmrS9dDi2l1LNIqaxWMY7m4Zr56ReWQ1cNJQ6fEgobGqQOtQqTctrGxV3/E1l3DZdVNxJOl4zD3kSC1L+RtEsDyl6Qv6XBWqSOoY94MR1t8jxWsxDFMRrph+FPMTbYUXIMQ8ZkEIe8g4KLGw99m+qaMa1ijwE8fphIV5TwrOLFx/kWZHus5I07QXYwcQdejGtEK9D5T8cUBHXv/7XK9yqV/eIh9i5cyf3zNduFl/L+5O2g6HOEWSB4S//cy1oQPFBoiqwegoMh7F1jVuOSy5Q+F6y1/eM3FMo9l6hZ+8G9FrHNqmnsJh4xTy257E1al2wbVqrxBAvuFNGdHajzig4vPerT7u3th5MBtdIvO7HBeqUV8zghWk+SaUik+9oxjWlaf2Fsr+giInrF3BX8w3c3fRNi4RnqLiTJq4LJIBcUHiuKOAaC4rYZGkSZ4eWHnCt0rSSJNxAyC/OhVxdbFuM9i2SmPk2mfH6jCRckvGa7TRLgh5w5LwFLpreuBsf00ISQB7LMCworou8oOBxSPGanAtDInMbiLhGuy05s2JbKHXI45kEXF+cEq7JRePn1wVcI7+mOkNMWx6QEfNYLF5XHpG84dqP1x/9u9XumRd3iifYDdscnsTO91Y0KzDUOapnCwwln2OwOp0M1FNgkHoKSb4zLDKplNhTiOryzQq2AIcSQ1xQ8AJl0lklgCz5g9XovcEWYG6Z5tbpop1NWItPFP41XJe4I8U/pMRLg4RnYXspCYu8tY4a6Sws9sP2rcuwZZpbTIvWDrjWzNnxn6+AvKw4GGf+1YDr9eSiYSuSZ+Q2WACC19gmKUmlGq9RzPBJAHnzhHcEL4ich0gcS1q4aJbgxtAhFNLPGnx2DVpHL4ksTasZ11nnIRLHErnDNOJ6AApANykoAIUFe+JbQ7yWJDy1xGsJ12EeYgWGs5HSHlTygFxgOPeJWgsMlHk7gK1Ivl2F1oOxkS9QJJVaKZCl3aagp1BKvFRIZ2EbHrcn+6ZZOktScJAXYufOqFZcSySAGkilJFxruUBJuNYg4UlpWkpn+aZleynbyjookwyAgsPw0gVimrjWQNq6Cb2yK3A3zN8CrKVXVitnByU8Q0k4zfGaZG8kffMtKVxLnB2UDmb8iWkSCaCWeC1xLKnIQ4hryDD6WaWWeC1JeF4EXE9pM1wXOJa2lBY2NcdrDbgmPw55F/xrHFuQbge3QWyT8hAJ11ZgiD1SOfn9JAoMIknJQJCUXBD3oi5NZJKUkFSKW8timjSRpcQr62OkdBYlhvxteNzazt0esSU8JWWSwbgrNQtV/NCSSFilxIt3dKKT7+ACxcVOeIFir2x0bgP0h5KvwrcLtUgdBpJwjAHEdWypQxHX2JZMqczQksD1UhRZdgVkaRpIABmvHwOu/dhDPN+BxCtyuHZPo+ixdX8prjXEa7YgFSThvBxfi4Qn1X06KJOgZWO20LKRBK4fA653BrjWwLFUjtySuI5tEhfNCAVSh5RavpdtLgGueVc8eh7y9km3YW9pLCgnuZwWri9RkF8XSAADbgO22DG/jp2HSPm1Bu4wdondRy4aD9da8uvVaB1dH7SODka8niXEayswxI7cOfn9ZgsMEqmUBrI0uj/slWXiNRtJ+yBs34ppz+EC9WaNF6isj1Pa2j4D20tjS8K9Bi1ebjH1rR/aXG4p0+bS7IVd6pW9AInXzNgkgHBAgQTQuxHPCxRxfR4uBjGtngVF1scZbi9lcYa4ZjId00TprBRxLcVrLT3gdwmkUjdifpO0NaZRiYCKBL5xrpEnJ7ZJ8VqDJNxaxOs1Qbzui5aNeWVaNpqN1xJZmlpcA84qOJYEXDM3ulHB1vb7IEd5JJCj1CC5/NoO5CH4z7dU8xCB28Bw7Xu/42MxXqNgP0co2Hf8dLrPhJLL/LVpyENGRpamfV1SkqoQr63AkC5OWubbmykwvIgEgpKUvmkhS5MSL5+kxD/mLB9LiZcWiaEH0eZChnTfrsD20ksjby/dgjuHz2ALORfSRSMJHVmAy1kzCatEvkNG6JvKFDPKHUMaz0tkaZOGg1TqDLllGr9Zy3dK0rRapA5FXCuQOnwb7QBc8Ps7UaptL20G12sgbbY20E5XQwKIBQVJgn1TG6+ReN1aZqHsH3/aj6k8RKUW3zRIwhHXjNe+VVPcaQbXUrzWkoeE8ZpzfcrIc+SWvo+yfCz1gKvhohFwfTl4aPhfTMsa1xJnh5p4HZC2EteM17HzkDdwfXvBJDzrmiaN4NoKDHW5uH3f3GiBoXCB4kT28pteYGheoIHbANts96B/z7eQVMp/LavHW5F4PY0t5P5+Xy09hVol4UTpLBQaqik4NJqwklRqFTg7vFqG09IrS8lHbkv0TUNPYQHXdS4o/HNI87FWXB/EYpqFjxIFB+TPC6BMwphQzprBdUgCqGVBIXF2qIjXaPUpxGtvMLTE6ydwHdketCKNAmfH5ICzwzv0TB4WcB0oSbEVie1baeB6A+I1OZY0xmtKPoakrRpwrZmLRorXGnB9APG6IOHp3U9jG0A1Cc9G43UB1+A28G+qWB5SOYRRmpYSnr5ZvPa90fFxIb8OFdJqwLUVGDr60p4RPNBIgWEnFu+8EPh33roiKb6jwh1l4adTeUoi35FIAFP58QpfegTNV1SMKOkvrmGhXOErE3tJkjrUIjEUKpPwgktpUfaGVbJGLuwFzg72FHpfrIUsTeop1NADTkk4STqLC+XYEp4r0Ir0VtCKpGV7adi+RVzXIgnXCK4Zr8lt4Ft3FIMXKSgGS7hWE6+5UA4WFAXJ5chSh3mL15Rg5PWkkjWC613ANfmffNMSryXODg24luI1Yw9xHVvqUIrXWvMQYo55SDUJz0ZwzTzkUeQhvmnJr7mA50LeNw0cS2ynuR8FvRLODuIaO8144zOm1cOxlPVxhtK0/P1acG0FhqxHKqe/V2+B4SRiCxd9/kTmBUoDCeBzIJV6c4+XEWJMzkfvFfvTY1u4UObxaJAY0izhKSk4kGCxFumsei/sJN0hWVpIvkNSKUqJxTSR20AzrrGguCByT+HL6JMlv4FvWqSzlmB76SGyPXlWq4JDQ7gGueUJL1/lHWW2+0QnS0O83qA1XoMP4lgpfFTEa80SnqHkMuGdFq6Zh7CfOYzXc8GLwXke08R4jYK4RG6Z9XGGXDTM3WaAVyh2vNach3TANXx2NVrsxtTQOlpvvOYNKC76iO+icYxuBK7Z9hPTJBJALfm1iGvmIVUKm2n7U8R1907uZhT0YlsHXOOArkZLdC24tgJD7NHLye/XW2CQyHemQpqH1fmYJvWA91HSKystlDVIHW7aB0k43OX1d6JU6wHPaowlSThKnlL6tBar98Ie4poX9SngNriwf22/V8sxNfKeN0Au9wLIuHxTg2vsyOGW6LMGnxVwXUPidfYzKTwoSMJh27RvanCNO1N7cIfKt1RxjWIGd0+dNYzRNGyj5+6XmCZx0Wjh7Lg/xDUcpSFeU5p2hVJJON5x5Z1X38YgXrPAUIvVG68lffsp6AG/KHK8lsjSKpEA1uKbpN7zIHbk7A84O67EQnn8+bWNUVLHEX7PZuD6WaW4ltq3xgHXEzPE9VTgOnYeQu4ecvj4piVea5Wm3YyW6GeD1lEteYgUr+uRErcCgz8T7HFZD9RTYMgTqZSW3itpImuRGKIMY7gFWIMk3DMgvns7kISrVzqrnoRV6pXVQCpFuUetPeCSJJwKCU8k0I9gq6RfNKM0rQZJOEnBoV7FnWZxrYUEMCS31BKvJcnlehbKZS+0Tb5AMkdysPi4Zg84tdPjLg9dgaiURLy+8c4hd+jVavXg+mEUM/YGxQwN8Voiba1Gblmrf5p9nxSvR4Oz49rInB2S1CHjNQmcKXkY00hUyjH1jTs9ZuLOeK1WD66lPOQyFH8moAgU01TnIchh2QLom4p4Da6sQrz2DoxtLrehdZT4jmlSfl2vhKcVGGKOYI5+u9YCg8RtoIF85xDuoLKC6XMbcAvwApBKUWkgponSWUi8rqsj8Urj+BmOO0gd4jlu4YwtdUgGYDIB+9aIdFatF/YnwCVC0ivfNOCajPrEtb9VkjKrBbK0yBcoUcKzzsTL93dSjzmK5Dbw2wGYo2qQOuQuFO5G8W0Qtk1z62s91gyuL4Z2+qQL4oJHIm0lrheMic/ZoTVeEx+hhCefI3aIoZiWlDJJM7i+CLtxpmAXZUw7iALQA0EBqJCHKOCieRYF+81BAUgLF03YOsqdgxokPKU8pBFlkmZwrSEPKeTXwHXJjagz+XUl0tYs5qKEazWcHUGLHXGtQUpcykMawbUVGLJAeAv8Ri0Fhhd3OrchSI5JbkMykNgmXaBqIZVK+7hFiSH00M1VoDEdSmfRFxok4ZKUzqrlwv7iDuA66AEfggLQDZELQByPsKeQz5EEsBpZGt+XpuVJEo5+mETprMjbpiVcNypNWwuu12x/120MyC21xGuR3JJkabEXyigArQ2ucZqlaa9F+9boyNK0Eq4bVSbJO67FPAS4HhoZ16rzkECalgViSi7HxvU6xIHng7bEzHGtJA8Jcc1rKm+QDcPxxTQJ12ridYBr+ulatNSMRmtNTJOU/xrFtRUYYo5kjn67WoHh7z95o3tjT+kJaekplHqvaiUpKT2jZP+i1GEoCadGwlPoAVchnYVtbk9iu5u/l6AZRvBqCauIa5Dv3KKAfEfi7LgK5DtjI3MbFCQ8tUpnCdumNeB6B3D9eMh0jzyDW9sbsUZw3R+FzZsVFDYlXNdKAtiIr2r9zAb0gK8krr0PNJp4eV+RyEOpB5w98+ydj2k7sOuLSlK+NdPm0hCuQb5LcunYJnF2XIOF8iWRC0BvgWOJu818XGvOQ+rhNkhrzJOW8Gw1XGuJ16sCzg4tEp5ivEbediXyt5iWdLy2AkPM0czRb1crMHzq12a7rmz2PGNaSEq09sruxoKC3Aa+aekB1yoJd/SEc/evK2UE74ysiIt9Eho2YtUu7J/6MHDtNcNpxvVobG2/NvLWdkrCsY/X7wFvZkHRyJiW+4zUvnUR+ounRO4vPo6OCCqT+Io7bAfgoqhvSrj+NOJ1Fy9es02M/cyxTYzXwPXVkXFdkKZlYdOrbDZT2EzSzxKuR/br5KaB9T+mEdeLBWUSMqOnheswXmuJPUsRE3cFLXZjlOKalzsWNhu7oiaHOFHqEG0uJAuPaceQthHXJfE64zxEC66ZwzKX9U0DtwHnGuecb93O4Np/LsZjSZq2Xu6wNI67kIdQ+c8bzkIegpsOfXFTrRGzAkMjXmvDz1QtMHgLMZKUUN+eEzqmJUGWlsbxcwJzS5l/gWLvlQYJT1E6S4nU4X0h0z0GZwaIlEg806jVU2DgemwhODu8ekOjP9vU5yRc10sq1dQBlPkwRQgKEp7edZ0jQ6lDk/As4zQ8LW0vnQ5cj8gI1wVSKeK68WlU/uTqeEXiNlCBaxaAyNnhJV6FeI3Ei7v0YpokuUx+HPanxzYpXk/H4nBEE8ok9cRr4nkBimYa85ALUACaGbkARD6qe1HYPO7Fa2KG8ZrbyGPaaqhWrQ/at84HrrVKeE7HWGaVhzD/IHeYRlxr4Owgg9E94DYIpWlvQkzkLr2YxpYattb41gh3mP/5pB5L8brZ/NoKDEmNTot/T60FBiZes9BTyItBTFsj9MpqnsiUOrwo8lZJSTqr0R7wpMeexFgHwLjr2xXY/svt7c1YrQkrcX29hh5wkFtSCsq3gZhr1HWPbR0uUPAZ76KObGKhnMQ5SdJZWtq3JEm4KwYD1/ivGasH1xpIpcR4DVzXS27ZjM/KfVaSOlQrCYc7TfMUtG9JuE5CmaQeXJOLhpwiMU0iS2uEtDWNc+iAa7iqkIdE5qIheTPJE33jHVQNuJbabbPOQ8hpNjhyfi1yLGnNQwAk7nq5sInCpo/FRh9LuFadXyeQh1iBoVG0tNnnaikwcMstydJik++IpFK4QM1XkHhJEkMaesA1Swyxh5e9Yb5djK3tkxLY2l5rwqqBfGcDODtWvV2aePVWjGvKZlE+K6ZJknBa2lwkXCfV5lIrrq8BqRRlQ2OaGK/RGjJ/bPyi2UPg7NinUOpQitdapA4lXCelTJInXCdJApj0/JSkxC/DgoJFoJi2DZLLbI3wTUs7ADlyyJXjWzviWuJY0sJFI+XXGqRppXjdDri2AoMfLexxWQ/UUmCYMKyrClKpJ3CB8ntltUxkqVdWg8QQpbMeRCKtUWJoOaSzNgXSWUlKDNWSsF4+pKubiIVYTCO3AfvTfeuOPcCLxsVfhGmV8CzgmtJZXk7INhdKeMbeXroCW4DfCrYAJ7m9tBZcX4F4zbtvMY1kaYyLGuO1VlxTmvb+UBIOwzhfgYTnCpAFkjTQt3aM1yyIh3mIFs4OCde8uxub20DCNTmWWGhkUTimiXkIdsdwV2MSVku8njAU+XVkEsCd5FgK8xC4YJEC/h6ROwytSFMjtyKRO2wJOTu8sEhc3wpck0w1pknxOsk8xAoMMUc3R79drcDwzf9vjrv+4m5Rz6hAKhX0ynIis6ewH+70xrQVWCi/FSyUtUgdhj3gbAegxNDQyNtLX95+yr26s/SOPXv5k2QEr3Zh/+bvANej4uOaPeDhBUoDrldtPaVWwlPCtYbtpa/sOOX4n2+Z4/q3gevRCnAdklsi9jRDAuj7tJnHIq4RDzVILkvStBok4VTgWkkeEpK28ppKMuJGyS2bwbL/WQnXg4FrtrXGtjBe83goJc4FT0wTpQ7Ry39Tgoo7VfMQpbhulow4qXGVcK1FcjnENWPBDBQ9yC8U07KI11ZgiDnCOfrtagWGJ756k+semf0unMh0b7OkUkkMkTSRWfDQKnU4EXc1x0Xe2r7xjCSc7/80pLOqXdg14DrsleXdXl6gmiFL8/3a6ONXUAB6JSgAqcE1NKYP4k7vWcO1/GrgekxkCc+NaHNZGbS5tCuuQ86OAq5Jbom7TjGNRU0WN31Tg+t1wDV2nPmmQZp20xmpQ/+40pCEy0O8FnGtIF6/BlxzseybFi4aScJTax6SRotdHnFNHE1DS/TIyJwdUn6ddMHenzP1PJY4OyZiF8q4yHmI1G6bRry2AkM9aGnj92ovMEgTWUMP+JYD77plm0q3tqdxgWoEmo+iLYLya75xAXZ15G14PCZKHfotG2S6vyOFbXjaL+wiWZoCboPNWFCQ9d83NbiWpLMUSMLtAUnpI9ja7htbNRalIAmXR1wnQZbm+7aRx1uA62VKcS1JeJI/gzwaMW0P4jXl6vw2F7YDsBWpS8K1Iu24ljg7NOQh5KJ5Gq1IvHtaNC2to1pxvfdMvPYzJN5DuwPxOmlTj2tct/YFJNsauA2keK0Z10lxLDWDP+bXzP19Y7xmm4sXHvyXG35sBYaGXddeH9RcYGCv43aQA/mmgdvgAO6gcoHoJ15MuG7TKp2FLVszcQcxprFf/h5smz7hxT8mRXOxHTEN6SzNF3bNuCaZkl8A0sJtIEl4Uj6McksxjdGJO6x8STji+kbgemAKknCacc0eXvby+pYUWZr/nfU+3o94TfK7kniNBYUGzg4J1xokPOnjuwNc8znKZFIuM2nTjGuJ20BLHtIhXmNoKHXIxVhMW45iHne/+KZBwpNHdNerpW2JPMa5aLdtt3gt5iHg7JgMZYaYxnj9sNI8RJJcTpKLphm/38U2ci+/5nelhWsrMDQzUm30Wa0FBomkRMtEDls2uKDQ0AP+IrZJvh5sbdcqnUWfTaaEZ0rb8LQmrCtBArgxIAHU0lN4NzSmyXdSNI6RCkk4SJtRCso3rbhmAkupw3bDtUSWpgXXWuP1GsXStB3at4DrKcD1KIvXTk0egnh9zAuLjNcaOJYkbgMt8Vpqc5kMXF+ckpS41jxEdX4t4FpDfi3heiA4O3iTLLZ1iNdIRKaMTC9eW4Eh9ojn5Pc1Fhg0917dL/TKXouFcmwJT1FiSInU4cPYtrU3aNlIexuexgt7FuSWjYadJeA2OORzG+CLNEh4ilKHSnAdQzpLI641x+sw8eL80IrrNHplG4kHUrxOW3JZI67FeI0Fxc0KFhRSvGYLZGwumvXgWFq9xat6AIBacC3Fa8P16QihhdtAwvUk5NdpFYBqjY8bznCHoYZ31rTg+hHk12xn8y1tXFuBwfe2PS7rAW0FhrcwkVcovUBJE3k8uA1iSwxRw5nbOP0twFr61SQJz4uwDW9KytvwtCWsEq41cxuQrIikRTGN7VFPgufExzW5DW5PoVe23vOUpLPaEddZkQDWOz58/yNo2dgTtGxowDWlaclFU4Jr3AS7PQUumnr9JuF6JMg5p6UsCWfxuvaRkvKQseDsuCoyZ8du4HqpUlxbHnIaX1IeonmhPA641iAlzvY/fwmvJQ8RcT0A+fXwdHdVWIGh9njd1u/UVGDgXW4mhX7iRRJAkpTEXeo49zQWOltBqOQbWdGnp5x4+b8nPS5IeJLbwLtpQImhW9BT2KebX2+VPp3uc5LEUFbSWZoSVpIo8a6gj2tyG3BBQbnVmJYrXMNXlDLtG1maVsL1+ehLn43+9LRNE65JlkZSKfKrFI1kaQtJAhg5YD+DeE0CPN+yWCj7vyc9piQtWzZOevGaW9spjce7iDFtNaRp1+/xDgwHcz6kDmdnIHWoDddcxJfEawwNC5ux4zWJpUkw7ZsGbgPmH5Tw9PMQLbhehbbEDUFbYjvGa97lJvFmGK8L+XXc0KM2vy6La1zr+2M3U0xbtQ1S4rtL43VW+bUVGGKOfI5+W1OBISSV4gWKpFKDIk/kF6QecBwTidxiW9hTyOPRIDEkSWf1RQI9DwvELExTwnoXegr9xIvnPwdJ+3lI3mPac1hQvBksKLT2ytJPGqRpX9sBSTj85xsLHvPGtCGuA1IpFjZngXQzNq41x+t74bOjARHXNPhsZGTtdHL3kMPHt3bFdchFQ5/wWh89D8GC4o1gQaE5XpOzIy0uGh+nlR6L0rTIQ3gDJgtTlYcI8ZrFQ424JpEsc//Y1iG/Rso2FS0bF6bERVPr+caO11ZgqHWk2vx9WgoMYa8s7x6kSb5T67CvwwX9eVzYfePOgFvHxg9+Uk9h2twGvh/KPeadQ95B9C3rlg0tF/bFa0+6wydK7zhNIqlU5AsUSRO5EPNNC64fBIP0/kA664rBnd2l+C+mEddk/ffvbGbd5qIG1+DsOBxwdmjoleUC7AWt8Rr8PfuOlcaCCcD0ZZFxzZ15zwS4btt4LeCaZMSjUiIBrDWekWNp9dul8bo38pD5WvOQ8zu7yyG7HNOkPKRH107YYZVd7qY5XmvgoinEa+YhXljsg4L9rRkV7CvhU3N+HeYhWcdrKzBUQo69dtYDGgoMUk9h2iQlZx1Q4cE7h951T0Eq019QZD2Ryx2eWuksJNBcIPo+iyHhqeHCLvWAa8C1tKDIOvEqh+vH0cO7A/PONw1ShwexmCauQwnPBWOzlYRTgWuBVEoDF8074Owgh4Afe7TEa6lXVoPUIYuf92NR7W+bZntLQeoww/Wh4dqPeKWPyUVDSUHfqG+vgbNDax5yEHnIA2EeQlxbvC7ASGu81ozrC8EdNjVl7jB/jkuPC3kICtVhvJ4/pqvr0VX6RDrPWYEhHb+23LfGLjBwAb8NF1DfNExkbmNdjJ5CfyJzCzC3+PPOQUyTpA7VSGfhjv2x4I79LGzDY29YlhY7YZXI0lTg+oRzS9aV9oAbrqsjM2zf4icM16f9diG4aKZG5qI5hnh93xuI195NXvbLF7hoInN2SJJwQ/p0cjdclN2d1HIIDyU8WZy5HvF6GI4vS9MYr0diQTEt8oKCuF4MXPucHSwA3UQuGoV5iBZpWqnNhVKHPL4sLTqupfxaS7wO82sMzTzsyOmNXSYxTcqvteD6nkDCk36ilDjz/yzNCgxZejvHvxWzwBCTfKfakIWJF98/ExP5gowncnickiTcAPBBkCQstoUSnkxWr72gs7sETMBZW8wLu8RtkBVZWjU/S7iegR7w4ZF7wCVc98fC8GYFWyWXoGh2yCuatSuuRXLLjEgAq+G6Q68sPjATuL4gMq5fBV/HywFnR78Me8Ar+Y07F3hHzLeJ2NY+Dtvbs7aY8Vokt8yItLWanzvEa6wjSCw9QiGuNUsdXgOFjXbLQ0RcK4nX9+KaetS7pnIeqMivwUXzSsBFoxbXiAXXQOkrBq4rFRi6gun5qa/eVC205fL1Tu/CcnnkkQ46VoFBIinRkng9gC1IB4JeWUpRcltZTNsECc/lgYRn1j3g5c7/UbATU6bKt5jSWbES1rXgNlgTcBtkSW7p+z98zC2jBwJuA0pAUQoqpklSh6pxjThwVSQJz1i4fh24fjHAtRbOjgewUD4QLpQxPpSkjGmbwW3wLLgN/P5iLbgmmzzlMn0bA39d3Wa4luK16jwEBaDxEQpAPk627AMXzRbg2jMtuLY85PSgSPl1lqStHjQ6PJQ4lq4ED834yFw0Iq6xS+g2BTwnUhv5GORtV0eSprUCQwdY2xOSB2IUGLaiJYIkgH4pSEuvLPXJdwY94JcM7OyuwZ34mCZKeOKQFkLqkBwHMU2SOuQdcd4Zj2UxFmISt0F3bPdblCGpVDl/U8d5Z7CgGI0LFImeYlpZ6SxKwsU8MPw2iZS27C9dhLUrrjnHfdMSr6WF8mjEa+6cimmSNC0ll2+DhGfkHcAirrnTgzs+YpmaeA0XULYvtpFzgdwLvmnA9X4U8h4Oe8CRfzAPoURtTJPykHbEtQZyy3I4kPJrDRxLLFA/CFz7axLG6QXAdbfIuGYxj8UP32LjulKBoRsCwZO2g8EfrvZ9nHWBgeQ7BbI0b76wV/Y2TOTukScy7zZtDhYUw5B4XRcx8SoiU+oppIwP5XxiGhU2qLTh20C0bMyN3LKRdcJ66MwFijr3RWPhh2zIPSP3yi4HrjdpxTWks457a1eTpi2iR/43a1wX4jVIHX1ugxgkgJI3liPx4u4X3zTHaw1Sh9yFwt0ovrVrvOZOxRKOJS4oQAKYJVmaPw7FxxJnhxaOpVBymfGa3AaDI+chVI4JJTzbEdciuSVxjYJ9ZCoa7L5VHK+FPEQDrtcA12uD/Joy0JQ5j2lWYIjp/Rz9dtYFhg49hfBVDPKdcIheQt/Va+i/8k1L71Uo4clj1CB1+CYC33NKJeEW3vmU27HzkD+cJY+fQIW1e4K3XCRcXwfOjqzJ0kpOEn9oXVDwOEVcQxLu4siScOuwAHs+bAdQIp218M6ngeuD4TCf/TsLXJMEcGjGZGlnT/DMAyleD8QiZ64C7fQQ1zE5O3y/SfFai9ShxevTI8X+71eCPETDQplHtwQFmUNB62gsboMQ16uRh2Adfdb04DpuvCaBM2+QZU1ueXYgzjwQ47WCG1E8PImL5lrkIaMj5yGa4/UHvrXavbZuZzjMhb9tB4PolvZ8MssCg9Qryx4i9hLFtLdwF4x3DXzT0lMoafFqlRjSsm2a0llf/O6zbtfubBZiIbklccQe/bGRe8A3oAC0cisSLy/z6oXdFAuU9hRqkPDcgTaSx9FO4psWXFPq8A//IUNcCySAGnD9FrhoVgRcNFoWFJI0LXvmr0TvfEzbeeQ0rv0twFpwnXW8XgJcc8eZb1chDyFnUEzjbpwVb5du09aSh0jcBuQ4mRiJs6M4Tprjdda47rBQxnV/IngNYpC2FseH/25EvF4ZxGvNeQg5qchNFdO2o02b13s/XrNV43bsRIltxPU3f/K8e3PDLvFQrMAguqU9n8yqwCAlXjFJpYqjvRuJ11JsAfbTjW6Yw4vQK+uty4pvz/RfSTt9BCSGyCId0yjhuSSQztIiCVeUGPqrHy7PpMAg9YDHJN8p4oK4fhS49o0XKPYX+wUH//WsHku41iDheRwbmO6DdJYvCUdc30xJuMj7S1eiALoRC5CscC2RSl0yoJO7Znjc2ENcs4/Xb9nQknhJkssapA5J1n4vtgD7uGYMIK77xcY1FtQb92aHa17rdwFDvmngWNoD8t1HQMLrGzk7mIcwBsU0SXJZA64lCU8teUixzSWreM1rPWOjb2PARXN1ZC4a4vpR4No/Mi3xWuLsoDrL9Mgt0cxDFiMPOeFtqGa8vgXttlqkaf958QtWYPAnmz2WPZBFgWEZCMK2gFHbt9gkJTwW9l8y8eKE9o38AdyWGNPYesAtUr5pljosSGeh+BHTfKnDLC7sImcHZEzZGhHTyANxLy9QXr7KrZJzcFzcRh7TJOmswdhuPytyTyF9Ekpn8aI+DQvqEf3j+syXOswC1xK5pQZuA8ZrtiKFiRe5aAZFjtcSFw35cXhssY3XOBaFfZs+QgGu0Qrw8hlJuCxwLcVrDXkI71LeLeEaMXFQ5Hj9HApAb6IA5BuP6UYFuJakabVJLmeBayleq8A1QEPusDBeEzux8+sX0AL5RsBFoxnX2uK1FRj8iGiPy3og7QKD2AMOHfC5uHsS28JeWS4opmBBwbupMW0tEq81gRavFokhScLzCmz/5fb2mBZKHaZ9YRdxjcRLQw94mHipwTUu6B0kPHEHdR4q87GNDNL7g/5iNbhGkl+8BRQD15oTrykjOruL+seNPSSXI8mcb32UcHZILXYTEK8vixyvN2M3zrNeW2LauOb1lNdV37RwG4Txmsc4SQEXDRdgXIj5phnXV6Bd49LIbYmZ4xrjQ6lV3wahYH+jgoL94rUn3WFun/JsMuL1qNjxWsC1lvxaitc68pBTIOk8hzMrMHigtoflPZBmgWE9Ei+S7/jWG4nXfAULCmkia+gBp4Tn0+i98k1Lr+zj2Jq8I5Dw1CAxJEnC/dWP0CKxKx0OhvV7geu3A1yD22C+Am4DCdeXow+T/8U0UZoWh7RIQU+hhGsNknB7ub0UW199pvtUcY1e2dVeEkG8aOE2EHGNRfLlkbkNtiFeszXCNy3xWpI6vAjF8ynYvRDT9qGQ9zC3TXtrj1RxLeQhWnrAJVxryEM04/pxzLcdgYTnxWjfmhS5fYsF6ocZr73UIE1cc4crdwTyBkLRNOfXLGqyuBnT3mG8xo5qP/ZoidcirtHmMilym8sB4JrKf77P/mXJGrduvZE8xsRyLn47rQKDSFKCvOZ29IDHNqkHXEPidRjEU/djIvsXKErCFaQOI4uni1KHCtoBiCVuLy2ROsRzf//T5W7LO8kXGEgqRZIbP9hquUCpxTXuYpDgtUTCE7imJBx9F9Mk6SzNknB//5Nngevk1VF2ktwyxDVizqJxkQcI4OB84/XEt1FYUEyOvKA4euI0Z4d/ZAVpWhQaSc4X04o94P4xaMF1lvFawrWWHnAxXgPX3EUZ0wrcBuSi8YDNFrt52HXKgmNM0xyvQylxeuo7/77cbd6WQh6CeMgCYkkegjHSULCXODs0cCyV5Q7DDc8+kXGdt3h9z9I1buUrVmCIGQtz8dtpFBg0k5SsQsV3wx6vxIxR0tIDLkkdzkTf/AVYyMc0zRJD4TY85kTcXvqxv17m3tqa7IWdvYQFsrQg8SqQAEa+QK3CNvoNQa+slgVFiGvecaF0Fo8vpvmcHcXj0CJNW04S7uN/kzyupXjNBcVN4KLRQgJYHB/+qyVeS5wdM0DAy/7nmEZeg1eDdgAtuA7bEsmkfC3u0KUSrxGnSdoactGQY6l/ZHJLiYtGM8eS5SGVZ3QHXOPt10KJ4GMpxGsWgEiyXcJtgN8rkABGxrWUh2iJ12ErEvMQcnZozK8HgFOI19/YFubXPB5KeH7tR8+7Z160AkPs8VH/+2kUGCRSqWnovRoZuffqtR2n3Ev4zzctvVcSt4EGSThRYgh35xYouLMpMd0Xt5e+96tPJ15gCBfKxNE0bDcmo3ZM42KiSJZWPA4uDJlwxDZJwnMitklGl85Cm8vKoM2ll2JcF6Vp08D1fdhdciSQ7dMQr19Hryy5TnxTE6+x0+wAWlh8uxI94BynmLYZZMokMyxydvBYtLQDSPE6TVxLechUxGuNHEtauA0eUIrrjYjXvDnk37HPg4RnGvFaykOofEAFhJjmkxEXj0NLHiLl1xrykEK8RsuGb1raXCrF64/+3WorMPiDZo9lDyRdYGCvzv4g8dLQA/42Eq9ngoncA+uvhQpaNpZiC/CuYAvwJdDivSayFm9BYgg9hf5FndJZdyjwmbQNbyRULKadkfBM+sIu9cpqwPUWkKUt88jSOMt7YKG8UEEBSMK1BglPchuwB9w3bptmLIgtCfcMFodv7y9duFLFgizStHbBNeM1uWj8/mItrUiPbTjpuPXeNw1ShwUuGuDaP7KuZ3DN1o2YJsVrf9t00riWFhQTwENzWWwuGuYhmOP+NVXLQlnCtQYuGikP6YZwWJASV4jr4chDuJOJljSutZIRMw95FrsofVxryUNEXKMV6drIrUjMQ7iI932mJV4/jRi1NchD/HhtBYaYV9Mc/XaSBQapV1YDCSALHgXyHS/zIrfBAmhMd497w6nApE3mYd+GKeA2YNC7O9heymSf20sHQAUkpkmScOdDwWG2J52V5IVdIksbhUXf5MhkaRL5DnF9G3DNBXNMk6Rp/cQr1rFxpknSWRqkDiVp2lDqMFFcS9wGCnBNsjQmXie9zQtcIN+GAlBsXEtShxriNefTXYEkHJ+jJFx0qUNJcjnreK2As+MgdgnxBozPscSCJsmBY3N2SLjW0GLHPOQe5CElHEvw2Y3IQwZGzkOew46KN4N22zTjtURGrIGL5uAZEkCfjFhLHiLhWku8DneiML+eo0Ca9nngel2A6zC/tgIDr65mVT2QVIFhJaqXG5X2gIekUnTKLExk9obFtBfRK/t60Cs7UInUYdhTyOBHNttRA+KuXCUJTxL03BooOCS1EMsT+Y4WXFOKMpTO0oLrkNuABYcp6CmMjetaJeHaAdcSt8EN2AI8ODJnh+Z4HeKasYC9sqMjx2sJ1/2wMLwlkKlOCteqOZZQADrmFc14TdXARaOZYynsm7d4zZl92oYgf71BgRxluFDm0fG4eHwxTcS1kvxaiteTleYhUry2AkNMZOfot5MoMKgmS0N/8SGvv5gX9avQAz4mcq8sJYZ4x9I3Lb2yWtsBRAlP1Dsk5uQkElbNZGlLAlyTLO1qBbheD6nDVZtLpbM047rI2eHPw6wf1yMJlwSu8xSvORZsFWPLWEyTpGlVc3ZAEu7KyJJwBVyzLZGrwjNWrs0lCVxLPeBayC0lLhotHEsrgnitRZqWu073HvHAAwxpiNfvoJ31Sez+8i1NXGvOQ+5HHsKdOb5piNfk7OjAsYQbUQuCG1H+cWf1WOQ20BKva5RctgJDVmjJ+e80W2DYhAXF8kA7XcuCghryu4ML1FgUFnhhj2m70L/7GC5Qfu+VauksbJuOrZ1+BFKHTNL8bdOVtpc2m7BqxrV0gRqLBdhVkTk7NEvCST3gJOckSWdMI7kipWlDXM9DItRbkDpsFtdvIV6v0BqvwW2wO+A20BCveUyP4th808JF8zQW8FvR1+/bhegBn3qmB9x/PsvHBcllxGt/2zTjNaVpewhK1c3imm2GzwZcNGq4DXCt3xlwLGngomFutBS4LslDEA41SIlL8fpCtLlMjdw3zx0oiynh6d0bYjsACZWzitdacM2YGMbrccivJ0bOr3lM5H9SiWss4Fl49U1DvKbk8pJ1pbiulF9bgcEfQXtc1gPNFBh4gSKBip9EkHyHPeCxSaVEsjQkXtMjJ16UFrqPEkNevsqJPBdbRmNLZ6neXvo6tpd6PiOgr4OEJ/vpJGsmYS1LvkNcx61NFYhKSYDnmwZug4LUYYBr7hYqSGfFlvBULE0btgNwXFPDNeI1k0I/XnOhvBCLPo241lAAOompRjWCEkk44PomBfFa6gHXLHWYFq73oQecpK3+goJ45kKZ19aYtgxkaVsCsjQN8ZrrY25t9/MQxmsNHEur0W67Pmi31SJ1KLUDVJLwTCMPWaQV11CxoOxjTGO8pjRtyNmhAtfIQ9ZX4TaI5bt6cW0FhlgjlbPfbabAEHIb8AKlgaTkBfSAs/fTt4HQlWWQiW1hTyF9RuWD2BJDr4ELgj1rvmmRhJO24VWTGGrmwk4SQC6Yi9YZyeosFDNI4BTT8oRr+kmF1CFwzd5539oV13cFCwr6hOSW0XGNVrE30DLmG4kJSVAY28J4zeOZCsnlCyNLLpPjhFwnvmnGdbV2gGbidUhuWchDSG6Ja35ME7lolOYh9JMGCU9Rclng7IgxrpKEJ+/W8659OWsG12F+zTxkNvKQ2KStaxCv1wbxWkt+LXGHTcGul9jStK/vQB6C/3zTEq8lxR22141H20Y5swJDOc/Y8yUeaLTAIJGUTAJJycWRSaXWIfF6Pki8tPQUPoQto7zb4psG6SzeYeGdFt/K9RT678niMbdwsqXEt1ok4Rq9sIcXKP7utWg9GB25B3wdLuhUz/BNIrf0X8/qsSSddTkuUJdXuEBlcWzc6UFc+3c21eAa7Vu7gvatWqRpk8I1fULS1ti4JhfNauDaXwpq4TaQ4vVlwPSEyNwGbIlga4RvWiThpHg9ugZJuIZxvfakO4z2Od80kFuSs2MVWpFY7CiaGlxjtwclTX3TEK8lqUMt7QBsaQ3bXGpRSGsU11JhU2t+rSUPyRN3WN7jtRUY/Ohpj8t6oJECwyNY9O0JFn3jUcW9MnLv1Q70OVJSUOOCQqvEECXhuL3U3zbN9paChGfkG4iSxNAFaHOZWUObSyMXdonbQAOut5NUKsC1Fs4OSZpWg3TWAXAbMOHwJeG4bZo94CwyxDT2iofStO2I6x24hhA/GuM159s7CntlJW4DtrnMw+68npFbkaR4XaskXCPxWlpQaIjXO1E4fBw5Ul5wrSJeIw95CEVXjfF6OYrUm4I2lwvQDjCzhnaARnDNfIxtmr7xbnJs0lYxvwZP0KJxkS+ocJQUry9SwB1Ggnlyh/mxoDPya7aRa8xDao3XVmDwZ6c9LuuBegsMEvnOSCz6uM0/ph3FDZ0lJN/x4jK3lN2ExKtfd+82QoSDlKQONfcUzsb2UurexrRmt5fWe2GXcK2WfAe4pswb7xzENEmaVot0Vri9lH7SIJ31InZXvR60bw3AFmD29Ndi9eJaJAFE4sXt0DGtHKnUzSBL6xsZ16vQA75Baw94IHXIMazEbZDVGDe7bbpeXIvxWgGu2ftNjiWfBJALCg0cSytR2NwIMkzftOQheYrX9bQDJIJrBaStbBklF41/I4r59c3Ir7nVP6ZJ8VpLHhJyG3BHE+P1UI0SnnW0b1mBISbic/Tb9RQYVueIpIQVwxmYyLG5DUTpLARkJtKxTWpz0SAxJErCYdFRj8RQPRd2Ede4AMxWoDEdbpXkBYpEpcNxByWmSb2y/XGBYsIR2zpwdsBVGiQ8N3Db9NulbS71Ku7Ug2uJtFULCaCEayp6jEAyHdMkLhqS72qI1x1wDUddjfYtKhLEtA2Upm1SmaQeXFPema01vrEgzsJ4bAtxXchDyLGE4kdMk3At6dvHOMYOkss4CA24Xn+mfcv3SbvG63ChrCW/FiWXleQhEreBBlwzXq9k+5YH7HpxbQUGz3n2sLwHai0wvK6YLE2ayFcM7uwuxX8xbTN6Zbm9zt8epaWnUJTwVCB1KEp4Im+sVzqr1oRVM1maxG1wBfq/qQUe07i9fznu8vq4rvcCldbxS9JZGiThJFx3xTDecamg2VfBObXi+jUQSr2klFTqQWwB3h9sAb4C7XWXViBLq+CSxF7SLHUo4hr+ujpyW+JujONSbG33YwGVpCxen4Yl+TrI2xHTyEXzTMDZoTkPGYc8ZGJkyWVJwrMRadpa47WYX+OmCuWKY5vWPIScHcuUStOK8Rq4ZoEhphUkPNm+5R1EI/HaCgyeA+1heQ/UUmDYfbSTewo9qb5pIUsj58L2oFe2FvId/1zSeEwSpYJ0lvflvEDdhh5wLiximijhiTvi02voKUzzuAsSnmhz6SAJh7vi/bGNvB6r5cIu4hpjs6jORV89x1XreyVSKRLykXAyphVwHSwoiOfbIJ2FdsyoxmSDSYdvtfbK+p9J+jG3lXJ7qa9Mwp0obN9KA9c7D3dynOO+ddeCayQ3OwP+Hg3xuhwXzULiOu6UcyJnR4094D4Gkn5ciNdUJvGmXKEdIC1cH+nUgbRVC1malIdo6AE/AG4DFvT8AhDxTI4l8vjENBY9NEou01ds2QjzkEakDmvJQ3YB1x1IW5ErMvbENok7TEO8lnBNjiVyG8TGtSRNqyEPkSSXGa9vRLxmm2Y9ZgWGerzVxu+tVmB44Mtz3SMb3i25QGkhS5N6wIf26eSuR2tEbAt7Crmg4Jb76JJwgoSnFkk4ScGhUemsahf2+4HrR0NcY4w0kFtKnB2acU2pQ42ScFpxzVgwGYo7FzUgdVgV13cC1xs7xuv5KGz2iBwWJVwPw0L5usiFTV4r7oEawTFvpcwxImfH4MhcNM1ydqR5HQzbAdLE9ZIvzXWPvfVuSQ8485D5Y4DryOswKQ/R0gMe5iHEww3Ij4YgT4ppL6DNJTfStHDV5dgtRKWNeq2ReE1uA+YhPer/uXoPr+L7V2CX4lsBF43WPIS35GchDyGnSEyT4nU9nB1pHnsYr/lbjUouW4EhzZFqoe+uVmD4/H+fjYv6uUjHJEIrSQnvBt5cI1lamkMoLZQ1SGcVJDy3o3fVu+PUB/3Ftyrgg5Ak4ZqR8Kx2YTdc1z8DQlwTRpTOGh1Zmpb92OzL9k0NrnH3sIMkHFq3Lm+wfasRXJPtnOzQMe1ltGuQj8Y3LfFa6gFvFS4a399JPibj/75AZpWYzgrXPJfrUQCKTZb2Mq6n5KPxzXDte6PjYyleq5ESVxCveYOMBaqY9hJwTd4O3waA24C77mKbxB2mIb9uJ1xbgSH2LMjJ71crMHzqw7NdV2+PqAaSkrewDZp3w3zT0gMuSR2OQ/V7YuRe2YLUISXhPKepljoEKdbkJpjuqy3ENOJ6I0gAV4Ta6XWSW3rDm+hDSZpWC64pdeiblvatNKSz6sX1VYg7YyNzGxDXJJz0t2lr7gHXIHVIzo6laCfxrZFeWf/zST1OQ5o2j7h+C2RpK0ja6l1UteBaykMYBxgPYhqlaSnh6ZvqPGQA8pDhjS+q68W11vyau980tGxI3GEa4rVmyWUpXjfb5mIFBj+C2eOyHqinwDBWAQngHtw14cXTN9Y/FqFfjf1EMe1p9D1vDfSSqWIRm9uAvd/3UcLTK0jTV7eAQKhP5MZ5adv0UPjs+ia3TddzYVeBa3B28OLpL8KIa5KlcddQTJOkDsmKPr2JAlAS53MMYWBxIE1LV92CHTnRpbOwoN6wx5twOC5uS+b25GYsb7imnjvjtY9rLigWYgswtwLHNImLRoPkMjs17hN6wKnQQub/mCa2A2SM6zEDQZZ2QVzwlOWiIcdSc1O86eGVuA2ozkL1oZgm5iEYRu46jS1Na7g+jQySWz6GApAvR8lWJOYhsfNr8sBtC/jWNOCaXB3kWCLHQdGYsxXykMiSyxKu2fbHdpJmzAoMzXivjT5ba4HhAiQRM5tMjpNw613QAQ/JdzT0gD+PLdrrAums87DNbY4CqcN70V981Osv5jjMwAI+ttShJDHUDy0bDMzNWq0LMQ245nWpQCrl1c14gWqEVKpZv4WfF3GNCxTnXGzjRf2o5zMejwpcY3vpK8H20qS2TdeMawUkgBwPMV5joTwo8kJZM67DViT6cRri9UiMaUxTEa+V4Ppu5CE+aSvHhTKZlMuMac+jsLkuKGxq4aIJpQ7pJ958iS0lLkl4skA9L8M8RAsXTcjZwTyEOSwxFNOkeE3eJxIUxrYQ1yyms5g3UqE0bVKSy1ZgiI26nPx+LQWGwX27FBY7sU8pTLy4MCMJINmaY9obu065F0Ce6FtSFyj/Oxt5LEkMXYltktxWFtMkSbgkt+HVshDTguuQfIcXqCkjO7tRDZAAJjmmEq41cxvokPA8Bdb/0ljQrrhejMLm4aCwOWVEY+SWaeO6NxYU8xNYUDR7nA8JPeAapA6leJ1kO0BN8bof8hAFhU0pXk8CrmNz0fAGBxdivvXBHdRbtUodgrMjtpT4Fuw4Jeu/b4br097QkoeIuNbCHSbE62a4aHwcNvM47XhtBYZmRqeNPlutwPCHvzkH7QfdontESrw09F5txZatp5VKeLLXkb1hvl2MnsJJTfQU+t/V6GNKwpHU0T+ygoQntk0n1bFRLWHVgmupV/ZS6KZzsRzTuBUxV9K0CnB94PhpXIfbSxdg2zR5IZKwvOBaitcacP0OcQ15PL9lQwtnh1apQ7YDME75uGa8Jq6TkoSrhusvfmQO2mri5yFa4/V2XOefUMptIEodKojXhTwEC0Q/FrAdIEmpw2q4VpOHADt7glzxMhSASLQd0yhB/6TSeC3iGu1bkyK3b5Wx70OqAABAAElEQVTDNdsSPTq9pobVCgxNua99PlytwPDEV29y3ZNCZYNulXqvuP1oWuQe8KMnnFuyriO3Ae8Y9Epqpdygz5ZDYmhTTiSGuA1vFrbhJbm9tNqFXQWuceHcdsAvs7jCbpwpGnD9RmlPIRMvbhmNjWuRswPtWxqkacOtkpy6SW+bziuuNcTrI9hNcT8Kmz4XDXFNbgPuzIlpJMEMOTsouca4GNvEbdPYSZCkNG0ecM0bCbyh4JsGzg5y0TAPOeHdiOc1lfGaOxhi2nKQcW8CKbdvWtoB7kGbyzFvwwd9lrQ0bR5wLZIRowA0JfKNKOKa3GF+YZM8EMQ1VUdimpSHaJGmldoSk8a1FRhioi9Hv629wLAaidf6oKdQS+IVLih4gWIPOPv6Y5okMaRFizdsc6Gfrh2G7aUgEE3StF/YV6EAtCEoAJ2PBcVsBQuKENccF/KvaMR1UtwGzWKvg9QhQsC1uJOR9LZp7biW4jULhyy0xDaJi0YDriWpQ5I53qJVcrkN4/VzyEPeDPIQLbgOWzaYh7AHPDbHkoRrNfEahcZD2EnpWxpShxavfQ/X91iM18yvFXLRaMF1Vvm1FRjqw3LbvltzgWEtegrXBD2FWrgNHsAF6kBwgZqIbe3jsL09pklSh0n2FDZzbtL20rSkDjVf2CVSqf4gLOKd1NjGO7wHFeKad8G4K8fvq9GC60exvXR3sL00LWUSzbh+HVw0LwZcNFoWyhIXDaWDGX9iWgHXgeSyFlxbvD6NjNdB2PoiiFt964sC0DwFBSAJ11ciDxkfOQ+hhOdKSHj67Qfc/bZgXPxr3KOQNd59qLS40I55yFrgeo1SXIv5tYJ4/RalxClN61kv7KZYoIDnRJQSx427iSgIJ21WYEjaoy36fVoLDFuxdZzyeL71wEReqGAiU5+cOuW+XYKJfE0KE9n/jWqP97BXFj2FvlE7fRF6r3hXI6aJbS6QzpqWknSW1oXY28A1SaX8xEtLD7hWXEtSh+wBL0jTxgQ1fluUpk1REk4trkGWRtlH33pgQbFQwYKCsms7g3g9Gr2y3GES0w6gZYNcNKe8fJXdiOwBj9yVaLg+AwwxD1GCa6kHnDsBuSMwponxGoe06FJIHcY8MPy2KLnchvFawrWWwuZjKADtDApAGuL1Hkh48maCn7upiddYK3FMfUuzLdEKDL6n7XFZD2gsMBwkWRoWyiW9slggz0fiRUb2mKa1p5ChhVvbj5fm+G4u7rIM1CgJhzv2c1K8Y69xIUZc846T31PIHvAkSQAbnRvPYnG4GYtE34Yq4TaQegq1Smed93/b+xJouarryiuhASSEJCQQEgLNjALNEiAJTUxCtBPH7pWQdDcr7QzO4HQa3DHEUzzEMc4KdlYc29123Mt2cNKJl51OY0BMAgmJQTMIAUIjGpDQPI9A711SiVv33/pD1Xt1T/3aZy0t1a/6/1XVvrtOnXff2WfnbOFpkddHwGt2voSF160YApg6Xy9GdwAnavthRQMeWh1yE5hSkguRG1NGzBIubzmARV5zZgelT36+pgacbiPnJtaAx3htIV8zBxTqEG/TjLy2YCX+Krph14VW4g1Yh9DZ58kIr7mxmdUw4krzV6y+tsBrvp/oLBqjFp551yHaYKiU4Q32dxY3GGLaKw5xY6JJGbHZBma0V4ElHL/oaQl3ec+01wxiFkO1kLlYLFhjX1A34QvqosQe06Z5jULoKE5gi2GZ17WwOrTI69iwtBuZrzFTJGVQrkHZhh9mZtEE+ZqvMQ8NuP/eW3M7Zk3bqPk6NouGvO5nsA4xw+sgX5NzY1mHJLZcXo888Eog36qF5bLJfI0LURygWAxuAKkOKaIR/z+cc8LfGtO/oxuUuL6O5etaWNNqgyHOE90bIGBtg4E7q7zS68d10F4NS6yV3QRN4fLA396K9moeLMT2o33LDwsWQ7Q6XIR2N1+e0QXtpXfWoG3a2hd7ONuAJ8qj0KI9NOPhlj4HWnN7IzSFK0JNoRGt7Dx0MbHd1g9qi6kxThnvon2Tkh+uYTFqJXOxxuuYVnYUCq8hiQuvjbhSSWcGP/dY0YDHZhuYtVxu0Hz9FOoQ2s76YWLGEuqQpahD/K07K63tMV5bsaallM2XIjVqvrZcXy8zyutoHYLzkWtxXpIyaLm8MKivayVL1AZDypWvo+e2tMEQ04DzBOz6xJrCPTihWBCcUND/ew40hakjajEEC8/UVoflLOFm0WIIRWveYelE7DlsAO0NNoCs8Ho+vqD8sMLrFyIWnhYs4WhNOxcWnmHbNHldC0s4U7yODLccitkG1yeebcD5OPwu8YNa2bsM5OvoLBoDlsuxfE05QK0sly3xOqYBtzJjid8l/sYmec06JP9vVP/T1PR2rA4ZCF6PT2y5zCv1c2F1+J63V8RNRw7orIU1rSVex4YRW6hDWBsxX/u85uywOSPS19exOmQgZnaMz2l2WNNPVvyeWL6upZW4Nhji66J7AwSsbDDENIW0o7kBtjQp4xQ6bOnFy/+LwS+oGdDKcvJ/yliBqfobA6vDvmi3nyJLOGfli50DHbcFsw1oH0Y705TBgout7WHhNQNzMSj7SRm88rzJqCVcKN9iLpiEYqNW1lmWeW1htgH5/BhagJvka5xQXNAlLa9jVoe98R0yLcdZNK39HMfkALW08LTC65gG3EIdwvKDvA5nLM3AxmbPxLyOWdP2hYxkCuQkqSPM13w9zNf9cZJYi7DC69iMJQt1CDfqmXvCfG1hZsdKzOzYEMzssGIlHvKadUgtrWm1wVCL7NEOnsPCBsMqaOPWBlrZ3jhRnmbgRDmmvRoPTeHAxJrCmNVhLbSyraF8rA2v1pZwFr7YY0OlrJxQxPySObPjssS8Zh5gPvDjfAxUu8WAe0xMDlBrSzgLvKZ1MC2E/bCcry3wujCLhrz2rqTWQivrr1G52zFe11oOYIHX9TSzgycUo9GiPSixxC5m4dkDGx7s6EodMV5fA3kdZRu1Cgu8jtXXZmd2gNfjILGzWIdYzteUa1BmV6vQBkOtkK7z50m9wRDTgHfDCcVtBk4o6GRxINCAX9W3o+O/lEGrw5cCC08rOkwr7aWpv9gt8zo2s8MCrzmzgy3kftRKU+g/Z+x2zOpwUM8OGPRU20JavI6tzun7Yvn6SpxMXJ14Zgd5TXs8vwXYMq+HQObC+TC1DIu8tjJjKcZrC7MNtoPXrEN8XtdqtkFL3IzVISmsDi3wejlmLPn9GrUYRtzS+vDxGK8t5GvTvIaUpInlcgJrWm0wtIbh+h2XcoNhD7RXLNwtfkFxeMrOwIvXgvbq8IkP3FPY+PAxo/bqtqGwhEssWYu2l6IV8YYEerWUX+y7wBt6lPthRVO4CAXhu4Ff8mUGZnYcOWOd5fOaGnAL1llLIUXaHEiRUllnJeU1ZhswL/prZJnXl2MDaGyNN4D8zzxvx7SyHZGvqQHnRnrKiLVNp5K5pOQ1NeCcbeCHFV7HNOBm8jWcULyGHMd8fbsFK3HIErcEskQ6f9ABpNaRkteW6+vYzA4LvKZj1ZOor/2BoFbq65iMPFW+1gZDrTNJnT5fqg0Gaq6oKTSpAccJxabghOIiWK5NhqVg6gi1smyVpIUnX1/KsNZemuqL/SR4zZkd73kd5Cy8ONugh8HZBn3BmykGec2TMM5fSW11GLPwTNlemorXsXxNXs9EKzQlLCljGfL122G+xgnF5AQnFCEOYb7m4+R1rWZ2hK+n+LPy9WkkCrNoWId4+ZpsLsyiSTxjaXmkDjGTr7G5cAKbwn6wPkpeh+yENe1ubzHxAhsxX7MO4XDLcLYB83WP1Pl6G/L1gVLumOE1coFv4Ul+W7CmtZavtcHgZz7dLotAqg2G2GyDCZg4fCmupqaMN3a97/jPDw69m4krTqkjtDpk39v10F6ltjrcBKtDtuH5kdoSLtWJWIzXE3FCMQCDHVNGXfEaQFmwOozxOrUUKRWvwxNldjFwqJTydflPdZN8jV+t9Sya2Kuj5XJoCdeo+brJLBqk6QnoeknN6zWoQVYHdQg3qGcZqEPYQXnIl46yDoEMaWgNNeBRXkfqkNRygFT5OlaHTMCMpUsTz1iKzuywwuv14DU6hP0o1NeJeU3L5RXB/J7U+VobDD5LdLssAik2GGLaKwsa8G3YVX0J7XXsCihG6hOK4uuIWQwNQ+K7LrEXb7S9FFefU1t4pvhifwZfUAeCL6irMa/jysQzO7ZBEvFyMLPDilY2xmsLVod7z1gd+uWGhbZp8bqYEZ1jvn4ZV8P8sMLrmOWyBatDWngWZIkeaBYsPJPwOjJjyWq+tjKzI5qvDViJM1/TStxvbW/UfP00eH3Q3wDCZ51zaDjfIGXE6hDL9XWKWTTh+sTytQVea4MhXCn9HEWg1hsMsdkGFrSyh6C94saH/wVF7RU14J3T5uXCICUOdvSDNku0W0oZLO0LVode8wI3Z6ZDDtAzsRzgrr960e3YebgsPAu/McN1YWWdUXDmAmcv+DEIw9LG1HhYmv/8vF3gNTY+aAdVjHOwRrPhMZ3h2y8euk3/xyw8U2kK/RdOqHjF3reEI68tWGfd9bUX3I5dR/yXW3K7Fry2kK8PMl+D1/48CPKZGvDU+To228CC1WFZC08D1rRzvvaie3dX7fK12ToEG9TzUIf40lHy+rZhnRw3z1IGL768E8w2sFCHxKwOKd9ivqY8ImWI16fRP0heY86JX19b4TUvvnDzww/L+dpCfX3Pd1a41Wt3+5Cdvd0ZC7sI9XV7jA4fINrjG8vrPdVyg2EprjZtDrRXZmYbBJpCnlBMxhdU38RfUFGrQyMWnpyhcbz0AqIzYeGJ1tJPffdlt2dvbQpWyxrwX0ZOlKmV7QsOpYzXIlpZq1aHzAUcFsghVCmD1rSf+k7teB3N10ZmG/xyDTaAgo1NC7yOzuzAZ226Qctl8noceD0wNa9hTfupv68dr5dvf99t2ueRBx/qVENbw3wSSpH4uIXZBrE6JOVsAx+3mBzAQh3yJuqQP6lhHRLL11Z4HeZrK7yOzTawWocQs4KFZ8/sLoz5n6PW3mYd8rl/XOk2bNoT/RNtMERhacw7a7XBwGT7eqAp7ImTdw5TSh1PrnvPHcYVMT/GwIt3UOIP8gZor1bCc94PMxaeETmACZnLGTnAd/91SU02GGKzDazw+gms0RFPssGt19HoqGCrdsooaApDXsM7/TYD3ukx+ZYJ6yzwmlcQv/MvteF1LF9bOaF4Avn6SJCvRyNfD06cr2MzOyxbHZrI17giTl5/r0b5OsbrHsg9swzkntjMjlH90udr03VIROZigddFK/GUdYiV2WFW83W9WYlbsKYtyhJ/OvdVbTCkLKLr5blrscGwBV0LSzAR2fc0slJ4PYu2rX2wqfJjOE7ARuKLPWVErQ7xklLPNiAm0fZSyAHGppYD4GS6IHPBctbii30zhqUt3Va6AWSF1zGt7HDM7OCQuZSxmxae0Mr6fWYWNIXleG3BOovWtE9T5oIXWQteF/J1MNvACq+fha3xPuit/bCQr2NaWbYA33VFYu9gABXN1wYsPH35Vi14vRV1CK3e/OiK6xuUi6UO2mRynpEfw1CHXJe4DqFVN/njh5V8HbNctiDf4sUqyrcoc0nFa8uzDSzweje+Q57Hd4n/iaO0zmp9zS6z8RiCnzLIa873oMxFGwwpV6KOnjvvDQZqrwpaWQ8TFl63Q1PIL6qU8SKunGwPNIUDMNuA09FTRszqkO2sdLLg1ZaUsRxXnjehs8IPixZDeX+x78cQJW5O+SfKnbA0d+KEgvrPlBHTyg7AF9TExF9QnGkwd12pdRaxIq/PT83rSNt0X8gBphizOsyb1wfAa2plfV5zFs2dOAnj7I6U8SI2prYf9ktC5yzka1ocsrXd180TqhngNa8ipoyYHMCMLBGYFS3h8uY1h97NwwmFrwEnr2djZgfrkZTxIjTg2wMNeH+4Dk2C+1DK4No8EeRr1iF0srCYr/tAijTVgBTJlyXmzetCvsZJn58VyWdumqXO17E6xAKvCxae5LW3b1bgtVXLZViJUyaVOjhv7cSZ0l8bDKlXo06eP+8NhkdQRPgfZMLC4TsXJtaAvwrbl3XQfvphRXsV02Hy5JAniSkj1l5qpQ0vbC/N+4s91BTyC2oqvgRS8/oVbACtDzaArPA6NrPDAq+pKaR23g8rlnChfCt3XoczOwAKi3bx2mdH6e1QA85cQInd5Ykt4WLyLTO8xhVeduYU4zuQSOzNcWaOf9LH5+QaTUG+5klpyojONjAys+MxzKU6furDNSJOFvL1m8jXrwf52kwdEshta56vWYcwXyeeHbYSG/YbgjknVuqQMF+T1+wOSD2LJsprXHiZaUC+FcpctMFA1ihaRCDPDYYmHtN4NRa0sjwB44mYH93xQb7VwAc5pgG/BjaHV6S2OoxYwllpL43JXH7wiyW5uUiEX1C82jsWHtOpZ3asx4bZK/RL9uL8zh3cLcPS734/hROK0GPagla2qCn0IHOW20t/8PPFublIhEUEMRmNFu3BiWd2RPM1eH2rAV6z22N/0NpuYWbHFsi3lgTyLTO8jsgBvv/zJbm5SER5bWBmR2y2QXcjvDZrdRirQ9A6OHt4+u+4mCyx5rw2kK954Y4X8PywwutYfW2hDtnKfP3O+yWdg+ciF9xh4DsuZrn8b8+scq/BRYK1LzdrzwZaUjvjn1wkziLS2Dfy2mCInfRZ0IDvQCsipRF+C7AV73Rq03cFLcAWrA5jlnCF9lJaHfrJJcFH6SW0l8YsPB98eLHbvD17F4kYry0M36FWdlEw28AKr81qwL2ZHUXqsr3UgiVczDqL7aUP/jQfXtMaj7IfPyzw+l3w+gWjvObn7d0gX1uY2cHZBpzZ4X/HWbGmLdc2XUtej8AsmmsTz6KJzTawkq9jlssWZhsU5LaUA3hpqiC3NWBNG7NcptXhN3LK17E6xAKvLefreuK1FfnWy5hZw4swfrAO+QmGPL70WhmbSmyMLHpwpv8n7ea2bCrbuJTfnrvO/WjuxrJ/VYmvekxTeClmG0xIPNuAlopPrC3VylIDfgs6F+jOkDIsWwyFko1Ceyna8PokbsNbhV3ytaHMBXq1aWh9ve3LC9zefSfKLmklvOaJzo7ghMKCBpy6uMfR2k4/8GJwjdiRI14XEWn6f9g2zd+YAl6ntvCM8hpt09Pw2mrFawv5mhrwx5Gvm/AaV3W6Jd7ZjFnTWplF00S+BV5PhVtT6rbpmByg2DadB6+tzlgir+eGdQg2NguzaAzWIRZndjBXm5G5xOS2qI2m4TNXK15fCvnshMQzlmL5mvU1HVrYwZAyYvnaCq8fwWyDU17DB5FiHZJavhWrQ3qdkW/d/c2X3drNB+NLig/m4r/RBkMcnAa794GHV7mnlu4o+66f/8YM17UNU5Boq8jWPz+o3+XchdQR0xTegCFul2CYW8qgnpD6Kz+sWh3yNdaDddbk++e5E8WJND6wZ263ldexYWlWeB1uAPEtTsJmXn9s6qWMmAbcilY21jZtgde08CTXWDwXw7emzZrXsZkdVngdzdcYfMcrgykjqpXFMEeeIKYOq7LEmBygG2SJRWvarHldb3XIRPB6QGJex+oQK/m6rniNk+nbzrS2Z87ryGwDKxubYR3C7zAOTOcV75QRnR2GDaCZ2ABKHVFeQ247OPH8ng3733crILHz6xBf5nLrX8x3+w6cLAMf3HoeuqXMY/V9tzoY2rh+f/foOvfjpzaW/auf//lN7rK+55V93H+AWllqr/wWNiuzDWIacFr2UbaRMjaj/WipUQvPmKbQgiXcrjMWQ/66hRZD0/78OXfk2Cn/V0put4XX7JLgbq4fnKLNzpfUEeM123/ZLpkyChae0BT6462tWB3GeG3BOou8ppzEz5+hJVymvMam5qpgWJpfRKTkT5TXmEMzwuAsGiuzDZ5F+/i+QOZioW06ymukJ98SLktexzTgVvI1pSts9ffDwoylQh0SWHia4XXEmtYEr2m53IKFZ6a8Zn0dzg7DZoaFWTTRfH0R8nWftHVIzJrWymyDqMwFeF0L3FLGLlrThrJEdAze6c05mf2VhW7X3mNlXiY6GB6aWeax+r5bGwxtXL/5q3e6e7//SslOlX+Ib//RWDdpWG//ruhtto6zhdwPK5rCBfiCou+tH4N7dXSjL0n7QabvNQeo+CcUbBYpWB36LzbB7ZjMhVfEeWU8ZRzHngGts3xLuI7ArNCG57VNz/7qArdz94mqeU1bPNrj+dEVz2NhqFRsZocFXnPo3bMBr3mifAesaaktTBkvoYh+J9QUGuA1WyTpslHCa1z44QRpDuosRp687nIm9xSfK9X/C1C070aR44eFWTQcUsohYb5kw4pWNpavLci3Yrwmm2fhCm8evLZch8Q04IN6doDjSNrv1L2ojeYHG5uFOgQzltjinjKsWtMWLDzXlzqk8attBnjdI4d8bZnX5M4eg/n6API1ZwuF9fUdRq1pLcgSaeHJOsT/jivka9YhuKhWjI/99Qvu7XeOFH8s+b8LTvwWfn16yX3t5QdtMLRxJdftOOx+48GX8FelBV3xMJ//zWvdR8ZfUvwx+n/hpA/Jln7gxeBQKZ70pdaAL8FAxy0HS9/bxZBE3GTA3z7UgLMdiVKS3olnG1i28IxaHUbaS2//0kK3Z/9x0LF07Yv8bA2vj8GiizaB4Unf7ThR7tqpeKQ0/8d43Q+tiDcm9k4nGjFeW7Xw7IXP2nQDrZKhMwlxjFnCZcJrDAF8AldS/SKCm3S3ocWfV3dSRmwWjRVehy3AxImzDVLPoonJAfgdQg146ohhlhevWYfMRR3yvleHkNe3gNfJ6xBsbG4JNjat1iHEjPk6dR2yEp2dG/aXfn8XZ3ak5nU0X+PiCzf1/MgkX6MOmQvLUB8JbvxYmB22JMJrq/maK3MzcmJyXsdk5MjXfG2p43HUu8dQH/gRk2/N+epC9+6eeAfDRRee6x793GT/EO3mtjYY2riUx6BTnwq9ern45F3D3SdmDir3cOH+UCvLE+VJ1Mqmnm2wC7MN8M8PKycUofaKu6zjLk3vnR5rL7Uic4lZZ5VrL531hfnuwKFyGjHnWsPrWHF8Izam+iXm9Wq0ta8JZnYUh+/4XE9xuwmv8SLGwhIuuYUn2ktDa1pfA54Cq+JzxqyzroYU4MqIHCATXmOoVDiexMIsmhive2K2wQwDsw1iMztMWC7Da/4V6LL9sJKvo7xG+y9tPMPIhNe48sYry8Uo1CE46Us9syPGayt1CDcajwSSjTEG8rXpOiQic7k6T15H8rXZOsTIhn2sDiGvB/dsmnuK+aIW/8csl/0ZS7V4DeWeIyrfAq/pJhXGrC+ivj4Yr68HDTjf/ezTk8I/aRc/a4OhgmWccO8z+KvSXaviYT429XJ3/0dHFH9s8v9T2PGiLZYfFmYbvA1f2aVbS4eUWPkgyxLOZ0vrbre1bXrKA8+6Y8e4/qXcLD5bS7z+9zdL28T4d9dhtsGwxLMNYry2opWNnVBY0Mq2J+usannNjpzDYb5GETE8UkQUPyu1+H8T8vVyDJXywwqvY1pZC5bLtMikVaYfVmSJUTkAZIljysgSq+V1rA65rh/yde+mxbGPV963ma+Xh/72kNjd4emZ834N5Y4f5TXwGgncUgbz9aJgtkGXQAOe6vU9D+kfZ4r40ZyFZ9W8Rov/oWCuipn6mkMAPSDOwxrdLl57iJTetJyvOXNhZ+CQ1pwskbw+Tlu+SFwzpJf70afGRR6p/7u0wVDBGk687xnolEqTZvEws8b2c1//TyOLP5b8z/kBe4JkOwRFxKgyRUTJH+f4Q2y2QTgsLcenb/bQL2yB1eGhUqwHwmJofGKLoYKFJ2cbeDU+rwDVq9XhjX82z52EoIzvIRZt5fVQFF7XJy68YrymVvauKxLrNQBwjNcWNIXkNS3hSuQA4IQJ6yy0l77dxrbpdsnriAbcSr62OtugIAcgr73kxrZpTq/nxkzKiMlcWpIDVMPr2IylIcjXdIVJGftxYsiTeL+0sjLbIGa5bCJfU+aCOsTP11bktjGrw4shS7ypGVliVbyOzKIxUV9H8jVTzpwrO5VsOKT47EV5bcDCsyAjD2eHATMLMpdYvm7JwpO8PuV7a3qLPenaPu7bnxjt3dN+bmqDoYK1bI4s467s7b73+2ObHHUximNOaPXjEujPbkg8BJD6y0fxQT7lba5RU3gzNIVsS0wZK9DKuhEtrX7Q63aqBQtPXNk87l3ZtCJzqdTqsLlNM+JfjtcvY2bHtmBmhwVNIT9pj6JVkkN4isE1sjCzI8brC7tBU4jPXOqIyrcMtE1HeY381JJ1VqW8Xgxebw15DakPW21TBk++OLPDr1Ws8JoT29dBWuOHmdkGkbbpGyhLTGwJV6nVYcW8jtQhLW1m+OuZ123m619ijUJecy5GL8h+UkYsX/dBvubchdQRkyVa4HUsX7fGSrxiXsfytYEZS9z44RqV8BqkmQ4ZG+VsKWMFZnZsDGZ2WOY1ZeSpLTxjvL6gyjrkjvH93Vd+85qUVMjtubXBUAG00z4LS7+jcUu/KwZd4B7+bxNKjhrVFOJEebqBE+Vw+A6L1XGY0swugZRRd1aHaJtObTH0Nrx4l2NTxr8C1Fqrwwn3Pt3scsd4/RpmG7wVzjYwoikMec1LBeOgKbwssV8y8SJuflixhIu1TdMCKjWvt6KDaTE6mfxorRygEl5H87VRXjNfj0W+vixxvi5owMlrnimeCcsWnhbapgvWtIHMJc98HeP1BTjJmWlgZgeH8h3FcL5i8DtsPGYspc7X9VaHWOD1FshclgS8zjNfvwZL7Ldgje2HlZkdTeoQvEh236aur2N1iOl8je4qWr6njGqsxJurQ+6eebm7967ysvqU77na59YGQwUI3vLFBW7/wRPRv7z04vPcv91/09nHNuGKzjKc9LEQLIYV7VVMA86BUhzAkzJMWx2iDY++t34MgXXWqMTWWdH2UlxgmQOLIZ97/usu3t575KS77XPzCxsT5X435PVGbGasgFbWj9YWx/7f5HE7xmsO3rnGAK9fwomyvwFkRQMebZs2IN86iLbpeZCW+ZPuW2t1mBWvrcyieQbD0mgl5sdVGGzJfyljOzaAKI3ww4o1rVVZYswSjry+E/m6JWvainiNOmQFOkz8sJKvadG7L5COmsjXEV639kTZxzmP2zFeD8YJ2OjEMhfKEvld4ks2KHOZDQtPSjeai0p4HZtFY2YYsdF8HbXwZO4xIB2N8dqqfIt8Jmat5XU57v/xR4a7e6YPKvdwXd+vDYYKlu8jf7XIvbPzaPQv+/Tq6h7/wpTCY0y2z0FT6IcVDTiHXXGIih+8CjYu8WwDDlR7ConZPwnjB/h2fEHRdz5lWLYYeoRteB7VuFHQ2vbS+at3uft+sLJZaENe84vAXyMrGnAOu+LQKz8GQoo0PrEUiVfnngSv/RNlSpEKFp6JO22jcgAD7aVcQ7ZNl8hccB8lUheiA6ylaCuvOR+HxbHPHjO8juTr5oaltYRNVo8XtLKB5TJ5PQtXxXlFLGVEeW1A5kJMHonIASiRoq1gS9FWXhdm0XC2gXfgzlijOQZOKKKzaAxowFmHcEq8f6JsOl8b4XVouUzMWmvh2VZe78H3/PxguKUVXi/E69oZ1iHgderZYbRUbGK5jJRjwUo8mq+N1CFhvmYqZX3dGgvPlnj91XtGuttH9fOyc/u5qQ2GCtby7m8udms3H4j+ZSdMb3nhGzMLw6RYHIdDAGeAlGxLTBnLIsPS+kJTOMWCphCY+ZZwPFG+CbpnDlFJGbE2PMvtpW2x8PxfT21w3390PeAlxn4Z+iHiRV5TS/gYNjPe836Nw9KmG+D1cmgKNwWaQjO8Bma+JRw3ZybjRPnixLxehauaawPdvBleY87JUW/OCdnIQXS8otGaaAuveSLB4thivuaV543BGvXFCcWUxPMguAZNNODIBZwrlHq2QUwOYMXCM5QDEMe2WB22G15HZixZydfhxibXiHUI51WkjFi+NsPrSL6m5fLlrbQ6bAuvWYc8jqGtJbMNsDQz8J1KTXzKiA0B7IuNwykGJNFN8jWAsmq5bEXmErNcrixfx1n5gz8Z70YN7hl/sM7v1QZDBQv4wE9fc08t2V72L//PZ250bx3q2qQ4tqC9WgMNOIsvP3pgw4NXnFIHr/AeDlqAR6KtPbklHGcbGJUDZNFe+tvfXuJWrd+P5ecXs7dzEBCCvF5zsKs75mll+SsTBnR0lyaebbAGGszV0GL60aMLeD3UAK8jVofXw8JzaGILT560mm2bxhXXfegA84OzIDgTorXRFl6/eaCLC12kLOTrmFbWSr6O+YBbmNnBtull0ID7pxlWZC4xq8O2ygHawmurdUhstoGZfB2pQyzk6w3I1ysDmYsVyUaM1221XG4Lr8M6hBeiLMwOW7MLdQj++WFlxpLV+ppyW9bX9ZKvK+e1z4ozt0HcxX8zM/JA+7hLGwwVrONTr+5wD/zvVWX/cvqEwW7ymEElj1vQym6DppAacP+DbOUL6jm0Ju8NdJgmrA4jFkOUasxGe6mPY8li1+iHWHtpJRaeMz4/3x06fBJbCx/gPZV/V9MmDHJTxgwueXcWZna8c4bX/guzMtvAqqaQ7aUL0HZfInMBr6kpLM8AH+H8bketDtFeOrGN8q3W8nr6ROTr0aX52iqvrejmF6AFeHfQAjwYs2hGJ55FE7OmtSJzieXrSqwO2yOvzczsAK+ZG/2woAGPyVysyG2jVoeQJU5ooyyxtbyeNh51yNjB/hIV5tCknkXDOuRFfKdys6MYVuprs3UI62vU/n6013ztv8fi7R7nd3bPfPnm4o/t7n9tMFS4pBM//Yz7wBfoecfpd3EP9zu/+qFVpQUN+CF0Bjy9ofSEgl9Qtw3DbIPEF3lfxqYHNz/8YIst7ZZSBpc3tBiipnAaWt2SWwxF2ksrtfCccO9TgPnMtyK/Hf2zTm8BQl5fhhMKXjVIGex4Ia/9jyLXaDaGpVGPmTJiFp5WeE2Ziz/bwAqveYWOV+r8qDmvDcyiOQhe86qgL9kozKJhvu7ko1P727FZNJT63JRYYldomwav/QYrpjNambLrI2XEeM05IrTNbWtUnK8N8Low24D52vuIc6jl7cjXqWcsxTTg/XGiPKmNJ8ptXc+Wfp+nX7Rc9nMBeW1BbpulhWelvLYwi+YgpHwcwuuXTpSO3kFet/0j3hIl2vR4jNeXgNeUsqUMyzKXV1CHrM+jDgkAv25YT/fDPxof3Nt+ftQGQ4VrectfwEniQNxJokvXTu5/3DO5cOSLoNmbbEArGw7f4YvjzAVqHlNGbLYBB13xJD51mLUYghyAuPlRaXvpv0Pq8xVIfs4G6VC613P2IZ/XFrzT+cJimkJqHal5TBkxXlvRFIa8ZrFqwepwPXj9SsDr7pC53FqBzKVSXpvRgENffDJwQraar63M7Ah5zc//eGjAB7ZSA55XvojJASptm66U15xhNDnxBhDxDfM1c4+FGUurkHe4Tn6YydeQ2HE4nx/jIUscmFiWmKV8q955HZvZYTVf90JtNN1AfT03MrPDAq/XQka+KpCRZ1aH+B9i3P692UPc7946NLi3/fyoDYYK1/KT/3OZW/rm3rJ//cDvTHP8IFvwmI5pr9oyLK3sm6zygZim0IpWNmZ1aEHmkrUl3L0/etUtWPnu2ZX8AFvwHVj1lQnyuid4bXVmhwVe05p2OU+UvZpQvC5DqDN3R62zsMd4J9xjKolKeM0TipkVbGZU8vqa+5twqBSvio2+pPXDLZs7djWPbTI8i+YZdHscCGZ2XIWZHVe1YWZHNdiU+1vm65e2ll7ZrEYOUBGvVYeUW57C/axDeCXe/9qzIkWyak2btSyxnnkdO1EehY3NIYk3NjdiFs3yYBaNGV7H8rUBy+W865AwET32pamub48u4d3t5mdtMFS4lA8v2Oy+9Ys1Zf969pTh7su/Nqjs47V6IDbbYBiGy12HIXMpYzeKwecDq0MruvmYxZCFNryYhSfb8KqxGJr9lefdrr3HP6QC9xa8E+MPHzh9686pw92XPpqe17GhUsPB65GpeQ1N4fPQ8fqtkpatsyxY08asDtk2fQsGz7IgqiTaymvL+doCr2nh2UQrizXiBpB/YlbJWlX7Nwuhe94ZWC5byNcFa1pcpfPlW5S5UJaIJseKoj3x2sKMpV2Yt8B87YflfG2V19XKAcRrn4HV3y5YLgd1CCVInLGUOqzW1xxe/sRa5GsPIPL6tmHnOM7SqCSa8No7SFdoHZ//+jTvnvZ3UxsMFa7pUXgp3nz/s/jr+NnY+KsudN/9vTEVHj2bP8tqWFo2r+bDo1D7/Tgt4Tzo+EGegRMKtvqnjGWwOnzbqtUhkt8JT2DMwv5GWmdVIXOZ9Ol50MN+mFK5JKcHPXqL4y2IVV5bmG3ApSlYeH4Ip+NsA2plLfLainzr0YDXpFu11ln1yGsO4OWVQT8GQCs7MbFWlifIBctl76WR1zej5Z5dHynDdL7Gd5xvTUucOKei0fL1y7DF3nbAIw9wsJKvWYeEVofsYupR4cZmVp+FGK/N5GvxurDM0XyN2WETE88Oi802sFyHWJElhvItjiW7EWvZrwpr2rAO8fPD4EvPd/963yT/rnZ3WxsMVSzp1D9/1h07Vrr7XTwc28xfTmg/EhtSYmW2QZMPMkDjhPgBGEKVMt6EvdDrgcWQFUu4pzBAiIM6/ai2De8fnt7ovvfLdf4hC7f5LOVWIjWvX8XwnXXB8B0rWlluLoRWhxPA60vF6yYcK94R43W1VofthddW8nU424AbmxZmdsTy9QXYoLYocyHf2TXI7sFKox55HZttUOlwy0pxK/d3j0dmG1iwXH4DNQj/+WFlzkksXzcir1+FBHJdMLPDTL42ymvL+TrG65GQ1w2HzK7SKJevi8f71ckD3Wc/dmXxx3b5vzYYqljW3/rWYrfm7QNlj/DVe651t4+6pOzjeT0QHZaGHflb0eqTOmKzDa6G9upK/EsZMU2hFYuhmMxlaK+O7nrosquJ//g3L7mNWw+1+RCmeF3hEMA2v+kW/sAqr3nlkFcQ/ahGA+4fp9rbCyCR2o3Wez+GgNejGozXsVk0lQ6V8rHM4vY8aGX3h7MNDGhlt6DTYwk6Pvzoiq+32RXO7PCPU+3tGK8bMV9b5rXV2QZbka8XB/nach3SiPma7gK8gOeHlXxttQ7ZynwdzqIxkq8pkaJUyo9a8Pp7fzzWjRva23/adndbGwxVLOlDj7zl/umZt8seYWC/7u4Xn7mh7ON5PLCLGvDQVxbnoXMMaK9iH2QLmsKYxVDBEs6AxVBeFp6bdh11H//aojgF2b5Qmm9Lfs8Kr83M7IhowAfhRHlMlSfKJaBX8ENsZgetaWkJl9rCk0U0i2k/2IpIyU810R54bcUHfBF4/W4w28DCzI4D6OSaF1ougzZ3YLYB+Z0y8rKEqzteo2DnbIySWTRYozkGNoDM1iG0XEanoh+cRUPL5dS8Vh1yelU462URNjZLeG2kvrY62+DA8TP52iN2Jyv5OlKHZCHfajZfA4dz8MF+8a9neIi0z5vaYKhyXSfe9wySTWmh7B/yJ/dOdFcN7OHfldtt6j3nrmvqlzwLmsLzpSksi3s9WXhmZTH0ie8sda+s3VcWk5YeqCWvCzM7YNsX+oDTyYJ2byljGb6g3g5OlK1YwoXWWWxtp4Vnn8S6+TwtPOuJ17HhlpxFwxb/1Pl6Oabqb9pXepXOCq8fXYPZBt5LI6+nYrYBW+9TRkwOkJV8q954PXf9Kcz2+XA1uEYm8nVkxpIVy+WwDiGbb8b8nt6J8/VqWPatgXWfH41Yh8Tqayv5einqkM1BHWJltkETXhvJ17E6JCspUkv5+rphvd0P/2is/5Fql7e1wVDlsv4+7CqXNWNXefXgC9yP/2RClc/Suj9/DMPSjgdDADkgrD8Gz6SMmKYwq8Kr2vcVWsLxeBasDjfCEm7FO6Vf6t0zlLlMvO/pkl34EMerh/R0r2/YH9599ueUvOaLmIThO8l5jcLrjaDw4jBHbuiljpDX3AMdA+/0wYmts2jhuSy0hMOE5tuHZ4NZPfE6NtvAar62MosmagnXL72F50ZaHQZt01lawtUTr2Mzlizk69eRr98M8nVWJxTV5vsYr0czX1+QtiUnVoc0Kq/DfM01t8DrWH1tZRZNyGteih1tIF/nbbncUr7+Z3S2D0OHe3sPbTBUucLv7D/qPvKlMq3mZ449/+sz3Hn0iMkxnkbL6EG0IvlR7bA0/1iV3t4CL94l8OL1w4pW1qrVIWUuC2nh6YGWZdv0/Q+/5p5eut07eunNQQPOd3/3u9fb4DVaRg8Gwy2vwbC0K6oYllb6biv7qaCVxdUwf5GyLLwqe1Wn/8oqr/eC15wn4keWlnB1xetYvgavRyTm9TZoZdkO7YeVmR3Pgjv7gpkdw3vDmhYFa8oo5OscLeHqidexYWkWZixZnm0Q4zXzwLWJLZdjVoeNmq9jvL4Gs2iuSDw7zPJsg2gdYiBfsw6ZH+TrWtfXP/t0+3aPKH4fa4OhiEQV///6Qy+79VsOlj3C5Ov6uG/99uiyj1f7QExTOKhnBzemfzZXBSt9fRwOxi9PX0FCTSHnQaQtCZ17CQNn3jnon8K7whVx7kinDFoMPRaRA9yCq+LsYMgibvyzee6U780VHPTr//U6N2vkxU68DoA582NBU4jhdz6vqZG9A/riCu2S409Uwb1Ra1oDVoe0pH0cvD7pnbuybXo6WoB7dm0sXi9AcbM7GCplIV8fOnlaAx7y2sLMjheRr7cH+ZquQ3QfShllrWlpudxg+ZozF6hR98PCLJpy+ZoDQTlrKWXE8vWlyNcTElvTFqwOIbc9FeTrmRlaiddLHRLN1wZmLEVnG7AOMTCz4wVsUu/AZrUfFvI1L3VSYueXv6xDpkE6mpXlcmt57WPTXm9rgyGDlX3xrd3uU99d0eyRFj80q9nHK31wCa6ibtlf+kHuB0kE/VtTRxMNOF7QVHyQU2tlYxZDVq2zmPzG9+8Iq8NstmR+A84R65pxjriwZxc394tTC9SxxmsrWtlYC/A0A1rZlWjR5uR2Py7s1sHdDH166pgL+dZRT75FH9Rx4PVlDcbrmFbWTL6GzWq4AWRhZscrkNSsD+ZBmMnX4PUxn9f4oE3Ad++lGckS6yVfLzM82yCWr282UIesBK831AmvWYeMw6bHwAbjdb3lawuzaFYiF2wIzkks5+vx2KQemJGVeFvydeqarBbPrw2GjFC+6y8Xuh27j5U92oCLz3P/9/6byj5eyQN5Dimp5PX4fxPTq1mYbRCz8OyGK023WbDwhByAE9L9yLK9dP7qne6+f3gVbf2lz+E/3x9/ZIS7Z/rlZ+9KwevYUCnTWlm0aA9G61/KWIeNhVcDDbhl66wr4S99NXymswjxunoUm2hlkSIszOxYC838Kmjn/chyFo1/3LbejlkdKl+fRrEnBhPOwKZr6ngC36lHgu/U0djYTD2L5i3w+jXxuiw9VIeUhabwQJiveaeF+to0ryFLZNeHH1dlaLlcSR3iv5b2eFsbDBmt6s8WbXEP/uzNZo9203UXub/97eub/Z3WPvg2hgAuxRBAbCyfDcsa8CtwQnFNRicUZ99wG2+8i7bkRWhP9sOK1WFM5pK1hefUB+a5Y8dLi3Ufi27nneOe+8vp/l0uBa85BNCfbWDFBzymKbSgld2BtuQX0J7shxXdfMzqsGF5HQxtNcPryGwDC7zeDl6/GPCao4zuNGC5HJMDNCKvN2PG0jLw2t+ztlyHjEAdwtlUKSPKa+zF3GnAwlO8Ps0MDiNeHmzYm+F1JF8Px8yOkYlndmyHJILSYz8XmMnXqPt3BrJEC/k6ZR6qxXNrgyFDlGd+/jl38PCpZo/4yTnD3CdmDW72d1p6cB924Z4LNOAcvsPCy99waOk4eTxuVVN4HOdfT3C2gbeBSaxuRecCOxhSRi3aSz/64Atuy44jzb7Nj00d6O7/6JVNfqdWvN4PXvMk3v+C4vCdO6EpZItmyuAJPE/k/bCglaXV4Vzw2t826ohccAu0sql5vRytkpuCVsmLundwky/L7spm3fAaV0989tAH/C4DJxSxfG1BK0vZwZO4+uxb05LXt2EWDTdmUkasbTpr+Va98JpDW307Ss6iYb7mWqWMmAbcQr4+im6KJ/Ed52PWEXQu8NpgHdKo+Xoe8rUfputrtPdPSDyLhvma3UJNeI36OnW+roXlcjX52udZe7utDYYMV/ThBZvdt36xptkjnoOpQj+5d6Ib0f/8Zn+v3IP8AD+G4TuhVjbLYWnlnrul+y1rCh9bBwtPDDE7G/hSn2TAwvPNXe+71/HPj6zlAPf96BU3f+VO/yma3O7erZN79qvTmtzPO2rBa24q0C85HL5T8AHPaAhg9M214s4or9ECzNeWOjiw6EQpfdwNOIG/BCfyKeONGlh41gWvsQicRRPy2my+NjKz41HMNjgRzDYwwWvkatrC+dGI+Zrv/5GA19xUoAa8N3JjyngFV57XB7No+pzXoTD/KeXr4nPH5kGY5TUsl2dmaLlcz/maM5Z6WaxDwGvOE0kdVnm9Brl6dZCvs7YSr5bXqdcuz+fXBkPG6P7h95e7xa/vafaoF/To7J7+0s3N/k65B8PZBryyO+aSju7yxP72Ma2sFe/0mMWQDQvPDyBzKb1in3XbdGs2BzqARH//h2PdhGG9ytHO5c3rcAggNxzGXQpeZzQEsOwba+EBy7MNYrxmmyTbJVPGtgOwOtxWegUoa8lG3fAaG5tHvY1N8nos/O0HJc7X6/ZgZgc14Hg9xbAys+NJYHbYw4yvbyTa2oejvT1lbAGvla9Pr0CYr3kveZ06X8fqkPNxokwXptQRzdcWeI3W9qVBa3vWVuJ1m69BmvHgdVbDiCvlYLQOQccLO3BTBzvNDgdzTizk61gdYrW+Tr2GeT2/NhhyQHbOVxe6d/eUH/jIp+yMnqtFD85o07PPQ2sdrR/9sDDbgJrCl2BL47e2W9FeRS2GDFh4HsA6cj391aSFJ3WYWVln8Uv9m+ioael60m/Nutz96ZwRPq2it/Pi9TOR4TsWeB2bbWBlZscCtCbvhp+zH0NgnTUKm40p4yBODOexVdJ7aWybvm1YJ0fssoh64TXbbCn78eNKDJXiIMCUEeN11htAlb6/+eD1noDXQ8Hr6xPzmt+7lCX6vQvkdZZWh/XC69gsmiyHtlbKnVgdwtZ22mKnjhivh2AwMAfzpQzWIbQSL8nXyNN3IF+T31lEvfDaan0dy9dW6pAYrwcjX49OnK8PYcPjacoSva9f1te08GROyCKy5nUWr8naMbTBkMOKHD520t36xefdyZN+OdL0ibriLPwr/3mkm3HtRU0fDO6JaQoH4kR5fP+Mqvbg+Vr7Y0F7hStO/hcUP7/0Tu+a+Ht9Ca6i8qqTH2wdZ0ti6qAcIJS5ZGkx1Jq2LWIw+ooL3fc/OaZVcNSK15eB1+NS8xonyk/gC8rXFHLjh1fCOOwpZUR5De/0GxJ7pxOTkNdsm74Jtn190XqfRdQ1r6GVHZdYK1uY2bEeMzu8ryaukYWZHYuRr7eG+door8llWi6z9T6LqBdex4a20uKNVm8pg11CvJJaUodgaegOlVoDzsF37xwM6hDYPd5g0UocmDVkHRKZsWShvi7ka0iifV7zRPlWA7NoovnaSH0dSjbY6X0T6v6LDNchKfNnXs+tDYackP1/S95xX/7p6lYd/eM3D3Sf+dWmw/WKf7wCU/U3Bn7JffFBnmLgRDn8IPM134jX1Q+vL2XQAoqWOX70gjaU2ufUEbMYGp2h1WFrBs4Qg74Xnuse+9zkNsGRN6/74AuABU7qCGcb8AtqEgrC1LMNYta0vXCSM92ADvMJbDQeCVrbs7TOqhdex4ZKmdGAB7MNyOuJBmbR0IqS7e1+WOF1mK95qjgWVodZyVzqmdeqQ3zGNr29CvMg1gbzIKzymq++EfP1CqzRxmCN+uI7dYqB79SwDuEaWZjZUU91CLsY2FHBjqEsIs98ncXrs3QMbTDkuBpf+KfV7rHF77TqGa4ecoH78acmNPndt6CV5YfZj/NxBfUWaa98SEpub4KF5/LAEs6MxRDabPcFMpesLOHow/vZn6xq1oqyCNQ52AZ/5AuTXd8eXYp3tfr/LHi9FrxeFfA66+E7rX5DwS9a1YBvPMNrf+uuG/TFnECeOmJt08PxhT4ygxbgeuJ1zAfcyiyaGK+vxcwO5p+UsQHF/UqrlnDK1wVqxOoQM7yOaMCvB6+HJuY1T1p58uqHlTqE7h97AylSVrLEusrXsfrayMyOWL62MNvAcr6mjG1vUF9nZeFZK177+aLeb2uDIecVvPubi93azQda9Sw9cbL3B7OHuo/dcGnh99/B8J2Xg+E7WQ8padULi/xSTHtlQQNO/S716X5DIrWE1GH6J2aRt5T7XTFLuP5oleSV8Wrj7odecmu3HsbQNv+dlz/qZz5+pfv4TQPL/0ILj1TD66hfMiCw4ANudbYBvzT5mfOX14oOM8brAWht55XxaqPeeW05Xw/GBhA7p1JGIV/Do9zntRXdfMyathF5XahDOGPJI4rpmR3YWOAGQ8rgfJznA15bmUsVzdeoQyY2WB2yDbIVtvn7ucdKvo7VIUORr69Xvi77sX4R50rbAylSVpbLta5Dyr7JOntAGww1WLC7/nKh27G7+aGP/svo26uru3v6INfr4v4lQ6Wovbo9w2Fp/nO25XZUe2VAK/seKiBKNkq807GrMA2tbj0TW2dFrQ4zsIS7/+HX3HMr33WnfB+8Fhbz16YMdA/8WnlJTgt/fvbhSnndu19/x7UqRtbDd4rHbev/sdkGlPpQ8pMy6Nb3+FpYHXrGDGxtpywiNa9fRRcKHQn8oE0dbb2qiXrkdS/wOtTKZjlUqlI8uUnNYtoPE7wGbR6HvtjnNedBkNe0fkwZsXydhcylPfA666Gtla5zLF9fjHxNrXXK4FdxyGuyecYQA7yGa9WG/aW5oDfkAKyRqon2wGsz9TXy9dYgX19ioL6O8bojiE1es/s0ZcSsabOQRKfkdUo8s3pubTBkhWQLx/m97y11y9fsa+G3Sh/uem4nN+rKAe7WSUMKV99vgjY9qyElpc/U+p/qSVPIkzBqZVNbDNGTmwnQj2qsszbtOuq+/C+r3avr9pXsvvvHj93uhEuD9/3KiKo6F8LjthdeRzWFRmZ2PIZNs+Pe5gLXYJwB66z12Fh4JZC5VGN12J54zTWihpda3pQR43VPnLyzKEwdMcvlceh6GYirqSkjZgmnfP1hHcINV57IpwzK6yiz8yOLEwr/eJXeDnnN44xHd0ByXgMvbgj7IV6f5jUxmWygvl6NWTRrglk0pvM1hnFzyGvKiNYhVVh4WqpDUuKaxXNrgyELFFt5jL979C33k6ffbtNJIQ9Nvfy4q/q6r919levZrXMrny37X6MGfIXR2QYxq8OrYAfHfynj3SMfuEVolfSj0tb2Hzy90c1dscNt3HrIP1yrbvfp1cX943+fVNHMhZaeoF3wGoNU/R5gK7MNnoG++EDgMX1VH/Aa/ukp411Y09LZxm8vFa9Pr4iVfL3pAGbRbCs9oTivUwc4/KTfXIjxmvadtPFMGczXCyFF4uZ0McTr00hY4bXlOuRp5OuDYb5WHVL8KDnVIWehaHKD+XoZ8rWXegqOVbcbmLdmtr6O1CGVSuys1tdNiFJHd2iDocaLtXT9XnffD191h4+crOiZaW054KJubuzQXu6uCQPcyIE9KjpOW/9oH/zcOUDFP6HojDp1zojEXpR4IwtxAr8ThaEfQ5ORPQAADZNJREFUl8PqcGxiq8MT2Fdga7vfNs2WslvxhcFCv6X49yXb3bxV290bmw+5PftPwlqu9GShpb8vPj5qRC/3gz8YV/wxl//rldecbUBe+1HpCYV/jCxuR3mNqwVjE1vCkddz0doeSpFo4dmtFRae4nUW7Gj+GIWZHczX3q+xtf0uzKJJHVFeG8jXBctluGz4WZb5mkNUzxWvS2iTqg6JzaJRHVKyNE1+UB3SBJKyd6Ti9R7UIQuCfC1el12mwgMFXtPC00vYzNezUF93b2f1dfNI2H1UGwyJ1ubXH3rZrd9ysOpnPwefqL69u7qrB17gLsfGw3+Y0N8N6H2u68JqMqMoaK/Qpk0teDF4haegKUysvVqKIT2bA+90ykjY7pY6YhaeMYuhvdhsenXTAffG1gPuhTd2u407jrhDh0/g5be8CdHce+yARfrNmZe5P50zorlfy/SxuuM1Zxt4X1DkNa1M2ZaYMpZBK/t2oJW1oC8mJuJ15cyoWb4OeY2XPJNaWYO8tpKvH8PmwnH/Sw6YKV+3juvJeM06BPk69cyOWL6+CDKSyYnnQXD1YpIN8boOeM1ZNIlnh0V5baS+bkRet461dn5LGwwJ1+Lz/7zaPf5y62ws2/wy8cXbEWdL55zTobDZ0AWdD+fi0iw7EI6ffL9wX/++XV3XTi2fiO9Gd4B/tZInYfxC75r4YhibQA6hs8KPzni/vc/z70lze88R5/YfOo6NguOu4znnAKsOwP4DDDRDEXviffcephzyH+/LI7p36+QevGekmzSiTx6Hb/aYdcNrmG685+HPDZkLurrkvObe0uGgzVa8Pk058brCfI1CtWvLf9rs57raB8Xr8giK1y2Tczfaof3hwFbqEPFavG6P9bV4bZPX5V+VvUe0wZB4Td7cdsB9/edr3GsbDuR2spn4Lerpa4hAt/M6u9nj+7n7P1q9S0Q1L1u8rgY9/W2IgHgdIqKf2wMC4nV7WEW9hxAB8TpERD+3BwSs8LpesNQGg5GVYpv2Z37yilu0erc7hQ4DhRBoCwIX9uzifmvGIPdfbr68LX+W+++K17lD3K6fQLxu18vbsG9OvG7YpW/Xb1y8btfL27BvziqvrS+INhgMrtBf/fxN9/jS7e7I0VO1eXWUm+fTqV+b19/Az3L5Jd3cH945zM0aebF5FMRr80tk5gWK180shfJ1M+DYfki8bmZ9xOtmwLH9kHjdzPqI182AY/uheuK1RSS1wWBxVc68ph8997b7J/zbve+44Vepl1ZrBGgXds3gnu6zH7/SDevXvdZPX/XziddVQ9guDyBet8tlbfg3JV43PAXaJQDidbtc1oZ/U/XOa0sLqA0GS6vRzGv52Ytb3HzIJ97cfMDtPXjSfeB7Hzbzd3qo/hHo2qWT63/RuW704F7ujjEXu3FDe9f/mzrzDsTrdrOUbX4j4nWbIdMf1AEC4nUdLJJeYpsREK/bDJn+oA4QaM+8Tg2/NhhSr0CFz//iW7vd3OU73YoNe92OPcfcyYrnNlAbwR4uRf4ItAJrjMbu0b2TG9yvm5t89UXuV2A72rdHl/xfmpFnEK+NLESbXoZ43RJc4nVLCFl8XLxuaVXE65YQsvi4eN3SqojXLSFk8XHx2tqqaIPB2opU+Hp2HTzh1mw76LbvO+Z2HTjhduPnPfi3H3McDvHfsRPu6PH33H52PxSeo8NpG8uOFT6h/qxZBIjxKU44pJcWrBBpY3RBt86u27nnuO7ndnIXdO8MO80urjeGM/bp3sVd0ruru6TnuW4UpA+KDxEQrz/EwsIt8TqbVRCvs8Exq6OI19kgKV5ng2NWRxGvs0FSvM4Gx6yOIl5nhWS+x9EGQ7746uhCQAgIASEgBISAEBACQkAICAEhIAQaAgFtMDTEMutNCgEhIASEgBAQAkJACAgBISAEhIAQyBcBbTDki6+OLgSEgBAQAkJACAgBISAEhIAQEAJCoCEQ0AZDQyyz3qQQEAJCQAgIASEgBISAEBACQkAICIF8EdAGQ7746uhCQAgIASEgBISAEBACQkAICAEhIAQaAgFtMDTEMutNCgEhIASEgBAQAkJACAgBISAEhIAQyBcBbTDki6+OLgSEgBAQAkJACAgBISAEhIAQEAJCoCEQ0AZDQyyz3qQQEAJCQAgIASEgBISAEBACQkAICIF8EdAGQ7746uhCQAgIASEgBISAEBACQkAICAEhIAQaAgFtMDTEMutNCgEhIASEgBAQAkJACAgBISAEhIAQyBcBbTDki6+OLgSEgBAQAkJACAgBISAEhIAQEAJCoCEQ0AZDQyyz3qQQEAJCQAgIASEgBISAEBACQkAICIF8EdAGQ7746uhCQAgIASEgBISAEBACQkAICAEhIAQaAgFtMDTEMutNCgEhIASEgBAQAkJACAgBISAEhIAQyBcBbTDki6+OLgSEgBAQAkJACAgBISAEhIAQEAJCoCEQ0AZDQyyz3qQQEAJCQAgIASEgBISAEBACQkAICIF8EdAGQ7746uhCQAgIASEgBISAEBACQkAICAEhIAQaAgFtMDTEMutNCgEhIASEgBAQAkJACAgBISAEhIAQyBcBbTDki6+OLgSEgBAQAkJACAgBISAEhIAQEAJCoCEQ0AZDQyyz3qQQEAJCQAgIASEgBISAEBACQkAICIF8EdAGQ7746uhCQAgIASEgBISAEBACQkAICAEhIAQaAgFtMDTEMutNCgEhIASEgBAQAkJACAgBISAEhIAQyBcBbTDki6+OLgSEgBAQAkJACAgBISAEhIAQEAJCoCEQ0AZDQyyz3qQQEAJCQAgIASEgBISAEBACQkAICIF8EdAGQ7746uhCQAgIASEgBISAEBACQkAICAEhIAQaAgFtMDTEMutNCgEhIASEgBAQAkJACAgBISAEhIAQyBcBbTDki6+OLgSEgBAQAkJACAgBISAEhIAQEAJCoCEQ0AZDQyyz3qQQEAJCQAgIASEgBISAEBACQkAICIF8EdAGQ7746uhCQAgIASEgBISAEBACQkAICAEhIAQaAgFtMDTEMutNCgEhIASEgBAQAkJACAgBISAEhIAQyBcBbTDki6+OLgSEgBAQAkJACAgBISAEhIAQEAJCoCEQ0AZDQyyz3qQQEAJCQAgIASEgBISAEBACQkAICIF8EdAGQ7746uhCQAgIASEgBISAEBACQkAICAEhIAQaAgFtMDTEMutNCgEhIASEgBAQAkJACAgBISAEhIAQyBcBbTDki6+OLgSEgBAQAkJACAgBISAEhIAQEAJCoCEQ0AZDQyyz3qQQEAJCQAgIASEgBISAEBACQkAICIF8EdAGQ7746uhCQAgIASEgBISAEBACQkAICAEhIAQaAgFtMDTEMutNCgEhIASEgBAQAkJACAgBISAEhIAQyBcBbTDki6+OLgSEgBAQAkJACAgBISAEhIAQEAJCoCEQ0AZDQyyz3qQQEAJCQAgIASEgBISAEBACQkAICIF8EdAGQ7746uhCQAgIASEgBISAEBACQkAICAEhIAQaAgFtMDTEMutNCgEhIASEgBAQAkJACAgBISAEhIAQyBcBbTDki6+OLgSEgBAQAkJACAgBISAEhIAQEAJCoCEQ0AZDQyyz3qQQEAJCQAgIASEgBISAEBACQkAICIF8EdAGQ7746uhCQAgIASEgBISAEBACQkAICAEhIAQaAgFtMDTEMutNCgEhIASEgBAQAkJACAgBISAEhIAQyBcBbTDki6+OLgSEgBAQAkJACAgBISAEhIAQEAJCoCEQ0AZDQyyz3qQQEAJCQAgIASEgBISAEBACQkAICIF8EdAGQ7746uhCQAgIASEgBISAEBACQkAICAEhIAQaAgFtMDTEMutNCgEhIASEgBAQAkJACAgBISAEhIAQyBcBbTDki6+OLgSEgBAQAkJACAgBISAEhIAQEAJCoCEQ0AZDQyyz3qQQEAJCQAgIASEgBISAEBACQkAICIF8EdAGQ7746uhCQAgIASEgBISAEBACQkAICAEhIAQaAgFtMDTEMutNCgEhIASEgBAQAkJACAgBISAEhIAQyBcBbTDki6+OLgSEgBAQAkJACAgBISAEhIAQEAJCoCEQ0AZDQyyz3qQQEAJCQAgIASEgBISAEBACQkAICIF8EdAGQ7746uhCQAgIASEgBISAEBACQkAICAEhIAQaAgFtMDTEMutNCgEhIASEgBAQAkJACAgBISAEhIAQyBcBbTDki6+OLgSEgBAQAkJACAgBISAEhIAQEAJCoCEQ0AZDQyyz3qQQEAJCQAgIASEgBISAEBACQkAICIF8EdAGQ7746uhCQAgIASEgBISAEBACQkAICAEhIAQaAgFtMDTEMutNCgEhIASEgBAQAkJACAgBISAEhIAQyBcBbTDki6+OLgSEgBAQAkJACAgBISAEhIAQEAJCoCEQ0AZDQyyz3qQQEAJCQAgIASEgBISAEBACQkAICIF8EdAGQ7746uhCQAgIASEgBISAEBACQkAICAEhIAQaAgFtMDTEMutNCgEhIASEgBAQAkJACAgBISAEhIAQyBcBbTDki6+OLgSEgBAQAkJACAgBISAEhIAQEAJCoCEQ0AZDQyyz3qQQEAJCQAgIASEgBISAEBACQkAICIF8Efj/W0LxmoaCSrcAAAAASUVORK5CYII=)"
      ],
      "metadata": {
        "id": "KW2bQJp8b2_i"
      }
    },
    {
      "cell_type": "markdown",
      "source": [
        "![Screenshot 2023-11-09 at 19.43.44.png](data:image/png;base64,iVBORw0KGgoAAAANSUhEUgAABFAAAAJyCAYAAADjMzQ7AAAKq2lDQ1BJQ0MgUHJvZmlsZQAASImVlwdQU+kWx7970xstIXQIvQnSCSAlhBZAQDrYCEmAUEIMBBU7Iq7AWlARQUXRBREF1wLIIiqi2BZFBewLsggo62LBhsq7wBB29817b96ZOXN+OTnf/zvfnfvNnAsARYErFqfCCgCkiTIlob6ejOiYWAZuEJAADpCBGbDj8jLErJCQQIDYTPy7fegG0GS8ZzGp9e///1dT5AsyeABAIQjH8zN4aQifQfwlTyzJBAB1EMnrL88UT3IbwjQJ0iDCDyY5cZpHJjl+itFgqiY8lI0wDQA8mcuVJAJAZiB5RhYvEdEheyBsJeILRQiLEXZLS0vnI3wSYROkBsmRJ/WZ8X/RSfybZrxMk8tNlPH0WaYM7yXMEKdyV/6fj+N/W1qqdGYPI8TJSRK/UCQqIc/sQUp6gIxF8UHBMyzkT9VPcZLUL2KGeRns2Bnmc70CZGtTgwJnOEHow5HpZHLCZ1iQ4R02w5L0UNleCRI2a4a5ktl9pSkRsnySgCPTz04Kj5rhLGFk0AxnpIQFzNawZXmJNFTWv0Dk6zm7r4/s7GkZfzmvkCNbm5kU7ic7O3e2f4GINauZES3rjS/w8p6tiZDVizM9ZXuJU0Nk9YJUX1k+IytMtjYTeSFn14bInmEy1z9khgEbpINUxCWAAQKRX14AZApWZE4ehJ0uXikRJiZlMljIDRMwOCKe5RyGjZWNLQCT93X6dXhHn7qHEP3GbC7nPQCu/ImJiebZXKABAGc2AUB8MZszbgFATgWAawU8qSRrOjd1lzCACOQBDagBbaAPTIAFsAEOwAV4AG/gD4JBOIgBSwAPJIE0pPPlYDXYAPJAAdgOdoNSUA4Og6PgBDgFGkAzuASugpvgDugCj0EvGACvwCj4AMYhCMJBFIgKqUE6kCFkDtlATMgN8oYCoVAoBoqDEiERJIVWQxuhAqgIKoUOQdXQz9A56BJ0HeqEHkJ90DD0FvoCo2AyTIO1YCN4LsyEWXAAHA4vhhPhZXA2nAtvhUvgCvg4XA9fgm/CXXAv/AoeQwEUCUVH6aIsUEwUGxWMikUloCSotah8VDGqAlWLakK1o+6helEjqM9oLJqKZqAt0C5oP3QEmodehl6LLkSXoo+i69Ft6HvoPvQo+juGgtHEmGOcMRxMNCYRsxyThynGVGLOYq5gujADmA9YLJaONcY6Yv2wMdhk7CpsIXY/tg57EduJ7ceO4XA4NZw5zhUXjOPiMnF5uL2447gLuLu4AdwnPAmvg7fB++Bj8SJ8Dr4Yfwzfgr+LH8SPExQIhgRnQjCBT1hJ2EY4Qmgi3CYMEMaJikRjoisxnJhM3EAsIdYSrxCfEN+RSCQ9khNpAUlIWk8qIZ0kXSP1kT6TlchmZDZ5EVlK3kquIl8kPyS/o1AoRhQPSiwlk7KVUk25THlG+SRHlbOU48jx5dbJlcnVy92Vey1PkDeUZ8kvkc+WL5Y/LX9bfkSBoGCkwFbgKqxVKFM4p9CjMKZIVbRWDFZMUyxUPKZ4XXFICadkpOStxFfKVTqsdFmpn4qi6lPZVB51I/UI9Qp1gIalGdM4tGRaAe0ErYM2qqykbKccqbxCuUz5vHIvHUU3onPoqfRt9FP0bvoXFS0VlopAZYtKrcpdlY+qGqoeqgLVfNU61S7VL2oMNW+1FLUdag1qT9XR6mbqC9SXqx9Qv6I+okHTcNHgaeRrnNJ4pAlrmmmGaq7SPKx5S3NMS1vLV0ustVfrstaINl3bQztZe5d2i/awDlXHTUeos0vngs5LhjKDxUhllDDaGKO6mrp+ulLdQ7oduuN6xnoRejl6dXpP9Yn6TP0E/V36rfqjBjoG8w1WG9QYPDIkGDINkwz3GLYbfjQyNooy2mzUYDRkrGrMMc42rjF+YkIxcTdZZlJhct8Ua8o0TTHdb3rHDDazN0syKzO7bQ6bO5gLzfebd87BzHGaI5pTMafHgmzBssiyqLHos6RbBlrmWDZYvp5rMDd27o657XO/W9lbpVodsXpsrWTtb51j3WT91sbMhmdTZnPflmLrY7vOttH2jZ25ncDugN0De6r9fPvN9q323xwcHSQOtQ7DjgaOcY77HHuYNGYIs5B5zQnj5Om0zqnZ6bOzg3Om8ynnP10sXFJcjrkMzTOeJ5h3ZF6/q54r1/WQa68bwy3O7aBbr7uuO9e9wv25h74H36PSY5BlykpmHWe99rTylHie9fzIdmavYV/0Qnn5euV7dXgreUd4l3o/89HzSfSp8Rn1tfdd5XvRD+MX4LfDr4ejxeFxqjmj/o7+a/zbAsgBYQGlAc8DzQIlgU3z4fn+83fOfxJkGCQKaggGwZzgncFPQ4xDloX8sgC7IGRB2YIXodahq0Pbw6hhS8OOhX0I9wzfFv44wiRCGtEaKR+5KLI68mOUV1RRVG/03Og10Tdj1GOEMY2xuNjI2MrYsYXeC3cvHFhkvyhvUfdi48UrFl9for4kdcn5pfJLuUtPx2HiouKOxX3lBnMruGPxnPh98aM8Nm8P7xXfg7+LPyxwFRQJBhNcE4oShhJdE3cmDie5JxUnjQjZwlLhm2S/5PLkjynBKVUpE6lRqXVp+LS4tHMiJVGKqC1dO31FeqfYXJwn7l3mvGz3slFJgKQyA8pYnNGYSUMGo1tSE+kmaV+WW1ZZ1qflkctPr1BcIVpxa6XZyi0rB7N9sn9ahV7FW9W6Wnf1htV9a1hrDq2F1savbV2nvy533cB63/VHNxA3pGz4Nccqpyjn/caojU25Wrnrc/s3+W6qyZPLk+T1bHbZXP4D+gfhDx1bbLfs3fI9n59/o8CqoLjgayGv8MaP1j+W/DixNWFrxzaHbQe2Y7eLtnfvcN9xtEixKLuof+f8nfW7GLvyd73fvXT39WK74vI9xD3SPb0lgSWNew32bt/7tTSptKvMs6xun+a+Lfs+7ufvv3vA40BtuVZ5QfmXg8KDDw75HqqvMKooPow9nHX4xZHII+0/MX+qrlSvLKj8ViWq6j0aerSt2rG6+pjmsW01cI20Zvj4ouN3TnidaKy1qD1UR68rOAlOSk++/Dnu5+5TAadaTzNP154xPLPvLPVsfj1Uv7J+tCGpobcxprHznP+51iaXprO/WP5S1azbXHZe+fy2FmJLbsvEhewLYxfFF0cuJV7qb13a+vhy9OX7bQvaOq4EXLl21efq5XZW+4VrrtearztfP3eDeaPhpsPN+lv2t87+av/r2Q6Hjvrbjrcb7zjdaeqc19ly1/3upXte967e59y/2RXU1dkd0f2gZ1FP7wP+g6GHqQ/fPMp6NP54/RPMk/ynCk+Ln2k+q/jN9Le6Xofe831efbeehz1/3M/rf/V7xu9fB3JfUF4UD+oMVg/ZDDUP+wzfebnw5cAr8avxkbw/FP/Y99rk9Zk/Pf68NRo9OvBG8mbibeE7tXdV7+3et46FjD37kPZh/GP+J7VPRz8zP7d/ifoyOL78K+5ryTfTb03fA74/mUibmBBzJdypUQCFOJyQAMDbKgAoMQBQ7yDzw8LpeXrKoOlvgCkC/4mnZ+4pcwCgFgmTYxH7IgAnETdaj2h7ADA5EoV7ANjWVuYzs+/UnD5pWOSL5aDbJHWpRorBP2x6hv9L3/+MYFLVDvwz/gtZUgZjWQweDgAAAIplWElmTU0AKgAAAAgABAEaAAUAAAABAAAAPgEbAAUAAAABAAAARgEoAAMAAAABAAIAAIdpAAQAAAABAAAATgAAAAAAAACQAAAAAQAAAJAAAAABAAOShgAHAAAAEgAAAHigAgAEAAAAAQAABFCgAwAEAAAAAQAAAnIAAAAAQVNDSUkAAABTY3JlZW5zaG90fKxfAQAAAAlwSFlzAAAWJQAAFiUBSVIk8AAAAddpVFh0WE1MOmNvbS5hZG9iZS54bXAAAAAAADx4OnhtcG1ldGEgeG1sbnM6eD0iYWRvYmU6bnM6bWV0YS8iIHg6eG1wdGs9IlhNUCBDb3JlIDYuMC4wIj4KICAgPHJkZjpSREYgeG1sbnM6cmRmPSJodHRwOi8vd3d3LnczLm9yZy8xOTk5LzAyLzIyLXJkZi1zeW50YXgtbnMjIj4KICAgICAgPHJkZjpEZXNjcmlwdGlvbiByZGY6YWJvdXQ9IiIKICAgICAgICAgICAgeG1sbnM6ZXhpZj0iaHR0cDovL25zLmFkb2JlLmNvbS9leGlmLzEuMC8iPgogICAgICAgICA8ZXhpZjpQaXhlbFlEaW1lbnNpb24+NjI2PC9leGlmOlBpeGVsWURpbWVuc2lvbj4KICAgICAgICAgPGV4aWY6UGl4ZWxYRGltZW5zaW9uPjExMDQ8L2V4aWY6UGl4ZWxYRGltZW5zaW9uPgogICAgICAgICA8ZXhpZjpVc2VyQ29tbWVudD5TY3JlZW5zaG90PC9leGlmOlVzZXJDb21tZW50PgogICAgICA8L3JkZjpEZXNjcmlwdGlvbj4KICAgPC9yZGY6UkRGPgo8L3g6eG1wbWV0YT4KrES40QAAABxpRE9UAAAAAgAAAAAAAAE5AAAAKAAAATkAAAE5AABbi6UD5HwAAEAASURBVHgB7N0JnBxlnfDx//TcRyYzSWaSTIb7lkM5RBDCEUAOEYRVRJRLEDwAeX133311Rfdd1HVXP6sihwJyKioiCiogIIdyg6iIogQ5TDKZSTI5JnNPT/dbNWHSc1TVU1XdTz9Pdf/y+bDprues7/+f3uq/3dUVWeeP8AcBBBBAAAEEEEAAAQQQQAABBBBAwFegggKKrw0NCCCAAAIIIIAAAggggAACCCCAwIQABRQSAQEEEEAAAQQQQAABBBBAAAEEEFAIUEBRANGMAAIIIIAAAggggAACCCCAAAIIUEAhBxBAAAEEEEAAAQQQQAABBBBAAAGFAAUUBRDNCCCAAAIIIIAAAggggAACCCCAAAUUcgABBBBAAAEEEEAAAQQQQAABBBBQCFBAUQDRjAACCCCAAAIIIIAAAggggAACCFBAIQcQQAABBBBAAAEEEEAAAQQQQAABhQAFFAUQzQgggAACCCCAAAIIIIAAAggggAAFFHIAAQQQQAABBBBAAAEEEEAAAQQQUAhQQFEA0YwAAggggAACCCCAAAIIIIAAAghQQCEHEEAAAQQQQAABBBBAAAEEEEAAAYUABRQFEM0IIIAAAggggAACCCCAAAIIIIAABRRyAAEEEEAAAQQQQAABBBBAAAEEEFAIUEBRANGMAAIIIIAAAggggAACCCCAAAIIUEAhBxBAAAEEEEAAAQQQQAABBBBAAAGFAAUUBRDNCCCAAAIIIIAAAggggAACCCCAAAUUcgABBBBAAAEEEEAAAQQQQAABBBBQCFBAUQDRjAACCCCAAAIIIIAAAggggAACCFBAIQcQQAABBBBAAAEEEEAAAQQQQAABhQAFFAUQzQgggAACCCCAAAIIIIAAAggggAAFFHIAAQQQQAABBBBAAAEEEEAAAQQQUAhQQFEA0YwAAggggAACCCCAAAIIIIAAAghQQCEHEEAAAQQQQAABBBBAAAEEEEAAAYUABRQFEM0IIIAAAggggAACCCCAAAIIIIAABRRyAAEEEEAAAQQQQAABBBBAAAEEEFAIUEBRANGMAAIIIIAAAggggAACCCCAAAIIUEAhBxBAAAEEEEAAAQQQQAABBBBAAAGFAAUUBRDNCCCAAAIIIIAAAggggAACCCCAAAUUcgABBBBAAAEEEEAAAQQQQAABBBBQCFBAUQDRjAACCCCAAAIIIIAAAggggAACCFBAIQcQQAABBBBAAAEEEEAAAQQQQAABhQAFFAUQzQgggAACCCCAAAIIIIAAAggggAAFFHIAAQQQQAABBBBAAAEEEEAAAQQQUAhQQFEA0YwAAggggAACCCCAAAIIIIAAAghQQCEHEEAAAQQQQAABBBBAAAEEEEAAAYUABRQFEM0IIIAAAggggAACCCCAAAIIIIAABRRyAAEEEEAAAQQQQAABBBBAAAEEEFAIUEBRANGMAAIIIIAAAggggAACCCCAAAIIUEAhBxBAAAEEEEAAAQQQQAABBBBAAAGFAAUUBRDNCCCAAAIIIIAAAggggAACCCCAAAUUcgABBBBAAAEEEEAAAQQQQAABBBBQCFBAUQDRjAACCCCAAAIIIIAAAggggAACCFBAIQcQQAABBBBAAAEEEEAAAQQQQAABhQAFFAUQzQgggAACCCCAAAIIIIAAAggggAAFFHIAAQQQQAABBBBAAAEEEEAAAQQQUAhQQFEA0YwAAggggAACCCCAAAIIIIAAAghQQCEHQgpkJTM2KBWpaqmorAk5pjDdxgd6JDPSJ9Ut24s46/MHAQQQQAABBBBAAAEEEEAAgWILUEAptrjt62XHZXTtn2Vk1dPOf09Jev1KyQwPSmZoeOvOK6qrpLKp2flvvlQ2LpBUY5ukGuZL015nSaqmaWu//B5kpf/F70nfE9dOW7tux72k5cgvSVVTR17Tu3Pn+6duuyOlas6SfKdhPAIIIIAAAggggAACCCCAQAIEKKAkIEjF2GJmbEgG/3Kb9D1907SCRZS1Oy64V1L1C6IM8e274eHPysALD3i2uwWchR/+sVQ1d3q2hzm48ptvD9MtsM+Ck78iddsfFdiHRgQQQAABBBBAAAEEEEAAgdIQoIBSGnHM6ywGX75LNj7ytdiFk8nFOz/1jPOwYvJp7L+HV/xW1t356cDxtdvtLm3vvTWwT1AjBZQgHdoQQAABBBBAAAEEEEAAAQRmClBAmSlSVs+z0vfMN6TvydvyPuvKuS2y+BzvT4xEnXzjo5+X/j/cqxzW8YlHnFuiNCr7eXWggOKlwjEEEEAAAQQQQAABBBBAAAE/AQoofjJlcHzjb74g/b+/pyBnmu8nQqZuYu1PPiAjK1+desjzcfvp10vNwrd6tqkOJrKA4tyfpu93V0tmYI3n6TXt//G87w3jOTEHEUAAAQQQQAABBBBAAAEEhAJKmSbB0GsPSu/dnynY2TfufZS0LvtKQeZb9/NzZfjVF5VzLTzzNqmet4uyn1eHJBZQ0htfle6bP+B1OhPH2s+4SWra9vRtpwEBBBBAAAEEEEAAAQQQQCC+AAWU+HaJHZkZWierb3yPZMfSoc+hqnWeVLftJBXVDZJNjzj/Dcp4f6+M9/VO3Dul+ZCzpPmAi0PPF9Sx7+mvSd9TPwrqMtHWefGTzs8aVyn7eXVwizSSzXo1bT2WzWZk5PWXtj6f+aDYN5GlgDIzAjxHAAEEEEAAAQQQQAABBIonQAGleNbWrNT3lFOgeFpdoGh4y1Jpett5Ut3qFE6q6vz3n3mzEBOzmDFz4nT/aum55dTAAk/zQR+Q5nf888yhBX3u/jJR19WH+c5JAcWXhgYEEEAAAQQQQAABBBBAoOQEKKCUXEiDTyg7Piqrv3uU8hd3Wo/7jDTudmrwZBpb3a8Yrb/3Ms8iSt1O+8iCE77tfPqkWuMORCigaOVlcgQQQAABBBBAAAEEEEAgUQIUUBIVrvw3O7j857L+nv8InCife4sEThyxMb25S/r/+F0Z63lRMiMDUjVvB6nfYZk07HZKxJnidaeAEs+NUQgggAACCCCAAAIIIIBAKQpQQCnFqAac0/pf/x8ZfPFh3x5NbzteWg4PLrD4Di6xBgooJRZQTgcBBBBAAAEEEEAAAQQQyEOAAkoeeEkc2n3LsZLesN5364s+cpdUzenwbS+nBgoo5RRtzhUBBBBAAAEEEEAAAQQQCBaggBLsU1KtmbEB56aoR/ieU8NeR8q8o/7bt73cGiiglFvEOV8EEEAAAQQQQAABBBBAwF+AAoq/Tcm1jHY/L2t+dKHvec07/nPSsOvJvu3l1kABpbARd29gXFFZU9hJdc+WHd+yQkWl7pWYHwEEEEAAAQQQQAABBCwXoIBieYAKub2h1x+S3rv+1XfKtvdfJbUdB/q2593gvBkd+OtP8p7GnaB2m6VS1bS4IHP5TVLsAkpmqFeGXv+133ZkbMPfpf/ZO33bmw/+oFTO6fRtD2qonrer1Cx8W1CX0G2Z4Q0y/I/fyPAbj8pY76uSGdgg4/2DW8en6uuksmnuxE2B67Zb6sTyUCeW+X1tbOjV+50bDW/cuobqQf3O73Z+xKlxVrfRnj/I0Ku/krH1f5d07xtbv+5WPb9NqubvKNULdnH2vZs07HC08ytQVbPGcwABBBBAAAEEEEAAAQRKV4ACSunGdtaZDb58l/PTwF+cdXzywKJz75Sq5m0mnxb872x6WFZdtbQg8y445WtSt+3hBZnLb5JiF1A2PPwZGXjhQb/taD3etP9J0nLoZXmtMbZ+uWx68qsy/MrvI8/j/jR188H/IjXzd488dnTtn2XNbedEGtd++rVOwWjfrWMyI5tk0xP/5fg/sPVY0IOaju1k3nHfdO4XtCSoG20IIIAAAggggAACCCBQQgIUUEoomKpT6X/xe7Lx19/07dZ58RPO/6pe7duebwMFlGDB9Q/+bxn882+CO2lqzaeAkh0fkU2PfUn6/3Bv3rub+BWopZ+P9OkO91Mja3740UhrT/26WnrzKlnzg9MlMzQcaY6K6ippfddl0rDzCZHG0RkBBBBAAAEEEEAAAQSSKUABJZlxi7Xrvuevkb7f3uA51v1aRccFv/VsK9RBCijBkkksoGRG+6X3FxfIyIrlwScXobVuhz1l3vFXeX7FxmuaOAWU5kPPlub9L5qYbt3Pz5XhV1/0mjrUsbbTrpHaxQeE6ksnBBBAAAEEEEAAAQQQSK4ABZTkxi7yzvuev9opoNzoOa6yeY4sPvchz7ZCHaSAEiyZtAKKWzxZe8fpMra2J/jEYrTWbre7tJ18s0hFSjk6TgGlYa9lzi9O/ZcMvnKPrP/lF5RrBHWoblsoC8/4udOlIqgbbQgggAACCCCAAAIIIJBwAQooCQ9glO1TQImiJVLse6AkrYCy/tf/RwZffDgaaoTecw+7UObse75yRJwCSu02u0jbqbdJz/dOcG50u1a5hqpD++nXFewmvKq1aEcAAQQQQAABBBBAAAEzAhRQzLgbWdV4AcX5Gds1t78v3LmPpwPf2JbiTWTdr1iNvPGYr49b0BlbvcK33f0aVnXbtr7tQQ3NB13qfA3l7UFdprUNvfag9N79mWnH/J649wqpWbyjVFTXT3QZ61k+7Vd5/Ma5xxedc4dUzd0uqIvziznLZeOj/+7ZZ+QfL3ser2xqkIVn3SddVx82q71u532lpmN/qaxtkfG+Fc4vIz0mYz2rZvWbeqDpgPdKyyH/NvUQjxFAAAEEEEAAAQQQQKDEBCiglFhAg07HdAElaG8z2zIjfdL17aNmHt76vBQLKFtPzudBeuOr0n3zB3xaRdrPuElq2vb0bS9Yg/Nz1KtvOsYpLmwOnNK9l0nLEZd7/rJTZnijbHzscuVNc/O5ua27uZXf9C8Ktb3vSucrSFvug+L2rd1+D2l1vtYz6+exM2nZ8OjnA3+hp3rxNrLwNP+fmHbn5w8CCCCAAAIIIIAAAggkW4ACSrLjJ+ODa2X9/Z8OdRbpDasC3/S6952I+qdxzw9Iwy4nRh2m7E8BZTaRLQWU4dd/Levu+r+zN/jmEfcTJ3OP+JQ0veV03z6TDYOv/FI23P9FyY6lJw9N+9uda/FHH3JuKLvl0yvTGkM8CSqgNO13ovQ//4uJWRr2PHzinihSUek9azYjq2840veTM+4+l3zC+RUr7oPi7cdRBBBAAAEEEEAAAQRKQIACSsKD6P4Ea/cN7zV2FnU77SMLTvxuwdengDKb1JYCyrq7z5Hh1/48e4NvHpl3whciFdUGl98t6++5vGDzTZ0oqIDiFj3cwk31/DZpP/1Oqaiqmzp01uO+Z74ufU/eNuv45IHF5/9cKhsXTT7lbwQQQAABBBBAAAEEECgxAQooCQ8oBRR9ASz2TWRVZ2JDASUzulm6rlnmu1X3azsLTrrJt927ISs9PzzF9z4j+XyNJ6iAMrmX+e/5ktTv+K7Jp75/j3Q9I2t//Enf9oVnfl+q5+3q204DAggggAACCCCAAAIIJFuAAkqy4ycUUPQFkALKbNvhlY/Lup9cOrvhzSOLzr3T854nvgPebBhe9ZSsu+Niz241HdtJ+/vv8GxTHVQVUNxPoXRc+KjzzZ0a1VQTN6vtufUM3378Eo8vDQ0IIIAAAggggAACCJSEAAWUhIeRAoq+AFJAmW3b99yV0vf4zbMbnCP5fp0rqNjR+alnnBUqPNcNOhg0pzuucZ9jpPXILwdNsbXNvfFt13eO2fp85oP2D35Xatr3mXmY5wgggAACCCCAAAIIIFAiAhRQEh7IdP9q6f7uScbOIt83zX4b5x4os2Vs+ApP7z0XytDy52dvzjnSfOjZ0rx/7ldtPDsFHOy57UQZW9vj2aPjE484N5Jt9GwLOqgqoLS9/yqp7TgwaIopbVkZ6Xp2yvPcwwpnb0X5BaTckjxCAAEEEEAAAQQQQACBIgtQQCkyuI7lht94RNID3cqpR15/2PfNr/tVBveXU6L+qWrqkLptD4s6TNmfAspsIhsKKGvuOE1GV702e3POkQX/dIXUdR7s2RbmYFBxZtF5d8/+eeEQkwYVUPjlnBCAdEEAAQQQQAABBBBAAIGtAhRQtlKU/oO+56+Wvt/e6Hmilc1zZPG5D3m2mThIAWW2ug0FlO5bjpX0hvWzN+ccqdtxL6mobvJsC3NwdNULvj8TvPDM7zk3aN0tzDTT+gQVUKrbFsrCM7b8jPG0QTxBAAEEEEAAAQQQQAABBDwEKKB4oJTqIQoo0SLLPVBme3Vdu1QyQ8OzGzQfaT/9eqlZ+NbIqwQVUGq330PaTr4l8pwMQAABBBBAAAEEEEAAgfIUoIBSRnGngBIt2BRQZnsFFSRm9y7ckfYP3yo183ePPGHQfhveslTmHfM/kedkAAIIIIAAAggggAACCJSnAAWUMoo7BZRowaaAMttr1dUHS3YsPbtB85FF59whVXO3i7xKUAGl6YD3Sssh/xZ5TgYggAACCCCAAAIIIIBAeQpQQCmjuFNAiRZsCiizvVbfdIyMb9o4u0HzkcUf/aVUNrRHXiWogNJ82PnSvO+FkedkAAIIIIAAAggggAACCJSnAAWUMoo7BZRowaaAMttrzY/fJ6Ndb8xu0HxEx88Yt77rX6Rxj9M075zpEUAAAQQQQAABBBBAoFQEKKCUSiRDnAcFlBBIU7qoCijz3/Mlqd/xXVNG6H2o/BWeD3xbahbtr3UT635xngz//QXPNep3fYe0HP4Fz7Z8D1Y2tMWaIugTKK3H/l9p3P2fYs3LIAQQQAABBBBAAAEEECg/AQooZRRzCijRgp0dH5FVVx7qO2jecZ+Vht1O8W0vdEO6b4V033iq77Tzjv+cNOx6sm97IRo2Pv4l6X/uZ55TVVRXyeILHpZUVZ1nu4mDFFBMqLMmAggggAACCCCAAAKlKUABpTTj6nlWFFA8WQIPBr0Bb1l2sTTtfVbg+EI2ZoY3Std3jvGdsvngD0nzgZf6theiYej1h6T3rn/1narYRSXfjbzZEBQ/PoGi0qMdAQQQQAABBBBAAAEEpgpQQJmqUeKPKaBED3DQr840ve145ysr/xF90rgjsuOy8oqDfEc37H6wzDv2Ct/2QjRkRjdL1zXLfKeqap0n7af9SFJ1Lb59itlAAaWY2qyFAAIIIIAAAggggEBpC1BAKe34Tjs7CijTOEI9WX3jMhnv2+zZt3rhEll4uvfXWTwHFOBgUEHHnX7R2T+SqpYdC7CS/xSqG8lWty+Wtn+6TVI1Tf6TFKmFAkqRoFkGAQQQQAABBBBAAIEyEKCAUgZBnjxFCiiTEuH/DrppqjtLexFu3Dp1t+t+fq4Mv/ri1EPTHtduu6u0nfL9accK/WTo1V9J788/FzhtzZIdZMHJN0uquj6wn+5GCii6hZkfAQQQQAABBBBAAIHyEaCAUj6xFgoo0YPd99RXpe/p230Hul9ZWXDytVI1dzvfPpMNmfSwpDe8IjVte00eivx33++ukr7Hbgoc5/4aztx3/rOzp+0D+8VuzGak5/snyljv2sApUvV10rTfadK015nGvtJDASUwRDQigAACCCCAAAIIIIBABAEKKBGwkt7VZAHFvXdGZmh9aMLMyCZZ84PzfPu3vutfpLbjHb7tkw0V1Q0S9ydw3TmGXntQeu/+zOR0nn+7vz7TuOcxUrfjMVI1p9MpFrSKpCol3bdS0pvekHTvSzKy4ikZWfnqxPiOTzzifDKj0XMu1cHRdX+RNd8/W9Vtor1hr2WO0QFSOWeJVDUtlpT7U8DjozIRCzceAz2S7l8t45u7ZLy/W1qWfj50oWPo1fudT6H8W6h9uJ3c+8XULN7f2UvHlv00tDtGVRPj3Z+Lzo5tnthDeuNrTpFpuVOc+buzl7nSuuwryjXSff8QyWY9+3Xf9D7P4+7B5qXnScNOx/u255s7vhPTgAACCCCAAAIIIIAAAokUoICSyLDF27TJAkr3Lcc6b4zDF1DineHsUfW7HCDzT7hmdkPII1mn4ND1ncOdN/jpkCPU3Rae+T2pnrebuqNPj7U/O1NG3virT2v8w+2nXys1C/cNPcHGx74o/b+7K3T/mR3dwlOQq/sJlo4Lfjtz2LTnAy/dLhvu/+q0Y4V64n6SZ/7xVxZqOuZBAAEEEEAAAQQQQACBhAtQQEl4AKNs32QBRXXz0yjnEaVvvgUUd62Nj14m/X+4L8qygX0XnPwVqdv+qMA+QY0jq56WtXdcFNQlVtu8Ey6Thl1OCj/W+VWgtXefKyOvvxR+TMSeqk/r9D33Lel7/JaIs4brTgElnBO9EEAAAQQQQAABBBAoFwEKKOUSaec8KaDEC3ZmqFdW33hi4KcloszcsuyT0rT3OVGGzOrb9+w3pe+J7806ns+B5kPPkeb9PxlpiszYgGx48F9l6OWnI40L27n9QzdLzYK3+HangOJLQwMCCCCAAAIIIIAAAggUWIACSoFBbZ6OAkr86ES950fQSk37nyQth14W1CVEW1a2fIXm7hB9w3Vp3OdoaT3yP8N1ntGr/4UbZePDV884mv/TeSde7tyn5DjfiSig+NLQgAACCCCAAAIIIIAAAgUWoIBSYFCbp6OAkl900ptel95ffVrGVq/Ia6L6XfZz7svynbzmmBw8uuYF2fDQ52WsZ9Xkodh/1263u7S999bY49MbX5XNv79OBl54MPYcMwe6N3pt3u9jMw9vfU4BZSsFDxBAAAEEEEAAAQQQQECzAAUUzcA2TR9UQKlevI0sPO1Obds1dQ8U99dfWg7/j8KdVyYtfc9d4dwT5afOrwoNh57XvWFqzaIdpHrR3lK37eFS1/nO0GOVHZ17kQwu/4UMv/GojPzjd86v2Qwqh3h1qOnYTtrff4dXU6Rj44NrZOAvP3L28qTz60PLI42d2rmyqUHmvP0cadrn3KmHpz2mgDKNgycIIIAAAggggAACCCCgUYACikZcpi5tgczwRhlzf3LX+S/du1wqquqc+6QMSqq2eeLngCtq5jiP50p1685S1bKDSEWqKCBp52eJR1c/6/xEcZfI6IBkRvqkoqZR3P26P82bqqoXqa6TlLO/yibnJ47nbuP8tLDz88sxf1o56KTcXzEaW/uiY/R3yY72OXvY4Pw3uZ9Nzn7qnf3UiTj/uT//XNW8rfOfu58lUlFZEzQ1bQgggAACCCCAAAIIIIBAUQUooBSVm8UQQAABBBBAAAEEEEAAAQQQQCCJAhRQkhg19owAAggggAACCCCAAAIIIIAAAkUVoIBSVG4WQwABBBBAAAEEEEAAAQQQQACBJApQQEli1NgzAggggAACCCCAAAIIIIAAAggUVYACSlG5WQwBBBBAAAEEEEAAAQQQQAABBJIoQAEliVFjzwgggAACCCCAAAIIIIAAAgggUFQBCihF5U7OYumBbhnftELGnZ/CHXzlfqlsaJ74adnknEHydpoZ7Zf0ppVSM6dDajrf8eZPDG/n/Dyy87PD/MlbgJzOmzDyBOR0ZLLIA8jryGR5DyCv8yZUTkBeK4kK3oG8LjjprAnJ61kk2g+Q19qJy3IBCihlFvbxwV4ZeOkHMvTGE5Id2CDZsWHJpsckM5YWyWRFshnnP2+UbDYrqYoKv2bvQRwNLeD6Vji+Xn8qUs7xipRUVDr/VVc5/9VKqqZeKlu2k/pdjpOGnd/tNawsjpHT9oaZnI4fG/I6vp3ukeR1fGHyOr6d7pHkdXxh8jq+ne6R5LVu4fKcnwJKicd9dPXzMvi3n8pI1+9lbP06kfHxEj/j8jw9t/CSqq+T1IJtpH77I6Rp7w9LqkQ/uUJOl0eOl1NOuxElr8nrUhQgr0sxqrPPiddrrq1nZ0Xyj5RbXic/YsU7AwooxbMuykrDXU/JwB9ulpGev0l2c7+4lddC/8m8+UmUQs9brvO5nzkpfJScD6w4n1SpntcuNUsOkJallyWWl5xOXujIaXXMyGu1kW09yGt1RMhrtZFtPchrdUTIa7WRbT3Ia9siUlr7oYBSIvHs/9NN0vfszZJxiib8SZiArlf5qQzOJ1RqO3eW1mO+KlVzlkxtsfYxOW1taNQbI6d9jchrXxr7G8hr3xiR17409jeQ174xIq99aexvIK/tj1GCd0gBJcHBc7e+6bEvysCL90pmZDThZ1K+2w/6fqYOlaq2hdJy6L9I3baH65g+7znJ6bwJjU9ATs8OAXk92yRpR8jr2REjr2ebJO0IeT07YuT1bJOkHSGvkxaxZO2XAkqy4rV1t733XSJDrzxT9HuaZJ0bzU7c0HTrTniQr0DKmcC5dW/R/1Q1z5HGA86ROXufVfS1vRYkp71UknmMnM7FjbzOWST9EXmdiyB5nbNI+iPyOhdB8jpnkfRH5HXSI2j3/img2B2fWbtbd9dZMvzGX52bZui4a8as5XIHivFRuNxq5fnIjanPr/DoBEnV10rzgWdL09s+qnMZ37nJaV+a5DeUaU67gSOvk5++vmdAXnMN4pscCW4gr8nrBKev79bLOK99TWjIW4ACSt6ExZlgbM0LsvZnn5DM0EjBFnRfUyqbmyZ+DreipsH5FZc5kqprdf6eJ5WNC517ZSxy/l4iVXO3kcq6uQVbl4mCBLKS7uty/lsp4wNdzn89kulfK5nh9TI+tFGyIwMyPjzofPJoRMYHh52PrhTusyt12+0uC957a9DmCtpGTheU0+LJyien3SCQ1xanYkG3Rl7ny8k1SL6COsaT1/mqktf5CuoYX155rUOQOacLUECZ7mHls75nvi59T/0gv8q488mGysYGqWrbUep3Plqa3nKGlefKpqIJpDcsl81//pGMrXpOxnrXSHZsLNoEM3q7X+tp+9BdUlkzZ0ZLYZ+S04X1LKXZkprTbgzI61LKxMKeC3nNNUhhM8qO2chr8tqOTCzsLpKc14WVYDY/AQoofjKWHF9719ky8vpfIu/G/SZIZcs8qe3YR+p3PdHaG4ZGPjEGBAtk0rL5T7c4OfOIjDhf9XJvohX1T0Vlpcxd9mmnyHZa1KGh+pPToZjoNCmQgJx2t0peTwaMv0MJkNehmOiUMAHyOmEBY7uhBBKS16HOhU4FEaCAUhDGwk+STQ9L9/feLeOb+qJNnkpJ/Y77yPzjrxLnuznRxtK75AQGX75LNj99tYytXx/p3NwCXN1uh8r8Y78eaVxQZ3I6SIe2sAI25bS7Z/I6bOToFyRAXgfp0JZUAfI6qZFj30ECtuV10F5p0yNAAUWPa16zDr38U1n/wH85F+bjoeepqK6Wht2PkNZlXw49ho7lIzDq3ENnw8P/LmPdKyKddE37Ymn/4N2Rxnh1Jqe9VDiWj4DpnHb3Tl7nE0HGegmQ114qHEu6AHmd9Aiyfy8BG/Laa18c0y9AAUW/caQV3Avy3nvDF0FSjfXStO9p0rz/RZHWoXN5CmTTQ7Lu3otk5NUXQgOknPuidJz7UOj+MzuS0zNFeF5IARM57e6fvC5kFJlrpgB5PVOE56UgQF6XQhQ5h5kCpvJ65j54XjwBCijFs1au5H4UvOs7R4T65In7q8J1ex4h84/+qnJeOiDgJdB98zGS3rjRq2nWseptdpGFp94267jqADmtEqK9kALFyGl3v+R1IaPGXCoB8lolRHsSBcjrJEaNPasEipXXqn3QrleAAope30izr77pqFD3PHFv8tlyzL9K426nRJqfzgjMFFj783OdT6O8OPOw5/PGA06V1kM+49nmd5Cc9pPhuC4B3Tnt7pu81hU95vUTIK/9ZDieZAHyOsnRY+9+AsXIa7+1OV4cAQooxXFWrhL2Fxwq5zbL4rPu5QaxSlE6hBXoe/ZbsvnJW9W/2ON87GnBqd+Sus6DQk1NTodiopMGAV057W6VvNYQMKYMJUBeh2KiU8IEyOuEBYzthhLQmdehNkAnrQIUULTyhpu875mvS9+T6q9H1O+wp8w/6aZwk9ILgQgCY70vybqfXCDjQ8OBo1K1NdLxsccD+7iN5LSSiA6aBQqd0+52yWvNQWN6pQB5rSSiQwIFyOsEBo0tKwV05LVyUToURYACSlGY/RcZc34dpeeH5ztfqs/6d3Jaap17ULTFuAdF4KQ0IjBDYNWVB0l2PPjXn6rbFsrCM34xY2TuKTmds+CReYFC5LR7FuS1+Viyg5wAeZ2z4FHpCJDXpRNLziQnUKi8zs3II9MCFFAMR6Dr2kMlMzQSuAs+eRLIQ2OBBVZe5XxFR/ET2o17HCKt7/qG58rktCcLBw0K5JvT7tbJa4MBZGlPAfLak4WDCRcgrxMeQLbvKVCIvPacmINGBCigGGHfsui6u86S4ddfCtzBxD1Pzvl1YB8aESikwNDf75PeX1ymnLLtjJuktm3Paf3I6WkcPLFEIJ+cdk+BvLYkkGxjmgB5PY2DJyUiQF6XSCA5jWkC+eb1tMl4YlyAAorBEKy84sDAr+64v7az5BO/4YaxBmNUrktvfPRz0v+HXwWefk3HdtL+/jum9SGnp3HwxCKBuDntngJ5bVEg2co0AfJ6GgdPSkSAvC6RQHIa0wTyyetpE/HEuAAFFEMh6L3vEhn625O+qzs/eCItx32Wnyr2FaJBt0DP7afK2OoV/ss4Sdp5kZPDqaqJPuS0PxUtdghEzWl31+S1HbFjF/4C5LW/DS3JFSCvkxs7du4vECev/WejxZQABRRD8iudm3VKwM066/c8QuYf/VVDu2NZBLYIdF23VDKD/r/MU7fzvrLg3ddOdCanyZokCETJafd8yOskRJU9ktfkQCkKkNelGFXOKWpeI2afAAUUAzHZ9NgXZfPv7vJdOdVYLx3nO1/d4Q8ChgU2/+lW2fTQFb67qEilZMnFTws57UtEg2UCYXPa3TZ5bVnw2I6vAHntS0NDggXI6wQHj637CkTJa99JaDAqQAHFAH/Xtw+RzMio78rNh54tzftf5NtOAwLFFOi64UjJbO73XbLprcfJ4F8fIqd9hWiwTSBMTrcccbnwWm1b5NhPkAB5HaRDW1IFyOukRo59BwmEzeugOWgzJ0ABpcj2/X+6STY+dJXvqhXV1c6NY5/wbacBgWILbP7jDbLpkWt8l62oqpRswM8ek9O+dDQYElDldKqmWpoPvYDXakPxYdl4AuR1PDdG2S1AXtsdH3YXTyBMXnd8nPeD8XT1j6KAot942gqqimPj3sdI67IvTxvDEwRMCwT9L/HZbFYqKtzbHnv/Iae9XThqViAop92dVdTWSDbgk4Lktdn4sbq3AHnt7cLRZAuQ18mOH7v3FlDldfNhH5HmfT/uPZijRgUooBSRf7jrKVn344v9V3TuJ9Hp3E+CPwjYJrDx8cul/7m7Z2/LrZtkZx/eeoSc3krBA7sEfHPa3SZ5bVew2E1oAfI6NBUdEyRAXicoWGw1tEBgXjuzVDY1yOLzHg09Hx2LJ0ABpXjW0nvPx2Vo+XO+K9bv/DaZ/+7rfNtpQMCkwCrnl6OyAb8c5bU3ctpLhWO2CMTJaXfv5LUtEWQfXgLktZcKx5IuQF4nPYLs30tAldedn3rWaxjHDAtQQCliALpuXCaZvs2eK7rfgFhy0eMiqRrPdg4iYFpg/T2flMHlz0zbRtDXd8jpaVQ8sVDAK6fdbZLXFgaLLYUWIK9DU9ExQQLkdYKCxVZDC/jl9eQErUdfKo17fmjyKX9bIkABpYiBWHXFgRMX5l5LVrXOk0Vn/cqriWMIWCGQHd4gq77zrml7CfqmAzk9jYonFgp45bS7TfLawmCxpdAC5HVoKjomSIC8TlCw2GpoAb+8npygdse9pO09N04+5W9LBCigFCkQo6uflzW3X+i7WsNbDpd5x3zNt50GBGwQWOl8jUfe/BqP8+Ih2YCbx5LTNkSMPagEpua025e8VonRngQB8joJUWKPUQXI66hi9E+CwMy8nrrnVGODdJzPfVCmmtjwmAJKkaKw8ZHLpP+P9/mutuCUr0ndtof7ttOAgA0CPbedKGNre7ZsxSmgOD+/47stctqXhgaLBKbltLsv8tqi6LCVuALkdVw5xtksQF7bHB32FldgVl5Pnci5zu68ZPrX56c289iMAAWUIrnzj6NI0CyjVWBaITDoew684GuNA5MXTmBaTrvTkteFw2UmYwLktTF6FtYoQF5rxGVqYwKz8nrGTvgfJGeAWPCUAkqRgsDHs4oEzTJaBcZ6npeeH275Klo2k5WKlPcnUPjIodYwMHkBBabmtDsteV1AXKYyJkBeG6NnYY0C5LVGXKY2JjAzr2dupHHPI6T16K/OPMxzgwIUUIqAPz7YK6uvO853pbqd9pYFJ97g204DAjYJrPyWczPkdMa3eOLulZy2KWLsRSXg5rQ4BcGg4ok7B3mtkqTdJgHy2qZosJdCCZDXhZJkHpsEJvPaa0/8KIOXitljFFCK4N/3uyul77GbfVeae9SlMmcvfqLKF4gGqwS6nZ/jTvv8HPfkRsnpSQn+ToJAmJx2z4O8TkI02eOkAHk9KcHfpSRAXpdSNDmXSYGgvK6orJQlFz012ZW/LRCggFKEIPTceYaMrVjuu1Lnp571baMBAdsEeu/5uAy8/KykAm4gS07bFjX2EyTg5vTQ8uecD6FkyesgKNoSJUBeJypcbDakAHkdEopuiRKYzGu/TS86/5dS1dju18zxIgtQQCkCePetx0t6/TrvlZxbSHReQgHFG4ejNgr0Pf6fsunZnzg/wON9/xP3JpzktI2RY09+Am5O9z13p/MDPM59fchrPyaOJ0yAvE5YwNhuKAHyOhQTnRImMJnXftuef/J/S/32R/o1c7zIAhRQigC++oYjZXxzv+dKqTlN0vGRhz3bOIiAjQLpDa9I9y0f9N1aRV2tLLnwMd92GhCwTUCV0+5+ea22LWrsRyVAXquEaE+iAHmdxKixZ5WAKq9bjvlf0vSWM1TT0F4kAQooRYDuuvZQyQyNeK5UNb9NFn34Hs82DiJgpUBmVFZeeYjzcyXeu0s11EnHR3/r3chRBGwUcHP6W05Oux+q8slrXqttDBx7ChQgrwN5aEyoAHmd0MCx7UCBybz26dR88BnSfOD/8mnlcLEFKKAUQXzlVQeJpMc9V6pevJ0sPO0OzzYOImCrwIpvHOD7VYdUQ71TQPmNrVtnXwh4Cqz85tsDv8LDa7UnGwctFyCvLQ8Q24slQF7HYmOQ5QJuXvv9adz7GGld9mW/Zo4XWYACShHAV17h/ESm8916rz+1O+4lbe+50auJYwhYK7DSKaA4FRTP/aWaGqTjvEc92ziIgK0Cq5zX6Wwm45vXvFbbGjn2FSRAXgfp0JZUAfI6qZFj30ECE3nt836xfpcDZP4J1wQNp62IAhRQioC98gqnouhdP5H6tyyV+cf8TxF2wRIIFE4gqEqeanQKKOdTQCmcNjMVQ2Dlt94h4hZQfP7wWu0Dw2GrBchrq8PD5mIKkNcx4RhmtUBQXtdus4u0nXqb1fsvp81RQClCtIPebDbuf7K0Hvq5IuyCJRAonEBQTvMVnsI5M1PxBFZ9+52SHRnzXZDXal8aGiwWIK8tDg5biy1AXsemY6DFAkF5XdO+WNo/eLfFuy+vrVFA0Rzv9EC3dF//Ht9Vmg+7QJr3/ahvOw0I2CagyulUvXMT2Qu4iaxtcWM/wQIrr1sqMjjs24nXal8aGiwWIK8tDg5biy1AXsemY6DFAquuP0yyA0MT97PPOF/lqXC+Kp/NZCXrfGO+uqVVFp/zgMW7L6+tUUDRHO+Rrmdl7Y8/4bvKvHd/Xhp29i+w+A6kAQFDAqqcltpq6fzYE4Z2x7IIxBNYff0RMj4w4DuY12pfGhosFiCvLQ4OW4stQF7HpmOgxQKrbzpaxjdt8t6h8z9OdvI/TnrbGDhKAUUz+uDLd8n6e7/ou0rbad+R2sX7+bbTgIBtAqqcdorlsu2lz9q2bfaDQKBAl/MJlEzAJ1B4rQ7ko9FSAfLa0sCwrbwEyOu8+BhsqcDqm45yCih9nrtzb6W5zae4tvbEMXCQAopm9HX3fFKGlz/ju8rij94jlQ1tvu00IGCbgCqns87HDre59Dnbts1+EAgUCLp5mzuQ1+pAPhotFSCvLQ0M28pLgLzOi4/Blgp0X3+4pAcGfXfXSQHF16bYDRRQNItveOQzMvDHB71Xcb7T1nnR4yKpGu92jiJgoYAqp520liWXUCW3MHRsKUAg6OZt7heSea0OwKPJWgHy2trQsLE8BMjrPPAYaq1Al/MJlIzPJ1Amrq0poFgTOwoomkPR97srpe+xm31X6byYAoovDg1WCqhy2rnrlXRe4v+pKytPik2VvUD3zcdIeuNGXwdeq31paLBYgLy2ODhsLbYAeR2bjoEWC6z96Rky8o/l3jvk2trbxdBRCiia4d03m5udAor73bWpf9y7KleknDeaFFCmsvA4AQKqnK6oTMmSi55OwJmwRQRyAt23HCvjG9bzWp0j4VEJCJDXJRBETmGWAHk9i4QDJSCw9q5zZOT1P3ueSUXKuba+mGtrTxwDBymgaEaf+r/Wuz9JlXIqiFP/UECZqsHjJAiocpoCShKiyB5nCrgX5GmngOL+4bV6pg7PkypAXic1cuw7SIC8DtKhLakCFFCSEzkKKJpjNfXNptdSFFC8VDhms4Aqpymg2Bw99uYnMPWC3KsPr9VeKhyzXYC8tj1C7C+OAHkdR40xtgtQQLE9Qrn9UUDJWWh5pHqzyUW5FnYm1SigymkKKBrxmVqbABfk2miZ2KAAeW0Qn6W1CZDX2miZ2KAABRSD+BGXpoASESxqd9WbTQooUUXpb1pAldMUUExHiPXjCHBBHkeNMbYLkNe2R4j9xREgr+OoMcZ2AQootkcotz8KKDkLLY9UbzYpoGhhZ1KNAqqcpoCiEZ+ptQlwQa6NlokNCpDXBvFZWpsAea2NlokNClBAMYgfcWkKKBHBonZXvdmkgBJVlP6mBVQ5TQHFdIRYP44AF+Rx1BhjuwB5bXuE2F8cAfI6jhpjbBeggGJ7hHL7o4CSs9DySPVmkwKKFnYm1SigymkKKBrxmVqbABfk2miZ2KAAeW0Qn6W1CZDX2miZ2KAABRSD+BGXpoASESxqd9WbTQooUUXpb1pAldMUUExHiPXjCHBBHkeNMbYLkNe2R4j9xREgr+OoMcZ2AQootkcotz8KKDkLLY9UbzYpoGhhZ1KNAqqcpoCiEZ+ptQlwQa6NlokNCpDXBvFZWpsAea2NlokNClBAMYgfcWkKKBHBonZXvdmkgBJVlP6mBVQ5TQHFdIRYP44AF+Rx1BhjuwB5bXuE2F8cAfI6jhpjbBeggGJ7hHL7o4CSs9DySPVmkwKKFnYm1SigymkKKBrxmVqbABfk2miZ2KAAeW0Qn6W1CZDX2miZ2KAABRSD+BGXpoASESxqd9WbTQooUUXpb1pAldMUUExHiPXjCHBBHkeNMbYLkNe2R4j9xREgr+OoMcZ2AQootkcotz8KKDkLLY9UbzYpoGhhZ1KNAqqcpoCiEZ+ptQlwQa6NlokNCpDXBvFZWpsAea2NlokNClBAMYgfcWkKKBHBonZXvdmkgBJVlP6mBVQ5TQHFdIRYP44AF+Rx1BhjuwB5bXuE2F8cAfI6jhpjbBeggGJ7hHL7o4CSs9DySPVmkwKKFnYm1SigymkKKBrxmVqbABfk2miZ2KAAeW0Qn6W1CZDX2miZ2KAABRSD+BGXpoASESxqd9WbTQooUUXpb1pAldMUUExHiPXjCHBBHkeNMbYLkNe2R4j9xREgr+OoMcZ2AQootkcotz8KKDkLLY9UbzYpoGhhZ1KNAqqcpoCiEZ+ptQlwQa6NlokNCpDXBvFZWpsAea2NlokNClBAMYgfcWkKKBHBonZXvdmkgBJVlP6mBVQ5TQHFdIRYP44AF+Rx1BhjuwB5bXuE2F8cAfI6jhpjbBeggGJ7hHL7o4CSs9DySPVmkwKKFnYm1SigymkKKBrxmVqbABfk2miZ2KAAeW0Qn6W1CZDX2miZ2KAABRSD+BGXpoASESxqd9WbTQooUUXpb1pAldMUUExHiPXjCHBBHkeNMbYLkNe2R4j9xREgr+OoMcZ2AQootkcotz8KKDkLLY9UbzYpoGhhZ1KNAqqcpoCiEZ+ptQlwQa6NlokNCpDXBvFZWpsAea2NlokNClBAMYgfcWkKKBHBonZXvdmkgBJVlP6mBVQ5TQHFdIRYP44AF+Rx1BhjuwB5bXuE2F8cAfI6jhpjbBeggGJ7hHL7o4CSs9DySPVmkwKKFnYm1SigymkKKBrxmVqbABfk2miZ2KAAeW0Qn6W1CZDX2miZ2KAABRSD+BGXpoASESxqd9WbTQooUUXpb1pAldMUUExHiPXjCHBBHkeNMbYLkNe2R4j9xREgr+OoMcZ2AQootkcotz8KKDkLLY9UbzYpoGhhZ1KNAqqcpoCiEZ+ptQlwQa6NlokNCpDXBvFZWpsAea2NlokNClBAMYgfcWkKKBHBonZXvdmkgBJVlP6mBVQ5TQHFdIRYP44AF+Rx1BhjuwB5bXuE2F8cAfI6jhpjbBeggGJ7hHL7o4CSs9DySPVmkwKKFnYm1SigymkKKBrxmVqbABfk2miZ2KAAeW0Qn6W1CZDX2miZ2KAABRSD+BGXpoASESxqd9WbTQooUUXpb1pAldMUUExHiPXjCHBBHkeNMbYLkNe2R4j9xREgr+OoMcZ2AQootkcotz8KKDkLLY9UbzYpoGhhZ1KNAqqcpoCiEZ+ptQlwQa6NlokNCpDXBvFZWpsAea2NlokNClBAMYgfcWkKKBHBonZXvdmkgBJVlP6mBVQ5TQHFdIRYP44AF+Rx1BhjuwB5bXuE2F8cAfI6jhpjbBeggGJ7hHL7o4CSs9DySPVmkwKKFnYm1SigymkKKBrxmVqbABfk2miZ2KAAeW0Qn6W1CZDX2miZ2KAABRSD+BGXpoASESxqd9WbTQooUUXpb1pAldMUUExHiPXjCHBBHkeNMbYLkNe2R4j9xREgr+OoMcZ2AQootkcotz8KKDkLLY9UbzYpoGhhZ1KNAqqcpoCiEZ+ptQlwQa6NlokNCpDXBvFZWpsAea2NlokNClBAMYgfcWkKKBHBonZXvdmkgBJVlP6mBVQ5TQHFdIRYP44AF+Rx1BhjuwB5bXuE2F8cAfI6jhpjbBeggGJ7hHL7o4CSs9DySPVmkwKKFnYm1SigymkKKBrxmVqbABfk2miZ2KAAeW0Qn6W1CZDX2miZ2KAABRSD+BGXpoASESxqd9WbTQooUUXpb1pAldMUUExHiPXjCHBBHkeNMbYLkNe2R4j9xREgr+OoMcZ2AQootkcotz8KKDkLLY9UbzYpoGhhZ1KNAqqcpoCiEZ+ptQlwQa6NlokNCpDXBvFZWpsAea2NlokNClBAMYgfcWkKKBHBonZXvdmkgBJVlP6mBVQ5TQHFdIRYP44AF+Rx1BhjuwB5bXuE2F8cAfI6jhpjbBeggGJ7hHL7o4CSs9DySPVmkwKKFnYm1SigymkKKBrxmVqbABfk2miZ2KAAeW0Qn6W1CZDX2miZ2KAABRSD+BGXpoASESxqd9WbTQooUUXpb1pAldMUUExHiPXjCHBBHkeNMbYLkNe2R4j9xREgr+OoMcZ2AQootkcotz8KKDkLLY9UbzYpoGhhZ1KNAqqcpoCiEZ+ptQlwQa6NlokNCpDXBvFZWpsAea2NlokNClBAMYgfcWkKKBHBonZXvdmkgBJVlP6mBVQ5TQHFdIRYP44AF+Rx1BhjuwB5bXuE2F8cAfI6jhpjbBeggGJ7hHL7o4CSs9DySPVmkwKKFnYm1SigymkKKBrxmVqbABfk2miZ2KAAeW0Qn6W1CZDX2miZ2KAABRSD+BGXpoASESxqd9WbTQooUUXpb1pAldMUUExHiPXjCHBBHkeNMbYLkNe2R4j9xREgr+OoMcZ2AQootkcotz8KKDkLLY9UbzYpoGhhZ1KNAqqcpoCiEZ+ptQlwQa6NlokNCpDXBvFZWpsAea2NlokNClBAMYgfcWkKKBHBonZXvdmkgBJVlP6mBVQ5TQHFdIRYP44AF+Rx1BhjuwB5bXuE2F8cAfI6jhpjbBeggGJ7hHL7o4CSs9DySPVmkwKKFnYm1SigymkKKBrxmVqbABfk2miZ2KAAeW0Qn6W1CZDX2miZ2KAABRSD+BGXpoASESxqd9WbTQooUUXpb1pAldMUUExHiPXjCHBBHkeNMbYLkNe2R4j9xREgr+OoMcZ2AQootkcotz8KKDkLLY9UbzYpoGhhZ1KNAqqcpoCiEZ+ptQlwQa6NlokNCpDXBvFZWpsAea2NlokNClBAMYgfcWkKKBHBonZXvdmkgBJVlP6mBVQ5TQHFdIRYP44AF+Rx1BhjuwB5bXuE2F8cAfI6jhpjbBeggGJ7hHL7o4CSs9DySPVmkwKKFnYm1SigymkKKBrxmVqbABfk2miZ2KAAeW0Qn6W1CZDX2miZ2KAABRSD+BGXpoASESxqd9WbTQooUUXpb1pAldMUUExHiPXjCHBBHkeNMbYLkNe2R4j9xREgr+OoMcZ2AQootkcotz8KKDkLLY9UbzYpoGhhZ1KNAqqcpoCiEZ+ptQlwQa6NlokNCpDXBvFZWpsAea2NlokNClBAMYgfcWkKKBHBonZXvdmkgBJVlP6mBVQ5TQHFdIRYP44AF+Rx1BhjuwB5bXuE2F8cAfI6jhpjbBeggGJ7hHL7o4CSs9DySPVmkwKKFnYm1SigymkKKBrxmVqbABfk2miZ2KAAeW0Qn6W1CZDX2miZ2KAABRSD+BGXpoASESxqd9WbTQooUUXpb1pAldMUUExHiPXjCHBBHkeNMbYLkNe2R4j9xREgr+OoMcZ2AQootkcotz8KKDkLLY9UbzYpoGhhZ1KNAqqcpoCiEZ+ptQlwQa6NlokNCpDXBvFZWpsAea2NlokNClBAMYgfcWkKKBHBonZXvdmkgBJVlP6mBVQ5TQHFdIRYP44AF+Rx1BhjuwB5bXuE2F8cAfI6jhpjbBeggGJ7hHL7o4CSs9DySPVmkwKKFnYm1SigymkKKBrxmVqbABfk2miZ2KAAeW0Qn6W1CZDX2miZ2KAABRSD+BGXpoASESxqd9WbTQooUUXpb1pAldMUUExHiPXjCHBBHkeNMbYLkNe2R4j9xREgr+OoMcZ2AQootkcotz8KKDkLLY9UbzYpoGhhZ1KNAqqcpoCiEZ+ptQlwQa6NlokNCpDXBvFZWpsAea2NlokNClBAMYgfcWkKKBHBonZXvdmkgBJVlP6mBVQ5TQHFdIRYP44AF+Rx1BhjuwB5bXuE2F8cAfI6jhpjbBeggGJ7hHL7o4CSs9DySPVmkwKKFnYm1SigymkKKBrxmVqbABfk2miZ2KAAeW0Qn6W1CZDX2miZ2KAABRSD+BGXpoASESxqd9WbTQooUUXpb1pAldMUUExHiPXjCHBBHkeNMbYLkNe2R4j9xREgr+OoMcZ2AQootkcotz8KKDkLLY9UbzYpoGhhZ1KNAqqcpoCiEZ+ptQlwQa6NlokNCpDXBvFZWpsAea2NlokNClBAMYgfcWkKKBHBonZXvdmkgBJVlP6mBVQ5TQHFdIRYP44AF+Rx1BhjuwB5bXuE2F8cAfI6jhpjbBeggGJ7hHL7o4CSs9DySPVmkwKKFnYm1SigymkKKBrxmVqbABfk2miZ2KAAeW0Qn6W1CZDX2miZ2KAABRSD+BGXpoASESxqd9WbTQooUUXpb1pAldMUUExHiPXjCHBBHkeNMbYLkNe2R4j9xREgr+OoMcZ2AQootkcotz8KKDkLLY9UbzYpoGhhZ1KNAqqcpoCiEZ+ptQlwQa6NlokNCpDXBvFZWpsAea2NlokNClBAMYgfcWkKKBHBonZXvdmkgBJVlP6mBVQ5TQHFdIRYP44AF+Rx1BhjuwB5bXuE2F8cAfI6jhpjbBeggGJ7hHL7o4CSs9DySPVmkwKKFnYm1SigymkKKBobABd+AAAbS0lEQVTxmVqbABfk2miZ2KAAeW0Qn6W1CZDX2miZ2KAABRSD+BGXpoASESxqd9WbTQooUUXpb1pAldMUUExHiPXjCHBBHkeNMbYLkNe2R4j9xREgr+OoMcZ2AQootkcotz8KKDkLLY9UbzYpoGhhZ1KNAqqcpoCiEZ+ptQlwQa6NlokNCpDXBvFZWpsAea2NlokNClBAMYgfcWkKKBHBonZXvdmkgBJVlP6mBVQ5TQHFdIRYP44AF+Rx1BhjuwB5bXuE2F8cAfI6jhpjbBeggGJ7hHL7o4CSs9DySPVmkwKKFnYm1SigymkKKBrxmVqbABfk2miZ2KAAeW0Qn6W1CZDX2miZ2KAABRSD+BGXpoASESxqd9WbTQooUUXpb1pAldMUUExHiPXjCHBBHkeNMbYLkNe2R4j9xREgr+OoMcZ2AQootkcotz8KKDkLLY9UbzYpoGhhZ1KNAqqcpoCiEZ+ptQlwQa6NlokNCpDXBvFZWpsAea2NlokNClBAMYgfcWkKKBHBonZXvdmkgBJVlP6mBVQ5TQHFdIRYP44AF+Rx1BhjuwB5bXuE2F8cAfI6jhpjbBeggGJ7hHL7o4CSs9DySPVmkwKKFnYm1SigymkKKBrxmVqbABfk2miZ2KAAeW0Qn6W1CZDX2miZ2KAABRSD+BGXpoASESxqd9WbTQooUUXpb1pAldMUUExHiPXjCHBBHkeNMbYLkNe2R4j9xREgr+OoMcZ2AQootkcotz8KKDkLLY9UbzYpoGhhZ1KNAqqcpoCiEZ+ptQlwQa6NlokNCpDXBvFZWpsAea2NlokNClBAMYgfcWkKKBHBonZXvdmkgBJVlP6mBVQ5TQHFdIRYP44AF+Rx1BhjuwB5bXuE2F8cAfI6jhpjbBeggGJ7hHL7o4CSs9DySPVmkwKKFnYm1SigymkKKBrxmVqbABfk2miZ2KAAeW0Qn6W1CZDX2miZ2KAABRSD+BGXpoASESxqd9WbTQooUUXpb1pAldMUUExHiPXjCHBBHkeNMbYLkNe2R4j9xREgr+OoMcZ2AQootkcotz8KKDkLLY9UbzYpoGhhZ1KNAqqcpoCiEZ+ptQlwQa6NlokNCpDXBvFZWpsAea2NlokNCmwtoGSzIhUVUuHsxXnkPHafpmTJxU8b3B1LTxWggDJVQ8Nj1ZtNCiga0JlSq4AqpyWVkk5e5LXGgMkLL8AFeeFNmdG8AHltPgbsoPAC5HXhTZnRvMBEAeW1FyeKJ1N3k81kpaKyUjovoYAy1cXkYwoomvU3PfkV2fzMT3xXoYDiS0ODpQKqnHar5dt86llLd8+2EPAW6Lr+MMkMDHk3Okd5rfalocFiAfLa4uCwtdgC5HVsOgZaLND9g5MkvWa15w7dD6VscynX1p44Bg5SQNGM3nvfRTL0N/+KYefFj4mkajXvgukRKJyAKqfdjxp2XsKLfOHEmakYAiuvOkgkPe67FK/VvjQ0WCxAXlscHLYWW4C8jk3HQIsFVjv/Q8643/+Q41RQOi99zuLdl9fWKKBojnff41+Wvud+6rvKorNvl6qWHXzbaUDANgFVTlMlty1i7CeMwOqr3ynjY2O+XXmt9qWhwWIB8tri4LC12ALkdWw6Blos0H3DkZLe3O+5Q66tPVmMHaSAopl+8LUHZP3dn/VdZcEp/yN12y71bacBAdsEVDk9caMrvqdpW9jYj0JglXPhkvW5cHGH8lqtAKTZSgHy2sqwsKk8BcjrPAEZbqVAzy3HydiGXs+9ufdAWXLRU55tHCy+AAUUzeZjvX+Vnu+d6btK67v+WRr3+IBvOw0I2CagyunK+lpZfIHz1TT+IJAgge7rD5f0wKDvjnmt9qWhwWIB8tri4LC12ALkdWw6Blos0H3jMkn3bfbcYVXzHFl07kOebRwsvgAFFM3m2fSQrLrqsC2ruJ+/cn6WauJuyin3x6lEmg85U5oPuGRLO/8XgQQIqHK6sqFeFn/0Nwk4E7aIQE6g+9pDJT00suUAr9U5GB4lWoC8TnT42LyPAHntA8PhRAusvnapjA8Ne55D9bwFsvDMez3bOFh8AQooRTBf+c23+67S9NbjpOWIy33baUDARoGgnKaAYmPE2JNKYNXVB0t2LO3bjddqXxoaLBYgry0ODluLLUBex6ZjoMUCQXlds3hbaT/N/1ddLT6tktwaBZQihHWFU0DZ8nmT2Ys17HagzDvuqtkNHEHAYoEV3zjA+TCVd1ZXNjXI4vMetXj3bA2B2QKrrnyHZJxf4fHLa16rZ5txxH4B8tr+GLHD6ALkdXQzRtgv4OZ1djzjudHa7feUtpNv8mzjYPEFKKAUwXyF8w+iwu8fxLa7Stsp3y/CLlgCgcIJ/MMpoKR8CiipxgbpOJ8CSuG0makYAm6hW5yv7vgVUGp5rS5GGFijwALkdYFBmc4KAfLaijCwiQILBP4P7nscIvPe9Y0Cr8h0cQUooMSVizBu1TXvlOyo989j1ixcIu2n/yzCbHRFwLxA4CdQGp17oJzPPVDMR4kdRBFwc9r941dA4bU6iiZ9bREgr22JBPsopAB5XUhN5rJFIOjaumm/k6Rl6WW2bLXs90EBpQgpsOq6wyQ7OOS5UuXcVll8zv2ebRxEwEaB7HCvrPz2sb5vNFN1tdJxIb/CY2Ps2JO3gJvTq75znPMBFP9PoPBa7W3HUXsFyGt7Y8PO4guQ1/HtGGmvwGRe++2weel50rzfx/yaOV5kAQooRQBffdPRMr5pk+dK3C/Ck4WDFgsMvfaArLvrMwEFlBqngPK4xWfA1hCYLuDmdO/dnw0uoHBvn+loPLNegLy2PkRsMIYAeR0DjSHWC0zmtd9G5x3/OWnY9WS/Zo4XWYACShHA1/zgJBlds9p7pVRKOi9+2ruNowhYKND3zNdl81O3ubeL8P7j3Bul85JnvNs4ioCFAm5O9z15m1MUnLgNivcOea32duGotQLktbWhYWN5CJDXeeAx1FqBybz222Db+6+W2g7/X3X1G8dxPQIUUPS4Tpu1996LZejlp6Ydm/pk0Vm3SVXrLlMP8RgBawV6fvw+GVv1unuzCN89ktO+NDRYKDCR011vbKmekNcWRogtxREgr+OoMcZ2AfLa9gixvzgCW/Paa7Bzud15ybNeLRwzJEABpQjwg6/8Utb/8t99V5rz9lNk7js/69tOAwI2CXR95xDJDI8GbomcDuSh0TKBMDntbpm8tixwbCdQgLwO5KExoQLkdUIDx7YDBYLymnsLBtIZaaSAUiT2VVccOPH9eq/l+HUHLxWO2SoweZfwoK87kNO2Ro99eQlM5rTbRl57CXEsiQLkdRKjxp5VAuS1Soj2JApMzeuZ+69ZsoO0v+/2mYd5blCAAkqR8Fc7v8Qz7vNLPKmaaun4+BNF2gnLIBBfYOClH8mG+782MYH7BR6/26CQ0/GNGVlcgak57a5MXhfXn9X0CJDXelyZ1awAeW3Wn9X1CMzM65mrNB38IWk58NKZh3luUIACSpHw1/70QzLyj5d9V+u8+EmRVJVvOw0I2CDQ+8uPytArfwi1FXI6FBOdDAtEyWl3q+S14YCxfCgB8joUE50SJkBeJyxgbDeUgCqvOy74paTq20PNRafiCFBAKY6z9P/hOtn46LW+q8094uMy560f8W2nAQEbBLpuOEIymwcmthL0v9S7HchpGyLGHlQCU3Pa7Uteq8RoT4IAeZ2EKLHHqALkdVQx+idBYGZeT91zqrpKOj7h/I/s/LFKgAJKkcKRSQ9J11WH+a5Wt/0esuDkW3zbaUDABoGp9/Jxv77jvtn0+0NO+8lw3CaBqTnt7ou8tik67CWuAHkdV45xNguQ1zZHh73FFZiZ11PnqZnfJu0fvmfqIR5bIEABpYhB6LrmYMmMpj1XrHDuXLjkkmc82ziIgA0Cm565QjY/eev0rQT8z/Xk9HQqntkn4JnT7jbJa/uCxY5CC5DXoanomCAB8jpBwWKroQV88/rNGZr2OVpajvzP0PPRsTgCFFCK4zyxypofniyjPV2+K847/nPSsOvJvu00IGBSoOd7J8hY79ppWwj6xRK3Izk9jYsnlgl45bS7RfLaskCxnUgC5HUkLjonRIC8Tkig2GYkAb+8npxkwfu/JXUdB00+5W9LBCigFDEQG397ufQ/f7fvitXz5snCM3/l204DAqYE0hv/Lj03nz77V3eyzhce3HebPn/IaR8YDhsX8M1pd2fktfH4sIF4AuR1PDdG2S1AXtsdH3YXTyAwr50p+SR3PNdijKKAUgzlKWusvOLALRfnU45Nfdj+we9KTfs+Uw/xGAHjAmvu+ICMrno11j7I6VhsDNIskE9Ou1sjrzUHiOljCZDXsdgYZLkAeW15gNheLAFVXtcs2UHa33d7rLkZpFeAAope31mzr73zDBlZsXzW8ckD1Yu2kYUfuHPyKX8jYIXAym++3X8fqv+1npz2t6PFmEBgTju7cl+Lx7pX+O6P12pfGhoMCpDXBvFZWpsAea2NlokNCqjyuu3Dt0rt/N0N7pCl/QQooPjJaDqe3rxKum94b+DsSz75G6moqg/sQyMCxRJYf98nZfBv/jc4rm5tlbENGwK3Q04H8tBYZAFVTtfMXyDzTr6e1+oix4Xl8hMgr/PzY7SdAuS1nXFhV/kJhMnr9g/fm98ijNYmQAFFG63/xN23nSjptT2+HWp33Efa3vNd33YaECimwIor3yEV4xnfJVtP/H+y+emryWlfIRpsEwiT0407nSC8VtsWOfYTJEBeB+nQllQB8jqpkWPfQQJh8zpoDtrMCVBAMWA//I9HZd1P/zlw5c5PPRvYTiMCxRDoue09Mra223epVGODdJz/qJDTvkQ0WCYQNqfdbZPXlgWP7fgKkNe+NDQkWIC8TnDw2LqvQJS89p2EBqMCFFAM8XffuEzSfZt9V69qaZFFZz/g204DAroFBl97QNbf/dnAZVqWnidN+31sog85HUhFowUCUXPa3TJ5bUHg2EKgAHkdyENjQgXI64QGjm0HCsTJ68AJaTQiQAHFCLvI5j/dIpse+lbg6nU77S0LTrwhsA+NCOgSWHn1wSJjad/pUzXV0vHxJ7a2k9NbKXhgqUDUnHZPg7y2NJhsa6sAeb2VggclJEBel1AwOZWtAnHyeutgHlgjQAHFYCi6rj1UMkMjgTtofudZ0vz2iwP70IhAoQV6bjnWuTHs+sBpm956nLQccfm0PuT0NA6eWCQQN6fdUyCvLQokW5kmQF5P4+BJiQiQ1yUSSE5jmkA+eT1tIp4YF6CAYjAE/X+4TjY+em3wDioqZOGHbpbq+XsE96MVgQIJrL/nQhlc/nzgbKla59MnH8t9+mSyMzk9KcHfNgnkk9PueZDXNkWTvUwKkNeTEvxdSgLkdSlFk3OZFMg3ryfn4W87BCigGI7Dup+dKcNv/DVwF5X1dbL4gt8G9qERgUIIhHujKNJ26jektvMQzyXJaU8WDhoSKEROu1snrw0FkGU9BchrTxYOJlyAvE54ANm+p0Ch8tpzcg4aEaCAYoR9+qKqmxS6vSsqK2XJRU9NH8gzBAooEOoF3lmvcf+TpfXQzwWuTE4H8tBYJIFC5rS7ZfK6SIFjmUAB8jqQh8aECpDXCQ0c2w4UKHReBy5GY9EEKKAUjdp/ofHRzdJ97TGSHR/37+S2VFXK/OP+Xep3Oi64H60IRBQI89FCd8rabXZ2Pn3yA+Xs5LSSiA6aBQqd0+52yWvNQWN6pQB5rSSiQwIFyOsEBo0tKwV05LVyUToURYACSlGY1Yv0/+V22fTgVyWbVfdtetux0nL4F9Ud6YFACIEwN7Vyp6lsapTF5z0SYsYtXcjp0FR0LLCArpx2t0leFzhYTBdagLwOTUXHBAmQ1wkKFlsNLaAzr0Nvgo7aBCigaKONPnHvA5+Wob+Eu9dJ9eJtZOFpd0ZfhBEIvCkw8Vv0934+8KeKJ7EqUilZdP7PpbK+ffJQqL/J6VBMdCqQQDFy2t0qeV2ggDFNKAHyOhQTnRImQF4nLGBsN5RAsfI61GbopE2AAoo22ngTr/nBSTK6ZnWowamGOmk+6EJp2vvDofrTCYFJge7b3iPptd2TT5V/z112sczZ+yxlP68O5LSXCscKLVDMnHb3Tl4XOoLM5yVAXnupcCzpAuR10iPI/r0Eip3XXnvgWHEEKKAUxznSKl03LpNM3+bQY1JzmmTO/mfKnLd+JPQYOpanwPr7PikDrzwnFeOZ0ACF+MoYOR2am44RBUzltLtN8jpisOgeWoC8Dk1FxwQJkNcJChZbDS1gMq9Db5KOBRWggFJQzsJN1nPnGTK2YnmkCVO1NdKw93HScshlkcbRubQF0hv/Lusf/KyMrno10om6X9tpOeKT0hjzkyczFyOnZ4rwPK6ALTnt7p+8jhtFxs0UIK9nivC8FATI61KIIucwU8CmvJ65N57rF6CAot849gobHv9PGfidc5+TEDeWnbqI+5PH9TvuL63LvigVda1Tm3hcRgKbnrlChl++T9K9a6Om0MQNY9vPuD3yPU9UvOS0Soj2IAEbc9rdL3kdFDXaVALktUqI9iQKkNdJjBp7VgnYmteqfdNeWAEKKIX1LPhswyufkvW/+N+SGRmNN7dTTKmet0BqO/aVxj1OkeqF+8Wbh1HWCwy89CMZfOUBGVv7imT7B51fdIpYeXvzDGs7d5K2f/qhtvMlp7XRltzESclpF568Lrn003ZC5LU2WiY2KEBeG8RnaW0CScprbQhMPEuAAsosEjsP9Nx2ovPGuCf/zaUqpKqpySmk7CbVLdtKwx7vl6q524qkavKfmxmKIpAd7pWR7t87Nxv+kwy98biMr18t40MjUlFRkd/6zvA5+79X5h7yb/nNE3I0OR0Sqgy6lUpOu6Eir8sgYUOeInntAcU1iAdKsg6R1x7xIq89UJJ1qJTyOlnyydwtBZQExW3D/ZfKwEuPa9vxxBtw574XFVWVIs5/FVW1zteHMs4NR9OSqaxyCi4LKbRo0xfJDK6X8f4NknKsUzV1kh4dEUmPSSadFnFu+prNODd+dT5VknehxOMcUrXVMu+E/5K6bZd6tOo7RE7rs7Vh5nLMadedvLYh+/TtgbzWY8s1iB7XsLOS12GlovUjr6N5Fbp3ueZ1oR2Zb7oABZTpHtY/G1n7Z9n0yBdkdPUbke+NkvfJuR9wiPetkLyXZgI9AqmaaudTSEc5N4u9XM8CIWYlp0Mg0SW0gA057W6WvA4dMjqGECCvHaQyuwYph9Mlr8svr0O83CW+iy15nXhIi0+AAorFwQncWiYtvfd+QoZf/eOWTyYEdqYxiQI6L55SjQ3SvN8HpWm/j9lDQ07bEwtNOym7nHYdyWtN2WTPtOS18+lI/hRUwC+nshnnU6jO10WK8cdvD4VY28prEPfEeL0uRHitnqMs89rqiCRzcxRQkhm3abte/+jnZPilh5wbzY5NO67riY4XHx1z6jr/Ys5baJeqefNl7jsvkfqdTijmaUReqxRyOvJJl8mAcs1pN7zkdekmOXmd7GsQ2zIzMJ/cG8Tne8+zkCccuI+Qc0ztlpRrEHfPvF5PjVxpPZ6a11Mfxz3LJOV13HNk3HQBCijTPRL9rO/318jA8z907qMxmKjz8HvxKub/0mItWAEulNzv31Z3bC+tR/6HVM/f3dpT9dpYUnPa61w49qZAmee0q0Bel+C/BvKavC5WWhcg10JvtQBrJfkaxHXi9Tp0tiSn45t5nc/7j6TndXKCZedOKaDYGZe8d7X5xVtl+LWHZKznVefmpEMTNx/Ne9LJCfxecSbbI/4dOF0B/p93xO0kvntFdZVUNbdK7ZK3St0uJ0td50GJPyf3BJKU0yUBbtFJlGpOk9cWJZmBrZDXMdEDLxpizsmwggmQ1zEpyeuYcPGHBZLPeP9RynkdX7B8R1JAKZPYD//jURl6+Rcy0vWCjPdtkuz4eDLOfMYLWDI2XZhdZp1zn7h7u2K6VF2tVM3vkLrtD5XGPU+Xyvp2xYjSaE5sTpcGf6yzIKfVbOS12si2HuS1OiLktdrIth7ktToi5LXayLYeYfO6wvlV0urF25XdtbVt8bJ1PxRQbI2M5n2lB9bImPOLPuODqyXT3+N87WetZIY3OP85xZWRfhkfGZTs2KjTPjRx43u3SjvxnVsN37t1X8zcn+f1/OOsF6aI4Dk2YQfdnyl2nZ17xEmq2vkZ6fp65+9aqahpkFRds1MYaZFU/XxJNbZJVdNiqWzqkNqOtyfsLPVt16ac1neWyZqZnM4/XuR1/oaFnoG8zl+UvA42NHFdRF4HxyRMK3kdRqm4fYLyenxzr2QGvG97UL/rO2T+8VcWd7OslhgBCiiJCVXpbrT33oucT8c87XmCvIB5snAQAQQQQAABBEpUgOuiEg0sp2WVAP/OrApHojZDASVR4SrNzfICVppx5awQQAABBBBAILoA10XRzRiBQFQB/p1FFaP/pAAFlEkJ/jYmwAuYMXoWRgABBBBAAAHLBLgusiwgbKckBfh3VpJhLcpJUUApCjOLBAnwAhakQxsCCCCAAAIIlJMA10XlFG3O1ZQA/85MySd/XQooyY9h4s+AF7DEh5ATQAABBBBAAIECCXBdVCBIpkEgQIB/ZwE4NAUKUEAJ5KGxGAK8gBVDmTUQQAABBBBAIAkCXBclIUrsMekC/DtLegTN7Z8Cijl7Vn5TgBcwUgEBBBBAAAEEENgiwHURmYCAfgH+nek3LtUVKKCUamQTdF68gCUoWGwVAQQQQAABBLQKcF2klZfJEZgQ4N8ZiRBXgAJKXDnGFUyAF7CCUTIRAggggAACCCRcgOuihAeQ7SdCgH9niQiTlZukgGJlWMprU7yAlVe8OVsEEEAAAQQQ8BfgusjfhhYECiXAv7NCSZbfPBRQyi/m1p0xL2DWhYQNIYAAAggggIAhAa6LDMGzbFkJ8O+srMJd0JOlgFJQTiaLI8ALWBw1xiCAAAIIIIBAKQpwXVSKUeWcbBPg35ltEUnOfiigJCdWJbtTXsBKNrScGAIIIIAAAghEFOC6KCIY3RGIIcC/sxhoDJkQoIBCIhgX4AXMeAjYAAIIIIAAAghYIsB1kSWBYBslLcC/s5IOr9aTo4CilZfJwwjwAhZGiT4IIIAAAgggUA4CXBeVQ5Q5R9MC/DszHYHkrk8BJbmxK5md8wJWMqHkRBBAAAEEEEAgTwGui/IEZDgCIQT4dxYCiS6eAhRQPFk4WEwBXsCKqc1aCCCAAAIIIGCzANdFNkeHvZWKAP/OSiWSxT8PCijFN2fFGQK8gM0A4SkCCCCAAAIIlK0A10VlG3pOvIgC/DsrInaJLfX/AQAA//8ghOknAABAAElEQVTsvQd0JMl5JhiVVQVvGkDDNBqN9uO9H47rMT09dnmSVnyPIz5JJGVILkkt773Vvr2V9ri3XO1J3DuuKFGipOOQlHSUTpTZkTje9cz0eM8xHNONRsM1TAMNbyqzqu6LRAMVkRWFMsjMiAL+eG+mMyJNRH7xI+vLP+P//kgahVEhBDQiMP7wl9nCRy8rR1B91tWs5c4/Vu6jRkKAECAECAFCgBAgBDYaAsSLNtqM0v2YiAD9nZk4K+Uxpgg5UMpjojbyKOkBtpFnl+6NECAECAFCgBAgBIpBgHhRMWjRsYRAaQjQ31lpuNFZjJEDhaxAOwL0ANM+BTQAQoAQIAQIAUKAEDAEAeJFhkwEDWNDI0B/Zxt6egO9OXKgBAovXbwQBOgBVghKdAwhQAgQAoQAIUAIbAYEiBdthlmme9SNAP2d6Z6B8u2fHCjlO3cbZuT0ANswU0k3QggQAoQAIUAIEALrRIB40ToBpNMJgQIQoL+zAkCiQ5QIkANFCQs1hokAPcDCRJv6IgQIAUKAECAECAGTESBeZPLs0Ng2CgL0d7ZRZjL8+yAHSviYU48eBOgB5gGEqoQAIUAIEAKEACGwaREgXrRpp55uPEQE6O8sRLA3WFfkQNlgE1qOt0MPsHKcNRozIUAIEAKEACFACASBAPGiIFClaxICMgL0dybjQbXCESAHSuFY0ZEBIUAPsICApcsSAoQAIUAIEAKEQNkhQLyo7KaMBlyGCNDfWRlOmiFDJgeKIROxmYdBD7DNPPt074QAIUAIEAKEACEgIkC8SESDtgmBYBCgv7NgcN0MVyUHymaYZcPvkR5ghk8QDY8QIAQIAUKAECAEQkOAeFFoUFNHmxgB+jvbxJO/zlsnB8o6AaTT148APcDWjyFdgRAgBAgBQoAQIAQ2BgLEizbGPNJdmI0A/Z2ZPT8mj44cKCbPziYZGz3ANslE020SAoQAIUAIEAKEQF4EiBflhYgOIATWjQD9na0bwk17AXKgbNqpN+fG6QFmzlzQSAgBQoAQIAQIAUIgOAQSo++wWGM3syobc3ayHl6UWppizlQfq2i7MOf1aQchQAgwtp6/M8JvcyNADpTNPf+B3T3/AZ9988/x3z+xVMJm8ZY2Vn/Nl1jNvruz+izlATZ/9EE289KfMHt8lFkVcVZ36c/hv99Yk5BkdUwNhAAhQAgQAoQAIUAIhIDA9EvfXOVEvLuacz7Bthz4P5S8pRRexHnX5OH/xOY/eMG9mxVu1HDNvwvh7qgLQsAMBOj9w4x52OijIAfKRp9hDffHH15jP77PdW6I3fMf847PPZxFFoolCvz6w/ff6TpmxOtzJ03rL/4o6/riMbRNCBAChAAhQAgQAoRAmAhMPPpbq44Nsd/6q36RNV7722KTu10sL+InTb34B2zmlR9nXYs7apoP/WFWOzUQAhsNAXr/2Ggzau79kAPF3Lkp25FNv/FdNv3c95Tjrz7nWtZy6NvSvmKJwvijX2ULH7woXWOl0nDD51nDZV9YqdK/hAAhQAgQAoQAIUAIaEOAv9QNffc2Zf9Bf1ha6bTrt15d2aR/CYENiwC9f2zYqTXuxsiBYtyUlP+Acn0F4XemIgvFOFByrT5ZQS3X15yV/fQvIUAIEAKEACFACBACYSHgTPex4e//Qs7uthz8Gqs77z5pfzG8iJ84+/6P2OTj35KuIVY6PvsPLNbQLTbRNiGw4RCg948NN6XG3hA5UIydmvIdGNcnmXjw6zlvwEsWiiEK+UhC891fV+qs5BwM7SAECAFCgBAgBAgBQiBABAb+5FrGbEfZAw8/bv/Mg9K+YngRP3Hkr+/OCptevWA8xrq+pF61u3oMbRACGwABev/YAJNYJrdADpQymahyGqa7XPV7d+QkC5W7LmCtn/z+6i0VQxTGHvgsW+p9d/VcaQMkofPzj5AGigQKVQgBQoAQIAQIAUJAJwJrhR7zcXlXiBTDi/KtcFGFTuvEgvomBIJCIMj3j9G//xRLDB5XD53eP9S4bOBWcqBs4MnVeWvFkIVCiQKRBJ0zSn0TAoQAIUAIEAKEQCkILPYfYaf+8Ws5T/WGHxfKi/gF1wpb4PvbPn0/pTTmQFDZFAjQ+8emmGbtN0kOFO1TsDEHkG8ZnSj2WihRWEsciqNI4Tsb05borggBQoAQIAQIgXJHYOj+m1lqZlZ5G9H6Orbtc0+v7iuUF/ETTuK6yRzXtXDdTuG6qx3QBiGwQRGg948NOrGG3RY5UAybkI00nLXIghjzWyhRIJKwkayD7oUQIAQIAUKAENg8CJw+/Dts7u1Hc96wuFKkUF6UGH2Hjf7N53Je07uyJeeBtIMQ2EAI0PvHBppMQ2+FHCiGTsxGGFahZKEQopCPJNRefIg1HfjGRoCN7oEQIAQIAUKAECAENhgCxYQhF8KLODzFhCtsMDjpdgiBnAjQ+0dOaGiHTwiQA8UnIOky2QgU6vQohCgU+jDMHgW1EAKEACFACBAChAAhoB+B4b++iznjY8qBWBVx1vnFF9x9hfAifuDQn36CpRK28nqxllbW8ZmHlPuokRDYyAjQ+8dGnl0z7o0cKGbMw4YdxVpkYSXmtxCiQCRhw5oI3RghQAgQAoQAIbApEChUy60QXpRP62HLwa+xuvPu2xS40k0SAl4E6P3DiwjV/USAHCh+oknXykKgELKw8PHDbOGjl7PO5Q3VZ13NqvffySYe/LpyP28UBWlzHkQ7CAFCgBAgBAgBQoAQ0IiAm2b1u7flHEHlrgtY6ye/zwpxoIw98Fm21Ptuzmt1fuEJZlU25txPOwiBjYwAvX9s5NnVf2/kQNE/Bxt6BIXE/LJUak0HCrMstvDBizlx6vjsP7BYQ3fO/bSDECAECAFCgBAgBAgBExAoxPFx+qn/uCYvarrlv7KhAhwxJtwvjYEQ0IEAvX/oQH3z9EkOlM0z19rudC2ywGN+K7ovZItH31COr2rfZTn38RNWvtYoT6ZGQoAQIAQIAUKAECAEDEKgkNCbpRMvrOlAibdfwKaf+17Ou2q+++usZt/dOffTDkJgMyBA7x+bYZb13CM5UPTgvql6nX3/R2zy8W/lvOd4RxezhweU+9fax0+gGF8lbNRICBAChAAhQAgQAoYiMPAn1zJmO8rRxVvaWKxl95oOFGf8OLPHR5Xns3iMdX0p96pd9UnUSghsPATo/WPjzakpd0QOFFNmYgOPw435/d4dOcmCVVvLUnNzSgSs6iqWWlhU7uMkofPzj1CMrxodaiUECAFCgBAgBAgBAxHIl364cs+FbKnnHeXI19rHT6g+51rWcujbynOpkRDYTAjkff9Y4x2D3j82k6UUf6/kQCkeMzqjBATykQUWwUXTngur2oRDiCQIYNAmIUAIEAKEACFACJQFAvnSrMaatzJn4pTyXqJbmlhy8rRyH29s+/T9rKLtwpz7aQchsJkQoPePzTTb4d0rOVDCw3pT95Qv5rcUcCjGtxTU6BxCgBAgBAgBQoAQ0I3A0P03s9TMrHIYkViMpR11iM9a+6z6Otb5uaeV16RGQmAzIkDvH5tx1oO/Z3KgBI8x9XAGgbXIQrEgEUkoFjE6nhAgBAgBQoAQIARMQWDqxT9gM6/82Nfh1F/1i6zx2t/29Zp0MUKg3BGg949yn0Hzxk8OFPPmZMOO6PTh32Fzbz/qy/3VXnyINR34hi/XoosQAoQAIUAIEAKEACEQJgL50qym02kWifBY5kxRtWX2Mtbx2X9gsYZusYm2CYFNjwC9f2x6E/AdAHKg+A4pXTAXAvlifkViIG6rrkcxvipUqI0QIAQIAUKAECAEygWB4b++iznjY74MN9bSyjo+85Av16KLEAIbCQF6/9hIs2nGvZADxYx52DSj8IMsEEnYNOZCN0oIEAKEACFACGxYBPKlWZVuPI+w/paDX2N1590nnUIVQoAQWEaA3j/IEvxEgBwofqJJ18qLwPQb32XTz30v73FrHdBww+dZw2VfWOsQ2kcIEAKEACFACBAChIDRCLhpVr97W84xplMI47GWw3jEbdUJnV94glmVjapd1EYIbHoE6P1j05uArwCQA8VXOOli+RAoJOaXX8Mb9ytel2J8RTRomxAgBAgBQoAQIATKFYGxBz7LlnrfXdfwK3ddwFo/+f11XYNOJgQ2MgL0/rGRZzf8eyMHSviYb/oe10MWiCRsevMhAAgBQoAQIAQIgQ2DQN40q3lCdzgQzXd/ndXsu3vDYEI3QggEgQC9fwSB6ua8JjlQNue8a73rNWN+8xAFivHVOnXUOSFACBAChAAhQAj4jMDAn1zLmO2or4psPG7xZORZPTgeY11fenG1ShuEACGgRoDeP9S4UGvxCJADpXjM6Ix1IuDG/H7vjtxkIdf1QRI6P/8IxfjmwofaCQFCgBAgBAgBQqDsEBh/9Kts4YMcTpA8H5aqz7mWtRz6dtndMw2YEAgbAXr/CBvxjdsfOVA27twafWdKskAkweg5o8ERAoQAIUAIEAKEgP8IrJVmNY0VKGvpwrV9+n5W0Xah/4OiKxICGxABev/YgJOq4ZbIgaIBdOqSsbwxvwqQKMZXAQo1EQKEACFACBAChEDZIzB0/80sNTNb1H1Y9XWs83NPF3UOHUwIbGYE6P1jM8++f/dODhT/sKQrFYlAMWSBSEKR4NLhhAAhQAgQAoQAIVA2CEy9+Ads5pUfFzXe+qt+kTVe+9tFnUMHEwKbHQF6/9jsFrD++ycHyvoxpCuUiMDpw7/D5t5+tKCzay8+xJoOfKOgY+kgQoAQIAQIAUKAECAEygkBVZrVfOE7HZ/9BxZr6C6n26SxEgLaEaD3D+1TUPYDIAdK2U9h+d6AGPObjyRQjG/5zjONnBAgBAgBQoAQIATyIzD813cxZ3ws/4E4ItbSyjo+81BBx9JBhAAhkEGA3j8yWNBWaQiQA6U03Db8Wc7cMEtO9bPk7BD0Sh5j0ZoGFq3f7vt9z77xdyw1v7Dmda2aalZ32afWPGYj7EwlZpkzNcAq6jtZRdfVLFq3ncUad7JIrHoj3B7dAyFACBAChAAhUBACYXGQggYT4kH2yLts4ePXl3vMJ6y//3IWb7/At9ERB/ENypwX2qx2nROQEHbksuuRv/2FvM5KclKGMEFl2gU5UMp04koddnJ+nM397G/YwokXWHruNEvbiyzt2CxlO4yl0oylU/hPfXW+SsSKRHLtVp9ErQUjsNYqnIgFJhWxWCSK/5DOORKvZFZFNYtu2cmq99/BavbdXXA/dCAhQAgQAoQAIaADAeIghaOeBidzf/sLP2VdRxIHKR0+suvSsQv6zLXsOl/fDTd8njVc9oV8h9H+TYgAOVA2+KQnTr7B5j/8J7Y09CazJ04xlkwad8frebgZdzOaBsRTHFrVVczauoNV7zrA6i78DLNo5Yqm2aBuCQFCgBAgBDgC5cBBTJupQhwnhRwT5n1tNg5Cdh2mdQXXV773j81m18EhvfGuTA6UDTani0Mvsbm3fsiWRj5kaaTD4w8Hv0vqzEoUv6671gPMNJLg1z2L18mzSlc8tKhtvlIl3tzGKrZfwbbc8LtFnUsHEwKEACFACBACxSJQjhyk2HvcaMcTB8k/o2TX+TEy7YhC7LqU9w/i1qbNtJ7xkANFD+6+9zr7zg/Y9Ks/ZCk4TcqucCcPVlBs2lLIU3694ADfyq59rOngN1ksAC2b9Q6PzicECAFCgBAoXwTKmoOUGey+f1giDpLTAsiuc0Jj/o5C7Hq97x/Erc23g4BGSA6UgIAN67JTR77B5t59mKWWEmF1GUg/Ki+w28a1P/xfRBPIPZR6UdW9l3qtQs6LtbazLdf/O1bVfVMhh9MxhAAhQAgQAoSAEoGNwkGUN6excS0nid+cwe/r5YOtHDgI2XW+WTR/f6F2rTrObSvy/aMc7Nr8WSufEZIDpXzmShrp+CNfZQtHXwld02StH3VpgMVWuJ/EFbHlWqkQqg1ZPK3Y4fp5vIWLQbo39BJrqGe1V/wqq7/wl0PvmzokBAgBQoAQKF8ENhwHMWwqUuBAFn+B85QguBFxkAzIZNcZLMp9q2C79vn9g7h1uVtOYeMnB0phOBlz1KkHfpktnvgA3oaQl2Xw3/GQuzQG9LAGst6lhCWO06quZA1X/Qqru+TXS7wCnUYIEAKEACGwGRAgDhLeLLsfldCdmIknCAfK6h1tYg5Cdr1qBRtvYxPb9cabTHPuiBwo5szFmiOxR3/Kxv7nl1hqYWnN44rZyZ8p0YY6Nx1upKIGWVzqmVXVhH+bWbS2HVoZHfh3O4s17mDRqsY1L233PcnSi4L+Cr92+0VIs7t7zfOC3pmc7mPJkbckhxO/1/iug0F3nff6dt/TwGxaOi7adhZLWw3MmR5gybkh/DfCUrNjLLU4wZILkyy9NMeSi/NYebTEkvOLWLri39qVqp3nsK3/y19J46EKIUAIEAKEACFgPAfpfZylE/htXCmmcJAZ/JYjG6L4BaoYDjL30QMI0/6x+82s/qJPsZr9/2rlDtf9r913GBxkSrrOZuMg5tv1E7DrOc8cGcCtXbt+XRpXpKIa3Pp2qU1HxT4Bu17a3HatA/fN1ic5UMpgxqdf+RabfulvJCdA0cOG0FG0tobFWvew6n23sbrz7iv6ErlOsPuewY/whLQ72rSPRVsvlNrCrvAHqH3iaXQLJrVSIjFWsfcuxqzoSouWf53BF1lqbljq26rfwWLbrpDa8lWc0x+zmff+P2YPvsbs8VGWtu18p6y5ny89bP2lB1i0on7N42gnIUAIEAKEwOZAwHgO0g8OsiBzEGvLPhZrM4CDwEmBmOSMoVjgIPvuRp0HGOgrxEEYM96uXQfXaclIjOHW4P0sncyMjew6g4Vii7i1ApQybyIHiuETOPbAr7Cl3veLHiVPahPd0swqOy9i1WfdE5hgqDP4EhwBJ6XxWXVYtdJ5ldQWegXLaxLHfoIVGk6m64jF4jtuYpGqLZk2DVsOVsSkpo5LPUeqWli8+0apraQK7nfmnb+EzRxmSwj14kJYxZZINMoab/lf4WT7VLGn0vGEACFACBACGwgB4znI0MtYpTkkIW4h01xsm2YOghG5HCQpfNQAB4l13YhVvk3SeMOuEAdhzHi7HoRdYxWyWMiuRTSyt52RN8CtT0g7ItVbwftvkNpKqhC3Lgm2jXwSOVAMnd20s8iG//pulpySQzzyDteyWPWei1jLnd/BB46KvIev5wAHYUWpyWPSJSJVzXAE3CS16ajYxx/Faox5qetYx+XMauiW2sKuJCc+ZslT70rdRrDaI77rNqnNr8o8lv/OvPwnzJ6Qv87luz53wFWdfT1rOfStfIfSfkKAECAECIENhkA5cJDk2DssefqohHyksonFdx6Q2nRU7OOPgIMsCF2nEdZ8BYs2auYgWLWaHNu8HKQc7NoZfRfc+mPBdqCDg/D6ePcBqU1HJduu8bG27VJ8sN2lYzirfSbHP2LJ8fdW63wjEq9j8d3BhOsTt5ag3pQVcqAYOO0LH/0Tm3j891naEZbH5RlnJB5nNeccYE23/F6eI/3ZnZw8zpKjb+JieNM+UyLxWjysbl+pavvX7n0KMaOe+Mfmc1h067naxsQ7Ts2eZM7Jl+VQrGjlckhRwCNLwNl1+umvM3u4v6ieKtq2sbZP/3NR59DBhAAhQAgQAuWLQFlwkNM9cAS8LYEcqcALkwn6Zq4Ggyf0ovlscJDzpPGGXUnNDIGDIHujENYciVWy+B6ENQdcTOAgZWHXLreGbp9QjLbrprMQrn++MNrwN3k4PF8Nv1ntOnzEqUeOADlQDLMD/oAff7hwJ4hVW83qLv0Ua7j8y6HdSWpujDlDz3scAXE4Au4JbQy5OrL7X0As9Ii026rrQkjRlVJb2JW0Pcfs3ieAmRALHYm6DqdIrCq04aSdBXbq4S+zpZ6fFtynBV2Uzs8+VfDxdCAhQAgQAoRAeSJQFhxkARykHxxEcASwqBkcxBl4gaXmPRykHhxkmwkc5ElAJnyYgyYc/0K/GThIWdj1/CnmDByR7dqCXe/Tz62VmjnGcmvY9Z7bWQQfKMMqxK3DQtqcfsiBYs5cYMXJIhv6swMFrTzh6z6qzj/AWm77Zrh3kEogrvdR/Ah7tEUQgsJXoOgszjDiH6cDin9c541lx0JHEAt9HWKhW9d55dJPH/7hQeZMThZ0gfiO/az9539U0LF0ECFACBAChED5IVAOHCSdTDC75xGPIwAfI3bdqp+DBKlvtk5zShx7ENn7EpmrIE53s3CQ8rDrJdg159aig4vb9S1uKEpm4sLfckbfRkhRj9RxpBq6fTtulNp0VLLsGqviY12fYFZNm47huH0St9YGfagdkwMlVLjX7uzkD24tSPOEi3xuOfjvWe3ZP7f2BQPYa/c8BN+JkEqZ/whDrM2q6wygt8IvmRz/EPGP70snRCoaXFIlNWqo2G56xVmp52gr0tA17ZXawq4kp/rY+INfZokxWQQ41zhqr/h51nTdf8i1m9oJAUKAECAEyhiBsuQgwDvWebV+DgItFq7JIpYg9c3EfvJt2z2PgbfNSYfF2i9iVqNeDpKa7mOnfhI8Bylbu94Gu67XzK1NtmtDuXVYdi39QVMldATIgRI65OoOC1UEjzY2sG2//HDgArGqUdq9T0JbRBa1jbacx6ItZ6sOD61tOa4X2iJC4UtS43vuFFr0bC7no5djoa0te5Fe8SI9AzrTa3rxNLP7n8XXjhSbO/Y4m/vo1fzjwbKnrT//R6yq65r8x9IRhAAhQAgQAmWDQHlwkCfAQWYkTKNbz2fR5rOktrAryxoML8rdQsR/OV2x3Bx2zUa62fSiLCLPHSfcgaKzLHOQZ8BB0oFykPKwawW3NsKuodvnaosIlhKFXe+9W2jQs6nk1o17YNcX6xnQmV7TS5PMdlOXB2vXWm+SOncRIAeKAYbg5qJ/MX94RPXu81nLv/qBlhHb/c9BW+SU1LfVsIvFOi6V2sKupBOzzD4BfQ7vssfdhxDXG178o+q+naFXIBw7KO2yarex2HbdDgikeD4qp3jmBPD0q/8vSy4Iq4ukkS9XrMoK1vkFHntOhRAgBAgBQmAjIFAWHKQPHGTRw0Ead+KF6TKtU8C1D+zjj7kfI1YHwvXNXA2G8PTNVvsWNrhgbGrGRA6CFM8uB8mkeA6Cg5SFXfcfAbceE2YN30cbwa3bNXNrV7ePc2sxXJ/bNbh1iNoiEjBnKkpuXQdu3amZW6dSLHH8IYTKBWvXKkyoLXwEyIESPuZSjzayo4z87a+5Xnhph6dSCQ2KVk0aFM7JV/EjPCCNyKppd+MMpUYNlSxtETf+EdoiNfq0RTgMPFUxT1ksFnNSPHvTKyINXfvlbnrFwT++Br4oIQZXvIEz2/HWdtZ+HxwwVAgBQoAQIATKGoGy4CDDr0PfrE/C2VgOwsOaO69lVm27NN6wKzxVcRIpi8ViTCrcnofxXr6YGRpWoUQ7rgQH2cH84iBlYddKbt3matNkwNGzlTjGHQHCB7WI5ToodNu1MsWzKanLvXaNZ0G07TLi1npMOPBeyYESOMRrdzD059ezVJ6v/jpXniRP/QyOgA+km4hUbmHxnTdLbToq/KsPz26zWtI8H/3F0BbZs9qkYyM52XsmxXOm93JK8TzwHXjx86TQrj33OtZ0+//I3CBtEQKEACFACJQdAsZzkLH34Qj4UMI1UtHoimtKjRoqan2zC8FB9mkYTabLJAQ/kyNI8Yyw25ViDAdBeAMP3xFLdOs5CMM6d7XJDw5ivl2DW5/2cGtT7NrLrTEz0Vb9ds2TRPBkEWIxxq57n0J44ZQ4NMgbwK5b/LVrqQOqaEWAHCga4T/1wC+zxd6frTkCV/PkV5F6TkNJTfczZ+R1aXVMJFaNJXx3aBiN3KUq/pGTFv6Q11lSPA3dIEJcxHTFJqdXbEB6RXz5EcvCsUfY+E9+V2xSbrfe9wNW2Xq+ch81EgKEACFACJiNgPEcZAYcZPg1/J5mcIzEwUF2m8lBTNA3czlIOaXCVaR4Xi8HMd+uB5hzEnYtGLYx3LofmjkL5mnmpCAh4Ax4ubUZeizOIFKXz41kHlLYsgKwa6kDqmhHgBwoGqdg4NtXSc4J71B4tp3tX4LQJ8TIwi7LQkhc4CuV6ToSWxZFw1I+ncUZehnaIkPSEHgWIK7Er7WkbKR4fgSYeWJGTUhDp0yvuJXFu29QQjb5zO+w2bceVe5baazo3MnafvHvV6r0LyFACBAChEAZIWA2B5mCGCPnIEJIqcU5yD1AWFhaoQFvZxDaInPmaYu4KZ6P43c7ZSIHeZOlpnql2YpUIRVutzoV7no4iNF2vQi77j8sc2tu11yYVTe3HgS3njORWzvg1g+bya2HYdfTHruuBrfeQdxa+mPfgBVyoGia1PFHvsoWPvSotgtj4fRgyx3/m5ZUxVwVPdHzoCSExB/ssa4bmVXdJIwy/E2eJjCJtGpiMUVbJCtmFIOMmZCGbuIjaLK8J0LGCkmvOPJ3P8/sk/3SeVIFRtr1ZdgwfvypEAKEACFACJQPAkZzEMDoFRnlHCS+40bGdTx0FjUHaYIj4IDOYbl9G8tBoMXCNVnEEhQHMd6uj0E/ThAZNceuFZo5pmqLwJCM4NbjH7Lk+PuiWYNbNyC88FapzVshbu1FpDzr5EDRNG8DEOtka4h1Vp9/gLXc9k0to7N7IDIKZXmxxDouZ1ZDt9gU+rYb1zv2U3ihM+t5I/EaLOc9FPpYvB2qUzyf68ZAeo8Ns85X6nDFcoC22i3PThTfc9dqfa2Nob+4gaXmF3MeUrXvUrb17j/PuZ92EAKEACFACJiHgNEcBKso0vZ8BjT85se2cQ6yM9OmYSs5dRzaIm9JPZujwaBKhXsetEXOlsYbdiU1Aw4yDA4i8rZYFTjInQUNpVgOUl52zQX8L2XRLbsKwiKog8zWFlHYNXRFuL6IzqLi1gzZiSr2ErfWOS9h9k0OlDDRPtPX1JFvsJnXH8jZs1VbzTp/DaE7Gop94mnGw3fEEm05Gw+r88Sm0LdTSPPm9CP+UXAEMFPy0StTPCO9Yofm9IpuGronAJkchhXffXvBKZ5n3vkrNvXUt3POd8Sy2PavvJxzP+0gBAgBQoAQMAsBozmISmQUToDoVs0chOubIeUsi4gfIyrgCEDoheZiqziICalwE3PMPvEkOIgQhoVQ8Pjug+AghaV4LoaDGG3XKpHRprOg26dXR87VFuF2LXJrN1TuXs1WzRDqpEjxDCeqGdxaYdduiufCJBeKsWvtE0EDUCJADhQlLME2Dn33OpZaSuTspOH6X2ENl3855/6gdjiDLyH+8aR0eathBx5WV0htYVfSzhLjGXeytEV23orlcrVhD0fqjyuCc++9WCLVrVhqfL3YpGU7cYyHYQl2xtMrdiHFM8ZXTBm6/2aksZ7NeUrdxXewLQf+S879tIMQIAQIAULAHASM5SADL2LF47AElKUQOpcOCKMCTRG1BgM4SFwzBzmJFM8zfRIKVo0pqXA94SrQrnE5SE0wHMRYux4Ct571cOs6CPh3XinNW+gVbtdIvWukZo4idXmkug3c+rrQYfJ2mBVeiANi4PzErb1Ibew6OVBCnt/Zd37AJp/6Ts5eI/E4hGNfyLk/qB2OSgipKrfIaFDjUF03yxHAf4Q7r2JcOFZnSY5/gPjHn0lDMCa9oioNHU/xvGWPNN5CKjNv38+mDv9pzkOtijjr/GL4NptzQLSDECAECAFCQImAsRxEKXSeW2RUeXMBNdo9D+H7zZJ0dSM0GE6Bg0wYykF6EIblCGFY0EyLtgbHQRqu/w0zuTXSSaemeiTbiVTDrqHno7vYcJ6kHTlE2wy7RorniQ8keMzm1peAW++WxltIhbh1ISiZeww5UEKem3xf82svPMiabvm9UEeVVImMxuvcZZahDkTRmd37BHKrz0h7oq0XsGjTfqkt7EpqZhBp6BDXK5RitEWE03zfVKV4thr3sFj7xSX3lffLzo2fYw2XfrHk69OJhAAhQAgQAsEjYCQHKVFkNHi0EEbQq9Bg2Ho+tEXOCqP7nH2kZngq3Fel/TwsplBtEelEnytKDrJlL4u1XVRyT/k4SKSyAuHnwopbT09auDUSHnDRYbEUIp4rHh/UttKuTdAWUXJrk+16P+z6gpKnKZ9dNxC3LhnboE8kB0rQCAvXX8QyvlM//orQ4tmEnkRXyHoSPHe5M/QiwmPEuN7CRUY9d+Br1e57lqUXx6VrWg27EFJ0qdQWdiW9NI30ik8DM1lbpGIvRNE0Z6ThgrGpWU96RR9SPE8+/1/Y7Gv/nBPqaF0N2/b5Z3Lupx2EACFACBACehEwk4MMMx4+LGkwFCHGGCSixmowLPEUz4dlDuKmwoWAZSQaJCR5r+0MIRUuxOvFYtVuZ7HtV4lNRW+vyUGwukWU8Mi6uBZuDbt2uXVmNJGYKZo5hmqLqLg1t2ue9MAy0K7rYdfbArRrmA5x68zfj2lb5EAJcUbGH/oiW/j4tZw9Vu+7hLXc/Rc59/u9I+2KjHqFkKL4gnEIv8GVfndX1PX4lxX+hUUsVk074mc/ITZp2U4c/Rc5ZtSN60WK55pmLeNZ6ZSnCUziS55YIj6moRtE5qj0Gpmjun5L/homjoO2CQFCgBAgBPQiYBwHQbY/+zgXOncywMABQBwkA4dqK4uDuPpmN0GDQXeKZwUHQdppv1I85+MgKqx4W+jcGmExNjJJyR/ZYNeugH9h4rm57mW97c7wa9Dt65cuY4y2SFaK58iZ1OV6ubUz+lOWmjwmYxaiXRO3lqA3pkIOlBCnYuj7t+DBJYejrHSP3z+2/cvIMmNVrDQF/m+Wtgj/Ed4OkdEiBb78Hmjy1PuIf/xQuqw58Y9I8WwvCGNDekVk2+ErY3SW5CTSK4560yv6m+J54qF/w+Y/lsOWxHtuuu3fstrzf0lsom1CgBAgBAgBQxAwjYPYPQ/CdyKGXXCR0WvBQdq1IpY8ZbIGgzfFM75StyEVbtMuvZipOAhE/uO7bvdtXLk4SBorqCOcRCuKDm6drZnDuTXsula3XSs0cyobWXznLQrkwm2ye8Ct4VDNFM6trwC37s40adgibq0B9DLpkhwoIU7U4LevQqRMJlRG7DrW1Mw6fhke65CK3fsYtEXmpN6irRfiR3if1BZ2JTXdh7herNIRfgwjsWp8kboj7KFk9Wer0tAZkV4RKZ4HvCme48hHf0/WPaynIb14mg3+WW4yVLnnAtZ67/fX0wWdSwgQAoQAIRAQAmZxkMfBQcTsbhGIjHIOsjeguy/ssqmZfsa/0oshIcZwkBOHofNxWrqRqBGpcM9wEJHfRsPjIGtF8ITPrb12zcVzLzLArlW6fYZwa4VdW1v2QVvkQsnWw66oUzzDrvcRtw57LkzsjxwoIc1K4uQbbPTvfjNnbzXn3cSaD/73nPv93MFjZ/nLsFisdQp8idcqdTu9NIm43mfkZY9uXC8eVoJDpdTrr+c8ZxDpFec86RV9iOtdz5j4uWmkKbahdi8vgbbwRYGneK5b7+Wzzh9AGA/LEcZj1dawzl/D/FEhBAgBQoAQMAoBszjIM+AgExI+6xU6ly5WYiW9CA7S7+EgEWgw7LsbHMQq8ar+nOaoUjwbkApXzUEQrrLrFqR4Dp6D4CWGpdfgh+Fya4VdI/NhDBkQdRaeiME+wcP1hQ+43K73GqAtouLW9UjxvE13iucEUpc/wkl2Zup4eGFIdp3pFIEJxK1FOIzZJgdKSFMxefh32ezb+GPMUbb+3H9nVd035djrX7NSZLS2E8sLr/avk5KulGbLudWFWGhoi8R3HmCRyi0lXdGvk5xRpKGb9KShq2pGXG/w85XvHhLHHoJDY0k6LMg0dCM/uofZYyNSf6sVkJiur+YO8Vk9jjYIAUKAECAEQkXAGA4yCKHzOY/Qee02cBA457UWcJBjD+L31M6MAk4Tnm42Ar0DncUxOMWzkoN0Xs0siNcHUbI4CHcKrOFACY9bQ7dv1qPb54OAvx8YZoXrc27dze1as7bI8FuQNTgu3WKkyuDU5WHatYgKcWsRDWO2yYES0lRkPfTFfkP64whaZFS8pWK3s+MfsZy3/TIWbdQc/2hyesUTT2E575QEdTTg9IqmkHDppqlCCBAChAAhsCYCxEHWhMcV/Uzb89JBsY7L9WswKDlIHb6EH5TGqqNi9z6BMCxZ1y/ach6Ltpwd2HCyOMha8Tuhcev3IOD/kXTPfgr4SxcussLFbGW7NkRbRGnX9bDr24q8Q/8PV9o1cWv/gS7zK5IDJaQJ1B364Aoh4SsGHM+rJRL3V2R09cJFbqi1Rc5h0a3nFnklfw9PzZ6EHgvSK+IDx0rZ7Gno7JE32Mjf5g5Fqz3/AGu67ZsrcNG/hAAhQAgQAgYgoJ2DTPWy5MibEhKRODQYdhugb3biaXyMmJTGFjVB3wxhw84Q5yACCYlWIPQCIUWai93/HEsvnJJGYTXuYrH2S6U2vyteDpJOQUDWEoit0GEYoQ9hiIwKt1TUpq3QFok27YcmywVFXcfvg1PzI9Dte0G6bCRWBa3DO6U2HRVn4AhLzY9JXVsNO91kEVKjzxWvXXsvT9zai4j+OjlQQpiD5Pw4O/kXuUlC1d4L2dZ77g9sJK4QEhcZTacyfRjyI+wMvoDlvHJIiFW/A/GPV2TGqmGLZ9qxex/3xD/GQPYOMv6g11mck68jxXOfNIQwUzwP/BHy3oO0qErYgm2qMVAbIUAIEAKEQAYB/RxknDl44Za+Rlj+izFm7rjwLaW+mQEaDDwjiX1cwUH23M4i0crCbzCAI50hRbgKMszEtn8igN6yL7nCQdZynvCzgubWXNDXPvEsehK4Ndft23dv9qBDblHatQmaOW6K58c83JqneD4Ebq3Zrodh19OeMCxkBIt1hWvXKlMhbq1CRW8bOVBCwH/69T9m00d+mLOnxlv/Lau/IKD0r2kH2iIP42ElaItwISSkLQtCZDTnTSp2OKNvQlukV9oTqd6KmOMbpDYdFVXMKH+IWjVtOoaz2mdyHGnoxn+2WucbYad4HkY6bidXOu5oFOm48cWMCiFACBAChIARCOjlIEmW6AEHkbRFoMGwA0LnVfVa8XGwIiaFlTFiMZaDIBwl1mlCKlz9KZ7X4iDiXAbKrVOw6+Neu+YC/pxba7ZrpbaIKbp9XGcoIUwTT/F8DYRSO4S28DdNSF2+ll1HiFuHbxR5eiQHSh6A/Ng98o/3Qdn945yX6vqtV3PuW+8OpcBXx5WI6+1a76XXdX5y/CM4At6TrsF/dMyIf1SkoUM6tSjSquksqZkBhBTJtqJj2eP4Q19kCx+/lhOKjl97kMVq9Tqacg6OdhAChAAhsMkQ0MlBbDhP0vjqvFq4IwAZNqy67atNOjaSSg2GBnCQW3UMR+qTr36VUzzzVLg8xbNmDgKRVOckfvuFkCIdYVgrHCSFcViwp1wlSG6dZdeIj3ftul6zXU98zJKn3pUgMZpbb72ARZv3S+MNu5KcOsGS+KAr2XUs/BTPK3ad6/6JW+dCRk87OVBCwH34r+5kzoQcK7raLZ79XV+VX4pX961zw+59Ej/C09JVoi3nQuDrHKkt7EpqdghxvS/L3WJJqptSTW4NvWb3PYv0iuNSv2akV5yCE+4wHvDCUtEolkDvQRq6kNMrTj//39j0a/8oYSRWWj75B6x6181iE20TAoQAIUAIaEKAOIgMvMtBTiJjnOgIQPhAnP+eai52PzjIgoeDmJAKdxEcpO9poCOE77rhKnejLdwUzyscJI35i+RyoITNrZsN0O2bg26fq5mTMWJjdPuU3Ho3NHMuyQxWw1Y6AbuGBpL4LGCcW/MUz5rsOhcMxK1zIaOnnRwoIeB+8v6bWXJmVtmTVV/HOj/Hf5T8LQ40T1Lzo9JFrYZuCCFdLrWFXUnbc9AWeQoPK09I0R7EP+qO68XqDr7KQyyWEekVGdIr/kReAs2/dnTdiJCi8NPQOaePsuG//LQIk7S95eDXWN1590ltVCEECAFCgBDQg4AxHKQeHGSbZg6SAAc58SQ4SDIzGXAEuPpmUc36ZqoUz3VI8dypO8UzOMjRf4HUh8jbEK7SfROLVG7J4BjSVj4OwocRFLe2+5+Hg8tAbq3UFjFFt0/BrWs6wGGvDclicnQDB5zLrcvErolb55hHTc3kQAkB+KE/v56lFpaUPcVaWlnHZx5S7iu10RmGyOi0V2S0DQ+r60q9pG/nZWmL8OW8XdczC9onOosyxXNVEwjCAZ3DcvvOTvGcPpPieZeesaUSbOCPcttSw7X3sYarvqZnbNQrIUAIEAKEgIRA6BxEKXRuMge5DhykVcIs7Epy7B2kwj0qdRsxhYMcfwSpcBcyY8OLpxuu0rAj0xbm1goH4dE7woIYcQjBcOs3wK1PiN24unhGcmv3I5sBun1j78KuP5Yw4063+E79q5Szw7AQKtd+OYs2dkvjDa2yYtc5OiRunQMYTc3kQAkB+IHv4OuBI3ztEPqMb9vJ2j/190LL+jZNEELKdQf28cfwIzwn7Y62XQxtkT1SW9iVJETkstMrGpLiWZmG7izEQ58fNkxSf4N/eGUu3sJqLzzImm75Pel4qhAChAAhQAjoQSBUDqIUOjdFWwQcBCtQMiWCF6aL8MKkmYNMHl/mIEI4SiRuCAfpO4yw5tMZyLDFw8B5OLjOwjkI10DJFcLjO7eegG7fqTLS7TNAM8dsbq1KXa4/DIu4tc6nSnF9kwOlOLxKOnrg21fBS652k1fuuYC13vv9kq7rPSk5NQAhJI/AlyG51W3Vj7AB+ejTixPQFnlWnh9jUjy/iBTPw9I0WyakV4SC+uB3sAJFbdKsev8VrOWuP5XGTRVCgBAgBAgBPQiExUFSs4PQYOCabsKPgzH6Zs/AETAhTYAFYfgYBOJ1ltTCGFI8P+/BrAIaDFxbRG9RpsKt34HVJ1doHVh6hYOkYGeC00kclJ/cOjUDu3YF/DN2rUPAX7y/lW21Zs5e2PVFK4do+dfl1tA9kZ8FXFvkHi3jETt1Bl8Atx4Rm5BYA3bdodeuGV+B8sfEraWJMbhCDpQQJmfg21dKzxCxy+rzbmAtB/9vsamk7fTS9LLAlygyygW+uCiaFS3pmn6d5Ay+jIfVkHQ5C0rlsW1wLOksPA1dD8KnvPGPJqShG30LKZ6PS+hEqluQ+vFGqU1HxQZmIz/5Omw6QybEcVTu2M9af/5HYhNtEwKEACFACGhCIBwOMnOGgwirbTkH2XsnXnJjmu58uVsHgrH8JVgsRuibpWxoMDyC31KPtsiu21gkXisON/RtZwQcZMrDQarAQbr1cxCeXXL0wa/n5CAcLN+4dQJ27YqMCnYNe47vuQO6ffHQ50XskDt1snX7oC2yXbe2CLg15shIbq1K8WwMt34Q3Po/57Rr4tai9evfJgdKCHMwgKWGuUrt5Z9kTdf/Tq7dBbdnCXzx+McdNyCut6XgawRxoDP6DhwBhsb19iCu1xHiejlmnQakVzQ6Dd1yZqfRx38/Z1haRds21vbpfw7CnOiahAAhQAgQAkUiEAoH8QqdY2UAd/hHqsIXOhfhMVrfzKstgoHzD0v8A5POok7xXI8Uz7fpHJbbt937BMKwZthaHIQf6Bu3Vtr1DbBrvdyahxMlEVYklkgldPt2HhCbtGxna4uAW/PU5brtWhmGZUp4YX67Jm6txZxzdkoOlJzQ+LPDQQjG8P9zb86LNdz4G6zh0l/Pub+QHdkio/gR7rgMS9J2FnJ6YMckJ3sQUvS2dP1IRR1+hA9KbToqxqZ4hr04Qy/CA51BJWJIekVn4DlkdlpOxz321DdZesmGywkfGc7EIaexnDaNhviWJrbtVx/P3ABtEQKEACFACGhBIBQO0uvVFoFORtul0DfbpeWeVzpVc5BacJDbVw7R9q+Sg2w9n0Wbz9I2Jt5xamYI4SqvYCtDQoxJhdv/HDLgLHOQ0Se/idRAdk6s/OHWj+Ij23ymD0AS7YBdN+7KtGnYSmJlUBIrhMRijGZO7/JHNnFsXC+H6+boLMupy18WzRqTWXkmXbHOkTHICGTsmri13rkopndyoBSDVgnHLiEeeOzHX8p5ZvPd/4nV7MvtYMl54pkdtkpktPlsFt16Xr5TA92fwo+cM3BEXorm5lY3IP7R1BTPWA1jH38CmInLeaNYKno7lopqTq84/BrU5/tXbWbimW8xZ15cvbO6C2tnq1jXbzwnNNAmIUAIEAKEgA4EAucgvRBjTExKt8adAFE4A3SWZQ7yPH5PU6vDMMcRcASOgLHVcfEN/sGLf/jSWfiKXPs4Pn6IKZ55uMrug4jC0s1B5OyS40/9Xyy5pM5uyTFcP7dWiIw26RfwTy1MgFuDXwl2zUzm1iZo5qhSl8OuK/Yewh9ehc4/OTgrwa1niFtrnYQSOycHSonAFXra/EcPsImHv5Hz8NZP/Rmr3Fbaj6Yz+BK0RU5K17bqoC3SqVdbJJ1cYnbPY9mOgF236o/rHc5OQxdB+sL4juslHHVUslI8YzlHbIcBaehOvY+loh9KkIw/+y2WnFM7UPh3qx2/9ap0PFUIAUKAECAEwkcgWA6i0DczmYO4+mZ14U+C0KMzLDsC+C6rxtQUzxb0NDgHaRXuIPzNpIKDnMIq2BRWweYq6+PWCgF/A+yaa4okeh6WtUWYhbCdW1iksj4XFKG0OyZz66M/AWaCrSC8MNZ1PSQOtoaCTa5OkuM/Y0lkLRMLcWsRDbO3yYES8PyceujfsMWP+XJIddn26w+xaAk/TkqBL2OEkB7CIgr5y0Cs82pm1XWqQQiplT+o+ANLLJEKU+IfH8dXvFlxaFgCfSGWQO+T2sKu8FUn3EPuxuqc6Zx/iRp/6v9kzpywtNUzsC5yoHgQoSohQAgQAuEjEBgHQXhuCmG6YuG6ECaIjGZrMCCsmTiIOFVZ2/yjV9qZk9pjSPFsNe6V2sKuuBxk5HV8kBNCiuLVENv83/FSnFld5B1X6dwadj3lsevKZjgpbvJ2EXqdC/hL3Boh07EOAzRzTNYWOQ67tkW7RuryVqQub9KcunyqD2FYb8CGBLuOVYNb/zfi1qH/ZZXWITlQSsOt4LNOH/4PbO5thGWoCh5+XV/GEtMil5AlTx9lybF3pCsarS1iQlwvT6/I09CJP8KGaIvYfYr0io17WKz9YmmOw66kl05Dff4ZdJt5wDOeVQEhZ0M/uBUkY1o5JJg1204OFCU21EgIEAKEQJgIBMNBjoGD/FS6DXM4yLIYozi4aAu0RVo0a4tMDzAHobDi76kxqXBVHMSAFM/ppUlkdkIqXE9IEU/xPPjn17s6bOI8r26Xyq1Vun1x6PYhhEl3sXufwke2KWkYPFQ/ipB9nWVZMwfaIkIxx64PI3X5aWFkeN0ywq6nljM7idyahxTtvwfc+jbi1tKMmVshB0rAczP9+h+z6SM/zNlL11eKc6CkuMgoQnfkH+FK6GTclbOPsHbYfRBCWjwldWc17IaH/BKpLexKeomnoXsS3XocAXuQXhEOAZ3FGUJ6RTh3xGLVdmLZ7NVik4btNEt8jGWPkh4Lz6pwAOrzW9jYP93Hlvo+Vo8LyyO7vpp71ZX6JGolBAgBQoAQ8BsB3znI/Chz+l/AqkTh9zRaAT2Bu/0eetHXs/sV2iIQ/Iy1X1r0tfw8Ib04DaHIp/F7KqyY4B8jOG+zon52VfS1lCmesVqYr9jRW8BBjj3IWFIOvVjhIMM/PMicSVl7Rxxv0dx6fgTaIrBroRitmVPfjcw2lwujDX8zbc8yLoYs2bWrLXIH7Doe/oCEHp1BcOs5D7c2wq6hfXz0XzxhWODWyJ4UqSRuLUyh8ZvkQAl4ijh5mYEDRaAabo88Y0nEwotmEQ6UtLMIgS+uLZLMjBo/wvGdEPiKaxb4Uuajb3fjZzOD1bOVUMQ/xpHiWXsaujGkoTttaBo6b3pFHjPazjM7dbuTOPbAr7Kl3veUExqxLLb9K/IXCeWB1EgIEAKEACEQKAK+cpBc+ma7IXSuW2TUI8bIQbVqDeEgH+OFSfwYgZhYHuqkO8WzM/ouwrDkDyGRKqTC7T4QqE0WcnG7x5MBByfFOi5f5SDDf3kI/GnCJ24N3T5wHq8jgKdtjiBcSGdxTkIzZ6ZPGoIpun12z4Mw60RmbBHosUBPUDe3dkbfgV0fzYwLW/xvLd59k9Smo6IMLxTsmri1jlkprU9yoJSGW8FniV9/eLpXCy+iYinGgZIlMoof4dj2a0ASOsRLhr6dHIPI6GlZZJR7UuM7bw59LN4O+Y9i2l6QmqP4GqU/DV0v4h/flMYViSO9Ioio7qJcKupJQ0cPed2zRP0TAoQAIZAfgUA5COhMbBs4SN22/AMJ8Ai1vlkj0hXfEmCvhV3a7gEHcWQOwrPt8Kw7Ooub4nnkbbxZZkZhDAc5ociA48kuyR0oDhwovKyfWz+ElS6ibh+4tauZo9muId7PBXTFEqkwxK6ztEV46vJLoNu3Wxxu6NvJSaR4HuXcOmPYRts10jvzNM8rhbj1ChLm/0sOlIDnSCQvqq4KdaDYvQqRUVcISa/AV5ILIUFVXnhWwWNfA0cA0oNpLsoUzwakoUsvjrt530U9FnPS0L3AUljKKhZLkYaOHvIiQrRNCBAChICZCPjGQZDeli/ZF0u09QKIMe4Xm0LfdjmIV4wRqwbiuxFGoLmoOch+iFheoHVkqflTCAU/ghUXwtpohFxU7LtH67h4586gIgNOfRccdVdKYxMdKNKOM5V1cWsTBPxnh5gz5FnJG61EqJwB4fonDkN/xqstsp/F2jTb9QLsGmF8MOyMSRgSXsjDw7K4dR3sulO2a+LWmakzfYscKAHPkB/kRSkyugUio20XBzz6tS/PBa04QZCWPbr56HksdMb7u/ZVgtnrDJqaXtFeXiqKdHSrJRLF0sKbzUxDV7UVY7thdagrG/SQX0GC/iUECAFCwFwEAuMgJgidL3KR0cMAX3xhgiNgDziIZ7Vv2DOkdAQoXpjCHlc6mQAHeVTWYOAcBKt1IhBM1VkcrMpNTfVKQ4gg1SwPufYWPxwodv+zLL0wLl3awgqKGFZS6CzLun1PYQhezZw7DdDtewm6fScleCyFg0s6IIRKGlo5PDxGkjjgdm1C6vLRtxBSdFxCIVfGMuLWEkxGV8iBEvD0rJe8OEOv4mE1II2SpwM2QuDL1RYRHQGIf0TsbKSyURpv2BVHlV7R2BTPWCqKLytW/fawYZL6SyrT0NWDVN0mHbdSoYf8ChL0LyFACBAC5iKwbg6iEmNE2HBs+7XabzpxDELnksgo12Dg2iJNWsfmjOCFaaqwF6awB5o45g1X4WFYV4ODdIY9FKm/5MTHCFd5V2qLVOTmIOt1oCi5de02NyxeGoSGSrZdcwH/m/TbtYpbG6Mt4knxDKeqG16o265Pw67HCrdr4tYa/uBK7JIcKCUCV+hp6yEv/I8uiT8+sUQqoC2y62axSct24hg8vclFoW88rDquWBX4EnaEupk8zdMr8hTPmS9S5qRXVKSh82iLhArWmc5UaehYnqWi9JDXMVPUJyFACBACxSGwLg4C/YUkdBjEYozIqELfbJmD7BCHG/q22hGAVLi7DoY+Fm+HPGNKOjEtNXP9hSh0GHSW1CyyS558CbQtw9vycZD1OFCSKgF/Y7RFIJ5rz0vTEeu4FNx6l9QWdmWZW3tSlxuT4tnQ1OU8DOskwrAEs47E1s6aStw6bMsuvT9yoJSOXUFnlkpeklMnIDL6htRHJIa43j0mxPWqBL4ghLT1XGm8YVdUKZ6ZIfGPxqZXTCAN3QksFRUzO/Flj7CzCLDLVeghnwsZaicECAFCwBwESuUgqekTzOH6ZkI4rtkc5GxwkPO0Au9ykCHZEZDvhSmsXjYMaQAAQABJREFUAdv9zyFc5ZTUnWVCimdnHiFFj4ODCOEqnINAR49jl6uU6kBJIkQoOQxuLYR4mWPXh7O0RaIG6Pal5pDieehFzJHgCXDD9fVr5ii5NQSauVCzzpJOzIFbP+nh1siaugcZy/CBMlchbp0LGfPayYES8JyUQl5SCxMQQnoOIxN+UMpM4CtgWLMur0zx7P4IG5BeET/WnIyKxZQ0dFlLRUGWY9uvQ2anVnG4Wdv0kM+ChBoIAUKAEDAOgZI4yDw4yICXg8QgMnqv9vtTijEqhM7DHijPtLPsCEhmuo7ghWn3QQNSPGenwrVq2lis67rMWDVtZWWXhGODj8uqXpuDlOJAWebWz+JOBUeAZYhdD0JbZM6jLVK7HXzsKk0zc6bbVIIljvEUz6JdcwcXt+tqrWNzVKnLjbFrT3gh59Zd1zOrZuuamBG3XhMeo3aSAyXg6SiavEBc1A2PSXu1RSDwVVkf8GjXvrwyrtcQbZHsuF7uCEBcL2JadRZ1esUGLOe9Veew3L5tZRq6i5GGbk/esdFDPi9EdAAhQAgQAtoR8I2DuGKMujnI29AW6ZEwzSXGKB0UQiXLEYB39FjXJ8BB2kPoPXcXag5iSCpcVXbJdnAQCBTnK0U7UOAASByF/ovIrRk0c3ZyAf+GfN0Fut9BOuksu65udnVPAu24gIsruXUnT13eUcDZwR1SdnZdYNZU4tbB2YzfVyYHit+Ieq5XLHmxex7B831BuAocAdugLQKVa51FLTJqiCNA9SPceiHSK+7TCRlLzQxgCfRr+MHOfO0wZqkoMhekF+U0dByvKHArpNBDvhCU6BhCgBAgBPQiUDwHeRgcRNQ3gyOgA0LnDZo5SJFijGGibqs4SNtF+BixN8xhZPWVmumHBgM4iFAisSqEESCbi+bCsyd5OYjVuJfF2i8qaGTFOlB4hhbZrsGtXbvWLeCvEs81RTMHqcsR5i0WY1KXjyIMS+LW5to1cWvRgjbONjlQAp7LYsgL16JIL01JI4o2Q+Brq26BLy6E9IrnYbW2EJJ0EwFWlGnoGnfhR/jSAHvNf2k3DV0f1xYRwrCwnLdiH4gL/tVZnCGkeIa4lViKzexEDhQRPdomBAgBQsBMBIriIL2GCp0jtMFBiINYzNEWeQbaIhPi0PDxZi8+RhTmCJBO9LGSXpw6k+JZ4CBuuApSPGPlhc7inER2SXxgEgtfLRzbfo3YtOZ2MQ4UW2XX0OyLNmvm1lxbZBDaImJIkSm6fX1I8bw4Ls2B1bgb3Fp3iuczqcsF5wnjdr2Xpy7XbNfKjGXImorV8IUW4taFIqX/OHKgBDwHhZIXu/95/AiPSqOxGrrhIb9cagu7wr3P2SKj+YWQwhinMg1dDdIrdpmZXjHWdQPiepvDgCZnH87oT5GP/pi0P1JCGjp6yEsQUoUQIAQIASMRKJyDHAEHGZPuwaoHB9mmmYPYEGNE9hhZg8EUDvIKPkYMypgZnOI5th0cpEY3B3kXHMSTXRJpp+PdByQc81UKdaA4A0dYat5j140QGW3XLDKKVV48jDrLro3QzFE4uGra3ZC0fPMS6H44TVzdPkgdrBY4TeLdSF1eqTd1uTJragl2Tdx6dWaN3yAHSsBTVAh5cUbfgchonzQSY0RGj0IIKWVnxoaHVWw74npr1hb4ypwQzFby1HtIr/iRdPGIMWnoEIZli2FYjEXbLsVy3l3SeMOuJOE4SY6+jW4jq11HKuqhx3Lbar3QDXrIF4oUHUcIEAKEgD4ECuIg+D1NTfZKg4xUb4UGww1Sm45KwstBChQ6D3qsylS4lVtcTY2g+853fft4dipcMzhIDzjITzF8Iaw5XuNm3Ml3T979hThQnDE4a5DRUiycu3IxT90lW1sEoXJYgaNdt6/sUpdfjvDCbq3TmZw8Drt+E2MQuHWJdk3cWutUFtU5OVCKgqv4g/ORl233fZ8lEdsrllJfasVr+LGdJTKK37xoGwS+mvILfPnRf65rLKdXRPyjUIzRFjlxWJGGbj+W814gjDb8zdT86PJSUSGkKBKrQCw0X85bfKGHfPGY0RmEACFACISNQH4Ocj84yFFpWOZ8jFA5AgzQFpnuhb4Zf2HKlEiJL0yZK/izZSs5yFngIOf700GJV0nNnwIHeR6+EyGkaB3hKvkcKNt+CXY94bVrg3X7tl6AkKL9JaLrz2n8Q65z8nXRD8CMsWtVGFbTObDrc/25+RKvkkJqcL7KSdRjYeuwa+LWJU6EhtPIgRIw6PnIS9sd/x4Pq2hmFNEqxPIZIPCl/BHWH9ebmh8/k14x8wWDRePATH8+enV6xS4sgb4yM78attLJJWb3PIoHvCcNHTIBReK1JY2IHvIlwUYnEQKEACEQKgJ5Ocih34YkhqDLFa3E7+ldoY5R1ZnaEVC40Lnqmn60pRZOg4M843lhMpiD1IGDdOrlIHwVcwIJEpg39MLlIHUlTUs+B0rbIXBrK8OtzRHPNVRbBEkFuKag5ODCc8GI1OWDLyDF84hkJ5YBdp1OJsCtYddebr0T3LqCuLU0YRuwQg6UgCe1KPLCHQG775DJTMDjU13eGYTI6JxHZLS2OCEk1XXX3YYvF4mjD+Jh5Yl/3HGARaoa13359VwgOfZO9lc8Q1I82z0PAbKlzO1hlWFsG09DV3qKZ3KgZOCkLUKAECAETEWgKA7Chc75BxzRoaLhxpwhhbZIHThI59UaRiN0yVPhHkMqXNERwFPhdiMVblWDcGD4m87IWwhXOS51bEqKZ2UGnG1XIbtkpzTeYir5HSiCYxB2Hd9zB75Vxovpwvdj1eK50O3brlm3LwVu3QNuLdo11xbZCW6N0HidxRmGXU977NqQ8MIsbg2g+DOKJ2UotRC3LhW58M8jB0rAmBdMXri2SNd1EBndGvCI1r68q8cy6Vn2CHEm/iDVXbJ/hPGwMiG9oqstwuN6MyVSYXAaOh+WitJDPjPXtEUIEAKEgKkIlB8HUYiMVjaDg9ykHeIsDhI5kwq3XnMqXKNTPD+JVLjT0txFW5ABp2V9GXAKd6Cc4dY1JnJrQzRzslI8849s3MGl2a6hc8j1DsVijMRB7xOw6xlxaLDp8/HfWVJbsRXi1sUipu94cqAEjH2h5CUKRfAolMF1luQkF/jiIqOZwpehxXfdnmnQtMVV+IP4EV7v7fBlhQ6WF0plHfGP0nXWWbH7n0NWhVPSVawtSEPXtv40dPSQl2ClCiFACBACRiJQOAeB0HnjLq33oOQgCDON7zaBg5ia4lnFQQwJw1JxkAZkwOlYfwacQh0ovC8LfeosSQg0L4uMZkZB2iIZLFRbqZkh6Ay9IoXKGROGpbJrnzI7EbdWWYOZbeRACXheCiEvrjdeu8joGSEkQR3dFG0RY1M8K9PQReFwOghtkeqALWvtywe9VJQe8mvjT3sJAUKAEDABgUI4iNV8LhzruoXOOQd5TobMQljzPv36Zna/oSmenQWkwn08W4MBDif+sqmzOMOvZ2WXtHxMhVuIAyW69TwW3apXPDe9OMHsPmiLiNzaELt2Bp5HiudRyUyshh1wcF0htYVdSTvzsOsnZLtGWCF3pEag0aSzOMOvwa77pSFYtUjxjOykfhTi1n6gGM41yIESMM75yEvHv/629vjHZSEkLjIqaotwR8AtcASUJvDlF6yqH+FIFdIrdutPr5gV/8iX8yKWlZMEnSU59j70WD6UhhDxOQyLHvISvFQhBAgBQsBIBPJykF/4Q4QP+0P+SwVgWej8sWwOsg4xxlLH4j1PxUGs2jb81l/nPTT0ug3dirSTEPoFB8FcWjVtQlv4m8nxD1hy/GdSx35ndsrnQOn417Brn15qpRspqnJGty9LWwSaORWaNXOQbSc10yfdjbGpy11ubYBdn/oZMjt9IGMGjRj+ruRXIW7tF5LBX4ccKAFjnI+8dH0Fad2sioBHsfblsx0BPP5xfUJIa/dY2N6kMv7RlDR0ivhHrCKKNulNQ5ecOsGS+PLD8IOzUoJI8UwP+RV06V9CgBAgBMxFoCw5CIMjYJ0io37MSHL8QzgC3pcuZbQGQytSPDftlcYbdiU1M4DQi1elBRdBcJB8DhQzuPXDcHAtClPA7fpKQ7VFDOHWPY8BszkBM4ZUxRfDrvdIbWFXklN9LDkCbi2UIOyauLUAsOGb5EAJeIJMJy9KbREseYw2nxUwMmtfPjU9uPwjLCx7NCb+Ecsx04vj0g1YjbtZrH392iLSRYuspBYmzuSjF9IVB5SGjh7yRU4OHU4IEAKEgAYEypKDtCD0ouVsDWhlunQdASfhCBBLtGo5S5HYpmHb7nsGHGRC6tlq3AMOcrHUFnYlvTh5JhWuwEF4Zqf9d2Molq/DMd2BoubWsOtmzXY9dxK6fS9Jc2EMtz5xmKWXTktj4w7BKByDOks6McXs3sMYQiozDM6t9yK8UPhYmdlZ+hZx69KxC/tMcqAEjLjJ5MUZOIL4xzEJAS625YfAl3TRIitc2do+8TS+YMg/wmakoUN6xZlB6Y6sWgPS0PEUz0hXzJJ2Zmw8DV33TSxSuSXT5tMWPeR9ApIuQwgQAoRAgAiYzEGUQucQso21XxogIvkvnU7MgoM8CQ7ifWFCimc4BHQWtb7ZNoSrXKNzWG7fiaM/wTumh4PsuBEpnpt8H5vJDhSlZk5DN7j15b7jUMwF04k5OAKgLSI6AiJROALu0L4S3jmp4NYmpC7HR9xluxYlDniKZ3DrCuLWxdjfRjuWHCgBz6ip5EUphOSjwNd6YM2K6+WOgB3X4UdYbxq65Ni70Bb5WLo17pyI77xZatNRUaZX5EtF67YHMhxyoAQCK12UECAECAFfETCWg2B1B1/lIRY/RUbF6xa7rXIExLquY1a1Xg7ijCpSPPuswVAsVivH28cfZWl7fqUK51Ma4SpXIANOd6bNxy1THSjO8BsQGT0h3alV0wptmuulNh2VLLvmoXIYl6U5xbOSW8PpFu8+oAMmqU+75xGEFC1IbdwRFpRdE7eWoDa6Qg6UgKfHRPKSDEEIqVRY7R78CEOBO1MiLIrQGP3pFY8j/vEtfH0SRhavgSr4oUyDpi27V5FesfkcqM+fG9iI6CEfGLR0YUKAECAEfEPASA4yATHGU8GKMZYKYJYjAD/60TakeN6iOxUuOMgoOIhQIqakeMaK4fTSpDAy6FYgBCuKUKygiokOFLVuXz1ERm8LCoaCr5tt15ijNmiLbNGsLTLJ7fpN3EeGXBtj1ypu3QRu3UrcumDD28AHkgMl4Mk1jbykpvuYM/KG+3Vg5dYjMTgC9hjgCFDGP+7Hw0pvesX04ukzaeiE5bzRCix75HG9eosyDV090tDhy0+QhRwoQaJL1yYECAFCwB8ETOMgyal+CJ2/Jr4vuSl343sQHqO52CoO0gwOslU3BxmHtsiR7JCiffdqRoxBd+0FhIKPSOOw6rpYrPNKqc3vimkOFB7azcNQpIKUuxV775KadFTsfmjmQCNPLNGmfeDWF4pNoW+nFpC6nNu1oHXITOHWgy+y1NywhEkYdk3cWoLc6Ao5UAKeHpPIS3oJQkh9h+UfYS7wtQ+OAITJ6CyO8mG1HT/CV+kcFrBKIv4R2iJSimeuLYI0dJUNWsemWioaqW5FuFPwS0XpIa916qlzQoAQIAQKQsAsDgKRUTgp5Bem+JmPEZkv0AXdmM8HcWHNFAQ2xcJDYLVzEKTATRx72MNBom7q1Ei8Thxu6NsOVuWmpo5L/Uaqml3tNakxgIpJDhSlbp8rMgrnCTRGdBZT7TqdTDAeHiNrHcKud94CbRHNdo2VXimsjBELlxCId98gNgWyTdw6EFgDuSg5UAKBNXNRk8hL4ui/QDvKI4QUkMBXBoH8W84wHlbTnodVdQscATfmPzngI7K0RXjMaAeP6+0KuOe1L8+XPyexDFoskYrw0tDRQ15EnrYJAUKAEDATAaM4yDGIjIYkdF7MbCgdAZXQYNh5oJjLBHJsFgdB1g+Xg9Rr5iDQg+PaFWKJxBGusjuccBWTHCjZ3Jpri9wIzZxmEZ7Qt53Rn8IRcEzqN2KIXSeO4cNkckkaW6zzauj2dUptYVe4zmGWXcOhE991MJShELcOBWZfOiEHii8w5r6IKeTFPg4hJFsQQgpY4Cs3IvKe5OljeFi9jcbM1yej4x+bz8Vy3nPkmwi5ZkKKZ3rIhzzp1B0hQAgQAiUgYAwH6YW+WULQNzOKg/xUQpZ/AQ/rhUnq2FNRpsJtAQdp0cxBENqwnAo3vTriSKwSoeDhhauY4kBRaosgi5R+3T7OrWHXmSlyV3aYYddP4Fkws2o7fCO69XykeD5Lagu7wlegOUMvA7MMaGGneCZuHfasl94fOVBKx66gM00gLzxsh+t4iIXnoo9uPU9sCn07NTeCh9VLeFiVibZII1I8t18WOk5ih2kb6RV7PekVEYbFNWwiiB0Nq9BDPiykqR9CgBAgBEpHwAgOohRjBAdpNYCDDL4gg2uIboUzcATaImPS2KwGcJAO3RxkYTkVrhTWjFDwvbcjFW6lNN4gKyY4UJSaOU1nwa7PD/LW816b2w3Xx5O8JxZC5fbdk/fcoA8wN3U5Ujy7qcuTGQgQfsUTRXDnYFiFuHVYSK+/H3KgrB/DNa+gm7wotUWw9DOGFLdaS2oJcb2P4vnufVgdxMOqWuvQnOE3EVLUK43B2DR0fDnv9vDT0NFDXjIPqhAChAAhYCQCRnIQhMDGOvRykJwaDLtuZXwVrM6iU98s330nssKwOAf5BFLhtuU71df9uh0ozuDL0MwZku7JqoVmzvarpLawK2lnidnHHwO3FsL1GXT7EFql3a6HXmOp2X4JEqu23bUfqVFDJSvFM+fWnbDr2nDtmri1hskvsUtyoJQIXKGn6SQvzggcAVO90lAj1RBC2nGD1KajkhXXy7VFOq9B/GOHjuGs9pkch7bIuD5tkdWBKDb4j2LanpP2RNsuQhq6vVJbGBV6yIeBMvVBCBAChMD6ECAOosYvS4PBfWECB6k1kINUNrrimuo7Ca/V7n0coRezUofRreAgzeFzEJ0OFGf0bWiL9Eg4hCWeK3WqqNg9D8F3ImiLuHYNbZHabYqjw2tKnnofun0fSh1GKmDXu26R2nRUsrk1Upe3wq6bwk/xTNxahwWU1ic5UErDreCzdJGX5ASEkE55BL6MietVxT9egB/h/QXjGsSBqjR0Ycc/5rov+8TTLL00Ke22tuxjsTY9aejoIS9NBVUIAUKAEDASAW0cRCnGCJHRXeGIjK41GXavgoMgpStP7aqzpKYHmDP8qjSESLwaqwfukNp0VNSpcPe6L5o6xqPLgZKEKGsS4qxiMUczR2HXJmiLzMKuT76GVTGCtogpdo2sYOklj8RBkz67Jm4t/mWZvU0OlIDnRwd5Sc0M4Uf4FelhxQyJ6zU3/hHaIieeAmZiSBGP6wVxQeyozsJFrVKzZi0VpYe8TougvgkBQoAQKAwBUzhI2CKjudCx+56DJtwpabfVuBv6ZpdIbWFX0ovTzO5/GhxE0ITjqXD33AkOEgt7OFJ/ztAr4CCDUhtf0RDbfo3UFmZFhwMlNQ/dvn5o5mRyHkD9tOJMGu4w7z67L6VdN+xCqNyl2QeH2JJeROpy6DDCsDO9QrevYj/XYxGBzOwOa0sdhtUJu746rCFk9UPcOgsSYxvIgRLw1IRNXtIOBL7c+EfhRxhCSBV7D4Uq8KWC1Rl6FT/CA9Iuvlw2tv1aqU1HJSsNHWJGYzugLYJ0yjqLMg0dUuPFd9ykc1iMHvJa4afOCQFCgBAoCIHQOUiCizE+ITsCXKHz2yF0Hp4YowocJQepAQfpMoCDqLRFum4CB2lS3UpobTylK0/tKhYTUuGG7UBxtUV6HgEMMreO74Zdx6pEeELfVtq1sdw64qYHj1RuCR0nsUNnBCmep46JTSxShdTl3QektrArxK3DRrz0/siBUjp2BZ0ZNnmxex5E/GMiM7YIHAFwUIQt8JUZwPJWcuw9/Ah/JDXzB2h8581Sm46K7U2viEFEjUhD14Olom9hNBkvvSlLRUf/5pMsMSqvilmZu4hlse1fQSo4KoQAIUAIEAJaEQibg2SJjHJ9s67wRUa9oBvNQY4jxbM9Lww57WbbsbCCQGdJTh4/w0Eyo4hU1CIM6/ZMg6atk/ffzJIzsh6LOJSuryALjVUhNq1rO3H0QfhOBG7N7Zpza4ig6ixcs49r94nFHG2RR2DXC+LQkMDiCmbV75Dawq4koQ2ZhEakWEyxa+LW4qyYvU0OlIDnJ0zyki2ElGbRtou1iIyKsKam+xBS9LrYBDVwQ+J6lfGP+xHXe4E03rArqflR5vD0ikLMKIsiDd1evuxRb3EGnmMTz/4BS4wNKwdCDhQlLNRICBAChEDoCITKQXrgCHBERwA+RrhijOGLjIpAJyfxwjTqeWFCtr/4HgO0RVQpnpuRChfaFTpLauEUwlXghBBXXJgSrtJ/hJ167D+y5KxsayJefjpQ1OK5+nX7klN9LDn8Gr6xCR/Z4jVu6l0RCx3bKt2+qDF2fQSQCCFFhtg1T10+8ezvE7fWYbAl9EkOlBJAK+aUsMiL3fcM4nonpKFZjXsR13uR1BZ2JbUwgXz0z8nLeQ3JR+8MvYSQopMSJFYd0it2Gphekaehg/ge95LrLM7J11lqpo9NvnY/PeR1TgT1TQgQAoRAAQiExkGUHyP2wYGiR+h8BZr04mloizwrcxBTPkYMvQgOIn+IMIGDsJTNEscQriKmwsVq5vjOW8BB6leg1fIv/xjHP8qNP/c/QnGgcNtJL4xL92qEZg6SCtgnnsG4hJAi167vRlvGoSINPKSKMwi7nvPYdT249TYDuTUkDpbtui4kdNTdrKQuJ26txsfEVnKgBDwrYZAXpcBXPYSQtukTQnJhhRha4hhf9ijko+c/wogxjCAtn86i1BapgrZIt15tEY5Jdho6BqcOXyraoRMyZHXCUtGJ5aWi9JDXOhXUOSFACBACBSEQCgcZxMeIOe/HCHCQTs0cBF+ZXQ6StDNYmcJBRpAKd6onMy5sRaC5Ft9xo9Smo5LFQfCxns+lBV6ps/BQFR6ywksYDhSltogRmjm57PomcGvd2iJvwq573Tla+V+kaiu49Q0rVW3/Zqcuh13jPcmqM8euiVtrM4+iOyYHStGQFXdC0OQlOfYOtEWOSoMyQQiJD8g+7ol/5PnoO3j8Y5c03rArHK/kqXekFXymaIuYulTUm16RHvJhWy31RwgQAoRA8Qjo4SCmfIx4GIsoFgXQznCQBs0cZOJjcJB3hXHBeRKvQ+jFQalNR8XufZKlE9NS19GWc1m05RypLeyKl4ME7UBxRt9lqUmPeG5FI1YC3xL2rWf1Z0PMlieMWC1wcEU7LmfRxu7VJh0bXGyYiw6Lha9YMjZ1uQkpnmcGkeKZpy5fDikibi1aj9nb5EAJeH6CJC/LAl9vr/7h8VuJmBL/qIrrNeFHeA7aIkOytkgkVoFYaL7sUW9RpniGiJz+NHRTWAJ9WFoCPfn69yEiK39xXEGPNFBWkKB/CQFCgBDQi0DwHIQLnWdKJA6RUWQm0V1sYznIMPTNXgI8yy9MLk4QO63YZwIHOYJwlTFp6qzGnQgFv0xqC7uSXppBKtynJA4SpANlWTPnDdxmJhTGGG594mmWRviOWLhzizu5dJbU7BAcAa9gjgS7Rtatir136RyW27cNzZxsuwa3RrIInSW9hNTlfU9Ldk3cWueMFNc3OVCKw6voo4MiL6n5MfwIQ+BLfFiZoi0y8AJLzY9IWHHVba6+rbPwL1H28ceBmZMZBk+v6Mb11mbaNGwpl4qakobOm14RpGLq3R+zpX45q9IKbORAWUGC/iUECAFCQC8CgXEQV2QU+mZiMUaM8XlwkFFxZO7KV+0aDC4HeQwcJJkZG9dgQFabSLwq06Zha0XfTOw6Ut2KkKLrxSYt21mZnbCaeeKF7zBnUnYkiIMrVUQ2Bb2TZd0+0RFgioC/ilsboC2SK3U5VlRpT/F88jXo9vWLpoGspO1uZjCpUUMly645t34P3LqPuLWG6Si6S3KgFA1ZcScEQl5MFvgaeQPxjyckkHgK5VjXdVKbjspyLHRC6JqnobtGv7YIljzypY9iMSbFsyK9YhRfoyYOf50t9b4nDnl1mxwoq1DQBiFACBACWhEIhoMkoC3yqOdjBHcEQGQUoSg6i3MSHGRG5iDGOAKyUuFCg6EL+mbQ1dBZRG2RlXFwnTr+cUl3yQpXwUtmtO0SNvbPv8mc03LiBHGsJTlQoNeXQOg5kzRzIsCBC/jrtmtoi8z0irfIIlXQzOk2QTPnQXyXFLg1dIbcFM/g/jqLMsUzNGLiO2/WOSy3bzuLWyMMq+1SNvEMcWvtk1PgAMiBUiBQpR4WBHmxexRxvduuMkDg60MIfL0vQWV0/CNSFUeb9kvjDbuiTPFscnrFJqRXbD2fjT3wq+RACdtYqD9CgBAgBIpEIBgO4nlhwkttrBMcxCAxxhWYIhUNcOzculLV9i9f/Zq2Z6X+o1v1p8J1tUVGXoUzLDO0SBwpnnffkWnQtGX3HUZ2ydNS75yzRcHdhv/ykO8OlGxuzUVGr9Sv2zfxETRz5A9WxnDr44/BrueEOUqzaPsl0GPZI7SFv7mc4vl1MQoLzl1T7BphWIvy6qmVFM/ErcO3lVJ7JAdKqcgVeJ7f5MXufQICXzNS70YIfPH4x6GXpXHxpXvxPXdKbToqdh/S0C1609DtQfzjxTqGs9pnzvSKXI8FS1R1lnxp6Oghr3N2qG9CgBAgBApDwH8OohAZNUKMkWsweDlIJTiIARoMfc+Ag8irJSy8YOrnINA3g5NCSoWLsGZXjwWrCHSWfBzEbweKuZo5J89o5mRmwxhurUhdbm3Zx2JtF2YGq2GLOyeW7VrwCvIUzyZw6wFkLJuX9QPF1OXErTUYTIldkgOlROAKPc1P8uIMqOJ6IfC1TbPAlw2BLwi2MaQtXi38R3gvnCdWbLVJxwZXt07NDEhd83TAfHmh3oI0dEd/okjxbEAaulGkV5zskeDxplekh7wED1UIAUKAEDASAT85iFLovNEAMcbELLNPPKngIFhFAW04ncUZfAUpngelIVh14CCdujkIQxgWOIgYroKVRPFucJCqJmm8YVccVYrnKjmzk58OFKXIaH03uPXlYd+61F/a1Rbhdi1q5kC3bw80cyDQqrM4Q7DrWa9dm5C6HHZ99F9kbs3teucBA1I8vwWJg+PStHnDsIhbS/AYXSEHSsDT4xd5cYZfZzzcQyyR6jYIfBmgLeI6AmxhaFjOC80Tq6ZVaAt/Mzn2HrRFZDEmY7RFvGno3BTPl2Op6I7wgRJ6LDQNHT3kBdBokxAgBAgBQxHwjYOoxBiN+BjBX5j4xwiBg/Df067rmVW9VeusKFPhwjkR7z6gdVy882wNBh56wVPh7tQ6tqQqxTP0R+K7Dkrj8suBouLW5uj2eRxcrl2DW0PcV2dxRn+Kj2zHpCFwp5sZdo0Uz7aQ4hmjjHVcwawG3dz6KFI8vyNjprBr4tYSREZXyIES8PT4QV6UAl+m5KPPin/kQkiIf9yyO2Bk1758EkK2STidxFCYSKwGnvtDa58Ywl7lUtHmc1l06zkh9J67i9Qs0iuefBFfOzLH5ErxTA/5DEa0RQgQAoSAqQj4wkFO/YwlJz6QbjFiDAd5FC9M89LYom0Xg4Po1WBITZ9g/OVcFGEwJxXuYaTC9WqLLOubSUCGXOHZGx1kcZRKjsxOfjhQ1NzaEM2cXmjmYGVVpsDB1Qpu3aTXrpNYQZEcRupyIcrcGLtWpS5vRornredmYNSwlZoDtx56CdxaINc5UpcTt9YwQSV2SQ6UEoEr9LT1khcefuLgy4/4VhsxRWRUIfBlNe5FXO9FhcITyHHL2iJIrygue0QoUcW+ewPpr5iLcnJgZIpniIAth2F5UjzvQRq6aFXWLdJDPgsSaiAECAFCwDgE1stB3I8Ro29K5N+YjxEKbZEVkVGdE8GdEzbGJr0wcQ2GvffoHJbbt1JbpA6pcDuv1Dq2tJvi+XFgJnIQZHbajXAV6Ol5y3odKK547rCHW5siMnrisMLBtQ8OFL3aIqn5MeixPC/bNULkKvYZYNemcutcqctz2DVxa+9furl1cqAEPDfrIS+uEFI//xH2aIvsh8go0y3w9TLieock9Ky67a4Sv9QYdgVOkwSyFElxvRH8CPO4XqTl01mcYaRXxFcpsfAwJ77UWHfJSvGc5kugP4EUz+o0dPSQ1z1j1D8hQAgQAvkRWBcHWTojMipyENcRwDmI8Ak6/zB8P8IZhBjj3EnpulY9OAgyEmotPBXuMXAQyRFgSCpchY6eV4NBF3aJYw+Bty0J3YODbL8GHESd4nk9DpT00jQcXE/L3Jp/ZONJD3Tr9g2aya3T0MqxeYpn2PdqgdBwfOet+lM8jyDF81Tv6rD4hjl2/SDsWkjxjLG5KZ5z2DVxa2kaja6QAyXg6VkPeckS+OK51btuRPyj+QJfAcOa8/JZaejA8WLtBsQ/jqtSPJu6VBRhWFsvZNHmfTlxpod8TmhoByFACBACxiCwLg7iFWPkL0zux4gtWu9PrcEgi4zqGmDio/+JroWl+qhFwUGijbo1GD6GBsO7EizGpMLNClcBZlhtEW3KzUHW40DJFhnldn2jfvHc0XegLXJUniNTtEXwYZKvEsoUOLjgrLTqOzNNGrYK1e3TMDSs6vaGYXFuvXbqcuLWOmaqtD7JgVIabgWfVSp54Z7ebCEkiIw2dBfcdxAHJiEclcRDXiQIkXitu8wyiP6KuaZSW6QF2iItmrVFZlTpFU1J8ZydXjHatBfkZe0wLHrIF2OZdCwhQAgQAnoQKJmD9EBbxJnPDBrx+7FtVxogxtgDR8DbmXFhKxKHyOhuWWRUOiCkin3iKYReTEm9RU3gIFzfjGswiI6dHNoi0uBDqNh9zyLF87jUk9W4Gx++LpHavJVSHShZ3Nr9yHYp7HqXt4tQ68nTsGtkQBQXdkUqwK133R7qOFSd2b1PQI9lRtplhl0jxTNPXS5qiyA7UcVeE1KXq+w6f+py4taSmRldIQdKwNNTCnmxVfGPzRD42np+wKNd+/KpOQh8DXGR0czXlVwio2tfyf+9yhTPcDbFOi73v7Mirpi2kV6x90lgJoZhRfGAvwNLRSuKuJL/hyrT0NVuc5fN5uuNHvL5EKL9hAAhQAjoR6A0DvI0HAGT0uCjLWfjY8R5UlvYldTCKYiMHpE4CDNFW0QRHsMzf/AMIDpLOqe+mQmpcF9FKtwBCR6rQA5SigNF+ZHNBG49z+0aun1iMUS3z+57Dg6uU+LI4GzaCbu+TGoLu7Js1094uDVP8azW7QtzfM5J2DX0K8VSaOpy4tYiamZvkwMl4PkplryYK/C1hPjHx/Cw8sQ/7roNX39qA0Zx7cs7I9AWQdYdsZijLeJJQ4fPC2akeH4XKZ4/FiGDRgzS0O08ILXlqtBDPhcy1E4IEAKEgDkI+MJB6uEI2KbZEQB9DLvHy0Ggb+ZqMGjmIAp9swhSzcZ3XK/dELJCwTGiWCf0zeratY4tOfYeOMhH0hgilVswnzdLbbkqxTpQlAL+BojnslQCmjnQFhGTHpiiLYIsUqnpPmkKrJp2Vx9PatRQsXsexOtIQujZYG5dRBgWcWthSg3fJAdKwBNUDHlxVEJI1S34Eb4x4FHmv7xS4KsTAl91aoGv/Ff054jkqQ+QXvFn0sWMSa/oXQKNURqR4nkSaeh4VgVhrWixaejoIS+ZHFUIAUKAEDASgeI4yFv4GHFcug9TxBiz9M34x4jOq8FBtknjDbuiToXbiNCLW8IeSlZ/Sg2GtouQ4nlv1rFhNiyneH5D6rLY7JLFOFCckTKzaxO0RcbBrccN5da9jyGkaE6yHxNSlycne89w68zQiFtnsNhoW+RACXhGCyUvyfGP8LB6TxpNpAJxvbsMiOtVxT+2Qgipab803rArKaW2SCWW8BkQ/4jsSemFCQkSLohmZBq6EpZAkwNFmlqqEAKEACFgJAIFcxCsSDRXZPRJvDBNS/jykOYowi90ltT0IHNGXpVCinjK3TjP5qK5KEPBC9A3C3rYKfAip/9ZdJMJBeeZbyr23VtU14U6UJKnj8KuuW5fphijmYPw7iy7RpgcD5fTWZZTPMOuhVKsg0s41ddN+wS49ZLMrS04BGNwDOos6cUJZnO7FiQOSgkvJG6tcxaL65scKMXhVfTRhZCX1Pw4tEUghCT8oBjzI9x/BI6AMem+rcZdEPi6VGoLu8IFrXg8K3KqZbqO4EfY1RaJZ9o0bCnTK5qQ4jlln1kqKoZh8SXQNyMNXX1RSNFDvii46GBCgBAgBLQgUBAHmQMHGZbFGE3RNytVZDRosJf1zcBBxNAL/jFiN9c3iwXd/ZrXd4ZK1xZZ88Lr3QmsEkeRrtgbCt4NDlLZUNTVC3GguM4apLsWuTUzRGSUa56koH0iFiO49eIkHAHPADKBW7sOrrsxVEscbujbat2+Tuj2XR36WKQOuV3zNNxSimekLu9GiudK4tYSVhuoQg6UgCczH3nZ/sUnGPeoSj/CEbzU7jnEInjQ6ywqIaRIdTtCij6hc1hu34mj0BaBQ0AsMYQ6WQh50ln4lw7+xUMsxWiLiOf5va1cAl3iUlFyoPg9O3Q9QoAQIAT8RyAvB/nNx/DCBAFL0RGAjxE8qw3/kKOzqDiIVdPm6ojpHBfvOzsVLkKKXA7SrHVojioVbhH6ZkEOXslBILJrNXQV3W0+B8r2LzzO7D6PI4Bz690Qz9Vt1wZri2Rp5nA9Fth1BDoeOgtfHZel21eEtkiQY08ce5ixpJjiGTpDPGNZffF2Tdw6yJny99rkQPEXz6yr5SMvbXf/LhwBycx5kTNCSBAg01mS4+8jpOhDaQjFCHxJJ/pc4WK2XIF7tWAlaJTH9WJ5qs6SnDyThk4YhDkpnlVLRUtP8UwPeWGSaZMQIAQIAUMRKJqDcG2R7dcxq1Y3B/kZOMgHEqrGchCMMopVuVGsztVZ1BykBk6DQzqH5fatzoBzDrJLnlvS2PI5ULK4tWvX18Ku20vqz6+Tkqdg1xOG2rVSt+8yaObs9Ov2S7qO0q6NkTggbl3SpG6Ak8iBEvAk5iUvh35bWu7pOgK0C3z1YTnv6xIykXg1foSxNFVzsU9kp1e0tuxD/OOFWkeWmh9lzuAL+IonxPVGKxBSxJc96i22KgyrDimeO0tP8UwOFL1zSr0TAoQAIVAIAkVxkAi+nOJjhNWo92MEz/zhnHwNOucY0JlijAZD32GkdT29Miz332jTWdA3O19qC7uSmhtDKDjnIELoRQn6ZkGM2+5/HqHgo9KlrXVmdsrrQPFy69YL8ZFtnzSGsCupmX5wa9i1QBONCddXcGsj7NpN8XwEUyWAZohdO8rU5eDWHcStw/7b0tEfOVACRr0Y8sJJS6xdtxDS6TNCSMKPsIW4Xu4IEMhMwLApL6/WFkH8I5T4dZa0g/SKUAWX4x+5tsgt0Bap0zk0l4TyH22x+LEEmhwoIqK0TQgQAoSAmQgUxUEM+BiRXppCWPNhgClyEC4yaoAGw+DLLDU3JE20VbsdK3auktpCr0B7wQ0jkLRFwEGQCYgLpuoszghS4U71SUPwI8VzMQ4Uq2EPXmovlsYQdiWt0hbhun37TbDrF2HXwxIklgEpntPJBFKXPwLfibhKHyFFbupyzXYNB6+XW/th18StJTM0ukIOlICnp1DyYtV0IK732oBHk+fy+HKROPagxxHAhZAOQAhpS56Tg93tjL7NUgiREUukqhlju0ls0rKdFdfLw7C4tkhdp5bxrHSqTvHcAFJ168ohJf9LD/mSoaMTCQFCgBAIDYGCOUjtNjgCrgltXMqOsIIz0QMOkhT0zQzRYHCGwUGmTeUgD0GXdUmCNLYNKZ7rNXMQZSpcfzhIoQ4UM7g17Nrl1l67vgnaIpq5tSrFM7QEue6J7pI4yt9HEplh8BVy264xNHW5P3ZN3Doz3aZvkQMl4BkqhLxEalpdJ0XAQ8l7ee7pTTsLmeOwYi62jQt87ci0adhy4x/H3pZW8Bmd4tmI9Ip8qSgPw8ose/RzqSg95DX8IVCXhAAhQAgUiUBZcZDj4CC2wEFwrzFXZFQzB1GlwjVGg+EJpMKdkawi2lK6vpl0oXVUUjNDWAHLs0tmip8cpBAHijHcuvdRzNF8Bgjwsmj75dDM2Sm0hb+pTPGMjIzxXbeFPxhPj3avwq5bL0AY1n7PkeFWU7NIXT70itSpn3ZN3FqC1ugKOVACnp585KX93v+MjDt3BTyK/Jf3W+Arf4+FHbGsLfIi/ACZ5bzmpFd8DrHQp6QbsbbsRgz5JVJb2JX00jSWQD+NbjOYQXZ+eQk0vub5Uegh7weKdA1CgBAgBIJFID8H+To4CA8j0FvUHORsiIyep3VgqbkR6JuBgwgfI5gh+mbOwBGkwh2T8LHqd+LD12VSW9gVZYpnntlpzx3ILhn3ZTj5HCjt9xpi1yrNnGZo5uBDm86SmjsJR4A3dXkV5uhOncNy++ZZwdILHm7dsAvO1Eu1ji29NANu/STGkPkwybgei4+py4lba53iojonB0pRcBV/cD7y0vWV5yEiW1H8hX08Qy2EtMP98uNjN8VfKrWEZY+P4lklxj/yuF7kVo/XFn89H89whl5lqdkB6YpWLcKwtmsOw8KDfXnZo7BUlKvP+5xekR7y0tRThRAgBAgBIxEoDw7yAhwBIxJ+ZmgwLEKDAfpmEgfhKZ5vwzeJamm8YVeck9AWmZG1RSysZo51XR/2ULL6y0qFyzkIxmXVbM06ttSGfA4UM7i1oXaNVV527+Meuwa33nMIDq7KUqfEl/PUdm1I6vJjP1GEF16PMKwWX+6dX4S4tW9QBn4hcqAEDLHp5MUZeRMCX70SCn4IIUkXLLFi93jjevEjDMFYq25biVf05zRlGrqKRlewzZ8eSr+KrVwCfRnCsPxdKkoP+dLniM4kBAgBQiAsBIznIKPgIJO9EhyR6q3QYLhBatNRcXUrIGQpFq4TY0EvRmdJjitSPBvDQR5DGNacBE+07WKkwt0jta23YroDxTFZW+TYQ3AELElTENv+Cf0pnlWaOdBfjO+8WRqrjop9HGFYthiGhdTlbUhdvmWXr8Mhbu0rnIFejBwogcLLmMnkJTn+EUuOvychEDEm/vFxxIzOSmOLbkX8Y7Pm+EeeXtGb4hlfovjSVN1FuQQa8aJRxI36Xegh7zeidD1CgBAgBPxHwGgOcvpjlhx7V7ppcziISoPBgFS40wPLqXCFMIJIHByEhxFoLjx7UnrJm+I5GA5isgMlabRdw8GVCN7BVawpLqd4hm4fhKRXip/aIivXLOVftV0Hk7qcuHUpM6TnHHKgBIy7qeQlNQuBLx7/KJRIrBKOAAP0WFTxj42If2zXHf84eSa9YuYBzyyuLXIPUIQ8uMbCY7TDTENHD3mNk01dEwKEACFQIAJGc5CTEGMUXphM0Rax+5+FBsO4hHC0aS8+RlwktYVdSS8ixXP/YWAm6Ju5GgzQrbCiYQ9H6s8ZfAkc5KTUZtUhxXPnVVKbXxVTHSip2TPaIqKDK2aItsiJZ+DgmpCmwGpEiud2E1I8Pwu7FsL1ObfeC20mn3T7pJsuohK2XRO3LmJyNB9KDpSAJ8BE8sKXV3KFa+lH2BX4ul1//KPJ2iI8DZ2YXpHxfPRIQ6c7xbNqqShiMuPdwaWho4d8wA8OujwhQAgQAj4gYCQHQbY/+zjXFhEcASZzkJp2aHh8wofZWN8lsrVFkKVox03Mqm5e34XXebYz+lOEYR2TrhKpagYHuUlq87NiogOFZ7G0jxuqLYLMMTyDjFisuk43LF5sC387DZ0hHq4vhMrx1OWwHe3cehSpyyd7JEgilbBr8P6gCnHroJD1/7rkQPEfU+mKJpKX7LheLvD1/7d3JlCSXeV9v7X0MtM9PT1L9+ybZkASINAO2vcFLMAkeDd2cvBCjCEc2+ckh5DYCTlxEufYGBuIsQ1ewcYx+GAkgQAtSEJCkoWQQEJi9p6tZ197erq2/G/N9NS7Va+6qmt5987od8+Befu79XtXVf/+3v3+33Uy+Bpx+p70SmH/i6Zw8GXntvYLNIz8x6ryippwkhm1ZehWO/1NeiV+quig/Fju6GpX+JLvKl4uDgEIQKAjBELUILnN99b8wZRdfo08GEY78plbvUhh3w9M4dArzumpXmmQtQF4MGyWB0M+4sGgibCZJZfLg2GN09+kVwr6A7OgPzSjLZVAiecQAyhTG2UyWowY+Kekra23yFzf4/oFjeuN0Uek4MQCaeubnW0+VnKbpa0VeIq27NLO+/ZFr9/Msq9xjbZu5umEcQwBlC4/h9DEi33rU2vwdal+hNd1mcTMly/GeYuEnNe7MITyintUXvFJgZWSmm5yUO9d3/00LL7kp4HzLwQgAIFwCYSvQUoKBEiDKJXAZysc2WYK4886XQjHW+QhpV4cdvqWWdAdDwbnJg1WihN7pUG+LQkS1SC9p1MvGpzb7u7QAii5rTHeIovlmbNwQ7sfta3zy+Pa+vYpmDPdUj1z5Zlz1/Sqt39z22LGdRDaWqXLd2hcV5ApWpnMuEZbexuOs74xAZRZI5vdCSGJl9x25T9OuvmPmQUblNd7yew+VIePLk0eUl6vzX+MTOcte4u8vcN3mv3l7JdoTXnFeStNdtlVs79YB88o1StDt05pWMq37XbjS77bhLk+BCAAgfYJhKVBHpYGcU1G08PrTXbUr7dI8eRB/cH0qKtBrLfIeutv5rfF+puFoEFUxeV0ied8BZBNvVirEs89A5VtXVoKKYAS55kTgrdI8eR+jevHnXGdyvbK61DeIp5b7LgeWmWyS6/02rNSXqXLy+mFET+WlEo8o629PpcQb04ApctPJRTxkt/5HRl87XI+bTcNvpwbzbRSLJopTec1xaofYeX1pvqHZzqz6/vyehtV1FupaAulvGLNFGh1MskydARQoqOCZQhAAAJhEghHg8iD4USAHgzFgjTIfVUaRH8wlTXIfK8PNR/nwTBH/marbvTaL3vz074V0VK4Nl3lzYmVeA4lgGKLMdiiDNEWhLeIDFmnNt/v+vbZANeaW42tdOWz5feodPnRrU4XwtHW1o8lMq5tGtby5MY12toZFkGvEEDp8uMJQbzk974gI6RQ8x/v15fVZOQp6MuqnP/o2Vtk/8vyY3kx0i/N5usd0tuV25xtPlZyW2NKPOsNXkZv8pJqfMknRZr7QAACEGidQAgapLAvxoOhXx4Mq29u/YN16Mzclip/M13XvgVP6224z2Y9Kyy3aEvCWyR6v3rL1ii1lDvu7M4sfoPSVV7jbOvmSggBFFuC2/rQRVso3iJTm2zwpEpbL7vapOctj3Y38eXCwVdMYf8PnPsGo63jxrVm6NuZ+kk1tHVSpNu/DwGU9hnOeAXf4iXWCEnTK+10NN8tt/VB1aM/4nQjs/Aik1l8sbMt6ZX4Es+BlKGLScPyMVWUL/mkRyX3gwAEIDB7At41yJEt8hZ5zul4OB4M0iCnqjTIootNZtFFTn+TXimeiPE3S8uDYYP/1Ivc9keVhrXfQZKev06lcC91tnV7xXcApXBkq8b1d52PmeqVt8jaALxFVGWzNHXM6Vtm8esU4LrQ2Zb0SvGEvEV2yVskYpkTSkpRbrtKl08ecJCkh1XieTTZEs9oa+cRBL1CAKXLj8eneClO7JPBl81/jHxbJWSE1Ahrbvvj+rLa6xyWnqf8x2We8x/LJZ6/KWZV+Y8X3K0Sz71Of5NeyceVoZu7VBWUrkm6K4Yv+cSRc0MIQAACsybgVYPEeDAkZcbYCFRuTBrkZIAapFwK9wHHt0LiQ34s+sM83dfoY3V1f37PM0q9GHPukfZU4tlnAKXsLTL2mDhEtHVanjkb/HvmxI7roTXlmd3Og0t4xRavyCmw43gdWm+RC+7S8PY8rnc/bYrHdjhE0oPLlLrzFmdbEito6yQod+YeBFA6w7HuVXyJl1JhSjmqX9OXVdRbRF9Wa25TKkr3Db7qAtGO+PzHEeX1Xj/TaYnsm9qkMnSF6jJ0AZR4jiuv6LHEM1/yiQxHbgIBCECgLQK+NIgt5zq16atVGiQ5k9GZoOU1c6CoGQTRlpoTigaRJ5z029kWSinc/S8qrfnls92yCymPGsRbAEV+feX0GEdb23Etbd0z6PBJeiWvaju2omW0peaMSltfF93kZTlYbR07rv2VeEZbexmeLd2UAEpL2Jo/yZd4qTX4Ul6vNUIa9Jz/qHxRmzcabdbQyjq3+265LV9TXu+E042Mpu9lNI3PZysc1hTovdVToP2mYfEl73NEcG8IQAACzRHwpUGmNt2nQEDEjFHdDUKDHPihKRx4yYEXjAdDnL/ZiPzNFiTnb+aAObNiZ53kdz/jlHVNZedo9sDdcYcnss1XACUnY1bHt88GuJZcJc+cFYl87no3KezXuD54joxrlQfOLPY/rmNLl3se12jreiM8vO0EULr8THyIFztNrib/cdHrldf72i5/2pkvXzyxWylFT7oHaepe7/q3uds8rMWVeA6jvGJtGToTQHlFvuQ9DFJuCQEIQGCWBPxokG9Kgxx1epoJwVvk2C55MEiD6I/esw0NchZF3IItO23L9DqpF1aD2FK4UY5xJ3dxm48ASry2DsAz5+gOzexWgCuSUuQ7wDX96MPV1gdMfuxRhxnaevqp8W8zBAigNEOpjWOSFi+xBl/Dyn8cvbyNT9H+qaWp48p/lLeIKVYuVs5/fKvyH3sq2zwsBVuGLnaqqE3DusV7Gbq9//BuM7XLLfE8/ehS6bRZ8YHvTK/yLwQgAAEIeCKQtAbJ73jUFCf2O582PbRWHgyXOduSXrFVY6xxvetvltULnLfKWySbdHec+8X6mw3Ig2FF8h4MTsdKRaWrKKVIWuRss6VwV99UTt85u83Dwu7P3moKR12j1Gg3Vn5A/n8y3u1UC9ZbZPKIAlwPuwGuVCjjWt4ix6u8RUIZ1xs1rqvTsFZLW/cNdWrItHQdtHVL2LycRACly9iTFC92imXxWLXB16hMRv3nP+Y236vvqkher9G0R+VlppV37LPFlngOpbxi9VRRy2yZporO8zxVVGXoDnz1N83Uvj2xj44ASiwWNkIAAhBInECiGiTGgyE9d0QaJFR/s2tNeu5o4s8kesOQS+HWlHgup6tc4b/EszTI3i/9sikcd1Ouo1w7GUCJM88N11skrf/ebpC2XhjFkfhyyKXL40o8Z5ZcYTLzfZcu/5E5cP9voK0TH62t3ZAASmvcmj4rKfFS2P+S8h9/6PQr1Ttf3iK3Ott8rOTi8npHL5W3yDof3Tl7z8KhzfJj+d7ZdbuQCqbEc6BToI9rCvTup8zhp/+cL3ln5LACAQhAIDwCiWmQWG+RQDTIlgfkb3bCeTj4mzk4alZy2x5SiefDzvbMggtNZuR1zrakV4pWg6gi4YFH/yCRAErQ3iI1vn0lzfSyAa41ST8W536Fw9LWe6u0tYpX9Ky90znOx4qdhVaaCrB0Odrax3Bo654EUNrC1/jkJMSLLb9VNvhy8h/7ZfClqameW277wypXfMjpRWbBa/Qj/AZnW9IrcSWeQ6lHn9/xmKZA73OQ2B/E7FLfaVhnytApDevwM58hgOI8IVYgAAEIhEcgEQ0S68EQrgZJD79Gac2eNUi5xPNjSiOIlMINwN/MjuD8jselQapKPA+tLv9x7nOER0vhHnj0Y10PoBSP7ZS2flofufKMgvEWiQtwLVSAa7HnANeJfQpwfVvIIun6gZR4jh3X81ZpZveVPod1ObhbtjgoFdDWXp/E7G5OAGV2vGZ9dLfFS/HkIf3YVbAoSQcAADbmSURBVBl8KZ+3d701+ErPur+dPMEaxlrj2GhLD66QE//V0U2JL9ct8VwuQzeQeH+iN4wvQxdKecVKiWcCKNGnxjIEIACBMAl0W4OUTh01ue0PuX8wheLBEKdBlAKbXeZbg+RMbnN1iWf5m2nGsP9SuM+qFK7rb5aeu7icFuJ7hJf9WM6UeO52AMWaINtZOE4goDyuVfQgnfGKIl5br5S2vsprv2K1tTlT4rl30GvfQtbWUYsDtLXXYTKrmxNAmRWu2R/cbfFSW1vd5j/eqPzHBbPvbAfPyO993hQPb3KumArEW6SmvKJeLmRXBFDiOegp0F9XlPz42efJl/xZFCxAAAIQCJZA1zXIxn92TUb1B1PZg2GuXw+G/Lg0yJFqDbKwbIDq+2HVaBB1KIwSzy+rxPOLDp5gSjxvcTVItwMoNdpaHnQ9q280qX7P41qpMUWlyESb7ZM19vXdako8q0OM65mfSq4qvRBtPTOvkPYSQOny0+imeLFvMEr5k84nOJ3/uNrZlvRKQYGTwr7no7MeVTVmUG9X7ki6KzX3iy1Dt1glnhd6LvFsp0CPa6qogjnTLdUzx/Ssu3t61du/ubFHTOnkQef+h7/3OVXh2ar+qsMylktpb7nrWkhp5hNVeBxcrEAAAhDwQiBZDRKIB8MReTCMV3swhKJBAvU302xhO7Mh2lLZQNKwYjTIgcf/qGtVeHI13iLGZJZcLpPRNVE8iS8XDm40hf0vOPcNR1vHjOuFKvG8+CKnv0mvnE7Desq5bTDaeru09WSVtn7ub83Ubs0AQ1s7zyzEFQIoXX4q3RIvsQZfi5T/uMhz/qO8O/I7lP8YLVccSF5vTjXfS8o7jrb0sMorjl4W3ZT4cunUMU2BtuUVozmjSsOyHja+yyvufEppWDsdJunB5ebQ058yp7Z8vxw8ie4sFUsqS50xKz9IGeMoF5YhAAEI+CCQqAYJwYPhpNUgKmHreIv0nk5r9vEAIveM1SDzpUGWeNYgMtjNbfmGehrRIKmMmOkFTgdLAUdQNL1Yr8Tz/m/+tskfcv/4jF601So8sdo6BN++E3vOBLgib9kyfXpGSiny3HLbpa0nq7R1CL595dLl33S1dXlc2zSsMEuXH3rm/6KtPY/nZm9PAKVZUi0ed+SJ/2mOPfWPdc9u5UveBiiKE+PONdMDyutd4Tuv95Tyeh/Ql1W+0jd9WfWsu92ksnMr2zwshVzieapmCrQt8WzTsPxOFS3s/74qO/3IeVrTaVh7Pv8Ok9/r+ttMH2h166oPWeM1GgQgAAEI+CTQHQ3yhDTIHudjpefJg2GZbw+GyTMapFDpW1mD3CENMqeyzcNS2BpE/mbFXISKNIhKT1vvE58tv/f7Slep0iB9C0zPmpvNrj+7US933BnY0b62pq0DHdd5jWulMNVq6zs1rvujHzvxZWuyawtZRJstDZ5deV10k5flqGfO6Q5Yba1xPcfvuI4tXX7G4gBt7WWotHRTAigtYWv+pANf/XVz8uX6b+NXfkAu7Om+pi+YH39Oeb1bnONTcxaZHv3B7bvlNt+n7/dTlW4otaOc/ziwrLLNw1Jsiee+Yf0I3+KhN+4ta6aKKviQWXqZpoqudQ9MeK1weKvK0H3XuWuqZ66CYXeVt+2WeCnUEy+KoKz80DPOuaxAAAIQgEDyBBLRIP3SIPKH8N1qvUXOaJBBzxokaH+zr8nfbMJ5dCGUeLZGtvk9zzr9sga7PetOp4Lv+MRbVC4oEihzjjRmttrapp0XDm1yrpIKZFzXaGslTWdXXGPSA0uc/ia9Ujj4Q6UUveTcNtUbSuny2nFtK1l6L/F8ZJvSC/9FzGzi++mWipR4RltPUwn/XwIoXX5GRx//H+boM1+qe5elv/gFkx1eV3d/dEfh0I/kLaK0iUhL9c6Tt8jtkS1+FoP1Fjm2XT/C+rKKzHoMuwzda5Uz+no/D/HMXYsT+zVV1E6BjkznrUrD2vOZW0z+2PHYfjIDJRYLGyEAAQgkTqD7GiQUb5FvmNLUMYdvZpH8zRZ59jfT2/nTpXArXQvGgyHGWyQTQrrKyQNKw9LLxRk0yO5PXmsKueismQpfuzQ7bS1vkX2heovEjOvFl8i3b4P7gRNeK8aWLpdv3wVK+/LcctseNqVTh5xeZBZsMJmRS5xtSa/YNKfcGNo6ae7duh8BlG6RPXPdCU27O/jlD9e9y+J3/b7pX31D3f3TO4rHlf+4+0n9oEQiAZlQ8nq/JW+RA9NdLf+bHlJer2ZS+GylycP6snrYZaa8xyBKPO8Ic6qoncY7tSmuvOJtKq9YKfE8/ld3m9wh95lPP2vrgbLi1zVWaRCAAAQg4JVAxzRIjAdDKtunP5gC8GCI8zcLwVukrEEecQMBVoNs+DGNibTXcZHf9R1TPL7L6UN6YHm5IqGzMekVq0FsiediVSr42lukQead7c1OvcQp1XmJYw9qWlufGNcLI+vbF2mhaOsYk9H08AXy7XtTpLPJL5ZOHZFvnx3XkRlAtsTzBn0XKGXOZ8vvelLj2k0vD8PioLnS5Whrn6NndvcmgDI7XrM+Oqepm+N/85665y2487fMwMU/VXe/3VGyBl9bH9RC9AfFBgLunFX6z4w3aXFnfs8zpnh0zDk7PXeJ8h+vdbb5WKnxFlF1mOyKG5TX69dbJDYNK5CporVToFWGbtnVJj1vhfMI93z2VpM/6r7tmz4gOzTPLP23Gq80CEAAAhDwSqAjGqTswWD9zaJ/MFl/sxA8GKRBjlVpkIGl5RQHr+B181gNstL6my3w2jU726JwaKPTh9QZbxFno4eVqU33G1OYrNzZpoIvvVIaZGVlm5b2/NlNJn/CTT2KHtCUtg7ZW2SXvEWO74h+JGlXjeuV1zjbkl8p6SXbvXpG0dk/tsTzTSrx7Hdc58+1Es/L3qxxvdx5hGhrB0fQKwRQuvx4bJnhnZ84kxtsZ4/ox6BcqSR9Ov9t6Lr3mKErPzhjL2qMkMreIgHkP+5/USajLzt9Dzb/Ueyzy/QjPLTa6W/SK9aU1ZqzRls0rze6Penl3NaYMnSLX6epohfWdGX3p28whZMRkRM5omfhYrPkPRJBNAhAAAIQ8EqgIxpko/5gKk45n8O+JLEvS3y2wv4fSIO84nQh1St/M81W8N1yW+XBMBX9A7+kUrhXyt/MswY5vEn+Zs87eMIphfugmB1x+papUwp3z6evN/mTp04f27K2vk+BgDPXsFeSLM8uk7YeXOr0IemVWJPRQAJcuc0a1/nIuBb7zNIrAinxbLV1ZZZ+OOM6TlsrvXBhbXoh2jrp/9pavx8BlNbZNX3mjj+s70w/+Ka7zfDNH617rdzWr+sHxfWayIwq/3HYd/7jmFKKZBR6Og5U7n8web3bHlL+42GHqQ0CZBQM8NmKMVOgTShTRcceUxrWPgePNduypltxbecnr9HMqMiMqMhBvctWm9Gf/MfIFhYhAAEIQMAXgfY0SIwHw8gbjPXK8NnszFc7AzbagtEg2x9WWdcqD4YQNMiESjzbdJUZvEWiPJNcji3x3KIGsf1urK1jxvVijeuFvse1fPusyWglDqDUpYqBf5LPpPpe8SWe5ds34tm3z6Zh7XpCzCLQgtbWq6Wtr6jGW15HW8diCXIjAZQEHsuYAiiROINzx7kXXm0W3v0JZ9v0Sm67vEUmXZ+J9HzlPy7xnf8obxGZNDnf8GVvkXvKM2ym++/j3/xOeYsoUBFt6aFV5Smg0W1JL5fqTYG+4C6ljPYl3R3nftZkt3h0u7MtNWdUlZ3ql6Hb+cdv1mzuonPO9Erf2tebkXf+xfQq/0IAAhCAgEcCHdUgQ+v0e3qpx08j5aHgRG7sW1qI/AaVvUXe7rVf9ub5Hd9Wiedxpx9hlHg+dabEc+TFhy3xvEb+ZqoC4rPld0uDyPA/2lJzRqRBro9ucpatBimqCk9KM7Lj2uy1tcb1Et/j+qC8RTSuo9GTQAIBNvBWVKAi2tKDKl2+vP4L4uix3Vquq62DGNcx6YUNSjyjrbs1Ujp/XQIonWdac8UxfdGn6v2xufq1ZuRdf1tzTmxt9RAMvvTFHpv/qJLAqb75NZ8jyQ358e+qxPNW55ahlHiO9RYpl6HzPFU0rryinmPPmlsdjtUrMwryi68zC+/8WPUprEMAAhCAgAcCLWmQOA+GELxFFDQpa5CoyaheUfWslgbp961BnpMG2eI84aBL4Zb9zVwPBqfzCazYNPCC0sGjrZlUcKtB7IyDegGUvnraOtRxXSxoXCulyPE61LguBwLmRfEkvhzvLRJK6fJ7lYYVSS8sWxy8RSWeA9TWvUNKL7xtxueHtp4RT1A7CaAk8Dh2fupapeFEDZcqN+1dssKM/vQ/VTZoqbBPeb2HAs3rlTu6zamuNGvwZWure87rVR60zYeOtnBKPMekYYUwVfTYTqVhPRVFZlLZflVVeKuzLW5l7GNX1hUug5e/wwzf8J/jTmMbBCAAAQgkTGDWGiTOW6RP3iJ6UeK75TbfLw0S8d+yfzBZfzO9DffZYv3NeufpD6bbfXarfO/c1rh0lXgPhiQ7WzwuDbLL1SBGM3J717+tYTesBrGtXgAlVlvH+faFOq712bJLr5K29jyuD8m3b1+Vb18w4zpGWweRXqjS5XueLo/P6f9rNr0QbT1NLPx/CaAk8Ix2/umNpjQRDTpUbpqZv8As+zcPnN1Q0AyKgmZSRFvQ+Y+LLjaZRRdFu5v4si1ZZkvyudMem/sR7nZnc2OPyFvkoHOb9LCmio56nip66qimij4kZJEp0E2WobNpZTv/5G7nM0VXhm54rxm6/H3RTSxDAAIQgIAnArPTINtkMvqs83MajgaRyahKqEZbZuFF8je7OLop8eXT/mbyYIi2dO+ZcsXRjckv53c8qpSi/c6N0/MDSFc5dUyp4A+qXxENYtOw7Asc/TtTm9YgpRlmoNRqa43rcY3rSEtl5+iFUX0tEzm0q4u2ymaz5rld7UjVxeN9+wLR1rEWBwGM60mVeB572NXWdlzboGCDEs/T47rqMZxdRVufRRHEAgGUBB7D7r+43RSOuD/607fNDM41y977SHm1NBmX/9ij//DkLeK5xeb1hpD/WC7x/A33y0pfUr3r7/Jf4jl2qugylVd8i+enqfKKm76iqU6RWVH2LV65vGLjEs8nt3zdHPjyh+t+hoVv/YiZ+9p31t3PDghAAAIQSI5AWxrEiv8N/r1FcmPf1suIcQdaEB4MIWuQ3SqFe2yHy0yVk2wFJd+tVoOk1a/rVeJ5UcOuTWuQGQMojbR1MOM6zsA/AN++8rhWgMtJKQqldHmg41oBvanNNqUooq2VXphdeYMqljU/ruv9B4C2rkfGz3YCKAlw3/v5d5ipvbvj75ROm5Uf0OyJuLzeVLrsRWFTUXy2vKL2xSPbnC6k546Uf+ycjR5WYn+El9v8R8/lFTXlsaCpj9GWCqUM3RaVoctNRLum8oqXqQzdWmdbvZWjT/2BOfrE5+rtNiM/8UnT59lYrG7n2AEBCEDgVUagaQ1iyxU7fzBJg1hvkb4hr8Tye+Vvdnir04fUnMUyGb3B2eZj5bQn3FTl1vZlxApb4nm0ss3DUuHAi6Zw4GXnzqn+BXqeNzvbfKzktigVPOfOys6MSoMMr22qO9MaRKidwivOydPaOtZbxGprjWt5Uvhscdq6kXluUv3NKRBQykfGtW6cXXmd/3Edl4YVzLiO09aXN13ieXpc13vGaOt6ZPxsJ4CSAPcD93/AnHzlybp3WvoLnzOlQ5v0ZRX9QdGP8PKrlde7vO55SeywP8D2hzjagvEW0UyIUq6qxPOISjwv2BDtbuLLp9OwntN9KyXVUlmVoVPFHd/NVk8qnTrkdMOWo8wob7TZNv4P7za5XW5A7ey5EjQrP+jmfp7dxwIEIAABCCROoCkNclgaxPmjVhpkmTwY5q1IvL/RGxbONX+z0TcqELA++hESXw66xHOcBlmoUriLmy+Fe1aD2LK1NopSp5W1ddy4XirPHN/eInEG/k2YjNb5qB3dnNsa5y2icb3A77guHNluCqoaGS1rGk56YYy2bnVcxz1NtHUcFa/bCKAkgH9Cb3UO3vs7de808NorzcD6O539QeT1Htslk1HNjom0VLZPgYDGBl+RU7qymNuuLyuVMow2++WeGXljdFPiy8WTB1TG8FHFTirBE5MJJA1r53dUhm6Xw6SV8oq7/uQ6U5x030xMXzTd32eW/+pj06v8CwEIQAACngk01CAXXmUGLrjD6WVmofzNFl/kbEt6pXhcGkS/W9E/mJo1Ge12X+M0SFqBk6wCKD5bbInnYDTIE9Igexw8ndYg0YsPxI3rEHz7YrR1OONavn2yE4i29NAFMrR9U3RT4stli4Mxq60jnjmhjOu40uWDK8ovwWcDCm09G1r+jyWAktAz2Pnxq/U3deSP6sh9s/Pnm4XXvv/slvT81apHf8XZdR8LdmaHNbYypULl9jIZtbMoUqpL77PlY71Flmva7Jt9dkuo8ia35X55ouUr/bBpWKtv1RRo32lY31Ma1uZKv7SUmrNQU6BvcrY1szKTS3jvinVm9N1faOYyHAMBCEAAAgkRmJUGmScPBlW28dnOPQ0SgL9ZvVRwpe2k+ub7fJwmv/d5pWFtcvqQ6pcGWd2eBpkpjadGW4cwrqekrbd90w0EWAP/9W9taJ7rwOvCiq3KWFR1xmhLDwQ6ro3V1hrXvkuX75W2PlylrftU4nnNjVGMTS2jrZvCFMxBBFASehS7VYmnUKcSTyqbMSN3/IdyT1JzRvVH7XUJ9ar+baY2ymS0WGWEpH6l54zUPymBPfm9L+jLaqNzp2C8RarLK6qXp6dAr3T6m/RKQelhhX3PO7dN9Q6qvKL7xtE5oM7KiZf+3hx64P/U2WvM4DU/Z4av/lDd/eyAAAQgAIHkCTSvQUakQa5PvoNVd6zxFtH+rPrlW4PYkq41/mYtBgKqPnLbqzXeIoouZJdeoTSsVW1fu50LFA5tlAZ5wblEpzSITeCJfzWpl0SOtg5lXFcb+Ms8t+yZ41dbx4/rQDxzNsszx7E4sNpaaVi+x7UCggUFBqOtU+M6ek27jLauJuJ/nQBKQs9g35d+zpza/krdu43e9R8VSR3WH7W31T0mqR25apNR/UJlRi5VXu+6pLoQe5/C4S36srLeIpUWjLfI1m+qDN3RSse0ZEsr2lQsn614YlxToJ9QFyISQzOIetf/WEvdOnDvL5uTG91nEL3Q8l+5VwLXr3letD8sQwACEICAMeeWBnlAfiwnnMeWGQ1Ug/QMmJ51bgq20/GEVuJL4QZQ4nlir9KaH3copLK9ms3cHQ3i3EgrYWnrUMf1VpV4/q4iThV6wXiLxJV4DiENC21dGSyv0iUCKAk9+OPP/ak5/Min695t8PU3m+Hbf6/u/qR2xOf1blBe7yVJdSH2PsWJ/QoE6Ec4wPzH3FhcGTqlYenNj89Wyk8qpegBMatKw1p3h97M9LfUtV2fuVlTPF1hO32hdE/WLP81G6yhQQACEIBASAQaapA33GKGb/vf3rscp0EyC2QyOvJ6r30LWYPk4zwYhgLRIJu/pudWrDy7VHulcKs1yEwzUOxNw9HWtd4iszXwr0Ds3FJp8oCxGtbR1mn59m24p3M3afFKVvMXT+x1zrazTrynF5a1tcZ19O8RO641qzvVM8fpb7Mr1eM6eh7aOkojnGUCKAk9i6Kmn+36RP2cuL7VF5mRd/11Qr2Jv01+l/Ifj1flP6oKUHa5b2+RnMlpCp9bXtF+WclbpGcw/sMktDUvR/Di0e3O3UIpQxc7BXqFLfG8zOnvbFZmyqPvXTRiRn/+vtlcjmMhAAEIQCABAueGBpHRuYxjoy0ID4bilJnaZP9gyke6Jg8GzRi2U/Z9trxmDhSPbHW6kJ47opKzgaZhrbQlnpc4/Z3NSrUGsXNrIxMnai4VhLbe+aQCAbudvqVbMBl1LtCBlVIhTlufGde+tXXA4zq3+T59FZyqPAGbKrfimo6O68rFjUFbR2mEs0wAJcFnsetT15jiVPQHuHLzlP4DXPHBpyobEl4K2VtkapOMWQuTDpHssjcr/3G5sy3plcKBl1Ti+YfObVOhlKHrQonnI0993Bx7on6Qb/CNt5vhW37X4cEKBCAAAQiEQSBsDRJjMtonD4Y1N3uHF6tB9GIprRdMPlt8ieehMFLBt35Dac3HHDyZxW9QWvNrnG2zWamrQWaYhuJfW4c7rnOb71cgIKKty545VwegrX8obf2SMzSC0dY1JZ5LSte/pDvj+gwBtLUzFIJZIYCS4KPY+3fvNFPj7tuV6O0XvvUjZu5r3xndlMhyrLdIMHm9Md4iIeQ/Ht1h8uPP6I1UxVvETt3rWXd3Is9sppvkxr5lSiqnHG3pYZWhG22vDN3437zN5A7si17WWV78E39k+pe/xdnGCgQgAAEIhEEgXA2y+Yy/WWUuQdD+ZiFoEFsKd5db4jmV7ZO3yNu8D7bcmNJVTlaVwp0vDbKkOxpEf/dHpVjN5/emrTto4F/zodrckIvz7Vv0OpNZdGGbV27v9GLQJZ6lrZXyFG3p+es0ri+Nbpr1Mtp61siCOIEASoKP4fCjHzXHn/1y3Tv2LFxolrxH00QTbMWJfWe8RSqBANOGyWgnu57f8aixecfRlh5aI2+Ry6ObEl8uTR41ue0P6b6RvF5bj/4CBU9Ujs5ny+9+Wh4lO5wu2OmyWU2bbafl5TY+/pc/HbWidS7n+y2P0xlWIAABCECghkCwGqRsMhrVIPo9XX9PTf+T3pAbe1SBgAA1iC2Fqz+AHQ2SzuoFzl0mJf3ms+V3SYMcr9IgA0vLKQ7t9GtGDWJfZNkoSp3mRVuflLa24zryki0cbf2YtLX7Miw9X9p6iWdtnbPj+kExq/Ltk7ZOSWP7bPHaWuN65TVtdWvGca0ro63bwtvVkwmgdBVv7cV3fPxq9wu16pDRn/lz0zv6xqqt3Vm1OXynTUYjaUXWCGmNvEV85/XueVbeItucDx6Ot0h1GbqUyj7epCpKC5z+Jr1S2PcDlVd8xbltqtdWdrrF2dbKyt7/91Nmaufmuqf2rlhnRt/9hbr72QEBCEAAAv4JhKVBrNH516WJqjWI9RYZ8Aorv1v+Zsdcf7P0gF5GqOSs7za1qVaDZFeoxPPcxV67FqtBOpSG1UiDNPrgyWprjesa81zrLXK7fPs8j+sY37703FEFAq5rhLDr+2PHtbx80nM8j+v90tYHq7R1n7T1GrR11wdFwDcggJLww9n3xZ81p8Z+VPeuPUtXmSU/9cW6+zu5Y2qTDD8LESMkWXFll4Wa/zhfPz63dvLjt3StmhLPukpmyWUmM39tS9fr1EmFI9tUhu5Z53KdTCna8YdXOdeuXhn5+b82fYv8lmyu7hPrEIAABCDgEghJgwTrwbBf/mYHq/3NQtEgcaVw32QyStP12eI1yNzyrJhO9KuRBrHaObdnrO6tktTWNSajVluXDfyX1u1fEjusZ1+w3iKqGOmULtekooxSYzLD65JAU/ce5XGtF7pRp+JOlnhuNK7R1nUfjfcdBFASfgT5YzvNns/8+Ix3XfH+bykTpLVSWDNeOLIz2PxH6y2y5+lIT21WTL/yet/qbPOxktv2sCmdOuTcOojyiso1zsv3RK/xKn2zKUUdmgJ98KvvNxMv1zc47l20WNV3ZPRLgwAEIACBoAmEo0FiTEZHZDK6oHWT0U6AL5Y1iPzNIr+nIWuQ9PB6+Zu9sRMfveVrlCYPKq3ZrwZZ+M4/C0Rbx4zrNs1zW34wkRPL47rat09/Z/TY1HPPLV5bv0aly9/gtWdFeQlaKwE3Dctq6x9Tv1Jt9w1t3TZCrxcggOIB/57P3WPy+8br3rnvgjeakbf/ed397e6IzevVDIqsZlL4bGVvkbGH9GUV8RaRp0jvegVPlN/rs+V3PqEydHucLoRQhs4UCyqvqJlEzhRoTRVdfYtJ9Q05/W11ZeyP32xShcgzqbrQgnv+qxlY79+4rqpbrEIAAhCAQAwB7xpEf2zXmjGGoEGOmNzYw64GKfub6fctlY4hmdym/C6Vwj1eVQp3YIVmNigt3Gerq0FulgaZ35GeNatBGNfxuEunzvj2VWvrDQoEhDiuAyjxbH1YpjbGaOuyxcG8eNCz3NrsuJ7lZTk8IQIEUBICHb3N5PZHzP4v/VZ0U83yyn/vzsKoOaDFDfFGSO2bjLbYHee0qY3/LE+0aC60nfZ4o/J6FzrHJb2SH3/OFI9scW6b6l+kIMWNzjYfK7ktX9W0x5ORW4vZ0itNemhlZFvri+Ofe7vJ7XMDR9GrpQfmmuW/9Eh0E8sQgAAEIBAwgeA0SAdMRjuBu0aD2NQL+Zul5/j1N8uPf08axPUgS3XIW6RdbrnN0iD5MDSI33H9jDxz3BSidCjjutozR+Pa6tdUv2dtvVfj+nCo47qqxLP+Q8kuvQpt3e4Xxnl0PgEUTw9zz2dvNfmjx+rePTs8bJb+oszVOths7qPNgYy2VG8oeb3VgYCSvqyu0JfVmmh3E18uHPyRKez/vnNfawLWs+5OZ5uPFetWXpo64tw6s/Bi1aTvjBfJhMz9Dn75w871q1eGb3ivGbz8fdWbWYcABCAAgYAJeNEgB6VB9ldpkA6ZMbaLOlh/s0MbTWHfC87Hsyb/PWvvcLb5WIlNBfesQbyM6zjPnFACXFu+ppdsE5HhUTKZ0cvlLbI2si35xYIqOxb2Pu/cONWjcb2OcW2hoK2doRHkCgEUT4/l2At/ZY48+Ecz3r1//SVm8T2fmfGYZncWjmzXl5WMkCIl1azPShD5j7GBgAsVCHhdsx+vK8fZlB2buuO0QEo858YeU3nFfU7X0vNWyQT4SmdbOys7PqnybLnIjKCqi6V7e8zyf/ftqq2sQgACEIBA6ASS1yBjprBH3iIR64BwvEUekr/ZYeeRZRZIg4z41iDjZzRId/zNnA88yxVborc4sdc5Kz20uvziy9nYxkorGiTpcV08ut3kd9txXRnYwWjrWN++ALxFTmhc75B2rCCTY2znfPvaGHLl0tMhjut2PhPndocAAZTucG3qqrs+fb0pnoxWwak9bejaXzBDV32gdscstthZCtakyfEWKX9ZdcYIaRZdqTk0v1N5vSeq8noHV5rs8pmrvtRcqMMbbFpMbusDLjNb4lkzT6zo89ny49/VdN6tThc6XeJ5/K/uMrlDB517VK8MvuluM3zzR6s3sw4BCEAAAucAgcQ0iIITZQ0SMWY1af3BtOEe75TyO+RvNuGmqabnSYMs86xB8qdU4vlr0iCFCqOyBrmj60UGKjeMX8rHlMJNzRk1Pas6Vwq3HQ2S6LhWSr6jreXX17vh7fHgEtwa69sXwrhW5c/cZqutIy/n5MNyWlt3t3hGI/xx47rTJZ7bGdeN+s/+ZAkQQEmWt3O348/9qTn8yKedbTUrimov+bm/ND2LLq7Z1eyGmrxe+2W1yuY/+s7rjfMWWajczJua/WhdO25q070q8TzlXD+7/BqTHvRchu7gy5oC/aLTr1TvkKbz3uZsa2fl4H2/aiZ+pNlKM7R0n2afvI/ZJzMgYhcEIACBoAkko0FKMjq3v6e5CAvrwXBTmBpkzmLpoxsiffWzWFsKVx4MK6RB5Kvhs8WXwp0nDXJ7x7rVrgZJZFwXi2Zqs0xGi5FxbbX1mpuNTY332UL27avV1oGUeFZqYUEphtGGto7SYLmaAAGUaiIJr+//p/eYyW1uTnB1FzJz+s2yX1EprRZajcGXUnhsmoedaumzxXqL9Hb2R7jVz5fb+nV5ixx3Trfl1LyXVzy2y+R3fadq2mOfqhSpQkCHWnPCw5iRf/Ux07eyc2+bOtR9LgMBCEAAArMg0H0NIg+GfNSDwZoxWn8zzxrksPzN9lb7m4XiwRCqBtmhdJWqAgeZ/tOVEmcx5mY6tFMapPvjuspkVC87y94i8z2P6zjfvmA8c2JKPI9cIm29YaYh0fV9Rautd0tbR1qn0ws7Na4jXWTRMwECKJ4fgL19I9Mre0wqkzErfv1Ju9h0izcZvUjeIq3PZmn65jMceNpbxH6WaF5vZwMBM9x+xl1x9ejTwxeY7OibZjyv2ztLueNKKfqmO1W0wyWem/qC1wcduOKdZsH1H+n2R+b6EIAABCCQAIFENcgCaZAR3xokzlukV4EAm9bst+XGVOL55AGnE0FoEL1Uym17UBokklJkU8HX3W2M0lY60TqtQRId14s0rtuYKd4JfjYdvvySzfE67JPXYedesrXaz3NqXNtUOTFLZcIc160+A87rLAECKJ3l2dLVClPHzJ5P36HfpcgPU9yVshmz6O7fMXPW6werQbMGTcWJceeo9JBMRlXi1mcr5SeV12vzHyOfVYEA67zt3Vtk11OmeHyngyecMnRVKUV625Fdeb3KKy52+tvqSjNTZu21+1Zt0OyTz7d6G86DAAQgAIHACHRFg8iA3b4sibYwvEXkb6YKc2FqkKelQXZEkZVTdmzqju82tfErtekqq65XGtaijnStGxrk1TWu63nmBODbp1lLxWNV43ruEmnYazsydtq5SI3FgVEa1urrNK7R1u1wfTWcSwAlkKd8/MUvmCPf+L1okZy6PRu89C4zfNN/r7s/Nv8xmLzeezWdt8pbZMW1EglL6n6eJHYU9n3fFA79yLlVqndYeb23ONt8rFgz29LUCefWmdFLVYZunbOt1ZVmTK3stTODA2bZex9u9TacBwEIQAACgRLoqAbZI6Pzo1udT5oKRoPcJw3imvdnA9AgeaUTFZVWFG2pYEvhSg+MXtaxUrjd1CAdHddxBv4KIPWsvjH62Lwsx3uLWM8cz9pann0FefdFWzDaWi9zS7motrZpWFZbr412t+Xlbo7rljvFiR0jQAClYyjbv9CBr/+GOflic14nPctWmSU/+cWam9oggA0GRFsqaG8R//mPhcNblQv93Siysst9ECWeY8vQbdAU6Euc/rayMqG3cAfv/y8zliqevm4qnTZLf+mfTUZO+zQIQAACEDj/CLwqNcjoG/UH03qvD7NwRBpk3Bq3V+q6pnrmaGZu49nG3e54fFrza5TW/Ia2b52UBunIuD7wiikc+IHzmYPW1gGM6+LRbSa/xy1IEMy43qrS5VPVpctfK239eucZt7KS1LhupW+c0zkCBFA6x7IjV9r7+XeYqb1uWd96F07P7TdDb/lVM3jJz5cPict/NJlA8npV6q00edD5KGmJlqy+5H224sn95brvbhm6QMorxpV4HlghJ/6r20a253NvN/l97vTqmS46/9YPmHmX/MJMh7APAhCAAATOcQId1yBpaZANAXiLxGmQ+dIgS/xqEKuLrD+EM/04mBLPTyoV3NWj6UGVeF5+VdujPGkN0ta4tiaje55ynlGnTUZbBZrbLs+cySrPnPnrNK4vbfWSHTmvPK7VN0GrXC+Ucb1L4/r4+TGuK3BZSpoAAZSkiTdxv12fvVXTX481ceTpQ9LzBs3gpT9p+uetqMnr7V1/lwy+epu+VjcOtK7tNfmPKsXnPa9X5eemtnzNLa8ob5GeNbepDN28bqBo+pqFfc8rpWiTc3yqv/0Szwe/+n5zYuMzJlUoOteeaaVRythM57IPAhCAAATOLQKta5Dl0iCR35ay0XkAGiTO32xwmQIBb/H7YIp5lcK9X94i+Uo/yqVwb5EGGaps87CU3/u8UoqqNMgcpausurGt3vjUIC2N68ukrQdrx3UQvn1x2joEbxF5HE5tui/McT3+PVM8stkZw2hrBwcrTRIggNIkqKQPG//iz+qthJsP26gPqZ6smbPqIjN44Tt0qDUZlbfIXL8pF7F5vf0LlDN6c6OP0/X9OQkXa2pbaWKmNyvpQQWiPDYbOCnse0E9qETuU22UoctLBB38xofN1E73R6PRR7RpO8M3v98MMPOkESr2QwACEDivCHREg6y6TkbnI165FPb9QC8jXnH6EIy3SI0GUYnnZVebtH0Z5rEVDm08o0EqnWgnXSUkDXL+jOsY374++fatCcC3r2ZcS1svk7b2Pa4Pa1zvtdq60lI9A0qVu7OyYRZLIY3rWXSbQztEgABKh0B24zKHHv9dc+Jfvhj9O7qp26T0BqNvzcVm0V1/ICfpBU2d042DTuf1BuotopLApamjzse2JegyKkXnsxVPqLzirif0zCvBk1bTsI489XEz+cpXTf7AvkgoprlPZw1jR3/2C3ieNIeLoyAAAQicdwTOfQ2y7Yy3SOXRpHrm6g8mzYrx3HJbH5QGOeL0IhgNsvPbTr/ONw3S1rhe+zqz6M7fD09bBzOuA9XWE3tPp+tHR7Ytw73+nuiWppbR1k1hOu8PIoAS+COe3PGkOfiV3zTFU27lmqa7nVE984WLTd/yy8zAxe8yPUsub/rUdg4snTpkcso5dgMBrX1ZtdOPuHNzY4+Z0sl9zq700BqVeE6GjXPjyEqpoDJ0mx8Qs+h0Xj2/ckrRQOTI+MUTL/29mdj4dZPbt9GUjk8IfSQIE39K7Na+levNyL/+u9h9bIQABCAAgVcPgXNWgwTsLXLOaZC1dxhr/tmonUsa5Nwd19LWY2jrRmMxur9UmJK2Vrq+o62zCqTeXi4YET02bvlcGtdx/WdbdwgQQOkO145fdfxz9+gP4/H2r5vWVLrBQQVSLjQ9w6vN3It/wmTnr+6sT4rN692kvF7ny0q11cuBgMH2P0MbV7CO4NYZPNpSmmLcs+r66CYvy7nNVeUV5cdic7TT8ouJNmsYdkplIqc0FfHktsdVIm63KZw8ZVI6vq2m0+dd8eNm/nX/qa3LcDIEIAABCJxfBM4pDWI9GDbKgyGqQZTWXNYgfX79zULWIPGlcM9vDXJOjet62nr1rSblfVz/i7T1dudLLz13RFYCAWpra3FgtfUg2tp5YKzMigABlFnh8nvwoQc+ZE689HjXOlH+A1y+F6lsRom4Gf3bJwFSlOFo3hQzitYOq558E4a0pYlD5fOmO5qypfn6NYMio+t5bKWpCZXsPen2IK3POWfY3eZhzTIrTh7XTKOTJq1nUMpmhV4zSIpF+ctpRopMX0tatjN62g6UxHy+dF+PWfi2/2X6V98Qs5dNEIAABCDwaieABmlvBKBB6vPzqUEY1/WfSzN7GNf1Kfkc1/V7xZ5OECCA0gmKCV7jlAzRjjz822Zqt2ZRtJah0Xpv7QSHpO/Zem85swkC6d4ezUK6TWaxH23iaA6BAAQgAIFXMwE0yKv56Xf+s4eiQRjXnX+2r+YrhjKuX83PoNufnQBKtwl36/qaynfg/l8zk5u/d3pmQrfuw3W9EehmvCo9MNcMXf4zZvDy93n7fNwYAhCAAATOUQJokHP0wTXf7VelBmFcNz9AztEjX5Xj+hx9ViF3mwBKyE+nyb4dfOQjZvKlB5X+kWvyjPYO6+aXT3s9O//O7jTr7MJFZv61HzRz1r/t/IPFJ4IABCAAgcQJoEESR57YDV/NGoRxndgwS/xGr+ZxnTjs8/SGBFDOowd79LufMiee/TtTUAUW2nlCwFbSadMc1nqm9Cxfaxbc8t9Mj+cyzefJU+FjQAACEIBAFQE0SBWQ82EVDWIY1+fDQK76DIzrKiCszpYAAZTZEjtHjj/2/b82k1seNLnxzaY4IeNU+2XRqdbp0G2n+sV1ygRSPVmTHVpg+la8yfS/5p2mf+VbIAMBCEAAAhBIjAAaJDHUwd3ofNYgjOvghltiHTqfx3ViEM+jGxFAOY8e5kwfZXL7I+bkK18xp3Y9bwpHj5hSoTDT4ewLgEBJQa9mKu6k+/tMdtFy07/2ejPw+p82mTmjAfSeLkAAAhCAAAROE0CDnHsjAQ3S+JkxrhszCu0IxnVoT+Tc7A8BlHPzubXd6/yJvSanij6Fid2meHxcaT/7VEbXltJVcOXUcVM4NWFKuSntP2mLEJf/V04laTOdpO2On8cXsGWKLWtbvTjdY8srz9G/fSbVO9ek+4cUGBk26TmLTHpgxGQHl5nM4HLTt/yq85gIHw0CEIAABM5HAmiQ8J4qGqT9Z8K4bp9hp6/AuO40Ua5nCRBAYRxAAAIQgAAEIAABCEAAAhCAAAQgAIEGBAigNADEbghAAAIQgAAEIAABCEAAAhCAAAQgQACFMQABCEAAAhCAAAQgAAEIQAACEIAABBoQIIDSABC7IQABCEAAAhCAAAQgAAEIQAACEIAAARTGAAQgAAEIQAACEIAABCAAAQhAAAIQaECAAEoDQOyGAAQgAAEIQAACEIAABCAAAQhAAAIEUBgDEIAABCAAAQhAAAIQgAAEIAABCECgAQECKA0AsRsCEIAABCAAAQhAAAIQgAAEIAABCBBAYQxAAAIQgAAEIAABCEAAAhCAAAQgAIEGBAigNADEbghAAAIQgAAEIAABCEAAAhCAAAQgQACFMQABCEAAAhCAAAQgAAEIQAACEIAABBoQIIDSABC7IQABCEAAAhCAAAQgAAEIQAACEIAAARTGAAQgAAEIQAACEIAABCAAAQhAAAIQaECAAEoDQOyGAAQgAAEIQAACEIAABCAAAQhAAAIEUBgDEIAABCAAAQhAAAIQgAAEIAABCECgAQECKA0AsRsCEIAABCAAAQhAAAIQgAAEIAABCBBAYQxAAAIQgAAEIAABCEAAAhCAAAQgAIEGBAigNADEbghAAAIQgAAEIAABCEAAAhCAAAQgQACFMQABCEAAAhCAAAQgAAEIQAACEIAABBoQIIDSABC7IQABCEAAAhCAAAQgAAEIQAACEIAAARTGAAQgAAEIQAACEIAABCAAAQhAAAIQaECAAEoDQOyGAAQgAAEIQAACEIAABCAAAQhAAAIEUBgDEIAABCAAAQhAAAIQgAAEIAABCECgAQECKA0AsRsCEIAABCAAAQhAAAIQgAAEIAABCBBAYQxAAAIQgAAEIAABCEAAAhCAAAQgAIEGBAigNADEbghAAAIQgAAEIAABCEAAAhCAAAQgQACFMQABCEAAAhCAAAQgAAEIQAACEIAABBoQIIDSABC7IQABCEAAAhCAAAQgAAEIQAACEIAAARTGAAQgAAEIQAACEIAABCAAAQhAAAIQaECAAEoDQOyGAAQgAAEIQAACEIAABCAAAQhAAAIEUBgDEIAABCAAAQhAAAIQgAAEIAABCECgAQECKA0AsRsCEIAABCAAAQhAAAIQgAAEIAABCBBAYQxAAAIQgAAEIAABCEAAAhCAAAQgAIEGBAigNADEbghAAAIQgAAEIAABCEAAAhCAAAQgQACFMQABCEAAAhCAAAQgAAEIQAACEIAABBoQIIDSABC7IQABCEAAAhCAAAQgAAEIQAACEIAAARTGAAQgAAEIQAACEIAABCAAAQhAAAIQaECAAEoDQOyGAAQgAAEIQAACEIAABCAAAQhAAAIEUBgDEIAABCAAAQhAAAIQgAAEIAABCECgAQECKA0AsRsCEIAABCAAAQhAAAIQgAAEIAABCBBAYQxAAAIQgAAEIAABCEAAAhCAAAQgAIEGBAigNADEbghAAAIQgAAEIAABCEAAAhCAAAQgQACFMQABCEAAAhCAAAQgAAEIQAACEIAABBoQIIDSABC7IQABCEAAAhCAAAQgAAEIQAACEIAAARTGAAQgAAEIQAACEIAABCAAAQhAAAIQaECAAEoDQOyGAAQgAAEIQAACEIAABCAAAQhAAAIEUBgDEIAABCAAAQhAAAIQgAAEIAABCECgAQECKA0AsRsCEIAABCAAAQhAAAIQgAAEIAABCBBAYQxAAAIQgAAEIAABCEAAAhCAAAQgAIEGBAigNADEbghAAAIQgAAEIAABCEAAAhCAAAQgQACFMQABCEAAAhCAAAQgAAEIQAACEIAABBoQIIDSABC7IQABCEAAAhCAAAQgAAEIQAACEIAAARTGAAQgAAEIQAACEIAABCAAAQhAAAIQaECAAEoDQOyGAAQgAAEIQAACEIAABCAAAQhAAAIEUBgDEIAABCAAAQhAAAIQgAAEIAABCECgAQECKA0AsRsCEIAABCAAAQhAAAIQgAAEIAABCBBAYQxAAAIQgAAEIAABCEAAAhCAAAQgAIEGBAigNADEbghAAAIQgAAEIAABCEAAAhCAAAQgQACFMQABCEAAAhCAAAQgAAEIQAACEIAABBoQIIDSABC7IQABCEAAAhCAAAQgAAEIQAACEIAAARTGAAQgAAEIQAACEIAABCAAAQhAAAIQaECAAEoDQOyGAAQgAAEIQAACEIAABCAAAQhAAAIEUBgDEIAABCAAAQhAAAIQgAAEIAABCECgAQECKA0AsRsCEIAABCAAAQhAAAIQgAAEIAABCBBAYQxAAAIQgAAEIAABCEAAAhCAAAQgAIEGBAigNADEbghAAAIQgAAEIAABCEAAAhCAAAQgQACFMQABCEAAAhCAAAQgAAEIQAACEIAABBoQIIDSABC7IQABCEAAAhCAAAQgAAEIQAACEIAAARTGAAQgAAEIQAACEIAABCAAAQhAAAIQaECAAEoDQOyGAAQgAAEIQAACEIAABCAAAQhAAAIEUBgDEIAABCAAAQhAAAIQgAAEIAABCECgAQECKA0AsRsCEIAABCAAAQhAAAIQgAAEIAABCBBAYQxAAAIQgAAEIAABCEAAAhCAAAQgAIEGBAigNADEbghAAAIQgAAEIAABCEAAAhCAAAQgQACFMQABCEAAAhCAAAQgAAEIQAACEIAABBoQIIDSABC7IQABCEAAAhCAAAQgAAEIQAACEIDA/wfhML39TY10rQAAAABJRU5ErkJggg==)"
      ],
      "metadata": {
        "id": "nXXGAMAKb9EK"
      }
    },
    {
      "cell_type": "markdown",
      "source": [
        ":::{exercise}\n",
        ":label: functions-reduce\n",
        "\n",
        "Utiliza `reduce` sobre un iterable para obtener\n",
        "\n",
        "```\n",
        "(((((None, 1), 2), 3), 4), 5)\n",
        "```\n",
        "\n",
        ":::"
      ],
      "metadata": {
        "id": "0fPC6XAWM91c"
      }
    },
    {
      "cell_type": "markdown",
      "source": [
        ":::{exercise}\n",
        ":label: functions-ret-a-function\n",
        "\n",
        "Crea una función `wrapper` que tome como argumento una función y realice las siguientes tareas\n",
        "- Escribir por pantalla el mensaje \"Llamando a la función...\"\n",
        "- Ejecute al función\n",
        "- Escriba otro mensaje \"La función ha sido llamada\"\n",
        "\n",
        ":::"
      ],
      "metadata": {
        "id": "fVf4Kze-AvY1"
      }
    },
    {
      "cell_type": "markdown",
      "source": [
        ":::{exercise}\n",
        ":label: functions-reduce-2\n",
        "\n",
        "Implementa la función `reduce` por ti mismo.\n",
        "\n",
        ":::"
      ],
      "metadata": {
        "id": "I0a7DeNmOMKc"
      }
    },
    {
      "cell_type": "markdown",
      "source": [
        ":::{solution} functions-reduce-2\n",
        ":class: dropdown\n",
        "\n",
        "```\n",
        "def my_reduce(f, s):\n",
        "    if len(s) == 1:\n",
        "        return s[0]\n",
        "    return f(s[0], reduce(f, s[1:]))\n",
        "```\n",
        "\n",
        ":::\n"
      ],
      "metadata": {
        "id": "Fw2TiYAL131p"
      }
    }
  ],
  "metadata": {
    "kernelspec": {
      "display_name": "Python 3.9.1 64-bit",
      "language": "python",
      "name": "python3"
    },
    "language_info": {
      "name": "python",
      "version": "3.9.1"
    },
    "orig_nbformat": 4,
    "vscode": {
      "interpreter": {
        "hash": "397704579725e15f5c7cb49fe5f0341eb7531c82d19f2c29d197e8b64ab5776b"
      }
    },
    "colab": {
      "provenance": [],
      "toc_visible": true
    }
  },
  "nbformat": 4,
  "nbformat_minor": 0
}