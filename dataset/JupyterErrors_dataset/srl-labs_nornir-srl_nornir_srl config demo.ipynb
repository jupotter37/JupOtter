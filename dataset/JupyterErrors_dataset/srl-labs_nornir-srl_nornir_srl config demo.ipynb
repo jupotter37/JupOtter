{
 "cells": [
  {
   "cell_type": "code",
   "execution_count": 1,
   "id": "d21b7133",
   "metadata": {},
   "outputs": [],
   "source": [
    "from nornir import InitNornir"
   ]
  },
  {
   "cell_type": "code",
   "execution_count": 2,
   "id": "91a77774",
   "metadata": {},
   "outputs": [],
   "source": [
    "from typing import Any, Dict, List, Optional\n",
    "from collections import OrderedDict\n",
    "\n",
    "from nornir import InitNornir\n",
    "from nornir.core.task import Result, Task, AggregatedResult\n",
    "\n",
    "from rich.console import Console\n",
    "from rich.table import Table\n",
    "from rich.text import Text\n",
    "from rich.box import    MINIMAL_DOUBLE_HEAD\n",
    "\n",
    "\n",
    "from nornir_utils.plugins.functions import print_result"
   ]
  },
  {
   "cell_type": "code",
   "execution_count": 3,
   "id": "9b59dd14",
   "metadata": {},
   "outputs": [],
   "source": [
    "from nornir_srl.connections.srlinux import CONNECTION_NAME"
   ]
  },
  {
   "cell_type": "code",
   "execution_count": 4,
   "id": "4cba7540",
   "metadata": {},
   "outputs": [
    {
     "data": {
      "text/plain": [
       "'srlinux'"
      ]
     },
     "execution_count": 4,
     "metadata": {},
     "output_type": "execute_result"
    }
   ],
   "source": [
    "CONNECTION_NAME"
   ]
  },
  {
   "cell_type": "code",
   "execution_count": 5,
   "id": "73774db3",
   "metadata": {},
   "outputs": [],
   "source": [
    "def get_version(task: Task) -> Result:\n",
    "    device = task.host.get_connection(CONNECTION_NAME, task.nornir.config)\n",
    "    return Result(host=task.host, result=device.get_info())"
   ]
  },
  {
   "cell_type": "code",
   "execution_count": 6,
   "id": "8239899c",
   "metadata": {},
   "outputs": [],
   "source": [
    "nr0 = InitNornir(config_file=\"nornir_config.yaml\")"
   ]
  },
  {
   "cell_type": "code",
   "execution_count": 7,
   "id": "52867a89",
   "metadata": {},
   "outputs": [],
   "source": [
    "r = nr0.run(task=get_version)"
   ]
  },
  {
   "cell_type": "code",
   "execution_count": 8,
   "id": "9444f439",
   "metadata": {},
   "outputs": [
    {
     "data": {
      "text/plain": [
       "AggregatedResult (get_version): {'clab-4l2s-l1': MultiResult: [Result: \"get_version\"], 'clab-4l2s-l2': MultiResult: [Result: \"get_version\"]}"
      ]
     },
     "execution_count": 8,
     "metadata": {},
     "output_type": "execute_result"
    }
   ],
   "source": [
    "r"
   ]
  },
  {
   "cell_type": "code",
   "execution_count": 9,
   "id": "47ac0cc7",
   "metadata": {},
   "outputs": [
    {
     "name": "stdout",
     "output_type": "stream",
     "text": [
      "\u001b[1m\u001b[36mget_version*********************************************************************\u001b[0m\n",
      "\u001b[0m\u001b[1m\u001b[34m* clab-4l2s-l1 ** changed : False **********************************************\u001b[0m\n",
      "\u001b[0m\u001b[1m\u001b[32mvvvv get_version ** changed : False vvvvvvvvvvvvvvvvvvvvvvvvvvvvvvvvvvvvvvvvvvvv INFO\u001b[0m\n",
      "\u001b[0m{\u001b[0m \u001b[0m'hw-mac-address'\u001b[0m: \u001b[0m'1A:34:08:FF:00:00'\u001b[0m,\n",
      "  \u001b[0m'part-number'\u001b[0m: \u001b[0m'Sim Part No.'\u001b[0m,\n",
      "  \u001b[0m'serial-number'\u001b[0m: \u001b[0m'Sim Serial No.'\u001b[0m,\n",
      "  \u001b[0m'software-version'\u001b[0m: \u001b[0m'v22.6.1'\u001b[0m,\n",
      "  \u001b[0m'type'\u001b[0m: \u001b[0m'7220 IXR-D2'\u001b[0m}\u001b[0m\n",
      "\u001b[0m\u001b[1m\u001b[32m^^^^ END get_version ^^^^^^^^^^^^^^^^^^^^^^^^^^^^^^^^^^^^^^^^^^^^^^^^^^^^^^^^^^^\u001b[0m\n",
      "\u001b[0m\u001b[1m\u001b[34m* clab-4l2s-l2 ** changed : False **********************************************\u001b[0m\n",
      "\u001b[0m\u001b[1m\u001b[32mvvvv get_version ** changed : False vvvvvvvvvvvvvvvvvvvvvvvvvvvvvvvvvvvvvvvvvvvv INFO\u001b[0m\n",
      "\u001b[0m{\u001b[0m \u001b[0m'hw-mac-address'\u001b[0m: \u001b[0m'1A:D8:09:FF:00:00'\u001b[0m,\n",
      "  \u001b[0m'part-number'\u001b[0m: \u001b[0m'Sim Part No.'\u001b[0m,\n",
      "  \u001b[0m'serial-number'\u001b[0m: \u001b[0m'Sim Serial No.'\u001b[0m,\n",
      "  \u001b[0m'software-version'\u001b[0m: \u001b[0m'v22.6.1'\u001b[0m,\n",
      "  \u001b[0m'type'\u001b[0m: \u001b[0m'7220 IXR-D2'\u001b[0m}\u001b[0m\n",
      "\u001b[0m\u001b[1m\u001b[32m^^^^ END get_version ^^^^^^^^^^^^^^^^^^^^^^^^^^^^^^^^^^^^^^^^^^^^^^^^^^^^^^^^^^^\u001b[0m\n",
      "\u001b[0m"
     ]
    }
   ],
   "source": [
    "print_result(r)"
   ]
  },
  {
   "cell_type": "code",
   "execution_count": 10,
   "id": "a7fc7b40",
   "metadata": {},
   "outputs": [],
   "source": [
    "paths = ['/interface']"
   ]
  },
  {
   "cell_type": "code",
   "execution_count": 11,
   "id": "95ad77e4",
   "metadata": {},
   "outputs": [],
   "source": [
    "d = nr0.inventory.hosts['clab-4l2s-l1'].get_connection(CONNECTION_NAME, nr0.config)"
   ]
  },
  {
   "cell_type": "code",
   "execution_count": 12,
   "id": "92b2acf1",
   "metadata": {},
   "outputs": [
    {
     "data": {
      "text/plain": [
       "<nornir_srl.connections.srlinux.SrLinux at 0x7fd9302a21f0>"
      ]
     },
     "execution_count": 12,
     "metadata": {},
     "output_type": "execute_result"
    }
   ],
   "source": [
    "d"
   ]
  },
  {
   "cell_type": "code",
   "execution_count": 13,
   "id": "13628fe3",
   "metadata": {},
   "outputs": [
    {
     "data": {
      "text/plain": [
       "[{'interface': [{'name': 'ethernet-1/1', 'admin-state': 'enable'},\n",
       "   {'name': 'ethernet-1/2', 'admin-state': 'enable'},\n",
       "   {'name': 'ethernet-1/10', 'admin-state': 'enable'},\n",
       "   {'name': 'ethernet-1/48',\n",
       "    'description': 'new description',\n",
       "    'admin-state': 'enable',\n",
       "    'subinterface': [{'index': 0,\n",
       "      'admin-state': 'enable',\n",
       "      'ipv4': {'address': [{'ip-prefix': '192.168.0.3/31'}]}}]},\n",
       "   {'name': 'ethernet-1/49',\n",
       "    'description': 'to_spine1_1/1',\n",
       "    'admin-state': 'enable',\n",
       "    'subinterface': [{'index': 0,\n",
       "      'admin-state': 'enable',\n",
       "      'ipv4': {'address': [{'ip-prefix': '192.168.0.1/31'}]}}]},\n",
       "   {'name': 'mgmt0',\n",
       "    'admin-state': 'enable',\n",
       "    'subinterface': [{'index': 0,\n",
       "      'admin-state': 'enable',\n",
       "      'ipv4': {'srl_nokia-interfaces-ip-dhcp:dhcp-client': {}},\n",
       "      'ipv6': {'srl_nokia-interfaces-ip-dhcp:dhcp-client': {}}}]},\n",
       "   {'name': 'system0',\n",
       "    'description': 'none',\n",
       "    'admin-state': 'enable',\n",
       "    'subinterface': [{'index': 0,\n",
       "      'admin-state': 'enable',\n",
       "      'ipv4': {'address': [{'ip-prefix': '192.168.255.1/32'}]}}]}]}]"
      ]
     },
     "execution_count": 13,
     "metadata": {},
     "output_type": "execute_result"
    }
   ],
   "source": [
    "d.get_config(paths=paths, strip_mod=True)"
   ]
  },
  {
   "cell_type": "code",
   "execution_count": 14,
   "id": "6f5e9690",
   "metadata": {},
   "outputs": [],
   "source": [
    "i = d.get_config(paths=paths, strip_mod=True)"
   ]
  },
  {
   "cell_type": "code",
   "execution_count": 15,
   "id": "a0fbc507",
   "metadata": {},
   "outputs": [
    {
     "data": {
      "text/plain": [
       "[{'interface': [{'name': 'ethernet-1/1', 'admin-state': 'enable'},\n",
       "   {'name': 'ethernet-1/2', 'admin-state': 'enable'},\n",
       "   {'name': 'ethernet-1/10', 'admin-state': 'enable'},\n",
       "   {'name': 'ethernet-1/48',\n",
       "    'description': 'new description',\n",
       "    'admin-state': 'enable',\n",
       "    'subinterface': [{'index': 0,\n",
       "      'admin-state': 'enable',\n",
       "      'ipv4': {'address': [{'ip-prefix': '192.168.0.3/31'}]}}]},\n",
       "   {'name': 'ethernet-1/49',\n",
       "    'description': 'to_spine1_1/1',\n",
       "    'admin-state': 'enable',\n",
       "    'subinterface': [{'index': 0,\n",
       "      'admin-state': 'enable',\n",
       "      'ipv4': {'address': [{'ip-prefix': '192.168.0.1/31'}]}}]},\n",
       "   {'name': 'mgmt0',\n",
       "    'admin-state': 'enable',\n",
       "    'subinterface': [{'index': 0,\n",
       "      'admin-state': 'enable',\n",
       "      'ipv4': {'srl_nokia-interfaces-ip-dhcp:dhcp-client': {}},\n",
       "      'ipv6': {'srl_nokia-interfaces-ip-dhcp:dhcp-client': {}}}]},\n",
       "   {'name': 'system0',\n",
       "    'description': 'none',\n",
       "    'admin-state': 'enable',\n",
       "    'subinterface': [{'index': 0,\n",
       "      'admin-state': 'enable',\n",
       "      'ipv4': {'address': [{'ip-prefix': '192.168.255.1/32'}]}}]}]}]"
      ]
     },
     "execution_count": 15,
     "metadata": {},
     "output_type": "execute_result"
    }
   ],
   "source": [
    "i"
   ]
  },
  {
   "cell_type": "code",
   "execution_count": 16,
   "id": "b1f97f18",
   "metadata": {},
   "outputs": [
    {
     "data": {
      "text/plain": [
       "{'name': 'ethernet-1/48',\n",
       " 'description': 'new description',\n",
       " 'admin-state': 'enable',\n",
       " 'subinterface': [{'index': 0,\n",
       "   'admin-state': 'enable',\n",
       "   'ipv4': {'address': [{'ip-prefix': '192.168.0.3/31'}]}}]}"
      ]
     },
     "execution_count": 16,
     "metadata": {},
     "output_type": "execute_result"
    }
   ],
   "source": [
    "i[0]['interface'][3]"
   ]
  },
  {
   "cell_type": "code",
   "execution_count": 17,
   "id": "8f3441af",
   "metadata": {},
   "outputs": [],
   "source": [
    "i[0]['interface'][3]['description'] = 'new description'"
   ]
  },
  {
   "cell_type": "code",
   "execution_count": 18,
   "id": "36cdf36b",
   "metadata": {},
   "outputs": [
    {
     "data": {
      "text/plain": [
       "{'name': 'ethernet-1/48',\n",
       " 'description': 'new description',\n",
       " 'admin-state': 'enable',\n",
       " 'subinterface': [{'index': 0,\n",
       "   'admin-state': 'enable',\n",
       "   'ipv4': {'address': [{'ip-prefix': '192.168.0.3/31'}]}}]}"
      ]
     },
     "execution_count": 18,
     "metadata": {},
     "output_type": "execute_result"
    }
   ],
   "source": [
    "i[0]['interface'][3]"
   ]
  },
  {
   "cell_type": "code",
   "execution_count": 22,
   "id": "feb43b6e",
   "metadata": {},
   "outputs": [],
   "source": [
    "r = d.set_config(input=i, dry_run=True)"
   ]
  },
  {
   "cell_type": "code",
   "execution_count": 24,
   "id": "c6570063",
   "metadata": {},
   "outputs": [
    {
     "name": "stdout",
     "output_type": "stream",
     "text": [
      "--- device\n",
      "+++ new\n",
      "@@ -14,7 +14,7 @@\n",
      "     },\n",
      "     {\n",
      "       \"name\": \"ethernet-1/48\",\n",
      "-      \"description\": \"to_spine2_1/1\",\n",
      "+      \"description\": \"new description\",\n",
      "       \"admin-state\": \"enable\",\n",
      "       \"subinterface\": [\n",
      "         {\n",
      "\u001b[0m\n",
      "\u001b[0m"
     ]
    }
   ],
   "source": [
    "print(r)"
   ]
  },
  {
   "cell_type": "code",
   "execution_count": 25,
   "id": "5afe057d",
   "metadata": {},
   "outputs": [],
   "source": [
    "i = d.get_config(paths=paths, strip_mod=True)"
   ]
  },
  {
   "cell_type": "code",
   "execution_count": 26,
   "id": "1352a1bd",
   "metadata": {},
   "outputs": [
    {
     "data": {
      "text/plain": [
       "[{'interface': [{'name': 'ethernet-1/1', 'admin-state': 'enable'},\n",
       "   {'name': 'ethernet-1/2', 'admin-state': 'enable'},\n",
       "   {'name': 'ethernet-1/10', 'admin-state': 'enable'},\n",
       "   {'name': 'ethernet-1/48',\n",
       "    'description': 'to_spine2_1/1',\n",
       "    'admin-state': 'enable',\n",
       "    'subinterface': [{'index': 0,\n",
       "      'admin-state': 'enable',\n",
       "      'ipv4': {'address': [{'ip-prefix': '192.168.0.3/31'}]}}]},\n",
       "   {'name': 'ethernet-1/49',\n",
       "    'description': 'to_spine1_1/1',\n",
       "    'admin-state': 'enable',\n",
       "    'subinterface': [{'index': 0,\n",
       "      'admin-state': 'enable',\n",
       "      'ipv4': {'address': [{'ip-prefix': '192.168.0.1/31'}]}}]},\n",
       "   {'name': 'mgmt0',\n",
       "    'admin-state': 'enable',\n",
       "    'subinterface': [{'index': 0,\n",
       "      'admin-state': 'enable',\n",
       "      'ipv4': {'srl_nokia-interfaces-ip-dhcp:dhcp-client': {}},\n",
       "      'ipv6': {'srl_nokia-interfaces-ip-dhcp:dhcp-client': {}}}]},\n",
       "   {'name': 'system0',\n",
       "    'description': 'none',\n",
       "    'admin-state': 'enable',\n",
       "    'subinterface': [{'index': 0,\n",
       "      'admin-state': 'enable',\n",
       "      'ipv4': {'address': [{'ip-prefix': '192.168.255.1/32'}]}}]}]}]"
      ]
     },
     "execution_count": 26,
     "metadata": {},
     "output_type": "execute_result"
    }
   ],
   "source": [
    "i"
   ]
  },
  {
   "cell_type": "code",
   "execution_count": 27,
   "id": "7e05c43c",
   "metadata": {},
   "outputs": [],
   "source": [
    "i[0]['interface'][3]['description'] = 'new description'\n"
   ]
  },
  {
   "cell_type": "code",
   "execution_count": 28,
   "id": "5fc8e0ef",
   "metadata": {},
   "outputs": [],
   "source": [
    "r = d.set_config(input=i, dry_run=False)"
   ]
  },
  {
   "cell_type": "code",
   "execution_count": 29,
   "id": "0e227253",
   "metadata": {},
   "outputs": [
    {
     "name": "stdout",
     "output_type": "stream",
     "text": [
      "--- device\n",
      "+++ new\n",
      "@@ -14,7 +14,7 @@\n",
      "     },\n",
      "     {\n",
      "       \"name\": \"ethernet-1/48\",\n",
      "-      \"description\": \"to_spine2_1/1\",\n",
      "+      \"description\": \"new description\",\n",
      "       \"admin-state\": \"enable\",\n",
      "       \"subinterface\": [\n",
      "         {\n",
      "\u001b[0m\n",
      "\u001b[0m"
     ]
    }
   ],
   "source": [
    "print(r)"
   ]
  },
  {
   "cell_type": "code",
   "execution_count": 30,
   "id": "99338fc2",
   "metadata": {},
   "outputs": [
    {
     "data": {
      "text/plain": [
       "[{'interface': [{'name': 'ethernet-1/1', 'admin-state': 'enable'},\n",
       "   {'name': 'ethernet-1/2', 'admin-state': 'enable'},\n",
       "   {'name': 'ethernet-1/10', 'admin-state': 'enable'},\n",
       "   {'name': 'ethernet-1/48',\n",
       "    'description': 'new description',\n",
       "    'admin-state': 'enable',\n",
       "    'subinterface': [{'index': 0,\n",
       "      'admin-state': 'enable',\n",
       "      'ipv4': {'address': [{'ip-prefix': '192.168.0.3/31'}]}}]},\n",
       "   {'name': 'ethernet-1/49',\n",
       "    'description': 'to_spine1_1/1',\n",
       "    'admin-state': 'enable',\n",
       "    'subinterface': [{'index': 0,\n",
       "      'admin-state': 'enable',\n",
       "      'ipv4': {'address': [{'ip-prefix': '192.168.0.1/31'}]}}]},\n",
       "   {'name': 'mgmt0',\n",
       "    'admin-state': 'enable',\n",
       "    'subinterface': [{'index': 0,\n",
       "      'admin-state': 'enable',\n",
       "      'ipv4': {'srl_nokia-interfaces-ip-dhcp:dhcp-client': {}},\n",
       "      'ipv6': {'srl_nokia-interfaces-ip-dhcp:dhcp-client': {}}}]},\n",
       "   {'name': 'system0',\n",
       "    'description': 'none',\n",
       "    'admin-state': 'enable',\n",
       "    'subinterface': [{'index': 0,\n",
       "      'admin-state': 'enable',\n",
       "      'ipv4': {'address': [{'ip-prefix': '192.168.255.1/32'}]}}]}]}]"
      ]
     },
     "execution_count": 30,
     "metadata": {},
     "output_type": "execute_result"
    }
   ],
   "source": [
    "d.get_config(paths=paths, strip_mod=True)"
   ]
  },
  {
   "cell_type": "code",
   "execution_count": 33,
   "id": "df22b1d7",
   "metadata": {},
   "outputs": [],
   "source": [
    "paths = ['interface[name=ethernet-1/48]']"
   ]
  },
  {
   "cell_type": "code",
   "execution_count": 43,
   "id": "f63e699a",
   "metadata": {},
   "outputs": [],
   "source": [
    "i = d.get_config(paths=paths, strip_mod=True)"
   ]
  },
  {
   "cell_type": "code",
   "execution_count": 44,
   "id": "8605eef5",
   "metadata": {},
   "outputs": [
    {
     "data": {
      "text/plain": [
       "[{'interface[name=ethernet-1/48]': {'description': 'new description',\n",
       "   'admin-state': 'enable',\n",
       "   'subinterface': [{'index': 0,\n",
       "     'admin-state': 'enable',\n",
       "     'ipv4': {'address': [{'ip-prefix': '192.168.0.3/31'}]}}]}}]"
      ]
     },
     "execution_count": 44,
     "metadata": {},
     "output_type": "execute_result"
    }
   ],
   "source": [
    "i"
   ]
  },
  {
   "cell_type": "code",
   "execution_count": 45,
   "id": "c2ef0ed9",
   "metadata": {},
   "outputs": [
    {
     "name": "stdout",
     "output_type": "stream",
     "text": [
      "\u001b[0m\n",
      "\u001b[0m"
     ]
    }
   ],
   "source": [
    "print(d.set_config(input=i, dry_run=True))"
   ]
  },
  {
   "cell_type": "code",
   "execution_count": 46,
   "id": "a6a496b5",
   "metadata": {},
   "outputs": [
    {
     "name": "stdout",
     "output_type": "stream",
     "text": [
      "\u001b[0m\n",
      "\u001b[0m"
     ]
    }
   ],
   "source": [
    "print(d.set_config(input=i, dry_run=False))"
   ]
  },
  {
   "cell_type": "code",
   "execution_count": 49,
   "id": "7c193556",
   "metadata": {},
   "outputs": [
    {
     "data": {
      "text/plain": [
       "{'address': [{'ip-prefix': '192.168.0.3/31'}]}"
      ]
     },
     "execution_count": 49,
     "metadata": {},
     "output_type": "execute_result"
    }
   ],
   "source": [
    "i[0]['interface[name=ethernet-1/48]']['subinterface'][0]['ipv4']"
   ]
  },
  {
   "cell_type": "code",
   "execution_count": 51,
   "id": "b9086cea",
   "metadata": {},
   "outputs": [],
   "source": [
    "from ruamel.yaml import YAML"
   ]
  },
  {
   "cell_type": "code",
   "execution_count": 57,
   "id": "2b67b956",
   "metadata": {},
   "outputs": [],
   "source": [
    "yaml = YAML()"
   ]
  },
  {
   "cell_type": "code",
   "execution_count": 59,
   "id": "eddc4497",
   "metadata": {},
   "outputs": [
    {
     "data": {
      "text/plain": [
       "<ruamel.yaml.main.YAML at 0x7fab132be730>"
      ]
     },
     "execution_count": 59,
     "metadata": {},
     "output_type": "execute_result"
    }
   ],
   "source": [
    "yaml"
   ]
  },
  {
   "cell_type": "code",
   "execution_count": 61,
   "id": "26afc188",
   "metadata": {},
   "outputs": [],
   "source": [
    "import sys"
   ]
  },
  {
   "cell_type": "code",
   "execution_count": 54,
   "id": "1a859dc8",
   "metadata": {},
   "outputs": [
    {
     "data": {
      "text/plain": [
       "[{'interface[name=ethernet-1/48]': {'description': 'new description',\n",
       "   'admin-state': 'enable',\n",
       "   'subinterface': [{'index': 0,\n",
       "     'admin-state': 'enable',\n",
       "     'ipv4': {'address': [{'ip-prefix': '192.168.0.3/31'}]}}]}}]"
      ]
     },
     "execution_count": 54,
     "metadata": {},
     "output_type": "execute_result"
    }
   ],
   "source": [
    "i"
   ]
  },
  {
   "cell_type": "code",
   "execution_count": 62,
   "id": "435e2028",
   "metadata": {},
   "outputs": [
    {
     "name": "stdout",
     "output_type": "stream",
     "text": [
      "-\u001b[0m \u001b[0minterface[name=ethernet-1/48]\u001b[0m:\u001b[0m\n",
      "\u001b[0m    \u001b[0mdescription\u001b[0m:\u001b[0m \u001b[0mnew\u001b[0m \u001b[0mdescription\u001b[0m\n",
      "\u001b[0m    \u001b[0madmin-state\u001b[0m:\u001b[0m \u001b[0menable\u001b[0m\n",
      "\u001b[0m    \u001b[0msubinterface\u001b[0m:\u001b[0m\n",
      "\u001b[0m    \u001b[0m-\u001b[0m \u001b[0mindex\u001b[0m:\u001b[0m \u001b[0m0\u001b[0m\n",
      "\u001b[0m      \u001b[0madmin-state\u001b[0m:\u001b[0m \u001b[0menable\u001b[0m\n",
      "\u001b[0m      \u001b[0mipv4\u001b[0m:\u001b[0m\n",
      "\u001b[0m        \u001b[0maddress\u001b[0m:\u001b[0m\n",
      "\u001b[0m        \u001b[0m-\u001b[0m \u001b[0mip-prefix\u001b[0m:\u001b[0m \u001b[0m192.168.0.3/31\u001b[0m\n",
      "\u001b[0m"
     ]
    }
   ],
   "source": [
    "yaml.dump(i, sys.stdout)"
   ]
  },
  {
   "cell_type": "code",
   "execution_count": 69,
   "id": "2d1cfad2",
   "metadata": {},
   "outputs": [],
   "source": [
    "s = \"\"\"\n",
    "- interface[name=ethernet-1/48]:\n",
    "    description: new description\n",
    "    admin-state: enable\n",
    "    subinterface:\n",
    "    - index: 0\n",
    "      admin-state: enable\n",
    "      ipv4:\n",
    "        address:\n",
    "        - ip-prefix: 192.168.666.3/31\"\"\""
   ]
  },
  {
   "cell_type": "code",
   "execution_count": 70,
   "id": "7d0e49cf",
   "metadata": {},
   "outputs": [],
   "source": [
    "i = yaml.load(s)"
   ]
  },
  {
   "cell_type": "code",
   "execution_count": 71,
   "id": "18466cca",
   "metadata": {},
   "outputs": [
    {
     "data": {
      "text/plain": [
       "[ordereddict([('interface[name=ethernet-1/48]', ordereddict([('description', 'new description'), ('admin-state', 'enable'), ('subinterface', [ordereddict([('index', 0), ('admin-state', 'enable'), ('ipv4', ordereddict([('address', [ordereddict([('ip-prefix', '192.168.666.3/31')])])]))])])]))])]"
      ]
     },
     "execution_count": 71,
     "metadata": {},
     "output_type": "execute_result"
    }
   ],
   "source": [
    "i"
   ]
  },
  {
   "cell_type": "code",
   "execution_count": 72,
   "id": "7c777d38",
   "metadata": {},
   "outputs": [
    {
     "name": "stdout",
     "output_type": "stream",
     "text": [
      "GRPC ERROR Host: clab-4l2s-l1:57400, Error: Schema leaf '/interface/subinterface/ipv4/address/ip-prefix' could not parse json element value '192.168.666.3/31': Invalid value \"192.168.666.3/31\": Must match the pattern '(([0-9]|[1-9][0-9]|1[0-9][0-9]|2[0-4][0-9]|25[0-5])\\.){3}([0-9]|[1-9][0-9]|1[0-9][0-9]|2[0-4][0-9]|25[0-5])/(([0-9])|([1-2][0-9])|(3[0-2]))': Parse error on line 1: {\"description\": \"new description\", \"admin-state\": \"enable\", \"...\n",
      "Input:\n",
      "'{\"description\": \"new description\", \"admin-state\": \"enable\", \"subinterface\": [{\"index\": 0, \"admin-state\": \"enable\", \"ipv4\": {\"address\": [{\"ip-prefix\": \"192.168.666.3/31\"}]}}]}'\n",
      "\u001b[0m"
     ]
    },
    {
     "ename": "gNMIException",
     "evalue": "GRPC ERROR Host: clab-4l2s-l1:57400, Error: Schema leaf '/interface/subinterface/ipv4/address/ip-prefix' could not parse json element value '192.168.666.3/31': Invalid value \"192.168.666.3/31\": Must match the pattern '(([0-9]|[1-9][0-9]|1[0-9][0-9]|2[0-4][0-9]|25[0-5])\\.){3}([0-9]|[1-9][0-9]|1[0-9][0-9]|2[0-4][0-9]|25[0-5])/(([0-9])|([1-2][0-9])|(3[0-2]))': Parse error on line 1: {\"description\": \"new description\", \"admin-state\": \"enable\", \"...\nInput:\n'{\"description\": \"new description\", \"admin-state\": \"enable\", \"subinterface\": [{\"index\": 0, \"admin-state\": \"enable\", \"ipv4\": {\"address\": [{\"ip-prefix\": \"192.168.666.3/31\"}]}}]}'",
     "output_type": "error",
     "traceback": [
      "\u001b[0;31m---------------------------------------------------------------------------\u001b[0m",
      "\u001b[0;31m_InactiveRpcError\u001b[0m                         Traceback (most recent call last)",
      "File \u001b[0;32m~/nornir_srl/.venv/lib/python3.8/site-packages/pygnmi/client.py:563\u001b[0m, in \u001b[0;36mgNMIclient.set\u001b[0;34m(self, delete, replace, update, encoding, prefix, target)\u001b[0m\n\u001b[1;32m    561\u001b[0m debug_gnmi_msg(\u001b[38;5;28mself\u001b[39m\u001b[38;5;241m.\u001b[39m__debug, gnmi_message_request, \u001b[38;5;124m\"\u001b[39m\u001b[38;5;124mgNMI request\u001b[39m\u001b[38;5;124m\"\u001b[39m)\n\u001b[0;32m--> 563\u001b[0m gnmi_message_response \u001b[38;5;241m=\u001b[39m \u001b[38;5;28;43mself\u001b[39;49m\u001b[38;5;241;43m.\u001b[39;49m\u001b[43m__stub\u001b[49m\u001b[38;5;241;43m.\u001b[39;49m\u001b[43mSet\u001b[49m\u001b[43m(\u001b[49m\u001b[43mgnmi_message_request\u001b[49m\u001b[43m,\u001b[49m\u001b[43m \u001b[49m\u001b[43mmetadata\u001b[49m\u001b[38;5;241;43m=\u001b[39;49m\u001b[38;5;28;43mself\u001b[39;49m\u001b[38;5;241;43m.\u001b[39;49m\u001b[43m__metadata\u001b[49m\u001b[43m)\u001b[49m\n\u001b[1;32m    564\u001b[0m debug_gnmi_msg(\u001b[38;5;28mself\u001b[39m\u001b[38;5;241m.\u001b[39m__debug, gnmi_message_response, \u001b[38;5;124m\"\u001b[39m\u001b[38;5;124mgNMI response\u001b[39m\u001b[38;5;124m\"\u001b[39m)\n",
      "File \u001b[0;32m~/nornir_srl/.venv/lib/python3.8/site-packages/grpc/_channel.py:946\u001b[0m, in \u001b[0;36m_UnaryUnaryMultiCallable.__call__\u001b[0;34m(self, request, timeout, metadata, credentials, wait_for_ready, compression)\u001b[0m\n\u001b[1;32m    944\u001b[0m state, call, \u001b[38;5;241m=\u001b[39m \u001b[38;5;28mself\u001b[39m\u001b[38;5;241m.\u001b[39m_blocking(request, timeout, metadata, credentials,\n\u001b[1;32m    945\u001b[0m                               wait_for_ready, compression)\n\u001b[0;32m--> 946\u001b[0m \u001b[38;5;28;01mreturn\u001b[39;00m \u001b[43m_end_unary_response_blocking\u001b[49m\u001b[43m(\u001b[49m\u001b[43mstate\u001b[49m\u001b[43m,\u001b[49m\u001b[43m \u001b[49m\u001b[43mcall\u001b[49m\u001b[43m,\u001b[49m\u001b[43m \u001b[49m\u001b[38;5;28;43;01mFalse\u001b[39;49;00m\u001b[43m,\u001b[49m\u001b[43m \u001b[49m\u001b[38;5;28;43;01mNone\u001b[39;49;00m\u001b[43m)\u001b[49m\n",
      "File \u001b[0;32m~/nornir_srl/.venv/lib/python3.8/site-packages/grpc/_channel.py:849\u001b[0m, in \u001b[0;36m_end_unary_response_blocking\u001b[0;34m(state, call, with_call, deadline)\u001b[0m\n\u001b[1;32m    848\u001b[0m \u001b[38;5;28;01melse\u001b[39;00m:\n\u001b[0;32m--> 849\u001b[0m     \u001b[38;5;28;01mraise\u001b[39;00m _InactiveRpcError(state)\n",
      "\u001b[0;31m_InactiveRpcError\u001b[0m: <_InactiveRpcError of RPC that terminated with:\n\tstatus = StatusCode.INVALID_ARGUMENT\n\tdetails = \"Schema leaf '/interface/subinterface/ipv4/address/ip-prefix' could not parse json element value '192.168.666.3/31': Invalid value \"192.168.666.3/31\": Must match the pattern '(([0-9]|[1-9][0-9]|1[0-9][0-9]|2[0-4][0-9]|25[0-5])\\.){3}([0-9]|[1-9][0-9]|1[0-9][0-9]|2[0-4][0-9]|25[0-5])/(([0-9])|([1-2][0-9])|(3[0-2]))': Parse error on line 1: {\"description\": \"new description\", \"admin-state\": \"enable\", \"...\nInput:\n'{\"description\": \"new description\", \"admin-state\": \"enable\", \"subinterface\": [{\"index\": 0, \"admin-state\": \"enable\", \"ipv4\": {\"address\": [{\"ip-prefix\": \"192.168.666.3/31\"}]}}]}'\"\n\tdebug_error_string = \"UNKNOWN:Error received from peer ipv4:172.20.21.11:57400 {created_time:\"2022-10-24T16:10:46.293781008+00:00\", grpc_status:3, grpc_message:\"Schema leaf \\'/interface/subinterface/ipv4/address/ip-prefix\\' could not parse json element value \\'192.168.666.3/31\\': Invalid value \\\"192.168.666.3/31\\\": Must match the pattern \\'(([0-9]|[1-9][0-9]|1[0-9][0-9]|2[0-4][0-9]|25[0-5])\\\\.){3}([0-9]|[1-9][0-9]|1[0-9][0-9]|2[0-4][0-9]|25[0-5])/(([0-9])|([1-2][0-9])|(3[0-2]))\\': Parse error on line 1: {\\\"description\\\": \\\"new description\\\", \\\"admin-state\\\": \\\"enable\\\", \\\"...\\nInput:\\n\\'{\\\"description\\\": \\\"new description\\\", \\\"admin-state\\\": \\\"enable\\\", \\\"subinterface\\\": [{\\\"index\\\": 0, \\\"admin-state\\\": \\\"enable\\\", \\\"ipv4\\\": {\\\"address\\\": [{\\\"ip-prefix\\\": \\\"192.168.666.3/31\\\"}]}}]}\\'\"}\"\n>",
      "\nDuring handling of the above exception, another exception occurred:\n",
      "\u001b[0;31mgNMIException\u001b[0m                             Traceback (most recent call last)",
      "Cell \u001b[0;32mIn [72], line 1\u001b[0m\n\u001b[0;32m----> 1\u001b[0m \u001b[38;5;28mprint\u001b[39m(\u001b[43md\u001b[49m\u001b[38;5;241;43m.\u001b[39;49m\u001b[43mset_config\u001b[49m\u001b[43m(\u001b[49m\u001b[38;5;28;43minput\u001b[39;49m\u001b[38;5;241;43m=\u001b[39;49m\u001b[43mi\u001b[49m\u001b[43m,\u001b[49m\u001b[43m \u001b[49m\u001b[43mdry_run\u001b[49m\u001b[38;5;241;43m=\u001b[39;49m\u001b[38;5;28;43;01mFalse\u001b[39;49;00m\u001b[43m)\u001b[49m)\n",
      "File \u001b[0;32m~/nornir_srl/nornir_srl/connections/srlinux.py:164\u001b[0m, in \u001b[0;36mSrLinux.set_config\u001b[0;34m(self, input, op, dry_run)\u001b[0m\n\u001b[1;32m    162\u001b[0m         paths\u001b[38;5;241m.\u001b[39mappend((p, v))\n\u001b[1;32m    163\u001b[0m \u001b[38;5;28;01mif\u001b[39;00m op \u001b[38;5;241m==\u001b[39m \u001b[38;5;124m'\u001b[39m\u001b[38;5;124mupdate\u001b[39m\u001b[38;5;124m'\u001b[39m:\n\u001b[0;32m--> 164\u001b[0m     r \u001b[38;5;241m=\u001b[39m \u001b[38;5;28;43mself\u001b[39;49m\u001b[38;5;241;43m.\u001b[39;49m\u001b[43m_connection\u001b[49m\u001b[38;5;241;43m.\u001b[39;49m\u001b[43mset\u001b[49m\u001b[43m(\u001b[49m\u001b[43mupdate\u001b[49m\u001b[38;5;241;43m=\u001b[39;49m\u001b[43mpaths\u001b[49m\u001b[43m,\u001b[49m\u001b[43m \u001b[49m\u001b[43mencoding\u001b[49m\u001b[38;5;241;43m=\u001b[39;49m\u001b[38;5;124;43m'\u001b[39;49m\u001b[38;5;124;43mjson_ietf\u001b[39;49m\u001b[38;5;124;43m'\u001b[39;49m\u001b[43m)\u001b[49m\n\u001b[1;32m    165\u001b[0m \u001b[38;5;28;01melif\u001b[39;00m op \u001b[38;5;241m==\u001b[39m \u001b[38;5;124m'\u001b[39m\u001b[38;5;124mreplace\u001b[39m\u001b[38;5;124m'\u001b[39m:\n\u001b[1;32m    166\u001b[0m     r \u001b[38;5;241m=\u001b[39m \u001b[38;5;28mself\u001b[39m\u001b[38;5;241m.\u001b[39m_connection\u001b[38;5;241m.\u001b[39mset(replace\u001b[38;5;241m=\u001b[39mpaths, encoding\u001b[38;5;241m=\u001b[39m\u001b[38;5;124m'\u001b[39m\u001b[38;5;124mjson_ietf\u001b[39m\u001b[38;5;124m'\u001b[39m)\n",
      "File \u001b[0;32m~/nornir_srl/.venv/lib/python3.8/site-packages/pygnmi/client.py:621\u001b[0m, in \u001b[0;36mgNMIclient.set\u001b[0;34m(self, delete, replace, update, encoding, prefix, target)\u001b[0m\n\u001b[1;32m    619\u001b[0m \u001b[38;5;28;01mexcept\u001b[39;00m grpc\u001b[38;5;241m.\u001b[39m_channel\u001b[38;5;241m.\u001b[39m_InactiveRpcError \u001b[38;5;28;01mas\u001b[39;00m err:\n\u001b[1;32m    620\u001b[0m     logger\u001b[38;5;241m.\u001b[39mcritical(\u001b[38;5;124mf\u001b[39m\u001b[38;5;124m\"\u001b[39m\u001b[38;5;124mGRPC ERROR Host: \u001b[39m\u001b[38;5;132;01m{\u001b[39;00m\u001b[38;5;28mself\u001b[39m\u001b[38;5;241m.\u001b[39m__target_path\u001b[38;5;132;01m}\u001b[39;00m\u001b[38;5;124m, Error: \u001b[39m\u001b[38;5;132;01m{\u001b[39;00merr\u001b[38;5;241m.\u001b[39mdetails()\u001b[38;5;132;01m}\u001b[39;00m\u001b[38;5;124m\"\u001b[39m)\n\u001b[0;32m--> 621\u001b[0m     \u001b[38;5;28;01mraise\u001b[39;00m gNMIException(\u001b[38;5;124mf\u001b[39m\u001b[38;5;124m\"\u001b[39m\u001b[38;5;124mGRPC ERROR Host: \u001b[39m\u001b[38;5;132;01m{\u001b[39;00m\u001b[38;5;28mself\u001b[39m\u001b[38;5;241m.\u001b[39m__target_path\u001b[38;5;132;01m}\u001b[39;00m\u001b[38;5;124m, Error: \u001b[39m\u001b[38;5;132;01m{\u001b[39;00merr\u001b[38;5;241m.\u001b[39mdetails()\u001b[38;5;132;01m}\u001b[39;00m\u001b[38;5;124m\"\u001b[39m, err)\n\u001b[1;32m    622\u001b[0m \u001b[38;5;28;01mexcept\u001b[39;00m \u001b[38;5;167;01mException\u001b[39;00m \u001b[38;5;28;01mas\u001b[39;00m e:\n\u001b[1;32m    623\u001b[0m     logger\u001b[38;5;241m.\u001b[39merror(\u001b[38;5;124m\"\u001b[39m\u001b[38;5;124mSet failed: \u001b[39m\u001b[38;5;132;01m%s\u001b[39;00m\u001b[38;5;124m\"\u001b[39m, e)\n",
      "\u001b[0;31mgNMIException\u001b[0m: GRPC ERROR Host: clab-4l2s-l1:57400, Error: Schema leaf '/interface/subinterface/ipv4/address/ip-prefix' could not parse json element value '192.168.666.3/31': Invalid value \"192.168.666.3/31\": Must match the pattern '(([0-9]|[1-9][0-9]|1[0-9][0-9]|2[0-4][0-9]|25[0-5])\\.){3}([0-9]|[1-9][0-9]|1[0-9][0-9]|2[0-4][0-9]|25[0-5])/(([0-9])|([1-2][0-9])|(3[0-2]))': Parse error on line 1: {\"description\": \"new description\", \"admin-state\": \"enable\", \"...\nInput:\n'{\"description\": \"new description\", \"admin-state\": \"enable\", \"subinterface\": [{\"index\": 0, \"admin-state\": \"enable\", \"ipv4\": {\"address\": [{\"ip-prefix\": \"192.168.666.3/31\"}]}}]}'"
     ]
    }
   ],
   "source": [
    "print(d.set_config(input=i, dry_run=False))"
   ]
  },
  {
   "cell_type": "code",
   "execution_count": 74,
   "id": "a2dc7bec",
   "metadata": {},
   "outputs": [
    {
     "name": "stdout",
     "output_type": "stream",
     "text": [
      "--- device\n",
      "+++ new\n",
      "@@ -9,7 +9,7 @@\n",
      "         \"ipv4\": {\n",
      "           \"address\": [\n",
      "             {\n",
      "-              \"ip-prefix\": \"192.168.0.3/31\"\n",
      "+              \"ip-prefix\": \"192.168.666.3/31\"\n",
      "             }\n",
      "           ]\n",
      "         }\n",
      "\u001b[0m\n",
      "\u001b[0m"
     ]
    }
   ],
   "source": [
    "print(d.set_config(input=i, dry_run=True))"
   ]
  },
  {
   "cell_type": "code",
   "execution_count": null,
   "id": "03d40d76",
   "metadata": {},
   "outputs": [],
   "source": []
  },
  {
   "cell_type": "code",
   "execution_count": null,
   "id": "a55965f1",
   "metadata": {},
   "outputs": [],
   "source": []
  },
  {
   "cell_type": "code",
   "execution_count": 66,
   "id": "e8d91112",
   "metadata": {},
   "outputs": [
    {
     "data": {
      "text/plain": [
       "'\\n- interface[name=ethernet-1/48]:\\n    description: new description\\n    admin-state: enable\\n    subinterface:\\n    - index: 0\\n      admin-state: enable\\n      ipv4:\\n        address:\\n        - ip-prefix: 192.168.0.3/31'"
      ]
     },
     "execution_count": 66,
     "metadata": {},
     "output_type": "execute_result"
    }
   ],
   "source": [
    "s"
   ]
  },
  {
   "cell_type": "code",
   "execution_count": 67,
   "id": "ba3ba615",
   "metadata": {},
   "outputs": [],
   "source": [
    "i = yaml.load(s)"
   ]
  },
  {
   "cell_type": "code",
   "execution_count": 68,
   "id": "ad35dcd7",
   "metadata": {},
   "outputs": [
    {
     "data": {
      "text/plain": [
       "[ordereddict([('interface[name=ethernet-1/48]', ordereddict([('description', 'new description'), ('admin-state', 'enable'), ('subinterface', [ordereddict([('index', 0), ('admin-state', 'enable'), ('ipv4', ordereddict([('address', [ordereddict([('ip-prefix', '192.168.0.3/31')])])]))])])]))])]"
      ]
     },
     "execution_count": 68,
     "metadata": {},
     "output_type": "execute_result"
    }
   ],
   "source": [
    "i"
   ]
  },
  {
   "cell_type": "code",
   "execution_count": null,
   "id": "b8e5eba8",
   "metadata": {},
   "outputs": [],
   "source": []
  },
  {
   "cell_type": "code",
   "execution_count": null,
   "id": "f64c98d4",
   "metadata": {},
   "outputs": [],
   "source": []
  },
  {
   "cell_type": "code",
   "execution_count": null,
   "id": "57cc91ca",
   "metadata": {},
   "outputs": [],
   "source": []
  },
  {
   "cell_type": "code",
   "execution_count": null,
   "id": "6b8ef389",
   "metadata": {},
   "outputs": [],
   "source": []
  },
  {
   "cell_type": "code",
   "execution_count": null,
   "id": "d49be373",
   "metadata": {},
   "outputs": [],
   "source": []
  },
  {
   "cell_type": "code",
   "execution_count": null,
   "id": "d0ff27c6",
   "metadata": {},
   "outputs": [],
   "source": []
  },
  {
   "cell_type": "code",
   "execution_count": null,
   "id": "e962f10a",
   "metadata": {},
   "outputs": [],
   "source": []
  },
  {
   "cell_type": "code",
   "execution_count": null,
   "id": "50d8d0a6",
   "metadata": {},
   "outputs": [],
   "source": []
  },
  {
   "cell_type": "code",
   "execution_count": null,
   "id": "9b0b9bed",
   "metadata": {},
   "outputs": [],
   "source": []
  },
  {
   "cell_type": "code",
   "execution_count": 38,
   "id": "c197e5e9",
   "metadata": {},
   "outputs": [
    {
     "data": {
      "text/plain": [
       "[{'ip-prefix': '192.168.0.3/31'}]"
      ]
     },
     "execution_count": 38,
     "metadata": {},
     "output_type": "execute_result"
    }
   ],
   "source": [
    "i[0]['interface[name=ethernet-1/48]']['subinterface'][0]['ipv4']['address']"
   ]
  },
  {
   "cell_type": "code",
   "execution_count": 39,
   "id": "ce8d1a0f",
   "metadata": {},
   "outputs": [],
   "source": [
    "i[0]['interface[name=ethernet-1/48]']['subinterface'][0]['ipv4']['address'] = '192.666.0.3/31'"
   ]
  },
  {
   "cell_type": "code",
   "execution_count": 41,
   "id": "9213db00",
   "metadata": {},
   "outputs": [
    {
     "name": "stdout",
     "output_type": "stream",
     "text": [
      "--- device\n",
      "+++ new\n",
      "@@ -7,11 +7,7 @@\n",
      "         \"index\": 0,\n",
      "         \"admin-state\": \"enable\",\n",
      "         \"ipv4\": {\n",
      "-          \"address\": [\n",
      "-            {\n",
      "-              \"ip-prefix\": \"192.168.0.3/31\"\n",
      "-            }\n",
      "-          ]\n",
      "+          \"address\": \"192.666.0.3/31\"\n",
      "         }\n",
      "       }\n",
      "     ]\n",
      "\u001b[0m\n",
      "\u001b[0m"
     ]
    }
   ],
   "source": [
    "print(d.set_config(input=i, dry_run=True))"
   ]
  },
  {
   "cell_type": "code",
   "execution_count": 42,
   "id": "33682bf4",
   "metadata": {},
   "outputs": [
    {
     "name": "stdout",
     "output_type": "stream",
     "text": [
      "GRPC ERROR Host: clab-4l2s-l1:57400, Error: Schema '/interface/subinterface/ipv4' has no local leaf with the name 'address'. Options are [allow-directed-broadcast]: Parse error on line 1: {\"description\": \"new description\", \"admin-state\": \"enable\", \"...\n",
      "Input:\n",
      "'{\"description\": \"new description\", \"admin-state\": \"enable\", \"subinterface\": [{\"index\": 0, \"admin-state\": \"enable\", \"ipv4\": {\"address\": \"192.666.0.3/31\"}}]}'\n",
      "\u001b[0m"
     ]
    },
    {
     "ename": "gNMIException",
     "evalue": "GRPC ERROR Host: clab-4l2s-l1:57400, Error: Schema '/interface/subinterface/ipv4' has no local leaf with the name 'address'. Options are [allow-directed-broadcast]: Parse error on line 1: {\"description\": \"new description\", \"admin-state\": \"enable\", \"...\nInput:\n'{\"description\": \"new description\", \"admin-state\": \"enable\", \"subinterface\": [{\"index\": 0, \"admin-state\": \"enable\", \"ipv4\": {\"address\": \"192.666.0.3/31\"}}]}'",
     "output_type": "error",
     "traceback": [
      "\u001b[0;31m---------------------------------------------------------------------------\u001b[0m",
      "\u001b[0;31m_InactiveRpcError\u001b[0m                         Traceback (most recent call last)",
      "File \u001b[0;32m~/nornir_srl/.venv/lib/python3.8/site-packages/pygnmi/client.py:563\u001b[0m, in \u001b[0;36mgNMIclient.set\u001b[0;34m(self, delete, replace, update, encoding, prefix, target)\u001b[0m\n\u001b[1;32m    561\u001b[0m debug_gnmi_msg(\u001b[38;5;28mself\u001b[39m\u001b[38;5;241m.\u001b[39m__debug, gnmi_message_request, \u001b[38;5;124m\"\u001b[39m\u001b[38;5;124mgNMI request\u001b[39m\u001b[38;5;124m\"\u001b[39m)\n\u001b[0;32m--> 563\u001b[0m gnmi_message_response \u001b[38;5;241m=\u001b[39m \u001b[38;5;28;43mself\u001b[39;49m\u001b[38;5;241;43m.\u001b[39;49m\u001b[43m__stub\u001b[49m\u001b[38;5;241;43m.\u001b[39;49m\u001b[43mSet\u001b[49m\u001b[43m(\u001b[49m\u001b[43mgnmi_message_request\u001b[49m\u001b[43m,\u001b[49m\u001b[43m \u001b[49m\u001b[43mmetadata\u001b[49m\u001b[38;5;241;43m=\u001b[39;49m\u001b[38;5;28;43mself\u001b[39;49m\u001b[38;5;241;43m.\u001b[39;49m\u001b[43m__metadata\u001b[49m\u001b[43m)\u001b[49m\n\u001b[1;32m    564\u001b[0m debug_gnmi_msg(\u001b[38;5;28mself\u001b[39m\u001b[38;5;241m.\u001b[39m__debug, gnmi_message_response, \u001b[38;5;124m\"\u001b[39m\u001b[38;5;124mgNMI response\u001b[39m\u001b[38;5;124m\"\u001b[39m)\n",
      "File \u001b[0;32m~/nornir_srl/.venv/lib/python3.8/site-packages/grpc/_channel.py:946\u001b[0m, in \u001b[0;36m_UnaryUnaryMultiCallable.__call__\u001b[0;34m(self, request, timeout, metadata, credentials, wait_for_ready, compression)\u001b[0m\n\u001b[1;32m    944\u001b[0m state, call, \u001b[38;5;241m=\u001b[39m \u001b[38;5;28mself\u001b[39m\u001b[38;5;241m.\u001b[39m_blocking(request, timeout, metadata, credentials,\n\u001b[1;32m    945\u001b[0m                               wait_for_ready, compression)\n\u001b[0;32m--> 946\u001b[0m \u001b[38;5;28;01mreturn\u001b[39;00m \u001b[43m_end_unary_response_blocking\u001b[49m\u001b[43m(\u001b[49m\u001b[43mstate\u001b[49m\u001b[43m,\u001b[49m\u001b[43m \u001b[49m\u001b[43mcall\u001b[49m\u001b[43m,\u001b[49m\u001b[43m \u001b[49m\u001b[38;5;28;43;01mFalse\u001b[39;49;00m\u001b[43m,\u001b[49m\u001b[43m \u001b[49m\u001b[38;5;28;43;01mNone\u001b[39;49;00m\u001b[43m)\u001b[49m\n",
      "File \u001b[0;32m~/nornir_srl/.venv/lib/python3.8/site-packages/grpc/_channel.py:849\u001b[0m, in \u001b[0;36m_end_unary_response_blocking\u001b[0;34m(state, call, with_call, deadline)\u001b[0m\n\u001b[1;32m    848\u001b[0m \u001b[38;5;28;01melse\u001b[39;00m:\n\u001b[0;32m--> 849\u001b[0m     \u001b[38;5;28;01mraise\u001b[39;00m _InactiveRpcError(state)\n",
      "\u001b[0;31m_InactiveRpcError\u001b[0m: <_InactiveRpcError of RPC that terminated with:\n\tstatus = StatusCode.NOT_FOUND\n\tdetails = \"Schema '/interface/subinterface/ipv4' has no local leaf with the name 'address'. Options are [allow-directed-broadcast]: Parse error on line 1: {\"description\": \"new description\", \"admin-state\": \"enable\", \"...\nInput:\n'{\"description\": \"new description\", \"admin-state\": \"enable\", \"subinterface\": [{\"index\": 0, \"admin-state\": \"enable\", \"ipv4\": {\"address\": \"192.666.0.3/31\"}}]}'\"\n\tdebug_error_string = \"UNKNOWN:Error received from peer ipv4:172.20.21.11:57400 {grpc_message:\"Schema \\'/interface/subinterface/ipv4\\' has no local leaf with the name \\'address\\'. Options are [allow-directed-broadcast]: Parse error on line 1: {\\\"description\\\": \\\"new description\\\", \\\"admin-state\\\": \\\"enable\\\", \\\"...\\nInput:\\n\\'{\\\"description\\\": \\\"new description\\\", \\\"admin-state\\\": \\\"enable\\\", \\\"subinterface\\\": [{\\\"index\\\": 0, \\\"admin-state\\\": \\\"enable\\\", \\\"ipv4\\\": {\\\"address\\\": \\\"192.666.0.3/31\\\"}}]}\\'\", grpc_status:5, created_time:\"2022-10-24T15:53:05.618161704+00:00\"}\"\n>",
      "\nDuring handling of the above exception, another exception occurred:\n",
      "\u001b[0;31mgNMIException\u001b[0m                             Traceback (most recent call last)",
      "Cell \u001b[0;32mIn [42], line 1\u001b[0m\n\u001b[0;32m----> 1\u001b[0m \u001b[38;5;28mprint\u001b[39m(\u001b[43md\u001b[49m\u001b[38;5;241;43m.\u001b[39;49m\u001b[43mset_config\u001b[49m\u001b[43m(\u001b[49m\u001b[38;5;28;43minput\u001b[39;49m\u001b[38;5;241;43m=\u001b[39;49m\u001b[43mi\u001b[49m\u001b[43m,\u001b[49m\u001b[43m \u001b[49m\u001b[43mdry_run\u001b[49m\u001b[38;5;241;43m=\u001b[39;49m\u001b[38;5;28;43;01mFalse\u001b[39;49;00m\u001b[43m)\u001b[49m)\n",
      "File \u001b[0;32m~/nornir_srl/nornir_srl/connections/srlinux.py:164\u001b[0m, in \u001b[0;36mSrLinux.set_config\u001b[0;34m(self, input, op, dry_run)\u001b[0m\n\u001b[1;32m    162\u001b[0m         paths\u001b[38;5;241m.\u001b[39mappend((p, v))\n\u001b[1;32m    163\u001b[0m \u001b[38;5;28;01mif\u001b[39;00m op \u001b[38;5;241m==\u001b[39m \u001b[38;5;124m'\u001b[39m\u001b[38;5;124mupdate\u001b[39m\u001b[38;5;124m'\u001b[39m:\n\u001b[0;32m--> 164\u001b[0m     r \u001b[38;5;241m=\u001b[39m \u001b[38;5;28;43mself\u001b[39;49m\u001b[38;5;241;43m.\u001b[39;49m\u001b[43m_connection\u001b[49m\u001b[38;5;241;43m.\u001b[39;49m\u001b[43mset\u001b[49m\u001b[43m(\u001b[49m\u001b[43mupdate\u001b[49m\u001b[38;5;241;43m=\u001b[39;49m\u001b[43mpaths\u001b[49m\u001b[43m,\u001b[49m\u001b[43m \u001b[49m\u001b[43mencoding\u001b[49m\u001b[38;5;241;43m=\u001b[39;49m\u001b[38;5;124;43m'\u001b[39;49m\u001b[38;5;124;43mjson_ietf\u001b[39;49m\u001b[38;5;124;43m'\u001b[39;49m\u001b[43m)\u001b[49m\n\u001b[1;32m    165\u001b[0m \u001b[38;5;28;01melif\u001b[39;00m op \u001b[38;5;241m==\u001b[39m \u001b[38;5;124m'\u001b[39m\u001b[38;5;124mreplace\u001b[39m\u001b[38;5;124m'\u001b[39m:\n\u001b[1;32m    166\u001b[0m     r \u001b[38;5;241m=\u001b[39m \u001b[38;5;28mself\u001b[39m\u001b[38;5;241m.\u001b[39m_connection\u001b[38;5;241m.\u001b[39mset(replace\u001b[38;5;241m=\u001b[39mpaths, encoding\u001b[38;5;241m=\u001b[39m\u001b[38;5;124m'\u001b[39m\u001b[38;5;124mjson_ietf\u001b[39m\u001b[38;5;124m'\u001b[39m)\n",
      "File \u001b[0;32m~/nornir_srl/.venv/lib/python3.8/site-packages/pygnmi/client.py:621\u001b[0m, in \u001b[0;36mgNMIclient.set\u001b[0;34m(self, delete, replace, update, encoding, prefix, target)\u001b[0m\n\u001b[1;32m    619\u001b[0m \u001b[38;5;28;01mexcept\u001b[39;00m grpc\u001b[38;5;241m.\u001b[39m_channel\u001b[38;5;241m.\u001b[39m_InactiveRpcError \u001b[38;5;28;01mas\u001b[39;00m err:\n\u001b[1;32m    620\u001b[0m     logger\u001b[38;5;241m.\u001b[39mcritical(\u001b[38;5;124mf\u001b[39m\u001b[38;5;124m\"\u001b[39m\u001b[38;5;124mGRPC ERROR Host: \u001b[39m\u001b[38;5;132;01m{\u001b[39;00m\u001b[38;5;28mself\u001b[39m\u001b[38;5;241m.\u001b[39m__target_path\u001b[38;5;132;01m}\u001b[39;00m\u001b[38;5;124m, Error: \u001b[39m\u001b[38;5;132;01m{\u001b[39;00merr\u001b[38;5;241m.\u001b[39mdetails()\u001b[38;5;132;01m}\u001b[39;00m\u001b[38;5;124m\"\u001b[39m)\n\u001b[0;32m--> 621\u001b[0m     \u001b[38;5;28;01mraise\u001b[39;00m gNMIException(\u001b[38;5;124mf\u001b[39m\u001b[38;5;124m\"\u001b[39m\u001b[38;5;124mGRPC ERROR Host: \u001b[39m\u001b[38;5;132;01m{\u001b[39;00m\u001b[38;5;28mself\u001b[39m\u001b[38;5;241m.\u001b[39m__target_path\u001b[38;5;132;01m}\u001b[39;00m\u001b[38;5;124m, Error: \u001b[39m\u001b[38;5;132;01m{\u001b[39;00merr\u001b[38;5;241m.\u001b[39mdetails()\u001b[38;5;132;01m}\u001b[39;00m\u001b[38;5;124m\"\u001b[39m, err)\n\u001b[1;32m    622\u001b[0m \u001b[38;5;28;01mexcept\u001b[39;00m \u001b[38;5;167;01mException\u001b[39;00m \u001b[38;5;28;01mas\u001b[39;00m e:\n\u001b[1;32m    623\u001b[0m     logger\u001b[38;5;241m.\u001b[39merror(\u001b[38;5;124m\"\u001b[39m\u001b[38;5;124mSet failed: \u001b[39m\u001b[38;5;132;01m%s\u001b[39;00m\u001b[38;5;124m\"\u001b[39m, e)\n",
      "\u001b[0;31mgNMIException\u001b[0m: GRPC ERROR Host: clab-4l2s-l1:57400, Error: Schema '/interface/subinterface/ipv4' has no local leaf with the name 'address'. Options are [allow-directed-broadcast]: Parse error on line 1: {\"description\": \"new description\", \"admin-state\": \"enable\", \"...\nInput:\n'{\"description\": \"new description\", \"admin-state\": \"enable\", \"subinterface\": [{\"index\": 0, \"admin-state\": \"enable\", \"ipv4\": {\"address\": \"192.666.0.3/31\"}}]}'"
     ]
    }
   ],
   "source": [
    "print(d.set_config(input=i, dry_run=False))"
   ]
  },
  {
   "cell_type": "code",
   "execution_count": null,
   "id": "f1b8cd5a",
   "metadata": {},
   "outputs": [],
   "source": []
  },
  {
   "cell_type": "code",
   "execution_count": null,
   "id": "f7dfbf68",
   "metadata": {},
   "outputs": [],
   "source": []
  },
  {
   "cell_type": "code",
   "execution_count": null,
   "id": "4f2c252c",
   "metadata": {},
   "outputs": [],
   "source": []
  },
  {
   "cell_type": "code",
   "execution_count": null,
   "id": "1a835374",
   "metadata": {},
   "outputs": [],
   "source": []
  },
  {
   "cell_type": "code",
   "execution_count": null,
   "id": "b4fe3cdc",
   "metadata": {},
   "outputs": [],
   "source": [
    "\n"
   ]
  }
 ],
 "metadata": {
  "kernelspec": {
   "display_name": "Python 3 (ipykernel)",
   "language": "python",
   "name": "python3"
  },
  "language_info": {
   "codemirror_mode": {
    "name": "ipython",
    "version": 3
   },
   "file_extension": ".py",
   "mimetype": "text/x-python",
   "name": "python",
   "nbconvert_exporter": "python",
   "pygments_lexer": "ipython3",
   "version": "3.8.10"
  }
 },
 "nbformat": 4,
 "nbformat_minor": 5
}
