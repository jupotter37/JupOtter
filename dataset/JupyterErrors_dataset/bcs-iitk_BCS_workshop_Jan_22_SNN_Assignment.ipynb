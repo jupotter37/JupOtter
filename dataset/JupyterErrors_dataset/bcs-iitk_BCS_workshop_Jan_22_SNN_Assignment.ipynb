{
  "nbformat": 4,
  "nbformat_minor": 0,
  "metadata": {
    "colab": {
      "name": "SNN_Assignment.ipynb",
      "provenance": [],
      "collapsed_sections": []
    },
    "kernelspec": {
      "name": "python3",
      "display_name": "Python 3"
    },
    "language_info": {
      "name": "python"
    }
  },
  "cells": [
    {
      "cell_type": "markdown",
      "source": [
        "# **Spiking Neural Networks Assignment**"
      ],
      "metadata": {
        "id": "UkpSPNl7u7ll"
      }
    },
    {
      "cell_type": "markdown",
      "source": [
        "This is an assignment covering the basics of Spiking Neural Networks. In SNNs, if a neuron’s value surpasses a certain threshold, the neuron will “Spike” and send a single impulse to each downstream neuron connected to the first one. SNNs are resource efficient alternatives to artificial neural networks: able to function with fewer neurons and usually being much faster. They are also dynamic and can train while working, providing an edge in dynamic tasks like speech identification. \n",
        "\n",
        "We will start off by simulating a single spiking neuron, and then slowly increase the complexity of our simulation. Then we will introduce synapses and visualize them.\n",
        "\n",
        "For simulations, we will be using the brian2 python library. "
      ],
      "metadata": {
        "id": "T6UMubq_vF34"
      }
    },
    {
      "cell_type": "code",
      "source": [
        "!pip install brian2\n",
        "!pip install --upgrade numpy"
      ],
      "metadata": {
        "id": "G7YHCKwtxtyF",
        "colab": {
          "base_uri": "https://localhost:8080/",
          "height": 592
        },
        "outputId": "87b0f831-2639-42ea-ce48-d302e8ad3f38"
      },
      "execution_count": null,
      "outputs": [
        {
          "output_type": "stream",
          "name": "stdout",
          "text": [
            "Collecting brian2\n",
            "  Downloading Brian2-2.5.0.2-cp37-cp37m-manylinux_2_17_x86_64.manylinux2014_x86_64.whl (1.5 MB)\n",
            "\u001b[K     |████████████████████████████████| 1.5 MB 5.1 MB/s \n",
            "\u001b[?25hRequirement already satisfied: sympy>=1.2 in /usr/local/lib/python3.7/dist-packages (from brian2) (1.7.1)\n",
            "Requirement already satisfied: jinja2>=2.7 in /usr/local/lib/python3.7/dist-packages (from brian2) (2.11.3)\n",
            "Requirement already satisfied: cython>=0.29 in /usr/local/lib/python3.7/dist-packages (from brian2) (0.29.26)\n",
            "Requirement already satisfied: numpy>=1.17 in /usr/local/lib/python3.7/dist-packages (from brian2) (1.19.5)\n",
            "Requirement already satisfied: pyparsing in /usr/local/lib/python3.7/dist-packages (from brian2) (3.0.6)\n",
            "Requirement already satisfied: setuptools>=24.2 in /usr/local/lib/python3.7/dist-packages (from brian2) (57.4.0)\n",
            "Requirement already satisfied: MarkupSafe>=0.23 in /usr/local/lib/python3.7/dist-packages (from jinja2>=2.7->brian2) (2.0.1)\n",
            "Requirement already satisfied: mpmath>=0.19 in /usr/local/lib/python3.7/dist-packages (from sympy>=1.2->brian2) (1.2.1)\n",
            "Installing collected packages: brian2\n",
            "Successfully installed brian2-2.5.0.2\n",
            "Requirement already satisfied: numpy in /usr/local/lib/python3.7/dist-packages (1.19.5)\n",
            "Collecting numpy\n",
            "  Downloading numpy-1.21.5-cp37-cp37m-manylinux_2_12_x86_64.manylinux2010_x86_64.whl (15.7 MB)\n",
            "\u001b[K     |████████████████████████████████| 15.7 MB 5.1 MB/s \n",
            "\u001b[?25hInstalling collected packages: numpy\n",
            "  Attempting uninstall: numpy\n",
            "    Found existing installation: numpy 1.19.5\n",
            "    Uninstalling numpy-1.19.5:\n",
            "      Successfully uninstalled numpy-1.19.5\n",
            "\u001b[31mERROR: pip's dependency resolver does not currently take into account all the packages that are installed. This behaviour is the source of the following dependency conflicts.\n",
            "yellowbrick 1.3.post1 requires numpy<1.20,>=1.16.0, but you have numpy 1.21.5 which is incompatible.\n",
            "datascience 0.10.6 requires folium==0.2.1, but you have folium 0.8.3 which is incompatible.\n",
            "albumentations 0.1.12 requires imgaug<0.2.7,>=0.2.5, but you have imgaug 0.2.9 which is incompatible.\u001b[0m\n",
            "Successfully installed numpy-1.21.5\n"
          ]
        },
        {
          "output_type": "display_data",
          "data": {
            "application/vnd.colab-display-data+json": {
              "pip_warning": {
                "packages": [
                  "numpy"
                ]
              }
            }
          },
          "metadata": {}
        }
      ]
    },
    {
      "cell_type": "code",
      "source": [
        "# Run this cell to import the necessary libraries.\n",
        "import brian2\n",
        "from brian2 import *\n",
        "%matplotlib inline"
      ],
      "metadata": {
        "id": "Owu7kE4WQ972"
      },
      "execution_count": null,
      "outputs": []
    },
    {
      "cell_type": "markdown",
      "source": [
        "### **Simulation of a Single Spiking Neuron**"
      ],
      "metadata": {
        "id": "lEnOG_xyuB1j"
      }
    },
    {
      "cell_type": "markdown",
      "source": [
        "In this section, we will be simulating a simple, single spiking Neuron using brian2. Our neuron will be governed by a basic differential equation given by;\n",
        "\n",
        "\\begin{align*}\n",
        "\\\\\n",
        "&\\,\\frac{d}{dt}\\,V(t) = (1 - V(t))/\\tau  \n",
        " &\\\\\n",
        "\\\\\n",
        "\\end{align*}\n",
        "Where V(t) is the voltage of a neuron at any time t. Upon integration, we get that;\n",
        "\\begin{align*}\n",
        "\\\\\n",
        "&V(t) = 1 - exp(-t/\\tau)\n",
        " &\\\\\n",
        "\\\\\n",
        "\\end{align*}\n",
        "Clearly, according to the above equation you should see that V(t) starts from 0 and tends towards 1 as time progresses.\n",
        "To add the spiking feature, we would set a threshold value. \n",
        "\n",
        "Your task is to fill in the blanks in the code cell below and run it. You should see a graph of voltage of the neuron vs time.\n",
        "\n",
        "\n",
        "\n",
        "\n"
      ],
      "metadata": {
        "id": "-MEILmdMwTax"
      }
    },
    {
      "cell_type": "code",
      "source": [
        "tau = 10*ms\n",
        "# Fill the differential equation defining the neuron in the blank\n",
        "eqs = '_______ : 1'\n",
        "num_neurons=1\n",
        "\n",
        "#This is our group of Neurons. We can define various parameters of our simulation here.\n",
        "#The threshold defines the condition for which the neurons will spike. Try adjusting the values and see how it affects the graph\n",
        "#The reset attribute defines what happens after a neuron spikes.\n",
        "\n",
        "G = NeuronGroup(num_neurons, eqs, threshold='v>0.8', reset='v = 0', method='exact')\n",
        "\n",
        "#The StateMonitor function stores a record of the values of the Neuron during the simulation.\n",
        "#Record is set to 0 because we want to record the values of the 1st neuron.\n",
        "statemon = StateMonitor(G, 'v', record=0)\n",
        "\n",
        "#The SpikeMonitor functions records the times at which the neuron spikes\n",
        "spikemon = SpikeMonitor(G)\n",
        "\n",
        "run(50*ms) #Run the simulation for 50 ms.\n",
        "time_stamps=statemon.t/ms \n",
        "voltages=statemon.v[0]\n",
        "\n",
        "\n",
        "#Now, plot the voltage of the neuron with time, with the spikes marked with a yellow vertical line.\n",
        "plot(______, _______)\n",
        "for t in spikemon.t:\n",
        "    axvline(t/ms, ls='--', c='C1', lw=3)\n",
        "xlabel('Time (ms)')\n",
        "ylabel('v');"
      ],
      "metadata": {
        "id": "39iAFYAbx7Jv",
        "colab": {
          "base_uri": "https://localhost:8080/",
          "height": 148
        },
        "outputId": "cada6893-929c-43bf-b971-cc09fcd4ee6e"
      },
      "execution_count": null,
      "outputs": [
        {
          "output_type": "error",
          "ename": "SyntaxError",
          "evalue": "ignored",
          "traceback": [
            "\u001b[0;36m  File \u001b[0;32m\"<string>\"\u001b[0;36m, line \u001b[0;32munknown\u001b[0m\n\u001b[0;31mSyntaxError\u001b[0m\u001b[0;31m:\u001b[0m Variable '_______' starts with an underscore, this is only allowed for variables used internally\n"
          ]
        }
      ]
    },
    {
      "cell_type": "markdown",
      "source": [
        "You are encouraged to play around with the parameter values to see how it affects the graph. Also, try changing the differential equation governing our neuron."
      ],
      "metadata": {
        "id": "mjKK2yk68wR7"
      }
    },
    {
      "cell_type": "markdown",
      "source": [
        "### **Simulation of Multiple Spiking Neurons**"
      ],
      "metadata": {
        "id": "FqjLS60SuYXx"
      }
    },
    {
      "cell_type": "markdown",
      "source": [
        "Now, lets add some complexity to our model. We will increase the number of neurons and add a delay to the spikes, with parameters varying for each neuron. This time, our differential equation will be as follows:\n",
        "\n",
        "\\begin{align*}\n",
        "\\\\\n",
        "&\\,\\frac{d}{dt}\\,V(t) = (V_o - V(t))/\\tau  \n",
        " &\\\\\n",
        "\\\\\n",
        "\\end{align*}\n",
        "where V_not is a parameter different for each neuron. For the ith neuron, V_not varies as:\n",
        "\\begin{align*}\n",
        "\\\\\n",
        "&\\\\V_o = i*max(V_o)/(N-1)\n",
        " &\\\\\n",
        "\\\\\n",
        "\\end{align*}\n",
        "where max(V_not) is a predefined constant and N is the number of neurons in our model. \n",
        "\n",
        "Fill in the code below to run a simulation for1000ms, involving 100 neurons. Set tau to be 10 milliseconds, and the threshold to be v>1. Make sure that you use the differential equations defined above.\n",
        "\n",
        "\n"
      ],
      "metadata": {
        "id": "agWXdolQ_r4C"
      }
    },
    {
      "cell_type": "code",
      "source": [
        "start_scope() \n",
        "\n",
        "#Fill in these variables as instructed above.\n",
        "num_neurons = ______\n",
        "tau = ____\n",
        "v0_max = 3.\n",
        "duration = ______\n",
        "\n",
        "#Fill in the new differential equation governing our Neuron Group\n",
        "eqs = '''\n",
        "_____________: 1 (unless refractory)\n",
        "v0 : 1\n",
        "'''\n",
        "\n",
        "#Fill in the threshold and reset conditions as instructed\n",
        "#Here we see a new parameter called refractory. This is the delay period after a spike has occured.\n",
        "G = NeuronGroup(num_neurons, eqs, threshold='v>0.8', reset='v=0', refractory=5*ms, method='exact')\n",
        "spikemon= SpikeMonitor(G)\n",
        "\n",
        "#Fill in the formula for the value of V_not for the ith Neuron\n",
        "G.v0 = '_______'\n",
        "\n",
        "run(duration)\n",
        "\n",
        "#Plot the graphs\n",
        "figure(figsize=(12,4))\n",
        "subplot(121)\n",
        "plot(spikemon.t/ms, spikemon.i, '.k')\n",
        "xlabel('Time (ms)')\n",
        "ylabel('Neuron index')\n",
        "subplot(122)\n",
        "plot(G.v0, spikemon.count/duration)\n",
        "xlabel('v0')\n",
        "ylabel('Firing rate (sp/s)');"
      ],
      "metadata": {
        "id": "Ui9bnEkMAk2v"
      },
      "execution_count": null,
      "outputs": []
    },
    {
      "cell_type": "markdown",
      "source": [
        "So in this example, we’re driving the neuron towards the value v0 exponentially, but when v crosses v>1, it fires a spike and resets. The effect is that the rate at which it fires spikes will be related to the value of v0. For v0 greater than 1 it will never fire a spike, and as v0 gets larger it will fire spikes at a higher rate. The right hand plot shows the firing rate as a function of the value of v0. This is the I-f curve of this neuron model.\n",
        "\n"
      ],
      "metadata": {
        "id": "sxBBEymcEHfn"
      }
    },
    {
      "cell_type": "markdown",
      "source": [
        "### **Simulation of Three Spiking Neurons with Synapses**"
      ],
      "metadata": {
        "id": "776zbDTUuhyo"
      }
    },
    {
      "cell_type": "markdown",
      "source": [
        "Next, we will be adding synapses to our model of the Spiking Neurons. A synapse is how two neurons communicate. In our model, a spike in one neuron will cause a change in the potential of the other neuron as well. This time, the differential equation that we will use is:\n",
        "\\begin{align*}\n",
        "\\\\\n",
        "&\\,\\frac{d}{dt}\\,V(t) = (I - V(t))/\\tau  \n",
        " &\\\\\n",
        "\\\\\n",
        "\\end{align*}\n",
        "Where I is the current through the neuron.\n",
        "What happens if the current I is 0? The voltage V, becomes negative no matter what. So, a neuron with I=0 would not fire on its own, it can only fire if there is a synapse. \n",
        "\n",
        "We want that when a neuron spikes, all the neurons connected to it experience an increment of w in voltage, where w is defined as:\n",
        "\\begin{align*}\n",
        "\\\\\n",
        "&w = j*0.2\n",
        " &\\\\\n",
        "\\\\\n",
        "\\end{align*}\n",
        "for the jth neuron.\n",
        "\n",
        "Run the code below after filling in the blanks to simulate three spiking neurons connected by synapses."
      ],
      "metadata": {
        "id": "__3Yw5NJyFe8"
      }
    },
    {
      "cell_type": "code",
      "source": [
        "start_scope()\n",
        "\n",
        "eqs = '''\n",
        "_________: 1\n",
        "I : 1\n",
        "tau : second\n",
        "'''\n",
        "\n",
        "num_neurons=3\n",
        "G = NeuronGroup(num_neurons, eqs, threshold='v>1', reset='v = 0', method='exact')\n",
        "\n",
        "#Define the I values for each neuron.\n",
        "G.I = [2, 0, 0]\n",
        "#Define the Tau values for each neuron.\n",
        "G.tau = [10, 100, 100]*ms\n",
        "\n",
        "S = Synapses(G, G, 'w : 1', on_pre='v_post += w') #This means that the second neuron's voltage increases by w when the first neuron spikes\n",
        "S.connect(i=0, j=[1, 2])#This creates a synapse from ith Neuron to jth Neurons.\n",
        "S.w = '_______'#Fill in the value for w for the jth neuron\n",
        "S.delay = 'j*2*ms' \n",
        "\n",
        "M = StateMonitor(G, 'v', record=True)\n",
        "\n",
        "run(50*ms)\n",
        "\n",
        "plot(_____, ______, label='Neuron 0') #plot voltage vs time for each neuron\n",
        "plot(_____, ______, label='Neuron 1')\n",
        "plot(_____, ______, label='Neuron 2')\n",
        "xlabel('Time (ms)')\n",
        "ylabel('v')\n",
        "legend();"
      ],
      "metadata": {
        "id": "N-tg6PYDywj6"
      },
      "execution_count": null,
      "outputs": []
    },
    {
      "cell_type": "markdown",
      "source": [
        "### **Simulation of Multiple Spiking Neurons with Synapses**"
      ],
      "metadata": {
        "id": "_gwkX3uauwDL"
      }
    },
    {
      "cell_type": "markdown",
      "source": [
        "Finally, we will be simulating multiple spiking neurons connected through synapses."
      ],
      "metadata": {
        "id": "DL1KiRYNDYbH"
      }
    },
    {
      "cell_type": "code",
      "source": [
        "start_scope()\n",
        "\n",
        "N = 10 #Number of Neurons\n",
        "G = NeuronGroup(N, 'v:1')\n",
        "S = Synapses(G, G)\n",
        "S.connect(condition='i!=j', p=0.2) #Define the condition for the ith and jth neurons to be connected, and the probability of it."
      ],
      "metadata": {
        "id": "TbMerPNNeyiv"
      },
      "execution_count": null,
      "outputs": []
    },
    {
      "cell_type": "code",
      "source": [
        "#This is a function to help visualize synapses. Run this cell as it is.\n",
        "def visualise_connectivity(S):\n",
        "    Ns = len(S.source)\n",
        "    Nt = len(S.target)\n",
        "    figure(figsize=(10, 4))\n",
        "    subplot(121)\n",
        "    plot(zeros(Ns), arange(Ns), 'ok', ms=10)\n",
        "    plot(ones(Nt), arange(Nt), 'ok', ms=10)\n",
        "    for i, j in zip(S.i, S.j):\n",
        "        plot([0, 1], [i, j], '-k')\n",
        "    xticks([0, 1], ['Source', 'Target'])\n",
        "    ylabel('Neuron index')\n",
        "    xlim(-0.1, 1.1)\n",
        "    ylim(-1, max(Ns, Nt))\n",
        "    subplot(122)\n",
        "    plot(S.i, S.j, 'ok')\n",
        "    xlim(-1, Ns)\n",
        "    ylim(-1, Nt)\n",
        "    xlabel('Source neuron index')\n",
        "    ylabel('Target neuron index')\n",
        "\n"
      ],
      "metadata": {
        "id": "pmP221qWDQTU"
      },
      "execution_count": null,
      "outputs": []
    },
    {
      "cell_type": "code",
      "source": [
        "visualise_connectivity(S)"
      ],
      "metadata": {
        "id": "gl3VhEMGDThZ",
        "colab": {
          "base_uri": "https://localhost:8080/",
          "height": 304
        },
        "outputId": "ac86a7ec-1beb-4d58-eda9-b136d1a1a56c"
      },
      "execution_count": null,
      "outputs": [
        {
          "output_type": "error",
          "ename": "NameError",
          "evalue": "ignored",
          "traceback": [
            "\u001b[0;31m---------------------------------------------------------------------------\u001b[0m",
            "\u001b[0;31mNameError\u001b[0m                                 Traceback (most recent call last)",
            "\u001b[0;32m<ipython-input-1-74c214033ca6>\u001b[0m in \u001b[0;36m<module>\u001b[0;34m()\u001b[0m\n\u001b[0;32m----> 1\u001b[0;31m \u001b[0mvisualise_connectivity\u001b[0m\u001b[0;34m(\u001b[0m\u001b[0mS\u001b[0m\u001b[0;34m)\u001b[0m\u001b[0;34m\u001b[0m\u001b[0;34m\u001b[0m\u001b[0m\n\u001b[0m",
            "\u001b[0;31mNameError\u001b[0m: name 'visualise_connectivity' is not defined"
          ]
        }
      ]
    },
    {
      "cell_type": "code",
      "source": [
        "#See how different probabilities can have different effects on the connections between Neurons.\n",
        "start_scope()\n",
        "\n",
        "N = 10\n",
        "G = NeuronGroup(N, 'v:1')\n",
        "\n",
        "for p in [0.1, 0.5, 1.0]:\n",
        "    S = Synapses(G, G)\n",
        "    S.connect(condition='i!=j', p=p)\n",
        "    visualise_connectivity(S)\n",
        "    suptitle('p = '+str(p));"
      ],
      "metadata": {
        "id": "MJ7RegdCDULW"
      },
      "execution_count": null,
      "outputs": []
    }
  ]
}