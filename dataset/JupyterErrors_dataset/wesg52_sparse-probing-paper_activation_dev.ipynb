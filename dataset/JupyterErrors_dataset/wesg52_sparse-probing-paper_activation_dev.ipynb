{
 "cells": [
  {
   "cell_type": "code",
   "execution_count": 1,
   "metadata": {},
   "outputs": [
    {
     "name": "stdout",
     "output_type": "stream",
     "text": [
      "/Users/wesgurnee/Documents/mechint/sparse_probing/sparse-probing\n"
     ]
    }
   ],
   "source": [
    "cd .."
   ]
  },
  {
   "cell_type": "code",
   "execution_count": 2,
   "metadata": {},
   "outputs": [],
   "source": [
    "!export HF_DATASETS_OFFLINE=1\n",
    "!export TRANSFORMERS_OFFLINE=1\n",
    "\n",
    "!export RESULTS_DIR=/Users/wesgurnee/Documents/mechint/sparse_probing/sparse-probing/results\n",
    "!export FEATURE_DATASET_DIR=/Users/wesgurnee/Documents/mechint/sparse_probing/sparse-probing/feature_datasets\n",
    "!export TRANSFORMERS_CACHE=/Users/wesgurnee/Documents/mechint/sparse_probing/sparse-probing/downloads\n",
    "!export HF_DATASETS_CACHE=/Users/wesgurnee/Documents/mechint/sparse_probing/sparse-probing/downloads\n",
    "!export HF_HOME=/Users/wesgurnee/Documents/mechint/sparse_probing/sparse-probing/downloads\n"
   ]
  },
  {
   "cell_type": "code",
   "execution_count": null,
   "metadata": {},
   "outputs": [],
   "source": [
    "import os\n",
    "os.environ['TRANSFORMERS_CACHE'] = '/Users/wesgurnee/Documents/mechint/sparse_probing/sparse-probing/downloads'"
   ]
  },
  {
   "cell_type": "code",
   "execution_count": null,
   "metadata": {},
   "outputs": [],
   "source": [
    "import os\n",
    "import time\n",
    "import sys\n",
    "\n",
    "import numpy as np\n",
    "import matplotlib.pyplot as plt\n",
    "\n",
    "from torch.utils.data import DataLoader, Subset\n",
    "from einops import rearrange, repeat\n",
    "\n",
    "from load import *\n",
    "from activations.activation_all import get_full_activation_tensor\n",
    "from activations.activation_metrics import get_activation_metrics\n",
    "from activations.activation_subset import get_activation_subset\n",
    "from activations.test import test_get_activation_metrics, test_get_activation_subset"
   ]
  },
  {
   "cell_type": "code",
   "execution_count": null,
   "metadata": {},
   "outputs": [],
   "source": []
  },
  {
   "cell_type": "code",
   "execution_count": 4,
   "metadata": {},
   "outputs": [
    {
     "name": "stderr",
     "output_type": "stream",
     "text": [
      "Using pad_token, but it is not set yet.\n"
     ]
    },
    {
     "name": "stdout",
     "output_type": "stream",
     "text": [
      "Loaded pretrained model pythia-19m into HookedTransformer\n"
     ]
    },
    {
     "name": "stderr",
     "output_type": "stream",
     "text": [
      "/Users/wesgurnee/Documents/mechint/sparse_probing/sparse-probing/sparprob/lib/python3.9/site-packages/datasets/arrow_dataset.py:1533: FutureWarning: 'fs' was is deprecated in favor of 'storage_options' in version 2.8.0 and will be removed in 3.0.0.\n",
      "You can remove this warning by passing 'storage_options=fs.storage_options' instead.\n",
      "  warnings.warn(\n"
     ]
    }
   ],
   "source": [
    "model = load_model('pythia-19m')\n",
    "feature_dataset = load_feature_dataset('counterfact.pyth.64.100')"
   ]
  },
  {
   "attachments": {},
   "cell_type": "markdown",
   "metadata": {},
   "source": [
    "## `get_activation_all`"
   ]
  },
  {
   "cell_type": "code",
   "execution_count": 5,
   "metadata": {},
   "outputs": [
    {
     "name": "stderr",
     "output_type": "stream",
     "text": [
      "100%|██████████| 7/7 [00:02<00:00,  3.21it/s]\n"
     ]
    }
   ],
   "source": [
    "activations = get_full_activation_tensor(model, feature_dataset, verbose=True)\n",
    "assert activations.shape == (model.cfg.n_layers, model.cfg.d_mlp, 100, 64)  # layer, neuron, sequence, context"
   ]
  },
  {
   "cell_type": "code",
   "execution_count": 6,
   "metadata": {},
   "outputs": [
    {
     "data": {
      "text/plain": [
       "torch.Size([6, 2048, 100, 64])"
      ]
     },
     "execution_count": 6,
     "metadata": {},
     "output_type": "execute_result"
    }
   ],
   "source": [
    "activations.shape"
   ]
  },
  {
   "cell_type": "code",
   "execution_count": 22,
   "metadata": {},
   "outputs": [
    {
     "ename": "RuntimeError",
     "evalue": "numel: integer multiplication overflow",
     "output_type": "error",
     "traceback": [
      "\u001b[0;31m---------------------------------------------------------------------------\u001b[0m",
      "\u001b[0;31mRuntimeError\u001b[0m                              Traceback (most recent call last)",
      "Cell \u001b[0;32mIn[22], line 1\u001b[0m\n\u001b[0;32m----> 1\u001b[0m \u001b[43mtorch\u001b[49m\u001b[38;5;241;43m.\u001b[39;49m\u001b[43mhistogramdd\u001b[49m\u001b[43m(\u001b[49m\u001b[43mrearrange\u001b[49m\u001b[43m(\u001b[49m\u001b[43mactivations\u001b[49m\u001b[43m,\u001b[49m\u001b[43m \u001b[49m\u001b[38;5;124;43m'\u001b[39;49m\u001b[38;5;124;43ml n b p -> (l n) (b p)\u001b[39;49m\u001b[38;5;124;43m'\u001b[39;49m\u001b[43m)\u001b[49m\u001b[43m,\u001b[49m\u001b[43m \u001b[49m\u001b[43mbins\u001b[49m\u001b[38;5;241;43m=\u001b[39;49m\u001b[38;5;241;43m10\u001b[39;49m\u001b[43m)\u001b[49m\u001b[38;5;241m.\u001b[39mshape\n",
      "\u001b[0;31mRuntimeError\u001b[0m: numel: integer multiplication overflow"
     ]
    }
   ],
   "source": [
    "torch.histogramdd(rearrange(activations, 'l n b p -> (l n) (b p)'), bins=10).shape"
   ]
  },
  {
   "cell_type": "code",
   "execution_count": 17,
   "metadata": {},
   "outputs": [
    {
     "data": {
      "text/plain": [
       "torch.Size([6, 2048, 100, 64])"
      ]
     },
     "execution_count": 17,
     "metadata": {},
     "output_type": "execute_result"
    }
   ],
   "source": [
    "activations.shape"
   ]
  },
  {
   "cell_type": "code",
   "execution_count": 18,
   "metadata": {},
   "outputs": [
    {
     "data": {
      "text/plain": [
       "torch.Size([12288, 6400])"
      ]
     },
     "execution_count": 18,
     "metadata": {},
     "output_type": "execute_result"
    }
   ],
   "source": [
    "rearrange(activations, 'l n b p -> (l n) (b p)').shape"
   ]
  },
  {
   "cell_type": "code",
   "execution_count": 19,
   "metadata": {},
   "outputs": [
    {
     "data": {
      "text/plain": [
       "0.29296875"
      ]
     },
     "execution_count": 19,
     "metadata": {},
     "output_type": "execute_result"
    }
   ],
   "source": [
    "(12288 * 6400 * 4) / 2**30"
   ]
  },
  {
   "cell_type": "code",
   "execution_count": 21,
   "metadata": {},
   "outputs": [
    {
     "data": {
      "text/plain": [
       "7.32421875"
      ]
     },
     "execution_count": 21,
     "metadata": {},
     "output_type": "execute_result"
    }
   ],
   "source": [
    "(24 * 10_000 * 16 * 512 * 4) / 2**30"
   ]
  },
  {
   "cell_type": "code",
   "execution_count": 24,
   "metadata": {},
   "outputs": [],
   "source": [
    "np_act = rearrange(activations.numpy(), 'l n b p -> (l n) (b p)')"
   ]
  },
  {
   "cell_type": "code",
   "execution_count": 27,
   "metadata": {},
   "outputs": [
    {
     "data": {
      "text/plain": [
       "(12288, 6400)"
      ]
     },
     "execution_count": 27,
     "metadata": {},
     "output_type": "execute_result"
    }
   ],
   "source": []
  },
  {
   "cell_type": "code",
   "execution_count": null,
   "metadata": {},
   "outputs": [],
   "source": []
  },
  {
   "cell_type": "code",
   "execution_count": 30,
   "metadata": {},
   "outputs": [],
   "source": [
    "from functorch import vmap"
   ]
  },
  {
   "cell_type": "code",
   "execution_count": null,
   "metadata": {},
   "outputs": [],
   "source": [
    "rearrange(activations, 'l n b p -> (l n) (b p)')"
   ]
  },
  {
   "cell_type": "code",
   "execution_count": 48,
   "metadata": {},
   "outputs": [],
   "source": []
  },
  {
   "cell_type": "code",
   "execution_count": 55,
   "metadata": {},
   "outputs": [],
   "source": [
    "from functools import partial\n"
   ]
  },
  {
   "cell_type": "code",
   "execution_count": 56,
   "metadata": {},
   "outputs": [
    {
     "data": {
      "text/plain": [
       "tensor([-1.0000e+01, -9.8000e+00, -9.6000e+00, -9.4000e+00, -9.2000e+00,\n",
       "        -9.0000e+00, -8.8000e+00, -8.6000e+00, -8.4000e+00, -8.2000e+00,\n",
       "        -8.0000e+00, -7.8000e+00, -7.6000e+00, -7.4000e+00, -7.2000e+00,\n",
       "        -7.0000e+00, -6.8000e+00, -6.6000e+00, -6.4000e+00, -6.2000e+00,\n",
       "        -6.0000e+00, -5.8000e+00, -5.6000e+00, -5.4000e+00, -5.2000e+00,\n",
       "        -5.0000e+00, -4.8000e+00, -4.6000e+00, -4.4000e+00, -4.2000e+00,\n",
       "        -4.0000e+00, -3.8000e+00, -3.6000e+00, -3.4000e+00, -3.2000e+00,\n",
       "        -3.0000e+00, -2.8000e+00, -2.6000e+00, -2.4000e+00, -2.2000e+00,\n",
       "        -2.0000e+00, -1.8000e+00, -1.6000e+00, -1.4000e+00, -1.2000e+00,\n",
       "        -1.0000e+00, -8.0000e-01, -6.0000e-01, -4.0000e-01, -2.0000e-01,\n",
       "         3.8743e-07,  2.0000e-01,  4.0000e-01,  6.0000e-01,  8.0000e-01,\n",
       "         1.0000e+00,  1.2000e+00,  1.4000e+00,  1.6000e+00,  1.8000e+00,\n",
       "         2.0000e+00,  2.2000e+00,  2.4000e+00,  2.6000e+00,  2.8000e+00,\n",
       "         3.0000e+00,  3.2000e+00,  3.4000e+00,  3.6000e+00,  3.8000e+00,\n",
       "         4.0000e+00,  4.2000e+00,  4.4000e+00,  4.6000e+00,  4.8000e+00,\n",
       "         5.0000e+00,  5.2000e+00,  5.4000e+00,  5.6000e+00,  5.8000e+00,\n",
       "         6.0000e+00,  6.2000e+00,  6.4000e+00,  6.6000e+00,  6.8000e+00,\n",
       "         7.0000e+00,  7.2000e+00,  7.4000e+00,  7.6000e+00,  7.8000e+00,\n",
       "         8.0000e+00,  8.2000e+00,  8.4000e+00,  8.6000e+00,  8.8000e+00,\n",
       "         9.0000e+00,  9.2000e+00,  9.4000e+00,  9.6000e+00,  9.8000e+00,\n",
       "         1.0000e+01])"
      ]
     },
     "execution_count": 56,
     "metadata": {},
     "output_type": "execute_result"
    }
   ],
   "source": [
    "bin_edges"
   ]
  },
  {
   "cell_type": "code",
   "execution_count": 78,
   "metadata": {},
   "outputs": [
    {
     "name": "stderr",
     "output_type": "stream",
     "text": [
      "/Users/wesgurnee/Documents/mechint/sparse_probing/sparse-probing/sparprob/lib/python3.9/site-packages/functorch/_src/vmap.py:489: UserWarning: There is a performance drop because we have not yet implemented the batching rule for aten::histogram.bins_tensor. Please file us an issue on GitHub so that we can prioritize its implementation. (Triggered internally at /Users/runner/work/pytorch/pytorch/pytorch/aten/src/ATen/functorch/BatchedFallback.cpp:84.)\n",
      "  batched_outputs = func(*batched_inputs, **kwargs)\n"
     ]
    }
   ],
   "source": [
    "all_activations_by_neuron = rearrange(activations, 'l n b p -> (l n) (b p)')\n",
    "\n",
    "n_bins = 100\n",
    "bin_edges = torch.linspace(-1, 1, n_bins+1)\n",
    "binned_histogram = partial(torch.histogram, bins=bin_edges)\n",
    "vectorized_histogram = vmap(binned_histogram)\n",
    "hist, _ = vectorized_histogram(all_activations_by_neuron)"
   ]
  },
  {
   "cell_type": "code",
   "execution_count": 82,
   "metadata": {},
   "outputs": [
    {
     "data": {
      "text/plain": [
       "tensor([[ 9.,  4.,  2.,  ...,  0.,  0.,  0.],\n",
       "        [ 0.,  4.,  5.,  ...,  0.,  0.,  0.],\n",
       "        [ 0.,  0.,  6.,  ...,  0.,  1.,  0.],\n",
       "        ...,\n",
       "        [12.,  8., 11.,  ...,  1.,  0.,  0.],\n",
       "        [ 8.,  6.,  4.,  ...,  0.,  2.,  2.],\n",
       "        [ 6.,  2.,  8.,  ...,  0.,  0.,  2.]])"
      ]
     },
     "execution_count": 82,
     "metadata": {},
     "output_type": "execute_result"
    }
   ],
   "source": [
    "hist"
   ]
  },
  {
   "cell_type": "code",
   "execution_count": null,
   "metadata": {},
   "outputs": [],
   "source": []
  },
  {
   "cell_type": "code",
   "execution_count": null,
   "metadata": {},
   "outputs": [],
   "source": []
  },
  {
   "cell_type": "code",
   "execution_count": 75,
   "metadata": {},
   "outputs": [],
   "source": [
    "neuron_histograms = rearrange(hist, '(l n) b -> l n b', l=model.cfg.n_layers, n=model.cfg.d_mlp, b=n_bins)"
   ]
  },
  {
   "cell_type": "code",
   "execution_count": 76,
   "metadata": {},
   "outputs": [
    {
     "data": {
      "image/png": "[encoded data removed]",
      "text/plain": [
       "<Figure size 640x480 with 1 Axes>"
      ]
     },
     "metadata": {},
     "output_type": "display_data"
    }
   ],
   "source": [
    "plt.hist(bin_edges[:-1], bin_edges[1:], weights=neuron_histograms[0, 0]);"
   ]
  },
  {
   "cell_type": "code",
   "execution_count": 77,
   "metadata": {},
   "outputs": [
    {
     "data": {
      "text/plain": [
       "tensor(6116.)"
      ]
     },
     "execution_count": 77,
     "metadata": {},
     "output_type": "execute_result"
    }
   ],
   "source": [
    "neuron_histograms[0, 0].sum()"
   ]
  },
  {
   "cell_type": "code",
   "execution_count": 70,
   "metadata": {},
   "outputs": [
    {
     "data": {
      "image/png": "[encoded data removed]",
      "text/plain": [
       "<Figure size 640x480 with 1 Axes>"
      ]
     },
     "metadata": {},
     "output_type": "display_data"
    }
   ],
   "source": [
    "plt.hist(all_activations_by_neuron[0], bins=bin_edges);"
   ]
  },
  {
   "cell_type": "code",
   "execution_count": 73,
   "metadata": {},
   "outputs": [
    {
     "data": {
      "text/plain": [
       "tensor([ 0.0047, -1.5300,  0.3186,  ...,  0.0047,  0.0047,  0.0047])"
      ]
     },
     "execution_count": 73,
     "metadata": {},
     "output_type": "execute_result"
    }
   ],
   "source": [
    "all_activations_by_neuron[0]"
   ]
  },
  {
   "cell_type": "code",
   "execution_count": 44,
   "metadata": {},
   "outputs": [
    {
     "data": {
      "text/plain": [
       "torch.Size([12288, 199])"
      ]
     },
     "execution_count": 44,
     "metadata": {},
     "output_type": "execute_result"
    }
   ],
   "source": [
    "h.shape"
   ]
  },
  {
   "cell_type": "code",
   "execution_count": 45,
   "metadata": {},
   "outputs": [
    {
     "data": {
      "text/plain": [
       "torch.Size([12288, 200])"
      ]
     },
     "execution_count": 45,
     "metadata": {},
     "output_type": "execute_result"
    }
   ],
   "source": [
    "b.shape"
   ]
  },
  {
   "cell_type": "code",
   "execution_count": 46,
   "metadata": {},
   "outputs": [
    {
     "data": {
      "text/plain": [
       "tensor([[-10.0000,  -9.9000,  -9.8000,  ...,   9.7000,   9.8000,   9.9000],\n",
       "        [-10.0000,  -9.9000,  -9.8000,  ...,   9.7000,   9.8000,   9.9000],\n",
       "        [-10.0000,  -9.9000,  -9.8000,  ...,   9.7000,   9.8000,   9.9000],\n",
       "        ...,\n",
       "        [-10.0000,  -9.9000,  -9.8000,  ...,   9.7000,   9.8000,   9.9000],\n",
       "        [-10.0000,  -9.9000,  -9.8000,  ...,   9.7000,   9.8000,   9.9000],\n",
       "        [-10.0000,  -9.9000,  -9.8000,  ...,   9.7000,   9.8000,   9.9000]])"
      ]
     },
     "execution_count": 46,
     "metadata": {},
     "output_type": "execute_result"
    }
   ],
   "source": [
    "b"
   ]
  },
  {
   "attachments": {},
   "cell_type": "markdown",
   "metadata": {},
   "source": [
    "## `get_activation_metrics`"
   ]
  },
  {
   "cell_type": "code",
   "execution_count": 6,
   "metadata": {},
   "outputs": [
    {
     "name": "stderr",
     "output_type": "stream",
     "text": [
      "  0%|          | 0/7 [00:00<?, ?it/s]"
     ]
    },
    {
     "name": "stdout",
     "output_type": "stream",
     "text": [
      "> \u001b[0;32m/Users/wesgurnee/Documents/mechint/sparse_probing/sparse-probing/activations/activation_metrics.py\u001b[0m(33)\u001b[0;36mget_activations_hist\u001b[0;34m()\u001b[0m\n",
      "\u001b[0;32m     31 \u001b[0;31m    \u001b[0;32mimport\u001b[0m \u001b[0mpdb\u001b[0m\u001b[0;34m\u001b[0m\u001b[0;34m\u001b[0m\u001b[0m\n",
      "\u001b[0m\u001b[0;32m     32 \u001b[0;31m    \u001b[0mpdb\u001b[0m\u001b[0;34m.\u001b[0m\u001b[0mset_trace\u001b[0m\u001b[0;34m(\u001b[0m\u001b[0;34m)\u001b[0m\u001b[0;34m\u001b[0m\u001b[0;34m\u001b[0m\u001b[0m\n",
      "\u001b[0m\u001b[0;32m---> 33 \u001b[0;31m    bin_counts_flat = torch.bincount(\n",
      "\u001b[0m\u001b[0;32m     34 \u001b[0;31m        activations_flat.int(), minlength=n_layer*n_neuron*n_bin)\n",
      "\u001b[0m\u001b[0;32m     35 \u001b[0;31m    \u001b[0;32massert\u001b[0m \u001b[0mlen\u001b[0m\u001b[0;34m(\u001b[0m\u001b[0mbin_counts_flat\u001b[0m\u001b[0;34m)\u001b[0m \u001b[0;34m==\u001b[0m \u001b[0mn_layer\u001b[0m\u001b[0;34m*\u001b[0m\u001b[0mn_neuron\u001b[0m\u001b[0;34m*\u001b[0m\u001b[0mn_bin\u001b[0m\u001b[0;34m\u001b[0m\u001b[0;34m\u001b[0m\u001b[0m\n",
      "\u001b[0m\n"
     ]
    }
   ],
   "source": [
    "test_get_activation_metrics(model, feature_dataset)"
   ]
  },
  {
   "attachments": {},
   "cell_type": "markdown",
   "metadata": {},
   "source": [
    "## `get_activation_subset`"
   ]
  },
  {
   "cell_type": "code",
   "execution_count": 7,
   "metadata": {},
   "outputs": [
    {
     "name": "stderr",
     "output_type": "stream",
     "text": [
      "100%|██████████| 7/7 [00:02<00:00,  3.28it/s]\n",
      "100%|██████████| 7/7 [00:02<00:00,  3.19it/s]\n"
     ]
    },
    {
     "name": "stdout",
     "output_type": "stream",
     "text": [
      "get_activation_subset: 2.142, get_mlp_activations: 2.415\n",
      "Subset keys correct: True\n",
      "Subset values correct: True\n"
     ]
    }
   ],
   "source": [
    "test_get_activation_subset(model, feature_dataset)"
   ]
  },
  {
   "cell_type": "code",
   "execution_count": 8,
   "metadata": {},
   "outputs": [
    {
     "data": {
      "text/plain": [
       "(torch.Size([6, 2048, 10]),\n",
       " torch.Size([6, 2048, 10]),\n",
       " torch.Size([6, 2048, 30]))"
      ]
     },
     "execution_count": 8,
     "metadata": {},
     "output_type": "execute_result"
    }
   ],
   "source": [
    "# get function outputs\n",
    "top_k = 10\n",
    "n_bin = 30\n",
    "hist_min = -.2\n",
    "hist_max = 2\n",
    "\n",
    "top_k_seqix, top_k_pos, bin_counts = get_activation_metrics(model, feature_dataset,\n",
    "        top_k=top_k, n_bin=n_bin, hist_min=hist_min, hist_max=hist_max)\n",
    "top_k_seqix.shape, top_k_pos.shape, bin_counts.shape"
   ]
  },
  {
   "attachments": {},
   "cell_type": "markdown",
   "metadata": {},
   "source": [
    "### Activation Histograms Visual Test"
   ]
  },
  {
   "cell_type": "code",
   "execution_count": 9,
   "metadata": {},
   "outputs": [
    {
     "data": {
      "text/plain": [
       "torch.Size([6, 2048, 100, 64])"
      ]
     },
     "execution_count": 9,
     "metadata": {},
     "output_type": "execute_result"
    }
   ],
   "source": [
    "n_layer = model.cfg.n_layers\n",
    "n_neuron = model.cfg.d_mlp\n",
    "\n",
    "activations = get_activation_all(model, feature_dataset)\n",
    "activations.shape"
   ]
  },
  {
   "cell_type": "code",
   "execution_count": 10,
   "metadata": {},
   "outputs": [
    {
     "name": "stdout",
     "output_type": "stream",
     "text": [
      "Proportion of activations greater than 0.5: 1.3E-01\n",
      "Proportion of activations greater than 1: 4.6E-02\n",
      "Proportion of activations greater than 2: 5.9E-03\n",
      "Proportion of activations greater than 3: 1.9E-03\n",
      "Proportion of activations greater than 5: 1.0E-03\n",
      "Proportion of activations greater than 10: 7.6E-04\n",
      "Proportion of activations greater than 15: 4.8E-04\n",
      "Proportion of activations greater than 25: 2.8E-04\n",
      "Proportion of activations greater than 40: 1.0E-07\n",
      "Proportion of activations greater than 100: 0.0E+00\n"
     ]
    }
   ],
   "source": [
    "for i in [.5, 1, 2, 3, 5, 10, 15, 25, 40, 100]:\n",
    "    prop_captured = ((activations > i).sum() / activations.numel()).item()\n",
    "    print(f'Proportion of activations greater than {i}: {prop_captured:.1E}')"
   ]
  },
  {
   "cell_type": "code",
   "execution_count": 11,
   "metadata": {},
   "outputs": [
    {
     "data": {
      "image/png": "[encoded data removed]",
      "text/plain": [
       "<Figure size 500x2000 with 20 Axes>"
      ]
     },
     "metadata": {},
     "output_type": "display_data"
    }
   ],
   "source": [
    "n = 10\n",
    "fig, axes = plt.subplots(n, 2, figsize=(5, 2*n))\n",
    "\n",
    "bin_edges = torch.linspace(hist_min, hist_max, n_bin+1)\n",
    "\n",
    "for i in range(n):\n",
    "    lix = np.random.randint(n_layer)\n",
    "    nix = np.random.randint(n_neuron)\n",
    "\n",
    "    axes[i,0].set_title(f'L{lix}N{nix} full histogram')\n",
    "    axes[i,0].hist(activations[lix,nix,:,:].flatten(), bins=n_bin)\n",
    "    axes[i,0].set_yscale('log')\n",
    "\n",
    "    axes[i,1].set_title(f'L{lix}N{nix} bin_counts')\n",
    "    axes[i,1].stairs(bin_counts[lix,nix,:], edges=bin_edges, color='r', fill=True)\n",
    "    axes[i,1].set_yscale('log')\n",
    "\n",
    "fig.tight_layout()"
   ]
  },
  {
   "attachments": {},
   "cell_type": "markdown",
   "metadata": {},
   "source": [
    "### Investigate Non-matching Top k Results"
   ]
  },
  {
   "cell_type": "code",
   "execution_count": 12,
   "metadata": {},
   "outputs": [
    {
     "data": {
      "text/plain": [
       "(tensor(0.9765), tensor(0.5492))"
      ]
     },
     "execution_count": 12,
     "metadata": {},
     "output_type": "execute_result"
    }
   ],
   "source": [
    "# verify indices match\n",
    "# NOTE: due to repeated activations these do not match exactly\n",
    "seq_len = len(feature_dataset[0]['tokens'])\n",
    "v, i = torch.topk(rearrange(activations, 'a b c d -> a b (c d)'), top_k, dim=2, sorted=True)\n",
    "top_k_seqix_compare = i // seq_len\n",
    "top_k_pos_compare = i % seq_len\n",
    "(top_k_pos == top_k_pos_compare).sum()/top_k_pos.numel(), (top_k_seqix == top_k_seqix_compare).sum()/top_k_pos.numel()"
   ]
  },
  {
   "cell_type": "code",
   "execution_count": 13,
   "metadata": {},
   "outputs": [
    {
     "name": "stdout",
     "output_type": "stream",
     "text": [
      "tensor([0.8360, 0.8360, 0.6687, 0.6567, 0.4638, 0.3722, 0.3695, 0.3617, 0.3617,\n",
      "        0.3572, 0.3162])\n",
      "tensor([0.9440, 0.7627, 0.7627, 0.6011, 0.6011, 0.6011, 0.5756, 0.5756, 0.5756,\n",
      "        0.5108, 0.5108])\n",
      "tensor([0.6727, 0.6727, 0.5643, 0.5643, 0.5417, 0.5417, 0.5101, 0.5101, 0.4678,\n",
      "        0.4678, 0.4678])\n",
      "tensor([1.0216, 1.0216, 1.0216, 1.0216, 1.0216, 1.0216, 0.8682, 0.8682, 0.8268,\n",
      "        0.8268, 0.8268])\n",
      "tensor([0.7804, 0.7804, 0.7804, 0.7804, 0.7804, 0.7804, 0.7804, 0.7804, 0.7543,\n",
      "        0.7543, 0.6993])\n",
      "tensor([0.7843, 0.7843, 0.7843, 0.7843, 0.7843, 0.7843, 0.7843, 0.7843, 0.6829,\n",
      "        0.6829, 0.5344])\n",
      "tensor([1.2178, 1.2178, 1.2178, 1.2178, 1.2178, 1.2178, 1.2178, 1.2178, 0.9728,\n",
      "        0.7782, 0.7782])\n",
      "tensor([0.8541, 0.8541, 0.6955, 0.6955, 0.6955, 0.6955, 0.6955, 0.6955, 0.6955,\n",
      "        0.6955, 0.5570])\n",
      "tensor([1.3993, 1.3993, 0.8901, 0.8901, 0.8322, 0.8322, 0.8322, 0.8322, 0.8322,\n",
      "        0.8322, 0.8322])\n",
      "tensor([0.7679, 0.7679, 0.6400, 0.6400, 0.6277, 0.6277, 0.4977, 0.4915, 0.4915,\n",
      "        0.4915, 0.4915])\n",
      "tensor([0., 0., 0., 0., 0., 0., 0., 0., 0., 0., 0.])\n",
      "tensor([ 1.2290e-02,  1.2290e-02,  0.0000e+00,  0.0000e+00,  0.0000e+00,\n",
      "         0.0000e+00,  0.0000e+00,  0.0000e+00,  0.0000e+00,  0.0000e+00,\n",
      "        -2.3842e-07])\n",
      "tensor([0.5331, 0.5331, 0.5331, 0.5331, 0.1417, 0.1417, 0.0010, 0.0010, 0.0000,\n",
      "        0.0000, 0.0000])\n",
      "tensor([10.6826, 10.6826,  0.0000,  0.0000,  0.0000,  0.0000,  0.0000,  0.0000,\n",
      "         0.0000,  0.0000,  0.0000])\n",
      "tensor([ 1.1912e-01,  1.1912e-01,  8.6487e-02,  8.6487e-02, -2.3842e-07,\n",
      "        -2.3842e-07, -2.3842e-07, -2.3842e-07, -9.5367e-07, -9.5367e-07,\n",
      "        -1.6689e-06])\n",
      "tensor([ 0.0000e+00,  0.0000e+00,  0.0000e+00,  0.0000e+00,  0.0000e+00,\n",
      "         0.0000e+00,  0.0000e+00,  0.0000e+00,  0.0000e+00,  0.0000e+00,\n",
      "        -2.3842e-07])\n",
      "tensor([ 0.0000e+00,  0.0000e+00,  0.0000e+00,  0.0000e+00, -1.4305e-06,\n",
      "        -1.4305e-06, -2.1458e-06, -2.1458e-06, -5.9605e-06, -5.9605e-06,\n",
      "        -6.9141e-06])\n",
      "tensor([7.2632, 7.2632, 0.0000, 0.0000, 0.0000, 0.0000, 0.0000, 0.0000, 0.0000,\n",
      "        0.0000, 0.0000])\n",
      "tensor([0.1518, 0.1518, 0.1183, 0.1183, 0.0871, 0.0871, 0.0000, 0.0000, 0.0000,\n",
      "        0.0000, 0.0000])\n",
      "tensor([0., 0., 0., 0., 0., 0., 0., 0., 0., 0., 0.])\n",
      "tensor([0.8004, 0.8004, 0.7456, 0.7441, 0.7400, 0.7398, 0.7385, 0.7382, 0.7380,\n",
      "        0.7379, 0.7379])\n",
      "tensor([ 0.0000e+00,  0.0000e+00, -4.7684e-07, -4.7684e-07, -4.7684e-07,\n",
      "        -4.7684e-07, -1.4305e-06, -1.4305e-06, -1.6689e-06, -1.6689e-06,\n",
      "        -2.1458e-06])\n",
      "tensor([0., 0., 0., 0., 0., 0., 0., 0., 0., 0., 0.])\n",
      "tensor([2.1791, 2.1791, 1.8048, 1.8048, 1.7288, 1.7287, 1.7286, 1.7285, 1.7285,\n",
      "        1.7284, 1.7284])\n",
      "tensor([0.8673, 0.8673, 0.6904, 0.6904, 0.0000, 0.0000, 0.0000, 0.0000, 0.0000,\n",
      "        0.0000, 0.0000])\n",
      "tensor([1.5048, 1.5048, 1.4255, 1.4243, 1.4242, 1.4242, 1.4242, 1.4241, 1.4241,\n",
      "        1.4241, 1.4241])\n"
     ]
    }
   ],
   "source": [
    "non_match = []\n",
    "for i in range(top_k_pos.shape[0]):\n",
    "    for j in range(top_k_pos.shape[1]):\n",
    "        if not (top_k_pos[i,j] == top_k_pos_compare[i,j]).all():\n",
    "            non_match.append((i,j))\n",
    "            if len(non_match) == 10:\n",
    "                break\n",
    "\n",
    "for (i, j) in non_match:\n",
    "    print(activations[i,j,:,:].flatten().sort(descending=True)[0][:top_k+1])"
   ]
  },
  {
   "cell_type": "code",
   "execution_count": 14,
   "metadata": {},
   "outputs": [
    {
     "data": {
      "image/png": "[encoded data removed]",
      "text/plain": [
       "<Figure size 1000x500 with 10 Axes>"
      ]
     },
     "metadata": {},
     "output_type": "display_data"
    }
   ],
   "source": [
    "fig, axes = plt.subplots(2, 5, figsize=(10, 5))\n",
    "\n",
    "for pos, ax in zip(non_match, axes.flatten()):\n",
    "    ax.set_title(f'L{pos[0]}N{pos[1]}')\n",
    "    ax.hist(activations[pos[0],pos[1]], bins=30)\n",
    "    ax.set_yscale('log')\n",
    "\n",
    "fig.tight_layout()"
   ]
  },
  {
   "attachments": {},
   "cell_type": "markdown",
   "metadata": {},
   "source": [
    "### Parameter tuning"
   ]
  },
  {
   "cell_type": "code",
   "execution_count": 15,
   "metadata": {},
   "outputs": [
    {
     "name": "stderr",
     "output_type": "stream",
     "text": [
      "/Users/mtp/Projects/alignment/sparse-probing/sparprob/lib/python3.10/site-packages/datasets/arrow_dataset.py:1533: FutureWarning: 'fs' was is deprecated in favor of 'storage_options' in version 2.8.0 and will be removed in 3.0.0.\n",
      "You can remove this warning by passing 'storage_options=fs.storage_options' instead.\n",
      "  warnings.warn(\n"
     ]
    }
   ],
   "source": [
    "feature_dataset_full = load_feature_dataset('counterfact.pyth.64.-1')"
   ]
  },
  {
   "cell_type": "code",
   "execution_count": 16,
   "metadata": {},
   "outputs": [
    {
     "name": "stderr",
     "output_type": "stream",
     "text": [
      "100%|██████████| 32/32 [00:03<00:00,  9.85it/s]\n"
     ]
    },
    {
     "name": "stdout",
     "output_type": "stream",
     "text": [
      "With batch size 2 took 3.258 seconds, or 19.646 examples per second\n"
     ]
    },
    {
     "name": "stderr",
     "output_type": "stream",
     "text": [
      "100%|██████████| 16/16 [00:02<00:00,  6.25it/s]\n"
     ]
    },
    {
     "name": "stdout",
     "output_type": "stream",
     "text": [
      "With batch size 4 took 2.566 seconds, or 24.943 examples per second\n"
     ]
    },
    {
     "name": "stderr",
     "output_type": "stream",
     "text": [
      "100%|██████████| 8/8 [00:02<00:00,  3.49it/s]\n"
     ]
    },
    {
     "name": "stdout",
     "output_type": "stream",
     "text": [
      "With batch size 8 took 2.297 seconds, or 27.867 examples per second\n"
     ]
    },
    {
     "name": "stderr",
     "output_type": "stream",
     "text": [
      "100%|██████████| 4/4 [00:02<00:00,  1.85it/s]\n"
     ]
    },
    {
     "name": "stdout",
     "output_type": "stream",
     "text": [
      "With batch size 16 took 2.170 seconds, or 29.497 examples per second\n"
     ]
    },
    {
     "name": "stderr",
     "output_type": "stream",
     "text": [
      "100%|██████████| 2/2 [00:02<00:00,  1.11s/it]"
     ]
    },
    {
     "name": "stdout",
     "output_type": "stream",
     "text": [
      "With batch size 32 took 2.241 seconds, or 28.553 examples per second\n"
     ]
    },
    {
     "name": "stderr",
     "output_type": "stream",
     "text": [
      "\n"
     ]
    }
   ],
   "source": [
    "# TODO: run on gpu\n",
    "\n",
    "def time_function(function, *args, **kwargs):\n",
    "    start_time = time.perf_counter()\n",
    "    out = function(*args, **kwargs)\n",
    "    return out, time.perf_counter() - start_time\n",
    "\n",
    "subset_size = 64\n",
    "tuning_subset = feature_dataset_full.select(range(subset_size))\n",
    "batch_sizes = [2, 4, 8, 16, 32]\n",
    "times = []\n",
    "for batch_size in batch_sizes:\n",
    "    _, func_time = time_function(\n",
    "        get_activation_metrics, model, tuning_subset,\n",
    "        batch_size=batch_size, verbose=True)\n",
    "    times.append(func_time)\n",
    "    print(f'With batch size {batch_size} took {func_time:.3f} seconds, or {subset_size/func_time:.3f} examples per second')"
   ]
  },
  {
   "cell_type": "code",
   "execution_count": 17,
   "metadata": {},
   "outputs": [
    {
     "data": {
      "image/png": "[encoded data removed]",
      "text/plain": [
       "<Figure size 640x480 with 1 Axes>"
      ]
     },
     "metadata": {},
     "output_type": "display_data"
    }
   ],
   "source": [
    "plt.plot(batch_sizes,times);"
   ]
  },
  {
   "attachments": {},
   "cell_type": "markdown",
   "metadata": {},
   "source": [
    "### Neuron Subset Saving and Loading"
   ]
  },
  {
   "cell_type": "code",
   "execution_count": 18,
   "metadata": {},
   "outputs": [],
   "source": [
    "from activations.activation_subset import save_neuron_subset, load_neuron_subset"
   ]
  },
  {
   "cell_type": "code",
   "execution_count": 19,
   "metadata": {},
   "outputs": [
    {
     "data": {
      "text/plain": [
       "[(5, 158), (10, 2469), (8, 1118), (5, 1010), (5, 2296)]"
      ]
     },
     "execution_count": 19,
     "metadata": {},
     "output_type": "execute_result"
    }
   ],
   "source": [
    "subset_size = 5\n",
    "n_layer = 12\n",
    "n_neuron = 3072\n",
    "neuron_subset = [(np.random.randint(n_layer), np.random.randint(n_neuron)) for _ in range(subset_size)]\n",
    "neuron_subset"
   ]
  },
  {
   "cell_type": "code",
   "execution_count": 20,
   "metadata": {},
   "outputs": [
    {
     "data": {
      "text/plain": [
       "[(5, 158), (10, 2469), (8, 1118), (5, 1010), (5, 2296)]"
      ]
     },
     "execution_count": 20,
     "metadata": {},
     "output_type": "execute_result"
    }
   ],
   "source": [
    "save_path_subset = '../tmp/neuron_subset.pt'\n",
    "save_neuron_subset(neuron_subset, save_path_subset)\n",
    "load_neuron_subset(save_path_subset)"
   ]
  }
 ],
 "metadata": {
  "kernelspec": {
   "display_name": "Python 3.9.7 ('sparprob': venv)",
   "language": "python",
   "name": "python3"
  },
  "language_info": {
   "codemirror_mode": {
    "name": "ipython",
    "version": 3
   },
   "file_extension": ".py",
   "mimetype": "text/x-python",
   "name": "python",
   "nbconvert_exporter": "python",
   "pygments_lexer": "ipython3",
   "version": "3.9.7"
  },
  "orig_nbformat": 4,
  "vscode": {
   "interpreter": {
    "hash": "a23c353b8f126b39e08e10b291cdc446f934514e233cf645ae9c7e400e436e5b"
   }
  }
 },
 "nbformat": 4,
 "nbformat_minor": 2
}
