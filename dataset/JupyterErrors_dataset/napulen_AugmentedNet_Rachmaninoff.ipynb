{
 "cells": [
  {
   "cell_type": "markdown",
   "id": "surface-cartoon",
   "metadata": {},
   "source": [
    "# Test the predictions of the model on a sample melody"
   ]
  },
  {
   "cell_type": "code",
   "execution_count": 1,
   "id": "responsible-force",
   "metadata": {},
   "outputs": [],
   "source": [
    "import sys; sys.path.insert(0, \"..\")\n",
    "from AugmentedNet.score_parser import parseScore\n",
    "from AugmentedNet.input_representations import Bass19\n",
    "from AugmentedNet.output_representations import available_representations as availableOutputs\n",
    "import matplotlib.pyplot as plt\n",
    "from tensorflow import keras\n",
    "import tensorflow as tf\n",
    "import numpy as np\n",
    "import pandas as pd"
   ]
  },
  {
   "cell_type": "code",
   "execution_count": 2,
   "id": "departmental-bridges",
   "metadata": {},
   "outputs": [],
   "source": [
    "gpu_devices = tf.config.experimental.list_physical_devices(\"GPU\")\n",
    "for device in gpu_devices:\n",
    "    tf.config.experimental.set_memory_growth(device, True)"
   ]
  },
  {
   "cell_type": "markdown",
   "id": "motivated-transfer",
   "metadata": {},
   "source": [
    "Loading the melody"
   ]
  },
  {
   "cell_type": "code",
   "execution_count": 3,
   "id": "rotary-layout",
   "metadata": {},
   "outputs": [],
   "source": [
    "# https://gist.githubusercontent.com/napulen/60cb786a83efc1753baccc9b42a10072/raw/bf3d0c62993c63aec0a498a83a9c924b02523b4c/rachmaninoff3.musicxml\n",
    "melodyExample = \"./rachmaninoff3.mxl\""
   ]
  },
  {
   "cell_type": "code",
   "execution_count": 4,
   "id": "mediterranean-chick",
   "metadata": {},
   "outputs": [
    {
     "ename": "ConverterException",
     "evalue": "File not found or no such format found for: ./rachmaninoff3.mxl",
     "output_type": "error",
     "traceback": [
      "\u001b[0;31m---------------------------------------------------------------------------\u001b[0m",
      "\u001b[0;31mConverterException\u001b[0m                        Traceback (most recent call last)",
      "\u001b[0;32m<ipython-input-4-c7fc57b1640f>\u001b[0m in \u001b[0;36m<module>\u001b[0;34m\u001b[0m\n\u001b[0;32m----> 1\u001b[0;31m \u001b[0mdf\u001b[0m \u001b[0;34m=\u001b[0m \u001b[0mparseScore\u001b[0m\u001b[0;34m(\u001b[0m\u001b[0mmelodyExample\u001b[0m\u001b[0;34m)\u001b[0m\u001b[0;34m\u001b[0m\u001b[0;34m\u001b[0m\u001b[0m\n\u001b[0m",
      "\u001b[0;32m~/dev/AugmentedNet/notebooks/../AugmentedNet/score_parser.py\u001b[0m in \u001b[0;36mparseScore\u001b[0;34m(f, fmt, fixedOffset, eventBased)\u001b[0m\n\u001b[1;32m    177\u001b[0m \u001b[0;32mdef\u001b[0m \u001b[0mparseScore\u001b[0m\u001b[0;34m(\u001b[0m\u001b[0mf\u001b[0m\u001b[0;34m,\u001b[0m \u001b[0mfmt\u001b[0m\u001b[0;34m=\u001b[0m\u001b[0;32mNone\u001b[0m\u001b[0;34m,\u001b[0m \u001b[0mfixedOffset\u001b[0m\u001b[0;34m=\u001b[0m\u001b[0mFIXEDOFFSET\u001b[0m\u001b[0;34m,\u001b[0m \u001b[0meventBased\u001b[0m\u001b[0;34m=\u001b[0m\u001b[0;32mFalse\u001b[0m\u001b[0;34m)\u001b[0m\u001b[0;34m:\u001b[0m\u001b[0;34m\u001b[0m\u001b[0;34m\u001b[0m\u001b[0m\n\u001b[1;32m    178\u001b[0m     \u001b[0;31m# Step 0: Use music21 to parse the score\u001b[0m\u001b[0;34m\u001b[0m\u001b[0;34m\u001b[0m\u001b[0;34m\u001b[0m\u001b[0m\n\u001b[0;32m--> 179\u001b[0;31m     \u001b[0ms\u001b[0m \u001b[0;34m=\u001b[0m \u001b[0m_m21Parse\u001b[0m\u001b[0;34m(\u001b[0m\u001b[0mf\u001b[0m\u001b[0;34m,\u001b[0m \u001b[0mfmt\u001b[0m\u001b[0;34m)\u001b[0m\u001b[0;34m\u001b[0m\u001b[0;34m\u001b[0m\u001b[0m\n\u001b[0m\u001b[1;32m    180\u001b[0m     \u001b[0;31m# Step 1: Parse and produce a salami-sliced dataset\u001b[0m\u001b[0;34m\u001b[0m\u001b[0;34m\u001b[0m\u001b[0;34m\u001b[0m\u001b[0m\n\u001b[1;32m    181\u001b[0m     \u001b[0mdf\u001b[0m \u001b[0;34m=\u001b[0m \u001b[0m_initialDataFrame\u001b[0m\u001b[0;34m(\u001b[0m\u001b[0ms\u001b[0m\u001b[0;34m,\u001b[0m \u001b[0mfmt\u001b[0m\u001b[0;34m)\u001b[0m\u001b[0;34m\u001b[0m\u001b[0;34m\u001b[0m\u001b[0m\n",
      "\u001b[0;32m~/dev/AugmentedNet/notebooks/../AugmentedNet/score_parser.py\u001b[0m in \u001b[0;36m_m21Parse\u001b[0;34m(f, fmt)\u001b[0m\n\u001b[1;32m     36\u001b[0m \u001b[0;34m\u001b[0m\u001b[0m\n\u001b[1;32m     37\u001b[0m \u001b[0;32mdef\u001b[0m \u001b[0m_m21Parse\u001b[0m\u001b[0;34m(\u001b[0m\u001b[0mf\u001b[0m\u001b[0;34m,\u001b[0m \u001b[0mfmt\u001b[0m\u001b[0;34m=\u001b[0m\u001b[0;32mNone\u001b[0m\u001b[0;34m)\u001b[0m\u001b[0;34m:\u001b[0m\u001b[0;34m\u001b[0m\u001b[0;34m\u001b[0m\u001b[0m\n\u001b[0;32m---> 38\u001b[0;31m     \u001b[0;32mreturn\u001b[0m \u001b[0mmusic21\u001b[0m\u001b[0;34m.\u001b[0m\u001b[0mconverter\u001b[0m\u001b[0;34m.\u001b[0m\u001b[0mparse\u001b[0m\u001b[0;34m(\u001b[0m\u001b[0mf\u001b[0m\u001b[0;34m,\u001b[0m \u001b[0mformat\u001b[0m\u001b[0;34m=\u001b[0m\u001b[0mfmt\u001b[0m\u001b[0;34m)\u001b[0m\u001b[0;34m\u001b[0m\u001b[0;34m\u001b[0m\u001b[0m\n\u001b[0m\u001b[1;32m     39\u001b[0m \u001b[0;34m\u001b[0m\u001b[0m\n\u001b[1;32m     40\u001b[0m \u001b[0;34m\u001b[0m\u001b[0m\n",
      "\u001b[0;32m~/.local/lib/python3.8/site-packages/music21/converter/__init__.py\u001b[0m in \u001b[0;36mparse\u001b[0;34m(value, *args, **keywords)\u001b[0m\n\u001b[1;32m   1182\u001b[0m         \u001b[0;32mraise\u001b[0m \u001b[0mFileNotFoundError\u001b[0m\u001b[0;34m(\u001b[0m\u001b[0;34mf'Cannot find file in {str(value)}'\u001b[0m\u001b[0;34m)\u001b[0m\u001b[0;34m\u001b[0m\u001b[0;34m\u001b[0m\u001b[0m\n\u001b[1;32m   1183\u001b[0m     \u001b[0;32melse\u001b[0m\u001b[0;34m:\u001b[0m\u001b[0;34m\u001b[0m\u001b[0;34m\u001b[0m\u001b[0m\n\u001b[0;32m-> 1184\u001b[0;31m         \u001b[0;32mreturn\u001b[0m \u001b[0mparseData\u001b[0m\u001b[0;34m(\u001b[0m\u001b[0mvalue\u001b[0m\u001b[0;34m,\u001b[0m \u001b[0mnumber\u001b[0m\u001b[0;34m=\u001b[0m\u001b[0mnumber\u001b[0m\u001b[0;34m,\u001b[0m \u001b[0mformat\u001b[0m\u001b[0;34m=\u001b[0m\u001b[0mm21Format\u001b[0m\u001b[0;34m,\u001b[0m \u001b[0;34m**\u001b[0m\u001b[0mkeywords\u001b[0m\u001b[0;34m)\u001b[0m\u001b[0;34m\u001b[0m\u001b[0;34m\u001b[0m\u001b[0m\n\u001b[0m\u001b[1;32m   1185\u001b[0m \u001b[0;34m\u001b[0m\u001b[0m\n\u001b[1;32m   1186\u001b[0m \u001b[0;34m\u001b[0m\u001b[0m\n",
      "\u001b[0;32m~/.local/lib/python3.8/site-packages/music21/converter/__init__.py\u001b[0m in \u001b[0;36mparseData\u001b[0;34m(dataStr, number, format, **keywords)\u001b[0m\n\u001b[1;32m   1036\u001b[0m     '''\n\u001b[1;32m   1037\u001b[0m     \u001b[0mv\u001b[0m \u001b[0;34m=\u001b[0m \u001b[0mConverter\u001b[0m\u001b[0;34m(\u001b[0m\u001b[0;34m)\u001b[0m\u001b[0;34m\u001b[0m\u001b[0;34m\u001b[0m\u001b[0m\n\u001b[0;32m-> 1038\u001b[0;31m     \u001b[0mv\u001b[0m\u001b[0;34m.\u001b[0m\u001b[0mparseData\u001b[0m\u001b[0;34m(\u001b[0m\u001b[0mdataStr\u001b[0m\u001b[0;34m,\u001b[0m \u001b[0mnumber\u001b[0m\u001b[0;34m=\u001b[0m\u001b[0mnumber\u001b[0m\u001b[0;34m,\u001b[0m \u001b[0mformat\u001b[0m\u001b[0;34m=\u001b[0m\u001b[0mformat\u001b[0m\u001b[0;34m,\u001b[0m \u001b[0;34m**\u001b[0m\u001b[0mkeywords\u001b[0m\u001b[0;34m)\u001b[0m\u001b[0;34m\u001b[0m\u001b[0;34m\u001b[0m\u001b[0m\n\u001b[0m\u001b[1;32m   1039\u001b[0m     \u001b[0;32mreturn\u001b[0m \u001b[0mv\u001b[0m\u001b[0;34m.\u001b[0m\u001b[0mstream\u001b[0m\u001b[0;34m\u001b[0m\u001b[0;34m\u001b[0m\u001b[0m\n\u001b[1;32m   1040\u001b[0m \u001b[0;34m\u001b[0m\u001b[0m\n",
      "\u001b[0;32m~/.local/lib/python3.8/site-packages/music21/converter/__init__.py\u001b[0m in \u001b[0;36mparseData\u001b[0;34m(self, dataStr, number, format, forceSource, **keywords)\u001b[0m\n\u001b[1;32m    624\u001b[0m                 \u001b[0museFormat\u001b[0m \u001b[0;34m=\u001b[0m \u001b[0;34m'romanText'\u001b[0m\u001b[0;34m\u001b[0m\u001b[0;34m\u001b[0m\u001b[0m\n\u001b[1;32m    625\u001b[0m             \u001b[0;32melse\u001b[0m\u001b[0;34m:\u001b[0m\u001b[0;34m\u001b[0m\u001b[0;34m\u001b[0m\u001b[0m\n\u001b[0;32m--> 626\u001b[0;31m                 raise ConverterException('File not found or no such format found for: %s' %\n\u001b[0m\u001b[1;32m    627\u001b[0m                                          dataStrMakeStr)\n\u001b[1;32m    628\u001b[0m \u001b[0;34m\u001b[0m\u001b[0m\n",
      "\u001b[0;31mConverterException\u001b[0m: File not found or no such format found for: ./rachmaninoff3.mxl"
     ]
    }
   ],
   "source": [
    "df = parseScore(melodyExample)"
   ]
  },
  {
   "cell_type": "code",
   "execution_count": null,
   "id": "massive-exclusion",
   "metadata": {},
   "outputs": [],
   "source": [
    "melodyInput = Bass19(df)"
   ]
  },
  {
   "cell_type": "code",
   "execution_count": null,
   "id": "amended-multimedia",
   "metadata": {},
   "outputs": [],
   "source": [
    "plt.figure(figsize=(25,10))\n",
    "plt.pcolormesh(melodyInput.array[:100].T, edgecolors=\"k\")"
   ]
  },
  {
   "cell_type": "markdown",
   "id": "blocked-reserve",
   "metadata": {},
   "source": [
    "Loading the pre-trained model"
   ]
  },
  {
   "cell_type": "code",
   "execution_count": null,
   "id": "logical-violin",
   "metadata": {},
   "outputs": [],
   "source": [
    "modelPath = \".model_checkpoint/validationset/bps-lr01-0001-210530T233203/55-4.109-0.7956.hdf5\"\n",
    "model = keras.models.load_model(modelPath)"
   ]
  },
  {
   "cell_type": "code",
   "execution_count": null,
   "id": "rural-essence",
   "metadata": {},
   "outputs": [],
   "source": [
    "outputLayers = [l.name.split(\"/\")[0] for l in model.outputs]"
   ]
  },
  {
   "cell_type": "code",
   "execution_count": null,
   "id": "grand-landscape",
   "metadata": {},
   "outputs": [],
   "source": [
    "inputProcessed = melodyInput.array[:640].reshape(1, 640, 19)\n",
    "modelInput = [inputProcessed, inputProcessed]\n",
    "inputProcessed.shape"
   ]
  },
  {
   "cell_type": "code",
   "execution_count": null,
   "id": "republican-bangkok",
   "metadata": {},
   "outputs": [],
   "source": [
    "predictions = model.predict(modelInput)"
   ]
  },
  {
   "cell_type": "code",
   "execution_count": null,
   "id": "declared-inside",
   "metadata": {},
   "outputs": [],
   "source": [
    "dfdict = {}\n",
    "for outputRepr, pred in zip(outputLayers, predictions):\n",
    "    print(outputRepr, pred.shape)\n",
    "    predOnehot = np.argmax(pred[0], axis=1).reshape(-1, 1)\n",
    "    decoded = availableOutputs[outputRepr].decode(predOnehot) \n",
    "    dfdict[outputRepr] = decoded\n",
    "df = pd.DataFrame(dfdict)"
   ]
  },
  {
   "cell_type": "code",
   "execution_count": null,
   "id": "accompanied-feature",
   "metadata": {},
   "outputs": [],
   "source": [
    "pd.set_option('display.max_rows', 640)\n",
    "df"
   ]
  },
  {
   "cell_type": "code",
   "execution_count": null,
   "id": "international-carbon",
   "metadata": {},
   "outputs": [],
   "source": [
    "df.to_csv(\"rachmaninoff_analysis.csv\")"
   ]
  },
  {
   "cell_type": "code",
   "execution_count": null,
   "id": "surprised-smith",
   "metadata": {},
   "outputs": [],
   "source": []
  }
 ],
 "metadata": {
  "kernelspec": {
   "display_name": "Python 3",
   "language": "python",
   "name": "python3"
  },
  "language_info": {
   "codemirror_mode": {
    "name": "ipython",
    "version": 3
   },
   "file_extension": ".py",
   "mimetype": "text/x-python",
   "name": "python",
   "nbconvert_exporter": "python",
   "pygments_lexer": "ipython3",
   "version": "3.8.10"
  }
 },
 "nbformat": 4,
 "nbformat_minor": 5
}
