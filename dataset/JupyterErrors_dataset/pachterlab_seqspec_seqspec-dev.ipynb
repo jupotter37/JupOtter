{
  "nbformat": 4,
  "nbformat_minor": 0,
  "metadata": {
    "colab": {
      "provenance": [],
      "authorship_tag": "ABX9TyMouMVas2OuofE5ozA6RSwU",
      "include_colab_link": true
    },
    "kernelspec": {
      "name": "python3",
      "display_name": "Python 3"
    },
    "language_info": {
      "name": "python"
    }
  },
  "cells": [
    {
      "cell_type": "markdown",
      "metadata": {
        "id": "view-in-github",
        "colab_type": "text"
      },
      "source": [
        "<a href=\"https://colab.research.google.com/github/IGVF/seqspec/blob/main/examples/seqspec-dev.ipynb\" target=\"_parent\"><img src=\"https://colab.research.google.com/assets/colab-badge.svg\" alt=\"Open In Colab\"/></a>"
      ]
    },
    {
      "cell_type": "code",
      "execution_count": 1,
      "metadata": {
        "id": "JGcRslgqu2Jj",
        "colab": {
          "base_uri": "https://localhost:8080/"
        },
        "outputId": "63cd2c8c-44a3-4ed4-9720-ffcdb8de0a63"
      },
      "outputs": [
        {
          "output_type": "stream",
          "name": "stdout",
          "text": [
            "Cloning into 'seqspec'...\n",
            "remote: Enumerating objects: 1650, done.\u001b[K\n",
            "remote: Counting objects: 100% (288/288), done.\u001b[K\n",
            "remote: Compressing objects: 100% (101/101), done.\u001b[K\n",
            "remote: Total 1650 (delta 211), reused 246 (delta 185), pack-reused 1362\u001b[K\n",
            "Receiving objects: 100% (1650/1650), 576.46 MiB | 24.37 MiB/s, done.\n",
            "Resolving deltas: 100% (1092/1092), done.\n",
            "Updating files: 100% (205/205), done.\n",
            "  Preparing metadata (setup.py) ... \u001b[?25l\u001b[?25hdone\n",
            "  Building wheel for seqspec (setup.py) ... \u001b[?25l\u001b[?25hdone\n"
          ]
        }
      ],
      "source": [
        "!rm -rf seqspec\n",
        "!git clone https://github.com/igvf/seqspec\n",
        "!cd seqspec && pip install --quiet ."
      ]
    },
    {
      "cell_type": "code",
      "source": [
        "!seqspec"
      ],
      "metadata": {
        "colab": {
          "base_uri": "https://localhost:8080/"
        },
        "id": "TgqvF0qovoxZ",
        "outputId": "4db2f282-6007-467d-c398-f74de27442bd"
      },
      "execution_count": 2,
      "outputs": [
        {
          "output_type": "stream",
          "name": "stdout",
          "text": [
            "usage: seqspec\n",
            "       [-h]\n",
            "       <CMD>\n",
            "       ...\n",
            "\n",
            "seqspec\n",
            "0.0.0:\n",
            "Format\n",
            "sequence sp\n",
            "ecification\n",
            "files\n",
            "\n",
            "positional arguments:\n",
            "  <CMD>\n",
            "    check\n",
            "    validate\n",
            "    seqspec\n",
            "    file\n",
            "    find\n",
            "    find\n",
            "    regions in\n",
            "    a seqspec\n",
            "    file\n",
            "    format\n",
            "    format\n",
            "    seqspec\n",
            "    file\n",
            "    index\n",
            "    index\n",
            "    regions in\n",
            "    a seqspec\n",
            "    file\n",
            "    init\n",
            "    init a\n",
            "    seqspec\n",
            "    file\n",
            "    onlist\n",
            "    get onlist\n",
            "    file for\n",
            "    specific\n",
            "    regions\n",
            "    print\n",
            "    print\n",
            "    seqspec\n",
            "    file\n",
            "    split\n",
            "    split\n",
            "    regions in\n",
            "    a seqspec\n",
            "    file\n",
            "\n",
            "options:\n",
            "  -h, --help\n",
            "    show this\n",
            "    help\n",
            "    message and\n",
            "    exit\n"
          ]
        }
      ]
    },
    {
      "cell_type": "code",
      "source": [
        "!head seqspec/specs/10x-RNA-v2/spec.yaml"
      ],
      "metadata": {
        "colab": {
          "base_uri": "https://localhost:8080/"
        },
        "id": "aGY-aZPsvpQF",
        "outputId": "78e7541d-8a93-4928-cae4-3175b57dbec3"
      },
      "execution_count": 3,
      "outputs": [
        {
          "output_type": "stream",
          "name": "stdout",
          "text": [
            "!Assay\n",
            "seqspec_version: 0.0.0\n",
            "assay: null\n",
            "sequencer: null\n",
            "name: 10x-RNA-v2\n",
            "doi: https://doi.org/10.1038/ncomms14049\n",
            "publication_date: null\n",
            "description: The 10x Genomics Chromium Single Cell 3' Solution V2 chemistry\n",
            "modalities:\n",
            "- RNA\n"
          ]
        }
      ]
    },
    {
      "cell_type": "code",
      "source": [
        "!seqspec print seqspec/specs/10x-RNA-v2/spec.yaml"
      ],
      "metadata": {
        "colab": {
          "base_uri": "https://localhost:8080/"
        },
        "id": "W3dFyJyAvzvx",
        "outputId": "fefe4d64-218f-481f-d7e1-757a95cf889a"
      },
      "execution_count": 4,
      "outputs": [
        {
          "output_type": "stream",
          "name": "stdout",
          "text": [
            "                                        ┌─'illumina_p5:29'\n",
            "                                        ├─'truseq_read1:10'\n",
            "                                        │                   ┌─'barcode:16'\n",
            "                                        ├─R1.fastq.gz───────┤\n",
            "                                        │                   └─'umi:10'\n",
            "─────────────────── ──RNA───────────────┤\n",
            "                                        ├─R2.fastq.gz────── ──'cDNA:98'\n",
            "                                        ├─'truseq_read2:34'\n",
            "                                        ├─I1.fastq.gz────── ──'index7:8'\n",
            "                                        └─'illumina_p7:24'\n"
          ]
        }
      ]
    },
    {
      "cell_type": "code",
      "source": [
        "!seqspec check seqspec/specs/10x-RNA-ATAC/spec.yaml"
      ],
      "metadata": {
        "id": "EqMqtB_uv2OL",
        "outputId": "0b62d8da-132c-465a-80e5-ff49be7a1b37",
        "colab": {
          "base_uri": "https://localhost:8080/"
        }
      },
      "execution_count": 5,
      "outputs": [
        {
          "output_type": "stream",
          "name": "stdout",
          "text": [
            "[error 1] None is not of type 'string' in spec['assay']\n",
            "[error 2] None is not of type 'string' in spec['sequencer']\n",
            "[error 3] 'RNA' is not one of ['rna', 'tag', 'protein', 'atac', 'crispr'] in spec['modalities'][0]\n",
            "[error 4] 'ATAC' is not one of ['rna', 'tag', 'protein', 'atac', 'crispr'] in spec['modalities'][1]\n",
            "[error 5] 'RNA' is not one of ['atac', 'barcode', 'cdna', 'crispr', 'fastq', 'gdna', 'hic', 'illumina_p5', 'illumina_p7', 'index5', 'index7', 'linker', 'ME1', 'ME2', 'methyl', 'nextera_read1', 'nextera_read2', 'poly_A', 'poly_G', 'poly_T', 'poly_C', 'protein', 'rna', 's5', 's7', 'tag', 'truseq_read1', 'truseq_read2', 'umi'] in spec['assay_spec'][0]['region_type']\n",
            "[error 6] None is not of type 'string' in spec['assay_spec'][0]['regions'][2]['sequence_type']\n",
            "[error 7] None is not one of ['fixed', 'random', 'onlist', 'joined'] in spec['assay_spec'][0]['regions'][2]['sequence_type']\n",
            "[error 8] None is not of type 'string' in spec['assay_spec'][0]['regions'][2]['regions'][0]['onlist']['md5']\n",
            "[error 9] None is not of type 'string' in spec['assay_spec'][0]['regions'][3]['sequence_type']\n",
            "[error 10] None is not one of ['fixed', 'random', 'onlist', 'joined'] in spec['assay_spec'][0]['regions'][3]['sequence_type']\n",
            "[error 11] 'cDNA' is not one of ['atac', 'barcode', 'cdna', 'crispr', 'fastq', 'gdna', 'hic', 'illumina_p5', 'illumina_p7', 'index5', 'index7', 'linker', 'ME1', 'ME2', 'methyl', 'nextera_read1', 'nextera_read2', 'poly_A', 'poly_G', 'poly_T', 'poly_C', 'protein', 'rna', 's5', 's7', 'tag', 'truseq_read1', 'truseq_read2', 'umi'] in spec['assay_spec'][0]['regions'][3]['regions'][0]['region_type']\n",
            "[error 12] None is not of type 'string' in spec['assay_spec'][0]['regions'][5]['sequence_type']\n",
            "[error 13] None is not one of ['fixed', 'random', 'onlist', 'joined'] in spec['assay_spec'][0]['regions'][5]['sequence_type']\n",
            "[error 14] None is not of type 'string' in spec['assay_spec'][0]['regions'][5]['regions'][0]['onlist']['md5']\n",
            "[error 15] 'ATAC' is not one of ['atac', 'barcode', 'cdna', 'crispr', 'fastq', 'gdna', 'hic', 'illumina_p5', 'illumina_p7', 'index5', 'index7', 'linker', 'ME1', 'ME2', 'methyl', 'nextera_read1', 'nextera_read2', 'poly_A', 'poly_G', 'poly_T', 'poly_C', 'protein', 'rna', 's5', 's7', 'tag', 'truseq_read1', 'truseq_read2', 'umi'] in spec['assay_spec'][1]['region_type']\n",
            "[error 16] 'cell_bc' is not one of ['atac', 'barcode', 'cdna', 'crispr', 'fastq', 'gdna', 'hic', 'illumina_p5', 'illumina_p7', 'index5', 'index7', 'linker', 'ME1', 'ME2', 'methyl', 'nextera_read1', 'nextera_read2', 'poly_A', 'poly_G', 'poly_T', 'poly_C', 'protein', 'rna', 's5', 's7', 'tag', 'truseq_read1', 'truseq_read2', 'umi'] in spec['assay_spec'][1]['regions'][1]['regions'][0]['region_type']\n",
            "[error 17] None is not of type 'string' in spec['assay_spec'][1]['regions'][1]['regions'][0]['onlist']['md5']\n",
            "[error 18] 'spacer' is not one of ['atac', 'barcode', 'cdna', 'crispr', 'fastq', 'gdna', 'hic', 'illumina_p5', 'illumina_p7', 'index5', 'index7', 'linker', 'ME1', 'ME2', 'methyl', 'nextera_read1', 'nextera_read2', 'poly_A', 'poly_G', 'poly_T', 'poly_C', 'protein', 'rna', 's5', 's7', 'tag', 'truseq_read1', 'truseq_read2', 'umi'] in spec['assay_spec'][1]['regions'][2]['region_type']\n",
            "[error 19] None is not of type 'string' in spec['assay_spec'][1]['regions'][4]['sequence_type']\n",
            "[error 20] None is not one of ['fixed', 'random', 'onlist', 'joined'] in spec['assay_spec'][1]['regions'][4]['sequence_type']\n",
            "[error 21] 'gDNA' is not one of ['atac', 'barcode', 'cdna', 'crispr', 'fastq', 'gdna', 'hic', 'illumina_p5', 'illumina_p7', 'index5', 'index7', 'linker', 'ME1', 'ME2', 'methyl', 'nextera_read1', 'nextera_read2', 'poly_A', 'poly_G', 'poly_T', 'poly_C', 'protein', 'rna', 's5', 's7', 'tag', 'truseq_read1', 'truseq_read2', 'umi'] in spec['assay_spec'][1]['regions'][4]['regions'][0]['region_type']\n",
            "[error 22] None is not of type 'string' in spec['assay_spec'][1]['regions'][5]['sequence_type']\n",
            "[error 23] None is not one of ['fixed', 'random', 'onlist', 'joined'] in spec['assay_spec'][1]['regions'][5]['sequence_type']\n",
            "[error 24] 'gDNA' is not one of ['atac', 'barcode', 'cdna', 'crispr', 'fastq', 'gdna', 'hic', 'illumina_p5', 'illumina_p7', 'index5', 'index7', 'linker', 'ME1', 'ME2', 'methyl', 'nextera_read1', 'nextera_read2', 'poly_A', 'poly_G', 'poly_T', 'poly_C', 'protein', 'rna', 's5', 's7', 'tag', 'truseq_read1', 'truseq_read2', 'umi'] in spec['assay_spec'][1]['regions'][5]['regions'][0]['region_type']\n",
            "[error 25] 'gz' is not one of ['atac', 'barcode', 'cdna', 'crispr', 'fastq', 'gdna', 'hic', 'illumina_p5', 'illumina_p7', 'index5', 'index7', 'linker', 'ME1', 'ME2', 'methyl', 'nextera_read1', 'nextera_read2', 'poly_A', 'poly_G', 'poly_T', 'poly_C', 'protein', 'rna', 's5', 's7', 'tag', 'truseq_read1', 'truseq_read2', 'umi'] in spec['assay_spec'][1]['regions'][7]['region_type']\n",
            "[error 26] None is not of type 'string' in spec['assay_spec'][1]['regions'][7]['regions'][0]['onlist']['md5']\n",
            "[error 26] index7_onlist.txt does not exist\n",
            "[error 27] index7_onlist.txt does not exist\n",
            "[error 28] region_id 'illumina_p5' is not unique across all regions\n",
            "[error 29] region_id 'index7' is not unique across all regions\n",
            "[error 30] region_id 'illumina_p7' is not unique across all regions\n",
            "[error 31] 'spacer' sequence 'CGCGTCTG' length '8' is less than min_len '33'\n"
          ]
        }
      ]
    },
    {
      "cell_type": "code",
      "source": [
        "!seqspec index -m RNA -r R1.fastq.gz seqspec/specs/10x-RNA-v3/spec.yaml"
      ],
      "metadata": {
        "id": "NuT_prmr5zmw",
        "colab": {
          "base_uri": "https://localhost:8080/"
        },
        "outputId": "c428c901-0688-4078-9247-c95f11a837e9"
      },
      "execution_count": 6,
      "outputs": [
        {
          "output_type": "stream",
          "name": "stdout",
          "text": [
            "R1.fastq.gz\tbarcode\t0\t16\n",
            "R1.fastq.gz\tumi\t16\t28\n"
          ]
        }
      ]
    },
    {
      "cell_type": "code",
      "source": [
        "!seqspec index --rev -m RNA -r R2.fastq.gz seqspec/specs/10x-RNA-v3/spec.yaml"
      ],
      "metadata": {
        "id": "qTK_NmaCZwuR",
        "outputId": "10628d7d-43ce-4e44-8ef7-a84bfa8f9aa9",
        "colab": {
          "base_uri": "https://localhost:8080/"
        }
      },
      "execution_count": 7,
      "outputs": [
        {
          "output_type": "stream",
          "name": "stdout",
          "text": [
            "R2.fastq.gz\tcDNA\t0\t98\n"
          ]
        }
      ]
    },
    {
      "cell_type": "code",
      "source": [
        "!seqspec find -m RNA -r barcode seqspec/specs/10x-RNA-v3/spec.yaml"
      ],
      "metadata": {
        "id": "7QSjMqk6ZX-n",
        "outputId": "8b5d469a-f710-47d7-bf88-c47cafe1b7c7",
        "colab": {
          "base_uri": "https://localhost:8080/"
        }
      },
      "execution_count": 8,
      "outputs": [
        {
          "output_type": "stream",
          "name": "stdout",
          "text": [
            "- !Region\n",
            "  region_id: barcode\n",
            "  region_type: barcode\n",
            "  name: Cell Barcode\n",
            "  sequence_type: onlist\n",
            "  sequence: NNNNNNNNNNNNNNNN\n",
            "  min_len: 16\n",
            "  max_len: 16\n",
            "  onlist: !Onlist\n",
            "    filename: 737K-august-2016.txt.gz\n",
            "    md5: null\n",
            "  regions: null\n",
            "  parent_id: R1.fastq.gz\n",
            "\n"
          ]
        }
      ]
    },
    {
      "cell_type": "markdown",
      "source": [
        "# Plot assays over time"
      ],
      "metadata": {
        "id": "R74j05KYQlbh"
      }
    },
    {
      "cell_type": "code",
      "source": [
        "import matplotlib.pyplot as plt\n",
        "import numpy as np\n",
        "import pandas as pd\n",
        "from datetime import datetime\n",
        "import matplotlib.dates as mdates\n",
        "fsize=15\n",
        "\n",
        "plt.rcParams.update({'font.size': fsize})\n",
        "%config InlineBackend.figure_format = 'retina'"
      ],
      "metadata": {
        "id": "Belq_6q7Qm8k"
      },
      "execution_count": 9,
      "outputs": []
    },
    {
      "cell_type": "code",
      "source": [
        "!for s in /content/seqspec/specs/*/spec.yaml; do grep -e name -e publication_date $s | head -2 | sed 's/\\: /:/g' | cut -f 2 -d\":\" | tr '\\n' '\\t' && echo -e \"\\n\"; done > dates.txt"
      ],
      "metadata": {
        "id": "upEWwLLRRe2b"
      },
      "execution_count": 10,
      "outputs": []
    },
    {
      "cell_type": "code",
      "source": [
        "df = pd.read_csv(\"dates.txt\", header=None, names=[\"assay\", \"publication_date\", \"bad\"], sep=\"\\t\").drop(columns=[\"bad\"]).dropna()"
      ],
      "metadata": {
        "id": "lElmbCPVSj2d"
      },
      "execution_count": 11,
      "outputs": []
    },
    {
      "cell_type": "code",
      "source": [
        "fmt = \"%d %B %Y\"\n",
        "dates = [datetime.strptime(d, fmt) for d in df[\"publication_date\"]]\n",
        "descriptions = df[\"assay\"]\n",
        "levels = np.tile([-9,9-7,7,-5, 5, -3, 3, -1, 1],\n",
        "                 int(np.ceil(len(dates)/8)))[:len(dates)]"
      ],
      "metadata": {
        "id": "rTrDVf_ATips",
        "colab": {
          "base_uri": "https://localhost:8080/",
          "height": 389
        },
        "outputId": "1e7f4923-7c4a-4b5d-8922-d0859dd41af2"
      },
      "execution_count": 12,
      "outputs": [
        {
          "output_type": "error",
          "ename": "ValueError",
          "evalue": "ignored",
          "traceback": [
            "\u001b[0;31m---------------------------------------------------------------------------\u001b[0m",
            "\u001b[0;31mValueError\u001b[0m                                Traceback (most recent call last)",
            "\u001b[0;32m<ipython-input-12-e36d9207f8d5>\u001b[0m in \u001b[0;36m<cell line: 2>\u001b[0;34m()\u001b[0m\n\u001b[1;32m      1\u001b[0m \u001b[0mfmt\u001b[0m \u001b[0;34m=\u001b[0m \u001b[0;34m\"%d %B %Y\"\u001b[0m\u001b[0;34m\u001b[0m\u001b[0;34m\u001b[0m\u001b[0m\n\u001b[0;32m----> 2\u001b[0;31m \u001b[0mdates\u001b[0m \u001b[0;34m=\u001b[0m \u001b[0;34m[\u001b[0m\u001b[0mdatetime\u001b[0m\u001b[0;34m.\u001b[0m\u001b[0mstrptime\u001b[0m\u001b[0;34m(\u001b[0m\u001b[0md\u001b[0m\u001b[0;34m,\u001b[0m \u001b[0mfmt\u001b[0m\u001b[0;34m)\u001b[0m \u001b[0;32mfor\u001b[0m \u001b[0md\u001b[0m \u001b[0;32min\u001b[0m \u001b[0mdf\u001b[0m\u001b[0;34m[\u001b[0m\u001b[0;34m\"publication_date\"\u001b[0m\u001b[0;34m]\u001b[0m\u001b[0;34m]\u001b[0m\u001b[0;34m\u001b[0m\u001b[0;34m\u001b[0m\u001b[0m\n\u001b[0m\u001b[1;32m      3\u001b[0m \u001b[0mdescriptions\u001b[0m \u001b[0;34m=\u001b[0m \u001b[0mdf\u001b[0m\u001b[0;34m[\u001b[0m\u001b[0;34m\"assay\"\u001b[0m\u001b[0;34m]\u001b[0m\u001b[0;34m\u001b[0m\u001b[0;34m\u001b[0m\u001b[0m\n\u001b[1;32m      4\u001b[0m levels = np.tile([-9,9-7,7,-5, 5, -3, 3, -1, 1],\n\u001b[1;32m      5\u001b[0m                  int(np.ceil(len(dates)/8)))[:len(dates)]\n",
            "\u001b[0;32m<ipython-input-12-e36d9207f8d5>\u001b[0m in \u001b[0;36m<listcomp>\u001b[0;34m(.0)\u001b[0m\n\u001b[1;32m      1\u001b[0m \u001b[0mfmt\u001b[0m \u001b[0;34m=\u001b[0m \u001b[0;34m\"%d %B %Y\"\u001b[0m\u001b[0;34m\u001b[0m\u001b[0;34m\u001b[0m\u001b[0m\n\u001b[0;32m----> 2\u001b[0;31m \u001b[0mdates\u001b[0m \u001b[0;34m=\u001b[0m \u001b[0;34m[\u001b[0m\u001b[0mdatetime\u001b[0m\u001b[0;34m.\u001b[0m\u001b[0mstrptime\u001b[0m\u001b[0;34m(\u001b[0m\u001b[0md\u001b[0m\u001b[0;34m,\u001b[0m \u001b[0mfmt\u001b[0m\u001b[0;34m)\u001b[0m \u001b[0;32mfor\u001b[0m \u001b[0md\u001b[0m \u001b[0;32min\u001b[0m \u001b[0mdf\u001b[0m\u001b[0;34m[\u001b[0m\u001b[0;34m\"publication_date\"\u001b[0m\u001b[0;34m]\u001b[0m\u001b[0;34m]\u001b[0m\u001b[0;34m\u001b[0m\u001b[0;34m\u001b[0m\u001b[0m\n\u001b[0m\u001b[1;32m      3\u001b[0m \u001b[0mdescriptions\u001b[0m \u001b[0;34m=\u001b[0m \u001b[0mdf\u001b[0m\u001b[0;34m[\u001b[0m\u001b[0;34m\"assay\"\u001b[0m\u001b[0;34m]\u001b[0m\u001b[0;34m\u001b[0m\u001b[0;34m\u001b[0m\u001b[0m\n\u001b[1;32m      4\u001b[0m levels = np.tile([-9,9-7,7,-5, 5, -3, 3, -1, 1],\n\u001b[1;32m      5\u001b[0m                  int(np.ceil(len(dates)/8)))[:len(dates)]\n",
            "\u001b[0;32m/usr/lib/python3.10/_strptime.py\u001b[0m in \u001b[0;36m_strptime_datetime\u001b[0;34m(cls, data_string, format)\u001b[0m\n\u001b[1;32m    566\u001b[0m     \"\"\"Return a class cls instance based on the input string and the\n\u001b[1;32m    567\u001b[0m     format string.\"\"\"\n\u001b[0;32m--> 568\u001b[0;31m     \u001b[0mtt\u001b[0m\u001b[0;34m,\u001b[0m \u001b[0mfraction\u001b[0m\u001b[0;34m,\u001b[0m \u001b[0mgmtoff_fraction\u001b[0m \u001b[0;34m=\u001b[0m \u001b[0m_strptime\u001b[0m\u001b[0;34m(\u001b[0m\u001b[0mdata_string\u001b[0m\u001b[0;34m,\u001b[0m \u001b[0mformat\u001b[0m\u001b[0;34m)\u001b[0m\u001b[0;34m\u001b[0m\u001b[0;34m\u001b[0m\u001b[0m\n\u001b[0m\u001b[1;32m    569\u001b[0m     \u001b[0mtzname\u001b[0m\u001b[0;34m,\u001b[0m \u001b[0mgmtoff\u001b[0m \u001b[0;34m=\u001b[0m \u001b[0mtt\u001b[0m\u001b[0;34m[\u001b[0m\u001b[0;34m-\u001b[0m\u001b[0;36m2\u001b[0m\u001b[0;34m:\u001b[0m\u001b[0;34m]\u001b[0m\u001b[0;34m\u001b[0m\u001b[0;34m\u001b[0m\u001b[0m\n\u001b[1;32m    570\u001b[0m     \u001b[0margs\u001b[0m \u001b[0;34m=\u001b[0m \u001b[0mtt\u001b[0m\u001b[0;34m[\u001b[0m\u001b[0;34m:\u001b[0m\u001b[0;36m6\u001b[0m\u001b[0;34m]\u001b[0m \u001b[0;34m+\u001b[0m \u001b[0;34m(\u001b[0m\u001b[0mfraction\u001b[0m\u001b[0;34m,\u001b[0m\u001b[0;34m)\u001b[0m\u001b[0;34m\u001b[0m\u001b[0;34m\u001b[0m\u001b[0m\n",
            "\u001b[0;32m/usr/lib/python3.10/_strptime.py\u001b[0m in \u001b[0;36m_strptime\u001b[0;34m(data_string, format)\u001b[0m\n\u001b[1;32m    347\u001b[0m     \u001b[0mfound\u001b[0m \u001b[0;34m=\u001b[0m \u001b[0mformat_regex\u001b[0m\u001b[0;34m.\u001b[0m\u001b[0mmatch\u001b[0m\u001b[0;34m(\u001b[0m\u001b[0mdata_string\u001b[0m\u001b[0;34m)\u001b[0m\u001b[0;34m\u001b[0m\u001b[0;34m\u001b[0m\u001b[0m\n\u001b[1;32m    348\u001b[0m     \u001b[0;32mif\u001b[0m \u001b[0;32mnot\u001b[0m \u001b[0mfound\u001b[0m\u001b[0;34m:\u001b[0m\u001b[0;34m\u001b[0m\u001b[0;34m\u001b[0m\u001b[0m\n\u001b[0;32m--> 349\u001b[0;31m         raise ValueError(\"time data %r does not match format %r\" %\n\u001b[0m\u001b[1;32m    350\u001b[0m                          (data_string, format))\n\u001b[1;32m    351\u001b[0m     \u001b[0;32mif\u001b[0m \u001b[0mlen\u001b[0m\u001b[0;34m(\u001b[0m\u001b[0mdata_string\u001b[0m\u001b[0;34m)\u001b[0m \u001b[0;34m!=\u001b[0m \u001b[0mfound\u001b[0m\u001b[0;34m.\u001b[0m\u001b[0mend\u001b[0m\u001b[0;34m(\u001b[0m\u001b[0;34m)\u001b[0m\u001b[0;34m:\u001b[0m\u001b[0;34m\u001b[0m\u001b[0;34m\u001b[0m\u001b[0m\n",
            "\u001b[0;31mValueError\u001b[0m: time data \"''\" does not match format '%d %B %Y'"
          ]
        }
      ]
    },
    {
      "cell_type": "code",
      "source": [
        "# Create figure and plot a stem plot with the date\n",
        "fig, ax = plt.subplots(figsize=(25, 10))\n",
        "\n",
        "ax.vlines(dates, 0, levels, color=\"grey\", alpha=0.5)  # The vertical stems.\n",
        "ax.plot(dates, np.zeros_like(dates), \"-o\", color=\"k\", markerfacecolor=\"w\")  # Baseline and markers on it.\n",
        "# ax.plot(new_cases.index.values, new_cases.values/new_cases.max()*10, color=\"lightgrey\", label=\"New cases\", zorder = -2)\n",
        "# annotate lines\n",
        "for d, l, desc in zip(dates, levels, descriptions):\n",
        "\n",
        "  weight = \"light\"\n",
        "  # if tl[\"highlight\"]:\n",
        "  #   weight = \"bold\"\n",
        "  ax.annotate(desc, xy=(d, l),\n",
        "              xytext=(-3, np.sign(l)*3), textcoords=\"offset points\",\n",
        "              horizontalalignment=\"center\",\n",
        "              verticalalignment=\"bottom\" if l > 0 else \"top\", weight=weight)\n",
        "\n",
        "# format xaxis with 4 month intervals\n",
        "ax.get_xaxis().set_major_locator(mdates.MonthLocator(interval=3))\n",
        "ax.get_xaxis().set_major_formatter(mdates.DateFormatter(\"%b %Y\"))\n",
        "plt.setp(ax.get_xticklabels(), rotation=30, ha=\"right\")\n",
        "\n",
        "# remove y axis and spines\n",
        "ax.get_yaxis().set_visible(False)\n",
        "for spine in [\"left\", \"top\", \"right\"]:\n",
        "    ax.spines[spine].set_visible(False)\n",
        "\n",
        "# ax.axvline(x=datetime.strptime(\"January 01, 2021\", fmt), color=\"lightgrey\", linestyle=\"--\", zorder=-1)\n",
        "ax.margins(y=0.1)\n",
        "ax.set(**{\n",
        "    \"title\": \"\"\n",
        "})\n",
        "\n",
        "fig.show()"
      ],
      "metadata": {
        "id": "cRQBiSVeTrxZ"
      },
      "execution_count": null,
      "outputs": []
    },
    {
      "cell_type": "markdown",
      "source": [
        "# Code testing"
      ],
      "metadata": {
        "id": "lyBeZwvTZmCB"
      }
    },
    {
      "cell_type": "code",
      "source": [
        "from seqspec.utils import load_spec, get_cuts\n",
        "from seqspec.seqspec_index import run_index\n",
        "from seqspec.seqspec_find import run_find\n",
        "import os"
      ],
      "metadata": {
        "id": "mt37b0RRrXlm"
      },
      "execution_count": 13,
      "outputs": []
    },
    {
      "cell_type": "code",
      "source": [
        "specA = load_spec(\"seqspec/specs/10x-RNA-v3/spec.yaml\")\n",
        "specB = load_spec(\"seqspec/specs/SPLiT-seq/spec.yaml\")\n",
        "\n",
        "# modality\n",
        "mA = \"RNA\"\n",
        "mB = \"RNA\"\n",
        "\n",
        "modeA = specA.get_modality(mA)\n",
        "modeB = specB.get_modality(mA)\n",
        "\n",
        "# Get the regions from specA based on the FASTQ file names\n",
        "fqA_fns = [\"data/R1.fastq.gz\", \"data/R2.fastq.gz\"]\n",
        "fqB_fns = [\"data/R1.fastq.gz\", \"data/R2.fastq.gz\"]\n",
        "\n"
      ],
      "metadata": {
        "id": "Wqe4fcqqAnyH"
      },
      "execution_count": 14,
      "outputs": []
    },
    {
      "cell_type": "code",
      "source": [
        "print(modeA.sequence)"
      ],
      "metadata": {
        "id": "OBC7ZopLq1uG",
        "outputId": "7985d997-74e7-43d6-927f-83b86a75d3e0",
        "colab": {
          "base_uri": "https://localhost:8080/"
        }
      },
      "execution_count": 15,
      "outputs": [
        {
          "output_type": "stream",
          "name": "stdout",
          "text": [
            "AATGATACGGCGACCACCGAGATCTACACTCTTTCCCTACACGACGCTCTTCCGATCTNNNNNNNNNNNNNNNNNNNNNNNNNNNNXAGATCGGAAGAGCACACGTCTGAACTCCAGTCACNNNNNNNNATCTCGTATGCCGTCTTCTGCTTG\n"
          ]
        }
      ]
    },
    {
      "cell_type": "code",
      "source": [
        "from collections import defaultdict\n",
        "def run_index_by_type(spec, modality, region_id, rev=False):\n",
        "    rid = region_id\n",
        "    # run function\n",
        "    index = defaultdict(list)\n",
        "    regions = run_find(spec, modality, rid)\n",
        "    leaves = regions[0].get_leaves()\n",
        "    if rev:\n",
        "        leaves.reverse()\n",
        "    cuts = get_cuts(leaves)\n",
        "\n",
        "    # groupby requested region\n",
        "    for idx, l in enumerate(leaves):\n",
        "        t = l.region_type\n",
        "        c = cuts[idx]\n",
        "        d = {\"region_id\":rid, \"cuts\": c}\n",
        "\n",
        "        index[t].extend([d])\n",
        "    return index"
      ],
      "metadata": {
        "id": "ICs_0nLTonzH"
      },
      "execution_count": 16,
      "outputs": []
    },
    {
      "cell_type": "code",
      "source": [
        "len(\"CAGCAGCCAGTCGTGCGCAGGAAGTTCAGCAGCCAGTCGTGCGCAGGAAGTTCAGCAGCCAGTCGTGCGCAGGAAGTTCAGCAGCCAGTCGTGCGCAGGAAGTTCAGCAGCCAGTCGTGCGCAGGAAGTTCAGCAGCCAGTCGTGCGCAGGAAGTT\")"
      ],
      "metadata": {
        "id": "jPBjFvbjdWkj",
        "outputId": "76eff620-ce3c-44c8-c5dd-33f0dc1b897a",
        "colab": {
          "base_uri": "https://localhost:8080/"
        }
      },
      "execution_count": 17,
      "outputs": [
        {
          "output_type": "execute_result",
          "data": {
            "text/plain": [
              "156"
            ]
          },
          "metadata": {},
          "execution_count": 17
        }
      ]
    },
    {
      "cell_type": "code",
      "source": [
        "!printf \"\"\"@D00456:228:HL73JBCXY:2:1114:13288:75632 1:N:0:0\\nCAGCAGCCAGTCGTGCGCAGGAAGTT\\n+\\nGGGGGIIIIIIIIIIIIIIIIGIIII\\n@D00456:228:HL73JBCXY:2:1216:6647:85709 1:N:0:0\\nCAGCTGGAGATACACAGGGGCCCGCA\\n+\\nGGGGGGIGGIGIIGIGGGIGGIIIGG\\n@D00456:228:HL73JBCXY:2:1206:8492:9636 1:N:0:0\\nCAGCTGGTCAGGCCCATAGTCTATTT\\n+\\nGGGGGIIIGGIIGIIIIIIGGGIIII\\n\"\"\" | gzip > R1.fastq.gz\n"
      ],
      "metadata": {
        "id": "EgtuXsvz_cgC"
      },
      "execution_count": 18,
      "outputs": []
    },
    {
      "cell_type": "code",
      "source": [
        "import gzip\n",
        "from contextlib import ExitStack\n",
        "\n",
        "\n",
        "def write_read(header, seq, qual, f):\n",
        "  f.write(f\"{header}\\n{seq}\\n+\\n{qual}\\n\")\n",
        "\n",
        "def run_split(spec, modality, rid, fname, o=\"\"):\n",
        "  # given a modality, region, and FASTQ file, separate all of the first level sub regions\n",
        "  index = defaultdict(list)\n",
        "\n",
        "  rgn = run_find(spec, modality, rid)[0]\n",
        "  cuts = get_cuts(rgn.regions)\n",
        "  # groupby requested region\n",
        "  for idx, l in enumerate(rgn.regions):\n",
        "      t = l.region_type\n",
        "      c = cuts[idx]\n",
        "\n",
        "      index[t].extend([c])\n",
        "  # sort the lists within each\n",
        "  for r, cs in index.items():\n",
        "    index[r] = sorted(cs, key=lambda tup: tup[0])\n",
        "    print(index)\n",
        "\n",
        "\n",
        "  with gzip.open(fname, 'rt') as f, ExitStack() as stack:\n",
        "    outfile = {fname: stack.enter_context(open(f\"{o+fname}.fastq\", \"w\")) for fname in index.keys()}\n",
        "    lines = []\n",
        "    for idx, l in enumerate(f):\n",
        "      lines.append(l.strip())\n",
        "      if (idx + 1)%4 != 0:\n",
        "        continue\n",
        "      header = lines[0]\n",
        "      seq = lines[1]\n",
        "      qual = lines[3]\n",
        "      for rgn, cs in index.items():\n",
        "        for c in cs:\n",
        "          l,r = c\n",
        "          print(l,r)\n",
        "          write_read(header, seq[l:r], qual[l:r], outfile[rgn])\n",
        "      lines = []"
      ],
      "metadata": {
        "id": "0OW-rmeAyRTO"
      },
      "execution_count": 19,
      "outputs": []
    },
    {
      "cell_type": "code",
      "source": [
        "import os"
      ],
      "metadata": {
        "id": "n0jI7Qx4enj1"
      },
      "execution_count": 20,
      "outputs": []
    },
    {
      "cell_type": "code",
      "source": [
        "os.path.join(\"asd\", \"fastq\")"
      ],
      "metadata": {
        "id": "8QwMfulfeoPb",
        "outputId": "82f978e1-4cc9-4fe4-dfec-0b10bde3f897",
        "colab": {
          "base_uri": "https://localhost:8080/",
          "height": 35
        }
      },
      "execution_count": 21,
      "outputs": [
        {
          "output_type": "execute_result",
          "data": {
            "text/plain": [
              "'asd/fastq'"
            ],
            "application/vnd.google.colaboratory.intrinsic+json": {
              "type": "string"
            }
          },
          "metadata": {},
          "execution_count": 21
        }
      ]
    },
    {
      "cell_type": "code",
      "source": [
        "!cat barcode.fastq umi.fastq"
      ],
      "metadata": {
        "id": "bKVIoBn5FenH",
        "outputId": "f613f279-7e2d-4e62-dd9f-b19c5d8deb56",
        "colab": {
          "base_uri": "https://localhost:8080/"
        }
      },
      "execution_count": 22,
      "outputs": [
        {
          "output_type": "stream",
          "name": "stdout",
          "text": [
            "cat: barcode.fastq: No such file or directory\n",
            "cat: umi.fastq: No such file or directory\n"
          ]
        }
      ]
    },
    {
      "cell_type": "code",
      "source": [
        "!cat cDNA.fastq"
      ],
      "metadata": {
        "id": "IwWaSfzKcydk",
        "outputId": "896b4432-670c-4c73-9614-d187c416faa7",
        "colab": {
          "base_uri": "https://localhost:8080/"
        }
      },
      "execution_count": 23,
      "outputs": [
        {
          "output_type": "stream",
          "name": "stdout",
          "text": [
            "cat: cDNA.fastq: No such file or directory\n"
          ]
        }
      ]
    },
    {
      "cell_type": "code",
      "source": [
        "# target is each region_type gets a fastq file with the relevant sequence\n",
        "tmp = {}\n",
        "r = \"R2.fastq.gz\"\n",
        "x = run_index_by_type(specB, \"RNA\", r)\n",
        "r = \"R1.fastq.gz\"\n",
        "y = run_index_by_type(specB, \"RNA\", r)"
      ],
      "metadata": {
        "id": "JQo4CvnfUF3d"
      },
      "execution_count": 24,
      "outputs": []
    },
    {
      "cell_type": "code",
      "source": [
        "merged = { key: x.get(key,[]) + y.get(key, []) for key in set(list(x.keys()) + list(y.keys())) }"
      ],
      "metadata": {
        "id": "OX2-cPX_r37x"
      },
      "execution_count": 25,
      "outputs": []
    },
    {
      "cell_type": "code",
      "source": [
        "merged[\"barcode\"]"
      ],
      "metadata": {
        "colab": {
          "base_uri": "https://localhost:8080/"
        },
        "id": "q23zpYWvytTA",
        "outputId": "80792fab-0dcb-47ea-c090-6dbee71d88e5"
      },
      "execution_count": 26,
      "outputs": [
        {
          "output_type": "execute_result",
          "data": {
            "text/plain": [
              "[{'region_id': 'R2.fastq.gz', 'cuts': (0, 8)},\n",
              " {'region_id': 'R2.fastq.gz', 'cuts': (38, 46)},\n",
              " {'region_id': 'R2.fastq.gz', 'cuts': (76, 84)}]"
            ]
          },
          "metadata": {},
          "execution_count": 26
        }
      ]
    },
    {
      "cell_type": "code",
      "source": [
        "files = {\n",
        "    \"R1.fastq.gz\": \"ATGTCTCTGGTACTAGCATCGACTGCGCTAAAACGATGTCTCTGGTACTAGCATCGACTGCGCTAAAACGATGTCTCTGGTACTAGCATCGACTGCGCTAAAACGATGTCTCTGGTACTAGCATCGACTGCGCTAAAACG\",\n",
        "    \"R2.fastq.gz\": \"ATGTCTCTGGTACTAGCATCGACTGCGCTAAAACGATGTCTCTGGTACTAGCATCGACTGCGCTAAAACGATGTCTCTGGTACTAGCATCGACTGCGCTAAAACGATGTCTCTGGTACTAGCATCGACTGCGCTAAAACG\"\n",
        "}"
      ],
      "metadata": {
        "id": "xDtjHdz9yzlO"
      },
      "execution_count": 27,
      "outputs": []
    },
    {
      "cell_type": "code",
      "source": [],
      "metadata": {
        "id": "hQuRlGDf1bW5"
      },
      "execution_count": 27,
      "outputs": []
    },
    {
      "cell_type": "code",
      "source": [
        "write = defaultdict(list)\n",
        "for k, v in merged.items():\n",
        "  for c in v:\n",
        "    rid = c[\"region_id\"]\n",
        "    l,r = c[\"cuts\"]\n",
        "    subseq = files[rid][l:r]\n",
        "    write[k].append(subseq)\n",
        "    print(k, rid, l,r,subseq)"
      ],
      "metadata": {
        "colab": {
          "base_uri": "https://localhost:8080/"
        },
        "id": "Ao8f4fhqy-rm",
        "outputId": "534e84e7-a905-44ad-91dc-d822027b9265"
      },
      "execution_count": 28,
      "outputs": [
        {
          "output_type": "stream",
          "name": "stdout",
          "text": [
            "umi R2.fastq.gz 84 94 AGCATCGACT\n",
            "cDNA R1.fastq.gz 0 98 ATGTCTCTGGTACTAGCATCGACTGCGCTAAAACGATGTCTCTGGTACTAGCATCGACTGCGCTAAAACGATGTCTCTGGTACTAGCATCGACTGCGC\n",
            "linker R2.fastq.gz 8 38 GGTACTAGCATCGACTGCGCTAAAACGATG\n",
            "linker R2.fastq.gz 46 76 ACTAGCATCGACTGCGCTAAAACGATGTCT\n",
            "barcode R2.fastq.gz 0 8 ATGTCTCT\n",
            "barcode R2.fastq.gz 38 46 TCTCTGGT\n",
            "barcode R2.fastq.gz 76 84 CTGGTACT\n"
          ]
        }
      ]
    },
    {
      "cell_type": "code",
      "source": [
        "write"
      ],
      "metadata": {
        "colab": {
          "base_uri": "https://localhost:8080/"
        },
        "id": "eDxekNjX0nHS",
        "outputId": "25e902fe-604f-4522-b65c-4597929b87da"
      },
      "execution_count": 29,
      "outputs": [
        {
          "output_type": "execute_result",
          "data": {
            "text/plain": [
              "defaultdict(list,\n",
              "            {'umi': ['AGCATCGACT'],\n",
              "             'cDNA': ['ATGTCTCTGGTACTAGCATCGACTGCGCTAAAACGATGTCTCTGGTACTAGCATCGACTGCGCTAAAACGATGTCTCTGGTACTAGCATCGACTGCGC'],\n",
              "             'linker': ['GGTACTAGCATCGACTGCGCTAAAACGATG',\n",
              "              'ACTAGCATCGACTGCGCTAAAACGATGTCT'],\n",
              "             'barcode': ['ATGTCTCT', 'TCTCTGGT', 'CTGGTACT']})"
            ]
          },
          "metadata": {},
          "execution_count": 29
        }
      ]
    },
    {
      "cell_type": "code",
      "source": [
        "# from contextlib import ExitStack\n",
        "\n",
        "# with ExitStack() as stack, open(file_c, \"w\") as out:\n",
        "#     infiles = [stack.enter_context(open(fname)) for fname in filenames]\n",
        "#     for lines in zip(*infiles):\n",
        "#         out.writelines(lines)"
      ],
      "metadata": {
        "id": "Lvc5rWwW4A3u"
      },
      "execution_count": 30,
      "outputs": []
    },
    {
      "cell_type": "code",
      "source": [
        "# get leaf nodes and lengths\n"
      ],
      "metadata": {
        "id": "vpS8_WzqJQ4k"
      },
      "execution_count": 31,
      "outputs": []
    },
    {
      "cell_type": "code",
      "source": [
        "# atac\n",
        "# methyl\n",
        "# rna\n",
        "# protein\n",
        "# hic\n",
        "# crispr\n",
        "\n",
        "colors = {\n",
        "\"barcode\": '#2980B9',\n",
        "\"cdna\": '#8E44AD',\n",
        "\"fastq\": '#F1C40F',\n",
        "\"gdna\": '#E67E22',\n",
        "\"illumina_p5\": '#E17A47',\n",
        "\"illumina_p7\": '#E17A47',\n",
        "\"index5\": '#4AB19D',\n",
        "\"index7\": '#4AB19D',\n",
        "\"linker\": '#1ABC9C',\n",
        "\"ME1\": '#E74C3C',\n",
        "\"ME2\": '#E74C3C',\n",
        "\"nextera_read1\": '#FF8000',\n",
        "\"nextera_read2\": '#FF8000',\n",
        "\"poly_A\": '#FF0000',\n",
        "\"poly_G\": '#C0C0C0',\n",
        "\"poly_T\": '#7F8C8D',\n",
        "\"poly_C\": '#2C3E50',\n",
        "\"s5\": '#EF3D59',\n",
        "\"s7\": '#EF3D59',\n",
        "\"truseq_read1\": '#EFC958',\n",
        "\"truseq_read2\": '#EFC958',\n",
        "\"umi\": '#16A085',\n",
        "\"tag\": '#344E5C',\n",
        "\"protein\": '#ECF0F1'}\n",
        "\n",
        "\n",
        "\n",
        "'#FF8C00'\n",
        "'#95A5A6'"
      ],
      "metadata": {
        "colab": {
          "base_uri": "https://localhost:8080/",
          "height": 35
        },
        "id": "ZYjF3oZ-KkTZ",
        "outputId": "c8d08251-4d60-4cf1-e0a9-7df2ce421ae0"
      },
      "execution_count": 32,
      "outputs": [
        {
          "output_type": "execute_result",
          "data": {
            "text/plain": [
              "'#95A5A6'"
            ],
            "application/vnd.google.colaboratory.intrinsic+json": {
              "type": "string"
            }
          },
          "metadata": {},
          "execution_count": 32
        }
      ]
    },
    {
      "cell_type": "code",
      "source": [
        "spec = load_spec(\"seqspec/specs/dogmaseq-lll/spec.yaml\")\n",
        "\n",
        "# modality\n",
        "modalities = spec.list_modalities()\n",
        "modes = [spec.get_modality(m) for m in modalities]\n",
        "lengths = [i.min_len for i in modes]\n",
        "nmodes = len(modalities)"
      ],
      "metadata": {
        "id": "A4xrxYXZUBWT"
      },
      "execution_count": 33,
      "outputs": []
    },
    {
      "cell_type": "code",
      "source": [
        "# sort the modalities by their lengths\n",
        "asort = np.argsort(lengths)\n",
        "modalities = np.array(modalities)[asort].tolist()\n",
        "lengths = np.array(lengths)[asort].tolist()\n",
        "modes = np.array(modes)[asort].tolist()"
      ],
      "metadata": {
        "id": "7Lzo1OTUMVBK"
      },
      "execution_count": 45,
      "outputs": []
    },
    {
      "cell_type": "code",
      "source": [
        "from matplotlib.patches import Rectangle\n",
        "import matplotlib.patches as mpatches\n"
      ],
      "metadata": {
        "id": "5TnT8FTMJxWZ"
      },
      "execution_count": 34,
      "outputs": []
    },
    {
      "cell_type": "code",
      "source": [
        "fig, ax = plt.subplots()\n",
        "fig.get_axes()\n"
      ],
      "metadata": {
        "colab": {
          "base_uri": "https://localhost:8080/",
          "height": 463
        },
        "id": "YeelzYpMVq6C",
        "outputId": "42a1d3bf-51af-4769-d406-f677e31ddb0e"
      },
      "execution_count": 94,
      "outputs": [
        {
          "output_type": "execute_result",
          "data": {
            "text/plain": [
              "[<Axes: >]"
            ]
          },
          "metadata": {},
          "execution_count": 94
        },
        {
          "output_type": "display_data",
          "data": {
            "text/plain": [
              "<Figure size 640x480 with 1 Axes>"
            ],
            "image/png": "[encoded data removed]"
          },
          "metadata": {
            "image/png": {
              "width": 575,
              "height": 428
            }
          }
        }
      ]
    },
    {
      "cell_type": "code",
      "source": [
        "fig, axs = plt.subplots(figsize=(10,1*nmodes), nrows=nmodes, constrained_layout=True)\n",
        "fig.suptitle(\"DOGMAseq-LLL\")\n",
        "rts = []\n",
        "for m,ax in zip(modes,fig.get_axes()):\n",
        "  # get leaves\n",
        "  leaves = m.get_leaves()\n",
        "\n",
        "  # setup plotting variables\n",
        "  y = 0\n",
        "  x = 0\n",
        "  height = 1\n",
        "\n",
        "  for idx, node in enumerate(leaves):\n",
        "    # region tupe\n",
        "    rtype = node.region_type.lower()\n",
        "    # add to the global list so we can make a legend\n",
        "    rts.append(rtype)\n",
        "    # get region properties\n",
        "    length = node.min_len\n",
        "    label = f\"{length}\"\n",
        "\n",
        "    # setup rectangle for the region\n",
        "    rectangle = Rectangle((x, y), length, height, color=colors[rtype], ec='black')\n",
        "\n",
        "    # write in the length of the region in the rectangle\n",
        "    ax.text(x + length/2, y + height/2, label, horizontalalignment='center', verticalalignment='center')#, rotation=90)\n",
        "    # add the rectangle\n",
        "    ax.add_patch(rectangle)\n",
        "\n",
        "    # add length to x for next region\n",
        "    x += length\n",
        "\n",
        "  ax.autoscale()\n",
        "\n",
        "  # since all axes use the same scale, set the xlim to be 0 to the max length\n",
        "  ax.set(**{\n",
        "      \"xlim\": (0,max(lengths))\n",
        "  })\n",
        "\n",
        "  # hide the spines\n",
        "  ax.spines[['right', 'top', 'left', 'bottom']].set_visible(False)\n",
        "  # Hide the axis and ticks and labels\n",
        "  ax.xaxis.set_visible(False)\n",
        "  ax.set_yticklabels([])\n",
        "  ax.set_yticks([])\n",
        "\n",
        "  # label the modality on the ylabel\n",
        "  ax.set_ylabel(m.region_type, rotation=0, fontsize=20, ha=\"right\", va=\"center\")\n",
        "\n",
        "# adjust the xaxis for the last modality to show the length\n",
        "ax.xaxis.set_visible(True)\n",
        "ax.spines[['bottom']].set_visible(True)\n",
        "ax.minorticks_on()\n",
        "\n",
        "ax.set(**{\n",
        "    \"xlabel\": \"# nucleotides\",\n",
        "})\n",
        "\n",
        "# setup the figure legend\n",
        "handles = []\n",
        "for t in sorted(set(rts)):\n",
        "  handles.append(mpatches.Patch(color=colors[t], label=t))\n",
        "fig.legend(handles=handles, loc='center', bbox_to_anchor=(1.1, 0.55))\n",
        "\n",
        "fig.show()"
      ],
      "metadata": {
        "colab": {
          "base_uri": "https://localhost:8080/",
          "height": 328
        },
        "id": "_Vr8WOARJNAt",
        "outputId": "1cada4a4-789a-4627-efda-66bd18d2dcb3"
      },
      "execution_count": 96,
      "outputs": [
        {
          "output_type": "display_data",
          "data": {
            "text/plain": [
              "<Figure size 1000x300 with 3 Axes>"
            ],
            "image/png": "[encoded data removed]"
          },
          "metadata": {
            "image/png": {
              "width": 1195,
              "height": 311
            }
          }
        }
      ]
    },
    {
      "cell_type": "code",
      "source": [],
      "metadata": {
        "id": "fLhhx-WPP9w7"
      },
      "execution_count": null,
      "outputs": []
    }
  ]
}