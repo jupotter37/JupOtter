{
 "cells": [
  {
   "cell_type": "code",
   "execution_count": 1,
   "metadata": {},
   "outputs": [
    {
     "data": {
      "text/html": [
       "<style>.container { width:100% !important; }</style>"
      ],
      "text/plain": [
       "<IPython.core.display.HTML object>"
      ]
     },
     "metadata": {},
     "output_type": "display_data"
    },
    {
     "name": "stderr",
     "output_type": "stream",
     "text": [
      "[__init__.py:415 -              wrapper() ] CACHEDIR=/home/mwieder/.cache/matplotlib\n",
      "[font_manager.py:1362 -             <module>() ] Using fontManager instance from /home/mwieder/.cache/matplotlib/fontlist-v300.json\n",
      "[pyplot.py:211 -       switch_backend() ] Loaded backend module://ipykernel.pylab.backend_inline version unknown.\n",
      "[pyplot.py:211 -       switch_backend() ] Loaded backend module://ipykernel.pylab.backend_inline version unknown.\n"
     ]
    }
   ],
   "source": [
    "from IPython.core.display import display, HTML\n",
    "display(HTML(\"<style>.container { width:100% !important; }</style>\"))\n",
    "from protons.app import logger\n",
    "from protons.app.logger import log\n",
    "from protons import app\n",
    "from simtk import openmm as mm\n",
    "import logging\n",
    "log.setLevel(logging.DEBUG)\n",
    "import yaml\n",
    "import tautomer_utils\n",
    "from protons.app.driver import SAMSApproach, Stage, UpdateRule"
   ]
  },
  {
   "cell_type": "code",
   "execution_count": 2,
   "metadata": {},
   "outputs": [
    {
     "name": "stderr",
     "output_type": "stream",
     "text": [
      "/home/mwieder/anaconda3/envs/protons-dev/lib/python3.6/site-packages/ipykernel_launcher.py:1: YAMLLoadWarning: calling yaml.load() without Loader=... is deprecated, as the default Loader is unsafe. Please read https://msg.pyyaml.org/load for full details.\n",
      "  \"\"\"Entry point for launching an IPython kernel.\n"
     ]
    }
   ],
   "source": [
    "settings = yaml.load(open('bmi.json', \"r\"))\n",
    "settings['pH'] = 7.8\n",
    "settings['resname'] = 'UNL'"
   ]
  },
  {
   "cell_type": "code",
   "execution_count": 3,
   "metadata": {
    "scrolled": false
   },
   "outputs": [
    {
     "name": "stderr",
     "output_type": "stream",
     "text": [
      "[ligands.py:1598 - generate_protons_ffxml() ] Processing Epik output...\n",
      "[ligands.py:1601 - generate_protons_ffxml() ] Parametrizing the isomers...\n",
      "[ligands.py:1613 - generate_protons_ffxml() ] ffxml generation for 0\n"
     ]
    },
    {
     "ename": "RuntimeError",
     "evalue": "omega returned error code 0",
     "output_type": "error",
     "traceback": [
      "\u001b[0;31m---------------------------------------------------------------------------\u001b[0m",
      "\u001b[0;31mRuntimeError\u001b[0m                              Traceback (most recent call last)",
      "\u001b[0;32m<ipython-input-3-c08dbb2b63b3>\u001b[0m in \u001b[0;36m<module>\u001b[0;34m\u001b[0m\n\u001b[1;32m      2\u001b[0m \u001b[0mt2\u001b[0m \u001b[0;34m=\u001b[0m  \u001b[0;34m{\u001b[0m \u001b[0;34m'log_population'\u001b[0m \u001b[0;34m:\u001b[0m \u001b[0;34m'1.0'\u001b[0m\u001b[0;34m,\u001b[0m \u001b[0;34m'net_charge'\u001b[0m \u001b[0;34m:\u001b[0m \u001b[0;36m0\u001b[0m \u001b[0;34m}\u001b[0m\u001b[0;34m\u001b[0m\u001b[0;34m\u001b[0m\u001b[0m\n\u001b[1;32m      3\u001b[0m \u001b[0misomer_dictionary\u001b[0m \u001b[0;34m=\u001b[0m \u001b[0;34m[\u001b[0m \u001b[0mt1\u001b[0m\u001b[0;34m,\u001b[0m \u001b[0mt2\u001b[0m \u001b[0;34m]\u001b[0m\u001b[0;34m\u001b[0m\u001b[0;34m\u001b[0m\u001b[0m\n\u001b[0;32m----> 4\u001b[0;31m \u001b[0mtautomer_utils\u001b[0m\u001b[0;34m.\u001b[0m\u001b[0msetting_up_tautomer\u001b[0m\u001b[0;34m(\u001b[0m\u001b[0msettings\u001b[0m\u001b[0;34m,\u001b[0m \u001b[0misomer_dictionary\u001b[0m\u001b[0;34m)\u001b[0m\u001b[0;34m\u001b[0m\u001b[0;34m\u001b[0m\u001b[0m\n\u001b[0m",
      "\u001b[0;32m~/Work/Projects/protons-dev/protons/examples/tautomers/tautomer_utils.py\u001b[0m in \u001b[0;36msetting_up_tautomer\u001b[0;34m(settings, isomer_dictionary)\u001b[0m\n\u001b[1;32m     79\u001b[0m \u001b[0;34m\u001b[0m\u001b[0m\n\u001b[1;32m     80\u001b[0m     \u001b[0;31m# parametrize\u001b[0m\u001b[0;34m\u001b[0m\u001b[0;34m\u001b[0m\u001b[0;34m\u001b[0m\u001b[0m\n\u001b[0;32m---> 81\u001b[0;31m     \u001b[0mgenerate_protons_ffxml\u001b[0m\u001b[0;34m(\u001b[0m\u001b[0mdhydrogen_fix\u001b[0m\u001b[0;34m,\u001b[0m \u001b[0misomer_dictionary\u001b[0m\u001b[0;34m,\u001b[0m \u001b[0moffxml\u001b[0m\u001b[0;34m,\u001b[0m \u001b[0mpH\u001b[0m\u001b[0;34m,\u001b[0m \u001b[0mresname\u001b[0m\u001b[0;34m=\u001b[0m\u001b[0mresname\u001b[0m\u001b[0;34m,\u001b[0m \u001b[0mtautomers\u001b[0m\u001b[0;34m=\u001b[0m\u001b[0;32mTrue\u001b[0m\u001b[0;34m,\u001b[0m \u001b[0mpdb_file_path\u001b[0m\u001b[0;34m=\u001b[0m\u001b[0micalib\u001b[0m\u001b[0;34m)\u001b[0m\u001b[0;34m\u001b[0m\u001b[0;34m\u001b[0m\u001b[0m\n\u001b[0m\u001b[1;32m     82\u001b[0m     \u001b[0;31m# create hydrogens\u001b[0m\u001b[0;34m\u001b[0m\u001b[0;34m\u001b[0m\u001b[0;34m\u001b[0m\u001b[0m\n\u001b[1;32m     83\u001b[0m     \u001b[0mcreate_hydrogen_definitions\u001b[0m\u001b[0;34m(\u001b[0m\u001b[0moffxml\u001b[0m\u001b[0;34m,\u001b[0m \u001b[0mhydrogen_def\u001b[0m\u001b[0;34m,\u001b[0m \u001b[0mtautomers\u001b[0m\u001b[0;34m=\u001b[0m\u001b[0;32mTrue\u001b[0m\u001b[0;34m)\u001b[0m\u001b[0;34m\u001b[0m\u001b[0;34m\u001b[0m\u001b[0m\n",
      "\u001b[0;32m~/anaconda3/envs/protons-dev/lib/python3.6/site-packages/protons-0.0.1a6+20.g79ce0da.dirty-py3.6.egg/protons/app/ligands.py\u001b[0m in \u001b[0;36mgenerate_protons_ffxml\u001b[0;34m(inputmol2, isomer_dicts, outputffxml, pH, resname, omega_max_confs, tautomers, pdb_file_path)\u001b[0m\n\u001b[1;32m   1613\u001b[0m         \u001b[0mlog\u001b[0m\u001b[0;34m.\u001b[0m\u001b[0mdebug\u001b[0m\u001b[0;34m(\u001b[0m\u001b[0;34m\"ffxml generation for {}\"\u001b[0m\u001b[0;34m.\u001b[0m\u001b[0mformat\u001b[0m\u001b[0;34m(\u001b[0m\u001b[0misomer_index\u001b[0m\u001b[0;34m)\u001b[0m\u001b[0;34m)\u001b[0m\u001b[0;34m\u001b[0m\u001b[0;34m\u001b[0m\u001b[0m\n\u001b[1;32m   1614\u001b[0m         ffxml = omtff.generateForceFieldFromMolecules(\n\u001b[0;32m-> 1615\u001b[0;31m             \u001b[0;34m[\u001b[0m\u001b[0moemolecule\u001b[0m\u001b[0;34m]\u001b[0m\u001b[0;34m,\u001b[0m \u001b[0mnormalize\u001b[0m\u001b[0;34m=\u001b[0m\u001b[0;32mFalse\u001b[0m\u001b[0;34m,\u001b[0m \u001b[0momega_max_confs\u001b[0m\u001b[0;34m=\u001b[0m\u001b[0momega_max_confs\u001b[0m\u001b[0;34m\u001b[0m\u001b[0;34m\u001b[0m\u001b[0m\n\u001b[0m\u001b[1;32m   1616\u001b[0m         )\n\u001b[1;32m   1617\u001b[0m         \u001b[0mlog\u001b[0m\u001b[0;34m.\u001b[0m\u001b[0mdebug\u001b[0m\u001b[0;34m(\u001b[0m\u001b[0mffxml\u001b[0m\u001b[0;34m)\u001b[0m\u001b[0;34m\u001b[0m\u001b[0;34m\u001b[0m\u001b[0m\n",
      "\u001b[0;32m~/anaconda3/envs/protons-dev/lib/python3.6/site-packages/protons-0.0.1a6+20.g79ce0da.dirty-py3.6.egg/protons/app/forcefield_generators.py\u001b[0m in \u001b[0;36mgenerateForceFieldFromMolecules\u001b[0;34m(molecules, ignoreFailures, generateUniqueNames, normalize, gaff_version, use_recommended, omega_max_confs)\u001b[0m\n\u001b[1;32m    501\u001b[0m             \u001b[0;32melse\u001b[0m\u001b[0;34m:\u001b[0m\u001b[0;34m\u001b[0m\u001b[0;34m\u001b[0m\u001b[0m\n\u001b[1;32m    502\u001b[0m                 molecule = assignELF10charges(\n\u001b[0;32m--> 503\u001b[0;31m                     \u001b[0mmolecule\u001b[0m\u001b[0;34m,\u001b[0m \u001b[0mstrictStereo\u001b[0m\u001b[0;34m=\u001b[0m\u001b[0;32mFalse\u001b[0m\u001b[0;34m,\u001b[0m \u001b[0mmax_confs\u001b[0m\u001b[0;34m=\u001b[0m\u001b[0mnconf\u001b[0m\u001b[0;34m\u001b[0m\u001b[0;34m\u001b[0m\u001b[0m\n\u001b[0m\u001b[1;32m    504\u001b[0m                 )\n\u001b[1;32m    505\u001b[0m         \u001b[0;32melse\u001b[0m\u001b[0;34m:\u001b[0m\u001b[0;34m\u001b[0m\u001b[0;34m\u001b[0m\u001b[0m\n",
      "\u001b[0;32m~/anaconda3/envs/protons-dev/lib/python3.6/site-packages/protons-0.0.1a6+20.g79ce0da.dirty-py3.6.egg/protons/app/openeye.py\u001b[0m in \u001b[0;36massignELF10charges\u001b[0;34m(molecule, max_confs, strictStereo)\u001b[0m\n\u001b[1;32m    115\u001b[0m             \u001b[0;31m# Generate up to max_confs conformers\u001b[0m\u001b[0;34m\u001b[0m\u001b[0;34m\u001b[0m\u001b[0;34m\u001b[0m\u001b[0m\n\u001b[1;32m    116\u001b[0m             mol_copy = generate_conformers(\n\u001b[0;32m--> 117\u001b[0;31m                 \u001b[0mmol_copy\u001b[0m\u001b[0;34m,\u001b[0m \u001b[0mmax_confs\u001b[0m\u001b[0;34m=\u001b[0m\u001b[0mmax_confs\u001b[0m\u001b[0;34m,\u001b[0m \u001b[0mstrictStereo\u001b[0m\u001b[0;34m=\u001b[0m\u001b[0mstrictStereo\u001b[0m\u001b[0;34m\u001b[0m\u001b[0;34m\u001b[0m\u001b[0m\n\u001b[0m\u001b[1;32m    118\u001b[0m             )\n\u001b[1;32m    119\u001b[0m \u001b[0;34m\u001b[0m\u001b[0m\n",
      "\u001b[0;32m~/anaconda3/envs/protons-dev/lib/python3.6/site-packages/protons-0.0.1a6+20.g79ce0da.dirty-py3.6.egg/protons/app/openeye.py\u001b[0m in \u001b[0;36mgenerate_conformers\u001b[0;34m(molecule, max_confs, strictStereo, ewindow, rms_threshold, strictTypes)\u001b[0m\n\u001b[1;32m    418\u001b[0m     \u001b[0mstatus\u001b[0m \u001b[0;34m=\u001b[0m \u001b[0momega\u001b[0m\u001b[0;34m(\u001b[0m\u001b[0mmolcopy\u001b[0m\u001b[0;34m)\u001b[0m  \u001b[0;31m# generate conformation\u001b[0m\u001b[0;34m\u001b[0m\u001b[0;34m\u001b[0m\u001b[0m\n\u001b[1;32m    419\u001b[0m     \u001b[0;32mif\u001b[0m \u001b[0;32mnot\u001b[0m \u001b[0mstatus\u001b[0m\u001b[0;34m:\u001b[0m\u001b[0;34m\u001b[0m\u001b[0;34m\u001b[0m\u001b[0m\n\u001b[0;32m--> 420\u001b[0;31m         \u001b[0;32mraise\u001b[0m \u001b[0;34m(\u001b[0m\u001b[0mRuntimeError\u001b[0m\u001b[0;34m(\u001b[0m\u001b[0;34m\"omega returned error code %d\"\u001b[0m \u001b[0;34m%\u001b[0m \u001b[0mstatus\u001b[0m\u001b[0;34m)\u001b[0m\u001b[0;34m)\u001b[0m\u001b[0;34m\u001b[0m\u001b[0;34m\u001b[0m\u001b[0m\n\u001b[0m\u001b[1;32m    421\u001b[0m \u001b[0;34m\u001b[0m\u001b[0m\n\u001b[1;32m    422\u001b[0m     \u001b[0;32mreturn\u001b[0m \u001b[0mmolcopy\u001b[0m\u001b[0;34m\u001b[0m\u001b[0;34m\u001b[0m\u001b[0m\n",
      "\u001b[0;31mRuntimeError\u001b[0m: omega returned error code 0"
     ]
    }
   ],
   "source": [
    "t1 =  { 'log_population' : '1.0', 'net_charge' : 0 }\n",
    "t2 =  { 'log_population' : '1.0', 'net_charge' : 0 }\n",
    "isomer_dictionary = [ t1, t2 ]\n",
    "tautomer_utils.setting_up_tautomer(settings, isomer_dictionary)"
   ]
  },
  {
   "cell_type": "code",
   "execution_count": null,
   "metadata": {},
   "outputs": [],
   "source": [
    "simulation, driver, pdb_object = tautomer_utils.generate_simulation_and_driver(settings)"
   ]
  },
  {
   "cell_type": "code",
   "execution_count": null,
   "metadata": {},
   "outputs": [],
   "source": [
    "tautomer_utils.run_main(simulation, driver, pdb_object, settings)"
   ]
  }
 ],
 "metadata": {
  "kernelspec": {
   "display_name": "protons-dev",
   "language": "python",
   "name": "protons-dev"
  },
  "language_info": {
   "codemirror_mode": {
    "name": "ipython",
    "version": 3
   },
   "file_extension": ".py",
   "mimetype": "text/x-python",
   "name": "python",
   "nbconvert_exporter": "python",
   "pygments_lexer": "ipython3",
   "version": "3.6.8"
  }
 },
 "nbformat": 4,
 "nbformat_minor": 2
}
