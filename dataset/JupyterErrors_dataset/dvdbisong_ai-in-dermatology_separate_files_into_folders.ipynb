{
 "cells": [
  {
   "cell_type": "markdown",
   "metadata": {},
   "source": [
    "# Split content from single folder into multiple sub-folders"
   ]
  },
  {
   "cell_type": "code",
   "execution_count": 7,
   "metadata": {},
   "outputs": [],
   "source": [
    "# imports\n",
    "import argparse\n",
    "import os\n",
    "import shutil"
   ]
  },
  {
   "cell_type": "code",
   "execution_count": 2,
   "metadata": {},
   "outputs": [],
   "source": [
    "# parameters\n",
    "raw_path = \"data/raw/granuloma-annulare\"\n",
    "train_percentage = 0.60"
   ]
  },
  {
   "cell_type": "code",
   "execution_count": 32,
   "metadata": {},
   "outputs": [],
   "source": [
    "raw_path = \"data/raw/ekaba\""
   ]
  },
  {
   "cell_type": "code",
   "execution_count": 9,
   "metadata": {},
   "outputs": [],
   "source": [
    "directory = [f for f in os.listdir(raw_path) if os.path.isdir(os.path.join(raw_path, f))]"
   ]
  },
  {
   "cell_type": "code",
   "execution_count": 10,
   "metadata": {},
   "outputs": [
    {
     "data": {
      "text/plain": [
       "['pityriasis-versicolor',\n",
       " 'kaposi-sarcoma-patch-plaque-nodule',\n",
       " 'scabies',\n",
       " 'atopic-dermatitis-eczema',\n",
       " 'pityriasis-rosea',\n",
       " 'lichen-planus',\n",
       " 'mycosis-fungoides-mf-plaque',\n",
       " 'psoriasis',\n",
       " 'vitiligo',\n",
       " 'mycosis-fungoides-mf-patch',\n",
       " 'seborrhoeic-dermatitis-eczema',\n",
       " 'mycosis-fungoides-mf-nodular',\n",
       " 'granuloma-annulare']"
      ]
     },
     "execution_count": 10,
     "metadata": {},
     "output_type": "execute_result"
    }
   ],
   "source": [
    "directory"
   ]
  },
  {
   "cell_type": "code",
   "execution_count": 38,
   "metadata": {},
   "outputs": [
    {
     "name": "stdout",
     "output_type": "stream",
     "text": [
      "Directory not found\n"
     ]
    }
   ],
   "source": [
    "try:\n",
    "    [f for f in os.listdir(raw_path)]\n",
    "#     print(os.path.isdir(raw_path))\n",
    "except IOError as e:\n",
    "    print('Directory not found')"
   ]
  },
  {
   "cell_type": "code",
   "execution_count": 37,
   "metadata": {},
   "outputs": [
    {
     "ename": "FileNotFoundError",
     "evalue": "[Errno 2] No such file or directory: 'data/raw/ekaba'",
     "output_type": "error",
     "traceback": [
      "\u001b[0;31m---------------------------------------------------------------------------\u001b[0m",
      "\u001b[0;31mFileNotFoundError\u001b[0m                         Traceback (most recent call last)",
      "\u001b[0;32m<ipython-input-37-dd6fdb577e27>\u001b[0m in \u001b[0;36m<module>\u001b[0;34m\u001b[0m\n\u001b[0;32m----> 1\u001b[0;31m \u001b[0;34m[\u001b[0m\u001b[0mf\u001b[0m \u001b[0;32mfor\u001b[0m \u001b[0mf\u001b[0m \u001b[0;32min\u001b[0m \u001b[0mos\u001b[0m\u001b[0;34m.\u001b[0m\u001b[0mlistdir\u001b[0m\u001b[0;34m(\u001b[0m\u001b[0mraw_path\u001b[0m\u001b[0;34m)\u001b[0m\u001b[0;34m]\u001b[0m\u001b[0;34m\u001b[0m\u001b[0;34m\u001b[0m\u001b[0m\n\u001b[0m",
      "\u001b[0;31mFileNotFoundError\u001b[0m: [Errno 2] No such file or directory: 'data/raw/ekaba'"
     ]
    }
   ],
   "source": [
    "[f for f in os.listdir(raw_path)]"
   ]
  },
  {
   "cell_type": "code",
   "execution_count": null,
   "metadata": {},
   "outputs": [],
   "source": [
    "if"
   ]
  },
  {
   "cell_type": "code",
   "execution_count": null,
   "metadata": {},
   "outputs": [],
   "source": []
  },
  {
   "cell_type": "code",
   "execution_count": 15,
   "metadata": {},
   "outputs": [],
   "source": [
    "# directory = [f for f in os.listdir(raw_path) if os.path.isdir(os.path.join(raw_path, f))]\n",
    "\n",
    "directory__ = []\n",
    "for f in os.listdir(raw_path):\n",
    "    if os.path.isdir(os.path.join(raw_path, f)):\n",
    "        directory__.append(f)"
   ]
  },
  {
   "cell_type": "code",
   "execution_count": 16,
   "metadata": {},
   "outputs": [
    {
     "name": "stdout",
     "output_type": "stream",
     "text": [
      "['pityriasis-versicolor', 'kaposi-sarcoma-patch-plaque-nodule', 'scabies', 'atopic-dermatitis-eczema', 'pityriasis-rosea', 'lichen-planus', 'mycosis-fungoides-mf-plaque', 'psoriasis', 'vitiligo', 'mycosis-fungoides-mf-patch', 'seborrhoeic-dermatitis-eczema', 'mycosis-fungoides-mf-nodular', 'granuloma-annulare']\n"
     ]
    }
   ],
   "source": [
    "print(directory__)"
   ]
  },
  {
   "cell_type": "code",
   "execution_count": null,
   "metadata": {},
   "outputs": [],
   "source": []
  },
  {
   "cell_type": "code",
   "execution_count": null,
   "metadata": {},
   "outputs": [],
   "source": []
  },
  {
   "cell_type": "code",
   "execution_count": 11,
   "metadata": {},
   "outputs": [],
   "source": [
    "names = ['Trisha', 'Thompson', 'Sammy', 'Ekaba', \"Bisong\"]"
   ]
  },
  {
   "cell_type": "code",
   "execution_count": 12,
   "metadata": {},
   "outputs": [
    {
     "name": "stdout",
     "output_type": "stream",
     "text": [
      "key: 0 ------>  value: Trisha\n",
      "key: 1 ------>  value: Thompson\n",
      "key: 2 ------>  value: Sammy\n",
      "key: 3 ------>  value: Ekaba\n",
      "key: 4 ------>  value: Bisong\n"
     ]
    }
   ],
   "source": [
    "for k, v in enumerate(names):\n",
    "    print('key: {} ------>  value: {}'.format(k, v))"
   ]
  },
  {
   "cell_type": "code",
   "execution_count": 13,
   "metadata": {},
   "outputs": [
    {
     "name": "stdout",
     "output_type": "stream",
     "text": [
      "key: 0 ------>  value: Trisha\n",
      "key: 1 ------>  value: Thompson\n",
      "key: 2 ------>  value: Sammy\n",
      "key: 3 ------>  value: Ekaba\n",
      "key: 4 ------>  value: Bisong\n"
     ]
    },
    {
     "data": {
      "text/plain": [
       "[None, None, None, None, None]"
      ]
     },
     "execution_count": 13,
     "metadata": {},
     "output_type": "execute_result"
    }
   ],
   "source": [
    "[print('key: {} ------>  value: {}'.format(k, v)) for k, v in enumerate(names)]"
   ]
  },
  {
   "cell_type": "code",
   "execution_count": 26,
   "metadata": {},
   "outputs": [
    {
     "data": {
      "text/plain": [
       "66"
      ]
     },
     "execution_count": 26,
     "metadata": {},
     "output_type": "execute_result"
    }
   ],
   "source": [
    "int(100 * 0.666548)"
   ]
  },
  {
   "cell_type": "code",
   "execution_count": 27,
   "metadata": {},
   "outputs": [],
   "source": [
    "for raw_data in directory:\n",
    "    # print path\n",
    "#     print(os.path.join(raw_path, raw_data))\n",
    "    \n",
    "    \n",
    "    # get images from folder\n",
    "    images = [f for f in os.listdir(os.path.join(raw_path, raw_data))\n",
    "                      if os.path.isfile(os.path.join(os.path.join(raw_path, raw_data), f))]\n",
    "#     print(images)\n",
    "\n",
    "    # split images into train and test lists\n",
    "    train_images = images[:int(len(images) * train_percentage)]\n",
    "    test_images = images[int(len(images) * train_percentage):]\n",
    "    \n",
    "    # assign images to appropriate directories\n",
    "    image_dict = {'train': train_images,\n",
    "                  'test': test_images}\n",
    "    \n",
    "    for f_name, f_list in image_dict.items():\n",
    "#         folder_name = f_name\n",
    "\n",
    "        for image in f_list:\n",
    "            new_path = os.path.join(output_path, f_name, raw_data)\n",
    "            if not os.path.exists(new_path):\n",
    "                os.makedirs(new_path)\n",
    "\n",
    "            old_image_path = os.path.join(os.path.join(raw_path, raw_data), image)\n",
    "            new_image_path = os.path.join(new_path, image)\n",
    "            shutil.copy(old_image_path, new_image_path)\n",
    "    \n",
    "    break"
   ]
  },
  {
   "cell_type": "code",
   "execution_count": null,
   "metadata": {},
   "outputs": [],
   "source": [
    "# data/train/psosaris\n",
    "# old_image_path: data/raw/psosaris/k.jpg\n",
    "# new_image_path: data/train/psosaris/k.jpg\n",
    "#                     data/test/psosaris/k.jpg"
   ]
  },
  {
   "cell_type": "code",
   "execution_count": 28,
   "metadata": {},
   "outputs": [
    {
     "name": "stdout",
     "output_type": "stream",
     "text": [
      "264\n",
      "158\n",
      "106\n"
     ]
    }
   ],
   "source": [
    "print(len(images))\n",
    "print(len(train_images))\n",
    "print(len(test_imdages))"
   ]
  },
  {
   "cell_type": "code",
   "execution_count": null,
   "metadata": {},
   "outputs": [],
   "source": []
  },
  {
   "cell_type": "code",
   "execution_count": null,
   "metadata": {},
   "outputs": [],
   "source": []
  },
  {
   "cell_type": "code",
   "execution_count": 4,
   "metadata": {},
   "outputs": [
    {
     "data": {
      "text/plain": [
       "268"
      ]
     },
     "execution_count": 4,
     "metadata": {},
     "output_type": "execute_result"
    }
   ],
   "source": [
    "len(images)"
   ]
  },
  {
   "cell_type": "code",
   "execution_count": 5,
   "metadata": {},
   "outputs": [],
   "source": [
    "# list of train images\n",
    "train_images = images[:int(len(images)*train_percentage)]"
   ]
  },
  {
   "cell_type": "code",
   "execution_count": 14,
   "metadata": {},
   "outputs": [],
   "source": [
    "# list of test images\n",
    "test_images = images[int(len(images)*train_percentage):]"
   ]
  },
  {
   "cell_type": "code",
   "execution_count": 15,
   "metadata": {},
   "outputs": [
    {
     "name": "stdout",
     "output_type": "stream",
     "text": [
      "train images: 160\n",
      "test images: 108\n"
     ]
    }
   ],
   "source": [
    "# check lengths of train and test images\n",
    "print('train images:', len(train_images))\n",
    "print('test images:', len(test_images))"
   ]
  },
  {
   "cell_type": "code",
   "execution_count": 16,
   "metadata": {},
   "outputs": [],
   "source": [
    "# assign images to appropriate directories\n",
    "image_dict = {'train': train_images,\n",
    "               'test': test_images}"
   ]
  },
  {
   "cell_type": "code",
   "execution_count": 17,
   "metadata": {},
   "outputs": [],
   "source": [
    "for f_name, f_list in image_dict.items():\n",
    "    folder_name = f_name\n",
    "        \n",
    "    for image in f_list:\n",
    "        new_path = os.path.join(raw_path.split('/')[0], folder_name, raw_path.split('/')[2])\n",
    "        if not os.path.exists(new_path):\n",
    "            os.makedirs(new_path)\n",
    "\n",
    "        old_image_path = os.path.join(raw_path, image)\n",
    "        new_image_path = os.path.join(new_path, image)\n",
    "        shutil.copy(old_image_path, new_image_path)"
   ]
  },
  {
   "cell_type": "markdown",
   "metadata": {},
   "source": [
    "# End"
   ]
  },
  {
   "cell_type": "code",
   "execution_count": null,
   "metadata": {},
   "outputs": [],
   "source": []
  }
 ],
 "metadata": {
  "kernelspec": {
   "display_name": "Python 3",
   "language": "python",
   "name": "python3"
  },
  "language_info": {
   "codemirror_mode": {
    "name": "ipython",
    "version": 3
   },
   "file_extension": ".py",
   "mimetype": "text/x-python",
   "name": "python",
   "nbconvert_exporter": "python",
   "pygments_lexer": "ipython3",
   "version": "3.7.4"
  }
 },
 "nbformat": 4,
 "nbformat_minor": 4
}
