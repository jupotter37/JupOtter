{
 "cells": [
  {
   "cell_type": "markdown",
   "metadata": {},
   "source": [
    "<p><img src=\"https://mcd.unison.mx/wp-content/themes/awaken/img/logo_mcd.png\" width=\"100\" align=\"center\"></p>"
   ]
  },
  {
   "cell_type": "markdown",
   "metadata": {},
   "source": [
    "# Semántica distribuida \n",
    "\n",
    "## Ingeniería de Características \n",
    "\n",
    "### Maestría en Ciencia de Datos\n",
    "### Universidad de Sonora\n",
    "\n",
    "#### Julio Waissman Vilanova (julio.waissman@unison.mx)\n",
    "\n"
   ]
  },
  {
   "cell_type": "markdown",
   "metadata": {},
   "source": [
    "En esta libreta vamos a ver como se generan, donde se pueden descargar y algunas aplicaciones los vectores de incrustaciones de palabra (*word embeddings vectors*). En esta libreta vamos a revisar como generar un modelo de vectores de palabras con las dos técnicas más populares. En segundo lugar vamos a revisar como utilizar modelos pre-entrenados, para después ver algunas de las propiedades que parecen *mágicas* en este tipo de modelos. Por último vamos a revisar como una técnica que, a pesar de ser muy simple, es un método muy efectivo para la codificación densa de sentencias o documentos relativamente pequeños."
   ]
  },
  {
   "cell_type": "markdown",
   "metadata": {},
   "source": [
    "## 5.1. Generando vectores de palabras con `gensim`.\n",
    "\n",
    "Para esta libreta vamos a utilizar la biblioteca de modelado de tópicos `gensim` de manera intensiva, ya que es la que proporciona las mejores herramientas para el uso de los *word embeddings* (vetores de incrustaciones) o *word vectors* (WV), y que permite utilizar modelos entrenados por otras personas y/o organizaciones. \n",
    "\n",
    "Vamos a generar un modelo de vectores de palabras a partir del texto del Quijote. Este procedimiento se puede aplicar con *corpus* mas grandes, para obtener mejores resultados, pero los tiempos de procesamiento no son aceptables para este curso. Se deja como tarea la obtención de dichos vectores.\n",
    "\n",
    "Primero vamos a cargar el texto, normalizarlo y tokenizarlo. La idea es tener una lista de documentos, los cuales a su vez son una lista de palabras. Para esto vamos a utilizar los métodos que ya hemos desarrollado anteriormente. Como en todo método de PLN, el paso de normalización de texto determina fuertemente la calidad del modelo obtenido."
   ]
  },
  {
   "cell_type": "code",
   "execution_count": 1,
   "metadata": {},
   "outputs": [],
   "source": [
    "import warnings; warnings.simplefilter('ignore')"
   ]
  },
  {
   "cell_type": "code",
   "execution_count": 2,
   "metadata": {},
   "outputs": [
    {
     "name": "stderr",
     "output_type": "stream",
     "text": [
      "[nltk_data] Downloading package punkt to\n",
      "[nltk_data]     /Users/juliowaissman/nltk_data...\n",
      "[nltk_data]   Package punkt is already up-to-date!\n"
     ]
    },
    {
     "data": {
      "text/plain": [
       "['produced by an anonymous project gutenberg volunteer',\n",
       " 'text file corrections and new html file by joaquin cuenca abela',\n",
       " 'ingenioso hidalgo don quijote mancha tasa yo juan gallo andrada escribano cámara rey señor residen consejo certifico doy fe que visto señores dél libro intitulado ingenioso hidalgo mancha compuesto miguel cervantes saavedra tasaron cada pliego dicho libro tres maravedís medio ochenta tres pliegos dicho precio monta dicho libro docientos noventa maravedís medio vender papel dieron licencia precio pueda vender mandaron tasa ponga principio dicho libro pueda vender ella',\n",
       " 'y dello conste di presente valladolid veinte días mes deciembre mil seiscientos cuatro años',\n",
       " 'juan gallo andrada',\n",
       " 'testimonio erratas libro cosa digna corresponda original testimonio haber correcto di fee',\n",
       " 'colegio madre dios teólogos universidad alcalá primero diciembre 1604 años',\n",
       " 'licenciado francisco murcia llana',\n",
       " 'rey cuanto parte vos miguel cervantes fecha relación habíades compuesto libro intitulado ingenioso hidalgo mancha costado trabajo útil provechoso pedistes suplicastes mandásemos dar licencia facultad poder imprimir previlegio tiempo servidos merced fuese visto consejo cuanto dicho libro hicieron diligencias premática últimamente fecha impresión libros dispone acordado debíamos mandar dar cédula vos dicha razón tuvímoslo bien',\n",
       " 'cual hacer bien merced damos licencia facultad vos persona poder hubiere alguna podáis imprimir dicho libro intitulado ingenioso hidalgo mancha desuso hace mención reinos castilla tiempo espacio diez años corran cuenten dicho día data desta cédula so pena persona personas que tener poder imprimiere vendiere hiciere imprimir vender mesmo caso pierda impresión hiciere moldes aparejos della más incurra pena cincuenta mil maravedís cada vez contrario hiciere']"
      ]
     },
     "execution_count": 2,
     "metadata": {},
     "output_type": "execute_result"
    }
   ],
   "source": [
    "import re\n",
    "import nltk\n",
    "\n",
    "nltk.download('punkt')\n",
    "palabras_vacias = set(nltk.corpus.stopwords.words('spanish'))\n",
    "\n",
    "def normaliza_texto(texto):\n",
    "    texto = texto.lower()\n",
    "    \n",
    "    # Elimina simbolos\n",
    "    texto = texto.replace('\\n', ' ')\n",
    "\n",
    "    # Elimina palabras de paro\n",
    "    texto = ' '.join([palabra for palabra in texto.split() \n",
    "                     if palabra not in palabras_vacias])\n",
    "    \n",
    "    return [nltk.tokenize.regexp_tokenize(frase, r'\\w+') \n",
    "            for frase in nltk.tokenize.sent_tokenize(texto, language='spanish')]\n",
    "\n",
    "\n",
    "archivo = \"quijote.txt\"\n",
    "with open(archivo, 'r', encoding='utf8') as fp:\n",
    "    texto = fp.read()\n",
    "documentos = normaliza_texto(texto)\n",
    "\n",
    "[' '.join(doc) for doc in documentos[:10]]"
   ]
  },
  {
   "cell_type": "markdown",
   "metadata": {},
   "source": [
    "Una vez que se obtuvo el corpus, vamos a obtener dos modelos de vectores de palabras diferentes, uno usando el método  desarrollado por *google* ([*word2vec*](https://papers.nips.cc/paper/5021-distributed-representations-of-words-and-phrases-and-their-compositionality.pdf)) y otro por el método desarrollado por *facebook* ([*fastText*](https://arxiv.org/pdf/1607.04606.pdf)). "
   ]
  },
  {
   "cell_type": "code",
   "execution_count": 3,
   "metadata": {},
   "outputs": [],
   "source": [
    "from gensim import models \n",
    "\n",
    "modelo_w2v = models.Word2Vec(\n",
    "    sentences=documentos,  #  Documentos para el entrenamiento\n",
    "    size=50,              #  tamaño del vector\n",
    "    window=5,              #  tamaño de la ventana del contexto\n",
    "    min_count=5,           #  minima frecuencia para considerar una palabra en el vocabulario\n",
    "    workers=3,             #  número de hilos para multiproceso\n",
    "    sg=1                   #  si 0 usa CBOW, si 1 Skipgrama\n",
    ")\n",
    "\n",
    "modelo_fst = models.FastText(\n",
    "    sentences=documentos,  #  Documentos para el entrenamiento\n",
    "    size=50,              #  tamaño del vector\n",
    "    window=5,              #  tamaño de la ventana del contexto\n",
    "    min_count=5,           #  minima frecuencia para considerar una palabra en el vocabulario\n",
    "    workers=3,             #  número de hilos para multiproceso\n",
    "    sg=1                   #  si 0 usa CBOW, si 1 Skipgrama\n",
    ")"
   ]
  },
  {
   "cell_type": "markdown",
   "metadata": {},
   "source": [
    "Debido a que el *corpus* utilizado es relativamente pequeño, utilizamos un WV de dimensión relativamente pequeño. Lo normal es utilizar un vector entre 200 y 500 dimensiones. Por ejemplo, todos los vectores preentrenados que vamos a utilidar tienen un tamaño de 300, lo que parece ser un tamaño correcto para el español.\n",
    "\n",
    "En este caso no es necesario, pero para un modelo con un corpus mayor, el cual puede durar horas o días de entrenamiento, es muy importante poder guardar el modelo. Cabe aclarar que estos modelos pueden ser *reentrenados* con nuevos documentos."
   ]
  },
  {
   "cell_type": "code",
   "execution_count": 4,
   "metadata": {},
   "outputs": [],
   "source": [
    "modelo_w2v.save(\"w2v_quijote.model\")\n",
    "modelo_fst.save(\"fst_quijote.model\")"
   ]
  },
  {
   "cell_type": "markdown",
   "metadata": {},
   "source": [
    "Ahora hagamos algunos experimentos con los modelos entrenados"
   ]
  },
  {
   "cell_type": "code",
   "execution_count": 10,
   "metadata": {},
   "outputs": [
    {
     "name": "stdout",
     "output_type": "stream",
     "text": [
      "El vector para sancho es:\n",
      "[-0.682042   -0.11337928  0.04276247 -0.08784457  0.45985296 -0.07334444\n",
      "  0.59711075  0.03574967 -0.10500211 -0.44597787 -0.24065326  0.5852025\n",
      " -0.5562984   0.07006148  0.26494363 -0.30671713  0.31881428 -0.31411237\n",
      " -0.6376206   0.2914049  -0.17523001  0.12345905 -0.48658967  0.27198035\n",
      " -0.6885352  -0.7898836  -0.13964517  0.59897256 -0.77285695  0.36688456\n",
      " -0.05733135 -0.6991999   0.4437699   0.5344459   0.07712153  0.68088144\n",
      " -0.36450726 -0.11688838 -0.4273972   0.7892216  -0.3977667   0.5812498\n",
      "  0.30475897  0.41383228 -0.36571032  0.02241731 -0.12783104  0.10134134\n",
      "  0.04398928 -0.06070365]\n",
      "\n",
      "\n",
      "¿Se encuentra la palabra sancho en los wv? True\n",
      "\n",
      "Las 10 palabras más similares a sancho\n",
      "Palabras       Similaridad\n",
      "sí             0.8836077451705933\n",
      "sobrina        0.8704570531845093\n",
      "ama            0.8677687644958496\n",
      "a              0.865344762802124\n",
      "sazón          0.8650684356689453\n",
      "en             0.8642257452011108\n",
      "paje           0.8631842136383057\n",
      "canónigo       0.8615577220916748\n",
      "hermano        0.8611581325531006\n",
      "teresa         0.8607378005981445\n"
     ]
    }
   ],
   "source": [
    "def revisa_palabra(modelo_wv, palabra):\n",
    "    print(\"\\n\\n¿Se encuentra la palabra {} en los wv? {}\".format(palabra, palabra in modelo_wv.vocab))\n",
    "\n",
    "    palabras_similares = modelo_wv.most_similar(positive=palabra, topn=10)\n",
    "    print(\"\\nLas 10 palabras más similares a {}\".format(palabra))\n",
    "    print(\"{:15}{:10}\".format('Palabras', 'Similaridad'))\n",
    "    for (palabra, simil) in palabras_similares:\n",
    "        print(\"{:15}{}\".format(palabra, simil))    \n",
    "\n",
    "print(\"El vector para {} es:\\n{}\".format('sancho', modelo_w2v.wv['dulcinea']))\n",
    "revisa_palabra(modelo_w2v.wv, 'sancho')\n"
   ]
  },
  {
   "cell_type": "markdown",
   "metadata": {},
   "source": [
    "Veamos que pasa si tratamos de usar una palabra que no tengamos en el vocabulario "
   ]
  },
  {
   "cell_type": "code",
   "execution_count": 11,
   "metadata": {},
   "outputs": [
    {
     "name": "stdout",
     "output_type": "stream",
     "text": [
      "\n",
      "\n",
      "¿Se encuentra la palabra dulcineea en los wv? False\n"
     ]
    },
    {
     "ename": "KeyError",
     "evalue": "\"word 'dulcineea' not in vocabulary\"",
     "output_type": "error",
     "traceback": [
      "\u001b[0;31m---------------------------------------------------------------------------\u001b[0m",
      "\u001b[0;31mKeyError\u001b[0m                                  Traceback (most recent call last)",
      "\u001b[0;32m<ipython-input-11-6c07b63e1681>\u001b[0m in \u001b[0;36m<module>\u001b[0;34m\u001b[0m\n\u001b[0;32m----> 1\u001b[0;31m \u001b[0mrevisa_palabra\u001b[0m\u001b[0;34m(\u001b[0m\u001b[0mmodelo_w2v\u001b[0m\u001b[0;34m.\u001b[0m\u001b[0mwv\u001b[0m\u001b[0;34m,\u001b[0m \u001b[0;34m'dulcineea'\u001b[0m\u001b[0;34m)\u001b[0m\u001b[0;34m\u001b[0m\u001b[0;34m\u001b[0m\u001b[0m\n\u001b[0m",
      "\u001b[0;32m<ipython-input-10-160660a569e9>\u001b[0m in \u001b[0;36mrevisa_palabra\u001b[0;34m(modelo_wv, palabra)\u001b[0m\n\u001b[1;32m      2\u001b[0m     \u001b[0mprint\u001b[0m\u001b[0;34m(\u001b[0m\u001b[0;34m\"\\n\\n¿Se encuentra la palabra {} en los wv? {}\"\u001b[0m\u001b[0;34m.\u001b[0m\u001b[0mformat\u001b[0m\u001b[0;34m(\u001b[0m\u001b[0mpalabra\u001b[0m\u001b[0;34m,\u001b[0m \u001b[0mpalabra\u001b[0m \u001b[0;32min\u001b[0m \u001b[0mmodelo_wv\u001b[0m\u001b[0;34m.\u001b[0m\u001b[0mvocab\u001b[0m\u001b[0;34m)\u001b[0m\u001b[0;34m)\u001b[0m\u001b[0;34m\u001b[0m\u001b[0;34m\u001b[0m\u001b[0m\n\u001b[1;32m      3\u001b[0m \u001b[0;34m\u001b[0m\u001b[0m\n\u001b[0;32m----> 4\u001b[0;31m     \u001b[0mpalabras_similares\u001b[0m \u001b[0;34m=\u001b[0m \u001b[0mmodelo_wv\u001b[0m\u001b[0;34m.\u001b[0m\u001b[0mmost_similar\u001b[0m\u001b[0;34m(\u001b[0m\u001b[0mpositive\u001b[0m\u001b[0;34m=\u001b[0m\u001b[0mpalabra\u001b[0m\u001b[0;34m,\u001b[0m \u001b[0mtopn\u001b[0m\u001b[0;34m=\u001b[0m\u001b[0;36m10\u001b[0m\u001b[0;34m)\u001b[0m\u001b[0;34m\u001b[0m\u001b[0;34m\u001b[0m\u001b[0m\n\u001b[0m\u001b[1;32m      5\u001b[0m     \u001b[0mprint\u001b[0m\u001b[0;34m(\u001b[0m\u001b[0;34m\"\\nLas 10 palabras más similares a {}\"\u001b[0m\u001b[0;34m.\u001b[0m\u001b[0mformat\u001b[0m\u001b[0;34m(\u001b[0m\u001b[0mpalabra\u001b[0m\u001b[0;34m)\u001b[0m\u001b[0;34m)\u001b[0m\u001b[0;34m\u001b[0m\u001b[0;34m\u001b[0m\u001b[0m\n\u001b[1;32m      6\u001b[0m     \u001b[0mprint\u001b[0m\u001b[0;34m(\u001b[0m\u001b[0;34m\"{:15}{:10}\"\u001b[0m\u001b[0;34m.\u001b[0m\u001b[0mformat\u001b[0m\u001b[0;34m(\u001b[0m\u001b[0;34m'Palabras'\u001b[0m\u001b[0;34m,\u001b[0m \u001b[0;34m'Similaridad'\u001b[0m\u001b[0;34m)\u001b[0m\u001b[0;34m)\u001b[0m\u001b[0;34m\u001b[0m\u001b[0;34m\u001b[0m\u001b[0m\n",
      "\u001b[0;32m/opt/anaconda3/envs/caract/lib/python3.8/site-packages/gensim/models/keyedvectors.py\u001b[0m in \u001b[0;36mmost_similar\u001b[0;34m(self, positive, negative, topn, restrict_vocab, indexer)\u001b[0m\n\u001b[1;32m    551\u001b[0m                 \u001b[0mmean\u001b[0m\u001b[0;34m.\u001b[0m\u001b[0mappend\u001b[0m\u001b[0;34m(\u001b[0m\u001b[0mweight\u001b[0m \u001b[0;34m*\u001b[0m \u001b[0mword\u001b[0m\u001b[0;34m)\u001b[0m\u001b[0;34m\u001b[0m\u001b[0;34m\u001b[0m\u001b[0m\n\u001b[1;32m    552\u001b[0m             \u001b[0;32melse\u001b[0m\u001b[0;34m:\u001b[0m\u001b[0;34m\u001b[0m\u001b[0;34m\u001b[0m\u001b[0m\n\u001b[0;32m--> 553\u001b[0;31m                 \u001b[0mmean\u001b[0m\u001b[0;34m.\u001b[0m\u001b[0mappend\u001b[0m\u001b[0;34m(\u001b[0m\u001b[0mweight\u001b[0m \u001b[0;34m*\u001b[0m \u001b[0mself\u001b[0m\u001b[0;34m.\u001b[0m\u001b[0mword_vec\u001b[0m\u001b[0;34m(\u001b[0m\u001b[0mword\u001b[0m\u001b[0;34m,\u001b[0m \u001b[0muse_norm\u001b[0m\u001b[0;34m=\u001b[0m\u001b[0;32mTrue\u001b[0m\u001b[0;34m)\u001b[0m\u001b[0;34m)\u001b[0m\u001b[0;34m\u001b[0m\u001b[0;34m\u001b[0m\u001b[0m\n\u001b[0m\u001b[1;32m    554\u001b[0m                 \u001b[0;32mif\u001b[0m \u001b[0mword\u001b[0m \u001b[0;32min\u001b[0m \u001b[0mself\u001b[0m\u001b[0;34m.\u001b[0m\u001b[0mvocab\u001b[0m\u001b[0;34m:\u001b[0m\u001b[0;34m\u001b[0m\u001b[0;34m\u001b[0m\u001b[0m\n\u001b[1;32m    555\u001b[0m                     \u001b[0mall_words\u001b[0m\u001b[0;34m.\u001b[0m\u001b[0madd\u001b[0m\u001b[0;34m(\u001b[0m\u001b[0mself\u001b[0m\u001b[0;34m.\u001b[0m\u001b[0mvocab\u001b[0m\u001b[0;34m[\u001b[0m\u001b[0mword\u001b[0m\u001b[0;34m]\u001b[0m\u001b[0;34m.\u001b[0m\u001b[0mindex\u001b[0m\u001b[0;34m)\u001b[0m\u001b[0;34m\u001b[0m\u001b[0;34m\u001b[0m\u001b[0m\n",
      "\u001b[0;32m/opt/anaconda3/envs/caract/lib/python3.8/site-packages/gensim/models/keyedvectors.py\u001b[0m in \u001b[0;36mword_vec\u001b[0;34m(self, word, use_norm)\u001b[0m\n\u001b[1;32m    466\u001b[0m             \u001b[0;32mreturn\u001b[0m \u001b[0mresult\u001b[0m\u001b[0;34m\u001b[0m\u001b[0;34m\u001b[0m\u001b[0m\n\u001b[1;32m    467\u001b[0m         \u001b[0;32melse\u001b[0m\u001b[0;34m:\u001b[0m\u001b[0;34m\u001b[0m\u001b[0;34m\u001b[0m\u001b[0m\n\u001b[0;32m--> 468\u001b[0;31m             \u001b[0;32mraise\u001b[0m \u001b[0mKeyError\u001b[0m\u001b[0;34m(\u001b[0m\u001b[0;34m\"word '%s' not in vocabulary\"\u001b[0m \u001b[0;34m%\u001b[0m \u001b[0mword\u001b[0m\u001b[0;34m)\u001b[0m\u001b[0;34m\u001b[0m\u001b[0;34m\u001b[0m\u001b[0m\n\u001b[0m\u001b[1;32m    469\u001b[0m \u001b[0;34m\u001b[0m\u001b[0m\n\u001b[1;32m    470\u001b[0m     \u001b[0;32mdef\u001b[0m \u001b[0mget_vector\u001b[0m\u001b[0;34m(\u001b[0m\u001b[0mself\u001b[0m\u001b[0;34m,\u001b[0m \u001b[0mword\u001b[0m\u001b[0;34m)\u001b[0m\u001b[0;34m:\u001b[0m\u001b[0;34m\u001b[0m\u001b[0;34m\u001b[0m\u001b[0m\n",
      "\u001b[0;31mKeyError\u001b[0m: \"word 'dulcineea' not in vocabulary\""
     ]
    }
   ],
   "source": [
    "revisa_palabra(modelo_w2v.wv, 'dulcineea')"
   ]
  },
  {
   "cell_type": "markdown",
   "metadata": {},
   "source": [
    "Ahora hagamos lo mismo con el modelo de *fastText*"
   ]
  },
  {
   "cell_type": "code",
   "execution_count": 14,
   "metadata": {},
   "outputs": [
    {
     "name": "stdout",
     "output_type": "stream",
     "text": [
      "\n",
      "\n",
      "¿Se encuentra la palabra rey en los wv? True\n",
      "\n",
      "Las 10 palabras más similares a rey\n",
      "Palabras       Similaridad\n",
      "mercader       0.9795984029769897\n",
      "pide           0.9777413010597229\n",
      "daño           0.977670431137085\n",
      "premiar        0.9776082634925842\n",
      "servirle       0.9774187207221985\n",
      "indigno        0.9773309826850891\n",
      "ofreciere      0.9768964052200317\n",
      "enemigo        0.9765725135803223\n",
      "engaño         0.9765241742134094\n",
      "melindre       0.9764567017555237\n"
     ]
    }
   ],
   "source": [
    "revisa_palabra(modelo_fst.wv, 'rey')"
   ]
  },
  {
   "cell_type": "code",
   "execution_count": 15,
   "metadata": {},
   "outputs": [
    {
     "name": "stdout",
     "output_type": "stream",
     "text": [
      "\n",
      "\n",
      "¿Se encuentra la palabra dulcineea en los wv? False\n",
      "\n",
      "Las 10 palabras más similares a dulcineea\n",
      "Palabras       Similaridad\n",
      "dulcinea       0.9986686110496521\n",
      "dulce          0.9635171294212341\n",
      "toboso         0.9556972980499268\n",
      "fermosa        0.9475977420806885\n",
      "hermosa        0.9413021206855774\n",
      "ora            0.93011075258255\n",
      "fermosura      0.9278861880302429\n",
      "señora         0.9275573492050171\n",
      "princesa       0.9226405620574951\n",
      "hermosura      0.9208940267562866\n"
     ]
    }
   ],
   "source": [
    "revisa_palabra(modelo_fst.wv, 'dulcineea')"
   ]
  },
  {
   "cell_type": "markdown",
   "metadata": {},
   "source": [
    "Y esta es la mayor cualidad del método de *fastText*, que al formarse los vectores de palabra a partir de información de $n$--gramas de letras, es capaz de extrapolar. No solo es útil para palabras mal escritas, si no tambien para palabras completamente fuera del vocabulario. Por supuesto su capacidad de abstraccion depende del contexto. \n",
    "\n",
    "Por ejemplo, si utilizamos una palabra en un contexto que no exista en el *corpus*, encuentra un vector de palabra, pero no significa nada en su contexto."
   ]
  },
  {
   "cell_type": "code",
   "execution_count": 20,
   "metadata": {},
   "outputs": [
    {
     "name": "stdout",
     "output_type": "stream",
     "text": [
      "\n",
      "\n",
      "¿Se encuentra la palabra carro en los wv? True\n",
      "\n",
      "Las 10 palabras más similares a carro\n",
      "Palabras       Similaridad\n",
      "abrió          0.99595046043396\n",
      "asimismo       0.9938889145851135\n",
      "abajo          0.993690013885498\n",
      "iban           0.9936505556106567\n",
      "encima         0.9932233691215515\n",
      "hacia          0.9900524616241455\n",
      "ruido          0.9897677898406982\n",
      "dentro         0.9895105361938477\n",
      "salieron       0.9874076843261719\n",
      "adarga         0.9871741533279419\n"
     ]
    }
   ],
   "source": [
    "revisa_palabra(modelo_w2v.wv, 'carro')"
   ]
  },
  {
   "cell_type": "markdown",
   "metadata": {},
   "source": [
    "## 5.2. Importar modelos existentes\n",
    "\n",
    "Entrenar un modelo a partir de un *corpus* grande es una tarea que toma un tiempo de computo importante. Una opción común es es descargar y usar un modelo ya entrenado por alguien más (dandole el crédito correspondiente). \n",
    "\n",
    "Existen dos maneras de obtener los modelos: el archivo binario con el modelo completo, y la otra es el uso de los llamados [*keyed vectors*](https://radimrehurek.com/gensim/models/keyedvectors.html#why-use-keyedvectors-instead-of-a-full-model). Los modelos con llaves son archivos de texto (típicamente con terminacón `.vec`) en los que en cada renglón se encuentra la palabra, seguida por los valores de su vector de inserción, separados por tabulaciones. El tamaño de los archivos es sensiblemente menos y por lo tanto se utilizan bastante. Además, es posible limitar el número de palabras a utilizar (por ejemplo, las primeras 100,000).  En su contra, tienen que no se puede utilizar el modelo completo (y generalizar a cualquier palabra como en *FastText*. En esta libreta importaremos solamente este tipo de representación.\n",
    "\n",
    "Los modelos entrenados para español disponibles son:\n",
    "\n",
    "1. [**Spanish Billion Word Corpus and Embeddings**](https://crscardellino.github.io/SBWCE/). El [autor](https://crscardellino.github.io/) compilo y normalizó una gran cantidad de texto. En su página se puede descargar el modelo entrenado con el método `word2vec`. Si se utiliza este modelo (u otro modelo entrenado con este *corpus* es necesario citarlos como *Cristian Cardellino: Spanish Billion Words Corpus and Embeddings (March 2016), https://crscardellino.github.io/SBWCE/*.\n",
    "\n",
    "2. [**Spanish Word Embeddings**](https://github.com/uchile-nlp/spanish-word-embeddings). Página del grupo de PLN de la Universidad de Chile. Presenta una lista de modelos, aunque algunos (como el de *Facebook*) se encuentran desactualizados. En la página vienen dos modelos entrenados con el *corpus* SBWC (ver inciso anterior) utilizando los métodos de *GloVe* y *fastText* entrenados por [Jorge Pérez](https://users.dcc.uchile.cl/~jperez/) de la Universidad de Chile.\n",
    "\n",
    "3. [**fastText word vectors for 157 languages**](https://fasttext.cc/docs/en/crawl-vectors.html). *Facebook* pone a disposición de manera abierta modelos entrenados principalmente con los datos de *wikipedia* en 157 idiomas diferentes. Es posible descargar únicamente el modelo en forma de *keyed vectors* o el modelo binario.\n",
    "\n",
    "Los cuatro modelos se encuentran previamente descargados en la imágen de Docker del grupo por lo que no es necesario hacerlo. Vamos a cargar alguno de los modelos para utilizarlos"
   ]
  },
  {
   "cell_type": "code",
   "execution_count": 21,
   "metadata": {},
   "outputs": [],
   "source": [
    "from gensim.models.keyedvectors import KeyedVectors\n",
    "\n",
    "# Ejecuta esta linea solo si no tienes ya descomprimido el modelo\n",
    "# porque se puede perder bastante tiempo :-)\n",
    "!gunzip -k fasttext-sbwc.vec.gz\n",
    "archivo_sbwc_fst = \"fasttext-sbwc.vec\"\n",
    "\n",
    "# Estos modelos los tienes que descargar tu mismo,\n",
    "# si lo hacía quedaba muy grande el proyecto\n",
    "# escogí el modelo FastText entrenado con el corpus SBWC solamente\n",
    "# porque era el archivo de menor tamaño.\n",
    "\n",
    "# archivo_wiki_fst = \"modelos/fasttext-fcb-es.vec\"\n",
    "# archivo_sbwc_glo = \"modelos/glove-sbwc.vec\"\n",
    "# archivo_sbwc_w2v = \"modelos/word2vec-sbwc.vec\"\n",
    "\n",
    "num_paabras = 100000\n",
    "modelo_wv = KeyedVectors.load_word2vec_format(archivo_sbwc_fst, limit=num_paabras)"
   ]
  },
  {
   "cell_type": "markdown",
   "metadata": {},
   "source": [
    "Y veamos algunos ejemplos"
   ]
  },
  {
   "cell_type": "code",
   "execution_count": 22,
   "metadata": {},
   "outputs": [
    {
     "name": "stdout",
     "output_type": "stream",
     "text": [
      "\n",
      "\n",
      "¿Se encuentra la palabra dulcinea en los wv? True\n",
      "\n",
      "Las 10 palabras más similares a dulcinea\n",
      "Palabras       Similaridad\n",
      "quijote        0.7173032164573669\n",
      "toboso         0.6822168827056885\n",
      "celestina      0.6399698257446289\n",
      "hermosura      0.6170874834060669\n",
      "anarda         0.5951821804046631\n",
      "bernarda       0.586138129234314\n",
      "lope           0.5819821357727051\n",
      "amada          0.5781254768371582\n",
      "doncella       0.5770990252494812\n",
      "rocinante      0.570771336555481\n",
      "\n",
      "\n",
      "¿Se encuentra la palabra avión en los wv? True\n",
      "\n",
      "Las 10 palabras más similares a avión\n",
      "Palabras       Similaridad\n",
      "aeronave       0.817049503326416\n",
      "vuelo          0.7988545298576355\n",
      "helicóptero    0.7648181915283203\n",
      "aeroplano      0.7620928287506104\n",
      "aviones        0.7609811425209045\n",
      "boeing         0.7602846026420593\n",
      "bimotor        0.7541469931602478\n",
      "avioneta       0.7206918001174927\n",
      "hidroavión     0.7185807824134827\n",
      "volaba         0.7099997997283936\n"
     ]
    }
   ],
   "source": [
    "revisa_palabra(modelo_wv, 'dulcinea')\n",
    "revisa_palabra(modelo_wv, 'avión')"
   ]
  },
  {
   "cell_type": "markdown",
   "metadata": {},
   "source": [
    "## 5.3. La ecuación *rey* - *hombre* + *mujer* $\\approx$ *reina* y otras analogías\n",
    "\n",
    "Una característica interesante de los vectores de palabras, es que estos capturan muchos tipos de similaridades, los cuales se pueden obtener a partir de operaciones aritméticas entre vectores. Por ejemplo, definamos la similaridad entre dos vectores $u$ y $v$ a través de la *similiaridad coseno* definida como:\n",
    "\n",
    "$$\n",
    "sim(u, v) = \\frac{u \\cdot v}{\\|u\\| \\|v\\|}\n",
    "$$\n",
    "\n",
    "que es equivalente al calculo del coseno del angulo entre ambos vectores. \n",
    "\n",
    "Supongamos que ahora tenemos un par de vectores $a$, $a^*$, donde $a$ es el vector de una palabra y $a*$ el de otra que tiene cierta relación con $a$. Es interesante que el vector resultante de la diferencia entre ambas palabras $a - a^*$ codifica (en algunos casos únicamente) un tipo de relación entre ambas que puede extrapolarse a otras palabras. \n",
    "\n",
    "Si tenemos otra palabra *positiva* $b$, debería existir una palabra $b^*$ que codifique la misma relación. Esto se puede encontrar encontrando $b^*$ tal que la similaridad entre diferencias sea máxima, esto es:\n",
    "\n",
    "$$\n",
    "b^* = \\arg \\max_{b^*\\in V}(\\cos(a - a^*, b - b^*))\n",
    "$$\n",
    "\n",
    "y esto se calcula como\n",
    "\n",
    "$$\n",
    "b^* = \\arg \\max_{b^*\\in V}(\\cos(b^*, b - a + a^*))\n",
    "$$\n",
    "\n",
    "donde $a^*$ y $b$ se conocen como vectores *positivos* y $a$ como vector *negativo* (por sus operaciones aritméticas).\n",
    "\n",
    "Veamos algunas de esas reaciones\n"
   ]
  },
  {
   "cell_type": "code",
   "execution_count": 23,
   "metadata": {},
   "outputs": [
    {
     "data": {
      "text/plain": [
       "[('reina', 0.6306586265563965),\n",
       " ('infanta', 0.5454355478286743),\n",
       " ('princesa', 0.5346059799194336),\n",
       " ('berenguela', 0.5296740531921387),\n",
       " ('consorte', 0.5245280861854553)]"
      ]
     },
     "execution_count": 23,
     "metadata": {},
     "output_type": "execute_result"
    }
   ],
   "source": [
    "modelo_wv.most_similar(positive=['rey', 'mujer'], negative=['hombre'], topn=5)"
   ]
  },
  {
   "cell_type": "code",
   "execution_count": 24,
   "metadata": {},
   "outputs": [
    {
     "data": {
      "text/plain": [
       "[('jugando', 0.8573390245437622),\n",
       " ('disputando', 0.6486820578575134),\n",
       " ('jugado', 0.6417645215988159),\n",
       " ('entrenando', 0.6204931735992432),\n",
       " ('juegue', 0.6159106492996216)]"
      ]
     },
     "execution_count": 24,
     "metadata": {},
     "output_type": "execute_result"
    }
   ],
   "source": [
    "modelo_wv.most_similar(positive=['comiendo', 'jugar'], negative=['comer'], topn=5)"
   ]
  },
  {
   "cell_type": "code",
   "execution_count": 25,
   "metadata": {},
   "outputs": [
    {
     "data": {
      "text/plain": [
       "[('coruña', 0.5375283360481262),\n",
       " ('almería', 0.5369367599487305),\n",
       " ('hermosilla', 0.5348933935165405),\n",
       " ('alcobendas', 0.528655469417572),\n",
       " ('murcia', 0.5281211137771606)]"
      ]
     },
     "execution_count": 25,
     "metadata": {},
     "output_type": "execute_result"
    }
   ],
   "source": [
    "modelo_wv.most_similar(positive=['hermosillo', 'españa'], negative=['méxico'], topn=5)"
   ]
  },
  {
   "cell_type": "code",
   "execution_count": 26,
   "metadata": {},
   "outputs": [
    {
     "data": {
      "text/plain": [
       "[('chicharrones', 0.5050054788589478),\n",
       " ('bollos', 0.5026459693908691),\n",
       " ('chicharrón', 0.5011547207832336),\n",
       " ('empanadas', 0.4948349893093109),\n",
       " ('arepas', 0.49367496371269226)]"
      ]
     },
     "execution_count": 26,
     "metadata": {},
     "output_type": "execute_result"
    }
   ],
   "source": [
    "modelo_wv.most_similar(positive=['tacos', 'colombia'], negative=['méxico'], topn=5)"
   ]
  },
  {
   "cell_type": "code",
   "execution_count": 27,
   "metadata": {},
   "outputs": [
    {
     "data": {
      "text/plain": [
       "[('jujuy', 0.5951390862464905),\n",
       " ('bonaerense', 0.5945647358894348),\n",
       " ('catamarca', 0.5902442932128906),\n",
       " ('tucumán', 0.5663372278213501),\n",
       " ('mendocina', 0.5507368445396423)]"
      ]
     },
     "execution_count": 27,
     "metadata": {},
     "output_type": "execute_result"
    }
   ],
   "source": [
    "modelo_wv.most_similar(positive=['oaxaca', 'argentina'], negative=['mexico'], topn=5)"
   ]
  },
  {
   "cell_type": "markdown",
   "metadata": {},
   "source": [
    "Sin embargo hay que tener mucho cuidado con estas relaciones ya que no hay ninguna base para pensar que siempre funcionan. En general con singular/plural, genero, paises/ciudades y conjugaciones funciona relativamente bien.\n",
    "\n",
    "Tambien hay funciones para otros tipo de análisis de similaridad. Veamos unos ejemplos."
   ]
  },
  {
   "cell_type": "code",
   "execution_count": 31,
   "metadata": {},
   "outputs": [
    {
     "data": {
      "text/plain": [
       "'helicóptero'"
      ]
     },
     "execution_count": 31,
     "metadata": {},
     "output_type": "execute_result"
    }
   ],
   "source": [
    "modelo_wv.doesnt_match(['lápiz','cuaderno','helicóptero','libros', 'sacapuntas', 'marcador'])"
   ]
  },
  {
   "cell_type": "code",
   "execution_count": 32,
   "metadata": {},
   "outputs": [
    {
     "data": {
      "text/plain": [
       "['autoridades',\n",
       " 'civil',\n",
       " 'fuerzas',\n",
       " 'ejército',\n",
       " 'funcionarios',\n",
       " 'agentes',\n",
       " 'judicial',\n",
       " 'juez',\n",
       " 'agencia',\n",
       " 'detención',\n",
       " 'soldados',\n",
       " 'víctima',\n",
       " 'detenidos',\n",
       " 'funcionario',\n",
       " 'detenido',\n",
       " 'guardia',\n",
       " 'policías',\n",
       " 'tránsito',\n",
       " 'judiciales',\n",
       " 'fiscalía',\n",
       " 'agente',\n",
       " 'armadas',\n",
       " 'comandante',\n",
       " 'operativo',\n",
       " 'efectivos',\n",
       " 'policial',\n",
       " 'ministerial',\n",
       " 'procuraduría',\n",
       " 'delincuentes',\n",
       " 'bomberos',\n",
       " 'policiales',\n",
       " 'manifestantes',\n",
       " 'presuntos',\n",
       " 'presunto',\n",
       " 'corporación',\n",
       " 'preventiva',\n",
       " 'criminal',\n",
       " 'criminales',\n",
       " 'infantería',\n",
       " 'cuartel',\n",
       " 'comando',\n",
       " 'brigada',\n",
       " 'arresto',\n",
       " 'detuvo',\n",
       " 'guardias',\n",
       " 'sospechosos',\n",
       " 'batallón',\n",
       " 'detenciones',\n",
       " 'aduanas',\n",
       " 'sospechoso',\n",
       " 'detenidas',\n",
       " 'prisiones',\n",
       " 'disturbios',\n",
       " 'homicidios',\n",
       " 'investiga',\n",
       " 'penitenciario',\n",
       " 'fronteriza',\n",
       " 'patrulla',\n",
       " 'comisaría',\n",
       " 'arrestado',\n",
       " 'inspector',\n",
       " 'detenida',\n",
       " 'balazos',\n",
       " 'delincuente',\n",
       " 'forense',\n",
       " 'detuvieron',\n",
       " 'ladrones',\n",
       " 'vialidad',\n",
       " 'jefatura',\n",
       " 'patrullas',\n",
       " 'ministeriales',\n",
       " 'funcionaria',\n",
       " 'fbi',\n",
       " 'tiroteo',\n",
       " 'sargento',\n",
       " 'agresor',\n",
       " 'arrestados',\n",
       " 'antiterrorista',\n",
       " 'penitenciarios',\n",
       " 'uniformados',\n",
       " 'paramilitares',\n",
       " 'pnc',\n",
       " 'milicia',\n",
       " 'mossos',\n",
       " 'ambulancia',\n",
       " 'interpol',\n",
       " 'agresores',\n",
       " 'judicatura',\n",
       " 'extranjería',\n",
       " 'paramédicos',\n",
       " 'penitenciaria',\n",
       " 'chofer',\n",
       " 'forenses',\n",
       " 'narcotraficantes',\n",
       " 'delictivo',\n",
       " 'detective',\n",
       " 'preventivos',\n",
       " 'investigan',\n",
       " 'milicianos',\n",
       " 'secuestradores',\n",
       " 'oij',\n",
       " 'criminalidad',\n",
       " 'asaltantes',\n",
       " 'pesquisas',\n",
       " 'comandancia',\n",
       " 'anticorrupción',\n",
       " 'vigilante',\n",
       " 'sicarios',\n",
       " 'ambulancias',\n",
       " 'vigilantes',\n",
       " 'arrestos',\n",
       " 'destacamento',\n",
       " 'balacera',\n",
       " 'taxista',\n",
       " 'interrogado',\n",
       " 'kfor',\n",
       " 'sedena',\n",
       " 'penitenciarias',\n",
       " 'comisarías',\n",
       " 'atraco',\n",
       " 'guardaespaldas',\n",
       " 'ssp',\n",
       " 'furgoneta',\n",
       " 'policiacos',\n",
       " 'gendarmería',\n",
       " 'esquadra',\n",
       " 'socorristas',\n",
       " 'policiacas',\n",
       " 'interrogatorios',\n",
       " 'pgje',\n",
       " 'carabineros',\n",
       " 'escoltas',\n",
       " 'agredido',\n",
       " 'superintendente',\n",
       " 'ertzaintza',\n",
       " 'homicida',\n",
       " 'periciales',\n",
       " 'dea',\n",
       " 'reclutas',\n",
       " 'detectives',\n",
       " 'policiaca',\n",
       " 'agredir',\n",
       " 'benemérita',\n",
       " 'narcotraficante',\n",
       " 'policiaco',\n",
       " 'antidrogas',\n",
       " 'subdelegación',\n",
       " 'interceptado',\n",
       " 'paisano',\n",
       " 'inculpado',\n",
       " 'sheriff',\n",
       " 'encapuchados',\n",
       " 'pistoleros',\n",
       " 'decomisaron',\n",
       " 'allanamiento',\n",
       " 'custodios',\n",
       " 'antidisturbios',\n",
       " 'paramilitar',\n",
       " 'police',\n",
       " 'guardacostas',\n",
       " 'atracos',\n",
       " 'ejercito',\n",
       " 'granaderos',\n",
       " 'lacrimógenos',\n",
       " 'dina',\n",
       " 'patrullaje',\n",
       " 'incautado',\n",
       " 'pgj',\n",
       " 'subprocuraduría',\n",
       " 'agredidos',\n",
       " 'narcos',\n",
       " 'incautaron',\n",
       " 'arrestada',\n",
       " 'detenerlo',\n",
       " 'castrenses',\n",
       " 'alcoholemia',\n",
       " 'baleado',\n",
       " 'altercados',\n",
       " 'arrestar',\n",
       " 'interceptados',\n",
       " 'francotiradores',\n",
       " 'exjefe',\n",
       " 'suboficiales',\n",
       " 'violador',\n",
       " 'chófer',\n",
       " 'fiscalías',\n",
       " 'redada',\n",
       " 'arrestó',\n",
       " 'allanamientos',\n",
       " 'interrogados',\n",
       " 'informante',\n",
       " 'desarmados',\n",
       " 'asaltante',\n",
       " 'yard',\n",
       " 'agredió',\n",
       " 'pandilleros',\n",
       " 'policíacos',\n",
       " 'gendarmes',\n",
       " 'arrestadas',\n",
       " 'arrestaron',\n",
       " 'policíacas',\n",
       " 'tiroteos',\n",
       " 'interceptaron',\n",
       " 'retén',\n",
       " 'guardas',\n",
       " 'ase',\n",
       " 'manifestante',\n",
       " 'policíaca',\n",
       " 'antibalas',\n",
       " 'penitenciaría',\n",
       " 'aprehendido',\n",
       " 'antidroga',\n",
       " 'traficante',\n",
       " 'pgjdf',\n",
       " 'retenes',\n",
       " 'siedo',\n",
       " 'pme',\n",
       " 'gestapo',\n",
       " 'calabozos',\n",
       " 'patrullajes',\n",
       " 'matones',\n",
       " 'redadas',\n",
       " 'incautó',\n",
       " 'dspm',\n",
       " 'sicario',\n",
       " 'decomisado',\n",
       " 'agredida',\n",
       " 'decomisó',\n",
       " 'patrullar',\n",
       " 'pistolero',\n",
       " 'uniformado',\n",
       " 'alertados',\n",
       " 'interceptó',\n",
       " 'homicidas',\n",
       " 'destacamentos',\n",
       " 'camionero',\n",
       " 'motorista',\n",
       " 'secuestrador',\n",
       " 'agredieron',\n",
       " 'aeroportuaria',\n",
       " 'arrestan',\n",
       " 'desarticulado',\n",
       " 'interrogó',\n",
       " 'detenerlos',\n",
       " 'aprehendidos',\n",
       " 'atracadores',\n",
       " 'Élite',\n",
       " 'antinarcóticos',\n",
       " 'infiltrados',\n",
       " 'policia',\n",
       " 'semar',\n",
       " 'fugado',\n",
       " 'suboficial',\n",
       " 'maleantes',\n",
       " 'samur',\n",
       " 'patrulleros',\n",
       " 'cateo',\n",
       " 'atestado',\n",
       " 'lacrimógeno',\n",
       " 'flagrancia',\n",
       " 'interceptada',\n",
       " 'trifulca',\n",
       " 'rondines',\n",
       " 'inspectora',\n",
       " 'encubiertos',\n",
       " 'policíaco',\n",
       " 'pgjem',\n",
       " 'esposado',\n",
       " 'furgones',\n",
       " 'precinto',\n",
       " 'paramédico',\n",
       " 'golpiza',\n",
       " 'swat',\n",
       " 'criminalística',\n",
       " 'acordonaron',\n",
       " 'eulex',\n",
       " 'socorrista',\n",
       " 'vigilaban',\n",
       " 'celadores',\n",
       " 'pmt',\n",
       " 'interrogada',\n",
       " 'tiroteado',\n",
       " 'alijo',\n",
       " 'antimotines',\n",
       " 'custodiaban',\n",
       " 'adiestrados',\n",
       " 'atracador',\n",
       " 'alguaciles',\n",
       " 'patrullera',\n",
       " 'patrullero',\n",
       " 'delincuencial',\n",
       " 'patrullan',\n",
       " 'acreditable',\n",
       " 'chivatazo',\n",
       " 'nkvd',\n",
       " 'personó',\n",
       " 'gendarme',\n",
       " 'pfp',\n",
       " 'patrullando',\n",
       " 'desalojaron',\n",
       " 'acordonada',\n",
       " 'procuradurías',\n",
       " 'udyco',\n",
       " 'antisecuestros',\n",
       " 'militarizada',\n",
       " 'patrullaban',\n",
       " 'pntl',\n",
       " 'baleados',\n",
       " 'patrulleras',\n",
       " 'sspm',\n",
       " 'alborotadores',\n",
       " 'interrogaron',\n",
       " 'miliciano',\n",
       " 'inspeccionaron',\n",
       " 'agredidas',\n",
       " 'custodiaba',\n",
       " 'extorsionadores',\n",
       " 'aprehensiones',\n",
       " 'arresta',\n",
       " 'stasi',\n",
       " 'seprona',\n",
       " 'personaron',\n",
       " 'puelles',\n",
       " 'alertada',\n",
       " 'inspectoría',\n",
       " 'separos',\n",
       " 'cotino',\n",
       " 'subinspector',\n",
       " 'inspecciona',\n",
       " 'resguardaron',\n",
       " 'gatilleros',\n",
       " 'comandancias',\n",
       " 'fdtl',\n",
       " 'decomisa',\n",
       " 'uniformada',\n",
       " 'acordonado',\n",
       " 'adiestrado',\n",
       " 'robacarros',\n",
       " 'apuñalamiento',\n",
       " 'interrogarlo',\n",
       " 'caminera',\n",
       " 'celador',\n",
       " 'acordonar',\n",
       " 'apaleado',\n",
       " 'ertzainas',\n",
       " 'pandillero',\n",
       " 'artificieros',\n",
       " 'detenerle',\n",
       " 'esposados',\n",
       " 'extorsionistas',\n",
       " 'exagente',\n",
       " 'vicefiscalía',\n",
       " 'narcomenudistas',\n",
       " 'agresora',\n",
       " 'contrainteligencia',\n",
       " 'udev',\n",
       " 'sspe',\n",
       " 'expolicía',\n",
       " 'subcomisario',\n",
       " 'uea',\n",
       " 'aprehendieron',\n",
       " 'penitenciarías',\n",
       " 'ruc',\n",
       " 'desarticuló',\n",
       " 'cisen',\n",
       " 'linchar',\n",
       " 'tiroteados',\n",
       " 'fge',\n",
       " 'miponuh',\n",
       " 'dspytm',\n",
       " 'contraespionaje',\n",
       " 'custodiando',\n",
       " 'ertzaina',\n",
       " 'incauta',\n",
       " 'mosso',\n",
       " 'iptf',\n",
       " 'autopatrulla',\n",
       " 'vigilancias',\n",
       " 'antimafia',\n",
       " 'lacrimógenas',\n",
       " 'patrullaba',\n",
       " 'acordonó',\n",
       " 'polícia',\n",
       " 'carabinieri',\n",
       " 'arrestarlo',\n",
       " 'kaibiles',\n",
       " 'robacoches',\n",
       " 'linchado',\n",
       " 'arrestando',\n",
       " 'interrogando',\n",
       " 'incautarse',\n",
       " 'acuchillado',\n",
       " 'suboficina',\n",
       " 'deic',\n",
       " 'allanada',\n",
       " 'policÍa',\n",
       " 'extorsionados',\n",
       " 'investigarlos',\n",
       " 'nypd',\n",
       " 'basij',\n",
       " 'tedax',\n",
       " 'requisaron',\n",
       " 'alertadas',\n",
       " 'visitaduría',\n",
       " 'aprehendida']"
      ]
     },
     "execution_count": 32,
     "metadata": {},
     "output_type": "execute_result"
    }
   ],
   "source": [
    "modelo_wv.closer_than('policía', 'ladrón')"
   ]
  },
  {
   "cell_type": "code",
   "execution_count": 39,
   "metadata": {},
   "outputs": [
    {
     "data": {
      "text/plain": [
       "'medellín'"
      ]
     },
     "execution_count": 39,
     "metadata": {},
     "output_type": "execute_result"
    }
   ],
   "source": [
    "modelo_wv.most_similar_to_given('mexicali', ['lima', 'córdoba', 'managua', 'rosario', 'medellín'])"
   ]
  },
  {
   "cell_type": "markdown",
   "metadata": {},
   "source": [
    "## 5.4. Vectores de palabras para codificar parágrafos\n",
    "\n",
    "Algo que es interesante es como representar un documento (o párrafo, o frase) a partir de un modelo de palabras. De esa manera podríamos tener una codificación densa de cada documento en un número preestablecido de dimensiones. Entre los diferentes métodos que se han probado, uno que es bastante simple y efectivo (tomando en cuenta desconocimiento del contexto) para documentos pequeños (como entradas de *twitter*), es el de tomar los vectores de palabras de cada una de las palabras de la frase (normalizadas y sin palabras de paro) y sacar el promedio de dichos vectores. Esto nos da un vector de las mismas dimensiones que el vector de cada una de las palabras.\n",
    "\n",
    "Y, así, este vector extrae características de cada palabra, tomando en cuenta el contexto, y utilizando un espacio de representación de una dimensión sensiblemente menor que la que tiene la representación BOW o TF-IDF."
   ]
  },
  {
   "cell_type": "code",
   "execution_count": 43,
   "metadata": {},
   "outputs": [],
   "source": [
    "import numpy as np\n",
    "\n",
    "def frase_a_vec(frase, modelo_wv):\n",
    "    N = 0\n",
    "    acc = np.zeros(modelo_wv.vector_size)\n",
    "    for palabra in frase:\n",
    "        if palabra in modelo_wv.vocab:\n",
    "            acc += modelo_wv[palabra]\n",
    "            N += 1\n",
    "    return acc if N==0 else acc/N\n",
    "\n",
    "def sentencias_a_vec(frases, modelo_wv):\n",
    "    vectores = np.zeros((len(frases), modelo_wv.vector_size))\n",
    "    for (i, frase) in enumerate(frases):\n",
    "        vectores[i,:] = frase_a_vec(frase, modelo_wv)\n",
    "    return vectores\n",
    "    "
   ]
  },
  {
   "cell_type": "markdown",
   "metadata": {},
   "source": [
    "Vamos a probar con algunas frases"
   ]
  },
  {
   "cell_type": "code",
   "execution_count": 44,
   "metadata": {},
   "outputs": [
    {
     "name": "stdout",
     "output_type": "stream",
     "text": [
      "Las frases, ordenadas por su similitud con a la frase\n",
      "<<mi billetera es como una cebolla abrirla me hace llorar>>\n",
      "\n",
      "(0.776)  ojos dos lunas siempre quise viajar luna ahora entiendo deseo ser astronauta\n",
      "(0.762)  nunca visto amor igual siento ti cabe corazón tampoco universo\n",
      "(0.755)  ojos jamás cansaré mirar labios siempre querré besar mejor todo corazón jamás dejaré amar\n",
      "(0.738)  lindo paisaje quiero deleitar ojos flores rostro pradera boca mar\n",
      "(0.728)  aunque nadie puede volver atrás hacer nuevo comienzo cualquiera puede comenzar partir ahora crear nuevo final\n",
      "(0.725)  date cuenta va llegar quiere ir nadie más\n",
      "(0.724)  si construyes sueño alguien va contratarte ayudes construir suyo\n",
      "(0.713)  importante vida tener privilegio saber si tener google página inicio movil\n",
      "(0.701)  felicidad puede ser ganada experiencia espiritual vida cada minuto amor gracia gratitud\n",
      "(0.69)  mira nuevo día regalo especial creador oportunidad oro\n",
      "(0.672)  único arrepiento vida otro\n",
      "(0.66)  siempre recuerda absolutamente único especial tal demás\n",
      "(0.658)  sé existe mundo mejor cumplen deseos mundo caro\n",
      "(0.612)  famoso estudio afirma cada 10 millones personas escuchan radio 5 millones mitad\n",
      "(0.462)  desearía poder hablarte desearía poder sonreírte desearía poder abrazarte desearía poder besarte\n"
     ]
    }
   ],
   "source": [
    "frases = \"\"\" \n",
    "Aunque nadie puede volver atrás y hacer un nuevo comienzo, cualquiera puede comenzar a partir de ahora y crear un nuevo final.\n",
    "Mira en el nuevo día como otro regalo especial de su creador, otra oportunidad de oro.\n",
    "La felicidad no puede ser ganada, es la experiencia espiritual de vida de cada minuto con amor, gracia y gratitud.\n",
    "Date cuenta que tú eres quien va a llegar a donde quiere ir, nadie más.\n",
    "Si tú no construyes tu sueño, alguien va a contratarte para que le ayudes a construir el suyo. \n",
    "Desearía poder hablarte, desearía poder sonreírte, desearía poder abrazarte, pero sobre todo desearía poder besarte.\n",
    "Tus ojos son como dos lunas, y yo siempre quise viajar a la luna, ahora entiendo mi deseo de ser astronauta.\n",
    "Unos ojos que jamás me cansaré de mirar, unos labios que siempre querré besar, pero lo mejor de todo, un corazón que jamás dejaré de amar.\n",
    "Eres un lindo paisaje con el que me quiero deleitar, tus ojos las flores, tu rostro la pradera y tu boca el mar.\n",
    "Nunca antes se había visto un amor igual al que siento por ti; no cabe en mi corazón, ni tampoco en este universo.\n",
    "Lo único de que me arrepiento en esta vida es que no soy otro.\n",
    "Siempre recuerda que tú eres absolutamente único y especial, tal como todos los demás. \n",
    "Un famoso estudio afirma que de cada 10 millones de personas que escuchan la radio, 5 millones son la mitad.\n",
    "Sé que existe un mundo mucho mejor donde se cumplen todos los deseos, pero es un mundo muy caro.\n",
    "Lo importante en la vida no es tener el privilegio de saber, si no de tener Google como página de inicio en tu movil.\n",
    "\"\"\"\n",
    "\n",
    "sentencias = normaliza_texto(frases)\n",
    "vectores_frases = sentencias_a_vec(sentencias, modelo_wv)\n",
    "\n",
    "# Ahora vamos a ver la similaridad de una frase resecto otras\n",
    "# frase = \"Siento que te debo la canción más bonita del mundo, el dibujo más bello, el poema, así como frases de amor hermosas\"\n",
    "# frase = \"Si amas a algo, dejalo libre, si regresa es tuyo y si no, núnca lo fué\"\n",
    "frase = \"Mi billetera es como una cebolla, abrirla me hace llorar.\"\n",
    "\n",
    "frase_tok = nltk.tokenize.regexp_tokenize(frase.lower(), r'\\w+')\n",
    "v_frase = frase_a_vec(frase_tok, modelo_wv)\n",
    "\n",
    "sim_cos = modelo_wv.cosine_similarities(v_frase, vectores_frases)\n",
    "\n",
    "print(\"Las frases, ordenadas por su similitud con a la frase\\n<<{}>>\\n\".format(' '.join(frase_tok)))\n",
    "for i in sim_cos.argsort()[-1::-1]:\n",
    "    print(\"({:4.3})  {}\".format(sim_cos[i], ' '.join(sentencias[i])))"
   ]
  }
 ],
 "metadata": {
  "kernelspec": {
   "display_name": "Python 3",
   "language": "python",
   "name": "python3"
  },
  "language_info": {
   "codemirror_mode": {
    "name": "ipython",
    "version": 3
   },
   "file_extension": ".py",
   "mimetype": "text/x-python",
   "name": "python",
   "nbconvert_exporter": "python",
   "pygments_lexer": "ipython3",
   "version": "3.8.5"
  }
 },
 "nbformat": 4,
 "nbformat_minor": 4
}
