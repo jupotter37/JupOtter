{
 "cells": [
  {
   "cell_type": "code",
   "execution_count": 1,
   "metadata": {
    "collapsed": true
   },
   "outputs": [],
   "source": [
    "import json\n",
    "import pandas as pd\n",
    "import numpy as np\n",
    "import datetime\n",
    "import os"
   ]
  },
  {
   "cell_type": "code",
   "execution_count": 2,
   "metadata": {
    "collapsed": true
   },
   "outputs": [],
   "source": [
    "with open('/scratch/wiki_dumps/user_data/metadata.json') as f:\n",
    "     usrdata = json.load(f) \n",
    "\n",
    "with open('/scratch/wiki_dumps/talk_page_article_link.json') as f:\n",
    "     subjectpage = json.load(f)\n",
    "\n",
    "def timestamp_2_sec(timestamp):\n",
    "    return (datetime.datetime.strptime(timestamp, '%Y-%m-%dT%H:%M:%SZ') -datetime.datetime(1970,1,1)).total_seconds()\n",
    "\n",
    "registration = {}\n",
    "groups = {}\n",
    "blocking = {}\n",
    "for user, data in usrdata.items():\n",
    "    if 'registration' in data and data['registration']:\n",
    "       registration[user] = timestamp_2_sec(data['registration'])\n",
    "    if 'groups' in data:\n",
    "       groups[user] = data['groups']\n",
    "    else:\n",
    "       groups[user] = []\n",
    "    if 'blockedtimestamp' in data:\n",
    "       blocking[user] = timestamp_2_sec(data['blockedtimestamp'])"
   ]
  },
  {
   "cell_type": "code",
   "execution_count": 7,
   "metadata": {},
   "outputs": [],
   "source": [
    "edits = []\n",
    "data_dir = \"/scratch/wiki_dumps/user_data/editing_data\"\n",
    "month_dict_edits\n",
    "for _, _, filenames in os.walk(data_dir):\n",
    "    for filename in filenames:\n",
    "        df = pd.read_csv(os.path.join(data_dir, filename))\n",
    "        df['timestamp'] = pd.to_datetime(df['timestamp'])\n",
    "        df['year'] = df['timestamp'].apply(lambda x: x.year)\n",
    "        df['month'] = df['timestamp'].apply(lambda x: x.month)\n",
    "        month_groups = df.groupby(['year', 'month'])\n",
    "        month_dict_edits = {}\n",
    "        res = []\n",
    "        for ind, dfg in month_groups:\n",
    "            cur = dfg.groupby(['user', 'page_id']).size().reset_index(name='count')\n",
    "            month_dict_edits[ind] = dfg\n",
    "            cur['year'] = ind[0]\n",
    "            cur['month'] = ind[1]\n",
    "            res.append(cur)\n",
    "        edits_months = pd.concat(res)\n",
    "        with open(\"/scratch/wiki_dumps/user_data/editing_cnts/%s\"%filename, \"w\") as w:\n",
    "            edits_month.to_csv(w)\n",
    "        break\n",
    "    break\n",
    "edits = pd.concat(edits)"
   ]
  },
  {
   "cell_type": "code",
   "execution_count": 11,
   "metadata": {
    "collapsed": true
   },
   "outputs": [],
   "source": [
    "edits_bak = edits\n",
    "edits = edits.head(100)"
   ]
  },
  {
   "cell_type": "code",
   "execution_count": null,
   "metadata": {
    "collapsed": true
   },
   "outputs": [],
   "source": [
    "with open('/scratch/wiki_dumps/user_data/editing_data/all_edits.csv', 'w') as f:\n",
    "    edits_bak.to_csv(f)"
   ]
  },
  {
   "cell_type": "code",
   "execution_count": 12,
   "metadata": {},
   "outputs": [
    {
     "data": {
      "text/plain": [
       "100"
      ]
     },
     "execution_count": 12,
     "metadata": {},
     "output_type": "execute_result"
    }
   ],
   "source": [
    "len(edits)"
   ]
  },
  {
   "cell_type": "code",
   "execution_count": 13,
   "metadata": {},
   "outputs": [
    {
     "name": "stderr",
     "output_type": "stream",
     "text": [
      "/home/yiqing/miniconda3/lib/python3.6/site-packages/ipykernel/__main__.py:2: SettingWithCopyWarning: \n",
      "A value is trying to be set on a copy of a slice from a DataFrame.\n",
      "Try using .loc[row_indexer,col_indexer] = value instead\n",
      "\n",
      "See the caveats in the documentation: http://pandas.pydata.org/pandas-docs/stable/indexing.html#indexing-view-versus-copy\n",
      "  from ipykernel import kernelapp as app\n"
     ]
    }
   ],
   "source": [
    "res = {}\n"
   ]
  },
  {
   "cell_type": "code",
   "execution_count": 23,
   "metadata": {},
   "outputs": [
    {
     "name": "stderr",
     "output_type": "stream",
     "text": [
      "/home/yiqing/miniconda3/lib/python3.6/site-packages/ipykernel/__main__.py:1: SettingWithCopyWarning: \n",
      "A value is trying to be set on a copy of a slice from a DataFrame.\n",
      "Try using .loc[row_indexer,col_indexer] = value instead\n",
      "\n",
      "See the caveats in the documentation: http://pandas.pydata.org/pandas-docs/stable/indexing.html#indexing-view-versus-copy\n",
      "  if __name__ == '__main__':\n",
      "/home/yiqing/miniconda3/lib/python3.6/site-packages/ipykernel/__main__.py:2: SettingWithCopyWarning: \n",
      "A value is trying to be set on a copy of a slice from a DataFrame.\n",
      "Try using .loc[row_indexer,col_indexer] = value instead\n",
      "\n",
      "See the caveats in the documentation: http://pandas.pydata.org/pandas-docs/stable/indexing.html#indexing-view-versus-copy\n",
      "  from ipykernel import kernelapp as app\n"
     ]
    }
   ],
   "source": []
  },
  {
   "cell_type": "code",
   "execution_count": null,
   "metadata": {
    "collapsed": true
   },
   "outputs": [],
   "source": [
    "edits['timestamp'].head(10)"
   ]
  },
  {
   "cell_type": "code",
   "execution_count": null,
   "metadata": {
    "collapsed": true
   },
   "outputs": [],
   "source": [
    "edits['month'] = edits"
   ]
  },
  {
   "cell_type": "code",
   "execution_count": 26,
   "metadata": {
    "collapsed": true
   },
   "outputs": [],
   "source": [
    "talk_page = []\n",
    "for year in range(2001, 2016):\n",
    "    df = pd.read_csv('/scratch/wiki_dumps/user_data/talk_data/activity_article_%d.csv'%year, sep=\"\\t\")\n",
    "    talk_page.append(df)\n",
    "talk_page = pd.concat(talk_page)"
   ]
  },
  {
   "cell_type": "code",
   "execution_count": 11,
   "metadata": {
    "collapsed": true
   },
   "outputs": [],
   "source": [
    "talk_page['timestamp_in_sec'] = talk_page.apply(lambda x: timestamp_2_sec(x['timestamp']), axis=1)"
   ]
  },
  {
   "cell_type": "code",
   "execution_count": 14,
   "metadata": {},
   "outputs": [
    {
     "data": {
      "text/plain": [
       "60478"
      ]
     },
     "execution_count": 14,
     "metadata": {},
     "output_type": "execute_result"
    }
   ],
   "source": [
    "len(sub_edits)"
   ]
  },
  {
   "cell_type": "code",
   "execution_count": 15,
   "metadata": {},
   "outputs": [
    {
     "data": {
      "text/plain": [
       "2"
      ]
     },
     "execution_count": 15,
     "metadata": {},
     "output_type": "execute_result"
    }
   ],
   "source": [
    "len(ids)"
   ]
  },
  {
   "cell_type": "code",
   "execution_count": 17,
   "metadata": {},
   "outputs": [
    {
     "ename": "NameError",
     "evalue": "name 'sub_edits_same_page_cnts' is not defined",
     "output_type": "error",
     "traceback": [
      "\u001b[0;31m---------------------------------------------------------------------------\u001b[0m",
      "\u001b[0;31mNameError\u001b[0m                                 Traceback (most recent call last)",
      "\u001b[0;32m<ipython-input-17-f7c6bc8d299d>\u001b[0m in \u001b[0;36m<module>\u001b[0;34m()\u001b[0m\n\u001b[0;32m----> 1\u001b[0;31m \u001b[0msub_edits_same_page_cnts\u001b[0m\u001b[0;34m\u001b[0m\u001b[0m\n\u001b[0m",
      "\u001b[0;31mNameError\u001b[0m: name 'sub_edits_same_page_cnts' is not defined"
     ]
    }
   ],
   "source": [
    "constraints = ['delta2_no_users', 'delta2_no_users_attacker_in_conv']\n",
    "for constraint in constraints:\n",
    "    with open('/scratch/wiki_dumps/expr_with_matching/%s/data/all.json'%(constraint)) as f:\n",
    "        for line in f:\n",
    "            conv_id, clss, conversation = json.loads(line)\n",
    "            break"
   ]
  },
  {
   "cell_type": "code",
   "execution_count": null,
   "metadata": {
    "collapsed": true
   },
   "outputs": [],
   "source": [
    "users = []\n",
    "user_id = {}\n",
    "start_time = np.inf\n",
    "for action in conversation['action_feature']:\n",
    "    start_time = min(start_time, action['timestamp_in_sec'])\n",
    "    if 'user_text' in action:\n",
    "        users.append(action['user_text'])      \n",
    "    if 'user_id' in action:\n",
    "        user_id[action['user_text']] = action['user_id']\n",
    "    else:\n",
    "        user_id[action['user_text']] = '0|'+ action['user_text']\n",
    "    page_title = conversation['action_feature'][0]['page_title']\n",
    "    if page_title in subjectpage:  \n",
    "        p_id = subjectpage[page_title]            \n",
    "    else:\n",
    "        p_id = -1\n",
    "    user_features = {}\n",
    "    ids = list(user_id.values())\n",
    "    date = datetime.datetime.fromtimestamp(start_time)\n",
    "    year = date.year\n",
    "    month = date.month"
   ]
  },
  {
   "cell_type": "code",
   "execution_count": null,
   "metadata": {},
   "outputs": [],
   "source": [
    "constraints = ['delta2_no_users', 'delta2_no_users_attacker_in_conv']\n",
    "for constraint in constraints:\n",
    "    with open('/scratch/wiki_dumps/expr_with_matching/%s/data/all.json'%(constraint)) as f:\n",
    "        for line in f:\n",
    "            conv_id, clss, conversation = json.loads(line)\n",
    "            users = []\n",
    "            user_id = {}\n",
    "            start_time = np.inf\n",
    "            for action in conversation['action_feature']:\n",
    "                start_time = min(start_time, action['timestamp_in_sec'])\n",
    "                if 'user_text' in action:\n",
    "                    users.append(action['user_text'])      \n",
    "                    if 'user_id' in action:\n",
    "                       user_id[action['user_text']] = action['user_id']\n",
    "                    else:\n",
    "                       user_id[action['user_text']] = '0|'+ action['user_text']\n",
    "            page_title = conversation['action_feature'][0]['page_title']\n",
    "            if page_title in subjectpage:  \n",
    "                p_id = subjectpage[page_title]            \n",
    "            else:\n",
    "                p_id = -1\n",
    "            page_title = page_title[page_title.find('Talk') + 5:]\n",
    "\n",
    "            user_features = {}        \n",
    "            \n",
    "            comments = {}\n",
    "            for user in users:\n",
    "              #  print(user)\n",
    "                info = {}\n",
    "                # metadata\n",
    "                if user in registration: \n",
    "                    info['registration'] = registration[user]\n",
    "                else:\n",
    "                    info['anon'] = True\n",
    "                info['groups'] = groups[user]\n",
    "                if user in blocking and blocking[user] < start_time: \n",
    "                    info['blocked'] = blocking[user]\n",
    "                \n",
    "                # editing data\n",
    "                \"\"\"\n",
    "                u_id = user_id[user]\n",
    "                try:\n",
    "                    with open('/scratch/wiki_dumps/user_data/editing_per_user/%s'%(u_id)) as f:\n",
    "                        edits = pd.read_csv(f)\n",
    "                    info['edits_on_subjectpage'] = len(edits[(edits['page_id'] == p_id) & (edits['timestamp_in_sec'] < start_time)])\n",
    "                    info['edits_on_wikipedia_articles'] = len(edits[edits['timestamp_in_sec'] < start_time])\n",
    "                except:\n",
    "                    info['edits_on_subjectpage'] = 0\n",
    "                    info['edits_on_wikipedia_articles'] = 0\n",
    "                \"\"\"\n",
    "                week = 7 * 24* 60 * 60\n",
    "                # talk page data\n",
    "                try:\n",
    "                    with open('/scratch/wiki_dumps/user_data/talk_per_user/%s'%(user)) as f:\n",
    "                        edits = pd.read_csv(f, sep = '\\t')\n",
    "                    edits['timestamp_in_sec'] = edits.apply(lambda x: timestamp_2_sec(x['timestamp']), axis=1)\n",
    "                 #   print(page_title)\n",
    "                    info['edits_on_this_talk_page'] = len(edits[(edits['page_title'] == page_title) & (edits['timestamp_in_sec'] < start_time)])\n",
    "                    info['edits_on_wikipedia_talks'] = len(edits[edits['timestamp_in_sec'] < start_time])               \n",
    "                    comments[user] = edits[edits['timestamp_in_sec'] < start_time - week].sort_values('timestamp_in_sec', ascending=False).head(100)\n",
    "                    comments[user] = comments[user]['comment'].values.tolist()\n",
    "                    comments[user] = [x.replace('NEWLINE', ' ') for x in comments[user]]\n",
    "                    comments[user] = [x.replace('NEWTAB', ' ') for x in comments[user]]\n",
    "                    \n",
    "                except:\n",
    "                    info['edits_on_this_talk_page'] = 0\n",
    "                    info['edits_on_wikipedia_talks'] = 0\n",
    "                    comments[user] = []\n",
    "                user_features[user] = info\n",
    "            with open('/scratch/wiki_dumps/expr_with_matching/%s/user_features.json'%(constraint), 'a') as w:\n",
    "                w.write(json.dumps([conv_id, user_features]) + '\\n')\n",
    "            with open('/scratch/wiki_dumps/expr_with_matching/%s/comments.json'%(constraint), 'a') as w:\n",
    "                w.write(json.dumps([conv_id, comments]) + '\\n')"
   ]
  },
  {
   "cell_type": "code",
   "execution_count": null,
   "metadata": {
    "collapsed": true
   },
   "outputs": [],
   "source": [
    "last_100_comments = pd.concat(last_100_comments)"
   ]
  }
 ],
 "metadata": {
  "kernelspec": {
   "display_name": "Python [default]",
   "language": "python",
   "name": "python3"
  },
  "language_info": {
   "codemirror_mode": {
    "name": "ipython",
    "version": 3
   },
   "file_extension": ".py",
   "mimetype": "text/x-python",
   "name": "python",
   "nbconvert_exporter": "python",
   "pygments_lexer": "ipython3",
   "version": "3.6.1"
  }
 },
 "nbformat": 4,
 "nbformat_minor": 2
}
