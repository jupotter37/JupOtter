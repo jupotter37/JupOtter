{
 "cells": [
  {
   "cell_type": "code",
   "execution_count": 4,
   "id": "dfb33d7e-aa1d-4818-8bcb-d0870587ad8e",
   "metadata": {
    "tags": []
   },
   "outputs": [],
   "source": [
    "import pandas as pd\n",
    "import seaborn as sns\n",
    "\n",
    "from sklearn.preprocessing import OneHotEncoder, StandardScaler\n",
    "from sklearn.impute import SimpleImputer\n",
    "from sklearn.pipeline import Pipeline\n",
    "from sklearn.compose import ColumnTransformer"
   ]
  },
  {
   "cell_type": "code",
   "execution_count": 6,
   "id": "7e18a0f4-db3f-4cb4-bc1f-2f65c2b3445a",
   "metadata": {
    "tags": []
   },
   "outputs": [
    {
     "data": {
      "text/html": [
       "<div>\n",
       "<style scoped>\n",
       "    .dataframe tbody tr th:only-of-type {\n",
       "        vertical-align: middle;\n",
       "    }\n",
       "\n",
       "    .dataframe tbody tr th {\n",
       "        vertical-align: top;\n",
       "    }\n",
       "\n",
       "    .dataframe thead th {\n",
       "        text-align: right;\n",
       "    }\n",
       "</style>\n",
       "<table border=\"1\" class=\"dataframe\">\n",
       "  <thead>\n",
       "    <tr style=\"text-align: right;\">\n",
       "      <th></th>\n",
       "      <th>species</th>\n",
       "      <th>island</th>\n",
       "      <th>bill_length_mm</th>\n",
       "      <th>bill_depth_mm</th>\n",
       "      <th>flipper_length_mm</th>\n",
       "      <th>body_mass_g</th>\n",
       "      <th>sex</th>\n",
       "    </tr>\n",
       "  </thead>\n",
       "  <tbody>\n",
       "    <tr>\n",
       "      <th>0</th>\n",
       "      <td>Adelie</td>\n",
       "      <td>Torgersen</td>\n",
       "      <td>39.1</td>\n",
       "      <td>18.7</td>\n",
       "      <td>181.0</td>\n",
       "      <td>3750.0</td>\n",
       "      <td>Male</td>\n",
       "    </tr>\n",
       "    <tr>\n",
       "      <th>1</th>\n",
       "      <td>Adelie</td>\n",
       "      <td>Torgersen</td>\n",
       "      <td>39.5</td>\n",
       "      <td>17.4</td>\n",
       "      <td>186.0</td>\n",
       "      <td>3800.0</td>\n",
       "      <td>Female</td>\n",
       "    </tr>\n",
       "    <tr>\n",
       "      <th>2</th>\n",
       "      <td>Adelie</td>\n",
       "      <td>Torgersen</td>\n",
       "      <td>40.3</td>\n",
       "      <td>18.0</td>\n",
       "      <td>195.0</td>\n",
       "      <td>3250.0</td>\n",
       "      <td>Female</td>\n",
       "    </tr>\n",
       "    <tr>\n",
       "      <th>3</th>\n",
       "      <td>Adelie</td>\n",
       "      <td>Torgersen</td>\n",
       "      <td>NaN</td>\n",
       "      <td>NaN</td>\n",
       "      <td>NaN</td>\n",
       "      <td>NaN</td>\n",
       "      <td>NaN</td>\n",
       "    </tr>\n",
       "    <tr>\n",
       "      <th>4</th>\n",
       "      <td>Adelie</td>\n",
       "      <td>Torgersen</td>\n",
       "      <td>36.7</td>\n",
       "      <td>19.3</td>\n",
       "      <td>193.0</td>\n",
       "      <td>3450.0</td>\n",
       "      <td>Female</td>\n",
       "    </tr>\n",
       "  </tbody>\n",
       "</table>\n",
       "</div>"
      ],
      "text/plain": [
       "  species     island  bill_length_mm  bill_depth_mm  flipper_length_mm  \\\n",
       "0  Adelie  Torgersen            39.1           18.7              181.0   \n",
       "1  Adelie  Torgersen            39.5           17.4              186.0   \n",
       "2  Adelie  Torgersen            40.3           18.0              195.0   \n",
       "3  Adelie  Torgersen             NaN            NaN                NaN   \n",
       "4  Adelie  Torgersen            36.7           19.3              193.0   \n",
       "\n",
       "   body_mass_g     sex  \n",
       "0       3750.0    Male  \n",
       "1       3800.0  Female  \n",
       "2       3250.0  Female  \n",
       "3          NaN     NaN  \n",
       "4       3450.0  Female  "
      ]
     },
     "execution_count": 6,
     "metadata": {},
     "output_type": "execute_result"
    }
   ],
   "source": [
    "df = sns.load_dataset('penguins')\n",
    "\n",
    "df.head()"
   ]
  },
  {
   "cell_type": "code",
   "execution_count": 7,
   "id": "4dd09bf2-54c7-41c9-82f7-3353893e21da",
   "metadata": {
    "tags": []
   },
   "outputs": [
    {
     "name": "stdout",
     "output_type": "stream",
     "text": [
      "<class 'pandas.core.frame.DataFrame'>\n",
      "RangeIndex: 344 entries, 0 to 343\n",
      "Data columns (total 7 columns):\n",
      " #   Column             Non-Null Count  Dtype  \n",
      "---  ------             --------------  -----  \n",
      " 0   species            344 non-null    object \n",
      " 1   island             344 non-null    object \n",
      " 2   bill_length_mm     342 non-null    float64\n",
      " 3   bill_depth_mm      342 non-null    float64\n",
      " 4   flipper_length_mm  342 non-null    float64\n",
      " 5   body_mass_g        342 non-null    float64\n",
      " 6   sex                333 non-null    object \n",
      "dtypes: float64(4), object(3)\n",
      "memory usage: 18.9+ KB\n"
     ]
    }
   ],
   "source": [
    "df.info()"
   ]
  },
  {
   "cell_type": "code",
   "execution_count": 9,
   "id": "53e8185d-da01-4893-840a-4947565353c2",
   "metadata": {
    "tags": []
   },
   "outputs": [
    {
     "data": {
      "text/html": [
       "<div>\n",
       "<style scoped>\n",
       "    .dataframe tbody tr th:only-of-type {\n",
       "        vertical-align: middle;\n",
       "    }\n",
       "\n",
       "    .dataframe tbody tr th {\n",
       "        vertical-align: top;\n",
       "    }\n",
       "\n",
       "    .dataframe thead th {\n",
       "        text-align: right;\n",
       "    }\n",
       "</style>\n",
       "<table border=\"1\" class=\"dataframe\">\n",
       "  <thead>\n",
       "    <tr style=\"text-align: right;\">\n",
       "      <th></th>\n",
       "      <th>bill_length_mm</th>\n",
       "      <th>bill_depth_mm</th>\n",
       "      <th>flipper_length_mm</th>\n",
       "      <th>body_mass_g</th>\n",
       "    </tr>\n",
       "  </thead>\n",
       "  <tbody>\n",
       "    <tr>\n",
       "      <th>count</th>\n",
       "      <td>342.000000</td>\n",
       "      <td>342.000000</td>\n",
       "      <td>342.000000</td>\n",
       "      <td>342.000000</td>\n",
       "    </tr>\n",
       "    <tr>\n",
       "      <th>mean</th>\n",
       "      <td>43.921930</td>\n",
       "      <td>17.151170</td>\n",
       "      <td>200.915205</td>\n",
       "      <td>4201.754386</td>\n",
       "    </tr>\n",
       "    <tr>\n",
       "      <th>std</th>\n",
       "      <td>5.459584</td>\n",
       "      <td>1.974793</td>\n",
       "      <td>14.061714</td>\n",
       "      <td>801.954536</td>\n",
       "    </tr>\n",
       "    <tr>\n",
       "      <th>min</th>\n",
       "      <td>32.100000</td>\n",
       "      <td>13.100000</td>\n",
       "      <td>172.000000</td>\n",
       "      <td>2700.000000</td>\n",
       "    </tr>\n",
       "    <tr>\n",
       "      <th>25%</th>\n",
       "      <td>39.225000</td>\n",
       "      <td>15.600000</td>\n",
       "      <td>190.000000</td>\n",
       "      <td>3550.000000</td>\n",
       "    </tr>\n",
       "    <tr>\n",
       "      <th>50%</th>\n",
       "      <td>44.450000</td>\n",
       "      <td>17.300000</td>\n",
       "      <td>197.000000</td>\n",
       "      <td>4050.000000</td>\n",
       "    </tr>\n",
       "    <tr>\n",
       "      <th>75%</th>\n",
       "      <td>48.500000</td>\n",
       "      <td>18.700000</td>\n",
       "      <td>213.000000</td>\n",
       "      <td>4750.000000</td>\n",
       "    </tr>\n",
       "    <tr>\n",
       "      <th>max</th>\n",
       "      <td>59.600000</td>\n",
       "      <td>21.500000</td>\n",
       "      <td>231.000000</td>\n",
       "      <td>6300.000000</td>\n",
       "    </tr>\n",
       "  </tbody>\n",
       "</table>\n",
       "</div>"
      ],
      "text/plain": [
       "       bill_length_mm  bill_depth_mm  flipper_length_mm  body_mass_g\n",
       "count      342.000000     342.000000         342.000000   342.000000\n",
       "mean        43.921930      17.151170         200.915205  4201.754386\n",
       "std          5.459584       1.974793          14.061714   801.954536\n",
       "min         32.100000      13.100000         172.000000  2700.000000\n",
       "25%         39.225000      15.600000         190.000000  3550.000000\n",
       "50%         44.450000      17.300000         197.000000  4050.000000\n",
       "75%         48.500000      18.700000         213.000000  4750.000000\n",
       "max         59.600000      21.500000         231.000000  6300.000000"
      ]
     },
     "execution_count": 9,
     "metadata": {},
     "output_type": "execute_result"
    }
   ],
   "source": [
    "df.describe()"
   ]
  },
  {
   "cell_type": "code",
   "execution_count": 10,
   "id": "f416c7a3-973f-46e4-a51c-cc3de93f9394",
   "metadata": {
    "tags": []
   },
   "outputs": [
    {
     "data": {
      "text/html": [
       "<div>\n",
       "<style scoped>\n",
       "    .dataframe tbody tr th:only-of-type {\n",
       "        vertical-align: middle;\n",
       "    }\n",
       "\n",
       "    .dataframe tbody tr th {\n",
       "        vertical-align: top;\n",
       "    }\n",
       "\n",
       "    .dataframe thead th {\n",
       "        text-align: right;\n",
       "    }\n",
       "</style>\n",
       "<table border=\"1\" class=\"dataframe\">\n",
       "  <thead>\n",
       "    <tr style=\"text-align: right;\">\n",
       "      <th></th>\n",
       "      <th>variavel</th>\n",
       "      <th>descricao</th>\n",
       "      <th>tipo</th>\n",
       "      <th>subtipo</th>\n",
       "      <th>resposta</th>\n",
       "    </tr>\n",
       "  </thead>\n",
       "  <tbody>\n",
       "    <tr>\n",
       "      <th>0</th>\n",
       "      <td>species</td>\n",
       "      <td>Espécie do pinguim ('Adelie', 'Chinstrap', 'Ge...</td>\n",
       "      <td>qualitativa</td>\n",
       "      <td>nominal</td>\n",
       "      <td>True</td>\n",
       "    </tr>\n",
       "    <tr>\n",
       "      <th>1</th>\n",
       "      <td>island</td>\n",
       "      <td>Ilha em que o pinguim foi encontrado ('Torgers...</td>\n",
       "      <td>qualitativa</td>\n",
       "      <td>nominal</td>\n",
       "      <td>False</td>\n",
       "    </tr>\n",
       "    <tr>\n",
       "      <th>2</th>\n",
       "      <td>bill_length_mm</td>\n",
       "      <td>Comprimento do bico do pinguim em milímetros</td>\n",
       "      <td>quantitativa</td>\n",
       "      <td>continua</td>\n",
       "      <td>False</td>\n",
       "    </tr>\n",
       "    <tr>\n",
       "      <th>3</th>\n",
       "      <td>bill_depth_mm</td>\n",
       "      <td>Profundidade do bico do pinguim em milímetros</td>\n",
       "      <td>quantitativa</td>\n",
       "      <td>continua</td>\n",
       "      <td>False</td>\n",
       "    </tr>\n",
       "    <tr>\n",
       "      <th>4</th>\n",
       "      <td>flipper_length_mm</td>\n",
       "      <td>Comprimento da nadadeira do pinguim em milímetros</td>\n",
       "      <td>quantitativa</td>\n",
       "      <td>continua</td>\n",
       "      <td>False</td>\n",
       "    </tr>\n",
       "    <tr>\n",
       "      <th>5</th>\n",
       "      <td>body_mass_g</td>\n",
       "      <td>Massa corporal do pinguim em gramas</td>\n",
       "      <td>quantitativa</td>\n",
       "      <td>continua</td>\n",
       "      <td>False</td>\n",
       "    </tr>\n",
       "    <tr>\n",
       "      <th>6</th>\n",
       "      <td>sex</td>\n",
       "      <td>Sexo do pinguim ('Male', 'Female')</td>\n",
       "      <td>qualitativa</td>\n",
       "      <td>nominal</td>\n",
       "      <td>False</td>\n",
       "    </tr>\n",
       "  </tbody>\n",
       "</table>\n",
       "</div>"
      ],
      "text/plain": [
       "            variavel                                          descricao  \\\n",
       "0            species  Espécie do pinguim ('Adelie', 'Chinstrap', 'Ge...   \n",
       "1             island  Ilha em que o pinguim foi encontrado ('Torgers...   \n",
       "2     bill_length_mm       Comprimento do bico do pinguim em milímetros   \n",
       "3      bill_depth_mm      Profundidade do bico do pinguim em milímetros   \n",
       "4  flipper_length_mm  Comprimento da nadadeira do pinguim em milímetros   \n",
       "5        body_mass_g                Massa corporal do pinguim em gramas   \n",
       "6                sex                 Sexo do pinguim ('Male', 'Female')   \n",
       "\n",
       "           tipo   subtipo  resposta  \n",
       "0   qualitativa   nominal      True  \n",
       "1   qualitativa   nominal     False  \n",
       "2  quantitativa  continua     False  \n",
       "3  quantitativa  continua     False  \n",
       "4  quantitativa  continua     False  \n",
       "5  quantitativa  continua     False  \n",
       "6   qualitativa   nominal     False  "
      ]
     },
     "execution_count": 10,
     "metadata": {},
     "output_type": "execute_result"
    }
   ],
   "source": [
    "# Criação de um dicionário de dados\n",
    "\n",
    "df_dict = pd.DataFrame([\n",
    "    {\n",
    "        \"variavel\": \"species\",\n",
    "        \"descricao\": \"Espécie do pinguim ('Adelie', 'Chinstrap', 'Gentoo')\",\n",
    "        \"tipo\": \"qualitativa\",\n",
    "        \"subtipo\": \"nominal\",\n",
    "        \"resposta\": True\n",
    "    },{\n",
    "        \"variavel\": \"island\",\n",
    "        \"descricao\": \"Ilha em que o pinguim foi encontrado ('Torgersen', 'Biscoe', 'Dream')\",\n",
    "        \"tipo\": \"qualitativa\",\n",
    "        \"subtipo\": \"nominal\",\n",
    "        \"resposta\": False\n",
    "    },{\n",
    "        \"variavel\": \"bill_length_mm\",\n",
    "        \"descricao\": \"Comprimento do bico do pinguim em milímetros\",\n",
    "        \"tipo\": \"quantitativa\",\n",
    "        \"subtipo\": \"continua\",\n",
    "        \"resposta\": False\n",
    "    },{\n",
    "        \"variavel\": \"bill_depth_mm\",\n",
    "        \"descricao\": \"Profundidade do bico do pinguim em milímetros\",\n",
    "        \"tipo\": \"quantitativa\",\n",
    "        \"subtipo\": \"continua\",\n",
    "        \"resposta\": False\n",
    "    },{\n",
    "        \"variavel\": \"flipper_length_mm\",\n",
    "        \"descricao\": \"Comprimento da nadadeira do pinguim em milímetros\",\n",
    "        \"tipo\": \"quantitativa\",\n",
    "        \"subtipo\": \"continua\",\n",
    "        \"resposta\": False\n",
    "    },{\n",
    "        \"variavel\": \"body_mass_g\",\n",
    "        \"descricao\": \"Massa corporal do pinguim em gramas\",\n",
    "        \"tipo\": \"quantitativa\",\n",
    "        \"subtipo\": \"continua\",\n",
    "        \"resposta\": False\n",
    "    },{\n",
    "        \"variavel\": \"sex\",\n",
    "        \"descricao\": \"Sexo do pinguim ('Male', 'Female')\",\n",
    "        \"tipo\": \"qualitativa\",\n",
    "        \"subtipo\": \"nominal\",\n",
    "        \"resposta\": False\n",
    "    }\n",
    "])\n",
    "\n",
    "df_dict"
   ]
  },
  {
   "cell_type": "code",
   "execution_count": 71,
   "id": "1d945c62-6b15-4667-8c20-ed08fdda3a4b",
   "metadata": {
    "tags": []
   },
   "outputs": [],
   "source": [
    "# Separar variáveis\n",
    "\n",
    "variavel_resposta = df_dict.query('resposta == True').variavel.to_list()\n",
    "variaveis_interesse = df_dict.query('resposta == False').variavel.to_list()\n",
    "\n",
    "df_X = df[variaveis_interesse]\n",
    "df_y = df[variavel_resposta]\n",
    "\n",
    "nominal_features = df_dict.query('subtipo == \"nominal\" and resposta == False').variavel.to_list()\n",
    "continuos_features = df_dict.query('subtipo == \"continua\" and resposta == False').variavel.to_list()"
   ]
  },
  {
   "cell_type": "code",
   "execution_count": 72,
   "id": "f24638e5-e4bf-4125-a261-fcb584c66a7c",
   "metadata": {
    "tags": []
   },
   "outputs": [],
   "source": [
    "# Tratamento de dados discrepantes"
   ]
  },
  {
   "cell_type": "code",
   "execution_count": 77,
   "id": "0e29ee9b-b8a8-416c-8f61-2d675e013aca",
   "metadata": {
    "tags": []
   },
   "outputs": [],
   "source": [
    "nominal_preprocessor = Pipeline(steps=[\n",
    "    ('imputer', SimpleImputer(strategy='most_frequent')), # tratamento de dados faltantes\n",
    "    ('encoding', OneHotEncoder(sparse_output=False)), # codificação de variáveis\n",
    "    ('normalization', StandardScaler()), # normalização de variáveis\n",
    "])\n",
    "\n",
    "continuos_preprocessor = Pipeline(steps=[\n",
    "    ('imputer', SimpleImputer(strategy='median')), # tratamento de dados faltantes\n",
    "    ('normalization', StandardScaler()), # normalização de variáveis\n",
    "])\n",
    "\n",
    "transformer = ColumnTransformer(transformers=[\n",
    "    ('nominal', nominal_preprocessor, nominal_features),\n",
    "    ('continuos', continuos_preprocessor, continuos_features),\n",
    "])"
   ]
  },
  {
   "cell_type": "code",
   "execution_count": 76,
   "id": "b589052c-dfe3-4d5d-986e-58cc9bd88798",
   "metadata": {
    "tags": []
   },
   "outputs": [
    {
     "data": {
      "text/plain": [
       "array([[-0.97700842, -0.75075719,  2.36968028, ...,  0.78728939,\n",
       "        -1.4205409 , -0.56462526],\n",
       "       [-0.97700842, -0.75075719,  2.36968028, ...,  0.12611415,\n",
       "        -1.06348546, -0.50201047],\n",
       "       [-0.97700842, -0.75075719,  2.36968028, ...,  0.43127195,\n",
       "        -0.42078568, -1.1907732 ],\n",
       "       ...,\n",
       "       [ 1.02353263, -0.75075719, -0.42199786, ..., -0.73849962,\n",
       "         1.50731367,  1.93996648],\n",
       "       [ 1.02353263, -0.75075719, -0.42199786, ..., -1.19623632,\n",
       "         0.7932028 ,  1.25120375],\n",
       "       [ 1.02353263, -0.75075719, -0.42199786, ..., -0.53506109,\n",
       "         0.86461389,  1.50166293]])"
      ]
     },
     "execution_count": 76,
     "metadata": {},
     "output_type": "execute_result"
    }
   ],
   "source": [
    "transformer.fit_transform(df_X)"
   ]
  },
  {
   "cell_type": "code",
   "execution_count": 85,
   "id": "650dd1f4-3e76-4da4-87b6-b2bdf3351c90",
   "metadata": {
    "tags": []
   },
   "outputs": [
    {
     "ename": "AttributeError",
     "evalue": "'ColumnTransformer' object has no attribute 'transformers_'",
     "output_type": "error",
     "traceback": [
      "\u001b[0;31m---------------------------------------------------------------------------\u001b[0m",
      "\u001b[0;31mAttributeError\u001b[0m                            Traceback (most recent call last)",
      "Cell \u001b[0;32mIn[85], line 1\u001b[0m\n\u001b[0;32m----> 1\u001b[0m \u001b[43mtransformer\u001b[49m\u001b[38;5;241;43m.\u001b[39;49m\u001b[43mnamed_transformers_\u001b[49m\n",
      "File \u001b[0;32m~/Workspace/atlantico/avanti-bootcamp/.venv/lib/python3.10/site-packages/sklearn/compose/_column_transformer.py:473\u001b[0m, in \u001b[0;36mColumnTransformer.named_transformers_\u001b[0;34m(self)\u001b[0m\n\u001b[1;32m    466\u001b[0m \u001b[38;5;250m\u001b[39m\u001b[38;5;124;03m\"\"\"Access the fitted transformer by name.\u001b[39;00m\n\u001b[1;32m    467\u001b[0m \n\u001b[1;32m    468\u001b[0m \u001b[38;5;124;03mRead-only attribute to access any transformer by given name.\u001b[39;00m\n\u001b[1;32m    469\u001b[0m \u001b[38;5;124;03mKeys are transformer names and values are the fitted transformer\u001b[39;00m\n\u001b[1;32m    470\u001b[0m \u001b[38;5;124;03mobjects.\u001b[39;00m\n\u001b[1;32m    471\u001b[0m \u001b[38;5;124;03m\"\"\"\u001b[39;00m\n\u001b[1;32m    472\u001b[0m \u001b[38;5;66;03m# Use Bunch object to improve autocomplete\u001b[39;00m\n\u001b[0;32m--> 473\u001b[0m \u001b[38;5;28;01mreturn\u001b[39;00m Bunch(\u001b[38;5;241m*\u001b[39m\u001b[38;5;241m*\u001b[39m{name: trans \u001b[38;5;28;01mfor\u001b[39;00m name, trans, _ \u001b[38;5;129;01min\u001b[39;00m \u001b[38;5;28;43mself\u001b[39;49m\u001b[38;5;241;43m.\u001b[39;49m\u001b[43mtransformers_\u001b[49m})\n",
      "\u001b[0;31mAttributeError\u001b[0m: 'ColumnTransformer' object has no attribute 'transformers_'"
     ]
    }
   ],
   "source": [
    "transformer."
   ]
  },
  {
   "cell_type": "code",
   "execution_count": null,
   "id": "f72d9117-6f50-4147-8c6f-b5eca117102f",
   "metadata": {},
   "outputs": [],
   "source": []
  }
 ],
 "metadata": {
  "kernelspec": {
   "display_name": "Python 3 (ipykernel)",
   "language": "python",
   "name": "python3"
  },
  "language_info": {
   "codemirror_mode": {
    "name": "ipython",
    "version": 3
   },
   "file_extension": ".py",
   "mimetype": "text/x-python",
   "name": "python",
   "nbconvert_exporter": "python",
   "pygments_lexer": "ipython3",
   "version": "3.10.10"
  }
 },
 "nbformat": 4,
 "nbformat_minor": 5
}
