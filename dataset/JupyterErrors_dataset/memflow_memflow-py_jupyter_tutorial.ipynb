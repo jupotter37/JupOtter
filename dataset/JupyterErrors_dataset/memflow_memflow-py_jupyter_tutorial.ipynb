{
 "cells": [
  {
   "attachments": {},
   "cell_type": "markdown",
   "id": "3cc861d1",
   "metadata": {},
   "source": [
    "First we will be setting up all imports and set up basic logging:"
   ]
  },
  {
   "cell_type": "code",
   "execution_count": null,
   "id": "a38e057e-eecf-445d-9d18-bb8888625de1",
   "metadata": {},
   "outputs": [],
   "source": [
    "from memflow import *\n",
    "import logging\n",
    "\n",
    "FORMAT = \"%(levelname)s %(name)s %(asctime)-15s %(filename)s:%(lineno)d %(message)s\"\n",
    "logging.basicConfig(format=FORMAT)\n",
    "logging.getLogger().setLevel(logging.INFO)"
   ]
  },
  {
   "attachments": {},
   "cell_type": "markdown",
   "id": "3ad5b916",
   "metadata": {},
   "source": [
    "The first step towards memflow is then creating an Inventory. The Inventory contains a list of all connectors found on the System:"
   ]
  },
  {
   "cell_type": "code",
   "execution_count": null,
   "id": "454c4dcc",
   "metadata": {},
   "outputs": [],
   "source": [
    "inventory = Inventory()"
   ]
  },
  {
   "attachments": {},
   "cell_type": "markdown",
   "id": "bf27f6ba",
   "metadata": {},
   "source": [
    "The next step is creating an actual connector. Memflow connectors are used to acquire physical memory of a device. Examples of connectors are: kvm, qemu, pcileech, coredump, ...\n",
    "\n",
    "The arguments are provided as triplet, they use the following form:\n",
    "\n",
    "```\n",
    "{connector}:{target}:{arg1},{arg2},{arg3}\n",
    "```\n",
    "\n",
    "Where `target` is the name of the target (in case the connector supports multiple targets).\n",
    "Where `arg1`, `arg2` and `arg3` use a `key=value` format like `device=FPGA`\n",
    "\n",
    "Here we are loading the `kvm` connector and letting it connect to a virtual machine with the name `win11` as the target."
   ]
  },
  {
   "cell_type": "code",
   "execution_count": null,
   "id": "b7b091f3",
   "metadata": {},
   "outputs": [],
   "source": [
    "connector = inventory.create_connector(name=\"kvm\", args=\":win11:\")"
   ]
  },
  {
   "attachments": {},
   "cell_type": "markdown",
   "id": "bb246aa8",
   "metadata": {},
   "source": [
    "Without the `target` argument the kvm connector will just pick the first virtual machine it finds. It is also possible on some connectors to retrieve a list of all available targets (whereas the resulting `name` is the name of the target):"
   ]
  },
  {
   "cell_type": "code",
   "execution_count": null,
   "id": "760b6687",
   "metadata": {},
   "outputs": [],
   "source": [
    "inventory.connector_target_list(\"qemu\")"
   ]
  },
  {
   "attachments": {},
   "cell_type": "markdown",
   "id": "150e13f0",
   "metadata": {},
   "source": [
    "It is also possible to retrieve a Help-Text for Plugins, this is especially useful when writing CLI applications:"
   ]
  },
  {
   "cell_type": "code",
   "execution_count": 19,
   "id": "7c2d9f98",
   "metadata": {},
   "outputs": [
    {
     "data": {
      "text/plain": [
       "'The `qemu` connector implements a memflow plugin interface\\nfor QEMU on top of the Process Filesystem on Linux.\\n\\nThis connector requires access to the qemu process via the linux procfs.\\nThis means any process which loads this connector requires\\nto have at least ptrace permissions set.\\n\\nThe `target` argument specifies the target qemu virtual machine.\\nThe qemu virtual machine name can be specified when starting qemu with the -name flag.\\n\\nAvailable arguments are:\\nmap_base: override of VM memory base\\nmap_size: override of VM memory size'"
      ]
     },
     "execution_count": 19,
     "metadata": {},
     "output_type": "execute_result"
    }
   ],
   "source": [
    "inventory.connector_help(\"qemu\")"
   ]
  },
  {
   "cell_type": "code",
   "execution_count": 20,
   "id": "e7f09308",
   "metadata": {},
   "outputs": [
    {
     "name": "stderr",
     "output_type": "stream",
     "text": [
      "ERROR memflow.error 2022-12-18 21:00:09,824 error.rs:31 connector: not supported (Os-Plugin `win32` does not support help text.)\n"
     ]
    },
    {
     "ename": "Exception",
     "evalue": "connector: not supported",
     "output_type": "error",
     "traceback": [
      "\u001b[0;31m---------------------------------------------------------------------------\u001b[0m",
      "\u001b[0;31mException\u001b[0m                                 Traceback (most recent call last)",
      "Cell \u001b[0;32mIn[20], line 1\u001b[0m\n\u001b[0;32m----> 1\u001b[0m inventory\u001b[39m.\u001b[39;49mos_help(\u001b[39m\"\u001b[39;49m\u001b[39mwin32\u001b[39;49m\u001b[39m\"\u001b[39;49m)\n",
      "\u001b[0;31mException\u001b[0m: connector: not supported"
     ]
    }
   ],
   "source": [
    "inventory.os_help(\"win32\")"
   ]
  },
  {
   "attachments": {},
   "cell_type": "markdown",
   "id": "2c510e26",
   "metadata": {},
   "source": [
    "The previously created connector can now be utilized to initialize an Os. In the given example we try to find Windows running in memory in the KVM Virtual Machine."
   ]
  },
  {
   "cell_type": "code",
   "execution_count": null,
   "id": "397ab78a-3faa-428a-93b8-d4b152bcbee2",
   "metadata": {},
   "outputs": [],
   "source": [
    "os = inventory.create_os(name=\"win32\", input=connector)"
   ]
  },
  {
   "attachments": {},
   "cell_type": "markdown",
   "id": "eeda98ad",
   "metadata": {},
   "source": [
    "You can now access drivers and processes on the target. In the windows (and memflow) world drivers are just modules of the root process (in the case of Windows all drivers are modules of the ntoskrnl.exe kernel process). The following example shows how to list all running drivers:"
   ]
  },
  {
   "cell_type": "code",
   "execution_count": null,
   "id": "27987be4",
   "metadata": {},
   "outputs": [],
   "source": [
    "drivers = os.module_info_list()\n",
    "print(drivers)"
   ]
  },
  {
   "cell_type": "code",
   "execution_count": null,
   "id": "88aa478d-d24c-46d0-b419-3310663834fd",
   "metadata": {},
   "outputs": [],
   "source": [
    "kernel = os # TODO:"
   ]
  },
  {
   "attachments": {},
   "cell_type": "markdown",
   "id": "3a2fc7e9",
   "metadata": {},
   "source": [
    "To access the memory of a driver or process you have to open the corresponding process:"
   ]
  },
  {
   "cell_type": "code",
   "execution_count": null,
   "id": "0dc364fa",
   "metadata": {},
   "outputs": [],
   "source": [
    "process = os.process_from_name(\"explorer.exe\")"
   ]
  },
  {
   "attachments": {},
   "cell_type": "markdown",
   "id": "d0ef57bf",
   "metadata": {},
   "source": [
    "A Process also features the same functions for retrieving modules:"
   ]
  },
  {
   "cell_type": "code",
   "execution_count": null,
   "id": "686addaa-ea2e-4291-94b7-832b99b1e344",
   "metadata": {},
   "outputs": [],
   "source": [
    "modules = process.module_info_list()\n",
    "print(modules)"
   ]
  },
  {
   "attachments": {},
   "cell_type": "markdown",
   "id": "9194330f",
   "metadata": {},
   "source": [
    "It is also possible to get a module by it's name:"
   ]
  },
  {
   "cell_type": "code",
   "execution_count": null,
   "id": "37fe5bdc-6d6f-42e5-bf21-a88f11971eaf",
   "metadata": {},
   "outputs": [],
   "source": [
    "module = process.module_from_name(\"Explorer.EXE\")"
   ]
  },
  {
   "attachments": {},
   "cell_type": "markdown",
   "id": "b612a8d1",
   "metadata": {},
   "source": [
    "Finally we are able to read Data from the process/module. In the following example we read parts of the COFF Header from the PE Header of the primary module:"
   ]
  },
  {
   "cell_type": "code",
   "execution_count": null,
   "id": "b67080f8-d20b-4b77-963b-0f4ee274ede2",
   "metadata": {},
   "outputs": [],
   "source": [
    "# Define COFF Header struct and read it from the module:\n",
    "class COFFHeader(Structure):\n",
    "    _fields_ = [\n",
    "        (\"_pad0x0\", c_uint8 * 6),\n",
    "        (\"sections\", c_uint16),\n",
    "        (\"timestamp\", c_uint32),\n",
    "    ]\n",
    "\n",
    "header = process.read(module.base + 0x40, COFFHeader)\n",
    "print(header)"
   ]
  }
 ],
 "metadata": {
  "kernelspec": {
   "display_name": "Python 3 (ipykernel)",
   "language": "python",
   "name": "python3"
  },
  "language_info": {
   "codemirror_mode": {
    "name": "ipython",
    "version": 3
   },
   "file_extension": ".py",
   "mimetype": "text/x-python",
   "name": "python",
   "nbconvert_exporter": "python",
   "pygments_lexer": "ipython3",
   "version": "3.10.8"
  },
  "vscode": {
   "interpreter": {
    "hash": "767d51c1340bd893661ea55ea3124f6de3c7a262a8b4abca0554b478b1e2ff90"
   }
  }
 },
 "nbformat": 4,
 "nbformat_minor": 5
}
