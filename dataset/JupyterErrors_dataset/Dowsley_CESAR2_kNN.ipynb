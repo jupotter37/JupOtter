{
 "cells": [
  {
   "cell_type": "code",
   "execution_count": 1,
   "id": "supposed-rebel",
   "metadata": {},
   "outputs": [
    {
     "ename": "ModuleNotFoundError",
     "evalue": "No module named 'pandas'",
     "output_type": "error",
     "traceback": [
      "\u001b[0;31m---------------------------------------------------------------------------\u001b[0m",
      "\u001b[0;31mModuleNotFoundError\u001b[0m                       Traceback (most recent call last)",
      "\u001b[0;32m<ipython-input-1-08c8ce94f031>\u001b[0m in \u001b[0;36m<module>\u001b[0;34m\u001b[0m\n\u001b[1;32m      1\u001b[0m \u001b[0;32mimport\u001b[0m \u001b[0mnumpy\u001b[0m \u001b[0;32mas\u001b[0m \u001b[0mnp\u001b[0m\u001b[0;34m\u001b[0m\u001b[0;34m\u001b[0m\u001b[0m\n\u001b[0;32m----> 2\u001b[0;31m \u001b[0;32mimport\u001b[0m \u001b[0mpandas\u001b[0m \u001b[0;32mas\u001b[0m \u001b[0mpd\u001b[0m\u001b[0;34m\u001b[0m\u001b[0;34m\u001b[0m\u001b[0m\n\u001b[0m\u001b[1;32m      3\u001b[0m \u001b[0;32mfrom\u001b[0m \u001b[0mmatplotlib\u001b[0m \u001b[0;32mimport\u001b[0m \u001b[0mpyplot\u001b[0m \u001b[0;32mas\u001b[0m \u001b[0mplt\u001b[0m\u001b[0;34m\u001b[0m\u001b[0;34m\u001b[0m\u001b[0m\n\u001b[1;32m      4\u001b[0m \u001b[0;32mimport\u001b[0m \u001b[0mseaborn\u001b[0m \u001b[0;32mas\u001b[0m \u001b[0msns\u001b[0m\u001b[0;34m\u001b[0m\u001b[0;34m\u001b[0m\u001b[0m\n\u001b[1;32m      5\u001b[0m \u001b[0;32mfrom\u001b[0m \u001b[0mpandas\u001b[0m\u001b[0;34m.\u001b[0m\u001b[0mplotting\u001b[0m \u001b[0;32mimport\u001b[0m \u001b[0mscatter_matrix\u001b[0m\u001b[0;34m\u001b[0m\u001b[0;34m\u001b[0m\u001b[0m\n",
      "\u001b[0;31mModuleNotFoundError\u001b[0m: No module named 'pandas'"
     ]
    }
   ],
   "source": [
    "import numpy as np\n",
    "import pandas as pd\n",
    "from matplotlib import pyplot as plt\n",
    "import seaborn as sns\n",
    "from pandas.plotting import scatter_matrix\n",
    "from sklearn.preprocessing import StandardScaler\n",
    "from sklearn.model_selection import train_test_split\n",
    "import math\n",
    "\n",
    "\"\"\"ACTIVITY 1\"\"\"\n",
    "\n",
    "# --- Load data ---\n",
    "df = pd.read_csv('train.csv')\n",
    "\n",
    "# --- LINTING 1 --- Drop unecessary data\n",
    "df.drop('Name', 1, inplace=True)\n",
    "df.drop('Cabin', 1, inplace=True)\n",
    "df.drop('PassengerId', 1, inplace=True)\n",
    "\n",
    "# --- LINTING 2 --- Replace nullish Age values\n",
    "df['Age'].interpolate(inplace=True)\n",
    "\n",
    "# --- LINTING 3 --- Drop leftovers wih null\n",
    "df.dropna(inplace=True)\n",
    "\n",
    "# --- LINTING 4 --- Replace literals with numeric values\n",
    "df['Sex'], unique_sex_keys = pd.factorize(df['Sex'])\n",
    "df['Ticket'], unique_ticket_keys = pd.factorize(df['Ticket'])\n",
    "#df['Embarked'], unique_embarked_keys = pd.factorize(df['Embarked'])\n",
    "df = pd.get_dummies(df, columns=['Embarked'])\n",
    "\n",
    "\n",
    "# --- LINTING 5 --- Normalize values\n",
    "df.loc[:, ~df.columns.isin(['Survived', 'Embarked'])] = StandardScaler().fit_transform(\n",
    "    df.loc[:, ~df.columns.isin(['Survived', 'Embarked'])]\n",
    ")\n",
    "\n",
    "# --- Head visualization ---\n",
    "df.head()\n",
    "df.describe()\n",
    "df.info()\n"
   ]
  },
  {
   "cell_type": "code",
   "execution_count": 3,
   "id": "divided-chester",
   "metadata": {},
   "outputs": [],
   "source": [
    "\"\"\" ACTIVITY 2\"\"\"\n",
    "def get_euclidian_distance(X_train_row, X_test_row):\n",
    "    for i, val in enumerate(X_test_row):\n",
    "        X_train_row[i] = (X_test_row[i] - X_train_row[i]) ** 2\n",
    "    return X_train_row\n",
    "\n",
    "class MyKNeighborsClassifier():\n",
    "    def __init__(self, k=5):\n",
    "        self.k = k\n",
    "    \n",
    "    def fit(self, X_train, y_train):\n",
    "        self.X_train = X_train.copy()\n",
    "        self.y_train = y_train.copy()\n",
    "    \n",
    "    def predict(self, X_test):\n",
    "        prediction = pd.DataFrame(index=X_test.index.copy())\n",
    "        prediction['Survived'] = [None] * len(prediction)\n",
    "        \n",
    "        for i, X_test_row in X_test.iterrows():\n",
    "            # Calculate euclidian\n",
    "            X_train_copy = X_train.copy()\n",
    "            y_train_copy = y_train.copy()\n",
    "            \n",
    "            X_train_copy.apply(\n",
    "                lambda X_train_row: get_euclidian_distance(X_train_row, X_test_row),\n",
    "                axis=1\n",
    "            )\n",
    "            y_train_copy['Distance'] = (\n",
    "                 X_train_copy['Pclass']   \n",
    "                 #+ X_train_copy['Sex']   \n",
    "                 + X_train_copy['Age']  \n",
    "                 + X_train_copy['SibSp'] \n",
    "                 + X_train_copy['Parch']\n",
    "                 + X_train_copy['Ticket']\n",
    "                 + X_train_copy['Fare']\n",
    "                 + X_train_copy['Embarked_C']\n",
    "                 + X_train_copy['Embarked_Q']\n",
    "                 + X_train_copy['Embarked_S']\n",
    "            ).apply(math.sqrt)\n",
    "            \n",
    "            # Predict\n",
    "            aux = y_train_copy.nsmallest(\n",
    "                self.k,\n",
    "                ['Distance'],\n",
    "                keep='first'\n",
    "            )\n",
    "            prediction['Survived'][i] = aux['Survived'].value_counts()[:1].index.tolist()[0]\n",
    "        return prediction\n",
    "            \n",
    "                    \n",
    "\n",
    "# Split dataset\n",
    "X = df.iloc[:, 1:11] # Training data\n",
    "y = pd.DataFrame(df.iloc[:, 0]) # Answer\n",
    "\n",
    "X_train, X_test, y_train, y_test = train_test_split(X, y, test_size=0.2)\n",
    "my_classifier = MyKNeighborsClassifier()\n",
    "my_classifier.fit(X_train, y_train)\n",
    "y_pred = my_classifier.predict(X_test)\n",
    "\n",
    "# Proximo bloco verifica o resultado!!!!"
   ]
  },
  {
   "cell_type": "code",
   "execution_count": 152,
   "id": "regulated-familiar",
   "metadata": {},
   "outputs": [
    {
     "name": "stdout",
     "output_type": "stream",
     "text": [
      "77.52808988764045\n"
     ]
    }
   ],
   "source": [
    "\"\"\" ACTIVITY 2: Comparation \"\"\"\n",
    "y_pred_copy = y_pred.copy() \n",
    "y_test_copy = y_test.copy() \n",
    "\n",
    "\n",
    "y_pred_copy['Survived'] = pd.to_numeric(y_pred_copy['Survived'], downcast=\"float\")\n",
    "y_test_copy['Survived'] = pd.to_numeric(y_test_copy['Survived'], downcast=\"float\")\n",
    "\n",
    "wrong = len(y_pred_copy['Survived'].compare(y_test_copy['Survived']))\n",
    "total = len(y_test)\n",
    "\n",
    "success = (total - wrong) / total\n",
    "print(success * 100)\n"
   ]
  },
  {
   "cell_type": "code",
   "execution_count": null,
   "id": "opening-toddler",
   "metadata": {},
   "outputs": [],
   "source": []
  }
 ],
 "metadata": {
  "kernelspec": {
   "display_name": "Python 3",
   "language": "python",
   "name": "python3"
  },
  "language_info": {
   "codemirror_mode": {
    "name": "ipython",
    "version": 3
   },
   "file_extension": ".py",
   "mimetype": "text/x-python",
   "name": "python",
   "nbconvert_exporter": "python",
   "pygments_lexer": "ipython3",
   "version": "3.9.2"
  }
 },
 "nbformat": 4,
 "nbformat_minor": 5
}
