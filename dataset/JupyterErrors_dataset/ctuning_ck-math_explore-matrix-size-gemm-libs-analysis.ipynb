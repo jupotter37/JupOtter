{
 "cells": [
  {
   "cell_type": "markdown",
   "metadata": {},
   "source": [
    "# [PUBLIC] CLBlast vs ARM Compute Library on representative matrix sizes"
   ]
  },
  {
   "cell_type": "markdown",
   "metadata": {},
   "source": [
    "## Overview\n",
    "1. [Data](#data) [for developers]\n",
    "1. [Code](#data) [for developers]\n",
    "1. [Table](#table)\n",
    "1. [Plot](#plot)"
   ]
  },
  {
   "cell_type": "markdown",
   "metadata": {},
   "source": [
    "<a id=\"data\"></a>\n",
    "## Get the experimental data"
   ]
  },
  {
   "cell_type": "code",
   "execution_count": 204,
   "metadata": {
    "collapsed": true
   },
   "outputs": [],
   "source": [
    "repo_uoa = 'explore-matrix-size-gemm-libs-dvdt-prof-firefly-rk3399-001'"
   ]
  },
  {
   "cell_type": "markdown",
   "metadata": {},
   "source": [
    "**NB:** Please ignore this section if you are not interested in re-running or modifying this notebook. "
   ]
  },
  {
   "cell_type": "markdown",
   "metadata": {},
   "source": [
    "The experimental data was collected on the experimental platform and archived as follows:\n",
    "```\n",
    "$ cd `ck find ck-math:script:<...>`\n",
    "$ python <...>.py\n",
    "$ ck zip local:experiment:* --archive_name=<...>.zip\n",
    "```\n",
    "\n",
    "It can be downloaded and extracted as follows:\n",
    "```\n",
    "$ wget <...>.zip\n",
    "$ ck add repo:<repo_uoa> --zip=<....>.zip --quiet\n",
    "```"
   ]
  },
  {
   "cell_type": "markdown",
   "metadata": {},
   "source": [
    "<a id=\"code\"></a>\n",
    "## Data wrangling code"
   ]
  },
  {
   "cell_type": "markdown",
   "metadata": {},
   "source": [
    "**NB:** Please ignore this section if you are not interested in re-running or modifying this notebook."
   ]
  },
  {
   "cell_type": "markdown",
   "metadata": {},
   "source": [
    "### Includes"
   ]
  },
  {
   "cell_type": "markdown",
   "metadata": {},
   "source": [
    "#### Standard"
   ]
  },
  {
   "cell_type": "code",
   "execution_count": 205,
   "metadata": {
    "collapsed": true
   },
   "outputs": [],
   "source": [
    "import os\n",
    "import sys\n",
    "import json\n",
    "import re"
   ]
  },
  {
   "cell_type": "markdown",
   "metadata": {},
   "source": [
    "#### Scientific"
   ]
  },
  {
   "cell_type": "markdown",
   "metadata": {},
   "source": [
    "If some of the scientific packages are missing, please install them using:\n",
    "```\n",
    "# pip install jupyter pandas numpy matplotlib\n",
    "```"
   ]
  },
  {
   "cell_type": "code",
   "execution_count": 206,
   "metadata": {},
   "outputs": [],
   "source": [
    "import IPython as ip\n",
    "import pandas as pd\n",
    "import numpy as np\n",
    "import seaborn as sns\n",
    "import matplotlib as mp"
   ]
  },
  {
   "cell_type": "code",
   "execution_count": 207,
   "metadata": {},
   "outputs": [
    {
     "name": "stdout",
     "output_type": "stream",
     "text": [
      "IPython version: 5.3.0\n",
      "Pandas version: 0.20.1\n",
      "NumPy version: 1.12.1\n",
      "Seaborn version: 0.7.1\n",
      "Matplotlib version: 2.0.1\n"
     ]
    }
   ],
   "source": [
    "print ('IPython version: %s' % ip.__version__)\n",
    "print ('Pandas version: %s' % pd.__version__)\n",
    "print ('NumPy version: %s' % np.__version__)\n",
    "print ('Seaborn version: %s' % sns.__version__) # apt install python-tk\n",
    "print ('Matplotlib version: %s' % mp.__version__)"
   ]
  },
  {
   "cell_type": "code",
   "execution_count": 208,
   "metadata": {},
   "outputs": [],
   "source": [
    "import matplotlib.pyplot as plt\n",
    "from matplotlib import cm\n",
    "%matplotlib inline"
   ]
  },
  {
   "cell_type": "code",
   "execution_count": 209,
   "metadata": {
    "collapsed": true
   },
   "outputs": [],
   "source": [
    "from IPython.display import Image, display\n",
    "def display_in_full(df):\n",
    "    pd.options.display.max_columns = len(df.columns)\n",
    "    pd.options.display.max_rows = len(df.index)\n",
    "    display(df)"
   ]
  },
  {
   "cell_type": "markdown",
   "metadata": {},
   "source": [
    "#### Collective Knowledge"
   ]
  },
  {
   "cell_type": "markdown",
   "metadata": {},
   "source": [
    "If CK is not installed, please install it using:\n",
    "```\n",
    "# pip install ck\n",
    "```"
   ]
  },
  {
   "cell_type": "code",
   "execution_count": 210,
   "metadata": {},
   "outputs": [
    {
     "name": "stdout",
     "output_type": "stream",
     "text": [
      "CK version: 1.9.1\n"
     ]
    }
   ],
   "source": [
    "import ck.kernel as ck\n",
    "print ('CK version: %s' % ck.__version__)"
   ]
  },
  {
   "cell_type": "markdown",
   "metadata": {},
   "source": [
    "### Define helper functions"
   ]
  },
  {
   "cell_type": "code",
   "execution_count": 211,
   "metadata": {},
   "outputs": [],
   "source": [
    "# client: 'acl-sgemm-opencl-example' or 'clblast-tune'\n",
    "def get_mnk(characteristics, client):\n",
    "    # dim: 'm', 'n', 'k'\n",
    "    def get_dim_int(characteristics, client, dim):\n",
    "        if client == 'clblast-tune':\n",
    "            dim_str = characteristics['run'][dim][0]\n",
    "            dim_int = np.int64(dim_str)\n",
    "        else:\n",
    "            dim_str = characteristics['run'][dim]\n",
    "            dim_int = np.int64(dim_str)\n",
    "        return dim_int\n",
    "\n",
    "    m = get_dim_int(characteristics, client, 'm')\n",
    "    n = get_dim_int(characteristics, client, 'n')\n",
    "    k = get_dim_int(characteristics, client, 'k')\n",
    "\n",
    "    return ('(%d, %d, %d)' % (m, n, k))"
   ]
  },
  {
   "cell_type": "code",
   "execution_count": 212,
   "metadata": {
    "collapsed": true
   },
   "outputs": [],
   "source": [
    "def get_GFLOPS(characteristics, client):\n",
    "    if client == 'acl-sgemm-opencl-example':\n",
    "        GFLOPS_str = characteristics['run']['GFLOPS_1']\n",
    "    else:\n",
    "        GFLOPS_str = characteristics['run']['GFLOPS_1'][0]\n",
    "    GFLOPS = np.float(GFLOPS_str)\n",
    "    return GFLOPS"
   ]
  },
  {
   "cell_type": "code",
   "execution_count": 213,
   "metadata": {},
   "outputs": [],
   "source": [
    "def get_TimeMS(characteristics,client):\n",
    " \n",
    "    time_execution =characteristics['run'].get('ms_1')\n",
    "    return time_execution\n",
    "    \n",
    "    print profiling\n",
    "    start = datetime.strptime(profiling['timestamp']['start'], '%Y-%m-%dT%H:%M:%S.%f')\n",
    "    end = datetime.strptime(profiling['timestamp']['end'], '%Y-%m-%dT%H:%M:%S.%f')\n",
    "\n",
    "    print (start.timestamp() * 1000)\n",
    "    print (end.timestamp() * 1000)\n",
    "    elapsed = (end.timestamp() * 1000) - (start.timestamp() * 1000)\n",
    "    return elapsed"
   ]
  },
  {
   "cell_type": "markdown",
   "metadata": {},
   "source": [
    "### Plot experimental data"
   ]
  },
  {
   "cell_type": "code",
   "execution_count": 214,
   "metadata": {
    "collapsed": true
   },
   "outputs": [],
   "source": [
    "default_colormap = cm.autumn\n",
    "default_figsize = [20, 12]\n",
    "default_dpi = 200\n",
    "default_fontsize = 20\n",
    "default_legend_fontsize = 'medium'\n",
    "\n",
    "if mp.__version__[0]=='2': mp.style.use('classic')\n",
    "mp.rcParams['figure.figsize'] = default_figsize\n",
    "mp.rcParams['figure.dpi'] = default_dpi\n",
    "mp.rcParams['font.size'] = default_fontsize\n",
    "mp.rcParams['legend.fontsize'] = default_legend_fontsize"
   ]
  },
  {
   "cell_type": "code",
   "execution_count": 215,
   "metadata": {
    "collapsed": true
   },
   "outputs": [],
   "source": [
    "def plot(df_mean, df_std, rot=90, patch_fontsize=default_fontsize):\n",
    "    ax = df_mean.plot(yerr=df_std,\n",
    "        kind='bar', ylim=[0, 20], rot=rot, width=0.9, grid=True, legend=True,\n",
    "        figsize=default_figsize, colormap=default_colormap, fontsize=default_fontsize)\n",
    "    ax.set_title('ARM Compute Library vs CLBlast (dv/dt)', fontsize=default_fontsize)\n",
    "    ax.set_ylabel('SGEMM GFLOPS', fontsize=default_fontsize)\n",
    "    ax.legend(loc='upper right')\n",
    "    for patch in ax.patches:\n",
    "        text = '{0:2.1f}'.format(patch.get_height())\n",
    "        ax.annotate(text, (patch.get_x()*1.00, patch.get_height()*1.01), fontsize=patch_fontsize)"
   ]
  },
  {
   "cell_type": "markdown",
   "metadata": {},
   "source": [
    "### Access experimental data"
   ]
  },
  {
   "cell_type": "code",
   "execution_count": 233,
   "metadata": {},
   "outputs": [],
   "source": [
    "def get_experimental_results(repo_uoa='explore-matrix-size-gemm-libs-dvdt-prof-firefly-rk3399', tags='explore-matrix-size-libs-sgemm, acl-sgemm-opencl-example'):\n",
    "    module_uoa = 'experiment'\n",
    "    r = ck.access({'action':'search', 'repo_uoa':repo_uoa, 'module_uoa':module_uoa, 'tags':tags})\n",
    "    if r['return']>0:\n",
    "        print (\"Error: %s\" % r['error'])\n",
    "        exit(1)\n",
    "    experiments = r['lst']\n",
    "    \n",
    "    dfs = []\n",
    "    for experiment in experiments:\n",
    "        data_uoa = experiment['data_uoa']\n",
    "        r = ck.access({'action':'list_points', 'repo_uoa':repo_uoa, 'module_uoa':module_uoa, 'data_uoa':data_uoa})\n",
    "        if r['return']>0:\n",
    "            print (\"Error: %s\" % r['error'])\n",
    "            exit(1)\n",
    "        for point in r['points']:\n",
    "            with open(os.path.join(r['path'], 'ckp-%s.0001.json' % point)) as point_file:\n",
    "                point_data_raw = json.load(point_file)\n",
    "               \n",
    "            characteristics_list = point_data_raw['characteristics_list']\n",
    "            num_repetitions = len(characteristics_list)\n",
    "            \n",
    "            client = data_uoa[len('explore-matrix-size-gemm-libs-'):]\n",
    "            # Obtain column data.\n",
    "            data = [\n",
    "                {\n",
    "                    'client': client,\n",
    "                    '(m, n, k)': get_mnk(characteristics, client),\n",
    "                    'GFLOPS': get_GFLOPS(characteristics, client),\n",
    "                    'dvdt_prof_info': characteristics['run'].get('dvdt_prof',[]),\n",
    "                    'time (ms)' : get_TimeMS(characteristics,client),\n",
    "                    'repetition_id': repetition_id\n",
    "                }\n",
    "                for (characteristics, repetition_id) in zip(characteristics_list, range(num_repetitions)) \n",
    "            ]\n",
    "            #Construct a DataFrame.\n",
    "            df = pd.DataFrame(data)\n",
    "            # Set columns and index names.\n",
    "            df.columns.name = 'characteristics'\n",
    "            df.index.name = 'index'\n",
    "            df = df.set_index(['client', '(m, n, k)', 'repetition_id','GFLOPS','time (ms)'])\n",
    "            # Append to the list of similarly constructed DataFrames.\n",
    "            dfs.append(df)\n",
    "    # Concatenate all constructed DataFrames (i.e. stack on top of each other).\n",
    "    result = pd.concat(dfs).unstack('client').swaplevel(axis=1)\n",
    "    return result.sort_index(level=result.index.names)"
   ]
  },
  {
   "cell_type": "markdown",
   "metadata": {},
   "source": [
    "# Print "
   ]
  },
  {
   "cell_type": "code",
   "execution_count": 234,
   "metadata": {},
   "outputs": [
    {
     "data": {
      "text/html": [
       "<div>\n",
       "<style>\n",
       "    .dataframe thead tr:only-child th {\n",
       "        text-align: right;\n",
       "    }\n",
       "\n",
       "    .dataframe thead th {\n",
       "        text-align: left;\n",
       "    }\n",
       "\n",
       "    .dataframe tbody tr th {\n",
       "        vertical-align: top;\n",
       "    }\n",
       "</style>\n",
       "<table border=\"1\" class=\"dataframe\">\n",
       "  <thead>\n",
       "    <tr>\n",
       "      <th></th>\n",
       "      <th></th>\n",
       "      <th></th>\n",
       "      <th>client</th>\n",
       "      <th>acl-sgemm-opencl-example</th>\n",
       "    </tr>\n",
       "    <tr>\n",
       "      <th></th>\n",
       "      <th></th>\n",
       "      <th></th>\n",
       "      <th>characteristics</th>\n",
       "      <th>dvdt_prof_info</th>\n",
       "    </tr>\n",
       "    <tr>\n",
       "      <th>(m, n, k)</th>\n",
       "      <th>repetition_id</th>\n",
       "      <th>GFLOPS</th>\n",
       "      <th>time (ms)</th>\n",
       "      <th></th>\n",
       "    </tr>\n",
       "  </thead>\n",
       "  <tbody>\n",
       "    <tr>\n",
       "      <th rowspan=\"3\" valign=\"top\">(128, 800, 864)</th>\n",
       "      <th>0</th>\n",
       "      <th>13.367015</th>\n",
       "      <th>13.237600</th>\n",
       "      <td>[{u'timestamp': {u'start': u'2017-06-15T16:44:...</td>\n",
       "    </tr>\n",
       "    <tr>\n",
       "      <th>1</th>\n",
       "      <th>12.887821</th>\n",
       "      <th>13.729800</th>\n",
       "      <td>[{u'timestamp': {u'start': u'2017-06-15T16:44:...</td>\n",
       "    </tr>\n",
       "    <tr>\n",
       "      <th>2</th>\n",
       "      <th>14.002311</th>\n",
       "      <th>12.637000</th>\n",
       "      <td>[{u'timestamp': {u'start': u'2017-06-15T16:44:...</td>\n",
       "    </tr>\n",
       "    <tr>\n",
       "      <th rowspan=\"3\" valign=\"top\">(192, 3136, 576)</th>\n",
       "      <th>0</th>\n",
       "      <th>21.126351</th>\n",
       "      <th>32.832600</th>\n",
       "      <td>[{u'timestamp': {u'start': u'2017-06-15T16:42:...</td>\n",
       "    </tr>\n",
       "    <tr>\n",
       "      <th>1</th>\n",
       "      <th>20.285938</th>\n",
       "      <th>34.192800</th>\n",
       "      <td>[{u'timestamp': {u'start': u'2017-06-15T16:42:...</td>\n",
       "    </tr>\n",
       "    <tr>\n",
       "      <th>2</th>\n",
       "      <th>20.581972</th>\n",
       "      <th>33.701000</th>\n",
       "      <td>[{u'timestamp': {u'start': u'2017-06-15T16:42:...</td>\n",
       "    </tr>\n",
       "    <tr>\n",
       "      <th rowspan=\"3\" valign=\"top\">(192, 800, 1152)</th>\n",
       "      <th>0</th>\n",
       "      <th>16.676613</th>\n",
       "      <th>21.221000</th>\n",
       "      <td>[{u'timestamp': {u'start': u'2017-06-15T16:42:...</td>\n",
       "    </tr>\n",
       "    <tr>\n",
       "      <th>1</th>\n",
       "      <th>16.643359</th>\n",
       "      <th>21.263400</th>\n",
       "      <td>[{u'timestamp': {u'start': u'2017-06-15T16:42:...</td>\n",
       "    </tr>\n",
       "    <tr>\n",
       "      <th>2</th>\n",
       "      <th>16.977587</th>\n",
       "      <th>20.844800</th>\n",
       "      <td>[{u'timestamp': {u'start': u'2017-06-15T16:42:...</td>\n",
       "    </tr>\n",
       "    <tr>\n",
       "      <th rowspan=\"3\" valign=\"top\">(320, 224, 1440)</th>\n",
       "      <th>0</th>\n",
       "      <th>16.672999</th>\n",
       "      <th>12.381600</th>\n",
       "      <td>[{u'timestamp': {u'start': u'2017-06-15T16:43:...</td>\n",
       "    </tr>\n",
       "    <tr>\n",
       "      <th>1</th>\n",
       "      <th>16.162851</th>\n",
       "      <th>12.772400</th>\n",
       "      <td>[{u'timestamp': {u'start': u'2017-06-15T16:43:...</td>\n",
       "    </tr>\n",
       "    <tr>\n",
       "      <th>2</th>\n",
       "      <th>14.629815</th>\n",
       "      <th>14.110800</th>\n",
       "      <td>[{u'timestamp': {u'start': u'2017-06-15T16:43:...</td>\n",
       "    </tr>\n",
       "    <tr>\n",
       "      <th rowspan=\"3\" valign=\"top\">(64, 12544, 160)</th>\n",
       "      <th>0</th>\n",
       "      <th>9.601052</th>\n",
       "      <th>26.757600</th>\n",
       "      <td>[{u'timestamp': {u'start': u'2017-06-15T16:43:...</td>\n",
       "    </tr>\n",
       "    <tr>\n",
       "      <th>1</th>\n",
       "      <th>9.495865</th>\n",
       "      <th>27.054000</th>\n",
       "      <td>[{u'timestamp': {u'start': u'2017-06-15T16:43:...</td>\n",
       "    </tr>\n",
       "    <tr>\n",
       "      <th>2</th>\n",
       "      <th>9.535340</th>\n",
       "      <th>26.942000</th>\n",
       "      <td>[{u'timestamp': {u'start': u'2017-06-15T16:43:...</td>\n",
       "    </tr>\n",
       "  </tbody>\n",
       "</table>\n",
       "</div>"
      ],
      "text/plain": [
       "client                                                                       acl-sgemm-opencl-example\n",
       "characteristics                                                                        dvdt_prof_info\n",
       "(m, n, k)        repetition_id GFLOPS    time (ms)                                                   \n",
       "(128, 800, 864)  0             13.367015 13.237600  [{u'timestamp': {u'start': u'2017-06-15T16:44:...\n",
       "                 1             12.887821 13.729800  [{u'timestamp': {u'start': u'2017-06-15T16:44:...\n",
       "                 2             14.002311 12.637000  [{u'timestamp': {u'start': u'2017-06-15T16:44:...\n",
       "(192, 3136, 576) 0             21.126351 32.832600  [{u'timestamp': {u'start': u'2017-06-15T16:42:...\n",
       "                 1             20.285938 34.192800  [{u'timestamp': {u'start': u'2017-06-15T16:42:...\n",
       "                 2             20.581972 33.701000  [{u'timestamp': {u'start': u'2017-06-15T16:42:...\n",
       "(192, 800, 1152) 0             16.676613 21.221000  [{u'timestamp': {u'start': u'2017-06-15T16:42:...\n",
       "                 1             16.643359 21.263400  [{u'timestamp': {u'start': u'2017-06-15T16:42:...\n",
       "                 2             16.977587 20.844800  [{u'timestamp': {u'start': u'2017-06-15T16:42:...\n",
       "(320, 224, 1440) 0             16.672999 12.381600  [{u'timestamp': {u'start': u'2017-06-15T16:43:...\n",
       "                 1             16.162851 12.772400  [{u'timestamp': {u'start': u'2017-06-15T16:43:...\n",
       "                 2             14.629815 14.110800  [{u'timestamp': {u'start': u'2017-06-15T16:43:...\n",
       "(64, 12544, 160) 0             9.601052  26.757600  [{u'timestamp': {u'start': u'2017-06-15T16:43:...\n",
       "                 1             9.495865  27.054000  [{u'timestamp': {u'start': u'2017-06-15T16:43:...\n",
       "                 2             9.535340  26.942000  [{u'timestamp': {u'start': u'2017-06-15T16:43:..."
      ]
     },
     "metadata": {},
     "output_type": "display_data"
    }
   ],
   "source": [
    "df = get_experimental_results(repo_uoa=repo_uoa)\n",
    "\n",
    "display_in_full(df)"
   ]
  },
  {
   "cell_type": "code",
   "execution_count": 232,
   "metadata": {},
   "outputs": [
    {
     "ename": "KeyError",
     "evalue": "'Column not found: client'",
     "output_type": "error",
     "traceback": [
      "\u001b[0;31m---------------------------------------------------------------------------\u001b[0m",
      "\u001b[0;31mKeyError\u001b[0m                                  Traceback (most recent call last)",
      "\u001b[0;32m<ipython-input-232-b71ab635af4d>\u001b[0m in \u001b[0;36m<module>\u001b[0;34m()\u001b[0m\n\u001b[0;32m----> 1\u001b[0;31m \u001b[0;32mprint\u001b[0m \u001b[0mdf\u001b[0m\u001b[0;34m.\u001b[0m\u001b[0mix\u001b[0m\u001b[0;34m[\u001b[0m\u001b[0mdf\u001b[0m\u001b[0;34m.\u001b[0m\u001b[0mgroupby\u001b[0m\u001b[0;34m(\u001b[0m\u001b[0mlevel\u001b[0m\u001b[0;34m=\u001b[0m\u001b[0mdf\u001b[0m\u001b[0;34m.\u001b[0m\u001b[0mindex\u001b[0m\u001b[0;34m.\u001b[0m\u001b[0mnames\u001b[0m\u001b[0;34m[\u001b[0m\u001b[0;34m:\u001b[0m\u001b[0;34m-\u001b[0m\u001b[0;36m1\u001b[0m\u001b[0;34m]\u001b[0m\u001b[0;34m)\u001b[0m\u001b[0;34m[\u001b[0m\u001b[0;34m'client'\u001b[0m\u001b[0;34m]\u001b[0m\u001b[0;34m]\u001b[0m\u001b[0;34m\u001b[0m\u001b[0m\n\u001b[0m\u001b[1;32m      2\u001b[0m \u001b[0;34m\u001b[0m\u001b[0m\n\u001b[1;32m      3\u001b[0m \u001b[0mdf_min\u001b[0m \u001b[0;34m=\u001b[0m \u001b[0mdf\u001b[0m     \u001b[0;34m.\u001b[0m\u001b[0mix\u001b[0m\u001b[0;34m[\u001b[0m\u001b[0mdf\u001b[0m\u001b[0;34m.\u001b[0m\u001b[0mgroupby\u001b[0m\u001b[0;34m(\u001b[0m\u001b[0mlevel\u001b[0m\u001b[0;34m=\u001b[0m\u001b[0mdf\u001b[0m\u001b[0;34m.\u001b[0m\u001b[0mindex\u001b[0m\u001b[0;34m.\u001b[0m\u001b[0mnames\u001b[0m\u001b[0;34m[\u001b[0m\u001b[0;34m:\u001b[0m\u001b[0;34m-\u001b[0m\u001b[0;36m1\u001b[0m\u001b[0;34m]\u001b[0m\u001b[0;34m)\u001b[0m\u001b[0;34m[\u001b[0m\u001b[0;34m'time (ms)'\u001b[0m\u001b[0;34m]\u001b[0m\u001b[0;34m.\u001b[0m\u001b[0midxmin\u001b[0m\u001b[0;34m(\u001b[0m\u001b[0;34m)\u001b[0m\u001b[0;34m]\u001b[0m     \u001b[0;34m.\u001b[0m\u001b[0mreset_index\u001b[0m\u001b[0;34m(\u001b[0m\u001b[0;34m'repetition_id'\u001b[0m\u001b[0;34m,\u001b[0m \u001b[0mdrop\u001b[0m\u001b[0;34m=\u001b[0m\u001b[0mTrue\u001b[0m\u001b[0;34m)\u001b[0m\u001b[0;34m\u001b[0m\u001b[0m\n\u001b[1;32m      4\u001b[0m \u001b[0mdf_min\u001b[0m\u001b[0;34m\u001b[0m\u001b[0m\n",
      "\u001b[0;32m/usr/local/lib/python2.7/dist-packages/pandas/core/base.pyc\u001b[0m in \u001b[0;36m__getitem__\u001b[0;34m(self, key)\u001b[0m\n\u001b[1;32m    352\u001b[0m         \u001b[0;32melse\u001b[0m\u001b[0;34m:\u001b[0m\u001b[0;34m\u001b[0m\u001b[0m\n\u001b[1;32m    353\u001b[0m             \u001b[0;32mif\u001b[0m \u001b[0mkey\u001b[0m \u001b[0;32mnot\u001b[0m \u001b[0;32min\u001b[0m \u001b[0mself\u001b[0m\u001b[0;34m.\u001b[0m\u001b[0mobj\u001b[0m\u001b[0;34m:\u001b[0m\u001b[0;34m\u001b[0m\u001b[0m\n\u001b[0;32m--> 354\u001b[0;31m                 \u001b[0;32mraise\u001b[0m \u001b[0mKeyError\u001b[0m\u001b[0;34m(\u001b[0m\u001b[0;34m\"Column not found: %s\"\u001b[0m \u001b[0;34m%\u001b[0m \u001b[0mkey\u001b[0m\u001b[0;34m)\u001b[0m\u001b[0;34m\u001b[0m\u001b[0m\n\u001b[0m\u001b[1;32m    355\u001b[0m             \u001b[0;32mreturn\u001b[0m \u001b[0mself\u001b[0m\u001b[0;34m.\u001b[0m\u001b[0m_gotitem\u001b[0m\u001b[0;34m(\u001b[0m\u001b[0mkey\u001b[0m\u001b[0;34m,\u001b[0m \u001b[0mndim\u001b[0m\u001b[0;34m=\u001b[0m\u001b[0;36m1\u001b[0m\u001b[0;34m)\u001b[0m\u001b[0;34m\u001b[0m\u001b[0m\n\u001b[1;32m    356\u001b[0m \u001b[0;34m\u001b[0m\u001b[0m\n",
      "\u001b[0;31mKeyError\u001b[0m: 'Column not found: client'"
     ]
    }
   ],
   "source": [
    "\n",
    "df_min = df \\\n",
    "    .ix[df.groupby(level=df.index.names[:-1])['time (ms)'].idxmin()] \\\n",
    "    .reset_index('repetition_id', drop=True)\n",
    "df_min"
   ]
  },
  {
   "cell_type": "code",
   "execution_count": null,
   "metadata": {
    "collapsed": true
   },
   "outputs": [],
   "source": [
    "batch_size = 1\n",
    "df_model_lib = df_min[['dvdt_prof_info']] \\\n",
    "    .reset_index('platform', drop=True) \\\n",
    "    .reorder_levels([ 'batch_size', 'model', 'lib']) \\\n",
    "    .loc[batch_size] \\\n",
    "    .sortlevel()\n",
    "df_model_lib"
   ]
  },
  {
   "cell_type": "code",
   "execution_count": null,
   "metadata": {
    "collapsed": true
   },
   "outputs": [],
   "source": [
    "models = df_model_lib.index.levels[0]\n",
    "libs = df_model_lib.index.levels[1]"
   ]
  },
  {
   "cell_type": "code",
   "execution_count": null,
   "metadata": {
    "collapsed": true
   },
   "outputs": [],
   "source": [
    "def concat(model, lib):\n",
    "    return '%s:%s' % (model, lib)"
   ]
  },
  {
   "cell_type": "code",
   "execution_count": null,
   "metadata": {
    "collapsed": true
   },
   "outputs": [],
   "source": [
    "def analyse_model_lib(df_model_lib, model, lib, min_pc=1.0):\n",
    "    trace = pw.index_calls(df_model_lib.loc[model].loc[lib]['dvdt_prof_info'])\n",
    "    # All kernel enqueues.\n",
    "    df_kernel_enqueues = pw.df_kernel_enqueues(pw.filter_calls(trace, ['clEnqueueNDRangeKernel']), unit='ms')\n",
    "    # Kernel enqueues that take at least 'min_pc' % of the execution time.\n",
    "    df_kernel_enqueues_cum_time_num = pw.df_kernel_enqueues_cumulative_time_num(df_kernel_enqueues, unit)\n",
    "    df_kernel_enqueues_cum_time_num.columns.name = concat(model, lib)\n",
    "    return df_kernel_enqueues_cum_time_num[df_kernel_enqueues_cum_time_num['** Execution time (%) **'] > min_pc]"
   ]
  },
  {
   "cell_type": "code",
   "execution_count": null,
   "metadata": {
    "collapsed": true
   },
   "outputs": [],
   "source": [
    "def analyse_xgemm_kernel(df_model_lib, model, lib, kernel):\n",
    "    # Get trace for lib and model.\n",
    "    trace = pw.index_calls(df_model_lib.loc[model].loc[lib]['dvdt_prof_info'])\n",
    "    # All calls to set kernel args.\n",
    "    set_args = pw.filter_calls(trace, ['clSetKernelArg']) \n",
    "    # All kernel enqueues.\n",
    "    nqs = pw.filter_calls(trace, ['clEnqueueNDRangeKernel'])\n",
    "    # Construct a DataFrame with info about kernel enqueues.\n",
    "    df = pw.df_kernel_enqueues(nqs, unit='ms').swaplevel().ix[kernel]\n",
    "    df = df[['p3 - p2 (ms)', 'gws2']]\n",
    "    # As gws2 is always 1, we can use it to count the number of enqueues.\n",
    "    df.columns = [ '** Execution time (ms) **', '** Number of enqueues **' ]\n",
    "    df.columns.name = kernel\n",
    "    # Augment the DataFrame with columns for the (M, N, K) triples.\n",
    "    df['kSizeM'] = 'M'; df['bSizeM'] = 'MM'\n",
    "    df['kSizeN'] = 'N'; df['bSizeN'] = 'NN'\n",
    "    df['kSizeK'] = 'K'; df['bSizeK'] = 'KK'\n",
    "    # Initialise buckets.\n",
    "    buckets = init_buckets()\n",
    "    # Augment the DataFrame with the actual (M, N, K) triples.\n",
    "    mnk_triples = []; mmnnkk_triples = []\n",
    "    for nq in nqs:\n",
    "        if nq['name'] == kernel:\n",
    "            prof = nq['profiling']\n",
    "            (M, N, K) = ('M', 'N', 'K'); (MM, NN, KK) = ('MM', 'NN', 'KK')\n",
    "            for set_arg in set_args:\n",
    "                if (set_arg['call_index'] > nq['call_index']): break\n",
    "                if (set_arg['kernel'] != nq['kernel']): continue\n",
    "                arg_value = pc.hex_str_as_int(set_arg['arg_value'])\n",
    "                if (set_arg['arg_index'] == 0): M = arg_value; MM = arg_value\n",
    "                if (set_arg['arg_index'] == 1): N = arg_value; NN = arg_value\n",
    "                if (set_arg['arg_index'] == 2): K = arg_value; KK = arg_value\n",
    "            mnk_triples.append((M, N, K))\n",
    "            mmnnkk_triples.append(get_nearest_bucket(buckets, (M, N, K)))\n",
    "    df[['kSizeM', 'kSizeN', 'kSizeK']] = mnk_triples\n",
    "    df[['bSizeM', 'bSizeN', 'bSizeK']] = mmnnkk_triples\n",
    "    # Calculate Gflops and GFLOPS (Gflops/s).\n",
    "    df['** Gflops **'] = 2*df['kSizeM']*df['kSizeN']*df['kSizeK']*1e-9\n",
    "    df['** GFLOPS **'] = df['** Gflops **'] / (df['** Execution time (ms) **']*1e-3)\n",
    "    return df"
   ]
  },
  {
   "cell_type": "code",
   "execution_count": null,
   "metadata": {
    "collapsed": true
   },
   "outputs": [],
   "source": [
    "model_lib_kernel_analysis = {}\n",
    "for model in models:\n",
    "    for lib in libs:\n",
    "        title = concat(model, lib)\n",
    "        print('== %s ==' % title)\n",
    "        try:\n",
    "            analysis = model_lib_analysis[title]\n",
    "        except:\n",
    "            print(' ... missing ...'); print(''); continue\n",
    "        for kernel in analysis.index:\n",
    "            if kernel.lower().find('xgemm') == -1: continue\n",
    "            analysis_xgemm = analyse_xgemm_kernel(df_model_lib, model, lib, kernel)\n",
    "            pd.options.display.max_columns = analysis_xgemm.columns.size\n",
    "            pd.options.display.max_rows = analysis_xgemm.index.size\n",
    "            display(analysis_xgemm)\n",
    "            analysis_xgemm_stats = analysis_xgemm.describe()\n",
    "            pd.options.display.max_columns = analysis_xgemm_stats.columns.size\n",
    "            pd.options.display.max_rows = analysis_xgemm_stats.index.size\n",
    "            display(analysis_xgemm_stats)\n",
    "            model_lib_kernel_analysis[concat(title, kernel)] = analysis_xgemm\n",
    "            print('')\n",
    "        print('')"
   ]
  },
  {
   "cell_type": "markdown",
   "metadata": {},
   "source": [
    "<a id=\"table\"></a>\n",
    "## Table"
   ]
  },
  {
   "cell_type": "code",
   "execution_count": null,
   "metadata": {},
   "outputs": [],
   "source": [
    "df = get_experimental_results(repo_uoa=repo_uoa)\n",
    "display_in_full(df)"
   ]
  },
  {
   "cell_type": "markdown",
   "metadata": {},
   "source": [
    "<a id=\"plot\"></a>\n",
    "## Plot"
   ]
  },
  {
   "cell_type": "code",
   "execution_count": null,
   "metadata": {},
   "outputs": [],
   "source": [
    "df_mean = df.groupby(level=df.index.names[:-1]).mean()\n",
    "df_std = df.groupby(level=df.index.names[:-1]).std()\n",
    "plot(df_mean, df_std)"
   ]
  }
 ],
 "metadata": {
  "kernelspec": {
   "display_name": "Python 2",
   "language": "python",
   "name": "python2"
  },
  "language_info": {
   "codemirror_mode": {
    "name": "ipython",
    "version": 2
   },
   "file_extension": ".py",
   "mimetype": "text/x-python",
   "name": "python",
   "nbconvert_exporter": "python",
   "pygments_lexer": "ipython2",
   "version": "2.7.12"
  }
 },
 "nbformat": 4,
 "nbformat_minor": 1
}
