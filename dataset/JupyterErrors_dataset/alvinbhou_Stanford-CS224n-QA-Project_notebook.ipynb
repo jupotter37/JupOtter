{
 "cells": [
  {
   "cell_type": "code",
   "execution_count": 1,
   "metadata": {},
   "outputs": [],
   "source": [
    "import numpy as np\n",
    "import pandas as pd\n",
    "import matplotlib.pyplot as plt\n",
    "import os\n",
    "import json\n",
    "from collections import defaultdict\n",
    "import pickle\n",
    "import torch"
   ]
  },
  {
   "cell_type": "markdown",
   "metadata": {},
   "source": [
    "## Combine model outputs for vote ensemble"
   ]
  },
  {
   "cell_type": "code",
   "execution_count": 5,
   "metadata": {
    "scrolled": false
   },
   "outputs": [
    {
     "name": "stdout",
     "output_type": "stream",
     "text": [
      "['albert-large-v2-dev', 'albert-large-v2-train', 'albert-xxlarge-v1-dev', 'albert-xxlarge-v1-train', 'bert-large-dev', 'bert-large-train', 'roberta-large-dev', 'roberta-large-dev2', 'roberta-large-train', 'roberta-large-train2']\n",
      "albert-large-v2 dev\n",
      "albert-xxlarge-v1 dev\n",
      "bert-large dev\n",
      "roberta-large dev\n",
      "roberta-large dev\n"
     ]
    }
   ],
   "source": [
    "root_dir = './save/output'\n",
    "\n",
    "dirs = [f for f in os.listdir(root_dir) ]\n",
    "dirs.sort()\n",
    "\n",
    "print(dirs)\n",
    "\n",
    "\n",
    "features_train = []\n",
    "features_dev = []\n",
    "\n",
    "all_results_train = []\n",
    "all_results_dev = []\n",
    "\n",
    "tokenizers_train = []\n",
    "tokenizers_dev = []\n",
    "\n",
    "for model_dir in dirs:\n",
    "    model_name = ''\n",
    "    tokenizer = None\n",
    "    all_results = None\n",
    "    features = None\n",
    "    \n",
    "    \n",
    "    with open(os.path.join(root_dir, model_dir, 'config.json')) as f:\n",
    "        config = json.load(f)\n",
    "        model_name = config['model_name'].replace('-dev', '').replace('-train', '').replace('-01', '')\n",
    "    if config['type'] == 'train':\n",
    "        continue\n",
    "    print(model_name, config['type'])\n",
    "    \n",
    "    \n",
    "    with open(os.path.join(root_dir, model_dir, 'features.pkl'), 'rb') as f:\n",
    "        features = pickle.load(f)\n",
    "        \n",
    "    with open(os.path.join(root_dir, model_dir, 'all_results.pkl'), 'rb') as f:\n",
    "        all_results = pickle.load(f)\n",
    "    \n",
    "            \n",
    "    with open(os.path.join(root_dir, model_dir, 'tokenizer.pkl'), 'rb') as f:\n",
    "        tokenizer = pickle.load(f)\n",
    "        \n",
    "    if config['type'] == 'train':\n",
    "        features_train.append(features)\n",
    "        all_results_train.append(all_results)\n",
    "        tokenizers_train.append(tokenizer)\n",
    "    elif config['type'] == 'dev':\n",
    "        features_dev.append(features)\n",
    "        all_results_dev.append(all_results)\n",
    "        tokenizers_dev.append(tokenizer)\n",
    "        "
   ]
  },
  {
   "cell_type": "code",
   "execution_count": 7,
   "metadata": {},
   "outputs": [],
   "source": [
    "dev_to_save = [features_dev, all_results_dev, tokenizers_dev]\n",
    "with open(os.path.join(root_dir, 'saved_data_dev.pkl'), 'wb') as f:\n",
    "    pickle.dump(dev_to_save, f)"
   ]
  },
  {
   "cell_type": "code",
   "execution_count": 3,
   "metadata": {},
   "outputs": [
    {
     "name": "stderr",
     "output_type": "stream",
     "text": [
      "/home/alvin/miniconda3/envs/squad/lib/python3.6/site-packages/tensorflow/python/framework/dtypes.py:526: FutureWarning: Passing (type, 1) or '1type' as a synonym of type is deprecated; in a future version of numpy, it will be understood as (type, (1,)) / '(1,)type'.\n",
      "  _np_qint8 = np.dtype([(\"qint8\", np.int8, 1)])\n",
      "/home/alvin/miniconda3/envs/squad/lib/python3.6/site-packages/tensorflow/python/framework/dtypes.py:527: FutureWarning: Passing (type, 1) or '1type' as a synonym of type is deprecated; in a future version of numpy, it will be understood as (type, (1,)) / '(1,)type'.\n",
      "  _np_quint8 = np.dtype([(\"quint8\", np.uint8, 1)])\n",
      "/home/alvin/miniconda3/envs/squad/lib/python3.6/site-packages/tensorflow/python/framework/dtypes.py:528: FutureWarning: Passing (type, 1) or '1type' as a synonym of type is deprecated; in a future version of numpy, it will be understood as (type, (1,)) / '(1,)type'.\n",
      "  _np_qint16 = np.dtype([(\"qint16\", np.int16, 1)])\n",
      "/home/alvin/miniconda3/envs/squad/lib/python3.6/site-packages/tensorflow/python/framework/dtypes.py:529: FutureWarning: Passing (type, 1) or '1type' as a synonym of type is deprecated; in a future version of numpy, it will be understood as (type, (1,)) / '(1,)type'.\n",
      "  _np_quint16 = np.dtype([(\"quint16\", np.uint16, 1)])\n",
      "/home/alvin/miniconda3/envs/squad/lib/python3.6/site-packages/tensorflow/python/framework/dtypes.py:530: FutureWarning: Passing (type, 1) or '1type' as a synonym of type is deprecated; in a future version of numpy, it will be understood as (type, (1,)) / '(1,)type'.\n",
      "  _np_qint32 = np.dtype([(\"qint32\", np.int32, 1)])\n",
      "/home/alvin/miniconda3/envs/squad/lib/python3.6/site-packages/tensorflow/python/framework/dtypes.py:535: FutureWarning: Passing (type, 1) or '1type' as a synonym of type is deprecated; in a future version of numpy, it will be understood as (type, (1,)) / '(1,)type'.\n",
      "  np_resource = np.dtype([(\"resource\", np.ubyte, 1)])\n"
     ]
    }
   ],
   "source": [
    "# load saved_data\n",
    "def load_saved(ensemble_dir, evaluate):\n",
    "    if evaluate:\n",
    "        with open(os.path.join(ensemble_dir, 'saved_data_dev.pkl'), 'rb') as f:\n",
    "            saved_data = pickle.load(f)\n",
    "    else:\n",
    "        with open(os.path.join(ensemble_dir, 'saved_data_train.pkl'), 'rb') as f:\n",
    "            saved_data = pickle.load(f)\n",
    "    return saved_data\n",
    "ensemble_dir = './output/saved_data_3'\n",
    "features_train, all_results_train, tokenizers_train = load_saved(ensemble_dir, False)\n",
    "features_dev, all_results_dev, tokenizers_dev = load_saved(ensemble_dir, True)"
   ]
  },
  {
   "cell_type": "code",
   "execution_count": 9,
   "metadata": {},
   "outputs": [],
   "source": [
    "# bewared of OOM issues\n",
    "# train_to_save = [features_train, all_results_train, tokenizers_train]\n",
    "with open(os.path.join(root_dir, 'saved_data_train.pkl'), 'wb') as f:\n",
    "    pickle.dump([features_train, all_results_train, tokenizers_train], f)"
   ]
  },
  {
   "cell_type": "code",
   "execution_count": null,
   "metadata": {},
   "outputs": [],
   "source": []
  },
  {
   "cell_type": "markdown",
   "metadata": {},
   "source": [
    "## Combine features for training"
   ]
  },
  {
   "cell_type": "code",
   "execution_count": 3,
   "metadata": {
    "scrolled": false
   },
   "outputs": [
    {
     "name": "stdout",
     "output_type": "stream",
     "text": [
      "['albert-xxlarge-v1-dev', 'albert-xxlarge-v1-train', 'albert-large-v2-dev', 'albert-large-v2-train']\n",
      "albert-xxlarge-v1 dev\n"
     ]
    },
    {
     "name": "stderr",
     "output_type": "stream",
     "text": [
      "/home/alvin/miniconda3/envs/squad/lib/python3.6/site-packages/tensorflow/python/framework/dtypes.py:526: FutureWarning: Passing (type, 1) or '1type' as a synonym of type is deprecated; in a future version of numpy, it will be understood as (type, (1,)) / '(1,)type'.\n",
      "  _np_qint8 = np.dtype([(\"qint8\", np.int8, 1)])\n",
      "/home/alvin/miniconda3/envs/squad/lib/python3.6/site-packages/tensorflow/python/framework/dtypes.py:527: FutureWarning: Passing (type, 1) or '1type' as a synonym of type is deprecated; in a future version of numpy, it will be understood as (type, (1,)) / '(1,)type'.\n",
      "  _np_quint8 = np.dtype([(\"quint8\", np.uint8, 1)])\n",
      "/home/alvin/miniconda3/envs/squad/lib/python3.6/site-packages/tensorflow/python/framework/dtypes.py:528: FutureWarning: Passing (type, 1) or '1type' as a synonym of type is deprecated; in a future version of numpy, it will be understood as (type, (1,)) / '(1,)type'.\n",
      "  _np_qint16 = np.dtype([(\"qint16\", np.int16, 1)])\n",
      "/home/alvin/miniconda3/envs/squad/lib/python3.6/site-packages/tensorflow/python/framework/dtypes.py:529: FutureWarning: Passing (type, 1) or '1type' as a synonym of type is deprecated; in a future version of numpy, it will be understood as (type, (1,)) / '(1,)type'.\n",
      "  _np_quint16 = np.dtype([(\"quint16\", np.uint16, 1)])\n",
      "/home/alvin/miniconda3/envs/squad/lib/python3.6/site-packages/tensorflow/python/framework/dtypes.py:530: FutureWarning: Passing (type, 1) or '1type' as a synonym of type is deprecated; in a future version of numpy, it will be understood as (type, (1,)) / '(1,)type'.\n",
      "  _np_qint32 = np.dtype([(\"qint32\", np.int32, 1)])\n",
      "/home/alvin/miniconda3/envs/squad/lib/python3.6/site-packages/tensorflow/python/framework/dtypes.py:535: FutureWarning: Passing (type, 1) or '1type' as a synonym of type is deprecated; in a future version of numpy, it will be understood as (type, (1,)) / '(1,)type'.\n",
      "  np_resource = np.dtype([(\"resource\", np.ubyte, 1)])\n"
     ]
    },
    {
     "name": "stdout",
     "output_type": "stream",
     "text": [
      "albert-xxlarge-v1 train\n",
      "albert-large-v2 dev\n",
      "albert-large-v2 train\n"
     ]
    }
   ],
   "source": [
    "root_dir = './save/output'\n",
    "\n",
    "dirs = [f for f in os.listdir(root_dir) ]\n",
    "dirs.sort()\n",
    "dirs =  [ \n",
    "         'albert-xxlarge-v1-dev', 'albert-xxlarge-v1-train', \n",
    "        'albert-large-v2-dev', 'albert-large-v2-train', \n",
    "]\n",
    "print(dirs)\n",
    "features_train = []\n",
    "features_dev = []\n",
    "\n",
    "all_results_train = []\n",
    "all_results_dev = []\n",
    "\n",
    "tokenizers_train = []\n",
    "tokenizers_dev = []\n",
    "for model_dir in dirs:\n",
    "    # test\n",
    "#     if model_dir != 'bert-base-train' and model_dir != 'roberta-large-train':\n",
    "#         continue\n",
    "    model_name = ''\n",
    "    tokenizer = None\n",
    "    all_results = None\n",
    "    features = None\n",
    "    \n",
    "    with open(os.path.join(root_dir, model_dir, 'config.json')) as f:\n",
    "        config = json.load(f)\n",
    "        model_name = config['model_name'].replace('-dev', '').replace('-train', '').replace('-01', '')\n",
    "    \n",
    "    print(model_name, config['type'])\n",
    "    \n",
    "    with open(os.path.join(root_dir, model_dir, 'features.pkl'), 'rb') as f:\n",
    "        features = pickle.load(f)\n",
    "        \n",
    "    with open(os.path.join(root_dir, model_dir, 'all_results.pkl'), 'rb') as f:\n",
    "        all_results = pickle.load(f)\n",
    "    \n",
    "            \n",
    "    with open(os.path.join(root_dir, model_dir, 'tokenizer.pkl'), 'rb') as f:\n",
    "        tokenizer = pickle.load(f)\n",
    "        \n",
    "    if config['type'] == 'train':\n",
    "        features_train.append(features)\n",
    "        all_results_train.append(all_results)\n",
    "        tokenizers_train.append(tokenizer)\n",
    "    elif config['type'] == 'dev':\n",
    "        features_dev.append(features)\n",
    "        all_results_dev.append(all_results)\n",
    "        tokenizers_dev.append(tokenizer)\n",
    "        "
   ]
  },
  {
   "cell_type": "code",
   "execution_count": null,
   "metadata": {},
   "outputs": [],
   "source": []
  },
  {
   "cell_type": "code",
   "execution_count": 5,
   "metadata": {},
   "outputs": [],
   "source": [
    "with open(os.path.join(root_dir, 'combined_tokenizers_train.pkl'), 'wb') as f:\n",
    "    pickle.dump(tokenizers_train, f)\n",
    "with open(os.path.join(root_dir, 'combined_tokenizers_dev.pkl'), 'wb') as f:\n",
    "    pickle.dump(tokenizers_dev, f)"
   ]
  },
  {
   "cell_type": "code",
   "execution_count": 4,
   "metadata": {
    "scrolled": false
   },
   "outputs": [],
   "source": [
    "from collections import OrderedDict\n",
    "def align_features_and_results(features_train, all_results_train, target_model_index = 0):\n",
    "    d = [OrderedDict() for _ in features_train]\n",
    "    for model_idx, features in enumerate(features_train):\n",
    "        for i, feat in enumerate(features):\n",
    "            if feat.example_index not in d[model_idx]:\n",
    "                d[model_idx][feat.example_index] = [i]\n",
    "            else:\n",
    "                d[model_idx][feat.example_index].append(i)\n",
    "\n",
    "    target_dict = d[target_model_index]\n",
    "    output_mapping_arr = [[] for _ in features_train]\n",
    "    # Mapping index of target features, should be 1, 2,..., len(features)\n",
    "    output_mapping_arr[target_model_index] = np.arange(len(features_train[target_model_index]))\n",
    "\n",
    "    for k, v in target_dict.items():\n",
    "        n_feat = len(v) #  > 1 if splitted\n",
    "        for model_idx, features in enumerate(features_train):\n",
    "            if model_idx == target_model_index:\n",
    "                continue\n",
    "            example_indices = np.random.choice(d[model_idx][k], n_feat)\n",
    "            output_mapping_arr[model_idx].extend(example_indices)\n",
    "            \n",
    "    final_train_features = [[] for _ in features_train]\n",
    "    final_all_results = [[] for _ in features_train]\n",
    "    \n",
    "    \n",
    "\n",
    "    for model_idx in range(len(features_train)):\n",
    "        for index in output_mapping_arr[model_idx]:\n",
    "            final_train_features[model_idx].append(features_train[model_idx][index])\n",
    "            final_all_results[model_idx].append(all_results_train[model_idx][index])\n",
    "    \n",
    "    len_feats = np.array([len(f) for f in final_train_features])\n",
    "    len_results = np.array([len(f) for f in final_all_results])\n",
    "    assert np.all(len_feats == len_feats[0]), print('final_train_features error')\n",
    "    assert np.all(len_results == len_results[0]), print('final_all_results error')\n",
    "    return final_train_features, final_all_results\n",
    "\n",
    "final_features_train, final_all_results_train = align_features_and_results(features_train, all_results_train)\n",
    "final_features_dev, final_all_results_dev = align_features_and_results(features_dev, all_results_dev)"
   ]
  },
  {
   "cell_type": "code",
   "execution_count": 5,
   "metadata": {},
   "outputs": [
    {
     "name": "stdout",
     "output_type": "stream",
     "text": [
      "[77, 70, 146, 60, 80, 97, 138, 104, 79, 87]\n",
      "[81, 72, 150, 62, 82, 100, 140, 106, 81, 88]\n",
      "[0, 1, 2, 3, 4, 5, 6, 7, 8, 9]\n"
     ]
    }
   ],
   "source": [
    "features1 = final_features_train[0]\n",
    "\n",
    "print([f.start_position  for f in features1[:10]])\n",
    "print([f.end_position  for f in features1[:10]])\n",
    "print([f.example_index  for f in features1[:10]])"
   ]
  },
  {
   "cell_type": "code",
   "execution_count": 14,
   "metadata": {},
   "outputs": [
    {
     "name": "stderr",
     "output_type": "stream",
     "text": [
      "100%|██████████| 442/442 [00:33<00:00, 13.08it/s]\n"
     ]
    }
   ],
   "source": [
    "from transformers.data.processors.squad import SquadResult, SquadV1Processor, SquadV2Processor\n",
    "examples = SquadV2Processor().get_train_examples(None, filename='data/train-v2.0.json')"
   ]
  },
  {
   "cell_type": "code",
   "execution_count": 7,
   "metadata": {},
   "outputs": [
    {
     "ename": "NameError",
     "evalue": "name 'examples' is not defined",
     "output_type": "error",
     "traceback": [
      "\u001b[0;31m---------------------------------------------------------------------------\u001b[0m",
      "\u001b[0;31mNameError\u001b[0m                                 Traceback (most recent call last)",
      "\u001b[0;32m<ipython-input-7-e98da78ed926>\u001b[0m in \u001b[0;36m<module>\u001b[0;34m\u001b[0m\n\u001b[0;32m----> 1\u001b[0;31m \u001b[0mprint\u001b[0m\u001b[0;34m(\u001b[0m\u001b[0;34m[\u001b[0m\u001b[0me\u001b[0m\u001b[0;34m.\u001b[0m\u001b[0mstart_position\u001b[0m \u001b[0;32mfor\u001b[0m \u001b[0me\u001b[0m \u001b[0;32min\u001b[0m \u001b[0mexamples\u001b[0m\u001b[0;34m[\u001b[0m\u001b[0;34m:\u001b[0m\u001b[0;36m10\u001b[0m\u001b[0;34m]\u001b[0m\u001b[0;34m]\u001b[0m\u001b[0;34m)\u001b[0m\u001b[0;34m\u001b[0m\u001b[0;34m\u001b[0m\u001b[0m\n\u001b[0m\u001b[1;32m      2\u001b[0m \u001b[0mprint\u001b[0m\u001b[0;34m(\u001b[0m\u001b[0;34m[\u001b[0m\u001b[0me\u001b[0m\u001b[0;34m.\u001b[0m\u001b[0mend_position\u001b[0m \u001b[0;32mfor\u001b[0m \u001b[0me\u001b[0m \u001b[0;32min\u001b[0m \u001b[0mexamples\u001b[0m\u001b[0;34m[\u001b[0m\u001b[0;34m:\u001b[0m\u001b[0;36m10\u001b[0m\u001b[0;34m]\u001b[0m\u001b[0;34m]\u001b[0m\u001b[0;34m)\u001b[0m\u001b[0;34m\u001b[0m\u001b[0;34m\u001b[0m\u001b[0m\n",
      "\u001b[0;31mNameError\u001b[0m: name 'examples' is not defined"
     ]
    }
   ],
   "source": [
    "print([e.start_position for e in examples[:10]])\n",
    "print([e.end_position for e in examples[:10]])"
   ]
  },
  {
   "cell_type": "code",
   "execution_count": 6,
   "metadata": {},
   "outputs": [
    {
     "name": "stdout",
     "output_type": "stream",
     "text": [
      "[77, 70, 146, 60, 80, 97, 138, 104, 79, 87]\n",
      "[0, 1, 2, 3, 4, 5, 6, 7, 8, 9]\n"
     ]
    }
   ],
   "source": [
    "features2 = final_features_train[1]\n",
    "print([f.start_position  for f in features2[:10]])\n",
    "print([f.example_index  for f in features2[:10]])\n"
   ]
  },
  {
   "cell_type": "code",
   "execution_count": 17,
   "metadata": {
    "scrolled": true
   },
   "outputs": [],
   "source": [
    "with open(os.path.join(root_dir, 'combined_features_train.pkl'), 'wb') as f:\n",
    "    pickle.dump(final_features_train, f)\n",
    "with open(os.path.join(root_dir, 'combined_all_results_train.pkl'), 'wb') as f:\n",
    "    pickle.dump(final_all_results_train, f)\n"
   ]
  },
  {
   "cell_type": "code",
   "execution_count": null,
   "metadata": {},
   "outputs": [],
   "source": [
    "with open(os.path.join(root_dir, 'combined_features_train.pkl'), 'wb') as f:\n",
    "    pickle.dump(final_features_dev, f)\n",
    "with open(os.path.join(root_dir, 'combined_all_results_train.pkl'), 'wb') as f:\n",
    "    pickle.dump(final_features_dev, f)\n"
   ]
  },
  {
   "cell_type": "code",
   "execution_count": 5,
   "metadata": {},
   "outputs": [
    {
     "data": {
      "text/plain": [
       "145816"
      ]
     },
     "execution_count": 5,
     "metadata": {},
     "output_type": "execute_result"
    }
   ],
   "source": []
  },
  {
   "cell_type": "code",
   "execution_count": 50,
   "metadata": {},
   "outputs": [
    {
     "data": {
      "text/plain": [
       "131944"
      ]
     },
     "execution_count": 50,
     "metadata": {},
     "output_type": "execute_result"
    }
   ],
   "source": []
  },
  {
   "cell_type": "code",
   "execution_count": null,
   "metadata": {},
   "outputs": [],
   "source": []
  },
  {
   "cell_type": "code",
   "execution_count": 24,
   "metadata": {
    "scrolled": true
   },
   "outputs": [
    {
     "name": "stdout",
     "output_type": "stream",
     "text": [
      "131944\n"
     ]
    }
   ],
   "source": [
    "features = features_train[0]\n",
    "all_result = all_results_train[0]\n",
    "print(len(all_result))"
   ]
  },
  {
   "cell_type": "code",
   "execution_count": null,
   "metadata": {},
   "outputs": [],
   "source": []
  },
  {
   "cell_type": "code",
   "execution_count": 10,
   "metadata": {},
   "outputs": [],
   "source": [
    "all_example_index = torch.arange(all_input_ids.size(0), dtype=torch.long)"
   ]
  },
  {
   "cell_type": "code",
   "execution_count": 11,
   "metadata": {},
   "outputs": [
    {
     "data": {
      "text/plain": [
       "tensor([     0,      1,      2,  ..., 131941, 131942, 131943])"
      ]
     },
     "execution_count": 11,
     "metadata": {},
     "output_type": "execute_result"
    }
   ],
   "source": [
    "all_example_index"
   ]
  },
  {
   "cell_type": "code",
   "execution_count": 25,
   "metadata": {},
   "outputs": [
    {
     "name": "stdout",
     "output_type": "stream",
     "text": [
      "163591\n"
     ]
    },
    {
     "data": {
      "text/plain": [
       "tensor([     0,      1,      2,  ..., 130316, 130317, 130318])"
      ]
     },
     "execution_count": 25,
     "metadata": {},
     "output_type": "execute_result"
    }
   ],
   "source": [
    "features2 = features_train[1]\n",
    "all_result2 = all_results_train[1]\n",
    "print(len(all_result2))\n",
    "torch.tensor([f.example_index for f in features2], dtype=torch.long)"
   ]
  },
  {
   "cell_type": "code",
   "execution_count": 20,
   "metadata": {},
   "outputs": [
    {
     "data": {
      "text/plain": [
       "163591"
      ]
     },
     "execution_count": 20,
     "metadata": {},
     "output_type": "execute_result"
    }
   ],
   "source": [
    "len(features2)"
   ]
  },
  {
   "cell_type": "markdown",
   "metadata": {},
   "source": [
    "## Output for Pure Start End Scores"
   ]
  },
  {
   "cell_type": "code",
   "execution_count": 3,
   "metadata": {},
   "outputs": [],
   "source": [
    "\n",
    "dir = './runs'\n",
    "directory = os.fsencode('./runs')\n",
    "\n",
    "names = []\n",
    "dfs = []\n",
    "for file in os.listdir(directory):\n",
    "    filename = os.fsdecode(file)\n",
    "    df = pd.read_csv(os.path.join(dir, filename))\n",
    "    dfs.append(df)\n",
    "    names.append(filename)\n"
   ]
  },
  {
   "cell_type": "code",
   "execution_count": null,
   "metadata": {
    "scrolled": true
   },
   "outputs": [],
   "source": [
    "fig, ax = plt.subplots()\n",
    "fig.set_size_inches(14, 6)\n",
    "ax.set(xlabel='Steps', ylabel='Eval F1', title='Eval F1 vs. steps')\n",
    "ax.grid()\n",
    "\n",
    "for idx, df in enumerate(dfs):\n",
    "    label = names[idx].split('-0')[0][4:]\n",
    "    plt.plot(df['Step'], df['Value'], label=label)\n",
    "ax.legend()\n",
    "axes = plt.gca()\n",
    "plt.yticks(np.arange(64, 92, 2))\n",
    "# fig.savefig(\"eval_f1_runs.png\")"
   ]
  },
  {
   "cell_type": "code",
   "execution_count": 2,
   "metadata": {},
   "outputs": [],
   "source": [
    "root_dir = './save/output'\n",
    "directory = os.fsencode(root_dir)\n",
    "\n",
    "d = defaultdict(defaultdict)\n",
    "\n",
    "for dir in os.listdir(directory):\n",
    "    model_dir = os.fsdecode(dir)\n",
    "    with open(os.path.join(root_dir, model_dir, 'model_output.json')) as f:\n",
    "        x = json.load(f)\n",
    "        model_name = x['model_name'].replace('-dev', '').replace('-train', '').replace('-01', '')\n",
    "        d[model_name][x['type']] = np.array(x['output'])\n",
    "        del x\n",
    "    \n",
    "\n"
   ]
  },
  {
   "cell_type": "code",
   "execution_count": 3,
   "metadata": {},
   "outputs": [
    {
     "name": "stdout",
     "output_type": "stream",
     "text": [
      "albert-xxlarge-v1\n",
      "albert-large-v2\n",
      "roberta-large\n",
      "bert-large\n"
     ]
    }
   ],
   "source": [
    "train = []\n",
    "dev = []\n",
    "for k, v in d.items():\n",
    "    train.append(v['train'])\n",
    "    dev.append(v['dev'])\n",
    "    print(k)\n",
    "    \n",
    "    \n"
   ]
  },
  {
   "cell_type": "code",
   "execution_count": 4,
   "metadata": {},
   "outputs": [
    {
     "data": {
      "text/plain": [
       "(130319, 4, 2, 256)"
      ]
     },
     "execution_count": 4,
     "metadata": {},
     "output_type": "execute_result"
    }
   ],
   "source": [
    "np_train = np.array(train).transpose(1, 0, 2, 3)\n",
    "np_train.shape"
   ]
  },
  {
   "cell_type": "code",
   "execution_count": 5,
   "metadata": {},
   "outputs": [
    {
     "data": {
      "text/plain": [
       "(6078, 4, 2, 256)"
      ]
     },
     "execution_count": 5,
     "metadata": {},
     "output_type": "execute_result"
    }
   ],
   "source": [
    "np_dev = np.array(dev).transpose(1, 0, 2, 3)\n",
    "np_dev.shape"
   ]
  },
  {
   "cell_type": "code",
   "execution_count": 8,
   "metadata": {},
   "outputs": [],
   "source": [
    "import h5py\n",
    "with h5py.File(os.path.join(root_dir, 'model_output.h5'), 'w') as hf:\n",
    "    hf.create_dataset(\"model_output_train\",  data=np_train)\n",
    "    hf.create_dataset(\"model_output_dev\",  data=np_dev)"
   ]
  },
  {
   "cell_type": "code",
   "execution_count": 10,
   "metadata": {},
   "outputs": [
    {
     "name": "stdout",
     "output_type": "stream",
     "text": [
      "(130319, 4, 2, 256) (6078, 4, 2, 256)\n"
     ]
    }
   ],
   "source": [
    "with h5py.File(os.path.join(root_dir, 'model_output.h5'), 'r') as hf:\n",
    "    data_train = hf['model_output_train'][:]\n",
    "    data_dev = hf['model_output_dev'][:]\n",
    "    print(data_train.shape, data_dev.shape)"
   ]
  }
 ],
 "metadata": {
  "kernelspec": {
   "display_name": "squad",
   "language": "python",
   "name": "squad"
  },
  "language_info": {
   "codemirror_mode": {
    "name": "ipython",
    "version": 3
   },
   "file_extension": ".py",
   "mimetype": "text/x-python",
   "name": "python",
   "nbconvert_exporter": "python",
   "pygments_lexer": "ipython3",
   "version": "3.6.7"
  }
 },
 "nbformat": 4,
 "nbformat_minor": 4
}
