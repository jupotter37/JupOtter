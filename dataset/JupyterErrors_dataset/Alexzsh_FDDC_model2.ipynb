{
 "cells": [
  {
   "cell_type": "code",
   "execution_count": 10,
   "metadata": {},
   "outputs": [],
   "source": [
    "import pandas as pd\n",
    "import os\n",
    "import tqdm\n",
    "filename='../FDDC/In-Decrease/zengjianchi.train'"
   ]
  },
  {
   "cell_type": "code",
   "execution_count": 11,
   "metadata": {},
   "outputs": [],
   "source": [
    "def getDict(name,start=-1,end=-1,sentence=-1):\n",
    "    return {'name':name,'start':start,'end':end,'sentence':sentence}\n",
    "class hetong():\n",
    "    def __init__(self,name,fullname,abbrname,changeDate,changePrice,changeNum,changeNums,changePer):\n",
    "        self.name=name\n",
    "        self.fullname=[]\n",
    "        self.fullname.append(getDict(fullname))\n",
    "        self.abbrname=[]\n",
    "        self.abbrname.append(getDict(abbrname))\n",
    "        self.changeDate=[]\n",
    "        self.changeDate.append(getDict(changeDate))\n",
    "        self.changePrice=[]\n",
    "        self.changePrice.append(getDict(changePrice))\n",
    "        self.changeNum=[]\n",
    "        self.changeNum.append(getDict(changeNum))\n",
    "        self.changeNums=[]\n",
    "        self.changeNums.append(getDict(changeNums))\n",
    "        self.changePer=[]\n",
    "        self.changePer.append(getDict(changePer))\n",
    "    "
   ]
  },
  {
   "cell_type": "code",
   "execution_count": 12,
   "metadata": {},
   "outputs": [],
   "source": [
    "length,length2,ht=[],[],[]\n",
    "with open(filename,'r') as fr:\n",
    "    for line in fr.readlines():\n",
    "        a=line.split('\\t')\n",
    "        length.append(len(a))\n",
    "        if len(a)<8:\n",
    "            a.extend(['']*(8-len(a)))\n",
    "        length2.append(len(a))\n",
    "        ht.append(hetong(*a))"
   ]
  },
  {
   "cell_type": "code",
   "execution_count": 13,
   "metadata": {},
   "outputs": [
    {
     "name": "stderr",
     "output_type": "stream",
     "text": [
      "100%|██████████| 7154/7154 [00:10<00:00, 711.28it/s]\n"
     ]
    }
   ],
   "source": [
    "dirname='../FDDC/In-Decrease/changeDateBIOWithMoney'\n",
    "if not os.path.exists(dirname):\n",
    "    os.makedirs(dirname)\n",
    "for i in tqdm.tqdm(ht):\n",
    "    i=i.__dict__\n",
    "    if i['fullname']=='' or i['abbrname']=='':\n",
    "        continue\n",
    "    name=i['name']\n",
    "    i.pop('name')\n",
    "    with open(os.path.join(dirname,name+'.txt'),'w') as fw:\n",
    "        with open('../FDDC/In-Decrease/In-DecreaseData/textWithMoney/'+name+'.txt','r') as fr:\n",
    "            text=fr.readline()\n",
    "            sentence=text.split('。')\n",
    "            fullname_name=i['fullname'][0]['name']\n",
    "            abbrname_name=i['abbrname'][0]['name']\n",
    "            changeDate_name=i['changeDate'][0]['name']\n",
    "            changePrice_name=i['changePrice'][0]['name']\n",
    "            changeNum_name=i['changeNum'][0]['name']\n",
    "            changeNums_name=i['changeNums'][0]['name']\n",
    "            changePer_name=i['changePer'][0]['name']\n",
    "            index=0\n",
    "            for num,sen in enumerate(sentence):\n",
    "                fullname_start=sen.find(fullname_name)\n",
    "                abbrname_start=sen.find(abbrname_name)\n",
    "                if fullname_start!=-1 and abbrname_start!=-1:\n",
    "                    i['fullname'].append(getDict(fullname_name,index+fullname_start,index+fullname_start+len(fullname_name),num))\n",
    "                    i['abbrname'].append(getDict(abbrname_name,index+abbrname_start,index+abbrname_start+len(abbrname_name),num))\n",
    "                index+=len(sen)+1\n",
    "            index=0\n",
    "            for num,sen in enumerate(sentence):\n",
    "                \n",
    "                fullname_start=sen.find(fullname_name)\n",
    "                abbrname_start=sen.find(abbrname_name)\n",
    "                changeDate_start=sen.find(changeDate_name)\n",
    "                changePrice_start=sen.find(changePrice_name)\n",
    "                changeNum_start=sen.find(changeNum_name)\n",
    "                changeNums_start=sen.find(changeNums_name)\n",
    "                changePer_start=sen.find(changePer_name)\n",
    "                \n",
    "                if changeDate_name!='' and changeDate_start !=-1 and (fullname_start!=-1 or abbrname_start!=-1):\n",
    "                    i['changePrice'].append(getDict(changePrice_name,index+changePrice_start,index+changePrice_start+len(changePrice_name),num))\n",
    "                    if fullname_start!=-1:\n",
    "                        i['fullname'].append(getDict(fullname_name,index+fullname_start,index+fullname_start+len(fullname_name),num))\n",
    "                    if abbrname_start!=-1:\n",
    "                        i['abbrname'].append(getDict(abbrname_name,index+abbrname_start,index+abbrname_start+len(abbrname_name),num))   \n",
    "                if changeDate_name!='' and changeDate_start !=-1 and (fullname_start!=-1 or abbrname_start!=-1):\n",
    "                    i['changeDate'].append(getDict(changeDate_name,index+changeDate_start,index+changeDate_start+len(changeDate_name),num))\n",
    "                    if fullname_start!=-1:\n",
    "                        i['fullname'].append(getDict(fullname_name,index+fullname_start,index+fullname_start+len(fullname_name),num))\n",
    "                    if abbrname_start!=-1:\n",
    "                        i['abbrname'].append(getDict(abbrname_name,index+abbrname_start,index+abbrname_start+len(abbrname_name),num)) \n",
    "                if changeNum_name!='' and changeNum_start !=-1 and (fullname_start!=-1 or abbrname_start!=-1):\n",
    "                    i['changeNum'].append(getDict(changeNum_name,index+changeNum_start,index+changeNum_start+len(changeNum_name),num))\n",
    "                    if fullname_start!=-1:\n",
    "                        i['fullname'].append(getDict(fullname_name,index+fullname_start,index+fullname_start+len(fullname_name),num))\n",
    "                    if abbrname_start!=-1:\n",
    "                        i['abbrname'].append(getDict(abbrname_name,index+abbrname_start,index+abbrname_start+len(abbrname_name),num))   \n",
    "                if changeNums_name!='' and changeNums_start !=-1 and (fullname_start!=-1 or abbrname_start!=-1):\n",
    "                    i['changeNums'].append(getDict(changeNums_name,index+changeNums_start,index+changeNums_start+len(changeNums_name),num))\n",
    "                    if fullname_start!=-1:\n",
    "                        i['fullname'].append(getDict(fullname_name,index+fullname_start,index+fullname_start+len(fullname_name),num))\n",
    "                    if abbrname_start!=-1:\n",
    "                        i['abbrname'].append(getDict(abbrname_name,index+abbrname_start,index+abbrname_start+len(abbrname_name),num))   \n",
    "                if changePer_name!='' and changePer_start !=-1 and (fullname_start!=-1 or abbrname_start!=-1):\n",
    "                    i['changePer'].append(getDict(changePer_name,index+changePer_start,index+changePer_start+len(changePer_name),num))\n",
    "                    if fullname_start!=-1:\n",
    "                        i['fullname'].append(getDict(fullname_name,index+fullname_start,index+fullname_start+len(fullname_name),num))\n",
    "                    if abbrname_start!=-1:\n",
    "                        i['abbrname'].append(getDict(abbrname_name,index+abbrname_start,index+abbrname_start+len(abbrname_name),num))   \n",
    "                index+=len(sen)+1\n",
    "\n",
    "            li=['O' for i in text]\n",
    "\n",
    "            for k,v in i.items():\n",
    "                for item in v:\n",
    "                    if item['name']!='' and item['start']!=-1:\n",
    "                        li[item['start']]='B-'+k\n",
    "                        for i in range(item['start']+1,item['end']):\n",
    "                            li[i]='I-'+k\n",
    "            for j,con in enumerate(li):\n",
    "                if con!='O':\n",
    "                    sub_start=j\n",
    "                    break\n",
    "\n",
    "            for j,con in enumerate(li):\n",
    "                if li[len(li)-j-1]!='O':\n",
    "                    sub_end=len(li)-j-1\n",
    "                    break\n",
    "            li=li[sub_start-10:sub_end+10]\n",
    "            text=text[sub_start-10:sub_end+10]\n",
    "\n",
    "\n",
    "            sss=\"\"\n",
    "            for j,con in enumerate(li):\n",
    "                sss+=text[j]+' '+con+'\\n'\n",
    "            fw.write(sss)\n",
    "\n",
    "                "
   ]
  },
  {
   "cell_type": "code",
   "execution_count": 22,
   "metadata": {},
   "outputs": [],
   "source": [
    "import os\n",
    "import numpy as np\n",
    "import random\n",
    "dirname='../FDDC/In-Decrease/changeDateBIOWithMoney'\n",
    "files=list(os.walk(dirname))[0][2]\n",
    "random.shuffle(files)\n",
    "train=\"exmaple.train\"\n",
    "test=\"exmaple.test\"\n",
    "dev=\"exmaple.dev\"\n",
    "\n",
    "with open(dev,'w') as fw:\n",
    "    for file in files[int(len(files)*0.9):]:\n",
    "        with open(os.path.join(dirname,file),'r') as fr:\n",
    "            fw.writelines(fr.readlines())\n",
    "        fw.write('\\n')"
   ]
  },
  {
   "cell_type": "code",
   "execution_count": 21,
   "metadata": {},
   "outputs": [
    {
     "name": "stdout",
     "output_type": "stream",
     "text": [
      "zengjianchi.train\n"
     ]
    }
   ],
   "source": [
    "for file in files[int(len(files)*0.9):]:\n",
    "    print(file)"
   ]
  },
  {
   "cell_type": "code",
   "execution_count": 7,
   "metadata": {},
   "outputs": [],
   "source": [
    "li=[{'1':1,'2':2},{'1':3,'2':4},{'1':5}]\n",
    "import pandas as pd\n",
    "pd.DataFrame(li).to_csv('test.csv',header=None)"
   ]
  },
  {
   "cell_type": "code",
   "execution_count": 14,
   "metadata": {},
   "outputs": [
    {
     "ename": "TypeError",
     "evalue": "an integer is required (got type _io.TextIOWrapper)",
     "output_type": "error",
     "traceback": [
      "\u001b[0;31m---------------------------------------------------------------------------\u001b[0m",
      "\u001b[0;31mTypeError\u001b[0m                                 Traceback (most recent call last)",
      "\u001b[0;32m<ipython-input-14-8191e1016ab2>\u001b[0m in \u001b[0;36m<module>\u001b[0;34m()\u001b[0m\n\u001b[1;32m      1\u001b[0m \u001b[0;32mimport\u001b[0m \u001b[0mpickle\u001b[0m\u001b[0;34m\u001b[0m\u001b[0m\n\u001b[1;32m      2\u001b[0m \u001b[0;32mwith\u001b[0m \u001b[0mopen\u001b[0m\u001b[0;34m(\u001b[0m\u001b[0;34m'test.pkl'\u001b[0m\u001b[0;34m,\u001b[0m\u001b[0;34m'w'\u001b[0m\u001b[0;34m)\u001b[0m \u001b[0;32mas\u001b[0m \u001b[0mfw\u001b[0m\u001b[0;34m:\u001b[0m\u001b[0;34m\u001b[0m\u001b[0m\n\u001b[0;32m----> 3\u001b[0;31m     \u001b[0mpickle\u001b[0m\u001b[0;34m.\u001b[0m\u001b[0mdumps\u001b[0m\u001b[0;34m(\u001b[0m\u001b[0mpd\u001b[0m\u001b[0;34m.\u001b[0m\u001b[0mDataFrame\u001b[0m\u001b[0;34m(\u001b[0m\u001b[0mli\u001b[0m\u001b[0;34m)\u001b[0m\u001b[0;34m,\u001b[0m\u001b[0mfw\u001b[0m\u001b[0;34m)\u001b[0m\u001b[0;34m\u001b[0m\u001b[0m\n\u001b[0m",
      "\u001b[0;31mTypeError\u001b[0m: an integer is required (got type _io.TextIOWrapper)"
     ]
    }
   ],
   "source": [
    "import pickle\n",
    "\n",
    "    pickle.dumps(pd.DataFrame(li),fw)\n"
   ]
  },
  {
   "cell_type": "code",
   "execution_count": null,
   "metadata": {},
   "outputs": [],
   "source": []
  }
 ],
 "metadata": {
  "kernelspec": {
   "display_name": "Python 3",
   "language": "python",
   "name": "python3"
  },
  "language_info": {
   "codemirror_mode": {
    "name": "ipython",
    "version": 3
   },
   "file_extension": ".py",
   "mimetype": "text/x-python",
   "name": "python",
   "nbconvert_exporter": "python",
   "pygments_lexer": "ipython3",
   "version": "3.6.3"
  }
 },
 "nbformat": 4,
 "nbformat_minor": 2
}
