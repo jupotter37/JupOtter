{
 "cells": [
  {
   "cell_type": "markdown",
   "metadata": {
    "slideshow": {
     "slide_type": "slide"
    }
   },
   "source": [
    "## Working with Functions"
   ]
  },
  {
   "cell_type": "code",
   "execution_count": 7,
   "metadata": {
    "slideshow": {
     "slide_type": "subslide"
    }
   },
   "outputs": [
    {
     "name": "stdout",
     "output_type": "stream",
     "text": [
      "Hello World\n"
     ]
    }
   ],
   "source": [
    "# calling a function is done by using it's name\n",
    "# followed by parenthesis with any inputs within\n",
    "# in fact we've been using functions already such\n",
    "# as print\n",
    "print(\"Hello World\")"
   ]
  },
  {
   "cell_type": "code",
   "execution_count": 8,
   "metadata": {
    "slideshow": {
     "slide_type": "-"
    }
   },
   "outputs": [
    {
     "data": {
      "text/plain": [
       "str"
      ]
     },
     "execution_count": 8,
     "metadata": {},
     "output_type": "execute_result"
    }
   ],
   "source": [
    "# and type\n",
    "type('Hello World')"
   ]
  },
  {
   "cell_type": "markdown",
   "metadata": {
    "slideshow": {
     "slide_type": "subslide"
    }
   },
   "source": [
    "### let's create a simple function by answering the following questions\n",
    "1. What is this doing? \n",
    "    - Calculate my weeks pay based on my hourly pay and number of hours worked and hourly pay\n",
    "2. What type of inputs do I expect?\n",
    "    - hours as a float; \n",
    "    - pay as a float\n",
    "3. What do I expect in return? \n",
    "    - the pay I expect assuming a 10% reduction for taxes as a float"
   ]
  },
  {
   "cell_type": "code",
   "execution_count": 9,
   "metadata": {
    "slideshow": {
     "slide_type": "subslide"
    }
   },
   "outputs": [],
   "source": [
    "def calculate_weeks_pay(hours, pay):\n",
    "    '''calculates the weeks pay\n",
    "    \n",
    "    Assumes that a 10% of the gross pay will be taken\n",
    "    for payment of taxes\n",
    "    \n",
    "    Parameters\n",
    "    ----------\n",
    "    hours : float\n",
    "        the number of hours worked for the week\n",
    "    pay : float\n",
    "        the hourly payment \n",
    "        \n",
    "    Returns\n",
    "    -------\n",
    "    float\n",
    "        the net pay expected'''\n",
    "    gross = hours * pay\n",
    "    net = gross * 0.90\n",
    "    print(f'Your net pay is: ${net:.2f}')"
   ]
  },
  {
   "cell_type": "code",
   "execution_count": 10,
   "metadata": {
    "slideshow": {
     "slide_type": "subslide"
    }
   },
   "outputs": [
    {
     "name": "stdout",
     "output_type": "stream",
     "text": [
      "Your net pay is: $480.38\n"
     ]
    }
   ],
   "source": [
    "# ok let's use this assuming that we worked 35 hours\n",
    "# and make $15.25 an hour\n",
    "calculate_weeks_pay(35, 15.25)"
   ]
  },
  {
   "cell_type": "code",
   "execution_count": 11,
   "metadata": {},
   "outputs": [],
   "source": [
    "def calculate_weeks_pay(hours, pay):\n",
    "    '''calculates the weeks pay\n",
    "    \n",
    "    Assumes that a 10% of the gross pay will be taken\n",
    "    for payment of taxes\n",
    "    \n",
    "    Parameters\n",
    "    ----------\n",
    "    hours : float\n",
    "        the number of hours worked for the week\n",
    "    pay : float\n",
    "        the hourly payment \n",
    "        \n",
    "    Returns\n",
    "    -------\n",
    "    float\n",
    "        the net pay expected'''\n",
    "    gross = hours * pay\n",
    "    net = gross * 0.90\n",
    "    return net"
   ]
  },
  {
   "cell_type": "code",
   "execution_count": 12,
   "metadata": {
    "slideshow": {
     "slide_type": "subslide"
    }
   },
   "outputs": [
    {
     "name": "stdout",
     "output_type": "stream",
     "text": [
      "Your net pay is: $480.38\n"
     ]
    }
   ],
   "source": [
    "# ok let's use this assuming that we worked 35 hours\n",
    "# and make $15.25 an hour\n",
    "net_pay = calculate_weeks_pay(35, 15.25)\n",
    "print(f'Your net pay is: ${net_pay:.2f}')"
   ]
  },
  {
   "cell_type": "markdown",
   "metadata": {
    "slideshow": {
     "slide_type": "subslide"
    }
   },
   "source": [
    "### What if we wanted to return both the gross and net pay?"
   ]
  },
  {
   "cell_type": "code",
   "execution_count": 13,
   "metadata": {
    "slideshow": {
     "slide_type": "-"
    }
   },
   "outputs": [],
   "source": [
    "def calculate_weeks_pay(hours, pay):\n",
    "    '''calculates the weeks pay\n",
    "    \n",
    "    Assumes that a 10% of the gross pay will be taken\n",
    "    for payment of taxes\n",
    "    \n",
    "    Parameters\n",
    "    ----------\n",
    "    hours : float\n",
    "        the number of hours worked for the week\n",
    "    pay : float\n",
    "        the hourly payment \n",
    "        \n",
    "    Returns\n",
    "    -------\n",
    "    float\n",
    "        the net pay expected'''\n",
    "    gross = hours * pay\n",
    "    net = gross * 0.90\n",
    "    return net, gross"
   ]
  },
  {
   "cell_type": "code",
   "execution_count": 14,
   "metadata": {
    "slideshow": {
     "slide_type": "subslide"
    }
   },
   "outputs": [
    {
     "data": {
      "text/plain": [
       "(480.375, 533.75)"
      ]
     },
     "execution_count": 14,
     "metadata": {},
     "output_type": "execute_result"
    }
   ],
   "source": [
    "calculate_weeks_pay(35, 15.25)"
   ]
  },
  {
   "cell_type": "code",
   "execution_count": 15,
   "metadata": {
    "slideshow": {
     "slide_type": "-"
    }
   },
   "outputs": [
    {
     "name": "stdout",
     "output_type": "stream",
     "text": [
      "Your net pay is: $533.75 with a gross of: $480.38\n"
     ]
    }
   ],
   "source": [
    "gross, net = calculate_weeks_pay(35, 15.25)\n",
    "print(f'Your net pay is: ${net:.2f} with a gross of: ${gross:.2f}')"
   ]
  },
  {
   "cell_type": "markdown",
   "metadata": {
    "slideshow": {
     "slide_type": "subslide"
    }
   },
   "source": [
    "### Understanding the \"flow\" of a python program\n",
    "\n",
    "- When a function is called\n",
    "- variable \"scope\""
   ]
  },
  {
   "cell_type": "code",
   "execution_count": 18,
   "metadata": {
    "slideshow": {
     "slide_type": "subslide"
    }
   },
   "outputs": [],
   "source": [
    "# functions are only executed when called\n",
    "def calculate_weeks_pay(hours, pay):\n",
    "    grosspay = hours * pay\n",
    "    netpay = grosspay * 0.90\n",
    "    return netpay, grosspay"
   ]
  },
  {
   "cell_type": "code",
   "execution_count": 19,
   "metadata": {
    "slideshow": {
     "slide_type": "-"
    }
   },
   "outputs": [
    {
     "data": {
      "text/plain": [
       "(411.75, 457.5)"
      ]
     },
     "execution_count": 19,
     "metadata": {},
     "output_type": "execute_result"
    }
   ],
   "source": [
    "calculate_weeks_pay(30, 15.25)"
   ]
  },
  {
   "cell_type": "code",
   "execution_count": 20,
   "metadata": {
    "slideshow": {
     "slide_type": "subslide"
    }
   },
   "outputs": [
    {
     "ename": "NameError",
     "evalue": "name 'grosspay' is not defined",
     "output_type": "error",
     "traceback": [
      "\u001b[0;31m---------------------------------------------------------------------------\u001b[0m",
      "\u001b[0;31mNameError\u001b[0m                                 Traceback (most recent call last)",
      "\u001b[0;32m<ipython-input-20-6eee75263f54>\u001b[0m in \u001b[0;36m<module>\u001b[0;34m\u001b[0m\n\u001b[1;32m      7\u001b[0m \u001b[0;34m\u001b[0m\u001b[0m\n\u001b[1;32m      8\u001b[0m \u001b[0;31m# this *should* raise an error\u001b[0m\u001b[0;34m\u001b[0m\u001b[0;34m\u001b[0m\u001b[0m\n\u001b[0;32m----> 9\u001b[0;31m \u001b[0mprint\u001b[0m\u001b[0;34m(\u001b[0m\u001b[0mgrosspay\u001b[0m\u001b[0;34m)\u001b[0m\u001b[0;34m\u001b[0m\u001b[0m\n\u001b[0m",
      "\u001b[0;31mNameError\u001b[0m: name 'grosspay' is not defined"
     ]
    }
   ],
   "source": [
    "# variable 'scope'\n",
    "def calculate_weeks_pay(hours, pay):\n",
    "    grosspay = hours * pay\n",
    "    print(gross)\n",
    "    netpay = gross * 0.90\n",
    "    return netpay, grosspay\n",
    "\n",
    "# this *should* raise an error\n",
    "print(grosspay)"
   ]
  },
  {
   "cell_type": "code",
   "execution_count": 24,
   "metadata": {
    "slideshow": {
     "slide_type": "subslide"
    }
   },
   "outputs": [
    {
     "name": "stdout",
     "output_type": "stream",
     "text": [
      "gross before func: 0\n",
      "gross in func: 533.75\n",
      "gross after func call: 0\n",
      "533.75\n"
     ]
    }
   ],
   "source": [
    "gross = 0\n",
    "print(f'gross before func: {gross}')\n",
    "\n",
    "def calculate_weeks_pay(hours, pay):\n",
    "    gross = hours * pay\n",
    "    print(f'gross in func: {gross}')\n",
    "    net = gross * 0.90\n",
    "    return net, gross\n",
    "\n",
    "_, grosspay = calculate_weeks_pay(35, 15.25)\n",
    "print(f'gross after func call: {gross}')\n",
    "print(grosspay)"
   ]
  },
  {
   "cell_type": "code",
   "execution_count": 25,
   "metadata": {
    "slideshow": {
     "slide_type": "subslide"
    }
   },
   "outputs": [
    {
     "name": "stdout",
     "output_type": "stream",
     "text": [
      "gross before func: 0\n"
     ]
    },
    {
     "ename": "UnboundLocalError",
     "evalue": "local variable 'gross' referenced before assignment",
     "output_type": "error",
     "traceback": [
      "\u001b[0;31m---------------------------------------------------------------------------\u001b[0m",
      "\u001b[0;31mUnboundLocalError\u001b[0m                         Traceback (most recent call last)",
      "\u001b[0;32m<ipython-input-25-8bbdaa20fd73>\u001b[0m in \u001b[0;36m<module>\u001b[0;34m\u001b[0m\n\u001b[1;32m      9\u001b[0m     \u001b[0;32mreturn\u001b[0m \u001b[0mnet\u001b[0m\u001b[0;34m,\u001b[0m \u001b[0mgross\u001b[0m\u001b[0;34m\u001b[0m\u001b[0m\n\u001b[1;32m     10\u001b[0m \u001b[0;34m\u001b[0m\u001b[0m\n\u001b[0;32m---> 11\u001b[0;31m \u001b[0m_\u001b[0m\u001b[0;34m,\u001b[0m \u001b[0mgrosspay\u001b[0m \u001b[0;34m=\u001b[0m \u001b[0mcalculate_weeks_pay\u001b[0m\u001b[0;34m(\u001b[0m\u001b[0;36m35\u001b[0m\u001b[0;34m,\u001b[0m \u001b[0;36m15.25\u001b[0m\u001b[0;34m)\u001b[0m\u001b[0;34m\u001b[0m\u001b[0m\n\u001b[0m\u001b[1;32m     12\u001b[0m \u001b[0mprint\u001b[0m\u001b[0;34m(\u001b[0m\u001b[0;34mf'gross after func call: {gross}'\u001b[0m\u001b[0;34m)\u001b[0m\u001b[0;34m\u001b[0m\u001b[0m\n\u001b[1;32m     13\u001b[0m \u001b[0mprint\u001b[0m\u001b[0;34m(\u001b[0m\u001b[0mgrosspay\u001b[0m\u001b[0;34m)\u001b[0m\u001b[0;34m\u001b[0m\u001b[0m\n",
      "\u001b[0;32m<ipython-input-25-8bbdaa20fd73>\u001b[0m in \u001b[0;36mcalculate_weeks_pay\u001b[0;34m(hours, pay)\u001b[0m\n\u001b[1;32m      3\u001b[0m \u001b[0;34m\u001b[0m\u001b[0m\n\u001b[1;32m      4\u001b[0m \u001b[0;32mdef\u001b[0m \u001b[0mcalculate_weeks_pay\u001b[0m\u001b[0;34m(\u001b[0m\u001b[0mhours\u001b[0m\u001b[0;34m,\u001b[0m \u001b[0mpay\u001b[0m\u001b[0;34m)\u001b[0m\u001b[0;34m:\u001b[0m\u001b[0;34m\u001b[0m\u001b[0m\n\u001b[0;32m----> 5\u001b[0;31m     \u001b[0mprint\u001b[0m\u001b[0;34m(\u001b[0m\u001b[0mgross\u001b[0m\u001b[0;34m)\u001b[0m\u001b[0;34m\u001b[0m\u001b[0m\n\u001b[0m\u001b[1;32m      6\u001b[0m     \u001b[0mgross\u001b[0m \u001b[0;34m=\u001b[0m \u001b[0mhours\u001b[0m \u001b[0;34m*\u001b[0m \u001b[0mpay\u001b[0m\u001b[0;34m\u001b[0m\u001b[0m\n\u001b[1;32m      7\u001b[0m     \u001b[0mprint\u001b[0m\u001b[0;34m(\u001b[0m\u001b[0;34mf'gross in func: {gross}'\u001b[0m\u001b[0;34m)\u001b[0m\u001b[0;34m\u001b[0m\u001b[0m\n",
      "\u001b[0;31mUnboundLocalError\u001b[0m: local variable 'gross' referenced before assignment"
     ]
    }
   ],
   "source": [
    "gross = 0\n",
    "print(f'gross before func: {gross}')\n",
    "\n",
    "def calculate_weeks_pay(hours, pay):\n",
    "    print(gross)\n",
    "    gross = hours * pay\n",
    "    print(f'gross in func: {gross}')\n",
    "    net = gross * 0.90\n",
    "    return net, gross\n",
    "\n",
    "_, grosspay = calculate_weeks_pay(35, 15.25)\n",
    "print(f'gross after func call: {gross}')\n",
    "print(grosspay)"
   ]
  },
  {
   "cell_type": "code",
   "execution_count": 28,
   "metadata": {
    "scrolled": true,
    "slideshow": {
     "slide_type": "subslide"
    }
   },
   "outputs": [
    {
     "name": "stdout",
     "output_type": "stream",
     "text": [
      "gross before func: 0\n",
      "0\n",
      "gross_internal in func: 533.75\n",
      "gross after func call: 0\n",
      "533.75\n"
     ]
    }
   ],
   "source": [
    "gross = 0\n",
    "print(f'gross before func: {gross}')\n",
    "\n",
    "def calculate_weeks_pay(hours, pay):\n",
    "    print(gross)\n",
    "    gross_internal = hours * pay\n",
    "    print(f'gross_internal in func: {gross_internal}')\n",
    "    net = gross_internal * 0.90\n",
    "    return net, gross_internal\n",
    "\n",
    "_, grosspay = calculate_weeks_pay(35, 15.25)\n",
    "print(f'gross after func call: {gross}')\n",
    "print(grosspay)"
   ]
  },
  {
   "cell_type": "code",
   "execution_count": null,
   "metadata": {},
   "outputs": [],
   "source": []
  }
 ],
 "metadata": {
  "kernelspec": {
   "display_name": "Python 3",
   "language": "python",
   "name": "python3"
  },
  "language_info": {
   "codemirror_mode": {
    "name": "ipython",
    "version": 3
   },
   "file_extension": ".py",
   "mimetype": "text/x-python",
   "name": "python",
   "nbconvert_exporter": "python",
   "pygments_lexer": "ipython3",
   "version": "3.8.3"
  }
 },
 "nbformat": 4,
 "nbformat_minor": 4
}
