{
 "cells": [
  {
   "cell_type": "code",
   "execution_count": 14,
   "id": "0ffa1258",
   "metadata": {
    "slideshow": {
     "slide_type": "skip"
    }
   },
   "outputs": [],
   "source": [
    "from IPython.core.interactiveshell import InteractiveShell\n",
    "InteractiveShell.ast_node_interactivity = \"all\""
   ]
  },
  {
   "cell_type": "markdown",
   "id": "a7df407e",
   "metadata": {
    "slideshow": {
     "slide_type": "slide"
    }
   },
   "source": [
    "## Dictionaries, sets, collections"
   ]
  },
  {
   "cell_type": "markdown",
   "id": "b08e6e5d",
   "metadata": {
    "slideshow": {
     "slide_type": "slide"
    }
   },
   "source": [
    "### Creating and deleting\n",
    "\n",
    " \n",
    "- When creating two mutable objects separately, they will be guaranteed to be different. For immutable objects, this is not always true.\n",
    "- You do not need to worry about deleting objects, the interpreter will do everything for you"
   ]
  },
  {
   "cell_type": "markdown",
   "id": "8f039443",
   "metadata": {
    "slideshow": {
     "slide_type": "slide"
    }
   },
   "source": [
    "## Dictionaries\n",
    "\n",
    "Dictionary is a universal tool for expressing relationships between objects, counting, grouping.\n",
    "\n",
    "They are also called **associative arrays or hash tables**."
   ]
  },
  {
   "cell_type": "code",
   "execution_count": 22,
   "id": "46d75078",
   "metadata": {},
   "outputs": [
    {
     "data": {
      "text/plain": [
       "{'Key1': 'Value1', 'Key2': 'Value2'}"
      ]
     },
     "execution_count": 22,
     "metadata": {},
     "output_type": "execute_result"
    }
   ],
   "source": [
    "a = {'Key1' : 'Value1', 'Key2' : 'Value2'}\n",
    "a"
   ]
  },
  {
   "cell_type": "code",
   "execution_count": 2,
   "id": "4f6ca7e7",
   "metadata": {
    "slideshow": {
     "slide_type": "subslide"
    }
   },
   "outputs": [
    {
     "data": {
      "text/plain": [
       "{1: 1, 2: 4, 3: 9}"
      ]
     },
     "execution_count": 2,
     "metadata": {},
     "output_type": "execute_result"
    }
   ],
   "source": [
    "b = dict([(1, 1), (2, 4), (3, 9)])\n",
    "b"
   ]
  },
  {
   "cell_type": "markdown",
   "id": "6115c7e3",
   "metadata": {},
   "source": [
    "#### Note: after restarting the interpreter, complex objects (for example, strings) will have a different hash value"
   ]
  },
  {
   "cell_type": "markdown",
   "id": "4133ed3d",
   "metadata": {
    "slideshow": {
     "slide_type": "subslide"
    }
   },
   "source": [
    "lists in Python are not hashable"
   ]
  },
  {
   "cell_type": "code",
   "execution_count": 3,
   "id": "301d0c41",
   "metadata": {},
   "outputs": [
    {
     "data": {
      "text/plain": [
       "True"
      ]
     },
     "execution_count": 3,
     "metadata": {},
     "output_type": "execute_result"
    }
   ],
   "source": [
    "[1].__hash__ is None  # __hash__ method is not defined for list"
   ]
  },
  {
   "cell_type": "code",
   "execution_count": 4,
   "id": "9fd883b0",
   "metadata": {},
   "outputs": [
    {
     "data": {
      "text/plain": [
       "<method-wrapper '__hash__' of tuple object at 0x106998520>"
      ]
     },
     "execution_count": 4,
     "metadata": {},
     "output_type": "execute_result"
    }
   ],
   "source": [
    "(1,).__hash__"
   ]
  },
  {
   "cell_type": "markdown",
   "id": "cfa2daf5",
   "metadata": {
    "slideshow": {
     "slide_type": "subslide"
    }
   },
   "source": [
    "Can I use dict as a key for another dict?"
   ]
  },
  {
   "cell_type": "code",
   "execution_count": 5,
   "id": "45df0cc2",
   "metadata": {},
   "outputs": [
    {
     "ename": "TypeError",
     "evalue": "unhashable type: 'dict'",
     "output_type": "error",
     "traceback": [
      "\u001b[0;31m---------------------------------------------------------------------------\u001b[0m",
      "\u001b[0;31mTypeError\u001b[0m                                 Traceback (most recent call last)",
      "\u001b[0;32m/var/folders/v8/2cskhqjj0_g0zp3824glf1tm0000gn/T/ipykernel_9768/2140824527.py\u001b[0m in \u001b[0;36m<module>\u001b[0;34m\u001b[0m\n\u001b[1;32m      1\u001b[0m \u001b[0md1\u001b[0m \u001b[0;34m=\u001b[0m \u001b[0;34m{\u001b[0m\u001b[0;36m1\u001b[0m\u001b[0;34m:\u001b[0m \u001b[0;34m'b'\u001b[0m\u001b[0;34m}\u001b[0m\u001b[0;34m\u001b[0m\u001b[0;34m\u001b[0m\u001b[0m\n\u001b[0;32m----> 2\u001b[0;31m \u001b[0md2\u001b[0m \u001b[0;34m=\u001b[0m \u001b[0;34m{\u001b[0m\u001b[0md1\u001b[0m\u001b[0;34m:\u001b[0m \u001b[0;34m'abc'\u001b[0m\u001b[0;34m}\u001b[0m\u001b[0;34m\u001b[0m\u001b[0;34m\u001b[0m\u001b[0m\n\u001b[0m",
      "\u001b[0;31mTypeError\u001b[0m: unhashable type: 'dict'"
     ]
    }
   ],
   "source": [
    "d1 = {1: 'b'}\n",
    "d2 = {d1: 'abc'}"
   ]
  },
  {
   "cell_type": "code",
   "execution_count": 6,
   "id": "c77c64bd",
   "metadata": {
    "slideshow": {
     "slide_type": "subslide"
    }
   },
   "outputs": [
    {
     "data": {
      "text/plain": [
       "True"
      ]
     },
     "execution_count": 6,
     "metadata": {},
     "output_type": "execute_result"
    }
   ],
   "source": [
    "{1: 'b'}.__hash__ is None  # dict is also not hashable"
   ]
  },
  {
   "cell_type": "markdown",
   "id": "2ea99bb8",
   "metadata": {
    "slideshow": {
     "slide_type": "subslide"
    }
   },
   "source": [
    "You can iterate through the dictionary, both by key and by value."
   ]
  },
  {
   "cell_type": "code",
   "execution_count": 9,
   "id": "934ad137",
   "metadata": {},
   "outputs": [
    {
     "name": "stdout",
     "output_type": "stream",
     "text": [
      "dict_keys(['a', 'b', 'c'])\n",
      "<class 'dict_keys'>\n",
      "aaa\n",
      "a\n",
      "bbb\n",
      "b\n",
      "ccc\n",
      "c\n",
      "\n",
      "{'a': 1, 'b': 2, 'c': 3}\n",
      "<class 'dict'>\n",
      "a\n",
      "b\n",
      "c\n"
     ]
    }
   ],
   "source": [
    "# iterating\n",
    "dictionary = {'a': 1, 'b': 2, 'c': 3}\n",
    "\n",
    "\n",
    "print(dictionary.keys(), type(dictionary.keys()), sep='\\n')\n",
    "for k in dictionary.keys():\n",
    "    print(k * 3)\n",
    "    print(k)\n",
    "    \n",
    "print()\n",
    "\n",
    "\n",
    "print(dictionary, type(dictionary), sep='\\n')\n",
    "for k in dictionary:  # equivalent to iterating by keys but Python Zen says explicit is better than implicit\n",
    "    print(k)          # that's why it's better to add \".keys()\" in order to improve your code readability\n",
    "                      # too readable code hasn’t hurt anyone yet\n",
    "        \n",
    "# always keep order in mind!"
   ]
  },
  {
   "cell_type": "code",
   "execution_count": 10,
   "id": "9de68fff",
   "metadata": {
    "slideshow": {
     "slide_type": "subslide"
    }
   },
   "outputs": [
    {
     "name": "stdout",
     "output_type": "stream",
     "text": [
      "dict_values([1, 2, 3])\n",
      "<class 'dict_values'>\n",
      "1\n",
      "2\n",
      "3\n"
     ]
    }
   ],
   "source": [
    "print(dictionary.values(), type(dictionary.values()), sep='\\n')\n",
    "for v in dictionary.values(): # iterating by values\n",
    "    print(v)"
   ]
  },
  {
   "cell_type": "code",
   "execution_count": 12,
   "id": "f3cdc624",
   "metadata": {},
   "outputs": [
    {
     "name": "stdout",
     "output_type": "stream",
     "text": [
      "('a', 1)\n",
      "('b', 2)\n",
      "('c', 3)\n",
      "dict_items([('a', 1), ('b', 2), ('c', 3)])\n",
      "<class 'dict_items'>\n",
      "a 1\n",
      "b 2\n",
      "c 3\n"
     ]
    }
   ],
   "source": [
    "for pair in dictionary.items(): # iterating by key-value pairs\n",
    "    print(pair)\n",
    "    \n",
    "print(dictionary.items(), type(dictionary.items()), sep='\\n')\n",
    "    \n",
    "for key, value in dictionary.items(): # iterating by key-value pairs\n",
    "    print(key, value)"
   ]
  },
  {
   "cell_type": "code",
   "execution_count": 16,
   "id": "114601af",
   "metadata": {
    "slideshow": {
     "slide_type": "subslide"
    }
   },
   "outputs": [
    {
     "data": {
      "text/plain": [
       "{'a': 1, 'b': 2, 'c': 3}"
      ]
     },
     "execution_count": 16,
     "metadata": {},
     "output_type": "execute_result"
    },
    {
     "data": {
      "text/plain": [
       "[('Petya', 20), ('Vasya', 21), ('Masha', 22)]"
      ]
     },
     "execution_count": 16,
     "metadata": {},
     "output_type": "execute_result"
    },
    {
     "data": {
      "text/plain": [
       "{'Petya': 20, 'Vasya': 21, 'Masha': 22}"
      ]
     },
     "execution_count": 16,
     "metadata": {},
     "output_type": "execute_result"
    }
   ],
   "source": [
    "# constructors:\n",
    "a = dict(a=1, b=2, c=3)\n",
    "a\n",
    "keys = [\"Petya\", \"Vasya\", \"Masha\"]\n",
    "values = [20, 21, 22]\n",
    "\n",
    "dictionary = dict(zip(keys, values)) # probably the most convenient way to create a dict from two lists \n",
    "                                     # we will talk about zip() function later\n",
    "\n",
    "list(zip(keys, values))    \n",
    "    \n",
    "dictionary"
   ]
  },
  {
   "cell_type": "code",
   "execution_count": 17,
   "id": "9fc1074a",
   "metadata": {
    "slideshow": {
     "slide_type": "subslide"
    }
   },
   "outputs": [
    {
     "name": "stdout",
     "output_type": "stream",
     "text": [
      "['a', 'b', 'c']\n",
      "[1, 2, 3]\n",
      "[('a', 1), ('b', 2), ('c', 3)]\n"
     ]
    }
   ],
   "source": [
    "print(list(a.keys()))\n",
    "print(list(a.values()))\n",
    "print(list(a.items()))"
   ]
  },
  {
   "cell_type": "code",
   "execution_count": 18,
   "id": "836a6880",
   "metadata": {},
   "outputs": [
    {
     "data": {
      "text/plain": [
       "{'Petya': 20, 'Masha': 22}"
      ]
     },
     "execution_count": 18,
     "metadata": {},
     "output_type": "execute_result"
    }
   ],
   "source": [
    "del dictionary['Vasya']\n",
    "dictionary"
   ]
  },
  {
   "cell_type": "code",
   "execution_count": 23,
   "id": "b26fe625",
   "metadata": {
    "slideshow": {
     "slide_type": "-"
    }
   },
   "outputs": [
    {
     "name": "stdout",
     "output_type": "stream",
     "text": [
      "{'Key1': 'Value1', 'Key2': 'Value2'}\n"
     ]
    },
    {
     "data": {
      "text/plain": [
       "dict"
      ]
     },
     "execution_count": 23,
     "metadata": {},
     "output_type": "execute_result"
    },
    {
     "data": {
      "text/plain": [
       "{'Key1': 'Value1', 'Key2': 'Value2', 'Petya': 20, 'Masha': 22}"
      ]
     },
     "execution_count": 23,
     "metadata": {},
     "output_type": "execute_result"
    }
   ],
   "source": [
    "print(a)\n",
    "type(a)\n",
    "a.update(dictionary)  # union of two dicts\n",
    "a"
   ]
  },
  {
   "cell_type": "code",
   "execution_count": 24,
   "id": "30640369",
   "metadata": {
    "slideshow": {
     "slide_type": "subslide"
    }
   },
   "outputs": [
    {
     "data": {
      "text/plain": [
       "{'Key1': 'Value1',\n",
       " 'Key2': 'Value2',\n",
       " 'Petya': 20,\n",
       " 'Masha': 22,\n",
       " ('Composite', 'Key'): [1, 2, 3]}"
      ]
     },
     "execution_count": 24,
     "metadata": {},
     "output_type": "execute_result"
    }
   ],
   "source": [
    "a[('Composite', 'Key')] = [1, 2, 3]   # only immutable objects could be keys in dicts\n",
    "a"
   ]
  },
  {
   "cell_type": "markdown",
   "id": "dad04cd4",
   "metadata": {
    "slideshow": {
     "slide_type": "slide"
    }
   },
   "source": [
    "### Remember list comprehensions? There are also dict comprehensions!"
   ]
  },
  {
   "cell_type": "code",
   "execution_count": 25,
   "id": "4fc56637",
   "metadata": {},
   "outputs": [
    {
     "data": {
      "text/plain": [
       "[0, 1, 4, 9, 16]"
      ]
     },
     "execution_count": 25,
     "metadata": {},
     "output_type": "execute_result"
    }
   ],
   "source": [
    "[i ** 2 for i in range(5)]"
   ]
  },
  {
   "cell_type": "code",
   "execution_count": 27,
   "id": "29d03c26",
   "metadata": {},
   "outputs": [
    {
     "data": {
      "text/plain": [
       "{0: 'namenamename',\n",
       " 1: 'namenamename',\n",
       " 2: 'namenamename',\n",
       " 3: 'namenamename',\n",
       " 4: 'namenamename'}"
      ]
     },
     "execution_count": 27,
     "metadata": {},
     "output_type": "execute_result"
    }
   ],
   "source": [
    "x = 'name'\n",
    "dct = {i : x * 3 for i in range(5)}\n",
    "dct"
   ]
  },
  {
   "cell_type": "code",
   "execution_count": 29,
   "id": "a39d79f0",
   "metadata": {},
   "outputs": [
    {
     "name": "stdout",
     "output_type": "stream",
     "text": [
      "Help on method_descriptor:\n",
      "\n",
      "get(self, key, default=None, /)\n",
      "    Return the value for key if key is in the dictionary, else default.\n",
      "\n"
     ]
    }
   ],
   "source": [
    "help(dict.get)"
   ]
  },
  {
   "cell_type": "code",
   "execution_count": 30,
   "id": "d8449266",
   "metadata": {},
   "outputs": [
    {
     "name": "stdout",
     "output_type": "stream",
     "text": [
      "Help on method_descriptor:\n",
      "\n",
      "setdefault(self, key, default=None, /)\n",
      "    Insert key with a value of default if key is not in the dictionary.\n",
      "    \n",
      "    Return the value for key if key is in the dictionary, else default.\n",
      "\n"
     ]
    }
   ],
   "source": [
    "help(dict.setdefault)"
   ]
  },
  {
   "cell_type": "code",
   "execution_count": 31,
   "id": "bedcc6e0",
   "metadata": {
    "slideshow": {
     "slide_type": "subslide"
    }
   },
   "outputs": [
    {
     "name": "stdout",
     "output_type": "stream",
     "text": [
      "not found default\n",
      "6 6\n"
     ]
    }
   ],
   "source": [
    "# Handling the unknown carefully\n",
    "\n",
    "dct = {1:2, 3:4}\n",
    "\n",
    "key = 5\n",
    "\n",
    "res1 = dct.get(key,'not found')\n",
    "res2 = dct.setdefault(key, 'default')\n",
    "\n",
    "print(res1, res2)\n",
    "\n",
    "dct = {1: 2, 3: 4, 5: 6}\n",
    "\n",
    "res1 = dct.get(key,'not found')\n",
    "res2 = dct.setdefault(key, 'default')\n",
    "\n",
    "print(res1, res2)"
   ]
  },
  {
   "cell_type": "markdown",
   "id": "38674528",
   "metadata": {
    "slideshow": {
     "slide_type": "slide"
    }
   },
   "source": [
    "### Sets\n",
    "Sets are also based on hash-tables"
   ]
  },
  {
   "cell_type": "code",
   "execution_count": 33,
   "id": "d1d1cd24",
   "metadata": {},
   "outputs": [
    {
     "name": "stdout",
     "output_type": "stream",
     "text": [
      "add\n",
      "clear\n",
      "copy\n",
      "difference\n",
      "difference_update\n",
      "discard\n",
      "intersection\n",
      "intersection_update\n",
      "isdisjoint\n",
      "issubset\n",
      "issuperset\n",
      "pop\n",
      "remove\n",
      "symmetric_difference\n",
      "symmetric_difference_update\n",
      "union\n",
      "update\n"
     ]
    }
   ],
   "source": [
    "print(*[name for name in dir(set) if not name.startswith('_')], sep='\\n')"
   ]
  },
  {
   "cell_type": "code",
   "execution_count": 36,
   "id": "1fe0edc2",
   "metadata": {},
   "outputs": [
    {
     "name": "stdout",
     "output_type": "stream",
     "text": [
      "a = {1, 2, 3}, b = {2, 3, 4}\n",
      "a = {1, 2, 3, 5}, b = {2, 3, 4, 5, 6}\n"
     ]
    }
   ],
   "source": [
    "a = {1, 2, 3}\n",
    "b = set([2, 3, 4])\n",
    "print(f'a = {a}, b = {b}')\n",
    "\n",
    "a.add(5)\n",
    "b.update({5, 6}) # update b with an argument set (union of b and an argument, the result is stored in b)\n",
    "print(f'a = {a}, b = {b}')"
   ]
  },
  {
   "cell_type": "code",
   "execution_count": 38,
   "id": "6680b7dc",
   "metadata": {},
   "outputs": [],
   "source": [
    "s = {1, 2}\n",
    "t = {1, 2, 3, 4}"
   ]
  },
  {
   "cell_type": "code",
   "execution_count": 40,
   "id": "c3551a89",
   "metadata": {},
   "outputs": [
    {
     "data": {
      "text/plain": [
       "'name'"
      ]
     },
     "execution_count": 40,
     "metadata": {},
     "output_type": "execute_result"
    }
   ],
   "source": [
    "x"
   ]
  },
  {
   "cell_type": "code",
   "execution_count": 39,
   "id": "1a563953",
   "metadata": {
    "slideshow": {
     "slide_type": "subslide"
    }
   },
   "outputs": [
    {
     "data": {
      "text/plain": [
       "False"
      ]
     },
     "execution_count": 39,
     "metadata": {},
     "output_type": "execute_result"
    },
    {
     "data": {
      "text/plain": [
       "True"
      ]
     },
     "execution_count": 39,
     "metadata": {},
     "output_type": "execute_result"
    },
    {
     "data": {
      "text/plain": [
       "True"
      ]
     },
     "execution_count": 39,
     "metadata": {},
     "output_type": "execute_result"
    },
    {
     "data": {
      "text/plain": [
       "False"
      ]
     },
     "execution_count": 39,
     "metadata": {},
     "output_type": "execute_result"
    }
   ],
   "source": [
    "x in s\n",
    "x not in s\n",
    "s.issubset(t)   #equivalent to s <= t\n",
    "s.issuperset(t) #equivalent to s >= t"
   ]
  },
  {
   "cell_type": "code",
   "execution_count": 42,
   "id": "d3149cfe",
   "metadata": {
    "slideshow": {
     "slide_type": "subslide"
    }
   },
   "outputs": [
    {
     "name": "stdout",
     "output_type": "stream",
     "text": [
      "a = {1, 2, 3, 5}, b = {2, 3, 4, 5, 6}\n",
      "{1}\n",
      "{4, 6}\n",
      "{1, 2, 3, 4, 5, 6}\n",
      "{2, 3, 5}\n",
      "{1, 4, 6}\n"
     ]
    }
   ],
   "source": [
    "print(f'a = {a}, b = {b}')\n",
    "print(a - b)\n",
    "print(b - a)\n",
    "print(a | b) # union\n",
    "print(a & b) # intersection\n",
    "print(a ^ b) # ~ XOR"
   ]
  },
  {
   "cell_type": "code",
   "execution_count": 43,
   "id": "cb9731d4",
   "metadata": {},
   "outputs": [
    {
     "data": {
      "text/plain": [
       "{1}"
      ]
     },
     "execution_count": 43,
     "metadata": {},
     "output_type": "execute_result"
    },
    {
     "data": {
      "text/plain": [
       "{1, 2, 3, 4, 5, 6}"
      ]
     },
     "execution_count": 43,
     "metadata": {},
     "output_type": "execute_result"
    },
    {
     "data": {
      "text/plain": [
       "{2, 3, 5}"
      ]
     },
     "execution_count": 43,
     "metadata": {},
     "output_type": "execute_result"
    },
    {
     "data": {
      "text/plain": [
       "{1, 4, 6}"
      ]
     },
     "execution_count": 43,
     "metadata": {},
     "output_type": "execute_result"
    }
   ],
   "source": [
    "a.difference(b)             # a - b\n",
    "a.union(b)                  # a | b\n",
    "a.intersection(b)           # a & b\n",
    "a.symmetric_difference(b)   # a ^ b\n",
    "\n",
    "a.difference_update(b)            # a -= b\n",
    "a.update(b)                       # a |= b\n",
    "a.intersection_update(b)          # a &= b\n",
    "a.symmetric_difference_update(b)  # a ^= b"
   ]
  },
  {
   "cell_type": "code",
   "execution_count": 44,
   "id": "7f344a0e",
   "metadata": {
    "slideshow": {
     "slide_type": "subslide"
    }
   },
   "outputs": [
    {
     "ename": "KeyError",
     "evalue": "3",
     "output_type": "error",
     "traceback": [
      "\u001b[0;31m---------------------------------------------------------------------------\u001b[0m",
      "\u001b[0;31mKeyError\u001b[0m                                  Traceback (most recent call last)",
      "\u001b[0;32m/var/folders/v8/2cskhqjj0_g0zp3824glf1tm0000gn/T/ipykernel_9768/4187829288.py\u001b[0m in \u001b[0;36m<module>\u001b[0;34m\u001b[0m\n\u001b[1;32m      1\u001b[0m \u001b[0ma\u001b[0m \u001b[0;34m=\u001b[0m \u001b[0;34m{\u001b[0m\u001b[0;36m1\u001b[0m\u001b[0;34m,\u001b[0m \u001b[0;36m2\u001b[0m\u001b[0;34m,\u001b[0m \u001b[0;36m3\u001b[0m\u001b[0;34m}\u001b[0m\u001b[0;34m\u001b[0m\u001b[0;34m\u001b[0m\u001b[0m\n\u001b[1;32m      2\u001b[0m \u001b[0ma\u001b[0m\u001b[0;34m.\u001b[0m\u001b[0mremove\u001b[0m\u001b[0;34m(\u001b[0m\u001b[0;36m3\u001b[0m\u001b[0;34m)\u001b[0m\u001b[0;34m\u001b[0m\u001b[0;34m\u001b[0m\u001b[0m\n\u001b[0;32m----> 3\u001b[0;31m \u001b[0ma\u001b[0m\u001b[0;34m.\u001b[0m\u001b[0mremove\u001b[0m\u001b[0;34m(\u001b[0m\u001b[0;36m3\u001b[0m\u001b[0;34m)\u001b[0m\u001b[0;34m\u001b[0m\u001b[0;34m\u001b[0m\u001b[0m\n\u001b[0m",
      "\u001b[0;31mKeyError\u001b[0m: 3"
     ]
    }
   ],
   "source": [
    "a = {1, 2, 3}\n",
    "a.remove(3)\n",
    "a.remove(3)"
   ]
  },
  {
   "cell_type": "code",
   "execution_count": 46,
   "id": "1e961a9b",
   "metadata": {},
   "outputs": [
    {
     "name": "stdout",
     "output_type": "stream",
     "text": [
      "Help on method_descriptor:\n",
      "\n",
      "discard(...)\n",
      "    Remove an element from a set if it is a member.\n",
      "    \n",
      "    If the element is not a member, do nothing.\n",
      "\n"
     ]
    }
   ],
   "source": [
    "help(set.discard)"
   ]
  },
  {
   "cell_type": "code",
   "execution_count": 45,
   "id": "ed457d7e",
   "metadata": {},
   "outputs": [
    {
     "data": {
      "text/plain": [
       "{1, 2}"
      ]
     },
     "execution_count": 45,
     "metadata": {},
     "output_type": "execute_result"
    }
   ],
   "source": [
    "a = {1,2,3}\n",
    "a.discard(3)\n",
    "a.discard(3)\n",
    "a"
   ]
  },
  {
   "cell_type": "markdown",
   "id": "e820e84b",
   "metadata": {
    "slideshow": {
     "slide_type": "slide"
    }
   },
   "source": [
    "There are also set comprehensions"
   ]
  },
  {
   "cell_type": "code",
   "execution_count": 48,
   "id": "4db26428",
   "metadata": {},
   "outputs": [
    {
     "data": {
      "text/plain": [
       "generator"
      ]
     },
     "execution_count": 48,
     "metadata": {},
     "output_type": "execute_result"
    }
   ],
   "source": [
    "type(i for i in range(10) if not i % 3)"
   ]
  },
  {
   "cell_type": "code",
   "execution_count": 47,
   "id": "83b54d29",
   "metadata": {},
   "outputs": [
    {
     "data": {
      "text/plain": [
       "{0, 3, 6, 9}"
      ]
     },
     "execution_count": 47,
     "metadata": {},
     "output_type": "execute_result"
    }
   ],
   "source": [
    "st = {i for i in range(10) if not i % 3}\n",
    "st"
   ]
  },
  {
   "cell_type": "code",
   "execution_count": 49,
   "id": "f81b6eb4",
   "metadata": {
    "slideshow": {
     "slide_type": "subslide"
    }
   },
   "outputs": [
    {
     "ename": "TypeError",
     "evalue": "unhashable type: 'set'",
     "output_type": "error",
     "traceback": [
      "\u001b[0;31m---------------------------------------------------------------------------\u001b[0m",
      "\u001b[0;31mTypeError\u001b[0m                                 Traceback (most recent call last)",
      "\u001b[0;32m/var/folders/v8/2cskhqjj0_g0zp3824glf1tm0000gn/T/ipykernel_9768/2921702154.py\u001b[0m in \u001b[0;36m<module>\u001b[0;34m\u001b[0m\n\u001b[0;32m----> 1\u001b[0;31m \u001b[0md\u001b[0m \u001b[0;34m=\u001b[0m \u001b[0;34m{\u001b[0m\u001b[0mst\u001b[0m\u001b[0;34m:\u001b[0m \u001b[0;36m1\u001b[0m\u001b[0;34m}\u001b[0m \u001b[0;31m# sets are also not hashable\u001b[0m\u001b[0;34m\u001b[0m\u001b[0;34m\u001b[0m\u001b[0m\n\u001b[0m",
      "\u001b[0;31mTypeError\u001b[0m: unhashable type: 'set'"
     ]
    }
   ],
   "source": [
    "d = {st: 1} # sets are also not hashable"
   ]
  },
  {
   "cell_type": "code",
   "execution_count": 51,
   "id": "45dc3422",
   "metadata": {},
   "outputs": [
    {
     "data": {
      "text/plain": [
       "frozenset({0, 3, 6, 9})"
      ]
     },
     "execution_count": 51,
     "metadata": {},
     "output_type": "execute_result"
    },
    {
     "data": {
      "text/plain": [
       "frozenset"
      ]
     },
     "execution_count": 51,
     "metadata": {},
     "output_type": "execute_result"
    }
   ],
   "source": [
    "frozenset(st)\n",
    "type(frozenset(st))"
   ]
  },
  {
   "cell_type": "code",
   "execution_count": 52,
   "id": "b08edafd",
   "metadata": {},
   "outputs": [
    {
     "data": {
      "text/plain": [
       "{frozenset({0, 3, 6, 9}): 6}"
      ]
     },
     "execution_count": 52,
     "metadata": {},
     "output_type": "execute_result"
    }
   ],
   "source": [
    "d = {frozenset(st): 6}  # but there is a type frozenset that you actually can hash (because it's immutable!)\n",
    "d"
   ]
  },
  {
   "cell_type": "markdown",
   "id": "99bfadc7",
   "metadata": {
    "slideshow": {
     "slide_type": "slide"
    }
   },
   "source": [
    "### collections\n",
    "\n",
    "The objects in Collections are dictionaries modified for different needs and some other convenient data structures.\n",
    "\n",
    "A good overview of the collections module can be read [here](https://pythonworld.ru/moduli/modul-collections.html) "
   ]
  },
  {
   "cell_type": "code",
   "execution_count": 53,
   "id": "43932572",
   "metadata": {},
   "outputs": [],
   "source": [
    "import collections"
   ]
  },
  {
   "cell_type": "code",
   "execution_count": 54,
   "id": "bc3bb5e7",
   "metadata": {},
   "outputs": [
    {
     "name": "stdout",
     "output_type": "stream",
     "text": [
      "ChainMap\n",
      "Counter\n",
      "OrderedDict\n",
      "UserDict\n",
      "UserList\n",
      "UserString\n",
      "abc\n",
      "defaultdict\n",
      "deque\n",
      "namedtuple\n"
     ]
    }
   ],
   "source": [
    "print(*[name for name in dir(collections) if not name.startswith('_')], sep='\\n')"
   ]
  },
  {
   "cell_type": "code",
   "execution_count": 55,
   "id": "253c039d",
   "metadata": {},
   "outputs": [
    {
     "data": {
      "text/plain": [
       "['In',\n",
       " 'InteractiveShell',\n",
       " 'Out',\n",
       " '_',\n",
       " '_1',\n",
       " '_13',\n",
       " '_15',\n",
       " '_16',\n",
       " '_18',\n",
       " '_19',\n",
       " '_2',\n",
       " '_20',\n",
       " '_21',\n",
       " '_22',\n",
       " '_23',\n",
       " '_24',\n",
       " '_25',\n",
       " '_26',\n",
       " '_27',\n",
       " '_3',\n",
       " '_32',\n",
       " '_34',\n",
       " '_35',\n",
       " '_39',\n",
       " '_4',\n",
       " '_40',\n",
       " '_43',\n",
       " '_45',\n",
       " '_47',\n",
       " '_48',\n",
       " '_50',\n",
       " '_51',\n",
       " '_52',\n",
       " '_6',\n",
       " '__',\n",
       " '___',\n",
       " '__builtin__',\n",
       " '__builtins__',\n",
       " '__doc__',\n",
       " '__loader__',\n",
       " '__name__',\n",
       " '__package__',\n",
       " '__spec__',\n",
       " '_dh',\n",
       " '_i',\n",
       " '_i1',\n",
       " '_i10',\n",
       " '_i11',\n",
       " '_i12',\n",
       " '_i13',\n",
       " '_i14',\n",
       " '_i15',\n",
       " '_i16',\n",
       " '_i17',\n",
       " '_i18',\n",
       " '_i19',\n",
       " '_i2',\n",
       " '_i20',\n",
       " '_i21',\n",
       " '_i22',\n",
       " '_i23',\n",
       " '_i24',\n",
       " '_i25',\n",
       " '_i26',\n",
       " '_i27',\n",
       " '_i28',\n",
       " '_i29',\n",
       " '_i3',\n",
       " '_i30',\n",
       " '_i31',\n",
       " '_i32',\n",
       " '_i33',\n",
       " '_i34',\n",
       " '_i35',\n",
       " '_i36',\n",
       " '_i37',\n",
       " '_i38',\n",
       " '_i39',\n",
       " '_i4',\n",
       " '_i40',\n",
       " '_i41',\n",
       " '_i42',\n",
       " '_i43',\n",
       " '_i44',\n",
       " '_i45',\n",
       " '_i46',\n",
       " '_i47',\n",
       " '_i48',\n",
       " '_i49',\n",
       " '_i5',\n",
       " '_i50',\n",
       " '_i51',\n",
       " '_i52',\n",
       " '_i53',\n",
       " '_i54',\n",
       " '_i55',\n",
       " '_i6',\n",
       " '_i7',\n",
       " '_i8',\n",
       " '_i9',\n",
       " '_ih',\n",
       " '_ii',\n",
       " '_iii',\n",
       " '_oh',\n",
       " 'a',\n",
       " 'b',\n",
       " 'collections',\n",
       " 'd',\n",
       " 'd1',\n",
       " 'dct',\n",
       " 'dictionary',\n",
       " 'exit',\n",
       " 'get_ipython',\n",
       " 'k',\n",
       " 'key',\n",
       " 'keys',\n",
       " 'pair',\n",
       " 'quit',\n",
       " 'res1',\n",
       " 'res2',\n",
       " 's',\n",
       " 'st',\n",
       " 't',\n",
       " 'v',\n",
       " 'value',\n",
       " 'values',\n",
       " 'x']"
      ]
     },
     "execution_count": 55,
     "metadata": {},
     "output_type": "execute_result"
    }
   ],
   "source": [
    "dir()"
   ]
  },
  {
   "cell_type": "code",
   "execution_count": 60,
   "id": "d6a51559",
   "metadata": {},
   "outputs": [
    {
     "data": {
      "text/plain": [
       "'Automatically created module for IPython interactive environment'"
      ]
     },
     "execution_count": 60,
     "metadata": {},
     "output_type": "execute_result"
    }
   ],
   "source": [
    "vars()['__doc__']"
   ]
  },
  {
   "cell_type": "code",
   "execution_count": 61,
   "id": "2b194edf",
   "metadata": {},
   "outputs": [
    {
     "data": {
      "text/plain": [
       "dict"
      ]
     },
     "execution_count": 61,
     "metadata": {},
     "output_type": "execute_result"
    }
   ],
   "source": [
    "type(vars())"
   ]
  },
  {
   "cell_type": "code",
   "execution_count": 62,
   "id": "60bb31c8",
   "metadata": {},
   "outputs": [
    {
     "name": "stdout",
     "output_type": "stream",
     "text": [
      "Help on built-in function vars in module builtins:\n",
      "\n",
      "vars(...)\n",
      "    vars([object]) -> dictionary\n",
      "    \n",
      "    Without arguments, equivalent to locals().\n",
      "    With an argument, equivalent to object.__dict__.\n",
      "\n"
     ]
    }
   ],
   "source": [
    "help(vars)"
   ]
  },
  {
   "cell_type": "code",
   "execution_count": null,
   "id": "7f43a6d2",
   "metadata": {},
   "outputs": [],
   "source": []
  }
 ],
 "metadata": {
  "kernelspec": {
   "display_name": "Python 3 (ipykernel)",
   "language": "python",
   "name": "python3"
  },
  "language_info": {
   "codemirror_mode": {
    "name": "ipython",
    "version": 3
   },
   "file_extension": ".py",
   "mimetype": "text/x-python",
   "name": "python",
   "nbconvert_exporter": "python",
   "pygments_lexer": "ipython3",
   "version": "3.8.12"
  }
 },
 "nbformat": 4,
 "nbformat_minor": 5
}
