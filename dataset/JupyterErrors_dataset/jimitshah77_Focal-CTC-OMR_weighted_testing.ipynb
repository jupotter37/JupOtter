{
 "cells": [
  {
   "cell_type": "code",
   "execution_count": 1,
   "metadata": {},
   "outputs": [],
   "source": [
    "import numpy as np\n",
    "import pandas as pd"
   ]
  },
  {
   "cell_type": "markdown",
   "metadata": {},
   "source": [
    "# Calculate the training frequency"
   ]
  },
  {
   "cell_type": "code",
   "execution_count": 2,
   "metadata": {},
   "outputs": [
    {
     "name": "stdout",
     "output_type": "stream",
     "text": [
      "1000\n"
     ]
    }
   ],
   "source": [
    "#To get the list of training samples\n",
    "f = open(\"/home/jimitcard/Desktop/OMR/data/training.txt\", \"r\")\n",
    "samples=f.read().strip().split(\"\\n\")\n",
    "print(len(samples))\n",
    "f.close()"
   ]
  },
  {
   "cell_type": "code",
   "execution_count": 3,
   "metadata": {},
   "outputs": [
    {
     "name": "stdout",
     "output_type": "stream",
     "text": [
      "60\n"
     ]
    }
   ],
   "source": [
    "#To get the list of music vocabulary\n",
    "f = open(\"/home/jimitcard/Desktop/OMR/data/vocabulary_semantic.txt\", \"r\")\n",
    "vocabulary=f.read().strip().split(\"\\n\")\n",
    "print(len(vocabulary))\n",
    "f.close()"
   ]
  },
  {
   "cell_type": "code",
   "execution_count": 4,
   "metadata": {},
   "outputs": [
    {
     "data": {
      "text/html": [
       "<div>\n",
       "<style scoped>\n",
       "    .dataframe tbody tr th:only-of-type {\n",
       "        vertical-align: middle;\n",
       "    }\n",
       "\n",
       "    .dataframe tbody tr th {\n",
       "        vertical-align: top;\n",
       "    }\n",
       "\n",
       "    .dataframe thead th {\n",
       "        text-align: right;\n",
       "    }\n",
       "</style>\n",
       "<table border=\"1\" class=\"dataframe\">\n",
       "  <thead>\n",
       "    <tr style=\"text-align: right;\">\n",
       "      <th></th>\n",
       "      <th>rest-half</th>\n",
       "      <th>note-G4_quarter</th>\n",
       "      <th>note-C5_quarter</th>\n",
       "      <th>note-A4_quarter</th>\n",
       "      <th>keySignature-GM</th>\n",
       "      <th>timeSignature-3/8</th>\n",
       "      <th>timeSignature-3/4</th>\n",
       "      <th>note-F5_quarter</th>\n",
       "      <th>keySignature-EbM</th>\n",
       "      <th>timeSignature-2/4</th>\n",
       "      <th>...</th>\n",
       "      <th>note-B4_quarter</th>\n",
       "      <th>note-E4_sixteenth</th>\n",
       "      <th>note-C4_eighth</th>\n",
       "      <th>note-G5_quarter</th>\n",
       "      <th>note-A4_eighth</th>\n",
       "      <th>note-A5_eighth</th>\n",
       "      <th>rest-quarter</th>\n",
       "      <th>note-Bb4_quarter</th>\n",
       "      <th>note-D5_sixteenth</th>\n",
       "      <th>note-D4_sixteenth</th>\n",
       "    </tr>\n",
       "  </thead>\n",
       "  <tbody>\n",
       "    <tr>\n",
       "      <th>000138782-1_3_1</th>\n",
       "      <td>0</td>\n",
       "      <td>0</td>\n",
       "      <td>1</td>\n",
       "      <td>0</td>\n",
       "      <td>1</td>\n",
       "      <td>0</td>\n",
       "      <td>0</td>\n",
       "      <td>0</td>\n",
       "      <td>0</td>\n",
       "      <td>1</td>\n",
       "      <td>...</td>\n",
       "      <td>1</td>\n",
       "      <td>0</td>\n",
       "      <td>0</td>\n",
       "      <td>0</td>\n",
       "      <td>1</td>\n",
       "      <td>1</td>\n",
       "      <td>0</td>\n",
       "      <td>0</td>\n",
       "      <td>0</td>\n",
       "      <td>0</td>\n",
       "    </tr>\n",
       "    <tr>\n",
       "      <th>000119138-1_1_1</th>\n",
       "      <td>0</td>\n",
       "      <td>0</td>\n",
       "      <td>0</td>\n",
       "      <td>0</td>\n",
       "      <td>0</td>\n",
       "      <td>0</td>\n",
       "      <td>0</td>\n",
       "      <td>0</td>\n",
       "      <td>0</td>\n",
       "      <td>0</td>\n",
       "      <td>...</td>\n",
       "      <td>0</td>\n",
       "      <td>0</td>\n",
       "      <td>0</td>\n",
       "      <td>0</td>\n",
       "      <td>0</td>\n",
       "      <td>0</td>\n",
       "      <td>2</td>\n",
       "      <td>0</td>\n",
       "      <td>1</td>\n",
       "      <td>0</td>\n",
       "    </tr>\n",
       "    <tr>\n",
       "      <th>000126788-1_1_1</th>\n",
       "      <td>0</td>\n",
       "      <td>0</td>\n",
       "      <td>1</td>\n",
       "      <td>0</td>\n",
       "      <td>0</td>\n",
       "      <td>0</td>\n",
       "      <td>0</td>\n",
       "      <td>1</td>\n",
       "      <td>0</td>\n",
       "      <td>1</td>\n",
       "      <td>...</td>\n",
       "      <td>0</td>\n",
       "      <td>0</td>\n",
       "      <td>0</td>\n",
       "      <td>0</td>\n",
       "      <td>2</td>\n",
       "      <td>0</td>\n",
       "      <td>0</td>\n",
       "      <td>0</td>\n",
       "      <td>0</td>\n",
       "      <td>0</td>\n",
       "    </tr>\n",
       "    <tr>\n",
       "      <th>000102137-1_1_1</th>\n",
       "      <td>0</td>\n",
       "      <td>0</td>\n",
       "      <td>0</td>\n",
       "      <td>0</td>\n",
       "      <td>0</td>\n",
       "      <td>0</td>\n",
       "      <td>0</td>\n",
       "      <td>0</td>\n",
       "      <td>0</td>\n",
       "      <td>0</td>\n",
       "      <td>...</td>\n",
       "      <td>0</td>\n",
       "      <td>0</td>\n",
       "      <td>0</td>\n",
       "      <td>0</td>\n",
       "      <td>0</td>\n",
       "      <td>0</td>\n",
       "      <td>2</td>\n",
       "      <td>0</td>\n",
       "      <td>0</td>\n",
       "      <td>0</td>\n",
       "    </tr>\n",
       "    <tr>\n",
       "      <th>000107315-1_1_1</th>\n",
       "      <td>0</td>\n",
       "      <td>0</td>\n",
       "      <td>0</td>\n",
       "      <td>0</td>\n",
       "      <td>0</td>\n",
       "      <td>0</td>\n",
       "      <td>0</td>\n",
       "      <td>0</td>\n",
       "      <td>0</td>\n",
       "      <td>0</td>\n",
       "      <td>...</td>\n",
       "      <td>0</td>\n",
       "      <td>0</td>\n",
       "      <td>0</td>\n",
       "      <td>0</td>\n",
       "      <td>4</td>\n",
       "      <td>1</td>\n",
       "      <td>0</td>\n",
       "      <td>0</td>\n",
       "      <td>0</td>\n",
       "      <td>0</td>\n",
       "    </tr>\n",
       "  </tbody>\n",
       "</table>\n",
       "<p>5 rows × 60 columns</p>\n",
       "</div>"
      ],
      "text/plain": [
       "                 rest-half  note-G4_quarter  note-C5_quarter  note-A4_quarter  \\\n",
       "000138782-1_3_1          0                0                1                0   \n",
       "000119138-1_1_1          0                0                0                0   \n",
       "000126788-1_1_1          0                0                1                0   \n",
       "000102137-1_1_1          0                0                0                0   \n",
       "000107315-1_1_1          0                0                0                0   \n",
       "\n",
       "                 keySignature-GM  timeSignature-3/8  timeSignature-3/4  \\\n",
       "000138782-1_3_1                1                  0                  0   \n",
       "000119138-1_1_1                0                  0                  0   \n",
       "000126788-1_1_1                0                  0                  0   \n",
       "000102137-1_1_1                0                  0                  0   \n",
       "000107315-1_1_1                0                  0                  0   \n",
       "\n",
       "                 note-F5_quarter  keySignature-EbM  timeSignature-2/4  ...  \\\n",
       "000138782-1_3_1                0                 0                  1  ...   \n",
       "000119138-1_1_1                0                 0                  0  ...   \n",
       "000126788-1_1_1                1                 0                  1  ...   \n",
       "000102137-1_1_1                0                 0                  0  ...   \n",
       "000107315-1_1_1                0                 0                  0  ...   \n",
       "\n",
       "                 note-B4_quarter  note-E4_sixteenth  note-C4_eighth  \\\n",
       "000138782-1_3_1                1                  0               0   \n",
       "000119138-1_1_1                0                  0               0   \n",
       "000126788-1_1_1                0                  0               0   \n",
       "000102137-1_1_1                0                  0               0   \n",
       "000107315-1_1_1                0                  0               0   \n",
       "\n",
       "                 note-G5_quarter  note-A4_eighth  note-A5_eighth  \\\n",
       "000138782-1_3_1                0               1               1   \n",
       "000119138-1_1_1                0               0               0   \n",
       "000126788-1_1_1                0               2               0   \n",
       "000102137-1_1_1                0               0               0   \n",
       "000107315-1_1_1                0               4               1   \n",
       "\n",
       "                 rest-quarter  note-Bb4_quarter  note-D5_sixteenth  \\\n",
       "000138782-1_3_1             0                 0                  0   \n",
       "000119138-1_1_1             2                 0                  1   \n",
       "000126788-1_1_1             0                 0                  0   \n",
       "000102137-1_1_1             2                 0                  0   \n",
       "000107315-1_1_1             0                 0                  0   \n",
       "\n",
       "                 note-D4_sixteenth  \n",
       "000138782-1_3_1                  0  \n",
       "000119138-1_1_1                  0  \n",
       "000126788-1_1_1                  0  \n",
       "000102137-1_1_1                  0  \n",
       "000107315-1_1_1                  0  \n",
       "\n",
       "[5 rows x 60 columns]"
      ]
     },
     "execution_count": 4,
     "metadata": {},
     "output_type": "execute_result"
    }
   ],
   "source": [
    "#now create a pandas with samples and vocab and populate it for frequency\n",
    "training_df = pd.DataFrame(index=samples, columns=vocabulary)\n",
    "training_df = training_df.fillna(0) # with 0s rather than NaNs\n",
    "for sample in samples:\n",
    "    f = open(\"/home/jimitcard/Desktop/OMR/sampled_1250/\"+sample+\"/\"+sample+\".semantic\", \"r\")\n",
    "    notes=f.read().strip().split(\"\\t\")\n",
    "    for note in notes:\n",
    "        training_df.loc[sample,note] +=1\n",
    "training_df.head()"
   ]
  },
  {
   "cell_type": "code",
   "execution_count": 30,
   "metadata": {},
   "outputs": [
    {
     "data": {
      "text/plain": [
       "rest-half          100\n",
       "note-G4_quarter    196\n",
       "note-C5_quarter    476\n",
       "note-A4_quarter    225\n",
       "keySignature-GM    104\n",
       "dtype: int64"
      ]
     },
     "execution_count": 30,
     "metadata": {},
     "output_type": "execute_result"
    }
   ],
   "source": [
    "#now calculate the frequency of each symbol\n",
    "frequency=[]\n",
    "training_frequency = pd.DataFrame(index=vocabulary, columns=['frequency'])\n",
    "training_df = training_df.fillna(0) # with 0s rather than NaNs\n",
    "training_frequency=training_df.sum(numeric_only=True, axis = 0, skipna = True) \n",
    "training_frequency.head()"
   ]
  },
  {
   "cell_type": "code",
   "execution_count": 31,
   "metadata": {},
   "outputs": [
    {
     "data": {
      "text/plain": [
       "pandas.core.frame.DataFrame"
      ]
     },
     "execution_count": 31,
     "metadata": {},
     "output_type": "execute_result"
    }
   ],
   "source": [
    "#sorting training frequency in descending order\n",
    "training_frequency=training_frequency.sort_values(axis=0, ascending=False, inplace=False, kind='quicksort', na_position='last')\n",
    "type(training_frequency)\n",
    "training_frequency=training_frequency.to_frame()\n",
    "#training_frequency.columns =['frequency']\n",
    "type(training_frequency)"
   ]
  },
  {
   "cell_type": "code",
   "execution_count": 34,
   "metadata": {},
   "outputs": [
    {
     "ename": "AttributeError",
     "evalue": "'NoneType' object has no attribute 'head'",
     "output_type": "error",
     "traceback": [
      "\u001b[0;31m---------------------------------------------------------------------------\u001b[0m",
      "\u001b[0;31mAttributeError\u001b[0m                            Traceback (most recent call last)",
      "\u001b[0;32m<ipython-input-34-5ddfdff6b966>\u001b[0m in \u001b[0;36m<module>\u001b[0;34m()\u001b[0m\n\u001b[1;32m      3\u001b[0m \u001b[0;31m#training_frequency=training_frequency.to_frame()\u001b[0m\u001b[0;34m\u001b[0m\u001b[0;34m\u001b[0m\u001b[0m\n\u001b[1;32m      4\u001b[0m \u001b[0;31m#training_frequency.columns =['frequency']\u001b[0m\u001b[0;34m\u001b[0m\u001b[0;34m\u001b[0m\u001b[0m\n\u001b[0;32m----> 5\u001b[0;31m \u001b[0mtrain_rev\u001b[0m\u001b[0;34m.\u001b[0m\u001b[0mhead\u001b[0m\u001b[0;34m(\u001b[0m\u001b[0;34m)\u001b[0m\u001b[0;34m\u001b[0m\u001b[0m\n\u001b[0m",
      "\u001b[0;31mAttributeError\u001b[0m: 'NoneType' object has no attribute 'head'"
     ]
    }
   ],
   "source": [
    "train_rev=training_frequency.sort_values(by=[0],axis=0, ascending=True, inplace=True, kind='quicksort', na_position='last')\n",
    "type(train_rev)\n",
    "#training_frequency=training_frequency.to_frame()\n",
    "#training_frequency.columns =['frequency']\n",
    "train_rev.head()"
   ]
  },
  {
   "cell_type": "code",
   "execution_count": 10,
   "metadata": {},
   "outputs": [
    {
     "ename": "NameError",
     "evalue": "name 'training_frequency_rev' is not defined",
     "output_type": "error",
     "traceback": [
      "\u001b[0;31m---------------------------------------------------------------------------\u001b[0m",
      "\u001b[0;31mNameError\u001b[0m                                 Traceback (most recent call last)",
      "\u001b[0;32m<ipython-input-10-1906d14512fe>\u001b[0m in \u001b[0;36m<module>\u001b[0;34m()\u001b[0m\n\u001b[1;32m      1\u001b[0m \u001b[0;31m#sorting training frequency in ascending order\u001b[0m\u001b[0;34m\u001b[0m\u001b[0;34m\u001b[0m\u001b[0m\n\u001b[0;32m----> 2\u001b[0;31m \u001b[0mtraining_frequency_rev\u001b[0m\u001b[0;34m=\u001b[0m\u001b[0mtraining_frequency_rev\u001b[0m\u001b[0;34m.\u001b[0m\u001b[0msort_values\u001b[0m\u001b[0;34m(\u001b[0m\u001b[0maxis\u001b[0m\u001b[0;34m=\u001b[0m\u001b[0;36m0\u001b[0m\u001b[0;34m,\u001b[0m \u001b[0mascending\u001b[0m\u001b[0;34m=\u001b[0m\u001b[0mTrue\u001b[0m\u001b[0;34m,\u001b[0m \u001b[0minplace\u001b[0m\u001b[0;34m=\u001b[0m\u001b[0mFalse\u001b[0m\u001b[0;34m,\u001b[0m \u001b[0mkind\u001b[0m\u001b[0;34m=\u001b[0m\u001b[0;34m'quicksort'\u001b[0m\u001b[0;34m,\u001b[0m \u001b[0mna_position\u001b[0m\u001b[0;34m=\u001b[0m\u001b[0;34m'last'\u001b[0m\u001b[0;34m)\u001b[0m\u001b[0;34m\u001b[0m\u001b[0m\n\u001b[0m\u001b[1;32m      3\u001b[0m \u001b[0mtype\u001b[0m\u001b[0;34m(\u001b[0m\u001b[0mtraining_frequency_rev\u001b[0m\u001b[0;34m)\u001b[0m\u001b[0;34m\u001b[0m\u001b[0m\n\u001b[1;32m      4\u001b[0m \u001b[0mtraining_frequency_rev\u001b[0m\u001b[0;34m=\u001b[0m\u001b[0mtraining_frequency_rev\u001b[0m\u001b[0;34m.\u001b[0m\u001b[0mto_frame\u001b[0m\u001b[0;34m(\u001b[0m\u001b[0;34m)\u001b[0m\u001b[0;34m\u001b[0m\u001b[0m\n\u001b[1;32m      5\u001b[0m \u001b[0mtraining_frequency_rev\u001b[0m\u001b[0;34m.\u001b[0m\u001b[0mcolumns\u001b[0m \u001b[0;34m=\u001b[0m\u001b[0;34m[\u001b[0m\u001b[0;34m'frequency'\u001b[0m\u001b[0;34m]\u001b[0m\u001b[0;34m\u001b[0m\u001b[0m\n",
      "\u001b[0;31mNameError\u001b[0m: name 'training_frequency_rev' is not defined"
     ]
    }
   ],
   "source": [
    "#sorting training frequency in ascending order\n",
    "training_frequency_rev=training_frequency_rev.sort_values(axis=0, ascending=True, inplace=False, kind='quicksort', na_position='last')\n",
    "type(training_frequency_rev)\n",
    "training_frequency_rev=training_frequency_rev.to_frame()\n",
    "training_frequency_rev.columns =['frequency']\n",
    "training_frequency_rev.head()"
   ]
  },
  {
   "cell_type": "code",
   "execution_count": 9,
   "metadata": {},
   "outputs": [
    {
     "data": {
      "text/html": [
       "<div>\n",
       "<style scoped>\n",
       "    .dataframe tbody tr th:only-of-type {\n",
       "        vertical-align: middle;\n",
       "    }\n",
       "\n",
       "    .dataframe tbody tr th {\n",
       "        vertical-align: top;\n",
       "    }\n",
       "\n",
       "    .dataframe thead th {\n",
       "        text-align: right;\n",
       "    }\n",
       "</style>\n",
       "<table border=\"1\" class=\"dataframe\">\n",
       "  <thead>\n",
       "    <tr style=\"text-align: right;\">\n",
       "      <th></th>\n",
       "      <th>weights</th>\n",
       "    </tr>\n",
       "  </thead>\n",
       "  <tbody>\n",
       "    <tr>\n",
       "      <th>note-C4_eighth</th>\n",
       "      <td>0.002862</td>\n",
       "    </tr>\n",
       "    <tr>\n",
       "      <th>timeSignature-C/</th>\n",
       "      <td>0.002661</td>\n",
       "    </tr>\n",
       "    <tr>\n",
       "      <th>note-Eb4_eighth</th>\n",
       "      <td>0.002540</td>\n",
       "    </tr>\n",
       "    <tr>\n",
       "      <th>multirest-1</th>\n",
       "      <td>0.002500</td>\n",
       "    </tr>\n",
       "    <tr>\n",
       "      <th>tie</th>\n",
       "      <td>0.001975</td>\n",
       "    </tr>\n",
       "  </tbody>\n",
       "</table>\n",
       "</div>"
      ],
      "text/plain": [
       "                   weights\n",
       "note-C4_eighth    0.002862\n",
       "timeSignature-C/  0.002661\n",
       "note-Eb4_eighth   0.002540\n",
       "multirest-1       0.002500\n",
       "tie               0.001975"
      ]
     },
     "execution_count": 9,
     "metadata": {},
     "output_type": "execute_result"
    }
   ],
   "source": [
    "#total frequency for normalizing weights\n",
    "total_frequency=training_frequency.sum(numeric_only=True, axis = 0, skipna = True)\n",
    "training_frequency=training_frequency/total_frequency\n",
    "training_frequency.columns =['weights']\n",
    "training_frequency.tail()"
   ]
  },
  {
   "cell_type": "code",
   "execution_count": null,
   "metadata": {},
   "outputs": [],
   "source": [
    "training_frequency_rev=training_frequency_rev/total_frequency\n",
    "training_frequency_rev.tail()"
   ]
  },
  {
   "cell_type": "markdown",
   "metadata": {},
   "source": [
    "# Now create the weight table"
   ]
  },
  {
   "cell_type": "code",
   "execution_count": null,
   "metadata": {},
   "outputs": [],
   "source": [
    "#insert weights\n",
    "insert_weights=training_frequency\n",
    "insert_weights=insert_weights.sort_values(axis=0, ascending=True, inplace=False, kind='quicksort', na_position='last')\n",
    "insert_weights.head()"
   ]
  },
  {
   "cell_type": "code",
   "execution_count": null,
   "metadata": {},
   "outputs": [],
   "source": [
    "#delete weights\n",
    "delete_weights=training_frequency_rev\n",
    "delete_weights.columns =['weights']\n",
    "delete_weights.head()"
   ]
  }
 ],
 "metadata": {
  "kernelspec": {
   "display_name": "Python 2",
   "language": "python",
   "name": "python2"
  },
  "language_info": {
   "codemirror_mode": {
    "name": "ipython",
    "version": 2
   },
   "file_extension": ".py",
   "mimetype": "text/x-python",
   "name": "python",
   "nbconvert_exporter": "python",
   "pygments_lexer": "ipython2",
   "version": "2.7.12"
  }
 },
 "nbformat": 4,
 "nbformat_minor": 2
}
