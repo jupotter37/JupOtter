{
 "cells": [
  {
   "cell_type": "markdown",
   "metadata": {},
   "source": [
    "## Finding expressions for elastic moduli\n",
    "\n",
    "I want to find more expressions to fill in the gaps in [my matrix](http://www.subsurfwiki.org/wiki/Template:Elastic_modulus):"
   ]
  },
  {
   "cell_type": "markdown",
   "metadata": {},
   "source": [
    "We can use [`sympy`](http://docs.sympy.org/dev/tutorial/basic_operations.html) to help!"
   ]
  },
  {
   "cell_type": "code",
   "execution_count": 1,
   "metadata": {},
   "outputs": [
    {
     "data": {
      "text/plain": [
       "'1.1.1'"
      ]
     },
     "execution_count": 1,
     "metadata": {},
     "output_type": "execute_result"
    }
   ],
   "source": [
    "import sympy\n",
    "sympy.__version__"
   ]
  },
  {
   "cell_type": "code",
   "execution_count": 2,
   "metadata": {},
   "outputs": [],
   "source": [
    "sympy.init_printing(use_latex='mathjax')"
   ]
  },
  {
   "cell_type": "markdown",
   "metadata": {},
   "source": [
    "We must define our symbols. We'll use `alpha` and `beta` for Vp and Vs."
   ]
  },
  {
   "cell_type": "code",
   "execution_count": 3,
   "metadata": {},
   "outputs": [],
   "source": [
    "alpha, beta, gamma = sympy.symbols(\"alpha, beta, gamma\")\n",
    "lamda, mu, E, K, M, rho = sympy.symbols(\"lamda, mu, E, K, M, rho\")\n",
    "nu = sympy.symbols(\"nu\")"
   ]
  },
  {
   "cell_type": "markdown",
   "metadata": {},
   "source": [
    "## Expression for Vp (alpha) in terms of K, E"
   ]
  },
  {
   "cell_type": "code",
   "execution_count": 4,
   "metadata": {},
   "outputs": [
    {
     "data": {
      "text/latex": [
       "$$\\sqrt{\\frac{\\mu \\left(E - 4 \\mu\\right)}{\\rho \\left(E - 3 \\mu\\right)}}$$"
      ],
      "text/plain": [
       "    _____________\n",
       "   ╱ μ⋅(E - 4⋅μ) \n",
       "  ╱  ─────────── \n",
       "╲╱   ρ⋅(E - 3⋅μ) "
      ]
     },
     "execution_count": 4,
     "metadata": {},
     "output_type": "execute_result"
    }
   ],
   "source": [
    "from sympy import sqrt\n",
    "alpha_expr = sqrt((mu * (E - 4*mu)) / (rho * (E - 3*mu)))\n",
    "alpha_expr"
   ]
  },
  {
   "cell_type": "code",
   "execution_count": 5,
   "metadata": {},
   "outputs": [
    {
     "name": "stdout",
     "output_type": "stream",
     "text": [
      "\\sqrt{\\frac{\\mu \\left(E - 4 \\mu\\right)}{\\rho \\left(E - 3 \\mu\\right)}}\n"
     ]
    }
   ],
   "source": [
    "print(sympy.latex(alpha_expr))"
   ]
  },
  {
   "cell_type": "code",
   "execution_count": 6,
   "metadata": {},
   "outputs": [],
   "source": [
    "mu_expr = (3 * K * E) / (9 * K - E)"
   ]
  },
  {
   "cell_type": "code",
   "execution_count": 7,
   "metadata": {},
   "outputs": [
    {
     "data": {
      "text/latex": [
       "$$\\sqrt{3} \\sqrt{\\frac{E K \\left(- \\frac{12 E K}{- E + 9 K} + E\\right)}{\\rho \\left(- E + 9 K\\right) \\left(- \\frac{9 E K}{- E + 9 K} + E\\right)}}$$"
      ],
      "text/plain": [
       "           _______________________________\n",
       "          ╱          ⎛   12⋅E⋅K     ⎞     \n",
       "         ╱       E⋅K⋅⎜- ──────── + E⎟     \n",
       "        ╱            ⎝  -E + 9⋅K    ⎠     \n",
       "√3⋅    ╱    ───────────────────────────── \n",
       "      ╱                  ⎛   9⋅E⋅K      ⎞ \n",
       "     ╱      ρ⋅(-E + 9⋅K)⋅⎜- ──────── + E⎟ \n",
       "   ╲╱                    ⎝  -E + 9⋅K    ⎠ "
      ]
     },
     "execution_count": 7,
     "metadata": {},
     "output_type": "execute_result"
    }
   ],
   "source": [
    "subs = alpha_expr.subs(mu, mu_expr)\n",
    "subs"
   ]
  },
  {
   "cell_type": "code",
   "execution_count": 8,
   "metadata": {},
   "outputs": [
    {
     "name": "stdout",
     "output_type": "stream",
     "text": [
      "\\sqrt{3} \\sqrt{\\frac{E K \\left(- \\frac{12 E K}{- E + 9 K} + E\\right)}{\\rho \\left(- E + 9 K\\right) \\left(- \\frac{9 E K}{- E + 9 K} + E\\right)}}\n"
     ]
    }
   ],
   "source": [
    "print(sympy.latex(subs))"
   ]
  },
  {
   "cell_type": "code",
   "execution_count": 8,
   "metadata": {},
   "outputs": [
    {
     "ename": "NameError",
     "evalue": "name 'subs' is not defined",
     "output_type": "error",
     "traceback": [
      "\u001b[0;31m---------------------------------------------------------------------------\u001b[0m",
      "\u001b[0;31mNameError\u001b[0m                                 Traceback (most recent call last)",
      "\u001b[0;32m<ipython-input-8-e6a38d4f1937>\u001b[0m in \u001b[0;36m<module>\u001b[0;34m()\u001b[0m\n\u001b[1;32m      1\u001b[0m \u001b[0;32mfrom\u001b[0m \u001b[0msympy\u001b[0m \u001b[0;32mimport\u001b[0m \u001b[0msimplify\u001b[0m\u001b[0;34m\u001b[0m\u001b[0m\n\u001b[0;32m----> 2\u001b[0;31m \u001b[0msimplify\u001b[0m\u001b[0;34m(\u001b[0m\u001b[0msubs\u001b[0m\u001b[0;34m)\u001b[0m\u001b[0;34m\u001b[0m\u001b[0m\n\u001b[0m",
      "\u001b[0;31mNameError\u001b[0m: name 'subs' is not defined"
     ]
    }
   ],
   "source": [
    "from sympy import simplify\n",
    "simplify(subs)"
   ]
  },
  {
   "cell_type": "code",
   "execution_count": 10,
   "metadata": {
    "scrolled": true
   },
   "outputs": [
    {
     "name": "stdout",
     "output_type": "stream",
     "text": [
      "\\sqrt{3} \\sqrt{\\frac{K \\left(E + 3 K\\right)}{\\rho \\left(- E + 9 K\\right)}}\n"
     ]
    }
   ],
   "source": [
    "print(sympy.latex(simplify(subs)))"
   ]
  },
  {
   "cell_type": "markdown",
   "metadata": {},
   "source": [
    "## Expression for Vs (beta) in terms of K, E"
   ]
  },
  {
   "cell_type": "code",
   "execution_count": 13,
   "metadata": {},
   "outputs": [
    {
     "data": {
      "text/latex": [
       "$$\\sqrt{3} \\sqrt{- \\frac{E K}{\\rho \\left(E - 9 K\\right)}}$$"
      ],
      "text/plain": [
       "       _____________\n",
       "      ╱    -E⋅K     \n",
       "√3⋅  ╱  ─────────── \n",
       "   ╲╱   ρ⋅(E - 9⋅K) "
      ]
     },
     "execution_count": 13,
     "metadata": {},
     "output_type": "execute_result"
    }
   ],
   "source": [
    "beta_expr = sqrt(mu/rho)\n",
    "simplify(beta_expr.subs(mu, mu_expr))"
   ]
  },
  {
   "cell_type": "code",
   "execution_count": 14,
   "metadata": {},
   "outputs": [],
   "source": [
    "simpl = simplify(beta_expr.subs(mu, mu_expr))"
   ]
  },
  {
   "cell_type": "code",
   "execution_count": 15,
   "metadata": {},
   "outputs": [
    {
     "name": "stdout",
     "output_type": "stream",
     "text": [
      "\\sqrt{3} \\sqrt{- \\frac{E K}{\\rho \\left(E - 9 K\\right)}}\n"
     ]
    }
   ],
   "source": [
    "print(sympy.latex(simpl))"
   ]
  },
  {
   "cell_type": "markdown",
   "metadata": {},
   "source": [
    "## Expression for Vp/Vs (gamma) in terms of K, E"
   ]
  },
  {
   "cell_type": "code",
   "execution_count": 16,
   "metadata": {},
   "outputs": [
    {
     "data": {
      "text/latex": [
       "$$\\sqrt{\\frac{1}{E} \\left(E + 3 K\\right)}$$"
      ],
      "text/plain": [
       "    _________\n",
       "   ╱ E + 3⋅K \n",
       "  ╱  ─────── \n",
       "╲╱      E    "
      ]
     },
     "execution_count": 16,
     "metadata": {},
     "output_type": "execute_result"
    }
   ],
   "source": [
    "gamma_expr = sqrt((K + (4*mu/3)) / mu)\n",
    "simpl = simplify(gamma_expr.subs(mu, mu_expr))\n",
    "simpl"
   ]
  },
  {
   "cell_type": "code",
   "execution_count": 17,
   "metadata": {},
   "outputs": [
    {
     "name": "stdout",
     "output_type": "stream",
     "text": [
      "\\sqrt{\\frac{1}{E} \\left(E + 3 K\\right)}\n"
     ]
    }
   ],
   "source": [
    "print(sympy.latex(simpl))"
   ]
  },
  {
   "cell_type": "markdown",
   "metadata": {},
   "source": [
    "## Expression for Vp/Vs (gamma) in terms of E, mu\n",
    "\n",
    "Not totally sure why I have to use that hacky way to get the terms to cnacel properly. "
   ]
  },
  {
   "cell_type": "code",
   "execution_count": 18,
   "metadata": {},
   "outputs": [
    {
     "data": {
      "text/latex": [
       "$$\\sqrt{\\frac{E - 4 \\mu}{E - 3 \\mu}}$$"
      ],
      "text/plain": [
       "    _________\n",
       "   ╱ E - 4⋅μ \n",
       "  ╱  ─────── \n",
       "╲╱   E - 3⋅μ "
      ]
     },
     "execution_count": 18,
     "metadata": {},
     "output_type": "execute_result"
    }
   ],
   "source": [
    "gamma_emu_expr = alpha_expr / beta_expr\n",
    "simpl = sqrt(gamma_emu_expr**2)\n",
    "simpl"
   ]
  },
  {
   "cell_type": "code",
   "execution_count": 19,
   "metadata": {},
   "outputs": [
    {
     "name": "stdout",
     "output_type": "stream",
     "text": [
      "\\sqrt{\\frac{E - 4 \\mu}{E - 3 \\mu}}\n"
     ]
    }
   ],
   "source": [
    "print(sympy.latex(simpl))"
   ]
  },
  {
   "cell_type": "markdown",
   "metadata": {},
   "source": [
    "## Expression for Vp/Vs (gamma) in terms of PR, mu"
   ]
  },
  {
   "cell_type": "code",
   "execution_count": 20,
   "metadata": {
    "collapsed": true
   },
   "outputs": [],
   "source": [
    "e_expr = 2 * mu * (1 + nu)"
   ]
  },
  {
   "cell_type": "code",
   "execution_count": 21,
   "metadata": {},
   "outputs": [
    {
     "data": {
      "text/latex": [
       "$$\\sqrt{2} \\sqrt{\\frac{\\nu - 1}{2 \\nu - 1}}$$"
      ],
      "text/plain": [
       "       _________\n",
       "      ╱  ν - 1  \n",
       "√2⋅  ╱  ─────── \n",
       "   ╲╱   2⋅ν - 1 "
      ]
     },
     "execution_count": 21,
     "metadata": {},
     "output_type": "execute_result"
    }
   ],
   "source": [
    "simplify(sqrt(gamma_emu_expr.subs(E, e_expr)**2))"
   ]
  },
  {
   "cell_type": "code",
   "execution_count": 22,
   "metadata": {},
   "outputs": [
    {
     "name": "stdout",
     "output_type": "stream",
     "text": [
      "\\sqrt{2} \\sqrt{\\frac{\\nu - 1}{2 \\nu - 1}}\n"
     ]
    }
   ],
   "source": [
    "print(sympy.latex(simplify(sqrt(gamma_emu_expr.subs(E, e_expr)**2))))"
   ]
  },
  {
   "cell_type": "markdown",
   "metadata": {},
   "source": [
    "## Expression for Vp in terms of E, lamda"
   ]
  },
  {
   "cell_type": "code",
   "execution_count": 23,
   "metadata": {},
   "outputs": [
    {
     "data": {
      "text/latex": [
       "$$\\alpha = \\sqrt{\\frac{\\mu \\left(E - 4 \\mu\\right)}{\\rho \\left(E - 3 \\mu\\right)}}$$"
      ],
      "text/plain": [
       "        _____________\n",
       "       ╱ μ⋅(E - 4⋅μ) \n",
       "α =   ╱  ─────────── \n",
       "    ╲╱   ρ⋅(E - 3⋅μ) "
      ]
     },
     "execution_count": 23,
     "metadata": {},
     "output_type": "execute_result"
    }
   ],
   "source": [
    "vp_expr = sympy.Eq(alpha, sqrt(mu*(E - 4*mu) / (rho*(E - 3*mu))))\n",
    "vp_expr"
   ]
  },
  {
   "cell_type": "code",
   "execution_count": 24,
   "metadata": {
    "collapsed": true
   },
   "outputs": [],
   "source": [
    "alpha_expr = sqrt(mu*(E - 4*mu) / (rho*(E - 3*mu)))"
   ]
  },
  {
   "cell_type": "code",
   "execution_count": 25,
   "metadata": {
    "collapsed": true
   },
   "outputs": [],
   "source": [
    "mu_expr = (rho * alpha**2 - lamda)/2"
   ]
  },
  {
   "cell_type": "code",
   "execution_count": 26,
   "metadata": {},
   "outputs": [],
   "source": [
    "new_expr = simplify(vp_expr.subs(mu, mu_expr))"
   ]
  },
  {
   "cell_type": "code",
   "execution_count": 27,
   "metadata": {},
   "outputs": [
    {
     "data": {
      "text/latex": [
       "$$\\sqrt{\\frac{\\mu \\left(E - 4 \\mu\\right)}{\\rho \\left(E - 3 \\mu\\right)}} = \\sqrt{\\frac{\\left(- \\lambda + \\frac{\\mu \\left(E - 4 \\mu\\right)}{E - 3 \\mu}\\right) \\left(E + 2 \\lambda - \\frac{2 \\mu \\left(E - 4 \\mu\\right)}{E - 3 \\mu}\\right)}{\\rho \\left(2 E + 3 \\lambda - \\frac{3 \\mu \\left(E - 4 \\mu\\right)}{E - 3 \\mu}\\right)}}$$"
      ],
      "text/plain": [
       "                            ______________________________________________\n",
       "                           ╱ ⎛     μ⋅(E - 4⋅μ)⎞ ⎛          2⋅μ⋅(E - 4⋅μ)⎞ \n",
       "    _____________         ╱  ⎜-λ + ───────────⎟⋅⎜E + 2⋅λ - ─────────────⎟ \n",
       "   ╱ μ⋅(E - 4⋅μ)         ╱   ⎝       E - 3⋅μ  ⎠ ⎝             E - 3⋅μ   ⎠ \n",
       "  ╱  ───────────  =     ╱    ──────────────────────────────────────────── \n",
       "╲╱   ρ⋅(E - 3⋅μ)       ╱              ⎛            3⋅μ⋅(E - 4⋅μ)⎞         \n",
       "                      ╱             ρ⋅⎜2⋅E + 3⋅λ - ─────────────⎟         \n",
       "                    ╲╱                ⎝               E - 3⋅μ   ⎠         "
      ]
     },
     "execution_count": 27,
     "metadata": {},
     "output_type": "execute_result"
    }
   ],
   "source": [
    "new_expr.subs(alpha, alpha_expr)"
   ]
  },
  {
   "cell_type": "markdown",
   "metadata": {},
   "source": [
    "OK, I give up. Trying Wolfram Alpha..."
   ]
  },
  {
   "cell_type": "code",
   "execution_count": 35,
   "metadata": {},
   "outputs": [
    {
     "data": {
      "text/latex": [
       "$$\\frac{\\sqrt{2}}{2} \\sqrt{\\frac{1}{\\rho} \\left(E - \\lambda + \\sqrt{E^{2} + 2 E \\lambda + 9 \\lambda^{2}}\\right)}$$"
      ],
      "text/plain": [
       "         ________________________________\n",
       "        ╱            ___________________ \n",
       "       ╱            ╱  2              2  \n",
       "      ╱   E - λ + ╲╱  E  + 2⋅E⋅λ + 9⋅λ   \n",
       "√2⋅  ╱    ────────────────────────────── \n",
       "   ╲╱                   ρ                \n",
       "─────────────────────────────────────────\n",
       "                    2                    "
      ]
     },
     "execution_count": 35,
     "metadata": {},
     "output_type": "execute_result"
    }
   ],
   "source": [
    "vp_wolfram = simplify(sqrt(-lamda/rho+sqrt(9*lamda**2+E**2+2*lamda*E)/rho+E/rho)/sqrt(2))**2\n",
    "sqrt(vp_wolfram)"
   ]
  },
  {
   "cell_type": "markdown",
   "metadata": {},
   "source": [
    "That's better!"
   ]
  },
  {
   "cell_type": "code",
   "execution_count": 36,
   "metadata": {},
   "outputs": [
    {
     "name": "stdout",
     "output_type": "stream",
     "text": [
      "\\frac{\\sqrt{2}}{2} \\sqrt{\\frac{1}{\\rho} \\left(E - \\lambda + \\sqrt{E^{2} + 2 E \\lambda + 9 \\lambda^{2}}\\right)}\n"
     ]
    }
   ],
   "source": [
    "print(sympy.latex(sqrt(vp_wolfram)))"
   ]
  },
  {
   "cell_type": "markdown",
   "metadata": {},
   "source": [
    "Another for Wolfram Alpha: Vs\n",
    "\n",
    "    solve V = sqrt((a/(2*((y-2 r V^2)/(2 r V^2))*r)) - (a/r)) for V"
   ]
  },
  {
   "cell_type": "code",
   "execution_count": 29,
   "metadata": {},
   "outputs": [
    {
     "data": {
      "text/latex": [
       "$$\\frac{1}{4 \\rho} \\left(E - 3 \\lambda + \\sqrt{E^{2} + 2 E \\lambda + 9 \\lambda^{2}}\\right)$$"
      ],
      "text/plain": [
       "             ___________________\n",
       "            ╱  2              2 \n",
       "E - 3⋅λ + ╲╱  E  + 2⋅E⋅λ + 9⋅λ  \n",
       "────────────────────────────────\n",
       "              4⋅ρ               "
      ]
     },
     "execution_count": 29,
     "metadata": {},
     "output_type": "execute_result"
    }
   ],
   "source": [
    "simplify(sqrt(sqrt(9*lamda**2+2*lamda*E+E**2)/rho-(3*lamda)/rho+E/rho)/2)**2"
   ]
  },
  {
   "cell_type": "markdown",
   "metadata": {},
   "source": [
    "Another for Wolfram Alpha: Gamma, or Vp/Vs\n",
    "\n",
    "    solve G = sqrt(((4/3)*a - 2*((y*G^2 - y)/3))/(a - ((y*G^2 - y)/3))) for G"
   ]
  },
  {
   "cell_type": "code",
   "execution_count": 84,
   "metadata": {},
   "outputs": [
    {
     "data": {
      "text/latex": [
       "$$\\frac{1}{2 E} \\left(3 E + 3 \\lambda + \\sqrt{E^{2} + 2 E \\lambda + 9 \\lambda^{2}}\\right)$$"
      ],
      "text/plain": [
       "               ___________________\n",
       "              ╱  2              2 \n",
       "3⋅E + 3⋅λ + ╲╱  E  + 2⋅E⋅λ + 9⋅λ  \n",
       "──────────────────────────────────\n",
       "               2⋅E                "
      ]
     },
     "execution_count": 84,
     "metadata": {},
     "output_type": "execute_result"
    }
   ],
   "source": [
    "simplify(sqrt(sqrt(9*lamda**2+2*lamda*E+E**2)/E+(3*lamda)/E+3)/sqrt(2))**2"
   ]
  },
  {
   "cell_type": "markdown",
   "metadata": {},
   "source": [
    "## Expression for Vs (beta) in terms of nu, K"
   ]
  },
  {
   "cell_type": "code",
   "execution_count": 32,
   "metadata": {},
   "outputs": [
    {
     "data": {
      "text/latex": [
       "$$- \\frac{3 K \\left(2 \\nu - 1\\right)}{2 \\rho \\left(\\nu + 1\\right)}$$"
      ],
      "text/plain": [
       "-3⋅K⋅(2⋅ν - 1) \n",
       "───────────────\n",
       "  2⋅ρ⋅(ν + 1)  "
      ]
     },
     "execution_count": 32,
     "metadata": {},
     "output_type": "execute_result"
    }
   ],
   "source": [
    "mu_expr = 3*K*(1 - 2*nu)/(2 + 2*nu)\n",
    "simpl = simplify((sqrt(mu/rho)).subs(mu,mu_expr)**2)\n",
    "simpl"
   ]
  },
  {
   "cell_type": "code",
   "execution_count": 33,
   "metadata": {},
   "outputs": [
    {
     "name": "stdout",
     "output_type": "stream",
     "text": [
      "- \\frac{3 K \\left(2 \\nu - 1\\right)}{2 \\rho \\left(\\nu + 1\\right)}\n"
     ]
    }
   ],
   "source": [
    "print(sympy.latex(simpl))"
   ]
  },
  {
   "cell_type": "markdown",
   "metadata": {},
   "source": [
    "## Expression for Vp (alpha) in terms of nu, K"
   ]
  },
  {
   "cell_type": "code",
   "execution_count": 11,
   "metadata": {},
   "outputs": [
    {
     "data": {
      "text/latex": [
       "$$\\sqrt{3} \\sqrt{\\frac{K \\left(- \\nu + 1\\right)}{\\rho \\left(\\nu + 1\\right)}}$$"
      ],
      "text/plain": [
       "       ____________\n",
       "      ╱ K⋅(-ν + 1) \n",
       "√3⋅  ╱  ────────── \n",
       "   ╲╱   ρ⋅(ν + 1)  "
      ]
     },
     "execution_count": 11,
     "metadata": {},
     "output_type": "execute_result"
    }
   ],
   "source": [
    "vp_expr = sqrt(lamda * (1 - nu) / (rho * nu))\n",
    "l_expr = 3 * K * nu / (1 + nu)\n",
    "vp_expr.subs(lamda, l_expr)"
   ]
  },
  {
   "cell_type": "markdown",
   "metadata": {},
   "source": [
    "## Expression for Vp (alpha) in terms of K, rho, and Vs (beta)"
   ]
  },
  {
   "cell_type": "code",
   "execution_count": 15,
   "metadata": {},
   "outputs": [
    {
     "data": {
      "text/latex": [
       "$$\\sqrt{\\frac{K}{\\rho} + 1.3333333 \\beta^{2}}$$"
      ],
      "text/plain": [
       "    __________________\n",
       "   ╱ K              2 \n",
       "  ╱  ─ + 1.3333333⋅β  \n",
       "╲╱   ρ                "
      ]
     },
     "execution_count": 15,
     "metadata": {},
     "output_type": "execute_result"
    }
   ],
   "source": [
    "vp_expr = sqrt((K + 1.3333333*mu) / rho)\n",
    "mu_expr = rho * beta**2\n",
    "simplify(vp_expr.subs(mu, mu_expr))"
   ]
  },
  {
   "cell_type": "code",
   "execution_count": null,
   "metadata": {
    "collapsed": true
   },
   "outputs": [],
   "source": []
  }
 ],
 "metadata": {
  "kernelspec": {
   "display_name": "py36",
   "language": "python",
   "name": "py36"
  },
  "language_info": {
   "codemirror_mode": {
    "name": "ipython",
    "version": 3
   },
   "file_extension": ".py",
   "mimetype": "text/x-python",
   "name": "python",
   "nbconvert_exporter": "python",
   "pygments_lexer": "ipython3",
   "version": "3.6.4"
  }
 },
 "nbformat": 4,
 "nbformat_minor": 1
}
