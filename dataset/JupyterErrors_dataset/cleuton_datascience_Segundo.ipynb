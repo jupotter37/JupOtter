{
 "cells": [
  {
   "cell_type": "markdown",
   "metadata": {},
   "source": [
    "# NumPy"
   ]
  },
  {
   "cell_type": "code",
   "execution_count": 1,
   "metadata": {
    "collapsed": true
   },
   "outputs": [],
   "source": [
    "import numpy as np"
   ]
  },
  {
   "cell_type": "code",
   "execution_count": 2,
   "metadata": {},
   "outputs": [
    {
     "name": "stdout",
     "output_type": "stream",
     "text": [
      "Média: 62.2\n",
      "Máximo: 81.0\n",
      "Mínimo: 50.0\n"
     ]
    }
   ],
   "source": [
    "pesos = np.array([50.,55.5,53.4,60.10,70.1,81.,65.3])\n",
    "print('Média:',pesos.mean())\n",
    "print('Máximo:',pesos.max())\n",
    "print('Mínimo:',pesos.min())"
   ]
  },
  {
   "cell_type": "code",
   "execution_count": 3,
   "metadata": {},
   "outputs": [
    {
     "name": "stdout",
     "output_type": "stream",
     "text": [
      "[ 50.          50.52631579  51.05263158  51.57894737  52.10526316\n",
      "  52.63157895  53.15789474  53.68421053  54.21052632  54.73684211\n",
      "  55.26315789  55.78947368  56.31578947  56.84210526  57.36842105\n",
      "  57.89473684  58.42105263  58.94736842  59.47368421  60.        ]\n"
     ]
    }
   ],
   "source": [
    "pesos = np.linspace(50,60,num=20)\n",
    "print(pesos)"
   ]
  },
  {
   "cell_type": "code",
   "execution_count": 4,
   "metadata": {},
   "outputs": [
    {
     "name": "stdout",
     "output_type": "stream",
     "text": [
      "[  1.           2.52631579   4.05263158   5.57894737   7.10526316\n",
      "   8.63157895  10.15789474  11.68421053  13.21052632  14.73684211\n",
      "  16.26315789  17.78947368  19.31578947  20.84210526  22.36842105\n",
      "  23.89473684  25.42105263  26.94736842  28.47368421  30.        ]\n"
     ]
    }
   ],
   "source": [
    "valores = np.linspace(1,30,num=20)\n",
    "print(valores)"
   ]
  },
  {
   "cell_type": "code",
   "execution_count": 5,
   "metadata": {},
   "outputs": [
    {
     "name": "stdout",
     "output_type": "stream",
     "text": [
      "[ 49.  48.  47.  46.  45.  44.  43.  42.  41.  40.  39.  38.  37.  36.  35.\n",
      "  34.  33.  32.  31.  30.]\n"
     ]
    }
   ],
   "source": [
    "print(pesos - valores)"
   ]
  },
  {
   "cell_type": "code",
   "execution_count": 6,
   "metadata": {},
   "outputs": [
    {
     "name": "stdout",
     "output_type": "stream",
     "text": [
      "[   50.           127.64542936   206.89750693   287.75623269   370.22160665\n",
      "   454.29362881   539.97229917   627.25761773   716.14958449   806.64819945\n",
      "   898.7534626    992.46537396  1087.78393352  1184.70914127  1283.24099723\n",
      "  1383.37950139  1485.12465374  1588.47645429  1693.43490305  1800.        ]\n"
     ]
    }
   ],
   "source": [
    "print(pesos * valores)"
   ]
  },
  {
   "cell_type": "code",
   "execution_count": 7,
   "metadata": {},
   "outputs": [
    {
     "name": "stdout",
     "output_type": "stream",
     "text": [
      "[ 49.  48.  47.  46.  45.  44.  43.  42.  41.  40.  39.  38.  37.  36.  35.\n",
      "  34.  33.  32.  31.  30.]\n"
     ]
    }
   ],
   "source": [
    "pesos -= valores\n",
    "print(pesos)"
   ]
  },
  {
   "cell_type": "code",
   "execution_count": 8,
   "metadata": {},
   "outputs": [
    {
     "data": {
      "text/plain": [
       "790.0"
      ]
     },
     "execution_count": 8,
     "metadata": {},
     "output_type": "execute_result"
    }
   ],
   "source": [
    "np.sum(pesos)"
   ]
  },
  {
   "cell_type": "code",
   "execution_count": 9,
   "metadata": {},
   "outputs": [
    {
     "data": {
      "text/plain": [
       "5.7662812973353983"
      ]
     },
     "execution_count": 9,
     "metadata": {},
     "output_type": "execute_result"
    }
   ],
   "source": [
    "np.std(pesos)"
   ]
  },
  {
   "cell_type": "code",
   "execution_count": 12,
   "metadata": {},
   "outputs": [
    {
     "name": "stdout",
     "output_type": "stream",
     "text": [
      "variância populacional 33.25\n",
      "variância amostral 35.0\n",
      "desvio padrão populacional 5.76628129734\n",
      "desvio padrão amostral 5.9160797831\n"
     ]
    }
   ],
   "source": [
    "print('variância populacional',np.var(pesos))\n",
    "print('variância amostral',np.var(pesos,ddof=1))\n",
    "print('desvio padrão populacional',np.std(pesos))\n",
    "print('desvio padrão amostral',np.std(pesos,ddof=1))"
   ]
  },
  {
   "cell_type": "code",
   "execution_count": 20,
   "metadata": {},
   "outputs": [
    {
     "data": {
      "text/plain": [
       "0.1249144024931208"
      ]
     },
     "execution_count": 20,
     "metadata": {},
     "output_type": "execute_result"
    }
   ],
   "source": [
    "np.random.rand()"
   ]
  },
  {
   "cell_type": "code",
   "execution_count": 37,
   "metadata": {},
   "outputs": [
    {
     "name": "stdout",
     "output_type": "stream",
     "text": [
      "Tipo: <class 'numpy.ndarray'>\n",
      "[[ 0.17152166  0.68527698]\n",
      " [ 0.83389686  0.30696622]]\n"
     ]
    }
   ],
   "source": [
    "vetor = np.random.rand(2,2)\n",
    "print('Tipo:',type(vetor))\n",
    "print(vetor)\n"
   ]
  },
  {
   "cell_type": "code",
   "execution_count": 58,
   "metadata": {},
   "outputs": [
    {
     "name": "stdout",
     "output_type": "stream",
     "text": [
      "Primeiro elemento, segunda linha: 0.833896862636\n",
      "Primeira linha: [0.17152165622510307, 0.68527698169731255]\n",
      "Segunda coluna: [0.68527698169731255, 0.30696621967223781]\n"
     ]
    }
   ],
   "source": [
    "print('Primeiro elemento, segunda linha:',vetor[1,0])\n",
    "# Navegando pela primeira linha\n",
    "print('Primeira linha:',[vetor[0,x] for x in range(vetor.shape[0])])\n",
    "# Navegando pela segund coluna\n",
    "print('Segunda coluna:',[vetor[x,1] for x in range(vetor.shape[1])])\n"
   ]
  },
  {
   "cell_type": "code",
   "execution_count": 61,
   "metadata": {},
   "outputs": [
    {
     "name": "stdout",
     "output_type": "stream",
     "text": [
      "(2, 2)\n",
      "2\n",
      "2\n"
     ]
    }
   ],
   "source": [
    "print(vetor.shape)\n",
    "print(vetor.shape[0])\n",
    "print(vetor.shape[1])"
   ]
  },
  {
   "cell_type": "code",
   "execution_count": 34,
   "metadata": {},
   "outputs": [
    {
     "data": {
      "text/plain": [
       "0.17152165622510307"
      ]
     },
     "execution_count": 34,
     "metadata": {},
     "output_type": "execute_result"
    }
   ],
   "source": [
    "np.random.rand()"
   ]
  },
  {
   "cell_type": "code",
   "execution_count": 36,
   "metadata": {},
   "outputs": [
    {
     "name": "stdout",
     "output_type": "stream",
     "text": [
      "Primeiro: 0.5163986277024462\n",
      "Segundo: 0.5706675868681398\n",
      "Terceiro: 0.028474226478096942\n"
     ]
    }
   ],
   "source": [
    "np.random.seed(101)\n",
    "print('Primeiro:',np.random.rand())\n",
    "print('Segundo:',np.random.rand())\n",
    "print('Terceiro:',np.random.rand())"
   ]
  },
  {
   "cell_type": "code",
   "execution_count": 3,
   "metadata": {},
   "outputs": [
    {
     "ename": "NameError",
     "evalue": "name 'np' is not defined",
     "output_type": "error",
     "traceback": [
      "\u001b[0;31m---------------------------------------------------------------------------\u001b[0m",
      "\u001b[0;31mNameError\u001b[0m                                 Traceback (most recent call last)",
      "\u001b[0;32m<ipython-input-3-e6518aa3d0ec>\u001b[0m in \u001b[0;36m<module>\u001b[0;34m()\u001b[0m\n\u001b[0;32m----> 1\u001b[0;31m \u001b[0mseq\u001b[0m \u001b[0;34m=\u001b[0m \u001b[0mnp\u001b[0m\u001b[0;34m.\u001b[0m\u001b[0mrandom\u001b[0m\u001b[0;34m.\u001b[0m\u001b[0mrandn\u001b[0m\u001b[0;34m(\u001b[0m\u001b[0;36m20\u001b[0m\u001b[0;34m)\u001b[0m\u001b[0;34m\u001b[0m\u001b[0m\n\u001b[0m\u001b[1;32m      2\u001b[0m \u001b[0mprint\u001b[0m\u001b[0;34m(\u001b[0m\u001b[0mseq\u001b[0m\u001b[0;34m)\u001b[0m\u001b[0;34m\u001b[0m\u001b[0m\n",
      "\u001b[0;31mNameError\u001b[0m: name 'np' is not defined"
     ]
    }
   ],
   "source": [
    "seq = np.random.randn(20)\n",
    "print(seq)"
   ]
  },
  {
   "cell_type": "code",
   "execution_count": 4,
   "metadata": {},
   "outputs": [
    {
     "data": {
      "text/plain": [
       "DescribeResult(nobs=20, minmax=(-1.5834958765988716, 2.0444316667254823), mean=0.29310292070505761, variance=1.4156066363930992, skewness=0.06000306075912822, kurtosis=-1.2076003130261384)"
      ]
     },
     "execution_count": 4,
     "metadata": {},
     "output_type": "execute_result"
    }
   ],
   "source": [
    "import scipy.stats as stats\n",
    "import numpy as np\n",
    "seq = np.random.randn(20)\n",
    "stats.describe(seq)"
   ]
  },
  {
   "cell_type": "code",
   "execution_count": 6,
   "metadata": {},
   "outputs": [
    {
     "name": "stdout",
     "output_type": "stream",
     "text": [
      "Moda ModeResult(mode=array([-1.58349588]), count=array([1]))\n",
      "Normal NormaltestResult(statistic=2.9452527460313984, pvalue=0.22932240739708529)\n"
     ]
    }
   ],
   "source": [
    "print('Moda',stats.mode(seq))\n",
    "print('Normal',stats.normaltest(seq))"
   ]
  },
  {
   "cell_type": "code",
   "execution_count": 7,
   "metadata": {},
   "outputs": [
    {
     "name": "stdout",
     "output_type": "stream",
     "text": [
      "Normal NormaltestResult(statistic=0.74257904842562716, pvalue=0.68984418604822628)\n"
     ]
    }
   ],
   "source": [
    "nseq = np.random.randn(1000)\n",
    "print('Normal',stats.normaltest(nseq))"
   ]
  },
  {
   "cell_type": "code",
   "execution_count": 13,
   "metadata": {},
   "outputs": [
    {
     "name": "stdout",
     "output_type": "stream",
     "text": [
      "Série 0    [0.913240541638, -1.41900443488, 0.2265414002,...\n",
      "dtype: object Tipo <class 'pandas.core.series.Series'>\n"
     ]
    }
   ],
   "source": [
    "import pandas as pd\n",
    "serie = pd.Series([np.random.randn(50)])\n",
    "print('Série',serie,'Tipo',type(serie))"
   ]
  },
  {
   "cell_type": "code",
   "execution_count": 14,
   "metadata": {
    "collapsed": true
   },
   "outputs": [],
   "source": [
    "df = pd.DataFrame({'Idade': np.random.randint(20,high=60,size=100), \n",
    "                  'Altura': 1 + np.random.rand(100)})"
   ]
  },
  {
   "cell_type": "code",
   "execution_count": 15,
   "metadata": {},
   "outputs": [
    {
     "data": {
      "text/html": [
       "<div>\n",
       "<style>\n",
       "    .dataframe thead tr:only-child th {\n",
       "        text-align: right;\n",
       "    }\n",
       "\n",
       "    .dataframe thead th {\n",
       "        text-align: left;\n",
       "    }\n",
       "\n",
       "    .dataframe tbody tr th {\n",
       "        vertical-align: top;\n",
       "    }\n",
       "</style>\n",
       "<table border=\"1\" class=\"dataframe\">\n",
       "  <thead>\n",
       "    <tr style=\"text-align: right;\">\n",
       "      <th></th>\n",
       "      <th>Altura</th>\n",
       "      <th>Idade</th>\n",
       "    </tr>\n",
       "  </thead>\n",
       "  <tbody>\n",
       "    <tr>\n",
       "      <th>0</th>\n",
       "      <td>1.302138</td>\n",
       "      <td>56</td>\n",
       "    </tr>\n",
       "    <tr>\n",
       "      <th>1</th>\n",
       "      <td>1.985069</td>\n",
       "      <td>41</td>\n",
       "    </tr>\n",
       "    <tr>\n",
       "      <th>2</th>\n",
       "      <td>1.730987</td>\n",
       "      <td>59</td>\n",
       "    </tr>\n",
       "    <tr>\n",
       "      <th>3</th>\n",
       "      <td>1.974305</td>\n",
       "      <td>29</td>\n",
       "    </tr>\n",
       "    <tr>\n",
       "      <th>4</th>\n",
       "      <td>1.787922</td>\n",
       "      <td>40</td>\n",
       "    </tr>\n",
       "  </tbody>\n",
       "</table>\n",
       "</div>"
      ],
      "text/plain": [
       "     Altura  Idade\n",
       "0  1.302138     56\n",
       "1  1.985069     41\n",
       "2  1.730987     59\n",
       "3  1.974305     29\n",
       "4  1.787922     40"
      ]
     },
     "execution_count": 15,
     "metadata": {},
     "output_type": "execute_result"
    }
   ],
   "source": [
    "df.head()"
   ]
  },
  {
   "cell_type": "code",
   "execution_count": 16,
   "metadata": {},
   "outputs": [
    {
     "data": {
      "text/html": [
       "<div>\n",
       "<style>\n",
       "    .dataframe thead tr:only-child th {\n",
       "        text-align: right;\n",
       "    }\n",
       "\n",
       "    .dataframe thead th {\n",
       "        text-align: left;\n",
       "    }\n",
       "\n",
       "    .dataframe tbody tr th {\n",
       "        vertical-align: top;\n",
       "    }\n",
       "</style>\n",
       "<table border=\"1\" class=\"dataframe\">\n",
       "  <thead>\n",
       "    <tr style=\"text-align: right;\">\n",
       "      <th></th>\n",
       "      <th>Altura</th>\n",
       "      <th>Idade</th>\n",
       "    </tr>\n",
       "  </thead>\n",
       "  <tbody>\n",
       "    <tr>\n",
       "      <th>count</th>\n",
       "      <td>100.000000</td>\n",
       "      <td>100.000000</td>\n",
       "    </tr>\n",
       "    <tr>\n",
       "      <th>mean</th>\n",
       "      <td>1.499043</td>\n",
       "      <td>36.890000</td>\n",
       "    </tr>\n",
       "    <tr>\n",
       "      <th>std</th>\n",
       "      <td>0.296308</td>\n",
       "      <td>11.285008</td>\n",
       "    </tr>\n",
       "    <tr>\n",
       "      <th>min</th>\n",
       "      <td>1.012050</td>\n",
       "      <td>20.000000</td>\n",
       "    </tr>\n",
       "    <tr>\n",
       "      <th>25%</th>\n",
       "      <td>1.249999</td>\n",
       "      <td>27.750000</td>\n",
       "    </tr>\n",
       "    <tr>\n",
       "      <th>50%</th>\n",
       "      <td>1.502704</td>\n",
       "      <td>37.000000</td>\n",
       "    </tr>\n",
       "    <tr>\n",
       "      <th>75%</th>\n",
       "      <td>1.783199</td>\n",
       "      <td>44.250000</td>\n",
       "    </tr>\n",
       "    <tr>\n",
       "      <th>max</th>\n",
       "      <td>1.987163</td>\n",
       "      <td>59.000000</td>\n",
       "    </tr>\n",
       "  </tbody>\n",
       "</table>\n",
       "</div>"
      ],
      "text/plain": [
       "           Altura       Idade\n",
       "count  100.000000  100.000000\n",
       "mean     1.499043   36.890000\n",
       "std      0.296308   11.285008\n",
       "min      1.012050   20.000000\n",
       "25%      1.249999   27.750000\n",
       "50%      1.502704   37.000000\n",
       "75%      1.783199   44.250000\n",
       "max      1.987163   59.000000"
      ]
     },
     "execution_count": 16,
     "metadata": {},
     "output_type": "execute_result"
    }
   ],
   "source": [
    "df.describe()"
   ]
  },
  {
   "cell_type": "code",
   "execution_count": 20,
   "metadata": {},
   "outputs": [
    {
     "name": "stdout",
     "output_type": "stream",
     "text": [
      "variância Altura      0.087798\n",
      "Idade     127.351414\n",
      "dtype: float64\n",
      "variância pupulacional Altura      0.08692\n",
      "Idade     126.07790\n",
      "dtype: float64\n",
      "variância Altura     0.296308\n",
      "Idade     11.285008\n",
      "dtype: float64\n",
      "variância pupulacional Altura     0.294823\n",
      "Idade     11.228442\n",
      "dtype: float64\n"
     ]
    }
   ],
   "source": [
    "# Atenção para variância e desvio padrão\n",
    "print('variância',df.var()) # O ddof default é 1, então é o contrário do numpy!\n",
    "print('variância pupulacional',df.var(ddof=0))\n",
    "print('variância',df.std()) # O ddof default é 1, então é o contrário do numpy!\n",
    "print('variância pupulacional',df.std(ddof=0))\n",
    "\n"
   ]
  },
  {
   "cell_type": "code",
   "execution_count": 16,
   "metadata": {},
   "outputs": [
    {
     "data": {
      "text/plain": [
       "Index(['Altura', 'Idade'], dtype='object')"
      ]
     },
     "execution_count": 16,
     "metadata": {},
     "output_type": "execute_result"
    }
   ],
   "source": [
    "df.columns"
   ]
  },
  {
   "cell_type": "code",
   "execution_count": 24,
   "metadata": {},
   "outputs": [
    {
     "data": {
      "text/plain": [
       "array([[  1.66469006,  52.        ],\n",
       "       [  1.82069515,  28.        ],\n",
       "       [  1.56514344,  22.        ],\n",
       "       [  1.42641025,  44.        ],\n",
       "       [  1.76939141,  25.        ],\n",
       "       [  1.80020096,  41.        ],\n",
       "       [  1.34514445,  26.        ],\n",
       "       [  1.40455427,  41.        ],\n",
       "       [  1.57319765,  27.        ],\n",
       "       [  1.63451884,  23.        ],\n",
       "       [  1.38503672,  36.        ],\n",
       "       [  1.40124374,  35.        ],\n",
       "       [  1.67421318,  21.        ],\n",
       "       [  1.01414196,  33.        ],\n",
       "       [  1.80059516,  57.        ],\n",
       "       [  1.17076612,  28.        ],\n",
       "       [  1.44494408,  36.        ],\n",
       "       [  1.71494446,  32.        ],\n",
       "       [  1.28375571,  25.        ],\n",
       "       [  1.2408956 ,  30.        ],\n",
       "       [  1.64073432,  21.        ],\n",
       "       [  1.38372212,  50.        ],\n",
       "       [  1.95523073,  35.        ],\n",
       "       [  1.39721467,  24.        ],\n",
       "       [  1.82573654,  23.        ],\n",
       "       [  1.46073192,  20.        ],\n",
       "       [  1.35828536,  50.        ],\n",
       "       [  1.65887138,  45.        ],\n",
       "       [  1.06106572,  42.        ],\n",
       "       [  1.88541315,  37.        ],\n",
       "       [  1.03530932,  41.        ],\n",
       "       [  1.82320034,  26.        ],\n",
       "       [  1.0163931 ,  47.        ],\n",
       "       [  1.23801019,  59.        ],\n",
       "       [  1.72525915,  34.        ],\n",
       "       [  1.10514683,  50.        ],\n",
       "       [  1.32537902,  39.        ],\n",
       "       [  1.12222519,  35.        ],\n",
       "       [  1.74276172,  48.        ],\n",
       "       [  1.4762914 ,  56.        ],\n",
       "       [  1.04922228,  21.        ],\n",
       "       [  1.06452744,  28.        ],\n",
       "       [  1.41632154,  40.        ],\n",
       "       [  1.29772504,  30.        ],\n",
       "       [  1.55855652,  52.        ],\n",
       "       [  1.78070122,  54.        ],\n",
       "       [  1.29280794,  40.        ],\n",
       "       [  1.82841083,  46.        ],\n",
       "       [  1.9604978 ,  39.        ],\n",
       "       [  1.54533013,  33.        ],\n",
       "       [  1.42573674,  50.        ],\n",
       "       [  1.16081259,  40.        ],\n",
       "       [  1.96688569,  37.        ],\n",
       "       [  1.94594007,  38.        ],\n",
       "       [  1.45697316,  53.        ],\n",
       "       [  1.42196462,  32.        ],\n",
       "       [  1.26293154,  49.        ],\n",
       "       [  1.32881616,  21.        ],\n",
       "       [  1.30213398,  27.        ],\n",
       "       [  1.92346452,  43.        ],\n",
       "       [  1.82261618,  58.        ],\n",
       "       [  1.48510805,  21.        ],\n",
       "       [  1.1651222 ,  50.        ],\n",
       "       [  1.05323609,  47.        ],\n",
       "       [  1.1051794 ,  29.        ],\n",
       "       [  1.95612193,  23.        ],\n",
       "       [  1.36519874,  40.        ],\n",
       "       [  1.34192271,  26.        ],\n",
       "       [  1.6019927 ,  36.        ],\n",
       "       [  1.66428352,  29.        ],\n",
       "       [  1.53771558,  35.        ],\n",
       "       [  1.74703725,  49.        ],\n",
       "       [  1.31057053,  56.        ],\n",
       "       [  1.24811807,  23.        ],\n",
       "       [  1.74476633,  30.        ],\n",
       "       [  1.46615648,  26.        ],\n",
       "       [  1.86355068,  33.        ],\n",
       "       [  1.53078283,  49.        ],\n",
       "       [  1.62310224,  46.        ],\n",
       "       [  1.21364299,  59.        ],\n",
       "       [  1.40871995,  47.        ],\n",
       "       [  1.36199829,  28.        ],\n",
       "       [  1.87181   ,  45.        ],\n",
       "       [  1.23326473,  56.        ],\n",
       "       [  1.63984962,  53.        ],\n",
       "       [  1.9490735 ,  36.        ],\n",
       "       [  1.50270369,  31.        ],\n",
       "       [  1.17637259,  59.        ],\n",
       "       [  1.76222189,  43.        ],\n",
       "       [  1.36951542,  56.        ],\n",
       "       [  1.87312161,  31.        ],\n",
       "       [  1.97866753,  30.        ],\n",
       "       [  1.02985656,  54.        ],\n",
       "       [  1.48012048,  43.        ],\n",
       "       [  1.75394346,  49.        ],\n",
       "       [  1.73907724,  57.        ],\n",
       "       [  1.0283049 ,  33.        ],\n",
       "       [  1.18003725,  59.        ],\n",
       "       [  1.20220883,  57.        ],\n",
       "       [  1.21315284,  31.        ]])"
      ]
     },
     "execution_count": 24,
     "metadata": {},
     "output_type": "execute_result"
    }
   ],
   "source": [
    "df.values"
   ]
  },
  {
   "cell_type": "code",
   "execution_count": 23,
   "metadata": {},
   "outputs": [
    {
     "data": {
      "text/plain": [
       "RangeIndex(start=0, stop=100, step=1)"
      ]
     },
     "execution_count": 23,
     "metadata": {},
     "output_type": "execute_result"
    }
   ],
   "source": [
    "df.index"
   ]
  },
  {
   "cell_type": "code",
   "execution_count": 22,
   "metadata": {},
   "outputs": [
    {
     "name": "stdout",
     "output_type": "stream",
     "text": [
      "      Altura  Idade\n",
      "0   1.664690     52\n",
      "1   1.820695     28\n",
      "2   1.565143     22\n",
      "3   1.426410     44\n",
      "4   1.769391     25\n",
      "5   1.800201     41\n",
      "6   1.345144     26\n",
      "7   1.404554     41\n",
      "8   1.573198     27\n",
      "9   1.634519     23\n",
      "10  1.385037     36\n",
      "11  1.401244     35\n",
      "12  1.674213     21\n",
      "13  1.014142     33\n",
      "14  1.800595     57\n",
      "15  1.170766     28\n",
      "16  1.444944     36\n",
      "17  1.714944     32\n",
      "18  1.283756     25\n",
      "19  1.240896     30\n",
      "20  1.640734     21\n",
      "21  1.383722     50\n",
      "22  1.955231     35\n",
      "23  1.397215     24\n",
      "24  1.825737     23\n",
      "25  1.460732     20\n",
      "26  1.358285     50\n",
      "27  1.658871     45\n",
      "28  1.061066     42\n",
      "29  1.885413     37\n",
      "..       ...    ...\n",
      "70  1.537716     35\n",
      "71  1.747037     49\n",
      "72  1.310571     56\n",
      "73  1.248118     23\n",
      "74  1.744766     30\n",
      "75  1.466156     26\n",
      "76  1.863551     33\n",
      "77  1.530783     49\n",
      "78  1.623102     46\n",
      "79  1.213643     59\n",
      "80  1.408720     47\n",
      "81  1.361998     28\n",
      "82  1.871810     45\n",
      "83  1.233265     56\n",
      "84  1.639850     53\n",
      "85  1.949073     36\n",
      "86  1.502704     31\n",
      "87  1.176373     59\n",
      "88  1.762222     43\n",
      "89  1.369515     56\n",
      "90  1.873122     31\n",
      "91  1.978668     30\n",
      "92  1.029857     54\n",
      "93  1.480120     43\n",
      "94  1.753943     49\n",
      "95  1.739077     57\n",
      "96  1.028305     33\n",
      "97  1.180037     59\n",
      "98  1.202209     57\n",
      "99  1.213153     31\n",
      "\n",
      "[100 rows x 2 columns]\n"
     ]
    }
   ],
   "source": [
    "print(df)"
   ]
  },
  {
   "cell_type": "code",
   "execution_count": 27,
   "metadata": {},
   "outputs": [
    {
     "name": "stdout",
     "output_type": "stream",
     "text": [
      "<class 'pandas.core.series.Series'>\n"
     ]
    },
    {
     "data": {
      "text/plain": [
       "0    1.664690\n",
       "1    1.820695\n",
       "2    1.565143\n",
       "3    1.426410\n",
       "4    1.769391\n",
       "Name: Altura, dtype: float64"
      ]
     },
     "execution_count": 27,
     "metadata": {},
     "output_type": "execute_result"
    }
   ],
   "source": [
    "serie = df['Altura']\n",
    "print(type(serie))\n",
    "serie.head()"
   ]
  },
  {
   "cell_type": "code",
   "execution_count": 28,
   "metadata": {},
   "outputs": [
    {
     "data": {
      "text/html": [
       "<div>\n",
       "<style>\n",
       "    .dataframe thead tr:only-child th {\n",
       "        text-align: right;\n",
       "    }\n",
       "\n",
       "    .dataframe thead th {\n",
       "        text-align: left;\n",
       "    }\n",
       "\n",
       "    .dataframe tbody tr th {\n",
       "        vertical-align: top;\n",
       "    }\n",
       "</style>\n",
       "<table border=\"1\" class=\"dataframe\">\n",
       "  <thead>\n",
       "    <tr style=\"text-align: right;\">\n",
       "      <th></th>\n",
       "      <th>0</th>\n",
       "      <th>1</th>\n",
       "      <th>2</th>\n",
       "      <th>3</th>\n",
       "      <th>4</th>\n",
       "      <th>5</th>\n",
       "      <th>6</th>\n",
       "      <th>7</th>\n",
       "      <th>8</th>\n",
       "      <th>9</th>\n",
       "      <th>...</th>\n",
       "      <th>90</th>\n",
       "      <th>91</th>\n",
       "      <th>92</th>\n",
       "      <th>93</th>\n",
       "      <th>94</th>\n",
       "      <th>95</th>\n",
       "      <th>96</th>\n",
       "      <th>97</th>\n",
       "      <th>98</th>\n",
       "      <th>99</th>\n",
       "    </tr>\n",
       "  </thead>\n",
       "  <tbody>\n",
       "    <tr>\n",
       "      <th>Altura</th>\n",
       "      <td>1.66469</td>\n",
       "      <td>1.820695</td>\n",
       "      <td>1.565143</td>\n",
       "      <td>1.42641</td>\n",
       "      <td>1.769391</td>\n",
       "      <td>1.800201</td>\n",
       "      <td>1.345144</td>\n",
       "      <td>1.404554</td>\n",
       "      <td>1.573198</td>\n",
       "      <td>1.634519</td>\n",
       "      <td>...</td>\n",
       "      <td>1.873122</td>\n",
       "      <td>1.978668</td>\n",
       "      <td>1.029857</td>\n",
       "      <td>1.48012</td>\n",
       "      <td>1.753943</td>\n",
       "      <td>1.739077</td>\n",
       "      <td>1.028305</td>\n",
       "      <td>1.180037</td>\n",
       "      <td>1.202209</td>\n",
       "      <td>1.213153</td>\n",
       "    </tr>\n",
       "    <tr>\n",
       "      <th>Idade</th>\n",
       "      <td>52.00000</td>\n",
       "      <td>28.000000</td>\n",
       "      <td>22.000000</td>\n",
       "      <td>44.00000</td>\n",
       "      <td>25.000000</td>\n",
       "      <td>41.000000</td>\n",
       "      <td>26.000000</td>\n",
       "      <td>41.000000</td>\n",
       "      <td>27.000000</td>\n",
       "      <td>23.000000</td>\n",
       "      <td>...</td>\n",
       "      <td>31.000000</td>\n",
       "      <td>30.000000</td>\n",
       "      <td>54.000000</td>\n",
       "      <td>43.00000</td>\n",
       "      <td>49.000000</td>\n",
       "      <td>57.000000</td>\n",
       "      <td>33.000000</td>\n",
       "      <td>59.000000</td>\n",
       "      <td>57.000000</td>\n",
       "      <td>31.000000</td>\n",
       "    </tr>\n",
       "  </tbody>\n",
       "</table>\n",
       "<p>2 rows × 100 columns</p>\n",
       "</div>"
      ],
      "text/plain": [
       "              0          1          2         3          4          5   \\\n",
       "Altura   1.66469   1.820695   1.565143   1.42641   1.769391   1.800201   \n",
       "Idade   52.00000  28.000000  22.000000  44.00000  25.000000  41.000000   \n",
       "\n",
       "               6          7          8          9     ...             90  \\\n",
       "Altura   1.345144   1.404554   1.573198   1.634519    ...       1.873122   \n",
       "Idade   26.000000  41.000000  27.000000  23.000000    ...      31.000000   \n",
       "\n",
       "               91         92        93         94         95         96  \\\n",
       "Altura   1.978668   1.029857   1.48012   1.753943   1.739077   1.028305   \n",
       "Idade   30.000000  54.000000  43.00000  49.000000  57.000000  33.000000   \n",
       "\n",
       "               97         98         99  \n",
       "Altura   1.180037   1.202209   1.213153  \n",
       "Idade   59.000000  57.000000  31.000000  \n",
       "\n",
       "[2 rows x 100 columns]"
      ]
     },
     "execution_count": 28,
     "metadata": {},
     "output_type": "execute_result"
    }
   ],
   "source": [
    "df.T"
   ]
  },
  {
   "cell_type": "code",
   "execution_count": 31,
   "metadata": {},
   "outputs": [
    {
     "name": "stdout",
     "output_type": "stream",
     "text": [
      "<class 'pandas.core.frame.DataFrame'>\n"
     ]
    }
   ],
   "source": [
    "print(type(df))"
   ]
  },
  {
   "cell_type": "code",
   "execution_count": 37,
   "metadata": {},
   "outputs": [
    {
     "data": {
      "text/html": [
       "<div>\n",
       "<style>\n",
       "    .dataframe thead tr:only-child th {\n",
       "        text-align: right;\n",
       "    }\n",
       "\n",
       "    .dataframe thead th {\n",
       "        text-align: left;\n",
       "    }\n",
       "\n",
       "    .dataframe tbody tr th {\n",
       "        vertical-align: top;\n",
       "    }\n",
       "</style>\n",
       "<table border=\"1\" class=\"dataframe\">\n",
       "  <thead>\n",
       "    <tr style=\"text-align: right;\">\n",
       "      <th></th>\n",
       "      <th>Altura</th>\n",
       "      <th>Idade</th>\n",
       "    </tr>\n",
       "  </thead>\n",
       "  <tbody>\n",
       "    <tr>\n",
       "      <th>10</th>\n",
       "      <td>1.385037</td>\n",
       "      <td>36</td>\n",
       "    </tr>\n",
       "    <tr>\n",
       "      <th>16</th>\n",
       "      <td>1.444944</td>\n",
       "      <td>36</td>\n",
       "    </tr>\n",
       "    <tr>\n",
       "      <th>29</th>\n",
       "      <td>1.885413</td>\n",
       "      <td>37</td>\n",
       "    </tr>\n",
       "    <tr>\n",
       "      <th>36</th>\n",
       "      <td>1.325379</td>\n",
       "      <td>39</td>\n",
       "    </tr>\n",
       "    <tr>\n",
       "      <th>42</th>\n",
       "      <td>1.416322</td>\n",
       "      <td>40</td>\n",
       "    </tr>\n",
       "    <tr>\n",
       "      <th>46</th>\n",
       "      <td>1.292808</td>\n",
       "      <td>40</td>\n",
       "    </tr>\n",
       "    <tr>\n",
       "      <th>48</th>\n",
       "      <td>1.960498</td>\n",
       "      <td>39</td>\n",
       "    </tr>\n",
       "    <tr>\n",
       "      <th>51</th>\n",
       "      <td>1.160813</td>\n",
       "      <td>40</td>\n",
       "    </tr>\n",
       "    <tr>\n",
       "      <th>52</th>\n",
       "      <td>1.966886</td>\n",
       "      <td>37</td>\n",
       "    </tr>\n",
       "    <tr>\n",
       "      <th>53</th>\n",
       "      <td>1.945940</td>\n",
       "      <td>38</td>\n",
       "    </tr>\n",
       "    <tr>\n",
       "      <th>66</th>\n",
       "      <td>1.365199</td>\n",
       "      <td>40</td>\n",
       "    </tr>\n",
       "    <tr>\n",
       "      <th>68</th>\n",
       "      <td>1.601993</td>\n",
       "      <td>36</td>\n",
       "    </tr>\n",
       "    <tr>\n",
       "      <th>85</th>\n",
       "      <td>1.949073</td>\n",
       "      <td>36</td>\n",
       "    </tr>\n",
       "  </tbody>\n",
       "</table>\n",
       "</div>"
      ],
      "text/plain": [
       "      Altura  Idade\n",
       "10  1.385037     36\n",
       "16  1.444944     36\n",
       "29  1.885413     37\n",
       "36  1.325379     39\n",
       "42  1.416322     40\n",
       "46  1.292808     40\n",
       "48  1.960498     39\n",
       "51  1.160813     40\n",
       "52  1.966886     37\n",
       "53  1.945940     38\n",
       "66  1.365199     40\n",
       "68  1.601993     36\n",
       "85  1.949073     36"
      ]
     },
     "execution_count": 37,
     "metadata": {},
     "output_type": "execute_result"
    }
   ],
   "source": [
    "df[(df.Idade > 35) & (df.Idade <= 40)]"
   ]
  },
  {
   "cell_type": "code",
   "execution_count": 38,
   "metadata": {},
   "outputs": [
    {
     "data": {
      "text/html": [
       "<div>\n",
       "<style>\n",
       "    .dataframe thead tr:only-child th {\n",
       "        text-align: right;\n",
       "    }\n",
       "\n",
       "    .dataframe thead th {\n",
       "        text-align: left;\n",
       "    }\n",
       "\n",
       "    .dataframe tbody tr th {\n",
       "        vertical-align: top;\n",
       "    }\n",
       "</style>\n",
       "<table border=\"1\" class=\"dataframe\">\n",
       "  <thead>\n",
       "    <tr style=\"text-align: right;\">\n",
       "      <th></th>\n",
       "      <th>Pesos</th>\n",
       "      <th>Alturas</th>\n",
       "    </tr>\n",
       "  </thead>\n",
       "  <tbody>\n",
       "    <tr>\n",
       "      <th>0</th>\n",
       "      <td>74</td>\n",
       "      <td>1.73</td>\n",
       "    </tr>\n",
       "    <tr>\n",
       "      <th>1</th>\n",
       "      <td>61</td>\n",
       "      <td>1.61</td>\n",
       "    </tr>\n",
       "    <tr>\n",
       "      <th>2</th>\n",
       "      <td>61</td>\n",
       "      <td>1.61</td>\n",
       "    </tr>\n",
       "    <tr>\n",
       "      <th>3</th>\n",
       "      <td>68</td>\n",
       "      <td>1.67</td>\n",
       "    </tr>\n",
       "    <tr>\n",
       "      <th>4</th>\n",
       "      <td>70</td>\n",
       "      <td>1.69</td>\n",
       "    </tr>\n",
       "  </tbody>\n",
       "</table>\n",
       "</div>"
      ],
      "text/plain": [
       "   Pesos  Alturas\n",
       "0     74     1.73\n",
       "1     61     1.61\n",
       "2     61     1.61\n",
       "3     68     1.67\n",
       "4     70     1.69"
      ]
     },
     "execution_count": 38,
     "metadata": {},
     "output_type": "execute_result"
    }
   ],
   "source": [
    "modelo_df = pd.read_csv('mod-preditivo.csv')\n",
    "modelo_df.head()"
   ]
  },
  {
   "cell_type": "code",
   "execution_count": 41,
   "metadata": {
    "collapsed": true
   },
   "outputs": [],
   "source": [
    "mod2_df = pd.read_csv('mod-preditivo-original.csv',decimal=',')"
   ]
  },
  {
   "cell_type": "code",
   "execution_count": 42,
   "metadata": {},
   "outputs": [
    {
     "name": "stdout",
     "output_type": "stream",
     "text": [
      "<class 'pandas.core.frame.DataFrame'>\n",
      "RangeIndex: 29 entries, 0 to 28\n",
      "Data columns (total 2 columns):\n",
      "Pesos      29 non-null int64\n",
      "Alturas    29 non-null float64\n",
      "dtypes: float64(1), int64(1)\n",
      "memory usage: 544.0 bytes\n"
     ]
    }
   ],
   "source": [
    "mod2_df.info()"
   ]
  },
  {
   "cell_type": "code",
   "execution_count": 43,
   "metadata": {},
   "outputs": [
    {
     "data": {
      "text/html": [
       "<div>\n",
       "<style>\n",
       "    .dataframe thead tr:only-child th {\n",
       "        text-align: right;\n",
       "    }\n",
       "\n",
       "    .dataframe thead th {\n",
       "        text-align: left;\n",
       "    }\n",
       "\n",
       "    .dataframe tbody tr th {\n",
       "        vertical-align: top;\n",
       "    }\n",
       "</style>\n",
       "<table border=\"1\" class=\"dataframe\">\n",
       "  <thead>\n",
       "    <tr style=\"text-align: right;\">\n",
       "      <th></th>\n",
       "      <th>Pesos</th>\n",
       "      <th>Alturas</th>\n",
       "    </tr>\n",
       "  </thead>\n",
       "  <tbody>\n",
       "    <tr>\n",
       "      <th>0</th>\n",
       "      <td>74</td>\n",
       "      <td>1.73</td>\n",
       "    </tr>\n",
       "    <tr>\n",
       "      <th>1</th>\n",
       "      <td>61</td>\n",
       "      <td>1.61</td>\n",
       "    </tr>\n",
       "    <tr>\n",
       "      <th>2</th>\n",
       "      <td>61</td>\n",
       "      <td>1.61</td>\n",
       "    </tr>\n",
       "    <tr>\n",
       "      <th>3</th>\n",
       "      <td>68</td>\n",
       "      <td>1.67</td>\n",
       "    </tr>\n",
       "    <tr>\n",
       "      <th>4</th>\n",
       "      <td>70</td>\n",
       "      <td>1.69</td>\n",
       "    </tr>\n",
       "  </tbody>\n",
       "</table>\n",
       "</div>"
      ],
      "text/plain": [
       "   Pesos  Alturas\n",
       "0     74     1.73\n",
       "1     61     1.61\n",
       "2     61     1.61\n",
       "3     68     1.67\n",
       "4     70     1.69"
      ]
     },
     "execution_count": 43,
     "metadata": {},
     "output_type": "execute_result"
    }
   ],
   "source": [
    "mod2_df.head()"
   ]
  },
  {
   "cell_type": "markdown",
   "metadata": {},
   "source": [
    "# Exemplo de regressão linear com Scikit-learn"
   ]
  },
  {
   "cell_type": "code",
   "execution_count": 54,
   "metadata": {
    "collapsed": true
   },
   "outputs": [],
   "source": [
    "import pandas as pd\n",
    "import matplotlib.pyplot as plt\n",
    "from sklearn import datasets, linear_model\n",
    "from sklearn.metrics import mean_squared_error, r2_score\n",
    "from sklearn.model_selection import train_test_split\n",
    "%matplotlib inline"
   ]
  },
  {
   "cell_type": "markdown",
   "metadata": {},
   "source": [
    "## Obter os dados"
   ]
  },
  {
   "cell_type": "code",
   "execution_count": 49,
   "metadata": {
    "collapsed": true
   },
   "outputs": [],
   "source": [
    "dados_df = pd.read_csv('pesos-alturas.csv',decimal=',')"
   ]
  },
  {
   "cell_type": "code",
   "execution_count": 50,
   "metadata": {},
   "outputs": [
    {
     "data": {
      "text/html": [
       "<div>\n",
       "<style>\n",
       "    .dataframe thead tr:only-child th {\n",
       "        text-align: right;\n",
       "    }\n",
       "\n",
       "    .dataframe thead th {\n",
       "        text-align: left;\n",
       "    }\n",
       "\n",
       "    .dataframe tbody tr th {\n",
       "        vertical-align: top;\n",
       "    }\n",
       "</style>\n",
       "<table border=\"1\" class=\"dataframe\">\n",
       "  <thead>\n",
       "    <tr style=\"text-align: right;\">\n",
       "      <th></th>\n",
       "      <th>Pesos</th>\n",
       "      <th>Alturas</th>\n",
       "    </tr>\n",
       "  </thead>\n",
       "  <tbody>\n",
       "    <tr>\n",
       "      <th>0</th>\n",
       "      <td>74</td>\n",
       "      <td>1.73</td>\n",
       "    </tr>\n",
       "    <tr>\n",
       "      <th>1</th>\n",
       "      <td>61</td>\n",
       "      <td>1.62</td>\n",
       "    </tr>\n",
       "    <tr>\n",
       "      <th>2</th>\n",
       "      <td>61</td>\n",
       "      <td>1.63</td>\n",
       "    </tr>\n",
       "    <tr>\n",
       "      <th>3</th>\n",
       "      <td>68</td>\n",
       "      <td>1.68</td>\n",
       "    </tr>\n",
       "    <tr>\n",
       "      <th>4</th>\n",
       "      <td>70</td>\n",
       "      <td>1.68</td>\n",
       "    </tr>\n",
       "  </tbody>\n",
       "</table>\n",
       "</div>"
      ],
      "text/plain": [
       "   Pesos  Alturas\n",
       "0     74     1.73\n",
       "1     61     1.62\n",
       "2     61     1.63\n",
       "3     68     1.68\n",
       "4     70     1.68"
      ]
     },
     "execution_count": 50,
     "metadata": {},
     "output_type": "execute_result"
    }
   ],
   "source": [
    "dados_df.head()"
   ]
  },
  {
   "cell_type": "markdown",
   "metadata": {},
   "source": [
    "## Analisar os dados"
   ]
  },
  {
   "cell_type": "code",
   "execution_count": 51,
   "metadata": {},
   "outputs": [
    {
     "data": {
      "text/html": [
       "<div>\n",
       "<style>\n",
       "    .dataframe thead tr:only-child th {\n",
       "        text-align: right;\n",
       "    }\n",
       "\n",
       "    .dataframe thead th {\n",
       "        text-align: left;\n",
       "    }\n",
       "\n",
       "    .dataframe tbody tr th {\n",
       "        vertical-align: top;\n",
       "    }\n",
       "</style>\n",
       "<table border=\"1\" class=\"dataframe\">\n",
       "  <thead>\n",
       "    <tr style=\"text-align: right;\">\n",
       "      <th></th>\n",
       "      <th>Pesos</th>\n",
       "      <th>Alturas</th>\n",
       "    </tr>\n",
       "  </thead>\n",
       "  <tbody>\n",
       "    <tr>\n",
       "      <th>count</th>\n",
       "      <td>299.000000</td>\n",
       "      <td>299.000000</td>\n",
       "    </tr>\n",
       "    <tr>\n",
       "      <th>mean</th>\n",
       "      <td>64.933110</td>\n",
       "      <td>1.650301</td>\n",
       "    </tr>\n",
       "    <tr>\n",
       "      <th>std</th>\n",
       "      <td>9.078084</td>\n",
       "      <td>0.092237</td>\n",
       "    </tr>\n",
       "    <tr>\n",
       "      <th>min</th>\n",
       "      <td>50.000000</td>\n",
       "      <td>1.490000</td>\n",
       "    </tr>\n",
       "    <tr>\n",
       "      <th>25%</th>\n",
       "      <td>57.000000</td>\n",
       "      <td>1.570000</td>\n",
       "    </tr>\n",
       "    <tr>\n",
       "      <th>50%</th>\n",
       "      <td>65.000000</td>\n",
       "      <td>1.650000</td>\n",
       "    </tr>\n",
       "    <tr>\n",
       "      <th>75%</th>\n",
       "      <td>73.000000</td>\n",
       "      <td>1.725000</td>\n",
       "    </tr>\n",
       "    <tr>\n",
       "      <th>max</th>\n",
       "      <td>80.000000</td>\n",
       "      <td>1.830000</td>\n",
       "    </tr>\n",
       "  </tbody>\n",
       "</table>\n",
       "</div>"
      ],
      "text/plain": [
       "            Pesos     Alturas\n",
       "count  299.000000  299.000000\n",
       "mean    64.933110    1.650301\n",
       "std      9.078084    0.092237\n",
       "min     50.000000    1.490000\n",
       "25%     57.000000    1.570000\n",
       "50%     65.000000    1.650000\n",
       "75%     73.000000    1.725000\n",
       "max     80.000000    1.830000"
      ]
     },
     "execution_count": 51,
     "metadata": {},
     "output_type": "execute_result"
    }
   ],
   "source": [
    "dados_df.describe()"
   ]
  },
  {
   "cell_type": "code",
   "execution_count": 52,
   "metadata": {},
   "outputs": [
    {
     "data": {
      "text/plain": [
       "array([[<matplotlib.axes._subplots.AxesSubplot object at 0x7f17d277c8d0>,\n",
       "        <matplotlib.axes._subplots.AxesSubplot object at 0x7f17d22b5898>]], dtype=object)"
      ]
     },
     "execution_count": 52,
     "metadata": {},
     "output_type": "execute_result"
    },
    {
     "data": {
      "image/png": "[encoded data removed]",
      "text/plain": [
       "<matplotlib.figure.Figure at 0x7f17d277c208>"
      ]
     },
     "metadata": {},
     "output_type": "display_data"
    }
   ],
   "source": [
    "dados_df.hist()"
   ]
  },
  {
   "cell_type": "markdown",
   "metadata": {},
   "source": [
    "## Separar os dados em Treino e Teste\n",
    "Nesta análise, vamos tentar prever o peso de uma pessoa, dada a sua altura"
   ]
  },
  {
   "cell_type": "code",
   "execution_count": 87,
   "metadata": {
    "collapsed": true
   },
   "outputs": [],
   "source": [
    "X_train, X_test, y_train, y_test = train_test_split(dados_df[['Alturas']],dados_df[['Pesos']], \n",
    "                                                    test_size=0.33)\n"
   ]
  },
  {
   "cell_type": "markdown",
   "metadata": {},
   "source": [
    "## Criando e treinando o modelo de regressão"
   ]
  },
  {
   "cell_type": "code",
   "execution_count": 67,
   "metadata": {},
   "outputs": [
    {
     "data": {
      "text/plain": [
       "LinearRegression(copy_X=True, fit_intercept=True, n_jobs=1, normalize=False)"
      ]
     },
     "execution_count": 67,
     "metadata": {},
     "output_type": "execute_result"
    }
   ],
   "source": [
    "modelo = linear_model.LinearRegression()\n",
    "modelo.fit(X_train, y_train)"
   ]
  },
  {
   "cell_type": "markdown",
   "metadata": {},
   "source": [
    "## Avaliando o modelo"
   ]
  },
  {
   "cell_type": "code",
   "execution_count": 88,
   "metadata": {},
   "outputs": [
    {
     "name": "stdout",
     "output_type": "stream",
     "text": [
      "0.978788495086\n"
     ]
    }
   ],
   "source": [
    "print(modelo.score(X_train,y_train))"
   ]
  },
  {
   "cell_type": "markdown",
   "metadata": {},
   "source": [
    "## Executando o teste de previsões"
   ]
  },
  {
   "cell_type": "code",
   "execution_count": 74,
   "metadata": {
    "collapsed": true
   },
   "outputs": [],
   "source": [
    "predicoes = modelo.predict(X_test)"
   ]
  },
  {
   "cell_type": "code",
   "execution_count": 76,
   "metadata": {},
   "outputs": [
    {
     "name": "stdout",
     "output_type": "stream",
     "text": [
      "0.978676447099\n"
     ]
    }
   ],
   "source": [
    "print(r2_score(y_test,predicoes))"
   ]
  },
  {
   "cell_type": "code",
   "execution_count": 84,
   "metadata": {},
   "outputs": [
    {
     "data": {
      "text/plain": [
       "[<matplotlib.lines.Line2D at 0x7f17c990a898>]"
      ]
     },
     "execution_count": 84,
     "metadata": {},
     "output_type": "execute_result"
    },
    {
     "data": {
      "image/png": "[encoded data removed]",
      "text/plain": [
       "<matplotlib.figure.Figure at 0x7f17c990a4e0>"
      ]
     },
     "metadata": {},
     "output_type": "display_data"
    }
   ],
   "source": [
    "plt.scatter(X_train, y_train,  color='blue',s=10)\n",
    "plt.plot(X_test, predicoes, color='red', linewidth=3)"
   ]
  },
  {
   "cell_type": "code",
   "execution_count": null,
   "metadata": {
    "collapsed": true
   },
   "outputs": [],
   "source": []
  }
 ],
 "metadata": {
  "kernelspec": {
   "display_name": "Python 3",
   "language": "python",
   "name": "python3"
  },
  "language_info": {
   "codemirror_mode": {
    "name": "ipython",
    "version": 3
   },
   "file_extension": ".py",
   "mimetype": "text/x-python",
   "name": "python",
   "nbconvert_exporter": "python",
   "pygments_lexer": "ipython3",
   "version": "3.6.2"
  }
 },
 "nbformat": 4,
 "nbformat_minor": 2
}
