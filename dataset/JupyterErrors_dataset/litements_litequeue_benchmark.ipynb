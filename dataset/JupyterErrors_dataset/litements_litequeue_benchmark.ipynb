{
 "cells": [
  {
   "cell_type": "code",
   "execution_count": null,
   "id": "optical-government",
   "metadata": {},
   "outputs": [],
   "source": [
    "from litequeue import LiteQueue, MessageStatus\n",
    "import sqlite3\n",
    "\n",
    "import gc\n",
    "\n",
    "from string import ascii_lowercase, printable\n",
    "from random import choice\n",
    "\n",
    "\n",
    "def random_string(string_length=10, fuzz=False, space=False):\n",
    "    \"\"\"Generate a random string of fixed length \"\"\"\n",
    "    letters = ascii_lowercase\n",
    "    letters = letters + \" \" if space else letters\n",
    "    if fuzz:\n",
    "        letters = printable\n",
    "    return \"\".join(choice(letters) for i in range(string_length))"
   ]
  },
  {
   "cell_type": "code",
   "execution_count": null,
   "id": "7e741040-dac6-4496-a49f-12736421de7b",
   "metadata": {},
   "outputs": [
    {
     "name": "stdout",
     "output_type": "stream",
     "text": [
      "3.40.0\n"
     ]
    }
   ],
   "source": [
    "print(sqlite3.sqlite_version)"
   ]
  },
  {
   "cell_type": "markdown",
   "id": "nervous-clearance",
   "metadata": {},
   "source": [
    "In-memory SQL queue"
   ]
  },
  {
   "cell_type": "code",
   "execution_count": null,
   "id": "center-adventure",
   "metadata": {},
   "outputs": [],
   "source": [
    "q = LiteQueue(\":memory:\", maxsize=None)"
   ]
  },
  {
   "cell_type": "code",
   "execution_count": null,
   "id": "guilty-longitude",
   "metadata": {},
   "outputs": [
    {
     "data": {
      "text/plain": [
       "0"
      ]
     },
     "execution_count": null,
     "metadata": {},
     "output_type": "execute_result"
    }
   ],
   "source": [
    "gc.collect()"
   ]
  },
  {
   "cell_type": "code",
   "execution_count": null,
   "id": "about-handling",
   "metadata": {},
   "outputs": [
    {
     "name": "stdout",
     "output_type": "stream",
     "text": [
      "25.5 µs ± 1.17 µs per loop (mean ± std. dev. of 7 runs, 10,000 loops each)\n"
     ]
    }
   ],
   "source": [
    "%%timeit -n10000 -r7\n",
    "\n",
    "q.put(random_string(20))"
   ]
  },
  {
   "cell_type": "code",
   "execution_count": null,
   "id": "manufactured-visit",
   "metadata": {},
   "outputs": [
    {
     "data": {
      "text/plain": [
       "70000"
      ]
     },
     "execution_count": null,
     "metadata": {},
     "output_type": "execute_result"
    }
   ],
   "source": [
    "q.qsize()"
   ]
  },
  {
   "cell_type": "markdown",
   "id": "special-cherry",
   "metadata": {},
   "source": [
    "Standard python queue."
   ]
  },
  {
   "cell_type": "code",
   "execution_count": null,
   "id": "architectural-diversity",
   "metadata": {},
   "outputs": [],
   "source": [
    "from queue import Queue"
   ]
  },
  {
   "cell_type": "code",
   "execution_count": null,
   "id": "automotive-kentucky",
   "metadata": {},
   "outputs": [],
   "source": [
    "q = Queue()"
   ]
  },
  {
   "cell_type": "code",
   "execution_count": null,
   "id": "dietary-password",
   "metadata": {},
   "outputs": [
    {
     "data": {
      "text/plain": [
       "6"
      ]
     },
     "execution_count": null,
     "metadata": {},
     "output_type": "execute_result"
    }
   ],
   "source": [
    "gc.collect()"
   ]
  },
  {
   "cell_type": "code",
   "execution_count": null,
   "id": "civic-whole",
   "metadata": {},
   "outputs": [
    {
     "name": "stdout",
     "output_type": "stream",
     "text": [
      "8.82 µs ± 170 ns per loop (mean ± std. dev. of 7 runs, 10,000 loops each)\n"
     ]
    }
   ],
   "source": [
    "%%timeit -n10000 -r7\n",
    "\n",
    "q.put(random_string(20))"
   ]
  },
  {
   "cell_type": "markdown",
   "id": "determined-brick",
   "metadata": {},
   "source": [
    "Persistent SQL queue"
   ]
  },
  {
   "cell_type": "code",
   "execution_count": null,
   "id": "fabulous-quarter",
   "metadata": {},
   "outputs": [],
   "source": [
    "q = LiteQueue(\"test.queue\", maxsize=None)"
   ]
  },
  {
   "cell_type": "code",
   "execution_count": null,
   "id": "remarkable-governor",
   "metadata": {},
   "outputs": [
    {
     "data": {
      "text/plain": [
       "3"
      ]
     },
     "execution_count": null,
     "metadata": {},
     "output_type": "execute_result"
    }
   ],
   "source": [
    "gc.collect()"
   ]
  },
  {
   "cell_type": "code",
   "execution_count": null,
   "id": "twenty-bacteria",
   "metadata": {},
   "outputs": [
    {
     "name": "stdout",
     "output_type": "stream",
     "text": [
      "73.3 µs ± 3.33 µs per loop (mean ± std. dev. of 7 runs, 10,000 loops each)\n"
     ]
    }
   ],
   "source": [
    "%%timeit -n10000 -r7\n",
    "\n",
    "q.put(random_string(20))"
   ]
  },
  {
   "cell_type": "code",
   "execution_count": null,
   "id": "governmental-discretion",
   "metadata": {},
   "outputs": [
    {
     "name": "stdout",
     "output_type": "stream",
     "text": [
      "9.3M\ttest.queue\n",
      "32K\ttest.queue-shm\n",
      "4.0M\ttest.queue-wal\n"
     ]
    }
   ],
   "source": [
    "!du -sh test.queue*"
   ]
  },
  {
   "cell_type": "code",
   "execution_count": null,
   "id": "administrative-society",
   "metadata": {},
   "outputs": [],
   "source": [
    "!rm test.queue*"
   ]
  },
  {
   "cell_type": "code",
   "execution_count": null,
   "id": "angry-cherry",
   "metadata": {},
   "outputs": [],
   "source": [
    "assert q.conn.isolation_level is None"
   ]
  },
  {
   "cell_type": "markdown",
   "id": "devoted-hepatitis",
   "metadata": {},
   "source": [
    "Creating and removing tasks"
   ]
  },
  {
   "cell_type": "code",
   "execution_count": null,
   "id": "italic-poison",
   "metadata": {},
   "outputs": [],
   "source": [
    "q = Queue()"
   ]
  },
  {
   "cell_type": "code",
   "execution_count": null,
   "id": "ultimate-gross",
   "metadata": {},
   "outputs": [
    {
     "data": {
      "text/plain": [
       "6"
      ]
     },
     "execution_count": null,
     "metadata": {},
     "output_type": "execute_result"
    }
   ],
   "source": [
    "gc.collect()"
   ]
  },
  {
   "cell_type": "code",
   "execution_count": null,
   "id": "exposed-framing",
   "metadata": {},
   "outputs": [
    {
     "name": "stdout",
     "output_type": "stream",
     "text": [
      "11.9 µs ± 1.41 µs per loop (mean ± std. dev. of 7 runs, 10,000 loops each)\n"
     ]
    }
   ],
   "source": [
    "%%timeit -n10000 -r7\n",
    "\n",
    "tid = random_string(20)\n",
    "\n",
    "q.put(tid)\n",
    "\n",
    "q.get()\n",
    "\n",
    "q.task_done()"
   ]
  },
  {
   "cell_type": "code",
   "execution_count": null,
   "id": "assisted-sunday",
   "metadata": {},
   "outputs": [],
   "source": [
    "q = LiteQueue(\":memory:\", maxsize=None)"
   ]
  },
  {
   "cell_type": "code",
   "execution_count": null,
   "id": "faced-short",
   "metadata": {},
   "outputs": [
    {
     "data": {
      "text/plain": [
       "3"
      ]
     },
     "execution_count": null,
     "metadata": {},
     "output_type": "execute_result"
    }
   ],
   "source": [
    "gc.collect()"
   ]
  },
  {
   "cell_type": "code",
   "execution_count": null,
   "id": "understood-tobacco",
   "metadata": {},
   "outputs": [
    {
     "name": "stdout",
     "output_type": "stream",
     "text": [
      "69.3 µs ± 1.68 µs per loop (mean ± std. dev. of 7 runs, 10,000 loops each)\n"
     ]
    }
   ],
   "source": [
    "%%timeit -n10000 -r7\n",
    "\n",
    "tid = random_string(20)\n",
    "\n",
    "q.put(tid)\n",
    "\n",
    "task = q.pop()\n",
    "\n",
    "q.done(task.message_id)"
   ]
  },
  {
   "cell_type": "markdown",
   "id": "703c6ed5-ff9e-4c37-ac9d-d98f72b3ffde",
   "metadata": {},
   "source": [
    "**RETURNING vs. TRANSACTION**"
   ]
  },
  {
   "cell_type": "markdown",
   "id": "5a46dadb-19ef-4ce7-9b10-27575a2afeca",
   "metadata": {},
   "source": [
    "RETURNING"
   ]
  },
  {
   "cell_type": "code",
   "execution_count": null,
   "id": "6912676e-fa70-4470-b99a-1d95ef924c63",
   "metadata": {},
   "outputs": [
    {
     "data": {
      "text/plain": [
       "6"
      ]
     },
     "execution_count": null,
     "metadata": {},
     "output_type": "execute_result"
    }
   ],
   "source": [
    "q = LiteQueue(\"pop_bench.db\", maxsize=None)\n",
    "\n",
    "q.pop = q._pop_returning\n",
    "\n",
    "gc.collect()"
   ]
  },
  {
   "cell_type": "code",
   "execution_count": null,
   "id": "befebec3-5121-4307-8b99-114bcdcde00e",
   "metadata": {},
   "outputs": [],
   "source": [
    "for _ in range(10000):\n",
    "    tid = random_string(60)\n",
    "\n",
    "    q.put(tid)"
   ]
  },
  {
   "cell_type": "code",
   "execution_count": null,
   "id": "b10792da-4e14-48c8-a0a3-49dd0d8c88f2",
   "metadata": {},
   "outputs": [
    {
     "name": "stdout",
     "output_type": "stream",
     "text": [
      "CPU times: user 373 ms, sys: 151 ms, total: 525 ms\n",
      "Wall time: 621 ms\n"
     ]
    }
   ],
   "source": [
    "%%time\n",
    "\n",
    "\n",
    "for _ in range(8000):\n",
    "    task = q.pop()"
   ]
  },
  {
   "cell_type": "code",
   "execution_count": null,
   "id": "de39ae70-eb47-40bf-b40d-7f9191eee19c",
   "metadata": {},
   "outputs": [],
   "source": [
    "!rm pop_bench.db*"
   ]
  },
  {
   "cell_type": "code",
   "execution_count": null,
   "id": "0b1e42a8-7252-44c6-8cee-8305958a37c7",
   "metadata": {},
   "outputs": [
    {
     "data": {
      "text/plain": [
       "3"
      ]
     },
     "execution_count": null,
     "metadata": {},
     "output_type": "execute_result"
    }
   ],
   "source": [
    "q = LiteQueue(\"pop_bench.db\", maxsize=None)\n",
    "\n",
    "q.pop = q._pop_transaction\n",
    "\n",
    "gc.collect()"
   ]
  },
  {
   "cell_type": "code",
   "execution_count": null,
   "id": "7a2a683a-c23b-49ad-a0d3-93e2b5285ac4",
   "metadata": {},
   "outputs": [],
   "source": [
    "for _ in range(10000):\n",
    "    tid = random_string(60)\n",
    "\n",
    "    q.put(tid)"
   ]
  },
  {
   "cell_type": "code",
   "execution_count": null,
   "id": "9aa1480c-9421-4c8c-987b-0849de239161",
   "metadata": {},
   "outputs": [
    {
     "ename": "OperationalError",
     "evalue": "no such column: message",
     "output_type": "error",
     "traceback": [
      "\u001b[0;31m---------------------------------------------------------------------------\u001b[0m",
      "\u001b[0;31mOperationalError\u001b[0m                          Traceback (most recent call last)",
      "File \u001b[0;32m<timed exec>:2\u001b[0m\n",
      "File \u001b[0;32m~/x/litements/litequeue/litequeue.py:331\u001b[0m, in \u001b[0;36mLiteQueue._pop_transaction\u001b[0;34m(self)\u001b[0m\n\u001b[1;32m    318\u001b[0m \u001b[39m# lastrowid not working as I expected when executing\u001b[39;00m\n\u001b[1;32m    319\u001b[0m \u001b[39m# updates inside a transaction\u001b[39;00m\n\u001b[1;32m    320\u001b[0m \n\u001b[1;32m    321\u001b[0m \u001b[39m# this should happen all inside a single transaction\u001b[39;00m\n\u001b[1;32m    322\u001b[0m \u001b[39mwith\u001b[39;00m \u001b[39mself\u001b[39m\u001b[39m.\u001b[39mtransaction(mode\u001b[39m=\u001b[39m\u001b[39m\"\u001b[39m\u001b[39mIMMEDIATE\u001b[39m\u001b[39m\"\u001b[39m):\n\u001b[1;32m    323\u001b[0m     \u001b[39m# the `pop` action happens in 3 steps that happen inside a transaction\u001b[39;00m\n\u001b[1;32m    324\u001b[0m     \u001b[39m# 1: select the first undone message\u001b[39;00m\n\u001b[0;32m   (...)\u001b[0m\n\u001b[1;32m    329\u001b[0m     \u001b[39m# * Using the \"IMMEDIATE\" mode for the transaction, which locks the database immediately.\u001b[39;00m\n\u001b[1;32m    330\u001b[0m     \u001b[39m# * When doing the UPDATE statement, the condition checks the status again.\u001b[39;00m\n\u001b[0;32m--> 331\u001b[0m     message \u001b[39m=\u001b[39m \u001b[39mself\u001b[39;49m\u001b[39m.\u001b[39;49mconn\u001b[39m.\u001b[39;49mexecute(\n\u001b[1;32m    332\u001b[0m \u001b[39m        \u001b[39;49m\u001b[39m\"\"\"\u001b[39;49;00m\n\u001b[1;32m    333\u001b[0m \u001b[39m    SELECT message, message_id FROM Queue\u001b[39;49;00m\n\u001b[1;32m    334\u001b[0m \u001b[39m    WHERE rowid = (SELECT min(rowid) FROM Queue\u001b[39;49;00m\n\u001b[1;32m    335\u001b[0m \u001b[39m                   WHERE status = :status)\u001b[39;49;00m\n\u001b[1;32m    336\u001b[0m \u001b[39m    \"\"\"\u001b[39;49;00m\u001b[39m.\u001b[39;49mstrip(),\n\u001b[1;32m    337\u001b[0m         {\u001b[39m\"\u001b[39;49m\u001b[39mstatus\u001b[39;49m\u001b[39m\"\u001b[39;49m: MessageStatus\u001b[39m.\u001b[39;49mREADY},\n\u001b[1;32m    338\u001b[0m     )\u001b[39m.\u001b[39mfetchone()\n\u001b[1;32m    340\u001b[0m     \u001b[39mif\u001b[39;00m message \u001b[39mis\u001b[39;00m \u001b[39mNone\u001b[39;00m:\n\u001b[1;32m    341\u001b[0m         \u001b[39mreturn\u001b[39;00m \u001b[39mNone\u001b[39;00m\n",
      "\u001b[0;31mOperationalError\u001b[0m: no such column: message"
     ]
    }
   ],
   "source": [
    "%%time\n",
    "\n",
    "\n",
    "for _ in range(8000):\n",
    "    task = q.pop()"
   ]
  },
  {
   "cell_type": "code",
   "execution_count": null,
   "id": "90e466fe-4b50-471c-96e1-51826713479f",
   "metadata": {},
   "outputs": [],
   "source": [
    "!rm pop_bench.db*"
   ]
  },
  {
   "cell_type": "code",
   "execution_count": null,
   "id": "97195b64-7bdd-46f3-a4ad-1f4bf284ee07",
   "metadata": {},
   "outputs": [],
   "source": []
  }
 ],
 "metadata": {},
 "nbformat": 4,
 "nbformat_minor": 5
}
