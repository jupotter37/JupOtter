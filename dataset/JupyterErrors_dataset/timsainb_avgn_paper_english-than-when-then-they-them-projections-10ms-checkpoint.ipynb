{
 "cells": [
  {
   "cell_type": "code",
   "execution_count": 1,
   "metadata": {
    "ExecuteTime": {
     "end_time": "2019-11-23T20:44:07.940960Z",
     "start_time": "2019-11-23T20:44:07.930201Z"
    }
   },
   "outputs": [
    {
     "name": "stdout",
     "output_type": "stream",
     "text": [
      "env: CUDA_DEVICE_ORDER=PCI_BUS_ID\n",
      "env: CUDA_VISIBLE_DEVICES=2\n"
     ]
    }
   ],
   "source": [
    "%env CUDA_DEVICE_ORDER=PCI_BUS_ID\n",
    "%env CUDA_VISIBLE_DEVICES=2"
   ]
  },
  {
   "cell_type": "code",
   "execution_count": 2,
   "metadata": {
    "ExecuteTime": {
     "end_time": "2019-11-23T20:44:09.088129Z",
     "start_time": "2019-11-23T20:44:08.940321Z"
    }
   },
   "outputs": [],
   "source": [
    "%load_ext autoreload\n",
    "%autoreload 2"
   ]
  },
  {
   "cell_type": "code",
   "execution_count": 3,
   "metadata": {
    "ExecuteTime": {
     "end_time": "2019-11-23T20:44:54.401842Z",
     "start_time": "2019-11-23T20:44:50.390925Z"
    }
   },
   "outputs": [
    {
     "name": "stderr",
     "output_type": "stream",
     "text": [
      "/mnt/cube/tsainbur/conda_envs/tpy3/lib/python3.6/site-packages/tqdm/autonotebook/__init__.py:14: TqdmExperimentalWarning: Using `tqdm.autonotebook.tqdm` in notebook mode. Use `tqdm.tqdm` instead to force console mode (e.g. in jupyter console)\n",
      "  \" (e.g. in jupyter console)\", TqdmExperimentalWarning)\n"
     ]
    }
   ],
   "source": [
    "import os\n",
    "import numpy as np\n",
    "import pandas as pd\n",
    "import cudf as gd\n",
    "from cuml.manifold.umap import UMAP as cumlUMAP\n",
    "import matplotlib.pyplot as plt\n",
    "import seaborn as sns\n",
    "from tqdm.autonotebook import tqdm\n",
    "from avgn.utils.paths import DATA_DIR, most_recent_subdirectory, ensure_dir"
   ]
  },
  {
   "cell_type": "code",
   "execution_count": 4,
   "metadata": {
    "ExecuteTime": {
     "end_time": "2019-11-23T20:45:46.869457Z",
     "start_time": "2019-11-23T20:45:46.799702Z"
    }
   },
   "outputs": [],
   "source": [
    "window_loc = DATA_DIR / 'umap_windows/buckeye/than_when_then_they_them_10.pickle'"
   ]
  },
  {
   "cell_type": "code",
   "execution_count": 5,
   "metadata": {
    "ExecuteTime": {
     "end_time": "2019-11-23T20:47:24.925451Z",
     "start_time": "2019-11-23T20:47:23.202450Z"
    }
   },
   "outputs": [],
   "source": [
    "words_df = pd.read_pickle(window_loc)"
   ]
  },
  {
   "cell_type": "code",
   "execution_count": 6,
   "metadata": {
    "ExecuteTime": {
     "end_time": "2019-11-23T20:47:59.928393Z",
     "start_time": "2019-11-23T20:47:55.285962Z"
    }
   },
   "outputs": [
    {
     "data": {
      "text/html": [
       "<div>\n",
       "<style scoped>\n",
       "    .dataframe tbody tr th:only-of-type {\n",
       "        vertical-align: middle;\n",
       "    }\n",
       "\n",
       "    .dataframe tbody tr th {\n",
       "        vertical-align: top;\n",
       "    }\n",
       "\n",
       "    .dataframe thead th {\n",
       "        text-align: right;\n",
       "    }\n",
       "</style>\n",
       "<table border=\"1\" class=\"dataframe\">\n",
       "  <thead>\n",
       "    <tr style=\"text-align: right;\">\n",
       "      <th></th>\n",
       "      <th>start_time</th>\n",
       "      <th>end_time</th>\n",
       "      <th>word</th>\n",
       "      <th>phones</th>\n",
       "      <th>phone_start_times</th>\n",
       "      <th>phone_end_times</th>\n",
       "      <th>utterance_number</th>\n",
       "      <th>position_in_utterance</th>\n",
       "      <th>word_number</th>\n",
       "      <th>indv</th>\n",
       "      <th>indvi</th>\n",
       "      <th>age</th>\n",
       "      <th>sex</th>\n",
       "      <th>key</th>\n",
       "      <th>rate</th>\n",
       "      <th>spectrogram</th>\n",
       "      <th>windows</th>\n",
       "    </tr>\n",
       "  </thead>\n",
       "  <tbody>\n",
       "    <tr>\n",
       "      <th>4</th>\n",
       "      <td>25.588546</td>\n",
       "      <td>25.778605</td>\n",
       "      <td>they</td>\n",
       "      <td>[dh, ey]</td>\n",
       "      <td>[0.0, 0.06714699999999851]</td>\n",
       "      <td>[0.06714699999999851, 0.19005899999999798]</td>\n",
       "      <td>10</td>\n",
       "      <td>4</td>\n",
       "      <td>4</td>\n",
       "      <td>s25</td>\n",
       "      <td>0</td>\n",
       "      <td>o</td>\n",
       "      <td>f</td>\n",
       "      <td>s2501b</td>\n",
       "      <td>16000</td>\n",
       "      <td>[[3, 2, 2, 1, 0, 0, 0, 0, 0, 0, 0, 0, 0, 0, 0,...</td>\n",
       "      <td>[[[3, 23, 38, 44, 47, 47, 44, 36, 20, 8, 0, 1,...</td>\n",
       "    </tr>\n",
       "    <tr>\n",
       "      <th>26</th>\n",
       "      <td>33.108949</td>\n",
       "      <td>33.305837</td>\n",
       "      <td>they</td>\n",
       "      <td>[dh, ey]</td>\n",
       "      <td>[0.0, 0.08692599999999828]</td>\n",
       "      <td>[0.08692599999999828, 0.19688799999999418]</td>\n",
       "      <td>11</td>\n",
       "      <td>6</td>\n",
       "      <td>6</td>\n",
       "      <td>s25</td>\n",
       "      <td>0</td>\n",
       "      <td>o</td>\n",
       "      <td>f</td>\n",
       "      <td>s2501b</td>\n",
       "      <td>16000</td>\n",
       "      <td>[[48, 83, 111, 130, 143, 152, 158, 162, 165, 1...</td>\n",
       "      <td>[[[48, 111, 142, 139, 134, 135, 136, 124, 81, ...</td>\n",
       "    </tr>\n",
       "    <tr>\n",
       "      <th>69</th>\n",
       "      <td>48.811535</td>\n",
       "      <td>48.956812</td>\n",
       "      <td>then</td>\n",
       "      <td>[n, eh, n]</td>\n",
       "      <td>[0.0, 0.018174999999999386, 0.11372099999999818]</td>\n",
       "      <td>[0.018174999999999386, 0.11372099999999818, 0....</td>\n",
       "      <td>2</td>\n",
       "      <td>1</td>\n",
       "      <td>1</td>\n",
       "      <td>s25</td>\n",
       "      <td>0</td>\n",
       "      <td>o</td>\n",
       "      <td>f</td>\n",
       "      <td>s2501b</td>\n",
       "      <td>16000</td>\n",
       "      <td>[[205, 205, 203, 202, 200, 198, 196, 194, 193,...</td>\n",
       "      <td>[[[205, 199, 141, 98, 153, 150, 127, 113, 117,...</td>\n",
       "    </tr>\n",
       "  </tbody>\n",
       "</table>\n",
       "</div>"
      ],
      "text/plain": [
       "    start_time   end_time  word      phones  \\\n",
       "4    25.588546  25.778605  they    [dh, ey]   \n",
       "26   33.108949  33.305837  they    [dh, ey]   \n",
       "69   48.811535  48.956812  then  [n, eh, n]   \n",
       "\n",
       "                                   phone_start_times  \\\n",
       "4                         [0.0, 0.06714699999999851]   \n",
       "26                        [0.0, 0.08692599999999828]   \n",
       "69  [0.0, 0.018174999999999386, 0.11372099999999818]   \n",
       "\n",
       "                                      phone_end_times  utterance_number  \\\n",
       "4          [0.06714699999999851, 0.19005899999999798]                10   \n",
       "26         [0.08692599999999828, 0.19688799999999418]                11   \n",
       "69  [0.018174999999999386, 0.11372099999999818, 0....                 2   \n",
       "\n",
       "    position_in_utterance  word_number indv  indvi age sex     key   rate  \\\n",
       "4                       4            4  s25      0   o   f  s2501b  16000   \n",
       "26                      6            6  s25      0   o   f  s2501b  16000   \n",
       "69                      1            1  s25      0   o   f  s2501b  16000   \n",
       "\n",
       "                                          spectrogram  \\\n",
       "4   [[3, 2, 2, 1, 0, 0, 0, 0, 0, 0, 0, 0, 0, 0, 0,...   \n",
       "26  [[48, 83, 111, 130, 143, 152, 158, 162, 165, 1...   \n",
       "69  [[205, 205, 203, 202, 200, 198, 196, 194, 193,...   \n",
       "\n",
       "                                              windows  \n",
       "4   [[[3, 23, 38, 44, 47, 47, 44, 36, 20, 8, 0, 1,...  \n",
       "26  [[[48, 111, 142, 139, 134, 135, 136, 124, 81, ...  \n",
       "69  [[[205, 199, 141, 98, 153, 150, 127, 113, 117,...  "
      ]
     },
     "execution_count": 6,
     "metadata": {},
     "output_type": "execute_result"
    }
   ],
   "source": [
    "words_df[:3]"
   ]
  },
  {
   "cell_type": "code",
   "execution_count": 7,
   "metadata": {
    "ExecuteTime": {
     "end_time": "2019-11-23T20:48:17.825550Z",
     "start_time": "2019-11-23T20:48:17.738378Z"
    }
   },
   "outputs": [],
   "source": [
    "rate = 16000"
   ]
  },
  {
   "cell_type": "code",
   "execution_count": 11,
   "metadata": {
    "ExecuteTime": {
     "end_time": "2019-11-23T20:49:11.552479Z",
     "start_time": "2019-11-23T20:49:10.339899Z"
    }
   },
   "outputs": [],
   "source": [
    "windows = np.vstack(list(words_df.windows))\n",
    "np.shape(windows)"
   ]
  },
  {
   "cell_type": "code",
   "execution_count": 13,
   "metadata": {
    "ExecuteTime": {
     "end_time": "2019-11-23T20:49:35.729558Z",
     "start_time": "2019-11-23T20:49:27.082537Z"
    }
   },
   "outputs": [
    {
     "name": "stderr",
     "output_type": "stream",
     "text": [
      "/mnt/cube/tsainbur/conda_envs/tpy3/lib/python3.6/site-packages/ipykernel_launcher.py:1: UserWarning: Parameter should_downcast is deprecated, use convert_dtype in fit, fit_transform and transform  methods instead. \n",
      "  \"\"\"Entry point for launching an IPython kernel.\n",
      "/mnt/cube/tsainbur/conda_envs/tpy3/lib/python3.6/site-packages/ipykernel_launcher.py:2: UserWarning: Parameter should_downcast is deprecated, use convert_dtype in fit, fit_transform and transform  methods instead. \n",
      "  \n"
     ]
    },
    {
     "ename": "ValueError",
     "evalue": "data should be two dimensional",
     "output_type": "error",
     "traceback": [
      "\u001b[0;31m---------------------------------------------------------------------------\u001b[0m",
      "\u001b[0;31mValueError\u001b[0m                                Traceback (most recent call last)",
      "\u001b[0;32m<ipython-input-13-674b3715bc16>\u001b[0m in \u001b[0;36m<module>\u001b[0;34m\u001b[0m\n\u001b[1;32m      1\u001b[0m \u001b[0mcuml_umap\u001b[0m \u001b[0;34m=\u001b[0m \u001b[0mcumlUMAP\u001b[0m\u001b[0;34m(\u001b[0m\u001b[0mmin_dist\u001b[0m \u001b[0;34m=\u001b[0m \u001b[0;36m0.5\u001b[0m\u001b[0;34m)\u001b[0m\u001b[0;34m\u001b[0m\u001b[0;34m\u001b[0m\u001b[0m\n\u001b[0;32m----> 2\u001b[0;31m \u001b[0membedding\u001b[0m \u001b[0;34m=\u001b[0m \u001b[0mcuml_umap\u001b[0m\u001b[0;34m.\u001b[0m\u001b[0mfit_transform\u001b[0m\u001b[0;34m(\u001b[0m\u001b[0mwindows\u001b[0m\u001b[0;34m)\u001b[0m\u001b[0;34m\u001b[0m\u001b[0;34m\u001b[0m\u001b[0m\n\u001b[0m",
      "\u001b[0;32mcuml/manifold/umap.pyx\u001b[0m in \u001b[0;36mcuml.manifold.umap.UMAP.fit_transform\u001b[0;34m()\u001b[0m\n",
      "\u001b[0;32mcuml/manifold/umap.pyx\u001b[0m in \u001b[0;36mcuml.manifold.umap.UMAP.fit\u001b[0;34m()\u001b[0m\n",
      "\u001b[0;31mValueError\u001b[0m: data should be two dimensional"
     ]
    }
   ],
   "source": [
    "cuml_umap = cumlUMAP(min_dist = 0.5)\n",
    "embedding = cuml_umap.fit_transform(windows)"
   ]
  },
  {
   "cell_type": "code",
   "execution_count": null,
   "metadata": {},
   "outputs": [],
   "source": []
  }
 ],
 "metadata": {
  "kernelspec": {
   "display_name": "Python 3",
   "language": "python",
   "name": "python3"
  },
  "language_info": {
   "codemirror_mode": {
    "name": "ipython",
    "version": 3
   },
   "file_extension": ".py",
   "mimetype": "text/x-python",
   "name": "python",
   "nbconvert_exporter": "python",
   "pygments_lexer": "ipython3",
   "version": "3.6.7"
  }
 },
 "nbformat": 4,
 "nbformat_minor": 2
}
