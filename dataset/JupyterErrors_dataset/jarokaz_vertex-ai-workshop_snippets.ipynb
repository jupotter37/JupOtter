{
 "cells": [
  {
   "cell_type": "code",
   "execution_count": null,
   "id": "eeb2e854",
   "metadata": {},
   "outputs": [],
   "source": []
  },
  {
   "cell_type": "code",
   "execution_count": null,
   "id": "500e5943",
   "metadata": {},
   "outputs": [],
   "source": []
  },
  {
   "cell_type": "code",
   "execution_count": null,
   "id": "117c8bb6",
   "metadata": {},
   "outputs": [],
   "source": []
  },
  {
   "cell_type": "code",
   "execution_count": 16,
   "id": "413ad8c0",
   "metadata": {},
   "outputs": [
    {
     "data": {
      "text/html": [
       "<div>\n",
       "<style scoped>\n",
       "    .dataframe tbody tr th:only-of-type {\n",
       "        vertical-align: middle;\n",
       "    }\n",
       "\n",
       "    .dataframe tbody tr th {\n",
       "        vertical-align: top;\n",
       "    }\n",
       "\n",
       "    .dataframe thead th {\n",
       "        text-align: right;\n",
       "    }\n",
       "</style>\n",
       "<table border=\"1\" class=\"dataframe\">\n",
       "  <thead>\n",
       "    <tr style=\"text-align: right;\">\n",
       "      <th></th>\n",
       "      <th>0</th>\n",
       "    </tr>\n",
       "  </thead>\n",
       "  <tbody>\n",
       "    <tr>\n",
       "      <th>payment_type_vocab</th>\n",
       "      <td>[Cash, Prcard, Credit Card, Unknown, Mobile, D...</td>\n",
       "    </tr>\n",
       "    <tr>\n",
       "      <th>pickup_grid_vocab</th>\n",
       "      <td>[POINT(-87.6 41.8), POINT(-87.7 42), POINT(-87...</td>\n",
       "    </tr>\n",
       "    <tr>\n",
       "      <th>dropoff_grid_vocab</th>\n",
       "      <td>[POINT(-87.7 41.9), POINT(-87.7 42), POINT(-87...</td>\n",
       "    </tr>\n",
       "    <tr>\n",
       "      <th>trip_seconds_stats</th>\n",
       "      <td>{'_field_1': 873.2935509999938, '_field_2': 21...</td>\n",
       "    </tr>\n",
       "  </tbody>\n",
       "</table>\n",
       "</div>"
      ],
      "text/plain": [
       "                                                                    0\n",
       "payment_type_vocab  [Cash, Prcard, Credit Card, Unknown, Mobile, D...\n",
       "pickup_grid_vocab   [POINT(-87.6 41.8), POINT(-87.7 42), POINT(-87...\n",
       "dropoff_grid_vocab  [POINT(-87.7 41.9), POINT(-87.7 42), POINT(-87...\n",
       "trip_seconds_stats  {'_field_1': 873.2935509999938, '_field_2': 21..."
      ]
     },
     "execution_count": 16,
     "metadata": {},
     "output_type": "execute_result"
    }
   ],
   "source": [
    "sql_script = f'''\n",
    "SELECT ARRAY(SELECT DISTINCT payment_type FROM {PROJECT}.{BQ_DATASET_NAME}.{BQ_TABLE_NAME}) as payment_type_vocab,\n",
    "       ARRAY(SELECT DISTINCT pickup_grid FROM {PROJECT}.{BQ_DATASET_NAME}.{BQ_TABLE_NAME}) as pickup_grid_vocab,\n",
    "       ARRAY(SELECT DISTINCT dropoff_grid FROM {PROJECT}.{BQ_DATASET_NAME}.{BQ_TABLE_NAME}) as dropoff_grid_vocab,\n",
    "       (SELECT AS STRUCT AVG(trip_seconds), VARIANCE(trip_seconds) FROM {PROJECT}.{BQ_DATASET_NAME}.{BQ_TABLE_NAME}) as trip_seconds_stats,\n",
    "'''\n",
    "\n",
    "training_data_stats = client.query(sql_script).result().to_dataframe()\n",
    "training_data_stats.T"
   ]
  },
  {
   "cell_type": "code",
   "execution_count": null,
   "id": "ccc2dd6c",
   "metadata": {},
   "outputs": [],
   "source": []
  },
  {
   "cell_type": "code",
   "execution_count": 83,
   "id": "f731910b",
   "metadata": {},
   "outputs": [],
   "source": [
    "FEATURES = {\n",
    "    \"tip_bin\": (\"categorical\", tf.int64),\n",
    "    \"trip_month\": (\"categorical\", tf.int64),\n",
    "    \"trip_day\": (\"categorical\", tf.int64),\n",
    "    \"trip_day_of_week\": (\"categorical\", tf.int64),\n",
    "    \"trip_hour\": (\"categorical\", tf.int64),\n",
    "    \"payment_type\": (\"categorical\", tf.string),\n",
    "    \"pickup_grid\": (\"categorical\", tf.string),\n",
    "    \"dropoff_grid\": (\"categorical\", tf.string),\n",
    "    \"euclidean\": (\"numeric\", tf.double),\n",
    "    \"trip_seconds\": (\"numeric\", tf.int64),\n",
    "    \"trip_miles\": (\"numeric\", tf.double),\n",
    "}\n",
    "\n",
    "TARGET_FEATURE_NAME = \"tip_bin\"\n",
    "\n",
    "TARGET_LABELS = [\"tip<20%\", \"tip>=20%\"]"
   ]
  },
  {
   "cell_type": "code",
   "execution_count": 95,
   "id": "f5050c22",
   "metadata": {},
   "outputs": [],
   "source": [
    "def get_bq_dataset(project_id, dataset_id, table_id, selected_fields, target_feature='tip_bin', batch_size=32):\n",
    "    \n",
    "    def _transform_row(row_dict):\n",
    "        trimmed_dict = {column:\n",
    "                       (tf.strings.strip(tensor) if tensor.dtype == 'string' else tensor) \n",
    "                       for (column,tensor) in row_dict.items()\n",
    "                       }\n",
    "        target = trimmed_dict.pop(target_feature)\n",
    "        return (trimmed_dict, target)\n",
    "\n",
    "    client = tfio_bq.BigQueryClient()\n",
    "    parent = f'projects/{project_id}'\n",
    "\n",
    "    read_session = client.read_session(\n",
    "        parent=parent,\n",
    "        project_id=project_id,\n",
    "        table_id=table_id,\n",
    "        dataset_id=dataset_id,\n",
    "        selected_fields=selected_fields,\n",
    "    )\n",
    "\n",
    "    dataset = read_session.parallel_read_rows().map(_transform_row).batch(batch_size)\n",
    "    \n",
    "    return dataset\n",
    "\n",
    "\n",
    "def get_category_encoding_layer(name, dataset, dtype):\n",
    "    \"\"\"Creates a CategoryEncoding layer for a given feature.\"\"\"\n",
    "\n",
    "    if dtype == tf.string:\n",
    "      index = preprocessing.StringLookup()\n",
    "    else:\n",
    "      index = preprocessing.IntegerLookup()\n",
    "\n",
    "    feature_ds = dataset.map(lambda x, y: x[name])\n",
    "    index.adapt(feature_ds)\n",
    "    encoder = preprocessing.CategoryEncoding(max_tokens=index.vocab_size())\n",
    "\n",
    "    return lambda feature: encoder(index(feature))\n",
    "\n",
    "\n",
    "def get_normalization_layer(name, dataset):\n",
    "  \"\"\"\"Creates a Normalization layer for a given feature.\"\"\"\n",
    "  normalizer = preprocessing.Normalization()\n",
    "\n",
    "  feature_ds = dataset.map(lambda x, y: x[name])\n",
    "  normalizer.adapt(feature_ds)\n",
    "\n",
    "  return normalizer\n",
    "\n",
    "\n",
    "def create_model(dataset, input_features, units, dropout_ratio):\n",
    "    \"\"\"Creates a binary classifier for Chicago Taxi tip prediction task.\"\"\"\n",
    "    \n",
    "    all_inputs = []\n",
    "    encoded_features = []\n",
    "    for feature_name, feature_info in input_features.items():\n",
    "        col = tf.keras.Input(shape=(1,), name=feature_name, dtype=feature_info[1])\n",
    "        if feature_info[0] == 'categorical':\n",
    "            \n",
    "            encoding_layer = get_category_encoding_layer(feature_name, \n",
    "                                                         dataset,\n",
    "                                                         feature_info[1])\n",
    "        else:\n",
    "            encoding_layer = get_normalization_layer(feature_name,\n",
    "                                                     dataset) \n",
    "        encoded_col = encoding_layer(col)\n",
    "        all_inputs.append(col)\n",
    "        encoded_features.append(encoded_col)\n",
    "        \n",
    "    all_features = tf.keras.layers.concatenate(encoded_features)\n",
    "    \n",
    "    x = tf.keras.layers.Dense(units, activation=\"relu\")(all_features)\n",
    "    x = tf.keras.layers.Dropout(dropout_ratio)(x)\n",
    "    output = tf.keras.layers.Dense(1)(x)\n",
    "    model = tf.keras.Model(all_inputs, output)\n",
    "    \n",
    "    return model\n",
    "            "
   ]
  },
  {
   "cell_type": "code",
   "execution_count": null,
   "id": "3b3c9ae1",
   "metadata": {},
   "outputs": [],
   "source": []
  },
  {
   "cell_type": "code",
   "execution_count": null,
   "id": "bfac6713",
   "metadata": {},
   "outputs": [],
   "source": []
  },
  {
   "cell_type": "code",
   "execution_count": 107,
   "id": "cd816fb6",
   "metadata": {},
   "outputs": [],
   "source": [
    "batch_size = 128\n",
    "\n",
    "selected_fields = {key: {'output_type': value[1]} for key, value in FEATURES.items()}\n",
    "\n",
    "\n",
    "validation_ds = get_bq_dataset(PROJECT, BQ_DATASET_NAME, 'validation_split', selected_fields, batch_size=batch_size)\n",
    "training_ds = get_bq_dataset(PROJECT, BQ_DATASET_NAME, 'training_split', selected_fields, batch_size=batch_size)\n"
   ]
  },
  {
   "cell_type": "code",
   "execution_count": 96,
   "id": "40b2492c",
   "metadata": {},
   "outputs": [
    {
     "data": {
      "image/png": "[encoded data removed]",
      "text/plain": [
       "<IPython.core.display.Image object>"
      ]
     },
     "execution_count": 96,
     "metadata": {},
     "output_type": "execute_result"
    }
   ],
   "source": [
    "units = 32\n",
    "dropout_ratio = 0.5\n",
    "\n",
    "input_features = {key: value for key, value in FEATURES.items() if key != TARGET_FEATURE_NAME}\n",
    "\n",
    "model = create_model(training_ds, input_features, units, dropout_ratio)\n",
    "\n",
    "tf.keras.utils.plot_model(model, show_shapes=True, rankdir=\"LR\")"
   ]
  },
  {
   "cell_type": "code",
   "execution_count": 108,
   "id": "11ad357c",
   "metadata": {},
   "outputs": [],
   "source": [
    "optimizer = 'adam'\n",
    "loss = tf.keras.losses.BinaryCrossentropy(from_logits=True)\n",
    "metrics = ['accuracy']\n",
    "\n",
    "model.compile(optimizer=optimizer,\n",
    "              loss=loss,\n",
    "              metrics=metrics)"
   ]
  },
  {
   "cell_type": "code",
   "execution_count": 110,
   "id": "34c4816e",
   "metadata": {},
   "outputs": [
    {
     "name": "stdout",
     "output_type": "stream",
     "text": [
      "Epoch 1/3\n",
      "5514/5514 [==============================] - 64s 11ms/step - loss: 0.2580 - accuracy: 0.8866 - val_loss: 0.2788 - val_accuracy: 0.8778\n",
      "Epoch 2/3\n",
      "5514/5514 [==============================] - 63s 11ms/step - loss: 0.2580 - accuracy: 0.8868 - val_loss: 0.2783 - val_accuracy: 0.8783\n",
      "Epoch 3/3\n",
      "5514/5514 [==============================] - 63s 11ms/step - loss: 0.2578 - accuracy: 0.8869 - val_loss: 0.2783 - val_accuracy: 0.8786\n"
     ]
    },
    {
     "data": {
      "text/plain": [
       "<tensorflow.python.keras.callbacks.History at 0x7f30988eb9d0>"
      ]
     },
     "execution_count": 110,
     "metadata": {},
     "output_type": "execute_result"
    }
   ],
   "source": [
    "model.fit(training_ds, epochs=3, validation_data=validation_ds)"
   ]
  },
  {
   "cell_type": "code",
   "execution_count": null,
   "id": "14168399",
   "metadata": {},
   "outputs": [],
   "source": []
  },
  {
   "cell_type": "code",
   "execution_count": null,
   "id": "1043816b",
   "metadata": {},
   "outputs": [],
   "source": []
  },
  {
   "cell_type": "markdown",
   "id": "3785a1c3",
   "metadata": {},
   "source": [
    "## Create a Vertex managed tabular dataset"
   ]
  },
  {
   "cell_type": "code",
   "execution_count": null,
   "id": "e31a69b1",
   "metadata": {},
   "outputs": [],
   "source": [
    "display_name = 'Chicago Taxi Tips'\n",
    "filter = 'display_name=\"{}\"'.format(display_name)\n",
    "\n",
    "for dataset in vertex_ai.TabularDataset.list(filter=filter):\n",
    "    print(dataset.display_name, ' : ', dataset.resource_name)"
   ]
  },
  {
   "cell_type": "markdown",
   "id": "6c5851b4",
   "metadata": {},
   "source": [
    "### List existing tabular datasets"
   ]
  },
  {
   "cell_type": "markdown",
   "id": "cc66b36d",
   "metadata": {},
   "source": [
    "### List existing tabular datasets"
   ]
  },
  {
   "cell_type": "markdown",
   "id": "143851d9",
   "metadata": {},
   "source": [
    "### Create a new tabular dataset based on the BigQuery table"
   ]
  },
  {
   "cell_type": "code",
   "execution_count": null,
   "id": "1f117993",
   "metadata": {},
   "outputs": [],
   "source": [
    "bq_source = f'bq://{PROJECT}.{BQ_DATASET_NAME}.{BQ_TABLE_NAME}'\n",
    "\n",
    "\n",
    "dataset = vertex_ai.TabularDataset.create(\n",
    "    display_name=display_name, bq_source=bq_source\n",
    ")"
   ]
  },
  {
   "cell_type": "code",
   "execution_count": null,
   "id": "fbd8c4e6",
   "metadata": {},
   "outputs": [],
   "source": []
  },
  {
   "cell_type": "code",
   "execution_count": 1,
   "id": "facbf901",
   "metadata": {},
   "outputs": [],
   "source": [
    "import tensorflow_data_validation as tfdv"
   ]
  },
  {
   "cell_type": "code",
   "execution_count": 28,
   "id": "d1bce2fa",
   "metadata": {},
   "outputs": [],
   "source": [
    "schema_file = 'gs://jk-vertex-workshop-bucket/schema/schema.pbtxt'\n",
    "\n",
    "schema = tfdv.load_schema_text(\n",
    "        input_path=schema_file\n",
    "    )"
   ]
  },
  {
   "cell_type": "code",
   "execution_count": 20,
   "id": "253ce857",
   "metadata": {},
   "outputs": [],
   "source": [
    "from tensorflow_metadata.proto.v0 import schema_pb2, statistics_pb2, anomalies_pb2"
   ]
  },
  {
   "cell_type": "code",
   "execution_count": 21,
   "id": "602d56b6",
   "metadata": {},
   "outputs": [
    {
     "name": "stderr",
     "output_type": "stream",
     "text": [
      "WARNING:root:Replacing existing domain of feature \"trip_hour\".\n"
     ]
    },
    {
     "name": "stdout",
     "output_type": "stream",
     "text": [
      "2\n",
      "4\n"
     ]
    }
   ],
   "source": [
    "tfdv.set_domain(schema, \n",
    "                'trip_hour', \n",
    "                schema_pb2.IntDomain(name='trip_hour', min=0, max=4, is_categorical=True))"
   ]
  },
  {
   "cell_type": "code",
   "execution_count": 22,
   "id": "320a9995",
   "metadata": {},
   "outputs": [
    {
     "data": {
      "text/html": [
       "<div>\n",
       "<style scoped>\n",
       "    .dataframe tbody tr th:only-of-type {\n",
       "        vertical-align: middle;\n",
       "    }\n",
       "\n",
       "    .dataframe tbody tr th {\n",
       "        vertical-align: top;\n",
       "    }\n",
       "\n",
       "    .dataframe thead th {\n",
       "        text-align: right;\n",
       "    }\n",
       "</style>\n",
       "<table border=\"1\" class=\"dataframe\">\n",
       "  <thead>\n",
       "    <tr style=\"text-align: right;\">\n",
       "      <th></th>\n",
       "      <th>Type</th>\n",
       "      <th>Presence</th>\n",
       "      <th>Valency</th>\n",
       "      <th>Domain</th>\n",
       "    </tr>\n",
       "    <tr>\n",
       "      <th>Feature name</th>\n",
       "      <th></th>\n",
       "      <th></th>\n",
       "      <th></th>\n",
       "      <th></th>\n",
       "    </tr>\n",
       "  </thead>\n",
       "  <tbody>\n",
       "    <tr>\n",
       "      <th>'trip_month'</th>\n",
       "      <td>INT</td>\n",
       "      <td>required</td>\n",
       "      <td></td>\n",
       "      <td>[1,12]</td>\n",
       "    </tr>\n",
       "    <tr>\n",
       "      <th>'trip_day'</th>\n",
       "      <td>INT</td>\n",
       "      <td>required</td>\n",
       "      <td></td>\n",
       "      <td>[1,31]</td>\n",
       "    </tr>\n",
       "    <tr>\n",
       "      <th>'trip_day_of_week'</th>\n",
       "      <td>INT</td>\n",
       "      <td>required</td>\n",
       "      <td></td>\n",
       "      <td>[1,7]</td>\n",
       "    </tr>\n",
       "    <tr>\n",
       "      <th>'trip_hour'</th>\n",
       "      <td>INT</td>\n",
       "      <td>required</td>\n",
       "      <td></td>\n",
       "      <td>[0,4]</td>\n",
       "    </tr>\n",
       "    <tr>\n",
       "      <th>'trip_seconds'</th>\n",
       "      <td>INT</td>\n",
       "      <td>required</td>\n",
       "      <td></td>\n",
       "      <td>-</td>\n",
       "    </tr>\n",
       "    <tr>\n",
       "      <th>'trip_miles'</th>\n",
       "      <td>FLOAT</td>\n",
       "      <td>required</td>\n",
       "      <td></td>\n",
       "      <td>-</td>\n",
       "    </tr>\n",
       "    <tr>\n",
       "      <th>'payment_type'</th>\n",
       "      <td>STRING</td>\n",
       "      <td>required</td>\n",
       "      <td></td>\n",
       "      <td>'payment_type'</td>\n",
       "    </tr>\n",
       "    <tr>\n",
       "      <th>'pickup_grid'</th>\n",
       "      <td>STRING</td>\n",
       "      <td>required</td>\n",
       "      <td></td>\n",
       "      <td>'pickup_grid'</td>\n",
       "    </tr>\n",
       "    <tr>\n",
       "      <th>'dropoff_grid'</th>\n",
       "      <td>STRING</td>\n",
       "      <td>required</td>\n",
       "      <td></td>\n",
       "      <td>'dropoff_grid'</td>\n",
       "    </tr>\n",
       "    <tr>\n",
       "      <th>'euclidean'</th>\n",
       "      <td>FLOAT</td>\n",
       "      <td>required</td>\n",
       "      <td></td>\n",
       "      <td>-</td>\n",
       "    </tr>\n",
       "    <tr>\n",
       "      <th>'tip_bin'</th>\n",
       "      <td>INT</td>\n",
       "      <td>required</td>\n",
       "      <td></td>\n",
       "      <td>-</td>\n",
       "    </tr>\n",
       "  </tbody>\n",
       "</table>\n",
       "</div>"
      ],
      "text/plain": [
       "                      Type  Presence Valency          Domain\n",
       "Feature name                                                \n",
       "'trip_month'        INT     required          [1,12]        \n",
       "'trip_day'          INT     required          [1,31]        \n",
       "'trip_day_of_week'  INT     required          [1,7]         \n",
       "'trip_hour'         INT     required          [0,4]         \n",
       "'trip_seconds'      INT     required          -             \n",
       "'trip_miles'        FLOAT   required          -             \n",
       "'payment_type'      STRING  required          'payment_type'\n",
       "'pickup_grid'       STRING  required          'pickup_grid' \n",
       "'dropoff_grid'      STRING  required          'dropoff_grid'\n",
       "'euclidean'         FLOAT   required          -             \n",
       "'tip_bin'           INT     required          -             "
      ]
     },
     "metadata": {},
     "output_type": "display_data"
    }
   ],
   "source": [
    "tfdv.display_schema(schema=schema)"
   ]
  },
  {
   "cell_type": "code",
   "execution_count": 23,
   "id": "03ecaf8a",
   "metadata": {},
   "outputs": [],
   "source": [
    "stats_file = 'gs://jk-vertex-workshop-bucket/pipelines/895222332033/taxi-tip-predictor-continuous-training-20210608022816/generate-stats-op_3388501322759143424/stats/train/stats.pbtxt'"
   ]
  },
  {
   "cell_type": "code",
   "execution_count": 24,
   "id": "55f89934",
   "metadata": {},
   "outputs": [],
   "source": [
    "stats = tfdv.load_stats_text(\n",
    "            input_path=stats_file)\n",
    "        "
   ]
  },
  {
   "cell_type": "code",
   "execution_count": 25,
   "id": "ec5e909e",
   "metadata": {},
   "outputs": [
    {
     "data": {
      "text/html": [
       "<iframe id='facets-iframe' width=\"100%\" height=\"500px\"></iframe>\n",
       "        <script>\n",
       "        facets_iframe = document.getElementById('facets-iframe');\n",
       "        facets_html = '<script src=\"https://cdnjs.cloudflare.com/ajax/libs/webcomponentsjs/1.3.3/webcomponents-lite.js\"><\\/script><link rel=\"import\" href=\"https://raw.githubusercontent.com/PAIR-code/facets/master/facets-dist/facets-jupyter.html\"><facets-overview proto-input=\"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\"></facets-overview>';\n",
       "        facets_iframe.srcdoc = facets_html;\n",
       "         facets_iframe.id = \"\";\n",
       "         setTimeout(() => {\n",
       "           facets_iframe.setAttribute('height', facets_iframe.contentWindow.document.body.offsetHeight + 'px')\n",
       "         }, 1500)\n",
       "         </script>"
      ],
      "text/plain": [
       "<IPython.core.display.HTML object>"
      ]
     },
     "metadata": {},
     "output_type": "display_data"
    }
   ],
   "source": [
    "tfdv.visualize_statistics(stats)"
   ]
  },
  {
   "cell_type": "code",
   "execution_count": 29,
   "id": "e07f2aea",
   "metadata": {},
   "outputs": [
    {
     "name": "stderr",
     "output_type": "stream",
     "text": [
      "/opt/conda/lib/python3.7/site-packages/tensorflow_data_validation/utils/display_util.py:188: FutureWarning: Passing a negative integer is deprecated in version 1.0 and will not be supported in future version. Instead, use None to not limit the column width.\n",
      "  pd.set_option('max_colwidth', -1)\n"
     ]
    },
    {
     "data": {
      "text/html": [
       "<h4 style=\"color:green;\">No anomalies found.</h4>"
      ],
      "text/plain": [
       "<IPython.core.display.HTML object>"
      ]
     },
     "metadata": {},
     "output_type": "display_data"
    }
   ],
   "source": [
    "anomalies = tfdv.validate_statistics(statistics=stats, schema=schema)\n",
    "tfdv.display_anomalies(anomalies)"
   ]
  },
  {
   "cell_type": "code",
   "execution_count": 31,
   "id": "b9183543",
   "metadata": {},
   "outputs": [],
   "source": [
    "if anomalies.anomaly_info:\n",
    "    print('error')"
   ]
  },
  {
   "cell_type": "code",
   "execution_count": 13,
   "id": "9db6d085",
   "metadata": {},
   "outputs": [],
   "source": [
    "anomaly_rows = []\n",
    "for feature_name, anomaly_info in anomalies.anomaly_info.items():\n",
    "    print(anomaly_info)"
   ]
  },
  {
   "cell_type": "code",
   "execution_count": 11,
   "id": "c6d557f0",
   "metadata": {},
   "outputs": [
    {
     "data": {
      "text/plain": [
       "baseline {\n",
       "  feature {\n",
       "    name: \"trip_month\"\n",
       "    type: INT\n",
       "    int_domain {\n",
       "      name: \"trip_month\"\n",
       "      min: 1\n",
       "      max: 12\n",
       "      is_categorical: true\n",
       "    }\n",
       "    presence {\n",
       "      min_fraction: 1.0\n",
       "      min_count: 1\n",
       "    }\n",
       "    shape {\n",
       "      dim {\n",
       "        size: 1\n",
       "      }\n",
       "    }\n",
       "  }\n",
       "  feature {\n",
       "    name: \"trip_day\"\n",
       "    type: INT\n",
       "    int_domain {\n",
       "      name: \"trip_day\"\n",
       "      min: 1\n",
       "      max: 31\n",
       "      is_categorical: true\n",
       "    }\n",
       "    presence {\n",
       "      min_fraction: 1.0\n",
       "      min_count: 1\n",
       "    }\n",
       "    shape {\n",
       "      dim {\n",
       "        size: 1\n",
       "      }\n",
       "    }\n",
       "  }\n",
       "  feature {\n",
       "    name: \"trip_day_of_week\"\n",
       "    type: INT\n",
       "    int_domain {\n",
       "      name: \"trip_day_of_week\"\n",
       "      min: 1\n",
       "      max: 7\n",
       "      is_categorical: true\n",
       "    }\n",
       "    presence {\n",
       "      min_fraction: 1.0\n",
       "      min_count: 1\n",
       "    }\n",
       "    shape {\n",
       "      dim {\n",
       "        size: 1\n",
       "      }\n",
       "    }\n",
       "  }\n",
       "  feature {\n",
       "    name: \"trip_hour\"\n",
       "    type: INT\n",
       "    int_domain {\n",
       "      name: \"trip_hour\"\n",
       "      min: 0\n",
       "      max: 23\n",
       "      is_categorical: true\n",
       "    }\n",
       "    presence {\n",
       "      min_fraction: 1.0\n",
       "      min_count: 1\n",
       "    }\n",
       "    shape {\n",
       "      dim {\n",
       "        size: 1\n",
       "      }\n",
       "    }\n",
       "  }\n",
       "  feature {\n",
       "    name: \"trip_seconds\"\n",
       "    type: INT\n",
       "    presence {\n",
       "      min_fraction: 1.0\n",
       "      min_count: 1\n",
       "    }\n",
       "    shape {\n",
       "      dim {\n",
       "        size: 1\n",
       "      }\n",
       "    }\n",
       "  }\n",
       "  feature {\n",
       "    name: \"trip_miles\"\n",
       "    type: FLOAT\n",
       "    presence {\n",
       "      min_fraction: 1.0\n",
       "      min_count: 1\n",
       "    }\n",
       "    shape {\n",
       "      dim {\n",
       "        size: 1\n",
       "      }\n",
       "    }\n",
       "  }\n",
       "  feature {\n",
       "    name: \"payment_type\"\n",
       "    type: BYTES\n",
       "    domain: \"payment_type\"\n",
       "    presence {\n",
       "      min_fraction: 1.0\n",
       "      min_count: 1\n",
       "    }\n",
       "    shape {\n",
       "      dim {\n",
       "        size: 1\n",
       "      }\n",
       "    }\n",
       "  }\n",
       "  feature {\n",
       "    name: \"pickup_grid\"\n",
       "    type: BYTES\n",
       "    domain: \"pickup_grid\"\n",
       "    presence {\n",
       "      min_fraction: 1.0\n",
       "      min_count: 1\n",
       "    }\n",
       "    shape {\n",
       "      dim {\n",
       "        size: 1\n",
       "      }\n",
       "    }\n",
       "  }\n",
       "  feature {\n",
       "    name: \"dropoff_grid\"\n",
       "    type: BYTES\n",
       "    domain: \"dropoff_grid\"\n",
       "    presence {\n",
       "      min_fraction: 1.0\n",
       "      min_count: 1\n",
       "    }\n",
       "    shape {\n",
       "      dim {\n",
       "        size: 1\n",
       "      }\n",
       "    }\n",
       "  }\n",
       "  feature {\n",
       "    name: \"euclidean\"\n",
       "    type: FLOAT\n",
       "    presence {\n",
       "      min_fraction: 1.0\n",
       "      min_count: 1\n",
       "    }\n",
       "    shape {\n",
       "      dim {\n",
       "        size: 1\n",
       "      }\n",
       "    }\n",
       "  }\n",
       "  feature {\n",
       "    name: \"tip_bin\"\n",
       "    type: INT\n",
       "    bool_domain {\n",
       "    }\n",
       "    presence {\n",
       "      min_fraction: 1.0\n",
       "      min_count: 1\n",
       "    }\n",
       "    shape {\n",
       "      dim {\n",
       "        size: 1\n",
       "      }\n",
       "    }\n",
       "  }\n",
       "  string_domain {\n",
       "    name: \"payment_type\"\n",
       "    value: \"Cash\"\n",
       "    value: \"Credit Card\"\n",
       "    value: \"Dispute\"\n",
       "    value: \"Mobile\"\n",
       "    value: \"No Charge\"\n",
       "    value: \"Prcard\"\n",
       "    value: \"Prepaid\"\n",
       "    value: \"Unknown\"\n",
       "  }\n",
       "  string_domain {\n",
       "    name: \"pickup_grid\"\n",
       "    value: \"POINT(-87.5 41.7)\"\n",
       "    value: \"POINT(-87.6 41.7)\"\n",
       "    value: \"POINT(-87.6 41.8)\"\n",
       "    value: \"POINT(-87.6 41.9)\"\n",
       "    value: \"POINT(-87.6 42)\"\n",
       "    value: \"POINT(-87.7 41.7)\"\n",
       "    value: \"POINT(-87.7 41.8)\"\n",
       "    value: \"POINT(-87.7 41.9)\"\n",
       "    value: \"POINT(-87.7 42)\"\n",
       "    value: \"POINT(-87.8 41.8)\"\n",
       "    value: \"POINT(-87.8 41.9)\"\n",
       "    value: \"POINT(-87.8 42)\"\n",
       "    value: \"POINT(-87.9 42)\"\n",
       "  }\n",
       "  string_domain {\n",
       "    name: \"dropoff_grid\"\n",
       "    value: \"POINT(-87.5 41.7)\"\n",
       "    value: \"POINT(-87.6 41.7)\"\n",
       "    value: \"POINT(-87.6 41.8)\"\n",
       "    value: \"POINT(-87.6 41.9)\"\n",
       "    value: \"POINT(-87.6 42)\"\n",
       "    value: \"POINT(-87.7 41.7)\"\n",
       "    value: \"POINT(-87.7 41.8)\"\n",
       "    value: \"POINT(-87.7 41.9)\"\n",
       "    value: \"POINT(-87.7 42)\"\n",
       "    value: \"POINT(-87.8 41.8)\"\n",
       "    value: \"POINT(-87.8 41.9)\"\n",
       "    value: \"POINT(-87.8 42)\"\n",
       "    value: \"POINT(-87.9 42)\"\n",
       "  }\n",
       "}\n",
       "anomaly_name_format: SERIALIZED_PATH"
      ]
     },
     "execution_count": 11,
     "metadata": {},
     "output_type": "execute_result"
    }
   ],
   "source": [
    "anomalies"
   ]
  },
  {
   "cell_type": "code",
   "execution_count": 47,
   "id": "61d4b908",
   "metadata": {},
   "outputs": [],
   "source": [
    "import tensorflow as tf\n",
    "from tensorflow_io import bigquery as tfio_bq"
   ]
  },
  {
   "cell_type": "code",
   "execution_count": 48,
   "id": "ee353093",
   "metadata": {},
   "outputs": [],
   "source": [
    "model_path = model_path = 'gs://jk-vertex-workshop-bucket/pipelines/895222332033/taxi-tip-continuous-training-20210608050439/train-op_1857277449453174784/model'"
   ]
  },
  {
   "cell_type": "code",
   "execution_count": 64,
   "id": "350c7ed6",
   "metadata": {},
   "outputs": [
    {
     "ename": "TypeError",
     "evalue": "__init__() got multiple values for keyword argument 'max_tokens'",
     "output_type": "error",
     "traceback": [
      "\u001b[0;31m---------------------------------------------------------------------------\u001b[0m",
      "\u001b[0;31mTypeError\u001b[0m                                 Traceback (most recent call last)",
      "\u001b[0;32m<ipython-input-64-f6caa33b8f49>\u001b[0m in \u001b[0;36m<module>\u001b[0;34m\u001b[0m\n\u001b[0;32m----> 1\u001b[0;31m \u001b[0mmodel\u001b[0m \u001b[0;34m=\u001b[0m \u001b[0mtf\u001b[0m\u001b[0;34m.\u001b[0m\u001b[0mkeras\u001b[0m\u001b[0;34m.\u001b[0m\u001b[0mmodels\u001b[0m\u001b[0;34m.\u001b[0m\u001b[0mload_model\u001b[0m\u001b[0;34m(\u001b[0m\u001b[0mmodel_path\u001b[0m\u001b[0;34m)\u001b[0m\u001b[0;34m\u001b[0m\u001b[0;34m\u001b[0m\u001b[0m\n\u001b[0m",
      "\u001b[0;32m/opt/conda/lib/python3.7/site-packages/tensorflow/python/keras/saving/save.py\u001b[0m in \u001b[0;36mload_model\u001b[0;34m(filepath, custom_objects, compile, options)\u001b[0m\n\u001b[1;32m    210\u001b[0m       \u001b[0;32mif\u001b[0m \u001b[0misinstance\u001b[0m\u001b[0;34m(\u001b[0m\u001b[0mfilepath\u001b[0m\u001b[0;34m,\u001b[0m \u001b[0msix\u001b[0m\u001b[0;34m.\u001b[0m\u001b[0mstring_types\u001b[0m\u001b[0;34m)\u001b[0m\u001b[0;34m:\u001b[0m\u001b[0;34m\u001b[0m\u001b[0;34m\u001b[0m\u001b[0m\n\u001b[1;32m    211\u001b[0m         \u001b[0mloader_impl\u001b[0m\u001b[0;34m.\u001b[0m\u001b[0mparse_saved_model\u001b[0m\u001b[0;34m(\u001b[0m\u001b[0mfilepath\u001b[0m\u001b[0;34m)\u001b[0m\u001b[0;34m\u001b[0m\u001b[0;34m\u001b[0m\u001b[0m\n\u001b[0;32m--> 212\u001b[0;31m         \u001b[0;32mreturn\u001b[0m \u001b[0msaved_model_load\u001b[0m\u001b[0;34m.\u001b[0m\u001b[0mload\u001b[0m\u001b[0;34m(\u001b[0m\u001b[0mfilepath\u001b[0m\u001b[0;34m,\u001b[0m \u001b[0mcompile\u001b[0m\u001b[0;34m,\u001b[0m \u001b[0moptions\u001b[0m\u001b[0;34m)\u001b[0m\u001b[0;34m\u001b[0m\u001b[0;34m\u001b[0m\u001b[0m\n\u001b[0m\u001b[1;32m    213\u001b[0m \u001b[0;34m\u001b[0m\u001b[0m\n\u001b[1;32m    214\u001b[0m   raise IOError(\n",
      "\u001b[0;32m/opt/conda/lib/python3.7/site-packages/tensorflow/python/keras/saving/saved_model/load.py\u001b[0m in \u001b[0;36mload\u001b[0;34m(path, compile, options)\u001b[0m\n\u001b[1;32m    136\u001b[0m   \u001b[0;31m# Recreate layers and metrics using the info stored in the metadata.\u001b[0m\u001b[0;34m\u001b[0m\u001b[0;34m\u001b[0m\u001b[0;34m\u001b[0m\u001b[0m\n\u001b[1;32m    137\u001b[0m   \u001b[0mkeras_loader\u001b[0m \u001b[0;34m=\u001b[0m \u001b[0mKerasObjectLoader\u001b[0m\u001b[0;34m(\u001b[0m\u001b[0mmetadata\u001b[0m\u001b[0;34m,\u001b[0m \u001b[0mobject_graph_def\u001b[0m\u001b[0;34m)\u001b[0m\u001b[0;34m\u001b[0m\u001b[0;34m\u001b[0m\u001b[0m\n\u001b[0;32m--> 138\u001b[0;31m   \u001b[0mkeras_loader\u001b[0m\u001b[0;34m.\u001b[0m\u001b[0mload_layers\u001b[0m\u001b[0;34m(\u001b[0m\u001b[0mcompile\u001b[0m\u001b[0;34m=\u001b[0m\u001b[0mcompile\u001b[0m\u001b[0;34m)\u001b[0m\u001b[0;34m\u001b[0m\u001b[0;34m\u001b[0m\u001b[0m\n\u001b[0m\u001b[1;32m    139\u001b[0m \u001b[0;34m\u001b[0m\u001b[0m\n\u001b[1;32m    140\u001b[0m   \u001b[0;31m# Generate a dictionary of all loaded nodes.\u001b[0m\u001b[0;34m\u001b[0m\u001b[0;34m\u001b[0m\u001b[0;34m\u001b[0m\u001b[0m\n",
      "\u001b[0;32m/opt/conda/lib/python3.7/site-packages/tensorflow/python/keras/saving/saved_model/load.py\u001b[0m in \u001b[0;36mload_layers\u001b[0;34m(self, compile)\u001b[0m\n\u001b[1;32m    374\u001b[0m       self.loaded_nodes[node_metadata.node_id] = self._load_layer(\n\u001b[1;32m    375\u001b[0m           \u001b[0mnode_metadata\u001b[0m\u001b[0;34m.\u001b[0m\u001b[0mnode_id\u001b[0m\u001b[0;34m,\u001b[0m \u001b[0mnode_metadata\u001b[0m\u001b[0;34m.\u001b[0m\u001b[0midentifier\u001b[0m\u001b[0;34m,\u001b[0m\u001b[0;34m\u001b[0m\u001b[0;34m\u001b[0m\u001b[0m\n\u001b[0;32m--> 376\u001b[0;31m           node_metadata.metadata)\n\u001b[0m\u001b[1;32m    377\u001b[0m \u001b[0;34m\u001b[0m\u001b[0m\n\u001b[1;32m    378\u001b[0m     \u001b[0;32mfor\u001b[0m \u001b[0mnode_metadata\u001b[0m \u001b[0;32min\u001b[0m \u001b[0mmetric_list\u001b[0m\u001b[0;34m:\u001b[0m\u001b[0;34m\u001b[0m\u001b[0;34m\u001b[0m\u001b[0m\n",
      "\u001b[0;32m/opt/conda/lib/python3.7/site-packages/tensorflow/python/keras/saving/saved_model/load.py\u001b[0m in \u001b[0;36m_load_layer\u001b[0;34m(self, node_id, identifier, metadata)\u001b[0m\n\u001b[1;32m    415\u001b[0m     \u001b[0;31m# Detect whether this object can be revived from the config. If not, then\u001b[0m\u001b[0;34m\u001b[0m\u001b[0;34m\u001b[0m\u001b[0;34m\u001b[0m\u001b[0m\n\u001b[1;32m    416\u001b[0m     \u001b[0;31m# revive from the SavedModel instead.\u001b[0m\u001b[0;34m\u001b[0m\u001b[0;34m\u001b[0m\u001b[0;34m\u001b[0m\u001b[0m\n\u001b[0;32m--> 417\u001b[0;31m     \u001b[0mobj\u001b[0m\u001b[0;34m,\u001b[0m \u001b[0msetter\u001b[0m \u001b[0;34m=\u001b[0m \u001b[0mself\u001b[0m\u001b[0;34m.\u001b[0m\u001b[0m_revive_from_config\u001b[0m\u001b[0;34m(\u001b[0m\u001b[0midentifier\u001b[0m\u001b[0;34m,\u001b[0m \u001b[0mmetadata\u001b[0m\u001b[0;34m,\u001b[0m \u001b[0mnode_id\u001b[0m\u001b[0;34m)\u001b[0m\u001b[0;34m\u001b[0m\u001b[0;34m\u001b[0m\u001b[0m\n\u001b[0m\u001b[1;32m    418\u001b[0m     \u001b[0;32mif\u001b[0m \u001b[0mobj\u001b[0m \u001b[0;32mis\u001b[0m \u001b[0;32mNone\u001b[0m\u001b[0;34m:\u001b[0m\u001b[0;34m\u001b[0m\u001b[0;34m\u001b[0m\u001b[0m\n\u001b[1;32m    419\u001b[0m       \u001b[0mobj\u001b[0m\u001b[0;34m,\u001b[0m \u001b[0msetter\u001b[0m \u001b[0;34m=\u001b[0m \u001b[0mrevive_custom_object\u001b[0m\u001b[0;34m(\u001b[0m\u001b[0midentifier\u001b[0m\u001b[0;34m,\u001b[0m \u001b[0mmetadata\u001b[0m\u001b[0;34m)\u001b[0m\u001b[0;34m\u001b[0m\u001b[0;34m\u001b[0m\u001b[0m\n",
      "\u001b[0;32m/opt/conda/lib/python3.7/site-packages/tensorflow/python/keras/saving/saved_model/load.py\u001b[0m in \u001b[0;36m_revive_from_config\u001b[0;34m(self, identifier, metadata, node_id)\u001b[0m\n\u001b[1;32m    433\u001b[0m       obj = (\n\u001b[1;32m    434\u001b[0m           \u001b[0mself\u001b[0m\u001b[0;34m.\u001b[0m\u001b[0m_revive_graph_network\u001b[0m\u001b[0;34m(\u001b[0m\u001b[0mmetadata\u001b[0m\u001b[0;34m,\u001b[0m \u001b[0mnode_id\u001b[0m\u001b[0;34m)\u001b[0m \u001b[0;32mor\u001b[0m\u001b[0;34m\u001b[0m\u001b[0;34m\u001b[0m\u001b[0m\n\u001b[0;32m--> 435\u001b[0;31m           self._revive_layer_from_config(metadata, node_id))\n\u001b[0m\u001b[1;32m    436\u001b[0m \u001b[0;34m\u001b[0m\u001b[0m\n\u001b[1;32m    437\u001b[0m     \u001b[0;32mif\u001b[0m \u001b[0mobj\u001b[0m \u001b[0;32mis\u001b[0m \u001b[0;32mNone\u001b[0m\u001b[0;34m:\u001b[0m\u001b[0;34m\u001b[0m\u001b[0;34m\u001b[0m\u001b[0m\n",
      "\u001b[0;32m/opt/conda/lib/python3.7/site-packages/tensorflow/python/keras/saving/saved_model/load.py\u001b[0m in \u001b[0;36m_revive_layer_from_config\u001b[0;34m(self, metadata, node_id)\u001b[0m\n\u001b[1;32m    493\u001b[0m     \u001b[0;32mtry\u001b[0m\u001b[0;34m:\u001b[0m\u001b[0;34m\u001b[0m\u001b[0;34m\u001b[0m\u001b[0m\n\u001b[1;32m    494\u001b[0m       obj = layers_module.deserialize(\n\u001b[0;32m--> 495\u001b[0;31m           generic_utils.serialize_keras_class_and_config(class_name, config))\n\u001b[0m\u001b[1;32m    496\u001b[0m     \u001b[0;32mexcept\u001b[0m \u001b[0mValueError\u001b[0m\u001b[0;34m:\u001b[0m\u001b[0;34m\u001b[0m\u001b[0;34m\u001b[0m\u001b[0m\n\u001b[1;32m    497\u001b[0m       \u001b[0;32mif\u001b[0m \u001b[0mmust_restore_from_config\u001b[0m\u001b[0;34m:\u001b[0m\u001b[0;34m\u001b[0m\u001b[0;34m\u001b[0m\u001b[0m\n",
      "\u001b[0;32m/opt/conda/lib/python3.7/site-packages/tensorflow/python/keras/layers/serialization.py\u001b[0m in \u001b[0;36mdeserialize\u001b[0;34m(config, custom_objects)\u001b[0m\n\u001b[1;32m    175\u001b[0m       \u001b[0mmodule_objects\u001b[0m\u001b[0;34m=\u001b[0m\u001b[0mLOCAL\u001b[0m\u001b[0;34m.\u001b[0m\u001b[0mALL_OBJECTS\u001b[0m\u001b[0;34m,\u001b[0m\u001b[0;34m\u001b[0m\u001b[0;34m\u001b[0m\u001b[0m\n\u001b[1;32m    176\u001b[0m       \u001b[0mcustom_objects\u001b[0m\u001b[0;34m=\u001b[0m\u001b[0mcustom_objects\u001b[0m\u001b[0;34m,\u001b[0m\u001b[0;34m\u001b[0m\u001b[0;34m\u001b[0m\u001b[0m\n\u001b[0;32m--> 177\u001b[0;31m       printable_module_name='layer')\n\u001b[0m",
      "\u001b[0;32m/opt/conda/lib/python3.7/site-packages/tensorflow/python/keras/utils/generic_utils.py\u001b[0m in \u001b[0;36mdeserialize_keras_object\u001b[0;34m(identifier, module_objects, custom_objects, printable_module_name)\u001b[0m\n\u001b[1;32m    358\u001b[0m                 list(custom_objects.items())))\n\u001b[1;32m    359\u001b[0m       \u001b[0;32mwith\u001b[0m \u001b[0mCustomObjectScope\u001b[0m\u001b[0;34m(\u001b[0m\u001b[0mcustom_objects\u001b[0m\u001b[0;34m)\u001b[0m\u001b[0;34m:\u001b[0m\u001b[0;34m\u001b[0m\u001b[0;34m\u001b[0m\u001b[0m\n\u001b[0;32m--> 360\u001b[0;31m         \u001b[0;32mreturn\u001b[0m \u001b[0mcls\u001b[0m\u001b[0;34m.\u001b[0m\u001b[0mfrom_config\u001b[0m\u001b[0;34m(\u001b[0m\u001b[0mcls_config\u001b[0m\u001b[0;34m)\u001b[0m\u001b[0;34m\u001b[0m\u001b[0;34m\u001b[0m\u001b[0m\n\u001b[0m\u001b[1;32m    361\u001b[0m     \u001b[0;32melse\u001b[0m\u001b[0;34m:\u001b[0m\u001b[0;34m\u001b[0m\u001b[0;34m\u001b[0m\u001b[0m\n\u001b[1;32m    362\u001b[0m       \u001b[0;31m# Then `cls` may be a function returning a class.\u001b[0m\u001b[0;34m\u001b[0m\u001b[0;34m\u001b[0m\u001b[0;34m\u001b[0m\u001b[0m\n",
      "\u001b[0;32m/opt/conda/lib/python3.7/site-packages/tensorflow/python/keras/engine/base_layer.py\u001b[0m in \u001b[0;36mfrom_config\u001b[0;34m(cls, config)\u001b[0m\n\u001b[1;32m    718\u001b[0m         \u001b[0mA\u001b[0m \u001b[0mlayer\u001b[0m \u001b[0minstance\u001b[0m\u001b[0;34m.\u001b[0m\u001b[0;34m\u001b[0m\u001b[0;34m\u001b[0m\u001b[0m\n\u001b[1;32m    719\u001b[0m     \"\"\"\n\u001b[0;32m--> 720\u001b[0;31m     \u001b[0;32mreturn\u001b[0m \u001b[0mcls\u001b[0m\u001b[0;34m(\u001b[0m\u001b[0;34m**\u001b[0m\u001b[0mconfig\u001b[0m\u001b[0;34m)\u001b[0m\u001b[0;34m\u001b[0m\u001b[0;34m\u001b[0m\u001b[0m\n\u001b[0m\u001b[1;32m    721\u001b[0m \u001b[0;34m\u001b[0m\u001b[0m\n\u001b[1;32m    722\u001b[0m   \u001b[0;32mdef\u001b[0m \u001b[0mcompute_output_shape\u001b[0m\u001b[0;34m(\u001b[0m\u001b[0mself\u001b[0m\u001b[0;34m,\u001b[0m \u001b[0minput_shape\u001b[0m\u001b[0;34m)\u001b[0m\u001b[0;34m:\u001b[0m\u001b[0;34m\u001b[0m\u001b[0;34m\u001b[0m\u001b[0m\n",
      "\u001b[0;32m/opt/conda/lib/python3.7/site-packages/tensorflow/python/keras/layers/preprocessing/integer_lookup.py\u001b[0m in \u001b[0;36m__init__\u001b[0;34m(self, max_values, num_oov_indices, mask_value, oov_value, vocabulary, invert, **kwargs)\u001b[0m\n\u001b[1;32m    202\u001b[0m         \u001b[0mvocabulary\u001b[0m\u001b[0;34m=\u001b[0m\u001b[0mvocabulary\u001b[0m\u001b[0;34m,\u001b[0m\u001b[0;34m\u001b[0m\u001b[0;34m\u001b[0m\u001b[0m\n\u001b[1;32m    203\u001b[0m         \u001b[0minvert\u001b[0m\u001b[0;34m=\u001b[0m\u001b[0minvert\u001b[0m\u001b[0;34m,\u001b[0m\u001b[0;34m\u001b[0m\u001b[0;34m\u001b[0m\u001b[0m\n\u001b[0;32m--> 204\u001b[0;31m         **kwargs)\n\u001b[0m\u001b[1;32m    205\u001b[0m     \u001b[0mbase_preprocessing_layer\u001b[0m\u001b[0;34m.\u001b[0m\u001b[0m_kpl_gauge\u001b[0m\u001b[0;34m.\u001b[0m\u001b[0mget_cell\u001b[0m\u001b[0;34m(\u001b[0m\u001b[0;34m\"V2\"\u001b[0m\u001b[0;34m)\u001b[0m\u001b[0;34m.\u001b[0m\u001b[0mset\u001b[0m\u001b[0;34m(\u001b[0m\u001b[0;34m\"IntegerLookup\"\u001b[0m\u001b[0;34m)\u001b[0m\u001b[0;34m\u001b[0m\u001b[0;34m\u001b[0m\u001b[0m\n\u001b[1;32m    206\u001b[0m \u001b[0;34m\u001b[0m\u001b[0m\n",
      "\u001b[0;31mTypeError\u001b[0m: __init__() got multiple values for keyword argument 'max_tokens'"
     ]
    }
   ],
   "source": [
    "\n",
    "model = tf.keras.models.load_model(model_path)"
   ]
  },
  {
   "cell_type": "code",
   "execution_count": 57,
   "id": "e04898ca",
   "metadata": {},
   "outputs": [],
   "source": [
    "def get_bq_dataset(table_name, selected_fields, target_feature='tip_bin', batch_size=32):\n",
    "    \n",
    "    def _transform_row(row_dict):\n",
    "        trimmed_dict = {column:\n",
    "                       (tf.strings.strip(tensor) if tensor.dtype == 'string' else tensor) \n",
    "                       for (column,tensor) in row_dict.items()\n",
    "                       }\n",
    "        target = trimmed_dict.pop(target_feature)\n",
    "        return (trimmed_dict, target)\n",
    "\n",
    "    project_id, dataset_id, table_id = table_name.split('.')\n",
    "    \n",
    "    client = tfio_bq.BigQueryClient()\n",
    "    parent = f'projects/{project_id}'\n",
    "\n",
    "    read_session = client.read_session(\n",
    "        parent=parent,\n",
    "        project_id=project_id,\n",
    "        table_id=table_id,\n",
    "        dataset_id=dataset_id,\n",
    "        selected_fields=selected_fields,\n",
    "    )\n",
    "\n",
    "    dataset = read_session.parallel_read_rows().map(_transform_row).batch(batch_size)\n",
    "    \n",
    "    return dataset"
   ]
  },
  {
   "cell_type": "code",
   "execution_count": 58,
   "id": "6b5ee5f1",
   "metadata": {},
   "outputs": [],
   "source": [
    "FEATURES = {\n",
    "    \"tip_bin\": (\"categorical\", tf.int64),\n",
    "    \"trip_month\": (\"categorical\", tf.int64),\n",
    "    \"trip_day\": (\"categorical\", tf.int64),\n",
    "    \"trip_day_of_week\": (\"categorical\", tf.int64),\n",
    "    \"trip_hour\": (\"categorical\", tf.int64),\n",
    "    \"payment_type\": (\"categorical\", tf.string),\n",
    "    \"pickup_grid\": (\"categorical\", tf.string),\n",
    "    \"dropoff_grid\": (\"categorical\", tf.string),\n",
    "    \"euclidean\": (\"numeric\", tf.double),\n",
    "    \"trip_seconds\": (\"numeric\", tf.int64),\n",
    "    \"trip_miles\": (\"numeric\", tf.double),\n",
    "}\n",
    "\n",
    "TARGET_FEATURE_NAME = \"tip_bin\"\n",
    "TARGET_LABELS = [\"tip<20%\", \"tip>=20%\"]"
   ]
  },
  {
   "cell_type": "code",
   "execution_count": 59,
   "id": "c9671795",
   "metadata": {},
   "outputs": [],
   "source": [
    "selected_fields = {key: {'output_type': value[1]} for key, value in FEATURES.items()}"
   ]
  },
  {
   "cell_type": "code",
   "execution_count": 60,
   "id": "9953c53e",
   "metadata": {},
   "outputs": [],
   "source": [
    "testing_ds = get_bq_dataset('jk-mlops-dev.chicago_taxi_ml.testing',\n",
    "                                selected_fields,\n",
    "                                batch_size=32)"
   ]
  },
  {
   "cell_type": "code",
   "execution_count": 61,
   "id": "7a230768",
   "metadata": {},
   "outputs": [
    {
     "ename": "AttributeError",
     "evalue": "'_UserObject' object has no attribute 'evaluate'",
     "output_type": "error",
     "traceback": [
      "\u001b[0;31m---------------------------------------------------------------------------\u001b[0m",
      "\u001b[0;31mAttributeError\u001b[0m                            Traceback (most recent call last)",
      "\u001b[0;32m<ipython-input-61-1a68d6deb6be>\u001b[0m in \u001b[0;36m<module>\u001b[0;34m\u001b[0m\n\u001b[0;32m----> 1\u001b[0;31m \u001b[0mmodel\u001b[0m\u001b[0;34m.\u001b[0m\u001b[0mevaluate\u001b[0m\u001b[0;34m(\u001b[0m\u001b[0mtesting_ds\u001b[0m\u001b[0;34m)\u001b[0m\u001b[0;34m\u001b[0m\u001b[0;34m\u001b[0m\u001b[0m\n\u001b[0m",
      "\u001b[0;31mAttributeError\u001b[0m: '_UserObject' object has no attribute 'evaluate'"
     ]
    }
   ],
   "source": [
    "model.evaluate(testing_ds)"
   ]
  },
  {
   "cell_type": "markdown",
   "id": "e961b048",
   "metadata": {},
   "source": [
    "## Managed Tensorboard"
   ]
  },
  {
   "cell_type": "code",
   "execution_count": null,
   "id": "fb84a754",
   "metadata": {},
   "outputs": [],
   "source": [
    "tb_client = api_client = vertex_ai.initializer.global_config.create_client(\n",
    "        client_class=vertex_ai.utils.TensorboardClientWithOverride, location_override=REGION\n",
    ")\n",
    "parent = f'projects/{PROJECT}/locations/{REGION}'\n",
    "\n",
    "tensorboard_display_name = 'Workshop Tensorboard'\n",
    "tensorboard_ref = None\n",
    "\n",
    "for tensorboard in tb_client.list_tensorboards(parent=parent):\n",
    "    if tensorboard.display_name == tensorboard_display_name:\n",
    "        tensorboard_ref = tensorboard\n",
    "        \n",
    "if not tensorboard_ref:\n",
    "    print('Creating new Tensorboard')\n",
    "    tb_specs = types.Tensorboard(\n",
    "        display_name=tensorboard_display_name,\n",
    "        description=tensorboard_display_name\n",
    "    )\n",
    "    operation = tb_client.create_tensorboard(parent=parent, tensorboard=tb_specs)\n",
    "    tensorboard_ref = operation.result()\n",
    "else:\n",
    "    print('Using existing Tensorboard:', tensorboard_ref.name)"
   ]
  },
  {
   "cell_type": "code",
   "execution_count": null,
   "id": "f2421d0a",
   "metadata": {},
   "outputs": [],
   "source": [
    "tb_client.list_tensorboards(parent=parent)"
   ]
  },
  {
   "cell_type": "code",
   "execution_count": null,
   "id": "ec1bf4ec",
   "metadata": {},
   "outputs": [],
   "source": [
    "tb_client.delete_tensorboard(name=\"projects/910094146258/locations/us-central1/tensorboards/1497482060472778752\")"
   ]
  },
  {
   "cell_type": "code",
   "execution_count": null,
   "id": "14e9617f",
   "metadata": {},
   "outputs": [],
   "source": []
  },
  {
   "cell_type": "code",
   "execution_count": 1,
   "id": "1429d72e",
   "metadata": {},
   "outputs": [],
   "source": [
    "from tensorboard.plugins.hparams import api as tb_hp"
   ]
  },
  {
   "cell_type": "code",
   "execution_count": 2,
   "id": "336a4e86",
   "metadata": {},
   "outputs": [
    {
     "name": "stdout",
     "output_type": "stream",
     "text": [
      "Help on class Callback in module tensorboard.plugins.hparams.keras:\n",
      "\n",
      "class Callback(tensorflow.python.keras.callbacks.Callback)\n",
      " |  Callback(writer, hparams, trial_id=None)\n",
      " |  \n",
      " |  Callback for logging hyperparameters to TensorBoard.\n",
      " |  \n",
      " |  NOTE: This callback only works in TensorFlow eager mode.\n",
      " |  \n",
      " |  Method resolution order:\n",
      " |      Callback\n",
      " |      tensorflow.python.keras.callbacks.Callback\n",
      " |      builtins.object\n",
      " |  \n",
      " |  Methods defined here:\n",
      " |  \n",
      " |  __init__(self, writer, hparams, trial_id=None)\n",
      " |      Create a callback for logging hyperparameters to TensorBoard.\n",
      " |      \n",
      " |      As with the standard `tf.keras.callbacks.TensorBoard` class, each\n",
      " |      callback object is valid for only one call to `model.fit`.\n",
      " |      \n",
      " |      Args:\n",
      " |        writer: The `SummaryWriter` object to which hparams should be\n",
      " |          written, or a logdir (as a `str`) to be passed to\n",
      " |          `tf.summary.create_file_writer` to create such a writer.\n",
      " |        hparams: A `dict` mapping hyperparameters to the values used in\n",
      " |          this session. Keys should be the names of `HParam` objects used\n",
      " |          in an experiment, or the `HParam` objects themselves. Values\n",
      " |          should be Python `bool`, `int`, `float`, or `string` values,\n",
      " |          depending on the type of the hyperparameter.\n",
      " |        trial_id: An optional `str` ID for the set of hyperparameter\n",
      " |          values used in this trial. Defaults to a hash of the\n",
      " |          hyperparameters.\n",
      " |      \n",
      " |      Raises:\n",
      " |        ValueError: If two entries in `hparams` share the same\n",
      " |          hyperparameter name.\n",
      " |  \n",
      " |  on_train_begin(self, logs=None)\n",
      " |      Called at the beginning of training.\n",
      " |      \n",
      " |      Subclasses should override for any actions to run.\n",
      " |      \n",
      " |      Arguments:\n",
      " |          logs: Dict. Currently no data is passed to this argument for this method\n",
      " |            but that may change in the future.\n",
      " |  \n",
      " |  on_train_end(self, logs=None)\n",
      " |      Called at the end of training.\n",
      " |      \n",
      " |      Subclasses should override for any actions to run.\n",
      " |      \n",
      " |      Arguments:\n",
      " |          logs: Dict. Currently the output of the last call to `on_epoch_end()`\n",
      " |            is passed to this argument for this method but that may change in\n",
      " |            the future.\n",
      " |  \n",
      " |  ----------------------------------------------------------------------\n",
      " |  Methods inherited from tensorflow.python.keras.callbacks.Callback:\n",
      " |  \n",
      " |  on_batch_begin(self, batch, logs=None)\n",
      " |      A backwards compatibility alias for `on_train_batch_begin`.\n",
      " |  \n",
      " |  on_batch_end(self, batch, logs=None)\n",
      " |      A backwards compatibility alias for `on_train_batch_end`.\n",
      " |  \n",
      " |  on_epoch_begin(self, epoch, logs=None)\n",
      " |      Called at the start of an epoch.\n",
      " |      \n",
      " |      Subclasses should override for any actions to run. This function should only\n",
      " |      be called during TRAIN mode.\n",
      " |      \n",
      " |      Arguments:\n",
      " |          epoch: Integer, index of epoch.\n",
      " |          logs: Dict. Currently no data is passed to this argument for this method\n",
      " |            but that may change in the future.\n",
      " |  \n",
      " |  on_epoch_end(self, epoch, logs=None)\n",
      " |      Called at the end of an epoch.\n",
      " |      \n",
      " |      Subclasses should override for any actions to run. This function should only\n",
      " |      be called during TRAIN mode.\n",
      " |      \n",
      " |      Arguments:\n",
      " |          epoch: Integer, index of epoch.\n",
      " |          logs: Dict, metric results for this training epoch, and for the\n",
      " |            validation epoch if validation is performed. Validation result keys\n",
      " |            are prefixed with `val_`. For training epoch, the values of the  \n",
      " |           `Model`'s metrics are returned. Example : `{'loss': 0.2, 'acc': 0.7}`.\n",
      " |  \n",
      " |  on_predict_batch_begin(self, batch, logs=None)\n",
      " |      Called at the beginning of a batch in `predict` methods.\n",
      " |      \n",
      " |      Subclasses should override for any actions to run.\n",
      " |      \n",
      " |      Note that if the `steps_per_execution` argument to `compile` in\n",
      " |      `tf.keras.Model` is set to `N`, this method will only be called every `N`\n",
      " |      batches.\n",
      " |      \n",
      " |      Arguments:\n",
      " |          batch: Integer, index of batch within the current epoch.\n",
      " |          logs: Dict, contains the return value of `model.predict_step`,\n",
      " |            it typically returns a dict with a key 'outputs' containing\n",
      " |            the model's outputs.\n",
      " |  \n",
      " |  on_predict_batch_end(self, batch, logs=None)\n",
      " |      Called at the end of a batch in `predict` methods.\n",
      " |      \n",
      " |      Subclasses should override for any actions to run.\n",
      " |      \n",
      " |      Note that if the `steps_per_execution` argument to `compile` in\n",
      " |      `tf.keras.Model` is set to `N`, this method will only be called every `N`\n",
      " |      batches.\n",
      " |      \n",
      " |      Arguments:\n",
      " |          batch: Integer, index of batch within the current epoch.\n",
      " |          logs: Dict. Aggregated metric results up until this batch.\n",
      " |  \n",
      " |  on_predict_begin(self, logs=None)\n",
      " |      Called at the beginning of prediction.\n",
      " |      \n",
      " |      Subclasses should override for any actions to run.\n",
      " |      \n",
      " |      Arguments:\n",
      " |          logs: Dict. Currently no data is passed to this argument for this method\n",
      " |            but that may change in the future.\n",
      " |  \n",
      " |  on_predict_end(self, logs=None)\n",
      " |      Called at the end of prediction.\n",
      " |      \n",
      " |      Subclasses should override for any actions to run.\n",
      " |      \n",
      " |      Arguments:\n",
      " |          logs: Dict. Currently no data is passed to this argument for this method\n",
      " |            but that may change in the future.\n",
      " |  \n",
      " |  on_test_batch_begin(self, batch, logs=None)\n",
      " |      Called at the beginning of a batch in `evaluate` methods.\n",
      " |      \n",
      " |      Also called at the beginning of a validation batch in the `fit`\n",
      " |      methods, if validation data is provided.\n",
      " |      \n",
      " |      Subclasses should override for any actions to run.\n",
      " |      \n",
      " |      Note that if the `steps_per_execution` argument to `compile` in\n",
      " |      `tf.keras.Model` is set to `N`, this method will only be called every `N`\n",
      " |      batches.\n",
      " |      \n",
      " |      Arguments:\n",
      " |          batch: Integer, index of batch within the current epoch.\n",
      " |          logs: Dict, contains the return value of `model.test_step`. Typically,\n",
      " |            the values of the `Model`'s metrics are returned.  Example:\n",
      " |            `{'loss': 0.2, 'accuracy': 0.7}`.\n",
      " |  \n",
      " |  on_test_batch_end(self, batch, logs=None)\n",
      " |      Called at the end of a batch in `evaluate` methods.\n",
      " |      \n",
      " |      Also called at the end of a validation batch in the `fit`\n",
      " |      methods, if validation data is provided.\n",
      " |      \n",
      " |      Subclasses should override for any actions to run.\n",
      " |      \n",
      " |      Note that if the `steps_per_execution` argument to `compile` in\n",
      " |      `tf.keras.Model` is set to `N`, this method will only be called every `N`\n",
      " |      batches.\n",
      " |      \n",
      " |      Arguments:\n",
      " |          batch: Integer, index of batch within the current epoch.\n",
      " |          logs: Dict. Aggregated metric results up until this batch.\n",
      " |  \n",
      " |  on_test_begin(self, logs=None)\n",
      " |      Called at the beginning of evaluation or validation.\n",
      " |      \n",
      " |      Subclasses should override for any actions to run.\n",
      " |      \n",
      " |      Arguments:\n",
      " |          logs: Dict. Currently no data is passed to this argument for this method\n",
      " |            but that may change in the future.\n",
      " |  \n",
      " |  on_test_end(self, logs=None)\n",
      " |      Called at the end of evaluation or validation.\n",
      " |      \n",
      " |      Subclasses should override for any actions to run.\n",
      " |      \n",
      " |      Arguments:\n",
      " |          logs: Dict. Currently the output of the last call to\n",
      " |            `on_test_batch_end()` is passed to this argument for this method\n",
      " |            but that may change in the future.\n",
      " |  \n",
      " |  on_train_batch_begin(self, batch, logs=None)\n",
      " |      Called at the beginning of a training batch in `fit` methods.\n",
      " |      \n",
      " |      Subclasses should override for any actions to run.\n",
      " |      \n",
      " |      Note that if the `steps_per_execution` argument to `compile` in\n",
      " |      `tf.keras.Model` is set to `N`, this method will only be called every `N`\n",
      " |      batches.\n",
      " |      \n",
      " |      Arguments:\n",
      " |          batch: Integer, index of batch within the current epoch.\n",
      " |          logs: Dict, contains the return value of `model.train_step`. Typically,\n",
      " |            the values of the `Model`'s metrics are returned.  Example:\n",
      " |            `{'loss': 0.2, 'accuracy': 0.7}`.\n",
      " |  \n",
      " |  on_train_batch_end(self, batch, logs=None)\n",
      " |      Called at the end of a training batch in `fit` methods.\n",
      " |      \n",
      " |      Subclasses should override for any actions to run.\n",
      " |      \n",
      " |      Note that if the `steps_per_execution` argument to `compile` in\n",
      " |      `tf.keras.Model` is set to `N`, this method will only be called every `N`\n",
      " |      batches.\n",
      " |      \n",
      " |      Arguments:\n",
      " |          batch: Integer, index of batch within the current epoch.\n",
      " |          logs: Dict. Aggregated metric results up until this batch.\n",
      " |  \n",
      " |  set_model(self, model)\n",
      " |  \n",
      " |  set_params(self, params)\n",
      " |  \n",
      " |  ----------------------------------------------------------------------\n",
      " |  Data descriptors inherited from tensorflow.python.keras.callbacks.Callback:\n",
      " |  \n",
      " |  __dict__\n",
      " |      dictionary for instance variables (if defined)\n",
      " |  \n",
      " |  __weakref__\n",
      " |      list of weak references to the object (if defined)\n",
      "\n"
     ]
    }
   ],
   "source": [
    "help(tb_hp.KerasCallback)"
   ]
  },
  {
   "cell_type": "code",
   "execution_count": 13,
   "id": "78bebef7",
   "metadata": {},
   "outputs": [],
   "source": [
    "PROJECT = 'jk-vertex-workshop'\n",
    "REGION = 'us-central1'\n",
    "PREFIX = 'jkvw'\n",
    "\n",
    "STAGING_BUCKET = f'gs://{PREFIX}-bucket'\n",
    "VERTEX_SA = f'{PREFIX}-training-sa@{PROJECT}.iam.gserviceaccount.com'\n",
    "\n",
    "TENSORBOARD = 'projects/910094146258/locations/us-central1/tensorboards/6406405654306619392'\n",
    "TRAIN_IMAGE = f'gcr.io/{PROJECT}/{PREFIX}_taxi_trainer'\n",
    "\n",
    "BQ_DATASET_NAME = f'{PREFIX}_dataset' \n",
    "BQ_TRAIN_SPLIT_NAME = 'training'\n",
    "BQ_VALID_SPLIT_NAME = 'validation'\n",
    "BQ_TEST_SPLIT_NAME = 'testing'\n",
    "BQ_LOCATION = 'US'\n",
    "SAMPLE_SIZE = 500000\n",
    "YEAR = 2020"
   ]
  },
  {
   "cell_type": "code",
   "execution_count": 17,
   "id": "28aca154",
   "metadata": {},
   "outputs": [],
   "source": [
    "from google.cloud.aiplatform.utils import JobClientWithOverride\n",
    "import time\n",
    "from google.cloud import aiplatform as vertex_ai"
   ]
  },
  {
   "cell_type": "code",
   "execution_count": 18,
   "id": "6a352fd8",
   "metadata": {},
   "outputs": [],
   "source": [
    "job_name = \"HYPER_JOB_{}\".format(time.strftime(\"%Y%m%d_%H%M%S\"))\n",
    "\n",
    "custom_job_spec = {\n",
    "        \"display_name\": job_name,\n",
    "\n",
    "        \"job_spec\": {\n",
    "            \"base_output_directory\": {\n",
    "                \"output_uri_prefix\": f\"{STAGING_BUCKET}/{job_name}\"\n",
    "            },\n",
    "            \"service_account\": VERTEX_SA,\n",
    "            \"tensorboard\": TENSORBOARD,\n",
    "            \"worker_pool_specs\": [\n",
    "                {\n",
    "                    \"machine_spec\": {\n",
    "                        \"machine_type\": \"n1-standard-4\",\n",
    "                      #  \"accelerator_type\": vertex_ai.gapic.AcceleratorType.NVIDIA_TESLA_T4,\n",
    "                      #  \"accelerator_count\": 1,\n",
    "                    },\n",
    "                    \"replica_count\": 1,\n",
    "                    \"container_spec\": {\n",
    "                        \"image_uri\": TRAIN_IMAGE,\n",
    "                        \"args\": [\n",
    "                            '--epochs=2', \n",
    "                            '--per_replica_batch_size=128',\n",
    "                            '--training_table=' + f'{PROJECT}.{BQ_DATASET_NAME}.{BQ_TRAIN_SPLIT_NAME}',\n",
    "                            '--validation_table=' + f'{PROJECT}.{BQ_DATASET_NAME}.{BQ_VALID_SPLIT_NAME}',\n",
    "                        ],\n",
    "                    },\n",
    "                }\n",
    "            ]\n",
    "        },\n",
    "    }"
   ]
  },
  {
   "cell_type": "code",
   "execution_count": 20,
   "id": "a905049d",
   "metadata": {},
   "outputs": [],
   "source": [
    "job_client = api_client = vertex_ai.initializer.global_config.create_client(\n",
    "        client_class=JobClientWithOverride, location_override=REGION\n",
    ")\n",
    "\n",
    "parent = f'projects/{PROJECT}/locations/{REGION}'\n",
    "version = 'v1beta1'\n",
    "\n",
    "response = job_client.select_version(version).create_custom_job(\n",
    "    parent=parent, custom_job=custom_job_spec\n",
    ")"
   ]
  },
  {
   "cell_type": "code",
   "execution_count": 21,
   "id": "13f40f0f",
   "metadata": {},
   "outputs": [
    {
     "data": {
      "text/plain": [
       "name: \"projects/910094146258/locations/us-central1/customJobs/5488555337671770112\"\n",
       "display_name: \"HYPER_JOB_20210612_191119\"\n",
       "job_spec {\n",
       "  worker_pool_specs {\n",
       "    machine_spec {\n",
       "      machine_type: \"n1-standard-4\"\n",
       "    }\n",
       "    replica_count: 1\n",
       "    disk_spec {\n",
       "      boot_disk_type: \"pd-ssd\"\n",
       "      boot_disk_size_gb: 100\n",
       "    }\n",
       "    container_spec {\n",
       "      image_uri: \"gcr.io/jk-vertex-workshop/jkvw_taxi_trainer\"\n",
       "      args: \"--epochs=2\"\n",
       "      args: \"--per_replica_batch_size=128\"\n",
       "      args: \"--training_table=jk-vertex-workshop.jkvw_dataset.training\"\n",
       "      args: \"--validation_table=jk-vertex-workshop.jkvw_dataset.validation\"\n",
       "    }\n",
       "  }\n",
       "  service_account: \"jkvw-training-sa@jk-vertex-workshop.iam.gserviceaccount.com\"\n",
       "  base_output_directory {\n",
       "    output_uri_prefix: \"gs://jkvw-bucket/HYPER_JOB_20210612_191119\"\n",
       "  }\n",
       "  tensorboard: \"projects/910094146258/locations/us-central1/tensorboards/6406405654306619392\"\n",
       "}\n",
       "state: JOB_STATE_PENDING\n",
       "create_time {\n",
       "  seconds: 1623525493\n",
       "  nanos: 240961000\n",
       "}\n",
       "update_time {\n",
       "  seconds: 1623525493\n",
       "  nanos: 240961000\n",
       "}"
      ]
     },
     "execution_count": 21,
     "metadata": {},
     "output_type": "execute_result"
    }
   ],
   "source": [
    "response"
   ]
  },
  {
   "cell_type": "code",
   "execution_count": 41,
   "id": "53fcdc8f",
   "metadata": {},
   "outputs": [],
   "source": [
    "pattern = '^[0-9]+$'"
   ]
  },
  {
   "cell_type": "code",
   "execution_count": 42,
   "id": "b98dd027",
   "metadata": {},
   "outputs": [],
   "source": [
    "import re"
   ]
  },
  {
   "cell_type": "code",
   "execution_count": 50,
   "id": "fc4938f9",
   "metadata": {},
   "outputs": [],
   "source": [
    "trial_id = re.match(pattern, '01')[0]"
   ]
  },
  {
   "cell_type": "code",
   "execution_count": 51,
   "id": "1f83ad22",
   "metadata": {},
   "outputs": [
    {
     "data": {
      "text/plain": [
       "1"
      ]
     },
     "execution_count": 51,
     "metadata": {},
     "output_type": "execute_result"
    }
   ],
   "source": [
    "int(trial_id)"
   ]
  },
  {
   "cell_type": "code",
   "execution_count": 55,
   "id": "1e610a4f",
   "metadata": {},
   "outputs": [
    {
     "data": {
      "text/plain": [
       "''"
      ]
     },
     "execution_count": 55,
     "metadata": {},
     "output_type": "execute_result"
    }
   ],
   "source": [
    "'/logs'.split('/')[-2]"
   ]
  },
  {
   "cell_type": "code",
   "execution_count": 56,
   "id": "7a3f92dd",
   "metadata": {},
   "outputs": [],
   "source": [
    "import os"
   ]
  },
  {
   "cell_type": "code",
   "execution_count": 63,
   "id": "aafd7f1c",
   "metadata": {},
   "outputs": [],
   "source": [
    "path = 'gs://bucket/path/folder/'"
   ]
  },
  {
   "cell_type": "code",
   "execution_count": 64,
   "id": "492cb375",
   "metadata": {},
   "outputs": [
    {
     "data": {
      "text/plain": [
       "('gs://bucket/path/folder', '')"
      ]
     },
     "execution_count": 64,
     "metadata": {},
     "output_type": "execute_result"
    }
   ],
   "source": [
    "os.path.split(path)"
   ]
  },
  {
   "cell_type": "code",
   "execution_count": 65,
   "id": "e2cc0266",
   "metadata": {},
   "outputs": [
    {
     "data": {
      "text/plain": [
       "'gs:/bucket/path/folder'"
      ]
     },
     "execution_count": 65,
     "metadata": {},
     "output_type": "execute_result"
    }
   ],
   "source": [
    "path = os.path.normpath(path)\n",
    "path"
   ]
  },
  {
   "cell_type": "code",
   "execution_count": 66,
   "id": "3df2fa9e",
   "metadata": {},
   "outputs": [
    {
     "data": {
      "text/plain": [
       "['gs:', 'bucket', 'path', 'folder']"
      ]
     },
     "execution_count": 66,
     "metadata": {},
     "output_type": "execute_result"
    }
   ],
   "source": [
    "path.split(os.sep)"
   ]
  },
  {
   "cell_type": "code",
   "execution_count": null,
   "id": "36029895",
   "metadata": {},
   "outputs": [],
   "source": []
  },
  {
   "cell_type": "code",
   "execution_count": null,
   "id": "83e53bc0",
   "metadata": {},
   "outputs": [],
   "source": []
  },
  {
   "cell_type": "code",
   "execution_count": null,
   "id": "914772dc",
   "metadata": {},
   "outputs": [],
   "source": [
    "test_instances = [  \n",
    "    \n",
    "    {\n",
    "        \"dropoff_grid\": [\"POINT(-87.6 41.9)\"],\n",
    "        \"euclidean\": [2064.2696],\n",
    "        \"payment_type\": [\"Credit Card\"],\n",
    "        \"pickup_grid\": [\"POINT(-87.6 41.9)\"],\n",
    "        \"trip_miles\": [1.37],\n",
    "        \"trip_day\": [12],\n",
    "        \"trip_hour\": [16],\n",
    "        \"trip_month\": [2],\n",
    "        \"trip_day_of_week\": [4],\n",
    "        \"trip_seconds\": [555]\n",
    "    }\n",
    "]"
   ]
  }
 ],
 "metadata": {
  "environment": {
   "name": "tf2-gpu.2-4.m69",
   "type": "gcloud",
   "uri": "gcr.io/deeplearning-platform-release/tf2-gpu.2-4:m69"
  },
  "kernelspec": {
   "display_name": "Python 3",
   "language": "python",
   "name": "python3"
  },
  "language_info": {
   "codemirror_mode": {
    "name": "ipython",
    "version": 3
   },
   "file_extension": ".py",
   "mimetype": "text/x-python",
   "name": "python",
   "nbconvert_exporter": "python",
   "pygments_lexer": "ipython3",
   "version": "3.7.10"
  }
 },
 "nbformat": 4,
 "nbformat_minor": 5
}
