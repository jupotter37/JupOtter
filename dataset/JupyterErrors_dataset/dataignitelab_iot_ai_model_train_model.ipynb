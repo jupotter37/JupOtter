{
 "cells": [
  {
   "cell_type": "code",
   "execution_count": 1,
   "id": "826f8cbe-bb3a-4c5c-829d-7a2caa9202df",
   "metadata": {},
   "outputs": [
    {
     "name": "stdout",
     "output_type": "stream",
     "text": [
      "2022-11-18 05:15:10.422571: I tensorflow/core/platform/cpu_feature_guard.cc:142] This TensorFlow binary is optimized with oneAPI Deep Neural Network Library (oneDNN) to use the following CPU instructions in performance-critical operations:  AVX2 AVX512F FMA\n",
      "To enable them in other operations, rebuild TensorFlow with the appropriate compiler flags.\n",
      "2022-11-18 05:15:10.893691: I tensorflow/core/common_runtime/gpu/gpu_device.cc:1510] Created device /job:localhost/replica:0/task:0/device:GPU:0 with 9658 MB memory:  -> device: 0, name: NVIDIA GeForce RTX 2080 Ti, pci bus id: 0000:65:00.0, compute capability: 7.5\n",
      "2022-11-18 05:15:11.800694: I tensorflow/stream_executor/cuda/cuda_dnn.cc:369] Loaded cuDNN version 8500\n",
      "0it [00:00, ?it/s]2022-11-18 05:15:12.714422: I tensorflow/compiler/mlir/mlir_graph_optimization_pass.cc:185] None of the MLIR Optimization Passes are enabled (registered 2)\n",
      "Epoch: 1 Batch 47 Time: 3.1e+01s | Loss: 9.6334 Conf: 7.0068 Loc: 0.9226: : 47it [00:30,  1.53it/s]  \n",
      "Epoch: 2 Batch 47 Time: 2.5e+01s | Loss: 6.1586 Conf: 4.0755 Loc: 0.6489: : 47it [00:25,  1.84it/s]\n",
      "Epoch: 3 Batch 47 Time: 2.6e+01s | Loss: 5.6368 Conf: 3.7116 Loc: 0.5976: : 47it [00:25,  1.83it/s]\n",
      "Epoch: 4 Batch 47 Time: 2.3e+01s | Loss: 5.5567 Conf: 3.7108 Loc: 0.5868: : 47it [00:22,  2.08it/s]\n",
      "Epoch: 5 Batch 47 Time: 2.6e+01s | Loss: 4.6854 Conf: 3.0075 Loc: 0.4726: : 47it [00:25,  1.82it/s]\n",
      "Epoch: 6 Batch 47 Time: 2.5e+01s | Loss: 4.1240 Conf: 2.5641 Loc: 0.4011: : 47it [00:25,  1.84it/s]\n",
      "Epoch: 7 Batch 47 Time: 2.4e+01s | Loss: 3.7161 Conf: 2.2623 Loc: 0.3356: : 47it [00:24,  1.92it/s]\n",
      "Epoch: 8 Batch 47 Time: 2.5e+01s | Loss: 3.4220 Conf: 2.0390 Loc: 0.3012: : 47it [00:24,  1.89it/s]\n",
      "Epoch: 9 Batch 47 Time: 2.5e+01s | Loss: 3.0713 Conf: 1.7806 Loc: 0.2420: : 47it [00:24,  1.89it/s]\n",
      "Epoch: 10 Batch 47 Time: 2.4e+01s | Loss: 2.7885 Conf: 1.5738 Loc: 0.1979: : 47it [00:24,  1.93it/s]\n",
      "Epoch: 11 Batch 47 Time: 2.5e+01s | Loss: 2.4736 Conf: 1.3297 Loc: 0.1574: : 47it [00:25,  1.86it/s]\n",
      "Epoch: 12 Batch 47 Time: 2.6e+01s | Loss: 2.2016 Conf: 1.0977 Loc: 0.1458: : 47it [00:25,  1.82it/s]\n",
      "Epoch: 13 Batch 47 Time: 2.5e+01s | Loss: 1.9600 Conf: 0.8900 Loc: 0.1377: : 47it [00:25,  1.87it/s]\n",
      "Epoch: 14 Batch 47 Time: 2.6e+01s | Loss: 1.7445 Conf: 0.6969 Loc: 0.1389: : 47it [00:25,  1.83it/s]\n",
      "Epoch: 15 Batch 47 Time: 2.5e+01s | Loss: 1.5468 Conf: 0.5326 Loc: 0.1284: : 47it [00:25,  1.85it/s]\n",
      "Epoch: 16 Batch 47 Time: 2.3e+01s | Loss: 1.3950 Conf: 0.4148 Loc: 0.1167: : 47it [00:23,  2.01it/s]\n",
      "Epoch: 17 Batch 47 Time: 2.6e+01s | Loss: 1.2446 Conf: 0.3064 Loc: 0.0966: : 47it [00:26,  1.79it/s]\n",
      "Epoch: 18 Batch 47 Time: 2.5e+01s | Loss: 1.1426 Conf: 0.2457 Loc: 0.0773: : 47it [00:25,  1.85it/s]\n",
      "Epoch: 19 Batch 47 Time: 2.5e+01s | Loss: 1.0702 Conf: 0.2015 Loc: 0.0709: : 47it [00:25,  1.86it/s]\n",
      "Epoch: 20 Batch 47 Time: 2.5e+01s | Loss: 1.0159 Conf: 0.1753 Loc: 0.0640: : 47it [00:25,  1.88it/s]\n",
      "Epoch: 21 Batch 47 Time: 2.3e+01s | Loss: 0.9795 Conf: 0.1662 Loc: 0.0567: : 47it [00:23,  2.00it/s]\n",
      "Epoch: 22 Batch 47 Time: 2.4e+01s | Loss: 0.9452 Conf: 0.1531 Loc: 0.0555: : 47it [00:24,  1.95it/s]\n",
      "Epoch: 23 Batch 47 Time: 2.3e+01s | Loss: 0.9152 Conf: 0.1414 Loc: 0.0562: : 47it [00:23,  2.04it/s]\n",
      "Epoch: 24 Batch 47 Time: 2.4e+01s | Loss: 0.8903 Conf: 0.1405 Loc: 0.0511: : 47it [00:24,  1.92it/s]\n",
      "Epoch: 25 Batch 47 Time: 2.5e+01s | Loss: 0.8603 Conf: 0.1305 Loc: 0.0489: : 47it [00:25,  1.87it/s]\n",
      "Epoch: 26 Batch 47 Time: 2.6e+01s | Loss: 0.8414 Conf: 0.1292 Loc: 0.0487: : 47it [00:26,  1.80it/s]\n",
      "Epoch: 27 Batch 47 Time: 2.6e+01s | Loss: 0.8110 Conf: 0.1207 Loc: 0.0435: : 47it [00:25,  1.83it/s]\n",
      "Epoch: 28 Batch 47 Time: 2.5e+01s | Loss: 0.7953 Conf: 0.1200 Loc: 0.0447: : 47it [00:25,  1.84it/s]\n",
      "Epoch: 29 Batch 47 Time: 2.4e+01s | Loss: 0.7719 Conf: 0.1147 Loc: 0.0422: : 47it [00:23,  1.98it/s]\n",
      "Epoch: 30 Batch 47 Time: 2.4e+01s | Loss: 0.7510 Conf: 0.1111 Loc: 0.0401: : 47it [00:23,  1.97it/s]\n",
      "Epoch: 31 Batch 47 Time: 2.5e+01s | Loss: 0.7291 Conf: 0.1081 Loc: 0.0360: : 47it [00:25,  1.87it/s]\n",
      "Epoch: 32 Batch 47 Time: 2.1e+01s | Loss: 0.7207 Conf: 0.1127 Loc: 0.0372: : 47it [00:21,  2.19it/s]\n",
      "Epoch: 33 Batch 47 Time: 2.6e+01s | Loss: 0.7011 Conf: 0.1063 Loc: 0.0376: : 47it [00:25,  1.83it/s]\n",
      "Epoch: 34 Batch 47 Time: 2.5e+01s | Loss: 0.6826 Conf: 0.1038 Loc: 0.0349: : 47it [00:25,  1.87it/s]\n",
      "Epoch: 35 Batch 47 Time: 2.6e+01s | Loss: 0.6655 Conf: 0.0989 Loc: 0.0359: : 47it [00:25,  1.83it/s]\n",
      "Epoch: 36 Batch 47 Time: 2.5e+01s | Loss: 0.6497 Conf: 0.0987 Loc: 0.0329: : 47it [00:24,  1.90it/s]\n",
      "Epoch: 37 Batch 47 Time: 2.3e+01s | Loss: 0.6423 Conf: 0.1012 Loc: 0.0353: : 47it [00:23,  2.03it/s]\n",
      "Epoch: 38 Batch 47 Time: 2.6e+01s | Loss: 0.6602 Conf: 0.1215 Loc: 0.0438: : 47it [00:25,  1.83it/s]\n",
      "Epoch: 39 Batch 47 Time: 2.4e+01s | Loss: 0.6667 Conf: 0.1313 Loc: 0.0502: : 47it [00:24,  1.93it/s]\n",
      "Epoch: 40 Batch 47 Time: 2.4e+01s | Loss: 0.6150 Conf: 0.1007 Loc: 0.0396: : 47it [00:23,  1.99it/s]\n",
      "Epoch: 41 Batch 47 Time: 2.4e+01s | Loss: 0.5967 Conf: 0.0982 Loc: 0.0350: : 47it [00:24,  1.94it/s]\n",
      "Epoch: 42 Batch 47 Time: 2.3e+01s | Loss: 0.5862 Conf: 0.0979 Loc: 0.0356: : 47it [00:23,  2.02it/s]\n",
      "Epoch: 43 Batch 47 Time: 2.5e+01s | Loss: 0.5655 Conf: 0.0934 Loc: 0.0297: : 47it [00:25,  1.85it/s]\n",
      "Epoch: 44 Batch 47 Time: 2.3e+01s | Loss: 0.5601 Conf: 0.0965 Loc: 0.0311: : 47it [00:22,  2.05it/s]\n",
      "Epoch: 45 Batch 47 Time: 2.5e+01s | Loss: 0.5572 Conf: 0.1019 Loc: 0.0319: : 47it [00:24,  1.89it/s]\n",
      "Epoch: 46 Batch 47 Time: 2.5e+01s | Loss: 0.5330 Conf: 0.0931 Loc: 0.0260: : 47it [00:24,  1.91it/s]\n",
      "Epoch: 47 Batch 47 Time: 2.3e+01s | Loss: 0.5206 Conf: 0.0910 Loc: 0.0251: : 47it [00:22,  2.05it/s]\n",
      "Epoch: 48 Batch 47 Time: 2.6e+01s | Loss: 0.5163 Conf: 0.0928 Loc: 0.0280: : 47it [00:25,  1.83it/s]\n",
      "Epoch: 49 Batch 47 Time: 2.5e+01s | Loss: 0.5159 Conf: 0.0984 Loc: 0.0305: : 47it [00:24,  1.90it/s]\n",
      "Epoch: 50 Batch 47 Time: 2.6e+01s | Loss: 0.4967 Conf: 0.0907 Loc: 0.0273: : 47it [00:25,  1.82it/s]\n",
      "Epoch: 51 Batch 47 Time: 2.5e+01s | Loss: 0.4851 Conf: 0.0896 Loc: 0.0253: : 47it [00:25,  1.85it/s]\n",
      "Epoch: 52 Batch 47 Time: 2.4e+01s | Loss: 0.4870 Conf: 0.0949 Loc: 0.0297: : 47it [00:23,  1.98it/s]\n",
      "Epoch: 53 Batch 47 Time: 2.4e+01s | Loss: 0.4739 Conf: 0.0905 Loc: 0.0287: : 47it [00:24,  1.95it/s]\n",
      "Epoch: 54 Batch 47 Time: 2.6e+01s | Loss: 0.4599 Conf: 0.0861 Loc: 0.0266: : 47it [00:25,  1.84it/s]\n",
      "Epoch: 55 Batch 47 Time: 2.6e+01s | Loss: 0.4475 Conf: 0.0844 Loc: 0.0236: : 47it [00:25,  1.84it/s]\n",
      "Epoch: 56 Batch 47 Time: 2.4e+01s | Loss: 0.5067 Conf: 0.1276 Loc: 0.0450: : 47it [00:23,  2.00it/s]\n",
      "Epoch: 57 Batch 47 Time: 2.5e+01s | Loss: 0.4686 Conf: 0.1006 Loc: 0.0388: : 47it [00:25,  1.84it/s]\n",
      "Epoch: 58 Batch 47 Time: 2.4e+01s | Loss: 0.4422 Conf: 0.0902 Loc: 0.0294: : 47it [00:23,  1.96it/s]\n",
      "Epoch: 59 Batch 47 Time: 2.5e+01s | Loss: 0.4271 Conf: 0.0860 Loc: 0.0256: : 47it [00:25,  1.85it/s]\n",
      "Epoch: 60 Batch 47 Time: 2.5e+01s | Loss: 0.4152 Conf: 0.0836 Loc: 0.0228: : 47it [00:25,  1.88it/s]\n",
      "Epoch: 61 Batch 47 Time: 2.4e+01s | Loss: 0.4138 Conf: 0.0875 Loc: 0.0243: : 47it [00:24,  1.92it/s]\n",
      "Epoch: 62 Batch 47 Time: 2.1e+01s | Loss: 0.4035 Conf: 0.0836 Loc: 0.0242: : 47it [00:20,  2.28it/s]\n",
      "Epoch: 63 Batch 47 Time: 2.5e+01s | Loss: 0.3983 Conf: 0.0853 Loc: 0.0232: : 47it [00:24,  1.90it/s]\n",
      "Epoch: 64 Batch 47 Time: 2.4e+01s | Loss: 0.3938 Conf: 0.0844 Loc: 0.0254: : 47it [00:23,  1.99it/s]\n",
      "Epoch: 65 Batch 47 Time: 2.4e+01s | Loss: 0.3821 Conf: 0.0810 Loc: 0.0228: : 47it [00:24,  1.94it/s]\n",
      "Epoch: 66 Batch 47 Time: 2.5e+01s | Loss: 0.3750 Conf: 0.0787 Loc: 0.0224: : 47it [00:24,  1.90it/s]\n",
      "Epoch: 67 Batch 47 Time: 2.4e+01s | Loss: 0.3620 Conf: 0.0723 Loc: 0.0165: : 47it [00:24,  1.92it/s]\n",
      "Epoch: 68 Batch 47 Time: 2.5e+01s | Loss: 0.3525 Conf: 0.0679 Loc: 0.0120: : 47it [00:24,  1.89it/s]\n",
      "Epoch: 69 Batch 47 Time: 2.5e+01s | Loss: 0.3487 Conf: 0.0662 Loc: 0.0107: : 47it [00:25,  1.88it/s]\n",
      "Epoch: 70 Batch 47 Time: 2.5e+01s | Loss: 0.3470 Conf: 0.0654 Loc: 0.0103: : 47it [00:25,  1.87it/s]\n",
      "Epoch: 71 Batch 47 Time: 2.6e+01s | Loss: 0.3452 Conf: 0.0646 Loc: 0.0102: : 47it [00:26,  1.79it/s]\n",
      "Epoch: 72 Batch 47 Time: 2.4e+01s | Loss: 0.3445 Conf: 0.0646 Loc: 0.0101: : 47it [00:24,  1.95it/s]\n",
      "Epoch: 73 Batch 47 Time: 2.5e+01s | Loss: 0.3432 Conf: 0.0641 Loc: 0.0100: : 47it [00:25,  1.86it/s]\n",
      "Epoch: 74 Batch 47 Time: 2.4e+01s | Loss: 0.3425 Conf: 0.0640 Loc: 0.0101: : 47it [00:24,  1.95it/s]\n",
      "Epoch: 75 Batch 47 Time: 2.3e+01s | Loss: 0.3412 Conf: 0.0636 Loc: 0.0099: : 47it [00:23,  2.04it/s]\n",
      "Epoch: 76 Batch 47 Time: 2.5e+01s | Loss: 0.3405 Conf: 0.0635 Loc: 0.0100: : 47it [00:25,  1.84it/s]\n",
      "Epoch: 77 Batch 47 Time: 2.5e+01s | Loss: 0.3396 Conf: 0.0633 Loc: 0.0101: : 47it [00:25,  1.84it/s]\n",
      "Epoch: 78 Batch 47 Time: 2.4e+01s | Loss: 0.3380 Conf: 0.0627 Loc: 0.0099: : 47it [00:23,  1.96it/s]\n",
      "Epoch: 79 Batch 47 Time: 2.5e+01s | Loss: 0.3371 Conf: 0.0626 Loc: 0.0098: : 47it [00:24,  1.90it/s]\n",
      "Epoch: 80 Batch 47 Time: 2.4e+01s | Loss: 0.3367 Conf: 0.0630 Loc: 0.0099: : 47it [00:24,  1.95it/s]\n",
      "Epoch: 81 Batch 47 Time: 2.4e+01s | Loss: 0.3352 Conf: 0.0623 Loc: 0.0098: : 47it [00:24,  1.94it/s]\n",
      "Epoch: 82 Batch 47 Time: 2.5e+01s | Loss: 0.3333 Conf: 0.0613 Loc: 0.0097: : 47it [00:25,  1.86it/s]\n",
      "Epoch: 83 Batch 47 Time: 2.5e+01s | Loss: 0.3318 Conf: 0.0601 Loc: 0.0096: : 47it [00:25,  1.88it/s]\n",
      "Epoch: 84 Batch 47 Time: 2.6e+01s | Loss: 0.3321 Conf: 0.0604 Loc: 0.0097: : 47it [00:25,  1.82it/s]\n",
      "Epoch: 85 Batch 47 Time: 2.4e+01s | Loss: 0.3313 Conf: 0.0598 Loc: 0.0095: : 47it [00:23,  1.99it/s]\n",
      "Epoch: 86 Batch 47 Time: 2.5e+01s | Loss: 0.3320 Conf: 0.0605 Loc: 0.0096: : 47it [00:25,  1.86it/s]\n",
      "Epoch: 87 Batch 47 Time: 2.4e+01s | Loss: 0.3311 Conf: 0.0598 Loc: 0.0095: : 47it [00:24,  1.93it/s]\n",
      "Epoch: 88 Batch 47 Time: 2.4e+01s | Loss: 0.3311 Conf: 0.0599 Loc: 0.0095: : 47it [00:24,  1.92it/s]\n",
      "Epoch: 89 Batch 47 Time: 2.5e+01s | Loss: 0.3313 Conf: 0.0602 Loc: 0.0095: : 47it [00:24,  1.88it/s]\n",
      "Epoch: 90 Batch 47 Time: 2.4e+01s | Loss: 0.3307 Conf: 0.0597 Loc: 0.0094: : 47it [00:24,  1.96it/s]\n",
      "Epoch: 91 Batch 47 Time: 2.5e+01s | Loss: 0.3308 Conf: 0.0599 Loc: 0.0095: : 47it [00:25,  1.85it/s]\n",
      "Epoch: 92 Batch 47 Time: 2.5e+01s | Loss: 0.3305 Conf: 0.0597 Loc: 0.0095: : 47it [00:24,  1.90it/s]\n",
      "Epoch: 93 Batch 47 Time: 2.4e+01s | Loss: 0.3302 Conf: 0.0595 Loc: 0.0094: : 47it [00:23,  1.97it/s]\n",
      "Epoch: 94 Batch 47 Time: 2.5e+01s | Loss: 0.3300 Conf: 0.0594 Loc: 0.0095: : 47it [00:25,  1.87it/s]\n",
      "Epoch: 95 Batch 47 Time: 2.5e+01s | Loss: 0.3305 Conf: 0.0600 Loc: 0.0095: : 47it [00:25,  1.88it/s]\n",
      "Epoch: 96 Batch 47 Time: 2.4e+01s | Loss: 0.3308 Conf: 0.0603 Loc: 0.0096: : 47it [00:24,  1.92it/s]\n",
      "Epoch: 97 Batch 47 Time: 2.5e+01s | Loss: 0.3298 Conf: 0.0595 Loc: 0.0095: : 47it [00:25,  1.86it/s]\n",
      "Epoch: 98 Batch 47 Time: 2.6e+01s | Loss: 0.3301 Conf: 0.0599 Loc: 0.0095: : 47it [00:25,  1.83it/s]\n",
      "Epoch: 99 Batch 47 Time: 2.2e+01s | Loss: 0.3299 Conf: 0.0599 Loc: 0.0095: : 47it [00:22,  2.10it/s]\n",
      "Epoch: 100 Batch 47 Time: 2.5e+01s | Loss: 0.3294 Conf: 0.0595 Loc: 0.0094: : 47it [00:24,  1.91it/s]\n",
      "double free or corruption (out)\n",
      "Aborted (core dumped)\n"
     ]
    }
   ],
   "source": [
    "!python3 ./model/tensorflow/ssd/train.py --anno-path dataset/digital_digit/anno_digit_new.txt \\\n",
    "--checkpoint-dir check_points/ssd-digit \\\n",
    "--num-epochs 100 \\\n",
    "--initial-lr 0.001 \\\n",
    "--batch-size 16"
   ]
  },
  {
   "cell_type": "markdown",
   "id": "ed056689-f945-453b-a3ab-7036851fe58e",
   "metadata": {},
   "source": [
    "# Predict"
   ]
  },
  {
   "cell_type": "code",
   "execution_count": 21,
   "id": "420a42cc-5f6b-4cf6-9889-40b803215c5e",
   "metadata": {},
   "outputs": [
    {
     "ename": "ModuleNotFoundError",
     "evalue": "No module named 'resnet'",
     "output_type": "error",
     "traceback": [
      "\u001b[0;31m---------------------------------------------------------------------------\u001b[0m",
      "\u001b[0;31mModuleNotFoundError\u001b[0m                       Traceback (most recent call last)",
      "\u001b[0;32m<ipython-input-21-7e6a56040a0d>\u001b[0m in \u001b[0;36m<module>\u001b[0;34m\u001b[0m\n\u001b[0;32m----> 1\u001b[0;31m \u001b[0;32mfrom\u001b[0m \u001b[0mmodel\u001b[0m\u001b[0;34m.\u001b[0m\u001b[0mtensorflow\u001b[0m\u001b[0;34m.\u001b[0m\u001b[0mssd\u001b[0m\u001b[0;34m.\u001b[0m\u001b[0mnetwork\u001b[0m \u001b[0;32mimport\u001b[0m \u001b[0mcreate_ssd\u001b[0m\u001b[0;34m\u001b[0m\u001b[0;34m\u001b[0m\u001b[0m\n\u001b[0m",
      "\u001b[0;32m/home/workspace/iot_ai_model/model/tensorflow/ssd/network.py\u001b[0m in \u001b[0;36m<module>\u001b[0;34m\u001b[0m\n\u001b[1;32m      6\u001b[0m \u001b[0;32mimport\u001b[0m \u001b[0mos\u001b[0m\u001b[0;34m\u001b[0m\u001b[0;34m\u001b[0m\u001b[0m\n\u001b[1;32m      7\u001b[0m \u001b[0;34m\u001b[0m\u001b[0m\n\u001b[0;32m----> 8\u001b[0;31m \u001b[0;32mfrom\u001b[0m \u001b[0mresnet\u001b[0m \u001b[0;32mimport\u001b[0m \u001b[0mcreate_resnet18_layers\u001b[0m\u001b[0;34m\u001b[0m\u001b[0;34m\u001b[0m\u001b[0m\n\u001b[0m\u001b[1;32m      9\u001b[0m \u001b[0;34m\u001b[0m\u001b[0m\n\u001b[1;32m     10\u001b[0m \u001b[0;32mfrom\u001b[0m \u001b[0mlayers\u001b[0m \u001b[0;32mimport\u001b[0m \u001b[0mcreate_vgg16_layers\u001b[0m\u001b[0;34m,\u001b[0m \u001b[0mcreate_extra_layers\u001b[0m\u001b[0;34m,\u001b[0m \u001b[0mcreate_conf_head_layers\u001b[0m\u001b[0;34m,\u001b[0m \u001b[0mcreate_loc_head_layers\u001b[0m\u001b[0;34m\u001b[0m\u001b[0;34m\u001b[0m\u001b[0m\n",
      "\u001b[0;31mModuleNotFoundError\u001b[0m: No module named 'resnet'"
     ]
    }
   ],
   "source": [
    "from model.tensorflow.ssd.network import create_ssd"
   ]
  },
  {
   "cell_type": "code",
   "execution_count": null,
   "id": "4f4286e5-1a9d-484c-b6e3-9b45751be6e0",
   "metadata": {},
   "outputs": [],
   "source": [
    "file_paths = ['']\n",
    "IMAGE_SIZE = 300"
   ]
  },
  {
   "cell_type": "code",
   "execution_count": null,
   "id": "b27af034-9172-4e2b-a92a-763646b4ee67",
   "metadata": {},
   "outputs": [],
   "source": [
    "model = create_ssd(num_classes=11, arch='ssd300', pretrained_type=None, checkpoint_path='check_points/ssd/ssd_epoch_latest.h5')"
   ]
  },
  {
   "cell_type": "code",
   "execution_count": null,
   "id": "a5a16fb2-38ff-46d7-ac75-18dbc9328a69",
   "metadata": {},
   "outputs": [],
   "source": [
    "org_img = Image.open(filename)\n",
    "img = np.array(org_img.resize((IMAGE_SIZE, IMAGE_SIZE)), dtype=np.float32)\n",
    "img = (img / 127.0) - 1.0\n",
    "img = img.reshape(1,img.shape[0],img.shape[1],img.shape[2])\n",
    "confs, locs = model(img)"
   ]
  }
 ],
 "metadata": {
  "kernelspec": {
   "display_name": "Python 3",
   "language": "python",
   "name": "python3"
  },
  "language_info": {
   "codemirror_mode": {
    "name": "ipython",
    "version": 3
   },
   "file_extension": ".py",
   "mimetype": "text/x-python",
   "name": "python",
   "nbconvert_exporter": "python",
   "pygments_lexer": "ipython3",
   "version": "3.6.9"
  }
 },
 "nbformat": 4,
 "nbformat_minor": 5
}
