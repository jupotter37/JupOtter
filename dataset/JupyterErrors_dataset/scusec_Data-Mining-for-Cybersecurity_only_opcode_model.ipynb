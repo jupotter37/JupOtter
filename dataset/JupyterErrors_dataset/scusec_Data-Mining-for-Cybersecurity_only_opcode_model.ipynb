{
 "cells": [
  {
   "cell_type": "code",
   "execution_count": 1,
   "metadata": {},
   "outputs": [],
   "source": [
    "import numpy as np\n",
    "import pandas as pd\n",
    "import os\n",
    "import re"
   ]
  },
  {
   "cell_type": "code",
   "execution_count": 2,
   "metadata": {},
   "outputs": [],
   "source": [
    "opcode_pattern = r'\\s([A-Z_]{2,})\\s'\n",
    "initfunc_pattern = r'INIT_FCALL\\s+\\'([a-z_]*)\\''"
   ]
  },
  {
   "cell_type": "code",
   "execution_count": 3,
   "metadata": {},
   "outputs": [],
   "source": [
    "# 读取每一份代码，返回代码内容\n",
    "def load_one_file(filename):\n",
    "    context = ''\n",
    "    with open(filename, 'r', encoding='utf-8', errors='ignore') as codes:\n",
    "        for line in codes:\n",
    "            line = line.strip('\\r')\n",
    "            context += line\n",
    "    return context\n",
    "\n",
    "# 读取目录下所有php文件的路径，返回一个路径的列表\n",
    "def load_all_php_path(dir):\n",
    "    filelist = []\n",
    "    \n",
    "#     root为dir目录地址\n",
    "#     dirs是一个该文件夹下所有目录名的list\n",
    "#     filelist是文件名的list\n",
    "    for root, dirs, files in os.walk(dir):\n",
    "        for file in files:\n",
    "            if file.endswith('.php'):\n",
    "                fullpath = os.path.join(root, file)\n",
    "#                 print('Loading %s' % fullpath)\n",
    "                filelist.append(fullpath)\n",
    "    return filelist\n",
    "\n",
    "\n",
    "def get_vld(codepath):\n",
    "    command = 'php -dvld.active=1 -dvld.execute=0 -dvld.verbosity=3 ' + str(codepath) + ' 2>&1'\n",
    "#     print(command)\n",
    "    return os.popen(command).read()\n",
    "    \n",
    "\n",
    "def get_opcode(vld):\n",
    "    token_list = []\n",
    "    tokens=re.findall(opcode_pattern, vld)\n",
    "    for token in tokens:\n",
    "        if len(token) > 1:\n",
    "            token_list.append(token)\n",
    "    return ' '.join(token_list)"
   ]
  },
  {
   "cell_type": "code",
   "execution_count": 4,
   "metadata": {},
   "outputs": [
    {
     "name": "stdout",
     "output_type": "stream",
     "text": [
      "4352\n",
      "5728\n"
     ]
    }
   ],
   "source": [
    "# load samples\n",
    "file_path = './dataset-clean/'\n",
    "\n",
    "bad_list = load_all_php_path(file_path + 'bad/')\n",
    "good_list = load_all_php_path(file_path + 'good/')\n",
    "print(len(bad_list))\n",
    "print(len(good_list))\n",
    "file_list = bad_list + good_list    #存储完整的代码路径+代码文件名\n",
    "code_list = []    # 存储代码内容\n",
    "label_list = []    # 存储标签\n",
    "vld_list = []    # 存储vld\n",
    "opcode_list = []    # 存储opcode\n",
    "name_list = []    # 存储文件名\n",
    "\n",
    "for sample in bad_list:\n",
    "    code_list.append(load_one_file(sample))\n",
    "    label_list.append(1)\n",
    "    vld_list.append(get_vld(sample))\n",
    "\n",
    "for sample in good_list:\n",
    "    code_list.append(load_one_file(sample))\n",
    "    label_list.append(0)\n",
    "    vld_list.append(get_vld(sample))\n",
    "\n",
    "for vld in vld_list:\n",
    "    opcode_list.append(get_opcode(vld))\n",
    "\n",
    "for whole_path in file_list:\n",
    "    name = whole_path.split('/')[-1]\n",
    "    name_list.append(name)"
   ]
  },
  {
   "cell_type": "code",
   "execution_count": 5,
   "metadata": {},
   "outputs": [
    {
     "name": "stdout",
     "output_type": "stream",
     "text": [
      "Finding entry points\n",
      "Branch analysis from position: 0\n",
      "1 jumps found. (Code = 62) Position 1 = -2\n",
      "filename:       /Users/devin/Google 云端硬盘/code/XSS_PHP_VLD/dataset-clean/good/CWE_79__shell_exec__func_rawurlencode__Use_untrusted_data_script-quoted_Event_Handler.php\n",
      "function name:  (null)\n",
      "number of ops:  14\n",
      "compiled vars:  !0 = $tainted\n",
      "line     #* E I O op                           fetch          ext  return  operands\n",
      "-------------------------------------------------------------------------------------\n",
      "   1     0  E >   ECHO                                                     '%3C%21DOCTYPE+html%3E%0A%3Chtml%3E%0A%3Chead%2F%3E%0A%3Cbody%3E%0A'\n",
      "   6     1        INIT_FCALL                                               'shell_exec'\n",
      "         2        SEND_VAL                                                 'cat+%2Ftmp%2Ftainted.txt'\n",
      "         3        DO_ICALL                                         $1      \n",
      "         4        ASSIGN                                                   !0, $1\n",
      "   8     5        INIT_FCALL                                               'rawurlencode'\n",
      "         6        SEND_VAR                                                 !0\n",
      "         7        DO_ICALL                                         $3      \n",
      "         8        ASSIGN                                                   !0, $3\n",
      "  11     9        CONCAT                                           ~5      '%3Cdiv+onmouseover%3D%22x%3D%27', !0\n",
      "        10        CONCAT                                           ~6      ~5, '%27%5C%3E'\n",
      "        11        ECHO                                                     ~6\n",
      "  13    12        ECHO                                                     '%3Ch1%3EHello+World%21%3C%2Fh1%3E%0A%3C%2Fdiv%3E%0A%3C%2Fbody%3E%0A%3C%2Fhtml%3E%0A'\n",
      "  17    13      > RETURN                                                   1\n",
      "\n",
      "branch: #  0; line:     1-   17; sop:     0; eop:    13; out0:  -2\n",
      "path #1: 0, \n",
      "\n",
      "['ECHO', 'INIT_FCALL', 'SEND_VAL', 'DO_ICALL', 'ASSIGN', 'INIT_FCALL', 'SEND_VAR', 'DO_ICALL', 'ASSIGN', 'CONCAT', 'CONCAT', 'ECHO', 'ECHO', 'RETURN']\n",
      "['shell_exec', 'rawurlencode']\n"
     ]
    }
   ],
   "source": [
    "index = 10079\n",
    "\n",
    "print(vld_list[index])\n",
    "print(re.findall(opcode_pattern, vld_list[index]))\n",
    "print(re.findall(initfunc_pattern, vld_list[index]))"
   ]
  },
  {
   "cell_type": "code",
   "execution_count": 8,
   "metadata": {},
   "outputs": [
    {
     "name": "stdout",
     "output_type": "stream",
     "text": [
      "10080\n"
     ]
    }
   ],
   "source": [
    "filter_func_list = []\n",
    "for i in range(len(vld_list)):\n",
    "    func = re.findall(initfunc_pattern, vld_list[i])\n",
    "    if(len(func) == 0):    # No filter\n",
    "        filter_func_list.append('NO_FILTER')\n",
    "        continue\n",
    "    filter_func_list.append(' '.join(func).upper())"
   ]
  },
  {
   "cell_type": "code",
   "execution_count": 9,
   "metadata": {},
   "outputs": [],
   "source": [
    "df = pd.DataFrame({\n",
    "    'file': name_list,\n",
    "    'code': code_list,\n",
    "    'vld': vld_list,\n",
    "    'opcode': opcode_list,\n",
    "    'filter': filter_func_list,\n",
    "    'label': label_list\n",
    "})\n",
    "df.to_csv('clean_datasets.csv', index=None)"
   ]
  },
  {
   "cell_type": "markdown",
   "metadata": {},
   "source": [
    "# 下面是模型部分"
   ]
  },
  {
   "cell_type": "code",
   "execution_count": 8,
   "metadata": {},
   "outputs": [],
   "source": [
    "from sklearn.utils import shuffle\n",
    "\n",
    "df = pd.read_csv('php_xss_datasets.csv')\n",
    "df = shuffle(df, random_state=2020)"
   ]
  },
  {
   "cell_type": "code",
   "execution_count": 11,
   "metadata": {
    "collapsed": true,
    "jupyter": {
     "outputs_hidden": true
    }
   },
   "outputs": [
    {
     "name": "stdout",
     "output_type": "stream",
     "text": [
      "ECHO NOP NEW DO_FCALL ASSIGN INIT_METHOD_CALL DO_FCALL ASSIGN INIT_FCALL SEND_VAR DO_ICALL ASSIGN CONCAT CONCAT ECHO ECHO RETURN FETCH_OBJ_R FETCH_DIM_R RETURN RETURN ASSIGN_OBJ OP_DATA FETCH_OBJ_W ASSIGN_DIM OP_DATA FETCH_R FETCH_DIM_R FETCH_OBJ_W ASSIGN_DIM OP_DATA FETCH_OBJ_W ASSIGN_DIM OP_DATA RETURN\n",
      "<!-- \n",
      "Unsafe sample\n",
      "input : get the field userData from the variable $_GET via an object, which store it in a array\n",
      "sanitize : use of ternary condition\n",
      "File : use of untrusted data in the body\n",
      "-->\n",
      "\n",
      "<!--Copyright 2015 Bertrand STIVALET \n",
      "\n",
      "Permission is hereby granted, without written agreement or royalty fee, to\n",
      "\n",
      "use, copy, modify, and distribute this software and its documentation for\n",
      "\n",
      "any purpose, provided that the above copyright notice and the following\n",
      "\n",
      "three paragraphs appear in all copies of this software.\n",
      "\n",
      "\n",
      "IN NO EVENT SHALL AUTHORS BE LIABLE TO ANY PARTY FOR DIRECT,\n",
      "\n",
      "INDIRECT, SPECIAL, INCIDENTAL, OR CONSEQUENTIAL DAMAGES ARISING OUT OF THE \n",
      "\n",
      "USE OF THIS SOFTWARE AND ITS DOCUMENTATION, EVEN IF AUTHORS HAVE\n",
      "\n",
      "BEEN ADVISED OF THE POSSIBILITY OF SUCH DAMAGE.\n",
      "\n",
      "\n",
      "AUTHORS SPECIFICALLY DISCLAIM ANY WARRANTIES INCLUDING, BUT NOT\n",
      "\n",
      "LIMITED TO THE IMPLIED WARRANTIES OF MERCHANTABILITY, FITNESS FOR A\n",
      "\n",
      "PARTICULAR PURPOSE, AND NON-INFRINGEMENT.\n",
      "\n",
      "\n",
      "THE SOFTWARE IS PROVIDED ON AN \"AS-IS\" BASIS AND AUTHORS HAVE NO\n",
      "\n",
      "OBLIGATION TO PROVIDE MAINTENANCE, SUPPORT, UPDATES, ENHANCEMENTS, OR\n",
      "\n",
      "MODIFICATIONS.-->\n",
      "\n",
      "\n",
      "<!DOCTYPE html>\n",
      "<html>\n",
      "<head/>\n",
      "<body>\n",
      "<?php\n",
      "class Input{\n",
      "  private $input;\n",
      "\n",
      "  public function getInput(){\n",
      "    return $this->input[1];\n",
      "  }\n",
      "\n",
      "  public  function __construct(){\n",
      "    $this->input = array();\n",
      "    $this->input[0]= 'safe' ;\n",
      "    $this->input[1]= $_GET['UserData'] ;\n",
      "    $this->input[2]= 'safe' ;\n",
      "  }\n",
      "}\n",
      "$temp = new Input();\n",
      "$tainted =  $temp->getInput();\n",
      "\n",
      "$tainted = $tainted  == 'safe1' ? 'safe1' : 'safe2';\n",
      "\n",
      "//flaw\n",
      "echo $tainted ;\n",
      "?>\n",
      "<h1>Hello World!</h1>\n",
      "</body>\n",
      "</html>\n",
      "(10080,)\n",
      "(10080,)\n"
     ]
    }
   ],
   "source": [
    "opcode_list = np.array(df['opcode'].tolist())\n",
    "y = np.array(df['label'].tolist())\n",
    "\n",
    "print(opcode_list[4])\n",
    "print(df['sourcecode'][4])\n",
    "print(opcode_list.shape)\n",
    "print(y.shape)"
   ]
  },
  {
   "cell_type": "markdown",
   "metadata": {},
   "source": [
    "# 加入sink 转为具体形式再append"
   ]
  },
  {
   "cell_type": "code",
   "execution_count": 5,
   "metadata": {},
   "outputs": [
    {
     "name": "stdout",
     "output_type": "stream",
     "text": [
      "ECHO NOP NEW DO_FCALL ASSIGN INIT_METHOD_CALL DO_FCALL ASSIGN INIT_FCALL_BY_NAME SEND_VAR_EX DO_FCALL ASSIGN CONCAT CONCAT ECHO ECHO RETURN FETCH_OBJ_R FETCH_DIM_R RETURN RETURN ASSIGN_OBJ OP_DATA FETCH_OBJ_W ASSIGN_DIM OP_DATA FETCH_R FETCH_DIM_R FETCH_OBJ_W ASSIGN_DIM OP_DATA FETCH_OBJ_W ASSIGN_DIM OP_DATA RETURN T_SINK_SINGLE_QUOTE_JS_BLOCK\n"
     ]
    },
    {
     "ename": "TypeError",
     "evalue": "dict expected at most 1 arguments, got 2",
     "output_type": "error",
     "traceback": [
      "\u001b[0;31m---------------------------------------------------------------------------\u001b[0m",
      "\u001b[0;31mTypeError\u001b[0m                                 Traceback (most recent call last)",
      "\u001b[0;32m<ipython-input-5-0f5b4b27d844>\u001b[0m in \u001b[0;36m<module>\u001b[0;34m\u001b[0m\n\u001b[1;32m     25\u001b[0m \u001b[0mprint\u001b[0m\u001b[0;34m(\u001b[0m\u001b[0mopcode_list\u001b[0m\u001b[0;34m[\u001b[0m\u001b[0;36m1\u001b[0m\u001b[0;34m]\u001b[0m\u001b[0;34m)\u001b[0m\u001b[0;34m\u001b[0m\u001b[0;34m\u001b[0m\u001b[0m\n\u001b[1;32m     26\u001b[0m \u001b[0;34m\u001b[0m\u001b[0m\n\u001b[0;32m---> 27\u001b[0;31m \u001b[0mopcode_n_sink_dict\u001b[0m \u001b[0;34m=\u001b[0m \u001b[0mdict\u001b[0m\u001b[0;34m(\u001b[0m\u001b[0mopcode_list\u001b[0m\u001b[0;34m,\u001b[0m \u001b[0msink_type_list\u001b[0m\u001b[0;34m)\u001b[0m\u001b[0;34m\u001b[0m\u001b[0;34m\u001b[0m\u001b[0m\n\u001b[0m\u001b[1;32m     28\u001b[0m \u001b[0;34m\u001b[0m\u001b[0m\n",
      "\u001b[0;31mTypeError\u001b[0m: dict expected at most 1 arguments, got 2"
     ]
    }
   ],
   "source": [
    "SINK_TYPE_DICT = {\n",
    "        0: 'T_SINK_BODY_SECTION',\n",
    "        1: 'T_SINK_SINGLE_QUOTE_ATTR_VAL',\n",
    "        2: 'T_SINK_DOUBLE_QUOTE_ATTR_VAL',\n",
    "        3: 'T_SINK_DOUBLE_QUOTE_CSS_VAL',\n",
    "        4: 'T_SINK_SINGLE_QUOTE_ATTR_VAL',\n",
    "        5: 'T_SINK_SINGLE_QUOTE_ATTR_VAL',\n",
    "        6: 'T_SINK_DOUBLE_QUOTE_CSS_VAL',\n",
    "        7: 'T_SINK_NO_QUOTE_ATTR_VAL',\n",
    "        8: 'T_SINK_NO_QUOTE_CSS_VAL',\n",
    "        9: 'T_SINK_SINGLE_QUOTE_JS_BLOCK',\n",
    "        10: 'T_SINK_DOUBLE_QUOTE_ATTR_VAL',\n",
    "        11: 'T_SINK_DOUBLE_QUOTE_EVENT_VAL',\n",
    "        12: 'T_SINK_SINGLE_QUOTE_CSS_VAL',\n",
    "        13: 'T_SINK_DOUBLE_QUOTE_JS_BLOCK',\n",
    "        14: 'T_SINK_HTML_TAG_NAME',\n",
    "        15: 'T_SINK_ATTR_NAME',\n",
    "        16: 'T_SINK_SINGLE_QUOTE_JS_BLOCK'        \n",
    "    }\n",
    "\n",
    "sink_type_list = np.array(df['sink_type'].tolist()).astype('int')\n",
    "\n",
    "opcode_n_sink_dict = dict(zip(opcode_list, sink_type_list))\n",
    "    "
   ]
  },
  {
   "cell_type": "markdown",
   "metadata": {},
   "source": [
    "# TF_IDF 处理词向量"
   ]
  },
  {
   "cell_type": "code",
   "execution_count": 5,
   "metadata": {},
   "outputs": [
    {
     "name": "stdout",
     "output_type": "stream",
     "text": [
      "(10080, 50)\n"
     ]
    }
   ],
   "source": [
    "from sklearn.feature_extraction.text import CountVectorizer\n",
    "from sklearn.feature_extraction.text import TfidfTransformer\n",
    "from sklearn.feature_extraction.text import TfidfVectorizer\n",
    "\n",
    "# CV = CountVectorizer(ngram_range=(5,5), decode_error='ignore',\n",
    "#                     token_pattern=r'\\b\\w+\\b', min_df=1, max_df=1.0)\n",
    "# X = CV.fit_transform(opcode_list).toarray()\n",
    "# # print(X[:2])\n",
    "# Tfid = TfidfTransformer(smooth_idf=False)\n",
    "# tfidf_value = Tfid.fit_transform(X)\n",
    "# # print(tfidf_value)\n",
    "# X_tfid = np.array(tfidf_value.toarray())\n",
    "# print(X_tfid.shape)\n",
    "\n",
    "tfidf = TfidfVectorizer()\n",
    "re = tfidf.fit_transform(opcode_list)\n",
    "# print(re)\n",
    "X_tfid = np.array(re.toarray())\n",
    "print(X_tfid.shape)"
   ]
  },
  {
   "cell_type": "code",
   "execution_count": 6,
   "metadata": {},
   "outputs": [
    {
     "name": "stdout",
     "output_type": "stream",
     "text": [
      "(7056, 50)\n",
      "(3024, 50)\n"
     ]
    }
   ],
   "source": [
    "from sklearn.preprocessing import StandardScaler\n",
    "from sklearn.preprocessing import MinMaxScaler\n",
    "from sklearn.model_selection import train_test_split\n",
    "from tensorflow.keras.utils import to_categorical\n",
    "\n",
    "X_train, X_test, y_train, y_test = train_test_split(\n",
    "    X_tfid, y, random_state=2020, test_size = 0.3, stratify=y)\n",
    "\n",
    "# 标准化\n",
    "std_scaler = StandardScaler()\n",
    "X_train_std = std_scaler.fit_transform(X_train).astype('float32')\n",
    "X_test_std = std_scaler.transform(X_test).astype('float32')\n",
    "\n",
    "# # 归一化以及独热编码\n",
    "# mm_scaler = StandardScaler()\n",
    "# X_train_std = mm_scaler.fit_transform(X_train).astype('float32')\n",
    "# X_test_std = mm_scaler.transform(X_test).astype('float32')\n",
    "# y_train = to_categorical(y_train, num_classes=2)\n",
    "# # y_test = to_categorical(y_test, num_classes=2)\n",
    "\n",
    "# X_train_std, X_test_std = X_train, X_test\n",
    "\n",
    "print(X_train_std.shape)\n",
    "print(X_test_std.shape)\n",
    "# print(X_test_std[:1])\n",
    "# print(y_train[:10])\n",
    "# print(y_test[:10])"
   ]
  },
  {
   "cell_type": "markdown",
   "metadata": {},
   "source": [
    "# SVM"
   ]
  },
  {
   "cell_type": "code",
   "execution_count": 9,
   "metadata": {},
   "outputs": [],
   "source": [
    "from sklearn import svm\n",
    "\n",
    "svc = svm.SVC(kernel='linear', C=1.0, gamma='auto', probability=True, random_state=2020)  # 线性核\n",
    "# svc = svm.SVC(kernel='rbf', gamma=0.7, C=1.0, probability=True, random_state=2020) # 径向基核\n",
    "# svc = svm.SVC(kernel='poly', degree=3, C=1.0, gamma='auto', probability=True, random_state=2020) # 多项式核"
   ]
  },
  {
   "cell_type": "code",
   "execution_count": 24,
   "metadata": {},
   "outputs": [
    {
     "name": "stdout",
     "output_type": "stream",
     "text": [
      "Finished training.\n",
      "\n"
     ]
    }
   ],
   "source": [
    "svc.fit(X_train_std, y_train) \n",
    "\n",
    "print('Finished training.\\n');"
   ]
  },
  {
   "cell_type": "code",
   "execution_count": 10,
   "metadata": {},
   "outputs": [
    {
     "data": {
      "image/png": "[encoded data removed]",
      "text/plain": [
       "<Figure size 432x288 with 1 Axes>"
      ]
     },
     "metadata": {
      "needs_background": "light"
     },
     "output_type": "display_data"
    }
   ],
   "source": [
    "from sklearn.metrics import roc_curve, auc\n",
    "import matplotlib.pyplot as plt\n",
    "from sklearn.model_selection import StratifiedKFold\n",
    "\n",
    "%matplotlib inline\n",
    "\n",
    "cv = StratifiedKFold(n_splits=10)    #导入该模型，后面将数据划分10份\n",
    " \n",
    "# 画平均ROC曲线的两个参数\n",
    "mean_tpr = 0.0              # 用来记录画平均ROC曲线的信息\n",
    "mean_fpr = np.linspace(0, 1, 100)\n",
    "cnt = 0\n",
    "for i, (train, test) in enumerate(cv.split(X_train_std,y_train)):       #利用模型划分数据集和目标变量 为一一对应的下标\n",
    "    cnt +=1\n",
    "    probas_ = svc.fit(X_train_std[train], y_train[train]).predict_proba(X_train_std[test]) # 训练模型后预测每条样本得到两种结果的概率\n",
    "    fpr, tpr, thresholds = roc_curve(y_train[test], probas_[:, 1])    # 该函数得到伪正例、真正例、阈值，这里只使用前两个\n",
    " \n",
    "    mean_tpr += np.interp(mean_fpr, fpr, tpr)   # 插值函数 interp(x坐标,每次x增加距离,y坐标)  累计每次循环的总值后面求平均值\n",
    "    mean_tpr[0] = 0.0           # 将第一个真正例=0 以0为起点\n",
    " \n",
    "    roc_auc = auc(fpr, tpr)  # 求auc面积\n",
    "    plt.plot(fpr, tpr, lw=1, label='ROC fold {0:.2f} (area = {1:.2f})'.format(i, roc_auc))    # 画出当前分割数据的ROC曲线\n",
    "\n",
    "plt.plot([0, 1], [0, 1], '--', color=(0.6, 0.6, 0.6), label='Luck') # 画对角线\n",
    " \n",
    "mean_tpr /= cnt   # 求数组的平均值\n",
    "mean_tpr[-1] = 1.0   # 坐标最后一个点为（1,1）  以1为终点\n",
    "mean_auc = auc(mean_fpr, mean_tpr)\n",
    " \n",
    "plt.plot(mean_fpr, mean_tpr, 'k--',label='Mean ROC (area = {0:.2f})'.format(mean_auc), lw=2)\n",
    " \n",
    "plt.xlim([-0.05, 1.05])     # 设置x、y轴的上下限，设置宽一点，以免和边缘重合，可以更好的观察图像的整体\n",
    "plt.ylim([-0.05, 1.05])\n",
    "plt.xlabel('False Positive Rate')\n",
    "plt.ylabel('True Positive Rate')    # 可以使用中文，但需要导入一些库即字体\n",
    "plt.title('ROC Curve')\n",
    "plt.legend(loc=\"lower right\")\n",
    "plt.show()"
   ]
  },
  {
   "cell_type": "code",
   "execution_count": 11,
   "metadata": {},
   "outputs": [
    {
     "name": "stdout",
     "output_type": "stream",
     "text": [
      "               precision    recall  f1-score   support\n",
      "\n",
      "Good sanitize       0.93      0.85      0.89      1718\n",
      " Bad sanitize       0.82      0.92      0.87      1306\n",
      "\n",
      "     accuracy                           0.88      3024\n",
      "    macro avg       0.88      0.88      0.88      3024\n",
      " weighted avg       0.89      0.88      0.88      3024\n",
      "\n"
     ]
    }
   ],
   "source": [
    "from sklearn import metrics\n",
    "predict_target = svc.predict(X_test_std)\n",
    "print(metrics.classification_report(y_test, predict_target, \n",
    "                                    target_names=['Good sanitize', 'Bad sanitize']))"
   ]
  },
  {
   "cell_type": "code",
   "execution_count": 12,
   "metadata": {},
   "outputs": [
    {
     "data": {
      "text/plain": [
       "Text(0.5, 0, 'True label')"
      ]
     },
     "execution_count": 12,
     "metadata": {},
     "output_type": "execute_result"
    },
    {
     "data": {
      "image/png": "[encoded data removed]",
      "text/plain": [
       "<Figure size 288x288 with 2 Axes>"
      ]
     },
     "metadata": {
      "needs_background": "light"
     },
     "output_type": "display_data"
    }
   ],
   "source": [
    "# Confusion matrix\n",
    "%matplotlib inline\n",
    "\n",
    "from sklearn.metrics import confusion_matrix\n",
    "import matplotlib.pyplot as plt\n",
    "\n",
    "cm = confusion_matrix(y_test, svc.predict(X_test_std))\n",
    "plt.matshow(cm,cmap=plt.cm.Greens)\n",
    "plt.colorbar()\n",
    "for x in range(len(cm)):\n",
    "    for y in range(len(cm)):\n",
    "        plt.annotate(cm[x,y],xy=(x,y),horizontalalignment='center',verticalalignment='center')\n",
    "\n",
    "plt.ylabel('Predicted label')# 坐标轴标签\n",
    "plt.xlabel('True label')# 坐标轴标签"
   ]
  },
  {
   "cell_type": "markdown",
   "metadata": {},
   "source": [
    "#  MLP"
   ]
  },
  {
   "cell_type": "code",
   "execution_count": 348,
   "metadata": {
    "collapsed": true,
    "jupyter": {
     "outputs_hidden": true,
     "source_hidden": true
    }
   },
   "outputs": [
    {
     "name": "stdout",
     "output_type": "stream",
     "text": [
      "               precision    recall  f1-score   support\n",
      "\n",
      "Good sanitize       1.00      0.52      0.68      1718\n",
      " Bad sanitize       0.61      1.00      0.76      1306\n",
      "\n",
      "     accuracy                           0.73      3024\n",
      "    macro avg       0.81      0.76      0.72      3024\n",
      " weighted avg       0.83      0.73      0.72      3024\n",
      "\n"
     ]
    }
   ],
   "source": [
    "from sklearn.neural_network import MLPClassifier\n",
    "\n",
    "mlp_clf = MLPClassifier(solver='lbfgs', alpha=1e-3, hidden_layer_sizes=(5,2), random_state=None)\n",
    "mlp_clf.fit(X_train_std, y_train)\n",
    "\n",
    "predict_target = mlp_clf.predict(X_test_std)\n",
    "print(metrics.classification_report(y_test, predict_target, \n",
    "                                    target_names=['Good sanitize', 'Bad sanitize']))"
   ]
  },
  {
   "cell_type": "markdown",
   "metadata": {},
   "source": [
    "# LSTM -1"
   ]
  },
  {
   "cell_type": "code",
   "execution_count": 349,
   "metadata": {
    "collapsed": true,
    "jupyter": {
     "outputs_hidden": true,
     "source_hidden": true
    }
   },
   "outputs": [
    {
     "name": "stdout",
     "output_type": "stream",
     "text": [
      "(7056, 1, 33)\n"
     ]
    }
   ],
   "source": [
    "from tensorflow.keras.layers import Dense, LSTM, Embedding,Dropout\n",
    "from tensorflow.keras.models import Sequential\n",
    "\n",
    "X_train_std = X_train_std.reshape(-1, 1, 33)\n",
    "print(X_train_std.shape)\n",
    "# print(X_train_std)\n",
    "\n",
    "batch = 4\n",
    "timesteps = 1\n",
    "data_dim = 33\n",
    "units_size = 32\n",
    "classes_num = 2\n",
    "\n",
    "model = Sequential()\n",
    "model.add(LSTM(units=units_size, dropout=0.2, recurrent_dropout=0.2,\n",
    "              batch_input_shape=(batch, timesteps, data_dim),\n",
    "              return_sequences=True, stateful=True, unroll=False\n",
    "              )\n",
    "         )\n",
    "model.add(LSTM(units_size, return_sequences=True, stateful=True))\n",
    "model.add(LSTM(units_size, stateful=True))\n",
    "model.add(Dense(classes_num, activation='softmax'))\n",
    "model.compile(loss='hinge', optimizer='adam',\n",
    "             metrics=['accuracy'])"
   ]
  },
  {
   "cell_type": "code",
   "execution_count": 350,
   "metadata": {
    "collapsed": true,
    "jupyter": {
     "outputs_hidden": true,
     "source_hidden": true
    }
   },
   "outputs": [
    {
     "name": "stdout",
     "output_type": "stream",
     "text": [
      "Epoch 1/5\n",
      "7056/7056 [==============================] - 20s 3ms/sample - loss: 1.0683 - acc: 0.5984\n",
      "Epoch 2/5\n",
      "7056/7056 [==============================] - 15s 2ms/sample - loss: 1.0683 - acc: 0.5862\n",
      "Epoch 3/5\n",
      "7056/7056 [==============================] - 15s 2ms/sample - loss: 1.0683 - acc: 0.6077\n",
      "Epoch 4/5\n",
      "7056/7056 [==============================] - 16s 2ms/sample - loss: 1.0683 - acc: 0.5993\n",
      "Epoch 5/5\n",
      "7056/7056 [==============================] - 15s 2ms/sample - loss: 1.0683 - acc: 0.5651\n"
     ]
    },
    {
     "data": {
      "text/plain": [
       "<tensorflow.python.keras.callbacks.History at 0x1a835c5fd0>"
      ]
     },
     "execution_count": 350,
     "metadata": {},
     "output_type": "execute_result"
    }
   ],
   "source": [
    "model.fit(X_train_std, y_train, epochs=5, batch_size=batch)"
   ]
  },
  {
   "cell_type": "code",
   "execution_count": 14,
   "metadata": {
    "collapsed": true,
    "jupyter": {
     "outputs_hidden": true,
     "source_hidden": true
    }
   },
   "outputs": [
    {
     "name": "stdout",
     "output_type": "stream",
     "text": [
      "(7056, 3, 11)\n"
     ]
    }
   ],
   "source": [
    "from tensorflow.keras.layers import Dense, LSTM, Embedding,Dropout\n",
    "from tensorflow.keras.models import Sequential\n",
    "from tensorflow.keras import regularizers\n",
    "from tensorflow.keras.optimizers import SGD\n",
    "\n",
    "# 标准化\n",
    "std_scaler = StandardScaler()\n",
    "X_train_std = std_scaler.fit_transform(X_train).astype('float32')\n",
    "X_test_std = std_scaler.transform(X_test).astype('float32')\n",
    "\n",
    "X_train_std = X_train_std.reshape(-1, 3, 11)\n",
    "print(X_train_std.shape)\n",
    "# print(X_train_std)\n",
    "\n",
    "batch = 48\n",
    "timesteps = 3\n",
    "data_dim = 11\n",
    "units_size = 32\n",
    "classes_num = 2\n",
    "\n",
    "# Optimizer 自定义优化器\n",
    "sgd1 = SGD(learning_rate=0.01)\n",
    "\n",
    "model1 = Sequential()\n",
    "model1.add(LSTM(units=units_size, dropout=0.25, recurrent_dropout=0.25,\n",
    "                batch_input_shape=(batch, timesteps, data_dim),\n",
    "                return_sequences=True, stateful=True,\n",
    "                kernel_regularizer=regularizers.l2(0.01),\n",
    "                activity_regularizer=regularizers.l1(0.01)\n",
    "              )\n",
    "         )\n",
    "model1.add(LSTM(units_size,\n",
    "                return_sequences=True, stateful=True))\n",
    "model1.add(LSTM(units_size,\n",
    "                stateful=True))\n",
    "model1.add(Dropout(0.25))\n",
    "model1.add(Dense(64, activation='relu'))\n",
    "# model1.add(Dropout(0.2))\n",
    "model1.add(Dense(classes_num, activation='softmax'))\n",
    "model1.compile(loss='cosine_proximity', optimizer=sgd1,\n",
    "             metrics=['accuracy'])"
   ]
  },
  {
   "cell_type": "code",
   "execution_count": 16,
   "metadata": {
    "collapsed": true,
    "jupyter": {
     "outputs_hidden": true,
     "source_hidden": true
    }
   },
   "outputs": [
    {
     "name": "stdout",
     "output_type": "stream",
     "text": [
      "Train on 7056 samples\n",
      "Epoch 1/20\n",
      "7056/7056 [==============================] - 2s 300us/sample - loss: 0.5141 - acc: 1.0000\n",
      "Epoch 2/20\n",
      "7056/7056 [==============================] - 2s 318us/sample - loss: 0.5076 - acc: 1.0000s - loss: 0.5061  - ETA: 0s - loss: 0.5082 - acc: 1.0\n",
      "Epoch 3/20\n",
      "7056/7056 [==============================] - 2s 310us/sample - loss: 0.5015 - acc: 1.0000\n",
      "Epoch 4/20\n",
      "7056/7056 [==============================] - 2s 300us/sample - loss: 0.4957 - acc: 1.0000\n",
      "Epoch 5/20\n",
      "7056/7056 [==============================] - 2s 316us/sample - loss: 0.4904 - acc: 1.0000s - loss: 0.4853 - acc: 1.00 - ETA: 1s - loss: 0.48 - ETA: 0s - loss: 0.4878 - acc: 1. - ETA: 0s - loss: 0.4905 - acc: 1.00\n",
      "Epoch 6/20\n",
      "7056/7056 [==============================] - 2s 315us/sample - loss: 0.4854 - acc: 1.0000s - loss: 0.4850 - acc: 1\n",
      "Epoch 7/20\n",
      "7056/7056 [==============================] - 2s 316us/sample - loss: 0.4807 - acc: 1.0000\n",
      "Epoch 8/20\n",
      "7056/7056 [==============================] - 2s 317us/sample - loss: 0.4764 - acc: 1.0000s - loss: 0.4747 - acc: 1.00 - ETA: 0s - loss: 0.4772 - acc: 1\n",
      "Epoch 9/20\n",
      "7056/7056 [==============================] - 2s 307us/sample - loss: 0.4724 - acc: 1.0000\n",
      "Epoch 10/20\n",
      "7056/7056 [==============================] - 2s 315us/sample - loss: 0.4686 - acc: 1.0000\n",
      "Epoch 11/20\n",
      "7056/7056 [==============================] - 2s 301us/sample - loss: 0.4651 - acc: 1.0000\n",
      "Epoch 12/20\n",
      "7056/7056 [==============================] - 2s 312us/sample - loss: 0.4619 - acc: 1.0000s \n",
      "Epoch 13/20\n",
      "7056/7056 [==============================] - 2s 315us/sample - loss: 0.4590 - acc: 1.0000s - loss:\n",
      "Epoch 14/20\n",
      "7056/7056 [==============================] - 2s 331us/sample - loss: 0.4564 - acc: 1.0000\n",
      "Epoch 15/20\n",
      "7056/7056 [==============================] - 2s 310us/sample - loss: 0.4541 - acc: 1.0000\n",
      "Epoch 16/20\n",
      "7056/7056 [==============================] - 2s 309us/sample - loss: 0.4522 - acc: 1.0000\n",
      "Epoch 17/20\n",
      "7056/7056 [==============================] - 2s 313us/sample - loss: 0.4507 - acc: 1.0000\n",
      "Epoch 18/20\n",
      "7056/7056 [==============================] - 2s 329us/sample - loss: 0.4496 - acc: 1.0000\n",
      "Epoch 19/20\n",
      "7056/7056 [==============================] - 2s 311us/sample - loss: 0.4486 - acc: 1.0000\n",
      "Epoch 20/20\n",
      "7056/7056 [==============================] - 2s 292us/sample - loss: 0.4476 - acc: 1.0000\n"
     ]
    }
   ],
   "source": [
    "history1 = model1.fit(X_train_std, y_train, epochs=20)"
   ]
  },
  {
   "cell_type": "markdown",
   "metadata": {},
   "source": [
    "# Bi - LSTM"
   ]
  },
  {
   "cell_type": "code",
   "execution_count": 13,
   "metadata": {},
   "outputs": [],
   "source": [
    "from tensorflow.keras.layers import Dense, Flatten, Embedding, Dropout, Bidirectional, LSTM\n",
    "from tensorflow.keras.models import Sequential\n",
    "from tensorflow.keras import regularizers\n",
    "from tensorflow.keras.optimizers import SGD\n"
   ]
  },
  {
   "cell_type": "code",
   "execution_count": 14,
   "metadata": {},
   "outputs": [
    {
     "name": "stdout",
     "output_type": "stream",
     "text": [
      "(7056, 50, 1)\n"
     ]
    }
   ],
   "source": [
    "X_train_std = X_train_std.reshape(-1, X_train_std.shape[1], 1)\n",
    "X_test_std = X_test_std.reshape(-1, X_train_std.shape[1], 1)\n",
    "y_train_hot = to_categorical(y_train, 2)\n",
    "print(X_train_std.shape)"
   ]
  },
  {
   "cell_type": "code",
   "execution_count": 31,
   "metadata": {},
   "outputs": [
    {
     "name": "stdout",
     "output_type": "stream",
     "text": [
      "WARNING:tensorflow:From C:\\ProgramData\\Anaconda3\\lib\\site-packages\\tensorflow_core\\python\\ops\\init_ops.py:97: calling GlorotUniform.__init__ (from tensorflow.python.ops.init_ops) with dtype is deprecated and will be removed in a future version.\n",
      "Instructions for updating:\n",
      "Call initializer instance with the dtype argument instead of passing it to the constructor\n",
      "WARNING:tensorflow:From C:\\ProgramData\\Anaconda3\\lib\\site-packages\\tensorflow_core\\python\\ops\\init_ops.py:97: calling Orthogonal.__init__ (from tensorflow.python.ops.init_ops) with dtype is deprecated and will be removed in a future version.\n",
      "Instructions for updating:\n",
      "Call initializer instance with the dtype argument instead of passing it to the constructor\n",
      "WARNING:tensorflow:From C:\\ProgramData\\Anaconda3\\lib\\site-packages\\tensorflow_core\\python\\ops\\init_ops.py:97: calling Zeros.__init__ (from tensorflow.python.ops.init_ops) with dtype is deprecated and will be removed in a future version.\n",
      "Instructions for updating:\n",
      "Call initializer instance with the dtype argument instead of passing it to the constructor\n"
     ]
    }
   ],
   "source": [
    "model = Sequential()\n",
    "# model.add(Embedding(X_train.shape[0], 100, input_length=100))\n",
    "model.add(Bidirectional(LSTM(64, dropout=0.2)))\n",
    "model.add(Dropout(0.2))\n",
    "model.add(Dense(64, activation='relu'))\n",
    "# model.add(Dropout(0.4))\n",
    "model.add(Dense(2, activation='softmax'))\n",
    "model.compile(loss='binary_crossentropy', optimizer='nadam',\n",
    "             metrics=['accuracy'])"
   ]
  },
  {
   "cell_type": "markdown",
   "metadata": {},
   "source": [
    "### 这里加载模型"
   ]
  },
  {
   "cell_type": "code",
   "execution_count": 15,
   "metadata": {},
   "outputs": [
    {
     "name": "stdout",
     "output_type": "stream",
     "text": [
      "WARNING:tensorflow:From C:\\ProgramData\\Anaconda3\\lib\\site-packages\\tensorflow_core\\python\\ops\\init_ops.py:97: calling GlorotUniform.__init__ (from tensorflow.python.ops.init_ops) with dtype is deprecated and will be removed in a future version.\n",
      "Instructions for updating:\n",
      "Call initializer instance with the dtype argument instead of passing it to the constructor\n",
      "WARNING:tensorflow:From C:\\ProgramData\\Anaconda3\\lib\\site-packages\\tensorflow_core\\python\\ops\\init_ops.py:97: calling Orthogonal.__init__ (from tensorflow.python.ops.init_ops) with dtype is deprecated and will be removed in a future version.\n",
      "Instructions for updating:\n",
      "Call initializer instance with the dtype argument instead of passing it to the constructor\n",
      "WARNING:tensorflow:From C:\\ProgramData\\Anaconda3\\lib\\site-packages\\tensorflow_core\\python\\ops\\init_ops.py:97: calling Zeros.__init__ (from tensorflow.python.ops.init_ops) with dtype is deprecated and will be removed in a future version.\n",
      "Instructions for updating:\n",
      "Call initializer instance with the dtype argument instead of passing it to the constructor\n",
      "WARNING:tensorflow:From C:\\ProgramData\\Anaconda3\\lib\\site-packages\\tensorflow_core\\python\\ops\\resource_variable_ops.py:1630: calling BaseResourceVariable.__init__ (from tensorflow.python.ops.resource_variable_ops) with constraint is deprecated and will be removed in a future version.\n",
      "Instructions for updating:\n",
      "If using Keras pass *_constraint arguments to layers.\n",
      "WARNING:tensorflow:Sequential models without an `input_shape` passed to the first layer cannot reload their optimizer state. As a result, your model isstarting with a freshly initialized optimizer.\n"
     ]
    }
   ],
   "source": [
    "from tensorflow.keras.models import load_model\n",
    "model = load_model('tfidf_bidirect_lstm.h5')"
   ]
  },
  {
   "cell_type": "markdown",
   "metadata": {},
   "source": [
    "### 这里训练"
   ]
  },
  {
   "cell_type": "code",
   "execution_count": 32,
   "metadata": {},
   "outputs": [
    {
     "name": "stdout",
     "output_type": "stream",
     "text": [
      "Train on 5644 samples, validate on 1412 samples\n",
      "Epoch 1/20\n",
      "5644/5644 [==============================] - 20s 4ms/sample - loss: 0.2101 - acc: 0.8932 - val_loss: 0.3171 - val_acc: 0.8534\n",
      "Epoch 2/20\n",
      "5644/5644 [==============================] - 25s 4ms/sample - loss: 0.2072 - acc: 0.8956 - val_loss: 0.2662 - val_acc: 0.8555\n",
      "Epoch 3/20\n",
      "5644/5644 [==============================] - 25s 4ms/sample - loss: 0.2228 - acc: 0.8871 - val_loss: 0.2883 - val_acc: 0.8676\n",
      "Epoch 4/20\n",
      "5644/5644 [==============================] - 24s 4ms/sample - loss: 0.2178 - acc: 0.8852 - val_loss: 0.2692 - val_acc: 0.8633\n",
      "Epoch 5/20\n",
      "5644/5644 [==============================] - 25s 4ms/sample - loss: 0.2158 - acc: 0.8914 - val_loss: 0.2761 - val_acc: 0.8669\n",
      "Epoch 6/20\n",
      "5644/5644 [==============================] - 23s 4ms/sample - loss: 0.2079 - acc: 0.8928 - val_loss: 0.2462 - val_acc: 0.8654\n",
      "Epoch 7/20\n",
      "5644/5644 [==============================] - 21s 4ms/sample - loss: 0.2042 - acc: 0.8909 - val_loss: 0.2693 - val_acc: 0.8661\n",
      "Epoch 8/20\n",
      "5644/5644 [==============================] - 21s 4ms/sample - loss: 0.2103 - acc: 0.8962 - val_loss: 0.2748 - val_acc: 0.8591\n",
      "Epoch 9/20\n",
      "5644/5644 [==============================] - 22s 4ms/sample - loss: 0.2132 - acc: 0.8916 - val_loss: 0.2435 - val_acc: 0.8654\n",
      "Epoch 10/20\n",
      "5644/5644 [==============================] - 22s 4ms/sample - loss: 0.2021 - acc: 0.8956 - val_loss: 0.2427 - val_acc: 0.8690\n",
      "Epoch 11/20\n",
      "5644/5644 [==============================] - 22s 4ms/sample - loss: 0.2265 - acc: 0.8878 - val_loss: 0.2689 - val_acc: 0.8633\n",
      "Epoch 12/20\n",
      "5644/5644 [==============================] - 25s 4ms/sample - loss: 0.2055 - acc: 0.8967 - val_loss: 0.2394 - val_acc: 0.8754\n",
      "Epoch 13/20\n",
      "5644/5644 [==============================] - 22s 4ms/sample - loss: 0.2065 - acc: 0.8948 - val_loss: 0.3089 - val_acc: 0.8548\n",
      "Epoch 14/20\n",
      "5644/5644 [==============================] - 23s 4ms/sample - loss: 0.2093 - acc: 0.8926 - val_loss: 0.3166 - val_acc: 0.8449\n",
      "Epoch 15/20\n",
      "5644/5644 [==============================] - 32s 6ms/sample - loss: 0.2173 - acc: 0.8909 - val_loss: 0.2760 - val_acc: 0.8612\n",
      "Epoch 16/20\n",
      "5644/5644 [==============================] - 22s 4ms/sample - loss: 0.2056 - acc: 0.8930 - val_loss: 0.2297 - val_acc: 0.8718\n",
      "Epoch 17/20\n",
      "5644/5644 [==============================] - 21s 4ms/sample - loss: 0.2076 - acc: 0.8953 - val_loss: 0.2600 - val_acc: 0.8612\n",
      "Epoch 18/20\n",
      "5644/5644 [==============================] - 22s 4ms/sample - loss: 0.2050 - acc: 0.8935 - val_loss: 0.2617 - val_acc: 0.8676\n",
      "Epoch 19/20\n",
      "5644/5644 [==============================] - 21s 4ms/sample - loss: 0.2014 - acc: 0.8956 - val_loss: 0.3106 - val_acc: 0.8534\n",
      "Epoch 20/20\n",
      "5644/5644 [==============================] - 22s 4ms/sample - loss: 0.2096 - acc: 0.8891 - val_loss: 0.3533 - val_acc: 0.8399\n"
     ]
    }
   ],
   "source": [
    "history1 = model.fit(X_train_std, y_train_hot, epochs=20, validation_split=0.2)"
   ]
  },
  {
   "cell_type": "code",
   "execution_count": 30,
   "metadata": {},
   "outputs": [],
   "source": [
    "model.save('tfidf_bidirect_lstm.h5')"
   ]
  },
  {
   "cell_type": "code",
   "execution_count": 33,
   "metadata": {},
   "outputs": [
    {
     "name": "stdout",
     "output_type": "stream",
     "text": [
      "[0 1 1 0 1 1 0 1 1 0 0 0 0 1 0 1 1 1 0 0]\n",
      "[0 1 0 0 1 0 0 0 0 0 0 0 0 1 0 1 0 1 0 0]\n",
      "               precision    recall  f1-score   support\n",
      "\n",
      "Good sanitize       0.89      0.85      0.87      1718\n",
      " Bad sanitize       0.81      0.87      0.84      1306\n",
      "\n",
      "     accuracy                           0.86      3024\n",
      "    macro avg       0.85      0.86      0.85      3024\n",
      " weighted avg       0.86      0.86      0.86      3024\n",
      "\n"
     ]
    }
   ],
   "source": [
    "y_pred = model.predict_classes(X_test_std).astype('int')\n",
    "print(y_pred[:20])\n",
    "print(y_test[:20])\n",
    "from sklearn import metrics\n",
    "print(metrics.classification_report(y_test, y_pred, \n",
    "                                    target_names=['Good sanitize', 'Bad sanitize']))"
   ]
  },
  {
   "cell_type": "code",
   "execution_count": null,
   "metadata": {},
   "outputs": [],
   "source": []
  }
 ],
 "metadata": {
  "kernelspec": {
   "display_name": "Python 3",
   "language": "python",
   "name": "python3"
  },
  "language_info": {
   "codemirror_mode": {
    "name": "ipython",
    "version": 3
   },
   "file_extension": ".py",
   "mimetype": "text/x-python",
   "name": "python",
   "nbconvert_exporter": "python",
   "pygments_lexer": "ipython3",
   "version": "3.7.5"
  }
 },
 "nbformat": 4,
 "nbformat_minor": 4
}
