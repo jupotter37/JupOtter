{
 "cells": [
  {
   "cell_type": "code",
   "execution_count": 1,
   "metadata": {},
   "outputs": [
    {
     "data": {
      "text/html": [
       "<script>requirejs.config({paths: { 'plotly': ['https://cdn.plot.ly/plotly-latest.min']},});if(!window.Plotly) {{require(['plotly'],function(plotly) {window.Plotly=plotly;});}}</script>"
      ],
      "text/vnd.plotly.v1+html": [
       "<script>requirejs.config({paths: { 'plotly': ['https://cdn.plot.ly/plotly-latest.min']},});if(!window.Plotly) {{require(['plotly'],function(plotly) {window.Plotly=plotly;});}}</script>"
      ]
     },
     "metadata": {},
     "output_type": "display_data"
    }
   ],
   "source": [
    "import plotly\n",
    "import plotly.plotly as py\n",
    "from plotly.offline import download_plotlyjs, init_notebook_mode, plot, iplot\n",
    "\n",
    "import pandas\n",
    "\n",
    "from util import ESConnection\n",
    "from elasticsearch_dsl import Search, Q\n",
    "\n",
    "es_conn = ESConnection()\n",
    "\n",
    "init_notebook_mode(connected=True)\n",
    "\n",
    "\n",
    "INIT_DATE_4Y = '2013-10-01'\n",
    "INIT_DATE_1Y = '2016-10-01'\n",
    "END_DATE = '2017-10-01'"
   ]
  },
  {
   "cell_type": "markdown",
   "metadata": {},
   "source": [
    "## Basic metrics to be in the report:\n",
    "\n",
    "**Git**\n",
    "* Evolution and trends over time [per quarter] of commits by gender\n",
    "  * Commits by gender (columns: hash, gender)\n",
    "* Evolution and trends [per quarter] of developers over time by gender\n",
    "  * Developers by gender (columns: name, uuid, gender)\n",
    "* Evolution and trends of type of contributions (code or others) by gender over time\n",
    "  * Type of file touched by developers (columns: filetype, gender)\n",
    "\n",
    "**Gerrit**\n",
    "* Evolution of code reviews over time by gender\n",
    "  * Count votes by gender (vote, gender)\n",
    "* Evolution of code reviews developers over time by gender\n",
    "  * Count people voting (name, uuid, vote)\n",
    "* Evolution of core reviews over time by gender\n",
    "  * Votes +2 or -2 (vote +2/-2 and gender)\n",
    "* Evolution of core review developers over time by gender\n",
    "  * People voting +2 or -2 (name, uuid, vote +2/-2, gender)\n",
    "\n",
    "**Others**\n",
    "* Evolution of attracted developers over time by gender\n",
    "  * First commit by gender\n",
    "* Time working in the community by gender\n",
    "  * Time difference between the first and last contribution by all developers (so how long developers remain in OpenStack?)."
   ]
  },
  {
   "cell_type": "markdown",
   "metadata": {},
   "source": [
    "Some Functions\n",
    "========"
   ]
  },
  {
   "cell_type": "code",
   "execution_count": 2,
   "metadata": {
    "collapsed": true
   },
   "outputs": [],
   "source": [
    "def query_metric_over_time(index, metric_name, metric_field, filters = []):\n",
    "    \n",
    "    s = Search(using=es_conn, index=index)  # Index selection\n",
    "    for filtering in filters:\n",
    "        s = s.filter(filtering)\n",
    "    s.aggs.bucket('gender', 'terms', field='gender')\\\n",
    "          .bucket('time', 'date_histogram', field='date', interval='quarter')\\\n",
    "          .metric(metric_name, 'cardinality', field=metric_field, precision_threshold=10000)\n",
    "    result = s.execute()\n",
    "\n",
    "    value = result.to_dict()[\"aggregations\"]['gender']['buckets']\n",
    "    \n",
    "    df = pandas.DataFrame()\n",
    "   \n",
    "    for i in value:\n",
    "        df2 = (pandas.DataFrame.from_dict(i[\"time\"][\"buckets\"]))\n",
    "        df2[\"gender\"] = i[\"key\"]\n",
    "        df2[metric_name] = df2[metric_name].apply(lambda row:row[\"value\"])\n",
    "        df = pandas.concat([df, df2])\n",
    "\n",
    "    return df"
   ]
  },
  {
   "cell_type": "code",
   "execution_count": 3,
   "metadata": {
    "collapsed": true
   },
   "outputs": [],
   "source": [
    "def query_total_piechart(index, metric_name, metric_field, filters = []):\n",
    "    s = Search(using=es_conn, index=index)  # Index selection\n",
    "    for filtering in filters:\n",
    "        s = s.filter(filtering)\n",
    "    #s = s.filter('range', date={'gt': start_date, 'lt':'now/M'}) # filter date\n",
    "    s.aggs.bucket('gender', 'terms', field='gender')\\\n",
    "          .metric(metric_name, 'cardinality', field=metric_field, precision_threshold=1000000)\n",
    "    result = s.execute()\n",
    "    \n",
    "    buckets = result.to_dict()[\"aggregations\"][\"gender\"][\"buckets\"]\n",
    "    pie_chart_labels = []\n",
    "    pie_chart_values = []\n",
    "    pie_chart_count = []\n",
    "    for bucket in buckets:\n",
    "        pie_chart_labels.append(bucket[\"key\"])\n",
    "        pie_chart_values.append(bucket[metric_name][\"value\"])\n",
    "        pie_chart_count.append(bucket[\"doc_count\"])\n",
    "        \n",
    "    return pie_chart_labels, pie_chart_values, pie_chart_count"
   ]
  },
  {
   "cell_type": "code",
   "execution_count": 4,
   "metadata": {
    "collapsed": true
   },
   "outputs": [],
   "source": [
    "def draw_evolutionary_chart(label, values):\n",
    "    female_changesets = plotly.graph_objs.Scatter(\n",
    "    x = df[df[\"gender\"]==\"female\"][label],\n",
    "    y = df[df[\"gender\"]==\"female\"][values],\n",
    "    name = 'female'\n",
    "    )\n",
    "\n",
    "    male_changesets = plotly.graph_objs.Scatter(\n",
    "        x = df[df[\"gender\"]==\"male\"][label],\n",
    "        y = df[df[\"gender\"]==\"male\"][values],\n",
    "        name = 'male'\n",
    "    )\n",
    "\n",
    "    unknown_changesets = plotly.graph_objs.Scatter(\n",
    "        x = df[df[\"gender\"]==\"NotKnown\"][label],\n",
    "        y = df[df[\"gender\"]==\"NotKnown\"][values],\n",
    "        name = 'unknown'\n",
    "    )\n",
    "\n",
    "    iplot([female_changesets, male_changesets, unknown_changesets])\n",
    "    # Using only plot and not iplot creates and HTML page with JS to play with the chart"
   ]
  },
  {
   "cell_type": "code",
   "execution_count": 5,
   "metadata": {
    "collapsed": true
   },
   "outputs": [],
   "source": [
    "def draw_piechart(pie_chart_labels, pie_chart_values, title):\n",
    "            \n",
    "    fig = {\n",
    "    'data': [{'labels': pie_chart_labels,\n",
    "              'values': pie_chart_values,\n",
    "              'type': 'pie'}],\n",
    "    'layout': {'title': title}\n",
    "     }\n",
    "    iplot(fig)"
   ]
  },
  {
   "cell_type": "markdown",
   "metadata": {},
   "source": [
    "Gerrit\n",
    "====="
   ]
  },
  {
   "cell_type": "code",
   "execution_count": 6,
   "metadata": {
    "collapsed": true
   },
   "outputs": [],
   "source": [
    "INDEX = \"gerrit_openstack_gender_uuids\"\n",
    "filter_date_4y = Q('range', date={'gte': INIT_DATE_4Y, 'lt': END_DATE})\n",
    "filter_date_1y = Q('range', date={'gte': INIT_DATE_1Y, 'lt': END_DATE})"
   ]
  },
  {
   "cell_type": "markdown",
   "metadata": {},
   "source": [
    "## Changeset Submissions by Gender\n",
    "\n",
    "### Evolution of submissions sent over time by gender"
   ]
  },
  {
   "cell_type": "code",
   "execution_count": 9,
   "metadata": {
    "collapsed": true
   },
   "outputs": [],
   "source": [
    "METRIC_NAME = \"changesets\"\n",
    "METRIC_FIELD = \"id\"\n",
    "filter_changeset_submission = Q('term', eventtype='CHANGESET_SENT') # filter by event: vote a code review\n",
    "df = query_metric_over_time(INDEX, METRIC_NAME, METRIC_FIELD, [filter_date_4y, filter_changeset_submission])"
   ]
  },
  {
   "cell_type": "code",
   "execution_count": 10,
   "metadata": {},
   "outputs": [
    {
     "data": {
      "application/vnd.plotly.v1+json": {
       "data": [
        {
         "name": "female",
         "type": "scatter",
         "x": [
          "2013-10-01T00:00:00.000Z",
          "2014-01-01T00:00:00.000Z",
          "2014-04-01T00:00:00.000Z",
          "2014-07-01T00:00:00.000Z",
          "2014-10-01T00:00:00.000Z",
          "2015-01-01T00:00:00.000Z",
          "2015-04-01T00:00:00.000Z",
          "2015-07-01T00:00:00.000Z",
          "2015-10-01T00:00:00.000Z",
          "2016-01-01T00:00:00.000Z",
          "2016-04-01T00:00:00.000Z",
          "2016-07-01T00:00:00.000Z",
          "2016-10-01T00:00:00.000Z",
          "2017-01-01T00:00:00.000Z",
          "2017-04-01T00:00:00.000Z",
          "2017-07-01T00:00:00.000Z"
         ],
         "y": [
          1702,
          1943,
          1586,
          1893,
          1603,
          2158,
          2652,
          3172,
          2903,
          3209,
          2998,
          3580,
          2438,
          2936,
          1835,
          1953
         ]
        },
        {
         "name": "male",
         "type": "scatter",
         "x": [
          "2013-10-01T00:00:00.000Z",
          "2014-01-01T00:00:00.000Z",
          "2014-04-01T00:00:00.000Z",
          "2014-07-01T00:00:00.000Z",
          "2014-10-01T00:00:00.000Z",
          "2015-01-01T00:00:00.000Z",
          "2015-04-01T00:00:00.000Z",
          "2015-07-01T00:00:00.000Z",
          "2015-10-01T00:00:00.000Z",
          "2016-01-01T00:00:00.000Z",
          "2016-04-01T00:00:00.000Z",
          "2016-07-01T00:00:00.000Z",
          "2016-10-01T00:00:00.000Z",
          "2017-01-01T00:00:00.000Z",
          "2017-04-01T00:00:00.000Z",
          "2017-07-01T00:00:00.000Z"
         ],
         "y": [
          11646,
          14878,
          15121,
          16318,
          14421,
          18583,
          20718,
          23274,
          23418,
          27096,
          25643,
          31500,
          24127,
          24277,
          18137,
          17777
         ]
        },
        {
         "name": "unknown",
         "type": "scatter",
         "x": [
          "2013-10-01T00:00:00.000Z",
          "2014-01-01T00:00:00.000Z",
          "2014-04-01T00:00:00.000Z",
          "2014-07-01T00:00:00.000Z",
          "2014-10-01T00:00:00.000Z",
          "2015-01-01T00:00:00.000Z",
          "2015-04-01T00:00:00.000Z",
          "2015-07-01T00:00:00.000Z",
          "2015-10-01T00:00:00.000Z",
          "2016-01-01T00:00:00.000Z",
          "2016-04-01T00:00:00.000Z",
          "2016-07-01T00:00:00.000Z",
          "2016-10-01T00:00:00.000Z",
          "2017-01-01T00:00:00.000Z",
          "2017-04-01T00:00:00.000Z",
          "2017-07-01T00:00:00.000Z"
         ],
         "y": [
          2020,
          2650,
          2686,
          3086,
          3252,
          3912,
          4285,
          5661,
          6650,
          6709,
          7071,
          8991,
          8540,
          9050,
          6828,
          8802
         ]
        }
       ],
       "layout": {}
      },
      "text/html": [
       "<div id=\"c55020aa-1250-434e-808f-098e2521354f\" style=\"height: 525px; width: 100%;\" class=\"plotly-graph-div\"></div><script type=\"text/javascript\">require([\"plotly\"], function(Plotly) { window.PLOTLYENV=window.PLOTLYENV || {};window.PLOTLYENV.BASE_URL=\"https://plot.ly\";Plotly.newPlot(\"c55020aa-1250-434e-808f-098e2521354f\", [{\"y\": [1702, 1943, 1586, 1893, 1603, 2158, 2652, 3172, 2903, 3209, 2998, 3580, 2438, 2936, 1835, 1953], \"type\": \"scatter\", \"x\": [\"2013-10-01T00:00:00.000Z\", \"2014-01-01T00:00:00.000Z\", \"2014-04-01T00:00:00.000Z\", \"2014-07-01T00:00:00.000Z\", \"2014-10-01T00:00:00.000Z\", \"2015-01-01T00:00:00.000Z\", \"2015-04-01T00:00:00.000Z\", \"2015-07-01T00:00:00.000Z\", \"2015-10-01T00:00:00.000Z\", \"2016-01-01T00:00:00.000Z\", \"2016-04-01T00:00:00.000Z\", \"2016-07-01T00:00:00.000Z\", \"2016-10-01T00:00:00.000Z\", \"2017-01-01T00:00:00.000Z\", \"2017-04-01T00:00:00.000Z\", \"2017-07-01T00:00:00.000Z\"], \"name\": \"female\"}, {\"y\": [11646, 14878, 15121, 16318, 14421, 18583, 20718, 23274, 23418, 27096, 25643, 31500, 24127, 24277, 18137, 17777], \"type\": \"scatter\", \"x\": [\"2013-10-01T00:00:00.000Z\", \"2014-01-01T00:00:00.000Z\", \"2014-04-01T00:00:00.000Z\", \"2014-07-01T00:00:00.000Z\", \"2014-10-01T00:00:00.000Z\", \"2015-01-01T00:00:00.000Z\", \"2015-04-01T00:00:00.000Z\", \"2015-07-01T00:00:00.000Z\", \"2015-10-01T00:00:00.000Z\", \"2016-01-01T00:00:00.000Z\", \"2016-04-01T00:00:00.000Z\", \"2016-07-01T00:00:00.000Z\", \"2016-10-01T00:00:00.000Z\", \"2017-01-01T00:00:00.000Z\", \"2017-04-01T00:00:00.000Z\", \"2017-07-01T00:00:00.000Z\"], \"name\": \"male\"}, {\"y\": [2020, 2650, 2686, 3086, 3252, 3912, 4285, 5661, 6650, 6709, 7071, 8991, 8540, 9050, 6828, 8802], \"type\": \"scatter\", \"x\": [\"2013-10-01T00:00:00.000Z\", \"2014-01-01T00:00:00.000Z\", \"2014-04-01T00:00:00.000Z\", \"2014-07-01T00:00:00.000Z\", \"2014-10-01T00:00:00.000Z\", \"2015-01-01T00:00:00.000Z\", \"2015-04-01T00:00:00.000Z\", \"2015-07-01T00:00:00.000Z\", \"2015-10-01T00:00:00.000Z\", \"2016-01-01T00:00:00.000Z\", \"2016-04-01T00:00:00.000Z\", \"2016-07-01T00:00:00.000Z\", \"2016-10-01T00:00:00.000Z\", \"2017-01-01T00:00:00.000Z\", \"2017-04-01T00:00:00.000Z\", \"2017-07-01T00:00:00.000Z\"], \"name\": \"unknown\"}], {}, {\"linkText\": \"Export to plot.ly\", \"showLink\": true})});</script>"
      ],
      "text/vnd.plotly.v1+html": [
       "<div id=\"c55020aa-1250-434e-808f-098e2521354f\" style=\"height: 525px; width: 100%;\" class=\"plotly-graph-div\"></div><script type=\"text/javascript\">require([\"plotly\"], function(Plotly) { window.PLOTLYENV=window.PLOTLYENV || {};window.PLOTLYENV.BASE_URL=\"https://plot.ly\";Plotly.newPlot(\"c55020aa-1250-434e-808f-098e2521354f\", [{\"y\": [1702, 1943, 1586, 1893, 1603, 2158, 2652, 3172, 2903, 3209, 2998, 3580, 2438, 2936, 1835, 1953], \"type\": \"scatter\", \"x\": [\"2013-10-01T00:00:00.000Z\", \"2014-01-01T00:00:00.000Z\", \"2014-04-01T00:00:00.000Z\", \"2014-07-01T00:00:00.000Z\", \"2014-10-01T00:00:00.000Z\", \"2015-01-01T00:00:00.000Z\", \"2015-04-01T00:00:00.000Z\", \"2015-07-01T00:00:00.000Z\", \"2015-10-01T00:00:00.000Z\", \"2016-01-01T00:00:00.000Z\", \"2016-04-01T00:00:00.000Z\", \"2016-07-01T00:00:00.000Z\", \"2016-10-01T00:00:00.000Z\", \"2017-01-01T00:00:00.000Z\", \"2017-04-01T00:00:00.000Z\", \"2017-07-01T00:00:00.000Z\"], \"name\": \"female\"}, {\"y\": [11646, 14878, 15121, 16318, 14421, 18583, 20718, 23274, 23418, 27096, 25643, 31500, 24127, 24277, 18137, 17777], \"type\": \"scatter\", \"x\": [\"2013-10-01T00:00:00.000Z\", \"2014-01-01T00:00:00.000Z\", \"2014-04-01T00:00:00.000Z\", \"2014-07-01T00:00:00.000Z\", \"2014-10-01T00:00:00.000Z\", \"2015-01-01T00:00:00.000Z\", \"2015-04-01T00:00:00.000Z\", \"2015-07-01T00:00:00.000Z\", \"2015-10-01T00:00:00.000Z\", \"2016-01-01T00:00:00.000Z\", \"2016-04-01T00:00:00.000Z\", \"2016-07-01T00:00:00.000Z\", \"2016-10-01T00:00:00.000Z\", \"2017-01-01T00:00:00.000Z\", \"2017-04-01T00:00:00.000Z\", \"2017-07-01T00:00:00.000Z\"], \"name\": \"male\"}, {\"y\": [2020, 2650, 2686, 3086, 3252, 3912, 4285, 5661, 6650, 6709, 7071, 8991, 8540, 9050, 6828, 8802], \"type\": \"scatter\", \"x\": [\"2013-10-01T00:00:00.000Z\", \"2014-01-01T00:00:00.000Z\", \"2014-04-01T00:00:00.000Z\", \"2014-07-01T00:00:00.000Z\", \"2014-10-01T00:00:00.000Z\", \"2015-01-01T00:00:00.000Z\", \"2015-04-01T00:00:00.000Z\", \"2015-07-01T00:00:00.000Z\", \"2015-10-01T00:00:00.000Z\", \"2016-01-01T00:00:00.000Z\", \"2016-04-01T00:00:00.000Z\", \"2016-07-01T00:00:00.000Z\", \"2016-10-01T00:00:00.000Z\", \"2017-01-01T00:00:00.000Z\", \"2017-04-01T00:00:00.000Z\", \"2017-07-01T00:00:00.000Z\"], \"name\": \"unknown\"}], {}, {\"linkText\": \"Export to plot.ly\", \"showLink\": true})});</script>"
      ]
     },
     "metadata": {},
     "output_type": "display_data"
    }
   ],
   "source": [
    "draw_evolutionary_chart(\"key_as_string\", METRIC_NAME)"
   ]
  },
  {
   "cell_type": "markdown",
   "metadata": {},
   "source": [
    "### Aggregated changeset submissions by gender"
   ]
  },
  {
   "cell_type": "code",
   "execution_count": 11,
   "metadata": {
    "collapsed": true
   },
   "outputs": [],
   "source": [
    "pie_chart_labels, pie_chart_values, pie_chart_count = query_total_piechart(INDEX, METRIC_NAME, METRIC_FIELD, [filter_date_4y,\n",
    "                                                                                             filter_changeset_submission])"
   ]
  },
  {
   "cell_type": "code",
   "execution_count": 12,
   "metadata": {},
   "outputs": [
    {
     "data": {
      "application/vnd.plotly.v1+json": {
       "data": [
        {
         "labels": [
          "male",
          "NotKnown",
          "female",
          "Unknown"
         ],
         "type": "pie",
         "values": [
          326435,
          90300,
          38565,
          1
         ]
        }
       ],
       "layout": {
        "title": "Changeset Submissions by Gender (last 4 years)"
       }
      },
      "text/html": [
       "<div id=\"3c96563c-6d00-41fc-a662-61d52cf428f0\" style=\"height: 525px; width: 100%;\" class=\"plotly-graph-div\"></div><script type=\"text/javascript\">require([\"plotly\"], function(Plotly) { window.PLOTLYENV=window.PLOTLYENV || {};window.PLOTLYENV.BASE_URL=\"https://plot.ly\";Plotly.newPlot(\"3c96563c-6d00-41fc-a662-61d52cf428f0\", [{\"values\": [326435, 90300, 38565, 1], \"type\": \"pie\", \"labels\": [\"male\", \"NotKnown\", \"female\", \"Unknown\"]}], {\"title\": \"Changeset Submissions by Gender (last 4 years)\"}, {\"linkText\": \"Export to plot.ly\", \"showLink\": true})});</script>"
      ],
      "text/vnd.plotly.v1+html": [
       "<div id=\"3c96563c-6d00-41fc-a662-61d52cf428f0\" style=\"height: 525px; width: 100%;\" class=\"plotly-graph-div\"></div><script type=\"text/javascript\">require([\"plotly\"], function(Plotly) { window.PLOTLYENV=window.PLOTLYENV || {};window.PLOTLYENV.BASE_URL=\"https://plot.ly\";Plotly.newPlot(\"3c96563c-6d00-41fc-a662-61d52cf428f0\", [{\"values\": [326435, 90300, 38565, 1], \"type\": \"pie\", \"labels\": [\"male\", \"NotKnown\", \"female\", \"Unknown\"]}], {\"title\": \"Changeset Submissions by Gender (last 4 years)\"}, {\"linkText\": \"Export to plot.ly\", \"showLink\": true})});</script>"
      ]
     },
     "metadata": {},
     "output_type": "display_data"
    }
   ],
   "source": [
    "draw_piechart(pie_chart_labels, pie_chart_values, 'Changeset Submissions by Gender (last 4 years)')"
   ]
  },
  {
   "cell_type": "code",
   "execution_count": 13,
   "metadata": {
    "collapsed": true
   },
   "outputs": [],
   "source": [
    "pie_chart_labels, pie_chart_values, pie_chart_count = query_total_piechart(INDEX, METRIC_NAME, METRIC_FIELD, [filter_date_1y,\n",
    "                                                                                             filter_changeset_submission])\n"
   ]
  },
  {
   "cell_type": "code",
   "execution_count": 14,
   "metadata": {},
   "outputs": [
    {
     "data": {
      "application/vnd.plotly.v1+json": {
       "data": [
        {
         "labels": [
          "male",
          "NotKnown",
          "female"
         ],
         "type": "pie",
         "values": [
          84124,
          33219,
          9162
         ]
        }
       ],
       "layout": {
        "title": "Changeset Submissions by Gender (last year)"
       }
      },
      "text/html": [
       "<div id=\"d2d29abb-5dba-4d01-bdb6-776931666113\" style=\"height: 525px; width: 100%;\" class=\"plotly-graph-div\"></div><script type=\"text/javascript\">require([\"plotly\"], function(Plotly) { window.PLOTLYENV=window.PLOTLYENV || {};window.PLOTLYENV.BASE_URL=\"https://plot.ly\";Plotly.newPlot(\"d2d29abb-5dba-4d01-bdb6-776931666113\", [{\"values\": [84124, 33219, 9162], \"type\": \"pie\", \"labels\": [\"male\", \"NotKnown\", \"female\"]}], {\"title\": \"Changeset Submissions by Gender (last year)\"}, {\"linkText\": \"Export to plot.ly\", \"showLink\": true})});</script>"
      ],
      "text/vnd.plotly.v1+html": [
       "<div id=\"d2d29abb-5dba-4d01-bdb6-776931666113\" style=\"height: 525px; width: 100%;\" class=\"plotly-graph-div\"></div><script type=\"text/javascript\">require([\"plotly\"], function(Plotly) { window.PLOTLYENV=window.PLOTLYENV || {};window.PLOTLYENV.BASE_URL=\"https://plot.ly\";Plotly.newPlot(\"d2d29abb-5dba-4d01-bdb6-776931666113\", [{\"values\": [84124, 33219, 9162], \"type\": \"pie\", \"labels\": [\"male\", \"NotKnown\", \"female\"]}], {\"title\": \"Changeset Submissions by Gender (last year)\"}, {\"linkText\": \"Export to plot.ly\", \"showLink\": true})});</script>"
      ]
     },
     "metadata": {},
     "output_type": "display_data"
    }
   ],
   "source": [
    "draw_piechart(pie_chart_labels, pie_chart_values, 'Changeset Submissions by Gender (last year)')"
   ]
  },
  {
   "cell_type": "markdown",
   "metadata": {},
   "source": [
    "## Population of people submitting changesets\n",
    "### Evolution of submitters over time by gender\n",
    "  * Count people submitting (id, uuid)"
   ]
  },
  {
   "cell_type": "code",
   "execution_count": 15,
   "metadata": {},
   "outputs": [
    {
     "data": {
      "application/vnd.plotly.v1+json": {
       "data": [
        {
         "name": "female",
         "type": "scatter",
         "x": [
          "2013-10-01T00:00:00.000Z",
          "2014-01-01T00:00:00.000Z",
          "2014-04-01T00:00:00.000Z",
          "2014-07-01T00:00:00.000Z",
          "2014-10-01T00:00:00.000Z",
          "2015-01-01T00:00:00.000Z",
          "2015-04-01T00:00:00.000Z",
          "2015-07-01T00:00:00.000Z",
          "2015-10-01T00:00:00.000Z",
          "2016-01-01T00:00:00.000Z",
          "2016-04-01T00:00:00.000Z",
          "2016-07-01T00:00:00.000Z",
          "2016-10-01T00:00:00.000Z",
          "2017-01-01T00:00:00.000Z",
          "2017-04-01T00:00:00.000Z",
          "2017-07-01T00:00:00.000Z"
         ],
         "y": [
          117,
          155,
          171,
          201,
          175,
          245,
          229,
          285,
          285,
          336,
          307,
          288,
          252,
          237,
          201,
          177
         ]
        },
        {
         "name": "male",
         "type": "scatter",
         "x": [
          "2013-10-01T00:00:00.000Z",
          "2014-01-01T00:00:00.000Z",
          "2014-04-01T00:00:00.000Z",
          "2014-07-01T00:00:00.000Z",
          "2014-10-01T00:00:00.000Z",
          "2015-01-01T00:00:00.000Z",
          "2015-04-01T00:00:00.000Z",
          "2015-07-01T00:00:00.000Z",
          "2015-10-01T00:00:00.000Z",
          "2016-01-01T00:00:00.000Z",
          "2016-04-01T00:00:00.000Z",
          "2016-07-01T00:00:00.000Z",
          "2016-10-01T00:00:00.000Z",
          "2017-01-01T00:00:00.000Z",
          "2017-04-01T00:00:00.000Z",
          "2017-07-01T00:00:00.000Z"
         ],
         "y": [
          809,
          1028,
          1123,
          1254,
          1213,
          1406,
          1481,
          1644,
          1583,
          1746,
          1747,
          1796,
          1513,
          1433,
          1164,
          1013
         ]
        },
        {
         "name": "unknown",
         "type": "scatter",
         "x": [
          "2013-10-01T00:00:00.000Z",
          "2014-01-01T00:00:00.000Z",
          "2014-04-01T00:00:00.000Z",
          "2014-07-01T00:00:00.000Z",
          "2014-10-01T00:00:00.000Z",
          "2015-01-01T00:00:00.000Z",
          "2015-04-01T00:00:00.000Z",
          "2015-07-01T00:00:00.000Z",
          "2015-10-01T00:00:00.000Z",
          "2016-01-01T00:00:00.000Z",
          "2016-04-01T00:00:00.000Z",
          "2016-07-01T00:00:00.000Z",
          "2016-10-01T00:00:00.000Z",
          "2017-01-01T00:00:00.000Z",
          "2017-04-01T00:00:00.000Z",
          "2017-07-01T00:00:00.000Z"
         ],
         "y": [
          162,
          181,
          211,
          215,
          210,
          255,
          259,
          347,
          348,
          427,
          428,
          457,
          447,
          473,
          379,
          355
         ]
        }
       ],
       "layout": {}
      },
      "text/html": [
       "<div id=\"d048faef-0673-473f-92ad-e7694495ca0b\" style=\"height: 525px; width: 100%;\" class=\"plotly-graph-div\"></div><script type=\"text/javascript\">require([\"plotly\"], function(Plotly) { window.PLOTLYENV=window.PLOTLYENV || {};window.PLOTLYENV.BASE_URL=\"https://plot.ly\";Plotly.newPlot(\"d048faef-0673-473f-92ad-e7694495ca0b\", [{\"y\": [117, 155, 171, 201, 175, 245, 229, 285, 285, 336, 307, 288, 252, 237, 201, 177], \"type\": \"scatter\", \"x\": [\"2013-10-01T00:00:00.000Z\", \"2014-01-01T00:00:00.000Z\", \"2014-04-01T00:00:00.000Z\", \"2014-07-01T00:00:00.000Z\", \"2014-10-01T00:00:00.000Z\", \"2015-01-01T00:00:00.000Z\", \"2015-04-01T00:00:00.000Z\", \"2015-07-01T00:00:00.000Z\", \"2015-10-01T00:00:00.000Z\", \"2016-01-01T00:00:00.000Z\", \"2016-04-01T00:00:00.000Z\", \"2016-07-01T00:00:00.000Z\", \"2016-10-01T00:00:00.000Z\", \"2017-01-01T00:00:00.000Z\", \"2017-04-01T00:00:00.000Z\", \"2017-07-01T00:00:00.000Z\"], \"name\": \"female\"}, {\"y\": [809, 1028, 1123, 1254, 1213, 1406, 1481, 1644, 1583, 1746, 1747, 1796, 1513, 1433, 1164, 1013], \"type\": \"scatter\", \"x\": [\"2013-10-01T00:00:00.000Z\", \"2014-01-01T00:00:00.000Z\", \"2014-04-01T00:00:00.000Z\", \"2014-07-01T00:00:00.000Z\", \"2014-10-01T00:00:00.000Z\", \"2015-01-01T00:00:00.000Z\", \"2015-04-01T00:00:00.000Z\", \"2015-07-01T00:00:00.000Z\", \"2015-10-01T00:00:00.000Z\", \"2016-01-01T00:00:00.000Z\", \"2016-04-01T00:00:00.000Z\", \"2016-07-01T00:00:00.000Z\", \"2016-10-01T00:00:00.000Z\", \"2017-01-01T00:00:00.000Z\", \"2017-04-01T00:00:00.000Z\", \"2017-07-01T00:00:00.000Z\"], \"name\": \"male\"}, {\"y\": [162, 181, 211, 215, 210, 255, 259, 347, 348, 427, 428, 457, 447, 473, 379, 355], \"type\": \"scatter\", \"x\": [\"2013-10-01T00:00:00.000Z\", \"2014-01-01T00:00:00.000Z\", \"2014-04-01T00:00:00.000Z\", \"2014-07-01T00:00:00.000Z\", \"2014-10-01T00:00:00.000Z\", \"2015-01-01T00:00:00.000Z\", \"2015-04-01T00:00:00.000Z\", \"2015-07-01T00:00:00.000Z\", \"2015-10-01T00:00:00.000Z\", \"2016-01-01T00:00:00.000Z\", \"2016-04-01T00:00:00.000Z\", \"2016-07-01T00:00:00.000Z\", \"2016-10-01T00:00:00.000Z\", \"2017-01-01T00:00:00.000Z\", \"2017-04-01T00:00:00.000Z\", \"2017-07-01T00:00:00.000Z\"], \"name\": \"unknown\"}], {}, {\"linkText\": \"Export to plot.ly\", \"showLink\": true})});</script>"
      ],
      "text/vnd.plotly.v1+html": [
       "<div id=\"d048faef-0673-473f-92ad-e7694495ca0b\" style=\"height: 525px; width: 100%;\" class=\"plotly-graph-div\"></div><script type=\"text/javascript\">require([\"plotly\"], function(Plotly) { window.PLOTLYENV=window.PLOTLYENV || {};window.PLOTLYENV.BASE_URL=\"https://plot.ly\";Plotly.newPlot(\"d048faef-0673-473f-92ad-e7694495ca0b\", [{\"y\": [117, 155, 171, 201, 175, 245, 229, 285, 285, 336, 307, 288, 252, 237, 201, 177], \"type\": \"scatter\", \"x\": [\"2013-10-01T00:00:00.000Z\", \"2014-01-01T00:00:00.000Z\", \"2014-04-01T00:00:00.000Z\", \"2014-07-01T00:00:00.000Z\", \"2014-10-01T00:00:00.000Z\", \"2015-01-01T00:00:00.000Z\", \"2015-04-01T00:00:00.000Z\", \"2015-07-01T00:00:00.000Z\", \"2015-10-01T00:00:00.000Z\", \"2016-01-01T00:00:00.000Z\", \"2016-04-01T00:00:00.000Z\", \"2016-07-01T00:00:00.000Z\", \"2016-10-01T00:00:00.000Z\", \"2017-01-01T00:00:00.000Z\", \"2017-04-01T00:00:00.000Z\", \"2017-07-01T00:00:00.000Z\"], \"name\": \"female\"}, {\"y\": [809, 1028, 1123, 1254, 1213, 1406, 1481, 1644, 1583, 1746, 1747, 1796, 1513, 1433, 1164, 1013], \"type\": \"scatter\", \"x\": [\"2013-10-01T00:00:00.000Z\", \"2014-01-01T00:00:00.000Z\", \"2014-04-01T00:00:00.000Z\", \"2014-07-01T00:00:00.000Z\", \"2014-10-01T00:00:00.000Z\", \"2015-01-01T00:00:00.000Z\", \"2015-04-01T00:00:00.000Z\", \"2015-07-01T00:00:00.000Z\", \"2015-10-01T00:00:00.000Z\", \"2016-01-01T00:00:00.000Z\", \"2016-04-01T00:00:00.000Z\", \"2016-07-01T00:00:00.000Z\", \"2016-10-01T00:00:00.000Z\", \"2017-01-01T00:00:00.000Z\", \"2017-04-01T00:00:00.000Z\", \"2017-07-01T00:00:00.000Z\"], \"name\": \"male\"}, {\"y\": [162, 181, 211, 215, 210, 255, 259, 347, 348, 427, 428, 457, 447, 473, 379, 355], \"type\": \"scatter\", \"x\": [\"2013-10-01T00:00:00.000Z\", \"2014-01-01T00:00:00.000Z\", \"2014-04-01T00:00:00.000Z\", \"2014-07-01T00:00:00.000Z\", \"2014-10-01T00:00:00.000Z\", \"2015-01-01T00:00:00.000Z\", \"2015-04-01T00:00:00.000Z\", \"2015-07-01T00:00:00.000Z\", \"2015-10-01T00:00:00.000Z\", \"2016-01-01T00:00:00.000Z\", \"2016-04-01T00:00:00.000Z\", \"2016-07-01T00:00:00.000Z\", \"2016-10-01T00:00:00.000Z\", \"2017-01-01T00:00:00.000Z\", \"2017-04-01T00:00:00.000Z\", \"2017-07-01T00:00:00.000Z\"], \"name\": \"unknown\"}], {}, {\"linkText\": \"Export to plot.ly\", \"showLink\": true})});</script>"
      ]
     },
     "metadata": {},
     "output_type": "display_data"
    }
   ],
   "source": [
    "METRIC_NAME = \"submitters\"\n",
    "METRIC_FIELD = \"owner\"\n",
    "df = query_metric_over_time(INDEX, METRIC_NAME, METRIC_FIELD, [filter_date_4y, filter_changeset_submission])\n",
    "draw_evolutionary_chart(\"key_as_string\", METRIC_NAME)"
   ]
  },
  {
   "cell_type": "markdown",
   "metadata": {},
   "source": [
    "### Aggregated number of submitters\n"
   ]
  },
  {
   "cell_type": "code",
   "execution_count": 16,
   "metadata": {},
   "outputs": [
    {
     "data": {
      "application/vnd.plotly.v1+json": {
       "data": [
        {
         "labels": [
          "male",
          "NotKnown",
          "female",
          "Unknown"
         ],
         "type": "pie",
         "values": [
          5816,
          1770,
          1096,
          1
         ]
        }
       ],
       "layout": {
        "title": "Changeset Submitters by Gender (last 4 years)"
       }
      },
      "text/html": [
       "<div id=\"12b01494-8f9e-4f10-a2e8-26c7c2e7c84a\" style=\"height: 525px; width: 100%;\" class=\"plotly-graph-div\"></div><script type=\"text/javascript\">require([\"plotly\"], function(Plotly) { window.PLOTLYENV=window.PLOTLYENV || {};window.PLOTLYENV.BASE_URL=\"https://plot.ly\";Plotly.newPlot(\"12b01494-8f9e-4f10-a2e8-26c7c2e7c84a\", [{\"values\": [5816, 1770, 1096, 1], \"type\": \"pie\", \"labels\": [\"male\", \"NotKnown\", \"female\", \"Unknown\"]}], {\"title\": \"Changeset Submitters by Gender (last 4 years)\"}, {\"linkText\": \"Export to plot.ly\", \"showLink\": true})});</script>"
      ],
      "text/vnd.plotly.v1+html": [
       "<div id=\"12b01494-8f9e-4f10-a2e8-26c7c2e7c84a\" style=\"height: 525px; width: 100%;\" class=\"plotly-graph-div\"></div><script type=\"text/javascript\">require([\"plotly\"], function(Plotly) { window.PLOTLYENV=window.PLOTLYENV || {};window.PLOTLYENV.BASE_URL=\"https://plot.ly\";Plotly.newPlot(\"12b01494-8f9e-4f10-a2e8-26c7c2e7c84a\", [{\"values\": [5816, 1770, 1096, 1], \"type\": \"pie\", \"labels\": [\"male\", \"NotKnown\", \"female\", \"Unknown\"]}], {\"title\": \"Changeset Submitters by Gender (last 4 years)\"}, {\"linkText\": \"Export to plot.ly\", \"showLink\": true})});</script>"
      ]
     },
     "metadata": {},
     "output_type": "display_data"
    }
   ],
   "source": [
    "pie_chart_labels, pie_chart_values, pie_chart_count = query_total_piechart(INDEX, METRIC_NAME, METRIC_FIELD, [filter_date_4y,\n",
    "                                                                                             filter_changeset_submission])\n",
    "draw_piechart(pie_chart_labels, pie_chart_values, 'Changeset Submitters by Gender (last 4 years)')"
   ]
  },
  {
   "cell_type": "code",
   "execution_count": 17,
   "metadata": {},
   "outputs": [
    {
     "data": {
      "application/vnd.plotly.v1+json": {
       "data": [
        {
         "labels": [
          "male",
          "NotKnown",
          "female"
         ],
         "type": "pie",
         "values": [
          2439,
          874,
          439
         ]
        }
       ],
       "layout": {
        "title": "Changeset Submitters by Gender (last year)"
       }
      },
      "text/html": [
       "<div id=\"d87bbdfb-74d0-4932-9e4b-cf931b6caccb\" style=\"height: 525px; width: 100%;\" class=\"plotly-graph-div\"></div><script type=\"text/javascript\">require([\"plotly\"], function(Plotly) { window.PLOTLYENV=window.PLOTLYENV || {};window.PLOTLYENV.BASE_URL=\"https://plot.ly\";Plotly.newPlot(\"d87bbdfb-74d0-4932-9e4b-cf931b6caccb\", [{\"values\": [2439, 874, 439], \"type\": \"pie\", \"labels\": [\"male\", \"NotKnown\", \"female\"]}], {\"title\": \"Changeset Submitters by Gender (last year)\"}, {\"linkText\": \"Export to plot.ly\", \"showLink\": true})});</script>"
      ],
      "text/vnd.plotly.v1+html": [
       "<div id=\"d87bbdfb-74d0-4932-9e4b-cf931b6caccb\" style=\"height: 525px; width: 100%;\" class=\"plotly-graph-div\"></div><script type=\"text/javascript\">require([\"plotly\"], function(Plotly) { window.PLOTLYENV=window.PLOTLYENV || {};window.PLOTLYENV.BASE_URL=\"https://plot.ly\";Plotly.newPlot(\"d87bbdfb-74d0-4932-9e4b-cf931b6caccb\", [{\"values\": [2439, 874, 439], \"type\": \"pie\", \"labels\": [\"male\", \"NotKnown\", \"female\"]}], {\"title\": \"Changeset Submitters by Gender (last year)\"}, {\"linkText\": \"Export to plot.ly\", \"showLink\": true})});</script>"
      ]
     },
     "metadata": {},
     "output_type": "display_data"
    }
   ],
   "source": [
    "pie_chart_labels, pie_chart_values, pie_chart_count = query_total_piechart(INDEX, METRIC_NAME, METRIC_FIELD,  [filter_date_1y,\n",
    "                                                                                              filter_changeset_submission])\n",
    "draw_piechart(pie_chart_labels, pie_chart_values, 'Changeset Submitters by Gender (last year)')"
   ]
  },
  {
   "cell_type": "markdown",
   "metadata": {},
   "source": [
    "* Evolution of code reviews developers over time by gender\n",
    "  * Count people voting (name, uuid, vote)\n"
   ]
  },
  {
   "cell_type": "markdown",
   "metadata": {},
   "source": [
    "## Number of votes by gender"
   ]
  },
  {
   "cell_type": "code",
   "execution_count": 18,
   "metadata": {},
   "outputs": [
    {
     "data": {
      "application/vnd.plotly.v1+json": {
       "data": [
        {
         "name": "female",
         "type": "scatter",
         "x": [
          "2013-10-01T00:00:00.000Z",
          "2014-01-01T00:00:00.000Z",
          "2014-04-01T00:00:00.000Z",
          "2014-07-01T00:00:00.000Z",
          "2014-10-01T00:00:00.000Z",
          "2015-01-01T00:00:00.000Z",
          "2015-04-01T00:00:00.000Z",
          "2015-07-01T00:00:00.000Z",
          "2015-10-01T00:00:00.000Z",
          "2016-01-01T00:00:00.000Z",
          "2016-04-01T00:00:00.000Z",
          "2016-07-01T00:00:00.000Z",
          "2016-10-01T00:00:00.000Z",
          "2017-01-01T00:00:00.000Z",
          "2017-04-01T00:00:00.000Z",
          "2017-07-01T00:00:00.000Z"
         ],
         "y": [
          3993,
          6029,
          6798,
          9837,
          8810,
          11292,
          10821,
          14484,
          13695,
          13220,
          11245,
          12806,
          9484,
          10173,
          6663,
          8164
         ]
        },
        {
         "name": "male",
         "type": "scatter",
         "x": [
          "2013-10-01T00:00:00.000Z",
          "2014-01-01T00:00:00.000Z",
          "2014-04-01T00:00:00.000Z",
          "2014-07-01T00:00:00.000Z",
          "2014-10-01T00:00:00.000Z",
          "2015-01-01T00:00:00.000Z",
          "2015-04-01T00:00:00.000Z",
          "2015-07-01T00:00:00.000Z",
          "2015-10-01T00:00:00.000Z",
          "2016-01-01T00:00:00.000Z",
          "2016-04-01T00:00:00.000Z",
          "2016-07-01T00:00:00.000Z",
          "2016-10-01T00:00:00.000Z",
          "2017-01-01T00:00:00.000Z",
          "2017-04-01T00:00:00.000Z",
          "2017-07-01T00:00:00.000Z"
         ],
         "y": [
          45817,
          69696,
          72277,
          83858,
          71491,
          96130,
          92454,
          114682,
          109055,
          123967,
          106577,
          117384,
          84418,
          85835,
          66150,
          70959
         ]
        },
        {
         "name": "unknown",
         "type": "scatter",
         "x": [
          "2013-10-01T00:00:00.000Z",
          "2014-01-01T00:00:00.000Z",
          "2014-04-01T00:00:00.000Z",
          "2014-07-01T00:00:00.000Z",
          "2014-10-01T00:00:00.000Z",
          "2015-01-01T00:00:00.000Z",
          "2015-04-01T00:00:00.000Z",
          "2015-07-01T00:00:00.000Z",
          "2015-10-01T00:00:00.000Z",
          "2016-01-01T00:00:00.000Z",
          "2016-04-01T00:00:00.000Z",
          "2016-07-01T00:00:00.000Z",
          "2016-10-01T00:00:00.000Z",
          "2017-01-01T00:00:00.000Z",
          "2017-04-01T00:00:00.000Z",
          "2017-07-01T00:00:00.000Z"
         ],
         "y": [
          9184,
          11650,
          10536,
          12139,
          9933,
          14620,
          15372,
          22062,
          23965,
          21420,
          18726,
          20870,
          17673,
          17993,
          12932,
          15915
         ]
        }
       ],
       "layout": {}
      },
      "text/html": [
       "<div id=\"906c376f-b132-4ad4-8b14-63f3a5252313\" style=\"height: 525px; width: 100%;\" class=\"plotly-graph-div\"></div><script type=\"text/javascript\">require([\"plotly\"], function(Plotly) { window.PLOTLYENV=window.PLOTLYENV || {};window.PLOTLYENV.BASE_URL=\"https://plot.ly\";Plotly.newPlot(\"906c376f-b132-4ad4-8b14-63f3a5252313\", [{\"y\": [3993, 6029, 6798, 9837, 8810, 11292, 10821, 14484, 13695, 13220, 11245, 12806, 9484, 10173, 6663, 8164], \"type\": \"scatter\", \"x\": [\"2013-10-01T00:00:00.000Z\", \"2014-01-01T00:00:00.000Z\", \"2014-04-01T00:00:00.000Z\", \"2014-07-01T00:00:00.000Z\", \"2014-10-01T00:00:00.000Z\", \"2015-01-01T00:00:00.000Z\", \"2015-04-01T00:00:00.000Z\", \"2015-07-01T00:00:00.000Z\", \"2015-10-01T00:00:00.000Z\", \"2016-01-01T00:00:00.000Z\", \"2016-04-01T00:00:00.000Z\", \"2016-07-01T00:00:00.000Z\", \"2016-10-01T00:00:00.000Z\", \"2017-01-01T00:00:00.000Z\", \"2017-04-01T00:00:00.000Z\", \"2017-07-01T00:00:00.000Z\"], \"name\": \"female\"}, {\"y\": [45817, 69696, 72277, 83858, 71491, 96130, 92454, 114682, 109055, 123967, 106577, 117384, 84418, 85835, 66150, 70959], \"type\": \"scatter\", \"x\": [\"2013-10-01T00:00:00.000Z\", \"2014-01-01T00:00:00.000Z\", \"2014-04-01T00:00:00.000Z\", \"2014-07-01T00:00:00.000Z\", \"2014-10-01T00:00:00.000Z\", \"2015-01-01T00:00:00.000Z\", \"2015-04-01T00:00:00.000Z\", \"2015-07-01T00:00:00.000Z\", \"2015-10-01T00:00:00.000Z\", \"2016-01-01T00:00:00.000Z\", \"2016-04-01T00:00:00.000Z\", \"2016-07-01T00:00:00.000Z\", \"2016-10-01T00:00:00.000Z\", \"2017-01-01T00:00:00.000Z\", \"2017-04-01T00:00:00.000Z\", \"2017-07-01T00:00:00.000Z\"], \"name\": \"male\"}, {\"y\": [9184, 11650, 10536, 12139, 9933, 14620, 15372, 22062, 23965, 21420, 18726, 20870, 17673, 17993, 12932, 15915], \"type\": \"scatter\", \"x\": [\"2013-10-01T00:00:00.000Z\", \"2014-01-01T00:00:00.000Z\", \"2014-04-01T00:00:00.000Z\", \"2014-07-01T00:00:00.000Z\", \"2014-10-01T00:00:00.000Z\", \"2015-01-01T00:00:00.000Z\", \"2015-04-01T00:00:00.000Z\", \"2015-07-01T00:00:00.000Z\", \"2015-10-01T00:00:00.000Z\", \"2016-01-01T00:00:00.000Z\", \"2016-04-01T00:00:00.000Z\", \"2016-07-01T00:00:00.000Z\", \"2016-10-01T00:00:00.000Z\", \"2017-01-01T00:00:00.000Z\", \"2017-04-01T00:00:00.000Z\", \"2017-07-01T00:00:00.000Z\"], \"name\": \"unknown\"}], {}, {\"linkText\": \"Export to plot.ly\", \"showLink\": true})});</script>"
      ],
      "text/vnd.plotly.v1+html": [
       "<div id=\"906c376f-b132-4ad4-8b14-63f3a5252313\" style=\"height: 525px; width: 100%;\" class=\"plotly-graph-div\"></div><script type=\"text/javascript\">require([\"plotly\"], function(Plotly) { window.PLOTLYENV=window.PLOTLYENV || {};window.PLOTLYENV.BASE_URL=\"https://plot.ly\";Plotly.newPlot(\"906c376f-b132-4ad4-8b14-63f3a5252313\", [{\"y\": [3993, 6029, 6798, 9837, 8810, 11292, 10821, 14484, 13695, 13220, 11245, 12806, 9484, 10173, 6663, 8164], \"type\": \"scatter\", \"x\": [\"2013-10-01T00:00:00.000Z\", \"2014-01-01T00:00:00.000Z\", \"2014-04-01T00:00:00.000Z\", \"2014-07-01T00:00:00.000Z\", \"2014-10-01T00:00:00.000Z\", \"2015-01-01T00:00:00.000Z\", \"2015-04-01T00:00:00.000Z\", \"2015-07-01T00:00:00.000Z\", \"2015-10-01T00:00:00.000Z\", \"2016-01-01T00:00:00.000Z\", \"2016-04-01T00:00:00.000Z\", \"2016-07-01T00:00:00.000Z\", \"2016-10-01T00:00:00.000Z\", \"2017-01-01T00:00:00.000Z\", \"2017-04-01T00:00:00.000Z\", \"2017-07-01T00:00:00.000Z\"], \"name\": \"female\"}, {\"y\": [45817, 69696, 72277, 83858, 71491, 96130, 92454, 114682, 109055, 123967, 106577, 117384, 84418, 85835, 66150, 70959], \"type\": \"scatter\", \"x\": [\"2013-10-01T00:00:00.000Z\", \"2014-01-01T00:00:00.000Z\", \"2014-04-01T00:00:00.000Z\", \"2014-07-01T00:00:00.000Z\", \"2014-10-01T00:00:00.000Z\", \"2015-01-01T00:00:00.000Z\", \"2015-04-01T00:00:00.000Z\", \"2015-07-01T00:00:00.000Z\", \"2015-10-01T00:00:00.000Z\", \"2016-01-01T00:00:00.000Z\", \"2016-04-01T00:00:00.000Z\", \"2016-07-01T00:00:00.000Z\", \"2016-10-01T00:00:00.000Z\", \"2017-01-01T00:00:00.000Z\", \"2017-04-01T00:00:00.000Z\", \"2017-07-01T00:00:00.000Z\"], \"name\": \"male\"}, {\"y\": [9184, 11650, 10536, 12139, 9933, 14620, 15372, 22062, 23965, 21420, 18726, 20870, 17673, 17993, 12932, 15915], \"type\": \"scatter\", \"x\": [\"2013-10-01T00:00:00.000Z\", \"2014-01-01T00:00:00.000Z\", \"2014-04-01T00:00:00.000Z\", \"2014-07-01T00:00:00.000Z\", \"2014-10-01T00:00:00.000Z\", \"2015-01-01T00:00:00.000Z\", \"2015-04-01T00:00:00.000Z\", \"2015-07-01T00:00:00.000Z\", \"2015-10-01T00:00:00.000Z\", \"2016-01-01T00:00:00.000Z\", \"2016-04-01T00:00:00.000Z\", \"2016-07-01T00:00:00.000Z\", \"2016-10-01T00:00:00.000Z\", \"2017-01-01T00:00:00.000Z\", \"2017-04-01T00:00:00.000Z\", \"2017-07-01T00:00:00.000Z\"], \"name\": \"unknown\"}], {}, {\"linkText\": \"Export to plot.ly\", \"showLink\": true})});</script>"
      ]
     },
     "metadata": {},
     "output_type": "display_data"
    }
   ],
   "source": [
    "METRIC_NAME = \"reviewer\"\n",
    "METRIC_FIELD = \"owner\"\n",
    "filter_vote = Q('term', eventtype='CHANGESET_PATCHSET_APPROVAL_Code-Review') # filter by event: vote a code review\n",
    "\n",
    "df = query_metric_over_time(INDEX, METRIC_NAME, METRIC_FIELD, [filter_date_4y, filter_vote])\n",
    "draw_evolutionary_chart(\"key_as_string\", \"doc_count\")"
   ]
  },
  {
   "cell_type": "code",
   "execution_count": 19,
   "metadata": {},
   "outputs": [
    {
     "data": {
      "application/vnd.plotly.v1+json": {
       "data": [
        {
         "labels": [
          "male",
          "NotKnown",
          "female"
         ],
         "type": "pie",
         "values": [
          1410750,
          254990,
          157514
         ]
        }
       ],
       "layout": {
        "title": "Changeset votes by Gender (last 4 years)"
       }
      },
      "text/html": [
       "<div id=\"6a75499a-38ba-4bf6-93f6-278a8c492f81\" style=\"height: 525px; width: 100%;\" class=\"plotly-graph-div\"></div><script type=\"text/javascript\">require([\"plotly\"], function(Plotly) { window.PLOTLYENV=window.PLOTLYENV || {};window.PLOTLYENV.BASE_URL=\"https://plot.ly\";Plotly.newPlot(\"6a75499a-38ba-4bf6-93f6-278a8c492f81\", [{\"values\": [1410750, 254990, 157514], \"type\": \"pie\", \"labels\": [\"male\", \"NotKnown\", \"female\"]}], {\"title\": \"Changeset votes by Gender (last 4 years)\"}, {\"linkText\": \"Export to plot.ly\", \"showLink\": true})});</script>"
      ],
      "text/vnd.plotly.v1+html": [
       "<div id=\"6a75499a-38ba-4bf6-93f6-278a8c492f81\" style=\"height: 525px; width: 100%;\" class=\"plotly-graph-div\"></div><script type=\"text/javascript\">require([\"plotly\"], function(Plotly) { window.PLOTLYENV=window.PLOTLYENV || {};window.PLOTLYENV.BASE_URL=\"https://plot.ly\";Plotly.newPlot(\"6a75499a-38ba-4bf6-93f6-278a8c492f81\", [{\"values\": [1410750, 254990, 157514], \"type\": \"pie\", \"labels\": [\"male\", \"NotKnown\", \"female\"]}], {\"title\": \"Changeset votes by Gender (last 4 years)\"}, {\"linkText\": \"Export to plot.ly\", \"showLink\": true})});</script>"
      ]
     },
     "metadata": {},
     "output_type": "display_data"
    }
   ],
   "source": [
    "pie_chart_labels, pie_chart_values, pie_chart_count = query_total_piechart(INDEX, METRIC_NAME, METRIC_FIELD,  [filter_date_4y,\n",
    "                                                                                              filter_vote])\n",
    "draw_piechart(pie_chart_labels, pie_chart_count, 'Changeset votes by Gender (last 4 years)')"
   ]
  },
  {
   "cell_type": "code",
   "execution_count": 20,
   "metadata": {},
   "outputs": [
    {
     "data": {
      "application/vnd.plotly.v1+json": {
       "data": [
        {
         "labels": [
          "male",
          "NotKnown",
          "female"
         ],
         "type": "pie",
         "values": [
          307362,
          64513,
          34484
         ]
        }
       ],
       "layout": {
        "title": "Changeset votes by Gender (last year)"
       }
      },
      "text/html": [
       "<div id=\"1c7f7be3-19a1-4d18-aab4-aa72015cc4ea\" style=\"height: 525px; width: 100%;\" class=\"plotly-graph-div\"></div><script type=\"text/javascript\">require([\"plotly\"], function(Plotly) { window.PLOTLYENV=window.PLOTLYENV || {};window.PLOTLYENV.BASE_URL=\"https://plot.ly\";Plotly.newPlot(\"1c7f7be3-19a1-4d18-aab4-aa72015cc4ea\", [{\"values\": [307362, 64513, 34484], \"type\": \"pie\", \"labels\": [\"male\", \"NotKnown\", \"female\"]}], {\"title\": \"Changeset votes by Gender (last year)\"}, {\"linkText\": \"Export to plot.ly\", \"showLink\": true})});</script>"
      ],
      "text/vnd.plotly.v1+html": [
       "<div id=\"1c7f7be3-19a1-4d18-aab4-aa72015cc4ea\" style=\"height: 525px; width: 100%;\" class=\"plotly-graph-div\"></div><script type=\"text/javascript\">require([\"plotly\"], function(Plotly) { window.PLOTLYENV=window.PLOTLYENV || {};window.PLOTLYENV.BASE_URL=\"https://plot.ly\";Plotly.newPlot(\"1c7f7be3-19a1-4d18-aab4-aa72015cc4ea\", [{\"values\": [307362, 64513, 34484], \"type\": \"pie\", \"labels\": [\"male\", \"NotKnown\", \"female\"]}], {\"title\": \"Changeset votes by Gender (last year)\"}, {\"linkText\": \"Export to plot.ly\", \"showLink\": true})});</script>"
      ]
     },
     "metadata": {},
     "output_type": "display_data"
    }
   ],
   "source": [
    "pie_chart_labels, pie_chart_values, pie_chart_count = query_total_piechart(INDEX, METRIC_NAME, METRIC_FIELD,  [filter_date_1y,\n",
    "                                                                                              filter_vote])\n",
    "draw_piechart(pie_chart_labels, pie_chart_count, 'Changeset votes by Gender (last year)')"
   ]
  },
  {
   "cell_type": "markdown",
   "metadata": {},
   "source": [
    "## Number of people voting"
   ]
  },
  {
   "cell_type": "code",
   "execution_count": 21,
   "metadata": {},
   "outputs": [
    {
     "data": {
      "application/vnd.plotly.v1+json": {
       "data": [
        {
         "name": "female",
         "type": "scatter",
         "x": [
          "2013-10-01T00:00:00.000Z",
          "2014-01-01T00:00:00.000Z",
          "2014-04-01T00:00:00.000Z",
          "2014-07-01T00:00:00.000Z",
          "2014-10-01T00:00:00.000Z",
          "2015-01-01T00:00:00.000Z",
          "2015-04-01T00:00:00.000Z",
          "2015-07-01T00:00:00.000Z",
          "2015-10-01T00:00:00.000Z",
          "2016-01-01T00:00:00.000Z",
          "2016-04-01T00:00:00.000Z",
          "2016-07-01T00:00:00.000Z",
          "2016-10-01T00:00:00.000Z",
          "2017-01-01T00:00:00.000Z",
          "2017-04-01T00:00:00.000Z",
          "2017-07-01T00:00:00.000Z"
         ],
         "y": [
          94,
          118,
          139,
          160,
          158,
          198,
          223,
          247,
          252,
          278,
          263,
          286,
          230,
          224,
          189,
          152
         ]
        },
        {
         "name": "male",
         "type": "scatter",
         "x": [
          "2013-10-01T00:00:00.000Z",
          "2014-01-01T00:00:00.000Z",
          "2014-04-01T00:00:00.000Z",
          "2014-07-01T00:00:00.000Z",
          "2014-10-01T00:00:00.000Z",
          "2015-01-01T00:00:00.000Z",
          "2015-04-01T00:00:00.000Z",
          "2015-07-01T00:00:00.000Z",
          "2015-10-01T00:00:00.000Z",
          "2016-01-01T00:00:00.000Z",
          "2016-04-01T00:00:00.000Z",
          "2016-07-01T00:00:00.000Z",
          "2016-10-01T00:00:00.000Z",
          "2017-01-01T00:00:00.000Z",
          "2017-04-01T00:00:00.000Z",
          "2017-07-01T00:00:00.000Z"
         ],
         "y": [
          737,
          946,
          1041,
          1189,
          1217,
          1354,
          1405,
          1533,
          1572,
          1668,
          1631,
          1649,
          1518,
          1383,
          1177,
          1001
         ]
        },
        {
         "name": "unknown",
         "type": "scatter",
         "x": [
          "2013-10-01T00:00:00.000Z",
          "2014-01-01T00:00:00.000Z",
          "2014-04-01T00:00:00.000Z",
          "2014-07-01T00:00:00.000Z",
          "2014-10-01T00:00:00.000Z",
          "2015-01-01T00:00:00.000Z",
          "2015-04-01T00:00:00.000Z",
          "2015-07-01T00:00:00.000Z",
          "2015-10-01T00:00:00.000Z",
          "2016-01-01T00:00:00.000Z",
          "2016-04-01T00:00:00.000Z",
          "2016-07-01T00:00:00.000Z",
          "2016-10-01T00:00:00.000Z",
          "2017-01-01T00:00:00.000Z",
          "2017-04-01T00:00:00.000Z",
          "2017-07-01T00:00:00.000Z"
         ],
         "y": [
          132,
          173,
          177,
          173,
          198,
          222,
          242,
          327,
          315,
          358,
          391,
          420,
          427,
          399,
          341,
          301
         ]
        }
       ],
       "layout": {}
      },
      "text/html": [
       "<div id=\"1ce76ce9-3dab-4f56-818d-ad66ad308c53\" style=\"height: 525px; width: 100%;\" class=\"plotly-graph-div\"></div><script type=\"text/javascript\">require([\"plotly\"], function(Plotly) { window.PLOTLYENV=window.PLOTLYENV || {};window.PLOTLYENV.BASE_URL=\"https://plot.ly\";Plotly.newPlot(\"1ce76ce9-3dab-4f56-818d-ad66ad308c53\", [{\"y\": [94, 118, 139, 160, 158, 198, 223, 247, 252, 278, 263, 286, 230, 224, 189, 152], \"type\": \"scatter\", \"x\": [\"2013-10-01T00:00:00.000Z\", \"2014-01-01T00:00:00.000Z\", \"2014-04-01T00:00:00.000Z\", \"2014-07-01T00:00:00.000Z\", \"2014-10-01T00:00:00.000Z\", \"2015-01-01T00:00:00.000Z\", \"2015-04-01T00:00:00.000Z\", \"2015-07-01T00:00:00.000Z\", \"2015-10-01T00:00:00.000Z\", \"2016-01-01T00:00:00.000Z\", \"2016-04-01T00:00:00.000Z\", \"2016-07-01T00:00:00.000Z\", \"2016-10-01T00:00:00.000Z\", \"2017-01-01T00:00:00.000Z\", \"2017-04-01T00:00:00.000Z\", \"2017-07-01T00:00:00.000Z\"], \"name\": \"female\"}, {\"y\": [737, 946, 1041, 1189, 1217, 1354, 1405, 1533, 1572, 1668, 1631, 1649, 1518, 1383, 1177, 1001], \"type\": \"scatter\", \"x\": [\"2013-10-01T00:00:00.000Z\", \"2014-01-01T00:00:00.000Z\", \"2014-04-01T00:00:00.000Z\", \"2014-07-01T00:00:00.000Z\", \"2014-10-01T00:00:00.000Z\", \"2015-01-01T00:00:00.000Z\", \"2015-04-01T00:00:00.000Z\", \"2015-07-01T00:00:00.000Z\", \"2015-10-01T00:00:00.000Z\", \"2016-01-01T00:00:00.000Z\", \"2016-04-01T00:00:00.000Z\", \"2016-07-01T00:00:00.000Z\", \"2016-10-01T00:00:00.000Z\", \"2017-01-01T00:00:00.000Z\", \"2017-04-01T00:00:00.000Z\", \"2017-07-01T00:00:00.000Z\"], \"name\": \"male\"}, {\"y\": [132, 173, 177, 173, 198, 222, 242, 327, 315, 358, 391, 420, 427, 399, 341, 301], \"type\": \"scatter\", \"x\": [\"2013-10-01T00:00:00.000Z\", \"2014-01-01T00:00:00.000Z\", \"2014-04-01T00:00:00.000Z\", \"2014-07-01T00:00:00.000Z\", \"2014-10-01T00:00:00.000Z\", \"2015-01-01T00:00:00.000Z\", \"2015-04-01T00:00:00.000Z\", \"2015-07-01T00:00:00.000Z\", \"2015-10-01T00:00:00.000Z\", \"2016-01-01T00:00:00.000Z\", \"2016-04-01T00:00:00.000Z\", \"2016-07-01T00:00:00.000Z\", \"2016-10-01T00:00:00.000Z\", \"2017-01-01T00:00:00.000Z\", \"2017-04-01T00:00:00.000Z\", \"2017-07-01T00:00:00.000Z\"], \"name\": \"unknown\"}], {}, {\"linkText\": \"Export to plot.ly\", \"showLink\": true})});</script>"
      ],
      "text/vnd.plotly.v1+html": [
       "<div id=\"1ce76ce9-3dab-4f56-818d-ad66ad308c53\" style=\"height: 525px; width: 100%;\" class=\"plotly-graph-div\"></div><script type=\"text/javascript\">require([\"plotly\"], function(Plotly) { window.PLOTLYENV=window.PLOTLYENV || {};window.PLOTLYENV.BASE_URL=\"https://plot.ly\";Plotly.newPlot(\"1ce76ce9-3dab-4f56-818d-ad66ad308c53\", [{\"y\": [94, 118, 139, 160, 158, 198, 223, 247, 252, 278, 263, 286, 230, 224, 189, 152], \"type\": \"scatter\", \"x\": [\"2013-10-01T00:00:00.000Z\", \"2014-01-01T00:00:00.000Z\", \"2014-04-01T00:00:00.000Z\", \"2014-07-01T00:00:00.000Z\", \"2014-10-01T00:00:00.000Z\", \"2015-01-01T00:00:00.000Z\", \"2015-04-01T00:00:00.000Z\", \"2015-07-01T00:00:00.000Z\", \"2015-10-01T00:00:00.000Z\", \"2016-01-01T00:00:00.000Z\", \"2016-04-01T00:00:00.000Z\", \"2016-07-01T00:00:00.000Z\", \"2016-10-01T00:00:00.000Z\", \"2017-01-01T00:00:00.000Z\", \"2017-04-01T00:00:00.000Z\", \"2017-07-01T00:00:00.000Z\"], \"name\": \"female\"}, {\"y\": [737, 946, 1041, 1189, 1217, 1354, 1405, 1533, 1572, 1668, 1631, 1649, 1518, 1383, 1177, 1001], \"type\": \"scatter\", \"x\": [\"2013-10-01T00:00:00.000Z\", \"2014-01-01T00:00:00.000Z\", \"2014-04-01T00:00:00.000Z\", \"2014-07-01T00:00:00.000Z\", \"2014-10-01T00:00:00.000Z\", \"2015-01-01T00:00:00.000Z\", \"2015-04-01T00:00:00.000Z\", \"2015-07-01T00:00:00.000Z\", \"2015-10-01T00:00:00.000Z\", \"2016-01-01T00:00:00.000Z\", \"2016-04-01T00:00:00.000Z\", \"2016-07-01T00:00:00.000Z\", \"2016-10-01T00:00:00.000Z\", \"2017-01-01T00:00:00.000Z\", \"2017-04-01T00:00:00.000Z\", \"2017-07-01T00:00:00.000Z\"], \"name\": \"male\"}, {\"y\": [132, 173, 177, 173, 198, 222, 242, 327, 315, 358, 391, 420, 427, 399, 341, 301], \"type\": \"scatter\", \"x\": [\"2013-10-01T00:00:00.000Z\", \"2014-01-01T00:00:00.000Z\", \"2014-04-01T00:00:00.000Z\", \"2014-07-01T00:00:00.000Z\", \"2014-10-01T00:00:00.000Z\", \"2015-01-01T00:00:00.000Z\", \"2015-04-01T00:00:00.000Z\", \"2015-07-01T00:00:00.000Z\", \"2015-10-01T00:00:00.000Z\", \"2016-01-01T00:00:00.000Z\", \"2016-04-01T00:00:00.000Z\", \"2016-07-01T00:00:00.000Z\", \"2016-10-01T00:00:00.000Z\", \"2017-01-01T00:00:00.000Z\", \"2017-04-01T00:00:00.000Z\", \"2017-07-01T00:00:00.000Z\"], \"name\": \"unknown\"}], {}, {\"linkText\": \"Export to plot.ly\", \"showLink\": true})});</script>"
      ]
     },
     "metadata": {},
     "output_type": "display_data"
    }
   ],
   "source": [
    "draw_evolutionary_chart(\"key_as_string\", METRIC_NAME)"
   ]
  },
  {
   "cell_type": "code",
   "execution_count": 22,
   "metadata": {},
   "outputs": [
    {
     "data": {
      "application/vnd.plotly.v1+json": {
       "data": [
        {
         "labels": [
          "male",
          "NotKnown",
          "female"
         ],
         "type": "pie",
         "values": [
          4564,
          1388,
          780
         ]
        }
       ],
       "layout": {
        "title": "People voting by Gender (last 4 years)"
       }
      },
      "text/html": [
       "<div id=\"a41d6eb3-bdac-4013-bc08-8bf8658d9333\" style=\"height: 525px; width: 100%;\" class=\"plotly-graph-div\"></div><script type=\"text/javascript\">require([\"plotly\"], function(Plotly) { window.PLOTLYENV=window.PLOTLYENV || {};window.PLOTLYENV.BASE_URL=\"https://plot.ly\";Plotly.newPlot(\"a41d6eb3-bdac-4013-bc08-8bf8658d9333\", [{\"values\": [4564, 1388, 780], \"type\": \"pie\", \"labels\": [\"male\", \"NotKnown\", \"female\"]}], {\"title\": \"People voting by Gender (last 4 years)\"}, {\"linkText\": \"Export to plot.ly\", \"showLink\": true})});</script>"
      ],
      "text/vnd.plotly.v1+html": [
       "<div id=\"a41d6eb3-bdac-4013-bc08-8bf8658d9333\" style=\"height: 525px; width: 100%;\" class=\"plotly-graph-div\"></div><script type=\"text/javascript\">require([\"plotly\"], function(Plotly) { window.PLOTLYENV=window.PLOTLYENV || {};window.PLOTLYENV.BASE_URL=\"https://plot.ly\";Plotly.newPlot(\"a41d6eb3-bdac-4013-bc08-8bf8658d9333\", [{\"values\": [4564, 1388, 780], \"type\": \"pie\", \"labels\": [\"male\", \"NotKnown\", \"female\"]}], {\"title\": \"People voting by Gender (last 4 years)\"}, {\"linkText\": \"Export to plot.ly\", \"showLink\": true})});</script>"
      ]
     },
     "metadata": {},
     "output_type": "display_data"
    }
   ],
   "source": [
    "pie_chart_labels, pie_chart_values, pie_chart_count = query_total_piechart(INDEX, METRIC_NAME, METRIC_FIELD,  [filter_date_4y,\n",
    "                                                                                              filter_vote])\n",
    "draw_piechart(pie_chart_labels, pie_chart_values, 'People voting by Gender (last 4 years)')"
   ]
  },
  {
   "cell_type": "code",
   "execution_count": 23,
   "metadata": {},
   "outputs": [
    {
     "data": {
      "application/vnd.plotly.v1+json": {
       "data": [
        {
         "labels": [
          "male",
          "NotKnown",
          "female"
         ],
         "type": "pie",
         "values": [
          2155,
          750,
          355
         ]
        }
       ],
       "layout": {
        "title": "People voting by Gender (last year)"
       }
      },
      "text/html": [
       "<div id=\"90b46b83-faa3-4d85-9bff-8d13c0397d49\" style=\"height: 525px; width: 100%;\" class=\"plotly-graph-div\"></div><script type=\"text/javascript\">require([\"plotly\"], function(Plotly) { window.PLOTLYENV=window.PLOTLYENV || {};window.PLOTLYENV.BASE_URL=\"https://plot.ly\";Plotly.newPlot(\"90b46b83-faa3-4d85-9bff-8d13c0397d49\", [{\"values\": [2155, 750, 355], \"type\": \"pie\", \"labels\": [\"male\", \"NotKnown\", \"female\"]}], {\"title\": \"People voting by Gender (last year)\"}, {\"linkText\": \"Export to plot.ly\", \"showLink\": true})});</script>"
      ],
      "text/vnd.plotly.v1+html": [
       "<div id=\"90b46b83-faa3-4d85-9bff-8d13c0397d49\" style=\"height: 525px; width: 100%;\" class=\"plotly-graph-div\"></div><script type=\"text/javascript\">require([\"plotly\"], function(Plotly) { window.PLOTLYENV=window.PLOTLYENV || {};window.PLOTLYENV.BASE_URL=\"https://plot.ly\";Plotly.newPlot(\"90b46b83-faa3-4d85-9bff-8d13c0397d49\", [{\"values\": [2155, 750, 355], \"type\": \"pie\", \"labels\": [\"male\", \"NotKnown\", \"female\"]}], {\"title\": \"People voting by Gender (last year)\"}, {\"linkText\": \"Export to plot.ly\", \"showLink\": true})});</script>"
      ]
     },
     "metadata": {},
     "output_type": "display_data"
    }
   ],
   "source": [
    "pie_chart_labels, pie_chart_values, pie_chart_count = query_total_piechart(INDEX, METRIC_NAME, METRIC_FIELD,  [filter_date_1y,\n",
    "                                                                                              filter_vote])\n",
    "draw_piechart(pie_chart_labels, pie_chart_values, 'People voting by Gender (last year)')"
   ]
  },
  {
   "cell_type": "markdown",
   "metadata": {},
   "source": [
    "## Number of core reviews (-2 OR +2) by gender"
   ]
  },
  {
   "cell_type": "code",
   "execution_count": 22,
   "metadata": {},
   "outputs": [
    {
     "data": {
      "application/vnd.plotly.v1+json": {
       "data": [
        {
         "name": "female",
         "type": "scatter",
         "x": [
          "2013-10-01T00:00:00.000Z",
          "2014-01-01T00:00:00.000Z",
          "2014-04-01T00:00:00.000Z",
          "2014-07-01T00:00:00.000Z",
          "2014-10-01T00:00:00.000Z",
          "2015-01-01T00:00:00.000Z",
          "2015-04-01T00:00:00.000Z",
          "2015-07-01T00:00:00.000Z",
          "2015-10-01T00:00:00.000Z",
          "2016-01-01T00:00:00.000Z",
          "2016-04-01T00:00:00.000Z",
          "2016-07-01T00:00:00.000Z",
          "2016-10-01T00:00:00.000Z",
          "2017-01-01T00:00:00.000Z",
          "2017-04-01T00:00:00.000Z",
          "2017-07-01T00:00:00.000Z"
         ],
         "y": [
          1310,
          1881,
          1958,
          2707,
          2397,
          3640,
          4257,
          5620,
          5863,
          5404,
          5045,
          5436,
          4592,
          4931,
          3028,
          4164
         ]
        },
        {
         "name": "male",
         "type": "scatter",
         "x": [
          "2013-10-01T00:00:00.000Z",
          "2014-01-01T00:00:00.000Z",
          "2014-04-01T00:00:00.000Z",
          "2014-07-01T00:00:00.000Z",
          "2014-10-01T00:00:00.000Z",
          "2015-01-01T00:00:00.000Z",
          "2015-04-01T00:00:00.000Z",
          "2015-07-01T00:00:00.000Z",
          "2015-10-01T00:00:00.000Z",
          "2016-01-01T00:00:00.000Z",
          "2016-04-01T00:00:00.000Z",
          "2016-07-01T00:00:00.000Z",
          "2016-10-01T00:00:00.000Z",
          "2017-01-01T00:00:00.000Z",
          "2017-04-01T00:00:00.000Z",
          "2017-07-01T00:00:00.000Z"
         ],
         "y": [
          21709,
          32822,
          30949,
          35296,
          29119,
          39403,
          40611,
          48535,
          45180,
          55803,
          49309,
          62689,
          46448,
          50091,
          38631,
          44969
         ]
        },
        {
         "name": "unknown",
         "type": "scatter",
         "x": [
          "2013-10-01T00:00:00.000Z",
          "2014-01-01T00:00:00.000Z",
          "2014-04-01T00:00:00.000Z",
          "2014-07-01T00:00:00.000Z",
          "2014-10-01T00:00:00.000Z",
          "2015-01-01T00:00:00.000Z",
          "2015-04-01T00:00:00.000Z",
          "2015-07-01T00:00:00.000Z",
          "2015-10-01T00:00:00.000Z",
          "2016-01-01T00:00:00.000Z",
          "2016-04-01T00:00:00.000Z",
          "2016-07-01T00:00:00.000Z",
          "2016-10-01T00:00:00.000Z",
          "2017-01-01T00:00:00.000Z",
          "2017-04-01T00:00:00.000Z",
          "2017-07-01T00:00:00.000Z"
         ],
         "y": [
          2697,
          3821,
          2959,
          4121,
          2865,
          4615,
          4538,
          6532,
          7286,
          7858,
          6610,
          6925,
          5943,
          7429,
          5890,
          7257
         ]
        }
       ],
       "layout": {}
      },
      "text/html": [
       "<div id=\"899f7be1-e9e3-4ed9-a8dc-a0d2e78cfba4\" style=\"height: 525px; width: 100%;\" class=\"plotly-graph-div\"></div><script type=\"text/javascript\">require([\"plotly\"], function(Plotly) { window.PLOTLYENV=window.PLOTLYENV || {};window.PLOTLYENV.BASE_URL=\"https://plot.ly\";Plotly.newPlot(\"899f7be1-e9e3-4ed9-a8dc-a0d2e78cfba4\", [{\"name\": \"female\", \"x\": [\"2013-10-01T00:00:00.000Z\", \"2014-01-01T00:00:00.000Z\", \"2014-04-01T00:00:00.000Z\", \"2014-07-01T00:00:00.000Z\", \"2014-10-01T00:00:00.000Z\", \"2015-01-01T00:00:00.000Z\", \"2015-04-01T00:00:00.000Z\", \"2015-07-01T00:00:00.000Z\", \"2015-10-01T00:00:00.000Z\", \"2016-01-01T00:00:00.000Z\", \"2016-04-01T00:00:00.000Z\", \"2016-07-01T00:00:00.000Z\", \"2016-10-01T00:00:00.000Z\", \"2017-01-01T00:00:00.000Z\", \"2017-04-01T00:00:00.000Z\", \"2017-07-01T00:00:00.000Z\"], \"type\": \"scatter\", \"y\": [1310, 1881, 1958, 2707, 2397, 3640, 4257, 5620, 5863, 5404, 5045, 5436, 4592, 4931, 3028, 4164]}, {\"name\": \"male\", \"x\": [\"2013-10-01T00:00:00.000Z\", \"2014-01-01T00:00:00.000Z\", \"2014-04-01T00:00:00.000Z\", \"2014-07-01T00:00:00.000Z\", \"2014-10-01T00:00:00.000Z\", \"2015-01-01T00:00:00.000Z\", \"2015-04-01T00:00:00.000Z\", \"2015-07-01T00:00:00.000Z\", \"2015-10-01T00:00:00.000Z\", \"2016-01-01T00:00:00.000Z\", \"2016-04-01T00:00:00.000Z\", \"2016-07-01T00:00:00.000Z\", \"2016-10-01T00:00:00.000Z\", \"2017-01-01T00:00:00.000Z\", \"2017-04-01T00:00:00.000Z\", \"2017-07-01T00:00:00.000Z\"], \"type\": \"scatter\", \"y\": [21709, 32822, 30949, 35296, 29119, 39403, 40611, 48535, 45180, 55803, 49309, 62689, 46448, 50091, 38631, 44969]}, {\"name\": \"unknown\", \"x\": [\"2013-10-01T00:00:00.000Z\", \"2014-01-01T00:00:00.000Z\", \"2014-04-01T00:00:00.000Z\", \"2014-07-01T00:00:00.000Z\", \"2014-10-01T00:00:00.000Z\", \"2015-01-01T00:00:00.000Z\", \"2015-04-01T00:00:00.000Z\", \"2015-07-01T00:00:00.000Z\", \"2015-10-01T00:00:00.000Z\", \"2016-01-01T00:00:00.000Z\", \"2016-04-01T00:00:00.000Z\", \"2016-07-01T00:00:00.000Z\", \"2016-10-01T00:00:00.000Z\", \"2017-01-01T00:00:00.000Z\", \"2017-04-01T00:00:00.000Z\", \"2017-07-01T00:00:00.000Z\"], \"type\": \"scatter\", \"y\": [2697, 3821, 2959, 4121, 2865, 4615, 4538, 6532, 7286, 7858, 6610, 6925, 5943, 7429, 5890, 7257]}], {}, {\"showLink\": true, \"linkText\": \"Export to plot.ly\"})});</script>"
      ],
      "text/vnd.plotly.v1+html": [
       "<div id=\"899f7be1-e9e3-4ed9-a8dc-a0d2e78cfba4\" style=\"height: 525px; width: 100%;\" class=\"plotly-graph-div\"></div><script type=\"text/javascript\">require([\"plotly\"], function(Plotly) { window.PLOTLYENV=window.PLOTLYENV || {};window.PLOTLYENV.BASE_URL=\"https://plot.ly\";Plotly.newPlot(\"899f7be1-e9e3-4ed9-a8dc-a0d2e78cfba4\", [{\"name\": \"female\", \"x\": [\"2013-10-01T00:00:00.000Z\", \"2014-01-01T00:00:00.000Z\", \"2014-04-01T00:00:00.000Z\", \"2014-07-01T00:00:00.000Z\", \"2014-10-01T00:00:00.000Z\", \"2015-01-01T00:00:00.000Z\", \"2015-04-01T00:00:00.000Z\", \"2015-07-01T00:00:00.000Z\", \"2015-10-01T00:00:00.000Z\", \"2016-01-01T00:00:00.000Z\", \"2016-04-01T00:00:00.000Z\", \"2016-07-01T00:00:00.000Z\", \"2016-10-01T00:00:00.000Z\", \"2017-01-01T00:00:00.000Z\", \"2017-04-01T00:00:00.000Z\", \"2017-07-01T00:00:00.000Z\"], \"type\": \"scatter\", \"y\": [1310, 1881, 1958, 2707, 2397, 3640, 4257, 5620, 5863, 5404, 5045, 5436, 4592, 4931, 3028, 4164]}, {\"name\": \"male\", \"x\": [\"2013-10-01T00:00:00.000Z\", \"2014-01-01T00:00:00.000Z\", \"2014-04-01T00:00:00.000Z\", \"2014-07-01T00:00:00.000Z\", \"2014-10-01T00:00:00.000Z\", \"2015-01-01T00:00:00.000Z\", \"2015-04-01T00:00:00.000Z\", \"2015-07-01T00:00:00.000Z\", \"2015-10-01T00:00:00.000Z\", \"2016-01-01T00:00:00.000Z\", \"2016-04-01T00:00:00.000Z\", \"2016-07-01T00:00:00.000Z\", \"2016-10-01T00:00:00.000Z\", \"2017-01-01T00:00:00.000Z\", \"2017-04-01T00:00:00.000Z\", \"2017-07-01T00:00:00.000Z\"], \"type\": \"scatter\", \"y\": [21709, 32822, 30949, 35296, 29119, 39403, 40611, 48535, 45180, 55803, 49309, 62689, 46448, 50091, 38631, 44969]}, {\"name\": \"unknown\", \"x\": [\"2013-10-01T00:00:00.000Z\", \"2014-01-01T00:00:00.000Z\", \"2014-04-01T00:00:00.000Z\", \"2014-07-01T00:00:00.000Z\", \"2014-10-01T00:00:00.000Z\", \"2015-01-01T00:00:00.000Z\", \"2015-04-01T00:00:00.000Z\", \"2015-07-01T00:00:00.000Z\", \"2015-10-01T00:00:00.000Z\", \"2016-01-01T00:00:00.000Z\", \"2016-04-01T00:00:00.000Z\", \"2016-07-01T00:00:00.000Z\", \"2016-10-01T00:00:00.000Z\", \"2017-01-01T00:00:00.000Z\", \"2017-04-01T00:00:00.000Z\", \"2017-07-01T00:00:00.000Z\"], \"type\": \"scatter\", \"y\": [2697, 3821, 2959, 4121, 2865, 4615, 4538, 6532, 7286, 7858, 6610, 6925, 5943, 7429, 5890, 7257]}], {}, {\"showLink\": true, \"linkText\": \"Export to plot.ly\"})});</script>"
      ]
     },
     "metadata": {},
     "output_type": "display_data"
    }
   ],
   "source": [
    "METRIC_NAME = \"core_reviewers\"\n",
    "METRIC_FIELD = \"owner\"\n",
    "\n",
    "filter_core_vote = Q('terms', value=[\"2\", \"-2\"])\n",
    "filter_vote = Q('term', eventtype='CHANGESET_PATCHSET_APPROVAL_Code-Review') # filter by event: vote a code review\n",
    "df = query_metric_over_time(INDEX, METRIC_NAME, METRIC_FIELD, [filter_core_vote, filter_date_4y, filter_vote])\n",
    "draw_evolutionary_chart(\"key_as_string\", \"doc_count\")"
   ]
  },
  {
   "cell_type": "code",
   "execution_count": 23,
   "metadata": {},
   "outputs": [
    {
     "data": {
      "application/vnd.plotly.v1+json": {
       "data": [
        {
         "labels": [
          "male",
          "NotKnown",
          "female"
         ],
         "type": "pie",
         "values": [
          671564,
          87346,
          62233
         ]
        }
       ],
       "layout": {
        "title": "Core Reviews by Gender (last 4 years)"
       }
      },
      "text/html": [
       "<div id=\"dfb84908-5c91-4cd6-9f87-a6bd4ae04042\" style=\"height: 525px; width: 100%;\" class=\"plotly-graph-div\"></div><script type=\"text/javascript\">require([\"plotly\"], function(Plotly) { window.PLOTLYENV=window.PLOTLYENV || {};window.PLOTLYENV.BASE_URL=\"https://plot.ly\";Plotly.newPlot(\"dfb84908-5c91-4cd6-9f87-a6bd4ae04042\", [{\"labels\": [\"male\", \"NotKnown\", \"female\"], \"type\": \"pie\", \"values\": [671564, 87346, 62233]}], {\"title\": \"Core Reviews by Gender (last 4 years)\"}, {\"showLink\": true, \"linkText\": \"Export to plot.ly\"})});</script>"
      ],
      "text/vnd.plotly.v1+html": [
       "<div id=\"dfb84908-5c91-4cd6-9f87-a6bd4ae04042\" style=\"height: 525px; width: 100%;\" class=\"plotly-graph-div\"></div><script type=\"text/javascript\">require([\"plotly\"], function(Plotly) { window.PLOTLYENV=window.PLOTLYENV || {};window.PLOTLYENV.BASE_URL=\"https://plot.ly\";Plotly.newPlot(\"dfb84908-5c91-4cd6-9f87-a6bd4ae04042\", [{\"labels\": [\"male\", \"NotKnown\", \"female\"], \"type\": \"pie\", \"values\": [671564, 87346, 62233]}], {\"title\": \"Core Reviews by Gender (last 4 years)\"}, {\"showLink\": true, \"linkText\": \"Export to plot.ly\"})});</script>"
      ]
     },
     "metadata": {},
     "output_type": "display_data"
    }
   ],
   "source": [
    "pie_chart_labels, pie_chart_values, pie_chart_count = query_total_piechart(INDEX, METRIC_NAME, METRIC_FIELD,  [filter_date_4y,\n",
    "                                                                                              filter_vote, filter_core_vote])\n",
    "draw_piechart(pie_chart_labels, pie_chart_count, 'Core Reviews by Gender (last 4 years)')"
   ]
  },
  {
   "cell_type": "code",
   "execution_count": 24,
   "metadata": {},
   "outputs": [
    {
     "data": {
      "application/vnd.plotly.v1+json": {
       "data": [
        {
         "labels": [
          "male",
          "NotKnown",
          "female"
         ],
         "type": "pie",
         "values": [
          180139,
          26519,
          16715
         ]
        }
       ],
       "layout": {
        "title": "Core Reviews by Gender (last year)"
       }
      },
      "text/html": [
       "<div id=\"2bf91fd1-a67c-432a-8ae7-d8980eea8549\" style=\"height: 525px; width: 100%;\" class=\"plotly-graph-div\"></div><script type=\"text/javascript\">require([\"plotly\"], function(Plotly) { window.PLOTLYENV=window.PLOTLYENV || {};window.PLOTLYENV.BASE_URL=\"https://plot.ly\";Plotly.newPlot(\"2bf91fd1-a67c-432a-8ae7-d8980eea8549\", [{\"labels\": [\"male\", \"NotKnown\", \"female\"], \"type\": \"pie\", \"values\": [180139, 26519, 16715]}], {\"title\": \"Core Reviews by Gender (last year)\"}, {\"showLink\": true, \"linkText\": \"Export to plot.ly\"})});</script>"
      ],
      "text/vnd.plotly.v1+html": [
       "<div id=\"2bf91fd1-a67c-432a-8ae7-d8980eea8549\" style=\"height: 525px; width: 100%;\" class=\"plotly-graph-div\"></div><script type=\"text/javascript\">require([\"plotly\"], function(Plotly) { window.PLOTLYENV=window.PLOTLYENV || {};window.PLOTLYENV.BASE_URL=\"https://plot.ly\";Plotly.newPlot(\"2bf91fd1-a67c-432a-8ae7-d8980eea8549\", [{\"labels\": [\"male\", \"NotKnown\", \"female\"], \"type\": \"pie\", \"values\": [180139, 26519, 16715]}], {\"title\": \"Core Reviews by Gender (last year)\"}, {\"showLink\": true, \"linkText\": \"Export to plot.ly\"})});</script>"
      ]
     },
     "metadata": {},
     "output_type": "display_data"
    }
   ],
   "source": [
    "pie_chart_labels, pie_chart_values, pie_chart_count = query_total_piechart(INDEX, METRIC_NAME, METRIC_FIELD,  [filter_date_1y,\n",
    "                                                                                              filter_vote, filter_core_vote])\n",
    "draw_piechart(pie_chart_labels, pie_chart_count, 'Core Reviews by Gender (last year)')"
   ]
  },
  {
   "cell_type": "markdown",
   "metadata": {},
   "source": [
    "## Number of people acting as core reviewers (-2 OR +2) by gender"
   ]
  },
  {
   "cell_type": "code",
   "execution_count": 25,
   "metadata": {},
   "outputs": [
    {
     "data": {
      "application/vnd.plotly.v1+json": {
       "data": [
        {
         "name": "female",
         "type": "scatter",
         "x": [
          "2013-10-01T00:00:00.000Z",
          "2014-01-01T00:00:00.000Z",
          "2014-04-01T00:00:00.000Z",
          "2014-07-01T00:00:00.000Z",
          "2014-10-01T00:00:00.000Z",
          "2015-01-01T00:00:00.000Z",
          "2015-04-01T00:00:00.000Z",
          "2015-07-01T00:00:00.000Z",
          "2015-10-01T00:00:00.000Z",
          "2016-01-01T00:00:00.000Z",
          "2016-04-01T00:00:00.000Z",
          "2016-07-01T00:00:00.000Z",
          "2016-10-01T00:00:00.000Z",
          "2017-01-01T00:00:00.000Z",
          "2017-04-01T00:00:00.000Z",
          "2017-07-01T00:00:00.000Z"
         ],
         "y": [
          20,
          28,
          33,
          40,
          41,
          60,
          63,
          83,
          97,
          102,
          104,
          101,
          92,
          89,
          81,
          75
         ]
        },
        {
         "name": "male",
         "type": "scatter",
         "x": [
          "2013-10-01T00:00:00.000Z",
          "2014-01-01T00:00:00.000Z",
          "2014-04-01T00:00:00.000Z",
          "2014-07-01T00:00:00.000Z",
          "2014-10-01T00:00:00.000Z",
          "2015-01-01T00:00:00.000Z",
          "2015-04-01T00:00:00.000Z",
          "2015-07-01T00:00:00.000Z",
          "2015-10-01T00:00:00.000Z",
          "2016-01-01T00:00:00.000Z",
          "2016-04-01T00:00:00.000Z",
          "2016-07-01T00:00:00.000Z",
          "2016-10-01T00:00:00.000Z",
          "2017-01-01T00:00:00.000Z",
          "2017-04-01T00:00:00.000Z",
          "2017-07-01T00:00:00.000Z"
         ],
         "y": [
          219,
          281,
          296,
          344,
          360,
          419,
          492,
          543,
          582,
          601,
          652,
          686,
          678,
          624,
          533,
          476
         ]
        },
        {
         "name": "unknown",
         "type": "scatter",
         "x": [
          "2013-10-01T00:00:00.000Z",
          "2014-01-01T00:00:00.000Z",
          "2014-04-01T00:00:00.000Z",
          "2014-07-01T00:00:00.000Z",
          "2014-10-01T00:00:00.000Z",
          "2015-01-01T00:00:00.000Z",
          "2015-04-01T00:00:00.000Z",
          "2015-07-01T00:00:00.000Z",
          "2015-10-01T00:00:00.000Z",
          "2016-01-01T00:00:00.000Z",
          "2016-04-01T00:00:00.000Z",
          "2016-07-01T00:00:00.000Z",
          "2016-10-01T00:00:00.000Z",
          "2017-01-01T00:00:00.000Z",
          "2017-04-01T00:00:00.000Z",
          "2017-07-01T00:00:00.000Z"
         ],
         "y": [
          28,
          34,
          38,
          39,
          41,
          47,
          56,
          79,
          95,
          102,
          109,
          118,
          109,
          119,
          102,
          87
         ]
        }
       ],
       "layout": {}
      },
      "text/html": [
       "<div id=\"44fa2959-b987-4fd7-aafb-976babfe55b9\" style=\"height: 525px; width: 100%;\" class=\"plotly-graph-div\"></div><script type=\"text/javascript\">require([\"plotly\"], function(Plotly) { window.PLOTLYENV=window.PLOTLYENV || {};window.PLOTLYENV.BASE_URL=\"https://plot.ly\";Plotly.newPlot(\"44fa2959-b987-4fd7-aafb-976babfe55b9\", [{\"name\": \"female\", \"x\": [\"2013-10-01T00:00:00.000Z\", \"2014-01-01T00:00:00.000Z\", \"2014-04-01T00:00:00.000Z\", \"2014-07-01T00:00:00.000Z\", \"2014-10-01T00:00:00.000Z\", \"2015-01-01T00:00:00.000Z\", \"2015-04-01T00:00:00.000Z\", \"2015-07-01T00:00:00.000Z\", \"2015-10-01T00:00:00.000Z\", \"2016-01-01T00:00:00.000Z\", \"2016-04-01T00:00:00.000Z\", \"2016-07-01T00:00:00.000Z\", \"2016-10-01T00:00:00.000Z\", \"2017-01-01T00:00:00.000Z\", \"2017-04-01T00:00:00.000Z\", \"2017-07-01T00:00:00.000Z\"], \"type\": \"scatter\", \"y\": [20, 28, 33, 40, 41, 60, 63, 83, 97, 102, 104, 101, 92, 89, 81, 75]}, {\"name\": \"male\", \"x\": [\"2013-10-01T00:00:00.000Z\", \"2014-01-01T00:00:00.000Z\", \"2014-04-01T00:00:00.000Z\", \"2014-07-01T00:00:00.000Z\", \"2014-10-01T00:00:00.000Z\", \"2015-01-01T00:00:00.000Z\", \"2015-04-01T00:00:00.000Z\", \"2015-07-01T00:00:00.000Z\", \"2015-10-01T00:00:00.000Z\", \"2016-01-01T00:00:00.000Z\", \"2016-04-01T00:00:00.000Z\", \"2016-07-01T00:00:00.000Z\", \"2016-10-01T00:00:00.000Z\", \"2017-01-01T00:00:00.000Z\", \"2017-04-01T00:00:00.000Z\", \"2017-07-01T00:00:00.000Z\"], \"type\": \"scatter\", \"y\": [219, 281, 296, 344, 360, 419, 492, 543, 582, 601, 652, 686, 678, 624, 533, 476]}, {\"name\": \"unknown\", \"x\": [\"2013-10-01T00:00:00.000Z\", \"2014-01-01T00:00:00.000Z\", \"2014-04-01T00:00:00.000Z\", \"2014-07-01T00:00:00.000Z\", \"2014-10-01T00:00:00.000Z\", \"2015-01-01T00:00:00.000Z\", \"2015-04-01T00:00:00.000Z\", \"2015-07-01T00:00:00.000Z\", \"2015-10-01T00:00:00.000Z\", \"2016-01-01T00:00:00.000Z\", \"2016-04-01T00:00:00.000Z\", \"2016-07-01T00:00:00.000Z\", \"2016-10-01T00:00:00.000Z\", \"2017-01-01T00:00:00.000Z\", \"2017-04-01T00:00:00.000Z\", \"2017-07-01T00:00:00.000Z\"], \"type\": \"scatter\", \"y\": [28, 34, 38, 39, 41, 47, 56, 79, 95, 102, 109, 118, 109, 119, 102, 87]}], {}, {\"showLink\": true, \"linkText\": \"Export to plot.ly\"})});</script>"
      ],
      "text/vnd.plotly.v1+html": [
       "<div id=\"44fa2959-b987-4fd7-aafb-976babfe55b9\" style=\"height: 525px; width: 100%;\" class=\"plotly-graph-div\"></div><script type=\"text/javascript\">require([\"plotly\"], function(Plotly) { window.PLOTLYENV=window.PLOTLYENV || {};window.PLOTLYENV.BASE_URL=\"https://plot.ly\";Plotly.newPlot(\"44fa2959-b987-4fd7-aafb-976babfe55b9\", [{\"name\": \"female\", \"x\": [\"2013-10-01T00:00:00.000Z\", \"2014-01-01T00:00:00.000Z\", \"2014-04-01T00:00:00.000Z\", \"2014-07-01T00:00:00.000Z\", \"2014-10-01T00:00:00.000Z\", \"2015-01-01T00:00:00.000Z\", \"2015-04-01T00:00:00.000Z\", \"2015-07-01T00:00:00.000Z\", \"2015-10-01T00:00:00.000Z\", \"2016-01-01T00:00:00.000Z\", \"2016-04-01T00:00:00.000Z\", \"2016-07-01T00:00:00.000Z\", \"2016-10-01T00:00:00.000Z\", \"2017-01-01T00:00:00.000Z\", \"2017-04-01T00:00:00.000Z\", \"2017-07-01T00:00:00.000Z\"], \"type\": \"scatter\", \"y\": [20, 28, 33, 40, 41, 60, 63, 83, 97, 102, 104, 101, 92, 89, 81, 75]}, {\"name\": \"male\", \"x\": [\"2013-10-01T00:00:00.000Z\", \"2014-01-01T00:00:00.000Z\", \"2014-04-01T00:00:00.000Z\", \"2014-07-01T00:00:00.000Z\", \"2014-10-01T00:00:00.000Z\", \"2015-01-01T00:00:00.000Z\", \"2015-04-01T00:00:00.000Z\", \"2015-07-01T00:00:00.000Z\", \"2015-10-01T00:00:00.000Z\", \"2016-01-01T00:00:00.000Z\", \"2016-04-01T00:00:00.000Z\", \"2016-07-01T00:00:00.000Z\", \"2016-10-01T00:00:00.000Z\", \"2017-01-01T00:00:00.000Z\", \"2017-04-01T00:00:00.000Z\", \"2017-07-01T00:00:00.000Z\"], \"type\": \"scatter\", \"y\": [219, 281, 296, 344, 360, 419, 492, 543, 582, 601, 652, 686, 678, 624, 533, 476]}, {\"name\": \"unknown\", \"x\": [\"2013-10-01T00:00:00.000Z\", \"2014-01-01T00:00:00.000Z\", \"2014-04-01T00:00:00.000Z\", \"2014-07-01T00:00:00.000Z\", \"2014-10-01T00:00:00.000Z\", \"2015-01-01T00:00:00.000Z\", \"2015-04-01T00:00:00.000Z\", \"2015-07-01T00:00:00.000Z\", \"2015-10-01T00:00:00.000Z\", \"2016-01-01T00:00:00.000Z\", \"2016-04-01T00:00:00.000Z\", \"2016-07-01T00:00:00.000Z\", \"2016-10-01T00:00:00.000Z\", \"2017-01-01T00:00:00.000Z\", \"2017-04-01T00:00:00.000Z\", \"2017-07-01T00:00:00.000Z\"], \"type\": \"scatter\", \"y\": [28, 34, 38, 39, 41, 47, 56, 79, 95, 102, 109, 118, 109, 119, 102, 87]}], {}, {\"showLink\": true, \"linkText\": \"Export to plot.ly\"})});</script>"
      ]
     },
     "metadata": {},
     "output_type": "display_data"
    }
   ],
   "source": [
    "draw_evolutionary_chart(\"key_as_string\", METRIC_NAME)"
   ]
  },
  {
   "cell_type": "code",
   "execution_count": 26,
   "metadata": {},
   "outputs": [
    {
     "data": {
      "application/vnd.plotly.v1+json": {
       "data": [
        {
         "labels": [
          "male",
          "NotKnown",
          "female"
         ],
         "type": "pie",
         "values": [
          1371,
          280,
          223
         ]
        }
       ],
       "layout": {
        "title": "Core Reviewers by Gender (last 4 years)"
       }
      },
      "text/html": [
       "<div id=\"50868fdf-5bda-4ed0-8913-b8b2aca9d6e8\" style=\"height: 525px; width: 100%;\" class=\"plotly-graph-div\"></div><script type=\"text/javascript\">require([\"plotly\"], function(Plotly) { window.PLOTLYENV=window.PLOTLYENV || {};window.PLOTLYENV.BASE_URL=\"https://plot.ly\";Plotly.newPlot(\"50868fdf-5bda-4ed0-8913-b8b2aca9d6e8\", [{\"labels\": [\"male\", \"NotKnown\", \"female\"], \"type\": \"pie\", \"values\": [1371, 280, 223]}], {\"title\": \"Core Reviewers by Gender (last 4 years)\"}, {\"showLink\": true, \"linkText\": \"Export to plot.ly\"})});</script>"
      ],
      "text/vnd.plotly.v1+html": [
       "<div id=\"50868fdf-5bda-4ed0-8913-b8b2aca9d6e8\" style=\"height: 525px; width: 100%;\" class=\"plotly-graph-div\"></div><script type=\"text/javascript\">require([\"plotly\"], function(Plotly) { window.PLOTLYENV=window.PLOTLYENV || {};window.PLOTLYENV.BASE_URL=\"https://plot.ly\";Plotly.newPlot(\"50868fdf-5bda-4ed0-8913-b8b2aca9d6e8\", [{\"labels\": [\"male\", \"NotKnown\", \"female\"], \"type\": \"pie\", \"values\": [1371, 280, 223]}], {\"title\": \"Core Reviewers by Gender (last 4 years)\"}, {\"showLink\": true, \"linkText\": \"Export to plot.ly\"})});</script>"
      ]
     },
     "metadata": {},
     "output_type": "display_data"
    }
   ],
   "source": [
    "pie_chart_labels, pie_chart_values, pie_chart_count = query_total_piechart(INDEX, METRIC_NAME, METRIC_FIELD,  [filter_date_4y,\n",
    "                                                                                              filter_vote, filter_core_vote])\n",
    "draw_piechart(pie_chart_labels, pie_chart_values, 'Core Reviewers by Gender (last 4 years)')"
   ]
  },
  {
   "cell_type": "code",
   "execution_count": 27,
   "metadata": {},
   "outputs": [
    {
     "data": {
      "application/vnd.plotly.v1+json": {
       "data": [
        {
         "labels": [
          "male",
          "NotKnown",
          "female"
         ],
         "type": "pie",
         "values": [
          847,
          178,
          125
         ]
        }
       ],
       "layout": {
        "title": "Core Reviewers by Gender (last year)"
       }
      },
      "text/html": [
       "<div id=\"5599abc1-933e-4dd2-b629-b9d834db8688\" style=\"height: 525px; width: 100%;\" class=\"plotly-graph-div\"></div><script type=\"text/javascript\">require([\"plotly\"], function(Plotly) { window.PLOTLYENV=window.PLOTLYENV || {};window.PLOTLYENV.BASE_URL=\"https://plot.ly\";Plotly.newPlot(\"5599abc1-933e-4dd2-b629-b9d834db8688\", [{\"labels\": [\"male\", \"NotKnown\", \"female\"], \"type\": \"pie\", \"values\": [847, 178, 125]}], {\"title\": \"Core Reviewers by Gender (last year)\"}, {\"showLink\": true, \"linkText\": \"Export to plot.ly\"})});</script>"
      ],
      "text/vnd.plotly.v1+html": [
       "<div id=\"5599abc1-933e-4dd2-b629-b9d834db8688\" style=\"height: 525px; width: 100%;\" class=\"plotly-graph-div\"></div><script type=\"text/javascript\">require([\"plotly\"], function(Plotly) { window.PLOTLYENV=window.PLOTLYENV || {};window.PLOTLYENV.BASE_URL=\"https://plot.ly\";Plotly.newPlot(\"5599abc1-933e-4dd2-b629-b9d834db8688\", [{\"labels\": [\"male\", \"NotKnown\", \"female\"], \"type\": \"pie\", \"values\": [847, 178, 125]}], {\"title\": \"Core Reviewers by Gender (last year)\"}, {\"showLink\": true, \"linkText\": \"Export to plot.ly\"})});</script>"
      ]
     },
     "metadata": {},
     "output_type": "display_data"
    }
   ],
   "source": [
    "pie_chart_labels, pie_chart_values, pie_chart_count = query_total_piechart(INDEX, METRIC_NAME, METRIC_FIELD,  [filter_date_1y,\n",
    "                                                                                              filter_vote, filter_core_vote])\n",
    "draw_piechart(pie_chart_labels, pie_chart_values, 'Core Reviewers by Gender (last year)')"
   ]
  },
  {
   "cell_type": "markdown",
   "metadata": {},
   "source": [
    "# GIT"
   ]
  },
  {
   "cell_type": "code",
   "execution_count": 28,
   "metadata": {
    "collapsed": true
   },
   "outputs": [],
   "source": [
    "INDEX = \"git_openstack_gender_uuids_fielddata\"\n",
    "#filter_merges_addedlines = Q('range', addedlines={'gt': 0})\n",
    "filter_merges_addedlines = Q('range', num_added_lines={'gt': 0})\n",
    "#filter_merges_removedlines = Q('range', removedlines={'gt': 0})\n",
    "filter_merges_removedlines = Q('range', num_removed_lines={'gt': 0})\n",
    "filter_bots = Q('bool', must_not=[Q('match', gender_analyzed_name='Jenkins')])"
   ]
  },
  {
   "cell_type": "code",
   "execution_count": 29,
   "metadata": {
    "collapsed": true
   },
   "outputs": [],
   "source": [
    "git_filter = Q('bool',\n",
    "    must_not=[Q('match', gender_analyzed_name='Jenkins')],\n",
    "    should=[filter_merges_addedlines, filter_merges_removedlines]\n",
    ")"
   ]
  },
  {
   "cell_type": "markdown",
   "metadata": {},
   "source": [
    "* Evolution and trends over time [per quarter] of commits by gender\n",
    "  * Commits by gender (columns: hash, gender)"
   ]
  },
  {
   "cell_type": "code",
   "execution_count": 30,
   "metadata": {
    "collapsed": true
   },
   "outputs": [],
   "source": [
    "METRIC_NAME = \"commits\"\n",
    "METRIC_FIELD = \"id\"\n",
    "#df = query_metric_over_time(INDEX, METRIC_NAME, METRIC_FIELD, [filter_date_4y, filter_merges_addedlines,\n",
    "#                                                               filter_merges_removedlines, filter_bots])\n",
    "df = query_metric_over_time(INDEX, METRIC_NAME, METRIC_FIELD, [filter_date_4y, git_filter])"
   ]
  },
  {
   "cell_type": "code",
   "execution_count": 31,
   "metadata": {},
   "outputs": [
    {
     "data": {
      "application/vnd.plotly.v1+json": {
       "data": [
        {
         "name": "female",
         "type": "scatter",
         "x": [
          "2013-10-01T00:00:00.000Z",
          "2014-01-01T00:00:00.000Z",
          "2014-04-01T00:00:00.000Z",
          "2014-07-01T00:00:00.000Z",
          "2014-10-01T00:00:00.000Z",
          "2015-01-01T00:00:00.000Z",
          "2015-04-01T00:00:00.000Z",
          "2015-07-01T00:00:00.000Z",
          "2015-10-01T00:00:00.000Z",
          "2016-01-01T00:00:00.000Z",
          "2016-04-01T00:00:00.000Z",
          "2016-07-01T00:00:00.000Z",
          "2016-10-01T00:00:00.000Z",
          "2017-01-01T00:00:00.000Z",
          "2017-04-01T00:00:00.000Z",
          "2017-07-01T00:00:00.000Z"
         ],
         "y": [
          974,
          1213,
          1345,
          2040,
          1427,
          1918,
          1952,
          2186,
          2259,
          2327,
          2060,
          2505,
          1653,
          1571,
          644,
          457
         ]
        },
        {
         "name": "male",
         "type": "scatter",
         "x": [
          "2013-10-01T00:00:00.000Z",
          "2014-01-01T00:00:00.000Z",
          "2014-04-01T00:00:00.000Z",
          "2014-07-01T00:00:00.000Z",
          "2014-10-01T00:00:00.000Z",
          "2015-01-01T00:00:00.000Z",
          "2015-04-01T00:00:00.000Z",
          "2015-07-01T00:00:00.000Z",
          "2015-10-01T00:00:00.000Z",
          "2016-01-01T00:00:00.000Z",
          "2016-04-01T00:00:00.000Z",
          "2016-07-01T00:00:00.000Z",
          "2016-10-01T00:00:00.000Z",
          "2017-01-01T00:00:00.000Z",
          "2017-04-01T00:00:00.000Z",
          "2017-07-01T00:00:00.000Z"
         ],
         "y": [
          15581,
          19814,
          18148,
          19358,
          17387,
          20473,
          21582,
          22955,
          20258,
          24185,
          20952,
          23746,
          16358,
          14188,
          6709,
          5139
         ]
        },
        {
         "name": "unknown",
         "type": "scatter",
         "x": [
          "2013-10-01T00:00:00.000Z",
          "2014-01-01T00:00:00.000Z",
          "2014-04-01T00:00:00.000Z",
          "2014-07-01T00:00:00.000Z",
          "2014-10-01T00:00:00.000Z",
          "2015-01-01T00:00:00.000Z",
          "2015-04-01T00:00:00.000Z",
          "2015-07-01T00:00:00.000Z",
          "2015-10-01T00:00:00.000Z",
          "2016-01-01T00:00:00.000Z",
          "2016-04-01T00:00:00.000Z",
          "2016-07-01T00:00:00.000Z",
          "2016-10-01T00:00:00.000Z",
          "2017-01-01T00:00:00.000Z",
          "2017-04-01T00:00:00.000Z",
          "2017-07-01T00:00:00.000Z"
         ],
         "y": [
          3014,
          4116,
          2987,
          3428,
          3563,
          5239,
          4308,
          6138,
          6129,
          5902,
          6228,
          7011,
          6645,
          6535,
          3567,
          3787
         ]
        }
       ],
       "layout": {}
      },
      "text/html": [
       "<div id=\"e5093ca8-54a5-404b-ba35-a690c35c40d9\" style=\"height: 525px; width: 100%;\" class=\"plotly-graph-div\"></div><script type=\"text/javascript\">require([\"plotly\"], function(Plotly) { window.PLOTLYENV=window.PLOTLYENV || {};window.PLOTLYENV.BASE_URL=\"https://plot.ly\";Plotly.newPlot(\"e5093ca8-54a5-404b-ba35-a690c35c40d9\", [{\"name\": \"female\", \"x\": [\"2013-10-01T00:00:00.000Z\", \"2014-01-01T00:00:00.000Z\", \"2014-04-01T00:00:00.000Z\", \"2014-07-01T00:00:00.000Z\", \"2014-10-01T00:00:00.000Z\", \"2015-01-01T00:00:00.000Z\", \"2015-04-01T00:00:00.000Z\", \"2015-07-01T00:00:00.000Z\", \"2015-10-01T00:00:00.000Z\", \"2016-01-01T00:00:00.000Z\", \"2016-04-01T00:00:00.000Z\", \"2016-07-01T00:00:00.000Z\", \"2016-10-01T00:00:00.000Z\", \"2017-01-01T00:00:00.000Z\", \"2017-04-01T00:00:00.000Z\", \"2017-07-01T00:00:00.000Z\"], \"type\": \"scatter\", \"y\": [974, 1213, 1345, 2040, 1427, 1918, 1952, 2186, 2259, 2327, 2060, 2505, 1653, 1571, 644, 457]}, {\"name\": \"male\", \"x\": [\"2013-10-01T00:00:00.000Z\", \"2014-01-01T00:00:00.000Z\", \"2014-04-01T00:00:00.000Z\", \"2014-07-01T00:00:00.000Z\", \"2014-10-01T00:00:00.000Z\", \"2015-01-01T00:00:00.000Z\", \"2015-04-01T00:00:00.000Z\", \"2015-07-01T00:00:00.000Z\", \"2015-10-01T00:00:00.000Z\", \"2016-01-01T00:00:00.000Z\", \"2016-04-01T00:00:00.000Z\", \"2016-07-01T00:00:00.000Z\", \"2016-10-01T00:00:00.000Z\", \"2017-01-01T00:00:00.000Z\", \"2017-04-01T00:00:00.000Z\", \"2017-07-01T00:00:00.000Z\"], \"type\": \"scatter\", \"y\": [15581, 19814, 18148, 19358, 17387, 20473, 21582, 22955, 20258, 24185, 20952, 23746, 16358, 14188, 6709, 5139]}, {\"name\": \"unknown\", \"x\": [\"2013-10-01T00:00:00.000Z\", \"2014-01-01T00:00:00.000Z\", \"2014-04-01T00:00:00.000Z\", \"2014-07-01T00:00:00.000Z\", \"2014-10-01T00:00:00.000Z\", \"2015-01-01T00:00:00.000Z\", \"2015-04-01T00:00:00.000Z\", \"2015-07-01T00:00:00.000Z\", \"2015-10-01T00:00:00.000Z\", \"2016-01-01T00:00:00.000Z\", \"2016-04-01T00:00:00.000Z\", \"2016-07-01T00:00:00.000Z\", \"2016-10-01T00:00:00.000Z\", \"2017-01-01T00:00:00.000Z\", \"2017-04-01T00:00:00.000Z\", \"2017-07-01T00:00:00.000Z\"], \"type\": \"scatter\", \"y\": [3014, 4116, 2987, 3428, 3563, 5239, 4308, 6138, 6129, 5902, 6228, 7011, 6645, 6535, 3567, 3787]}], {}, {\"showLink\": true, \"linkText\": \"Export to plot.ly\"})});</script>"
      ],
      "text/vnd.plotly.v1+html": [
       "<div id=\"e5093ca8-54a5-404b-ba35-a690c35c40d9\" style=\"height: 525px; width: 100%;\" class=\"plotly-graph-div\"></div><script type=\"text/javascript\">require([\"plotly\"], function(Plotly) { window.PLOTLYENV=window.PLOTLYENV || {};window.PLOTLYENV.BASE_URL=\"https://plot.ly\";Plotly.newPlot(\"e5093ca8-54a5-404b-ba35-a690c35c40d9\", [{\"name\": \"female\", \"x\": [\"2013-10-01T00:00:00.000Z\", \"2014-01-01T00:00:00.000Z\", \"2014-04-01T00:00:00.000Z\", \"2014-07-01T00:00:00.000Z\", \"2014-10-01T00:00:00.000Z\", \"2015-01-01T00:00:00.000Z\", \"2015-04-01T00:00:00.000Z\", \"2015-07-01T00:00:00.000Z\", \"2015-10-01T00:00:00.000Z\", \"2016-01-01T00:00:00.000Z\", \"2016-04-01T00:00:00.000Z\", \"2016-07-01T00:00:00.000Z\", \"2016-10-01T00:00:00.000Z\", \"2017-01-01T00:00:00.000Z\", \"2017-04-01T00:00:00.000Z\", \"2017-07-01T00:00:00.000Z\"], \"type\": \"scatter\", \"y\": [974, 1213, 1345, 2040, 1427, 1918, 1952, 2186, 2259, 2327, 2060, 2505, 1653, 1571, 644, 457]}, {\"name\": \"male\", \"x\": [\"2013-10-01T00:00:00.000Z\", \"2014-01-01T00:00:00.000Z\", \"2014-04-01T00:00:00.000Z\", \"2014-07-01T00:00:00.000Z\", \"2014-10-01T00:00:00.000Z\", \"2015-01-01T00:00:00.000Z\", \"2015-04-01T00:00:00.000Z\", \"2015-07-01T00:00:00.000Z\", \"2015-10-01T00:00:00.000Z\", \"2016-01-01T00:00:00.000Z\", \"2016-04-01T00:00:00.000Z\", \"2016-07-01T00:00:00.000Z\", \"2016-10-01T00:00:00.000Z\", \"2017-01-01T00:00:00.000Z\", \"2017-04-01T00:00:00.000Z\", \"2017-07-01T00:00:00.000Z\"], \"type\": \"scatter\", \"y\": [15581, 19814, 18148, 19358, 17387, 20473, 21582, 22955, 20258, 24185, 20952, 23746, 16358, 14188, 6709, 5139]}, {\"name\": \"unknown\", \"x\": [\"2013-10-01T00:00:00.000Z\", \"2014-01-01T00:00:00.000Z\", \"2014-04-01T00:00:00.000Z\", \"2014-07-01T00:00:00.000Z\", \"2014-10-01T00:00:00.000Z\", \"2015-01-01T00:00:00.000Z\", \"2015-04-01T00:00:00.000Z\", \"2015-07-01T00:00:00.000Z\", \"2015-10-01T00:00:00.000Z\", \"2016-01-01T00:00:00.000Z\", \"2016-04-01T00:00:00.000Z\", \"2016-07-01T00:00:00.000Z\", \"2016-10-01T00:00:00.000Z\", \"2017-01-01T00:00:00.000Z\", \"2017-04-01T00:00:00.000Z\", \"2017-07-01T00:00:00.000Z\"], \"type\": \"scatter\", \"y\": [3014, 4116, 2987, 3428, 3563, 5239, 4308, 6138, 6129, 5902, 6228, 7011, 6645, 6535, 3567, 3787]}], {}, {\"showLink\": true, \"linkText\": \"Export to plot.ly\"})});</script>"
      ]
     },
     "metadata": {},
     "output_type": "display_data"
    }
   ],
   "source": [
    "draw_evolutionary_chart(\"key_as_string\", METRIC_NAME)"
   ]
  },
  {
   "cell_type": "code",
   "execution_count": 32,
   "metadata": {},
   "outputs": [
    {
     "data": {
      "application/vnd.plotly.v1+json": {
       "data": [
        {
         "labels": [
          "male",
          "NotKnown",
          "female"
         ],
         "type": "pie",
         "values": [
          287016,
          78334,
          26526
         ]
        }
       ],
       "layout": {
        "title": "Commits by Gender (last 4 years)"
       }
      },
      "text/html": [
       "<div id=\"359c22a3-10b2-4ba1-b918-9c6243aff8fb\" style=\"height: 525px; width: 100%;\" class=\"plotly-graph-div\"></div><script type=\"text/javascript\">require([\"plotly\"], function(Plotly) { window.PLOTLYENV=window.PLOTLYENV || {};window.PLOTLYENV.BASE_URL=\"https://plot.ly\";Plotly.newPlot(\"359c22a3-10b2-4ba1-b918-9c6243aff8fb\", [{\"labels\": [\"male\", \"NotKnown\", \"female\"], \"type\": \"pie\", \"values\": [287016, 78334, 26526]}], {\"title\": \"Commits by Gender (last 4 years)\"}, {\"showLink\": true, \"linkText\": \"Export to plot.ly\"})});</script>"
      ],
      "text/vnd.plotly.v1+html": [
       "<div id=\"359c22a3-10b2-4ba1-b918-9c6243aff8fb\" style=\"height: 525px; width: 100%;\" class=\"plotly-graph-div\"></div><script type=\"text/javascript\">require([\"plotly\"], function(Plotly) { window.PLOTLYENV=window.PLOTLYENV || {};window.PLOTLYENV.BASE_URL=\"https://plot.ly\";Plotly.newPlot(\"359c22a3-10b2-4ba1-b918-9c6243aff8fb\", [{\"labels\": [\"male\", \"NotKnown\", \"female\"], \"type\": \"pie\", \"values\": [287016, 78334, 26526]}], {\"title\": \"Commits by Gender (last 4 years)\"}, {\"showLink\": true, \"linkText\": \"Export to plot.ly\"})});</script>"
      ]
     },
     "metadata": {},
     "output_type": "display_data"
    }
   ],
   "source": [
    "#pie_chart_labels, pie_chart_values = query_total_piechart(INDEX, METRIC_NAME, METRIC_FIELD, \n",
    "#                                                            [filter_date_4y, filter_merges_addedlines,\n",
    "#                                                             filter_merges_removedlines, filter_bots])\n",
    "\n",
    "pie_chart_labels, pie_chart_values, pie_chart_count = query_total_piechart(INDEX, METRIC_NAME, METRIC_FIELD, \n",
    "                                                            [filter_date_4y, git_filter])\n",
    "\n",
    "draw_piechart(pie_chart_labels, pie_chart_values, 'Commits by Gender (last 4 years)')"
   ]
  },
  {
   "cell_type": "code",
   "execution_count": 33,
   "metadata": {},
   "outputs": [
    {
     "data": {
      "application/vnd.plotly.v1+json": {
       "data": [
        {
         "labels": [
          "male",
          "NotKnown",
          "female"
         ],
         "type": "pie",
         "values": [
          42473,
          20537,
          4325
         ]
        }
       ],
       "layout": {
        "title": "Commits by Gender (last year)"
       }
      },
      "text/html": [
       "<div id=\"d8f3511d-8ac5-4f68-ad11-dfe66cf5af3f\" style=\"height: 525px; width: 100%;\" class=\"plotly-graph-div\"></div><script type=\"text/javascript\">require([\"plotly\"], function(Plotly) { window.PLOTLYENV=window.PLOTLYENV || {};window.PLOTLYENV.BASE_URL=\"https://plot.ly\";Plotly.newPlot(\"d8f3511d-8ac5-4f68-ad11-dfe66cf5af3f\", [{\"labels\": [\"male\", \"NotKnown\", \"female\"], \"type\": \"pie\", \"values\": [42473, 20537, 4325]}], {\"title\": \"Commits by Gender (last year)\"}, {\"showLink\": true, \"linkText\": \"Export to plot.ly\"})});</script>"
      ],
      "text/vnd.plotly.v1+html": [
       "<div id=\"d8f3511d-8ac5-4f68-ad11-dfe66cf5af3f\" style=\"height: 525px; width: 100%;\" class=\"plotly-graph-div\"></div><script type=\"text/javascript\">require([\"plotly\"], function(Plotly) { window.PLOTLYENV=window.PLOTLYENV || {};window.PLOTLYENV.BASE_URL=\"https://plot.ly\";Plotly.newPlot(\"d8f3511d-8ac5-4f68-ad11-dfe66cf5af3f\", [{\"labels\": [\"male\", \"NotKnown\", \"female\"], \"type\": \"pie\", \"values\": [42473, 20537, 4325]}], {\"title\": \"Commits by Gender (last year)\"}, {\"showLink\": true, \"linkText\": \"Export to plot.ly\"})});</script>"
      ]
     },
     "metadata": {},
     "output_type": "display_data"
    }
   ],
   "source": [
    "#pie_chart_labels, pie_chart_values = query_total_piechart(INDEX, METRIC_NAME, METRIC_FIELD, \n",
    "#                                                            [filter_date_1y, filter_merges_addedlines,\n",
    "#                                                             filter_merges_removedlines, filter_bots])\n",
    "\n",
    "pie_chart_labels, pie_chart_values, pie_chart_count = query_total_piechart(INDEX, METRIC_NAME, METRIC_FIELD, \n",
    "                                                            [filter_date_1y, git_filter])\n",
    "\n",
    "draw_piechart(pie_chart_labels, pie_chart_values, 'Commits by Gender (last year)')"
   ]
  },
  {
   "cell_type": "markdown",
   "metadata": {},
   "source": [
    "\n",
    "* Evolution and trends [per quarter] of developers over time by gender\n",
    "  * Developers by gender (columns: name, uuid, gender)"
   ]
  },
  {
   "cell_type": "code",
   "execution_count": 34,
   "metadata": {},
   "outputs": [
    {
     "data": {
      "application/vnd.plotly.v1+json": {
       "data": [
        {
         "name": "female",
         "type": "scatter",
         "x": [
          "2013-10-01T00:00:00.000Z",
          "2014-01-01T00:00:00.000Z",
          "2014-04-01T00:00:00.000Z",
          "2014-07-01T00:00:00.000Z",
          "2014-10-01T00:00:00.000Z",
          "2015-01-01T00:00:00.000Z",
          "2015-04-01T00:00:00.000Z",
          "2015-07-01T00:00:00.000Z",
          "2015-10-01T00:00:00.000Z",
          "2016-01-01T00:00:00.000Z",
          "2016-04-01T00:00:00.000Z",
          "2016-07-01T00:00:00.000Z",
          "2016-10-01T00:00:00.000Z",
          "2017-01-01T00:00:00.000Z",
          "2017-04-01T00:00:00.000Z",
          "2017-07-01T00:00:00.000Z"
         ],
         "y": [
          90,
          123,
          125,
          163,
          140,
          183,
          168,
          221,
          205,
          263,
          230,
          216,
          179,
          159,
          89,
          72
         ]
        },
        {
         "name": "male",
         "type": "scatter",
         "x": [
          "2013-10-01T00:00:00.000Z",
          "2014-01-01T00:00:00.000Z",
          "2014-04-01T00:00:00.000Z",
          "2014-07-01T00:00:00.000Z",
          "2014-10-01T00:00:00.000Z",
          "2015-01-01T00:00:00.000Z",
          "2015-04-01T00:00:00.000Z",
          "2015-07-01T00:00:00.000Z",
          "2015-10-01T00:00:00.000Z",
          "2016-01-01T00:00:00.000Z",
          "2016-04-01T00:00:00.000Z",
          "2016-07-01T00:00:00.000Z",
          "2016-10-01T00:00:00.000Z",
          "2017-01-01T00:00:00.000Z",
          "2017-04-01T00:00:00.000Z",
          "2017-07-01T00:00:00.000Z"
         ],
         "y": [
          809,
          1011,
          1052,
          1137,
          1121,
          1268,
          1259,
          1431,
          1311,
          1483,
          1398,
          1391,
          1135,
          987,
          660,
          473
         ]
        },
        {
         "name": "unknown",
         "type": "scatter",
         "x": [
          "2013-10-01T00:00:00.000Z",
          "2014-01-01T00:00:00.000Z",
          "2014-04-01T00:00:00.000Z",
          "2014-07-01T00:00:00.000Z",
          "2014-10-01T00:00:00.000Z",
          "2015-01-01T00:00:00.000Z",
          "2015-04-01T00:00:00.000Z",
          "2015-07-01T00:00:00.000Z",
          "2015-10-01T00:00:00.000Z",
          "2016-01-01T00:00:00.000Z",
          "2016-04-01T00:00:00.000Z",
          "2016-07-01T00:00:00.000Z",
          "2016-10-01T00:00:00.000Z",
          "2017-01-01T00:00:00.000Z",
          "2017-04-01T00:00:00.000Z",
          "2017-07-01T00:00:00.000Z"
         ],
         "y": [
          242,
          249,
          256,
          279,
          256,
          330,
          324,
          416,
          384,
          456,
          436,
          494,
          407,
          411,
          277,
          213
         ]
        }
       ],
       "layout": {}
      },
      "text/html": [
       "<div id=\"4cbf7e66-3440-4555-aa0e-013d1009b0a3\" style=\"height: 525px; width: 100%;\" class=\"plotly-graph-div\"></div><script type=\"text/javascript\">require([\"plotly\"], function(Plotly) { window.PLOTLYENV=window.PLOTLYENV || {};window.PLOTLYENV.BASE_URL=\"https://plot.ly\";Plotly.newPlot(\"4cbf7e66-3440-4555-aa0e-013d1009b0a3\", [{\"name\": \"female\", \"x\": [\"2013-10-01T00:00:00.000Z\", \"2014-01-01T00:00:00.000Z\", \"2014-04-01T00:00:00.000Z\", \"2014-07-01T00:00:00.000Z\", \"2014-10-01T00:00:00.000Z\", \"2015-01-01T00:00:00.000Z\", \"2015-04-01T00:00:00.000Z\", \"2015-07-01T00:00:00.000Z\", \"2015-10-01T00:00:00.000Z\", \"2016-01-01T00:00:00.000Z\", \"2016-04-01T00:00:00.000Z\", \"2016-07-01T00:00:00.000Z\", \"2016-10-01T00:00:00.000Z\", \"2017-01-01T00:00:00.000Z\", \"2017-04-01T00:00:00.000Z\", \"2017-07-01T00:00:00.000Z\"], \"type\": \"scatter\", \"y\": [90, 123, 125, 163, 140, 183, 168, 221, 205, 263, 230, 216, 179, 159, 89, 72]}, {\"name\": \"male\", \"x\": [\"2013-10-01T00:00:00.000Z\", \"2014-01-01T00:00:00.000Z\", \"2014-04-01T00:00:00.000Z\", \"2014-07-01T00:00:00.000Z\", \"2014-10-01T00:00:00.000Z\", \"2015-01-01T00:00:00.000Z\", \"2015-04-01T00:00:00.000Z\", \"2015-07-01T00:00:00.000Z\", \"2015-10-01T00:00:00.000Z\", \"2016-01-01T00:00:00.000Z\", \"2016-04-01T00:00:00.000Z\", \"2016-07-01T00:00:00.000Z\", \"2016-10-01T00:00:00.000Z\", \"2017-01-01T00:00:00.000Z\", \"2017-04-01T00:00:00.000Z\", \"2017-07-01T00:00:00.000Z\"], \"type\": \"scatter\", \"y\": [809, 1011, 1052, 1137, 1121, 1268, 1259, 1431, 1311, 1483, 1398, 1391, 1135, 987, 660, 473]}, {\"name\": \"unknown\", \"x\": [\"2013-10-01T00:00:00.000Z\", \"2014-01-01T00:00:00.000Z\", \"2014-04-01T00:00:00.000Z\", \"2014-07-01T00:00:00.000Z\", \"2014-10-01T00:00:00.000Z\", \"2015-01-01T00:00:00.000Z\", \"2015-04-01T00:00:00.000Z\", \"2015-07-01T00:00:00.000Z\", \"2015-10-01T00:00:00.000Z\", \"2016-01-01T00:00:00.000Z\", \"2016-04-01T00:00:00.000Z\", \"2016-07-01T00:00:00.000Z\", \"2016-10-01T00:00:00.000Z\", \"2017-01-01T00:00:00.000Z\", \"2017-04-01T00:00:00.000Z\", \"2017-07-01T00:00:00.000Z\"], \"type\": \"scatter\", \"y\": [242, 249, 256, 279, 256, 330, 324, 416, 384, 456, 436, 494, 407, 411, 277, 213]}], {}, {\"showLink\": true, \"linkText\": \"Export to plot.ly\"})});</script>"
      ],
      "text/vnd.plotly.v1+html": [
       "<div id=\"4cbf7e66-3440-4555-aa0e-013d1009b0a3\" style=\"height: 525px; width: 100%;\" class=\"plotly-graph-div\"></div><script type=\"text/javascript\">require([\"plotly\"], function(Plotly) { window.PLOTLYENV=window.PLOTLYENV || {};window.PLOTLYENV.BASE_URL=\"https://plot.ly\";Plotly.newPlot(\"4cbf7e66-3440-4555-aa0e-013d1009b0a3\", [{\"name\": \"female\", \"x\": [\"2013-10-01T00:00:00.000Z\", \"2014-01-01T00:00:00.000Z\", \"2014-04-01T00:00:00.000Z\", \"2014-07-01T00:00:00.000Z\", \"2014-10-01T00:00:00.000Z\", \"2015-01-01T00:00:00.000Z\", \"2015-04-01T00:00:00.000Z\", \"2015-07-01T00:00:00.000Z\", \"2015-10-01T00:00:00.000Z\", \"2016-01-01T00:00:00.000Z\", \"2016-04-01T00:00:00.000Z\", \"2016-07-01T00:00:00.000Z\", \"2016-10-01T00:00:00.000Z\", \"2017-01-01T00:00:00.000Z\", \"2017-04-01T00:00:00.000Z\", \"2017-07-01T00:00:00.000Z\"], \"type\": \"scatter\", \"y\": [90, 123, 125, 163, 140, 183, 168, 221, 205, 263, 230, 216, 179, 159, 89, 72]}, {\"name\": \"male\", \"x\": [\"2013-10-01T00:00:00.000Z\", \"2014-01-01T00:00:00.000Z\", \"2014-04-01T00:00:00.000Z\", \"2014-07-01T00:00:00.000Z\", \"2014-10-01T00:00:00.000Z\", \"2015-01-01T00:00:00.000Z\", \"2015-04-01T00:00:00.000Z\", \"2015-07-01T00:00:00.000Z\", \"2015-10-01T00:00:00.000Z\", \"2016-01-01T00:00:00.000Z\", \"2016-04-01T00:00:00.000Z\", \"2016-07-01T00:00:00.000Z\", \"2016-10-01T00:00:00.000Z\", \"2017-01-01T00:00:00.000Z\", \"2017-04-01T00:00:00.000Z\", \"2017-07-01T00:00:00.000Z\"], \"type\": \"scatter\", \"y\": [809, 1011, 1052, 1137, 1121, 1268, 1259, 1431, 1311, 1483, 1398, 1391, 1135, 987, 660, 473]}, {\"name\": \"unknown\", \"x\": [\"2013-10-01T00:00:00.000Z\", \"2014-01-01T00:00:00.000Z\", \"2014-04-01T00:00:00.000Z\", \"2014-07-01T00:00:00.000Z\", \"2014-10-01T00:00:00.000Z\", \"2015-01-01T00:00:00.000Z\", \"2015-04-01T00:00:00.000Z\", \"2015-07-01T00:00:00.000Z\", \"2015-10-01T00:00:00.000Z\", \"2016-01-01T00:00:00.000Z\", \"2016-04-01T00:00:00.000Z\", \"2016-07-01T00:00:00.000Z\", \"2016-10-01T00:00:00.000Z\", \"2017-01-01T00:00:00.000Z\", \"2017-04-01T00:00:00.000Z\", \"2017-07-01T00:00:00.000Z\"], \"type\": \"scatter\", \"y\": [242, 249, 256, 279, 256, 330, 324, 416, 384, 456, 436, 494, 407, 411, 277, 213]}], {}, {\"showLink\": true, \"linkText\": \"Export to plot.ly\"})});</script>"
      ]
     },
     "metadata": {},
     "output_type": "display_data"
    }
   ],
   "source": [
    "METRIC_NAME = \"authors\"\n",
    "METRIC_FIELD = \"uuid\"\n",
    "\n",
    "df = query_metric_over_time(INDEX, METRIC_NAME, METRIC_FIELD, [filter_date_4y, git_filter])\n",
    "\n",
    "draw_evolutionary_chart(\"key_as_string\", METRIC_NAME)"
   ]
  },
  {
   "cell_type": "code",
   "execution_count": 35,
   "metadata": {},
   "outputs": [
    {
     "data": {
      "application/vnd.plotly.v1+json": {
       "data": [
        {
         "labels": [
          "male",
          "NotKnown",
          "female"
         ],
         "type": "pie",
         "values": [
          5418,
          2353,
          864
         ]
        }
       ],
       "layout": {
        "title": "Authors by Gender (last 4 years)"
       }
      },
      "text/html": [
       "<div id=\"4083357f-644b-431a-9a20-287b952d4248\" style=\"height: 525px; width: 100%;\" class=\"plotly-graph-div\"></div><script type=\"text/javascript\">require([\"plotly\"], function(Plotly) { window.PLOTLYENV=window.PLOTLYENV || {};window.PLOTLYENV.BASE_URL=\"https://plot.ly\";Plotly.newPlot(\"4083357f-644b-431a-9a20-287b952d4248\", [{\"labels\": [\"male\", \"NotKnown\", \"female\"], \"type\": \"pie\", \"values\": [5418, 2353, 864]}], {\"title\": \"Authors by Gender (last 4 years)\"}, {\"showLink\": true, \"linkText\": \"Export to plot.ly\"})});</script>"
      ],
      "text/vnd.plotly.v1+html": [
       "<div id=\"4083357f-644b-431a-9a20-287b952d4248\" style=\"height: 525px; width: 100%;\" class=\"plotly-graph-div\"></div><script type=\"text/javascript\">require([\"plotly\"], function(Plotly) { window.PLOTLYENV=window.PLOTLYENV || {};window.PLOTLYENV.BASE_URL=\"https://plot.ly\";Plotly.newPlot(\"4083357f-644b-431a-9a20-287b952d4248\", [{\"labels\": [\"male\", \"NotKnown\", \"female\"], \"type\": \"pie\", \"values\": [5418, 2353, 864]}], {\"title\": \"Authors by Gender (last 4 years)\"}, {\"showLink\": true, \"linkText\": \"Export to plot.ly\"})});</script>"
      ]
     },
     "metadata": {},
     "output_type": "display_data"
    }
   ],
   "source": [
    "pie_chart_labels, pie_chart_values, pie_chart_count = query_total_piechart(INDEX, METRIC_NAME, METRIC_FIELD, \n",
    "                                                            [filter_date_4y, git_filter])\n",
    "draw_piechart(pie_chart_labels, pie_chart_values, 'Authors by Gender (last 4 years)')"
   ]
  },
  {
   "cell_type": "code",
   "execution_count": 36,
   "metadata": {},
   "outputs": [
    {
     "data": {
      "application/vnd.plotly.v1+json": {
       "data": [
        {
         "labels": [
          "male",
          "NotKnown",
          "female"
         ],
         "type": "pie",
         "values": [
          1697,
          750,
          268
         ]
        }
       ],
       "layout": {
        "title": "Authors by Gender (last year)"
       }
      },
      "text/html": [
       "<div id=\"4f3cf0a2-2b50-4549-b0c5-85e664a19fe0\" style=\"height: 525px; width: 100%;\" class=\"plotly-graph-div\"></div><script type=\"text/javascript\">require([\"plotly\"], function(Plotly) { window.PLOTLYENV=window.PLOTLYENV || {};window.PLOTLYENV.BASE_URL=\"https://plot.ly\";Plotly.newPlot(\"4f3cf0a2-2b50-4549-b0c5-85e664a19fe0\", [{\"labels\": [\"male\", \"NotKnown\", \"female\"], \"type\": \"pie\", \"values\": [1697, 750, 268]}], {\"title\": \"Authors by Gender (last year)\"}, {\"showLink\": true, \"linkText\": \"Export to plot.ly\"})});</script>"
      ],
      "text/vnd.plotly.v1+html": [
       "<div id=\"4f3cf0a2-2b50-4549-b0c5-85e664a19fe0\" style=\"height: 525px; width: 100%;\" class=\"plotly-graph-div\"></div><script type=\"text/javascript\">require([\"plotly\"], function(Plotly) { window.PLOTLYENV=window.PLOTLYENV || {};window.PLOTLYENV.BASE_URL=\"https://plot.ly\";Plotly.newPlot(\"4f3cf0a2-2b50-4549-b0c5-85e664a19fe0\", [{\"labels\": [\"male\", \"NotKnown\", \"female\"], \"type\": \"pie\", \"values\": [1697, 750, 268]}], {\"title\": \"Authors by Gender (last year)\"}, {\"showLink\": true, \"linkText\": \"Export to plot.ly\"})});</script>"
      ]
     },
     "metadata": {},
     "output_type": "display_data"
    }
   ],
   "source": [
    "pie_chart_labels, pie_chart_values, pie_chart_count = query_total_piechart(INDEX, METRIC_NAME, METRIC_FIELD, \n",
    "                                                            [filter_date_1y, git_filter])\n",
    "draw_piechart(pie_chart_labels, pie_chart_values, 'Authors by Gender (last year)')"
   ]
  },
  {
   "cell_type": "markdown",
   "metadata": {},
   "source": [
    "# Top Projects by women activity and women population"
   ]
  },
  {
   "cell_type": "code",
   "execution_count": 37,
   "metadata": {
    "collapsed": true
   },
   "outputs": [],
   "source": [
    "METRIC_NAME = \"commits\"\n",
    "METRIC_FIELD = \"id\"\n",
    "\n",
    "filters = [filter_date_4y, git_filter]\n",
    "\n",
    "s = Search(using=es_conn, index=INDEX)  # Index selection\n",
    "for filtering in filters:\n",
    "    s = s.filter(filtering)\n",
    "s.aggs.bucket('project', 'terms', field='projects', size=1000)\\\n",
    "      .bucket('gender', 'terms', field='gender')\\\n",
    "      .metric(METRIC_NAME, 'cardinality', field=METRIC_FIELD, precision_threshold=10000)\\\n",
    "      .metric('authors', 'cardinality', field='uuid')\n",
    "result = s.execute()\n",
    "\n",
    "values = result.to_dict()"
   ]
  },
  {
   "cell_type": "code",
   "execution_count": 38,
   "metadata": {},
   "outputs": [
    {
     "name": "stdout",
     "output_type": "stream",
     "text": [
      "[{'doc_count': 202536, 'gender': {'doc_count_error_upper_bound': 0, 'sum_other_doc_count': 0, 'buckets': [{'authors': {'value': 3981}, 'doc_count': 140299, 'key': 'male', 'commits': {'value': 129770}}, {'authors': {'value': 1757}, 'doc_count': 49149, 'key': 'NotKnown', 'commits': {'value': 45003}}, {'authors': {'value': 587}, 'doc_count': 13088, 'key': 'female', 'commits': {'value': 11950}}]}, 'key': 'Packaging-deb'}, {'doc_count': 52713, 'gender': {'doc_count_error_upper_bound': 0, 'sum_other_doc_count': 0, 'buckets': [{'authors': {'value': 1229}, 'doc_count': 46607, 'key': 'male', 'commits': {'value': 45262}}, {'authors': {'value': 283}, 'doc_count': 3293, 'key': 'NotKnown', 'commits': {'value': 3100}}, {'authors': {'value': 145}, 'doc_count': 2813, 'key': 'female', 'commits': {'value': 2638}}]}, 'key': 'Infrastructure'}, {'doc_count': 41606, 'gender': {'doc_count_error_upper_bound': 0, 'sum_other_doc_count': 0, 'buckets': [{'authors': {'value': 888}, 'doc_count': 30536, 'key': 'male', 'commits': {'value': 28813}}, {'authors': {'value': 332}, 'doc_count': 6864, 'key': 'NotKnown', 'commits': {'value': 6605}}, {'authors': {'value': 149}, 'doc_count': 4206, 'key': 'female', 'commits': {'value': 4150}}]}, 'key': 'notavailable'}, {'doc_count': 21365, 'gender': {'doc_count_error_upper_bound': 0, 'sum_other_doc_count': 0, 'buckets': [{'authors': {'value': 109}, 'doc_count': 18516, 'key': 'male', 'commits': {'value': 17488}}, {'authors': {'value': 31}, 'doc_count': 2178, 'key': 'NotKnown', 'commits': {'value': 2108}}, {'authors': {'value': 8}, 'doc_count': 671, 'key': 'female', 'commits': {'value': 637}}]}, 'key': 'OpenStack Charms'}, {'doc_count': 19176, 'gender': {'doc_count_error_upper_bound': 0, 'sum_other_doc_count': 0, 'buckets': [{'authors': {'value': 555}, 'doc_count': 12866, 'key': 'male', 'commits': {'value': 10141}}, {'authors': {'value': 264}, 'doc_count': 5322, 'key': 'NotKnown', 'commits': {'value': 4102}}, {'authors': {'value': 89}, 'doc_count': 988, 'key': 'female', 'commits': {'value': 706}}]}, 'key': 'neutron'}, {'doc_count': 16169, 'gender': {'doc_count_error_upper_bound': 0, 'sum_other_doc_count': 0, 'buckets': [{'authors': {'value': 174}, 'doc_count': 13121, 'key': 'male', 'commits': {'value': 11776}}, {'authors': {'value': 58}, 'doc_count': 2669, 'key': 'NotKnown', 'commits': {'value': 1990}}, {'authors': {'value': 26}, 'doc_count': 379, 'key': 'female', 'commits': {'value': 350}}]}, 'key': 'OpenStackAnsible'}, {'doc_count': 14308, 'gender': {'doc_count_error_upper_bound': 0, 'sum_other_doc_count': 0, 'buckets': [{'authors': {'value': 599}, 'doc_count': 10394, 'key': 'male', 'commits': {'value': 10306}}, {'authors': {'value': 298}, 'doc_count': 3143, 'key': 'NotKnown', 'commits': {'value': 3104}}, {'authors': {'value': 97}, 'doc_count': 771, 'key': 'female', 'commits': {'value': 766}}]}, 'key': 'nova'}, {'doc_count': 13528, 'gender': {'doc_count_error_upper_bound': 0, 'sum_other_doc_count': 0, 'buckets': [{'authors': {'value': 543}, 'doc_count': 6932, 'key': 'male', 'commits': {'value': 6788}}, {'authors': {'value': 253}, 'doc_count': 4311, 'key': 'NotKnown', 'commits': {'value': 4257}}, {'authors': {'value': 119}, 'doc_count': 2285, 'key': 'female', 'commits': {'value': 2266}}]}, 'key': 'Documentation'}, {'doc_count': 13449, 'gender': {'doc_count_error_upper_bound': 0, 'sum_other_doc_count': 0, 'buckets': [{'authors': {'value': 276}, 'doc_count': 12126, 'key': 'male', 'commits': {'value': 11797}}, {'authors': {'value': 72}, 'doc_count': 709, 'key': 'NotKnown', 'commits': {'value': 644}}, {'authors': {'value': 35}, 'doc_count': 614, 'key': 'female', 'commits': {'value': 596}}]}, 'key': 'tripleo'}, {'doc_count': 11158, 'gender': {'doc_count_error_upper_bound': 0, 'sum_other_doc_count': 0, 'buckets': [{'authors': {'value': 332}, 'doc_count': 8211, 'key': 'male', 'commits': {'value': 7973}}, {'authors': {'value': 85}, 'doc_count': 2077, 'key': 'NotKnown', 'commits': {'value': 1860}}, {'authors': {'value': 32}, 'doc_count': 870, 'key': 'female', 'commits': {'value': 868}}]}, 'key': 'Puppet OpenStack'}, {'doc_count': 9815, 'gender': {'doc_count_error_upper_bound': 0, 'sum_other_doc_count': 0, 'buckets': [{'authors': {'value': 634}, 'doc_count': 7129, 'key': 'male', 'commits': {'value': 6930}}, {'authors': {'value': 231}, 'doc_count': 2097, 'key': 'NotKnown', 'commits': {'value': 2051}}, {'authors': {'value': 89}, 'doc_count': 589, 'key': 'female', 'commits': {'value': 577}}]}, 'key': 'Quality Assurance'}, {'doc_count': 9464, 'gender': {'doc_count_error_upper_bound': 0, 'sum_other_doc_count': 0, 'buckets': [{'authors': {'value': 289}, 'doc_count': 5381, 'key': 'male', 'commits': {'value': 5336}}, {'authors': {'value': 138}, 'doc_count': 2698, 'key': 'NotKnown', 'commits': {'value': 2604}}, {'authors': {'value': 43}, 'doc_count': 1385, 'key': 'female', 'commits': {'value': 1341}}]}, 'key': 'ironic'}, {'doc_count': 8866, 'gender': {'doc_count_error_upper_bound': 0, 'sum_other_doc_count': 0, 'buckets': [{'authors': {'value': 396}, 'doc_count': 5303, 'key': 'male', 'commits': {'value': 5219}}, {'authors': {'value': 161}, 'doc_count': 3317, 'key': 'NotKnown', 'commits': {'value': 3136}}, {'authors': {'value': 52}, 'doc_count': 246, 'key': 'female', 'commits': {'value': 244}}]}, 'key': 'oslo'}, {'doc_count': 8180, 'gender': {'doc_count_error_upper_bound': 0, 'sum_other_doc_count': 0, 'buckets': [{'authors': {'value': 311}, 'doc_count': 5665, 'key': 'male', 'commits': {'value': 5550}}, {'authors': {'value': 151}, 'doc_count': 2304, 'key': 'NotKnown', 'commits': {'value': 2168}}, {'authors': {'value': 51}, 'doc_count': 211, 'key': 'female', 'commits': {'value': 206}}]}, 'key': 'heat'}, {'doc_count': 7736, 'gender': {'doc_count_error_upper_bound': 0, 'sum_other_doc_count': 0, 'buckets': [{'authors': {'value': 288}, 'doc_count': 5387, 'key': 'male', 'commits': {'value': 5340}}, {'authors': {'value': 148}, 'doc_count': 1774, 'key': 'NotKnown', 'commits': {'value': 1747}}, {'authors': {'value': 52}, 'doc_count': 575, 'key': 'female', 'commits': {'value': 572}}]}, 'key': 'keystone'}, {'doc_count': 7645, 'gender': {'doc_count_error_upper_bound': 0, 'sum_other_doc_count': 0, 'buckets': [{'authors': {'value': 225}, 'doc_count': 5209, 'key': 'male', 'commits': {'value': 2948}}, {'authors': {'value': 166}, 'doc_count': 1962, 'key': 'NotKnown', 'commits': {'value': 1228}}, {'authors': {'value': 51}, 'doc_count': 474, 'key': 'female', 'commits': {'value': 224}}]}, 'key': 'Telemetry'}, {'doc_count': 7225, 'gender': {'doc_count_error_upper_bound': 0, 'sum_other_doc_count': 0, 'buckets': [{'authors': {'value': 465}, 'doc_count': 4810, 'key': 'male', 'commits': {'value': 4764}}, {'authors': {'value': 279}, 'doc_count': 1921, 'key': 'NotKnown', 'commits': {'value': 1877}}, {'authors': {'value': 69}, 'doc_count': 494, 'key': 'female', 'commits': {'value': 489}}]}, 'key': 'cinder'}, {'doc_count': 6950, 'gender': {'doc_count_error_upper_bound': 0, 'sum_other_doc_count': 0, 'buckets': [{'authors': {'value': 203}, 'doc_count': 5207, 'key': 'male', 'commits': {'value': 3646}}, {'authors': {'value': 115}, 'doc_count': 1536, 'key': 'NotKnown', 'commits': {'value': 1077}}, {'authors': {'value': 31}, 'doc_count': 207, 'key': 'female', 'commits': {'value': 141}}]}, 'key': 'kolla'}, {'doc_count': 6498, 'gender': {'doc_count_error_upper_bound': 0, 'sum_other_doc_count': 0, 'buckets': [{'authors': {'value': 354}, 'doc_count': 3394, 'key': 'male', 'commits': {'value': 3361}}, {'authors': {'value': 166}, 'doc_count': 2315, 'key': 'NotKnown', 'commits': {'value': 2256}}, {'authors': {'value': 83}, 'doc_count': 789, 'key': 'female', 'commits': {'value': 780}}]}, 'key': 'horizon'}, {'doc_count': 5449, 'gender': {'doc_count_error_upper_bound': 0, 'sum_other_doc_count': 0, 'buckets': [{'authors': {'value': 65}, 'doc_count': 4918, 'key': 'NotKnown', 'commits': {'value': 4856}}, {'authors': {'value': 51}, 'doc_count': 318, 'key': 'male', 'commits': {'value': 314}}, {'authors': {'value': 18}, 'doc_count': 213, 'key': 'female', 'commits': {'value': 201}}]}, 'key': 'senlin'}, {'doc_count': 5011, 'gender': {'doc_count_error_upper_bound': 0, 'sum_other_doc_count': 0, 'buckets': [{'authors': {'value': 149}, 'doc_count': 2860, 'key': 'male', 'commits': {'value': 2838}}, {'authors': {'value': 99}, 'doc_count': 1303, 'key': 'NotKnown', 'commits': {'value': 1245}}, {'authors': {'value': 35}, 'doc_count': 848, 'key': 'female', 'commits': {'value': 844}}]}, 'key': 'murano'}, {'doc_count': 4677, 'gender': {'doc_count_error_upper_bound': 0, 'sum_other_doc_count': 0, 'buckets': [{'authors': {'value': 314}, 'doc_count': 2959, 'key': 'male', 'commits': {'value': 2867}}, {'authors': {'value': 130}, 'doc_count': 1460, 'key': 'NotKnown', 'commits': {'value': 1408}}, {'authors': {'value': 40}, 'doc_count': 258, 'key': 'female', 'commits': {'value': 250}}]}, 'key': 'octavia'}, {'doc_count': 4634, 'gender': {'doc_count_error_upper_bound': 0, 'sum_other_doc_count': 0, 'buckets': [{'authors': {'value': 135}, 'doc_count': 3772, 'key': 'male', 'commits': {'value': 3602}}, {'authors': {'value': 79}, 'doc_count': 682, 'key': 'NotKnown', 'commits': {'value': 640}}, {'authors': {'value': 21}, 'doc_count': 180, 'key': 'female', 'commits': {'value': 179}}]}, 'key': 'monasca'}, {'doc_count': 4460, 'gender': {'doc_count_error_upper_bound': 0, 'sum_other_doc_count': 0, 'buckets': [{'authors': {'value': 155}, 'doc_count': 3222, 'key': 'male', 'commits': {'value': 3172}}, {'authors': {'value': 96}, 'doc_count': 1029, 'key': 'NotKnown', 'commits': {'value': 979}}, {'authors': {'value': 25}, 'doc_count': 209, 'key': 'female', 'commits': {'value': 201}}]}, 'key': 'sahara'}, {'doc_count': 3660, 'gender': {'doc_count_error_upper_bound': 0, 'sum_other_doc_count': 0, 'buckets': [{'authors': {'value': 161}, 'doc_count': 3329, 'key': 'male', 'commits': {'value': 3186}}, {'authors': {'value': 42}, 'doc_count': 271, 'key': 'NotKnown', 'commits': {'value': 253}}, {'authors': {'value': 19}, 'doc_count': 60, 'key': 'female', 'commits': {'value': 58}}]}, 'key': 'Release Management'}, {'doc_count': 3460, 'gender': {'doc_count_error_upper_bound': 0, 'sum_other_doc_count': 0, 'buckets': [{'authors': {'value': 316}, 'doc_count': 2086, 'key': 'male', 'commits': {'value': 2054}}, {'authors': {'value': 77}, 'doc_count': 1268, 'key': 'NotKnown', 'commits': {'value': 1173}}, {'authors': {'value': 40}, 'doc_count': 106, 'key': 'female', 'commits': {'value': 103}}]}, 'key': 'requirements'}, {'doc_count': 3423, 'gender': {'doc_count_error_upper_bound': 0, 'sum_other_doc_count': 0, 'buckets': [{'authors': {'value': 183}, 'doc_count': 1867, 'key': 'male', 'commits': {'value': 1835}}, {'authors': {'value': 105}, 'doc_count': 1169, 'key': 'NotKnown', 'commits': {'value': 1140}}, {'authors': {'value': 37}, 'doc_count': 387, 'key': 'female', 'commits': {'value': 386}}]}, 'key': 'OpenStackClient'}, {'doc_count': 3190, 'gender': {'doc_count_error_upper_bound': 0, 'sum_other_doc_count': 0, 'buckets': [{'authors': {'value': 151}, 'doc_count': 1920, 'key': 'male', 'commits': {'value': 1889}}, {'authors': {'value': 99}, 'doc_count': 1054, 'key': 'NotKnown', 'commits': {'value': 995}}, {'authors': {'value': 25}, 'doc_count': 216, 'key': 'female', 'commits': {'value': 215}}]}, 'key': 'manila'}, {'doc_count': 3169, 'gender': {'doc_count_error_upper_bound': 0, 'sum_other_doc_count': 0, 'buckets': [{'authors': {'value': 144}, 'doc_count': 1489, 'key': 'male', 'commits': {'value': 1467}}, {'authors': {'value': 99}, 'doc_count': 1338, 'key': 'NotKnown', 'commits': {'value': 1305}}, {'authors': {'value': 27}, 'doc_count': 342, 'key': 'female', 'commits': {'value': 334}}]}, 'key': 'magnum'}, {'doc_count': 3115, 'gender': {'doc_count_error_upper_bound': 0, 'sum_other_doc_count': 0, 'buckets': [{'authors': {'value': 245}, 'doc_count': 2013, 'key': 'male', 'commits': {'value': 1985}}, {'authors': {'value': 126}, 'doc_count': 885, 'key': 'NotKnown', 'commits': {'value': 858}}, {'authors': {'value': 49}, 'doc_count': 217, 'key': 'female', 'commits': {'value': 217}}]}, 'key': 'glance'}, {'doc_count': 3026, 'gender': {'doc_count_error_upper_bound': 0, 'sum_other_doc_count': 0, 'buckets': [{'authors': {'value': 203}, 'doc_count': 2159, 'key': 'male', 'commits': {'value': 2113}}, {'authors': {'value': 127}, 'doc_count': 669, 'key': 'NotKnown', 'commits': {'value': 655}}, {'authors': {'value': 32}, 'doc_count': 198, 'key': 'female', 'commits': {'value': 191}}]}, 'key': 'rally'}, {'doc_count': 2935, 'gender': {'doc_count_error_upper_bound': 0, 'sum_other_doc_count': 0, 'buckets': [{'authors': {'value': 192}, 'doc_count': 2371, 'key': 'male', 'commits': {'value': 2335}}, {'authors': {'value': 81}, 'doc_count': 359, 'key': 'NotKnown', 'commits': {'value': 352}}, {'authors': {'value': 35}, 'doc_count': 205, 'key': 'female', 'commits': {'value': 202}}]}, 'key': 'swift'}, {'doc_count': 2623, 'gender': {'doc_count_error_upper_bound': 0, 'sum_other_doc_count': 0, 'buckets': [{'authors': {'value': 112}, 'doc_count': 1533, 'key': 'male', 'commits': {'value': 1528}}, {'authors': {'value': 61}, 'doc_count': 971, 'key': 'NotKnown', 'commits': {'value': 951}}, {'authors': {'value': 27}, 'doc_count': 119, 'key': 'female', 'commits': {'value': 119}}]}, 'key': 'Security'}, {'doc_count': 2514, 'gender': {'doc_count_error_upper_bound': 0, 'sum_other_doc_count': 0, 'buckets': [{'authors': {'value': 64}, 'doc_count': 1309, 'key': 'NotKnown', 'commits': {'value': 1288}}, {'authors': {'value': 123}, 'doc_count': 1147, 'key': 'male', 'commits': {'value': 1131}}, {'authors': {'value': 12}, 'doc_count': 58, 'key': 'female', 'commits': {'value': 58}}]}, 'key': 'designate'}, {'doc_count': 2437, 'gender': {'doc_count_error_upper_bound': 0, 'sum_other_doc_count': 0, 'buckets': [{'authors': {'value': 142}, 'doc_count': 1597, 'key': 'male', 'commits': {'value': 1594}}, {'authors': {'value': 86}, 'doc_count': 639, 'key': 'NotKnown', 'commits': {'value': 634}}, {'authors': {'value': 30}, 'doc_count': 201, 'key': 'female', 'commits': {'value': 201}}]}, 'key': 'trove'}, {'doc_count': 2392, 'gender': {'doc_count_error_upper_bound': 0, 'sum_other_doc_count': 0, 'buckets': [{'authors': {'value': 99}, 'doc_count': 1576, 'key': 'male', 'commits': {'value': 1521}}, {'authors': {'value': 57}, 'doc_count': 688, 'key': 'NotKnown', 'commits': {'value': 630}}, {'authors': {'value': 13}, 'doc_count': 128, 'key': 'female', 'commits': {'value': 127}}]}, 'key': 'mistral'}, {'doc_count': 2391, 'gender': {'doc_count_error_upper_bound': 0, 'sum_other_doc_count': 0, 'buckets': [{'authors': {'value': 87}, 'doc_count': 1960, 'key': 'male', 'commits': {'value': 1920}}, {'authors': {'value': 40}, 'doc_count': 382, 'key': 'NotKnown', 'commits': {'value': 381}}, {'authors': {'value': 17}, 'doc_count': 49, 'key': 'female', 'commits': {'value': 49}}]}, 'key': 'Chef OpenStack'}, {'doc_count': 1861, 'gender': {'doc_count_error_upper_bound': 0, 'sum_other_doc_count': 0, 'buckets': [{'authors': {'value': 129}, 'doc_count': 1229, 'key': 'male', 'commits': {'value': 1221}}, {'authors': {'value': 50}, 'doc_count': 521, 'key': 'NotKnown', 'commits': {'value': 511}}, {'authors': {'value': 26}, 'doc_count': 111, 'key': 'female', 'commits': {'value': 110}}]}, 'key': 'barbican'}, {'doc_count': 1745, 'gender': {'doc_count_error_upper_bound': 0, 'sum_other_doc_count': 0, 'buckets': [{'authors': {'value': 76}, 'doc_count': 1429, 'key': 'male', 'commits': {'value': 1209}}, {'authors': {'value': 24}, 'doc_count': 200, 'key': 'NotKnown', 'commits': {'value': 111}}, {'authors': {'value': 13}, 'doc_count': 116, 'key': 'female', 'commits': {'value': 103}}]}, 'key': 'shade'}, {'doc_count': 1709, 'gender': {'doc_count_error_upper_bound': 0, 'sum_other_doc_count': 0, 'buckets': [{'authors': {'value': 77}, 'doc_count': 1012, 'key': 'male', 'commits': {'value': 1004}}, {'authors': {'value': 48}, 'doc_count': 443, 'key': 'NotKnown', 'commits': {'value': 426}}, {'authors': {'value': 10}, 'doc_count': 254, 'key': 'female', 'commits': {'value': 251}}]}, 'key': 'congress'}, {'doc_count': 1663, 'gender': {'doc_count_error_upper_bound': 0, 'sum_other_doc_count': 0, 'buckets': [{'authors': {'value': 93}, 'doc_count': 840, 'key': 'male', 'commits': {'value': 836}}, {'authors': {'value': 67}, 'doc_count': 645, 'key': 'NotKnown', 'commits': {'value': 603}}, {'authors': {'value': 19}, 'doc_count': 178, 'key': 'female', 'commits': {'value': 173}}]}, 'key': 'zaqar'}, {'doc_count': 1628, 'gender': {'doc_count_error_upper_bound': 0, 'sum_other_doc_count': 0, 'buckets': [{'authors': {'value': 52}, 'doc_count': 831, 'key': 'male', 'commits': {'value': 829}}, {'authors': {'value': 39}, 'doc_count': 752, 'key': 'NotKnown', 'commits': {'value': 721}}, {'authors': {'value': 6}, 'doc_count': 45, 'key': 'female', 'commits': {'value': 45}}]}, 'key': 'solum'}, {'doc_count': 1569, 'gender': {'doc_count_error_upper_bound': 0, 'sum_other_doc_count': 0, 'buckets': [{'authors': {'value': 39}, 'doc_count': 994, 'key': 'male', 'commits': {'value': 960}}, {'authors': {'value': 38}, 'doc_count': 335, 'key': 'NotKnown', 'commits': {'value': 325}}, {'authors': {'value': 13}, 'doc_count': 240, 'key': 'female', 'commits': {'value': 237}}]}, 'key': 'dragonflow'}, {'doc_count': 1535, 'gender': {'doc_count_error_upper_bound': 0, 'sum_other_doc_count': 0, 'buckets': [{'authors': {'value': 31}, 'doc_count': 993, 'key': 'male', 'commits': {'value': 935}}, {'authors': {'value': 19}, 'doc_count': 512, 'key': 'NotKnown', 'commits': {'value': 439}}, {'authors': {'value': 2}, 'doc_count': 30, 'key': 'female', 'commits': {'value': 28}}]}, 'key': 'Packaging-rpm'}, {'doc_count': 1472, 'gender': {'doc_count_error_upper_bound': 0, 'sum_other_doc_count': 0, 'buckets': [{'authors': {'value': 118}, 'doc_count': 751, 'key': 'male', 'commits': {'value': 741}}, {'authors': {'value': 64}, 'doc_count': 568, 'key': 'NotKnown', 'commits': {'value': 542}}, {'authors': {'value': 28}, 'doc_count': 153, 'key': 'female', 'commits': {'value': 152}}]}, 'key': 'tacker'}, {'doc_count': 1267, 'gender': {'doc_count_error_upper_bound': 0, 'sum_other_doc_count': 0, 'buckets': [{'authors': {'value': 56}, 'doc_count': 916, 'key': 'male', 'commits': {'value': 889}}, {'authors': {'value': 50}, 'doc_count': 336, 'key': 'NotKnown', 'commits': {'value': 308}}, {'authors': {'value': 7}, 'doc_count': 15, 'key': 'female', 'commits': {'value': 14}}]}, 'key': 'freezer'}, {'doc_count': 1195, 'gender': {'doc_count_error_upper_bound': 0, 'sum_other_doc_count': 0, 'buckets': [{'authors': {'value': 26}, 'doc_count': 688, 'key': 'male', 'commits': {'value': 659}}, {'authors': {'value': 33}, 'doc_count': 289, 'key': 'NotKnown', 'commits': {'value': 270}}, {'authors': {'value': 12}, 'doc_count': 218, 'key': 'female', 'commits': {'value': 198}}]}, 'key': 'vitrage'}, {'doc_count': 1063, 'gender': {'doc_count_error_upper_bound': 0, 'sum_other_doc_count': 0, 'buckets': [{'authors': {'value': 49}, 'doc_count': 562, 'key': 'male', 'commits': {'value': 375}}, {'authors': {'value': 46}, 'doc_count': 348, 'key': 'NotKnown', 'commits': {'value': 297}}, {'authors': {'value': 10}, 'doc_count': 153, 'key': 'female', 'commits': {'value': 109}}]}, 'key': 'kuryr'}, {'doc_count': 966, 'gender': {'doc_count_error_upper_bound': 0, 'sum_other_doc_count': 0, 'buckets': [{'authors': {'value': 58}, 'doc_count': 501, 'key': 'male', 'commits': {'value': 480}}, {'authors': {'value': 65}, 'doc_count': 420, 'key': 'NotKnown', 'commits': {'value': 379}}, {'authors': {'value': 12}, 'doc_count': 45, 'key': 'female', 'commits': {'value': 44}}]}, 'key': 'watcher'}, {'doc_count': 886, 'gender': {'doc_count_error_upper_bound': 0, 'sum_other_doc_count': 0, 'buckets': [{'authors': {'value': 49}, 'doc_count': 467, 'key': 'NotKnown', 'commits': {'value': 398}}, {'authors': {'value': 33}, 'doc_count': 278, 'key': 'male', 'commits': {'value': 258}}, {'authors': {'value': 13}, 'doc_count': 141, 'key': 'female', 'commits': {'value': 132}}]}, 'key': 'zun'}, {'doc_count': 866, 'gender': {'doc_count_error_upper_bound': 0, 'sum_other_doc_count': 0, 'buckets': [{'authors': {'value': 54}, 'doc_count': 636, 'key': 'NotKnown', 'commits': {'value': 588}}, {'authors': {'value': 22}, 'doc_count': 218, 'key': 'male', 'commits': {'value': 201}}, {'authors': {'value': 8}, 'doc_count': 12, 'key': 'female', 'commits': {'value': 12}}]}, 'key': 'karbor'}, {'doc_count': 720, 'gender': {'doc_count_error_upper_bound': 0, 'sum_other_doc_count': 0, 'buckets': [{'authors': {'value': 17}, 'doc_count': 423, 'key': 'NotKnown', 'commits': {'value': 413}}, {'authors': {'value': 17}, 'doc_count': 292, 'key': 'male', 'commits': {'value': 288}}, {'authors': {'value': 2}, 'doc_count': 5, 'key': 'female', 'commits': {'value': 5}}]}, 'key': 'ec2-api'}, {'doc_count': 698, 'gender': {'doc_count_error_upper_bound': 0, 'sum_other_doc_count': 0, 'buckets': [{'authors': {'value': 42}, 'doc_count': 392, 'key': 'male', 'commits': {'value': 389}}, {'authors': {'value': 38}, 'doc_count': 271, 'key': 'NotKnown', 'commits': {'value': 252}}, {'authors': {'value': 7}, 'doc_count': 35, 'key': 'female', 'commits': {'value': 35}}]}, 'key': 'searchlight'}, {'doc_count': 609, 'gender': {'doc_count_error_upper_bound': 0, 'sum_other_doc_count': 0, 'buckets': [{'authors': {'value': 38}, 'doc_count': 487, 'key': 'male', 'commits': {'value': 461}}, {'authors': {'value': 14}, 'doc_count': 89, 'key': 'NotKnown', 'commits': {'value': 82}}, {'authors': {'value': 5}, 'doc_count': 33, 'key': 'female', 'commits': {'value': 33}}]}, 'key': 'winstackers'}, {'doc_count': 573, 'gender': {'doc_count_error_upper_bound': 0, 'sum_other_doc_count': 0, 'buckets': [{'authors': {'value': 37}, 'doc_count': 396, 'key': 'male', 'commits': {'value': 393}}, {'authors': {'value': 11}, 'doc_count': 105, 'key': 'NotKnown', 'commits': {'value': 105}}, {'authors': {'value': 7}, 'doc_count': 72, 'key': 'female', 'commits': {'value': 66}}]}, 'key': 'RefStack'}, {'doc_count': 530, 'gender': {'doc_count_error_upper_bound': 0, 'sum_other_doc_count': 0, 'buckets': [{'authors': {'value': 36}, 'doc_count': 326, 'key': 'male', 'commits': {'value': 321}}, {'authors': {'value': 38}, 'doc_count': 198, 'key': 'NotKnown', 'commits': {'value': 194}}, {'authors': {'value': 4}, 'doc_count': 6, 'key': 'female', 'commits': {'value': 6}}]}, 'key': 'cloudkitty'}, {'doc_count': 518, 'gender': {'doc_count_error_upper_bound': 0, 'sum_other_doc_count': 0, 'buckets': [{'authors': {'value': 35}, 'doc_count': 432, 'key': 'NotKnown', 'commits': {'value': 408}}, {'authors': {'value': 8}, 'doc_count': 46, 'key': 'female', 'commits': {'value': 44}}, {'authors': {'value': 12}, 'doc_count': 40, 'key': 'male', 'commits': {'value': 38}}]}, 'key': 'tricircle'}, {'doc_count': 400, 'gender': {'doc_count_error_upper_bound': 0, 'sum_other_doc_count': 0, 'buckets': [{'authors': {'value': 18}, 'doc_count': 293, 'key': 'male', 'commits': {'value': 291}}, {'authors': {'value': 4}, 'doc_count': 54, 'key': 'NotKnown', 'commits': {'value': 54}}, {'authors': {'value': 3}, 'doc_count': 53, 'key': 'female', 'commits': {'value': 53}}]}, 'key': 'storlets'}, {'doc_count': 217, 'gender': {'doc_count_error_upper_bound': 0, 'sum_other_doc_count': 0, 'buckets': [{'authors': {'value': 13}, 'doc_count': 112, 'key': 'male', 'commits': {'value': 107}}, {'authors': {'value': 16}, 'doc_count': 87, 'key': 'NotKnown', 'commits': {'value': 63}}, {'authors': {'value': 1}, 'doc_count': 18, 'key': 'female', 'commits': {'value': 18}}]}, 'key': 'I18n'}, {'doc_count': 160, 'gender': {'doc_count_error_upper_bound': 0, 'sum_other_doc_count': 0, 'buckets': [{'authors': {'value': 22}, 'doc_count': 104, 'key': 'male', 'commits': {'value': 57}}, {'authors': {'value': 6}, 'doc_count': 39, 'key': 'NotKnown', 'commits': {'value': 21}}, {'authors': {'value': 2}, 'doc_count': 17, 'key': 'female', 'commits': {'value': 9}}]}, 'key': 'blazar'}, {'doc_count': 8, 'gender': {'doc_count_error_upper_bound': 0, 'sum_other_doc_count': 0, 'buckets': [{'authors': {'value': 3}, 'doc_count': 5, 'key': 'NotKnown', 'commits': {'value': 5}}, {'authors': {'value': 3}, 'doc_count': 3, 'key': 'male', 'commits': {'value': 3}}]}, 'key': 'cyborg'}]\n"
     ]
    },
    {
     "ename": "TypeError",
     "evalue": "cannot convert the series to <class 'int'>",
     "output_type": "error",
     "traceback": [
      "\u001b[0;31m---------------------------------------------------------------------------\u001b[0m",
      "\u001b[0;31mTypeError\u001b[0m                                 Traceback (most recent call last)",
      "\u001b[0;32m<ipython-input-38-ded2b9823d5e>\u001b[0m in \u001b[0;36m<module>\u001b[0;34m()\u001b[0m\n\u001b[1;32m     14\u001b[0m \u001b[0;34m\u001b[0m\u001b[0m\n\u001b[1;32m     15\u001b[0m     \u001b[0mdf_summary2\u001b[0m\u001b[0;34m[\u001b[0m\u001b[0;34m\"project\"\u001b[0m\u001b[0;34m]\u001b[0m \u001b[0;34m=\u001b[0m \u001b[0;34m[\u001b[0m\u001b[0mi\u001b[0m\u001b[0;34m[\u001b[0m\u001b[0;34m\"key\"\u001b[0m\u001b[0;34m]\u001b[0m\u001b[0;34m]\u001b[0m\u001b[0;34m\u001b[0m\u001b[0m\n\u001b[0;32m---> 16\u001b[0;31m     \u001b[0mdf_summary2\u001b[0m\u001b[0;34m[\u001b[0m\u001b[0;34m\"commits\"\u001b[0m\u001b[0;34m]\u001b[0m \u001b[0;34m=\u001b[0m \u001b[0;34m[\u001b[0m\u001b[0mint\u001b[0m\u001b[0;34m(\u001b[0m\u001b[0mdf2\u001b[0m\u001b[0;34m[\u001b[0m\u001b[0mdf2\u001b[0m\u001b[0;34m[\u001b[0m\u001b[0;34m\"key\"\u001b[0m\u001b[0;34m]\u001b[0m\u001b[0;34m==\u001b[0m\u001b[0;34m\"female\"\u001b[0m\u001b[0;34m]\u001b[0m\u001b[0;34m[\u001b[0m\u001b[0;34m\"commits\"\u001b[0m\u001b[0;34m]\u001b[0m\u001b[0;34m)\u001b[0m\u001b[0;34m]\u001b[0m\u001b[0;34m\u001b[0m\u001b[0m\n\u001b[0m\u001b[1;32m     17\u001b[0m     \u001b[0mdf_summary2\u001b[0m\u001b[0;34m[\u001b[0m\u001b[0;34m\"authors\"\u001b[0m\u001b[0;34m]\u001b[0m \u001b[0;34m=\u001b[0m \u001b[0;34m[\u001b[0m\u001b[0mint\u001b[0m\u001b[0;34m(\u001b[0m\u001b[0mdf2\u001b[0m\u001b[0;34m[\u001b[0m\u001b[0mdf2\u001b[0m\u001b[0;34m[\u001b[0m\u001b[0;34m\"key\"\u001b[0m\u001b[0;34m]\u001b[0m\u001b[0;34m==\u001b[0m\u001b[0;34m\"female\"\u001b[0m\u001b[0;34m]\u001b[0m\u001b[0;34m[\u001b[0m\u001b[0;34m\"authors\"\u001b[0m\u001b[0;34m]\u001b[0m\u001b[0;34m)\u001b[0m\u001b[0;34m]\u001b[0m\u001b[0;34m\u001b[0m\u001b[0m\n\u001b[1;32m     18\u001b[0m     \u001b[0mdf_summary2\u001b[0m\u001b[0;34m[\u001b[0m\u001b[0;34m\"ratio_commits\"\u001b[0m\u001b[0;34m]\u001b[0m \u001b[0;34m=\u001b[0m \u001b[0;34m[\u001b[0m\u001b[0mfloat\u001b[0m\u001b[0;34m(\u001b[0m\u001b[0mdf2\u001b[0m\u001b[0;34m[\u001b[0m\u001b[0mdf2\u001b[0m\u001b[0;34m[\u001b[0m\u001b[0;34m\"key\"\u001b[0m\u001b[0;34m]\u001b[0m\u001b[0;34m==\u001b[0m\u001b[0;34m\"female\"\u001b[0m\u001b[0;34m]\u001b[0m\u001b[0;34m[\u001b[0m\u001b[0;34m\"commits\"\u001b[0m\u001b[0;34m]\u001b[0m\u001b[0;34m)\u001b[0m \u001b[0;34m/\u001b[0m \u001b[0mfloat\u001b[0m\u001b[0;34m(\u001b[0m\u001b[0mdf2\u001b[0m\u001b[0;34m[\u001b[0m\u001b[0mdf2\u001b[0m\u001b[0;34m[\u001b[0m\u001b[0;34m\"key\"\u001b[0m\u001b[0;34m]\u001b[0m\u001b[0;34m==\u001b[0m\u001b[0;34m\"male\"\u001b[0m\u001b[0;34m]\u001b[0m\u001b[0;34m[\u001b[0m\u001b[0;34m\"commits\"\u001b[0m\u001b[0;34m]\u001b[0m\u001b[0;34m)\u001b[0m\u001b[0;34m*\u001b[0m\u001b[0;36m100\u001b[0m\u001b[0;34m]\u001b[0m\u001b[0;34m\u001b[0m\u001b[0m\n",
      "\u001b[0;32m/usr/local/lib/python3.5/dist-packages/pandas/core/series.py\u001b[0m in \u001b[0;36mwrapper\u001b[0;34m(self)\u001b[0m\n\u001b[1;32m     91\u001b[0m             \u001b[0;32mreturn\u001b[0m \u001b[0mconverter\u001b[0m\u001b[0;34m(\u001b[0m\u001b[0mself\u001b[0m\u001b[0;34m.\u001b[0m\u001b[0miloc\u001b[0m\u001b[0;34m[\u001b[0m\u001b[0;36m0\u001b[0m\u001b[0;34m]\u001b[0m\u001b[0;34m)\u001b[0m\u001b[0;34m\u001b[0m\u001b[0m\n\u001b[1;32m     92\u001b[0m         raise TypeError(\"cannot convert the series to \"\n\u001b[0;32m---> 93\u001b[0;31m                         \"{0}\".format(str(converter)))\n\u001b[0m\u001b[1;32m     94\u001b[0m \u001b[0;34m\u001b[0m\u001b[0m\n\u001b[1;32m     95\u001b[0m     \u001b[0;32mreturn\u001b[0m \u001b[0mwrapper\u001b[0m\u001b[0;34m\u001b[0m\u001b[0m\n",
      "\u001b[0;31mTypeError\u001b[0m: cannot convert the series to <class 'int'>"
     ]
    }
   ],
   "source": [
    "value = result.to_dict()[\"aggregations\"]['project']['buckets']\n",
    "print(value)\n",
    "df = pandas.DataFrame()\n",
    "df_summary = pandas.DataFrame(columns=[\"project\", \"commits\", \"authors\", \"ratio_commits\", \"ratio_authors\"])\n",
    "for i in value:\n",
    "    df2 = (pandas.DataFrame.from_dict(i[\"gender\"][\"buckets\"]))\n",
    "    df2[\"project\"] = i[\"key\"]\n",
    "    \n",
    "    df2[METRIC_NAME] = df2[METRIC_NAME].apply(lambda row:row[\"value\"])\n",
    "    df2['authors'] = df2['authors'].apply(lambda row:row['value'])\n",
    "    df = pandas.concat([df, df2])\n",
    "    \n",
    "    df_summary2 = pandas.DataFrame(columns=[\"ratio_authors\", \"ratio_commits\", \"authors\", \"commits\", \"project\"])\n",
    "\n",
    "    df_summary2[\"project\"] = [i[\"key\"]]\n",
    "    df_summary2[\"commits\"] = [int(df2[df2[\"key\"]==\"female\"][\"commits\"])]\n",
    "    df_summary2[\"authors\"] = [int(df2[df2[\"key\"]==\"female\"][\"authors\"])]\n",
    "    df_summary2[\"ratio_commits\"] = [float(df2[df2[\"key\"]==\"female\"][\"commits\"]) / float(df2[df2[\"key\"]==\"male\"][\"commits\"])*100]\n",
    "    df_summary2[\"ratio_authors\"] = [float(df2[df2[\"key\"]==\"female\"][\"authors\"]) / float(df2[df2[\"key\"]==\"male\"][\"authors\"])*100]\n",
    "\n",
    "\n",
    "    df_summary = pandas.concat([df_summary, df_summary2])\n",
    "\n",
    "df_summary = df_summary[[\"project\", \"authors\", \"commits\", \"ratio_authors\", \"ratio_commits\"]]\n",
    "#df_summary.columns = [\"project\", \"authors\", \"commits\", \"ratio_authors\", \"ratio_commits\"]\n",
    "    "
   ]
  },
  {
   "cell_type": "code",
   "execution_count": null,
   "metadata": {
    "collapsed": true
   },
   "outputs": [],
   "source": [
    "print(df_summary)"
   ]
  },
  {
   "cell_type": "code",
   "execution_count": null,
   "metadata": {
    "collapsed": true
   },
   "outputs": [],
   "source": [
    "print(df_summary.sort_values(\"ratio_commits\", ascending=False))"
   ]
  },
  {
   "cell_type": "code",
   "execution_count": null,
   "metadata": {
    "collapsed": true
   },
   "outputs": [],
   "source": [
    "df_summary.sort_values(\"ratio_authors\", ascending=False)\n"
   ]
  },
  {
   "cell_type": "code",
   "execution_count": null,
   "metadata": {
    "collapsed": true
   },
   "outputs": [],
   "source": [
    "print(df_summary.sort_values(\"authors\", ascending=False))\n",
    "df_summary.sort_values(\"authors\", ascending=False).to_csv('/tmp/projects_openstack.csv')"
   ]
  },
  {
   "cell_type": "code",
   "execution_count": null,
   "metadata": {
    "collapsed": true
   },
   "outputs": [],
   "source": [
    "print(df_summary.sort_values(\"commits\", ascending=False))\n"
   ]
  },
  {
   "cell_type": "code",
   "execution_count": null,
   "metadata": {
    "collapsed": true
   },
   "outputs": [],
   "source": [
    "df_summary.sort_values(\"project\", ascending=True)\n"
   ]
  },
  {
   "cell_type": "code",
   "execution_count": null,
   "metadata": {
    "collapsed": true
   },
   "outputs": [],
   "source": [
    "df_summary.columns\n",
    "df_summary.columns = [\"project\", \"authors\", \"commits\", \"ratio_authors\", \"ratio_commits\"]\n",
    "df_summary\n",
    "print (df_summary)"
   ]
  },
  {
   "cell_type": "markdown",
   "metadata": {
    "collapsed": true
   },
   "source": [
    "# Mailing Lists"
   ]
  },
  {
   "cell_type": "code",
   "execution_count": null,
   "metadata": {
    "collapsed": true
   },
   "outputs": [],
   "source": [
    "INDEX = \"mbox_openstack_gender_uuids_fielddata\"\n"
   ]
  },
  {
   "cell_type": "code",
   "execution_count": null,
   "metadata": {
    "collapsed": true
   },
   "outputs": [],
   "source": [
    "METRIC_NAME = \"emails\"\n",
    "METRIC_FIELD = \"id\"\n",
    "\n",
    "df = query_metric_over_time(INDEX, METRIC_NAME, METRIC_FIELD, [filter_date_4y])"
   ]
  },
  {
   "cell_type": "code",
   "execution_count": null,
   "metadata": {
    "collapsed": true
   },
   "outputs": [],
   "source": [
    "draw_evolutionary_chart(\"key_as_string\", METRIC_NAME)"
   ]
  },
  {
   "cell_type": "code",
   "execution_count": null,
   "metadata": {
    "collapsed": true
   },
   "outputs": [],
   "source": [
    "pie_chart_labels, pie_chart_values, pie_chart_count = query_total_piechart(INDEX, METRIC_NAME, METRIC_FIELD, \n",
    "                                                            [filter_date_4y])\n",
    "\n",
    "draw_piechart(pie_chart_labels, pie_chart_values, 'Emails by Gender (last 4 years)')"
   ]
  },
  {
   "cell_type": "code",
   "execution_count": null,
   "metadata": {
    "collapsed": true
   },
   "outputs": [],
   "source": [
    "pie_chart_labels, pie_chart_values, pie_chart_count = query_total_piechart(INDEX, METRIC_NAME, METRIC_FIELD, \n",
    "                                                            [filter_date_1y])\n",
    "\n",
    "draw_piechart(pie_chart_labels, pie_chart_values, 'Emails by Gender (last year)')"
   ]
  },
  {
   "cell_type": "markdown",
   "metadata": {},
   "source": [
    "## Dividing mailing lists by lang, dev and others"
   ]
  },
  {
   "cell_type": "code",
   "execution_count": null,
   "metadata": {
    "collapsed": true
   },
   "outputs": [],
   "source": [
    "i18n_mailing_lists = [\"http://lists.openstack.org/pipermail/openstack-ir/\",\n",
    "\"http://lists.openstack.org/pipermail/openstack-de/\",\n",
    "\"http://lists.openstack.org/pipermail/openstack-i18n-fr/\",\n",
    "\"http://lists.openstack.org/pipermail/openstack-i18n/\",\n",
    "\"http://lists.openstack.org/pipermail/openstack-el/\",\n",
    "\"http://lists.openstack.org/pipermail/openstack-it/\",\n",
    "\"http://lists.openstack.org/pipermail/openstack-zh/\",\n",
    "\"http://lists.openstack.org/pipermail/openstack-es/\",\n",
    "\"http://lists.openstack.org/pipermail/openstack-vi/\",\n",
    "\"http://lists.openstack.org/pipermail/openstack-i18n-de/\"]\n",
    "\n",
    "dev_mailinglist = [\"http://lists.openstack.org/pipermail/openstack-dev/\"]\n",
    "\n",
    "others_mls =[\"http://lists.openstack.org/pipermail/openstack/\",\n",
    "             \"http://lists.openstack.org/pipermail/openstack-operators/\",\n",
    "             \"http://lists.openstack.org/pipermail/openstack-docs/\",\n",
    "             \"http://lists.openstack.org/pipermail/openstack-stable-maint/\",\n",
    "             \"http://lists.openstack.org/pipermail/openstack-infra/\",\n",
    "             \"http://lists.openstack.org/pipermail/openstack-security/\",\n",
    "             \"http://lists.openstack.org/pipermail/openstack-announce/\",\n",
    "             \"http://lists.openstack.org/pipermail/user-committee/\",\n",
    "             \"http://lists.openstack.org/pipermail/openstack-announce/\",\n",
    "             \"http://lists.openstack.org/pipermail/foundation/\",\n",
    "             \"http://lists.openstack.org/pipermail/community/\",\n",
    "             \"http://lists.openstack.org/pipermail/openstack-tc/\",\n",
    "             \"http://lists.openstack.org/pipermail/women-of-openstack/\",\n",
    "             \"http://lists.openstack.org/pipermail/openstrack-track-chairs/\",\n",
    "             \"http://lists.openstack.org/pipermail/release-job-failures/\",\n",
    "             \"http://lists.openstack.org/pipermail/enterprise-wg/\",\n",
    "             \"http://lists.openstack.org/pipermail/legal-discuss/\",\n",
    "             \"http://lists.openstack.org/pipermail/foundation-board/\",\n",
    "             \"http://lists.openstack.org/pipermail/third-party-announce/\",\n",
    "             \"http://lists.openstack.org/pipermail/openstack-personas/\",\n",
    "             \"http://lists.openstack.org/pipermail/openstack-hpc/\",\n",
    "             \"http://lists.openstack.org/pipermail/interop-wg/\",\n",
    "             \"http://lists.openstack.org/pipermail/openstack-internships/\",\n",
    "             \"http://lists.openstack.org/pipermail/openstack-sigs/\",\n",
    "             \"http://lists.openstack.org/pipermail/elections-committer/\",\n",
    "             \"http://lists.openstack.org/pipermail/transparency/\",\n",
    "             \"http://lists.openstack.org/pipermail/foundation-testing-standards/\",\n",
    "             \"http://lists.openstack.org/pipermail/openstack-content/\",\n",
    "             \"http://lists.openstack.org/pipermail/openstack-api-consumer/\",\n",
    "             \"http://lists.openstack.org/pipermail/openstack-sos/\",\n",
    "             \"http://lists.openstack.org/pipermail/superuser/\",\n",
    "             \"http://lists.openstack.org/pipermail/tax-affairs/\"\n",
    "]\n",
    "\n",
    "filter_mls_languages = Q('terms', mailinglist__keyword=i18n_mailing_lists)\n",
    "filter_mls_dev = Q('terms', mailinglist__keyword=dev_mailinglist)\n",
    "filter_mls_others = Q('terms', mailinglist__keyword=others_mls)\n",
    "\n"
   ]
  },
  {
   "cell_type": "markdown",
   "metadata": {},
   "source": [
    "### Development mailing lists"
   ]
  },
  {
   "cell_type": "code",
   "execution_count": null,
   "metadata": {
    "collapsed": true
   },
   "outputs": [],
   "source": [
    "df = query_metric_over_time(INDEX, METRIC_NAME, METRIC_FIELD, [filter_date_4y, filter_mls_dev])\n",
    "draw_evolutionary_chart(\"key_as_string\", METRIC_NAME)"
   ]
  },
  {
   "cell_type": "code",
   "execution_count": null,
   "metadata": {
    "collapsed": true
   },
   "outputs": [],
   "source": [
    "pie_chart_labels, pie_chart_values, pie_chart_count = query_total_piechart(INDEX, METRIC_NAME, METRIC_FIELD, \n",
    "                                                            [filter_date_4y, filter_mls_dev])\n",
    "\n",
    "draw_piechart(pie_chart_labels, pie_chart_values, 'Openstack-Dev Emails by Gender (last 4 years)')"
   ]
  },
  {
   "cell_type": "code",
   "execution_count": null,
   "metadata": {
    "collapsed": true
   },
   "outputs": [],
   "source": [
    "pie_chart_labels, pie_chart_values, pie_chart_count = query_total_piechart(INDEX, METRIC_NAME, METRIC_FIELD, \n",
    "                                                            [filter_date_1y, filter_mls_dev])\n",
    "\n",
    "draw_piechart(pie_chart_labels, pie_chart_values, 'OpenStack-Dev Emails by Gender (last year)')"
   ]
  },
  {
   "cell_type": "markdown",
   "metadata": {},
   "source": [
    "### Lang-focused mailing lists"
   ]
  },
  {
   "cell_type": "code",
   "execution_count": null,
   "metadata": {
    "collapsed": true
   },
   "outputs": [],
   "source": [
    "df = query_metric_over_time(INDEX, METRIC_NAME, METRIC_FIELD, [filter_date_4y, filter_mls_languages])\n",
    "draw_evolutionary_chart(\"key_as_string\", METRIC_NAME)"
   ]
  },
  {
   "cell_type": "code",
   "execution_count": null,
   "metadata": {
    "collapsed": true
   },
   "outputs": [],
   "source": [
    "pie_chart_labels, pie_chart_values, pie_chart_count = query_total_piechart(INDEX, METRIC_NAME, METRIC_FIELD, \n",
    "                                                            [filter_date_4y, filter_mls_languages])\n",
    "\n",
    "draw_piechart(pie_chart_labels, pie_chart_values, 'Lang-focused Emails by Gender (last 4 years)')"
   ]
  },
  {
   "cell_type": "code",
   "execution_count": null,
   "metadata": {
    "collapsed": true
   },
   "outputs": [],
   "source": [
    "pie_chart_labels, pie_chart_values, pie_chart_count = query_total_piechart(INDEX, METRIC_NAME, METRIC_FIELD, \n",
    "                                                            [filter_date_1y, filter_mls_languages])\n",
    "\n",
    "draw_piechart(pie_chart_labels, pie_chart_values, 'Lang-focused Emails by Gender (last year)')"
   ]
  },
  {
   "cell_type": "markdown",
   "metadata": {},
   "source": [
    "### Other mailing lists"
   ]
  },
  {
   "cell_type": "code",
   "execution_count": null,
   "metadata": {
    "collapsed": true
   },
   "outputs": [],
   "source": [
    "df = query_metric_over_time(INDEX, METRIC_NAME, METRIC_FIELD, [filter_date_4y, filter_mls_others])\n",
    "draw_evolutionary_chart(\"key_as_string\", METRIC_NAME)"
   ]
  },
  {
   "cell_type": "code",
   "execution_count": null,
   "metadata": {
    "collapsed": true
   },
   "outputs": [],
   "source": [
    "pie_chart_labels, pie_chart_values, pie_chart_count = query_total_piechart(INDEX, METRIC_NAME, METRIC_FIELD, \n",
    "                                                            [filter_date_4y, filter_mls_others])\n",
    "\n",
    "draw_piechart(pie_chart_labels, pie_chart_values, 'Other MLS Emails by Gender (last 4 years)')"
   ]
  },
  {
   "cell_type": "code",
   "execution_count": null,
   "metadata": {
    "collapsed": true
   },
   "outputs": [],
   "source": [
    "pie_chart_labels, pie_chart_values, pie_chart_count = query_total_piechart(INDEX, METRIC_NAME, METRIC_FIELD, \n",
    "                                                            [filter_date_1y, filter_mls_others])\n",
    "\n",
    "draw_piechart(pie_chart_labels, pie_chart_values, 'Other MLS Emails by Gender (last year)')"
   ]
  },
  {
   "cell_type": "code",
   "execution_count": null,
   "metadata": {
    "collapsed": true
   },
   "outputs": [],
   "source": []
  },
  {
   "cell_type": "code",
   "execution_count": null,
   "metadata": {
    "collapsed": true
   },
   "outputs": [],
   "source": []
  },
  {
   "cell_type": "code",
   "execution_count": null,
   "metadata": {
    "collapsed": true
   },
   "outputs": [],
   "source": []
  },
  {
   "cell_type": "code",
   "execution_count": null,
   "metadata": {
    "collapsed": true
   },
   "outputs": [],
   "source": []
  },
  {
   "cell_type": "code",
   "execution_count": null,
   "metadata": {
    "collapsed": true
   },
   "outputs": [],
   "source": []
  }
 ],
 "metadata": {
  "kernelspec": {
   "display_name": "Python 3",
   "language": "python",
   "name": "python3"
  },
  "language_info": {
   "codemirror_mode": {
    "name": "ipython",
    "version": 3
   },
   "file_extension": ".py",
   "mimetype": "text/x-python",
   "name": "python",
   "nbconvert_exporter": "python",
   "pygments_lexer": "ipython3",
   "version": "3.5.2"
  }
 },
 "nbformat": 4,
 "nbformat_minor": 2
}
