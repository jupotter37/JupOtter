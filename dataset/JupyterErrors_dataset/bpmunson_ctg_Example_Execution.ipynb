{
 "cells": [
  {
   "cell_type": "code",
   "execution_count": 1,
   "metadata": {},
   "outputs": [],
   "source": [
    "%load_ext autoreload \n",
    "%autoreload 2"
   ]
  },
  {
   "cell_type": "code",
   "execution_count": 2,
   "metadata": {},
   "outputs": [],
   "source": [
    "%load_ext rpy2.ipython"
   ]
  },
  {
   "cell_type": "code",
   "execution_count": 3,
   "metadata": {
    "scrolled": true
   },
   "outputs": [],
   "source": [
    "import os\n",
    "import numpy as np\n",
    "import pandas as pd\n",
    "import Scorer\n",
    "\n"
   ]
  },
  {
   "cell_type": "code",
   "execution_count": 4,
   "metadata": {},
   "outputs": [],
   "source": [
    "# Global parameters\n",
    "BASE = os.path.realpath('../')\n",
    "TEST_SET = os.path.join(BASE, 'data', 'test_data','input_data', 'TestSet8')"
   ]
  },
  {
   "cell_type": "markdown",
   "metadata": {},
   "source": [
    "# Test Set"
   ]
  },
  {
   "cell_type": "code",
   "execution_count": 5,
   "metadata": {},
   "outputs": [
    {
     "name": "stdout",
     "output_type": "stream",
     "text": [
      "reps                  1      2      1      2\n",
      "time                 21     21     28     28\n",
      "log2CountsThresh  4.525  4.325  3.925  3.475\n"
     ]
    },
    {
     "name": "stderr",
     "output_type": "stream",
     "text": [
      "/cellar/users/bpmunson/scratch/crappy_devel/cross_condition/crappy/src/fit_ac_fc.py:261: RuntimeWarning: invalid value encountered in true_divide\n",
      "  fc = np.divide(f.sum(axis=0), var_time.sum(axis=0))\n",
      "/cellar/users/bpmunson/scratch/crappy_devel/cross_condition/crappy/src/fit_ac_fc.py:287: RuntimeWarning: invalid value encountered in true_divide\n",
      "  sdfc = np.divide(num, denom).data\n",
      "/cellar/users/bpmunson/Desktop/dual_cripsr/miniconda3/lib/python3.5/site-packages/scipy/sparse/compressed.py:742: SparseEfficiencyWarning: Changing the sparsity structure of a csr_matrix is expensive. lil_matrix is more efficient.\n",
      "  SparseEfficiencyWarning)\n",
      "/cellar/users/bpmunson/scratch/crappy_devel/cross_condition/crappy/src/sample.py:56: RuntimeWarning: divide by zero encountered in true_divide\n",
      "  fdr_right = np.minimum(1, enull(-pi_mean)/(1-emean(pi_mean)))\n"
     ]
    },
    {
     "data": {
      "text/html": [
       "<div>\n",
       "<style scoped>\n",
       "    .dataframe tbody tr th:only-of-type {\n",
       "        vertical-align: middle;\n",
       "    }\n",
       "\n",
       "    .dataframe tbody tr th {\n",
       "        vertical-align: top;\n",
       "    }\n",
       "\n",
       "    .dataframe thead th {\n",
       "        text-align: right;\n",
       "    }\n",
       "</style>\n",
       "<table border=\"1\" class=\"dataframe\">\n",
       "  <thead>\n",
       "    <tr style=\"text-align: right;\">\n",
       "      <th></th>\n",
       "      <th>geneA</th>\n",
       "      <th>geneB</th>\n",
       "      <th>pi_mean</th>\n",
       "      <th>fdr_left</th>\n",
       "      <th>fdr_right</th>\n",
       "      <th>sd</th>\n",
       "      <th>z</th>\n",
       "      <th>pp</th>\n",
       "      <th>fA</th>\n",
       "      <th>fB</th>\n",
       "    </tr>\n",
       "  </thead>\n",
       "  <tbody>\n",
       "    <tr>\n",
       "      <th>0</th>\n",
       "      <td>0</td>\n",
       "      <td>ABL1</td>\n",
       "      <td>-0.016598</td>\n",
       "      <td>0.519830</td>\n",
       "      <td>1.0</td>\n",
       "      <td>0.025642</td>\n",
       "      <td>-0.646872</td>\n",
       "      <td>0.0</td>\n",
       "      <td>-0.000108</td>\n",
       "      <td>0.000593</td>\n",
       "    </tr>\n",
       "    <tr>\n",
       "      <th>1</th>\n",
       "      <td>0</td>\n",
       "      <td>ADA</td>\n",
       "      <td>0.016067</td>\n",
       "      <td>0.935985</td>\n",
       "      <td>1.0</td>\n",
       "      <td>0.022820</td>\n",
       "      <td>0.626169</td>\n",
       "      <td>0.0</td>\n",
       "      <td>-0.000108</td>\n",
       "      <td>0.001239</td>\n",
       "    </tr>\n",
       "    <tr>\n",
       "      <th>2</th>\n",
       "      <td>0</td>\n",
       "      <td>AKT1</td>\n",
       "      <td>-0.014196</td>\n",
       "      <td>0.555058</td>\n",
       "      <td>1.0</td>\n",
       "      <td>0.023174</td>\n",
       "      <td>-0.553247</td>\n",
       "      <td>0.0</td>\n",
       "      <td>-0.000108</td>\n",
       "      <td>0.000690</td>\n",
       "    </tr>\n",
       "    <tr>\n",
       "      <th>3</th>\n",
       "      <td>0</td>\n",
       "      <td>ALK</td>\n",
       "      <td>-0.001825</td>\n",
       "      <td>0.699625</td>\n",
       "      <td>1.0</td>\n",
       "      <td>0.005062</td>\n",
       "      <td>-0.071110</td>\n",
       "      <td>0.0</td>\n",
       "      <td>-0.000108</td>\n",
       "      <td>0.000725</td>\n",
       "    </tr>\n",
       "    <tr>\n",
       "      <th>4</th>\n",
       "      <td>0</td>\n",
       "      <td>APC</td>\n",
       "      <td>-0.029941</td>\n",
       "      <td>0.432203</td>\n",
       "      <td>1.0</td>\n",
       "      <td>0.044673</td>\n",
       "      <td>-1.166874</td>\n",
       "      <td>0.0</td>\n",
       "      <td>-0.000108</td>\n",
       "      <td>0.000575</td>\n",
       "    </tr>\n",
       "  </tbody>\n",
       "</table>\n",
       "</div>"
      ],
      "text/plain": [
       "  geneA geneB   pi_mean  fdr_left  fdr_right        sd         z   pp  \\\n",
       "0     0  ABL1 -0.016598  0.519830        1.0  0.025642 -0.646872  0.0   \n",
       "1     0   ADA  0.016067  0.935985        1.0  0.022820  0.626169  0.0   \n",
       "2     0  AKT1 -0.014196  0.555058        1.0  0.023174 -0.553247  0.0   \n",
       "3     0   ALK -0.001825  0.699625        1.0  0.005062 -0.071110  0.0   \n",
       "4     0   APC -0.029941  0.432203        1.0  0.044673 -1.166874  0.0   \n",
       "\n",
       "         fA        fB  \n",
       "0 -0.000108  0.000593  \n",
       "1 -0.000108  0.001239  \n",
       "2 -0.000108  0.000690  \n",
       "3 -0.000108  0.000725  \n",
       "4 -0.000108  0.000575  "
      ]
     },
     "execution_count": 5,
     "metadata": {},
     "output_type": "execute_result"
    }
   ],
   "source": [
    "abundance_file = os.path.join(TEST_SET, \"TestSet8_abundance_thresholds.txt\")\n",
    "counts_file = os.path.join(TEST_SET, \"TestSet8_timepoint_counts.txt\")\n",
    "\n",
    "times = np.array([21,28])\n",
    "\n",
    "# initialize screen object\n",
    "screen = Scorer.Scorer(counts_file, times, abundance_file)\n",
    "\n",
    "# set some parameters\n",
    "# number of iterations to perform\n",
    "screen.niter = 2\n",
    "screen.testing = True\n",
    "screen.null_target_id = '0'\n",
    "screen.verbose = True\n",
    "\n",
    "# perform construct fitness calculation\n",
    "screen.run_construct_fitting()\n",
    "\n",
    "# run bootstraps\n",
    "screen.run_sampling()\n",
    "\n",
    "# summarize results \n",
    "screen.summarize()\n",
    "\n",
    "# view results \n",
    "screen.results.head()"
   ]
  },
  {
   "cell_type": "markdown",
   "metadata": {},
   "source": [
    "### Compare to CTG benchmark pi scores"
   ]
  },
  {
   "cell_type": "code",
   "execution_count": 7,
   "metadata": {},
   "outputs": [
    {
     "name": "stdout",
     "output_type": "stream",
     "text": [
      "All pi-scores close:\n"
     ]
    },
    {
     "data": {
      "text/plain": [
       "True"
      ]
     },
     "execution_count": 7,
     "metadata": {},
     "output_type": "execute_result"
    }
   ],
   "source": [
    "benchmark = os.path.join(BASE, 'data', 'test_data', 'output_data', 'Notebook8Test_pi.txt')\n",
    "benchmark = pd.read_csv(benchmark, sep=\"\\t\", header=0)\n",
    "benchmark_pi_mean = benchmark[['geneA','geneB','pi']]\n",
    "benchmark_pi_mean = benchmark_pi_mean.sort_values(['geneA','geneB']).reset_index(drop=True)\n",
    "\n",
    "#pi_scores_mean = screen.results.mean(axis=1).reset_index()\n",
    "pi_scores_mean = screen.results[['geneA','geneB','pi_mean']]\n",
    "\n",
    "comb = pd.merge(pi_scores_mean, benchmark_pi_mean, on=['geneA','geneB'])\n",
    "\n",
    "print('All pi-scores close:')\n",
    "np.allclose(comb['pi_mean'],comb['pi'], atol=1e-6, equal_nan=True)"
   ]
  },
  {
   "cell_type": "code",
   "execution_count": 8,
   "metadata": {},
   "outputs": [
    {
     "name": "stderr",
     "output_type": "stream",
     "text": [
      "/cellar/users/bpmunson/Desktop/dual_cripsr/miniconda3/lib/python3.5/site-packages/rpy2/rinterface/__init__.py:145: RRuntimeWarning: Loading required package: ggplot2\n",
      "\n",
      "  warnings.warn(x, RRuntimeWarning)\n",
      "/cellar/users/bpmunson/Desktop/dual_cripsr/miniconda3/lib/python3.5/site-packages/rpy2/rinterface/__init__.py:145: RRuntimeWarning: Loading required package: cowplot\n",
      "\n",
      "  warnings.warn(x, RRuntimeWarning)\n",
      "/cellar/users/bpmunson/Desktop/dual_cripsr/miniconda3/lib/python3.5/site-packages/rpy2/rinterface/__init__.py:145: RRuntimeWarning: \n",
      "Attaching package: ‘cowplot’\n",
      "\n",
      "\n",
      "  warnings.warn(x, RRuntimeWarning)\n",
      "/cellar/users/bpmunson/Desktop/dual_cripsr/miniconda3/lib/python3.5/site-packages/rpy2/rinterface/__init__.py:145: RRuntimeWarning: The following object is masked from ‘package:ggplot2’:\n",
      "\n",
      "    ggsave\n",
      "\n",
      "\n",
      "  warnings.warn(x, RRuntimeWarning)\n"
     ]
    },
    {
     "data": {
      "image/png": "[encoded data removed]"
     },
     "metadata": {},
     "output_type": "display_data"
    }
   ],
   "source": [
    "%%R -i comb\n",
    "jointPlot <- function(df, alpha=0.1, title=NULL, correlation=FALSE){\n",
    "    \n",
    "    # make a joint plot from the data frame of two columns first one is on x axis\n",
    "    require(ggplot2)\n",
    "    require(cowplot)\n",
    "    # get info\n",
    "    x_l = colnames(df)[1]\n",
    "    y_l = colnames(df)[2]\n",
    "    coord_min = min(na.omit(df))\n",
    "    coord_max = max(na.omit(df))\n",
    "    # make scatter plot\n",
    "    scatter = ggplot(df, aes_string(x=x_l,y=y_l))+ # init grob\n",
    "        geom_point(shape=1, alpha=alpha, size=4)+ # add points\n",
    "        geom_abline(slope=1,intercept=0,color=\"red\",linetype=\"dotted\")+ # add perfect 1:1 line\n",
    "        theme_bw(base_size=18)+ # use preset theme\n",
    "        xlim(coord_min,coord_max)+ylim(coord_min,coord_max)+ # make square plot\n",
    "        labs(x=x_l,y=y_l) # add axis labels\n",
    "    # add correlation info to scatter plot\n",
    "    if (correlation){\n",
    "        # get correaltion\n",
    "        res = cor.test(df[,x_l], df[,y_l])\n",
    "        p_value = res$p.value\n",
    "        corr = res$estimate\n",
    "        # add annotation\n",
    "        scatter = scatter + annotate(\"text\",\n",
    "                                     hjust=0,\n",
    "                                     label=paste(\"Corr: \", format(round(corr, 4), nsmall=3),\n",
    "                                                 sep=\"\"),\n",
    "                                     x=coord_min,y=coord_max)\n",
    "        scatter = scatter + geom_smooth(se=FALSE, method=\"lm\")\n",
    "    }\n",
    "\n",
    "    # add title to scatter plot\n",
    "    if (!is.null(title)){\n",
    "        scatter = scatter + labs(title=title)\n",
    "    }\n",
    "\n",
    "    xdens = axis_canvas(scatter, axis=\"x\")+\n",
    "                geom_histogram(data=df, aes_string(x=x_l), color=\"black\",fill=\"white\",bins=50)\n",
    "\n",
    "    ydens = axis_canvas(scatter, axis=\"y\", coord_flip=TRUE)+\n",
    "                geom_histogram(data=df, aes_string(x=y_l), color=\"black\",fill=\"white\",bins=50)+\n",
    "                coord_flip()\n",
    "\n",
    "    p1 <- insert_xaxis_grob(scatter, xdens, grid::unit(.2,'null'),position=\"top\")\n",
    "    p2 <- insert_yaxis_grob(p1, ydens, grid::unit(.2,'null'),position=\"right\")\n",
    "    ggdraw(p2)\n",
    "    \n",
    "}\n",
    "df = comb[,c('pi_mean','pi')]\n",
    "colnames(df) = c('CrAPPY', 'CTG')\n",
    "jointPlot(df, title=\"Test Set 8 Pi Scores\", correlation=TRUE)\n"
   ]
  },
  {
   "cell_type": "markdown",
   "metadata": {},
   "source": [
    "# Testing abundance thresholds"
   ]
  },
  {
   "cell_type": "code",
   "execution_count": 10,
   "metadata": {},
   "outputs": [
    {
     "name": "stdout",
     "output_type": "stream",
     "text": [
      "reps                  1      2      1      2\n",
      "time                 21     21     28     28\n",
      "log2CountsThresh  4.525  3.025  3.025  3.025\n"
     ]
    },
    {
     "name": "stderr",
     "output_type": "stream",
     "text": [
      "/cellar/users/bpmunson/scratch/crappy_devel/cross_condition/crappy/src/fit_ac_fc.py:261: RuntimeWarning: invalid value encountered in true_divide\n",
      "  fc = np.divide(f.sum(axis=0), var_time.sum(axis=0))\n",
      "/cellar/users/bpmunson/scratch/crappy_devel/cross_condition/crappy/src/fit_ac_fc.py:287: RuntimeWarning: invalid value encountered in true_divide\n",
      "  sdfc = np.divide(num, denom).data\n",
      "/cellar/users/bpmunson/Desktop/dual_cripsr/miniconda3/lib/python3.5/site-packages/scipy/sparse/compressed.py:742: SparseEfficiencyWarning: Changing the sparsity structure of a csr_matrix is expensive. lil_matrix is more efficient.\n",
      "  SparseEfficiencyWarning)\n",
      "/cellar/users/bpmunson/scratch/crappy_devel/cross_condition/crappy/src/sample.py:56: RuntimeWarning: divide by zero encountered in true_divide\n",
      "  fdr_right = np.minimum(1, enull(-pi_mean)/(1-emean(pi_mean)))\n"
     ]
    },
    {
     "data": {
      "text/html": [
       "<div>\n",
       "<style scoped>\n",
       "    .dataframe tbody tr th:only-of-type {\n",
       "        vertical-align: middle;\n",
       "    }\n",
       "\n",
       "    .dataframe tbody tr th {\n",
       "        vertical-align: top;\n",
       "    }\n",
       "\n",
       "    .dataframe thead th {\n",
       "        text-align: right;\n",
       "    }\n",
       "</style>\n",
       "<table border=\"1\" class=\"dataframe\">\n",
       "  <thead>\n",
       "    <tr style=\"text-align: right;\">\n",
       "      <th></th>\n",
       "      <th>geneA</th>\n",
       "      <th>geneB</th>\n",
       "      <th>pi_mean</th>\n",
       "      <th>fdr_left</th>\n",
       "      <th>fdr_right</th>\n",
       "      <th>sd</th>\n",
       "      <th>z</th>\n",
       "      <th>pp</th>\n",
       "      <th>fA</th>\n",
       "      <th>fB</th>\n",
       "    </tr>\n",
       "  </thead>\n",
       "  <tbody>\n",
       "    <tr>\n",
       "      <th>0</th>\n",
       "      <td>0</td>\n",
       "      <td>ABL1</td>\n",
       "      <td>-0.017435</td>\n",
       "      <td>0.618598</td>\n",
       "      <td>1.0</td>\n",
       "      <td>0.024352</td>\n",
       "      <td>-0.591611</td>\n",
       "      <td>1.0</td>\n",
       "      <td>0.000035</td>\n",
       "      <td>0.000330</td>\n",
       "    </tr>\n",
       "    <tr>\n",
       "      <th>1</th>\n",
       "      <td>0</td>\n",
       "      <td>ADA</td>\n",
       "      <td>0.020173</td>\n",
       "      <td>0.926233</td>\n",
       "      <td>1.0</td>\n",
       "      <td>0.027724</td>\n",
       "      <td>0.684517</td>\n",
       "      <td>1.0</td>\n",
       "      <td>0.000035</td>\n",
       "      <td>0.000521</td>\n",
       "    </tr>\n",
       "    <tr>\n",
       "      <th>2</th>\n",
       "      <td>0</td>\n",
       "      <td>AKT1</td>\n",
       "      <td>-0.026411</td>\n",
       "      <td>0.549815</td>\n",
       "      <td>1.0</td>\n",
       "      <td>0.037728</td>\n",
       "      <td>-0.896172</td>\n",
       "      <td>0.0</td>\n",
       "      <td>0.000035</td>\n",
       "      <td>0.001011</td>\n",
       "    </tr>\n",
       "    <tr>\n",
       "      <th>3</th>\n",
       "      <td>0</td>\n",
       "      <td>ALK</td>\n",
       "      <td>-0.001688</td>\n",
       "      <td>0.764569</td>\n",
       "      <td>1.0</td>\n",
       "      <td>0.002553</td>\n",
       "      <td>-0.057265</td>\n",
       "      <td>0.0</td>\n",
       "      <td>0.000035</td>\n",
       "      <td>-0.000044</td>\n",
       "    </tr>\n",
       "    <tr>\n",
       "      <th>4</th>\n",
       "      <td>0</td>\n",
       "      <td>APC</td>\n",
       "      <td>-0.022500</td>\n",
       "      <td>0.590545</td>\n",
       "      <td>1.0</td>\n",
       "      <td>0.074923</td>\n",
       "      <td>-0.763473</td>\n",
       "      <td>0.0</td>\n",
       "      <td>0.000035</td>\n",
       "      <td>-0.000179</td>\n",
       "    </tr>\n",
       "  </tbody>\n",
       "</table>\n",
       "</div>"
      ],
      "text/plain": [
       "  geneA geneB   pi_mean  fdr_left  fdr_right        sd         z   pp  \\\n",
       "0     0  ABL1 -0.017435  0.618598        1.0  0.024352 -0.591611  1.0   \n",
       "1     0   ADA  0.020173  0.926233        1.0  0.027724  0.684517  1.0   \n",
       "2     0  AKT1 -0.026411  0.549815        1.0  0.037728 -0.896172  0.0   \n",
       "3     0   ALK -0.001688  0.764569        1.0  0.002553 -0.057265  0.0   \n",
       "4     0   APC -0.022500  0.590545        1.0  0.074923 -0.763473  0.0   \n",
       "\n",
       "         fA        fB  \n",
       "0  0.000035  0.000330  \n",
       "1  0.000035  0.000521  \n",
       "2  0.000035  0.001011  \n",
       "3  0.000035 -0.000044  \n",
       "4  0.000035 -0.000179  "
      ]
     },
     "execution_count": 10,
     "metadata": {},
     "output_type": "execute_result"
    }
   ],
   "source": [
    "abundance_file = os.path.join(TEST_SET, \"TestSet8_abundance_thresholds.txt\")\n",
    "counts_file = os.path.join(TEST_SET, \"TestSet8_timepoint_counts.txt\")\n",
    "\n",
    "times = np.array([21,28])\n",
    "\n",
    "# initialize screen object\n",
    "screen = Scorer.Scorer(counts_file, times, min_counts_threshold=8,verbose=True)\n",
    "\n",
    "# set some parameters\n",
    "# number of iterations to perform\n",
    "screen.niter = 2\n",
    "screen.testing = True\n",
    "screen.null_target_id = '0'\n",
    "screen.verbose = True\n",
    "\n",
    "# perform construct fitness calculation\n",
    "screen.run_construct_fitting()\n",
    "\n",
    "# run bootstraps\n",
    "screen.run_sampling()\n",
    "\n",
    "# summarize results \n",
    "screen.summarize()\n",
    "\n",
    "# view results \n",
    "screen.results.head()"
   ]
  },
  {
   "cell_type": "code",
   "execution_count": 11,
   "metadata": {},
   "outputs": [
    {
     "name": "stdout",
     "output_type": "stream",
     "text": [
      "All pi-scores close:\n"
     ]
    },
    {
     "data": {
      "text/plain": [
       "False"
      ]
     },
     "execution_count": 11,
     "metadata": {},
     "output_type": "execute_result"
    }
   ],
   "source": [
    "benchmark = os.path.join(BASE, 'data', 'test_data', 'output_data', 'Notebook8Test_pi.txt')\n",
    "benchmark = pd.read_csv(benchmark, sep=\"\\t\", header=0)\n",
    "benchmark_pi_mean = benchmark[['geneA','geneB','pi']]\n",
    "benchmark_pi_mean = benchmark_pi_mean.sort_values(['geneA','geneB']).reset_index(drop=True)\n",
    "\n",
    "#pi_scores_mean = screen.results.mean(axis=1).reset_index()\n",
    "pi_scores_mean = screen.results[['geneA','geneB','pi_mean']]\n",
    "\n",
    "comb = pd.merge(pi_scores_mean, benchmark_pi_mean, on=['geneA','geneB'])\n",
    "\n",
    "print('All pi-scores close:')\n",
    "np.allclose(comb['pi_mean'],comb['pi'], atol=1e-6, equal_nan=True)"
   ]
  },
  {
   "cell_type": "code",
   "execution_count": 12,
   "metadata": {},
   "outputs": [],
   "source": [
    "def rmse(x,y): \n",
    "    return np.power(np.sum(np.power(x - y,2))/len(x), 0.5)"
   ]
  },
  {
   "cell_type": "code",
   "execution_count": 13,
   "metadata": {},
   "outputs": [
    {
     "data": {
      "text/plain": [
       "0.015875200878121179"
      ]
     },
     "execution_count": 13,
     "metadata": {},
     "output_type": "execute_result"
    }
   ],
   "source": [
    "rmse(comb['pi_mean'], comb['pi'])"
   ]
  },
  {
   "cell_type": "code",
   "execution_count": 14,
   "metadata": {
    "scrolled": true
   },
   "outputs": [
    {
     "data": {
      "text/plain": [
       "array([[ 1.        ,  0.84489852],\n",
       "       [ 0.84489852,  1.        ]])"
      ]
     },
     "execution_count": 14,
     "metadata": {},
     "output_type": "execute_result"
    }
   ],
   "source": [
    "np.corrcoef(comb[['pi_mean', 'pi']].T)"
   ]
  },
  {
   "cell_type": "code",
   "execution_count": 15,
   "metadata": {},
   "outputs": [],
   "source": [
    "import matplotlib.pyplot as plt\n",
    "%matplotlib inline"
   ]
  },
  {
   "cell_type": "code",
   "execution_count": 16,
   "metadata": {},
   "outputs": [
    {
     "data": {
      "text/plain": [
       "<matplotlib.collections.PathCollection at 0x7f73545c9eb8>"
      ]
     },
     "execution_count": 16,
     "metadata": {},
     "output_type": "execute_result"
    },
    {
     "data": {
      "image/png": "[encoded data removed]",
      "text/plain": [
       "<matplotlib.figure.Figure at 0x7f73546066d8>"
      ]
     },
     "metadata": {},
     "output_type": "display_data"
    }
   ],
   "source": [
    "plt.scatter(comb['pi_mean'], comb['pi'], s=5)"
   ]
  },
  {
   "cell_type": "markdown",
   "metadata": {},
   "source": [
    "# A549"
   ]
  },
  {
   "cell_type": "code",
   "execution_count": 19,
   "metadata": {},
   "outputs": [
    {
     "name": "stdout",
     "output_type": "stream",
     "text": [
      "reps                  1      2      1     2      1      2      1      2\n",
      "time                 3      3      14    14     21     21     28     28\n",
      "log2CountsThresh  4.025  3.525  5.525  10.0  4.525  4.025  5.025  3.525\n"
     ]
    },
    {
     "name": "stderr",
     "output_type": "stream",
     "text": [
      "/cellar/users/bpmunson/scratch/crappy_devel/cross_condition/crappy/src/fit_ac_fc.py:261: RuntimeWarning: invalid value encountered in true_divide\n",
      "  fc = np.divide(f.sum(axis=0), var_time.sum(axis=0))\n",
      "/cellar/users/bpmunson/scratch/crappy_devel/cross_condition/crappy/src/fit_ac_fc.py:287: RuntimeWarning: invalid value encountered in true_divide\n",
      "  sdfc = np.divide(num, denom).data\n",
      "/cellar/users/bpmunson/Desktop/dual_cripsr/miniconda3/lib/python3.5/site-packages/scipy/sparse/compressed.py:742: SparseEfficiencyWarning: Changing the sparsity structure of a csr_matrix is expensive. lil_matrix is more efficient.\n",
      "  SparseEfficiencyWarning)\n",
      "/cellar/users/bpmunson/scratch/crappy_devel/cross_condition/crappy/src/sample.py:56: RuntimeWarning: invalid value encountered in true_divide\n",
      "  fdr_right = np.minimum(1, enull(-pi_mean)/(1-emean(pi_mean)))\n"
     ]
    },
    {
     "data": {
      "text/html": [
       "<div>\n",
       "<style scoped>\n",
       "    .dataframe tbody tr th:only-of-type {\n",
       "        vertical-align: middle;\n",
       "    }\n",
       "\n",
       "    .dataframe tbody tr th {\n",
       "        vertical-align: top;\n",
       "    }\n",
       "\n",
       "    .dataframe thead th {\n",
       "        text-align: right;\n",
       "    }\n",
       "</style>\n",
       "<table border=\"1\" class=\"dataframe\">\n",
       "  <thead>\n",
       "    <tr style=\"text-align: right;\">\n",
       "      <th></th>\n",
       "      <th>geneA</th>\n",
       "      <th>geneB</th>\n",
       "      <th>pi_mean</th>\n",
       "      <th>fdr_left</th>\n",
       "      <th>fdr_right</th>\n",
       "      <th>sd</th>\n",
       "      <th>z</th>\n",
       "      <th>pp</th>\n",
       "      <th>fA</th>\n",
       "      <th>fB</th>\n",
       "    </tr>\n",
       "  </thead>\n",
       "  <tbody>\n",
       "    <tr>\n",
       "      <th>0</th>\n",
       "      <td>0</td>\n",
       "      <td>PARP1</td>\n",
       "      <td>-0.007259</td>\n",
       "      <td>0.594822</td>\n",
       "      <td>1.0</td>\n",
       "      <td>0.006679</td>\n",
       "      <td>-0.213831</td>\n",
       "      <td>1.0</td>\n",
       "      <td>-0.001466</td>\n",
       "      <td>-0.026537</td>\n",
       "    </tr>\n",
       "    <tr>\n",
       "      <th>1</th>\n",
       "      <td>0</td>\n",
       "      <td>PBRM1</td>\n",
       "      <td>0.003589</td>\n",
       "      <td>0.864865</td>\n",
       "      <td>1.0</td>\n",
       "      <td>0.036733</td>\n",
       "      <td>0.105729</td>\n",
       "      <td>0.0</td>\n",
       "      <td>-0.001466</td>\n",
       "      <td>-0.010180</td>\n",
       "    </tr>\n",
       "    <tr>\n",
       "      <th>2</th>\n",
       "      <td>0</td>\n",
       "      <td>PDGFRA</td>\n",
       "      <td>-0.004051</td>\n",
       "      <td>0.668536</td>\n",
       "      <td>1.0</td>\n",
       "      <td>0.002441</td>\n",
       "      <td>-0.119337</td>\n",
       "      <td>1.0</td>\n",
       "      <td>-0.001466</td>\n",
       "      <td>-0.010725</td>\n",
       "    </tr>\n",
       "    <tr>\n",
       "      <th>3</th>\n",
       "      <td>0</td>\n",
       "      <td>PIK3CA</td>\n",
       "      <td>-0.029511</td>\n",
       "      <td>0.188485</td>\n",
       "      <td>1.0</td>\n",
       "      <td>0.002062</td>\n",
       "      <td>-0.869316</td>\n",
       "      <td>1.0</td>\n",
       "      <td>-0.001466</td>\n",
       "      <td>-0.018853</td>\n",
       "    </tr>\n",
       "    <tr>\n",
       "      <th>4</th>\n",
       "      <td>0</td>\n",
       "      <td>PIK3R1</td>\n",
       "      <td>0.003699</td>\n",
       "      <td>0.868591</td>\n",
       "      <td>1.0</td>\n",
       "      <td>0.002832</td>\n",
       "      <td>0.108957</td>\n",
       "      <td>1.0</td>\n",
       "      <td>-0.001466</td>\n",
       "      <td>-0.012915</td>\n",
       "    </tr>\n",
       "  </tbody>\n",
       "</table>\n",
       "</div>"
      ],
      "text/plain": [
       "  geneA   geneB   pi_mean  fdr_left  fdr_right        sd         z   pp  \\\n",
       "0     0   PARP1 -0.007259  0.594822        1.0  0.006679 -0.213831  1.0   \n",
       "1     0   PBRM1  0.003589  0.864865        1.0  0.036733  0.105729  0.0   \n",
       "2     0  PDGFRA -0.004051  0.668536        1.0  0.002441 -0.119337  1.0   \n",
       "3     0  PIK3CA -0.029511  0.188485        1.0  0.002062 -0.869316  1.0   \n",
       "4     0  PIK3R1  0.003699  0.868591        1.0  0.002832  0.108957  1.0   \n",
       "\n",
       "         fA        fB  \n",
       "0 -0.001466 -0.026537  \n",
       "1 -0.001466 -0.010180  \n",
       "2 -0.001466 -0.010725  \n",
       "3 -0.001466 -0.018853  \n",
       "4 -0.001466 -0.012915  "
      ]
     },
     "execution_count": 19,
     "metadata": {},
     "output_type": "execute_result"
    }
   ],
   "source": [
    "abundance_file = \"/cellar/users/bpmunson/crappy/data/test_data/input_data/A549/A549_abundance_thresholds.txt\"\n",
    "counts_file = \"/cellar/users/bpmunson/crappy/data/test_data/input_data/A549/A549_timepoint_counts.txt\"\n",
    "times = np.array([3,14,21,28])\n",
    "\n",
    "# initialize screen object\n",
    "screen = Scorer.Scorer(counts_file, times)\n",
    "\n",
    "# set some parameters\n",
    "# number of iterations to perform\n",
    "screen.niter = 2\n",
    "screen.null_target_id = '0'\n",
    "screen.verbose = True\n",
    "\n",
    "\n",
    "# perform construct fitness calculation\n",
    "screen.run_construct_fitting()\n",
    "\n",
    "# run bootstraps\n",
    "screen.run_sampling()\n",
    "\n",
    "# summarize results \n",
    "screen.summarize()\n",
    "\n",
    "# view results \n",
    "screen.results.head()"
   ]
  },
  {
   "cell_type": "code",
   "execution_count": 20,
   "metadata": {},
   "outputs": [
    {
     "ename": "AttributeError",
     "evalue": "'Scorer' object has no attribute 'options'",
     "output_type": "error",
     "traceback": [
      "\u001b[0;31m---------------------------------------------------------------------------\u001b[0m",
      "\u001b[0;31mAttributeError\u001b[0m                            Traceback (most recent call last)",
      "\u001b[0;32m<ipython-input-20-e75d0b0dc345>\u001b[0m in \u001b[0;36m<module>\u001b[0;34m()\u001b[0m\n\u001b[1;32m      8\u001b[0m \u001b[0;31m# set some parameters\u001b[0m\u001b[0;34m\u001b[0m\u001b[0;34m\u001b[0m\u001b[0m\n\u001b[1;32m      9\u001b[0m \u001b[0;31m# number of iterations to perform\u001b[0m\u001b[0;34m\u001b[0m\u001b[0;34m\u001b[0m\u001b[0m\n\u001b[0;32m---> 10\u001b[0;31m \u001b[0mscreen\u001b[0m\u001b[0;34m.\u001b[0m\u001b[0moptions\u001b[0m\u001b[0;34m.\u001b[0m\u001b[0mniter\u001b[0m \u001b[0;34m=\u001b[0m \u001b[0;36m2\u001b[0m\u001b[0;34m\u001b[0m\u001b[0m\n\u001b[0m\u001b[1;32m     11\u001b[0m \u001b[0mscreen\u001b[0m\u001b[0;34m.\u001b[0m\u001b[0moptions\u001b[0m\u001b[0;34m.\u001b[0m\u001b[0mnull_target_id\u001b[0m \u001b[0;34m=\u001b[0m \u001b[0;34m'0'\u001b[0m\u001b[0;34m\u001b[0m\u001b[0m\n\u001b[1;32m     12\u001b[0m \u001b[0mscreen\u001b[0m\u001b[0;34m.\u001b[0m\u001b[0moptions\u001b[0m\u001b[0;34m.\u001b[0m\u001b[0mverbose\u001b[0m \u001b[0;34m=\u001b[0m \u001b[0;32mTrue\u001b[0m\u001b[0;34m\u001b[0m\u001b[0m\n",
      "\u001b[0;31mAttributeError\u001b[0m: 'Scorer' object has no attribute 'options'"
     ]
    }
   ],
   "source": [
    "abundance_file = \"/cellar/users/bpmunson/crappy/data/test_data/input_data/A549/A549_abundance_thresholds.txt\"\n",
    "counts_file = \"/cellar/users/bpmunson/crappy/data/test_data/input_data/A549/A549_timepoint_counts.txt\"\n",
    "times = np.array([3,14,21,28])\n",
    "\n",
    "# initialize screen object\n",
    "screen = Scorer.Scorer(counts_file, times, abundance_file)\n",
    "\n",
    "# set some parameters\n",
    "# number of iterations to perform\n",
    "screen.niter = 2\n",
    "screen.null_target_id = '0'\n",
    "screen.verbose = True\n",
    "\n",
    "# perform construct fitness calculation\n",
    "screen.run_construct_fitting()\n",
    "\n",
    "# run bootstraps\n",
    "screen.run_sampling()\n",
    "\n",
    "# summarize results \n",
    "screen.summarize()\n",
    "\n",
    "# view results \n",
    "screen.results.head()"
   ]
  },
  {
   "cell_type": "code",
   "execution_count": null,
   "metadata": {},
   "outputs": [],
   "source": [
    "sampleName                     \n",
    "testing_T3_1              3.025\n",
    "testing_T3_2              3.525\n",
    "testing_T14_1             5.525\n",
    "testing_T14_2             3.025\n",
    "testing_T21_1             4.525\n",
    "testing_T21_2             3.025\n",
    "testing_T28_1             3.025\n",
    "testing_T28_2             3.525\n",
    "\n",
    "\n",
    "\n",
    "sampleName                     \n",
    "testing_T3_1           3.335947\n",
    "testing_T3_2           3.475000\n",
    "testing_T14_1          3.338280\n",
    "testing_T14_2          4.089135\n",
    "testing_T21_1          4.525000\n",
    "testing_T21_2          4.325000\n",
    "testing_T28_1          4.225000\n",
    "testing_T28_2          3.575000"
   ]
  },
  {
   "cell_type": "code",
   "execution_count": null,
   "metadata": {},
   "outputs": [],
   "source": [
    "2**3.025"
   ]
  },
  {
   "cell_type": "code",
   "execution_count": null,
   "metadata": {},
   "outputs": [],
   "source": []
  }
 ],
 "metadata": {
  "kernelspec": {
   "display_name": "Python 3",
   "language": "python",
   "name": "python3"
  },
  "language_info": {
   "codemirror_mode": {
    "name": "ipython",
    "version": 3
   },
   "file_extension": ".py",
   "mimetype": "text/x-python",
   "name": "python",
   "nbconvert_exporter": "python",
   "pygments_lexer": "ipython3",
   "version": "3.5.4"
  }
 },
 "nbformat": 4,
 "nbformat_minor": 2
}
