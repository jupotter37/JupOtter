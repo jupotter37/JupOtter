{
 "cells": [
  {
   "cell_type": "markdown",
   "metadata": {},
   "source": [
    "##                                                              BiConvexMP\n",
    "\n",
    "In this tutorial, we will see how to generate a trot gait for solo12 (quadruped robot) using the BiConMP framework. The same ideas can be used to generate arbitrary gaits that you desire !!!\n",
    "\n",
    "Firstly we import all the neccesary packages to setup the example :-)"
   ]
  },
  {
   "cell_type": "code",
   "execution_count": 11,
   "metadata": {},
   "outputs": [
    {
     "name": "stdout",
     "output_type": "stream",
     "text": [
      "The autoreload extension is already loaded. To reload it, use:\n",
      "  %reload_ext autoreload\n"
     ]
    }
   ],
   "source": [
    "%load_ext autoreload\n",
    "%autoreload 2\n",
    "\n",
    "import time\n",
    "import numpy as np\n",
    "import pinocchio as pin\n",
    "from matplotlib import pyplot as plt\n",
    "%matplotlib notebook \n",
    "\n",
    "from robot_properties_solo.config import Solo12Config\n",
    "from mpc.abstract_cyclic_gen import SoloMpcGaitGen\n",
    "from motions.weight_abstract import BiconvexMotionParams\n",
    "# from solo12_gait_params import trot, walk\n"
   ]
  },
  {
   "cell_type": "markdown",
   "metadata": {},
   "source": [
    "Now that we have imported all the packages that we need, we initialize the meshcat using the pinocciho meshcat wrapper below. We will use meshcat to visualize the final motion/trajectory obtained from the BiConMP framework. "
   ]
  },
  {
   "cell_type": "code",
   "execution_count": 12,
   "metadata": {},
   "outputs": [
    {
     "name": "stdout",
     "output_type": "stream",
     "text": [
      "You can open the visualizer by visiting the following URL:\n",
      "http://127.0.0.1:7002/static/\n"
     ]
    }
   ],
   "source": [
    "robot = Solo12Config.buildRobotWrapper()\n",
    "viz = pin.visualize.MeshcatVisualizer(robot.model, robot.collision_model, robot.visual_model)\n",
    "viz.initViewer(open=False)\n",
    "viz.loadViewerModel()\n",
    "pin_robot = Solo12Config.buildRobotWrapper()\n"
   ]
  },
  {
   "cell_type": "markdown",
   "metadata": {},
   "source": [
    "### Biconvex Motion Params\n",
    "\n",
    "To be written ...."
   ]
  },
  {
   "cell_type": "code",
   "execution_count": 14,
   "metadata": {},
   "outputs": [],
   "source": [
    "bound = BiconvexMotionParams(\"solo12\", \"Bound\")\n",
    "# \n",
    "# Cnt\n",
    "bound.gait_period = 0.3\n",
    "bound.stance_percent = [0.5, 0.5, 0.5, 0.5]\n",
    "bound.gait_dt = 0.05\n",
    "bound.phase_offset = [0.0, 0.0, 0.5, 0.5]\n",
    "# \n",
    "# IK\n",
    "bound.state_wt = np.array([0., 0, 1e3] + [10, 10, 10] + [50.0] * (pin_robot.model.nv - 6) \\\n",
    "                        + [0.00] * 3 + [100, 10, 100] + [0.5] *(pin_robot.model.nv - 6))\n",
    "# \n",
    "bound.ctrl_wt = [0.5, 0.5, 0.5] + [1, 1, 1] + [0.5] *(pin_robot.model.nv - 6)\n",
    "# \n",
    "bound.swing_wt = [1e4, 1e4]\n",
    "bound.cent_wt = [5e+1, 5e+2]\n",
    "bound.step_ht = 0.07\n",
    "bound.reg_wt = [7e-3, 7e-5]\n",
    "# \n",
    "# Dyn \n",
    "bound.W_X =        np.array([1e-5, 1e-5, 5e+4, 1e1, 1e1, 1e+3, 5e+3, 1e+4, 5e+3])\n",
    "bound.W_X_ter = 10*np.array([1e-5, 1e-5, 5e+4, 1e1, 1e1, 1e+3, 1e+4, 1e+4, 1e+4])\n",
    "bound.W_F = np.array(4*[1e1, 1e+1, 1.5e+1])\n",
    "bound.nom_ht = 0.25\n",
    "bound.rho = 5e+4\n",
    "bound.ori_correction = [0.2, 0.8, 0.8]\n",
    "bound.gait_horizon = 1.5\n",
    "# \n",
    "# Gains\n",
    "bound.kp = 3.0\n",
    "bound.kd = 0.05\n"
   ]
  },
  {
   "cell_type": "code",
   "execution_count": 15,
   "metadata": {},
   "outputs": [
    {
     "name": "stdout",
     "output_type": "stream",
     "text": [
      "Initialized Kino-Dyn planner\n"
     ]
    }
   ],
   "source": [
    "## Motion\n",
    "gait_params = bound\n",
    "\n",
    "## robot config and init\n",
    "urdf_path = Solo12Config.urdf_path\n",
    "gait_time = gait_params.gait_period\n",
    "dt = 5e-2\n",
    "\n",
    "n_eff = 4\n",
    "q0 = np.array(Solo12Config.initial_configuration)\n",
    "# q0[7:13] = 2 * [0.0, -0.8, 1.6]\n",
    "\n",
    "v0 = pin.utils.zero(pin_robot.model.nv)\n",
    "x0 = np.concatenate([q0, pin.utils.zero(pin_robot.model.nv)])\n",
    "\n",
    "w_des = 0.0\n",
    "v_des = np.array([-0.4,0.0, 0])\n",
    "\n",
    "plan_freq = 0.8\n",
    "update_time = 0.02 # sec (time of lag)\n",
    "\n",
    "n = 1\n",
    "\n",
    "sim_t = 0.0\n",
    "step_t = 0\n",
    "sim_dt = .001\n",
    "\n",
    "gg = SoloMpcGaitGen(pin_robot, urdf_path, x0, plan_freq, q0, None)\n",
    "gg.update_gait_params(gait_params, sim_t)"
   ]
  },
  {
   "cell_type": "code",
   "execution_count": 16,
   "metadata": {},
   "outputs": [
    {
     "data": {
      "text/html": [
       "\n",
       "            <div style=\"height: 400px; width: 100%; overflow-x: auto; overflow-y: hidden; resize: both\">\n",
       "            <iframe src=\"http://127.0.0.1:7002/static/\" style=\"width: 100%; height: 100%; border: none\"></iframe>\n",
       "            </div>\n",
       "            "
      ],
      "text/plain": [
       "<IPython.core.display.HTML object>"
      ]
     },
     "execution_count": 16,
     "metadata": {},
     "output_type": "execute_result"
    }
   ],
   "source": [
    "viz.viewer.jupyter_cell()"
   ]
  },
  {
   "cell_type": "code",
   "execution_count": 10,
   "metadata": {
    "scrolled": false
   },
   "outputs": [
    {
     "name": "stdout",
     "output_type": "stream",
     "text": [
      "Maximum iterations reached \n",
      "Final norm: 0.000973993\n"
     ]
    }
   ],
   "source": [
    "%matplotlib notebook \n",
    "\n",
    "q = q0\n",
    "v = v0\n",
    "step_t = 0\n",
    "n = 0\n",
    "\n",
    "xs_plan, us_plan, f_plan = gg.optimize(q, v, np.round(sim_t,3), v_des, w_des)\n",
    "\n",
    "for ind in range(int(plan_freq/sim_dt)):\n",
    "    viz.display(xs_plan[ind][:robot.model.nq])"
   ]
  },
  {
   "cell_type": "code",
   "execution_count": 20,
   "metadata": {},
   "outputs": [
    {
     "name": "stdout",
     "output_type": "stream",
     "text": [
      "Maximum iterations reached \n",
      "Final norm: 0.0217794\n"
     ]
    },
    {
     "ename": "IndexError",
     "evalue": "index 120 is out of bounds for axis 0 with size 120",
     "output_type": "error",
     "traceback": [
      "\u001b[0;31m---------------------------------------------------------------------------\u001b[0m",
      "\u001b[0;31mIndexError\u001b[0m                                Traceback (most recent call last)",
      "Input \u001b[0;32mIn [20]\u001b[0m, in \u001b[0;36m<cell line: 8>\u001b[0;34m()\u001b[0m\n\u001b[1;32m     24\u001b[0m     plt_mom \u001b[38;5;241m=\u001b[39m np\u001b[38;5;241m.\u001b[39mvstack((plt_mom, gg\u001b[38;5;241m.\u001b[39mmom_int[:\u001b[38;5;28mint\u001b[39m(plan_freq\u001b[38;5;241m/\u001b[39msim_dt)]))\n\u001b[1;32m     26\u001b[0m \u001b[38;5;28;01mfor\u001b[39;00m ind \u001b[38;5;129;01min\u001b[39;00m \u001b[38;5;28mrange\u001b[39m(\u001b[38;5;28mint\u001b[39m(plan_freq\u001b[38;5;241m/\u001b[39msim_dt)\u001b[38;5;241m-\u001b[39m\u001b[38;5;241m5\u001b[39m):\n\u001b[0;32m---> 27\u001b[0m     viz\u001b[38;5;241m.\u001b[39mdisplay(\u001b[43mxs_plan\u001b[49m\u001b[43m[\u001b[49m\u001b[43mind\u001b[49m\u001b[43m]\u001b[49m[:robot\u001b[38;5;241m.\u001b[39mmodel\u001b[38;5;241m.\u001b[39mnq])\n\u001b[1;32m     29\u001b[0m q \u001b[38;5;241m=\u001b[39m xs_plan[\u001b[38;5;28mint\u001b[39m(plan_freq\u001b[38;5;241m/\u001b[39msim_dt)\u001b[38;5;241m-\u001b[39m\u001b[38;5;241m1\u001b[39m][\u001b[38;5;241m0\u001b[39m:pin_robot\u001b[38;5;241m.\u001b[39mmodel\u001b[38;5;241m.\u001b[39mnq]\n\u001b[1;32m     30\u001b[0m v \u001b[38;5;241m=\u001b[39m xs_plan[\u001b[38;5;28mint\u001b[39m(plan_freq\u001b[38;5;241m/\u001b[39msim_dt)\u001b[38;5;241m-\u001b[39m\u001b[38;5;241m1\u001b[39m][pin_robot\u001b[38;5;241m.\u001b[39mmodel\u001b[38;5;241m.\u001b[39mnq:]\n",
      "\u001b[0;31mIndexError\u001b[0m: index 120 is out of bounds for axis 0 with size 120"
     ]
    }
   ],
   "source": [
    "%matplotlib notebook \n",
    "\n",
    "q = q0\n",
    "v = v0\n",
    "step_t = 0\n",
    "n = 0\n",
    "\n",
    "for o in range(10):\n",
    "    xs_plan, us_plan, f_plan = gg.optimize(q, v, np.round(sim_t,3), v_des, w_des)\n",
    "\n",
    "    X_opt = gg.mp.return_opt_x()\n",
    "    F_opt = gg.mp.return_opt_f()\n",
    "\n",
    "    if o == 0:\n",
    "        plt_f = f_plan[:int(plan_freq/sim_dt)]\n",
    "        plt_xs = xs_plan[:int(plan_freq/sim_dt)]\n",
    "        plt_com = gg.com_int[:int(plan_freq/sim_dt)]\n",
    "        plt_mom = gg.mom_int[:int(plan_freq/sim_dt)]\n",
    "        \n",
    "    else:\n",
    "        plt_f = np.vstack((plt_f, f_plan[:int(plan_freq/sim_dt)]))\n",
    "        plt_xs = np.vstack((plt_xs, xs_plan[:int(plan_freq/sim_dt)]))\n",
    "        plt_com = np.vstack((plt_com, gg.com_int[:int(plan_freq/sim_dt)]))\n",
    "        plt_mom = np.vstack((plt_mom, gg.mom_int[:int(plan_freq/sim_dt)]))\n",
    "        \n",
    "    for ind in range(int(plan_freq/sim_dt)):\n",
    "        viz.display(xs_plan[ind][:robot.model.nq])\n",
    "    \n",
    "    q = xs_plan[int(plan_freq/sim_dt)-1][0:pin_robot.model.nq]\n",
    "    v = xs_plan[int(plan_freq/sim_dt)-1][pin_robot.model.nq:]\n",
    "\n",
    "    sim_t += plan_freq"
   ]
  }
 ],
 "metadata": {
  "kernelspec": {
   "display_name": "Python 3 (ipykernel)",
   "language": "python",
   "name": "python3"
  },
  "language_info": {
   "codemirror_mode": {
    "name": "ipython",
    "version": 3
   },
   "file_extension": ".py",
   "mimetype": "text/x-python",
   "name": "python",
   "nbconvert_exporter": "python",
   "pygments_lexer": "ipython3",
   "version": "3.8.10"
  }
 },
 "nbformat": 4,
 "nbformat_minor": 4
}
