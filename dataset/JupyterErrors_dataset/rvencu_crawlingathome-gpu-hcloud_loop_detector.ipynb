{
 "cells": [
  {
   "cell_type": "code",
   "execution_count": 373,
   "metadata": {},
   "outputs": [
    {
     "ename": "WebDriverException",
     "evalue": "Message: unknown error: Chrome failed to start: crashed.\n  (unknown error: DevToolsActivePort file doesn't exist)\n  (The process started from chrome location /usr/bin/google-chrome is no longer running, so ChromeDriver is assuming that Chrome has crashed.)\nStacktrace:\n#0 0x55930f8a9b33 <unknown>\n#1 0x55930f3726d8 <unknown>\n#2 0x55930f39584c <unknown>\n#3 0x55930f390fca <unknown>\n#4 0x55930f3cbe0a <unknown>\n#5 0x55930f3c5f53 <unknown>\n#6 0x55930f39ba0a <unknown>\n#7 0x55930f39cad5 <unknown>\n#8 0x55930f8db2fd <unknown>\n#9 0x55930f8f44bb <unknown>\n#10 0x55930f8dd0d5 <unknown>\n#11 0x55930f8f5145 <unknown>\n#12 0x55930f8d0aaf <unknown>\n#13 0x55930f911ba8 <unknown>\n#14 0x55930f911d28 <unknown>\n#15 0x55930f92c48d <unknown>\n#16 0x7f794af25609 <unknown>\n",
     "output_type": "error",
     "traceback": [
      "\u001b[0;31m---------------------------------------------------------------------------\u001b[0m",
      "\u001b[0;31mWebDriverException\u001b[0m                        Traceback (most recent call last)",
      "\u001b[0;32m/tmp/ipykernel_4175203/2716430859.py\u001b[0m in \u001b[0;36m<module>\u001b[0;34m\u001b[0m\n\u001b[1;32m     12\u001b[0m \u001b[0mpd\u001b[0m\u001b[0;34m.\u001b[0m\u001b[0mset_option\u001b[0m\u001b[0;34m(\u001b[0m\u001b[0;34m'display.max_colwidth'\u001b[0m\u001b[0;34m,\u001b[0m \u001b[0;32mNone\u001b[0m\u001b[0;34m)\u001b[0m\u001b[0;34m\u001b[0m\u001b[0;34m\u001b[0m\u001b[0m\n\u001b[1;32m     13\u001b[0m \u001b[0mdf\u001b[0m \u001b[0;34m=\u001b[0m \u001b[0mpd\u001b[0m\u001b[0;34m.\u001b[0m\u001b[0mDataFrame\u001b[0m\u001b[0;34m(\u001b[0m\u001b[0mcolumns\u001b[0m\u001b[0;34m=\u001b[0m\u001b[0;34m[\u001b[0m\u001b[0;34m\"url\"\u001b[0m\u001b[0;34m,\u001b[0m\u001b[0;34m\"label\"\u001b[0m\u001b[0;34m]\u001b[0m\u001b[0;34m)\u001b[0m\u001b[0;34m\u001b[0m\u001b[0;34m\u001b[0m\u001b[0m\n\u001b[0;32m---> 14\u001b[0;31m \u001b[0mbrowser\u001b[0m \u001b[0;34m=\u001b[0m \u001b[0mwebdriver\u001b[0m\u001b[0;34m.\u001b[0m\u001b[0mChrome\u001b[0m\u001b[0;34m(\u001b[0m\u001b[0;34m\"./chromedriver\"\u001b[0m\u001b[0;34m)\u001b[0m\u001b[0;34m\u001b[0m\u001b[0;34m\u001b[0m\u001b[0m\n\u001b[0m\u001b[1;32m     15\u001b[0m \u001b[0;34m\u001b[0m\u001b[0m\n\u001b[1;32m     16\u001b[0m \u001b[0murl\u001b[0m \u001b[0;34m=\u001b[0m \u001b[0;34m\"http://www.nemoapps.com/phrasebooks/hebrew\"\u001b[0m\u001b[0;34m\u001b[0m\u001b[0;34m\u001b[0m\u001b[0m\n",
      "\u001b[0;32m~/anaconda3/envs/gpu/lib/python3.9/site-packages/selenium/webdriver/chrome/webdriver.py\u001b[0m in \u001b[0;36m__init__\u001b[0;34m(self, executable_path, port, options, service_args, desired_capabilities, service_log_path, chrome_options, service, keep_alive)\u001b[0m\n\u001b[1;32m     68\u001b[0m             \u001b[0mservice\u001b[0m \u001b[0;34m=\u001b[0m \u001b[0mService\u001b[0m\u001b[0;34m(\u001b[0m\u001b[0mexecutable_path\u001b[0m\u001b[0;34m,\u001b[0m \u001b[0mport\u001b[0m\u001b[0;34m,\u001b[0m \u001b[0mservice_args\u001b[0m\u001b[0;34m,\u001b[0m \u001b[0mservice_log_path\u001b[0m\u001b[0;34m)\u001b[0m\u001b[0;34m\u001b[0m\u001b[0;34m\u001b[0m\u001b[0m\n\u001b[1;32m     69\u001b[0m \u001b[0;34m\u001b[0m\u001b[0m\n\u001b[0;32m---> 70\u001b[0;31m         super(WebDriver, self).__init__(DesiredCapabilities.CHROME['browserName'], \"goog\",\n\u001b[0m\u001b[1;32m     71\u001b[0m                                         \u001b[0mport\u001b[0m\u001b[0;34m,\u001b[0m \u001b[0moptions\u001b[0m\u001b[0;34m,\u001b[0m\u001b[0;34m\u001b[0m\u001b[0;34m\u001b[0m\u001b[0m\n\u001b[1;32m     72\u001b[0m                                         \u001b[0mservice_args\u001b[0m\u001b[0;34m,\u001b[0m \u001b[0mdesired_capabilities\u001b[0m\u001b[0;34m,\u001b[0m\u001b[0;34m\u001b[0m\u001b[0;34m\u001b[0m\u001b[0m\n",
      "\u001b[0;32m~/anaconda3/envs/gpu/lib/python3.9/site-packages/selenium/webdriver/chromium/webdriver.py\u001b[0m in \u001b[0;36m__init__\u001b[0;34m(self, browser_name, vendor_prefix, port, options, service_args, desired_capabilities, service_log_path, service, keep_alive)\u001b[0m\n\u001b[1;32m     91\u001b[0m \u001b[0;34m\u001b[0m\u001b[0m\n\u001b[1;32m     92\u001b[0m         \u001b[0;32mtry\u001b[0m\u001b[0;34m:\u001b[0m\u001b[0;34m\u001b[0m\u001b[0;34m\u001b[0m\u001b[0m\n\u001b[0;32m---> 93\u001b[0;31m             RemoteWebDriver.__init__(\n\u001b[0m\u001b[1;32m     94\u001b[0m                 \u001b[0mself\u001b[0m\u001b[0;34m,\u001b[0m\u001b[0;34m\u001b[0m\u001b[0;34m\u001b[0m\u001b[0m\n\u001b[1;32m     95\u001b[0m                 command_executor=ChromiumRemoteConnection(\n",
      "\u001b[0;32m~/anaconda3/envs/gpu/lib/python3.9/site-packages/selenium/webdriver/remote/webdriver.py\u001b[0m in \u001b[0;36m__init__\u001b[0;34m(self, command_executor, desired_capabilities, browser_profile, proxy, keep_alive, file_detector, options)\u001b[0m\n\u001b[1;32m    266\u001b[0m         \u001b[0mself\u001b[0m\u001b[0;34m.\u001b[0m\u001b[0mfile_detector\u001b[0m \u001b[0;34m=\u001b[0m \u001b[0mfile_detector\u001b[0m \u001b[0;32mor\u001b[0m \u001b[0mLocalFileDetector\u001b[0m\u001b[0;34m(\u001b[0m\u001b[0;34m)\u001b[0m\u001b[0;34m\u001b[0m\u001b[0;34m\u001b[0m\u001b[0m\n\u001b[1;32m    267\u001b[0m         \u001b[0mself\u001b[0m\u001b[0;34m.\u001b[0m\u001b[0mstart_client\u001b[0m\u001b[0;34m(\u001b[0m\u001b[0;34m)\u001b[0m\u001b[0;34m\u001b[0m\u001b[0;34m\u001b[0m\u001b[0m\n\u001b[0;32m--> 268\u001b[0;31m         \u001b[0mself\u001b[0m\u001b[0;34m.\u001b[0m\u001b[0mstart_session\u001b[0m\u001b[0;34m(\u001b[0m\u001b[0mcapabilities\u001b[0m\u001b[0;34m,\u001b[0m \u001b[0mbrowser_profile\u001b[0m\u001b[0;34m)\u001b[0m\u001b[0;34m\u001b[0m\u001b[0;34m\u001b[0m\u001b[0m\n\u001b[0m\u001b[1;32m    269\u001b[0m \u001b[0;34m\u001b[0m\u001b[0m\n\u001b[1;32m    270\u001b[0m     \u001b[0;32mdef\u001b[0m \u001b[0m__repr__\u001b[0m\u001b[0;34m(\u001b[0m\u001b[0mself\u001b[0m\u001b[0;34m)\u001b[0m\u001b[0;34m:\u001b[0m\u001b[0;34m\u001b[0m\u001b[0;34m\u001b[0m\u001b[0m\n",
      "\u001b[0;32m~/anaconda3/envs/gpu/lib/python3.9/site-packages/selenium/webdriver/remote/webdriver.py\u001b[0m in \u001b[0;36mstart_session\u001b[0;34m(self, capabilities, browser_profile)\u001b[0m\n\u001b[1;32m    357\u001b[0m         parameters = {\"capabilities\": w3c_caps,\n\u001b[1;32m    358\u001b[0m                       \"desiredCapabilities\": capabilities}\n\u001b[0;32m--> 359\u001b[0;31m         \u001b[0mresponse\u001b[0m \u001b[0;34m=\u001b[0m \u001b[0mself\u001b[0m\u001b[0;34m.\u001b[0m\u001b[0mexecute\u001b[0m\u001b[0;34m(\u001b[0m\u001b[0mCommand\u001b[0m\u001b[0;34m.\u001b[0m\u001b[0mNEW_SESSION\u001b[0m\u001b[0;34m,\u001b[0m \u001b[0mparameters\u001b[0m\u001b[0;34m)\u001b[0m\u001b[0;34m\u001b[0m\u001b[0;34m\u001b[0m\u001b[0m\n\u001b[0m\u001b[1;32m    360\u001b[0m         \u001b[0;32mif\u001b[0m \u001b[0;34m'sessionId'\u001b[0m \u001b[0;32mnot\u001b[0m \u001b[0;32min\u001b[0m \u001b[0mresponse\u001b[0m\u001b[0;34m:\u001b[0m\u001b[0;34m\u001b[0m\u001b[0;34m\u001b[0m\u001b[0m\n\u001b[1;32m    361\u001b[0m             \u001b[0mresponse\u001b[0m \u001b[0;34m=\u001b[0m \u001b[0mresponse\u001b[0m\u001b[0;34m[\u001b[0m\u001b[0;34m'value'\u001b[0m\u001b[0;34m]\u001b[0m\u001b[0;34m\u001b[0m\u001b[0;34m\u001b[0m\u001b[0m\n",
      "\u001b[0;32m~/anaconda3/envs/gpu/lib/python3.9/site-packages/selenium/webdriver/remote/webdriver.py\u001b[0m in \u001b[0;36mexecute\u001b[0;34m(self, driver_command, params)\u001b[0m\n\u001b[1;32m    422\u001b[0m         \u001b[0mresponse\u001b[0m \u001b[0;34m=\u001b[0m \u001b[0mself\u001b[0m\u001b[0;34m.\u001b[0m\u001b[0mcommand_executor\u001b[0m\u001b[0;34m.\u001b[0m\u001b[0mexecute\u001b[0m\u001b[0;34m(\u001b[0m\u001b[0mdriver_command\u001b[0m\u001b[0;34m,\u001b[0m \u001b[0mparams\u001b[0m\u001b[0;34m)\u001b[0m\u001b[0;34m\u001b[0m\u001b[0;34m\u001b[0m\u001b[0m\n\u001b[1;32m    423\u001b[0m         \u001b[0;32mif\u001b[0m \u001b[0mresponse\u001b[0m\u001b[0;34m:\u001b[0m\u001b[0;34m\u001b[0m\u001b[0;34m\u001b[0m\u001b[0m\n\u001b[0;32m--> 424\u001b[0;31m             \u001b[0mself\u001b[0m\u001b[0;34m.\u001b[0m\u001b[0merror_handler\u001b[0m\u001b[0;34m.\u001b[0m\u001b[0mcheck_response\u001b[0m\u001b[0;34m(\u001b[0m\u001b[0mresponse\u001b[0m\u001b[0;34m)\u001b[0m\u001b[0;34m\u001b[0m\u001b[0;34m\u001b[0m\u001b[0m\n\u001b[0m\u001b[1;32m    425\u001b[0m             response['value'] = self._unwrap_value(\n\u001b[1;32m    426\u001b[0m                 response.get('value', None))\n",
      "\u001b[0;32m~/anaconda3/envs/gpu/lib/python3.9/site-packages/selenium/webdriver/remote/errorhandler.py\u001b[0m in \u001b[0;36mcheck_response\u001b[0;34m(self, response)\u001b[0m\n\u001b[1;32m    245\u001b[0m                 \u001b[0malert_text\u001b[0m \u001b[0;34m=\u001b[0m \u001b[0mvalue\u001b[0m\u001b[0;34m[\u001b[0m\u001b[0;34m'alert'\u001b[0m\u001b[0;34m]\u001b[0m\u001b[0;34m.\u001b[0m\u001b[0mget\u001b[0m\u001b[0;34m(\u001b[0m\u001b[0;34m'text'\u001b[0m\u001b[0;34m)\u001b[0m\u001b[0;34m\u001b[0m\u001b[0;34m\u001b[0m\u001b[0m\n\u001b[1;32m    246\u001b[0m             \u001b[0;32mraise\u001b[0m \u001b[0mexception_class\u001b[0m\u001b[0;34m(\u001b[0m\u001b[0mmessage\u001b[0m\u001b[0;34m,\u001b[0m \u001b[0mscreen\u001b[0m\u001b[0;34m,\u001b[0m \u001b[0mstacktrace\u001b[0m\u001b[0;34m,\u001b[0m \u001b[0malert_text\u001b[0m\u001b[0;34m)\u001b[0m  \u001b[0;31m# type: ignore[call-arg]  # mypy is not smart enough here\u001b[0m\u001b[0;34m\u001b[0m\u001b[0;34m\u001b[0m\u001b[0m\n\u001b[0;32m--> 247\u001b[0;31m         \u001b[0;32mraise\u001b[0m \u001b[0mexception_class\u001b[0m\u001b[0;34m(\u001b[0m\u001b[0mmessage\u001b[0m\u001b[0;34m,\u001b[0m \u001b[0mscreen\u001b[0m\u001b[0;34m,\u001b[0m \u001b[0mstacktrace\u001b[0m\u001b[0;34m)\u001b[0m\u001b[0;34m\u001b[0m\u001b[0;34m\u001b[0m\u001b[0m\n\u001b[0m\u001b[1;32m    248\u001b[0m \u001b[0;34m\u001b[0m\u001b[0m\n\u001b[1;32m    249\u001b[0m     \u001b[0;32mdef\u001b[0m \u001b[0m_value_or_default\u001b[0m\u001b[0;34m(\u001b[0m\u001b[0mself\u001b[0m\u001b[0;34m,\u001b[0m \u001b[0mobj\u001b[0m\u001b[0;34m:\u001b[0m \u001b[0mMapping\u001b[0m\u001b[0;34m[\u001b[0m\u001b[0m_KT\u001b[0m\u001b[0;34m,\u001b[0m \u001b[0m_VT\u001b[0m\u001b[0;34m]\u001b[0m\u001b[0;34m,\u001b[0m \u001b[0mkey\u001b[0m\u001b[0;34m:\u001b[0m \u001b[0m_KT\u001b[0m\u001b[0;34m,\u001b[0m \u001b[0mdefault\u001b[0m\u001b[0;34m:\u001b[0m \u001b[0m_VT\u001b[0m\u001b[0;34m)\u001b[0m \u001b[0;34m->\u001b[0m \u001b[0m_VT\u001b[0m\u001b[0;34m:\u001b[0m\u001b[0;34m\u001b[0m\u001b[0;34m\u001b[0m\u001b[0m\n",
      "\u001b[0;31mWebDriverException\u001b[0m: Message: unknown error: Chrome failed to start: crashed.\n  (unknown error: DevToolsActivePort file doesn't exist)\n  (The process started from chrome location /usr/bin/google-chrome is no longer running, so ChromeDriver is assuming that Chrome has crashed.)\nStacktrace:\n#0 0x55930f8a9b33 <unknown>\n#1 0x55930f3726d8 <unknown>\n#2 0x55930f39584c <unknown>\n#3 0x55930f390fca <unknown>\n#4 0x55930f3cbe0a <unknown>\n#5 0x55930f3c5f53 <unknown>\n#6 0x55930f39ba0a <unknown>\n#7 0x55930f39cad5 <unknown>\n#8 0x55930f8db2fd <unknown>\n#9 0x55930f8f44bb <unknown>\n#10 0x55930f8dd0d5 <unknown>\n#11 0x55930f8f5145 <unknown>\n#12 0x55930f8d0aaf <unknown>\n#13 0x55930f911ba8 <unknown>\n#14 0x55930f911d28 <unknown>\n#15 0x55930f92c48d <unknown>\n#16 0x7f794af25609 <unknown>\n"
     ]
    }
   ],
   "source": [
    "import requests\n",
    "from selenium import webdriver\n",
    "from lxml import etree, html\n",
    "from itertools import chain\n",
    "import pandas as pd\n",
    "import json\n",
    "import re\n",
    "from urllib.parse import urlparse\n",
    "\n",
    "# as per recommendation from @freylis, compile once only\n",
    "CLEANR = re.compile('<.*?>')\n",
    "pd.set_option('display.max_colwidth', None)\n",
    "df = pd.DataFrame(columns=[\"url\",\"label\"])\n",
    "browser = webdriver.Chrome(\"./chromedriver\")\n",
    "\n",
    "url = \"http://www.nemoapps.com/phrasebooks/hebrew\"\n",
    "url = \"https://freemusicarchive.org/genre/International\"\n",
    "url = \"https://sound-effects.bbcrewind.co.uk/search?cat=Nature&resultSize=20\"\n",
    "\n",
    "browser.get(url)\n",
    "doc = browser.execute_script(\"return document.body.innerHTML\")\n",
    "\n",
    "print(doc)\n",
    "parsed_uri = urlparse( url )\n",
    "base = f'{parsed_uri.scheme}://{parsed_uri.netloc}'\n",
    "\n",
    "htmlparser = etree.HTMLParser()\n",
    "tree = etree.fromstring(doc, htmlparser)\n",
    "\n"
   ]
  },
  {
   "cell_type": "code",
   "execution_count": null,
   "metadata": {},
   "outputs": [],
   "source": [
    "def stringify_children(node):\n",
    "    parts = (list(chain(*(etree.tostring(c, encoding=\"utf-8\").decode().split() for c in node.getchildren()))))\n",
    "    return ' '.join(filter(None, parts))\n",
    "    \n",
    "def cleanhtml(raw_html):\n",
    "  cleantext = re.sub(CLEANR, '', raw_html)\n",
    "  return cleantext.strip()\n",
    "\n",
    "def _walk_parents(tag):\n",
    "    if tag.tag in [\"source\", \"audio\"]:\n",
    "        tag = tag.getparent()\n",
    "        return _walk_parents(tag)\n",
    "    else:\n",
    "        return(tag)\n",
    "\n",
    "def _detect_tag(link: str, tag: str, attr: str):\n",
    "    A = tree.xpath(f\"//{tag}[@{attr}='{link}']\")\n",
    "    if len(A) > 0:\n",
    "        return A[0]\n",
    "    else:\n",
    "        return None"
   ]
  },
  {
   "cell_type": "code",
   "execution_count": null,
   "metadata": {},
   "outputs": [
    {
     "name": "stdout",
     "output_type": "stream",
     "text": [
      "[(<Element style at 0x7f9363b7b860>, None, 'ReithSans_W_Bd.woff2', 194), (<Element style at 0x7f9363b7b860>, None, 'ReithSans_W_Rg.woff', 83), (<Element link at 0x7f9363b7b950>, 'href', '/favicon.ico', 0), (<Element script at 0x7f9363b7b4f0>, 'src', 'https://static.bbci.co.uk/frameworks/requirejs/0.13.0/sharedmodules/require.js', 0), (<Element style at 0x7f9363b7b860>, None, 'ReithSans_W_Bd.woff', 236), (<Element script at 0x7f9363b7b310>, 'src', '/static/js/main.572a7de3.chunk.js', 0), (<Element link at 0x7f94336a3a90>, 'href', '/manifest.json', 0), (<Element img at 0x7f9363b7b9a0>, 'src', 'https://ichef.bbci.co.uk/images/ic/480xn/p08zprnd.jpg', 0), (<Element link at 0x7f9363b7b590>, 'href', '/static/css/2.33d33083.chunk.css', 0), (<Element style at 0x7f9363b7b860>, None, 'ReithSans_W_Rg.woff2', 41), (<Element img at 0x7f9363b7b090>, 'src', 'data:image/png;base64,iVBORw0KGgoAAAANSUhEUgAAAFYAAAAaCAYAAAAtzKvgAAAACXBIWXMAAAsSAAALEgHS3X78AAACl0lEQVRoge1Z63HbMAwGe/kfbRBtEG1Qd4J6g2QEZwN3gmqEZINkgiobKBsoGzQToAcHqnEEqEcEync+f3c4y3zgs0AQBOEAAHtYB4+I2BFTCKEEgPsz5wVcSTaICCT0fO6835SZL3DBxbCZcDWi9odq+UTFsgWAa9W7HKfilXgCgAYAKD53FKdDCBRKCg4pJLdqloCKD730sSklTPJozTVkcqxL8Yn5WXhZ6DAvLF7jd5RsfKVnzGMPCCEU7Ck9WkT8S0KnLPf/VBMXYmXeD16E1njv/je0vffCpweQF5NhvyttlrVjz0ms9D5aOTX/q54zMi4HLy1UFekd2hEde3bJn9YY1TD1BVFuGaMvl2Fz8O7EmIoNbY2zpDPaFqdbhWpZB56874hYw3HrNzMPxhvVsjDdehU3mo3qzQdv3lo877yyjUmHF7v7L/kdESkG0ctVHI9yYIz32YGzFc+uDqLiQxzrUsJb0kw3DPFOt1x4I73W/C/JohjLqc+GE/oPNSATTsU7B1Pz2CqKRT2ockTScLybG/gHsQYvzSc9/PVt7DY1B0lXH9pCQmReWRv9OdKtOEVawiv1pHLS2eJRhJEBv1G9+bB14t2J59ortHgYtlMt68CL9yaEcCh+81V5M8O4NO5FtToY9jVa8a0akQfevDXHc+BaQcXVrZSBKRY/8JXWOgMm57GtUcr7X4yA40Fzp2Yuw1q8dPA1fJC1rP8e7EtIzK+U9UgGZiuHtIQ9Zux+7ZbHCj2uvKxrZ3FZwh77bOgZLhsaqyVRiKKzW4oygbdkcedlz/0dQtizwRr20AaOf0aWvECD/IOGBYA/qmUdnIq3xzWHl0OIGdruKVz+88qEi2Ez4SqqHuWEzDvjqtV58QLAPzk68j9emiAiAAAAAElFTkSuQmCC', 0), (<Element link at 0x7f9363b7b810>, 'href', '/static/css/main.e13e286b.chunk.css', 0), (<Element script at 0x7f9363b7b130>, 'src', '/static/js/2.44c6cfc0.chunk.js', 0)]\n",
      "0\n"
     ]
    }
   ],
   "source": [
    "string_document = html.fromstring(doc)\n",
    "links = list(set(string_document.iterlinks()))\n",
    "audio = []\n",
    "\n",
    "print(links)\n",
    "\n",
    "for link in links:\n",
    "    if link[2].endswith(\".mp3\"):\n",
    "        ln = link[2]\n",
    "        audio.append(ln)\n",
    "\n",
    "print(len(audio))\n",
    "#no links found with iterlinks\n",
    "if len(audio) == 0:\n",
    "    links = string_document.xpath(\"//div\")\n",
    "    for link in links:\n",
    "        \n",
    "        if link.get(\"data-track-info\") is not None:\n",
    "            label = json.loads(str(link.get(\"data-track-info\")))\n",
    "            ln = label[\"fileUrl\"]\n",
    "        df = df.append({'url':ln, 'label':label}, ignore_index = True)     \n",
    "\n",
    "else:\n",
    "    #first tag containing audio link\n",
    "    L = None\n",
    "    elem = None\n",
    "    atrib = None\n",
    "    #tags to try\n",
    "    tags = [(\"source\", \"src\"),(\"audio\", \"src\"),(\"div\", \"data-track-info\"),(\"div\", \"src\")]\n",
    "    for tg in tags:\n",
    "        A = _detect_tag(audio[0], tg[0], tg[1])\n",
    "        if A is not None:\n",
    "            L = _walk_parents(A)\n",
    "            elem = tg[0]\n",
    "            atrib = tg[1]\n",
    "            break\n",
    "        else:\n",
    "            print (f\"Exception: cannot extract {tg[0]} tag\")\n",
    "\n",
    "    print(L.tag)\n",
    "    if L.tag == \"td\":\n",
    "        L = L.getparent() # the looping element must be the tr\n",
    "    #get looping siblings\n",
    "    loops = [L]\n",
    "    loops += list(L.itersiblings())\n",
    "    loops += list(L.itersiblings(preceding=True))\n",
    "    print(len(loops))\n",
    "\n",
    "    #iterate loops. extract audio url, text and attributes\n",
    "\n",
    "    for loop in loops:\n",
    "        items = list(loop.iter())\n",
    "        ln = None\n",
    "        for item in items:\n",
    "            if item.get(atrib) is not None:\n",
    "                if item.get(atrib).endswith(\".mp3\"):\n",
    "                    ln = item.get(atrib)\n",
    "                    if not ln.startswith(base):\n",
    "                        if ln.startswith(\"/\"):\n",
    "                            ln = base + ln\n",
    "                        else:\n",
    "                            ln = url + \"/\" + ln\n",
    "                break\n",
    "        label = cleanhtml(stringify_children(loop))\n",
    "        df = df.append({'url':ln, 'label':label}, ignore_index = True)"
   ]
  },
  {
   "cell_type": "code",
   "execution_count": null,
   "metadata": {},
   "outputs": [
    {
     "name": "stdout",
     "output_type": "stream",
     "text": [
      "(4, 2)\n",
      "                                                                                                                   url  \\\n",
      "0  https://files.freemusicarchive.org/storage-freemusicarchive-org/tracks/YZErKmrB6HYf42epNurYQcS1Qq3eIoMoHfObvXxE.mp3   \n",
      "1  https://files.freemusicarchive.org/storage-freemusicarchive-org/tracks/YZErKmrB6HYf42epNurYQcS1Qq3eIoMoHfObvXxE.mp3   \n",
      "2  https://files.freemusicarchive.org/storage-freemusicarchive-org/tracks/YZErKmrB6HYf42epNurYQcS1Qq3eIoMoHfObvXxE.mp3   \n",
      "3  https://files.freemusicarchive.org/storage-freemusicarchive-org/tracks/YZErKmrB6HYf42epNurYQcS1Qq3eIoMoHfObvXxE.mp3   \n",
      "\n",
      "                                                                                                                                                                                                                                                                                                                                                                                                                                                                                                                                                                                                                                                            label  \n",
      "0  {'id': 200670, 'handle': 'silence-by-sentence', 'url': 'https://freemusicarchive.org/music/one-man-book/potlatch/silence-by-sentence', 'title': 'Silence By Sentence', 'artistName': 'One Man Book', 'artistUrl': 'https://freemusicarchive.org/music/one-man-book', 'albumTitle': 'Potlatch', 'playbackUrl': 'https://freemusicarchive.org/track/silence-by-sentence/stream', 'downloadUrl': 'https://freemusicarchive.org/track/silence-by-sentence/download', 'fileName': 'YZErKmrB6HYf42epNurYQcS1Qq3eIoMoHfObvXxE.mp3', 'fileUrl': 'https://files.freemusicarchive.org/storage-freemusicarchive-org/tracks/YZErKmrB6HYf42epNurYQcS1Qq3eIoMoHfObvXxE.mp3'}  \n",
      "1  {'id': 200670, 'handle': 'silence-by-sentence', 'url': 'https://freemusicarchive.org/music/one-man-book/potlatch/silence-by-sentence', 'title': 'Silence By Sentence', 'artistName': 'One Man Book', 'artistUrl': 'https://freemusicarchive.org/music/one-man-book', 'albumTitle': 'Potlatch', 'playbackUrl': 'https://freemusicarchive.org/track/silence-by-sentence/stream', 'downloadUrl': 'https://freemusicarchive.org/track/silence-by-sentence/download', 'fileName': 'YZErKmrB6HYf42epNurYQcS1Qq3eIoMoHfObvXxE.mp3', 'fileUrl': 'https://files.freemusicarchive.org/storage-freemusicarchive-org/tracks/YZErKmrB6HYf42epNurYQcS1Qq3eIoMoHfObvXxE.mp3'}  \n",
      "2  {'id': 200670, 'handle': 'silence-by-sentence', 'url': 'https://freemusicarchive.org/music/one-man-book/potlatch/silence-by-sentence', 'title': 'Silence By Sentence', 'artistName': 'One Man Book', 'artistUrl': 'https://freemusicarchive.org/music/one-man-book', 'albumTitle': 'Potlatch', 'playbackUrl': 'https://freemusicarchive.org/track/silence-by-sentence/stream', 'downloadUrl': 'https://freemusicarchive.org/track/silence-by-sentence/download', 'fileName': 'YZErKmrB6HYf42epNurYQcS1Qq3eIoMoHfObvXxE.mp3', 'fileUrl': 'https://files.freemusicarchive.org/storage-freemusicarchive-org/tracks/YZErKmrB6HYf42epNurYQcS1Qq3eIoMoHfObvXxE.mp3'}  \n",
      "3  {'id': 200670, 'handle': 'silence-by-sentence', 'url': 'https://freemusicarchive.org/music/one-man-book/potlatch/silence-by-sentence', 'title': 'Silence By Sentence', 'artistName': 'One Man Book', 'artistUrl': 'https://freemusicarchive.org/music/one-man-book', 'albumTitle': 'Potlatch', 'playbackUrl': 'https://freemusicarchive.org/track/silence-by-sentence/stream', 'downloadUrl': 'https://freemusicarchive.org/track/silence-by-sentence/download', 'fileName': 'YZErKmrB6HYf42epNurYQcS1Qq3eIoMoHfObvXxE.mp3', 'fileUrl': 'https://files.freemusicarchive.org/storage-freemusicarchive-org/tracks/YZErKmrB6HYf42epNurYQcS1Qq3eIoMoHfObvXxE.mp3'}  \n"
     ]
    }
   ],
   "source": [
    "\n",
    "\n",
    "print(df.shape)\n",
    "\n",
    "df.to_parquet(\"demo_audio.parquet\")\n",
    "\n",
    "print(df.head())"
   ]
  }
 ],
 "metadata": {
  "interpreter": {
   "hash": "ee22a52db22349ad32e35f3b499efddea1c9229e771c5fd65652469b6b2f1979"
  },
  "kernelspec": {
   "display_name": "Python 3.9.7 64-bit ('gpu': conda)",
   "language": "python",
   "name": "python3"
  },
  "language_info": {
   "codemirror_mode": {
    "name": "ipython",
    "version": 3
   },
   "file_extension": ".py",
   "mimetype": "text/x-python",
   "name": "python",
   "nbconvert_exporter": "python",
   "pygments_lexer": "ipython3",
   "version": "3.9.7"
  },
  "orig_nbformat": 4
 },
 "nbformat": 4,
 "nbformat_minor": 2
}
