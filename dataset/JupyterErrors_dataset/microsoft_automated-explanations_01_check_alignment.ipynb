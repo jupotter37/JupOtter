{
 "cells": [
  {
   "cell_type": "code",
   "execution_count": 124,
   "metadata": {},
   "outputs": [
    {
     "name": "stdout",
     "output_type": "stream",
     "text": [
      "The autoreload extension is already loaded. To reload it, use:\n",
      "  %reload_ext autoreload\n"
     ]
    }
   ],
   "source": [
    "%load_ext autoreload\n",
    "%autoreload 2\n",
    "import os\n",
    "import matplotlib.pyplot as plt\n",
    "import seaborn as sns\n",
    "from os.path import join\n",
    "from tqdm import tqdm\n",
    "import joblib\n",
    "import sasc.config\n",
    "import numpy as np\n",
    "import sasc.viz\n",
    "from sasc import analyze_helper\n",
    "from sasc.config import FMRI_DIR, RESULTS_DIR\n",
    "import dvu\n",
    "import pandas as pd\n",
    "dvu.set_style()"
   ]
  },
  {
   "cell_type": "markdown",
   "metadata": {},
   "source": [
    "### Load pilot pickle"
   ]
  },
  {
   "cell_type": "code",
   "execution_count": 125,
   "metadata": {},
   "outputs": [
    {
     "name": "stderr",
     "output_type": "stream",
     "text": [
      "  0%|          | 0/6 [00:00<?, ?it/s]"
     ]
    },
    {
     "name": "stderr",
     "output_type": "stream",
     "text": [
      "100%|██████████| 6/6 [00:16<00:00,  2.67s/it]\n"
     ]
    }
   ],
   "source": [
    "# pilot_name = 'pilot_story_data.pkl'\n",
    "pilot_name = 'pilot3_story_data.pkl'\n",
    "\n",
    "stories_data_dict = joblib.load(\n",
    "    join(sasc.config.RESULTS_DIR, pilot_name))\n",
    "if pilot_name == 'pilot_story_data.pkl':\n",
    "    pilot_data_dir = '/home/chansingh/mntv1/deep-fMRI/story_data/20230504'\n",
    "elif pilot_name == 'pilot2_story_data.pkl':\n",
    "    pilot_data_dir = '/home/chansingh/mntv1/deep-fMRI/story_data/20230702'\n",
    "elif pilot_name == 'pilot3_story_data.pkl':\n",
    "    pilot_data_dir = '/home/chansingh/mntv1/deep-fMRI/story_data/20231106'\n",
    "\n",
    "\n",
    "# load responses\n",
    "# story_idxs = np.where(\n",
    "    # np.array(stories_data_dict['story_setting']) == 'default')[0]\n",
    "story_idxs = np.arange(len(stories_data_dict['story_name_new']))\n",
    "resp_np_files = [stories_data_dict['story_name_new'][i].replace('_resps', '')\n",
    "                 for i in story_idxs]\n",
    "resps_dict = {\n",
    "    k: np.load(join(pilot_data_dir, k))\n",
    "    for k in tqdm(resp_np_files)\n",
    "}"
   ]
  },
  {
   "cell_type": "markdown",
   "metadata": {},
   "source": [
    "### Let's check the alignment"
   ]
  },
  {
   "cell_type": "code",
   "execution_count": 126,
   "metadata": {},
   "outputs": [],
   "source": [
    "timings_list = stories_data_dict['timing']\n",
    "story_names_list = list(resps_dict.keys())\n",
    "resps = list(resps_dict.values())"
   ]
  },
  {
   "cell_type": "code",
   "execution_count": 127,
   "metadata": {},
   "outputs": [
    {
     "name": "stdout",
     "output_type": "stream",
     "text": [
      "GenStory12.npy resp_length 365 story_trs 374 story_length 749.0\n",
      "GenStory13.npy resp_length 430 story_trs 439 story_length 878.7\n",
      "GenStory14.npy resp_length 328 story_trs 337 story_length 675.2\n",
      "GenStory15.npy resp_length 399 story_trs 408 story_length 816.1\n",
      "GenStory16.npy resp_length 301 story_trs 310 story_length 621.8\n",
      "GenStory17.npy resp_length 278 story_trs 287 story_length 575.5\n"
     ]
    }
   ],
   "source": [
    "TRIM = 5\n",
    "for i in range(len(resps)):\n",
    "    t = timings_list[i]\n",
    "    duration_secs = t['time_running'].max()\n",
    "    print(story_names_list[i], 'resp_length',\n",
    "          resps[i].shape[0], 'story_trs',\n",
    "          int(duration_secs // 2), 'story_length', duration_secs.round(1))  # , 'timings',\n",
    "    diff = int(duration_secs // 2) - resps[i].shape[0]\n",
    "    assert abs(diff - TRIM * 2) <= 1"
   ]
  },
  {
   "cell_type": "markdown",
   "metadata": {},
   "source": [
    "### Let's check the alignment w/ paragraphs"
   ]
  },
  {
   "cell_type": "code",
   "execution_count": 134,
   "metadata": {},
   "outputs": [],
   "source": [
    "# for story_num in [0]:\n",
    "for story_num in story_idxs:\n",
    "    rows = stories_data_dict[\"rows\"][story_num]\n",
    "\n",
    "    # get resp_chunks\n",
    "    resp_story = resps_dict[\n",
    "        stories_data_dict[\"story_name_new\"][story_num].replace(\n",
    "            '_resps', '')\n",
    "    ].T  # (voxels, time)\n",
    "    timing = stories_data_dict[\"timing\"][story_num]\n",
    "    if 'paragraphs' in stories_data_dict.keys():\n",
    "        paragraphs = stories_data_dict[\"paragraphs\"][story_num]\n",
    "    else:\n",
    "        paragraphs = stories_data_dict[\"story_text\"][story_num].split(\"\\n\\n\")\n",
    "\n",
    "    if pilot_name in ['pilot3_story_data.pkl']:\n",
    "        paragraphs = [sasc.analyze_helper.remove_repeated_words(\n",
    "            p) for p in paragraphs]\n",
    "    assert len(paragraphs) == len(rows), f\"{len(paragraphs)} != {len(rows)}\"\n",
    "    resp_chunks = analyze_helper.get_resps_for_paragraphs(\n",
    "        timing, paragraphs, resp_story, offset=2)\n",
    "    assert len(resp_chunks) <= len(\n",
    "        paragraphs), f\"{len(resp_chunks)} > {len(paragraphs)}\""
   ]
  },
  {
   "cell_type": "code",
   "execution_count": 135,
   "metadata": {},
   "outputs": [
    {
     "name": "stdout",
     "output_type": "stream",
     "text": [
      "['Once', 'upon', 'a', 'time,', 'in', 'a', 'quaint', 'little', 'town', 'where', 'age', 'seemed', 'to', 'hold', 'a', 'mystical', 'significance,', 'I', 'found', 'myself', 'reflecting', 'on', 'the', 'various', 'stages', 'of', 'my', 'life.', 'I', 'was', 'twenty', 'now,', 'but', 'it', 'felt', 'like', 'just', 'yesterday', 'when', 'I', 'was', 'seventeen,', 'filled', 'with', 'the', 'exuberance', 'of', 'youth', 'and', 'the', 'excitement', 'of', 'new', 'experiences.', 'The', 'days', 'of', 'being', 'eighteen', 'were', 'not', 'far', 'behind', 'either,', 'when', 'I', 'had', 'started', 'to', 'gain', 'a', 'sense', 'of', 'independence', 'and', 'responsibility.', 'As', 'I', 'strolled', 'down', 'the', 'memory', 'lane,', 'I', \"couldn't\", 'help', 'but', 'wonder', 'how', 'these', 'different', 'ages', 'had', 'shaped', 'me', 'into', 'the', 'person', 'I', 'am', 'today', 'and', 'how', 'they', 'would', 'continue', 'to', 'influence', 'my', 'journey', 'through', 'life.']\n",
      "['Once', 'upon', 'a', 'time,', 'in', 'a', 'quaint', 'little', 'town', 'where', 'age', 'seemed', 'to', 'hold', 'a', 'mystical', 'significance,', 'I', 'found', 'myself', 'reflecting', 'on', 'the', 'various', 'stages', 'of', 'my', 'life.', 'I', 'was', 'twenty', 'now,', 'but', 'it', 'felt', 'like', 'just', 'yesterday', 'when', 'I', 'was', 'seventeen,', 'filled', 'with', 'the', 'exuberance', 'of', 'youth', 'and', 'the', 'excitement', 'of', 'new', 'experiences.', 'The', 'days', 'of', 'being', 'eighteen', 'were', 'not', 'far', 'behind', 'either,', 'when', 'I', 'had', 'started', 'to', 'gain', 'a', 'sense', 'of', 'independence', 'and', 'responsibility.', 'As', 'I', 'strolled', 'down', 'the', 'memory', 'lane,', 'I', \"couldn't\", 'help', 'but', 'wonder', 'how', 'these', 'different', 'ages', 'had', 'shaped', 'me', 'into', 'the', 'person', 'I', 'am', 'today', 'and', 'how', 'they', 'would', 'continue', 'to', 'influence', 'my', 'journey', 'through', 'life.', 'As', 'I', 'reminisced', 'about', 'my', 'past,', 'I', \"couldn't\", 'help', 'but', 'notice', 'how', 'my', 'choice', 'of', 'clothing', 'had', 'evolved', 'along', 'with', 'my', 'age.', 'Back', 'when', 'I', 'was', 'that', 'chubby,', 'seventeen-year-old,', 'I', 'would', 'often', 'find', 'comfort', 'in', 'wearing', 'sweatpants', 'and', 'oversized', 'hoodies,', 'as', 'they', 'provided', 'a', 'sense', 'of', 'security', 'and', 'disguised', 'my', 'insecurities.', 'However,', 'as', 'I', 'turned', 'eighteen', 'and', 'started', 'to', 'embrace', 'my', 'newfound', 'independence,', 'I', 'began', 'to', 'experiment', 'with', 'different', 'styles', 'and', 'outfits.', 'Gone', 'were', 'the', 'days', 'of', 'sweatpants-wearing;', 'instead,', 'I', 'found', 'myself', 'drawn', 'to', 'more', 'fashionable', 'and', 'fitting', 'attire', 'that', 'reflected', 'my', 'growing', 'confidence.', 'It', 'was', 'fascinating', 'to', 'see', 'how', 'something', 'as', 'simple', 'as', 'clothing', 'could', 'serve', 'as', 'a', 'visual', 'representation', 'of', 'the', 'various', 'stages', 'of', 'my', 'life', 'and', 'the', 'person', 'I', 'was', 'becoming.', 'As', 'I', 'continued', 'to', 'ponder', 'the', 'impact', 'of', 'age', 'on', 'my', 'life,', 'I', 'realized', 'that', 'my', 'relationship', 'with', 'food', 'and', 'drinks', 'had', 'also', 'undergone', 'a', 'significant', 'transformation.', 'At', 'seventeen,', 'I', 'would', 'often', 'indulge', 'in', 'the', 'guilty', 'pleasures', 'of', 'fast', 'food', 'and', 'eating', 'Chinese', 'takeout', 'while', 'binge-watching', 'my', 'favorite', 'shows.', 'My', 'taste', 'buds', 'were', 'captivated', 'by', 'the', 'greasy,', 'salty', 'flavors', 'that', 'provided', 'instant', 'gratification.', 'However,', 'as', 'I', 'transitioned', 'into', 'my', 'eighteenth', 'year,', 'I', 'began', 'to', 'appreciate', 'the', 'finer', 'aspects', 'of', 'dining.', 'I', 'swapped', 'my', 'cups', 'of', 'Nescafe', 'for', 'freshly', 'brewed', 'coffee', 'and', 'started', 'exploring', 'diverse', 'cuisines', 'that', 'tantalized', 'my', 'palate.', 'On', 'special', 'occasions,', 'I', 'even', 'grabbed', 'my', 'scotch', 'to', 'celebrate', 'milestones', 'and', 'achievements.', 'It', 'was', 'evident', 'that', 'my', 'maturing', 'taste', 'buds', 'mirrored', 'the', 'growth', 'and', 'sophistication', 'that', 'came', 'with', 'age.', 'As', 'I', 'delved', 'deeper', 'into', 'the', 'effects', 'of', 'age', 'on', 'various', 'aspects', 'of', 'my', 'life,', 'I', \"couldn't\", 'ignore', 'the', 'physical', 'injuries', 'that', 'had', 'left', 'their', 'mark', 'on', 'me', 'over', 'the', 'years.', 'When', 'I', 'was', 'seventeen,', 'I', 'had', 'a', 'rather', 'unfortunate', 'incident', 'where', 'my', 'scalp', 'peeled', 'due', 'to', 'a', 'harsh', 'hair', 'dye', 'that', 'burned', 'the', 'skin', 'beneath', 'my', 'hair.', 'It', 'was', 'a', 'painful', 'experience', 'that', 'taught', 'me', 'the', 'importance', 'of', 'being', 'cautious', 'with', 'the', 'products', 'I', 'used.', 'At', 'eighteen,', 'I', 'faced', 'another', 'challenge', 'when', 'my', 'eyes', 'were', 'swollen', 'after', 'an', 'intense', 'game', 'of', 'basketball,', 'where', 'an', 'accidental', 'elbow', 'to', 'the', 'face', 'left', 'me', 'with', 'a', 'black', 'eye', 'and', 'bruised', 'pride.', 'These', 'physical', 'injuries,', 'though', 'unpleasant', 'at', 'the', 'time,', 'served', 'as', 'reminders', 'of', 'my', 'resilience', 'and', 'ability', 'to', 'heal', 'and', 'grow', 'stronger', 'with', 'each', 'passing', 'year.', 'They', 'were', 'testament', 'to', 'the', 'fact', 'that', 'age', 'not', 'only', 'brought', 'wisdom', 'but', 'also', 'the', 'strength', 'to', 'overcome', \"life's\", 'hurdles.', 'As', 'I', 'reached', 'the', 'age', 'of', 'twenty,', 'I', 'began', 'to', 'notice', 'how', 'my', 'preferences', 'in', 'food', 'and', 'drinks', 'had', 'further', 'evolved,', 'reflecting', 'the', 'maturity', 'and', 'refinement', 'that', 'came', 'with', 'age.', 'No', 'longer', 'was', 'I', 'drawn', 'to', 'the', 'odd', 'combinations', 'of', 'my', 'teenage', 'years,', 'like', 'cucumber', 'and', 'mayonnaise', 'sandwiches', 'or', 'warm', 'Coca', 'Cola', 'on', 'a', 'hot', 'summer', 'day.', 'Instead,', 'I', 'found', 'myself', 'appreciating', 'the', 'subtle', 'flavors', 'of', 'a', 'well-prepared', 'meal,', 'savoring', 'each', 'bite', 'and', 'sip', 'with', 'a', 'newfound', 'sense', 'of', 'gratitude.', 'I', 'even', 'started', 'to', 'understand', 'why', 'my', 'father', 'enjoyed', 'his', 'evening', 'ritual', 'where', 'he', 'drank', 'scotch', 'while', 'reading', 'the', 'newspaper,', 'as', 'it', 'provided', 'a', 'moment', 'of', 'relaxation', 'and', 'reflection', 'after', 'a', 'long', 'day.', 'It', 'was', 'clear', 'that', 'as', 'I', 'aged,', 'my', 'tastes', 'had', 'matured,', 'and', 'I', 'had', 'developed', 'a', 'deeper', 'appreciation', 'for', 'the', 'culinary', 'arts', 'and', 'the', 'simple', 'pleasures', 'that', 'food', 'and', 'drinks', 'could', 'bring', 'to', \"one's\", 'life.', 'As', 'I', 'continued', 'to', 'explore', 'the', 'impact', 'of', 'age', 'on', 'my', 'life,', 'I', 'realized', 'that', 'my', 'family', 'relationships', 'had', 'also', 'grown', 'and', 'changed', 'over', 'the', 'years.', 'When', 'I', 'was', 'seventeen,', 'I', 'would', 'often', 'tell', 'my', 'mom', 'about', 'every', 'little', 'detail', 'of', 'my', 'day,', 'seeking', 'her', 'advice', 'and', 'reassurance', 'in', 'navigating', 'the', 'challenges', 'of', 'adolescence.', 'My', 'sister', 'and', 'I', 'would', 'bicker', 'over', 'trivial', 'matters,', 'as', 'siblings', 'often', 'do,', 'but', 'we', 'also', 'shared', 'a', 'strong', 'bond', 'that', 'only', 'grew', 'stronger', 'with', 'time.', 'As', 'I', 'turned', 'eighteen', 'and', 'gained', 'more', 'independence,', 'I', 'found', 'myself', 'calling', 'my', 'mother', 'less', 'frequently,', 'not', 'because', 'our', 'relationship', 'had', 'weakened,', 'but', 'because', 'I', 'was', 'learning', 'to', 'handle', \"life's\", 'obstacles', 'on', 'my', 'own.', 'However,', 'whenever', 'I', 'faced', 'a', 'particularly', 'difficult', 'situation', 'or', 'needed', 'a', 'shoulder', 'to', 'lean', 'on,', 'I', 'knew', 'that', 'my', 'family', 'would', 'always', 'be', 'there', 'for', 'me.', 'The', 'passage', 'of', 'time', 'had', 'only', 'served', 'to', 'deepen', 'our', 'connections', 'and', 'strengthen', 'the', 'love', 'and', 'support', 'that', 'we', 'shared.', 'As', 'I', 'reflected', 'on', 'the', 'various', 'aspects', 'of', 'my', 'life', 'that', 'had', 'been', 'influenced', 'by', 'age,', 'I', \"couldn't\", 'help', 'but', 'think', 'about', 'the', 'physical', 'actions', 'that', 'had', 'shaped', 'my', 'experiences.', 'When', 'I', 'was', 'seventeen,', 'I', 'remember', 'running', 'through', 'the', 'park', 'with', 'my', 'friends,', 'our', 'flying', 'arms', 'flailing', 'as', 'we', 'raced', 'each', 'other', 'to', 'the', 'finish', 'line,', 'laughter', 'filling', 'the', 'air.', 'At', 'eighteen,', 'my', 'friends', 'and', 'I', 'would', 'often', 'gather', 'in', 'my', 'backyard,', 'wielding', 'screwdrivers', 'and', 'hammers', 'as', 'we', 'attempted', 'to', 'build', 'a', 'makeshift', 'treehouse,', 'a', 'testament', 'to', 'our', 'growing', 'sense', 'of', 'independence', 'and', 'resourcefulness.', 'Now,', 'at', 'twenty,', 'I', 'found', 'myself', 'walking', 'with', 'a', 'more', 'measured', 'pace,', 'occasionally', 'wrapping', 'an', 'arm', 'around', 'my', 'loved', 'ones', 'as', 'we', 'strolled', 'together,', 'appreciating', 'the', 'simple', 'joy', 'of', 'their', 'presence.', 'It', 'was', 'evident', 'that', 'as', 'I', 'aged,', 'my', 'physical', 'actions', 'had', 'become', 'less', 'impulsive', 'and', 'more', 'deliberate,', 'mirroring', 'the', 'growth', 'and', 'maturity', 'that', 'came', 'with', 'each', 'passing', 'year.', 'As', 'I', 'continued', 'to', 'reminisce', 'about', 'the', 'physical', 'actions', 'that', 'had', 'accompanied', 'my', 'journey', 'through', 'life,', 'I', \"couldn't\", 'help', 'but', 'chuckle', 'at', 'some', 'of', 'the', 'more', 'amusing', 'gestures', 'that', 'had', 'once', 'been', 'a', 'part', 'of', 'my', 'daily', 'repertoire.', 'At', 'seventeen,', 'I', 'would', 'often', 'give', 'my', 'friends', 'a', '\"Fonzie', 'thumbs', 'up\"', 'as', 'a', 'sign', 'of', 'approval,', 'a', 'playful', 'nod', 'to', 'the', 'popular', 'character', 'from', 'the', 'classic', 'TV', 'show', '\"Happy', 'Days.\"', 'When', 'I', 'turned', 'eighteen,', 'I', 'found', 'myself', 'becoming', 'more', 'expressive', 'in', 'my', 'conversations,', 'using', 'my', 'hands', 'to', 'emphasize', 'points', 'and', 'gesticulate', 'as', 'I', 'shared', 'stories', 'and', 'ideas', 'with', 'those', 'around', 'me.', 'This', 'newfound', 'confidence', 'in', 'my', 'ability', 'to', 'communicate', 'was', 'yet', 'another', 'indication', 'of', 'the', 'growth', 'and', 'development', 'that', 'had', 'taken', 'place', 'over', 'the', 'years.', 'Now,', 'at', 'twenty,', 'my', 'physical', 'actions', 'were', 'more', 'refined', 'and', 'purposeful,', 'reflecting', 'the', 'wisdom', 'and', 'self-assurance', 'that', 'came', 'with', 'age.', 'As', 'I', 'stood', 'there,', 'lost', 'in', 'my', 'thoughts', 'about', 'the', 'various', 'aspects', 'of', 'my', 'life', 'that', 'had', 'been', 'influenced', 'by', 'age,', 'I', \"couldn't\", 'help', 'but', 'notice', 'how', 'quickly', 'time', 'seemed', 'to', 'pass.', 'It', 'felt', 'like', 'just', 'yesterday', 'when,', 'months', 'earlier,', 'Jenny', 'and', 'I', 'had', 'shared', 'our', 'dreams', 'and', 'aspirations', 'under', 'the', 'starlit', 'sky,', 'making', 'plans', 'for', 'our', 'future', 'adventures.', 'Weeks', 'later,', 'Igor', 'and', 'I', 'had', 'embarked', 'on', 'a', 'spontaneous', 'road', 'trip,', 'creating', 'memories', 'that', 'would', 'last', 'a', 'lifetime.', 'And', 'just', 'a', 'few', 'weeks', 'later,', 'it', 'was', 'time', 'for', 'me', 'to', 'move', 'away', 'from', 'my', 'childhood', 'home', 'and', 'start', 'a', 'new', 'chapter', 'in', 'my', 'life.', 'Each', 'of', 'these', 'moments,', 'though', 'fleeting,', 'had', 'left', 'an', 'indelible', 'mark', 'on', 'my', 'heart', 'and', 'soul.', 'As', 'I', 'continued', 'to', 'grow', 'older,', 'I', 'realized', 'that', 'time', 'was', 'a', 'precious', 'gift', 'that', 'should', 'be', 'cherished', 'and', 'appreciated.', 'With', 'each', 'passing', 'year,', 'I', 'became', 'more', 'determined', 'to', 'make', 'the', 'most', 'of', 'the', 'time', 'I', 'had', 'been', 'given', 'and', 'to', 'live', 'a', 'life', 'filled', 'with', 'love,', 'laughter,', 'and', 'meaningful', 'experiences.', 'As', 'I', 'contemplated', 'the', 'passage', 'of', 'time', 'and', 'its', 'impact', 'on', 'my', 'life,', 'I', \"couldn't\", 'help', 'but', 'wonder', 'about', 'the', 'future', 'and', 'the', 'prospect', 'of', 'marriage.', 'I', 'often', 'found', 'myself', 'daydreaming', 'about', 'what', 'it', 'would', 'be', 'like', 'to', 'be', 'married,', 'sometimes', 'imagining', 'a', 'picturesque', 'wedding', 'surrounded', 'by', 'family', 'and', 'friends.', 'I', 'would', 'ponder', 'over', 'the', 'qualities', 'I', 'would', 'look', 'for', 'in', 'a', 'life', 'partner', 'and', 'the', 'kind', 'of', 'relationship', 'we', 'would', 'share.', 'The', 'thought', 'of', 'marrying', 'someone', 'who', 'would', 'be', 'my', 'rock,', 'my', 'confidant,', 'and', 'my', 'best', 'friend', 'filled', 'me', 'with', 'a', 'sense', 'of', 'excitement', 'and', 'anticipation.', 'However,', 'I', 'also', 'recognized', 'that', 'marriage', 'was', 'a', 'significant', 'commitment', 'that', 'required', 'patience,', 'understanding,', 'and', 'unwavering', 'love.', 'As', 'I', 'continued', 'to', 'grow', 'older,', 'I', 'knew', 'that', 'when', 'the', 'time', 'came', 'to', 'marry,', 'it', 'would', 'be', 'a', 'decision', 'made', 'with', 'careful', 'consideration', 'and', 'a', 'deep', 'understanding', 'of', 'the', 'responsibilities', 'that', 'came', 'with', 'such', 'a', 'union.', 'As', 'I', 'stood', 'there,', 'reflecting', 'on', 'the', 'various', 'stages', 'of', 'my', 'life', 'and', 'the', 'experiences', 'that', 'had', 'shaped', 'me,', 'I', 'felt', 'a', 'sudden', 'urge', 'to', 'take', 'action', 'and', 'embrace', 'the', 'present', 'moment.', 'It', 'was', 'as', 'if', 'all', 'the', 'memories', 'and', 'thoughts', 'swirling', 'in', 'my', 'mind', 'were', 'propelling', 'me', 'forward,', 'preventing', 'me', 'from', 'regressing', 'back', 'into', 'the', 'past.', 'With', 'renewed', 'determination,', 'I', 'reached', 'into', 'my', 'pocket', 'and', 'pulled', 'out', 'a', 'small', 'notebook,', 'flipping', 'it', 'open', 'to', 'a', 'blank', 'page.', 'I', 'began', 'to', 'jot', 'down', 'my', 'goals', 'and', 'aspirations,', 'the', 'dreams', 'that', 'I', 'wanted', 'to', 'turn', 'into', 'reality.', 'Just', 'as', 'I', 'finished', 'writing', 'the', 'last', 'word,', 'the', 'door', 'opened,', 'and', 'a', 'familiar', 'face', 'appeared', 'in', 'the', 'doorway.', 'It', 'was', 'as', 'if', 'fate', 'had', 'intervened,', 'reminding', 'me', 'that', 'life', 'was', 'a', 'series', 'of', 'movements', 'and', 'actions', 'that', 'would', 'ultimately', 'shape', 'my', 'destiny.', 'With', 'a', 'smile', 'on', 'my', 'face', 'and', 'a', 'newfound', 'sense', 'of', 'purpose,', 'I', 'stepped', 'forward', 'to', 'greet', 'them,', 'ready', 'to', 'embrace', 'whatever', 'adventures', 'lay', 'ahead.', 'As', 'I', 'embarked', 'on', 'this', 'new', 'chapter', 'of', 'my', 'life,', 'I', \"couldn't\", 'help', 'but', 'think', 'about', 'the', 'significance', 'of', 'a', 'specific', 'year', 'in', 'shaping', 'our', 'experiences', 'and', 'memories.', 'It', 'was', 'as', 'if', 'each', 'year', 'carried', 'its', 'own', 'unique', 'energy,', 'leaving', 'an', 'indelible', 'mark', 'on', 'our', 'lives.', 'For', 'instance,', 'nineteen', 'sixty', 'was', 'a', 'year', 'that', 'would', 'forever', 'be', 'etched', 'in', 'my', 'mind', 'as', 'a', 'time', 'of', 'great', 'personal', 'growth', 'and', 'self-discovery.', 'It', 'was', 'during', 'this', 'year', 'that', 'I', 'had', 'faced', 'numerous', 'challenges', 'and', 'emerged', 'stronger', 'and', 'wiser.', 'Similarly,', 'nineteen', 'fifty-nine', 'had', 'been', 'a', 'year', 'filled', 'with', 'laughter,', 'friendship,', 'and', 'unforgettable', 'moments', 'that', 'still', 'brought', 'a', 'smile', 'to', 'my', 'face.', 'As', 'I', 'looked', 'ahead', 'to', 'the', 'future,', 'I', 'wondered', 'what', 'the', 'coming', 'years', 'would', 'hold', 'for', 'me', 'and', 'how', 'they', 'would', 'continue', 'to', 'shape', 'my', 'journey', 'through', 'life.', 'With', 'each', 'passing', 'year,', 'I', 'was', 'determined', 'to', 'make', 'the', 'most', 'of', 'the', 'time', 'I', 'had', 'been', 'given,', 'embracing', 'every', 'opportunity', 'for', 'growth,', 'love,', 'and', 'adventure', 'that', 'came', 'my', 'way.', 'As', 'I', 'continued', 'to', 'reflect', 'on', 'my', \"life's\", 'journey,', 'I', 'realized', 'that', 'the', 'various', 'locations', 'I', 'had', 'visited', 'and', 'lived', 'in', 'had', 'played', 'a', 'significant', 'role', 'in', 'shaping', 'my', 'experiences', 'and', 'memories.', 'There', 'was', 'the', 'unforgettable', 'summer', 'when', 'I', 'was', 'in', 'Mexico,', 'exploring', 'the', 'vibrant', 'culture', 'and', 'breathtaking', 'landscapes', 'that', 'left', 'a', 'lasting', 'impression', 'on', 'me.', 'Then', 'there', 'was', 'the', 'time', 'when', 'I', 'moved', 'away', 'from', 'home', 'in', 'Chicago', 'to', 'attend', 'college', 'in', 'Boston,', 'a', 'city', 'that', 'challenged', 'me', 'to', 'step', 'out', 'of', 'my', 'comfort', 'zone', 'and', 'embrace', 'new', 'experiences.', 'Each', 'of', 'these', 'locations', 'had', 'not', 'only', 'broadened', 'my', 'horizons', 'but', 'also', 'contributed', 'to', 'my', 'personal', 'growth', 'and', 'development.', 'As', 'I', 'looked', 'ahead', 'to', 'the', 'future,', 'I', \"couldn't\", 'help', 'but', 'wonder', 'what', 'new', 'places', 'I', 'would', 'have', 'the', 'opportunity', 'to', 'explore', 'and', 'how', 'they', 'would', 'continue', 'to', 'shape', 'my', \"life's\", 'story.', 'With', 'each', 'new', 'location,', 'I', 'was', 'eager', 'to', 'embrace', 'the', 'adventures', 'that', 'awaited', 'me', 'and', 'create', 'memories', 'that', 'would', 'last', 'a', 'lifetime.', 'As', 'I', 'pondered', 'the', 'various', 'aspects', 'of', 'my', 'life', 'that', 'had', 'been', 'influenced', 'by', 'age,', 'locations,', 'and', 'experiences,', 'I', \"couldn't\", 'help', 'but', 'think', 'about', 'the', 'relationships', 'that', 'had', 'left', 'an', 'indelible', 'mark', 'on', 'my', 'heart.', 'From', 'childhood', 'friends', 'who', 'had', 'stood', 'by', 'my', 'side', 'through', 'thick', 'and', 'thin', 'to', 'romantic', 'partners', 'who', 'had', 'taught', 'me', 'valuable', 'lessons', 'about', 'love', 'and', 'commitment,', 'each', 'relationship', 'had', 'played', 'a', 'crucial', 'role', 'in', 'shaping', 'the', 'person', 'I', 'had', 'become.', 'I', 'often', 'found', 'myself', 'daydreaming', 'about', 'the', 'future,', 'wondering', 'if', 'there', 'would', 'be', 'someone', 'special', 'who', 'would', 'marry', 'me', 'and', 'share', 'a', 'lifetime', 'of', 'love', 'and', 'laughter.', 'Until', 'that', 'day']\n",
      "should have 16 paragraphs but only found 14\n",
      "0 \t 112 \t 15\n",
      "1 \t 124 \t 17\n",
      "2 \t 129 \t 19\n",
      "3 \t 154 \t 22\n",
      "4 \t 148 \t 21\n",
      "5 \t 160 \t 22\n",
      "6 \t 153 \t 22\n",
      "7 \t 144 \t 20\n",
      "8 \t 171 \t 23\n",
      "9 \t 151 \t 22\n",
      "10 \t 164 \t 23\n",
      "11 \t 166 \t 23\n",
      "12 \t 163 \t 23\n",
      "13 \t 164 \t 15\n"
     ]
    }
   ],
   "source": [
    "start_indexes, end_indexes = analyze_helper.get_start_end_indexes_for_paragraphs(\n",
    "    timing, paragraphs)\n",
    "print(paragraphs[0].split())\n",
    "print(timing['word'].values.tolist())\n",
    "print(\n",
    "    f'should have {len(paragraphs)} paragraphs but only found {len(resp_chunks)}')\n",
    "for i in range(min(len(paragraphs), len(start_indexes))):\n",
    "    print(i, '\\t', len(paragraphs[i].split()),\n",
    "          '\\t', end_indexes[i] - start_indexes[i])\n",
    "    # print(i, timing['word'].values.tolist()[start_indexes[i]:end_indexes[i]])\n",
    "    # print(i, resp_chunks[i].shape)\n",
    "# print([len(p.split()) for p in paragraphs])"
   ]
  },
  {
   "cell_type": "code",
   "execution_count": 136,
   "metadata": {},
   "outputs": [
    {
     "data": {
      "text/plain": [
       "\"As I stood there, lost in my thoughts about the various aspects of my life that had been influenced by age, locations, experiences, and relationships, I couldn't help but notice how quickly time seemed to pass. It felt like just yesterday when, weeks earlier, I had embarked on a new adventure that had challenged me to step out of my comfort zone and embrace the unknown. Weeks later, I found myself reflecting on the lessons I had learned and the memories I had created during that time. And just a few weeks later, it was time for me to embark on yet another journey, one that would undoubtedly bring new challenges and opportunities for growth. With each passing week, I became more aware of the precious nature of time and the importance of making the most of each moment. As I continued to grow older, I was determined to live a life filled with love, laughter, and meaningful experiences that would stand the test of time.\""
      ]
     },
     "execution_count": 136,
     "metadata": {},
     "output_type": "execute_result"
    }
   ],
   "source": [
    "paragraphs[-1]"
   ]
  },
  {
   "cell_type": "code",
   "execution_count": 137,
   "metadata": {},
   "outputs": [
    {
     "ename": "ValueError",
     "evalue": "substring not found",
     "output_type": "error",
     "traceback": [
      "\u001b[0;31m---------------------------------------------------------------------------\u001b[0m",
      "\u001b[0;31mValueError\u001b[0m                                Traceback (most recent call last)",
      "\u001b[1;32m/home/chansingh/automated-explanations/notebooks_stories/2_analyze_pilot/01_check_alignment.ipynb Cell 11\u001b[0m line \u001b[0;36m3\n\u001b[1;32m      <a href='vscode-notebook-cell://ssh-remote%2Bgcrsandbox387.redmond.corp.microsoft.com/home/chansingh/automated-explanations/notebooks_stories/2_analyze_pilot/01_check_alignment.ipynb#X23sdnNjb2RlLXJlbW90ZQ%3D%3D?line=0'>1</a>\u001b[0m \u001b[39m# note: final paragraph of story wasn't run\u001b[39;00m\n\u001b[1;32m      <a href='vscode-notebook-cell://ssh-remote%2Bgcrsandbox387.redmond.corp.microsoft.com/home/chansingh/automated-explanations/notebooks_stories/2_analyze_pilot/01_check_alignment.ipynb#X23sdnNjb2RlLXJlbW90ZQ%3D%3D?line=1'>2</a>\u001b[0m x \u001b[39m=\u001b[39m \u001b[39m'\u001b[39m\u001b[39m\\n\u001b[39;00m\u001b[39m'\u001b[39m\u001b[39m.\u001b[39mjoin(paragraphs)\n\u001b[0;32m----> <a href='vscode-notebook-cell://ssh-remote%2Bgcrsandbox387.redmond.corp.microsoft.com/home/chansingh/automated-explanations/notebooks_stories/2_analyze_pilot/01_check_alignment.ipynb#X23sdnNjb2RlLXJlbW90ZQ%3D%3D?line=2'>3</a>\u001b[0m i \u001b[39m=\u001b[39m x\u001b[39m.\u001b[39;49mindex(\u001b[39m'\u001b[39;49m\u001b[39mthick and thin,\u001b[39;49m\u001b[39m'\u001b[39;49m)\n\u001b[1;32m      <a href='vscode-notebook-cell://ssh-remote%2Bgcrsandbox387.redmond.corp.microsoft.com/home/chansingh/automated-explanations/notebooks_stories/2_analyze_pilot/01_check_alignment.ipynb#X23sdnNjb2RlLXJlbW90ZQ%3D%3D?line=3'>4</a>\u001b[0m i_final_paragraph \u001b[39m=\u001b[39m x[i:]\u001b[39m.\u001b[39mindex(\u001b[39m'\u001b[39m\u001b[39mAs the couple\u001b[39m\u001b[39m'\u001b[39m)\n\u001b[1;32m      <a href='vscode-notebook-cell://ssh-remote%2Bgcrsandbox387.redmond.corp.microsoft.com/home/chansingh/automated-explanations/notebooks_stories/2_analyze_pilot/01_check_alignment.ipynb#X23sdnNjb2RlLXJlbW90ZQ%3D%3D?line=4'>5</a>\u001b[0m x[i \u001b[39m+\u001b[39m i_final_paragraph:]\n",
      "\u001b[0;31mValueError\u001b[0m: substring not found"
     ]
    }
   ],
   "source": [
    "# note: final paragraph of story wasn't run\n",
    "x = '\\n'.join(paragraphs)\n",
    "i = x.index('thick and thin,')\n",
    "i_final_paragraph = x[i:].index('As the couple')\n",
    "x[i + i_final_paragraph:]"
   ]
  }
 ],
 "metadata": {
  "kernelspec": {
   "display_name": ".llm",
   "language": "python",
   "name": "python3"
  },
  "language_info": {
   "codemirror_mode": {
    "name": "ipython",
    "version": 3
   },
   "file_extension": ".py",
   "mimetype": "text/x-python",
   "name": "python",
   "nbconvert_exporter": "python",
   "pygments_lexer": "ipython3",
   "version": "3.11.6"
  },
  "orig_nbformat": 4,
  "vscode": {
   "interpreter": {
    "hash": "a9ff692d44ea03fd8a03facee7621117bbbb82def09bacaacf0a2cbc238b7b91"
   }
  }
 },
 "nbformat": 4,
 "nbformat_minor": 2
}
