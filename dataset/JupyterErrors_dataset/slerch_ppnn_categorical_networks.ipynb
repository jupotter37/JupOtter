{
 "cells": [
  {
   "cell_type": "markdown",
   "metadata": {
    "toc": "true"
   },
   "source": [
    " # Table of Contents\n",
    "<div class=\"toc\" style=\"margin-top: 1em;\"><ul class=\"toc-item\" id=\"toc-level0\"><li><span><a href=\"http://localhost:8888/notebooks/notebooks/categorical_networks.ipynb#Convert-targets-to-categorical\" data-toc-modified-id=\"Convert-targets-to-categorical-1\"><span class=\"toc-item-num\">1&nbsp;&nbsp;</span>Convert targets to categorical</a></span><ul class=\"toc-item\"><li><span><a href=\"http://localhost:8888/notebooks/notebooks/categorical_networks.ipynb#Assign-observations-to-bins,-part-1:-Always-to-the-left\" data-toc-modified-id=\"Assign-observations-to-bins,-part-1:-Always-to-the-left-1.1\"><span class=\"toc-item-num\">1.1&nbsp;&nbsp;</span>Assign observations to bins, part 1: Always to the left</a></span></li><li><span><a href=\"http://localhost:8888/notebooks/notebooks/categorical_networks.ipynb#Assign-observations-to-bins,-part-2:-Nearest-edge\" data-toc-modified-id=\"Assign-observations-to-bins,-part-2:-Nearest-edge-1.2\"><span class=\"toc-item-num\">1.2&nbsp;&nbsp;</span>Assign observations to bins, part 2: Nearest edge</a></span></li><li><span><a href=\"http://localhost:8888/notebooks/notebooks/categorical_networks.ipynb#Are-we-overfitting?\" data-toc-modified-id=\"Are-we-overfitting?-1.3\"><span class=\"toc-item-num\">1.3&nbsp;&nbsp;</span>Are we overfitting?</a></span></li><li><span><a href=\"http://localhost:8888/notebooks/notebooks/categorical_networks.ipynb#Bin-size-tuning\" data-toc-modified-id=\"Bin-size-tuning-1.4\"><span class=\"toc-item-num\">1.4&nbsp;&nbsp;</span>Bin size tuning</a></span></li><li><span><a href=\"http://localhost:8888/notebooks/notebooks/categorical_networks.ipynb#How-complex-does-a-network-have-to-be-to-produce-a-clean-PDF\" data-toc-modified-id=\"How-complex-does-a-network-have-to-be-to-produce-a-clean-PDF-1.5\"><span class=\"toc-item-num\">1.5&nbsp;&nbsp;</span>How complex does a network have to be to produce a clean PDF</a></span></li><li><span><a href=\"http://localhost:8888/notebooks/notebooks/categorical_networks.ipynb#Convert-to-relative-bins\" data-toc-modified-id=\"Convert-to-relative-bins-1.6\"><span class=\"toc-item-num\">1.6&nbsp;&nbsp;</span>Convert to relative bins</a></span></li></ul></li><li><span><a href=\"http://localhost:8888/notebooks/notebooks/categorical_networks.ipynb#Full-ensemble-features\" data-toc-modified-id=\"Full-ensemble-features-2\"><span class=\"toc-item-num\">2&nbsp;&nbsp;</span>Full ensemble features</a></span><ul class=\"toc-item\"><li><span><a href=\"http://localhost:8888/notebooks/notebooks/categorical_networks.ipynb#With-convolution\" data-toc-modified-id=\"With-convolution-2.1\"><span class=\"toc-item-num\">2.1&nbsp;&nbsp;</span>With convolution</a></span></li><li><span><a href=\"http://localhost:8888/notebooks/notebooks/categorical_networks.ipynb#Full-ensemble-with-mean-and-std-output\" data-toc-modified-id=\"Full-ensemble-with-mean-and-std-output-2.2\"><span class=\"toc-item-num\">2.2&nbsp;&nbsp;</span>Full ensemble with mean and std output</a></span></li></ul></li><li><span><a href=\"http://localhost:8888/notebooks/notebooks/categorical_networks.ipynb#With-station-embeddings\" data-toc-modified-id=\"With-station-embeddings-3\"><span class=\"toc-item-num\">3&nbsp;&nbsp;</span>With station embeddings</a></span><ul class=\"toc-item\"><li><span><a href=\"http://localhost:8888/notebooks/notebooks/categorical_networks.ipynb#With-relative-bins\" data-toc-modified-id=\"With-relative-bins-3.1\"><span class=\"toc-item-num\">3.1&nbsp;&nbsp;</span>With relative bins</a></span></li><li><span><a href=\"http://localhost:8888/notebooks/notebooks/categorical_networks.ipynb#With-full-ensemble-input\" data-toc-modified-id=\"With-full-ensemble-input-3.2\"><span class=\"toc-item-num\">3.2&nbsp;&nbsp;</span>With full ensemble input</a></span></li><li><span><a href=\"http://localhost:8888/notebooks/notebooks/categorical_networks.ipynb#Standard-bins\" data-toc-modified-id=\"Standard-bins-3.3\"><span class=\"toc-item-num\">3.3&nbsp;&nbsp;</span>Standard bins</a></span></li><li><span><a href=\"http://localhost:8888/notebooks/notebooks/categorical_networks.ipynb#testing-a-convolution-layer\" data-toc-modified-id=\"testing-a-convolution-layer-3.4\"><span class=\"toc-item-num\">3.4&nbsp;&nbsp;</span>testing a convolution layer</a></span></li></ul></li><li><span><a href=\"http://localhost:8888/notebooks/notebooks/categorical_networks.ipynb#Auxiliary-data\" data-toc-modified-id=\"Auxiliary-data-4\"><span class=\"toc-item-num\">4&nbsp;&nbsp;</span>Auxiliary data</a></span><ul class=\"toc-item\"><li><span><a href=\"http://localhost:8888/notebooks/notebooks/categorical_networks.ipynb#Mean-and-std\" data-toc-modified-id=\"Mean-and-std-4.1\"><span class=\"toc-item-num\">4.1&nbsp;&nbsp;</span>Mean and std</a></span></li><li><span><a href=\"http://localhost:8888/notebooks/notebooks/categorical_networks.ipynb#Full-ensemble\" data-toc-modified-id=\"Full-ensemble-4.2\"><span class=\"toc-item-num\">4.2&nbsp;&nbsp;</span>Full ensemble</a></span></li></ul></li><li><span><a href=\"http://localhost:8888/notebooks/notebooks/categorical_networks.ipynb#XGBoost\" data-toc-modified-id=\"XGBoost-5\"><span class=\"toc-item-num\">5&nbsp;&nbsp;</span>XGBoost</a></span></li></ul></div>"
   ]
  },
  {
   "cell_type": "markdown",
   "metadata": {},
   "source": [
    "# Categorical/binned output \n",
    "\n",
    "Here we will use categorical output instead of the mean and standard deviation.\n"
   ]
  },
  {
   "cell_type": "code",
   "execution_count": 34,
   "metadata": {},
   "outputs": [
    {
     "name": "stdout",
     "output_type": "stream",
     "text": [
      "Anaconda environment: py36_gpu\n",
      "Linux 4.4.0-101-generic\n"
     ]
    }
   ],
   "source": [
    "# Imports\n",
    "from importlib import reload\n",
    "import utils; reload(utils)\n",
    "from utils import *\n",
    "import losses; reload(losses)\n",
    "from losses import approx_crps_cat, approx_crps_cat, crps_cost_function\n",
    "import numpy as np\n",
    "import matplotlib.pyplot as plt\n",
    "%matplotlib inline\n",
    "from collections import OrderedDict\n",
    "\n",
    "import keras\n",
    "from keras.layers import Input, Dense, merge, Embedding, Flatten, Dropout\n",
    "from keras.layers.merge import Concatenate\n",
    "from keras.models import Model\n",
    "import keras.backend as K\n",
    "from keras.callbacks import EarlyStopping\n",
    "from keras.optimizers import SGD, Adam\n",
    "from scipy.stats import binned_statistic"
   ]
  },
  {
   "cell_type": "code",
   "execution_count": 2,
   "metadata": {
    "collapsed": true
   },
   "outputs": [],
   "source": [
    "# Setup\n",
    "# DATA_DIR = '/Volumes/STICK/data/ppnn_data/'  # Mac\n",
    "DATA_DIR = '/project/meteo/w2w/C7/ppnn_data/'   # LMU\n",
    "fclt = 48"
   ]
  },
  {
   "cell_type": "markdown",
   "metadata": {},
   "source": [
    "## Convert targets to categorical\n",
    "\n",
    "We will one-hot-encode the target array"
   ]
  },
  {
   "cell_type": "code",
   "execution_count": 3,
   "metadata": {},
   "outputs": [
    {
     "name": "stdout",
     "output_type": "stream",
     "text": [
      "train set contains 2191 days\n",
      "test set contains 366 days\n"
     ]
    }
   ],
   "source": [
    "train_dates = ['2010-01-01', '2016-01-01']\n",
    "test_dates =  ['2016-01-01', '2017-01-01']\n",
    "train_set, test_set = get_train_test_sets(DATA_DIR, train_dates, test_dates)"
   ]
  },
  {
   "cell_type": "code",
   "execution_count": 4,
   "metadata": {},
   "outputs": [
    {
     "data": {
      "text/plain": [
       "(131,)"
      ]
     },
     "execution_count": 4,
     "metadata": {},
     "output_type": "execute_result"
    }
   ],
   "source": [
    "# Define the bins\n",
    "bin_width = 0.5\n",
    "bin_edges = np.arange(-30, 35 + bin_width, bin_width)\n",
    "bin_edges.shape"
   ]
  },
  {
   "cell_type": "markdown",
   "metadata": {},
   "source": [
    "### Assign observations to bins, part 1: Always to the left"
   ]
  },
  {
   "cell_type": "code",
   "execution_count": 5,
   "metadata": {
    "collapsed": true
   },
   "outputs": [],
   "source": [
    "def convert_targets(targets, bin_edges):\n",
    "    bin_idxs = binned_statistic(targets, targets, bins=bin_edges)[-1]\n",
    "    return keras.utils.to_categorical(bin_idxs, num_classes=bin_edges.shape[0]-1)"
   ]
  },
  {
   "cell_type": "code",
   "execution_count": 6,
   "metadata": {
    "collapsed": true
   },
   "outputs": [],
   "source": [
    "train_cat_targets = convert_targets(train_set.targets, bin_edges)\n",
    "test_cat_targets = convert_targets(test_set.targets, bin_edges)"
   ]
  },
  {
   "cell_type": "code",
   "execution_count": 7,
   "metadata": {},
   "outputs": [
    {
     "name": "stdout",
     "output_type": "stream",
     "text": [
      "Obs: 4.3\n"
     ]
    },
    {
     "data": {
      "image/png": "[encoded data removed]",
      "text/plain": [
       "<matplotlib.figure.Figure at 0x7f958708b550>"
      ]
     },
     "metadata": {},
     "output_type": "display_data"
    }
   ],
   "source": [
    "print('Obs:', test_set.targets[0])\n",
    "plt.bar(bin_edges[:-1] + 0.25, test_cat_targets[0], width=0.5, zorder=0.1)\n",
    "plt.axvline(test_set.targets[0], c='r')\n",
    "plt.show()"
   ]
  },
  {
   "cell_type": "code",
   "execution_count": 8,
   "metadata": {
    "collapsed": true
   },
   "outputs": [],
   "source": [
    "def build_cat_model(n_features, hidden_nodes, n_bins):\n",
    "    inp = Input(shape=(n_features,))\n",
    "    x = Dense(hidden_nodes[0], activation='relu')(inp)\n",
    "    if len(hidden_nodes) > 1:\n",
    "        for h in hidden_nodes[1:]:\n",
    "            x = Dense(h, activation='relu')(x)\n",
    "    x = Dense(n_bins, activation='softmax')(x)\n",
    "    return Model(inputs=inp, outputs=x)"
   ]
  },
  {
   "cell_type": "code",
   "execution_count": 18,
   "metadata": {
    "collapsed": true
   },
   "outputs": [],
   "source": [
    "model = build_cat_model(2, [50], bin_edges.shape[0]-1)"
   ]
  },
  {
   "cell_type": "code",
   "execution_count": 19,
   "metadata": {
    "collapsed": true
   },
   "outputs": [],
   "source": [
    "model.compile(optimizer=Adam(0.01), loss=approx_crps_cat(bin_width))"
   ]
  },
  {
   "cell_type": "code",
   "execution_count": 20,
   "metadata": {},
   "outputs": [
    {
     "name": "stdout",
     "output_type": "stream",
     "text": [
      "_________________________________________________________________\n",
      "Layer (type)                 Output Shape              Param #   \n",
      "=================================================================\n",
      "input_2 (InputLayer)         (None, 2)                 0         \n",
      "_________________________________________________________________\n",
      "dense_3 (Dense)              (None, 50)                150       \n",
      "_________________________________________________________________\n",
      "dense_4 (Dense)              (None, 130)               6630      \n",
      "=================================================================\n",
      "Total params: 6,780\n",
      "Trainable params: 6,780\n",
      "Non-trainable params: 0\n",
      "_________________________________________________________________\n"
     ]
    }
   ],
   "source": [
    "model.summary()"
   ]
  },
  {
   "cell_type": "code",
   "execution_count": 21,
   "metadata": {},
   "outputs": [
    {
     "name": "stdout",
     "output_type": "stream",
     "text": [
      "Train on 1092828 samples, validate on 182218 samples\n",
      "Epoch 1/5\n",
      "1092828/1092828 [==============================] - 6s - loss: 1.5224 - val_loss: 1.0572\n",
      "Epoch 2/5\n",
      "1092828/1092828 [==============================] - 5s - loss: 1.0797 - val_loss: 1.0367\n",
      "Epoch 3/5\n",
      "1092828/1092828 [==============================] - 5s - loss: 1.0715 - val_loss: 1.0295\n",
      "Epoch 4/5\n",
      "1092828/1092828 [==============================] - 5s - loss: 1.0703 - val_loss: 1.0290\n",
      "Epoch 5/5\n",
      "1092828/1092828 [==============================] - 5s - loss: 1.0700 - val_loss: 1.0289\n"
     ]
    },
    {
     "data": {
      "text/plain": [
       "<keras.callbacks.History at 0x7f9540e24748>"
      ]
     },
     "execution_count": 21,
     "metadata": {},
     "output_type": "execute_result"
    }
   ],
   "source": [
    "model.fit(train_set.features, train_cat_targets, epochs=5, batch_size=4096,\n",
    "          validation_data=[test_set.features, test_cat_targets])"
   ]
  },
  {
   "cell_type": "code",
   "execution_count": 24,
   "metadata": {
    "collapsed": true
   },
   "outputs": [],
   "source": [
    "preds = model.predict(test_set.features, batch_size=4096)"
   ]
  },
  {
   "cell_type": "code",
   "execution_count": 35,
   "metadata": {},
   "outputs": [
    {
     "data": {
      "text/plain": [
       "1.0445440088439826"
      ]
     },
     "execution_count": 35,
     "metadata": {},
     "output_type": "execute_result"
    }
   ],
   "source": [
    "# Get correct CRPS\n",
    "maybe_correct_cat_crps(preds, test_set.targets, bin_edges)"
   ]
  },
  {
   "cell_type": "code",
   "execution_count": 26,
   "metadata": {},
   "outputs": [
    {
     "data": {
      "image/png": "[encoded data removed]",
      "text/plain": [
       "<matplotlib.figure.Figure at 0x7f9540d93c50>"
      ]
     },
     "metadata": {},
     "output_type": "display_data"
    }
   ],
   "source": [
    "i = 10\n",
    "plt.bar(bin_edges[:-1] + 0.25, preds[i], width=0.5, alpha=0.8)\n",
    "plt.bar(bin_edges[:-1] + 0.25, test_cat_targets[i], width=0.5, zorder=0.1)\n",
    "plt.axvline(test_set.targets[i], c='r')\n",
    "plt.show()"
   ]
  },
  {
   "cell_type": "markdown",
   "metadata": {
    "collapsed": true
   },
   "source": [
    "### Assign observations to bins, part 2: Nearest edge"
   ]
  },
  {
   "cell_type": "code",
   "execution_count": 36,
   "metadata": {
    "collapsed": true
   },
   "outputs": [],
   "source": [
    "def convert_targets_nearest(targets, bin_edges):\n",
    "    mat_bin_edges = np.repeat(np.atleast_2d(bin_edges), targets.shape[0], axis=0).T\n",
    "    bin_idxs = np.argmin(np.abs(mat_bin_edges - targets),axis=0)\n",
    "    return keras.utils.to_categorical(bin_idxs, num_classes=bin_edges.shape[0]-1)"
   ]
  },
  {
   "cell_type": "code",
   "execution_count": 37,
   "metadata": {
    "collapsed": true
   },
   "outputs": [],
   "source": [
    "train_cat_targets_nearest = convert_targets_nearest(train_set.targets, bin_edges)\n",
    "test_cat_targets_nearest = convert_targets_nearest(test_set.targets, bin_edges)"
   ]
  },
  {
   "cell_type": "code",
   "execution_count": 38,
   "metadata": {
    "collapsed": true
   },
   "outputs": [],
   "source": [
    "model = build_cat_model(2, [50], bin_edges.shape[0]-1)"
   ]
  },
  {
   "cell_type": "code",
   "execution_count": 39,
   "metadata": {
    "collapsed": true
   },
   "outputs": [],
   "source": [
    "model.compile(optimizer=Adam(0.01), loss=approx_crps_cat(bin_width))"
   ]
  },
  {
   "cell_type": "code",
   "execution_count": 40,
   "metadata": {
    "scrolled": true
   },
   "outputs": [
    {
     "name": "stdout",
     "output_type": "stream",
     "text": [
      "Train on 1092828 samples, validate on 182218 samples\n",
      "Epoch 1/5\n",
      "1092828/1092828 [==============================] - 10s - loss: 1.2403 - val_loss: 1.0672\n",
      "Epoch 2/5\n",
      "1092828/1092828 [==============================] - 10s - loss: 1.1153 - val_loss: 1.0643\n",
      "Epoch 3/5\n",
      "1092828/1092828 [==============================] - 10s - loss: 1.1146 - val_loss: 1.0724\n",
      "Epoch 4/5\n",
      "1092828/1092828 [==============================] - 9s - loss: 1.1139 - val_loss: 1.0678\n",
      "Epoch 5/5\n",
      "1092828/1092828 [==============================] - 9s - loss: 1.1118 - val_loss: 1.0646\n"
     ]
    },
    {
     "data": {
      "text/plain": [
       "<keras.callbacks.History at 0x7f93fd5dcb00>"
      ]
     },
     "execution_count": 40,
     "metadata": {},
     "output_type": "execute_result"
    }
   ],
   "source": [
    "model.fit(train_set.features, train_cat_targets_nearest, epochs=5, batch_size=1024,\n",
    "          validation_data=[test_set.features, test_cat_targets_nearest])"
   ]
  },
  {
   "cell_type": "code",
   "execution_count": 43,
   "metadata": {
    "collapsed": true
   },
   "outputs": [],
   "source": [
    "model.optimizer.lr = 1e-3"
   ]
  },
  {
   "cell_type": "code",
   "execution_count": 44,
   "metadata": {},
   "outputs": [
    {
     "name": "stdout",
     "output_type": "stream",
     "text": [
      "Train on 1092828 samples, validate on 182218 samples\n",
      "Epoch 1/5\n",
      "1092828/1092828 [==============================] - 10s - loss: 1.1100 - val_loss: 1.0639\n",
      "Epoch 2/5\n",
      "1092828/1092828 [==============================] - 10s - loss: 1.1096 - val_loss: 1.0639\n",
      "Epoch 3/5\n",
      "1092828/1092828 [==============================] - 10s - loss: 1.1080 - val_loss: 1.0597\n",
      "Epoch 4/5\n",
      "1092828/1092828 [==============================] - 10s - loss: 1.1074 - val_loss: 1.0606\n",
      "Epoch 5/5\n",
      "1092828/1092828 [==============================] - 10s - loss: 1.1057 - val_loss: 1.0537\n"
     ]
    },
    {
     "data": {
      "text/plain": [
       "<keras.callbacks.History at 0x7f94232abf60>"
      ]
     },
     "execution_count": 44,
     "metadata": {},
     "output_type": "execute_result"
    }
   ],
   "source": [
    "model.fit(train_set.features, train_cat_targets_nearest, epochs=5, batch_size=1024,\n",
    "          validation_data=[test_set.features, test_cat_targets_nearest])"
   ]
  },
  {
   "cell_type": "code",
   "execution_count": 45,
   "metadata": {
    "collapsed": true
   },
   "outputs": [],
   "source": [
    "preds = model.predict(test_set.features)"
   ]
  },
  {
   "cell_type": "code",
   "execution_count": 46,
   "metadata": {},
   "outputs": [
    {
     "data": {
      "text/plain": [
       "1.060824475038503"
      ]
     },
     "execution_count": 46,
     "metadata": {},
     "output_type": "execute_result"
    }
   ],
   "source": [
    "maybe_correct_cat_crps(preds, test_set.targets, bin_edges)"
   ]
  },
  {
   "cell_type": "code",
   "execution_count": 103,
   "metadata": {
    "scrolled": true
   },
   "outputs": [
    {
     "data": {
      "image/png": "[encoded data removed]",
      "text/plain": [
       "<matplotlib.figure.Figure at 0x1223c7518>"
      ]
     },
     "metadata": {},
     "output_type": "display_data"
    },
    {
     "data": {
      "image/png": "[encoded data removed]",
      "text/plain": [
       "<matplotlib.figure.Figure at 0x12295e940>"
      ]
     },
     "metadata": {},
     "output_type": "display_data"
    },
    {
     "data": {
      "image/png": "[encoded data removed]",
      "text/plain": [
       "<matplotlib.figure.Figure at 0x12363ef28>"
      ]
     },
     "metadata": {},
     "output_type": "display_data"
    },
    {
     "data": {
      "image/png": "[encoded data removed]",
      "text/plain": [
       "<matplotlib.figure.Figure at 0x126bde198>"
      ]
     },
     "metadata": {},
     "output_type": "display_data"
    },
    {
     "data": {
      "image/png": "[encoded data removed]",
      "text/plain": [
       "<matplotlib.figure.Figure at 0x12684e470>"
      ]
     },
     "metadata": {},
     "output_type": "display_data"
    },
    {
     "data": {
      "image/png": "[encoded data removed]",
      "text/plain": [
       "<matplotlib.figure.Figure at 0x12690f748>"
      ]
     },
     "metadata": {},
     "output_type": "display_data"
    },
    {
     "data": {
      "image/png": "[encoded data removed]",
      "text/plain": [
       "<matplotlib.figure.Figure at 0x12700eb70>"
      ]
     },
     "metadata": {},
     "output_type": "display_data"
    },
    {
     "data": {
      "image/png": "[encoded data removed]",
      "text/plain": [
       "<matplotlib.figure.Figure at 0x12256eef0>"
      ]
     },
     "metadata": {},
     "output_type": "display_data"
    },
    {
     "data": {
      "image/png": "[encoded data removed]",
      "text/plain": [
       "<matplotlib.figure.Figure at 0x1240f3cf8>"
      ]
     },
     "metadata": {},
     "output_type": "display_data"
    },
    {
     "data": {
      "image/png": "[encoded data removed]",
      "text/plain": [
       "<matplotlib.figure.Figure at 0x115138160>"
      ]
     },
     "metadata": {},
     "output_type": "display_data"
    }
   ],
   "source": [
    "for i in np.random.randint(0, 182218, 10):\n",
    "    plt.bar(bin_edges[:-1] + 0.25, preds[i], width=0.5, alpha=0.8)\n",
    "    plt.bar(bin_edges[:-1] + 0.25, test_cat_targets_nearest[i], width=0.5, zorder=0.1)\n",
    "    plt.axvline(test_set.targets[i], c='r')\n",
    "    plt.axvline(test_set.features[i, 0] * test_set.scale_factors[0], c='g')\n",
    "    plt.show()"
   ]
  },
  {
   "cell_type": "code",
   "execution_count": 101,
   "metadata": {},
   "outputs": [
    {
     "data": {
      "image/png": "[encoded data removed]",
      "text/plain": [
       "<matplotlib.figure.Figure at 0x12277b5c0>"
      ]
     },
     "metadata": {},
     "output_type": "display_data"
    }
   ],
   "source": [
    "plt.hist(test_set.targets, bins = 50);"
   ]
  },
  {
   "cell_type": "markdown",
   "metadata": {
    "heading_collapsed": true
   },
   "source": [
    "### Are we overfitting?"
   ]
  },
  {
   "cell_type": "code",
   "execution_count": 43,
   "metadata": {
    "collapsed": true,
    "hidden": true
   },
   "outputs": [],
   "source": [
    "model = build_cat_model(2, [50], bin_edges.shape[0]-1)\n",
    "model.compile(optimizer=Adam(0.01), loss=approx_crps_cat(bin_width))"
   ]
  },
  {
   "cell_type": "code",
   "execution_count": 45,
   "metadata": {
    "hidden": true
   },
   "outputs": [
    {
     "name": "stdout",
     "output_type": "stream",
     "text": [
      "Train on 144679 samples, validate on 36170 samples\n",
      "Epoch 1/5\n",
      "144679/144679 [==============================] - 3s - loss: 1.1115 - val_loss: 1.1108\n",
      "Epoch 2/5\n",
      "144679/144679 [==============================] - 3s - loss: 1.1097 - val_loss: 1.1187\n",
      "Epoch 3/5\n",
      "144679/144679 [==============================] - 3s - loss: 1.1092 - val_loss: 1.1148\n",
      "Epoch 4/5\n",
      "144679/144679 [==============================] - 3s - loss: 1.1105 - val_loss: 1.1353\n",
      "Epoch 5/5\n",
      "144679/144679 [==============================] - 4s - loss: 1.1095 - val_loss: 1.1421\n"
     ]
    },
    {
     "data": {
      "text/plain": [
       "<keras.callbacks.History at 0x12357aeb8>"
      ]
     },
     "execution_count": 45,
     "metadata": {},
     "output_type": "execute_result"
    }
   ],
   "source": [
    "model.fit(train_set.features, train_cat_targets_nearest, epochs=5, batch_size=1024,\n",
    "              validation_split=0.2)"
   ]
  },
  {
   "cell_type": "markdown",
   "metadata": {
    "hidden": true
   },
   "source": [
    "Only at the end, try a more complex model."
   ]
  },
  {
   "cell_type": "code",
   "execution_count": 49,
   "metadata": {
    "collapsed": true,
    "hidden": true
   },
   "outputs": [],
   "source": [
    "model = build_cat_model(2, [500, 500], bin_edges.shape[0]-1)\n",
    "model.compile(optimizer=Adam(0.01), loss=approx_crps_cat(bin_width))"
   ]
  },
  {
   "cell_type": "code",
   "execution_count": 50,
   "metadata": {
    "hidden": true
   },
   "outputs": [
    {
     "name": "stdout",
     "output_type": "stream",
     "text": [
      "Train on 144679 samples, validate on 36170 samples\n",
      "Epoch 1/5\n",
      "144679/144679 [==============================] - 16s - loss: 1.3433 - val_loss: 1.3339\n",
      "Epoch 2/5\n",
      "144679/144679 [==============================] - 15s - loss: 1.1372 - val_loss: 1.1312\n",
      "Epoch 3/5\n",
      "144679/144679 [==============================] - 15s - loss: 1.1271 - val_loss: 1.0937\n",
      "Epoch 4/5\n",
      "144679/144679 [==============================] - 15s - loss: 1.1054 - val_loss: 1.1512\n",
      "Epoch 5/5\n",
      "144679/144679 [==============================] - 17s - loss: 1.0943 - val_loss: 1.1259\n"
     ]
    },
    {
     "data": {
      "text/plain": [
       "<keras.callbacks.History at 0x109a345c0>"
      ]
     },
     "execution_count": 50,
     "metadata": {},
     "output_type": "execute_result"
    }
   ],
   "source": [
    "model.fit(train_set.features, train_cat_targets_nearest, epochs=5, batch_size=1024,\n",
    "              validation_split=0.2)"
   ]
  },
  {
   "cell_type": "markdown",
   "metadata": {
    "heading_collapsed": true
   },
   "source": [
    "### Bin size tuning"
   ]
  },
  {
   "cell_type": "code",
   "execution_count": 241,
   "metadata": {
    "collapsed": true,
    "hidden": true
   },
   "outputs": [],
   "source": [
    "wide_bin_width = 1.5\n",
    "wide_bin_edges = np.arange(-30, 35 + wide_bin_width, wide_bin_width)"
   ]
  },
  {
   "cell_type": "code",
   "execution_count": 242,
   "metadata": {
    "collapsed": true,
    "hidden": true
   },
   "outputs": [],
   "source": [
    "wide_train_cat_targets = convert_targets_nearest(train_set.targets, wide_bin_edges)\n",
    "wide_test_cat_targets = convert_targets_nearest(test_set.targets, wide_bin_edges)"
   ]
  },
  {
   "cell_type": "code",
   "execution_count": 243,
   "metadata": {
    "collapsed": true,
    "hidden": true
   },
   "outputs": [],
   "source": [
    "model = build_cat_model(2, [50], wide_bin_edges.shape[0]-1)"
   ]
  },
  {
   "cell_type": "code",
   "execution_count": 244,
   "metadata": {
    "hidden": true
   },
   "outputs": [
    {
     "name": "stdout",
     "output_type": "stream",
     "text": [
      "_________________________________________________________________\n",
      "Layer (type)                 Output Shape              Param #   \n",
      "=================================================================\n",
      "input_38 (InputLayer)        (None, 2)                 0         \n",
      "_________________________________________________________________\n",
      "dense_61 (Dense)             (None, 50)                150       \n",
      "_________________________________________________________________\n",
      "dense_62 (Dense)             (None, 44)                2244      \n",
      "=================================================================\n",
      "Total params: 2,394\n",
      "Trainable params: 2,394\n",
      "Non-trainable params: 0\n",
      "_________________________________________________________________\n"
     ]
    }
   ],
   "source": [
    "model.summary()"
   ]
  },
  {
   "cell_type": "code",
   "execution_count": 253,
   "metadata": {
    "collapsed": true,
    "hidden": true
   },
   "outputs": [],
   "source": [
    "model.compile(optimizer=Adam(0.0001), loss=approx_crps)"
   ]
  },
  {
   "cell_type": "code",
   "execution_count": 254,
   "metadata": {
    "hidden": true
   },
   "outputs": [
    {
     "name": "stdout",
     "output_type": "stream",
     "text": [
      "Train on 180849 samples, validate on 182218 samples\n",
      "Epoch 1/5\n",
      "180849/180849 [==============================] - 2s - loss: 0.4007 - val_loss: 0.3866\n",
      "Epoch 2/5\n",
      "180849/180849 [==============================] - 2s - loss: 0.4000 - val_loss: 0.3857\n",
      "Epoch 3/5\n",
      "180849/180849 [==============================] - 2s - loss: 0.3994 - val_loss: 0.3850\n",
      "Epoch 4/5\n",
      "180849/180849 [==============================] - 2s - loss: 0.3988 - val_loss: 0.3844\n",
      "Epoch 5/5\n",
      "180849/180849 [==============================] - 2s - loss: 0.3983 - val_loss: 0.3841\n"
     ]
    },
    {
     "data": {
      "text/plain": [
       "<keras.callbacks.History at 0x7fa46e695b00>"
      ]
     },
     "execution_count": 254,
     "metadata": {},
     "output_type": "execute_result"
    }
   ],
   "source": [
    "model.fit(train_set.features, wide_train_cat_targets, epochs=5, batch_size=1024,\n",
    "          validation_data=[test_set.features, wide_test_cat_targets])"
   ]
  },
  {
   "cell_type": "code",
   "execution_count": 255,
   "metadata": {
    "collapsed": true,
    "hidden": true
   },
   "outputs": [],
   "source": [
    "preds = model.predict(test_set.features)"
   ]
  },
  {
   "cell_type": "code",
   "execution_count": 69,
   "metadata": {
    "hidden": true
   },
   "outputs": [
    {
     "ename": "NameError",
     "evalue": "name 'wide_bin_edges' is not defined",
     "output_type": "error",
     "traceback": [
      "\u001b[0;31m---------------------------------------------------------------------------\u001b[0m",
      "\u001b[0;31mNameError\u001b[0m                                 Traceback (most recent call last)",
      "\u001b[0;32m<ipython-input-69-655979f123d5>\u001b[0m in \u001b[0;36m<module>\u001b[0;34m()\u001b[0m\n\u001b[1;32m      1\u001b[0m \u001b[0mi\u001b[0m \u001b[0;34m=\u001b[0m \u001b[0;36m100447\u001b[0m\u001b[0;34m\u001b[0m\u001b[0m\n\u001b[0;32m----> 2\u001b[0;31m \u001b[0mplt\u001b[0m\u001b[0;34m.\u001b[0m\u001b[0mbar\u001b[0m\u001b[0;34m(\u001b[0m\u001b[0mwide_bin_edges\u001b[0m\u001b[0;34m[\u001b[0m\u001b[0;34m:\u001b[0m\u001b[0;34m-\u001b[0m\u001b[0;36m1\u001b[0m\u001b[0;34m]\u001b[0m \u001b[0;34m+\u001b[0m \u001b[0;36m0.75\u001b[0m\u001b[0;34m,\u001b[0m \u001b[0mpreds\u001b[0m\u001b[0;34m[\u001b[0m\u001b[0mi\u001b[0m\u001b[0;34m]\u001b[0m\u001b[0;34m,\u001b[0m \u001b[0mwidth\u001b[0m\u001b[0;34m=\u001b[0m\u001b[0;36m1.5\u001b[0m\u001b[0;34m,\u001b[0m \u001b[0malpha\u001b[0m\u001b[0;34m=\u001b[0m\u001b[0;36m0.8\u001b[0m\u001b[0;34m)\u001b[0m\u001b[0;34m\u001b[0m\u001b[0m\n\u001b[0m\u001b[1;32m      3\u001b[0m \u001b[0mplt\u001b[0m\u001b[0;34m.\u001b[0m\u001b[0mbar\u001b[0m\u001b[0;34m(\u001b[0m\u001b[0mwide_bin_edges\u001b[0m\u001b[0;34m[\u001b[0m\u001b[0;34m:\u001b[0m\u001b[0;34m-\u001b[0m\u001b[0;36m1\u001b[0m\u001b[0;34m]\u001b[0m \u001b[0;34m+\u001b[0m \u001b[0;36m0.75\u001b[0m\u001b[0;34m,\u001b[0m \u001b[0mwide_test_cat_targets\u001b[0m\u001b[0;34m[\u001b[0m\u001b[0mi\u001b[0m\u001b[0;34m]\u001b[0m\u001b[0;34m,\u001b[0m \u001b[0mwidth\u001b[0m\u001b[0;34m=\u001b[0m\u001b[0;36m1.5\u001b[0m\u001b[0;34m,\u001b[0m \u001b[0mzorder\u001b[0m\u001b[0;34m=\u001b[0m\u001b[0;36m0.1\u001b[0m\u001b[0;34m)\u001b[0m\u001b[0;34m\u001b[0m\u001b[0m\n\u001b[1;32m      4\u001b[0m \u001b[0mplt\u001b[0m\u001b[0;34m.\u001b[0m\u001b[0maxvline\u001b[0m\u001b[0;34m(\u001b[0m\u001b[0mtest_set\u001b[0m\u001b[0;34m.\u001b[0m\u001b[0mtargets\u001b[0m\u001b[0;34m[\u001b[0m\u001b[0mi\u001b[0m\u001b[0;34m]\u001b[0m\u001b[0;34m,\u001b[0m \u001b[0mc\u001b[0m\u001b[0;34m=\u001b[0m\u001b[0;34m'r'\u001b[0m\u001b[0;34m)\u001b[0m\u001b[0;34m\u001b[0m\u001b[0m\n\u001b[1;32m      5\u001b[0m \u001b[0mplt\u001b[0m\u001b[0;34m.\u001b[0m\u001b[0mshow\u001b[0m\u001b[0;34m(\u001b[0m\u001b[0;34m)\u001b[0m\u001b[0;34m\u001b[0m\u001b[0m\n",
      "\u001b[0;31mNameError\u001b[0m: name 'wide_bin_edges' is not defined"
     ]
    }
   ],
   "source": [
    "i = 100447\n",
    "plt.bar(wide_bin_edges[:-1] + 0.75, preds[i], width=1.5, alpha=0.8)\n",
    "plt.bar(wide_bin_edges[:-1] + 0.75, wide_test_cat_targets[i], width=1.5, zorder=0.1)\n",
    "plt.axvline(test_set.targets[i], c='r')\n",
    "plt.show()"
   ]
  },
  {
   "cell_type": "code",
   "execution_count": 257,
   "metadata": {
    "hidden": true
   },
   "outputs": [
    {
     "data": {
      "text/plain": [
       "1.2046557611208457"
      ]
     },
     "execution_count": 257,
     "metadata": {},
     "output_type": "execute_result"
    }
   ],
   "source": [
    "maybe_correct_cat_crps(preds, test_set.targets, wide_bin_edges)"
   ]
  },
  {
   "cell_type": "markdown",
   "metadata": {
    "heading_collapsed": true
   },
   "source": [
    "### How complex does a network have to be to produce a clean PDF"
   ]
  },
  {
   "cell_type": "code",
   "execution_count": 54,
   "metadata": {
    "hidden": true
   },
   "outputs": [
    {
     "data": {
      "text/plain": [
       "2.2552676e-08"
      ]
     },
     "execution_count": 54,
     "metadata": {},
     "output_type": "execute_result"
    }
   ],
   "source": [
    "preds[:, 1].mean()"
   ]
  },
  {
   "cell_type": "code",
   "execution_count": 57,
   "metadata": {
    "collapsed": true,
    "hidden": true
   },
   "outputs": [],
   "source": [
    "# Create dummy dataset of means and stds\n",
    "dummy_means = np.random.rand(100000) * 40. + 5\n",
    "dummy_std = np.random.rand(100000) * 3."
   ]
  },
  {
   "cell_type": "code",
   "execution_count": 58,
   "metadata": {
    "collapsed": true,
    "hidden": true
   },
   "outputs": [],
   "source": [
    "# Create the corresponding PDFs in bins\n",
    "dummy_bin_edges = np.arange(0, 50 + bin_width, bin_width)"
   ]
  },
  {
   "cell_type": "code",
   "execution_count": null,
   "metadata": {
    "collapsed": true,
    "hidden": true
   },
   "outputs": [],
   "source": []
  },
  {
   "cell_type": "markdown",
   "metadata": {},
   "source": [
    "### Convert to relative bins"
   ]
  },
  {
   "cell_type": "code",
   "execution_count": 114,
   "metadata": {
    "collapsed": true
   },
   "outputs": [],
   "source": [
    "mean_error = test_set.features[:, 0] * test_set.scale_factors[0] - test_set.targets"
   ]
  },
  {
   "cell_type": "code",
   "execution_count": 115,
   "metadata": {},
   "outputs": [
    {
     "data": {
      "text/plain": [
       "(-13.662431, 19.809189)"
      ]
     },
     "execution_count": 115,
     "metadata": {},
     "output_type": "execute_result"
    }
   ],
   "source": [
    "mean_error.min(), mean_error.max()"
   ]
  },
  {
   "cell_type": "code",
   "execution_count": 116,
   "metadata": {},
   "outputs": [
    {
     "data": {
      "text/plain": [
       "162412"
      ]
     },
     "execution_count": 116,
     "metadata": {},
     "output_type": "execute_result"
    }
   ],
   "source": [
    "mean_error.argmin()"
   ]
  },
  {
   "cell_type": "code",
   "execution_count": 117,
   "metadata": {},
   "outputs": [
    {
     "data": {
      "text/plain": [
       "1.4406393"
      ]
     },
     "execution_count": 117,
     "metadata": {},
     "output_type": "execute_result"
    }
   ],
   "source": [
    "np.mean(np.abs(mean_error))"
   ]
  },
  {
   "cell_type": "code",
   "execution_count": 118,
   "metadata": {
    "collapsed": true
   },
   "outputs": [],
   "source": [
    "train_conv_targets = train_set.targets - train_set.features[:, 0] * train_set.scale_factors[0]\n",
    "test_conv_targets = test_set.targets - test_set.features[:, 0] * test_set.scale_factors[0]"
   ]
  },
  {
   "cell_type": "code",
   "execution_count": 120,
   "metadata": {},
   "outputs": [
    {
     "data": {
      "text/plain": [
       "(-13.174971, 16.22398)"
      ]
     },
     "execution_count": 120,
     "metadata": {},
     "output_type": "execute_result"
    }
   ],
   "source": [
    "train_conv_targets.min(), train_conv_targets.max()"
   ]
  },
  {
   "cell_type": "code",
   "execution_count": 121,
   "metadata": {
    "collapsed": true
   },
   "outputs": [],
   "source": [
    "conv_bin_edges = np.arange(-15, 20 + bin_width, bin_width)"
   ]
  },
  {
   "cell_type": "code",
   "execution_count": 122,
   "metadata": {
    "collapsed": true
   },
   "outputs": [],
   "source": [
    "conv_train_cat_targets_nearest = convert_targets_nearest(train_conv_targets, conv_bin_edges)\n",
    "conv_test_cat_targets_nearest = convert_targets_nearest(test_conv_targets, conv_bin_edges)"
   ]
  },
  {
   "cell_type": "code",
   "execution_count": 123,
   "metadata": {
    "collapsed": true
   },
   "outputs": [],
   "source": [
    "model = build_cat_model(2, [50], conv_bin_edges.shape[0]-1)\n",
    "model.compile(optimizer=Adam(0.01), loss=approx_crps_cat(bin_width))"
   ]
  },
  {
   "cell_type": "code",
   "execution_count": 124,
   "metadata": {},
   "outputs": [
    {
     "name": "stdout",
     "output_type": "stream",
     "text": [
      "Train on 1092828 samples, validate on 182218 samples\n",
      "Epoch 1/5\n",
      "1092828/1092828 [==============================] - 17s - loss: 1.0699 - val_loss: 1.0088\n",
      "Epoch 2/5\n",
      "1092828/1092828 [==============================] - 16s - loss: 1.0445 - val_loss: 1.0160\n",
      "Epoch 3/5\n",
      "1092828/1092828 [==============================] - 16s - loss: 1.0440 - val_loss: 1.0072\n",
      "Epoch 4/5\n",
      "1092828/1092828 [==============================] - 16s - loss: 1.0436 - val_loss: 1.0215\n",
      "Epoch 5/5\n",
      "1092828/1092828 [==============================] - 16s - loss: 1.0434 - val_loss: 1.0186\n"
     ]
    },
    {
     "data": {
      "text/plain": [
       "<keras.callbacks.History at 0x1268baac8>"
      ]
     },
     "execution_count": 124,
     "metadata": {},
     "output_type": "execute_result"
    }
   ],
   "source": [
    "model.fit(train_set.features, conv_train_cat_targets_nearest, epochs=5, batch_size=1024,\n",
    "          validation_data=[test_set.features, conv_test_cat_targets_nearest])"
   ]
  },
  {
   "cell_type": "code",
   "execution_count": 125,
   "metadata": {
    "collapsed": true
   },
   "outputs": [],
   "source": [
    "preds = model.predict(test_set.features)"
   ]
  },
  {
   "cell_type": "code",
   "execution_count": 126,
   "metadata": {},
   "outputs": [
    {
     "data": {
      "text/plain": [
       "1.0511612930624885"
      ]
     },
     "execution_count": 126,
     "metadata": {},
     "output_type": "execute_result"
    }
   ],
   "source": [
    "maybe_correct_cat_crps(preds, test_conv_targets, conv_bin_edges)"
   ]
  },
  {
   "cell_type": "code",
   "execution_count": 128,
   "metadata": {
    "scrolled": false
   },
   "outputs": [
    {
     "name": "stdout",
     "output_type": "stream",
     "text": [
      "69598\n",
      "12.1 10.2448\n"
     ]
    },
    {
     "data": {
      "image/png": "[encoded data removed]",
      "text/plain": [
       "<matplotlib.figure.Figure at 0x126e530b8>"
      ]
     },
     "metadata": {},
     "output_type": "display_data"
    },
    {
     "name": "stdout",
     "output_type": "stream",
     "text": [
      "26259\n",
      "6.9 6.52055\n"
     ]
    },
    {
     "data": {
      "image/png": "[encoded data removed]",
      "text/plain": [
       "<matplotlib.figure.Figure at 0x1284aa630>"
      ]
     },
     "metadata": {},
     "output_type": "display_data"
    },
    {
     "name": "stdout",
     "output_type": "stream",
     "text": [
      "127710\n",
      "20.8 20.3243\n"
     ]
    },
    {
     "data": {
      "image/png": "[encoded data removed]",
      "text/plain": [
       "<matplotlib.figure.Figure at 0x126fd1668>"
      ]
     },
     "metadata": {},
     "output_type": "display_data"
    },
    {
     "name": "stdout",
     "output_type": "stream",
     "text": [
      "38035\n",
      "-3.2 -0.0233978\n"
     ]
    },
    {
     "data": {
      "image/png": "[encoded data removed]",
      "text/plain": [
       "<matplotlib.figure.Figure at 0x127061358>"
      ]
     },
     "metadata": {},
     "output_type": "display_data"
    },
    {
     "name": "stdout",
     "output_type": "stream",
     "text": [
      "143127\n",
      "2.0 6.13449\n"
     ]
    },
    {
     "data": {
      "image/png": "[encoded data removed]",
      "text/plain": [
       "<matplotlib.figure.Figure at 0x127e891d0>"
      ]
     },
     "metadata": {},
     "output_type": "display_data"
    },
    {
     "name": "stdout",
     "output_type": "stream",
     "text": [
      "32744\n",
      "0.8 1.60835\n"
     ]
    },
    {
     "data": {
      "image/png": "[encoded data removed]",
      "text/plain": [
       "<matplotlib.figure.Figure at 0x1226781d0>"
      ]
     },
     "metadata": {},
     "output_type": "display_data"
    },
    {
     "name": "stdout",
     "output_type": "stream",
     "text": [
      "55777\n",
      "8.4 7.39353\n"
     ]
    },
    {
     "data": {
      "image/png": "[encoded data removed]",
      "text/plain": [
       "<matplotlib.figure.Figure at 0x127685588>"
      ]
     },
     "metadata": {},
     "output_type": "display_data"
    },
    {
     "name": "stdout",
     "output_type": "stream",
     "text": [
      "171743\n",
      "4.6 0.255672\n"
     ]
    },
    {
     "data": {
      "image/png": "[encoded data removed]",
      "text/plain": [
       "<matplotlib.figure.Figure at 0x12832f780>"
      ]
     },
     "metadata": {},
     "output_type": "display_data"
    },
    {
     "name": "stdout",
     "output_type": "stream",
     "text": [
      "134850\n",
      "9.2 10.5802\n"
     ]
    },
    {
     "data": {
      "image/png": "[encoded data removed]",
      "text/plain": [
       "<matplotlib.figure.Figure at 0x127edda90>"
      ]
     },
     "metadata": {},
     "output_type": "display_data"
    },
    {
     "name": "stdout",
     "output_type": "stream",
     "text": [
      "179564\n",
      "7.9 7.09409\n"
     ]
    },
    {
     "data": {
      "image/png": "[encoded data removed]",
      "text/plain": [
       "<matplotlib.figure.Figure at 0x127bf4668>"
      ]
     },
     "metadata": {},
     "output_type": "display_data"
    }
   ],
   "source": [
    "for i in np.random.randint(0, 182218, 10):\n",
    "    print(i)\n",
    "    print(test_set.targets[i], test_set.features[i, 0] * test_set.scale_factors[0])\n",
    "    plt.bar(conv_bin_edges[:-1] + 0.25, preds[i], width=0.5, alpha=0.8)\n",
    "    plt.bar(conv_bin_edges[:-1] + 0.25, conv_test_cat_targets_nearest[i], width=0.5, zorder=0.1)\n",
    "    plt.axvline(test_conv_targets[i], c='r')\n",
    "    plt.show()"
   ]
  },
  {
   "cell_type": "markdown",
   "metadata": {
    "heading_collapsed": true
   },
   "source": [
    "## Full ensemble features"
   ]
  },
  {
   "cell_type": "code",
   "execution_count": 62,
   "metadata": {
    "hidden": true
   },
   "outputs": [
    {
     "name": "stdout",
     "output_type": "stream",
     "text": [
      "train set contains 365 days\n",
      "test set contains 366 days\n"
     ]
    }
   ],
   "source": [
    "train_set_full_ens, test_set_full_ens = get_train_test_sets(DATA_DIR, train_dates, test_dates,\n",
    "                                                            full_ensemble_t=True)"
   ]
  },
  {
   "cell_type": "code",
   "execution_count": 64,
   "metadata": {
    "hidden": true
   },
   "outputs": [
    {
     "data": {
      "text/plain": [
       "(180849, 50)"
      ]
     },
     "execution_count": 64,
     "metadata": {},
     "output_type": "execute_result"
    }
   ],
   "source": [
    "train_set_full_ens.features.shape"
   ]
  },
  {
   "cell_type": "code",
   "execution_count": 181,
   "metadata": {
    "collapsed": true,
    "hidden": true
   },
   "outputs": [],
   "source": [
    "model = build_cat_model(50, [50], bin_edges.shape[0]-1)"
   ]
  },
  {
   "cell_type": "code",
   "execution_count": 182,
   "metadata": {
    "hidden": true
   },
   "outputs": [
    {
     "name": "stdout",
     "output_type": "stream",
     "text": [
      "_________________________________________________________________\n",
      "Layer (type)                 Output Shape              Param #   \n",
      "=================================================================\n",
      "input_31 (InputLayer)        (None, 50)                0         \n",
      "_________________________________________________________________\n",
      "dense_49 (Dense)             (None, 50)                2550      \n",
      "_________________________________________________________________\n",
      "dense_50 (Dense)             (None, 130)               6630      \n",
      "=================================================================\n",
      "Total params: 9,180\n",
      "Trainable params: 9,180\n",
      "Non-trainable params: 0\n",
      "_________________________________________________________________\n"
     ]
    }
   ],
   "source": [
    "model.summary()"
   ]
  },
  {
   "cell_type": "code",
   "execution_count": 185,
   "metadata": {
    "collapsed": true,
    "hidden": true
   },
   "outputs": [],
   "source": [
    "model.compile(optimizer=Adam(0.0001), loss=approx_crps)"
   ]
  },
  {
   "cell_type": "code",
   "execution_count": 186,
   "metadata": {
    "hidden": true
   },
   "outputs": [
    {
     "name": "stdout",
     "output_type": "stream",
     "text": [
      "Train on 180849 samples, validate on 182218 samples\n",
      "Epoch 1/10\n",
      "180849/180849 [==============================] - 3s - loss: 1.1662 - val_loss: 1.1399\n",
      "Epoch 2/10\n",
      "180849/180849 [==============================] - 3s - loss: 1.1656 - val_loss: 1.1393\n",
      "Epoch 3/10\n",
      "180849/180849 [==============================] - 3s - loss: 1.1651 - val_loss: 1.1394\n",
      "Epoch 4/10\n",
      "180849/180849 [==============================] - 3s - loss: 1.1646 - val_loss: 1.1383\n",
      "Epoch 5/10\n",
      "180849/180849 [==============================] - 3s - loss: 1.1641 - val_loss: 1.1380\n",
      "Epoch 6/10\n",
      "180849/180849 [==============================] - 3s - loss: 1.1637 - val_loss: 1.1378\n",
      "Epoch 7/10\n",
      "180849/180849 [==============================] - 3s - loss: 1.1632 - val_loss: 1.1371\n",
      "Epoch 8/10\n",
      "180849/180849 [==============================] - 3s - loss: 1.1628 - val_loss: 1.1367\n",
      "Epoch 9/10\n",
      "180849/180849 [==============================] - 3s - loss: 1.1625 - val_loss: 1.1362\n",
      "Epoch 10/10\n",
      "180849/180849 [==============================] - 3s - loss: 1.1621 - val_loss: 1.1369\n"
     ]
    },
    {
     "data": {
      "text/plain": [
       "<keras.callbacks.History at 0x7fa48caabef0>"
      ]
     },
     "execution_count": 186,
     "metadata": {},
     "output_type": "execute_result"
    }
   ],
   "source": [
    "model.fit(train_set_full_ens.features, train_cat_targets_nearest, epochs=10, batch_size=1024,\n",
    "          validation_data=[test_set_full_ens.features, test_cat_targets_nearest])"
   ]
  },
  {
   "cell_type": "code",
   "execution_count": 187,
   "metadata": {
    "collapsed": true,
    "hidden": true
   },
   "outputs": [],
   "source": [
    "preds = model.predict(test_set_full_ens.features)"
   ]
  },
  {
   "cell_type": "code",
   "execution_count": 188,
   "metadata": {
    "hidden": true
   },
   "outputs": [
    {
     "data": {
      "text/plain": [
       "1.1306173910191841"
      ]
     },
     "execution_count": 188,
     "metadata": {},
     "output_type": "execute_result"
    }
   ],
   "source": [
    "maybe_correct_cat_crps(preds, test_set.targets, bin_edges)"
   ]
  },
  {
   "cell_type": "code",
   "execution_count": 189,
   "metadata": {
    "hidden": true,
    "scrolled": true
   },
   "outputs": [
    {
     "data": {
      "image/png": "[encoded data removed]",
      "text/plain": [
       "<matplotlib.figure.Figure at 0x7fa48c986a90>"
      ]
     },
     "metadata": {},
     "output_type": "display_data"
    }
   ],
   "source": [
    "i = 10\n",
    "plt.bar(bin_edges[:-1] + 0.25, preds[i], width=0.5, alpha=0.8)\n",
    "plt.bar(bin_edges[:-1] + 0.25, test_cat_targets[i], width=0.5, zorder=0.1)\n",
    "plt.axvline(test_set.targets[i], c='r')\n",
    "plt.show()"
   ]
  },
  {
   "cell_type": "markdown",
   "metadata": {
    "hidden": true
   },
   "source": [
    "### With convolution"
   ]
  },
  {
   "cell_type": "code",
   "execution_count": 190,
   "metadata": {
    "collapsed": true,
    "hidden": true
   },
   "outputs": [],
   "source": [
    "def build_cat_conv_model(hidden_nodes, feature_size, n_bins, maps):\n",
    "    features_in = Input(shape=(feature_size, 1))\n",
    "    conv = Conv1D(maps, feature_size)(features_in)\n",
    "    conv = Flatten()(conv)\n",
    "    x = Dense(hidden_nodes, activation='relu')(conv)\n",
    "    x = Dense(n_bins, activation='softmax')(x)\n",
    "    model = Model(inputs=features_in, outputs=x)\n",
    "    return model"
   ]
  },
  {
   "cell_type": "code",
   "execution_count": 200,
   "metadata": {
    "collapsed": true,
    "hidden": true
   },
   "outputs": [],
   "source": [
    "model = build_cat_conv_model(50, 50, bin_edges.shape[0]-1, 10)"
   ]
  },
  {
   "cell_type": "code",
   "execution_count": 201,
   "metadata": {
    "hidden": true
   },
   "outputs": [
    {
     "name": "stdout",
     "output_type": "stream",
     "text": [
      "_________________________________________________________________\n",
      "Layer (type)                 Output Shape              Param #   \n",
      "=================================================================\n",
      "input_34 (InputLayer)        (None, 50, 1)             0         \n",
      "_________________________________________________________________\n",
      "conv1d_8 (Conv1D)            (None, 1, 10)             510       \n",
      "_________________________________________________________________\n",
      "flatten_13 (Flatten)         (None, 10)                0         \n",
      "_________________________________________________________________\n",
      "dense_55 (Dense)             (None, 50)                550       \n",
      "_________________________________________________________________\n",
      "dense_56 (Dense)             (None, 130)               6630      \n",
      "=================================================================\n",
      "Total params: 7,690\n",
      "Trainable params: 7,690\n",
      "Non-trainable params: 0\n",
      "_________________________________________________________________\n"
     ]
    }
   ],
   "source": [
    "model.summary()"
   ]
  },
  {
   "cell_type": "code",
   "execution_count": 204,
   "metadata": {
    "collapsed": true,
    "hidden": true
   },
   "outputs": [],
   "source": [
    "model.compile(optimizer=Adam(0.0001), loss=approx_crps)"
   ]
  },
  {
   "cell_type": "code",
   "execution_count": 205,
   "metadata": {
    "hidden": true
   },
   "outputs": [
    {
     "name": "stdout",
     "output_type": "stream",
     "text": [
      "Train on 180849 samples, validate on 182218 samples\n",
      "Epoch 1/10\n",
      "180849/180849 [==============================] - 4s - loss: 1.1959 - val_loss: 1.1233\n",
      "Epoch 2/10\n",
      "180849/180849 [==============================] - 3s - loss: 1.1956 - val_loss: 1.1215\n",
      "Epoch 3/10\n",
      "180849/180849 [==============================] - 3s - loss: 1.1956 - val_loss: 1.1217\n",
      "Epoch 4/10\n",
      "180849/180849 [==============================] - 3s - loss: 1.1956 - val_loss: 1.1225\n",
      "Epoch 5/10\n",
      "180849/180849 [==============================] - 3s - loss: 1.1934 - val_loss: 1.1185\n",
      "Epoch 6/10\n",
      "180849/180849 [==============================] - 3s - loss: 1.1890 - val_loss: 1.1168\n",
      "Epoch 7/10\n",
      "180849/180849 [==============================] - 3s - loss: 1.1887 - val_loss: 1.1178\n",
      "Epoch 8/10\n",
      "180849/180849 [==============================] - 3s - loss: 1.1885 - val_loss: 1.1171\n",
      "Epoch 9/10\n",
      "180849/180849 [==============================] - 3s - loss: 1.1884 - val_loss: 1.1167\n",
      "Epoch 10/10\n",
      "180849/180849 [==============================] - 3s - loss: 1.1883 - val_loss: 1.1171\n"
     ]
    },
    {
     "data": {
      "text/plain": [
       "<keras.callbacks.History at 0x7fa47cdf3ac8>"
      ]
     },
     "execution_count": 205,
     "metadata": {},
     "output_type": "execute_result"
    }
   ],
   "source": [
    "model.fit(np.atleast_3d(train_set_full_ens.features), train_cat_targets_nearest, \n",
    "          epochs=10, batch_size=1024,\n",
    "          validation_data=[np.atleast_3d(test_set_full_ens.features), test_cat_targets_nearest])"
   ]
  },
  {
   "cell_type": "code",
   "execution_count": null,
   "metadata": {
    "collapsed": true,
    "hidden": true
   },
   "outputs": [],
   "source": []
  },
  {
   "cell_type": "markdown",
   "metadata": {
    "hidden": true
   },
   "source": [
    "### Full ensemble with mean and std output"
   ]
  },
  {
   "cell_type": "code",
   "execution_count": 113,
   "metadata": {
    "collapsed": true,
    "hidden": true
   },
   "outputs": [],
   "source": [
    "def build_hidden_model(hidden_nodes, feature_size=2):\n",
    "    inp = Input(shape=(feature_size,))\n",
    "    x = Dense(hidden_nodes, activation='relu')(inp)\n",
    "    x = Dense(2, activation='linear')(x)\n",
    "    return Model(inputs=inp, outputs=x)"
   ]
  },
  {
   "cell_type": "code",
   "execution_count": 114,
   "metadata": {
    "collapsed": true,
    "hidden": true
   },
   "outputs": [],
   "source": [
    "model = build_hidden_model(50, 50)\n",
    "model.compile(optimizer=Adam(0.01), loss=crps_cost_function)"
   ]
  },
  {
   "cell_type": "code",
   "execution_count": 115,
   "metadata": {
    "hidden": true
   },
   "outputs": [
    {
     "name": "stdout",
     "output_type": "stream",
     "text": [
      "Train on 180849 samples, validate on 182218 samples\n",
      "Epoch 1/5\n",
      "180849/180849 [==============================] - 1s - loss: 1.4411 - val_loss: 1.0460\n",
      "Epoch 2/5\n",
      "180849/180849 [==============================] - 1s - loss: 1.0766 - val_loss: 1.0239\n",
      "Epoch 3/5\n",
      "180849/180849 [==============================] - 1s - loss: 1.0731 - val_loss: 1.0242\n",
      "Epoch 4/5\n",
      "180849/180849 [==============================] - 1s - loss: 1.0711 - val_loss: 1.0422\n",
      "Epoch 5/5\n",
      "180849/180849 [==============================] - 1s - loss: 1.0709 - val_loss: 1.0318\n"
     ]
    },
    {
     "data": {
      "text/plain": [
       "<keras.callbacks.History at 0x7fa4a4530978>"
      ]
     },
     "execution_count": 115,
     "metadata": {},
     "output_type": "execute_result"
    }
   ],
   "source": [
    "model.fit(train_set_full_ens.features, train_set_full_ens.targets, epochs=5, \n",
    "                 batch_size=1024,\n",
    "                 validation_data=[test_set_full_ens.features, test_set_full_ens.targets])"
   ]
  },
  {
   "cell_type": "code",
   "execution_count": 116,
   "metadata": {
    "collapsed": true,
    "hidden": true
   },
   "outputs": [],
   "source": [
    "preds = model.predict(test_set_full_ens.features)"
   ]
  },
  {
   "cell_type": "code",
   "execution_count": 118,
   "metadata": {
    "hidden": true
   },
   "outputs": [
    {
     "data": {
      "text/plain": [
       "(array([ 2.14922285, -1.70540333], dtype=float32), -0.60000002)"
      ]
     },
     "execution_count": 118,
     "metadata": {},
     "output_type": "execute_result"
    }
   ],
   "source": [
    "preds[10], test_set_full_ens.targets[10]"
   ]
  },
  {
   "cell_type": "markdown",
   "metadata": {
    "heading_collapsed": true
   },
   "source": [
    "## With station embeddings"
   ]
  },
  {
   "cell_type": "code",
   "execution_count": 129,
   "metadata": {
    "collapsed": true,
    "hidden": true
   },
   "outputs": [],
   "source": [
    "def build_cat_emb_model(hidden_nodes, emb_size, max_id, feature_size, n_bins):\n",
    "    features_in = Input(shape=(feature_size,))\n",
    "    id_in = Input(shape=(1,))\n",
    "    emb = Embedding(max_id + 1, emb_size)(id_in)\n",
    "    emb = Flatten()(emb)\n",
    "    x = Concatenate()([features_in, emb])\n",
    "    x = Dense(hidden_nodes, activation='relu')(x)\n",
    "    x = Dense(n_bins, activation='softmax')(x)\n",
    "    model = Model(inputs=[features_in, id_in], outputs=x)\n",
    "    return model"
   ]
  },
  {
   "cell_type": "code",
   "execution_count": 130,
   "metadata": {
    "hidden": true
   },
   "outputs": [
    {
     "data": {
      "text/plain": [
       "536"
      ]
     },
     "execution_count": 130,
     "metadata": {},
     "output_type": "execute_result"
    }
   ],
   "source": [
    "emb_size = 5\n",
    "max_id = int(np.max([train_set.cont_ids.max(), test_set.cont_ids.max()]))\n",
    "max_id"
   ]
  },
  {
   "cell_type": "markdown",
   "metadata": {
    "heading_collapsed": true,
    "hidden": true
   },
   "source": [
    "### With relative bins"
   ]
  },
  {
   "cell_type": "code",
   "execution_count": 131,
   "metadata": {
    "collapsed": true,
    "hidden": true
   },
   "outputs": [],
   "source": [
    "model = build_cat_emb_model(100, emb_size, max_id, 2, conv_bin_edges.shape[0]-1)"
   ]
  },
  {
   "cell_type": "code",
   "execution_count": 132,
   "metadata": {
    "collapsed": true,
    "hidden": true
   },
   "outputs": [],
   "source": [
    "model.compile(optimizer=Adam(0.001), loss=approx_crps_cat(bin_width))"
   ]
  },
  {
   "cell_type": "code",
   "execution_count": 133,
   "metadata": {
    "hidden": true
   },
   "outputs": [
    {
     "name": "stdout",
     "output_type": "stream",
     "text": [
      "Train on 1092828 samples, validate on 182218 samples\n",
      "Epoch 1/5\n",
      "1092828/1092828 [==============================] - 20s - loss: 1.0948 - val_loss: 0.9109\n",
      "Epoch 2/5\n",
      "1092828/1092828 [==============================] - 19s - loss: 0.9418 - val_loss: 0.9069\n",
      "Epoch 3/5\n",
      "1092828/1092828 [==============================] - 19s - loss: 0.9391 - val_loss: 0.9057\n",
      "Epoch 4/5\n",
      "1092828/1092828 [==============================] - 19s - loss: 0.9374 - val_loss: 0.9071\n",
      "Epoch 5/5\n",
      "1092828/1092828 [==============================] - 19s - loss: 0.9358 - val_loss: 0.9071\n"
     ]
    },
    {
     "data": {
      "text/plain": [
       "<keras.callbacks.History at 0x1225c6f28>"
      ]
     },
     "execution_count": 133,
     "metadata": {},
     "output_type": "execute_result"
    }
   ],
   "source": [
    "model.fit([train_set.features, train_set.cont_ids], conv_train_cat_targets_nearest, \n",
    "              epochs=5, batch_size=1024, \n",
    "              validation_data=[[test_set.features, test_set.cont_ids], conv_test_cat_targets_nearest])"
   ]
  },
  {
   "cell_type": "code",
   "execution_count": 134,
   "metadata": {
    "collapsed": true,
    "hidden": true
   },
   "outputs": [],
   "source": [
    "preds = model.predict([test_set.features, test_set.cont_ids])"
   ]
  },
  {
   "cell_type": "code",
   "execution_count": 135,
   "metadata": {
    "hidden": true
   },
   "outputs": [
    {
     "data": {
      "text/plain": [
       "0.93468747827570597"
      ]
     },
     "execution_count": 135,
     "metadata": {},
     "output_type": "execute_result"
    }
   ],
   "source": [
    "maybe_correct_cat_crps(preds, test_conv_targets, conv_bin_edges)"
   ]
  },
  {
   "cell_type": "code",
   "execution_count": 136,
   "metadata": {
    "hidden": true,
    "scrolled": true
   },
   "outputs": [
    {
     "name": "stdout",
     "output_type": "stream",
     "text": [
      "22414\n",
      "2.0 1.32883\n"
     ]
    },
    {
     "data": {
      "image/png": "[encoded data removed]",
      "text/plain": [
       "<matplotlib.figure.Figure at 0x1268e5978>"
      ]
     },
     "metadata": {},
     "output_type": "display_data"
    },
    {
     "name": "stdout",
     "output_type": "stream",
     "text": [
      "12547\n",
      "1.3 -0.955767\n"
     ]
    },
    {
     "data": {
      "image/png": "[encoded data removed]",
      "text/plain": [
       "<matplotlib.figure.Figure at 0x1224e3cf8>"
      ]
     },
     "metadata": {},
     "output_type": "display_data"
    },
    {
     "name": "stdout",
     "output_type": "stream",
     "text": [
      "18650\n",
      "9.9 8.75629\n"
     ]
    },
    {
     "data": {
      "image/png": "[encoded data removed]",
      "text/plain": [
       "<matplotlib.figure.Figure at 0x1268fcfd0>"
      ]
     },
     "metadata": {},
     "output_type": "display_data"
    },
    {
     "name": "stdout",
     "output_type": "stream",
     "text": [
      "14403\n",
      "1.6 1.57018\n"
     ]
    },
    {
     "data": {
      "image/png": "[encoded data removed]",
      "text/plain": [
       "<matplotlib.figure.Figure at 0x1224117f0>"
      ]
     },
     "metadata": {},
     "output_type": "display_data"
    },
    {
     "name": "stdout",
     "output_type": "stream",
     "text": [
      "29467\n",
      "-1.0 0.0790331\n"
     ]
    },
    {
     "data": {
      "image/png": "[encoded data removed]",
      "text/plain": [
       "<matplotlib.figure.Figure at 0x12750e630>"
      ]
     },
     "metadata": {},
     "output_type": "display_data"
    },
    {
     "name": "stdout",
     "output_type": "stream",
     "text": [
      "159501\n",
      "3.5 3.59646\n"
     ]
    },
    {
     "data": {
      "image/png": "[encoded data removed]",
      "text/plain": [
       "<matplotlib.figure.Figure at 0x12c5bafd0>"
      ]
     },
     "metadata": {},
     "output_type": "display_data"
    },
    {
     "name": "stdout",
     "output_type": "stream",
     "text": [
      "33520\n",
      "-2.8 -2.84231\n"
     ]
    },
    {
     "data": {
      "image/png": "[encoded data removed]",
      "text/plain": [
       "<matplotlib.figure.Figure at 0x1279fcda0>"
      ]
     },
     "metadata": {},
     "output_type": "display_data"
    },
    {
     "name": "stdout",
     "output_type": "stream",
     "text": [
      "14755\n",
      "1.3 2.12982\n"
     ]
    },
    {
     "data": {
      "image/png": "[encoded data removed]",
      "text/plain": [
       "<matplotlib.figure.Figure at 0x1229671d0>"
      ]
     },
     "metadata": {},
     "output_type": "display_data"
    },
    {
     "name": "stdout",
     "output_type": "stream",
     "text": [
      "139630\n",
      "8.5 10.2912\n"
     ]
    },
    {
     "data": {
      "image/png": "[encoded data removed]",
      "text/plain": [
       "<matplotlib.figure.Figure at 0x127679978>"
      ]
     },
     "metadata": {},
     "output_type": "display_data"
    },
    {
     "name": "stdout",
     "output_type": "stream",
     "text": [
      "39821\n",
      "3.0 1.32466\n"
     ]
    },
    {
     "data": {
      "image/png": "[encoded data removed]",
      "text/plain": [
       "<matplotlib.figure.Figure at 0x123e54400>"
      ]
     },
     "metadata": {},
     "output_type": "display_data"
    }
   ],
   "source": [
    "for i in np.random.randint(0, 182218, 10):\n",
    "    print(i)\n",
    "    print(test_set.targets[i], test_set.features[i, 0] * test_set.scale_factors[0])\n",
    "    plt.bar(conv_bin_edges[:-1] + 0.25, preds[i], width=0.5, alpha=0.8)\n",
    "    plt.bar(conv_bin_edges[:-1] + 0.25, conv_test_cat_targets_nearest[i], width=0.5, zorder=0.1)\n",
    "    plt.axvline(test_conv_targets[i], c='r')\n",
    "    plt.show()"
   ]
  },
  {
   "cell_type": "markdown",
   "metadata": {
    "heading_collapsed": true,
    "hidden": true
   },
   "source": [
    "### With full ensemble input"
   ]
  },
  {
   "cell_type": "code",
   "execution_count": 137,
   "metadata": {
    "hidden": true
   },
   "outputs": [
    {
     "name": "stdout",
     "output_type": "stream",
     "text": [
      "train set contains 2191 days\n",
      "test set contains 366 days\n"
     ]
    }
   ],
   "source": [
    "train_set_full_ens, test_set_full_ens = get_train_test_sets(DATA_DIR, train_dates, test_dates,\n",
    "                                                            full_ensemble_t=True)"
   ]
  },
  {
   "cell_type": "code",
   "execution_count": 138,
   "metadata": {
    "collapsed": true,
    "hidden": true
   },
   "outputs": [],
   "source": [
    "model = build_cat_emb_model(100, emb_size, max_id, 50, conv_bin_edges.shape[0]-1)"
   ]
  },
  {
   "cell_type": "code",
   "execution_count": 139,
   "metadata": {
    "collapsed": true,
    "hidden": true
   },
   "outputs": [],
   "source": [
    "model.compile(optimizer=Adam(0.001), loss=approx_crps_cat(bin_width))"
   ]
  },
  {
   "cell_type": "code",
   "execution_count": 141,
   "metadata": {
    "hidden": true
   },
   "outputs": [
    {
     "name": "stdout",
     "output_type": "stream",
     "text": [
      "Train on 1092828 samples, validate on 182218 samples\n",
      "Epoch 1/3\n",
      "1092828/1092828 [==============================] - 21s - loss: 1.0665 - val_loss: 0.9268\n",
      "Epoch 2/3\n",
      "1092828/1092828 [==============================] - 21s - loss: 0.9519 - val_loss: 0.9114\n",
      "Epoch 3/3\n",
      "1092828/1092828 [==============================] - 22s - loss: 0.9474 - val_loss: 0.9115\n"
     ]
    },
    {
     "data": {
      "text/plain": [
       "<keras.callbacks.History at 0x127051b38>"
      ]
     },
     "execution_count": 141,
     "metadata": {},
     "output_type": "execute_result"
    }
   ],
   "source": [
    "model.fit([train_set_full_ens.features, train_set_full_ens.cont_ids], conv_train_cat_targets_nearest, \n",
    "              epochs=3, batch_size=1024, \n",
    "              validation_data=[[test_set_full_ens.features, test_set_full_ens.cont_ids], \n",
    "                               conv_test_cat_targets_nearest])"
   ]
  },
  {
   "cell_type": "code",
   "execution_count": 142,
   "metadata": {
    "collapsed": true,
    "hidden": true
   },
   "outputs": [],
   "source": [
    "preds = model.predict([test_set_full_ens.features, test_set_full_ens.cont_ids])"
   ]
  },
  {
   "cell_type": "code",
   "execution_count": 143,
   "metadata": {
    "hidden": true
   },
   "outputs": [
    {
     "data": {
      "text/plain": [
       "0.93664919338451591"
      ]
     },
     "execution_count": 143,
     "metadata": {},
     "output_type": "execute_result"
    }
   ],
   "source": [
    "maybe_correct_cat_crps(preds, test_conv_targets, conv_bin_edges)"
   ]
  },
  {
   "cell_type": "code",
   "execution_count": 144,
   "metadata": {
    "hidden": true,
    "scrolled": true
   },
   "outputs": [
    {
     "data": {
      "image/png": "[encoded data removed]",
      "text/plain": [
       "<matplotlib.figure.Figure at 0x127448198>"
      ]
     },
     "metadata": {},
     "output_type": "display_data"
    },
    {
     "data": {
      "image/png": "[encoded data removed]",
      "text/plain": [
       "<matplotlib.figure.Figure at 0x122947e80>"
      ]
     },
     "metadata": {},
     "output_type": "display_data"
    },
    {
     "data": {
      "image/png": "[encoded data removed]",
      "text/plain": [
       "<matplotlib.figure.Figure at 0x12641cfd0>"
      ]
     },
     "metadata": {},
     "output_type": "display_data"
    },
    {
     "data": {
      "image/png": "[encoded data removed]",
      "text/plain": [
       "<matplotlib.figure.Figure at 0x12247c198>"
      ]
     },
     "metadata": {},
     "output_type": "display_data"
    },
    {
     "data": {
      "image/png": "[encoded data removed]",
      "text/plain": [
       "<matplotlib.figure.Figure at 0x1274ce5f8>"
      ]
     },
     "metadata": {},
     "output_type": "display_data"
    },
    {
     "data": {
      "image/png": "[encoded data removed]",
      "text/plain": [
       "<matplotlib.figure.Figure at 0x127870cf8>"
      ]
     },
     "metadata": {},
     "output_type": "display_data"
    },
    {
     "data": {
      "image/png": "[encoded data removed]",
      "text/plain": [
       "<matplotlib.figure.Figure at 0x12c4013c8>"
      ]
     },
     "metadata": {},
     "output_type": "display_data"
    },
    {
     "data": {
      "image/png": "[encoded data removed]",
      "text/plain": [
       "<matplotlib.figure.Figure at 0x126985e80>"
      ]
     },
     "metadata": {},
     "output_type": "display_data"
    },
    {
     "data": {
      "image/png": "[encoded data removed]",
      "text/plain": [
       "<matplotlib.figure.Figure at 0x12d3366a0>"
      ]
     },
     "metadata": {},
     "output_type": "display_data"
    },
    {
     "data": {
      "image/png": "[encoded data removed]",
      "text/plain": [
       "<matplotlib.figure.Figure at 0x128fcbac8>"
      ]
     },
     "metadata": {},
     "output_type": "display_data"
    }
   ],
   "source": [
    "for i in np.random.randint(0, 182218, 10):\n",
    "    plt.bar(conv_bin_edges[:-1] + 0.25, preds[i], width=0.5, alpha=0.8)\n",
    "    plt.bar(conv_bin_edges[:-1] + 0.25, conv_test_cat_targets_nearest[i], width=0.5, zorder=0.1)\n",
    "    plt.axvline(test_conv_targets[i], c='r')\n",
    "    plt.show()"
   ]
  },
  {
   "cell_type": "code",
   "execution_count": null,
   "metadata": {
    "collapsed": true,
    "hidden": true
   },
   "outputs": [],
   "source": []
  },
  {
   "cell_type": "markdown",
   "metadata": {
    "heading_collapsed": true,
    "hidden": true
   },
   "source": [
    "### Standard bins"
   ]
  },
  {
   "cell_type": "code",
   "execution_count": 135,
   "metadata": {
    "collapsed": true,
    "hidden": true
   },
   "outputs": [],
   "source": [
    "model = build_cat_emb_model(100, emb_size, max_id, 2, bin_edges.shape[0]-1)"
   ]
  },
  {
   "cell_type": "code",
   "execution_count": 147,
   "metadata": {
    "collapsed": true,
    "hidden": true
   },
   "outputs": [],
   "source": [
    "model.compile(optimizer=Adam(0.00001), loss=approx_crps)"
   ]
  },
  {
   "cell_type": "code",
   "execution_count": 148,
   "metadata": {
    "hidden": true
   },
   "outputs": [
    {
     "name": "stdout",
     "output_type": "stream",
     "text": [
      "Train on 180849 samples, validate on 182218 samples\n",
      "Epoch 1/10\n",
      "180849/180849 [==============================] - 3s - loss: 0.9701 - val_loss: 0.9442\n",
      "Epoch 2/10\n",
      "180849/180849 [==============================] - 2s - loss: 0.9701 - val_loss: 0.9441\n",
      "Epoch 3/10\n",
      "180849/180849 [==============================] - 2s - loss: 0.9701 - val_loss: 0.9440\n",
      "Epoch 4/10\n",
      "180849/180849 [==============================] - 2s - loss: 0.9700 - val_loss: 0.9440\n",
      "Epoch 5/10\n",
      "180849/180849 [==============================] - 2s - loss: 0.9700 - val_loss: 0.9439\n",
      "Epoch 6/10\n",
      "180849/180849 [==============================] - 2s - loss: 0.9700 - val_loss: 0.9439\n",
      "Epoch 7/10\n",
      "180849/180849 [==============================] - 2s - loss: 0.9700 - val_loss: 0.9438\n",
      "Epoch 8/10\n",
      "180849/180849 [==============================] - 2s - loss: 0.9700 - val_loss: 0.9438\n",
      "Epoch 9/10\n",
      "180849/180849 [==============================] - 2s - loss: 0.9700 - val_loss: 0.9437\n",
      "Epoch 10/10\n",
      "180849/180849 [==============================] - 2s - loss: 0.9700 - val_loss: 0.9437\n"
     ]
    },
    {
     "data": {
      "text/plain": [
       "<keras.callbacks.History at 0x7fa49d4cff28>"
      ]
     },
     "execution_count": 148,
     "metadata": {},
     "output_type": "execute_result"
    }
   ],
   "source": [
    "model.fit([train_set.features, train_set.cont_ids], train_cat_targets_nearest, \n",
    "              epochs=10, batch_size=4096, \n",
    "              validation_data=[[test_set.features, test_set.cont_ids], test_cat_targets_nearest])"
   ]
  },
  {
   "cell_type": "code",
   "execution_count": 149,
   "metadata": {
    "collapsed": true,
    "hidden": true
   },
   "outputs": [],
   "source": [
    "preds = model.predict([test_set.features, test_set.cont_ids])"
   ]
  },
  {
   "cell_type": "code",
   "execution_count": 150,
   "metadata": {
    "hidden": true
   },
   "outputs": [
    {
     "data": {
      "text/plain": [
       "0.95332045387173248"
      ]
     },
     "execution_count": 150,
     "metadata": {},
     "output_type": "execute_result"
    }
   ],
   "source": [
    "maybe_correct_cat_crps(preds, test_set.targets, bin_edges)"
   ]
  },
  {
   "cell_type": "code",
   "execution_count": 151,
   "metadata": {
    "hidden": true
   },
   "outputs": [
    {
     "data": {
      "image/png": "[encoded data removed]",
      "text/plain": [
       "<matplotlib.figure.Figure at 0x7fa49d53d4e0>"
      ]
     },
     "metadata": {},
     "output_type": "display_data"
    }
   ],
   "source": [
    "i = 10\n",
    "plt.bar(bin_edges[:-1] + 0.25, preds[i], width=0.5, alpha=0.8)\n",
    "plt.bar(bin_edges[:-1] + 0.25, test_cat_targets[i], width=0.5, zorder=0.1)\n",
    "plt.axvline(test_set.targets[i], c='r')\n",
    "plt.show()"
   ]
  },
  {
   "cell_type": "markdown",
   "metadata": {
    "heading_collapsed": true,
    "hidden": true
   },
   "source": [
    "### testing a convolution layer"
   ]
  },
  {
   "cell_type": "code",
   "execution_count": 153,
   "metadata": {
    "collapsed": true,
    "hidden": true
   },
   "outputs": [],
   "source": [
    "from keras.layers import Conv1D"
   ]
  },
  {
   "cell_type": "code",
   "execution_count": 158,
   "metadata": {
    "collapsed": true,
    "hidden": true
   },
   "outputs": [],
   "source": [
    "def build_cat_emb_conv_model(hidden_nodes, emb_size, max_id, feature_size, n_bins, maps):\n",
    "    features_in = Input(shape=(feature_size, 1))\n",
    "    id_in = Input(shape=(1,))\n",
    "    emb = Embedding(max_id + 1, emb_size)(id_in)\n",
    "    emb = Flatten()(emb)\n",
    "    conv = Conv1D(maps, feature_size)(features_in)\n",
    "    conv = Flatten()(conv)\n",
    "    x = Concatenate()([conv, emb])\n",
    "    x = Dense(hidden_nodes, activation='relu')(x)\n",
    "    x = Dense(n_bins, activation='softmax')(x)\n",
    "    model = Model(inputs=[features_in, id_in], outputs=x)\n",
    "    return model"
   ]
  },
  {
   "cell_type": "code",
   "execution_count": 161,
   "metadata": {
    "collapsed": true,
    "hidden": true
   },
   "outputs": [],
   "source": [
    "model = build_cat_emb_conv_model(100, emb_size, max_id, 50, bin_edges.shape[0]-1, 2)"
   ]
  },
  {
   "cell_type": "code",
   "execution_count": 162,
   "metadata": {
    "hidden": true
   },
   "outputs": [
    {
     "name": "stdout",
     "output_type": "stream",
     "text": [
      "____________________________________________________________________________________________________\n",
      "Layer (type)                     Output Shape          Param #     Connected to                     \n",
      "====================================================================================================\n",
      "input_27 (InputLayer)            (None, 50, 1)         0                                            \n",
      "____________________________________________________________________________________________________\n",
      "input_28 (InputLayer)            (None, 1)             0                                            \n",
      "____________________________________________________________________________________________________\n",
      "conv1d_4 (Conv1D)                (None, 1, 2)          102         input_27[0][0]                   \n",
      "____________________________________________________________________________________________________\n",
      "embedding_7 (Embedding)          (None, 1, 5)          2685        input_28[0][0]                   \n",
      "____________________________________________________________________________________________________\n",
      "flatten_9 (Flatten)              (None, 2)             0           conv1d_4[0][0]                   \n",
      "____________________________________________________________________________________________________\n",
      "flatten_8 (Flatten)              (None, 5)             0           embedding_7[0][0]                \n",
      "____________________________________________________________________________________________________\n",
      "concatenate_5 (Concatenate)      (None, 7)             0           flatten_9[0][0]                  \n",
      "                                                                   flatten_8[0][0]                  \n",
      "____________________________________________________________________________________________________\n",
      "dense_43 (Dense)                 (None, 100)           800         concatenate_5[0][0]              \n",
      "____________________________________________________________________________________________________\n",
      "dense_44 (Dense)                 (None, 130)           13130       dense_43[0][0]                   \n",
      "====================================================================================================\n",
      "Total params: 16,717\n",
      "Trainable params: 16,717\n",
      "Non-trainable params: 0\n",
      "____________________________________________________________________________________________________\n"
     ]
    }
   ],
   "source": [
    "model.summary()"
   ]
  },
  {
   "cell_type": "code",
   "execution_count": 166,
   "metadata": {
    "collapsed": true,
    "hidden": true
   },
   "outputs": [],
   "source": [
    "model.compile(optimizer=Adam(0.0001), loss=approx_crps)"
   ]
  },
  {
   "cell_type": "code",
   "execution_count": 167,
   "metadata": {
    "hidden": true
   },
   "outputs": [
    {
     "name": "stdout",
     "output_type": "stream",
     "text": [
      "Train on 180849 samples, validate on 182218 samples\n",
      "Epoch 1/10\n",
      "180849/180849 [==============================] - 3s - loss: 1.1204 - val_loss: 1.0730\n",
      "Epoch 2/10\n",
      "180849/180849 [==============================] - 2s - loss: 1.1179 - val_loss: 1.0703\n",
      "Epoch 3/10\n",
      "180849/180849 [==============================] - 2s - loss: 1.1158 - val_loss: 1.0683\n",
      "Epoch 4/10\n",
      "180849/180849 [==============================] - 2s - loss: 1.1138 - val_loss: 1.0658\n",
      "Epoch 5/10\n",
      "180849/180849 [==============================] - 2s - loss: 1.1119 - val_loss: 1.0634\n",
      "Epoch 6/10\n",
      "180849/180849 [==============================] - 2s - loss: 1.1102 - val_loss: 1.0619\n",
      "Epoch 7/10\n",
      "180849/180849 [==============================] - 2s - loss: 1.1086 - val_loss: 1.0601\n",
      "Epoch 8/10\n",
      "180849/180849 [==============================] - 2s - loss: 1.1071 - val_loss: 1.0581\n",
      "Epoch 9/10\n",
      "180849/180849 [==============================] - 2s - loss: 1.1057 - val_loss: 1.0567\n",
      "Epoch 10/10\n",
      "180849/180849 [==============================] - 2s - loss: 1.1044 - val_loss: 1.0546\n"
     ]
    },
    {
     "data": {
      "text/plain": [
       "<keras.callbacks.History at 0x7fa4940734e0>"
      ]
     },
     "execution_count": 167,
     "metadata": {},
     "output_type": "execute_result"
    }
   ],
   "source": [
    "model.fit([np.atleast_3d(train_set_full_ens.features), train_set_full_ens.cont_ids], \n",
    "          train_cat_targets_nearest, \n",
    "          epochs=10, batch_size=4096, \n",
    "          validation_data=[[np.atleast_3d(test_set_full_ens.features), test_set_full_ens.cont_ids], \n",
    "                           test_cat_targets_nearest])"
   ]
  },
  {
   "cell_type": "markdown",
   "metadata": {
    "heading_collapsed": true
   },
   "source": [
    "## Auxiliary data"
   ]
  },
  {
   "cell_type": "markdown",
   "metadata": {
    "hidden": true
   },
   "source": [
    "### Mean and std"
   ]
  },
  {
   "cell_type": "code",
   "execution_count": 208,
   "metadata": {
    "collapsed": true,
    "hidden": true
   },
   "outputs": [],
   "source": [
    "aux_dict = OrderedDict()\n",
    "aux_dict['data_aux_geo_interpolated.nc'] = ['orog', \n",
    "                                            'station_alt', \n",
    "                                            'station_lat', \n",
    "                                            'station_lon']\n",
    "aux_dict['data_aux_pl500_interpolated_00UTC.nc'] = ['u_pl500_fc',\n",
    "                                                    'v_pl500_fc',\n",
    "                                                    'gh_pl500_fc']\n",
    "aux_dict['data_aux_pl850_interpolated_00UTC.nc'] = ['u_pl850_fc',\n",
    "                                                    'v_pl850_fc',\n",
    "                                                    'q_pl850_fc']\n",
    "aux_dict['data_aux_surface_interpolated_00UTC.nc'] = ['cape_fc',\n",
    "                                                      'sp_fc',\n",
    "                                                      'tcc_fc']"
   ]
  },
  {
   "cell_type": "code",
   "execution_count": 212,
   "metadata": {
    "hidden": true
   },
   "outputs": [
    {
     "name": "stdout",
     "output_type": "stream",
     "text": [
      "train set contains 365 days\n",
      "test set contains 366 days\n"
     ]
    }
   ],
   "source": [
    "train_set_aux, test_set_aux = get_train_test_sets(DATA_DIR, train_dates, test_dates,\n",
    "                                                  aux_dict=aux_dict)"
   ]
  },
  {
   "cell_type": "code",
   "execution_count": 214,
   "metadata": {
    "collapsed": true,
    "hidden": true
   },
   "outputs": [],
   "source": [
    "model = build_cat_model(train_set_aux.features.shape[1], [50], bin_edges.shape[0]-1)"
   ]
  },
  {
   "cell_type": "code",
   "execution_count": 215,
   "metadata": {
    "hidden": true
   },
   "outputs": [
    {
     "name": "stdout",
     "output_type": "stream",
     "text": [
      "_________________________________________________________________\n",
      "Layer (type)                 Output Shape              Param #   \n",
      "=================================================================\n",
      "input_36 (InputLayer)        (None, 24)                0         \n",
      "_________________________________________________________________\n",
      "dense_57 (Dense)             (None, 50)                1250      \n",
      "_________________________________________________________________\n",
      "dense_58 (Dense)             (None, 130)               6630      \n",
      "=================================================================\n",
      "Total params: 7,880\n",
      "Trainable params: 7,880\n",
      "Non-trainable params: 0\n",
      "_________________________________________________________________\n"
     ]
    }
   ],
   "source": [
    "model.summary()"
   ]
  },
  {
   "cell_type": "code",
   "execution_count": 223,
   "metadata": {
    "collapsed": true,
    "hidden": true
   },
   "outputs": [],
   "source": [
    "model.compile(optimizer=Adam(0.0001), loss=approx_crps)"
   ]
  },
  {
   "cell_type": "code",
   "execution_count": 224,
   "metadata": {
    "hidden": true
   },
   "outputs": [
    {
     "name": "stdout",
     "output_type": "stream",
     "text": [
      "Train on 180849 samples, validate on 182218 samples\n",
      "Epoch 1/5\n",
      "180849/180849 [==============================] - 3s - loss: 1.0580 - val_loss: 1.0450\n",
      "Epoch 2/5\n",
      "180849/180849 [==============================] - 3s - loss: 1.0578 - val_loss: 1.0457\n",
      "Epoch 3/5\n",
      "180849/180849 [==============================] - 3s - loss: 1.0576 - val_loss: 1.0456\n",
      "Epoch 4/5\n",
      "180849/180849 [==============================] - 3s - loss: 1.0575 - val_loss: 1.0435\n",
      "Epoch 5/5\n",
      "180849/180849 [==============================] - 3s - loss: 1.0573 - val_loss: 1.0438\n"
     ]
    },
    {
     "data": {
      "text/plain": [
       "<keras.callbacks.History at 0x7fa47c186e10>"
      ]
     },
     "execution_count": 224,
     "metadata": {},
     "output_type": "execute_result"
    }
   ],
   "source": [
    "model.fit(train_set_aux.features, train_cat_targets_nearest, epochs=5, batch_size=1024,\n",
    "          validation_data=[test_set_aux.features, test_cat_targets_nearest])"
   ]
  },
  {
   "cell_type": "code",
   "execution_count": 267,
   "metadata": {
    "collapsed": true,
    "hidden": true
   },
   "outputs": [],
   "source": [
    "model = build_cat_emb_model(100, emb_size, max_id, train_set_aux.features.shape[1], \n",
    "                            bin_edges.shape[0]-1)"
   ]
  },
  {
   "cell_type": "code",
   "execution_count": 268,
   "metadata": {
    "hidden": true
   },
   "outputs": [
    {
     "name": "stdout",
     "output_type": "stream",
     "text": [
      "____________________________________________________________________________________________________\n",
      "Layer (type)                     Output Shape          Param #     Connected to                     \n",
      "====================================================================================================\n",
      "input_44 (InputLayer)            (None, 1)             0                                            \n",
      "____________________________________________________________________________________________________\n",
      "embedding_10 (Embedding)         (None, 1, 5)          2685        input_44[0][0]                   \n",
      "____________________________________________________________________________________________________\n",
      "input_43 (InputLayer)            (None, 24)            0                                            \n",
      "____________________________________________________________________________________________________\n",
      "flatten_16 (Flatten)             (None, 5)             0           embedding_10[0][0]               \n",
      "____________________________________________________________________________________________________\n",
      "concatenate_8 (Concatenate)      (None, 29)            0           input_43[0][0]                   \n",
      "                                                                   flatten_16[0][0]                 \n",
      "____________________________________________________________________________________________________\n",
      "dense_67 (Dense)                 (None, 100)           3000        concatenate_8[0][0]              \n",
      "____________________________________________________________________________________________________\n",
      "dense_68 (Dense)                 (None, 130)           13130       dense_67[0][0]                   \n",
      "====================================================================================================\n",
      "Total params: 18,815\n",
      "Trainable params: 18,815\n",
      "Non-trainable params: 0\n",
      "____________________________________________________________________________________________________\n"
     ]
    }
   ],
   "source": [
    "model.summary()"
   ]
  },
  {
   "cell_type": "code",
   "execution_count": 274,
   "metadata": {
    "collapsed": true,
    "hidden": true
   },
   "outputs": [],
   "source": [
    "model.compile(optimizer=Adam(0.00001), loss=approx_crps)"
   ]
  },
  {
   "cell_type": "code",
   "execution_count": 275,
   "metadata": {
    "hidden": true
   },
   "outputs": [
    {
     "name": "stdout",
     "output_type": "stream",
     "text": [
      "Train on 180849 samples, validate on 182218 samples\n",
      "Epoch 1/10\n",
      "180849/180849 [==============================] - 3s - loss: 0.9672 - val_loss: 0.9603\n",
      "Epoch 2/10\n",
      "180849/180849 [==============================] - 2s - loss: 0.9665 - val_loss: 0.9605\n",
      "Epoch 3/10\n",
      "180849/180849 [==============================] - 2s - loss: 0.9662 - val_loss: 0.9607\n",
      "Epoch 4/10\n",
      "180849/180849 [==============================] - 2s - loss: 0.9661 - val_loss: 0.9608\n",
      "Epoch 5/10\n",
      "180849/180849 [==============================] - 2s - loss: 0.9661 - val_loss: 0.9610\n",
      "Epoch 6/10\n",
      "180849/180849 [==============================] - 2s - loss: 0.9660 - val_loss: 0.9610\n",
      "Epoch 7/10\n",
      "180849/180849 [==============================] - 2s - loss: 0.9660 - val_loss: 0.9611\n",
      "Epoch 8/10\n",
      "180849/180849 [==============================] - 2s - loss: 0.9660 - val_loss: 0.9610\n",
      "Epoch 9/10\n",
      "180849/180849 [==============================] - 2s - loss: 0.9659 - val_loss: 0.9609\n",
      "Epoch 10/10\n",
      "180849/180849 [==============================] - 2s - loss: 0.9659 - val_loss: 0.9609\n"
     ]
    },
    {
     "data": {
      "text/plain": [
       "<keras.callbacks.History at 0x7fa46f6fbcf8>"
      ]
     },
     "execution_count": 275,
     "metadata": {},
     "output_type": "execute_result"
    }
   ],
   "source": [
    "model.fit([train_set_aux.features, train_set_aux.cont_ids], train_cat_targets_nearest, \n",
    "              epochs=10, batch_size=4096, \n",
    "              validation_data=[[test_set_aux.features, test_set_aux.cont_ids], \n",
    "                               test_cat_targets_nearest])"
   ]
  },
  {
   "cell_type": "markdown",
   "metadata": {
    "heading_collapsed": true,
    "hidden": true
   },
   "source": [
    "### Full ensemble"
   ]
  },
  {
   "cell_type": "code",
   "execution_count": 226,
   "metadata": {
    "hidden": true
   },
   "outputs": [
    {
     "name": "stdout",
     "output_type": "stream",
     "text": [
      "train set contains 365 days\n",
      "test set contains 366 days\n"
     ]
    }
   ],
   "source": [
    "train_set_aux_ens, test_set_aux_ens = get_train_test_sets(DATA_DIR, train_dates, test_dates,\n",
    "                                                          aux_dict=aux_dict, \n",
    "                                                          full_ensemble_t=True)"
   ]
  },
  {
   "cell_type": "code",
   "execution_count": 276,
   "metadata": {
    "hidden": true
   },
   "outputs": [
    {
     "data": {
      "text/plain": [
       "(180849, 72)"
      ]
     },
     "execution_count": 276,
     "metadata": {},
     "output_type": "execute_result"
    }
   ],
   "source": [
    "train_set_aux_ens.features.shape"
   ]
  },
  {
   "cell_type": "code",
   "execution_count": 280,
   "metadata": {
    "collapsed": true,
    "hidden": true
   },
   "outputs": [],
   "source": [
    "model = build_cat_emb_model(100, emb_size, max_id, train_set_aux_ens.features.shape[1], \n",
    "                            bin_edges.shape[0]-1)"
   ]
  },
  {
   "cell_type": "code",
   "execution_count": 285,
   "metadata": {
    "collapsed": true,
    "hidden": true
   },
   "outputs": [],
   "source": [
    "model.compile(optimizer=Adam(0.0001), loss=approx_crps)"
   ]
  },
  {
   "cell_type": "code",
   "execution_count": 286,
   "metadata": {
    "hidden": true
   },
   "outputs": [
    {
     "name": "stdout",
     "output_type": "stream",
     "text": [
      "Train on 180849 samples, validate on 182218 samples\n",
      "Epoch 1/10\n",
      "180849/180849 [==============================] - 3s - loss: 0.9205 - val_loss: 0.9256\n",
      "Epoch 2/10\n",
      "180849/180849 [==============================] - 2s - loss: 0.9202 - val_loss: 0.9257\n",
      "Epoch 3/10\n",
      "180849/180849 [==============================] - 2s - loss: 0.9201 - val_loss: 0.9260\n",
      "Epoch 4/10\n",
      "180849/180849 [==============================] - 2s - loss: 0.9199 - val_loss: 0.9251\n",
      "Epoch 5/10\n",
      "180849/180849 [==============================] - 2s - loss: 0.9197 - val_loss: 0.9258\n",
      "Epoch 6/10\n",
      "180849/180849 [==============================] - 2s - loss: 0.9195 - val_loss: 0.9262\n",
      "Epoch 7/10\n",
      "180849/180849 [==============================] - 2s - loss: 0.9194 - val_loss: 0.9250\n",
      "Epoch 8/10\n",
      "180849/180849 [==============================] - 2s - loss: 0.9193 - val_loss: 0.9260\n",
      "Epoch 9/10\n",
      "180849/180849 [==============================] - 2s - loss: 0.9191 - val_loss: 0.9249\n",
      "Epoch 10/10\n",
      "180849/180849 [==============================] - 2s - loss: 0.9190 - val_loss: 0.9256\n"
     ]
    },
    {
     "data": {
      "text/plain": [
       "<keras.callbacks.History at 0x7fa46d45cc18>"
      ]
     },
     "execution_count": 286,
     "metadata": {},
     "output_type": "execute_result"
    }
   ],
   "source": [
    "model.fit([train_set_aux_ens.features, train_set_aux_ens.cont_ids], train_cat_targets_nearest, \n",
    "              epochs=10, batch_size=4096, \n",
    "              validation_data=[[test_set_aux_ens.features, test_set_aux_ens.cont_ids], \n",
    "                               test_cat_targets_nearest])"
   ]
  },
  {
   "cell_type": "code",
   "execution_count": 287,
   "metadata": {
    "collapsed": true,
    "hidden": true
   },
   "outputs": [],
   "source": [
    "preds = model.predict([test_set_aux_ens.features, test_set_aux_ens.cont_ids])"
   ]
  },
  {
   "cell_type": "code",
   "execution_count": 288,
   "metadata": {
    "hidden": true
   },
   "outputs": [
    {
     "data": {
      "text/plain": [
       "0.92655730152299154"
      ]
     },
     "execution_count": 288,
     "metadata": {},
     "output_type": "execute_result"
    }
   ],
   "source": [
    "maybe_correct_cat_crps(preds, test_set_aux_ens.targets, bin_edges)"
   ]
  },
  {
   "cell_type": "markdown",
   "metadata": {
    "collapsed": true
   },
   "source": [
    "## XGBoost"
   ]
  },
  {
   "cell_type": "code",
   "execution_count": 145,
   "metadata": {},
   "outputs": [
    {
     "name": "stderr",
     "output_type": "stream",
     "text": [
      "/Users/stephanrasp/anaconda/envs/py36_keras/lib/python3.6/site-packages/sklearn/cross_validation.py:41: DeprecationWarning: This module was deprecated in version 0.18 in favor of the model_selection module into which all the refactored classes and functions are moved. Also note that the interface of the new CV iterators are different from that of this module. This module will be removed in 0.20.\n",
      "  \"This module will be removed in 0.20.\", DeprecationWarning)\n"
     ]
    }
   ],
   "source": [
    "import xgboost as xgb"
   ]
  },
  {
   "cell_type": "code",
   "execution_count": 154,
   "metadata": {
    "collapsed": true
   },
   "outputs": [],
   "source": [
    "def convert_targets_nearest_idxs(targets, bin_edges):\n",
    "    mat_bin_edges = np.repeat(np.atleast_2d(bin_edges), targets.shape[0], axis=0).T\n",
    "    return np.argmin(np.abs(mat_bin_edges - targets),axis=0)"
   ]
  },
  {
   "cell_type": "code",
   "execution_count": 155,
   "metadata": {
    "collapsed": true
   },
   "outputs": [],
   "source": [
    "xgb_train_targets = convert_targets_nearest_idxs(train_conv_targets, conv_bin_edges)\n",
    "xgb_test_targets = convert_targets_nearest_idxs(test_conv_targets, conv_bin_edges)"
   ]
  },
  {
   "cell_type": "code",
   "execution_count": 160,
   "metadata": {},
   "outputs": [
    {
     "data": {
      "text/plain": [
       "array([30, 33, 29, 35, 30])"
      ]
     },
     "execution_count": 160,
     "metadata": {},
     "output_type": "execute_result"
    }
   ],
   "source": [
    "xgb_train_targets[:5]"
   ]
  },
  {
   "cell_type": "code",
   "execution_count": 156,
   "metadata": {
    "collapsed": true
   },
   "outputs": [],
   "source": [
    "dtrain = xgb.DMatrix(train_set.features, xgb_train_targets, \n",
    "                     feature_names=train_set.feature_names)\n",
    "dtest = xgb.DMatrix(test_set.features, xgb_test_targets, \n",
    "                     feature_names=test_set.feature_names)"
   ]
  },
  {
   "cell_type": "code",
   "execution_count": 169,
   "metadata": {
    "collapsed": true
   },
   "outputs": [],
   "source": [
    "our_params={\n",
    "            'eta':0.2,\n",
    "            'subsample':0.8,\n",
    "            'objective':'multi:softprob',\n",
    "            'eval_metric': 'mlogloss',\n",
    "            'num_class': conv_bin_edges.shape[0]-1\n",
    "            }\n",
    "watchlist  = [(dtest,'eval'), (dtrain,'train')]"
   ]
  },
  {
   "cell_type": "code",
   "execution_count": 170,
   "metadata": {},
   "outputs": [
    {
     "name": "stdout",
     "output_type": "stream",
     "text": [
      "[0]\teval-mlogloss:3.77573\ttrain-mlogloss:3.79603\n",
      "[1]\teval-mlogloss:3.55214\ttrain-mlogloss:3.5737\n",
      "[2]\teval-mlogloss:3.40014\ttrain-mlogloss:3.42155\n",
      "[3]\teval-mlogloss:3.28701\ttrain-mlogloss:3.30776\n",
      "[4]\teval-mlogloss:3.19848\ttrain-mlogloss:3.21844\n",
      "[5]\teval-mlogloss:3.12733\ttrain-mlogloss:3.14643\n",
      "[6]\teval-mlogloss:3.06885\ttrain-mlogloss:3.08704\n",
      "[7]\teval-mlogloss:3.02004\ttrain-mlogloss:3.03736\n",
      "[8]\teval-mlogloss:2.97877\ttrain-mlogloss:2.99532\n",
      "[9]\teval-mlogloss:2.94371\ttrain-mlogloss:2.95945\n",
      "[10]\teval-mlogloss:2.91356\ttrain-mlogloss:2.92853\n",
      "[11]\teval-mlogloss:2.88757\ttrain-mlogloss:2.90173\n",
      "[12]\teval-mlogloss:2.86505\ttrain-mlogloss:2.87848\n",
      "[13]\teval-mlogloss:2.84545\ttrain-mlogloss:2.85814\n",
      "[14]\teval-mlogloss:2.82833\ttrain-mlogloss:2.84032\n"
     ]
    }
   ],
   "source": [
    "bst=xgb.train(our_params, dtrain, 15, watchlist)"
   ]
  },
  {
   "cell_type": "code",
   "execution_count": 171,
   "metadata": {
    "collapsed": true
   },
   "outputs": [],
   "source": [
    "preds_xgb = bst.predict(dtest)"
   ]
  },
  {
   "cell_type": "code",
   "execution_count": 172,
   "metadata": {},
   "outputs": [
    {
     "data": {
      "text/plain": [
       "1.1241186175877742"
      ]
     },
     "execution_count": 172,
     "metadata": {},
     "output_type": "execute_result"
    }
   ],
   "source": [
    "maybe_correct_cat_crps(preds_xgb, test_conv_targets, conv_bin_edges)"
   ]
  },
  {
   "cell_type": "code",
   "execution_count": 175,
   "metadata": {},
   "outputs": [
    {
     "name": "stdout",
     "output_type": "stream",
     "text": [
      "51970\n",
      "8.3 6.36791\n"
     ]
    },
    {
     "data": {
      "image/png": "[encoded data removed]",
      "text/plain": [
       "<matplotlib.figure.Figure at 0x1240b0d30>"
      ]
     },
     "metadata": {},
     "output_type": "display_data"
    },
    {
     "name": "stdout",
     "output_type": "stream",
     "text": [
      "146430\n",
      "4.3 3.80336\n"
     ]
    },
    {
     "data": {
      "image/png": "[encoded data removed]",
      "text/plain": [
       "<matplotlib.figure.Figure at 0x12273e0f0>"
      ]
     },
     "metadata": {},
     "output_type": "display_data"
    },
    {
     "name": "stdout",
     "output_type": "stream",
     "text": [
      "49493\n",
      "0.9 2.75774\n"
     ]
    },
    {
     "data": {
      "image/png": "[encoded data removed]",
      "text/plain": [
       "<matplotlib.figure.Figure at 0x12c26d860>"
      ]
     },
     "metadata": {},
     "output_type": "display_data"
    },
    {
     "name": "stdout",
     "output_type": "stream",
     "text": [
      "67465\n",
      "7.4 6.4445\n"
     ]
    },
    {
     "data": {
      "image/png": "[encoded data removed]",
      "text/plain": [
       "<matplotlib.figure.Figure at 0x125e94be0>"
      ]
     },
     "metadata": {},
     "output_type": "display_data"
    },
    {
     "name": "stdout",
     "output_type": "stream",
     "text": [
      "132167\n",
      "11.7 13.4324\n"
     ]
    },
    {
     "data": {
      "image/png": "[encoded data removed]",
      "text/plain": [
       "<matplotlib.figure.Figure at 0x12d0d0b38>"
      ]
     },
     "metadata": {},
     "output_type": "display_data"
    },
    {
     "name": "stdout",
     "output_type": "stream",
     "text": [
      "72286\n",
      "10.5 10.3513\n"
     ]
    },
    {
     "data": {
      "image/png": "[encoded data removed]",
      "text/plain": [
       "<matplotlib.figure.Figure at 0x129544e80>"
      ]
     },
     "metadata": {},
     "output_type": "display_data"
    },
    {
     "name": "stdout",
     "output_type": "stream",
     "text": [
      "133893\n",
      "13.1 14.2716\n"
     ]
    },
    {
     "data": {
      "image/png": "[encoded data removed]",
      "text/plain": [
       "<matplotlib.figure.Figure at 0x12cc580f0>"
      ]
     },
     "metadata": {},
     "output_type": "display_data"
    },
    {
     "name": "stdout",
     "output_type": "stream",
     "text": [
      "25253\n",
      "0.5 0.162234\n"
     ]
    },
    {
     "data": {
      "image/png": "[encoded data removed]",
      "text/plain": [
       "<matplotlib.figure.Figure at 0x128529a20>"
      ]
     },
     "metadata": {},
     "output_type": "display_data"
    },
    {
     "name": "stdout",
     "output_type": "stream",
     "text": [
      "121419\n",
      "18.9 18.6738\n"
     ]
    },
    {
     "data": {
      "image/png": "[encoded data removed]",
      "text/plain": [
       "<matplotlib.figure.Figure at 0x126963860>"
      ]
     },
     "metadata": {},
     "output_type": "display_data"
    },
    {
     "name": "stdout",
     "output_type": "stream",
     "text": [
      "21629\n",
      "-0.9 -1.11395\n"
     ]
    },
    {
     "data": {
      "image/png": "[encoded data removed]",
      "text/plain": [
       "<matplotlib.figure.Figure at 0x127928be0>"
      ]
     },
     "metadata": {},
     "output_type": "display_data"
    }
   ],
   "source": [
    "for i in np.random.randint(0, 182218, 10):\n",
    "    print(i)\n",
    "    print(test_set.targets[i], test_set.features[i, 0] * test_set.scale_factors[0])\n",
    "    plt.bar(conv_bin_edges[:-1] + 0.25, preds_xgb[i], width=0.5, alpha=0.8, color='navy')\n",
    "    plt.bar(conv_bin_edges[:-1] + 0.25, preds[i], width=0.5, alpha=0.8, color='lightblue')\n",
    "    plt.bar(conv_bin_edges[:-1] + 0.25, conv_test_cat_targets_nearest[i], width=0.5, zorder=0.1)\n",
    "    plt.axvline(test_conv_targets[i], c='r')\n",
    "    plt.show()"
   ]
  },
  {
   "cell_type": "code",
   "execution_count": null,
   "metadata": {
    "collapsed": true
   },
   "outputs": [],
   "source": []
  }
 ],
 "metadata": {
  "kernelspec": {
   "display_name": "Python 3",
   "language": "python",
   "name": "python3"
  },
  "language_info": {
   "codemirror_mode": {
    "name": "ipython",
    "version": 3
   },
   "file_extension": ".py",
   "mimetype": "text/x-python",
   "name": "python",
   "nbconvert_exporter": "python",
   "pygments_lexer": "ipython3",
   "version": "3.6.2"
  },
  "toc": {
   "nav_menu": {},
   "number_sections": true,
   "sideBar": true,
   "skip_h1_title": true,
   "toc_cell": true,
   "toc_position": {},
   "toc_section_display": "block",
   "toc_window_display": false
  }
 },
 "nbformat": 4,
 "nbformat_minor": 2
}
