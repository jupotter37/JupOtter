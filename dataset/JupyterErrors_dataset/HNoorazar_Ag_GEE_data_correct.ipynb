{
 "cells": [
  {
   "cell_type": "code",
   "execution_count": 17,
   "id": "5f499f1b",
   "metadata": {},
   "outputs": [],
   "source": [
    "import numpy as np\n",
    "import pandas as pd\n",
    "import scipy, scipy.signal\n",
    "\n",
    "from datetime import date\n",
    "import time\n",
    "\n",
    "from random import seed\n",
    "from random import random\n",
    "import random\n",
    "import os, os.path\n",
    "import shutil\n",
    "\n",
    "from sklearn.model_selection import train_test_split\n",
    "from sklearn.linear_model import LogisticRegression\n",
    "\n",
    "from sklearn.neighbors import KNeighborsClassifier\n",
    "from sklearn.model_selection import GridSearchCV\n",
    "from sklearn.metrics import classification_report\n",
    "\n",
    "import matplotlib\n",
    "import matplotlib.pyplot as plt\n",
    "from pylab import imshow\n",
    "\n",
    "import h5py\n",
    "import sys\n",
    "sys.path.append('/Users/hn/Documents/00_GitHub/Ag/NASA/Python_codes/')\n",
    "import NASA_core as nc\n",
    "# import NASA_plot_core.py as rcp"
   ]
  },
  {
   "cell_type": "code",
   "execution_count": 2,
   "id": "50e8aba1",
   "metadata": {},
   "outputs": [],
   "source": [
    "dta_dir = \"/Users/hn/Documents/01_research_data/RangeLand/\""
   ]
  },
  {
   "cell_type": "code",
   "execution_count": 4,
   "id": "5cbccffb",
   "metadata": {},
   "outputs": [],
   "source": [
    "nd = pd.read_csv(dta_dir+\"qualityMosaicAttempt1_test_scale_30.csv\")"
   ]
  },
  {
   "cell_type": "code",
   "execution_count": 8,
   "id": "00cbb914",
   "metadata": {},
   "outputs": [],
   "source": [
    "nd.dropna(subset=['nd'], inplace=True)\n",
    "nd.reset_index(drop=True, inplace=True)"
   ]
  },
  {
   "cell_type": "code",
   "execution_count": 18,
   "id": "3b0adb75",
   "metadata": {},
   "outputs": [
    {
     "ename": "AttributeError",
     "evalue": "module 'NASA_core' has no attribute 'nd'",
     "output_type": "error",
     "traceback": [
      "\u001b[0;31m---------------------------------------------------------------------------\u001b[0m",
      "\u001b[0;31mAttributeError\u001b[0m                            Traceback (most recent call last)",
      "Input \u001b[0;32mIn [18]\u001b[0m, in \u001b[0;36m<cell line: 1>\u001b[0;34m()\u001b[0m\n\u001b[0;32m----> 1\u001b[0m nd[\u001b[38;5;124m\"\u001b[39m\u001b[38;5;124mID\u001b[39m\u001b[38;5;124m\"\u001b[39m]\u001b[38;5;241m=\u001b[39m\u001b[43mnc\u001b[49m\u001b[38;5;241;43m.\u001b[39;49m\u001b[43mnd\u001b[49m[\u001b[38;5;124m\"\u001b[39m\u001b[38;5;124mlat\u001b[39m\u001b[38;5;124m\"\u001b[39m]\u001b[38;5;241m.\u001b[39mastype(\u001b[38;5;28mstr\u001b[39m)\u001b[38;5;241m+\u001b[39m \u001b[38;5;124m\"\u001b[39m\u001b[38;5;124m_\u001b[39m\u001b[38;5;124m\"\u001b[39m \u001b[38;5;241m+\u001b[39m nd[\u001b[38;5;124m\"\u001b[39m\u001b[38;5;124mlong\u001b[39m\u001b[38;5;124m\"\u001b[39m]\u001b[38;5;241m.\u001b[39mastype(\u001b[38;5;28mstr\u001b[39m)\n",
      "\u001b[0;31mAttributeError\u001b[0m: module 'NASA_core' has no attribute 'nd'"
     ]
    }
   ],
   "source": [
    "nd[\"ID\"]=nd[\"lat\"].astype(str)+ \"_\" + nd[\"long\"].astype(str) "
   ]
  },
  {
   "cell_type": "code",
   "execution_count": 19,
   "id": "2c86cde2",
   "metadata": {},
   "outputs": [
    {
     "ename": "ValueError",
     "evalue": "Invalid value NaN (not a number)",
     "output_type": "error",
     "traceback": [
      "\u001b[0;31m---------------------------------------------------------------------------\u001b[0m",
      "\u001b[0;31mValueError\u001b[0m                                Traceback (most recent call last)",
      "Input \u001b[0;32mIn [19]\u001b[0m, in \u001b[0;36m<cell line: 1>\u001b[0;34m()\u001b[0m\n\u001b[0;32m----> 1\u001b[0m nd \u001b[38;5;241m=\u001b[39m \u001b[43mnc\u001b[49m\u001b[38;5;241;43m.\u001b[39;49m\u001b[43madd_human_start_time_by_system_start_time\u001b[49m\u001b[43m(\u001b[49m\u001b[43mnd\u001b[49m\u001b[43m)\u001b[49m\n",
      "File \u001b[0;32m~/Documents/00_GitHub/Ag/NASA/Python_codes/NASA_core.py:920\u001b[0m, in \u001b[0;36madd_human_start_time_by_system_start_time\u001b[0;34m(HDF)\u001b[0m\n\u001b[1;32m    918\u001b[0m HDF\u001b[38;5;241m.\u001b[39msystem_start_time \u001b[38;5;241m=\u001b[39m HDF\u001b[38;5;241m.\u001b[39msystem_start_time \u001b[38;5;241m/\u001b[39m \u001b[38;5;241m1000\u001b[39m\n\u001b[1;32m    919\u001b[0m time_array \u001b[38;5;241m=\u001b[39m HDF[\u001b[38;5;124m\"\u001b[39m\u001b[38;5;124msystem_start_time\u001b[39m\u001b[38;5;124m\"\u001b[39m]\u001b[38;5;241m.\u001b[39mvalues\u001b[38;5;241m.\u001b[39mcopy()\n\u001b[0;32m--> 920\u001b[0m human_time_array \u001b[38;5;241m=\u001b[39m [time\u001b[38;5;241m.\u001b[39mstrftime(\u001b[38;5;124m'\u001b[39m\u001b[38;5;124m%\u001b[39m\u001b[38;5;124mY-\u001b[39m\u001b[38;5;124m%\u001b[39m\u001b[38;5;124mm-\u001b[39m\u001b[38;5;132;01m%d\u001b[39;00m\u001b[38;5;124m'\u001b[39m, time\u001b[38;5;241m.\u001b[39mlocaltime(x)) \u001b[38;5;28;01mfor\u001b[39;00m x \u001b[38;5;129;01min\u001b[39;00m time_array]\n\u001b[1;32m    921\u001b[0m HDF[\u001b[38;5;124m\"\u001b[39m\u001b[38;5;124mhuman_system_start_time\u001b[39m\u001b[38;5;124m\"\u001b[39m] \u001b[38;5;241m=\u001b[39m human_time_array\n\u001b[1;32m    923\u001b[0m \u001b[38;5;28;01mif\u001b[39;00m \u001b[38;5;28mtype\u001b[39m(HDF[\u001b[38;5;124m\"\u001b[39m\u001b[38;5;124mhuman_system_start_time\u001b[39m\u001b[38;5;124m\"\u001b[39m]\u001b[38;5;241m==\u001b[39m\u001b[38;5;28mstr\u001b[39m):\n",
      "File \u001b[0;32m~/Documents/00_GitHub/Ag/NASA/Python_codes/NASA_core.py:920\u001b[0m, in \u001b[0;36m<listcomp>\u001b[0;34m(.0)\u001b[0m\n\u001b[1;32m    918\u001b[0m HDF\u001b[38;5;241m.\u001b[39msystem_start_time \u001b[38;5;241m=\u001b[39m HDF\u001b[38;5;241m.\u001b[39msystem_start_time \u001b[38;5;241m/\u001b[39m \u001b[38;5;241m1000\u001b[39m\n\u001b[1;32m    919\u001b[0m time_array \u001b[38;5;241m=\u001b[39m HDF[\u001b[38;5;124m\"\u001b[39m\u001b[38;5;124msystem_start_time\u001b[39m\u001b[38;5;124m\"\u001b[39m]\u001b[38;5;241m.\u001b[39mvalues\u001b[38;5;241m.\u001b[39mcopy()\n\u001b[0;32m--> 920\u001b[0m human_time_array \u001b[38;5;241m=\u001b[39m [time\u001b[38;5;241m.\u001b[39mstrftime(\u001b[38;5;124m'\u001b[39m\u001b[38;5;124m%\u001b[39m\u001b[38;5;124mY-\u001b[39m\u001b[38;5;124m%\u001b[39m\u001b[38;5;124mm-\u001b[39m\u001b[38;5;132;01m%d\u001b[39;00m\u001b[38;5;124m'\u001b[39m, \u001b[43mtime\u001b[49m\u001b[38;5;241;43m.\u001b[39;49m\u001b[43mlocaltime\u001b[49m\u001b[43m(\u001b[49m\u001b[43mx\u001b[49m\u001b[43m)\u001b[49m) \u001b[38;5;28;01mfor\u001b[39;00m x \u001b[38;5;129;01min\u001b[39;00m time_array]\n\u001b[1;32m    921\u001b[0m HDF[\u001b[38;5;124m\"\u001b[39m\u001b[38;5;124mhuman_system_start_time\u001b[39m\u001b[38;5;124m\"\u001b[39m] \u001b[38;5;241m=\u001b[39m human_time_array\n\u001b[1;32m    923\u001b[0m \u001b[38;5;28;01mif\u001b[39;00m \u001b[38;5;28mtype\u001b[39m(HDF[\u001b[38;5;124m\"\u001b[39m\u001b[38;5;124mhuman_system_start_time\u001b[39m\u001b[38;5;124m\"\u001b[39m]\u001b[38;5;241m==\u001b[39m\u001b[38;5;28mstr\u001b[39m):\n",
      "\u001b[0;31mValueError\u001b[0m: Invalid value NaN (not a number)"
     ]
    }
   ],
   "source": [
    "nd = nc.add_human_start_time_by_system_start_time(nd)"
   ]
  },
  {
   "cell_type": "code",
   "execution_count": 40,
   "id": "493d7f80",
   "metadata": {},
   "outputs": [
    {
     "data": {
      "text/plain": [
       "(-1.1, 1.1)"
      ]
     },
     "execution_count": 40,
     "metadata": {},
     "output_type": "execute_result"
    },
    {
     "data": {
      "image/png": "[encoded data removed]",
      "text/plain": [
       "<Figure size 1440x288 with 1 Axes>"
      ]
     },
     "metadata": {
      "needs_background": "light"
     },
     "output_type": "display_data"
    }
   ],
   "source": [
    "fig, ax = plt.subplots(1, 1, figsize=(20, 4), sharex=False, sharey='col', # sharex=True, sharey=True,\n",
    "                       gridspec_kw={'hspace': 0.35, 'wspace': .05});\n",
    "ax.grid(True);\n",
    "\n",
    "plt.plot(nd[nd.ID==ID_1].month.values,\n",
    "         nd[nd.ID==ID_1].nd.values,\n",
    "         c='dodgerblue', linewidth=5);\n",
    "\n",
    "ax.set_ylabel(\"Monthly NDVI\")\n",
    "ax.set_ylabel(\"Time\")\n",
    "ax.tick_params(axis='y', which='major') #, labelsize = tick_FontSize)\n",
    "ax.tick_params(axis='x', which='major') #, labelsize = tick_FontSize) # \n",
    "# ax.legend(loc=\"upper right\");\n",
    "\n",
    "# ax.xaxis.set_major_locator(mdates.YearLocator(1))\n",
    "\n",
    "ax_y_m = -1.1\n",
    "ax_y_M=1.1\n",
    "plt.yticks(np.arange(ax_y_m, ax_y_M, 0.4))\n",
    "ax.set_ylim(ax_y_m, ax_y_M)\n"
   ]
  },
  {
   "cell_type": "code",
   "execution_count": null,
   "id": "f59e72fd",
   "metadata": {},
   "outputs": [],
   "source": []
  },
  {
   "cell_type": "code",
   "execution_count": null,
   "id": "ea1f51e5",
   "metadata": {},
   "outputs": [],
   "source": []
  }
 ],
 "metadata": {
  "kernelspec": {
   "display_name": "Python 3 (ipykernel)",
   "language": "python",
   "name": "python3"
  },
  "language_info": {
   "codemirror_mode": {
    "name": "ipython",
    "version": 3
   },
   "file_extension": ".py",
   "mimetype": "text/x-python",
   "name": "python",
   "nbconvert_exporter": "python",
   "pygments_lexer": "ipython3",
   "version": "3.9.12"
  }
 },
 "nbformat": 4,
 "nbformat_minor": 5
}
