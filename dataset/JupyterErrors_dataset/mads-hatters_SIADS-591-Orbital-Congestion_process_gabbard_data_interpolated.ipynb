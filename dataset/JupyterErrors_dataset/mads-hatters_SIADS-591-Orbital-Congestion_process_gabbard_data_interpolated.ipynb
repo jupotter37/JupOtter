{
 "cells": [
  {
   "cell_type": "markdown",
   "metadata": {},
   "source": [
    "# DEPRECATED! GO HERE FOR LATEST WORKING: <a href=\"../../job/space_track/process_gabbard_data_interpolated.ipynb\">job/space_track/process_gabbard_data_interpolated.ipynb</a>\n",
    "\n",
    "#### Please leave this alone though!"
   ]
  },
  {
   "cell_type": "code",
   "execution_count": 1,
   "metadata": {},
   "outputs": [
    {
     "ename": "Exception",
     "evalue": "STOP! THIS IS DEPRECATED!",
     "output_type": "error",
     "traceback": [
      "\u001b[0;31m---------------------------------------------------------------------------\u001b[0m",
      "\u001b[0;31mException\u001b[0m                                 Traceback (most recent call last)",
      "\u001b[0;32m<ipython-input-1-10bd9f2e988c>\u001b[0m in \u001b[0;36m<module>\u001b[0;34m\u001b[0m\n\u001b[0;32m----> 1\u001b[0;31m \u001b[0;32mraise\u001b[0m \u001b[0mException\u001b[0m\u001b[0;34m(\u001b[0m\u001b[0;34m\"STOP! THIS IS DEPRECATED!\"\u001b[0m\u001b[0;34m)\u001b[0m\u001b[0;34m\u001b[0m\u001b[0;34m\u001b[0m\u001b[0m\n\u001b[0m",
      "\u001b[0;31mException\u001b[0m: STOP! THIS IS DEPRECATED!"
     ]
    }
   ],
   "source": [
    "raise Exception(\"STOP! THIS IS DEPRECATED!\")"
   ]
  },
  {
   "cell_type": "code",
   "execution_count": null,
   "metadata": {},
   "outputs": [],
   "source": [
    "import pandas as pd\n",
    "import datetime\n",
    "import numpy as np\n",
    "from tqdm import tqdm\n",
    "from ipywidgets import IntProgress\n",
    "\n",
    "# local file paths\n",
    "input_file_path = f'../../../siads591 data/filtered_raw/gabbard_min.pkl.gz'\n",
    "out_path = f'../../../siads591 data/processed_data/gabbard/'\n",
    "\n",
    "# freq             frequency of datapoints after reindexing\n",
    "# start_date       start date for data to start processing - remember to leave enough gap for interpolation\n",
    "# interpolate_lim  limits of interpolation based on the frequency\n",
    "#                  (1D frequency, 30 limit = 30 days 1 way, effectively a max of 60 days between points)\n",
    "# out_file_name    output file name\n",
    "\n",
    "freq, start_date, interpolate_lim, out_file_name = '36H', None, 20, 'gabbard_36H20.pkl'\n",
    "# freq, start_date, interpolate_lim, out_file_name = '1D', '1979-10-01', 45, 'gabbard_1D_scaled_1980.pkl'\n",
    "# freq, start_date, interpolate_lim, out_file_name = '1D', None, 30, 'gabbard_1D_scaled_il30.pkl'\n",
    "# freq, start_date, interpolate_lim, out_file_name = '12H', '1979-10-01', 90, 'gabbard_scaled_1980.pkl'\n",
    "# freq, start_date, interpolate_lim, out_file_name = '5D', None, 12, 'gabbard_5D_scaled.pkl'"
   ]
  },
  {
   "cell_type": "code",
   "execution_count": null,
   "metadata": {},
   "outputs": [],
   "source": [
    "raw_df = pd.read_pickle(f'{input_file_path}', compression=\"gzip\")"
   ]
  },
  {
   "cell_type": "code",
   "execution_count": null,
   "metadata": {},
   "outputs": [],
   "source": [
    "if start_date != None:\n",
    "    raw_df = raw_df[raw_df.index > start_date]"
   ]
  },
  {
   "cell_type": "code",
   "execution_count": null,
   "metadata": {},
   "outputs": [],
   "source": [
    "display(raw_df.head(4))\n",
    "display(raw_df.info())"
   ]
  },
  {
   "cell_type": "code",
   "execution_count": null,
   "metadata": {},
   "outputs": [],
   "source": [
    "def f(source_df):\n",
    "    # drop duplicated index first\n",
    "    source_df = source_df[~source_df.index.duplicated(keep='first')]\n",
    "    \n",
    "    # Create new dataframe with index based on frequency\n",
    "    new_date_index = pd.date_range(start=source_df.index.ceil(freq=freq).min(), end=source_df.index.max(), freq=freq)\n",
    "    new_df = pd.DataFrame({}, index=new_date_index)\n",
    "    new_df['NORAD_CAT_ID'] = source_df.NORAD_CAT_ID[0]\n",
    "    \n",
    "    # Combine with raw and perform interpolation\n",
    "    reindexed_df = pd.concat([source_df,new_df]).sort_index()\n",
    "    reindexed_df[\"PERIOD_x500\"] = reindexed_df[\"PERIOD_x500\"].astype(np.float32).interpolate(method='time', limit_area=\"inside\", limit=interpolate_lim, limit_direction='both').round(0).astype(pd.UInt16Dtype())\n",
    "    reindexed_df[\"APOAPSIS_x20\"] = reindexed_df[\"APOAPSIS_x20\"].astype(np.float32).interpolate(method='time', limit_area=\"inside\", limit=interpolate_lim, limit_direction='both').round(0).astype(pd.UInt16Dtype())\n",
    "    reindexed_df[\"PERIAPSIS_x20\"] = reindexed_df[\"PERIAPSIS_x20\"].astype(np.float32).interpolate(method='time', limit_area=\"inside\", limit=interpolate_lim, limit_direction='both').round(0).astype(pd.UInt16Dtype())\n",
    "    \n",
    "    # get rid of the source data\n",
    "    reindexed_df = reindexed_df.drop(source_df.index)\n",
    "\n",
    "    return reindexed_df"
   ]
  },
  {
   "cell_type": "code",
   "execution_count": null,
   "metadata": {},
   "outputs": [],
   "source": [
    "tqdm.pandas(desc=\"Interpolate progress\")\n",
    "\n",
    "# create a new dataframe with min/max epoch of each satellite\n",
    "df = raw_df.groupby(by=\"NORAD_CAT_ID\").progress_apply(f)\n",
    "df.index = df.index.droplevel()"
   ]
  },
  {
   "cell_type": "code",
   "execution_count": null,
   "metadata": {},
   "outputs": [],
   "source": [
    "df.dropna(inplace=True)\n",
    "display(df.head(4))\n",
    "display(df.info())"
   ]
  },
  {
   "cell_type": "code",
   "execution_count": null,
   "metadata": {},
   "outputs": [],
   "source": [
    "df.to_pickle(f\"{out_path}{out_file_name}\")"
   ]
  },
  {
   "cell_type": "code",
   "execution_count": null,
   "metadata": {},
   "outputs": [],
   "source": [
    "df.index.value_counts().plot()"
   ]
  }
 ],
 "metadata": {
  "kernelspec": {
   "display_name": "Python 3",
   "language": "python",
   "name": "python3"
  },
  "language_info": {
   "codemirror_mode": {
    "name": "ipython",
    "version": 3
   },
   "file_extension": ".py",
   "mimetype": "text/x-python",
   "name": "python",
   "nbconvert_exporter": "python",
   "pygments_lexer": "ipython3",
   "version": "3.8.5"
  }
 },
 "nbformat": 4,
 "nbformat_minor": 4
}
