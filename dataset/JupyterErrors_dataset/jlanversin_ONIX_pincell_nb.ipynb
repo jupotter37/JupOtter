{
 "cells": [
  {
   "cell_type": "markdown",
   "metadata": {},
   "source": [
    "# Fuel pin-cell simulation\n",
    "\n"
   ]
  },
  {
   "cell_type": "markdown",
   "metadata": {},
   "source": [
    "This notebook shows how ONIX can be used to run a coupled simulation of a simple fuel pin-cell. Since this model uses coupling with OpenMC, it is necessary to have OpenMC installed."
   ]
  },
  {
   "cell_type": "markdown",
   "metadata": {},
   "source": [
    "## OpenMC input part\n",
    "\n",
    "ONIX python input commands should be located just after OpenMC python commands in the same python input file. The OpenMC part of the input file is the same as the one you would use to launch an OpenMC simulation. Users should refer to OpenMC documentation for the corresponding Python API. In this example, however, the OpenMC part of the input file is included to better explain the articulation of ONIX with OpenMC."
   ]
  },
  {
   "cell_type": "code",
   "execution_count": 1,
   "metadata": {
    "scrolled": true
   },
   "outputs": [
    {
     "ename": "ModuleNotFoundError",
     "evalue": "No module named 'openmc'",
     "output_type": "error",
     "traceback": [
      "\u001b[0;31m---------------------------------------------------------------------------\u001b[0m",
      "\u001b[0;31mModuleNotFoundError\u001b[0m                       Traceback (most recent call last)",
      "\u001b[0;32m<ipython-input-1-51377a570dec>\u001b[0m in \u001b[0;36m<module>\u001b[0;34m\u001b[0m\n\u001b[0;32m----> 1\u001b[0;31m \u001b[0;32mimport\u001b[0m \u001b[0mopenmc\u001b[0m\u001b[0;34m\u001b[0m\u001b[0;34m\u001b[0m\u001b[0m\n\u001b[0m\u001b[1;32m      2\u001b[0m \u001b[0;32mimport\u001b[0m \u001b[0monix\u001b[0m\u001b[0;34m\u001b[0m\u001b[0;34m\u001b[0m\u001b[0m\n",
      "\u001b[0;31mModuleNotFoundError\u001b[0m: No module named 'openmc'"
     ]
    }
   ],
   "source": [
    "import openmc\n",
    "import onix"
   ]
  },
  {
   "cell_type": "markdown",
   "metadata": {},
   "source": [
    "This part of the OpenMC input commands create the materials that will fill the OpenMC cells.\n",
    "\n",
    "**Important to note**: since ONIX cannot handle elements but only isotopes, users should only use the command \"add_nuclide\" for materials that are going to be depleted by ONIX. Other materials not depleted by ONIX can use \"add_element\"."
   ]
  },
  {
   "cell_type": "code",
   "execution_count": null,
   "metadata": {},
   "outputs": [],
   "source": [
    "MOX_mat = openmc.Material()\n",
    "MOX_mat.set_density('atom/b-cm', density = 0.06987922652 )\n",
    "MOX_mat.add_nuclide('U234', 2.5952E-7)\n",
    "MOX_mat.add_nuclide('U235', 5.4287E-5)\n",
    "MOX_mat.add_nuclide('U238', 2.1387E-2)\n",
    "MOX_mat.add_nuclide('Pu238', 4.6610E-5)\n",
    "MOX_mat.add_nuclide('Pu239', 1.0156E-3)\n",
    "MOX_mat.add_nuclide('Pu240', 4.8255E-4)\n",
    "MOX_mat.add_nuclide('Pu241', 1.7491E-4)\t\n",
    "MOX_mat.add_nuclide('Pu242', 1.3201E-4)\n",
    "MOX_mat.add_nuclide('O16', 4.6586E-2)\n",
    "\n",
    "clad_mat = openmc.Material()\n",
    "clad_mat.set_density('atom/b-cm', density = 0.038858703999999994 )\n",
    "clad_mat.add_element('Zr',3.8657E-2)\n",
    "clad_mat.add_element('Fe',1.3345E-4)\n",
    "clad_mat.add_element('Cr',6.8254E-5)\n",
    "\n",
    "mod_mat = openmc.Material()\n",
    "mod_mat.set_density('atom/b-cm', density = 0.0726512136)\n",
    "mod_mat.add_element('H',4.8414E-2)\n",
    "mod_mat.add_nuclide('O16',2.4213E-2)\n",
    "mod_mat.add_nuclide('B10', 4.7896E-6)\t\n",
    "mod_mat.add_nuclide('B11', 1.9424E-5)\n",
    "mod_mat.add_s_alpha_beta('c_H_in_H2O')\n",
    "\n",
    "# Instantiate a Materials collection\n",
    "materials_file = openmc.Materials([MOX_mat, clad_mat, mod_mat])\n",
    "materials_file.cross_sections = '/home/julien/cross-sections/mcnp_endfb70/cross_sections.xml'\n",
    "\n",
    "# Export to \"materials.xml\"\n",
    "materials_file.export_to_xml()"
   ]
  },
  {
   "cell_type": "markdown",
   "metadata": {},
   "source": [
    "The following commands define the geometry and the cells.\n",
    "\n",
    "**Important to note**: ONIX requires the user to define a root cell that is named \"root cell\". This root cell will be used to fill the root universe."
   ]
  },
  {
   "cell_type": "code",
   "execution_count": null,
   "metadata": {},
   "outputs": [],
   "source": [
    "# Create cylinders for the fuel and clad\n",
    "fuel_outer_radius = openmc.ZCylinder(x0=0.0, y0=0.0, R=0.410)\n",
    "clad_outer_radius = openmc.ZCylinder(x0=0.0, y0=0.0, R=0.475)\n",
    "\n",
    "# Create boundary planes to surround the geometry\n",
    "min_x = openmc.XPlane(x0=-0.65635, boundary_type='reflective')\n",
    "max_x = openmc.XPlane(x0=+0.65635, boundary_type='reflective')\n",
    "min_y = openmc.YPlane(y0=-0.65635, boundary_type='reflective')\n",
    "max_y = openmc.YPlane(y0=+0.65635, boundary_type='reflective')\n",
    "min_z = openmc.ZPlane(z0=-0.65635, boundary_type='reflective')\n",
    "max_z = openmc.ZPlane(z0=+0.65635, boundary_type='reflective')\n",
    "\n",
    "# Create a Universe to encapsulate the fuel pin\n",
    "pin_cell_universe = openmc.Universe(name='MOX Fuel Pin')\n",
    "\n",
    "# Create fuel Cell\n",
    "MOX_cell = openmc.Cell(name='MOX fuel')\n",
    "MOX_cell.fill = MOX_mat\n",
    "MOX_cell.region = -fuel_outer_radius\n",
    "MOX_cell.temperature = 900\n",
    "pin_cell_universe.add_cell(MOX_cell)\n",
    "\n",
    "# Create a clad Cell\n",
    "clad_cell = openmc.Cell(name='Clad')\n",
    "clad_cell.fill = clad_mat\n",
    "clad_cell.region = +fuel_outer_radius & -clad_outer_radius\n",
    "clad_cell.temperature = 600\n",
    "pin_cell_universe.add_cell(clad_cell)\n",
    "\n",
    "# Create a moderator Cell\n",
    "mod_cell = openmc.Cell(name='Mod')\n",
    "mod_cell.fill = mod_mat\n",
    "mod_cell.region = +clad_outer_radius\n",
    "mod_cell.temperature = 600\n",
    "pin_cell_universe.add_cell(mod_cell)\n",
    "\n",
    "# Create root Cell\n",
    "root_cell = openmc.Cell(name='root cell')\n",
    "root_cell.fill = pin_cell_universe\n",
    "root_cell.region = +min_x & -max_x & +min_y & -max_y & +min_z & -max_z\n",
    "\n",
    "# Create root Universe\n",
    "root_universe = openmc.Universe(universe_id=0, name='root universe')\n",
    "root_universe.add_cell(root_cell)\n",
    "\n",
    "# Create Geometry and set root Universe\n",
    "openmc_geometry = openmc.Geometry(root_universe)\n",
    "\n",
    "# Export to \"geometry.xml\"\n",
    "openmc_geometry.export_to_xml()"
   ]
  },
  {
   "cell_type": "markdown",
   "metadata": {},
   "source": [
    "The following commands are for the simulations settings of OpenMC.\n",
    "\n",
    "There are no particular requirements from ONIX here so users can input these commands as they would for a normal OpenMC simulation."
   ]
  },
  {
   "cell_type": "code",
   "execution_count": null,
   "metadata": {},
   "outputs": [],
   "source": [
    "# OpenMC simulation parameters\n",
    "batches = 100\n",
    "inactive = 10\n",
    "particles = 10000\n",
    "\n",
    "# Instantiate a Settings object\n",
    "settings_file = openmc.Settings()\n",
    "settings_file.batches = batches\n",
    "settings_file.inactive = inactive\n",
    "settings_file.particles = particles\n",
    "\n",
    "# Create an initial uniform spatial source distribution over fissionable zones\n",
    "bounds = [-0.65635, -0.65635, -0.65635, 0.65635, 0.65635, 0.65635]\n",
    "uniform_dist = openmc.stats.Box(bounds[:3], bounds[3:], only_fissionable=True)\n",
    "settings_file.source = openmc.source.Source(space=uniform_dist)\n",
    "\n",
    "#settings_file.temperature = {'method':'interpolation'}\n",
    "\n",
    "# Export to \"settings.xml\"\n",
    "settings_file.export_to_xml()"
   ]
  },
  {
   "cell_type": "markdown",
   "metadata": {},
   "source": [
    "## ONIX input part\n",
    "\n",
    "This section describes the input commands for ONIX."
   ]
  },
  {
   "cell_type": "markdown",
   "metadata": {},
   "source": [
    "### Defning a sequence\n",
    "\n",
    "The first thing to define is the sequence of burnup points or time points that ONIX should follow when iterating between OpenMC simulations and depletion calculations."
   ]
  },
  {
   "cell_type": "markdown",
   "metadata": {},
   "source": [
    "We first define the macrostep vector in burnup units (MWd/kg) or time units (\"s\" for seconds, \"m\" for minutes, \"d\" for days, \"y\" for years). These points defines when OpenMC simulations update the neutron flux and reaction rates.\n",
    "\n",
    "There is no need to define the initial point (which would be 0 in burnup or time units)."
   ]
  },
  {
   "cell_type": "code",
   "execution_count": null,
   "metadata": {},
   "outputs": [],
   "source": [
    "macrostep_vector = [0.1, 0.5, 2.5, 7.5, 15, 30, 60, 90, 120, 150, 180, 210, 240, 270, 300, 330, 360, 390, 420]\n",
    "macrostep_unit = 'd'"
   ]
  },
  {
   "cell_type": "markdown",
   "metadata": {},
   "source": [
    "We then define a vector for power of flux normalization. This vector indicates what is the value or the flux or power density to use for each macrostep. The user choose between flux and power density by defining the unit of the vector, \"flux\" or \"power\".\n",
    "\n",
    "The flux should be in units of $cm^{-2}\\cdot s^{-1}$, the power should be in units of $kW/l$.\n",
    "\n",
    "**Important to note**: the power density is the total power of the system divided by the **total** volume of the system, including non-nuclear elements such as moderator, cladding etc."
   ]
  },
  {
   "cell_type": "code",
   "execution_count": null,
   "metadata": {},
   "outputs": [],
   "source": [
    "norma_vector = [108.93]*len(macrostep_vector)\n",
    "norma_unit = 'power'"
   ]
  },
  {
   "cell_type": "markdown",
   "metadata": {},
   "source": [
    "The last element of the sequence object that we need to define is the number of microsteps within each macrostep. Below, we indicate to ONIX that there should be 3 microsteps that divide each and every macrosteps."
   ]
  },
  {
   "cell_type": "code",
   "execution_count": null,
   "metadata": {},
   "outputs": [],
   "source": [
    "microstep_vector = [3]*len(macrostep_vector)"
   ]
  },
  {
   "cell_type": "markdown",
   "metadata": {},
   "source": [
    "We then instantiate a sequence object and fill it with the vectors we defined above.\n",
    "\n",
    "**Important to note**: since ONIX enables the user to define multiple sequence objects within one input file, the user needs to associate each sequence object with a number id as below."
   ]
  },
  {
   "cell_type": "code",
   "execution_count": null,
   "metadata": {},
   "outputs": [],
   "source": [
    "sequence1 = onix.Sequence(1)\n",
    "sequence1.set_macrostep(macrostep_vector, macrostep_unit)\n",
    "sequence1.set_norma(norma_vector, norma_unit)\n",
    "sequence1.microstep_vector = microstep_vector"
   ]
  },
  {
   "cell_type": "markdown",
   "metadata": {},
   "source": [
    "Finally, we need to define the way ONIX approximate the neutron flux for each microstep. In the current version, the only option is to take the initial value ('iv') of the flux for the microstep."
   ]
  },
  {
   "cell_type": "code",
   "execution_count": null,
   "metadata": {},
   "outputs": [],
   "source": [
    "sequence1.flux_approximation ='iv'"
   ]
  },
  {
   "cell_type": "markdown",
   "metadata": {},
   "source": [
    "### Coupling with OpenMC\n",
    "\n",
    "Once the sequence objects are defined, we can import parameters from OpenMC to construct ONIX depletion systems"
   ]
  },
  {
   "cell_type": "markdown",
   "metadata": {},
   "source": [
    "We first need to instantiate a couple object. This object will operate all communication between OpenMC and ONIX."
   ]
  },
  {
   "cell_type": "code",
   "execution_count": null,
   "metadata": {},
   "outputs": [],
   "source": [
    "couple = onix.couple.Couple_openmc()"
   ]
  },
  {
   "cell_type": "markdown",
   "metadata": {},
   "source": [
    "ONIX will run a dummy OpenMC volume simulation. Because this \"pre run\" simulation calculates volumes, it is necessary to provide a bounding box to ONIX.\n",
    "\n",
    "**Important to note**: ONIX can use the volume provided by this simulation for the burnup regions that the user wants to deplete. However, due to non-negligible errors in the stochastic volume calculation of OpenMC, it is recommended "
   ]
  },
  {
   "cell_type": "code",
   "execution_count": null,
   "metadata": {},
   "outputs": [],
   "source": [
    "couple.set_bounding_box([-0.65635, -0.65635, -0.65635], [0.65635, 0.65635, 0.65635])"
   ]
  },
  {
   "cell_type": "markdown",
   "metadata": {},
   "source": [
    "**[Optional]**: simulations on HPC clusters require to explicitly define the path to the OpenMC executable in the openmc.run() command. The user should indicate the path to OpenMC executable to ONIX with the following command:"
   ]
  },
  {
   "cell_type": "code",
   "execution_count": null,
   "metadata": {},
   "outputs": [],
   "source": [
    "couple.openmc_bin_path = '/home/julien/virtualenvs/py3/bin/openmc'"
   ]
  },
  {
   "cell_type": "markdown",
   "metadata": {},
   "source": [
    "The user can select which OpenMC cells will be depleted by adding the names of the cell objects defined above in the command below. Cells that are selected for depletion are called BUCells in ONIX."
   ]
  },
  {
   "cell_type": "code",
   "execution_count": null,
   "metadata": {},
   "outputs": [],
   "source": [
    "couple.select_bucells([MOX_cell])"
   ]
  },
  {
   "cell_type": "markdown",
   "metadata": {},
   "source": [
    "The following command indicate to ONIX which OpenMC cell is the root cell. ONIX will use this cell to extract information on OpenMC materials and cells."
   ]
  },
  {
   "cell_type": "code",
   "execution_count": null,
   "metadata": {},
   "outputs": [],
   "source": [
    "couple.import_openmc(root_cell)"
   ]
  },
  {
   "cell_type": "markdown",
   "metadata": {},
   "source": [
    "**[Optional]** By default, ONIX will use ENDF/B-VIII.0 libraries for decay and fission yields data. If users want to use other libraries, they can use the following commands:\n",
    "\n",
    "**Important to note**: if users want to complement the fission yield data library they are defining with the data from ENDF/B-VIII.0, they should set the *complete* parameter to True in the set_user_fy_lib command."
   ]
  },
  {
   "cell_type": "code",
   "execution_count": null,
   "metadata": {},
   "outputs": [],
   "source": [
    "couple.set_decay_lib('/home/julien/ONIX/ONIX/onix/data/other_libs/origen2.2/decay_lib')\n",
    "couple.set_user_fy_lib('/home/julien/ONIX/ONIX/onix/data/other_libs/origen2.2/fy_lib', complete=True)"
   ]
  },
  {
   "cell_type": "markdown",
   "metadata": {},
   "source": [
    "As explained above, OpenMC volume calculations are not always reliable, especially for complex geometry. The user can dedice to manually set volumes for each BUCell."
   ]
  },
  {
   "cell_type": "code",
   "execution_count": null,
   "metadata": {},
   "outputs": [],
   "source": [
    "vol_dict = {'MOX fuel': 0.69323, 'total volume':2.26197}\n",
    "couple.set_vol(vol_dict)"
   ]
  },
  {
   "cell_type": "markdown",
   "metadata": {},
   "source": [
    "Now we can indicate to the couple object which sequence it should use for the simulation."
   ]
  },
  {
   "cell_type": "code",
   "execution_count": null,
   "metadata": {},
   "outputs": [],
   "source": [
    "couple.set_sequence(sequence1)"
   ]
  },
  {
   "cell_type": "markdown",
   "metadata": {},
   "source": [
    "We can finally ask ONIX to burn the system and launch the coupled simulation"
   ]
  },
  {
   "cell_type": "code",
   "execution_count": null,
   "metadata": {},
   "outputs": [],
   "source": [
    "couple.burn()"
   ]
  },
  {
   "cell_type": "markdown",
   "metadata": {},
   "source": [
    "Output results are going to be located in two types of folder. Per step folders include densities, power, neutron flux, burnup, one-group cross sections and burnup matrices for each macrostep, separately. The output summary folder contains aggregated output results for the whole simulation and for every macrostep."
   ]
  }
 ],
 "metadata": {
  "anaconda-cloud": {},
  "kernelspec": {
   "display_name": "Python 3",
   "language": "python",
   "name": "python3"
  },
  "language_info": {
   "codemirror_mode": {
    "name": "ipython",
    "version": 3
   },
   "file_extension": ".py",
   "mimetype": "text/x-python",
   "name": "python",
   "nbconvert_exporter": "python",
   "pygments_lexer": "ipython3",
   "version": "3.8.2"
  }
 },
 "nbformat": 4,
 "nbformat_minor": 1
}
