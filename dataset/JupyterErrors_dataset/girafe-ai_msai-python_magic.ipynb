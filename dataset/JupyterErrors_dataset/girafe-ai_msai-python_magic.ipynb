{
  "cells": [
    {
      "cell_type": "code",
      "source": [
        "lst = [1, 2, 3]\n",
        "dct = {1: lst}\n",
        "print(dct)\n",
        "lst.append(42)\n",
        "print(dct)"
      ],
      "metadata": {
        "colab": {
          "base_uri": "https://localhost:8080/"
        },
        "id": "vCRRUEEm2h9J",
        "outputId": "15b26e57-8c75-4d2c-e1f7-e6027359332f"
      },
      "execution_count": null,
      "outputs": [
        {
          "output_type": "stream",
          "name": "stdout",
          "text": [
            "{1: [1, 2, 3]}\n",
            "{1: [1, 2, 3, 42]}\n"
          ]
        }
      ]
    },
    {
      "cell_type": "markdown",
      "metadata": {
        "id": "SsdH1bsip26w"
      },
      "source": [
        "# Special class methods"
      ]
    },
    {
      "cell_type": "code",
      "execution_count": null,
      "metadata": {
        "id": "z6IGbahip26y"
      },
      "outputs": [],
      "source": [
        "import random\n",
        "\n",
        "class Vector:        \n",
        "    def __init__(self, x=0, y=0, color=None):\n",
        "        print(\"initializing a vector\")\n",
        "        if type(x) != int or type(y) != int:\n",
        "            raise AttributeError('x and y should be int')\n",
        "        \n",
        "        self._x = x\n",
        "        self._y = y\n",
        "        self._color = color\n",
        "    \n",
        "    def get_x(self):\n",
        "        return self._x\n",
        "    \n",
        "    def get_y(self):\n",
        "        return self._y"
      ]
    },
    {
      "cell_type": "code",
      "execution_count": null,
      "metadata": {
        "id": "KY_YFrOzp26z",
        "colab": {
          "base_uri": "https://localhost:8080/",
          "height": 55
        },
        "outputId": "4b856e4e-a8aa-497c-bcf5-295623b4635e"
      },
      "outputs": [
        {
          "output_type": "stream",
          "name": "stdout",
          "text": [
            "initializing a vector\n"
          ]
        },
        {
          "output_type": "execute_result",
          "data": {
            "text/plain": [
              "'<__main__.Vector object at 0x7fd13a464fd0>'"
            ],
            "application/vnd.google.colaboratory.intrinsic+json": {
              "type": "string"
            }
          },
          "metadata": {},
          "execution_count": 3
        }
      ],
      "source": [
        "vector = Vector(1, 2, 'red')\n",
        "str(vector)"
      ]
    },
    {
      "cell_type": "code",
      "execution_count": null,
      "metadata": {
        "id": "QhpJzIIEp26z"
      },
      "outputs": [],
      "source": [
        "class VectorWithStr(Vector):\n",
        "    def __str__(self):\n",
        "        return 'vector ({}, {}) of color {}'.format(self._x, self._y, self._color)"
      ]
    },
    {
      "cell_type": "code",
      "execution_count": null,
      "metadata": {
        "id": "9A6a3TOtp260",
        "colab": {
          "base_uri": "https://localhost:8080/",
          "height": 55
        },
        "outputId": "4b5be4b8-5527-40b1-e891-0698eb627bfb"
      },
      "outputs": [
        {
          "output_type": "stream",
          "name": "stdout",
          "text": [
            "initializing a vector\n"
          ]
        },
        {
          "output_type": "execute_result",
          "data": {
            "text/plain": [
              "'vector (1, 2) of color red'"
            ],
            "application/vnd.google.colaboratory.intrinsic+json": {
              "type": "string"
            }
          },
          "metadata": {},
          "execution_count": 5
        }
      ],
      "source": [
        "vector = VectorWithStr(1, 2, 'red')\n",
        "str(vector)"
      ]
    },
    {
      "cell_type": "markdown",
      "metadata": {
        "id": "ZGQZctF7p260"
      },
      "source": [
        "Casting to string and that's all?\n"
      ]
    },
    {
      "cell_type": "code",
      "execution_count": null,
      "metadata": {
        "id": "uU780rI8p260",
        "colab": {
          "base_uri": "https://localhost:8080/"
        },
        "outputId": "6a7f2194-d2a2-42e6-842f-5a4e122f89b3"
      },
      "outputs": [
        {
          "output_type": "stream",
          "name": "stdout",
          "text": [
            "vector (1, 2) of color red\n"
          ]
        }
      ],
      "source": [
        "print(vector)"
      ]
    },
    {
      "cell_type": "code",
      "execution_count": null,
      "metadata": {
        "id": "8QdSImF3p260",
        "colab": {
          "base_uri": "https://localhost:8080/"
        },
        "outputId": "2f81ce1a-4cd2-4396-ab74-372c01898f6b"
      },
      "outputs": [
        {
          "output_type": "stream",
          "name": "stdout",
          "text": [
            "OBJECT: vector (1, 2) of color red\n"
          ]
        }
      ],
      "source": [
        "print(\"OBJECT: {}\".format(vector))"
      ]
    },
    {
      "cell_type": "code",
      "execution_count": null,
      "metadata": {
        "id": "fo5DGVOkp261",
        "colab": {
          "base_uri": "https://localhost:8080/"
        },
        "outputId": "1bbccec7-bf8f-4d9a-c347-a64d5eeec40a"
      },
      "outputs": [
        {
          "output_type": "stream",
          "name": "stdout",
          "text": [
            "[<__main__.VectorWithStr object at 0x7fd13a4766d0>]\n"
          ]
        }
      ],
      "source": [
        "mylist = [vector]\n",
        "print(mylist)"
      ]
    },
    {
      "cell_type": "markdown",
      "metadata": {
        "id": "6PMjG1LNp261"
      },
      "source": [
        "And where are the ugly lines again from?\n"
      ]
    },
    {
      "cell_type": "code",
      "execution_count": null,
      "metadata": {
        "id": "rFreQrHWp261"
      },
      "outputs": [],
      "source": [
        "class VectorWithRepr(Vector):\n",
        "    def __repr__(self):\n",
        "        return 'vector representation (x: {}, y: {}, color: {})'.format(self._x, self._y, self._color)"
      ]
    },
    {
      "cell_type": "code",
      "execution_count": null,
      "metadata": {
        "id": "vhqBM2Dep261",
        "colab": {
          "base_uri": "https://localhost:8080/",
          "height": 269
        },
        "outputId": "bce3cc52-9f47-4167-97a0-f1e63df20333"
      },
      "outputs": [
        {
          "output_type": "stream",
          "name": "stdout",
          "text": [
            "initializing a vector\n",
            "vector representation (x: 1, y: 2, color: red)\n",
            "[vector representation (x: 1, y: 2, color: red)]\n"
          ]
        },
        {
          "output_type": "error",
          "ename": "KeyError",
          "evalue": "ignored",
          "traceback": [
            "\u001b[0;31m---------------------------------------------------------------------------\u001b[0m",
            "\u001b[0;31mKeyError\u001b[0m                                  Traceback (most recent call last)",
            "\u001b[0;32m<ipython-input-10-afd413e6a5fd>\u001b[0m in \u001b[0;36m<module>\u001b[0;34m\u001b[0m\n\u001b[1;32m      5\u001b[0m \u001b[0mprint\u001b[0m\u001b[0;34m(\u001b[0m\u001b[0mmylist\u001b[0m\u001b[0;34m)\u001b[0m\u001b[0;34m\u001b[0m\u001b[0;34m\u001b[0m\u001b[0m\n\u001b[1;32m      6\u001b[0m \u001b[0mmydict\u001b[0m \u001b[0;34m=\u001b[0m \u001b[0;34m{\u001b[0m\u001b[0;34m}\u001b[0m\u001b[0;34m\u001b[0m\u001b[0;34m\u001b[0m\u001b[0m\n\u001b[0;32m----> 7\u001b[0;31m \u001b[0mmydict\u001b[0m\u001b[0;34m[\u001b[0m\u001b[0mvector\u001b[0m\u001b[0;34m]\u001b[0m\u001b[0;34m\u001b[0m\u001b[0;34m\u001b[0m\u001b[0m\n\u001b[0m",
            "\u001b[0;31mKeyError\u001b[0m: vector representation (x: 1, y: 2, color: red)"
          ]
        }
      ],
      "source": [
        "vector = VectorWithRepr(1, 2, 'red')\n",
        "\n",
        "print(vector)\n",
        "mylist = [vector]\n",
        "print(mylist)\n",
        "mydict = {}\n",
        "mydict[vector]"
      ]
    },
    {
      "cell_type": "code",
      "execution_count": null,
      "metadata": {
        "id": "2tpbBLUvp262"
      },
      "outputs": [],
      "source": [
        "class VectorWithBothReprAndStr(VectorWithRepr, VectorWithStr):\n",
        "    pass"
      ]
    },
    {
      "cell_type": "code",
      "execution_count": null,
      "metadata": {
        "id": "4IvaiGItp262",
        "colab": {
          "base_uri": "https://localhost:8080/"
        },
        "outputId": "5a7b841f-a5a6-4a1f-9dde-986c6cd7ca8f"
      },
      "outputs": [
        {
          "output_type": "stream",
          "name": "stdout",
          "text": [
            "initializing a vector\n",
            "vector (1, 2) of color red\n",
            "[vector representation (x: 1, y: 2, color: red)]\n"
          ]
        }
      ],
      "source": [
        "vector = VectorWithBothReprAndStr(1, 2, 'red')\n",
        "# now we should get different outputs\n",
        "print(vector)\n",
        "print([vector])"
      ]
    },
    {
      "cell_type": "markdown",
      "metadata": {
        "id": "nZGHj0PFp262"
      },
      "source": [
        "## Arithmetic"
      ]
    },
    {
      "cell_type": "code",
      "execution_count": null,
      "metadata": {
        "id": "xXVRkzizp262"
      },
      "outputs": [],
      "source": [
        "import math\n",
        "import random\n",
        "\n",
        "class VectorWithMath(VectorWithBothReprAndStr):    \n",
        "    def __abs__(self):\n",
        "        return math.hypot(self._x, self._y)\n",
        "    \n",
        "    def __add__(self, other):\n",
        "        return VectorWithMath(self.get_x() + other.get_x(),\n",
        "                     self.get_y() + other.get_y(),\n",
        "                     random.choice((str(self._color), str(other._color))))\n",
        "    \n",
        "    def __sub__(self, other):\n",
        "        return VectorWithMath(self.get_x() - other.get_x(),\n",
        "                     self.get_y() - other.get_y(),\n",
        "                     random.choice((str(self._color), str(other._color))))"
      ]
    },
    {
      "cell_type": "code",
      "execution_count": null,
      "metadata": {
        "id": "oKhMu6Top262",
        "colab": {
          "base_uri": "https://localhost:8080/"
        },
        "outputId": "8755f744-3751-4e5f-8a42-2a3e7a87e08b"
      },
      "outputs": [
        {
          "output_type": "stream",
          "name": "stdout",
          "text": [
            "initializing a vector\n",
            "initializing a vector\n"
          ]
        }
      ],
      "source": [
        "vector1 = VectorWithMath(3, 4, 'blue')\n",
        "vector2 = VectorWithMath(1, 2, 'red')"
      ]
    },
    {
      "cell_type": "code",
      "execution_count": null,
      "metadata": {
        "id": "knfZXO4Vp263",
        "colab": {
          "base_uri": "https://localhost:8080/"
        },
        "outputId": "c15804b0-eda9-4773-92d1-e09bd1488550"
      },
      "outputs": [
        {
          "output_type": "stream",
          "name": "stdout",
          "text": [
            "5.0\n",
            "initializing a vector\n",
            "vector (4, 6) of color blue\n"
          ]
        }
      ],
      "source": [
        "print(abs(vector1))\n",
        "print(vector1 + vector2)"
      ]
    },
    {
      "cell_type": "markdown",
      "metadata": {
        "id": "50DAahMnp263"
      },
      "source": [
        "## Type conversions"
      ]
    },
    {
      "cell_type": "code",
      "execution_count": null,
      "metadata": {
        "id": "GsgZuq-yp263"
      },
      "outputs": [],
      "source": [
        "import math\n",
        "\n",
        "class VectorWithTypes(VectorWithMath):\n",
        "    def __bool__(self):\n",
        "        return bool(self._x) or bool(self._y)\n",
        "    \n",
        "    def __int__(self):\n",
        "        return int(float(self))\n",
        "    \n",
        "    def __float__(self):\n",
        "        return abs(self)"
      ]
    },
    {
      "cell_type": "code",
      "execution_count": null,
      "metadata": {
        "id": "pLn3noM7p263",
        "colab": {
          "base_uri": "https://localhost:8080/"
        },
        "outputId": "36574a0d-81c5-4647-f3e1-6ce475e9ea98"
      },
      "outputs": [
        {
          "output_type": "stream",
          "name": "stdout",
          "text": [
            "initializing a vector\n",
            "vector (3, 4) of color blue\n",
            "5\n",
            "5.0\n",
            "vector ~ True\n"
          ]
        }
      ],
      "source": [
        "vector = VectorWithTypes(3, 4, 'blue')\n",
        "print(vector)\n",
        "print(int(vector))\n",
        "print(float(vector))\n",
        "if vector:\n",
        "    print(\"vector ~ True\")"
      ]
    },
    {
      "cell_type": "code",
      "execution_count": null,
      "metadata": {
        "id": "X38SJgDFp264",
        "colab": {
          "base_uri": "https://localhost:8080/"
        },
        "outputId": "39c2b7b0-079f-468c-f474-4b17720a4193"
      },
      "outputs": [
        {
          "output_type": "stream",
          "name": "stdout",
          "text": [
            "initializing a vector\n",
            "vector (0, 0) of color None\n",
            "vector ~ False\n"
          ]
        }
      ],
      "source": [
        "vector = VectorWithTypes()\n",
        "print(vector)\n",
        "if not vector:\n",
        "    print(\"vector ~ False\")"
      ]
    },
    {
      "cell_type": "markdown",
      "metadata": {
        "id": "QHLy0sBUp264"
      },
      "source": [
        "## Iterating"
      ]
    },
    {
      "cell_type": "code",
      "source": [
        "class VectorIterable2(VectorWithTypes):\n",
        "    def __init__(self, x, y, n=2):\n",
        "        super().__init__(x, y)\n",
        "        self.i = 0\n",
        "        self.n = n\n",
        "    \n",
        "    def __iter__(self):\n",
        "        return self\n",
        "    \n",
        "    def __next__(self):\n",
        "        if self.i < self.n:\n",
        "            i_ = self.i\n",
        "            self.i += 1\n",
        "            return (self._x, self._y)[i_]\n",
        "        else:\n",
        "            raise StopIteration()"
      ],
      "metadata": {
        "id": "Zux1lSFF9Q-a"
      },
      "execution_count": null,
      "outputs": []
    },
    {
      "cell_type": "code",
      "source": [
        "vector = VectorIterable2(1, 2)\n",
        "for coord in vector:\n",
        "    print(coord)"
      ],
      "metadata": {
        "colab": {
          "base_uri": "https://localhost:8080/"
        },
        "id": "Mg6gZ00--Xj3",
        "outputId": "d8fcbd60-f965-48de-fbeb-c1b72cdad528"
      },
      "execution_count": null,
      "outputs": [
        {
          "output_type": "stream",
          "name": "stdout",
          "text": [
            "initializing a vector\n",
            "1\n",
            "2\n"
          ]
        }
      ]
    },
    {
      "cell_type": "code",
      "execution_count": null,
      "metadata": {
        "id": "bTrs3VgTp264"
      },
      "outputs": [],
      "source": [
        "class VectorIterable(VectorWithTypes):\n",
        "    def __getitem__(self, position):\n",
        "        return (self._x, self._y)[position]\n",
        "    \n",
        "    def __len__(self):\n",
        "        return 2\n",
        "    \n",
        "    def __reversed__(self):\n",
        "        return (self._x, self._y)[::-1]"
      ]
    },
    {
      "cell_type": "code",
      "execution_count": null,
      "metadata": {
        "id": "xyfDONJgp264",
        "colab": {
          "base_uri": "https://localhost:8080/",
          "height": 382
        },
        "outputId": "42de443d-c608-476b-c409-9ef7a80c6061"
      },
      "outputs": [
        {
          "output_type": "stream",
          "name": "stdout",
          "text": [
            "initializing a vector\n",
            "100\n"
          ]
        },
        {
          "output_type": "error",
          "ename": "IndexError",
          "evalue": "ignored",
          "traceback": [
            "\u001b[0;31m---------------------------------------------------------------------------\u001b[0m",
            "\u001b[0;31mIndexError\u001b[0m                                Traceback (most recent call last)",
            "\u001b[0;32m<ipython-input-22-624b3984d471>\u001b[0m in \u001b[0;36m<module>\u001b[0;34m\u001b[0m\n\u001b[1;32m      1\u001b[0m \u001b[0mvector\u001b[0m \u001b[0;34m=\u001b[0m \u001b[0mVectorIterable\u001b[0m\u001b[0;34m(\u001b[0m\u001b[0;36m100\u001b[0m\u001b[0;34m,\u001b[0m \u001b[0;36m500\u001b[0m\u001b[0;34m)\u001b[0m\u001b[0;34m\u001b[0m\u001b[0;34m\u001b[0m\u001b[0m\n\u001b[1;32m      2\u001b[0m \u001b[0mprint\u001b[0m\u001b[0;34m(\u001b[0m\u001b[0mvector\u001b[0m\u001b[0;34m[\u001b[0m\u001b[0;36m0\u001b[0m\u001b[0;34m]\u001b[0m\u001b[0;34m)\u001b[0m\u001b[0;34m\u001b[0m\u001b[0;34m\u001b[0m\u001b[0m\n\u001b[0;32m----> 3\u001b[0;31m \u001b[0mprint\u001b[0m\u001b[0;34m(\u001b[0m\u001b[0mvector\u001b[0m\u001b[0;34m[\u001b[0m\u001b[0;36m3\u001b[0m\u001b[0;34m]\u001b[0m\u001b[0;34m)\u001b[0m\u001b[0;34m\u001b[0m\u001b[0;34m\u001b[0m\u001b[0m\n\u001b[0m",
            "\u001b[0;32m<ipython-input-21-e2ab28d06881>\u001b[0m in \u001b[0;36m__getitem__\u001b[0;34m(self, position)\u001b[0m\n\u001b[1;32m      1\u001b[0m \u001b[0;32mclass\u001b[0m \u001b[0mVectorIterable\u001b[0m\u001b[0;34m(\u001b[0m\u001b[0mVectorWithTypes\u001b[0m\u001b[0;34m)\u001b[0m\u001b[0;34m:\u001b[0m\u001b[0;34m\u001b[0m\u001b[0;34m\u001b[0m\u001b[0m\n\u001b[1;32m      2\u001b[0m     \u001b[0;32mdef\u001b[0m \u001b[0m__getitem__\u001b[0m\u001b[0;34m(\u001b[0m\u001b[0mself\u001b[0m\u001b[0;34m,\u001b[0m \u001b[0mposition\u001b[0m\u001b[0;34m)\u001b[0m\u001b[0;34m:\u001b[0m\u001b[0;34m\u001b[0m\u001b[0;34m\u001b[0m\u001b[0m\n\u001b[0;32m----> 3\u001b[0;31m         \u001b[0;32mreturn\u001b[0m \u001b[0;34m(\u001b[0m\u001b[0mself\u001b[0m\u001b[0;34m.\u001b[0m\u001b[0m_x\u001b[0m\u001b[0;34m,\u001b[0m \u001b[0mself\u001b[0m\u001b[0;34m.\u001b[0m\u001b[0m_y\u001b[0m\u001b[0;34m)\u001b[0m\u001b[0;34m[\u001b[0m\u001b[0mposition\u001b[0m\u001b[0;34m]\u001b[0m\u001b[0;34m\u001b[0m\u001b[0;34m\u001b[0m\u001b[0m\n\u001b[0m\u001b[1;32m      4\u001b[0m \u001b[0;34m\u001b[0m\u001b[0m\n\u001b[1;32m      5\u001b[0m     \u001b[0;32mdef\u001b[0m \u001b[0m__len__\u001b[0m\u001b[0;34m(\u001b[0m\u001b[0mself\u001b[0m\u001b[0;34m)\u001b[0m\u001b[0;34m:\u001b[0m\u001b[0;34m\u001b[0m\u001b[0;34m\u001b[0m\u001b[0m\n",
            "\u001b[0;31mIndexError\u001b[0m: tuple index out of range"
          ]
        }
      ],
      "source": [
        "vector = VectorIterable(100, 500)\n",
        "print(vector[0])\n",
        "print(vector[3])"
      ]
    },
    {
      "cell_type": "code",
      "execution_count": null,
      "metadata": {
        "id": "rXQjVp06p264",
        "colab": {
          "base_uri": "https://localhost:8080/"
        },
        "outputId": "1aa32fbf-f054-44b5-ddf2-99a7a8ac4bff"
      },
      "outputs": [
        {
          "output_type": "stream",
          "name": "stdout",
          "text": [
            "100\n",
            "500\n"
          ]
        }
      ],
      "source": [
        "for coordinate in vector:\n",
        "    print(coordinate)"
      ]
    },
    {
      "cell_type": "code",
      "execution_count": null,
      "metadata": {
        "id": "L6Ck9ZiAp264",
        "colab": {
          "base_uri": "https://localhost:8080/"
        },
        "outputId": "91ab1b95-2dcf-4829-8088-165e748821f9"
      },
      "outputs": [
        {
          "output_type": "stream",
          "name": "stdout",
          "text": [
            "500\n",
            "100\n"
          ]
        }
      ],
      "source": [
        "for coordinate in reversed(vector):\n",
        "    print(coordinate)"
      ]
    },
    {
      "cell_type": "code",
      "execution_count": null,
      "metadata": {
        "id": "tksueA8Qp265"
      },
      "outputs": [],
      "source": [
        "class VectorIterable(VectorWithTypes):\n",
        "    \n",
        "    def __getitem__(self, position):\n",
        "        return (self._y, self._x)[position]\n",
        "    \n",
        "    def __iter__(self):\n",
        "        \n",
        "        #return iter((self._x, self._y))\n",
        "        return self\n",
        "    \n",
        "    def __next__(self):\n",
        "        \n",
        "        if not hasattr(self,'count'):\n",
        "            self.count = 0\n",
        "        \n",
        "        self.count += 1\n",
        "        print(self.count)\n",
        "        if self.count < 3:\n",
        "            return (self._x, self._y)[self.count-1]\n",
        "        else:\n",
        "            raise StopIteration\n",
        "    \n",
        "    def __len__(self):\n",
        "        return 2\n",
        "    \n",
        "    def __reversed__(self):\n",
        "        return (self._x, self._y)[::-1]"
      ]
    },
    {
      "cell_type": "code",
      "execution_count": null,
      "metadata": {
        "id": "vChxj9fTp265",
        "colab": {
          "base_uri": "https://localhost:8080/"
        },
        "outputId": "fc2e1cea-dcd0-4b17-be49-8f7fb9351c69"
      },
      "outputs": [
        {
          "output_type": "stream",
          "name": "stdout",
          "text": [
            "initializing a vector\n",
            "1\n",
            "3\n",
            "2\n",
            "5\n",
            "3\n"
          ]
        }
      ],
      "source": [
        "vect = VectorIterable(3, 5)\n",
        "\n",
        "for c in vect:\n",
        "    print(c)"
      ]
    },
    {
      "cell_type": "markdown",
      "metadata": {
        "id": "RGsElr97p265"
      },
      "source": [
        "## Dynamic work with attributes"
      ]
    },
    {
      "cell_type": "code",
      "execution_count": null,
      "metadata": {
        "id": "HgeTOKhtp265"
      },
      "outputs": [],
      "source": [
        "class VectorWithAllAttributes(VectorIterable):\n",
        "    def __getattr__(self, attr_name):\n",
        "        return \"value of {}\".format(attr_name)\n",
        "    \n",
        "    def __setattr__(self, attr_name, attr_value):\n",
        "        if attr_name not in ('_x', '_y', '_color'):\n",
        "            raise Exception('you shall not add new attributes here, young padawan!')\n",
        "        else:\n",
        "            super().__setattr__(attr_name, attr_value)\n",
        "            \n",
        "    def __delattr__(self, attr_name):\n",
        "        print('Heh, you can delete nothing')"
      ]
    },
    {
      "cell_type": "code",
      "execution_count": null,
      "metadata": {
        "id": "sfdbcARFp265",
        "colab": {
          "base_uri": "https://localhost:8080/"
        },
        "outputId": "6a5fcbcc-05f2-4184-f6d9-19c850b0e8a8"
      },
      "outputs": [
        {
          "output_type": "stream",
          "name": "stdout",
          "text": [
            "initializing a vector\n",
            "['__abs__', '__add__', '__bool__', '__class__', '__delattr__', '__dict__', '__dir__', '__doc__', '__eq__', '__float__', '__format__', '__ge__', '__getattr__', '__getattribute__', '__getitem__', '__gt__', '__hash__', '__init__', '__init_subclass__', '__int__', '__iter__', '__le__', '__len__', '__lt__', '__module__', '__ne__', '__new__', '__next__', '__reduce__', '__reduce_ex__', '__repr__', '__reversed__', '__setattr__', '__sizeof__', '__str__', '__sub__', '__subclasshook__', '__weakref__', '_color', '_x', '_y', 'get_x', 'get_y']\n"
          ]
        }
      ],
      "source": [
        "vector = VectorWithAllAttributes(1, 2, 'violet')\n",
        "print(dir(vector))"
      ]
    },
    {
      "cell_type": "code",
      "execution_count": null,
      "metadata": {
        "id": "gSjeBEGPp265",
        "colab": {
          "base_uri": "https://localhost:8080/"
        },
        "outputId": "0f5e0e2f-aa1d-47cf-9aa9-840c1451fa66"
      },
      "outputs": [
        {
          "output_type": "stream",
          "name": "stdout",
          "text": [
            "value of some_attribute\n",
            "violet\n",
            "1\n"
          ]
        }
      ],
      "source": [
        "print(vector.some_attribute)\n",
        "print(vector._color)\n",
        "print(vector.get_x())"
      ]
    },
    {
      "cell_type": "code",
      "execution_count": null,
      "metadata": {
        "id": "txmvdN6wp265",
        "colab": {
          "base_uri": "https://localhost:8080/",
          "height": 307
        },
        "outputId": "6e6713f3-04cc-42da-effb-f92ee57b9d42"
      },
      "outputs": [
        {
          "output_type": "error",
          "ename": "Exception",
          "evalue": "ignored",
          "traceback": [
            "\u001b[0;31m---------------------------------------------------------------------------\u001b[0m",
            "\u001b[0;31mException\u001b[0m                                 Traceback (most recent call last)",
            "\u001b[0;32m<ipython-input-30-8f1d7f8427cb>\u001b[0m in \u001b[0;36m<module>\u001b[0;34m\u001b[0m\n\u001b[0;32m----> 1\u001b[0;31m \u001b[0mvector\u001b[0m\u001b[0;34m.\u001b[0m\u001b[0mnew_attribute\u001b[0m \u001b[0;34m=\u001b[0m \u001b[0;34m\"value\"\u001b[0m\u001b[0;34m\u001b[0m\u001b[0;34m\u001b[0m\u001b[0m\n\u001b[0m",
            "\u001b[0;32m<ipython-input-27-41ddb907f5b2>\u001b[0m in \u001b[0;36m__setattr__\u001b[0;34m(self, attr_name, attr_value)\u001b[0m\n\u001b[1;32m      5\u001b[0m     \u001b[0;32mdef\u001b[0m \u001b[0m__setattr__\u001b[0m\u001b[0;34m(\u001b[0m\u001b[0mself\u001b[0m\u001b[0;34m,\u001b[0m \u001b[0mattr_name\u001b[0m\u001b[0;34m,\u001b[0m \u001b[0mattr_value\u001b[0m\u001b[0;34m)\u001b[0m\u001b[0;34m:\u001b[0m\u001b[0;34m\u001b[0m\u001b[0;34m\u001b[0m\u001b[0m\n\u001b[1;32m      6\u001b[0m         \u001b[0;32mif\u001b[0m \u001b[0mattr_name\u001b[0m \u001b[0;32mnot\u001b[0m \u001b[0;32min\u001b[0m \u001b[0;34m(\u001b[0m\u001b[0;34m'_x'\u001b[0m\u001b[0;34m,\u001b[0m \u001b[0;34m'_y'\u001b[0m\u001b[0;34m,\u001b[0m \u001b[0;34m'_color'\u001b[0m\u001b[0;34m)\u001b[0m\u001b[0;34m:\u001b[0m\u001b[0;34m\u001b[0m\u001b[0;34m\u001b[0m\u001b[0m\n\u001b[0;32m----> 7\u001b[0;31m             \u001b[0;32mraise\u001b[0m \u001b[0mException\u001b[0m\u001b[0;34m(\u001b[0m\u001b[0;34m'you shall not add new attributes here, young padawan!'\u001b[0m\u001b[0;34m)\u001b[0m\u001b[0;34m\u001b[0m\u001b[0;34m\u001b[0m\u001b[0m\n\u001b[0m\u001b[1;32m      8\u001b[0m         \u001b[0;32melse\u001b[0m\u001b[0;34m:\u001b[0m\u001b[0;34m\u001b[0m\u001b[0;34m\u001b[0m\u001b[0m\n\u001b[1;32m      9\u001b[0m             \u001b[0msuper\u001b[0m\u001b[0;34m(\u001b[0m\u001b[0;34m)\u001b[0m\u001b[0;34m.\u001b[0m\u001b[0m__setattr__\u001b[0m\u001b[0;34m(\u001b[0m\u001b[0mattr_name\u001b[0m\u001b[0;34m,\u001b[0m \u001b[0mattr_value\u001b[0m\u001b[0;34m)\u001b[0m\u001b[0;34m\u001b[0m\u001b[0;34m\u001b[0m\u001b[0m\n",
            "\u001b[0;31mException\u001b[0m: you shall not add new attributes here, young padawan!"
          ]
        }
      ],
      "source": [
        "vector.new_attribute = \"value\""
      ]
    },
    {
      "cell_type": "code",
      "execution_count": null,
      "metadata": {
        "id": "jlOuRqjDp266"
      },
      "outputs": [],
      "source": [
        "del vector._color\n",
        "delattr(vector, '_color')\n",
        "print(vector._color)"
      ]
    },
    {
      "cell_type": "markdown",
      "metadata": {
        "id": "Rt2iuCg0p266"
      },
      "source": [
        "### ```__getattr__ vs. __getattribute__```"
      ]
    },
    {
      "cell_type": "code",
      "execution_count": null,
      "metadata": {
        "id": "Q-opXR11p266"
      },
      "outputs": [],
      "source": [
        "class GetAttr:\n",
        "    attr1 = 1\n",
        "    def __init__(self):\n",
        "        self.attr2 = 2\n",
        "    def __getattr__(self, attr):   # for non-existing attrs only\n",
        "        print('get: ' + attr)      # Not for attr1: it's inherited from the class\n",
        "        return 3                   # Not for attr2: it exists for the object\n",
        "    \n",
        "\n",
        "class GetAttribute:\n",
        "    attr1 = 1\n",
        "    def __init__(self):\n",
        "        self.attr2 = 2\n",
        "    def __getattribute__(self, attr):  # Is called by all assigning operations\n",
        "        print('get: ' + attr)          # Use superclass in order to not get stuck in an infinite cycle\n",
        "        if attr == 'attr3':\n",
        "            return 3\n",
        "        else:\n",
        "            return super().__getattribute__(attr)"
      ]
    },
    {
      "cell_type": "code",
      "execution_count": null,
      "metadata": {
        "id": "TGnR5io4p266",
        "colab": {
          "base_uri": "https://localhost:8080/"
        },
        "outputId": "36aa9599-508e-4de6-dc07-9c11d6e3b14e"
      },
      "outputs": [
        {
          "output_type": "stream",
          "name": "stdout",
          "text": [
            "1\n",
            "2\n",
            "get: attr3\n",
            "3\n",
            "----------------------------------------\n",
            "get: attr1\n",
            "1\n",
            "get: attr2\n",
            "2\n",
            "get: attr3\n",
            "3\n"
          ]
        }
      ],
      "source": [
        "X = GetAttr()\n",
        "print(X.attr1)\n",
        "print(X.attr2)\n",
        "print(X.attr3)\n",
        "print('-' * 40)        \n",
        "X = GetAttribute()\n",
        "print(X.attr1)\n",
        "print(X.attr2)\n",
        "print(X.attr3)"
      ]
    },
    {
      "cell_type": "markdown",
      "metadata": {
        "id": "AuexQxl1p266"
      },
      "source": [
        "## Contexts"
      ]
    },
    {
      "cell_type": "code",
      "execution_count": null,
      "metadata": {
        "id": "l7PTZQVOp266"
      },
      "outputs": [],
      "source": [
        "class VectorWithContextManager(VectorWithAllAttributes):\n",
        "    def __enter__(self):\n",
        "        print('entering context')\n",
        "    def __exit__(self, *args):\n",
        "        print(args)\n",
        "        print(dir(args[2]),args[2].tb_lineno)\n",
        "        print('leaving context')\n",
        "        #return False # -- throwing error \n",
        "        return True  # -- not throwing error"
      ]
    },
    {
      "cell_type": "code",
      "execution_count": null,
      "metadata": {
        "id": "CzG42Zj4p266",
        "colab": {
          "base_uri": "https://localhost:8080/"
        },
        "outputId": "dde17c6b-aa1d-4d9d-c610-6f13adb1f6c0"
      },
      "outputs": [
        {
          "output_type": "stream",
          "name": "stdout",
          "text": [
            "initializing a vector\n",
            "entering context\n",
            "0\n",
            "1\n",
            "2\n",
            "(<class 'Exception'>, Exception('something happened inside!'), <traceback object at 0x7fd13a3a5d20>)\n",
            "['tb_frame', 'tb_lasti', 'tb_lineno', 'tb_next'] 5\n",
            "leaving context\n",
            "we are out of the context\n"
          ]
        }
      ],
      "source": [
        "try:\n",
        "    with VectorWithContextManager() as vec:\n",
        "        for i in range(3):\n",
        "            print(i)\n",
        "        raise Exception('something happened inside!')\n",
        "except Exception:\n",
        "    print('an exception was raised...')\n",
        "    pass\n",
        "print('we are out of the context')"
      ]
    },
    {
      "cell_type": "markdown",
      "metadata": {
        "id": "EApKRnvap266"
      },
      "source": [
        "But we can do better!"
      ]
    },
    {
      "cell_type": "code",
      "execution_count": null,
      "metadata": {
        "id": "j-6S392ap266",
        "colab": {
          "base_uri": "https://localhost:8080/"
        },
        "outputId": "5035c39b-3d00-47ac-d44e-87136cbb1040"
      },
      "outputs": [
        {
          "output_type": "stream",
          "name": "stdout",
          "text": [
            "statement before context\n",
            "handling entering the context\n",
            "initializing a vector\n",
            "<__main__.Vector object at 0x7fd13a3a6b10>\n",
            "<__main__.Vector object at 0x7fd13a3a6b10>\n",
            "<__main__.Vector object at 0x7fd13a3a6b10>\n",
            "handling leaving the context\n",
            "statement after context\n"
          ]
        }
      ],
      "source": [
        "from contextlib import contextmanager\n",
        "\n",
        "@contextmanager\n",
        "def vector_mgr():\n",
        "    print('handling entering the context')\n",
        "    yield Vector()\n",
        "    print('handling leaving the context')\n",
        "          \n",
        "print('statement before context')\n",
        "with vector_mgr() as vector:\n",
        "    for i in range(3):\n",
        "        print(vector)\n",
        "print('statement after context')"
      ]
    },
    {
      "cell_type": "code",
      "execution_count": null,
      "metadata": {
        "id": "rfAxN_3Qp267",
        "colab": {
          "base_uri": "https://localhost:8080/"
        },
        "outputId": "2ac1c1e0-6189-44ea-8bf3-1105a76b2e02"
      },
      "outputs": [
        {
          "output_type": "stream",
          "name": "stdout",
          "text": [
            "statement before context\n",
            "handling entering the context\n",
            "initializing a vector\n",
            "<__main__.Vector object at 0x7fd13a40b250>\n",
            "handling leaving the context\n",
            "statement after context\n"
          ]
        }
      ],
      "source": [
        "# And now with error handling:\n",
        "\n",
        "@contextmanager\n",
        "def vector_mgr():\n",
        "    try:\n",
        "        print('handling entering the context')\n",
        "        yield Vector()\n",
        "    except ZeroDivisionError as e:\n",
        "        pass\n",
        "    finally:\n",
        "        print('handling leaving the context')\n",
        "          \n",
        "print('statement before context')\n",
        "with vector_mgr() as vector:\n",
        "    for i in range(3):\n",
        "        print(vector)\n",
        "        infin = 1 / 0\n",
        "print('statement after context')"
      ]
    },
    {
      "cell_type": "markdown",
      "metadata": {
        "id": "W1bqUUuDp267"
      },
      "source": [
        "## Creating and deleting objects"
      ]
    },
    {
      "cell_type": "code",
      "execution_count": null,
      "metadata": {
        "id": "idQYgutIp267"
      },
      "outputs": [],
      "source": [
        "class VectorInitialized(VectorWithContextManager):\n",
        "    def __new__(cls, *args, **kwargs):\n",
        "        print('invoking __new__ method')\n",
        "        print(cls, args, kwargs)\n",
        "        print(object)\n",
        "        return object.__new__(cls)\n",
        "    \n",
        "    def __del__(self):\n",
        "        print('deleting an object')\n",
        "        raise Exception(\"exception while destructing\")"
      ]
    },
    {
      "cell_type": "code",
      "source": [
        "print(In[2])"
      ],
      "metadata": {
        "colab": {
          "base_uri": "https://localhost:8080/"
        },
        "id": "SCEHnCIMDd6G",
        "outputId": "716c758d-3e7f-4099-c614-44a4f56816ba"
      },
      "execution_count": null,
      "outputs": [
        {
          "output_type": "stream",
          "name": "stdout",
          "text": [
            "import random\n",
            "\n",
            "class Vector:        \n",
            "    def __init__(self, x=0, y=0, color=None):\n",
            "        print(\"initializing a vector\")\n",
            "        if type(x) != int or type(y) != int:\n",
            "            raise AttributeError('x and y should be int')\n",
            "        \n",
            "        self._x = x\n",
            "        self._y = y\n",
            "        self._color = color\n",
            "    \n",
            "    def get_x(self):\n",
            "        return self._x\n",
            "    \n",
            "    def get_y(self):\n",
            "        return self._y\n"
          ]
        }
      ]
    },
    {
      "cell_type": "code",
      "execution_count": null,
      "metadata": {
        "id": "1PVFho3rp267",
        "colab": {
          "base_uri": "https://localhost:8080/"
        },
        "outputId": "f3c49f96-0969-401d-e755-506bd2dc5aad"
      },
      "outputs": [
        {
          "output_type": "stream",
          "name": "stdout",
          "text": [
            "invoking __new__ method\n",
            "<class '__main__.VectorInitialized'> (1, 2) {'color': 'navy blue'}\n",
            "<class 'object'>\n",
            "initializing a vector\n",
            "vector (1, 2) of color navy blue\n"
          ]
        }
      ],
      "source": [
        "vector = VectorInitialized(1, 2, color='navy blue')\n",
        "print(vector)"
      ]
    },
    {
      "cell_type": "code",
      "source": [
        "vector1 = VectorInitialized(1, 2, color='navy blue')\n",
        "vector2 = VectorInitialized(3, 4, color='navy blue')"
      ],
      "metadata": {
        "colab": {
          "base_uri": "https://localhost:8080/"
        },
        "id": "Sq3TZ_erDKSp",
        "outputId": "aff6b882-0075-43ad-c472-dfedbe7dd074"
      },
      "execution_count": null,
      "outputs": [
        {
          "output_type": "stream",
          "name": "stdout",
          "text": [
            "invoking __new__ method\n",
            "<class '__main__.VectorInitialized'> (1, 2) {'color': 'navy blue'}\n",
            "<class 'object'>\n",
            "initializing a vector\n",
            "invoking __new__ method\n",
            "<class '__main__.VectorInitialized'> (3, 4) {'color': 'navy blue'}\n",
            "<class 'object'>\n",
            "initializing a vector\n"
          ]
        }
      ]
    },
    {
      "cell_type": "code",
      "execution_count": null,
      "metadata": {
        "id": "0MfRJQGtp267",
        "colab": {
          "base_uri": "https://localhost:8080/"
        },
        "outputId": "1456c6bd-fcb3-4acd-d71e-e7ec01315521"
      },
      "outputs": [
        {
          "output_type": "stream",
          "name": "stderr",
          "text": [
            "Exception ignored in: <function VectorInitialized.__del__ at 0x7fd13998a9e0>\n",
            "Traceback (most recent call last):\n",
            "  File \"<ipython-input-47-0767888d90a6>\", line 10, in __del__\n",
            "Exception: exception while destructing\n"
          ]
        },
        {
          "output_type": "stream",
          "name": "stdout",
          "text": [
            "deleting an object\n"
          ]
        }
      ],
      "source": [
        "del vector"
      ]
    },
    {
      "cell_type": "markdown",
      "metadata": {
        "id": "5zY5mVuXp267"
      },
      "source": [
        "### Task! \n",
        "\n",
        "How to use the `__new__` method in order to create a singleton class? i.e. the class allowing to create the only object and returning the same object when you try to create another one."
      ]
    },
    {
      "cell_type": "code",
      "execution_count": null,
      "metadata": {
        "id": "47sis_WLp267"
      },
      "outputs": [],
      "source": [
        "class SingletonClass:\n",
        "    \n",
        "    #...your code here...\n",
        "    \n",
        "    def __new__(cls, *args, **kwargs):\n",
        "        \n",
        "        #...your code here...\n",
        "        return object.__new__(cls)\n",
        "\n",
        "obj1 = SingletonClass()\n",
        "obj2 = SingletonClass()\n",
        "assert obj1 is obj2"
      ]
    },
    {
      "cell_type": "code",
      "execution_count": null,
      "metadata": {
        "id": "u5ynA2zpp268",
        "colab": {
          "base_uri": "https://localhost:8080/",
          "height": 344
        },
        "outputId": "b1c8fb2a-b534-4683-eebe-1e946c3c9d22"
      },
      "outputs": [
        {
          "output_type": "error",
          "ename": "ModuleNotFoundError",
          "evalue": "ignored",
          "traceback": [
            "\u001b[0;31m---------------------------------------------------------------------------\u001b[0m",
            "\u001b[0;31mModuleNotFoundError\u001b[0m                       Traceback (most recent call last)",
            "\u001b[0;32m<ipython-input-57-d97bc064ca9a>\u001b[0m in \u001b[0;36m<module>\u001b[0;34m\u001b[0m\n\u001b[0;32m----> 1\u001b[0;31m \u001b[0;32mfrom\u001b[0m \u001b[0m_typeshed\u001b[0m \u001b[0;32mimport\u001b[0m \u001b[0mNoneType\u001b[0m\u001b[0;34m\u001b[0m\u001b[0;34m\u001b[0m\u001b[0m\n\u001b[0m\u001b[1;32m      2\u001b[0m \u001b[0mNoneType\u001b[0m\u001b[0;34m\u001b[0m\u001b[0;34m\u001b[0m\u001b[0m\n",
            "\u001b[0;31mModuleNotFoundError\u001b[0m: No module named '_typeshed'",
            "",
            "\u001b[0;31m---------------------------------------------------------------------------\u001b[0;32m\nNOTE: If your import is failing due to a missing package, you can\nmanually install dependencies using either !pip or !apt.\n\nTo view examples of installing some common dependencies, click the\n\"Open Examples\" button below.\n\u001b[0;31m---------------------------------------------------------------------------\u001b[0m\n"
          ],
          "errorDetails": {
            "actions": [
              {
                "action": "open_url",
                "actionText": "Open Examples",
                "url": "/notebooks/snippets/importing_libraries.ipynb"
              }
            ]
          }
        }
      ],
      "source": [
        "from _typeshed import NoneType\n",
        "NoneType"
      ]
    },
    {
      "cell_type": "code",
      "source": [
        "for x in range(-6, 258):\n",
        "    a, b = int(str(x)), int(str(x))\n",
        "    if a is not b:\n",
        "        print(x)"
      ],
      "metadata": {
        "colab": {
          "base_uri": "https://localhost:8080/"
        },
        "id": "7E-U2v2tESnb",
        "outputId": "89d53ce8-3c74-4aee-aa84-1b02427cf2a1"
      },
      "execution_count": null,
      "outputs": [
        {
          "output_type": "stream",
          "name": "stdout",
          "text": [
            "-6\n",
            "257\n"
          ]
        }
      ]
    },
    {
      "cell_type": "code",
      "source": [
        "ecl = ...\n",
        "print(type(ecl))\n",
        "ecl"
      ],
      "metadata": {
        "colab": {
          "base_uri": "https://localhost:8080/"
        },
        "id": "A0DyN-GIE9e0",
        "outputId": "e5680bee-9a76-4731-a23b-a5b73c9c74e7"
      },
      "execution_count": null,
      "outputs": [
        {
          "output_type": "stream",
          "name": "stdout",
          "text": [
            "<class 'ellipsis'>\n"
          ]
        },
        {
          "output_type": "execute_result",
          "data": {
            "text/plain": [
              "Ellipsis"
            ]
          },
          "metadata": {},
          "execution_count": 59
        }
      ]
    },
    {
      "cell_type": "code",
      "source": [
        "lst = [lst, lst]"
      ],
      "metadata": {
        "id": "dXE_AgPVFPsd"
      },
      "execution_count": null,
      "outputs": []
    },
    {
      "cell_type": "code",
      "source": [
        "lst.append(lst)"
      ],
      "metadata": {
        "id": "rSLGKYgtFY2I"
      },
      "execution_count": null,
      "outputs": []
    },
    {
      "cell_type": "code",
      "source": [
        "lst"
      ],
      "metadata": {
        "colab": {
          "base_uri": "https://localhost:8080/"
        },
        "id": "vOEqkLjQFZdy",
        "outputId": "a9d8fde4-755b-4763-ee53-8b80a51f07d6"
      },
      "execution_count": null,
      "outputs": [
        {
          "output_type": "execute_result",
          "data": {
            "text/plain": [
              "[[[1, 2, 3, 42]], [[1, 2, 3, 42]], [...]]"
            ]
          },
          "metadata": {},
          "execution_count": 66
        }
      ]
    },
    {
      "cell_type": "code",
      "source": [],
      "metadata": {
        "id": "gU0M-DnDFkWT"
      },
      "execution_count": null,
      "outputs": []
    }
  ],
  "metadata": {
    "celltoolbar": "Slideshow",
    "kernelspec": {
      "display_name": "Python 3",
      "language": "python",
      "name": "python3"
    },
    "language_info": {
      "codemirror_mode": {
        "name": "ipython",
        "version": 3
      },
      "file_extension": ".py",
      "mimetype": "text/x-python",
      "name": "python",
      "nbconvert_exporter": "python",
      "pygments_lexer": "ipython3",
      "version": "3.8.5"
    },
    "colab": {
      "provenance": []
    }
  },
  "nbformat": 4,
  "nbformat_minor": 0
}