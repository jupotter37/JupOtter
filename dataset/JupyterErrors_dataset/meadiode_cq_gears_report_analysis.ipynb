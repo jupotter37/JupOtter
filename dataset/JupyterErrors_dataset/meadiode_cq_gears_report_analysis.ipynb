{
 "cells": [
  {
   "cell_type": "code",
   "execution_count": 1,
   "id": "f93527ce-fec3-4b8b-b801-f7ba42b6be96",
   "metadata": {},
   "outputs": [
    {
     "name": "stdout",
     "output_type": "stream",
     "text": [
      "Overwriting auto display for cadquery Workplane and Shape\n"
     ]
    }
   ],
   "source": [
    "import cadquery as cq\n",
    "from jupyter_cadquery.cadquery import show\n",
    "from jupyter_cadquery import set_defaults, set_sidecar\n",
    "\n",
    "set_defaults(display='sidecar', axes=False, axes0=True, grid=True,\n",
    "             default_color='lightgrey', tools=True, ortho=True)\n",
    "\n",
    "from cq_gears import (SpurGear, RingGear, HerringboneGear,\n",
    "                      HerringboneRingGear, SpurGear, BevelGear, BevelGearPair,\n",
    "                      PlanetaryGearset, HerringbonePlanetaryGearset)\n",
    "\n",
    "set_sidecar('Gears')\n",
    "\n",
    "import numpy as np\n",
    "import matplotlib.pyplot as plt\n",
    "import json\n",
    "from datetime import datetime\n",
    "from collections import Counter, defaultdict\n",
    "import os\n",
    "\n",
    "from report import Report\n",
    "\n",
    "%matplotlib widget"
   ]
  },
  {
   "cell_type": "code",
   "execution_count": 2,
   "id": "a86b48b8-7dee-46c0-8f55-e75448ab2f0d",
   "metadata": {},
   "outputs": [],
   "source": [
    "rep = Report.gather_reports('./reports')[0]"
   ]
  },
  {
   "cell_type": "code",
   "execution_count": 3,
   "id": "01ec7b21-bee9-427e-a7ac-1515472ee3f3",
   "metadata": {},
   "outputs": [
    {
     "data": {
      "application/vnd.jupyter.widget-view+json": {
       "model_id": "b38e97ed95c9405f9f0d960a06c6dd20",
       "version_major": 2,
       "version_minor": 0
      },
      "text/plain": [
       "Canvas(toolbar=Toolbar(toolitems=[('Home', 'Reset original view', 'home', 'home'), ('Back', 'Back to previous …"
      ]
     },
     "metadata": {},
     "output_type": "display_data"
    }
   ],
   "source": [
    "fig, ax = plt.subplots()\n",
    "\n",
    "startangle = (n_negatives / (n_negatives + n_positives)) * 180.0\n",
    "fcolors = ['#%x44' % (14 - c * 2) for c in range(len(fails))]\n",
    "flabels = ['',] + list(fails.keys())\n",
    "\n",
    "ax.pie([n_positives,] + list(fails.values()),\n",
    "       radius=1.4,\n",
    "       colors=['white',] + fcolors,\n",
    "       wedgeprops={'width' : 0.6, 'edgecolor' : 'w'},\n",
    "       startangle=startangle,\n",
    "       labels=flabels)\n",
    "\n",
    "ax.pie((n_positives, n_negatives), radius=0.8, colors=('green', 'red'),\n",
    "       wedgeprops={'edgecolor' : 'w'},\n",
    "       labels=('passed', 'failed'),\n",
    "       explode=(0.0, 0.0),\n",
    "       startangle=startangle,\n",
    "       labeldistance=0.4)\n",
    "\n",
    "handles, labels = ax.get_legend_handles_labels()\n",
    "handles = handles[-2:] + handles[:-2]\n",
    "labels = labels[-2:] + labels[:-2]\n",
    "\n",
    "\n",
    "ax.set(aspect=\"equal\", title='Test results')\n",
    "ax.legend(handles, labels, loc=(-0.3, 0.0))\n",
    "\n",
    "plt.show()"
   ]
  },
  {
   "cell_type": "code",
   "execution_count": 10,
   "id": "ff5cf6f1-244a-4b1f-bb4b-2ef4e2efd65f",
   "metadata": {},
   "outputs": [
    {
     "name": "stdout",
     "output_type": "stream",
     "text": [
      "{'module': 3.905409871350235, 'teeth_number': 92, 'cone_angle': 20.03324219673066, 'face_width': 508.65385509902353, 'pressure_angle': 14.662362218239014, 'helix_angle': 67.20177029229427, 'trim_top': False, 'trim_bottom': False}\n"
     ]
    },
    {
     "ename": "AssertionError",
     "evalue": "Twist angle is NaN",
     "output_type": "error",
     "traceback": [
      "\u001b[0;31m---------------------------------------------------------------------------\u001b[0m",
      "\u001b[0;31mAssertionError\u001b[0m                            Traceback (most recent call last)",
      "\u001b[0;32m/tmp/ipykernel_2473086/246320343.py\u001b[0m in \u001b[0;36m<module>\u001b[0;34m\u001b[0m\n\u001b[1;32m     11\u001b[0m \u001b[0;31m# params['helix_angle'] = 36.0\u001b[0m\u001b[0;34m\u001b[0m\u001b[0;34m\u001b[0m\u001b[0m\n\u001b[1;32m     12\u001b[0m \u001b[0;34m\u001b[0m\u001b[0m\n\u001b[0;32m---> 13\u001b[0;31m \u001b[0mgear\u001b[0m \u001b[0;34m=\u001b[0m \u001b[0mBevelGear\u001b[0m\u001b[0;34m(\u001b[0m\u001b[0;34m**\u001b[0m\u001b[0mparams\u001b[0m\u001b[0;34m)\u001b[0m\u001b[0;34m\u001b[0m\u001b[0;34m\u001b[0m\u001b[0m\n\u001b[0m\u001b[1;32m     14\u001b[0m \u001b[0;34m\u001b[0m\u001b[0m\n\u001b[1;32m     15\u001b[0m \u001b[0;34m\u001b[0m\u001b[0m\n",
      "\u001b[0;32m~/anaconda3/envs/cadquery/lib/python3.9/site-packages/cq_gears-0.6-py3.9.egg/cq_gears/bevel_gear.py\u001b[0m in \u001b[0;36m__init__\u001b[0;34m(self, module, teeth_number, cone_angle, face_width, pressure_angle, helix_angle, clearance, backlash, **build_params)\u001b[0m\n\u001b[1;32m     73\u001b[0m             \u001b[0mself\u001b[0m\u001b[0;34m.\u001b[0m\u001b[0mtwist_angle\u001b[0m \u001b[0;34m=\u001b[0m \u001b[0;36m0.0\u001b[0m\u001b[0;34m\u001b[0m\u001b[0;34m\u001b[0m\u001b[0m\n\u001b[1;32m     74\u001b[0m \u001b[0;34m\u001b[0m\u001b[0m\n\u001b[0;32m---> 75\u001b[0;31m         \u001b[0;32massert\u001b[0m \u001b[0mnp\u001b[0m\u001b[0;34m.\u001b[0m\u001b[0misnan\u001b[0m\u001b[0;34m(\u001b[0m\u001b[0mself\u001b[0m\u001b[0;34m.\u001b[0m\u001b[0mtwist_angle\u001b[0m\u001b[0;34m)\u001b[0m \u001b[0;34m==\u001b[0m \u001b[0;32mFalse\u001b[0m\u001b[0;34m,\u001b[0m \u001b[0;34m'Twist angle is NaN'\u001b[0m\u001b[0;34m\u001b[0m\u001b[0;34m\u001b[0m\u001b[0m\n\u001b[0m\u001b[1;32m     76\u001b[0m \u001b[0;34m\u001b[0m\u001b[0m\n\u001b[1;32m     77\u001b[0m         \u001b[0mself\u001b[0m\u001b[0;34m.\u001b[0m\u001b[0mbuild_params\u001b[0m \u001b[0;34m=\u001b[0m \u001b[0mbuild_params\u001b[0m\u001b[0;34m\u001b[0m\u001b[0;34m\u001b[0m\u001b[0m\n",
      "\u001b[0;31mAssertionError\u001b[0m: Twist angle is NaN"
     ]
    }
   ],
   "source": [
    "params = rep.fails['TestBevelGear']['BUILDING'][7].copy()\n",
    "print(params)\n",
    "\n",
    "# BevelGear.curve_points = 20\n",
    "# BevelGear.surface_splines = 12\n",
    "# BevelGear.spline_approx_tol = 0.01\n",
    "# BevelGear.spline_approx_max_deg = 8\n",
    "\n",
    "# params['cone_angle'] = 15.0\n",
    "# params['face_width'] = 190.0\n",
    "# params['helix_angle'] = 36.0\n",
    "\n",
    "gear = BevelGear(**params)\n",
    "\n",
    "\n",
    "# faces = gear._build_tooth_faces()\n",
    "# faces = gear._build_gear_faces()\n",
    "\n",
    "# wp = cq.Workplane('XY').add(faces)\n",
    "solid = gear.build()\n",
    "wp = cq.Workplane('XY').add(solid)\n",
    "\n",
    "show(wp)"
   ]
  },
  {
   "cell_type": "code",
   "execution_count": 31,
   "id": "dc8f35d8-6e33-4526-9482-e024c1795e4d",
   "metadata": {},
   "outputs": [
    {
     "name": "stdout",
     "output_type": "stream",
     "text": [
      "420.9937458388607 -0.5409198903116639 421.5346657291724\n",
      "41238971.83162469\n"
     ]
    }
   ],
   "source": [
    "bb = wp.val().BoundingBox()\n",
    "width = gear.cone_h - \\\n",
    "                np.cos(gear.gamma_f) * (gear.gs_r - gear.face_width)\n",
    "print(width, bb.zmin, bb.zmax)\n",
    "print(wp.val().Volume())"
   ]
  },
  {
   "cell_type": "code",
   "execution_count": 16,
   "id": "2ca31e3e-beaa-4192-b8c9-38a056e59539",
   "metadata": {},
   "outputs": [
    {
     "data": {
      "text/plain": [
       "nan"
      ]
     },
     "execution_count": 16,
     "metadata": {},
     "output_type": "execute_result"
    }
   ],
   "source": [
    "gear.twist_angle"
   ]
  },
  {
   "cell_type": "code",
   "execution_count": 21,
   "id": "259dc6d7-fc94-4d3c-a543-eb867b7238d1",
   "metadata": {},
   "outputs": [
    {
     "name": "stderr",
     "output_type": "stream",
     "text": [
      "/tmp/ipykernel_874300/3329249642.py:3: RuntimeWarning: invalid value encountered in arcsin\n",
      "  twist_angle = np.arcsin(gear.gs_r / rp * np.sin(beta)) * 2.0\n"
     ]
    },
    {
     "data": {
      "text/plain": [
       "1.1806721232780275"
      ]
     },
     "execution_count": 21,
     "metadata": {},
     "output_type": "execute_result"
    }
   ],
   "source": [
    "rp = gear.m * gear.z / 2.0\n",
    "beta = np.arctan(gear.face_width * np.tan(gear.helix_angle) / (2.0 * gear.gs_r - gear.face_width))\n",
    "twist_angle = np.arcsin(gear.gs_r / rp * np.sin(beta)) * 2.0\n",
    "\n",
    "gear.gs_r / rp * np.sin(beta)"
   ]
  },
  {
   "cell_type": "code",
   "execution_count": 54,
   "id": "43adfaec-4572-47e2-b2f4-4cc99c7c0280",
   "metadata": {},
   "outputs": [
    {
     "data": {
      "text/plain": [
       "<function genericpath.isfile(path)>"
      ]
     },
     "execution_count": 54,
     "metadata": {},
     "output_type": "execute_result"
    }
   ],
   "source": [
    "os.path.isfile"
   ]
  },
  {
   "cell_type": "code",
   "execution_count": null,
   "id": "782197c0-c386-405b-abe2-5b6b8d6eebf6",
   "metadata": {},
   "outputs": [],
   "source": []
  }
 ],
 "metadata": {
  "kernelspec": {
   "display_name": "Python 3",
   "language": "python",
   "name": "python3"
  },
  "language_info": {
   "codemirror_mode": {
    "name": "ipython",
    "version": 3
   },
   "file_extension": ".py",
   "mimetype": "text/x-python",
   "name": "python",
   "nbconvert_exporter": "python",
   "pygments_lexer": "ipython3",
   "version": "3.9.7"
  }
 },
 "nbformat": 4,
 "nbformat_minor": 5
}
