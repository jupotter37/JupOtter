{
 "cells": [
  {
   "cell_type": "markdown",
   "metadata": {},
   "source": [
    " # Programming and Database Fundamentals for Data Scientists - EAS503"
   ]
  },
  {
   "cell_type": "markdown",
   "metadata": {},
   "source": [
    "Python classes and objects.\n",
    "\n",
    "In this notebook we will discuss the notion of classes and objects, which are a fundamental concept. Using the keyword `class`, one can define a class.\n",
    "\n",
    "Before learning about how to define classes, we will first understand the need for defining classes."
   ]
  },
  {
   "cell_type": "markdown",
   "metadata": {},
   "source": [
    "### A Simple Banking Application\n",
    "Read data from `csv` files containing customer and account information and find all customers with more than \\$25,000 in their bank account, and send a letter to them with some scheme (find their address)."
   ]
  },
  {
   "cell_type": "code",
   "execution_count": 1,
   "metadata": {},
   "outputs": [],
   "source": [
    "# Logical design\n",
    "import csv\n",
    "# load customer information\n",
    "customerMap = {}\n",
    "with open('customers.csv','r') as f:\n",
    "    rd = csv.reader(f)\n",
    "    next(rd)\n",
    "    for row in rd:\n",
    "        customerMap[int(row[0])] = (row[1],row[2])\n",
    "# load account information\n",
    "accountsMap = {}\n",
    "with open('accounts.csv','r') as f:\n",
    "    rd = csv.reader(f)\n",
    "    next(rd)\n",
    "    for row in rd:\n",
    "        if int(row[1]) not in accountsMap.keys():\n",
    "            accountsMap[int(row[1])] = []\n",
    "        l = accountsMap[int(row[1])]\n",
    "        l.append(int(row[2]))\n",
    "        accountsMap[int(row[1])] = l"
   ]
  },
  {
   "cell_type": "code",
   "execution_count": 2,
   "metadata": {},
   "outputs": [
    {
     "data": {
      "text/plain": [
       "{1: ('Jane', '123 Main Street'),\n",
       " 2: ('Alice', '111 Central Ave'),\n",
       " 3: ('Mary', '1 Washington Blvd.')}"
      ]
     },
     "execution_count": 2,
     "metadata": {},
     "output_type": "execute_result"
    }
   ],
   "source": [
    "customerMap"
   ]
  },
  {
   "cell_type": "code",
   "execution_count": 3,
   "metadata": {},
   "outputs": [
    {
     "data": {
      "text/plain": [
       "{1: [30000, 20000], 2: [25000, 100], 3: [1500, 2000, 10000]}"
      ]
     },
     "execution_count": 3,
     "metadata": {},
     "output_type": "execute_result"
    }
   ],
   "source": [
    "accountsMap"
   ]
  },
  {
   "cell_type": "code",
   "execution_count": 7,
   "metadata": {},
   "outputs": [
    {
     "name": "stdout",
     "output_type": "stream",
     "text": [
      "('Jane', '123 Main Street')\n",
      "('Alice', '111 Central Ave')\n"
     ]
    }
   ],
   "source": [
    "for k in accountsMap.keys():\n",
    "    if sum(accountsMap[k]) > 25000:\n",
    "        print(customerMap[k])"
   ]
  },
  {
   "cell_type": "code",
   "execution_count": 16,
   "metadata": {},
   "outputs": [],
   "source": [
    "# OOD\n",
    "class Customer:\n",
    "    def __init__(self, customerid, name, address):\n",
    "        self.__name = name\n",
    "        self.__customerid = customerid\n",
    "        self.__address = address\n",
    "        self.__accounts = []\n",
    "        \n",
    "    def add_account(self,account):\n",
    "        self.__accounts.append(account)\n",
    "\n",
    "\n",
    "    def get_total(self):\n",
    "        s = 0\n",
    "        for a in self.__accounts:\n",
    "            s = s + a.get_amount()\n",
    "        return s\n",
    "    \n",
    "    def get_name(self):\n",
    "        return self.__name\n",
    "\n",
    "\n",
    "class Account:\n",
    "    def __init__(self,accounttype,amount):\n",
    "        self.__accounttype = accounttype\n",
    "        self.__amount = amount\n",
    "    \n",
    "    def get_amount(self):\n",
    "        return self.__amount\n",
    "    \n",
    "    "
   ]
  },
  {
   "cell_type": "code",
   "execution_count": 17,
   "metadata": {},
   "outputs": [],
   "source": [
    "import csv\n",
    "customers = {}\n",
    "with open('./customers.csv') as f:\n",
    "    reader = csv.reader(f)\n",
    "    next(reader)\n",
    "    for row in reader:\n",
    "        customer = Customer(row[0],row[1],row[2])\n",
    "        customers[row[0]] = customer\n",
    "\n",
    "with open('./accounts.csv') as f:\n",
    "    reader = csv.reader(f)\n",
    "    next(reader)\n",
    "    for row in reader:\n",
    "        customerid = row[1]\n",
    "        account = Account(row[0],int(row[2]))\n",
    "        customers[customerid].add_account(account)"
   ]
  },
  {
   "cell_type": "code",
   "execution_count": 18,
   "metadata": {},
   "outputs": [
    {
     "name": "stdout",
     "output_type": "stream",
     "text": [
      "Jane\n",
      "Alice\n"
     ]
    }
   ],
   "source": [
    "for c in customers.keys():\n",
    "    if customers[c].get_total() > 25000:\n",
    "        print(customers[c].get_name())"
   ]
  },
  {
   "cell_type": "markdown",
   "metadata": {},
   "source": [
    "## Defining Classes\n",
    "More details about `class` definition"
   ]
  },
  {
   "cell_type": "code",
   "execution_count": 19,
   "metadata": {},
   "outputs": [],
   "source": [
    "# this class has no __init__ function\n",
    "class myclass:\n",
    "    def mymethod_myclass(self):\n",
    "        print(\"hey\")"
   ]
  },
  {
   "cell_type": "code",
   "execution_count": 20,
   "metadata": {},
   "outputs": [
    {
     "name": "stdout",
     "output_type": "stream",
     "text": [
      "hey\n"
     ]
    }
   ],
   "source": [
    "myobj = myclass()\n",
    "myobj.mymethod_myclass()"
   ]
  },
  {
   "cell_type": "code",
   "execution_count": 21,
   "metadata": {},
   "outputs": [],
   "source": [
    "# this class has no __init__ function\n",
    "class myclass:\n",
    "    # we define a field \n",
    "    __classtype='My Class'\n",
    "    def mymethod(self):\n",
    "        print(\"This is \"+self.__classtype)\n",
    "        \n",
    "    def getClasstype(self):\n",
    "        return self.__classtype"
   ]
  },
  {
   "cell_type": "code",
   "execution_count": 23,
   "metadata": {},
   "outputs": [
    {
     "name": "stdout",
     "output_type": "stream",
     "text": [
      "This is My Class\n",
      "My Class\n"
     ]
    }
   ],
   "source": [
    "# making fields private\n",
    "myobj = myclass()\n",
    "myobj.mymethod()\n",
    "print(myobj.getClasstype())"
   ]
  },
  {
   "cell_type": "code",
   "execution_count": 24,
   "metadata": {},
   "outputs": [
    {
     "name": "stdout",
     "output_type": "stream",
     "text": [
      "This is My Class\n"
     ]
    }
   ],
   "source": [
    "myobj = myclass()\n",
    "myobj.mymethod()"
   ]
  },
  {
   "cell_type": "code",
   "execution_count": 38,
   "metadata": {},
   "outputs": [],
   "source": [
    "# this class has not __init__ function\n",
    "class myclass:\n",
    "    # we define a global field \n",
    "    classtype='My Class'\n",
    "    def mymethod():\n",
    "        print(\"this is a method\")\n",
    "        self.a = 'g'\n",
    "        #print(\"This is \"+self.classtype) # note that we are explicitly referencing the field of the class\n",
    "        \n",
    "    def mymethod2(self):\n",
    "        print(\"This is\"+self.classtype)\n",
    "        print(self.a)"
   ]
  },
  {
   "cell_type": "code",
   "execution_count": 39,
   "metadata": {},
   "outputs": [
    {
     "name": "stdout",
     "output_type": "stream",
     "text": [
      "this is a method\n"
     ]
    }
   ],
   "source": [
    "myclass.mymethod()"
   ]
  },
  {
   "cell_type": "code",
   "execution_count": 35,
   "metadata": {},
   "outputs": [
    {
     "ename": "TypeError",
     "evalue": "mymethod() takes 0 positional arguments but 1 was given",
     "output_type": "error",
     "traceback": [
      "\u001b[0;31m---------------------------------------------------------------------------\u001b[0m",
      "\u001b[0;31mTypeError\u001b[0m                                 Traceback (most recent call last)",
      "\u001b[0;32m<ipython-input-35-b555a6de67c0>\u001b[0m in \u001b[0;36m<module>\u001b[0;34m()\u001b[0m\n\u001b[1;32m      1\u001b[0m \u001b[0mmyobj\u001b[0m \u001b[0;34m=\u001b[0m \u001b[0mmyclass\u001b[0m\u001b[0;34m(\u001b[0m\u001b[0;34m)\u001b[0m\u001b[0;34m\u001b[0m\u001b[0m\n\u001b[0;32m----> 2\u001b[0;31m \u001b[0mmyobj\u001b[0m\u001b[0;34m.\u001b[0m\u001b[0mmymethod\u001b[0m\u001b[0;34m(\u001b[0m\u001b[0;34m)\u001b[0m\u001b[0;34m\u001b[0m\u001b[0m\n\u001b[0m\u001b[1;32m      3\u001b[0m \u001b[0mmyobj\u001b[0m\u001b[0;34m.\u001b[0m\u001b[0mmymethod2\u001b[0m\u001b[0;34m(\u001b[0m\u001b[0;34m)\u001b[0m\u001b[0;34m\u001b[0m\u001b[0m\n",
      "\u001b[0;31mTypeError\u001b[0m: mymethod() takes 0 positional arguments but 1 was given"
     ]
    }
   ],
   "source": [
    "myobj = myclass()\n",
    "myobj.mymethod()\n",
    "myobj.mymethod2()"
   ]
  },
  {
   "cell_type": "markdown",
   "metadata": {},
   "source": [
    "#### Issues with defining fields outside the `__init__` function\n",
    "If global field is mutable"
   ]
  },
  {
   "cell_type": "code",
   "execution_count": 45,
   "metadata": {},
   "outputs": [],
   "source": [
    "# this class has not __init__ function\n",
    "class myclass:\n",
    "    # we define a field \n",
    "    classtypes=['int']\n",
    "    def mymethod(self):\n",
    "        print(self.classtypes) # note that we are explicitly referencing the field of the class"
   ]
  },
  {
   "cell_type": "code",
   "execution_count": 46,
   "metadata": {},
   "outputs": [
    {
     "name": "stdout",
     "output_type": "stream",
     "text": [
      "['int']\n",
      "['int']\n",
      "['int', 'float']\n",
      "['int', 'float']\n"
     ]
    }
   ],
   "source": [
    "myobj1 = myclass()\n",
    "myobj2 = myclass()\n",
    "\n",
    "myobj1.mymethod()\n",
    "myobj2.mymethod()\n",
    "\n",
    "myobj1.classtypes.append('float')\n",
    "\n",
    "myobj1.mymethod()\n",
    "myobj2.mymethod()"
   ]
  },
  {
   "cell_type": "markdown",
   "metadata": {},
   "source": [
    "#### How to avoid the above issue?\n",
    "Define mutable fields within `__init__`"
   ]
  },
  {
   "cell_type": "code",
   "execution_count": null,
   "metadata": {
    "collapsed": true
   },
   "outputs": [],
   "source": [
    "# this class has an __init__ function\n",
    "class myclass:\n",
    "    def __init__(self):\n",
    "        # we define a field \n",
    "        self.classtypes=['int']\n",
    "    def mymethod(self):\n",
    "        print(self.classtypes) # note that we are explicitly referencing the field of the class"
   ]
  },
  {
   "cell_type": "code",
   "execution_count": null,
   "metadata": {},
   "outputs": [],
   "source": [
    "myobj1 = myclass()\n",
    "myobj2 = myclass()\n",
    "\n",
    "myobj1.mymethod()\n",
    "myobj2.mymethod()\n",
    "\n",
    "myobj1.classtypes.append('float')\n",
    "\n",
    "myobj1.mymethod()\n",
    "myobj2.mymethod()"
   ]
  },
  {
   "cell_type": "code",
   "execution_count": null,
   "metadata": {},
   "outputs": [],
   "source": [
    "# you can directly access the field\n",
    "myobj1.mymethod()\n"
   ]
  },
  {
   "cell_type": "markdown",
   "metadata": {},
   "source": [
    "#### Hide fields from external use"
   ]
  },
  {
   "cell_type": "code",
   "execution_count": 158,
   "metadata": {},
   "outputs": [
    {
     "name": "stdout",
     "output_type": "stream",
     "text": [
      "chandola\n"
     ]
    }
   ],
   "source": [
    "class account:\n",
    "    def __init__(self,u,p):\n",
    "        self.username = u\n",
    "        self.password = p\n",
    "act = account('chandola','chandola')\n",
    "print(act.password)"
   ]
  },
  {
   "cell_type": "code",
   "execution_count": 159,
   "metadata": {},
   "outputs": [
    {
     "name": "stdout",
     "output_type": "stream",
     "text": [
      "chandola\n",
      "True\n"
     ]
    }
   ],
   "source": [
    "class account:\n",
    "    def __init__(self,u,p):\n",
    "        self.__username = u\n",
    "        self.__password = p\n",
    "    \n",
    "    def getUsername(self):\n",
    "        return self.__username\n",
    "    \n",
    "    def checkPassword(self,p):\n",
    "        if p == self.__getPassword():\n",
    "            return True\n",
    "        else:\n",
    "            return False\n",
    "    def __getPassword(self):\n",
    "        return self.__password\n",
    "    \n",
    "act = account('chandola','chandola')\n",
    "print(act.getUsername())\n",
    "print(act.checkPassword('chandola'))\n",
    "#print(act.__getPassword())"
   ]
  },
  {
   "cell_type": "code",
   "execution_count": null,
   "metadata": {
    "collapsed": true
   },
   "outputs": [],
   "source": [
    "# this class has an __init__ function\n",
    "class myclass:\n",
    "    def __init__(self):\n",
    "        # we define a field \n",
    "        self.__classtypes=['int']"
   ]
  },
  {
   "cell_type": "code",
   "execution_count": null,
   "metadata": {},
   "outputs": [],
   "source": [
    "myobj1 = myclass()\n",
    "myobj1.__classtypes"
   ]
  },
  {
   "cell_type": "code",
   "execution_count": null,
   "metadata": {
    "collapsed": true
   },
   "outputs": [],
   "source": [
    "# the private field will be accessible to the class methods\n",
    "class myclass:\n",
    "    def __init__(self):\n",
    "        # we define a field \n",
    "        self.__classtypes=['int']\n",
    "    \n",
    "    def appendType(self,newtype):\n",
    "        self.__classtypes.append(newtype)"
   ]
  },
  {
   "cell_type": "code",
   "execution_count": null,
   "metadata": {
    "collapsed": true
   },
   "outputs": [],
   "source": [
    "myobj1 = myclass()\n",
    "myobj1.appendType('float')"
   ]
  },
  {
   "cell_type": "code",
   "execution_count": null,
   "metadata": {},
   "outputs": [],
   "source": [
    "# still cannot access the field outside\n",
    "myobj1.__classtypes"
   ]
  },
  {
   "cell_type": "code",
   "execution_count": null,
   "metadata": {
    "collapsed": true
   },
   "outputs": [],
   "source": [
    "# solution -- create a getter method\n",
    "class myclass:\n",
    "    def __init__(self):\n",
    "        # we define a field \n",
    "        self.__classtypes=['int']\n",
    "        \n",
    "    def appendType(self,newtype):\n",
    "        self.__classtypes.append(newtype)\n",
    "        \n",
    "    def getClasstypes(self):\n",
    "        return self.__classtypes"
   ]
  },
  {
   "cell_type": "code",
   "execution_count": null,
   "metadata": {},
   "outputs": [],
   "source": [
    "myobj1 = myclass()\n",
    "myobj1.appendType('float')\n",
    "myobj1.getClasstypes()"
   ]
  },
  {
   "cell_type": "markdown",
   "metadata": {},
   "source": [
    "One can create `getter` and `setter` methods to manipulate fields. While the name of the methods can be arbitrary, a good programming practice is to use get`FieldNameWithoutUnderscores()` and set`FieldNameWithoutUnderscores()`"
   ]
  },
  {
   "cell_type": "markdown",
   "metadata": {},
   "source": [
    "## Inheritance in Python\n",
    "Ability to define subclasses. \n",
    "\n",
    "Let us assume that we want to have defined a class called `Employee` that has some information about a bank employee and some supporting methods."
   ]
  },
  {
   "cell_type": "code",
   "execution_count": 179,
   "metadata": {
    "collapsed": true
   },
   "outputs": [],
   "source": [
    "class Employee:\n",
    "    def __init__(self,firstname,lastname,empid):\n",
    "        self.__firstname = firstname\n",
    "        self.__lastname = lastname\n",
    "        self.__empid = empid\n",
    "    \n",
    "    # following is a special function used by the Python in-built print() function\n",
    "    def __str__(self):\n",
    "        return \"Employee name is \"+self.__firstname+\" \"+self.__lastname\n",
    "    \n",
    "    def checkid(self,inputid):\n",
    "        if inputid == self.__empid:\n",
    "            return True\n",
    "        else:\n",
    "            return False\n",
    "    \n",
    "    def getfirstname(self):\n",
    "        return self.__firstname\n",
    "    \n",
    "    def getlastname(self):\n",
    "        return self.__lastname\n",
    "   "
   ]
  },
  {
   "cell_type": "code",
   "execution_count": 172,
   "metadata": {},
   "outputs": [
    {
     "name": "stdout",
     "output_type": "stream",
     "text": [
      "Employee name is Homer Simpson\n"
     ]
    }
   ],
   "source": [
    "emp1 = Employee(\"Homer\",\"Simpson\",777)\n",
    "print(emp1)"
   ]
  },
  {
   "cell_type": "code",
   "execution_count": 173,
   "metadata": {},
   "outputs": [
    {
     "name": "stdout",
     "output_type": "stream",
     "text": [
      "True\n"
     ]
    }
   ],
   "source": [
    "print(emp1.checkid(777))"
   ]
  },
  {
   "cell_type": "markdown",
   "metadata": {},
   "source": [
    "Now we want to create a new class called `Manager` which retains some properties of an `Employee` buts add some more"
   ]
  },
  {
   "cell_type": "code",
   "execution_count": 73,
   "metadata": {
    "collapsed": true
   },
   "outputs": [],
   "source": [
    "class Manager(Employee):\n",
    "    def __init__(self,firstname,lastname,empid):\n",
    "        super().__init__(firstname,lastname,empid)"
   ]
  },
  {
   "cell_type": "code",
   "execution_count": 75,
   "metadata": {},
   "outputs": [
    {
     "name": "stdout",
     "output_type": "stream",
     "text": [
      "Employee name is Charles Burns\n"
     ]
    }
   ],
   "source": [
    "mng1 = Manager(\"Charles\",\"Burns\",666)\n",
    "print(mng1)"
   ]
  },
  {
   "cell_type": "markdown",
   "metadata": {},
   "source": [
    "But we want to add extra fields and set them in the constructor"
   ]
  },
  {
   "cell_type": "code",
   "execution_count": 176,
   "metadata": {
    "collapsed": true
   },
   "outputs": [],
   "source": [
    "class Manager(Employee):\n",
    "    def __init__(self,firstname,lastname,empid,managerid):\n",
    "        super().__init__(firstname,lastname,empid)\n",
    "        self.__managerid = managerid\n",
    "    \n",
    "    def checkmanagerid(self,inputid):\n",
    "        if inputid == self.__managerid:\n",
    "            return True\n",
    "        else:\n",
    "            return False"
   ]
  },
  {
   "cell_type": "code",
   "execution_count": 177,
   "metadata": {},
   "outputs": [
    {
     "name": "stdout",
     "output_type": "stream",
     "text": [
      "Employee name is Charles Burns\n"
     ]
    }
   ],
   "source": [
    "mng1 = Manager(\"Charles\",\"Burns\",666,111)\n",
    "print(mng1)"
   ]
  },
  {
   "cell_type": "code",
   "execution_count": 85,
   "metadata": {},
   "outputs": [
    {
     "data": {
      "text/plain": [
       "True"
      ]
     },
     "execution_count": 85,
     "metadata": {},
     "output_type": "execute_result"
    }
   ],
   "source": [
    "mng1.checkid(666)"
   ]
  },
  {
   "cell_type": "code",
   "execution_count": 86,
   "metadata": {},
   "outputs": [
    {
     "data": {
      "text/plain": [
       "True"
      ]
     },
     "execution_count": 86,
     "metadata": {},
     "output_type": "execute_result"
    }
   ],
   "source": [
    "mng1.checkmanagerid(111)"
   ]
  },
  {
   "cell_type": "markdown",
   "metadata": {},
   "source": [
    "You can modify methods of base classes"
   ]
  },
  {
   "cell_type": "code",
   "execution_count": 180,
   "metadata": {},
   "outputs": [],
   "source": [
    "class Manager(Employee):\n",
    "    def __init__(self,firstname,lastname,empid,managerid):\n",
    "        super().__init__(firstname,lastname,empid)\n",
    "        self.__managerid = managerid\n",
    "    \n",
    "    def checkmanagerid(self,inputid):\n",
    "        if inputid == self.__managerid:\n",
    "            return True\n",
    "        else:\n",
    "            return False\n",
    "        \n",
    "    def __str__(self):\n",
    "        # why will the first line not work and the second one will\n",
    "        #return \"Manager name is \"+self.__firstname+\" \"+self.__lastname\n",
    "        return \"Manager name is \"+self.getfirstname()+\" \"+self.getlastname()"
   ]
  },
  {
   "cell_type": "code",
   "execution_count": 181,
   "metadata": {},
   "outputs": [
    {
     "name": "stdout",
     "output_type": "stream",
     "text": [
      "Manager name is Charles Burns\n"
     ]
    }
   ],
   "source": [
    "mng1 = Manager(\"Charles\",\"Burns\",666,111)\n",
    "print(mng1)\n"
   ]
  },
  {
   "cell_type": "markdown",
   "metadata": {},
   "source": [
    "**Remember** - Derived classes cannot access private fields of the base class directly\n",
    "\n",
    "### Inheriting from multiple classes\n",
    "Consider a scenario where you have additional class, `Citizen`, that has other information about a person. Can we create a derived class that inherits properties of both `Employee` and `Citizen` class?"
   ]
  },
  {
   "cell_type": "code",
   "execution_count": 182,
   "metadata": {
    "collapsed": true
   },
   "outputs": [],
   "source": [
    "class Citizen:\n",
    "    def __init__(self,ssn,homeaddress):\n",
    "        self.__ssn = ssn\n",
    "        self.__homeaddress = homeaddress\n",
    "    \n",
    "    def __str__(self):\n",
    "        return \"Person located at \"+self.__homeaddress\n",
    "        "
   ]
  },
  {
   "cell_type": "code",
   "execution_count": 183,
   "metadata": {},
   "outputs": [
    {
     "name": "stdout",
     "output_type": "stream",
     "text": [
      "Person located at 742 Evergreen Terrace\n"
     ]
    }
   ],
   "source": [
    "ctz1 = Citizen(\"123-45-6789\",\"742 Evergreen Terrace\")\n",
    "print(ctz1)"
   ]
  },
  {
   "cell_type": "code",
   "execution_count": 190,
   "metadata": {
    "collapsed": true
   },
   "outputs": [],
   "source": [
    "# it is easy\n",
    "class Manager2(Employee,Citizen):\n",
    "    def __init__(self,firstname,lastname,empid,managerid,ssn,homeaddress):\n",
    "        Citizen.__init__(self,ssn,homeaddress)\n",
    "        Employee.__init__(self,firstname,lastname,empid)\n",
    "        self.__managerid = managerid\n",
    "    \n",
    "    def __str__(self):\n",
    "        return \"Manager name is \"+Employee.getfirstname(self)+\" \"+Employee.getlastname(self)+\", \"+Citizen.__str__(self)"
   ]
  },
  {
   "cell_type": "code",
   "execution_count": 191,
   "metadata": {},
   "outputs": [
    {
     "name": "stdout",
     "output_type": "stream",
     "text": [
      "Manager name is Charles Burns, Person located at 742 Evergreen Terrace\n"
     ]
    }
   ],
   "source": [
    "mgr2 = Manager2(\"Charles\",\"Burns\",666,111,\"123-45-6789\",\"742 Evergreen Terrace\")\n",
    "print(mgr2)"
   ]
  }
 ],
 "metadata": {
  "kernelspec": {
   "display_name": "Python 3",
   "language": "python",
   "name": "python3"
  },
  "language_info": {
   "codemirror_mode": {
    "name": "ipython",
    "version": 3
   },
   "file_extension": ".py",
   "mimetype": "text/x-python",
   "name": "python",
   "nbconvert_exporter": "python",
   "pygments_lexer": "ipython3",
   "version": "3.6.4"
  }
 },
 "nbformat": 4,
 "nbformat_minor": 2
}
