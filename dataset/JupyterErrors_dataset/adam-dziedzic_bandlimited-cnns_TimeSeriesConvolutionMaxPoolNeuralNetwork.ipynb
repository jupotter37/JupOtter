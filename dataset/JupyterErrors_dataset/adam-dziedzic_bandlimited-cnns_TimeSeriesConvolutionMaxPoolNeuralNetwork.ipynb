{
 "cells": [
  {
   "cell_type": "markdown",
   "metadata": {},
   "source": [
    "# 1D convolution and max pool for time-series classification"
   ]
  },
  {
   "cell_type": "code",
   "execution_count": 2,
   "metadata": {},
   "outputs": [
    {
     "name": "stdout",
     "output_type": "stream",
     "text": [
      "shape of the train_x:  (450, 270)\n",
      "train size before splitting:  450\n",
      "size of train set:  360\n",
      "size of validation set:  90\n",
      "size of the test set:  455\n"
     ]
    },
    {
     "data": {
      "image/png": "[encoded data removed]",
      "text/plain": [
       "<Figure size 432x288 with 1 Axes>"
      ]
     },
     "metadata": {},
     "output_type": "display_data"
    }
   ],
   "source": [
    "# load the data for time-series\n",
    "from nnlib.load_time_series import load_data\n",
    "import pandas as pd\n",
    "dirname = \"50words\"\n",
    "datasets = load_data(dirname)\n",
    "\n",
    "train_set_x, train_set_y = datasets[0]\n",
    "valid_set_x, valid_set_y = datasets[1]\n",
    "test_set_x, test_set_y = datasets[2]\n",
    "\n",
    "from matplotlib import pyplot\n",
    "pyplot.plot(train_set_x[0], label=\"class: \" + str(train_set_y[0]))\n",
    "pyplot.plot(train_set_x[1], label=\"class: \" + str(train_set_y[1]))\n",
    "pyplot.legend(bbox_to_anchor=(1.05, 1), loc=2, borderaxespad=0.)\n",
    "pyplot.show()"
   ]
  },
  {
   "cell_type": "code",
   "execution_count": 15,
   "metadata": {},
   "outputs": [
    {
     "name": "stdout",
     "output_type": "stream",
     "text": [
      "conv_forward_naive_1D out:  [[[4. 5. 8.]]]\n",
      "correlate scipy out:  [[[4 5 8]]]\n"
     ]
    }
   ],
   "source": [
    "# valid convolution\n",
    "import numpy as np\n",
    "from scipy import signal\n",
    "from nnlib.layers import conv_forward_naive_1D\n",
    "\n",
    "x = np.array([2,1,2,3])\n",
    "w = np.array([1,2])\n",
    "b = np.array([0])\n",
    "\n",
    "x = x.reshape(1,1,len(x))\n",
    "w = w.reshape(1,1,len(w))\n",
    "\n",
    "conv_param = {'stride': 1, 'pad': 0}\n",
    "out, _ = conv_forward_naive_1D(x, w, b, conv_param)\n",
    "print(\"conv_forward_naive_1D out: \", out)\n",
    "\n",
    "scipy_out = signal.correlate(x, w, mode=\"valid\", method=\"direct\")\n",
    "print(\"correlate scipy out: \", scipy_out)"
   ]
  },
  {
   "cell_type": "code",
   "execution_count": 16,
   "metadata": {},
   "outputs": [
    {
     "name": "stdout",
     "output_type": "stream",
     "text": [
      "conv_forward_naive_1D out:  [[[4. 4. 5. 8. 3.]]]\n",
      "correlate scipy out:  [[[4 4 5 8 3]]]\n"
     ]
    }
   ],
   "source": [
    "import numpy as np\n",
    "from scipy import signal\n",
    "from nnlib.layers import conv_forward_naive_1D\n",
    "\n",
    "x = np.array([2,1,2,3])\n",
    "w = np.array([1,2])\n",
    "b = np.array([0])\n",
    "\n",
    "x = x.reshape(1,1,len(x))\n",
    "w = w.reshape(1,1,len(w))\n",
    "\n",
    "conv_param = {'stride': 1, 'pad': 1}\n",
    "out, _ = conv_forward_naive_1D(x, w, b, conv_param)\n",
    "print(\"conv_forward_naive_1D out: \", out)\n",
    "\n",
    "scipy_out = signal.correlate(x, w, mode=\"full\", method=\"direct\")\n",
    "print(\"correlate scipy out: \", scipy_out)"
   ]
  },
  {
   "cell_type": "code",
   "execution_count": 31,
   "metadata": {},
   "outputs": [
    {
     "name": "stdout",
     "output_type": "stream",
     "text": [
      "conv_forward_naive_1D out:  [[[-0.03        0.01        0.01666667  0.02333333  0.03\n",
      "    0.03666667  0.04333333  0.05        0.05666667  0.06333333\n",
      "   -0.1       ]]]\n",
      "correlate scipy out:  [[[-0.03        0.01        0.01666667  0.02333333  0.03\n",
      "    0.03666667  0.04333333  0.05        0.05666667  0.06333333\n",
      "   -0.1       ]]]\n",
      "Testing conv_forward_naive\n",
      "difference:  0.0\n"
     ]
    }
   ],
   "source": [
    "import numpy as np\n",
    "from scipy import signal\n",
    "from nnlib.layers import conv_forward_naive_1D\n",
    "\n",
    "def rel_error(x, y):\n",
    "  \"\"\" returns relative error \"\"\"\n",
    "  return np.max(np.abs(x - y) / (np.maximum(1e-8, np.abs(x) + np.abs(y))))\n",
    "\n",
    "x_shape = (1, 1, 10)\n",
    "w_shape = (1, 1, 2)\n",
    "x = np.linspace(-0.1, 0.5, num=np.prod(x_shape)).reshape(x_shape)\n",
    "w = np.linspace(-0.2, 0.3, num=np.prod(w_shape)).reshape(w_shape)\n",
    "# b = np.linspace(-0.1, 0.2, num=w_shape[0])\n",
    "b = np.zeros(w_shape[0])\n",
    "conv_param = {'stride': 1, 'pad': 1}\n",
    "out, _ = conv_forward_naive_1D(x, w, b, conv_param)\n",
    "print(\"conv_forward_naive_1D out: \", out)\n",
    "\n",
    "scipy_out = signal.correlate(x, w, mode=\"full\", method=\"direct\")\n",
    "print(\"correlate scipy out: \", scipy_out)\n",
    "\n",
    "# Compare your output to ours; difference should be around 2e-8\n",
    "print('Testing conv_forward_naive')\n",
    "print('difference: ', rel_error(out, scipy_out))"
   ]
  },
  {
   "cell_type": "markdown",
   "metadata": {},
   "source": [
    "# 1D naive convolution for time-series data"
   ]
  },
  {
   "cell_type": "code",
   "execution_count": 43,
   "metadata": {},
   "outputs": [
    {
     "name": "stdout",
     "output_type": "stream",
     "text": [
      "Testing conv_relu_pool\n",
      "dx error:  1.7046892611805446e-11\n",
      "dw error:  1.6628032573142098e-11\n",
      "db error:  3.27543579789229e-12\n"
     ]
    }
   ],
   "source": [
    "from nnlib.layer_utils import conv_relu_forward_naive_1D, conv_relu_backward_naive_1D\n",
    "from nnlib.gradient_check import eval_numerical_gradient_array, eval_numerical_gradient\n",
    "\n",
    "np.random.seed(231)\n",
    "channel = 1\n",
    "nr_filters = 2 \n",
    "nr_data = 5 # number of time-series data == batch size\n",
    "WW = 5 # the width of the filter\n",
    "W = 10 # the width of the input data\n",
    "\n",
    "x = np.random.randn(nr_data, channel, W)\n",
    "w = np.random.randn(nr_filters, channel, WW)\n",
    "b = np.random.randn(nr_filters,)\n",
    "\n",
    "stride = 3\n",
    "pad = 4\n",
    "conv_param = {'stride': stride, 'pad': pad}\n",
    "out_conv = np.int(((W + 2 * pad - WW) // stride) + 1)\n",
    "\n",
    "dout = np.random.randn(nr_data, nr_filters, out_conv)\n",
    "\n",
    "out, cache = conv_relu_forward_naive_1D(x, w, b, conv_param)\n",
    "dx, dw, db = conv_relu_backward_naive_1D(dout, cache)\n",
    "\n",
    "dx_num = eval_numerical_gradient_array(lambda x: conv_relu_forward_naive_1D(x, w, b, conv_param)[0], x, dout)\n",
    "dw_num = eval_numerical_gradient_array(lambda w: conv_relu_forward_naive_1D(x, w, b, conv_param)[0], w, dout)\n",
    "db_num = eval_numerical_gradient_array(lambda b: conv_relu_forward_naive_1D(x, w, b, conv_param)[0], b, dout)\n",
    "\n",
    "print('Testing conv_relu_pool')\n",
    "print('dx error: ', rel_error(dx_num, dx))\n",
    "print('dw error: ', rel_error(dw_num, dw))\n",
    "print('db error: ', rel_error(db_num, db))"
   ]
  },
  {
   "cell_type": "code",
   "execution_count": 44,
   "metadata": {},
   "outputs": [
    {
     "name": "stdout",
     "output_type": "stream",
     "text": [
      "out_conv:  10\n",
      "out_pool:  5\n",
      "Testing conv_relu_pool\n",
      "dx error:  8.013602017060373e-10\n",
      "dw error:  8.309786420951745e-11\n",
      "db error:  3.2754875679135037e-12\n"
     ]
    }
   ],
   "source": [
    "# 1D naive convolution - different stride and padding tested\n",
    "\n",
    "from nnlib.layer_utils import conv_relu_pool_forward_naive_1D, conv_relu_pool_backward_naive_1D\n",
    "np.random.seed(231)\n",
    "channel = 1\n",
    "nr_filters = 2\n",
    "nr_data = 5\n",
    "WW = 5\n",
    "W = 10\n",
    "\n",
    "x = np.random.randn(nr_data, channel, W)\n",
    "w = np.random.randn(nr_filters, channel, WW)\n",
    "b = np.random.randn(nr_filters,)\n",
    "\n",
    "stride = 1\n",
    "pad = 2\n",
    "conv_param = {'stride': stride, 'pad': pad}\n",
    "out_conv = np.int(((W + 2 * pad - WW) // stride) + 1)\n",
    "print(\"out_conv: \", out_conv)\n",
    "\n",
    "pool_width = 2\n",
    "pool_stride = 2\n",
    "pool_param = {'pool_width': pool_width, 'stride': pool_stride}\n",
    "out_pool = np.int(((out_conv - pool_width) // pool_stride) + 1)\n",
    "print(\"out_pool: \", out_pool)\n",
    "\n",
    "dout = np.random.randn(nr_data, nr_filters, out_pool)\n",
    "\n",
    "out, cache = conv_relu_pool_forward_naive_1D(x, w, b, conv_param, pool_param)\n",
    "dx, dw, db = conv_relu_pool_backward_naive_1D(dout, cache)\n",
    "\n",
    "dx_num = eval_numerical_gradient_array(lambda x: conv_relu_pool_forward_naive_1D(x, w, b, conv_param, pool_param)[0], x, dout)\n",
    "dw_num = eval_numerical_gradient_array(lambda w: conv_relu_pool_forward_naive_1D(x, w, b, conv_param, pool_param)[0], w, dout)\n",
    "db_num = eval_numerical_gradient_array(lambda b: conv_relu_pool_forward_naive_1D(x, w, b, conv_param, pool_param)[0], b, dout)\n",
    "\n",
    "print('Testing conv_relu_pool')\n",
    "print('dx error: ', rel_error(dx_num, dx))\n",
    "print('dw error: ', rel_error(dw_num, dw))\n",
    "print('db error: ', rel_error(db_num, db))\n"
   ]
  },
  {
   "cell_type": "code",
   "execution_count": 46,
   "metadata": {},
   "outputs": [
    {
     "name": "stdout",
     "output_type": "stream",
     "text": [
      "out_pool dimension:  2\n",
      "dout:  [[[-0.34227539  0.29490764]]]\n",
      "out from max_pool:  [[[5. 8.]]]\n",
      "dx:  [[[ 0.          0.          0.          0.         -0.34227539\n",
      "    0.          0.          0.29490764  0.          0.        ]]]\n",
      "Testing max_pool_naive_1D\n",
      "dx error:  1.892892533819966e-11\n"
     ]
    }
   ],
   "source": [
    "# 1D naive max pool - forward and backward\n",
    "\n",
    "from nnlib.layers import max_pool_forward_naive_1D, max_pool_backward_naive_1D\n",
    "np.random.seed(231)\n",
    "channel = 1\n",
    "nr_filters = 1\n",
    "nr_data = 1\n",
    "WW = 5\n",
    "W = 10\n",
    "\n",
    "x = np.random.randn(nr_data, channel, W)\n",
    "x[0,0,:] = np.array([1,2,3,4,5,6,7,8,9,10])\n",
    "#x[0,0,:] = [1,2,3,4,5,6,7,8,9,10]\n",
    "\n",
    "pool_width = 5\n",
    "pool_stride = 3\n",
    "pool_param = {'pool_width': pool_width, 'stride': pool_stride}\n",
    "out_pool = np.int(((W - pool_width) // pool_stride) + 1)\n",
    "print(\"out_pool dimension: \", out_pool)\n",
    "\n",
    "dout = np.random.randn(nr_data, channel, out_pool)\n",
    "print(\"dout: \", dout)\n",
    "\n",
    "out, cache = max_pool_forward_naive_1D(x, pool_param)\n",
    "print(\"out from max_pool: \", out)\n",
    "\n",
    "dx = max_pool_backward_naive_1D(dout, cache)\n",
    "print(\"dx: \", dx)\n",
    "\n",
    "dx_num = eval_numerical_gradient_array(lambda x: max_pool_forward_naive_1D(x, pool_param)[0], x, dout)\n",
    "\n",
    "print('Testing max_pool_naive_1D')\n",
    "print('dx error: ', rel_error(dx_num, dx))"
   ]
  },
  {
   "cell_type": "code",
   "execution_count": 41,
   "metadata": {},
   "outputs": [
    {
     "name": "stdout",
     "output_type": "stream",
     "text": [
      "time dimension:  270\n"
     ]
    },
    {
     "ename": "ValueError",
     "evalue": "too many values to unpack (expected 3)",
     "output_type": "error",
     "traceback": [
      "\u001b[0;31m---------------------------------------------------------------------------\u001b[0m",
      "\u001b[0;31mValueError\u001b[0m                                Traceback (most recent call last)",
      "\u001b[0;32m<ipython-input-41-c682f21bfbed>\u001b[0m in \u001b[0;36m<module>\u001b[0;34m()\u001b[0m\n\u001b[1;32m     50\u001b[0m                 },\n\u001b[1;32m     51\u001b[0m                 verbose=True, print_every=1)\n\u001b[0;32m---> 52\u001b[0;31m \u001b[0msolver\u001b[0m\u001b[0;34m.\u001b[0m\u001b[0mtrain\u001b[0m\u001b[0;34m(\u001b[0m\u001b[0;34m)\u001b[0m\u001b[0;34m\u001b[0m\u001b[0m\n\u001b[0m",
      "\u001b[0;32m~/code/time-series-ml/cnns/nnlib/solver.py\u001b[0m in \u001b[0;36mtrain\u001b[0;34m(self)\u001b[0m\n\u001b[1;32m    264\u001b[0m \u001b[0;34m\u001b[0m\u001b[0m\n\u001b[1;32m    265\u001b[0m         \u001b[0;32mfor\u001b[0m \u001b[0mt\u001b[0m \u001b[0;32min\u001b[0m \u001b[0mrange\u001b[0m\u001b[0;34m(\u001b[0m\u001b[0mnum_iterations\u001b[0m\u001b[0;34m)\u001b[0m\u001b[0;34m:\u001b[0m\u001b[0;34m\u001b[0m\u001b[0m\n\u001b[0;32m--> 266\u001b[0;31m             \u001b[0mself\u001b[0m\u001b[0;34m.\u001b[0m\u001b[0m_step\u001b[0m\u001b[0;34m(\u001b[0m\u001b[0;34m)\u001b[0m\u001b[0;34m\u001b[0m\u001b[0m\n\u001b[0m\u001b[1;32m    267\u001b[0m \u001b[0;34m\u001b[0m\u001b[0m\n\u001b[1;32m    268\u001b[0m             \u001b[0;31m# Maybe print training loss\u001b[0m\u001b[0;34m\u001b[0m\u001b[0;34m\u001b[0m\u001b[0m\n",
      "\u001b[0;32m~/code/time-series-ml/cnns/nnlib/solver.py\u001b[0m in \u001b[0;36m_step\u001b[0;34m(self)\u001b[0m\n\u001b[1;32m    180\u001b[0m \u001b[0;34m\u001b[0m\u001b[0m\n\u001b[1;32m    181\u001b[0m         \u001b[0;31m# Compute loss and gradient\u001b[0m\u001b[0;34m\u001b[0m\u001b[0;34m\u001b[0m\u001b[0m\n\u001b[0;32m--> 182\u001b[0;31m         \u001b[0mloss\u001b[0m\u001b[0;34m,\u001b[0m \u001b[0mgrads\u001b[0m \u001b[0;34m=\u001b[0m \u001b[0mself\u001b[0m\u001b[0;34m.\u001b[0m\u001b[0mmodel\u001b[0m\u001b[0;34m.\u001b[0m\u001b[0mloss\u001b[0m\u001b[0;34m(\u001b[0m\u001b[0mX_batch\u001b[0m\u001b[0;34m,\u001b[0m \u001b[0my_batch\u001b[0m\u001b[0;34m)\u001b[0m\u001b[0;34m\u001b[0m\u001b[0m\n\u001b[0m\u001b[1;32m    183\u001b[0m         \u001b[0mself\u001b[0m\u001b[0;34m.\u001b[0m\u001b[0mloss_history\u001b[0m\u001b[0;34m.\u001b[0m\u001b[0mappend\u001b[0m\u001b[0;34m(\u001b[0m\u001b[0mloss\u001b[0m\u001b[0;34m)\u001b[0m\u001b[0;34m\u001b[0m\u001b[0m\n\u001b[1;32m    184\u001b[0m \u001b[0;34m\u001b[0m\u001b[0m\n",
      "\u001b[0;32m~/code/time-series-ml/cnns/nnlib/classifiers/cnn_time_series_1D.py\u001b[0m in \u001b[0;36mloss\u001b[0;34m(self, X, y)\u001b[0m\n\u001b[1;32m    110\u001b[0m         \u001b[0;31m# maxpool1_out, maxpool1_cache = max_pool_forward_naive(relu1_out, pool_param)\u001b[0m\u001b[0;34m\u001b[0m\u001b[0;34m\u001b[0m\u001b[0m\n\u001b[1;32m    111\u001b[0m \u001b[0;34m\u001b[0m\u001b[0m\n\u001b[0;32m--> 112\u001b[0;31m         \u001b[0mmaxpool1_out\u001b[0m\u001b[0;34m,\u001b[0m \u001b[0mcombined_cache\u001b[0m \u001b[0;34m=\u001b[0m \u001b[0mconv_relu_pool_forward_naive_1D\u001b[0m\u001b[0;34m(\u001b[0m\u001b[0mX\u001b[0m\u001b[0;34m,\u001b[0m \u001b[0mW1\u001b[0m\u001b[0;34m,\u001b[0m \u001b[0mb1\u001b[0m\u001b[0;34m,\u001b[0m \u001b[0mconv_param\u001b[0m\u001b[0;34m,\u001b[0m \u001b[0mpool_param\u001b[0m\u001b[0;34m)\u001b[0m\u001b[0;34m\u001b[0m\u001b[0m\n\u001b[0m\u001b[1;32m    113\u001b[0m \u001b[0;34m\u001b[0m\u001b[0m\n\u001b[1;32m    114\u001b[0m         \u001b[0maffine1_out\u001b[0m\u001b[0;34m,\u001b[0m \u001b[0maffine1_cache\u001b[0m \u001b[0;34m=\u001b[0m \u001b[0maffine_forward\u001b[0m\u001b[0;34m(\u001b[0m\u001b[0mmaxpool1_out\u001b[0m\u001b[0;34m,\u001b[0m \u001b[0mW2\u001b[0m\u001b[0;34m,\u001b[0m \u001b[0mb2\u001b[0m\u001b[0;34m)\u001b[0m\u001b[0;34m\u001b[0m\u001b[0m\n",
      "\u001b[0;32m~/code/time-series-ml/cnns/nnlib/layer_utils.py\u001b[0m in \u001b[0;36mconv_relu_pool_forward_naive_1D\u001b[0;34m(x, w, b, conv_param, pool_param)\u001b[0m\n\u001b[1;32m    117\u001b[0m     \"\"\"\n\u001b[1;32m    118\u001b[0m     \u001b[0;31m#print(\"conv_param: \", conv_param)\u001b[0m\u001b[0;34m\u001b[0m\u001b[0;34m\u001b[0m\u001b[0m\n\u001b[0;32m--> 119\u001b[0;31m     \u001b[0ma\u001b[0m\u001b[0;34m,\u001b[0m \u001b[0mconv_cache\u001b[0m \u001b[0;34m=\u001b[0m \u001b[0mconv_forward_naive_1D\u001b[0m\u001b[0;34m(\u001b[0m\u001b[0mx\u001b[0m\u001b[0;34m,\u001b[0m \u001b[0mw\u001b[0m\u001b[0;34m,\u001b[0m \u001b[0mb\u001b[0m\u001b[0;34m,\u001b[0m \u001b[0mconv_param\u001b[0m\u001b[0;34m)\u001b[0m\u001b[0;34m\u001b[0m\u001b[0m\n\u001b[0m\u001b[1;32m    120\u001b[0m     \u001b[0;31m#print(\"shape of conv output: \", a.shape)\u001b[0m\u001b[0;34m\u001b[0m\u001b[0;34m\u001b[0m\u001b[0m\n\u001b[1;32m    121\u001b[0m     \u001b[0ms\u001b[0m\u001b[0;34m,\u001b[0m \u001b[0mrelu_cache\u001b[0m \u001b[0;34m=\u001b[0m \u001b[0mrelu_forward\u001b[0m\u001b[0;34m(\u001b[0m\u001b[0ma\u001b[0m\u001b[0;34m)\u001b[0m\u001b[0;34m\u001b[0m\u001b[0m\n",
      "\u001b[0;32m~/code/time-series-ml/cnns/nnlib/layers.py\u001b[0m in \u001b[0;36mconv_forward_naive_1D\u001b[0;34m(x, w, b, conv_param)\u001b[0m\n\u001b[1;32m    486\u001b[0m     \u001b[0mpad\u001b[0m \u001b[0;34m=\u001b[0m \u001b[0mconv_param\u001b[0m\u001b[0;34m.\u001b[0m\u001b[0mget\u001b[0m\u001b[0;34m(\u001b[0m\u001b[0;34m'pad'\u001b[0m\u001b[0;34m)\u001b[0m\u001b[0;34m\u001b[0m\u001b[0m\n\u001b[1;32m    487\u001b[0m     \u001b[0mprint\u001b[0m\u001b[0;34m(\u001b[0m\u001b[0;34m\"pad: \"\u001b[0m\u001b[0;34m,\u001b[0m \u001b[0mpad\u001b[0m\u001b[0;34m)\u001b[0m\u001b[0;34m\u001b[0m\u001b[0m\n\u001b[0;32m--> 488\u001b[0;31m     \u001b[0;32mimport\u001b[0m \u001b[0msys\u001b[0m\u001b[0;34m\u001b[0m\u001b[0m\n\u001b[0m\u001b[1;32m    489\u001b[0m     \u001b[0msys\u001b[0m\u001b[0;34m.\u001b[0m\u001b[0mstdout\u001b[0m\u001b[0;34m.\u001b[0m\u001b[0mflush\u001b[0m\u001b[0;34m(\u001b[0m\u001b[0;34m)\u001b[0m\u001b[0;34m\u001b[0m\u001b[0m\n\u001b[1;32m    490\u001b[0m     \u001b[0;32mif\u001b[0m \u001b[0misinstance\u001b[0m\u001b[0;34m(\u001b[0m\u001b[0mpad\u001b[0m\u001b[0;34m,\u001b[0m \u001b[0mint\u001b[0m\u001b[0;34m)\u001b[0m\u001b[0;34m:\u001b[0m\u001b[0;34m\u001b[0m\u001b[0m\n",
      "\u001b[0;31mValueError\u001b[0m: too many values to unpack (expected 3)"
     ]
    }
   ],
   "source": [
    "# As usual, a bit of setup\n",
    "from __future__ import print_function\n",
    "import numpy as np\n",
    "import matplotlib.pyplot as plt\n",
    "from nnlib.classifiers.cnn import *\n",
    "from nnlib.data_utils import get_CIFAR10_data\n",
    "from nnlib.gradient_check import eval_numerical_gradient_array, eval_numerical_gradient\n",
    "from nnlib.layers import *\n",
    "from nnlib.fast_layers import *\n",
    "from nnlib.solver import Solver\n",
    "\n",
    "from nnlib.classifiers.cnn_time_series_1D import ThreeLayerConvNetTimeSeries\n",
    "np.random.seed(231)\n",
    "\n",
    "#print(valid_set_x.shape)\n",
    "#print(valid_set_x.reshape(valid_set_x.shape[0], 1, 1, -1).shape)\n",
    "#print(valid_set_x.reshape(len(valid_set_x), 1, 1, -1).shape)\n",
    "\n",
    "def reshapeTS(x):\n",
    "    \"\"\"\n",
    "    Reshape the time-series data to have only a single dimension for \n",
    "    channels and height. Move the time-series value to the width dimension.\n",
    "    \"\"\"\n",
    "    return x.reshape(x.shape[0], 1, 1, -1)\n",
    "    \n",
    "num_train = 450\n",
    "small_data = {\n",
    "  'X_train': reshapeTS(train_set_x[:num_train]),\n",
    "  'y_train': reshapeTS(train_set_y[:num_train]),\n",
    "  'X_val': reshapeTS(valid_set_x),\n",
    "  'y_val': reshapeTS(valid_set_y)\n",
    "}\n",
    "\n",
    "time_dimension = valid_set_x.shape[1]\n",
    "print(\"time dimension: \", time_dimension)\n",
    "model = ThreeLayerConvNetTimeSeries(input_dim = (1,1,time_dimension),\n",
    "                          num_filters = 32,\n",
    "                          filter_size = 3,\n",
    "                          filter_channels = 1,\n",
    "                          hidden_dim = 100,\n",
    "                          num_classes = 50,\n",
    "                          weight_scale = 1e-2,\n",
    "                          pad_convolution = 2)\n",
    "\n",
    "solver = Solver(model, small_data,\n",
    "                num_epochs=30, batch_size=50,\n",
    "                update_rule='adam',\n",
    "                optim_config={\n",
    "                  'learning_rate': 1e-4,\n",
    "                },\n",
    "                verbose=True, print_every=1)\n",
    "solver.train()"
   ]
  }
 ],
 "metadata": {
  "kernelspec": {
   "display_name": "Environment (conda_anaconda3)",
   "language": "python",
   "name": "conda_anaconda3"
  },
  "language_info": {
   "codemirror_mode": {
    "name": "ipython",
    "version": 3
   },
   "file_extension": ".py",
   "mimetype": "text/x-python",
   "name": "python",
   "nbconvert_exporter": "python",
   "pygments_lexer": "ipython3",
   "version": "3.6.5"
  }
 },
 "nbformat": 4,
 "nbformat_minor": 2
}
