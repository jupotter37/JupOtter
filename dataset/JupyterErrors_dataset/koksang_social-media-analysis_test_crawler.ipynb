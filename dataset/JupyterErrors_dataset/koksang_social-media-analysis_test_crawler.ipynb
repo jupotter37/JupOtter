{
 "cells": [
  {
   "cell_type": "code",
   "execution_count": 1,
   "id": "39d7c29c-4471-41b8-aaeb-070a3a7ff423",
   "metadata": {},
   "outputs": [],
   "source": [
    "%load_ext autoreload\n",
    "%autoreload 2"
   ]
  },
  {
   "cell_type": "code",
   "execution_count": 2,
   "id": "18c55b98",
   "metadata": {},
   "outputs": [
    {
     "name": "stdout",
     "output_type": "stream",
     "text": [
      "kafka.yaml         test_kafka.ipynb   test_spark.ipynb\n",
      "test_crawler.ipynb test_ray.ipynb\n"
     ]
    }
   ],
   "source": [
    "!ls"
   ]
  },
  {
   "cell_type": "code",
   "execution_count": 2,
   "id": "cb3b43dc-fb5a-4e35-bced-548915ab9bc3",
   "metadata": {},
   "outputs": [],
   "source": [
    "SRC = \"../src\""
   ]
  },
  {
   "cell_type": "code",
   "execution_count": 3,
   "id": "b596cb6d-de6e-4ea2-9613-e505323eea29",
   "metadata": {},
   "outputs": [],
   "source": [
    "import os\n",
    "import sys\n",
    "import ray\n",
    "\n",
    "from pathlib import Path\n",
    "from ray.util import inspect_serializability\n",
    "\n",
    "sys.path.insert(0, str(Path.cwd().parents[0]))\n",
    "\n",
    "from core.crawler import TwitterCrawler"
   ]
  },
  {
   "cell_type": "code",
   "execution_count": 14,
   "id": "53c7acc5-ca9b-4f4d-80d1-977099f5367a",
   "metadata": {},
   "outputs": [],
   "source": [
    "import ray\n",
    "from ray.util import inspect_serializability\n",
    "\n",
    "from module.crawler.crawler import App\n",
    "from base.tweet import Tweet"
   ]
  },
  {
   "cell_type": "code",
   "execution_count": 4,
   "id": "c2ef2216-a6d2-4f11-ae9a-fc581bd403cd",
   "metadata": {},
   "outputs": [
    {
     "name": "stderr",
     "output_type": "stream",
     "text": [
      "2022-06-26 17:19 | [  INFO  ] base.model.__attrs_post_init__.43  - config: {'dest': None, 'scraper_id': 'SEARCH', 'query': ['dataengineering'], 'max_results': 20}\n"
     ]
    }
   ],
   "source": [
    "c = App(scraper_id=\"SEARCH\", query=\"dataengineering\", dest=None, max_results=20)"
   ]
  },
  {
   "cell_type": "code",
   "execution_count": 6,
   "id": "19a28fef-cf64-42b5-bd8a-379389d1e683",
   "metadata": {},
   "outputs": [
    {
     "name": "stderr",
     "output_type": "stream",
     "text": [
      "100%|████████████████████████████████████████████████████████████████████████████████████████████████████████████████████| 1/1 [00:00<00:00, 710.66it/s]\n"
     ]
    }
   ],
   "source": [
    "output = c.run()"
   ]
  },
  {
   "cell_type": "code",
   "execution_count": 25,
   "id": "94358248-919c-4547-aaaa-4e9d7db1df70",
   "metadata": {},
   "outputs": [
    {
     "ename": "TypeError",
     "evalue": "__init__() got an unexpected keyword argument 'date'",
     "output_type": "error",
     "traceback": [
      "\u001b[0;31m---------------------------------------------------------------------------\u001b[0m",
      "\u001b[0;31mTypeError\u001b[0m                                 Traceback (most recent call last)",
      "Input \u001b[0;32mIn [25]\u001b[0m, in \u001b[0;36m<cell line: 1>\u001b[0;34m()\u001b[0m\n\u001b[0;32m----> 1\u001b[0m \u001b[43mTweet\u001b[49m\u001b[43m(\u001b[49m\u001b[38;5;241;43m*\u001b[39;49m\u001b[38;5;241;43m*\u001b[39;49m\u001b[43moutput\u001b[49m\u001b[43m[\u001b[49m\u001b[38;5;241;43m0\u001b[39;49m\u001b[43m]\u001b[49m\u001b[43m[\u001b[49m\u001b[38;5;241;43m0\u001b[39;49m\u001b[43m]\u001b[49m\u001b[38;5;241;43m.\u001b[39;49m\u001b[38;5;18;43m__dict__\u001b[39;49m\u001b[43m)\u001b[49m\n",
      "\u001b[0;31mTypeError\u001b[0m: __init__() got an unexpected keyword argument 'date'"
     ]
    }
   ],
   "source": [
    "Tweet(**output[0][0].__dict__)"
   ]
  },
  {
   "cell_type": "code",
   "execution_count": 17,
   "id": "4507d079-ba18-4d36-a58f-5008436ff111",
   "metadata": {},
   "outputs": [
    {
     "name": "stdout",
     "output_type": "stream",
     "text": [
      "https://twitter.com/dataman3180/status/1540985060182327296\n"
     ]
    }
   ],
   "source": [
    "print(output[0][0])"
   ]
  },
  {
   "cell_type": "code",
   "execution_count": null,
   "id": "367a2746-339c-4f81-abc5-840a9fdf434d",
   "metadata": {},
   "outputs": [],
   "source": []
  },
  {
   "cell_type": "code",
   "execution_count": null,
   "id": "0a18eaf2-871c-4ce7-be47-070abececf2e",
   "metadata": {},
   "outputs": [],
   "source": []
  },
  {
   "cell_type": "code",
   "execution_count": null,
   "id": "56f05941-ef2d-4b89-83c8-38224c2879d6",
   "metadata": {},
   "outputs": [],
   "source": []
  },
  {
   "cell_type": "code",
   "execution_count": 54,
   "id": "8aba5be8-f88b-4f83-8233-363c524922d8",
   "metadata": {},
   "outputs": [
    {
     "name": "stderr",
     "output_type": "stream",
     "text": [
      "2022-06-08 00:37:53,103\tINFO worker.py:963 -- Calling ray.init() again after it has already been called.\n"
     ]
    },
    {
     "ename": "TypeError",
     "evalue": "missing a required argument: 'self'",
     "output_type": "error",
     "traceback": [
      "\u001b[0;31m---------------------------------------------------------------------------\u001b[0m",
      "\u001b[0;31mTypeError\u001b[0m                                 Traceback (most recent call last)",
      "Input \u001b[0;32mIn [54]\u001b[0m, in \u001b[0;36m<cell line: 11>\u001b[0;34m()\u001b[0m\n\u001b[1;32m      6\u001b[0m ray\u001b[38;5;241m.\u001b[39minit(\n\u001b[1;32m      7\u001b[0m     num_cpus\u001b[38;5;241m=\u001b[39mos\u001b[38;5;241m.\u001b[39mcpu_count() \u001b[38;5;241m-\u001b[39m \u001b[38;5;241m2\u001b[39m,\n\u001b[1;32m      8\u001b[0m     ignore_reinit_error\u001b[38;5;241m=\u001b[39m\u001b[38;5;28;01mTrue\u001b[39;00m,\n\u001b[1;32m      9\u001b[0m )\n\u001b[1;32m     10\u001b[0m t \u001b[38;5;241m=\u001b[39m Test()\n\u001b[0;32m---> 11\u001b[0m tasks \u001b[38;5;241m=\u001b[39m [t\u001b[38;5;241m.\u001b[39mtest\u001b[38;5;241m.\u001b[39mremote() \u001b[38;5;28;01mfor\u001b[39;00m i \u001b[38;5;129;01min\u001b[39;00m \u001b[38;5;28mrange\u001b[39m(\u001b[38;5;241m100\u001b[39m)]\n\u001b[1;32m     12\u001b[0m output \u001b[38;5;241m=\u001b[39m ray\u001b[38;5;241m.\u001b[39mget(tasks)\n",
      "Input \u001b[0;32mIn [54]\u001b[0m, in \u001b[0;36m<listcomp>\u001b[0;34m(.0)\u001b[0m\n\u001b[1;32m      6\u001b[0m ray\u001b[38;5;241m.\u001b[39minit(\n\u001b[1;32m      7\u001b[0m     num_cpus\u001b[38;5;241m=\u001b[39mos\u001b[38;5;241m.\u001b[39mcpu_count() \u001b[38;5;241m-\u001b[39m \u001b[38;5;241m2\u001b[39m,\n\u001b[1;32m      8\u001b[0m     ignore_reinit_error\u001b[38;5;241m=\u001b[39m\u001b[38;5;28;01mTrue\u001b[39;00m,\n\u001b[1;32m      9\u001b[0m )\n\u001b[1;32m     10\u001b[0m t \u001b[38;5;241m=\u001b[39m Test()\n\u001b[0;32m---> 11\u001b[0m tasks \u001b[38;5;241m=\u001b[39m [\u001b[43mt\u001b[49m\u001b[38;5;241;43m.\u001b[39;49m\u001b[43mtest\u001b[49m\u001b[38;5;241;43m.\u001b[39;49m\u001b[43mremote\u001b[49m\u001b[43m(\u001b[49m\u001b[43m)\u001b[49m \u001b[38;5;28;01mfor\u001b[39;00m i \u001b[38;5;129;01min\u001b[39;00m \u001b[38;5;28mrange\u001b[39m(\u001b[38;5;241m100\u001b[39m)]\n\u001b[1;32m     12\u001b[0m output \u001b[38;5;241m=\u001b[39m ray\u001b[38;5;241m.\u001b[39mget(tasks)\n",
      "File \u001b[0;32m~/Library/Caches/pypoetry/virtualenvs/twitter-trends-crawling-8JX5Pgav-py3.9/lib/python3.9/site-packages/ray/remote_function.py:157\u001b[0m, in \u001b[0;36mRemoteFunction.__init__.<locals>._remote_proxy\u001b[0;34m(*args, **kwargs)\u001b[0m\n\u001b[1;32m    155\u001b[0m \u001b[38;5;129m@wraps\u001b[39m(function)\n\u001b[1;32m    156\u001b[0m \u001b[38;5;28;01mdef\u001b[39;00m \u001b[38;5;21m_remote_proxy\u001b[39m(\u001b[38;5;241m*\u001b[39margs, \u001b[38;5;241m*\u001b[39m\u001b[38;5;241m*\u001b[39mkwargs):\n\u001b[0;32m--> 157\u001b[0m     \u001b[38;5;28;01mreturn\u001b[39;00m \u001b[38;5;28;43mself\u001b[39;49m\u001b[38;5;241;43m.\u001b[39;49m\u001b[43m_remote\u001b[49m\u001b[43m(\u001b[49m\u001b[43margs\u001b[49m\u001b[38;5;241;43m=\u001b[39;49m\u001b[43margs\u001b[49m\u001b[43m,\u001b[49m\u001b[43m \u001b[49m\u001b[43mkwargs\u001b[49m\u001b[38;5;241;43m=\u001b[39;49m\u001b[43mkwargs\u001b[49m\u001b[43m)\u001b[49m\n",
      "File \u001b[0;32m~/Library/Caches/pypoetry/virtualenvs/twitter-trends-crawling-8JX5Pgav-py3.9/lib/python3.9/site-packages/ray/util/tracing/tracing_helper.py:303\u001b[0m, in \u001b[0;36m_tracing_task_invocation.<locals>._invocation_remote_span\u001b[0;34m(self, args, kwargs, *_args, **_kwargs)\u001b[0m\n\u001b[1;32m    301\u001b[0m     \u001b[38;5;28;01mif\u001b[39;00m kwargs \u001b[38;5;129;01mis\u001b[39;00m \u001b[38;5;129;01mnot\u001b[39;00m \u001b[38;5;28;01mNone\u001b[39;00m:\n\u001b[1;32m    302\u001b[0m         \u001b[38;5;28;01massert\u001b[39;00m \u001b[38;5;124m\"\u001b[39m\u001b[38;5;124m_ray_trace_ctx\u001b[39m\u001b[38;5;124m\"\u001b[39m \u001b[38;5;129;01mnot\u001b[39;00m \u001b[38;5;129;01min\u001b[39;00m kwargs\n\u001b[0;32m--> 303\u001b[0m     \u001b[38;5;28;01mreturn\u001b[39;00m \u001b[43mmethod\u001b[49m\u001b[43m(\u001b[49m\u001b[38;5;28;43mself\u001b[39;49m\u001b[43m,\u001b[49m\u001b[43m \u001b[49m\u001b[43margs\u001b[49m\u001b[43m,\u001b[49m\u001b[43m \u001b[49m\u001b[43mkwargs\u001b[49m\u001b[43m,\u001b[49m\u001b[43m \u001b[49m\u001b[38;5;241;43m*\u001b[39;49m\u001b[43m_args\u001b[49m\u001b[43m,\u001b[49m\u001b[43m \u001b[49m\u001b[38;5;241;43m*\u001b[39;49m\u001b[38;5;241;43m*\u001b[39;49m\u001b[43m_kwargs\u001b[49m\u001b[43m)\u001b[49m\n\u001b[1;32m    305\u001b[0m \u001b[38;5;28;01massert\u001b[39;00m \u001b[38;5;124m\"\u001b[39m\u001b[38;5;124m_ray_trace_ctx\u001b[39m\u001b[38;5;124m\"\u001b[39m \u001b[38;5;129;01mnot\u001b[39;00m \u001b[38;5;129;01min\u001b[39;00m kwargs\n\u001b[1;32m    307\u001b[0m tracer \u001b[38;5;241m=\u001b[39m _opentelemetry\u001b[38;5;241m.\u001b[39mtrace\u001b[38;5;241m.\u001b[39mget_tracer(\u001b[38;5;18m__name__\u001b[39m)\n",
      "File \u001b[0;32m~/Library/Caches/pypoetry/virtualenvs/twitter-trends-crawling-8JX5Pgav-py3.9/lib/python3.9/site-packages/ray/remote_function.py:445\u001b[0m, in \u001b[0;36mRemoteFunction._remote\u001b[0;34m(self, args, kwargs, num_returns, num_cpus, num_gpus, memory, object_store_memory, accelerator_type, resources, max_retries, retry_exceptions, placement_group, placement_group_bundle_index, placement_group_capture_child_tasks, runtime_env, name, scheduling_strategy)\u001b[0m\n\u001b[1;32m    442\u001b[0m \u001b[38;5;28;01mif\u001b[39;00m \u001b[38;5;28mself\u001b[39m\u001b[38;5;241m.\u001b[39m_decorator \u001b[38;5;129;01mis\u001b[39;00m \u001b[38;5;129;01mnot\u001b[39;00m \u001b[38;5;28;01mNone\u001b[39;00m:\n\u001b[1;32m    443\u001b[0m     invocation \u001b[38;5;241m=\u001b[39m \u001b[38;5;28mself\u001b[39m\u001b[38;5;241m.\u001b[39m_decorator(invocation)\n\u001b[0;32m--> 445\u001b[0m \u001b[38;5;28;01mreturn\u001b[39;00m \u001b[43minvocation\u001b[49m\u001b[43m(\u001b[49m\u001b[43margs\u001b[49m\u001b[43m,\u001b[49m\u001b[43m \u001b[49m\u001b[43mkwargs\u001b[49m\u001b[43m)\u001b[49m\n",
      "File \u001b[0;32m~/Library/Caches/pypoetry/virtualenvs/twitter-trends-crawling-8JX5Pgav-py3.9/lib/python3.9/site-packages/ray/remote_function.py:413\u001b[0m, in \u001b[0;36mRemoteFunction._remote.<locals>.invocation\u001b[0;34m(args, kwargs)\u001b[0m\n\u001b[1;32m    411\u001b[0m     list_args \u001b[38;5;241m=\u001b[39m []\n\u001b[1;32m    412\u001b[0m \u001b[38;5;28;01melse\u001b[39;00m:\n\u001b[0;32m--> 413\u001b[0m     list_args \u001b[38;5;241m=\u001b[39m \u001b[43mray\u001b[49m\u001b[38;5;241;43m.\u001b[39;49m\u001b[43m_private\u001b[49m\u001b[38;5;241;43m.\u001b[39;49m\u001b[43msignature\u001b[49m\u001b[38;5;241;43m.\u001b[39;49m\u001b[43mflatten_args\u001b[49m\u001b[43m(\u001b[49m\n\u001b[1;32m    414\u001b[0m \u001b[43m        \u001b[49m\u001b[38;5;28;43mself\u001b[39;49m\u001b[38;5;241;43m.\u001b[39;49m\u001b[43m_function_signature\u001b[49m\u001b[43m,\u001b[49m\u001b[43m \u001b[49m\u001b[43margs\u001b[49m\u001b[43m,\u001b[49m\u001b[43m \u001b[49m\u001b[43mkwargs\u001b[49m\n\u001b[1;32m    415\u001b[0m \u001b[43m    \u001b[49m\u001b[43m)\u001b[49m\n\u001b[1;32m    417\u001b[0m \u001b[38;5;28;01mif\u001b[39;00m worker\u001b[38;5;241m.\u001b[39mmode \u001b[38;5;241m==\u001b[39m ray\u001b[38;5;241m.\u001b[39mworker\u001b[38;5;241m.\u001b[39mLOCAL_MODE:\n\u001b[1;32m    418\u001b[0m     \u001b[38;5;28;01massert\u001b[39;00m (\n\u001b[1;32m    419\u001b[0m         \u001b[38;5;129;01mnot\u001b[39;00m \u001b[38;5;28mself\u001b[39m\u001b[38;5;241m.\u001b[39m_is_cross_language\n\u001b[1;32m    420\u001b[0m     ), \u001b[38;5;124m\"\u001b[39m\u001b[38;5;124mCross language remote function cannot be executed locally.\u001b[39m\u001b[38;5;124m\"\u001b[39m\n",
      "File \u001b[0;32m~/Library/Caches/pypoetry/virtualenvs/twitter-trends-crawling-8JX5Pgav-py3.9/lib/python3.9/site-packages/ray/_private/signature.py:114\u001b[0m, in \u001b[0;36mflatten_args\u001b[0;34m(signature_parameters, args, kwargs)\u001b[0m\n\u001b[1;32m    112\u001b[0m     reconstructed_signature\u001b[38;5;241m.\u001b[39mbind(\u001b[38;5;241m*\u001b[39margs, \u001b[38;5;241m*\u001b[39m\u001b[38;5;241m*\u001b[39mkwargs)\n\u001b[1;32m    113\u001b[0m \u001b[38;5;28;01mexcept\u001b[39;00m \u001b[38;5;167;01mTypeError\u001b[39;00m \u001b[38;5;28;01mas\u001b[39;00m exc:  \u001b[38;5;66;03m# capture a friendlier stacktrace\u001b[39;00m\n\u001b[0;32m--> 114\u001b[0m     \u001b[38;5;28;01mraise\u001b[39;00m \u001b[38;5;167;01mTypeError\u001b[39;00m(\u001b[38;5;28mstr\u001b[39m(exc)) \u001b[38;5;28;01mfrom\u001b[39;00m \u001b[38;5;28mNone\u001b[39m\n\u001b[1;32m    115\u001b[0m list_args \u001b[38;5;241m=\u001b[39m []\n\u001b[1;32m    116\u001b[0m \u001b[38;5;28;01mfor\u001b[39;00m arg \u001b[38;5;129;01min\u001b[39;00m args:\n",
      "\u001b[0;31mTypeError\u001b[0m: missing a required argument: 'self'"
     ]
    }
   ],
   "source": [
    "class Test:\n",
    "    @ray.remote\n",
    "    def test(self, i):\n",
    "        print(f\"count {i}\")\n",
    "        \n",
    "ray.init(\n",
    "    num_cpus=os.cpu_count() - 2,\n",
    "    ignore_reinit_error=True,\n",
    ")\n",
    "t = Test()\n",
    "tasks = [t.test.remote() for i in range(100)]\n",
    "output = ray.get(tasks)"
   ]
  },
  {
   "cell_type": "code",
   "execution_count": 35,
   "id": "72c7312c-5ccf-4e4a-9dad-e3ca63ca36d7",
   "metadata": {},
   "outputs": [
    {
     "ename": "TypeError",
     "evalue": "missing a required argument: 'scraper'",
     "output_type": "error",
     "traceback": [
      "\u001b[0;31m---------------------------------------------------------------------------\u001b[0m",
      "\u001b[0;31mTypeError\u001b[0m                                 Traceback (most recent call last)",
      "Input \u001b[0;32mIn [35]\u001b[0m, in \u001b[0;36m<cell line: 1>\u001b[0;34m()\u001b[0m\n\u001b[0;32m----> 1\u001b[0m tasks \u001b[38;5;241m=\u001b[39m [crawler\u001b[38;5;241m.\u001b[39m_scrape\u001b[38;5;241m.\u001b[39mremote(scraper) \u001b[38;5;28;01mfor\u001b[39;00m scraper \u001b[38;5;129;01min\u001b[39;00m scrapers]\n\u001b[1;32m      2\u001b[0m output \u001b[38;5;241m=\u001b[39m ray\u001b[38;5;241m.\u001b[39mget(tasks)\n",
      "Input \u001b[0;32mIn [35]\u001b[0m, in \u001b[0;36m<listcomp>\u001b[0;34m(.0)\u001b[0m\n\u001b[0;32m----> 1\u001b[0m tasks \u001b[38;5;241m=\u001b[39m [\u001b[43mcrawler\u001b[49m\u001b[38;5;241;43m.\u001b[39;49m\u001b[43m_scrape\u001b[49m\u001b[38;5;241;43m.\u001b[39;49m\u001b[43mremote\u001b[49m\u001b[43m(\u001b[49m\u001b[43mscraper\u001b[49m\u001b[43m)\u001b[49m \u001b[38;5;28;01mfor\u001b[39;00m scraper \u001b[38;5;129;01min\u001b[39;00m scrapers]\n\u001b[1;32m      2\u001b[0m output \u001b[38;5;241m=\u001b[39m ray\u001b[38;5;241m.\u001b[39mget(tasks)\n",
      "File \u001b[0;32m~/Library/Caches/pypoetry/virtualenvs/twitter-trends-crawling-8JX5Pgav-py3.9/lib/python3.9/site-packages/ray/remote_function.py:157\u001b[0m, in \u001b[0;36mRemoteFunction.__init__.<locals>._remote_proxy\u001b[0;34m(*args, **kwargs)\u001b[0m\n\u001b[1;32m    155\u001b[0m \u001b[38;5;129m@wraps\u001b[39m(function)\n\u001b[1;32m    156\u001b[0m \u001b[38;5;28;01mdef\u001b[39;00m \u001b[38;5;21m_remote_proxy\u001b[39m(\u001b[38;5;241m*\u001b[39margs, \u001b[38;5;241m*\u001b[39m\u001b[38;5;241m*\u001b[39mkwargs):\n\u001b[0;32m--> 157\u001b[0m     \u001b[38;5;28;01mreturn\u001b[39;00m \u001b[38;5;28;43mself\u001b[39;49m\u001b[38;5;241;43m.\u001b[39;49m\u001b[43m_remote\u001b[49m\u001b[43m(\u001b[49m\u001b[43margs\u001b[49m\u001b[38;5;241;43m=\u001b[39;49m\u001b[43margs\u001b[49m\u001b[43m,\u001b[49m\u001b[43m \u001b[49m\u001b[43mkwargs\u001b[49m\u001b[38;5;241;43m=\u001b[39;49m\u001b[43mkwargs\u001b[49m\u001b[43m)\u001b[49m\n",
      "File \u001b[0;32m~/Library/Caches/pypoetry/virtualenvs/twitter-trends-crawling-8JX5Pgav-py3.9/lib/python3.9/site-packages/ray/util/tracing/tracing_helper.py:303\u001b[0m, in \u001b[0;36m_tracing_task_invocation.<locals>._invocation_remote_span\u001b[0;34m(self, args, kwargs, *_args, **_kwargs)\u001b[0m\n\u001b[1;32m    301\u001b[0m     \u001b[38;5;28;01mif\u001b[39;00m kwargs \u001b[38;5;129;01mis\u001b[39;00m \u001b[38;5;129;01mnot\u001b[39;00m \u001b[38;5;28;01mNone\u001b[39;00m:\n\u001b[1;32m    302\u001b[0m         \u001b[38;5;28;01massert\u001b[39;00m \u001b[38;5;124m\"\u001b[39m\u001b[38;5;124m_ray_trace_ctx\u001b[39m\u001b[38;5;124m\"\u001b[39m \u001b[38;5;129;01mnot\u001b[39;00m \u001b[38;5;129;01min\u001b[39;00m kwargs\n\u001b[0;32m--> 303\u001b[0m     \u001b[38;5;28;01mreturn\u001b[39;00m \u001b[43mmethod\u001b[49m\u001b[43m(\u001b[49m\u001b[38;5;28;43mself\u001b[39;49m\u001b[43m,\u001b[49m\u001b[43m \u001b[49m\u001b[43margs\u001b[49m\u001b[43m,\u001b[49m\u001b[43m \u001b[49m\u001b[43mkwargs\u001b[49m\u001b[43m,\u001b[49m\u001b[43m \u001b[49m\u001b[38;5;241;43m*\u001b[39;49m\u001b[43m_args\u001b[49m\u001b[43m,\u001b[49m\u001b[43m \u001b[49m\u001b[38;5;241;43m*\u001b[39;49m\u001b[38;5;241;43m*\u001b[39;49m\u001b[43m_kwargs\u001b[49m\u001b[43m)\u001b[49m\n\u001b[1;32m    305\u001b[0m \u001b[38;5;28;01massert\u001b[39;00m \u001b[38;5;124m\"\u001b[39m\u001b[38;5;124m_ray_trace_ctx\u001b[39m\u001b[38;5;124m\"\u001b[39m \u001b[38;5;129;01mnot\u001b[39;00m \u001b[38;5;129;01min\u001b[39;00m kwargs\n\u001b[1;32m    307\u001b[0m tracer \u001b[38;5;241m=\u001b[39m _opentelemetry\u001b[38;5;241m.\u001b[39mtrace\u001b[38;5;241m.\u001b[39mget_tracer(\u001b[38;5;18m__name__\u001b[39m)\n",
      "File \u001b[0;32m~/Library/Caches/pypoetry/virtualenvs/twitter-trends-crawling-8JX5Pgav-py3.9/lib/python3.9/site-packages/ray/remote_function.py:445\u001b[0m, in \u001b[0;36mRemoteFunction._remote\u001b[0;34m(self, args, kwargs, num_returns, num_cpus, num_gpus, memory, object_store_memory, accelerator_type, resources, max_retries, retry_exceptions, placement_group, placement_group_bundle_index, placement_group_capture_child_tasks, runtime_env, name, scheduling_strategy)\u001b[0m\n\u001b[1;32m    442\u001b[0m \u001b[38;5;28;01mif\u001b[39;00m \u001b[38;5;28mself\u001b[39m\u001b[38;5;241m.\u001b[39m_decorator \u001b[38;5;129;01mis\u001b[39;00m \u001b[38;5;129;01mnot\u001b[39;00m \u001b[38;5;28;01mNone\u001b[39;00m:\n\u001b[1;32m    443\u001b[0m     invocation \u001b[38;5;241m=\u001b[39m \u001b[38;5;28mself\u001b[39m\u001b[38;5;241m.\u001b[39m_decorator(invocation)\n\u001b[0;32m--> 445\u001b[0m \u001b[38;5;28;01mreturn\u001b[39;00m \u001b[43minvocation\u001b[49m\u001b[43m(\u001b[49m\u001b[43margs\u001b[49m\u001b[43m,\u001b[49m\u001b[43m \u001b[49m\u001b[43mkwargs\u001b[49m\u001b[43m)\u001b[49m\n",
      "File \u001b[0;32m~/Library/Caches/pypoetry/virtualenvs/twitter-trends-crawling-8JX5Pgav-py3.9/lib/python3.9/site-packages/ray/remote_function.py:413\u001b[0m, in \u001b[0;36mRemoteFunction._remote.<locals>.invocation\u001b[0;34m(args, kwargs)\u001b[0m\n\u001b[1;32m    411\u001b[0m     list_args \u001b[38;5;241m=\u001b[39m []\n\u001b[1;32m    412\u001b[0m \u001b[38;5;28;01melse\u001b[39;00m:\n\u001b[0;32m--> 413\u001b[0m     list_args \u001b[38;5;241m=\u001b[39m \u001b[43mray\u001b[49m\u001b[38;5;241;43m.\u001b[39;49m\u001b[43m_private\u001b[49m\u001b[38;5;241;43m.\u001b[39;49m\u001b[43msignature\u001b[49m\u001b[38;5;241;43m.\u001b[39;49m\u001b[43mflatten_args\u001b[49m\u001b[43m(\u001b[49m\n\u001b[1;32m    414\u001b[0m \u001b[43m        \u001b[49m\u001b[38;5;28;43mself\u001b[39;49m\u001b[38;5;241;43m.\u001b[39;49m\u001b[43m_function_signature\u001b[49m\u001b[43m,\u001b[49m\u001b[43m \u001b[49m\u001b[43margs\u001b[49m\u001b[43m,\u001b[49m\u001b[43m \u001b[49m\u001b[43mkwargs\u001b[49m\n\u001b[1;32m    415\u001b[0m \u001b[43m    \u001b[49m\u001b[43m)\u001b[49m\n\u001b[1;32m    417\u001b[0m \u001b[38;5;28;01mif\u001b[39;00m worker\u001b[38;5;241m.\u001b[39mmode \u001b[38;5;241m==\u001b[39m ray\u001b[38;5;241m.\u001b[39mworker\u001b[38;5;241m.\u001b[39mLOCAL_MODE:\n\u001b[1;32m    418\u001b[0m     \u001b[38;5;28;01massert\u001b[39;00m (\n\u001b[1;32m    419\u001b[0m         \u001b[38;5;129;01mnot\u001b[39;00m \u001b[38;5;28mself\u001b[39m\u001b[38;5;241m.\u001b[39m_is_cross_language\n\u001b[1;32m    420\u001b[0m     ), \u001b[38;5;124m\"\u001b[39m\u001b[38;5;124mCross language remote function cannot be executed locally.\u001b[39m\u001b[38;5;124m\"\u001b[39m\n",
      "File \u001b[0;32m~/Library/Caches/pypoetry/virtualenvs/twitter-trends-crawling-8JX5Pgav-py3.9/lib/python3.9/site-packages/ray/_private/signature.py:114\u001b[0m, in \u001b[0;36mflatten_args\u001b[0;34m(signature_parameters, args, kwargs)\u001b[0m\n\u001b[1;32m    112\u001b[0m     reconstructed_signature\u001b[38;5;241m.\u001b[39mbind(\u001b[38;5;241m*\u001b[39margs, \u001b[38;5;241m*\u001b[39m\u001b[38;5;241m*\u001b[39mkwargs)\n\u001b[1;32m    113\u001b[0m \u001b[38;5;28;01mexcept\u001b[39;00m \u001b[38;5;167;01mTypeError\u001b[39;00m \u001b[38;5;28;01mas\u001b[39;00m exc:  \u001b[38;5;66;03m# capture a friendlier stacktrace\u001b[39;00m\n\u001b[0;32m--> 114\u001b[0m     \u001b[38;5;28;01mraise\u001b[39;00m \u001b[38;5;167;01mTypeError\u001b[39;00m(\u001b[38;5;28mstr\u001b[39m(exc)) \u001b[38;5;28;01mfrom\u001b[39;00m \u001b[38;5;28mNone\u001b[39m\n\u001b[1;32m    115\u001b[0m list_args \u001b[38;5;241m=\u001b[39m []\n\u001b[1;32m    116\u001b[0m \u001b[38;5;28;01mfor\u001b[39;00m arg \u001b[38;5;129;01min\u001b[39;00m args:\n",
      "\u001b[0;31mTypeError\u001b[0m: missing a required argument: 'scraper'"
     ]
    }
   ],
   "source": [
    "tasks = [crawler._scrape.remote(scraper) for scraper in scrapers]\n",
    "output = ray.get(tasks)"
   ]
  },
  {
   "cell_type": "code",
   "execution_count": null,
   "id": "258a5a23-c566-49e6-94be-c364ead62b0b",
   "metadata": {},
   "outputs": [],
   "source": []
  },
  {
   "cell_type": "code",
   "execution_count": 11,
   "id": "7d2c3412-b085-4460-89f6-e1cb9c5416e3",
   "metadata": {},
   "outputs": [
    {
     "name": "stderr",
     "output_type": "stream",
     "text": [
      "2022-06-07 23:57 | [  INFO  ] base.model.__attrs_post_init__.44  - config: {'dest': None, 'scraper_id': 'SEARCH', 'query': ['https://twitter.com/kishorerabhinav/status/1534198493236981760', 'https://twitter.com/codexoriginal/status/1534196383330480130', 'https://twitter.com/mbnsolutions/status/1534196056963022850', 'https://twitter.com/DataSciTechScot/status/1534196056925274114', 'https://twitter.com/DataEngiLatam/status/1534185021292130305', 'https://twitter.com/TeseraSystems/status/1534184546261819392', 'https://twitter.com/corpus_news/status/1534182573450174466', 'https://twitter.com/DrMattCrowson/status/1534178251731369984', 'https://twitter.com/datapronetwork/status/1534177495695515651', 'https://twitter.com/Molecula/status/1534174843054202881', 'https://twitter.com/ZainullAbiddinD/status/1534173376163479555', 'https://twitter.com/tivonjohnson_/status/1534165926651875328', 'https://twitter.com/SalMancuso/status/1534165705439907840', 'https://twitter.com/acceldataio/status/1534161013288861698', 'https://twitter.com/Nicole_Janeway/status/1534160753309065216', 'https://twitter.com/datacouch_io/status/1534158617267490817', 'https://twitter.com/startdataeng/status/1534157007229530113', 'https://twitter.com/RichardEudes/status/1534154458367672327', 'https://twitter.com/corpus_news/status/1534153532206628865', 'https://twitter.com/VonRosenchild/status/1534146324559499266', 'https://twitter.com/JBDataEngineer/status/1534145797775929347', 'https://twitter.com/RichardEudes/status/1534143302227972101', 'https://twitter.com/DataAISF/status/1534140112308772864', 'https://twitter.com/petehanssens/status/1534136978580848642', 'https://twitter.com/MaticDan/status/1534135690501529610', 'https://twitter.com/corpus_news/status/1534126523153883137', 'https://twitter.com/KratosBi/status/1534123219535503361', 'https://twitter.com/RichardEudes/status/1534123001347723264', 'https://twitter.com/exp_datascience/status/1534113440163368961', 'https://twitter.com/EitanBlumin/status/1534112994204037120', 'https://twitter.com/DamavisStudio/status/1534097901768564738', 'https://twitter.com/corpus_news/status/1534097781740163072', 'https://twitter.com/meccanica_plus/status/1534093914847821829', 'https://twitter.com/BigData_Fr/status/1534084847496486913', 'https://twitter.com/BigData_Fr/status/1534084836863909888', 'https://twitter.com/Jpkenessy/status/1534075387457810433', 'https://twitter.com/AnalyticsFr/status/1534071637183709189', 'https://twitter.com/corpus_news/status/1534071570582454274', 'https://twitter.com/AnalyticsFr/status/1534071555046707200', 'https://twitter.com/OfficialMangtas/status/1534067636660846594', 'https://twitter.com/Data_Articles/status/1534061848567468032', 'https://twitter.com/ATopitschnig/status/1534058037887086593', 'https://twitter.com/topitcon/status/1534057833494372352', 'https://twitter.com/neptune_ai/status/1534056822868418560', 'https://twitter.com/data_cyborg/status/1534052727570935808', 'https://twitter.com/data_cyborg/status/1534052716833435648', 'https://twitter.com/mimacom/status/1534052716380573699', 'https://twitter.com/data_cyborg/status/1534052706028879872', 'https://twitter.com/abxda/status/1534051754127540224', 'https://twitter.com/datamin_io/status/1534049926811983873', 'https://twitter.com/corpus_news/status/1534042418282217472'], 'max_results': 10}\n",
      "100%|████████████████████████████████████████████████████████████████████████████████████████████████████████████████| 51/51 [00:00<00:00, 10412.26it/s]\n"
     ]
    },
    {
     "data": {
      "text/plain": [
       "51"
      ]
     },
     "execution_count": 11,
     "metadata": {},
     "output_type": "execute_result"
    }
   ],
   "source": [
    "selected_tweets = [tweet.url for tweet in tweets]\n",
    "crawler = App(dest=None, scraper_id=\"SEARCH\", query=selected_tweets)\n",
    "scrapers = crawler._get_scrapers()\n",
    "len(scrapers)"
   ]
  },
  {
   "cell_type": "code",
   "execution_count": 12,
   "id": "a05cd8d5-2be3-4fcd-9b33-712869fa4813",
   "metadata": {},
   "outputs": [
    {
     "name": "stdout",
     "output_type": "stream",
     "text": [
      "CPU times: user 135 ms, sys: 126 ms, total: 261 ms\n",
      "Wall time: 13.3 s\n"
     ]
    }
   ],
   "source": [
    "%%time\n",
    "\n",
    "ray.init(ignore_reinit_error=True)\n",
    "\n",
    "@ray.remote\n",
    "def scrape(scraper):\n",
    "    return list(scraper.get_items())\n",
    "\n",
    "tweets = [scrape.remote(scraper) for scraper in scrapers]\n",
    "output = ray.get((tweets))"
   ]
  },
  {
   "cell_type": "code",
   "execution_count": 15,
   "id": "cae110ea-57b4-47be-a71d-3cbe2a365212",
   "metadata": {},
   "outputs": [
    {
     "data": {
      "text/plain": [
       "48"
      ]
     },
     "execution_count": 15,
     "metadata": {},
     "output_type": "execute_result"
    }
   ],
   "source": [
    "len(output)"
   ]
  },
  {
   "cell_type": "code",
   "execution_count": 16,
   "id": "abfd9b77-4ef5-4466-9342-6e8384769bc1",
   "metadata": {},
   "outputs": [],
   "source": [
    "from tqdm import tqdm"
   ]
  },
  {
   "cell_type": "code",
   "execution_count": 17,
   "id": "c17f70c9-6408-4498-8d23-0b9a1cffdaad",
   "metadata": {},
   "outputs": [
    {
     "name": "stderr",
     "output_type": "stream",
     "text": [
      "100%|███████████████████████████████████████████████████████████████████████████████████████████████████████████████████| 51/51 [01:28<00:00,  1.73s/it]"
     ]
    },
    {
     "name": "stdout",
     "output_type": "stream",
     "text": [
      "CPU times: user 1.95 s, sys: 522 ms, total: 2.48 s\n",
      "Wall time: 1min 28s\n"
     ]
    },
    {
     "name": "stderr",
     "output_type": "stream",
     "text": [
      "\n"
     ]
    }
   ],
   "source": [
    "%%time\n",
    "\n",
    "output = []\n",
    "for scraper in tqdm(scrapers):\n",
    "    output.append(list(scraper.get_items()) )"
   ]
  },
  {
   "cell_type": "code",
   "execution_count": 19,
   "id": "6c1945df-1199-4aec-a04a-025cf2ebf1cd",
   "metadata": {},
   "outputs": [
    {
     "data": {
      "text/plain": [
       "12"
      ]
     },
     "execution_count": 19,
     "metadata": {},
     "output_type": "execute_result"
    }
   ],
   "source": [
    "import os\n",
    "\n",
    "os.cpu_count()"
   ]
  },
  {
   "cell_type": "code",
   "execution_count": null,
   "id": "7193e3b4-89ef-4734-8db9-407b204396b7",
   "metadata": {},
   "outputs": [],
   "source": []
  }
 ],
 "metadata": {
  "kernelspec": {
   "display_name": "Python 3 (ipykernel)",
   "language": "python",
   "name": "python3"
  },
  "language_info": {
   "codemirror_mode": {
    "name": "ipython",
    "version": 3
   },
   "file_extension": ".py",
   "mimetype": "text/x-python",
   "name": "python",
   "nbconvert_exporter": "python",
   "pygments_lexer": "ipython3",
   "version": "3.9.6"
  },
  "vscode": {
   "interpreter": {
    "hash": "0bcb3d2749583f9744ca1908632df761bb606a278d7e0c334f267413729cac7c"
   }
  }
 },
 "nbformat": 4,
 "nbformat_minor": 5
}
