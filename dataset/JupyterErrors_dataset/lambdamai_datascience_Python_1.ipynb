{
 "cells": [
  {
   "cell_type": "markdown",
   "id": "44396213",
   "metadata": {},
   "source": [
    "# Python и форматы данных\n",
    "\n",
    "В данном ноутбуке мы разберем различные форматы данных, библиотеки для python для чтения и обработки этих данных.\n",
    "\n",
    "## Сериализация и десериализация\n",
    "\n",
    "Основным механизмом сохранения и передачи данных является механизм сериализации и десериализации данных. Делать это можно \"в лоб\", не задумываясь о конечном формате данных, если эти данные будут открываться только одной системой или средой. Обычно принято сохранять данные в бинарном формате, например, в файл. "
   ]
  },
  {
   "cell_type": "markdown",
   "id": "160fdeee",
   "metadata": {},
   "source": [
    "## Напомним про виды данных в Python\n",
    "\n",
    "В основном встречаются следующие типы данных\n",
    "\n",
    "- Числа (целые, с плавающей точкой)\n",
    "- Строки\n",
    "- bool\n",
    "- None\n",
    "\n",
    "Данные типы данных могут агрегироваться в следующие структуры данных\n",
    "\n",
    "- списки (массивы)\n",
    "- кортежи\n",
    "- словари (в последствии с ними и будем работать для сложных структур данных)"
   ]
  },
  {
   "cell_type": "markdown",
   "id": "731790dd",
   "metadata": {},
   "source": [
    "### Числа"
   ]
  },
  {
   "cell_type": "code",
   "execution_count": 1,
   "id": "95c146ff",
   "metadata": {},
   "outputs": [
    {
     "name": "stdout",
     "output_type": "stream",
     "text": [
      "1 0.3 1e-10\n"
     ]
    }
   ],
   "source": [
    "number = 1\n",
    "double_number = 0.3\n",
    "very_smal_number = 1e-10\n",
    "print(number, double_number, very_smal_number)"
   ]
  },
  {
   "cell_type": "markdown",
   "id": "4f4be9a2",
   "metadata": {},
   "source": [
    "### Поддерживаемые операции"
   ]
  },
  {
   "cell_type": "code",
   "execution_count": 2,
   "id": "50ef82ec",
   "metadata": {},
   "outputs": [
    {
     "data": {
      "text/plain": [
       "3"
      ]
     },
     "execution_count": 2,
     "metadata": {},
     "output_type": "execute_result"
    }
   ],
   "source": [
    "1 + 2"
   ]
  },
  {
   "cell_type": "code",
   "execution_count": 3,
   "id": "9e39c6fb",
   "metadata": {},
   "outputs": [
    {
     "data": {
      "text/plain": [
       "-1"
      ]
     },
     "execution_count": 3,
     "metadata": {},
     "output_type": "execute_result"
    }
   ],
   "source": [
    "3 - 4"
   ]
  },
  {
   "cell_type": "code",
   "execution_count": 4,
   "id": "ead67014",
   "metadata": {},
   "outputs": [
    {
     "data": {
      "text/plain": [
       "2"
      ]
     },
     "execution_count": 4,
     "metadata": {},
     "output_type": "execute_result"
    }
   ],
   "source": [
    "1 * 2"
   ]
  },
  {
   "cell_type": "code",
   "execution_count": 5,
   "id": "d42cbe52",
   "metadata": {},
   "outputs": [
    {
     "data": {
      "text/plain": [
       "8"
      ]
     },
     "execution_count": 5,
     "metadata": {},
     "output_type": "execute_result"
    }
   ],
   "source": [
    "2 ** 3"
   ]
  },
  {
   "cell_type": "code",
   "execution_count": 6,
   "id": "725cb5ab",
   "metadata": {},
   "outputs": [
    {
     "data": {
      "text/plain": [
       "0.6666666666666666"
      ]
     },
     "execution_count": 6,
     "metadata": {},
     "output_type": "execute_result"
    }
   ],
   "source": [
    "2 / 3"
   ]
  },
  {
   "cell_type": "code",
   "execution_count": 7,
   "id": "ed34e34f",
   "metadata": {},
   "outputs": [
    {
     "data": {
      "text/plain": [
       "1"
      ]
     },
     "execution_count": 7,
     "metadata": {},
     "output_type": "execute_result"
    }
   ],
   "source": [
    "5 % 2"
   ]
  },
  {
   "cell_type": "markdown",
   "id": "75c63d62",
   "metadata": {},
   "source": [
    "### Строки"
   ]
  },
  {
   "cell_type": "code",
   "execution_count": 8,
   "id": "89bc030a",
   "metadata": {},
   "outputs": [
    {
     "name": "stdout",
     "output_type": "stream",
     "text": [
      "abc def\n"
     ]
    }
   ],
   "source": [
    "str1 = 'abc'\n",
    "str2 = \"def\"\n",
    "print(str1, str2)"
   ]
  },
  {
   "cell_type": "markdown",
   "id": "75b5de81",
   "metadata": {},
   "source": [
    "### Сложение строк"
   ]
  },
  {
   "cell_type": "code",
   "execution_count": 9,
   "id": "b7ade7f6",
   "metadata": {},
   "outputs": [
    {
     "data": {
      "text/plain": [
       "'abcdef'"
      ]
     },
     "execution_count": 9,
     "metadata": {},
     "output_type": "execute_result"
    }
   ],
   "source": [
    "\"abc\" + \"def\""
   ]
  },
  {
   "cell_type": "markdown",
   "id": "ebe3879c",
   "metadata": {},
   "source": [
    "### Умножение строк"
   ]
  },
  {
   "cell_type": "code",
   "execution_count": 10,
   "id": "e14ddf48",
   "metadata": {},
   "outputs": [
    {
     "data": {
      "text/plain": [
       "'abcabcabc'"
      ]
     },
     "execution_count": 10,
     "metadata": {},
     "output_type": "execute_result"
    }
   ],
   "source": [
    "\"abc\" * 3"
   ]
  },
  {
   "cell_type": "markdown",
   "id": "a0c3afcf",
   "metadata": {},
   "source": [
    "### Инъектирование в строку"
   ]
  },
  {
   "cell_type": "code",
   "execution_count": 11,
   "id": "935f903e",
   "metadata": {},
   "outputs": [
    {
     "data": {
      "text/plain": [
       "'abc1def'"
      ]
     },
     "execution_count": 11,
     "metadata": {},
     "output_type": "execute_result"
    }
   ],
   "source": [
    "\"abc\" + str(number) + \"def\""
   ]
  },
  {
   "cell_type": "code",
   "execution_count": 12,
   "id": "5615d104",
   "metadata": {},
   "outputs": [
    {
     "data": {
      "text/plain": [
       "'abc 1 abc'"
      ]
     },
     "execution_count": 12,
     "metadata": {},
     "output_type": "execute_result"
    }
   ],
   "source": [
    "f'abc {number} abc'"
   ]
  },
  {
   "cell_type": "code",
   "execution_count": 13,
   "id": "db811415",
   "metadata": {},
   "outputs": [
    {
     "data": {
      "text/plain": [
       "'abc 1, abc 0.3'"
      ]
     },
     "execution_count": 13,
     "metadata": {},
     "output_type": "execute_result"
    }
   ],
   "source": [
    "'abc {0}, abc {1}'.format(number, double_number)"
   ]
  },
  {
   "cell_type": "markdown",
   "id": "8bf6b26b",
   "metadata": {},
   "source": [
    "### Приведение типов"
   ]
  },
  {
   "cell_type": "code",
   "execution_count": 20,
   "id": "06bac34c",
   "metadata": {},
   "outputs": [],
   "source": [
    "one = 1"
   ]
  },
  {
   "cell_type": "code",
   "execution_count": 22,
   "id": "58c78a47",
   "metadata": {},
   "outputs": [
    {
     "data": {
      "text/plain": [
       "140194299496752"
      ]
     },
     "execution_count": 22,
     "metadata": {},
     "output_type": "execute_result"
    }
   ],
   "source": [
    "id(one)"
   ]
  },
  {
   "cell_type": "code",
   "execution_count": 25,
   "id": "894f0576",
   "metadata": {},
   "outputs": [],
   "source": [
    "stringa = \"a\""
   ]
  },
  {
   "cell_type": "code",
   "execution_count": 27,
   "id": "a97a70d1",
   "metadata": {},
   "outputs": [
    {
     "data": {
      "text/plain": [
       "140194298514800"
      ]
     },
     "execution_count": 27,
     "metadata": {},
     "output_type": "execute_result"
    }
   ],
   "source": [
    "id(stringa)"
   ]
  },
  {
   "cell_type": "code",
   "execution_count": 28,
   "id": "36f91123",
   "metadata": {},
   "outputs": [],
   "source": [
    "stringa += \"aa\""
   ]
  },
  {
   "cell_type": "code",
   "execution_count": 29,
   "id": "143913ba",
   "metadata": {},
   "outputs": [
    {
     "data": {
      "text/plain": [
       "140194243762480"
      ]
     },
     "execution_count": 29,
     "metadata": {},
     "output_type": "execute_result"
    }
   ],
   "source": [
    "id(stringa)"
   ]
  },
  {
   "cell_type": "code",
   "execution_count": 14,
   "id": "45fda5fb",
   "metadata": {},
   "outputs": [
    {
     "data": {
      "text/plain": [
       "'1'"
      ]
     },
     "execution_count": 14,
     "metadata": {},
     "output_type": "execute_result"
    }
   ],
   "source": [
    "str(1)"
   ]
  },
  {
   "cell_type": "code",
   "execution_count": 15,
   "id": "8c9c2cb6",
   "metadata": {},
   "outputs": [
    {
     "data": {
      "text/plain": [
       "1"
      ]
     },
     "execution_count": 15,
     "metadata": {},
     "output_type": "execute_result"
    }
   ],
   "source": [
    "int('1')"
   ]
  },
  {
   "cell_type": "markdown",
   "id": "955f7029",
   "metadata": {},
   "source": [
    "## Структуры данных"
   ]
  },
  {
   "cell_type": "markdown",
   "id": "1b293089",
   "metadata": {},
   "source": [
    "### Мутабельность\n",
    "\n",
    "Характеристика объекта в Python, описываемая как \"изменяемость объекта\".\n",
    "\n",
    "- Мутабельные объекты - изменяемы по адресу в памяти.\n",
    "- Иммутабельные - неизменяемые объекты по адресу в памяти."
   ]
  },
  {
   "cell_type": "markdown",
   "id": "91959bb8",
   "metadata": {},
   "source": [
    "### Кортежи\n",
    "\n",
    "- Иммутабельны\n",
    "- Могут содержать любой тип данных"
   ]
  },
  {
   "cell_type": "code",
   "execution_count": 33,
   "id": "c2d03b91",
   "metadata": {},
   "outputs": [
    {
     "data": {
      "text/plain": [
       "'s'"
      ]
     },
     "execution_count": 33,
     "metadata": {},
     "output_type": "execute_result"
    }
   ],
   "source": [
    "s = ('s')\n",
    "s"
   ]
  },
  {
   "cell_type": "code",
   "execution_count": 32,
   "id": "cf4d9ff1",
   "metadata": {},
   "outputs": [
    {
     "data": {
      "text/plain": [
       "('s',)"
      ]
     },
     "execution_count": 32,
     "metadata": {},
     "output_type": "execute_result"
    }
   ],
   "source": [
    "s = ('s',)\n",
    "s"
   ]
  },
  {
   "cell_type": "code",
   "execution_count": 37,
   "id": "092c147b",
   "metadata": {},
   "outputs": [
    {
     "data": {
      "text/plain": [
       "(1, 'a', {'a': 1}, [1, 2, 3])"
      ]
     },
     "execution_count": 37,
     "metadata": {},
     "output_type": "execute_result"
    }
   ],
   "source": [
    "a = (1, 'a', {\"a\": 1}, [1, 2, 3])\n",
    "a"
   ]
  },
  {
   "cell_type": "code",
   "execution_count": 45,
   "id": "b5736fda",
   "metadata": {},
   "outputs": [
    {
     "ename": "TypeError",
     "evalue": "'tuple' object does not support item assignment",
     "output_type": "error",
     "traceback": [
      "\u001b[0;31m---------------------------------------------------------------------------\u001b[0m",
      "\u001b[0;31mTypeError\u001b[0m                                 Traceback (most recent call last)",
      "\u001b[0;32m/tmp/ipykernel_52964/732724258.py\u001b[0m in \u001b[0;36m<module>\u001b[0;34m\u001b[0m\n\u001b[0;32m----> 1\u001b[0;31m \u001b[0ma\u001b[0m\u001b[0;34m[\u001b[0m\u001b[0;36m3\u001b[0m\u001b[0;34m]\u001b[0m \u001b[0;34m=\u001b[0m \u001b[0;34m[\u001b[0m\u001b[0;36m0\u001b[0m\u001b[0;34m]\u001b[0m\u001b[0;34m\u001b[0m\u001b[0;34m\u001b[0m\u001b[0m\n\u001b[0m",
      "\u001b[0;31mTypeError\u001b[0m: 'tuple' object does not support item assignment"
     ]
    }
   ],
   "source": [
    "a[3] = [0]"
   ]
  },
  {
   "cell_type": "markdown",
   "id": "1dd6c516",
   "metadata": {},
   "source": [
    "### Списки\n",
    "\n",
    "- Мутабельны\n",
    "- Могут содержать любой тип данных (в том числе список списков)\n",
    "\n",
    "Имеют следующие операции\n",
    "\n",
    "- Добавление\n",
    "- Удаление\n",
    "- Конкатенация\n",
    "- Умножение\n",
    "- Функциональная магия"
   ]
  },
  {
   "cell_type": "code",
   "execution_count": 51,
   "id": "766be5dc",
   "metadata": {},
   "outputs": [],
   "source": [
    "list1 = [1, 2, 3, 4, 5]"
   ]
  },
  {
   "cell_type": "code",
   "execution_count": 52,
   "id": "78ed61ac",
   "metadata": {},
   "outputs": [
    {
     "data": {
      "text/plain": [
       "[1, 2, 3, 4, 5, 6]"
      ]
     },
     "execution_count": 52,
     "metadata": {},
     "output_type": "execute_result"
    }
   ],
   "source": [
    "list1.append(6)\n",
    "list1"
   ]
  },
  {
   "cell_type": "code",
   "execution_count": 53,
   "id": "2adf956d",
   "metadata": {},
   "outputs": [
    {
     "data": {
      "text/plain": [
       "[1, 2, 3, 4, 6]"
      ]
     },
     "execution_count": 53,
     "metadata": {},
     "output_type": "execute_result"
    }
   ],
   "source": [
    "list1.remove(5)\n",
    "list1"
   ]
  },
  {
   "cell_type": "code",
   "execution_count": 54,
   "id": "8d99f4b5",
   "metadata": {},
   "outputs": [
    {
     "data": {
      "text/plain": [
       "6"
      ]
     },
     "execution_count": 54,
     "metadata": {},
     "output_type": "execute_result"
    }
   ],
   "source": [
    "list1.pop()"
   ]
  },
  {
   "cell_type": "code",
   "execution_count": 55,
   "id": "a1168ea0",
   "metadata": {},
   "outputs": [
    {
     "data": {
      "text/plain": [
       "[1, 2, 3, 4, 1, 2, 3, 4, 1, 2, 3, 4]"
      ]
     },
     "execution_count": 55,
     "metadata": {},
     "output_type": "execute_result"
    }
   ],
   "source": [
    "list1 * 3"
   ]
  },
  {
   "cell_type": "code",
   "execution_count": 56,
   "id": "3570fc94",
   "metadata": {},
   "outputs": [
    {
     "data": {
      "text/plain": [
       "[1, 2, 3, 4]"
      ]
     },
     "execution_count": 56,
     "metadata": {},
     "output_type": "execute_result"
    }
   ],
   "source": [
    "list2 = [3, 2, 1]\n",
    "list1 + list2\n",
    "list1"
   ]
  },
  {
   "cell_type": "code",
   "execution_count": 57,
   "id": "4172bec9",
   "metadata": {},
   "outputs": [
    {
     "data": {
      "text/plain": [
       "[1, 2, 3, 4, 3, 2, 1]"
      ]
     },
     "execution_count": 57,
     "metadata": {},
     "output_type": "execute_result"
    }
   ],
   "source": [
    "list1.extend(list2)\n",
    "list1"
   ]
  },
  {
   "cell_type": "markdown",
   "id": "2e7d1e71",
   "metadata": {},
   "source": [
    "## Очевидный способ обойти массив и предобработать данные"
   ]
  },
  {
   "cell_type": "code",
   "execution_count": 58,
   "id": "88576c87",
   "metadata": {},
   "outputs": [
    {
     "name": "stdout",
     "output_type": "stream",
     "text": [
      "2\n",
      "3\n",
      "4\n",
      "5\n",
      "4\n",
      "3\n",
      "2\n"
     ]
    }
   ],
   "source": [
    "for n in list1:\n",
    "    m = n + 1\n",
    "    print(m)"
   ]
  },
  {
   "cell_type": "code",
   "execution_count": 59,
   "id": "43577456",
   "metadata": {},
   "outputs": [
    {
     "data": {
      "text/plain": [
       "[1, 2, 3, 4, 3, 2, 1]"
      ]
     },
     "execution_count": 59,
     "metadata": {},
     "output_type": "execute_result"
    }
   ],
   "source": [
    "list1"
   ]
  },
  {
   "cell_type": "code",
   "execution_count": 60,
   "id": "997f34f7",
   "metadata": {},
   "outputs": [
    {
     "data": {
      "text/plain": [
       "[1, 2, 3, 4, 3, 2, 1]"
      ]
     },
     "execution_count": 60,
     "metadata": {},
     "output_type": "execute_result"
    }
   ],
   "source": [
    "for n in list1:\n",
    "    n += 1\n",
    "list1"
   ]
  },
  {
   "cell_type": "code",
   "execution_count": 62,
   "id": "ca5f1b78",
   "metadata": {},
   "outputs": [
    {
     "data": {
      "text/plain": [
       "[(0, 1), (1, 2), (2, 3), (3, 4), (4, 3), (5, 2), (6, 1)]"
      ]
     },
     "execution_count": 62,
     "metadata": {},
     "output_type": "execute_result"
    }
   ],
   "source": [
    "list(enumerate(list1))"
   ]
  },
  {
   "cell_type": "code",
   "execution_count": 63,
   "id": "dfb477eb",
   "metadata": {},
   "outputs": [
    {
     "data": {
      "text/plain": [
       "[2, 3, 4, 5, 4, 3, 2]"
      ]
     },
     "execution_count": 63,
     "metadata": {},
     "output_type": "execute_result"
    }
   ],
   "source": [
    "for i, n in enumerate(list1):\n",
    "    list1[i] += 1\n",
    "list1"
   ]
  },
  {
   "cell_type": "code",
   "execution_count": 65,
   "id": "3c5e0b0b",
   "metadata": {},
   "outputs": [
    {
     "data": {
      "text/plain": [
       "[4, 9, 16, 25, 16, 9, 4]"
      ]
     },
     "execution_count": 65,
     "metadata": {},
     "output_type": "execute_result"
    }
   ],
   "source": [
    "list3 = [x ** 2 for x in list1]\n",
    "list3"
   ]
  },
  {
   "cell_type": "code",
   "execution_count": 66,
   "id": "867cf7d5",
   "metadata": {},
   "outputs": [
    {
     "data": {
      "text/plain": [
       "[2, 3, 4, 5, 4, 3, 2]"
      ]
     },
     "execution_count": 66,
     "metadata": {},
     "output_type": "execute_result"
    }
   ],
   "source": [
    "list1"
   ]
  },
  {
   "cell_type": "markdown",
   "id": "0758b745",
   "metadata": {},
   "source": [
    "Кортежи имеют схожие операции, что и у списков, кроме изменения кортежа, поскольку он иммутабелен."
   ]
  },
  {
   "cell_type": "markdown",
   "id": "80928f6d",
   "metadata": {},
   "source": [
    "## Lambda-выражения\n",
    "\n",
    "Под lambda-выражениями будем понимать обработку каждого элемента списка одной операцией. Данный функциональный подход наиболее оптимизирован в Python для обработки большого массива данных и позволяет грамотно и лаконично задать процесс обработки в одну строку"
   ]
  },
  {
   "cell_type": "code",
   "execution_count": 71,
   "id": "0bc557da",
   "metadata": {},
   "outputs": [],
   "source": [
    "def more3(l):\n",
    "    result = []\n",
    "    for n in l:\n",
    "        if n > 3:\n",
    "            result.append(n)\n",
    "    return result #[x > 3  for x in l]"
   ]
  },
  {
   "cell_type": "code",
   "execution_count": 72,
   "id": "97883a44",
   "metadata": {},
   "outputs": [
    {
     "data": {
      "text/plain": [
       "[4, 5, 4]"
      ]
     },
     "execution_count": 72,
     "metadata": {},
     "output_type": "execute_result"
    }
   ],
   "source": [
    "more3(list1)"
   ]
  },
  {
   "cell_type": "code",
   "execution_count": 76,
   "id": "3f1dabaa",
   "metadata": {},
   "outputs": [],
   "source": [
    "def isMoreThan3(n):\n",
    "    return n > 3"
   ]
  },
  {
   "cell_type": "code",
   "execution_count": 77,
   "id": "480ce054",
   "metadata": {},
   "outputs": [
    {
     "data": {
      "text/plain": [
       "[4, 5, 4]"
      ]
     },
     "execution_count": 77,
     "metadata": {},
     "output_type": "execute_result"
    }
   ],
   "source": [
    "list(filter(isMoreThan3, list1))"
   ]
  },
  {
   "cell_type": "code",
   "execution_count": 73,
   "id": "6158be00",
   "metadata": {},
   "outputs": [
    {
     "data": {
      "text/plain": [
       "[4, 5, 4]"
      ]
     },
     "execution_count": 73,
     "metadata": {},
     "output_type": "execute_result"
    }
   ],
   "source": [
    "list4 = filter(lambda x: x > 3, list1)\n",
    "list(list4)"
   ]
  },
  {
   "cell_type": "code",
   "execution_count": 74,
   "id": "ca0be33b",
   "metadata": {},
   "outputs": [
    {
     "name": "stdout",
     "output_type": "stream",
     "text": [
      "750 ns ± 24.7 ns per loop (mean ± std. dev. of 7 runs, 1000000 loops each)\n"
     ]
    }
   ],
   "source": [
    "%timeit more3(list1)"
   ]
  },
  {
   "cell_type": "code",
   "execution_count": 79,
   "id": "452ea6cb",
   "metadata": {},
   "outputs": [
    {
     "name": "stdout",
     "output_type": "stream",
     "text": [
      "306 ns ± 8.95 ns per loop (mean ± std. dev. of 7 runs, 1000000 loops each)\n"
     ]
    }
   ],
   "source": [
    "%timeit filter(lambda x: x > 3, list1)"
   ]
  },
  {
   "cell_type": "code",
   "execution_count": 80,
   "id": "d11e17b1",
   "metadata": {},
   "outputs": [
    {
     "name": "stdout",
     "output_type": "stream",
     "text": [
      "224 ns ± 2.36 ns per loop (mean ± std. dev. of 7 runs, 1000000 loops each)\n"
     ]
    }
   ],
   "source": [
    "%timeit filter(isMoreThan3, list1)"
   ]
  },
  {
   "cell_type": "code",
   "execution_count": 81,
   "id": "8971ecad",
   "metadata": {},
   "outputs": [
    {
     "data": {
      "text/plain": [
       "[4, 6, 8, 10, 8, 6, 4]"
      ]
     },
     "execution_count": 81,
     "metadata": {},
     "output_type": "execute_result"
    }
   ],
   "source": [
    "list5 = map(lambda x: x * 2, list1)\n",
    "list(list5)"
   ]
  },
  {
   "cell_type": "code",
   "execution_count": 85,
   "id": "f5f72aa2",
   "metadata": {},
   "outputs": [
    {
     "data": {
      "text/plain": [
       "[('a', 1), ('b', 2), ('c', 3)]"
      ]
     },
     "execution_count": 85,
     "metadata": {},
     "output_type": "execute_result"
    }
   ],
   "source": [
    "strings = ['a', 'b', 'c']\n",
    "numbers = [1, 2, 3, 4, 5]\n",
    "list(zip(strings, numbers))"
   ]
  },
  {
   "cell_type": "code",
   "execution_count": 95,
   "id": "c3c7dbe5",
   "metadata": {},
   "outputs": [
    {
     "data": {
      "text/plain": [
       "120"
      ]
     },
     "execution_count": 95,
     "metadata": {},
     "output_type": "execute_result"
    }
   ],
   "source": [
    "from functools import reduce\n",
    "list6 = [1, 2, 3, 4, 5]\n",
    "reduce(lambda x, y: x * y, list6)"
   ]
  },
  {
   "cell_type": "code",
   "execution_count": 96,
   "id": "7a5a1a72",
   "metadata": {},
   "outputs": [
    {
     "data": {
      "text/plain": [
       "30"
      ]
     },
     "execution_count": 96,
     "metadata": {},
     "output_type": "execute_result"
    }
   ],
   "source": [
    "reduce(lambda x, y: x + y, map(lambda x: x * 2, list6))"
   ]
  },
  {
   "cell_type": "code",
   "execution_count": 97,
   "id": "45859736",
   "metadata": {},
   "outputs": [
    {
     "data": {
      "text/plain": [
       "3"
      ]
     },
     "execution_count": 97,
     "metadata": {},
     "output_type": "execute_result"
    }
   ],
   "source": [
    "sum([1, 2])"
   ]
  },
  {
   "cell_type": "code",
   "execution_count": 98,
   "id": "7bc285a1",
   "metadata": {},
   "outputs": [],
   "source": [
    "import numpy as np"
   ]
  },
  {
   "cell_type": "code",
   "execution_count": 111,
   "id": "c1444606",
   "metadata": {},
   "outputs": [
    {
     "data": {
      "text/plain": [
       "array([[6.92651904e-310, 4.66432981e-310, 0.00000000e+000,\n",
       "        0.00000000e+000],\n",
       "       [2.90379506e-057, 8.61659126e-043, 4.08659378e+179,\n",
       "        2.98711027e-032],\n",
       "       [2.87873039e+180, 4.91320478e-062, 1.27883586e+161,\n",
       "        8.02833005e-042]])"
      ]
     },
     "execution_count": 111,
     "metadata": {},
     "output_type": "execute_result"
    }
   ],
   "source": [
    "np.ndarray((3, 4))"
   ]
  },
  {
   "cell_type": "code",
   "execution_count": 114,
   "id": "0b987d7b",
   "metadata": {},
   "outputs": [
    {
     "data": {
      "text/plain": [
       "array([[0., 0., 0., 0., 0.],\n",
       "       [0., 0., 0., 0., 0.],\n",
       "       [0., 0., 0., 0., 0.],\n",
       "       [0., 0., 0., 0., 0.],\n",
       "       [0., 0., 0., 0., 0.]])"
      ]
     },
     "execution_count": 114,
     "metadata": {},
     "output_type": "execute_result"
    }
   ],
   "source": [
    "np.zeros((5, 5))"
   ]
  },
  {
   "cell_type": "code",
   "execution_count": 119,
   "id": "336abb9f",
   "metadata": {},
   "outputs": [
    {
     "data": {
      "text/plain": [
       "array([[0., 0., 0.],\n",
       "       [0., 0., 0.],\n",
       "       [0., 0., 0.]])"
      ]
     },
     "execution_count": 119,
     "metadata": {},
     "output_type": "execute_result"
    }
   ],
   "source": [
    "np.ones((3, 3)) + np.ones((3, 3))"
   ]
  },
  {
   "cell_type": "code",
   "execution_count": 125,
   "id": "9e7facde",
   "metadata": {},
   "outputs": [],
   "source": [
    "shaped = np.array([1, 2, 3, 4], dtype='int')"
   ]
  },
  {
   "cell_type": "code",
   "execution_count": 156,
   "id": "32f9c847",
   "metadata": {},
   "outputs": [
    {
     "data": {
      "text/plain": [
       "array([[1, 2],\n",
       "       [3, 4]])"
      ]
     },
     "execution_count": 156,
     "metadata": {},
     "output_type": "execute_result"
    }
   ],
   "source": [
    "shaped"
   ]
  },
  {
   "cell_type": "code",
   "execution_count": 127,
   "id": "94995997",
   "metadata": {},
   "outputs": [
    {
     "data": {
      "text/plain": [
       "array([[1, 2],\n",
       "       [3, 4]])"
      ]
     },
     "execution_count": 127,
     "metadata": {},
     "output_type": "execute_result"
    }
   ],
   "source": [
    "shaped.reshape(2, 2)"
   ]
  },
  {
   "cell_type": "code",
   "execution_count": 123,
   "id": "ad3aa7b4",
   "metadata": {},
   "outputs": [
    {
     "data": {
      "text/plain": [
       "array([[1],\n",
       "       [2],\n",
       "       [3],\n",
       "       [4]])"
      ]
     },
     "execution_count": 123,
     "metadata": {},
     "output_type": "execute_result"
    }
   ],
   "source": [
    "shaped.reshape(4, 1)"
   ]
  },
  {
   "cell_type": "code",
   "execution_count": 130,
   "id": "bf602f27",
   "metadata": {},
   "outputs": [
    {
     "data": {
      "text/plain": [
       "(2, 2)"
      ]
     },
     "execution_count": 130,
     "metadata": {},
     "output_type": "execute_result"
    }
   ],
   "source": [
    "shaped.reshape(2, 2).shape"
   ]
  },
  {
   "cell_type": "code",
   "execution_count": 134,
   "id": "1d59f018",
   "metadata": {},
   "outputs": [
    {
     "data": {
      "text/plain": [
       "array([1, 2, 3, 4])"
      ]
     },
     "execution_count": 134,
     "metadata": {},
     "output_type": "execute_result"
    }
   ],
   "source": [
    "shaped.reshape(2, 2).flatten()"
   ]
  },
  {
   "cell_type": "code",
   "execution_count": 171,
   "id": "341b6699",
   "metadata": {},
   "outputs": [
    {
     "data": {
      "text/plain": [
       "array([    0,     0,     0, 16404], dtype=int16)"
      ]
     },
     "execution_count": 171,
     "metadata": {},
     "output_type": "execute_result"
    }
   ],
   "source": [
    "shaped2 = np.ndarray(4, dtype='int16')\n",
    "shaped2"
   ]
  },
  {
   "cell_type": "code",
   "execution_count": 137,
   "id": "5ed6a267",
   "metadata": {},
   "outputs": [],
   "source": [
    "shaped = shaped.reshape(2, 2)\n",
    "shaped2 = shaped2.reshape(2, 2)"
   ]
  },
  {
   "cell_type": "code",
   "execution_count": 138,
   "id": "49c549df",
   "metadata": {},
   "outputs": [
    {
     "data": {
      "text/plain": [
       "array([[1, 2],\n",
       "       [3, 4]])"
      ]
     },
     "execution_count": 138,
     "metadata": {},
     "output_type": "execute_result"
    }
   ],
   "source": [
    "shaped"
   ]
  },
  {
   "cell_type": "code",
   "execution_count": 168,
   "id": "4dd03506",
   "metadata": {},
   "outputs": [
    {
     "data": {
      "text/plain": [
       "(2, 2)"
      ]
     },
     "execution_count": 168,
     "metadata": {},
     "output_type": "execute_result"
    }
   ],
   "source": [
    "shaped2.shape"
   ]
  },
  {
   "cell_type": "code",
   "execution_count": 144,
   "id": "95402010",
   "metadata": {},
   "outputs": [
    {
     "data": {
      "text/plain": [
       "(2, 4)"
      ]
     },
     "execution_count": 144,
     "metadata": {},
     "output_type": "execute_result"
    }
   ],
   "source": [
    "np.concatenate((shaped, shaped2), axis=1).shape"
   ]
  },
  {
   "cell_type": "code",
   "execution_count": 184,
   "id": "ed85371b",
   "metadata": {},
   "outputs": [
    {
     "data": {
      "text/plain": [
       "array([     94392664617276,                   0,     140191747881520,\n",
       "           140194299684464,                 784,                 128,\n",
       "               23048605692, 2891359550276660520, 8241879964965809201,\n",
       "       3556536777818333554, 2314861394126905388, 3484414059051229216,\n",
       "       2308706538487947308, 6582890602682130464, 2308706537849236533,\n",
       "       6566283579056201760, 2980641183310556212, 7599935853211230208,\n",
       "       8030516744137238382, 2338053659250470263])"
      ]
     },
     "execution_count": 184,
     "metadata": {},
     "output_type": "execute_result"
    }
   ],
   "source": [
    "list7 = np.ndarray(20, dtype='int')\n",
    "list7"
   ]
  },
  {
   "cell_type": "code",
   "execution_count": 149,
   "id": "c28f9679",
   "metadata": {},
   "outputs": [
    {
     "data": {
      "text/plain": [
       "array([     140194266064352, -6378000811680512050,      140194266923440,\n",
       "            140194266064496, -4628296560581731449])"
      ]
     },
     "execution_count": 149,
     "metadata": {},
     "output_type": "execute_result"
    }
   ],
   "source": [
    "list7[5:10]"
   ]
  },
  {
   "cell_type": "code",
   "execution_count": 150,
   "id": "2f113240",
   "metadata": {},
   "outputs": [
    {
     "data": {
      "text/plain": [
       "array([140194299384240, 140194266626224,               0,               0,\n",
       "                     0,               0,               0,               0,\n",
       "                     0,               0])"
      ]
     },
     "execution_count": 150,
     "metadata": {},
     "output_type": "execute_result"
    }
   ],
   "source": [
    "list7[10:]"
   ]
  },
  {
   "cell_type": "code",
   "execution_count": 151,
   "id": "8d82917e",
   "metadata": {},
   "outputs": [
    {
     "data": {
      "text/plain": [
       "140194306149120"
      ]
     },
     "execution_count": 151,
     "metadata": {},
     "output_type": "execute_result"
    }
   ],
   "source": [
    "np.max(list7)"
   ]
  },
  {
   "cell_type": "code",
   "execution_count": 152,
   "id": "bc84c778",
   "metadata": {},
   "outputs": [
    {
     "data": {
      "text/plain": [
       "-6378000811680512050"
      ]
     },
     "execution_count": 152,
     "metadata": {},
     "output_type": "execute_result"
    }
   ],
   "source": [
    "np.min(list7)"
   ]
  },
  {
   "cell_type": "code",
   "execution_count": 154,
   "id": "e6331893",
   "metadata": {},
   "outputs": [
    {
     "name": "stdout",
     "output_type": "stream",
     "text": [
      "4.23 µs ± 84.4 ns per loop (mean ± std. dev. of 7 runs, 100000 loops each)\n"
     ]
    }
   ],
   "source": [
    "%timeit np.sort(list7)"
   ]
  },
  {
   "cell_type": "code",
   "execution_count": 155,
   "id": "1318e734",
   "metadata": {},
   "outputs": [
    {
     "data": {
      "text/plain": [
       "array([[ 0.54030231, -0.41614684],\n",
       "       [-0.9899925 , -0.65364362]])"
      ]
     },
     "execution_count": 155,
     "metadata": {},
     "output_type": "execute_result"
    }
   ],
   "source": [
    "np.cos(shaped)"
   ]
  },
  {
   "cell_type": "code",
   "execution_count": 157,
   "id": "51c71a4d",
   "metadata": {},
   "outputs": [
    {
     "data": {
      "text/plain": [
       "array([[ 0.84147098,  0.90929743],\n",
       "       [ 0.14112001, -0.7568025 ]])"
      ]
     },
     "execution_count": 157,
     "metadata": {},
     "output_type": "execute_result"
    }
   ],
   "source": [
    "np.sin(shaped)"
   ]
  },
  {
   "cell_type": "code",
   "execution_count": 158,
   "id": "cde2d106",
   "metadata": {},
   "outputs": [
    {
     "data": {
      "text/plain": [
       "array([1.04719755, 0.79539883])"
      ]
     },
     "execution_count": 158,
     "metadata": {},
     "output_type": "execute_result"
    }
   ],
   "source": [
    "np.arccos([0.5, 0.7])"
   ]
  },
  {
   "cell_type": "code",
   "execution_count": 159,
   "id": "76be8a5b",
   "metadata": {},
   "outputs": [
    {
     "data": {
      "text/plain": [
       "array([[1., 1.],\n",
       "       [1., 1.]])"
      ]
     },
     "execution_count": 159,
     "metadata": {},
     "output_type": "execute_result"
    }
   ],
   "source": [
    "np.corrcoef(shaped)"
   ]
  },
  {
   "cell_type": "code",
   "execution_count": 164,
   "id": "185f56dd",
   "metadata": {},
   "outputs": [
    {
     "data": {
      "text/plain": [
       "array([1., 3., 5.])"
      ]
     },
     "execution_count": 164,
     "metadata": {},
     "output_type": "execute_result"
    }
   ],
   "source": [
    "np.linspace(1, 5, num=3)"
   ]
  },
  {
   "cell_type": "markdown",
   "id": "456ced82",
   "metadata": {},
   "source": [
    "### Словари\n",
    "\n",
    "- Ключ-значение\n",
    "- Мутабельны\n",
    "- Имеют отдельный список ключей и отдельный список значений\n",
    "- Имеют отдельное название - хэшмап"
   ]
  },
  {
   "cell_type": "code",
   "execution_count": 186,
   "id": "6d5d1c0e",
   "metadata": {},
   "outputs": [
    {
     "data": {
      "text/plain": [
       "{'a': 1}"
      ]
     },
     "execution_count": 186,
     "metadata": {},
     "output_type": "execute_result"
    }
   ],
   "source": [
    "dictionary = dict({'a': 1})\n",
    "dictionary"
   ]
  },
  {
   "cell_type": "code",
   "execution_count": 188,
   "id": "0e28d164",
   "metadata": {},
   "outputs": [
    {
     "data": {
      "text/plain": [
       "{'a': 1, 'b': 3}"
      ]
     },
     "execution_count": 188,
     "metadata": {},
     "output_type": "execute_result"
    }
   ],
   "source": [
    "dictionary['b'] = 3\n",
    "dictionary"
   ]
  },
  {
   "cell_type": "code",
   "execution_count": 189,
   "id": "744e8ff6",
   "metadata": {},
   "outputs": [
    {
     "data": {
      "text/plain": [
       "dict_keys(['a', 'b'])"
      ]
     },
     "execution_count": 189,
     "metadata": {},
     "output_type": "execute_result"
    }
   ],
   "source": [
    "dictionary.keys()"
   ]
  },
  {
   "cell_type": "code",
   "execution_count": 190,
   "id": "62ac544d",
   "metadata": {},
   "outputs": [
    {
     "data": {
      "text/plain": [
       "dict_values([1, 3])"
      ]
     },
     "execution_count": 190,
     "metadata": {},
     "output_type": "execute_result"
    }
   ],
   "source": [
    "dictionary.values()"
   ]
  },
  {
   "cell_type": "code",
   "execution_count": 198,
   "id": "30620196",
   "metadata": {},
   "outputs": [
    {
     "name": "stdout",
     "output_type": "stream",
     "text": [
      "1\n",
      "3\n"
     ]
    }
   ],
   "source": [
    "for n in dictionary:\n",
    "    print(dictionary[n])"
   ]
  },
  {
   "cell_type": "code",
   "execution_count": 200,
   "id": "7d35ddcf",
   "metadata": {},
   "outputs": [
    {
     "data": {
      "text/plain": [
       "1"
      ]
     },
     "execution_count": 200,
     "metadata": {},
     "output_type": "execute_result"
    }
   ],
   "source": [
    "dictionary['a']"
   ]
  },
  {
   "cell_type": "markdown",
   "id": "99478f2a",
   "metadata": {},
   "source": [
    "## Попробуем сохранить один из листов"
   ]
  },
  {
   "cell_type": "code",
   "execution_count": 203,
   "id": "c84766af",
   "metadata": {},
   "outputs": [
    {
     "data": {
      "text/plain": [
       "[2, 3, 4, 5, 4, 3, 2]"
      ]
     },
     "execution_count": 203,
     "metadata": {},
     "output_type": "execute_result"
    }
   ],
   "source": [
    "list1"
   ]
  },
  {
   "cell_type": "code",
   "execution_count": 202,
   "id": "ce701217",
   "metadata": {},
   "outputs": [],
   "source": [
    "textfile = open('list1.txt', 'w')\n",
    "for n in list1:\n",
    "    textfile.write(str(n) + '\\n')\n",
    "textfile.close()"
   ]
  },
  {
   "cell_type": "markdown",
   "id": "50ec220d",
   "metadata": {},
   "source": [
    "## Попробуем загрузить"
   ]
  },
  {
   "cell_type": "code",
   "execution_count": 204,
   "id": "867f257f",
   "metadata": {},
   "outputs": [
    {
     "data": {
      "text/plain": [
       "['2\\n', '3\\n', '4\\n', '5\\n', '4\\n', '3\\n', '2\\n']"
      ]
     },
     "execution_count": 204,
     "metadata": {},
     "output_type": "execute_result"
    }
   ],
   "source": [
    "newfile = open('list1.txt', 'r')\n",
    "list1 = newfile.readlines()\n",
    "newfile.close()\n",
    "list1"
   ]
  },
  {
   "cell_type": "code",
   "execution_count": 205,
   "id": "239ddba2",
   "metadata": {},
   "outputs": [
    {
     "data": {
      "text/plain": [
       "[2, 3, 4, 5, 4, 3, 2]"
      ]
     },
     "execution_count": 205,
     "metadata": {},
     "output_type": "execute_result"
    }
   ],
   "source": [
    "list1 = list(map(lambda x: int(x), list1))\n",
    "list1"
   ]
  },
  {
   "cell_type": "code",
   "execution_count": 206,
   "id": "675d3003",
   "metadata": {},
   "outputs": [],
   "source": [
    "from sklearn.datasets import load_wine"
   ]
  },
  {
   "cell_type": "code",
   "execution_count": 207,
   "id": "c61c3960",
   "metadata": {},
   "outputs": [],
   "source": [
    "wine = load_wine()"
   ]
  },
  {
   "cell_type": "code",
   "execution_count": 208,
   "id": "31fc473f",
   "metadata": {},
   "outputs": [
    {
     "data": {
      "text/plain": [
       "{'data': array([[1.423e+01, 1.710e+00, 2.430e+00, ..., 1.040e+00, 3.920e+00,\n",
       "         1.065e+03],\n",
       "        [1.320e+01, 1.780e+00, 2.140e+00, ..., 1.050e+00, 3.400e+00,\n",
       "         1.050e+03],\n",
       "        [1.316e+01, 2.360e+00, 2.670e+00, ..., 1.030e+00, 3.170e+00,\n",
       "         1.185e+03],\n",
       "        ...,\n",
       "        [1.327e+01, 4.280e+00, 2.260e+00, ..., 5.900e-01, 1.560e+00,\n",
       "         8.350e+02],\n",
       "        [1.317e+01, 2.590e+00, 2.370e+00, ..., 6.000e-01, 1.620e+00,\n",
       "         8.400e+02],\n",
       "        [1.413e+01, 4.100e+00, 2.740e+00, ..., 6.100e-01, 1.600e+00,\n",
       "         5.600e+02]]),\n",
       " 'target': array([0, 0, 0, 0, 0, 0, 0, 0, 0, 0, 0, 0, 0, 0, 0, 0, 0, 0, 0, 0, 0, 0,\n",
       "        0, 0, 0, 0, 0, 0, 0, 0, 0, 0, 0, 0, 0, 0, 0, 0, 0, 0, 0, 0, 0, 0,\n",
       "        0, 0, 0, 0, 0, 0, 0, 0, 0, 0, 0, 0, 0, 0, 0, 1, 1, 1, 1, 1, 1, 1,\n",
       "        1, 1, 1, 1, 1, 1, 1, 1, 1, 1, 1, 1, 1, 1, 1, 1, 1, 1, 1, 1, 1, 1,\n",
       "        1, 1, 1, 1, 1, 1, 1, 1, 1, 1, 1, 1, 1, 1, 1, 1, 1, 1, 1, 1, 1, 1,\n",
       "        1, 1, 1, 1, 1, 1, 1, 1, 1, 1, 1, 1, 1, 1, 1, 1, 1, 1, 1, 1, 2, 2,\n",
       "        2, 2, 2, 2, 2, 2, 2, 2, 2, 2, 2, 2, 2, 2, 2, 2, 2, 2, 2, 2, 2, 2,\n",
       "        2, 2, 2, 2, 2, 2, 2, 2, 2, 2, 2, 2, 2, 2, 2, 2, 2, 2, 2, 2, 2, 2,\n",
       "        2, 2]),\n",
       " 'frame': None,\n",
       " 'target_names': array(['class_0', 'class_1', 'class_2'], dtype='<U7'),\n",
       " 'DESCR': '.. _wine_dataset:\\n\\nWine recognition dataset\\n------------------------\\n\\n**Data Set Characteristics:**\\n\\n    :Number of Instances: 178 (50 in each of three classes)\\n    :Number of Attributes: 13 numeric, predictive attributes and the class\\n    :Attribute Information:\\n \\t\\t- Alcohol\\n \\t\\t- Malic acid\\n \\t\\t- Ash\\n\\t\\t- Alcalinity of ash  \\n \\t\\t- Magnesium\\n\\t\\t- Total phenols\\n \\t\\t- Flavanoids\\n \\t\\t- Nonflavanoid phenols\\n \\t\\t- Proanthocyanins\\n\\t\\t- Color intensity\\n \\t\\t- Hue\\n \\t\\t- OD280/OD315 of diluted wines\\n \\t\\t- Proline\\n\\n    - class:\\n            - class_0\\n            - class_1\\n            - class_2\\n\\t\\t\\n    :Summary Statistics:\\n    \\n    ============================= ==== ===== ======= =====\\n                                   Min   Max   Mean     SD\\n    ============================= ==== ===== ======= =====\\n    Alcohol:                      11.0  14.8    13.0   0.8\\n    Malic Acid:                   0.74  5.80    2.34  1.12\\n    Ash:                          1.36  3.23    2.36  0.27\\n    Alcalinity of Ash:            10.6  30.0    19.5   3.3\\n    Magnesium:                    70.0 162.0    99.7  14.3\\n    Total Phenols:                0.98  3.88    2.29  0.63\\n    Flavanoids:                   0.34  5.08    2.03  1.00\\n    Nonflavanoid Phenols:         0.13  0.66    0.36  0.12\\n    Proanthocyanins:              0.41  3.58    1.59  0.57\\n    Colour Intensity:              1.3  13.0     5.1   2.3\\n    Hue:                          0.48  1.71    0.96  0.23\\n    OD280/OD315 of diluted wines: 1.27  4.00    2.61  0.71\\n    Proline:                       278  1680     746   315\\n    ============================= ==== ===== ======= =====\\n\\n    :Missing Attribute Values: None\\n    :Class Distribution: class_0 (59), class_1 (71), class_2 (48)\\n    :Creator: R.A. Fisher\\n    :Donor: Michael Marshall (MARSHALL%PLU@io.arc.nasa.gov)\\n    :Date: July, 1988\\n\\nThis is a copy of UCI ML Wine recognition datasets.\\nhttps://archive.ics.uci.edu/ml/machine-learning-databases/wine/wine.data\\n\\nThe data is the results of a chemical analysis of wines grown in the same\\nregion in Italy by three different cultivators. There are thirteen different\\nmeasurements taken for different constituents found in the three types of\\nwine.\\n\\nOriginal Owners: \\n\\nForina, M. et al, PARVUS - \\nAn Extendible Package for Data Exploration, Classification and Correlation. \\nInstitute of Pharmaceutical and Food Analysis and Technologies,\\nVia Brigata Salerno, 16147 Genoa, Italy.\\n\\nCitation:\\n\\nLichman, M. (2013). UCI Machine Learning Repository\\n[https://archive.ics.uci.edu/ml]. Irvine, CA: University of California,\\nSchool of Information and Computer Science. \\n\\n.. topic:: References\\n\\n  (1) S. Aeberhard, D. Coomans and O. de Vel, \\n  Comparison of Classifiers in High Dimensional Settings, \\n  Tech. Rep. no. 92-02, (1992), Dept. of Computer Science and Dept. of  \\n  Mathematics and Statistics, James Cook University of North Queensland. \\n  (Also submitted to Technometrics). \\n\\n  The data was used with many others for comparing various \\n  classifiers. The classes are separable, though only RDA \\n  has achieved 100% correct classification. \\n  (RDA : 100%, QDA 99.4%, LDA 98.9%, 1NN 96.1% (z-transformed data)) \\n  (All results using the leave-one-out technique) \\n\\n  (2) S. Aeberhard, D. Coomans and O. de Vel, \\n  \"THE CLASSIFICATION PERFORMANCE OF RDA\" \\n  Tech. Rep. no. 92-01, (1992), Dept. of Computer Science and Dept. of \\n  Mathematics and Statistics, James Cook University of North Queensland. \\n  (Also submitted to Journal of Chemometrics).\\n',\n",
       " 'feature_names': ['alcohol',\n",
       "  'malic_acid',\n",
       "  'ash',\n",
       "  'alcalinity_of_ash',\n",
       "  'magnesium',\n",
       "  'total_phenols',\n",
       "  'flavanoids',\n",
       "  'nonflavanoid_phenols',\n",
       "  'proanthocyanins',\n",
       "  'color_intensity',\n",
       "  'hue',\n",
       "  'od280/od315_of_diluted_wines',\n",
       "  'proline']}"
      ]
     },
     "execution_count": 208,
     "metadata": {},
     "output_type": "execute_result"
    }
   ],
   "source": [
    "wine"
   ]
  },
  {
   "cell_type": "markdown",
   "id": "13ad05b0",
   "metadata": {},
   "source": [
    "### JSON\n",
    "\n",
    "Формат хранения данных в виде словарей из простейших объектов. Является стандартном для практически всех языков программирования. Пришел из JavaScript. "
   ]
  },
  {
   "cell_type": "code",
   "execution_count": 225,
   "id": "20df804a",
   "metadata": {},
   "outputs": [],
   "source": [
    "import json\n",
    "from numpyencoder import NumpyEncoder\n",
    "import datetime"
   ]
  },
  {
   "cell_type": "code",
   "execution_count": 222,
   "id": "76fb89ca",
   "metadata": {},
   "outputs": [],
   "source": [
    "json_str = json.dumps(wine, indent=4, sort_keys=True,\n",
    "              separators=(',\\n', ':\\t'), ensure_ascii=False,\n",
    "              cls=NumpyEncoder)"
   ]
  },
  {
   "cell_type": "code",
   "execution_count": 231,
   "id": "0f1c1335",
   "metadata": {},
   "outputs": [],
   "source": [
    "obj = {\n",
    "    \"title\": \"Service\",\n",
    "    \"content\": \"this is a recommendation\",\n",
    "    \"date\": str(datetime.datetime.now())\n",
    "}"
   ]
  },
  {
   "cell_type": "code",
   "execution_count": 232,
   "id": "65b498cb",
   "metadata": {},
   "outputs": [],
   "source": [
    "json_str = json.dumps(obj)"
   ]
  },
  {
   "cell_type": "code",
   "execution_count": 233,
   "id": "5661add1",
   "metadata": {},
   "outputs": [],
   "source": [
    "file = open('datetimeexample.json', 'w')\n",
    "file.write(json_str)\n",
    "file.close()"
   ]
  },
  {
   "cell_type": "code",
   "execution_count": 234,
   "id": "eaae4fc2",
   "metadata": {},
   "outputs": [
    {
     "data": {
      "text/plain": [
       "{'title': 'Service',\n",
       " 'content': 'this is a recommendation',\n",
       " 'date': '2021-09-15 20:23:53.160856'}"
      ]
     },
     "execution_count": 234,
     "metadata": {},
     "output_type": "execute_result"
    }
   ],
   "source": [
    "file = open('datetimeexample.json', 'r')\n",
    "json_str = file.read()\n",
    "wine = json.loads(json_str)\n",
    "wine"
   ]
  },
  {
   "cell_type": "markdown",
   "id": "36396f4c",
   "metadata": {},
   "source": [
    "## Датафреймы\n",
    "\n",
    "Для обработки данных в питоне обычно используют датафреймы. В датафреймах удобно работать с различного рода таблицами, проводить над ними операции, использовать некоторые операции из баз данных. "
   ]
  },
  {
   "cell_type": "code",
   "execution_count": 235,
   "id": "f06545d5",
   "metadata": {},
   "outputs": [],
   "source": [
    "import pandas as pd"
   ]
  },
  {
   "cell_type": "code",
   "execution_count": 240,
   "id": "0d81ef0c",
   "metadata": {},
   "outputs": [],
   "source": [
    "ser = pd.Series([1, 2, 3], index=[3, 2, 1])"
   ]
  },
  {
   "cell_type": "code",
   "execution_count": 251,
   "id": "8c8efb29",
   "metadata": {},
   "outputs": [
    {
     "data": {
      "text/plain": [
       "3    1\n",
       "2    2\n",
       "1    3\n",
       "dtype: int64"
      ]
     },
     "execution_count": 251,
     "metadata": {},
     "output_type": "execute_result"
    }
   ],
   "source": [
    "ser"
   ]
  },
  {
   "cell_type": "code",
   "execution_count": 248,
   "id": "32986ad9",
   "metadata": {},
   "outputs": [
    {
     "data": {
      "text/plain": [
       "[Int64Index([3, 2, 1], dtype='int64')]"
      ]
     },
     "execution_count": 248,
     "metadata": {},
     "output_type": "execute_result"
    }
   ],
   "source": [
    "ser.axes"
   ]
  },
  {
   "cell_type": "code",
   "execution_count": 249,
   "id": "512af0ec",
   "metadata": {},
   "outputs": [
    {
     "data": {
      "text/html": [
       "<div>\n",
       "<style scoped>\n",
       "    .dataframe tbody tr th:only-of-type {\n",
       "        vertical-align: middle;\n",
       "    }\n",
       "\n",
       "    .dataframe tbody tr th {\n",
       "        vertical-align: top;\n",
       "    }\n",
       "\n",
       "    .dataframe thead th {\n",
       "        text-align: right;\n",
       "    }\n",
       "</style>\n",
       "<table border=\"1\" class=\"dataframe\">\n",
       "  <thead>\n",
       "    <tr style=\"text-align: right;\">\n",
       "      <th></th>\n",
       "      <th>a</th>\n",
       "      <th>b</th>\n",
       "    </tr>\n",
       "  </thead>\n",
       "  <tbody>\n",
       "    <tr>\n",
       "      <th>0</th>\n",
       "      <td>1</td>\n",
       "      <td>2</td>\n",
       "    </tr>\n",
       "  </tbody>\n",
       "</table>\n",
       "</div>"
      ],
      "text/plain": [
       "   a  b\n",
       "0  1  2"
      ]
     },
     "execution_count": 249,
     "metadata": {},
     "output_type": "execute_result"
    }
   ],
   "source": [
    "df = pd.DataFrame({'a': [1], 'b': [2]})\n",
    "df"
   ]
  },
  {
   "cell_type": "code",
   "execution_count": 254,
   "id": "3229c72a",
   "metadata": {},
   "outputs": [
    {
     "data": {
      "text/plain": [
       "pandas.core.frame.DataFrame"
      ]
     },
     "execution_count": 254,
     "metadata": {},
     "output_type": "execute_result"
    }
   ],
   "source": [
    "type(df)"
   ]
  },
  {
   "cell_type": "code",
   "execution_count": 258,
   "id": "88c4441d",
   "metadata": {},
   "outputs": [],
   "source": [
    "df = df.append({'a': 2, 'b': 3}, ignore_index=True)"
   ]
  },
  {
   "cell_type": "code",
   "execution_count": 259,
   "id": "d5551bc8",
   "metadata": {},
   "outputs": [
    {
     "data": {
      "text/html": [
       "<div>\n",
       "<style scoped>\n",
       "    .dataframe tbody tr th:only-of-type {\n",
       "        vertical-align: middle;\n",
       "    }\n",
       "\n",
       "    .dataframe tbody tr th {\n",
       "        vertical-align: top;\n",
       "    }\n",
       "\n",
       "    .dataframe thead th {\n",
       "        text-align: right;\n",
       "    }\n",
       "</style>\n",
       "<table border=\"1\" class=\"dataframe\">\n",
       "  <thead>\n",
       "    <tr style=\"text-align: right;\">\n",
       "      <th></th>\n",
       "      <th>a</th>\n",
       "      <th>b</th>\n",
       "    </tr>\n",
       "  </thead>\n",
       "  <tbody>\n",
       "    <tr>\n",
       "      <th>0</th>\n",
       "      <td>1</td>\n",
       "      <td>2</td>\n",
       "    </tr>\n",
       "    <tr>\n",
       "      <th>1</th>\n",
       "      <td>2</td>\n",
       "      <td>3</td>\n",
       "    </tr>\n",
       "  </tbody>\n",
       "</table>\n",
       "</div>"
      ],
      "text/plain": [
       "   a  b\n",
       "0  1  2\n",
       "1  2  3"
      ]
     },
     "execution_count": 259,
     "metadata": {},
     "output_type": "execute_result"
    }
   ],
   "source": [
    "df"
   ]
  },
  {
   "cell_type": "code",
   "execution_count": 351,
   "id": "e75c4c9b",
   "metadata": {},
   "outputs": [],
   "source": [
    "df = pd.read_csv('TSLA.csv')"
   ]
  },
  {
   "cell_type": "code",
   "execution_count": 261,
   "id": "1d065fc9",
   "metadata": {},
   "outputs": [
    {
     "data": {
      "text/html": [
       "<div>\n",
       "<style scoped>\n",
       "    .dataframe tbody tr th:only-of-type {\n",
       "        vertical-align: middle;\n",
       "    }\n",
       "\n",
       "    .dataframe tbody tr th {\n",
       "        vertical-align: top;\n",
       "    }\n",
       "\n",
       "    .dataframe thead th {\n",
       "        text-align: right;\n",
       "    }\n",
       "</style>\n",
       "<table border=\"1\" class=\"dataframe\">\n",
       "  <thead>\n",
       "    <tr style=\"text-align: right;\">\n",
       "      <th></th>\n",
       "      <th>Date</th>\n",
       "      <th>Open</th>\n",
       "      <th>High</th>\n",
       "      <th>Low</th>\n",
       "      <th>Close</th>\n",
       "      <th>Adj Close</th>\n",
       "      <th>Volume</th>\n",
       "    </tr>\n",
       "  </thead>\n",
       "  <tbody>\n",
       "    <tr>\n",
       "      <th>0</th>\n",
       "      <td>2010-06-29</td>\n",
       "      <td>3.800000</td>\n",
       "      <td>5.000000</td>\n",
       "      <td>3.508000</td>\n",
       "      <td>4.778000</td>\n",
       "      <td>4.778000</td>\n",
       "      <td>93831500</td>\n",
       "    </tr>\n",
       "    <tr>\n",
       "      <th>1</th>\n",
       "      <td>2010-06-30</td>\n",
       "      <td>5.158000</td>\n",
       "      <td>6.084000</td>\n",
       "      <td>4.660000</td>\n",
       "      <td>4.766000</td>\n",
       "      <td>4.766000</td>\n",
       "      <td>85935500</td>\n",
       "    </tr>\n",
       "    <tr>\n",
       "      <th>2</th>\n",
       "      <td>2010-07-01</td>\n",
       "      <td>5.000000</td>\n",
       "      <td>5.184000</td>\n",
       "      <td>4.054000</td>\n",
       "      <td>4.392000</td>\n",
       "      <td>4.392000</td>\n",
       "      <td>41094000</td>\n",
       "    </tr>\n",
       "    <tr>\n",
       "      <th>3</th>\n",
       "      <td>2010-07-02</td>\n",
       "      <td>4.600000</td>\n",
       "      <td>4.620000</td>\n",
       "      <td>3.742000</td>\n",
       "      <td>3.840000</td>\n",
       "      <td>3.840000</td>\n",
       "      <td>25699000</td>\n",
       "    </tr>\n",
       "    <tr>\n",
       "      <th>4</th>\n",
       "      <td>2010-07-06</td>\n",
       "      <td>4.000000</td>\n",
       "      <td>4.000000</td>\n",
       "      <td>3.166000</td>\n",
       "      <td>3.222000</td>\n",
       "      <td>3.222000</td>\n",
       "      <td>34334500</td>\n",
       "    </tr>\n",
       "    <tr>\n",
       "      <th>...</th>\n",
       "      <td>...</td>\n",
       "      <td>...</td>\n",
       "      <td>...</td>\n",
       "      <td>...</td>\n",
       "      <td>...</td>\n",
       "      <td>...</td>\n",
       "      <td>...</td>\n",
       "    </tr>\n",
       "    <tr>\n",
       "      <th>2808</th>\n",
       "      <td>2021-08-24</td>\n",
       "      <td>710.679993</td>\n",
       "      <td>715.219971</td>\n",
       "      <td>702.640015</td>\n",
       "      <td>708.489990</td>\n",
       "      <td>708.489990</td>\n",
       "      <td>13083100</td>\n",
       "    </tr>\n",
       "    <tr>\n",
       "      <th>2809</th>\n",
       "      <td>2021-08-25</td>\n",
       "      <td>707.030029</td>\n",
       "      <td>716.969971</td>\n",
       "      <td>704.000000</td>\n",
       "      <td>711.200012</td>\n",
       "      <td>711.200012</td>\n",
       "      <td>12645600</td>\n",
       "    </tr>\n",
       "    <tr>\n",
       "      <th>2810</th>\n",
       "      <td>2021-08-26</td>\n",
       "      <td>708.309998</td>\n",
       "      <td>715.400024</td>\n",
       "      <td>697.619995</td>\n",
       "      <td>701.159973</td>\n",
       "      <td>701.159973</td>\n",
       "      <td>13214300</td>\n",
       "    </tr>\n",
       "    <tr>\n",
       "      <th>2811</th>\n",
       "      <td>2021-08-27</td>\n",
       "      <td>705.000000</td>\n",
       "      <td>715.000000</td>\n",
       "      <td>702.099976</td>\n",
       "      <td>711.919983</td>\n",
       "      <td>711.919983</td>\n",
       "      <td>13762100</td>\n",
       "    </tr>\n",
       "    <tr>\n",
       "      <th>2812</th>\n",
       "      <td>2021-08-30</td>\n",
       "      <td>714.719971</td>\n",
       "      <td>731.000000</td>\n",
       "      <td>712.729980</td>\n",
       "      <td>730.909973</td>\n",
       "      <td>730.909973</td>\n",
       "      <td>18502400</td>\n",
       "    </tr>\n",
       "  </tbody>\n",
       "</table>\n",
       "<p>2813 rows × 7 columns</p>\n",
       "</div>"
      ],
      "text/plain": [
       "            Date        Open        High         Low       Close   Adj Close  \\\n",
       "0     2010-06-29    3.800000    5.000000    3.508000    4.778000    4.778000   \n",
       "1     2010-06-30    5.158000    6.084000    4.660000    4.766000    4.766000   \n",
       "2     2010-07-01    5.000000    5.184000    4.054000    4.392000    4.392000   \n",
       "3     2010-07-02    4.600000    4.620000    3.742000    3.840000    3.840000   \n",
       "4     2010-07-06    4.000000    4.000000    3.166000    3.222000    3.222000   \n",
       "...          ...         ...         ...         ...         ...         ...   \n",
       "2808  2021-08-24  710.679993  715.219971  702.640015  708.489990  708.489990   \n",
       "2809  2021-08-25  707.030029  716.969971  704.000000  711.200012  711.200012   \n",
       "2810  2021-08-26  708.309998  715.400024  697.619995  701.159973  701.159973   \n",
       "2811  2021-08-27  705.000000  715.000000  702.099976  711.919983  711.919983   \n",
       "2812  2021-08-30  714.719971  731.000000  712.729980  730.909973  730.909973   \n",
       "\n",
       "        Volume  \n",
       "0     93831500  \n",
       "1     85935500  \n",
       "2     41094000  \n",
       "3     25699000  \n",
       "4     34334500  \n",
       "...        ...  \n",
       "2808  13083100  \n",
       "2809  12645600  \n",
       "2810  13214300  \n",
       "2811  13762100  \n",
       "2812  18502400  \n",
       "\n",
       "[2813 rows x 7 columns]"
      ]
     },
     "execution_count": 261,
     "metadata": {},
     "output_type": "execute_result"
    }
   ],
   "source": [
    "df"
   ]
  },
  {
   "cell_type": "code",
   "execution_count": 266,
   "id": "47dbdd67",
   "metadata": {},
   "outputs": [
    {
     "data": {
      "text/html": [
       "<div>\n",
       "<style scoped>\n",
       "    .dataframe tbody tr th:only-of-type {\n",
       "        vertical-align: middle;\n",
       "    }\n",
       "\n",
       "    .dataframe tbody tr th {\n",
       "        vertical-align: top;\n",
       "    }\n",
       "\n",
       "    .dataframe thead th {\n",
       "        text-align: right;\n",
       "    }\n",
       "</style>\n",
       "<table border=\"1\" class=\"dataframe\">\n",
       "  <thead>\n",
       "    <tr style=\"text-align: right;\">\n",
       "      <th></th>\n",
       "      <th>Date</th>\n",
       "      <th>Open</th>\n",
       "      <th>High</th>\n",
       "      <th>Low</th>\n",
       "      <th>Close</th>\n",
       "      <th>Adj Close</th>\n",
       "      <th>Volume</th>\n",
       "    </tr>\n",
       "  </thead>\n",
       "  <tbody>\n",
       "    <tr>\n",
       "      <th>0</th>\n",
       "      <td>2010-06-29</td>\n",
       "      <td>3.800</td>\n",
       "      <td>5.000</td>\n",
       "      <td>3.508</td>\n",
       "      <td>4.778</td>\n",
       "      <td>4.778</td>\n",
       "      <td>93831500</td>\n",
       "    </tr>\n",
       "    <tr>\n",
       "      <th>1</th>\n",
       "      <td>2010-06-30</td>\n",
       "      <td>5.158</td>\n",
       "      <td>6.084</td>\n",
       "      <td>4.660</td>\n",
       "      <td>4.766</td>\n",
       "      <td>4.766</td>\n",
       "      <td>85935500</td>\n",
       "    </tr>\n",
       "    <tr>\n",
       "      <th>2</th>\n",
       "      <td>2010-07-01</td>\n",
       "      <td>5.000</td>\n",
       "      <td>5.184</td>\n",
       "      <td>4.054</td>\n",
       "      <td>4.392</td>\n",
       "      <td>4.392</td>\n",
       "      <td>41094000</td>\n",
       "    </tr>\n",
       "    <tr>\n",
       "      <th>3</th>\n",
       "      <td>2010-07-02</td>\n",
       "      <td>4.600</td>\n",
       "      <td>4.620</td>\n",
       "      <td>3.742</td>\n",
       "      <td>3.840</td>\n",
       "      <td>3.840</td>\n",
       "      <td>25699000</td>\n",
       "    </tr>\n",
       "    <tr>\n",
       "      <th>4</th>\n",
       "      <td>2010-07-06</td>\n",
       "      <td>4.000</td>\n",
       "      <td>4.000</td>\n",
       "      <td>3.166</td>\n",
       "      <td>3.222</td>\n",
       "      <td>3.222</td>\n",
       "      <td>34334500</td>\n",
       "    </tr>\n",
       "  </tbody>\n",
       "</table>\n",
       "</div>"
      ],
      "text/plain": [
       "         Date   Open   High    Low  Close  Adj Close    Volume\n",
       "0  2010-06-29  3.800  5.000  3.508  4.778      4.778  93831500\n",
       "1  2010-06-30  5.158  6.084  4.660  4.766      4.766  85935500\n",
       "2  2010-07-01  5.000  5.184  4.054  4.392      4.392  41094000\n",
       "3  2010-07-02  4.600  4.620  3.742  3.840      3.840  25699000\n",
       "4  2010-07-06  4.000  4.000  3.166  3.222      3.222  34334500"
      ]
     },
     "execution_count": 266,
     "metadata": {},
     "output_type": "execute_result"
    }
   ],
   "source": [
    "df.head()"
   ]
  },
  {
   "cell_type": "code",
   "execution_count": 267,
   "id": "84283b6e",
   "metadata": {},
   "outputs": [
    {
     "name": "stdout",
     "output_type": "stream",
     "text": [
      "<class 'pandas.core.frame.DataFrame'>\n",
      "RangeIndex: 2813 entries, 0 to 2812\n",
      "Data columns (total 7 columns):\n",
      " #   Column     Non-Null Count  Dtype  \n",
      "---  ------     --------------  -----  \n",
      " 0   Date       2813 non-null   object \n",
      " 1   Open       2813 non-null   float64\n",
      " 2   High       2813 non-null   float64\n",
      " 3   Low        2813 non-null   float64\n",
      " 4   Close      2813 non-null   float64\n",
      " 5   Adj Close  2813 non-null   float64\n",
      " 6   Volume     2813 non-null   int64  \n",
      "dtypes: float64(5), int64(1), object(1)\n",
      "memory usage: 154.0+ KB\n"
     ]
    }
   ],
   "source": [
    "df.info()"
   ]
  },
  {
   "cell_type": "code",
   "execution_count": 268,
   "id": "b9961f99",
   "metadata": {},
   "outputs": [
    {
     "data": {
      "text/plain": [
       "0       2010-06-29\n",
       "1       2010-06-30\n",
       "2       2010-07-01\n",
       "3       2010-07-02\n",
       "4       2010-07-06\n",
       "           ...    \n",
       "2808    2021-08-24\n",
       "2809    2021-08-25\n",
       "2810    2021-08-26\n",
       "2811    2021-08-27\n",
       "2812    2021-08-30\n",
       "Name: Date, Length: 2813, dtype: object"
      ]
     },
     "execution_count": 268,
     "metadata": {},
     "output_type": "execute_result"
    }
   ],
   "source": [
    "df['Date']"
   ]
  },
  {
   "cell_type": "code",
   "execution_count": 279,
   "id": "f040f045",
   "metadata": {},
   "outputs": [
    {
     "data": {
      "text/html": [
       "<div>\n",
       "<style scoped>\n",
       "    .dataframe tbody tr th:only-of-type {\n",
       "        vertical-align: middle;\n",
       "    }\n",
       "\n",
       "    .dataframe tbody tr th {\n",
       "        vertical-align: top;\n",
       "    }\n",
       "\n",
       "    .dataframe thead th {\n",
       "        text-align: right;\n",
       "    }\n",
       "</style>\n",
       "<table border=\"1\" class=\"dataframe\">\n",
       "  <thead>\n",
       "    <tr style=\"text-align: right;\">\n",
       "      <th></th>\n",
       "      <th>Date</th>\n",
       "      <th>Volume</th>\n",
       "    </tr>\n",
       "  </thead>\n",
       "  <tbody>\n",
       "    <tr>\n",
       "      <th>0</th>\n",
       "      <td>2010-06-29</td>\n",
       "      <td>93831500</td>\n",
       "    </tr>\n",
       "    <tr>\n",
       "      <th>1</th>\n",
       "      <td>2010-06-30</td>\n",
       "      <td>85935500</td>\n",
       "    </tr>\n",
       "    <tr>\n",
       "      <th>2</th>\n",
       "      <td>2010-07-01</td>\n",
       "      <td>41094000</td>\n",
       "    </tr>\n",
       "    <tr>\n",
       "      <th>3</th>\n",
       "      <td>2010-07-02</td>\n",
       "      <td>25699000</td>\n",
       "    </tr>\n",
       "    <tr>\n",
       "      <th>4</th>\n",
       "      <td>2010-07-06</td>\n",
       "      <td>34334500</td>\n",
       "    </tr>\n",
       "    <tr>\n",
       "      <th>...</th>\n",
       "      <td>...</td>\n",
       "      <td>...</td>\n",
       "    </tr>\n",
       "    <tr>\n",
       "      <th>2808</th>\n",
       "      <td>2021-08-24</td>\n",
       "      <td>13083100</td>\n",
       "    </tr>\n",
       "    <tr>\n",
       "      <th>2809</th>\n",
       "      <td>2021-08-25</td>\n",
       "      <td>12645600</td>\n",
       "    </tr>\n",
       "    <tr>\n",
       "      <th>2810</th>\n",
       "      <td>2021-08-26</td>\n",
       "      <td>13214300</td>\n",
       "    </tr>\n",
       "    <tr>\n",
       "      <th>2811</th>\n",
       "      <td>2021-08-27</td>\n",
       "      <td>13762100</td>\n",
       "    </tr>\n",
       "    <tr>\n",
       "      <th>2812</th>\n",
       "      <td>2021-08-30</td>\n",
       "      <td>18502400</td>\n",
       "    </tr>\n",
       "  </tbody>\n",
       "</table>\n",
       "<p>2813 rows × 2 columns</p>\n",
       "</div>"
      ],
      "text/plain": [
       "            Date    Volume\n",
       "0     2010-06-29  93831500\n",
       "1     2010-06-30  85935500\n",
       "2     2010-07-01  41094000\n",
       "3     2010-07-02  25699000\n",
       "4     2010-07-06  34334500\n",
       "...          ...       ...\n",
       "2808  2021-08-24  13083100\n",
       "2809  2021-08-25  12645600\n",
       "2810  2021-08-26  13214300\n",
       "2811  2021-08-27  13762100\n",
       "2812  2021-08-30  18502400\n",
       "\n",
       "[2813 rows x 2 columns]"
      ]
     },
     "execution_count": 279,
     "metadata": {},
     "output_type": "execute_result"
    }
   ],
   "source": [
    "df[['Date', 'Volume']]"
   ]
  },
  {
   "cell_type": "code",
   "execution_count": 276,
   "id": "c2d78f0a",
   "metadata": {},
   "outputs": [
    {
     "data": {
      "text/plain": [
       "Date         2021-08-24\n",
       "Open         710.679993\n",
       "High         715.219971\n",
       "Low          702.640015\n",
       "Close        708.489990\n",
       "Adj Close    708.489990\n",
       "Volume         13083100\n",
       "Name: 2808, dtype: object"
      ]
     },
     "execution_count": 276,
     "metadata": {},
     "output_type": "execute_result"
    }
   ],
   "source": [
    "df.loc[2808]"
   ]
  },
  {
   "cell_type": "code",
   "execution_count": 280,
   "id": "a960e5d9",
   "metadata": {},
   "outputs": [
    {
     "data": {
      "text/html": [
       "<div>\n",
       "<style scoped>\n",
       "    .dataframe tbody tr th:only-of-type {\n",
       "        vertical-align: middle;\n",
       "    }\n",
       "\n",
       "    .dataframe tbody tr th {\n",
       "        vertical-align: top;\n",
       "    }\n",
       "\n",
       "    .dataframe thead th {\n",
       "        text-align: right;\n",
       "    }\n",
       "</style>\n",
       "<table border=\"1\" class=\"dataframe\">\n",
       "  <thead>\n",
       "    <tr style=\"text-align: right;\">\n",
       "      <th></th>\n",
       "      <th>Date</th>\n",
       "      <th>Open</th>\n",
       "      <th>High</th>\n",
       "      <th>Low</th>\n",
       "      <th>Close</th>\n",
       "      <th>Adj Close</th>\n",
       "      <th>Volume</th>\n",
       "    </tr>\n",
       "  </thead>\n",
       "  <tbody>\n",
       "    <tr>\n",
       "      <th>2808</th>\n",
       "      <td>2021-08-24</td>\n",
       "      <td>710.679993</td>\n",
       "      <td>715.219971</td>\n",
       "      <td>702.640015</td>\n",
       "      <td>708.489990</td>\n",
       "      <td>708.489990</td>\n",
       "      <td>13083100</td>\n",
       "    </tr>\n",
       "    <tr>\n",
       "      <th>2812</th>\n",
       "      <td>2021-08-30</td>\n",
       "      <td>714.719971</td>\n",
       "      <td>731.000000</td>\n",
       "      <td>712.729980</td>\n",
       "      <td>730.909973</td>\n",
       "      <td>730.909973</td>\n",
       "      <td>18502400</td>\n",
       "    </tr>\n",
       "  </tbody>\n",
       "</table>\n",
       "</div>"
      ],
      "text/plain": [
       "            Date        Open        High         Low       Close   Adj Close  \\\n",
       "2808  2021-08-24  710.679993  715.219971  702.640015  708.489990  708.489990   \n",
       "2812  2021-08-30  714.719971  731.000000  712.729980  730.909973  730.909973   \n",
       "\n",
       "        Volume  \n",
       "2808  13083100  \n",
       "2812  18502400  "
      ]
     },
     "execution_count": 280,
     "metadata": {},
     "output_type": "execute_result"
    }
   ],
   "source": [
    "df.loc[[2808, 2812]]"
   ]
  },
  {
   "cell_type": "code",
   "execution_count": 281,
   "id": "9ba7214a",
   "metadata": {},
   "outputs": [
    {
     "data": {
      "text/plain": [
       "Date         2010-07-07\n",
       "Open              3.280\n",
       "High              3.326\n",
       "Low               2.996\n",
       "Close             3.160\n",
       "Adj Close         3.160\n",
       "Volume         34608500\n",
       "Name: 5, dtype: object"
      ]
     },
     "execution_count": 281,
     "metadata": {},
     "output_type": "execute_result"
    }
   ],
   "source": [
    "df.iloc[5]"
   ]
  },
  {
   "cell_type": "code",
   "execution_count": 282,
   "id": "2f2dab2c",
   "metadata": {},
   "outputs": [
    {
     "data": {
      "text/html": [
       "<div>\n",
       "<style scoped>\n",
       "    .dataframe tbody tr th:only-of-type {\n",
       "        vertical-align: middle;\n",
       "    }\n",
       "\n",
       "    .dataframe tbody tr th {\n",
       "        vertical-align: top;\n",
       "    }\n",
       "\n",
       "    .dataframe thead th {\n",
       "        text-align: right;\n",
       "    }\n",
       "</style>\n",
       "<table border=\"1\" class=\"dataframe\">\n",
       "  <thead>\n",
       "    <tr style=\"text-align: right;\">\n",
       "      <th></th>\n",
       "      <th>Date</th>\n",
       "      <th>Open</th>\n",
       "      <th>High</th>\n",
       "      <th>Low</th>\n",
       "      <th>Close</th>\n",
       "      <th>Adj Close</th>\n",
       "      <th>Volume</th>\n",
       "    </tr>\n",
       "  </thead>\n",
       "  <tbody>\n",
       "    <tr>\n",
       "      <th>5</th>\n",
       "      <td>2010-07-07</td>\n",
       "      <td>3.280</td>\n",
       "      <td>3.326</td>\n",
       "      <td>2.996</td>\n",
       "      <td>3.16</td>\n",
       "      <td>3.16</td>\n",
       "      <td>34608500</td>\n",
       "    </tr>\n",
       "    <tr>\n",
       "      <th>7</th>\n",
       "      <td>2010-07-09</td>\n",
       "      <td>3.516</td>\n",
       "      <td>3.580</td>\n",
       "      <td>3.310</td>\n",
       "      <td>3.48</td>\n",
       "      <td>3.48</td>\n",
       "      <td>20253000</td>\n",
       "    </tr>\n",
       "  </tbody>\n",
       "</table>\n",
       "</div>"
      ],
      "text/plain": [
       "         Date   Open   High    Low  Close  Adj Close    Volume\n",
       "5  2010-07-07  3.280  3.326  2.996   3.16       3.16  34608500\n",
       "7  2010-07-09  3.516  3.580  3.310   3.48       3.48  20253000"
      ]
     },
     "execution_count": 282,
     "metadata": {},
     "output_type": "execute_result"
    }
   ],
   "source": [
    "df.iloc[[5, 7]]"
   ]
  },
  {
   "cell_type": "code",
   "execution_count": 283,
   "id": "37831453",
   "metadata": {},
   "outputs": [
    {
     "data": {
      "text/html": [
       "<div>\n",
       "<style scoped>\n",
       "    .dataframe tbody tr th:only-of-type {\n",
       "        vertical-align: middle;\n",
       "    }\n",
       "\n",
       "    .dataframe tbody tr th {\n",
       "        vertical-align: top;\n",
       "    }\n",
       "\n",
       "    .dataframe thead th {\n",
       "        text-align: right;\n",
       "    }\n",
       "</style>\n",
       "<table border=\"1\" class=\"dataframe\">\n",
       "  <thead>\n",
       "    <tr style=\"text-align: right;\">\n",
       "      <th></th>\n",
       "      <th>Date</th>\n",
       "      <th>Open</th>\n",
       "      <th>High</th>\n",
       "      <th>Low</th>\n",
       "      <th>Close</th>\n",
       "      <th>Adj Close</th>\n",
       "      <th>Volume</th>\n",
       "    </tr>\n",
       "  </thead>\n",
       "  <tbody>\n",
       "    <tr>\n",
       "      <th>0</th>\n",
       "      <td>2010-06-29</td>\n",
       "      <td>3.800</td>\n",
       "      <td>5.000</td>\n",
       "      <td>3.508</td>\n",
       "      <td>4.778</td>\n",
       "      <td>4.778</td>\n",
       "      <td>93831500</td>\n",
       "    </tr>\n",
       "    <tr>\n",
       "      <th>1</th>\n",
       "      <td>2010-06-30</td>\n",
       "      <td>5.158</td>\n",
       "      <td>6.084</td>\n",
       "      <td>4.660</td>\n",
       "      <td>4.766</td>\n",
       "      <td>4.766</td>\n",
       "      <td>85935500</td>\n",
       "    </tr>\n",
       "    <tr>\n",
       "      <th>2</th>\n",
       "      <td>2010-07-01</td>\n",
       "      <td>5.000</td>\n",
       "      <td>5.184</td>\n",
       "      <td>4.054</td>\n",
       "      <td>4.392</td>\n",
       "      <td>4.392</td>\n",
       "      <td>41094000</td>\n",
       "    </tr>\n",
       "    <tr>\n",
       "      <th>3</th>\n",
       "      <td>2010-07-02</td>\n",
       "      <td>4.600</td>\n",
       "      <td>4.620</td>\n",
       "      <td>3.742</td>\n",
       "      <td>3.840</td>\n",
       "      <td>3.840</td>\n",
       "      <td>25699000</td>\n",
       "    </tr>\n",
       "    <tr>\n",
       "      <th>4</th>\n",
       "      <td>2010-07-06</td>\n",
       "      <td>4.000</td>\n",
       "      <td>4.000</td>\n",
       "      <td>3.166</td>\n",
       "      <td>3.222</td>\n",
       "      <td>3.222</td>\n",
       "      <td>34334500</td>\n",
       "    </tr>\n",
       "    <tr>\n",
       "      <th>5</th>\n",
       "      <td>2010-07-07</td>\n",
       "      <td>3.280</td>\n",
       "      <td>3.326</td>\n",
       "      <td>2.996</td>\n",
       "      <td>3.160</td>\n",
       "      <td>3.160</td>\n",
       "      <td>34608500</td>\n",
       "    </tr>\n",
       "    <tr>\n",
       "      <th>6</th>\n",
       "      <td>2010-07-08</td>\n",
       "      <td>3.228</td>\n",
       "      <td>3.504</td>\n",
       "      <td>3.114</td>\n",
       "      <td>3.492</td>\n",
       "      <td>3.492</td>\n",
       "      <td>38557000</td>\n",
       "    </tr>\n",
       "    <tr>\n",
       "      <th>7</th>\n",
       "      <td>2010-07-09</td>\n",
       "      <td>3.516</td>\n",
       "      <td>3.580</td>\n",
       "      <td>3.310</td>\n",
       "      <td>3.480</td>\n",
       "      <td>3.480</td>\n",
       "      <td>20253000</td>\n",
       "    </tr>\n",
       "    <tr>\n",
       "      <th>8</th>\n",
       "      <td>2010-07-12</td>\n",
       "      <td>3.590</td>\n",
       "      <td>3.614</td>\n",
       "      <td>3.400</td>\n",
       "      <td>3.410</td>\n",
       "      <td>3.410</td>\n",
       "      <td>11012500</td>\n",
       "    </tr>\n",
       "    <tr>\n",
       "      <th>9</th>\n",
       "      <td>2010-07-13</td>\n",
       "      <td>3.478</td>\n",
       "      <td>3.728</td>\n",
       "      <td>3.380</td>\n",
       "      <td>3.628</td>\n",
       "      <td>3.628</td>\n",
       "      <td>13400500</td>\n",
       "    </tr>\n",
       "    <tr>\n",
       "      <th>10</th>\n",
       "      <td>2010-07-14</td>\n",
       "      <td>3.588</td>\n",
       "      <td>4.030</td>\n",
       "      <td>3.552</td>\n",
       "      <td>3.968</td>\n",
       "      <td>3.968</td>\n",
       "      <td>20976000</td>\n",
       "    </tr>\n",
       "    <tr>\n",
       "      <th>11</th>\n",
       "      <td>2010-07-15</td>\n",
       "      <td>3.988</td>\n",
       "      <td>4.300</td>\n",
       "      <td>3.800</td>\n",
       "      <td>3.978</td>\n",
       "      <td>3.978</td>\n",
       "      <td>18699000</td>\n",
       "    </tr>\n",
       "    <tr>\n",
       "      <th>12</th>\n",
       "      <td>2010-07-16</td>\n",
       "      <td>4.140</td>\n",
       "      <td>4.260</td>\n",
       "      <td>4.010</td>\n",
       "      <td>4.128</td>\n",
       "      <td>4.128</td>\n",
       "      <td>13106500</td>\n",
       "    </tr>\n",
       "    <tr>\n",
       "      <th>13</th>\n",
       "      <td>2010-07-19</td>\n",
       "      <td>4.274</td>\n",
       "      <td>4.450</td>\n",
       "      <td>4.184</td>\n",
       "      <td>4.382</td>\n",
       "      <td>4.382</td>\n",
       "      <td>12432500</td>\n",
       "    </tr>\n",
       "    <tr>\n",
       "      <th>14</th>\n",
       "      <td>2010-07-20</td>\n",
       "      <td>4.370</td>\n",
       "      <td>4.370</td>\n",
       "      <td>4.010</td>\n",
       "      <td>4.060</td>\n",
       "      <td>4.060</td>\n",
       "      <td>9126500</td>\n",
       "    </tr>\n",
       "    <tr>\n",
       "      <th>15</th>\n",
       "      <td>2010-07-21</td>\n",
       "      <td>4.132</td>\n",
       "      <td>4.180</td>\n",
       "      <td>3.900</td>\n",
       "      <td>4.044</td>\n",
       "      <td>4.044</td>\n",
       "      <td>6262500</td>\n",
       "    </tr>\n",
       "    <tr>\n",
       "      <th>16</th>\n",
       "      <td>2010-07-22</td>\n",
       "      <td>4.100</td>\n",
       "      <td>4.250</td>\n",
       "      <td>4.074</td>\n",
       "      <td>4.200</td>\n",
       "      <td>4.200</td>\n",
       "      <td>4789000</td>\n",
       "    </tr>\n",
       "    <tr>\n",
       "      <th>17</th>\n",
       "      <td>2010-07-23</td>\n",
       "      <td>4.238</td>\n",
       "      <td>4.312</td>\n",
       "      <td>4.212</td>\n",
       "      <td>4.258</td>\n",
       "      <td>4.258</td>\n",
       "      <td>3268000</td>\n",
       "    </tr>\n",
       "    <tr>\n",
       "      <th>18</th>\n",
       "      <td>2010-07-26</td>\n",
       "      <td>4.300</td>\n",
       "      <td>4.300</td>\n",
       "      <td>4.060</td>\n",
       "      <td>4.190</td>\n",
       "      <td>4.190</td>\n",
       "      <td>4611000</td>\n",
       "    </tr>\n",
       "    <tr>\n",
       "      <th>19</th>\n",
       "      <td>2010-07-27</td>\n",
       "      <td>4.182</td>\n",
       "      <td>4.236</td>\n",
       "      <td>4.052</td>\n",
       "      <td>4.110</td>\n",
       "      <td>4.110</td>\n",
       "      <td>3098500</td>\n",
       "    </tr>\n",
       "  </tbody>\n",
       "</table>\n",
       "</div>"
      ],
      "text/plain": [
       "          Date   Open   High    Low  Close  Adj Close    Volume\n",
       "0   2010-06-29  3.800  5.000  3.508  4.778      4.778  93831500\n",
       "1   2010-06-30  5.158  6.084  4.660  4.766      4.766  85935500\n",
       "2   2010-07-01  5.000  5.184  4.054  4.392      4.392  41094000\n",
       "3   2010-07-02  4.600  4.620  3.742  3.840      3.840  25699000\n",
       "4   2010-07-06  4.000  4.000  3.166  3.222      3.222  34334500\n",
       "5   2010-07-07  3.280  3.326  2.996  3.160      3.160  34608500\n",
       "6   2010-07-08  3.228  3.504  3.114  3.492      3.492  38557000\n",
       "7   2010-07-09  3.516  3.580  3.310  3.480      3.480  20253000\n",
       "8   2010-07-12  3.590  3.614  3.400  3.410      3.410  11012500\n",
       "9   2010-07-13  3.478  3.728  3.380  3.628      3.628  13400500\n",
       "10  2010-07-14  3.588  4.030  3.552  3.968      3.968  20976000\n",
       "11  2010-07-15  3.988  4.300  3.800  3.978      3.978  18699000\n",
       "12  2010-07-16  4.140  4.260  4.010  4.128      4.128  13106500\n",
       "13  2010-07-19  4.274  4.450  4.184  4.382      4.382  12432500\n",
       "14  2010-07-20  4.370  4.370  4.010  4.060      4.060   9126500\n",
       "15  2010-07-21  4.132  4.180  3.900  4.044      4.044   6262500\n",
       "16  2010-07-22  4.100  4.250  4.074  4.200      4.200   4789000\n",
       "17  2010-07-23  4.238  4.312  4.212  4.258      4.258   3268000\n",
       "18  2010-07-26  4.300  4.300  4.060  4.190      4.190   4611000\n",
       "19  2010-07-27  4.182  4.236  4.052  4.110      4.110   3098500"
      ]
     },
     "execution_count": 283,
     "metadata": {},
     "output_type": "execute_result"
    }
   ],
   "source": [
    "df.iloc[:20]"
   ]
  },
  {
   "cell_type": "code",
   "execution_count": 284,
   "id": "f4a95e5a",
   "metadata": {},
   "outputs": [
    {
     "data": {
      "text/html": [
       "<div>\n",
       "<style scoped>\n",
       "    .dataframe tbody tr th:only-of-type {\n",
       "        vertical-align: middle;\n",
       "    }\n",
       "\n",
       "    .dataframe tbody tr th {\n",
       "        vertical-align: top;\n",
       "    }\n",
       "\n",
       "    .dataframe thead th {\n",
       "        text-align: right;\n",
       "    }\n",
       "</style>\n",
       "<table border=\"1\" class=\"dataframe\">\n",
       "  <thead>\n",
       "    <tr style=\"text-align: right;\">\n",
       "      <th></th>\n",
       "      <th>Date</th>\n",
       "      <th>Open</th>\n",
       "      <th>High</th>\n",
       "      <th>Low</th>\n",
       "      <th>Close</th>\n",
       "      <th>Adj Close</th>\n",
       "      <th>Volume</th>\n",
       "    </tr>\n",
       "  </thead>\n",
       "  <tbody>\n",
       "    <tr>\n",
       "      <th>50</th>\n",
       "      <td>2010-09-09</td>\n",
       "      <td>4.200</td>\n",
       "      <td>4.210</td>\n",
       "      <td>4.138</td>\n",
       "      <td>4.142</td>\n",
       "      <td>4.142</td>\n",
       "      <td>1881000</td>\n",
       "    </tr>\n",
       "    <tr>\n",
       "      <th>51</th>\n",
       "      <td>2010-09-10</td>\n",
       "      <td>4.150</td>\n",
       "      <td>4.186</td>\n",
       "      <td>3.952</td>\n",
       "      <td>4.034</td>\n",
       "      <td>4.034</td>\n",
       "      <td>1933000</td>\n",
       "    </tr>\n",
       "    <tr>\n",
       "      <th>52</th>\n",
       "      <td>2010-09-13</td>\n",
       "      <td>4.178</td>\n",
       "      <td>4.180</td>\n",
       "      <td>4.100</td>\n",
       "      <td>4.144</td>\n",
       "      <td>4.144</td>\n",
       "      <td>1804000</td>\n",
       "    </tr>\n",
       "    <tr>\n",
       "      <th>53</th>\n",
       "      <td>2010-09-14</td>\n",
       "      <td>4.108</td>\n",
       "      <td>4.320</td>\n",
       "      <td>4.106</td>\n",
       "      <td>4.224</td>\n",
       "      <td>4.224</td>\n",
       "      <td>3273500</td>\n",
       "    </tr>\n",
       "    <tr>\n",
       "      <th>54</th>\n",
       "      <td>2010-09-15</td>\n",
       "      <td>4.196</td>\n",
       "      <td>4.400</td>\n",
       "      <td>4.158</td>\n",
       "      <td>4.396</td>\n",
       "      <td>4.396</td>\n",
       "      <td>3423000</td>\n",
       "    </tr>\n",
       "    <tr>\n",
       "      <th>55</th>\n",
       "      <td>2010-09-16</td>\n",
       "      <td>4.430</td>\n",
       "      <td>4.632</td>\n",
       "      <td>4.168</td>\n",
       "      <td>4.188</td>\n",
       "      <td>4.188</td>\n",
       "      <td>13422500</td>\n",
       "    </tr>\n",
       "    <tr>\n",
       "      <th>56</th>\n",
       "      <td>2010-09-17</td>\n",
       "      <td>4.204</td>\n",
       "      <td>4.264</td>\n",
       "      <td>3.960</td>\n",
       "      <td>4.046</td>\n",
       "      <td>4.046</td>\n",
       "      <td>5992500</td>\n",
       "    </tr>\n",
       "    <tr>\n",
       "      <th>57</th>\n",
       "      <td>2010-09-20</td>\n",
       "      <td>4.134</td>\n",
       "      <td>4.270</td>\n",
       "      <td>4.032</td>\n",
       "      <td>4.212</td>\n",
       "      <td>4.212</td>\n",
       "      <td>4737500</td>\n",
       "    </tr>\n",
       "    <tr>\n",
       "      <th>58</th>\n",
       "      <td>2010-09-21</td>\n",
       "      <td>4.178</td>\n",
       "      <td>4.310</td>\n",
       "      <td>4.134</td>\n",
       "      <td>4.154</td>\n",
       "      <td>4.154</td>\n",
       "      <td>3980000</td>\n",
       "    </tr>\n",
       "    <tr>\n",
       "      <th>59</th>\n",
       "      <td>2010-09-22</td>\n",
       "      <td>4.174</td>\n",
       "      <td>4.190</td>\n",
       "      <td>3.960</td>\n",
       "      <td>3.974</td>\n",
       "      <td>3.974</td>\n",
       "      <td>4814500</td>\n",
       "    </tr>\n",
       "    <tr>\n",
       "      <th>60</th>\n",
       "      <td>2010-09-23</td>\n",
       "      <td>3.978</td>\n",
       "      <td>4.028</td>\n",
       "      <td>3.900</td>\n",
       "      <td>3.912</td>\n",
       "      <td>3.912</td>\n",
       "      <td>3340500</td>\n",
       "    </tr>\n",
       "    <tr>\n",
       "      <th>61</th>\n",
       "      <td>2010-09-24</td>\n",
       "      <td>3.990</td>\n",
       "      <td>4.038</td>\n",
       "      <td>3.930</td>\n",
       "      <td>4.020</td>\n",
       "      <td>4.020</td>\n",
       "      <td>2894500</td>\n",
       "    </tr>\n",
       "    <tr>\n",
       "      <th>62</th>\n",
       "      <td>2010-09-27</td>\n",
       "      <td>4.080</td>\n",
       "      <td>4.162</td>\n",
       "      <td>4.010</td>\n",
       "      <td>4.106</td>\n",
       "      <td>4.106</td>\n",
       "      <td>2093000</td>\n",
       "    </tr>\n",
       "    <tr>\n",
       "      <th>63</th>\n",
       "      <td>2010-09-28</td>\n",
       "      <td>4.208</td>\n",
       "      <td>4.298</td>\n",
       "      <td>4.152</td>\n",
       "      <td>4.280</td>\n",
       "      <td>4.280</td>\n",
       "      <td>6072500</td>\n",
       "    </tr>\n",
       "    <tr>\n",
       "      <th>64</th>\n",
       "      <td>2010-09-29</td>\n",
       "      <td>4.238</td>\n",
       "      <td>4.406</td>\n",
       "      <td>4.226</td>\n",
       "      <td>4.396</td>\n",
       "      <td>4.396</td>\n",
       "      <td>9846500</td>\n",
       "    </tr>\n",
       "    <tr>\n",
       "      <th>65</th>\n",
       "      <td>2010-09-30</td>\n",
       "      <td>4.400</td>\n",
       "      <td>4.430</td>\n",
       "      <td>4.038</td>\n",
       "      <td>4.082</td>\n",
       "      <td>4.082</td>\n",
       "      <td>10979000</td>\n",
       "    </tr>\n",
       "    <tr>\n",
       "      <th>66</th>\n",
       "      <td>2010-10-01</td>\n",
       "      <td>4.138</td>\n",
       "      <td>4.150</td>\n",
       "      <td>4.062</td>\n",
       "      <td>4.120</td>\n",
       "      <td>4.120</td>\n",
       "      <td>2988500</td>\n",
       "    </tr>\n",
       "    <tr>\n",
       "      <th>67</th>\n",
       "      <td>2010-10-04</td>\n",
       "      <td>4.086</td>\n",
       "      <td>4.234</td>\n",
       "      <td>4.060</td>\n",
       "      <td>4.198</td>\n",
       "      <td>4.198</td>\n",
       "      <td>3218000</td>\n",
       "    </tr>\n",
       "    <tr>\n",
       "      <th>68</th>\n",
       "      <td>2010-10-05</td>\n",
       "      <td>4.230</td>\n",
       "      <td>4.256</td>\n",
       "      <td>4.202</td>\n",
       "      <td>4.224</td>\n",
       "      <td>4.224</td>\n",
       "      <td>1660000</td>\n",
       "    </tr>\n",
       "    <tr>\n",
       "      <th>69</th>\n",
       "      <td>2010-10-06</td>\n",
       "      <td>4.212</td>\n",
       "      <td>4.252</td>\n",
       "      <td>4.064</td>\n",
       "      <td>4.092</td>\n",
       "      <td>4.092</td>\n",
       "      <td>1567000</td>\n",
       "    </tr>\n",
       "    <tr>\n",
       "      <th>70</th>\n",
       "      <td>2010-10-07</td>\n",
       "      <td>4.114</td>\n",
       "      <td>4.128</td>\n",
       "      <td>4.068</td>\n",
       "      <td>4.086</td>\n",
       "      <td>4.086</td>\n",
       "      <td>705000</td>\n",
       "    </tr>\n",
       "    <tr>\n",
       "      <th>71</th>\n",
       "      <td>2010-10-08</td>\n",
       "      <td>4.086</td>\n",
       "      <td>4.158</td>\n",
       "      <td>4.078</td>\n",
       "      <td>4.086</td>\n",
       "      <td>4.086</td>\n",
       "      <td>1339000</td>\n",
       "    </tr>\n",
       "    <tr>\n",
       "      <th>72</th>\n",
       "      <td>2010-10-11</td>\n",
       "      <td>4.088</td>\n",
       "      <td>4.140</td>\n",
       "      <td>4.014</td>\n",
       "      <td>4.048</td>\n",
       "      <td>4.048</td>\n",
       "      <td>856000</td>\n",
       "    </tr>\n",
       "    <tr>\n",
       "      <th>73</th>\n",
       "      <td>2010-10-12</td>\n",
       "      <td>4.040</td>\n",
       "      <td>4.056</td>\n",
       "      <td>4.006</td>\n",
       "      <td>4.048</td>\n",
       "      <td>4.048</td>\n",
       "      <td>1220000</td>\n",
       "    </tr>\n",
       "    <tr>\n",
       "      <th>74</th>\n",
       "      <td>2010-10-13</td>\n",
       "      <td>4.128</td>\n",
       "      <td>4.170</td>\n",
       "      <td>4.072</td>\n",
       "      <td>4.108</td>\n",
       "      <td>4.108</td>\n",
       "      <td>1591000</td>\n",
       "    </tr>\n",
       "    <tr>\n",
       "      <th>75</th>\n",
       "      <td>2010-10-14</td>\n",
       "      <td>4.200</td>\n",
       "      <td>4.206</td>\n",
       "      <td>4.080</td>\n",
       "      <td>4.150</td>\n",
       "      <td>4.150</td>\n",
       "      <td>1474000</td>\n",
       "    </tr>\n",
       "    <tr>\n",
       "      <th>76</th>\n",
       "      <td>2010-10-15</td>\n",
       "      <td>4.178</td>\n",
       "      <td>4.180</td>\n",
       "      <td>4.050</td>\n",
       "      <td>4.108</td>\n",
       "      <td>4.108</td>\n",
       "      <td>1423500</td>\n",
       "    </tr>\n",
       "    <tr>\n",
       "      <th>77</th>\n",
       "      <td>2010-10-18</td>\n",
       "      <td>4.104</td>\n",
       "      <td>4.128</td>\n",
       "      <td>4.044</td>\n",
       "      <td>4.046</td>\n",
       "      <td>4.046</td>\n",
       "      <td>814000</td>\n",
       "    </tr>\n",
       "    <tr>\n",
       "      <th>78</th>\n",
       "      <td>2010-10-19</td>\n",
       "      <td>4.040</td>\n",
       "      <td>4.082</td>\n",
       "      <td>4.000</td>\n",
       "      <td>4.010</td>\n",
       "      <td>4.010</td>\n",
       "      <td>1226000</td>\n",
       "    </tr>\n",
       "    <tr>\n",
       "      <th>79</th>\n",
       "      <td>2010-10-20</td>\n",
       "      <td>4.032</td>\n",
       "      <td>4.138</td>\n",
       "      <td>4.008</td>\n",
       "      <td>4.130</td>\n",
       "      <td>4.130</td>\n",
       "      <td>1562500</td>\n",
       "    </tr>\n",
       "    <tr>\n",
       "      <th>80</th>\n",
       "      <td>2010-10-21</td>\n",
       "      <td>4.122</td>\n",
       "      <td>4.190</td>\n",
       "      <td>4.090</td>\n",
       "      <td>4.150</td>\n",
       "      <td>4.150</td>\n",
       "      <td>2085500</td>\n",
       "    </tr>\n",
       "    <tr>\n",
       "      <th>81</th>\n",
       "      <td>2010-10-22</td>\n",
       "      <td>4.136</td>\n",
       "      <td>4.186</td>\n",
       "      <td>4.110</td>\n",
       "      <td>4.144</td>\n",
       "      <td>4.144</td>\n",
       "      <td>805500</td>\n",
       "    </tr>\n",
       "    <tr>\n",
       "      <th>82</th>\n",
       "      <td>2010-10-25</td>\n",
       "      <td>4.188</td>\n",
       "      <td>4.196</td>\n",
       "      <td>4.146</td>\n",
       "      <td>4.170</td>\n",
       "      <td>4.170</td>\n",
       "      <td>592500</td>\n",
       "    </tr>\n",
       "    <tr>\n",
       "      <th>83</th>\n",
       "      <td>2010-10-26</td>\n",
       "      <td>4.160</td>\n",
       "      <td>4.374</td>\n",
       "      <td>4.102</td>\n",
       "      <td>4.272</td>\n",
       "      <td>4.272</td>\n",
       "      <td>3304500</td>\n",
       "    </tr>\n",
       "    <tr>\n",
       "      <th>84</th>\n",
       "      <td>2010-10-27</td>\n",
       "      <td>4.250</td>\n",
       "      <td>4.276</td>\n",
       "      <td>4.130</td>\n",
       "      <td>4.200</td>\n",
       "      <td>4.200</td>\n",
       "      <td>1782500</td>\n",
       "    </tr>\n",
       "    <tr>\n",
       "      <th>85</th>\n",
       "      <td>2010-10-28</td>\n",
       "      <td>4.278</td>\n",
       "      <td>4.300</td>\n",
       "      <td>4.192</td>\n",
       "      <td>4.238</td>\n",
       "      <td>4.238</td>\n",
       "      <td>1121000</td>\n",
       "    </tr>\n",
       "    <tr>\n",
       "      <th>86</th>\n",
       "      <td>2010-10-29</td>\n",
       "      <td>4.228</td>\n",
       "      <td>4.370</td>\n",
       "      <td>4.210</td>\n",
       "      <td>4.368</td>\n",
       "      <td>4.368</td>\n",
       "      <td>1403000</td>\n",
       "    </tr>\n",
       "    <tr>\n",
       "      <th>87</th>\n",
       "      <td>2010-11-01</td>\n",
       "      <td>4.388</td>\n",
       "      <td>4.550</td>\n",
       "      <td>4.262</td>\n",
       "      <td>4.282</td>\n",
       "      <td>4.282</td>\n",
       "      <td>2279000</td>\n",
       "    </tr>\n",
       "    <tr>\n",
       "      <th>88</th>\n",
       "      <td>2010-11-02</td>\n",
       "      <td>4.336</td>\n",
       "      <td>4.376</td>\n",
       "      <td>4.210</td>\n",
       "      <td>4.250</td>\n",
       "      <td>4.250</td>\n",
       "      <td>1612500</td>\n",
       "    </tr>\n",
       "    <tr>\n",
       "      <th>89</th>\n",
       "      <td>2010-11-03</td>\n",
       "      <td>4.256</td>\n",
       "      <td>4.500</td>\n",
       "      <td>4.232</td>\n",
       "      <td>4.354</td>\n",
       "      <td>4.354</td>\n",
       "      <td>1863000</td>\n",
       "    </tr>\n",
       "    <tr>\n",
       "      <th>90</th>\n",
       "      <td>2010-11-04</td>\n",
       "      <td>4.520</td>\n",
       "      <td>5.066</td>\n",
       "      <td>4.430</td>\n",
       "      <td>4.980</td>\n",
       "      <td>4.980</td>\n",
       "      <td>9370000</td>\n",
       "    </tr>\n",
       "    <tr>\n",
       "      <th>91</th>\n",
       "      <td>2010-11-05</td>\n",
       "      <td>4.974</td>\n",
       "      <td>4.994</td>\n",
       "      <td>4.744</td>\n",
       "      <td>4.888</td>\n",
       "      <td>4.888</td>\n",
       "      <td>5055000</td>\n",
       "    </tr>\n",
       "    <tr>\n",
       "      <th>92</th>\n",
       "      <td>2010-11-08</td>\n",
       "      <td>4.900</td>\n",
       "      <td>5.000</td>\n",
       "      <td>4.806</td>\n",
       "      <td>4.996</td>\n",
       "      <td>4.996</td>\n",
       "      <td>2547500</td>\n",
       "    </tr>\n",
       "    <tr>\n",
       "      <th>93</th>\n",
       "      <td>2010-11-09</td>\n",
       "      <td>5.000</td>\n",
       "      <td>5.138</td>\n",
       "      <td>4.810</td>\n",
       "      <td>4.926</td>\n",
       "      <td>4.926</td>\n",
       "      <td>4782000</td>\n",
       "    </tr>\n",
       "    <tr>\n",
       "      <th>94</th>\n",
       "      <td>2010-11-10</td>\n",
       "      <td>4.896</td>\n",
       "      <td>5.994</td>\n",
       "      <td>4.810</td>\n",
       "      <td>5.872</td>\n",
       "      <td>5.872</td>\n",
       "      <td>15302500</td>\n",
       "    </tr>\n",
       "    <tr>\n",
       "      <th>95</th>\n",
       "      <td>2010-11-11</td>\n",
       "      <td>5.720</td>\n",
       "      <td>5.820</td>\n",
       "      <td>5.466</td>\n",
       "      <td>5.608</td>\n",
       "      <td>5.608</td>\n",
       "      <td>9726500</td>\n",
       "    </tr>\n",
       "    <tr>\n",
       "      <th>96</th>\n",
       "      <td>2010-11-12</td>\n",
       "      <td>5.650</td>\n",
       "      <td>6.100</td>\n",
       "      <td>5.614</td>\n",
       "      <td>5.968</td>\n",
       "      <td>5.968</td>\n",
       "      <td>13645500</td>\n",
       "    </tr>\n",
       "    <tr>\n",
       "      <th>97</th>\n",
       "      <td>2010-11-15</td>\n",
       "      <td>6.044</td>\n",
       "      <td>6.588</td>\n",
       "      <td>6.044</td>\n",
       "      <td>6.160</td>\n",
       "      <td>6.160</td>\n",
       "      <td>13114500</td>\n",
       "    </tr>\n",
       "    <tr>\n",
       "      <th>98</th>\n",
       "      <td>2010-11-16</td>\n",
       "      <td>6.200</td>\n",
       "      <td>6.280</td>\n",
       "      <td>5.684</td>\n",
       "      <td>5.934</td>\n",
       "      <td>5.934</td>\n",
       "      <td>6738000</td>\n",
       "    </tr>\n",
       "    <tr>\n",
       "      <th>99</th>\n",
       "      <td>2010-11-17</td>\n",
       "      <td>6.040</td>\n",
       "      <td>6.150</td>\n",
       "      <td>5.722</td>\n",
       "      <td>5.898</td>\n",
       "      <td>5.898</td>\n",
       "      <td>3750000</td>\n",
       "    </tr>\n",
       "  </tbody>\n",
       "</table>\n",
       "</div>"
      ],
      "text/plain": [
       "          Date   Open   High    Low  Close  Adj Close    Volume\n",
       "50  2010-09-09  4.200  4.210  4.138  4.142      4.142   1881000\n",
       "51  2010-09-10  4.150  4.186  3.952  4.034      4.034   1933000\n",
       "52  2010-09-13  4.178  4.180  4.100  4.144      4.144   1804000\n",
       "53  2010-09-14  4.108  4.320  4.106  4.224      4.224   3273500\n",
       "54  2010-09-15  4.196  4.400  4.158  4.396      4.396   3423000\n",
       "55  2010-09-16  4.430  4.632  4.168  4.188      4.188  13422500\n",
       "56  2010-09-17  4.204  4.264  3.960  4.046      4.046   5992500\n",
       "57  2010-09-20  4.134  4.270  4.032  4.212      4.212   4737500\n",
       "58  2010-09-21  4.178  4.310  4.134  4.154      4.154   3980000\n",
       "59  2010-09-22  4.174  4.190  3.960  3.974      3.974   4814500\n",
       "60  2010-09-23  3.978  4.028  3.900  3.912      3.912   3340500\n",
       "61  2010-09-24  3.990  4.038  3.930  4.020      4.020   2894500\n",
       "62  2010-09-27  4.080  4.162  4.010  4.106      4.106   2093000\n",
       "63  2010-09-28  4.208  4.298  4.152  4.280      4.280   6072500\n",
       "64  2010-09-29  4.238  4.406  4.226  4.396      4.396   9846500\n",
       "65  2010-09-30  4.400  4.430  4.038  4.082      4.082  10979000\n",
       "66  2010-10-01  4.138  4.150  4.062  4.120      4.120   2988500\n",
       "67  2010-10-04  4.086  4.234  4.060  4.198      4.198   3218000\n",
       "68  2010-10-05  4.230  4.256  4.202  4.224      4.224   1660000\n",
       "69  2010-10-06  4.212  4.252  4.064  4.092      4.092   1567000\n",
       "70  2010-10-07  4.114  4.128  4.068  4.086      4.086    705000\n",
       "71  2010-10-08  4.086  4.158  4.078  4.086      4.086   1339000\n",
       "72  2010-10-11  4.088  4.140  4.014  4.048      4.048    856000\n",
       "73  2010-10-12  4.040  4.056  4.006  4.048      4.048   1220000\n",
       "74  2010-10-13  4.128  4.170  4.072  4.108      4.108   1591000\n",
       "75  2010-10-14  4.200  4.206  4.080  4.150      4.150   1474000\n",
       "76  2010-10-15  4.178  4.180  4.050  4.108      4.108   1423500\n",
       "77  2010-10-18  4.104  4.128  4.044  4.046      4.046    814000\n",
       "78  2010-10-19  4.040  4.082  4.000  4.010      4.010   1226000\n",
       "79  2010-10-20  4.032  4.138  4.008  4.130      4.130   1562500\n",
       "80  2010-10-21  4.122  4.190  4.090  4.150      4.150   2085500\n",
       "81  2010-10-22  4.136  4.186  4.110  4.144      4.144    805500\n",
       "82  2010-10-25  4.188  4.196  4.146  4.170      4.170    592500\n",
       "83  2010-10-26  4.160  4.374  4.102  4.272      4.272   3304500\n",
       "84  2010-10-27  4.250  4.276  4.130  4.200      4.200   1782500\n",
       "85  2010-10-28  4.278  4.300  4.192  4.238      4.238   1121000\n",
       "86  2010-10-29  4.228  4.370  4.210  4.368      4.368   1403000\n",
       "87  2010-11-01  4.388  4.550  4.262  4.282      4.282   2279000\n",
       "88  2010-11-02  4.336  4.376  4.210  4.250      4.250   1612500\n",
       "89  2010-11-03  4.256  4.500  4.232  4.354      4.354   1863000\n",
       "90  2010-11-04  4.520  5.066  4.430  4.980      4.980   9370000\n",
       "91  2010-11-05  4.974  4.994  4.744  4.888      4.888   5055000\n",
       "92  2010-11-08  4.900  5.000  4.806  4.996      4.996   2547500\n",
       "93  2010-11-09  5.000  5.138  4.810  4.926      4.926   4782000\n",
       "94  2010-11-10  4.896  5.994  4.810  5.872      5.872  15302500\n",
       "95  2010-11-11  5.720  5.820  5.466  5.608      5.608   9726500\n",
       "96  2010-11-12  5.650  6.100  5.614  5.968      5.968  13645500\n",
       "97  2010-11-15  6.044  6.588  6.044  6.160      6.160  13114500\n",
       "98  2010-11-16  6.200  6.280  5.684  5.934      5.934   6738000\n",
       "99  2010-11-17  6.040  6.150  5.722  5.898      5.898   3750000"
      ]
     },
     "execution_count": 284,
     "metadata": {},
     "output_type": "execute_result"
    }
   ],
   "source": [
    "df[50:100]"
   ]
  },
  {
   "cell_type": "code",
   "execution_count": 285,
   "id": "5bc2bc81",
   "metadata": {},
   "outputs": [
    {
     "data": {
      "text/html": [
       "<div>\n",
       "<style scoped>\n",
       "    .dataframe tbody tr th:only-of-type {\n",
       "        vertical-align: middle;\n",
       "    }\n",
       "\n",
       "    .dataframe tbody tr th {\n",
       "        vertical-align: top;\n",
       "    }\n",
       "\n",
       "    .dataframe thead th {\n",
       "        text-align: right;\n",
       "    }\n",
       "</style>\n",
       "<table border=\"1\" class=\"dataframe\">\n",
       "  <thead>\n",
       "    <tr style=\"text-align: right;\">\n",
       "      <th></th>\n",
       "      <th>Date</th>\n",
       "      <th>Open</th>\n",
       "      <th>High</th>\n",
       "      <th>Low</th>\n",
       "      <th>Close</th>\n",
       "      <th>Adj Close</th>\n",
       "      <th>Volume</th>\n",
       "    </tr>\n",
       "  </thead>\n",
       "  <tbody>\n",
       "    <tr>\n",
       "      <th>0</th>\n",
       "      <td>2010-06-29</td>\n",
       "      <td>3.800000</td>\n",
       "      <td>5.000000</td>\n",
       "      <td>3.508000</td>\n",
       "      <td>4.778000</td>\n",
       "      <td>4.778000</td>\n",
       "      <td>93831500</td>\n",
       "    </tr>\n",
       "    <tr>\n",
       "      <th>5</th>\n",
       "      <td>2010-07-07</td>\n",
       "      <td>3.280000</td>\n",
       "      <td>3.326000</td>\n",
       "      <td>2.996000</td>\n",
       "      <td>3.160000</td>\n",
       "      <td>3.160000</td>\n",
       "      <td>34608500</td>\n",
       "    </tr>\n",
       "    <tr>\n",
       "      <th>10</th>\n",
       "      <td>2010-07-14</td>\n",
       "      <td>3.588000</td>\n",
       "      <td>4.030000</td>\n",
       "      <td>3.552000</td>\n",
       "      <td>3.968000</td>\n",
       "      <td>3.968000</td>\n",
       "      <td>20976000</td>\n",
       "    </tr>\n",
       "    <tr>\n",
       "      <th>15</th>\n",
       "      <td>2010-07-21</td>\n",
       "      <td>4.132000</td>\n",
       "      <td>4.180000</td>\n",
       "      <td>3.900000</td>\n",
       "      <td>4.044000</td>\n",
       "      <td>4.044000</td>\n",
       "      <td>6262500</td>\n",
       "    </tr>\n",
       "    <tr>\n",
       "      <th>20</th>\n",
       "      <td>2010-07-28</td>\n",
       "      <td>4.110000</td>\n",
       "      <td>4.180000</td>\n",
       "      <td>4.102000</td>\n",
       "      <td>4.144000</td>\n",
       "      <td>4.144000</td>\n",
       "      <td>2336000</td>\n",
       "    </tr>\n",
       "    <tr>\n",
       "      <th>...</th>\n",
       "      <td>...</td>\n",
       "      <td>...</td>\n",
       "      <td>...</td>\n",
       "      <td>...</td>\n",
       "      <td>...</td>\n",
       "      <td>...</td>\n",
       "      <td>...</td>\n",
       "    </tr>\n",
       "    <tr>\n",
       "      <th>2790</th>\n",
       "      <td>2021-07-29</td>\n",
       "      <td>649.789978</td>\n",
       "      <td>683.690002</td>\n",
       "      <td>648.799988</td>\n",
       "      <td>677.349976</td>\n",
       "      <td>677.349976</td>\n",
       "      <td>30394600</td>\n",
       "    </tr>\n",
       "    <tr>\n",
       "      <th>2795</th>\n",
       "      <td>2021-08-05</td>\n",
       "      <td>716.000000</td>\n",
       "      <td>720.950012</td>\n",
       "      <td>711.409973</td>\n",
       "      <td>714.630005</td>\n",
       "      <td>714.630005</td>\n",
       "      <td>12919600</td>\n",
       "    </tr>\n",
       "    <tr>\n",
       "      <th>2800</th>\n",
       "      <td>2021-08-12</td>\n",
       "      <td>706.340027</td>\n",
       "      <td>722.799988</td>\n",
       "      <td>699.400024</td>\n",
       "      <td>722.250000</td>\n",
       "      <td>722.250000</td>\n",
       "      <td>17459100</td>\n",
       "    </tr>\n",
       "    <tr>\n",
       "      <th>2805</th>\n",
       "      <td>2021-08-19</td>\n",
       "      <td>678.210022</td>\n",
       "      <td>686.549988</td>\n",
       "      <td>667.590027</td>\n",
       "      <td>673.469971</td>\n",
       "      <td>673.469971</td>\n",
       "      <td>14313500</td>\n",
       "    </tr>\n",
       "    <tr>\n",
       "      <th>2810</th>\n",
       "      <td>2021-08-26</td>\n",
       "      <td>708.309998</td>\n",
       "      <td>715.400024</td>\n",
       "      <td>697.619995</td>\n",
       "      <td>701.159973</td>\n",
       "      <td>701.159973</td>\n",
       "      <td>13214300</td>\n",
       "    </tr>\n",
       "  </tbody>\n",
       "</table>\n",
       "<p>563 rows × 7 columns</p>\n",
       "</div>"
      ],
      "text/plain": [
       "            Date        Open        High         Low       Close   Adj Close  \\\n",
       "0     2010-06-29    3.800000    5.000000    3.508000    4.778000    4.778000   \n",
       "5     2010-07-07    3.280000    3.326000    2.996000    3.160000    3.160000   \n",
       "10    2010-07-14    3.588000    4.030000    3.552000    3.968000    3.968000   \n",
       "15    2010-07-21    4.132000    4.180000    3.900000    4.044000    4.044000   \n",
       "20    2010-07-28    4.110000    4.180000    4.102000    4.144000    4.144000   \n",
       "...          ...         ...         ...         ...         ...         ...   \n",
       "2790  2021-07-29  649.789978  683.690002  648.799988  677.349976  677.349976   \n",
       "2795  2021-08-05  716.000000  720.950012  711.409973  714.630005  714.630005   \n",
       "2800  2021-08-12  706.340027  722.799988  699.400024  722.250000  722.250000   \n",
       "2805  2021-08-19  678.210022  686.549988  667.590027  673.469971  673.469971   \n",
       "2810  2021-08-26  708.309998  715.400024  697.619995  701.159973  701.159973   \n",
       "\n",
       "        Volume  \n",
       "0     93831500  \n",
       "5     34608500  \n",
       "10    20976000  \n",
       "15     6262500  \n",
       "20     2336000  \n",
       "...        ...  \n",
       "2790  30394600  \n",
       "2795  12919600  \n",
       "2800  17459100  \n",
       "2805  14313500  \n",
       "2810  13214300  \n",
       "\n",
       "[563 rows x 7 columns]"
      ]
     },
     "execution_count": 285,
     "metadata": {},
     "output_type": "execute_result"
    }
   ],
   "source": [
    "df.iloc[lambda x: x.index % 5 == 0]"
   ]
  },
  {
   "cell_type": "code",
   "execution_count": 287,
   "id": "3a6bf8ad",
   "metadata": {},
   "outputs": [
    {
     "data": {
      "text/html": [
       "<div>\n",
       "<style scoped>\n",
       "    .dataframe tbody tr th:only-of-type {\n",
       "        vertical-align: middle;\n",
       "    }\n",
       "\n",
       "    .dataframe tbody tr th {\n",
       "        vertical-align: top;\n",
       "    }\n",
       "\n",
       "    .dataframe thead th {\n",
       "        text-align: right;\n",
       "    }\n",
       "</style>\n",
       "<table border=\"1\" class=\"dataframe\">\n",
       "  <thead>\n",
       "    <tr style=\"text-align: right;\">\n",
       "      <th></th>\n",
       "      <th>Date</th>\n",
       "      <th>Open</th>\n",
       "      <th>High</th>\n",
       "      <th>Low</th>\n",
       "      <th>Close</th>\n",
       "      <th>Adj Close</th>\n",
       "      <th>Volume</th>\n",
       "    </tr>\n",
       "  </thead>\n",
       "  <tbody>\n",
       "    <tr>\n",
       "      <th>295</th>\n",
       "      <td>2011-08-29</td>\n",
       "      <td>4.844</td>\n",
       "      <td>4.970</td>\n",
       "      <td>4.804</td>\n",
       "      <td>4.942</td>\n",
       "      <td>4.942</td>\n",
       "      <td>4017000</td>\n",
       "    </tr>\n",
       "    <tr>\n",
       "      <th>296</th>\n",
       "      <td>2011-08-30</td>\n",
       "      <td>4.900</td>\n",
       "      <td>4.954</td>\n",
       "      <td>4.818</td>\n",
       "      <td>4.926</td>\n",
       "      <td>4.926</td>\n",
       "      <td>1831000</td>\n",
       "    </tr>\n",
       "    <tr>\n",
       "      <th>297</th>\n",
       "      <td>2011-08-31</td>\n",
       "      <td>4.960</td>\n",
       "      <td>5.100</td>\n",
       "      <td>4.856</td>\n",
       "      <td>4.948</td>\n",
       "      <td>4.948</td>\n",
       "      <td>4119000</td>\n",
       "    </tr>\n",
       "    <tr>\n",
       "      <th>298</th>\n",
       "      <td>2011-09-01</td>\n",
       "      <td>4.932</td>\n",
       "      <td>4.974</td>\n",
       "      <td>4.768</td>\n",
       "      <td>4.800</td>\n",
       "      <td>4.800</td>\n",
       "      <td>4240500</td>\n",
       "    </tr>\n",
       "    <tr>\n",
       "      <th>299</th>\n",
       "      <td>2011-09-02</td>\n",
       "      <td>4.732</td>\n",
       "      <td>4.798</td>\n",
       "      <td>4.536</td>\n",
       "      <td>4.614</td>\n",
       "      <td>4.614</td>\n",
       "      <td>3849500</td>\n",
       "    </tr>\n",
       "    <tr>\n",
       "      <th>300</th>\n",
       "      <td>2011-09-06</td>\n",
       "      <td>4.500</td>\n",
       "      <td>4.640</td>\n",
       "      <td>4.458</td>\n",
       "      <td>4.588</td>\n",
       "      <td>4.588</td>\n",
       "      <td>4049000</td>\n",
       "    </tr>\n",
       "    <tr>\n",
       "      <th>301</th>\n",
       "      <td>2011-09-07</td>\n",
       "      <td>4.678</td>\n",
       "      <td>4.800</td>\n",
       "      <td>4.656</td>\n",
       "      <td>4.768</td>\n",
       "      <td>4.768</td>\n",
       "      <td>2296000</td>\n",
       "    </tr>\n",
       "    <tr>\n",
       "      <th>302</th>\n",
       "      <td>2011-09-08</td>\n",
       "      <td>4.716</td>\n",
       "      <td>4.806</td>\n",
       "      <td>4.656</td>\n",
       "      <td>4.722</td>\n",
       "      <td>4.722</td>\n",
       "      <td>2528500</td>\n",
       "    </tr>\n",
       "    <tr>\n",
       "      <th>303</th>\n",
       "      <td>2011-09-09</td>\n",
       "      <td>4.674</td>\n",
       "      <td>4.714</td>\n",
       "      <td>4.510</td>\n",
       "      <td>4.594</td>\n",
       "      <td>4.594</td>\n",
       "      <td>3346500</td>\n",
       "    </tr>\n",
       "    <tr>\n",
       "      <th>304</th>\n",
       "      <td>2011-09-12</td>\n",
       "      <td>4.500</td>\n",
       "      <td>4.662</td>\n",
       "      <td>4.490</td>\n",
       "      <td>4.576</td>\n",
       "      <td>4.576</td>\n",
       "      <td>2833000</td>\n",
       "    </tr>\n",
       "  </tbody>\n",
       "</table>\n",
       "</div>"
      ],
      "text/plain": [
       "           Date   Open   High    Low  Close  Adj Close   Volume\n",
       "295  2011-08-29  4.844  4.970  4.804  4.942      4.942  4017000\n",
       "296  2011-08-30  4.900  4.954  4.818  4.926      4.926  1831000\n",
       "297  2011-08-31  4.960  5.100  4.856  4.948      4.948  4119000\n",
       "298  2011-09-01  4.932  4.974  4.768  4.800      4.800  4240500\n",
       "299  2011-09-02  4.732  4.798  4.536  4.614      4.614  3849500\n",
       "300  2011-09-06  4.500  4.640  4.458  4.588      4.588  4049000\n",
       "301  2011-09-07  4.678  4.800  4.656  4.768      4.768  2296000\n",
       "302  2011-09-08  4.716  4.806  4.656  4.722      4.722  2528500\n",
       "303  2011-09-09  4.674  4.714  4.510  4.594      4.594  3346500\n",
       "304  2011-09-12  4.500  4.662  4.490  4.576      4.576  2833000"
      ]
     },
     "execution_count": 287,
     "metadata": {},
     "output_type": "execute_result"
    }
   ],
   "source": [
    "df[295:305]"
   ]
  },
  {
   "cell_type": "code",
   "execution_count": 289,
   "id": "47c73d82",
   "metadata": {},
   "outputs": [
    {
     "data": {
      "text/plain": [
       "4.458"
      ]
     },
     "execution_count": 289,
     "metadata": {},
     "output_type": "execute_result"
    }
   ],
   "source": [
    "df.iloc[300, 3]"
   ]
  },
  {
   "cell_type": "code",
   "execution_count": 292,
   "id": "bcace7eb",
   "metadata": {},
   "outputs": [
    {
     "data": {
      "text/html": [
       "<div>\n",
       "<style scoped>\n",
       "    .dataframe tbody tr th:only-of-type {\n",
       "        vertical-align: middle;\n",
       "    }\n",
       "\n",
       "    .dataframe tbody tr th {\n",
       "        vertical-align: top;\n",
       "    }\n",
       "\n",
       "    .dataframe thead th {\n",
       "        text-align: right;\n",
       "    }\n",
       "</style>\n",
       "<table border=\"1\" class=\"dataframe\">\n",
       "  <thead>\n",
       "    <tr style=\"text-align: right;\">\n",
       "      <th></th>\n",
       "      <th>Open</th>\n",
       "      <th>Close</th>\n",
       "    </tr>\n",
       "  </thead>\n",
       "  <tbody>\n",
       "    <tr>\n",
       "      <th>100</th>\n",
       "      <td>6.134</td>\n",
       "      <td>5.978</td>\n",
       "    </tr>\n",
       "    <tr>\n",
       "      <th>300</th>\n",
       "      <td>4.500</td>\n",
       "      <td>4.588</td>\n",
       "    </tr>\n",
       "  </tbody>\n",
       "</table>\n",
       "</div>"
      ],
      "text/plain": [
       "      Open  Close\n",
       "100  6.134  5.978\n",
       "300  4.500  4.588"
      ]
     },
     "execution_count": 292,
     "metadata": {},
     "output_type": "execute_result"
    }
   ],
   "source": [
    "df.iloc[[100, 300], [1, 4]]"
   ]
  },
  {
   "cell_type": "code",
   "execution_count": 293,
   "id": "3f86d8b5",
   "metadata": {},
   "outputs": [
    {
     "data": {
      "text/plain": [
       "304694000"
      ]
     },
     "execution_count": 293,
     "metadata": {},
     "output_type": "execute_result"
    }
   ],
   "source": [
    "df['Volume'].max()"
   ]
  },
  {
   "cell_type": "code",
   "execution_count": 294,
   "id": "56ac02c8",
   "metadata": {},
   "outputs": [
    {
     "data": {
      "text/plain": [
       "45.664001"
      ]
     },
     "execution_count": 294,
     "metadata": {},
     "output_type": "execute_result"
    }
   ],
   "source": [
    "df['Close'].median()"
   ]
  },
  {
   "cell_type": "code",
   "execution_count": 295,
   "id": "78c34675",
   "metadata": {},
   "outputs": [
    {
     "data": {
      "text/plain": [
       "98.34987687984356"
      ]
     },
     "execution_count": 295,
     "metadata": {},
     "output_type": "execute_result"
    }
   ],
   "source": [
    "df['Close'].mean()"
   ]
  },
  {
   "cell_type": "code",
   "execution_count": 309,
   "id": "f64f3072",
   "metadata": {},
   "outputs": [],
   "source": [
    "df = df.dropna()"
   ]
  },
  {
   "cell_type": "code",
   "execution_count": 297,
   "id": "9d23bec6",
   "metadata": {
    "scrolled": false
   },
   "outputs": [
    {
     "data": {
      "text/html": [
       "<div>\n",
       "<style scoped>\n",
       "    .dataframe tbody tr th:only-of-type {\n",
       "        vertical-align: middle;\n",
       "    }\n",
       "\n",
       "    .dataframe tbody tr th {\n",
       "        vertical-align: top;\n",
       "    }\n",
       "\n",
       "    .dataframe thead th {\n",
       "        text-align: right;\n",
       "    }\n",
       "</style>\n",
       "<table border=\"1\" class=\"dataframe\">\n",
       "  <thead>\n",
       "    <tr style=\"text-align: right;\">\n",
       "      <th></th>\n",
       "      <th>Date</th>\n",
       "      <th>Open</th>\n",
       "      <th>High</th>\n",
       "      <th>Low</th>\n",
       "      <th>Close</th>\n",
       "      <th>Adj Close</th>\n",
       "      <th>Volume</th>\n",
       "    </tr>\n",
       "  </thead>\n",
       "  <tbody>\n",
       "    <tr>\n",
       "      <th>0</th>\n",
       "      <td>2010-06-29</td>\n",
       "      <td>3.800000</td>\n",
       "      <td>5.000000</td>\n",
       "      <td>3.508000</td>\n",
       "      <td>4.778000</td>\n",
       "      <td>4.778000</td>\n",
       "      <td>93831500</td>\n",
       "    </tr>\n",
       "    <tr>\n",
       "      <th>1</th>\n",
       "      <td>2010-06-30</td>\n",
       "      <td>5.158000</td>\n",
       "      <td>6.084000</td>\n",
       "      <td>4.660000</td>\n",
       "      <td>4.766000</td>\n",
       "      <td>4.766000</td>\n",
       "      <td>85935500</td>\n",
       "    </tr>\n",
       "    <tr>\n",
       "      <th>2</th>\n",
       "      <td>2010-07-01</td>\n",
       "      <td>5.000000</td>\n",
       "      <td>5.184000</td>\n",
       "      <td>4.054000</td>\n",
       "      <td>4.392000</td>\n",
       "      <td>4.392000</td>\n",
       "      <td>41094000</td>\n",
       "    </tr>\n",
       "    <tr>\n",
       "      <th>3</th>\n",
       "      <td>2010-07-02</td>\n",
       "      <td>4.600000</td>\n",
       "      <td>4.620000</td>\n",
       "      <td>3.742000</td>\n",
       "      <td>3.840000</td>\n",
       "      <td>3.840000</td>\n",
       "      <td>25699000</td>\n",
       "    </tr>\n",
       "    <tr>\n",
       "      <th>4</th>\n",
       "      <td>2010-07-06</td>\n",
       "      <td>4.000000</td>\n",
       "      <td>4.000000</td>\n",
       "      <td>3.166000</td>\n",
       "      <td>3.222000</td>\n",
       "      <td>3.222000</td>\n",
       "      <td>34334500</td>\n",
       "    </tr>\n",
       "    <tr>\n",
       "      <th>...</th>\n",
       "      <td>...</td>\n",
       "      <td>...</td>\n",
       "      <td>...</td>\n",
       "      <td>...</td>\n",
       "      <td>...</td>\n",
       "      <td>...</td>\n",
       "      <td>...</td>\n",
       "    </tr>\n",
       "    <tr>\n",
       "      <th>2808</th>\n",
       "      <td>2021-08-24</td>\n",
       "      <td>710.679993</td>\n",
       "      <td>715.219971</td>\n",
       "      <td>702.640015</td>\n",
       "      <td>708.489990</td>\n",
       "      <td>708.489990</td>\n",
       "      <td>13083100</td>\n",
       "    </tr>\n",
       "    <tr>\n",
       "      <th>2809</th>\n",
       "      <td>2021-08-25</td>\n",
       "      <td>707.030029</td>\n",
       "      <td>716.969971</td>\n",
       "      <td>704.000000</td>\n",
       "      <td>711.200012</td>\n",
       "      <td>711.200012</td>\n",
       "      <td>12645600</td>\n",
       "    </tr>\n",
       "    <tr>\n",
       "      <th>2810</th>\n",
       "      <td>2021-08-26</td>\n",
       "      <td>708.309998</td>\n",
       "      <td>715.400024</td>\n",
       "      <td>697.619995</td>\n",
       "      <td>701.159973</td>\n",
       "      <td>701.159973</td>\n",
       "      <td>13214300</td>\n",
       "    </tr>\n",
       "    <tr>\n",
       "      <th>2811</th>\n",
       "      <td>2021-08-27</td>\n",
       "      <td>705.000000</td>\n",
       "      <td>715.000000</td>\n",
       "      <td>702.099976</td>\n",
       "      <td>711.919983</td>\n",
       "      <td>711.919983</td>\n",
       "      <td>13762100</td>\n",
       "    </tr>\n",
       "    <tr>\n",
       "      <th>2812</th>\n",
       "      <td>2021-08-30</td>\n",
       "      <td>714.719971</td>\n",
       "      <td>731.000000</td>\n",
       "      <td>712.729980</td>\n",
       "      <td>730.909973</td>\n",
       "      <td>730.909973</td>\n",
       "      <td>18502400</td>\n",
       "    </tr>\n",
       "  </tbody>\n",
       "</table>\n",
       "<p>2813 rows × 7 columns</p>\n",
       "</div>"
      ],
      "text/plain": [
       "            Date        Open        High         Low       Close   Adj Close  \\\n",
       "0     2010-06-29    3.800000    5.000000    3.508000    4.778000    4.778000   \n",
       "1     2010-06-30    5.158000    6.084000    4.660000    4.766000    4.766000   \n",
       "2     2010-07-01    5.000000    5.184000    4.054000    4.392000    4.392000   \n",
       "3     2010-07-02    4.600000    4.620000    3.742000    3.840000    3.840000   \n",
       "4     2010-07-06    4.000000    4.000000    3.166000    3.222000    3.222000   \n",
       "...          ...         ...         ...         ...         ...         ...   \n",
       "2808  2021-08-24  710.679993  715.219971  702.640015  708.489990  708.489990   \n",
       "2809  2021-08-25  707.030029  716.969971  704.000000  711.200012  711.200012   \n",
       "2810  2021-08-26  708.309998  715.400024  697.619995  701.159973  701.159973   \n",
       "2811  2021-08-27  705.000000  715.000000  702.099976  711.919983  711.919983   \n",
       "2812  2021-08-30  714.719971  731.000000  712.729980  730.909973  730.909973   \n",
       "\n",
       "        Volume  \n",
       "0     93831500  \n",
       "1     85935500  \n",
       "2     41094000  \n",
       "3     25699000  \n",
       "4     34334500  \n",
       "...        ...  \n",
       "2808  13083100  \n",
       "2809  12645600  \n",
       "2810  13214300  \n",
       "2811  13762100  \n",
       "2812  18502400  \n",
       "\n",
       "[2813 rows x 7 columns]"
      ]
     },
     "execution_count": 297,
     "metadata": {},
     "output_type": "execute_result"
    }
   ],
   "source": [
    "df"
   ]
  },
  {
   "cell_type": "code",
   "execution_count": 298,
   "id": "5bcf6b11",
   "metadata": {},
   "outputs": [
    {
     "name": "stdout",
     "output_type": "stream",
     "text": [
      "<class 'pandas.core.frame.DataFrame'>\n",
      "Int64Index: 2813 entries, 0 to 2812\n",
      "Data columns (total 7 columns):\n",
      " #   Column     Non-Null Count  Dtype  \n",
      "---  ------     --------------  -----  \n",
      " 0   Date       2813 non-null   object \n",
      " 1   Open       2813 non-null   float64\n",
      " 2   High       2813 non-null   float64\n",
      " 3   Low        2813 non-null   float64\n",
      " 4   Close      2813 non-null   float64\n",
      " 5   Adj Close  2813 non-null   float64\n",
      " 6   Volume     2813 non-null   int64  \n",
      "dtypes: float64(5), int64(1), object(1)\n",
      "memory usage: 175.8+ KB\n"
     ]
    }
   ],
   "source": [
    "df.info()"
   ]
  },
  {
   "cell_type": "code",
   "execution_count": 307,
   "id": "b55fcbf9",
   "metadata": {},
   "outputs": [
    {
     "data": {
      "text/plain": [
       "95        5.720000\n",
       "96        5.650000\n",
       "97        6.044000\n",
       "98        6.200000\n",
       "99        6.040000\n",
       "           ...    \n",
       "2808    710.679993\n",
       "2809    707.030029\n",
       "2810    708.309998\n",
       "2811    705.000000\n",
       "2812    714.719971\n",
       "Name: Open, Length: 2555, dtype: float64"
      ]
     },
     "execution_count": 307,
     "metadata": {},
     "output_type": "execute_result"
    }
   ],
   "source": [
    "df['Open'].where(lambda x: x > 5.5).dropna()"
   ]
  },
  {
   "cell_type": "code",
   "execution_count": 310,
   "id": "24d24807",
   "metadata": {},
   "outputs": [
    {
     "data": {
      "text/plain": [
       "0         38.00000\n",
       "1         51.58000\n",
       "2         50.00000\n",
       "3         46.00000\n",
       "4         40.00000\n",
       "           ...    \n",
       "2808    7106.79993\n",
       "2809    7070.30029\n",
       "2810    7083.09998\n",
       "2811    7050.00000\n",
       "2812    7147.19971\n",
       "Name: Open, Length: 2813, dtype: float64"
      ]
     },
     "execution_count": 310,
     "metadata": {},
     "output_type": "execute_result"
    }
   ],
   "source": [
    "df['Open'].apply(lambda x: x * 10)"
   ]
  },
  {
   "cell_type": "code",
   "execution_count": 322,
   "id": "1513ce50",
   "metadata": {},
   "outputs": [
    {
     "data": {
      "text/plain": [
       "0         3.800000\n",
       "1         5.158000\n",
       "2         5.000000\n",
       "3         4.600000\n",
       "4         4.000000\n",
       "           ...    \n",
       "2808    710.679993\n",
       "2809    707.030029\n",
       "2810    708.309998\n",
       "2811    705.000000\n",
       "2812    714.719971\n",
       "Name: Open, Length: 2813, dtype: float64"
      ]
     },
     "execution_count": 322,
     "metadata": {},
     "output_type": "execute_result"
    }
   ],
   "source": [
    "df['Open'].apply(lambda x: average(x))"
   ]
  },
  {
   "cell_type": "code",
   "execution_count": 344,
   "id": "9026ee57",
   "metadata": {},
   "outputs": [
    {
     "data": {
      "text/html": [
       "<div>\n",
       "<style scoped>\n",
       "    .dataframe tbody tr th:only-of-type {\n",
       "        vertical-align: middle;\n",
       "    }\n",
       "\n",
       "    .dataframe tbody tr th {\n",
       "        vertical-align: top;\n",
       "    }\n",
       "\n",
       "    .dataframe thead th {\n",
       "        text-align: right;\n",
       "    }\n",
       "</style>\n",
       "<table border=\"1\" class=\"dataframe\">\n",
       "  <thead>\n",
       "    <tr style=\"text-align: right;\">\n",
       "      <th></th>\n",
       "      <th>Open</th>\n",
       "      <th>High</th>\n",
       "      <th>Low</th>\n",
       "      <th>Close</th>\n",
       "      <th>Adj Close</th>\n",
       "      <th>Volume</th>\n",
       "    </tr>\n",
       "  </thead>\n",
       "  <tbody>\n",
       "    <tr>\n",
       "      <th>1</th>\n",
       "      <td>4.479000</td>\n",
       "      <td>5.542000</td>\n",
       "      <td>4.084000</td>\n",
       "      <td>4.772000</td>\n",
       "      <td>4.772000</td>\n",
       "      <td>89883500.0</td>\n",
       "    </tr>\n",
       "    <tr>\n",
       "      <th>2</th>\n",
       "      <td>5.079000</td>\n",
       "      <td>5.634000</td>\n",
       "      <td>4.357000</td>\n",
       "      <td>4.579000</td>\n",
       "      <td>4.579000</td>\n",
       "      <td>63514750.0</td>\n",
       "    </tr>\n",
       "    <tr>\n",
       "      <th>3</th>\n",
       "      <td>4.800000</td>\n",
       "      <td>4.902000</td>\n",
       "      <td>3.898000</td>\n",
       "      <td>4.116000</td>\n",
       "      <td>4.116000</td>\n",
       "      <td>33396500.0</td>\n",
       "    </tr>\n",
       "    <tr>\n",
       "      <th>4</th>\n",
       "      <td>4.300000</td>\n",
       "      <td>4.310000</td>\n",
       "      <td>3.454000</td>\n",
       "      <td>3.531000</td>\n",
       "      <td>3.531000</td>\n",
       "      <td>30016750.0</td>\n",
       "    </tr>\n",
       "    <tr>\n",
       "      <th>5</th>\n",
       "      <td>3.640000</td>\n",
       "      <td>3.663000</td>\n",
       "      <td>3.081000</td>\n",
       "      <td>3.191000</td>\n",
       "      <td>3.191000</td>\n",
       "      <td>34471500.0</td>\n",
       "    </tr>\n",
       "    <tr>\n",
       "      <th>...</th>\n",
       "      <td>...</td>\n",
       "      <td>...</td>\n",
       "      <td>...</td>\n",
       "      <td>...</td>\n",
       "      <td>...</td>\n",
       "      <td>...</td>\n",
       "    </tr>\n",
       "    <tr>\n",
       "      <th>2808</th>\n",
       "      <td>698.059998</td>\n",
       "      <td>713.674988</td>\n",
       "      <td>691.695007</td>\n",
       "      <td>707.394989</td>\n",
       "      <td>707.394989</td>\n",
       "      <td>16674000.0</td>\n",
       "    </tr>\n",
       "    <tr>\n",
       "      <th>2809</th>\n",
       "      <td>708.855011</td>\n",
       "      <td>716.094971</td>\n",
       "      <td>703.320007</td>\n",
       "      <td>709.845001</td>\n",
       "      <td>709.845001</td>\n",
       "      <td>12864350.0</td>\n",
       "    </tr>\n",
       "    <tr>\n",
       "      <th>2810</th>\n",
       "      <td>707.670013</td>\n",
       "      <td>716.184998</td>\n",
       "      <td>700.809998</td>\n",
       "      <td>706.179993</td>\n",
       "      <td>706.179993</td>\n",
       "      <td>12929950.0</td>\n",
       "    </tr>\n",
       "    <tr>\n",
       "      <th>2811</th>\n",
       "      <td>706.654999</td>\n",
       "      <td>715.200012</td>\n",
       "      <td>699.859985</td>\n",
       "      <td>706.539978</td>\n",
       "      <td>706.539978</td>\n",
       "      <td>13488200.0</td>\n",
       "    </tr>\n",
       "    <tr>\n",
       "      <th>2812</th>\n",
       "      <td>709.859985</td>\n",
       "      <td>723.000000</td>\n",
       "      <td>707.414978</td>\n",
       "      <td>721.414978</td>\n",
       "      <td>721.414978</td>\n",
       "      <td>16132250.0</td>\n",
       "    </tr>\n",
       "  </tbody>\n",
       "</table>\n",
       "<p>2812 rows × 6 columns</p>\n",
       "</div>"
      ],
      "text/plain": [
       "            Open        High         Low       Close   Adj Close      Volume\n",
       "1       4.479000    5.542000    4.084000    4.772000    4.772000  89883500.0\n",
       "2       5.079000    5.634000    4.357000    4.579000    4.579000  63514750.0\n",
       "3       4.800000    4.902000    3.898000    4.116000    4.116000  33396500.0\n",
       "4       4.300000    4.310000    3.454000    3.531000    3.531000  30016750.0\n",
       "5       3.640000    3.663000    3.081000    3.191000    3.191000  34471500.0\n",
       "...          ...         ...         ...         ...         ...         ...\n",
       "2808  698.059998  713.674988  691.695007  707.394989  707.394989  16674000.0\n",
       "2809  708.855011  716.094971  703.320007  709.845001  709.845001  12864350.0\n",
       "2810  707.670013  716.184998  700.809998  706.179993  706.179993  12929950.0\n",
       "2811  706.654999  715.200012  699.859985  706.539978  706.539978  13488200.0\n",
       "2812  709.859985  723.000000  707.414978  721.414978  721.414978  16132250.0\n",
       "\n",
       "[2812 rows x 6 columns]"
      ]
     },
     "execution_count": 344,
     "metadata": {},
     "output_type": "execute_result"
    }
   ],
   "source": [
    "df.rolling(2, win_type='triang').mean().dropna()"
   ]
  },
  {
   "cell_type": "code",
   "execution_count": 343,
   "id": "873d7070",
   "metadata": {},
   "outputs": [
    {
     "data": {
      "text/plain": [
       "4.8"
      ]
     },
     "execution_count": 343,
     "metadata": {},
     "output_type": "execute_result"
    }
   ],
   "source": [
    "np.mean([5, 4.6])"
   ]
  },
  {
   "cell_type": "code",
   "execution_count": 346,
   "id": "9bc8ad8a",
   "metadata": {},
   "outputs": [
    {
     "data": {
      "text/html": [
       "<div>\n",
       "<style scoped>\n",
       "    .dataframe tbody tr th:only-of-type {\n",
       "        vertical-align: middle;\n",
       "    }\n",
       "\n",
       "    .dataframe tbody tr th {\n",
       "        vertical-align: top;\n",
       "    }\n",
       "\n",
       "    .dataframe thead th {\n",
       "        text-align: right;\n",
       "    }\n",
       "</style>\n",
       "<table border=\"1\" class=\"dataframe\">\n",
       "  <thead>\n",
       "    <tr style=\"text-align: right;\">\n",
       "      <th></th>\n",
       "      <th>a</th>\n",
       "      <th>b</th>\n",
       "    </tr>\n",
       "  </thead>\n",
       "  <tbody>\n",
       "    <tr>\n",
       "      <th>0</th>\n",
       "      <td>red</td>\n",
       "      <td>1</td>\n",
       "    </tr>\n",
       "    <tr>\n",
       "      <th>1</th>\n",
       "      <td>blue</td>\n",
       "      <td>6</td>\n",
       "    </tr>\n",
       "    <tr>\n",
       "      <th>2</th>\n",
       "      <td>red</td>\n",
       "      <td>3</td>\n",
       "    </tr>\n",
       "    <tr>\n",
       "      <th>3</th>\n",
       "      <td>yellow</td>\n",
       "      <td>5</td>\n",
       "    </tr>\n",
       "    <tr>\n",
       "      <th>4</th>\n",
       "      <td>red</td>\n",
       "      <td>0</td>\n",
       "    </tr>\n",
       "  </tbody>\n",
       "</table>\n",
       "</div>"
      ],
      "text/plain": [
       "        a  b\n",
       "0     red  1\n",
       "1    blue  6\n",
       "2     red  3\n",
       "3  yellow  5\n",
       "4     red  0"
      ]
     },
     "execution_count": 346,
     "metadata": {},
     "output_type": "execute_result"
    }
   ],
   "source": [
    "df = pd.DataFrame({\"a\": [\"red\", \"blue\", \"red\", \"yellow\", \"red\"], \"b\":[1, 6, 3, 5, 0]})\n",
    "df"
   ]
  },
  {
   "cell_type": "code",
   "execution_count": 350,
   "id": "05ce9763",
   "metadata": {},
   "outputs": [
    {
     "data": {
      "text/html": [
       "<div>\n",
       "<style scoped>\n",
       "    .dataframe tbody tr th:only-of-type {\n",
       "        vertical-align: middle;\n",
       "    }\n",
       "\n",
       "    .dataframe tbody tr th {\n",
       "        vertical-align: top;\n",
       "    }\n",
       "\n",
       "    .dataframe thead th {\n",
       "        text-align: right;\n",
       "    }\n",
       "</style>\n",
       "<table border=\"1\" class=\"dataframe\">\n",
       "  <thead>\n",
       "    <tr style=\"text-align: right;\">\n",
       "      <th></th>\n",
       "      <th>b</th>\n",
       "    </tr>\n",
       "    <tr>\n",
       "      <th>a</th>\n",
       "      <th></th>\n",
       "    </tr>\n",
       "  </thead>\n",
       "  <tbody>\n",
       "    <tr>\n",
       "      <th>blue</th>\n",
       "      <td>6</td>\n",
       "    </tr>\n",
       "    <tr>\n",
       "      <th>red</th>\n",
       "      <td>0</td>\n",
       "    </tr>\n",
       "    <tr>\n",
       "      <th>yellow</th>\n",
       "      <td>5</td>\n",
       "    </tr>\n",
       "  </tbody>\n",
       "</table>\n",
       "</div>"
      ],
      "text/plain": [
       "        b\n",
       "a        \n",
       "blue    6\n",
       "red     0\n",
       "yellow  5"
      ]
     },
     "execution_count": 350,
     "metadata": {},
     "output_type": "execute_result"
    }
   ],
   "source": [
    "df.groupby('a').min()"
   ]
  },
  {
   "cell_type": "code",
   "execution_count": 352,
   "id": "5d0ba956",
   "metadata": {},
   "outputs": [
    {
     "data": {
      "text/html": [
       "<div>\n",
       "<style scoped>\n",
       "    .dataframe tbody tr th:only-of-type {\n",
       "        vertical-align: middle;\n",
       "    }\n",
       "\n",
       "    .dataframe tbody tr th {\n",
       "        vertical-align: top;\n",
       "    }\n",
       "\n",
       "    .dataframe thead th {\n",
       "        text-align: right;\n",
       "    }\n",
       "</style>\n",
       "<table border=\"1\" class=\"dataframe\">\n",
       "  <thead>\n",
       "    <tr style=\"text-align: right;\">\n",
       "      <th></th>\n",
       "      <th>Open</th>\n",
       "      <th>Low</th>\n",
       "    </tr>\n",
       "  </thead>\n",
       "  <tbody>\n",
       "    <tr>\n",
       "      <th>0</th>\n",
       "      <td>1.900000</td>\n",
       "      <td>1.754000</td>\n",
       "    </tr>\n",
       "    <tr>\n",
       "      <th>1</th>\n",
       "      <td>2.579000</td>\n",
       "      <td>2.330000</td>\n",
       "    </tr>\n",
       "    <tr>\n",
       "      <th>2</th>\n",
       "      <td>2.500000</td>\n",
       "      <td>2.027000</td>\n",
       "    </tr>\n",
       "    <tr>\n",
       "      <th>3</th>\n",
       "      <td>2.300000</td>\n",
       "      <td>1.871000</td>\n",
       "    </tr>\n",
       "    <tr>\n",
       "      <th>4</th>\n",
       "      <td>2.000000</td>\n",
       "      <td>1.583000</td>\n",
       "    </tr>\n",
       "    <tr>\n",
       "      <th>...</th>\n",
       "      <td>...</td>\n",
       "      <td>...</td>\n",
       "    </tr>\n",
       "    <tr>\n",
       "      <th>2808</th>\n",
       "      <td>355.339996</td>\n",
       "      <td>351.320007</td>\n",
       "    </tr>\n",
       "    <tr>\n",
       "      <th>2809</th>\n",
       "      <td>353.515015</td>\n",
       "      <td>352.000000</td>\n",
       "    </tr>\n",
       "    <tr>\n",
       "      <th>2810</th>\n",
       "      <td>354.154999</td>\n",
       "      <td>348.809998</td>\n",
       "    </tr>\n",
       "    <tr>\n",
       "      <th>2811</th>\n",
       "      <td>352.500000</td>\n",
       "      <td>351.049988</td>\n",
       "    </tr>\n",
       "    <tr>\n",
       "      <th>2812</th>\n",
       "      <td>357.359985</td>\n",
       "      <td>356.364990</td>\n",
       "    </tr>\n",
       "  </tbody>\n",
       "</table>\n",
       "<p>2813 rows × 2 columns</p>\n",
       "</div>"
      ],
      "text/plain": [
       "            Open         Low\n",
       "0       1.900000    1.754000\n",
       "1       2.579000    2.330000\n",
       "2       2.500000    2.027000\n",
       "3       2.300000    1.871000\n",
       "4       2.000000    1.583000\n",
       "...          ...         ...\n",
       "2808  355.339996  351.320007\n",
       "2809  353.515015  352.000000\n",
       "2810  354.154999  348.809998\n",
       "2811  352.500000  351.049988\n",
       "2812  357.359985  356.364990\n",
       "\n",
       "[2813 rows x 2 columns]"
      ]
     },
     "execution_count": 352,
     "metadata": {},
     "output_type": "execute_result"
    }
   ],
   "source": [
    "df[['Open', 'Low']].div(2)"
   ]
  },
  {
   "cell_type": "code",
   "execution_count": 356,
   "id": "1c097526",
   "metadata": {},
   "outputs": [
    {
     "data": {
      "text/html": [
       "<div>\n",
       "<style scoped>\n",
       "    .dataframe tbody tr th:only-of-type {\n",
       "        vertical-align: middle;\n",
       "    }\n",
       "\n",
       "    .dataframe tbody tr th {\n",
       "        vertical-align: top;\n",
       "    }\n",
       "\n",
       "    .dataframe thead th {\n",
       "        text-align: right;\n",
       "    }\n",
       "</style>\n",
       "<table border=\"1\" class=\"dataframe\">\n",
       "  <thead>\n",
       "    <tr style=\"text-align: right;\">\n",
       "      <th></th>\n",
       "      <th>Date</th>\n",
       "      <th>Open</th>\n",
       "      <th>High</th>\n",
       "      <th>Low</th>\n",
       "      <th>Close</th>\n",
       "      <th>Adj Close</th>\n",
       "      <th>Volume</th>\n",
       "    </tr>\n",
       "  </thead>\n",
       "  <tbody>\n",
       "    <tr>\n",
       "      <th>0</th>\n",
       "      <td>2010-06-29</td>\n",
       "      <td>3.800000</td>\n",
       "      <td>-0.544021</td>\n",
       "      <td>3.508000</td>\n",
       "      <td>4.778000</td>\n",
       "      <td>4.778000</td>\n",
       "      <td>93831500</td>\n",
       "    </tr>\n",
       "    <tr>\n",
       "      <th>1</th>\n",
       "      <td>2010-06-30</td>\n",
       "      <td>5.158000</td>\n",
       "      <td>-0.387917</td>\n",
       "      <td>4.660000</td>\n",
       "      <td>4.766000</td>\n",
       "      <td>4.766000</td>\n",
       "      <td>85935500</td>\n",
       "    </tr>\n",
       "    <tr>\n",
       "      <th>2</th>\n",
       "      <td>2010-07-01</td>\n",
       "      <td>5.000000</td>\n",
       "      <td>-0.809454</td>\n",
       "      <td>4.054000</td>\n",
       "      <td>4.392000</td>\n",
       "      <td>4.392000</td>\n",
       "      <td>41094000</td>\n",
       "    </tr>\n",
       "    <tr>\n",
       "      <th>3</th>\n",
       "      <td>2010-07-02</td>\n",
       "      <td>4.600000</td>\n",
       "      <td>0.183728</td>\n",
       "      <td>3.742000</td>\n",
       "      <td>3.840000</td>\n",
       "      <td>3.840000</td>\n",
       "      <td>25699000</td>\n",
       "    </tr>\n",
       "    <tr>\n",
       "      <th>4</th>\n",
       "      <td>2010-07-06</td>\n",
       "      <td>4.000000</td>\n",
       "      <td>0.989358</td>\n",
       "      <td>3.166000</td>\n",
       "      <td>3.222000</td>\n",
       "      <td>3.222000</td>\n",
       "      <td>34334500</td>\n",
       "    </tr>\n",
       "    <tr>\n",
       "      <th>...</th>\n",
       "      <td>...</td>\n",
       "      <td>...</td>\n",
       "      <td>...</td>\n",
       "      <td>...</td>\n",
       "      <td>...</td>\n",
       "      <td>...</td>\n",
       "      <td>...</td>\n",
       "    </tr>\n",
       "    <tr>\n",
       "      <th>2808</th>\n",
       "      <td>2021-08-24</td>\n",
       "      <td>710.679993</td>\n",
       "      <td>-0.849631</td>\n",
       "      <td>702.640015</td>\n",
       "      <td>708.489990</td>\n",
       "      <td>708.489990</td>\n",
       "      <td>13083100</td>\n",
       "    </tr>\n",
       "    <tr>\n",
       "      <th>2809</th>\n",
       "      <td>2021-08-25</td>\n",
       "      <td>707.030029</td>\n",
       "      <td>0.980638</td>\n",
       "      <td>704.000000</td>\n",
       "      <td>711.200012</td>\n",
       "      <td>711.200012</td>\n",
       "      <td>12645600</td>\n",
       "    </tr>\n",
       "    <tr>\n",
       "      <th>2810</th>\n",
       "      <td>2021-08-26</td>\n",
       "      <td>708.309998</td>\n",
       "      <td>-0.980969</td>\n",
       "      <td>697.619995</td>\n",
       "      <td>701.159973</td>\n",
       "      <td>701.159973</td>\n",
       "      <td>13214300</td>\n",
       "    </tr>\n",
       "    <tr>\n",
       "      <th>2811</th>\n",
       "      <td>2021-08-27</td>\n",
       "      <td>705.000000</td>\n",
       "      <td>-0.544122</td>\n",
       "      <td>702.099976</td>\n",
       "      <td>711.919983</td>\n",
       "      <td>711.919983</td>\n",
       "      <td>13762100</td>\n",
       "    </tr>\n",
       "    <tr>\n",
       "      <th>2812</th>\n",
       "      <td>2021-08-30</td>\n",
       "      <td>714.719971</td>\n",
       "      <td>-0.916570</td>\n",
       "      <td>712.729980</td>\n",
       "      <td>730.909973</td>\n",
       "      <td>730.909973</td>\n",
       "      <td>18502400</td>\n",
       "    </tr>\n",
       "  </tbody>\n",
       "</table>\n",
       "<p>2813 rows × 7 columns</p>\n",
       "</div>"
      ],
      "text/plain": [
       "            Date        Open      High         Low       Close   Adj Close  \\\n",
       "0     2010-06-29    3.800000 -0.544021    3.508000    4.778000    4.778000   \n",
       "1     2010-06-30    5.158000 -0.387917    4.660000    4.766000    4.766000   \n",
       "2     2010-07-01    5.000000 -0.809454    4.054000    4.392000    4.392000   \n",
       "3     2010-07-02    4.600000  0.183728    3.742000    3.840000    3.840000   \n",
       "4     2010-07-06    4.000000  0.989358    3.166000    3.222000    3.222000   \n",
       "...          ...         ...       ...         ...         ...         ...   \n",
       "2808  2021-08-24  710.679993 -0.849631  702.640015  708.489990  708.489990   \n",
       "2809  2021-08-25  707.030029  0.980638  704.000000  711.200012  711.200012   \n",
       "2810  2021-08-26  708.309998 -0.980969  697.619995  701.159973  701.159973   \n",
       "2811  2021-08-27  705.000000 -0.544122  702.099976  711.919983  711.919983   \n",
       "2812  2021-08-30  714.719971 -0.916570  712.729980  730.909973  730.909973   \n",
       "\n",
       "        Volume  \n",
       "0     93831500  \n",
       "1     85935500  \n",
       "2     41094000  \n",
       "3     25699000  \n",
       "4     34334500  \n",
       "...        ...  \n",
       "2808  13083100  \n",
       "2809  12645600  \n",
       "2810  13214300  \n",
       "2811  13762100  \n",
       "2812  18502400  \n",
       "\n",
       "[2813 rows x 7 columns]"
      ]
     },
     "execution_count": 356,
     "metadata": {},
     "output_type": "execute_result"
    }
   ],
   "source": [
    "df['High'] = np.sin(df.loc[:, 'High'])\n",
    "df"
   ]
  },
  {
   "cell_type": "code",
   "execution_count": 357,
   "id": "73b6f308",
   "metadata": {},
   "outputs": [
    {
     "data": {
      "text/plain": [
       "0      -0.544021\n",
       "1      -0.387917\n",
       "2      -0.809454\n",
       "3       0.183728\n",
       "4       0.989358\n",
       "          ...   \n",
       "2808   -0.849631\n",
       "2809    0.980638\n",
       "2810   -0.980969\n",
       "2811   -0.544122\n",
       "2812   -0.916570\n",
       "Name: High, Length: 2813, dtype: float64"
      ]
     },
     "execution_count": 357,
     "metadata": {},
     "output_type": "execute_result"
    }
   ],
   "source": [
    "df.loc[:, 'High']"
   ]
  },
  {
   "cell_type": "code",
   "execution_count": 355,
   "id": "463f9b8b",
   "metadata": {},
   "outputs": [
    {
     "name": "stdout",
     "output_type": "stream",
     "text": [
      "240 µs ± 3.51 µs per loop (mean ± std. dev. of 7 runs, 1000 loops each)\n"
     ]
    }
   ],
   "source": [
    "%timeit df.loc[:, 'High'] * 2"
   ]
  },
  {
   "cell_type": "code",
   "execution_count": 354,
   "id": "5533acc0",
   "metadata": {},
   "outputs": [
    {
     "name": "stdout",
     "output_type": "stream",
     "text": [
      "1.37 ms ± 39 µs per loop (mean ± std. dev. of 7 runs, 100 loops each)\n"
     ]
    }
   ],
   "source": [
    "%timeit df['High'].apply(lambda x: x * 2)"
   ]
  },
  {
   "cell_type": "code",
   "execution_count": 358,
   "id": "09cb05fd",
   "metadata": {},
   "outputs": [
    {
     "data": {
      "text/plain": [
       "0    abs\n",
       "1    bsa\n",
       "2    asb\n",
       "dtype: object"
      ]
     },
     "execution_count": 358,
     "metadata": {},
     "output_type": "execute_result"
    }
   ],
   "source": [
    "ser2 = pd.Series(['abs', 'bsa', 'asb'])\n",
    "ser2"
   ]
  },
  {
   "cell_type": "code",
   "execution_count": 359,
   "id": "d2aa7d1c",
   "metadata": {},
   "outputs": [],
   "source": [
    "import re"
   ]
  },
  {
   "cell_type": "code",
   "execution_count": 369,
   "id": "b25b149e",
   "metadata": {},
   "outputs": [
    {
     "data": {
      "text/plain": [
       "[('as', 1), ('sa', 1), ('as', 1)]"
      ]
     },
     "execution_count": 369,
     "metadata": {},
     "output_type": "execute_result"
    }
   ],
   "source": [
    "[re.subn(\"b\", \"\", x) for x in ser2.loc[:]]"
   ]
  },
  {
   "cell_type": "code",
   "execution_count": null,
   "id": "a701d43c",
   "metadata": {},
   "outputs": [],
   "source": []
  }
 ],
 "metadata": {
  "kernelspec": {
   "display_name": "Python 3 (ipykernel)",
   "language": "python",
   "name": "python3"
  },
  "language_info": {
   "codemirror_mode": {
    "name": "ipython",
    "version": 3
   },
   "file_extension": ".py",
   "mimetype": "text/x-python",
   "name": "python",
   "nbconvert_exporter": "python",
   "pygments_lexer": "ipython3",
   "version": "3.9.6"
  }
 },
 "nbformat": 4,
 "nbformat_minor": 5
}
