{
 "cells": [
  {
   "cell_type": "code",
   "execution_count": 1,
   "metadata": {
    "ExecuteTime": {
     "end_time": "2020-03-06T21:50:25.947937Z",
     "start_time": "2020-03-06T21:50:25.936917Z"
    }
   },
   "outputs": [],
   "source": [
    "%load_ext autoreload\n",
    "%autoreload 2"
   ]
  },
  {
   "cell_type": "code",
   "execution_count": 2,
   "metadata": {
    "ExecuteTime": {
     "end_time": "2020-03-06T21:50:25.974665Z",
     "start_time": "2020-03-06T21:50:25.949803Z"
    }
   },
   "outputs": [
    {
     "name": "stdout",
     "output_type": "stream",
     "text": [
      "env: CUDA_DEVICE_ORDER=PCI_BUS_ID\n",
      "env: CUDA_VISIBLE_DEVICES=[]#2\n"
     ]
    }
   ],
   "source": [
    "%env CUDA_DEVICE_ORDER=PCI_BUS_ID\n",
    "%env CUDA_VISIBLE_DEVICES=[]#2"
   ]
  },
  {
   "cell_type": "code",
   "execution_count": 3,
   "metadata": {
    "ExecuteTime": {
     "end_time": "2020-03-06T21:50:28.336716Z",
     "start_time": "2020-03-06T21:50:25.976630Z"
    }
   },
   "outputs": [
    {
     "name": "stderr",
     "output_type": "stream",
     "text": [
      "/mnt/cube/tsainbur/conda_envs/tpy3/lib/python3.6/site-packages/tqdm/autonotebook/__init__.py:14: TqdmExperimentalWarning: Using `tqdm.autonotebook.tqdm` in notebook mode. Use `tqdm.tqdm` instead to force console mode (e.g. in jupyter console)\n",
      "  \" (e.g. in jupyter console)\", TqdmExperimentalWarning)\n"
     ]
    }
   ],
   "source": [
    "from avgn.utils.paths import DATA_DIR, most_recent_subdirectory, ensure_dir"
   ]
  },
  {
   "cell_type": "code",
   "execution_count": 4,
   "metadata": {
    "ExecuteTime": {
     "end_time": "2020-03-06T21:50:28.359426Z",
     "start_time": "2020-03-06T21:50:28.339175Z"
    }
   },
   "outputs": [],
   "source": [
    "import numpy as np\n",
    "import matplotlib.pyplot as plt\n",
    "from tqdm.autonotebook import tqdm\n",
    "%matplotlib inline\n",
    "from IPython import display"
   ]
  },
  {
   "cell_type": "code",
   "execution_count": 5,
   "metadata": {
    "ExecuteTime": {
     "end_time": "2020-03-06T21:50:29.364006Z",
     "start_time": "2020-03-06T21:50:28.361146Z"
    }
   },
   "outputs": [],
   "source": [
    "from cuml.manifold.umap import UMAP as cumlUMAP"
   ]
  },
  {
   "cell_type": "code",
   "execution_count": 6,
   "metadata": {
    "ExecuteTime": {
     "end_time": "2020-03-06T21:50:29.647120Z",
     "start_time": "2020-03-06T21:50:29.366275Z"
    }
   },
   "outputs": [],
   "source": [
    "all_x = np.load(DATA_DIR / 'starling_128_numpy' / 'all_specs.npy')"
   ]
  },
  {
   "cell_type": "code",
   "execution_count": 7,
   "metadata": {
    "ExecuteTime": {
     "end_time": "2020-03-06T21:50:29.671981Z",
     "start_time": "2020-03-06T21:50:29.649492Z"
    }
   },
   "outputs": [],
   "source": [
    "x1, x2, x3 = np.load(DATA_DIR / 'starling_128_numpy' / 'j-points.npy')"
   ]
  },
  {
   "cell_type": "code",
   "execution_count": 8,
   "metadata": {
    "ExecuteTime": {
     "end_time": "2020-03-06T21:50:29.695046Z",
     "start_time": "2020-03-06T21:50:29.673662Z"
    }
   },
   "outputs": [
    {
     "data": {
      "text/plain": [
       "(91648, 128, 128)"
      ]
     },
     "execution_count": 8,
     "metadata": {},
     "output_type": "execute_result"
    }
   ],
   "source": [
    "np.shape(all_x)"
   ]
  },
  {
   "cell_type": "markdown",
   "metadata": {},
   "source": [
    "### PCA"
   ]
  },
  {
   "cell_type": "code",
   "execution_count": 9,
   "metadata": {
    "ExecuteTime": {
     "end_time": "2020-03-06T21:50:29.717884Z",
     "start_time": "2020-03-06T21:50:29.696778Z"
    }
   },
   "outputs": [],
   "source": [
    "from avgn.signalprocessing.create_spectrogram_dataset import flatten_spectrograms"
   ]
  },
  {
   "cell_type": "code",
   "execution_count": 10,
   "metadata": {
    "ExecuteTime": {
     "end_time": "2020-03-06T21:50:29.739657Z",
     "start_time": "2020-03-06T21:50:29.720490Z"
    }
   },
   "outputs": [],
   "source": [
    "# umap\n",
    "specs_flattened = flatten_spectrograms(all_x)#[:, :10]#[:20000]"
   ]
  },
  {
   "cell_type": "code",
   "execution_count": 11,
   "metadata": {
    "ExecuteTime": {
     "end_time": "2020-03-06T21:50:29.761988Z",
     "start_time": "2020-03-06T21:50:29.741493Z"
    }
   },
   "outputs": [
    {
     "data": {
      "text/plain": [
       "(91648, 16384)"
      ]
     },
     "execution_count": 11,
     "metadata": {},
     "output_type": "execute_result"
    }
   ],
   "source": [
    "np.shape(specs_flattened)"
   ]
  },
  {
   "cell_type": "code",
   "execution_count": 12,
   "metadata": {
    "ExecuteTime": {
     "end_time": "2020-03-06T21:50:29.785515Z",
     "start_time": "2020-03-06T21:50:29.764540Z"
    }
   },
   "outputs": [],
   "source": [
    "from sklearn.decomposition import PCA"
   ]
  },
  {
   "cell_type": "code",
   "execution_count": 13,
   "metadata": {
    "ExecuteTime": {
     "end_time": "2020-03-06T21:50:29.803683Z",
     "start_time": "2020-03-06T21:50:29.786937Z"
    }
   },
   "outputs": [],
   "source": [
    "pca = PCA(n_components=1000)"
   ]
  },
  {
   "cell_type": "code",
   "execution_count": 14,
   "metadata": {
    "ExecuteTime": {
     "end_time": "2020-03-06T21:56:15.396007Z",
     "start_time": "2020-03-06T21:50:29.805376Z"
    }
   },
   "outputs": [
    {
     "data": {
      "text/plain": [
       "PCA(copy=True, iterated_power='auto', n_components=1000, random_state=None,\n",
       "    svd_solver='auto', tol=0.0, whiten=False)"
      ]
     },
     "execution_count": 14,
     "metadata": {},
     "output_type": "execute_result"
    }
   ],
   "source": [
    "pca.fit(specs_flattened)"
   ]
  },
  {
   "cell_type": "code",
   "execution_count": 15,
   "metadata": {
    "ExecuteTime": {
     "end_time": "2020-03-06T21:56:24.810247Z",
     "start_time": "2020-03-06T21:56:15.402096Z"
    }
   },
   "outputs": [],
   "source": [
    "zpca = pca.transform(specs_flattened)"
   ]
  },
  {
   "cell_type": "code",
   "execution_count": 16,
   "metadata": {
    "ExecuteTime": {
     "end_time": "2020-03-06T21:56:24.887781Z",
     "start_time": "2020-03-06T21:56:24.813399Z"
    }
   },
   "outputs": [],
   "source": [
    "proj = pca.inverse_transform(zpca[0])"
   ]
  },
  {
   "cell_type": "code",
   "execution_count": 17,
   "metadata": {
    "ExecuteTime": {
     "end_time": "2020-03-06T21:56:25.124923Z",
     "start_time": "2020-03-06T21:56:24.890386Z"
    }
   },
   "outputs": [
    {
     "data": {
      "text/plain": [
       "<matplotlib.image.AxesImage at 0x7f1afbcf6b70>"
      ]
     },
     "execution_count": 17,
     "metadata": {},
     "output_type": "execute_result"
    },
    {
     "data": {
      "image/png": "[encoded data removed]",
      "text/plain": [
       "<Figure size 720x360 with 2 Axes>"
      ]
     },
     "metadata": {
      "needs_background": "light"
     },
     "output_type": "display_data"
    }
   ],
   "source": [
    "fig, axs = plt.subplots(ncols=2, figsize=(10,5))\n",
    "axs[0].matshow(specs_flattened[0].reshape((128,128)))\n",
    "axs[1].matshow(proj.reshape((128,128)))"
   ]
  },
  {
   "cell_type": "code",
   "execution_count": 18,
   "metadata": {
    "ExecuteTime": {
     "end_time": "2020-03-06T21:56:25.153559Z",
     "start_time": "2020-03-06T21:56:25.127473Z"
    }
   },
   "outputs": [
    {
     "data": {
      "text/plain": [
       "(91648, 1000)"
      ]
     },
     "execution_count": 18,
     "metadata": {},
     "output_type": "execute_result"
    }
   ],
   "source": [
    "np.shape(zpca)"
   ]
  },
  {
   "cell_type": "markdown",
   "metadata": {},
   "source": [
    "### project umap"
   ]
  },
  {
   "cell_type": "code",
   "execution_count": 19,
   "metadata": {
    "ExecuteTime": {
     "end_time": "2020-03-06T21:56:26.318334Z",
     "start_time": "2020-03-06T21:56:25.155358Z"
    }
   },
   "outputs": [
    {
     "name": "stdout",
     "output_type": "stream",
     "text": [
      "0.4.0rc1\n"
     ]
    }
   ],
   "source": [
    "import umap\n",
    "print(umap.__version__)\n",
    "#import umap.plot"
   ]
  },
  {
   "cell_type": "code",
   "execution_count": 20,
   "metadata": {
    "ExecuteTime": {
     "end_time": "2020-03-06T21:56:26.343745Z",
     "start_time": "2020-03-06T21:56:26.320568Z"
    }
   },
   "outputs": [],
   "source": [
    "N_Z = 10 #128 #works with 2"
   ]
  },
  {
   "cell_type": "code",
   "execution_count": 21,
   "metadata": {
    "ExecuteTime": {
     "end_time": "2020-03-06T22:00:12.183697Z",
     "start_time": "2020-03-06T21:56:26.345340Z"
    },
    "scrolled": true
   },
   "outputs": [
    {
     "name": "stdout",
     "output_type": "stream",
     "text": [
      "UMAP(a=None, angular_rp_forest=False, b=None,\n",
      "     force_approximation_algorithm=False, init='spectral', learning_rate=1.0,\n",
      "     local_connectivity=1.0, low_memory=False, metric='euclidean',\n",
      "     metric_kwds=None, min_dist=0.1, n_components=32, n_epochs=None,\n",
      "     n_neighbors=15, negative_sample_rate=5, output_metric='euclidean',\n",
      "     output_metric_kwds=None, random_state=42, repulsion_strength=1.0,\n",
      "     set_op_mix_ratio=1.0, spread=1.0, target_metric='categorical',\n",
      "     target_metric_kwds=None, target_n_neighbors=-1, target_weight=0.5,\n",
      "     transform_queue_size=4.0, transform_seed=42, unique=False, verbose=True)\n",
      "Construct fuzzy simplicial set\n",
      "Fri Mar  6 13:56:26 2020 Finding Nearest Neighbors\n",
      "Fri Mar  6 13:56:26 2020 Building RP forest with 20 trees\n",
      "Fri Mar  6 13:56:47 2020 NN descent for 16 iterations\n",
      "\t 0  /  16\n",
      "\t 1  /  16\n",
      "\t 2  /  16\n",
      "\t 3  /  16\n",
      "\t 4  /  16\n",
      "\t 5  /  16\n",
      "\t 6  /  16\n",
      "Fri Mar  6 13:57:07 2020 Finished Nearest Neighbor Search\n",
      "Fri Mar  6 13:57:12 2020 Construct embedding\n",
      "\tcompleted  0  /  200 epochs\n",
      "\tcompleted  20  /  200 epochs\n",
      "\tcompleted  40  /  200 epochs\n",
      "\tcompleted  60  /  200 epochs\n",
      "\tcompleted  80  /  200 epochs\n",
      "\tcompleted  100  /  200 epochs\n",
      "\tcompleted  120  /  200 epochs\n",
      "\tcompleted  140  /  200 epochs\n",
      "\tcompleted  160  /  200 epochs\n",
      "\tcompleted  180  /  200 epochs\n",
      "Fri Mar  6 14:00:11 2020 Finished embedding\n"
     ]
    },
    {
     "data": {
      "text/plain": [
       "UMAP(a=None, angular_rp_forest=False, b=None,\n",
       "     force_approximation_algorithm=False, init='spectral', learning_rate=1.0,\n",
       "     local_connectivity=1.0, low_memory=False, metric='euclidean',\n",
       "     metric_kwds=None, min_dist=0.1, n_components=32, n_epochs=None,\n",
       "     n_neighbors=15, negative_sample_rate=5, output_metric='euclidean',\n",
       "     output_metric_kwds=None, random_state=42, repulsion_strength=1.0,\n",
       "     set_op_mix_ratio=1.0, spread=1.0, target_metric='categorical',\n",
       "     target_metric_kwds=None, target_n_neighbors=-1, target_weight=0.5,\n",
       "     transform_queue_size=4.0, transform_seed=42, unique=False, verbose=True)"
      ]
     },
     "execution_count": 21,
     "metadata": {},
     "output_type": "execute_result"
    }
   ],
   "source": [
    "mapper = umap.UMAP(random_state=42, n_components=N_Z, verbose=True)\n",
    "mapper.fit(zpca)"
   ]
  },
  {
   "cell_type": "code",
   "execution_count": 22,
   "metadata": {
    "ExecuteTime": {
     "end_time": "2020-03-06T22:00:13.017170Z",
     "start_time": "2020-03-06T22:00:12.185829Z"
    }
   },
   "outputs": [],
   "source": [
    "x = mapper.transform(zpca)#.astype('float32'))"
   ]
  },
  {
   "cell_type": "markdown",
   "metadata": {},
   "source": [
    "### map random points"
   ]
  },
  {
   "cell_type": "code",
   "execution_count": 23,
   "metadata": {
    "ExecuteTime": {
     "end_time": "2020-03-06T22:01:53.939087Z",
     "start_time": "2020-03-06T22:00:13.019002Z"
    }
   },
   "outputs": [
    {
     "ename": "QhullError",
     "evalue": "QH6235 qhull error (qh_memalloc): negative request size (-1499727832).  Did int overflow due to high-D?\n\nWhile executing:  | qhull d QJ\nOptions selected for Qhull 2019.1.r 2019/06/21:\n  run-id 657705220  delaunay  Qbbound-last-qj  Q3-no-merge-vertices-dim-high\n  Pgood  _run 1  QJoggle 2.2e-08  _joggle-seed 16807  _max-width 17\n  Error-roundoff 5.9e-13  Visible-distance 5.9e-13  U-max-coplanar 5.9e-13\n  Width-outside 1.2e-12  _wide-facet 3.5e-12  _maxoutside 4e-11\nLast point added to hull was p86483.\n\nAt error exit:\n\nDelaunay triangulation by the convex hull of 91648 points in 33-d:\n\n  Number of input sites: 43\n  Total number of nearly incident points: 91605\n  Number of Delaunay regions: 6350725\n\nStatistics for:  | qhull d QJ\n\n  Number of points processed: 42\n  Number of hyperplanes created: 3610563\n  Number of facets in hull: 6890600\n  Number of distance tests for qhull: 4472548\n  Input joggled by: 2.2e-08\n\n",
     "output_type": "error",
     "traceback": [
      "\u001b[0;31m---------------------------------------------------------------------------\u001b[0m",
      "\u001b[0;31mQhullError\u001b[0m                                Traceback (most recent call last)",
      "\u001b[0;32m<ipython-input-23-9b06ec98b84e>\u001b[0m in \u001b[0;36m<module>\u001b[0;34m\u001b[0m\n\u001b[1;32m      1\u001b[0m \u001b[0;31m#x_r = mapper.inverse_transform(x1)\u001b[0m\u001b[0;34m\u001b[0m\u001b[0;34m\u001b[0m\u001b[0;34m\u001b[0m\u001b[0m\n\u001b[0;32m----> 2\u001b[0;31m \u001b[0mx_r1\u001b[0m \u001b[0;34m=\u001b[0m \u001b[0mmapper\u001b[0m\u001b[0;34m.\u001b[0m\u001b[0minverse_transform\u001b[0m\u001b[0;34m(\u001b[0m\u001b[0mx\u001b[0m\u001b[0;34m[\u001b[0m\u001b[0;34m:\u001b[0m\u001b[0;36m5\u001b[0m\u001b[0;34m]\u001b[0m\u001b[0;34m)\u001b[0m\u001b[0;34m\u001b[0m\u001b[0;34m\u001b[0m\u001b[0m\n\u001b[0m",
      "\u001b[0;32m/mnt/cube/tsainbur/conda_envs/tpy3/lib/python3.6/site-packages/umap_learn-0.4.0rc1-py3.6.egg/umap/umap_.py\u001b[0m in \u001b[0;36minverse_transform\u001b[0;34m(self, X)\u001b[0m\n\u001b[1;32m   2186\u001b[0m         \u001b[0;31m# build Delaunay complex (Does this not assume a roughly euclidean output metric)?\u001b[0m\u001b[0;34m\u001b[0m\u001b[0;34m\u001b[0m\u001b[0;34m\u001b[0m\u001b[0m\n\u001b[1;32m   2187\u001b[0m         deltri = scipy.spatial.Delaunay(\n\u001b[0;32m-> 2188\u001b[0;31m             \u001b[0mself\u001b[0m\u001b[0;34m.\u001b[0m\u001b[0membedding_\u001b[0m\u001b[0;34m,\u001b[0m \u001b[0mincremental\u001b[0m\u001b[0;34m=\u001b[0m\u001b[0;32mTrue\u001b[0m\u001b[0;34m,\u001b[0m \u001b[0mqhull_options\u001b[0m\u001b[0;34m=\u001b[0m\u001b[0;34m\"QJ\"\u001b[0m\u001b[0;34m\u001b[0m\u001b[0;34m\u001b[0m\u001b[0m\n\u001b[0m\u001b[1;32m   2189\u001b[0m         )\n\u001b[1;32m   2190\u001b[0m         \u001b[0mneighbors\u001b[0m \u001b[0;34m=\u001b[0m \u001b[0mdeltri\u001b[0m\u001b[0;34m.\u001b[0m\u001b[0msimplices\u001b[0m\u001b[0;34m[\u001b[0m\u001b[0mdeltri\u001b[0m\u001b[0;34m.\u001b[0m\u001b[0mfind_simplex\u001b[0m\u001b[0;34m(\u001b[0m\u001b[0mX\u001b[0m\u001b[0;34m)\u001b[0m\u001b[0;34m]\u001b[0m\u001b[0;34m\u001b[0m\u001b[0;34m\u001b[0m\u001b[0m\n",
      "\u001b[0;32mqhull.pyx\u001b[0m in \u001b[0;36mscipy.spatial.qhull.Delaunay.__init__\u001b[0;34m()\u001b[0m\n",
      "\u001b[0;32mqhull.pyx\u001b[0m in \u001b[0;36mscipy.spatial.qhull._Qhull.__init__\u001b[0;34m()\u001b[0m\n",
      "\u001b[0;31mQhullError\u001b[0m: QH6235 qhull error (qh_memalloc): negative request size (-1499727832).  Did int overflow due to high-D?\n\nWhile executing:  | qhull d QJ\nOptions selected for Qhull 2019.1.r 2019/06/21:\n  run-id 657705220  delaunay  Qbbound-last-qj  Q3-no-merge-vertices-dim-high\n  Pgood  _run 1  QJoggle 2.2e-08  _joggle-seed 16807  _max-width 17\n  Error-roundoff 5.9e-13  Visible-distance 5.9e-13  U-max-coplanar 5.9e-13\n  Width-outside 1.2e-12  _wide-facet 3.5e-12  _maxoutside 4e-11\nLast point added to hull was p86483.\n\nAt error exit:\n\nDelaunay triangulation by the convex hull of 91648 points in 33-d:\n\n  Number of input sites: 43\n  Total number of nearly incident points: 91605\n  Number of Delaunay regions: 6350725\n\nStatistics for:  | qhull d QJ\n\n  Number of points processed: 42\n  Number of hyperplanes created: 3610563\n  Number of facets in hull: 6890600\n  Number of distance tests for qhull: 4472548\n  Input joggled by: 2.2e-08\n\n"
     ]
    }
   ],
   "source": [
    "#x_r = mapper.inverse_transform(x1)\n",
    "x_r1 = mapper.inverse_transform(x[:5])"
   ]
  },
  {
   "cell_type": "code",
   "execution_count": null,
   "metadata": {
    "ExecuteTime": {
     "end_time": "2020-03-06T22:01:53.941916Z",
     "start_time": "2020-03-06T21:50:25.951Z"
    }
   },
   "outputs": [],
   "source": [
    "x_r1 = pca.inverse_transform(x_r1)"
   ]
  },
  {
   "cell_type": "code",
   "execution_count": null,
   "metadata": {
    "ExecuteTime": {
     "end_time": "2020-03-06T22:01:53.943319Z",
     "start_time": "2020-03-06T21:50:25.953Z"
    },
    "scrolled": true
   },
   "outputs": [],
   "source": [
    "for i in range(5):\n",
    "    fig, axs = plt.subplots(ncols=2, figsize=(10,5))\n",
    "    axs[0].matshow(specs_flattened[i].reshape((128,128)), origin=\"lower\")\n",
    "    axs[1].matshow(x_r1[i].reshape((128,128)), origin=\"lower\")"
   ]
  },
  {
   "cell_type": "code",
   "execution_count": null,
   "metadata": {
    "ExecuteTime": {
     "end_time": "2020-03-06T22:01:53.944648Z",
     "start_time": "2020-03-06T21:50:25.955Z"
    }
   },
   "outputs": [],
   "source": [
    "pt1 = x[0]\n",
    "pt2 = x[1]\n",
    "pt3 = x[2]"
   ]
  },
  {
   "cell_type": "code",
   "execution_count": null,
   "metadata": {
    "ExecuteTime": {
     "end_time": "2020-03-06T22:01:53.945834Z",
     "start_time": "2020-03-06T21:50:25.956Z"
    }
   },
   "outputs": [],
   "source": [
    "interp_len = 5"
   ]
  },
  {
   "cell_type": "code",
   "execution_count": null,
   "metadata": {
    "ExecuteTime": {
     "end_time": "2020-03-06T22:01:53.947059Z",
     "start_time": "2020-03-06T21:50:25.957Z"
    }
   },
   "outputs": [],
   "source": [
    "#get proportions\n",
    "z_list = []\n",
    "for ci, C in enumerate(np.linspace(0, 1, interp_len)):\n",
    "    for bi, B in enumerate(np.linspace(0, 1, interp_len)):\n",
    "        A = 1 - C - B\n",
    "        z_list.append(\n",
    "            C * pt1 +\n",
    "            B * pt2 + \n",
    "            A * pt3\n",
    "        )\n",
    "z_list = np.vstack(z_list)\n",
    "# get X\n",
    "x_list_pca = mapper.inverse_transform(z_list) "
   ]
  },
  {
   "cell_type": "code",
   "execution_count": null,
   "metadata": {
    "ExecuteTime": {
     "end_time": "2020-03-06T22:01:53.948368Z",
     "start_time": "2020-03-06T21:50:25.959Z"
    }
   },
   "outputs": [],
   "source": [
    "x_list = pca.inverse_transform(x_list_pca)"
   ]
  },
  {
   "cell_type": "code",
   "execution_count": null,
   "metadata": {
    "ExecuteTime": {
     "end_time": "2020-03-06T22:01:53.949819Z",
     "start_time": "2020-03-06T21:50:25.960Z"
    }
   },
   "outputs": [],
   "source": [
    "x_list = x_list.reshape(len(x_list), 128, 128, 1)\n",
    "np.shape(x_list)"
   ]
  },
  {
   "cell_type": "code",
   "execution_count": null,
   "metadata": {
    "ExecuteTime": {
     "end_time": "2020-03-06T22:01:53.951045Z",
     "start_time": "2020-03-06T21:50:25.962Z"
    },
    "code_folding": [],
    "scrolled": false
   },
   "outputs": [],
   "source": [
    "# make diagram\n",
    "Jdiagram = np.ones((x_list.shape[1] * (interp_len),\n",
    "                    x_list.shape[2] * (interp_len + 2), x_list.shape[3]))\n",
    "np.shape(Jdiagram)\n",
    "\n",
    "Jdiagram[(interp_len - 1) * x_list.shape[1]:(interp_len) *\n",
    "         x_list.shape[1], :x_list.shape[2], :] = specs_flattened[2].reshape(\n",
    "             128, 128, 1)\n",
    "\n",
    "Jdiagram[(interp_len - 1) * x_list.shape[1]:(interp_len) *\n",
    "         x_list.shape[1], (interp_len + 1) * x_list.shape[2]:(interp_len + 2) *\n",
    "         x_list.shape[2], :] = specs_flattened[0].reshape(128, 128, 1)\n",
    "\n",
    "Jdiagram[:x_list.shape[1], :x_list.shape[2], :] = specs_flattened[1].reshape(\n",
    "    128, 128, 1)\n",
    "\n",
    "#populate\n",
    "i = 0\n",
    "for ci, C in enumerate(np.linspace(0, 1, interp_len)):\n",
    "    for bi, B in enumerate(np.linspace(0, 1, interp_len)):\n",
    "        Jdiagram[(interp_len - 1 - bi) * x_list.shape[1]:(\n",
    "            (interp_len - bi)) * x_list.shape[1], (ci + 1) *\n",
    "                 x_list.shape[2]:(ci + 2) * x_list.shape[2], :] = x_list[i]\n",
    "        i += 1\n",
    "\n",
    "fig, ax = plt.subplots(figsize=(10, 10))\n",
    "ax.matshow(np.squeeze(Jdiagram), vmin=0, cmap=plt.cm.afmhot, origin='lower')\n",
    "ax.axis('off')"
   ]
  },
  {
   "cell_type": "markdown",
   "metadata": {},
   "source": [
    "### map exemplars"
   ]
  },
  {
   "cell_type": "code",
   "execution_count": null,
   "metadata": {
    "ExecuteTime": {
     "end_time": "2020-03-06T22:01:53.952379Z",
     "start_time": "2020-03-06T21:50:25.963Z"
    }
   },
   "outputs": [],
   "source": [
    "xx = pca.transform(flatten_spectrograms(np.array([x1*255, x2*255, x3*255]).astype('uint8')))"
   ]
  },
  {
   "cell_type": "code",
   "execution_count": null,
   "metadata": {
    "ExecuteTime": {
     "end_time": "2020-03-06T22:01:53.953638Z",
     "start_time": "2020-03-06T21:50:25.964Z"
    }
   },
   "outputs": [],
   "source": [
    "x_z = mapper.transform(xx)#.astype('float32'))"
   ]
  },
  {
   "cell_type": "code",
   "execution_count": null,
   "metadata": {
    "ExecuteTime": {
     "end_time": "2020-03-06T22:01:53.954948Z",
     "start_time": "2020-03-06T21:50:25.967Z"
    }
   },
   "outputs": [],
   "source": [
    "plt.scatter(x[:,0], x[:,1], alpha = 0.01, s=1, color='k')\n",
    "plt.scatter(x_z[:,0], x_z[:,1], alpha = 1, s=30, color = 'red')"
   ]
  },
  {
   "cell_type": "code",
   "execution_count": null,
   "metadata": {
    "ExecuteTime": {
     "end_time": "2020-03-06T22:01:53.956083Z",
     "start_time": "2020-03-06T21:50:25.969Z"
    }
   },
   "outputs": [],
   "source": [
    "#x_r = mapper.inverse_transform(x1)\n",
    "x_r = mapper.inverse_transform(x_z)"
   ]
  },
  {
   "cell_type": "code",
   "execution_count": null,
   "metadata": {
    "ExecuteTime": {
     "end_time": "2020-03-06T22:01:53.956842Z",
     "start_time": "2020-03-06T21:50:25.970Z"
    }
   },
   "outputs": [],
   "source": [
    "x_r = pca.inverse_transform(x_r)"
   ]
  },
  {
   "cell_type": "code",
   "execution_count": null,
   "metadata": {
    "ExecuteTime": {
     "end_time": "2020-03-06T22:01:53.957680Z",
     "start_time": "2020-03-06T21:50:25.971Z"
    }
   },
   "outputs": [],
   "source": [
    "np.shape(x_r)"
   ]
  },
  {
   "cell_type": "code",
   "execution_count": null,
   "metadata": {
    "ExecuteTime": {
     "end_time": "2020-03-06T22:01:53.958437Z",
     "start_time": "2020-03-06T21:50:25.972Z"
    }
   },
   "outputs": [],
   "source": [
    "fig, axs = plt.subplots(ncols=2, figsize=(10,5))\n",
    "axs[0].matshow(x1[0].reshape((128,128)), origin=\"lower\")\n",
    "axs[1].matshow(x_r[0].reshape((128,128)), origin=\"lower\")"
   ]
  },
  {
   "cell_type": "code",
   "execution_count": null,
   "metadata": {
    "ExecuteTime": {
     "end_time": "2020-03-06T22:01:53.959157Z",
     "start_time": "2020-03-06T21:50:25.973Z"
    }
   },
   "outputs": [],
   "source": [
    "np.shape(x_r)"
   ]
  },
  {
   "cell_type": "code",
   "execution_count": null,
   "metadata": {
    "ExecuteTime": {
     "end_time": "2020-03-06T22:01:53.960048Z",
     "start_time": "2020-03-06T21:50:25.975Z"
    }
   },
   "outputs": [],
   "source": [
    "fig, axs = plt.subplots(ncols=2, figsize=(10,5))\n",
    "axs[0].matshow(x2[0].reshape((128,128)), origin=\"lower\")\n",
    "axs[1].matshow(x_r[1].reshape((128,128)), origin=\"lower\")"
   ]
  },
  {
   "cell_type": "code",
   "execution_count": null,
   "metadata": {
    "ExecuteTime": {
     "end_time": "2020-03-06T22:01:53.960796Z",
     "start_time": "2020-03-06T21:50:25.976Z"
    }
   },
   "outputs": [],
   "source": [
    "fig, axs = plt.subplots(ncols=2, figsize=(10,5))\n",
    "axs[0].matshow(x3[0].reshape((128,128)), origin=\"lower\")\n",
    "axs[1].matshow(x_r[2].reshape((128,128)), origin=\"lower\")"
   ]
  },
  {
   "cell_type": "code",
   "execution_count": null,
   "metadata": {
    "ExecuteTime": {
     "end_time": "2020-03-06T22:01:53.961573Z",
     "start_time": "2020-03-06T21:50:25.978Z"
    }
   },
   "outputs": [],
   "source": [
    "### 2D only\n",
    "breakme"
   ]
  },
  {
   "cell_type": "code",
   "execution_count": null,
   "metadata": {
    "ExecuteTime": {
     "end_time": "2020-03-06T22:01:53.962270Z",
     "start_time": "2020-03-06T21:50:25.979Z"
    }
   },
   "outputs": [],
   "source": [
    "corners = np.array([\n",
    "    [-10, -10],  # 1\n",
    "    [-10, 10],  # 7\n",
    "    [10, -10],  # 2\n",
    "    [10, 10],  # 0\n",
    "])\n",
    "\n",
    "test_pts = np.array([\n",
    "    (corners[0]*(1-x) + corners[1]*x)*(1-y) +\n",
    "    (corners[2]*(1-x) + corners[3]*x)*y\n",
    "    for y in np.linspace(0, 1, 10)\n",
    "    for x in np.linspace(0, 1, 10)\n",
    "])\n"
   ]
  },
  {
   "cell_type": "code",
   "execution_count": null,
   "metadata": {
    "ExecuteTime": {
     "end_time": "2020-03-06T22:01:53.963029Z",
     "start_time": "2020-03-06T21:50:25.980Z"
    }
   },
   "outputs": [],
   "source": [
    "inv_transformed_points = mapper.inverse_transform(test_pts)"
   ]
  },
  {
   "cell_type": "code",
   "execution_count": null,
   "metadata": {
    "ExecuteTime": {
     "end_time": "2020-03-06T22:01:53.963899Z",
     "start_time": "2020-03-06T21:50:25.981Z"
    }
   },
   "outputs": [],
   "source": [
    "inv_transformed_points = pca.inverse_transform(inv_transformed_points)"
   ]
  },
  {
   "cell_type": "code",
   "execution_count": null,
   "metadata": {
    "ExecuteTime": {
     "end_time": "2020-03-06T22:01:53.964636Z",
     "start_time": "2020-03-06T21:50:25.983Z"
    }
   },
   "outputs": [],
   "source": [
    "from matplotlib.gridspec import GridSpec\n"
   ]
  },
  {
   "cell_type": "code",
   "execution_count": null,
   "metadata": {
    "ExecuteTime": {
     "end_time": "2020-03-06T22:01:53.965316Z",
     "start_time": "2020-03-06T21:50:25.985Z"
    }
   },
   "outputs": [],
   "source": [
    "# Set up the grid\n",
    "fig = plt.figure(figsize=(30,15))\n",
    "gs = GridSpec(10, 20, fig)\n",
    "scatter_ax = fig.add_subplot(gs[:, :10])\n",
    "digit_axes = np.zeros((10, 10), dtype=object)\n",
    "for i in range(10):\n",
    "    for j in range(10):\n",
    "        digit_axes[i, j] = fig.add_subplot(gs[i, 10 + j])\n",
    "\n",
    "# Use umap.plot to plot to the major axis\n",
    "# umap.plot.points(mapper, labels=labels, ax=scatter_ax)\n",
    "scatter_ax.scatter(mapper.embedding_[:, 0], mapper.embedding_[:, 1], s=1, alpha = 0.05, color='k')\n",
    "scatter_ax.set(xticks=[], yticks=[])\n",
    "\n",
    "# Plot the locations of the text points\n",
    "scatter_ax.scatter(test_pts[:, 0], test_pts[:, 1], c='blue', s=200)\n",
    "scatter_ax.scatter(x_z[:,0], x_z[:,1], alpha = 1, s=50, color = 'red')\n",
    "\n",
    "# Plot each of the generated digit images\n",
    "for i in range(10):\n",
    "    for j in range(10):\n",
    "        digit_axes[i, j].imshow(inv_transformed_points[i*10 + j].reshape(128, 128))\n",
    "        digit_axes[i, j].set(xticks=[], yticks=[])"
   ]
  },
  {
   "cell_type": "code",
   "execution_count": null,
   "metadata": {},
   "outputs": [],
   "source": []
  }
 ],
 "metadata": {
  "kernelspec": {
   "display_name": "Python 3",
   "language": "python",
   "name": "python3"
  },
  "language_info": {
   "codemirror_mode": {
    "name": "ipython",
    "version": 3
   },
   "file_extension": ".py",
   "mimetype": "text/x-python",
   "name": "python",
   "nbconvert_exporter": "python",
   "pygments_lexer": "ipython3",
   "version": "3.6.7"
  }
 },
 "nbformat": 4,
 "nbformat_minor": 2
}
