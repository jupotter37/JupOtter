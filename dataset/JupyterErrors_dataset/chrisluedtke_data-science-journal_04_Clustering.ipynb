{
 "cells": [
  {
   "cell_type": "markdown",
   "metadata": {
    "colab_type": "text",
    "id": "Y9bK8maEkopO"
   },
   "source": [
    "# PCA Notes\n"
   ]
  },
  {
   "cell_type": "markdown",
   "metadata": {
    "colab_type": "text",
    "id": "3JHDhIiPks0z"
   },
   "source": [
    "## Principal Components are not a re-labeling of the original features\n",
    "\n",
    "I saw some confusion yesterday about what the new Principal Components are that come out of our PCA transformations. Principal Components are a linear combination of any and all dimensions (features) that will increase their variance, this means that PCs are made up of a mixture of features --mostly the ones with the highest variance, but also smaller parts from other features. This means that they are not comparable to the original features of our $X$ matrix. In cases where we're not reducing dimensionality that much (like the Iris dataset) our Principal Components might be extremely similar to the original features (since there's not that many to pull from) but don't think of them in that way, think of them as a completely new dataset that we can't really apply \n"
   ]
  },
  {
   "cell_type": "markdown",
   "metadata": {
    "colab_type": "text",
    "id": "8CPPjEHVktro"
   },
   "source": [
    "## PCA does not make predictions\n",
    "\n",
    "I would not call PCA a \"machine learning algorithm\" in that it does not try to make any predictions. We can't calculate any accuracy measure. You can call it an algorithm, you can call it a preprocessing technique or method, but it's not truly making predictions. This may have been confusing due to the fact that the Iris dataset had labels, but PCA is just re-organizing points in space, it's not making any predictions."
   ]
  },
  {
   "cell_type": "markdown",
   "metadata": {
    "colab_type": "text",
    "id": "FK6eHmtDktur"
   },
   "source": [
    "## PCA doesn't standardize the data for you\n",
    "\n",
    "You'll notice in the \"from scratch\" implementation of PCA that I did in class yesterday that in that example I did not divide the points by the standard deviation. I believe you'll get a slightly different set of points if you choose to divide by the standard deviation (I think this might be what A Apte was seeing yesterday when he tried both methods and found that they looked different. It could be something else entirely, but that's my first guess at what could be going on.)\n",
    "\n",
    "The Sklearn implementation does not standardize the points for you as part of the process. You can either do this yourself \"by hand\" or you can use other sklearn methods like this preprocessing step which will automatically standardize your data to have a mean of 0 and a standard deviation of 1. You have to do this **before** you pass your data to PCA.\n",
    "\n",
    "<https://scikit-learn.org/stable/modules/generated/sklearn.preprocessing.scale.html>"
   ]
  },
  {
   "cell_type": "markdown",
   "metadata": {
    "colab_type": "text",
    "id": "nwfQC5Yxksx1"
   },
   "source": [
    "## PCA does not retain 100% of the information of the original dataset. \n",
    "\n",
    "Each component explains a certain % of the variance of the original dataset. PCA tries to maximize that variance, but you might need to use more than 2 components. \n",
    "\n",
    "Typically you want to use enough components in your analysis to keep the explained variance > 90%.\n",
    "\n",
    "So we're trading off losing a small-medium amount of predictive power for a reduction in dimensions/size."
   ]
  },
  {
   "cell_type": "markdown",
   "metadata": {
    "colab_type": "text",
    "id": "xi9ks-kq_j8J"
   },
   "source": [
    "\n",
    "\n",
    "## Intro to Scree Plots\n",
    "\n",
    "![Scree Plot](http://www.ryanleeallred.com/wp-content/uploads/2019/01/scree-plot.png)\n",
    "\n",
    "![Variance Explained](http://www.ryanleeallred.com/wp-content/uploads/2019/01/variance-explained.png)\n",
    "\n",
    "![scree plot and variance explained](http://www.ryanleeallred.com/wp-content/uploads/2019/01/scree-plot-2.png)\n",
    "\n",
    "These scree plots came from analysis that began with a lot more features than we were working with yesterday:\n",
    "\n",
    "<https://www.analyticsvidhya.com/blog/2016/03/practical-guide-principal-component-analysis-python/>"
   ]
  },
  {
   "cell_type": "markdown",
   "metadata": {
    "colab_type": "text",
    "id": "TBXSEvwbODsA"
   },
   "source": [
    "# Machine Learning (Overview)\n",
    "\n",
    "How do you know what kind of Machine Learning that you're doing? What algorithm should you pick? \n",
    "\n",
    "This decision is driven driven by:\n",
    "\n",
    "1) The attributes of your dataset\n",
    "\n",
    "2) What you want to predict"
   ]
  },
  {
   "cell_type": "markdown",
   "metadata": {
    "colab_type": "text",
    "id": "t4qW9d7FlHUy"
   },
   "source": [
    "- ## Supervised Learning: \n",
    "Supervised Learning is used when training data outputs are labelled. The output is the thing that you're trying to predict.\n",
    "  - ### Classification\n",
    "  Classification algorithms try to predict the correct category (or class) from a given set of categories.\n",
    "  - ### Regression\n",
    "  Regression algorithms predict a continuous or semi-continuous value. (Not to be confused with _Linear_ Regression)"
   ]
  },
  {
   "cell_type": "markdown",
   "metadata": {
    "colab_type": "text",
    "id": "NynJ4Ye9lHg0"
   },
   "source": [
    "-  ## Unsupervised Learning\n",
    "  - ### Clustering\n",
    "  Identifying groupings of related observations. This is our topic for today!\n",
    "  - ### Dimensionality Reduction\n",
    "  Takes a high-dimensionality dataset and reduces the number of variables taken into consideration via methods of feature selection and feature extraction.\n",
    "  - ### Association Rule Learning\n",
    "  Association is a method of discovering relationships between observations in a dataset. (between ovservations or features, not just relationships between explanatory variables and a single output variable. )"
   ]
  },
  {
   "cell_type": "markdown",
   "metadata": {
    "colab_type": "text",
    "id": "ARo_wctGlHpT"
   },
   "source": [
    "- ## Reinforcement Learning\n",
    "  A form of machine learning where an \"agent\" interacts with its environment and is rewarded for correct behavior and penalized for incorrect behavior. Over many iterations the agent learns the behavior that results in the greatest reward and smallest punishment. "
   ]
  },
  {
   "cell_type": "markdown",
   "metadata": {
    "colab_type": "text",
    "id": "2nPOjACaubCv"
   },
   "source": [
    "## Memorize This!\n",
    "\n",
    "**Supervised**: Labelled outputs\n",
    "- **Classification**: Discrete output cagetories\n",
    "- **Regression**: Continuous output values\n",
    "\n",
    "**Unsupervised**: Outputs are not labelled\n",
    "\n",
    "**Reinforcement**: Rewards/punishments for \"behaviors\""
   ]
  },
  {
   "cell_type": "markdown",
   "metadata": {
    "colab_type": "text",
    "id": "K9YeIVBQoAJR"
   },
   "source": [
    "# Examples\n",
    "\n",
    "## [Classification Examples](https://github.com/ShuaiW/kaggle-classification)\n",
    "\n",
    " - Think Titanic Dataset\n",
    "\n",
    "## [Regression Examples](https://github.com/ShuaiW/kaggle-classification)\n",
    "\n",
    "- Think Home Price Prediction\n",
    "\n",
    "## [Unsupervised Learning Examples](http://www.lsi.upc.edu/~bejar/apren/docum/trans/09-clusterej-eng.pdf)\n",
    "\n",
    "- Think Iris Dataset (clustering)"
   ]
  },
  {
   "cell_type": "markdown",
   "metadata": {
    "colab_type": "text",
    "id": "yzdWvN9iugsd"
   },
   "source": [
    "# ML Cheat Sheets\n",
    "\n",
    "![Microsoft Cheat Sheet](https://docs.microsoft.com/en-us/azure/machine-learning/studio/media/algorithm-cheat-sheet/machine-learning-algorithm-cheat-sheet-small_v_0_6-01.png)\n",
    "\n",
    "![PerceptionBox Cheat Sheet](https://perceptionbox.io/blog/content/images/2018/10/Machine-learning-algorithms-cheat-sheet.png)\n",
    "\n",
    "This one does not group them by supervised, unsupervised, regression, classification, etc. But it gives you an idea of the different families of algorithms.\n",
    "\n",
    "![Algorithm Map](https://jixta.files.wordpress.com/2015/11/machinelearningalgorithms.png?w=816&h=521&zoom=2)\n"
   ]
  },
  {
   "cell_type": "markdown",
   "metadata": {
    "colab_type": "text",
    "id": "GjCxoJFNl0ly"
   },
   "source": [
    "# Clustering \n",
    "\n",
    "Clustering falls into the category of unsupervised learning. This is because there is nothing in our training data that designates the correct cluster that a data point should belong to beforehand. In fact, there's not even a \"correct\" _**number**_ of clusters to assign our points to. We will discuss some heuristics for choosing an **appropriate** number of clusters, but this (as in much of data science) is an area where there is no cut and dry right and wrong answer. \n",
    "\n",
    "Remember: \"All models are wrong, but some models are useful.\" Data science is all about acknowledging where your model might be wrong while still pursuing something useful. "
   ]
  },
  {
   "cell_type": "markdown",
   "metadata": {
    "colab_type": "text",
    "id": "c6S6TOtgl0sb"
   },
   "source": [
    "## Why Clustering?\n",
    "\n",
    "Clustering answers questions about how similar or dissimilar our \"data objects\" are. Clustering is one of the most effective methods for summarizing datasets with this question in mind. Clustering can be thought of as a sort of \"unsupervised classification.\" You will likely never deploy a clustering model to a production environment, they're too unreliable. Clustering is more useful as a tool for data exploration than a model for making predictions. "
   ]
  },
  {
   "cell_type": "markdown",
   "metadata": {
    "colab_type": "text",
    "id": "yDspwZ9Tl0yG"
   },
   "source": [
    "## “Clustering isn’t hard—it’s either easy, or not interesting”\n",
    "\n",
    "If a good clustering exists, then it usually can be efficiently found. Clustering is the most difficult when clear clusters don't exist in the first place. In that case you should question whether or not clustering is the most appropriate or useful method. \n",
    "\n",
    "The purpose of clustering is to group data points that are similar along certain specified dimensions (attributes). \"Similarity\" is defined as the points being close together in some n-dimensional space. \n",
    "\n",
    "The greater the number of dimensions, the more difficult clustering becomes because the increase in dimensions makes all points this is because measures of distance are used to determine similarity between datapoints, and the greater the dimensionality the more all points become roughly equidistant with one another. (We don't have time to go further into this or demonstrate this, but clustering suffers from performance and interpretability issues in a high number of dimensions). Some of these challenges can be rectified by choosing an appropriate measure of \"distance\" between data points. For example, using clustering for document analysis is still fairly effective even though the analysis is of a highly-dimenaional space. "
   ]
  },
  {
   "cell_type": "markdown",
   "metadata": {
    "colab_type": "text",
    "id": "ldJ0c24yl02e"
   },
   "source": [
    "# Types of Clustering:\n",
    "\n",
    "## Hierarchical:\n",
    "\n",
    "  - Agglomerative: start with individual points and combine them into larger and larger clusters\n",
    "  \n",
    "  - Divisive: Start with one cluster and divide the points into smaller clusters.\n",
    "\n",
    "## Point Assignment:\n",
    "\n",
    "  - We decide on a number of clusters out of the gate, and assign points to that number of clusters.\n",
    "\n",
    "# Hard vs Soft Clustering\n",
    "\n",
    "Hard Clustering assigns a point to a cluster\n",
    "\n",
    "Soft Clustering assigns each point a probability that it's in a given cluster.\n",
    "\n",
    "We're going to only deal with hard clustering, it's the more traditional approach. "
   ]
  },
  {
   "cell_type": "markdown",
   "metadata": {
    "colab_type": "text",
    "id": "mnAcqxeDl06U"
   },
   "source": [
    "## Applications:\n",
    "\n",
    "Astronomy: There's too much data from space for us to look at each individual start and galaxy and categorize it, but we can cluster them intro groups based on their observable attributes. \n",
    "\n",
    "[SkyCat](http://www.eso.org/sci/observing/tools/skycat.html)\n",
    "\n",
    "[Sloan Digital Sky Survey](https://www.sdss.org/)\n",
    "\n",
    "Document Classification / Grouping - We'll need to study a little bit of NLP before we can get into this. "
   ]
  },
  {
   "cell_type": "markdown",
   "metadata": {
    "colab_type": "text",
    "id": "WhmN7D0Ol0-E"
   },
   "source": [
    "## Distance Measures\n",
    "\n",
    "Did you know that there are distance measures other than euclidean distance?\n",
    "\n",
    "- Euclidean\n",
    "- Cosine\n",
    "- Jaccard\n",
    "- Edit Distance\n",
    "- Etc. \n",
    "\n",
    "Clustering traditionally uses Euclidean Distance, but this particular measure of distance breaks down in high dimensionality spaces. It's what we'll use for today. If you **LOVE**  clustering and want to put a strong focus on this area of Machine learning (at the expense of focusing strongly on others) then I would suggest further personal research into different clustering algorithms and distance measures. \n",
    "\n",
    "I want to reiterate that you don't have to use PCA and clustering in conjunction with each other. I think it's more common that they are not used together, but it can be useful in certain cases. We might try it today for fun and so reiterate how PCA is the preprocessing step, and K-means will be the main \"Machine Learning Algorithm.\"\n"
   ]
  },
  {
   "cell_type": "markdown",
   "metadata": {
    "colab_type": "text",
    "id": "CY95oSIT-5ko"
   },
   "source": [
    "## There are a lot of clustering algorithms. \n",
    "\n",
    "YOU DON'T NEED TO BE ABLE TO CODE ALL OF THEM FROM SCRATCH IN ORDER TO APPLY THEM OR EVEN TO UNDERSTAND THEM. FOCUS ON LEARNING THINGS WITHIN THE CONTEXT OF A PROBLEM YOU ARE TRYING TO SOLVE AND ONLY LEARN THOSE THINGS THAT WILL HELP YOU SOLVE THE PROBLEM. "
   ]
  },
  {
   "cell_type": "markdown",
   "metadata": {
    "colab_type": "text",
    "id": "rJx_PxNUmyDT"
   },
   "source": [
    "# K-Means Clustering\n",
    "\n",
    "![K-means Clustering](https://upload.wikimedia.org/wikipedia/commons/thumb/e/ea/K-means_convergence.gif/440px-K-means_convergence.gif)"
   ]
  },
  {
   "cell_type": "markdown",
   "metadata": {
    "colab_type": "text",
    "id": "OGSeEtls_QXU"
   },
   "source": [
    "## The Process:\n",
    "\n",
    "Given a set of points in n-dimensional space we want to :\n",
    "\n",
    "1) select k random points to act as initial centroids (one point for each cluster)\n",
    "\n",
    "2) Find the cluster of points surrounding that centroid (assign points to the centroid that they lie closest to)\n",
    "\n",
    "3) Calculate a new centroid for the cluster\n",
    "\n",
    "Repeat steps 2 & 3 until the model converges. (Clusters don't change)"
   ]
  },
  {
   "cell_type": "markdown",
   "metadata": {
    "colab_type": "text",
    "id": "JnwzM7vnoIDx"
   },
   "source": [
    "## Lets make some blobs"
   ]
  },
  {
   "cell_type": "code",
   "execution_count": 3,
   "metadata": {
    "colab": {
     "base_uri": "https://localhost:8080/",
     "height": 361
    },
    "colab_type": "code",
    "id": "Lt03ADtDByNX",
    "outputId": "d40284dc-3856-4bd3-93bb-c3272cc7b7ef"
   },
   "outputs": [
    {
     "data": {
      "image/png": "[encoded data removed]",
      "text/plain": [
       "<Figure size 432x288 with 1 Axes>"
      ]
     },
     "metadata": {},
     "output_type": "display_data"
    }
   ],
   "source": [
    "import pandas as pd\n",
    "import matplotlib.pyplot as plt\n",
    "from sklearn.datasets.samples_generator import make_blobs\n",
    "\n",
    "# Create dataframe of x, y and label values\n",
    "X, y = make_blobs(n_samples=100, centers=3, n_features=2)\n",
    "df = pd.DataFrame(dict(x=X[:,0], y=X[:,1], label=y))\n",
    "\n",
    "# Create scatterplot with coloring based on assigned labels\n",
    "colors = {0:'red', 1:'blue', 2:'green'}\n",
    "fig, ax = plt.subplots()\n",
    "grouped = df.groupby('label')\n",
    "ax.set_aspect('equal')\n",
    "for key, group in grouped:\n",
    "    group.plot(ax=ax, kind='scatter', x='x', y='y', label=key, color=colors[key])\n",
    "# plt.show()                  "
   ]
  },
  {
   "cell_type": "code",
   "execution_count": 0,
   "metadata": {
    "colab": {
     "base_uri": "https://localhost:8080/",
     "height": 195
    },
    "colab_type": "code",
    "id": "uqYOxqPP-koM",
    "outputId": "729827e4-706e-40ab-de03-497bafa22dc2"
   },
   "outputs": [
    {
     "data": {
      "text/html": [
       "<div>\n",
       "<style scoped>\n",
       "    .dataframe tbody tr th:only-of-type {\n",
       "        vertical-align: middle;\n",
       "    }\n",
       "\n",
       "    .dataframe tbody tr th {\n",
       "        vertical-align: top;\n",
       "    }\n",
       "\n",
       "    .dataframe thead th {\n",
       "        text-align: right;\n",
       "    }\n",
       "</style>\n",
       "<table border=\"1\" class=\"dataframe\">\n",
       "  <thead>\n",
       "    <tr style=\"text-align: right;\">\n",
       "      <th></th>\n",
       "      <th>label</th>\n",
       "      <th>x</th>\n",
       "      <th>y</th>\n",
       "    </tr>\n",
       "  </thead>\n",
       "  <tbody>\n",
       "    <tr>\n",
       "      <th>0</th>\n",
       "      <td>1</td>\n",
       "      <td>-2.306177</td>\n",
       "      <td>5.173469</td>\n",
       "    </tr>\n",
       "    <tr>\n",
       "      <th>1</th>\n",
       "      <td>0</td>\n",
       "      <td>-8.075857</td>\n",
       "      <td>-4.645585</td>\n",
       "    </tr>\n",
       "    <tr>\n",
       "      <th>2</th>\n",
       "      <td>1</td>\n",
       "      <td>-4.593756</td>\n",
       "      <td>6.145742</td>\n",
       "    </tr>\n",
       "    <tr>\n",
       "      <th>3</th>\n",
       "      <td>2</td>\n",
       "      <td>-6.701480</td>\n",
       "      <td>6.401925</td>\n",
       "    </tr>\n",
       "    <tr>\n",
       "      <th>4</th>\n",
       "      <td>0</td>\n",
       "      <td>-8.563685</td>\n",
       "      <td>-8.342698</td>\n",
       "    </tr>\n",
       "  </tbody>\n",
       "</table>\n",
       "</div>"
      ],
      "text/plain": [
       "   label         x         y\n",
       "0      1 -2.306177  5.173469\n",
       "1      0 -8.075857 -4.645585\n",
       "2      1 -4.593756  6.145742\n",
       "3      2 -6.701480  6.401925\n",
       "4      0 -8.563685 -8.342698"
      ]
     },
     "execution_count": 6,
     "metadata": {
      "tags": []
     },
     "output_type": "execute_result"
    }
   ],
   "source": [
    "df.head()"
   ]
  },
  {
   "cell_type": "markdown",
   "metadata": {
    "colab_type": "text",
    "id": "x3fV8Cw_Eq6w"
   },
   "source": [
    "## Linear Separability\n",
    "The 2D blobs below are what is called \"linearly separable\" Meaning that we could use straight lines to separate them with no errors. This is the most trivial case of of k-means clustering, but it will help us to demonstrate."
   ]
  },
  {
   "cell_type": "code",
   "execution_count": 4,
   "metadata": {
    "colab": {
     "base_uri": "https://localhost:8080/",
     "height": 195
    },
    "colab_type": "code",
    "id": "jK624RjW-qGk",
    "outputId": "f397e3cc-8f73-430a-dcdd-5f4226280c26"
   },
   "outputs": [
    {
     "data": {
      "text/html": [
       "<div>\n",
       "<style scoped>\n",
       "    .dataframe tbody tr th:only-of-type {\n",
       "        vertical-align: middle;\n",
       "    }\n",
       "\n",
       "    .dataframe tbody tr th {\n",
       "        vertical-align: top;\n",
       "    }\n",
       "\n",
       "    .dataframe thead th {\n",
       "        text-align: right;\n",
       "    }\n",
       "</style>\n",
       "<table border=\"1\" class=\"dataframe\">\n",
       "  <thead>\n",
       "    <tr style=\"text-align: right;\">\n",
       "      <th></th>\n",
       "      <th>x</th>\n",
       "      <th>y</th>\n",
       "    </tr>\n",
       "  </thead>\n",
       "  <tbody>\n",
       "    <tr>\n",
       "      <th>0</th>\n",
       "      <td>-1.211678</td>\n",
       "      <td>2.108551</td>\n",
       "    </tr>\n",
       "    <tr>\n",
       "      <th>1</th>\n",
       "      <td>-1.387577</td>\n",
       "      <td>2.972575</td>\n",
       "    </tr>\n",
       "    <tr>\n",
       "      <th>2</th>\n",
       "      <td>-6.694538</td>\n",
       "      <td>8.771502</td>\n",
       "    </tr>\n",
       "    <tr>\n",
       "      <th>3</th>\n",
       "      <td>-3.166676</td>\n",
       "      <td>2.737403</td>\n",
       "    </tr>\n",
       "    <tr>\n",
       "      <th>4</th>\n",
       "      <td>-4.685698</td>\n",
       "      <td>-2.437463</td>\n",
       "    </tr>\n",
       "  </tbody>\n",
       "</table>\n",
       "</div>"
      ],
      "text/plain": [
       "          x         y\n",
       "0 -1.211678  2.108551\n",
       "1 -1.387577  2.972575\n",
       "2 -6.694538  8.771502\n",
       "3 -3.166676  2.737403\n",
       "4 -4.685698 -2.437463"
      ]
     },
     "execution_count": 4,
     "metadata": {},
     "output_type": "execute_result"
    }
   ],
   "source": [
    "# Drop labels to prove that this is truly unsupervised learning\n",
    "points = df.drop('label', axis=1)\n",
    "points.head()"
   ]
  },
  {
   "cell_type": "code",
   "execution_count": 8,
   "metadata": {
    "colab": {
     "base_uri": "https://localhost:8080/",
     "height": 347
    },
    "colab_type": "code",
    "id": "Ro4aO_mPoP1v",
    "outputId": "442bdac1-413b-4793-f7e6-1293eafdcb09"
   },
   "outputs": [
    {
     "data": {
      "image/png": "[encoded data removed]",
      "text/plain": [
       "<Figure size 432x288 with 1 Axes>"
      ]
     },
     "metadata": {},
     "output_type": "display_data"
    }
   ],
   "source": [
    "# Scatter plot of our label-less data\n",
    "fig, ax = plt.subplots()\n",
    "ax.set_aspect('equal')\n",
    "\n",
    "plt.scatter(points.x, points.y)\n",
    "plt.show()"
   ]
  },
  {
   "cell_type": "markdown",
   "metadata": {
    "colab_type": "text",
    "id": "WzETDJC2FNDK"
   },
   "source": [
    "## Calculating the Centroid\n",
    "\n",
    "K-means clustering is what's known as a centroid-based clustering algorithm. A centroid is an imaginary point located at the average location of all of the points in a given cluster. For example, if I wanted to find the centroid of all of the points in the above graph I would just calculate the average of the dataset's x-coordinates to find the x value of the centroid, and the average of the dataset's y-coordinates to find the y value of the centroid.\n",
    "\n",
    "If we plot the centroid on the graph you'll see that it lies in the middle of the points. You could imagine the centroid as if it is the center of gravity, or center of mass for a given cluster. Since in this example we're treating all of the points in the dataset as if they're in the same cluster, it will end up somewhere in the middle. We're just doing this to demonstrate what a centroid is. The K-means algorithm doesn't ever calculate the centroid for the entire dataset."
   ]
  },
  {
   "cell_type": "code",
   "execution_count": 11,
   "metadata": {
    "colab": {
     "base_uri": "https://localhost:8080/",
     "height": 34
    },
    "colab_type": "code",
    "id": "xLZyrzOE_CnM",
    "outputId": "1af5851f-a5c6-497f-dab5-ac16f0194a24"
   },
   "outputs": [
    {
     "name": "stdout",
     "output_type": "stream",
     "text": [
      "-4.740080501927271 2.358389186315669\n"
     ]
    }
   ],
   "source": [
    "# Calculate the centroid of the entire dataset (only for demonstration purposes)\n",
    "dataset_centroid_x = points.x.mean()\n",
    "dataset_centroid_y = points.y.mean()\n",
    "\n",
    "print(dataset_centroid_x, dataset_centroid_y)"
   ]
  },
  {
   "cell_type": "code",
   "execution_count": 18,
   "metadata": {
    "colab": {
     "base_uri": "https://localhost:8080/",
     "height": 347
    },
    "colab_type": "code",
    "id": "8OgBWw0c_cVq",
    "outputId": "b2479b33-a15b-4573-bcef-746cb4cfd5d2"
   },
   "outputs": [
    {
     "data": {
      "image/png": "[encoded data removed]",
      "text/plain": [
       "<Figure size 432x288 with 1 Axes>"
      ]
     },
     "metadata": {},
     "output_type": "display_data"
    }
   ],
   "source": [
    "fig, ax = plt.subplots()\n",
    "ax.set_aspect('equal')\n",
    "\n",
    "ax.scatter(points.x, points.y)\n",
    "ax.plot(dataset_centroid_x, dataset_centroid_y, \"or\");"
   ]
  },
  {
   "cell_type": "markdown",
   "metadata": {
    "colab_type": "text",
    "id": "gR5sjoKhm5VS"
   },
   "source": [
    "## Initialize the algorithm by choosing random points to serve as the initial fake \"centroids\"\n",
    "\n",
    "These will get updated to become real cluster centroids after the first iteration."
   ]
  },
  {
   "cell_type": "code",
   "execution_count": 13,
   "metadata": {
    "colab": {
     "base_uri": "https://localhost:8080/",
     "height": 136
    },
    "colab_type": "code",
    "id": "OvuDTEOM_4Ch",
    "outputId": "384df685-74ae-4c9f-9c57-8db12755bd5c"
   },
   "outputs": [
    {
     "data": {
      "text/html": [
       "<div>\n",
       "<style scoped>\n",
       "    .dataframe tbody tr th:only-of-type {\n",
       "        vertical-align: middle;\n",
       "    }\n",
       "\n",
       "    .dataframe tbody tr th {\n",
       "        vertical-align: top;\n",
       "    }\n",
       "\n",
       "    .dataframe thead th {\n",
       "        text-align: right;\n",
       "    }\n",
       "</style>\n",
       "<table border=\"1\" class=\"dataframe\">\n",
       "  <thead>\n",
       "    <tr style=\"text-align: right;\">\n",
       "      <th></th>\n",
       "      <th>x</th>\n",
       "      <th>y</th>\n",
       "    </tr>\n",
       "  </thead>\n",
       "  <tbody>\n",
       "    <tr>\n",
       "      <th>40</th>\n",
       "      <td>-4.590335</td>\n",
       "      <td>-2.371297</td>\n",
       "    </tr>\n",
       "    <tr>\n",
       "      <th>96</th>\n",
       "      <td>-5.984548</td>\n",
       "      <td>-0.860495</td>\n",
       "    </tr>\n",
       "    <tr>\n",
       "      <th>56</th>\n",
       "      <td>-7.730143</td>\n",
       "      <td>8.634788</td>\n",
       "    </tr>\n",
       "  </tbody>\n",
       "</table>\n",
       "</div>"
      ],
      "text/plain": [
       "           x         y\n",
       "40 -4.590335 -2.371297\n",
       "96 -5.984548 -0.860495\n",
       "56 -7.730143  8.634788"
      ]
     },
     "execution_count": 13,
     "metadata": {},
     "output_type": "execute_result"
    }
   ],
   "source": [
    "centroids = points.sample(3)\n",
    "centroids.head()"
   ]
  },
  {
   "cell_type": "markdown",
   "metadata": {
    "colab_type": "text",
    "id": "9Pw7xVK9nprq"
   },
   "source": [
    "# Plot initial \"fake\" centroids on the graph"
   ]
  },
  {
   "cell_type": "code",
   "execution_count": 17,
   "metadata": {
    "colab": {
     "base_uri": "https://localhost:8080/",
     "height": 347
    },
    "colab_type": "code",
    "id": "eXz0-YRuAGIQ",
    "outputId": "40ee7f90-7ecf-4c29-d572-9beb0f441168"
   },
   "outputs": [
    {
     "data": {
      "image/png": "[encoded data removed]",
      "text/plain": [
       "<Figure size 432x288 with 1 Axes>"
      ]
     },
     "metadata": {},
     "output_type": "display_data"
    }
   ],
   "source": [
    "fig, ax = plt.subplots()\n",
    "\n",
    "ax.set_aspect('equal')\n",
    "ax.scatter(points.x, points.y)\n",
    "ax.plot(centroids.iloc[0].x, centroids.iloc[0].y, \"or\")\n",
    "ax.plot(centroids.iloc[1].x, centroids.iloc[1].y, \"og\")\n",
    "ax.plot(centroids.iloc[2].x, centroids.iloc[2].y, \"oy\");"
   ]
  },
  {
   "cell_type": "markdown",
   "metadata": {
    "colab_type": "text",
    "id": "zmVwnSM1R6tz"
   },
   "source": [
    "# Re-review steps of the algorithm\n",
    "\n",
    "Given a set of points in n-dimensional space we want to:\n",
    "\n",
    "1) select k random points to act as initial centroids (one point for each cluster)\n",
    "\n",
    "2) Find the cluster of points surrounding that centroid (assign points to the centroid that they lie closest to)\n",
    "\n",
    "3) Calculate a new centroid for the cluster\n",
    "\n",
    "Repeat steps 2 & 3 until the model converges. (Clusters don't change)"
   ]
  },
  {
   "cell_type": "markdown",
   "metadata": {
    "colab_type": "text",
    "id": "p9LlmLSySTb7"
   },
   "source": [
    "## 3-means clustering\n",
    "\n",
    "Lets pick k=3 and start demonstrating how this algorithm actually works. \n",
    "\n",
    "The k-means algorithm works by picking 3 of the actual datapoints at random (in the simplest case) and treating those as the starting centroids. Using those centroids, 3 clusters are calculated.\n",
    "\n",
    "We then use the new clusters and calculate a new centroid for each of them. Then, using those centroids we re-cluster. We perform this process over and over again until our clusters stabilize and the centroids stop moving. Lets demonstrate."
   ]
  },
  {
   "cell_type": "code",
   "execution_count": 0,
   "metadata": {
    "colab": {},
    "colab_type": "code",
    "id": "-nbwx8_pA3DU"
   },
   "outputs": [],
   "source": [
    "import math\n",
    "import numpy as np\n",
    "from scipy.spatial import distance"
   ]
  },
  {
   "cell_type": "code",
   "execution_count": 0,
   "metadata": {
    "colab": {
     "base_uri": "https://localhost:8080/",
     "height": 195
    },
    "colab_type": "code",
    "id": "ACmU-SzWoJ6-",
    "outputId": "ab12169c-be47-4e7e-be0c-cddac5221bc0"
   },
   "outputs": [
    {
     "data": {
      "text/html": [
       "<div>\n",
       "<style scoped>\n",
       "    .dataframe tbody tr th:only-of-type {\n",
       "        vertical-align: middle;\n",
       "    }\n",
       "\n",
       "    .dataframe tbody tr th {\n",
       "        vertical-align: top;\n",
       "    }\n",
       "\n",
       "    .dataframe thead th {\n",
       "        text-align: right;\n",
       "    }\n",
       "</style>\n",
       "<table border=\"1\" class=\"dataframe\">\n",
       "  <thead>\n",
       "    <tr style=\"text-align: right;\">\n",
       "      <th></th>\n",
       "      <th>x</th>\n",
       "      <th>y</th>\n",
       "      <th>clusters_1</th>\n",
       "      <th>clusters_2</th>\n",
       "      <th>clusters_3</th>\n",
       "      <th>clusters_4</th>\n",
       "      <th>clusters_5</th>\n",
       "      <th>clusters_6</th>\n",
       "    </tr>\n",
       "  </thead>\n",
       "  <tbody>\n",
       "    <tr>\n",
       "      <th>0</th>\n",
       "      <td>-2.306177</td>\n",
       "      <td>5.173469</td>\n",
       "      <td>0</td>\n",
       "      <td>2</td>\n",
       "      <td>2</td>\n",
       "      <td>2</td>\n",
       "      <td>2</td>\n",
       "      <td>2</td>\n",
       "    </tr>\n",
       "    <tr>\n",
       "      <th>1</th>\n",
       "      <td>-8.075857</td>\n",
       "      <td>-4.645585</td>\n",
       "      <td>2</td>\n",
       "      <td>0</td>\n",
       "      <td>0</td>\n",
       "      <td>0</td>\n",
       "      <td>0</td>\n",
       "      <td>0</td>\n",
       "    </tr>\n",
       "    <tr>\n",
       "      <th>2</th>\n",
       "      <td>-4.593756</td>\n",
       "      <td>6.145742</td>\n",
       "      <td>1</td>\n",
       "      <td>2</td>\n",
       "      <td>2</td>\n",
       "      <td>2</td>\n",
       "      <td>2</td>\n",
       "      <td>2</td>\n",
       "    </tr>\n",
       "    <tr>\n",
       "      <th>3</th>\n",
       "      <td>-6.701480</td>\n",
       "      <td>6.401925</td>\n",
       "      <td>1</td>\n",
       "      <td>2</td>\n",
       "      <td>2</td>\n",
       "      <td>2</td>\n",
       "      <td>2</td>\n",
       "      <td>2</td>\n",
       "    </tr>\n",
       "    <tr>\n",
       "      <th>4</th>\n",
       "      <td>-8.563685</td>\n",
       "      <td>-8.342698</td>\n",
       "      <td>2</td>\n",
       "      <td>1</td>\n",
       "      <td>1</td>\n",
       "      <td>1</td>\n",
       "      <td>1</td>\n",
       "      <td>1</td>\n",
       "    </tr>\n",
       "  </tbody>\n",
       "</table>\n",
       "</div>"
      ],
      "text/plain": [
       "          x         y  clusters_1  clusters_2  clusters_3  clusters_4  \\\n",
       "0 -2.306177  5.173469           0           2           2           2   \n",
       "1 -8.075857 -4.645585           2           0           0           0   \n",
       "2 -4.593756  6.145742           1           2           2           2   \n",
       "3 -6.701480  6.401925           1           2           2           2   \n",
       "4 -8.563685 -8.342698           2           1           1           1   \n",
       "\n",
       "   clusters_5  clusters_6  \n",
       "0           2           2  \n",
       "1           0           0  \n",
       "2           2           2  \n",
       "3           2           2  \n",
       "4           1           1  "
      ]
     },
     "execution_count": 55,
     "metadata": {
      "tags": []
     },
     "output_type": "execute_result"
    }
   ],
   "source": [
    "def find_nearest_centroids(df, centroids, iteration):\n",
    "  \n",
    "  nearest_centroids = []\n",
    "  \n",
    "  for index, point in df.iterrows():\n",
    "    distances = []\n",
    "    \n",
    "    for index, centroid in centroids.iterrows():\n",
    "      dist = math.sqrt((point.x - centroid.x)**2 + (point.y - centroid.y)**2)\n",
    "      distances.append(dist)\n",
    "#       print(distances)\n",
    "    \n",
    "    nearest_centroids.append(np.argmin(distances))\n",
    "    \n",
    "#   print(nearest_centroids)\n",
    "  \n",
    "  se = pd.Series(nearest_centroids)\n",
    "  df['clusters_' + iteration] = se\n",
    "  return df\n",
    "    \n",
    "first_pass = find_nearest_centroids(points, centroids, '1')\n",
    "first_pass.head()"
   ]
  },
  {
   "cell_type": "code",
   "execution_count": 0,
   "metadata": {
    "colab": {
     "base_uri": "https://localhost:8080/",
     "height": 361
    },
    "colab_type": "code",
    "id": "XVZQLvfAFh60",
    "outputId": "93b7f297-a22d-4a98-ec65-00d49b9b6c49"
   },
   "outputs": [
    {
     "data": {
      "image/png": "[encoded data removed]",
      "text/plain": [
       "<Figure size 576x396 with 1 Axes>"
      ]
     },
     "metadata": {
      "tags": []
     },
     "output_type": "display_data"
    }
   ],
   "source": [
    "def plot_clusters(df, column_header, centroids):\n",
    "  color = {0:'red', 1:'green', 2:'yellow'}\n",
    "  fig, ax = plt.subplots()\n",
    "  ax.plot(centroids.iloc[0].x, centroids.iloc[0].y, \"ok\")\n",
    "  ax.plot(centroids.iloc[1].x, centroids.iloc[1].y, \"ok\")\n",
    "  ax.plot(centroids.iloc[2].x, centroids.iloc[2].y, \"ok\")\n",
    "#   plt.axes().set_aspect('equal')\n",
    "  grouped = df.groupby(column_header)\n",
    "  for key, group in grouped:\n",
    "    group.plot(ax=ax, kind='scatter', x='x', y='y', label=key, color=colors[key])\n",
    "  plt.show()\n",
    "  \n",
    "plot_clusters(first_pass, 'clusters_1', centroids)"
   ]
  },
  {
   "cell_type": "code",
   "execution_count": 0,
   "metadata": {
    "colab": {},
    "colab_type": "code",
    "id": "I_6cOfkeFwWO"
   },
   "outputs": [],
   "source": [
    "def get_centroids(df, column_header):\n",
    "  new_centroids = df.groupby(column_header).mean()\n",
    "  return new_centroids\n",
    "\n",
    "centroids = get_centroids(first_pass, 'clusters_1')"
   ]
  },
  {
   "cell_type": "code",
   "execution_count": 0,
   "metadata": {
    "colab": {
     "base_uri": "https://localhost:8080/",
     "height": 361
    },
    "colab_type": "code",
    "id": "qyZLdP_nHKBa",
    "outputId": "3d231042-ab22-4e3d-9ab6-be686150a177"
   },
   "outputs": [
    {
     "data": {
      "image/png": "[encoded data removed]",
      "text/plain": [
       "<Figure size 576x396 with 1 Axes>"
      ]
     },
     "metadata": {
      "tags": []
     },
     "output_type": "display_data"
    }
   ],
   "source": [
    "plot_clusters(first_pass, 'clusters_1', centroids)"
   ]
  },
  {
   "cell_type": "code",
   "execution_count": 0,
   "metadata": {
    "colab": {
     "base_uri": "https://localhost:8080/",
     "height": 361
    },
    "colab_type": "code",
    "id": "kBueXP01G8tE",
    "outputId": "0028ca3f-95bc-41bf-c473-284fd4b29061"
   },
   "outputs": [
    {
     "data": {
      "image/png": "[encoded data removed]",
      "text/plain": [
       "<Figure size 576x396 with 1 Axes>"
      ]
     },
     "metadata": {
      "tags": []
     },
     "output_type": "display_data"
    }
   ],
   "source": [
    "# Calculate new centroids\n",
    "centroids = get_centroids(first_pass, 'clusters_1')\n",
    "\n",
    "# Get Clusters for New Centroids\n",
    "second_pass = find_nearest_centroids(first_pass, centroids, \"2\")\n",
    "\n",
    "# Plot new Clusters\n",
    "plot_clusters(second_pass, 'clusters_2', centroids)"
   ]
  },
  {
   "cell_type": "code",
   "execution_count": 0,
   "metadata": {
    "colab": {
     "base_uri": "https://localhost:8080/",
     "height": 361
    },
    "colab_type": "code",
    "id": "8u6KiGdvpD-e",
    "outputId": "b30e4d3c-cba4-4cb5-c141-12e8776392a6"
   },
   "outputs": [
    {
     "data": {
      "image/png": "[encoded data removed]",
      "text/plain": [
       "<Figure size 576x396 with 1 Axes>"
      ]
     },
     "metadata": {
      "tags": []
     },
     "output_type": "display_data"
    }
   ],
   "source": [
    "# Calculate new centroids\n",
    "centroids = get_centroids(second_pass, 'clusters_2')\n",
    "\n",
    "# Get Clusters for New Centroids\n",
    "third_pass = find_nearest_centroids(second_pass, centroids, \"3\")\n",
    "\n",
    "# Plot new Clusters\n",
    "plot_clusters(third_pass, 'clusters_3', centroids)"
   ]
  },
  {
   "cell_type": "code",
   "execution_count": 0,
   "metadata": {
    "colab": {
     "base_uri": "https://localhost:8080/",
     "height": 361
    },
    "colab_type": "code",
    "id": "jaTbGpAcpPSf",
    "outputId": "9db2ed34-0ea0-43f0-c4a1-ea0e3da4feba"
   },
   "outputs": [
    {
     "data": {
      "image/png": "[encoded data removed]",
      "text/plain": [
       "<Figure size 576x396 with 1 Axes>"
      ]
     },
     "metadata": {
      "tags": []
     },
     "output_type": "display_data"
    }
   ],
   "source": [
    "# Calculate new centroids\n",
    "centroids = get_centroids(third_pass, 'clusters_3')\n",
    "\n",
    "# Get Clusters for New Centroids\n",
    "fourth_pass = find_nearest_centroids(third_pass, centroids, \"4\")\n",
    "\n",
    "# Plot new Clusters\n",
    "plot_clusters(fourth_pass, 'clusters_4', centroids)"
   ]
  },
  {
   "cell_type": "code",
   "execution_count": 0,
   "metadata": {
    "colab": {
     "base_uri": "https://localhost:8080/",
     "height": 361
    },
    "colab_type": "code",
    "id": "gXpje6GWpbYS",
    "outputId": "beba5f63-06a3-4b26-bc2d-560db8907283"
   },
   "outputs": [
    {
     "data": {
      "image/png": "[encoded data removed]",
      "text/plain": [
       "<Figure size 576x396 with 1 Axes>"
      ]
     },
     "metadata": {
      "tags": []
     },
     "output_type": "display_data"
    }
   ],
   "source": [
    "# Calculate new centroids\n",
    "centroids = get_centroids(fourth_pass, 'clusters_4')\n",
    "\n",
    "# Get Clusters for New Centroids\n",
    "fifth_pass = find_nearest_centroids(fourth_pass, centroids, \"5\")\n",
    "\n",
    "# Plot new Clusters\n",
    "plot_clusters(fifth_pass, 'clusters_5', centroids)"
   ]
  },
  {
   "cell_type": "code",
   "execution_count": 0,
   "metadata": {
    "colab": {
     "base_uri": "https://localhost:8080/",
     "height": 361
    },
    "colab_type": "code",
    "id": "nKo9xSypJvPd",
    "outputId": "b57e05ca-2c61-4cae-e890-f71d9395394d"
   },
   "outputs": [
    {
     "data": {
      "image/png": "[encoded data removed]",
      "text/plain": [
       "<Figure size 576x396 with 1 Axes>"
      ]
     },
     "metadata": {
      "tags": []
     },
     "output_type": "display_data"
    }
   ],
   "source": [
    "# Calculate new centroids\n",
    "centroids = get_centroids(fifth_pass, 'clusters_5')\n",
    "\n",
    "# Get Clusters for New Centroids\n",
    "sixth_pass = find_nearest_centroids(fifth_pass, centroids, \"6\")\n",
    "\n",
    "# Plot new Clusters\n",
    "plot_clusters(sixth_pass, 'clusters_6', centroids)"
   ]
  },
  {
   "cell_type": "code",
   "execution_count": 0,
   "metadata": {
    "colab": {
     "base_uri": "https://localhost:8080/",
     "height": 34
    },
    "colab_type": "code",
    "id": "12VXLYsnbYXd",
    "outputId": "7932d6f9-23dc-4d20-992e-3befcdffcc4a"
   },
   "outputs": [
    {
     "name": "stdout",
     "output_type": "stream",
     "text": [
      "True\n"
     ]
    }
   ],
   "source": [
    "convergence = np.array_equal(fifth_pass['clusters_5'], sixth_pass['clusters_6'])\n",
    "\n",
    "print(convergence)"
   ]
  },
  {
   "cell_type": "markdown",
   "metadata": {
    "colab_type": "text",
    "id": "njKZU3ZVqELY"
   },
   "source": [
    "## Here's some better code that doesn't rely upon renaming dataframes to create new plots and demonstrate the steps in the k-means process (courtesy of the python wizard Zach Angell)"
   ]
  },
  {
   "cell_type": "code",
   "execution_count": 0,
   "metadata": {
    "colab": {
     "base_uri": "https://localhost:8080/",
     "height": 314
    },
    "colab_type": "code",
    "id": "mS9z6osaGqZE",
    "outputId": "8f6127d0-a9aa-48f3-b6dd-ca4fccf3291a"
   },
   "outputs": [
    {
     "ename": "NameError",
     "evalue": "ignored",
     "output_type": "error",
     "traceback": [
      "\u001b[0;31m---------------------------------------------------------------------------\u001b[0m",
      "\u001b[0;31mNameError\u001b[0m                                 Traceback (most recent call last)",
      "\u001b[0;32m<ipython-input-50-d2e7649e5515>\u001b[0m in \u001b[0;36m<module>\u001b[0;34m()\u001b[0m\n\u001b[1;32m     26\u001b[0m \u001b[0;34m\u001b[0m\u001b[0m\n\u001b[1;32m     27\u001b[0m \u001b[0;34m\u001b[0m\u001b[0m\n\u001b[0;32m---> 28\u001b[0;31m \u001b[0mfind_nearest_centroid\u001b[0m\u001b[0;34m(\u001b[0m\u001b[0mpoints\u001b[0m\u001b[0;34m,\u001b[0m \u001b[0mcentroids\u001b[0m\u001b[0;34m)\u001b[0m\u001b[0;34m.\u001b[0m\u001b[0mhead\u001b[0m\u001b[0;34m(\u001b[0m\u001b[0;34m)\u001b[0m\u001b[0;34m\u001b[0m\u001b[0;34m\u001b[0m\u001b[0m\n\u001b[0m",
      "\u001b[0;32m<ipython-input-50-d2e7649e5515>\u001b[0m in \u001b[0;36mfind_nearest_centroid\u001b[0;34m(df, centroids)\u001b[0m\n\u001b[1;32m      8\u001b[0m       \u001b[0mcentroids\u001b[0m \u001b[0;34m=\u001b[0m \u001b[0mget_centroids\u001b[0m\u001b[0;34m(\u001b[0m\u001b[0mdf_temp\u001b[0m\u001b[0;34m,\u001b[0m \u001b[0;34m'cluster'\u001b[0m \u001b[0;34m+\u001b[0m \u001b[0mstr\u001b[0m\u001b[0;34m(\u001b[0m\u001b[0mi\u001b[0m\u001b[0;34m-\u001b[0m\u001b[0;36m1\u001b[0m\u001b[0;34m)\u001b[0m\u001b[0;34m)\u001b[0m\u001b[0;34m\u001b[0m\u001b[0;34m\u001b[0m\u001b[0m\n\u001b[1;32m      9\u001b[0m \u001b[0;34m\u001b[0m\u001b[0m\n\u001b[0;32m---> 10\u001b[0;31m     \u001b[0mdistances\u001b[0m \u001b[0;34m=\u001b[0m \u001b[0mcdist\u001b[0m\u001b[0;34m(\u001b[0m\u001b[0mdf_temp\u001b[0m\u001b[0;34m[\u001b[0m\u001b[0;34m[\u001b[0m\u001b[0;34m'x'\u001b[0m\u001b[0;34m,\u001b[0m \u001b[0;34m'y'\u001b[0m\u001b[0;34m]\u001b[0m\u001b[0;34m]\u001b[0m\u001b[0;34m,\u001b[0m \u001b[0mcentroids\u001b[0m\u001b[0;34m[\u001b[0m\u001b[0;34m[\u001b[0m\u001b[0;34m'x'\u001b[0m\u001b[0;34m,\u001b[0m \u001b[0;34m'y'\u001b[0m\u001b[0;34m]\u001b[0m\u001b[0;34m]\u001b[0m\u001b[0;34m)\u001b[0m\u001b[0;34m\u001b[0m\u001b[0;34m\u001b[0m\u001b[0m\n\u001b[0m\u001b[1;32m     11\u001b[0m     \u001b[0mnearest_centroids\u001b[0m \u001b[0;34m=\u001b[0m \u001b[0mnp\u001b[0m\u001b[0;34m.\u001b[0m\u001b[0margmin\u001b[0m\u001b[0;34m(\u001b[0m\u001b[0mdistances\u001b[0m\u001b[0;34m,\u001b[0m \u001b[0maxis\u001b[0m\u001b[0;34m=\u001b[0m\u001b[0;36m1\u001b[0m\u001b[0;34m)\u001b[0m\u001b[0;34m\u001b[0m\u001b[0;34m\u001b[0m\u001b[0m\n\u001b[1;32m     12\u001b[0m \u001b[0;34m\u001b[0m\u001b[0m\n",
      "\u001b[0;31mNameError\u001b[0m: name 'cdist' is not defined"
     ]
    }
   ],
   "source": [
    "def find_nearest_centroid(df, centroids):\n",
    "  last_centroids = [np.random.choice([0,1,2])] * df.shape[0]\n",
    "  df_temp = df.copy()\n",
    "  i = 0\n",
    "  \n",
    "  while True:\n",
    "    if i>0:\n",
    "      centroids = get_centroids(df_temp, 'cluster' + str(i-1))\n",
    "\n",
    "    distances = cdist(df_temp[['x', 'y']], centroids[['x', 'y']])\n",
    "    nearest_centroids = np.argmin(distances, axis=1)\n",
    "    \n",
    "    df_temp['cluster' + str(i)] = nearest_centroids\n",
    "    \n",
    "    if (list(nearest_centroids) == list(last_centroids)):\n",
    "      return df_temp\n",
    "    else:\n",
    "      i +=1\n",
    "      last_centroids = nearest_centroids\n",
    "      \n",
    "def get_centroids(df, column_header):\n",
    "  x = [df.x[df[column_header]==0].mean(), df.x[df[column_header]==1].mean(), df.x[df[column_header]==2].mean()]\n",
    "  y = [df.y[df[column_header]==0].mean(), df.y[df[column_header]==1].mean(), df.y[df[column_header]==2].mean()]\n",
    "  data = {'x': x, 'y' : y}\n",
    "  return pd.DataFrame(data)\n",
    "  \n",
    "  \n",
    "find_nearest_centroid(points, centroids).head()"
   ]
  },
  {
   "cell_type": "markdown",
   "metadata": {
    "colab_type": "text",
    "id": "1-nJ_i-NQZIM"
   },
   "source": [
    "## How many centroids == K-means \n",
    "\n",
    "Since the centroid is the mean of a cluster the number of centroids to choose is the most important decision to make in \"k-means\" clustering. The K value is the number of centroids.\n",
    "\n",
    "\n",
    "### The Eyeball Method\n",
    "/polly \"How many centroids (means) should we use for this exercise?\"\n",
    "\n",
    "Congratulations, you've just been introduced to the first method of _**picking k**_ - Just graph your points and pick a number that makes sense. This gets a lot harder once you get a dimensionality higher than 3, but... Didn't we learn about some way to take high dimensional data and turn it into 2 or 3 dimensions...? 😀"
   ]
  },
  {
   "cell_type": "markdown",
   "metadata": {
    "colab_type": "text",
    "id": "TGueCso5SFXN"
   },
   "source": [
    "## Lets use a library to do it: Scikit-Learn"
   ]
  },
  {
   "cell_type": "code",
   "execution_count": 0,
   "metadata": {
    "colab": {
     "base_uri": "https://localhost:8080/",
     "height": 67
    },
    "colab_type": "code",
    "id": "VmyHklDKSI_m",
    "outputId": "89b8334c-722c-4235-a78c-9c1c46114ae8"
   },
   "outputs": [
    {
     "name": "stdout",
     "output_type": "stream",
     "text": [
      "[0 1 0 2 1 2 1 0 2 2 0 1 1 1 0 2 2 1 0 1 2 1 2 2 2 0 1 1 2 2 1 1 2 0 0 0 2\n",
      " 0 1 1 2 0 1 1 2 1 2 1 0 1 2 1 0 0 0 1 2 2 0 0 1 1 0 2 2 1 0 0 0 0 2 2 0 1\n",
      " 2 1 2 2 2 0 2 1 0 1 2 1 2 2 0 1 2 0 0 1 1 0 1 0 2 2]\n"
     ]
    }
   ],
   "source": [
    "from sklearn.cluster import KMeans \n",
    "kmeans = KMeans(n_clusters=3)\n",
    "kmeans.fit(X)\n",
    "labels = kmeans.labels_\n",
    "\n",
    "print(labels)"
   ]
  },
  {
   "cell_type": "code",
   "execution_count": 0,
   "metadata": {
    "colab": {
     "base_uri": "https://localhost:8080/",
     "height": 195
    },
    "colab_type": "code",
    "id": "5Gj9sXFDWtLo",
    "outputId": "4ff83bf0-1595-42f5-aa92-425dde07f9d2"
   },
   "outputs": [
    {
     "data": {
      "text/html": [
       "<div>\n",
       "<style scoped>\n",
       "    .dataframe tbody tr th:only-of-type {\n",
       "        vertical-align: middle;\n",
       "    }\n",
       "\n",
       "    .dataframe tbody tr th {\n",
       "        vertical-align: top;\n",
       "    }\n",
       "\n",
       "    .dataframe thead th {\n",
       "        text-align: right;\n",
       "    }\n",
       "</style>\n",
       "<table border=\"1\" class=\"dataframe\">\n",
       "  <thead>\n",
       "    <tr style=\"text-align: right;\">\n",
       "      <th></th>\n",
       "      <th>label</th>\n",
       "      <th>x</th>\n",
       "      <th>y</th>\n",
       "      <th>clusters</th>\n",
       "    </tr>\n",
       "  </thead>\n",
       "  <tbody>\n",
       "    <tr>\n",
       "      <th>0</th>\n",
       "      <td>1</td>\n",
       "      <td>-2.306177</td>\n",
       "      <td>5.173469</td>\n",
       "      <td>0</td>\n",
       "    </tr>\n",
       "    <tr>\n",
       "      <th>1</th>\n",
       "      <td>0</td>\n",
       "      <td>-8.075857</td>\n",
       "      <td>-4.645585</td>\n",
       "      <td>1</td>\n",
       "    </tr>\n",
       "    <tr>\n",
       "      <th>2</th>\n",
       "      <td>1</td>\n",
       "      <td>-4.593756</td>\n",
       "      <td>6.145742</td>\n",
       "      <td>0</td>\n",
       "    </tr>\n",
       "    <tr>\n",
       "      <th>3</th>\n",
       "      <td>2</td>\n",
       "      <td>-6.701480</td>\n",
       "      <td>6.401925</td>\n",
       "      <td>2</td>\n",
       "    </tr>\n",
       "    <tr>\n",
       "      <th>4</th>\n",
       "      <td>0</td>\n",
       "      <td>-8.563685</td>\n",
       "      <td>-8.342698</td>\n",
       "      <td>1</td>\n",
       "    </tr>\n",
       "  </tbody>\n",
       "</table>\n",
       "</div>"
      ],
      "text/plain": [
       "   label         x         y  clusters\n",
       "0      1 -2.306177  5.173469         0\n",
       "1      0 -8.075857 -4.645585         1\n",
       "2      1 -4.593756  6.145742         0\n",
       "3      2 -6.701480  6.401925         2\n",
       "4      0 -8.563685 -8.342698         1"
      ]
     },
     "execution_count": 65,
     "metadata": {
      "tags": []
     },
     "output_type": "execute_result"
    }
   ],
   "source": [
    "# Add our new labels to the dataframe\n",
    "new_series = pd.Series(labels)\n",
    "df['clusters'] = new_series.values\n",
    "\n",
    "df.head()"
   ]
  },
  {
   "cell_type": "code",
   "execution_count": 0,
   "metadata": {
    "colab": {
     "base_uri": "https://localhost:8080/",
     "height": 361
    },
    "colab_type": "code",
    "id": "on8qYidhXaA3",
    "outputId": "e81e8dba-3b77-47af-969d-e81a381030ea"
   },
   "outputs": [
    {
     "data": {
      "image/png": "[encoded data removed]",
      "text/plain": [
       "<Figure size 576x396 with 1 Axes>"
      ]
     },
     "metadata": {
      "tags": []
     },
     "output_type": "display_data"
    }
   ],
   "source": [
    "# We might get unlucky with different centroids and have slightly different clusters.\n",
    "centroids = get_centroids(df, 'clusters')\n",
    "plot_clusters(df, 'clusters', centroids)"
   ]
  },
  {
   "cell_type": "markdown",
   "metadata": {
    "colab_type": "text",
    "id": "WF5d6AP_VT4c"
   },
   "source": [
    "# Important Considerations:\n",
    "\n",
    "## Choosing the appropriate clustering method \n",
    "\n",
    "We've only taught you one so stick with that for today. \n",
    "\n",
    "## Choosing appropriate dimensions to cluster along. \n",
    "\n",
    "Hmmm, what would be the best dimension to cluster along? Maybe one that helps separate the clusters the best. You can do a lot of scatterplots to examine this or you could, I dunno, use a technique that maximizes the variance along certain dimensions transforming the data into principal components and then cluster along the dimensions of the principal components. \n",
    "\n",
    "## Choosing a distance measure\n",
    "\n",
    "Euclidean is the most traditional, you'll learn the others if the occasion presents itself (it most likely won't) - If I'm being completely honest.\n",
    "\n",
    "## Choosing an appropriate k (# of clusters)\n",
    "\n",
    "THIS IS THE MOST IMPORTANT CONSIDERATION WHEN IT COMES TO K-MEANS (I mean it's in the name)\n",
    "\n",
    "![Elbow Method](http://www.ryanleeallred.com/wp-content/uploads/2019/01/elbow-method.png)\n",
    "\n",
    "On the x-axis we have number of centroids (k)\n",
    "\n",
    "On the y-axis we have \"distortion\" which is measured as the sum of squared distances of each point to its given cluster\n",
    "\n",
    "Here's some code below that could be used to create a similar \"Elbow\" Graph."
   ]
  },
  {
   "cell_type": "code",
   "execution_count": 0,
   "metadata": {
    "colab": {
     "base_uri": "https://localhost:8080/",
     "height": 213
    },
    "colab_type": "code",
    "id": "RXflkYwTL8WT",
    "outputId": "a1ac95b5-bce7-4bbb-b3a0-6b1a202969df"
   },
   "outputs": [
    {
     "ename": "NameError",
     "evalue": "ignored",
     "output_type": "error",
     "traceback": [
      "\u001b[0;31m---------------------------------------------------------------------------\u001b[0m",
      "\u001b[0;31mNameError\u001b[0m                                 Traceback (most recent call last)",
      "\u001b[0;32m<ipython-input-67-502581e9806e>\u001b[0m in \u001b[0;36m<module>\u001b[0;34m()\u001b[0m\n\u001b[1;32m      3\u001b[0m \u001b[0;32mfor\u001b[0m \u001b[0mk\u001b[0m \u001b[0;32min\u001b[0m \u001b[0mK\u001b[0m\u001b[0;34m:\u001b[0m\u001b[0;34m\u001b[0m\u001b[0;34m\u001b[0m\u001b[0m\n\u001b[1;32m      4\u001b[0m     \u001b[0mkm\u001b[0m \u001b[0;34m=\u001b[0m \u001b[0mKMeans\u001b[0m\u001b[0;34m(\u001b[0m\u001b[0mn_clusters\u001b[0m\u001b[0;34m=\u001b[0m\u001b[0mk\u001b[0m\u001b[0;34m)\u001b[0m\u001b[0;34m\u001b[0m\u001b[0;34m\u001b[0m\u001b[0m\n\u001b[0;32m----> 5\u001b[0;31m     \u001b[0mkm\u001b[0m \u001b[0;34m=\u001b[0m \u001b[0mkm\u001b[0m\u001b[0;34m.\u001b[0m\u001b[0mfit\u001b[0m\u001b[0;34m(\u001b[0m\u001b[0mdata_transformed\u001b[0m\u001b[0;34m)\u001b[0m\u001b[0;34m\u001b[0m\u001b[0;34m\u001b[0m\u001b[0m\n\u001b[0m\u001b[1;32m      6\u001b[0m     \u001b[0mSum_of_squared_distances\u001b[0m\u001b[0;34m.\u001b[0m\u001b[0mappend\u001b[0m\u001b[0;34m(\u001b[0m\u001b[0mkm\u001b[0m\u001b[0;34m.\u001b[0m\u001b[0minertia_\u001b[0m\u001b[0;34m)\u001b[0m\u001b[0;34m\u001b[0m\u001b[0;34m\u001b[0m\u001b[0m\n",
      "\u001b[0;31mNameError\u001b[0m: name 'data_transformed' is not defined"
     ]
    }
   ],
   "source": [
    "sum_of_squared_distances = []\n",
    "K = range(1,15)\n",
    "for k in K:\n",
    "    km = KMeans(n_clusters=k)\n",
    "    km = km.fit(data_transformed)\n",
    "    sum_of_squared_distances.append(km.inertia_)"
   ]
  },
  {
   "cell_type": "code",
   "execution_count": 0,
   "metadata": {
    "colab": {},
    "colab_type": "code",
    "id": "CxrwEX4VL-u5"
   },
   "outputs": [],
   "source": [
    "plt.plot(K, Sum_of_squared_distances, 'bx-')\n",
    "plt.xlabel('k')\n",
    "plt.ylabel('Sum_of_squared_distances')\n",
    "plt.title('Elbow Method For Optimal k')\n",
    "plt.show()"
   ]
  },
  {
   "cell_type": "markdown",
   "metadata": {
    "colab_type": "text",
    "id": "DhMkzbIFX96q"
   },
   "source": [
    "# Further Considerations\n",
    "\n",
    "## Choosing an appropriate K\n",
    "\n",
    "## Unlucky Initial Centroids\n",
    "\n",
    "Unlucky Initial Centroids can \n",
    "\n",
    "- result in a poor clustering\n",
    "- lead to a clustering that doesn't converge\n",
    "\n",
    "## Computational Complexity\n",
    "\n",
    "## What is K-means good for?\n",
    "\n",
    "- ### Mostly Round, linearly-separable blobs."
   ]
  },
  {
   "cell_type": "markdown",
   "metadata": {
    "colab_type": "text",
    "id": "QEEQapU2uRIx"
   },
   "source": [
    "# No Free Lunch\n",
    "\n",
    "The no free lunch principle states that the more an algorithm is optimized to solve one specific kind of problem, the worse it gets at solving all other kinds of problems. \n",
    "\n",
    "This means that if you want an algorithm that's really good at solving a certain problem (cluster shape for example), it usually lose some of its ability to generalize to other problems. \n",
    "\n",
    "### What does this mean for us as data scientists?\n",
    "\n",
    "1) There are always tradeoffs when selecting from different approaches. Because of this, understanding those tradeoffs and justifying your choice of methodology is just as important as actually doing the work itself.\n",
    "\n",
    "2) The only way that we can choose one approach over another is to make assumptions about our data. If we don't know anything about the characteristics of our data, then we can't make an informed choice of algorithm. \n",
    "\n",
    "Think about how we knew to use Unsupervised vs Supervised learning for the clustering problem, the choice was informed by our data. Does it have labels or not? \n",
    "\n",
    "![No Free Lunch](https://cdn-images-1.medium.com/max/1600/1*oNt9G9UpVhtyFLDBwEMf8Q.png)\n",
    "\n",
    "Density Based Clustering Animation:\n",
    "\n",
    "[DB Scan Animation](https://www.youtube.com/watch?v=h53WMIImUuc)\n",
    "\n",
    "## Don't Get Overwhelmed! \n",
    "\n",
    "Some people spend their entire careers researching new clustering methods and improvements.\n",
    "\n",
    "## Don't be a perfectionist! \n",
    "\n",
    "There are too many techniques to master, you can't learn all of them in 7 months.\n",
    "\n",
    "## Focus on learning in the context of a problem you want to solve or a project that you are passionate about building\n"
   ]
  }
 ],
 "metadata": {
  "colab": {
   "collapsed_sections": [],
   "name": "Clustering and NFL.ipynb",
   "provenance": [],
   "version": "0.3.2"
  },
  "kernelspec": {
   "display_name": "Python 3",
   "language": "python",
   "name": "python3"
  },
  "language_info": {
   "codemirror_mode": {
    "name": "ipython",
    "version": 3
   },
   "file_extension": ".py",
   "mimetype": "text/x-python",
   "name": "python",
   "nbconvert_exporter": "python",
   "pygments_lexer": "ipython3",
   "version": "3.6.4"
  }
 },
 "nbformat": 4,
 "nbformat_minor": 1
}
