{
 "cells": [
  {
   "cell_type": "code",
   "execution_count": null,
   "id": "68c4fe65-658d-49ce-980e-59c5b499a466",
   "metadata": {
    "collapsed": true,
    "jupyter": {
     "outputs_hidden": true
    },
    "tags": []
   },
   "outputs": [
    {
     "name": "stdout",
     "output_type": "stream",
     "text": [
      "Collecting tika\n",
      "  Downloading tika-2.6.0.tar.gz (27 kB)\n",
      "  Preparing metadata (setup.py) ... \u001b[?25ldone\n",
      "\u001b[?25hRequirement already satisfied: setuptools in /opt/conda/lib/python3.9/site-packages (from tika) (65.4.1)\n",
      "Requirement already satisfied: requests in /opt/conda/lib/python3.9/site-packages (from tika) (2.28.1)\n",
      "Requirement already satisfied: urllib3<1.27,>=1.21.1 in /opt/conda/lib/python3.9/site-packages (from requests->tika) (1.26.11)\n",
      "Requirement already satisfied: charset-normalizer<3,>=2 in /opt/conda/lib/python3.9/site-packages (from requests->tika) (2.1.1)\n",
      "Requirement already satisfied: idna<4,>=2.5 in /opt/conda/lib/python3.9/site-packages (from requests->tika) (3.4)\n",
      "Requirement already satisfied: certifi>=2017.4.17 in /opt/conda/lib/python3.9/site-packages (from requests->tika) (2022.9.24)\n",
      "Building wheels for collected packages: tika\n",
      "  Building wheel for tika (setup.py) ... \u001b[?25ldone\n",
      "\u001b[?25h  Created wheel for tika: filename=tika-2.6.0-py3-none-any.whl size=32624 sha256=91a7492ab6d29ccff1dcabbb115f404bf00d4f0f22b5ab50a1463aa99fe73ef0\n",
      "  Stored in directory: /home/jovyan/.cache/pip/wheels/13/56/18/e752060632d32c39c9c4545e756dad281f8504dafcfac02b95\n",
      "Successfully built tika\n",
      "Installing collected packages: tika\n",
      "Successfully installed tika-2.6.0\n"
     ]
    }
   ],
   "source": [
    "!pip install tika"
   ]
  },
  {
   "cell_type": "code",
   "execution_count": 2,
   "id": "fa85da00-196b-4666-834b-33b9290fd4f1",
   "metadata": {},
   "outputs": [],
   "source": [
    "from tqdm import tqdm\n",
    "import json"
   ]
  },
  {
   "cell_type": "code",
   "execution_count": 5,
   "id": "cacb1657-06a0-4327-8d53-4f0072ae8981",
   "metadata": {},
   "outputs": [],
   "source": [
    "import os\n",
    "os.environ[\"JAVA_HOME\"] = \"/opt/jdk-21.0.1\"\n",
    "os.environ[\"PATH\"] += \":/opt/jdk-21.0.1/bin\"\n",
    "os.chdir('/home/jovyan/pdf_download')"
   ]
  },
  {
   "cell_type": "code",
   "execution_count": 6,
   "id": "8c54e125-bb71-4d94-9387-52f808287819",
   "metadata": {},
   "outputs": [
    {
     "name": "stdout",
     "output_type": "stream",
     "text": [
      "java version \"21.0.1\" 2023-10-17 LTS\n",
      "Java(TM) SE Runtime Environment (build 21.0.1+12-LTS-29)\n",
      "Java HotSpot(TM) 64-Bit Server VM (build 21.0.1+12-LTS-29, mixed mode, sharing)\n"
     ]
    }
   ],
   "source": [
    "!java -version"
   ]
  },
  {
   "cell_type": "code",
   "execution_count": 7,
   "id": "92b3f4c3-4b06-498e-a66c-284ebd47f664",
   "metadata": {},
   "outputs": [
    {
     "data": {
      "text/plain": [
       "937"
      ]
     },
     "execution_count": 7,
     "metadata": {},
     "output_type": "execute_result"
    }
   ],
   "source": [
    "from glob import glob\n",
    "pdfs = glob('*/*.pdf')\n",
    "len(pdfs)"
   ]
  },
  {
   "cell_type": "code",
   "execution_count": 13,
   "id": "90a7528d-95e3-4442-98f4-89463bd9d64a",
   "metadata": {
    "tags": []
   },
   "outputs": [],
   "source": [
    "import tika\n",
    "tika.initVM()\n",
    "from tika import parser"
   ]
  },
  {
   "cell_type": "code",
   "execution_count": 24,
   "id": "d43940ed-7750-4888-84ea-0e904a27570d",
   "metadata": {},
   "outputs": [
    {
     "name": "stdout",
     "output_type": "stream",
     "text": [
      "None\n"
     ]
    }
   ],
   "source": [
    "parsed = parser.from_file(pdfs[247])\n",
    "#print(parsed[\"metadata\"])\n",
    "content = parsed[\"content\"]\n",
    "print(content.replace('\\n', ' '))"
   ]
  },
  {
   "cell_type": "code",
   "execution_count": 23,
   "id": "174c8620-97b0-4444-b073-5f5762f5da1a",
   "metadata": {
    "collapsed": true,
    "jupyter": {
     "outputs_hidden": true
    },
    "tags": []
   },
   "outputs": [
    {
     "ename": "AttributeError",
     "evalue": "'NoneType' object has no attribute 'replace'",
     "output_type": "error",
     "traceback": [
      "\u001b[0;31m---------------------------------------------------------------------------\u001b[0m",
      "\u001b[0;31mAttributeError\u001b[0m                            Traceback (most recent call last)",
      "Cell \u001b[0;32mIn [23], line 2\u001b[0m\n\u001b[1;32m      1\u001b[0m content \u001b[38;5;241m=\u001b[39m parsed[\u001b[38;5;124m\"\u001b[39m\u001b[38;5;124mcontent\u001b[39m\u001b[38;5;124m\"\u001b[39m]\n\u001b[0;32m----> 2\u001b[0m \u001b[38;5;28mprint\u001b[39m(\u001b[43mcontent\u001b[49m\u001b[38;5;241;43m.\u001b[39;49m\u001b[43mreplace\u001b[49m(\u001b[38;5;124m'\u001b[39m\u001b[38;5;130;01m\\n\u001b[39;00m\u001b[38;5;124m'\u001b[39m, \u001b[38;5;124m'\u001b[39m\u001b[38;5;124m \u001b[39m\u001b[38;5;124m'\u001b[39m))\n",
      "\u001b[0;31mAttributeError\u001b[0m: 'NoneType' object has no attribute 'replace'"
     ]
    }
   ],
   "source": [
    "content = parsed[\"content\"]\n",
    "print(content.replace('\\n', ' '))"
   ]
  },
  {
   "cell_type": "code",
   "execution_count": 10,
   "id": "58efd867-0a75-47e4-9d47-6c3aa6582948",
   "metadata": {},
   "outputs": [],
   "source": [
    "def text_parser(file):\n",
    "    parsed = parser.from_file(file)\n",
    "    content = parsed[\"content\"]\n",
    "    clean = content.replace('\\n', '')\n",
    "    \n",
    "    return clean"
   ]
  },
  {
   "cell_type": "code",
   "execution_count": 21,
   "id": "cdcfaa64-b14c-47ee-9d20-26f23e5274d9",
   "metadata": {
    "collapsed": true,
    "jupyter": {
     "outputs_hidden": true
    },
    "tags": []
   },
   "outputs": [
    {
     "ename": "AttributeError",
     "evalue": "'NoneType' object has no attribute 'replace'",
     "output_type": "error",
     "traceback": [
      "\u001b[0;31m---------------------------------------------------------------------------\u001b[0m",
      "\u001b[0;31mAttributeError\u001b[0m                            Traceback (most recent call last)",
      "Cell \u001b[0;32mIn [21], line 1\u001b[0m\n\u001b[0;32m----> 1\u001b[0m scrap \u001b[38;5;241m=\u001b[39m \u001b[43mtext_parser\u001b[49m\u001b[43m(\u001b[49m\u001b[43mpdfs\u001b[49m\u001b[43m[\u001b[49m\u001b[38;5;241;43m247\u001b[39;49m\u001b[43m]\u001b[49m\u001b[43m)\u001b[49m\n\u001b[1;32m      2\u001b[0m \u001b[38;5;28mprint\u001b[39m(scrap)\n",
      "Cell \u001b[0;32mIn [15], line 4\u001b[0m, in \u001b[0;36mtext_parser\u001b[0;34m(file)\u001b[0m\n\u001b[1;32m      2\u001b[0m parsed \u001b[38;5;241m=\u001b[39m parser\u001b[38;5;241m.\u001b[39mfrom_file(file)\n\u001b[1;32m      3\u001b[0m content \u001b[38;5;241m=\u001b[39m parsed[\u001b[38;5;124m\"\u001b[39m\u001b[38;5;124mcontent\u001b[39m\u001b[38;5;124m\"\u001b[39m]\n\u001b[0;32m----> 4\u001b[0m clean \u001b[38;5;241m=\u001b[39m \u001b[43mcontent\u001b[49m\u001b[38;5;241;43m.\u001b[39;49m\u001b[43mreplace\u001b[49m(\u001b[38;5;124m'\u001b[39m\u001b[38;5;130;01m\\n\u001b[39;00m\u001b[38;5;124m'\u001b[39m, \u001b[38;5;124m'\u001b[39m\u001b[38;5;124m'\u001b[39m)\n\u001b[1;32m      6\u001b[0m \u001b[38;5;28;01mreturn\u001b[39;00m clean\n",
      "\u001b[0;31mAttributeError\u001b[0m: 'NoneType' object has no attribute 'replace'"
     ]
    }
   ],
   "source": [
    "scrap = text_parser(pdfs[247])\n",
    "print(scrap)"
   ]
  },
  {
   "cell_type": "code",
   "execution_count": 15,
   "id": "b112191f-b42b-4ec0-b4b0-cb5f47b445ad",
   "metadata": {},
   "outputs": [
    {
     "name": "stderr",
     "output_type": "stream",
     "text": [
      "100%|██████████| 937/937 [03:12<00:00,  4.88it/s]\n"
     ]
    }
   ],
   "source": [
    "with open('jurnaldbp.jsonl', 'a') as f:\n",
    "    for file in tqdm(pdfs):\n",
    "        \n",
    "        try:\n",
    "            body = text_parser(file)\n",
    "            \n",
    "            json.dump(body, f)\n",
    "            f.write('\\n')\n",
    "        except:\n",
    "            pass"
   ]
  },
  {
   "cell_type": "code",
   "execution_count": 18,
   "id": "78af27b5-138c-463d-a762-bbd3bb68a892",
   "metadata": {},
   "outputs": [],
   "source": [
    "file_path='/home/jovyan/pdf_download/jurnaldbp.jsonl'"
   ]
  },
  {
   "cell_type": "code",
   "execution_count": 23,
   "id": "d83aa869-7d9e-4a64-9dd1-591fba4afe40",
   "metadata": {},
   "outputs": [
    {
     "data": {
      "text/plain": [
       "930"
      ]
     },
     "execution_count": 23,
     "metadata": {},
     "output_type": "execute_result"
    }
   ],
   "source": [
    "#from 937 articles got 930 articles\n",
    "import pandas as pd\n",
    "jsonObj = pd.read_json(path_or_buf=file_path, lines=True)\n",
    "len(jsonObj)"
   ]
  },
  {
   "cell_type": "code",
   "execution_count": 24,
   "id": "d882dfc3-c51a-4e06-bd77-123bde0ae6ec",
   "metadata": {},
   "outputs": [
    {
     "data": {
      "text/html": [
       "<div>\n",
       "<style scoped>\n",
       "    .dataframe tbody tr th:only-of-type {\n",
       "        vertical-align: middle;\n",
       "    }\n",
       "\n",
       "    .dataframe tbody tr th {\n",
       "        vertical-align: top;\n",
       "    }\n",
       "\n",
       "    .dataframe thead th {\n",
       "        text-align: right;\n",
       "    }\n",
       "</style>\n",
       "<table border=\"1\" class=\"dataframe\">\n",
       "  <thead>\n",
       "    <tr style=\"text-align: right;\">\n",
       "      <th></th>\n",
       "      <th>0</th>\n",
       "    </tr>\n",
       "  </thead>\n",
       "  <tbody>\n",
       "    <tr>\n",
       "      <th>0</th>\n",
       "      <td>288                      KANUN     [DISEMBER 2...</td>\n",
       "    </tr>\n",
       "    <tr>\n",
       "      <th>1</th>\n",
       "      <td>24 KANUN (2) 275Penyakit Berjangkit: Isu Kesih...</td>\n",
       "    </tr>\n",
       "    <tr>\n",
       "      <th>2</th>\n",
       "      <td>23730 KANUN (2) [ARTIKEL]Asiah Alkharib Shahmo...</td>\n",
       "    </tr>\n",
       "    <tr>\n",
       "      <th>3</th>\n",
       "      <td>27 KANUN (1) 7Falsafah Pentadbiran Keadilan Je...</td>\n",
       "    </tr>\n",
       "    <tr>\n",
       "      <th>4</th>\n",
       "      <td>54                      KANUN     [JUN 2014][M...</td>\n",
       "    </tr>\n",
       "    <tr>\n",
       "      <th>...</th>\n",
       "      <td>...</td>\n",
       "    </tr>\n",
       "    <tr>\n",
       "      <th>925</th>\n",
       "      <td>131AZHAR IBRAHIMMALAY LITERATURE IN SINGAPORE:...</td>\n",
       "    </tr>\n",
       "    <tr>\n",
       "      <th>926</th>\n",
       "      <td>181SALMAH JAN NOOR MUHAMMADLEADERSHIP OF MALAC...</td>\n",
       "    </tr>\n",
       "    <tr>\n",
       "      <th>927</th>\n",
       "      <td>MALAY LITERATURE198WAY OF THE WARRIOR:BATTLING...</td>\n",
       "    </tr>\n",
       "    <tr>\n",
       "      <th>928</th>\n",
       "      <td>MALAY LITERATURE  VOLUME 30 NUMBER 1  JUNE 201...</td>\n",
       "    </tr>\n",
       "    <tr>\n",
       "      <th>929</th>\n",
       "      <td>AbstractHikayat Raja Babi is an old Malay manu...</td>\n",
       "    </tr>\n",
       "  </tbody>\n",
       "</table>\n",
       "<p>930 rows × 1 columns</p>\n",
       "</div>"
      ],
      "text/plain": [
       "                                                     0\n",
       "0    288                      KANUN     [DISEMBER 2...\n",
       "1    24 KANUN (2) 275Penyakit Berjangkit: Isu Kesih...\n",
       "2    23730 KANUN (2) [ARTIKEL]Asiah Alkharib Shahmo...\n",
       "3    27 KANUN (1) 7Falsafah Pentadbiran Keadilan Je...\n",
       "4    54                      KANUN     [JUN 2014][M...\n",
       "..                                                 ...\n",
       "925  131AZHAR IBRAHIMMALAY LITERATURE IN SINGAPORE:...\n",
       "926  181SALMAH JAN NOOR MUHAMMADLEADERSHIP OF MALAC...\n",
       "927  MALAY LITERATURE198WAY OF THE WARRIOR:BATTLING...\n",
       "928  MALAY LITERATURE  VOLUME 30 NUMBER 1  JUNE 201...\n",
       "929  AbstractHikayat Raja Babi is an old Malay manu...\n",
       "\n",
       "[930 rows x 1 columns]"
      ]
     },
     "execution_count": 24,
     "metadata": {},
     "output_type": "execute_result"
    }
   ],
   "source": [
    "jsonObj"
   ]
  }
 ],
 "metadata": {
  "kernelspec": {
   "display_name": "Python 3 (ipykernel)",
   "language": "python",
   "name": "python3"
  },
  "language_info": {
   "codemirror_mode": {
    "name": "ipython",
    "version": 3
   },
   "file_extension": ".py",
   "mimetype": "text/x-python",
   "name": "python",
   "nbconvert_exporter": "python",
   "pygments_lexer": "ipython3",
   "version": "3.9.13"
  }
 },
 "nbformat": 4,
 "nbformat_minor": 5
}
