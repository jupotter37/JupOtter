{
 "cells": [
  {
   "cell_type": "markdown",
   "metadata": {},
   "source": [
    "# Using v94m2 and v94m3 to show this bug in 2.2.7 saspy where the translated ODS templates changed encodings. See 'charset' in the html\n",
    "# Using Chinese, as I was set up with that investigating this prior to this issue."
   ]
  },
  {
   "cell_type": "code",
   "execution_count": 1,
   "metadata": {
    "collapsed": false
   },
   "outputs": [
    {
     "data": {
      "text/plain": [
       "<module 'saspy' from 'C:\\\\ProgramData\\\\Anaconda3\\\\lib\\\\site-packages\\\\saspy\\\\__init__.py'>"
      ]
     },
     "execution_count": 1,
     "metadata": {},
     "output_type": "execute_result"
    }
   ],
   "source": [
    "import saspy\n",
    "saspy"
   ]
  },
  {
   "cell_type": "code",
   "execution_count": 2,
   "metadata": {
    "collapsed": false
   },
   "outputs": [
    {
     "name": "stdout",
     "output_type": "stream",
     "text": [
      "SAS Connection established. Subprocess id is 18340\n",
      "\n"
     ]
    },
    {
     "data": {
      "text/plain": [
       "Access Method         = IOM\n",
       "SAS Config name       = winiomjwin\n",
       "WORK Path             = /\n",
       "SAS Version           = 9.04.01M2P08192014\n",
       "SASPy Version         = 2.2.7\n",
       "Teach me SAS          = False\n",
       "Batch                 = False\n",
       "Results               = Pandas\n",
       "SAS Session Encoding  = EUC-CN\n",
       "Python Encoding value = gb2312"
      ]
     },
     "execution_count": 2,
     "metadata": {},
     "output_type": "execute_result"
    }
   ],
   "source": [
    "sas_m2 = saspy.SASsession(cfgname='winiomjwin', encoding='gb2312', iomport=6777)\n",
    "sas_m2"
   ]
  },
  {
   "cell_type": "code",
   "execution_count": 3,
   "metadata": {
    "collapsed": false
   },
   "outputs": [],
   "source": [
    "cars_m2 = sas_m2.sasdata('cars','sashelp')"
   ]
  },
  {
   "cell_type": "code",
   "execution_count": 4,
   "metadata": {
    "collapsed": false
   },
   "outputs": [
    {
     "ename": "UnicodeDecodeError",
     "evalue": "'utf-8' codec can't decode byte 0xbb in position 35697: invalid start byte",
     "output_type": "error",
     "traceback": [
      "\u001b[0;31m---------------------------------------------------------------------------\u001b[0m",
      "\u001b[0;31mUnicodeDecodeError\u001b[0m                        Traceback (most recent call last)",
      "\u001b[0;32m<ipython-input-4-fd3b3a9e8177>\u001b[0m in \u001b[0;36m<module>\u001b[0;34m()\u001b[0m\n\u001b[0;32m----> 1\u001b[0;31m \u001b[0mcars_m2\u001b[0m\u001b[1;33m.\u001b[0m\u001b[0mdescribe\u001b[0m\u001b[1;33m(\u001b[0m\u001b[1;33m)\u001b[0m\u001b[1;33m\u001b[0m\u001b[0m\n\u001b[0m",
      "\u001b[0;32mC:\\ProgramData\\Anaconda3\\lib\\site-packages\\saspy\\sasbase.py\u001b[0m in \u001b[0;36mdescribe\u001b[0;34m(self)\u001b[0m\n\u001b[1;32m   1508\u001b[0m         \u001b[1;33m:\u001b[0m\u001b[1;32mreturn\u001b[0m\u001b[1;33m:\u001b[0m\u001b[1;33m\u001b[0m\u001b[0m\n\u001b[1;32m   1509\u001b[0m         \"\"\"\n\u001b[0;32m-> 1510\u001b[0;31m         \u001b[1;32mreturn\u001b[0m \u001b[0mself\u001b[0m\u001b[1;33m.\u001b[0m\u001b[0mmeans\u001b[0m\u001b[1;33m(\u001b[0m\u001b[1;33m)\u001b[0m\u001b[1;33m\u001b[0m\u001b[0m\n\u001b[0m\u001b[1;32m   1511\u001b[0m \u001b[1;33m\u001b[0m\u001b[0m\n\u001b[1;32m   1512\u001b[0m     \u001b[1;32mdef\u001b[0m \u001b[0mmeans\u001b[0m\u001b[1;33m(\u001b[0m\u001b[0mself\u001b[0m\u001b[1;33m)\u001b[0m\u001b[1;33m:\u001b[0m\u001b[1;33m\u001b[0m\u001b[0m\n",
      "\u001b[0;32mC:\\ProgramData\\Anaconda3\\lib\\site-packages\\saspy\\sasbase.py\u001b[0m in \u001b[0;36mmeans\u001b[0;34m(self)\u001b[0m\n\u001b[1;32m   1527\u001b[0m             code = \"proc means data=%s.%s %s stackodsoutput n nmiss median mean std min p25 p50 p75 max; ods output Summary=work._summary; run;\" % (\n\u001b[1;32m   1528\u001b[0m                 self.libref, self.table, self._dsopts())\n\u001b[0;32m-> 1529\u001b[0;31m             \u001b[1;32mreturn\u001b[0m \u001b[0mself\u001b[0m\u001b[1;33m.\u001b[0m\u001b[0m_returnPD\u001b[0m\u001b[1;33m(\u001b[0m\u001b[0mcode\u001b[0m\u001b[1;33m,\u001b[0m \u001b[1;34m'_summary'\u001b[0m\u001b[1;33m)\u001b[0m\u001b[1;33m\u001b[0m\u001b[0m\n\u001b[0m\u001b[1;32m   1530\u001b[0m         \u001b[1;32melse\u001b[0m\u001b[1;33m:\u001b[0m\u001b[1;33m\u001b[0m\u001b[0m\n\u001b[1;32m   1531\u001b[0m             \u001b[1;32mif\u001b[0m \u001b[0mself\u001b[0m\u001b[1;33m.\u001b[0m\u001b[0mHTML\u001b[0m\u001b[1;33m:\u001b[0m\u001b[1;33m\u001b[0m\u001b[0m\n",
      "\u001b[0;32mC:\\ProgramData\\Anaconda3\\lib\\site-packages\\saspy\\sasbase.py\u001b[0m in \u001b[0;36m_returnPD\u001b[0;34m(self, code, tablename, **kwargs)\u001b[0m\n\u001b[1;32m   1107\u001b[0m         \u001b[1;32mif\u001b[0m \u001b[1;34m'libref'\u001b[0m \u001b[1;32min\u001b[0m \u001b[0mkwargs\u001b[0m\u001b[1;33m:\u001b[0m\u001b[1;33m\u001b[0m\u001b[0m\n\u001b[1;32m   1108\u001b[0m             \u001b[0mlibref\u001b[0m \u001b[1;33m=\u001b[0m \u001b[0mkwargs\u001b[0m\u001b[1;33m[\u001b[0m\u001b[1;34m'libref'\u001b[0m\u001b[1;33m]\u001b[0m\u001b[1;33m\u001b[0m\u001b[0m\n\u001b[0;32m-> 1109\u001b[0;31m         \u001b[0mll\u001b[0m \u001b[1;33m=\u001b[0m \u001b[0mself\u001b[0m\u001b[1;33m.\u001b[0m\u001b[0msas\u001b[0m\u001b[1;33m.\u001b[0m\u001b[0m_io\u001b[0m\u001b[1;33m.\u001b[0m\u001b[0msubmit\u001b[0m\u001b[1;33m(\u001b[0m\u001b[0mcode\u001b[0m\u001b[1;33m)\u001b[0m\u001b[1;33m\u001b[0m\u001b[0m\n\u001b[0m\u001b[1;32m   1110\u001b[0m         \u001b[0mcheck\u001b[0m\u001b[1;33m,\u001b[0m \u001b[0merrorMsg\u001b[0m \u001b[1;33m=\u001b[0m \u001b[0mself\u001b[0m\u001b[1;33m.\u001b[0m\u001b[0m_checkLogForError\u001b[0m\u001b[1;33m(\u001b[0m\u001b[0mll\u001b[0m\u001b[1;33m[\u001b[0m\u001b[1;34m'LOG'\u001b[0m\u001b[1;33m]\u001b[0m\u001b[1;33m)\u001b[0m\u001b[1;33m\u001b[0m\u001b[0m\n\u001b[1;32m   1111\u001b[0m         \u001b[1;32mif\u001b[0m \u001b[1;32mnot\u001b[0m \u001b[0mcheck\u001b[0m\u001b[1;33m:\u001b[0m\u001b[1;33m\u001b[0m\u001b[0m\n",
      "\u001b[0;32mC:\\ProgramData\\Anaconda3\\lib\\site-packages\\saspy\\sasioiom.py\u001b[0m in \u001b[0;36msubmit\u001b[0;34m(self, code, results, prompt)\u001b[0m\n\u001b[1;32m    875\u001b[0m              \u001b[0mself\u001b[0m\u001b[1;33m.\u001b[0m\u001b[0mstdin\u001b[0m\u001b[1;33m[\u001b[0m\u001b[1;36m0\u001b[0m\u001b[1;33m]\u001b[0m\u001b[1;33m.\u001b[0m\u001b[0msend\u001b[0m\u001b[1;33m(\u001b[0m\u001b[0modsclose\u001b[0m\u001b[1;33m+\u001b[0m\u001b[0mlogcodei\u001b[0m\u001b[1;33m.\u001b[0m\u001b[0mencode\u001b[0m\u001b[1;33m(\u001b[0m\u001b[1;33m)\u001b[0m\u001b[1;33m+\u001b[0m\u001b[1;34mb'tom says EOL='\u001b[0m\u001b[1;33m+\u001b[0m\u001b[0mlogcodeo\u001b[0m\u001b[1;33m+\u001b[0m\u001b[1;34mb'\\n'\u001b[0m\u001b[1;33m)\u001b[0m\u001b[1;33m\u001b[0m\u001b[0m\n\u001b[1;32m    876\u001b[0m \u001b[1;33m\u001b[0m\u001b[0m\n\u001b[0;32m--> 877\u001b[0;31m       \u001b[0mlstf\u001b[0m \u001b[1;33m=\u001b[0m \u001b[0mlstf\u001b[0m\u001b[1;33m.\u001b[0m\u001b[0mdecode\u001b[0m\u001b[1;33m(\u001b[0m\u001b[1;33m)\u001b[0m\u001b[1;33m\u001b[0m\u001b[0m\n\u001b[0m\u001b[1;32m    878\u001b[0m       \u001b[0mlogf\u001b[0m \u001b[1;33m=\u001b[0m \u001b[0mlogf\u001b[0m\u001b[1;33m.\u001b[0m\u001b[0mdecode\u001b[0m\u001b[1;33m(\u001b[0m\u001b[1;33m)\u001b[0m\u001b[1;33m\u001b[0m\u001b[0m\n\u001b[1;32m    879\u001b[0m \u001b[1;33m\u001b[0m\u001b[0m\n",
      "\u001b[0;31mUnicodeDecodeError\u001b[0m: 'utf-8' codec can't decode byte 0xbb in position 35697: invalid start byte"
     ]
    }
   ],
   "source": [
    "cars_m2.describe()"
   ]
  },
  {
   "cell_type": "code",
   "execution_count": null,
   "metadata": {
    "collapsed": true
   },
   "outputs": [],
   "source": [
    "cars_m2 = sas_m2.sasdata('cars','sashelp', results='html')"
   ]
  },
  {
   "cell_type": "markdown",
   "metadata": {},
   "source": [
    "## of course this won't work either, but with the fix, you can see the results, pasted below"
   ]
  },
  {
   "cell_type": "code",
   "execution_count": 5,
   "metadata": {
    "collapsed": false
   },
   "outputs": [],
   "source": [
    "#sas_m2.batch=True\n",
    "#x = cars_m2.head()['LST']\n",
    "#sas_m2.batch=False\n",
    "#print(x[:200])\n",
    "\n",
    "#with fix from master you can see the html is encoded GBK, not utf-8\n",
    "\n",
    "#<!DOCTYPE html><html xmlns=\"http://www.w3.org/1999/xhtml\">\n",
    "#<head>\n",
    "#<meta charset=\"GBK\"/>\n",
    "#<meta content=\"SAS 9.4\" name=\"generator\"/>\n",
    "#<title>SAS Output</title>\n",
    "#<style>\n",
    "#/*<![CDATA[*/\n",
    "#.body.c se"
   ]
  },
  {
   "cell_type": "code",
   "execution_count": 6,
   "metadata": {
    "collapsed": false
   },
   "outputs": [
    {
     "name": "stdout",
     "output_type": "stream",
     "text": [
      "SAS Connection established. Subprocess id is 5916\n",
      "\n"
     ]
    },
    {
     "data": {
      "text/plain": [
       "Access Method         = IOM\n",
       "SAS Config name       = winiomjwin\n",
       "WORK Path             = /\n",
       "SAS Version           = 9.04.01M3P07172015\n",
       "SASPy Version         = 2.2.7\n",
       "Teach me SAS          = False\n",
       "Batch                 = False\n",
       "Results               = Pandas\n",
       "SAS Session Encoding  = EUC-CN\n",
       "Python Encoding value = gb2312"
      ]
     },
     "execution_count": 6,
     "metadata": {},
     "output_type": "execute_result"
    }
   ],
   "source": [
    "sas_m3 = saspy.SASsession(cfgname='winiomjwin', encoding='gb2312', iomport=6888)\n",
    "sas_m3"
   ]
  },
  {
   "cell_type": "code",
   "execution_count": 7,
   "metadata": {
    "collapsed": false
   },
   "outputs": [],
   "source": [
    "cars_m3 = sas_m3.sasdata('cars','sashelp')"
   ]
  },
  {
   "cell_type": "code",
   "execution_count": 8,
   "metadata": {
    "collapsed": false
   },
   "outputs": [
    {
     "data": {
      "text/html": [
       "<div>\n",
       "<table border=\"1\" class=\"dataframe\">\n",
       "  <thead>\n",
       "    <tr style=\"text-align: right;\">\n",
       "      <th></th>\n",
       "      <th>Variable</th>\n",
       "      <th>Label</th>\n",
       "      <th>N</th>\n",
       "      <th>NMiss</th>\n",
       "      <th>Median</th>\n",
       "      <th>Mean</th>\n",
       "      <th>StdDev</th>\n",
       "      <th>Min</th>\n",
       "      <th>P25</th>\n",
       "      <th>P50</th>\n",
       "      <th>P75</th>\n",
       "      <th>Max</th>\n",
       "    </tr>\n",
       "  </thead>\n",
       "  <tbody>\n",
       "    <tr>\n",
       "      <th>0</th>\n",
       "      <td>MSRP</td>\n",
       "      <td>.</td>\n",
       "      <td>428</td>\n",
       "      <td>0</td>\n",
       "      <td>27635.0</td>\n",
       "      <td>32774.855140</td>\n",
       "      <td>19431.716674</td>\n",
       "      <td>10280.0</td>\n",
       "      <td>20329.50</td>\n",
       "      <td>27635.0</td>\n",
       "      <td>39215.0</td>\n",
       "      <td>192465.0</td>\n",
       "    </tr>\n",
       "    <tr>\n",
       "      <th>1</th>\n",
       "      <td>Invoice</td>\n",
       "      <td>.</td>\n",
       "      <td>428</td>\n",
       "      <td>0</td>\n",
       "      <td>25294.5</td>\n",
       "      <td>30014.700935</td>\n",
       "      <td>17642.117750</td>\n",
       "      <td>9875.0</td>\n",
       "      <td>18851.00</td>\n",
       "      <td>25294.5</td>\n",
       "      <td>35732.5</td>\n",
       "      <td>173560.0</td>\n",
       "    </tr>\n",
       "    <tr>\n",
       "      <th>2</th>\n",
       "      <td>EngineSize</td>\n",
       "      <td>.</td>\n",
       "      <td>428</td>\n",
       "      <td>0</td>\n",
       "      <td>3.0</td>\n",
       "      <td>3.196729</td>\n",
       "      <td>1.108595</td>\n",
       "      <td>1.3</td>\n",
       "      <td>2.35</td>\n",
       "      <td>3.0</td>\n",
       "      <td>3.9</td>\n",
       "      <td>8.3</td>\n",
       "    </tr>\n",
       "    <tr>\n",
       "      <th>3</th>\n",
       "      <td>Cylinders</td>\n",
       "      <td>.</td>\n",
       "      <td>426</td>\n",
       "      <td>2</td>\n",
       "      <td>6.0</td>\n",
       "      <td>5.807512</td>\n",
       "      <td>1.558443</td>\n",
       "      <td>3.0</td>\n",
       "      <td>4.00</td>\n",
       "      <td>6.0</td>\n",
       "      <td>6.0</td>\n",
       "      <td>12.0</td>\n",
       "    </tr>\n",
       "    <tr>\n",
       "      <th>4</th>\n",
       "      <td>Horsepower</td>\n",
       "      <td>.</td>\n",
       "      <td>428</td>\n",
       "      <td>0</td>\n",
       "      <td>210.0</td>\n",
       "      <td>215.885514</td>\n",
       "      <td>71.836032</td>\n",
       "      <td>73.0</td>\n",
       "      <td>165.00</td>\n",
       "      <td>210.0</td>\n",
       "      <td>255.0</td>\n",
       "      <td>500.0</td>\n",
       "    </tr>\n",
       "    <tr>\n",
       "      <th>5</th>\n",
       "      <td>MPG_City</td>\n",
       "      <td>.</td>\n",
       "      <td>428</td>\n",
       "      <td>0</td>\n",
       "      <td>19.0</td>\n",
       "      <td>20.060748</td>\n",
       "      <td>5.238218</td>\n",
       "      <td>10.0</td>\n",
       "      <td>17.00</td>\n",
       "      <td>19.0</td>\n",
       "      <td>21.5</td>\n",
       "      <td>60.0</td>\n",
       "    </tr>\n",
       "    <tr>\n",
       "      <th>6</th>\n",
       "      <td>MPG_Highway</td>\n",
       "      <td>.</td>\n",
       "      <td>428</td>\n",
       "      <td>0</td>\n",
       "      <td>26.0</td>\n",
       "      <td>26.843458</td>\n",
       "      <td>5.741201</td>\n",
       "      <td>12.0</td>\n",
       "      <td>24.00</td>\n",
       "      <td>26.0</td>\n",
       "      <td>29.0</td>\n",
       "      <td>66.0</td>\n",
       "    </tr>\n",
       "    <tr>\n",
       "      <th>7</th>\n",
       "      <td>Weight</td>\n",
       "      <td>.</td>\n",
       "      <td>428</td>\n",
       "      <td>0</td>\n",
       "      <td>3474.5</td>\n",
       "      <td>3577.953271</td>\n",
       "      <td>758.983215</td>\n",
       "      <td>1850.0</td>\n",
       "      <td>3103.00</td>\n",
       "      <td>3474.5</td>\n",
       "      <td>3978.5</td>\n",
       "      <td>7190.0</td>\n",
       "    </tr>\n",
       "    <tr>\n",
       "      <th>8</th>\n",
       "      <td>Wheelbase</td>\n",
       "      <td>.</td>\n",
       "      <td>428</td>\n",
       "      <td>0</td>\n",
       "      <td>107.0</td>\n",
       "      <td>108.154206</td>\n",
       "      <td>8.311813</td>\n",
       "      <td>89.0</td>\n",
       "      <td>103.00</td>\n",
       "      <td>107.0</td>\n",
       "      <td>112.0</td>\n",
       "      <td>144.0</td>\n",
       "    </tr>\n",
       "    <tr>\n",
       "      <th>9</th>\n",
       "      <td>Length</td>\n",
       "      <td>.</td>\n",
       "      <td>428</td>\n",
       "      <td>0</td>\n",
       "      <td>187.0</td>\n",
       "      <td>186.362150</td>\n",
       "      <td>14.357991</td>\n",
       "      <td>143.0</td>\n",
       "      <td>178.00</td>\n",
       "      <td>187.0</td>\n",
       "      <td>194.0</td>\n",
       "      <td>238.0</td>\n",
       "    </tr>\n",
       "  </tbody>\n",
       "</table>\n",
       "</div>"
      ],
      "text/plain": [
       "      Variable Label    N  NMiss   Median          Mean        StdDev  \\\n",
       "0         MSRP     .  428      0  27635.0  32774.855140  19431.716674   \n",
       "1      Invoice     .  428      0  25294.5  30014.700935  17642.117750   \n",
       "2   EngineSize     .  428      0      3.0      3.196729      1.108595   \n",
       "3    Cylinders     .  426      2      6.0      5.807512      1.558443   \n",
       "4   Horsepower     .  428      0    210.0    215.885514     71.836032   \n",
       "5     MPG_City     .  428      0     19.0     20.060748      5.238218   \n",
       "6  MPG_Highway     .  428      0     26.0     26.843458      5.741201   \n",
       "7       Weight     .  428      0   3474.5   3577.953271    758.983215   \n",
       "8    Wheelbase     .  428      0    107.0    108.154206      8.311813   \n",
       "9       Length     .  428      0    187.0    186.362150     14.357991   \n",
       "\n",
       "       Min       P25      P50      P75       Max  \n",
       "0  10280.0  20329.50  27635.0  39215.0  192465.0  \n",
       "1   9875.0  18851.00  25294.5  35732.5  173560.0  \n",
       "2      1.3      2.35      3.0      3.9       8.3  \n",
       "3      3.0      4.00      6.0      6.0      12.0  \n",
       "4     73.0    165.00    210.0    255.0     500.0  \n",
       "5     10.0     17.00     19.0     21.5      60.0  \n",
       "6     12.0     24.00     26.0     29.0      66.0  \n",
       "7   1850.0   3103.00   3474.5   3978.5    7190.0  \n",
       "8     89.0    103.00    107.0    112.0     144.0  \n",
       "9    143.0    178.00    187.0    194.0     238.0  "
      ]
     },
     "execution_count": 8,
     "metadata": {},
     "output_type": "execute_result"
    }
   ],
   "source": [
    "cars_m3.describe()"
   ]
  },
  {
   "cell_type": "code",
   "execution_count": 9,
   "metadata": {
    "collapsed": true
   },
   "outputs": [],
   "source": [
    "cars_m3 = sas_m3.sasdata('cars','sashelp', results='html')"
   ]
  },
  {
   "cell_type": "code",
   "execution_count": 10,
   "metadata": {
    "collapsed": true
   },
   "outputs": [],
   "source": [
    "sas_m3.batch=True"
   ]
  },
  {
   "cell_type": "code",
   "execution_count": 11,
   "metadata": {
    "collapsed": false
   },
   "outputs": [
    {
     "name": "stdout",
     "output_type": "stream",
     "text": [
      "<!DOCTYPE html>\r\n",
      "<html xmlns=\"http://www.w3.org/1999/xhtml\">\r\n",
      "<head>\r\n",
      "<meta charset=\"utf-8\"/>\r\n",
      "<meta content=\"SAS 9.4\" name=\"generator\"/>\r\n",
      "<title>SAS Output</title>\r\n",
      "<style>\r\n",
      "/*<![CDATA[*/\r\n",
      ".body.c se\n"
     ]
    }
   ],
   "source": [
    "sas_m3.batch=True\n",
    "x = cars_m3.head()['LST']\n",
    "sas_m3.batch=False\n",
    "print(x[:200])"
   ]
  },
  {
   "cell_type": "code",
   "execution_count": null,
   "metadata": {
    "collapsed": true
   },
   "outputs": [],
   "source": []
  }
 ],
 "metadata": {
  "kernelspec": {
   "display_name": "Python 3",
   "language": "python",
   "name": "python3"
  },
  "language_info": {
   "codemirror_mode": {
    "name": "ipython",
    "version": 3
   },
   "file_extension": ".py",
   "mimetype": "text/x-python",
   "name": "python",
   "nbconvert_exporter": "python",
   "pygments_lexer": "ipython3",
   "version": "3.6.0"
  }
 },
 "nbformat": 4,
 "nbformat_minor": 2
}
