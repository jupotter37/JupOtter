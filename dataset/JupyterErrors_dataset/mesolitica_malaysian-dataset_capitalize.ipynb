{
 "cells": [
  {
   "cell_type": "code",
   "execution_count": 1,
   "metadata": {},
   "outputs": [],
   "source": [
    "import json\n",
    "import spacy\n",
    "from glob import glob\n",
    "\n",
    "nlp = spacy.load('en_core_web_md')"
   ]
  },
  {
   "cell_type": "code",
   "execution_count": 2,
   "metadata": {},
   "outputs": [
    {
     "data": {
      "text/plain": [
       "['KPTimes.valid.jsonl', 'KPTimes.train.jsonl', 'KPTimes.test.jsonl']"
      ]
     },
     "execution_count": 2,
     "metadata": {},
     "output_type": "execute_result"
    }
   ],
   "source": [
    "files = glob('KPTimes.*.jsonl')\n",
    "files"
   ]
  },
  {
   "cell_type": "code",
   "execution_count": 3,
   "metadata": {},
   "outputs": [],
   "source": [
    "def case_of(text):\n",
    "    return (\n",
    "        str.upper\n",
    "        if text.isupper()\n",
    "        else str.lower\n",
    "        if text.islower()\n",
    "        else str.title\n",
    "        if text.istitle()\n",
    "        else str\n",
    "    )\n",
    "\n",
    "def capitalize(string, keyword):\n",
    "    keywords = keyword.split(';')\n",
    "    doc = nlp(string)\n",
    "    entities = [entity.text for entity in doc.ents]\n",
    "    entities_short = [''.join([w[0] for w in word.split()]) for word in entities]\n",
    "    tainted = {}\n",
    "    \n",
    "    actual_keywords = []\n",
    "    for key in keywords:\n",
    "        for no, entity in enumerate(entities_short):\n",
    "            if entity.lower().find(key) > 0:\n",
    "                result = []\n",
    "                index = 0\n",
    "                for i in range(entity.lower().index(key), len(entity)):\n",
    "                    result.append(case_of(entity[i])(key[index]))\n",
    "                    index += 1\n",
    "                actual_keywords.append(''.join(result))\n",
    "                actual_keywords.append(entities[no])\n",
    "                tainted[key] = True\n",
    "                \n",
    "    \n",
    "    string_lower = string.lower().split()\n",
    "    string = string.split()\n",
    "    for key in keywords:\n",
    "        if key in string_lower:\n",
    "            actual_keywords.append(string[string_lower.index(key)])\n",
    "            tainted[key] = True\n",
    "            \n",
    "    \n",
    "    for key in keywords:\n",
    "        if not tainted.get(key, False):\n",
    "            result = []\n",
    "            for token in nlp(key):\n",
    "                if len(token.ent_type_):\n",
    "                    if token.ent_type_ in ['TIME', 'MONEY']:\n",
    "                        t = token.text.upper()\n",
    "                    else:\n",
    "                        t = token.text.title()\n",
    "\n",
    "                else:\n",
    "                    t = token.text\n",
    "                result.append(t)\n",
    "            actual_keywords.append(' '.join(result))\n",
    "    \n",
    "    actual_keywords = list(set(actual_keywords))\n",
    "        \n",
    "    return actual_keywords"
   ]
  },
  {
   "cell_type": "code",
   "execution_count": 4,
   "metadata": {},
   "outputs": [
    {
     "name": "stderr",
     "output_type": "stream",
     "text": [
      "\r",
      "  0%|          | 0/10000 [00:00<?, ?it/s]"
     ]
    },
    {
     "name": "stdout",
     "output_type": "stream",
     "text": [
      "KPTimes.valid.jsonl\n"
     ]
    },
    {
     "name": "stderr",
     "output_type": "stream",
     "text": [
      "100%|██████████| 10000/10000 [30:21<00:00,  5.49it/s] \n",
      "  0%|          | 0/259923 [00:00<?, ?it/s]"
     ]
    },
    {
     "name": "stdout",
     "output_type": "stream",
     "text": [
      "KPTimes.train.jsonl\n"
     ]
    },
    {
     "name": "stderr",
     "output_type": "stream",
     "text": [
      " 31%|███       | 81003/259923 [4:03:40<13:10:07,  3.77it/s]IOPub message rate exceeded.\n",
      "The notebook server will temporarily stop sending output\n",
      "to the client in order to avoid crashing it.\n",
      "To change this limit, set the config variable\n",
      "`--NotebookApp.iopub_msg_rate_limit`.\n",
      "\n",
      "Current values:\n",
      "NotebookApp.iopub_msg_rate_limit=1000.0 (msgs/sec)\n",
      "NotebookApp.rate_limit_window=3.0 (secs)\n",
      "\n",
      " 34%|███▍      | 89552/259923 [4:29:25<8:35:11,  5.51it/s] IOPub message rate exceeded.\n",
      "The notebook server will temporarily stop sending output\n",
      "to the client in order to avoid crashing it.\n",
      "To change this limit, set the config variable\n",
      "`--NotebookApp.iopub_msg_rate_limit`.\n",
      "\n",
      "Current values:\n",
      "NotebookApp.iopub_msg_rate_limit=1000.0 (msgs/sec)\n",
      "NotebookApp.rate_limit_window=3.0 (secs)\n",
      "\n",
      " 39%|███▉      | 101362/259923 [5:05:04<6:56:11,  6.35it/s] IOPub message rate exceeded.\n",
      "The notebook server will temporarily stop sending output\n",
      "to the client in order to avoid crashing it.\n",
      "To change this limit, set the config variable\n",
      "`--NotebookApp.iopub_msg_rate_limit`.\n",
      "\n",
      "Current values:\n",
      "NotebookApp.iopub_msg_rate_limit=1000.0 (msgs/sec)\n",
      "NotebookApp.rate_limit_window=3.0 (secs)\n",
      "\n",
      " 42%|████▏     | 110267/259923 [5:31:17<8:01:36,  5.18it/s] IOPub message rate exceeded.\n",
      "The notebook server will temporarily stop sending output\n",
      "to the client in order to avoid crashing it.\n",
      "To change this limit, set the config variable\n",
      "`--NotebookApp.iopub_msg_rate_limit`.\n",
      "\n",
      "Current values:\n",
      "NotebookApp.iopub_msg_rate_limit=1000.0 (msgs/sec)\n",
      "NotebookApp.rate_limit_window=3.0 (secs)\n",
      "\n",
      " 46%|████▌     | 118899/259923 [5:56:18<7:55:16,  4.95it/s] IOPub message rate exceeded.\n",
      "The notebook server will temporarily stop sending output\n",
      "to the client in order to avoid crashing it.\n",
      "To change this limit, set the config variable\n",
      "`--NotebookApp.iopub_msg_rate_limit`.\n",
      "\n",
      "Current values:\n",
      "NotebookApp.iopub_msg_rate_limit=1000.0 (msgs/sec)\n",
      "NotebookApp.rate_limit_window=3.0 (secs)\n",
      "\n",
      " 49%|████▉     | 127437/259923 [6:21:04<6:48:21,  5.41it/s] IOPub message rate exceeded.\n",
      "The notebook server will temporarily stop sending output\n",
      "to the client in order to avoid crashing it.\n",
      "To change this limit, set the config variable\n",
      "`--NotebookApp.iopub_msg_rate_limit`.\n",
      "\n",
      "Current values:\n",
      "NotebookApp.iopub_msg_rate_limit=1000.0 (msgs/sec)\n",
      "NotebookApp.rate_limit_window=3.0 (secs)\n",
      "\n",
      " 52%|█████▏    | 136307/259923 [6:46:37<5:05:03,  6.75it/s] IOPub message rate exceeded.\n",
      "The notebook server will temporarily stop sending output\n",
      "to the client in order to avoid crashing it.\n",
      "To change this limit, set the config variable\n",
      "`--NotebookApp.iopub_msg_rate_limit`.\n",
      "\n",
      "Current values:\n",
      "NotebookApp.iopub_msg_rate_limit=1000.0 (msgs/sec)\n",
      "NotebookApp.rate_limit_window=3.0 (secs)\n",
      "\n",
      " 56%|█████▌    | 144757/259923 [7:11:07<4:29:16,  7.13it/s] IOPub message rate exceeded.\n",
      "The notebook server will temporarily stop sending output\n",
      "to the client in order to avoid crashing it.\n",
      "To change this limit, set the config variable\n",
      "`--NotebookApp.iopub_msg_rate_limit`.\n",
      "\n",
      "Current values:\n",
      "NotebookApp.iopub_msg_rate_limit=1000.0 (msgs/sec)\n",
      "NotebookApp.rate_limit_window=3.0 (secs)\n",
      "\n",
      " 59%|█████▉    | 153123/259923 [7:35:24<4:59:16,  5.95it/s] IOPub message rate exceeded.\n",
      "The notebook server will temporarily stop sending output\n",
      "to the client in order to avoid crashing it.\n",
      "To change this limit, set the config variable\n",
      "`--NotebookApp.iopub_msg_rate_limit`.\n",
      "\n",
      "Current values:\n",
      "NotebookApp.iopub_msg_rate_limit=1000.0 (msgs/sec)\n",
      "NotebookApp.rate_limit_window=3.0 (secs)\n",
      "\n",
      " 62%|██████▏   | 162034/259923 [8:01:10<4:27:33,  6.10it/s] IOPub message rate exceeded.\n",
      "The notebook server will temporarily stop sending output\n",
      "to the client in order to avoid crashing it.\n",
      "To change this limit, set the config variable\n",
      "`--NotebookApp.iopub_msg_rate_limit`.\n",
      "\n",
      "Current values:\n",
      "NotebookApp.iopub_msg_rate_limit=1000.0 (msgs/sec)\n",
      "NotebookApp.rate_limit_window=3.0 (secs)\n",
      "\n",
      " 65%|██████▌   | 170170/259923 [8:24:44<4:54:36,  5.08it/s] IOPub message rate exceeded.\n",
      "The notebook server will temporarily stop sending output\n",
      "to the client in order to avoid crashing it.\n",
      "To change this limit, set the config variable\n",
      "`--NotebookApp.iopub_msg_rate_limit`.\n",
      "\n",
      "Current values:\n",
      "NotebookApp.iopub_msg_rate_limit=1000.0 (msgs/sec)\n",
      "NotebookApp.rate_limit_window=3.0 (secs)\n",
      "\n",
      " 69%|██████▉   | 179060/259923 [8:50:26<4:05:32,  5.49it/s]IOPub message rate exceeded.\n",
      "The notebook server will temporarily stop sending output\n",
      "to the client in order to avoid crashing it.\n",
      "To change this limit, set the config variable\n",
      "`--NotebookApp.iopub_msg_rate_limit`.\n",
      "\n",
      "Current values:\n",
      "NotebookApp.iopub_msg_rate_limit=1000.0 (msgs/sec)\n",
      "NotebookApp.rate_limit_window=3.0 (secs)\n",
      "\n",
      "100%|██████████| 259923/259923 [13:12:55<00:00,  5.46it/s]   \n",
      "  0%|          | 1/20000 [00:00<34:24,  9.69it/s]"
     ]
    },
    {
     "name": "stdout",
     "output_type": "stream",
     "text": [
      "KPTimes.test.jsonl\n"
     ]
    },
    {
     "name": "stderr",
     "output_type": "stream",
     "text": [
      "  1%|          | 165/20000 [00:22<45:17,  7.30it/s]  \n"
     ]
    },
    {
     "ename": "IndexError",
     "evalue": "string index out of range",
     "output_type": "error",
     "traceback": [
      "\u001b[0;31m---------------------------------------------------------------------------\u001b[0m",
      "\u001b[0;31mIndexError\u001b[0m                                Traceback (most recent call last)",
      "\u001b[0;32m<ipython-input-4-152c1ce91807>\u001b[0m in \u001b[0;36m<module>\u001b[0;34m\u001b[0m\n\u001b[1;32m     12\u001b[0m \u001b[0;34m\u001b[0m\u001b[0m\n\u001b[1;32m     13\u001b[0m         \u001b[0mrow\u001b[0m \u001b[0;34m=\u001b[0m \u001b[0mjson\u001b[0m\u001b[0;34m.\u001b[0m\u001b[0mloads\u001b[0m\u001b[0;34m(\u001b[0m\u001b[0mdata\u001b[0m\u001b[0;34m[\u001b[0m\u001b[0mi\u001b[0m\u001b[0;34m]\u001b[0m\u001b[0;34m)\u001b[0m\u001b[0;34m\u001b[0m\u001b[0;34m\u001b[0m\u001b[0m\n\u001b[0;32m---> 14\u001b[0;31m         \u001b[0mkeywords\u001b[0m \u001b[0;34m=\u001b[0m \u001b[0mcapitalize\u001b[0m\u001b[0;34m(\u001b[0m\u001b[0mrow\u001b[0m\u001b[0;34m[\u001b[0m\u001b[0;34m'abstract'\u001b[0m\u001b[0;34m]\u001b[0m\u001b[0;34m,\u001b[0m \u001b[0mrow\u001b[0m\u001b[0;34m[\u001b[0m\u001b[0;34m'keyword'\u001b[0m\u001b[0;34m]\u001b[0m\u001b[0;34m)\u001b[0m\u001b[0;34m\u001b[0m\u001b[0;34m\u001b[0m\u001b[0m\n\u001b[0m\u001b[1;32m     15\u001b[0m         \u001b[0mX\u001b[0m\u001b[0;34m.\u001b[0m\u001b[0mappend\u001b[0m\u001b[0;34m(\u001b[0m\u001b[0mrow\u001b[0m\u001b[0;34m[\u001b[0m\u001b[0;34m'abstract'\u001b[0m\u001b[0;34m]\u001b[0m\u001b[0;34m)\u001b[0m\u001b[0;34m\u001b[0m\u001b[0;34m\u001b[0m\u001b[0m\n\u001b[1;32m     16\u001b[0m         \u001b[0mY\u001b[0m\u001b[0;34m.\u001b[0m\u001b[0mappend\u001b[0m\u001b[0;34m(\u001b[0m\u001b[0mkeywords\u001b[0m\u001b[0;34m)\u001b[0m\u001b[0;34m\u001b[0m\u001b[0;34m\u001b[0m\u001b[0m\n",
      "\u001b[0;32m<ipython-input-3-5df7b4869f66>\u001b[0m in \u001b[0;36mcapitalize\u001b[0;34m(string, keyword)\u001b[0m\n\u001b[1;32m     24\u001b[0m                 \u001b[0mindex\u001b[0m \u001b[0;34m=\u001b[0m \u001b[0;36m0\u001b[0m\u001b[0;34m\u001b[0m\u001b[0;34m\u001b[0m\u001b[0m\n\u001b[1;32m     25\u001b[0m                 \u001b[0;32mfor\u001b[0m \u001b[0mi\u001b[0m \u001b[0;32min\u001b[0m \u001b[0mrange\u001b[0m\u001b[0;34m(\u001b[0m\u001b[0mentity\u001b[0m\u001b[0;34m.\u001b[0m\u001b[0mlower\u001b[0m\u001b[0;34m(\u001b[0m\u001b[0;34m)\u001b[0m\u001b[0;34m.\u001b[0m\u001b[0mindex\u001b[0m\u001b[0;34m(\u001b[0m\u001b[0mkey\u001b[0m\u001b[0;34m)\u001b[0m\u001b[0;34m,\u001b[0m \u001b[0mlen\u001b[0m\u001b[0;34m(\u001b[0m\u001b[0mentity\u001b[0m\u001b[0;34m)\u001b[0m\u001b[0;34m)\u001b[0m\u001b[0;34m:\u001b[0m\u001b[0;34m\u001b[0m\u001b[0;34m\u001b[0m\u001b[0m\n\u001b[0;32m---> 26\u001b[0;31m                     \u001b[0mresult\u001b[0m\u001b[0;34m.\u001b[0m\u001b[0mappend\u001b[0m\u001b[0;34m(\u001b[0m\u001b[0mcase_of\u001b[0m\u001b[0;34m(\u001b[0m\u001b[0mentity\u001b[0m\u001b[0;34m[\u001b[0m\u001b[0mi\u001b[0m\u001b[0;34m]\u001b[0m\u001b[0;34m)\u001b[0m\u001b[0;34m(\u001b[0m\u001b[0mkey\u001b[0m\u001b[0;34m[\u001b[0m\u001b[0mindex\u001b[0m\u001b[0;34m]\u001b[0m\u001b[0;34m)\u001b[0m\u001b[0;34m)\u001b[0m\u001b[0;34m\u001b[0m\u001b[0;34m\u001b[0m\u001b[0m\n\u001b[0m\u001b[1;32m     27\u001b[0m                     \u001b[0mindex\u001b[0m \u001b[0;34m+=\u001b[0m \u001b[0;36m1\u001b[0m\u001b[0;34m\u001b[0m\u001b[0;34m\u001b[0m\u001b[0m\n\u001b[1;32m     28\u001b[0m                 \u001b[0mactual_keywords\u001b[0m\u001b[0;34m.\u001b[0m\u001b[0mappend\u001b[0m\u001b[0;34m(\u001b[0m\u001b[0;34m''\u001b[0m\u001b[0;34m.\u001b[0m\u001b[0mjoin\u001b[0m\u001b[0;34m(\u001b[0m\u001b[0mresult\u001b[0m\u001b[0;34m)\u001b[0m\u001b[0;34m)\u001b[0m\u001b[0;34m\u001b[0m\u001b[0;34m\u001b[0m\u001b[0m\n",
      "\u001b[0;31mIndexError\u001b[0m: string index out of range"
     ]
    }
   ],
   "source": [
    "from tqdm import tqdm\n",
    "\n",
    "X, Y, titles = [], [], []\n",
    "\n",
    "for file in files:\n",
    "    with open(file) as fopen:\n",
    "        data = list(filter(None, fopen.read().split('\\n')))\n",
    "    \n",
    "    print(file)\n",
    "    \n",
    "    for i in tqdm(range(len(data))):\n",
    "    \n",
    "        row = json.loads(data[i])\n",
    "        keywords = capitalize(row['abstract'], row['keyword'])\n",
    "        X.append(row['abstract'])\n",
    "        Y.append(keywords)\n",
    "        titles.append(row['title'])"
   ]
  },
  {
   "cell_type": "code",
   "execution_count": 9,
   "metadata": {},
   "outputs": [
    {
     "name": "stderr",
     "output_type": "stream",
     "text": [
      "  0%|          | 1/19835 [00:00<53:12,  6.21it/s]"
     ]
    },
    {
     "name": "stdout",
     "output_type": "stream",
     "text": [
      "KPTimes.test.jsonl\n"
     ]
    },
    {
     "name": "stderr",
     "output_type": "stream",
     "text": [
      "100%|██████████| 19835/19835 [57:25<00:00,  5.76it/s]  \n"
     ]
    }
   ],
   "source": [
    "file = 'KPTimes.test.jsonl'\n",
    "\n",
    "with open(file) as fopen:\n",
    "    data = list(filter(None, fopen.read().split('\\n')))\n",
    "\n",
    "print(file)\n",
    "\n",
    "for i in tqdm(range(165, len(data))):\n",
    "    try:\n",
    "        row = json.loads(data[i])\n",
    "        keywords = capitalize(row['abstract'], row['keyword'])\n",
    "        X.append(row['abstract'])\n",
    "        Y.append(keywords)\n",
    "        titles.append(row['title'])\n",
    "    except:\n",
    "        pass"
   ]
  },
  {
   "cell_type": "code",
   "execution_count": 10,
   "metadata": {},
   "outputs": [
    {
     "data": {
      "text/plain": [
       "'E.U. Leaders Chart Future as David Cameron Leaves Brussels'"
      ]
     },
     "execution_count": 10,
     "metadata": {},
     "output_type": "execute_result"
    }
   ],
   "source": [
    "titles[-1]"
   ]
  },
  {
   "cell_type": "code",
   "execution_count": 11,
   "metadata": {},
   "outputs": [
    {
     "data": {
      "text/plain": [
       "['Great Britain', 'David Cameron', 'Eu', 'Brexit']"
      ]
     },
     "execution_count": 11,
     "metadata": {},
     "output_type": "execute_result"
    }
   ],
   "source": [
    "Y[-1]"
   ]
  },
  {
   "cell_type": "code",
   "execution_count": 13,
   "metadata": {},
   "outputs": [],
   "source": [
    "with open('kptimes.json', 'w') as fopen:\n",
    "    json.dump({'X': X, 'Y': Y, 'titles': titles}, fopen)"
   ]
  },
  {
   "cell_type": "code",
   "execution_count": 15,
   "metadata": {},
   "outputs": [],
   "source": [
    "import re\n",
    "import json\n",
    "\n",
    "def cleaning(string):\n",
    "    string = re.sub(r'[ ]+', ' ', string.replace('\\n',' ')).strip()\n",
    "    return string\n",
    "\n",
    "def limit(string, max_len = 3500):\n",
    "    string = string.split()\n",
    "    r = ''\n",
    "    for s in string:\n",
    "        if len(r + ' ' + s) > max_len:\n",
    "            break\n",
    "        r = r + ' ' + s\n",
    "    return cleaning(r)"
   ]
  },
  {
   "cell_type": "code",
   "execution_count": 16,
   "metadata": {
    "scrolled": true
   },
   "outputs": [
    {
     "data": {
      "text/plain": [
       "'BRUSSELS — With Britain’s prime minister omitted for the first time, European Union leaders at a summit meeting wrestled on Wednesday with an existential question: how to salvage a venture that has provided peace and relative prosperity to 500 million people but has lost public support. “We all need to wake up and smell the coffee,” President Dalia Grybauskaite of Lithuania said at the start of private talks in Brussels on how to relaunch the European Union after the shock of Britain’s vote last week to leave. In the absence of Prime Minister David Cameron of Britain, who was already back in London after attending an initial day of talks, the group’s remaining 27 leaders all agreed that the European Union needs to change the way it works if it is to curb a rising tide of populism driven in large part by hostility toward Brussels. Presenting the leaders with his own analysis of why 52 percent of Britons had voted to withdraw from the European Union, Mr. Cameron, at a somber dinner late Tuesday, said the main reason was immigration. Polls in other countries show deep opposition to an influx of foreigners. But reducing immigration, or at least the right of European Union citizens to move wherever they want in the bloc, is currently impossible, because the free movement of citizens is an inviolable principle of the whole European project. At the same time, slowing the flow of migrants from outside Europe is something that officials in Brussels consider a notable success. It took a long time and many meetings, but, under a controversial deal with Turkey, last year’s flood of nearly a million people into Europe through Greek islands has slowed to a trickle. Migrants are still arriving in Europe after hazardous journeys across the Mediterranean from North Africa, but they are far fewer than the number who arrived last year through Greece — the people used by campaigners in Britain to rally opposition to the European Union. With no easy fixes to Europe’s public image and no consensus on what a reformed union might look like, the main agreement reached on Wednesday was familiar: to hold another meeting in Bratislava, Slovakia, in September. In a final statement, the leaders acknowledged that the British referendum “creates a new situation for the European Union,” and that “many people express dissatisfaction with the current state of affairs.” Europeans, they added, “expect us to do better when it comes to providing security, jobs and growth, as well as hope for a better future.” Changing a complicated system that has three presidents, two seats of Parliament in cities hundreds of miles apart and, at least until Britain formally departs, 28 member countries, was never going to be decided in a few hours. “The response to this new challenge for Europe will take time to find,” Frans Timmermans, a former foreign minister of the Netherlands and the first vice president of the union’s executive arm, the European Commission, cautioned earlier this week. “We must be brutally honest with ourselves as we debate the path forward. Today, there are more questions than answers.” Image President François Hollande of France at the European Union headquarters in Brussels on Tuesday. Credit Stephane De Sakutin/Agence France-Presse — Getty Images François Lafond, a professor of European integration at Sciences Po, the Paris university, said the task of finding answers was so big that it should be entrusted to a special convention of experts and officials who'"
      ]
     },
     "execution_count": 16,
     "metadata": {},
     "output_type": "execute_result"
    }
   ],
   "source": [
    "limit(X[-1])"
   ]
  },
  {
   "cell_type": "code",
   "execution_count": 18,
   "metadata": {},
   "outputs": [
    {
     "data": {
      "text/plain": [
       "'E.U. Leaders Chart Future as David Cameron Leaves Brussels'"
      ]
     },
     "execution_count": 18,
     "metadata": {},
     "output_type": "execute_result"
    }
   ],
   "source": [
    "titles[-1]"
   ]
  },
  {
   "cell_type": "code",
   "execution_count": 19,
   "metadata": {},
   "outputs": [
    {
     "data": {
      "text/plain": [
       "'E.U. Leaders Chart Future as David Cameron Leaves Brussels [[EENNDD]] Great Britain; David Cameron; Eu; Brexit'"
      ]
     },
     "execution_count": 19,
     "metadata": {},
     "output_type": "execute_result"
    }
   ],
   "source": [
    "combined = f\"{titles[-1]} [[EENNDD]] {'; '.join(Y[-1])}\"\n",
    "combined"
   ]
  },
  {
   "cell_type": "code",
   "execution_count": 22,
   "metadata": {},
   "outputs": [
    {
     "name": "stderr",
     "output_type": "stream",
     "text": [
      "100%|██████████| 289904/289904 [06:01<00:00, 802.24it/s] \n"
     ]
    }
   ],
   "source": [
    "import re\n",
    "from tqdm import tqdm\n",
    "import json\n",
    "\n",
    "data = []\n",
    "\n",
    "for i in tqdm(range(len(X))):\n",
    "    string = X[i]\n",
    "    string = cleaning(string)\n",
    "    string = limit(string)\n",
    "    keywords = Y[i]\n",
    "    combined = f\"{string} [[EENNDD]] {'; '.join(keywords)}\"\n",
    "    \n",
    "    data.append({'string': string, 'keywords': keywords, 'combined': combined})\n",
    "    \n",
    "    combined = f\"{titles[i]} [[EENNDD]] {'; '.join(keywords)}\"\n",
    "    \n",
    "    data.append({'string': titles[i], 'keywords': keywords, 'combined': combined})"
   ]
  },
  {
   "cell_type": "code",
   "execution_count": 23,
   "metadata": {},
   "outputs": [
    {
     "data": {
      "text/plain": [
       "579808"
      ]
     },
     "execution_count": 23,
     "metadata": {},
     "output_type": "execute_result"
    }
   ],
   "source": [
    "len(data)"
   ]
  },
  {
   "cell_type": "code",
   "execution_count": 24,
   "metadata": {},
   "outputs": [],
   "source": [
    "batch_size = 50000\n",
    "for i in range(0, len(data), batch_size):\n",
    "    index = min(i + batch_size, len(data))\n",
    "    x = data[i: index]\n",
    "    with open(f'kptimes-{i}.json', 'w') as fopen:\n",
    "        json.dump(x, fopen)"
   ]
  }
 ],
 "metadata": {
  "kernelspec": {
   "display_name": "Python 3",
   "language": "python",
   "name": "python3"
  },
  "language_info": {
   "codemirror_mode": {
    "name": "ipython",
    "version": 3
   },
   "file_extension": ".py",
   "mimetype": "text/x-python",
   "name": "python",
   "nbconvert_exporter": "python",
   "pygments_lexer": "ipython3",
   "version": "3.6.8"
  }
 },
 "nbformat": 4,
 "nbformat_minor": 2
}
