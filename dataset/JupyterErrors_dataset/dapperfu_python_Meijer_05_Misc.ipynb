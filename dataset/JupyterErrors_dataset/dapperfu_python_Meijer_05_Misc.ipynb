{
 "cells": [
  {
   "cell_type": "markdown",
   "metadata": {},
   "source": [
    "# 05. Misc Tasks the App does."
   ]
  },
  {
   "cell_type": "code",
   "execution_count": 11,
   "metadata": {},
   "outputs": [],
   "source": [
    "import os\n",
    "import requests\n",
    "import base64"
   ]
  },
  {
   "cell_type": "code",
   "execution_count": 12,
   "metadata": {},
   "outputs": [],
   "source": [
    "# Generate the Authorization string from account_services_secret\n",
    "account_services_secret=\"drAqas76Re7RekeBanaMaNEMah7paDE5\"\n",
    "AUTH=base64.encodebytes(\"mma:{}\".format(account_services_secret).encode(\"UTF-8\")).decode(\"UTF-8\").strip()\n",
    "request=dict()\n",
    "request[\"url\"] = \"https://login.meijer.com/as/token.oauth2\"\n",
    "request[\"headers\"] = {\n",
    "    'Authorization': 'Basic {}'.format(AUTH),\n",
    "    'Platform': 'Android',\n",
    "    'Version': '5.10.0',\n",
    "    'Build': '51000000',\n",
    "    'User-Agent': 'okhttp/3.8.0'\n",
    "}\n",
    "request[\"params\"] =  {\n",
    "    'grant_type': 'client_credentials',\n",
    "    'scope': 'openid',\n",
    "    \"username\": os.environ[\"MEIJER_USER\"],\n",
    "    \"password\": os.environ[\"MEIJER_PASS\"] \n",
    "}\n",
    "r = requests.post(**request)\n",
    "assert r.status_code==200\n",
    "bearer_token=r.json()[\"access_token\"]"
   ]
  },
  {
   "cell_type": "code",
   "execution_count": 15,
   "metadata": {},
   "outputs": [],
   "source": [
    "cookies = r.cookies"
   ]
  },
  {
   "cell_type": "code",
   "execution_count": 18,
   "metadata": {},
   "outputs": [
    {
     "data": {
      "text/plain": [
       "<Response [401]>"
      ]
     },
     "execution_count": 18,
     "metadata": {},
     "output_type": "execute_result"
    }
   ],
   "source": [
    "mid = os.environ[\"MEIJER_ID\"]\n",
    "request=dict()\n",
    "request[\"url\"] = \"https://mservices.meijer.com/dgtlmma/accounts/getAccount?id={}\".format(mid)\n",
    "request[\"headers\"] = {\n",
    "    'Accept': 'application/vnd.meijer.account.account-v1.0+json',\n",
    "    'Authorization': 'Bearer {}'.format(bearer_token),\n",
    "    'Content-Type': 'application/json',\n",
    "    'Platform': 'Android',\n",
    "    'Version': '5.10.0',\n",
    "    'Build': '51000000',\n",
    "    'Connection': 'Keep-Alive',\n",
    "    'Accept-Encoding': 'gzip',\n",
    "    'User-Agent': 'okhttp/3.8.0'\n",
    "}\n",
    "request[\"cookies\"] = cookies\n",
    "r = requests.get(**request)\n",
    "r"
   ]
  },
  {
   "cell_type": "code",
   "execution_count": null,
   "metadata": {},
   "outputs": [],
   "source": [
    "requests.get(coo)"
   ]
  },
  {
   "cell_type": "code",
   "execution_count": 4,
   "metadata": {},
   "outputs": [
    {
     "ename": "AssertionError",
     "evalue": "",
     "output_type": "error",
     "traceback": [
      "\u001b[0;31m---------------------------------------------------------------------------\u001b[0m",
      "\u001b[0;31mAssertionError\u001b[0m                            Traceback (most recent call last)",
      "\u001b[0;32m<ipython-input-4-08dca0c1fbe0>\u001b[0m in \u001b[0;36m<module>\u001b[0;34m\u001b[0m\n\u001b[1;32m     12\u001b[0m }\n\u001b[1;32m     13\u001b[0m \u001b[0mr\u001b[0m \u001b[0;34m=\u001b[0m \u001b[0mrequests\u001b[0m\u001b[0;34m.\u001b[0m\u001b[0mget\u001b[0m\u001b[0;34m(\u001b[0m\u001b[0;34m**\u001b[0m\u001b[0mrequest\u001b[0m\u001b[0;34m)\u001b[0m\u001b[0;34m\u001b[0m\u001b[0m\n\u001b[0;32m---> 14\u001b[0;31m \u001b[0;32massert\u001b[0m \u001b[0mr\u001b[0m\u001b[0;34m.\u001b[0m\u001b[0mstatus_code\u001b[0m\u001b[0;34m==\u001b[0m\u001b[0;36m200\u001b[0m\u001b[0;34m\u001b[0m\u001b[0m\n\u001b[0m\u001b[1;32m     15\u001b[0m \u001b[0mr\u001b[0m\u001b[0;34m.\u001b[0m\u001b[0mjson\u001b[0m\u001b[0;34m(\u001b[0m\u001b[0;34m)\u001b[0m\u001b[0;34m.\u001b[0m\u001b[0mkeys\u001b[0m\u001b[0;34m(\u001b[0m\u001b[0;34m)\u001b[0m\u001b[0;34m\u001b[0m\u001b[0m\n",
      "\u001b[0;31mAssertionError\u001b[0m: "
     ]
    }
   ],
   "source": [
    "assert r.status_code==200\n",
    "r.json().keys()"
   ]
  },
  {
   "cell_type": "markdown",
   "metadata": {},
   "source": [
    "User Preferences"
   ]
  },
  {
   "cell_type": "code",
   "execution_count": null,
   "metadata": {},
   "outputs": [],
   "source": [
    "mid = os.environ[\"MEIJER_ID\"]\n",
    "request=dict()\n",
    "request[\"url\"] = \"https://mservices.meijer.com/dgtlmma/preferences/getCustomerPreferences?digitalAccountId={}\".format(mid)\n",
    "request[\"headers\"] = {\n",
    "    'Accept': 'application/json',\n",
    "    'Authorization': 'Bearer {}'.format(bearer_token),\n",
    "    'Content-Type': 'application/json',\n",
    "    'Platform': 'Android',\n",
    "    'Version': '5.10.0',\n",
    "    'Build': '51000000',\n",
    "    'User-Agent': 'okhttp/3.8.0'\n",
    "}\n",
    "r = requests.get(**request)\n",
    "assert r.status_code==200"
   ]
  },
  {
   "cell_type": "markdown",
   "metadata": {},
   "source": [
    "Get Store Data."
   ]
  },
  {
   "cell_type": "code",
   "execution_count": null,
   "metadata": {},
   "outputs": [],
   "source": [
    "request=dict()\n",
    "store_number=71\n",
    "request[\"url\"] = \"https://mservices.meijer.com/storeinfo/api/mobile/stores/{}?dataVariant=2\".format(store_number)\n",
    "request[\"headers\"] = {\n",
    "    'Version': '7',\n",
    "    'Authorization': 'Bearer {}'.format(bearer_token),\n",
    "    'Platform': 'Android',\n",
    "    'Version': '5.10.0',\n",
    "    'Build': '51000000',\n",
    "    'User-Agent': 'okhttp/3.8.0'\n",
    "}\n",
    "r = requests.get(**request)\n",
    "assert r.status_code==200"
   ]
  },
  {
   "cell_type": "code",
   "execution_count": null,
   "metadata": {
    "scrolled": true
   },
   "outputs": [],
   "source": [
    "request[\"url\"]== \"https://mservices.meijer.com/storeinfo/api/mobile/stores/71?dataVariant=2\""
   ]
  },
  {
   "cell_type": "code",
   "execution_count": null,
   "metadata": {},
   "outputs": [],
   "source": []
  }
 ],
 "metadata": {
  "kernelspec": {
   "display_name": "Python 3",
   "language": "python",
   "name": "python3"
  },
  "language_info": {
   "codemirror_mode": {
    "name": "ipython",
    "version": 3
   },
   "file_extension": ".py",
   "mimetype": "text/x-python",
   "name": "python",
   "nbconvert_exporter": "python",
   "pygments_lexer": "ipython3",
   "version": "3.6.6"
  }
 },
 "nbformat": 4,
 "nbformat_minor": 2
}
