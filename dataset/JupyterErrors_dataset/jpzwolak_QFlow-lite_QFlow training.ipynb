{
 "cells": [
  {
   "cell_type": "markdown",
   "metadata": {},
   "source": [
    "### Step 1: Importing the QFlow class\n",
    "In Python 3.6 this might return a warning but it can be ignored (it does not affect the accuracy or performance)."
   ]
  },
  {
   "cell_type": "code",
   "execution_count": 16,
   "metadata": {},
   "outputs": [],
   "source": [
    "# import the QFlow class\n",
    "import imp\n",
    "import time\n",
    "import os\n",
    "\n",
    "import QFlow_class\n",
    "imp.reload(QFlow_class)\n",
    "qf = QFlow_class.QFlow()"
   ]
  },
  {
   "cell_type": "markdown",
   "metadata": {},
   "source": [
    "### Step 2: Create random subregions for training\n",
    "\n",
    "The following two cells need to be run only once, as the created training data set is stored locally in the folder `Data/sub_images`. Upon execution, the user is asked to choose the type of data one intends to work with (`'current_map'` or `'sensor_map'`). The argument `sub_size` allows setting the subregion size. It needs to be consistent with the `cnn_model_fn`.\n",
    "\n",
    "The `path_data` argument allows to specify where the `raw_data.zip file` is -- if the `raw_data.zip` file is in the same folder as `QFlow training` use `path_data = os.getcwd()`. Otherwise, specify where the file is located. \n",
    "\n",
    "The progress of extracting and slicing data is visualized with a progress bar. Total time to generate 10 subregions, 30 x 30 pixels, per each data file on a 2017 MacBook Pro is about 7 minutes."
   ]
  },
  {
   "cell_type": "code",
   "execution_count": 17,
   "metadata": {},
   "outputs": [
    {
     "name": "stdout",
     "output_type": "stream",
     "text": [
      "Please choose:                          \n",
      "\t1 for working with current data                          \n",
      "\t2 for working with sensor data.                          \n",
      "Your choice: 1\n",
      "You chose to work with the current map.\n",
      "Please, specify the size of the subregions:30\n",
      "Please, specify the number of subrigon to generate per full map: 10\n"
     ]
    }
   ],
   "source": [
    "path_data = os.getcwd()\n",
    "qf.data_selection()"
   ]
  },
  {
   "cell_type": "code",
   "execution_count": 3,
   "metadata": {
    "scrolled": false
   },
   "outputs": [
    {
     "name": "stdout",
     "output_type": "stream",
     "text": [
      "Extracting raw_data.zip\n",
      "Progress: |██████████████████████████████████████████████████| 100.0% Complete\n",
      "raw_data.zip is now extracted\n",
      "Generating subregions\n",
      "Progress: |██████████████████████████████████████████████████| 100.0% Complete\n",
      "Done generating subregions\n"
     ]
    }
   ],
   "source": [
    "qf.slice_data(path_data = path_data)"
   ]
  },
  {
   "cell_type": "markdown",
   "metadata": {},
   "source": [
    "### Step 2a: Previewing the subregions\n",
    "This cell allows to preview the training data together with the label for a given subregion. The format of the label is `[No dot, SD, DD]` and it represents the percentage of the subregion area taken by a gien state.  "
   ]
  },
  {
   "cell_type": "code",
   "execution_count": 9,
   "metadata": {},
   "outputs": [
    {
     "data": {
      "image/png": "[encoded data removed]",
      "text/plain": [
       "<Figure size 864x288 with 4 Axes>"
      ]
     },
     "metadata": {
      "needs_background": "light"
     },
     "output_type": "display_data"
    }
   ],
   "source": [
    "qf.data_preview()"
   ]
  },
  {
   "cell_type": "markdown",
   "metadata": {},
   "source": [
    "### Step 3: Definition of the learning network\n",
    "\n",
    "Network parameters, such as the number of convolutional and pooling layers and the number and size of dense layers can be modified to improve the performance of the network. With the default architecture, on a 2017 MacBook Pro the network trains on 30 x 30 pixel subregions to the accuracy of about 96% in about 10 minutes, with accuracy defined as the percentage of correctly classified subregions.\n"
   ]
  },
  {
   "cell_type": "code",
   "execution_count": 10,
   "metadata": {},
   "outputs": [],
   "source": [
    "\"\"\"Convolutional Neural Network Estimator for 5-gates device.\"\"\"\n",
    "\n",
    "from __future__ import absolute_import\n",
    "from __future__ import division\n",
    "from __future__ import print_function\n",
    "\n",
    "import numpy as np\n",
    "import tensorflow as tf\n",
    "import glob\n",
    "import os\n",
    "\n",
    "tf.logging.set_verbosity(tf.logging.INFO)\n",
    "    \n",
    "def cnn_model_fn(features, labels, mode):\n",
    "    \"\"\"Model function for CNN.\"\"\"\n",
    "    # Input Layer\n",
    "    # Reshape X to 4-D tensor: [batch_size, width, height, channels]\n",
    "    input_layer = tf.cast(tf.reshape(features[\"x\"], [-1, qf.SUB_SIZE, qf.SUB_SIZE, 1]), tf.float32)\n",
    "\n",
    "    # Convolutional and Pooling Layers\n",
    "    conv1 = tf.layers.conv2d(\n",
    "        inputs=input_layer,\n",
    "        filters=16,\n",
    "        kernel_size=[5, 5],\n",
    "        padding=\"same\",        # preserves width and height\n",
    "        activation=tf.nn.relu)\n",
    "\n",
    "    pool1 = tf.layers.max_pooling2d(inputs=conv1, pool_size=[2, 2], strides=2)\n",
    "    \n",
    "    conv2 = tf.layers.conv2d(\n",
    "        inputs=pool1,\n",
    "        filters=32,\n",
    "        kernel_size=[5, 5],\n",
    "        padding=\"same\",        # preserves width and height\n",
    "        activation=tf.nn.relu)\n",
    "\n",
    "    pool2 = tf.layers.max_pooling2d(inputs=conv2, pool_size=[2, 2], strides=2)\n",
    "       \n",
    "    # Flatten tensor into a batch of vectors\n",
    "    pool2_flat = tf.contrib.layers.flatten(pool2)\n",
    "\n",
    "    # Dense Layers\n",
    "    dense0 = tf.layers.dense(inputs=pool2_flat, units=1024, activation=tf.nn.relu)\n",
    "    dropout0 = tf.layers.dropout(inputs=dense0, rate=0.5, training=mode == tf.estimator.ModeKeys.TRAIN)\n",
    "\n",
    "    dense1 = tf.layers.dense(inputs=dropout0, units=512, activation=tf.nn.relu)\n",
    "    dropout1 = tf.layers.dropout(inputs=dense1, rate=0.5, training=mode == tf.estimator.ModeKeys.TRAIN)\n",
    "    \n",
    "    #only for training on current\n",
    "    dense2 = tf.layers.dense(inputs=dropout1, units=256, activation=tf.nn.relu)\n",
    "    dropout2 = tf.layers.dropout(inputs=dense2, rate=0.4, training=mode == tf.estimator.ModeKeys.TRAIN)\n",
    "    \n",
    "    # Logits Layer\n",
    "    logits = tf.layers.dense(inputs=dropout2, units=3)\n",
    "\n",
    "    predictions = {\n",
    "        \"state\": tf.argmax(input=logits, axis=1),\n",
    "        \"probabilities\": tf.cast(tf.nn.softmax(logits , name=\"softmax_tensor\"), tf.float64)\n",
    "    }\n",
    "    \n",
    "    if mode == tf.estimator.ModeKeys.PREDICT:\n",
    "        return tf.estimator.EstimatorSpec(mode=mode, predictions=predictions)\n",
    "\n",
    "    # Calculate Loss (for both TRAIN and EVAL modes)\n",
    "    loss = tf.losses.mean_squared_error(labels=labels, predictions=tf.nn.softmax(logits))\n",
    "    \n",
    "    # Configure the Training Op (for TRAIN mode)\n",
    "    if mode == tf.estimator.ModeKeys.TRAIN:\n",
    "        optimizer = tf.train.AdamOptimizer(learning_rate=0.001)\n",
    "        train_op = optimizer.minimize(loss=loss, global_step=tf.train.get_global_step())\n",
    "        return tf.estimator.EstimatorSpec(mode=mode, loss=loss, train_op=train_op)\n",
    "        \n",
    "    # Add evaluation metrics (for EVAL mode)\n",
    "    eval_metric_ops = {\"accuracy\": tf.metrics.accuracy(labels=tf.argmax(labels, axis=1), \\\n",
    "                                                       predictions=predictions[\"state\"])}\n",
    "    return tf.estimator.EstimatorSpec(mode=mode, loss=loss, eval_metric_ops=eval_metric_ops)"
   ]
  },
  {
   "cell_type": "markdown",
   "metadata": {},
   "source": [
    "### Step 4: Execution of training and evaluation on simulated data\n",
    "\n",
    "The code reads the subregion data and splits it into two sets (90% for training, 10% for evaluation). Then, using the `cnn_model_fn`, the network is trained to distinguish between single dots, double dots, short circuit and barrier states. The trained network is stored in the `Data/trained_model` folder (created during training). To re-train the network on a new data set this folder needs to be removed or emptied. The outcome from the network is a probability vector in the format `[No dot, SD, DD]`. "
   ]
  },
  {
   "cell_type": "code",
   "execution_count": 6,
   "metadata": {
    "scrolled": true
   },
   "outputs": [
    {
     "name": "stdout",
     "output_type": "stream",
     "text": [
      "INFO:tensorflow:Using default config.\n",
      "INFO:tensorflow:Using config: {'_model_dir': 'Data/trained_model', '_tf_random_seed': None, '_save_summary_steps': 100, '_save_checkpoints_steps': None, '_save_checkpoints_secs': 600, '_session_config': allow_soft_placement: true\n",
      "graph_options {\n",
      "  rewrite_options {\n",
      "    meta_optimizer_iterations: ONE\n",
      "  }\n",
      "}\n",
      ", '_keep_checkpoint_max': 5, '_keep_checkpoint_every_n_hours': 10000, '_log_step_count_steps': 100, '_train_distribute': None, '_device_fn': None, '_protocol': None, '_eval_distribute': None, '_experimental_distribute': None, '_service': None, '_cluster_spec': <tensorflow.python.training.server_lib.ClusterSpec object at 0xb23da2470>, '_task_type': 'worker', '_task_id': 0, '_global_id_in_cluster': 0, '_master': '', '_evaluation_master': '', '_is_chief': True, '_num_ps_replicas': 0, '_num_worker_replicas': 1}\n",
      "Total number of samples : 10010\n",
      "Training samples : 9009\n",
      "WARNING:tensorflow:From /Users/jpzwolak/anaconda3/envs/TFenv/lib/python3.6/site-packages/tensorflow/python/estimator/inputs/queues/feeding_queue_runner.py:62: QueueRunner.__init__ (from tensorflow.python.training.queue_runner_impl) is deprecated and will be removed in a future version.\n",
      "Instructions for updating:\n",
      "To construct input pipelines, use the `tf.data` module.\n",
      "WARNING:tensorflow:From /Users/jpzwolak/anaconda3/envs/TFenv/lib/python3.6/site-packages/tensorflow/python/estimator/inputs/queues/feeding_functions.py:500: add_queue_runner (from tensorflow.python.training.queue_runner_impl) is deprecated and will be removed in a future version.\n",
      "Instructions for updating:\n",
      "To construct input pipelines, use the `tf.data` module.\n",
      "INFO:tensorflow:Calling model_fn.\n",
      "INFO:tensorflow:Done calling model_fn.\n",
      "INFO:tensorflow:Create CheckpointSaverHook.\n",
      "INFO:tensorflow:Graph was finalized.\n",
      "INFO:tensorflow:Running local_init_op.\n",
      "INFO:tensorflow:Done running local_init_op.\n",
      "WARNING:tensorflow:From /Users/jpzwolak/anaconda3/envs/TFenv/lib/python3.6/site-packages/tensorflow/python/training/monitored_session.py:804: start_queue_runners (from tensorflow.python.training.queue_runner_impl) is deprecated and will be removed in a future version.\n",
      "Instructions for updating:\n",
      "To construct input pipelines, use the `tf.data` module.\n",
      "INFO:tensorflow:Saving checkpoints for 0 into Data/trained_model/model.ckpt.\n",
      "INFO:tensorflow:\n",
      "INFO:tensorflow:loss = 0.11764936, step = 1\n",
      "INFO:tensorflow: (3.775 sec)\n",
      "INFO:tensorflow:global_step/sec: 13.5651\n",
      "INFO:tensorflow: (3.598 sec)\n",
      "INFO:tensorflow:loss = 0.018952051, step = 101 (7.373 sec)\n",
      "INFO:tensorflow: (3.575 sec)\n",
      "INFO:tensorflow:global_step/sec: 13.8713\n",
      "INFO:tensorflow: (3.634 sec)\n",
      "INFO:tensorflow:loss = 0.008369099, step = 201 (7.209 sec)\n",
      "INFO:tensorflow: (3.736 sec)\n",
      "INFO:tensorflow:global_step/sec: 13.4737\n",
      "INFO:tensorflow: (3.686 sec)\n",
      "INFO:tensorflow:loss = 0.008320636, step = 301 (7.424 sec)\n",
      "INFO:tensorflow: (3.646 sec)\n",
      "INFO:tensorflow:global_step/sec: 13.6277\n",
      "INFO:tensorflow: (3.691 sec)\n",
      "INFO:tensorflow:loss = 0.008449213, step = 401 (7.336 sec)\n",
      "INFO:tensorflow: (3.772 sec)\n",
      "INFO:tensorflow:global_step/sec: 13.4341\n",
      "INFO:tensorflow: (3.671 sec)\n",
      "INFO:tensorflow:loss = 0.0024705813, step = 501 (7.444 sec)\n",
      "INFO:tensorflow: (3.606 sec)\n",
      "INFO:tensorflow:global_step/sec: 13.5139\n",
      "INFO:tensorflow: (3.793 sec)\n",
      "INFO:tensorflow:loss = 0.0051148343, step = 601 (7.400 sec)\n",
      "INFO:tensorflow: (3.689 sec)\n",
      "INFO:tensorflow:global_step/sec: 13.7055\n",
      "INFO:tensorflow: (3.607 sec)\n",
      "INFO:tensorflow:loss = 0.0059358296, step = 701 (7.296 sec)\n",
      "INFO:tensorflow: (3.560 sec)\n",
      "INFO:tensorflow:global_step/sec: 13.7232\n",
      "INFO:tensorflow: (3.727 sec)\n",
      "INFO:tensorflow:loss = 0.00418472, step = 801 (7.287 sec)\n",
      "INFO:tensorflow: (3.718 sec)\n",
      "INFO:tensorflow:global_step/sec: 13.4714\n",
      "INFO:tensorflow: (3.706 sec)\n",
      "INFO:tensorflow:loss = 0.0035081606, step = 901 (7.423 sec)\n",
      "INFO:tensorflow: (3.645 sec)\n",
      "INFO:tensorflow:global_step/sec: 13.7895\n",
      "INFO:tensorflow: (3.606 sec)\n",
      "INFO:tensorflow:loss = 0.0034963286, step = 1001 (7.252 sec)\n",
      "INFO:tensorflow: (3.657 sec)\n",
      "INFO:tensorflow:global_step/sec: 13.7529\n",
      "INFO:tensorflow: (3.616 sec)\n",
      "INFO:tensorflow:loss = 0.003450939, step = 1101 (7.273 sec)\n",
      "INFO:tensorflow: (3.636 sec)\n",
      "INFO:tensorflow:global_step/sec: 13.7507\n",
      "INFO:tensorflow: (3.635 sec)\n",
      "INFO:tensorflow:loss = 0.0036134324, step = 1201 (7.271 sec)\n",
      "INFO:tensorflow: (3.627 sec)\n",
      "INFO:tensorflow:global_step/sec: 13.9105\n",
      "INFO:tensorflow: (3.562 sec)\n",
      "INFO:tensorflow:loss = 0.0034070183, step = 1301 (7.189 sec)\n",
      "INFO:tensorflow: (3.608 sec)\n",
      "INFO:tensorflow:global_step/sec: 13.8281\n",
      "INFO:tensorflow: (3.624 sec)\n",
      "INFO:tensorflow:loss = 0.00261698, step = 1401 (7.232 sec)\n",
      "INFO:tensorflow: (3.592 sec)\n",
      "INFO:tensorflow:global_step/sec: 13.9355\n",
      "INFO:tensorflow: (3.584 sec)\n",
      "INFO:tensorflow:loss = 0.001804819, step = 1501 (7.176 sec)\n",
      "INFO:tensorflow: (3.591 sec)\n",
      "INFO:tensorflow:global_step/sec: 13.9138\n",
      "INFO:tensorflow: (3.596 sec)\n",
      "INFO:tensorflow:loss = 0.0026137186, step = 1601 (7.187 sec)\n",
      "INFO:tensorflow: (3.595 sec)\n",
      "INFO:tensorflow:global_step/sec: 14.015\n",
      "INFO:tensorflow: (3.540 sec)\n",
      "INFO:tensorflow:loss = 0.0027499753, step = 1701 (7.136 sec)\n",
      "INFO:tensorflow: (3.578 sec)\n",
      "INFO:tensorflow:global_step/sec: 13.9982\n",
      "INFO:tensorflow: (3.565 sec)\n",
      "INFO:tensorflow:loss = 0.003137341, step = 1801 (7.143 sec)\n",
      "INFO:tensorflow: (3.709 sec)\n",
      "INFO:tensorflow:global_step/sec: 13.5322\n",
      "INFO:tensorflow: (3.680 sec)\n",
      "INFO:tensorflow:loss = 0.0023783708, step = 1901 (7.390 sec)\n",
      "INFO:tensorflow: (3.669 sec)\n",
      "INFO:tensorflow:global_step/sec: 13.781\n",
      "INFO:tensorflow: (3.587 sec)\n",
      "INFO:tensorflow:loss = 0.0024476768, step = 2001 (7.256 sec)\n",
      "INFO:tensorflow: (3.758 sec)\n",
      "INFO:tensorflow:global_step/sec: 13.1823\n",
      "INFO:tensorflow: (3.828 sec)\n",
      "INFO:tensorflow:loss = 0.0020448372, step = 2101 (7.586 sec)\n",
      "INFO:tensorflow: (3.962 sec)\n",
      "INFO:tensorflow:global_step/sec: 12.6959\n",
      "INFO:tensorflow: (3.915 sec)\n",
      "INFO:tensorflow:loss = 0.0023686723, step = 2201 (7.877 sec)\n",
      "INFO:tensorflow: (3.646 sec)\n",
      "INFO:tensorflow:global_step/sec: 13.7151\n",
      "INFO:tensorflow: (3.645 sec)\n",
      "INFO:tensorflow:loss = 0.0020474566, step = 2301 (7.291 sec)\n",
      "INFO:tensorflow: (3.656 sec)\n",
      "INFO:tensorflow:global_step/sec: 13.7978\n",
      "INFO:tensorflow: (3.591 sec)\n",
      "INFO:tensorflow:loss = 0.004085939, step = 2401 (7.248 sec)\n",
      "INFO:tensorflow: (3.690 sec)\n",
      "INFO:tensorflow:global_step/sec: 13.6221\n",
      "INFO:tensorflow: (3.651 sec)\n",
      "INFO:tensorflow:loss = 0.003094529, step = 2501 (7.341 sec)\n",
      "INFO:tensorflow: (3.726 sec)\n",
      "INFO:tensorflow:global_step/sec: 13.7117\n",
      "INFO:tensorflow: (3.567 sec)\n",
      "INFO:tensorflow:loss = 0.0015205411, step = 2601 (7.293 sec)\n",
      "INFO:tensorflow: (3.584 sec)\n",
      "INFO:tensorflow:global_step/sec: 13.8832\n",
      "INFO:tensorflow: (3.619 sec)\n",
      "INFO:tensorflow:loss = 0.0029421102, step = 2701 (7.203 sec)\n",
      "INFO:tensorflow: (3.714 sec)\n",
      "INFO:tensorflow:global_step/sec: 13.6474\n",
      "INFO:tensorflow: (3.613 sec)\n",
      "INFO:tensorflow:loss = 0.00280183, step = 2801 (7.328 sec)\n",
      "INFO:tensorflow: (3.666 sec)\n",
      "INFO:tensorflow:global_step/sec: 13.6817\n",
      "INFO:tensorflow: (3.643 sec)\n",
      "INFO:tensorflow:loss = 0.0016735636, step = 2901 (7.309 sec)\n",
      "INFO:tensorflow: (3.698 sec)\n",
      "INFO:tensorflow:global_step/sec: 13.7675\n",
      "INFO:tensorflow: (3.566 sec)\n",
      "INFO:tensorflow:loss = 0.0023324434, step = 3001 (7.263 sec)\n",
      "INFO:tensorflow: (3.613 sec)\n",
      "INFO:tensorflow:global_step/sec: 13.8133\n",
      "INFO:tensorflow: (3.626 sec)\n",
      "INFO:tensorflow:loss = 0.0018155065, step = 3101 (7.240 sec)\n",
      "INFO:tensorflow: (3.694 sec)\n",
      "INFO:tensorflow:global_step/sec: 13.7543\n",
      "INFO:tensorflow: (3.576 sec)\n",
      "INFO:tensorflow:loss = 0.0015771028, step = 3201 (7.270 sec)\n",
      "INFO:tensorflow: (3.612 sec)\n",
      "INFO:tensorflow:global_step/sec: 13.8712\n",
      "INFO:tensorflow: (3.597 sec)\n",
      "INFO:tensorflow:loss = 0.00166821, step = 3301 (7.209 sec)\n",
      "INFO:tensorflow: (3.659 sec)\n",
      "INFO:tensorflow:global_step/sec: 13.8565\n",
      "INFO:tensorflow: (3.558 sec)\n",
      "INFO:tensorflow:loss = 0.0018808288, step = 3401 (7.217 sec)\n",
      "INFO:tensorflow: (3.621 sec)\n",
      "INFO:tensorflow:global_step/sec: 13.697\n",
      "INFO:tensorflow: (3.680 sec)\n",
      "INFO:tensorflow:loss = 0.0019471273, step = 3501 (7.301 sec)\n",
      "INFO:tensorflow: (3.640 sec)\n",
      "INFO:tensorflow:global_step/sec: 13.8287\n",
      "INFO:tensorflow: (3.591 sec)\n",
      "INFO:tensorflow:loss = 0.0032023313, step = 3601 (7.231 sec)\n",
      "INFO:tensorflow: (3.622 sec)\n",
      "INFO:tensorflow:global_step/sec: 13.822\n",
      "INFO:tensorflow: (3.613 sec)\n"
     ]
    },
    {
     "name": "stdout",
     "output_type": "stream",
     "text": [
      "INFO:tensorflow:loss = 0.0023311786, step = 3701 (7.235 sec)\n",
      "INFO:tensorflow: (3.604 sec)\n",
      "INFO:tensorflow:global_step/sec: 13.929\n",
      "INFO:tensorflow: (3.576 sec)\n",
      "INFO:tensorflow:loss = 0.0020768761, step = 3801 (7.180 sec)\n",
      "INFO:tensorflow: (3.606 sec)\n",
      "INFO:tensorflow:global_step/sec: 13.7528\n",
      "INFO:tensorflow: (3.665 sec)\n",
      "INFO:tensorflow:loss = 0.0019212918, step = 3901 (7.271 sec)\n",
      "INFO:tensorflow: (3.633 sec)\n",
      "INFO:tensorflow:global_step/sec: 13.8798\n",
      "INFO:tensorflow: (3.572 sec)\n",
      "INFO:tensorflow:loss = 0.0022794358, step = 4001 (7.205 sec)\n",
      "INFO:tensorflow: (3.671 sec)\n",
      "INFO:tensorflow:global_step/sec: 13.6096\n",
      "INFO:tensorflow: (3.677 sec)\n",
      "INFO:tensorflow:loss = 0.0027549625, step = 4101 (7.348 sec)\n",
      "INFO:tensorflow: (3.662 sec)\n",
      "INFO:tensorflow:global_step/sec: 13.7987\n",
      "INFO:tensorflow: (3.585 sec)\n",
      "INFO:tensorflow:loss = 0.0014241621, step = 4201 (7.247 sec)\n",
      "INFO:tensorflow: (3.658 sec)\n",
      "INFO:tensorflow:global_step/sec: 13.7854\n",
      "INFO:tensorflow: (3.596 sec)\n",
      "INFO:tensorflow:loss = 0.0016538921, step = 4301 (7.254 sec)\n",
      "INFO:tensorflow: (3.606 sec)\n",
      "INFO:tensorflow:global_step/sec: 13.8595\n",
      "INFO:tensorflow: (3.609 sec)\n",
      "INFO:tensorflow:loss = 0.0011212882, step = 4401 (7.215 sec)\n",
      "INFO:tensorflow: (3.666 sec)\n",
      "INFO:tensorflow:global_step/sec: 13.7805\n",
      "INFO:tensorflow: (3.591 sec)\n",
      "INFO:tensorflow:loss = 0.0011023227, step = 4501 (7.257 sec)\n",
      "INFO:tensorflow: (3.571 sec)\n",
      "INFO:tensorflow:global_step/sec: 13.9661\n",
      "INFO:tensorflow: (3.589 sec)\n",
      "INFO:tensorflow:loss = 0.0016709944, step = 4601 (7.160 sec)\n",
      "INFO:tensorflow: (3.722 sec)\n",
      "INFO:tensorflow:global_step/sec: 12.3889\n",
      "INFO:tensorflow: (4.349 sec)\n",
      "INFO:tensorflow:loss = 0.0014831226, step = 4701 (8.072 sec)\n",
      "INFO:tensorflow: (3.615 sec)\n",
      "INFO:tensorflow:global_step/sec: 13.7068\n",
      "INFO:tensorflow: (3.681 sec)\n",
      "INFO:tensorflow:loss = 0.0013216445, step = 4801 (7.296 sec)\n",
      "INFO:tensorflow: (3.683 sec)\n",
      "INFO:tensorflow:global_step/sec: 13.7141\n",
      "INFO:tensorflow: (3.609 sec)\n",
      "INFO:tensorflow:loss = 0.0013206522, step = 4901 (7.292 sec)\n",
      "INFO:tensorflow: (3.603 sec)\n",
      "INFO:tensorflow:Saving checkpoints for 5000 into Data/trained_model/model.ckpt.\n",
      "INFO:tensorflow:Loss for final step: 0.0015681008.\n",
      "Total number of samples : 10010\n",
      "Evaluating samples: 1001\n",
      "INFO:tensorflow:Calling model_fn.\n",
      "INFO:tensorflow:Done calling model_fn.\n",
      "INFO:tensorflow:Starting evaluation at 2018-10-30-16:32:12\n",
      "INFO:tensorflow:Graph was finalized.\n",
      "INFO:tensorflow:Restoring parameters from Data/trained_model/model.ckpt-5000\n",
      "INFO:tensorflow:Running local_init_op.\n",
      "INFO:tensorflow:Done running local_init_op.\n",
      "INFO:tensorflow:Finished evaluation at 2018-10-30-16:32:13\n",
      "INFO:tensorflow:Saving dict for global step 5000: accuracy = 0.985015, global_step = 5000, loss = 0.0015099494\n",
      "INFO:tensorflow:Saving 'checkpoint_path' summary for global step 5000: Data/trained_model/model.ckpt-5000\n",
      "Evaluation: {'accuracy': 0.985015, 'loss': 0.0015099494, 'global_step': 5000}\n",
      "INFO:tensorflow:Calling model_fn.\n",
      "INFO:tensorflow:Done calling model_fn.\n",
      "INFO:tensorflow:Graph was finalized.\n",
      "INFO:tensorflow:Restoring parameters from Data/trained_model/model.ckpt-5000\n",
      "INFO:tensorflow:Running local_init_op.\n",
      "INFO:tensorflow:Done running local_init_op.\n"
     ]
    }
   ],
   "source": [
    "# create the estimator and a place to store the trained network\n",
    "state_classifier = tf.estimator.Estimator(model_fn=cnn_model_fn, model_dir=\"Data/trained_model\")\n",
    "\n",
    "#train the network\n",
    "qf.train_net(classifier=state_classifier, batch_size=50, steps=5000)\n",
    "qf.eval_net(classifier=state_classifier)"
   ]
  },
  {
   "cell_type": "markdown",
   "metadata": {},
   "source": [
    "### Step 5: Visualization of the classification accuracy for evaluation\n",
    "A histogram showing the comparison of true data labels from the evaluation set (evals) and the labels predicted by the trained network (preds). The vertical axis represents the number of images."
   ]
  },
  {
   "cell_type": "code",
   "execution_count": 11,
   "metadata": {},
   "outputs": [
    {
     "data": {
      "image/png": "[encoded data removed]",
      "text/plain": [
       "<Figure size 432x288 with 1 Axes>"
      ]
     },
     "metadata": {
      "needs_background": "light"
     },
     "output_type": "display_data"
    }
   ],
   "source": [
    "qf.evaluation_visual()"
   ]
  },
  {
   "cell_type": "markdown",
   "metadata": {},
   "source": [
    "### Step 6: Evaluation of the trained network on experimental data (only for current data)\n",
    "\n",
    "The code reads the provided experimental data from a folder `Data/exp_data` and then applies the trained network to classify each image. The README file explains how data needs to be formated to be compatible with the network.  "
   ]
  },
  {
   "cell_type": "code",
   "execution_count": 18,
   "metadata": {},
   "outputs": [
    {
     "ename": "NameError",
     "evalue": "name 'scaling' is not defined",
     "output_type": "error",
     "traceback": [
      "\u001b[0;31m---------------------------------------------------------------------------\u001b[0m",
      "\u001b[0;31mNameError\u001b[0m                                 Traceback (most recent call last)",
      "\u001b[0;32m<ipython-input-18-9dd156583c06>\u001b[0m in \u001b[0;36m<module>\u001b[0;34m()\u001b[0m\n\u001b[1;32m      5\u001b[0m \u001b[0;31m# evaluate the experimental data\u001b[0m\u001b[0;34m\u001b[0m\u001b[0;34m\u001b[0m\u001b[0m\n\u001b[1;32m      6\u001b[0m \u001b[0mexp_preds\u001b[0m \u001b[0;34m=\u001b[0m \u001b[0mqf\u001b[0m\u001b[0;34m.\u001b[0m\u001b[0meval_exp\u001b[0m\u001b[0;34m(\u001b[0m\u001b[0mscaling\u001b[0m \u001b[0;34m=\u001b[0m \u001b[0;36m20\u001b[0m\u001b[0;34m,\u001b[0m \u001b[0mclassifier\u001b[0m\u001b[0;34m=\u001b[0m\u001b[0mstate_classifier\u001b[0m\u001b[0;34m)\u001b[0m\u001b[0;34m\u001b[0m\u001b[0m\n\u001b[0;32m----> 7\u001b[0;31m \u001b[0mqf\u001b[0m\u001b[0;34m.\u001b[0m\u001b[0mexp_visual\u001b[0m\u001b[0;34m(\u001b[0m\u001b[0mexp_preds\u001b[0m \u001b[0;34m=\u001b[0m \u001b[0mexp_preds\u001b[0m\u001b[0;34m)\u001b[0m\u001b[0;34m\u001b[0m\u001b[0m\n\u001b[0m",
      "\u001b[0;32m~/Research/Projects/ML/QD project/Code/QFlow/QFlow-lite/QFlow_class.py\u001b[0m in \u001b[0;36mexp_visual\u001b[0;34m(self, exp_preds, f)\u001b[0m\n\u001b[1;32m    457\u001b[0m                 \u001b[0;31m#    exp_state = 'short circuit'\u001b[0m\u001b[0;34m\u001b[0m\u001b[0;34m\u001b[0m\u001b[0m\n\u001b[1;32m    458\u001b[0m \u001b[0;34m\u001b[0m\u001b[0m\n\u001b[0;32m--> 459\u001b[0;31m                 \u001b[0mplt\u001b[0m\u001b[0;34m.\u001b[0m\u001b[0mpcolor\u001b[0m\u001b[0;34m(\u001b[0m\u001b[0mload_dat\u001b[0m\u001b[0;34m[\u001b[0m\u001b[0;34m'current_map'\u001b[0m\u001b[0;34m]\u001b[0m\u001b[0;34m*\u001b[0m\u001b[0mscaling\u001b[0m\u001b[0;34m)\u001b[0m\u001b[0;34m\u001b[0m\u001b[0m\n\u001b[0m\u001b[1;32m    460\u001b[0m                 \u001b[0mbar\u001b[0m \u001b[0;34m=\u001b[0m \u001b[0mplt\u001b[0m\u001b[0;34m.\u001b[0m\u001b[0mcolorbar\u001b[0m\u001b[0;34m(\u001b[0m\u001b[0;34m)\u001b[0m\u001b[0;34m\u001b[0m\u001b[0m\n\u001b[1;32m    461\u001b[0m                 \u001b[0mplt\u001b[0m\u001b[0;34m.\u001b[0m\u001b[0mshow\u001b[0m\u001b[0;34m(\u001b[0m\u001b[0;34m)\u001b[0m\u001b[0;34m\u001b[0m\u001b[0m\n",
      "\u001b[0;31mNameError\u001b[0m: name 'scaling' is not defined"
     ]
    }
   ],
   "source": [
    "# assign the estimator\n",
    "tf.logging.set_verbosity(tf.logging.ERROR)\n",
    "state_classifier = tf.estimator.Estimator(model_fn=cnn_model_fn, model_dir=\"Data/trained_model\")\n",
    "\n",
    "# evaluate the experimental data\n",
    "exp_preds = qf.eval_exp(scaling = 20, classifier=state_classifier)\n",
    "qf.exp_visual(exp_preds = exp_preds)"
   ]
  },
  {
   "cell_type": "code",
   "execution_count": null,
   "metadata": {},
   "outputs": [],
   "source": []
  }
 ],
 "metadata": {
  "kernelspec": {
   "display_name": "Python 3",
   "language": "python",
   "name": "python3"
  },
  "language_info": {
   "codemirror_mode": {
    "name": "ipython",
    "version": 3
   },
   "file_extension": ".py",
   "mimetype": "text/x-python",
   "name": "python",
   "nbconvert_exporter": "python",
   "pygments_lexer": "ipython3",
   "version": "3.6.8"
  }
 },
 "nbformat": 4,
 "nbformat_minor": 2
}
