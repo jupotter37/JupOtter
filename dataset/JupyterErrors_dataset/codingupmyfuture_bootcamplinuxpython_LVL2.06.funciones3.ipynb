{
  "nbformat": 4,
  "nbformat_minor": 0,
  "metadata": {
    "colab": {
      "provenance": []
    },
    "kernelspec": {
      "name": "python3",
      "display_name": "Python 3"
    },
    "language_info": {
      "name": "python"
    }
  },
  "cells": [
    {
      "cell_type": "markdown",
      "source": [
        "<p><img src=\"https://i.postimg.cc/cCjTSn8r/ss-cumf.png\" alt=\"\" width=\"1280\" height=\"300\" /></p>"
      ],
      "metadata": {
        "id": "diK-MVCLkPw2"
      }
    },
    {
      "cell_type": "markdown",
      "source": [
        "# **FUNCIONES**"
      ],
      "metadata": {
        "id": "AzJIQyV-mBUa"
      }
    },
    {
      "cell_type": "markdown",
      "source": [
        "## **FUNCIONES ANIDADAS**"
      ],
      "metadata": {
        "id": "aWi6eqUqmEuR"
      }
    },
    {
      "cell_type": "markdown",
      "source": [
        "### **NORMALES**"
      ],
      "metadata": {
        "id": "q6W5CiIN1fYl"
      }
    },
    {
      "cell_type": "code",
      "source": [
        "def obtener_tipo_salud(genero: str) -> str:\n",
        "  funcion_devolver  = None\n",
        "  def mujer(nombre):\n",
        "    return f\"es una mujer, y su nombre es: {nombre}\"\n",
        "\n",
        "  def hombre(nombre):\n",
        "    return f\"es un hombre, y su nombre es: {nombre}\"\n",
        "\n",
        "  if genero == \"F\":\n",
        "    funcion_devolver = mujer\n",
        "    print(mujer(\"prueba dummy - llamado interno\"))\n",
        "  else:\n",
        "    funcion_devolver = hombre\n",
        "\n",
        "  return funcion_devolver\n",
        "\n",
        "#1. Está retornando netamente la función a utilizar\n",
        "resultado = obtener_tipo_salud(\"F\")\n",
        "print(type(resultado))\n",
        "print(resultado)\n",
        "print(resultado.__name__)"
      ],
      "metadata": {
        "colab": {
          "base_uri": "https://localhost:8080/"
        },
        "id": "czyG2m78zNjt",
        "outputId": "f78173c8-69c0-479d-8e09-affd1e4256d6"
      },
      "execution_count": 4,
      "outputs": [
        {
          "output_type": "stream",
          "name": "stdout",
          "text": [
            "es una mujer, y su nombre es: prueba dummy - llamado interno\n",
            "<class 'function'>\n",
            "<function obtener_tipo_salud.<locals>.mujer at 0x7fbfe6f28ca0>\n",
            "mujer\n"
          ]
        }
      ]
    },
    {
      "cell_type": "code",
      "source": [
        "#2. Yo estoy llamando la función que me devolvió el punto 1 y la estoy ejecutando\n",
        "resultado2 = resultado(\"PEPITO\")\n",
        "print(type(resultado2))\n",
        "print(resultado2)"
      ],
      "metadata": {
        "colab": {
          "base_uri": "https://localhost:8080/"
        },
        "id": "NKtp6SaV02jz",
        "outputId": "a815a68e-65a8-46cd-e780-83285a984795"
      },
      "execution_count": 5,
      "outputs": [
        {
          "output_type": "stream",
          "name": "stdout",
          "text": [
            "<class 'str'>\n",
            "es una mujer, y su nombre es: PEPITO\n"
          ]
        }
      ]
    },
    {
      "cell_type": "markdown",
      "source": [
        "### **EJECUCIÓN EMBEBIDA**"
      ],
      "metadata": {
        "id": "5ozalbm31i4b"
      }
    },
    {
      "cell_type": "code",
      "source": [
        "def obtener_tipo() -> str:\n",
        "  def mujer(nombre):\n",
        "    return f\"es una mujer, y su nombre es: {nombre}\"\n",
        "  return mujer\n",
        "\n",
        "obtener_tipo()(\"Maria Alejandra\")"
      ],
      "metadata": {
        "colab": {
          "base_uri": "https://localhost:8080/",
          "height": 35
        },
        "id": "KpMZQIJF1qNo",
        "outputId": "7f15499a-ea94-4e8e-e24e-d2881b67ffd7"
      },
      "execution_count": 6,
      "outputs": [
        {
          "output_type": "execute_result",
          "data": {
            "text/plain": [
              "'es una mujer, y su nombre es: Maria Alejandra'"
            ],
            "application/vnd.google.colaboratory.intrinsic+json": {
              "type": "string"
            }
          },
          "metadata": {},
          "execution_count": 6
        }
      ]
    },
    {
      "cell_type": "code",
      "source": [
        "# Respuesta a la pregunta:\n",
        "\n",
        "def obtener_tipo_respuesta() -> str:\n",
        "  def mujer(nombre):\n",
        "    return f\"es una mujer, y su nombre es: {nombre}\"\n",
        "  return mujer, lambda x, y: x**y\n",
        "\n",
        "retornado = obtener_tipo_respuesta()\n",
        "print(retornado)"
      ],
      "metadata": {
        "colab": {
          "base_uri": "https://localhost:8080/"
        },
        "id": "Lfa26GozNTny",
        "outputId": "719a0930-a31d-49ac-a475-6141aef7b0b0"
      },
      "execution_count": 7,
      "outputs": [
        {
          "output_type": "stream",
          "name": "stdout",
          "text": [
            "(<function obtener_tipo_respuesta.<locals>.mujer at 0x7fbfe6f29a20>, <function obtener_tipo_respuesta.<locals>.<lambda> at 0x7fbfe6f29ab0>)\n"
          ]
        }
      ]
    },
    {
      "cell_type": "code",
      "source": [
        "obtener_tipo_respuesta()[0](\"elizabeth\")"
      ],
      "metadata": {
        "colab": {
          "base_uri": "https://localhost:8080/",
          "height": 35
        },
        "id": "kSVSJeJ9NoTP",
        "outputId": "3297650c-9da1-4335-980c-ce84b68df2d9"
      },
      "execution_count": 8,
      "outputs": [
        {
          "output_type": "execute_result",
          "data": {
            "text/plain": [
              "'es una mujer, y su nombre es: elizabeth'"
            ],
            "application/vnd.google.colaboratory.intrinsic+json": {
              "type": "string"
            }
          },
          "metadata": {},
          "execution_count": 8
        }
      ]
    },
    {
      "cell_type": "code",
      "source": [
        "obtener_tipo_respuesta()[1](5,2)"
      ],
      "metadata": {
        "colab": {
          "base_uri": "https://localhost:8080/"
        },
        "id": "Yn7t56tVN9qI",
        "outputId": "f67f11ab-53b1-47f7-a0b6-013a139999f1"
      },
      "execution_count": 9,
      "outputs": [
        {
          "output_type": "execute_result",
          "data": {
            "text/plain": [
              "25"
            ]
          },
          "metadata": {},
          "execution_count": 9
        }
      ]
    },
    {
      "cell_type": "code",
      "source": [
        "fun_1, fun_2 = obtener_tipo_respuesta()"
      ],
      "metadata": {
        "id": "Bd_fwPPpORlr"
      },
      "execution_count": 10,
      "outputs": []
    },
    {
      "cell_type": "code",
      "source": [
        "fun_2(5,2)"
      ],
      "metadata": {
        "colab": {
          "base_uri": "https://localhost:8080/"
        },
        "id": "VEGO3lyvOXHv",
        "outputId": "17daac8e-d569-49f8-ac07-11240f19b29b"
      },
      "execution_count": 11,
      "outputs": [
        {
          "output_type": "execute_result",
          "data": {
            "text/plain": [
              "25"
            ]
          },
          "metadata": {},
          "execution_count": 11
        }
      ]
    },
    {
      "cell_type": "markdown",
      "source": [
        "## **CLOSURES**\n",
        "\n",
        "Significa que una función de cierre `recuerda` y puede utilizar variables de su entorno padre"
      ],
      "metadata": {
        "id": "yfSUMxRSmEr3"
      }
    },
    {
      "cell_type": "code",
      "source": [
        "def semilla(valor_semilla):\n",
        "  def ejecutador(numero):\n",
        "    return numero + valor_semilla\n",
        "  return ejecutador"
      ],
      "metadata": {
        "id": "uKAZ6XPK2iI1"
      },
      "execution_count": 12,
      "outputs": []
    },
    {
      "cell_type": "code",
      "source": [
        "set_seed = semilla(0.001)\n",
        "print(type(set_seed))\n",
        "print(set_seed)\n",
        "print(set_seed.__name__)"
      ],
      "metadata": {
        "colab": {
          "base_uri": "https://localhost:8080/"
        },
        "id": "om-AYMUR3KRK",
        "outputId": "a85e2539-336d-42fc-9f18-3ef985949378"
      },
      "execution_count": 13,
      "outputs": [
        {
          "output_type": "stream",
          "name": "stdout",
          "text": [
            "<class 'function'>\n",
            "<function semilla.<locals>.ejecutador at 0x7fbfe6f2ac20>\n",
            "ejecutador\n"
          ]
        }
      ]
    },
    {
      "cell_type": "code",
      "source": [
        "print(set_seed(5))\n",
        "print(set_seed(1))\n",
        "print(set_seed(2.5))"
      ],
      "metadata": {
        "colab": {
          "base_uri": "https://localhost:8080/"
        },
        "id": "l_r94m6c3d3M",
        "outputId": "1a955111-e5a3-4d7f-fc01-a4c8abbbcb26"
      },
      "execution_count": 14,
      "outputs": [
        {
          "output_type": "stream",
          "name": "stdout",
          "text": [
            "5.001\n",
            "1.001\n",
            "2.501\n"
          ]
        }
      ]
    },
    {
      "cell_type": "markdown",
      "source": [
        "## **DECORADORES**\n",
        "\n",
        "Lo podemos ver de dos maneras:\n",
        "\n",
        "\n",
        "1.   Agregar extensibilidad a una funcionalidad\n",
        "2.   Proporciona facilidad\n",
        "\n",
        "\n",
        "\n",
        "`@ = decorador = es una función`\n",
        "\n",
        "\n",
        "\n",
        "```python\n",
        "@route('/names')\n",
        "def hello_world():\n",
        "  return 'Hello, World!'\n",
        "```\n",
        "explicación\n",
        "```python\n",
        "aplicar lógica antes de llamar la función\n",
        "def hello_world():\n",
        "  return 'Hello, World!'\n",
        "aplicar lógica después de ejecutar la función\n",
        "```\n"
      ],
      "metadata": {
        "id": "GL9m2lu9n9nk"
      }
    },
    {
      "cell_type": "markdown",
      "source": [
        "### **DECORADORES SIMPLES**"
      ],
      "metadata": {
        "id": "Pl36TfF5mEpk"
      }
    },
    {
      "cell_type": "code",
      "source": [
        "# La función original| función que queremos extender o simplicar\n",
        "# ANTES\n",
        "def suma_entera(numero_1: int, numero_2: int) -> int:\n",
        "  return numero_1 + numero_2\n",
        "\n",
        "print(suma_entera(1,1))\n",
        "print(suma_entera(1,2))\n",
        "print(suma_entera(5,5))"
      ],
      "metadata": {
        "colab": {
          "base_uri": "https://localhost:8080/"
        },
        "id": "mZxe8lbA706B",
        "outputId": "b404fd64-e016-4697-9e25-83f40181217b"
      },
      "execution_count": 15,
      "outputs": [
        {
          "output_type": "stream",
          "name": "stdout",
          "text": [
            "2\n",
            "3\n",
            "10\n"
          ]
        }
      ]
    },
    {
      "cell_type": "code",
      "source": [
        "# decorador para extender la funcionalidad\n",
        "def ext_suma_sin_argumentos(funcion):\n",
        "  def funcion_que_extiende(*args, **kwargs):\n",
        "    # lógica antes de\n",
        "    print(f\" funcion a extender: {funcion.__name__}\")\n",
        "    print(\"------ ejecución antes de la función ---\")\n",
        "    resultado = funcion(*args, **kwargs) # función es suma_entera, resultado = numero_1 + numero_2\n",
        "    print(f\"----- resultado: {resultado}\")\n",
        "    print(\"------ ejecución después de la función ---\")\n",
        "    return resultado\n",
        "  return funcion_que_extiende\n",
        "    # lógica después de"
      ],
      "metadata": {
        "id": "JChfiAAC8txL"
      },
      "execution_count": 16,
      "outputs": []
    },
    {
      "cell_type": "code",
      "source": [
        "# DESPUÉS\n",
        "@ext_suma_sin_argumentos\n",
        "def suma_entera(numero_1: int, numero_2: int) -> int:\n",
        "  return numero_1 + numero_2\n",
        "resultado = suma_entera(1,1)\n",
        "print(resultado)\n",
        "#print(suma_entera(1,2))\n",
        "#print(suma_entera(5,5))"
      ],
      "metadata": {
        "colab": {
          "base_uri": "https://localhost:8080/"
        },
        "id": "QTbHcxKl-Nr1",
        "outputId": "c47aa17d-0cba-4893-852b-d9a4337a9932"
      },
      "execution_count": 17,
      "outputs": [
        {
          "output_type": "stream",
          "name": "stdout",
          "text": [
            " funcion a extender: suma_entera\n",
            "------ ejecución antes de la función ---\n",
            "----- resultado: 2\n",
            "------ ejecución después de la función ---\n",
            "2\n"
          ]
        }
      ]
    },
    {
      "cell_type": "markdown",
      "source": [
        "### **DECORADORES CON ARGUMENTOS**"
      ],
      "metadata": {
        "id": "TOOF0CUOmEm_"
      }
    },
    {
      "cell_type": "code",
      "source": [
        "# Crear decorador con argumentos | clave es funciones anidadas de 3 niveles\n",
        "def ext_suma_con_argumentos(delimitador: str = \"-\", cantidad: int = 5):\n",
        "  def ext_suma_con_argumentos(funcion):\n",
        "    def funcion_que_extiende(*args, **kwargs):\n",
        "      # lógica antes de\n",
        "      delimitacion = delimitador * cantidad\n",
        "      print(f\"{delimitacion} funcion a extender: {funcion.__name__} {delimitacion}\")\n",
        "      print(f\"{delimitacion} ejecución antes de la función {delimitacion}\")\n",
        "      resultado = funcion(*args, **kwargs) # función es suma_entera, resultado = numero_1 + numero_2\n",
        "      print(f\"{delimitacion} resultado: {resultado} {delimitacion}\")\n",
        "      print(f\"{delimitacion} ejecución después de la función {delimitacion}\")\n",
        "      return resultado\n",
        "    return funcion_que_extiende\n",
        "  return ext_suma_con_argumentos"
      ],
      "metadata": {
        "id": "Nl3vdW5N_vm7"
      },
      "execution_count": 18,
      "outputs": []
    },
    {
      "cell_type": "code",
      "source": [
        "@ext_suma_con_argumentos(cantidad = 7, delimitador=\"*\")\n",
        "def suma_entera(numero_1: int, numero_2: int) -> int:\n",
        "  return numero_1 + numero_2\n",
        "resultado = suma_entera(1,1)\n",
        "print(resultado)"
      ],
      "metadata": {
        "colab": {
          "base_uri": "https://localhost:8080/"
        },
        "id": "SPkKMIF9A0Ny",
        "outputId": "8f585029-1f64-4955-de3e-cbc12845f639"
      },
      "execution_count": 19,
      "outputs": [
        {
          "output_type": "stream",
          "name": "stdout",
          "text": [
            "******* funcion a extender: suma_entera *******\n",
            "******* ejecución antes de la función *******\n",
            "******* resultado: 2 *******\n",
            "******* ejecución después de la función *******\n",
            "2\n"
          ]
        }
      ]
    },
    {
      "cell_type": "markdown",
      "source": [
        "## **LAMBDAS**\n",
        "en programación (MIRANDO DOCS) cuando vean `[]` quiere decir que es opcional\n",
        "\n",
        "`lambda [arg1,arg2,argn]: acciones`"
      ],
      "metadata": {
        "id": "_RNog_5amEka"
      }
    },
    {
      "cell_type": "markdown",
      "source": [
        "### **ANÓNIMA**"
      ],
      "metadata": {
        "id": "O1JpXR2FDNv9"
      }
    },
    {
      "cell_type": "code",
      "source": [
        "print(\"el valor del número al cuadrado es: \", (lambda numero: numero **2)(5))"
      ],
      "metadata": {
        "colab": {
          "base_uri": "https://localhost:8080/"
        },
        "id": "T4vm--zOCbtE",
        "outputId": "cc1eb774-e3ec-4cdf-c345-25a49e81561c"
      },
      "execution_count": 20,
      "outputs": [
        {
          "output_type": "stream",
          "name": "stdout",
          "text": [
            "el valor del número al cuadrado es:  25\n"
          ]
        }
      ]
    },
    {
      "cell_type": "markdown",
      "source": [
        "### **DECLARADA**"
      ],
      "metadata": {
        "id": "iAUHDLNND8HZ"
      }
    },
    {
      "cell_type": "code",
      "source": [
        "elevar_numero_al_cuadrado = lambda numero: numero **2\n",
        "print(\"el valor del número al cuadrado es: \", elevar_numero_al_cuadrado(5))"
      ],
      "metadata": {
        "colab": {
          "base_uri": "https://localhost:8080/"
        },
        "id": "DHD8TbSDD6F1",
        "outputId": "6c1f07d7-7665-49bb-d51d-ff66ebf00bb0"
      },
      "execution_count": 21,
      "outputs": [
        {
          "output_type": "stream",
          "name": "stdout",
          "text": [
            "el valor del número al cuadrado es:  25\n"
          ]
        }
      ]
    },
    {
      "cell_type": "markdown",
      "source": [
        "## **YIELD (GENERATOR)**\n",
        "\n",
        "`yield` es una palabra clave que se utiliza en la definición de generadores, una forma especial de crear iteradores. Un generador es una función que produce valores de forma `perezosa (lazy)` o `bajo demanda` en lugar de generar todos los valores de antemano y almacenarlos en la memoria.\n",
        "\n",
        "<p><img src=\"https://miro.medium.com/v2/resize:fit:720/format:webp/1*iBgdO1ukASeyaLtSv3Jpnw.png\" alt=\"\" width=\"800\" height=\"300\" /></p>\n",
        "\n"
      ],
      "metadata": {
        "id": "qeYCENYAmEh9"
      }
    },
    {
      "cell_type": "markdown",
      "source": [
        "\n",
        "\n",
        "\n",
        "1.   Ejecutar cuando quiera\n",
        "2.   Iterar e ir evaluando valores afuera de la función\n",
        "\n",
        "\n",
        "```\n",
        "función que procesa\n",
        "  1.000.000 de registros | cascada\n",
        "utilizar afuera los resultados de la función\n",
        "```\n",
        "\n",
        "NOTA: el `return` cuando lo usamos con `yield` lo ideal no es devolver objetos sino estados\n",
        "\n"
      ],
      "metadata": {
        "id": "nkYMMU1XF2WM"
      }
    },
    {
      "cell_type": "markdown",
      "source": [
        "### **YIELD ELEMENTAL**"
      ],
      "metadata": {
        "id": "Plf40gqVHge6"
      }
    },
    {
      "cell_type": "code",
      "source": [
        "def generator_simple():\n",
        "  yield 1\n",
        "  yield 2\n",
        "  yield 3"
      ],
      "metadata": {
        "id": "Xgs7WowpF1zM"
      },
      "execution_count": 22,
      "outputs": []
    },
    {
      "cell_type": "code",
      "source": [
        "valor = generator_simple()\n",
        "print(type(valor))\n",
        "print(valor)"
      ],
      "metadata": {
        "colab": {
          "base_uri": "https://localhost:8080/"
        },
        "id": "YM8CSN70sOIg",
        "outputId": "0eb7304e-73ee-44f9-9a32-df72bee48990"
      },
      "execution_count": 23,
      "outputs": [
        {
          "output_type": "stream",
          "name": "stdout",
          "text": [
            "<class 'generator'>\n",
            "<generator object generator_simple at 0x7fbfe6f1f300>\n"
          ]
        }
      ]
    },
    {
      "cell_type": "code",
      "source": [
        "print(next(valor))"
      ],
      "metadata": {
        "colab": {
          "base_uri": "https://localhost:8080/"
        },
        "id": "wfiRtKSQsOF6",
        "outputId": "f5b53d47-8a84-452c-cfec-be459339621f"
      },
      "execution_count": 24,
      "outputs": [
        {
          "output_type": "stream",
          "name": "stdout",
          "text": [
            "1\n"
          ]
        }
      ]
    },
    {
      "cell_type": "code",
      "source": [
        "print(next(valor))"
      ],
      "metadata": {
        "colab": {
          "base_uri": "https://localhost:8080/"
        },
        "id": "Yu0UM4a_sODs",
        "outputId": "b2eb3b33-997a-4726-86e6-28d9d866ed04"
      },
      "execution_count": 25,
      "outputs": [
        {
          "output_type": "stream",
          "name": "stdout",
          "text": [
            "2\n"
          ]
        }
      ]
    },
    {
      "cell_type": "code",
      "source": [
        "print(next(valor))"
      ],
      "metadata": {
        "colab": {
          "base_uri": "https://localhost:8080/"
        },
        "id": "oN8BIy1SsOBL",
        "outputId": "a7cf0307-5868-4cb6-b03e-04010d4847b1"
      },
      "execution_count": 26,
      "outputs": [
        {
          "output_type": "stream",
          "name": "stdout",
          "text": [
            "3\n"
          ]
        }
      ]
    },
    {
      "cell_type": "code",
      "source": [
        "# Problema de los generators | que cuando terminan generar errores\n",
        "# Lo resolveremos en nivel 3\n",
        "print(next(valor))"
      ],
      "metadata": {
        "colab": {
          "base_uri": "https://localhost:8080/",
          "height": 211
        },
        "id": "V4_QHutisN-f",
        "outputId": "dc694348-f14a-4450-cc42-9061f55d9184"
      },
      "execution_count": 27,
      "outputs": [
        {
          "output_type": "error",
          "ename": "StopIteration",
          "evalue": "ignored",
          "traceback": [
            "\u001b[0;31m---------------------------------------------------------------------------\u001b[0m",
            "\u001b[0;31mStopIteration\u001b[0m                             Traceback (most recent call last)",
            "\u001b[0;32m<ipython-input-27-d29f9e07fe87>\u001b[0m in \u001b[0;36m<cell line: 3>\u001b[0;34m()\u001b[0m\n\u001b[1;32m      1\u001b[0m \u001b[0;31m# Problema de los generators | que cuando terminan generar errores\u001b[0m\u001b[0;34m\u001b[0m\u001b[0;34m\u001b[0m\u001b[0m\n\u001b[1;32m      2\u001b[0m \u001b[0;31m# Lo resolveremos en nivel 3\u001b[0m\u001b[0;34m\u001b[0m\u001b[0;34m\u001b[0m\u001b[0m\n\u001b[0;32m----> 3\u001b[0;31m \u001b[0mprint\u001b[0m\u001b[0;34m(\u001b[0m\u001b[0mnext\u001b[0m\u001b[0;34m(\u001b[0m\u001b[0mvalor\u001b[0m\u001b[0;34m)\u001b[0m\u001b[0;34m)\u001b[0m\u001b[0;34m\u001b[0m\u001b[0;34m\u001b[0m\u001b[0m\n\u001b[0m",
            "\u001b[0;31mStopIteration\u001b[0m: "
          ]
        }
      ]
    },
    {
      "cell_type": "markdown",
      "source": [
        "### **YIELD FOR**"
      ],
      "metadata": {
        "id": "hRn3WWyqIIHJ"
      }
    },
    {
      "cell_type": "code",
      "source": [
        "elementos = list(range(1,100))\n",
        "print(elementos)"
      ],
      "metadata": {
        "colab": {
          "base_uri": "https://localhost:8080/"
        },
        "id": "ucHpl3eAsN8K",
        "outputId": "55d9bca9-066e-43b3-f47b-25aa65438d1c"
      },
      "execution_count": 28,
      "outputs": [
        {
          "output_type": "stream",
          "name": "stdout",
          "text": [
            "[1, 2, 3, 4, 5, 6, 7, 8, 9, 10, 11, 12, 13, 14, 15, 16, 17, 18, 19, 20, 21, 22, 23, 24, 25, 26, 27, 28, 29, 30, 31, 32, 33, 34, 35, 36, 37, 38, 39, 40, 41, 42, 43, 44, 45, 46, 47, 48, 49, 50, 51, 52, 53, 54, 55, 56, 57, 58, 59, 60, 61, 62, 63, 64, 65, 66, 67, 68, 69, 70, 71, 72, 73, 74, 75, 76, 77, 78, 79, 80, 81, 82, 83, 84, 85, 86, 87, 88, 89, 90, 91, 92, 93, 94, 95, 96, 97, 98, 99]\n"
          ]
        }
      ]
    },
    {
      "cell_type": "code",
      "source": [
        "def ejecutar(elementos):\n",
        "  for elemento in elementos:\n",
        "    yield elemento\n",
        "\n",
        "for resultado in ejecutar(elementos):\n",
        "  print(\"type : \", type(resultado))\n",
        "  print(\"valor : \", resultado)\n"
      ],
      "metadata": {
        "colab": {
          "base_uri": "https://localhost:8080/"
        },
        "id": "colL42S9tCaU",
        "outputId": "720fc56f-ec7c-4714-d54e-c2572a9182a2"
      },
      "execution_count": 29,
      "outputs": [
        {
          "output_type": "stream",
          "name": "stdout",
          "text": [
            "type :  <class 'int'>\n",
            "valor :  1\n",
            "type :  <class 'int'>\n",
            "valor :  2\n",
            "type :  <class 'int'>\n",
            "valor :  3\n",
            "type :  <class 'int'>\n",
            "valor :  4\n",
            "type :  <class 'int'>\n",
            "valor :  5\n",
            "type :  <class 'int'>\n",
            "valor :  6\n",
            "type :  <class 'int'>\n",
            "valor :  7\n",
            "type :  <class 'int'>\n",
            "valor :  8\n",
            "type :  <class 'int'>\n",
            "valor :  9\n",
            "type :  <class 'int'>\n",
            "valor :  10\n",
            "type :  <class 'int'>\n",
            "valor :  11\n",
            "type :  <class 'int'>\n",
            "valor :  12\n",
            "type :  <class 'int'>\n",
            "valor :  13\n",
            "type :  <class 'int'>\n",
            "valor :  14\n",
            "type :  <class 'int'>\n",
            "valor :  15\n",
            "type :  <class 'int'>\n",
            "valor :  16\n",
            "type :  <class 'int'>\n",
            "valor :  17\n",
            "type :  <class 'int'>\n",
            "valor :  18\n",
            "type :  <class 'int'>\n",
            "valor :  19\n",
            "type :  <class 'int'>\n",
            "valor :  20\n",
            "type :  <class 'int'>\n",
            "valor :  21\n",
            "type :  <class 'int'>\n",
            "valor :  22\n",
            "type :  <class 'int'>\n",
            "valor :  23\n",
            "type :  <class 'int'>\n",
            "valor :  24\n",
            "type :  <class 'int'>\n",
            "valor :  25\n",
            "type :  <class 'int'>\n",
            "valor :  26\n",
            "type :  <class 'int'>\n",
            "valor :  27\n",
            "type :  <class 'int'>\n",
            "valor :  28\n",
            "type :  <class 'int'>\n",
            "valor :  29\n",
            "type :  <class 'int'>\n",
            "valor :  30\n",
            "type :  <class 'int'>\n",
            "valor :  31\n",
            "type :  <class 'int'>\n",
            "valor :  32\n",
            "type :  <class 'int'>\n",
            "valor :  33\n",
            "type :  <class 'int'>\n",
            "valor :  34\n",
            "type :  <class 'int'>\n",
            "valor :  35\n",
            "type :  <class 'int'>\n",
            "valor :  36\n",
            "type :  <class 'int'>\n",
            "valor :  37\n",
            "type :  <class 'int'>\n",
            "valor :  38\n",
            "type :  <class 'int'>\n",
            "valor :  39\n",
            "type :  <class 'int'>\n",
            "valor :  40\n",
            "type :  <class 'int'>\n",
            "valor :  41\n",
            "type :  <class 'int'>\n",
            "valor :  42\n",
            "type :  <class 'int'>\n",
            "valor :  43\n",
            "type :  <class 'int'>\n",
            "valor :  44\n",
            "type :  <class 'int'>\n",
            "valor :  45\n",
            "type :  <class 'int'>\n",
            "valor :  46\n",
            "type :  <class 'int'>\n",
            "valor :  47\n",
            "type :  <class 'int'>\n",
            "valor :  48\n",
            "type :  <class 'int'>\n",
            "valor :  49\n",
            "type :  <class 'int'>\n",
            "valor :  50\n",
            "type :  <class 'int'>\n",
            "valor :  51\n",
            "type :  <class 'int'>\n",
            "valor :  52\n",
            "type :  <class 'int'>\n",
            "valor :  53\n",
            "type :  <class 'int'>\n",
            "valor :  54\n",
            "type :  <class 'int'>\n",
            "valor :  55\n",
            "type :  <class 'int'>\n",
            "valor :  56\n",
            "type :  <class 'int'>\n",
            "valor :  57\n",
            "type :  <class 'int'>\n",
            "valor :  58\n",
            "type :  <class 'int'>\n",
            "valor :  59\n",
            "type :  <class 'int'>\n",
            "valor :  60\n",
            "type :  <class 'int'>\n",
            "valor :  61\n",
            "type :  <class 'int'>\n",
            "valor :  62\n",
            "type :  <class 'int'>\n",
            "valor :  63\n",
            "type :  <class 'int'>\n",
            "valor :  64\n",
            "type :  <class 'int'>\n",
            "valor :  65\n",
            "type :  <class 'int'>\n",
            "valor :  66\n",
            "type :  <class 'int'>\n",
            "valor :  67\n",
            "type :  <class 'int'>\n",
            "valor :  68\n",
            "type :  <class 'int'>\n",
            "valor :  69\n",
            "type :  <class 'int'>\n",
            "valor :  70\n",
            "type :  <class 'int'>\n",
            "valor :  71\n",
            "type :  <class 'int'>\n",
            "valor :  72\n",
            "type :  <class 'int'>\n",
            "valor :  73\n",
            "type :  <class 'int'>\n",
            "valor :  74\n",
            "type :  <class 'int'>\n",
            "valor :  75\n",
            "type :  <class 'int'>\n",
            "valor :  76\n",
            "type :  <class 'int'>\n",
            "valor :  77\n",
            "type :  <class 'int'>\n",
            "valor :  78\n",
            "type :  <class 'int'>\n",
            "valor :  79\n",
            "type :  <class 'int'>\n",
            "valor :  80\n",
            "type :  <class 'int'>\n",
            "valor :  81\n",
            "type :  <class 'int'>\n",
            "valor :  82\n",
            "type :  <class 'int'>\n",
            "valor :  83\n",
            "type :  <class 'int'>\n",
            "valor :  84\n",
            "type :  <class 'int'>\n",
            "valor :  85\n",
            "type :  <class 'int'>\n",
            "valor :  86\n",
            "type :  <class 'int'>\n",
            "valor :  87\n",
            "type :  <class 'int'>\n",
            "valor :  88\n",
            "type :  <class 'int'>\n",
            "valor :  89\n",
            "type :  <class 'int'>\n",
            "valor :  90\n",
            "type :  <class 'int'>\n",
            "valor :  91\n",
            "type :  <class 'int'>\n",
            "valor :  92\n",
            "type :  <class 'int'>\n",
            "valor :  93\n",
            "type :  <class 'int'>\n",
            "valor :  94\n",
            "type :  <class 'int'>\n",
            "valor :  95\n",
            "type :  <class 'int'>\n",
            "valor :  96\n",
            "type :  <class 'int'>\n",
            "valor :  97\n",
            "type :  <class 'int'>\n",
            "valor :  98\n",
            "type :  <class 'int'>\n",
            "valor :  99\n"
          ]
        }
      ]
    },
    {
      "cell_type": "code",
      "source": [
        "import time\n",
        "\n",
        "# Función que implementa un bucle normal\n",
        "def bucle_normal(n):\n",
        "    resultado = []\n",
        "    for i in range(n):\n",
        "        resultado.append(i)\n",
        "    return resultado\n",
        "\n",
        "# Generador que utiliza yield\n",
        "def generador_con_yield(n):\n",
        "    for i in range(n):\n",
        "        yield i\n",
        "\n",
        "# Número de iteraciones\n",
        "n = 1000000\n",
        "\n",
        "# Rendimiento del bucle normal\n",
        "inicio = time.time()\n",
        "bucle_normal(n)\n",
        "fin = time.time()\n",
        "tiempo_bucle_normal = fin - inicio\n",
        "\n",
        "# Rendimiento del generador con yield\n",
        "inicio = time.time()\n",
        "list(generador_con_yield(n))\n",
        "fin = time.time()\n",
        "tiempo_generador_con_yield = fin - inicio\n",
        "\n",
        "# Comparaciones\n",
        "print(\"tiempo del bucle normal:\", tiempo_bucle_normal)\n",
        "print(\"tiempo del generador con yield:\", tiempo_generador_con_yield)"
      ],
      "metadata": {
        "colab": {
          "base_uri": "https://localhost:8080/"
        },
        "id": "-gU5c6BRsN5t",
        "outputId": "43ff8429-15ff-4898-8f44-fa8ad98d8755"
      },
      "execution_count": 30,
      "outputs": [
        {
          "output_type": "stream",
          "name": "stdout",
          "text": [
            "tiempo del bucle normal: 0.05729484558105469\n",
            "tiempo del generador con yield: 0.0443727970123291\n"
          ]
        }
      ]
    },
    {
      "cell_type": "code",
      "source": [
        "normal = 0.0894923210144043\n",
        "optimized = 0.0693657398223877\n",
        "round(((normal - optimized)  /normal) * 100,2)"
      ],
      "metadata": {
        "colab": {
          "base_uri": "https://localhost:8080/"
        },
        "id": "S97OaGekthWk",
        "outputId": "5d2d88f0-3169-4662-fd4f-9734ec0ff0ed"
      },
      "execution_count": 31,
      "outputs": [
        {
          "output_type": "execute_result",
          "data": {
            "text/plain": [
              "22.49"
            ]
          },
          "metadata": {},
          "execution_count": 31
        }
      ]
    }
  ]
}