{
 "cells": [
  {
   "cell_type": "code",
   "execution_count": 1,
   "metadata": {
    "ExecuteTime": {
     "end_time": "2018-10-17T10:04:21.149882Z",
     "start_time": "2018-10-17T10:04:20.772464Z"
    }
   },
   "outputs": [],
   "source": [
    "import torch\n",
    "import psroi_align_cuda"
   ]
  },
  {
   "cell_type": "code",
   "execution_count": 2,
   "metadata": {
    "ExecuteTime": {
     "end_time": "2018-10-17T10:07:02.831358Z",
     "start_time": "2018-10-17T10:07:02.829551Z"
    }
   },
   "outputs": [],
   "source": [
    "from psroi_align import PSRoIAlignFunction\n",
    "from torch.autograd import gradcheck"
   ]
  },
  {
   "cell_type": "code",
   "execution_count": 3,
   "metadata": {
    "ExecuteTime": {
     "end_time": "2018-10-17T10:07:27.987841Z",
     "start_time": "2018-10-17T10:07:27.986134Z"
    }
   },
   "outputs": [],
   "source": [
    "from psroi_align import PSRoIAlign"
   ]
  },
  {
   "cell_type": "code",
   "execution_count": 4,
   "metadata": {
    "ExecuteTime": {
     "end_time": "2018-10-17T10:06:36.370599Z",
     "start_time": "2018-10-17T10:06:36.368635Z"
    }
   },
   "outputs": [],
   "source": [
    "roi_size = 3\n",
    "pooled_dim = 2\n",
    "sampling_ratio = 2"
   ]
  },
  {
   "cell_type": "code",
   "execution_count": 5,
   "metadata": {
    "ExecuteTime": {
     "end_time": "2018-10-17T10:07:29.323331Z",
     "start_time": "2018-10-17T10:07:29.321240Z"
    }
   },
   "outputs": [],
   "source": [
    "crop_layer = PSRoIAlign(1/16., roi_size, sampling_ratio, pooled_dim)"
   ]
  },
  {
   "cell_type": "code",
   "execution_count": 6,
   "metadata": {
    "ExecuteTime": {
     "end_time": "2018-10-17T10:06:46.551484Z",
     "start_time": "2018-10-17T10:06:43.169045Z"
    }
   },
   "outputs": [],
   "source": [
    "bottom_data = torch.rand([1,pooled_dim * roi_size * roi_size, 20, 20]).cuda()\n",
    "bottom_data.requires_grad = True\n",
    "bottom_rois = torch.tensor([[20., 20., 180., 180.], [30., 30., 250., 210.]]).cuda()\n",
    "top_data = torch.zeros(2,pooled_dim,roi_size,roi_size).cuda()\n",
    "argmax_data = torch.zeros([2,pooled_dim,roi_size,roi_size], dtype=torch.int32).cuda()"
   ]
  },
  {
   "cell_type": "code",
   "execution_count": 7,
   "metadata": {
    "ExecuteTime": {
     "end_time": "2018-10-17T09:42:50.220050Z",
     "start_time": "2018-10-17T09:42:50.165343Z"
    }
   },
   "outputs": [],
   "source": [
    "top_data = crop_layer(bottom_data, bottom_rois)"
   ]
  },
  {
   "cell_type": "code",
   "execution_count": 8,
   "metadata": {},
   "outputs": [
    {
     "data": {
      "text/plain": [
       "torch.Size([2, 2, 3, 3])"
      ]
     },
     "execution_count": 8,
     "metadata": {},
     "output_type": "execute_result"
    }
   ],
   "source": [
    "top_data.shape"
   ]
  },
  {
   "cell_type": "code",
   "execution_count": 9,
   "metadata": {},
   "outputs": [],
   "source": [
    "top_data = top_data.view(4,9)"
   ]
  },
  {
   "cell_type": "code",
   "execution_count": 10,
   "metadata": {},
   "outputs": [
    {
     "data": {
      "text/plain": [
       "torch.Size([4, 9])"
      ]
     },
     "execution_count": 10,
     "metadata": {},
     "output_type": "execute_result"
    }
   ],
   "source": [
    "top_data.shape"
   ]
  },
  {
   "cell_type": "code",
   "execution_count": 11,
   "metadata": {},
   "outputs": [],
   "source": [
    "l = torch.nn.Linear(9,2,False).cuda()"
   ]
  },
  {
   "cell_type": "code",
   "execution_count": 12,
   "metadata": {},
   "outputs": [],
   "source": [
    "l1 = l(top_data)"
   ]
  },
  {
   "cell_type": "code",
   "execution_count": null,
   "metadata": {},
   "outputs": [],
   "source": []
  },
  {
   "cell_type": "code",
   "execution_count": 13,
   "metadata": {},
   "outputs": [],
   "source": [
    "loss = torch.nn.functional.cross_entropy(l1, torch.randint(2, (4,), dtype=torch.int64).cuda())"
   ]
  },
  {
   "cell_type": "code",
   "execution_count": 14,
   "metadata": {},
   "outputs": [],
   "source": [
    "loss *= 1000"
   ]
  },
  {
   "cell_type": "code",
   "execution_count": 15,
   "metadata": {},
   "outputs": [
    {
     "ename": "AttributeError",
     "evalue": "'NoneType' object has no attribute 'sum'",
     "output_type": "error",
     "traceback": [
      "\u001b[0;31m---------------------------------------------------------------------------\u001b[0m",
      "\u001b[0;31mAttributeError\u001b[0m                            Traceback (most recent call last)",
      "\u001b[0;32m<ipython-input-15-393b8ad812ad>\u001b[0m in \u001b[0;36m<module>\u001b[0;34m\u001b[0m\n\u001b[0;32m----> 1\u001b[0;31m \u001b[0mbottom_data\u001b[0m\u001b[0;34m.\u001b[0m\u001b[0mgrad\u001b[0m\u001b[0;34m.\u001b[0m\u001b[0msum\u001b[0m\u001b[0;34m(\u001b[0m\u001b[0;34m)\u001b[0m\u001b[0;34m\u001b[0m\u001b[0m\n\u001b[0m",
      "\u001b[0;31mAttributeError\u001b[0m: 'NoneType' object has no attribute 'sum'"
     ]
    }
   ],
   "source": [
    "bottom_data.grad.sum()"
   ]
  },
  {
   "cell_type": "code",
   "execution_count": 16,
   "metadata": {},
   "outputs": [],
   "source": [
    "loss.backward()"
   ]
  },
  {
   "cell_type": "code",
   "execution_count": 17,
   "metadata": {},
   "outputs": [
    {
     "data": {
      "text/plain": [
       "tensor(39.3232, device='cuda:0')"
      ]
     },
     "execution_count": 17,
     "metadata": {},
     "output_type": "execute_result"
    }
   ],
   "source": [
    "bottom_data.grad.max()"
   ]
  },
  {
   "cell_type": "code",
   "execution_count": null,
   "metadata": {},
   "outputs": [],
   "source": []
  },
  {
   "cell_type": "code",
   "execution_count": null,
   "metadata": {},
   "outputs": [],
   "source": []
  },
  {
   "cell_type": "code",
   "execution_count": null,
   "metadata": {
    "ExecuteTime": {
     "end_time": "2018-10-17T09:42:58.622174Z",
     "start_time": "2018-10-17T09:42:58.616722Z"
    }
   },
   "outputs": [],
   "source": [
    "bottom_data.grad.sum()"
   ]
  },
  {
   "cell_type": "code",
   "execution_count": null,
   "metadata": {
    "ExecuteTime": {
     "end_time": "2018-10-17T09:43:11.233358Z",
     "start_time": "2018-10-17T09:43:11.231621Z"
    }
   },
   "outputs": [],
   "source": [
    "psroialign = PSRoIAlignFunction(0.0625, roi_size, sampling_ratio, pooled_dim)"
   ]
  },
  {
   "cell_type": "code",
   "execution_count": null,
   "metadata": {
    "ExecuteTime": {
     "end_time": "2018-10-17T09:43:13.490438Z",
     "start_time": "2018-10-17T09:43:13.488487Z"
    }
   },
   "outputs": [],
   "source": []
  },
  {
   "cell_type": "code",
   "execution_count": null,
   "metadata": {
    "ExecuteTime": {
     "end_time": "2018-10-16T08:14:57.574731Z",
     "start_time": "2018-10-16T08:14:57.572007Z"
    }
   },
   "outputs": [],
   "source": [
    "torch.abs(bottom_data).max().item()/500"
   ]
  },
  {
   "cell_type": "code",
   "execution_count": null,
   "metadata": {
    "ExecuteTime": {
     "end_time": "2018-10-17T10:07:10.608556Z",
     "start_time": "2018-10-17T10:07:06.159861Z"
    }
   },
   "outputs": [],
   "source": [
    "gradcheck(PSRoIAlignFunction.apply, (bottom_data, bottom_rois, 1/16., roi_size, sampling_ratio, pooled_dim), eps=torch.abs(bottom_data).max().item()/500)"
   ]
  },
  {
   "cell_type": "code",
   "execution_count": null,
   "metadata": {
    "ExecuteTime": {
     "end_time": "2018-10-17T10:07:10.608556Z",
     "start_time": "2018-10-17T10:07:06.159861Z"
    }
   },
   "outputs": [],
   "source": [
    "gradcheck(PSRoIAlignFunction.apply, (bottom_data, bottom_rois, 1/16., roi_size, sampling_ratio, pooled_dim), atol=1e-3, eps=1e-3)"
   ]
  },
  {
   "cell_type": "code",
   "execution_count": 18,
   "metadata": {
    "ExecuteTime": {
     "end_time": "2018-10-17T10:07:58.433400Z",
     "start_time": "2018-10-17T10:07:54.539189Z"
    }
   },
   "outputs": [
    {
     "name": "stderr",
     "output_type": "stream",
     "text": [
      "/home/f/anaconda3/lib/python3.6/site-packages/torch/autograd/gradcheck.py:179: UserWarning: At least one of the inputs that requires gradient is not of double precision floating point. This check will likely fail if all the inputs are not of double precision floating point. \n",
      "  'At least one of the inputs that requires gradient '\n"
     ]
    },
    {
     "data": {
      "text/plain": [
       "True"
      ]
     },
     "execution_count": 18,
     "metadata": {},
     "output_type": "execute_result"
    }
   ],
   "source": [
    "gradcheck(crop_layer.forward, (bottom_data, bottom_rois), atol=1e-3, eps=1e-3)"
   ]
  },
  {
   "cell_type": "code",
   "execution_count": null,
   "metadata": {
    "ExecuteTime": {
     "end_time": "2018-10-15T17:52:38.140114Z",
     "start_time": "2018-10-15T17:52:38.135358Z"
    }
   },
   "outputs": [],
   "source": [
    "top_data_ = psroialign(bottom_data, bottom_rois)"
   ]
  },
  {
   "cell_type": "code",
   "execution_count": null,
   "metadata": {
    "ExecuteTime": {
     "end_time": "2018-10-15T17:52:38.885655Z",
     "start_time": "2018-10-15T17:52:38.882079Z"
    }
   },
   "outputs": [],
   "source": [
    "torch.sum(torch.abs(top_data_))"
   ]
  },
  {
   "cell_type": "code",
   "execution_count": null,
   "metadata": {},
   "outputs": [],
   "source": []
  },
  {
   "cell_type": "code",
   "execution_count": null,
   "metadata": {
    "ExecuteTime": {
     "end_time": "2018-10-15T17:53:07.351853Z",
     "start_time": "2018-10-15T17:53:07.349209Z"
    }
   },
   "outputs": [],
   "source": [
    "out = torch.sum(top_data_)"
   ]
  },
  {
   "cell_type": "code",
   "execution_count": null,
   "metadata": {
    "ExecuteTime": {
     "end_time": "2018-10-15T17:53:32.013572Z",
     "start_time": "2018-10-15T17:53:32.004697Z"
    }
   },
   "outputs": [],
   "source": [
    "out.backward(top_diff)"
   ]
  },
  {
   "cell_type": "code",
   "execution_count": null,
   "metadata": {
    "ExecuteTime": {
     "end_time": "2018-10-15T17:53:38.082035Z",
     "start_time": "2018-10-15T17:53:38.079064Z"
    }
   },
   "outputs": [],
   "source": [
    "bottom_data.grad.sum()"
   ]
  },
  {
   "cell_type": "code",
   "execution_count": null,
   "metadata": {
    "ExecuteTime": {
     "end_time": "2018-10-15T17:48:49.595600Z",
     "start_time": "2018-10-15T17:48:49.592403Z"
    }
   },
   "outputs": [],
   "source": [
    "torch.sum(torch.abs(bottom_data.grad))"
   ]
  },
  {
   "cell_type": "code",
   "execution_count": null,
   "metadata": {},
   "outputs": [],
   "source": [
    "argmax_data.device"
   ]
  },
  {
   "cell_type": "code",
   "execution_count": null,
   "metadata": {
    "ExecuteTime": {
     "end_time": "2018-10-15T14:25:15.260395Z",
     "start_time": "2018-10-15T14:25:15.213719Z"
    }
   },
   "outputs": [],
   "source": [
    "psroi_align_cuda.forward(bottom_data, bottom_rois, top_data, argmax_data, 0.0625, roi_size, sampling_ratio)"
   ]
  },
  {
   "cell_type": "code",
   "execution_count": null,
   "metadata": {},
   "outputs": [],
   "source": []
  },
  {
   "cell_type": "code",
   "execution_count": null,
   "metadata": {
    "ExecuteTime": {
     "end_time": "2018-10-15T17:52:02.948565Z",
     "start_time": "2018-10-15T17:52:02.944658Z"
    }
   },
   "outputs": [],
   "source": [
    "top_clone = top_data.clone()"
   ]
  },
  {
   "cell_type": "code",
   "execution_count": null,
   "metadata": {
    "ExecuteTime": {
     "end_time": "2018-10-15T17:52:07.878396Z",
     "start_time": "2018-10-15T17:52:07.873229Z"
    }
   },
   "outputs": [],
   "source": [
    "r = psroi_align_cuda.forward(bottom_data.clone(), bottom_rois.clone(), top_clone, argmax_data.clone(), 0.0625, roi_size, sampling_ratio)"
   ]
  },
  {
   "cell_type": "code",
   "execution_count": null,
   "metadata": {
    "ExecuteTime": {
     "end_time": "2018-10-15T17:52:21.030837Z",
     "start_time": "2018-10-15T17:52:21.024903Z"
    }
   },
   "outputs": [],
   "source": [
    "torch.sum(torch.abs(top_clone))"
   ]
  },
  {
   "cell_type": "code",
   "execution_count": null,
   "metadata": {
    "ExecuteTime": {
     "end_time": "2018-10-15T17:35:17.409682Z",
     "start_time": "2018-10-15T17:35:17.407150Z"
    }
   },
   "outputs": [],
   "source": [
    "r[1].shape"
   ]
  },
  {
   "cell_type": "code",
   "execution_count": null,
   "metadata": {
    "ExecuteTime": {
     "end_time": "2018-10-15T14:22:01.668187Z",
     "start_time": "2018-10-15T14:22:01.661277Z"
    }
   },
   "outputs": [],
   "source": [
    "top_data.shape"
   ]
  },
  {
   "cell_type": "code",
   "execution_count": null,
   "metadata": {
    "ExecuteTime": {
     "end_time": "2018-10-15T17:38:53.678925Z",
     "start_time": "2018-10-15T17:38:53.662275Z"
    }
   },
   "outputs": [],
   "source": [
    "argmax_data"
   ]
  },
  {
   "cell_type": "code",
   "execution_count": null,
   "metadata": {
    "ExecuteTime": {
     "end_time": "2018-10-15T17:38:48.532614Z",
     "start_time": "2018-10-15T17:38:48.523374Z"
    }
   },
   "outputs": [],
   "source": [
    "top_data[0]"
   ]
  },
  {
   "cell_type": "code",
   "execution_count": null,
   "metadata": {
    "ExecuteTime": {
     "end_time": "2018-10-15T17:53:24.165249Z",
     "start_time": "2018-10-15T17:53:24.163072Z"
    }
   },
   "outputs": [],
   "source": [
    "top_diff = torch.rand_like(top_data).cuda()\n",
    "bottom_diff = torch.zeros_like(bottom_data).cuda()"
   ]
  },
  {
   "cell_type": "code",
   "execution_count": null,
   "metadata": {
    "ExecuteTime": {
     "end_time": "2018-10-15T14:22:14.836839Z",
     "start_time": "2018-10-15T14:22:14.834699Z"
    }
   },
   "outputs": [],
   "source": [
    "top_diff.shape"
   ]
  },
  {
   "cell_type": "code",
   "execution_count": null,
   "metadata": {
    "ExecuteTime": {
     "end_time": "2018-10-15T14:22:22.080256Z",
     "start_time": "2018-10-15T14:22:22.078097Z"
    }
   },
   "outputs": [],
   "source": [
    "bottom_diff.shape"
   ]
  },
  {
   "cell_type": "code",
   "execution_count": null,
   "metadata": {
    "ExecuteTime": {
     "end_time": "2018-10-15T11:20:17.477851Z",
     "start_time": "2018-10-15T11:20:17.474300Z"
    }
   },
   "outputs": [],
   "source": [
    "argmax_data.shape"
   ]
  },
  {
   "cell_type": "code",
   "execution_count": null,
   "metadata": {
    "ExecuteTime": {
     "end_time": "2018-10-15T11:20:21.720083Z",
     "start_time": "2018-10-15T11:20:21.717415Z"
    }
   },
   "outputs": [],
   "source": [
    "top_diff.shape"
   ]
  },
  {
   "cell_type": "code",
   "execution_count": null,
   "metadata": {
    "ExecuteTime": {
     "end_time": "2018-10-15T14:25:23.009989Z",
     "start_time": "2018-10-15T14:25:23.007985Z"
    },
    "scrolled": false
   },
   "outputs": [],
   "source": [
    "psroi_align_cuda.backward(top_diff, argmax_data, bottom_rois, bottom_diff, 0.0625, 3, 2)"
   ]
  },
  {
   "cell_type": "code",
   "execution_count": null,
   "metadata": {},
   "outputs": [],
   "source": [
    "bottom_diff[0][2]"
   ]
  },
  {
   "cell_type": "code",
   "execution_count": null,
   "metadata": {},
   "outputs": [],
   "source": [
    "bottom_diff.sum()"
   ]
  },
  {
   "cell_type": "code",
   "execution_count": null,
   "metadata": {},
   "outputs": [],
   "source": []
  },
  {
   "cell_type": "code",
   "execution_count": null,
   "metadata": {
    "ExecuteTime": {
     "end_time": "2018-10-15T14:26:43.282643Z",
     "start_time": "2018-10-15T14:26:43.277144Z"
    }
   },
   "outputs": [],
   "source": [
    "torch.mean(torch.abs(grad[0][0,0])) "
   ]
  },
  {
   "cell_type": "code",
   "execution_count": null,
   "metadata": {
    "ExecuteTime": {
     "end_time": "2018-10-15T14:28:21.571608Z",
     "start_time": "2018-10-15T14:28:21.566119Z"
    }
   },
   "outputs": [],
   "source": [
    "torch.sum(torch.abs(bottom_diff[0,0])) "
   ]
  },
  {
   "cell_type": "code",
   "execution_count": null,
   "metadata": {
    "ExecuteTime": {
     "end_time": "2018-10-15T14:27:22.474865Z",
     "start_time": "2018-10-15T14:27:22.472266Z"
    }
   },
   "outputs": [],
   "source": [
    "grad[0].shape"
   ]
  },
  {
   "cell_type": "code",
   "execution_count": null,
   "metadata": {
    "ExecuteTime": {
     "end_time": "2018-10-15T14:27:38.821281Z",
     "start_time": "2018-10-15T14:27:38.818991Z"
    }
   },
   "outputs": [],
   "source": [
    "bottom_diff.shape"
   ]
  },
  {
   "cell_type": "code",
   "execution_count": null,
   "metadata": {
    "ExecuteTime": {
     "end_time": "2018-10-15T14:27:40.152385Z",
     "start_time": "2018-10-15T14:27:40.147061Z"
    }
   },
   "outputs": [],
   "source": [
    "torch.sum(torch.abs(bottom_diff))"
   ]
  },
  {
   "cell_type": "code",
   "execution_count": null,
   "metadata": {
    "ExecuteTime": {
     "end_time": "2018-10-15T14:27:49.313322Z",
     "start_time": "2018-10-15T14:27:49.310451Z"
    }
   },
   "outputs": [],
   "source": [
    "torch.sum(torch.abs(grad[0]))"
   ]
  },
  {
   "cell_type": "code",
   "execution_count": null,
   "metadata": {},
   "outputs": [],
   "source": []
  },
  {
   "cell_type": "code",
   "execution_count": null,
   "metadata": {},
   "outputs": [],
   "source": []
  },
  {
   "cell_type": "code",
   "execution_count": null,
   "metadata": {},
   "outputs": [],
   "source": []
  },
  {
   "cell_type": "code",
   "execution_count": null,
   "metadata": {
    "ExecuteTime": {
     "end_time": "2018-10-15T11:15:35.700678Z",
     "start_time": "2018-10-15T11:15:31.654Z"
    }
   },
   "outputs": [],
   "source": [
    "a.shape"
   ]
  },
  {
   "cell_type": "code",
   "execution_count": null,
   "metadata": {
    "ExecuteTime": {
     "end_time": "2018-10-15T11:15:35.701164Z",
     "start_time": "2018-10-15T11:15:31.656Z"
    }
   },
   "outputs": [],
   "source": [
    "b.shape"
   ]
  },
  {
   "cell_type": "code",
   "execution_count": null,
   "metadata": {
    "ExecuteTime": {
     "end_time": "2018-10-15T11:15:35.701674Z",
     "start_time": "2018-10-15T11:15:31.657Z"
    }
   },
   "outputs": [],
   "source": [
    "argmax_data.shape"
   ]
  },
  {
   "cell_type": "code",
   "execution_count": null,
   "metadata": {
    "ExecuteTime": {
     "end_time": "2018-10-15T11:15:35.702202Z",
     "start_time": "2018-10-15T11:15:31.659Z"
    }
   },
   "outputs": [],
   "source": [
    "argmax_data[0]"
   ]
  },
  {
   "cell_type": "code",
   "execution_count": null,
   "metadata": {
    "ExecuteTime": {
     "end_time": "2018-10-15T11:15:35.702717Z",
     "start_time": "2018-10-15T11:15:31.662Z"
    }
   },
   "outputs": [],
   "source": [
    "argmax_data[1]"
   ]
  },
  {
   "cell_type": "code",
   "execution_count": null,
   "metadata": {
    "ExecuteTime": {
     "end_time": "2018-10-15T11:15:35.703273Z",
     "start_time": "2018-10-15T11:15:31.666Z"
    }
   },
   "outputs": [],
   "source": [
    "top_data_cpu, argmax_data_cpu = forward_cpu(bottom_data.cpu().numpy(), bottom_rois.cpu().numpy(), 10, 3, 3, 3, 0.0625, 2) "
   ]
  },
  {
   "cell_type": "code",
   "execution_count": null,
   "metadata": {
    "ExecuteTime": {
     "end_time": "2018-10-15T11:15:35.703787Z",
     "start_time": "2018-10-15T11:15:31.668Z"
    }
   },
   "outputs": [],
   "source": [
    "top_data_cpu"
   ]
  },
  {
   "cell_type": "code",
   "execution_count": null,
   "metadata": {
    "ExecuteTime": {
     "end_time": "2018-10-15T11:15:35.704279Z",
     "start_time": "2018-10-15T11:15:31.670Z"
    }
   },
   "outputs": [],
   "source": [
    "np.sum(np.abs(top_data.cpu().numpy() - top_data_cpu))"
   ]
  },
  {
   "cell_type": "code",
   "execution_count": null,
   "metadata": {
    "ExecuteTime": {
     "end_time": "2018-10-15T11:15:35.704810Z",
     "start_time": "2018-10-15T11:15:31.671Z"
    }
   },
   "outputs": [],
   "source": [
    "np.sum(np.abs(argmax_data.cpu().numpy() - argmax_data_cpu))"
   ]
  },
  {
   "cell_type": "code",
   "execution_count": null,
   "metadata": {},
   "outputs": [],
   "source": []
  },
  {
   "cell_type": "code",
   "execution_count": null,
   "metadata": {
    "ExecuteTime": {
     "end_time": "2018-10-15T14:31:54.336401Z",
     "start_time": "2018-10-15T14:31:54.071742Z"
    }
   },
   "outputs": [],
   "source": [
    "import numpy as np\n",
    "import six\n",
    "def forward_cpu(bottom_data, bottom_rois, pooled_dim, pooled_width, pooled_height, group_size, spatial_scale, sampling_ratio):\n",
    "    _bottom_data_shape = bottom_data.shape\n",
    "    print('bottom_data.shape : {}'.format(bottom_data.shape))\n",
    "    print('bottom_rois.shape : {}'.format(bottom_rois.shape))\n",
    "    channels, height, width = bottom_data.shape[1:]\n",
    "    print('channels : {}, height : {}, width : {}'.format(channels, height, width))\n",
    "    n_roi = bottom_rois.shape[0]\n",
    "    print('n_roi : {}'.format(sampling_ratio))\n",
    "    top_data = np.empty((n_roi, pooled_dim, pooled_height, pooled_width), dtype=np.float32)\n",
    "    argmax_data = np.empty(top_data.shape, dtype=np.int32)\n",
    "\n",
    "    for i in six.moves.range(top_data.size):\n",
    "        pw = i % pooled_width\n",
    "        ph = int(i / pooled_width) % pooled_height\n",
    "        ctop = int(i / pooled_width / pooled_height) % pooled_dim\n",
    "        n = int(i / pooled_width / pooled_height / pooled_dim)\n",
    "\n",
    "        roi_start_h = bottom_rois[n, 0] * spatial_scale\n",
    "        roi_start_w = bottom_rois[n, 1] * spatial_scale\n",
    "        roi_end_h = bottom_rois[n, 2] * spatial_scale\n",
    "        roi_end_w = bottom_rois[n, 3] * spatial_scale\n",
    "\n",
    "        roi_height = max(roi_end_h - roi_start_h, 1.)\n",
    "        roi_width = max(roi_end_w - roi_start_w, 1.)\n",
    "        bin_size_h = 1. * roi_height / pooled_height\n",
    "        bin_size_w = 1. * roi_width / pooled_width\n",
    "\n",
    "        gh = np.floor(float(ph) * group_size / pooled_height)\n",
    "        gw = np.floor(float(pw) * group_size / pooled_width)\n",
    "        gh = int(min(max(gh, 0), group_size - 1))\n",
    "        gw = int(min(max(gw, 0), group_size - 1))\n",
    "        c = (ctop * group_size + gh) * group_size + gw\n",
    "\n",
    "        if sampling_ratio > 0:\n",
    "            roi_bin_grid_h = sampling_ratio\n",
    "            roi_bin_grid_w = sampling_ratio\n",
    "        else:\n",
    "            roi_bin_grid_h = np.ceil(roi_height / pooled_height)\n",
    "            roi_bin_grid_w = np.ceil(roi_width / pooled_width)\n",
    "\n",
    "        maxval = -1e20\n",
    "        maxidx = -1\n",
    "        iy = 0\n",
    "        while iy < roi_bin_grid_h:\n",
    "            y = roi_start_h + ph * bin_size_h + (iy + .5) * bin_size_h / roi_bin_grid_h\n",
    "            ix = 0\n",
    "            while ix < roi_bin_grid_w:\n",
    "                x = roi_start_w + pw * bin_size_w + (ix + .5) * bin_size_w / roi_bin_grid_w\n",
    "                # bilinear interpolation {{\n",
    "                if y < -1 or y > height or x < -1 or x > width:\n",
    "                # empty\n",
    "                    continue\n",
    "\n",
    "                if y <= 0:\n",
    "                    y = 0\n",
    "                if x <= 0:\n",
    "                    x = 0\n",
    "\n",
    "                y_low = int(y)\n",
    "                x_low = int(x)\n",
    "\n",
    "                if y_low >= height - 1:\n",
    "                    y_high = y_low = height - 1\n",
    "                    y = float(y_low)\n",
    "                else:\n",
    "                    y_high = y_low + 1\n",
    "\n",
    "                if x_low >= width - 1:\n",
    "                    x_high = x_low = width - 1\n",
    "                    x = float(x_low)\n",
    "                else:\n",
    "                    x_high = x_low + 1\n",
    "\n",
    "                ly = y - y_low\n",
    "                lx = x - x_low\n",
    "                hy = 1. - ly\n",
    "                hx = 1. - lx\n",
    "\n",
    "                v1 = bottom_data[0, c, y_low, x_low]\n",
    "                v2 = bottom_data[0, c, y_low, x_high]\n",
    "                v3 = bottom_data[0, c, y_high, x_low]\n",
    "                v4 = bottom_data[0, c, y_high, x_high]\n",
    "\n",
    "                w1 = hy * hx\n",
    "                w2 = hy * lx\n",
    "                w3 = ly * hx\n",
    "                w4 = ly * lx\n",
    "\n",
    "                tmpval = w1 * v1 + w2 * v2 + w3 * v3 + w4 * v4\n",
    "                bottom_index = iy * roi_bin_grid_w + ix\n",
    "                if (tmpval > maxval):\n",
    "                    maxval = tmpval\n",
    "                    maxidx = bottom_index\n",
    "\n",
    "                ix += 1\n",
    "            iy += 1\n",
    "\n",
    "        top_data[n, ctop, ph, pw] = maxval\n",
    "        argmax_data[n, ctop, ph, pw] = maxidx\n",
    "\n",
    "    return top_data, argmax_data"
   ]
  },
  {
   "cell_type": "code",
   "execution_count": null,
   "metadata": {},
   "outputs": [],
   "source": []
  },
  {
   "cell_type": "code",
   "execution_count": null,
   "metadata": {
    "ExecuteTime": {
     "end_time": "2018-10-15T14:42:28.835556Z",
     "start_time": "2018-10-15T14:42:28.832850Z"
    }
   },
   "outputs": [],
   "source": [
    "_bottom_data_shape = bottom_data.cpu().numpy().shape"
   ]
  },
  {
   "cell_type": "code",
   "execution_count": null,
   "metadata": {
    "ExecuteTime": {
     "end_time": "2018-10-15T14:42:43.202093Z",
     "start_time": "2018-10-15T14:42:43.199673Z"
    }
   },
   "outputs": [],
   "source": [
    "top_diff.shape"
   ]
  },
  {
   "cell_type": "code",
   "execution_count": null,
   "metadata": {
    "ExecuteTime": {
     "end_time": "2018-10-15T14:44:10.943692Z",
     "start_time": "2018-10-15T14:44:10.897030Z"
    }
   },
   "outputs": [],
   "source": [
    "bottom_diff_cpu = backward_cpu(bottom_rois.cpu().numpy(), argmax_data.cpu().numpy(), _bottom_data_shape, top_diff.cpu().numpy(), 0.0625, sampling_ratio, pooled_dim, roi_size, roi_size, roi_size)"
   ]
  },
  {
   "cell_type": "code",
   "execution_count": null,
   "metadata": {
    "ExecuteTime": {
     "end_time": "2018-10-15T14:44:22.557030Z",
     "start_time": "2018-10-15T14:44:22.554746Z"
    }
   },
   "outputs": [],
   "source": [
    "bottom_diff_cpu[0].shape"
   ]
  },
  {
   "cell_type": "code",
   "execution_count": null,
   "metadata": {
    "ExecuteTime": {
     "end_time": "2018-10-15T14:44:42.336656Z",
     "start_time": "2018-10-15T14:44:42.328819Z"
    }
   },
   "outputs": [],
   "source": [
    "np.sum(np.abs(bottom_diff_cpu[0]))"
   ]
  },
  {
   "cell_type": "code",
   "execution_count": null,
   "metadata": {},
   "outputs": [],
   "source": []
  },
  {
   "cell_type": "code",
   "execution_count": null,
   "metadata": {
    "ExecuteTime": {
     "end_time": "2018-10-15T14:39:22.538255Z",
     "start_time": "2018-10-15T14:39:22.338758Z"
    }
   },
   "outputs": [],
   "source": [
    "def backward_cpu(bottom_rois, argmax_data, _bottom_data_shape, gy, spatial_scale, sampling_ratio, out_c, out_h, out_w, group_size):\n",
    "    channels, height, width = _bottom_data_shape[1:]\n",
    "    bottom_diff = np.zeros(_bottom_data_shape, np.float32)\n",
    "\n",
    "    spatial_scale = spatial_scale\n",
    "    pooled_dim = out_c\n",
    "    pooled_height = out_h\n",
    "    pooled_width = out_w\n",
    "    group_size = group_size\n",
    "    top_diff = gy\n",
    "\n",
    "    for i in six.moves.range(top_diff.size):\n",
    "        pw = i % pooled_width\n",
    "        ph = int(i / pooled_width) % pooled_height\n",
    "        ctop = int(i / pooled_width / pooled_height) % pooled_dim\n",
    "        n = int(i / pooled_width / pooled_height / pooled_dim)\n",
    "\n",
    "        roi_start_h = bottom_rois[n, 0] * spatial_scale\n",
    "        roi_start_w = bottom_rois[n, 1] * spatial_scale\n",
    "        roi_end_h = bottom_rois[n, 2] * spatial_scale\n",
    "        roi_end_w = bottom_rois[n, 3] * spatial_scale\n",
    "\n",
    "        roi_width = max(roi_end_w - roi_start_w, 1.)\n",
    "        roi_height = max(roi_end_h - roi_start_h, 1.)\n",
    "        bin_size_h = 1. * roi_height / pooled_height\n",
    "        bin_size_w = 1. * roi_width / pooled_width\n",
    "\n",
    "        gh = np.floor(float(ph) * group_size / pooled_height)\n",
    "        gw = np.floor(float(pw) * group_size / pooled_width)\n",
    "        gh = int(min(max(gh, 0), group_size - 1))\n",
    "        gw = int(min(max(gw, 0), group_size - 1))\n",
    "        c = (ctop * group_size + gh) * group_size + gw\n",
    "\n",
    "        top_diff_this_bin = top_diff[n, ctop, ph, pw]\n",
    "\n",
    "        if sampling_ratio > 0:\n",
    "            roi_bin_grid_h = sampling_ratio\n",
    "            roi_bin_grid_w = sampling_ratio\n",
    "        else:\n",
    "            roi_bin_grid_h = np.ceil(roi_height / pooled_height)\n",
    "            roi_bin_grid_w = np.ceil(roi_width / pooled_width)\n",
    "\n",
    "        maxidx = argmax_data[n, ctop, ph, pw]\n",
    "        iy = int(maxidx / roi_bin_grid_w)\n",
    "        ix = maxidx % roi_bin_grid_w\n",
    "\n",
    "        y = roi_start_h + ph * bin_size_h + \\\n",
    "        (iy + .5) * bin_size_h / roi_bin_grid_h\n",
    "        x = roi_start_w + pw * bin_size_w + \\\n",
    "        (ix + .5) * bin_size_w / roi_bin_grid_w\n",
    "\n",
    "        # bilinear_interpolation_gradient {{\n",
    "        if y < -1 or y > height or x < -1 or x > width:\n",
    "            # empty\n",
    "            continue\n",
    "\n",
    "        if y <= 0:\n",
    "            y = 0\n",
    "        if x <= 0:\n",
    "            x = 0\n",
    "\n",
    "        y_low = int(y)\n",
    "        x_low = int(x)\n",
    "\n",
    "        if y_low >= height - 1:\n",
    "            y_high = y_low = height - 1\n",
    "            y = float(y_low)\n",
    "        else:\n",
    "            y_high = y_low + 1\n",
    "\n",
    "        if x_low >= width - 1:\n",
    "            x_high = x_low = width - 1\n",
    "            x = float(x_low)\n",
    "        else:\n",
    "            x_high = x_low + 1\n",
    "\n",
    "        ly = y - y_low\n",
    "        lx = x - x_low\n",
    "        hy = 1. - ly\n",
    "        hx = 1. - lx\n",
    "\n",
    "        w1 = hy * hx\n",
    "        w2 = hy * lx\n",
    "        w3 = ly * hx\n",
    "        w4 = ly * lx\n",
    "        # }}\n",
    "\n",
    "        g1 = top_diff_this_bin * w1\n",
    "        g2 = top_diff_this_bin * w2\n",
    "        g3 = top_diff_this_bin * w3\n",
    "        g4 = top_diff_this_bin * w4\n",
    "\n",
    "        if (x_low >= 0 and x_high >= 0 and y_low >= 0 and y_high >= 0):\n",
    "            bottom_diff[0, c, y_low, x_low] += g1\n",
    "            bottom_diff[0, c, y_low, x_high] += g2\n",
    "            bottom_diff[0, c, y_high, x_low] += g3\n",
    "            bottom_diff[0, c, y_high, x_high] += g4\n",
    "\n",
    "    return bottom_diff, None, None"
   ]
  }
 ],
 "metadata": {
  "hide_input": false,
  "kernelspec": {
   "display_name": "torch03",
   "language": "python",
   "name": "torch03"
  },
  "language_info": {
   "codemirror_mode": {
    "name": "ipython",
    "version": 3
   },
   "file_extension": ".py",
   "mimetype": "text/x-python",
   "name": "python",
   "nbconvert_exporter": "python",
   "pygments_lexer": "ipython3",
   "version": "3.6.6"
  }
 },
 "nbformat": 4,
 "nbformat_minor": 2
}
