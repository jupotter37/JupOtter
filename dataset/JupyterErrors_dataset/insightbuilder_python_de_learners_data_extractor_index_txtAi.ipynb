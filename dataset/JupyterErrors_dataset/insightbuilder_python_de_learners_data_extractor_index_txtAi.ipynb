{
  "nbformat": 4,
  "nbformat_minor": 0,
  "metadata": {
    "colab": {
      "provenance": []
    },
    "kernelspec": {
      "name": "python3",
      "display_name": "Python 3"
    },
    "language_info": {
      "name": "python"
    },
    "widgets": {
      "application/vnd.jupyter.widget-state+json": {
        "4479d0ed8ca747179fd44d49cba12aae": {
          "model_module": "@jupyter-widgets/controls",
          "model_name": "HBoxModel",
          "model_module_version": "1.5.0",
          "state": {
            "_dom_classes": [],
            "_model_module": "@jupyter-widgets/controls",
            "_model_module_version": "1.5.0",
            "_model_name": "HBoxModel",
            "_view_count": null,
            "_view_module": "@jupyter-widgets/controls",
            "_view_module_version": "1.5.0",
            "_view_name": "HBoxView",
            "box_style": "",
            "children": [
              "IPY_MODEL_805939c26f9d4af1b3de1151657d7000",
              "IPY_MODEL_3e063cab67314b67a1c910eb3f74c8b4",
              "IPY_MODEL_0d550fc3ada24eb6bc64c2349dcf95b3"
            ],
            "layout": "IPY_MODEL_2211e1a88093491295d08c4969d3fc40"
          }
        },
        "805939c26f9d4af1b3de1151657d7000": {
          "model_module": "@jupyter-widgets/controls",
          "model_name": "HTMLModel",
          "model_module_version": "1.5.0",
          "state": {
            "_dom_classes": [],
            "_model_module": "@jupyter-widgets/controls",
            "_model_module_version": "1.5.0",
            "_model_name": "HTMLModel",
            "_view_count": null,
            "_view_module": "@jupyter-widgets/controls",
            "_view_module_version": "1.5.0",
            "_view_name": "HTMLView",
            "description": "",
            "description_tooltip": null,
            "layout": "IPY_MODEL_acd32d24184f4669bcbc42a3cf968d88",
            "placeholder": "​",
            "style": "IPY_MODEL_911b534870004c7a80655d65001bdaaa",
            "value": "Downloading (…)lve/main/config.json: 100%"
          }
        },
        "3e063cab67314b67a1c910eb3f74c8b4": {
          "model_module": "@jupyter-widgets/controls",
          "model_name": "FloatProgressModel",
          "model_module_version": "1.5.0",
          "state": {
            "_dom_classes": [],
            "_model_module": "@jupyter-widgets/controls",
            "_model_module_version": "1.5.0",
            "_model_name": "FloatProgressModel",
            "_view_count": null,
            "_view_module": "@jupyter-widgets/controls",
            "_view_module_version": "1.5.0",
            "_view_name": "ProgressView",
            "bar_style": "success",
            "description": "",
            "description_tooltip": null,
            "layout": "IPY_MODEL_6915167f88f443e5b5302cabb938ce7c",
            "max": 587,
            "min": 0,
            "orientation": "horizontal",
            "style": "IPY_MODEL_2960272922b24372a7e7ab4fffcf540e",
            "value": 587
          }
        },
        "0d550fc3ada24eb6bc64c2349dcf95b3": {
          "model_module": "@jupyter-widgets/controls",
          "model_name": "HTMLModel",
          "model_module_version": "1.5.0",
          "state": {
            "_dom_classes": [],
            "_model_module": "@jupyter-widgets/controls",
            "_model_module_version": "1.5.0",
            "_model_name": "HTMLModel",
            "_view_count": null,
            "_view_module": "@jupyter-widgets/controls",
            "_view_module_version": "1.5.0",
            "_view_name": "HTMLView",
            "description": "",
            "description_tooltip": null,
            "layout": "IPY_MODEL_e2a0156fea3e4125a828d04993e8b9d3",
            "placeholder": "​",
            "style": "IPY_MODEL_ce427381cfbd40639fcd8a5d77197f89",
            "value": " 587/587 [00:00&lt;00:00, 14.0kB/s]"
          }
        },
        "2211e1a88093491295d08c4969d3fc40": {
          "model_module": "@jupyter-widgets/base",
          "model_name": "LayoutModel",
          "model_module_version": "1.2.0",
          "state": {
            "_model_module": "@jupyter-widgets/base",
            "_model_module_version": "1.2.0",
            "_model_name": "LayoutModel",
            "_view_count": null,
            "_view_module": "@jupyter-widgets/base",
            "_view_module_version": "1.2.0",
            "_view_name": "LayoutView",
            "align_content": null,
            "align_items": null,
            "align_self": null,
            "border": null,
            "bottom": null,
            "display": null,
            "flex": null,
            "flex_flow": null,
            "grid_area": null,
            "grid_auto_columns": null,
            "grid_auto_flow": null,
            "grid_auto_rows": null,
            "grid_column": null,
            "grid_gap": null,
            "grid_row": null,
            "grid_template_areas": null,
            "grid_template_columns": null,
            "grid_template_rows": null,
            "height": null,
            "justify_content": null,
            "justify_items": null,
            "left": null,
            "margin": null,
            "max_height": null,
            "max_width": null,
            "min_height": null,
            "min_width": null,
            "object_fit": null,
            "object_position": null,
            "order": null,
            "overflow": null,
            "overflow_x": null,
            "overflow_y": null,
            "padding": null,
            "right": null,
            "top": null,
            "visibility": null,
            "width": null
          }
        },
        "acd32d24184f4669bcbc42a3cf968d88": {
          "model_module": "@jupyter-widgets/base",
          "model_name": "LayoutModel",
          "model_module_version": "1.2.0",
          "state": {
            "_model_module": "@jupyter-widgets/base",
            "_model_module_version": "1.2.0",
            "_model_name": "LayoutModel",
            "_view_count": null,
            "_view_module": "@jupyter-widgets/base",
            "_view_module_version": "1.2.0",
            "_view_name": "LayoutView",
            "align_content": null,
            "align_items": null,
            "align_self": null,
            "border": null,
            "bottom": null,
            "display": null,
            "flex": null,
            "flex_flow": null,
            "grid_area": null,
            "grid_auto_columns": null,
            "grid_auto_flow": null,
            "grid_auto_rows": null,
            "grid_column": null,
            "grid_gap": null,
            "grid_row": null,
            "grid_template_areas": null,
            "grid_template_columns": null,
            "grid_template_rows": null,
            "height": null,
            "justify_content": null,
            "justify_items": null,
            "left": null,
            "margin": null,
            "max_height": null,
            "max_width": null,
            "min_height": null,
            "min_width": null,
            "object_fit": null,
            "object_position": null,
            "order": null,
            "overflow": null,
            "overflow_x": null,
            "overflow_y": null,
            "padding": null,
            "right": null,
            "top": null,
            "visibility": null,
            "width": null
          }
        },
        "911b534870004c7a80655d65001bdaaa": {
          "model_module": "@jupyter-widgets/controls",
          "model_name": "DescriptionStyleModel",
          "model_module_version": "1.5.0",
          "state": {
            "_model_module": "@jupyter-widgets/controls",
            "_model_module_version": "1.5.0",
            "_model_name": "DescriptionStyleModel",
            "_view_count": null,
            "_view_module": "@jupyter-widgets/base",
            "_view_module_version": "1.2.0",
            "_view_name": "StyleView",
            "description_width": ""
          }
        },
        "6915167f88f443e5b5302cabb938ce7c": {
          "model_module": "@jupyter-widgets/base",
          "model_name": "LayoutModel",
          "model_module_version": "1.2.0",
          "state": {
            "_model_module": "@jupyter-widgets/base",
            "_model_module_version": "1.2.0",
            "_model_name": "LayoutModel",
            "_view_count": null,
            "_view_module": "@jupyter-widgets/base",
            "_view_module_version": "1.2.0",
            "_view_name": "LayoutView",
            "align_content": null,
            "align_items": null,
            "align_self": null,
            "border": null,
            "bottom": null,
            "display": null,
            "flex": null,
            "flex_flow": null,
            "grid_area": null,
            "grid_auto_columns": null,
            "grid_auto_flow": null,
            "grid_auto_rows": null,
            "grid_column": null,
            "grid_gap": null,
            "grid_row": null,
            "grid_template_areas": null,
            "grid_template_columns": null,
            "grid_template_rows": null,
            "height": null,
            "justify_content": null,
            "justify_items": null,
            "left": null,
            "margin": null,
            "max_height": null,
            "max_width": null,
            "min_height": null,
            "min_width": null,
            "object_fit": null,
            "object_position": null,
            "order": null,
            "overflow": null,
            "overflow_x": null,
            "overflow_y": null,
            "padding": null,
            "right": null,
            "top": null,
            "visibility": null,
            "width": null
          }
        },
        "2960272922b24372a7e7ab4fffcf540e": {
          "model_module": "@jupyter-widgets/controls",
          "model_name": "ProgressStyleModel",
          "model_module_version": "1.5.0",
          "state": {
            "_model_module": "@jupyter-widgets/controls",
            "_model_module_version": "1.5.0",
            "_model_name": "ProgressStyleModel",
            "_view_count": null,
            "_view_module": "@jupyter-widgets/base",
            "_view_module_version": "1.2.0",
            "_view_name": "StyleView",
            "bar_color": null,
            "description_width": ""
          }
        },
        "e2a0156fea3e4125a828d04993e8b9d3": {
          "model_module": "@jupyter-widgets/base",
          "model_name": "LayoutModel",
          "model_module_version": "1.2.0",
          "state": {
            "_model_module": "@jupyter-widgets/base",
            "_model_module_version": "1.2.0",
            "_model_name": "LayoutModel",
            "_view_count": null,
            "_view_module": "@jupyter-widgets/base",
            "_view_module_version": "1.2.0",
            "_view_name": "LayoutView",
            "align_content": null,
            "align_items": null,
            "align_self": null,
            "border": null,
            "bottom": null,
            "display": null,
            "flex": null,
            "flex_flow": null,
            "grid_area": null,
            "grid_auto_columns": null,
            "grid_auto_flow": null,
            "grid_auto_rows": null,
            "grid_column": null,
            "grid_gap": null,
            "grid_row": null,
            "grid_template_areas": null,
            "grid_template_columns": null,
            "grid_template_rows": null,
            "height": null,
            "justify_content": null,
            "justify_items": null,
            "left": null,
            "margin": null,
            "max_height": null,
            "max_width": null,
            "min_height": null,
            "min_width": null,
            "object_fit": null,
            "object_position": null,
            "order": null,
            "overflow": null,
            "overflow_x": null,
            "overflow_y": null,
            "padding": null,
            "right": null,
            "top": null,
            "visibility": null,
            "width": null
          }
        },
        "ce427381cfbd40639fcd8a5d77197f89": {
          "model_module": "@jupyter-widgets/controls",
          "model_name": "DescriptionStyleModel",
          "model_module_version": "1.5.0",
          "state": {
            "_model_module": "@jupyter-widgets/controls",
            "_model_module_version": "1.5.0",
            "_model_name": "DescriptionStyleModel",
            "_view_count": null,
            "_view_module": "@jupyter-widgets/base",
            "_view_module_version": "1.2.0",
            "_view_name": "StyleView",
            "description_width": ""
          }
        },
        "baa8318ba81043c292a1ba9d505e07e6": {
          "model_module": "@jupyter-widgets/controls",
          "model_name": "HBoxModel",
          "model_module_version": "1.5.0",
          "state": {
            "_dom_classes": [],
            "_model_module": "@jupyter-widgets/controls",
            "_model_module_version": "1.5.0",
            "_model_name": "HBoxModel",
            "_view_count": null,
            "_view_module": "@jupyter-widgets/controls",
            "_view_module_version": "1.5.0",
            "_view_name": "HBoxView",
            "box_style": "",
            "children": [
              "IPY_MODEL_e9af76d593654e95ad030ff107abd676",
              "IPY_MODEL_8684637f96cf47e2b69bdcb310a88e54",
              "IPY_MODEL_fd33f70912dc40d78e6004f59f8c61ca"
            ],
            "layout": "IPY_MODEL_4adf38e207564cb0904dba5de7630192"
          }
        },
        "e9af76d593654e95ad030ff107abd676": {
          "model_module": "@jupyter-widgets/controls",
          "model_name": "HTMLModel",
          "model_module_version": "1.5.0",
          "state": {
            "_dom_classes": [],
            "_model_module": "@jupyter-widgets/controls",
            "_model_module_version": "1.5.0",
            "_model_name": "HTMLModel",
            "_view_count": null,
            "_view_module": "@jupyter-widgets/controls",
            "_view_module_version": "1.5.0",
            "_view_name": "HTMLView",
            "description": "",
            "description_tooltip": null,
            "layout": "IPY_MODEL_5e5920ae885c4ee68ad0bf828483939f",
            "placeholder": "​",
            "style": "IPY_MODEL_290abad90b274209b11eb0b4c7f1285c",
            "value": "Downloading pytorch_model.bin: 100%"
          }
        },
        "8684637f96cf47e2b69bdcb310a88e54": {
          "model_module": "@jupyter-widgets/controls",
          "model_name": "FloatProgressModel",
          "model_module_version": "1.5.0",
          "state": {
            "_dom_classes": [],
            "_model_module": "@jupyter-widgets/controls",
            "_model_module_version": "1.5.0",
            "_model_name": "FloatProgressModel",
            "_view_count": null,
            "_view_module": "@jupyter-widgets/controls",
            "_view_module_version": "1.5.0",
            "_view_name": "ProgressView",
            "bar_style": "success",
            "description": "",
            "description_tooltip": null,
            "layout": "IPY_MODEL_b04d8d8c96c849bc8bbc48bb3477ea78",
            "max": 438022897,
            "min": 0,
            "orientation": "horizontal",
            "style": "IPY_MODEL_4778c442b19c41acb84d255354d211cc",
            "value": 438022897
          }
        },
        "fd33f70912dc40d78e6004f59f8c61ca": {
          "model_module": "@jupyter-widgets/controls",
          "model_name": "HTMLModel",
          "model_module_version": "1.5.0",
          "state": {
            "_dom_classes": [],
            "_model_module": "@jupyter-widgets/controls",
            "_model_module_version": "1.5.0",
            "_model_name": "HTMLModel",
            "_view_count": null,
            "_view_module": "@jupyter-widgets/controls",
            "_view_module_version": "1.5.0",
            "_view_name": "HTMLView",
            "description": "",
            "description_tooltip": null,
            "layout": "IPY_MODEL_ff18c4426916494987784d6f35bcab44",
            "placeholder": "​",
            "style": "IPY_MODEL_b97a5b7913d74e7abcab46b56ae442c1",
            "value": " 438M/438M [00:02&lt;00:00, 185MB/s]"
          }
        },
        "4adf38e207564cb0904dba5de7630192": {
          "model_module": "@jupyter-widgets/base",
          "model_name": "LayoutModel",
          "model_module_version": "1.2.0",
          "state": {
            "_model_module": "@jupyter-widgets/base",
            "_model_module_version": "1.2.0",
            "_model_name": "LayoutModel",
            "_view_count": null,
            "_view_module": "@jupyter-widgets/base",
            "_view_module_version": "1.2.0",
            "_view_name": "LayoutView",
            "align_content": null,
            "align_items": null,
            "align_self": null,
            "border": null,
            "bottom": null,
            "display": null,
            "flex": null,
            "flex_flow": null,
            "grid_area": null,
            "grid_auto_columns": null,
            "grid_auto_flow": null,
            "grid_auto_rows": null,
            "grid_column": null,
            "grid_gap": null,
            "grid_row": null,
            "grid_template_areas": null,
            "grid_template_columns": null,
            "grid_template_rows": null,
            "height": null,
            "justify_content": null,
            "justify_items": null,
            "left": null,
            "margin": null,
            "max_height": null,
            "max_width": null,
            "min_height": null,
            "min_width": null,
            "object_fit": null,
            "object_position": null,
            "order": null,
            "overflow": null,
            "overflow_x": null,
            "overflow_y": null,
            "padding": null,
            "right": null,
            "top": null,
            "visibility": null,
            "width": null
          }
        },
        "5e5920ae885c4ee68ad0bf828483939f": {
          "model_module": "@jupyter-widgets/base",
          "model_name": "LayoutModel",
          "model_module_version": "1.2.0",
          "state": {
            "_model_module": "@jupyter-widgets/base",
            "_model_module_version": "1.2.0",
            "_model_name": "LayoutModel",
            "_view_count": null,
            "_view_module": "@jupyter-widgets/base",
            "_view_module_version": "1.2.0",
            "_view_name": "LayoutView",
            "align_content": null,
            "align_items": null,
            "align_self": null,
            "border": null,
            "bottom": null,
            "display": null,
            "flex": null,
            "flex_flow": null,
            "grid_area": null,
            "grid_auto_columns": null,
            "grid_auto_flow": null,
            "grid_auto_rows": null,
            "grid_column": null,
            "grid_gap": null,
            "grid_row": null,
            "grid_template_areas": null,
            "grid_template_columns": null,
            "grid_template_rows": null,
            "height": null,
            "justify_content": null,
            "justify_items": null,
            "left": null,
            "margin": null,
            "max_height": null,
            "max_width": null,
            "min_height": null,
            "min_width": null,
            "object_fit": null,
            "object_position": null,
            "order": null,
            "overflow": null,
            "overflow_x": null,
            "overflow_y": null,
            "padding": null,
            "right": null,
            "top": null,
            "visibility": null,
            "width": null
          }
        },
        "290abad90b274209b11eb0b4c7f1285c": {
          "model_module": "@jupyter-widgets/controls",
          "model_name": "DescriptionStyleModel",
          "model_module_version": "1.5.0",
          "state": {
            "_model_module": "@jupyter-widgets/controls",
            "_model_module_version": "1.5.0",
            "_model_name": "DescriptionStyleModel",
            "_view_count": null,
            "_view_module": "@jupyter-widgets/base",
            "_view_module_version": "1.2.0",
            "_view_name": "StyleView",
            "description_width": ""
          }
        },
        "b04d8d8c96c849bc8bbc48bb3477ea78": {
          "model_module": "@jupyter-widgets/base",
          "model_name": "LayoutModel",
          "model_module_version": "1.2.0",
          "state": {
            "_model_module": "@jupyter-widgets/base",
            "_model_module_version": "1.2.0",
            "_model_name": "LayoutModel",
            "_view_count": null,
            "_view_module": "@jupyter-widgets/base",
            "_view_module_version": "1.2.0",
            "_view_name": "LayoutView",
            "align_content": null,
            "align_items": null,
            "align_self": null,
            "border": null,
            "bottom": null,
            "display": null,
            "flex": null,
            "flex_flow": null,
            "grid_area": null,
            "grid_auto_columns": null,
            "grid_auto_flow": null,
            "grid_auto_rows": null,
            "grid_column": null,
            "grid_gap": null,
            "grid_row": null,
            "grid_template_areas": null,
            "grid_template_columns": null,
            "grid_template_rows": null,
            "height": null,
            "justify_content": null,
            "justify_items": null,
            "left": null,
            "margin": null,
            "max_height": null,
            "max_width": null,
            "min_height": null,
            "min_width": null,
            "object_fit": null,
            "object_position": null,
            "order": null,
            "overflow": null,
            "overflow_x": null,
            "overflow_y": null,
            "padding": null,
            "right": null,
            "top": null,
            "visibility": null,
            "width": null
          }
        },
        "4778c442b19c41acb84d255354d211cc": {
          "model_module": "@jupyter-widgets/controls",
          "model_name": "ProgressStyleModel",
          "model_module_version": "1.5.0",
          "state": {
            "_model_module": "@jupyter-widgets/controls",
            "_model_module_version": "1.5.0",
            "_model_name": "ProgressStyleModel",
            "_view_count": null,
            "_view_module": "@jupyter-widgets/base",
            "_view_module_version": "1.2.0",
            "_view_name": "StyleView",
            "bar_color": null,
            "description_width": ""
          }
        },
        "ff18c4426916494987784d6f35bcab44": {
          "model_module": "@jupyter-widgets/base",
          "model_name": "LayoutModel",
          "model_module_version": "1.2.0",
          "state": {
            "_model_module": "@jupyter-widgets/base",
            "_model_module_version": "1.2.0",
            "_model_name": "LayoutModel",
            "_view_count": null,
            "_view_module": "@jupyter-widgets/base",
            "_view_module_version": "1.2.0",
            "_view_name": "LayoutView",
            "align_content": null,
            "align_items": null,
            "align_self": null,
            "border": null,
            "bottom": null,
            "display": null,
            "flex": null,
            "flex_flow": null,
            "grid_area": null,
            "grid_auto_columns": null,
            "grid_auto_flow": null,
            "grid_auto_rows": null,
            "grid_column": null,
            "grid_gap": null,
            "grid_row": null,
            "grid_template_areas": null,
            "grid_template_columns": null,
            "grid_template_rows": null,
            "height": null,
            "justify_content": null,
            "justify_items": null,
            "left": null,
            "margin": null,
            "max_height": null,
            "max_width": null,
            "min_height": null,
            "min_width": null,
            "object_fit": null,
            "object_position": null,
            "order": null,
            "overflow": null,
            "overflow_x": null,
            "overflow_y": null,
            "padding": null,
            "right": null,
            "top": null,
            "visibility": null,
            "width": null
          }
        },
        "b97a5b7913d74e7abcab46b56ae442c1": {
          "model_module": "@jupyter-widgets/controls",
          "model_name": "DescriptionStyleModel",
          "model_module_version": "1.5.0",
          "state": {
            "_model_module": "@jupyter-widgets/controls",
            "_model_module_version": "1.5.0",
            "_model_name": "DescriptionStyleModel",
            "_view_count": null,
            "_view_module": "@jupyter-widgets/base",
            "_view_module_version": "1.2.0",
            "_view_name": "StyleView",
            "description_width": ""
          }
        },
        "30971995825f41bd85bdbe72ea8c4c1c": {
          "model_module": "@jupyter-widgets/controls",
          "model_name": "HBoxModel",
          "model_module_version": "1.5.0",
          "state": {
            "_dom_classes": [],
            "_model_module": "@jupyter-widgets/controls",
            "_model_module_version": "1.5.0",
            "_model_name": "HBoxModel",
            "_view_count": null,
            "_view_module": "@jupyter-widgets/controls",
            "_view_module_version": "1.5.0",
            "_view_name": "HBoxView",
            "box_style": "",
            "children": [
              "IPY_MODEL_6a3d9171c2cb469895a68c6a63ac93e9",
              "IPY_MODEL_56d299fbce214e0982f27e35f97e86bd",
              "IPY_MODEL_a339c4834d4247c78c0c40ca377f6415"
            ],
            "layout": "IPY_MODEL_7fd0d91d53654a6baa3e5cf8e2d7bc4e"
          }
        },
        "6a3d9171c2cb469895a68c6a63ac93e9": {
          "model_module": "@jupyter-widgets/controls",
          "model_name": "HTMLModel",
          "model_module_version": "1.5.0",
          "state": {
            "_dom_classes": [],
            "_model_module": "@jupyter-widgets/controls",
            "_model_module_version": "1.5.0",
            "_model_name": "HTMLModel",
            "_view_count": null,
            "_view_module": "@jupyter-widgets/controls",
            "_view_module_version": "1.5.0",
            "_view_name": "HTMLView",
            "description": "",
            "description_tooltip": null,
            "layout": "IPY_MODEL_9801d8492e9e47fb8f3ab8e4154743e0",
            "placeholder": "​",
            "style": "IPY_MODEL_aaa21d978f12496bad7fdf0e905b999d",
            "value": "Downloading (…)okenizer_config.json: 100%"
          }
        },
        "56d299fbce214e0982f27e35f97e86bd": {
          "model_module": "@jupyter-widgets/controls",
          "model_name": "FloatProgressModel",
          "model_module_version": "1.5.0",
          "state": {
            "_dom_classes": [],
            "_model_module": "@jupyter-widgets/controls",
            "_model_module_version": "1.5.0",
            "_model_name": "FloatProgressModel",
            "_view_count": null,
            "_view_module": "@jupyter-widgets/controls",
            "_view_module_version": "1.5.0",
            "_view_name": "ProgressView",
            "bar_style": "success",
            "description": "",
            "description_tooltip": null,
            "layout": "IPY_MODEL_e6907f30c9ec4c088eb402fe0b5d02f3",
            "max": 1186,
            "min": 0,
            "orientation": "horizontal",
            "style": "IPY_MODEL_1809d3f06f1a43db951cc2379cb6280b",
            "value": 1186
          }
        },
        "a339c4834d4247c78c0c40ca377f6415": {
          "model_module": "@jupyter-widgets/controls",
          "model_name": "HTMLModel",
          "model_module_version": "1.5.0",
          "state": {
            "_dom_classes": [],
            "_model_module": "@jupyter-widgets/controls",
            "_model_module_version": "1.5.0",
            "_model_name": "HTMLModel",
            "_view_count": null,
            "_view_module": "@jupyter-widgets/controls",
            "_view_module_version": "1.5.0",
            "_view_name": "HTMLView",
            "description": "",
            "description_tooltip": null,
            "layout": "IPY_MODEL_87aabf7f41e5426ab2e6a582358dd354",
            "placeholder": "​",
            "style": "IPY_MODEL_357fbe2067ef495583cb7898d6412416",
            "value": " 1.19k/1.19k [00:00&lt;00:00, 14.9kB/s]"
          }
        },
        "7fd0d91d53654a6baa3e5cf8e2d7bc4e": {
          "model_module": "@jupyter-widgets/base",
          "model_name": "LayoutModel",
          "model_module_version": "1.2.0",
          "state": {
            "_model_module": "@jupyter-widgets/base",
            "_model_module_version": "1.2.0",
            "_model_name": "LayoutModel",
            "_view_count": null,
            "_view_module": "@jupyter-widgets/base",
            "_view_module_version": "1.2.0",
            "_view_name": "LayoutView",
            "align_content": null,
            "align_items": null,
            "align_self": null,
            "border": null,
            "bottom": null,
            "display": null,
            "flex": null,
            "flex_flow": null,
            "grid_area": null,
            "grid_auto_columns": null,
            "grid_auto_flow": null,
            "grid_auto_rows": null,
            "grid_column": null,
            "grid_gap": null,
            "grid_row": null,
            "grid_template_areas": null,
            "grid_template_columns": null,
            "grid_template_rows": null,
            "height": null,
            "justify_content": null,
            "justify_items": null,
            "left": null,
            "margin": null,
            "max_height": null,
            "max_width": null,
            "min_height": null,
            "min_width": null,
            "object_fit": null,
            "object_position": null,
            "order": null,
            "overflow": null,
            "overflow_x": null,
            "overflow_y": null,
            "padding": null,
            "right": null,
            "top": null,
            "visibility": null,
            "width": null
          }
        },
        "9801d8492e9e47fb8f3ab8e4154743e0": {
          "model_module": "@jupyter-widgets/base",
          "model_name": "LayoutModel",
          "model_module_version": "1.2.0",
          "state": {
            "_model_module": "@jupyter-widgets/base",
            "_model_module_version": "1.2.0",
            "_model_name": "LayoutModel",
            "_view_count": null,
            "_view_module": "@jupyter-widgets/base",
            "_view_module_version": "1.2.0",
            "_view_name": "LayoutView",
            "align_content": null,
            "align_items": null,
            "align_self": null,
            "border": null,
            "bottom": null,
            "display": null,
            "flex": null,
            "flex_flow": null,
            "grid_area": null,
            "grid_auto_columns": null,
            "grid_auto_flow": null,
            "grid_auto_rows": null,
            "grid_column": null,
            "grid_gap": null,
            "grid_row": null,
            "grid_template_areas": null,
            "grid_template_columns": null,
            "grid_template_rows": null,
            "height": null,
            "justify_content": null,
            "justify_items": null,
            "left": null,
            "margin": null,
            "max_height": null,
            "max_width": null,
            "min_height": null,
            "min_width": null,
            "object_fit": null,
            "object_position": null,
            "order": null,
            "overflow": null,
            "overflow_x": null,
            "overflow_y": null,
            "padding": null,
            "right": null,
            "top": null,
            "visibility": null,
            "width": null
          }
        },
        "aaa21d978f12496bad7fdf0e905b999d": {
          "model_module": "@jupyter-widgets/controls",
          "model_name": "DescriptionStyleModel",
          "model_module_version": "1.5.0",
          "state": {
            "_model_module": "@jupyter-widgets/controls",
            "_model_module_version": "1.5.0",
            "_model_name": "DescriptionStyleModel",
            "_view_count": null,
            "_view_module": "@jupyter-widgets/base",
            "_view_module_version": "1.2.0",
            "_view_name": "StyleView",
            "description_width": ""
          }
        },
        "e6907f30c9ec4c088eb402fe0b5d02f3": {
          "model_module": "@jupyter-widgets/base",
          "model_name": "LayoutModel",
          "model_module_version": "1.2.0",
          "state": {
            "_model_module": "@jupyter-widgets/base",
            "_model_module_version": "1.2.0",
            "_model_name": "LayoutModel",
            "_view_count": null,
            "_view_module": "@jupyter-widgets/base",
            "_view_module_version": "1.2.0",
            "_view_name": "LayoutView",
            "align_content": null,
            "align_items": null,
            "align_self": null,
            "border": null,
            "bottom": null,
            "display": null,
            "flex": null,
            "flex_flow": null,
            "grid_area": null,
            "grid_auto_columns": null,
            "grid_auto_flow": null,
            "grid_auto_rows": null,
            "grid_column": null,
            "grid_gap": null,
            "grid_row": null,
            "grid_template_areas": null,
            "grid_template_columns": null,
            "grid_template_rows": null,
            "height": null,
            "justify_content": null,
            "justify_items": null,
            "left": null,
            "margin": null,
            "max_height": null,
            "max_width": null,
            "min_height": null,
            "min_width": null,
            "object_fit": null,
            "object_position": null,
            "order": null,
            "overflow": null,
            "overflow_x": null,
            "overflow_y": null,
            "padding": null,
            "right": null,
            "top": null,
            "visibility": null,
            "width": null
          }
        },
        "1809d3f06f1a43db951cc2379cb6280b": {
          "model_module": "@jupyter-widgets/controls",
          "model_name": "ProgressStyleModel",
          "model_module_version": "1.5.0",
          "state": {
            "_model_module": "@jupyter-widgets/controls",
            "_model_module_version": "1.5.0",
            "_model_name": "ProgressStyleModel",
            "_view_count": null,
            "_view_module": "@jupyter-widgets/base",
            "_view_module_version": "1.2.0",
            "_view_name": "StyleView",
            "bar_color": null,
            "description_width": ""
          }
        },
        "87aabf7f41e5426ab2e6a582358dd354": {
          "model_module": "@jupyter-widgets/base",
          "model_name": "LayoutModel",
          "model_module_version": "1.2.0",
          "state": {
            "_model_module": "@jupyter-widgets/base",
            "_model_module_version": "1.2.0",
            "_model_name": "LayoutModel",
            "_view_count": null,
            "_view_module": "@jupyter-widgets/base",
            "_view_module_version": "1.2.0",
            "_view_name": "LayoutView",
            "align_content": null,
            "align_items": null,
            "align_self": null,
            "border": null,
            "bottom": null,
            "display": null,
            "flex": null,
            "flex_flow": null,
            "grid_area": null,
            "grid_auto_columns": null,
            "grid_auto_flow": null,
            "grid_auto_rows": null,
            "grid_column": null,
            "grid_gap": null,
            "grid_row": null,
            "grid_template_areas": null,
            "grid_template_columns": null,
            "grid_template_rows": null,
            "height": null,
            "justify_content": null,
            "justify_items": null,
            "left": null,
            "margin": null,
            "max_height": null,
            "max_width": null,
            "min_height": null,
            "min_width": null,
            "object_fit": null,
            "object_position": null,
            "order": null,
            "overflow": null,
            "overflow_x": null,
            "overflow_y": null,
            "padding": null,
            "right": null,
            "top": null,
            "visibility": null,
            "width": null
          }
        },
        "357fbe2067ef495583cb7898d6412416": {
          "model_module": "@jupyter-widgets/controls",
          "model_name": "DescriptionStyleModel",
          "model_module_version": "1.5.0",
          "state": {
            "_model_module": "@jupyter-widgets/controls",
            "_model_module_version": "1.5.0",
            "_model_name": "DescriptionStyleModel",
            "_view_count": null,
            "_view_module": "@jupyter-widgets/base",
            "_view_module_version": "1.2.0",
            "_view_name": "StyleView",
            "description_width": ""
          }
        },
        "517d1ca070ee4f3ab3a0842644b7b404": {
          "model_module": "@jupyter-widgets/controls",
          "model_name": "HBoxModel",
          "model_module_version": "1.5.0",
          "state": {
            "_dom_classes": [],
            "_model_module": "@jupyter-widgets/controls",
            "_model_module_version": "1.5.0",
            "_model_name": "HBoxModel",
            "_view_count": null,
            "_view_module": "@jupyter-widgets/controls",
            "_view_module_version": "1.5.0",
            "_view_name": "HBoxView",
            "box_style": "",
            "children": [
              "IPY_MODEL_2bad6992ec7842e5b8630b3cd9c311d0",
              "IPY_MODEL_988af082c9f84962b61526157aa49d3a",
              "IPY_MODEL_c83d9870531b4988bd71c60e9b61f6bc"
            ],
            "layout": "IPY_MODEL_57f6d7387cb240a3b3c6f9bf217caa8f"
          }
        },
        "2bad6992ec7842e5b8630b3cd9c311d0": {
          "model_module": "@jupyter-widgets/controls",
          "model_name": "HTMLModel",
          "model_module_version": "1.5.0",
          "state": {
            "_dom_classes": [],
            "_model_module": "@jupyter-widgets/controls",
            "_model_module_version": "1.5.0",
            "_model_name": "HTMLModel",
            "_view_count": null,
            "_view_module": "@jupyter-widgets/controls",
            "_view_module_version": "1.5.0",
            "_view_name": "HTMLView",
            "description": "",
            "description_tooltip": null,
            "layout": "IPY_MODEL_87a34e8adcb9428a8331b45755e76ad9",
            "placeholder": "​",
            "style": "IPY_MODEL_c9fdb76b5959481aa1cab3e1e8611b55",
            "value": "Downloading (…)solve/main/vocab.txt: 100%"
          }
        },
        "988af082c9f84962b61526157aa49d3a": {
          "model_module": "@jupyter-widgets/controls",
          "model_name": "FloatProgressModel",
          "model_module_version": "1.5.0",
          "state": {
            "_dom_classes": [],
            "_model_module": "@jupyter-widgets/controls",
            "_model_module_version": "1.5.0",
            "_model_name": "FloatProgressModel",
            "_view_count": null,
            "_view_module": "@jupyter-widgets/controls",
            "_view_module_version": "1.5.0",
            "_view_name": "ProgressView",
            "bar_style": "success",
            "description": "",
            "description_tooltip": null,
            "layout": "IPY_MODEL_5e2e38a4ca334b279cfcb781e2026116",
            "max": 231536,
            "min": 0,
            "orientation": "horizontal",
            "style": "IPY_MODEL_984aa2cbcd124312a00e5416476bf0b1",
            "value": 231536
          }
        },
        "c83d9870531b4988bd71c60e9b61f6bc": {
          "model_module": "@jupyter-widgets/controls",
          "model_name": "HTMLModel",
          "model_module_version": "1.5.0",
          "state": {
            "_dom_classes": [],
            "_model_module": "@jupyter-widgets/controls",
            "_model_module_version": "1.5.0",
            "_model_name": "HTMLModel",
            "_view_count": null,
            "_view_module": "@jupyter-widgets/controls",
            "_view_module_version": "1.5.0",
            "_view_name": "HTMLView",
            "description": "",
            "description_tooltip": null,
            "layout": "IPY_MODEL_ab7e64e6282c4ce7aa87e07f23661d5d",
            "placeholder": "​",
            "style": "IPY_MODEL_70d17e49c2134d289feeceb6dda9bfea",
            "value": " 232k/232k [00:00&lt;00:00, 1.61MB/s]"
          }
        },
        "57f6d7387cb240a3b3c6f9bf217caa8f": {
          "model_module": "@jupyter-widgets/base",
          "model_name": "LayoutModel",
          "model_module_version": "1.2.0",
          "state": {
            "_model_module": "@jupyter-widgets/base",
            "_model_module_version": "1.2.0",
            "_model_name": "LayoutModel",
            "_view_count": null,
            "_view_module": "@jupyter-widgets/base",
            "_view_module_version": "1.2.0",
            "_view_name": "LayoutView",
            "align_content": null,
            "align_items": null,
            "align_self": null,
            "border": null,
            "bottom": null,
            "display": null,
            "flex": null,
            "flex_flow": null,
            "grid_area": null,
            "grid_auto_columns": null,
            "grid_auto_flow": null,
            "grid_auto_rows": null,
            "grid_column": null,
            "grid_gap": null,
            "grid_row": null,
            "grid_template_areas": null,
            "grid_template_columns": null,
            "grid_template_rows": null,
            "height": null,
            "justify_content": null,
            "justify_items": null,
            "left": null,
            "margin": null,
            "max_height": null,
            "max_width": null,
            "min_height": null,
            "min_width": null,
            "object_fit": null,
            "object_position": null,
            "order": null,
            "overflow": null,
            "overflow_x": null,
            "overflow_y": null,
            "padding": null,
            "right": null,
            "top": null,
            "visibility": null,
            "width": null
          }
        },
        "87a34e8adcb9428a8331b45755e76ad9": {
          "model_module": "@jupyter-widgets/base",
          "model_name": "LayoutModel",
          "model_module_version": "1.2.0",
          "state": {
            "_model_module": "@jupyter-widgets/base",
            "_model_module_version": "1.2.0",
            "_model_name": "LayoutModel",
            "_view_count": null,
            "_view_module": "@jupyter-widgets/base",
            "_view_module_version": "1.2.0",
            "_view_name": "LayoutView",
            "align_content": null,
            "align_items": null,
            "align_self": null,
            "border": null,
            "bottom": null,
            "display": null,
            "flex": null,
            "flex_flow": null,
            "grid_area": null,
            "grid_auto_columns": null,
            "grid_auto_flow": null,
            "grid_auto_rows": null,
            "grid_column": null,
            "grid_gap": null,
            "grid_row": null,
            "grid_template_areas": null,
            "grid_template_columns": null,
            "grid_template_rows": null,
            "height": null,
            "justify_content": null,
            "justify_items": null,
            "left": null,
            "margin": null,
            "max_height": null,
            "max_width": null,
            "min_height": null,
            "min_width": null,
            "object_fit": null,
            "object_position": null,
            "order": null,
            "overflow": null,
            "overflow_x": null,
            "overflow_y": null,
            "padding": null,
            "right": null,
            "top": null,
            "visibility": null,
            "width": null
          }
        },
        "c9fdb76b5959481aa1cab3e1e8611b55": {
          "model_module": "@jupyter-widgets/controls",
          "model_name": "DescriptionStyleModel",
          "model_module_version": "1.5.0",
          "state": {
            "_model_module": "@jupyter-widgets/controls",
            "_model_module_version": "1.5.0",
            "_model_name": "DescriptionStyleModel",
            "_view_count": null,
            "_view_module": "@jupyter-widgets/base",
            "_view_module_version": "1.2.0",
            "_view_name": "StyleView",
            "description_width": ""
          }
        },
        "5e2e38a4ca334b279cfcb781e2026116": {
          "model_module": "@jupyter-widgets/base",
          "model_name": "LayoutModel",
          "model_module_version": "1.2.0",
          "state": {
            "_model_module": "@jupyter-widgets/base",
            "_model_module_version": "1.2.0",
            "_model_name": "LayoutModel",
            "_view_count": null,
            "_view_module": "@jupyter-widgets/base",
            "_view_module_version": "1.2.0",
            "_view_name": "LayoutView",
            "align_content": null,
            "align_items": null,
            "align_self": null,
            "border": null,
            "bottom": null,
            "display": null,
            "flex": null,
            "flex_flow": null,
            "grid_area": null,
            "grid_auto_columns": null,
            "grid_auto_flow": null,
            "grid_auto_rows": null,
            "grid_column": null,
            "grid_gap": null,
            "grid_row": null,
            "grid_template_areas": null,
            "grid_template_columns": null,
            "grid_template_rows": null,
            "height": null,
            "justify_content": null,
            "justify_items": null,
            "left": null,
            "margin": null,
            "max_height": null,
            "max_width": null,
            "min_height": null,
            "min_width": null,
            "object_fit": null,
            "object_position": null,
            "order": null,
            "overflow": null,
            "overflow_x": null,
            "overflow_y": null,
            "padding": null,
            "right": null,
            "top": null,
            "visibility": null,
            "width": null
          }
        },
        "984aa2cbcd124312a00e5416476bf0b1": {
          "model_module": "@jupyter-widgets/controls",
          "model_name": "ProgressStyleModel",
          "model_module_version": "1.5.0",
          "state": {
            "_model_module": "@jupyter-widgets/controls",
            "_model_module_version": "1.5.0",
            "_model_name": "ProgressStyleModel",
            "_view_count": null,
            "_view_module": "@jupyter-widgets/base",
            "_view_module_version": "1.2.0",
            "_view_name": "StyleView",
            "bar_color": null,
            "description_width": ""
          }
        },
        "ab7e64e6282c4ce7aa87e07f23661d5d": {
          "model_module": "@jupyter-widgets/base",
          "model_name": "LayoutModel",
          "model_module_version": "1.2.0",
          "state": {
            "_model_module": "@jupyter-widgets/base",
            "_model_module_version": "1.2.0",
            "_model_name": "LayoutModel",
            "_view_count": null,
            "_view_module": "@jupyter-widgets/base",
            "_view_module_version": "1.2.0",
            "_view_name": "LayoutView",
            "align_content": null,
            "align_items": null,
            "align_self": null,
            "border": null,
            "bottom": null,
            "display": null,
            "flex": null,
            "flex_flow": null,
            "grid_area": null,
            "grid_auto_columns": null,
            "grid_auto_flow": null,
            "grid_auto_rows": null,
            "grid_column": null,
            "grid_gap": null,
            "grid_row": null,
            "grid_template_areas": null,
            "grid_template_columns": null,
            "grid_template_rows": null,
            "height": null,
            "justify_content": null,
            "justify_items": null,
            "left": null,
            "margin": null,
            "max_height": null,
            "max_width": null,
            "min_height": null,
            "min_width": null,
            "object_fit": null,
            "object_position": null,
            "order": null,
            "overflow": null,
            "overflow_x": null,
            "overflow_y": null,
            "padding": null,
            "right": null,
            "top": null,
            "visibility": null,
            "width": null
          }
        },
        "70d17e49c2134d289feeceb6dda9bfea": {
          "model_module": "@jupyter-widgets/controls",
          "model_name": "DescriptionStyleModel",
          "model_module_version": "1.5.0",
          "state": {
            "_model_module": "@jupyter-widgets/controls",
            "_model_module_version": "1.5.0",
            "_model_name": "DescriptionStyleModel",
            "_view_count": null,
            "_view_module": "@jupyter-widgets/base",
            "_view_module_version": "1.2.0",
            "_view_name": "StyleView",
            "description_width": ""
          }
        },
        "91c270e6c3954309b429a8170517631d": {
          "model_module": "@jupyter-widgets/controls",
          "model_name": "HBoxModel",
          "model_module_version": "1.5.0",
          "state": {
            "_dom_classes": [],
            "_model_module": "@jupyter-widgets/controls",
            "_model_module_version": "1.5.0",
            "_model_name": "HBoxModel",
            "_view_count": null,
            "_view_module": "@jupyter-widgets/controls",
            "_view_module_version": "1.5.0",
            "_view_name": "HBoxView",
            "box_style": "",
            "children": [
              "IPY_MODEL_b2015465ab204350ae6f7c85548f1b62",
              "IPY_MODEL_070ec771fb424f1e8258426c9ad847dd",
              "IPY_MODEL_f556e42a277542848eec63e1d6a2a960"
            ],
            "layout": "IPY_MODEL_927c5b1fefef4cc6ab8bf71e1b7af2e9"
          }
        },
        "b2015465ab204350ae6f7c85548f1b62": {
          "model_module": "@jupyter-widgets/controls",
          "model_name": "HTMLModel",
          "model_module_version": "1.5.0",
          "state": {
            "_dom_classes": [],
            "_model_module": "@jupyter-widgets/controls",
            "_model_module_version": "1.5.0",
            "_model_name": "HTMLModel",
            "_view_count": null,
            "_view_module": "@jupyter-widgets/controls",
            "_view_module_version": "1.5.0",
            "_view_name": "HTMLView",
            "description": "",
            "description_tooltip": null,
            "layout": "IPY_MODEL_ec793a49872244cd8892bab48be220ca",
            "placeholder": "​",
            "style": "IPY_MODEL_e82327bc30f147e8b53e0789303e551f",
            "value": "Downloading (…)/main/tokenizer.json: 100%"
          }
        },
        "070ec771fb424f1e8258426c9ad847dd": {
          "model_module": "@jupyter-widgets/controls",
          "model_name": "FloatProgressModel",
          "model_module_version": "1.5.0",
          "state": {
            "_dom_classes": [],
            "_model_module": "@jupyter-widgets/controls",
            "_model_module_version": "1.5.0",
            "_model_name": "FloatProgressModel",
            "_view_count": null,
            "_view_module": "@jupyter-widgets/controls",
            "_view_module_version": "1.5.0",
            "_view_name": "ProgressView",
            "bar_style": "success",
            "description": "",
            "description_tooltip": null,
            "layout": "IPY_MODEL_7f0e0f2fde46457b926e3feb855e70aa",
            "max": 466166,
            "min": 0,
            "orientation": "horizontal",
            "style": "IPY_MODEL_8a8860fb2abc4d4bb8ae35ec9b1b6138",
            "value": 466166
          }
        },
        "f556e42a277542848eec63e1d6a2a960": {
          "model_module": "@jupyter-widgets/controls",
          "model_name": "HTMLModel",
          "model_module_version": "1.5.0",
          "state": {
            "_dom_classes": [],
            "_model_module": "@jupyter-widgets/controls",
            "_model_module_version": "1.5.0",
            "_model_name": "HTMLModel",
            "_view_count": null,
            "_view_module": "@jupyter-widgets/controls",
            "_view_module_version": "1.5.0",
            "_view_name": "HTMLView",
            "description": "",
            "description_tooltip": null,
            "layout": "IPY_MODEL_ec2cfcb328a748fb90fcd300bb0796dc",
            "placeholder": "​",
            "style": "IPY_MODEL_5b3830905a974142a2f20a772f45a1b9",
            "value": " 466k/466k [00:00&lt;00:00, 2.64MB/s]"
          }
        },
        "927c5b1fefef4cc6ab8bf71e1b7af2e9": {
          "model_module": "@jupyter-widgets/base",
          "model_name": "LayoutModel",
          "model_module_version": "1.2.0",
          "state": {
            "_model_module": "@jupyter-widgets/base",
            "_model_module_version": "1.2.0",
            "_model_name": "LayoutModel",
            "_view_count": null,
            "_view_module": "@jupyter-widgets/base",
            "_view_module_version": "1.2.0",
            "_view_name": "LayoutView",
            "align_content": null,
            "align_items": null,
            "align_self": null,
            "border": null,
            "bottom": null,
            "display": null,
            "flex": null,
            "flex_flow": null,
            "grid_area": null,
            "grid_auto_columns": null,
            "grid_auto_flow": null,
            "grid_auto_rows": null,
            "grid_column": null,
            "grid_gap": null,
            "grid_row": null,
            "grid_template_areas": null,
            "grid_template_columns": null,
            "grid_template_rows": null,
            "height": null,
            "justify_content": null,
            "justify_items": null,
            "left": null,
            "margin": null,
            "max_height": null,
            "max_width": null,
            "min_height": null,
            "min_width": null,
            "object_fit": null,
            "object_position": null,
            "order": null,
            "overflow": null,
            "overflow_x": null,
            "overflow_y": null,
            "padding": null,
            "right": null,
            "top": null,
            "visibility": null,
            "width": null
          }
        },
        "ec793a49872244cd8892bab48be220ca": {
          "model_module": "@jupyter-widgets/base",
          "model_name": "LayoutModel",
          "model_module_version": "1.2.0",
          "state": {
            "_model_module": "@jupyter-widgets/base",
            "_model_module_version": "1.2.0",
            "_model_name": "LayoutModel",
            "_view_count": null,
            "_view_module": "@jupyter-widgets/base",
            "_view_module_version": "1.2.0",
            "_view_name": "LayoutView",
            "align_content": null,
            "align_items": null,
            "align_self": null,
            "border": null,
            "bottom": null,
            "display": null,
            "flex": null,
            "flex_flow": null,
            "grid_area": null,
            "grid_auto_columns": null,
            "grid_auto_flow": null,
            "grid_auto_rows": null,
            "grid_column": null,
            "grid_gap": null,
            "grid_row": null,
            "grid_template_areas": null,
            "grid_template_columns": null,
            "grid_template_rows": null,
            "height": null,
            "justify_content": null,
            "justify_items": null,
            "left": null,
            "margin": null,
            "max_height": null,
            "max_width": null,
            "min_height": null,
            "min_width": null,
            "object_fit": null,
            "object_position": null,
            "order": null,
            "overflow": null,
            "overflow_x": null,
            "overflow_y": null,
            "padding": null,
            "right": null,
            "top": null,
            "visibility": null,
            "width": null
          }
        },
        "e82327bc30f147e8b53e0789303e551f": {
          "model_module": "@jupyter-widgets/controls",
          "model_name": "DescriptionStyleModel",
          "model_module_version": "1.5.0",
          "state": {
            "_model_module": "@jupyter-widgets/controls",
            "_model_module_version": "1.5.0",
            "_model_name": "DescriptionStyleModel",
            "_view_count": null,
            "_view_module": "@jupyter-widgets/base",
            "_view_module_version": "1.2.0",
            "_view_name": "StyleView",
            "description_width": ""
          }
        },
        "7f0e0f2fde46457b926e3feb855e70aa": {
          "model_module": "@jupyter-widgets/base",
          "model_name": "LayoutModel",
          "model_module_version": "1.2.0",
          "state": {
            "_model_module": "@jupyter-widgets/base",
            "_model_module_version": "1.2.0",
            "_model_name": "LayoutModel",
            "_view_count": null,
            "_view_module": "@jupyter-widgets/base",
            "_view_module_version": "1.2.0",
            "_view_name": "LayoutView",
            "align_content": null,
            "align_items": null,
            "align_self": null,
            "border": null,
            "bottom": null,
            "display": null,
            "flex": null,
            "flex_flow": null,
            "grid_area": null,
            "grid_auto_columns": null,
            "grid_auto_flow": null,
            "grid_auto_rows": null,
            "grid_column": null,
            "grid_gap": null,
            "grid_row": null,
            "grid_template_areas": null,
            "grid_template_columns": null,
            "grid_template_rows": null,
            "height": null,
            "justify_content": null,
            "justify_items": null,
            "left": null,
            "margin": null,
            "max_height": null,
            "max_width": null,
            "min_height": null,
            "min_width": null,
            "object_fit": null,
            "object_position": null,
            "order": null,
            "overflow": null,
            "overflow_x": null,
            "overflow_y": null,
            "padding": null,
            "right": null,
            "top": null,
            "visibility": null,
            "width": null
          }
        },
        "8a8860fb2abc4d4bb8ae35ec9b1b6138": {
          "model_module": "@jupyter-widgets/controls",
          "model_name": "ProgressStyleModel",
          "model_module_version": "1.5.0",
          "state": {
            "_model_module": "@jupyter-widgets/controls",
            "_model_module_version": "1.5.0",
            "_model_name": "ProgressStyleModel",
            "_view_count": null,
            "_view_module": "@jupyter-widgets/base",
            "_view_module_version": "1.2.0",
            "_view_name": "StyleView",
            "bar_color": null,
            "description_width": ""
          }
        },
        "ec2cfcb328a748fb90fcd300bb0796dc": {
          "model_module": "@jupyter-widgets/base",
          "model_name": "LayoutModel",
          "model_module_version": "1.2.0",
          "state": {
            "_model_module": "@jupyter-widgets/base",
            "_model_module_version": "1.2.0",
            "_model_name": "LayoutModel",
            "_view_count": null,
            "_view_module": "@jupyter-widgets/base",
            "_view_module_version": "1.2.0",
            "_view_name": "LayoutView",
            "align_content": null,
            "align_items": null,
            "align_self": null,
            "border": null,
            "bottom": null,
            "display": null,
            "flex": null,
            "flex_flow": null,
            "grid_area": null,
            "grid_auto_columns": null,
            "grid_auto_flow": null,
            "grid_auto_rows": null,
            "grid_column": null,
            "grid_gap": null,
            "grid_row": null,
            "grid_template_areas": null,
            "grid_template_columns": null,
            "grid_template_rows": null,
            "height": null,
            "justify_content": null,
            "justify_items": null,
            "left": null,
            "margin": null,
            "max_height": null,
            "max_width": null,
            "min_height": null,
            "min_width": null,
            "object_fit": null,
            "object_position": null,
            "order": null,
            "overflow": null,
            "overflow_x": null,
            "overflow_y": null,
            "padding": null,
            "right": null,
            "top": null,
            "visibility": null,
            "width": null
          }
        },
        "5b3830905a974142a2f20a772f45a1b9": {
          "model_module": "@jupyter-widgets/controls",
          "model_name": "DescriptionStyleModel",
          "model_module_version": "1.5.0",
          "state": {
            "_model_module": "@jupyter-widgets/controls",
            "_model_module_version": "1.5.0",
            "_model_name": "DescriptionStyleModel",
            "_view_count": null,
            "_view_module": "@jupyter-widgets/base",
            "_view_module_version": "1.2.0",
            "_view_name": "StyleView",
            "description_width": ""
          }
        },
        "0285b644ebe142c698a150a3448e2a65": {
          "model_module": "@jupyter-widgets/controls",
          "model_name": "HBoxModel",
          "model_module_version": "1.5.0",
          "state": {
            "_dom_classes": [],
            "_model_module": "@jupyter-widgets/controls",
            "_model_module_version": "1.5.0",
            "_model_name": "HBoxModel",
            "_view_count": null,
            "_view_module": "@jupyter-widgets/controls",
            "_view_module_version": "1.5.0",
            "_view_name": "HBoxView",
            "box_style": "",
            "children": [
              "IPY_MODEL_d806d676e3a944e788515fd9fa537247",
              "IPY_MODEL_0a8db6cbfb0f4a0292a2ea2ef31e9797",
              "IPY_MODEL_88214cc022ed49d0abc4b5bf734d96b2"
            ],
            "layout": "IPY_MODEL_88fadb2572674f44a6fbd7333b727e6d"
          }
        },
        "d806d676e3a944e788515fd9fa537247": {
          "model_module": "@jupyter-widgets/controls",
          "model_name": "HTMLModel",
          "model_module_version": "1.5.0",
          "state": {
            "_dom_classes": [],
            "_model_module": "@jupyter-widgets/controls",
            "_model_module_version": "1.5.0",
            "_model_name": "HTMLModel",
            "_view_count": null,
            "_view_module": "@jupyter-widgets/controls",
            "_view_module_version": "1.5.0",
            "_view_name": "HTMLView",
            "description": "",
            "description_tooltip": null,
            "layout": "IPY_MODEL_a748597fd8c74a0ebaea67e18ff37649",
            "placeholder": "​",
            "style": "IPY_MODEL_c30ff411d2534f93b4f58372c77ac2d1",
            "value": "Downloading (…)cial_tokens_map.json: 100%"
          }
        },
        "0a8db6cbfb0f4a0292a2ea2ef31e9797": {
          "model_module": "@jupyter-widgets/controls",
          "model_name": "FloatProgressModel",
          "model_module_version": "1.5.0",
          "state": {
            "_dom_classes": [],
            "_model_module": "@jupyter-widgets/controls",
            "_model_module_version": "1.5.0",
            "_model_name": "FloatProgressModel",
            "_view_count": null,
            "_view_module": "@jupyter-widgets/controls",
            "_view_module_version": "1.5.0",
            "_view_name": "ProgressView",
            "bar_style": "success",
            "description": "",
            "description_tooltip": null,
            "layout": "IPY_MODEL_e74c57dfe7be41abb48fb9858414f6dc",
            "max": 239,
            "min": 0,
            "orientation": "horizontal",
            "style": "IPY_MODEL_9fa353004a044436a941cfcff4f62938",
            "value": 239
          }
        },
        "88214cc022ed49d0abc4b5bf734d96b2": {
          "model_module": "@jupyter-widgets/controls",
          "model_name": "HTMLModel",
          "model_module_version": "1.5.0",
          "state": {
            "_dom_classes": [],
            "_model_module": "@jupyter-widgets/controls",
            "_model_module_version": "1.5.0",
            "_model_name": "HTMLModel",
            "_view_count": null,
            "_view_module": "@jupyter-widgets/controls",
            "_view_module_version": "1.5.0",
            "_view_name": "HTMLView",
            "description": "",
            "description_tooltip": null,
            "layout": "IPY_MODEL_1d710e11e536486ea303bb12de13b905",
            "placeholder": "​",
            "style": "IPY_MODEL_987460949013422aa95cffaec44bf033",
            "value": " 239/239 [00:00&lt;00:00, 3.92kB/s]"
          }
        },
        "88fadb2572674f44a6fbd7333b727e6d": {
          "model_module": "@jupyter-widgets/base",
          "model_name": "LayoutModel",
          "model_module_version": "1.2.0",
          "state": {
            "_model_module": "@jupyter-widgets/base",
            "_model_module_version": "1.2.0",
            "_model_name": "LayoutModel",
            "_view_count": null,
            "_view_module": "@jupyter-widgets/base",
            "_view_module_version": "1.2.0",
            "_view_name": "LayoutView",
            "align_content": null,
            "align_items": null,
            "align_self": null,
            "border": null,
            "bottom": null,
            "display": null,
            "flex": null,
            "flex_flow": null,
            "grid_area": null,
            "grid_auto_columns": null,
            "grid_auto_flow": null,
            "grid_auto_rows": null,
            "grid_column": null,
            "grid_gap": null,
            "grid_row": null,
            "grid_template_areas": null,
            "grid_template_columns": null,
            "grid_template_rows": null,
            "height": null,
            "justify_content": null,
            "justify_items": null,
            "left": null,
            "margin": null,
            "max_height": null,
            "max_width": null,
            "min_height": null,
            "min_width": null,
            "object_fit": null,
            "object_position": null,
            "order": null,
            "overflow": null,
            "overflow_x": null,
            "overflow_y": null,
            "padding": null,
            "right": null,
            "top": null,
            "visibility": null,
            "width": null
          }
        },
        "a748597fd8c74a0ebaea67e18ff37649": {
          "model_module": "@jupyter-widgets/base",
          "model_name": "LayoutModel",
          "model_module_version": "1.2.0",
          "state": {
            "_model_module": "@jupyter-widgets/base",
            "_model_module_version": "1.2.0",
            "_model_name": "LayoutModel",
            "_view_count": null,
            "_view_module": "@jupyter-widgets/base",
            "_view_module_version": "1.2.0",
            "_view_name": "LayoutView",
            "align_content": null,
            "align_items": null,
            "align_self": null,
            "border": null,
            "bottom": null,
            "display": null,
            "flex": null,
            "flex_flow": null,
            "grid_area": null,
            "grid_auto_columns": null,
            "grid_auto_flow": null,
            "grid_auto_rows": null,
            "grid_column": null,
            "grid_gap": null,
            "grid_row": null,
            "grid_template_areas": null,
            "grid_template_columns": null,
            "grid_template_rows": null,
            "height": null,
            "justify_content": null,
            "justify_items": null,
            "left": null,
            "margin": null,
            "max_height": null,
            "max_width": null,
            "min_height": null,
            "min_width": null,
            "object_fit": null,
            "object_position": null,
            "order": null,
            "overflow": null,
            "overflow_x": null,
            "overflow_y": null,
            "padding": null,
            "right": null,
            "top": null,
            "visibility": null,
            "width": null
          }
        },
        "c30ff411d2534f93b4f58372c77ac2d1": {
          "model_module": "@jupyter-widgets/controls",
          "model_name": "DescriptionStyleModel",
          "model_module_version": "1.5.0",
          "state": {
            "_model_module": "@jupyter-widgets/controls",
            "_model_module_version": "1.5.0",
            "_model_name": "DescriptionStyleModel",
            "_view_count": null,
            "_view_module": "@jupyter-widgets/base",
            "_view_module_version": "1.2.0",
            "_view_name": "StyleView",
            "description_width": ""
          }
        },
        "e74c57dfe7be41abb48fb9858414f6dc": {
          "model_module": "@jupyter-widgets/base",
          "model_name": "LayoutModel",
          "model_module_version": "1.2.0",
          "state": {
            "_model_module": "@jupyter-widgets/base",
            "_model_module_version": "1.2.0",
            "_model_name": "LayoutModel",
            "_view_count": null,
            "_view_module": "@jupyter-widgets/base",
            "_view_module_version": "1.2.0",
            "_view_name": "LayoutView",
            "align_content": null,
            "align_items": null,
            "align_self": null,
            "border": null,
            "bottom": null,
            "display": null,
            "flex": null,
            "flex_flow": null,
            "grid_area": null,
            "grid_auto_columns": null,
            "grid_auto_flow": null,
            "grid_auto_rows": null,
            "grid_column": null,
            "grid_gap": null,
            "grid_row": null,
            "grid_template_areas": null,
            "grid_template_columns": null,
            "grid_template_rows": null,
            "height": null,
            "justify_content": null,
            "justify_items": null,
            "left": null,
            "margin": null,
            "max_height": null,
            "max_width": null,
            "min_height": null,
            "min_width": null,
            "object_fit": null,
            "object_position": null,
            "order": null,
            "overflow": null,
            "overflow_x": null,
            "overflow_y": null,
            "padding": null,
            "right": null,
            "top": null,
            "visibility": null,
            "width": null
          }
        },
        "9fa353004a044436a941cfcff4f62938": {
          "model_module": "@jupyter-widgets/controls",
          "model_name": "ProgressStyleModel",
          "model_module_version": "1.5.0",
          "state": {
            "_model_module": "@jupyter-widgets/controls",
            "_model_module_version": "1.5.0",
            "_model_name": "ProgressStyleModel",
            "_view_count": null,
            "_view_module": "@jupyter-widgets/base",
            "_view_module_version": "1.2.0",
            "_view_name": "StyleView",
            "bar_color": null,
            "description_width": ""
          }
        },
        "1d710e11e536486ea303bb12de13b905": {
          "model_module": "@jupyter-widgets/base",
          "model_name": "LayoutModel",
          "model_module_version": "1.2.0",
          "state": {
            "_model_module": "@jupyter-widgets/base",
            "_model_module_version": "1.2.0",
            "_model_name": "LayoutModel",
            "_view_count": null,
            "_view_module": "@jupyter-widgets/base",
            "_view_module_version": "1.2.0",
            "_view_name": "LayoutView",
            "align_content": null,
            "align_items": null,
            "align_self": null,
            "border": null,
            "bottom": null,
            "display": null,
            "flex": null,
            "flex_flow": null,
            "grid_area": null,
            "grid_auto_columns": null,
            "grid_auto_flow": null,
            "grid_auto_rows": null,
            "grid_column": null,
            "grid_gap": null,
            "grid_row": null,
            "grid_template_areas": null,
            "grid_template_columns": null,
            "grid_template_rows": null,
            "height": null,
            "justify_content": null,
            "justify_items": null,
            "left": null,
            "margin": null,
            "max_height": null,
            "max_width": null,
            "min_height": null,
            "min_width": null,
            "object_fit": null,
            "object_position": null,
            "order": null,
            "overflow": null,
            "overflow_x": null,
            "overflow_y": null,
            "padding": null,
            "right": null,
            "top": null,
            "visibility": null,
            "width": null
          }
        },
        "987460949013422aa95cffaec44bf033": {
          "model_module": "@jupyter-widgets/controls",
          "model_name": "DescriptionStyleModel",
          "model_module_version": "1.5.0",
          "state": {
            "_model_module": "@jupyter-widgets/controls",
            "_model_module_version": "1.5.0",
            "_model_name": "DescriptionStyleModel",
            "_view_count": null,
            "_view_module": "@jupyter-widgets/base",
            "_view_module_version": "1.2.0",
            "_view_name": "StyleView",
            "description_width": ""
          }
        }
      }
    }
  },
  "cells": [
    {
      "cell_type": "code",
      "execution_count": 1,
      "metadata": {
        "id": "kvvihmmJa4c-"
      },
      "outputs": [],
      "source": [
        "!pip -q install txtai[all] langchain pypdf > /dev/null"
      ]
    },
    {
      "cell_type": "code",
      "source": [
        "%%capture\n",
        "\n",
        "from langchain.text_splitter import RecursiveCharacterTextSplitter\n",
        "from txtai.embeddings import Embeddings\n",
        "from langchain.document_loaders import PyPDFLoader\n",
        "import glob"
      ],
      "metadata": {
        "id": "fH4H2mk9bKdB"
      },
      "execution_count": 2,
      "outputs": []
    },
    {
      "cell_type": "code",
      "source": [
        "!unzip /content/04\\ studies.zip -d /content/studies"
      ],
      "metadata": {
        "id": "jZTDlw1LbKn3"
      },
      "execution_count": null,
      "outputs": []
    },
    {
      "cell_type": "code",
      "source": [
        "pdf_text = []\n",
        "for pdf in glob.glob('/content/studies/*.pdf'):\n",
        "  loader = PyPDFLoader(pdf)\n",
        "  pages = loader.load()\n",
        "  pdf_text.extend(pages)"
      ],
      "metadata": {
        "id": "WOxG-Yk8bKpb"
      },
      "execution_count": 7,
      "outputs": []
    },
    {
      "cell_type": "code",
      "source": [
        "pdf_text[0]"
      ],
      "metadata": {
        "id": "OXaOMVlbdTE3",
        "outputId": "17ea8e71-0671-4e62-d40b-b02b82cc6e97",
        "colab": {
          "base_uri": "https://localhost:8080/",
          "height": 165
        }
      },
      "execution_count": 5,
      "outputs": [
        {
          "output_type": "error",
          "ename": "IndexError",
          "evalue": "ignored",
          "traceback": [
            "\u001b[0;31m---------------------------------------------------------------------------\u001b[0m",
            "\u001b[0;31mIndexError\u001b[0m                                Traceback (most recent call last)",
            "\u001b[0;32m<ipython-input-5-4ab26f866306>\u001b[0m in \u001b[0;36m<cell line: 1>\u001b[0;34m()\u001b[0m\n\u001b[0;32m----> 1\u001b[0;31m \u001b[0mpdf_text\u001b[0m\u001b[0;34m[\u001b[0m\u001b[0;36m0\u001b[0m\u001b[0;34m]\u001b[0m\u001b[0;34m\u001b[0m\u001b[0;34m\u001b[0m\u001b[0m\n\u001b[0m",
            "\u001b[0;31mIndexError\u001b[0m: list index out of range"
          ]
        }
      ]
    },
    {
      "cell_type": "code",
      "source": [
        "document_splitter = RecursiveCharacterTextSplitter(chunk_size=350,\n",
        "                                                   chunk_overlap=25,\n",
        "                                                   length_function=len)"
      ],
      "metadata": {
        "id": "GNZjPSfodTBw"
      },
      "execution_count": 8,
      "outputs": []
    },
    {
      "cell_type": "code",
      "source": [
        "split_data = []\n",
        "for docs in pdf_text:\n",
        "  print(docs)\n",
        "  temp_split = document_splitter.split_text(docs.page_content)\n",
        "  split_data.extend(temp_split)"
      ],
      "metadata": {
        "id": "rOtX8eJCdS20",
        "outputId": "dfc60ac8-fa37-4f6a-b99f-a23e16e03845",
        "colab": {
          "base_uri": "https://localhost:8080/"
        }
      },
      "execution_count": 9,
      "outputs": [
        {
          "output_type": "stream",
          "name": "stdout",
          "text": [
            "page_content='Experienced Mindfulness Meditators Exhibit Higher\\nParietal-Occipital EEG Gamma Activity during NREM\\nSleep\\nFabio Ferrarelli1, Richard Smith1, Daniela Dentico1, Brady A. Riedner1, Corinna Zennig1, Ruth M. Benca1,\\nAntoine Lutz2,4, Richard J. Davidson2,3, Giulio Tononi1*\\n1Department of Psychiatry, University of Wisconsin-Madison, Madison, Wisconsin, United States of America, 2Waisman Center for Brain Imaging and Behavior, University\\nof Wisconsin-Madison, Madison, Wisconsin, United States of America, 3Department of Psychology, University of Wisconsin-Madison, Madison, Wisconsin, United States of\\nAmerica, 4Lyon Neuroscience Research Center, Lyon 1 University, Lyon, France\\nAbstract\\nOver the past several years meditation practice has gained increasing attention as a non-pharmacological intervention to\\nprovide health related benefits, from promoting general wellness to alleviating the symptoms of a variety of medical\\nconditions. However, the effects of meditation training on brain activity still need to be fully characterized. Sleep provides a\\nunique approach to explore the meditation-related plastic changes in brain function. In this study we performed sleep high-density electroencephalographic (hdEEG) recordings in long-term meditators (LTM) of Buddhist meditation practices\\n(approximately 8700 mean hours of life practice) and meditation naive individuals. We found that LTM had increased\\nparietal-occipital EEG gamma power during NREM sleep. This increase was specific for the gamma range (25–40 Hz), wasnot related to the level of spontaneous arousal during NREM and was positively correlated with the length of lifetime dailymeditation practice. Altogether, these findings indicate that meditation practice produces measurable changes in\\nspontaneous brain activity, and suggest that EEG gamma activity during sleep represents a sensitive measure of the long-\\nlasting, plastic effects of meditative training on brain function.\\nCitation: Ferrarelli F, Smith R, Dentico D, Riedner BA, Zennig C, et al. (2013) Experienced Mindfulness Meditators Exhibit Higher Parietal-Occipital EEG Gamm a\\nActivity during NREM Sleep. PLoS ONE 8(8): e73417. doi:10.1371/journal.pone.0073417\\nEditor: Wieslaw Nowinski, Biomedical Imaging Lab, Agency for Science, Singapore\\nReceived February 27, 2013; Accepted July 22, 2013; Published August 28, 2013\\nCopyright: /C2232013 Ferrarelli et al. This is an open-access article distributed under the terms of the Creative Commons Attribution License, which permits\\nunrestricted use, distribution, and reproduction in any medium, provided the original author and source are credited.\\nFunding: This work was supported by the National Center for Complementary and Alternative Medicine (NCCAM) P01AT004952 to TG, RJD and AL, grants from\\nthe National Institute of Mental Health (NIMH) R01-MH43454, P50-MH084051 to RJD, grants from the Fetzer Institute and the John Templeton Foundation to RJD,\\na core grant to the Waisman Center from the National Institute of Child Health and Human Development [P30 HD003352-449015], and a International Re-\\nintegration Grants (IRG), FP7-PEOPLE-2009-RG for AL. The funders had no role in study design, data collection and analysis, decision to publish, or p reparation of\\nthe manuscript.\\nCompeting Interests: The authors have declared that no competing interests exist.\\n* E-mail: gtononi@wisc.edu\\nIntroduction\\nMeditation can be conceptualized as a set of regulatory and self-\\ninquiry mental training regimes cultivated for various ends,including the training of well-being and psychological health[1,2],[3]. Accumulating evidence suggests that meditation traininginduces functional and anatomical neuronal changes [1],[2,3].These neuroplastic changes are linked to changes in behaviorduring cognitive and affective tasks [4],[3]. The investigation ofspontaneous brain activity, at rest or during practice, is a sensitiveapproach to identify these neuroplastic changes. Some studiesfound meditation-related increases in alpha and theta frequency\\nbands, particularly in frontal midline and prefrontal areas, which\\nwere associated with increased relaxation (reviewed in [5]).Another study showed that long-term meditators (LTM) hadhigh-amplitude gamma band (25–40 Hz) oscillations duringmental practice localized to lateral frontal and posterior parietalelectrodes bilaterally [6]. A gamma power increase in a parietal-occipital region was also reported in another group of LTM duringVipassana meditation [7], whereas in a recent EEG studymeditation experts showed higher parietal-occipital gamma powercompared to novices during resting wakefulness preceding\\nmeditation practice [8].\\nAn important question raised by these studies is whether\\nenhanced EEG activity is state dependent (e.g.– occurring only\\nduring meditation and immediately after it), or trait dependent\\n(e.g. – occurring outside of formal meditation practice) [5]. Thelatter would suggests that long-term meditation training causes\\nlasting neuro-plastic changes in cortico-thalamic circuits, which\\nshould be detected in the spontaneous brain activity [9]. Thisquestion is difficult to address because meditation training occurs\\nat multiple time-scales. For example it can happen intensively, as\\nduring meditation retreats, or less intensively but across a longerperiod, as during daily practice. Training also occurs, in different\\ncontexts, either during formal practice, or when the practitioner\\nintentionally cultivates meditative qualities within her/his dailyactivities. Another critical methodological issue is that resting state\\nin meditation experts may be an elusive concept. Indeed, it is\\npossible that during wakefulness a meditator may spontaneouslyenter a meditative state while \"at rest\" as a consequence of his/her\\nlevel of training. However, during sleep brain activity is directed\\nby neither conscious effort nor attention, but rather reflects theintrinsic function of cortico-cortical and cortico-thalamic circuits\\nPLOS ONE | www.plosone.org 1 August 2013 | Volume 8 | Issue 8 | e73417' metadata={'source': '/content/studies/Ferrarelli 2013 Experienced Mindfulness Meditators.pdf', 'page': 0}\n",
            "page_content='[10]. Thus, the examination of sleep EEG is an effective means to\\nidentify individual trait differences in the brain unconfounded bythe effect of meditation on waking mentation. [11].\\nThe recent availability of high-density electroencephalography\\n(hdEEG) has greatly enhanced the spatial resolution of standardEEG recordings, thus allowing for better characterization of localplastic changes [12],[13],[14],[15]. HdEEG studies of sleeprhythms, with good spatial and temporal resolution, are extremelysensitive measures of changes in the activity in corticothalamiccircuits. For example, we previously showed that slow wave\\nparameters, such as amplitude and slope, display local changes in\\nthe brain in response to learning [16],[17],[12]. Moreover, wehave demonstrated that sleep spindle activity is decreased inschizophrenic subjects compared to controls [14]. Finally, gammapower has been shown to increase during NREM sleep in humansubjects following declarative learning [18].\\nHere we performed whole night sleep hdEEG (256-channels) in\\nexperienced meditators (LTM) and meditation naive individualsmatched for age and sex. Even if this is a correlative and not acausal approach, it paves the way for studies on long term plasticeffects of meditation on brain activity in healthy humans.\\nMaterials and Methods\\nParticipants\\nTwenty-nine right-handed long-term meditators (LTM, mean\\nage = 50.7 610.4, 15 female) and a group of twenty-nine\\nmeditation naive subjects matched for age and sex were recruited.LTM had a history of daily meditation practice of at least 3 yearsand had participated in at least 3 one-week intensive retreats.Mean duration of meditation training was 15.6 years ( 67.8, SD).\\nNaive subjects had no previous experience with meditation. AllLTM participants were proficient in meditation practices, astaught within the framework of either Theravada or TibetanBuddhisms. These practices included two attention-based medita-tions, which we referred to as open monitoring (OM) and focusedattention (FA), as well as one compassion/loving kindnessmeditation referred to as metta meditation [1] (Table 1). Briefly,FA meditation involves directing and sustaining attention on aselected object (e.g., breathing), detecting mind wandering anddistractors (e.g., thoughts), as well as disengagement of attentionfrom distractors and shifting of the focus of attention back to theselected object. By contrast, OM meditation has no explicit focusof attention, but rather requires nonreactive meta cognitivemonitoring of anything that is experienced, thus replacing the\"effortful\" selection of an object as primary focus with an\"effortless\" sustained awareness of the rich features of eachexperience [1]. The practice of compassion/loving kindnessmeditation is a form of concentration practice where thepractitioner focuses his/her mind on the suffering of oneself orothers and then on the wish that the individual(s) in question maybe happy and free from suffering. After an initial phone screeningto collect the medical and psychiatric history, each subjectunderwent a thorough in-person screening, which included several\\nquestionnaires (see below). Sleep-disordered breathing and sleep-\\nrelated movement disorders were also established/excluded within-laboratory polysomnography (see below). All subjects providedwritten informed consent and were instructed to maintain regularsleep-wake schedules in the week preceding EEG recordings. Thisstudy was approved by the Institutional Review Board of theUniversity of Wisconsin-Madison.Study design\\nAll subjects underwent in-laboratory hdEEG polysomnography\\n(PSG) that utilized 256 channel hdEEG (Electrical Geodesics Inc.,\\nEugene, OR), as well as standard sleep monitoring leads, includingelectrooculogram, sub-mental electromyogram, electrocardio-\\ngram, bilateral tibial electromyogram, respiratory inductance\\nplethysmography, pulse oximetry, and a position sensor. Partic-ipants arrived at the laboratory between 4:00 and 5:00 p.m. forset-up that took approximately two hours. Baseline EEG and an\\nattention and a fear conditioning task were performed. After 9pm\\nthe participants were allowed to sleep undisturbed in thelaboratory beginning within one hour of their usual bedtime.\\nAdditional measures were collected the next day. In this report we\\nwill focus only on the EEG data during sleep.\\nSelf reported measures\\nThe socioeconomic status (SES) measure (Socioeconomic status\\nwas measured with the Hollingshead Index of Social Position,[19]) was administered to assess the level of education. The Quick\\nInventory of Depressive Symptoms [20] and the Symptom\\nChecklist-90-Revised [21] were collected to exclude currentdepression and other mental health issues. The cut-off for\\nexclusion was a score ,2 for both questionnaires. Additionally,\\neach participant completed validated sleep rating scales, includingthe Insomnia Severity Index (ISI) [22], the Fatigue Severity Scale\\n(FSS) [23], the Epworth Sleepiness Scale [24], a sleep history\\nquestionnaire, and the Stanford Sleepiness Scale [25] to assess forsymptoms of common sleep disorders, such as restless legssyndrome and obstructive sleep apnea. Thresholds for exclusion\\nwere an ISI .10 and/or an FSS .4 and/or an ESS .9.\\nMeditation Practice\\nLTM had an average of 8762 lifetime hours of meditation\\npractice, ranging from 1,526 to 32,349 total hours. Thecomputation of lifetime hours of practice was based on subjects’\\nreports of their average hours of formal (sitting and walking)\\nmeditation practice per week, including time spent on meditationretreats (for details see Table 1).\\nSleep PSG assessment and hdEEG data analysis\\nSleep staging, which was based on six mastoid-referenced\\nchannels (F3, F4, C3, C4, O1, and O2), a sub-mental electro-\\nmyogram and an electrooculogram, was performed by a registered\\npolysomnographic technologist in 30-second epochs according tostandard criteria [26] using Alice HSleepware (Philips Respironics,\\nMurrysville, PA) The sleep technician was blind to group\\nassignment. PSG recordings were reviewed by a board certifiedsleep medicine physician, who was able to confirm the absence of\\nsleep disorders in 26 out of 29 LTM. Two LTM met the clinical\\ncriteria for sleep-related movement disorders (periodic limbmovement arousal index .10/h), while one had sleep-disordered\\nbreathing (apnea–hypopnea index .10/h). As a result, data from\\nthese three LTM (as well as from the age- and sex- matched\\nmeditation naives) were not further analyzed. All-night sleephdEEG recordings were collected with vertex-referencing, using a\\nNetAmps 300 amplifier and NetStation software (Electrical\\nGeodesics Inc., Eugene, OR). EEG data were sampled at500 Hz, and a first-order high-pass filter (Kaiser type, 0.1 Hz)was applied to eliminate the DC shift. Data were then band-pass\\nfiltered (1–50 Hz), down-sampled to 128 Hz and average-refer-\\nenced to the mean power in all channels. Spectral analysis wasperformed for each channel in six-second epochs (Welch’s\\naveraged modified periodogram with a Hamming window). ForLocal NREM Sleep Gamma Increase in Meditators\\nPLOS ONE | www.plosone.org 2 August 2013 | Volume 8 | Issue 8 | e73417' metadata={'source': '/content/studies/Ferrarelli 2013 Experienced Mindfulness Meditators.pdf', 'page': 1}\n",
            "page_content='NREM sleep data, a semi-automatic artifact rejection was\\nconducted to remove six-second sleep epochs which exceeded athreshold based on the mean power at either a low (1–4 Hz) orhigh (20–30 Hz) frequency band [27],[28]. EEG channels inwhich artifacts affected most of the recording were excluded. REMsleep epochs were visually analyzed and divided in tonic andphasic (i.e., characterized by rapid eye movements). To eliminateartifacts distinctively observed during REM sleep (i.e., muscletwitches, eye movements, heartbeats), independent componentanalysis (ICA) was performed [29]. After removal of ICAcomponents, power spectral of tonic and phasic REM epochswas computed. We computed six frequency ranges (delta: 1–4.5 Hz, theta: 4.5–8 Hz, alpha: 8–12 Hz, sigma; 12–15 Hz, beta:15–25 Hz, and gamma: 25–40 Hz) consistent with previousstudies from our lab [30]. In order to determine whether groupdifferences in NREM gamma activity were related to increasedmuscle tone or variation in saccades, we compared the power inthe gamma band in neck EMG and EOG derivations [30]between LTM and meditation naive participants.\\nSleep cycles were defined according to the modified criteria [31]\\nof Feinberg and Floyd [32] also consistent with our previousstudies [33].\\nStatistics\\nDifferences in clinical as well as sleep architecture variables\\nwere examined using 2-tailed, unpaired t-tests. Topographicalanalysis was computed after spatially normalizing each subject’stopography (z-score across all channels) within the frequencybands of interest as a means to reduce between-subject variance.Group differences in topographical NREM and REM sleephdEEG power were assessed with statistical non-parametricmapping (SnPM) using a suprathreshold cluster test to identifysignificant groups of electrodes after accounting for the multiplecomparisons due to the numerous electrodes [34]. Briefly, anappropriate threshold t-value was chosen (t = 2, corresponding toa= 0.05 for the given degrees of freedom) before topographic\\npower maps were randomly shuffled between groups (LTM andmeditation naive individuals). The size of the largest cluster abovethe threshold for each reshuffling was then used to create a clustersize distribution. Given the impracticality of computing all possiblecombinations (4.96 61014), 50000 unique combinations were run\\nfor each comparison in order to approximate the actual clusterdistribution. The suprathreshold cluster p-value was then deter-\\nmined by comparison of the true cluster size against the\\napproximate maximal cluster size distribution. Bonferroni correc-tion of the p value was performed to account for the 18 testsderiving from separately evaluating 6 different frequency bands\\nover the course of 3 distinct phases of sleep.\\nThe magnitude of NREM sleep EEG gamma power differences\\nbetween LTM and meditation naive individuals was assessed with\\nthe Cohen’s d, a measure of the effect size [35]. We also performed\\ncorrelation analysis between duration of meditation practice inLTM and NREM sleep EEG gamma power, as well as TST and\\nWASO. Statistical analyses were performed using MATLAB (The\\nMathWorks Inc., Natick, MA) and STATISTICA (StatSoft Inc.,\\nTulsa, OK). Non-parametric statistics were used to assess group\\ndifferences in EMG, EOG, and global EEG gamma power\\n(Wilcoxon rank sum test), as well as to correlate gamma power\\nwith variables of interest (Spearman rank correlation). An outlier\\nsubject was excluded from the correlation between EEG gamma\\npower and hours of daily practice in LTM based on a suspected\\nover inflation of daily practice (value above 1.5 interquartile ranges\\nfrom the 75th percentile). Specifically, this LTM had the least\\namount of retreat time compared with all the LTMs, but the\\nhighest amount of non-retreat hours.\\nResults\\nDemographics and sleep variables\\nThe LTM and the meditation naive groups were matched for\\nage and sex (see Table 2). Additionally, the groups did not differ in\\neducation level, as assessed by the socioeconomic status question-\\nnaire (Table 2). LTM had a significantly reduced total sleep time\\n(TST) as well as an increased wake after sleep onset (WASO)\\ncompared to meditation naive subjects (Table 2). These sleep\\nparameters did not show a correlation with daily meditation\\npractice. By contrast, the two groups did not differ in sleep onset\\nlatency or in the relative time (% of TST) spent in each sleep stage\\nand did not differ in the number of arousals (Table 2).\\nLTM had higher NREM sleep gamma power compared to\\nmeditation naives in a parietal-occipital brain region\\nWe first checked for global, frequency non-specific differences,\\nby comparing the absolute average power across the spectrum\\nbetween the groups. This analysis revealed no difference between\\nLTM and meditation naive individuals (p = 0.094). We then\\nfocused on local, frequency specific effects. Whole night NREM\\nsleep EEG power was topographically compared between LTM\\nand meditation naives by spatially normalizing each subject’s map\\nto the average power in six frequency ranges (delta: 1–4.5 Hz,theta: 4–8 Hz, alpha: 8–12 Hz, sigma; 12–15 Hz, beta: 15–\\n25 Hz, and gamma: 25–40 Hz). A frequency specific increase in\\nEEG gamma power was found in LTM. Whereas NREM sleepTable 1. Information about long-term meditators’ (LTM) practice history: In our convention, Focused Attention meditation\\nencompasses concentrative practices such as Theravada Jhana, or breath awareness meditation.\\nTotal amount of meditation practice in life (in hours) Mean, 8126; SD, 6066; Min, 1439; Max, 32613\\nDaily practice (Mean 50.5%, SD 28.6%) vs retreat practice (Mean 49.5%, SD 72.6%)\\nLTM’s meditation lineage type (N = 26) Theravada (N = 21)\\nTibetan Buddhism (N = 2)\\nMixed of the above, or of the above with Zen (N = 3)\\nMeditation practices (%) Focused Attention meditation\\n(Mean, 33.0; SD, 22.6)Open Monitoring meditation\\n(Mean, 51.4; SD, 23.6)Compassion/loving kindness meditationOther meditations\\n(Mean, 14.0; SD, 10.8) (Mean, 1.6; SD, 6.1)\\nOpen Monitoring meditation encompasses practices such as Vipassana meditation.\\ndoi:10.1371/journal.pone.0073417.t001Local NREM Sleep Gamma Increase in Meditators\\nPLOS ONE | www.plosone.org 3 August 2013 | Volume 8 | Issue 8 | e73417' metadata={'source': '/content/studies/Ferrarelli 2013 Experienced Mindfulness Meditators.pdf', 'page': 2}\n",
            "page_content='gamma power in both LTM and meditation naives was strongest\\nin frontal/prefrontal areas, and weakest in the temporal regionsbilaterally (Figure 1, top row), LTM showed higher relative EEGgamma activity in a parietal-occipital region compared tomeditation naives (Figure 1, bottom left). Suprathreshold clusteranalysis, a statistical non parametric mapping test (SnPM) whichcorrects for the multiple comparison problem resulting from thenumerous individual electrode tests inherent in hdEEG analysis,confirmed that a parieto-occipital cluster (N = 39 electrodes)\\nshowed significantly higher relative gamma power in LTM\\ncompared to meditation naive subjects (SnPM, p = 0.002,Figure 1, bottom right). This result survived Bonferroni correctionfor the 18 tests derived from separately evaluating 6 differentfrequency bands over the course of 3 distinct phases of sleep(p = 0.05/18 = 0.003). Therefore, we wanted to check whether thistopographical increase in gamma power was paralleled by adifference in the non-normalized gamma power between groups.We found a parieto-occipital cluster (N = 46 electrodes) largelyoverlapping the normalized cluster, that showed significantlyhigher absolute gamma power in LTM compared to meditationnaive subjects (SnPM, p = 0.036). We also examined whether thisresult was consistent across the night and found similar results inthe first three NREM cycles, although the magnitude of the resultin the first NREM cycle did not survive multiple comparisoncorrections after normalization (SnPM, normalized data, cycle 2:N = 20, p = 0.012, cycle 3: N = 30, p = 0.002; absolute data, cycle1: N = 37, p = 0.0250, cycle 2: N = 44, p = 0.021, cycle 3: N = 54,p = 0.020). Similar results were obtained when breaking downNREM by stages into N2 and N3, with only N2 surviving multiplecomparisons corrections after normalization (SnPM, normalizeddata, N2: N = 23, p = 0.010; absolute data, N2: N = 49, p = 0.019,N3, N = 51, p = 0.014). We suspect that the low values of gammaat the beginning of the night as well as during deep NREM sleepmake it difficult to appreciate a difference between groups andtherefore the effect is evident but less robust during these times.\\nWe found no gamma power difference in either the electro-\\nmyographic (EMG) or electrooculographic (EOG) derivationsbetween the two groups (p = 0.589 and p = 0.493 respectively)(Table 2), suggesting that the local gamma increase was not\\nartifactual. SnPM topographic analysis found no significantdifferences between the two groups for the other five frequencyranges.\\nLTM NREM sleep gamma power correlated with\\nmeditation training\\nTo further characterize the gamma increase at the individual\\nsubject level, we calculated the average NREM gamma power of\\nthe parietal-occipital cluster for each subject. The average clusterdifference in gamma power between groups was 35% (Figure 2,left panel) and the between group Cohen’s d was 0.8,\\ncorresponding to a large effect size (more than 50% separation\\nbetween LTM and meditation naives). We next investigatedwhether the cluster gamma power was significantly correlated withthe overall duration of meditation practice. We found a significant\\ncorrelation between parietal-occipital NREM gamma power and\\ndaily meditation practice, but not retreat time (rho = 0.475,p = 0.017, and rho = 0.029, p = 0.887, for daily practice andretreat time respectively). As gamma power in LTM was\\ncorrelated with age (rho = 0.487, p = 0.012), we further tested\\nwhether the age of meditation naive individuals predicted alsoEEG gamma power, but no correlation was found (rho = 20.035,\\np = 0.866). For each group there was also no correlation betweengamma power in the cluster and the significantly different sleep\\narchitecture variables (TST, rho = 20.195, p = 0.339, rho = 0.287,\\np = 0.156; WASO, rho = 0.170, p = 0.408, rho = 20.319,\\np = 0.112, for LTM and meditation naive individuals, respective-ly). Thus, daily practice was the most sensitive predictor of the\\ncorrelation with gamma power activity.\\nREM sleep gamma power did not differ between LTM\\nand naives\\nTo assess whether the gamma increase of LTM was specific for\\nNREM sleep, topographic EEG analysis of REM sleep was alsoperformed. As previous literature has suggested functionaldifferences between tonic and phasic REM, we separated these\\ntwo REM sleep patterns in our analysis [36],[37],[38]. Both tonicTable 2. Clinical and sleep variables of subject groups.\\nLong Term Meditators Meditation Naive\\n(N = 26) (n = 26)\\nClinical Variables p values\\nAge 49.4 610.7 47.0 610.8 n.s\\nGender (F/M) 14/12 14/12 n.s.\\nSleep Variables\\nTotal sleep time (min) 368.5 651.5 404.8 625.3 0.001\\nSleep onset latencya(min) 11.0 615.35 9.6 610.7 n.s.\\nREM onset latencyb(min) 120.56 663.82 107.83 647.44 n.s.\\nWASOc(min) 74.1 647.1 43.5 618.4 0.003\\nNREM N1 (%) 11.0 65.7 9.7 65.4 n.s.\\nNREM N2 (%) 61.3 67.6 64.3 610.0 n.s.\\nNREM N3 (%) 10.7 66.8 9.0 69.8 n.s.\\nREM (%) 17.0 65.3 17.0 64.9 n.s.\\na.Sleep onset latency is defined as the time from the beginning of lights out until the first staged epoch other than wake.\\nb.REM onset latency is defined as the time from Sleep onset until the first staged REM sleep epoch.\\nc.WASO = wake after sleep onset.\\ndoi:10.1371/journal.pone.0073417.t002Local NREM Sleep Gamma Increase in Meditators\\nPLOS ONE | www.plosone.org 4 August 2013 | Volume 8 | Issue 8 | e73417' metadata={'source': '/content/studies/Ferrarelli 2013 Experienced Mindfulness Meditators.pdf', 'page': 3}\n",
            "page_content='Figure 1. Long-term practitioners (LTM) had higher NREM gamma power (25–40 Hz) compared to meditation naives in a parietal-\\noccipital region. As shown in topographic color plots (colorbar in mV2), both groups had maximal EEG gamma power in frontal/prefrontal regions.\\nFurthermore, LTM showed a 35% gamma power increase in a parietal-occipital region compared to meditation naives. The pink area in the whitetopographic plot depicts the parietal-occipital electrode cluster (N = 39) with a significant power increase in LTM (p = 0.002, Statistical non Param etric\\nMapping, SnPM).\\ndoi:10.1371/journal.pone.0073417.g001\\nFigure 2. NREM Gamma increase in LTM compared to meditation naives had a large effect size (ES = 0.8, Panel A), and wassignificantly correlated with the length of meditation daily practice (rho = 0.475, p = 0.017, Panel B).doi:10.1371/journal.pone.0073417.g002Local NREM Sleep Gamma Increase in Meditators\\nPLOS ONE | www.plosone.org 5 August 2013 | Volume 8 | Issue 8 | e73417' metadata={'source': '/content/studies/Ferrarelli 2013 Experienced Mindfulness Meditators.pdf', 'page': 4}\n",
            "page_content='and phasic REM gamma power peaked in a frontal/prefrontal as\\nwell as in a parieto-occipital region in LTM and meditation naives(Figure S1). SNPM analyses revealed no topographical differences\\nin any frequency band in REM sleep between the two groups.\\nDiscussion\\nBy performing sleep hdEEG (256 channels) recordings in this\\nstudy we found that LTM had increased parietal-occipital EEG\\ngamma power during NREM sleep compared to meditation\\nnaives. This increase was specific for the gamma frequency range,was not found during REM sleep, and was positively correlated\\nwith the length of daily meditation practice.\\nThe LTMs recorded in this study were experienced in Focused\\nAttention (FA), Open Monitoring (OM), as well as loving\\nkindness/compassion meditations. An increase in gamma activitywas recently demonstrated in expert Buddhist practitioners\\n(.10.000 hours of practice) during a style of meditation which\\ncontains features of both loving kindness/compassion and OMmeditations [39]. Compared to a group of novices, the expert\\npractitioners showed self-induced, higher-amplitude, sustained\\nEEG gamma-band oscillations, especially over lateral frontal-parietal electrodes, while meditating as well as in the resting state\\nimmediately preceding and following meditation [6]. Notably, a\\nlink between higher gamma-band activity and stronger cognitivecontrol has been reported by a variety of human electrophysio-\\nlogical techniques, including magnetoencephalography (MEG)\\n[40], scalp EEG [41], and direct cortical recordings [42].Furthermore, a recent EEG study has found that LTM had\\nincreased gamma power in a parietal-occipital area compared to\\nmeditation naive individuals during resting state, as well as duringmeditation practice as compared to baseline [8]. Based on these\\nfindings, the authors concluded that enhanced posterior EEG\\ngamma power was a state (meditation-related), and to some sameextent trait (resting state associated) feature of meditation practice.\\nHere we established that LTM had higher EEG gamma power\\nover an extended period of spontaneous brain activity (i.e., whole\\nnight NREM sleep) compared to meditation naive individuals.\\nThis parietal-occipital gamma increase corresponded to a largeeffect size (ES = 0.8, allowing more than 50% separation between\\nmeditation experts and naives). These findings strongly suggest\\nthat changes in EEG gamma activity related to meditationpractice are trait (in addition to state) related. Comparing the\\nactivity of meditation experts and novices during an unambiguous\\nresting condition is a challenging task [5]. This is becauseexperienced long-term meditation experts are usually able to\\nblend formal meditation session with daily life, and that a\\nmeditator might spontaneously generate a meditative state whileat rest in the lab out of demand characteristic. In this regard, sleep\\nprovides an exquisite window to explore the spontaneous brain\\nactivity as well as the function of neural circuits at rest. Brainactivity during sleep does not require conscious effort or attention,\\nand a condition of physical immobility is obtained for several\\nhours. Moreover, the recently available combination of standardpolysomnography with hdEEG, which provides enhanced spatial\\nand temporal resolution, offers the opportunity to analyze in\\ngreater details NREM/REM sleep activity as well as to observelocal changes in brain function due to neuroplasticity [43],[16].\\nDaily practice and meditation retreat could contribute differ-\\nently to the neuroplastic changes induced by meditation. Forinstance, meditation frequency (days per week with meditation\\npractice) has recently been shown to reliably predict both higher\\nmindfulness and psychological well-being [44]. In this study weshowed that the daily practice, but not the retreat time, predictedthe parietal-occipital gamma activity during NREM sleep in\\nLTM. The differential effect of the amount of daily practice and of\\nretreat time on localized NREM gamma activity is to our\\nknowledge the first indication of a specific effect of constant\\nmeditation daily practice, but not of intensive retreat practice, onbrain neuroplasticity. On one side, this finding raises some\\nmethodological issues about how to quantify meditation practice,\\nsuggesting the potential usefulness of differentially investigating the\\ncontribution of retreat time and daily practice on behavioral and\\nphysiological measures. On the other side, it enhances the\\neffectiveness of our approach in revealing stable (trait-like) effects\\non brain functioning induced by prolonged training duringwaking.\\nIn the present study LTM had a significantly reduced total sleep\\ntime (TST) and increased wake after sleep onset (WASO)\\ncompared to meditation naive individuals. A reduction in TST\\nhas been recently reported by another sleep study in LTM [45],\\nand it indicates that meditation practice may decrease sleep needs.\\nHowever other studies [46,47] investigating sleep architecture\\ndidn’t find a reduction of TST, suggesting that the sleep\\narchitecture is not the most reliable parameter to study the effectof meditation on neuronal plasticity during sleep. Consistent with\\nthis idea, we did not find a correlation between the changes in any\\ntraditional polysomnographic sleep parameters and meditation\\npractice.\\nOnly a handful of studies so far have investigated the sleep EEG\\nactivity of meditation experts beyond sleep architecture. One of\\nthese studies explored EEG differences in thirteen individuals withat least 2 years of meditation experience during Transcendental\\nmeditation (TM; a form of meditation different from that explored\\nin the current study), resting wakefulness, drowsiness, and sleep\\nand found a progressive slowing of the main EEG frequency from\\nwakefulness to sleep, with no appreciable change in power\\nbetween wakefulness and meditation EEG [48]. The authors also\\nanalyzed the EEG activity of meditation practitioners and ofmeditation naive control subjects during resting wakefulness, and\\nfound no difference in power but a slight slowing in the mean EEG\\nfrequency of the practitioners; however, they did not compare the\\nsleep EEG of these two groups [48]. Another study found that\\neleven long term TM practitioners had increased theta-alpha\\npower during slow wave sleep compared to nine short term\\npractitioners as well as eleven experienced practitioners [49]. Herewe found no difference in theta-alpha EEG power between LTM\\nand meditation naive individuals during NREM sleep. Differences\\nin style of meditation practices may account for the discrepancy of\\nthese findings. Furthermore, whereas we screened participants for\\nsleep disorders and performed PSG recordings during the first\\nhdEEG night, the LTM recorded by Mason et al. did not undergo\\nsuch screening. An EEG pattern of alpha wave in delta wave sleep(alpha-delta sleep) is commonly reported in individuals with sleep\\ndisturbances, including restless leg syndrome [50] and sleep apnea\\n[51], and is associated with increased arousability and lighter sleep\\n[52]. Notably, their LTM spent a significantly higher amount of\\ntime in light (N1) NREM sleep, while we found no difference in\\nN1 between LTM and meditation naive individuals. [45]And\\nfinally, the type of meditation practice examined in the currentstudy differs from the practice studied in these other studies.\\nWhat is the functional meaning of the gamma increase in LTM\\nthat was found here during NREM sleep? A large body of\\nevidence from animal and human recordings have suggested that\\ngamma-frequency activity is implicated during wakefulness in\\nplasticity-related processes, including attention, learning, as well as\\nboth working and long-term memory [53]. For instance, anincrease in gamma activity occurs when sensory stimuli areLocal NREM Sleep Gamma Increase in Meditators\\nPLOS ONE | www.plosone.org 6 August 2013 | Volume 8 | Issue 8 | e73417' metadata={'source': '/content/studies/Ferrarelli 2013 Experienced Mindfulness Meditators.pdf', 'page': 5}\n",
            "page_content='attended [54], as well as during the active maintenance of\\nrepresentations during working memory tasks [55],[56]. Several\\nstudies employing EEG, MEG and intracranial EEG recordingshave also shown that gamma-frequency activity during encoding\\npredicts successful formation of long-term memory [57],[58].\\nLittle is still known about the functional significance of gammaactivity during sleep. In this study we found a gamma power\\nincrease in meditation experts during NREM sleep in a scalp\\nregion overlying posterior parietal and occipital cortical areas. Ourfinding is in line with the recent report of Valderrama et al., which\\nsuggested a functional significance for gamma oscillations during\\nNREM sleep in humans [59]. A possible confound in the study ofgamma activity is the presence of muscular or ocular artifacts in\\nthe scalp EEG. However, we found no difference in neck EMG\\nand EOG gamma power between LTM and meditation naiveindividuals. This result therefore strongly indicates that such\\nartifacts do not contribute significantly to our finding.\\nPrevious studies have reported an increase in fast-frequency\\nactivity during sleep in pathological conditions such as schizo-\\nphrenia, depression and insomnia [60],[61],[62]. This increase has\\nbeen associated with abnormalities in the arousal mechanisms[62]. However, this functional interpretation of gamma activity is\\nnot warranted for a number of reasons. First, we did not find a\\ngroup difference in arousal. Our finding was specific to spatiallynormalized gamma activity. Furthermore, the topography of the\\ncurrent finding over parietal-occipital electrodes differed from\\nthose earlier findings. Finally inter-individual variability in gammaactivity among meditators predicted daily meditation experience\\nin life, which has been found to predict positive mental health\\noutcomes [44],[1]. Instead, we speculate here the specific gammaincrease is not pathological, but reflects the lasting, plastic effect on\\nspecific neuronal circuits of long-term meditation practice. For\\ninstance, the parietal cortex has been implicated in directing thefocus of attention on a specific object [63], a cognitive skill\\nperfected by attention-based meditation [1]. The finding of higher\\nwhole night NREM gamma power in LTM compared tomeditation naives could therefore reflect an increase in activity\\nand connectivity within these neuronal circuits due to extensive\\nmeditation training. Consistent with this assumption, here weestablished that NREM sleep gamma band power correlated with\\nthe duration of daily meditation practice in LTM. This finding not\\nonly confirms a previous report from our group that the amount ofEEG gamma power generated during meditation by LTM\\ncorrelated with the length of their meditation training [6], but\\nalso suggests that EEG gamma activity during sleep may represent\\na trait-like sensitive measure for the neuronal plastic changes\\ndetermined over time by meditative training.\\nThe increase in NREM sleep parieto-occipital gamma power\\nreported here could also reflect an enhanced activity of the\\nunderlying cortical areas in LTM compared to meditation naives.Higher EEG gamma power reflects higher firing rates of the\\nunderlying neuronal populations [64], and local changes in\\ngamma oscillations closely mirror underlying activity in bothvisual [65],[66] and parietal default network-associated cortical\\nregions [67],[68]. During NREM sleep both neuronal firing and\\ngamma power tend to decrease, as does the ability to processsensory information [69],[70]. Thus, a higher gamma activity in\\nLTM could reflect a partially maintained capacity of parieto-\\noccipital sensory and default network-associated areas to processinformation and maintain some level of awareness, even during a\\nstate when usually these cognitive functions are greatly impaired.\\nConsistent with this idea, a higher incidence of dream reports hasbeen found in meditation experts compared to meditation naives\\neven during the deepest stages of NREM sleep [71]. If experiencedmeditators retain a higher capacity for internal information\\nprocessing and awareness during NREM sleep compared tomeditation naives, such advantage should be reduced during REMsleep, when these functions are partially restored and spontaneousneuronal firing/gamma activity is enhanced compared to NREMsleep [72]. In this study we found that LTM had only a slight, nonsignificant increase in REM sleep EEG gamma power comparedto meditation naives in the same parietal-occipital regions (FigureS1).\\nLimitations of the study include a lack of an adaptation night,\\nwhich could account for the truncated sleep time ( ,7 hrs) in all\\nparticipants, but it is unlikely to explain the observed groupdifference in the sleep EEG. Future work will also need to addresssome of the questions left unanswered in the present study. Forexample, the relationship found here between higher EEG gammaactivity and longer meditation daily practice suggests that gammapower is a good correlate of meditation training. This correlationshould be confirmed in longitudinal studies performing EEGrecordings in meditation naive individuals before and aftermeditation training, ideally using only one style of meditationpractice. It will also be important to investigate whether theobserved gamma increase may be affected by pre-existing\"baseline\" gamma activity differences between groups (i.e.,meditation experts and naives), as previously suggested [6].Gamma activity has been shown to be influenced by severalfactors, including age [73], sex [74], and cognitive abilities [75].However, these factors are unlikely to have contributed to thepresent findings, given that LTM and meditation naive subjectswere matched for age, sex, and did not differ in education level.Future studies should investigate whether the group difference inNREM gamma activity in meditators is associated to a specificmeditation practice (e.g. mindfulness meditation vs. compassionmeditation) or style of meditation training (e.g. Tibetan Buddhismvs. Theravada Buddhism). Specifically, investigating the acuteeffect of an intense meditation session in LTM on sleep EEGpatterns could help in establishing a causal relationship betweenmeditation training and specific changes in EEG activity. Finally,future experiments combining fMRI with simultaneous hdEEGwill be critical to fully characterize the cortical (and possibly sub-cortical) networks underlying the enhanced NREM sleep EEGgamma activity found in this study in meditation experts, whereasstudies investigating the healing effects of meditation interventionscould explore the ability of EEG gamma power to predict abeneficial effect of such interventions. This work would contribute\\nto identify the neural circuits underlying the EEG correlates of\\nmeditation training. It will also help to establish whether EEGgamma activity represents a sensitive and objective measure of theeffects of meditative practice on brain function in both healthysubjects and brain disordered patients.\\nSupporting Information\\nFigure S1 REM tonic as well as phasic gamma power\\ndid not differ between LTM and meditation naives.Topographic color plots showed maximal REM tonic as well asphasic gamma power in frontal/prefrontal regions in both groups.Compared to meditation naives, LTM had a slightly higher powerin the same parieto-occipital region significantly more activeduring NREM sleep, which however failed to reach significance inboth tonic and phasic REM (white topographic plots, p = 0.975,and p = 0.810, SnPM). Only the tonic REM topographies areshown.\\n(TIF)Local NREM Sleep Gamma Increase in Meditators\\nPLOS ONE | www.plosone.org 7 August 2013 | Volume 8 | Issue 8 | e73417' metadata={'source': '/content/studies/Ferrarelli 2013 Experienced Mindfulness Meditators.pdf', 'page': 6}\n",
            "page_content='Acknowledgments\\nWe would like to thank Me ´lanie Boly for providing helpful comments on\\nthis manuscript and for helpful suggestion on EEG analysis and Donal\\nMacCoon and Brianna Schuyler for helping analyzing the self-report\\nquestionnaires in this study.Author Contributions\\nConceived and designed the experiments: FF AL RJD GT. Performed the\\nexperiments: FF RS DD BR CZ. Analyzed the data: FF RS DD CZ RB.Contributed reagents/materials/analysis tools: FF BR RS DD. Wrote thepaper: FF BR AL RJD DD GT.\\nReferences\\n1. Lutz A, Slagter HA, Dunne JD, Davidson RJ (2008) Attention regulation and\\nmonitoring in meditation. Trends in Cognitive Sciences 12: 163–169.\\n2. Chambers R, Gullone E, Allen NB (2009) Mindful emotion regulation: An\\nintegrative review. Clin Psychol Rev 29: 560–572.\\n3. Holzel BK, Carmody J, Vangel M, Congleton C, Yerramsetti SM, et al. (2011)\\nMindfulness practice leads to increases in regional brain gray matter density.\\nPsychiatry Res 191: 36–43.\\n4. Lutz A, Slagter HA, Rawlings NB, Francis AD, Greischar LL, et al. (2009)\\nMental training enhances attentional stability: neural and behavioral evidence.\\nThe Journal of Neuroscience: The Official Journal of the Society for\\nNeuroscience 29: 13418–13427.\\n5. Cahn BR, Polich J (2006) Meditation states and traits: EEG, ERP, and\\nneuroimaging studies. Psychological Bulletin 132: 180–211.\\n6. Lutz A, Greischar LL, Rawlings NB, Ricard M, Davidson RJ (2004) Long-term\\nmeditators self-induce high-ampl itude gamma synchrony during mental\\npractice. Proceedings of the National Academy of Sciences of the United Statesof America 101: 16369–16373.\\n7. Cahn BR, Delorme A, Polich J (2010) Occipital gamma activation during\\nVipassana meditation. Cognitive Processing 11: 39–56.\\n8. Berkovich-Ohana A, Glicksohn J, Goldstein A (2012) Mindfulness-induced\\nchanges in gamma band activity - Implications for the default mode network,\\nself-reference and attention. Clinical Neurophysiology: Official Journal of theInternational Federation of Clinical Neurophysiology 123: 700–710.\\n9. Davidson RJ, Lutz A (2008) Buddha’s Brain: Neuroplasticity and Meditation.\\nIEEE Signal Process Mag 25: 176–174.\\n10. Steriade M (2003) The corticothalamic system in sleep. Front Biosci 8: d878–\\n899.\\n11. Finelli LA, Achermann P, Borbely AA (2001) Individual ’fingerprints’ in human\\nsleep EEG topography. Neuropsychopharmacology 25: S57–62.\\n12. Huber R, Ghilardi MF, Massimini M, Tononi G (2004) Local sleep and\\nlearning. Nature 430: 78–81.\\n13. Huber R, Ghilardi MF, Massimini M, Ferrarelli F, Riedner BA, et al. (2006)\\nArm immobilization causes cortical plastic changes and locally decreases sleepslow wave activity. Nat Neurosci 9: 1169–1176.\\n14. Ferrarelli F, Huber R, Peterson MJ, Massimini M, Murphy M, et al. (2007)\\nReduced sleep spindle activity in schizophrenia patients. Am J Psychiatry 164:483–492.\\n15. Ferrarelli F, Peterson MJ, Sarasso S, Riedner BA, Murphy MJ, et al. (2010)\\nThalamic dysfunction in schizophrenia suggested by whole-night deficits in slowand fast spindles. Am J Psychiatry 167: 1339–1348.\\n16. Sarasso S, Santhanam P, Maatta S, Poryazova R, Ferrarelli F, et al. (2010) Non-\\nfluent aphasia and neural reorganization after speech therapy: insights fromhuman sleep electrophysiology and functional magnetic resonance imaging.\\nArch Ital Biol 148: 271–278.\\n17. Huber R, Esser SK, Ferrarelli F, Massimini M, Peterson MJ, et al. (2007) TMS-\\ninduced cortical potentiation during wakefulness locally increases slow wave\\nactivity during sleep. PLoS ONE 2: e276.\\n18. Molle M, Marshall L, Gais S, Born J (2004) Learning increases human\\nelectroencephalographic coherence during subsequent slow sleep oscillations.\\nProc Natl Acad Sci U S A 101: 13963–13968.\\n19. Hollingshead AB (1957) Two Factor Index of Social Position. Mimeo. New\\nHaven, Connecticut: Yale University.\\n20. Rush AJ, Trivedi MH, Ibrahim HM, Carmody TJ, Arnow B, et al. (2003) The\\n16-Item Quick Inventory of Depressive Symptomatology (QIDS), clinician\\nrating (QIDS-C), and self-report (QIDS-SR): a psychometric evaluation in\\npatients with chronic major depression. Biol Psychiatry 54: 573–583.\\n21. Derogatis LR, Cleary PA (1977) Factorial invariance across gender for the\\nprimary symptom dimensions of the SCL-90. Br J Soc Clin Psychol 16: 347–\\n356.\\n22. Bastien CH, Vallieres A, Morin CM (2001) Validation of the Insomnia Severity\\nIndex as an outcome measure for insomnia research. Sleep Med 2: 297–307.\\n23. Valko PO, Bassetti CL, Bloch KE, Held U, Baumann CR (2008) Validation of\\nthe fatigue severity scale in a Swiss cohort. Sleep 31: 1601–1607.\\n24. Johns MW (1991) A new method for measuring daytime sleepiness: the Epworth\\nsleepiness scale. Sleep 14: 540–545.\\n25. MacLean AW, Fekken GC, Saskin P, Knowles JB (1992) Psychometric\\nevaluation of the Stanford Sleepiness Scale. J Sleep Res 1: 35–39.\\n26. Silber MH, Ancoli-Israel S, Bonnet MH, Chokroverty S, Grigg-Damberger\\nMM, et al. (2007) The visual scoring of sleep in adults. J Clin Sleep Med 3: 121–\\n131.\\n27. Landsness E, Bruno MA, Noirhomme Q, Riedner B, Gosseries O, et al. (2011)\\nElectrophysiological correlates of behavioural changes in vigilance in vegetative\\nstate and minimally conscious state. Brain 134: 2222–2232.28. Murphy M, Riedner BA, Huber R, Massimini M, Ferrarelli F, et al. (2009)\\nSource modeling sleep slow waves. Proc Natl Acad Sci U S A 106: 1608–1613.\\n29. Jung TP, Makeig S, McKeown MJ, Bell AJ, Lee TW, et al. (2001) Imaging Brain\\nDynamics Using Independent Component Analysis. Proc IEEE Inst Electr\\nElectron Eng 89: 1107–1122.\\n30. Murphy M, Bruno MA, Riedner BA, Boveroux P, Noirhomme Q, et al. (2011)\\nPropofol anesthesia and sleep: a high-density EEG study. Sleep 34: 283–291A.\\n31. Aeschbach D, Borbely AA (1993) All-night dynamics of the human sleep EEG.\\nJ Sleep Res 2: 70–81.\\n32. Feinberg I, Floyd TC (1979) Systematic trends across the night in human sleep\\ncycles. Psychophysiology 16: 283–291.\\n33. Riedner BA, Vyazovskiy VV, Huber R, Massimini M, Esser S, et al. (2007) Sleep\\nhomeostasis and cortical synchronization: III. A high-density EEG study of sleepslow waves in humans. Sleep 30: 1643–1657.\\n34. Nichols TE, Holmes AP (2002) Nonparametric permutation tests for functional\\nneuroimaging: a primer with examples. Hum Brain Mapp 15: 1–25.\\n35. Cohen J (1988) Statistical Power Ananlysis for the Behavioral Sciences. Hillsdale,\\nNJ: Erlbaum.\\n36. Corsi-Cabrera M, Guevara MA, del Rio-Portilla Y (2008) Brain activity and\\ntemporal coupling related to eye movements during REM sleep: EEG and MEG\\nresults. Brain Res 1235: 82–91.\\n37. Ermis U, Krakow K, Voss U (2010) Arousal thresholds during human tonic and\\nphasic REM sleep. J Sleep Res 19: 400–406.\\n38. Takahara M, Nittono H, Hori T (2002) Comparison of the event-related\\npotentials between tonic and phasic periods of rapid eye movement sleep.Psychiatry Clin Neurosci 56: 257–258.\\n39. Lutz A, Greischar LL, Rawlings NB, Ricard M, Davidson RJ (2004) Long-term\\nmeditators self-induce high-ampl itude gamma synchrony during mental\\npractice. Proc Natl Acad Sci U S A 101: 16369–16373.\\n40. Kinsey K, Anderson SJ, Hadjipapas A, Holliday IE (2011) The role of oscillatory\\nbrain activity in object processing and figure-ground segmentation in human\\nvision. Int J Psychophysiol 79: 392–400.\\n41. Schadow J, Lenz D, Dettler N, Frund I, Herrmann CS (2009) Early gamma-\\nband responses reflect anticipatory top-down modulation in the auditory cortex.\\nNeuroImage 47: 651–658.\\n42. Engell AD, McCarthy G (2010) Selective attention modulates face-specific\\ninduced gamma oscillations recorded from ventral occipitotemporal cortex.J Neurosci 30: 8780–8786.\\n43. Slagter HA, Lutz A, Greischar LL, Francis AD, Nieuwenhuis S, et al. (2007)\\nMental training affects distribution of limited brain resources. PLoS Biology 5:\\ne138.\\n44. Schoormans D, Nyklicek I (2011) Mindfulness and psychologic well-being: are\\nthey related to type of meditation technique practiced? J Altern Complement\\nMed 17: 629–634.\\n45. Kaul P, Passafiume J, Sargent CR, O 9Hara BF (2010) Meditation acutely\\nimproves psychomotor vigilance, and may decrease sleep need. Behavioral and\\nBrain Functions: BBF 6: 47.\\n46. Pattanashetty R, Sathiamma S, Talakkad S, Nityananda P, Trichur R, et al.\\n(2010) Practitioners of vipassana meditation exhibit enhanced slow wave sleepand REM sleep states across different age groups. Sleep and Biological Rhythms\\n8: 34–41.\\n47. Nagendra RP, Maruthai N, Kutty BM (2012) Meditation and its regulatory role\\non sleep. Frontiers in Neurology 3: 54.\\n48. Stigsby B, Rodenberg JC, Moth HB (1981) Electroencephalographic findings\\nduring mantra meditation (transcendental meditation). A controlled, quantitative\\nstudy of experienced meditators. Electroencephalogr Clin Neurophysiol 51:434–442.\\n49. Mason LI, Alexander CN, Travis FT, Marsh G, Orme-Johnson DW, et al.\\n(1997) Electrophysiological correlates of higher states of consciousness during\\nsleep in long-term practitioners of the Transcendental Meditation program.\\nSleep 20: 102–110.\\n50. Saskin P, Moldofsky H, Lue FA (1985) Periodic movements in sleep and sleep-\\nwake complaint. Sleep 8: 319–324.\\n51. Gold AR, Dipalo F, Gold MS, O 9Hearn D (2003) The symptoms and signs of\\nupper airway resistance syndrome: a link to the functional somatic syndromes.\\nChest 123: 87–95.\\n52. Martinez D, Breitenbach TC, Lenz Mdo C (2010) Light sleep and sleep time\\nmisperception - relationship to alpha-delta sleep. Clin Neurophysiol 121: 704–711.\\n53. Jensen O, Kaiser J, Lachaux JP (2007) Human gamma-frequency oscillations\\nassociated with attention and memory. Trends Neurosci 30: 317–324.\\n54. Siegel M, Konig P (2003) A functional gamma-band defined by stimulus-\\ndependent synchronization in area 18 of awake behaving cats. J Neurosci 23:4251–4260.Local NREM Sleep Gamma Increase in Meditators\\nPLOS ONE | www.plosone.org 8 August 2013 | Volume 8 | Issue 8 | e73417' metadata={'source': '/content/studies/Ferrarelli 2013 Experienced Mindfulness Meditators.pdf', 'page': 7}\n",
            "page_content='55. Jokisch D, Jensen O (2007) Modulation of gamma and alpha activity during a\\nworking memory task engaging the dorsal or ventral stream. J Neurosci 27:\\n3244–3251.\\n56. Mainy N, Kahane P, Minotti L, Hoffmann D, Bertrand O, et al. (2007) Neural\\ncorrelates of consolidation in working memory. Hum Brain Mapp 28: 183–193.\\n57. Osipova D, Takashima A, Oostenveld R, Fernandez G, Maris E, et al. (2006)\\nTheta and gamma oscillations predict encoding and retrieval of declarative\\nmemory. J Neurosci 26: 7523–7531.\\n58. Sederberg PB, Miller JF, Howard MW, Kahana MJ (2010) The temporal\\ncontiguity effect predicts episodic memory performance. Mem Cognit 38: 689–\\n699.\\n59. Valderrama M, Cre ´pon B, Botella-Soler V, Martinerie J, Hasboun D, et al.\\n(2012) Human Gamma Oscillations during Slow Wave Sleep. PloS One 7:\\ne33477.\\n60. Tekell JL, Hoffmann R, Hendrickse W, Greene RW, Rush AJ, et al. (2005) High\\nfrequency EEG activity during sleep: characteristics in schizophrenia anddepression. Clin EEG Neurosci 36: 25–35.\\n61. Perlis ML, Merica H, Smith MT, Giles DE (2001) Beta EEG activity and\\ninsomnia. Sleep Med Rev 5: 363–374.\\n62. Feige B, Scaal S, Hornyak M, Gann H, Riemann D (2007) Sleep\\nelectroencephalographic spectral power after withdrawal from alcohol inalcohol-dependent patients. Alcohol Clin Exp Res 31: 19–27.\\n63. Colby CL, Goldberg ME (1999) Space and attention in parietal cortex. Annu\\nRev Neurosci 22: 319–349.\\n64. Nir Y, Fisch L, Mukamel R, Gelbard-Sagiv H, Arieli A, et al. (2007) Coupling\\nbetween neuronal firing rate, gamma LFP, and BOLD fMRI is related to\\ninterneuronal correlations. Curr Biol 17: 1275–1285.\\n65. Logothetis NK, Pauls J, Augath M, Trinath T, Oeltermann A (2001)\\nNeurophysiological investigation of the basis of the fMRI signal. Nature 412:\\n150–157.66. Shmuel A, Leopold DA (2008) Neuronal correlates of spontaneous fluctuations\\nin fMRI signals in monkey visual cortex: Implications for functional connectivityat rest. Hum Brain Mapp 29: 751–761.\\n67. Miller KJ, Weaver KE, Ojemann JG (2009) Direct electrophysiological\\nmeasurement of human default network areas. Proc Natl Acad Sci U S A106: 12174–12177.\\n68. Ossandon T, Jerbi K, Vidal JR, Bayle DJ, Henaff MA, et al. (2011) Transient\\nsuppression of broadband gamma power in the default-mode network is\\ncorrelated with task complexity and subject performance. J Neurosci 31: 14521–\\n14530.\\n69. Born AP, Law I, Lund TE, Rostrup E, Hanson LG, et al. (2002) Cortical\\ndeactivation induced by visual stimulation in human slow-wave sleep. Neuro-\\nImage 17: 1325–1335.\\n70. Czisch M, Wehrle R, Stiegler A, Peters H, Andrade K, et al. (2009) Acoustic\\noddball during NREM sleep: a combined EEG/fMRI study. PLoS ONE 4:e6749.\\n71. Faber PA, Saayman GS, Touyz SW (1978) Meditation and archetypal content of\\nnocturnal dreams. J Anal Psychol 23: 1–22.\\n72. Massimini M, Ferrarelli F, Murphy M, Huber R, Riedner B, et al. (2010)\\nCortical reactivity and effective connectivity during REM sleep in humans.Cogn Neurosci 1: 176–183.\\n73. Lu CB, Hamilton JB, Powell AD, Toescu EC, Vreugdenhil M (2011) Effect of\\nageing on CA3 interneuron sAHP and gamma oscillations is activity-dependent.\\nNeurobiol Aging 32: 956–965.\\n74. Guntekin B, Basar E (2007) Brain oscillations are highly influenced by gender\\ndifferences. Int J Psychophysiol 65: 294–299.\\n75. Jausovec N, Jausovec K (2007) Personality, gender and brain oscillations.\\nInt J Psychophysiol 66: 215–224.Local NREM Sleep Gamma Increase in Meditators\\nPLOS ONE | www.plosone.org 9 August 2013 | Volume 8 | Issue 8 | e73417' metadata={'source': '/content/studies/Ferrarelli 2013 Experienced Mindfulness Meditators.pdf', 'page': 8}\n",
            "page_content='Long-term meditators self-induce high-amplitude\\ngamma synchrony during mental practice\\nAntoine Lutz*†, Lawrence L. Greischar*, Nancy B. Rawlings*, Matthieu Ricard‡, and Richard J. Davidson*†\\n*W. M. Keck Laboratory for Functional Brain Imaging and Behavior, Waisman Center, and Laboratory for Affective Neuroscience, Department of\\nPsychology, University of Wisconsin, 1500 Highland Avenue, Madison, WI 53705; and‡Shechen Monastery, P.O. Box 136, Kathmandu, Nepal\\nCommunicated by Burton H. Singer, Princeton University, Princeton, NJ, October 6, 2004 (received for review August 26, 2004)\\nPractitioners understand ‘‘meditation,’’ or mental training, to be a\\nprocess of familiarization with one’s own mental life leading tolong-lasting changes in cognition and emotion. Little is knownabout this process and its impact on the brain. Here we ﬁnd thatlong-term Buddhist practitioners self-induce sustained electroen-cephalographic high-amplitude gamma-band oscillations andphase-synchrony during meditation. These electroencephalogrampatterns differ from those of controls, in particular over lateralfrontoparietal electrodes. In addition, the ratio of gamma-bandactivity (25–42 Hz) to slow oscillatory activity (4–13 Hz) is initiallyhigher in the resting baseline before meditation for the practitio-ners than the controls over medial frontoparietal electrodes. Thisdifference increases sharply during meditation over most of thescalp electrodes and remains higher than the initial baseline in thepostmeditation baseline. These data suggest that mental traininginvolves temporal integrative mechanisms and may induce short-term and long-term neural changes.\\nelectroencephalogram synchrony /H20841gamma activity /H20841meditation\\nLittle is known about the process of meditation and its impact on\\nthe brain (1, 2). Previous studies show the general role of neural\\nsynchrony, in particular in the gamma-band frequencies (25–70Hz),in mental processes such as attention, working-memory, learning,or conscious perception (3–7). Such synchronizations of oscillatoryneural discharges are thought to play a crucial role in the consti-tution of transient networks that integrate distributed neural pro-cesses into highly ordered cognitive and affective functions (8, 9)and could induce synaptic changes (10, 11). Neural synchrony thusappears as a promising mechanism for the study of brain processesunderlining mental training.\\nMethods\\nThe subjects were eight long-term Buddhist practitioners (mean\\nage, 49 /H1100615 years) and 10 healthy student volunteers (mean age,\\n21/H110061.5 years). Buddhist practitioners underwent mental train-\\ning in the same Tibetan Nyingmapa and Kagyupa traditions for10,000 to 50,000 h over time periods ranging from 15 to 40 years.The length of their training was estimated based on their dailypractice and the time they spent in meditative retreats. Eighthours of sitting meditation was counted per day of retreat.Control subjects had no previous meditative experience but haddeclared an interest in meditation. Controls underwent medita-tive training for 1 week before the collection of the data.\\nWe first collected an initial electroencephalogram (EEG)\\nbaseline consisting of four 60-s blocks of ongoing activity with abalanced random ordering of eyes open or closed for each block.Then, subjects generated three meditative states, only one ofwhich will be described in this report. During each meditativesession, a 30-s block of resting activity and a 60-s block ofmeditation were collected four times sequentially. The subjectswere verbally instructed to begin the meditation and meditatedat least 20 s before the start of the meditation block. We focushere on the last objectless meditative practice during which boththe controls and Buddhist practitioners generated a state of‘‘unconditional loving-kindness and compassion.’’Meditative Instruction. The state of unconditional loving-kindness\\nand compassion is described as an ‘‘unrestricted readiness andavailability to help living beings.’’ This practice does not requireconcentration on particular objects, memories, or images, al-though in other meditations that are also part of their long-termtraining, practitioners focus on particular persons or groups ofbeings. Because ‘‘benevolence and compassion pervades the\\nmind as a way of being,’’ this state is called ‘‘pure compassion’’or ‘‘nonreferential compassion’’ ( dmigs med snying rje in Ti-\\nbetan). A week before the collection of the data, meditativeinstructions were given to the control subjects, who were askedto practice daily for 1 h. The quality of their training was verballyassessed before EEG collection. During the training session, thecontrol subjects were asked to think of someone they care about,such as their parents or beloved, and to let their mind be invadedby a feeling of love or compassion (by imagining a sad situationand wishing freedom from suffering and well being for thoseinvolved) toward these persons. After some training, the subjectswere asked to generate such feeling toward all sentient beingswithout thinking specifically about anyone in particular. Duringthe EEG data collection period, both controls and long-termpractitioners tried to generate this nonreferential state of loving-kindness and compassion. During the neutral states, all of thesubjects were asked to be in a nonmeditative, relaxed state.\\nEEG Recordings and Protocol. EEG data were recorded at standard\\nextended 10 /H2086220 positions with a 128-channel Geodesic Sensor\\nNet (Electrical Geodesics, Eugene, OR), sampled at 500 Hz, andreferenced to the vertex (Cz) with analog band-pass filteringbetween 0.1 and 200 Hz. EEG signals showing eye movementsor muscular artifacts were manually excluded from the study. Adigital notch filter was applied to the data at 60 Hz to remove anyartifacts caused by alternating current line noise.\\nBad channels were replaced by using spherical spline inter-\\npolation (12). Two-second epochs without artifact were ex-tracted after the digital rereferencing to the average reference.\\nSpectral Analysis. For each electrode and for each 2-s epoch, the\\npower spectral distribution was computed by using Welch’smethod (13), which averages power values across sliding andoverlapping 512-ms time windows. To compute the relativegamma activity, the power spectral distribution was computed onthez-transformed EEG by using the mean and SD of the signal\\nin each 2-s window. This distribution was averaged through allelectrodes, and the ratio between gamma and slow rhythms wascomputed. Intraindividual analyses were run on this measureand a group analysis was run on the average ratio across 2-swindows. The group analysis of the topography was performedby averaging the power spectral distribution for each electrode\\nFreely available online through the PNAS open access option.\\nAbbreviations: ROI, region of interest; EEG, electroencephalogram.\\n†To whom correspondence may be addressed. E-mail: alutz@wisc.edu or rjdavids@\\nwisc.edu.\\n© 2004 by The National Academy of Sciences of the USA\\nwww.pnas.org /H20862cgi/H20862doi /H2086210.1073 /H20862pnas.0407401101 PNAS /H20841November 16, 2004 /H20841vol. 101 /H20841no. 46 /H2084116369–16373\\nNEUROSCIENCE' metadata={'source': '/content/studies/lutz 2004.pdf', 'page': 0}\n",
            "page_content='in each block and then computing the ratio of gamma to slow\\nrhythms before averaging across blocks.\\nDespite careful visual examination, the electroencephalo-\\ngraphic spectral analysis was hampered by the possible contam-ination of brain signals by muscle activity. Here we assume thatthe spectral emission between 80 and 120 Hz provided anadequate measure of the muscle activity (14, 15). The muscleEEG signature is characterized by a broad-band spectrum profile(8–150 Hz) peaking at 70–80 Hz (16). Thus, the variationthrough time of the average spectral power in the 80–120 Hzfrequency band provided a way to quantify the variations of themuscle contribution to the EEG gamma activity through time.To estimate the gamma activity, adjusted for the very highfrequencies, we performed a covariance analysis for each regionof interest (ROI) for each subject. The dependent variable wasthe average gamma activity (25–42 Hz) in each ROI. Thecontinuous predictor was the electromyogram activity (80–120Hz power). The categorical predictors were the blocks (initialbaseline with eyes open and neutral blocks from 2 to 4) and themental states (ongoing neutral versus meditation).\\nFor the group analysis, separate repeated ANOVAs were then\\nperformed on the relative gamma and adjusted gamma variationbetween states, with the blocks as the within factor and the group(practitioners versus controls) as the categorical predictor. Forthe intrasubject analysis, we compared separately the relativegamma and the raw gamma activity averaged within the ROIs inthe initial baseline state versus the meditative state.\\nPhase-Synchrony Detection. Electrodes of interest were referenced\\nto a local average potential defined as the average potential ofits six surrounding neighbors. This referencing montage re-stricted the electrical measurement to local sources only andprevented spurious long-range synchrony from being detected ifthe muscle activity over one electrode propagated to anotherdistant electrode. The methods used to measure long-rangesynchronization are described in detail in Supporting Methods ,\\nwhich is published as supporting information on the PNAS website. In summary, for each epoch and electrode, the instanta-neous phase of the signal was extracted at each frequency bandbetween 25 and 42 Hz in 2-Hz steps by using a convolution withMorlet wavelets. The stability through time of their phasedifference was quantified in comparison with white-noise signalsas independent surrogates. A measure of synchronous activitywas defined as the number of electrode pairs among the 294studied combinations that had higher synchrony density onaverage across frequencies than would be expected to occurbetween independent signals. The electrode pairs were takenbetween the ROIs when we measured the scalp distribution ofgamma activity (see Fig. 3 a). A repeated-measures ANOVA was\\nperformed on the average size of the synchrony pattern acrossall frequency bands and epochs in each block with the originalresting state and the meditative state as the within factors andthe group (practitioners versus controls) as the between-groupsfactor.\\nResults\\nWe first computed the power spectrum density over each\\nelectrode in the EEG signals visually free from artifacts. Thisprocedure was adapted to detect change in local synchroniza-tion (6, 9). Local synchronization occurs when neurons re-corded by a single electrode transiently oscillate at the samefrequency with a common phase: Their local electric field addsup to produce a burst of oscillatory power in the signalreaching the electrode. Thus, the power spectral densityprovides an estimation of the average of these peaks of energyin a time window. During meditation, we found high-amplitudegamma oscillations in the EEGs of long-time practitioners(subjects S1–S8) that were not present in the initial baseline.Fig. 1 aprovides a representative example of the raw EEG\\nsignal (25–42 Hz) for subject S4. An essential aspect of thesegamma oscillations is that their amplitude monotonicallyincreased over the time of the practice (Fig. 1 b).\\nRelative Gamma Power. We characterized these changes in gamma\\noscillations in relation to the slow rhythms (4–13 Hz) that arethought to play a complementary function to fast rhythms (3).Fig. 2 ashows the intraindividual analysis of this ratio averaged\\nthrough all electrodes. This ratio, which was averaged across allelectrodes, presented an increase compared with the initialbaseline, which was greater than twice the baseline SD for twocontrols and all of the practitioners. The ratio of gamma-bandactivity (25–42 Hz) compared to slow rhythms was initially\\nhigher in the baseline before meditation for the practitionerscompared with the controls ( t/H110054.0, df/H1100516,P/H110210.001; ttest)\\n(Fig. 2 b). This effect remained when we compared the three\\nyoungest practitioners with the controls (25, 34, and 36 years old,respectively) ( t/H110052.2, df /H1100511,P/H110210.05; ttest). This result\\nsuggests that the mean age difference between groups does notfully account for this baseline difference (17).\\nThis baseline difference increased sharply during meditation,\\nas revealed by an interaction between the state and group factors[F(2, 48)/H110053.7,P/H110210.05; ANOVA] (Fig. 2 b). This difference was\\nstill found in comparisons between gamma activity and boththeta (4–8 Hz) and alpha activity. To localize these differenceson the scalp, similar analyses were performed on each individualelectrode. Fig. 2 cshows a higher ratio of fast versus slow\\nFig. 1. High-amplitude gamma activity during mental training. ( a) Raw\\nelectroencephalographic signals. At t/H1100545 s, practitioner S4 started generat-\\ning a state of nonreferential compassion, block 1. ( b) Time course of gamma\\nactivity power over the electrodes displayed in aduring four blocks computed\\nin a 20-s sliding window ever y 2 s and then averaged over electrodes. ( c) Time\\ncourse of subjects’ cross-hemisphere synchrony between 25 and 42 Hz. Thedensity of long-distance synchrony above a surrogate threshold was calcu-lated in a 20-s sliding window ever y 2 s for each cross-hemisphere electrode\\npair and was then averaged across electrode pairs (see Methods ). Colors\\ndenote different trial blocks: blue, block 1; red, block 2; green, block 3; black,block 4.\\n16370 /H20841www.pnas.org /H20862cgi/H20862doi /H2086210.1073 /H20862pnas.0407401101 Lutz et al.' metadata={'source': '/content/studies/lutz 2004.pdf', 'page': 1}\n",
            "page_content='oscillations for the long-term practitioners versus the controls\\nin the initial baseline over medial frontoparietal electrodes(t/H110222.59, P/H110050.01; ttest). Similarly, Fig. 2 dshows a group\\ndifference between the ongoing baseline states and the medita-tive state, in particular over the frontolateral and posteriorelectrodes. Interestingly, the postmeditative baseline (neutralstates in blocks 2, 3, and 4) also revealed a significant increasein this ratio compared with the premeditation baseline overmainly anterior electrodes (Fig. 2 e).\\nThese data suggest that the two groups had different electro-\\nphysiological spectral profiles in the baseline, which are charac-\\nterized by a higher ratio of gamma-band oscillatory rhythm toslow oscillatory rhythms for the long-term practitioners than forthe controls. This group difference is enhanced during themeditative practice and continues into the postmeditative restingblocks.\\nAbsolute Gamma Power. We then studied the variation through\\ntime of the ongoing gamma-band activity itself. The gamma-band activity (25–42 Hz) was first z-transformed in each block\\nand compared over each electrode with the mean and SD of theirrespective neutral block (ongoing baseline). The normalizedgamma activity was then averaged across the blocks. Fig. 3 a\\nshows the percentage of subjects presenting an increase of atleast 1 SD during meditation compared with neutral state. Acommon topographical pattern of gamma activity emergedacross the long-term practitioners but not across the controlsubjects. This pattern was located bilaterally over the parieto-temporal and midfrontal electrodes. Fig. 3 ashows four ROIs\\ncontaining seven electrodes each and located around F3-8,Fc3-6, T7-8, Tp7-10, and P7-10. Hereafter, we focus on theelectrodes activated in these ROIs.\\nIntraindividual analyses similar to those for relative gamma\\nactivity were run on the average gamma power across these ROIsand exhibited the same pattern as that found for relative gamma.It is possible that these high-amplitude oscillations are partiallycontaminated by muscle activity (18). Because we found in-creases in gamma activity during the postmeditative restingbaseline compared with the initial resting baseline, it is unlikelythat the changes we reported could be solely caused by muscle\\nactivity, because there was little evidence of any muscle activityduring these baseline periods. (Fig. 2 e). Secondly, we showed\\nthat the meditative state and nonmeditative state that mimickedand exaggerated the possible muscle activity during meditationexhibit significantly different spectral profiles (Fig. 4, which ispublished as supporting information on the PNAS web site).Furthermore, for the two subjects showing the highest gammaactivity, we showed that amplitude of the gamma-band activitybefore external stimulation predicts the amplitude of high fast-\\nFig. 2. Relative gamma power during mental training. ( aandb) Intraindi-\\nvidual analysis on the ratio of gamma (25–42 Hz) to slow (4–13 Hz) oscillationsaveraged through all electrodes. ( a) The abscissa represents the subject num-\\nbers, the ordinate represents the difference in the mean ratio between theinitial state and meditative state, and the black and red stars indicate that thisincrease is /H110222- and 3-fold, respectively, the baseline SD. ( b) Interaction be-\\ntween the subject and the state factors for this ratio [ F(2, 48)/H110053.5,P/H110210.05;\\nANOVA]. IB, initial baseline; OB, ongoing baseline; MS, meditative state. ( c–e)\\nComparisons of this ratio between controls and practitioners over each elec-trode [ t/H110222.6,P/H110210.01, scaling ( /H110022.5, 4); ttest] during the premeditative initial\\nbaseline ( c), between the ongoing baseline and the meditative state ( d), and\\nbetween the ongoing baseline and the initial baseline ( e).\\nFig. 3. Absolute gamma power and long-distance synchrony during mental\\ntraining. ( a) Scalp distribution of gamma activity during meditation. The color\\nscale indicates the percentage of subjects in each group that had an increaseof gamma activity during the mental training. ( Left) Controls. ( Right ) Practi-\\ntioners. An increase was deﬁned as a change in average gamma activity of /H110221\\nSD during the meditative state compared with the neutral state. Black circlesindicate the electrodes of interest for the group analysis. ( b) Adjusted gamma\\nvariation between neutral and meditative states over electrodes F3-8, Fc3-6,T7-8, Tp7-10, and P7-10 for controls and long-time practitioners [ F(1, 16)/H110054.6,\\nP/H110210.05; ANOVA]. ( c) Interaction between the group and state variables for\\nthe number of electrode pairs between ROIs that exhibited synchrony higherthan noise surrogates [ F(1, 16) /H110056.5, P/H110210.05; ANOVA]. The blue line\\nrepresents the controls; the red line represents the practitioners. ( d) Correla-\\ntion between the length of the long-term practitioners’ meditation trainingand the ratio of relative gamma activity averaged across electrodes in theinitial baseline ( P/H110210.02). Dotted lines represent 95% conﬁdence intervals.\\nLutz et al. PNAS /H20841November 16, 2004 /H20841vol. 101 /H20841no. 46 /H2084116371\\nNEUROSCIENCE' metadata={'source': '/content/studies/lutz 2004.pdf', 'page': 2}\n",
            "page_content='frequency oscillations (20–45 Hz) evoked by auditory stimuli\\n(Fig. 5, which is published as supporting information on thePNAS web site). Because the evoked activity is relatively inde-pendent of muscle activity, the relationship between the pre-stimulation fast-frequency oscillation and the evoked activitysuggests that these high-amplitude gamma rhythms are notmuscle artifacts (Fig. 5 and Fig. 6, which is published assupporting information on the PNAS web site). This claim isfurther supported by the localization within the brain of thedipole sources of these fast-frequency-evoked oscillations (Figs.7–9, which are published as supporting information on the PNASweb site).\\nYet we still chose to cautiously interpret the raw values of\\nthese gamma oscillations because of the concomitant increase ofspectral power /H1102280 Hz during meditation. This increase could\\nalso reflect a change in muscle activity rather than high-frequency, gamma-band oscillations [70–105 Hz (19)], which aremostly low-pass filtered by the skull at /H1102280 Hz. Thus, we chose\\nto conservatively interpret the activity at /H1102280 Hz as indicating\\nmuscle activity.\\nTo remove the contribution of putative muscle activity, we\\nquantified the increase in the average amplitude of gammaoscillation (25–42 Hz) adjusted for the effect of the veryhigh-frequency variation (80–120 Hz) (see Methods and ref. 20).\\nThe adjusted average variation in gamma activity was /H1102230-fold\\ngreater among practitioners compared with controls (Fig. 3 b).\\nGroup analysis was run on the average adjusted gamma activityover these ROIs. Gamma activity increased for both the long-term practitioners and controls from neutral to meditation states[F(1, 16)/H110055.2,P/H110210.05; ANOVA], yet this increase was higher\\nfor the long-time practitioners than for the controls [ F(1, 16)/H11005\\n4.6,P/H110210.05; interaction between the state and group factors\\nANOVA] (Fig. 3 b). In summary, the generation of this medi-\\ntative state was associated with gamma oscillations that weresignificantly higher in amplitude for the group of practitionersthan for the group of control subjects.\\nLong-Distance Gamma Synchrony. Finally, a long-distance syn-\\nchrony analysis was conducted between electrodes from theROIs found in Fig. 3 a. Long-distance synchrony is thought to\\nreflect large-scale neural coordination (9) and can occur whentwo neural populations recorded by two distant electrodesoscillate with a precise phase relationship that remains constantduring a certain number of oscillation cycles. This approach isillustrated in Fig. 1 cfor selected electrodes (F3 /H208624, Fc5 /H208626, and\\nCp5 /H208626). For subject S4, the density of cross-hemisphere, long-\\ndistance synchrony increases by /H1101530% on average during med-\\nitation and follows a pattern similar to the oscillatory gammaactivity.\\nFor all subjects, locally referenced, long-distance synchronies\\nwere computed for each 2-s epoch during the neutral andmeditative states between all electrode pairs and across eightfrequencies ranging from 25 to 42 Hz. In each meditative orneutral block, we counted the number of electrode pairs (294electrode pairs maximum) that had an average density ofsynchrony higher than those derived from noise surrogates (seeMethods ). We ran a group analysis on the size of the synchronous\\npattern and found that its size was greater for long-time prac-titioners than for controls [ F(1, 16)/H1100510.3, P/H110210.01; ANOVA]\\nand increased from neutral to meditation states [ F(1, 16)/H110058.2,\\nP/H110210.02; ANOVA]. Fig. 3 cshows that the group and state\\nfactors interacted on long-distance synchrony [ F(1, 16) /H110056.5,\\nP/H110210.05; ANOVA]: The size of synchrony patterns increased\\nmore for the long-time practitioners than for the controls fromneutral to meditation states. These data suggest that large-scalebrain coordination increases during mental practice.\\nFinally, we investigated whether there was a correlation\\nbetween the hours of formal sitting meditation (for subjectsS1–S8, 9,855–52,925 h) and these electrophysiological measures\\nfor the long-term practitioners, in either the initial or meditativestates (same values as in Figs. 2 and 3). The correlation coeffi-cients for the relative, absolute, and phase-synchrony gammameasures were positive: r/H110050.79, 0.63, and 0.64, respectively, in\\nthe initial state, and r/H110050.66, 0.62, and 0.43, respectively, in the\\nmeditative state. A significant positive correlation was foundonly in the initial baseline for the relative gamma ( r/H110050.79, P/H11021\\n0.02) (Fig. 3 d). These data suggest that the degree of training can\\ninfluence the spectral distribution of the ongoing baseline EEG.The age of the subject was not a confounding factor in this effectas suggested by the low correlation between the practitioner ageand the relative gamma ( r/H110050.23).\\nDiscussion\\nWe found robust gamma-band oscillation and long-distance\\nphase-synchrony during the generation of the nonreferentialcompassion meditative state. It is likely based on descriptions ofvarious meditation practices and mental strategies that arereported by practitioners that there will be differences in brainfunction associated with different types of meditation. In light ofour initial observations concerning robust gamma oscillationsduring this compassion meditation state, we focused our initialattention on this state. Future research is required to charac-terize the nature of the differences among types of meditation.Our resulting data differ from several studies that found anincrease in slow alpha or theta rhythms during meditation (21).The comparison is limited by the fact that these studies typicallydid not analyze fast rhythms. More importantly, these studiesmainly investigated different forms of voluntary concentrativemeditation on an object (such as a meditation on a mantra or thebreath). These concentration techniques can be seen as aparticular form of top-down control that may exhibit an impor-tant slow oscillatory component (22). First-person descriptionsof objectless meditations, however, differ radically from those ofconcentration meditation. Objectless meditation does not di-rectly attend to a specific object but rather cultivates a state ofbeing. Objectless meditation does so in such a way that, accord-ing to reports given after meditation, the intentional or object-oriented aspect of experience appears to dissipate in meditation.This dissipation of focus on a particular object is achieved byletting the very essence of the meditation that is practiced (oncompassion in this case) become the sole content of the expe-rience, without focusing on particular objects. By using similartechniques during the practice, the practitioner lets his feeling ofloving-kindness and compassion permeate his mind withoutdirecting his attention toward a particular object. These phe-nomenological differences suggest that these various meditativestates (those that involve focus on an object and those that areobjectless) may be associated with different EEG oscillatorysignatures.\\nThe high-amplitude gamma activity found in some of these\\npractitioners are, to our knowledge, the highest reported in theliterature in a nonpathological context (23). Assuming thatthe amplitude of the gamma oscillation is related to the size ofthe oscillating neural population and the degree of precision withwhich cells oscillate, these data suggest that massive distributedneural assemblies are synchronized with a high temporal preci-sion in the fast frequencies during this state. The gradualincrease of gamma activity during meditation is in agreementwith the view that neural synchronization, as a network phe-nomenon, requires time to develop (24), proportional to the sizeof the synchronized neural assembly (25). But this increase couldalso reflect an increase in the temporal precision of the thalamo-cortical and corticocortical interactions rather than a change inthe size of the assemblies (8). This gradual increase also cor-roborates the Buddhist subjects’ verbal report of the chronom-etry of their practice. Typically, the transition from the neutral\\n16372 /H20841www.pnas.org /H20862cgi/H20862doi /H2086210.1073 /H20862pnas.0407401101 Lutz et al.' metadata={'source': '/content/studies/lutz 2004.pdf', 'page': 3}\n",
            "page_content='state to this meditative state is not immediate and requires 5–15\\ns, depending on the subject. The endogenous gamma-bandsynchrony found here could reflect a change in the quality ofmoment-to-moment awareness, as claimed by the Buddhistpractitioners and as postulated by many models of consciousness(26, 27).\\nIn addition to the meditation-induced effects, we found a\\ndifference in the normative EEG spectral profile between thetwo populations during the resting state before meditation. It isnot unexpected that such differences would be detected duringa resting baseline, because the goal of meditation practice is totransform the baseline state and to diminish the distinctionbetween formal meditation practice and everyday life. More-over, Gusnard and Raichle (28) have highlighted the importanceof characteristic patterns of brain activity during the resting stateand argue that such patterns affect the nature of task-inducedchanges. The differences in baseline activity reported heresuggest that the resting state of the brain may be altered bylong-term meditative practice and imply that such alterationsmay affect task-related changes. Our practitioners and controlsubjects differed in many respects, including age, culture oforigin, and first language, and they likely differed in many morerespects, including diet and sleep. We examined whether age wasan important factor in producing the baseline differences weobserved by comparing the three youngest practitioners with thecontrols and found that the mean age difference between groupsis unlikely the sole factor responsible for this baseline difference.Moreover, hours of practice but not age significantly predictedrelative gamma activity during the initial baseline period.\\nWhether other demographic factors are important in producingthese effects will necessarily require further research, particu-larly longitudinal research that follows individuals over time inresponse to mental training.\\nOur study is consistent with the idea that attention and\\naffective processes, which gamma-band EEG synchronizationmay reflect, are flexible skills that can be trained (29). It remainsfor future studies to show that these EEG signatures are causedby long-term training itself and not by individual differencesbefore the training, although the positive correlation that wefound with hours of training and other randomized controlledtrials suggest that these are training-related effects (2). Thefunctional consequences of sustained gamma-activity duringmental practice are not currently known but need to be studiedin the future. The study of experts in mental training may offera promising research strategy to investigate high-order cognitiveand affective processes (30).\\nWe thank J. Dunne for Tibetan translation; A. Shah, A. Francis, and J.\\nHanson for assistance in data collection and preanalysis; the long-timeBuddhist practitioners who participated in the study; J.-Ph. Lachaux, J.Martinerie, W. Singer, and G. Tononi and his team for suggestions onthe manuscript; F. Varela for early inspirations; and His Holiness theDalai Lama for his encouragement and advice in the conducting of thisresearch. We also thank the Mind and Life Institute for providing theinitial contacts and support to make this research possible. This researchwas supported by National Institute of Mental Health Mind-Body CenterGrant P50-MH61083, the Fyssen Foundation, and a gift from EdwinCook and Adrianne Ryder-Cook.\\n1. Austin, J. H. (1998) Zen and the Brain: Toward an Understanding of Meditation\\nand Consciousness (MIT Press, Cambridge, MA).\\n2. Davidson, R. J., Kabat-Zinn, J., Schumacher, J., Rosenkranz, M., Muller, D.,\\nSantorelli, S. F., Urbanowski, F., Harrington, A., Bonus, K. & Sheridan, J. F.(2003) Psychosom. Med. 65,564–570.\\n3. Fries, P., Reynolds, J. H., Rorie, A. E. & Desimone, R. (2001) Science 291,\\n1560–1563.\\n4. Miltner, W. H., Braun, C., Arnold, M., Witte, H. & Taub, E. (1999) Nature 397,\\n434–436.\\n5. Srinivasan, R., Russell, D. P., Edelman, G. M. & Tononi, G. (1999) J. Neurosci.\\n19,5435–5448.\\n6. Tallon-Baudry, C., Bertrand, O., Peronnet, F. & Pernier, J. (1998) J. Neurosci.\\n18,4244–4254.\\n7. Rodriguez, E., George, N., Lachaux, J. P., Martinerie, J., Renault, B. & Varela,\\nF. J. (1999) Nature 397, 430–433.\\n8. Singer, W. (1999) Neuron 24,49–65.\\n9. Varela, F., Lachaux, J. P., Rodriguez, E. & Martinerie, J. (2001) Nat. Rev.\\nNeurosci. 2,229–239.\\n10. Hebb, D. O. (1949) The Organization of Behavior: A Neuropsychological Theory\\n(Wiley, New York).\\n11. Paulsen, O., Sejnowski, T. J. (2000) Curr. Opin. Neurobiol. 10,172–179.\\n12. Perrin, F., Pernier, J., Bertrand, O. & Echallier, J. F. (1989) Electroencephalogr.\\nClin. Neurophysiol. 72,184–187.\\n13. Welch, P. D. (1967) IEEE Trans. Audio Electroacoust. 15,70–73.\\n14. Davidson, R. J., Marshall, J. R., Tomarken, A. J. & Henriques, J. B. (2000) Biol.\\nPsychiatry 47,85–95.\\n15. Pivik, R. T., Broughton, R. J., Coppola, R., Davidson, R. J., Fox, N. & Nuwer,\\nM. R. (1993) Psychophysiology 30,547–558.16. Cacioppo, J. T., Tassinary, L. G. & Fridlund, A. J. (1990) in Principles of\\nPsychophysiology , ed. Tassinary, L. G. (Cambridge Univ. Press, New York), pp.\\n325–384.\\n17. Duffy, F. H., Albert, M. S., McAnulty, G. & Garvey, A. J. (1984) Ann. Neurol.\\n16,430–438.\\n18. Goncharova, I. I., McFarland, D. J., Vaughan, T. M. & Wolpaw, J. R. (2003)\\nClin. Neurophysiol. 114, 1580–1593.\\n19. Herculano-Houzel, S., Munk, M. H., Neuenschwander, S. & Singer, W. (1999)\\nJ. Neurosci. 19,3992–4010.\\n20. Davidson, R. J., Jackson, D. C. & Larson, L. C. (2000) in Handbook of\\nPsychophysiology (Cambridge Univ. Press, New York), pp. 27–52.\\n21. Shapiro, D. H. (1980) Meditation: Self-Regulation Strategy and Altered State of\\nConsciousness (Aldine, New York).\\n22. von Stein, A., Chiang, C. & Konig, P. (2000) Proc. Natl. Acad. Sci. USA 97,\\n14748–14753.\\n23. Baldeweg, T., Spence, S., Hirsch, S. R. & Gruzelier, J. (1998) Lancet 352,\\n620–621.\\n24. Kuramato, Y. (1975) in International Symposium on Mathematical Problems in\\nTheoretical Physics , ed. Araki, H. (Springer, New York), Vol. 39, pp. 420.\\n25. Campbell, S. R., Wang, D. L. & Jayaprakash, C. (1999) Neural Comput. 11,\\n1595–1619.\\n26. Tononi, G. & Edelman, G. M. (1998) Science 282, 1846–1851.\\n27. Engel, A. K., Fries, P., Konig, P., Brecht, M. & Singer, W. (1999) Conscious.\\nCognit. 8,128–151.\\n28. Gusnard, D. A. & Raichle, M. E. (2001) Nat. Rev. Neurosci. 2,685–694.\\n29. Posner, M. I., DiGirolamo, G. J. & Fernandez-Duque, D. (1997) Conscious.\\nCognit. 6,267–290.\\n30. Lutz, A. & Thompson, E. (2003) J. Conscious. Stud. 10,31–52.\\nLutz et al. PNAS /H20841November 16, 2004 /H20841vol. 101 /H20841no. 46 /H2084116373\\nNEUROSCIENCE' metadata={'source': '/content/studies/lutz 2004.pdf', 'page': 4}\n",
            "page_content='Mindfulness-induced changes in gamma band activity – Implications\\nfor the default mode network, self-reference and attention\\nAviva Berkovich-Ohanaa,⇑, Joseph Glicksohna,b, Abraham Goldsteina,c\\naThe Leslie and Susan Gonda (Goldschmied) Multidisciplinary Brain Research Center, Bar-Ilan University, Israel\\nbDepartment of Criminology, Bar-Ilan University, Israel\\ncDepartment of Psychology, Bar-Ilan University, Israel\\nSee Editorial, pages 631–632\\narticle info\\nArticle history:\\nAvailable online 21 September 2011\\nKeywords:\\nMindfulness meditation (MM)Gamma powerElectroencephalography (EEG)\\nDefault mode network (DMN)\\nSelf-referenceAttentionTime productionhighlights\\n/C15EEG gamma power over frontal and midline areas reﬂects default mode network (DMN) activity.\\n/C15Mindfulness Meditation (MM) practitioners show lower frontal gamma activity, related to DMN and\\nnarrative self-reference./C15MM practitioners produce longer time durations, these being negatively correlated with frontal gamma\\nactivity.\\nabstract\\nObjective: There is a growing scientiﬁc interest in mindfulness meditation (MM), yet its underlying neuro-\\nphysiological mechanism is still uncertain. We investigated whether MM affects self-referential process-ing, associated with default mode network (DMN), either as short (state) – or long-term (trait) effects.\\nMethods: Three levels of MM expertise were compared with controls ( n= 12 each) by electroencephalog-\\nraphy (EEG).Results: DMN deactivation was identiﬁed during the transition from resting state to a time production\\ntask, as lower gamma (25–45 Hz) power over frontal and midline regions. MM practitioners exhibited a\\ntrait lower frontal gamma activity, related to narrative self-reference and DMN activity, as well as produc-\\ning longer durations, these being negatively correlated with frontal gamma activity. Additionally, wefound state increases in posterior gamma power, suggesting increased attention and sensory awareness.\\nMM proﬁciency did not affect the results.\\nConclusions: Gamma power over frontal midline areas reﬂects DMN activity. MM practitioners exhibit\\nlower trait frontal gamma activity, as well as a state and trait increases in posterior gamma power, irre-\\nspective of practice proﬁciency.\\nSigniﬁcance: First, the DMN can be studied non-invasively by EEG. Second, MM induces from the early\\nstages of practice neuroplasticity in self-referential and attentional networks./C2112011 International Federation of Clinical Neurophysiology. Published by Elsevier Ireland Ltd. All rights\\nreserved.\\n1. Introduction\\nIn recent years there has been a growing scientiﬁc interest in the\\nneurophysiological bases of meditation ( Barinaga, 2003; Knight,\\n2004 ), reﬂecting the exploding interest in neuroplasticity, namelyexperience-induced changes in the brain ( Lutz et al., 2007 ). Medita-\\ntion is a body-and-mind self-regulating practice that focuses on\\ntraining attention in order to bring mental processes under greater\\nvoluntary control. Accumulating evidence shows meditation-re-\\nlated changes either as state (short-term) or trait (longer-term,\\nresting state changes) (reviewed by Cahn and Polich, 2006 ). Medi-\\ntation was shown to induce neuroplasticity in brain function(Davidson and Lutz, 2008 ) as well as structure ( Hölzel et al., 2011 ).\\nOne form of meditation which has been largely related to well-\\nbeing is mindfulness meditation (MM) (reviewed by Rubia, 2009 ).\\nMM aims at cultivating a non-judgmental awareness of the\\n1388-2457/$36.00 /C2112011 International Federation of Clinical Neurophysiology. Published by Elsevier Ireland Ltd. All rights reserved.\\ndoi:10.1016/j.clinph.2011.07.048⇑Corresponding author. Address: Department of Neurobiology, Weizmann\\nInstitute of Science, Rehovot 76100, Israel. Tel.: +972 50 3681889.\\nE-mail addresses: avivasan@yahoo.com ,aviva.berkovich-ohana@weizmann.ac.il\\n(A. Berkovich-Ohana), jglick@bgu.ac.il (J. Glicksohn), goldsa@mail.biu.ac.il\\n(A. Goldstein).Clinical Neurophysiology 123 (2012) 700–710\\nContents lists available at ScienceDirect\\nClinical Neurophysiology\\njournal homepage: www.else vier.com/locate/clinph\\n' metadata={'source': '/content/studies/berkovich-ohana 2012.pdf', 'page': 0}\n",
            "page_content='internal and external stimuli present in each moment ( Hart, 1987;\\nKabat-Zinn, 2003 ). MM, among other Buddhist practices, could be\\nexpected to affect self-referential processing, as the major aim of\\npractice is the realization, by direct experience, of the lack of any\\nessential ‘self’ ( Dreyfus and Thompson, 2007 ).\\nSelf-referential processing has been attributed to a set of re-\\ngions which were designated the ‘Default Mode Network’ (DMN).\\nThe DMN, which involves the medial prefrontal cortex (mPFC),\\nthe medial temporal lobe (including the hippocampus and para-\\nhippocampal gyrus), posterior lateral cortices, anterior and poster-\\nior cingulated cortex (ACC, PCC) and precuneus, was shown to be\\nactive when individuals are engaged in internal processing, and\\nto deactivate when attention shifts towards external stimuli\\n(Raichle et al., 2001 ).\\nAccumulating evidence of several recent functional magnetic\\nresonance imaging (fMRI) studies supports the idea that various\\ntypes of meditation training alter DMN activity. Farb et al. (2007)\\nshowed that in MM trained participants, meditation resulted in a\\nreduction in the mPFC activity, and increased engagement of a\\nright lateralized network, comprising the lateral PFC and visceroso-\\nmatic areas such as the insula, secondary somatosensory cortex\\nand inferior parietal lobule. They also reported lower functional\\nconnectivity in practitioners compared to controls of the habitual\\ncoupling between the mPFC regions, supporting cognitive–affec-\\ntive representations of the self, and more posterior lateral viscero-\\nsomatic areas, representing neural images of body state. Pagnoni\\net al. (2008) tested Zen practitioners using fMRI during meditation\\ninterspersed with a lexical decision task. The neural correlates of\\nconceptual processing were identiﬁed in left regions of the DMN.\\nWhile there were no behavioral performance differences between\\nthe practitioners and the controls, the practitioners displayed a re-\\nduced duration of the neural response linked to conceptual pro-\\ncessing in left regions of the DMN, suggesting voluntary\\nregulation of the ﬂow of spontaneous mentation.\\nThese neuroimaging studies demonstrate that meditative prac-\\ntices can generally decrease activity and lower habitual connectiv-\\nity patterns within regions of the DMN during meditation. Other\\nfMRI studies showed, on the contrary, meditation-induced in-\\ncreased activity within the DMN. Hölzel et al. (2007) reported in-\\ncreased activity within the mPFC and ACC in MM practitioners\\ncompared to controls while comparing meditation to a mental\\narithmetic task. Jang et al. (2011) reported resting state greater\\nfunctional connectivity within the DMN in the mPFC area in\\nbrain-wave vibration meditation practitioners, a method based\\non focusing attention on bodily sensations and emotions, com-\\npared to controls. In addition, in a single-photon emission com-\\nputed tomography (SPECT) study, after only ﬁve days of\\nintegrative body–mind training (IBMT, combined Chinese tradi-tional meditation and MM training) compared to a relaxation\\ntraining group, there was a resting state activation increase in\\nthe ACC and PCC, two nodes of the DMN ( Tang et al., 2009 ). Finally,\\nanother recent fMRI study ( Kilpatrick et al., 2011 ) reported that\\n8 weeks of MM training induced changes in functional connectivity\\nbetween self-reference networks and sensory (auditory and visual)\\nawareness networks.\\nTaken together, neuroimaging studies support the idea of med-\\nitation-induced DMN plasticity, although the exact changes are\\ninconclusive, probably due to the engagement of various types of\\nmeditation and different study designs.\\nSeveral studies investigated the relationship between the DMN\\nas measured by fMRI and neuronal oscillatory processes in differ-\\nent electroencephalographic (EEG) frequency bands (summarized\\nbyBroyd et al., 2009 ). Gamma power (25–45 Hz) increase has been\\nrelated to activity in the prefrontal node of the DMN ( Chen et al.,\\n2008; Mantini et al., 2007 ), which is closely related to self-referen-\\ntial processing ( Northoff and Bermpohl, 2004; Northoff et al.,2006 ). The activity in the rest of the DMN, excluding the prefrontal\\nnode, was related to global alpha and beta power increase (8–13\\nand 13–25 Hz, respectively) ( Chen et al., 2008; Laufs et al., 2003;\\nMantini et al., 2007 ). Finally, the DMN activity was generally neg-\\natively correlated with frontal and midline theta power (4–8 Hz)\\n(Meltzer et al., 2007; Scheeringa et al., 2008 ), as was the activity\\nin anterior medial cortex ( Mizuhara et al., 2004 ). To sum, activity\\nin the prefrontal node of the DMN, largely related to self-reference,\\nis manifested mostly in the gamma band.\\nGamma oscillations are typically related to top-down atten-\\ntive processes ( Herrmann et al., 2010 ), enhanced arousal and fo-\\ncused attention (e.g. Engel et al., 2001 ) and to conscious\\nawareness (e.g. Lutz et al., 2002 ). While meditation was fre-\\nquently shown to increase activity in the theta and alpha\\nrhythms (reviewed by Cahn and Polich, 2006; Ivanovski and\\nMalhi, 2007; Rubia, 2009 ), reports on gamma-band changes\\nrelated to meditation practice are sparser, albeit starting to accu-\\nmulate. Increased gamma power was recorded over fronto-pari-\\netal sites in highly experienced meditators compared with a\\ncontrol group, during compassion meditation as well as during\\nresting state, and this was found to be in positive correlation\\nwith the degree of training ( Lutz et al., 2004 ). Another study re-\\nported increased gamma power over parieto-occipital sites dur-\\ning MM compared to resting state in expert practitioners. This\\neffect was enhanced with practice proﬁciency ( Cahn et al., 2010 ).\\nLehmann et al. (2001) evaluated one highly experienced med-\\nitator using low resolution brain electromagnetic tomography\\n(LORETA) while practicing different forms of meditation. Each\\nmeditation type yielded different LORETA functional images of\\nthe EEG gamma band: image visualization increased gamma\\npower in the right posterior occipital area, and mantra verbaliza-\\ntion increased gamma power in the left central–temporal region,\\nboth being consistent with known functional anatomy. Interest-\\ningly, during self-dissolution (the meditator concentrated on the\\nexperience of dissolution of the self into a boundless unity, or\\nemptiness) and self-reconstitution meditation (the meditator\\nconcentrated on experiencing the reconstitution of the self) gam-\\nma activity increased in right superior frontal and right tempo-\\nral-parietal sites, brain regions which have been linked to an\\naltered sense of self ( Mathew et al., 1999; Miller et al., 2001 )\\nand body schema functions ( Cassady et al., 1998 ), respectively.\\nAnother study reported a lack of frontal gamma power in re-\\nsponse to emotionally aversive movie clips in long-term Sahaja\\nYoga meditators compared to controls ( Aftanas and Golosheykin,\\n2005 ). Finally, Travis et al. (2010) tested Transcendental Medita-\\ntion (TM) practitioners before and after a 10-week training, and\\nreported a reduction in gamma power over frontal and parietal\\nsites during TM compared to rest. Taken together, there is accu-mulating evidence for meditative training-induced changes in\\nthe gamma rhythm.\\nIn this study, we tested the hypothesis that MM training would\\nresult in changes in DMN activity, in a measurable manner within\\nthe gamma band EEG, and in a gradual manner with MM proﬁ-\\nciency. Speciﬁcally, we attempted to answer the following three\\nquestions:\\n(1) Can the reduction in DMN activity associated with the tran-\\nsition from resting state to an attentional task be identiﬁed\\nin the gamma band?\\n(2) Could the expected changes in DMN activity associated with\\nmeditation practice be identiﬁed in the gamma band as a\\ntrait- or as a state-effect?\\n(3) Are any of these changes related to practice proﬁciency?\\nAs will be shown, we answer the three questions by: (1) identi-\\nfying DMN deactivation during the transition from resting state toA. Berkovich-Ohana et al. / Clinical Neurophysiology 123 (2012) 700–710 701' metadata={'source': '/content/studies/berkovich-ohana 2012.pdf', 'page': 1}\n",
            "page_content='a time production task, as lower gamma power over frontal and\\nmidline regions; (2) showing that MM practitioners exhibit a trait\\nlower frontal gamma activity mainly right lateralized, related to\\nself-reference and DMN activity, as well as producing longer dura-\\ntions, these being negatively correlated with frontal gamma activ-\\nity; and (3) MM proﬁciency did not affect the results, suggesting\\nneuroplasticity in early stages of practice. Furthermore, we found\\nstate, and to a lesser extent trait increases in posterior gamma\\npower, mostly right lateralized, attributed to increased attentional\\nskills and heightened sensory awareness. This effect was again\\nunrelated to practice proﬁciency.\\n2. Methods\\n2.1. Participants\\nParticipants comprised 36 Mindfulness Meditation (MM) prac-\\ntitioners and 12 healthy controls who had no prior meditation\\nexperience, but who declared an interest in meditation in a preced-\\ning written interview (interest > 5 on a 0–10 scale). The MM prac-\\ntitioners were recruited via word of mouth in local MM\\norganizations. They were divided into three groups ( n= 12 each)\\nwith varying degree of expertise, on the basis of accumulated\\nhours spent in formal meditation during retreats and daily practice\\n(M ± SD, min.–max.): Short-term (ST, 894 ± 450 h, 180–1430 h),\\nIntermediate-term (IT, 2570 ± 471 h, 1740–2860 h), and Long-term\\npractitioners (LT, 7556 ± 5027 h, 3870–23,000 h). The MM groups\\n(mean ages, 41.6 ± 13.3, 37.9 ± 10.4, 45.6 ± 10.6, respectively) were\\nage-matched with a control group (mean age, 41 ± 12.5). All partic-\\nipants were right handed and healthy, and were tested at least 3 h\\nafter their last meditation session, to control for immediate effects\\nand enable studying long-term, trait effects of practice. The re-\\nsearch was approved by the institutional ethical committee, and\\ninformed consent was obtained from each participant.\\n2.2. Design and procedure\\nThe study was conducted using a pre-post design. Spontaneous\\nEEG during resting state was recorded for 5 min (2.5 min eyes open\\nand then 2.5 min eyes closed) prior to a battery of tasks designed to\\nmeasure temporal and spatial perception, as well as attentional\\nskills. The only task which will be reported here is a time-produc-\\ntion task, used to compare resting state with a closed eyes task en-\\nabling continuous EEG recording. EEG was then recorded during a\\nmeditation session of 15 min, while the control participants were\\ngiven the instruction to ‘‘relax as best as you can without falling\\nasleep’’. Then, resting state EEG was acquired again as above\\n(5 min), and the task battery was administered once more. Only\\nthree eyes-closed conditions will be reported here: the initial rest-\\ning state (RS), the time production task (TP) and the meditation\\n(MED).\\n2.3. Time production (TP) task\\n2.3.1. TP procedure\\nFor an approximate length of 2–3 min, the participants were re-\\nquested by recorded instructions to produce speciﬁed target dura-\\ntions by pressing a ﬁnger button when they estimated that the\\ntime which passed from the ‘beep’ sound equaled the speciﬁed re-\\nquested duration. Four time intervals were used: 4, 8, 16 and 32 s,\\neach interval twice, with random order of presentation ( Glicksohn\\net al., 2009 ). Before the task, a practice of two time intervals (4 and\\n8 s) was given. The task was performed with closed eyes to reduce\\nocular artifacts in the EEG, and to facilitate the comparison with RS.\\nThe participants were not supervised concerning the time estima-tion strategy during the task itself (internal counting, or other), and\\nwere questioned afterwards concerning the employed strategy.\\n2.3.2. TP analysis\\nProduced ( P) durations were log-transformed (to base 2), with\\nrequired durations rendering thereby a linear scale ranging be-\\ntween 2 and 5, with a midpoint value of 3.5. A one-way analysis\\nof variance (ANOVA) was performed on mean log( P) to investigate\\ngroup differences.\\n2.4. EEG recording and protocol\\nEEG was recorded with a 65-channel geodesic sensor net (Elec-\\ntrical Geodesics, Eugene, OR), sampled at 500 Hz and referenced to\\nthe vertex (Cz), with analog 0.1–200 Hz band-pass ﬁltering, and a\\ndigital notch ﬁlter at 50 Hz to remove artifacts caused by alternat-\\ning current line noise. Impedance was usually kept under 40 k O,\\nwell below the 200 k Olimit for accurate signal acquisition with\\nthis system ( Ferree et al., 2001 ). The data were referenced ofﬂine\\nto average reference, and then screened for blinks, horizontal–ver-\\ntical eye movements, muscle artifacts and possible sleepiness by\\nvisual inspection. When any of these artifacts affected electrodesin a widespread distribution, the data did not enter the analysis.\\nIn some of the artifact-free epochs chosen for further analysis, sev-\\neral channels exhibited noisy recording due to local high imped-\\nance (>40 k O, mean of 3 electrodes per epoch, in /C2410% of the\\nepochs), in which case the corrected values were off-line calculated\\nby using spherical spline interpolation ( Perrin et al., 1989\\n).\\nFor each condition, the ﬁrst 16 non-overlapping, artifact-free\\nepochs of 1024 sample points (2.048 s duration) were extracted\\nfor further analysis. For the meditation, epochs were extracted\\nfrom the middle (between 5–10 min from the start of meditation)\\nto enable ‘settling’ in the condition.\\nThe power (measured in lV2) spectral distribution was calcu-\\nlated by ﬁrst multitapering the raw data (using a Matlab-based\\nsoftware package – http://chronux.org/ ), in order to minimize\\npower leakage ( Bronez, 1992; Thomson, 1982; van Vugt et al.,\\n2007 ), then transforming it from the temporal domain to the fre-\\nquency domain using fast-Fourier transform (0.5 Hz resolution,\\n1024 point block-size, Hanning window, 0.5–46 Hz). For each elec-\\ntrode, the absolute spectral power was grouped into frequency\\nbands: delta (0.1–3.5 Hz), theta (3.5–7.5 Hz), alpha (7.5–13 Hz),\\nbeta (13–25 Hz) and gamma (25–45 Hz), then log transformed\\nand averaged across the 16 epochs. Electrodes were collapsed into\\nnine Regions of Interest (ROIs, see Fig. 1 ) – left and right frontal (F),\\ncentral (C), temporal (T), parietal–occipital (PO) and midline\\nFig. 1. Deﬁned regions of interest (ROIs).702 A. Berkovich-Ohana et al. / Clinical Neurophysiology 123 (2012) 700–710' metadata={'source': '/content/studies/berkovich-ohana 2012.pdf', 'page': 2}\n",
            "page_content='(M) – and the mean log spectral power was calculated for each ROI\\nseparately.\\n2.5. Gamma band reliability\\nA possible confounding effect for cortically induced gamma\\npower is electromyographic (EMG) activity from scalp and neck\\nmuscles ( Whitham et al., 2007 ), or saccade-related spike potentials\\n(SP) due to eye movements ( Yuval-Greenberg and Deouell, 2009 ).\\nIn this study, we used three steps for caution: ﬁrst, we carefully\\nvisually inspected the raw data, manually extracting artifact-free\\nepochs. Second, as the EMG peaks at 70–80Hz ( Cacioppo et al.,\\n1990 ), we used much lower frequencies, in the 25–45 Hz. And\\nthird, we excluded from statistical analyses all the circumference\\nelectrodes, closest to eyes, neck and face muscles (see Fig. 1 ).\\nIn addition to these three cautious steps, we also assessed the\\nreliability of the data using the coefﬁcient of variation (CV) of log\\ngamma power, deﬁned as the standard-deviation/mean. The CV\\ncan be viewed as a measure of pattern stability, in which CV /C241\\nindicates a nearly random process and CV /C281 reﬂects very high\\nstability ( Fingelkurts et al., 2006 ). CV was computed for the elec-\\ntrodes included in this study for 8 odd epochs and 8 even epochs\\n(2.048 s each, total of /C2432 s). The analysis of CV revealed within-\\nsubject stability: the individual CVs were quite low ( M±SD) for\\nRS, TP and MED being 0.37 ± 0.45; 0.17 ± 0.37; 0.19 ± 0.55, respec-\\ntively, indicating that the electrophysiological measures of gamma\\npower indeed show high internal-consistency reliability. The mean\\nCV values of the odd and the even epochs showed signiﬁcant cor-\\nrelation across participants ( r= .47, p< .05, n= 48).\\nTo sum, we think that our results could be considered clean\\nfrom artifacts for two reasons: ﬁrst, our entire report deals with\\nclosed-eyes conditions, while the SP is elicited at the onset of small\\nsaccades which occur during eyes-open ﬁxation ( Martinez-Conde\\net al., 2004 ). Second, our data shows high within-subject consis-tency. All this suggests that our results represent cognitive pro-\\ncesses, rather than muscular artifacts.\\n2.6. Statistical analyses\\nWe focus in this report on the gamma band. Three analyses\\nof variance (ANOVAs) were performed on the log power gamma\\nvalues. The ﬁrst was designed to answer the ﬁrst question: Can\\nthe reduction in DMN activity associated with the transition\\nfrom resting state to an attentional task be identiﬁed in the\\ngamma band? This ANOVA had one Grouping factor (MM and\\nC), and repeated measures on two within-participant factors:\\nCondition (RS and TP), and ROI (left and right F, C, T, PO and\\nM), adopting the Greenhouse-Geisser p-value for each and every\\neffect. The same ANOVA also answered the ﬁrst part of the sec-\\nond question, concerning trait effects in DMN activity associated\\nwith meditation practice.\\nA second ANOVA, designed to answer the third question –\\nwhether the effects revealed by the ﬁrst ANOVA were related to\\npractice proﬁciency, had one Grouping factor (ST-MM, IT-MM\\nand LT-MM), and repeated measures on the two within-participant\\nfactors above: Condition (RS and TP) and ROI.\\nThe third ANOVA was conducted to test for any state differences\\nbetween resting state and meditation, testing also their relation to\\nexpertise level, and was thus designed to answer the second part of\\nthe second question, as well as the third question. This ANOVA was\\ndesigned like the previous, with one Grouping factor (ST-MM, IT-\\nMM and LT-MM), and with repeated measures on the two with-\\nin-participant factors above: Condition and ROI, but with different\\nconditions (RS and MED).\\nWhile statistically signiﬁcant results were reported for ROIs\\nonly, we added topographic distributions of pair-wise electrode\\nt-tests (Figs. 2,3and5). These ﬁgures are to be taken as illustrative\\nFig. 2. (A) Log gamma power ( M± SEM), for the ROI /C2condition interaction seen for the MM and C groups together ( n= 48); (B) topographic distribution (left and middle) of\\nthe mean log-gamma power during RS and TP for all participants together ( n= 48), and t-values (right) of electrode-wise t-test (two-tailed) of RS vs. TP.A. Berkovich-Ohana et al. / Clinical Neurophysiology 123 (2012) 700–710 703' metadata={'source': '/content/studies/berkovich-ohana 2012.pdf', 'page': 3}\n",
            "page_content='in nature, albeit assisting in visualizing the more precise distribu-\\ntion of differences on the scalp compared to the gross ROIs.\\n3. Results\\n3.1. Subjective reports\\nThe subjective reports from the meditators revealed that they\\nwere able to successfully perform meditation in the laboratory,\\nwith meditative depth (on a 1–10 scale, where 5 indicates ‘success\\nin the lab meditation as much as in one’s regular practice’) of\\n5.50 ± 2.64, 7.14 ± 1.77 and 6.92 ± 1.73 for the short-term (ST),\\nintermediate-term (IT) and long-term (LT) groups, respectively\\n[F(2, 35) = 1.05, MSE = 3.34, ns]. During the TP task, the percentages\\nof participants who reported mental counting were 100% for C, ST-\\nMM and IT-MM groups, and 83% for the LT-MM. The rest (17%) of\\nthe LT-MM reported ‘unverbal sensing’ the passage of time rather\\nthan counting.\\n3.2. Gamma power\\nThe ﬁrst ANOVA testing gamma-band changes in the transition\\nfrom RS to TP revealed a main effect for ROI [ F(8, 360) = 10.53,\\nMSE = .034, p< .0001] stemming from lower gamma power overC and M ROIs. More importantly for the issue of DMN deactivation\\nin the transition to an attentional task, we found a signiﬁcant\\nROI/C2Condition interaction [ F(8, 360) = 4.87, MSE = .012, p< .001]\\n(Fig. 2 ): While values were generally lowest during the RS com-\\npared to the TP condition for most ROIs, it was reversed for the F\\nand M ROIs. This effect indicates that DMN activity in the gamma\\nband could be seen over the bilateral F and M ROIs.\\nOf importance to the question of trait effects following MM prac-\\ntice, the ROI /C2Group interaction was signiﬁcant [ F(8, 360) = 2.75,\\nMSE = .034, p< .05]: whereas gamma power was generally larger\\nin the C compared to the MM group, especially over the right F, this\\nsituation was inverted over the right PO ( Fig. 3 ). The group’s mean\\nlog gamma power results are given in Table 1 (an example of individ-\\nual gamma power distributions is given in Fig. 4 ).\\nThe second ANOVA, designed to differentiate trait differences\\nbetween the three MM groups, revealed as before a signiﬁcant ROI /C2\\nCondition interaction [ F(8, 256) = 10.24, MSE =. 0 0 6 , p<. 0 0 0 1 ] ,\\nindicating a shift away from DMN activity ( Fig. 2 B). There were no\\ngroup related main effects or interactions.\\nFinally, the third ANOVA tested for state effects by comparing\\nMED to RS within the three MM groups. We found a main effect\\nfor Condition [ F(1,34) = 17.00, MSE = .054, p< .0001], with gamma\\npower being generally higher during MED compared to RS, and a\\nmain effect of ROI [ F(8,272) = 8.10, MSE = .039, p< .0001] stem-\\nming again from lower gamma power over C and M ROIs. More\\nFig. 3. (A) Log gamma power ( M± SEM), for the ROI /C2group interaction (mean of the RS and TP conditions).⁄p< .05 ;⁄⁄p< .005 ; (B) topographic distribution (left and middle\\ncolumns) of the mean log-gamma power for the 3MM and C groups, during RS and TP, and the t-values (right column) of the electrode-wise t-test (two-tailed) of the 3MM\\ngroups vs. C, over the RS and TP conditions.704 A. Berkovich-Ohana et al. / Clinical Neurophysiology 123 (2012) 700–710' metadata={'source': '/content/studies/berkovich-ohana 2012.pdf', 'page': 4}\n",
            "page_content='importantly, we found an ROI /C2Condition interaction [ F(8,\\n272) = 3.55, MSE = .008, p< .001], with signiﬁcantly higher gamma\\npower over left T and PO and right C, T and PO ROIs during MED com-\\npared to RS ( Fig. 5 , see also Table 1 for group mean values and Fig. 6\\nfor an example of individual distributions). There were no signiﬁcant\\ngroup related differences. When looking at the correlation between\\nhours of MM practice and log gamma power we ﬁnd an inverted U-\\nshape for the PO ROIs, but this effect did not reach signiﬁcance. There\\nwas no observed correlation with the F or T ROIs.\\nIn addition, we found a positive correlation between the MM\\nsubjective reports of meditation depth and frontal gamma power\\nduring MED [ r= .417, p< .05, n= 36].\\n3.3. Time production task\\nThe mean log transformed produced ( P) duration [mean log( P)]\\ndistinguished signiﬁcantly between the groups, as found by a one-\\nway ANOVA, with MM exhibiting signiﬁcantly longer mean log( P)\\ncompared to C (mean of 3.77 vs. 3.42 for the MM and C groups,\\nrespectively) [ F(1,45) = 8.43, MSE = .121, p< .01]. However, there\\nwere no signiﬁcant differences between the three MM groups\\n(for further details, see Berkovich Ohana et al., 2011 ).\\nWe also tested for Pearson correlations between mean log( P)\\nand gamma power during the TP task. Interestingly, we found a\\nsigniﬁcant negative correlation with frontal gamma power, both\\nleft [ r=/C0.289, p< .05, n= 48], and right [ r=/C0.351, p= .01, n= 48].4. Discussion\\n4.1. DMN activity within the gamma band\\nThe transition from resting state (RS), a condition shown to be\\nrelated to DMN activity and self-processing, to time production\\n(TP), which is a task engaging attention in temporal measurement\\nwith a trade-off in attention allocation to other cognitive modulesperforming nontemporal information processing ( Glicksohn,\\n2001 ), is accompanied by a decline over the frontal (F) and midline\\n(M) ROIs ( Fig. 2 ). Considering that: (i) a positive correlation be-\\ntween induced gamma oscillations, measured by changes in the\\nsignal power in response to sensory stimulation, and the blood\\noxygen level dependent (BOLD) signal has been established, both\\nin animals ( Logothetis et al., 2001 ) and in humans ( Foucher et al.,\\n2003 ); (ii) gamma power has been related to the frontal node of\\nthe DMN, the mPFC ( Mantini et al., 2007 ); and (iii) the DMN essen-\\ntially involves frontal and midline structures ( Buckner et al., 2008;\\nGusnard et al., 2001 ), it seems feasible to consider gamma power\\nover the frontal and midline ROIs as a marker of DMN activity.\\nHence, the expected decline in DMN activity in the transition to\\nthe TP task is indicated by the reduction in gamma power over\\nthe F and M ROIs. In support of this conclusion, Jerbi et al. (2010)\\nrecently provided rare data from depth recordings in humans that\\nshow transient neural deactivation within the gamma band range\\nin the mPFC during task-engagement.\\nFig. 4. An example of individual distributions of log gamma power ( lV2) during RS. Two participants from each study group (C, ST-MM, IT-MM and LT-MM) are presented.\\nNotice that the right F values are higher in the control participants compared to the six MM participants, as opposed to the right PO values.\\nTable 1Log gamma power (Mean ± SEM), for the C ( n= 12) and MM ( n= 36) groups, during the three experimental conditions RS, TP and MED.\\nROI RS TP MED\\nC MM C MM C MM\\nF left 0.38 ± 0.07 0.28 ± 0.04 0.35 ± 0.08 0.21 ± 0.04 0.41 ± 0.08 0.31 ± 0.04\\nC left 0.14 ± 0.09 0.13 ± 0.03 0.17 ± 0.11 0.12 ± 0.04 0.22 ± 0.12 0.17 ± 0.04T left 0.30 ± 0.07 0.26 ± 0.04 0.36 ± 0.09 0.32 ± 0.04 0.44 ± 0.12 0.37 ± 0.04PO left 0.24 ± 0.09 0.26 ± 0.04 0.29 ± 0.11 0.29 ± 0.04 0.30 ± 0.12 0.34 ± 0.05F right 0.43 ± 0.07 0.24 ± 0.03 0.37 ± 0.08 0.21 ± 0.03 0.44 ± 0.09 0.29 ± 0.03\\nC right 0.20 ± 0.09 0.10 ± 0.03 0.20 ± 0.11 0.13 ± 0.03 0.20 ± 0.10 0.17 ± 0.03\\nT right 0.31 ± 0.09 0.18 ± 0.03 0.43 ± 0.12 0.31 ± 0.04 0.39 ± 0.10 0.33 ± 0.03PO right 0.23 ± 0.09 0.28 ± 0.05 0.29 ± 0.11 0.34 ± 0.05 0.25 ± 0.11 0.38 ± 0.05Midline 0.23 ± 0.08 0.19 ± 0.03 0.20 ± 0.10 0.14 ± 0.03 0.28 ± 0.09 0.23 ± 0.04A. Berkovich-Ohana et al. / Clinical Neurophysiology 123 (2012) 700–710 705' metadata={'source': '/content/studies/berkovich-ohana 2012.pdf', 'page': 5}\n",
            "page_content='The increase in gamma power during the TP task over the right,\\nand to a much lesser extent over the left, temporal (T) and parietal-\\noccipital (PO) ROIs ( Fig. 2 ) could be possibly attributed to an in-\\ncrease in anterior insular activity, which has been suggested by\\nseveral authors as a neurophysiological mechanism for the encod-\\ning of duration ( Craig, 2009; Wittmann, 2009 ).4.2. Meditation induced changes in the gamma band\\n4.2.1. State effects\\nWe have found increased gamma power over left T and PO, and\\nright central (C), T and PO ROIs during meditation (MED) compared\\nto RS in the MM practitioners ( Fig. 5 ). The only other study that\\nFig. 5. (A) Log gamma power ( M± SEM) for the ROI /C2condition interaction in the MM group ( n= 36) during RS and MED.⁄p< .01,⁄⁄p< .005,⁄⁄⁄p< .001; (B) topographic\\ndistribution (left and middle) of the mean log-gamma power during RS and MED for the 3MM groups ( n= 36), and t-values (right) of electrode-wise t-test (two-tailed) of MED\\nvs. RS.\\nFig. 6. An example of three individual distributions of log gamma power ( lV2) during RS and MED (one from each MM group: ST, IT and LT). Notice the increase over the right\\nPO.706 A. Berkovich-Ohana et al. / Clinical Neurophysiology 123 (2012) 700–710' metadata={'source': '/content/studies/berkovich-ohana 2012.pdf', 'page': 6}\n",
            "page_content='tested EEG state effects of MM practice was Cahn et al. (2010) , who\\nfound a similar increase in gamma power during MM, more re-\\nstricted to the PO. A possible interpretation for the posterior gam-\\nma power increase is an enhanced momentary sensory awareness,\\nas suggested by Cahn et al. (2010) . Indeed, other studies support\\nthe notion of heightened sensory awareness following meditation\\npractice ( Farb et al., 2007; Lazar et al., 2005; Nielsen and Kaszniak,\\n2006 ). For example, in the study of Farb et al. (2007) the state of\\nMM, which they termed ‘experiential-focus’ as opposed to the\\nDMN activity ‘narrative-focus’, induced in the practitioners an in-\\ncrease in activity in a right lateralized network, involving viscero-\\nsomatic areas such as the insula, secondary somatosensory cortex\\nand inferior parietal lobule.\\nAnother possible interpretation could be an increase in atten-\\ntional activity, as numerous meditation studies reported increasedattentional skills in meditation practitioners (e.g. Brefczynski-Le-\\nwis et al., 2007; Lutz et al., 2008, 2009; Tang et al., 2007 ). Further,\\nthe primary oscillatory activity that is modulated by selective\\nattention is the gamma frequency range ( Fries et al., 2001; Tiitinen\\net al., 1993 ), and the brain region that modulates selective atten-\\ntional demand is the posterior parietal lobe ( Behrmann et al.,\\n2004 ). MM uses initially two skills which regulate attention, mon-\\nitoring and disengagement from distracting stimuli ( Lutz et al.,\\n2008 ). In the bipartite attentional-network model of Corbetta and\\nShulman (2002) , these attentional processes are attributed to the\\nventral system, or the ‘bottom-up’ system of attention, which in-\\ncludes the ventrolateral PFC and the temporoparietal junction. This\\nsystem carries out stimulus-driven, exogenous, bottom-up control\\nof attention, and is largely lateralized to the right hemisphere\\n(Corbetta and Shulman, 2002; Fox et al., 2006; Serences et al.,\\n2005 ). Following this line of interpretation, during the state of\\nMM, practitioners are more engaged in monitoring and disengage-\\nment from distracting stimuli, hence PO activity rises, reﬂected by\\nan increase in local gamma activity. This interpretation also ac-\\ncounts for the increased effect over the right hemisphere, as the\\nventral system is largely lateralized to the right.\\nBoth interpretations suggested above for the largely right later-\\nalized state temporal-posterior gamma increase reﬂect the shift\\naway from narrative-focus, self-referential processing, towards\\nexperiential-focus heightened external attention and increased\\nmomentary sensory awareness.\\n4.2.2. Trait effects\\nThe only ROI where MM practitioners exhibited higher gamma\\npower compared to controls during the RS was the right PO ( Fig. 3 ).\\nThis might be interpreted as a long-term, trait increase in attention\\nallocation towards interoceptive or external sensory awareness,\\nsupporting the idea of neural plasticity in these networks in re-sponse to meditative training.\\nWe also observed signiﬁcantly decreased gamma power over\\nthe F ROIs compared to controls ( Fig. 3 ), the effect being stronger\\nfor the right hemisphere. Converging evidence based on results\\nfrom lesion and neuroimaging studies relate the right PFC with\\nself-awareness and self-related processing, such as distinguishing\\nstimuli related to one’s own self from those that are not relevant\\nto one’s own concerns ( Keenan et al., 2003 ). For instance, increased\\nactivity in the right PFC has been associated with self-recognition\\n(reviewed by Keenan et al., 2000; Morita et al., 2008 ), and with in-\\ncreased self-relevance during metacognitive evaluation of trait\\nadjectives ( Schmitz et al., 2004 ). In addition, the right PFC activa-\\ntion has been related to retrieval of episodic memories ( Allan\\net al., 2000 ; reviewed by Wheeler et al., 1997 ), and attributed to\\nautonoetic consciousness, deﬁned as the capacity to mentally rep-\\nresent and become aware of subjective experience over time\\n(Markowitsch, 2003; Wheeler et al., 1997 ). This autonoetic con-\\nsciousness, introduced by William James as the ‘Me’ ( James,1890\\n), has been given different names, including ‘‘autobiographical\\nself’’ ( Damasio and Meyer, 2009 ), ‘‘narrative self’’ ( Gallagher, 2000 )\\nand the ‘‘self-reﬂective self’’ ( Zahavi, 2011 ). However, one can also\\nbe noetically aware about one’s self, which means thinking objec-\\ntively about the world, without involving self-relevance to what-\\never one experiences ( Keenan et al., 2000 ). This phenomenon\\nwas differentiated from the ‘Me’ by William James as the ‘I’ ( James,\\n1890 ), largely characterized by momentary bodily experiencing,\\nand called by others the ‘‘core self’’ ( Damasio, 1999; Damasio\\nand Meyer, 2009 ), the ‘‘experiential or prereﬂective self’’ ( Zahavi,\\n2011 ), and the ‘‘minimal self’’: ( Gallagher, 2000 ). The largely right\\nlateralized F ROI gamma reduction seen in the MM practitioners\\ncompared to controls, both during RS and TP ( Fig. 3 ), suggests a\\ntrait transition from self-reference processing which is narrative\\nin nature, towards experiential self-reference mode.\\nThe results presented here are the ﬁrst electrophysiological evi-\\ndence for meditation-induced trait gamma power reduction within\\nthe right PFC accompanied by trait increase in right PO gamma,\\nwhich suggests a trait shift from dwelling mentally within the ex-\\ntended self with its engagement in self-processing experience, to-\\nwards the minimal, momentary and embodied experiencing self.\\n4.3. Temporal perception\\nWe found a signiﬁcant negative correlation between produced\\nduration and gamma power over both F ROIs during the TP task.\\nFurther, we found that MM practice alters temporal perception in\\nthe direction of longer produced duration. This supports the\\nhypothesis suggested by Glicksohn (2001) , based on the cogni-\\ntive-timer model ( Treisman, 1984 ), that within a TP paradigm,\\nthe more focused internally is one’s attention (as is during medita-\\ntion), the slower the rate of functioning of the cognitive timer, cou-\\npled with larger subjective time units—hence longer produced\\nduration. Yet, increasing MM proﬁciency did not have an effect,\\nsuggesting that the neuroplasticity in the temporal cognition net-\\nworks takes place in the early stages of MM practice.\\nGoing back to the issue of self-reference, the ‘I’ (core-self) and\\nthe ‘Me’ (narrative-self) have a different and complementary exis-\\ntence in the spatio-temporal domain: while the ‘Me’ places one in\\nindividual historical time and place, his or her actual past and pos-\\nsible future, the experiential ‘I’ is rooted in the here and now, in\\nmomentary experience ( Damasio, 1999 ). Our TP results, both the\\ncognitive measure and its negative correlation with frontal gamma\\npower, give further support to our suggestion that MM reduces the\\nnarrative, and increases the experiential self-reference processing.\\nFurther evidence for this line of argument comes from a recent\\nfMRI study, which revealed that ‘time dilation’ occurs in conjunc-\\ntion with the activation of several midline structures, such as theanterior cingulate and left precuneus ( Van Wassenhove et al.,\\n2011; Wittmann et al., 2010 ), related to experiential self-referen-\\ntial processing, or core-self ( Northoff and Bermpohl, 2004;\\nNorthoff et al., 2006 ).\\n4.4. Meditation depth\\nWhile we could expect a negative correlation between the MM\\nsubjective reports of meditation depth and frontal gamma power\\nduring MED, we found a positive one. This indicates that subjective\\nexperience of ‘meditation success’ requires enhanced frontal gam-\\nma activity, possibly related to narrative self-referential process-\\ning. We speculate that lower narrative self-referential processing\\nmight be subjectively experienced and judged as lower metacogni-\\ntive monitoring. Metacognitive monitoring involves the ﬂow of\\ninformation from the object level to the meta-level. It refers to\\nevaluation (bottom-up) and control (top-down) of one’s cognitive\\nprocesses. The role of the meta-level is to evaluate what is beingA. Berkovich-Ohana et al. / Clinical Neurophysiology 123 (2012) 700–710 707' metadata={'source': '/content/studies/berkovich-ohana 2012.pdf', 'page': 7}\n",
            "page_content='monitored, and based on this evaluation, control object-level pro-\\ncessing by a feedback ﬂow of information ( Koriat, 2007; Nelson,\\n1996 ). However, Brown and Ryan (2004) make a point that mind-\\nfulness is not metacognition: ‘‘consciousness and cognition are dis-\\ntinct processing modalities. As a cognitive process, metacognition\\noperates within the realm of thought, to monitor and control cog-\\nnitive activities and to ensure that cognitive goals have been met...\\nMindfulness differs from such metacognitive processes in that its\\nmode of operation is perceptual, operating upon thought, as well\\nas upon emotion and other contents of consciousness, rather than\\nwithin them’’ (p. 243).\\n4.5. The question of meditation proﬁciency\\nIn this study we included 36 MM practitioners with great exper-\\ntise variability, ranging between 180 - 23,000 h, grouped in three\\ngroups. Albeit the large expertise range, we did not ﬁnd any MM\\nexpertise-related signiﬁcant effects in gamma power for the F\\nROI during RS or TP, suggesting that the trait shift in self-reference\\nmode from narrative-focused to experiential-focused occurs in\\nearly stages of MM practice. This conclusion is further supported\\nbyFarb et al. (2007) , who provided evidence that after MM training\\nof two months there was a state shift in self-reference processing\\nduring meditation. Our results indicate that the shift in self-refer-\\nence mode is: (1) a trait, and not only a state, acquired following a\\nshort MM training (in the range of hundreds of formal practice\\nhours); and (2) could be clearly seen noninvasively over the fron-\\ntal, especially right hemisphere, in the gamma band of the EEG.\\nIn addition, MM expertise did not affect the state (measured\\nduring MED) gamma power increase over T and PO ROIs, as well\\nas the trait right PO gamma power (measured during RS or TP),\\nattributed to increased attentional skills and heightened aware-\\nness to internal and external sensory stimuli. This disagrees with\\nthe results reported by Cahn et al. (2010) , who found that medita-\\ntion-related increases in occipital gamma power signiﬁcantly\\ncovaried with meditational expertise, indexed by total years of dai-\\nly practice. However, Cahn et al. (2010) compared 10 practitioners\\nwith over 10 years of practice with 6 practitioners having less than\\n5 years of practice. In comparison, our study included a much lar-\\nger group sample, within the same expertise range (15 participants\\nhad > 10 years of practice, 7 had > 5 years, and 14 were in be-\\ntween). Another study which tested the correlation between the\\ntotal hours of formal meditation and overall gamma power in eight\\nlong-term practitioners of Tibetan Buddhism reported a positive\\ncorrelation coefﬁcient, which did not, however, reach signiﬁcance\\n(Lutz et al., 2004 ).\\n5. Conclusions\\nIn this study we employed EEG to investigate whether the reg-\\nular practice of mindfulness meditation (MM) affects self-referen-\\ntial processing, either as short-term (state) or as long-term (trait)\\neffect, in relation to practice proﬁciency. To this end, we ﬁrst iden-\\ntiﬁed the electrophysiological changes associated with the transi-\\ntion from resting state to a simple time production task—lower\\ngamma power over frontal and midline regions. This effect was\\nsimilar in practitioners and controls. We then continued by com-\\nparing our three groups of MM practitioners to matched controls\\nduring a resting state, and showed that MM practitioners exhibited\\nlower frontal gamma activity, mainly right-lateralized, related to\\nnarrative self-reference and default mode network activity. In\\naddition, we have identiﬁed state increases in temporal and pari-\\neto-occipital (PO) gamma power, largely lateralized to the right,\\nattributed to an increase in attentional skills and heightenedawareness to internal and external sensory stimuli. An increase\\nin right PO gamma power was also found in the MM practitioners,\\ncompared to controls, during the resting state, indicating a trait\\neffect. Taken together, these results support the notion that the\\nregular practice of MM induces a shift away from narrative\\nself-referential processing towards an experiential and momentary\\nself-reference processing.\\nFinally, the state and trait MM-induced changes in gamma\\nactivity were found to be irrespective of expertise level, suggesting\\nthat: (i) the shift in habitual self-referential processing from narra-\\ntive to experiential focus, and (ii) the increase in attentional skills\\nand heightened awareness to internal and external sensory stimuli,\\nboth occur in the earlier stages of MM practice, within the ﬁrst\\n1000 h of practice.\\nAcknowledgements\\nThis paper is based on a Ph.D. dissertation (ﬁrst author), super-\\nvised by the second and third authors. This work was supported by\\nthe Mind and Life Institute Francisco J. Varela Research Award\\n6546.\\nReferences\\nAftanas L, Golosheykin S. Impact of regular meditation practice on EEG activity at\\nrest and during evoked negative emotions. Int J Neurosci 2005;115:893–909.\\nAllan K, Dolan RJ, Fletcher PC, Rugg MD. The role of the right anterior prefrontal\\ncortex in episodic retrieval. NeuroImage 2000;11:217–27.\\nBarinaga M. Buddhism and neuroscience. Studying the well-trained mind. Science\\n2003;302:44–6.\\nBehrmann M, Geng JJ, Shomstein S. Parietal cortex and attention. Curr Opin\\nNeurobiol 2004;14:212–7.\\nBerkovich Ohana A, Glicksohn J, Goldstein A. Temporal cognition changes following\\nmindfulness, but not transcendental meditation practice. In: Proceedings of the\\n27th annual meeting of the international society for psychophysics [in press].\\nBrefczynski-Lewis JA, Lutz A, Schaefer HS, Levinson DB, Davidson RJ. Neural\\ncorrelates of attentional expertise in long-term meditation practitioners. Proc\\nNatl Acad Sci USA 2007;104:11483–8.\\nBronez TP. On the performance advantage of multitaper spectral analysis. IEEE\\nTrans Sig Proc 1992;40:2941–6.\\nBrown KW, Ryan RM. Perils and promise in deﬁning and measuring mindfulness:\\nobservations from experience. Clin Psychol Sci Pract 2004;11:242–8.\\nBroyd SJ, Demanuele C, Debener S, Helps SK, James CJ, Sonuga-Barke EJS. Default-\\nmode brain dysfunction in mental disorders: a systematic review. Neurosci\\nBiobehav Rev 2009;33:279–96.\\nBuckner RL, Andrews-Hanna JR, Schacter DL. The brain’s default network: anatomy,\\nfunction, and relevance to disease. In: Kingstone A, Miller MB, editors. The yearin cognitive neuroscience. Ann NY Acad Sci 2008;1124:1–38.\\nCacioppo JT, Tassinary LG, Fridlund AJ. The skeletomotor system. In: Tassinary LG,\\neditor. Principles of psychophysiology. New York: Cambridge University Press;\\n1990. p. 325–84.\\nCahn BR, Delorme A, Polich J. Occipital gamma activation during Vipassana\\nmeditation. Cogn Proc 2010;11:39–56.\\nCahn BR, Polich J. Meditation states and traits: EEG, ERP, and neuroimaging studies.\\nPsychol Bull 2006;132:180–211.\\nCassady SL, Adami H, Moran M, Kunkel R, Thaker GK. Spontaneous dyskinesia in\\nsubjects with schizophrenia spectrum personality. Am J Psychiatry\\n1998;155:70–5.\\nChen ACN, Feng WJ, Zhao HX, Yin YL, Wang PP. EEG default mode network in the\\nhuman brain: spectral regional ﬁeld powers. NeuroImage 2008;41:561–74.\\nCorbetta M, Shulman GL. Control of goal-directed and stimulus-driven attention in\\nthe brain. Nat Rev Neurosci 2002;3:215–29.\\nCraig AD. Emotional moments across time: a possible neural basis for time\\nperception in the anterior insula. Philos Trans R Soc London B Biol Sci2009;364:1933–42.\\nDamasio AR. The feeling of what happens: body and emotion in the making of\\nconsciousness. New York: Harcourt Brace; 1999.\\nDamasio AR, Meyer K. Consciousness: an overview of the phenomenon and of its\\npossible neural basis. In: Laureys S, Tononi G, editors. The neurology of\\nconsciousness: cognitive neuroscience and neuropathology. Oxford: Elsevier\\nAcademic Press; 2009. p. 3–14.\\nDavidson RJ, Lutz A. Buddha’s brain: neuroplasticity and meditation. IEEE Sig Proc\\nMag 2008;25:171–4.\\nDreyfus G, Thompson E. Asian perspectives: Indian theories of mind. In: Thompson\\nE, Zelazo PD, Moscovitch M, editors. The Cambridge handbook of\\nconsciousness. Cambridge: Cambridge University Press; 2007. p. 89–114.708 A. Berkovich-Ohana et al. / Clinical Neurophysiology 123 (2012) 700–710' metadata={'source': '/content/studies/berkovich-ohana 2012.pdf', 'page': 8}\n",
            "page_content='Engel AK, Fries P, Singer W. Dynamic predictions: oscillations and synchrony in top–\\ndown processing. Nat Rev Neurosci 2001;2:704–16.\\nFarb NAS, Segal ZV, Mayberg H, Bean J, McKeon D, Fatima Z, et al. Attending to the\\npresent: mindfulness meditation reveals distinct neural modes of self-\\nreference. Soc Cogn Affect Neurosci 2007;2:313–22.\\nFerree TC, Luu P, Russell GS, Tucker DM. Scalp electrode impedance, infection risk,\\nand EEG data quality. Clin Neurophysiol 2001;112:536–44.\\nFingelkurts AA, Ermolaev VA, Kaplan AY. Stability, reliability and consistency\\nof the compositions of brain oscillations. Int J Psychophysiol 2006;59:116–26.\\nFoucher J, Otzenberger H, Gounot D. The BOLD response and the gamma oscillations\\nrespond differently than evoked potentials: an interleaved EEG-fMRI study.BMC Neurosci 2003;4:4–22.\\nFox MD, Corbetta M, Snyder AZ, Vincent JL, Raichle ME. Spontaneous neuronal\\nactivity distinguishes human dorsal and ventral attention systems. Proc Natl\\nAcad Sci USA 2006;103:10046–51.\\nFries P, Reynolds JH, Rorie AE, Desimone R. Modulation of oscillatory neuronal\\nsynchronization by selective visual attention. Science 2001;291:1560–3.\\nGallagher S. Philosophical conceptions of the self: implications for cognitive science.\\nTrends Cogn Sci 2000;4:14–21.\\nGlicksohn J. Temporal cognition and the phenomenology of time: a multiplicative\\nfunction for apparent duration. Conscious Cogn 2001;10:1–25.\\nGlicksohn J, Berkovich Ohana A, Balaban Dotan T, Goldstein A, Donchin O. Time\\nproduction and EEG alpha revisited. NeuroQuantology 2009;7:138–51.\\nGusnard DA, Akbudak E, Shulman GL, Raichle ME. Medial prefrontal cortex and self-\\nreferential mental activity: relation to a default mode of brain function. Proc\\nNatl Acad Sci USA 2001;98:4259–64.\\nHart W. The art of living: Vipassana meditation as taught by SN Goenka. San\\nFrancisco, CA: Harper and Row; 1987.\\nHerrmann CS, Fründ I, Lenz D. Human gamma-band activity: a review on cognitive\\nand behavioral correlates and network models. Neurosci Biobehav Rev\\n2010;34:981–92.\\nHölzel BK, Carmody J, Vangel M, Congleton C, Yerramsetti SM, Gard T, et al.\\nMindfulness practice leads to increases in regional brain gray matter density.\\nPsychiatry Res Neuroimaging 2011;191:36–43.\\nHölzel BK, Ott U, Hempel H, Hackl A, Wolf K, Stark R, et al. Differential engagement\\nof anterior cingulate and adjacent medial frontal cortex in adept meditators and\\nnon-meditators. Neurosci Lett 2007;421:16–21.\\nIvanovski B, Malhi GS. The psychological and neurophysiological concomitants of\\nmindfulness forms of meditation. Acta Neuropsychiatrica 2007;19:76–91.\\nJames W. The principles of psychology, vol. 1. New York: Henry-Holt and Co; 1890.Jang JH, Jung WH, Kang D-H, Byun MS, Kwon SJ, Choi C-H, et al. Increased default\\nmode network connectivity associated with meditation. Neurosci Lett\\n2011;487:358–62.\\nJerbi K, Vidal JR, Ossandon T, Dalal SS, Jung J, Hoffmann D, et al. Exploring the\\nelectrophysiological correlates of the default-mode network with intracerebral\\nEEG. Front Syst Neurosci 2010;4:1–9.\\nKabat-Zinn J. Mindfulness-based interventions in context: past, present, and future.\\nClin Psychol Sci Practice 2003;10:144–56.\\nKeenan JP, Wheeler MA, Ewers M. The neural correlates of self-awareness and self-\\nrecognition. In: Kircher T, David A, editors. The self in neuroscience and\\npsychiatry. Cambridge: Cambridge University Press; 2003. p. 166–79.\\nKeenan JP, Wheeler MA, Gallup GG, Pascual-Leone A. Self-recognition and the right\\nprefrontal cortex. Trends Cogn Sci 2000;4:338–44.\\nKilpatrick LA, Suyenobu BY, Smith SR, Bueller JA, Goodman T, Creswell JD, et al.\\nImpact of mindfulness-based stress reduction training on intrinsic brain\\nconnectivity. NeuroImage 2011;56:290–8.\\nKnight J. Religion and science. Buddhism on the brain. Nature 2004;432:670.\\nKoriat A. Metacognition and consciousness. In: Thompson E, Zelazo PD, Moscovitch\\nM, editors. The Cambridge handbook of consciousness. Cambridge: CambridgeUniversity Press; 2007. p. 289–325.\\nLaufs H, Krakow K, Sterzer P, Eger E, Beyerle A, Salek-Haddadi A, et al.\\nElectroencephalographic signatures of attentional and cognitive default\\nmodes in spontaneous brain activity ﬂuctuations at rest. Proc Natl Acad Sci\\nUSA 2003;100:11053–8.\\nLazar SW, Kerr CE, Wasserman RH, Gray JR, Greve DN, Treadway MT, et al.\\nMeditation experience is associated with increased cortical thickness.\\nNeuroReport 2005;16:1893–7.\\nLehmann D, Faber PL, Achermenn P, Jeanmonod D, Gianotti LRR, Pizzagalli D. Brain\\nsources of EEG gamma frequency during volitionally meditation-induced,\\naltered states of consciousness, and experience of the self. Psychiatry Res\\n2001;108:111–21.\\nLogothetis NK, Pauls J, Augath M, Trinath T, Oeltermann A. Neurophysiological\\ninvestigation of the basis of the fMRI signal. Nature 2001;412:150–7.\\nLutz A, Lachaux J-P, Martinerie J, Varela FJ. Guiding the study of brain dynamics\\nby using ﬁrst-person data: Synchrony patterns correlate with ongoing\\nconscious states during a simple visual task. Proc Natl Acad Sci USA2002;99:1586–91.\\nLutz A, Greischar LL, Rawlings NB, Ricard M, Davidson RJ. Long-term meditators\\nself-induce high-amplitude gamma synchrony during mental practice. Proc\\nNatl Acad Sci USA 2004;101:16369–73.\\nLutz A, Dunne JD, Davidson RJ, Thompson E. Asian perspectives: Indian theories of\\nmind. In: Thompson E, Zelazo PD, Moscovitch M, editors. The Cambridge\\nhandbook of consciousness. Cambridge: Cambridge University Press; 2007. p.\\n499–551.Lutz A, Slagter HA, Dunne JD, Davidson RJ. Cognitive-emotional interactions:\\nattention regulation and monitoring in meditation. Trends Cogn Sci\\n2008;12:163–9.\\nLutz A, Slagter HA, Rawlings NB, Francis AD, Greischar LL, Davidson RJ. Mental\\ntraining enhances attentional stability: neural and behavioral evidence. J\\nNeurosci 2009;29:13418–27.\\nMantini D, Perrucci MG, Del Gratta C, Romani GL, Corbetta M. Electrophysiological\\nsignatures of resting state networks in the human brain. Proc Natl Acad Sci USA\\n2007;104:13170–5.\\nMarkowitsch HJ. Autonoetic consciousness. In: Kircher T, David A, editors. The self\\nin neuroscience and psychiatry. Cambridge: Cambridge University Press; 2003.p. 180–96.\\nMartinez-Conde S, Macknik SL, Hubel DH. The role of ﬁxational eye movements in\\nvisual perception. Nat Rev Neurosci 2004;5:229–40.\\nMathew RJ, Wilson WH, Chiu NY, Turkington TG, Degrado TR, Coleman RE. Regional\\ncerebral blood ﬂow and depersonalization after tetrahydrocannabinol\\nadministration. Acta Psychiatr Scand 1999;100:67–75.\\nMeltzer JA, Negishi M, Mayes LC, Constable RT. Individual differences in EEG theta\\nand alpha dynamics during working memory correlate with fMRI responses\\nacross subjects. Clin Neurophysiol 2007;118:2419–36.\\nMiller BL, Seeley WW, Mychack P, Rosen HJ, Mena I, Boone K. Neuroanatomy of the\\nself: evidence from patients with frontotemporal dementia. Neurology\\n2001;57:817–21.\\nMizuhara H, Wang L-Q, Kobayashi K, Yamaguchi Y. A long-range cortical network\\nemerging with theta oscillation in a mental task. NeuroReport\\n2004;15:1233–8.\\nMorita T, Itakura S, Saito DN, Nakashita S, Harada T, Kochiyama T, et al. The role of\\nthe right prefrontal cortex in self-evaluation of the face. A functional magneticresonance imaging study. J Cogn Neurosci 2008;20:342–55.\\nNelson TO. Consciousness and metacognition. Am Psychol 1996;51:102–16.\\nNielsen L, Kaszniak AW. Awareness of subtle emotional feelings: a comparison of\\nlong-term meditators and nonmeditators. Emotion 2006;6:392–405.\\nNorthoff G, Bermpohl F. Cortical midline structures and the self. Trends Cogn Sci\\n2004;8:102–7.\\nNorthoff G, Heinzel A, de Greck M, Bermpohl F, Dobrowolny H, Panksepp J. Self-\\nreferential processing in our brain – a meta-analysis of imaging studies on the\\nself. NeuroImage 2006;31:440–57.\\nPagnoni G, Cekic M, Guo Y. ‘‘Thinking about not-thinking’’: neural correlates of\\nconceptual processing during Zen meditation. PLoS ONE 2008;3:e3083.\\nPerrin F, Pernier J, Bertrand O, Echallier JF. Spherical splines for scalp potential and\\ncurrent density mapping. Electroencephalogr Clin Neurophysiol\\n1989;72:184–7.\\nRaichle ME, MacLeod AM, Snyder AZ, Powers WJ, Gusnard DA, Shulman GL. A\\ndefault mode of brain function. Proc Natl Acad Sci USA 2001;98:676–82.\\nRubia K. The neurobiology of meditation and its clinical effectiveness in psychiatric\\ndisorders. Biol Psychol 2009;82:1–11.\\nScheeringa R, Bastiaansen M, Petersson KM, Oostenveld R, Norris DG, Hagoort P.\\nFrontal theta EEG activity correlates negatively with the default mode network\\nin resting state. Int J Psychophysiol 2008;67:242–51.\\nSchmitz TW, Kawahara-Baccus TN, Johnson SC. Metacognitive evaluation, self-\\nrelevance, and the right prefrontal cortex. NeuroImage 2004;22:941–7.\\nSerences JT, Liu T, Yantis S. Parietal mechanisms of attentional control: locations,\\nfeatures, and objects. In: Itti L, Rees G, Tsotsos J, editors. Neurobiology of\\nattention. San Diego: Elsevier Academic Press; 2005. p. 35–41.\\nTang Y-Y, Ma Y, Fan Y, Feng H, Wang J, Feng S, et al. Central and autonomic nervous\\nsystem interaction is altered by short-term meditation. Proc Natl Acad Sci USA\\n2009;106:8865–71.\\nTang Y-Y, Ma Y, Wang J, Fan Y, Feng S, Lu Q, et al. Short-term meditation training\\nimproves attention and self-regulation. Proc Natl Acad Sci USA2007;104:17152–6.\\nThomson D. Spectrum estimation and harmonic analysis. IEEE Proc\\n1982;70:1055–96.\\nTiitinen HT, Sinkkonen J, Reinikainen K, Alho K, Lavikainen J, Näätänen R. Selective\\nattention enhances the auditory 40-Hz transient response in humans. Nature1993;364:59–60.\\nTravis F, Haaga DAF, Hagelin J, Tanner M, Arenander A, Nidich S, et al. A self-\\nreferential default brain state: patterns of coherence, power, and eLORETA\\nsources during eyes-closed rest and transcendental Meditation practice. Cogn\\nProcess 2010;11:21–30.\\nTreisman M. Temporal rhythms and cerebral rhythms. Ann NY Acad Sci\\n1984;423:542–65.\\nvan Vugt MK, Sederberg PB, Kahana MJ. Comparison of spectral analysis\\nmethods for characterizing brain oscillations. J Neurosci Methods\\n2007;162:49–63.\\nvan Wassenhove V, Wittmann M, Paulus MP. Frontiers: psychological and neural\\nmechanisms of subjective time dilation. Front Neurosci 2011;22:5.\\nWheeler MA, Stuss DT, Tulving E. Toward a theory of episodic memory: the frontal\\nlobes and autonoetic consciousness. Psychol Bull 1997;121:331–54.\\nWhitham EM, Pope KJ, Fitzgibbon SP, Lewis T, Clark CR, Loveless S, et al. Scalp\\nelectrical recording during paralysis: quantitative evidence that EEG\\nfrequencies above 20 Hz are contaminated by EMG. Clin Neurophysiol2007;118:1877–88.\\nWittmann M. The inner experience of time. Philos Trans R Soc London B Biol Sci\\n2009;364:1955–67.A. Berkovich-Ohana et al. / Clinical Neurophysiology 123 (2012) 700–710 709' metadata={'source': '/content/studies/berkovich-ohana 2012.pdf', 'page': 9}\n",
            "page_content='Wittmann M, van Wassenhove V, Craig AD, Paulus MP. The neural substrates of\\nsubjective time dilation. Front Hum Neurosci 2010;22:4.\\nYuval-Greenberg S, Deouell LY. The broadband-transient induced gamma-band\\nresponse in scalp EEG reﬂects the execution of saccades. Brain Topogr\\n2009;22:3–6.Zahavi D. The experiential self: objections and clariﬁcations. In: Siderits M,\\nThompson E, Zahavi D, editors. Self, no self? perspectives from analytical,\\nphenomenological, and Indian traditions. New York: Oxford University Press;\\n2011. p. 56–78.710 A. Berkovich-Ohana et al. / Clinical Neurophysiology 123 (2012) 700–710' metadata={'source': '/content/studies/berkovich-ohana 2012.pdf', 'page': 10}\n",
            "page_content='Meditation Increases the Entropy of Brain Oscillatory Activity\\nRocı´o Martı ´nez Vivot,a,b,cyCarla Pallavicini,a,b,dyFederico Zamberlan,a,bDaniel Vigoa,cand Enzo Tagliazucchia,b*\\naNational Scientiﬁc and Technical Research Council (CONICET), Buenos Aires, Argentina\\nbDepartamento de Fı ´sica, FCEyN, UBA, e Instituto de Fı ´sica de Buenos Aires (IFIBA), Buenos Aires, Argentina\\ncInstituto de Investigaciones Biome ´dicas UCA-CONICET (BIOMED), Buenos Aires, Argentina\\ndFundacio ´n para la Lucha contra las Enfermedades Neurolo ´gicas de la Infancia (FLENI), Buenos Aires, Argentina\\nAbstract— We address the hypothesis that the entropy of neural dynamics indexes the intensity and quality of\\nconscious content. Previous work established that serotonergic psychedelics can have a dysregulating eﬀect\\non brain activity, leading to subjective eﬀects that present a considerable overlap with the phenomenology of cer-tain meditative states. Here we propose that the prolonged practice of meditation results in endogenous\\nincreased entropy of brain oscillatory activity. We estimated the entropy of band-speciﬁc oscillations during\\nthe meditative state of traditions classiﬁed as ‘focused attention’ (Himalayan Yoga), ‘open monitoring’ (Vipas-sana), and ‘open awareness’ (Isha Shoonya Yoga). Among all traditions, Vipassana resulted in the highestentropy increases, predominantly in the alpha and low/high gamma bands. In agreement with previous studies,\\nall meditation traditions increased the global coherence in the gamma band, but also stabilized gamma-range\\ndynamics by lowering the metastability. Finally, machine learning classiﬁers could successfully generalizebetween certain pairs of meditation traditions based on the scalp distribution of gamma band entropies. Our\\nresults extend previous ﬁndings on the spectral changes observed during meditation, showing how long-term\\npractice can lead to the capacity for achieving brain states of high entropy. This constitutes an example of anendogenous, self-induced high entropy state.\\n/C2112020 IBRO. Published by Elsevier Ltd. All rights reserved.\\nKey words: meditation, EEG, entropy, alpha oscillations, gamma oscillations.\\nINTRODUCTION\\nThe spectrum of human consciousness is rich and varied,\\nyet the neural underpinnings of such diversity remain\\nelusive ( Koch et al., 2016 ). Recently, Carhart-Harris and\\ncolleagues introduced the hypothesis that the degree of\\nentropy of spontaneous brain activity indexes the ‘richness’\\nof conscious subjective experience ( Carhart-Harris et al.,\\n2014 ). Entropy is a dimensionless quantity derived from\\nthe theory of statistical mechanics that can be interpreted\\nas the degree of disorder present in a physical system\\n(Ben-Naim, 2012 ). As expressed by the proponents of\\nthe hypothesis: ‘‘ The great merit of applying the measure\\nof entropy in cognitive neuroscience is that it is uniquely\\nadept at bridging the physical and subjective divide; mereﬂip sides of the same coin – but diﬀerent sides nonethe-\\nless”. According to this proposal, low-entropy brain states\\npresent a reduced repertoire of potential conﬁgurations,and thus are subjectively experienced as states of dimin-\\nished conscious awareness ( Schartner et al., 2015;\\n2017b; Hudetz et al., 2016; Liu et al., 2018 ). Conversely,\\nhigh-entropy brain states are experienced as content-rich, but at the same time as unpredictable and therefore\\nuncertain ( Tagliazucchi et al., 2014; Cavanna et al.,\\n2017; Carhart-Harris, 2018 ), and thus enabling subjective\\nexperiences beyond the scope of everyday awareness.As an example, the acute eﬀects of serotonergic psychede-\\nlics (i.e. serotonin 5-HT\\n2Areceptor agonists), glutamatergic\\ndissociatives (i.e. NMDA receptor antagonists) ( Schartner\\net al., 2017a; Viol et al., 2017; 2019 ) and a nonselective\\nadenosine antagonist stimulant (caﬀeine) ( Chang et al.,\\n2018 ) have been linked to high-entropy brain oscillations\\nor, equivalently, to reduced levels of compressibility.\\nIn the information-theoretical sense, entropy\\nrepresents the amount of information needed to specifythe microstate of the system or, equivalently, its level of\\nuncertainty and unpredictability.\\n1The biological meaning\\nof brain entropy depends upon the experimental variable\\nhttps://doi.org/10.1016/j.neuroscience.2020.01.033\\n0306-4522/ /C2112020 IBRO. Published by Elsevier Ltd. All rights reserved.*Correspondence to: E. Tagliazucchi, National Scientiﬁc and Tech-\\nnical Research Council (CONICET), Buenos Aires, Argentina.\\nE-mail address: tagliazucchi.enzo@googlemail.com (E. Tagliazucchi).\\nyThese authors contributed equally to this work.\\nAbbreviations: EEG, electroencephalography; FA, focused attention;\\nHT, Himalaya Yoga; OM, open monitoring; PET, positron emissiontomography; RF, random forests; SE, sample entropy; VIP, Vipassana.1More precisely, information is proportional to Gibbs entropy,\\nG/P\\nipilogðpiÞ, where pirepresents the probability of the system\\nresiding in its i-th microstate. The original deﬁnition (given byBoltzmann) is recovered when all p\\niare equal.NEUROSCIENCE\\nRESEARCH ARTICLE\\nR. M. Vivot et al. / Neuroscience 431 (2020) 40–51\\n40' metadata={'source': '/content/studies/vivot 2020.pdf', 'page': 0}\n",
            "page_content='under study. The large-scale oscillations in scalp potential\\nthat are measured using electroencephalography (EEG)\\nare frequently employed as markers of physiological,pathological and pharmacologically-induced global brainstates (e.g. sleep, epilepsy, coma, anesthesia). Thus, the\\nentropy of such global brain oscillations could\\napproximate the uncertainty of the distribution of potentialbrain conﬁgurations, yielding an objective marker of the\\nsubjectively felt ‘richness’ of conscious experience.\\nWe propose that the brain state achieved by expert\\nmeditators is associated with increased entropy of brain\\noscillatory activity. This hypothesis is supported by the\\nobservation that the extended practice of certainmeditation traditions is associated with an enlarged\\nrepertoire of subjective experiences in comparison to\\nordinary conscious wakefulness ( Brandmeyer et al.,\\n2019 ). In particular, many of these features are common\\nto the acute eﬀects of serotonergic psychedelics. These\\nfeatures include a shift towards positive mood and emo-\\ntions, increased cognitive ﬂexibility and emotional dysreg-ulation or mood lability, altered self-awareness, a state of\\na ‘dreamlike’ quality, and the collapse of the intentional\\nstructure of subject/object (non-dual awareness)(Carhart-Harris and Nutt 2014; Travis, 2014; Nichols,\\n2016; Nour and Carhart-Harris, 2017; Millie `re et al.,\\n2018 ). Both meditation and the use of serotonergic psy-\\nchedelics are frequently associated with the intention ofobtaining ‘insights’ about the nature of ‘objective reality’\\nand the self ( Barrett and Griﬃths, 2018 ). Furthermore,\\nevidence suggests that certain meditative practices(Strauss et al., 2014; Haukaas et al., 2018 ) and seroton-\\nergic psychedelics ( Griﬃths et al., 2016; Carhart-Harris\\net al., 2017, 2018; Dos Santos et al., 2018; Garcia-Romeu and Richards, 2018; Palhano-Fontes et al.,\\n2018 ) can lead to prolonged positive eﬀects in patients\\nsuﬀering from depression and anxiety, raising the possi-bility of increased brain entropy as a common mechanism\\nunderlying these eﬀects ( Carhart-Harris, 2018 ).\\nIt is now widely recognized that, by itself, the term\\n‘meditation’ is non-speciﬁc, and that it has beenfrequently applied to heterogeneous practices, both in\\nterms of cultural background and the instructions\\nfollowed to meditate ( Braboszcz et al., 2017 ). To evaluate\\nour hypothesis while also accounting for this heterogene-\\nity, we investigated EEG data acquired from three groups\\nof expert meditators following diﬀerent traditions: Hima-laya Yoga (HT), Vipassana (VIP) and Isha Yoga (SNY).\\nThese traditions can be placed along a continuum ranging\\nfrom ‘focused attention’ (FA) to ‘open monitoring’ (OM)meditation ( Lutz et al., 2008; Lippelt et al., 2014 ). HT uses\\na mantra to maintain attentional focus and can be classi-\\nﬁed as FA. SNY meditators practiced Shoonya medita-\\ntion, consisting of a process of conscious ‘non-doing’while remaining unresponsive to internal or external stim-\\nuli, which can be classiﬁed as OM. In between these two\\nextremes, VIP requires practitioners to sustain their focus(‘samatha’) in the process of mentally scanning bodily\\nsensations; however, a key component of this meditation\\nis the insight (or meta-awareness, ‘vipasyana’) of distract-ing elements, which must be identiﬁed and then released\\nto continue with the process of FA ( Lutz et al., 2007 ).The local entropy of band-speciﬁc oscillatory activity\\nat each scalp electrode was complemented with the\\nanalysis of two global metrics: the long-range coherenceof oscillations, and its ﬂuctuations over time (i.e.metastability). Both metrics are motivated by theoretical\\naccounts of consciousness and have been empirically\\nshown to depend on the level of awareness ( Carhart-\\nHarris et al., 2014; Schartner et al., 2015, 2017a,b ).\\nEXPERIMENTAL PROCEDURES\\nWe investigated a publicly available EEG dataset. Further\\ninformation on the experimental procedures can be found\\nin a previous publication ( Braboszcz et al., 2017 ). All\\ncodes used in this manuscript can be found in https://\\ngithub.com/enzotagliazucchi/meditation-entropy .\\nParticipants\\nThirty controls (CTR), 27 HT meditators, 20 VIP\\nmeditators and 27 SNY meditators were recruited based\\non age, gender and years of practice. The controlsubjects were chosen for inclusion in this study basedon age, gender, and the absence of meditation practice.\\nThe experiment was approved by the local ethics\\ncommittee and by the ethics committee of the UniversityCalifornia San Diego. The experiments were carried out\\nat the Meditation Research Institute (MRI) in Rishikesh,\\nIndia. Groups were matched by age and gender,resulting in 16 controls (45 /C610 years, ﬁve females), 16\\nHT meditators (43 /C612 years, 2 females), 16 SNY\\nmeditators (40 /C610 years, 2 females) and 16 VIP\\nmeditators (47 /C615 years, ﬁve females). A single group\\nof subjects acted as control for all three meditation\\ntraditions.\\nExperimental design\\nAll participants were instructed to keep their eyes open\\nand choose between sitting on a blanket on the ﬂoor or\\non a chair. The experiment was divided into twosessions lasting 20 min each, one labeled as\\n‘Meditation’ and the other as ‘Instructed Mind\\nWandering’. The order of the sessions wascounterbalanced between participants to prevent ordereﬀects. In the ‘Meditation’ condition, participants\\nprepared for their meditation practice (focusing on\\nbreath or on exhalation/inhalation) during 10 min andwere subsequently instructed to engage in meditation\\nduring the last 10 min. Controls performed the same\\ninstruction given to the meditators throughout the 20 minof the condition. In the ‘Instructed Mind Wandering’\\ncondition, participants were instructed to remember\\nautobiographical events from childhood up until therecent past. The present analysis is based oncomparing the second half of the ‘Meditation’ condition\\nbetween meditators and controls. As additional checks,\\nwe also compared the ‘Instructed Mind Wandering’condition of the controls vs. the ‘Meditation’ condition of\\nthe meditators, and the baseline condition (preparation\\nfor meditation) between both groups.R. M. Vivot et al. / Neuroscience 431 (2020) 40–51 41' metadata={'source': '/content/studies/vivot 2020.pdf', 'page': 1}\n",
            "page_content='EEG data acquisition\\nEEG data was recorded using a 64 + 8 channels Biosemi\\nActive-Two ampliﬁer system with a 10–20 Headcap\\nstandard 64-channel cap. Right and left mastoid\\nelectrodes as well as vertical and horizontalelectrooculogram (EOG) were recorded. Theexperimental room was soundproof and the ﬂoor was\\nelectrically shielded and grounded. All electrodes were\\nkept within 50 mV oﬀset of the Biosemi system metricfor measuring impedance.\\nEEG data processing\\nUsing EEGLAB (version 12) data were ﬁrst referenced to\\nthe right mastoid and down-sampled from 1024 Hz to\\n256 Hz. A high-pass ﬁlter with 1 Hz cutoﬀ (inﬁnite\\nresponse ﬁlter), a transition bandwidth of 0.3 Hz, and anorder of six was applied to the EEG time series.\\nEEGLAB automated artifact rejections routines were\\nalso applied. A manual procedure described with detailin a previous publication ( Braboszcz et al., 2017 ) was fol-\\nlowed to reject 8 s. epochs with very high/low frequency\\ncontent. Bad electrodes (0–18 bad electrodes per subject,average of ﬁve electrodes per subject) were identiﬁedvisually and removed from the analysis. The Infomax\\nindependent component analysis algorithm was applied\\nto reject artifacts related to eye movement and muscleactivity.\\nBandpass ﬁltering and the Hilbert transform\\nWe focused our analyses on the following canonical\\nfrequency bands: delta (1–4 Hz), theta (4–8 Hz), alpha\\n(8–12 Hz), beta (12–20 Hz), low gamma (20–60 Hz) and\\nhigh gamma (60–100 Hz). Our choice of computing theentropy of the envelope of band-speciﬁc oscillations is\\nbased on the following two considerations. First, narrow\\nfrequency bands have been linked to speciﬁc brainfunctions, cognitive domains and, in particular, to the\\nmeditative state ( Buzsaki, 2006; Braboszcz et al., 2017 ).\\nSecond, it is unclear how the spectral content of broadbandsignal ﬂuctuations biases entropy estimates or, equiva-lently, to which extent the entropy of broadband signals\\nprovides information complementary to spectral analysis.\\nFor each EEG channel, we applied a 4th order\\nButterworth bandpass ﬁlter to obtain the narrow band\\nsignals in the above-mentioned ranges. We then\\nobtained the analytical representation of the ﬁltered timeseries using the Hilbert transform. As illustrated in\\nFig. 1 A, given a real-valued signal xtðÞ, the Hilbert\\ntransform yields a complex representation (analyticsignal) given by ztðÞ¼ utðÞþ iv tðÞ¼ xtðÞþ iH x tðÞðÞ , with\\nHxtðÞðÞ indicating the Hilbert transform of the real-valued\\nsignal xtðÞ. From this representation, the instantaneous\\namplitude can be computed asﬃﬃﬃﬃﬃﬃﬃﬃﬃﬃﬃﬃﬃﬃﬃﬃﬃﬃﬃﬃﬃﬃﬃﬃﬃ\\nutðÞ\\n2þvtðÞ2q\\n, and the\\ninstantaneous phase as tan/C01vtðÞ\\nutðÞ/C16/C17\\n.\\nSample entropy (SE)\\nThe SE is an estimate of the complexity (or, equivalently,\\nof the regularity or predictability) of a time series that isbased on counting repetitions of patterns in the data\\n(Richman and Moorman, 2000 ). SE measures the proba-\\nbility of observing similar (within a certain tolerance bound[r]) patterns of a ﬁxed length in the time series, compared\\nto the result obtained from the same computation based\\non patterns of length increased by one sample. The length\\nof the patterns is determined by the embedding dimension(m). In contrast to recent publications, we chose SE\\ninstead of the Lempel-Ziv (LZ) complexity, since LZ esti-\\nmates information in the algorithmic sense (i.e. compress-ibility) and requires arbitrary binarization of the data\\n(Schartner et al., 2015 ), while SE can be applied to con-\\ntinuous signals and yields entropy estimates more directlyrelated to the statistical mechanical (Gibbs’) and informa-\\ntion theoretical (Shannon’s) deﬁnitions of entropy.\\nThe detailed procedure followed to compute SE is\\nexplained in the Appendix. The key computation is\\nSE¼log\\n#Smþ1rðÞ\\n#SmrðÞ/C16/C17\\n, where # Smand # Sm+1represent the\\nnumber of template vectors of embedding dimension m\\nand m+ 1, respectively, within tolerance r. Following\\nprevious publications (e.g. Al-Angari and Sahakian,\\n2007; Bruce et al., 2009; Song et al., 2012; Zhang and\\nZhou, 2012; Yentes et al., 2013 ), we set the value of\\nthe embedding dimension to m¼2. It is also customary\\nto express the tolerance r as proportional to the standard\\ndeviation (SD) of the time series; here we setr¼0:2/C2SD (see the Appendix for further details).\\nFinally, to reduce the impact of autocorrelations in the\\ndata, we considered\\ns¼32 ms.\\nMetastability and coherence\\nConsider Ncoupled oscillators (in this case, each of the 64\\nbandpass-ﬁltered EEG channels can be conceptualized as\\nan oscillator), each with its own characteristic oscillationfrequency\\nxi. The instantaneous amount of synchrony\\nbetween the ensemble of oscillators can be measured\\nwith the Kuramoto order parameter. The order parameterRtðÞranges between 0 and 1, indicating minimum and\\nmaximum synchrony, respectively ( Shanahan, 2010 ).\\nThe metastability (K) is computed as the temporal variance\\nofRtðÞ, and indicates the amplitude of the dynamical reper-\\ntoire of the oscillators (i.e. the occurrence of transient syn-\\nchronization and de-synchronization over time). The\\ncoherence C is computed as the mean of RtðÞ, and indi-\\ncates the average level of synchronization between all\\noscillators. The procedure followed to compute K and C\\nis outlined in Fig. 1 C, and explained with further detail in\\nthe Appendix.\\nRandom forest (RF) classiﬁers\\nTo evaluate whether changes in SE represent signatures\\nspeciﬁc to each of the meditative traditions, we used thisdata to train and evaluate a class of machine learningclassiﬁers known as RF ( Breiman, 2001 ). RF are built\\non the simpler decision tree classiﬁer, in which thresholds\\nare introduced for each feature so that the training set issplit in two at every node of the tree. The thresholds are\\nselected to maximize a measure of sample purity result-\\ning from the division; the highest possible purity value is42 R. M. Vivot et al. / Neuroscience 431 (2020) 40–51' metadata={'source': '/content/studies/vivot 2020.pdf', 'page': 2}\n",
            "page_content='obtained when all samples belonging to one class are\\nassigned to one side of the division, and vice versa. If this\\nis not the case, the next feature is evaluated and thethreshold is recursively determined until the highest purityvalue is obtained or all features are exhausted.\\nThe RF algorithm is based on training a relatively\\nlarge number of decision trees (in this case 1.000 trees)so that the impact of noise at a particular feature is\\nattenuated. Furthermore, to reduce the inﬂuence of\\nnoisy or unreliable features, each individual decisiontree is based on a random selection of features from the\\noriginal data. Here we follow the rule of thumb of\\nconsideringﬃﬃﬃppfeatures, where pis the original number\\nof features. For less than 100 features, this choiceapproximates very well the\\noriginal value of b1þlog\\n2ðpÞc\\nproposed by L. Breiman in hisoriginal publication of thealgorithm ( Breiman, 2001 ). Once\\ntrained, to predict the class for a\\nnew sample a probability is esti-mated by counting how many trees\\npredict each class, divided by the\\ntotal number of trees. The ﬁnalclass is decided by a majority vote.\\nThis procedure is illustrated in\\nFig. 1 D.\\nFor each frequency band we\\nconsidered 64 features\\ncorresponding to the SE entropyvalues at each EEG electrodelocation, and trained 200\\nindependent RF classiﬁers to\\ndistinguish CTR from HT, VIP andSNY ( Abraham et al., 2014 ). As a\\nmeasure of classiﬁer accuracy,\\nwe obtained the area under theROC curve (AUC). For each clas-\\nsiﬁer, we applied a stratiﬁed split\\ninto two equally sized sets (trainingand testing). We also applied thesame procedure after randomly\\nshuﬄing the labels of the samples\\nto evaluate the statistical signiﬁ-cance of the AUC. An empirical p-\\nvalue was constructed by counting\\nhow many times the AUC obtainedfrom data with shuﬄed labels\\nexceeded the AUC obtained from\\nthe unshuﬄed data.\\nFinally, we investigated the\\ngeneralization accuracy by\\ntraining the RF classiﬁers usingdata from one binary decisionproblem (e.g. CTR vs. VIP) and\\nthen evaluating the AUC obtained\\nfrom applying them to a diﬀerentbinary decision problem (e.g. CTR\\nvs. HT).\\nStatistical analysis\\nWe applied the Kruskal-Wallis\\n(KW) test, a non-parametric version of analysis ofvariance (ANOVA), to assess the eﬀects of the\\nexperimental group (CTR, HT, VIP and SNY) on SE\\n(averaged across all channels), C, and K. Whenever asigniﬁcant eﬀect of group was detected, we conducted\\npost-hoc non-parametric two-sample Wilcoxon signed-\\nrank tests between data from CTR and from eachmeditative tradition. Eﬀect sizes of the Wilcoxon tests\\nwere computed as r¼\\nZﬃﬃﬃﬃﬃﬃﬃﬃ ﬃn1þn2p , where n1=n2= 16 (the\\nsizes of the samples being compared) ( Rosenthal et al.,\\n1994 ). Eﬀect sizes of Kruskal-Wallis tests were measured\\nin terms of g2(Lakens, 2013 ). Multiple comparisons (e.g.\\nFig. 1. Overview of the methods. (A)Bandpass ﬁltering and the application of the Hilbert transform to\\nobtain the instantaneous amplitude and phase of the EEG signal. (B)Example of the SE algorithm\\nwith embedding dimension m= 2. Two template vectors of length m are shown, X2ði¼2Þand\\nX2ði¼6Þ, together with the associated template vectors of embedding dimension m+ 1. The sample\\nentropy is obtained by counting the number of pairs of template vectors (for mand m+ 1) whose\\ndistance is below the tolerance r, i.e. #SmrðÞand #Smþ1ðrÞ, and then applying Eq. (1).(C)Deﬁnition of\\nthe instantaneous synchronization RðtÞof a set of Noscillators with phases hiðtÞ. A representative time\\ncourse of RðtÞis shown, providing an example of the deﬁnition of the coherence C and the\\nmetastability K as the mean and variance of RðtÞ, respectively. (D) Diagram of the RF algorithm. For\\neach training sample, a random subset of features is selected and then a decision tree is trained using\\nthese features. The class of a new sample is predicted by evaluating the decision trees trained withthe chosen subset of features, and subsequently applying a voting or majority rule (in this example thevoting predicts class A).R. M. Vivot et al. / Neuroscience 431 (2020) 40–51 43' metadata={'source': '/content/studies/vivot 2020.pdf', 'page': 3}\n",
            "page_content='scalp distributions in Fig. 3 , or RF classiﬁer generalizabil-\\nity in Fig. 4 ) were controlled using Benjamini-Hochberg’s\\nmethod for false discovery rate (FDR) allowing a rate offalse positives of 0.05. Only the frequency bands surviv-\\ning multiple comparisons correction (FDR-correctedKruskal-Wallis tests) are shown in Figs. 2 and 5 , with\\nthe exception of the metastability (K) in the low gamma\\nband, which showed a trend towards signiﬁcance.\\nRESULTS\\nSE of narrow band signal envelopes\\nWe ﬁrst computed the SE of narrow band EEG signal\\nenvelopes for all subjects, electrodes and frequency\\nbands. For the ﬁrst analysis we used the second 10 min\\nof the ‘Meditation’ condition, which corresponded to theinstruction of focusing on breath (exhalation/inhalation)\\nfor the controls, and to engage in their practice for the\\nmeditators. We c of group on the average SE (H[3]= 8.86, p/C200.05, g\\n2= 0.42, FDR-corrected) for the\\nalpha (8–12 Hz), low gamma (20–60 Hz) (H[3] = 9.56,\\np/C200.05, g2= 0.44, FDR-corrected) and high gamma\\n(60–100 Hz) (H[3] = 8.5, p/C200.05, g2= 0.41, FDR-\\ncorrected) frequency bands. Post-hoc non-parametric\\nWilcoxon tests established that, at p/C200.05, FDR-\\ncorrected, only the comparison Vipassana > controls(VIP > CTR) was signiﬁcant ( Z= 2.65, r= 0.46,\\np/C200.005), except for the high gamma band, for which\\nwe observed that Himalaya Yoga > controls(HT > CTR) ( Z= 2.12, r= 0.38, p/C200.05) and\\nVIP > CTR ( Z= 2.28, r= 0.40, p/C200.05) were\\nsigniﬁcant. The average SE values are shown in Fig. 2 .\\nNext, we compared the ‘Instructed Mind Wandering’\\ncondition for the controls vs. the ‘Meditation’ condition\\nfor the meditators. We observed a signiﬁcant eﬀect ofgroup on the average SE (H[3] = 11.71, p/C200.05,\\ng\\n2= 0.49, FDR-corrected) for the alpha (8–12 Hz), the\\nlow gamma (20–60 Hz) (H[3] = 10.5, p/C200.05,\\ng2= 0.47, FDR-corrected) and high gamma (60–\\n100 Hz) (H[3] = 9.94, p/C200.05, g2= 0.45, FDR-\\ncorrected) frequency bands. Post-hoc non-parametric\\nWilcoxon tests established that, at p/C200.05 FDR-\\ncorrected, the comparison VIP > CTR was signiﬁcant\\nfor the alpha ( Z= 2.92, r= 0.51, p/C200.005), low\\ngamma ( Z= 2.77, r= 0.48, p/C200.01) and high gamma\\n(Z= 2.65, r= 0.46, p/C200.01) frequency bands.\\nWe did not observe a signiﬁcant eﬀect of group on SE\\nvalues for any frequency band when comparing the SEvalues obtained at the baseline condition (i.e.preparation for meditation).\\nThe topographic distribution of\\nelectrodes where SE increased inVIP vs. CTR is shown in Fig. 3 .\\nSigniﬁcant electrodes (Wilcoxon\\ntest, FDR-corrected, p/C200.05) are\\nrepresented in white. The color\\nscale indicates the eﬀect size in\\nterms of the area under thereceiving operator characteristiccurve (AUC). We found\\nwidespread SE increases in the\\nalpha band, predominantly frontalSE increases in the low gamma\\nband, and central and frontal SE\\nincreases in the high gamma band.\\nFig. 2. Eﬀect of meditation on the entropy of brain oscillations. The\\nmeditative state changes the entropy of brain oscillations in the alpha\\n(panel A) , low gamma (panel B) and high gamma (panel C) bands.\\nThe violin plots display the distribution of SE values (averaged for allelectrodes) across individual participants. Statistics are reported inthe Results section.\\nFig. 3. Localization of entropy changes. Topographic distribution of higher SE values in VIP relative to\\nCTR for the alpha (panel A) , low gamma (panel B) and high gamma (panel C) bands. Electrodes in\\nwhite represent signiﬁcantly higher SE ( p/C200.05, Wilcoxon test, FDR-corrected). The color scale\\nindicates the eﬀect size in terms of the area under the receiving operator characteristic curve (AUC).44 R. M. Vivot et al. / Neuroscience 431 (2020) 40–51' metadata={'source': '/content/studies/vivot 2020.pdf', 'page': 4}\n",
            "page_content='Multivariate classiﬁers applied to SE topographies\\nWe then investigated whether a multivariate analysis\\nbased on RF classiﬁers could distinguish the meditativestate from the control condition for all groups ofmeditators. RF classiﬁers were based on the combined\\nSE values from all 64 EEG channels at the frequency\\nbands for which we observed a signiﬁcant eﬀect ofgroup (alpha, low and high gamma). We also evaluatedwhether a classiﬁer trained to distinguish a certain\\nmeditative state (e.g. HT) from CTR could successfullygeneralize to the problem of distinguishing the\\nmeditative state of another group (e.g. VIP) from the\\nCTR. This analysis is relevant to identify potential ‘core’features that are common to diﬀerent meditation\\ntraditions.\\nThe results of this analysis are shown in Fig. 4 . In the\\nupper panel the rows correspond to the group used for\\ntraining the RF classiﬁers, and\\ncolumns correspond to the groupused to evaluate their\\nperformance. Diagonal entries\\ncorrespond to training andevaluating RF classiﬁers using thesame group (i.e. half of the data\\nused for training and half for\\nevaluation). Within each entry, theblue/red violin plots represent the\\nresults obtained using unshuﬄed/\\nshuﬄed class labels. Shadedentries indicate that the\\ncorresponding AUC was greater\\nthan chance ( p< 0.05, FDR-\\ncorrected). The lower panel inFig. 4 shows all training/\\nevaluation pairs yielding AUC\\nsigniﬁcantly greater than chance.\\nFig. 4. Generalization of entropy changes between meditation traditions. Multivariate analysis based on training and testing RF classiﬁers using the\\nSE values from the 64 EEG channels in the alpha (panel A) , low gamma (panel B) and high gamma (panel C) bands. Upper panel: RF classiﬁers\\nwere trained to distinguish the meditation tradition (row) from the CTR group. Afterwards, they were evaluated in the problem of distinguishing the\\nmeditation tradition in the columns from CTR. Entries in the diagonal correspond to training and evaluating the classiﬁers using a train/test split o f\\nthe same dataset. The entries show the distribution (violin plots) of AUC values obtained from unshuﬄed (blue) shuﬄed (red) data. Opaque entriesindicate that the empirical p-value (obtained from comparing both AUC distributions) is /C200.05 (FDR-corrected). Bottom panel: each node represents\\na meditation tradition and arrows indicate that the RF classiﬁer trained to distinguish the tradition at the source node from CTR successfullydistinguished the tradition at the target node from CTR. E.g. the arrows from VIP to the other nodes indicate that RF classiﬁers trained to distinguishVIP from CTR successfully generalized to the other two meditation traditions. (For interpretation of the references to colour in this ﬁgure legend, t he\\nreader is referred to the web version of this article.)\\nFig. 5. Eﬀect of meditation on the dynamics of the Kuramoto order parameter. The meditative state\\nchanges the coherence (C) and metastability (K) of low gamma (panel A) and high gamma (panel B)\\nband oscillations. The violin plots display K and C distributions across individual participants. Statistics\\nare reported in the Results section.R. M. Vivot et al. / Neuroscience 431 (2020) 40–51 45' metadata={'source': '/content/studies/vivot 2020.pdf', 'page': 5}\n",
            "page_content='In all cases, it was possible to distinguish with high\\naccuracy the VIP from CTR groups. This was not the\\ncase for other meditative traditions, except for HT in thelow gamma band; however, we note that the RFclassiﬁers trained to distinguish VIP from CTR\\nsuccessfully generalized to the other two meditation\\ntraditions for all three frequency bands. These resultsare consistent with those presented in Figs. 2 and 3 ,\\nand suggest that, even though increased SE is\\ncharacteristic of VIP, the topographic distribution of SEcan be informative of features that are common to other\\nmeditative traditions.\\nCoherence and metastability\\nFinally, we investigated the coherence C across all EEG\\nelectrodes, computed as the temporal average of the\\nsynchrony RtðÞ. We also obtained the metastability K\\nfrom the variance of RtðÞ. The upper/lower panels of\\nFig. 5 show K/C, respectively, for all the experimental\\ngroups. We assessed the eﬀect of the group on K in the\\nlow (H[3] = 5.97, p/C200.1, g\\n2= 0.33) and high gamma\\nbands (H[3] = 9.95, p/C200.05, g2= 0.45), as well as the\\neﬀect of the group on C in the low (H[3] = 12.03,\\np/C200.01, g2= 0.50) and high gamma bands (H[3]\\n= 11.2, p/C200.01, g2= 0.48).\\nPost-hoc non-parametric Wilcoxon tests revealed that\\nin the low gamma band K decreased during meditation for\\nthe comparisons HT < CTR ( Z= 2.24, p/C200.01,\\nr= 0.39) and Isha Yoga > controls (SNY < CTR)\\n(Z= 1.16, p/C200.05, r= 0.29); in the high gamma band\\nfor comparisons HT < CTR ( Z= 2.27, p/C200.005,\\nr= 0.39), VIP < CTR ( Z= 2.35, p/C200.01, r= 0.41)\\nand SNY < CTR ( Z= 2.31, p/C200.01, r= 0.40).\\nConversely, in the low gamma band C increased forHT > CTR ( Z= 3.10, p/C200.001, r= 0.54), VIP > CTR\\n(Z= 1.90, p/C200.05, r= 0.33), SNT > CTR ( Z= 3.03,\\np/C200.001, r= 0.53); and in the high gamma band C\\nincreased for HT > CTR ( Z= 2.80, p/C200.005,\\nr= 0.49), VIP > CTR ( Z= 2.35, p/C200.01, r= 0.41),\\nSNY > CTR ( Z= 2.88, p/C200.005, r= 0.51).\\nDISCUSSION\\nPrevious studies reported changes in local oscillatory\\npower and long-range coherence in diﬀerent meditativepractices that were neuroanatomically consistent with\\nthe reported subjective experience, e.g. increased\\noccipital gamma has been consistently linked tochanges in visual imagery ( Lutz et al., 2004, 2007;\\nBraboszcz et al., 2017; van Lutterveld et al., 2017;\\nKakumanu et al., 2018; Luft et al., 2019 ). The heterogene-\\nity found in these reports highlights the ambiguous nature\\nof the term ‘meditation’ ( Brandmeyer et al., 2019;\\nSchoenberg and Vago, 2019 ). Our analyses extended\\nprevious ﬁndings by showing how meditation canincrease signal complexity in the alpha and gamma\\nbands, as indexed by SE. In particular, SE changes in\\nVIP appeared as stereotypical, in the sense that theyallowed machine learning classiﬁers to correctly general-\\nize to the problem of detecting other meditative states\\nfrom EEG signal entropy. Increased alpha and gammapower envelope entropy was observed for Vipassana\\nmeditation vs. controls, both when comparing meditation\\nvs. focus on breathing and instructed mind wandering inthe group of matched controls. However, we did notobserve diﬀerences when comparing the ‘focus on\\nbreathing’ condition between meditators and controls,\\nsuggesting that our results are an active manifestationof engagement in meditation and do not reﬂect a trait\\neﬀect.\\nThe analyses conducted in the present work have\\nrelatively few antecedents. A previous study reported\\ndecreased permutation entropy (a method closely\\nrelated to SE) during the practice of insight meditation(Vipassana) ( Venugopala et al., 2017 ), which was also\\nassociated with increased levels of synchronization\\nbetween the signals registered at the EEG electrodes.Increased gamma synchronization during the meditativestate is consistent with our ﬁndings ( Lutz et al., 2004 ).\\nHowever, we found the opposite result for entropy (i.e.\\nincreased) when compared to the result reported byVenugopala and colleagues (i.e. decreased). We note\\nthat this discrepancy could be attributed to the fact that\\nwe did not investigate the entropy of the broadbandEEG signal, but of the envelopes of narrow band oscilla-\\ntions. As mentioned earlier, in contrast to previous stud-\\nies, our method allows to disentangle changes in theentropy of the envelope (possibly related to the size of cellassemblies whose activity oscillates at the carrier fre-\\nquency) from the spectral content of the broadband sig-\\nnal, which contains unspeciﬁc contributions of cellassemblies oscillating at very diﬀerent frequencies (i.e.\\n1/f spectrum).\\nThe frequency bands where we found the most salient\\nincreases in entropy during meditation are consistent with\\nthe previous report by Braboszcz and colleagues\\ncomparing EEG spectral power between meditators andcontrols ( Braboszcz et al., 2017 ) using the same dataset\\nwe analyzed. They reported increased occipital (Oz) EEG\\npower for all meditation traditions vs. controls in the alpha(7–11 Hz) and gamma (60–110 Hz) ranges; see Fig. 3 inBraboszcz et al. (2017) . Gamma band increases were\\nlocated in occipito-parietal scalp positions, while alpha\\nband increases were seen across all electrodes; seeFigs. 4 and 6 in Braboszcz et al. (2017) , respectively.\\nThese results are consistent with the topographic localiza-\\ntion of increased alpha and gamma oscillation envelopeentropies shown in Fig. 3 .\\nOur results are also consistent with the observation of\\nincreased long-range coherence in the gamma(25–56 Hz) band during the meditative state of Buddhistpractitioners of the Nyingmapa and Kagyupa traditions.\\n2\\nVipassana meditation was reported to increase localgamma (35–45 Hz) power in parieto-occipital scalpregions ( Cahn et al., 2010 ), overlapping with those reported\\ninFig. 3 . Gamma band oscillations are implicated in several\\nhigh-order cognitive processes such as attention, working\\n2These traditions differ from Vipassana in their instructions and\\nobjectives, and are described as ‘loving-kindness’ and ‘compassion’meditation, with the objective of achieving a state of ‘unconditional\\nloving-kindness and compassion, resulting in unrestricted readiness\\nand availability to help living beings’.46 R. M. Vivot et al. / Neuroscience 431 (2020) 40–51' metadata={'source': '/content/studies/vivot 2020.pdf', 'page': 6}\n",
            "page_content='memory, learning, and consciousness ( Fries et al., 2007;\\nFries, 2009 ). They have also been postulated as a plausi-\\nble neurobiological mechanism to solve the ‘binding prob-lem’ (i.e. the integration of information between spatiallydistributed cortical regions) ( Nikolic ´et al., 2013 ). In contrast\\nwith our results, Lutz et al. discuss a number of reports\\nimplicating slow oscillations with the meditative state(Lutz et al., 2007 ). However, and as also noted by the\\nauthors, these results could be biased by two fundamental\\nfactors: (1) fast oscillations were not investigated and (2)the studies were based on FA meditation, which could\\nengage top-down control mechanisms related to the onset\\nof slower brain oscillations.\\nBecause the neurophysiological correlates of\\nmeditation have been historically confounded by several\\nfactors, the comparison of our results with the previousliterature is diﬃcult, especially so given that there arevirtually no antecedents of articles investigating the\\nentropy of band-speciﬁc oscillations. A major source of\\nconfusion is the nature of the meditative traditions thatare investigated. Our unidimensional classiﬁcation of\\nmeditation traditions from FA to OA is only one among\\nother characterizations. As stated by Lutz et al. (2004) ,\\nthe EEG gamma band has not been measured in most\\nelectrophysiological studies of the meditative state. This\\nis supported by a recent review and meta-analysis articlebyThomas and Cohen (2014 ) (see Tables 2, 3, and 4 for\\nFA, OA and transcendental meditation, respectively). It is\\napparent that FA studies generally reveal increases in the\\ntheta and alpha bands, while the results are less homoge-neous for OM meditation.\\nBeyond the similarities in their phenomenology, both\\npsychedelics and the meditative state have beeninvestigated using fMRI to reveal decreased activity in\\nthe posterior cingulate cortex (PCC), a posterior ‘hub’ of\\nthe default mode network (DMN) ( Carhart-Harris et al.,\\n2012; Berkovich-Ohana et al., 2016; Smigielski et al.,\\n2019 ). Such inactivation has been compared to the disen-\\ngagement of a ‘reducing valve’, leading to less constraintson the potential repertoire of brain activity conﬁgurations(Carhart-Harris et al., 2012; Carhart-Harris et al., 2014 ).\\nWe measured the entropy of narrow band EEG power\\nﬂuctuations as a quantitative metric of such dysregulation.However, we note that entropy should not be used as an\\nabsolute proxy for the level of consciousness, since a\\nvery high level of entropy implies that the constituents ofthe system (e.g. neurons) behave independently in the\\nstatistical sense, preventing information integration. Giulio\\nTononi postulated that measuring the balance betweenthe enhanced repertoire of states and the level of informa-tion integration could result in a more adequate metric for\\nconsciousness than entropy alone ( Oizumi et al., 2014 ).\\nThe proposed metric ( h) is diﬃcult to compute, but can\\nbe approximated empirically by measuring EEG after a\\ntranscranial magnetic stimulation (TMS) pulse, a tech-\\nnique that could be used in future studies to investigatethe meditative state ( Casali et al., 2013 ).\\nBoth long-term meditation ( Sahdra et al., 2011;\\nStrauss et al., 2014; Haukaas et al., 2018; Pokorski andSuchorzynska, 2018 ) and the acute eﬀects of serotoner-\\ngic psychedelics ( Griﬃths et al., 2016; Carhart-Harriset al., 2017; Carhart-Harris et al., 2018; Dos Santos\\net al., 2018; Garcia-Romeu and Richards, 2018;\\nPalhano-Fontes et al., 2018 ) have been reported to\\nenhance mood and well-being. Increased brain entropyhas been reported during the acute eﬀects of psychede-\\nlics, and was shown to predict changes in personality\\ntraits ( Lebedev et al., 2016 ). Recently, Carhart-Harris\\nand Nutt suggested that 5-HT\\n2Asignaling mediates ‘active\\ncoping’, a process characterized by enhanced plasticity\\n(Carhart-Harris and Nutt, 2017 ). According to this pro-\\nposal, 5-HT 2Aagonism increases the excitability of the\\nbrain or, ﬁguratively, its ‘temperature’, drawing an analogy\\nwith a metal heated and subsequently cooled in order toincrease its malleability (a process known as ‘annealing’).\\nThus, the potential long-term beneﬁts of 5-HT\\n2Aagonism\\ncould relate to the increased ﬂexibility induced by a tran-sient state of higher entropy, potentiating brain plasticity(Carhart-Harris et al., 2014; Carhart-Harris and Nutt,\\n2017 ). The process of Vipassana meditation, which\\nresulted in most of the EEG entropy increases observedin our study, can be compared to the process proposed\\nby Carhart-Harris and Nutt. FA alone can lead to a state\\nof ‘dullness’; therefore, the excitation brought upon by dis-traction and the meta-awareness of such distraction is\\nneeded in equal measure. In other words, a balance\\nbetween excitation and FA is required. Vipassana medita-tion can be conceptualized as a process of continuouslyincreasing brain excitability and then reducing it after the\\ndistractor is examined and excluded from consciousness\\nby the meditator. Future studies of gene expression (epi-genetics) and positron emission tomography (PET) in\\nexpert Vipassana meditators should be conducted to\\nidentify whether this ‘annealing’ process is only usefulas an analogy, or is indeed mediated by increased\\nexpression of the genes that encode 5-HT\\n2Areceptors,\\nas well as by higher levels of 5-HT 2Areceptor density.\\nAdvances in the development of 5-HT 2Aagonist PET radi-\\noligands, such as Cimbi-36 ( Ettrup et al., 2016 ), represent\\na promising avenue of research to evaluate thishypothesis.\\nWe note that while increased entropy has been\\nreported for the acute eﬀects of diﬀerent compounds\\n(e.g. 5-HT\\n2A agonists and NMDA antagonists)\\n(Schartner et al., 2017a ), our results provide evidence\\nof ‘endogenous’ increases, i.e. increased EEG entropy\\nthat is not mediated by pharmacological agents but bythe mental processes executed by long-term meditators.\\nFurthermore, our analyses identiﬁed the spectral bands\\nthat become more disorganized, matching those predom-inantly aﬀected by 5-HT\\n2Aagonists (alpha rhythm)\\n(Muthukumaraswamy et al., 2013; Carhart-Harris et al.,\\n2016 ) and by meditation in expert practitioners (gamma\\nrhythm) ( Lutz et al., 2004 ). While most of the studies to\\ndate investigated the entropic brain hypothesis from the\\nperspective of broadband oscillations, our work puts for-\\nward novel results that should lead to a re-examinationof brain states of higher entropy in terms of the aﬀected\\nfrequency bands.\\nThe observed changes in coherence and metastability\\nsuggest that the repertoire of cells recruited for band-\\nspeciﬁc oscillations was locally increased duringR. M. Vivot et al. / Neuroscience 431 (2020) 40–51 47' metadata={'source': '/content/studies/vivot 2020.pdf', 'page': 7}\n",
            "page_content='meditation while, at a more global scale, increased\\ngamma band binding reduced such repertoire. This\\nconﬂict between local and global changes in thepotential repertoire of brain states is consistent withﬁndings obtained under the acute eﬀects of LSD,\\nsuggesting increased global functional integration at the\\nexpense of locally segregated activity ( Tagliazucchi\\net al., 2016 ). Further electrophysiological studies using\\n5-HT\\n2Aagonists and NMDA antagonists could be con-\\nducted to allow a direct comparison of local entropy andglobal metastability/coherence with those quantiﬁed dur-\\ning the meditative state.\\nOur study represents a step towards establishing an\\nintuitive relationship between the enhancement of\\nphenomenological space and increases in the entropy of\\nbrain activity, as proposed by Carhart-Harris et al.\\n(2014 ). However, our study also presents limitations\\nintrinsic to the use of EEG to infer the location of changes\\nin entropy, since EEG electrode signals reaching the\\nscalp from diﬀerent cortical sources are ‘mixed’ due to vol-ume conduction eﬀects. Furthermore, while a psychome-\\ntric assessment of the participants was available, it was\\nnot suitable for the comparison of phenomenological fea-tures with those of the psychedelic state. For this pur-\\npose, other questionnaires -such as the Altered States\\nof Consciousness (ASC) questionnaire ( Dittrich, 1998 )-\\nshould be employed. Due to this limitation, we can onlyprovide indirect evidence of increased entropy as a mech-\\nanism underlying the phenomenological similarity\\nbetween the meditative and the psychedelic states.\\nIn summary, Vipassana meditation, a practice that can\\nbe classiﬁed as midway between OA and FA, resulted in\\nincreased entropy of the envelope of brain oscillations inthe alpha and low/high gamma bands. This suggested\\nthat the increased repertoire of local neural\\nconﬁgurations was mediated by higher levels of localsegregation alongside increased global coherence in the\\nlow/high gamma bands. Our study provides an example\\nof a non-pharmacologically-induced brain state of highentropy. Future research should address whether these‘endogenous’ increases in EEG entropy are related to\\nchanges in the expression of 5-HT\\n2Areceptors in expert\\nmeditators, and study the relationship between entropy,ﬂexibility, and the long-term positive eﬀects that certain\\nmeditative traditions can have on physical and mental\\nhealth.\\nACKNOWLEDGMENTS\\nWe thank Braboszcz and colleagues for sharing the EEG\\ndata together alongside their publication. We\\nacknowledge insightful discussions with the members ofthe Psychedelic mailing list (Imperial College London).\\nRMV and CT were supported by a CONICET\\npostdoctoral fellowship. FZ was supported by aCONICET doctoral fellowship.\\nREFERENCES\\nAbraham A, Pedregosa F, Eickenberg M, Gervais P, Mueller A,\\nKossaiﬁ J, Gramfort A, Thirion B, Varoquaux G (2014) Machinelearning for neuroimaging with scikit-learn. Front Neuroinform8:14\\n.\\nAl-Angari HM, Sahakian AV (2007) Use of sample entropy approach\\nto study heart rate variability in obstructive sleep apneasyndrome. IEEE Trans Biomed Eng 54(10):1900–1904\\n.\\nBarrett FS, Griﬃths RR (2018) Classic hallucinogens and mystical\\nexperiences: phenomenology and neural correlates. Curr Top\\nBehav Neurosci 36:393–430 .\\nBen-Naim A (2012) Entropy and the second law: interpretation and\\nmissinterpretations. New Jersey: World Scientiﬁc .\\nBerkovich-Ohana A, Harel M, Hahamy A, Arieli A, Malach R (2016)\\nData for default network reduced functional connectivity inmeditators, negatively correlated with meditation expertise. DataBrief 8:910–914\\n.\\nBraboszcz C, Cahn BR, Levy J, Fernandez M, Delorme A (2017)\\nIncreased gamma brainwave amplitude compared to control inthree diﬀerent meditation traditions. PLoS One 12(1) e0170647\\n.\\nBrandmeyer T, Delorme A, Wahbeh H (2019) The neuroscience of\\nmeditation: classiﬁcation, phenomenology, correlates, andmechanisms. Prog Brain Res 244:1–29\\n.\\nBreiman L (2001) Random forests. Machine Learn 45(1):5–32 .\\nBruce EN, Bruce MC, Vennelaganti S (2009) Sample entropy tracks\\nchanges in EEG power spectrum with sleep state and aging. JClin Neurophysiol 26(4):257\\n.\\nBuzsaki G (2006) Rhythms of the brain. Oxford University Press .\\nCahn BR, Delorme A, Polich J (2010) Occipital gamma activation\\nduring Vipassana meditation. Cogn Process 11(1):39–56 .\\nCarhart-Harris RL (2018) The entropic brain - revisited.\\nNeuropharmacology 142:167–178 .\\nCarhart-Harris R, Nutt D (2014) Was it a vision or a waking dream?\\nFrontiers in psychology 5:255 .\\nCarhart-Harris RL, Erritzoe D, Williams T, Stone JM, Reed LJ,\\nColasanti A, Tyacke RJ, Leech R, Malizia AL, Murphy K, HobdenP, Evans J, Feilding A, Wise RG, Nutt DJ (2012) Neural correlatesof the psychedelic state as determined by fMRI studies withpsilocybin. Proc Natl Acad Sci USA 109(6):2138–2143\\n.\\nCarhart-Harris RL, Nutt DJ (2017) Serotonin and brain function: a tale\\nof two receptors. J Psychopharmacol 31(9):1091–1120 .\\nCarhart-Harris RL, Leech R, Hellyer PJ, Shanahan M, Feilding A,\\nTagliazucchi E, Chialvo DR, Nutt D (2014) The entropic brain: atheory of conscious states informed by neuroimaging researchwith psychedelic drugs. Front Hum Neurosci 8:20\\n.\\nCarhart-Harris RL, Muthukumaraswamy S, Roseman L, Kaelen M,\\nDroog W, Murphy K ...Leech R (2016) Neural correlates of the LSD\\nexperience revealed by multimodal neuroimaging. Proceedings of\\nthe National Academy of Sciences 113(17):4853–4858 .\\nCarhart-Harris RL, Roseman L, Bolstridge M, Demetriou L,\\nPannekoek JN, Wall MB, Tanner M, Kaelen M, McGonigle J,Murphy K, Leech R, Curran HV, Nutt DJ (2017) Psilocybin fortreatment-resistant depression: fMRI-measured brainmechanisms. Sci Rep 7(1):13187\\n.\\nCarhart-Harris RL, Bolstridge M, Day CMJ, Rucker J, Watts R,\\nErritzoe DE, Kaelen M, Giribaldi B, Bloomﬁeld M, Pilling S,Rickard JA, Forbes B, Feilding A, Taylor D, Curran HV, Nutt DJ(2018) Psilocybin with psychological support for treatment-resistant depression: six-month follow-up. Psychopharmacology(Berl) 235(2):399–408\\n.\\nCasali AG, Gosseries O, Rosanova M, Boly M, Sarasso S, Casali KR,\\nCasarotto S, Bruno MA, Laureys S, Tononi G, Massimini M (2013)A theoretically based index of consciousness independent ofsensory processing and behavior. Sci Transl Med 5(198):198ra105\\n.\\nCavanna F, Vilas MG, Palmucci M, Tagliazucchi E (2017) Dynamic\\nfunctional connectivity and brain metastability during alteredstates of consciousness. Neuroimage\\n.\\nChang D, Song D, Zhang J, Shang Y, Ge Q, Wang Z (2018) Caﬀeine\\ncaused a widespread increase of resting brain entropy. Sci Rep 8(1):2700\\n.\\nDittrich A (1998) The standardized psychometric assessment of\\naltered states of consciousness (ASCs) in humans.Pharmacopsychiatry 31(S 2):80–84\\n.48 R. M. Vivot et al. / Neuroscience 431 (2020) 40–51' metadata={'source': '/content/studies/vivot 2020.pdf', 'page': 8}\n",
            "page_content='Dos Santos RG, Bouso JC, Alca ´zar-Co ´rcoles M, Hallak JEC (2018)\\nEﬃcacy, tolerability, and safety of serotonergic psychedelics forthe management of mood, anxiety, and substance-use disorders:a systematic review of systematic reviews. Expert Rev ClinPharmacol 11(9):889–902\\n.\\nEttrup A, Svarer C, McMahon B, da Cunha-Bang S, Lehel S, Møller\\nK, et al. (2016) Serotonin 2A receptor agonist binding in the\\nhuman brain with [11C] Cimbi-36: test–retest reproducibility and\\nhead-to-head comparison with the antagonist [18F] altanserin.Neuroimage 130:167–174\\n.\\nFries P (2009) Neuronal gamma-band synchronization as a\\nfundamental process in cortical computation. Annu RevNeurosci 32:209–224\\n.\\nFries P, Nikolic ´D, Singer W (2007) The gamma cycle. Trends\\nNeurosci 30(7):309–316 .\\nGarcia-Romeu A, Richards WA (2018) Current perspectives on\\npsychedelic therapy: use of serotonergic hallucinogens in clinicalinterventions. Int Rev Psychiatry:1–26\\n.\\nGriﬃths RR, Johnson MW, Carducci MA, Umbricht A, Richards WA,\\nRichards BD, Cosimano MP, Klinedinst MA (2016) Psilocybinproduces substantial and sustained decreases in depression andanxiety in patients with life-threatening cancer: a randomizeddouble-blind trial. J Psychopharmacol 30(12):1181–1197\\n.\\nHaukaas RB, Gjerde IB, Varting G, Hallan HE, Solem S (2018) A\\nrandomized controlled trial comparing the attention training\\ntechnique and mindful self-compassion for students with\\nsymptoms of depression and anxiety. Front Psychol 9:827 .\\nHudetz AG, Liu X, Pillay S, Boly M, Tononi G (2016) Propofol\\nanesthesia reduces Lempel-Ziv complexity of spontaneous brainactivity in rats. Neurosci Lett 628:132–135\\n.\\nKaﬀashi F, Foglyano R, Wilson CG, Loparo KA (2008) The eﬀect of\\ntime delay on approximate & sample entropy calculations.Physica D 237(23):3069–3074\\n.\\nKakumanu RJ, Nair AK, Venugopal R, Sasidharan A, Ghosh PK,\\nJohn JP, Mehrotra S, Panth R, Kutty BM (2018) Dissociatingmeditation proﬁciency and experience dependent EEG changesduring traditional Vipassana meditation practice. Biol Psychol135:65–75\\n.\\nKoch C, Massimini M, Boly M, Tononi G (2016) Neural correlates of\\nconsciousness: progress and problems. Nat Rev Neurosci 17(5):307\\n.\\nLakens D (2013) Calculating and reporting eﬀect sizes to facilitate\\ncumulative science: a practical primer for t-tests and ANOVAs.Front Psychol 4:863\\n.\\nLebedev AV, Kaelen M, Lo ¨vde´n M, Nilsson J, Feilding A, Nutt DJ,\\nCarhart-Harris RL (2016) LSD-induced entropic brain activitypredicts subsequent personality change. Hum Brain Mapp 37(9):3203–3213\\n.\\nLippelt DP, Hommel B, Colzato LS (2014) Focused attention, open\\nmonitoring and loving kindness meditation: eﬀects on attention,conﬂict monitoring, and creativity – A review. Front Psychol5:1083\\n.\\nLiu X, Lauer KK, Ward BD, Roberts CJ, Liu S, Gollapudy S, Rohloﬀ R,\\nGross W, Xu Z, Chen S, Wang L, Yang Z, Li SJ, Binder JR,Hudetz AG (2018) Regional entropy of functional imaging signalsvaries diﬀerently in sensory and cognitive systems duringpropofol-modulated loss and return of behavioralresponsiveness. Brain Imaging Behav\\n.\\nLuft CDB, Zioga I, Banissy MJ, Bhattacharya J (2019) Spontaneous\\nvisual imagery during meditation for creating visual art: an EEGand brain stimulation case study. Front Psychol 10\\n.\\nLutz A, Dunne JD, Davidson RJ (2007) Meditation and the\\nneuroscience of consciousness. In: Cambridge Handbook of\\nConsciousness. p. 499–555 .\\nLutz A, Greischar LL, Rawlings NB, Ricard M, Davidson RJ (2004)\\nLong-term meditators self-induce high-amplitude gammasynchrony during mental practice. Proc Natl Acad Sci USA 101(46):16369–16373\\n.\\nLutz A, Slagter HA, Dunne JD, Davidson RJ (2008) Attention\\nregulation and monitoring in meditation. Trends Cogn Sci 12(4):163–169\\n.Milliere R (2017) Looking for the self: phenomenology,\\nneurophysiology and philosophical signiﬁcance of drug-inducedego dissolution. Front. hum. neurosci. 11:245\\n.\\nMuthukumaraswamy SD, Carhart-Harris RL, Moran RJ, Brookes MJ,\\nWilliams TM, Errtizoe D, et al. (2013) Broadband corticaldesynchronization underlies the human psychedelic state. JNeurosci 33(38):15171–15183\\n.\\nNichols DE (2016) Psychedelics. Pharmacological reviews 68\\n(2):264–355 .\\nNikolic ´D, Fries P, Singer W (2013) Gamma oscillations: precise\\ntemporal coordination without a metronome. Trends Cogn Sci 17(2):54–55\\n.\\nNour MM, Carhart-Harris RL (2017) Psychedelics and the science of\\nself-experience. The British Journal of Psychiatry 210(3):177–179\\n.\\nOizumi M, Albantakis L, Tononi G (2014) From the phenomenology to\\nthe mechanisms of consciousness: Integrated Information Theory3.0. PLoS Comput Biol 10(5) e1003588\\n.\\nPalhano-Fontes F, Barreto D, Onias H, Andrade KC, Novaes MM,\\nPessoa JA, Mota-Rolim SA, Oso ´rio FL, Sanches R, Dos Santos\\nRG, To ´foli LF, de Oliveira Silveira G, Yonamine M, Riba J, Santos\\nFR, Silva-Junior AA, Alchieri JC, Galva ˜o-Coelho NL, Loba ˜o-\\nSoares B, Hallak JEC, Arcoverde E, Maia-de-Oliveira JP, Arau ´jo\\nDB (2018) Rapid antidepressant eﬀects of the psychedelicayahuasca in treatment-resistant depression: a randomized\\nplacebo-controlled trial. Psychol Med Arau ´jo:1–9\\n.\\nPincus SM, Goldberger AL (1994) Physiological time-series analysis:\\nwhat does regularity quantify? Am J Physiol Heart Circ Physiol266(4):H1643–H1656\\n.\\nPokorski M, Suchorzynska A (2018) Psychobehavioral eﬀects of\\nmeditation. Adv Exp Med Biol 1023:85–91 .\\nRichman JS, Moorman JR (2000) Physiological time-series analysis\\nusing approximate entropy and sample entropy. Am J PhysiolHeart Circ Physiol 278(6):H2039–2049\\n.\\nRosenthal R, Cooper H, Hedges L (1994) Parametric measures of\\neﬀect size. Handbook Res Synth 621:231–244 .\\nSahdra BK, MacLean KA, Ferrer E, Shaver PR, Rosenberg EL,\\nJacobs TL, Zanesco AP, King BG, Aichele SR, Bridwell DA,Mangun GR, Lavy S, Wallace BA, Saron CD (2011) Enhancedresponse inhibition during intensive meditation training predictsimprovements in self-reported adaptive socioemotionalfunctioning. Emotion 11(2):299–312\\n.\\nSchartner MM, Pigorini A, Gibbs SA, Arnulfo G, Sarasso S, Barnett L,\\nNobili L, Massimini M, Seth AK, Barrett AB (2017b) Global and\\nlocal complexity of intracranial EEG decreases during NREM\\nsleep. Neurosci Conscious 2017(1):niw022 .\\nSchartner MM, Carhart-Harris RL, Barrett AB, Seth AK,\\nMuthukumaraswamy SD (2017a) Increased spontaneous MEGsignal diversity for psychoactive doses of ketamine, LSD andpsilocybin. Sci Rep 7:46421\\n.\\nSchartner M, Seth A, Noirhomme Q, Boly M, Bruno MA, Laureys S,\\nBarrett A (2015) Complexity of multi-dimensional spontaneousEEG decreases during propofol induced general anaesthesia.PLoS One 10(8) e0133532\\n.\\nSchoenberg P, Vago DR (2019) Mapping meditative states and\\nstages with electrophysiology: concepts, classiﬁcations, andmethods. Curr Opin Psychol 28:211–217\\n.\\nShanahan M (2010) Metastable chimera states in community-\\nstructured oscillator networks. Chaos 20(1) 013108 .\\nSmigielski L, Scheidegger M, Kometer M, Vollenweider FX (2019)\\nPsilocybin-assisted mindfulness training modulates self-consciousness and brain default mode network connectivity with\\nlasting eﬀects. Neuroimage 196:207–215\\n.\\nSong Y, Crowcroft J, Zhang J (2012) Automatic epileptic seizure\\ndetection in EEGs based on optimized sample entropy andextreme learning machine. J Neurosci Methods 210(2):132–146\\n.\\nStrauss C, Cavanagh K, Oliver A, Pettman D (2014)\\nMindfulness-based interventions for people diagnosed with acurrent episode of an anxiety or depressive disorder: a meta-analysis of randomised controlled trials. PLoS One 9(4)\\ne96110 .R. M. Vivot et al. / Neuroscience 431 (2020) 40–51 49' metadata={'source': '/content/studies/vivot 2020.pdf', 'page': 9}\n",
            "page_content='Tagliazucchi E, Carhart-Harris R, Leech R, Nutt D, Chialvo DR (2014)\\nEnhanced repertoire of brain dynamical states during thepsychedelic experience. Hum Brain Mapp 35(11):5442–5456\\n.\\nTagliazucchi E, Roseman L, Kaelen M, Orban C,\\nMuthukumaraswamy SD, Murphy K, Laufs H, Leech R,McGonigle J, Crossley N, Bullmore E, Williams T, Bolstridge M,Feilding A, Nutt DJ, Carhart-Harris R (2016) Increased global\\nfunctional connectivity correlates with LSD-induced ego\\ndissolution. Curr Biol 26(8):1043–1050\\n.\\nTakens F (1981) Detecting strange attractors in turbulence.\\nIn Dynamical systems and turbulence, Warwick 1980 (pp. 366–381). Springer, Berlin, Heidelberg.\\nTravis F (2014) Transcendental experiences during meditation\\npractice. Annals of the New York Academy of Sciences 1307(1):1–8. 4ISO 690\\n.\\nThomas JW, Cohen M (2014) A methodological review of meditation\\nresearch. Front Psychiatry 5:74 .\\nvan Lutterveld R, van Dellen E, Pal P, Yang H, Stam CJ, Brewer J\\n(2017) Meditation is associated with increased brain networkintegration. Neuroimage 158:18–25\\n.\\nVenugopala RJ, Sasidharana A, Naira AK, Kutty BM, Ghosh PK\\n(2017) Permutation Entropy as a Complexity Measure of EEGTime Series in Vipassana meditators. 23rd EEGLAB WorkshopJan 16–20 AIISH. Mysuru.\\nViol A, Palhano-Fontes F, Onias H, de Araujo DB, Viswanathan GM\\n(2017) Shannon entropy of brain functional complex networks\\nunder the inﬂuence of the psychedelic Ayahuasca. Sci Rep 7(1):7388\\n.\\nViol A, Palhano-Fontes F, Onias H, de Araujo DB, Ho ¨vel P,\\nViswanathan GM (2019) Characterizing complex networks usingentropy-degree diagrams: unveiling changes in functional brainconnectivity induced by Ayahuasca. Entropy 21(2):128\\n.\\nYentes JM, Hunt N, Schmid KK, Kaipust JP, McGrath D, Stergiou N\\n(2013) The appropriate use of approximate entropy and sampleentropy with short data sets. Ann Biomed Eng 41(2):349–365\\n.\\nZhang X, Zhou P (2012) Sample entropy analysis of surface EMG for\\nimproved muscle activity onset detection against spuriousbackground spikes. J Electromyo Kinesiol 22(6):901–907\\n.\\nAPPENDIX\\nComputation of the SE\\nThe SE was developed to quantify the regularity or\\nreproducibility in a time series by estimating the\\nlikelihood of observing patterns of length m+ 1 in the\\ndata within tolerance r of each other, given that patternsof length m are within tolerance rof each other. In this\\ndeﬁnition, the parameter m is called the embedding\\ndimension, a name inherited from the process of\\nreconstructing an attractor from a time series by meansof a discrete sequence of observations ( Takens, 1981 ).\\nThe procedure followed to compute SE is illustrated in\\nFig. 1 B. We consider a time series of length N, given by\\nx\\n1;x2;x3;/C1/C1/C1 ;xN fg , with homogeneous spacing between\\nsamples ( s), i.e. xi/C0xj/C12/C12/C12/C12=s. For the purposes of this\\nanalysis, the time series represents the instantaneousamplitude of the narrow band frequency envelopesobtained from the Hilbert transform. The template\\nvectors of length m are deﬁned as\\nX\\nmiðÞ¼ xi;xiþ1;xiþ2;/C1/C1/C1 ;xiþm/C01 fg . Given a suitable\\ndistance function d (in this implementation, the\\nChebyshev distance), the distance between two\\ntemplate vectors of equal length is deﬁned asdX miðÞ;XmjðÞ ðÞ . Then, for a given embedding dimension\\nm and tolerance r, we deﬁne the set\\nSmrðÞ¼ i;j:dX miðÞ;XmjðÞ ðÞ /C20 rand i–j fg ;i.e. all the\\npairs of diﬀerent indices such that the associatedtemplate vectors are considered similar within a certain\\ntolerance. Finally, we compute the SE as,\\nSE¼/C0log#Smþ1rðÞ\\n#SmrðÞ/C18/C19\\nð1Þ\\n(# denotes set cardinality). We observe that, by\\nconstruction, Smþ1rðÞ/C20 SmrðÞ, therefore SE is equal or\\nlarger than zero. Also, we note that self-matches are not\\nincluded in the computation of SE. Due to the exclusion\\nof self-matches, SE results in a less biased estimate ofentropy relative to other metrics (e.g. approximateentropy). Also, instead of matching the patterns against\\na ﬁxed template, all possible segments of length m are\\nconsidered as templates, which increases the statisticalpower in Eq. (1). SE can be conceptualized as\\nmeasuring the amount of self-similarity in the data: a\\nhighly regular and periodical time series will present ahigh SE, while a noisier and less predictable time series\\nwill present a lower SE.\\nIn spite of its name, the embedding dimension is not\\nestimated to guarantee the reconstruction of an attractorunderlying the time series, but from practical\\nconsiderations concerning the computation of the\\nlogarithmic likelihood in Eq. (1). As discussed by both\\nKaﬀashi et al. (2008 ), and Pincus and Goldberger\\n(1994 ), the preferred choice m= 2 allows a better esti-\\nmate of the logarithmic likelihood, since #S\\nmrðÞis a\\ndecreasing function of m. Concerning the tolerance, pre-\\nvious numerical studies showed that r/C200:1/C2SD leads\\nto poor logarithmic likelihood estimates, while forr/C210:25/C2SD relevant information is lost. Therefore, we\\nfollowed the recommendation of adopting an intermediate\\nvalue ( r¼0:2/C2SD).\\nMetastability and coherence\\nConsider Ncoupled oscillators, each with its own\\ncharacteristic oscillation frequency\\nxi. These\\nfrequencies represent those of the narrow-band ﬁltered64 EEG channel signals. The instantaneous amount of\\nsynchrony between the ensemble of oscillators can be\\nmeasured with the Kuramoto order parameter,\\nRtðÞ¼1\\nNXN\\nj¼1eihj/C12/C12/C12/C12/C12/C12 ð2Þ\\nThe order parameter RtðÞranges between 0 and 1,\\nindicating minimum and maximum synchrony,respectively. From Eq. (2)we derive the metastability K\\nas the variance of RtðÞ, indicating the amplitude of the\\ndynamical repertoire of the oscillators (i.e. the\\noccurrence of transient synchronization and de-synchronization over time), and the coherence C as the\\nmean of RtðÞ, indicating the average level of\\nsynchronization between the oscillators.50 R. M. Vivot et al. / Neuroscience 431 (2020) 40–51' metadata={'source': '/content/studies/vivot 2020.pdf', 'page': 10}\n",
            "page_content='As outlined in Fig. 1 C of the main manuscript, Eq. (2)\\ncan be used to investigate the collective behavior of the\\n64 EEG channels recorded from the diﬀerent groups ofsubjects. In this case, the characteristic oscillationfrequencies xiare determined by the bandpass ﬁltering,\\nand the instantaneous phases hjare obtained from the\\nHilbert transform.\\n(Received 24 April 2019, Accepted 22 January 2020)\\n(Available online 4 February 2020)R. M. Vivot et al. / Neuroscience 431 (2020) 40–51 51' metadata={'source': '/content/studies/vivot 2020.pdf', 'page': 11}\n",
            "page_content='RESEA RCH ARTICL E\\nIncreased Gamma Brainwave Amplitude\\nCompared toControl inThree Different\\nMeditation Traditions\\nClaire Braboszcz1,2¤a*,B.Rael Cahn3,4,Jonathan Levy2¤b,Manuel Fernandez5,\\nArnaud Delorme1,2,6\\n1Universite ÂdeToulouse, UPS, Centre deRecherche Cerveau etCognition ,Toulouse ,France, 2CerCo,\\nCNRS UMR5549 ,Toulouse ,France, 3Univers ityofSouthern Californi aDepartment ofPsychiat ry,Los\\nAngeles ,California, United States ofAmerica, 4University ofSouthe rnCalifornia Brain andCreativity\\nInstitute, LosAngeles, Californi a,United States ofAmerica, 5Meditation Research Institute, Swam iRama\\nSadhak aGrama, Rishikesh ,India, 6Swartz Center forComputationa lNeuroscienc e,University ofCalifornia\\nSan Diego, LaJolla, Californi a,United States ofAmerica\\n¤aCurrent address: School ofPsychology, Univers ityofPlymouth, Plymouth, United Kingdom\\n¤bCurrent address: The Gonda Multidiscipli nary Brain Research Center, BarIlanUniversity, Rama tGan,\\nIsrael\\n*claire.b raboszcz@ plymouth.ac.uk\\nAbstract\\nDespite decades ofresearch, effects ofdifferent types ofmeditation onelectroencepha lo-\\ngraphic (EEG) activity arestillbeing defined. Wecompared practitioners ofthree different\\nmeditation traditions (Vipassana, Himalayan Yoga andIsha Shoonya) with acontrol group\\nduring ameditative andinstructed mind-wandering (IMW) block. Allmeditators showed\\nhigher parieto-occipital 60±110 Hzgamma amplitude than control subjects asatraiteffect\\nobserved during meditation andwhen considering meditation andIMW periods together.\\nMoreover, thisgamma power was positively correlated with participants meditation experi-\\nence. Independent component analysis was used toshow thatgamma activity didnotorigi-\\nnate ineyeormuscle artifacts. Inaddition, weobserved higher 7±11 Hzalpha activity inthe\\nVipassana group compared toalltheother groups during both meditation andinstructed\\nmind wandering andlower 10±11 Hzactivity intheHimalayan yoga group during meditation\\nonly. Weshowed thatmeditation practice iscorrelated tochanges intheEEG gamma fre-\\nquency range thatarecommon toavariety ofmeditation practices.\\nIntroduction\\nScientific publications onmeditation have dramatically increased over thelastdecade [1].The\\nrecent interest inthese ancient mental practices isconcomitant with thedevelopment ofnew\\nbrain imaging technologies aswell astheincorporation ofmindfulness, oneofthecore psy-\\nchological components ofthese practices, into psychotherapeutic and clinical interventions [2,\\n3].Together these studies have demonstrated thebeneficial effects ofmeditative practices on\\nperception [4,5],cognition [6,7],emotional processing [8,9],and neuroplasticity [10±12]. A\\nPLOS ONE |DOI:10.137 1/journal.po ne.0170 647 January 24,2017 1/27a1111111111\\na1111111111\\na1111111111\\na1111111111\\na1111111111\\nOPEN ACCESS\\nCitation: Brabosz czC,Cahn BR,Levy J,Fernandez\\nM,Delorme A(2017) Increase dGamma Brainwave\\nAmplitude Compared toControl inThree Different\\nMeditatio nTraditions. PLoS ONE12(1): e0170647.\\ndoi:10.137 1/journal.pone .0170647\\nEditor: Joseph Najbauer ,University ofPeÂcs\\nMedical School, HUNGARY\\nReceived: July6,2016\\nAccepted: December 22,2016\\nPublished: January 24,2017\\nCopyright: ©2017 Brabosz czetal.Thisisanopen\\naccess article distributed under theterms ofthe\\nCreative Commons Attribution License, which\\npermits unrestricte duse,distribu tion,and\\nreproduction inanymedium, provided theoriginal\\nauthor andsource arecredited.\\nData Availabilit yStatement: Data forthis\\npublication areavailable onZenodo: http://doi.or g/\\n10.5281/ zenodo.57911.\\nFunding: Thiswork wassupported byBIAL\\nfoundation (grant 162/08, https://www. bial.com/\\nen/bial_foun dation.11/gra nts.18/gran ts_for_\\nscientific _research_.a38. html) toAD,Mind andLife\\nInstitute Varela grant 2009 (https://w ww.\\nmindandlife .org/varela -awards/) toBRC, Centre\\nNationale pour laRecherche Scientifique PhDgrant\\ntoCB,andFondation pour laRecherche MeÂdicale\\n(FRM) PhDextension grant toCB.Thefunders had' metadata={'source': '/content/studies/braboszcz 2017.pdf', 'page': 0}\n",
            "page_content='recent meta-analysis ofneuroimaging studies over about 300meditation practitioners has\\nshown that meditation practice isconsistently associated with changes inmorphology ofthe\\nprefrontal cortex and body awareness regions [13]. Such changes might have animpact onthe\\nbrain functioning, however fMRI-based studies cannotcapture thereal-time dynamic ofthe\\nbrain activity ascanbedone using electroencephalography (EEG), therecording ofelectrical\\ncurrents measurable from thesurface ofthescalp.\\nAlthough EEG isoneoftheprimary neuroimaging methods used tostudy meditation, to\\ndate noconsensus hasemerged onthebasic effects ofmeditation onEEG activity. Meditative\\npractices areusually considered tofallsomewhere along acontinuum oftwobroader catego-\\nries, concentration meditations and mindfulness meditations, also referred toasªfocused\\nattentionº and ªopen monitoringº states ofattentional engagement [14] (Fig 1).Given the\\nlarge diversity ofmeditative practices, acaveat oftheearly meditation studies wastoinvolve\\nheterogeneous groups ofmeditators without theappropriate control group and/or condition\\nthat areneeded toassess meditation trait and state related effects [15].\\nThe objective ofthisstudy istoexamine first whether there isaconsistent difference\\nbetween theEEG activity ofmeditation practitioners compared tomeditation-naive partici-\\npants, and second whether different meditation practices canbedistinguished based oneither\\ntheir state ortrait effects ontheEEG signal.\\nMost EEG studies ofmeditation report trait and/or state increases ordecrease ofpower in\\nthelower frequencies bands such astheta andalpha without clear differences between different\\nmeditation practices while studies directly assessing theEEG correlates ofdifferent practices are\\nrare (see [15]). Inaddition tothese changes inlowfrequency bands, more recent studies have\\nfound higher frequency gamma activation (>30 Hz) specifically associated with meditation\\nstate ortrait effects invarious meditation practices: Lutz etal.[16] found increased gamma over\\nfrontolateral and posterior electrodes innon-referential, objectless compassion meditation,\\nCahn etal.[17] have described increased gamma activity over parieto-occipital electrodes dur-\\ningopen-monitoring Vipassana meditation that focuses onsomatic sensation and Berkovich-\\nOhana etal.[18] reported increases ingamma power over posterior electrodes during an\\nanother type ofopen-monitoring meditation, mindfulness meditation. Higher gamma activity\\ninexperienced meditators have also been reported over parieto-occipital electrodes during peri-\\nodsofNREM sleep and positively correlated with thelength oflifetime meditation practice\\n[19]. Inaddition, Hauswald etal.[20] found that inZen meditators scores onamindfulness\\nscale correlate with gamma power during meditation atfrequencies above 100Hz.\\nInterestingly, theEEG gamma frequency hasbeen linked todiverse cognitive functioning,\\nincluding ageneral neural correlate oftheongoing stream and contents ofconsciousness [21,\\n22], long-range neuronal communication underlying theªbinding problemº [23, 24], visual\\nFig1.The continuum ofattention alengageme nt,from thehigh level offocused attention tomore\\ndiffuse ªopen monitorin gºorªopen awarene ssºmeditati on.The three meditation traditions wechose to\\ninclude inourstudy canbeplaced along thiscontinuum, each corresponding toadifferen tfocus ofattention.\\nHimalay anYoga tradition uses amantra tomaintain theattention alfocus, Vipassan atradition isprimarily an\\nopen monitori ngpractice butthespecific form assayed (astaught byS.N.Goenka) incorporates loose focus\\nonthesomat osensory awareness aspect andtheShoony apractice astaught intheIsha Yoga tradition isan\\nopen awarene ssmeditation practice with nospecific object tofocus on.\\ndoi:10.13 71/journal.pone .0170647.g001\\nIncreased Gamma Brainwav eAmplitude Comp ared toControl inThree Different Meditation Traditions\\nPLOS ONE |DOI:10.137 1/journal.po ne.0170 647 January 24,2017 2/27noroleinstudy design, datacollection and\\nanalysis, decision topublish, orprepara tionofthe\\nmanuscript.\\nCompeting Interests :Theauthors have declared\\nthatnocompeting interests exist.' metadata={'source': '/content/studies/braboszcz 2017.pdf', 'page': 1}\n",
            "page_content='representation [25, 26]and attention [27, 28], although thisrole ofgamma band inperception\\nand cognition remains controversial [29, 30]. Several studies have found correlations between\\nincreases ingamma power asthemost plausible electrophysiological correlate toincreases in\\nblood supply asmeasured bythefMRI BOLD signal [31, 32].\\nThe meditation traditions included inthepresent study each putadifferent emphasis on\\nthefocus ofthemind during meditative practice [15, 33,34](see Fig1).Wechose tofocus on\\nthree different meditation traditions that arerepresentative ofthemain meditation styles prac-\\nticed around theworld toallow ourresults tobegeneralisable and comparable tofindings in\\nexisting and future studies onrespectively similar meditation techniques.\\nWeincluded afocused meditation onmantra repetition (Himalayan Yoga Tradition;\\nHYT), anopen monitoring meditation focusing onbody sensations (Vipassana; VIP) and an\\nopen awareness meditation (ªShoonyaº meditation, apractice part ofIsha Yoga tradition; Isha\\nShoonya YogaÐISY), which issomewhat comparable toZen Shikantaza. Both Shoonya in\\nSanskrit and Shikantaza inJapanese aretranslated asvariations ontheterm ªnothingness/\\ndoing nothingº, which istheexplicit attentional goal ofthispractice intheIsha Yoga tradition.\\nMeditators were recruited based ontheir expertise within their specific traditions. Acontrol\\ngroup (CTR) with noprior meditation experience wasalso recruited. Ofthethree meditation\\npractices weanalyzed inthisstudy, wecannote that only studies oftheVipassana tradition\\nhave been regularly reported intheneuroimaging literature. The Himalayan yoga tradition\\nand Isha yoga tradition while being close toother studied meditation practices (mantra medi-\\ntation and zenmeditation respectively) have never been directly assessed using neuroimagery.\\nInlight ofprevious research byCahn etal.[17, 35], weincorporated aninstructed mind-\\nwandering (IMW) task asacontrol mental state during which participants were instructed to\\nconsistently remember non-emotional autobiographical memories. This waspreferred tojust\\nusing resting state instructions toprevent meditators from slipping into ameditative state\\nwhile atrest(acommon phenomenon reported bymany practitioners).\\nInformal discussion with pilot participants highlighted theneed forapreparatory period\\nbefore starting with theformal meditation practice. Thus toensure thequality ofthemedita-\\ntion task perse,themeditation block started with a10min period ofbreath-focus awareness\\ntogive anopportunity formeditators togetready fortheir meditation practices.\\nGranted thegrowing understanding that meditative practices involve theactive engage-\\nment ofattentional processes and that EEG gamma activity isrelated toenhanced attention\\nand neural activation, and considering theprevious findings ongamma activity and medita-\\ntion exposed above, wehypothesized that state effect increases ingamma power during medi-\\ntation compared tothecontrol IMW task might beacommon feature ofallmeditation\\ntraditions and that increase ingamma power would befound asatrait effect when comparing\\nexpert meditators with naive participants. Inaddition, based onthereviewed literature we\\nexpected tofind aneffect mainly over parieto-occipital electrodes location [17±19]. Wealso\\nanticipated tofind meditation related differences inlower frequency bands asmeditation\\neffects onthetheta and alpha frequency bands have been regularly reported intheliterature\\n[36±39]. Finally, wecounted upon thebreath awareness preparatory period forgiving usa\\nbaseline meditative state upon which wecould contrast each ofthetraditions specific medita-\\ntion practice toinvestigate further anyspecific state effect ofaparticular practice.\\nMaterials and Methods\\nParticipants\\nData collection took place attheMeditation Research Institute (MRI) inRishikesh, India. Sub-\\njects which lived close totheInstitute received about 10USdollars (500 Rupees) ascompensation\\nIncreased Gamma Brainwav eAmplitude Comp ared toControl inThree Different Meditation Traditions\\nPLOS ONE |DOI:10.137 1/journal.po ne.0170 647 January 24,2017 3/27' metadata={'source': '/content/studies/braboszcz 2017.pdf', 'page': 2}\n",
            "page_content='and subjects who traveled longer distances received about 20USdollars (1000 Rupees) in\\naddition toreimbursement oftheir travel fees, accommodation and meals. About onethird of\\nthesubjects (mostly from theISYgroup) traveled more than 2000 kmtoparticipate inthe\\nexperiment. Participants allprovided written consent toparticipate inthestudy. The project\\nwasapproved bythelocal MRI Indian ethical committee and theethical committee ofthe\\nUniversity ofCalifornia SanDiego (IRB project #090731). Allmeditators were chosen for\\ninclusion inthestudy based onage, gender and years ofpractice ofmeditation. Control sub-\\njects were chosen forinclusion inthisstudy based onageand gender and their absence ofa\\nmeditation practice. Wecollected data on20meditators from theVipassana tradition, 27\\nmeditators from Himalayan Yoga Tradition, 20meditators from Isha Shoonya Yoga tradition\\nand 32controls. Allmeditators were used topractice meditation with their eyes closed.\\nInthecurrent study, weaimed atanalyzing homogeneous groups ofsubjects and groups\\nwere formed bymatching subjects based ongender and age. Following thismatching proce-\\ndure weobtained 4groups of16subjects each. Because theIsha shoonya and Vipassana groups\\ndidnotcontain asmany subjects asthecontrol and Himalayan yoga groups, thematching pro-\\ncess implied leaving outofthepresent analysis some control and Himalayan yoga participants.\\nThe control and theVipassana groups contained 5female participants, and theremaining\\ngroups 2female participants. Ineach groups, 8ofthesubjects performed themind-wandering\\ntask first and 8subjects performed themeditation task first. Table 1indicates thestatistics for\\nthedifferent traditions. Hours ofmeditation inlifewere estimated based onsubjects reports of\\ntheir daily practice and participation tofulltime retreat. Number ofhours spent meditating\\nduring fulltime retreat wasestimated bythesubjects.\\nMeditation practice\\nVipassana meditation. The term Vipassana candescribe diverse meditative practices\\n[40]. AllourVipassana meditators practiced theVipassana meditation technique astaught\\nbyS.N. Goenka [41]. The main practice ofVipassana consists inmentally scanning one by\\none each body part and feeling thesensations ineach ofthese body parts. Practitioners are\\ninstructed tomove their attention down from thetopofthehead tothetipsofthetoes and\\nthen intheopposite direction inarepetitive pattern, paying attention tosomatic sensations.\\nThe instruction forthesubject istokeep his/her attention moving and toobserve, objectively\\nand with equanimity, thesensations he/she experiences. Given theexplicit focus onsomato-\\nsensory sensations, thisparticular tradition ofVipassana isagood example ofmeditation\\npractice where focused attention and open monitoring arecombined. Meditators were cho-\\nsenforinclusion inthestudy based onage, gender and years ofpractice oftheVipassana\\nmeditation.\\nHimalayan Yoga tradition. The Himalayan Yoga tradition isanancient tradition consist-\\ningofmany steps and paths that areintegrated and interrelated with each other [42, 43]. For\\nexample: (1)deep relaxation techniques performed inªcorpse positionº leading toYoga Nidra\\n(the sleep oftheYogi); (2)maintaining correct position ofthespine insitting formeditation\\nTable 1.Subject groups mean age and estimated hours oflife-time meditation experience. Number inparenthes esindicate minimum andmaximu m\\nhours ofmeditation .Symbol ±indicates thestandard deviation .\\nCTR HYT ISY VIP\\nAge 45±10 49±13 40±10 47±15\\nHours ofmeditatio n 0 15475 ±12748 2625±1868 9201±7759\\nGender (females/ 16) 5 2 2 5\\ndoi:10.137 1/journal.pone. 0170647.t 001\\nIncreased Gamma Brainwav eAmplitude Comp ared toControl inThree Different Meditation Traditions\\nPLOS ONE |DOI:10.137 1/journal.po ne.0170 647 January 24,2017 4/27' metadata={'source': '/content/studies/braboszcz 2017.pdf', 'page': 3}\n",
            "page_content=\"and practicing diaphragmatic breathing; (3)practicing breath awareness practices; (4)men-\\ntally repeating asound orseries ofsounds (mantra) and atthesame time focusing onthe\\nbreath and, inmore advanced practitioners, specific body energy centers (chakras). The man-\\ntramay also beused only asathought without breath awareness. Inthistradition there isalso\\nanemphasis made onthebreath that should beflowing without pauses. Forthisspecific exper-\\niment, Himalayan Yoga meditators mentally repeated their Mantra with orwithout awareness\\nofthebreath. Meditators were chosen forinclusion inthisstudy based onage, gender and\\nyears ofpractice oftheHimalayan Yoga meditation tradition.\\nIsha Yoga tradition. Isha Yoga meditation isaform ofyoga, which includes Asanas (yoga\\npostures), Kriyas (specific breathing techniques and body postures) and sitting meditation\\n(Shoonya and Samyama meditations). During theAsanas and Kriyas, practitioners focus on\\nthebreath and body sensations; during themeditations, thepractitioners maintain awareness\\noftheir thought process. Forthepurpose oftheexperiment, Isha meditators were asked to\\npractice Shoonya meditation. Inthismeditation, themeditator goes through aprocess ofcon-\\nscious ªnon-doingº that purportedly creates adistance between one's selfand one's body and\\nmind. Fortheduration ofthemeditation, thepractitioner consciously does notrespond toany\\ninternal orexternal stimuli. Meditators were chosen forinclusion inthisstudy based onage\\nand gender and years ofpractice oftheIsha Yoga meditation.\\nControl subjects. Control subjects didnothave ameditation practice, although afewsub-\\njects chanted prayers aspart astheir daily religious rituals. Subjects forwhich thischanting\\nincluded ameditation component were excluded. During themeditation condition, control\\nsubjects were instructed toremain aware oftheir breath fortheduration oftherecording\\nperiod. The exact instruction given tothem wastoªkeep paying attention tothesensations of\\nthebreath, both oftheinhalation and theexhalation. Ifyour mind starts towander, please\\nbring itback toyour breath.º They were allowed toaskquestions about thepractice and per-\\nformed thetask for5minutes toensure understanding oftheinstructions prior tostarting the\\nexperiment. Control subjects were chosen forinclusion inthisstudy based onageand gender\\nand their absence ofmeditation practice.\\nProcedure\\nParticipants sateither onablanket onthefloor oronachair forboth experimental periods\\ndepending ontheir personal preference. They were asked tokeep their eyes closed and all\\nlighting intheroom wasturned offduring data collection. Anintercom allowed communica-\\ntion between theexperimental and therecording room.\\nParticipants performed twosessions of20minutes, oneofªMeditationº (MED) and the\\nother oneofªInstructed Mind Wanderingº (IMW). IntheMED block, participants were first\\ninstructed topayattention totheir breathing astoprepare fortheir meditation practice (breath\\nfocus): they were told tofocus onnoticing theairflowing inand outtheir noses, orifthiswas\\ntoodifficult forthem, they were given thealternative ofattending tothesensations oftheir\\nabdomen associated with inhalation and exhalation. This task waschosen asitisabasic prac-\\nticegiven tonovice beginners inmeditation and common toallthree meditation traditions\\ninvestigated here. Itwasthus helping themeditators torelax and toprepare fortheir medita-\\ntion practice. After 10minutes participants were toldÐthrough theintercomÐto practice\\ntheir regular meditation practices fortheremaining 10minutes (MED; seeFig2).Inthe\\ninstructed mind-wandering blocks, participants were instructed toremember autobiographi-\\ncalevents from childhood tothemost recent past. They were given alistofpotential events to\\nremember before therecording session asexamples (the listinvolved daily childhood life,trav-\\nels,etc.). They were explicitly told toavoid remembering emotionally charged events. Tokeep\\nIncreased Gamma Brainwav eAmplitude Comp ared toControl inThree Different Meditation Traditions\\nPLOS ONE |DOI:10.137 1/journal.po ne.0170 647 January 24,2017 5/27\" metadata={'source': '/content/studies/braboszcz 2017.pdf', 'page': 4}\n",
            "page_content='theIMW condition asclose aspossible totheMED condition, after thefirst 10minutes partic-\\nipants were toldÐthrough theintercomÐto continue doing theinstructed mind wandering\\ntask forthenext 10minutes. Inaddition, after theinstructed mind-wandering and meditation\\nblocks, participants were presented with adiverse setofauditory and visual tasksÐthe results\\nofwhich willnotbereported here.\\nImmediately after each session, participants completed aquestionnaire toassess thesubjec-\\ntivecharacteristics oftheir mental state during thesession (see below Psychometric data collec-\\ntion) and were allowed tostand up,stretch and walk around. The order ofthesessions was\\ncounterbalanced between participants toprevent anyorder effects. The daypreceding the\\nstudy, participants were invited tovisit theexperimental room topractice thetasks for10min-\\nutes (5minutes instructed mind-wandering and 5minutes meditation). Participants entering\\nthestudy asmeditators were asked toavoid meditating before coming tothelaboratory onthe\\ndayoftheexperiment.\\nData collection\\nWerecorded data using an64+8channels Biosemi Active-Two amplifier system and a10±20\\nHeadcap standard 64-channel capfrom thesame company. Using external electrodes, wealso\\nrecorded right and leftmastoid electrodes aswell asvertical and horizontal electrooculogram\\n(EOG) byplacing twoperiocular electrodes above and below thelefteyeand twoelectrodes at\\nboth theleftand right outer canthi.\\nThe experimental room wassoundproof andthefloor waselectrically shielded andgrounded.\\nInorder toensure good quality ofEEG signal, participants were asked towash their hair before\\nattending therecording session and, fornon scalp electrodes, their skin wascarefully cleaned\\nusing analcohol solution. Allelectrodes were kept within 50mV offset oftheBIOSEMI system\\nmetric formeasuring impedance.\\nData processing andartifact rejection\\nData processing wasdone using theEEGLAB open source software version 12[44] running\\nonMatlab R2009b (The Matworks, Inc.) under aLinux operating system (Ubuntu 12.04). EEG\\ndata were first referenced totheright mastoid and down-sampled from 1024 Hzto256Hz.\\nFig2.Experimen talproto col. The first10minutes ofthemeditation block (MED) areconsidere da\\npreparator yperiod helping torelax forthemeditation practice. Meditators then switched totheir specific\\nmeditation practice forthelast10minutes oftheblock. Control subjects practiced breath watchi ngthroughout\\nthewhole MED block. Forthesake ofconsistenc y,wekept thelength oftheinstructed mind-wand ering block\\n(IMW) equal tothelength ofthemeditation block. When analyzing thedata wecompared thelast10minutes\\noftheMED block tothelast10minutes oftheIMW block. Half thesubjects passed theblocks intheorder\\npresente donpanel A,theother halfpassed theblocks asshown onpanel B.\\ndoi:10.13 71/journal.pone .0170647.g002\\nIncreased Gamma Brainwav eAmplitude Comp ared toControl inThree Different Meditation Traditions\\nPLOS ONE |DOI:10.137 1/journal.po ne.0170 647 January 24,2017 6/27' metadata={'source': '/content/studies/braboszcz 2017.pdf', 'page': 5}\n",
            "page_content=\"Wethen applied ahigh-pass filter at1Hzusing aninfinite impulse response (IIR) filter with a\\ntransition bandwidth of0.3Hzand anorder of6.\\nWeautomatically removed portions ofthesignal presenting non-stereotyped artifacts using\\nthepop_rejcont function oftheEEGLAB software [44]. The data were first segmented in1-sec-\\nond epochs with 0.5-second overlap. Segments of8contiguous epochs inwhich the0±10 Hz\\nfrequency band and the35±128 Hzfrequency band hadanamplitude higher than 17and 14\\ndecibels respectively were labelled asartifactual. Weused thisrejection procedure toensure\\nthat artifact rejection wasuniform forallsubjects. Rejection oflow-frequency segments helped\\nremove signals related tosubjects' head and body movements. Rejection ofhigh frequency\\nactivity helped reject data portions ofmuscular activity. The data wasthen checked visually for\\nanypotential remaining artifactÐleading insome rare cases toadjust decibels thresholds from\\n1to5dBand rerunning therejection procedure. Wethen manually identified and removed\\nbadelectrodes (from 0to18badelectrodes persubject, average of5electrodes removed per\\nsubject). Finally, weused Infomax Independent Component Analysis (Infomax ICA) onthe\\npruned data toreject eyemovement related and muscle artifacts. Foreach subject, wevisually\\nidentified and subtracted onetofivewell-characterized ICA components from thedata. These\\ncomponents accounted foreyeartifacts and temporal muscle noise. Experimenter CBused\\nvisual inspection ofcomponent scalp topographies and power spectrum toreject these artifac-\\ntual ICA components [45]. Toallow analysis oftheICA components atthegroup level, we\\nused theEEGLAB Corrmap plugin [46] toform clusters ofindependent components based on\\nthecorrelations oftheir scalps topographies.\\nForeach subject and each ofthe2conditions meditation practice (MED) and instructed\\nmind wandering (IMW), weapplied aspectral decomposition tothecontinuous data ofeach\\nchannel. Wefirst segmented data into 1-second long epochs with nooverlap, and then per-\\nformed aFourier transformation onthese epochs after tappering thesignal with aHanning\\nwindow. Finally, spectral powerÐequal tothesquare ofFast Fourier Transform (FFT) ampli-\\ntudeÐwas visualized inlogscale (10times thebase-10 logarithm ofthespectral power).\\nPsychometric data collection\\nSubjective psychometric data were collected both prior totheexperiment and attheend of\\neach block. During theexperiment subjects were allowed tositatatable attheend ofeach\\nblock and asked tocomplete aquestionnaire regarding their state ofmind during thepreced-\\ningblock. Weused 10-points scale toassess depth ofthemeditation (1:notdeep atall,10:\\ndeepest) and thought density (1:lotofspace between occurrence ofthoughts, 10:thoughts\\nwere frequent and overlapping). Inaddition, subjects hadtorate ona1to4scale (1:notall,4:\\nvery much) relaxation and hindrance items extracted from theMeditation Depth Question-\\nnaire (MEDEQ, [47]), avalidated questionnaire toassess thedepth dimension ofmeditation.\\nThe fullMEDEQ consists infivecategories ofquestions, however weonly used here asubset\\noftwocategories. Relaxation items assess thefeeling ofease (ie.ªI feltwellº, ªIfeltIbecame\\nmore patient and calmº) while hindrance items arethought toassess (emotional) blocks ordif-\\nficulties that could have been encountered during thepreceding period (ie.ªIwasboredº, ªI\\nfeltdrowsy and sleepyº). The same questionnaire wasgiven prior totheexperiment toassess\\nthehabitual quality ofparticipants meditative state.\\nStatistics\\nAnalysis ofvariance (ANOVA) wasfirst used toassess significance oftheEEG spectral power\\nacross groups and conditions using either one-way Welch's ANOVA [48] ormixed design\\nANOVA when comparing between and within subjects variables inthesame model. Toallow\\nIncreased Gamma Brainwav eAmplitude Comp ared toControl inThree Different Meditation Traditions\\nPLOS ONE |DOI:10.137 1/journal.po ne.0170 647 January 24,2017 7/27\" metadata={'source': '/content/studies/braboszcz 2017.pdf', 'page': 6}\n",
            "page_content=\"forafiner localization oftheeffects over electrodes, post-hoc tests were performed within\\nEEGLAB asdescribed below.\\nStatistics forEEG data were performed onthelog-transformed spectral power data across\\nchannels using thepermutation tests implemented intheFieldtrip toolbox [49]. Atotal of\\n2000re-samples oftheoriginal data wasused toassess significance. When conditions were\\ncompared within agroup, permutations ofpaired t-test were used and when comparisons\\nwere made inbetween 2groups permutations ofnon-paired t-tests were used. Two-tailed sta-\\ntistics were used bydefault. Correction formultiple comparisons attheelectrode level wasper-\\nformed using thecluster-based statistics implemented inFieldtrip [50]Ðusing thealgorithm\\ntriangulation method forfinding channel neighbors and thedefault maxsum method forfind-\\ningclusters with acluster-forming threshold ofp=0.05. Note that thecluster correction\\nmethod forces tochoose astatistical threshold and does notcurrently allow toreport individ-\\nualp-value foreach electrodes.\\nDuring both theinstructed mind wandering and themeditation block, oursubjects hadto\\nsitfor20minutes, which were decomposed into 2sub-blocks of10minutes each. The tradi-\\ntion-specific meditation corresponded tothesecond sub-block ofthemeditation block. To\\naccount foranypotential effects onphysiological measures ofsimply sitting stillforaspecific\\nduration oftime, wecompared the10-minute tradition-specific meditation block tothesec-\\nond block oftheinstructed mind wandering period (see Fig2).\\nRobust linear correlations were computed using theskipped Pearson method implemented\\nintheRobust Correlation Matlab toolbox from Pernet etal.[51]. This method protects against\\nanybivariate outliers and uses 95% bootstrapped confidence intervals (CI) toassess signifi-\\ncance. The R'sggplot2 package [52] wasused toplot thedistribution ofdata.\\nFinally, comparisons between groups inthepsychometric and demographic sections were\\nperformed using Wilcoxon rank-sum test. Comparisons ofagiven measure within agroup\\nwere performed using Wilcoxon signed-rank test.\\nResults\\nDemographic andpsychometric data\\nTable 1shows characteristics ofeach groups. There wasnosignificant difference inage\\nbetween groups (Wilcoxon rank-sum test, p>0.1). Regarding meditation experience, both the\\nVipassana and Himalayan yoga group spent significantly more hours inmeditation than the\\nIsha shoonya group (Wilcoxon rank-sum test, p<0.005). There wasnosignificant difference\\ninmeditation experience between theHimalayan yoga and Vipassana group.\\nMeditation depth and thought density rating. Table 2shows foreach group and condi-\\ntion themean scores tothemeditation depth and thought density scales and themean scores\\ntotheMEDEQ items ªrelaxationº and ªhindranceº. Meditators successfully entered amedita-\\ntivestate during theexperiment asassessed bythesubjective reports that were given\\nTable 2.Mean ratings onsubjectiv ereports and score onrelaxation and hindranc eMEDEQ items after meditation .ªHabitualº stands fortheexperi-\\nence particip ants usually have when meditating athome andªExp.º stands fortheir experienc eduring theexperiment .\\nGroups Meditation Depth Thought Density Relaxatio n Hindran ce\\nHabitua l Exp. Habitual Exp. Habitua l Exp. Habitual Exp.\\nCTR NA NA 4.7±2 6.2±2.3 10±3.8 10±3.4 7.8±5.1 7.7±5.0\\nHYT 6.9±1.3 6.3±1.8 4.5±2.3 6.6±2.1 10±4.8 11±4.3 13±5.1 10±5.8\\nISY 7±0.9 7.5±1.0 4.3±1.4 7.2±2.3 13±3.0 11±4.7 4.2±4.5 9.0±6.2\\nVIP 5.1±1.8 6.0±1.8 4.1±2.0 6.0±2 12±3.4 10±4.1 5.4±4.7 9±6.3\\ndoi:10.137 1/journal.pone. 0170647.t 002\\nIncreased Gamma Brainwav eAmplitude Comp ared toControl inThree Different Meditation Traditions\\nPLOS ONE |DOI:10.137 1/journal.po ne.0170 647 January 24,2017 8/27\" metadata={'source': '/content/studies/braboszcz 2017.pdf', 'page': 7}\n",
            "page_content='immediately after themeditation block. Ona0±10 scale (where 10indicates thedeepest medi-\\ntative state they have experienced and 0notdeep atall)following themeditation period, the\\nHimalayan yoga group reported anaverage meditative depth of6.3±1.8(habitual meditative\\nstate rated 6.9±1.3), theIsha shoonya group 7.5±1.1(habitual meditative state rated 7.0\\n±0.9), and theVipassana group 6.0±1.8(habitual meditative state rated 5.1±1.8). Note that\\nthecontrol group could notanswer these questions since they didnothave meditation practice\\ntorefer to.Nosignificant differences were found between reported depth ofmeditation (dur-\\ningtheexperiment) relative tothereported depth ofhabitual meditation with theexception of\\natrend fortheIsha shoonya group towards experiencing adeeper state ofmeditation than\\nusual during theexperiment (Wilcoxon signed-rank test, p=0.05). Both theIsha shoonya and\\ntheHimalayan yoga groups reported asignificantly deeper habitual state ofmeditation than\\ntheVipassana group (Wilcoxon rank-sum test, p<0.01) with nosignificant difference found\\nbetween theIsha shoonya and Himalayan yoga group intheratings oftheir habitual depth of\\nmeditation (Wilcoxon rank-sum test, p=0.6). After themeditation period, thereported depth\\nofmeditation wassignificantly higher intheIsha shoonya group ascompared totheVipassana\\ngroup (Wilcoxon rank-sum test, p<0.01). Noother significant differences were found between\\nthegroups onthismeasure. Ratings ofthought density were significantly lower forallthree\\ngroups after themeditation period than after theinstructed mind-wandering period (HYT:\\nmean score after meditation 4.5±2.3,mean score after IMW: 6.6±2.1,p=0.01; ISYmean\\nscore after meditation 4.3±1.4,mean score after IMW: 7.2±2.3,p<0.01; VIP: mean score\\nafter meditation 4.1±2.0mean score after IMW: 6.0±2,p=0.01). Nosignificant difference\\nwere found within thecontrol group between ratings ofthought density after themeditation\\nperiod ascompared totheinstructed mind-wandering period (mean score after meditation\\n4.7±2.0,mean score after IMW: 6.2±2.3).\\nRelaxation and hindrance scores. Within group comparisons ofscores onrelaxation\\nitems after themeditation and instructed mind-wandering periods show that theIsha shoonya\\nand Vipassana groups have significantly higher scores after themeditation period ascompared\\ntoinstructed mind-wandering period (ISY: p<0.0005; VIP: p<0.001, Wilcoxon signed-rank\\ntest, seeTable 2).The Himalayan yoga and control groups showed nosignificant differences\\nonthese items between themeditation and instructed mind-wandering periods.\\nAfter themeditation period, both theIsha shoonya and Vipassana groups scored higher on\\ntherelaxation items than thecontrols and Himalayan yoga groups (Wilcoxon rank-sum test\\np<0.0005 forboth Isha shoonya and Vipassana compared tocontrol group; Vipassana com-\\npared toHimalayan yoga: p<0.01; Isha shoonya compared toHimalayan yoga: p<0.0001).\\nThe difference ofscore after themeditation period wassignificantly higher intheIsha shoonya\\ngroup compared totheVipassana group (p=0.04).\\nWithin group comparisons ofscores tohindrance items after themeditation and instructed\\nmind-wandering periods show that, forboth Vipassana and Isha shoonya groups, scores were\\nsignificantly lower after meditation than after instructed mind-wandering (VIP: p<0.0001;\\nISY: p<0.0001, Wilcoxon signed-rank test). Scores oftheHimalayan yoga group were signifi-\\ncantly higher after meditation than after instructed mind-wandering (p<0.01, Wilcoxon\\nsigned-rank test).\\nThere were nosignificant difference inhindrance item scores after meditation and\\ninstructed mind-wandering session forthecontrol group.\\nSpectral analysis\\nFrequency ranges ofinterest were defined byanalyzing thespectral power from 2to110Hz.\\nSignificant differences were observed between groups during themeditation period inthe\\nIncreased Gamma Brainwav eAmplitude Comp ared toControl inThree Different Meditation Traditions\\nPLOS ONE |DOI:10.137 1/journal.po ne.0170 647 January 24,2017 9/27' metadata={'source': '/content/studies/braboszcz 2017.pdf', 'page': 8}\n",
            "page_content='EEG spectral power, namely inthe60±110 Hzgamma frequency range and inthe7±11 Hz\\nalpha frequency range (p<0.05, non-paired permutation t-test corrected formultiple compari-\\nsonsÐa representative electrode isshown onFig3).\\nNosignificant difference within groups wasfound forcomparison between themeditation\\nand instructed mind-wandering periods.\\nGamma frequency band activity. Toassess thepresence ofameditation trait effect, we\\nfirst combined thetwoconditions meditation and instructed mind-wandering and took the\\nmedian 60±110 Hzgamma power over thefrontal and parieto-occipital electrodes. Wethen\\nperformed twoone-way ANOVAs ofthegamma power bygroup effect foreach location\\n(frontal orparieto-occipital) and found asignificant effect ofthegroup forthegamma power\\nover parieto-occipital electrodes location (F(3,33) =3,p=0.03, explanatory measure ofeffect\\nsize=0.39) butnotforthegamma power over thefrontal location (F(3,33) =1,p=0.36). We\\nranpost-hoc tests over allelectrodes within EEGLAB tocompare each meditators group tothe\\ncontrol group. Increased 60±110 Hzpower over parieto-occipital electrodes wasfound ineach\\ngroup ofmeditators when compared tocontrols and additional increase over central and fron-\\ntalelectrodes wasfound fortheIsha shoonya group only (non-paired permutation t-tests cor-\\nrected formultiple comparisons, p<0.05. SeeFig4A). Fig4Cshows theindividual distribution\\nofthe60±110 Hzpower over theparieto-occipital electrodes forthecombined meditation and\\ninstructed mind-wandering conditions. Wecanseethat despite alarge individual variability\\nwithin groups, themedian gamma power inthethree meditators groups ishigher than the\\ngamma power inmost ofthecontrol subjects.\\nFig3.Spectral decomposit ionforoccipital electrode Ozduring themeditatio ncondition inall4\\ngroups ofsubjects (CTR istheControl group; HYT istheHimalayan Yoga Tradition group; ISYisthe\\nIsha Shoonya Yoga group; VIPistheVipassana group) .Shaded regions indicate thestandard error ofthe\\nmean. The grey shaded area indicates theregion ofstatistic aldiffere nces between thegroups after correctio n\\nformultiple comparison s(see Material andMethods). The region around 50Hzhasbeen blanked outonthe\\nplotasitcorresponds tolinenoise andhasbeen excluded from analysis.\\ndoi:10.13 71/journal.pone .0170647.g003\\nIncreased Gamma Brainwav eAmplitude Comp ared toControl inThree Different Meditation Traditions\\nPLOS ONE |DOI:10.137 1/journal.po ne.0170 647 January 24,2017 10/27' metadata={'source': '/content/studies/braboszcz 2017.pdf', 'page': 9}\n",
            "page_content=\"Fig4.A.Spectral differenc esinthe60±110 Hzrange between thecontrol group andeach ofthemeditator groups with MED andIMW condition s\\ncombined. Ablack dotatagiven electrode siteindicates significanc eatp<0.05 corrected formultiple comparison s(see Method). B.Spectra l\\ndifferenc esinthe60±110 Hzrange between theControl group andeach ofthemeditator groups during MED condition only. Ablack dotatagiven\\nelectrode siteindicates significance atp<0.05 corrected formultiple comparison s(see Method). C.Distribution ofindividual median 60±110 Hz\\nactivity over parieto-occipi talelectrod eforcombined meditation andIMW condition sineach group. DMedian gamma power over parieto-occ ipital\\nelectrode sforthecombined meditation andinstructed mind-wand ering conditions inthethree meditator groups, asafunction oflog-scale d\\nestimated hours oflifelong meditation practice (skipped Pearson's r=0.33, confidence interval (CI)=[0.06 0.53]). The grey shaded area shows\\nthe95% bootstrap pedCIs. Areddotdenotes anoutlier thatwas leftoutfrom thecomput ation oftherobust correlation analysis whereas theellipse\\nsurrounds thedata points included init.\\ndoi:10.137 1/journal.pone .0170647.g004\\nIncreased Gamma Brainwav eAmplitude Comp ared toControl inThree Different Meditation Traditions\\nPLOS ONE |DOI:10.137 1/journal.po ne.0170 647 January 24,2017 11/27\" metadata={'source': '/content/studies/braboszcz 2017.pdf', 'page': 10}\n",
            "page_content='Next, wequestionned more specifically thepresence ofastate effect byinvestigating the\\ngroup and condition effects within thegamma range over parieto-occipital orfrontal elec-\\ntrodes. Foreach case, the60±110 Hzmedian gamma power foreach four groups and each of\\nthetwoconditions meditation and instructed mind-wandering wasentered into anANOVA\\nmixed-effects model. Wefound abetween-group effect onthemedian gamma inparieto-\\noccipital electrodes location (F(3,60) =3,p=0.02) butnotforfrontal location (F(3,60) =1,\\np=0.1). The condition hadamarginal effect when considering gamma power over posterior\\nelectrodes (F(1,60) =3,p=0.07) and noeffect when considering frontal electrodes (F(1,60) =\\n0.6,p=0.41). There wasnogroup-by-condition interaction effect (F(3,60) =0.7,p=0.52 for\\nposterior electrodes and F(3,60) =2.1,p=0.11 forfrontal electrodes). Post-hoc tests over all\\nelectrodes location were runinEEGLAB tocompare each group ofmeditators tothecontrol\\ngroup ineach ofthetwoconditions. When considering themeditation condition across\\ngroups, weobserved higher 60±110 Hzgamma power inallofthemeditator groups ascom-\\npared tothecontrol group over thefrontal, midline and occipital electrode sites (non-paired\\npermutation t-test corrected formultiple comparisons, p<0.05Ðsee Fig4B). When consider-\\ningtheinstructed mind-wandering task, weobserved atrend forincreased gamma over occip-\\nitalelectrodes when comparing each ofthethree meditators groups tothecontrol group (non-\\npaired permutation t-tests corrected formultiple comparisons, HYT: p<0.06, VIP and ISY:\\np<0.08).\\nSpecific effects ofthedifferent meditation practices were investigated bycomparing the\\nfirst 10minutes ofthemeditation block inwhich participants practiced focusing onthebreath\\nwith thelast10minutes ofthemeditation blockÐcorresponding toeach group distinct medi-\\ntation practiceÐtaking only data from themeditator groups. Weperformed amixed effects\\nANOVA taking themedian gamma power during themeditation and breath focus conditions\\nforthethree meditator groups, leading tosignificant effect ofcondition (F(1,45) =7,p=0.01).\\nHowever, thegroup effect and thegroup bycondition interaction wasnotsignificant (respec-\\ntively F(2,45) =0.05, p=0.9and F(2,45) =0.8,p=0.4). Post-hoc tests showed that both Hima-\\nlayan yoga and Isha shoonya showed decreased 60±110 Hzpower inmeditation compared to\\nbreath focus. This effect wasobserved over centro-occipital electrodes fortheHimalayan yoga\\nand over fronto-central electrodes fortheIsha shoonya group (p<0.05, permutation ofpaired\\nt-test corrected formultiple comparisons). The Vipassana group didnotshow anysignificant\\ndifference between breath focus and meditation inthisfrequency range.\\nThe finding ofsignificantly higher gamma power inmeditators than incontrols incom-\\nbined meditation and instructed mind-wandering condition, and ofatrend inthesame direc-\\ntion when considering instructed mind-wandering alone supports thehypothesis ofatrait\\neffect ofmeditation practice on60±110 Hzgamma power.\\nFollowing thefinding byLutz etal.[16] ofameditation state effect onthehigher over lower\\nfrequencies ratio, wecomputed theratio ofspectral power between the60±110 Hzrange and\\nthe2±11 Hzrange foreach group. Nosignificant differences were observed between themedi-\\ntation and instructed mind-wandering condition inanyofthegroups. Inter-group compari-\\nsons revealed asignificantly higher 60±100 Hzover 2±11 Hzpower ratio forHimalayan yoga\\ngroup compared tocontrol group only, both during meditation (p<0.005) and during\\ninstructed mind-wandering (p<0.05; two-tailed student t-test with 15degrees offreedom cor-\\nrected formultiple comparisons using Bonferroni approach). The Isha shoonya and Vipassana\\ngroups showed nosignificant differences from thecontrol group with regards tothe60±100\\nHzover 2±11 Hzpower ratio and there wasnosignificant difference either when comparing\\neach group ofmeditator inapairwise fashion.\\nAnalysis ofmuscular and ocular artifactual activity. Research onthe30±90 Hzfre-\\nquency range haspreviously linked gamma activity tovarious cognitive phenomena. However,\\nIncreased Gamma Brainwav eAmplitude Comp ared toControl inThree Different Meditation Traditions\\nPLOS ONE |DOI:10.137 1/journal.po ne.0170 647 January 24,2017 12/27' metadata={'source': '/content/studies/braboszcz 2017.pdf', 'page': 11}\n",
            "page_content=\"recent research show that there may becontamination inthese frequency bands duetoeye\\n[53] temporal, facial, and scalp muscle activity [54]. Activation ofthese muscles could result in\\nsignificant increases inthepower ofhigh frequency bands and could potentially mask orbias\\ntheobserved effects wereport. Inorder toassess whether theincreased power inthegamma\\nband weobserved inmeditators wasduetomuscle oreyeactivity, weused theICA algorithm\\ntoisolate and remove these artifacts [45]. Tominimize theeffects ofsubjective judgement, we\\nonly used components which represented unequivocal muscle activity based ontheir topo-\\ngraphic and spectral characteristics.\\nTemporal muscle ICA components were identified byvisual inspection ofexperimenter CB\\ninall64subjects. Between 0and 2components were labeled asartifactual foreach subject. Of\\nthese, 30could belater aggregated atthegroup level inacluster (see Methods). Within this\\ncluster, 18independent components corresponded totheright temple muscles (4subjects in\\nCTR group, 8subjects inVIP, 3subjects inHYT and 3subjects inISY) and 12tothelefttem-\\nplemuscles (2subjects inCTR group, 2subjects inVIP, 3subjects inHYT and 5subjects in\\nISY) (Fig 5B). These muscle artifacts hadaspectrum dominated byhigh frequency activity\\nover temporal electrode sites. Nosignificant group orcondition effect wasfound intheactivity\\nofthetemporal muscles artifact components. Ifmuscle activity from thescalp were responsible\\nforthedifference ingamma activity weobserved between meditators and control subjects, it\\nshould have been visible (and amplified) inthese components. Inaddition, weranacorrela-\\ntion between themedian spectral activity ofthese independent components present inthe\\ncluster corresponding totemporal muscles and themedian 60±110 Hzgamma activity during\\ncombined meditation and instructed mind-wandering forthe24subjects presents intheclus-\\nter.Nosignificant correlation wasfound between the60±110 Hzpower and theactivity ofthe\\ncluster ofartifactual independent components (Skipped Pearsonr=−0.12, CI=[-0.5 0.33]).\\nFurthermore, forallsubjects, muscle-related artifactual component activity wasremoved at\\nthepre-processing stage, before computing thespectral transformation ofFigs 3,4and 6.\\nAdditionally, experimenter CBmanually identified ICA components accounting foreye\\nmovements inthe64subjects. Artifactual components corresponding toocular activity were\\nidentified bytheir typical scalp topographies with high amplitude signal over frontal electrode\\nsites with relatively smooth 1/fspectrum. Atthegroup level, 53ofthese components could be\\nclustered together (14ofthe16subjects inthecontrol, Vipassana and Himalayan yoga group\\nand 11ofthe16subjects intheIsha shoonya group) (Fig 5A). Nosignificant spectral frequency\\npower difference wasobserved forthisICA cluster between the4groups. Ifeye-movement\\nrelated artifacts were responsible fortheincreased gamma power observed between groups in\\nthisdataset, weshould have observed higher gamma power intheeyemovement independent\\ncomponents formeditators compared tothecontrol group. Asforthemuscle-related artifac-\\ntual components' activity, eyemovement-related artifactual components' activity wasremoved\\nfrom thedata atthepre-processing stage.\\nThe analysis ofeye-movement related artifacts activity between themeditation and\\ninstructed mind-wandering conditions shows that within thecontrol group only, thespectral\\nfrequency power oftherelated ICA cluster ishigher during instructed mind-wandering than\\nduring meditation intherange from 25to110Hz(p<0.001). Within thesame eye-movement\\nrelated ICA cluster, weobserved atrend forhigher power inthe11±17 Hzfrequency range\\nduring instructed mind-wandering compared tomeditation intheVipassana group (p<0.06)\\nbutfailed tofind anysignificant difference ortrend inanyfrequency range when comparing\\nmeditation toinstructed mind-wandering intheHimalayan yoga and Isha shoonya groups.\\nWeobserved apositive correlation between theactivity ofthecluster ofICcorresponding\\ntoeyeblinks and theactivity ofthe60±110 Hzfrequency range power over parieto-occipital\\nelectrodes fordatasets ofthemeditators presents intheICcluster, inthecombined meditation\\nIncreased Gamma Brainwav eAmplitude Comp ared toControl inThree Different Meditation Traditions\\nPLOS ONE |DOI:10.137 1/journal.po ne.0170 647 January 24,2017 13/27\" metadata={'source': '/content/studies/braboszcz 2017.pdf', 'page': 12}\n",
            "page_content=\"Fig5.A.Average scalp topography ofindependent component s'activity correspo nding toeyerelated\\nartifacts. B.Averag escalp topogra phies ofindependent components' activity forleftandright temporal\\nmuscle activity .C.Nodifferenc ewas observed between groups foreyemovem entindependent components '\\nspectral activity inthemeditation condition .D.Pooled leftandright muscle ICAcomponents spectral activity\\nforthemeditation condition indicate nosignificant differe ncebetween the4groups ofsubjects. E.There isa\\nIncreased Gamma Brainwav eAmplitude Comp ared toControl inThree Different Meditation Traditions\\nPLOS ONE |DOI:10.137 1/journal.po ne.0170 647 January 24,2017 14/27\" metadata={'source': '/content/studies/braboszcz 2017.pdf', 'page': 13}\n",
            "page_content=\"and instructed mind-wandering conditions (Pearson skipped r=0.33, CI=[0.10 0.56]). How-\\never, theactivity ofthiscluster ofartifactual ICsdidnotcorrelate with themeditation experi-\\nence ofthecorresponding meditator participants (Pearson skipped r=-0.006, CI=[-0.29\\n0.30]).\\nThese results show that itisunlikely that thegamma power increase weobserve inmedita-\\ntors incomparison tocontrol subjects isduetoeither temporal muscles oreyeartifacts. In\\naddition, thescalp topography ofthedifference inEEG activity (Fig 4)isgreater inmedial\\nfrontal and occipital areas when compared totemporal areas, further indicating that classic\\ntemporal muscles related artifacts and lateral frontal artifacts arenotlikely tobecontributing\\ntotheeffects wearereporting intheEEG gamma 60±110 Hzfrequency range.\\nGamma activity correlation with meditation experience. Given that increased gamma\\npower wasobserved formeditators relative tothecontrol (see Fig4),weinvestigated whether\\n60±110 Hzgamma power waspositively correlated with themeditation experience ofpartici-\\npants. Totestthishypothesis, weextracted data from thethree meditator groups correspond-\\ningtothecombined meditation and instructed mind-wandering conditions fortheparieto-\\noccipital electrodes asthey showed significant power spectrum difference with thecontrol\\ngroup (see Fig4A). Hours ofmeditation experience were converted toalogarithmic scale to\\nkeep consistency with theexpression ofgamma power.\\nApositive correlation wasfound between thelength ofexperience ofmeditation (expressed\\ninlogofhours) and the60±110 Hzgamma power over parieto-occipital electrodes forthe\\ncombined meditation and IMW conditions (see Fig4D,skipped Pearson's r=0.33, CI=[0.06\\n0.53]).\\nInaddition apositive correlation between gamma power over parieto-occipital electrodes\\nand meditation experience wasalso found intheinstructed mind-wandering only condition\\n(skipped Pearson's r=0.31, CI=[0.01 0.55]). However, wefailed tofind acorrelation with\\nmeditation experience when using the60±110 Hzgamma power during meditation only\\n(skipped Pearson's r=0.15, CI=[-0.12 0.42]).\\nThis result ofapositive correlation between gamma power incombined meditation and\\ninstructed mind-wandering conditions and thelength oflifetime meditation practice further\\nsupports thehypothesis ofameditation trait effect within theEEG gamma frequency range.\\nAlpha frequency band activity. Weperformed amixed-effects ANOVA toassess effects\\nofgroups and conditions inthealpha range (7to11Hz). Wefound asignificant effect of\\ngroup (F(3,60) =3,p=0.02) butnotofcondition (F1,60) =1.3,p=0.2) and nosignificant\\ngroup bycondition interaction (F3,60) =1,p=0.3). Post-hoc between-group comparisons\\nrevealed that during themeditation period the7±11 Hzpower intheVipassana group was\\ngreater than inthecontrol group (non-paired permutation t-test, corrected formultiple com-\\nparisons, p<0.01), theIsha shoonya group (non-paired permutation t-test, corrected formulti-\\nplecomparisons, p<0.01) and theHimalayan yoga group (non-paired permutation t-test,\\ncorrected formultiple comparisons, p<0.005) asshown onFig6A.These differences were sig-\\nnificant atallelectrode sites when comparing Vipassana toeach oftheother groups. Distribu-\\ntion ofindividual median 7±11 Hzover allelectrode sites during meditation shows that exceptpositive correlation between the60±110 Hzactivity inthecomponents ofeyerelated artifacts andthe60±110\\nHzactivity record edover theparieto-occ ipital electrodes incombined MED andIMW condition s(skipped\\nPearson 'sr=0.33, CI=[0.10 0.56]). F.The 60±110 Hzactivity intheartifactua lcomponen tsrelated toeye\\nartifacts donotcorrela tewith meditation experien ce(skipped Pearson's r=−0.006, CI=[-0.29 0.30]). Inboth\\npanels CandDtheshaded area around thecurves represents thestandard error tothemean. Inpanels E\\nandFtheshaded area represent sthe95% confidence interval (CI).\\ndoi:10.13 71/journal.pone .0170647.g005\\nIncreased Gamma Brainwav eAmplitude Comp ared toControl inThree Different Meditation Traditions\\nPLOS ONE |DOI:10.137 1/journal.po ne.0170 647 January 24,2017 15/27\" metadata={'source': '/content/studies/braboszcz 2017.pdf', 'page': 14}\n",
            "page_content='Fig6.A.Spectral differenc esinthe7±11 Hzrange between theVipassan agroup andthecontrol, theHimalay anYoga andtheIsha Yoga groups.\\nAblack dotindicates significance atp<0.01 foragiven electrod esiteafter correctio nformultiple comparison s(see Material andMethods). B.\\nDistribution ofindividu almedian 7±11 Hzactivity over allelectrod esduring meditation ineach group.\\ndoi:10.137 1/journal.pone. 0170647.g006\\nIncreased Gamma Brainwav eAmplitude Comp ared toControl inThree Different Meditation Traditions\\nPLOS ONE |DOI:10.137 1/journal.po ne.0170 647 January 24,2017 16/27' metadata={'source': '/content/studies/braboszcz 2017.pdf', 'page': 15}\n",
            "page_content='forthree participants, meditators intheVipassana group hadhigher 7±11 Hzpower than most\\noftheparticipants intheother groups (see Fig6B).\\nDuring theinstructed mind-wandering period, weobserved higher 7±11 Hzpower inthe\\nVipassana group compared tothecontrol group (non-paired permutation t-test, corrected for\\nmultiple comparisons, p<0.05, mainly atfrontal and fronto-central electrodes sites), theIsha\\nshoonya group (non-paired permutation t-test, corrected formultiple comparisons, p<0.05,\\nover frontal and central electrodes sites) and theHimalayan yoga group (non-paired permuta-\\ntion t-test, corrected formultiple comparisons, p<0.05, atallelectrodes sites).\\nThese results show that Vipassana meditation isspecifically associated with higher 7±11 Hz\\namplitude, both during meditation and instructed mind-wandering.\\nDiscussion\\nAssummarized inTable 3,themain results ofourstudy aretwofold: first wedemonstrated\\nthat when combining both themeditation and instructed mind-wandering periods, meditators\\nfrom 3different traditions exhibited higher gamma (60±110 Hz) spectral power over parieto-\\noccipital electrodes asatrait effect when compared tocontrol participants. When considering\\nindependently themeditation period, meditators from 3different traditions relative tocontrol\\nparticipants showed higher 60±110 Hzspectral power mainly over occipital electrode sites but\\nalso, inalessrobust way, over frontal and midline electrode sites. Ofnote, when considering\\ninstructed mind-wandering periods only, theincreased gamma power inmeditators compared\\ntocontrols wasobserved asatrend. Itisunlikely that thegamma effects were duetoeyeor\\nscalp muscle artifacts asdemonstrated byouranalysis ofindependent components. Inaddi-\\ntion, weobserved apositive linear correlation between thelength ofexperience inmeditation\\nand the60±110 Hzpower over parieto-occipital electrodes inthecombined meditation and\\ninstructed mind-wandering conditions. Wealso observed that Vipassana meditation practi-\\ntioners exhibited higher power in7±11 Hzalpha frequency band asatrait effect across both\\ninstructed mind-wandering and meditation conditions compared toother meditation groups\\nand control participants.\\nPsychometric data\\nSelf-scoring after themeditation and instructed mind-wandering sessions suggests that allthe\\nmeditation practitioners were able toenter ameditative state during theexperiment. Ratings\\nofmeditation depth during theexperiment didnotsignificantly differ from ratings ofhabitual\\nmeditation depth, indicating that theexperimental procedure stillallowed subjects toreachTable 3.Summa ryofthemain results.\\nHYT ISY VIP\\nGamma\\npower in\\nMED and\\nIMWhigher 60±110 Hzpower\\nthan CTR group inMED and\\nMED+I MW; trend forhigher\\n60±110 Hzpower than CTR\\ninIMWhigher 60±110 Hzpower\\nthan CTR group,in MED\\nand MED+IMW ;trend for\\nhigher 60±110 Hzpower\\nthan CTR inIMWhigher 60±110 Hzpower than\\nCTR group inMED and MED\\n+IMW; trend forhigher,60 ±110\\nHzpower than CTR inIMW\\nGamma in\\nbreath focuslower 60±110 Hzpower in\\nMED than inbreath focuslower 60±110 Hzpower in\\nMED than inbreath focusnosigni®can tdifference\\nbetween MED and breath\\nfocus\\nAlpha - - higher 7±11 Hzpower during\\nMED and IMW than allother\\ngroups\\ndoi:10.13 71/journal.pone .0170647.t003\\nIncreased Gamma Brainwav eAmplitude Comp ared toControl inThree Different Meditation Traditions\\nPLOS ONE |DOI:10.137 1/journal.po ne.0170 647 January 24,2017 17/27' metadata={'source': '/content/studies/braboszcz 2017.pdf', 'page': 16}\n",
            "page_content=\"their habitual meditation depth. Inaddition, ratings ofthought density during theexperiment\\nwere significantly lower forallgroups ofmeditators after themeditation period than after\\nIMWÐa difference that wasnotfound within thecontrol group. Scores oftheVipassana and\\nIsha shoonya groups were both lower onhindrance items and higher onrelaxation items after\\nthemeditation session compared totheIMW session. Scoring ofthecontrol group onthe\\nrelaxation and hindrance items didnotdiffer between IMW and meditation.\\nHowever, theHimalayan yoga group might have experienced more difficulties than other\\nmeditator groups inestablishing ameditative state within thelaboratory environment: onthe\\npsychometric questionnaire, Himalayan yoga participants scores were higher onthehindrance\\nitems and lower ontherelaxation items after themeditation than after theinstructed mind-\\nwandering session. Post-hoc analysis ofthetwospecific hindrance items assessing drowsiness\\nand mind-wandering supports thishypothesis: Himalayan yoga meditators scored higher on\\nboth these items after meditation than after instructed mind-wandering while within themed-\\nitation session they scored higher than allother groups ofmeditators and controls.\\nGamma activity asatraiteffect ofmeditation\\nOur study demonstrates anincrease inhigh-gamma 60±110 Hzassociated with meditation\\nexpertise. High-gamma 60to110Hzpower effect wasfound during meditation inthethree\\nmeditator groups compared tothecontrol group butfailed toreach significance when assess-\\ningtheinstructed mind-wandering state activity across orwithin groups. Specifically, compar-\\nisons between instructed mind-wandering and meditation periods within groups indicated\\ntrends butnospecific state effects inthehigh gamma range foranyofthegroups. Compari-\\nsons between instructed mind-wandering periods across groups also showed atrend towards\\nincreased high gamma power over parieto-occipital electrodes inthemeditator groups. The\\nfactthat these trends were observed, and that when grouping themeditation and instructed\\nmind-wandering states wedidobserve asignificant difference between meditators and con-\\ntrols, suggest that weareinthepresence ofatrue trait effect.\\nGenerally, ourresults areconsistent with alimited number ofprevious studies demonstrat-\\ninganenhanced 25±45 Hzgamma power inlong-term practitioners. Higher occipital 35±45\\nHzgamma activity waspreviously observed asaspecific state effect inVipassana meditators\\nwhile meditating compared toacontrol condition ofinstructed mind-wandering similar to\\ntheoneweused [17]. Another recent report showed that Vipassana/open awareness practi-\\ntioners exhibited increased posterior 25±45 Hzgamma activity asboth atrait and state effect\\nofmeditation [18]. Tibetan Buddhist meditators practicing non-referential compassion medi-\\ntation also showed increased 25±42 Hzgamma power compared tocontrol subjects asboth a\\ntrait and state effect [16]. Increased gamma power (25±40 Hz) over parieto-occipital areas was\\nalso found inTibetan Buddhist meditators asameditation trait effect during NREM sleep\\n[19]. Finally, both Ferrarelli etal.[19] and Hauswald etal.[20] report positive correlations\\nbetween gamma power and thelength oflifetime meditation, with Hauswald etal.'sresults\\nincluding thehigh gamma range (>60 Hz) [20].\\nAsstated intheIntroduction ofthispaper, there isasofyetnoclear understanding ofthe\\nfunctional role ofEEG gamma activity intheliterature. Physiological studies support the\\nhypothesis ofarole of30to100Hzgamma synchronization infacilitating theneuronal com-\\nmunication underlying conscious awareness inameaningful way [22, 24]. Although frequently\\nthought tobefiltered outbyskull and scalp tissues [55], high frequency gamma activity\\nrecorded onthescalp hasbeen related toenhanced top-down control invision [56], with\\nstrongest gamma power preceding fastest reaction time, and audition [57]. Inaddition, amag-\\nneto-encephalographic study reports arole ofgamma>55 Hzinvisual object coding (binding\\nIncreased Gamma Brainwav eAmplitude Comp ared toControl inThree Different Meditation Traditions\\nPLOS ONE |DOI:10.137 1/journal.po ne.0170 647 January 24,2017 18/27\" metadata={'source': '/content/studies/braboszcz 2017.pdf', 'page': 17}\n",
            "page_content=\"process) [58] and intracranial recording ofEEG from theventral occipito-temporal cortex also\\nreported increased high frequency broadband gamma power related toselective attention [59].\\nInthelight ofthisliterature, wesuggest that thetrait parieto-occipital increase inhigh\\ngamma weobserve inmeditators isamarker ofanoverall attentive state, theparietal cortex\\nbeing associated with thefocus ofattention onagiven object [60]. Furthermore, given thepos-\\nitive correlation observed between thelength oflifetime practice ofmeditation and thehigh\\ngamma power over parieto-occipital electrodes, wespeculate that changes inmeditators' atten-\\ntion isduetoneuroplasticity induced bytheir repeated practice ofmeditation.\\nSupporting thishypothesis wefound atrait increase inthegamma over lower frequencies\\nratio, that isrelated toselective attention [61], when comparing theHimalayan yoga group to\\nthecontrol group both during meditation and instructed mind-wandering. This result wasnot\\nfound when comparing theVipassana ortheIsha yoga groups tothecontrols butnosignifi-\\ncant difference wasobserved either between theHimalayan yoga group and thethese two\\ngroups, suggesting that thetrait increase ingamma over lower frequencies ratio might stillbe\\npresent buttoalesser extent inVipassana and Isha yoga practitioners.\\nHigher gamma synchronization infrontal areas wasalso found inallmeditator groups rela-\\ntivetothecontrol group during meditation. Ofnote, thiseffect observed over frontal elec-\\ntrodes observed only inpost-hoc testmay notbeasrobust astheeffect observed over parieto-\\noccipital electrodes. Increased synchronization offrontal high gamma activation hasbeen\\nreported inlink with increased top-down control using intracranial EEG and magnetoenceph-\\nalography [62, 63]. Phase coupling inthegamma range between frontal and parieto-occipital\\nareas hasalso been linked with maintenance ofvisual images within working memory [64].\\nThe gamma activity observed inthefrontal areas ofmeditators relative tonon-meditators\\nmight thus berelated tomore top-down control ofattention, mediated byfrontal cortical\\nengagement and/or engagement ofworking memory processes. This top-down control may be\\nexerted inorder toredirect theattention towards themeditation task (for example incase of\\nmind-wandering episodes) and toexert meta-cognitive processes intheobservation ofdis-\\ntracting internal (thoughts outside ofpresent moment awareness) and external (discomfort,\\npain) stimuli. Working memory might also beparticularly engaged inHimalayan yoga medita-\\ntion which emphasizes tofocus onthemental repetition ofamantra and onthebreath and in\\nVipassana meditation which requires paying sequentially attention tosomatosensory sensa-\\ntions onthebody, while also holding attention onthebreath. ForIsha shoonya meditation\\nhowever, itisunclear what type ofobject isfedtotheattentional system since theexplicit\\nfocus isonªnothingnessº. Note that Isha meditators aretheonly group inwhich wefound\\nhigher gamma power over frontal along with parieto-occipital electrodes asatrait effect and\\nthismight reflect different engagement ofattentional processes inIsha meditation compared\\ntoVipassana and Himalayan yoga meditation.\\nFinally, fortheHimalayan yoga and Isha shoonya groups weobserved increased high-\\ngamma power during thebreath focus period than during meditationÐa difference that was\\nnotfound within theVipassana group. InVipassana meditation, breath focus isaprominent\\npart ofthepractice and itmight have required more attentional effort fortheHimalayan yoga\\nand Isha shoonya group topractice awareness ofthebreath, which could explain that we\\nfound higher gamma power inbreath focus than inmeditation inthese twogroups.\\nGamma activity related toartifactual activity\\nGamma activity inthe30to90Hzrange hasbeen associated with eyetremors and microsac-\\ncades inaddition tothewell-known association with scalp and temporal muscles activity, thus\\nrendering suspicious gamma findings inEEG studies [53, 65]. Gamma activity induced by\\nIncreased Gamma Brainwav eAmplitude Comp ared toControl inThree Different Meditation Traditions\\nPLOS ONE |DOI:10.137 1/journal.po ne.0170 647 January 24,2017 19/27\" metadata={'source': '/content/studies/braboszcz 2017.pdf', 'page': 18}\n",
            "page_content=\"microsaccades ismost prominent when using thenose asanelectrical reference whereas here\\nweused themastoid asareference, which islesslikely tobecontaminated bymicrosaccades.\\nInthisreport, wehave also analyzed theICA components associated with eyes and scalp mus-\\nclesartifacts toassess thepossibility that theobserved gamma power differences may bespuri-\\nous. Nodifference wasobserved between meditators and controls intheeyemovement or\\ntemporal muscles independent components' activity. Itsuggests that thehigher gamma ampli-\\ntude recorded inthemeditator groups ismost likely related todifferences incortical activation\\ninthegamma frequency range. Forthetemporal muscles' activity, nocorrelation wasfound\\nwith theactivity within thegamma range ofinterest. However, wedidfind apositive correla-\\ntion between the60±110 Hzactivity intheindependent components corresponding toeye\\nrelated activity and thegamma frequency range ofinterest. Wethink thishastobeputinper-\\nspective with thefactthat wedidnotfind acorrelation between thisIC60±110 Hzactivity and\\nthelength ofmeditation experience, while wedidfind such acorrelation when using the60±\\n110HzEEG activity. While itispossible that removal oftheICscorresponding totheeye\\nrelated activity didnotcompletely filtered outthisartifactual activity from theEEG webelieve\\nthat oursignal remains mostly composed ofgenuine neuronal sources. Aswehave based our\\nartifactual ICanalysis using only ICsthat unequivocally evoked muscle orocular activity, we\\neliminated from thedata ICscorresponding tospecific groups ofmuscles. More work is\\nneeded toclearly identify ICsthat would correspond toastate ofgeneral muscle tension soas\\ntomake sure theEEG isnotcontaminated atallbymuscle artifacts, however thisisbeyond the\\nscope ofthisarticle. Wedidnotcontrol forneck muscles activity and itcould beargue that\\nthese muscles areresponsible fortheobserved high gamma activity inmeditators. Neck mus-\\nclesactivity israrely removed from EEG data asitwould require having specific electrodes on\\ntheneck area, and asotherwise itisnotpossible toisolate neck muscle artifacts. Inaddition, if\\nweassume that neck muscles areresponsible forthegamma effect weobserve, wewould\\nexpect that thisactivity would belarger forcontrols than formeditators. This isbecause medi-\\ntators areable toremain perfectly immobile during therecording session, with minimal pos-\\nture adjustment. Akeyprinciple ofmeditation isthat stillness ofthemind requires stillness of\\nthebody. Bycontrast control subjects might have hadaharder time tomaintain their posture,\\nrequiring more adjustment and therefore more muscle activity. However, weobserved the\\nopposite inourdata with more high frequency activity being associated with meditation.\\nAnother related possible confounding factor comes from thefactthat, toperform theexper-\\niment, control participants satonachair more often and were generally adopting alesstonic\\nposture than meditators. Itisthen possible that atonic posture ispossibly more arousing and\\ntherefore leading toenhanced EEG fastfrequencies inmeditators. Inourstudy 14ofthecon-\\ntrols satonachair aswell as2oftheHimalayan yoga, 8oftheIsha shoonya and 4oftheVipas-\\nsana participants. The Himalayan yoga group who satthemost ontheground does notshow\\nhigher gamma power than theIsha shoonya group (inwhich half participants satonachair)\\northeVipassana group (inwhich 1/4ofparticipants satonachair). While such posture effect\\nshould bemore thoroughly investigated, ourstudy does notsupport thehypothesis that the\\nresults weobserved inthegamma band areprimarily duetosubjects' posture.\\nAlpha activity\\nWehave found atrait related increase inamplitude inthe7±11 Hzalpha frequency band that\\nwasspecific totheVipassana group relative toallother meditator and control groups.\\nToourknowledge, there isnoprevious study showing increased alpha frequency amplitude\\ninVipassana meditators relative tomeditators ofother traditions (for arecent review see[66]).\\nThe litterature reviewed in[15] reports increased ofalpha amplitude inavariety ofmeditation\\nIncreased Gamma Brainwav eAmplitude Comp ared toControl inThree Different Meditation Traditions\\nPLOS ONE |DOI:10.137 1/journal.po ne.0170 647 January 24,2017 20/27\" metadata={'source': '/content/studies/braboszcz 2017.pdf', 'page': 19}\n",
            "page_content='practices (ie.Transcendental Meditation, Zen, Sahaja Yoga, etc.) when compared tocontrol\\nstates. However none ofthese studies included Vipassana meditators.\\nResearch shows that increases inalpha power aregenerally notreliable markers ofmedita-\\ntivestates [17]. Inlinewith previous findings [17], nosignificant differences were found\\nbetween alpha amplitude during meditation and thecontrol mind-wandering task inthe\\nVipassana group. The observed state-related decrease inhigh alpha (10±11 Hz) power inthe\\nHimalayan yoga group isdiscussed further below.\\nIncreases ofalpha power have been observed intasks requiring theredirection ofattention\\ntowards internal objectsÐfor example when subjects areasked toimagine astimulusÐsup-\\nporting thehypothesis that alpha power inhibits irrelevant sensory inputs [67]. More recently,\\nmodulation ofthealpha rhythm hasbeen shown toplay apart inselective attention processes\\nbyregulating thalamocortical sensory transmission [68] and thus participating infunctional\\ninhibition [69, 70].\\nArecent model proposes that through thetraining oflocalized mindful attention tosomatic\\nsensations, mindfulness meditators learn tocontrol alpha oscillations soastosuppress irrele-\\nvant sensory input inatop-down fashion [71]. Thus, theglobal increase ofalpha amplitude\\nobserved inVipassana meditators only may berelated tothespecificity ofameditation style\\nthat starts with asomatically focused mindful attention before moving towards mindful open\\nmonitoring. Based onthismodel, wehypothesize that trait changes inalpha amplitude in\\nVipassana meditators may beduetotheir practice ofembodied mindfulness which may\\nincrease internalized focus and increase gating ofdistracting stimuli. Inhibiting irrelevant\\nsensory inputs might notbeasimportant intheother assayed meditation traditions, where\\nattending selectively tosome types ofendogenous sensory stimuli totheexclusion ofothers is\\nnotascentral tothepractice.\\nOur results show higher alpha power atallelectrode sites intheVipassana group compared\\ntoallother groups during meditation while during instructed mind-wandering, alpha power\\nintheVipassana group wasgreater atallelectrode sites relative toHimalayan yoga butonly at\\nfrontal and central sites relative tocontrols and Isha shoonya meditators. Anhypothesis isthat\\nboth Himalayan yoga and Vipassana practitioners who have significantly more hours ofmedi-\\ntation experience than Isha shoonya practitioners and controls, display meditation trait effects\\ninthealpha frequency range, with Vipassana practitioners having enhanced inhibitory mecha-\\nnisms throughout thebrain and Himalayan yoga practitioners having constantly lessactiva-\\ntion ofthese mechanisms (which may beduetotrying tohold their mantra intheir mind). By\\ncontrast, itispossible that during theinstructed mind-wandering session control participants\\nand Isha shoonya meditators used ahigher degree ofinhibitory mechanisms tofocus ontheir\\nthoughts, thus reaching alevel ofalpha activation equivalent toVipassana.\\nMeditation state andtraiteffects\\nNomeditation state effects were found. Assuch, ourstudy contrasts with other EEG studies\\nfinding state effects intheEEG power spectrum invarious meditation practices [16±18, 72]. An\\nexplanation forthisresult might beimportant subject variability during theinstructed mind-\\nwandering task. Many other published studies used ªrestº asacontrol state (see forexample\\n[16, 18,36,72,73]). Weattempted tousetheinstructed mind-wandering task asacontrol state\\ninorder todecrease variability during thecontrol state butitispossible that thisisnotaneffec-\\ntivemethod todoso.Our control task could have recruited similar brain mechanisms tomoni-\\ntormental activity asdidthemeditation task. Infact, although spontaneous mind-wandering\\nhasbeen reported aslinked todefault-mode network (DMN) activation [74±77] while medita-\\ntion isassociated with DMN deactivation [78, 79], explicitely instructing participants tomind-\\nIncreased Gamma Brainwav eAmplitude Comp ared toControl inThree Different Meditation Traditions\\nPLOS ONE |DOI:10.137 1/journal.po ne.0170 647 January 24,2017 21/27' metadata={'source': '/content/studies/braboszcz 2017.pdf', 'page': 20}\n",
            "page_content=\"wander through their autobiographical memory islikely torequire conscious monitoring of\\none's own mental activity, involving thesame cognitive control networks asinmeditation [78].\\nThe difference might lieintheinternal attitude subjects adopt towards thoughts: during medi-\\ntation theparticipants areattempting tofocus their awareness away from mind-wandering and\\nautobiographical thoughts, towards thepresent moment awareness ofthemeditative object.\\nDuring theinstructed mind-wandering they areexplicitly told tolettheir mind freely wander\\nthrough their memories and autobiographical thoughts ofthepast. Itislikely that during the\\ninstructed mind-wandering task some ofourmeditators kept asimilar non judgmental attitude\\ntowards their experiences that they have when meditating. Another issue isthat during medita-\\ntion, even forexperienced meditators, mind-wandering cannot beavoided. Itisthus likely that\\nsome ofourmeditators hadepisodes ofmind wandering during themeditation task and that\\nsome hadepisodes ofmeditation during themind-wandering task.\\nHowever, wearereporting ameditation trait effect inthehigh gamma 60±110 Hzfre-\\nquency range over theparieto-occipital electrodes inallthethree types ofmeditation westud-\\niedhere. Inaddition, atrait effect inthealpha 7±11 Hzrange isobserved over allthescalp\\nelectrodes intheVipassana group.\\nInfurther support forameditation trait effect onthegamma frequency band, comparison\\nbetween themeditation and breath focus periods reveal that fortheVipassana group theglobal\\nincrease ofhigh-gamma power ispresent also inthebreath focus practice. However, inthe\\nIsha shoonya and Himalayan yoga groups there wasastate effect with decreased gamma fre-\\nquencies amplitude during meditationÐsugge sting that different processes areinvolved in\\nHimalayan yoga and Isha shoonya groups inthepractice ofbreath focus compared totheir\\nspecific meditation styles, adifference that may belesspresent intheVipassana group.\\nWethus observed more significant trait effects than state effects between themeditator\\ngroups when comparing themeditative and instructed mind-wandering states and when com-\\nparing thebreath focus and meditation practices, atleast fortheVipassana group. Showing\\nthat different meditation traditions share common neural correlates isimportant because it\\nindicates that theclinical benefits ofthese practices [1,80]could besimilar. Further research\\nwillbenecessary toinvestigate thishypothesis.\\nLimitations ofthestudy\\nOur study involved self-selection oftheparticipants and only collected data atonepoint in\\ntime. Longitudinal studies ofmeditative practice with random selection oftheparticipants\\ntraining inmeditation would beuseful inthedelineation ofthelikely complicated interplay of\\nneurophysiological state and trait effects asthey sequentially engage over thecourse ofmedita-\\ntivetraining. Such studies could also help unravel individual differences inthepre-meditation\\ntraining baseline that caninfluence thedevelopment oftrait and state effects ofmeditation.\\nOne could also argue that ourresults might have been influenced bythefactthat during the\\nmeditation condition, thecontrol participants did2times 10minutes ofthesame breath focus\\ntask whereas themeditators did10minutes ofbreath focus and then 10minutes ofanew task\\ninform oftheir specific meditation practice. However, asbreath focus ispart ofthemeditation\\ntraining forallthree groups ofmeditators wedonotthink theswitch towards performing the\\nactual meditation practice could have been seen asstarting anew fresh task that could have\\nbiased ourresults.\\nConclusion\\nWehave provided evidence that daily meditation practice iscorrelated toboth state and trait\\nchanges intheobserved amplitude ofbrain electrical oscillations ofthree different meditation\\nIncreased Gamma Brainwav eAmplitude Comp ared toControl inThree Different Meditation Traditions\\nPLOS ONE |DOI:10.137 1/journal.po ne.0170 647 January 24,2017 22/27\" metadata={'source': '/content/studies/braboszcz 2017.pdf', 'page': 21}\n",
            "page_content='practices. These changes doappear tovary across meditative techniques butoneshared feature\\nappears tobeenhanced gamma power intheparieto-occipital area. Inaddition, onespecific\\nfinding that seems tobeunique amongst these three groups ofmeditative practice isthe\\nenhanced alpha power seen asatrait effect inVipassana practitioners relative tocontrol sub-\\njects, Isha shoonya yoga and Himalayan yoga tradition practitioners. Further EEG studies of\\nmeditation should favour comparative designs tohelp move forward ourunderstanding ofthe\\nneuronal basis ofmeditation practice.\\nAcknowledgmen ts\\nWearegrateful totheMeditation Research Institute and theSwami Rama Sadhaka Grama\\nashram inRishikesh (SRSG), India fortheuseoftheir facilities and wewish tothank thelate\\nSwami Veda Bharati forhiscontinued support and forhelping torecruit Himalayan Yoga Tra-\\ndition meditators. Wealso would liketoacknowledge laboratory assistants Mina Bhatt, Pooja\\nBadoni, Vinthia Wirantana, and SteÂphanie Pornin forassisting with thedata acquisition. We\\nalso thank Bhavani Balakrishnan forhelping with therecruitment oftheIsha practitioners\\nthroughout India. Wethank Swami Aman, Mr.Ajay Khatri, Mr.Sharma, and Dr.Ravindra\\nPattanashetty fortheir help inrecruiting Vipassana practitioners and Tracy Brandmeyer for\\nherhelp inproofreading anearlier version ofthemanuscript.\\nAuthor Contributions\\nConceptualization: ADBRC CB.\\nData curation: CB.\\nFormal analysis: CBAD.\\nFunding acquisition: ADCBBRC.\\nInvestigation: CBJLMF.\\nMethodology: CBAD.\\nProject administration: ADCBMF.\\nResources: AD.\\nSoftware: AD.\\nSupervision: ADBRC.\\nValidation: CBAD.\\nVisualization: CBAD.\\nWriting ±original draft: CBBRC AD.\\nWriting ±review &editing: CBAD.\\nReferences\\n1. Braboszcz C,Hahusse auS,Delorme A.Meditation andNeuroscience: from basic research toclinical\\npractice. In:Carlstedt RA,editor. Handbook ofIntegra tiveClinical Psychology, Psychiatry, andBehav-\\nioral Medicine: Perspective s,Practices, andResearch. Springer Publishing CoInc;2010. p.1910±\\n1929.\\n2. Ludwig DS.andKabat-Z innJMindfulne ssinMedicine. JAMA. 2008; 300(11 ):1350±1352 .doi:10.1001 /\\njama.300 .11.1350 PMID: 18799450\\nIncreased Gamma Brainwav eAmplitude Comp ared toControl inThree Different Meditation Traditions\\nPLOS ONE |DOI:10.137 1/journal.po ne.0170 647 January 24,2017 23/27' metadata={'source': '/content/studies/braboszcz 2017.pdf', 'page': 22}\n",
            "page_content=\"3. Segal ZV,Bieling P,Young T,MacQueen G,Cooke R,Martin L,etal.Antidepress antMonother apyvs\\nSequential Pharma cotherapy andMindfulnes s-Based Cognitive Therap y,orPlacebo, forRelapse Pro-\\nphylaxis inRecurren tDepression. Archives ofGeneral Psychiatry. 2010; 67(12):125 6±1264. doi:10.\\n1001/arc hgenpsychia try.2010.1 68PMID: 21135325\\n4. Slagter HA,Lutz A,Greisch arLL,Francis AD,Nieuwenhuis S,Davis JM,etal.Mental Training Affects\\nDistribution ofLimited Brain Resou rces. PLoS Biology .2007; 5(6):e138. doi:10.1371 /journal.pbio .\\n0050138 PMID: 17488185\\n5. Wenk-S ormaz H.Meditation canreduce habitual responding. Alternativ eTherapies inHealth andMedi-\\ncine. 2005; 11(2):42±5 9.PMID: 158194 48\\n6. Tang YY,MaY,Wang J,Fan Y,Feng S,LuQ,etal.Short-term meditation training improves attention\\nandself-regulatio n.Proceedings oftheNational Academy ofSciences. 2007; 104(43):17 152±17 156.\\ndoi:10.1073 /pnas.0707 678104 PMID: 17940025\\n7. Baijal S,JhaA,Kiyonag aA,Singh R,Srinivas anN.The Influence ofConcentrati veMeditation Training\\nontheDevelopm entofAttentio nNetworks during Early Adolesce nce. Frontiers inPsychology .2011;\\n2:153. doi:10.3389/fps yg.2011.0 0153 PMID: 21808627\\n8. Brefczynsk i-Lewis JA,Lutz A,Schaefer HS,Levinson DB,Davidson RJ.Neural correlates ofattentional\\nexpertise inlong-term meditation practitioners .Proceedings oftheNational Academy ofSciences.\\n2007; 104(27):11 483±11 488. doi:10.1073/ pnas.0606552 104PMID: 17596341\\n9. Orme-Johns onDW, Schneider RH, Son YD,Nidich S,Cho ZH.Neuroimag ingofmeditation 'seffect on\\nbrain reactivity topain. NeuroRep ort.2006; 17(12):135 9±1363. doi:10.1097/01.w nr.00002330 94.\\n67289.a8 PMID: 16951585\\n10. Luders E,Phillips OR, Clark K,Kurth F,Toga AW, Narr KL.Bridging thehemispher esinmeditation :\\nThicker callosal regions andenhanced fractiona lanisotropy (FA) inlong-te rmpractitioners .Neuro-\\nImage. 2012; 61(1):181± 187. doi:10.1016/j.neur oimage.2 012.02.0 26PMID: 22374478\\n11. Pagnoni G,Cekic M.Age effects ongray matter volume andattention alperform ance inZen meditation.\\nNeurobi ology ofAging. 2007; 28(10):16 23±1627. doi:10.1016/ j.neurobiola ging.2007.06.0 08PMID:\\n17655980\\n12. Hoelzel BK,Carmody J,Vangel M,Congleton C,Yerramset tiSM, Gard T,etal.Mindfulne sspractice\\nleads toincreases inregional brain gray matter density. Psychiatry Resea rch:Neuroimag ing.2011; 191\\n(1):36±43. doi:10.1016 /j.pscychres ns.2010.0 8.006 PMID: 2107118 2\\n13. FoxKCR, Nijeboer S,Dixon ML,Floman JL,Ellamil M,Rumak SP,etal.Ismeditation associated with\\naltered brain structure? Asystematic review andmeta-analy sisofmorpho metric neuroimaging inmedi-\\ntation practitio ners. Neuroscienc e&Biobehavior alReviews. 2014; 43:48±7 3.doi:10.1016/ j.neubiorev.\\n2014.03. 016PMID: 24705269\\n14. Lutz A,Brefczynski-L ewis J,Johnstone T,Davidson RJ.Regulation oftheNeural Circuitry ofEmotion\\nbyComp assion Meditation :Effects ofMeditative Expertise. PLoS ONE. 2008; 3(3):e1897 .doi:10.\\n1371/journa l.pone.0 001897 PMID: 1836502 9\\n15. Cahn BR,Polich J.Meditation states andtraits: EEG, ERP, andneuroimag ingstudies. Psychologi cal\\nBulletin. 2006; 132(2):180 ±211. doi:10.1037/0 033-2909.13 2.2.180 PMID: 16536641\\n16. Lutz A,Greischar LL,Rawlings NB,Ricard M,Davidson RJ.Long-term meditator sself-ind ucehigh-\\namplitude gamma synchrony during mental practice. Proceedings oftheNational Academy ofSci-\\nences. 2004; 101(46):16 369±16 373. doi:10.1073/ pnas.0407401 101PMID: 15534199\\n17. Cahn BR,Delorme A,Polich J.Occipital gamma activation during Vipassana meditation .Cognitive Pro-\\ncessing. 2009; 11(1):39±5 6.doi:10.1007/s 10339-009- 0352-1 PMID: 20013298\\n18. Berkovich -Ohana A,Glicksohn J,Goldstein A.Mindfulne ss-induced changes ingamma band activity Ð\\nImplications forthedefault mode network, self-reference andattention .Clinical Neuroph ysiology. 2012;\\n123(4):700 ±710. doi:10.1016 /j.clinph.2 011.07.048 PMID: 21940201\\n19. Ferrarelli F,Smith R,Dentico D,Riedner BA,Zennig C,Benca RM, etal.Experien cedMindfulne ss\\nMeditator sExhibit Higher Parietal-Oc cipital EEG Gamma Activity during NREM Sleep. PLoS ONE.\\n2013; 8(8):e7341 7.doi:10.1371/jour nal.pone. 0073417 PMID: 24015304\\n20. Hauswal dA,UÈbelacker T,Leske S,Weisz N.What itmeans tobeZen: Marked modulatio nsoflocal\\nandinterareal synchronizat ionduring open monitoring meditation .NeuroImage .2015; 108:265±273.\\ndoi:10.1016 /j.neuroimage.2 014.12.0 65PMID: 255628 27\\n21. Gaillard R,Dehaene S,Adam C,CleÂmenceau S,Hasboun D,Baulac M,etal.Convergin gIntracranial\\nMarkers ofConscious Access. PLoS Biology .2009; 7(3):e1000 061. doi:10.1371 /journal.pbio .100006 1\\nPMID: 192967 22\\n22. Varela F,Lachaux JP,Rodrigu ezE,Martiner ieJ.The brainwe b:Phase synchronizati onandlarge-sc ale\\nintegration. Nature Reviews Neuroscienc e.2001; 2(4):229±2 39.doi:10.1038 /35067550 PMID:\\n11283746\\nIncreased Gamma Brainwav eAmplitude Comp ared toControl inThree Different Meditation Traditions\\nPLOS ONE |DOI:10.137 1/journal.po ne.0170 647 January 24,2017 24/27\" metadata={'source': '/content/studies/braboszcz 2017.pdf', 'page': 23}\n",
            "page_content=\"23. Salinas E,Sejnowsk iTJ.Correla tedneuronal activity andtheflow ofneural informati on.Nature\\nReviews Neuroscienc e.2001; 2(8):539±5 50.doi:10.1038 /35086012 PMID: 11483997\\n24. Fries P.Amechanis mforcognitive dynamics :neuronal communica tionthrough neuronal coherenc e.\\nTrends inCognitiv eSciences. 2005; 9(10):474± 480. doi:10.1016/j.tic s.2005.08 .011 PMID: 16150631\\n25. Lachaux JP,George N,Tallon-Bau dryC,Martinerie J,Hugueville L,Minotti L,etal.The many faces of\\nthegamma band response tocomplex visual stimuli. NeuroImage .2005; 25(2):491± 501. doi:10.1016 /j.\\nneuroimage .2004.11.052 PMID: 15784428\\n26. Jokisch D,Jensen O.Modulatio nofGamma andAlpha Activity during aWorking Memory Task Engag-\\ningtheDorsal orVentral Stream. Journal ofNeuroscience. 2007; 27(12):324 4±3251. doi:10.1523 /\\nJNEUROS CI.5399-0 6.2007 PMID: 173769 84\\n27. Tallon-Bau dryC.Attention Modulate sGamma-band Oscillati onsDifferently intheHuman Lateral\\nOccipital Cortex andFusiform Gyrus. Cerebra lCortex .2004; 15(5):654± 662. doi:10.1093 /cercor/\\nbhh167 PMID: 153712 90\\n28. Landau AN,Esterman M,Robertson LC,Bentin S,Prinzmeta lW.Different Effects ofVoluntary and\\nInvoluntar yAttention onEEG Activity intheGamma Band. Journal ofNeuroscience .2007; 27\\n(44):11986 ±11990. doi:10.1523/J NEUROSC I.3092-07.200 7PMID: 17978039\\n29. Xing D,Shen Y,Burns S,Yeh CI,Shapley R,LiW.Stochastic Generation ofGamma-Band Activity in\\nPrimary Visual Cortex ofAwake andAnesthetize dMonkeys .Journal ofNeuroscienc e.2012; 32\\n(40):13873 ±13880a. doi:10.1523/J NEUROSC I.5644-11.201 2PMID: 23035096\\n30. Buzsa ÂkiG,Wang XJ.Mechanism sofGamma Oscillations .Annual Review ofNeuroscience. 2012; 35\\n(1):203±22 5.doi:10.1146 /annurev-neu ro-062111 -150444 PMID: 22443509\\n31. Logothet isNK,Pauls J,Augath M,Trinath T,Oeltermann A.Neuroph ysiological investigatio nofthe\\nbasis ofthefMRI signal. Nature. 2001; 412(6843) :150±157. doi:10.1038/35084 005PMID: 11449264\\n32. Conner CR, Ellmore TM, Pieters TA,DiSano MA, Tandon N.Variability oftheRelationshi pbetween\\nElectrophy siology andBOLD-fMRI across Cortical Regions inHumans. Journal ofNeuroscienc e.2011;\\n31(36):128 55±12865. doi:10.1523/J NEUROSC I.1457-11.201 1PMID: 21900564\\n33. Lutz A,Dunne JD,Davidso nRJ.Meditation andtheneuroscie nceofconsciou sness: Anintroduction.\\nThe Cambridge handbo okofconscious ness. 2007; 19:497±549. doi:10.1017/CB O97805118 16789.\\n020\\n34. Lutz A,Slagter HA,Dunne JD,Davidson RJ.Attentio nregulation andmonitorin ginmeditation .Trends\\ninCognitive Sciences. 2008; 12(4):163± 169. doi:10.1016/ j.tics.2008.01 .005 PMID: 18329323\\n35. Cahn BR,Polich J.Meditation (Vipassa na)andtheP3a event-re lated brain potentia l.International Jour-\\nnalofPsychophy siology. 2009; 72(1):51±6 0.doi:10.1016 /j.ijpsycho.200 8.03.013 PMID: 18845193\\n36. Aftanas LI,Golocheik ineSA.Human anterior andfrontal midline theta andlower alpha reflect emotion-\\nallypositive state andinternalized attention :high-resolu tionEEG investigatio nofmeditation .Neurosci-\\nence Letters. 2001; 310(1):57± 60.PMID: 11524157\\n37. Takahashi T,Murata T,Hama daT,Omori M,Kosaka H,Kikuchi M,etal.Changes inEEG andauto-\\nnomic nervous activity during meditation andtheir association with personality traits. International Jour-\\nnalofPsychophy siology. 2005; 55(2):199± 207. doi:10.1016 /j.ijpsycho.200 4.07.004 PMID: 15649551\\n38. Baijal S,Srinivasan N.Theta activity andmeditative states: spectral changes during concentra tivemed-\\nitation. Cognitiv eProcessing. 2009; 11(1):31±3 8.doi:10.1007 /s10339-009- 0272-0 PMID: 196263 55\\n39. Kerr CE,Jones SR,Wan Q,Pritchett DL,Wasserm anRH, Wexler A,etal.Effects ofmindfulne ssmedi-\\ntation training onanticipato ryalpha modulatio ninprimary somat osensory cortex. Brain Researc hBulle-\\ntin.2011; 85(3±4):96 ±103. doi:10.1016/ j.brainresbu ll.2011.03.02 6PMID: 21501665\\n40. Snyder DN. The complete book ofofBuddha's listsÐexpla ined. Vipassan aFounda tion, LasVegas,\\nNevada, USA; 2009.\\n41. Hart W.The artofliving: Vipassan ameditation astaught byS.N.Goenka .San Francisco: HarperCol -\\nlins; 1987.\\n42. Arya U,Bharati SV.Philosophy ofhatha yoga. Himalay anInternational Institute ofYoga Science and\\nPhilosophy oftheUSA; 1985.\\n43. Bharati SV.Night Birds. Rishikesh: SRSG Publications ;2002.\\n44. Delorme A,Makeig S.EEGLAB: anopen source toolbox foranalysis ofsingle-t rialEEG dynamics\\nincluding indepe ndent component analysis. Journal ofNeuroscience Methods .2004; 134(1):9±2 1.doi:\\n10.1016/ j.jneumeth. 2003.10.009 PMID: 151024 99\\n45. Delorme A,Sejnowski T,Makeig S.Enhan ceddetection ofartifacts inEEG data using higher-or dersta-\\ntistics andindepen dent component analysis. NeuroImage .2007; 34(4):1443 ±1449. doi:10.1016 /j.\\nneuroimage .2006.11.004 PMID: 17188898\\nIncreased Gamma Brainwav eAmplitude Comp ared toControl inThree Different Meditation Traditions\\nPLOS ONE |DOI:10.137 1/journal.po ne.0170 647 January 24,2017 25/27\" metadata={'source': '/content/studies/braboszcz 2017.pdf', 'page': 24}\n",
            "page_content='46. Viola FC,Thorne J,Edmond sB,Schneid erT,Eichele T,Debener S.Semi-a utomatic identificat ionof\\nindependent compone ntsrepresenting EEG artifact. Clinical Neurophysio logy. 2009; 120(5):868 ±877.\\ndoi:10.1016 /j.clinph.2009. 01.015 PMID: 1934561 1\\n47. Piron H.The meditation depth index (MEDI) andthemeditation depth questionn aire(MEDEQ). Journal\\nforMeditation andMeditation Research. 2001; 1(1):69±92 .\\n48. Welch BL.OntheComparison ofSevera lMean Values: AnAlternat iveApproach. Biometr ika.1951; 38\\n(3/4):330. doi:10.2307 /2332579\\n49. Oostenve ldR,Fries P,Maris E,Schoffelen JM.FieldTrip: Open Source Software forAdvanced Analysis\\nofMEG, EEG, andInvasiv eElectrophys iological Data. Computation alIntellig ence andNeurosc ience.\\n2011; 2011:1± 9.doi:10.1155/ 2011/156869 PMID: 212533 57\\n50. Maris E,Oostenve ldR.Nonpara metric statistical testing ofEEG- andMEG-dat a.Journal ofNeurosci-\\nence Methods .2007; 164(1):177 ±190. doi:10.1016/j.jneu meth.2007 .03.024 PMID: 17517438\\n51. Pernet CR, Wilcox R,Rousselet GA. Robust Correlation Analyses: False Positive andPower Validation\\nUsing aNew Open Source Matlab Toolbox. Frontiers inPsychology .2013; 3:606. doi:10.3389/fps yg.\\n2012.00606 PMID: 23335907\\n52. Wickham H.ggplot2 :elegant graphics fordata analysis. Springer New York; 2009. doi:10.1007 /978-0-\\n387-98141- 3\\n53. Yuval-Gre enberg S,Deouell LY.The Broadband -Transient Induced Gamma- Band Response inScalp\\nEEG Reflects theExecution ofSaccades .Brain Topography. 2009; 22(1):3±6. doi:10.1007/ s10548-\\n009-0077- 6PMID: 1923478 1\\n54. Shackman AJ,McMenam inBW, Slagter HA,Maxwell JS,Greisch arLL,Davidson RJ.Electro myogenic\\nArtifacts andElectroenc ephalograp hicInference s.Brain Topography .2009; 22(1):7±12 .doi:10.1007 /\\ns10548-009 -0079-4 PMID: 19214730\\n55. Olson JD,Wander JD,Johnson L,Sarma D,Weaver K,Novotn yEJ,etal.Comparison ofsubdura land\\nsubgale alrecord ings ofcortical high-gamm aactivity inhumans. Clinical Neurophysio logy. 2016; 127\\n(1):277±28 4.doi:10.1016 /j.clinph.2 015.03.014 PMID: 259074 15\\n56. Koch SP,Werner P,Steinb rinkJ,Fries P,Obrig H.Stimulus- Induced andState- Dependent Sustained\\nGamma Activity IsTightly Coupled totheHemody namic Response inHumans .Journal ofNeurosci-\\nence. 2009; 29(44):139 62±13970. doi:10.1523/JNE UROSC I.1402-09.200 9PMID: 198900 06\\n57. Schadow J,Lenz D,Dettler N,FruÈndI,Herrmann CS.Early gamma-ba ndresponse sreflect anticipatory\\ntop-down modulation intheauditory cortex. NeuroImage .2009; 47(2):651± 658. doi:10.1016/ j.\\nneuroimage .2009.04.074 PMID: 19414068\\n58. Kinsey K,Anders onSJ,Hadjipapas A,Holliday IE.The roleofoscillator ybrain activity inobject process-\\ningandfigure±gro undsegmentat ioninhuman vision. International Journal ofPsychophys iology. 2011;\\n79(3):392± 400. doi:10.1016 /j.ijpsycho.201 0.12.007 PMID: 211945 50\\n59. Engell AD,McCarthy G.Selective Attention Modulate sFace-Spec ificInduced Gamma Oscillati ons\\nRecorded from Ventral Occipitote mporal Cortex. Journal ofNeuroscienc e.2010; 30(26):878 0±8786 .\\ndoi:10.1523 /JNEUROS CI.1575-10. 2010 PMID: 20592199\\n60. Colby CL,Goldberg ME. SPACE AND ATTENT ION INPARIETAL CORTE X.Annual Review ofNeuro-\\nscience. 1999; 22(1):319± 349. doi:10.1146/ annurev.neur o.22.1.31 9PMID: 10202542\\n61. Fries P.Modulatio nofOscillato ryNeurona lSynchroniz ation bySelective Visual Attentio n.Science.\\n2001; 291(5508) :1560±1 563. doi:10.1126/ science.291.5 508.156 0PMID: 11222864\\n62. Haegens S,Osipova D,Oostenve ldR,Jensen O.Somatosen sory working memory performance in\\nhumans depends onboth engagem entanddisengage ment ofregions inadistributed network. Human\\nBrain Mapping. 2010; 31(1):26±3 5.doi:10.1002 /hbm.2084 2PMID: 19569072\\n63. Ossando ÂnT,Vidal JR,Ciumas C,Jerbi K,Hama meÂCM, Dalal SS,etal.Efficient ªPop-Outº Visual\\nSearch Elicits Sustained Broadband Gamma Activity intheDorsal Attentio nNetwork. The Journal of\\nNeuroscienc e.2012; 32(10):341 4±3421. doi:10.1523/J NEUROSC I.6048-11.201 2PMID: 22399764\\n64. Ewerdwalb esloh JA,Palva S,RoÈslerF,Khader PH.Neural correlate sofmaintaini nggenerated images\\ninvisual working memory .Human Brain Mapping. 2016; 37(12):434 9±4362. doi:10.1002 /hbm.2331 3\\nPMID: 274114 99\\n65. Schwartzm anDJ,Kranczioc hC.Intheblink ofaneye: The contribu tionofmicrosacc adic activity tothe\\ninduced gamm aband response. International Journal ofPsycho physiology. 2011; 79(1):73±8 2.doi:10.\\n1016/j.ijps ycho.2010.1 0.006 PMID: 20971138\\n66. Chiesa A,Malinowsk iP.Mindfulne ss-based approaches: arethey allthesame? Journal ofClinical Psy-\\nchology. 2011; 67(4):404± 424. doi:10.1002/jc lp.20776 PMID: 21254062\\n67. Cooper NR, Croft RJ,Dominey SJJ, Burgess AP,Gruze lierJH.Paradox lost? Exploring theroleof\\nalpha oscillation sduring external lyvs.internally directed attention andtheimplication sforidling and\\nIncreased Gamma Brainwav eAmplitude Comp ared toControl inThree Different Meditation Traditions\\nPLOS ONE |DOI:10.137 1/journal.po ne.0170 647 January 24,2017 26/27' metadata={'source': '/content/studies/braboszcz 2017.pdf', 'page': 25}\n",
            "page_content='inhibition hypotheses .International Journal ofPsych ophysiology .2003; 47(1):65±7 4.doi:10.1016/\\nS0167-876 0(02)0010 7-1PMID: 12543447\\n68. Klimesch W,Sauseng P,Hanslm ayrS.EEG alpha oscillation s:The inhibition±tim inghypothesis. Brain\\nResearch Reviews. 2007; 53(1):63±8 8.doi:10.1016/ j.brainresre v.2006.06 .003 PMID: 16887192\\n69. Thut G.α-Band Electroence phalograph icActivity over Occipital Cortex Indexes Visuospa tialAttention\\nBias andPredict sVisual Target Detecti on.Journal ofNeurosc ience. 2006; 26(37):94 94±9502. doi:10.\\n1523/JNEU ROSCI.0875 -06.2006 PMID: 16971533\\n70. Jensen O,Mazaheri A.Shaping functional architectur ebyoscillator yalpha activity: gating byinhibition.\\nFrontiers inhuman neuroscie nce. 2010; 4:186. doi:10.3389 /fnhum.201 0.00186 PMID: 211197 77\\n71. Kerr CE,Sacchet MD, Lazar SW, Moore CI,Jones SR.Mindfulnes sstarts with thebody: somat osen-\\nsory attention andtop-down modulatio nofcortical alpha rhythms inmindfulnes smeditation .Frontiers in\\nHuman Neuroscienc e.2013; 7:12. doi:10.3389/f nhum.2013. 00012 PMID: 23408771\\n72. Lagopoulos J,XuJ,Rasmuss enI,VikA,Malhi GS, Eliassen CF,etal.Increased Theta andAlpha EEG\\nActivity During Nondirecti veMeditation .The Journal ofAlternative andComplem entary Medicine. 2009;\\n15(11):118 7±1192. doi:10.1089/ac m.2009.01 13PMID: 19922249\\n73. Travis F,Wallace RK.Autono micandEEG Patterns during Eyes-Closed Rest andTranscend ental\\nMeditation (TM) Practice: The Basis foraNeural Model ofTMPractice. Conscio usness andCognition .\\n1999; 8(3):302±3 18.doi:10.1006/c cog.1999. 0403 PMID: 10487785\\n74. Raichle ME, MacLeod AM, Snyder AZ,Powers WJ, Gusnard DA,Shulman GL.Adefault mode ofbrain\\nfunction. Proceedings oftheNational Academy ofSciences. 2001; 98(2):676± 682. doi:10.1073/ pnas.\\n98.2.676\\n75. Mason MF, Norton MI,Horn JDV, Wegner DM, Grafton ST,Macrae CN. Wandering Minds: The Default\\nNetwork andStimulus-I ndependent Though t.Science. 2007; 315(5810) :393±395. doi:10.1126/\\nscience.1131 295PMID: 17234951\\n76. Christoff K,Gordon AM, Smallwood J,Smith R,Schoole rJW. Experienc esampling during fMRI reveals\\ndefault network andexecutiv esystem contributions tomind wanderi ng.Proceedings oftheNational\\nAcademy ofSciences. 2009; 106(21):87 19±8724. doi:10.1073/pnas .0900234106 PMID: 194337 90\\n77. FoxKCR, Spreng RN, Ellamil M,Andrews-Ha nnaJR,Christoff K.The wandering brain: Meta-ana lysis\\noffunctional neuroimaging studies ofmind-wand ering andrelated spontane ousthought processes .\\nNeuroImage .2015; 111:611±621. doi:10.1016/j.neur oimage.2 015.02.03 9PMID: 25725466\\n78. Brewer JA,Worhunsky PD,Gray JR,Tang YY,Weber J,Kober H.Meditation experien ceisassociate d\\nwith differences indefault mode network activity andconnectivity .Proceedings oftheNational Academy\\nofSciences. 2011; 108(50):20 254±20259. doi:10.1073 /pnas.111 2029108 PMID: 221141 93\\n79. Pagnoni G.Dynamica lProperties ofBOLD Activity from theVentral Postero medial Cortex Associated\\nwith Meditation andAttentional Skills. Journal ofNeuroscienc e.2012; 32(15):524 2±5249. doi:10.1523/\\nJNEUROS CI.4135-1 1.2012 PMID: 224965 70\\n80. Goyal M,Singh S,Sibinga EMS, Gould NF,Rowland-S eymour A,Sharma R,etal.Meditation Programs\\nforPsychologi calStress andWell-being. JAMA Internal Medicine. 2014; 174(3):357 .doi:10.1001/\\njamaintern med.2013. 13018 PMID: 24395196\\nIncreased Gamma Brainwav eAmplitude Comp ared toControl inThree Different Meditation Traditions\\nPLOS ONE |DOI:10.137 1/journal.po ne.0170 647 January 24,2017 27/27' metadata={'source': '/content/studies/braboszcz 2017.pdf', 'page': 26}\n",
            "page_content='/BT/CR/CR/CT/D4/D8/CT/CS /C5/CP/D2 /D9/D7/CR/D6/CX/D4/D8\\nWhat it means to be Zen: marked modulations of local and interareal synchro-\\nnization during open monitoring meditation\\nAnne Hauswald, Teresa ¨Ubelacker, Sabine Leske, Nathan Weisz\\nPII: S1053-8119(14)01070-2\\nDOI: doi: 10.1016/j.neuroimage.2014.12.065\\nReference: YNIMG 11887\\nTo appear in: NeuroImage\\nAccepted date: 23 December 2014\\nPlease cite this article as: Hauswald, Anne, ¨Ubelacker, Teresa, Leske, Sabine,\\nWeisz, Nathan, What it means to be Zen: marked modulations of local and inter-areal synchronization during open monitoring meditation, NeuroImage (2015), doi:\\n10.1016/j.neuroimage.2014.12.065\\nThis is a PDF ﬁle of an unedited manuscript that has been accepted for publication.\\nAs a service to our customers we are providing this early version of the manuscript.\\nThe manuscript will undergo copyediting, typesetting, and review of the resulting proofbefore it is published in its ﬁnal form. Please note that during the production process\\nerrors may be discovered which could aﬀect th e content, and all legal disclaimers that\\napply to the journal pertain.' metadata={'source': '/content/studies/hauswald 2015.pdf', 'page': 0}\n",
            "page_content='ACCEPTED MANUSCRIPTACCEPTED MANUSCRIPT\\n1 What  it means  to be Zen:  marked  modulations  of local  and interareal  \\nsynchronization  during  open  monitoring  meditation  \\nShort  title: What  it means  to be Zen. \\n \\nAnne  Hauswalda, Teresa  Übelackerb, Sabine  Leskeb and Nathan  Weisza \\na) Center  for Mind/Brain  Sciences  (CIMeC),  University  of Trento,  via delle  Regole  101, 38060  \\nMattarello  (TN),  Italy  \\nb) Department  of Psychology,  University  of Konstanz,  Universit ätsstr.  10, 78457  Konstanz,  \\nGermany   \\n \\n \\n \\nCorrespondence  address:  \\nDr. Anne  Hauswald  \\nCIMeC  - Center  for Mind/Brain  Sciences  \\nUniversit à degli  Studi  di Trento  \\nVia delle  Regole,  101 \\n38060  Mattarello  (TN)  - Italy \\nTel +39 0461  28 2748  \\nFax +39 0461  88 3066  \\ne-mail Anne.Hauswald@unitn.it  ' metadata={'source': '/content/studies/hauswald 2015.pdf', 'page': 1}\n",
            "page_content='ACCEPTED MANUSCRIPTACCEPTED MANUSCRIPT\\n2 Abstract  \\nExperienced  meditators  are able to voluntarily  modulate  their state of consciousness  and attention.  \\nIn the present  study,  we took advantage  of this ability  and studied  brain  activity  related  to the shift \\nof mental  state.  Electrophysiological  activity,  i.e. EEG,  was recorded  from  11 subjects  with \\nvarying  degrees  of meditation  experience  during  Zen meditation  (a form  of open  monitoring  \\nmeditation)  and during  non-meditation  rest. On a behavioral  level,  mindfulness  scores  were  \\nassessed  using  the Mindfulness  Attention  and Awareness  Scale  (MAAS).  Analysis  of EEG  source  \\npower  revealed  the so far unreported  finding  that MAAS  scores  significantly  correlated  with \\ngamma  power  (30-250 Hz), particularly  high-frequency  gamma  (100-245 Hz), during  meditation.  \\nHigh  levels  of mindfulness  were  related  to increased  high-frequency  gamma,  for example,  in the \\ncingulate  cortex  and somatosensory  cortices.  Further , we analyzed  the relationship  between  \\nconnectivity  during  meditation  and self-reported  mindfulness  (MAAS) . We found  a correlation  \\nbetween  graph  meas ures in the 160-170 Hz range  and MAAS  scores.  Higher  levels  of mindfulness  \\nwere  related  to lower  small  worldedness  as well as global  and local  clustering  in paracentral,  \\ninsular,  and thalamic  regions  during  meditation.  In sum,  the present  study  shows  signi ficant  \\nrelationships  of mindfulness  and brain  activity  during  meditation  indicated  by measures  of \\noscillatory  power  and graph  theoretical  measures.  The most  prominent  effects  occur  in brain  \\nstructures  crucially  involved  in processes  of awareness  and attent ion, which  also show  structural  \\nchanges  in short - and long-term meditators,  suggesting  continuative  alterations  in the meditating  \\nbrain.  Overall,  our study  reveals  strong  changes  in ongoing  oscillatory  activity  as well as \\nconnectivity  patterns  that appear  to be sensitive  to the psychological  state changes  induced  by Zen \\nmeditation.  \\nKeywords:  EEG,  oscillations,  meditation,  mindfulness,  graph  theory,  high-frequency  gamma  \\n ' metadata={'source': '/content/studies/hauswald 2015.pdf', 'page': 2}\n",
            "page_content='ACCEPTED MANUSCRIPTACCEPTED MANUSCRIPT\\n3 1 Introduction  \\nIn recent  years,  the study  of meditation  has become  increasingly  popular  in neuroscience.  In its \\nproficient  form,  meditation  can be understood  as a top-down  modulation  of attention.  According  \\nto Lutz et al. (2008),  two categories  of meditation  styles  can be classified,  depending  on the focus  \\nof attention:  open  monitoring  (OM)  meditation  and focused  attention  (FA)  meditation.  In OM \\nmeditation,  a process  of attention  monitoring  is maintained  without  focusing  on a particular  \\nthought  or object.  During  FA meditation,  attention  is directed  towards  a particular  object,  thought  \\nor proce ss. These  categories  do not represent  mutually  exclusive  processes  but may be \\ndifferentially  engaged  during  long-term meditation  or even  during  a single  meditation  session  \\n(Lutz  et al., 2008;  Travis  and Shear,  2010).  Within  the ancient  tradition  of Zen meditation,  “the \\nmain  aim […] is to remain  constantly  aware  of what  is occurring  in the present  moment  to keep \\nthe mind  in the specific  state in which  the experiential  insight  (satori)  can arise” (Chiesa  and \\nMalinowski,  2011).  This is related  to the concept  of mindfulness,  often  described  as a state of non-\\njudgmental  awareness  towards  the present  moment  (Kabat -Zinn,  2006)  that is maintained  by a \\nprocess  of attention  monitoring  practiced  during  OM meditation.  However,  during  Zen meditation  \\nFA processes  also occur (e.g. Travis  & Shear,  2010).  Independent  of the differences  between  \\nmeditation  styles,  they all lead to a putatively  altered  awareness  state.  There  is, therefore,  growing  \\ninterest  in meditation,  particularly  within  the fields  of attention  and consciousn ess research  (for \\nreviews,  see Fell et al., 2010;  Lutz et al., 2008;  Tassi  & Muzet,  2001).  \\nAs early  as 1966,  a study  by Kasamatsu  and Hirai  looked  into electroencephalographic  (EEG)  \\nchanges  during  Zen meditation.  The authors  reported  alpha  waves  during  meditation  (although  \\nsubjects‟ eyes were  open)  that increased  in amplitude  and decreased  in frequency  with progression  \\nof the meditation  session.  During  the latter  part of the meditation  session,  theta  rhythms  appeared  \\nmainly  in meditators  with many  years  of experience.  Other  studies  found  similar  alpha  and theta  \\neffects  during  meditation  (Novices  in Zen meditation  practice:  Kubota  et al., 2001;  Takahashi  et ' metadata={'source': '/content/studies/hauswald 2015.pdf', 'page': 3}\n",
            "page_content='ACCEPTED MANUSCRIPTACCEPTED MANUSCRIPT\\n4 al., 2005).  Reductions  in beta band  power  have  also been  reported  (FA meditation:  Saggar  et al., \\n2012;  FA and OM meditation:  Hinterberger  et al., 2014)  and suggested  to be related  to minimal  \\nself-awareness  and selflessness  (Dor -Ziderman  et al., 2013).  Influences  of Zen meditation  have  \\nalso been  demonstrated  using  functional  magnetic  resonance  imaging  (fMRI) , showing  increased  \\nblood  oxygen  level -dependent  (BOLD)  response  in the areas  of the default  mode  network  in Zen \\npractitioners,  including  the right  insula,  during  conceptual  processing  (Pagnoni  et al., 2008).  \\nAn impressive  illustration  of the neural  impact  of meditation  can be seen in structural  differences:  \\nfor example,  cortical  thickness  was increased  for Zen meditators,  including  in pain related  regions  \\n(Grant  et al., 2010),  while  age-related  loss of gray matter  was reduced  (Pagnoni  and Cekic,  2007).  \\nIn other  forms  of mindfulness  meditation,  larger  hippocampal  volumes  (Luders  et al., 2009;  \\nLuders  et al., 2013b)  were  found  in long-term meditators,  and increased  gray matter  density  \\n(Hölzel et al., 2011;  Leung  et al., 2013;  Luders  et al., 2013a)  and cortical  thickness  (Kang  et al., \\n2013;  Lazar  et al., 2005)  were  found  in a number  of regions  including  the right  insula,  left inferior  \\ntemporal  gyrus,  right  thalamus,  hippocampus  and the cerebellum.  Further,  differences  in white  \\nmatter  have  also been  reported  after short -term meditation  training  compared  to before  training  \\n(Tang  et al., 2010;  Tang  et al., 2012)  as well as for long-term meditators  compared  to control  \\nparticipants  (Kang  et al., 2013).  For long-term mindfulness  meditators  compared  to control  \\nparticipants, abnormal  cerebral  metabolism  (Fayed  et al., 2013)  and enhanced  structural  \\nconnectivity  have  been  shown  (Luders  et al., 2011).  These  structural  differences  are likely  related  \\nto differences  in functional  connectivity  that can be measured  during  resting  state in meditators  \\n(e.g. fMRI:  FA: Hasenkamp  & Barsalou,  2012;  short -term integrative  body -mind  training:  Xue et \\nal., 2011),  which  presumably  are a consequence  of specific  patterns  of neuronal  activity  during  \\nintensive  meditation  training  (e.g. Lehmann  et al., 2012;  EEG  study  on FA: Saggar  et al., 2012).  \\nLehman  and colleagues  (2012)  investigated  five different  meditation  techniques  and reported  \\nreduced  EEG  connectivity  for Zen meditation,  mainly  in alpha  and beta frequencies  when  ' metadata={'source': '/content/studies/hauswald 2015.pdf', 'page': 4}\n",
            "page_content='ACCEPTED MANUSCRIPTACCEPTED MANUSCRIPT\\n5 compared  to (initial  and final)  rest. Another  study  found  increased  alpha  coherence  during  Zen \\nmeditation  in novices  (Murata  et al., 2004).  For short -term integrative  mind -body  training,  \\nchanges  in EEG  theta  band  networks  have  been  observed,  in particular,  smaller  average  path \\nlength and larger  global  clustering  coefficients  have  been  reported  and interpreted  as enhanced  \\nlocal  specialization  (Xue  et al., 2014).  However,  the available  evidence  is inconsistent,  with some  \\nstudies  reporting  increases  in functional  EEG  connectivity  (Transcendental  meditation:  Hebert  et \\nal., 2005;  Travis  et al., 2010;  Zen novices:  Murata  et al., 2004),  and some  reporting  decreases  \\n(different  meditation  techniques  including  Zen: Lehmann  et al., 2001;  different  techniques,  \\ngamma  band:  Faber  et al., 2004;  mindfulness -meditation:  Berkovich -Ohana  et al., 2013),  and \\nothers  showing  local  specialization  (Xue  et al., 2014).  This topic,  therefore,  requires  further  \\ninvestigation.   \\nGenerally,  meditation  and attentional  processes  have  a close  relationship  that is evide nt in \\ndescriptions  of various  meditation  techniques  (e.g. OM vs. FA), and is further  supported  by \\nseveral  studies  showing  that meditation  training  improves  performance  in tasks  involving  attention  \\n(Hodgins  & Adair,  2010;  Slagter  et al., 2007;  van Leeuwen  et al., 2009).  On a neuronal  level,  \\nattentional  processing  has been  closely  linked  to increased  high-frequency  oscillatory  activity  \\n(Gregoriou  et al., 2009;  Lachaux  et al., 2005).  For example,  studies  have  suggested  that high-\\nfrequency  gamma  oscillations  (> 50 Hz) represent  attentional  mechanisms  of visual  processing  \\nand working  memory  (Jensen  et al., 2007;  Jokisch  & Jensen,  2007).  \\nIn the field of meditation,  recent  research  indicates  a role of lower  gamma  activity  in processes  \\ninvolved  in various  meditation  states  and techniques  (Berkovich -Ohana  et al., 2012,  2013;  Cahn  et \\nal., 2013;  Hinterberger  et al., 2014;  Lehmann  et al., 2001;  for a review  see: Cahn  & Polich,  2006;  \\nFell et al., 2010;  Lutz et al., 2004).  However,  high-frequency  gamma  was not investigated  in these  \\nstudies  and, therefore,  it remains  unclear  whether  modulations  in high-frequency  gamma  activity  ' metadata={'source': '/content/studies/hauswald 2015.pdf', 'page': 5}\n",
            "page_content='ACCEPTED MANUSCRIPTACCEPTED MANUSCRIPT\\n6 can also be found  during meditation,  as suggested  by the relationship  between  meditation  and \\nattention  described  above.   \\nIn the present  EEG  experiment,  we recorded  ongoing  EEG  activity  during  rest and seated  Zen \\nmeditation  (known  as Zazen),  and behavioral  scores  for mindfulness  and meditation  experience.  \\nZazen  means  sitting  in the position  of Buddha,  concentrated  on the body,  the breathing,  and to be \\nopen  to the very moment . We expected  meditation  experience  to be positively  correlated  with \\nmindfulness  ratings.  Concerning  the EEG data,  we took a novel  methodological  approach  \\ncompared  to other  studies,  as we analyzed  not only sensor  and source  data but also graph  \\ntheoretical  measures  and did it for a -compared  to present  standards - very broad  range  of \\nfrequencies  (2-245 Hz). Altho ugh we analyze d the differences  between  meditation  and non-\\nmeditation  rest, our major  interest  concerned  the further  elucidat ion of the relationship  of all these  \\nmeasures  with scores  of mindfulness  in daily  life and practical  experience.  Based  on previous  \\nfindings  of meditation -related  modulations  (either  between  meditation  and non-meditation  or \\nexperts  and novices)  within  various  frequency  bands,  we expected  general  effects  of meditation  on \\nas well as correlations  of meditation -relevant  parameters  (mindfulness  and practical  experience  \\nratings)  with EEG  activity  without  priori  restrictions  concerning  frequency  bands.  Beyond  this \\nlocal  level  of investigation,  we scrutinized  how meditation  practice  influences  the functional  \\nnetwork  architecture.  We computed  graph  theoretical  measures  (see Bullmore  and Sporns,  2009)  \\nat the level  of generators.  Based  on the research  cited  above,  we expected  to find differences  in \\nconnectivity  and network  properties  during  meditation  compared  to non-meditation  rest. Further  \\nwe tested  the role of mindfulness  in daily  life on meditation -driven  brain  network  modulation  by \\ncalculating  correlations  between  mindful ness scores  and global  graph  theoretical  measures  for all \\nfrequencies.  Overall,  our study  reveals  dramatic  changes  in ongoing  oscillatory  activity  as well as \\nconnectivity  patterns  that appear  to be sensitive  to the psychological  state changes  induced  by Zen \\nmeditation  that are particularly  related  to mindfulness . ' metadata={'source': '/content/studies/hauswald 2015.pdf', 'page': 6}\n",
            "page_content='ACCEPTED MANUSCRIPTACCEPTED MANUSCRIPT\\n7  \\n2 Materials  and Methods  \\n2.1 Subjects  \\nThe experiment  was conducted  at the psychophysiological  laboratories  of the University  of \\nKonstanz  at the Zentrum  für Psychiatrie  Reichenau  (ZPR).  Eleven  Zen meditators  with various  \\nlevels  of experience  took part in the experiment  (six female,  five male;  mean  age 50 years).  They  \\nwere  recruited  from  a local  Zen meditation  community.  The average  Zen meditation  experience  \\nwas 3418  hours  or twelve  years,  ranging  from four weeks  to 25 years.  The summed  number  of \\nhours  of meditation  experience  over the years  was used as data for practical  meditation  \\nexperience.  With  the exception  of one person,  all subjects  were  free of neurological  and \\npsychiatric  diseases,  and all were free of drug and medication  use. Omitting  this subject  from  the \\nstatistical  analysis  had no impact  on the reported  effects.  Thus  the results  described  here use the \\nentire  sample.  Subjects  received  25 Euros  for their participation.  All subjects  signed  an informed  \\nconsent  form  prior  to the experiment.  The procedures  had been  previously  approved  by the local  \\nethics  committee.  \\nTable  1: Details  of the participants  \\nGender  Age  Meditation  experience  in hours  MAAS  scores  \\n6 female  / 5 male  mean  50 \\n(range  27 – 62) mean  3418  \\n(range  4 - 11900)  mean  38.64  \\n(range  16 - 55) \\n \\n2.2 Experimental  design  and procedure  \\nBefore  the EEG  experiment  started,  mindfulness  in daily  life situations  was measured  using  the ' metadata={'source': '/content/studies/hauswald 2015.pdf', 'page': 7}\n",
            "page_content='ACCEPTED MANUSCRIPTACCEPTED MANUSCRIPT\\n8 Mindfulness  Attention  Awareness  Scale  (MAAS,  Brown  & Ryan,  2003;  German  version  by \\nMichalak  et al., 2008).  The MAAS  is a one-dimensional,  15-item scale  measuring  mindfulness,  \\nattention  and awareness  in the present  moment  on a six-point  Likert  scale.  Statements  such as “I \\nrush through  activities  without  really paying  attention  to them” were  rated  from  1 (almost  never)  \\nto 6 (almost  always).  For later interpretation,  this means  that lower  scores  reflect  higher  levels  of \\nmindfulness.  Other  related  constructs  such as acceptance  or empathy  were  omitted  (Brown  & \\nRyan, 2003).  Meditation  experience  was also assessed  prior  to EEG  recording.  A total number  of \\nhours  of meditation  was calculated  for each subject.  For the main  experiment,  EEG  data were  \\nrecorded  during  meditation  and non-meditation  rest, respectively.  The experiment  took place  in a \\ndimly  lit, electromagnetically  shielded  room.  The EEG  cap was placed  on subjects‟ heads  and \\nelectrodes  were  filled  with electrolyte  gel. Impedance  for the electrodes  were  below  30 kΩ. \\nDuring  Zen meditation,  subjects  sat in their usual meditation  position  (i.e. half-lotus  seat with eyes \\nopen)  with a meditation  cushion  on the floor  and EEG  data were  collected  for 20 minutes.  During  \\nnon-meditation  rest, subjects  sat in a comfortable  chair  and were  instructed  to relax,  not to \\nmeditate,  to keep  their eyes open  and to minimize  eye movements.  EEG  data were  recorded  for \\nfive minutes.  Half of the subjects  began  the experiment  with the meditation  condition,  the other  \\nhalf started  with the non-meditation  rest condition.  Subjects  were  pseudoran domly  assigned  to \\nstart with one of the two conditions,  an important  consideration  given  that gamma  power  is still \\nhigh following  meditation  as opposed  to pre-meditation  (Lutz  et al., 2004).  By using  a balanced  \\ndesign,  we hoped  to control  for similar  carry -over effects.  Neither  practical  experience  (t(9)= \\n0.05951,  p = 0.9539)  nor MAAS  scores  differed  between  these  two groups  (t(9) = 0.215,  p = \\n0.8346).  \\n \\n2.3 Data  collection  \\nEEG  data were  recorded  using  a 128-channel  ANT  system  (Advanced  Neuro  Technology,  \\nEnschede,  Netherlands).  An external  ground  electrode  was attached  below  the right  cheekbone.  ' metadata={'source': '/content/studies/hauswald 2015.pdf', 'page': 8}\n",
            "page_content='ACCEPTED MANUSCRIPTACCEPTED MANUSCRIPT\\n9 Since  muscle  activity  can be a confounding  factor  in EEG  recordings,  with a broad  spectrum  \\nincluding  higher  frequencies,  we used Electromyography  (EMG)  recordings  during  the experiment  \\nto control  for neck  muscle  activity  that may be elicited  by the altered  seating  position.  For this \\npurpose,  bipolar  electrodes  were  placed  on the right  trapezius.  Two continuous  data sets (20 \\nminutes  meditation,  5 minutes  non-meditation  rest) were  recorded  per subject  with a sampling  rate \\nof 2048  Hz.  \\n \\n2.4 Data  analysis  \\nEEG  and EMG  data were  analyzed  in MATLAB  Version  7.12 (R2011a)  with the open  source  \\nFieldTrip  toolbox  (Oostenveld  et al., 2011).  The 20 minutes  of meditation  EEG  activity  were  \\nsubdivided  into intervals  of five minutes  (allowing  us to later normalize  the data with five minutes  \\nnon-meditation  rest).  Raw EEG  data of meditation  and non-meditati on rest were  epoched  into \\nsegments  of two seconds  and filtered  with a 1 Hz high-pass Butterworth  filter.  All segments  were  \\nvisually  inspected  and, in a first pass,  all data segments  containing  large  non-physiological  \\nartifacts  (e.g. channel  jumps)  were  rejected.  EEG  data were  downsampled  to 500 Hz. An \\nindependent  component  analysis  (ICA)  was performed  and components  were  visualized  as time \\nseries  and topographically  to identify  artifacts  from  eye movements  and heart  muscle  activity.  \\nComponents  containing  these artifacts  were  removed  for all four meditation  intervals  and the non-\\nmeditation  rest (on average  nine components  were  removed  per subject),  and the cleaned  raw data \\nwere  reconstructed.  Following  ICA correction,  a second  visual  artifact  detection  was performed  \\nand residual  segments  that still contained  artifacts  were  rejected.  On average,  this led to \\nmeditation  data of 204 seconds  (range  92-272 s, standard  deviation  SD: 49.9 s) and non-\\nmeditation  data of 174 seconds  (range:  86-272 s; SD: 60.2 s). This difference  was not significant  \\n(t(10)  = -1.64,  p =.13).   \\n \\n2.4.1  Electrode  level  ' metadata={'source': '/content/studies/hauswald 2015.pdf', 'page': 9}\n",
            "page_content='ACCEPTED MANUSCRIPTACCEPTED MANUSCRIPT\\n10 Electrode  data were  transformed  into the frequency  domain  using  multitaper  Fast Fourier  \\nTransformation  (FFT;  Percival  & Walden,  1993).  The whole  frequency  band  1-245 Hz was \\ndivid ed into low (<30  Hz) and high frequencies  (30-245 Hz), with steps  of 1 Hz for low \\nfrequencies  and of 5 Hz for high frequencies.  Discrete  prolate  spheroidal  sequence  (DPSS)  \\ntapering  was used with a spectral  smoothing  of +/- 2 Hz for low frequencies  and of +/- 6 Hz for \\nhigh frequencies.  From  the complex  electrode  level  Fourier  coefficients,  power  spectra  were  \\ncalculated  via the complex  modulus  applied  separately  to the four meditation  periods  and the one \\nnon-meditation  period.  Meditation  data were  normalized  by first subtracting  the power  spectra  of \\nthe non-meditation  rest from  each of the meditation  periods  and then dividing  by them  \\n([power meditation  – power non-meditation ]/power non-meditation ) resulting  in four normalized  meditation  \\nperiods.  The four meditati on periods  were  averaged  before  application  to statistical  analyses.  \\n \\n2.4.2  Source  level  \\nThe electrode  level  Fourier  coefficients  calculated  in the previous  step were  then projected  into \\nsource  space  using  spatial  filters  derived  from  the dynamic  imaging  of coherent  sources  \\nbeamformer  (DICS,  Gross  et al., 2001) . We computed  a separate  spatial  filter  per frequency.  A \\nstandard  boundary  element  model  (BEM)  and standard  electrode  positions  were  used as provided  \\nby ANT.  Common  spatial  filters  were  calculated  for the resting  and meditation  condition  for 2982  \\ngrid points  (1 cm resolution)  equally  distributed  within  the brain  volume.  We could  derive  source  \\nlevel  power  spectra  via these  means  and, analogous  to the electrode  level  analysis,  meditation  data \\nwere  again  normalized  using  the non-meditation  rest. The four normalized  meditation  periods  \\nwere  averaged  for further  statistical  analyses.  \\n \\n2.5 Graph  theoretical  measures  \\nFrom  the source  level  Fourier  coefficients,  spectrally  resolved  source -level  all-to-all connect ivity \\nwas calculated  using  the imaginary  part of coherence  (Marzetti  et al., 2008;  Nolte  et al., 2004).  ' metadata={'source': '/content/studies/hauswald 2015.pdf', 'page': 10}\n",
            "page_content='ACCEPTED MANUSCRIPTACCEPTED MANUSCRIPT\\n11 The adjacency  matrix  was obtained  by thresholding  the resulting  connectivity  matrix  values  > \\n0.02,  which  were  determined  as the lowest  threshold  at whic h networks  were  still fully  connected  \\nacross  all subjects.  Graph  theoretical  parameters  were  calculated  for the meditation  and the non-\\nmeditation  rest condition  using  the Brain  Connectivity  Toolbox  (https://sites.google.com/a/brain -\\nconnectivity -toolbox.net/bct/ ; Rubinov  & Sporns,  2010)  and custom -made  MATLAB  code.  \\nGlobal  graph  theoretical  measures  were:  density,  small  worldedness,  clustering  coefficient,  and \\ndistance  (also  called  path length).  Small  worldedness  was calculated  by the ratio of the normalized  \\nclustering  coefficient  (dividing  the empirically  observed  values  by a value  derived  from  a \\ncorresponding  random  network  with equal  amounts  of nodes  and edges)  and the normalized  \\ndistance.  For the frequency  bands  identified  by the global  measures,  local  measures  were  \\ncalculated,  including  degree  and normalized  local  clustering  (dividing  the clustering  coefficients  at \\neach grid point  with the global  clustering  coefficient  derived  from the corresponding  random  \\nnetwork  [see Bola ños et al., 2013]).  As for the power  data,  all graph  theoretical  values  of the four \\nmeditation  periods  were  normalized  using  the non-meditation  rest and then averaged  before  \\napplication  to statistical  analyses.   \\n \\n2.6 Statistical  analyses  \\nPrior  to averaging  the normalized  meditation  periods  of sensor  power,  source  power,  and global  \\ngraph  measures  we calculated  an F-test (with  cluster  correction)  to assure  that the four periods  did \\nnot differ  significantly  from  each other.  For none  of the measures  significant  clusters  were  \\nobtained  (p>.16) . We then tested  for these  individual  averages  of the normalized  meditation  \\nperiods  of sensor  power,  source  power , and graph  measures  the association  with mindfulness  \\nscores  (MAAS)  as well as meditation  experience  using  correlational  analyses  by committ ing them  \\nto a nonparametric  cluster -based  permutation  test, which  controls  for multiple  comparisons  (Maris  \\n& Oostenveld,  2007).  The advan tage of this approach  is that the distribution  upon  which  statistical  \\ninference  is based  is estimated  directly  from  the randomization,  rather  than depending  on a priori  ' metadata={'source': '/content/studies/hauswald 2015.pdf', 'page': 11}\n",
            "page_content='ACCEPTED MANUSCRIPTACCEPTED MANUSCRIPT\\n12 assumptions  (e.g. normality  etc). Outputs  from  power  (sensor  and source  level)  as well as graph  \\ntheoretical  analysis  (only  source  level)  for the whole  frequency  range  were  applied  to correlation  \\nanalyses  with mindfulness  scores  and hours  of meditation  using  an alpha  of 0.05 for clustering  and \\n1000  randomizations.  The maximum  distance  for neighbors  was set to 30 mm, resulting  in an \\naverage  of 4.1 neighboring  electrodes  for the sensor  data and 72.4 neighboring  source  coefficients  \\nfor the source  data.  In addition,  normalized  global  graph  measures  were  committed  to an \\nanalogous  non-parametric  cluster  statistics  approach,  with the difference  that in this case spatial  \\ninformation  is missing  and clustering  was only performed  across  frequencies.  For visualization  \\npurposes  of the effects  of global  graph  measures,  we used the same  metrics  as used as test statistic  \\n(Pearson  correlation ) in our nonparametric  test of local  graph  theoretical  measures  (that putatively  \\ndrive  the global  effects,  namely  degree  and local  clustering),  which  we restricted  to frequency  \\nbands  showing  maximal  effects  in the earlier  global  analyses  (160-170 Hz). In order  to see the \\nmain  structures  showing  most  pronounced  effects  data were  masked  using  a p < .01. \\nAlthough  our group  of participants  showed  a wide  range  of meditation  experience  and self-\\nreported  mindfulness,  we also analyzed  contrast s between  meditation  and non-meditation  rest \\nagain  using  cluster -based  permutation  (alpha  of 0.05 and 1000  randomizations)  with dependent  \\nsamples  t-tests as a test statistic  (testing  the normalized  averages  against  a matrix  of zeros ). For the \\nfrequency  band  identified  by the analysis  of global  graph  measure  (200-210 Hz), dependent -\\nsamples  t-tests were  again  applied  to local  graph  measures  for visualization  (uncorrected).  In order  \\nto see the main  structures  showing  most  pronounced  effects  data were  masked  using  a p < .01. \\nThe patterns  of results  for spectral  power  were  similar  for the sensor  level  analyses  and the source  \\nlevel  analyses,  therefore  only the source  level  results  will be reported  and discussed.  Given  the \\napplied  analyses,  we were  able to determine  the relationships  of meditation -related  connectivity  \\nand network  properties  with individual  meditation  experiences  and mindfulness  scores , as well as \\ndifferences  to the resting  state. Given  the strong  variability  of practical  experience  and self-' metadata={'source': '/content/studies/hauswald 2015.pdf', 'page': 12}\n",
            "page_content='ACCEPTED MANUSCRIPTACCEPTED MANUSCRIPT\\n13 reported  mindfulness,  we focus  on the correlational  findings  while  we present  the results  for the \\nmeditation  versus  non-meditation  contrast  partly  in the supplementa ry material.  \\n \\n3 Results  \\n3.1 Mindfulness  ratings  and meditation  experience  \\nScores  for general  mindfulness,  attention  and awareness  in the subjects‟ daily  lives,  as assessed  \\nwith the MAAS  (German  version),  were  correlated  with individual  meditation  practice  experience  \\nin hours.  Low MAAS  scores  indicated  high levels  of mindfulness,  attent ion and awareness  in a \\nsubject‟s daily  life, and vice versa.  Subjects‟ MAAS  scores  significantly  correlated  with their \\nmeditation  experience,  r = -.80, p < .01 (Fig.  1). Age of the subjects  neither  correlated  with \\npractical  experience  nor MAAS  scores.  \\n \\nFigure  1: (A) Correlation  between  individual  MAAS  scores  (n=11)  and amount  of Zen meditation  \\nexperience  in hours  (r=-.8, p < .01). Low MAAS  scores  indicate  high levels  of mindfulness,  \\nattention  and awareness,  and vice versa.  (B) Illustration  of the experim ental  setting  during  \\nmeditation.  \\n' metadata={'source': '/content/studies/hauswald 2015.pdf', 'page': 13}\n",
            "page_content='ACCEPTED MANUSCRIPTACCEPTED MANUSCRIPT\\n14  \\n3.2 Correlations  of oscillatory  changes  with mindfulness  and practice  experience  \\nA correlation  analysis  was calculated  between  mindfulness  scores  (MAAS)  and the power  data of \\nthe source  transformed  data for all frequencies . No significant  correlations  were  found  within  the \\nlow-frequency  range.  A significant  negative  cluster  (p = .015)  was yielded  for the entire  high-\\nfrequency  range,  in particular  between  100 and 245 Hz (fig. 2A), indicating  that high levels  of \\nmindfulness  (reflected  by low scores)  correlate  with increased  power  in the high frequencies.  The \\nsame  correlation  analysis  with meditation  experience  in hours  also revealed  a significant  positive  \\ncluster  for high frequencies  (p = .036),  indicating  that a lot of experi ence goes along  with \\nincreased  gamma  power.  The generators  underlying  this practice  effect  showed  a partly  different  \\npattern  than the correlation  effect  with MAAS  ratings.  This means  that results  from  the previous  \\nanalysis  cannot  purely  be explained  by the amount  of practice  per se. Sources  in which  high \\ngamma  correlated  with MAAS  but not practical  experience  were  mainly  found  in globus  pallidus,  \\nleft cuneus,  left anterior  cingulate,  right  pre- and postcentral  gyrus  (BA 2, 3, 4), bilateral  middle  \\nfrontal  gyrus (BA 6, 10), right  parahippocampal  gyrus,  right  culmen,  right  medial  frontal  gyrus,  \\nsubcallosal  gyrus  and thalamus  (fig. 2A). We also calculated  the correlational  analyses  for the \\nnon-normalized  meditation  data and the non-meditation  data separately,  but none  of these  \\ncorrelations  reached  significance.  \\nConcerning  the contrast  between  meditation  and non-meditation  rest, a negative  cluster  was \\nobtained  in the low-frequency  range  (2-30 Hz) with peaks  at 3 and 17 Hz (p = .025,  \\nsupplementary  fig. S1A). The reduction  of power  during  medi tation  was mainly  localized  to \\nsomatosensory  cortices,  right  insula,  right  middle  temporal  gyrus,  right  inferior,  middle  and \\nsuperior  frontal  gyrus  (fig. S1A). No meditation -related  modulations  of spectral  power  were  \\nobserved  for higher  frequencies.  \\n ' metadata={'source': '/content/studies/hauswald 2015.pdf', 'page': 14}\n",
            "page_content='ACCEPTED MANUSCRIPTACCEPTED MANUSCRIPT\\n15 3.3 Correlations  of global  graph  theoretical  measures  with mindfulness   \\nTo examine  the relationship  of brain  connectivity  during  meditation  with mindfulness  in daily  life, \\ncorrelation  analyses  were  calculated  for individual  mindfulness  ratings  with global  and local  \\nvalues.  The correlation  analyses  with mindfulness  scores  yielded  a significant  positive  cluster  for \\nsmall  worldedness  (p = .033,  fig. 2B) during  meditation  between  160 and 170 Hz with a peak  at \\n165 Hz. This effect  was driven  by clustering  (positive  cluster;  p = .03, fig. 3C), while  no effect  \\nwas observed  for path length.  Density  showed  a trend  level  of a negative  cluster  (p = .0639)  (fig. \\n3B). These  positive  clusters  indicate  that at these  frequencies  – which  are below  the mediation  \\nversus  rest effect  (see above)  - during  meditation  low levels  of mindfulness  (reflected  by high \\nscores)  result  in more  clustered  functional  network  architectures.  \\nConcerning  the general  difference  of global  graph  theoretical  measures  during  meditation  and \\nnon-meditation  rest, no effect  was found  for in the low-frequency  range.  In the high-frequency  \\nrange,  we obtained  a significant  negative  cluster  for density  (p = 0.005)  between  195 and 215 Hz \\n(suppl . fig, S1B), meaning  that meditation  overall  went  along  with disconnections  at these  high \\nfrequencies.  Furthermore,  a positive  cluster  was obtained  for small  worldedness  (p = .017,  suppl.  \\nfig, S1B) between  200 and 210 Hz. This effect  was again  driven  by clustering  (positive  cluster ; p \\n= .015,  suppl.  fig. S1C), while  no effect  was observed  for path length  (clustering  and path length  \\nnormalized  by values  obtained  from  random  networks  with same  amount  of nodes  and edges,  \\nsuppl.  fig, S2C). Overall,  this means  that, while  connectivity  at these  high frequencies  reduces  \\nduring  meditation,  coupling  to the immediate  neighbors  increases.  \\n \\n3.4 Correlations  of local  graph  theoretical  measures  with mindfulness   \\nLocal  clustering  revealed  sources  mainly  in bilateral  thalamus,  bilateral  cingulate  gyrus,  and \\nbilateral  insula  but also in bilateral  pre- and postcentral  gyrus  (BA 3,4), left inferior  parietal  lobe,  ' metadata={'source': '/content/studies/hauswald 2015.pdf', 'page': 15}\n",
            "page_content='ACCEPTED MANUSCRIPTACCEPTED MANUSCRIPT\\n16 and right  middle  frontal  gyrus  (BA 6). Degree  showed  negative  correlations  with MAAS  scores  \\nmainly  in bilateral  thalamus,  bilateral  cingulate  gyrus,  and right  cerebellum.  Sources  that showed  \\nonly significant  correlations  between  local  clustering  and MAAS,  but not between  degree  and \\nMAAS,  were  mainly  found  in bilateral  paracentral  lobule  (BA 6, 5, 31), right  middle  temporal  \\ngyrus,  right  pulvinar  nucleus  and medial  dorsal  nucleus  of the thalamus,  and the right  insula  (fig. \\n2C, see table  2 for more  details).  \\nRegarding  the general  difference  of local  graph  theoretic al measures  during  meditation  and non-\\nmeditation  rest, local  clustering  was increased  between  200 and 210 Hz, in a widely  distributed  set \\nof sources  including  bilateral  insula,  left caudate,  bilateral  culmen,  rectal  gyrus,  right  inferior  \\nfrontal  gyrus,  right superior  and middle  temporal  gyrus,  left cingulate  gyrus,  and left middle  \\nfrontal  gyrus.  Degrees,  capturing  the density  effect,  showed  reductions  during  meditation,  mainly  \\nin right  insula,  right  parahippocampal  gyrus,  anterior  cingulate  and caudate  as well as cerebellum.  \\nSources  that showed  only an increase  in local  clustering  but no reduction  of degree  were  found  in \\nbilateral  (stronger  on the right)  insula  (BA 13), left cuneus  (BA 18) and lingual  gyrus  (BA 17) (see \\nsuppl .fig. S1B and suppl . table  S1 for full details).   \\n \\nFigure  2: Depiction  of the correlations  between  MAAS  scores  and oscillatory  sources  as well as \\nglobal  and local  graph  theoretical  measures  during  meditation.  (A) Sources  of correlations  \\nbetween  high gamma  power  (for illustration  purposes  collapsed  across  100 and 245 Hz, \\nuncorrected)  and MAAS  scores  but not practical  experience  (masked  with critical  r-value,  MNI  \\n' metadata={'source': '/content/studies/hauswald 2015.pdf', 'page': 16}\n",
            "page_content='ACCEPTED MANUSCRIPTACCEPTED MANUSCRIPT\\n17 coordinates:  X: -12, Y: -38, Z: 54). Also,  the scatterplot  of the correlation  between  MAAS  scores  \\nand high gamma  power  (100-245 Hz) during  meditation  extracted  at the cuneus  (r = -.741,  p = \\n.009)  is shown.  (B) Increased  positive  correlation  between  MAAS  scores  and small  worldedness  \\nbetween  160 and 170 Hz. (C) Sources  of positive  correlations  between  MAAS  scores  and local  \\nclustering  during  meditation  between  160 and 170 Hz (uncorrected,  averaged  over frequency,  \\nmasked  with p < .01) excluding  (yellow)  and including  (blue)  sources  of negative  correlations  \\nbetwee n MAAS  and degree  during  meditation  (MNI  coordinates:  X: -11, Y: -20, Z: 10). Also  the \\nscatterplot  of the correlation  between  MAAS  scores  and global  clustering  during  meditation  \\nextracted  between  160 and 170 Hz (r = .7678,  p = .0058)  is shown . * p < .05. \\n \\nTable  2: Sources  of correlations  between  local  clustering  during  meditation  and MAAS  scores,  \\n(A) excluding  and (B) including  sources  correlations  between  degree  during  meditation  and \\nMAAS  \\nSources  of local  clustering  correlating  with  MAAS  \\n(A) excluding  correlations  between  degrees  and MAAS  \\nanatomical  structure  Side  Brodman  Area  MNI:  X, Y, Z r-value  \\nparacentral  lobule  R BA 5, 6, 31 10, -30, 50 0.93  \\n L BA 6 -8, -28, 54 0.83  \\nmiddle  temporal  gyrus  R BA 21 52, -28, -6 0.85  \\n L BA 37 -50, -50, -10 0.79  ' metadata={'source': '/content/studies/hauswald 2015.pdf', 'page': 17}\n",
            "page_content='ACCEPTED MANUSCRIPTACCEPTED MANUSCRIPT\\n18 medial  dorsal  nucleus  R \\n 12, -20, 10 0.86  \\npulvinar  nucleus  R \\n 12, -26, 10 0.85  \\ninsula,   R BA 13 38, -20, 10 0.81  \\nsuperior  parietal  lobule  R BA 7 30, -56, 58 0.89  \\nprecuneus  R BA 7 30, -50, 52 0.9 \\nlingual  gyrus  L BA 18 -10, -90, -20 0.77  \\n(B) including  sources  of reduced  degrees  \\nregion  Side  Brodman  Area  MNI:  X, Y, Z r-value  \\nthalamus  \\n  0, -10, 10 0.93  \\ncingulate  gyrus  L BA 23 -10, -14, 28 0.86  \\n R BA 23 6, -14, 28 0.85  \\ncuneus  L BA 18 -10, -80, 20 0.84  \\npyramis  / tuber  R \\n 38, -68, -38 0.77  \\n \\n \\n3.8 EMG  recordings  ' metadata={'source': '/content/studies/hauswald 2015.pdf', 'page': 18}\n",
            "page_content='ACCEPTED MANUSCRIPTACCEPTED MANUSCRIPT\\n19 Since  muscle  activity  may produce  broadband  artifacts  that include  the higher  gamma  band  (Pope  \\net al., 2009),  we measured  neck  muscle  EMG  during  the rest and meditation  conditions.  All \\nstatistical  testing  done  on EEG  power  data was also conducte d for EMG  power.  For analysis  of \\nEMG  data,  two subjects  were  excluded  owing  to insufficient  EMG  data arising  from  technical  \\nproblems  during  the experiment.  For normalized  EMG  data,  significant  positive  clusters  were  \\nfound  for the lower  frequencies  (2-10 Hz and 18-19 Hz; p‟s < .05) and for the high gamma  band  \\nrange  (> 90 Hz; p < .01). These  effects  showed  increased  EMG  gamma  activity  during  meditation  \\ncompared  to non-meditation  rest. Concerning  the relationship  with mindfulness  ratings  or practice  \\nexperience , no correlations  occurred  in any frequency  band.  We also calculated  the correlational  \\nanalyses  for the non-normalized  meditation  data and the non-meditation  data separately  and found  \\na positive  cluster  (p = .039)  of correlations  between  MAAS  and high gamma  (130-175 Hz), \\nindicating  higher  gamma  during  non-normalized  meditation  being  associated  with higher  MAAS  \\nscores,  which  represent  lower  mindfulness  in everyday  life. Concerning  the significant  effects,  it is \\nimportant  to note that these  effects  were  either  absent  (as the difference  between  meditation  and \\nnon-meditation  rest in high gamma  and positive  correlation  between  non-normalized  high gamma  \\nduring  meditation  with MAAS)  or showed  the opposite  direction  in the EEG  data (as the \\ndifference  between  meditation  and non-meditation  rest in beta range  with an increase  in EMG  and \\na decrease  in EEG).  Thus,  the available  EMG  data from  the neck  electrode  does not provide  any \\nevidence  that the effects  found  in the high gamma  EEG  are muscular  artifacts.   \\n4 Discussion  \\nIn the present  study,  source -level  oscillatory  activity  and network  properties  were  investigated  in \\nZen meditators  during  meditation  and rest with a special  focus  on their relationship  with self-\\nreported  mindfulness . Since  meditation  is considered  to be an altered  state of consciousness  and is \\nclosely  associated  with processes  of attention  and awareness,  findings  will be discussed  with \\nregard  to possible  implications  in this field.  ' metadata={'source': '/content/studies/hauswald 2015.pdf', 'page': 19}\n",
            "page_content='ACCEPTED MANUSCRIPTACCEPTED MANUSCRIPT\\n20 Several  findings  from  this EEG  study  support  the assumption  that the meditative  state seems  to be \\nrather  unique  in terms  of patterns  of brain  activity.  On a behavioral  level,  we found  a significant  \\ncorrelation  between  MAAS  scores  and Zen meditation  experience,  suggesting  a developm ent of \\nmindfulness  skills  with meditation  experience.  More importantly  and interestingly , we uncovered  \\na thus far unreported  significant  correlation  between  high gamma  source  power  (starting  around  \\n30 Hz, plateau  from  100-245 Hz) and MAAS  scores  (and to a lesser  extent  practice  experience).  \\nSource  analysis  suggested  the involvement  of several  cortical  and subcortical  regions,  including  \\nsomatosensory  cortices  (BA 1,3), anterior  cingulate,  cuneus,  middle  and medial  frontal  region  as \\nwell as parahippocampus.  Thus, individuals  showing  high levels  of mindful  behavior  in their daily  \\nlives,  as measured  using  the MAAS,  also show  substantially  increased  high-frequency  gamma  \\npower  during  Zen meditation  in these  areas.  This effect  occurred  for normalized  power  data.  For \\nthe present  data,  we were  not able to disentangle  the contributions  of longitudinal  (non-meditation  \\nrest) versus  short -term (meditation  session)  changes  as the MAAS  scores  neither  correlated  \\nsignificantly  on a cluster  level  with non-meditation  rest nor non-normalized  meditation.  The lack \\nof correlations  with non-normalized  meditation  or non-meditation  rest might  be due to higher  \\ninter-individual  variability  for the single  conditions,  which  becomes  reduced  via normalization.  \\nHowever,  we speculate  that in general  both trait and state differences  play a role in meditation  as \\none (state)  is most  probably  a prerequisite  for the other  (trait)  to develop.  This assumption  is \\nsupported  by studies  showing  relevant  modulations  in brain  activity  during  both meditation  (e.g. \\nBerkovich -Ohana  et al., 2013)  and non-meditation  rest (e.g. sleep:  Ferrarelli  et al., 2013).  \\nThe general  relevance  of high gamma,  especially  regarding  these  structures,  is further  supported  \\nby the finding  that synchrony  in the high frequency  range  plays a role in synaptic  plasticity  \\n(Wespatat  et al., 2004) , suggesting  that structural  changes  may be connected  to high-frequency  \\noscillations  in the human  brain.  This is consistent  with previous  findings  from  longitudinal  fMRI  \\nstudies  that showed  increase d cortical  thickness  for meditators  in these  regions  of interest  (Grant  et ' metadata={'source': '/content/studies/hauswald 2015.pdf', 'page': 20}\n",
            "page_content='ACCEPTED MANUSCRIPTACCEPTED MANUSCRIPT\\n21 al., 2010;  Hölzel et al., 2011;  Kang  et al., 2013;  Lazar  et al., 2005;  Luders  et al., 2009),  increased  \\ngrey matter  (Leung  et al., 2013),  and enhanced  gyrification  (Luders  et al., 2012). \\nMuscular  activity  is frequently  discussed  as an artifact  explaining  high broadband  gamma  activity  \\n(see for a review  Muthukumaraswamy,  2013 ) and body  posture  has been  shown  to influence  \\nmotor  cortical  excitability  (Kantak  et al., 2013)  as well as cogni tive performance  (Muelhan  et al., \\n2014).  However,  in these  studies  sitting  was compared  to standing  (Kantak  et al., 2013)  or supine  \\nposture  (Muelhan  et al., 2014)  while  in our study  conditions  were  more  similar:  participants  were  \\nin sitting  posture  in both conditions,  although  they sat in the lotus  position  during  meditation  and \\nin a comfortable  chair  during  resting  condition.  This difference  in body  posture  was necessary  as \\ndiscussions  with Zen meditators  preceding  the study  made  it clear  that in particula r for \\nexperienced  meditators  it would  not be feasible  to sit in the lotus  position  without  meditating.  \\nGiven  these  differences  in body  posture  it is theoretically  possible  that muscular  artifacts  affected  \\nour data,  but there  are several  reasons  why we are confident  that this is not the case:  First,  we \\nrecorded  EMG  from  the neck  muscle  and analyzed  the data analogous  to the EEG  data to rule out \\npossib le contamination  from the neck  muscles.  Although  we did find significant  effects  of \\nmuscular  activity  during  normalized  meditation,  both in the lower  frequencies  and high gamma  \\nrange,  as well as a correlation  between  MAAS  scores  and non-normalized  meditation,  these  \\neffects  are unlikely  to explain  our EEG  findings:  all of the EMG  effects  were  either  completely  \\nabsent  in the EEG  data or were  in the opposite  direction  and therefore  have  no apparent  value  in \\naccounting  for the EEG  data.  Second,  related  to the first point,  muscular  artifacts  usually  show  an \\nincrease  in high broadband  gamma  activity.  In the present  study  it might  be expected  that the lotus  \\nposition  during  meditation  is more  physically  demanding  for novice  meditators  than long-term \\nmeditators.  Therefore  high gamma  would be expected  to correlate  negatively  with practice  \\nexperience  which  (at least for the neck  muscle)  was not the case,  but rather  the opposite,  meaning  \\nthat a lot of experience  goes along  with increased  high gamma  power.  Third,  the differences  \\nbetween  the two body  postures  also include  the lower  limbs  which  are, due to their extreme  ' metadata={'source': '/content/studies/hauswald 2015.pdf', 'page': 21}\n",
            "page_content='ACCEPTED MANUSCRIPTACCEPTED MANUSCRIPT\\n22 distance  to the scalp  electrodes,  very unlikely  to contribute  to scalp  EEG  in any meaningful  way.  \\nAlso,  the data analysis  included  a spatial  filtering  step (beamforming)  which  likely  reduces  \\nspurious  effects  from  distant  artifactual  sources  even  more.  Fourth,  further  candidates  for \\nmuscular  artifacts  are head  and face muscles  which  are reported  to be broadband,  with e.g. peaks  \\naround  50-60 Hz for chewing  and 30-40 Hz for brow  wrinkling.  Compared  to this range  our main  \\npower  correlation  effects  are a lot higher,  with increase d power  from  30 to 245 Hz with a plateau  \\nbetween  100 and 245 Hz. Neck  muscles  are reported  to produce  a peak  frequency  around  100 Hz, \\nbut this was already  ruled out as a contaminating  source  as described  earlier  (see \\nMuthukumaraswamy,  2013  for a detailed  overview  of peak  frequencies  of muscular  artifacts ). \\nFifth,  the position  change  was the same  for all participants,  making  it less likely  that our \\ncorrelation  effects  with mindfulness  scores  / practical  experience  are confounded.  \\nWhile  the modulation  of low gamma  through  meditation  has already  been  reported  (Berkovich -\\nOhana  et al., 2012,  2013;  Hinterberger  et al., 2014;  Lutz et al., 2004) , the modulation  of high \\ngamma  has not yet been  investigated.  However,  within  the field of attention,  studies  support  the \\nnotion  that high gamma  (> 80 Hz) is associated  with attentive  processing  (e.g.  Brovelli  et al., \\n2005;  Gregoriou  et al., 2009;  Ray et al., 2008) . For example,  using intracranial  recordings,  \\nattention -dependent  modulations  of high gamma  were  shown  in modality -specific  sensory  regions  \\n(e.g. somatosensory)  and frontal  (Ray  et al., 2008)  and premotor  areas  (Brovelli  et al., 2005).  \\nIn general,  the connection  between  meditation  training  and attentional  performance  is well \\nestablished.  Assuming  that meditation  training  improves  attentional  processing  as well as \\nmindfulness  and given  that our participants  showed  some  distribution  of MAAS  scores  and \\npractical  experience,  it does not come  as a surprise  that instead  of a general  condition  difference  in \\nhigh gamma  we found  correlations  with MAAS  scores  as well as practical  experience.  However,  it \\nseems  essential  to mention  that the correlation  of gamma  power  with the MAAS  score  cannot  \\nsimply  be explained  by the amount  of meditation  experience  per se, as this correlation  was not ' metadata={'source': '/content/studies/hauswald 2015.pdf', 'page': 22}\n",
            "page_content='ACCEPTED MANUSCRIPTACCEPTED MANUSCRIPT\\n23 only weaker  but also involved  partly  different  regions.  Instead,  this correlation  is based  on a \\nrelationship  with the quality  of the mental  state achieve d using  meditation,  namely  mindfulness  \\nskills.  Although  our findings  are supported  by other  studies  that have  shown  a link between  high \\ngamma  and attention  as well as awareness,  it has never  been  directly  shown  that increased  high-\\nfrequency  gamma  power  during the meditative  state is related  to measures  of mindfulness.  Future  \\nresearch  should  attempt  to confirm  these  findings  and investigate  mechanisms  of attention  \\ninvolved  in OM meditation,  which  may be closely  linked  to these  patterns  of neuronal  activity.   \\nAlthough  we stress  the findings  of correlations  between  MAAS  scores  and high gamma  \\nfrequencies,  we want  to point  out that also for the lower  gamma  frequencies  (<80  Hz) these  \\ncorrelations  showed  significant  results.  As mentioned  earlier,  modulations  in low gamma  during  \\nmeditation  of long-term meditators  were  already  reported  in previous  studies  (Berkovich -Ohana  et \\nal., 2012,  2013;  Chan  et al., 2010;  Hinterberger  et al., 2014;  Lutz et al., 2004).  For example,  Lutz \\nand colleagues  (2004)  found  that long-term meditators  show  an increase  in lower  gamma  power  \\nduring  meditation  compared  to rest which  is absent  in control  participants.  In the present  study  we \\ndid not find such a difference  which  might  be due to the fact (i) that we did not include  a control  \\ngroup  and (ii) that our group  of meditators  had a very wide  range  of experience.  However,  similar  \\nto what  we found,  namely  positive  correlations  with self-reported  mindfulness  (negative  \\ncorrelations  with MAAS  scores)  and practical  experience,  other  studies  as well found  stronger  \\n(low)  gamma  increase s for the more  experienced  meditators  (Cahn  et al., 2010;  Lutz et al. 2004) .  \\nFurthermore,  analyzing  general  differences  between  meditation  and non-meditation  rest, we found  \\nreduced  power  between  2 and 30 Hz with peaks  in the theta  (3 Hz) and beta band  (17 Hz) during  \\nmeditation.  Meditation -related  theta  band  (Hinterberger  et al., 2014)  and beta band  reductions,  \\nmainly  in fronto central  electrodes  have  also been  reporte d in previous  studies  (FA meditation,  \\nSaggar  et al., 2012;  FA and OM meditation,  Hinterberger  et al., 2014)  and related  to minimal  self-\\nawareness  and selflessness  during  meditation  (Dor -Ziderman  et al., 2013).  Our group  of ' metadata={'source': '/content/studies/hauswald 2015.pdf', 'page': 23}\n",
            "page_content='ACCEPTED MANUSCRIPTACCEPTED MANUSCRIPT\\n24 participants  showed  a wide  range  of variability  therefore  these  findings  should  be interpreted  \\ncarefully.  Nevertheless,  the effect s were  localized  in various  regions  that have  also been  reported  \\nas playing  a role in bodily  awareness,  the processing  of body  sensations,  and interoceptive  \\nawareness  (Ott et al., 2011)  and show  structural  differences  in meditators  (Grant  et al., 2010;  \\nLazar  et al., 2005;  Luders  et al., 2012).  \\n \\nSince  meditation  seems  to remarkably  alter patterns  of brain  activity  both during  meditation  and in \\nthe long term,  functional  connectivity  is also likely  to change  in the meditative  state.  However,  \\nrecent  research  is inconsistent  as some  EEG  data show  decreased  global  functional  connectivity  \\nmainly  in alpha  and beta bands  during  meditation  (Faber  et al., 2004;  Lehmann  et al., 2012)  and \\nothers  show  increased  global  clustering  (Xue  et al., 2014).  Additionally,  increased  connectivity  \\nwas found  in EEG  (Murata  et al., 2004)  and fMRI  research  (Kilpatrick  et al., 2011;  Xue et al., \\n2011).  In the present  study,  we investigated  connectivity  using  global  and local  graph  theoretical  \\nmeasures  over a broad  range  of oscillatory  frequencies  and their relationship  with mindfulness.   \\nRemarkably,  we found  that functional  connectivity  and network  properties  between  160 and 170 \\nHz are correlated  with individual  ratings  of mindfulness,  attention  and awareness.  For this \\nfrequency  range,  it appears  that the less mindful  a person  is (indicate d by high MAAS  scores)  the \\nstronger  the disconnection  (represented  by a negative  correlational  trend  for density)  but also the \\nstronger  the small  worldedness  (positive  correlation).  The effect  of small  worldedness  can \\ngenerally  be driven  by changes  in clustering  or path length  of a network  (each  normalized  by \\nanalogous  measures  derived  from  random  networks  with the same  amount  of nodes  and edges).  \\nOur data shows  unambiguously  that the effect  was driven  by clustering  that also showed  a positive  \\ncorrelation  with MAAS  scores,  while  no correlation  occurred  for path length.  This suggests  that \\nmeditation  shapes  brain  activity  in such a way that on a global  level  it is less functionally  \\nconnected  and more  modular  (clustered)  for persons  with low mindfulness  scores  and vice versa  ' metadata={'source': '/content/studies/hauswald 2015.pdf', 'page': 24}\n",
            "page_content='ACCEPTED MANUSCRIPTACCEPTED MANUSCRIPT\\n25 for persons  with high mindfulness  scores.  In other  words , the correlations  indicate  that stronger  \\neffects  are mainly  carried  by those  meditators  that show  higher  scores  of the MAAS  and might  not \\nhave  reached  an „expert‟ level  yet, assuming  that higher  mindfulness  is one relevant  criterion  of \\nmeditation  expertise  regardless  of whether  it might  precede  or follow  practical  meditation  \\nexperience.  Interestingly,  calculating  the sources  of correlations  betwe en MAAS  and local  graph  \\ntheoretical  measures  revealed  that there  were  some  sources  in which  both positive  correlations  of \\nMAAS  and local  clustering  and negative  correlations  of MAAS  and degrees  occurred  (mainly  in \\nbilateral  thalamus  and bilateral  cingulate  gyrus ). The co-occurrence  of both effects  indicates  that \\nin less mindful  persons  it is mainly  the long-range  connections  that suffer  a decrease,  while  the \\ncommunication  to the immediate  neighbors  is undisturbed  and even  enhanced.  It has been  \\nsuggested  that connectivity  between  the thalamus  and paralimbic  structures  in the gamma  band  \\n(30-100 Hz) is a crucial  ingredient  for self-awareness  (Lou  et al., 2010).  Given  our results,  this \\nmight  indicate  that the less „expert‟ a meditator  is (as measured  by MAAS  scores, again  assuming  \\nthat mindfulness  is one characteristic  of meditation  expertise)  the more  additional  effort  (reflected  \\nby the correlations  of connectivity/graph  measures  with MAAS  scores  between  160-170 Hz) is \\nrequired  during  meditation  to presumably  reach an altered  state awareness  which  most  likely  is \\ndue to altered  connectivity  and network  properties .  \\nAnalogous  processes  can be seen during  development  and learning  when  a synaptic  increase  \\ninitially  occurs  that is then followed  by neural  pruning   (see Bruer,  1999,  for a review).  Thus,  this \\npositive  correlation  between  MAAS  scores  and density  and clustering  measures  may represent  the \\nprocess  of specialization  during  long-term meditation.   \\nThe level  of expertise  (indicated  by MAAS  scores)  however  apparen tly does not play a role for the \\ngeneral  condition  as evidenced  by the missing  correlation  for the frequency  range  between  200 \\nand 210 Hz for which  the general  condition  effect s were  found.  Significant  disconnection  of brain  \\nactivity  during  meditation,  evident  as decreased  density,  in the high gamma  frequency  range  (200-' metadata={'source': '/content/studies/hauswald 2015.pdf', 'page': 25}\n",
            "page_content='ACCEPTED MANUSCRIPTACCEPTED MANUSCRIPT\\n26 210 Hz) occurred.  This global  effect  was likely  driven  by pronounced  reductions  of degrees  \\nmainly  in the right  insula,  right  parahippocampal  gyrus,  the anterior  cingulate  and the caudate  as \\nwell as the cerebellum.  These  findings  are in line with other  studies  reporting  reduced  connectivity  \\nduring  Zen or mindfulness -meditation,  although  those  studies  did not analyze  high gamma  and \\nonly report  significant  results  for low gamma  (e.g. Berkovic h-Ohana  et al., 2013;  Faber  et al., \\n2004;  Lehmann  et al., 2012).   \\nWe further  found  increased  small  worldedness  during  meditation  as compared  to non-meditation  \\nrest. This effect  was driven  by significantly  increased  clustering  while  no changes  occurred  in path \\nlength  during  meditation,  compared  to non-meditation  rest. This suggests  that even  though  during  \\nmeditation  the brain  is less functionally  connected  it at the same  time exhibits  a more  clustered  \\norganization . Interestingly,  increased  local  clustering  co-occurred  with reduced  degrees  for the \\nrelevant  frequencies  (200-210 Hz) mainly  in parts  of the insula,  cingulate  gyrus  and the caudate  \\nsuggesting  that for these  structures  the long-range  connections  are affect ed while  communication  \\nwith nearby  nodes  is enhanced.  \\nTaken  together,  these  findings  suggest  that Zen meditation  is a highly  active,  energy -consuming  \\nstate of mind.  While  mindfulness  as a trait may strengthen  and develop  together  with practical  \\nexperience,  the pattern  of neuronal  activity  changes  during  the state of meditation  itself.  More  \\nspecifically,  the source  power  of low frequencies  seems  to be reduced,  indicating  that the brain  \\nshifts  into another  mental  state,  including,  for example,  altered  self-awareness  (Dor -Ziderman  et \\nal., 2013)  as one begins  to meditate.  The present  study  adds significant  insights  to the current  \\nmeditation  literature,  which  has primarily  focused  on low gamma  effects,  by showing  a strong  \\nrelationship  between  high-frequency  gamma  power  and practitioners ‟ mindfulness  ratings.  This \\nprominent  effect  could  be localized  in multiple  brain  regions  involved  in self-processing  and body  \\nawareness,  suggesting  that meditators  effectively  train self-awareness  and mindfulness.  This is not \\nonly reflected  in subjective  reports  (MAAS),  but also in specific  brain  activity.  Beyond  that, we ' metadata={'source': '/content/studies/hauswald 2015.pdf', 'page': 26}\n",
            "page_content='ACCEPTED MANUSCRIPTACCEPTED MANUSCRIPT\\n27 found  remarkable  correlations  between  mindfulness  scores  and high-frequency  network  measures  \\n(small  worldedness,  global  and local  clustering  between  160 and 170 Hz), indicating  that \\nmeditation  shapes  activity  networks  through  the development  of mindfulness  skills.  \\nAdditionally,  we found  differences  in functional  connectivity  indicated  by graph  theoretical  \\nmeasures  in the high gamma  range  (density,  small  worldedness,  global  and local  clustering  \\nbetween  200 and 210 Hz). The differences  indicate  that the brain  shifts  into a state of \\ndisconnection  and high local  specialization  (see also Xue et al., 2014,  for theta  band  effects)  with \\nemphasis  on sources  crucially  involved  in self-awareness  and self-regulation.  \\nOverall,  these  effects  suggest  increased  oscillatory  power  and connectivity  in regions  that also \\nshow  structural  changes  and differences  in short -term and long-term meditators,  indicating  a \\ncontinuative  process  of modulation  in the meditating  brain  and complementing  the cultivation  of \\nmindfulness  on a behavioral  level.  ' metadata={'source': '/content/studies/hauswald 2015.pdf', 'page': 27}\n",
            "page_content='ACCEPTED MANUSCRIPTACCEPTED MANUSCRIPT\\n28 Conflict  of interests  \\nNone  \\n \\nAcknowledgements  \\nThe work  was supported  by the Deutsche  Forschungsgemeinschaft  WE 4156/2 -1. The \\ncontribution  by NW was supported  by the European  Research  Council  Grant  WIN2CON,  ERC  \\nStG 283404  . \\n ' metadata={'source': '/content/studies/hauswald 2015.pdf', 'page': 28}\n",
            "page_content='ACCEPTED MANUSCRIPTACCEPTED MANUSCRIPT\\n29 References  \\n \\nBerkovich -Ohana,  A., J. Glicksohn,  and A. Goldstein.  2012.  Mindfu lness -induced  changes  in \\ngamma  band  activity  - Implications  for the default  mode  network,  self-reference  and \\nattention.  Clin.  Neurophysiol.  123:700 -710. \\nBerkovich -Ohana,  A., J. Glicksohn,  and A. Goldstein.  2013.  Studying  the default  mode  and its \\nmindfulnes s-induced  changes  using  EEG  functional  connectivity.  Soc. Cogn.  Affect.  \\nNeurosci.  1-9. \\nBola ños, M., E. M. Bernat,  B. He, and S. Aviyente.  2013.  A weighted  small  world  network  \\nmeasure  for assessing  functional  connectivity.  J. Neurosci.  Methods.  212:133 -142. \\nBrovelli,  A., J. Lachaux,  P. Kahane,  and D. Boussaoud.  2005.  High  gamma  frequency  oscillatory  \\nactivity  dissociates  attention  from  intention  in the human  premotor  cortex.  NeuroImage.  \\n28:154 -164. \\nBrown,  K. W., and R. M. Ryan.  2003.  The benefits  of being  present:  Mindfulness  and its role in \\npsychological  well-being.  J. Pers.  Soc. Psychol.  84:822 -848. \\nBruer,  J. T. 1999.  Neural  connections:  Some  you use, some  you lose. Phi Delta  Kappan.  81:264 -\\n277. \\nBullmore,  E., and O. Sporns.  2009.  Complex  brain  networks:  graph  theoretical  analysis  of \\nstructural  and functional  systems.  Nat. Rev. Neurosci.  10:186 -198. \\nCahn,  B., A. Delorme,  and J. Polich.  2013.  Event -related  delta,  theta,  alpha  and gamma  correlates  \\nto auditory  oddball  processing  during  Vipassana  meditation.  Soc. Cogn.  Affect.  Neurosci.  \\n8:100 -111. \\nCahn,  B., A. Delorme,  and J. Polich.  2010.  Occipital  gamma  activation  during  Vipassana  \\nmeditation.  Cogn.  Process.  11: 39-56. ' metadata={'source': '/content/studies/hauswald 2015.pdf', 'page': 29}\n",
            "page_content='ACCEPTED MANUSCRIPTACCEPTED MANUSCRIPT\\n30 Cahn,  B., and J. Polich.  2006.  Meditation  states  and traits:  EEG,  ERP,  and neuroimaging  studies.  \\nPsychol.  Bull.  132:180 -211. \\nChiesa,  A., P. Malinowski.  2011.  Mindfulness -based  approaches:  Are they all the same?  J. \\nClin.Psychol. , 76: 404-424 \\nDor-Ziderman,  Y., A. Berkovich -Ohana,  J. Glicksohn,  and A. Goldstein.  2013.  Mindfulness -\\ninduced  selflessness:  a MEG  neurophenomenological  study.  Front.  Hum.  Neurosci.  7:1-17. \\nFaber,  P., D. Lehmann,  L. R. R. Gianotti,  M. Kaelin,  and R. D. Pascual -Marqui.  2004. Scalp  and \\nintracerebral  (LORETA)  theta  and gamma  EEG  coherence  in meditation.  International  \\nSociety  for Neuronal  Regulation,  Winterthur,  Switzerland.   \\nFayed,  N., Y. Lopez  Del Hoyo,  E. Andres,  A. Serrano -Blanco,  J. Bellón, K. Aguilar,  A. Cebolla,  \\nand J. Garcia -Campayo.  2013.  Brain  Changes  in Long -Term  Zen Meditators  Using  Proton  \\nMagnetic  Resonance  Spectroscopy  and Diffusion  Tensor  Imaging:  A Controlled  Study.  \\nPLoS  ONE.  8:e58476.  doi:10.1371/journal.pone.0058476.  \\nFell, J., N. Axmacher,  and S. Haupt.  2010.  From  alpha  to gamma:  Electrophysiological  correlates  \\nof meditation -related  states  of consciousness.  Med.  Hypotheses.  75:218 -224. \\nFerrarelli,  F., R. Smith,  D. Dentico,  B. A. Riedner,  C. Zennig,  R. M. Benca,  A. Lutz,  R. J. \\nDavidson,  and G. Tononi.  2013.  Experienced  mindfulness  meditators  exhibit  higher  parietal -\\noccipital  eeg gamma  activity  during  nrem  sleep.  PLoS  ONE.  8:e73417.  \\nGrant,  J. A., J. Courtemanche,  E. Duerden,  G. Duncan,  and P. Rainville.  2010.  Cortical  thickness  \\nand pain sensitivity  in zen meditat ors. Emotion.  10:43 -53. \\nGregoriou,  G., S. Gotts,  H. Zhou,  and R. Desimone.  2009.  High -Frequency,  Long -Range  \\nCoupling  Between  Prefrontal  and Visual  Cortex  During  Attention.  Science.  324:1207 -1210.  ' metadata={'source': '/content/studies/hauswald 2015.pdf', 'page': 30}\n",
            "page_content='ACCEPTED MANUSCRIPTACCEPTED MANUSCRIPT\\n31 Gross,  J., J. Kujala,  M. Hämäläinen,  L. Timmermann,  A. Schnitzler,  and R. Salmelin.  2001.  \\nDynamic  imaging  of coherent  sources:  studying  neural  interactions  in the human  brain.  \\nProc.  Natl.  Acad.  Sci. U S A. 98:694.  \\nHasenkamp,  W., and L. Barsalou.  2012.  Effects  of Meditation  Experience  on Functional  \\nConnectivity  of Distributed  Brain  Networks.  Front.  Hum.  Neurosci.  6:1-14. \\nHinterberger,  T., S. Schmidt,  T. Kamei,  and H. Walach.  2014.  Decreased  electrophysiological  \\nactivity  represents  conscious  state of emptiness  in meditation.  Front.  Psychol . 5: 1-14 \\nHebert,  R., D. Lehmann,  G. Tan, F. Travis,  and A. Arenander.  2005.  Enhanced  EEG  alpha  time-\\ndomain  phase  synchrony  during  Transcendental  Meditation:  Implications  for cortical  \\nintegration  theory.  Signal  Processing.  85:2213 -2232.  \\nHodgins,  H. S., and K. C. Adair.  2010.  Attentional  processes  and meditation.  Conscious.  Cogn.  \\n19:872 -878. \\nHölzel, B. K., J. Carmody,  M. Vangel,  C. Congleton,  S. M. Yerramsetti,  T. Gard,  and S. Lazar.  \\n2011.  Mindfulness  practice  leads  to increases  in regional  brain  gray matter  density.  \\nPsychiatry  Res. 191:36 -43. \\nJensen,  O., J. Kaiser,  and J. P. Lachaux.  2007.  Human  gamma -frequency  oscillations  associated  \\nwith attention  and memory.  Trends  Neurosci.  30:317 -324. \\nJokisch,  D., and O. Jensen.  2007.  Modulation  of gamma  and alpha  activ ity during  a working  \\nmemory  task engaging  the dorsal  or ventral  stream.  J. Neurosci.  27:3244 -3251.  \\nKabat -Zinn,  J. 2006.  Mindfulness -Based  Interventions  in Context:  Past,  Present,  and Future.  \\nClinical  Psychology:  Science  and Practice.  10:144 -156. \\nKang,  D., H. Jo, W. Jung,  S. Kim,  Y. Jung,  C. Choi,  U. Lee, S. An, J. Jang,  and J. Kwon.  2013.  \\nThe effect  of meditation  on brain  structure:  cortical  thickness  mapping  and diffusion  tensor  \\nimaging.  Soc. Cogn.  Affect.  Neurosci.  8:27-33. ' metadata={'source': '/content/studies/hauswald 2015.pdf', 'page': 31}\n",
            "page_content='ACCEPTED MANUSCRIPTACCEPTED MANUSCRIPT\\n32 Kantak,  S.S., G.F. Wittenberg,  W.W.  Liao,  L.S. Magder,  M.W.  Rogers,  and S.M.  Waller,  2013.  \\nPosture -related  modulations  in motor  cortical  excitability  of the proximal  and distal  arm \\nmuscles.  Neurosci.  Lett. 533:65 -70 \\nKasamatsu,  A., and T. Hirai.  1966.  An electroencephalographic  study  on the zen meditation  \\n(Zazen).  Folia  Psychiatr.  Neurol.  Jpn. 20:315 -336. \\nKilpatrick,  L. A., B. Y. Suyenobu,  S. R. Smith,  J. A. Bueller,  T. Goodman,  J. D. Creswell,  K. \\nTillisch,  E. A. Mayer,  and B. D. Naliboff.  2011.  Impact  of mindfulness -based  stress  \\nreduction  training  on intrinsic  brain  connectivity.  NeuroImage.  56:290 -298. \\nKubota,  Y., W. Sato,  M. Toichi,  T. Murai,  T. Okada,  A. Hayashi,  and A. Sengoku.  2001.  Frontal  \\nmidline  theta  rhythm  is correlated  with cardiac  autonomic  activ ities during  the performance  \\nof an attention  demanding  meditation  procedure.  Cogn.  Brain  Res. 11:281 -287. \\nLachaux,  J. P., N. George,  C. Tallon -Baudry,  J. Martinerie,  L. Hugueville,  L. Minotti,  P. Kahane,  \\nand B. Renault.  2005.  The many  faces  of the gamma  band response  to complex  visual  \\nstimuli.  Neuroimage.  25:491 -501. \\nLazar,  S. W., C. E. Kerr,  R. H. Wasserman,  J. R. Gray,  D. N. Greve,  M. T. Treadway,  M. \\nMcGarvey,  B. T. Quinn,  J. A. Dusek,  H. Benson,  S. L. Rauch,  C. I. Moore,  and B. Fischl.  \\n2005.  Meditation  experience  is associated  with increased  cortical  thickness.  Neur oreport.  \\n16:1893 -1897.  \\nLehmann,  D., P. L. Faber,  P. Achermann,  D. Jeanmonod,  L. R. Gianotti,  and D. Pizzagalli.  2001.  \\nBrain  sources  of EEG  gamma  frequency  during  volitionally  meditation -induced,  altered  \\nstates  of consciousness,  and experience  of the self. Psychiatry  Res. 108:111 -121. \\nLehmann,  D., P. L. Faber,  S. Tei, R. Pascual -Marqui,  P. Milz,  and K. Kochi.  2012.  Reduced  \\nfunctional  connectivity  between  cortical  sources  in five meditation  traditions  detected  with \\nlagged  coherence  using  EEG  tomography.  Neuro Image.  60:1574 -1586.  ' metadata={'source': '/content/studies/hauswald 2015.pdf', 'page': 32}\n",
            "page_content='ACCEPTED MANUSCRIPTACCEPTED MANUSCRIPT\\n33 Leung,  M., C. Chan,  J. Yin, C. Lee, K. So, and T. Lee. 2013.  Increased  gray matter  volume  in the \\nright  angular  and posterior  parahippocampal  gyri in loving -kindness  meditators.  Soc. Cogn.  \\nAffect.  Neurosci.  8:34-39. \\nLou, H., Gross,  J., Biermann -Ruben,  K., Kjaer,  T., Schnitzler,  A. 2010.  Coherence  in \\nconsciousness:  Paralimbic  gamma  synchrony  of self-reference  links  to conscious  experience.  \\nHum.  Brain.  Mapp.  31: 185-192 \\nLuders,  E., K. Clark,  K. Narr,  and A. W. Toga.  2011.  Enhanced  brain  connectivity  in long-term \\nmeditation  practitioners.  NeuroImage.  57:1308 -1316.   \\nLuders,  E., F. Kurth,  E. A. Mayer,  A. W. Toga,  K. Narr,  and C. Gaser.  2012.  The Unique  Brain  \\nAnatomy  of Meditation  Practitioners:  Alterations  in Cortical  Gyrification.  Front.  Hum.  \\nNeurosci.  6:1-9. \\nLuders,  E., F. Kurth,  A. W. Toga,  K. Narr,  and C. Gaser.  2013a.  Meditation  effects  within  the \\nhippocampal  complex  revealed  by voxel -based  morphometry  and cytoarchitectonic  \\nprobabilistic  mapping.  Front.  Psychol.  4:1-7.  \\nLuders,  E., P. Thom pson,  F. Kurth,  J. Hong,  O. Phillips,  Y. Wang,  B. Gutman,  Y. Chou,  K. Narr,  \\nand A. W. Toga.  2013b.  Global  and regional  alterations  of hippocampal  anatomy  in long-\\nterm meditation  practitioners.  Hum.  Brain  Mapp.  34:3369 -3375.   \\nLuders,  E., A. W. Toga,  N. Lepo re, and C. Gaser.  2009.  The underlying  anatomical  correlates  of \\nlong-term meditation:  Larger  hippocampal  and frontal  volumes  of gray matter.  NeuroImage.  \\n45:672 -678. \\nLutz,  A., L. L. Greischar,  N. B. Rawlings,  M. Ricard,  and R. Davidson.  2004.  Long -term \\nmedi tators  self-induce  high-amplitude  gamma  synchrony  during  mental  practice.  Proc.  Natl.  \\nAcad.  Sci. U S A. 101:16369 -16373.  ' metadata={'source': '/content/studies/hauswald 2015.pdf', 'page': 33}\n",
            "page_content='ACCEPTED MANUSCRIPTACCEPTED MANUSCRIPT\\n34 Lutz,  A., H. A. Slagter,  J. D. Dunne,  and R. J. Davidson.  2008.  Attention  regulation  and \\nmonitoring  in meditation.  Trends  Cogn.  Sci. 12:163-169. \\nMaris,  E., and R. Oostenveld.  2007.  Nonparametric  statistical  testing  of EEG -and MEG -data.  J. \\nNeurosci.  Methods.  164:177 -190. \\nMarzetti,  L., C. Del Gratta,  and G. Nolte.  2008.  Understanding  brain  connectivity  from  EEG  data \\nby identifying  systems  composed  of interacting  sources.  Neuroimage.  42:87 -98. \\nMichalak,  J., T. Heidenreich,  G. Ströhle, and C. Nachtigall.  2008.  Die deutsche  Version  der \\nMindful  Attention  and Awareness  Scale  (MAAS)[The  German  version  of the Mindful  \\nAttention  and Awareness  Scale  (MAAS)].  Zeitschrift  für Klinische  Psychologie  und \\nPsychotherapie.  37:200 -208. \\nMurata,  T., T. Takahashi,  T. Hamada,  M. Omori,  H. Kosaka,  H. Yoshida,  and Y. Wada.  2004.  \\nIndividual  trait anxiety  levels  characterizing  the properties  of Zen meditation.  \\nNeuropsy chobiology.  50:189 -194. \\nMuthukumaraswamy  S.D.,  2013.  High -frequency  brain  activity  and muscle  artifacts  in \\nMEG/EEG:  a review  and recommendations.  Front.  Hum.  Neurosci.  \\ndoi:10.3389/fnhum.2013.00138  \\nNolte,  G., O. Bai, L. Wheaton,  Z. Mari,  S. Vorbach,  and M. Hallett.  2004.  Identifying  true brain  \\ninteraction  from  EEG  data using  the imaginary  part of coherency.  Clin.  Neurophysiol.  \\n115:2292 -2307.  \\nOostenveld,  R., P. Fries,  E. Maris,  and J. M. Schoffelen.  2011.  FieldTrip:  open  source  software  for \\nadvanced  analysis  of MEG,  EEG,  and invasive  electrophysiological  data.  Comput.  Intell.  \\nNeurosci.  2011:1.  \\nOtt, U., Hölzel B., and D. Vaitl.  2011.  Brain  structure  and meditation.  How  spiritual  practice  \\nshapes  the brain.  In Neuroscience,  Consciousness  and Spirituality.  H. Walach,  S. Schmidt,  ' metadata={'source': '/content/studies/hauswald 2015.pdf', 'page': 34}\n",
            "page_content='ACCEPTED MANUSCRIPTACCEPTED MANUSCRIPT\\n35 and W. B. Jonas,  (Eds).  Proceedings  of the Expert  Meeting  in Freiburg/Breisgau  2008.  \\nBerlin:  Springer.  119-128. \\nPagnoni,  G., and M. Cekic.  2007.  Age effects  on gray matter  volume  and attentional  performance  \\nin Zen meditation.  Neurobiol.  Aging.  28:1623 -1627.  \\nPagnoni,  G., M. Cekic,  and Y. Guo.  2008.  “Thinking  about  Not-Thinking”: Neural  Correlates  of \\nConceptual  Processing  during  Zen Meditation.  PLoS  ONE.  3:e3083.  \\nPercival  D.B.,  Walden  A.T. 1993. Spectral  analysis  for physical  applications:  multitaper  and \\nconventional  univariate  techniques.  Cambridge,  UK: Cambridge  University  Press.   \\nPope,  K. J., S. P. Fitzgibbon,  T. W. Lewis,  E. M. Whitham,  and J. O. Willoughby.  2009.  Relation  \\nof gamma  oscill ations  in scalp  recordings  to muscular  activity.  Brain  Topogr.  22:13 -17. \\nRay, S., E. Niebur,  S. S. Hsiao,  A. Sinai,  and N. E. Crone.  2008.  High -frequency  gamma  activity  \\n(80-150Hz)  is increased  in human  cortex  during  selective  attention.  Clin.  Neurophysiol.  \\n119:116 -133. \\nRubinov,  M., and O. Sporns.  2010.  Complex  network  measures  of brain  connectivity:  uses and \\ninterpretations.  Neuroimage.  52:1059 -1069.  \\nSaggar,  M., B. King,  A. Zanesco,  K. Maclean,  S. Aichele,  T. Jacobs,  D. Bridwell,  P. Shaver,  E. \\nRosenberg,  B. Sahdra,  E. Ferrer,  A. Tang,  G. Mangun,  B. Wallace,  R. Miikkulainen,  and C. \\nSaron.  2012.  Intensive  training  induces  longitudinal  changes  in meditation  state-related  EEG  \\noscillatory  activity.  Front.  Hum.  Neurosci.  6:1-14. \\nSlagter,  H. A., A. Lutz,  L. L. Greischar,  A. D. Francis,  S. Nieuwenhuis,  J. M. Davis,  and R. J. \\nDavidson.  2007.  Mental  training  affects  distribution  of limited  brain  resources.  PLoS  Biol.  \\n5:e138  ' metadata={'source': '/content/studies/hauswald 2015.pdf', 'page': 35}\n",
            "page_content='ACCEPTED MANUSCRIPTACCEPTED MANUSCRIPT\\n36 Takahashi,  T., T. Murata,  T. Hamada,  M. Omori,  H. Kosaka,  M. Kikuchi,  H. Yoshida,  and Y. \\nWada.  2005. Changes  in EEG  and autonomic  nervous  activity  during  meditation  and their \\nassociation  with personality  traits.  Int. J. Psychophysiol.  55:199 -207. \\nTang,  Y., Q. Lu, M. Fan, Y. Yang,  and M. Posner.  2012.  Mechanisms  of white  matter  changes  \\ninduced  by medi tation.  Proc.  Natl.  Acad.  Sci. U S A. 109:10570 -10574.  \\nTang,  Y., Q. Lu, X. Geng,  E. Stein,  Y. Yang,  and M. Posner.  2010.  Short -term meditation  induces  \\nwhite  matter  changes  in the anterior  cingulate.  Proc.  Natl.  Acad.  Sci. U S A. s. 107:15649 -\\n15652.  \\nTassi,  P., and A. Muzet.  2001.  Defining  the states  of consciousness.  Neurosci.  Biobehav.  Rev. \\n25:175 -191. \\nTravis,  F., D. Haaga,  J. Hagelin,  M. Tanner,  A. Arenander,  S. Nidich,  C. Gaylord -King,  S. \\nGrosswald,  M. Rainforth,  and R. Schneider.  2010.  A self-referential  default  brain  state:  \\npatterns  of coherence,  power,  and eLORETA  sources  during  eyes-closed  rest and \\nTranscendental  Meditation  practice.  Cogn.  Process.  11:21 -30. \\nTravis,  F., and J. Shear.  2010.  Focused  attention,  open  monitoring  and automatic  self-\\ntranscend ing: Categories  to organize  meditations  from  Vedic,  Buddhist  and Chinese  \\ntraditions.  Conscious.  Cogn.  1-9. \\nvan Leeuwen,  S., N. G. Muller,  and L. Melloni.  2009.  Age effects  on attentional  blink  \\nperformance  in meditation.  Conscious.  Cogn.  18:593 -599. \\nWespata t, V., F. Tennigkeit,  and W. Singer.  2004.  Phase  sensitivity  of synaptic  modifications  in \\noscillating  cells of rat visual  cortex.  J. Neurosci.  24:9067 -9075.  \\nXue,  S., Y. Tang,  and M. Posner.  2011.  Short -term meditation  increases  network  efficiency  of the \\nanterior  cingulate  cortex.  NeuroReport.  22:570 -574. ' metadata={'source': '/content/studies/hauswald 2015.pdf', 'page': 36}\n",
            "page_content='ACCEPTED MANUSCRIPTACCEPTED MANUSCRIPT\\n37 Xue,  S., Y. Tang,  R. Tang,  and M. Posner.  2014.  Short -term meditation  induces  changes  in brain  \\nresting  EEG  theta  networks.  Brain  Cogn.  87:1-6. ' metadata={'source': '/content/studies/hauswald 2015.pdf', 'page': 37}\n"
          ]
        }
      ]
    },
    {
      "cell_type": "code",
      "source": [
        "# Create embeddings index with content enabled. The default behavior is to only store indexed vectors.\n",
        "embeddings = Embeddings({\"path\": \"sentence-transformers/nli-mpnet-base-v2\", \n",
        "                         \"content\": True, \n",
        "                         \"objects\": True})"
      ],
      "metadata": {
        "id": "WpVyMy51bKwN",
        "outputId": "24a192fc-b083-4547-9aab-b53c6aaca5c6",
        "colab": {
          "base_uri": "https://localhost:8080/",
          "height": 209,
          "referenced_widgets": [
            "4479d0ed8ca747179fd44d49cba12aae",
            "805939c26f9d4af1b3de1151657d7000",
            "3e063cab67314b67a1c910eb3f74c8b4",
            "0d550fc3ada24eb6bc64c2349dcf95b3",
            "2211e1a88093491295d08c4969d3fc40",
            "acd32d24184f4669bcbc42a3cf968d88",
            "911b534870004c7a80655d65001bdaaa",
            "6915167f88f443e5b5302cabb938ce7c",
            "2960272922b24372a7e7ab4fffcf540e",
            "e2a0156fea3e4125a828d04993e8b9d3",
            "ce427381cfbd40639fcd8a5d77197f89",
            "baa8318ba81043c292a1ba9d505e07e6",
            "e9af76d593654e95ad030ff107abd676",
            "8684637f96cf47e2b69bdcb310a88e54",
            "fd33f70912dc40d78e6004f59f8c61ca",
            "4adf38e207564cb0904dba5de7630192",
            "5e5920ae885c4ee68ad0bf828483939f",
            "290abad90b274209b11eb0b4c7f1285c",
            "b04d8d8c96c849bc8bbc48bb3477ea78",
            "4778c442b19c41acb84d255354d211cc",
            "ff18c4426916494987784d6f35bcab44",
            "b97a5b7913d74e7abcab46b56ae442c1",
            "30971995825f41bd85bdbe72ea8c4c1c",
            "6a3d9171c2cb469895a68c6a63ac93e9",
            "56d299fbce214e0982f27e35f97e86bd",
            "a339c4834d4247c78c0c40ca377f6415",
            "7fd0d91d53654a6baa3e5cf8e2d7bc4e",
            "9801d8492e9e47fb8f3ab8e4154743e0",
            "aaa21d978f12496bad7fdf0e905b999d",
            "e6907f30c9ec4c088eb402fe0b5d02f3",
            "1809d3f06f1a43db951cc2379cb6280b",
            "87aabf7f41e5426ab2e6a582358dd354",
            "357fbe2067ef495583cb7898d6412416",
            "517d1ca070ee4f3ab3a0842644b7b404",
            "2bad6992ec7842e5b8630b3cd9c311d0",
            "988af082c9f84962b61526157aa49d3a",
            "c83d9870531b4988bd71c60e9b61f6bc",
            "57f6d7387cb240a3b3c6f9bf217caa8f",
            "87a34e8adcb9428a8331b45755e76ad9",
            "c9fdb76b5959481aa1cab3e1e8611b55",
            "5e2e38a4ca334b279cfcb781e2026116",
            "984aa2cbcd124312a00e5416476bf0b1",
            "ab7e64e6282c4ce7aa87e07f23661d5d",
            "70d17e49c2134d289feeceb6dda9bfea",
            "91c270e6c3954309b429a8170517631d",
            "b2015465ab204350ae6f7c85548f1b62",
            "070ec771fb424f1e8258426c9ad847dd",
            "f556e42a277542848eec63e1d6a2a960",
            "927c5b1fefef4cc6ab8bf71e1b7af2e9",
            "ec793a49872244cd8892bab48be220ca",
            "e82327bc30f147e8b53e0789303e551f",
            "7f0e0f2fde46457b926e3feb855e70aa",
            "8a8860fb2abc4d4bb8ae35ec9b1b6138",
            "ec2cfcb328a748fb90fcd300bb0796dc",
            "5b3830905a974142a2f20a772f45a1b9",
            "0285b644ebe142c698a150a3448e2a65",
            "d806d676e3a944e788515fd9fa537247",
            "0a8db6cbfb0f4a0292a2ea2ef31e9797",
            "88214cc022ed49d0abc4b5bf734d96b2",
            "88fadb2572674f44a6fbd7333b727e6d",
            "a748597fd8c74a0ebaea67e18ff37649",
            "c30ff411d2534f93b4f58372c77ac2d1",
            "e74c57dfe7be41abb48fb9858414f6dc",
            "9fa353004a044436a941cfcff4f62938",
            "1d710e11e536486ea303bb12de13b905",
            "987460949013422aa95cffaec44bf033"
          ]
        }
      },
      "execution_count": 10,
      "outputs": [
        {
          "output_type": "display_data",
          "data": {
            "text/plain": [
              "Downloading (…)lve/main/config.json:   0%|          | 0.00/587 [00:00<?, ?B/s]"
            ],
            "application/vnd.jupyter.widget-view+json": {
              "version_major": 2,
              "version_minor": 0,
              "model_id": "4479d0ed8ca747179fd44d49cba12aae"
            }
          },
          "metadata": {}
        },
        {
          "output_type": "display_data",
          "data": {
            "text/plain": [
              "Downloading pytorch_model.bin:   0%|          | 0.00/438M [00:00<?, ?B/s]"
            ],
            "application/vnd.jupyter.widget-view+json": {
              "version_major": 2,
              "version_minor": 0,
              "model_id": "baa8318ba81043c292a1ba9d505e07e6"
            }
          },
          "metadata": {}
        },
        {
          "output_type": "display_data",
          "data": {
            "text/plain": [
              "Downloading (…)okenizer_config.json:   0%|          | 0.00/1.19k [00:00<?, ?B/s]"
            ],
            "application/vnd.jupyter.widget-view+json": {
              "version_major": 2,
              "version_minor": 0,
              "model_id": "30971995825f41bd85bdbe72ea8c4c1c"
            }
          },
          "metadata": {}
        },
        {
          "output_type": "display_data",
          "data": {
            "text/plain": [
              "Downloading (…)solve/main/vocab.txt:   0%|          | 0.00/232k [00:00<?, ?B/s]"
            ],
            "application/vnd.jupyter.widget-view+json": {
              "version_major": 2,
              "version_minor": 0,
              "model_id": "517d1ca070ee4f3ab3a0842644b7b404"
            }
          },
          "metadata": {}
        },
        {
          "output_type": "display_data",
          "data": {
            "text/plain": [
              "Downloading (…)/main/tokenizer.json:   0%|          | 0.00/466k [00:00<?, ?B/s]"
            ],
            "application/vnd.jupyter.widget-view+json": {
              "version_major": 2,
              "version_minor": 0,
              "model_id": "91c270e6c3954309b429a8170517631d"
            }
          },
          "metadata": {}
        },
        {
          "output_type": "display_data",
          "data": {
            "text/plain": [
              "Downloading (…)cial_tokens_map.json:   0%|          | 0.00/239 [00:00<?, ?B/s]"
            ],
            "application/vnd.jupyter.widget-view+json": {
              "version_major": 2,
              "version_minor": 0,
              "model_id": "0285b644ebe142c698a150a3448e2a65"
            }
          },
          "metadata": {}
        }
      ]
    },
    {
      "cell_type": "code",
      "source": [
        "# Create an index for the list of text\n",
        "embeddings.index([(uid, \n",
        "                   text, \n",
        "                   None) for uid, text in enumerate(split_data)])"
      ],
      "metadata": {
        "id": "kGTzfLp6bK3M"
      },
      "execution_count": 11,
      "outputs": []
    },
    {
      "cell_type": "code",
      "source": [
        "embeddings.search(\"Some studies by lutz\",1)"
      ],
      "metadata": {
        "colab": {
          "base_uri": "https://localhost:8080/"
        },
        "id": "ef81hpEAfqI1",
        "outputId": "a81bc6cc-c04e-4ded-c8e9-31a16f70267a"
      },
      "execution_count": 12,
      "outputs": [
        {
          "output_type": "execute_result",
          "data": {
            "text/plain": [
              "[{'id': '335',\n",
              "  'text': 'Cognit. 6,267–290.\\n30. Lutz, A. & Thompson, E. (2003) J. Conscious. Stud. 10,31–52.\\nLutz et al. PNAS /H20841November 16, 2004 /H20841vol. 101 /H20841no. 46 /H2084116373\\nNEUROSCIENCE',\n",
              "  'score': 0.5509806871414185}]"
            ]
          },
          "metadata": {},
          "execution_count": 12
        }
      ]
    },
    {
      "cell_type": "code",
      "source": [
        "# Save the index\n",
        "embeddings.save(\"index\")\n",
        "\n",
        "# Show basic details about index files\n",
        "for f in [\"config\", \"documents\", \"embeddings\"]:\n",
        "  !ls -l \"index/{f}\"\n",
        "  !xxd \"index/{f}\" | head -5\n",
        "  !file \"index/{f}\"\n",
        "  !echo"
      ],
      "metadata": {
        "id": "xr3mHBTafqFI"
      },
      "execution_count": null,
      "outputs": []
    },
    {
      "cell_type": "code",
      "source": [
        "!zip -r textai_index.zip /content/index"
      ],
      "metadata": {
        "id": "hCpQ0WBfAKtO",
        "outputId": "bad28063-ffc3-4def-e4fe-0e23830fe567",
        "colab": {
          "base_uri": "https://localhost:8080/"
        }
      },
      "execution_count": 15,
      "outputs": [
        {
          "output_type": "stream",
          "name": "stdout",
          "text": [
            "  adding: content/index/ (stored 0%)\n",
            "  adding: content/index/documents (deflated 68%)\n",
            "  adding: content/index/embeddings (deflated 7%)\n",
            "  adding: content/index/config (deflated 14%)\n"
          ]
        }
      ]
    },
    {
      "cell_type": "code",
      "source": [
        "import json\n",
        "import pickle\n",
        "\n",
        "with open(\"index/config\", \"rb\") as config:\n",
        "  print(json.dumps(pickle.load(config), \n",
        "                   sort_keys=True, \n",
        "                   indent=2))"
      ],
      "metadata": {
        "colab": {
          "base_uri": "https://localhost:8080/"
        },
        "id": "r2_WWcPGfp-T",
        "outputId": "212c02fa-dac3-47d3-866d-05913b1048cb"
      },
      "execution_count": 16,
      "outputs": [
        {
          "output_type": "stream",
          "name": "stdout",
          "text": [
            "{\n",
            "  \"backend\": \"faiss\",\n",
            "  \"build\": {\n",
            "    \"create\": \"2023-04-20T14:09:59Z\",\n",
            "    \"python\": \"3.9.16\",\n",
            "    \"settings\": {\n",
            "      \"components\": \"IDMap,Flat\"\n",
            "    },\n",
            "    \"system\": \"Linux (x86_64)\",\n",
            "    \"txtai\": \"5.4.0\"\n",
            "  },\n",
            "  \"content\": true,\n",
            "  \"dimensions\": 768,\n",
            "  \"objects\": true,\n",
            "  \"offset\": 1318,\n",
            "  \"path\": \"sentence-transformers/nli-mpnet-base-v2\",\n",
            "  \"update\": \"2023-04-20T14:09:59Z\"\n",
            "}\n"
          ]
        }
      ]
    },
    {
      "cell_type": "code",
      "source": [
        "import pandas as pd\n",
        "import sqlite3\n",
        "\n",
        "from IPython.display import display, Markdown\n",
        "\n",
        "# Print details of a txtai SQLite document database\n",
        "def showdb(path):\n",
        "  db = sqlite3.connect(path)\n",
        "\n",
        "  display(Markdown(\"## Tables\"))\n",
        "  df = pd.read_sql_query(\"select name FROM sqlite_master where type='table'\", db)\n",
        "  display(df.style.hide_index())\n",
        "\n",
        "  for table in df[\"name\"]:\n",
        "    display(Markdown(f\"## {table}\"))\n",
        "    df = pd.read_sql_query(f\"select * from {table}\", db)\n",
        "\n",
        "    # Truncate large binary objects\n",
        "    if \"object\" in df:\n",
        "      df[\"object\"] = df[\"object\"].str.slice(0, 25)\n",
        "\n",
        "    display(df[:5].style.hide_index())\n",
        "\n",
        "showdb(\"index/documents\")"
      ],
      "metadata": {
        "id": "misGdLoUfp3G"
      },
      "execution_count": null,
      "outputs": []
    },
    {
      "cell_type": "code",
      "source": [
        "import faiss\n",
        "import numpy as np\n",
        "\n",
        "# Query\n",
        "query = \"What is meditation?\"\n",
        "\n",
        "# Read index\n",
        "index = faiss.read_index(\"index/embeddings\")\n",
        "print(index)\n",
        "print(f\"Total records: {index.ntotal}, dimensions: {index.d}\")\n",
        "print()\n",
        "\n",
        "# Generate query embeddings and run query\n",
        "queries = np.array([embeddings.transform((None, query, None))])\n",
        "scores, ids = index.search(queries, 1)\n",
        "\n",
        "# Lookup query result from original data array\n",
        "result = split_data[ids[0][0]]\n",
        "\n",
        "# Show results\n",
        "print(\"Query:\", query)\n",
        "print(\"Results:\", result, ids, scores)"
      ],
      "metadata": {
        "colab": {
          "base_uri": "https://localhost:8080/"
        },
        "id": "hfFaZJmgkHEU",
        "outputId": "14e6392e-1b04-4065-d116-c8e7fced8a14"
      },
      "execution_count": 17,
      "outputs": [
        {
          "output_type": "stream",
          "name": "stdout",
          "text": [
            "<faiss.swigfaiss_avx2.IndexIDMap; proxy of <Swig Object of type 'faiss::IndexIDMapTemplate< faiss::Index > *' at 0x7f100c276e70> >\n",
            "Total records: 1318, dimensions: 768\n",
            "\n",
            "Query: What is meditation?\n",
            "Results: meditation  that are particularly  related  to mindfulness . [[1106]] [[0.7347889]]\n"
          ]
        }
      ]
    },
    {
      "cell_type": "code",
      "source": [
        "import urllib\n",
        "\n",
        "from IPython.display import Image\n",
        "\n",
        "# Get an image\n",
        "request = urllib.request.urlopen(\"https://raw.githubusercontent.com/neuml/txtai/master/demo.gif\")\n",
        "\n",
        "# Get data\n",
        "data = request.read()\n",
        "\n",
        "# Upsert new record having both text and an object\n",
        "embeddings.upsert([(\"txtai\", {\"text\": \"txtai executes machine-learning workflows to transform data and build AI-powered semantic search applications.\", \n",
        "                              \"size\": len(data), \n",
        "                              \"object\": data}, None)])\n",
        "\n",
        "embeddings.save(\"index\")\n",
        "\n",
        "showdb(\"index/documents\")"
      ],
      "metadata": {
        "id": "xzPjjLT5kl-2"
      },
      "execution_count": null,
      "outputs": []
    },
    {
      "cell_type": "code",
      "source": [
        "embeddings.search(\"select * from authors where similar('neuro imaging')\")"
      ],
      "metadata": {
        "colab": {
          "base_uri": "https://localhost:8080/"
        },
        "id": "7CUmIJd8k-0b",
        "outputId": "f7cd317f-e89a-42b1-ef29-c2158b967d8b"
      },
      "execution_count": null,
      "outputs": [
        {
          "output_type": "execute_result",
          "data": {
            "text/plain": [
              "[{'id': '1004',\n",
              "  'text': '13. FoxKCR, Nijeboer S,Dixon ML,Floman JL,Ellamil M,Rumak SP,etal.Ismeditation associated with\\naltered brain structure? Asystematic review andmeta-analy sisofmorpho metric neuroimaging inmedi-\\ntation practitio ners. Neuroscienc e&Biobehavior alReviews. 2014; 43:48±7 3.doi:10.1016/ j.neubiorev.\\n2014.03. 016PMID: 24705269',\n",
              "  'score': 0.6630920171737671},\n",
              " {'id': '511',\n",
              "  'text': 'the right prefrontal cortex in self-evaluation of the face. A functional magneticresonance imaging study. J Cogn Neurosci 2008;20:342–55.\\nNelson TO. Consciousness and metacognition. Am Psychol 1996;51:102–16.\\nNielsen L, Kaszniak AW. Awareness of subtle emotional feelings: a comparison of',\n",
              "  'score': 0.6353673338890076},\n",
              " {'id': '1029',\n",
              "  'text': '46. Viola FC,Thorne J,Edmond sB,Schneid erT,Eichele T,Debener S.Semi-a utomatic identificat ionof\\nindependent compone ntsrepresenting EEG artifact. Clinical Neurophysio logy. 2009; 120(5):868 ±877.\\ndoi:10.1016 /j.clinph.2009. 01.015 PMID: 1934561 1\\n47. Piron H.The meditation depth index (MEDI) andthemeditation depth questionn aire(MEDEQ). Journal',\n",
              "  'score': 0.6309292316436768}]"
            ]
          },
          "metadata": {},
          "execution_count": 51
        }
      ]
    },
    {
      "cell_type": "code",
      "source": [
        "from txtai.pipeline import Extractor\n",
        "\n",
        "# Create extractor instance\n",
        "extractor = Extractor(embeddings, \"google/flan-t5-base\")"
      ],
      "metadata": {
        "id": "4z0WmG1Nk-u_"
      },
      "execution_count": null,
      "outputs": []
    },
    {
      "cell_type": "code",
      "source": [
        "def prompt(question):\n",
        "  return f\"\"\"Answer the following question using only the context below. Say 'no answer' when the question can't be answered.\n",
        "Question: {question}\n",
        "Context: \"\"\"\n",
        "\n",
        "def search(query, question=None):\n",
        "  # Default question to query if empty\n",
        "  if not question:\n",
        "    question = query\n",
        "\n",
        "  return extractor([(\"answer\", query, prompt(question), False)])[0][1]\n",
        "\n",
        "question = \"How many studies has lutz written?\"\n",
        "answer = search(question)\n",
        "print(question, answer)\n",
        "\n",
        "nquestion = \"Explain to me meditation?\"\n",
        "print(nquestion, search(f\"{question} {answer}. {nquestion}\"))"
      ],
      "metadata": {
        "id": "Cs-jJRc6k-kk",
        "outputId": "2231e09a-33f5-4a44-d77a-909d1596f16b",
        "colab": {
          "base_uri": "https://localhost:8080/"
        }
      },
      "execution_count": 19,
      "outputs": [
        {
          "output_type": "stream",
          "name": "stdout",
          "text": [
            "How many studies has lutz written? 30\n",
            "Explain to me meditation? no answer\n"
          ]
        }
      ]
    },
    {
      "cell_type": "code",
      "source": [
        "search(\"What are the studies done by Lutz?\")"
      ],
      "metadata": {
        "id": "aHnV7X_jA2-Z",
        "outputId": "6299e900-213a-4187-8725-e404c9a2bc1f",
        "colab": {
          "base_uri": "https://localhost:8080/",
          "height": 140
        }
      },
      "execution_count": 20,
      "outputs": [
        {
          "output_type": "execute_result",
          "data": {
            "text/plain": [
              "'a number of reports implicating slow oscillations with the meditative state(Lutz et al., 2007 ). However, and as also noted by the authors, these results could be biased by two fundamental factors: (1) fast oscillations were not investigated and (2)the studies were based on FA meditation, which could al., 2013; Hinterberger et al., 2014; Lehmann et al., 2001; for a review see: Cahn & Polich, 2006; Fell et al., 2010; Lutz et al., 2004). However, high-frequency gamma was not investigated in these studies and, therefore, it remains unclear whether modulations in high-frequency gamma activity'"
            ],
            "application/vnd.google.colaboratory.intrinsic+json": {
              "type": "string"
            }
          },
          "metadata": {},
          "execution_count": 20
        }
      ]
    },
    {
      "cell_type": "code",
      "source": [
        "search(\"What is meaning of life?\")"
      ],
      "metadata": {
        "id": "KYT_XhC4BTH6",
        "outputId": "77cddb8e-bff5-47cd-861b-597a7b0c20b6",
        "colab": {
          "base_uri": "https://localhost:8080/",
          "height": 35
        }
      },
      "execution_count": 21,
      "outputs": [
        {
          "output_type": "execute_result",
          "data": {
            "text/plain": [
              "'no answer'"
            ],
            "application/vnd.google.colaboratory.intrinsic+json": {
              "type": "string"
            }
          },
          "metadata": {},
          "execution_count": 21
        }
      ]
    },
    {
      "cell_type": "code",
      "source": [
        "search(\"What is meaning of meditation?\")"
      ],
      "metadata": {
        "id": "PcdF3f78BXQg",
        "outputId": "ae9bc375-8717-4640-ea09-9c423b7fb3f8",
        "colab": {
          "base_uri": "https://localhost:8080/",
          "height": 35
        }
      },
      "execution_count": 22,
      "outputs": [
        {
          "output_type": "execute_result",
          "data": {
            "text/plain": [
              "'cultivates a state ofbeing'"
            ],
            "application/vnd.google.colaboratory.intrinsic+json": {
              "type": "string"
            }
          },
          "metadata": {},
          "execution_count": 22
        }
      ]
    },
    {
      "cell_type": "code",
      "source": [
        "search(\"Tell me anything interesting\")"
      ],
      "metadata": {
        "id": "tvREStVGBwaB",
        "outputId": "edc7dee8-f273-4a03-e4b1-d7e670bd0f06",
        "colab": {
          "base_uri": "https://localhost:8080/",
          "height": 35
        }
      },
      "execution_count": 25,
      "outputs": [
        {
          "output_type": "execute_result",
          "data": {
            "text/plain": [
              "'no answer'"
            ],
            "application/vnd.google.colaboratory.intrinsic+json": {
              "type": "string"
            }
          },
          "metadata": {},
          "execution_count": 25
        }
      ]
    },
    {
      "cell_type": "code",
      "source": [
        "embeddings.search(\"What is meaning of meditation?\")"
      ],
      "metadata": {
        "id": "NiBMSLm6Bd6y",
        "outputId": "6117f48e-cdc1-4253-8ed7-11d61b1d8d22",
        "colab": {
          "base_uri": "https://localhost:8080/"
        }
      },
      "execution_count": 23,
      "outputs": [
        {
          "output_type": "execute_result",
          "data": {
            "text/plain": [
              "[{'id': '1106',\n",
              "  'text': 'meditation  that are particularly  related  to mindfulness .',\n",
              "  'score': 0.7294905185699463},\n",
              " {'id': '302',\n",
              "  'text': 'rather cultivates a state ofbeing. Objectless meditation does so in such a way that, accord-ing to reports given after meditation, the intentional or object-oriented aspect of experience appears to dissipate in meditation.This dissipation of focus on a particular object is achieved byletting the very essence of the meditation that is practiced',\n",
              "  'score': 0.7080163955688477},\n",
              " {'id': '1074',\n",
              "  'text': 'thought  or object.  During  FA meditation,  attention  is directed  towards  a particular  object,  thought  \\nor proce ss. These  categories  do not represent  mutually  exclusive  processes  but may be \\ndifferentially  engaged  during  long-term meditation  or even  during  a single  meditation  session',\n",
              "  'score': 0.6929957866668701}]"
            ]
          },
          "metadata": {},
          "execution_count": 23
        }
      ]
    }
  ]
}