{
 "cells": [
  {
   "cell_type": "code",
   "execution_count": 1,
   "metadata": {},
   "outputs": [
    {
     "ename": "ImportError",
     "evalue": "cannot import name 'add_step' from 'fairworkflows' (/home/tk/.local/lib/python3.8/site-packages/fairworkflows/__init__.py)",
     "output_type": "error",
     "traceback": [
      "\u001b[0;31m---------------------------------------------------------------------------\u001b[0m",
      "\u001b[0;31mImportError\u001b[0m                               Traceback (most recent call last)",
      "\u001b[0;32m<ipython-input-1-38490177a7f2>\u001b[0m in \u001b[0;36m<module>\u001b[0;34m\u001b[0m\n\u001b[0;32m----> 1\u001b[0;31m \u001b[0;32mfrom\u001b[0m \u001b[0mfairworkflows\u001b[0m \u001b[0;32mimport\u001b[0m \u001b[0mFairStep\u001b[0m\u001b[0;34m,\u001b[0m \u001b[0mFairWorkflow\u001b[0m\u001b[0;34m,\u001b[0m \u001b[0madd_step\u001b[0m\u001b[0;34m\u001b[0m\u001b[0;34m\u001b[0m\u001b[0m\n\u001b[0m\u001b[1;32m      2\u001b[0m \u001b[0;32mimport\u001b[0m \u001b[0mrdflib\u001b[0m\u001b[0;34m\u001b[0m\u001b[0;34m\u001b[0m\u001b[0m\n",
      "\u001b[0;31mImportError\u001b[0m: cannot import name 'add_step' from 'fairworkflows' (/home/tk/.local/lib/python3.8/site-packages/fairworkflows/__init__.py)"
     ]
    }
   ],
   "source": [
    "from fairworkflows import FairStep, FairWorkflow, add_step\n",
    "import rdflib"
   ]
  },
  {
   "cell_type": "code",
   "execution_count": 1,
   "metadata": {
    "collapsed": false,
    "jupyter": {
     "outputs_hidden": false
    },
    "tags": [
     "Injected by NanopubJL Widget"
    ]
   },
   "outputs": [
    {
     "name": "stdout",
     "output_type": "stream",
     "text": [
      "Original source URI = http://purl.org/np/RABcjCt6abFWWO24CnUjYXE9OvphOOdjHP-pTgV7dmaKI\n",
      "@prefix dct: <http://purl.org/dc/terms/> .\n",
      "@prefix fabio: <http://purl.org/spar/fabio/> .\n",
      "@prefix np: <http://www.nanopub.org/nschema#> .\n",
      "@prefix npx: <http://purl.org/nanopub/x/> .\n",
      "@prefix nt: <https://w3id.org/np/o/ntemplate/> .\n",
      "@prefix orcid: <https://orcid.org/> .\n",
      "@prefix prov: <http://www.w3.org/ns/prov#> .\n",
      "@prefix sio: <http://semanticscience.org/resource/> .\n",
      "@prefix sub: <http://purl.org/np/RABcjCt6abFWWO24CnUjYXE9OvphOOdjHP-pTgV7dmaKI#> .\n",
      "@prefix this: <http://purl.org/np/RABcjCt6abFWWO24CnUjYXE9OvphOOdjHP-pTgV7dmaKI> .\n",
      "@prefix xsd: <http://www.w3.org/2001/XMLSchema#> .\n",
      "\n",
      "sub:assertion {\n",
      "    sub:local dct:creator \"Guille, Constance; Zhao, Zhuo; Krystal, John; Nichols, Breck; Brady, Kathleen; Sen, Srijan\" ;\n",
      "        dct:date \"2015\" ;\n",
      "        dct:identifier <http://doi.org/10.1001/jamapsychiatry.2015.1880> ;\n",
      "        dct:title \"Web-based cognitive behavioral therapy intervention for the prevention of suicidal ideation in medical interns: A randomized clinical trial\" ;\n",
      "        dct:type fabio:ResearchPaper ;\n",
      "        sio:SIO_000277 <http://purl.org/np/RAYpwK2628KMvA6Kzrk3KG09IW8KkwFh_HcHDDijc2En0> ;\n",
      "        prov:quotedText \"According to the American Foundation for Suicide Prevention, 300 to 400 physicians die by suicide each year, equating to approximately 1 physician dying by suicide every day.\" .\n",
      "}\n",
      "\n",
      "sub:provenance {\n",
      "    sub:assertion prov:wasAttributedTo orcid:0000-0002-6007-4023 .\n",
      "}\n",
      "\n",
      "sub:Head {\n",
      "    this: a np:Nanopublication ;\n",
      "        np:hasAssertion sub:assertion ;\n",
      "        np:hasProvenance sub:provenance ;\n",
      "        np:hasPublicationInfo sub:pubinfo .\n",
      "}\n",
      "\n",
      "sub:pubinfo {\n",
      "    sub:sig npx:hasAlgorithm \"RSA\" ;\n",
      "        npx:hasPublicKey \"MIGfMA0GCSqGSIb3DQEBAQUAA4GNADCBiQKBgQCk/t11RFdsK8IUlbD7CznUrl1IYZtmFhTuGCtzFASFh3p0KsIDEAJtmYJ0CRWUlolT9XPht31Rh0iKGsJpr1PP1H/bcnV0ogspLq5JQj7LNoldB28Mz0/TDGN/YUYVvJjomkEEXHFnKR5vPRYb8gTMifFaTWYYv6JIYVPWJJ+4YwIDAQAB\" ;\n",
      "        npx:hasSignature \"gV0nDv9x5wEfWXYF+Jk2XBjY25TuYJdq+j3R2KWxGTHL2rKIhuGQQE7af2zVJhW8/sWnjz43wao3wwWFh7xGRZJLxvAan0mkjP+Vk+QiEXwDJ0cOSorM94EgVkzM/RIUw4eTmYF4+SKr8jSiFbpTxEkI7adfRUifSAOvmDUM7Os=\" ;\n",
      "        npx:hasSignatureTarget this: .\n",
      "\n",
      "    this: dct:created \"2020-04-30T00:13:38.825000+02:00\"^^xsd:dateTime ;\n",
      "        dct:creator orcid:0000-0002-6007-4023 ;\n",
      "        nt:wasCreatedFromTemplate <http://purl.org/np/RAqWlNPJt3Eb4HkmPCpjaiRHGCzKIZag6cBNMkG8nxu6I> .\n",
      "}\n",
      "\n",
      "\n"
     ]
    }
   ],
   "source": [
    "from nanopub import NanopubClient\n",
    "npclient = NanopubClient()\n",
    "np = npclient.fetch('http://purl.org/np/RABcjCt6abFWWO24CnUjYXE9OvphOOdjHP-pTgV7dmaKI')\n",
    "print(np)"
   ]
  },
  {
   "cell_type": "code",
   "execution_count": 2,
   "metadata": {},
   "outputs": [],
   "source": [
    "from PIL import Image\n",
    "im = Image.open(\"img1.png\")"
   ]
  },
  {
   "cell_type": "code",
   "execution_count": 3,
   "metadata": {},
   "outputs": [],
   "source": [
    "# Create a workflow\n",
    "workflow = FairWorkflow(description='Image workflow')"
   ]
  },
  {
   "cell_type": "code",
   "execution_count": 3,
   "metadata": {},
   "outputs": [],
   "source": [
    "#@add_step(workflow)\n",
    "#@FairStep\n",
    "def rotate_image(img:Image) -> Image:\n",
    "    \"\"\"Transforming an image\"\"\"\n",
    "    out = im.transpose(Image.ROTATE_90)\n",
    "    return out"
   ]
  },
  {
   "cell_type": "code",
   "execution_count": 9,
   "metadata": {},
   "outputs": [
    {
     "data": {
      "text/plain": [
       "<fairworkflows.fairstep.FairStep at 0x7fe997cf2f70>"
      ]
     },
     "execution_count": 9,
     "metadata": {},
     "output_type": "execute_result"
    }
   ],
   "source": [
    "FairStep.from_function(rotate_image)"
   ]
  },
  {
   "cell_type": "code",
   "execution_count": 4,
   "metadata": {},
   "outputs": [],
   "source": [
    "rotate_image(im).show()"
   ]
  },
  {
   "cell_type": "code",
   "execution_count": 7,
   "metadata": {},
   "outputs": [
    {
     "name": "stdout",
     "output_type": "stream",
     "text": [
      "Step URI = http://purl.org/nanopub/temp/mynanopub#functionrotate_image1607609133.227487\n",
      "@prefix bpmn: <http://dkm.fbk.eu/index.php/BPMN2_Ontology#> .\n",
      "@prefix ns1: <http://purl.org/dc/terms/> .\n",
      "@prefix pplan: <http://purl.org/net/p-plan#> .\n",
      "@prefix rdfs: <http://www.w3.org/2000/01/rdf-schema#> .\n",
      "\n",
      "_:Na17945521f4e4b1f94e664dc95f91b39 {\n",
      "    [] a bpmn:ScriptTask,\n",
      "            pplan:Step ;\n",
      "        rdfs:label \"rotate_image\" ;\n",
      "        ns1:description \"\"\"@add_step(workflow)\n",
      "#@FairStep\n",
      "def rotate_image(img:Image) -> Image:\n",
      "    \\\"\\\"\\\"Transforming an image\\\"\\\"\\\"\n",
      "    out = im.transpose(Image.ROTATE_90)\n",
      "    return out\n",
      "\"\"\" .\n",
      "}\n",
      "\n",
      "\n"
     ]
    }
   ],
   "source": [
    "for step in workflow:\n",
    "    print(step)"
   ]
  },
  {
   "cell_type": "code",
   "execution_count": 11,
   "metadata": {},
   "outputs": [
    {
     "name": "stdout",
     "output_type": "stream",
     "text": [
      "Step URI = http://purl.org/nanopub/temp/mynanopub#functionrotate_image1607609196.377286\n",
      "@prefix bpmn: <http://dkm.fbk.eu/index.php/BPMN2_Ontology#> .\n",
      "@prefix ns1: <http://purl.org/dc/terms/> .\n",
      "@prefix pplan: <http://purl.org/net/p-plan#> .\n",
      "@prefix rdfs: <http://www.w3.org/2000/01/rdf-schema#> .\n",
      "\n",
      "_:N0dbf07b7e01b49b28eaeded87e169655 {\n",
      "    [] a bpmn:ScriptTask,\n",
      "            pplan:Step ;\n",
      "        rdfs:label \"rotate_image\" ;\n",
      "        ns1:description \"\"\"def rotate_image(img:Image) -> Image:\n",
      "    \\\"\\\"\\\"Transforming an image\\\"\\\"\\\"\n",
      "    out = im.transpose(Image.ROTATE_90)\n",
      "    return out\n",
      "\"\"\" .\n",
      "}\n",
      "\n",
      "\n"
     ]
    }
   ],
   "source": [
    "print(FairStep.from_function(rotate_image))"
   ]
  },
  {
   "cell_type": "code",
   "execution_count": null,
   "metadata": {},
   "outputs": [],
   "source": [
    "workflow.publish_as_nanopub()"
   ]
  },
  {
   "cell_type": "code",
   "execution_count": null,
   "metadata": {
    "collapsed": false,
    "jupyter": {
     "outputs_hidden": false
    },
    "nanopubURI": "http://purl.org/np/RAGOsaM6E1TmiJ6o89M590Ia6cV2xLGKoQc4WQbFQdlio",
    "tags": [
     "Injected by FAIR Workflows Widget"
    ]
   },
   "outputs": [],
   "source": [
    "from fairworkflows import FairStep\n",
    "step = FairStep.from_nanopub(uri='http://purl.org/np/RAGOsaM6E1TmiJ6o89M590Ia6cV2xLGKoQc4WQbFQdlio')\n",
    "print(step)"
   ]
  },
  {
   "cell_type": "code",
   "execution_count": 1,
   "metadata": {},
   "outputs": [],
   "source": [
    "def fairstep(label=\"\"):\n",
    "    def fairstep_x(func):\n",
    "        print(\"Validating step: \" + label)\n",
    "        def wrapper(*args, **kwargs):\n",
    "            print(\"Running step: \" + label)\n",
    "            result = func(*args, **kwargs)\n",
    "            return result\n",
    "        wrapper.label = label\n",
    "        return wrapper\n",
    "    return fairstep_x"
   ]
  },
  {
   "cell_type": "code",
   "execution_count": 2,
   "metadata": {},
   "outputs": [
    {
     "name": "stdout",
     "output_type": "stream",
     "text": [
      "Validating step: foobar\n"
     ]
    }
   ],
   "source": [
    "@fairstep(label=\"foobar\")\n",
    "def sum(a: int, b: int) -> int:\n",
    "    \"\"\"Sum inputs\"\"\"\n",
    "    return a + b"
   ]
  },
  {
   "cell_type": "code",
   "execution_count": 3,
   "metadata": {},
   "outputs": [
    {
     "name": "stdout",
     "output_type": "stream",
     "text": [
      "Running step: foobar\n"
     ]
    },
    {
     "data": {
      "text/plain": [
       "3"
      ]
     },
     "execution_count": 3,
     "metadata": {},
     "output_type": "execute_result"
    }
   ],
   "source": [
    "sum(1,2)"
   ]
  },
  {
   "cell_type": "code",
   "execution_count": 4,
   "metadata": {},
   "outputs": [
    {
     "data": {
      "text/plain": [
       "'foobar'"
      ]
     },
     "execution_count": 4,
     "metadata": {},
     "output_type": "execute_result"
    }
   ],
   "source": [
    "sum.label"
   ]
  },
  {
   "cell_type": "code",
   "execution_count": 5,
   "metadata": {},
   "outputs": [
    {
     "name": "stdout",
     "output_type": "stream",
     "text": [
      "Validating step: bla\n"
     ]
    }
   ],
   "source": [
    "@fairstep(label=\"bla\")\n",
    "def product(a: int, b: int) -> int:\n",
    "    \"\"\"Multiplies inputs\"\"\"\n",
    "    return a * b"
   ]
  },
  {
   "cell_type": "code",
   "execution_count": 6,
   "metadata": {},
   "outputs": [],
   "source": [
    "@fairworkflow(label=\"bla\")\n",
    "def wf(a: int, b: int, c: int) -> int:\n",
    "    \"\"\"workflow\"\"\"\n",
    "    return sum(product(a,b), c)"
   ]
  },
  {
   "cell_type": "code",
   "execution_count": 7,
   "metadata": {},
   "outputs": [
    {
     "name": "stdout",
     "output_type": "stream",
     "text": [
      "Running step: bla\n",
      "Running step: foobar\n"
     ]
    },
    {
     "data": {
      "text/plain": [
       "5"
      ]
     },
     "execution_count": 7,
     "metadata": {},
     "output_type": "execute_result"
    }
   ],
   "source": [
    "wf(1,2,3)"
   ]
  },
  {
   "cell_type": "code",
   "execution_count": null,
   "metadata": {},
   "outputs": [],
   "source": []
  }
 ],
 "metadata": {
  "kernelspec": {
   "display_name": "Python 3",
   "language": "python",
   "name": "python3"
  },
  "language_info": {
   "codemirror_mode": {
    "name": "ipython",
    "version": 3
   },
   "file_extension": ".py",
   "mimetype": "text/x-python",
   "name": "python",
   "nbconvert_exporter": "python",
   "pygments_lexer": "ipython3",
   "version": "3.8.6"
  }
 },
 "nbformat": 4,
 "nbformat_minor": 4
}
