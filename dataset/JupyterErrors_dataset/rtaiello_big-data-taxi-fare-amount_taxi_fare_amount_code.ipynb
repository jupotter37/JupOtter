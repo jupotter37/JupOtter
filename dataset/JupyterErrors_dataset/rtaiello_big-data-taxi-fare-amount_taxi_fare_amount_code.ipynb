{
  "nbformat": 4,
  "nbformat_minor": 0,
  "metadata": {
    "colab": {
      "name": "taxi-fare-amount.ipynb",
      "provenance": [],
      "collapsed_sections": [],
      "toc_visible": true,
      "machine_shape": "hm"
    },
    "kernelspec": {
      "name": "python3",
      "display_name": "Python 3"
    }
  },
  "cells": [
    {
      "cell_type": "markdown",
      "metadata": {
        "id": "OnmyZ-8Rc9KM",
        "colab_type": "text"
      },
      "source": [
        "# **Taxi Fare Amount: NewYork Taxi Cost Prediction**\n",
        "\n"
      ]
    },
    {
      "cell_type": "markdown",
      "metadata": {
        "id": "knouc8_ifGQH",
        "colab_type": "text"
      },
      "source": [
        "<h1> Big Data Computing Project - A.Y. 2019/2020</h1> </br>\n",
        "<h2>Students:</h2>\n",
        "\n",
        "*   Bacciu Andrea\n",
        "*   Taiello Riccardo\n",
        "\n",
        "</br>\n",
        "<h2>Professor:</h2>\n",
        "\n",
        "*  Tolomei Gabriele"
      ]
    },
    {
      "cell_type": "markdown",
      "metadata": {
        "id": "DHXQA7nMj1Ux",
        "colab_type": "text"
      },
      "source": [
        "![alt text](https://i2.res.24o.it/images2010/Editrice/ILSOLE24ORE/VIAGGI24/2019/12/07/Viaggi24/ImmaginiWeb/Ritagli/taxi-new-york-agf-197SCA00437-kYFB--1020x533@IlSole24Ore-Web.jpg)"
      ]
    },
    {
      "cell_type": "markdown",
      "metadata": {
        "id": "JMeVKpPRSpTK",
        "colab_type": "text"
      },
      "source": [
        "# Dependencies"
      ]
    },
    {
      "cell_type": "code",
      "metadata": {
        "id": "WAUz21BLcO1A",
        "colab_type": "code",
        "colab": {
          "base_uri": "https://localhost:8080/",
          "height": 1000
        },
        "outputId": "10b6ba07-002e-430b-f462-a672020c15e1"
      },
      "source": [
        "!pip install pyspark==2.4.6\n",
        "!pip install -U -q PyDrive\n",
        "!apt install openjdk-8-jdk-headless -qq\n",
        "!pip install geopy\n",
        "from google.colab import drive\n",
        "drive.mount('/content/drive')  "
      ],
      "execution_count": null,
      "outputs": [
        {
          "output_type": "stream",
          "text": [
            "Collecting pyspark==2.4.6\n",
            "\u001b[?25l  Downloading https://files.pythonhosted.org/packages/e9/e4/5c15ab8d354c4e3528510821865e6748209a9b0ff6a1788f4cd36cc2a5dc/pyspark-2.4.6.tar.gz (218.4MB)\n",
            "\u001b[K     |████████████████████████████████| 218.4MB 23kB/s \n",
            "\u001b[?25hCollecting py4j==0.10.7\n",
            "\u001b[?25l  Downloading https://files.pythonhosted.org/packages/e3/53/c737818eb9a7dc32a7cd4f1396e787bd94200c3997c72c1dbe028587bd76/py4j-0.10.7-py2.py3-none-any.whl (197kB)\n",
            "\u001b[K     |████████████████████████████████| 204kB 56.0MB/s \n",
            "\u001b[?25hBuilding wheels for collected packages: pyspark\n",
            "  Building wheel for pyspark (setup.py) ... \u001b[?25l\u001b[?25hdone\n",
            "  Created wheel for pyspark: filename=pyspark-2.4.6-py2.py3-none-any.whl size=218814406 sha256=28da8cf75c2e149508779794f80b65441f4c0c25fa44a3ee4b982ea9825a3601\n",
            "  Stored in directory: /root/.cache/pip/wheels/1e/5e/6a/17e906c94ec7246f260330a66e44a06a0809033ba2738a74a8\n",
            "Successfully built pyspark\n",
            "Installing collected packages: py4j, pyspark\n",
            "Successfully installed py4j-0.10.7 pyspark-2.4.6\n",
            "The following package was automatically installed and is no longer required:\n",
            "  libnvidia-common-440\n",
            "Use 'apt autoremove' to remove it.\n",
            "The following additional packages will be installed:\n",
            "  openjdk-8-jre-headless\n",
            "Suggested packages:\n",
            "  openjdk-8-demo openjdk-8-source libnss-mdns fonts-dejavu-extra\n",
            "  fonts-ipafont-gothic fonts-ipafont-mincho fonts-wqy-microhei\n",
            "  fonts-wqy-zenhei fonts-indic\n",
            "The following NEW packages will be installed:\n",
            "  openjdk-8-jdk-headless openjdk-8-jre-headless\n",
            "0 upgraded, 2 newly installed, 0 to remove and 33 not upgraded.\n",
            "Need to get 35.8 MB of archives.\n",
            "After this operation, 140 MB of additional disk space will be used.\n",
            "Selecting previously unselected package openjdk-8-jre-headless:amd64.\n",
            "(Reading database ... 144379 files and directories currently installed.)\n",
            "Preparing to unpack .../openjdk-8-jre-headless_8u252-b09-1~18.04_amd64.deb ...\n",
            "Unpacking openjdk-8-jre-headless:amd64 (8u252-b09-1~18.04) ...\n",
            "Selecting previously unselected package openjdk-8-jdk-headless:amd64.\n",
            "Preparing to unpack .../openjdk-8-jdk-headless_8u252-b09-1~18.04_amd64.deb ...\n",
            "Unpacking openjdk-8-jdk-headless:amd64 (8u252-b09-1~18.04) ...\n",
            "Setting up openjdk-8-jre-headless:amd64 (8u252-b09-1~18.04) ...\n",
            "update-alternatives: using /usr/lib/jvm/java-8-openjdk-amd64/jre/bin/orbd to provide /usr/bin/orbd (orbd) in auto mode\n",
            "update-alternatives: using /usr/lib/jvm/java-8-openjdk-amd64/jre/bin/servertool to provide /usr/bin/servertool (servertool) in auto mode\n",
            "update-alternatives: using /usr/lib/jvm/java-8-openjdk-amd64/jre/bin/tnameserv to provide /usr/bin/tnameserv (tnameserv) in auto mode\n",
            "Setting up openjdk-8-jdk-headless:amd64 (8u252-b09-1~18.04) ...\n",
            "update-alternatives: using /usr/lib/jvm/java-8-openjdk-amd64/bin/idlj to provide /usr/bin/idlj (idlj) in auto mode\n",
            "update-alternatives: using /usr/lib/jvm/java-8-openjdk-amd64/bin/wsimport to provide /usr/bin/wsimport (wsimport) in auto mode\n",
            "update-alternatives: using /usr/lib/jvm/java-8-openjdk-amd64/bin/jsadebugd to provide /usr/bin/jsadebugd (jsadebugd) in auto mode\n",
            "update-alternatives: using /usr/lib/jvm/java-8-openjdk-amd64/bin/native2ascii to provide /usr/bin/native2ascii (native2ascii) in auto mode\n",
            "update-alternatives: using /usr/lib/jvm/java-8-openjdk-amd64/bin/javah to provide /usr/bin/javah (javah) in auto mode\n",
            "update-alternatives: using /usr/lib/jvm/java-8-openjdk-amd64/bin/clhsdb to provide /usr/bin/clhsdb (clhsdb) in auto mode\n",
            "update-alternatives: using /usr/lib/jvm/java-8-openjdk-amd64/bin/extcheck to provide /usr/bin/extcheck (extcheck) in auto mode\n",
            "update-alternatives: using /usr/lib/jvm/java-8-openjdk-amd64/bin/hsdb to provide /usr/bin/hsdb (hsdb) in auto mode\n",
            "update-alternatives: using /usr/lib/jvm/java-8-openjdk-amd64/bin/schemagen to provide /usr/bin/schemagen (schemagen) in auto mode\n",
            "update-alternatives: using /usr/lib/jvm/java-8-openjdk-amd64/bin/xjc to provide /usr/bin/xjc (xjc) in auto mode\n",
            "update-alternatives: using /usr/lib/jvm/java-8-openjdk-amd64/bin/jhat to provide /usr/bin/jhat (jhat) in auto mode\n",
            "update-alternatives: using /usr/lib/jvm/java-8-openjdk-amd64/bin/wsgen to provide /usr/bin/wsgen (wsgen) in auto mode\n",
            "Requirement already satisfied: geopy in /usr/local/lib/python3.6/dist-packages (1.17.0)\n",
            "Requirement already satisfied: geographiclib<2,>=1.49 in /usr/local/lib/python3.6/dist-packages (from geopy) (1.50)\n",
            "Go to this URL in a browser: https://accounts.google.com/o/oauth2/auth?client_id=947318989803-6bn6qk8qdgf4n4g3pfee6491hc0brc4i.apps.googleusercontent.com&redirect_uri=urn%3aietf%3awg%3aoauth%3a2.0%3aoob&response_type=code&scope=email%20https%3a%2f%2fwww.googleapis.com%2fauth%2fdocs.test%20https%3a%2f%2fwww.googleapis.com%2fauth%2fdrive%20https%3a%2f%2fwww.googleapis.com%2fauth%2fdrive.photos.readonly%20https%3a%2f%2fwww.googleapis.com%2fauth%2fpeopleapi.readonly\n",
            "\n",
            "Enter your authorization code:\n",
            "··········\n",
            "Mounted at /content/drive\n"
          ],
          "name": "stdout"
        }
      ]
    },
    {
      "cell_type": "markdown",
      "metadata": {
        "id": "2Lgaxl1gNnYM",
        "colab_type": "text"
      },
      "source": [
        "## **Global Constants**"
      ]
    },
    {
      "cell_type": "code",
      "metadata": {
        "id": "GTUZ9mAcm7Mb",
        "colab_type": "code",
        "colab": {}
      },
      "source": [
        "SEED = 42 \n",
        "JAVA_HOME = \"/usr/lib/jvm/java-8-openjdk-amd64\" # Set path to JAVA_HOME\n",
        "PYTHON_HOME = \"/usr/bin/python3.6\"\n",
        "SUBMIT_ARGS = \"--packages com.microsoft.ml.spark:mmlspark_2.11:0.18.1 pyspark-shell\" # Add Azure dependecy"
      ],
      "execution_count": null,
      "outputs": []
    },
    {
      "cell_type": "markdown",
      "metadata": {
        "id": "MKYhe3azchoq",
        "colab_type": "text"
      },
      "source": [
        "## **Dataset path**"
      ]
    },
    {
      "cell_type": "markdown",
      "metadata": {
        "id": "Xh_ZuECccsRk",
        "colab_type": "text"
      },
      "source": [
        "### ⚠️ **Set this path according to your GDrive**\n",
        "\n"
      ]
    },
    {
      "cell_type": "code",
      "metadata": {
        "id": "qG0StIg8cqXR",
        "colab_type": "code",
        "colab": {}
      },
      "source": [
        "GDRIVE_DIR = \"/content/drive\"\n",
        "GDRIVE_HOME_DIR = GDRIVE_DIR + \"/My Drive/Colab Notebooks\"\n",
        "GDRIVE_DATA_DIR = GDRIVE_HOME_DIR + \"/BigData/1747105_1914000/taxi-fare-amount\""
      ],
      "execution_count": null,
      "outputs": []
    },
    {
      "cell_type": "code",
      "metadata": {
        "id": "qhCjUW_ccgr1",
        "colab_type": "code",
        "colab": {}
      },
      "source": [
        "PATH_DATASET = GDRIVE_DATA_DIR+\"/processed/master/merged_dataset.csv\"\n",
        "PATH_PREPROCESSED = GDRIVE_DATA_DIR+\"/processed\"\n",
        "PATH_PICKLE = GDRIVE_DATA_DIR+\"/pickle\""
      ],
      "execution_count": null,
      "outputs": []
    },
    {
      "cell_type": "markdown",
      "metadata": {
        "id": "bfUxCIL_mi0h",
        "colab_type": "text"
      },
      "source": [
        "## **Other path**"
      ]
    },
    {
      "cell_type": "code",
      "metadata": {
        "id": "4dt2U1Tumij5",
        "colab_type": "code",
        "colab": {}
      },
      "source": [
        "PATH_ML_MODEL = PATH_PICKLE = GDRIVE_DATA_DIR+\"/machine-learning-model\"\n",
        "PATH_PIPELINE = PATH_ML_MODEL + \"/pipeline\"\n",
        "PATH_PIPELINE_MODEL = PATH_ML_MODEL + \"/pipeline_model\"\n",
        "PATH_FINAL_MODEL = PATH_ML_MODEL + \"/final_model\"\n",
        "\n",
        "PATH_PIPELINE_LR = PATH_PIPELINE + \"/lr_best_pipeline\"\n",
        "PATH_PIPELINE_MODEL_LR = PATH_PIPELINE_MODEL + \"/lr_best_pipeline_model\"\n",
        "\n",
        "PATH_PIPELINE_LGBM = PATH_PIPELINE+\"/lgbm_best_pipeline\"\n",
        "PATH_PIPELINE_MODEL_LGBM = PATH_PIPELINE_MODEL+\"/lgbm_best_pipeline_model\"\n",
        "\n",
        "PATH_PIPELINE_RF = PATH_PIPELINE+\"rf_best_pipeline\"\n",
        "PATH_PIPELINE_MODEL_RF = PATH_PIPELINE_MODEL+\"/rf_best_pipeline_model\""
      ],
      "execution_count": null,
      "outputs": []
    },
    {
      "cell_type": "markdown",
      "metadata": {
        "id": "fS2_X7_CS8zi",
        "colab_type": "text"
      },
      "source": [
        "# Python import & settings the Spark env"
      ]
    },
    {
      "cell_type": "code",
      "metadata": {
        "id": "yb4Df8ypwJH8",
        "colab_type": "code",
        "colab": {}
      },
      "source": [
        "import os\n",
        "import pickle\n",
        "os.environ[\"JAVA_HOME\"] = JAVA_HOME\n",
        "os.environ[\"PYSPARK_PYTHON\"] = PYTHON_HOME\n",
        "os.environ[\"PYSPARK_DRIVER_PYTHON\"] = PYTHON_HOME\n",
        "os.environ[\"PYSPARK_SUBMIT_ARGS\"] = SUBMIT_ARGS"
      ],
      "execution_count": null,
      "outputs": []
    },
    {
      "cell_type": "code",
      "metadata": {
        "id": "2mIIcYgNSyHU",
        "colab_type": "code",
        "colab": {
          "base_uri": "https://localhost:8080/",
          "height": 71
        },
        "outputId": "2de8c679-4b9d-4b7a-c4f5-a2cfecf00528"
      },
      "source": [
        "# PySpark modules\n",
        "import pyspark\n",
        "from pyspark.sql import *\n",
        "from pyspark import SparkContext, SparkConf\n",
        "from pyspark.sql import SQLContext\n",
        "import pyspark.sql.functions as f\n",
        "\n",
        "# others usefull modules\n",
        "import pandas as pd\n",
        "import numpy as np\n",
        "import matplotlib.pyplot as plt\n",
        "import seaborn as sns\n"
      ],
      "execution_count": null,
      "outputs": [
        {
          "output_type": "stream",
          "text": [
            "/usr/local/lib/python3.6/dist-packages/statsmodels/tools/_testing.py:19: FutureWarning: pandas.util.testing is deprecated. Use the functions in the public API at pandas.testing instead.\n",
            "  import pandas.util.testing as tm\n"
          ],
          "name": "stderr"
        }
      ]
    },
    {
      "cell_type": "code",
      "metadata": {
        "id": "18bmcKMDm_3e",
        "colab_type": "code",
        "cellView": "both",
        "colab": {}
      },
      "source": [
        "# Spark nstanciation\n",
        "conf = SparkConf().set(\"spark.ui.port\", \"4050\").set('spark.executor.memory', '4G').set('spark.driver.memory', '45G').set('spark.driver.maxResultSize', '10G')\n",
        "# Create the context\n",
        "sc = pyspark.SparkContext(conf=conf)\n",
        "spark =  pyspark.sql.SparkSession.builder.appName(\"TaxiFareAmount\") \\\n",
        "            .getOrCreate()\n"
      ],
      "execution_count": null,
      "outputs": []
    },
    {
      "cell_type": "code",
      "metadata": {
        "id": "drp0svR7gQlO",
        "colab_type": "code",
        "colab": {
          "base_uri": "https://localhost:8080/",
          "height": 216
        },
        "outputId": "d894f8c3-171b-4380-8cbd-7ab50f151f66"
      },
      "source": [
        "spark"
      ],
      "execution_count": null,
      "outputs": [
        {
          "output_type": "execute_result",
          "data": {
            "text/html": [
              "\n",
              "            <div>\n",
              "                <p><b>SparkSession - in-memory</b></p>\n",
              "                \n",
              "        <div>\n",
              "            <p><b>SparkContext</b></p>\n",
              "\n",
              "            <p><a href=\"http://35d2685afebb:4050\">Spark UI</a></p>\n",
              "\n",
              "            <dl>\n",
              "              <dt>Version</dt>\n",
              "                <dd><code>v2.4.6</code></dd>\n",
              "              <dt>Master</dt>\n",
              "                <dd><code>local[*]</code></dd>\n",
              "              <dt>AppName</dt>\n",
              "                <dd><code>pyspark-shell</code></dd>\n",
              "            </dl>\n",
              "        </div>\n",
              "        \n",
              "            </div>\n",
              "        "
            ],
            "text/plain": [
              "<pyspark.sql.session.SparkSession at 0x7f13edb0f7f0>"
            ]
          },
          "metadata": {
            "tags": []
          },
          "execution_count": 12
        }
      ]
    },
    {
      "cell_type": "markdown",
      "metadata": {
        "id": "80lsMqOkbwKi",
        "colab_type": "text"
      },
      "source": [
        "## **Load dataset into a Spark Dataframe**\n",
        "\n",
        "\n"
      ]
    },
    {
      "cell_type": "code",
      "metadata": {
        "id": "6QeLFpl6l7bC",
        "colab_type": "code",
        "colab": {}
      },
      "source": [
        "taxi_df = spark.read.load(PATH_DATASET, \n",
        "                         format=\"csv\", \n",
        "                         sep=\",\", \n",
        "                         inferSchema=\"true\", \n",
        "                         header=\"true\"\n",
        "                         )"
      ],
      "execution_count": null,
      "outputs": []
    },
    {
      "cell_type": "code",
      "metadata": {
        "id": "-ELfCnDdfOOe",
        "colab_type": "code",
        "colab": {
          "base_uri": "https://localhost:8080/",
          "height": 170
        },
        "outputId": "b9498ab9-60a8-4fa2-ac2f-d3ba96bd300f"
      },
      "source": [
        "# See all features' type\n",
        "taxi_df.dtypes"
      ],
      "execution_count": null,
      "outputs": [
        {
          "output_type": "execute_result",
          "data": {
            "text/plain": [
              "[('key', 'timestamp'),\n",
              " ('fare_amount', 'double'),\n",
              " ('pickup_longitude', 'double'),\n",
              " ('pickup_latitude', 'double'),\n",
              " ('dropoff_longitude', 'double'),\n",
              " ('dropoff_latitude', 'double'),\n",
              " ('passenger_count', 'int'),\n",
              " ('real_distance', 'double'),\n",
              " ('pickup_datetime', 'string')]"
            ]
          },
          "metadata": {
            "tags": []
          },
          "execution_count": 13
        }
      ]
    },
    {
      "cell_type": "markdown",
      "metadata": {
        "id": "MRT_SC8Sm8F3",
        "colab_type": "text"
      },
      "source": [
        "## **Init features and target variable**"
      ]
    },
    {
      "cell_type": "code",
      "metadata": {
        "id": "LN2qj11rnI6e",
        "colab_type": "code",
        "colab": {}
      },
      "source": [
        "TARGET_VARIABLE = \"fare_amount\" # Label \n",
        "NUMERICAL_FEATURES = [\"key\",\"pickup_longitude\",\"pickup_latitude\",\"dropoff_longitude\",\"dropoff_latitude\",\"passenger_count\",\"real_distance\"]\n",
        "CATEGORICAL_FEATURES = [] "
      ],
      "execution_count": null,
      "outputs": []
    },
    {
      "cell_type": "markdown",
      "metadata": {
        "id": "iqLDlGwPdX6k",
        "colab_type": "text"
      },
      "source": [
        "# **1. Feature engineering**\n"
      ]
    },
    {
      "cell_type": "markdown",
      "metadata": {
        "id": "oXrAaCDqn6T4",
        "colab_type": "text"
      },
      "source": [
        "NOTE (1): The dataset loaded has the real_distance feature which is created using the OpenStreetMap API see [here](#osmr)\n",
        "\n",
        "NOTE (2): In order to increase the speed, we preprocess the dataset deleting the outlier and stored into the Google Drive folder."
      ]
    },
    {
      "cell_type": "markdown",
      "metadata": {
        "id": "mz_1dnaspzAK",
        "colab_type": "text"
      },
      "source": [
        "For clarity: **However we show which are steps perfomed to clean the dataset. We marked it with (*)**\n",
        "\n"
      ]
    },
    {
      "cell_type": "markdown",
      "metadata": {
        "id": "PJ2r09TeduuK",
        "colab_type": "text"
      },
      "source": [
        "##  **1.1. Pre-processing(*)**"
      ]
    },
    {
      "cell_type": "markdown",
      "metadata": {
        "id": "-Vz0s-v8b2q7",
        "colab_type": "text"
      },
      "source": [
        " Clean Spark Dataframe from noise samples: \n",
        "\n",
        "1.   latitude and logitude out of min and max of New York City;\n",
        "2.   fare amount negative and too large (>= 250);\n",
        "3.   We removed all sample with the same coordinates of the arrival and departures.\n",
        "\n"
      ]
    },
    {
      "cell_type": "code",
      "metadata": {
        "id": "bRbcz1LmeWEr",
        "colab_type": "code",
        "colab": {}
      },
      "source": [
        "def clean(df, delimiter_coordinate=True, delimiter_outliers=True):\n",
        "    # Remove incosistent rows, no sense that start coordinate are equals to end coordinate\n",
        "    # STEP 3\n",
        "    df = df.filter(f.col(\"dropoff_longitude\") != f.col(\"pickup_longitude\"))\n",
        "    df = df.filter(f.col(\"dropoff_latitude\") != f.col(\"pickup_latitude\"))\n",
        "    # Delimiter lats and lons to NY only\n",
        "    # STEP 1\n",
        "    if delimiter_coordinate:\n",
        "      df = df.filter((f.col(\"pickup_longitude\") >= -76) & (f.col(\"pickup_longitude\") <= -72))  \n",
        "      df = df.filter((f.col(\"dropoff_longitude\") >= -76) & (f.col(\"dropoff_longitude\") <= -72))\n",
        "      df = df.filter((f.col(\"pickup_latitude\") >= 38) & (f.col(\"pickup_latitude\") <= 42)) \n",
        "      df = df.filter((f.col(\"dropoff_latitude\") >= 38) & (f.col(\"dropoff_latitude\") <= 42))\n",
        "\n",
        "    # Remove possible outliers\n",
        "    # STEP 2\n",
        "    if delimiter_outliers:\n",
        "      df = df.filter((f.col(\"fare_amount\") > 0) & (f.col(\"fare_amount\") <=250)) # df = df[(0 < df['fare_amount']) & (df['fare_amount'] <= 250)]\n",
        "\n",
        "    return df"
      ],
      "execution_count": null,
      "outputs": []
    },
    {
      "cell_type": "code",
      "metadata": {
        "id": "81YJ0hS1Ygsr",
        "colab_type": "code",
        "colab": {
          "base_uri": "https://localhost:8080/",
          "height": 51
        },
        "outputId": "1b2da05e-8c2b-4ae4-9941-10cffc91cceb"
      },
      "source": [
        "print(\"The shape of the dataset before clean() is {:d} rows by {:d} columns\".format(taxi_df.count(), len(taxi_df.columns)))\n",
        "taxi_df = clean(taxi_df,delimiter_coordinate=True,delimiter_outliers=True)\n",
        "print(\"The shape of the dataset after clean() is {:d} rows by {:d} columns\".format(taxi_df.count(), len(taxi_df.columns)))"
      ],
      "execution_count": null,
      "outputs": [
        {
          "output_type": "stream",
          "text": [
            "The shape of the dataset before clean() is 3873028 rows by 9 columns\n",
            "The shape of the dataset after clean() is 3873028 rows by 9 columns\n"
          ],
          "name": "stdout"
        }
      ]
    },
    {
      "cell_type": "markdown",
      "metadata": {
        "id": "CJOepThNqi9x",
        "colab_type": "text"
      },
      "source": [
        "We compare the shape of the loaded dataset from Google Drive folder and the just loaded.\n",
        "\n",
        "As you can see it doens't change.\n",
        "\n"
      ]
    },
    {
      "cell_type": "markdown",
      "metadata": {
        "id": "jjXGyvGHeEXt",
        "colab_type": "text"
      },
      "source": [
        "\n",
        "\n",
        "\n",
        "## **1.2. Feature extraction**"
      ]
    },
    {
      "cell_type": "markdown",
      "metadata": {
        "id": "hnLMQvKxg2i8",
        "colab_type": "text"
      },
      "source": [
        "**User Define Function -- UDF**\n",
        "\n",
        "This section performs some computation step using the Spark's UDF. </br> \n",
        "UDF takes as input a row and a function, then apply the function to the row"
      ]
    },
    {
      "cell_type": "markdown",
      "metadata": {
        "id": "3plEKaGOeohJ",
        "colab_type": "text"
      },
      "source": [
        "To deal with datetime feature it's common pratice split it into several features, which are rappresented by:\n",
        "\n",
        "1.   Minute;\n",
        "2.   hour;\n",
        "3.   day number during the week (from 1 to 7);\n",
        "4.   day number during the month;\n",
        "5.   year;\n",
        "\n",
        "This approach lets to the ML models to handle this informations in a powerful way, therefore it might improve the final perfomance. "
      ]
    },
    {
      "cell_type": "code",
      "metadata": {
        "id": "0y3Nay8WhqOC",
        "colab_type": "code",
        "colab": {}
      },
      "source": [
        "# Boolean parameters allow us to get much flexibility.\n",
        "def split_datetime(df, minute: bool = True, hour: bool=True, day_week: bool = True, day_of_month: bool = True, year: bool=True):\n",
        "    if minute:\n",
        "      df = df.withColumn(\"minute\", f.minute(\"key\"))    \n",
        "    if hour:\n",
        "      df = df.withColumn(\"hour\", f.hour(\"key\"))\n",
        "    if day_week:\n",
        "      df = df.withColumn(\"day_of_week\", f.dayofweek(\"key\"))\n",
        "    if day_of_month:\n",
        "      df = df.withColumn(\"day_of_month\", f.dayofmonth(\"key\"))\n",
        "    if year:\n",
        "      df = df.withColumn(\"year\", f.year(\"key\"))\n",
        "    return df"
      ],
      "execution_count": null,
      "outputs": []
    },
    {
      "cell_type": "code",
      "metadata": {
        "id": "crShNdO_Pg9d",
        "colab_type": "code",
        "colab": {
          "base_uri": "https://localhost:8080/",
          "height": 51
        },
        "outputId": "bc7de482-d559-431c-f9c4-82fb6f921abb"
      },
      "source": [
        "# As we can see we add new 5 features\n",
        "print(\"The shape of the dataset before split_datetime() is {:d} rows by {:d} columns\".format(taxi_df.count(), len(taxi_df.columns)))\n",
        "taxi_df = split_datetime(df=taxi_df)\n",
        "print(\"The shape of the dataset after split_datetime() is {:d} rows by {:d} columns\".format(taxi_df.count(), len(taxi_df.columns)))"
      ],
      "execution_count": null,
      "outputs": [
        {
          "output_type": "stream",
          "text": [
            "The shape of the dataset before split_datetime() is 3873028 rows by 9 columns\n",
            "The shape of the dataset after split_datetime() is 3873028 rows by 14 columns\n"
          ],
          "name": "stdout"
        }
      ]
    },
    {
      "cell_type": "code",
      "metadata": {
        "id": "SMiXcXSqq3AF",
        "colab_type": "code",
        "colab": {}
      },
      "source": [
        "# Update the features list\n",
        "NUMERICAL_FEATURES.append(\"minute\")\n",
        "NUMERICAL_FEATURES.append(\"hour\")\n",
        "NUMERICAL_FEATURES.append(\"day_of_week\")\n",
        "NUMERICAL_FEATURES.append(\"day_of_month\")\n",
        "NUMERICAL_FEATURES.append(\"year\")\n",
        "\n",
        "NUMERICAL_FEATURES.remove(\"key\")"
      ],
      "execution_count": null,
      "outputs": []
    },
    {
      "cell_type": "code",
      "metadata": {
        "id": "PScn52VdyryB",
        "colab_type": "code",
        "colab": {
          "base_uri": "https://localhost:8080/",
          "height": 255
        },
        "outputId": "af9873d6-bfa9-4b30-bba1-ef85afbac0b6"
      },
      "source": [
        "taxi_df.dtypes"
      ],
      "execution_count": null,
      "outputs": [
        {
          "output_type": "execute_result",
          "data": {
            "text/plain": [
              "[('key', 'timestamp'),\n",
              " ('fare_amount', 'double'),\n",
              " ('pickup_longitude', 'double'),\n",
              " ('pickup_latitude', 'double'),\n",
              " ('dropoff_longitude', 'double'),\n",
              " ('dropoff_latitude', 'double'),\n",
              " ('passenger_count', 'int'),\n",
              " ('real_distance', 'double'),\n",
              " ('pickup_datetime', 'string'),\n",
              " ('minute', 'int'),\n",
              " ('hour', 'int'),\n",
              " ('day_of_week', 'int'),\n",
              " ('day_of_month', 'int'),\n",
              " ('year', 'int')]"
            ]
          },
          "metadata": {
            "tags": []
          },
          "execution_count": 20
        }
      ]
    },
    {
      "cell_type": "markdown",
      "metadata": {
        "id": "l8FRkoxUgLLi",
        "colab_type": "text"
      },
      "source": [
        "###**1.2.2. NY implements diffent surplus tax based on the day and the hour's window**\n",
        "\n"
      ]
    },
    {
      "cell_type": "markdown",
      "metadata": {
        "id": "UVgzQI9Cf5xr",
        "colab_type": "text"
      },
      "source": [
        "To take into account, we add two features which describe the chance to have an extra fare_amount </br> For further info see : https://www1.nyc.gov/site/tlc/passengers/taxi-fare.page"
      ]
    },
    {
      "cell_type": "code",
      "metadata": {
        "id": "SSQCyC2Jgk02",
        "colab_type": "code",
        "colab": {}
      },
      "source": [
        "from pyspark.sql.types import BooleanType\n",
        "def add_surchage(df, rush_hour: bool = True, night: bool = True):\n",
        "    \n",
        "  def is_rush_hour(hour: int, day_of_week: int) -> bool:\n",
        "    return day_of_week <=5 and (hour>=16 and hour <=20)\n",
        "\n",
        "  def is_night(hour: int) -> bool:\n",
        "    return hour >= 20 or hour <= 6\n",
        "\n",
        "  if rush_hour :\n",
        "    is_rush_hour_udf = f.udf(lambda x,y: is_rush_hour(x,y), BooleanType())\n",
        "    df = df.withColumn(\"is_rush_hour\",is_rush_hour_udf(f.col(\"hour\"),f.col(\"day_of_week\")))\n",
        "\n",
        "  if night :\n",
        "    is_night_udf =  f.udf(lambda x: is_night(x), BooleanType())\n",
        "    df = df.withColumn(\"is_night\",is_night_udf(f.col(\"hour\")))\n",
        "\n",
        "  return df"
      ],
      "execution_count": null,
      "outputs": []
    },
    {
      "cell_type": "code",
      "metadata": {
        "id": "LurvVi2UgqWD",
        "colab_type": "code",
        "colab": {
          "base_uri": "https://localhost:8080/",
          "height": 51
        },
        "outputId": "7c1d3b3f-faa3-4e3e-91b0-0857298ff078"
      },
      "source": [
        "print(\"The shape of the dataset before add_surchage() is {:d} rows by {:d} columns\".format(taxi_df.count(), len(taxi_df.columns)))\n",
        "taxi_df = add_surchage(df=taxi_df)\n",
        "print(\"The shape of the dataset after add_surchage() is {:d} rows by {:d} columns\".format(taxi_df.count(), len(taxi_df.columns)))"
      ],
      "execution_count": null,
      "outputs": [
        {
          "output_type": "stream",
          "text": [
            "The shape of the dataset before add_surchage() is 3873028 rows by 14 columns\n",
            "The shape of the dataset after add_surchage() is 3873028 rows by 16 columns\n"
          ],
          "name": "stdout"
        }
      ]
    },
    {
      "cell_type": "code",
      "metadata": {
        "id": "uF2fWR2wsu9C",
        "colab_type": "code",
        "colab": {
          "base_uri": "https://localhost:8080/",
          "height": 289
        },
        "outputId": "d033f984-42bd-4c33-d188-0dad559acade"
      },
      "source": [
        "taxi_df.dtypes"
      ],
      "execution_count": null,
      "outputs": [
        {
          "output_type": "execute_result",
          "data": {
            "text/plain": [
              "[('key', 'timestamp'),\n",
              " ('fare_amount', 'double'),\n",
              " ('pickup_longitude', 'double'),\n",
              " ('pickup_latitude', 'double'),\n",
              " ('dropoff_longitude', 'double'),\n",
              " ('dropoff_latitude', 'double'),\n",
              " ('passenger_count', 'int'),\n",
              " ('real_distance', 'double'),\n",
              " ('pickup_datetime', 'string'),\n",
              " ('minute', 'int'),\n",
              " ('hour', 'int'),\n",
              " ('day_of_week', 'int'),\n",
              " ('day_of_month', 'int'),\n",
              " ('year', 'int'),\n",
              " ('is_rush_hour', 'boolean'),\n",
              " ('is_night', 'boolean')]"
            ]
          },
          "metadata": {
            "tags": []
          },
          "execution_count": 23
        }
      ]
    },
    {
      "cell_type": "code",
      "metadata": {
        "id": "x6LmURmesxxj",
        "colab_type": "code",
        "colab": {}
      },
      "source": [
        "# Update features list\n",
        "CATEGORICAL_FEATURES.append(\"is_rush_hour\")\n",
        "CATEGORICAL_FEATURES.append(\"is_night\")"
      ],
      "execution_count": null,
      "outputs": []
    },
    {
      "cell_type": "markdown",
      "metadata": {
        "id": "noARGT3Xg7NA",
        "colab_type": "text"
      },
      "source": [
        "##**1.3. Airport Feature** </br>\n",
        "We used 3 dummy features (binary type), one foreach airport:\n",
        "\n",
        "\n",
        "1.   JFK \n",
        "2.   LGA\n",
        "3.   EWR\n",
        "</br>\n",
        "For istance wether pickup or dropoff belonged to JFK the feature JFK is equals to True, the same rule of thumb for the others airports. The idea behind the scene is illustrated in the photo below."
      ]
    },
    {
      "cell_type": "markdown",
      "metadata": {
        "id": "sQi-Ng2gjT7e",
        "colab_type": "text"
      },
      "source": [
        "![alt text](https://drive.google.com/uc?id=1OtJA2Pktt7UoRY785x08L55dH3qNnaKZ)"
      ]
    },
    {
      "cell_type": "code",
      "metadata": {
        "id": "hdGJOR0fi5DT",
        "colab_type": "code",
        "colab": {}
      },
      "source": [
        "# Utility function, which takes the start coordinate and end coordinate and return true if one of them is whitin an NY airport\n",
        "\n",
        "def airport_delimiter(min_latitude, max_latitude, min_longitude, max_longitude, pickup_latitude, pickup_longitude, dropoff_latitude, dropoff_longitude):\n",
        "    \n",
        "  pickup_delimiter_latitude = (pickup_latitude >= min_latitude) and (pickup_latitude <= max_latitude) \n",
        "  pickup_delimiter_longitude = (pickup_longitude >= min_longitude) and (pickup_longitude <= max_longitude)\n",
        "  dropoff_delimiter_latitude = (dropoff_latitude >= min_latitude) and (dropoff_latitude <= max_latitude) \n",
        "  dropoff_delimiter_longitude = (dropoff_longitude >= min_longitude) and (dropoff_longitude <= max_longitude)\n",
        "  is_airport = (pickup_delimiter_latitude and pickup_delimiter_longitude) or (dropoff_delimiter_latitude and dropoff_delimiter_longitude)\n",
        "  return is_airport\n",
        "      \n",
        "def add_airports(df, jfk = True, ewr = True, lga=True):\n",
        "  from pyspark.sql.types import BooleanType\n",
        "  if jfk:\n",
        "    add_jfk_udf = f.udf(lambda x, y, w, z:airport_delimiter(40.624845,40.66590,-73.821974,-73.745499,x,y,w,z), BooleanType())\n",
        "    df = df.withColumn(\"jfk_airport\", (add_jfk_udf(f.col(\"pickup_latitude\"),f.col(\"pickup_longitude\"),f.col(\"dropoff_latitude\"),f.col(\"dropoff_longitude\"))))\n",
        "  \n",
        "  if ewr:\n",
        "    add_ewr_udf = f.udf(lambda  x, y, w, z:airport_delimiter(40.670851,40.708338,-74.194669,-74.153213,x,y,w,z), BooleanType())\n",
        "    df = df.withColumn(\"ewr_airport\", (add_ewr_udf(f.col(\"pickup_latitude\"),f.col(\"pickup_longitude\"),\\\n",
        "                                                                     f.col(\"dropoff_latitude\"),f.col(\"dropoff_longitude\"))))\n",
        "  if lga:\n",
        "    add_lga_udf = f.udf(lambda  x, y, w, z:airport_delimiter(40.764928,40.783843,-73.887967,-73.854150,x,y,w,z), BooleanType()) \n",
        "    df = df.withColumn(\"lga_airport\", (add_lga_udf(f.col(\"pickup_latitude\"),f.col(\"pickup_longitude\"),\\\n",
        "                                                                      f.col(\"dropoff_latitude\"),f.col(\"dropoff_longitude\"))))\n",
        "  return df"
      ],
      "execution_count": null,
      "outputs": []
    },
    {
      "cell_type": "markdown",
      "metadata": {
        "id": "tXrnBsCDQueC",
        "colab_type": "text"
      },
      "source": [
        "**Check if everything works**"
      ]
    },
    {
      "cell_type": "code",
      "metadata": {
        "id": "cH6PMsFCq4LL",
        "colab_type": "code",
        "colab": {
          "base_uri": "https://localhost:8080/",
          "height": 34
        },
        "outputId": "874d1746-8042-4191-c8e9-dabc93db3301"
      },
      "source": [
        "airport_delimiter(40.624845,40.66590,-73.821974,-73.745499,40.64749,-73.77998209999998,-73.821974,-73.745499)"
      ],
      "execution_count": null,
      "outputs": [
        {
          "output_type": "execute_result",
          "data": {
            "text/plain": [
              "True"
            ]
          },
          "metadata": {
            "tags": []
          },
          "execution_count": 26
        }
      ]
    },
    {
      "cell_type": "code",
      "metadata": {
        "id": "RdUVqly4nLDh",
        "colab_type": "code",
        "colab": {
          "base_uri": "https://localhost:8080/",
          "height": 51
        },
        "outputId": "287bf04b-cf7b-4ae3-e1d1-2510b8a5e9ba"
      },
      "source": [
        "print(\"The shape of the dataset before add_airports() is {:d} rows by {:d} columns\".format(taxi_df.count(), len(taxi_df.columns)))\n",
        "taxi_df = add_airports(df=taxi_df)\n",
        "print(\"The shape of the dataset after add_airports() is {:d} rows by {:d} columns\".format(taxi_df.count(), len(taxi_df.columns)))"
      ],
      "execution_count": null,
      "outputs": [
        {
          "output_type": "stream",
          "text": [
            "The shape of the dataset before add_airports() is 3873028 rows by 16 columns\n",
            "The shape of the dataset after add_airports() is 3873028 rows by 19 columns\n"
          ],
          "name": "stdout"
        }
      ]
    },
    {
      "cell_type": "markdown",
      "metadata": {
        "id": "J2Lpv0H4X0ot",
        "colab_type": "text"
      },
      "source": [
        "We add the new Aiport Features"
      ]
    },
    {
      "cell_type": "code",
      "metadata": {
        "id": "3Cp1YzYita3g",
        "colab_type": "code",
        "colab": {}
      },
      "source": [
        "CATEGORICAL_FEATURES.append(\"jfk_airport\")\n",
        "CATEGORICAL_FEATURES.append(\"ewr_airport\")\n",
        "CATEGORICAL_FEATURES.append(\"lga_airport\")"
      ],
      "execution_count": null,
      "outputs": []
    },
    {
      "cell_type": "code",
      "metadata": {
        "id": "dIQc4f-tnUZv",
        "colab_type": "code",
        "colab": {
          "base_uri": "https://localhost:8080/",
          "height": 340
        },
        "outputId": "59987e7f-3dc3-4cb5-f431-e8b8ec897265"
      },
      "source": [
        "taxi_df.dtypes"
      ],
      "execution_count": null,
      "outputs": [
        {
          "output_type": "execute_result",
          "data": {
            "text/plain": [
              "[('key', 'timestamp'),\n",
              " ('fare_amount', 'double'),\n",
              " ('pickup_longitude', 'double'),\n",
              " ('pickup_latitude', 'double'),\n",
              " ('dropoff_longitude', 'double'),\n",
              " ('dropoff_latitude', 'double'),\n",
              " ('passenger_count', 'int'),\n",
              " ('real_distance', 'double'),\n",
              " ('pickup_datetime', 'string'),\n",
              " ('minute', 'int'),\n",
              " ('hour', 'int'),\n",
              " ('day_of_week', 'int'),\n",
              " ('day_of_month', 'int'),\n",
              " ('year', 'int'),\n",
              " ('is_rush_hour', 'boolean'),\n",
              " ('is_night', 'boolean'),\n",
              " ('jfk_airport', 'boolean'),\n",
              " ('ewr_airport', 'boolean'),\n",
              " ('lga_airport', 'boolean')]"
            ]
          },
          "metadata": {
            "tags": []
          },
          "execution_count": 29
        }
      ]
    },
    {
      "cell_type": "markdown",
      "metadata": {
        "id": "q3zhWnWWYFEi",
        "colab_type": "text"
      },
      "source": [
        "## 1.4 Distance feature"
      ]
    },
    {
      "cell_type": "markdown",
      "metadata": {
        "id": "5J9IeNSbaMoY",
        "colab_type": "text"
      },
      "source": [
        "###**1.4.1 Haversine Distance**"
      ]
    },
    {
      "cell_type": "code",
      "metadata": {
        "id": "0hfHhHhxq5Tj",
        "colab_type": "code",
        "colab": {}
      },
      "source": [
        "def haversine_distance_km(pickup_latitude, pickup_longitude, dropoff_latitude, dropoff_longitude):\n",
        "    import geopy.distance\n",
        "    # see https://kite.com/python/answers/how-to-find-the-distance-between-two-lat-long-coordinates-in-python\n",
        "    coords_1 = (pickup_latitude, pickup_longitude)        \n",
        "    coords_2 = (dropoff_latitude, dropoff_longitude)\n",
        "    km_distance = geopy.distance.distance(coords_1, coords_2).km       \n",
        "\n",
        "    return km_distance\n",
        "\n",
        "def add_haversine(df):\n",
        "    from pyspark.sql.types import DoubleType, IntegerType\n",
        "    # create udf to iterate over Spark Dataframe see https://changhsinlee.com/pyspark-udf/\n",
        "    haversine_distance_km_udf = f.udf(lambda x, y, w, z: haversine_distance_km(x, y, w, z), DoubleType())\n",
        "\n",
        "    df = df.withColumn(\"haversine_distance_km\", (haversine_distance_km_udf(f.col(\"pickup_latitude\"),f.col(\"pickup_longitude\"),\\\n",
        "                                                                     f.col(\"dropoff_latitude\"),f.col(\"dropoff_longitude\"))))    \n",
        "    return df\n"
      ],
      "execution_count": null,
      "outputs": []
    },
    {
      "cell_type": "code",
      "metadata": {
        "id": "3b7o2OZmzxH9",
        "colab_type": "code",
        "colab": {
          "base_uri": "https://localhost:8080/",
          "height": 51
        },
        "outputId": "e7629faf-4c3d-4d89-e933-844e68608bd0"
      },
      "source": [
        "print(\"The shape of the dataset before add_distance() is {:d} rows by {:d} columns\".format(taxi_df.count(), len(taxi_df.columns)))\n",
        "taxi_df = add_haversine(taxi_df)\n",
        "print(\"The shape of the dataset before add_distance() is {:d} rows by {:d} columns\".format(taxi_df.count(), len(taxi_df.columns)))"
      ],
      "execution_count": null,
      "outputs": [
        {
          "output_type": "stream",
          "text": [
            "The shape of the dataset before add_distance() is 3873028 rows by 19 columns\n",
            "The shape of the dataset before add_distance() is 3873028 rows by 20 columns\n"
          ],
          "name": "stdout"
        }
      ]
    },
    {
      "cell_type": "code",
      "metadata": {
        "id": "uCZ3V85q0JDH",
        "colab_type": "code",
        "colab": {}
      },
      "source": [
        "# Update features\n",
        "NUMERICAL_FEATURES.append(\"haversine_distance_km\")"
      ],
      "execution_count": null,
      "outputs": []
    },
    {
      "cell_type": "code",
      "metadata": {
        "id": "vCY7YZAS0Fos",
        "colab_type": "code",
        "colab": {
          "base_uri": "https://localhost:8080/",
          "height": 357
        },
        "outputId": "d8d05d12-b06b-4947-c93a-9ac287b4eba5"
      },
      "source": [
        "taxi_df.dtypes"
      ],
      "execution_count": null,
      "outputs": [
        {
          "output_type": "execute_result",
          "data": {
            "text/plain": [
              "[('key', 'timestamp'),\n",
              " ('fare_amount', 'double'),\n",
              " ('pickup_longitude', 'double'),\n",
              " ('pickup_latitude', 'double'),\n",
              " ('dropoff_longitude', 'double'),\n",
              " ('dropoff_latitude', 'double'),\n",
              " ('passenger_count', 'int'),\n",
              " ('real_distance', 'double'),\n",
              " ('pickup_datetime', 'string'),\n",
              " ('minute', 'int'),\n",
              " ('hour', 'int'),\n",
              " ('day_of_week', 'int'),\n",
              " ('day_of_month', 'int'),\n",
              " ('year', 'int'),\n",
              " ('is_rush_hour', 'boolean'),\n",
              " ('is_night', 'boolean'),\n",
              " ('jfk_airport', 'boolean'),\n",
              " ('ewr_airport', 'boolean'),\n",
              " ('lga_airport', 'boolean'),\n",
              " ('haversine_distance_km', 'double')]"
            ]
          },
          "metadata": {
            "tags": []
          },
          "execution_count": 33
        }
      ]
    },
    {
      "cell_type": "markdown",
      "metadata": {
        "id": "cTR-eRh3Z91W",
        "colab_type": "text"
      },
      "source": [
        "### **1.4.2 Waze API**\n",
        "\n",
        "![alt text](https://images.wired.it/wp-content/uploads/2019/03/26180339/WAZE_Traffico_Intelligenza_Artificiale.png)\n",
        "\n"
      ]
    },
    {
      "cell_type": "code",
      "metadata": {
        "id": "Zk-IY42oAJM5",
        "colab_type": "code",
        "cellView": "both",
        "colab": {
          "base_uri": "https://localhost:8080/",
          "height": 377
        },
        "outputId": "c65191e2-b352-4763-c9dc-483800f02507"
      },
      "source": [
        "#@title Implementation of WAZE API (IT'S JUST AN EXAMPLE, DON'T RUN IT)\n",
        "!pip install WazeRouteCalculator\n",
        "\n",
        "\n",
        "def waze_api(pickup_latitude, pickup_longitude, dropoff_latitude, dropoff_longitude):\n",
        "  import WazeRouteCalculator\n",
        "  result = 0.0\n",
        "  while(result==0):\n",
        "    from_address = str(pickup_latitude) + \", \" + str(pickup_longitude)\n",
        "    to_address = str(dropoff_latitude)+ \", \" + str(dropoff_longitude)\n",
        "    region = 'US'\n",
        "    vehicle_type = \"TAXI\" # TAXI heuristics\n",
        "    try:\n",
        "      route = WazeRouteCalculator.WazeRouteCalculator(from_address, to_address, region,vehicle_type=vehicle_type)\n",
        "      result = route.calc_route_info(real_time=False)[1]\n",
        "    except:\n",
        "      pass\n",
        "  print(\"ok \")\n",
        "  return result\n",
        "\n",
        "def add_waze_time(df):\n",
        "  add_waze_times_udf = f.udf(lambda x, y, w, z: waze_api(x, y, w, z), DoubleType())\n",
        "  \n",
        "  df = df.withColumn(\"waze_time\", (add_waze_times_udf(f.col(\"pickup_latitude\"),f.col(\"pickup_longitude\"),\\\n",
        "                                                                  f.col(\"dropoff_latitude\"),f.col(\"dropoff_longitude\"))))\n",
        "  return df\n",
        "\n",
        "waze_api( 40.721287,-74.00981800000001,  40.7671, -73.95695)\n",
        "waze_api(40.7073,-73.966709,40.756196,-74.011909)    \n",
        "waze_api( 40.762112,-73.97914499999999,40.758815000000006,-73.995648)   "
      ],
      "execution_count": null,
      "outputs": [
        {
          "output_type": "stream",
          "text": [
            "Collecting WazeRouteCalculator\n",
            "  Downloading https://files.pythonhosted.org/packages/96/a2/6a4ea0f6f463d90f3bb982e43ffeef44dc8fbe4f8f9395ddbc36fe00dd36/WazeRouteCalculator-0.12.tar.gz\n",
            "Requirement already satisfied: requests in /usr/local/lib/python3.6/dist-packages (from WazeRouteCalculator) (2.23.0)\n",
            "Requirement already satisfied: urllib3!=1.25.0,!=1.25.1,<1.26,>=1.21.1 in /usr/local/lib/python3.6/dist-packages (from requests->WazeRouteCalculator) (1.24.3)\n",
            "Requirement already satisfied: certifi>=2017.4.17 in /usr/local/lib/python3.6/dist-packages (from requests->WazeRouteCalculator) (2020.4.5.1)\n",
            "Requirement already satisfied: chardet<4,>=3.0.2 in /usr/local/lib/python3.6/dist-packages (from requests->WazeRouteCalculator) (3.0.4)\n",
            "Requirement already satisfied: idna<3,>=2.5 in /usr/local/lib/python3.6/dist-packages (from requests->WazeRouteCalculator) (2.9)\n",
            "Building wheels for collected packages: WazeRouteCalculator\n",
            "  Building wheel for WazeRouteCalculator (setup.py) ... \u001b[?25l\u001b[?25hdone\n",
            "  Created wheel for WazeRouteCalculator: filename=WazeRouteCalculator-0.12-cp36-none-any.whl size=4495 sha256=8e2cc1cbd4c432251a8f9fecbecad331b5247896f148c42658836e0acbc02b00\n",
            "  Stored in directory: /root/.cache/pip/wheels/b6/4b/01/435309a78d48505ca8ca715ceb43011a2255f891b8d214ffbd\n",
            "Successfully built WazeRouteCalculator\n",
            "Installing collected packages: WazeRouteCalculator\n",
            "Successfully installed WazeRouteCalculator-0.12\n",
            "Requirement already satisfied: geopy in /usr/local/lib/python3.6/dist-packages (1.17.0)\n",
            "Requirement already satisfied: geographiclib<2,>=1.49 in /usr/local/lib/python3.6/dist-packages (from geopy) (1.50)\n",
            "ok \n",
            "ok \n",
            "ok \n"
          ],
          "name": "stdout"
        },
        {
          "output_type": "execute_result",
          "data": {
            "text/plain": [
              "2.007"
            ]
          },
          "metadata": {
            "tags": []
          },
          "execution_count": 40
        }
      ]
    },
    {
      "cell_type": "markdown",
      "metadata": {
        "id": "gl4s7LJAkTcg",
        "colab_type": "text"
      },
      "source": [
        "<a id='osmr'></a>"
      ]
    },
    {
      "cell_type": "markdown",
      "metadata": {
        "id": "8bSGI2opz0q4",
        "colab_type": "text"
      },
      "source": [
        "### **1.4.3 OpenStreetMap Routing**\n"
      ]
    },
    {
      "cell_type": "markdown",
      "metadata": {
        "id": "ksfuA2jreMS8",
        "colab_type": "text"
      },
      "source": [
        "\n",
        "![alt text](https://drive.google.com/uc?id=1IevrJ0wX1WFCBfjZR7KB7oWsrH0LKuhs)\n"
      ]
    },
    {
      "cell_type": "markdown",
      "metadata": {
        "id": "wLjHs0Ia0ECY",
        "colab_type": "text"
      },
      "source": [
        "See GitHub repository https://github.com/Project-OSRM/osrm-backend"
      ]
    },
    {
      "cell_type": "markdown",
      "metadata": {
        "id": "BrZ24wH20LB2",
        "colab_type": "text"
      },
      "source": [
        "We dowloaded the Docker Image of the NY Map server. </br>\n",
        "Below how it works the OpenStreetMap Docker container."
      ]
    },
    {
      "cell_type": "markdown",
      "metadata": {
        "id": "FWrxRNJu0bqB",
        "colab_type": "text"
      },
      "source": [
        "![alt text](https://drive.google.com/uc?id=1Sh97s_Wn9rJHSJMeoKn1Uh-eIIk_XRLk)\n"
      ]
    },
    {
      "cell_type": "markdown",
      "metadata": {
        "id": "xOvZW-D5dyKQ",
        "colab_type": "text"
      },
      "source": [
        "The script which we used to calculate the real_distance, interacting with the Docker Container."
      ]
    },
    {
      "cell_type": "markdown",
      "metadata": {
        "id": "ocUJ3i4mdgTk",
        "colab_type": "text"
      },
      "source": [
        "\n",
        "![alt text](https://drive.google.com/uc?id=1xSjQFtCllxQ8VRXNc_BmkzenOSUKrOtN)\n"
      ]
    },
    {
      "cell_type": "markdown",
      "metadata": {
        "id": "6DZ-Prkft6s4",
        "colab_type": "text"
      },
      "source": [
        "## **1.5 Feature transformation + a few EDA scratches**"
      ]
    },
    {
      "cell_type": "markdown",
      "metadata": {
        "id": "ZjEYx3uKwoqG",
        "colab_type": "text"
      },
      "source": [
        "**TO AVOID DATA LEAKAGE, WE SPLIT OUR DATASET, SINCE WE WILL PERFORM SEVERAL TRANSFORMATION USING JUST THE TRAIN DATASET. TROUGH THE TRANSFORMATION OBTAINED FROM THE TRAIN DATA, WE WILL COMPUTE THE TRANSFORMED FEATURE FOR TRAIN AND TEST**"
      ]
    },
    {
      "cell_type": "code",
      "metadata": {
        "id": "ITd2OZcSxIGy",
        "colab_type": "code",
        "colab": {}
      },
      "source": [
        "SPEED = True # if True we skip split and we use the (stored) splitted dataset \n",
        "USE_PICKLE = False # We use pickle to load the scaler\n",
        "PATH_DATASET_TRAIN = PATH_PREPROCESSED + \"/train/dataset_train.csv\"\n",
        "PATH_DATASET_VAL = PATH_PREPROCESSED + \"/val/dataset_val.csv\"\n",
        "PATH_DATASET_TEST = PATH_PREPROCESSED + \"/test/dataset_test.csv\""
      ],
      "execution_count": null,
      "outputs": []
    },
    {
      "cell_type": "code",
      "metadata": {
        "id": "Gmvo3TE8udiG",
        "colab_type": "code",
        "cellView": "both",
        "colab": {}
      },
      "source": [
        "if SPEED is False:\n",
        "  taxi_df, taxi_df_test, taxi_df_val = taxi_df.randomSplit([0.8, 0.1, 0.1], seed=SEED)\n",
        "  # Write the csv file of train into GDrive the name is merged_dataset_train.csv\n",
        "  \n",
        "  taxi_pd = taxi_df.toPandas()\n",
        "  taxi_pd_val = taxi_df_val.toPandas()\n",
        "  taxi_pd_test =  taxi_df_test.toPandas()"
      ],
      "execution_count": null,
      "outputs": []
    },
    {
      "cell_type": "markdown",
      "metadata": {
        "id": "Wk5l0BohVM1O",
        "colab_type": "text"
      },
      "source": [
        "Since the toPandas() (the cell above) which converts Spark DF into Pandas DF needs too much time, we import directly the temporany datasets using pandas."
      ]
    },
    {
      "cell_type": "markdown",
      "metadata": {
        "id": "hrWYUEpfuPMp",
        "colab_type": "text"
      },
      "source": [
        "**Split into train and validation**"
      ]
    },
    {
      "cell_type": "code",
      "metadata": {
        "id": "qP8wudaxw7nA",
        "colab_type": "code",
        "colab": {
          "base_uri": "https://localhost:8080/",
          "height": 71
        },
        "outputId": "eea298b5-b69e-454c-f5cf-f53b39d760fc"
      },
      "source": [
        "if SPEED:\n",
        "  taxi_pd = pd.read_csv(PATH_DATASET_TRAIN)\n",
        "  taxi_pd_val  = pd.read_csv(PATH_DATASET_VAL)\n",
        "  taxi_pd_test = pd.read_csv(PATH_DATASET_TEST)"
      ],
      "execution_count": null,
      "outputs": [
        {
          "output_type": "stream",
          "text": [
            "/usr/local/lib/python3.6/dist-packages/IPython/core/interactiveshell.py:2718: DtypeWarning: Columns (8) have mixed types.Specify dtype option on import or set low_memory=False.\n",
            "  interactivity=interactivity, compiler=compiler, result=result)\n"
          ],
          "name": "stderr"
        }
      ]
    },
    {
      "cell_type": "code",
      "metadata": {
        "id": "Cf0l7JTYWh_U",
        "colab_type": "code",
        "colab": {}
      },
      "source": [
        "plt.style.use(\"fivethirtyeight\")"
      ],
      "execution_count": null,
      "outputs": []
    },
    {
      "cell_type": "markdown",
      "metadata": {
        "id": "7LI-jX8jXI5H",
        "colab_type": "text"
      },
      "source": [
        "**One of the problems with histograms is the choose about the bin size. A better alternative to histogram is plotting Empirical cumulative distribution functions (ECDFs). ECDFs don’t have the binning issue and are great for visualizing many distributions together.**"
      ]
    },
    {
      "cell_type": "code",
      "metadata": {
        "id": "Qh4AXZ7fZIn1",
        "colab_type": "code",
        "colab": {}
      },
      "source": [
        "def ecdf(data):\n",
        "    # Empirical Cumulative Distribution Function\n",
        "    \"\"\"Compute ECDF for a one-dimensional array of measurements.\"\"\"\n",
        "    # Number of data points: n\n",
        "    n = len(data)\n",
        "    # x-data for the ECDF: x\n",
        "    x = np.sort(data)\n",
        "    # y-data for the ECDF: y\n",
        "    y = np.arange(1, n+1) / n\n",
        "    return x, y"
      ],
      "execution_count": null,
      "outputs": []
    },
    {
      "cell_type": "markdown",
      "metadata": {
        "id": "AYCBnnvDVtwi",
        "colab_type": "text"
      },
      "source": [
        "### 1.5.1. **EDA + log-transformation *fare_amount*** "
      ]
    },
    {
      "cell_type": "code",
      "metadata": {
        "id": "EyvOvem7uVVy",
        "colab_type": "code",
        "colab": {
          "base_uri": "https://localhost:8080/",
          "height": 370
        },
        "outputId": "e7eb4673-1a33-45f4-a973-471828ad90d3"
      },
      "source": [
        "x_fare_amount, y_fare_amount = ecdf(taxi_pd.fare_amount)\n",
        "\n",
        "# Generate plot\n",
        "fig, (ax1, ax2) = plt.subplots(1, 2, figsize=(15,5))\n",
        "fig.suptitle('ECDF vs histogram: fare_amount')\n",
        "ax1.plot(x_fare_amount,y_fare_amount, marker='.', linestyle= 'none',color='red')\n",
        "ax1.set(xlabel='Fare Amount ($)', ylabel='ECDF')\n",
        "\n",
        "taxi_pd.fare_amount.hist(ax=ax2)\n",
        "ax2.set(xlabel='Fare Amount ($)', ylabel='Frequency')\n",
        "\n",
        "# Display the plot\n",
        "plt.show()"
      ],
      "execution_count": null,
      "outputs": [
        {
          "output_type": "display_data",
          "data": {
            "image/png": "[encoded data removed]",
            "text/plain": [
              "<Figure size 1080x360 with 2 Axes>"
            ]
          },
          "metadata": {
            "tags": [],
            "needs_background": "light"
          }
        }
      ]
    },
    {
      "cell_type": "markdown",
      "metadata": {
        "id": "5AtzWkN_aAQK",
        "colab_type": "text"
      },
      "source": [
        "Looking the graph, the curve shows that almost the 95% of the entiry population have a fare_amount less than 50. Therefore we could apply a log transformation in order to remove ''skewed'' from the data distribution"
      ]
    },
    {
      "cell_type": "code",
      "metadata": {
        "id": "cGzZ9Ve2z6au",
        "colab_type": "code",
        "colab": {}
      },
      "source": [
        "from sklearn.preprocessing import PowerTransformer\n",
        "scaler_fare_amount = PowerTransformer() # log transformation\n",
        "TARGET_FEATURE = taxi_pd.fare_amount.to_numpy().reshape(-1,1)\n",
        "\n",
        "\n",
        "scaler_fare_amount.fit(TARGET_FEATURE)\n",
        "taxi_pd['log_fare_amount'] = scaler_fare_amount.transform(TARGET_FEATURE)"
      ],
      "execution_count": null,
      "outputs": []
    },
    {
      "cell_type": "markdown",
      "metadata": {
        "id": "03mKy5w8vniR",
        "colab_type": "text"
      },
      "source": [
        "**`Plot the created feature`**"
      ]
    },
    {
      "cell_type": "code",
      "metadata": {
        "id": "zwzzt-oqavI3",
        "colab_type": "code",
        "colab": {
          "base_uri": "https://localhost:8080/",
          "height": 370
        },
        "outputId": "c66446b7-a37c-4ccb-c925-c5d277a543b6"
      },
      "source": [
        "x_log_fare_amount, y_log_fare_amount = ecdf(taxi_pd.log_fare_amount)\n",
        "\n",
        "x_fare_amount, y_fare_amount = ecdf(taxi_pd.fare_amount)\n",
        "\n",
        "# Generate plot\n",
        "fig, (ax1, ax2) = plt.subplots(1, 2,figsize=(15,5))\n",
        "fig.suptitle('ECDF vs histogram: fare_amount')\n",
        "ax1.plot(x_log_fare_amount,y_log_fare_amount, marker='.', linestyle= 'none',color='red')\n",
        "ax1.set(xlabel='Fare Amount ($)', ylabel='ECDF')\n",
        "\n",
        "taxi_pd.log_fare_amount.hist(ax=ax2, bins=100)\n",
        "ax2.set(xlabel='Fare Amount ($)', ylabel='Frequency')\n",
        "\n",
        "# Display the plot\n",
        "plt.show()"
      ],
      "execution_count": null,
      "outputs": [
        {
          "output_type": "display_data",
          "data": {
            "image/png": "[encoded data removed]",
            "text/plain": [
              "<Figure size 1080x360 with 2 Axes>"
            ]
          },
          "metadata": {
            "tags": [],
            "needs_background": "light"
          }
        }
      ]
    },
    {
      "cell_type": "markdown",
      "metadata": {
        "id": "uR7gcqQdii5W",
        "colab_type": "text"
      },
      "source": [
        "We perform the 97 % confident interval, in order to remove several ''outliers'', after do that we count how many outliers we rule out."
      ]
    },
    {
      "cell_type": "code",
      "metadata": {
        "id": "UjrsuhH5kYpM",
        "colab_type": "code",
        "colab": {
          "base_uri": "https://localhost:8080/",
          "height": 51
        },
        "outputId": "2d13e844-7438-4368-fbc8-ad3766d78317"
      },
      "source": [
        "min = taxi_pd['fare_amount'].min()\n",
        "max = taxi_pd['fare_amount'].max()\n",
        "print(\"min = \"+str(min))\n",
        "print(\"max = \"+str(max))"
      ],
      "execution_count": null,
      "outputs": [
        {
          "output_type": "stream",
          "text": [
            "min = 0.01\n",
            "max = 250.0\n"
          ],
          "name": "stdout"
        }
      ]
    },
    {
      "cell_type": "code",
      "metadata": {
        "id": "ZpUnjXbti_CL",
        "colab_type": "code",
        "colab": {}
      },
      "source": [
        "ninthyseven_ci= np.percentile(taxi_pd.log_fare_amount,[1.5,98.5])\n",
        "mean = np.mean(taxi_pd.log_fare_amount)\n",
        "cut_off_lower = ninthyseven_ci[0]\n",
        "cut_off_upper = ninthyseven_ci[1]"
      ],
      "execution_count": null,
      "outputs": []
    },
    {
      "cell_type": "code",
      "metadata": {
        "id": "O3IqrnAelbBS",
        "colab_type": "code",
        "colab": {}
      },
      "source": [
        "lower, upper = cut_off_lower,cut_off_upper"
      ],
      "execution_count": null,
      "outputs": []
    },
    {
      "cell_type": "code",
      "metadata": {
        "id": "vLTKr1XvlFHv",
        "colab_type": "code",
        "colab": {
          "base_uri": "https://localhost:8080/",
          "height": 34
        },
        "outputId": "3abba7ac-8516-403f-aea7-29cf2e1ba91a"
      },
      "source": [
        "upper_cutted = len(taxi_pd[(taxi_pd['log_fare_amount'] > upper)==True])\n",
        "lower_cutted = len(taxi_pd[(taxi_pd['log_fare_amount'] < lower )==True])\n",
        "print(\"Number of samples ruled out, cut_off_lower {:d}, cut_of_upper {:d}\".format(lower_cutted, upper_cutted))"
      ],
      "execution_count": null,
      "outputs": [
        {
          "output_type": "stream",
          "text": [
            "Number of samples ruled out, cut_off_lower 44323, cut_of_upper 39258\n"
          ],
          "name": "stdout"
        }
      ]
    },
    {
      "cell_type": "markdown",
      "metadata": {
        "id": "k75SatRmmiWn",
        "colab_type": "text"
      },
      "source": [
        "**WE APPLING THIS TRANSFORMATION JUST FOR THE TRAIN**"
      ]
    },
    {
      "cell_type": "code",
      "metadata": {
        "id": "1NDQ3mFGmuGh",
        "colab_type": "code",
        "colab": {}
      },
      "source": [
        "taxi_pd = taxi_pd[(taxi_pd['log_fare_amount'] < upper) &\n",
        "(taxi_pd['log_fare_amount'] > lower)]"
      ],
      "execution_count": null,
      "outputs": []
    },
    {
      "cell_type": "code",
      "metadata": {
        "id": "z3yERTpHmX5f",
        "colab_type": "code",
        "colab": {
          "base_uri": "https://localhost:8080/",
          "height": 51
        },
        "outputId": "9b13e1c2-b0ae-4c7a-d017-e3201512396a"
      },
      "source": [
        "min = taxi_pd['fare_amount'].min()\n",
        "max = taxi_pd['fare_amount'].max()\n",
        "print(\"min = \" + str(min))\n",
        "print(\"max = \" + str(max))"
      ],
      "execution_count": null,
      "outputs": [
        {
          "output_type": "stream",
          "text": [
            "min = 3.61\n",
            "max = 49.79\n"
          ],
          "name": "stdout"
        }
      ]
    },
    {
      "cell_type": "markdown",
      "metadata": {
        "id": "wFLeZvPn0qMB",
        "colab_type": "text"
      },
      "source": [
        "### **1.5.2. EDA + log-transformation *real_distance***\n"
      ]
    },
    {
      "cell_type": "code",
      "metadata": {
        "id": "6MZ8ZxhH0vDl",
        "colab_type": "code",
        "colab": {}
      },
      "source": [
        "if USE_PICKLE is False:\n",
        "  scaler = PowerTransformer() # log transformation\n",
        "  TARGET_FEATURE = taxi_pd.real_distance.to_numpy().reshape(-1,1)\n",
        "  TARGET_FEATURE_VAL = taxi_pd_val.real_distance.to_numpy().reshape(-1,1)\n",
        "  TARGET_FEATURE_TEST = taxi_pd_test.real_distance.to_numpy().reshape(-1,1)\n",
        "\n",
        "  scaler.fit(TARGET_FEATURE)\n",
        "  taxi_pd['log_real_distance'] = scaler.transform(TARGET_FEATURE)\n",
        "  taxi_pd_val['log_real_distance'] = scaler.transform(TARGET_FEATURE_VAL)\n",
        "  taxi_pd_test['log_real_distance'] = scaler.transform(TARGET_FEATURE_TEST)"
      ],
      "execution_count": null,
      "outputs": []
    },
    {
      "cell_type": "code",
      "metadata": {
        "id": "mFPcS_kf8TMI",
        "colab_type": "code",
        "colab": {
          "base_uri": "https://localhost:8080/",
          "height": 34
        },
        "outputId": "29883716-bbce-4eb1-eef9-acfc145aeb38"
      },
      "source": [
        "%%bash\n",
        "ls \"/content/drive/My Drive/Colab Notebooks/BigData/1747105_1914000/taxi-fare-amount/pickle/\""
      ],
      "execution_count": null,
      "outputs": [
        {
          "output_type": "stream",
          "text": [
            "PowerTransformer.pkl\n"
          ],
          "name": "stdout"
        }
      ]
    },
    {
      "cell_type": "code",
      "metadata": {
        "id": "guSp3LmX76Fm",
        "colab_type": "code",
        "colab": {}
      },
      "source": [
        "power_transfomer_pickle_filename = PATH_PICKLE + \"/PowerTransformer.pkl\"\n",
        "if USE_PICKLE is False:\n",
        "  with open(power_transfomer_pickle_filename, \"wb\") as power_transfomer_pickle:\n",
        "    pickle.dump(scaler, power_transfomer_pickle)\n",
        "else:\n",
        "  with open(power_transfomer_pickle_filename, \"rb\") as power_transfomer_pickle:\n",
        "    scaler = pickle.load(power_transfomer_pickle)"
      ],
      "execution_count": null,
      "outputs": []
    },
    {
      "cell_type": "markdown",
      "metadata": {
        "id": "q8M1LaYQyemd",
        "colab_type": "text"
      },
      "source": [
        "**Plot the created feature**"
      ]
    },
    {
      "cell_type": "code",
      "metadata": {
        "id": "oUz4mkqH0v1s",
        "colab_type": "code",
        "colab": {
          "base_uri": "https://localhost:8080/",
          "height": 370
        },
        "outputId": "5fe7cadb-2648-45ee-e137-fd845d74db38"
      },
      "source": [
        "x_log_real_distance, y_log_real_distance = ecdf(taxi_pd.log_real_distance)\n",
        "# Generate plot\n",
        "fig, (ax1, ax2) = plt.subplots(1, 2, figsize=(15,5))\n",
        "fig.suptitle('ECDF vs histogram: real_distance')\n",
        "ax1.plot(x_log_real_distance,y_log_real_distance, marker='.', linestyle= 'none',color='red')\n",
        "ax1.set(xlabel='Real distance (m)', ylabel='ECDF')\n",
        "\n",
        "taxi_pd.log_real_distance.hist(ax=ax2, bins=100)\n",
        "ax2.set(xlabel='Real distance (m)', ylabel='Frequency')\n",
        "\n",
        "# Display the plot\n",
        "plt.show()"
      ],
      "execution_count": null,
      "outputs": [
        {
          "output_type": "display_data",
          "data": {
            "image/png": "[encoded data removed]",
            "text/plain": [
              "<Figure size 1080x360 with 2 Axes>"
            ]
          },
          "metadata": {
            "tags": [],
            "needs_background": "light"
          }
        }
      ]
    },
    {
      "cell_type": "markdown",
      "metadata": {
        "id": "AgEZ4kFuypdU",
        "colab_type": "text"
      },
      "source": [
        "**REMOVE OUTLIERS USING REAL_DISTANCE**"
      ]
    },
    {
      "cell_type": "code",
      "metadata": {
        "id": "0doilxet1W4D",
        "colab_type": "code",
        "colab": {
          "base_uri": "https://localhost:8080/",
          "height": 51
        },
        "outputId": "ab05937a-7700-48df-e124-540d1cdd93ca"
      },
      "source": [
        "min = taxi_pd['real_distance'].min()\n",
        "max = taxi_pd['real_distance'].max()\n",
        "print(\"min = \" + str(min))\n",
        "print(\"max = \" + str(max))"
      ],
      "execution_count": null,
      "outputs": [
        {
          "output_type": "stream",
          "text": [
            "min = 0.0\n",
            "max = 337384.6\n"
          ],
          "name": "stdout"
        }
      ]
    },
    {
      "cell_type": "code",
      "metadata": {
        "id": "UCD2vp7P10eE",
        "colab_type": "code",
        "colab": {}
      },
      "source": [
        "ninthyeight_ci= np.percentile(taxi_pd.log_real_distance,[1,99])\n",
        "cut_off_lower = ninthyeight_ci[0]\n",
        "cut_off_upper = ninthyeight_ci[1]"
      ],
      "execution_count": null,
      "outputs": []
    },
    {
      "cell_type": "code",
      "metadata": {
        "id": "MSJHIEzi1g4n",
        "colab_type": "code",
        "colab": {}
      },
      "source": [
        "lower, upper = cut_off_lower, cut_off_upper"
      ],
      "execution_count": null,
      "outputs": []
    },
    {
      "cell_type": "code",
      "metadata": {
        "id": "Y3Wu1VhWntAG",
        "colab_type": "code",
        "colab": {
          "base_uri": "https://localhost:8080/",
          "height": 34
        },
        "outputId": "f5c1da16-a3b9-4408-f846-4beae119769b"
      },
      "source": [
        "upper_cutted = len(taxi_pd[(taxi_pd['log_real_distance'] > upper) == True])\n",
        "lower_cutted = len(taxi_pd[(taxi_pd['log_real_distance'] < lower ) == True])\n",
        "print(\"Number of samples ruled out, cut_off_lower {:d}, cut_of_upper {:d}\".format(lower_cutted, upper_cutted))"
      ],
      "execution_count": null,
      "outputs": [
        {
          "output_type": "stream",
          "text": [
            "Number of samples ruled out, cut_off_lower 29892, cut_of_upper 29904\n"
          ],
          "name": "stdout"
        }
      ]
    },
    {
      "cell_type": "code",
      "metadata": {
        "id": "DNxRTvFnZnlw",
        "colab_type": "code",
        "colab": {}
      },
      "source": [
        "taxi_pd = taxi_pd[(taxi_pd['log_real_distance'] < upper) &\n",
        "(taxi_pd['log_real_distance'] > lower)]"
      ],
      "execution_count": null,
      "outputs": []
    },
    {
      "cell_type": "code",
      "metadata": {
        "id": "rsFaFEV10LMN",
        "colab_type": "code",
        "colab": {}
      },
      "source": [
        "taxi_pd_val = taxi_pd_val[(taxi_pd_val['log_real_distance'] < upper) &\n",
        "(taxi_pd_val['log_real_distance'] > lower)]"
      ],
      "execution_count": null,
      "outputs": []
    },
    {
      "cell_type": "code",
      "metadata": {
        "id": "AMUehyVUdIp0",
        "colab_type": "code",
        "colab": {
          "base_uri": "https://localhost:8080/",
          "height": 51
        },
        "outputId": "47677f18-1ee7-4a97-9ca5-bcaf9a35d11b"
      },
      "source": [
        "min = taxi_pd['fare_amount'].min()\n",
        "max = taxi_pd['fare_amount'].max()\n",
        "print(\"min = \"+str(min)) # min = 3.7\n",
        "print(\"max = \"+str(max)) # max = 49.79"
      ],
      "execution_count": null,
      "outputs": [
        {
          "output_type": "stream",
          "text": [
            "min = 3.7\n",
            "max = 49.75\n"
          ],
          "name": "stdout"
        }
      ]
    },
    {
      "cell_type": "markdown",
      "metadata": {
        "id": "MNLUlN1hjoN0",
        "colab_type": "text"
      },
      "source": [
        "### **1.5.3. Airport analysis (off-topic)**\n"
      ]
    },
    {
      "cell_type": "markdown",
      "metadata": {
        "id": "kUrRzV--j1vx",
        "colab_type": "text"
      },
      "source": [
        "We applied here, since with Pandas DF we can do lot of things rather than SparkDF"
      ]
    },
    {
      "cell_type": "code",
      "metadata": {
        "id": "Wt6uKDup6N41",
        "colab_type": "code",
        "colab": {}
      },
      "source": [
        "import pandas as pd"
      ],
      "execution_count": null,
      "outputs": []
    },
    {
      "cell_type": "code",
      "metadata": {
        "id": "twJUTEKf50fx",
        "colab_type": "code",
        "colab": {
          "base_uri": "https://localhost:8080/",
          "height": 70
        },
        "outputId": "87ae8a27-d547-43f7-c3c8-1cdf74285f32"
      },
      "source": [
        "taxi_pd = pd.read_csv(PATH_PREPROCESSED+\"/train/transformed_dataset_train.csv\")"
      ],
      "execution_count": null,
      "outputs": [
        {
          "output_type": "stream",
          "text": [
            "/usr/local/lib/python3.6/dist-packages/IPython/core/interactiveshell.py:2718: DtypeWarning: Columns (8) have mixed types.Specify dtype option on import or set low_memory=False.\n",
            "  interactivity=interactivity, compiler=compiler, result=result)\n"
          ],
          "name": "stderr"
        }
      ]
    },
    {
      "cell_type": "code",
      "metadata": {
        "id": "iWv9e6ikjnCz",
        "colab_type": "code",
        "colab": {
          "base_uri": "https://localhost:8080/",
          "height": 163
        },
        "outputId": "62d9dcaa-472a-468a-a5b8-399bd8b66071"
      },
      "source": [
        "jfk = taxi_pd[taxi_pd.jfk_airport == True]\n",
        "jfk.describe().fare_amount.T"
      ],
      "execution_count": null,
      "outputs": [
        {
          "output_type": "execute_result",
          "data": {
            "text/plain": [
              "count    11672.000000\n",
              "mean        26.036149\n",
              "std         10.551278\n",
              "min          3.700000\n",
              "25%         18.100000\n",
              "50%         26.500000\n",
              "75%         33.500000\n",
              "max         49.700000\n",
              "Name: fare_amount, dtype: float64"
            ]
          },
          "metadata": {
            "tags": []
          },
          "execution_count": 15
        }
      ]
    },
    {
      "cell_type": "code",
      "metadata": {
        "id": "hAIiL5S3k6dY",
        "colab_type": "code",
        "colab": {
          "base_uri": "https://localhost:8080/",
          "height": 163
        },
        "outputId": "0aae72ec-0050-452a-d119-6de039249d12"
      },
      "source": [
        "ewr = taxi_pd[taxi_pd.ewr_airport == True]\n",
        "ewr.describe().fare_amount.T"
      ],
      "execution_count": null,
      "outputs": [
        {
          "output_type": "execute_result",
          "data": {
            "text/plain": [
              "count     8.000000\n",
              "mean      9.850000\n",
              "std       4.684015\n",
              "min       4.900000\n",
              "25%       7.100000\n",
              "50%       8.500000\n",
              "75%      10.800000\n",
              "max      19.300000\n",
              "Name: fare_amount, dtype: float64"
            ]
          },
          "metadata": {
            "tags": []
          },
          "execution_count": 16
        }
      ]
    },
    {
      "cell_type": "code",
      "metadata": {
        "id": "Z8k2pPxHlCxU",
        "colab_type": "code",
        "colab": {
          "base_uri": "https://localhost:8080/",
          "height": 163
        },
        "outputId": "ccc98d5c-1fbb-4d76-c508-b07ec740859a"
      },
      "source": [
        "lga = taxi_pd[taxi_pd.lga_airport == True]\n",
        "lga.describe().fare_amount.T"
      ],
      "execution_count": null,
      "outputs": [
        {
          "output_type": "execute_result",
          "data": {
            "text/plain": [
              "count    96585.000000\n",
              "mean        30.183309\n",
              "std          7.984271\n",
              "min          3.700000\n",
              "25%         26.250000\n",
              "50%         30.500000\n",
              "75%         35.300000\n",
              "max         49.700000\n",
              "Name: fare_amount, dtype: float64"
            ]
          },
          "metadata": {
            "tags": []
          },
          "execution_count": 17
        }
      ]
    },
    {
      "cell_type": "code",
      "metadata": {
        "id": "Lov49MWEhykN",
        "colab_type": "code",
        "colab": {}
      },
      "source": [
        "NUMERICAL_FEATURES.append(\"log_real_distance\")"
      ],
      "execution_count": null,
      "outputs": []
    },
    {
      "cell_type": "code",
      "metadata": {
        "id": "7UMuNOteeXMW",
        "colab_type": "code",
        "colab": {}
      },
      "source": [
        "NUMERICAL_FEATURES.remove(\"real_distance\")"
      ],
      "execution_count": null,
      "outputs": []
    },
    {
      "cell_type": "code",
      "metadata": {
        "id": "-4s3g_wG2J1l",
        "colab_type": "code",
        "cellView": "both",
        "colab": {}
      },
      "source": [
        "taxi_pd.to_csv(PATH_PREPROCESSED+\"/train/transformed_dataset_train.csv\",index=False)\n",
        "taxi_pd_val.to_csv(PATH_PREPROCESSED+\"/val/transformed_dataset_val.csv\",index=False)\n",
        "taxi_pd_test.to_csv(PATH_PREPROCESSED+\"/test/transformed_dataset_test.csv\",index=False)"
      ],
      "execution_count": null,
      "outputs": []
    },
    {
      "cell_type": "markdown",
      "metadata": {
        "id": "uv7SdNjJA7Da",
        "colab_type": "text"
      },
      "source": [
        "# **2. Machine learning models**"
      ]
    },
    {
      "cell_type": "markdown",
      "metadata": {
        "id": "tmKxNKMBqTwk",
        "colab_type": "text"
      },
      "source": [
        "## **Task Evalution Metrics**\n",
        "\n",
        "$$RMSE = \\sqrt{\\frac{1}{n}\\sum_{i=1}^{n}(y_{i} - \\hat{y_{i}})^{2}}$$"
      ]
    },
    {
      "cell_type": "markdown",
      "metadata": {
        "id": "WAotzVCTBHrL",
        "colab_type": "text"
      },
      "source": [
        "##**Load train and test dataset**"
      ]
    },
    {
      "cell_type": "code",
      "metadata": {
        "id": "Lc60uJwI3cuo",
        "colab_type": "code",
        "colab": {}
      },
      "source": [
        "taxi_df = spark.read.load(PATH_PREPROCESSED+\"/train/transformed_dataset_train.csv\", \n",
        "                         format=\"csv\", \n",
        "                         sep=\",\", \n",
        "                         inferSchema=\"true\", \n",
        "                         header=\"true\"\n",
        "                         )"
      ],
      "execution_count": null,
      "outputs": []
    },
    {
      "cell_type": "code",
      "metadata": {
        "id": "wHfsHKUZ11an",
        "colab_type": "code",
        "colab": {}
      },
      "source": [
        "taxi_df_val = spark.read.load(PATH_PREPROCESSED+\"/val/transformed_dataset_val.csv\", \n",
        "                         format=\"csv\", \n",
        "                         sep=\",\", \n",
        "                         inferSchema=\"true\", \n",
        "                         header=\"true\"\n",
        "                         )"
      ],
      "execution_count": null,
      "outputs": []
    },
    {
      "cell_type": "code",
      "metadata": {
        "id": "XFabOEFkeyu1",
        "colab_type": "code",
        "colab": {}
      },
      "source": [
        "USE_PICKLE = True"
      ],
      "execution_count": null,
      "outputs": []
    },
    {
      "cell_type": "code",
      "metadata": {
        "id": "ShXagrCa33Gz",
        "colab_type": "code",
        "colab": {
          "base_uri": "https://localhost:8080/",
          "height": 391
        },
        "outputId": "84c8fd3a-3d82-4a29-de86-2f12dc271ec3"
      },
      "source": [
        "taxi_df.dtypes"
      ],
      "execution_count": null,
      "outputs": [
        {
          "output_type": "execute_result",
          "data": {
            "text/plain": [
              "[('key', 'timestamp'),\n",
              " ('fare_amount', 'double'),\n",
              " ('pickup_longitude', 'double'),\n",
              " ('pickup_latitude', 'double'),\n",
              " ('dropoff_longitude', 'double'),\n",
              " ('dropoff_latitude', 'double'),\n",
              " ('passenger_count', 'int'),\n",
              " ('real_distance', 'double'),\n",
              " ('pickup_datetime', 'string'),\n",
              " ('minute', 'int'),\n",
              " ('hour', 'int'),\n",
              " ('day_of_week', 'int'),\n",
              " ('day_of_month', 'int'),\n",
              " ('year', 'int'),\n",
              " ('is_rush_hour', 'boolean'),\n",
              " ('is_night', 'boolean'),\n",
              " ('jfk_airport', 'boolean'),\n",
              " ('ewr_airport', 'boolean'),\n",
              " ('lga_airport', 'boolean'),\n",
              " ('haversine_distance_km', 'double'),\n",
              " ('log_fare_amount', 'double'),\n",
              " ('log_real_distance', 'double')]"
            ]
          },
          "metadata": {
            "tags": []
          },
          "execution_count": 16
        }
      ]
    },
    {
      "cell_type": "code",
      "metadata": {
        "id": "VQrhMF0BuIBq",
        "colab_type": "code",
        "colab": {
          "base_uri": "https://localhost:8080/",
          "height": 374
        },
        "outputId": "1a1f5d99-96ac-41e1-eba4-49c7046604d4"
      },
      "source": [
        "taxi_df_val.dtypes"
      ],
      "execution_count": null,
      "outputs": [
        {
          "output_type": "execute_result",
          "data": {
            "text/plain": [
              "[('key', 'string'),\n",
              " ('fare_amount', 'double'),\n",
              " ('pickup_longitude', 'double'),\n",
              " ('pickup_latitude', 'double'),\n",
              " ('dropoff_longitude', 'double'),\n",
              " ('dropoff_latitude', 'double'),\n",
              " ('passenger_count', 'int'),\n",
              " ('real_distance', 'double'),\n",
              " ('pickup_datetime', 'string'),\n",
              " ('minute', 'int'),\n",
              " ('hour', 'int'),\n",
              " ('day_of_week', 'int'),\n",
              " ('day_of_month', 'int'),\n",
              " ('year', 'int'),\n",
              " ('is_rush_hour', 'boolean'),\n",
              " ('is_night', 'boolean'),\n",
              " ('jfk_airport', 'boolean'),\n",
              " ('ewr_airport', 'boolean'),\n",
              " ('lga_airport', 'boolean'),\n",
              " ('haversine_distance_km', 'double'),\n",
              " ('log_real_distance', 'double')]"
            ]
          },
          "metadata": {
            "tags": []
          },
          "execution_count": 14
        }
      ]
    },
    {
      "cell_type": "code",
      "metadata": {
        "id": "7bEVJrC4GLgG",
        "colab_type": "code",
        "colab": {}
      },
      "source": [
        "NUMERICAL_FEATURES = [\"pickup_longitude\", \"pickup_latitude\", \"dropoff_longitude\", \"dropoff_latitude\",\"passenger_count\",\\\n",
        "                      \"log_real_distance\",\"minute\",\"hour\",\"day_of_week\",\"day_of_month\",\"year\",\"haversine_distance_km\"]\n",
        "CATEGORICAL_FEATURES = [\"is_night\", \"is_rush_hour\", \"jfk_airport\", \"ewr_airport\", \"lga_airport\"]\n",
        "TARGET_VARIABLE = \"fare_amount\""
      ],
      "execution_count": null,
      "outputs": []
    },
    {
      "cell_type": "markdown",
      "metadata": {
        "id": "8pehMaXQ18hX",
        "colab_type": "text"
      },
      "source": [
        "## **2.1. Linear Regression**"
      ]
    },
    {
      "cell_type": "code",
      "metadata": {
        "id": "1MTGbCVeEFs5",
        "colab_type": "code",
        "colab": {}
      },
      "source": [
        "def get_best_params(best_mod) -> dict:\n",
        "  # arg: grid_search model \n",
        "  # return: dict with the best set of hyperparameters\n",
        "  param_dict = best_mod.stages[-1].extractParamMap()\n",
        "  print(param_dict)\n",
        "  best_params_dict = {}\n",
        "  for k, v in param_dict.items():\n",
        "    best_params_dict[k.name] = v\n",
        "  return best_params_dict"
      ],
      "execution_count": null,
      "outputs": []
    },
    {
      "cell_type": "code",
      "metadata": {
        "id": "xYxODmIl17D1",
        "colab_type": "code",
        "colab": {}
      },
      "source": [
        "def cv_linear_regression(train,\n",
        "                          numerical_features, \n",
        "                          categorical_features, \n",
        "                          target_variable, \n",
        "                          with_std=True,\n",
        "                          with_mean=True,\n",
        "                          k_fold=5):\n",
        "    \n",
        "    from pyspark.ml.feature import VectorAssembler, StandardScaler\n",
        "    from pyspark.ml.tuning import CrossValidator, ParamGridBuilder\n",
        "    from pyspark.ml.evaluation import RegressionEvaluator\n",
        "    from pyspark.ml.regression import LinearRegression\n",
        "    from pyspark.ml import Pipeline   \n",
        "    # 1. Assemble all the features into a single vector\n",
        "    assembler = VectorAssembler(inputCols=numerical_features + categorical_features, outputCol=\"features\")\n",
        "\n",
        "    # 2. Create the StandardScaler\n",
        "    scaler = StandardScaler(inputCol=assembler.getOutputCol(), outputCol=\"std_\"+assembler.getOutputCol(), withStd=with_std, withMean=with_mean)\n",
        "\n",
        "\n",
        "    if TARGET_VARIABLE != \"label\":\n",
        "        train = train.withColumnRenamed(TARGET_VARIABLE, \"label\")\n",
        "\n",
        "    lr = LinearRegression(featuresCol=\"std_features\", labelCol=\"label\") # change `featuresCol=std_features` if scaler is used\n",
        "    \n",
        "    pipeline = Pipeline(stages=[assembler] + [scaler]+ [lr]) # add/remove `[scaler]` to the pipeline if needed\n",
        "\n",
        "    # We use a ParamGridBuilder to construct a grid of parameters to search over.\n",
        "    # A CrossValidator requires an Estimator, a set of Estimator ParamMaps, and an Evaluator.\n",
        "    # We use a ParamGridBuilder to construct a grid of parameters to search over.\n",
        "    # With 3 values for lr.regParam ($\\lambda$) and 3 values for lr.elasticNetParam ($\\alpha$),\n",
        "    # this grid will have 3 x 3 = 9 parameter settings for CrossValidator to choose from.\n",
        "    param_grid = ParamGridBuilder()\\\n",
        "    .addGrid(lr.regParam, [0.0, 0.05, 0.1]) \\\n",
        "    .addGrid(lr.elasticNetParam, [0.0, 0.5, 1.0])\\\n",
        "    .build()\n",
        "    \n",
        "    cross_val = CrossValidator(estimator=pipeline, \n",
        "                              estimatorParamMaps=param_grid,\n",
        "                              evaluator=RegressionEvaluator(metricName=\"rmse\"),\n",
        "                              numFolds=k_fold,\n",
        "                              collectSubModels=True # this flag allows us to store ALL the models trained during k-fold cross validation\n",
        "                              )\n",
        "\n",
        "    # Run cross-validation, and choose the best set of parameters.\n",
        "\n",
        "    cv_model = cross_val.fit(train)\n",
        "    best_pipeline_model = cv_model.bestModel\n",
        "    # After identifying the best ParamMap, CrossValidator finally re-fits the Estimator using the best ParamMap and the entire dataset.\n",
        "    return cv_model, best_pipeline_model\n",
        "  "
      ],
      "execution_count": null,
      "outputs": []
    },
    {
      "cell_type": "code",
      "metadata": {
        "id": "KZLltODXplQz",
        "colab_type": "code",
        "colab": {}
      },
      "source": [
        "def linear_regression_pipeline(train,\n",
        "                               numerical_features, \n",
        "                               categorical_features, \n",
        "                               target_variable, \n",
        "                               with_std=True,\n",
        "                               with_mean=True,\n",
        "                               k_fold=5,\n",
        "                               saved = False):\n",
        "   if saved :\n",
        "       from pyspark.ml import PipelineModel\n",
        "       best_pipeline = PipelineModel.load(PATH_PIPELINE_MODEL_LR)\n",
        "       return None, best_pipeline\n",
        "   else:\n",
        "        cv_model, best_pipeline = cv_linear_regression(train,numerical_features, categorical_features, target_variable,  with_std = with_std , with_mean=with_mean, k_fold=k_fold) \n",
        "        best_pipeline.save(PATH_PIPELINE_MODEL_LR)   \n",
        "        return cv_model, best_pipeline"
      ],
      "execution_count": null,
      "outputs": []
    },
    {
      "cell_type": "code",
      "metadata": {
        "id": "3cDmH0pn3Drf",
        "colab_type": "code",
        "colab": {}
      },
      "source": [
        "cv_model, best_pipeline_model_lr = linear_regression_pipeline(taxi_df, NUMERICAL_FEATURES, CATEGORICAL_FEATURES, TARGET_VARIABLE, saved = USE_PICKLE)"
      ],
      "execution_count": null,
      "outputs": []
    },
    {
      "cell_type": "code",
      "metadata": {
        "id": "jdrluaYOInwM",
        "colab_type": "code",
        "colab": {}
      },
      "source": [
        "check_cv_model = cv_model is None and USE_PICKLE is True\n",
        "assert ((check_cv_model) or (not check_cv_model))"
      ],
      "execution_count": null,
      "outputs": []
    },
    {
      "cell_type": "code",
      "metadata": {
        "id": "tz4QLY2v6lBN",
        "colab_type": "code",
        "colab": {}
      },
      "source": [
        "def summarize_all_models(cv_models):\n",
        "    for k, models in enumerate(cv_models):\n",
        "        print(\"*************** Fold #{:d} ***************\\n\".format(k+1))\n",
        "        for i, m in enumerate(models):\n",
        "            print(\"--- Model #{:d} out of {:d} ---\".format(i+1, len(models)))\n",
        "            print(\"\\tParameters: lambda=[{:.3f}]; alpha=[{:.3f}] \".format(m.stages[-1]._java_obj.getRegParam(), m.stages[-1]._java_obj.getElasticNetParam()))\n",
        "            print(\"\\tModel summary: {}\\n\".format(m.stages[-1]))\n",
        "        print(\"***************************************\\n\")"
      ],
      "execution_count": null,
      "outputs": []
    },
    {
      "cell_type": "code",
      "metadata": {
        "id": "BQ33wd9V0dB2",
        "colab_type": "code",
        "colab": {}
      },
      "source": [
        "if USE_PICKLE is False:\n",
        "  summarize_all_models(cv_model.subModels)"
      ],
      "execution_count": null,
      "outputs": []
    },
    {
      "cell_type": "markdown",
      "metadata": {
        "id": "KcDVREKV6OzZ",
        "colab_type": "text"
      },
      "source": [
        "### **2.1.1. Train dataset score**"
      ]
    },
    {
      "cell_type": "code",
      "metadata": {
        "id": "bDD5mLrj7D_S",
        "colab_type": "code",
        "colab": {}
      },
      "source": [
        "predictions_train = best_pipeline_model_lr.transform(taxi_df)"
      ],
      "execution_count": null,
      "outputs": []
    },
    {
      "cell_type": "code",
      "metadata": {
        "id": "RlTNIDCi64ce",
        "colab_type": "code",
        "colab": {}
      },
      "source": [
        "def evaluate_model(predictions, metric=\"rmse\"):\n",
        "    \n",
        "    from pyspark.ml.evaluation import RegressionEvaluator\n",
        "\n",
        "    evaluator = RegressionEvaluator(labelCol=\"fare_amount\",\n",
        "                                    predictionCol=\"prediction\",\n",
        "                                    metricName=metric)\n",
        "\n",
        "    return evaluator.evaluate(predictions)"
      ],
      "execution_count": null,
      "outputs": []
    },
    {
      "cell_type": "code",
      "metadata": {
        "id": "8IpRGdWc3ei1",
        "colab_type": "code",
        "colab": {}
      },
      "source": [
        "def r2_adj(predictions):\n",
        "    \n",
        "    r2 = evaluate_model(predictions, metric=\"r2\")\n",
        "    r2_adj_score = (1 - (1 - r2) * ((predictions.count() - 1) / (predictions.count() - predictions.select('features').first()[0].size - 1)))\n",
        "\n",
        "    return r2_adj_score"
      ],
      "execution_count": null,
      "outputs": []
    },
    {
      "cell_type": "code",
      "metadata": {
        "id": "_BHNp3ka6mvM",
        "colab_type": "code",
        "colab": {
          "base_uri": "https://localhost:8080/",
          "height": 102
        },
        "outputId": "bc9598d3-be86-495b-8e60-9a00dabe35cd"
      },
      "source": [
        "print(\"***** Training Set *****\")\n",
        "print(\"RMSE: {:.3f}\".format(evaluate_model(predictions_train)))\n",
        "print(\"R2: {:.3f}\".format(evaluate_model(predictions_train, metric=\"r2\")))\n",
        "print(\"Adjusted R2: {:.3f}\".format(r2_adj(predictions_train)))\n",
        "print(\"***** Training Set *****\")"
      ],
      "execution_count": null,
      "outputs": [
        {
          "output_type": "stream",
          "text": [
            "***** Training Set *****\n",
            "RMSE: 2.893\n",
            "R2: 0.810\n",
            "Adjusted R2: 0.810\n",
            "***** Training Set *****\n"
          ],
          "name": "stdout"
        }
      ]
    },
    {
      "cell_type": "markdown",
      "metadata": {
        "id": "0422QlCB6f6X",
        "colab_type": "text"
      },
      "source": [
        "### **2.1.2. Validation dataset score**"
      ]
    },
    {
      "cell_type": "code",
      "metadata": {
        "id": "QpyxOAdUgMsw",
        "colab_type": "code",
        "colab": {}
      },
      "source": [
        "predictions_val = best_pipeline_model_lr.transform(taxi_df_val)"
      ],
      "execution_count": null,
      "outputs": []
    },
    {
      "cell_type": "code",
      "metadata": {
        "id": "lk7oTR2Y67RO",
        "colab_type": "code",
        "colab": {
          "base_uri": "https://localhost:8080/",
          "height": 102
        },
        "outputId": "8f14809b-f431-430a-918e-2322184811b9"
      },
      "source": [
        "print(\"***** Validation Set *****\")\n",
        "print(\"RMSE: {:.3f}\".format(evaluate_model(predictions_val)))\n",
        "print(\"R2: {:.3f}\".format(evaluate_model(predictions_val, metric=\"r2\")))\n",
        "print(\"Adjusted R2: {:.3f}\".format(r2_adj(predictions_val)))\n",
        "print(\"***** Validation Set *****\")"
      ],
      "execution_count": null,
      "outputs": [
        {
          "output_type": "stream",
          "text": [
            "***** Validation Set *****\n",
            "RMSE: 3.424\n",
            "R2: 0.761\n",
            "Adjusted R2: 0.761\n",
            "***** Validation Set *****\n"
          ],
          "name": "stdout"
        }
      ]
    },
    {
      "cell_type": "markdown",
      "metadata": {
        "id": "DlWywVCh2PDj",
        "colab_type": "text"
      },
      "source": [
        "### **2.1.3. Best parameters**"
      ]
    },
    {
      "cell_type": "code",
      "metadata": {
        "id": "No3ukqsggkQr",
        "colab_type": "code",
        "colab": {
          "base_uri": "https://localhost:8080/",
          "height": 275
        },
        "outputId": "6ac1ad0a-7efe-4fd6-e246-86791f48e13e"
      },
      "source": [
        "get_best_params(best_pipeline_model_lr)"
      ],
      "execution_count": null,
      "outputs": [
        {
          "output_type": "stream",
          "text": [
            "{Param(parent='LinearRegression_2a0b64600d6f', name='aggregationDepth', doc='suggested depth for treeAggregate (>= 2).'): 2, Param(parent='LinearRegression_2a0b64600d6f', name='elasticNetParam', doc='the ElasticNet mixing parameter, in range [0, 1]. For alpha = 0, the penalty is an L2 penalty. For alpha = 1, it is an L1 penalty.'): 0.5, Param(parent='LinearRegression_2a0b64600d6f', name='featuresCol', doc='features column name.'): 'std_features', Param(parent='LinearRegression_2a0b64600d6f', name='fitIntercept', doc='whether to fit an intercept term.'): True, Param(parent='LinearRegression_2a0b64600d6f', name='labelCol', doc='label column name.'): 'fare_amount', Param(parent='LinearRegression_2a0b64600d6f', name='predictionCol', doc='prediction column name.'): 'prediction', Param(parent='LinearRegression_2a0b64600d6f', name='solver', doc='The solver algorithm for optimization. Supported options: auto, normal, l-bfgs.'): 'auto', Param(parent='LinearRegression_2a0b64600d6f', name='standardization', doc='whether to standardize the training features before fitting the model.'): True, Param(parent='LinearRegression_2a0b64600d6f', name='epsilon', doc='The shape parameter to control the amount of robustness. Must be > 1.0. Only valid when loss is huber'): 1.35, Param(parent='LinearRegression_2a0b64600d6f', name='loss', doc='The loss function to be optimized. Supported options: squaredError, huber.'): 'squaredError', Param(parent='LinearRegression_2a0b64600d6f', name='maxIter', doc='max number of iterations (>= 0).'): 100, Param(parent='LinearRegression_2a0b64600d6f', name='tol', doc='the convergence tolerance for iterative algorithms (>= 0).'): 1e-06, Param(parent='LinearRegression_2a0b64600d6f', name='regParam', doc='regularization parameter (>= 0).'): 0.0}\n"
          ],
          "name": "stdout"
        },
        {
          "output_type": "execute_result",
          "data": {
            "text/plain": [
              "{'aggregationDepth': 2,\n",
              " 'elasticNetParam': 0.5,\n",
              " 'epsilon': 1.35,\n",
              " 'featuresCol': 'std_features',\n",
              " 'fitIntercept': True,\n",
              " 'labelCol': 'fare_amount',\n",
              " 'loss': 'squaredError',\n",
              " 'maxIter': 100,\n",
              " 'predictionCol': 'prediction',\n",
              " 'regParam': 0.0,\n",
              " 'solver': 'auto',\n",
              " 'standardization': True,\n",
              " 'tol': 1e-06}"
            ]
          },
          "metadata": {
            "tags": []
          },
          "execution_count": 29
        }
      ]
    },
    {
      "cell_type": "markdown",
      "metadata": {
        "id": "fZb9TO8JBSzq",
        "colab_type": "text"
      },
      "source": [
        "## **2.2. LightGBMR**"
      ]
    },
    {
      "cell_type": "code",
      "metadata": {
        "id": "NMnDx-vsDOuB",
        "colab_type": "code",
        "colab": {}
      },
      "source": [
        "def cv_lgbm(train,\n",
        "            numerical_features, \n",
        "            categorical_features, \n",
        "            target_variable, \n",
        "            k_fold=5):\n",
        "    \n",
        "    from pyspark.ml.feature import VectorAssembler\n",
        "    from pyspark.ml.tuning import CrossValidator, ParamGridBuilder\n",
        "    from pyspark.ml.evaluation import RegressionEvaluator\n",
        "    from mmlspark.lightgbm import LightGBMRegressor    \n",
        "    from pyspark.ml import Pipeline   \n",
        "    # 1. Assemble all the features into a single vector\n",
        "    assembler = VectorAssembler(inputCols=numerical_features + categorical_features, outputCol=\"features\")\n",
        "\n",
        "    if TARGET_VARIABLE != \"label\":\n",
        "        train = train.withColumnRenamed(TARGET_VARIABLE, \"label\")\n",
        "\n",
        "    lgbm = LightGBMRegressor(objective='rmse',\n",
        "                          alpha=0.2,\n",
        "                          learningRate=0.05,\n",
        "                          maxDepth=-1,\n",
        "                          lambdaL1=1.0,\n",
        "                          numLeaves=31,\n",
        "                          numIterations=5000,\n",
        "                          verbosity=500,\n",
        "                          featuresCol=\"features\",\n",
        "                          labelCol=\"label\")\n",
        "    \n",
        "    pipeline = Pipeline(stages=[assembler] +[lgbm]) # add/remove `[scaler]` to the pipeline if needed\n",
        "\n",
        "    # We use a ParamGridBuilder to construct a grid of parameters to search over.\n",
        "    # A CrossValidator requires an Estimator, a set of Estimator ParamMaps, and an Evaluator.\n",
        "    # We use a ParamGridBuilder to construct a grid of parameters to search over.\n",
        "    # With 3 values for lr.regParam ($\\lambda$) and 3 values for lr.elasticNetParam ($\\alpha$),\n",
        "    # this grid will have 3 x 3 = 9 parameter settings for CrossValidator to choose from.\n",
        "    param_grid = ParamGridBuilder().build()\\\n",
        "    .addGrid(lgbm.learningRate, [0.01, 0.05, 0.1]) \\\n",
        "    .addGrid(lgbm.lambdaL1, [0.5, 1.0, 1.0, 1.5])\\\n",
        "    \n",
        "    cross_val = CrossValidator(estimator=pipeline, \n",
        "                              estimatorParamMaps=param_grid,\n",
        "                              evaluator=RegressionEvaluator(metricName=\"rmse\"),\n",
        "                              numFolds=k_fold,\n",
        "                              collectSubModels=True # this flag allows us to store ALL the models trained during k-fold cross validation\n",
        "                              )\n",
        "\n",
        "    # Run cross-validation, and choose the best set of parameters.\n",
        "    cv_model = cross_val.fit(train)\n",
        "    best_pipeline = cv_model.bestModel\n",
        "    # After identifying the best ParamMap, CrossValidator finally re-fits the Estimator using the best ParamMap and the entire dataset.\n",
        "    return cv_model, best_pipeline\n",
        "  "
      ],
      "execution_count": null,
      "outputs": []
    },
    {
      "cell_type": "code",
      "metadata": {
        "id": "yyKV2rqYEqGw",
        "colab_type": "code",
        "colab": {}
      },
      "source": [
        "def lgbm_regression_pipeline(train,\n",
        "                               numerical_features, \n",
        "                               categorical_features, \n",
        "                               target_variable,\n",
        "                               k_fold=5,\n",
        "                               saved = False):\n",
        "   if saved :\n",
        "       from pyspark.ml import PipelineModel\n",
        "       import mmlspark.train\n",
        "       best_pipeline = PipelineModel.load(PATH_PIPELINE_MODEL_LGBM)\n",
        "       return None, best_pipeline\n",
        "   else:\n",
        "        cv_model, best_pipeline = cv_lgbm(train,numerical_features, categorical_features, target_variable, k_fold=k_fold) \n",
        "        best_pipeline.save(PATH_PIPELINE_MODEL_LGBM)   \n",
        "        return cv_model, best_pipeline"
      ],
      "execution_count": null,
      "outputs": []
    },
    {
      "cell_type": "code",
      "metadata": {
        "id": "HVu7PBoUFdeK",
        "colab_type": "code",
        "colab": {}
      },
      "source": [
        "cv_model, best_pipeline_model_lgbm = lgbm_regression_pipeline(taxi_df, NUMERICAL_FEATURES, CATEGORICAL_FEATURES, TARGET_VARIABLE, saved = USE_PICKLE)"
      ],
      "execution_count": null,
      "outputs": []
    },
    {
      "cell_type": "markdown",
      "metadata": {
        "id": "KajtcCpX69h1",
        "colab_type": "text"
      },
      "source": [
        "### **2.2.1. Train dataset score**"
      ]
    },
    {
      "cell_type": "code",
      "metadata": {
        "id": "mRqmUYc8y6Ne",
        "colab_type": "code",
        "colab": {}
      },
      "source": [
        "scoredData = best_pipeline_model_lgbm.transform(taxi_df)"
      ],
      "execution_count": null,
      "outputs": []
    },
    {
      "cell_type": "code",
      "metadata": {
        "id": "zoa7b9mOuiLj",
        "colab_type": "code",
        "colab": {
          "base_uri": "https://localhost:8080/",
          "height": 80
        },
        "outputId": "1dd99ddc-01bb-4510-9da7-542e3e300008"
      },
      "source": [
        "from mmlspark.train import ComputeModelStatistics\n",
        "\n",
        "metrics = ComputeModelStatistics(evaluationMetric='rmse',\n",
        "                                 labelCol='fare_amount',\n",
        "                                 scoresCol='prediction') \\\n",
        "            .transform(scoredData)\n",
        "metrics.toPandas()"
      ],
      "execution_count": null,
      "outputs": [
        {
          "output_type": "execute_result",
          "data": {
            "text/html": [
              "<div>\n",
              "<style scoped>\n",
              "    .dataframe tbody tr th:only-of-type {\n",
              "        vertical-align: middle;\n",
              "    }\n",
              "\n",
              "    .dataframe tbody tr th {\n",
              "        vertical-align: top;\n",
              "    }\n",
              "\n",
              "    .dataframe thead th {\n",
              "        text-align: right;\n",
              "    }\n",
              "</style>\n",
              "<table border=\"1\" class=\"dataframe\">\n",
              "  <thead>\n",
              "    <tr style=\"text-align: right;\">\n",
              "      <th></th>\n",
              "      <th>mean_squared_error</th>\n",
              "      <th>root_mean_squared_error</th>\n",
              "      <th>R^2</th>\n",
              "      <th>mean_absolute_error</th>\n",
              "    </tr>\n",
              "  </thead>\n",
              "  <tbody>\n",
              "    <tr>\n",
              "      <th>0</th>\n",
              "      <td>4.871791</td>\n",
              "      <td>2.207213</td>\n",
              "      <td>0.889637</td>\n",
              "      <td>1.265227</td>\n",
              "    </tr>\n",
              "  </tbody>\n",
              "</table>\n",
              "</div>"
            ],
            "text/plain": [
              "   mean_squared_error  root_mean_squared_error       R^2  mean_absolute_error\n",
              "0            4.871791                 2.207213  0.889637             1.265227"
            ]
          },
          "metadata": {
            "tags": []
          },
          "execution_count": 26
        }
      ]
    },
    {
      "cell_type": "markdown",
      "metadata": {
        "id": "H9PqcTr9uqpo",
        "colab_type": "text"
      },
      "source": [
        "### **2.2.2. Validation dataset score**"
      ]
    },
    {
      "cell_type": "code",
      "metadata": {
        "id": "lQRLZelz9v9N",
        "colab_type": "code",
        "colab": {}
      },
      "source": [
        "scoredData = best_pipeline_model_lgbm.transform(taxi_df_val)"
      ],
      "execution_count": null,
      "outputs": []
    },
    {
      "cell_type": "code",
      "metadata": {
        "id": "A2T7nolixcEv",
        "colab_type": "code",
        "colab": {
          "base_uri": "https://localhost:8080/",
          "height": 80
        },
        "outputId": "6f57f1a7-a29d-4b49-bd10-9050b3b0909b"
      },
      "source": [
        "metrics = ComputeModelStatistics(evaluationMetric='rmse',\n",
        "                                 labelCol='fare_amount',\n",
        "                                 scoresCol='prediction') \\\n",
        "            .transform(scoredData)\n",
        "metrics.toPandas() "
      ],
      "execution_count": null,
      "outputs": [
        {
          "output_type": "execute_result",
          "data": {
            "text/html": [
              "<div>\n",
              "<style scoped>\n",
              "    .dataframe tbody tr th:only-of-type {\n",
              "        vertical-align: middle;\n",
              "    }\n",
              "\n",
              "    .dataframe tbody tr th {\n",
              "        vertical-align: top;\n",
              "    }\n",
              "\n",
              "    .dataframe thead th {\n",
              "        text-align: right;\n",
              "    }\n",
              "</style>\n",
              "<table border=\"1\" class=\"dataframe\">\n",
              "  <thead>\n",
              "    <tr style=\"text-align: right;\">\n",
              "      <th></th>\n",
              "      <th>mean_squared_error</th>\n",
              "      <th>root_mean_squared_error</th>\n",
              "      <th>R^2</th>\n",
              "      <th>mean_absolute_error</th>\n",
              "    </tr>\n",
              "  </thead>\n",
              "  <tbody>\n",
              "    <tr>\n",
              "      <th>0</th>\n",
              "      <td>8.046034</td>\n",
              "      <td>2.836553</td>\n",
              "      <td>0.83623</td>\n",
              "      <td>1.369734</td>\n",
              "    </tr>\n",
              "  </tbody>\n",
              "</table>\n",
              "</div>"
            ],
            "text/plain": [
              "   mean_squared_error  root_mean_squared_error      R^2  mean_absolute_error\n",
              "0            8.046034                 2.836553  0.83623             1.369734"
            ]
          },
          "metadata": {
            "tags": []
          },
          "execution_count": 30
        }
      ]
    },
    {
      "cell_type": "markdown",
      "metadata": {
        "id": "7BEed4IC-vbc",
        "colab_type": "text"
      },
      "source": [
        "### **2.2.3. Features importance**"
      ]
    },
    {
      "cell_type": "code",
      "metadata": {
        "id": "a54sk0UpMeYa",
        "colab_type": "code",
        "colab": {}
      },
      "source": [
        "input_features_lgb = NUMERICAL_FEATURES+CATEGORICAL_FEATURES\n",
        "model = best_pipeline_model_lgbm.stages[-1]\n",
        "importance_features_lgb = model.getFeatureImportances()  \n",
        "result = list(zip(input_features_lgb,importance_features_lgb))\n",
        "result.sort(key=lambda x: x[1], reverse=True)          "
      ],
      "execution_count": null,
      "outputs": []
    },
    {
      "cell_type": "markdown",
      "metadata": {
        "id": "JIIS7WRtmfYy",
        "colab_type": "text"
      },
      "source": [
        "Feature importance - Plot"
      ]
    },
    {
      "cell_type": "code",
      "metadata": {
        "id": "fsN2dGJ5NjVX",
        "colab_type": "code",
        "colab": {
          "base_uri": "https://localhost:8080/",
          "height": 385
        },
        "outputId": "990cdc7e-fea6-4768-d587-514a25524125"
      },
      "source": [
        "plt.title(\"LightGBMRRegressor features importance\")\n",
        "plt.bar(range(len(result)), [val[1] for val in result], align='center')\n",
        "plt.xticks(range(len(result)), [val[0] for val in result])\n",
        "plt.xticks(rotation=70)\n",
        "plt.show()"
      ],
      "execution_count": null,
      "outputs": [
        {
          "output_type": "display_data",
          "data": {
            "image/png": "[encoded data removed]",
            "text/plain": [
              "<Figure size 432x288 with 1 Axes>"
            ]
          },
          "metadata": {
            "tags": [],
            "needs_background": "light"
          }
        }
      ]
    },
    {
      "cell_type": "markdown",
      "metadata": {
        "id": "lOgJxaB-WEwt",
        "colab_type": "text"
      },
      "source": [
        "## **2.3. Random Forest Regressor**"
      ]
    },
    {
      "cell_type": "code",
      "metadata": {
        "id": "HS0SU697pa20",
        "colab_type": "code",
        "colab": {}
      },
      "source": [
        "def cv_random_forest(train,\n",
        "                          numerical_features, \n",
        "                          categorical_features, \n",
        "                          target_variable,\n",
        "                          k_fold=5):\n",
        "    \n",
        "    from pyspark.ml.feature import VectorAssembler\n",
        "    from pyspark.ml.tuning import CrossValidator, ParamGridBuilder\n",
        "    from pyspark.ml.evaluation import RegressionEvaluator\n",
        "    from pyspark.ml.regression import RandomForestRegressor\n",
        "    from pyspark.ml import Pipeline   \n",
        "    # 1. Assemble all the features into a single vector\n",
        "    assembler = VectorAssembler(inputCols=numerical_features + categorical_features, outputCol=\"features\")\n",
        "\n",
        "\n",
        "    if TARGET_VARIABLE != \"label\":\n",
        "        train = train.withColumnRenamed(TARGET_VARIABLE, \"label\")\n",
        "\n",
        "    rf = RandomForestRegressor(featuresCol=\"features\", labelCol=\"label\")\n",
        "    \n",
        "    pipeline = Pipeline(stages=[assembler] +[rf]) # add/remove `[scaler]` to the pipeline if needed\n",
        "\n",
        "    # We use a ParamGridBuilder to construct a grid of parameters to search over.\n",
        "    # A CrossValidator requires an Estimator, a set of Estimator ParamMaps, and an Evaluator.\n",
        "    # We use a ParamGridBuilder to construct a grid of parameters to search over.\n",
        "    # With 3 values for lr.regParam ($\\lambda$) and 3 values for lr.elasticNetParam ($\\alpha$),\n",
        "    # this grid will have 3 x 3 = 9 parameter settings for CrossValidator to choose from.\n",
        "    param_grid = ParamGridBuilder()\\\n",
        "    .addGrid(rf.numTrees, [50, 100, 200]) \\\n",
        "    .addGrid(rf.maxDepth, [5, 7, 10])\\\n",
        "    .build()\n",
        "    \n",
        "    cross_val = CrossValidator(estimator=pipeline, \n",
        "                              estimatorParamMaps=param_grid,\n",
        "                              evaluator=RegressionEvaluator(metricName=\"rmse\"),\n",
        "                              numFolds=k_fold,\n",
        "                              collectSubModels=True # this flag allows us to store ALL the models trained during k-fold cross validation\n",
        "                              )\n",
        "\n",
        "    # Run cross-validation, and choose the best set of parameters.\n",
        "\n",
        "    cv_model = cross_val.fit(train)\n",
        "    best_pipeline_model = cv_model.bestModel\n",
        "    # After identifying the best ParamMap, CrossValidator finally re-fits the Estimator using the best ParamMap and the entire dataset.\n",
        "    return cv_model, best_pipeline_model\n",
        "  "
      ],
      "execution_count": null,
      "outputs": []
    },
    {
      "cell_type": "code",
      "metadata": {
        "id": "oL8QBeFIrS4R",
        "colab_type": "code",
        "colab": {}
      },
      "source": [
        "def random_forest_pipeline(train,\n",
        "                               numerical_features, \n",
        "                               categorical_features, \n",
        "                               target_variable, \n",
        "                               k_fold=5,\n",
        "                               saved = False):\n",
        "   if saved :\n",
        "       from pyspark.ml import PipelineModel\n",
        "       best_pipeline = PipelineModel.load(PATH_PIPELINE_MODEL_RF)\n",
        "       return None, best_pipeline\n",
        "   else:\n",
        "        cv_model, best_pipeline = cv_random_forest(train,numerical_features, categorical_features, target_variable,k_fold=k_fold) \n",
        "        best_pipeline.save(PATH_PIPELINE_MODEL_RF)   \n",
        "        return cv_model, best_pipeline"
      ],
      "execution_count": null,
      "outputs": []
    },
    {
      "cell_type": "code",
      "metadata": {
        "id": "uayShKQTr1e9",
        "colab_type": "code",
        "colab": {}
      },
      "source": [
        "cv_model, best_pipeline_model_rf = random_forest_pipeline(taxi_df, NUMERICAL_FEATURES, CATEGORICAL_FEATURES, TARGET_VARIABLE, saved = USE_PICKLE)"
      ],
      "execution_count": null,
      "outputs": []
    },
    {
      "cell_type": "markdown",
      "metadata": {
        "id": "lNjpVi1_YqDG",
        "colab_type": "text"
      },
      "source": [
        "### **2.3.1. Train dataset score**\n",
        "\n",
        "\n"
      ]
    },
    {
      "cell_type": "code",
      "metadata": {
        "id": "Vu0cujGJgpcF",
        "colab_type": "code",
        "colab": {}
      },
      "source": [
        "predictions_train = best_pipeline_model_rf.transform(taxi_df)"
      ],
      "execution_count": null,
      "outputs": []
    },
    {
      "cell_type": "code",
      "metadata": {
        "id": "9jeq2VQchKqc",
        "colab_type": "code",
        "colab": {}
      },
      "source": [
        "def evaluate_model(predictions, metric:str=\"rmse\"):\n",
        "    \n",
        "    from pyspark.ml.evaluation import RegressionEvaluator\n",
        "\n",
        "    evaluator = RegressionEvaluator(labelCol=\"fare_amount\",\n",
        "                                    predictionCol=\"prediction\",\n",
        "                                    metricName=metric)\n",
        "\n",
        "    return evaluator.evaluate(predictions)"
      ],
      "execution_count": null,
      "outputs": []
    },
    {
      "cell_type": "code",
      "metadata": {
        "id": "qu9tfIQ1XMFL",
        "colab_type": "code",
        "colab": {
          "base_uri": "https://localhost:8080/",
          "height": 102
        },
        "outputId": "aa8a39a9-f7da-40aa-a37c-0270337c312d"
      },
      "source": [
        "print(\"***** Training Set *****\")\n",
        "print(\"RMSE: {:.3f}\".format(evaluate_model(predictions_train)))\n",
        "print(\"R2: {:.3f}\".format(evaluate_model(predictions_train, metric=\"r2\")))\n",
        "print(\"Adjusted R2: {:.3f}\".format(r2_adj(predictions_train)))\n",
        "print(\"***** Training Set *****\")"
      ],
      "execution_count": null,
      "outputs": [
        {
          "output_type": "stream",
          "text": [
            "***** Training Set *****\n",
            "RMSE: 2.704\n",
            "R2: 0.834\n",
            "Adjusted R2: 0.834\n",
            "***** Training Set *****\n"
          ],
          "name": "stdout"
        }
      ]
    },
    {
      "cell_type": "markdown",
      "metadata": {
        "id": "4PsP26uoZGpN",
        "colab_type": "text"
      },
      "source": [
        "### **2.3.2. Validation dataset score**\n"
      ]
    },
    {
      "cell_type": "code",
      "metadata": {
        "id": "6YMrLc0ui7g7",
        "colab_type": "code",
        "colab": {}
      },
      "source": [
        "predictions_val = best_pipeline_model_rf.transform(taxi_df_val)"
      ],
      "execution_count": null,
      "outputs": []
    },
    {
      "cell_type": "code",
      "metadata": {
        "id": "VGPV_2PlYn2A",
        "colab_type": "code",
        "colab": {
          "base_uri": "https://localhost:8080/",
          "height": 102
        },
        "outputId": "c928d5d1-899f-4a74-923f-25868e5233bb"
      },
      "source": [
        "print(\"***** Validation Set *****\")\n",
        "print(\"RMSE: {:.3f}\".format(evaluate_model(predictions_val)))\n",
        "print(\"R2: {:.3f}\".format(evaluate_model(predictions_val, metric=\"r2\")))\n",
        "print(\"Adjusted R2: {:.3f}\".format(r2_adj(predictions_val)))\n",
        "print(\"***** Validation Set *****\")"
      ],
      "execution_count": null,
      "outputs": [
        {
          "output_type": "stream",
          "text": [
            "***** Validation Set *****\n",
            "RMSE: 3.270\n",
            "R2: 0.782\n",
            "Adjusted R2: 0.782\n",
            "***** Validation Set *****\n"
          ],
          "name": "stdout"
        }
      ]
    },
    {
      "cell_type": "markdown",
      "metadata": {
        "id": "JlE411LkZUWh",
        "colab_type": "text"
      },
      "source": [
        "### **2.3.3. Feature importance**\n"
      ]
    },
    {
      "cell_type": "code",
      "metadata": {
        "id": "8rd1rcvgZZR9",
        "colab_type": "code",
        "colab": {}
      },
      "source": [
        "rf_model = best_pipeline_model_rf.stages[-1]\n",
        "rf_importance_features = rf_model.featureImportances\n",
        "result = list(zip(NUMERICAL_FEATURES+CATEGORICAL_FEATURES,rf_importance_features))\n",
        "result.sort(key=lambda x: x[1], reverse=True)          "
      ],
      "execution_count": null,
      "outputs": []
    },
    {
      "cell_type": "code",
      "metadata": {
        "id": "LaG5wpzHZoec",
        "colab_type": "code",
        "colab": {
          "base_uri": "https://localhost:8080/",
          "height": 385
        },
        "outputId": "4d4c2bac-c751-4fe1-f187-5122868dea0e"
      },
      "source": [
        "plt.title(\"Random forest regressor features importance\")\n",
        "plt.bar(range(len(result)), [val[1] for val in result], align='center')\n",
        "plt.xticks(range(len(result)), [val[0] for val in result])\n",
        "plt.xticks(rotation=70)\n",
        "plt.show()"
      ],
      "execution_count": null,
      "outputs": [
        {
          "output_type": "display_data",
          "data": {
            "image/png": "[encoded data removed]",
            "text/plain": [
              "<Figure size 432x288 with 1 Axes>"
            ]
          },
          "metadata": {
            "tags": [],
            "needs_background": "light"
          }
        }
      ]
    },
    {
      "cell_type": "markdown",
      "metadata": {
        "id": "be1d3dWvk1bG",
        "colab_type": "text"
      },
      "source": [
        "### **2.3.4. Best parameters**\n"
      ]
    },
    {
      "cell_type": "code",
      "metadata": {
        "id": "zX8coeNVkm04",
        "colab_type": "code",
        "colab": {
          "base_uri": "https://localhost:8080/",
          "height": 309
        },
        "outputId": "ae4c067a-5d1f-47f2-bf50-1d4e358b2e4d"
      },
      "source": [
        "get_best_params(best_pipeline_model_rf)"
      ],
      "execution_count": null,
      "outputs": [
        {
          "output_type": "stream",
          "text": [
            "{Param(parent='RandomForestRegressor_22faebf44100', name='cacheNodeIds', doc='If false, the algorithm will pass trees to executors to match instances with nodes. If true, the algorithm will cache node IDs for each instance. Caching can speed up training of deeper trees.'): False, Param(parent='RandomForestRegressor_22faebf44100', name='checkpointInterval', doc='set checkpoint interval (>= 1) or disable checkpoint (-1). E.g. 10 means that the cache will get checkpointed every 10 iterations. Note: this setting will be ignored if the checkpoint directory is not set in the SparkContext'): 10, Param(parent='RandomForestRegressor_22faebf44100', name='featureSubsetStrategy', doc='The number of features to consider for splits at each tree node. Supported options: auto, all, onethird, sqrt, log2, (0.0-1.0], [1-n].'): 'auto', Param(parent='RandomForestRegressor_22faebf44100', name='impurity', doc='Criterion used for information gain calculation (case-insensitive). Supported options: variance'): 'variance', Param(parent='RandomForestRegressor_22faebf44100', name='maxBins', doc='Max number of bins for discretizing continuous features.  Must be at least 2 and at least number of categories for any categorical feature.'): 32, Param(parent='RandomForestRegressor_22faebf44100', name='maxMemoryInMB', doc='Maximum memory in MB allocated to histogram aggregation.'): 256, Param(parent='RandomForestRegressor_22faebf44100', name='minInfoGain', doc='Minimum information gain for a split to be considered at a tree node.'): 0.0, Param(parent='RandomForestRegressor_22faebf44100', name='minInstancesPerNode', doc='Minimum number of instances each child must have after split.  If a split causes the left or right child to have fewer than minInstancesPerNode, the split will be discarded as invalid. Must be at least 1.'): 1, Param(parent='RandomForestRegressor_22faebf44100', name='predictionCol', doc='prediction column name'): 'prediction', Param(parent='RandomForestRegressor_22faebf44100', name='seed', doc='random seed'): 3959540927479918080, Param(parent='RandomForestRegressor_22faebf44100', name='subsamplingRate', doc='Fraction of the training data used for learning each decision tree, in range (0, 1].'): 1.0, Param(parent='RandomForestRegressor_22faebf44100', name='featuresCol', doc='features column name'): 'features', Param(parent='RandomForestRegressor_22faebf44100', name='labelCol', doc='label column name'): 'fare_amount', Param(parent='RandomForestRegressor_22faebf44100', name='maxDepth', doc='Maximum depth of the tree. (Nonnegative) E.g., depth 0 means 1 leaf node; depth 1 means 1 internal node + 2 leaf nodes.'): 7, Param(parent='RandomForestRegressor_22faebf44100', name='numTrees', doc='Number of trees to train (at least 1)'): 100}\n"
          ],
          "name": "stdout"
        },
        {
          "output_type": "execute_result",
          "data": {
            "text/plain": [
              "{'cacheNodeIds': False,\n",
              " 'checkpointInterval': 10,\n",
              " 'featureSubsetStrategy': 'auto',\n",
              " 'featuresCol': 'features',\n",
              " 'impurity': 'variance',\n",
              " 'labelCol': 'fare_amount',\n",
              " 'maxBins': 32,\n",
              " 'maxDepth': 7,\n",
              " 'maxMemoryInMB': 256,\n",
              " 'minInfoGain': 0.0,\n",
              " 'minInstancesPerNode': 1,\n",
              " 'numTrees': 100,\n",
              " 'predictionCol': 'prediction',\n",
              " 'seed': 3959540927479918080,\n",
              " 'subsamplingRate': 1.0}"
            ]
          },
          "metadata": {
            "tags": []
          },
          "execution_count": 48
        }
      ]
    },
    {
      "cell_type": "markdown",
      "metadata": {
        "id": "vQ9VS3vtyWNQ",
        "colab_type": "text"
      },
      "source": [
        "# **3. Conclusion**"
      ]
    },
    {
      "cell_type": "code",
      "metadata": {
        "id": "q04jk8d3hyPR",
        "colab_type": "code",
        "colab": {}
      },
      "source": [
        "SPEED = True\n",
        "PATH_FINAL_MODEL_LGBM = PATH_FINAL_MODEL+ \"/lgbm_final_model\""
      ],
      "execution_count": null,
      "outputs": []
    },
    {
      "cell_type": "markdown",
      "metadata": {
        "id": "YL5htd06gzm5",
        "colab_type": "text"
      },
      "source": [
        "## **3.1. Load Dataset - Merge Train+Val**"
      ]
    },
    {
      "cell_type": "code",
      "metadata": {
        "id": "dawcAZHMgc-x",
        "colab_type": "code",
        "colab": {}
      },
      "source": [
        "taxi_df = spark.read.load(PATH_PREPROCESSED+\"/train/transformed_dataset_train.csv\", \n",
        "                         format=\"csv\", \n",
        "                         sep=\",\", \n",
        "                         inferSchema=\"true\", \n",
        "                         header=\"true\"\n",
        "                         )"
      ],
      "execution_count": null,
      "outputs": []
    },
    {
      "cell_type": "code",
      "metadata": {
        "id": "62QmXW0OmNph",
        "colab_type": "code",
        "colab": {}
      },
      "source": [
        "taxi_df = taxi_df.drop(\"log_fare_amount\")"
      ],
      "execution_count": null,
      "outputs": []
    },
    {
      "cell_type": "code",
      "metadata": {
        "id": "nQs8LcLEgdeC",
        "colab_type": "code",
        "colab": {}
      },
      "source": [
        "taxi_df_val = spark.read.load(PATH_PREPROCESSED+\"/val/transformed_dataset_val.csv\", \n",
        "                         format=\"csv\", \n",
        "                         sep=\",\", \n",
        "                         inferSchema=\"true\", \n",
        "                         header=\"true\"\n",
        "                         )"
      ],
      "execution_count": null,
      "outputs": []
    },
    {
      "cell_type": "code",
      "metadata": {
        "id": "1pfsQagG5kXw",
        "colab_type": "code",
        "colab": {}
      },
      "source": [
        "taxi_df_test = spark.read.load(PATH_PREPROCESSED+\"/test/tmp_dataset_test.csv\", \n",
        "                         format=\"csv\", \n",
        "                         sep=\",\", \n",
        "                         inferSchema=\"true\", \n",
        "                         header=\"true\"\n",
        "                         )"
      ],
      "execution_count": null,
      "outputs": []
    },
    {
      "cell_type": "markdown",
      "metadata": {
        "id": "NV8MS-Hjs56Z",
        "colab_type": "text"
      },
      "source": [
        "In order to use all dataset, we join the train and the validation, and we re-perform the fit of our best model"
      ]
    },
    {
      "cell_type": "code",
      "metadata": {
        "id": "5xtEzwHM9Okb",
        "colab_type": "code",
        "colab": {
          "base_uri": "https://localhost:8080/",
          "height": 162
        },
        "outputId": "12a62f86-208c-46cb-9430-ad00a17fb901"
      },
      "source": [
        "taxi_df_merged = taxi_df.union(taxi_df_val)"
      ],
      "execution_count": null,
      "outputs": [
        {
          "output_type": "error",
          "ename": "NameError",
          "evalue": "ignored",
          "traceback": [
            "\u001b[0;31m---------------------------------------------------------------------------\u001b[0m",
            "\u001b[0;31mNameError\u001b[0m                                 Traceback (most recent call last)",
            "\u001b[0;32m<ipython-input-51-c06ce6d79ff2>\u001b[0m in \u001b[0;36m<module>\u001b[0;34m()\u001b[0m\n\u001b[0;32m----> 1\u001b[0;31m \u001b[0mtaxi_df_merged\u001b[0m \u001b[0;34m=\u001b[0m \u001b[0mtaxi_df\u001b[0m\u001b[0;34m.\u001b[0m\u001b[0munion\u001b[0m\u001b[0;34m(\u001b[0m\u001b[0mtaxi_df_val\u001b[0m\u001b[0;34m)\u001b[0m\u001b[0;34m\u001b[0m\u001b[0;34m\u001b[0m\u001b[0m\n\u001b[0m",
            "\u001b[0;31mNameError\u001b[0m: name 'taxi_df' is not defined"
          ]
        }
      ]
    },
    {
      "cell_type": "code",
      "metadata": {
        "id": "o3jf-fRVhcQU",
        "colab_type": "code",
        "colab": {
          "base_uri": "https://localhost:8080/",
          "height": 34
        },
        "outputId": "960b38d8-1923-4a26-c934-982e7977b813"
      },
      "source": [
        "print(\"The shape of the MERGED dataset is {:d} rows by {:d} columns\".format(taxi_df_merged.count(), len(taxi_df_merged.columns)))"
      ],
      "execution_count": null,
      "outputs": [
        {
          "output_type": "stream",
          "text": [
            "The shape of the MERGED dataset before  is 3300930 rows by 21 columns\n"
          ],
          "name": "stdout"
        }
      ]
    },
    {
      "cell_type": "markdown",
      "metadata": {
        "id": "n328wdCnhMKj",
        "colab_type": "text"
      },
      "source": [
        "## **3.2. Train LGBM Trough The Merged Dataset**"
      ]
    },
    {
      "cell_type": "code",
      "metadata": {
        "id": "KlokmHvAh3tN",
        "colab_type": "code",
        "colab": {}
      },
      "source": [
        "from mmlspark.lightgbm import LightGBMRegressor    \n",
        "best_pipeline_model_lgbm = None\n",
        "if not SPEED:\n",
        "  from pyspark.ml import Pipeline\n",
        "  best_pipeline_lgbm = Pipeline.load(PATH_PIPELINE_LGBM)\n",
        "  best_pipeline_model_lgbm = best_pipeline_lgbm.fit(taxi_df_merged)\n",
        "  best_pipeline_model_lgbm.save(PATH_FINAL_MODEL_LGBM)\n",
        "else:\n",
        "  from pyspark.ml import PipelineModel\n",
        "  import mmlspark.train\n",
        "  best_pipeline_model_lgbm = PipelineModel.load(PATH_FINAL_MODEL_LGBM)"
      ],
      "execution_count": null,
      "outputs": []
    },
    {
      "cell_type": "markdown",
      "metadata": {
        "id": "eiUY3-E9i8_d",
        "colab_type": "text"
      },
      "source": [
        "## 3.3. Final Evaluation"
      ]
    },
    {
      "cell_type": "code",
      "metadata": {
        "id": "aJ_XdAUN46Oj",
        "colab_type": "code",
        "colab": {}
      },
      "source": [
        "final_score = best_pipeline_model_lgbm.transform(taxi_df_test)"
      ],
      "execution_count": null,
      "outputs": []
    },
    {
      "cell_type": "code",
      "metadata": {
        "id": "PQXgF0A5D22_",
        "colab_type": "code",
        "colab": {
          "base_uri": "https://localhost:8080/",
          "height": 465
        },
        "outputId": "fef041ec-eabc-4a7a-dd0f-f2c2e6af485e"
      },
      "source": [
        "final_score.show()"
      ],
      "execution_count": null,
      "outputs": [
        {
          "output_type": "stream",
          "text": [
            "+-------------------+-----------+------------------+------------------+------------------+------------------+---------------+-------------+---------------+------+----+-----------+------------+----+------------+--------+-----------+-----------+-----------+---------------------+--------------------+--------------------+--------------------+------------------+\n",
            "|                key|fare_amount|  pickup_longitude|   pickup_latitude| dropoff_longitude|  dropoff_latitude|passenger_count|real_distance|pickup_datetime|minute|hour|day_of_week|day_of_month|year|is_rush_hour|is_night|jfk_airport|ewr_airport|lga_airport|haversine_distance_km|   log_real_distance|            features|        std_features|        prediction|\n",
            "+-------------------+-----------+------------------+------------------+------------------+------------------+---------------+-------------+---------------+------+----+-----------+------------+----+------------+--------+-----------+-----------+-----------+---------------------+--------------------+--------------------+--------------------+------------------+\n",
            "|2009-01-01 00:01:04|        5.8|        -73.995133|         40.734111|        -73.998232|         40.722874|              2|       2395.4|           null|     1|   0|          5|           1|2009|       false|    true|      false|      false|      false|   1.2750213474738104|-0.34279271160514235|[-73.995133,40.73...|[-0.6284928358324...| 5.292368977212222|\n",
            "|2009-01-01 00:12:02|        7.4|-73.95952700000002|          40.77126|-73.96750300000002|40.787735999999995|              1|       2708.7|           null|    12|   0|          5|           1|2009|       false|    true|      false|      false|      false|   1.9496046010849741|-0.19652456530459464|[-73.959527000000...|[0.67778156023041...|  5.75090603419266|\n",
            "|2009-01-01 00:53:38|       11.0|        -73.964555|         40.767332|        -73.996001|40.743596000000004|              2|       4647.4|           null|    53|   0|          5|           1|2009|       false|    true|      false|      false|      false|    3.741562724043877|  0.4673850719258804|[-73.964555,40.76...|[0.49331973740884...| 9.978884933063625|\n",
            "|2009-01-01 04:15:30|        6.5|        -73.985069|         40.718879|        -73.997742|          40.71818|              1|       1490.7|           null|    15|   4|          5|           1|2009|       false|    true|      false|      false|      false|   1.0735780448738814| -0.8907623518594997|[-73.985069,40.71...|[-0.2592756948453...| 4.144030713125173|\n",
            "|2009-01-01 04:39:05|       15.0|        -74.000964|40.741803000000004|        -73.923188|          40.74348|              1|       8311.9|           null|    39|   4|          5|           1|2009|       false|    true|      false|      false|      false|    6.571723689372318|   1.223207324794687|[-74.000964,40.74...|[-0.8424142536678...|15.896230046821382|\n",
            "|2009-01-01 05:19:31|        6.5|        -73.964483|          40.76446|         -73.94802|         40.789627|              1|       3261.8|           null|    19|   5|          5|           1|2009|       false|    true|      false|      false|      false|   3.1212654362501286|0.027993927145156257|[-73.964483,40.76...|[0.49596119549232...| 8.024004216156916|\n",
            "|2009-01-01 09:24:39|        6.5|        -73.993392|         40.752311|        -73.977528|         40.751912|              1|       1815.8|           null|    24|   9|          5|           1|2009|       false|   false|      false|      false|      false|   1.3404411360013668| -0.6659726378994476|[-73.993392,40.75...|[-0.5646209118999...|   5.6190439950324|\n",
            "|2009-01-01 10:35:15|        5.7|-73.96754200000002|         40.771915|        -73.981305|         40.778566|              1|       2192.5|           null|    35|  10|          5|           1|2009|       false|   false|      false|      false|      false|   1.3767623844387644| -0.4470145148956852|[-73.967542000000...|[0.38373591386597...| 5.658684766129036|\n",
            "|2009-01-01 10:48:00|        5.7|-73.94873199999998|40.774058000000004|        -73.948913|         40.787362|              1|       2032.9|           null|    48|  10|          5|           1|2009|       false|   false|      false|      false|      false|   1.4774838328811468|  -0.535290572681849|[-73.948731999999...|[1.07381683814895...| 5.715902591256453|\n",
            "|2009-01-01 13:31:29|        7.3|        -74.014348|          40.70469|        -73.999708|         40.722037|              3|       2830.5|           null|    31|  13|          5|           1|2009|       false|   false|      false|      false|      false|   2.2893589878819816| -0.1437500982381525|[-74.014348,40.70...|[-1.3334319618328...| 8.349843694543416|\n",
            "|2009-01-01 14:15:50|        5.3|-73.98801800000003|         40.750695|        -73.979427|         40.758943|              4|       2955.2|           null|    15|  14|          5|           1|2009|       false|   false|      false|      false|      false|   1.1684397414348628|-0.09179761238277227|[-73.988018000000...|[-0.3674654155112...| 6.466095696251342|\n",
            "|2009-01-01 14:24:00|       19.3|-74.01645699999997|         40.704953|        -73.967793|         40.801032|              2|      12171.9|           null|    24|  14|          5|           1|2009|       false|   false|      false|      false|      false|   11.433583372336333|  1.7432490307456223|[-74.016456999999...|[-1.4108046715241...|24.111391533559623|\n",
            "|2009-01-01 15:00:00|        4.1|        -73.966342|40.761813000000004|        -73.959867|         40.770958|              1|       1154.1|           null|     0|  15|          5|           1|2009|       false|   false|      false|      false|      false|   1.1533471999431684|  -1.175880245066622|[-73.966342,40.76...|[0.42776021525647...| 4.451497451465612|\n",
            "|2009-01-01 15:04:00|        5.3|        -73.988392|         40.766618|        -73.984957|40.754954999999995|              1|       1840.7|           null|     4|  15|          5|           1|2009|       false|   false|      false|      false|      false|   1.3272478324278902|  -0.650290480343209|[-73.988392,40.76...|[-0.3811863227769...| 5.664675457508438|\n",
            "|2009-01-01 15:58:17|        3.7|        -73.975959|         40.744568|        -73.979198|         40.737167|              1|       1017.5|           null|    58|  15|          5|           1|2009|       false|   false|      false|      false|      false|    0.866210267530746| -1.3135760632551687|[-73.975959,40.74...|[0.07494212653677...| 4.084963775701424|\n",
            "|2009-01-01 16:19:00|        5.7|-74.00338199999999|         40.727702|        -73.990897|40.734153000000006|              1|       2552.5|           null|    19|  16|          5|           1|2009|        true|   false|      false|      false|      false|   1.2749745579039262|-0.26742549819904504|[-74.003381999999...|[-0.9311232209675...| 6.363013694306191|\n",
            "|2009-01-01 16:19:00|        5.7|         -73.97377|         40.748052|        -73.988167|         40.748488|              5|       1889.6|           null|    19|  16|          5|           1|2009|        true|   false|      false|      false|      false|   1.2168546336334287| -0.6200412403655838|[-73.97377,40.748...|[0.15524978965494...|5.6849556210271865|\n",
            "|2009-01-01 16:52:00|        8.5|        -73.967647|         40.763077|        -73.977438|40.787096999999996|              2|       3777.3|           null|    52|  16|          5|           1|2009|        true|   false|      false|      false|      false|    2.792540528539796| 0.20823567994229975|[-73.967647,40.76...|[0.37988378749525...|  8.75932398161398|\n",
            "|2009-01-01 17:14:00|       12.5|        -73.990123|40.687346999999995|        -73.947002|          40.72504|              5|       6952.7|           null|    14|  17|          5|           1|2009|        true|   false|      false|      false|      false|     5.54973584202717|  0.9864296560743708|[-73.990123,40.68...|[-0.4446913775310...|15.416766810159508|\n",
            "|2009-01-01 17:45:31|       13.3|        -73.985623|         40.759346|-74.01602199999998|         40.714944|              3|       7388.5|           null|    45|  17|          5|           1|2009|        true|   false|      false|      false|      false|    5.559323539290227|   1.066577443148658|[-73.985623,40.75...|[-0.2796002473204...|15.165284307364246|\n",
            "+-------------------+-----------+------------------+------------------+------------------+------------------+---------------+-------------+---------------+------+----+-----------+------------+----+------------+--------+-----------+-----------+-----------+---------------------+--------------------+--------------------+--------------------+------------------+\n",
            "only showing top 20 rows\n",
            "\n"
          ],
          "name": "stdout"
        }
      ]
    },
    {
      "cell_type": "code",
      "metadata": {
        "id": "iLWZDa2S5Kq4",
        "colab_type": "code",
        "colab": {
          "base_uri": "https://localhost:8080/",
          "height": 615
        },
        "outputId": "6479127c-101a-44e3-863e-3f5177071d3c"
      },
      "source": [
        "from mmlspark.train import ComputeModelStatistics\n",
        "print(\"***** FINAL Test Set *****\")\n",
        "metrics = ComputeModelStatistics(evaluationMetric='rmse',\n",
        "                                 labelCol='fare_amount',\n",
        "                                 scoresCol='prediction') \\\n",
        "            .transform(final_score)\n",
        "metrics.toPandas() "
      ],
      "execution_count": null,
      "outputs": [
        {
          "output_type": "stream",
          "text": [
            "***** FINAL Test Set *****\n"
          ],
          "name": "stdout"
        },
        {
          "output_type": "error",
          "ename": "Py4JJavaError",
          "evalue": "ignored",
          "traceback": [
            "\u001b[0;31m---------------------------------------------------------------------------\u001b[0m",
            "\u001b[0;31mPy4JJavaError\u001b[0m                             Traceback (most recent call last)",
            "\u001b[0;32m<ipython-input-54-314403fb1229>\u001b[0m in \u001b[0;36m<module>\u001b[0;34m()\u001b[0m\n\u001b[1;32m      3\u001b[0m metrics = ComputeModelStatistics(evaluationMetric='rmse',\n\u001b[1;32m      4\u001b[0m                                  \u001b[0mlabelCol\u001b[0m\u001b[0;34m=\u001b[0m\u001b[0;34m'fare_amount'\u001b[0m\u001b[0;34m,\u001b[0m\u001b[0;34m\u001b[0m\u001b[0;34m\u001b[0m\u001b[0m\n\u001b[0;32m----> 5\u001b[0;31m                                  scoresCol='prediction') \\\n\u001b[0m\u001b[1;32m      6\u001b[0m             \u001b[0;34m.\u001b[0m\u001b[0mtransform\u001b[0m\u001b[0;34m(\u001b[0m\u001b[0mfinal_score\u001b[0m\u001b[0;34m)\u001b[0m\u001b[0;34m\u001b[0m\u001b[0;34m\u001b[0m\u001b[0m\n\u001b[1;32m      7\u001b[0m \u001b[0mmetrics\u001b[0m\u001b[0;34m.\u001b[0m\u001b[0mtoPandas\u001b[0m\u001b[0;34m(\u001b[0m\u001b[0;34m)\u001b[0m\u001b[0;34m\u001b[0m\u001b[0;34m\u001b[0m\u001b[0m\n",
            "\u001b[0;32m/usr/local/lib/python3.6/dist-packages/pyspark/__init__.py\u001b[0m in \u001b[0;36mwrapper\u001b[0;34m(self, *args, **kwargs)\u001b[0m\n\u001b[1;32m    108\u001b[0m             \u001b[0;32mraise\u001b[0m \u001b[0mTypeError\u001b[0m\u001b[0;34m(\u001b[0m\u001b[0;34m\"Method %s forces keyword arguments.\"\u001b[0m \u001b[0;34m%\u001b[0m \u001b[0mfunc\u001b[0m\u001b[0;34m.\u001b[0m\u001b[0m__name__\u001b[0m\u001b[0;34m)\u001b[0m\u001b[0;34m\u001b[0m\u001b[0;34m\u001b[0m\u001b[0m\n\u001b[1;32m    109\u001b[0m         \u001b[0mself\u001b[0m\u001b[0;34m.\u001b[0m\u001b[0m_input_kwargs\u001b[0m \u001b[0;34m=\u001b[0m \u001b[0mkwargs\u001b[0m\u001b[0;34m\u001b[0m\u001b[0;34m\u001b[0m\u001b[0m\n\u001b[0;32m--> 110\u001b[0;31m         \u001b[0;32mreturn\u001b[0m \u001b[0mfunc\u001b[0m\u001b[0;34m(\u001b[0m\u001b[0mself\u001b[0m\u001b[0;34m,\u001b[0m \u001b[0;34m**\u001b[0m\u001b[0mkwargs\u001b[0m\u001b[0;34m)\u001b[0m\u001b[0;34m\u001b[0m\u001b[0;34m\u001b[0m\u001b[0m\n\u001b[0m\u001b[1;32m    111\u001b[0m     \u001b[0;32mreturn\u001b[0m \u001b[0mwrapper\u001b[0m\u001b[0;34m\u001b[0m\u001b[0;34m\u001b[0m\u001b[0m\n\u001b[1;32m    112\u001b[0m \u001b[0;34m\u001b[0m\u001b[0m\n",
            "\u001b[0;32m/tmp/spark-55caa772-83a5-477d-af48-1caf9b1009a7/userFiles-8e854c5a-69d3-4547-9cf6-880afa99c58f/com.microsoft.ml.spark_mmlspark_2.11-0.18.1.jar/mmlspark/train/ComputeModelStatistics.py\u001b[0m in \u001b[0;36m__init__\u001b[0;34m(self, evaluationMetric, labelCol, scoredLabelsCol, scoresCol)\u001b[0m\n\u001b[1;32m     31\u001b[0m     \u001b[0;32mdef\u001b[0m \u001b[0m__init__\u001b[0m\u001b[0;34m(\u001b[0m\u001b[0mself\u001b[0m\u001b[0;34m,\u001b[0m \u001b[0mevaluationMetric\u001b[0m\u001b[0;34m=\u001b[0m\u001b[0;34m\"all\"\u001b[0m\u001b[0;34m,\u001b[0m \u001b[0mlabelCol\u001b[0m\u001b[0;34m=\u001b[0m\u001b[0;32mNone\u001b[0m\u001b[0;34m,\u001b[0m \u001b[0mscoredLabelsCol\u001b[0m\u001b[0;34m=\u001b[0m\u001b[0;32mNone\u001b[0m\u001b[0;34m,\u001b[0m \u001b[0mscoresCol\u001b[0m\u001b[0;34m=\u001b[0m\u001b[0;32mNone\u001b[0m\u001b[0;34m)\u001b[0m\u001b[0;34m:\u001b[0m\u001b[0;34m\u001b[0m\u001b[0;34m\u001b[0m\u001b[0m\n\u001b[1;32m     32\u001b[0m         \u001b[0msuper\u001b[0m\u001b[0;34m(\u001b[0m\u001b[0mComputeModelStatistics\u001b[0m\u001b[0;34m,\u001b[0m \u001b[0mself\u001b[0m\u001b[0;34m)\u001b[0m\u001b[0;34m.\u001b[0m\u001b[0m__init__\u001b[0m\u001b[0;34m(\u001b[0m\u001b[0;34m)\u001b[0m\u001b[0;34m\u001b[0m\u001b[0;34m\u001b[0m\u001b[0m\n\u001b[0;32m---> 33\u001b[0;31m         \u001b[0mself\u001b[0m\u001b[0;34m.\u001b[0m\u001b[0m_java_obj\u001b[0m \u001b[0;34m=\u001b[0m \u001b[0mself\u001b[0m\u001b[0;34m.\u001b[0m\u001b[0m_new_java_obj\u001b[0m\u001b[0;34m(\u001b[0m\u001b[0;34m\"com.microsoft.ml.spark.train.ComputeModelStatistics\"\u001b[0m\u001b[0;34m)\u001b[0m\u001b[0;34m\u001b[0m\u001b[0;34m\u001b[0m\u001b[0m\n\u001b[0m\u001b[1;32m     34\u001b[0m         \u001b[0mself\u001b[0m\u001b[0;34m.\u001b[0m\u001b[0mevaluationMetric\u001b[0m \u001b[0;34m=\u001b[0m \u001b[0mParam\u001b[0m\u001b[0;34m(\u001b[0m\u001b[0mself\u001b[0m\u001b[0;34m,\u001b[0m \u001b[0;34m\"evaluationMetric\"\u001b[0m\u001b[0;34m,\u001b[0m \u001b[0;34m\"evaluationMetric: Metric to evaluate models with (default: all)\"\u001b[0m\u001b[0;34m)\u001b[0m\u001b[0;34m\u001b[0m\u001b[0;34m\u001b[0m\u001b[0m\n\u001b[1;32m     35\u001b[0m         \u001b[0mself\u001b[0m\u001b[0;34m.\u001b[0m\u001b[0m_setDefault\u001b[0m\u001b[0;34m(\u001b[0m\u001b[0mevaluationMetric\u001b[0m\u001b[0;34m=\u001b[0m\u001b[0;34m\"all\"\u001b[0m\u001b[0;34m)\u001b[0m\u001b[0;34m\u001b[0m\u001b[0;34m\u001b[0m\u001b[0m\n",
            "\u001b[0;32m/usr/local/lib/python3.6/dist-packages/pyspark/ml/wrapper.py\u001b[0m in \u001b[0;36m_new_java_obj\u001b[0;34m(java_class, *args)\u001b[0m\n\u001b[1;32m     67\u001b[0m             \u001b[0mjava_obj\u001b[0m \u001b[0;34m=\u001b[0m \u001b[0mgetattr\u001b[0m\u001b[0;34m(\u001b[0m\u001b[0mjava_obj\u001b[0m\u001b[0;34m,\u001b[0m \u001b[0mname\u001b[0m\u001b[0;34m)\u001b[0m\u001b[0;34m\u001b[0m\u001b[0;34m\u001b[0m\u001b[0m\n\u001b[1;32m     68\u001b[0m         \u001b[0mjava_args\u001b[0m \u001b[0;34m=\u001b[0m \u001b[0;34m[\u001b[0m\u001b[0m_py2java\u001b[0m\u001b[0;34m(\u001b[0m\u001b[0msc\u001b[0m\u001b[0;34m,\u001b[0m \u001b[0marg\u001b[0m\u001b[0;34m)\u001b[0m \u001b[0;32mfor\u001b[0m \u001b[0marg\u001b[0m \u001b[0;32min\u001b[0m \u001b[0margs\u001b[0m\u001b[0;34m]\u001b[0m\u001b[0;34m\u001b[0m\u001b[0;34m\u001b[0m\u001b[0m\n\u001b[0;32m---> 69\u001b[0;31m         \u001b[0;32mreturn\u001b[0m \u001b[0mjava_obj\u001b[0m\u001b[0;34m(\u001b[0m\u001b[0;34m*\u001b[0m\u001b[0mjava_args\u001b[0m\u001b[0;34m)\u001b[0m\u001b[0;34m\u001b[0m\u001b[0;34m\u001b[0m\u001b[0m\n\u001b[0m\u001b[1;32m     70\u001b[0m \u001b[0;34m\u001b[0m\u001b[0m\n\u001b[1;32m     71\u001b[0m     \u001b[0;34m@\u001b[0m\u001b[0mstaticmethod\u001b[0m\u001b[0;34m\u001b[0m\u001b[0;34m\u001b[0m\u001b[0m\n",
            "\u001b[0;32m/usr/local/lib/python3.6/dist-packages/py4j/java_gateway.py\u001b[0m in \u001b[0;36m__call__\u001b[0;34m(self, *args)\u001b[0m\n\u001b[1;32m   1567\u001b[0m         \u001b[0manswer\u001b[0m \u001b[0;34m=\u001b[0m \u001b[0mself\u001b[0m\u001b[0;34m.\u001b[0m\u001b[0m_gateway_client\u001b[0m\u001b[0;34m.\u001b[0m\u001b[0msend_command\u001b[0m\u001b[0;34m(\u001b[0m\u001b[0mcommand\u001b[0m\u001b[0;34m)\u001b[0m\u001b[0;34m\u001b[0m\u001b[0;34m\u001b[0m\u001b[0m\n\u001b[1;32m   1568\u001b[0m         return_value = get_return_value(\n\u001b[0;32m-> 1569\u001b[0;31m             answer, self._gateway_client, None, self._fqn)\n\u001b[0m\u001b[1;32m   1570\u001b[0m \u001b[0;34m\u001b[0m\u001b[0m\n\u001b[1;32m   1571\u001b[0m         \u001b[0;32mfor\u001b[0m \u001b[0mtemp_arg\u001b[0m \u001b[0;32min\u001b[0m \u001b[0mtemp_args\u001b[0m\u001b[0;34m:\u001b[0m\u001b[0;34m\u001b[0m\u001b[0;34m\u001b[0m\u001b[0m\n",
            "\u001b[0;32m/usr/local/lib/python3.6/dist-packages/pyspark/sql/utils.py\u001b[0m in \u001b[0;36mdeco\u001b[0;34m(*a, **kw)\u001b[0m\n\u001b[1;32m    129\u001b[0m     \u001b[0;32mdef\u001b[0m \u001b[0mdeco\u001b[0m\u001b[0;34m(\u001b[0m\u001b[0;34m*\u001b[0m\u001b[0ma\u001b[0m\u001b[0;34m,\u001b[0m \u001b[0;34m**\u001b[0m\u001b[0mkw\u001b[0m\u001b[0;34m)\u001b[0m\u001b[0;34m:\u001b[0m\u001b[0;34m\u001b[0m\u001b[0;34m\u001b[0m\u001b[0m\n\u001b[1;32m    130\u001b[0m         \u001b[0;32mtry\u001b[0m\u001b[0;34m:\u001b[0m\u001b[0;34m\u001b[0m\u001b[0;34m\u001b[0m\u001b[0m\n\u001b[0;32m--> 131\u001b[0;31m             \u001b[0;32mreturn\u001b[0m \u001b[0mf\u001b[0m\u001b[0;34m(\u001b[0m\u001b[0;34m*\u001b[0m\u001b[0ma\u001b[0m\u001b[0;34m,\u001b[0m \u001b[0;34m**\u001b[0m\u001b[0mkw\u001b[0m\u001b[0;34m)\u001b[0m\u001b[0;34m\u001b[0m\u001b[0;34m\u001b[0m\u001b[0m\n\u001b[0m\u001b[1;32m    132\u001b[0m         \u001b[0;32mexcept\u001b[0m \u001b[0mpy4j\u001b[0m\u001b[0;34m.\u001b[0m\u001b[0mprotocol\u001b[0m\u001b[0;34m.\u001b[0m\u001b[0mPy4JJavaError\u001b[0m \u001b[0;32mas\u001b[0m \u001b[0me\u001b[0m\u001b[0;34m:\u001b[0m\u001b[0;34m\u001b[0m\u001b[0;34m\u001b[0m\u001b[0m\n\u001b[1;32m    133\u001b[0m             \u001b[0mconverted\u001b[0m \u001b[0;34m=\u001b[0m \u001b[0mconvert_exception\u001b[0m\u001b[0;34m(\u001b[0m\u001b[0me\u001b[0m\u001b[0;34m.\u001b[0m\u001b[0mjava_exception\u001b[0m\u001b[0;34m)\u001b[0m\u001b[0;34m\u001b[0m\u001b[0;34m\u001b[0m\u001b[0m\n",
            "\u001b[0;32m/usr/local/lib/python3.6/dist-packages/py4j/protocol.py\u001b[0m in \u001b[0;36mget_return_value\u001b[0;34m(answer, gateway_client, target_id, name)\u001b[0m\n\u001b[1;32m    326\u001b[0m                 raise Py4JJavaError(\n\u001b[1;32m    327\u001b[0m                     \u001b[0;34m\"An error occurred while calling {0}{1}{2}.\\n\"\u001b[0m\u001b[0;34m.\u001b[0m\u001b[0;34m\u001b[0m\u001b[0;34m\u001b[0m\u001b[0m\n\u001b[0;32m--> 328\u001b[0;31m                     format(target_id, \".\", name), value)\n\u001b[0m\u001b[1;32m    329\u001b[0m             \u001b[0;32melse\u001b[0m\u001b[0;34m:\u001b[0m\u001b[0;34m\u001b[0m\u001b[0;34m\u001b[0m\u001b[0m\n\u001b[1;32m    330\u001b[0m                 raise Py4JError(\n",
            "\u001b[0;31mPy4JJavaError\u001b[0m: An error occurred while calling None.com.microsoft.ml.spark.train.ComputeModelStatistics.\n: java.lang.NoClassDefFoundError: org/apache/spark/ml/util/MLWritable$class\n\tat com.microsoft.ml.spark.train.ComputeModelStatistics.<init>(ComputeModelStatistics.scala:56)\n\tat com.microsoft.ml.spark.train.ComputeModelStatistics.<init>(ComputeModelStatistics.scala:57)\n\tat sun.reflect.NativeConstructorAccessorImpl.newInstance0(Native Method)\n\tat sun.reflect.NativeConstructorAccessorImpl.newInstance(NativeConstructorAccessorImpl.java:62)\n\tat sun.reflect.DelegatingConstructorAccessorImpl.newInstance(DelegatingConstructorAccessorImpl.java:45)\n\tat java.lang.reflect.Constructor.newInstance(Constructor.java:423)\n\tat py4j.reflection.MethodInvoker.invoke(MethodInvoker.java:247)\n\tat py4j.reflection.ReflectionEngine.invoke(ReflectionEngine.java:357)\n\tat py4j.Gateway.invoke(Gateway.java:238)\n\tat py4j.commands.ConstructorCommand.invokeConstructor(ConstructorCommand.java:80)\n\tat py4j.commands.ConstructorCommand.execute(ConstructorCommand.java:69)\n\tat py4j.GatewayConnection.run(GatewayConnection.java:238)\n\tat java.lang.Thread.run(Thread.java:748)\n"
          ]
        }
      ]
    },
    {
      "cell_type": "code",
      "metadata": {
        "id": "TaFauTz8Ehc0",
        "colab_type": "code",
        "colab": {}
      },
      "source": [
        "def evaluate_model(predictions, metric=\"rmse\"):\n",
        "    \n",
        "    from pyspark.ml.evaluation import RegressionEvaluator\n",
        "\n",
        "    evaluator = RegressionEvaluator(labelCol=\"fare_amount\",\n",
        "                                    predictionCol=\"prediction\",\n",
        "                                    metricName=metric)\n",
        "\n",
        "    return evaluator.evaluate(predictions)"
      ],
      "execution_count": null,
      "outputs": []
    },
    {
      "cell_type": "code",
      "metadata": {
        "id": "YHenwlArEi3j",
        "colab_type": "code",
        "colab": {
          "base_uri": "https://localhost:8080/",
          "height": 49
        },
        "outputId": "0c8514e7-08e5-4e60-bd3c-bba7aaf68276"
      },
      "source": [
        "print(\"***** Test Set *****\")\n",
        "print(\"RMSE: {:.3f}\".format(evaluate_model(final_score)))"
      ],
      "execution_count": null,
      "outputs": [
        {
          "output_type": "stream",
          "text": [
            "***** Training Set *****\n",
            "RMSE: 5.119\n"
          ],
          "name": "stdout"
        }
      ]
    }
  ]
}