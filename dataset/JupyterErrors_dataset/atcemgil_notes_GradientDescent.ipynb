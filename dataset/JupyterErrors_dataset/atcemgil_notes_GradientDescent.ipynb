{
 "cells": [
  {
   "cell_type": "markdown",
   "metadata": {},
   "source": [
    "# Local search\n",
    "\n",
    "In unconstrained optimization, we wish to solve problems of the form\n",
    "\\begin{align}\n",
    "\\text{minimize} & & E(w) \n",
    "\\end{align}\n",
    "\n",
    "* The local search algorithms have the form :\n",
    "\\begin{align}\n",
    "w_0 & = \\text{some initial value} \\\\\n",
    "\\text{for}\\;\\; & \\tau = 1, 2,\\dots \\\\\n",
    "& w_\\tau = w_{\\tau-1} + g_\\tau\n",
    "\\end{align}\n",
    "\n",
    "Here, $g_\\tau$ is a search direction. The loop is executed until a convergence condition is satisfied or \n",
    "the maximum number of iterations is reached. The algorithm iteratively search for solutions that achieve a lower objective value by moving in the search direction.\n",
    "\n",
    "# Gradient Descent \n",
    "* Gradient descent is a popular local search method with the search direction chosen as the negative gradient direction:\n",
    "\\begin{align}\n",
    "g_\\tau & =  - \\eta \\nabla E(w_{\\tau-1})\n",
    "\\end{align}\n",
    "\n",
    "* When the gradient vanishes, i.e., $\\nabla E(w) = 0$, the algorithm does not make any progress. Such points are also called fixed points. \n",
    "\n",
    "* The iterates, under certain conditions, converge to the minimum $w^* = \\arg\\min_{w} E(w)$. A natural question here finding the conditions for guaranteed convergence to a fixed point and the rate -- how fast convergence happens as a function of iterations\n",
    "\n",
    "* The parameter $\\eta$ is called the *learning rate*, to be chosen depending on the problem. If the learning rate is not properly chosen, the algorithm can (and will) diverge.\n",
    "\n",
    "* There is a well developed theory on how to choose $\\eta$ adaptively to speed up covergence.\n",
    "\n",
    "* Even for minimizing quadratic objective functions, or equivalently for solving linear systems, gradient descent can have a quite poor converge properties: it takes a lot of iterations to find the minimum. However, it is applicable as a practical method in many problems as it requires only the calculation of the gradient.\n",
    "\n",
    "* For maximization problems\n",
    "\\begin{align}\n",
    "\\text{maximize} & & E(w) \n",
    "\\end{align}\n",
    "we just move in the direction of the gradient so the search direction is $g_\\tau = \\eta \\nabla E(w_{\\tau-1})$\n"
   ]
  },
  {
   "cell_type": "code",
   "execution_count": 1,
   "metadata": {
    "collapsed": true,
    "hide_input": false,
    "scrolled": true
   },
   "outputs": [],
   "source": [
    "%matplotlib inline\n",
    "import numpy as np\n",
    "import matplotlib as mpl\n",
    "import matplotlib.pylab as plt\n",
    "\n",
    "from ipywidgets import interact, interactive, fixed\n",
    "import ipywidgets as widgets\n",
    "from IPython.display import clear_output, display, HTML\n",
    "from matplotlib import rc\n",
    "\n",
    "mpl.rc('font',**{'size': 20, 'family':'sans-serif','sans-serif':['Helvetica']})\n",
    "mpl.rc('text', usetex=True)\n",
    "\n",
    "import time\n",
    "import numpy as np\n",
    "\n",
    "y = np.array([7.04, 7.95, 7.58, 7.81, 8.33, 7.96, 8.24, 8.26, 7.84, 6.82, 5.68])\n",
    "x = np.array(np.linspace(-1,1,11))\n",
    "N = len(x)\n",
    "\n",
    "# Design matrix\n",
    "#A = np.vstack((np.ones(N), x, x**2, x**3)).T\n",
    "degree = 9\n",
    "A = np.hstack([np.power(x.reshape(N,1),i) for i in range(degree+1)])\n",
    "\n",
    "# Learning rate\n",
    "eta = 0.001\n",
    "              \n",
    "# initial parameters\n",
    "w = np.array(np.random.randn(degree+1))\n",
    "W = []\n",
    "Err = []\n",
    "for epoch in range(50000):  \n",
    "    # Error\n",
    "    err = y-A.dot(w)\n",
    "    \n",
    "    # Total error\n",
    "    E = np.sum(err**2)/N\n",
    "    \n",
    "    # Gradient\n",
    "    dE = -2.*A.T.dot(err)/N\n",
    "    \n",
    "    if epoch%100 == 0: \n",
    "        #print(epoch,':',E)\n",
    "        # print(w)    \n",
    "        W.append(w)\n",
    "        Err.append(E)\n",
    "\n",
    "    # Perfom one descent step\n",
    "    w = w - eta*dE"
   ]
  },
  {
   "cell_type": "markdown",
   "metadata": {},
   "source": [
    "The following cell demonstrates interactively the progress of plain gradient descent \n",
    "and how its solution differs from the optimum found by solving the corresponding least squares problem.\n",
    "\n"
   ]
  },
  {
   "cell_type": "code",
   "execution_count": 2,
   "metadata": {
    "scrolled": false
   },
   "outputs": [
    {
     "data": {
      "application/vnd.jupyter.widget-view+json": {
       "model_id": "339343d8a19e49efaf00e0faa815ea25",
       "version_major": 2,
       "version_minor": 0
      },
      "text/html": [
       "<p>Failed to display Jupyter Widget of type <code>interactive</code>.</p>\n",
       "<p>\n",
       "  If you're reading this message in Jupyter Notebook or JupyterLab, it may mean\n",
       "  that the widgets JavaScript is still loading. If this message persists, it\n",
       "  likely means that the widgets JavaScript library is either not installed or\n",
       "  not enabled. See the <a href=\"https://ipywidgets.readthedocs.io/en/stable/user_install.html\">Jupyter\n",
       "  Widgets Documentation</a> for setup instructions.\n",
       "</p>\n",
       "<p>\n",
       "  If you're reading this message in another notebook frontend (for example, a static\n",
       "  rendering on GitHub or <a href=\"https://nbviewer.jupyter.org/\">NBViewer</a>),\n",
       "  it may mean that your frontend doesn't currently support widgets.\n",
       "</p>\n"
      ],
      "text/plain": [
       "interactive(children=(IntSlider(value=0, description='iteration', max=499), Output()), _dom_classes=('widget-interact',))"
      ]
     },
     "metadata": {},
     "output_type": "display_data"
    }
   ],
   "source": [
    "\n",
    "fig = plt.figure(figsize=(5,5))\n",
    "\n",
    "left = -1.5\n",
    "right = 1.5\n",
    "xx = np.linspace(left,right,50)\n",
    "AA = np.hstack((np.power(xx.reshape(len(xx),1),i) for i in range(degree+1)))\n",
    "\n",
    "# Find best\n",
    "A_orth, R = np.linalg.qr(A)\n",
    "w_orth, res, rank, s = np.linalg.lstsq(A_orth, y)\n",
    "w_star = np.linalg.solve(R, w_orth)\n",
    "yy = AA.dot(w_star)\n",
    "\n",
    "#ax.set_xlim((2,15))\n",
    "\n",
    "#dots = plt.Line2D(x,y, linestyle='', markerfacecolor='b',marker='o', alpha=0.5, markersize=5)\n",
    "#ax.add_line(dots)\n",
    "plt.plot(x,y, linestyle='', markerfacecolor='b',marker='o', alpha=0.5, markersize=5)\n",
    "plt.plot(xx, yy, linestyle=':', color='k', alpha=0.3)\n",
    "ln = plt.Line2D(xdata=[], ydata=[], linestyle='-',linewidth=2)\n",
    "\n",
    "\n",
    "ax = fig.gca()\n",
    "ax.add_line(ln)\n",
    "plt.close(fig)\n",
    "\n",
    "ax.set_xlim((left,right))\n",
    "ax.set_ylim((5,9))\n",
    "\n",
    "def plot_gd(iteration=0):\n",
    "    w = W[iteration]\n",
    "    f = AA.dot(w)\n",
    "    #print(w)\n",
    "    ln.set_ydata(f)\n",
    "    ln.set_xdata(xx)\n",
    "    \n",
    "    ax.set_title('$E = '+str(Err[iteration])+'$')\n",
    "    \n",
    "    display(fig)\n",
    "    \n",
    "res = interact(plot_gd, iteration=(0,len(W)-1))\n"
   ]
  },
  {
   "cell_type": "markdown",
   "metadata": {},
   "source": [
    "Plotting the Error Surface"
   ]
  },
  {
   "cell_type": "code",
   "execution_count": 4,
   "metadata": {},
   "outputs": [
    {
     "data": {
      "image/png": "[encoded data removed]",
      "text/plain": [
       "<matplotlib.figure.Figure at 0x1086f15c0>"
      ]
     },
     "metadata": {},
     "output_type": "display_data"
    }
   ],
   "source": [
    "%matplotlib inline\n",
    "\n",
    "import scipy as sc\n",
    "import numpy as np\n",
    "import pandas as pd\n",
    "import matplotlib as mpl\n",
    "import matplotlib.pylab as plt\n",
    "\n",
    "df_arac = pd.read_csv(u'data/arac.csv',sep=';')\n",
    "#df_arac[['Year','Car']]\n",
    "\n",
    "BaseYear = 1995\n",
    "x = np.matrix(df_arac.Year[0:]).T-BaseYear\n",
    "y = np.matrix(df_arac.Car[0:]).T/1000000.\n",
    "\n",
    "plt.plot(x+BaseYear, y, 'o-')\n",
    "plt.xlabel('Yil')\n",
    "plt.ylabel('Araba (Millions)')\n",
    "\n",
    "plt.show()"
   ]
  },
  {
   "cell_type": "code",
   "execution_count": 5,
   "metadata": {
    "collapsed": true
   },
   "outputs": [],
   "source": [
    "from itertools import product\n",
    "\n",
    "def Error_Surface(y, A, left=0, right=1, bottom=0, top=1, step=0.1): \n",
    "    W0 = np.arange(left,right, step)\n",
    "    W1 = np.arange(bottom,top, step)\n",
    "\n",
    "    ErrSurf = np.zeros((len(W1),len(W0)))\n",
    "\n",
    "    for i,j in product(range(len(W1)), range(len(W0))):\n",
    "        e = y - A*np.matrix([W0[j], W1[i]]).T\n",
    "        ErrSurf[i,j] = e.T*e/2\n",
    "    \n",
    "    return ErrSurf"
   ]
  },
  {
   "cell_type": "code",
   "execution_count": 3,
   "metadata": {},
   "outputs": [
    {
     "ename": "NameError",
     "evalue": "name 'df_arac' is not defined",
     "output_type": "error",
     "traceback": [
      "\u001b[0;31m---------------------------------------------------------------------------\u001b[0m",
      "\u001b[0;31mNameError\u001b[0m                                 Traceback (most recent call last)",
      "\u001b[0;32m<ipython-input-3-4a9af2fc1034>\u001b[0m in \u001b[0;36m<module>\u001b[0;34m()\u001b[0m\n\u001b[1;32m      1\u001b[0m \u001b[0mBaseYear\u001b[0m \u001b[0;34m=\u001b[0m \u001b[0;36m1995\u001b[0m\u001b[0;34m\u001b[0m\u001b[0m\n\u001b[0;32m----> 2\u001b[0;31m \u001b[0mx\u001b[0m \u001b[0;34m=\u001b[0m \u001b[0mnp\u001b[0m\u001b[0;34m.\u001b[0m\u001b[0mmatrix\u001b[0m\u001b[0;34m(\u001b[0m\u001b[0mdf_arac\u001b[0m\u001b[0;34m.\u001b[0m\u001b[0mYear\u001b[0m\u001b[0;34m[\u001b[0m\u001b[0;36m0\u001b[0m\u001b[0;34m:\u001b[0m\u001b[0;34m]\u001b[0m\u001b[0;34m)\u001b[0m\u001b[0;34m.\u001b[0m\u001b[0mT\u001b[0m\u001b[0;34m-\u001b[0m\u001b[0mBaseYear\u001b[0m\u001b[0;34m\u001b[0m\u001b[0m\n\u001b[0m\u001b[1;32m      3\u001b[0m \u001b[0my\u001b[0m \u001b[0;34m=\u001b[0m \u001b[0mnp\u001b[0m\u001b[0;34m.\u001b[0m\u001b[0mmatrix\u001b[0m\u001b[0;34m(\u001b[0m\u001b[0mdf_arac\u001b[0m\u001b[0;34m.\u001b[0m\u001b[0mCar\u001b[0m\u001b[0;34m[\u001b[0m\u001b[0;36m0\u001b[0m\u001b[0;34m:\u001b[0m\u001b[0;34m]\u001b[0m\u001b[0;34m)\u001b[0m\u001b[0;34m.\u001b[0m\u001b[0mT\u001b[0m\u001b[0;34m/\u001b[0m\u001b[0;36m1000000.\u001b[0m\u001b[0;34m\u001b[0m\u001b[0m\n\u001b[1;32m      4\u001b[0m \u001b[0;34m\u001b[0m\u001b[0m\n\u001b[1;32m      5\u001b[0m \u001b[0;31m# Setup the vandermonde matrix\u001b[0m\u001b[0;34m\u001b[0m\u001b[0;34m\u001b[0m\u001b[0m\n",
      "\u001b[0;31mNameError\u001b[0m: name 'df_arac' is not defined"
     ]
    }
   ],
   "source": [
    "BaseYear = 1995\n",
    "x = np.matrix(df_arac.Year[0:]).T-BaseYear\n",
    "y = np.matrix(df_arac.Car[0:]).T/1000000.\n",
    "\n",
    "# Setup the vandermonde matrix\n",
    "N = len(x)\n",
    "A = np.hstack((np.ones((N,1)), x))\n",
    "\n",
    "\n",
    "\n",
    "left = -5\n",
    "right = 15\n",
    "bottom = -4\n",
    "top = 6\n",
    "step = 0.05\n",
    "ErrSurf = Error_Surface(y, A, left=left, right=right, top=top, bottom=bottom)\n",
    "\n",
    "plt.figure(figsize=(10,10))\n",
    "#plt.imshow(ErrSurf, interpolation='nearest', \n",
    "#           vmin=0, vmax=10000,origin='lower',\n",
    "#           extent=(left,right,bottom,top), cmap='jet')\n",
    "\n",
    "plt.contour(ErrSurf, \n",
    "            vmin=0, vmax=10000,origin='lower', levels=np.linspace(100,5000,10),\n",
    "            extent=(left,right,bottom,top), cmap='jet')\n",
    "\n",
    "plt.xlabel('$w_0$')\n",
    "plt.ylabel('$w_1$')\n",
    "plt.title('Error Surface')\n",
    "#plt.colorbar(orientation='horizontal')\n",
    "plt.show()"
   ]
  },
  {
   "cell_type": "markdown",
   "metadata": {},
   "source": [
    "### Animation of Gradient descent"
   ]
  },
  {
   "cell_type": "code",
   "execution_count": 4,
   "metadata": {},
   "outputs": [
    {
     "ename": "ValueError",
     "evalue": "all the input arrays must have same number of dimensions",
     "output_type": "error",
     "traceback": [
      "\u001b[0;31m---------------------------------------------------------------------------\u001b[0m",
      "\u001b[0;31mValueError\u001b[0m                                Traceback (most recent call last)",
      "\u001b[0;32m<ipython-input-4-f759bc6fe2b2>\u001b[0m in \u001b[0;36m<module>\u001b[0;34m()\u001b[0m\n\u001b[1;32m      8\u001b[0m \u001b[0;31m# Setup the Design matrix\u001b[0m\u001b[0;34m\u001b[0m\u001b[0;34m\u001b[0m\u001b[0m\n\u001b[1;32m      9\u001b[0m \u001b[0mN\u001b[0m \u001b[0;34m=\u001b[0m \u001b[0mlen\u001b[0m\u001b[0;34m(\u001b[0m\u001b[0mx\u001b[0m\u001b[0;34m)\u001b[0m\u001b[0;34m\u001b[0m\u001b[0m\n\u001b[0;32m---> 10\u001b[0;31m \u001b[0mA\u001b[0m \u001b[0;34m=\u001b[0m \u001b[0mnp\u001b[0m\u001b[0;34m.\u001b[0m\u001b[0mhstack\u001b[0m\u001b[0;34m(\u001b[0m\u001b[0;34m(\u001b[0m\u001b[0mnp\u001b[0m\u001b[0;34m.\u001b[0m\u001b[0mones\u001b[0m\u001b[0;34m(\u001b[0m\u001b[0;34m(\u001b[0m\u001b[0mN\u001b[0m\u001b[0;34m,\u001b[0m\u001b[0;36m1\u001b[0m\u001b[0;34m)\u001b[0m\u001b[0;34m)\u001b[0m\u001b[0;34m,\u001b[0m \u001b[0mx\u001b[0m\u001b[0;34m)\u001b[0m\u001b[0;34m)\u001b[0m\u001b[0;34m\u001b[0m\u001b[0m\n\u001b[0m\u001b[1;32m     11\u001b[0m \u001b[0;34m\u001b[0m\u001b[0m\n\u001b[1;32m     12\u001b[0m \u001b[0;31m# Starting point\u001b[0m\u001b[0;34m\u001b[0m\u001b[0;34m\u001b[0m\u001b[0m\n",
      "\u001b[0;32m/Users/cemgil/anaconda/lib/python3.6/site-packages/numpy/core/shape_base.py\u001b[0m in \u001b[0;36mhstack\u001b[0;34m(tup)\u001b[0m\n\u001b[1;32m    291\u001b[0m         \u001b[0;32mreturn\u001b[0m \u001b[0m_nx\u001b[0m\u001b[0;34m.\u001b[0m\u001b[0mconcatenate\u001b[0m\u001b[0;34m(\u001b[0m\u001b[0marrs\u001b[0m\u001b[0;34m,\u001b[0m \u001b[0;36m0\u001b[0m\u001b[0;34m)\u001b[0m\u001b[0;34m\u001b[0m\u001b[0m\n\u001b[1;32m    292\u001b[0m     \u001b[0;32melse\u001b[0m\u001b[0;34m:\u001b[0m\u001b[0;34m\u001b[0m\u001b[0m\n\u001b[0;32m--> 293\u001b[0;31m         \u001b[0;32mreturn\u001b[0m \u001b[0m_nx\u001b[0m\u001b[0;34m.\u001b[0m\u001b[0mconcatenate\u001b[0m\u001b[0;34m(\u001b[0m\u001b[0marrs\u001b[0m\u001b[0;34m,\u001b[0m \u001b[0;36m1\u001b[0m\u001b[0;34m)\u001b[0m\u001b[0;34m\u001b[0m\u001b[0m\n\u001b[0m\u001b[1;32m    294\u001b[0m \u001b[0;34m\u001b[0m\u001b[0m\n\u001b[1;32m    295\u001b[0m \u001b[0;34m\u001b[0m\u001b[0m\n",
      "\u001b[0;31mValueError\u001b[0m: all the input arrays must have same number of dimensions"
     ]
    }
   ],
   "source": [
    "%matplotlib inline\n",
    "import matplotlib.pylab as plt\n",
    "\n",
    "import time\n",
    "from IPython import display\n",
    "import numpy as np\n",
    "\n",
    "# Setup the Design matrix\n",
    "N = len(x)\n",
    "A = np.hstack((np.ones((N,1)), x))\n",
    "\n",
    "# Starting point\n",
    "w = np.matrix('[15; -6]')\n",
    "\n",
    "# Number of iterations\n",
    "EPOCH = 200\n",
    "\n",
    "# Learning rate: The following is the largest possible fixed rate for this problem\n",
    "#eta = 0.0001696\n",
    "eta = 0.0001696\n",
    "\n",
    "fig = plt.figure()\n",
    "ax = fig.gca()\n",
    "\n",
    "plt.plot(x+BaseYear, y, 'o-')\n",
    "\n",
    "plt.xlabel('x')\n",
    "plt.ylabel('y')\n",
    "\n",
    "f = A.dot(w)\n",
    "ln = plt.Line2D(xdata=x+BaseYear, ydata=f, linestyle='-',linewidth=2,color='red')\n",
    "ax.add_line(ln)\n",
    "\n",
    "for epoch in range(EPOCH):\n",
    "    f = A.dot(w)\n",
    "    err = y-f\n",
    "    \n",
    "    ln.set_xdata(x)\n",
    "    ln.set_ydata(f)\n",
    "    \n",
    "    E = np.sum(err.T*err)/2\n",
    "    dE = -A.T.dot(err)\n",
    "    \n",
    "#    if epoch%1 == 0: \n",
    "#        print(epoch,':',E)\n",
    "        # print(w)    \n",
    "        \n",
    "    w = w - eta*dE\n",
    "\n",
    "    ax.set_title(E)\n",
    "    display.clear_output(wait=True)\n",
    "    display.display(plt.gcf())\n",
    "    time.sleep(0.1)"
   ]
  },
  {
   "cell_type": "code",
   "execution_count": 5,
   "metadata": {},
   "outputs": [
    {
     "ename": "ValueError",
     "evalue": "all the input arrays must have same number of dimensions",
     "output_type": "error",
     "traceback": [
      "\u001b[0;31m---------------------------------------------------------------------------\u001b[0m",
      "\u001b[0;31mValueError\u001b[0m                                Traceback (most recent call last)",
      "\u001b[0;32m<ipython-input-5-b067099a950a>\u001b[0m in \u001b[0;36m<module>\u001b[0;34m()\u001b[0m\n\u001b[1;32m      3\u001b[0m \u001b[0;31m# Setup the Design matrix\u001b[0m\u001b[0;34m\u001b[0m\u001b[0;34m\u001b[0m\u001b[0m\n\u001b[1;32m      4\u001b[0m \u001b[0mN\u001b[0m \u001b[0;34m=\u001b[0m \u001b[0mlen\u001b[0m\u001b[0;34m(\u001b[0m\u001b[0mx\u001b[0m\u001b[0;34m)\u001b[0m\u001b[0;34m\u001b[0m\u001b[0m\n\u001b[0;32m----> 5\u001b[0;31m \u001b[0mA\u001b[0m \u001b[0;34m=\u001b[0m \u001b[0mnp\u001b[0m\u001b[0;34m.\u001b[0m\u001b[0mhstack\u001b[0m\u001b[0;34m(\u001b[0m\u001b[0;34m(\u001b[0m\u001b[0mnp\u001b[0m\u001b[0;34m.\u001b[0m\u001b[0mones\u001b[0m\u001b[0;34m(\u001b[0m\u001b[0;34m(\u001b[0m\u001b[0mN\u001b[0m\u001b[0;34m,\u001b[0m\u001b[0;36m1\u001b[0m\u001b[0;34m)\u001b[0m\u001b[0;34m)\u001b[0m\u001b[0;34m,\u001b[0m \u001b[0mx\u001b[0m\u001b[0;34m)\u001b[0m\u001b[0;34m)\u001b[0m\u001b[0;34m\u001b[0m\u001b[0m\n\u001b[0m\u001b[1;32m      6\u001b[0m \u001b[0;34m\u001b[0m\u001b[0m\n\u001b[1;32m      7\u001b[0m \u001b[0;31m# Starting point\u001b[0m\u001b[0;34m\u001b[0m\u001b[0;34m\u001b[0m\u001b[0m\n",
      "\u001b[0;32m/Users/cemgil/anaconda/lib/python3.6/site-packages/numpy/core/shape_base.py\u001b[0m in \u001b[0;36mhstack\u001b[0;34m(tup)\u001b[0m\n\u001b[1;32m    291\u001b[0m         \u001b[0;32mreturn\u001b[0m \u001b[0m_nx\u001b[0m\u001b[0;34m.\u001b[0m\u001b[0mconcatenate\u001b[0m\u001b[0;34m(\u001b[0m\u001b[0marrs\u001b[0m\u001b[0;34m,\u001b[0m \u001b[0;36m0\u001b[0m\u001b[0;34m)\u001b[0m\u001b[0;34m\u001b[0m\u001b[0m\n\u001b[1;32m    292\u001b[0m     \u001b[0;32melse\u001b[0m\u001b[0;34m:\u001b[0m\u001b[0;34m\u001b[0m\u001b[0m\n\u001b[0;32m--> 293\u001b[0;31m         \u001b[0;32mreturn\u001b[0m \u001b[0m_nx\u001b[0m\u001b[0;34m.\u001b[0m\u001b[0mconcatenate\u001b[0m\u001b[0;34m(\u001b[0m\u001b[0marrs\u001b[0m\u001b[0;34m,\u001b[0m \u001b[0;36m1\u001b[0m\u001b[0;34m)\u001b[0m\u001b[0;34m\u001b[0m\u001b[0m\n\u001b[0m\u001b[1;32m    294\u001b[0m \u001b[0;34m\u001b[0m\u001b[0m\n\u001b[1;32m    295\u001b[0m \u001b[0;34m\u001b[0m\u001b[0m\n",
      "\u001b[0;31mValueError\u001b[0m: all the input arrays must have same number of dimensions"
     ]
    }
   ],
   "source": [
    "# An implementation of Gradient Descent for solving linear a system\n",
    "\n",
    "# Setup the Design matrix\n",
    "N = len(x)\n",
    "A = np.hstack((np.ones((N,1)), x))\n",
    "\n",
    "# Starting point\n",
    "w = np.matrix('[15; -6]')\n",
    "\n",
    "# Number of iterations\n",
    "EPOCH = 5000\n",
    "\n",
    "# Learning rate: The following is the largest possible fixed rate for this problem\n",
    "#eta = 0.00016\n",
    "eta = 0.000161\n",
    "\n",
    "Error = np.zeros((EPOCH))\n",
    "W = np.zeros((2,EPOCH))\n",
    "\n",
    "for tau in range(EPOCH):\n",
    "    # Calculate the error\n",
    "    e = y - A*w    \n",
    "    \n",
    "    # Store the intermediate results\n",
    "    W[0,tau] = w[0]\n",
    "    W[1,tau] = w[1]\n",
    "    Error[tau] = (e.T*e)/2\n",
    "    \n",
    "    # Compute the gradient descent step\n",
    "    g = -A.T*e\n",
    "    w = w - eta*g\n",
    "    #print(w.T)\n",
    "    \n",
    "w_star = w    \n",
    "plt.figure(figsize=(8,8))\n",
    "plt.imshow(ErrSurf, interpolation='nearest', \n",
    "           vmin=0, vmax=1000,origin='lower',\n",
    "           extent=(left,right,bottom,top))\n",
    "plt.xlabel('w0')\n",
    "plt.ylabel('w1')\n",
    "\n",
    "ln = plt.Line2D(W[0,:300:1], W[1,:300:1], marker='o',markerfacecolor='w')\n",
    "plt.gca().add_line(ln)\n",
    "\n",
    "ln = plt.Line2D(w_star[0], w_star[1], marker='x',markerfacecolor='w')\n",
    "plt.gca().add_line(ln)\n",
    "plt.show()\n",
    "\n",
    "plt.figure(figsize=(8,3))\n",
    "plt.semilogy(Error)\n",
    "plt.xlabel('Iteration tau')\n",
    "plt.ylabel('Error')\n",
    "plt.show()\n"
   ]
  },
  {
   "cell_type": "markdown",
   "metadata": {
    "collapsed": true
   },
   "source": [
    "* The illustration shows the convergence of GD with learning rate near the limit where the convergence is oscillatory.\n",
    "\n",
    "* $\\eta$, Learning rate is a parameter of the algorithm\n",
    "\n",
    "* $w$, the variable are the parameters of the Model \n",
    "\n",
    "* $y$: Targets\n",
    "\n",
    "* $x$: Inputs, "
   ]
  },
  {
   "cell_type": "markdown",
   "metadata": {},
   "source": [
    "# Accelerating Gradient descent\n",
    "\n",
    "## Momentum methods, a.k.a., heavy ball\n",
    "\n",
    "\\begin{align}\n",
    "p(\\tau) & =  \\nabla E(w(\\tau-1)) + \\beta p(\\tau-1) \\\\\n",
    "w(\\tau) & =  w(\\tau-1) - \\alpha p(\\tau) \n",
    "\\end{align}\n",
    "\n",
    "When $\\beta=0$, we recover gradient descent.\n"
   ]
  },
  {
   "cell_type": "code",
   "execution_count": 6,
   "metadata": {
    "scrolled": false
   },
   "outputs": [
    {
     "name": "stderr",
     "output_type": "stream",
     "text": [
      "/Users/cemgil/anaconda/lib/python3.6/site-packages/matplotlib/font_manager.py:1328: UserWarning: findfont: Font family ['sans-serif'] not found. Falling back to DejaVu Sans\n",
      "  (prop.get_family(), self.defaultFamily[fontext]))\n",
      "/Users/cemgil/anaconda/lib/python3.6/site-packages/matplotlib/font_manager.py:1328: UserWarning: findfont: Font family ['sans-serif'] not found. Falling back to DejaVu Sans\n",
      "  (prop.get_family(), self.defaultFamily[fontext]))\n",
      "/Users/cemgil/anaconda/lib/python3.6/site-packages/matplotlib/font_manager.py:1328: UserWarning: findfont: Font family ['sans-serif'] not found. Falling back to DejaVu Sans\n",
      "  (prop.get_family(), self.defaultFamily[fontext]))\n"
     ]
    },
    {
     "data": {
      "image/png": "[encoded data removed]",
      "text/plain": [
       "<Figure size 432x288 with 1 Axes>"
      ]
     },
     "metadata": {},
     "output_type": "display_data"
    }
   ],
   "source": [
    "%matplotlib inline\n",
    "import matplotlib.pylab as plt\n",
    "\n",
    "from notes_utilities import pnorm_ball_line\n",
    "\n",
    "\n",
    "import time\n",
    "from IPython import display\n",
    "import numpy as np\n",
    "\n",
    "\n",
    "#y = np.array([7.46, 6.77, 12.74, 7.11, 7.81, 8.84, 6.08, 5.39, 8.15, 6.42, 5.73])\n",
    "y = np.array([8.04, 6.95, 7.58, 8.81, 8.33, 9.96, 7.24, 4.26, 10.84, 4.82, 5.68])\n",
    "#y = np.array([9.14, 8.14, 8.74, 8.77, 9.26, 8.10, 6.13, 3.10, 9.13, 7.26, 4.74])\n",
    "x = np.array([10., 8., 13., 9., 11., 14., 6., 4., 12., 7., 5.])\n",
    "N = len(x)\n",
    "\n",
    "# Design matrix\n",
    "A = np.vstack((np.ones(N), x)).T\n",
    "\n",
    "w_best, E, rank, s = np.linalg.lstsq(A, y)\n",
    "err = y-A.dot(w_best)\n",
    "E_min = np.sum(err**2)/N\n",
    "\n",
    "\n",
    "def inspect_momentum(alpha = 0.005, beta = 0.97):\n",
    "    ln = pnorm_ball_line(mu=w_best, A=np.linalg.cholesky(np.linalg.inv(A.T.dot(A))),linewidth=1)\n",
    "    ln2 = pnorm_ball_line(mu=w_best, A=4*np.linalg.cholesky(np.linalg.inv(A.T.dot(A))),linewidth=1)\n",
    "\n",
    "    # initial parameters\n",
    "    w0 = np.array([2., 1.])\n",
    "    w = w0.copy()\n",
    "    p = np.zeros(2)\n",
    "\n",
    "    EPOCHS = 100\n",
    "    W = np.zeros((2,EPOCHS))\n",
    "    for epoch in range(EPOCHS):\n",
    "        # Error\n",
    "        err = y-A.dot(w)\n",
    "        W[:,epoch] = w    \n",
    "        # Mean square error\n",
    "        E = np.sum(err**2)/N\n",
    "\n",
    "        # Gradient\n",
    "        dE = -2.*A.T.dot(err)/N\n",
    "        p = dE + beta*p\n",
    "\n",
    "#        if epoch%10 == 1: \n",
    "#            print(epoch,':',E)\n",
    "            # print(w)    \n",
    "\n",
    "        # Perfom one descent step\n",
    "        w = w - alpha*p\n",
    "\n",
    "\n",
    "#    print(E_min)\n",
    "\n",
    "    plt.plot(W[0,:],W[1,:],'.-b')\n",
    "    plt.plot(w_best[0],w_best[1],'ro')\n",
    "    plt.plot(w0[0],w0[1],'ko')\n",
    "    plt.xlim((1.8,4.3))\n",
    "    plt.ylim((0,1.2))\n",
    "    plt.title('$\\\\alpha = $'+str(alpha)+' $\\\\beta = $'+str(beta))\n",
    "    plt.gca().add_line(ln)\n",
    "    plt.gca().add_line(ln2)\n",
    "    plt.show()\n",
    "    \n",
    "inspect_momentum(alpha=0.0014088, beta=0.95)\n",
    "\n"
   ]
  },
  {
   "cell_type": "code",
   "execution_count": 7,
   "metadata": {},
   "outputs": [
    {
     "data": {
      "application/vnd.jupyter.widget-view+json": {
       "model_id": "7914f4b92752492da520347e406fac3a",
       "version_major": 2,
       "version_minor": 0
      },
      "text/html": [
       "<p>Failed to display Jupyter Widget of type <code>interactive</code>.</p>\n",
       "<p>\n",
       "  If you're reading this message in Jupyter Notebook or JupyterLab, it may mean\n",
       "  that the widgets JavaScript is still loading. If this message persists, it\n",
       "  likely means that the widgets JavaScript library is either not installed or\n",
       "  not enabled. See the <a href=\"https://ipywidgets.readthedocs.io/en/stable/user_install.html\">Jupyter\n",
       "  Widgets Documentation</a> for setup instructions.\n",
       "</p>\n",
       "<p>\n",
       "  If you're reading this message in another notebook frontend (for example, a static\n",
       "  rendering on GitHub or <a href=\"https://nbviewer.jupyter.org/\">NBViewer</a>),\n",
       "  it may mean that your frontend doesn't currently support widgets.\n",
       "</p>\n"
      ],
      "text/plain": [
       "interactive(children=(FloatSlider(value=0.005, description='alpha', max=0.02, step=0.001), FloatSlider(value=0.97, description='beta', max=0.99, step=0.001), Output()), _dom_classes=('widget-interact',))"
      ]
     },
     "metadata": {},
     "output_type": "display_data"
    },
    {
     "data": {
      "text/plain": [
       "<function __main__.inspect_momentum>"
      ]
     },
     "execution_count": 7,
     "metadata": {},
     "output_type": "execute_result"
    }
   ],
   "source": [
    "%matplotlib inline\n",
    "from __future__ import print_function\n",
    "from ipywidgets import interact, interactive, fixed\n",
    "import ipywidgets as widgets\n",
    "import matplotlib.pylab as plt\n",
    "from IPython.display import clear_output, display, HTML\n",
    "\n",
    "interact(inspect_momentum, alpha=(0, 0.02, 0.001), beta=(0, 0.99, 0.001))"
   ]
  },
  {
   "cell_type": "markdown",
   "metadata": {},
   "source": [
    "# Advanced Material\n",
    "\n",
    "Why does momentum work? by Goh. Interactive articles\n",
    "https://distill.pub/2017/momentum/\n",
    "\n",
    "Beyond vanilla Gradient Descent, Sebastian Ruder blog\n",
    "http://ruder.io/optimizing-gradient-descent/\n",
    "\n",
    "Blog post by M. Hardt\n",
    "http://blog.mrtz.org/2013/09/07/the-zen-of-gradient-descent.html\n",
    "\n",
    "A great talk by Ben Recht:\n",
    "https://simons.berkeley.edu/talks/ben-recht-2013-09-04\n",
    "\n",
    "Backpropagation, by blog post by S. Arora\n",
    "http://www.offconvex.org/2016/12/20/backprop/"
   ]
  },
  {
   "cell_type": "markdown",
   "metadata": {},
   "source": [
    "## Analysis of convergence of Gradient descent for a quadratic function\n",
    "\n",
    "Recall that the error function we minimize is\n",
    "$$\n",
    "E(w) = \\frac{1}{2} (y-Aw)^T(y-Aw) = \\frac{1}{2}(y^\\top y - 2 y^\\top A w + w^\\top A^\\top A w)\n",
    "$$\n",
    "\n",
    "The gradient at the point $w$ will be denoted as $\\nabla E(w) = g(w)$ where\n",
    "$$g(w) = -A^\\top (y - Aw) = A^\\top A w - A^\\top y$$\n",
    "\n",
    "Moreover, the gradient at the minimum will vanish:\n",
    "$$\n",
    "g(w_\\star) = 0\n",
    "$$\n",
    "Indeed, we can solve \n",
    "$$0 = A^\\top (Aw_\\star - y)$$\n",
    "as\n",
    "$$w_\\star =  (A^\\top A)^{-1}A^\\top y  $$\n",
    "but this is not our point.\n",
    "\n",
    "For a constant learning rate $\\eta$, gradient descent executes the following iteration\n",
    "$$\n",
    "w_t = w_{t-1} - \\eta g(w_{t-1}) = w_{t-1} - \\eta A^\\top (Aw_{t-1} - y)\n",
    "$$\n",
    "\n",
    "$$\n",
    "w_t  =  (I - \\eta A^\\top A) w_{t-1} + \\eta A^\\top y\n",
    "$$\n",
    "\n",
    "This is a fixed point equation of form\n",
    "$$\n",
    "w_t  =  T(w_{t-1}) \n",
    "$$\n",
    "where $T$ is an affine transformation. \n",
    "\n",
    "We will assume that $T$ is a contraction, i.e. for any two different\n",
    "parameters $w$ and $w'$ in the domain we have\n",
    "$$\n",
    "\\| T(w) - T(w') \\| \\leq L_\\eta \\|w-w' \\|\n",
    "$$\n",
    "\n",
    "where $L_\\eta < 1$, then the distance shrinks. Hence the mapping converges to a fixed point (this is a consequence of a deeper result in analysis called the Brouwer fixed-point theorem (https://en.0wikipedia.org/wiki/Brouwer_fixed-point_theorem))\n",
    "\n",
    "We will consider in particular the distance between the optimum and the current point $w(t)$\n",
    "\n",
    "$$\n",
    "\\| T(w_t) - T(w_\\star) \\| \\leq L_\\eta \\|w_t - w_\\star \\|\n",
    "$$\n",
    "But we have \n",
    "$T(w_\\star) = w_\\star$ and $w_t = T(w_{t-1})$ so\n",
    "$\\|w_t - w_\\star \\| = \\|T(w_{t-1}) - T(w_\\star) \\|$. \n",
    "\n",
    "\\begin{align}\n",
    "\\| T(w_t) - T(w_\\star) \\| & \\leq L_\\eta \\|T(w_{t-1}) - T(w_\\star) \\| \\\\\n",
    "& \\leq L^2_\\eta \\|T(w_{t-2}) - T(w_\\star) \\| \\\\\n",
    "\\vdots \\\\\n",
    "& \\leq L^{t+1}_\\eta \\| w_{0} - w_\\star \\| \n",
    "\\end{align}\n"
   ]
  },
  {
   "cell_type": "markdown",
   "metadata": {},
   "source": [
    "$$\n",
    "T(w)   =  (I - \\eta A^\\top A) w + \\eta A^\\top y\n",
    "$$\n",
    "\n",
    "$$\n",
    "T(w_\\star)   =  (I - \\eta A^\\top A) w_\\star + \\eta A^\\top y\n",
    "$$\n",
    "\n",
    "$$\n",
    "\\| T(w) - T(w') \\| = \\| (I - \\eta A^\\top A) (w-w') \\| \\leq \\| I - \\eta A^\\top A \\| \\| w-w' \\|\n",
    "$$\n",
    "\n",
    "When the norm of the matrix $\\| I - \\eta A^\\top A \\| < 1$ we have convergence. Here we take the operator norm, i.e., the magnitude of the largest eigenvalue.\n",
    "\n",
    "Below, we plot the absolute value of the maximum eigenvalues of $I - \\eta A^\\top A$ as a function of $\\eta$."
   ]
  },
  {
   "cell_type": "code",
   "execution_count": 56,
   "metadata": {
    "scrolled": true
   },
   "outputs": [
    {
     "data": {
      "image/png": "[encoded data removed]",
      "text/plain": [
       "<matplotlib.figure.Figure at 0x11bc50080>"
      ]
     },
     "metadata": {},
     "output_type": "display_data"
    }
   ],
   "source": [
    "\n",
    "left = 0.0000\n",
    "right = 0.015\n",
    "\n",
    "N = 1000\n",
    "ETA = np.linspace(left,right,N)\n",
    "\n",
    "def compute_largest_eig(ETA, A):\n",
    "    \n",
    "    LAM = np.zeros(N)\n",
    "    D = A.shape[1]\n",
    "    n = A.shape[0]\n",
    "    \n",
    "    for i,eta in enumerate(ETA):\n",
    "        #print(eta)\n",
    "        lam,v = np.linalg.eig(np.eye(D) - 2*eta*A.T.dot(A)/n)\n",
    "        LAM[i] = np.max(np.abs(lam))\n",
    "        \n",
    "    return LAM\n",
    "\n",
    "# This number is L_\\eta\n",
    "LAM = compute_largest_eig(ETA, A)\n",
    "\n",
    "plt.plot(ETA, LAM)\n",
    "#plt.plot(ETA, np.ones((N,1)))\n",
    "#plt.gca().set_ylim([0.98, 1.02])\n",
    "plt.ylim([0.997,1.01])\n",
    "plt.xlabel('eta')\n",
    "plt.ylabel('absolute value of the largest eigenvalue')\n",
    "plt.show()\n"
   ]
  },
  {
   "cell_type": "code",
   "execution_count": 51,
   "metadata": {
    "scrolled": true
   },
   "outputs": [
    {
     "data": {
      "image/png": "[encoded data removed]",
      "text/plain": [
       "<matplotlib.figure.Figure at 0x11b8481d0>"
      ]
     },
     "metadata": {},
     "output_type": "display_data"
    }
   ],
   "source": [
    "plt.semilogy(ETA,LAM)\n",
    "plt.ylim([0.997,1])\n",
    "plt.show()"
   ]
  },
  {
   "cell_type": "markdown",
   "metadata": {},
   "source": [
    "If $E$ is twice differentiable, contractivity means that $E$ is convex.\n",
    "\n",
    "For $t>0$\n",
    "\\begin{align}\n",
    "\\|T(x + t \\Delta x) - T(x) \\| & \\leq \\rho \\|t \\Delta x\\| \\\\\n",
    "\\frac{1}{t} \\|T(x + t \\Delta x) - T(x) \\| &\\leq \\rho \\|\\Delta x\\| \n",
    "\\end{align}\n",
    "\n",
    "If we can show that $\\rho< 1$, then $T$ is a contraction.\n",
    "\n",
    "By definitions\n",
    "$$\n",
    "T(x)  = x - \\alpha \\nabla E(x)\n",
    "$$\n",
    "\n",
    "$$\n",
    "T(x + t \\Delta x)  = x + t \\Delta x - \\alpha \\nabla E(x + t \\Delta x)\n",
    "$$\n",
    "\n",
    "\\begin{align}\n",
    "\\frac{1}{t} \\|T(x + t \\Delta x) - T(x) \\| & = \\frac{1}{t} \\|x + t \\Delta x - \\alpha \\nabla E(x + t \\Delta x) - x + \\alpha \\nabla E(x) \\| \\\\\n",
    "& = \\| \\Delta x - \\frac{\\alpha}{t}  (\\nabla E(x + t \\Delta x) - \\nabla E(x) ) \\|  \\\\\n",
    "\\end{align}\n",
    "\n",
    "As this relation holds for all $t$, we take the limit when $t\\rightarrow 0^+$\n",
    "\n",
    "\\begin{align}\n",
    "\\| \\Delta x - \\alpha \\nabla^2 E(x) \\Delta x  \\| & =  \\| (I - \\alpha \\nabla^2 E(x)) \\Delta x  \\| \\\\\n",
    "& \\leq \\| I - \\alpha \\nabla^2 E(x) \\| \\| \\Delta x  \\| \n",
    "\\end{align}\n",
    "\n",
    "If we can choose $\\alpha$ for all $\\xi$ in the domain such that \n",
    "$$\n",
    "\\| I - \\alpha \\nabla^2 E(\\xi) \\| \\leq \\rho < 1\n",
    "$$\n",
    "is satisfied, we have a sufficient condition for a contraction."
   ]
  },
  {
   "cell_type": "markdown",
   "metadata": {},
   "source": [
    "Lemma:\n",
    "\n",
    "Assume that for $0 \\leq \\rho < 1$, $\\alpha> 0$ and $U(\\xi)$ is a symmetric matrix valued function for all $\\xi \\in \\mathcal{D}$ and we have \n",
    "$$\n",
    "\\| I - \\alpha U(\\xi) \\| \\leq \\rho \n",
    "$$\n",
    "then $U = U(\\xi)$ is positive semidefinite with $$\\frac{1 - \\rho}{\\alpha} I \\preceq U $$ for every $\\xi$.\n",
    "\n",
    "Proof:\n",
    "\n",
    "$$\n",
    "\\|I - \\alpha U \\| = \\sup_{x\\neq 0} \\frac{x^\\top(I - \\alpha U )x }{x^\\top x} \\leq \\rho\n",
    "$$\n",
    "\n",
    "$$\n",
    "x^\\top(I - \\alpha U )x \\leq \\rho x^\\top x\n",
    "$$\n",
    "\n",
    "$$\n",
    "(1- \\rho) x^\\top x  \\leq \\alpha x^\\top U x\n",
    "$$\n",
    "\n",
    "This implies that for all $x$ we have\n",
    "$$\n",
    "0 \\leq x^\\top (U - \\frac{1 - \\rho}{\\alpha} I) x\n",
    "$$\n",
    "In other words, the matrix $U - \\frac{1 - \\rho}{\\alpha} I$ is positive semidefinite, or:\n",
    "\n",
    "$$\n",
    "\\frac{1 - \\rho}{\\alpha} I \\preceq U\n",
    "$$\n",
    "We now see that $\\rho<1$ we have the guarantee that $U$ is positive semidefinite."
   ]
  },
  {
   "cell_type": "markdown",
   "metadata": {},
   "source": [
    "$$\n",
    "T(x) = M x + b\n",
    "$$\n",
    "\n",
    "$$\n",
    "\\|T(x) - T(x_\\star) \\| = \\|Mx + b - M x_\\star + b \\| = \\| M(x-x_\\star) \\|\n",
    "$$\n",
    "\n",
    "By Schwarz inequality\n",
    "\n",
    "$$\n",
    "\\|T(x) - T(x_\\star) \\| \\leq \\|M\\| \\|x-x_\\star\\|\n",
    "$$\n",
    "If $\\|M\\| < 1$, we have a contraction. Assume the existence of a fixed point $x_\\star$ such that $x_\\star = T(x_\\star)$. (Does a fixed point always exist for a contraction?)"
   ]
  },
  {
   "cell_type": "code",
   "execution_count": null,
   "metadata": {
    "collapsed": true
   },
   "outputs": [],
   "source": [
    "# Try to fit with GD to the original data\n",
    "BaseYear2 = 0\n",
    "x2 = np.matrix(df_arac.Year[31:]).T-BaseYear2\n",
    "\n",
    "# Setup the vandermonde matrix\n",
    "N = len(x2)\n",
    "A = np.hstack((np.ones((N,1)), x2))\n",
    "\n",
    "left = -8\n",
    "right = -7.55\n",
    "N = 100\n",
    "ETA = np.logspace(left,right,N)\n",
    "\n",
    "LAM = compute_largest_eig(ETA, A)\n",
    "\n",
    "plt.plot(ETA, LAM)\n",
    "plt.plot(ETA, np.ones((N,1)))\n",
    "plt.gca().set_ylim([0.98, 1.02])\n",
    "plt.xlabel('eta')\n",
    "plt.ylabel('absolute value of the largest eigenvalue')\n",
    "plt.show()\n",
    "\n"
   ]
  },
  {
   "cell_type": "markdown",
   "metadata": {},
   "source": [
    "Analysis of Momentum"
   ]
  },
  {
   "cell_type": "markdown",
   "metadata": {},
   "source": [
    "\\begin{align}\n",
    "p(\\tau) & =  \\nabla E(w(\\tau-1)) + \\beta p(\\tau-1) \\\\\n",
    "w(\\tau) & =  w(\\tau-1) - \\alpha p(\\tau) \\\\\n",
    "w(\\tau-1) & =  w(\\tau-2) - \\alpha p(\\tau-1) \\\\\n",
    "\\end{align}\n",
    "\n",
    "\\begin{align}\n",
    "\\left(\\begin{array}{c}\n",
    "w(\\tau) \\\\\n",
    "w(\\tau-1)\n",
    "\\end{array}\n",
    "\\right)\n",
    "& = &\\left(\\begin{array}{cc}\n",
    "\\cdot & \\cdot \\\\\n",
    "\\cdot & \\cdot\n",
    "\\end{array}\n",
    "\\right)\n",
    "\\left(\\begin{array}{c}\n",
    "w(\\tau-1) \\\\\n",
    "w(\\tau-2)\n",
    "\\end{array}\n",
    "\\right)\n",
    "\\end{align}\n",
    "\n",
    "\n",
    "\\begin{align}\n",
    "\\frac{1}{\\alpha}(w(\\tau-1) - w(\\tau))  & =  p(\\tau) =  \\nabla E(w(\\tau-1)) + \\beta \\frac{1}{\\alpha}(w(\\tau-2) - w(\\tau-1)) = \\\\\n",
    "\\frac{1}{\\alpha}(w(\\tau-2) - w(\\tau-1))  & =  p(\\tau-1) \\\\\n",
    "\\end{align}\n",
    "\n",
    "\\begin{align}\n",
    "\\frac{1}{\\alpha}(w(\\tau-1) - w(\\tau))  & = \\nabla E(w(\\tau-1)) + \\beta \\frac{1}{\\alpha}(w(\\tau-2) - w(\\tau-1)) \\\\\n",
    "  w(\\tau)  & = -\\alpha \\nabla E(w(\\tau-1)) - \\beta w(\\tau-2) + (\\beta+1)  w(\\tau-1)\n",
    "\\end{align}\n",
    "\n"
   ]
  },
  {
   "cell_type": "markdown",
   "metadata": {},
   "source": [
    "* Note that GD is sensetive to scaling of data\n",
    "* For example, if we would not have shifted the $x$ axis our original data, GD might not have worked. The maximum eigenvalue is very close to $1$ for all $\\eta$ upto numerical precision"
   ]
  },
  {
   "cell_type": "code",
   "execution_count": 30,
   "metadata": {
    "scrolled": true
   },
   "outputs": [
    {
     "data": {
      "image/png": "[encoded data removed]",
      "text/plain": [
       "<matplotlib.figure.Figure at 0x11ec7ceb8>"
      ]
     },
     "metadata": {},
     "output_type": "display_data"
    }
   ],
   "source": [
    "w = 7\n",
    "alpha = 0.7\n",
    "EPOCH = 100\n",
    "W = []\n",
    "for tau in range(EPOCH):\n",
    "    W.append(w)\n",
    "    w = w - alpha*(2*w - 4)\n",
    "\n",
    "plt.plot(W)\n",
    "plt.show()"
   ]
  },
  {
   "cell_type": "code",
   "execution_count": 36,
   "metadata": {},
   "outputs": [
    {
     "data": {
      "image/png": "[encoded data removed]",
      "text/plain": [
       "<matplotlib.figure.Figure at 0x11eca52b0>"
      ]
     },
     "metadata": {},
     "output_type": "display_data"
    }
   ],
   "source": [
    "w = 7\n",
    "alpha = 0.1\n",
    "beta = 0.95\n",
    "p = 0\n",
    "EPOCH = 1000\n",
    "W = []\n",
    "for tau in range(EPOCH):\n",
    "    W.append(w)\n",
    "    p = (2*w - 4) + beta*p\n",
    "    w = w - alpha*p\n",
    "\n",
    "plt.plot(W)\n",
    "plt.show()"
   ]
  }
 ],
 "metadata": {
  "kernelspec": {
   "display_name": "Python [conda root]",
   "language": "python",
   "name": "conda-root-py"
  },
  "language_info": {
   "codemirror_mode": {
    "name": "ipython",
    "version": 3
   },
   "file_extension": ".py",
   "mimetype": "text/x-python",
   "name": "python",
   "nbconvert_exporter": "python",
   "pygments_lexer": "ipython3",
   "version": "3.6.5"
  },
  "latex_envs": {
   "LaTeX_envs_menu_present": false,
   "autocomplete": false,
   "bibliofile": "biblio.bib",
   "cite_by": "apalike",
   "current_citInitial": 1,
   "eqLabelWithNumbers": false,
   "eqNumInitial": 1,
   "hotkeys": {
    "equation": "Ctrl-E",
    "itemize": "Ctrl-I"
   },
   "labels_anchors": false,
   "latex_user_defs": false,
   "report_style_numbering": false,
   "user_envs_cfg": true
  },
  "toc": {
   "nav_menu": {},
   "number_sections": true,
   "sideBar": true,
   "skip_h1_title": false,
   "toc_cell": false,
   "toc_position": {},
   "toc_section_display": "block",
   "toc_window_display": false
  },
  "varInspector": {
   "cols": {
    "lenName": 16,
    "lenType": 16,
    "lenVar": 40
   },
   "kernels_config": {
    "python": {
     "delete_cmd_postfix": "",
     "delete_cmd_prefix": "del ",
     "library": "var_list.py",
     "varRefreshCmd": "print(var_dic_list())"
    },
    "r": {
     "delete_cmd_postfix": ") ",
     "delete_cmd_prefix": "rm(",
     "library": "var_list.r",
     "varRefreshCmd": "cat(var_dic_list()) "
    }
   },
   "types_to_exclude": [
    "module",
    "function",
    "builtin_function_or_method",
    "instance",
    "_Feature"
   ],
   "window_display": false
  }
 },
 "nbformat": 4,
 "nbformat_minor": 2
}
