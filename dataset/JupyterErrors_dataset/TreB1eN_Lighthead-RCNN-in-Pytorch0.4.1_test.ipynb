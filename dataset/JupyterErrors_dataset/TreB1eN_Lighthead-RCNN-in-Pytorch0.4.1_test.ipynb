{
 "cells": [
  {
   "cell_type": "code",
   "execution_count": 1,
   "metadata": {
    "ExecuteTime": {
     "end_time": "2018-09-25T07:05:24.041571Z",
     "start_time": "2018-09-25T07:05:18.672179Z"
    }
   },
   "outputs": [
    {
     "name": "stderr",
     "output_type": "stream",
     "text": [
      "/home/f/anaconda3/lib/python3.6/importlib/_bootstrap.py:219: RuntimeWarning: numpy.dtype size changed, may indicate binary incompatibility. Expected 96, got 88\n",
      "  return f(*args, **kwds)\n",
      "/home/f/anaconda3/lib/python3.6/site-packages/h5py/__init__.py:36: FutureWarning: Conversion of the second argument of issubdtype from `float` to `np.floating` is deprecated. In future, it will be treated as `np.float64 == np.dtype(float).type`.\n",
      "  from ._conv import register_converters as _register_converters\n",
      "/home/f/anaconda3/lib/python3.6/importlib/_bootstrap.py:219: RuntimeWarning: numpy.dtype size changed, may indicate binary incompatibility. Expected 96, got 88\n",
      "  return f(*args, **kwds)\n",
      "/home/f/anaconda3/lib/python3.6/importlib/_bootstrap.py:219: RuntimeWarning: numpy.dtype size changed, may indicate binary incompatibility. Expected 96, got 88\n",
      "  return f(*args, **kwds)\n",
      "/home/f/anaconda3/lib/python3.6/importlib/_bootstrap.py:219: RuntimeWarning: numpy.dtype size changed, may indicate binary incompatibility. Expected 96, got 88\n",
      "  return f(*args, **kwds)\n",
      "/home/f/anaconda3/lib/python3.6/importlib/_bootstrap.py:219: RuntimeWarning: numpy.dtype size changed, may indicate binary incompatibility. Expected 96, got 88\n",
      "  return f(*args, **kwds)\n"
     ]
    },
    {
     "name": "stdout",
     "output_type": "stream",
     "text": [
      "tensor([[[[ 0.,  1.,  2.],\n",
      "          [ 0.,  1.,  2.],\n",
      "          [ 0.,  1.,  2.]]]])\n",
      "torch.Size([2, 3, 500, 500])\n"
     ]
    },
    {
     "data": {
      "text/plain": [
       "<matplotlib.figure.Figure at 0x7fd332fd4a90>"
      ]
     },
     "metadata": {},
     "output_type": "display_data"
    }
   ],
   "source": [
    "from test import *\n",
    "from test2 import *\n",
    "from crop_and_resize_example import *"
   ]
  },
  {
   "cell_type": "code",
   "execution_count": 2,
   "metadata": {
    "ExecuteTime": {
     "end_time": "2018-09-25T07:05:24.697749Z",
     "start_time": "2018-09-25T07:05:24.042577Z"
    }
   },
   "outputs": [
    {
     "name": "stdout",
     "output_type": "stream",
     "text": [
      "pytorch forward and backward start\n",
      "pytorch forward and backward end\n",
      "forward (maxval, min_err, max_err, mean_err): 1.4729054 0.0 3.5971403e-05 2.1016413e-06\n",
      "backward (maxval, min_err, max_err, mean_err): 4.3358526 0.0 9.328127e-05 1.1692666e-08\n"
     ]
    }
   ],
   "source": [
    "crop_height = 7\n",
    "crop_width = 7\n",
    "is_cuda = torch.cuda.is_available()\n",
    "\n",
    "if tf is not None:\n",
    "    compare_with_tf(crop_height, crop_width, is_cuda=is_cuda)\n",
    "else:\n",
    "    print('without tensorflow')"
   ]
  },
  {
   "cell_type": "code",
   "execution_count": 3,
   "metadata": {
    "ExecuteTime": {
     "end_time": "2018-09-25T07:05:25.322474Z",
     "start_time": "2018-09-25T07:05:24.698936Z"
    }
   },
   "outputs": [
    {
     "name": "stdout",
     "output_type": "stream",
     "text": [
      "max_input: 4.080476\n",
      "test ok\n"
     ]
    }
   ],
   "source": [
    "test_roialign(is_cuda=is_cuda)"
   ]
  },
  {
   "cell_type": "code",
   "execution_count": 4,
   "metadata": {
    "ExecuteTime": {
     "end_time": "2018-09-25T07:05:25.571521Z",
     "start_time": "2018-09-25T07:05:25.323578Z"
    }
   },
   "outputs": [
    {
     "ename": "TypeError",
     "evalue": "Variable data has to be a tensor, but got numpy.ndarray",
     "output_type": "error",
     "traceback": [
      "\u001b[0;31m---------------------------------------------------------------------------\u001b[0m",
      "\u001b[0;31mTypeError\u001b[0m                                 Traceback (most recent call last)",
      "\u001b[0;32m<ipython-input-4-a723c23980fd>\u001b[0m in \u001b[0;36m<module>\u001b[0;34m()\u001b[0m\n\u001b[1;32m      5\u001b[0m \u001b[0mbox_index_data\u001b[0m \u001b[0;34m=\u001b[0m \u001b[0mnp\u001b[0m\u001b[0;34m.\u001b[0m\u001b[0masarray\u001b[0m\u001b[0;34m(\u001b[0m\u001b[0;34m[\u001b[0m\u001b[0;36m0\u001b[0m\u001b[0;34m]\u001b[0m\u001b[0;34m,\u001b[0m \u001b[0mdtype\u001b[0m\u001b[0;34m=\u001b[0m\u001b[0mnp\u001b[0m\u001b[0;34m.\u001b[0m\u001b[0mint32\u001b[0m\u001b[0;34m)\u001b[0m\u001b[0;34m\u001b[0m\u001b[0m\n\u001b[1;32m      6\u001b[0m \u001b[0;34m\u001b[0m\u001b[0m\n\u001b[0;32m----> 7\u001b[0;31m \u001b[0mimage_torch\u001b[0m \u001b[0;34m=\u001b[0m \u001b[0mto_varabile\u001b[0m\u001b[0;34m(\u001b[0m\u001b[0mimage_data\u001b[0m\u001b[0;34m,\u001b[0m \u001b[0mrequires_grad\u001b[0m\u001b[0;34m=\u001b[0m\u001b[0;32mTrue\u001b[0m\u001b[0;34m,\u001b[0m \u001b[0mis_cuda\u001b[0m\u001b[0;34m=\u001b[0m\u001b[0mis_cuda\u001b[0m\u001b[0;34m)\u001b[0m\u001b[0;34m\u001b[0m\u001b[0m\n\u001b[0m\u001b[1;32m      8\u001b[0m \u001b[0mboxes\u001b[0m \u001b[0;34m=\u001b[0m \u001b[0mto_varabile\u001b[0m\u001b[0;34m(\u001b[0m\u001b[0mboxes_data\u001b[0m\u001b[0;34m,\u001b[0m \u001b[0mrequires_grad\u001b[0m\u001b[0;34m=\u001b[0m\u001b[0;32mFalse\u001b[0m\u001b[0;34m,\u001b[0m \u001b[0mis_cuda\u001b[0m\u001b[0;34m=\u001b[0m\u001b[0mis_cuda\u001b[0m\u001b[0;34m)\u001b[0m\u001b[0;34m\u001b[0m\u001b[0m\n\u001b[1;32m      9\u001b[0m \u001b[0mbox_index\u001b[0m \u001b[0;34m=\u001b[0m \u001b[0mto_varabile\u001b[0m\u001b[0;34m(\u001b[0m\u001b[0mbox_index_data\u001b[0m\u001b[0;34m,\u001b[0m \u001b[0mrequires_grad\u001b[0m\u001b[0;34m=\u001b[0m\u001b[0;32mFalse\u001b[0m\u001b[0;34m,\u001b[0m \u001b[0mis_cuda\u001b[0m\u001b[0;34m=\u001b[0m\u001b[0mis_cuda\u001b[0m\u001b[0;34m)\u001b[0m\u001b[0;34m\u001b[0m\u001b[0m\n",
      "\u001b[0;32m~/Notebooks/Lighthead-RCNN-Pytorch/functions/RoIAlign_pytorch/tests/crop_and_resize_example.py\u001b[0m in \u001b[0;36mto_varabile\u001b[0;34m(tensor, requires_grad, is_cuda)\u001b[0m\n\u001b[1;32m     11\u001b[0m     \u001b[0;32mif\u001b[0m \u001b[0mis_cuda\u001b[0m\u001b[0;34m:\u001b[0m\u001b[0;34m\u001b[0m\u001b[0m\n\u001b[1;32m     12\u001b[0m         \u001b[0mtensor\u001b[0m \u001b[0;34m=\u001b[0m \u001b[0mtensor\u001b[0m\u001b[0;34m.\u001b[0m\u001b[0mcuda\u001b[0m\u001b[0;34m(\u001b[0m\u001b[0;34m)\u001b[0m\u001b[0;34m\u001b[0m\u001b[0m\n\u001b[0;32m---> 13\u001b[0;31m     \u001b[0mvar\u001b[0m \u001b[0;34m=\u001b[0m \u001b[0mVariable\u001b[0m\u001b[0;34m(\u001b[0m\u001b[0mtensor\u001b[0m\u001b[0;34m,\u001b[0m \u001b[0mrequires_grad\u001b[0m\u001b[0;34m=\u001b[0m\u001b[0mrequires_grad\u001b[0m\u001b[0;34m)\u001b[0m\u001b[0;34m\u001b[0m\u001b[0m\n\u001b[0m\u001b[1;32m     14\u001b[0m     \u001b[0;32mreturn\u001b[0m \u001b[0mvar\u001b[0m\u001b[0;34m\u001b[0m\u001b[0m\n\u001b[1;32m     15\u001b[0m \u001b[0;34m\u001b[0m\u001b[0m\n",
      "\u001b[0;31mTypeError\u001b[0m: Variable data has to be a tensor, but got numpy.ndarray"
     ]
    }
   ],
   "source": [
    "is_cuda = False\n",
    "image_data = np.tile(np.arange(7, dtype=np.float32), 7).reshape(7, 7)\n",
    "image_data = image_data[np.newaxis, np.newaxis]\n",
    "boxes_data = np.asarray([[0, 0, 3, 3]], dtype=np.float32)\n",
    "box_index_data = np.asarray([0], dtype=np.int32)\n",
    "\n",
    "image_torch = to_varabile(image_data, requires_grad=True, is_cuda=is_cuda)\n",
    "boxes = to_varabile(boxes_data, requires_grad=False, is_cuda=is_cuda)\n",
    "box_index = to_varabile(box_index_data, requires_grad=False, is_cuda=is_cuda)\n",
    "\n",
    "# set transform_fpcoor to False is the crop_and_resize\n",
    "roi_align = RoIAlign(3, 3, transform_fpcoor=True)"
   ]
  },
  {
   "cell_type": "code",
   "execution_count": null,
   "metadata": {
    "ExecuteTime": {
     "end_time": "2018-09-25T07:05:25.572010Z",
     "start_time": "2018-09-25T07:05:31.393Z"
    }
   },
   "outputs": [],
   "source": [
    "image_torch"
   ]
  },
  {
   "cell_type": "code",
   "execution_count": null,
   "metadata": {
    "ExecuteTime": {
     "end_time": "2018-09-25T07:05:25.572521Z",
     "start_time": "2018-09-25T07:05:31.395Z"
    }
   },
   "outputs": [],
   "source": [
    "boxes.shape"
   ]
  },
  {
   "cell_type": "code",
   "execution_count": null,
   "metadata": {
    "ExecuteTime": {
     "end_time": "2018-09-25T07:05:25.573052Z",
     "start_time": "2018-09-25T07:05:31.397Z"
    }
   },
   "outputs": [],
   "source": [
    "boxes"
   ]
  },
  {
   "cell_type": "code",
   "execution_count": null,
   "metadata": {
    "ExecuteTime": {
     "end_time": "2018-09-25T07:05:25.573574Z",
     "start_time": "2018-09-25T07:05:31.400Z"
    }
   },
   "outputs": [],
   "source": [
    "box_index"
   ]
  },
  {
   "cell_type": "code",
   "execution_count": null,
   "metadata": {
    "ExecuteTime": {
     "end_time": "2018-09-25T07:05:25.574089Z",
     "start_time": "2018-09-25T07:05:31.403Z"
    }
   },
   "outputs": [],
   "source": [
    "print(roi_align(image_torch, boxes, box_index))"
   ]
  },
  {
   "cell_type": "code",
   "execution_count": null,
   "metadata": {
    "ExecuteTime": {
     "end_time": "2018-09-25T07:05:25.574577Z",
     "start_time": "2018-09-25T07:05:31.405Z"
    }
   },
   "outputs": [],
   "source": [
    "boxes_data = np.asarray([[3, 4, 6, 7]], dtype=np.float32)\n",
    "boxes = to_varabile(boxes_data, requires_grad=False, is_cuda=is_cuda)"
   ]
  },
  {
   "cell_type": "code",
   "execution_count": null,
   "metadata": {
    "ExecuteTime": {
     "end_time": "2018-09-25T07:05:25.575064Z",
     "start_time": "2018-09-25T07:05:31.408Z"
    }
   },
   "outputs": [],
   "source": [
    "print(roi_align(image_torch, boxes, box_index))"
   ]
  },
  {
   "cell_type": "code",
   "execution_count": null,
   "metadata": {
    "ExecuteTime": {
     "start_time": "2018-09-25T07:05:50.185Z"
    }
   },
   "outputs": [],
   "source": [
    "crop_height = 500\n",
    "crop_width = 500\n",
    "is_cuda = torch.cuda.is_available()\n",
    "\n",
    "# In this simple example the number of images and boxes is 2\n",
    "img_path1 = 'images/choco.png'\n",
    "img_path2 = 'images/snow.png'\n",
    "\n",
    "# Define the boxes ( crops )\n",
    "# box = [y1/heigth , x1/width , y2/heigth , x2/width]\n",
    "boxes_data = torch.FloatTensor([[0, 0, 1, 1], [0, 0, 0.5, 0.5]])\n",
    "\n",
    "# Create an index to say which box crops which image\n",
    "box_index_data = torch.IntTensor([0, 1])\n",
    "\n",
    "# Import the images from file\n",
    "image_data1 = transforms.ToTensor()(imread(img_path1)).unsqueeze(0)\n",
    "image_data2 = transforms.ToTensor()(imread(img_path2)).unsqueeze(0)\n",
    "\n",
    "# Create a batch of 2 images\n",
    "image_data = torch.cat((image_data1, image_data2), 0)\n",
    "\n",
    "# Convert from numpy to Variables\n",
    "image_torch = to_varabile(image_data, is_cuda=is_cuda)\n",
    "boxes = to_varabile(boxes_data, is_cuda=is_cuda)\n",
    "box_index = to_varabile(box_index_data, is_cuda=is_cuda)"
   ]
  },
  {
   "cell_type": "code",
   "execution_count": null,
   "metadata": {
    "ExecuteTime": {
     "start_time": "2018-09-25T07:05:52.399Z"
    }
   },
   "outputs": [],
   "source": [
    "crop_height, crop_width"
   ]
  },
  {
   "cell_type": "code",
   "execution_count": null,
   "metadata": {},
   "outputs": [],
   "source": []
  },
  {
   "cell_type": "code",
   "execution_count": null,
   "metadata": {},
   "outputs": [],
   "source": [
    "# Crops and resize bbox1 from img1 and bbox2 from img2\n",
    "crops_torch = CropAndResizeFunction(crop_height, crop_width, 0)(image_torch, boxes, box_index)\n",
    "\n",
    "# Visualize the crops\n",
    "print(crops_torch.data.size())\n",
    "crops_torch_data = crops_torch.data.cpu().numpy().transpose(0, 2, 3, 1)\n",
    "fig = plt.figure()\n",
    "plt.subplot(121)\n",
    "plt.imshow(crops_torch_data[0])\n",
    "plt.subplot(122)\n",
    "plt.imshow(crops_torch_data[1])\n",
    "plt.show()"
   ]
  },
  {
   "cell_type": "code",
   "execution_count": null,
   "metadata": {},
   "outputs": [],
   "source": []
  },
  {
   "cell_type": "code",
   "execution_count": null,
   "metadata": {},
   "outputs": [],
   "source": []
  },
  {
   "cell_type": "code",
   "execution_count": null,
   "metadata": {},
   "outputs": [],
   "source": []
  },
  {
   "cell_type": "code",
   "execution_count": null,
   "metadata": {},
   "outputs": [],
   "source": []
  }
 ],
 "metadata": {
  "hide_input": false,
  "kernelspec": {
   "display_name": "Python 3",
   "language": "python",
   "name": "python3"
  },
  "language_info": {
   "codemirror_mode": {
    "name": "ipython",
    "version": 3
   },
   "file_extension": ".py",
   "mimetype": "text/x-python",
   "name": "python",
   "nbconvert_exporter": "python",
   "pygments_lexer": "ipython3",
   "version": "3.6.4"
  }
 },
 "nbformat": 4,
 "nbformat_minor": 2
}
