{
 "cells": [
  {
   "cell_type": "markdown",
   "metadata": {},
   "source": [
    "##### Copyright 2021 The C-HACKMASTERS."
   ]
  },
  {
   "cell_type": "code",
   "execution_count": null,
   "metadata": {},
   "outputs": [],
   "source": [
    "#@title Licensed under the Apache License, Version 2.0 (the \"License\");\n",
    "# you may not use this file except in compliance with the License.\n",
    "# You may obtain a copy of the License at\n",
    "#\n",
    "# https://www.apache.org/licenses/LICENSE-2.0\n",
    "#\n",
    "# Unless required by applicable law or agreed to in writing, software\n",
    "# distributed under the License is distributed on an \"AS IS\" BASIS,\n",
    "# WITHOUT WARRANTIES OR CONDITIONS OF ANY KIND, either express or implied.\n",
    "# See the License for the specific language governing permissions and\n",
    "# limitations under the License."
   ]
  },
  {
   "cell_type": "markdown",
   "metadata": {
    "id": "vhe1yX4AMckE"
   },
   "source": [
    "# C-HACK Tutorial 1: Introduction to Python and Jupyter Notebooks"
   ]
  },
  {
   "cell_type": "markdown",
   "metadata": {
    "id": "i63E5leaNn_v"
   },
   "source": [
    "**Instructor**: Jesse Chiem\n",
    "\n",
    "**Contact**: jchiem@uw.edu\n",
    "\n",
    "Welcome to C-HACK 2021! This first tutorial of the week will have you establish a working knowledge of the tools required for this inaugural Hackathon in Chemical Engineering. This includes computer coding, as a light introduction, as well as navigating the Jupyter Notebook environment (the environment you're currently viewing as you're reading this!). We'd like to acknowledge the undergraduate evaluators of this tutorial notebook - thank you Kenny Andre and Dai Nguyen!\n",
    "\n",
    "As a reminder, please visit the official C-HACK website at https://www.c-hack.org/ for general information and help. This site lists our tutorials, projects, and the teams for the Hackathon. Let's start with coding!"
   ]
  },
  {
   "cell_type": "markdown",
   "metadata": {
    "id": "yodoFrKdaB2z"
   },
   "source": [
    "## 1.1 Let's talk about coding..."
   ]
  },
  {
   "cell_type": "markdown",
   "metadata": {
    "id": "iFyz9RzCxvyp"
   },
   "source": [
    "Generically put, **_we write computer code to perform a set of tasks and instructions that the computer can help us accomplish_**. If this sounds too simplified, then you're correct! The real challenge and process of coding is knowing what tools to use, what problems need to be solved, and even knowing what you don't know.\n",
    "\n",
    "The developers of this C-HACK event understand all of the potentially confusing terminology thrown whenever we talk about computer programming, such as coding, software engineering, data science, computer science and ...computer programming. But we've worked hard on the material to try and demystify the confusion along the way, while focusing on giving students the experience of developing a project of code from start to finish."
   ]
  },
  {
   "cell_type": "markdown",
   "metadata": {
    "id": "lEJjSUTBY-LX"
   },
   "source": [
    "### 1.1.1 Introducing Python"
   ]
  },
  {
   "cell_type": "markdown",
   "metadata": {
    "id": "WB9yFRLChGgt"
   },
   "source": [
    "![python_logo.jpg](data:image/jpeg;base64,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)\n",
    "\n",
    "The goal is not only to give an introduction to Python, but also to general beginner coding concepts this week. For these next few sections, we'll be executing various lines of code right here in this interactive, Google Colab notebook. If you're wondering how this is possible and how this all works, don't worry; we'll get to the intricacies of interactive notebooks later!\n",
    "\n",
    "You'll find the many benefits of this general purpose programming language. **_The syntax for Python is understandable to read and easy to learn_**, compared to the syntax of other languages that requires more of a background of underlying computer science - languages such as Java, C, and C++. For this Hackathon, you'll discover that Python is especially ideal for working with scientific data. Topics such as data science, machine learning, and data visualization will be covered later on this week - all while continuing to utilize Python.\n",
    "\n",
    "*Note: this tutorial is covering syntax for version 3.x of Python. As you continue learning Python elsewhere, please advise that Python version 2 is no longer supported, and older tutorials and books may be outdated as a result.*"
   ]
  },
  {
   "cell_type": "markdown",
   "metadata": {
    "id": "ozKiVGp6CASd"
   },
   "source": [
    "### 1.1.2 A quick primer on Python syntax\n"
   ]
  },
  {
   "cell_type": "markdown",
   "metadata": {
    "id": "8PZQ4xZovRWn"
   },
   "source": [
    "Python's simple, concise syntax allows for faster prototyping of code than other languages such as Java and C++. (However, that does not mean that Python has faster runtime execution than the others!)\n",
    "\n",
    "Printing output to the console is as simple as running Python's built-in print() function. To execute a code cell (we'll talk more about this later!), you can either click on the Play button next to the cell, or use the keyboard shortcut *CTRL*+*ENTER* (*CMD (⌘)*+*ENTER* on a macOS)."
   ]
  },
  {
   "cell_type": "code",
   "execution_count": null,
   "metadata": {
    "colab": {
     "base_uri": "https://localhost:8080/"
    },
    "executionInfo": {
     "elapsed": 767,
     "status": "ok",
     "timestamp": 1609810841397,
     "user": {
      "displayName": "Jesse Chiem",
      "photoUrl": "https://lh3.googleusercontent.com/a-/AOh14GiL1yBOEBcDxob4MGALY615iS6wz7cYh7WVsUON=s64",
      "userId": "09481396300034805926"
     },
     "user_tz": 480
    },
    "id": "StTerRNEC4ZY",
    "outputId": "1e22d92e-fd01-4f58-94e0-5815a35e53d4"
   },
   "outputs": [
    {
     "name": "stdout",
     "output_type": "stream",
     "text": [
      "Hello, C-HACK coders!\n"
     ]
    }
   ],
   "source": [
    "print(\"Hello, C-HACK coders!\")"
   ]
  },
  {
   "cell_type": "markdown",
   "metadata": {
    "id": "VrzDF3_yC-pj"
   },
   "source": [
    "Variables can be created just by typing the name you'd like, followed by the equal sign, and the value you want to assign the variable to. In this case, we'll create a variable called `some_school` and set it to the value of `\"University of Washington\"`:"
   ]
  },
  {
   "cell_type": "code",
   "execution_count": null,
   "metadata": {
    "id": "fv9qxGpkDZK8"
   },
   "outputs": [],
   "source": [
    "some_school = \"University of Washington\""
   ]
  },
  {
   "cell_type": "markdown",
   "metadata": {
    "id": "2iBdttwkwO5R"
   },
   "source": [
    "You may then use created variables elsewhere. For example, we can output the value set for `some_school` by inputting the variable name into Python's `print()` function:"
   ]
  },
  {
   "cell_type": "code",
   "execution_count": null,
   "metadata": {
    "colab": {
     "base_uri": "https://localhost:8080/"
    },
    "executionInfo": {
     "elapsed": 520,
     "status": "ok",
     "timestamp": 1609810949237,
     "user": {
      "displayName": "Jesse Chiem",
      "photoUrl": "https://lh3.googleusercontent.com/a-/AOh14GiL1yBOEBcDxob4MGALY615iS6wz7cYh7WVsUON=s64",
      "userId": "09481396300034805926"
     },
     "user_tz": 480
    },
    "id": "lP4ifTgjwdsU",
    "outputId": "2935d10f-df1f-430c-8ae3-8a1e03581ae4"
   },
   "outputs": [
    {
     "name": "stdout",
     "output_type": "stream",
     "text": [
      "University of Washington\n"
     ]
    }
   ],
   "source": [
    "print(some_school)"
   ]
  },
  {
   "cell_type": "markdown",
   "metadata": {
    "id": "65taieEiyYWL"
   },
   "source": [
    "A key part of coding is understanding which functions you need to use for accomplishing a task, as well as knowing when to create one of your own, which you'll learn more about later this week. For now, what you should know is that `print()` from earlier is one example of calling/executing a function that's already made available to us."
   ]
  },
  {
   "cell_type": "markdown",
   "metadata": {
    "id": "mJBeo8UmWSln"
   },
   "source": [
    "#### Exercise 1 A Very Common Print Statement\n",
    "\n"
   ]
  },
  {
   "cell_type": "markdown",
   "metadata": {
    "id": "ptyRTP2MnOVC"
   },
   "source": [
    "Now that you've stepped through our quick primer on Python, for our first ~~obligatory~~ coding exercise, try typing `print(\"Hello World!\")` in the empty code cell below. Then run the code cell either from the Play button or the keyboard shortcut from earlier to see the output."
   ]
  },
  {
   "cell_type": "code",
   "execution_count": null,
   "metadata": {
    "colab": {
     "base_uri": "https://localhost:8080/"
    },
    "executionInfo": {
     "elapsed": 350,
     "status": "ok",
     "timestamp": 1609811042178,
     "user": {
      "displayName": "Jesse Chiem",
      "photoUrl": "https://lh3.googleusercontent.com/a-/AOh14GiL1yBOEBcDxob4MGALY615iS6wz7cYh7WVsUON=s64",
      "userId": "09481396300034805926"
     },
     "user_tz": 480
    },
    "id": "6aP6wVQXX3RI",
    "outputId": "5681b90b-ad98-4ee1-8e73-07db708f1bfc"
   },
   "outputs": [
    {
     "name": "stdout",
     "output_type": "stream",
     "text": [
      "Hello World!\n"
     ]
    }
   ],
   "source": [
    "print(\"Hello World!\")"
   ]
  },
  {
   "cell_type": "markdown",
   "metadata": {
    "id": "DScDhRB09F5N"
   },
   "source": [
    "### 1.1.3 What are variables?\n",
    "\n"
   ]
  },
  {
   "cell_type": "markdown",
   "metadata": {
    "id": "2cgDQPkJu2y1"
   },
   "source": [
    "**_To have values that our computer can store in memory, we use what's called variables_**. How else can we store information for later analysis and later reference? That's where variables come in, and is an essential part of programming!\n",
    "\n",
    "Here's a basic example of assigning a variable, using '='. Let's call this variable `x` and assign it an integer value (we'll get to integers in just a bit!) of 25:"
   ]
  },
  {
   "cell_type": "code",
   "execution_count": null,
   "metadata": {
    "id": "Ff_Eopcz85nk"
   },
   "outputs": [],
   "source": [
    "x = 25"
   ]
  },
  {
   "cell_type": "markdown",
   "metadata": {
    "id": "OqX9ijf887aO"
   },
   "source": [
    "Let's create another variable called `city_name` and assign it the word `\"Seattle\"`:"
   ]
  },
  {
   "cell_type": "code",
   "execution_count": null,
   "metadata": {
    "id": "yzHBYoxv9NwF"
   },
   "outputs": [],
   "source": [
    "city_name = \"Seattle\""
   ]
  },
  {
   "cell_type": "markdown",
   "metadata": {
    "id": "tCmz0mNnhUdL"
   },
   "source": [
    "And when we need to use this value again, we retrieve that variable by referring to it by the variable name we gave it when first assigned. The `x` variable we created earlier can now be used later, and as many times as we'd like. Existing variables can also be modified. Let's change the value of `x`, after printing its initial value:"
   ]
  },
  {
   "cell_type": "code",
   "execution_count": null,
   "metadata": {
    "colab": {
     "base_uri": "https://localhost:8080/"
    },
    "executionInfo": {
     "elapsed": 335,
     "status": "ok",
     "timestamp": 1609811202863,
     "user": {
      "displayName": "Jesse Chiem",
      "photoUrl": "https://lh3.googleusercontent.com/a-/AOh14GiL1yBOEBcDxob4MGALY615iS6wz7cYh7WVsUON=s64",
      "userId": "09481396300034805926"
     },
     "user_tz": 480
    },
    "id": "CgYytIIptKFk",
    "outputId": "7540c8ca-75b2-4d4a-99c3-ed2eaa9e4b6c"
   },
   "outputs": [
    {
     "name": "stdout",
     "output_type": "stream",
     "text": [
      "25\n",
      "150\n"
     ]
    }
   ],
   "source": [
    "print(x)\n",
    "x = 150\n",
    "print(x)"
   ]
  },
  {
   "cell_type": "markdown",
   "metadata": {
    "id": "Tateotv4tQ88"
   },
   "source": [
    "By using `print(x)` a second time, after changing the variable's value to 150, we can confirm that 25 is no longer assigned to `x`. Let's modify `city_name` to a different value too:"
   ]
  },
  {
   "cell_type": "code",
   "execution_count": null,
   "metadata": {
    "colab": {
     "base_uri": "https://localhost:8080/"
    },
    "executionInfo": {
     "elapsed": 369,
     "status": "ok",
     "timestamp": 1609811234029,
     "user": {
      "displayName": "Jesse Chiem",
      "photoUrl": "https://lh3.googleusercontent.com/a-/AOh14GiL1yBOEBcDxob4MGALY615iS6wz7cYh7WVsUON=s64",
      "userId": "09481396300034805926"
     },
     "user_tz": 480
    },
    "id": "r7TVA7nEuHLo",
    "outputId": "ac56e9a5-15ce-4e8c-e2fb-827b39a2235a"
   },
   "outputs": [
    {
     "name": "stdout",
     "output_type": "stream",
     "text": [
      "Seattle\n",
      "Mexico City\n"
     ]
    }
   ],
   "source": [
    "print(city_name)\n",
    "city_name = \"Mexico City\"\n",
    "print(city_name)"
   ]
  },
  {
   "cell_type": "markdown",
   "metadata": {
    "id": "GxMigjMEvIiP"
   },
   "source": [
    "Again printing the variable name a second time, in this case `city_name`, should indicate that the initial value has changed."
   ]
  },
  {
   "cell_type": "markdown",
   "metadata": {
    "id": "i9NV6jzUuE7z"
   },
   "source": [
    "#### Variable Types"
   ]
  },
  {
   "cell_type": "markdown",
   "metadata": {
    "id": "aGEAiD4-svZ8"
   },
   "source": [
    "Let's explore some common variable data types in Python. The first type to discuss is a **string**, which we've already seen before when we initialized `city_name`. Strings in Python are simply a collection of characters wrapped around quotes, and a string can represent any kind of info depending on how it's used, such as a person's name, a city name (like we just demonstrated), or a complete sentence. Here are some examples of string variables in Python below."
   ]
  },
  {
   "cell_type": "code",
   "execution_count": null,
   "metadata": {
    "id": "6iNB65U90G-x"
   },
   "outputs": [],
   "source": [
    "another_city_name = \"Gotham\"\n",
    "example_sentence = \"This is a sentence\"\n",
    "another_sentence = \"This is another sentence.\"\n",
    "some_name = \"Michael Scott\""
   ]
  },
  {
   "cell_type": "markdown",
   "metadata": {
    "id": "OmlSbPTf90vp"
   },
   "source": [
    "The other variable types we'll discuss for now are **integers** and **floats**. Consider the Integer type as data that can represent any positive whole number or negative whole number. Recall the `x` variable we assigned to 25 and then 150 earlier? That variable would be considered an integer in Python. Here are some other quick examples of Python integer variables."
   ]
  },
  {
   "cell_type": "code",
   "execution_count": null,
   "metadata": {
    "id": "n1ARG2zqA7e5"
   },
   "outputs": [],
   "source": [
    "some_int = 5\n",
    "zip_code = 98195\n",
    "patrick_mahomes_contract = 502631000"
   ]
  },
  {
   "cell_type": "markdown",
   "metadata": {
    "id": "qzqHsVphB0il"
   },
   "source": [
    "A ~~root beer~~ float in Python is considered any number with decimal point values. This is the main difference between a float and integer. For floats, some examples below show an arbitrary number of decimal places after the decimal point, and ones where a value less than 1 (such as one representing a percentage value) don't require specifying a `0` left of the decimal point."
   ]
  },
  {
   "cell_type": "code",
   "execution_count": null,
   "metadata": {
    "id": "5ByO4VbFFG0B"
   },
   "outputs": [],
   "source": [
    "y = 21.0\n",
    "half = 0.5\n",
    "pi = 3.141592653589793\n",
    "paul_george_playoff_field_goal_percentage = .398"
   ]
  },
  {
   "cell_type": "markdown",
   "metadata": {
    "id": "II5QGAq2_92X"
   },
   "source": [
    "Be aware that ***Python is a programming language in which variables are dynamically typed, meaning we do not need to declare the specific type of the variable when we initialize it***. Because of this feature of Python, executing `x = 25` will automatically turn this variable into an integer by default due to its value of 25. Likewise, executing `x = 25.0` instead will make `x` the float type.\n",
    "\n",
    "You can check the type of any existing variable in Python by using the built-in `type()` function. Remember `city_name` that we created earlier? We can confirm the type by running `type(city_name)`:"
   ]
  },
  {
   "cell_type": "code",
   "execution_count": null,
   "metadata": {
    "colab": {
     "base_uri": "https://localhost:8080/"
    },
    "executionInfo": {
     "elapsed": 344,
     "status": "ok",
     "timestamp": 1609811543880,
     "user": {
      "displayName": "Jesse Chiem",
      "photoUrl": "https://lh3.googleusercontent.com/a-/AOh14GiL1yBOEBcDxob4MGALY615iS6wz7cYh7WVsUON=s64",
      "userId": "09481396300034805926"
     },
     "user_tz": 480
    },
    "id": "qmyYUMeOssfx",
    "outputId": "6e3402ad-46e5-4e1a-8445-0e762a7dc520"
   },
   "outputs": [
    {
     "data": {
      "text/plain": [
       "str"
      ]
     },
     "execution_count": 12,
     "metadata": {
      "tags": []
     },
     "output_type": "execute_result"
    }
   ],
   "source": [
    "type(city_name)"
   ]
  },
  {
   "cell_type": "markdown",
   "metadata": {
    "id": "rsGHQZSzqbSS"
   },
   "source": [
    "#### Exercise 2 Create and change some variables\n",
    "\n",
    "Start by initializing a variable named `hundred` and assign it an integer value of 100 in the code cell below."
   ]
  },
  {
   "cell_type": "code",
   "execution_count": null,
   "metadata": {
    "id": "H0kN8B7nJKw-"
   },
   "outputs": [],
   "source": [
    "hundred = 100"
   ]
  },
  {
   "cell_type": "markdown",
   "metadata": {
    "id": "-XegPJ7FXVXS"
   },
   "source": [
    "Now create another variable called `best_school` and assign it the string value of `\"University of Washington\"` in the code cell below."
   ]
  },
  {
   "cell_type": "code",
   "execution_count": null,
   "metadata": {
    "id": "kQZ474iMXzfg"
   },
   "outputs": [],
   "source": [
    "best_school = \"University of Washington\""
   ]
  },
  {
   "cell_type": "markdown",
   "metadata": {
    "id": "kykMX4fyaQSD"
   },
   "source": [
    "There are many more variable types to explore in Python, both ones built-in to Python and ones created by open-source libraries. The next tutorials this week will cover more of these types, such as lists and DataFrames."
   ]
  },
  {
   "cell_type": "markdown",
   "metadata": {
    "id": "UHwvZ0WuxLPd"
   },
   "source": [
    "### 1.1.4 Math with Python"
   ]
  },
  {
   "cell_type": "markdown",
   "metadata": {
    "id": "HYGrEJ-Dp9Fm"
   },
   "source": [
    "#### Basic Operators"
   ]
  },
  {
   "cell_type": "markdown",
   "metadata": {
    "id": "Jb8n2Xl_jQLr"
   },
   "source": [
    "Python allows users to performing mathematical operations fairly easily. As many tutorials will explain, you can use Python just like a calculator! The most basic operation, adding 1 with 1, is as follows, using the plus sign (`+`) for addition:"
   ]
  },
  {
   "cell_type": "code",
   "execution_count": null,
   "metadata": {
    "colab": {
     "base_uri": "https://localhost:8080/"
    },
    "executionInfo": {
     "elapsed": 356,
     "status": "ok",
     "timestamp": 1609811753291,
     "user": {
      "displayName": "Jesse Chiem",
      "photoUrl": "https://lh3.googleusercontent.com/a-/AOh14GiL1yBOEBcDxob4MGALY615iS6wz7cYh7WVsUON=s64",
      "userId": "09481396300034805926"
     },
     "user_tz": 480
    },
    "id": "4B4-cH_ElHyS",
    "outputId": "b4b4becd-797d-4f0c-8e43-dc42e8949541"
   },
   "outputs": [
    {
     "data": {
      "text/plain": [
       "2"
      ]
     },
     "execution_count": 15,
     "metadata": {
      "tags": []
     },
     "output_type": "execute_result"
    }
   ],
   "source": [
    "1 + 1"
   ]
  },
  {
   "cell_type": "markdown",
   "metadata": {
    "id": "QXmWFmTal4cO"
   },
   "source": [
    "Subtraction is done with the minus sign in Python (`-`) and also works as expected here:"
   ]
  },
  {
   "cell_type": "code",
   "execution_count": null,
   "metadata": {
    "colab": {
     "base_uri": "https://localhost:8080/"
    },
    "executionInfo": {
     "elapsed": 350,
     "status": "ok",
     "timestamp": 1609811766509,
     "user": {
      "displayName": "Jesse Chiem",
      "photoUrl": "https://lh3.googleusercontent.com/a-/AOh14GiL1yBOEBcDxob4MGALY615iS6wz7cYh7WVsUON=s64",
      "userId": "09481396300034805926"
     },
     "user_tz": 480
    },
    "id": "2SPgHLcgl-td",
    "outputId": "8a8c93b7-b485-44ad-ab3b-abdeb01786ea"
   },
   "outputs": [
    {
     "data": {
      "text/plain": [
       "13"
      ]
     },
     "execution_count": 16,
     "metadata": {
      "tags": []
     },
     "output_type": "execute_result"
    }
   ],
   "source": [
    "45 - 32"
   ]
  },
  {
   "cell_type": "markdown",
   "metadata": {
    "id": "QlIaCKzjmk8L"
   },
   "source": [
    "Multiplication is performed by the asterisk sign (`*`) in Python:"
   ]
  },
  {
   "cell_type": "code",
   "execution_count": null,
   "metadata": {
    "colab": {
     "base_uri": "https://localhost:8080/"
    },
    "executionInfo": {
     "elapsed": 354,
     "status": "ok",
     "timestamp": 1609811791322,
     "user": {
      "displayName": "Jesse Chiem",
      "photoUrl": "https://lh3.googleusercontent.com/a-/AOh14GiL1yBOEBcDxob4MGALY615iS6wz7cYh7WVsUON=s64",
      "userId": "09481396300034805926"
     },
     "user_tz": 480
    },
    "id": "8OVgqvpImusg",
    "outputId": "feda909c-f3cc-4038-a84a-d8cca79a7091"
   },
   "outputs": [
    {
     "data": {
      "text/plain": [
       "1080"
      ]
     },
     "execution_count": 17,
     "metadata": {
      "tags": []
     },
     "output_type": "execute_result"
    }
   ],
   "source": [
    "12 * 90"
   ]
  },
  {
   "cell_type": "markdown",
   "metadata": {
    "id": "oZE3zLHwmZiB"
   },
   "source": [
    "You may combine as many arithmetic operators in one line as you need:"
   ]
  },
  {
   "cell_type": "code",
   "execution_count": null,
   "metadata": {
    "colab": {
     "base_uri": "https://localhost:8080/"
    },
    "executionInfo": {
     "elapsed": 338,
     "status": "ok",
     "timestamp": 1609811803935,
     "user": {
      "displayName": "Jesse Chiem",
      "photoUrl": "https://lh3.googleusercontent.com/a-/AOh14GiL1yBOEBcDxob4MGALY615iS6wz7cYh7WVsUON=s64",
      "userId": "09481396300034805926"
     },
     "user_tz": 480
    },
    "id": "5b1coj7um4H_",
    "outputId": "f5776747-ebd7-4297-9202-d9e9e737f5ec"
   },
   "outputs": [
    {
     "data": {
      "text/plain": [
       "103"
      ]
     },
     "execution_count": 18,
     "metadata": {
      "tags": []
     },
     "output_type": "execute_result"
    }
   ],
   "source": [
    "8 + 5 * 14 - 7 + 14 * 3 - 10"
   ]
  },
  {
   "cell_type": "markdown",
   "metadata": {
    "id": "tSIC7_mFZOim"
   },
   "source": [
    "And based on the data type, you can peform the same mathematical operations for variables. Suppose `a = 12` and `b = 24` are already defined, we can multiply the two variables together by simply referring to their names and using Python's multiplication operator: `a * b`."
   ]
  },
  {
   "cell_type": "code",
   "execution_count": null,
   "metadata": {
    "colab": {
     "base_uri": "https://localhost:8080/"
    },
    "executionInfo": {
     "elapsed": 370,
     "status": "ok",
     "timestamp": 1609811856873,
     "user": {
      "displayName": "Jesse Chiem",
      "photoUrl": "https://lh3.googleusercontent.com/a-/AOh14GiL1yBOEBcDxob4MGALY615iS6wz7cYh7WVsUON=s64",
      "userId": "09481396300034805926"
     },
     "user_tz": 480
    },
    "id": "5im2YxY7Zm3i",
    "outputId": "f56b5ea0-e29b-4236-aa7b-7913e0578bd5"
   },
   "outputs": [
    {
     "data": {
      "text/plain": [
       "288"
      ]
     },
     "execution_count": 19,
     "metadata": {
      "tags": []
     },
     "output_type": "execute_result"
    }
   ],
   "source": [
    "a = 12\n",
    "b = 24\n",
    "a * b"
   ]
  },
  {
   "cell_type": "markdown",
   "metadata": {
    "id": "ICnxDrtlqQjI"
   },
   "source": [
    "#### Exercise 3 Discover More Operators On Your Own!\n",
    "\n",
    "Beyond the three arithmetic operators we have just demonstrated for you, there are more in Python to discover. To start, try typing `14 / 4` in the empty code cell below:"
   ]
  },
  {
   "cell_type": "code",
   "execution_count": null,
   "metadata": {
    "colab": {
     "base_uri": "https://localhost:8080/"
    },
    "executionInfo": {
     "elapsed": 351,
     "status": "ok",
     "timestamp": 1609811898071,
     "user": {
      "displayName": "Jesse Chiem",
      "photoUrl": "https://lh3.googleusercontent.com/a-/AOh14GiL1yBOEBcDxob4MGALY615iS6wz7cYh7WVsUON=s64",
      "userId": "09481396300034805926"
     },
     "user_tz": 480
    },
    "id": "O4gajr4nq9hd",
    "outputId": "1f4f0262-6b4e-424e-a322-8cd5524c26b1"
   },
   "outputs": [
    {
     "data": {
      "text/plain": [
       "3.5"
      ]
     },
     "execution_count": 20,
     "metadata": {
      "tags": []
     },
     "output_type": "execute_result"
    }
   ],
   "source": [
    "14 / 4"
   ]
  },
  {
   "cell_type": "markdown",
   "metadata": {
    "id": "uHG35IFyrCAF"
   },
   "source": [
    "Just by typing the computation and seeing the output on your own, you can quickly recognize that `/` is a division operator. Now try `14 % 4` in the empty code below. From the output, can you guess what the `%` sign in Python accomplishes here?"
   ]
  },
  {
   "cell_type": "code",
   "execution_count": null,
   "metadata": {
    "colab": {
     "base_uri": "https://localhost:8080/"
    },
    "executionInfo": {
     "elapsed": 341,
     "status": "ok",
     "timestamp": 1609811950268,
     "user": {
      "displayName": "Jesse Chiem",
      "photoUrl": "https://lh3.googleusercontent.com/a-/AOh14GiL1yBOEBcDxob4MGALY615iS6wz7cYh7WVsUON=s64",
      "userId": "09481396300034805926"
     },
     "user_tz": 480
    },
    "id": "kekjRYDXrnlo",
    "outputId": "c29869de-2768-4c73-873b-911dcbeca625"
   },
   "outputs": [
    {
     "data": {
      "text/plain": [
       "2"
      ]
     },
     "execution_count": 21,
     "metadata": {
      "tags": []
     },
     "output_type": "execute_result"
    }
   ],
   "source": [
    "14 % 4"
   ]
  },
  {
   "cell_type": "code",
   "execution_count": null,
   "metadata": {
    "colab": {
     "base_uri": "https://localhost:8080/"
    },
    "executionInfo": {
     "elapsed": 344,
     "status": "ok",
     "timestamp": 1609812179049,
     "user": {
      "displayName": "Jesse Chiem",
      "photoUrl": "https://lh3.googleusercontent.com/a-/AOh14GiL1yBOEBcDxob4MGALY615iS6wz7cYh7WVsUON=s64",
      "userId": "09481396300034805926"
     },
     "user_tz": 480
    },
    "id": "Z9SE4AEmR0E6",
    "outputId": "ef4df9d8-3d1e-4c46-d332-9f8d81a74153"
   },
   "outputs": [
    {
     "name": "stdout",
     "output_type": "stream",
     "text": [
      "2\n"
     ]
    }
   ],
   "source": [
    "y = 14 % 4\n",
    "print(y)"
   ]
  },
  {
   "cell_type": "markdown",
   "metadata": {
    "id": "TSwfSd-JnDFh"
   },
   "source": [
    "#### Exercise 4 Order of Operations\n",
    "\n"
   ]
  },
  {
   "cell_type": "markdown",
   "metadata": {
    "id": "m7qQN6SwnQoL"
   },
   "source": [
    "Please be aware that order or operations apply for programming as well, and Python is no exception. Python follows operator precedence, specifically **PEMDAS** - any operations in parentheses (**P**) take precedence, followed by exponents (**E**), multiplication (**M**) & division (**D**), and then addition (**A**) & subtraction (**S**). Run the following code:"
   ]
  },
  {
   "cell_type": "code",
   "execution_count": null,
   "metadata": {
    "colab": {
     "base_uri": "https://localhost:8080/"
    },
    "executionInfo": {
     "elapsed": 378,
     "status": "ok",
     "timestamp": 1609812267249,
     "user": {
      "displayName": "Jesse Chiem",
      "photoUrl": "https://lh3.googleusercontent.com/a-/AOh14GiL1yBOEBcDxob4MGALY615iS6wz7cYh7WVsUON=s64",
      "userId": "09481396300034805926"
     },
     "user_tz": 480
    },
    "id": "ugXpDOBPo5ze",
    "outputId": "f04f8d56-84b1-4edf-e10c-3082288db4ee"
   },
   "outputs": [
    {
     "data": {
      "text/plain": [
       "16"
      ]
     },
     "execution_count": 25,
     "metadata": {
      "tags": []
     },
     "output_type": "execute_result"
    }
   ],
   "source": [
    "4 * 3 + 4"
   ]
  },
  {
   "cell_type": "markdown",
   "metadata": {
    "id": "ZpvDtrYFo9tF"
   },
   "source": [
    "While that was straightforward, let's modify it to wrap parentheses around `3 + 4`. When you execute the code cell below, what output do you receive now?"
   ]
  },
  {
   "cell_type": "code",
   "execution_count": null,
   "metadata": {
    "colab": {
     "base_uri": "https://localhost:8080/"
    },
    "executionInfo": {
     "elapsed": 402,
     "status": "ok",
     "timestamp": 1609812282175,
     "user": {
      "displayName": "Jesse Chiem",
      "photoUrl": "https://lh3.googleusercontent.com/a-/AOh14GiL1yBOEBcDxob4MGALY615iS6wz7cYh7WVsUON=s64",
      "userId": "09481396300034805926"
     },
     "user_tz": 480
    },
    "id": "YPWAAyFJpHRj",
    "outputId": "ea1b2f43-5d0d-4aaa-a0f4-c72773281c91"
   },
   "outputs": [
    {
     "data": {
      "text/plain": [
       "28"
      ]
     },
     "execution_count": 26,
     "metadata": {
      "tags": []
     },
     "output_type": "execute_result"
    }
   ],
   "source": [
    "4 * (3 + 4)"
   ]
  },
  {
   "cell_type": "markdown",
   "metadata": {
    "id": "bNrcABwOyErM"
   },
   "source": [
    "#### The difference between 5, 5.0, and \"5\"\n",
    "\n",
    "While more complex computations are possible beyond the basics that we just covered, you should first understand how mixing variable types can lead to errors and unexpected output. Consider two variables, `num1 = 5` and `num2 = 5.0`. From what you learned in section 1.1.3, `num1` represents an integer, while `num2` represents a float."
   ]
  },
  {
   "cell_type": "code",
   "execution_count": null,
   "metadata": {
    "id": "35Ox6koJbtlN"
   },
   "outputs": [],
   "source": [
    "num1 = 5\n",
    "num2 = 5.0"
   ]
  },
  {
   "cell_type": "markdown",
   "metadata": {
    "id": "UEoNUPotcL6o"
   },
   "source": [
    "For this example, what happens when we add `num1` and `num2` together in Python, as in, run the code `num1 + num2`?"
   ]
  },
  {
   "cell_type": "code",
   "execution_count": null,
   "metadata": {
    "colab": {
     "base_uri": "https://localhost:8080/"
    },
    "executionInfo": {
     "elapsed": 367,
     "status": "ok",
     "timestamp": 1609812376139,
     "user": {
      "displayName": "Jesse Chiem",
      "photoUrl": "https://lh3.googleusercontent.com/a-/AOh14GiL1yBOEBcDxob4MGALY615iS6wz7cYh7WVsUON=s64",
      "userId": "09481396300034805926"
     },
     "user_tz": 480
    },
    "id": "n9UoBoGHcbKp",
    "outputId": "eb9fb3fc-1a0b-49f5-923b-4ef5797ff999"
   },
   "outputs": [
    {
     "data": {
      "text/plain": [
       "10.0"
      ]
     },
     "execution_count": 28,
     "metadata": {
      "tags": []
     },
     "output_type": "execute_result"
    }
   ],
   "source": [
    "num1 + num2"
   ]
  },
  {
   "cell_type": "markdown",
   "metadata": {
    "id": "EXmqyc8dcobd"
   },
   "source": [
    "As you see from the output of that operation, the result is 10.0, which is a float. **_What this means is that for any operation that uses a float type in Python, the default type of the result will also be a float_**. In this example, mixing an integer (`num1`) and float (`num2`) together by addition resulted in 10.0 and not 10, even if the sum is a whole number. Although mixing the two data types did not cause a runtime error, you should recognize this behavior in the near future, when such computations result in output that you may not expect - and possibly lead you to some functionality that causes an error elsewhere.\n",
    "\n",
    "Finally, let's discuss a third variable, called `num3`, and let's assign it a value of `\"5\"`."
   ]
  },
  {
   "cell_type": "code",
   "execution_count": null,
   "metadata": {
    "id": "3U1EogFPeC1v"
   },
   "outputs": [],
   "source": [
    "num3 = \"5\""
   ]
  },
  {
   "cell_type": "markdown",
   "metadata": {
    "id": "5mP7TgAzeEgD"
   },
   "source": [
    "If we try adding `num1` with `num3`, or 5 + \"5\", what is our output now from the code `num1 + num3`?"
   ]
  },
  {
   "cell_type": "code",
   "execution_count": null,
   "metadata": {
    "colab": {
     "base_uri": "https://localhost:8080/",
     "height": 164
    },
    "executionInfo": {
     "elapsed": 397,
     "status": "error",
     "timestamp": 1609812452111,
     "user": {
      "displayName": "Jesse Chiem",
      "photoUrl": "https://lh3.googleusercontent.com/a-/AOh14GiL1yBOEBcDxob4MGALY615iS6wz7cYh7WVsUON=s64",
      "userId": "09481396300034805926"
     },
     "user_tz": 480
    },
    "id": "eHnGROTXefmU",
    "outputId": "2c4c1287-16f5-4974-bbce-405894a1b963"
   },
   "outputs": [
    {
     "ename": "TypeError",
     "evalue": "ignored",
     "output_type": "error",
     "traceback": [
      "\u001b[0;31m---------------------------------------------------------------------------\u001b[0m",
      "\u001b[0;31mTypeError\u001b[0m                                 Traceback (most recent call last)",
      "\u001b[0;32m<ipython-input-30-976865fa96c2>\u001b[0m in \u001b[0;36m<module>\u001b[0;34m()\u001b[0m\n\u001b[0;32m----> 1\u001b[0;31m \u001b[0mnum1\u001b[0m \u001b[0;34m+\u001b[0m \u001b[0mnum3\u001b[0m\u001b[0;34m\u001b[0m\u001b[0;34m\u001b[0m\u001b[0m\n\u001b[0m",
      "\u001b[0;31mTypeError\u001b[0m: unsupported operand type(s) for +: 'int' and 'str'"
     ]
    }
   ],
   "source": [
    "num1 + num3"
   ]
  },
  {
   "cell_type": "markdown",
   "metadata": {
    "id": "Vwo1AIKmejfK"
   },
   "source": [
    "The output is neither a 10 or a 10.0 - instead, we receive a TypeError. **_Python does not allow you to perform mathematical operations with an integer and string together_**. Because `num1` is an integer, and `num3` is a string type - given the double quotes around 5 - adding the two together in Python results in this TypeError, even if the string represents a numeric character.\n",
    "\n",
    "The same goes for combining floats with strings: is our output from the code `num2` (float) and `num3` (string) any different?"
   ]
  },
  {
   "cell_type": "code",
   "execution_count": null,
   "metadata": {
    "colab": {
     "base_uri": "https://localhost:8080/",
     "height": 164
    },
    "executionInfo": {
     "elapsed": 355,
     "status": "error",
     "timestamp": 1609812515114,
     "user": {
      "displayName": "Jesse Chiem",
      "photoUrl": "https://lh3.googleusercontent.com/a-/AOh14GiL1yBOEBcDxob4MGALY615iS6wz7cYh7WVsUON=s64",
      "userId": "09481396300034805926"
     },
     "user_tz": 480
    },
    "id": "e-F4u2-wfez_",
    "outputId": "62f8b8e0-63c8-4581-aaa4-314864b977b4"
   },
   "outputs": [
    {
     "ename": "TypeError",
     "evalue": "ignored",
     "output_type": "error",
     "traceback": [
      "\u001b[0;31m---------------------------------------------------------------------------\u001b[0m",
      "\u001b[0;31mTypeError\u001b[0m                                 Traceback (most recent call last)",
      "\u001b[0;32m<ipython-input-31-78b73f907e8d>\u001b[0m in \u001b[0;36m<module>\u001b[0;34m()\u001b[0m\n\u001b[0;32m----> 1\u001b[0;31m \u001b[0mnum2\u001b[0m \u001b[0;34m+\u001b[0m \u001b[0mnum3\u001b[0m\u001b[0;34m\u001b[0m\u001b[0;34m\u001b[0m\u001b[0m\n\u001b[0m",
      "\u001b[0;31mTypeError\u001b[0m: unsupported operand type(s) for +: 'float' and 'str'"
     ]
    }
   ],
   "source": [
    "num2 + num3"
   ]
  },
  {
   "cell_type": "markdown",
   "metadata": {
    "id": "RUizK1mwfgov"
   },
   "source": [
    "Nope! Same TypeError results here. One workaround/solution for this is converting the `num3` string variable into either a float or a integer, using Python's built-in `float()` and `int()` functions respectively. Let's try adding `num1` and `num3` again, only this time using `int()` to convert `num3` into an integer type, running the full line of code as `num1 + int(num3)`."
   ]
  },
  {
   "cell_type": "code",
   "execution_count": null,
   "metadata": {
    "colab": {
     "base_uri": "https://localhost:8080/"
    },
    "executionInfo": {
     "elapsed": 370,
     "status": "ok",
     "timestamp": 1609812577288,
     "user": {
      "displayName": "Jesse Chiem",
      "photoUrl": "https://lh3.googleusercontent.com/a-/AOh14GiL1yBOEBcDxob4MGALY615iS6wz7cYh7WVsUON=s64",
      "userId": "09481396300034805926"
     },
     "user_tz": 480
    },
    "id": "ZqAR-cgIgN6O",
    "outputId": "ad675ad9-cd13-42d7-f4b3-69a970c74b36"
   },
   "outputs": [
    {
     "data": {
      "text/plain": [
       "10"
      ]
     },
     "execution_count": 32,
     "metadata": {
      "tags": []
     },
     "output_type": "execute_result"
    }
   ],
   "source": [
    "num1 + int(num3)"
   ]
  },
  {
   "cell_type": "markdown",
   "metadata": {
    "id": "kU4U-xytgSiN"
   },
   "source": [
    "This time, we get no TypeError - the output is 10! Without diving too much further into the intricacies of these conversion functions - the concept of functions themselves will be covered in more detail tomorrow! - just be aware that this example only works because the string represented by `num3` was a valid convertible string (\"5\") to begin with. In other words, if `num3` was \"Five\" instead of \"5\", we would not be able to execute `int(num3)` without getting an error."
   ]
  },
  {
   "cell_type": "code",
   "execution_count": null,
   "metadata": {
    "colab": {
     "base_uri": "https://localhost:8080/"
    },
    "executionInfo": {
     "elapsed": 341,
     "status": "ok",
     "timestamp": 1609812648390,
     "user": {
      "displayName": "Jesse Chiem",
      "photoUrl": "https://lh3.googleusercontent.com/a-/AOh14GiL1yBOEBcDxob4MGALY615iS6wz7cYh7WVsUON=s64",
      "userId": "09481396300034805926"
     },
     "user_tz": 480
    },
    "id": "HZFMCJuxhjkp",
    "outputId": "37885099-d5b1-4fdd-981e-a1a6e2228ea1"
   },
   "outputs": [
    {
     "data": {
      "text/plain": [
       "10"
      ]
     },
     "execution_count": 34,
     "metadata": {
      "tags": []
     },
     "output_type": "execute_result"
    }
   ],
   "source": [
    "num3 = \"Five\"\n",
    "#int(num3)\n",
    "int(10.5)"
   ]
  },
  {
   "cell_type": "markdown",
   "metadata": {
    "id": "JJBoSOndHI5B"
   },
   "source": [
    "### 1.1.5 Code comments with '#'"
   ]
  },
  {
   "cell_type": "markdown",
   "metadata": {
    "id": "Dbq4xN9bIrhv"
   },
   "source": [
    "Comments are notes in your code, and can serve many purposes, such as:\n",
    "- Describing the functionality of some code \n",
    "- A reminder to fix an existing issue\n",
    "- Clarify details of some code for yourself and/or others\n",
    "\n",
    "**_You can create a comment by using '#', and when the Python interpreter sees this syntax, it doesn't run that as code and recognizes it as a comment instead_**. For example, for a mathematical operation, let's add a comment at the end of the line to describe what this performs:"
   ]
  },
  {
   "cell_type": "code",
   "execution_count": null,
   "metadata": {
    "colab": {
     "base_uri": "https://localhost:8080/"
    },
    "executionInfo": {
     "elapsed": 353,
     "status": "ok",
     "timestamp": 1609812766574,
     "user": {
      "displayName": "Jesse Chiem",
      "photoUrl": "https://lh3.googleusercontent.com/a-/AOh14GiL1yBOEBcDxob4MGALY615iS6wz7cYh7WVsUON=s64",
      "userId": "09481396300034805926"
     },
     "user_tz": 480
    },
    "id": "sh_X96DbJBpe",
    "outputId": "17da3448-0226-42e4-c842-e668ea9b9747"
   },
   "outputs": [
    {
     "data": {
      "text/plain": [
       "7"
      ]
     },
     "execution_count": 35,
     "metadata": {
      "tags": []
     },
     "output_type": "execute_result"
    }
   ],
   "source": [
    "2 + 5  # Adds 2 to 5, so we get 7"
   ]
  },
  {
   "cell_type": "markdown",
   "metadata": {
    "id": "PKzXxiUfJScB"
   },
   "source": [
    "In this case, the `# Adds 2 to 5, so we get 7` part of the previous line of code was a comment appended to the end of the Python code, `2 + 5`. By adding that '#' character, Python knows everything after that character is a comment. Additionally, you can write comments on their own line(s) of code: "
   ]
  },
  {
   "cell_type": "code",
   "execution_count": null,
   "metadata": {
    "colab": {
     "base_uri": "https://localhost:8080/"
    },
    "executionInfo": {
     "elapsed": 361,
     "status": "ok",
     "timestamp": 1609812788275,
     "user": {
      "displayName": "Jesse Chiem",
      "photoUrl": "https://lh3.googleusercontent.com/a-/AOh14GiL1yBOEBcDxob4MGALY615iS6wz7cYh7WVsUON=s64",
      "userId": "09481396300034805926"
     },
     "user_tz": 480
    },
    "id": "lYDOv-wmKbb_",
    "outputId": "f0c95834-34a6-4e54-ff68-001538eb004c"
   },
   "outputs": [
    {
     "data": {
      "text/plain": [
       "7"
      ]
     },
     "execution_count": 36,
     "metadata": {
      "tags": []
     },
     "output_type": "execute_result"
    }
   ],
   "source": [
    "# Adds 2 to 5, so we get 7\n",
    "2 + 5"
   ]
  },
  {
   "cell_type": "markdown",
   "metadata": {
    "id": "8lLWjpXoK1Tg"
   },
   "source": [
    "You may use this syntax for code that you may not want to execute, but still save for future reference or revision. To do this, you can simply add '#' at the very beginning of the line you wish to comment. In the following example, I've turned the first line of the code in this cell into a comment so it won't run:"
   ]
  },
  {
   "cell_type": "code",
   "execution_count": null,
   "metadata": {
    "colab": {
     "base_uri": "https://localhost:8080/"
    },
    "executionInfo": {
     "elapsed": 392,
     "status": "ok",
     "timestamp": 1609812829790,
     "user": {
      "displayName": "Jesse Chiem",
      "photoUrl": "https://lh3.googleusercontent.com/a-/AOh14GiL1yBOEBcDxob4MGALY615iS6wz7cYh7WVsUON=s64",
      "userId": "09481396300034805926"
     },
     "user_tz": 480
    },
    "id": "HTCjhO2eLQiX",
    "outputId": "976026ae-301a-471a-f2bb-322ce07d904f"
   },
   "outputs": [
    {
     "name": "stdout",
     "output_type": "stream",
     "text": [
      "There should be one line printed from this cell, and should be this one.\n"
     ]
    }
   ],
   "source": [
    "# print(\"I commented out this line of code so you won't see this statement printed\")\n",
    "print(\"There should be one line printed from this cell, and should be this one.\")"
   ]
  },
  {
   "cell_type": "markdown",
   "metadata": {
    "id": "v-bNrZ9ZxO8J"
   },
   "source": [
    "#### Exercise 5 Add a comment to a line of code"
   ]
  },
  {
   "cell_type": "markdown",
   "metadata": {
    "id": "ZcJM9ESHe4Fc"
   },
   "source": [
    "Let's write a comment that explains the following line of code, `25 % 7`."
   ]
  },
  {
   "cell_type": "code",
   "execution_count": null,
   "metadata": {
    "colab": {
     "base_uri": "https://localhost:8080/"
    },
    "executionInfo": {
     "elapsed": 361,
     "status": "ok",
     "timestamp": 1609812888786,
     "user": {
      "displayName": "Jesse Chiem",
      "photoUrl": "https://lh3.googleusercontent.com/a-/AOh14GiL1yBOEBcDxob4MGALY615iS6wz7cYh7WVsUON=s64",
      "userId": "09481396300034805926"
     },
     "user_tz": 480
    },
    "id": "sDHU8setfOot",
    "outputId": "15117138-e5c9-4327-bed4-99c2b16c7bcb"
   },
   "outputs": [
    {
     "data": {
      "text/plain": [
       "4"
      ]
     },
     "execution_count": 39,
     "metadata": {
      "tags": []
     },
     "output_type": "execute_result"
    }
   ],
   "source": [
    "25 % 7 # the remainder from 25 divided by 7"
   ]
  },
  {
   "cell_type": "markdown",
   "metadata": {
    "id": "p1s8OPWqfYfv"
   },
   "source": [
    "Comments in your code are optional, but are recommended to help better inform readers of your code. Building a habit of writing comments may even help you understand and better explain your own code too!  "
   ]
  },
  {
   "cell_type": "markdown",
   "metadata": {
    "id": "_dWpBFg1TWQi"
   },
   "source": [
    "### 1.1.6 Where can you run Python?\n",
    "\n",
    "\n",
    "\n"
   ]
  },
  {
   "cell_type": "markdown",
   "metadata": {
    "id": "uZiljFyuh0eG"
   },
   "source": [
    "Because of its flexibility as a programming language, Python can be utilized in many different ways. Here are just a few:\n",
    "\n",
    "- Line by line in a Python interpreter in a command line Terminal window\n",
    "- As a script that you execute from the command line\n",
    "- Using Python to create a full GUI (Graphical User Interface) that runs on your desktop computer\n",
    "- Executing Python directly from an IDE (Integrated Development Environment) such as [PyCharm](https://www.jetbrains.com/pycharm/) or [Visual Studio Code](https://code.visualstudio.com)\n",
    "- Executing Python code with an app that has a built-in Python interpreter, such as [Pythonista](http://omz-software.com/pythonista/)\n",
    "- Developing and running Python code in interactive notebooks like Jupyter Notebook\n",
    "- Executing Python on a cloud platform \\- such as here in this Google Colab notebook\n",
    "\n",
    "You don't need to understand every example that was just listed. Instead, the point is for us to recognize how ubiquitous Python has become. We're about to focus on the last two items on this list in the very next section!"
   ]
  },
  {
   "cell_type": "markdown",
   "metadata": {
    "id": "OWiIHY9Z6HCy"
   },
   "source": [
    "There's much more to learn with Python! So far, we've only introduced a small fraction of what's possible with this language and, more generally speaking, coding. The rest of the C-HACK tutorials will dive more into your many questions of how we'll utilize Python. "
   ]
  },
  {
   "cell_type": "markdown",
   "metadata": {
    "id": "wTy1SsQjaaU0"
   },
   "source": [
    "## 1.2 Let's talk about interactive notebooks..."
   ]
  },
  {
   "cell_type": "markdown",
   "metadata": {
    "id": "TeeWIVytrcO-"
   },
   "source": [
    "### 1.2.1 Using interactive notebooks for code vs any other way\n",
    "\n",
    "After just having discussed the many ways you can deploy and develop Python, we'll focus on the one way that will be used for our Hackathon: interactive Python notebooks. Such notebooks - like the one you're viewing right now - are self-contained collections of interactive cells that can be modified and presented like a scientific notebook. **_By allowing us to combine code with formattable text, images, and interactive data visualizations, this gives us a great way to share and collaborate with others on our work._**\n",
    "\n",
    "We'll next explore the proper interactive Python notebook type that you'll get quite familiar with during the Hackathon: Jupyter Notebooks."
   ]
  },
  {
   "cell_type": "markdown",
   "metadata": {
    "id": "cpv4Oqqv0Gy3"
   },
   "source": [
    "### 1.2.2 Introducing Jupyter Notebooks\n",
    "\n",
    "Jupyter Notebooks is based on IPython, or Interactive Python. In fact, Jupyter notebooks were formerly known as IPython notebooks. Discussing the underlying IPython kernel which powers these notebooks is beyond the scope of this tutorial; however, it's important to, at least, recognize where the *.ipynb* filename extension comes from."
   ]
  },
  {
   "cell_type": "markdown",
   "metadata": {
    "id": "HKXTJHtX1csI"
   },
   "source": [
    "With Jupyter Notebooks, we can utilize the Python language right in a single self-contained environment of code, such as initializing and managing **variables**:"
   ]
  },
  {
   "cell_type": "code",
   "execution_count": null,
   "metadata": {
    "id": "zcdXbaOz1ajb"
   },
   "outputs": [],
   "source": [
    "var1 = \"A\"\n",
    "var2 = \"B\"\n",
    "var3 = [\"A\", \"B\", \"C\"]"
   ]
  },
  {
   "cell_type": "markdown",
   "metadata": {
    "id": "-wvmpsFH1-ZJ"
   },
   "source": [
    "We can also write **functions** that can be used later on in a notebook:"
   ]
  },
  {
   "cell_type": "code",
   "execution_count": null,
   "metadata": {
    "colab": {
     "base_uri": "https://localhost:8080/"
    },
    "executionInfo": {
     "elapsed": 360,
     "status": "ok",
     "timestamp": 1609813326579,
     "user": {
      "displayName": "Jesse Chiem",
      "photoUrl": "https://lh3.googleusercontent.com/a-/AOh14GiL1yBOEBcDxob4MGALY615iS6wz7cYh7WVsUON=s64",
      "userId": "09481396300034805926"
     },
     "user_tz": 480
    },
    "id": "k1T8OfLD2FQi",
    "outputId": "ddfd7ee0-179e-466c-a8ff-55478268414a"
   },
   "outputs": [
    {
     "name": "stdout",
     "output_type": "stream",
     "text": [
      "0.3402777777777778\n"
     ]
    }
   ],
   "source": [
    "def some_function(x, y):\n",
    "    return x**2/y**2\n",
    "\n",
    "print(some_function(7,12))"
   ]
  },
  {
   "cell_type": "markdown",
   "metadata": {
    "id": "aGrQSJxV20Bm"
   },
   "source": [
    "Visualizations - such as scatterplots, heatmaps, and charts - can also be generated directly inside of a Jupyter notebook as a cell output, and can be saved as a separate image file. This also makes notebooks useful to generate both visual representations of data and interactive reports on that same data. We'll be covering visualizations in Tutorial 4."
   ]
  },
  {
   "cell_type": "code",
   "execution_count": null,
   "metadata": {
    "colab": {
     "base_uri": "https://localhost:8080/",
     "height": 281
    },
    "executionInfo": {
     "elapsed": 1458,
     "status": "ok",
     "timestamp": 1609813347949,
     "user": {
      "displayName": "Jesse Chiem",
      "photoUrl": "https://lh3.googleusercontent.com/a-/AOh14GiL1yBOEBcDxob4MGALY615iS6wz7cYh7WVsUON=s64",
      "userId": "09481396300034805926"
     },
     "user_tz": 480
    },
    "id": "gaAMvoAg3vbN",
    "outputId": "3e2bf060-feae-4d67-adf0-61dea695350a"
   },
   "outputs": [
    {
     "data": {
      "image/png": "[encoded data removed]",
      "text/plain": [
       "<Figure size 432x288 with 1 Axes>"
      ]
     },
     "metadata": {
      "needs_background": "light",
      "tags": []
     },
     "output_type": "display_data"
    }
   ],
   "source": [
    "from sklearn.datasets import make_blobs\n",
    "import matplotlib.pyplot as plt\n",
    "\n",
    "x, y = make_blobs(n_samples=500, n_features = 3, centers=3)\n",
    "plt.scatter(x[:,0], x[:, 1], marker='o', c=y, s=10)\n",
    "plt.title(\"Example visualization\")\n",
    "plt.show()"
   ]
  },
  {
   "cell_type": "markdown",
   "metadata": {
    "id": "xViGkiU6-MeK"
   },
   "source": [
    "We certainly recognize that much of the code you have just seen may be unfamiliar to you, but these are all simply previews of what we'll be covering for this week! Here are some examples of how Jupyter Notebooks can be utilized:\n",
    "\n",
    "- Reports on data analyses\n",
    "- Data visualizations\n",
    "- Technical writing\n",
    "- Scientific research with code\n",
    "- Tutorials for students in a Hackathon"
   ]
  },
  {
   "cell_type": "markdown",
   "metadata": {
    "id": "tSqJdGHpbIee"
   },
   "source": [
    "### 1.2.3 Code cells vs text cells"
   ]
  },
  {
   "cell_type": "markdown",
   "metadata": {
    "id": "KthV9_Ghb8A-"
   },
   "source": [
    "There are two main types of generated cells in Jupyter notebooks: code cells and text cells. You've seen both at this point. Right now, you're looking a text cell that's been created already by a different user. Think of a cell as just a single entity of your larger work inside of a notebook. Let's start with taking a look at code cells.\n"
   ]
  },
  {
   "cell_type": "markdown",
   "metadata": {
    "id": "KZ01p56Z-Flp"
   },
   "source": [
    "#### Code cells"
   ]
  },
  {
   "cell_type": "markdown",
   "metadata": {
    "id": "8N_N5elcozzb"
   },
   "source": [
    "For writing and executing Python in a notebook, we use code cells. It may sound almost too self-explanatory, and you've already tried out code cells in the exercises from 1.1. To add a new code cell, you can either go to the **Insert** menu and selecting **Code cell**:"
   ]
  },
  {
   "cell_type": "markdown",
   "metadata": {
    "id": "XG6ExtnkpqfV"
   },
   "source": [
    "![Screen Shot 2020-11-29 at 5.08.58 PM.png](data:image/png;base64,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)"
   ]
  },
  {
   "cell_type": "markdown",
   "metadata": {
    "id": "N_KLLedfpx0l"
   },
   "source": [
    "Or by hovering your mouse over to the bottom of a cell and select **\\+ Code**:"
   ]
  },
  {
   "cell_type": "markdown",
   "metadata": {
    "id": "Ru9kPs5zp5EP"
   },
   "source": [
    "![Screen Shot 2020-11-29 at 5.08.27 PM.png](data:image/png;base64,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)"
   ]
  },
  {
   "cell_type": "markdown",
   "metadata": {
    "id": "Py-RuqHDqdtF"
   },
   "source": [
    "#### Exercise 6 Edit A Code Cell\n",
    "\n",
    "So far in this tutorial, you've been creating entirely new code cells to write and execute a few exercises. Now, let's edit an existing cell of Python code. Below, we had our ~~obligatory~~ first exercise that printed \"Hello World!\" as the output. However, the code below, `print(\"Hello World!\"` causes an error, and does not output \"Hello World!\" as we initially expected. What do we need at the very end of the line in order for the print statement to run successfully?"
   ]
  },
  {
   "cell_type": "code",
   "execution_count": null,
   "metadata": {
    "colab": {
     "base_uri": "https://localhost:8080/"
    },
    "executionInfo": {
     "elapsed": 369,
     "status": "ok",
     "timestamp": 1609813534485,
     "user": {
      "displayName": "Jesse Chiem",
      "photoUrl": "https://lh3.googleusercontent.com/a-/AOh14GiL1yBOEBcDxob4MGALY615iS6wz7cYh7WVsUON=s64",
      "userId": "09481396300034805926"
     },
     "user_tz": 480
    },
    "id": "5vMzAjUoq4_x",
    "outputId": "2dca5b70-929d-462b-b051-5b787c532af4"
   },
   "outputs": [
    {
     "name": "stdout",
     "output_type": "stream",
     "text": [
      "Hello World!\n"
     ]
    }
   ],
   "source": [
    "print(\"Hello World!\")"
   ]
  },
  {
   "cell_type": "markdown",
   "metadata": {
    "id": "zNVD2oXFqB_i"
   },
   "source": [
    "Code cells exemplify one possible benefit of running your code in a notebook rather than in a single Python script (.py) file; you can create separate code cells and execute each portion your code separately and as needed. That also means being able to troubleshoot certain lines of code without having to rerun your entire work every time. "
   ]
  },
  {
   "cell_type": "markdown",
   "metadata": {
    "id": "ZuXu5WcntREE"
   },
   "source": [
    "#### Text cells"
   ]
  },
  {
   "cell_type": "markdown",
   "metadata": {
    "id": "8_4cK0Y8lpRK"
   },
   "source": [
    "As the name suggests, a text cell is meant for information and instructions, rather than executing code for assigning variables, importing datasets, or generating plots. One benefit of adding text cells is to help explain code or functionality to viewers of a notebook. You can add a text cell either by going to the **Insert** menu and selecting **Text cell**:\n",
    "\n",
    "![Screen Shot 2020-11-29 at 5.08.58 PM.png](data:image/png;base64,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)\n",
    "\n",
    "Or by hovering your mouse over to the bottom of a cell and selecting **+ Text**:\n",
    "\n",
    "![Screen Shot 2020-11-29 at 5.08.27 PM.png](data:image/png;base64,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)"
   ]
  },
  {
   "cell_type": "markdown",
   "metadata": {
    "id": "zNN9GudI_8Yt"
   },
   "source": [
    "You may edit an existing text cell by just double-clicking on one and editing the code. You can also have as many text cells as you want, cells that comprise technically any word length. Depending on what purpose it needs to serve, such cells may be a description of a data pipeline, or a list of external links (like the ones you'll see at the end of this notebook). Or..."
   ]
  },
  {
   "cell_type": "markdown",
   "metadata": {
    "id": "ei14G9VGAXIJ"
   },
   "source": [
    "You"
   ]
  },
  {
   "cell_type": "markdown",
   "metadata": {
    "id": "RujbPb23AYGN"
   },
   "source": [
    "Can"
   ]
  },
  {
   "cell_type": "markdown",
   "metadata": {
    "id": "_ESCqCdJAYub"
   },
   "source": [
    "Have"
   ]
  },
  {
   "cell_type": "markdown",
   "metadata": {
    "id": "zLs4qy-NAZau"
   },
   "source": [
    "One"
   ]
  },
  {
   "cell_type": "markdown",
   "metadata": {
    "id": "_p-uFu9SAa3M"
   },
   "source": [
    "Word"
   ]
  },
  {
   "cell_type": "markdown",
   "metadata": {
    "id": "4S3gMwoJAbjR"
   },
   "source": [
    "Per"
   ]
  },
  {
   "cell_type": "markdown",
   "metadata": {
    "id": "ScwwuVQPAcZW"
   },
   "source": [
    "Cell"
   ]
  },
  {
   "cell_type": "markdown",
   "metadata": {
    "id": "ztBJ-WFGAdFa"
   },
   "source": [
    "...but we generally don't recommend that!"
   ]
  },
  {
   "cell_type": "markdown",
   "metadata": {
    "id": "0HTjUVzCt3MC"
   },
   "source": [
    "#### Exercise 7 Write a very UW Text cell\n",
    "\n",
    "Create a simple text cell that reads the official tagline of UW (hint: https://www.washington.edu/brand/brand-guide/tagline/)"
   ]
  },
  {
   "cell_type": "markdown",
   "metadata": {
    "id": "F8-NMloIXzvI"
   },
   "source": [
    "Be Boundless"
   ]
  },
  {
   "cell_type": "markdown",
   "metadata": {
    "id": "T871RhLjtHPu"
   },
   "source": [
    "#### Markdown for text cells\n"
   ]
  },
  {
   "cell_type": "markdown",
   "metadata": {
    "id": "dR3YaMlY9X5E"
   },
   "source": [
    "Text cells support Markdown syntax, which is a way to render and format plain text, in addition to giving us more control to structure this text beyond just visually. Markdown is optional and enables you to transform and annotate text within a webpage or here in a Jupyter notebook. **_For text cells, using Markdown improves readability, as a set of formatting conventions that's easy to learn and write_**.\n",
    "\n",
    "*Markdown is a superset of HTML. Discussing HTML is beyond the scope of this tutorial, but there are links to read more about this, later in the notebook.*"
   ]
  },
  {
   "cell_type": "markdown",
   "metadata": {
    "id": "33UpEt-Exv2Y"
   },
   "source": [
    "#### Exercise 8 Discover some Markdown syntax\n",
    "\n",
    "Create a new text cell below with the UW official tagline like before, only this time add `#####` at the beginning of the line. From the output, how does this symbol change the formatting of your text compared to earlier?"
   ]
  },
  {
   "cell_type": "markdown",
   "metadata": {
    "id": "1gadlb-OYVS8"
   },
   "source": [
    "# Be Boundless"
   ]
  },
  {
   "cell_type": "markdown",
   "metadata": {
    "id": "c8m1XCoMyeVW"
   },
   "source": [
    "Now, instead of `#`, add two asterisks, `**`, both before and directly after the tagline. Like previously, type this in a new empty text cell directly below. From the output, what do these asterisks change in the formatting?"
   ]
  },
  {
   "cell_type": "markdown",
   "metadata": {
    "id": "oarJMV98YiLX"
   },
   "source": [
    "**Be Boundless**"
   ]
  },
  {
   "cell_type": "markdown",
   "metadata": {
    "id": "18mBwqHWzAPS"
   },
   "source": [
    "Finally, let's add a `>` at the beginning of the UW tagline, in a new empty code cell. How does this symbol change the text cell output?"
   ]
  },
  {
   "cell_type": "markdown",
   "metadata": {
    "id": "HhT0Che_YuzX"
   },
   "source": [
    "> Be Boundless"
   ]
  },
  {
   "cell_type": "markdown",
   "metadata": {
    "id": "NFBmI-y4ualV"
   },
   "source": [
    "Later in the Breakout section, you'll learn more formatting syntax with Markdown. We also recommend trying out Markdown on a blank new Jupyter notebook for you to experiment with the all the different formatting this markup language has to offer. There is much more to discover with Markdown, and the References section of this notebook gives you a list of resources to learn more."
   ]
  },
  {
   "cell_type": "markdown",
   "metadata": {
    "id": "Zm7N-pX_2WM5"
   },
   "source": [
    "#### Exercise 9 Always double check the type of cell you're running"
   ]
  },
  {
   "cell_type": "code",
   "execution_count": null,
   "metadata": {
    "colab": {
     "base_uri": "https://localhost:8080/",
     "height": 130
    },
    "executionInfo": {
     "elapsed": 330,
     "status": "error",
     "timestamp": 1609814021073,
     "user": {
      "displayName": "Jesse Chiem",
      "photoUrl": "https://lh3.googleusercontent.com/a-/AOh14GiL1yBOEBcDxob4MGALY615iS6wz7cYh7WVsUON=s64",
      "userId": "09481396300034805926"
     },
     "user_tz": 480
    },
    "id": "KbNR7Cbd2UT-",
    "outputId": "4ba9dd57-e5d6-4db3-b534-5cff4eeb7dff"
   },
   "outputs": [
    {
     "ename": "SyntaxError",
     "evalue": "ignored",
     "output_type": "error",
     "traceback": [
      "\u001b[0;36m  File \u001b[0;32m\"<ipython-input-45-8ce2ae11ca2c>\"\u001b[0;36m, line \u001b[0;32m1\u001b[0m\n\u001b[0;31m    It can be easy to mistakenly write something in a code cell, when you actually\u001b[0m\n\u001b[0m         ^\u001b[0m\n\u001b[0;31mSyntaxError\u001b[0m\u001b[0;31m:\u001b[0m invalid syntax\n"
     ]
    }
   ],
   "source": [
    "It can be easy to mistakenly write something in a code cell, when you actually\n",
    "wanted a text cell instead. For example... what happens when you hit the Play\n",
    "button on this particular cell?"
   ]
  },
  {
   "cell_type": "markdown",
   "metadata": {
    "id": "yVIfyMep_VZx"
   },
   "source": [
    "### 1.2.4 Other details on Jupyter Notebooks\n",
    "\n",
    "- Jupyter Notebooks (.ipynb) don't just work with web browsers\n",
    "    - There are IDEs such as **[Visual Studio Code](https://code.visualstudio.com)** that have extensions which allow you to create and these .ipynb files right on the editor.\n",
    "- Python isn't the only language supported by Jupyter, as you can also run notebooks with R and Julia as well, by adding specific computing engines for them.\n",
    "- Notebooks - both in Jupyter and Google Colab - can integrate directly with GitHub repositories"
   ]
  },
  {
   "cell_type": "markdown",
   "metadata": {
    "id": "v4q1c1N60M7Z"
   },
   "source": [
    "### 1.2.5 ...So what does this have to do with Google Colab?"
   ]
  },
  {
   "cell_type": "markdown",
   "metadata": {
    "id": "Do_o5N4M88kv"
   },
   "source": [
    "**Google Colab** is based on Jupyter Notebook. Both the notebook platform and the development machine are hosted right on *Google Cloud Platform* running in your web browser - no need to install Python or external libraries locally on your computer! That also means collaborating with others without them needing to install any local Python installation or external libraries that your shared notebook may rely on.\n",
    "\n",
    "We'll be using Google Colab for this C-HACK 2021 event. That includes all tutorials and projects. As a reminder, you may view our information on getting set up with C-HACK at https://www.c-hack.org/setting-up."
   ]
  },
  {
   "cell_type": "markdown",
   "metadata": {
    "id": "GzBaBW8W457D"
   },
   "source": [
    "Google Colab includes many external Python libraries pre-installed. You've seen examples of these used already! Some of the most popular scientific libraries include:\n",
    "- NumPy\n",
    "- SciPy\n",
    "- Pandas\n",
    "- Scikit-Learn\n",
    "- TensorFlow\n",
    "- Matplotlib\n",
    "\n",
    "To view the full list of installed packages, run the following command:"
   ]
  },
  {
   "cell_type": "code",
   "execution_count": null,
   "metadata": {
    "id": "VGCdLMtb9ivO"
   },
   "outputs": [],
   "source": [
    "!pip freeze"
   ]
  },
  {
   "cell_type": "markdown",
   "metadata": {
    "id": "OsUMuy1ME0SJ"
   },
   "source": [
    "*Note: the exclamation point syntax seen at the beginning of `!pip freeze` is for running Terminal/Shell commands directly within Jupyter notebooks. Terminal commands are outside of the scope of this tutorial.*"
   ]
  },
  {
   "cell_type": "markdown",
   "metadata": {
    "id": "gYkWTZQh-WL-"
   },
   "source": [
    "Google Colab allows you to upload files - either locally or from Google Drive - to use inside of notebook. Evan Komp has created a short, helpful video on how to load a file directly into Google Colab. You can view the video here: https://youtu.be/OYwD4kBuZNw."
   ]
  },
  {
   "cell_type": "markdown",
   "metadata": {
    "id": "-AnBH4qDxk7W"
   },
   "source": [
    "## 1.3 Breakout"
   ]
  },
  {
   "cell_type": "markdown",
   "metadata": {
    "id": "b0HBQbKD5-jx"
   },
   "source": [
    "This first Breakout Room / Session of the tutorial portion of C-HACK will be review of what we just discussed for today."
   ]
  },
  {
   "cell_type": "markdown",
   "metadata": {
    "id": "O4pwVw5ZdIqS"
   },
   "source": [
    "#### 1 Python variables\n",
    "\n",
    "In the empty code cell below, create the following four variables:\n",
    "- A string variable named `favorite_movie` that represents your favorite movie\n",
    "- A string variable named `seattle_restaurant` that represents your favorite restaurant in Seattle\n",
    "- An integer variable named `streaming_video_hours` that represents the whole number of hours you watch any streaming video service (ex. Netflix, Hulu, Disney+) per week ([0 is not an acceptable answer; stop kidding yourself](rev.com/blog/how-gen-z-and-millennials-consume-video-content-what-that-means-for-production-teams)).\n",
    "- A float variable named `headphone_cost` that represents the most money you had to pay, in dollar-cent amount (0.00), for headphones. Do not include a '$' symbol.\n",
    "\n",
    "Then after they are declared, print each one using the print() function explained in section 1.1.2."
   ]
  },
  {
   "cell_type": "code",
   "execution_count": null,
   "metadata": {
    "colab": {
     "base_uri": "https://localhost:8080/"
    },
    "executionInfo": {
     "elapsed": 423,
     "status": "ok",
     "timestamp": 1609816830502,
     "user": {
      "displayName": "Stephanie Valleau",
      "photoUrl": "https://lh3.googleusercontent.com/a-/AOh14GhPxYC_xbIb6qmkXo8iMld6AvpYL5dO54osIaSx=s64",
      "userId": "13099634571785749992"
     },
     "user_tz": 480
    },
    "id": "1AXZpA-cdXKP",
    "outputId": "4c13f8ea-8b69-47a5-c664-16abd9498710"
   },
   "outputs": [
    {
     "name": "stdout",
     "output_type": "stream",
     "text": [
      "<class 'int'>\n"
     ]
    }
   ],
   "source": [
    "favorite_movie = \"jumanji\"\n",
    "jumanji = \"lionking\"\n",
    "seattle_restaurant = \"sunlightcafe\"\n",
    "streaming_video_hours = 10 #int(999999999.999)\n",
    "headphone_cost = 314.05\n",
    "print(type(streaming_video_hours))"
   ]
  },
  {
   "cell_type": "code",
   "execution_count": null,
   "metadata": {
    "colab": {
     "base_uri": "https://localhost:8080/"
    },
    "executionInfo": {
     "elapsed": 358,
     "status": "ok",
     "timestamp": 1609816252792,
     "user": {
      "displayName": "Stephanie Valleau",
      "photoUrl": "https://lh3.googleusercontent.com/a-/AOh14GhPxYC_xbIb6qmkXo8iMld6AvpYL5dO54osIaSx=s64",
      "userId": "13099634571785749992"
     },
     "user_tz": 480
    },
    "id": "GGUS4YLkhZD7",
    "outputId": "e1f7fa8d-e24e-4981-e35f-1336b76570f2"
   },
   "outputs": [
    {
     "name": "stdout",
     "output_type": "stream",
     "text": [
      "jumanji\n",
      "lionking\n",
      "jumanji2\n"
     ]
    }
   ],
   "source": [
    "print(favorite_movie)\n",
    "print(jumanji)\n",
    "print(\"jumanji2\")"
   ]
  },
  {
   "cell_type": "markdown",
   "metadata": {
    "id": "TlvYLQj7gBat"
   },
   "source": [
    "To check if each variable is the correct data type, use the type() function explained from section 1.1.3, in the empty code cell below. For example, `type(favorite_movie)` should return the output `<class 'str'>`, which indicates the string type."
   ]
  },
  {
   "cell_type": "code",
   "execution_count": null,
   "metadata": {
    "colab": {
     "base_uri": "https://localhost:8080/"
    },
    "executionInfo": {
     "elapsed": 430,
     "status": "ok",
     "timestamp": 1609816556442,
     "user": {
      "displayName": "Stephanie Valleau",
      "photoUrl": "https://lh3.googleusercontent.com/a-/AOh14GhPxYC_xbIb6qmkXo8iMld6AvpYL5dO54osIaSx=s64",
      "userId": "13099634571785749992"
     },
     "user_tz": 480
    },
    "id": "bRIVq_3RggLB",
    "outputId": "5709278b-a0e4-4292-f5ea-fb7d727eece9"
   },
   "outputs": [
    {
     "name": "stdout",
     "output_type": "stream",
     "text": [
      "1.240239\n",
      "<class 'float'>\n",
      "<class 'str'>\n"
     ]
    }
   ],
   "source": [
    "a = [1.240239, '2']\n",
    "print(a[0])\n",
    "print(type(a[0]))\n",
    "print(type(a[1]))"
   ]
  },
  {
   "cell_type": "markdown",
   "metadata": {
    "id": "lXoPAgV1htlX"
   },
   "source": [
    "#### 2 Practice with math in Python\n",
    "\n",
    "Let's start with a few basic operators that was covered in section 1.1.4. Write the expression for multiplying 23 by 31, so that running this function will correctly output the product of these two numbers."
   ]
  },
  {
   "cell_type": "code",
   "execution_count": null,
   "metadata": {
    "id": "Mh2_aoVdiBdo"
   },
   "outputs": [],
   "source": []
  },
  {
   "cell_type": "markdown",
   "metadata": {
    "id": "IaRbtO6KiCBM"
   },
   "source": [
    "Consider the operation written in Python: `27 / 3 + 6`. Write the same syntax in the empty cell below, and modify it to include parentheses in the right location so that the result/answer of the math is 3.0, rather than 15.0."
   ]
  },
  {
   "cell_type": "code",
   "execution_count": null,
   "metadata": {
    "id": "KYGOO284i2Jq"
   },
   "outputs": [],
   "source": []
  },
  {
   "cell_type": "markdown",
   "metadata": {
    "id": "3YNWUvgfi3LV"
   },
   "source": [
    "Time to learn more operators beyond the ones we covered earlier. Write the line of code `3 ** 2` in the cell below. From the output, what do you think the double asterisks (`**`) operator represents in Python?"
   ]
  },
  {
   "cell_type": "code",
   "execution_count": null,
   "metadata": {
    "id": "vJL7ExVMjq6f"
   },
   "outputs": [],
   "source": []
  },
  {
   "cell_type": "markdown",
   "metadata": {
    "id": "_zfMqrrtkINb"
   },
   "source": [
    "Write the line of code `28 / 3` below. Then just below the line in the same cell, write the code `28 // 3`. Compare the differences in output between the two. Can you decipher what `//` means in Python?"
   ]
  },
  {
   "cell_type": "code",
   "execution_count": null,
   "metadata": {
    "id": "bLzljZ2nkHnP"
   },
   "outputs": [],
   "source": []
  },
  {
   "cell_type": "markdown",
   "metadata": {
    "id": "fTGXdUqvlrJK"
   },
   "source": [
    "Now for more complicated mathematical operations! Try to write the Python equivalent of the following:\n",
    "\n",
    "$\\frac{14 + 28}{28 - 14}$"
   ]
  },
  {
   "cell_type": "code",
   "execution_count": null,
   "metadata": {
    "id": "MMqvz_JXmaGv"
   },
   "outputs": [],
   "source": []
  },
  {
   "cell_type": "markdown",
   "metadata": {
    "id": "wmntjBztmatb"
   },
   "source": [
    "Now try this one:\n",
    "\n",
    "$\\frac{15 + 984}{-(217+4)}$"
   ]
  },
  {
   "cell_type": "code",
   "execution_count": null,
   "metadata": {
    "id": "ZrDfdW1bmjUF"
   },
   "outputs": [],
   "source": []
  },
  {
   "cell_type": "markdown",
   "metadata": {
    "id": "Z9PBEXQKm0W_"
   },
   "source": [
    "And finally, write the Python equivalent for this:\n",
    "\n",
    "$\\frac{-(3655 * 44)}{(8 * 16)^3}$"
   ]
  },
  {
   "cell_type": "code",
   "execution_count": null,
   "metadata": {
    "id": "34Zw1uLhnN3-"
   },
   "outputs": [],
   "source": []
  },
  {
   "cell_type": "markdown",
   "metadata": {
    "id": "UgTm-9K5HX0F"
   },
   "source": [
    "#### 3 Practice writing helpful comments\n",
    "\n",
    "Consider the following code below. No need to decipher and understand every piece but just be aware of the output when you run the code cell. Based on the output, modify the code cell by adding a code comment at the top of the cell briefly explaining what the code does. This comment can be as many lines as you'd like, and may or may not include direct references to the example print statements below."
   ]
  },
  {
   "cell_type": "code",
   "execution_count": 46,
   "metadata": {
    "colab": {
     "base_uri": "https://localhost:8080/"
    },
    "executionInfo": {
     "elapsed": 538,
     "status": "ok",
     "timestamp": 1609818124393,
     "user": {
      "displayName": "Jesse Chiem",
      "photoUrl": "https://lh3.googleusercontent.com/a-/AOh14GiL1yBOEBcDxob4MGALY615iS6wz7cYh7WVsUON=s64",
      "userId": "09481396300034805926"
     },
     "user_tz": 480
    },
    "id": "cIBcxtcPHpII",
    "outputId": "a55efe06-4ce1-42a0-abad-cd798eb3b534"
   },
   "outputs": [
    {
     "name": "stdout",
     "output_type": "stream",
     "text": [
      "n o t g n i h s a W f O y t i s r e v i n U\n",
      "t s a o T o d a c o v A\n",
      "R a c e c a R\n"
     ]
    }
   ],
   "source": [
    "def mystery_function(x):\n",
    "    \"\"\"\n",
    "    this function takes a string, puts it in reverse\n",
    "    and adds a whitespace in between each character\n",
    "    x= 25\n",
    "    \"\"\"\n",
    "    y = list(x)\n",
    "    return \" \".join(y[::-1])\n",
    "\n",
    "print(mystery_function(\"UniversityOfWashington\"))\n",
    "print(mystery_function(\"AvocadoToast\"))\n",
    "print(mystery_function(\"RacecaR\"))"
   ]
  },
  {
   "cell_type": "markdown",
   "metadata": {
    "id": "EPQvTgAWoCvB"
   },
   "source": [
    "#### 4 More Markdown\n",
    "\n",
    "Consider the vision statement of Chemical Engineering: \"Knowledge and solutions for a changing world\". Type that same statement in a new text cell below, only add a `_` (underscore) at the beginning and end. What ends up happening to the format of the text as a result?"
   ]
  },
  {
   "cell_type": "markdown",
   "metadata": {
    "id": "GX9YG0OCqRHL"
   },
   "source": [
    "_Knowledge and solutions for a changing world_"
   ]
  },
  {
   "cell_type": "markdown",
   "metadata": {
    "id": "f3PKpVzLpfRc"
   },
   "source": [
    "In a new text cell, list all of the expected classes you'll be taking in the Winter Quarter, with each class name on its own separate line. Then add a `- ` at the beginning of each line; include a single space between the hyphen and the first letter in your class name! Based on the output, what can you decipher that this `- ` changes in the formatting?"
   ]
  },
  {
   "cell_type": "markdown",
   "metadata": {
    "id": "dw4P8OqbqtMz"
   },
   "source": [
    "- Intro to Fine Arts\n",
    "- Senior Thesis\n",
    "- _Abnormal Psychology_"
   ]
  },
  {
   "cell_type": "markdown",
   "metadata": {
    "id": "fQknBYvNjo7A"
   },
   "source": [
    "#### 5 Get familiar with the Python community\n",
    "\n",
    "Python has strong support from a community of avid developers and computer scientists. The Python Software Foundation (PSF) tries to maintain input and activity through their own website, [python.org](https://). Please explore their community section - https://www.python.org/community/ - and answer the following questions in a new text cell just below this one:\n",
    "- What is the name of the mailing list that the PSF manages for those who have questions about Python code?\n",
    "- In your own words, what is the goal of their Community Survey?\n",
    "- According to their most recent annual report, which continent provides the highest proportion of grants to the PSF?\n",
    "- Name at least three ways that the PSF recommends you can get involved with the community."
   ]
  },
  {
   "cell_type": "markdown",
   "metadata": {
    "id": "ANQDw40wl8li"
   },
   "source": [
    "#### 6 Advanced - Understanding the switch from Python 2 to 3\n",
    "\n",
    "Inside of the following link, https://www.python.org/doc/, is an article about the Python Software Foundation's decision to end support for Python version 2, and move with support for version 3. From the article, answer the following questions in a new text cell just below this one:\n",
    "- What official date was Python 2 no longer supported?\n",
    "- What is the version number of the last supported Python 2?\n",
    "- In your own words, describe why the Python Software Foundation made the decision to stop supporting both Python 2 and 3 simultaneously."
   ]
  },
  {
   "cell_type": "markdown",
   "metadata": {
    "id": "miOpG431h5Id"
   },
   "source": [
    "#### 7 Advanced - Create your own Google Colab notebook!\n",
    "\n",
    "Create your own separate Google Colab notebook with the following rules and content:\n",
    "- The file name of your notebook should be in the format ***lastname_tutorial1_breakout_custom_notebook.ipynb***.\n",
    "- Include a header (of any size) that lists your first name and last name, followed by \"**C-HACK**\".\n",
    "- Create a short paragraph bio of yourself in a text cell.\n",
    "- Include/embed an image of the Python logo, which can be found here: https://www.python.org/community/logos/.\n",
    "- Create a code cell with just the line of code: `import this`\n",
    "- Copy and paste the output from that code into a new text cell, format the output as follows:\n",
    "    - Convert the first line into a header\n",
    "    - Bold AND italicize every second line in the output's \"principles\"\n",
    "    - In the last line of the output, replace \"Namespaces\" with \"Hackathons\"\n"
   ]
  },
  {
   "cell_type": "markdown",
   "metadata": {
    "id": "Tf69btkkY_st"
   },
   "source": [
    "## 1.4 Resources & Further Reading\n",
    "\n"
   ]
  },
  {
   "cell_type": "markdown",
   "metadata": {
    "id": "tIgdiuwWwaGO"
   },
   "source": [
    "This section serves as a reference for many other resources to learn more about what was introduced here. If you have any questions about these references, or even have suggestions, please email chemehackathon@uw.edu."
   ]
  },
  {
   "cell_type": "markdown",
   "metadata": {
    "id": "6TDxd6BY-t4j"
   },
   "source": [
    "### Python\n",
    "- [Official Python site - Python.org](https://www.python.org)\n",
    "- [Latest Python Language Reference/Documentation](https://docs.python.org/3/)\n",
    "- [Official Python 3 Tutorial from the Python Software Foundation](https://docs.python.org/3/tutorial/index.html)\n",
    "- [*Python Crash Course*, 2nd Edition by Eric Matthes](https://nostarch.com/pythoncrashcourse2e)\n",
    "- [*Python From The Very Beginning* by John Whitington](https://www.pythonfromtheverybeginning.com)\n",
    "- [*Python Data Science Handbook* by Jake VanderPlas (Free!)](https://jakevdp.github.io/PythonDataScienceHandbook/?utm_source=devfreebooks&utm_medium=medium&utm_campaign=DevFreeBooks)\n",
    "- [Simple Math in Python Notebook Excercises from UW DIRECT](https://github.com/UWDIRECT/UWDIRECT.github.io/blob/master/Wi20_content/SEDS/L2.Simple_Breakout.ipynb)"
   ]
  },
  {
   "cell_type": "markdown",
   "metadata": {
    "id": "7QUEexhooyDA"
   },
   "source": [
    "### Arithmetic Operators in Python\n",
    "\n",
    "Below is a reference table for many of the arithmetic operators you can use with Python, some of which we've already went over:\n",
    "\n",
    "| Symbol | Operation      | Example Code | Expected Ouput      |\n",
    "| ------ | ---------      | -------      | ------------------- |\n",
    "| +      | Addition       | `5 + 5`      | 10                  |\n",
    "| \\-     | Subtraction    | `8 - 3`      | 5                   |\n",
    "| \\*     | Multiplication | `9 * 6`      | 54                  |\n",
    "| \\*\\*   | Exponentiation | `3 ** 2`     | 9                   |\n",
    "| \\/     | Floating-point Division | `9 / 2` | 4.5             |\n",
    "| \\/\\/   | Truncating Division | `9 // 2`| 4                   |\n",
    "| \\%     | Remainder (modulus) | `12 % 5`| 2                   |\n"
   ]
  },
  {
   "cell_type": "markdown",
   "metadata": {
    "id": "7VNe46YIngyz"
   },
   "source": [
    "### Jupyter Notebook\n",
    "\n",
    "- [Project Jupyter - Official Jupyter Website](https://jupyter.org)\n",
    "- [*Read The Docs* - Jupyter Notebook User Documentation by the Official Jupyter Team](https://jupyter-notebook.readthedocs.io/en/stable/)\n",
    "- [*Jupyter Book* - Online open source book](https://jupyterbook.org/intro.html)"
   ]
  },
  {
   "cell_type": "markdown",
   "metadata": {
    "id": "OKa2Vm5Ovb8p"
   },
   "source": [
    "### Markdown\n",
    "\n",
    "- [Google Colab Guide on Markdown](https://colab.research.google.com/notebooks/markdown_guide.ipynb)\n",
    "- [Markdown Guide (From Technical Writer Mark Cone)](https://www.markdownguide.org)\n",
    "- [Jupyter Notebook Docs - Markdown Basics](https://jupyter-notebook.readthedocs.io/en/stable/examples/Notebook/Working%20With%20Markdown%20Cells.html)\n",
    "- [Markdown versus HTML (Google Developers Doc)](https://developers.google.com/style/markdown)\n"
   ]
  }
 ],
 "metadata": {
  "colab": {
   "collapsed_sections": [],
   "name": "C-HACK Tutorial 1: Introduction to Python and Jupyter Notebooks.ipynb",
   "provenance": [
    {
     "file_id": "1LhbPBgNy-AA8tss0TDETxPFxtB2nN2Sw",
     "timestamp": 1606866261224
    },
    {
     "file_id": "1Idd3POhDAlJZ_1IzFYTzT_IdsKPLg0fk",
     "timestamp": 1606780207676
    }
   ],
   "toc_visible": true
  },
  "kernelspec": {
   "display_name": "Python (tunnel)",
   "language": "python",
   "name": "python3"
  },
  "language_info": {
   "codemirror_mode": {
    "name": "ipython",
    "version": 3
   },
   "file_extension": ".py",
   "mimetype": "text/x-python",
   "name": "python",
   "nbconvert_exporter": "python",
   "pygments_lexer": "ipython3",
   "version": "3.7.7"
  }
 },
 "nbformat": 4,
 "nbformat_minor": 1
}
