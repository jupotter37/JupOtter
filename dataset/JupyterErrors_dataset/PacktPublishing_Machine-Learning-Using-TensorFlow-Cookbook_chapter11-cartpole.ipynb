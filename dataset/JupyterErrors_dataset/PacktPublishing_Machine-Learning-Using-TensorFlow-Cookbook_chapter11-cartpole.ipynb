{
 "cells": [
  {
   "cell_type": "markdown",
   "metadata": {
    "id": "klGNgWREsvQv",
    "papermill": {
     "duration": 0.045379,
     "end_time": "2020-11-14T17:14:12.167176",
     "exception": false,
     "start_time": "2020-11-14T17:14:12.121797",
     "status": "completed"
    },
    "tags": []
   },
   "source": [
    "##### Copyright 2018 The TF-Agents Authors."
   ]
  },
  {
   "cell_type": "markdown",
   "metadata": {
    "id": "cKOCZlhUgXVK",
    "papermill": {
     "duration": 0.043626,
     "end_time": "2020-11-14T17:14:12.256149",
     "exception": false,
     "start_time": "2020-11-14T17:14:12.212523",
     "status": "completed"
    },
    "tags": []
   },
   "source": [
    "This example shows how to train a [DQN (Deep Q Networks)](https://storage.googleapis.com/deepmind-media/dqn/DQNNaturePaper.pdf)  agent on the Cartpole environment using the TF-Agents library.\n",
    "\n",
    "![Cartpole environment](https://raw.githubusercontent.com/tensorflow/agents/master/docs/tutorials/images/cartpole.png)\n",
    "\n",
    "It will walk you through all the components in a Reinforcement Learning (RL) pipeline for training, evaluation and data collection.\n",
    "\n",
    "\n",
    "To run this code live, click the 'Run in Google Colab' link above.\n"
   ]
  },
  {
   "cell_type": "markdown",
   "metadata": {
    "id": "1u9QVVsShC9X",
    "papermill": {
     "duration": 0.043451,
     "end_time": "2020-11-14T17:14:12.344351",
     "exception": false,
     "start_time": "2020-11-14T17:14:12.300900",
     "status": "completed"
    },
    "tags": []
   },
   "source": [
    "## Setup"
   ]
  },
  {
   "cell_type": "code",
   "execution_count": 1,
   "metadata": {
    "execution": {
     "iopub.execute_input": "2020-11-14T17:14:12.467628Z",
     "iopub.status.busy": "2020-11-14T17:14:12.463070Z",
     "iopub.status.idle": "2020-11-14T17:15:14.710235Z",
     "shell.execute_reply": "2020-11-14T17:15:14.709439Z"
    },
    "id": "KEHR2Ui-lo8O",
    "papermill": {
     "duration": 62.319449,
     "end_time": "2020-11-14T17:15:14.710386",
     "exception": false,
     "start_time": "2020-11-14T17:14:12.390937",
     "status": "completed"
    },
    "tags": []
   },
   "outputs": [
    {
     "name": "stdout",
     "output_type": "stream",
     "text": [
      "/bin/sh: 1: sudo: not found\r\n",
      "Requirement already satisfied: gym in /opt/conda/lib/python3.7/site-packages (0.17.3)\r\n",
      "Requirement already satisfied: scipy in /opt/conda/lib/python3.7/site-packages (from gym) (1.4.1)\r\n",
      "Requirement already satisfied: numpy>=1.10.4 in /opt/conda/lib/python3.7/site-packages (from gym) (1.18.5)\r\n",
      "Requirement already satisfied: pyglet<=1.5.0,>=1.4.0 in /opt/conda/lib/python3.7/site-packages (from gym) (1.5.0)\r\n",
      "Requirement already satisfied: cloudpickle<1.7.0,>=1.2.0 in /opt/conda/lib/python3.7/site-packages (from gym) (1.3.0)\r\n",
      "Requirement already satisfied: future in /opt/conda/lib/python3.7/site-packages (from pyglet<=1.5.0,>=1.4.0->gym) (0.18.2)\r\n",
      "Collecting imageio==2.4.0\r\n",
      "  Downloading imageio-2.4.0.tar.gz (3.3 MB)\r\n",
      "\u001b[K     |████████████████████████████████| 3.3 MB 890 kB/s \r\n",
      "\u001b[?25hRequirement already satisfied: numpy in /opt/conda/lib/python3.7/site-packages (from imageio==2.4.0) (1.18.5)\r\n",
      "Requirement already satisfied: pillow in /opt/conda/lib/python3.7/site-packages (from imageio==2.4.0) (8.0.1)\r\n",
      "Building wheels for collected packages: imageio\r\n",
      "  Building wheel for imageio (setup.py) ... \u001b[?25l-\b \b\\\b \b|\b \b/\b \b-\b \bdone\r\n",
      "\u001b[?25h  Created wheel for imageio: filename=imageio-2.4.0-py3-none-any.whl size=3303879 sha256=59c183d36c6b62a19b235ad6c2e0c8f04550b10ddb25234cd7606d45e8a62c87\r\n",
      "  Stored in directory: /root/.cache/pip/wheels/aa/de/2f/6c5a75120d68a2c3138120c8d0ce1c6f9483a4b96307986bf2\r\n",
      "Successfully built imageio\r\n",
      "Installing collected packages: imageio\r\n",
      "  Attempting uninstall: imageio\r\n",
      "    Found existing installation: imageio 2.8.0\r\n",
      "    Uninstalling imageio-2.8.0:\r\n",
      "      Successfully uninstalled imageio-2.8.0\r\n",
      "Successfully installed imageio-2.4.0\r\n",
      "Requirement already satisfied: PILLOW in /opt/conda/lib/python3.7/site-packages (8.0.1)\r\n",
      "Requirement already satisfied: pyglet in /opt/conda/lib/python3.7/site-packages (1.5.0)\r\n",
      "Requirement already satisfied: future in /opt/conda/lib/python3.7/site-packages (from pyglet) (0.18.2)\r\n",
      "Collecting pyvirtualdisplay\r\n",
      "  Downloading PyVirtualDisplay-1.3.2-py2.py3-none-any.whl (14 kB)\r\n",
      "Collecting EasyProcess\r\n",
      "  Downloading EasyProcess-0.3-py2.py3-none-any.whl (7.9 kB)\r\n",
      "Installing collected packages: EasyProcess, pyvirtualdisplay\r\n",
      "Successfully installed EasyProcess-0.3 pyvirtualdisplay-1.3.2\r\n",
      "Collecting tf-agents\r\n",
      "  Downloading tf_agents-0.6.0-py3-none-any.whl (1.1 MB)\r\n",
      "\u001b[K     |████████████████████████████████| 1.1 MB 883 kB/s \r\n",
      "\u001b[?25hRequirement already satisfied: protobuf>=3.11.3 in /opt/conda/lib/python3.7/site-packages (from tf-agents) (3.13.0)\r\n",
      "Requirement already satisfied: absl-py>=0.6.1 in /opt/conda/lib/python3.7/site-packages (from tf-agents) (0.11.0)\r\n",
      "Collecting gin-config>=0.3.0\r\n",
      "  Downloading gin_config-0.3.0-py3-none-any.whl (44 kB)\r\n",
      "\u001b[K     |████████████████████████████████| 44 kB 1.5 MB/s \r\n",
      "\u001b[?25hRequirement already satisfied: wrapt>=1.11.1 in /opt/conda/lib/python3.7/site-packages (from tf-agents) (1.11.2)\r\n",
      "Requirement already satisfied: numpy>=1.13.3 in /opt/conda/lib/python3.7/site-packages (from tf-agents) (1.18.5)\r\n",
      "Requirement already satisfied: cloudpickle==1.3 in /opt/conda/lib/python3.7/site-packages (from tf-agents) (1.3.0)\r\n",
      "Requirement already satisfied: tensorflow-probability>=0.11.0 in /opt/conda/lib/python3.7/site-packages (from tf-agents) (0.11.1)\r\n",
      "Requirement already satisfied: six>=1.10.0 in /opt/conda/lib/python3.7/site-packages (from tf-agents) (1.14.0)\r\n",
      "Requirement already satisfied: setuptools in /opt/conda/lib/python3.7/site-packages (from protobuf>=3.11.3->tf-agents) (46.1.3.post20200325)\r\n",
      "Requirement already satisfied: decorator in /opt/conda/lib/python3.7/site-packages (from tensorflow-probability>=0.11.0->tf-agents) (4.4.2)\r\n",
      "Requirement already satisfied: dm-tree in /opt/conda/lib/python3.7/site-packages (from tensorflow-probability>=0.11.0->tf-agents) (0.1.5)\r\n",
      "Requirement already satisfied: gast>=0.3.2 in /opt/conda/lib/python3.7/site-packages (from tensorflow-probability>=0.11.0->tf-agents) (0.3.3)\r\n",
      "Installing collected packages: gin-config, tf-agents\r\n",
      "Successfully installed gin-config-0.3.0 tf-agents-0.6.0\r\n"
     ]
    }
   ],
   "source": [
    "!sudo apt-get install -y xvfb ffmpeg\n",
    "!pip install gym\n",
    "!pip install 'imageio==2.4.0'\n",
    "!pip install PILLOW\n",
    "!pip install pyglet\n",
    "!pip install pyvirtualdisplay\n",
    "!pip install tf-agents"
   ]
  },
  {
   "cell_type": "code",
   "execution_count": 2,
   "metadata": {
    "execution": {
     "iopub.execute_input": "2020-11-14T17:15:14.910913Z",
     "iopub.status.busy": "2020-11-14T17:15:14.909300Z",
     "iopub.status.idle": "2020-11-14T17:15:23.677989Z",
     "shell.execute_reply": "2020-11-14T17:15:23.677284Z"
    },
    "id": "sMitx5qSgJk1",
    "papermill": {
     "duration": 8.865657,
     "end_time": "2020-11-14T17:15:23.678147",
     "exception": false,
     "start_time": "2020-11-14T17:15:14.812490",
     "status": "completed"
    },
    "tags": []
   },
   "outputs": [],
   "source": [
    "from __future__ import absolute_import, division, print_function\n",
    "\n",
    "import base64\n",
    "import imageio\n",
    "import IPython\n",
    "import matplotlib\n",
    "import matplotlib.pyplot as plt\n",
    "import numpy as np\n",
    "import PIL.Image\n",
    "import pyvirtualdisplay\n",
    "\n",
    "import tensorflow as tf\n",
    "\n",
    "from tf_agents.agents.dqn import dqn_agent\n",
    "from tf_agents.drivers import dynamic_step_driver\n",
    "from tf_agents.environments import suite_gym\n",
    "from tf_agents.environments import tf_py_environment\n",
    "from tf_agents.eval import metric_utils\n",
    "from tf_agents.metrics import tf_metrics\n",
    "from tf_agents.networks import q_network\n",
    "from tf_agents.policies import random_tf_policy\n",
    "from tf_agents.replay_buffers import tf_uniform_replay_buffer\n",
    "from tf_agents.trajectories import trajectory\n",
    "from tf_agents.utils import common"
   ]
  },
  {
   "cell_type": "code",
   "execution_count": 3,
   "metadata": {
    "execution": {
     "iopub.execute_input": "2020-11-14T17:15:23.828745Z",
     "iopub.status.busy": "2020-11-14T17:15:23.827918Z",
     "iopub.status.idle": "2020-11-14T17:15:24.384434Z",
     "shell.execute_reply": "2020-11-14T17:15:24.383598Z"
    },
    "id": "J6HsdS5GbSjd",
    "papermill": {
     "duration": 0.633862,
     "end_time": "2020-11-14T17:15:24.384578",
     "exception": false,
     "start_time": "2020-11-14T17:15:23.750716",
     "status": "completed"
    },
    "tags": []
   },
   "outputs": [],
   "source": [
    "tf.compat.v1.enable_v2_behavior()\n",
    "\n",
    "# Set up a virtual display for rendering OpenAI gym environments.\n",
    "display = pyvirtualdisplay.Display(visible=0, size=(1400, 900)).start()"
   ]
  },
  {
   "cell_type": "code",
   "execution_count": 4,
   "metadata": {
    "execution": {
     "iopub.execute_input": "2020-11-14T17:15:24.548055Z",
     "iopub.status.busy": "2020-11-14T17:15:24.547042Z",
     "iopub.status.idle": "2020-11-14T17:15:24.551458Z",
     "shell.execute_reply": "2020-11-14T17:15:24.552055Z"
    },
    "id": "NspmzG4nP3b9",
    "papermill": {
     "duration": 0.093907,
     "end_time": "2020-11-14T17:15:24.552212",
     "exception": false,
     "start_time": "2020-11-14T17:15:24.458305",
     "status": "completed"
    },
    "tags": []
   },
   "outputs": [
    {
     "data": {
      "text/plain": [
       "'2.3.1'"
      ]
     },
     "execution_count": 4,
     "metadata": {},
     "output_type": "execute_result"
    }
   ],
   "source": [
    "tf.version.VERSION"
   ]
  },
  {
   "cell_type": "markdown",
   "metadata": {
    "id": "LmC0NDhdLIKY",
    "papermill": {
     "duration": 0.072714,
     "end_time": "2020-11-14T17:15:24.697707",
     "exception": false,
     "start_time": "2020-11-14T17:15:24.624993",
     "status": "completed"
    },
    "tags": []
   },
   "source": [
    "## Hyperparameters"
   ]
  },
  {
   "cell_type": "code",
   "execution_count": 5,
   "metadata": {
    "execution": {
     "iopub.execute_input": "2020-11-14T17:15:24.850715Z",
     "iopub.status.busy": "2020-11-14T17:15:24.849718Z",
     "iopub.status.idle": "2020-11-14T17:15:24.852800Z",
     "shell.execute_reply": "2020-11-14T17:15:24.852205Z"
    },
    "id": "HC1kNrOsLSIZ",
    "papermill": {
     "duration": 0.08272,
     "end_time": "2020-11-14T17:15:24.852933",
     "exception": false,
     "start_time": "2020-11-14T17:15:24.770213",
     "status": "completed"
    },
    "tags": []
   },
   "outputs": [],
   "source": [
    "num_iterations = 20000 # @param {type:\"integer\"}\n",
    "\n",
    "initial_collect_steps = 100  # @param {type:\"integer\"} \n",
    "collect_steps_per_iteration = 1  # @param {type:\"integer\"}\n",
    "replay_buffer_max_length = 100000  # @param {type:\"integer\"}\n",
    "\n",
    "batch_size = 64  # @param {type:\"integer\"}\n",
    "learning_rate = 1e-3  # @param {type:\"number\"}\n",
    "log_interval = 200  # @param {type:\"integer\"}\n",
    "\n",
    "num_eval_episodes = 10  # @param {type:\"integer\"}\n",
    "eval_interval = 1000  # @param {type:\"integer\"}"
   ]
  },
  {
   "cell_type": "markdown",
   "metadata": {
    "id": "VMsJC3DEgI0x",
    "papermill": {
     "duration": 0.071413,
     "end_time": "2020-11-14T17:15:24.995989",
     "exception": false,
     "start_time": "2020-11-14T17:15:24.924576",
     "status": "completed"
    },
    "tags": []
   },
   "source": [
    "## Environment\n",
    "\n",
    "In Reinforcement Learning (RL), an environment represents the task or problem to be solved. Standard environments can be created in TF-Agents using `tf_agents.environments` suites. TF-Agents has suites for loading environments from sources such as the OpenAI Gym, Atari, and DM Control.\n",
    "\n",
    "Load the CartPole environment from the OpenAI Gym suite. "
   ]
  },
  {
   "cell_type": "code",
   "execution_count": 6,
   "metadata": {
    "execution": {
     "iopub.execute_input": "2020-11-14T17:15:25.148546Z",
     "iopub.status.busy": "2020-11-14T17:15:25.147677Z",
     "iopub.status.idle": "2020-11-14T17:15:25.162833Z",
     "shell.execute_reply": "2020-11-14T17:15:25.162067Z"
    },
    "id": "pYEz-S9gEv2-",
    "papermill": {
     "duration": 0.093726,
     "end_time": "2020-11-14T17:15:25.162965",
     "exception": false,
     "start_time": "2020-11-14T17:15:25.069239",
     "status": "completed"
    },
    "tags": []
   },
   "outputs": [],
   "source": [
    "env_name = 'CartPole-v0'\n",
    "env = suite_gym.load(env_name)"
   ]
  },
  {
   "cell_type": "markdown",
   "metadata": {
    "id": "IIHYVBkuvPNw",
    "papermill": {
     "duration": 0.071666,
     "end_time": "2020-11-14T17:15:25.306683",
     "exception": false,
     "start_time": "2020-11-14T17:15:25.235017",
     "status": "completed"
    },
    "tags": []
   },
   "source": [
    "You can render this environment to see how it looks. A free-swinging pole is attached to a cart.  The goal is to move the cart right or left in order to keep the pole pointing up."
   ]
  },
  {
   "cell_type": "code",
   "execution_count": 7,
   "metadata": {
    "execution": {
     "iopub.execute_input": "2020-11-14T17:15:25.458475Z",
     "iopub.status.busy": "2020-11-14T17:15:25.457650Z",
     "iopub.status.idle": "2020-11-14T17:15:26.215411Z",
     "shell.execute_reply": "2020-11-14T17:15:26.214749Z"
    },
    "id": "RlO7WIQHu_7D",
    "papermill": {
     "duration": 0.836644,
     "end_time": "2020-11-14T17:15:26.215553",
     "exception": false,
     "start_time": "2020-11-14T17:15:25.378909",
     "status": "completed"
    },
    "tags": []
   },
   "outputs": [
    {
     "ename": "ImportError",
     "evalue": "\n    Error occurred while running `from pyglet.gl import *`\n    HINT: make sure you have OpenGL install. On Ubuntu, you can run 'apt-get install python-opengl'.\n    If you're running on a server, you may need a virtual frame buffer; something like this should work:\n    'xvfb-run -s \"-screen 0 1400x900x24\" python <your_script.py>'\n    ",
     "output_type": "error",
     "traceback": [
      "\u001b[0;31m---------------------------------------------------------------------------\u001b[0m",
      "\u001b[0;31mImportError\u001b[0m                               Traceback (most recent call last)",
      "\u001b[0;32m/opt/conda/lib/python3.7/site-packages/gym/envs/classic_control/rendering.py\u001b[0m in \u001b[0;36m<module>\u001b[0;34m\u001b[0m\n\u001b[1;32m     24\u001b[0m \u001b[0;32mtry\u001b[0m\u001b[0;34m:\u001b[0m\u001b[0;34m\u001b[0m\u001b[0;34m\u001b[0m\u001b[0m\n\u001b[0;32m---> 25\u001b[0;31m     \u001b[0;32mfrom\u001b[0m \u001b[0mpyglet\u001b[0m\u001b[0;34m.\u001b[0m\u001b[0mgl\u001b[0m \u001b[0;32mimport\u001b[0m \u001b[0;34m*\u001b[0m\u001b[0;34m\u001b[0m\u001b[0;34m\u001b[0m\u001b[0m\n\u001b[0m\u001b[1;32m     26\u001b[0m \u001b[0;32mexcept\u001b[0m \u001b[0mImportError\u001b[0m \u001b[0;32mas\u001b[0m \u001b[0me\u001b[0m\u001b[0;34m:\u001b[0m\u001b[0;34m\u001b[0m\u001b[0;34m\u001b[0m\u001b[0m\n",
      "\u001b[0;32m/opt/conda/lib/python3.7/site-packages/pyglet/gl/__init__.py\u001b[0m in \u001b[0;36m<module>\u001b[0;34m\u001b[0m\n\u001b[1;32m     94\u001b[0m \u001b[0;34m\u001b[0m\u001b[0m\n\u001b[0;32m---> 95\u001b[0;31m \u001b[0;32mfrom\u001b[0m \u001b[0mpyglet\u001b[0m\u001b[0;34m.\u001b[0m\u001b[0mgl\u001b[0m\u001b[0;34m.\u001b[0m\u001b[0mlib\u001b[0m \u001b[0;32mimport\u001b[0m \u001b[0mGLException\u001b[0m\u001b[0;34m\u001b[0m\u001b[0;34m\u001b[0m\u001b[0m\n\u001b[0m\u001b[1;32m     96\u001b[0m \u001b[0;32mfrom\u001b[0m \u001b[0mpyglet\u001b[0m\u001b[0;34m.\u001b[0m\u001b[0mgl\u001b[0m\u001b[0;34m.\u001b[0m\u001b[0mgl\u001b[0m \u001b[0;32mimport\u001b[0m \u001b[0;34m*\u001b[0m\u001b[0;34m\u001b[0m\u001b[0;34m\u001b[0m\u001b[0m\n",
      "\u001b[0;32m/opt/conda/lib/python3.7/site-packages/pyglet/gl/lib.py\u001b[0m in \u001b[0;36m<module>\u001b[0;34m\u001b[0m\n\u001b[1;32m    148\u001b[0m \u001b[0;32melse\u001b[0m\u001b[0;34m:\u001b[0m\u001b[0;34m\u001b[0m\u001b[0;34m\u001b[0m\u001b[0m\n\u001b[0;32m--> 149\u001b[0;31m     \u001b[0;32mfrom\u001b[0m \u001b[0mpyglet\u001b[0m\u001b[0;34m.\u001b[0m\u001b[0mgl\u001b[0m\u001b[0;34m.\u001b[0m\u001b[0mlib_glx\u001b[0m \u001b[0;32mimport\u001b[0m \u001b[0mlink_GL\u001b[0m\u001b[0;34m,\u001b[0m \u001b[0mlink_GLU\u001b[0m\u001b[0;34m,\u001b[0m \u001b[0mlink_GLX\u001b[0m\u001b[0;34m\u001b[0m\u001b[0;34m\u001b[0m\u001b[0m\n\u001b[0m",
      "\u001b[0;32m/opt/conda/lib/python3.7/site-packages/pyglet/gl/lib_glx.py\u001b[0m in \u001b[0;36m<module>\u001b[0;34m\u001b[0m\n\u001b[1;32m     45\u001b[0m \u001b[0mgl_lib\u001b[0m \u001b[0;34m=\u001b[0m \u001b[0mpyglet\u001b[0m\u001b[0;34m.\u001b[0m\u001b[0mlib\u001b[0m\u001b[0;34m.\u001b[0m\u001b[0mload_library\u001b[0m\u001b[0;34m(\u001b[0m\u001b[0;34m'GL'\u001b[0m\u001b[0;34m)\u001b[0m\u001b[0;34m\u001b[0m\u001b[0;34m\u001b[0m\u001b[0m\n\u001b[0;32m---> 46\u001b[0;31m \u001b[0mglu_lib\u001b[0m \u001b[0;34m=\u001b[0m \u001b[0mpyglet\u001b[0m\u001b[0;34m.\u001b[0m\u001b[0mlib\u001b[0m\u001b[0;34m.\u001b[0m\u001b[0mload_library\u001b[0m\u001b[0;34m(\u001b[0m\u001b[0;34m'GLU'\u001b[0m\u001b[0;34m)\u001b[0m\u001b[0;34m\u001b[0m\u001b[0;34m\u001b[0m\u001b[0m\n\u001b[0m\u001b[1;32m     47\u001b[0m \u001b[0;34m\u001b[0m\u001b[0m\n",
      "\u001b[0;32m/opt/conda/lib/python3.7/site-packages/pyglet/lib.py\u001b[0m in \u001b[0;36mload_library\u001b[0;34m(self, *names, **kwargs)\u001b[0m\n\u001b[1;32m    163\u001b[0m \u001b[0;34m\u001b[0m\u001b[0m\n\u001b[0;32m--> 164\u001b[0;31m         \u001b[0;32mraise\u001b[0m \u001b[0mImportError\u001b[0m\u001b[0;34m(\u001b[0m\u001b[0;34m'Library \"%s\" not found.'\u001b[0m \u001b[0;34m%\u001b[0m \u001b[0mnames\u001b[0m\u001b[0;34m[\u001b[0m\u001b[0;36m0\u001b[0m\u001b[0;34m]\u001b[0m\u001b[0;34m)\u001b[0m\u001b[0;34m\u001b[0m\u001b[0;34m\u001b[0m\u001b[0m\n\u001b[0m\u001b[1;32m    165\u001b[0m \u001b[0;34m\u001b[0m\u001b[0m\n",
      "\u001b[0;31mImportError\u001b[0m: Library \"GLU\" not found.",
      "\nDuring handling of the above exception, another exception occurred:\n",
      "\u001b[0;31mImportError\u001b[0m                               Traceback (most recent call last)",
      "\u001b[0;32m<ipython-input-7-e804510cb186>\u001b[0m in \u001b[0;36m<module>\u001b[0;34m\u001b[0m\n\u001b[1;32m      1\u001b[0m \u001b[0;31m#@test {\"skip\": true}\u001b[0m\u001b[0;34m\u001b[0m\u001b[0;34m\u001b[0m\u001b[0;34m\u001b[0m\u001b[0m\n\u001b[1;32m      2\u001b[0m \u001b[0menv\u001b[0m\u001b[0;34m.\u001b[0m\u001b[0mreset\u001b[0m\u001b[0;34m(\u001b[0m\u001b[0;34m)\u001b[0m\u001b[0;34m\u001b[0m\u001b[0;34m\u001b[0m\u001b[0m\n\u001b[0;32m----> 3\u001b[0;31m \u001b[0mPIL\u001b[0m\u001b[0;34m.\u001b[0m\u001b[0mImage\u001b[0m\u001b[0;34m.\u001b[0m\u001b[0mfromarray\u001b[0m\u001b[0;34m(\u001b[0m\u001b[0menv\u001b[0m\u001b[0;34m.\u001b[0m\u001b[0mrender\u001b[0m\u001b[0;34m(\u001b[0m\u001b[0;34m)\u001b[0m\u001b[0;34m)\u001b[0m\u001b[0;34m\u001b[0m\u001b[0;34m\u001b[0m\u001b[0m\n\u001b[0m",
      "\u001b[0;32m/opt/conda/lib/python3.7/site-packages/tf_agents/environments/wrappers.py\u001b[0m in \u001b[0;36mrender\u001b[0;34m(self, mode)\u001b[0m\n\u001b[1;32m     83\u001b[0m \u001b[0;34m\u001b[0m\u001b[0m\n\u001b[1;32m     84\u001b[0m   \u001b[0;32mdef\u001b[0m \u001b[0mrender\u001b[0m\u001b[0;34m(\u001b[0m\u001b[0mself\u001b[0m\u001b[0;34m,\u001b[0m \u001b[0mmode\u001b[0m\u001b[0;34m:\u001b[0m \u001b[0mText\u001b[0m \u001b[0;34m=\u001b[0m \u001b[0;34m'rgb_array'\u001b[0m\u001b[0;34m)\u001b[0m \u001b[0;34m->\u001b[0m \u001b[0mtypes\u001b[0m\u001b[0;34m.\u001b[0m\u001b[0mNestedArray\u001b[0m\u001b[0;34m:\u001b[0m\u001b[0;34m\u001b[0m\u001b[0;34m\u001b[0m\u001b[0m\n\u001b[0;32m---> 85\u001b[0;31m     \u001b[0;32mreturn\u001b[0m \u001b[0mself\u001b[0m\u001b[0;34m.\u001b[0m\u001b[0m_env\u001b[0m\u001b[0;34m.\u001b[0m\u001b[0mrender\u001b[0m\u001b[0;34m(\u001b[0m\u001b[0mmode\u001b[0m\u001b[0;34m)\u001b[0m\u001b[0;34m\u001b[0m\u001b[0;34m\u001b[0m\u001b[0m\n\u001b[0m\u001b[1;32m     86\u001b[0m \u001b[0;34m\u001b[0m\u001b[0m\n\u001b[1;32m     87\u001b[0m   \u001b[0;32mdef\u001b[0m \u001b[0mseed\u001b[0m\u001b[0;34m(\u001b[0m\u001b[0mself\u001b[0m\u001b[0;34m,\u001b[0m \u001b[0mseed\u001b[0m\u001b[0;34m:\u001b[0m \u001b[0mtypes\u001b[0m\u001b[0;34m.\u001b[0m\u001b[0mSeed\u001b[0m\u001b[0;34m)\u001b[0m \u001b[0;34m->\u001b[0m \u001b[0mtypes\u001b[0m\u001b[0;34m.\u001b[0m\u001b[0mSeed\u001b[0m\u001b[0;34m:\u001b[0m\u001b[0;34m\u001b[0m\u001b[0;34m\u001b[0m\u001b[0m\n",
      "\u001b[0;32m/opt/conda/lib/python3.7/site-packages/tf_agents/environments/gym_wrapper.py\u001b[0m in \u001b[0;36mrender\u001b[0;34m(self, mode)\u001b[0m\n\u001b[1;32m    264\u001b[0m \u001b[0;34m\u001b[0m\u001b[0m\n\u001b[1;32m    265\u001b[0m   \u001b[0;32mdef\u001b[0m \u001b[0mrender\u001b[0m\u001b[0;34m(\u001b[0m\u001b[0mself\u001b[0m\u001b[0;34m,\u001b[0m \u001b[0mmode\u001b[0m\u001b[0;34m:\u001b[0m \u001b[0mText\u001b[0m \u001b[0;34m=\u001b[0m \u001b[0;34m'rgb_array'\u001b[0m\u001b[0;34m)\u001b[0m \u001b[0;34m->\u001b[0m \u001b[0mAny\u001b[0m\u001b[0;34m:\u001b[0m\u001b[0;34m\u001b[0m\u001b[0;34m\u001b[0m\u001b[0m\n\u001b[0;32m--> 266\u001b[0;31m     \u001b[0;32mreturn\u001b[0m \u001b[0mself\u001b[0m\u001b[0;34m.\u001b[0m\u001b[0m_gym_env\u001b[0m\u001b[0;34m.\u001b[0m\u001b[0mrender\u001b[0m\u001b[0;34m(\u001b[0m\u001b[0mmode\u001b[0m\u001b[0;34m,\u001b[0m \u001b[0;34m**\u001b[0m\u001b[0mself\u001b[0m\u001b[0;34m.\u001b[0m\u001b[0m_render_kwargs\u001b[0m\u001b[0;34m)\u001b[0m\u001b[0;34m\u001b[0m\u001b[0;34m\u001b[0m\u001b[0m\n\u001b[0m\u001b[1;32m    267\u001b[0m \u001b[0;34m\u001b[0m\u001b[0m\n\u001b[1;32m    268\u001b[0m   \u001b[0;31m# pytype: disable=attribute-error\u001b[0m\u001b[0;34m\u001b[0m\u001b[0;34m\u001b[0m\u001b[0;34m\u001b[0m\u001b[0m\n",
      "\u001b[0;32m/opt/conda/lib/python3.7/site-packages/gym/envs/classic_control/cartpole.py\u001b[0m in \u001b[0;36mrender\u001b[0;34m(self, mode)\u001b[0m\n\u001b[1;32m    172\u001b[0m \u001b[0;34m\u001b[0m\u001b[0m\n\u001b[1;32m    173\u001b[0m         \u001b[0;32mif\u001b[0m \u001b[0mself\u001b[0m\u001b[0;34m.\u001b[0m\u001b[0mviewer\u001b[0m \u001b[0;32mis\u001b[0m \u001b[0;32mNone\u001b[0m\u001b[0;34m:\u001b[0m\u001b[0;34m\u001b[0m\u001b[0;34m\u001b[0m\u001b[0m\n\u001b[0;32m--> 174\u001b[0;31m             \u001b[0;32mfrom\u001b[0m \u001b[0mgym\u001b[0m\u001b[0;34m.\u001b[0m\u001b[0menvs\u001b[0m\u001b[0;34m.\u001b[0m\u001b[0mclassic_control\u001b[0m \u001b[0;32mimport\u001b[0m \u001b[0mrendering\u001b[0m\u001b[0;34m\u001b[0m\u001b[0;34m\u001b[0m\u001b[0m\n\u001b[0m\u001b[1;32m    175\u001b[0m             \u001b[0mself\u001b[0m\u001b[0;34m.\u001b[0m\u001b[0mviewer\u001b[0m \u001b[0;34m=\u001b[0m \u001b[0mrendering\u001b[0m\u001b[0;34m.\u001b[0m\u001b[0mViewer\u001b[0m\u001b[0;34m(\u001b[0m\u001b[0mscreen_width\u001b[0m\u001b[0;34m,\u001b[0m \u001b[0mscreen_height\u001b[0m\u001b[0;34m)\u001b[0m\u001b[0;34m\u001b[0m\u001b[0;34m\u001b[0m\u001b[0m\n\u001b[1;32m    176\u001b[0m             \u001b[0ml\u001b[0m\u001b[0;34m,\u001b[0m \u001b[0mr\u001b[0m\u001b[0;34m,\u001b[0m \u001b[0mt\u001b[0m\u001b[0;34m,\u001b[0m \u001b[0mb\u001b[0m \u001b[0;34m=\u001b[0m \u001b[0;34m-\u001b[0m\u001b[0mcartwidth\u001b[0m \u001b[0;34m/\u001b[0m \u001b[0;36m2\u001b[0m\u001b[0;34m,\u001b[0m \u001b[0mcartwidth\u001b[0m \u001b[0;34m/\u001b[0m \u001b[0;36m2\u001b[0m\u001b[0;34m,\u001b[0m \u001b[0mcartheight\u001b[0m \u001b[0;34m/\u001b[0m \u001b[0;36m2\u001b[0m\u001b[0;34m,\u001b[0m \u001b[0;34m-\u001b[0m\u001b[0mcartheight\u001b[0m \u001b[0;34m/\u001b[0m \u001b[0;36m2\u001b[0m\u001b[0;34m\u001b[0m\u001b[0;34m\u001b[0m\u001b[0m\n",
      "\u001b[0;32m/opt/conda/lib/python3.7/site-packages/gym/envs/classic_control/rendering.py\u001b[0m in \u001b[0;36m<module>\u001b[0;34m\u001b[0m\n\u001b[1;32m     30\u001b[0m     \u001b[0mIf\u001b[0m \u001b[0myou\u001b[0m\u001b[0;31m'\u001b[0m\u001b[0mre\u001b[0m \u001b[0mrunning\u001b[0m \u001b[0mon\u001b[0m \u001b[0ma\u001b[0m \u001b[0mserver\u001b[0m\u001b[0;34m,\u001b[0m \u001b[0myou\u001b[0m \u001b[0mmay\u001b[0m \u001b[0mneed\u001b[0m \u001b[0ma\u001b[0m \u001b[0mvirtual\u001b[0m \u001b[0mframe\u001b[0m \u001b[0mbuffer\u001b[0m\u001b[0;34m;\u001b[0m \u001b[0msomething\u001b[0m \u001b[0mlike\u001b[0m \u001b[0mthis\u001b[0m \u001b[0mshould\u001b[0m \u001b[0mwork\u001b[0m\u001b[0;34m:\u001b[0m\u001b[0;34m\u001b[0m\u001b[0;34m\u001b[0m\u001b[0m\n\u001b[1;32m     31\u001b[0m     \u001b[0;34m'xvfb-run -s \\\"-screen 0 1400x900x24\\\" python <your_script.py>'\u001b[0m\u001b[0;34m\u001b[0m\u001b[0;34m\u001b[0m\u001b[0m\n\u001b[0;32m---> 32\u001b[0;31m     ''')\n\u001b[0m\u001b[1;32m     33\u001b[0m \u001b[0;34m\u001b[0m\u001b[0m\n\u001b[1;32m     34\u001b[0m \u001b[0;32mimport\u001b[0m \u001b[0mmath\u001b[0m\u001b[0;34m\u001b[0m\u001b[0;34m\u001b[0m\u001b[0m\n",
      "\u001b[0;31mImportError\u001b[0m: \n    Error occurred while running `from pyglet.gl import *`\n    HINT: make sure you have OpenGL install. On Ubuntu, you can run 'apt-get install python-opengl'.\n    If you're running on a server, you may need a virtual frame buffer; something like this should work:\n    'xvfb-run -s \"-screen 0 1400x900x24\" python <your_script.py>'\n    "
     ]
    }
   ],
   "source": [
    "#@test {\"skip\": true}\n",
    "env.reset()\n",
    "PIL.Image.fromarray(env.render())"
   ]
  },
  {
   "cell_type": "markdown",
   "metadata": {
    "id": "B9_lskPOey18",
    "papermill": {
     "duration": 0.072369,
     "end_time": "2020-11-14T17:15:26.360812",
     "exception": false,
     "start_time": "2020-11-14T17:15:26.288443",
     "status": "completed"
    },
    "tags": []
   },
   "source": [
    "The `environment.step` method takes an `action` in the environment and returns a `TimeStep` tuple containing the next observation of the environment and the reward for the action.\n",
    "\n",
    "The `time_step_spec()` method returns the specification for the `TimeStep` tuple. Its `observation` attribute shows the shape of observations, the data types, and the ranges of allowed values. The `reward` attribute shows the same details for the reward.\n"
   ]
  },
  {
   "cell_type": "code",
   "execution_count": 8,
   "metadata": {
    "execution": {
     "iopub.execute_input": "2020-11-14T17:15:26.515016Z",
     "iopub.status.busy": "2020-11-14T17:15:26.514144Z",
     "iopub.status.idle": "2020-11-14T17:15:26.519934Z",
     "shell.execute_reply": "2020-11-14T17:15:26.519219Z"
    },
    "id": "exDv57iHfwQV",
    "papermill": {
     "duration": 0.085916,
     "end_time": "2020-11-14T17:15:26.520078",
     "exception": false,
     "start_time": "2020-11-14T17:15:26.434162",
     "status": "completed"
    },
    "tags": []
   },
   "outputs": [
    {
     "name": "stdout",
     "output_type": "stream",
     "text": [
      "Observation Spec:\n",
      "BoundedArraySpec(shape=(4,), dtype=dtype('float32'), name='observation', minimum=[-4.8000002e+00 -3.4028235e+38 -4.1887903e-01 -3.4028235e+38], maximum=[4.8000002e+00 3.4028235e+38 4.1887903e-01 3.4028235e+38])\n"
     ]
    }
   ],
   "source": [
    "print('Observation Spec:')\n",
    "print(env.time_step_spec().observation)"
   ]
  },
  {
   "cell_type": "code",
   "execution_count": 9,
   "metadata": {
    "execution": {
     "iopub.execute_input": "2020-11-14T17:15:26.695235Z",
     "iopub.status.busy": "2020-11-14T17:15:26.694265Z",
     "iopub.status.idle": "2020-11-14T17:15:26.698486Z",
     "shell.execute_reply": "2020-11-14T17:15:26.697819Z"
    },
    "id": "UxiSyCbBUQPi",
    "papermill": {
     "duration": 0.094483,
     "end_time": "2020-11-14T17:15:26.698613",
     "exception": false,
     "start_time": "2020-11-14T17:15:26.604130",
     "status": "completed"
    },
    "tags": []
   },
   "outputs": [
    {
     "name": "stdout",
     "output_type": "stream",
     "text": [
      "Reward Spec:\n",
      "ArraySpec(shape=(), dtype=dtype('float32'), name='reward')\n"
     ]
    }
   ],
   "source": [
    "print('Reward Spec:')\n",
    "print(env.time_step_spec().reward)"
   ]
  },
  {
   "cell_type": "markdown",
   "metadata": {
    "id": "b_lHcIcqUaqB",
    "papermill": {
     "duration": 0.074892,
     "end_time": "2020-11-14T17:15:26.850592",
     "exception": false,
     "start_time": "2020-11-14T17:15:26.775700",
     "status": "completed"
    },
    "tags": []
   },
   "source": [
    "The `action_spec()` method returns the shape, data types, and allowed values of valid actions."
   ]
  },
  {
   "cell_type": "code",
   "execution_count": 10,
   "metadata": {
    "execution": {
     "iopub.execute_input": "2020-11-14T17:15:27.006904Z",
     "iopub.status.busy": "2020-11-14T17:15:27.006034Z",
     "iopub.status.idle": "2020-11-14T17:15:27.011311Z",
     "shell.execute_reply": "2020-11-14T17:15:27.010387Z"
    },
    "id": "bttJ4uxZUQBr",
    "papermill": {
     "duration": 0.085641,
     "end_time": "2020-11-14T17:15:27.011498",
     "exception": false,
     "start_time": "2020-11-14T17:15:26.925857",
     "status": "completed"
    },
    "tags": []
   },
   "outputs": [
    {
     "name": "stdout",
     "output_type": "stream",
     "text": [
      "Action Spec:\n",
      "BoundedArraySpec(shape=(), dtype=dtype('int64'), name='action', minimum=0, maximum=1)\n"
     ]
    }
   ],
   "source": [
    "print('Action Spec:')\n",
    "print(env.action_spec())"
   ]
  },
  {
   "cell_type": "markdown",
   "metadata": {
    "id": "eJCgJnx3g0yY",
    "papermill": {
     "duration": 0.076558,
     "end_time": "2020-11-14T17:15:27.164349",
     "exception": false,
     "start_time": "2020-11-14T17:15:27.087791",
     "status": "completed"
    },
    "tags": []
   },
   "source": [
    "In the Cartpole environment:\n",
    "\n",
    "-   `observation` is an array of 4 floats: \n",
    "    -   the position and velocity of the cart\n",
    "    -   the angular position and velocity of the pole \n",
    "-   `reward` is a scalar float value\n",
    "-   `action` is a scalar integer with only two possible values:\n",
    "    -   `0` — \"move left\"\n",
    "    -   `1` — \"move right\"\n"
   ]
  },
  {
   "cell_type": "code",
   "execution_count": 11,
   "metadata": {
    "execution": {
     "iopub.execute_input": "2020-11-14T17:15:27.328615Z",
     "iopub.status.busy": "2020-11-14T17:15:27.327744Z",
     "iopub.status.idle": "2020-11-14T17:15:27.333579Z",
     "shell.execute_reply": "2020-11-14T17:15:27.332889Z"
    },
    "id": "V2UGR5t_iZX-",
    "papermill": {
     "duration": 0.093282,
     "end_time": "2020-11-14T17:15:27.333712",
     "exception": false,
     "start_time": "2020-11-14T17:15:27.240430",
     "status": "completed"
    },
    "tags": []
   },
   "outputs": [
    {
     "name": "stdout",
     "output_type": "stream",
     "text": [
      "Time step:\n",
      "TimeStep(step_type=array(0, dtype=int32), reward=array(0., dtype=float32), discount=array(1., dtype=float32), observation=array([ 0.02293142,  0.00031539,  0.02476514, -0.02708917], dtype=float32))\n",
      "Next time step:\n",
      "TimeStep(step_type=array(1, dtype=int32), reward=array(1., dtype=float32), discount=array(1., dtype=float32), observation=array([ 0.02293772,  0.1950736 ,  0.02422336, -0.3118567 ], dtype=float32))\n"
     ]
    }
   ],
   "source": [
    "time_step = env.reset()\n",
    "print('Time step:')\n",
    "print(time_step)\n",
    "\n",
    "action = np.array(1, dtype=np.int32)\n",
    "\n",
    "next_time_step = env.step(action)\n",
    "print('Next time step:')\n",
    "print(next_time_step)"
   ]
  },
  {
   "cell_type": "markdown",
   "metadata": {
    "id": "4JSc9GviWUBK",
    "papermill": {
     "duration": 0.07636,
     "end_time": "2020-11-14T17:15:27.485829",
     "exception": false,
     "start_time": "2020-11-14T17:15:27.409469",
     "status": "completed"
    },
    "tags": []
   },
   "source": [
    "Usually two environments are instantiated: one for training and one for evaluation. "
   ]
  },
  {
   "cell_type": "code",
   "execution_count": 12,
   "metadata": {
    "execution": {
     "iopub.execute_input": "2020-11-14T17:15:27.645053Z",
     "iopub.status.busy": "2020-11-14T17:15:27.643068Z",
     "iopub.status.idle": "2020-11-14T17:15:27.650331Z",
     "shell.execute_reply": "2020-11-14T17:15:27.650956Z"
    },
    "id": "N7brXNIGWXjC",
    "papermill": {
     "duration": 0.089285,
     "end_time": "2020-11-14T17:15:27.651141",
     "exception": false,
     "start_time": "2020-11-14T17:15:27.561856",
     "status": "completed"
    },
    "tags": []
   },
   "outputs": [],
   "source": [
    "train_py_env = suite_gym.load(env_name)\n",
    "eval_py_env = suite_gym.load(env_name)"
   ]
  },
  {
   "cell_type": "markdown",
   "metadata": {
    "id": "zuUqXAVmecTU",
    "papermill": {
     "duration": 0.075244,
     "end_time": "2020-11-14T17:15:27.803822",
     "exception": false,
     "start_time": "2020-11-14T17:15:27.728578",
     "status": "completed"
    },
    "tags": []
   },
   "source": [
    "The Cartpole environment, like most environments, is written in pure Python. This is converted to TensorFlow using the `TFPyEnvironment` wrapper.\n",
    "\n",
    "The original environment's API uses Numpy arrays. The `TFPyEnvironment` converts these to `Tensors` to make it compatible with Tensorflow agents and policies.\n"
   ]
  },
  {
   "cell_type": "code",
   "execution_count": 13,
   "metadata": {
    "execution": {
     "iopub.execute_input": "2020-11-14T17:15:27.969237Z",
     "iopub.status.busy": "2020-11-14T17:15:27.968437Z",
     "iopub.status.idle": "2020-11-14T17:15:27.976768Z",
     "shell.execute_reply": "2020-11-14T17:15:27.975913Z"
    },
    "id": "Xp-Y4mD6eDhF",
    "papermill": {
     "duration": 0.096407,
     "end_time": "2020-11-14T17:15:27.976913",
     "exception": false,
     "start_time": "2020-11-14T17:15:27.880506",
     "status": "completed"
    },
    "tags": []
   },
   "outputs": [],
   "source": [
    "train_env = tf_py_environment.TFPyEnvironment(train_py_env)\n",
    "eval_env = tf_py_environment.TFPyEnvironment(eval_py_env)"
   ]
  },
  {
   "cell_type": "markdown",
   "metadata": {
    "id": "E9lW_OZYFR8A",
    "papermill": {
     "duration": 0.076717,
     "end_time": "2020-11-14T17:15:28.134960",
     "exception": false,
     "start_time": "2020-11-14T17:15:28.058243",
     "status": "completed"
    },
    "tags": []
   },
   "source": [
    "## Agent\n",
    "\n",
    "The algorithm used to solve an RL problem is represented by an `Agent`. TF-Agents provides standard implementations of a variety of `Agents`, including:\n",
    "\n",
    "-   [DQN](https://storage.googleapis.com/deepmind-media/dqn/DQNNaturePaper.pdf) (used in this tutorial)\n",
    "-   [REINFORCE](http://www-anw.cs.umass.edu/~barto/courses/cs687/williams92simple.pdf)\n",
    "-   [DDPG](https://arxiv.org/pdf/1509.02971.pdf)\n",
    "-   [TD3](https://arxiv.org/pdf/1802.09477.pdf)\n",
    "-   [PPO](https://arxiv.org/abs/1707.06347)\n",
    "-   [SAC](https://arxiv.org/abs/1801.01290).\n",
    "\n",
    "The DQN agent can be used in any environment which has a discrete action space.\n",
    "\n",
    "At the heart of a DQN Agent is a `QNetwork`, a neural network model that can learn to predict `QValues` (expected returns) for all actions, given an observation from the environment.\n",
    "\n",
    "Use `tf_agents.networks.q_network` to create a `QNetwork`, passing in the `observation_spec`, `action_spec`, and a tuple describing the number and size of the model's hidden layers.\n"
   ]
  },
  {
   "cell_type": "code",
   "execution_count": 14,
   "metadata": {
    "execution": {
     "iopub.execute_input": "2020-11-14T17:15:28.296181Z",
     "iopub.status.busy": "2020-11-14T17:15:28.295415Z",
     "iopub.status.idle": "2020-11-14T17:15:28.323764Z",
     "shell.execute_reply": "2020-11-14T17:15:28.324448Z"
    },
    "id": "TgkdEPg_muzV",
    "papermill": {
     "duration": 0.112897,
     "end_time": "2020-11-14T17:15:28.324626",
     "exception": false,
     "start_time": "2020-11-14T17:15:28.211729",
     "status": "completed"
    },
    "tags": []
   },
   "outputs": [],
   "source": [
    "fc_layer_params = (100,)\n",
    "\n",
    "q_net = q_network.QNetwork(\n",
    "    train_env.observation_spec(),\n",
    "    train_env.action_spec(),\n",
    "    fc_layer_params=fc_layer_params)"
   ]
  },
  {
   "cell_type": "markdown",
   "metadata": {
    "id": "z62u55hSmviJ",
    "papermill": {
     "duration": 0.076,
     "end_time": "2020-11-14T17:15:28.477686",
     "exception": false,
     "start_time": "2020-11-14T17:15:28.401686",
     "status": "completed"
    },
    "tags": []
   },
   "source": [
    "Now use `tf_agents.agents.dqn.dqn_agent` to instantiate a `DqnAgent`. In addition to the `time_step_spec`, `action_spec` and the QNetwork, the agent constructor also requires an optimizer (in this case, `AdamOptimizer`), a loss function, and an integer step counter."
   ]
  },
  {
   "cell_type": "code",
   "execution_count": 15,
   "metadata": {
    "execution": {
     "iopub.execute_input": "2020-11-14T17:15:28.687277Z",
     "iopub.status.busy": "2020-11-14T17:15:28.686456Z",
     "iopub.status.idle": "2020-11-14T17:15:28.816494Z",
     "shell.execute_reply": "2020-11-14T17:15:28.817078Z"
    },
    "id": "jbY4yrjTEyc9",
    "papermill": {
     "duration": 0.263103,
     "end_time": "2020-11-14T17:15:28.817254",
     "exception": false,
     "start_time": "2020-11-14T17:15:28.554151",
     "status": "completed"
    },
    "tags": []
   },
   "outputs": [],
   "source": [
    "optimizer = tf.compat.v1.train.AdamOptimizer(learning_rate=learning_rate)\n",
    "\n",
    "train_step_counter = tf.Variable(0)\n",
    "\n",
    "agent = dqn_agent.DqnAgent(\n",
    "    train_env.time_step_spec(),\n",
    "    train_env.action_spec(),\n",
    "    q_network=q_net,\n",
    "    optimizer=optimizer,\n",
    "    td_errors_loss_fn=common.element_wise_squared_loss,\n",
    "    train_step_counter=train_step_counter)\n",
    "\n",
    "agent.initialize()"
   ]
  },
  {
   "cell_type": "markdown",
   "metadata": {
    "id": "I0KLrEPwkn5x",
    "papermill": {
     "duration": 0.077352,
     "end_time": "2020-11-14T17:15:28.972619",
     "exception": false,
     "start_time": "2020-11-14T17:15:28.895267",
     "status": "completed"
    },
    "tags": []
   },
   "source": [
    "## Policies\n",
    "\n",
    "A policy defines the way an agent acts in an environment. Typically, the goal of reinforcement learning is to train the underlying model until the policy produces the desired outcome.\n",
    "\n",
    "In this tutorial:\n",
    "\n",
    "-   The desired outcome is keeping the pole balanced upright over the cart.\n",
    "-   The policy returns an action (left or right) for each `time_step` observation.\n",
    "\n",
    "Agents contain two policies: \n",
    "\n",
    "-   `agent.policy` — The main policy that is used for evaluation and deployment.\n",
    "-   `agent.collect_policy` — A second policy that is used for data collection.\n"
   ]
  },
  {
   "cell_type": "code",
   "execution_count": 16,
   "metadata": {
    "execution": {
     "iopub.execute_input": "2020-11-14T17:15:29.135056Z",
     "iopub.status.busy": "2020-11-14T17:15:29.134030Z",
     "iopub.status.idle": "2020-11-14T17:15:29.137824Z",
     "shell.execute_reply": "2020-11-14T17:15:29.137135Z"
    },
    "id": "BwY7StuMkuV4",
    "papermill": {
     "duration": 0.086701,
     "end_time": "2020-11-14T17:15:29.137952",
     "exception": false,
     "start_time": "2020-11-14T17:15:29.051251",
     "status": "completed"
    },
    "tags": []
   },
   "outputs": [],
   "source": [
    "eval_policy = agent.policy\n",
    "collect_policy = agent.collect_policy"
   ]
  },
  {
   "cell_type": "markdown",
   "metadata": {
    "id": "2Qs1Fl3dV0ae",
    "papermill": {
     "duration": 0.07583,
     "end_time": "2020-11-14T17:15:29.290050",
     "exception": false,
     "start_time": "2020-11-14T17:15:29.214220",
     "status": "completed"
    },
    "tags": []
   },
   "source": [
    "Policies can be created independently of agents. For example, use `tf_agents.policies.random_tf_policy` to create a policy which will randomly select an action for each `time_step`."
   ]
  },
  {
   "cell_type": "code",
   "execution_count": 17,
   "metadata": {
    "execution": {
     "iopub.execute_input": "2020-11-14T17:15:29.450258Z",
     "iopub.status.busy": "2020-11-14T17:15:29.449136Z",
     "iopub.status.idle": "2020-11-14T17:15:29.452462Z",
     "shell.execute_reply": "2020-11-14T17:15:29.451676Z"
    },
    "id": "HE37-UCIrE69",
    "papermill": {
     "duration": 0.085928,
     "end_time": "2020-11-14T17:15:29.452615",
     "exception": false,
     "start_time": "2020-11-14T17:15:29.366687",
     "status": "completed"
    },
    "tags": []
   },
   "outputs": [],
   "source": [
    "random_policy = random_tf_policy.RandomTFPolicy(train_env.time_step_spec(),\n",
    "                                                train_env.action_spec())"
   ]
  },
  {
   "cell_type": "markdown",
   "metadata": {
    "id": "dOlnlRRsUbxP",
    "papermill": {
     "duration": 0.077106,
     "end_time": "2020-11-14T17:15:29.606892",
     "exception": false,
     "start_time": "2020-11-14T17:15:29.529786",
     "status": "completed"
    },
    "tags": []
   },
   "source": [
    "To get an action from a policy, call the `policy.action(time_step)` method. The `time_step` contains the observation from the environment. This method returns a `PolicyStep`, which is a named tuple with three components:\n",
    "\n",
    "-   `action` — the action to be taken (in this case, `0` or `1`)\n",
    "-   `state` — used for stateful (that is, RNN-based) policies\n",
    "-   `info` — auxiliary data, such as log probabilities of actions"
   ]
  },
  {
   "cell_type": "code",
   "execution_count": 18,
   "metadata": {
    "execution": {
     "iopub.execute_input": "2020-11-14T17:15:29.769799Z",
     "iopub.status.busy": "2020-11-14T17:15:29.766378Z",
     "iopub.status.idle": "2020-11-14T17:15:29.774278Z",
     "shell.execute_reply": "2020-11-14T17:15:29.773663Z"
    },
    "id": "5gCcpXswVAxk",
    "papermill": {
     "duration": 0.090849,
     "end_time": "2020-11-14T17:15:29.774429",
     "exception": false,
     "start_time": "2020-11-14T17:15:29.683580",
     "status": "completed"
    },
    "tags": []
   },
   "outputs": [],
   "source": [
    "example_environment = tf_py_environment.TFPyEnvironment(\n",
    "    suite_gym.load('CartPole-v0'))"
   ]
  },
  {
   "cell_type": "code",
   "execution_count": 19,
   "metadata": {
    "execution": {
     "iopub.execute_input": "2020-11-14T17:15:29.935636Z",
     "iopub.status.busy": "2020-11-14T17:15:29.934637Z",
     "iopub.status.idle": "2020-11-14T17:15:29.938725Z",
     "shell.execute_reply": "2020-11-14T17:15:29.938074Z"
    },
    "id": "D4DHZtq3Ndis",
    "papermill": {
     "duration": 0.086713,
     "end_time": "2020-11-14T17:15:29.938853",
     "exception": false,
     "start_time": "2020-11-14T17:15:29.852140",
     "status": "completed"
    },
    "tags": []
   },
   "outputs": [],
   "source": [
    "time_step = example_environment.reset()"
   ]
  },
  {
   "cell_type": "code",
   "execution_count": 20,
   "metadata": {
    "execution": {
     "iopub.execute_input": "2020-11-14T17:15:30.154386Z",
     "iopub.status.busy": "2020-11-14T17:15:30.153282Z",
     "iopub.status.idle": "2020-11-14T17:15:30.167721Z",
     "shell.execute_reply": "2020-11-14T17:15:30.167104Z"
    },
    "id": "PRFqAUzpNaAW",
    "papermill": {
     "duration": 0.150181,
     "end_time": "2020-11-14T17:15:30.167851",
     "exception": false,
     "start_time": "2020-11-14T17:15:30.017670",
     "status": "completed"
    },
    "tags": []
   },
   "outputs": [
    {
     "data": {
      "text/plain": [
       "PolicyStep(action=<tf.Tensor: shape=(1,), dtype=int64, numpy=array([1])>, state=(), info=())"
      ]
     },
     "execution_count": 20,
     "metadata": {},
     "output_type": "execute_result"
    }
   ],
   "source": [
    "random_policy.action(time_step)"
   ]
  },
  {
   "cell_type": "markdown",
   "metadata": {
    "id": "94rCXQtbUbXv",
    "papermill": {
     "duration": 0.077083,
     "end_time": "2020-11-14T17:15:30.322795",
     "exception": false,
     "start_time": "2020-11-14T17:15:30.245712",
     "status": "completed"
    },
    "tags": []
   },
   "source": [
    "## Metrics and Evaluation\n",
    "\n",
    "The most common metric used to evaluate a policy is the average return. The return is the sum of rewards obtained while running a policy in an environment for an episode. Several episodes are run, creating an average return.\n",
    "\n",
    "The following function computes the average return of a policy, given the policy, environment, and a number of episodes.\n"
   ]
  },
  {
   "cell_type": "code",
   "execution_count": 21,
   "metadata": {
    "execution": {
     "iopub.execute_input": "2020-11-14T17:15:30.488862Z",
     "iopub.status.busy": "2020-11-14T17:15:30.487662Z",
     "iopub.status.idle": "2020-11-14T17:15:30.491935Z",
     "shell.execute_reply": "2020-11-14T17:15:30.491221Z"
    },
    "id": "bitzHo5_UbXy",
    "papermill": {
     "duration": 0.091455,
     "end_time": "2020-11-14T17:15:30.492066",
     "exception": false,
     "start_time": "2020-11-14T17:15:30.400611",
     "status": "completed"
    },
    "tags": []
   },
   "outputs": [],
   "source": [
    "#@test {\"skip\": true}\n",
    "def compute_avg_return(environment, policy, num_episodes=10):\n",
    "\n",
    "  total_return = 0.0\n",
    "  for _ in range(num_episodes):\n",
    "\n",
    "    time_step = environment.reset()\n",
    "    episode_return = 0.0\n",
    "\n",
    "    while not time_step.is_last():\n",
    "      action_step = policy.action(time_step)\n",
    "      time_step = environment.step(action_step.action)\n",
    "      episode_return += time_step.reward\n",
    "    total_return += episode_return\n",
    "\n",
    "  avg_return = total_return / num_episodes\n",
    "  return avg_return.numpy()[0]\n",
    "\n",
    "\n",
    "# See also the metrics module for standard implementations of different metrics.\n",
    "# https://github.com/tensorflow/agents/tree/master/tf_agents/metrics"
   ]
  },
  {
   "cell_type": "markdown",
   "metadata": {
    "id": "_snCVvq5Z8lJ",
    "papermill": {
     "duration": 0.077394,
     "end_time": "2020-11-14T17:15:30.647265",
     "exception": false,
     "start_time": "2020-11-14T17:15:30.569871",
     "status": "completed"
    },
    "tags": []
   },
   "source": [
    "Running this computation on the `random_policy` shows a baseline performance in the environment."
   ]
  },
  {
   "cell_type": "code",
   "execution_count": 22,
   "metadata": {
    "execution": {
     "iopub.execute_input": "2020-11-14T17:15:30.810445Z",
     "iopub.status.busy": "2020-11-14T17:15:30.809679Z",
     "iopub.status.idle": "2020-11-14T17:15:31.157168Z",
     "shell.execute_reply": "2020-11-14T17:15:31.156503Z"
    },
    "id": "9bgU6Q6BZ8Bp",
    "papermill": {
     "duration": 0.43067,
     "end_time": "2020-11-14T17:15:31.157299",
     "exception": false,
     "start_time": "2020-11-14T17:15:30.726629",
     "status": "completed"
    },
    "tags": []
   },
   "outputs": [
    {
     "data": {
      "text/plain": [
       "21.0"
      ]
     },
     "execution_count": 22,
     "metadata": {},
     "output_type": "execute_result"
    }
   ],
   "source": [
    "compute_avg_return(eval_env, random_policy, num_eval_episodes)"
   ]
  },
  {
   "cell_type": "markdown",
   "metadata": {
    "id": "NLva6g2jdWgr",
    "papermill": {
     "duration": 0.078127,
     "end_time": "2020-11-14T17:15:31.314836",
     "exception": false,
     "start_time": "2020-11-14T17:15:31.236709",
     "status": "completed"
    },
    "tags": []
   },
   "source": [
    "## Replay Buffer\n",
    "\n",
    "The replay buffer keeps track of data collected from the environment. This tutorial uses `tf_agents.replay_buffers.tf_uniform_replay_buffer.TFUniformReplayBuffer`, as it is the most common. \n",
    "\n",
    "The constructor requires the specs for the data it will be collecting. This is available from the agent using the `collect_data_spec` method. The batch size and maximum buffer length are also required.\n"
   ]
  },
  {
   "cell_type": "code",
   "execution_count": 23,
   "metadata": {
    "execution": {
     "iopub.execute_input": "2020-11-14T17:15:31.478804Z",
     "iopub.status.busy": "2020-11-14T17:15:31.477890Z",
     "iopub.status.idle": "2020-11-14T17:15:31.508630Z",
     "shell.execute_reply": "2020-11-14T17:15:31.507795Z"
    },
    "id": "vX2zGUWJGWAl",
    "papermill": {
     "duration": 0.115005,
     "end_time": "2020-11-14T17:15:31.508765",
     "exception": false,
     "start_time": "2020-11-14T17:15:31.393760",
     "status": "completed"
    },
    "tags": []
   },
   "outputs": [],
   "source": [
    "replay_buffer = tf_uniform_replay_buffer.TFUniformReplayBuffer(\n",
    "    data_spec=agent.collect_data_spec,\n",
    "    batch_size=train_env.batch_size,\n",
    "    max_length=replay_buffer_max_length)"
   ]
  },
  {
   "cell_type": "markdown",
   "metadata": {
    "id": "ZGNTDJpZs4NN",
    "papermill": {
     "duration": 0.090231,
     "end_time": "2020-11-14T17:15:31.693123",
     "exception": false,
     "start_time": "2020-11-14T17:15:31.602892",
     "status": "completed"
    },
    "tags": []
   },
   "source": [
    "For most agents, `collect_data_spec` is a named tuple called `Trajectory`, containing the specs for observations, actions, rewards, and other items."
   ]
  },
  {
   "cell_type": "code",
   "execution_count": 24,
   "metadata": {
    "execution": {
     "iopub.execute_input": "2020-11-14T17:15:31.860298Z",
     "iopub.status.busy": "2020-11-14T17:15:31.859388Z",
     "iopub.status.idle": "2020-11-14T17:15:31.862878Z",
     "shell.execute_reply": "2020-11-14T17:15:31.863472Z"
    },
    "id": "_IZ-3HcqgE1z",
    "papermill": {
     "duration": 0.091278,
     "end_time": "2020-11-14T17:15:31.863628",
     "exception": false,
     "start_time": "2020-11-14T17:15:31.772350",
     "status": "completed"
    },
    "tags": []
   },
   "outputs": [
    {
     "data": {
      "text/plain": [
       "Trajectory(step_type=TensorSpec(shape=(), dtype=tf.int32, name='step_type'), observation=BoundedTensorSpec(shape=(4,), dtype=tf.float32, name='observation', minimum=array([-4.8000002e+00, -3.4028235e+38, -4.1887903e-01, -3.4028235e+38],\n",
       "      dtype=float32), maximum=array([4.8000002e+00, 3.4028235e+38, 4.1887903e-01, 3.4028235e+38],\n",
       "      dtype=float32)), action=BoundedTensorSpec(shape=(), dtype=tf.int64, name='action', minimum=array(0), maximum=array(1)), policy_info=(), next_step_type=TensorSpec(shape=(), dtype=tf.int32, name='step_type'), reward=TensorSpec(shape=(), dtype=tf.float32, name='reward'), discount=BoundedTensorSpec(shape=(), dtype=tf.float32, name='discount', minimum=array(0., dtype=float32), maximum=array(1., dtype=float32)))"
      ]
     },
     "execution_count": 24,
     "metadata": {},
     "output_type": "execute_result"
    }
   ],
   "source": [
    "agent.collect_data_spec"
   ]
  },
  {
   "cell_type": "code",
   "execution_count": 25,
   "metadata": {
    "execution": {
     "iopub.execute_input": "2020-11-14T17:15:32.030347Z",
     "iopub.status.busy": "2020-11-14T17:15:32.029524Z",
     "iopub.status.idle": "2020-11-14T17:15:32.033800Z",
     "shell.execute_reply": "2020-11-14T17:15:32.033069Z"
    },
    "id": "sy6g1tGcfRlw",
    "papermill": {
     "duration": 0.090652,
     "end_time": "2020-11-14T17:15:32.033923",
     "exception": false,
     "start_time": "2020-11-14T17:15:31.943271",
     "status": "completed"
    },
    "tags": []
   },
   "outputs": [
    {
     "data": {
      "text/plain": [
       "('step_type',\n",
       " 'observation',\n",
       " 'action',\n",
       " 'policy_info',\n",
       " 'next_step_type',\n",
       " 'reward',\n",
       " 'discount')"
      ]
     },
     "execution_count": 25,
     "metadata": {},
     "output_type": "execute_result"
    }
   ],
   "source": [
    "agent.collect_data_spec._fields"
   ]
  },
  {
   "cell_type": "markdown",
   "metadata": {
    "id": "rVD5nQ9ZGo8_",
    "papermill": {
     "duration": 0.07978,
     "end_time": "2020-11-14T17:15:32.194712",
     "exception": false,
     "start_time": "2020-11-14T17:15:32.114932",
     "status": "completed"
    },
    "tags": []
   },
   "source": [
    "## Data Collection\n",
    "\n",
    "Now execute the random policy in the environment for a few steps, recording the data in the replay buffer."
   ]
  },
  {
   "cell_type": "code",
   "execution_count": 26,
   "metadata": {
    "execution": {
     "iopub.execute_input": "2020-11-14T17:15:32.365102Z",
     "iopub.status.busy": "2020-11-14T17:15:32.363900Z",
     "iopub.status.idle": "2020-11-14T17:15:32.682949Z",
     "shell.execute_reply": "2020-11-14T17:15:32.682305Z"
    },
    "id": "wr1KSAEGG4h9",
    "papermill": {
     "duration": 0.408997,
     "end_time": "2020-11-14T17:15:32.683080",
     "exception": false,
     "start_time": "2020-11-14T17:15:32.274083",
     "status": "completed"
    },
    "tags": []
   },
   "outputs": [],
   "source": [
    "#@test {\"skip\": true}\n",
    "def collect_step(environment, policy, buffer):\n",
    "  time_step = environment.current_time_step()\n",
    "  action_step = policy.action(time_step)\n",
    "  next_time_step = environment.step(action_step.action)\n",
    "  traj = trajectory.from_transition(time_step, action_step, next_time_step)\n",
    "\n",
    "  # Add trajectory to the replay buffer\n",
    "  buffer.add_batch(traj)\n",
    "\n",
    "def collect_data(env, policy, buffer, steps):\n",
    "  for _ in range(steps):\n",
    "    collect_step(env, policy, buffer)\n",
    "\n",
    "collect_data(train_env, random_policy, replay_buffer, initial_collect_steps)\n",
    "\n",
    "# This loop is so common in RL, that we provide standard implementations. \n",
    "# For more details see the drivers module.\n",
    "# https://www.tensorflow.org/agents/api_docs/python/tf_agents/drivers"
   ]
  },
  {
   "cell_type": "markdown",
   "metadata": {
    "id": "84z5pQJdoKxo",
    "papermill": {
     "duration": 0.082254,
     "end_time": "2020-11-14T17:15:32.847192",
     "exception": false,
     "start_time": "2020-11-14T17:15:32.764938",
     "status": "completed"
    },
    "tags": []
   },
   "source": [
    "The replay buffer is now a collection of Trajectories."
   ]
  },
  {
   "cell_type": "code",
   "execution_count": 27,
   "metadata": {
    "execution": {
     "iopub.execute_input": "2020-11-14T17:15:33.019755Z",
     "iopub.status.busy": "2020-11-14T17:15:33.017745Z",
     "iopub.status.idle": "2020-11-14T17:15:33.022001Z",
     "shell.execute_reply": "2020-11-14T17:15:33.021125Z"
    },
    "id": "4wZnLu2ViO4E",
    "papermill": {
     "duration": 0.093893,
     "end_time": "2020-11-14T17:15:33.022148",
     "exception": false,
     "start_time": "2020-11-14T17:15:32.928255",
     "status": "completed"
    },
    "tags": []
   },
   "outputs": [],
   "source": [
    "# For the curious:\n",
    "# Uncomment to peel one of these off and inspect it.\n",
    "# iter(replay_buffer.as_dataset()).next()"
   ]
  },
  {
   "cell_type": "markdown",
   "metadata": {
    "id": "TujU-PMUsKjS",
    "papermill": {
     "duration": 0.081916,
     "end_time": "2020-11-14T17:15:33.187833",
     "exception": false,
     "start_time": "2020-11-14T17:15:33.105917",
     "status": "completed"
    },
    "tags": []
   },
   "source": [
    "The agent needs access to the replay buffer. This is provided by creating an iterable `tf.data.Dataset` pipeline which will feed data to the agent.\n",
    "\n",
    "Each row of the replay buffer only stores a single observation step. But since the DQN Agent needs both the current and next observation to compute the loss, the dataset pipeline will sample two adjacent rows for each item in the batch (`num_steps=2`).\n",
    "\n",
    "This dataset is also optimized by running parallel calls and prefetching data."
   ]
  },
  {
   "cell_type": "code",
   "execution_count": 28,
   "metadata": {
    "execution": {
     "iopub.execute_input": "2020-11-14T17:15:33.362830Z",
     "iopub.status.busy": "2020-11-14T17:15:33.362026Z",
     "iopub.status.idle": "2020-11-14T17:15:34.954762Z",
     "shell.execute_reply": "2020-11-14T17:15:34.953971Z"
    },
    "id": "ba7bilizt_qW",
    "papermill": {
     "duration": 1.684042,
     "end_time": "2020-11-14T17:15:34.954890",
     "exception": false,
     "start_time": "2020-11-14T17:15:33.270848",
     "status": "completed"
    },
    "tags": []
   },
   "outputs": [
    {
     "data": {
      "text/plain": [
       "<PrefetchDataset shapes: (Trajectory(step_type=(64, 2), observation=(64, 2, 4), action=(64, 2), policy_info=(), next_step_type=(64, 2), reward=(64, 2), discount=(64, 2)), BufferInfo(ids=(64, 2), probabilities=(64,))), types: (Trajectory(step_type=tf.int32, observation=tf.float32, action=tf.int64, policy_info=(), next_step_type=tf.int32, reward=tf.float32, discount=tf.float32), BufferInfo(ids=tf.int64, probabilities=tf.float32))>"
      ]
     },
     "execution_count": 28,
     "metadata": {},
     "output_type": "execute_result"
    }
   ],
   "source": [
    "# Dataset generates trajectories with shape [Bx2x...]\n",
    "dataset = replay_buffer.as_dataset(\n",
    "    num_parallel_calls=3, \n",
    "    sample_batch_size=batch_size, \n",
    "    num_steps=2).prefetch(3)\n",
    "\n",
    "\n",
    "dataset"
   ]
  },
  {
   "cell_type": "code",
   "execution_count": 29,
   "metadata": {
    "execution": {
     "iopub.execute_input": "2020-11-14T17:15:35.135719Z",
     "iopub.status.busy": "2020-11-14T17:15:35.134646Z",
     "iopub.status.idle": "2020-11-14T17:15:35.299949Z",
     "shell.execute_reply": "2020-11-14T17:15:35.299039Z"
    },
    "id": "K13AST-2ppOq",
    "papermill": {
     "duration": 0.256019,
     "end_time": "2020-11-14T17:15:35.300104",
     "exception": false,
     "start_time": "2020-11-14T17:15:35.044085",
     "status": "completed"
    },
    "tags": []
   },
   "outputs": [
    {
     "name": "stdout",
     "output_type": "stream",
     "text": [
      "<tensorflow.python.data.ops.iterator_ops.OwnedIterator object at 0x7fba5c3f8a10>\n"
     ]
    }
   ],
   "source": [
    "iterator = iter(dataset)\n",
    "\n",
    "print(iterator)\n"
   ]
  },
  {
   "cell_type": "code",
   "execution_count": 30,
   "metadata": {
    "execution": {
     "iopub.execute_input": "2020-11-14T17:15:35.470976Z",
     "iopub.status.busy": "2020-11-14T17:15:35.470170Z",
     "iopub.status.idle": "2020-11-14T17:15:35.473884Z",
     "shell.execute_reply": "2020-11-14T17:15:35.473272Z"
    },
    "id": "Th5w5Sff0b16",
    "papermill": {
     "duration": 0.091361,
     "end_time": "2020-11-14T17:15:35.474027",
     "exception": false,
     "start_time": "2020-11-14T17:15:35.382666",
     "status": "completed"
    },
    "tags": []
   },
   "outputs": [],
   "source": [
    "# For the curious:\n",
    "# Uncomment to see what the dataset iterator is feeding to the agent.\n",
    "# Compare this representation of replay data \n",
    "# to the collection of individual trajectories shown earlier.\n",
    "\n",
    "# iterator.next()"
   ]
  },
  {
   "cell_type": "markdown",
   "metadata": {
    "id": "hBc9lj9VWWtZ",
    "papermill": {
     "duration": 0.082514,
     "end_time": "2020-11-14T17:15:35.639280",
     "exception": false,
     "start_time": "2020-11-14T17:15:35.556766",
     "status": "completed"
    },
    "tags": []
   },
   "source": [
    "## Training the agent\n",
    "\n",
    "Two things must happen during the training loop:\n",
    "\n",
    "-   collect data from the environment\n",
    "-   use that data to train the agent's neural network(s)\n",
    "\n",
    "This example also periodicially evaluates the policy and prints the current score.\n",
    "\n",
    "The following will take ~5 minutes to run."
   ]
  },
  {
   "cell_type": "code",
   "execution_count": 31,
   "metadata": {
    "execution": {
     "iopub.execute_input": "2020-11-14T17:15:35.819091Z",
     "iopub.status.busy": "2020-11-14T17:15:35.817967Z",
     "iopub.status.idle": "2020-11-14T17:20:51.649649Z",
     "shell.execute_reply": "2020-11-14T17:20:51.648852Z"
    },
    "id": "0pTbJ3PeyF-u",
    "papermill": {
     "duration": 315.926441,
     "end_time": "2020-11-14T17:20:51.649781",
     "exception": false,
     "start_time": "2020-11-14T17:15:35.723340",
     "status": "completed"
    },
    "tags": []
   },
   "outputs": [
    {
     "name": "stdout",
     "output_type": "stream",
     "text": [
      "step = 200: loss = 4.396056175231934\n",
      "step = 400: loss = 7.12950325012207\n",
      "step = 600: loss = 19.0213623046875\n",
      "step = 800: loss = 45.954856872558594\n",
      "step = 1000: loss = 35.900394439697266\n",
      "step = 1000: Average Return = 21.399999618530273\n",
      "step = 1200: loss = 60.97482681274414\n",
      "step = 1400: loss = 8.678962707519531\n",
      "step = 1600: loss = 13.465248107910156\n",
      "step = 1800: loss = 42.33995056152344\n",
      "step = 2000: loss = 42.936370849609375\n",
      "step = 2000: Average Return = 21.799999237060547\n",
      "step = 2200: loss = 31.616790771484375\n",
      "step = 2400: loss = 22.685911178588867\n",
      "step = 2600: loss = 38.37220001220703\n",
      "step = 2800: loss = 37.58420944213867\n",
      "step = 3000: loss = 3.856482982635498\n",
      "step = 3000: Average Return = 57.79999923706055\n",
      "step = 3200: loss = 35.28976821899414\n",
      "step = 3400: loss = 66.32443237304688\n",
      "step = 3600: loss = 23.272449493408203\n",
      "step = 3800: loss = 43.786964416503906\n",
      "step = 4000: loss = 41.105628967285156\n",
      "step = 4000: Average Return = 56.29999923706055\n",
      "step = 4200: loss = 46.486289978027344\n",
      "step = 4400: loss = 4.201555252075195\n",
      "step = 4600: loss = 19.769638061523438\n",
      "step = 4800: loss = 68.71635437011719\n",
      "step = 5000: loss = 20.640056610107422\n",
      "step = 5000: Average Return = 139.3000030517578\n",
      "step = 5200: loss = 117.58318328857422\n",
      "step = 5400: loss = 79.74185180664062\n",
      "step = 5600: loss = 6.662008285522461\n",
      "step = 5800: loss = 103.161376953125\n",
      "step = 6000: loss = 107.78683471679688\n",
      "step = 6000: Average Return = 165.3000030517578\n",
      "step = 6200: loss = 114.5666732788086\n",
      "step = 6400: loss = 129.692138671875\n",
      "step = 6600: loss = 30.45376968383789\n",
      "step = 6800: loss = 128.75599670410156\n",
      "step = 7000: loss = 165.18016052246094\n",
      "step = 7000: Average Return = 191.10000610351562\n",
      "step = 7200: loss = 57.304161071777344\n",
      "step = 7400: loss = 6.998261451721191\n",
      "step = 7600: loss = 8.186169624328613\n",
      "step = 7800: loss = 58.892601013183594\n",
      "step = 8000: loss = 529.5518188476562\n",
      "step = 8000: Average Return = 199.8000030517578\n",
      "step = 8200: loss = 219.83181762695312\n",
      "step = 8400: loss = 14.06907844543457\n",
      "step = 8600: loss = 66.94835662841797\n",
      "step = 8800: loss = 52.18323516845703\n",
      "step = 9000: loss = 80.11226654052734\n",
      "step = 9000: Average Return = 191.89999389648438\n",
      "step = 9200: loss = 721.2850341796875\n",
      "step = 9400: loss = 60.380550384521484\n",
      "step = 9600: loss = 11.696849822998047\n",
      "step = 9800: loss = 9.512710571289062\n",
      "step = 10000: loss = 101.37675476074219\n",
      "step = 10000: Average Return = 200.0\n",
      "step = 10200: loss = 569.5451049804688\n",
      "step = 10400: loss = 661.7218017578125\n",
      "step = 10600: loss = 646.9798583984375\n",
      "step = 10800: loss = 747.2171020507812\n",
      "step = 11000: loss = 269.3916015625\n",
      "step = 11000: Average Return = 200.0\n",
      "step = 11200: loss = 213.5886993408203\n",
      "step = 11400: loss = 171.90919494628906\n",
      "step = 11600: loss = 906.828369140625\n",
      "step = 11800: loss = 15.310722351074219\n",
      "step = 12000: loss = 19.57976531982422\n",
      "step = 12000: Average Return = 200.0\n",
      "step = 12200: loss = 101.21498107910156\n",
      "step = 12400: loss = 1207.610107421875\n",
      "step = 12600: loss = 931.7681274414062\n",
      "step = 12800: loss = 346.9459228515625\n",
      "step = 13000: loss = 195.50245666503906\n",
      "step = 13000: Average Return = 200.0\n",
      "step = 13200: loss = 32.87226104736328\n",
      "step = 13400: loss = 256.3896484375\n",
      "step = 13600: loss = 2355.781494140625\n",
      "step = 13800: loss = 22.90468978881836\n",
      "step = 14000: loss = 3344.880615234375\n",
      "step = 14000: Average Return = 199.8000030517578\n",
      "step = 14200: loss = 1623.771728515625\n",
      "step = 14400: loss = 27.35883903503418\n",
      "step = 14600: loss = 18.671968460083008\n",
      "step = 14800: loss = 392.7735290527344\n",
      "step = 15000: loss = 145.61929321289062\n",
      "step = 15000: Average Return = 200.0\n",
      "step = 15200: loss = 43.63979721069336\n",
      "step = 15400: loss = 41.77701950073242\n",
      "step = 15600: loss = 583.6665649414062\n",
      "step = 15800: loss = 32.70055389404297\n",
      "step = 16000: loss = 647.8345336914062\n",
      "step = 16000: Average Return = 200.0\n",
      "step = 16200: loss = 835.066650390625\n",
      "step = 16400: loss = 261.7400207519531\n",
      "step = 16600: loss = 36.123512268066406\n",
      "step = 16800: loss = 67.80034637451172\n",
      "step = 17000: loss = 153.05467224121094\n",
      "step = 17000: Average Return = 200.0\n",
      "step = 17200: loss = 59.24852752685547\n",
      "step = 17400: loss = 2420.100341796875\n",
      "step = 17600: loss = 67.4312744140625\n",
      "step = 17800: loss = 36.05745315551758\n",
      "step = 18000: loss = 47.21733856201172\n",
      "step = 18000: Average Return = 200.0\n",
      "step = 18200: loss = 328.4374694824219\n",
      "step = 18400: loss = 87.05614471435547\n",
      "step = 18600: loss = 62.96955871582031\n",
      "step = 18800: loss = 53.177730560302734\n",
      "step = 19000: loss = 54.47076416015625\n",
      "step = 19000: Average Return = 200.0\n",
      "step = 19200: loss = 2917.267578125\n",
      "step = 19400: loss = 50.65538024902344\n",
      "step = 19600: loss = 4858.861328125\n",
      "step = 19800: loss = 174.15574645996094\n",
      "step = 20000: loss = 119.39047241210938\n",
      "step = 20000: Average Return = 200.0\n"
     ]
    }
   ],
   "source": [
    "#@test {\"skip\": true}\n",
    "try:\n",
    "  %%time\n",
    "except:\n",
    "  pass\n",
    "\n",
    "# (Optional) Optimize by wrapping some of the code in a graph using TF function.\n",
    "agent.train = common.function(agent.train)\n",
    "\n",
    "# Reset the train step\n",
    "agent.train_step_counter.assign(0)\n",
    "\n",
    "# Evaluate the agent's policy once before training.\n",
    "avg_return = compute_avg_return(eval_env, agent.policy, num_eval_episodes)\n",
    "returns = [avg_return]\n",
    "\n",
    "for _ in range(num_iterations):\n",
    "\n",
    "  # Collect a few steps using collect_policy and save to the replay buffer.\n",
    "  collect_data(train_env, agent.collect_policy, replay_buffer, collect_steps_per_iteration)\n",
    "\n",
    "  # Sample a batch of data from the buffer and update the agent's network.\n",
    "  experience, unused_info = next(iterator)\n",
    "  train_loss = agent.train(experience).loss\n",
    "\n",
    "  step = agent.train_step_counter.numpy()\n",
    "\n",
    "  if step % log_interval == 0:\n",
    "    print('step = {0}: loss = {1}'.format(step, train_loss))\n",
    "\n",
    "  if step % eval_interval == 0:\n",
    "    avg_return = compute_avg_return(eval_env, agent.policy, num_eval_episodes)\n",
    "    print('step = {0}: Average Return = {1}'.format(step, avg_return))\n",
    "    returns.append(avg_return)"
   ]
  },
  {
   "cell_type": "markdown",
   "metadata": {
    "id": "68jNcA_TiJDq",
    "papermill": {
     "duration": 0.13196,
     "end_time": "2020-11-14T17:20:51.911495",
     "exception": false,
     "start_time": "2020-11-14T17:20:51.779535",
     "status": "completed"
    },
    "tags": []
   },
   "source": [
    "## Visualization\n"
   ]
  },
  {
   "cell_type": "markdown",
   "metadata": {
    "id": "aO-LWCdbbOIC",
    "papermill": {
     "duration": 0.132008,
     "end_time": "2020-11-14T17:20:52.177588",
     "exception": false,
     "start_time": "2020-11-14T17:20:52.045580",
     "status": "completed"
    },
    "tags": []
   },
   "source": [
    "### Plots\n",
    "\n",
    "Use `matplotlib.pyplot` to chart how the policy improved during training.\n",
    "\n",
    "One iteration of `Cartpole-v0` consists of 200 time steps. The environment gives a reward of `+1` for each step the pole stays up, so the maximum return for one episode is 200. The charts shows the return increasing towards that maximum each time it is evaluated during training. (It may be a little unstable and not increase monotonically each time.)"
   ]
  },
  {
   "cell_type": "code",
   "execution_count": 32,
   "metadata": {
    "execution": {
     "iopub.execute_input": "2020-11-14T17:20:52.453208Z",
     "iopub.status.busy": "2020-11-14T17:20:52.452427Z",
     "iopub.status.idle": "2020-11-14T17:20:52.727277Z",
     "shell.execute_reply": "2020-11-14T17:20:52.726536Z"
    },
    "id": "NxtL1mbOYCVO",
    "papermill": {
     "duration": 0.415851,
     "end_time": "2020-11-14T17:20:52.727420",
     "exception": false,
     "start_time": "2020-11-14T17:20:52.311569",
     "status": "completed"
    },
    "tags": []
   },
   "outputs": [
    {
     "data": {
      "text/plain": [
       "(12.469999599456786, 250.0)"
      ]
     },
     "execution_count": 32,
     "metadata": {},
     "output_type": "execute_result"
    },
    {
     "data": {
      "image/png": "[encoded data removed]",
      "text/plain": [
       "<Figure size 432x288 with 1 Axes>"
      ]
     },
     "metadata": {
      "needs_background": "light"
     },
     "output_type": "display_data"
    }
   ],
   "source": [
    "#@test {\"skip\": true}\n",
    "\n",
    "iterations = range(0, num_iterations + 1, eval_interval)\n",
    "plt.plot(iterations, returns)\n",
    "plt.ylabel('Average Return')\n",
    "plt.xlabel('Iterations')\n",
    "plt.ylim(top=250)"
   ]
  },
  {
   "cell_type": "markdown",
   "metadata": {
    "id": "M7-XpPP99Cy7",
    "papermill": {
     "duration": 0.132613,
     "end_time": "2020-11-14T17:20:52.992601",
     "exception": false,
     "start_time": "2020-11-14T17:20:52.859988",
     "status": "completed"
    },
    "tags": []
   },
   "source": [
    "### Videos"
   ]
  },
  {
   "cell_type": "markdown",
   "metadata": {
    "id": "9pGfGxSH32gn",
    "papermill": {
     "duration": 0.137189,
     "end_time": "2020-11-14T17:20:53.282033",
     "exception": false,
     "start_time": "2020-11-14T17:20:53.144844",
     "status": "completed"
    },
    "tags": []
   },
   "source": [
    "Charts are nice. But more exciting is seeing an agent actually performing a task in an environment. \n",
    "\n",
    "First, create a function to embed videos in the notebook."
   ]
  },
  {
   "cell_type": "code",
   "execution_count": 33,
   "metadata": {
    "execution": {
     "iopub.execute_input": "2020-11-14T17:20:53.555959Z",
     "iopub.status.busy": "2020-11-14T17:20:53.554862Z",
     "iopub.status.idle": "2020-11-14T17:20:53.558064Z",
     "shell.execute_reply": "2020-11-14T17:20:53.558643Z"
    },
    "id": "ULaGr8pvOKbl",
    "papermill": {
     "duration": 0.144574,
     "end_time": "2020-11-14T17:20:53.558846",
     "exception": false,
     "start_time": "2020-11-14T17:20:53.414272",
     "status": "completed"
    },
    "tags": []
   },
   "outputs": [],
   "source": [
    "def embed_mp4(filename):\n",
    "  \"\"\"Embeds an mp4 file in the notebook.\"\"\"\n",
    "  video = open(filename,'rb').read()\n",
    "  b64 = base64.b64encode(video)\n",
    "  tag = '''\n",
    "  <video width=\"640\" height=\"480\" controls>\n",
    "    <source src=\"data:video/mp4;base64,{0}\" type=\"video/mp4\">\n",
    "  Your browser does not support the video tag.\n",
    "  </video>'''.format(b64.decode())\n",
    "\n",
    "  return IPython.display.HTML(tag)"
   ]
  },
  {
   "cell_type": "markdown",
   "metadata": {
    "id": "9c_PH-pX4Pr5",
    "papermill": {
     "duration": 0.134339,
     "end_time": "2020-11-14T17:20:53.832533",
     "exception": false,
     "start_time": "2020-11-14T17:20:53.698194",
     "status": "completed"
    },
    "tags": []
   },
   "source": [
    "Now iterate through a few episodes of the Cartpole game with the agent. The underlying Python environment (the one \"inside\" the TensorFlow environment wrapper) provides a `render()` method, which outputs an image of the environment state. These can be collected into a video."
   ]
  },
  {
   "cell_type": "code",
   "execution_count": 34,
   "metadata": {
    "execution": {
     "iopub.execute_input": "2020-11-14T17:20:54.113844Z",
     "iopub.status.busy": "2020-11-14T17:20:54.112920Z",
     "iopub.status.idle": "2020-11-14T17:20:54.117811Z",
     "shell.execute_reply": "2020-11-14T17:20:54.116523Z"
    },
    "id": "owOVWB158NlF",
    "papermill": {
     "duration": 0.15184,
     "end_time": "2020-11-14T17:20:54.117961",
     "exception": false,
     "start_time": "2020-11-14T17:20:53.966121",
     "status": "completed"
    },
    "tags": []
   },
   "outputs": [],
   "source": [
    "def create_policy_eval_video(policy, filename, num_episodes=5, fps=30):\n",
    "  filename = filename + \".mp4\"\n",
    "  with imageio.get_writer(filename, fps=fps) as video:\n",
    "    for _ in range(num_episodes):\n",
    "      time_step = eval_env.reset()\n",
    "      video.append_data(eval_py_env.render())\n",
    "      while not time_step.is_last():\n",
    "        action_step = policy.action(time_step)\n",
    "        time_step = eval_env.step(action_step.action)\n",
    "        video.append_data(eval_py_env.render())\n",
    "  return embed_mp4(filename)\n",
    "\n",
    "\n",
    "\n",
    "\n"
   ]
  },
  {
   "cell_type": "markdown",
   "metadata": {
    "papermill": {
     "duration": 0.137508,
     "end_time": "2020-11-14T17:20:54.390399",
     "exception": false,
     "start_time": "2020-11-14T17:20:54.252891",
     "status": "completed"
    },
    "tags": []
   },
   "source": [
    "Let's see what a random agent performs like"
   ]
  },
  {
   "cell_type": "code",
   "execution_count": 35,
   "metadata": {
    "execution": {
     "iopub.execute_input": "2020-11-14T17:20:54.670576Z",
     "iopub.status.busy": "2020-11-14T17:20:54.669725Z",
     "iopub.status.idle": "2020-11-14T17:20:54.673612Z",
     "shell.execute_reply": "2020-11-14T17:20:54.672821Z"
    },
    "papermill": {
     "duration": 0.144208,
     "end_time": "2020-11-14T17:20:54.673742",
     "exception": false,
     "start_time": "2020-11-14T17:20:54.529534",
     "status": "completed"
    },
    "tags": []
   },
   "outputs": [],
   "source": [
    "\n",
    "# create_policy_eval_video(random_policy, \"random-agent\")"
   ]
  },
  {
   "cell_type": "markdown",
   "metadata": {
    "id": "povaAOcZygLw",
    "papermill": {
     "duration": 0.136357,
     "end_time": "2020-11-14T17:20:54.944412",
     "exception": false,
     "start_time": "2020-11-14T17:20:54.808055",
     "status": "completed"
    },
    "tags": []
   },
   "source": [
    "And now the trained agent"
   ]
  },
  {
   "cell_type": "code",
   "execution_count": 36,
   "metadata": {
    "execution": {
     "iopub.execute_input": "2020-11-14T17:20:55.228428Z",
     "iopub.status.busy": "2020-11-14T17:20:55.227492Z",
     "iopub.status.idle": "2020-11-14T17:20:55.230927Z",
     "shell.execute_reply": "2020-11-14T17:20:55.230187Z"
    },
    "id": "pJZIdC37yNH4",
    "papermill": {
     "duration": 0.143783,
     "end_time": "2020-11-14T17:20:55.231055",
     "exception": false,
     "start_time": "2020-11-14T17:20:55.087272",
     "status": "completed"
    },
    "tags": []
   },
   "outputs": [],
   "source": [
    "# create_policy_eval_video(agent.policy, \"trained-agent\")\n"
   ]
  }
 ],
 "metadata": {
  "kernelspec": {
   "display_name": "Python 3",
   "language": "python",
   "name": "python3"
  },
  "language_info": {
   "codemirror_mode": {
    "name": "ipython",
    "version": 3
   },
   "file_extension": ".py",
   "mimetype": "text/x-python",
   "name": "python",
   "nbconvert_exporter": "python",
   "pygments_lexer": "ipython3",
   "version": "3.7.6"
  },
  "papermill": {
   "duration": 408.856826,
   "end_time": "2020-11-14T17:20:55.473381",
   "environment_variables": {},
   "exception": null,
   "input_path": "__notebook__.ipynb",
   "output_path": "__notebook__.ipynb",
   "parameters": {},
   "start_time": "2020-11-14T17:14:06.616555",
   "version": "2.1.0"
  }
 },
 "nbformat": 4,
 "nbformat_minor": 4
}
