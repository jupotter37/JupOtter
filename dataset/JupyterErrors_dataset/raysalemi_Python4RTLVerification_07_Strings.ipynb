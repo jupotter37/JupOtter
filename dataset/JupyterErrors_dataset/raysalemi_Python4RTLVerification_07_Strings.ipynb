{
 "cells": [
  {
   "cell_type": "markdown",
   "metadata": {},
   "source": [
    "# Strings"
   ]
  },
  {
   "cell_type": "code",
   "execution_count": 1,
   "metadata": {
    "scrolled": true
   },
   "outputs": [
    {
     "name": "stdout",
     "output_type": "stream",
     "text": [
      "End of the string with double-quote: real.\"\n"
     ]
    }
   ],
   "source": [
    "# Figure 1: Slicing the end of a string\n",
    "\n",
    "line = 'Morpheus said, \"Welcome to the desert of the real.\"'\n",
    "print(\"End of the string with double-quote:\", line[45:51])"
   ]
  },
  {
   "cell_type": "code",
   "execution_count": 2,
   "metadata": {
    "scrolled": true
   },
   "outputs": [
    {
     "ename": "TypeError",
     "evalue": "'str' object does not support item assignment",
     "output_type": "error",
     "traceback": [
      "\u001b[0;31m---------------------------------------------------------------------------\u001b[0m",
      "\u001b[0;31mTypeError\u001b[0m                                 Traceback (most recent call last)",
      "\u001b[0;32m/var/folders/hr/j_1xqjnd33q_dphptrdck2y00000gn/T/ipykernel_48286/3697998799.py\u001b[0m in \u001b[0;36m<module>\u001b[0;34m\u001b[0m\n\u001b[1;32m      2\u001b[0m \u001b[0;34m\u001b[0m\u001b[0m\n\u001b[1;32m      3\u001b[0m \u001b[0mline\u001b[0m \u001b[0;34m=\u001b[0m \u001b[0;34m'Morpheus said, \"Welcome to the desert of the real.\"'\u001b[0m\u001b[0;34m\u001b[0m\u001b[0;34m\u001b[0m\u001b[0m\n\u001b[0;32m----> 4\u001b[0;31m \u001b[0mline\u001b[0m\u001b[0;34m[\u001b[0m\u001b[0;36m45\u001b[0m\u001b[0;34m:\u001b[0m\u001b[0;36m49\u001b[0m\u001b[0;34m]\u001b[0m \u001b[0;34m=\u001b[0m \u001b[0;34m\"mall\"\u001b[0m\u001b[0;34m\u001b[0m\u001b[0;34m\u001b[0m\u001b[0m\n\u001b[0m",
      "\u001b[0;31mTypeError\u001b[0m: 'str' object does not support item assignment"
     ]
    }
   ],
   "source": [
    "# Figure 2: You cannot modify a string\n",
    "\n",
    "line = 'Morpheus said, \"Welcome to the desert of the real.\"'\n",
    "line[45:49] = \"mall\""
   ]
  },
  {
   "cell_type": "code",
   "execution_count": 3,
   "metadata": {},
   "outputs": [
    {
     "name": "stdout",
     "output_type": "stream",
     "text": [
      "Morpheus said, \"Welcome to the desert of the real.\"\n",
      "id(real_line): 140637529986192\n",
      "Morpheus said, \"Welcome to the desert of the mall.\"\n",
      "id(mall_line): 140637529986416\n"
     ]
    }
   ],
   "source": [
    "# Figure 3: Creating a new string with replaced characters\n",
    "\n",
    "real_line = 'Morpheus said, \"Welcome to the desert of the real.\"'\n",
    "print(real_line)\n",
    "print(\"id(real_line):\", id(real_line))\n",
    "mall_line = real_line.replace(\"real\", \"mall\")\n",
    "print(mall_line)\n",
    "print(\"id(mall_line):\", id(mall_line))"
   ]
  },
  {
   "cell_type": "code",
   "execution_count": 4,
   "metadata": {},
   "outputs": [
    {
     "name": "stdout",
     "output_type": "stream",
     "text": [
      "You can write haiku\n",
      "Even speech is possible\n",
      "Using \"triple-quotes\"\n",
      "\n"
     ]
    }
   ],
   "source": [
    "# Figure 4: A multi-line string as haiku\n",
    "\n",
    "haiku = '''You can write haiku\n",
    "Even speech is possible\n",
    "Using \"triple-quotes\"\n",
    "'''\n",
    "print(haiku)"
   ]
  },
  {
   "cell_type": "markdown",
   "metadata": {},
   "source": [
    "## String Methods"
   ]
  },
  {
   "cell_type": "markdown",
   "metadata": {},
   "source": [
    "### `str.join(<iterable>)`"
   ]
  },
  {
   "cell_type": "code",
   "execution_count": 5,
   "metadata": {},
   "outputs": [
    {
     "name": "stdout",
     "output_type": "stream",
     "text": [
      "Lines in a tuple\n",
      "Seemingly unrelated\n",
      "Can make a haiku\n"
     ]
    }
   ],
   "source": [
    "# Figure 6: Joining a list of strings to make a new string\n",
    "\n",
    "haiku_lines = (\"Lines in a tuple\", \n",
    "               \"Seemingly unrelated\", \n",
    "               \"Can make a haiku\")\n",
    "haiku = \"\\n\".join(haiku_lines)\n",
    "print(haiku)"
   ]
  },
  {
   "cell_type": "markdown",
   "metadata": {},
   "source": [
    "### `str.split(<separator>, maxsplit=-1)`\n"
   ]
  },
  {
   "cell_type": "code",
   "execution_count": 6,
   "metadata": {},
   "outputs": [
    {
     "name": "stdout",
     "output_type": "stream",
     "text": [
      "Luke Skywalker Jedi Tatooine\n"
     ]
    }
   ],
   "source": [
    "# Figure 7: Splitting a string on a character\n",
    "\n",
    "csv_line=\"Luke,Skywalker,Jedi,Tatooine\"\n",
    "first_name, last_name, job, homeworld = csv_line.split(\",\")\n",
    "print(first_name, last_name, job, homeworld)"
   ]
  },
  {
   "cell_type": "markdown",
   "metadata": {},
   "source": [
    "### `str.splitlines(keepends=False)`"
   ]
  },
  {
   "cell_type": "code",
   "execution_count": 7,
   "metadata": {},
   "outputs": [
    {
     "name": "stdout",
     "output_type": "stream",
     "text": [
      "Grocery list: ['bread', 'milk', 'eggs']\n"
     ]
    }
   ],
   "source": [
    "# Figure 8: Creating a list of strings using split()\n",
    "\n",
    "grocery_str=\"bread\\nmilk\\neggs\"\n",
    "grocery_list=grocery_str.splitlines()\n",
    "print(\"Grocery list:\",grocery_list)"
   ]
  },
  {
   "cell_type": "markdown",
   "metadata": {},
   "source": [
    "### `str.strip(<chars>)`"
   ]
  },
  {
   "cell_type": "code",
   "execution_count": 8,
   "metadata": {},
   "outputs": [
    {
     "name": "stdout",
     "output_type": "stream",
     "text": [
      "Extra Spaces: [   run  ]\n",
      "Cleaned up: [run]\n"
     ]
    }
   ],
   "source": [
    "# Figure 9: Stripping whitespace\n",
    "\n",
    "user_input=\"   run  \"\n",
    "print('Extra Spaces:','['+user_input+']')\n",
    "cmd = user_input.strip()\n",
    "print('Cleaned up:', '['+cmd+']')"
   ]
  },
  {
   "cell_type": "markdown",
   "metadata": {},
   "source": [
    "### `str.casefold()`"
   ]
  },
  {
   "cell_type": "code",
   "execution_count": 9,
   "metadata": {},
   "outputs": [
    {
     "name": "stdout",
     "output_type": "stream",
     "text": [
      "Cases folded: why do people do this?\n"
     ]
    }
   ],
   "source": [
    "# Figure 10: Using casefold to remove case\n",
    "\n",
    "weird_cap = \"wHy dO pEoplE dO tHiS?\"\n",
    "print(\"Cases folded:\", weird_cap.casefold())"
   ]
  },
  {
   "cell_type": "markdown",
   "metadata": {},
   "source": [
    "## Formatted Strings"
   ]
  },
  {
   "cell_type": "code",
   "execution_count": 10,
   "metadata": {
    "scrolled": true
   },
   "outputs": [
    {
     "name": "stdout",
     "output_type": "stream",
     "text": [
      "1j * (1+1j) = (-1+1j)\n"
     ]
    }
   ],
   "source": [
    "# Figure 11: Putting a value into an f-string\n",
    "\n",
    "answer = 1j * (1+1j)\n",
    "answer_str = f\"1j * (1+1j) = {answer}\"\n",
    "print(answer_str)"
   ]
  },
  {
   "cell_type": "markdown",
   "metadata": {},
   "source": [
    "Width"
   ]
  },
  {
   "cell_type": "code",
   "execution_count": 11,
   "metadata": {
    "scrolled": true
   },
   "outputs": [
    {
     "name": "stdout",
     "output_type": "stream",
     "text": [
      "|First Name  |Last Name   |\n",
      "|Luke        |Skywalker   |\n"
     ]
    }
   ],
   "source": [
    "# Figure 12: Creating fields of a fixed width\n",
    "\n",
    "csv_line=\"Luke,Skywalker,Jedi,Tatooine\"\n",
    "first_name, last_name, job, homeworld = csv_line.split(\",\")\n",
    "print(\"|First Name  |Last Name   |\")\n",
    "print(f\"|{first_name:12}|{last_name:12}|\")"
   ]
  },
  {
   "cell_type": "markdown",
   "metadata": {},
   "source": [
    "Bases"
   ]
  },
  {
   "cell_type": "code",
   "execution_count": 12,
   "metadata": {},
   "outputs": [
    {
     "name": "stdout",
     "output_type": "stream",
     "text": [
      "dec: [17]  bin: [00010001]  oct:[ 21]  hex: [11]\n"
     ]
    }
   ],
   "source": [
    "# Figure 13: Printing different bases\n",
    "\n",
    "val = 17\n",
    "print(f\"dec: [{val}]  bin: [{val:08b}]  oct:[{val:3o}]  hex: [{val:x}]\")"
   ]
  },
  {
   "cell_type": "code",
   "execution_count": null,
   "metadata": {},
   "outputs": [],
   "source": []
  }
 ],
 "metadata": {
  "kernelspec": {
   "display_name": "Python 3 (ipykernel)",
   "language": "python",
   "name": "python3"
  },
  "language_info": {
   "codemirror_mode": {
    "name": "ipython",
    "version": 3
   },
   "file_extension": ".py",
   "mimetype": "text/x-python",
   "name": "python",
   "nbconvert_exporter": "python",
   "pygments_lexer": "ipython3",
   "version": "3.8.12"
  }
 },
 "nbformat": 4,
 "nbformat_minor": 4
}
