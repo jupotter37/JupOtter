{
 "cells": [
  {
   "cell_type": "code",
   "execution_count": 2,
   "metadata": {},
   "outputs": [],
   "source": [
    "import os\n",
    "import sys\n",
    "module_path = os.path.abspath(os.path.join('..'))\n",
    "if module_path not in sys.path:\n",
    "    sys.path.append(module_path)"
   ]
  },
  {
   "cell_type": "code",
   "execution_count": 3,
   "metadata": {
    "cell_id": "a326d59e-8141-4b37-acc5-ea5041589658"
   },
   "outputs": [],
   "source": [
    "import tensorflow as tf\n",
    "import tensorflow_addons as tfa\n",
    "import matplotlib.pyplot as plt\n",
    "import matplotlib.patches as patches\n",
    "import numpy as np\n",
    "\n",
    "from svhn_dataset import SVHN"
   ]
  },
  {
   "cell_type": "code",
   "execution_count": 40,
   "metadata": {
    "cell_id": "a93063dc-2bdd-4781-921c-b1188f318b5f"
   },
   "outputs": [
    {
     "name": "stdout",
     "output_type": "stream",
     "text": [
      "(40, 40, 3)\n",
      "dict_keys(['bboxes', 'classes', 'image'])\n",
      "training samples: 10000\n",
      "max size: 293\n",
      "min size: 18\n",
      "mean size: 76.3944\n",
      "number of samples bigger then 128: 1011\n",
      "number of samples bigger then 256: 15\n"
     ],
     "truncated": false
    }
   ],
   "source": [
    "dataset = SVHN().train.map(SVHN.parse)\n",
    "for sample in dataset.take(10):\n",
    "    pass\n",
    "print(sample['image'].shape)\n",
    "print(sample.keys())\n",
    "sizes = np.array([x['image'].shape[0] for x in dataset.as_numpy_iterator()])\n",
    "print(f'training samples: {len(sizes)}')\n",
    "print(f'max size: {np.max(sizes)}')\n",
    "print(f'min size: {np.min(sizes)}')\n",
    "print(f'mean size: {np.mean(sizes)}')\n",
    "print(f'number of samples bigger then 128: {np.sum(sizes > 128)}')\n",
    "print(f'number of samples bigger then 256: {np.sum(sizes > 256)}')"
   ]
  },
  {
   "cell_type": "code",
   "execution_count": 41,
   "metadata": {
    "cell_id": "bc7f015c-0b8f-41d7-b915-243a805d6bac"
   },
   "outputs": [
    {
     "ename": "NameError",
     "evalue": "name 'max_size' is not defined",
     "output_type": "error",
     "traceback": [
      "\u001b[0;31m---------------------------------------------------------------------------\u001b[0m",
      "\u001b[0;31mNameError\u001b[0m                                 Traceback (most recent call last)",
      "\u001b[0;32m<ipython-input-41-0c8cff4f2063>\u001b[0m in \u001b[0;36m<module>\u001b[0;34m\u001b[0m\n\u001b[1;32m     26\u001b[0m \u001b[0;34m\u001b[0m\u001b[0m\n\u001b[1;32m     27\u001b[0m \u001b[0;34m\u001b[0m\u001b[0m\n\u001b[0;32m---> 28\u001b[0;31m \u001b[0mprint\u001b[0m\u001b[0;34m(\u001b[0m\u001b[0;34mf'max size: {max_size}'\u001b[0m\u001b[0;34m)\u001b[0m\u001b[0;34m\u001b[0m\u001b[0;34m\u001b[0m\u001b[0m\n\u001b[0m\u001b[1;32m     29\u001b[0m \u001b[0mdraw_image_and_bb\u001b[0m\u001b[0;34m(\u001b[0m\u001b[0msample\u001b[0m\u001b[0;34m[\u001b[0m\u001b[0;34m'image'\u001b[0m\u001b[0;34m]\u001b[0m\u001b[0;34m.\u001b[0m\u001b[0mnumpy\u001b[0m\u001b[0;34m(\u001b[0m\u001b[0;34m)\u001b[0m\u001b[0;34m,\u001b[0m \u001b[0msample\u001b[0m\u001b[0;34m[\u001b[0m\u001b[0;34m'bboxes'\u001b[0m\u001b[0;34m]\u001b[0m\u001b[0;34m)\u001b[0m\u001b[0;34m\u001b[0m\u001b[0;34m\u001b[0m\u001b[0m\n",
      "\u001b[0;31mNameError\u001b[0m: name 'max_size' is not defined"
     ]
    }
   ],
   "source": [
    "input_size = 128\n",
    "\n",
    "\n",
    "for sample in dataset.take(6406):\n",
    "    pass\n",
    "\n",
    "@tf.function\n",
    "def scale(x):\n",
    "    return dict(image = x['image'],\n",
    "                classes = x['classes'],\n",
    "                bboxes = x['bboxes'])\n",
    "\n",
    "\n",
    "\n",
    "def draw_image_and_bb(image, bbs):\n",
    "    print(f'size: {image.shape}')\n",
    "    plt.imshow(image)\n",
    "    ax = plt.gca()\n",
    "    for bb in bbs:\n",
    "        ymin, xmin, ymax, xmax = bb.numpy()\n",
    "        y, x = (ymin + ymax) / 2, (xmin + xmax) / 2\n",
    "        h, w = (ymax - ymin), (xmax - xmin)\n",
    "        rect = patches.Rectangle((xmin, ymin),w,h,linewidth=2,edgecolor='r',facecolor='none')\n",
    "        ax.add_patch(rect)\n",
    "    plt.show()\n",
    "    \n",
    "\n",
    "print(f'max size: {max_size}')\n",
    "draw_image_and_bb(sample['image'].numpy(), sample['bboxes'])"
   ]
  },
  {
   "cell_type": "markdown",
   "metadata": {
    "cell_id": "aa6d0782-b8f9-411b-b9d8-b956d965ba9e"
   },
   "source": [
    "# Dataset properties\n",
    "max size: 293\n",
    "mean size: 76.4\n",
    "number of images bigger than 128: 1011\n",
    "train size: 10000"
   ]
  },
  {
   "cell_type": "code",
   "execution_count": null,
   "metadata": {
    "cell_id": "b2e53309-2b45-4d8b-aebb-74e2eca97c66"
   },
   "outputs": [],
   "source": [
    "def generate_anchors(pyramid_levels, image_size, first_feature_scale=4, anchor_scale=4.0, aspect_ratios = [(1.0, 1.0), (1.4, 0.7), (0.7, 1.4)], num_scales=3): \n",
    "    boxes_all = []\n",
    "    for s in range(pyramid_levels):\n",
    "        boxes_level = []\n",
    "        for octave in range(num_scales):\n",
    "            for aspect_h, aspect_w in aspect_ratios:\n",
    "                scale = 2 ** (octave / num_scales)\n",
    "                stride = first_feature_scale * 2 ** s\n",
    "                base_anchor_size = anchor_scale * stride * scale\n",
    "                anchor_size_x = base_anchor_size * aspect_w / 2.0\n",
    "                anchor_size_y = base_anchor_size * aspect_h / 2.0\n",
    "\n",
    "                x = np.arange(stride / 2, image_size, stride)\n",
    "                y = np.arange(stride / 2, image_size, stride)\n",
    "                xv, yv = np.meshgrid(x, y)\n",
    "                xv = xv.reshape(-1)\n",
    "                yv = yv.reshape(-1)\n",
    "\n",
    "                boxes = np.vstack((yv - anchor_size_y, xv - anchor_size_x,\n",
    "                    yv + anchor_size_y, xv + anchor_size_x))\n",
    "                boxes = np.swapaxes(boxes, 0, 1)\n",
    "                boxes_level.append(np.expand_dims(boxes, axis=1))\n",
    "        boxes_level = np.concatenate(boxes_level, axis=1)\n",
    "        boxes_all.append(boxes_level.reshape(-1, 4))\n",
    "    return np.vstack(boxes_all) \n",
    "\n",
    "anchors = generate_anchors(4, 128, anchor_scale=3.0, first_feature_scale =4)"
   ]
  },
  {
   "cell_type": "code",
   "execution_count": null,
   "metadata": {
    "cell_id": "6c850a8f-01c3-41ba-a778-4cae0dfa3a4a"
   },
   "outputs": [
    {
     "name": "stdout",
     "output_type": "stream",
     "text": [
      "(None, 4, 4, 1280),(None, 8, 8, 112),(None, 16, 16, 40),(None, 32, 32, 24)\n",
      "(None, 32, 32, 24)\n"
     ]
    }
   ],
   "source": [
    "from importlib import reload\n",
    "import efficientdet\n",
    "reload(efficientdet)\n",
    "net = efficientdet.EfficientDet(5, 9, input_size= 128)"
   ]
  },
  {
   "cell_type": "code",
   "execution_count": null,
   "metadata": {
    "cell_id": "cd6c3181-0185-4bf4-b6f4-c62ef606dbdf"
   },
   "outputs": [
    {
     "name": "stdout",
     "output_type": "stream",
     "text": [
      "(2, 12240, 5)\n",
      "(2, 12240, 4)\n"
     ]
    }
   ],
   "source": [
    "input_tensor = tf.random.uniform((2, 128, 128, 3), dtype=tf.float32)\n",
    "output = net(input_tensor)\n",
    "print(output[0].shape)\n",
    "print(output[1].shape)"
   ]
  },
  {
   "cell_type": "code",
   "execution_count": 87,
   "metadata": {
    "cell_id": "34835b74-e76e-4684-82e4-6445a3dc87af",
    "tags": []
   },
   "outputs": [
    {
     "name": "stdout",
     "output_type": "stream",
     "text": [
      "running command: /opt/venv/lib/python3.7/site-packages/ipykernel_launcher.py -f /home/jovyan/.local/share/jupyter/runtime/kernel-76ce5e2a-a99e-4047-9bf2-c742bafbf872.json --test\n",
      "epoch: 0, loss: 19.1615, val_loss: 18.7099, val_class_loss: 17.9148, val_reg_loss: 0.7951, val_score: 0.0000\n",
      "epoch: 1, loss: 17.9542, val_loss: 18.4186, val_class_loss: 17.7232, val_reg_loss: 0.6954, val_score: 0.0000\n",
      "epoch: 2, loss: 14.8556, val_loss: 18.1698, val_class_loss: 17.5159, val_reg_loss: 0.6539, val_score: 0.0000\n",
      "epoch: 3, loss: 7.8686, val_loss: 18.0130, val_class_loss: 17.3774, val_reg_loss: 0.6356, val_score: 0.0000\n",
      "epoch: 4, loss: 6.3092, val_loss: 17.8612, val_class_loss: 17.3116, val_reg_loss: 0.5496, val_score: 0.0000\n",
      "epoch: 5, loss: 10.5441, val_loss: 17.8539, val_class_loss: 17.3182, val_reg_loss: 0.5357, val_score: 0.0000\n",
      "epoch: 6, loss: 5.9077, val_loss: 17.7449, val_class_loss: 17.2116, val_reg_loss: 0.5332, val_score: 0.0000\n",
      "epoch: 7, loss: 4.9593, val_loss: 17.6428, val_class_loss: 17.1352, val_reg_loss: 0.5076, val_score: 0.0000\n",
      "epoch: 8, loss: 8.0219, val_loss: 17.6443, val_class_loss: 17.1429, val_reg_loss: 0.5014, val_score: 0.0000\n",
      "epoch: 9, loss: 4.9705, val_loss: 17.4233, val_class_loss: 16.9367, val_reg_loss: 0.4865, val_score: 0.0000\n",
      "epoch: 10, loss: 4.7272, val_loss: 17.4332, val_class_loss: 16.9306, val_reg_loss: 0.5026, val_score: 0.0000\n",
      "epoch: 11, loss: 3.6066, val_loss: 17.2202, val_class_loss: 16.7753, val_reg_loss: 0.4449, val_score: 0.0000\n",
      "epoch: 12, loss: 2.7438, val_loss: 17.1894, val_class_loss: 16.6569, val_reg_loss: 0.5325, val_score: 0.0000\n",
      "epoch: 13, loss: 2.3490, val_loss: 17.0957, val_class_loss: 16.6725, val_reg_loss: 0.4232, val_score: 0.0000\n",
      "epoch: 14, loss: 2.2782, val_loss: 17.0030, val_class_loss: 16.5230, val_reg_loss: 0.4800, val_score: 0.0000\n",
      "epoch: 15, loss: 1.7320, val_loss: 16.9311, val_class_loss: 16.4891, val_reg_loss: 0.4420, val_score: 0.0000\n",
      "epoch: 16, loss: 3.0199, val_loss: 16.8443, val_class_loss: 16.4735, val_reg_loss: 0.3708, val_score: 0.0000\n",
      "epoch: 17, loss: 1.1732, val_loss: 16.6596, val_class_loss: 16.2586, val_reg_loss: 0.4011, val_score: 0.0000\n",
      "epoch: 18, loss: 0.4923, val_loss: 16.7154, val_class_loss: 16.1733, val_reg_loss: 0.5421, val_score: 0.0000\n",
      "model saved\n",
      "epoch: 19, loss: 1.5871, val_loss: 16.6628, val_class_loss: 16.2474, val_reg_loss: 0.4154, val_score: 0.0000\n",
      "epoch: 20, loss: 0.6619, val_loss: 16.5472, val_class_loss: 16.1408, val_reg_loss: 0.4064, val_score: 0.0000\n",
      "epoch: 21, loss: 0.5110, val_loss: 16.5864, val_class_loss: 16.0661, val_reg_loss: 0.5204, val_score: 0.0000\n",
      "epoch: 22, loss: 0.6718, val_loss: 16.6196, val_class_loss: 16.1593, val_reg_loss: 0.4603, val_score: 0.0000\n",
      "epoch: 23, loss: 0.7654, val_loss: 16.4804, val_class_loss: 16.1010, val_reg_loss: 0.3794, val_score: 0.0000\n",
      "epoch: 24, loss: 0.2566, val_loss: 16.5723, val_class_loss: 16.1935, val_reg_loss: 0.3788, val_score: 0.0000\n",
      "epoch: 25, loss: 0.5732, val_loss: 16.5161, val_class_loss: 16.1354, val_reg_loss: 0.3807, val_score: 0.0000\n",
      "epoch: 26, loss: 0.1128, val_loss: 16.7512, val_class_loss: 16.1602, val_reg_loss: 0.5910, val_score: 0.0000\n",
      "epoch: 27, loss: 1.9475, val_loss: 16.5573, val_class_loss: 16.1677, val_reg_loss: 0.3896, val_score: 0.0000\n",
      "epoch: 28, loss: 0.2191, val_loss: 16.9983, val_class_loss: 16.1815, val_reg_loss: 0.8168, val_score: 0.0000\n",
      "epoch: 29, loss: 2.0184, val_loss: 16.6289, val_class_loss: 16.1887, val_reg_loss: 0.4402, val_score: 0.0000\n",
      "epoch: 30, loss: 0.2209, val_loss: 16.9365, val_class_loss: 16.2003, val_reg_loss: 0.7362, val_score: 0.0000\n",
      "epoch: 31, loss: 1.4243, val_loss: 16.6232, val_class_loss: 16.2079, val_reg_loss: 0.4153, val_score: 0.0000\n",
      "epoch: 32, loss: 0.2471, val_loss: 17.0423, val_class_loss: 16.2213, val_reg_loss: 0.8210, val_score: 0.0000\n",
      "epoch: 33, loss: 0.9376, val_loss: 16.6027, val_class_loss: 16.2301, val_reg_loss: 0.3726, val_score: 0.0000\n",
      "epoch: 34, loss: 0.1155, val_loss: 16.9709, val_class_loss: 16.2455, val_reg_loss: 0.7254, val_score: 0.0000\n",
      "epoch: 35, loss: 0.6195, val_loss: 16.6876, val_class_loss: 16.2555, val_reg_loss: 0.4320, val_score: 0.0000\n",
      "epoch: 36, loss: 0.3097, val_loss: 17.0309, val_class_loss: 16.2673, val_reg_loss: 0.7636, val_score: 0.0000\n",
      "epoch: 37, loss: 0.5315, val_loss: 16.7429, val_class_loss: 16.2773, val_reg_loss: 0.4656, val_score: 0.0000\n",
      "epoch: 38, loss: 0.2861, val_loss: 16.9202, val_class_loss: 16.2876, val_reg_loss: 0.6326, val_score: 0.0000\n",
      "model saved\n",
      "epoch: 39, loss: 0.4341, val_loss: 16.8268, val_class_loss: 16.2979, val_reg_loss: 0.5289, val_score: 0.0000\n",
      "epoch: 40, loss: 0.2914, val_loss: 16.8948, val_class_loss: 16.3085, val_reg_loss: 0.5863, val_score: 0.0000\n",
      "epoch: 41, loss: 0.3610, val_loss: 16.7995, val_class_loss: 16.3179, val_reg_loss: 0.4815, val_score: 0.0000\n",
      "epoch: 42, loss: 0.2325, val_loss: 16.9398, val_class_loss: 16.3285, val_reg_loss: 0.6113, val_score: 0.0000\n",
      "epoch: 43, loss: 0.3975, val_loss: 16.8078, val_class_loss: 16.3382, val_reg_loss: 0.4697, val_score: 0.0000\n",
      "epoch: 44, loss: 0.2104, val_loss: 16.9456, val_class_loss: 16.3492, val_reg_loss: 0.5964, val_score: 0.0000\n",
      "epoch: 45, loss: 0.3328, val_loss: 16.8126, val_class_loss: 16.3588, val_reg_loss: 0.4538, val_score: 0.0000\n",
      "epoch: 46, loss: 0.1849, val_loss: 16.9184, val_class_loss: 16.3695, val_reg_loss: 0.5489, val_score: 0.0000\n",
      "epoch: 47, loss: 0.2974, val_loss: 16.8410, val_class_loss: 16.3797, val_reg_loss: 0.4613, val_score: 0.0000\n",
      "epoch: 48, loss: 0.1809, val_loss: 16.9168, val_class_loss: 16.3910, val_reg_loss: 0.5258, val_score: 0.0000\n",
      "epoch: 49, loss: 0.2596, val_loss: 16.8217, val_class_loss: 16.4006, val_reg_loss: 0.4211, val_score: 0.0000\n",
      "epoch: 50, loss: 0.1374, val_loss: 16.9630, val_class_loss: 16.4119, val_reg_loss: 0.5510, val_score: 0.0000\n",
      "epoch: 51, loss: 0.2402, val_loss: 16.8301, val_class_loss: 16.4218, val_reg_loss: 0.4083, val_score: 0.0000\n",
      "epoch: 52, loss: 0.1434, val_loss: 16.9128, val_class_loss: 16.4319, val_reg_loss: 0.4810, val_score: 0.0000\n",
      "epoch: 53, loss: 0.1896, val_loss: 16.8648, val_class_loss: 16.4422, val_reg_loss: 0.4226, val_score: 0.0000\n",
      "epoch: 54, loss: 0.1234, val_loss: 16.9326, val_class_loss: 16.4536, val_reg_loss: 0.4791, val_score: 0.0000\n",
      "epoch: 55, loss: 0.1657, val_loss: 16.8680, val_class_loss: 16.4636, val_reg_loss: 0.4045, val_score: 0.0000\n",
      "epoch: 56, loss: 0.1061, val_loss: 16.9449, val_class_loss: 16.4748, val_reg_loss: 0.4701, val_score: 0.0000\n",
      "epoch: 57, loss: 0.1350, val_loss: 16.8776, val_class_loss: 16.4850, val_reg_loss: 0.3925, val_score: 0.0000\n",
      "epoch: 58, loss: 0.0935, val_loss: 16.9557, val_class_loss: 16.4958, val_reg_loss: 0.4598, val_score: 0.0000\n",
      "model saved\n",
      "epoch: 59, loss: 0.1360, val_loss: 16.8858, val_class_loss: 16.5072, val_reg_loss: 0.3786, val_score: 0.0000\n",
      "epoch: 60, loss: 0.0739, val_loss: 16.9481, val_class_loss: 16.5179, val_reg_loss: 0.4302, val_score: 0.0000\n",
      "epoch: 61, loss: 0.1055, val_loss: 16.9092, val_class_loss: 16.5283, val_reg_loss: 0.3808, val_score: 0.0000\n",
      "epoch: 62, loss: 0.0624, val_loss: 16.9643, val_class_loss: 16.5390, val_reg_loss: 0.4253, val_score: 0.0000\n",
      "epoch: 63, loss: 0.0902, val_loss: 16.9220, val_class_loss: 16.5492, val_reg_loss: 0.3728, val_score: 0.0000\n",
      "epoch: 64, loss: 0.0518, val_loss: 16.9759, val_class_loss: 16.5602, val_reg_loss: 0.4157, val_score: 0.0000\n",
      "epoch: 65, loss: 0.0772, val_loss: 16.9351, val_class_loss: 16.5704, val_reg_loss: 0.3647, val_score: 0.0000\n",
      "epoch: 66, loss: 0.0422, val_loss: 16.9878, val_class_loss: 16.5815, val_reg_loss: 0.4063, val_score: 0.0000\n",
      "epoch: 67, loss: 0.0680, val_loss: 16.9488, val_class_loss: 16.5912, val_reg_loss: 0.3576, val_score: 0.0000\n",
      "epoch: 68, loss: 0.0304, val_loss: 16.9891, val_class_loss: 16.6024, val_reg_loss: 0.3867, val_score: 0.0000\n",
      "epoch: 69, loss: 0.0463, val_loss: 16.9720, val_class_loss: 16.6131, val_reg_loss: 0.3589, val_score: 0.0000\n",
      "epoch: 70, loss: 0.0348, val_loss: 17.0024, val_class_loss: 16.6239, val_reg_loss: 0.3785, val_score: 0.0000\n",
      "epoch: 71, loss: 0.0388, val_loss: 16.9898, val_class_loss: 16.6345, val_reg_loss: 0.3553, val_score: 0.0000\n",
      "epoch: 72, loss: 0.0281, val_loss: 17.0088, val_class_loss: 16.6450, val_reg_loss: 0.3638, val_score: 0.0000\n",
      "epoch: 73, loss: 0.0258, val_loss: 17.0036, val_class_loss: 16.6560, val_reg_loss: 0.3476, val_score: 0.0000\n",
      "epoch: 74, loss: 0.0186, val_loss: 17.0170, val_class_loss: 16.6660, val_reg_loss: 0.3510, val_score: 0.0000\n",
      "epoch: 75, loss: 0.0110, val_loss: 17.0200, val_class_loss: 16.6761, val_reg_loss: 0.3439, val_score: 0.0000\n",
      "epoch: 76, loss: 0.0082, val_loss: 17.0310, val_class_loss: 16.6859, val_reg_loss: 0.3451, val_score: 0.0000\n",
      "epoch: 77, loss: 0.0070, val_loss: 17.0400, val_class_loss: 16.6960, val_reg_loss: 0.3440, val_score: 0.0000\n",
      "epoch: 78, loss: 0.0060, val_loss: 17.0497, val_class_loss: 16.7059, val_reg_loss: 0.3438, val_score: 0.0000\n",
      "model saved\n",
      "epoch: 79, loss: 0.0059, val_loss: 17.0593, val_class_loss: 16.7157, val_reg_loss: 0.3436, val_score: 0.0000\n",
      "epoch: 80, loss: 0.0058, val_loss: 17.0688, val_class_loss: 16.7254, val_reg_loss: 0.3434, val_score: 0.0000\n",
      "epoch: 81, loss: 0.0058, val_loss: 17.0782, val_class_loss: 16.7350, val_reg_loss: 0.3432, val_score: 0.0000\n",
      "epoch: 82, loss: 0.0071, val_loss: 17.0872, val_class_loss: 16.7442, val_reg_loss: 0.3430, val_score: 0.0000\n",
      "epoch: 83, loss: 0.0059, val_loss: 17.0964, val_class_loss: 16.7537, val_reg_loss: 0.3427, val_score: 0.0000\n",
      "epoch: 84, loss: 0.0058, val_loss: 17.1056, val_class_loss: 16.7632, val_reg_loss: 0.3425, val_score: 0.0000\n",
      "epoch: 85, loss: 0.0065, val_loss: 17.1144, val_class_loss: 16.7723, val_reg_loss: 0.3421, val_score: 0.0000\n",
      "epoch: 86, loss: 0.0058, val_loss: 17.1235, val_class_loss: 16.7816, val_reg_loss: 0.3419, val_score: 0.0000\n",
      "epoch: 87, loss: 0.0057, val_loss: 17.1326, val_class_loss: 16.7909, val_reg_loss: 0.3417, val_score: 0.0000\n",
      "epoch: 88, loss: 0.0060, val_loss: 17.1415, val_class_loss: 16.7999, val_reg_loss: 0.3416, val_score: 0.0000\n",
      "epoch: 89, loss: 0.0058, val_loss: 17.1502, val_class_loss: 16.8089, val_reg_loss: 0.3413, val_score: 0.0000\n",
      "epoch: 90, loss: 0.0056, val_loss: 17.1591, val_class_loss: 16.8181, val_reg_loss: 0.3410, val_score: 0.0000\n",
      "epoch: 91, loss: 0.0058, val_loss: 17.1680, val_class_loss: 16.8272, val_reg_loss: 0.3407, val_score: 0.0000\n",
      "epoch: 92, loss: 0.0080, val_loss: 17.1765, val_class_loss: 16.8360, val_reg_loss: 0.3405, val_score: 0.0000\n",
      "epoch: 93, loss: 0.0056, val_loss: 17.1854, val_class_loss: 16.8451, val_reg_loss: 0.3403, val_score: 0.0000\n",
      "epoch: 94, loss: 0.0058, val_loss: 17.1940, val_class_loss: 16.8540, val_reg_loss: 0.3400, val_score: 0.0000\n",
      "epoch: 95, loss: 0.0056, val_loss: 17.2028, val_class_loss: 16.8630, val_reg_loss: 0.3398, val_score: 0.0000\n",
      "epoch: 96, loss: 0.0056, val_loss: 17.2116, val_class_loss: 16.8720, val_reg_loss: 0.3395, val_score: 0.0000\n",
      "epoch: 97, loss: 0.0058, val_loss: 17.2201, val_class_loss: 16.8808, val_reg_loss: 0.3393, val_score: 0.0000\n",
      "epoch: 98, loss: 0.0056, val_loss: 17.2288, val_class_loss: 16.8898, val_reg_loss: 0.3390, val_score: 0.0000\n",
      "model saved\n",
      "epoch: 99, loss: 0.0070, val_loss: 17.2375, val_class_loss: 16.8988, val_reg_loss: 0.3388, val_score: 0.0000\n",
      "model saved\n"
     ],
     "truncated": false
    }
   ],
   "source": [
    "import train\n",
    "from importlib import reload\n",
    "import utils\n",
    "import efficientdet\n",
    "import data\n",
    "reload(data)\n",
    "reload(train)\n",
    "from data import create_data, SVHN\n",
    "args, argstr = train.parse_args(['--test'])\n",
    "args.test = True\n",
    "args.batch_size = 1\n",
    "args.learning_rate = 0.5\n",
    "args.epochs = 100\n",
    "\n",
    "num_classes = SVHN.LABELS\n",
    "pyramid_levels = args.pyramid_levels\n",
    "smallest_stride = 2**(6 - pyramid_levels)\n",
    "anchors = utils.generate_anchors(pyramid_levels, args.image_size, \n",
    "    first_feature_scale=smallest_stride, anchor_scale=float(smallest_stride),\n",
    "    num_scales=args.num_scales, aspect_ratios=args.aspect_ratios)\n",
    "\n",
    "train_dataset, dev_dataset, eval_dataset = create_data(args.batch_size, \n",
    "            anchors, image_size = args.image_size,\n",
    "            test=args.test)\n",
    "\n",
    "# Prepare network and trainer\n",
    "anchors_per_level = args.num_scales * len(args.aspect_ratios)\n",
    "network = efficientdet.EfficientDet(num_classes, anchors_per_level,\n",
    "            input_size = args.image_size, pyramid_levels = pyramid_levels) \n",
    "model = train.RetinaTrainer(network, anchors, train_dataset, (dev_dataset, eval_dataset), args)\n",
    "\n",
    "# Start training\n",
    "print(f'running command: {argstr}') \n",
    "model.fit()\n",
    "\n",
    "# Save model\n",
    "model.save()\n",
    "print('model saved')\n"
   ]
  },
  {
   "cell_type": "code",
   "execution_count": 75,
   "metadata": {
    "cell_id": "da42ebbc-dde3-4c69-be2b-9a773da58206",
    "tags": []
   },
   "outputs": [
    {
     "name": "stdout",
     "output_type": "stream",
     "text": [
      "size: (128, 128, 3)\n"
     ]
    },
    {
     "data": {
      "image/png": "[encoded data removed]",
      "text/plain": [
       "<Figure size 432x288 with 1 Axes>"
      ]
     },
     "metadata": {
      "needs_background": "light"
     },
     "output_type": "display_data"
    }
   ],
   "source": [
    "for sample in model.eval_dataset.batch(1).take(1):\n",
    "    class_pred, bbox_pred = network(sample['image'], training=False)\n",
    "\n",
    "tf.nn.softmax(class_pred, -1)\n",
    "draw_image_and_bb(sample['image'][0,...].numpy(), sample['bbox'][0,...])"
   ]
  },
  {
   "cell_type": "code",
   "execution_count": 88,
   "metadata": {
    "cell_id": "c6be3b08-542c-433d-b8c6-c8f9cd2f7634",
    "tags": []
   },
   "outputs": [
    {
     "name": "stdout",
     "output_type": "stream",
     "text": [
      "size: (128, 128, 3)\n"
     ]
    },
    {
     "data": {
      "image/png": "[encoded data removed]",
      "text/plain": [
       "<Figure size 432x288 with 1 Axes>"
      ]
     },
     "metadata": {
      "needs_background": "light"
     },
     "output_type": "display_data",
     "text": "size: (128, 128, 3)\ntf.Tensor([[0.15767111 0.15765233 0.15764466 0.         0.        ]], shape=(1, 5), dtype=float32)\ntf.Tensor([[4. 4. 4. 0. 0.]], shape=(1, 5), dtype=float32)\n",
     "truncated": false
    }
   ],
   "source": [
    "import tensorflow as tf\n",
    "regression_pred = utils.bbox_from_fast_rcnn(model.anchors, bbox_pred) \n",
    "regression_pred = tf.expand_dims(regression_pred, 2)\n",
    "boxes, scores, classes, valid = tf.image.combined_non_max_suppression(\n",
    "    regression_pred, tf.nn.softmax(class_pred), 3, 5, score_threshold=0.15,\n",
    "    iou_threshold=0.4, clip_boxes=False) \n",
    "boxes = tf.clip_by_value(boxes, 0, model.args.image_size)\n",
    "draw_image_and_bb(sample['image'][0,...].numpy(), boxes[0,...])\n",
    "print(scores)\n",
    "print(classes)"
   ]
  },
  {
   "cell_type": "code",
   "execution_count": 86,
   "metadata": {
    "cell_id": "4daec138-5333-4f28-95da-e74818b97ab4",
    "tags": []
   },
   "outputs": [
    {
     "name": "stdout",
     "output_type": "stream",
     "text": [
      "tf.Tensor([[0.15767111 0.15765233 0.15764466 0.         0.        ]], shape=(1, 5), dtype=float32)\n",
      "tf.Tensor([[4. 4. 4. 0. 0.]], shape=(1, 5), dtype=float32)\n",
      "tf.Tensor(\n",
      "[[[0.0938841  0.09362771 0.0930524  ... 0.09392995 0.09312813 0.09385416]\n",
      "  [0.09459154 0.09367797 0.0931063  ... 0.09421024 0.09324457 0.09407139]\n",
      "  [0.0946658  0.0937545  0.0930659  ... 0.09433005 0.09327316 0.09407075]\n",
      "  ...\n",
      "  [0.09422625 0.09419849 0.09288642 ... 0.09434143 0.09252257 0.09413584]\n",
      "  [0.09420831 0.09416851 0.09288946 ... 0.09435248 0.09257793 0.09416331]\n",
      "  [0.09388688 0.09413322 0.09300867 ... 0.09407331 0.09320948 0.09427426]]], shape=(1, 336, 10), dtype=float32)\n"
     ]
    }
   ],
   "source": [
    "print(scores)\n",
    "print(classes)\n",
    "print(tf.nn.softmax(class_pred))"
   ]
  }
 ],
 "metadata": {
  "deepnote_execution_queue": [],
  "deepnote_notebook_id": "02760e50-f185-4472-bace-f88b54098de3",
  "kernelspec": {
   "display_name": "svhn-detection-tf-R5ZWXfXq-py3.8",
   "language": "python",
   "name": "svhn-detection-tf-r5zwxfxq-py3.8"
  },
  "language_info": {
   "codemirror_mode": {
    "name": "ipython",
    "version": 3
   },
   "file_extension": ".py",
   "mimetype": "text/x-python",
   "name": "python",
   "nbconvert_exporter": "python",
   "pygments_lexer": "ipython3",
   "version": "3.8.2"
  }
 },
 "nbformat": 4,
 "nbformat_minor": 4
}
