{
 "cells": [
  {
   "cell_type": "markdown",
   "metadata": {},
   "source": [
    "# 豆瓣电影的多方法解析\n",
    "https://movie.douban.com/tag/Top100  \n",
    "\n",
    "本项目主要是数据提取的练习,提供了5种数据提取的方式.\n",
    "### 1. [分析网页]()  # 需要的数据请求地址分析\n",
    "### 2. [正则提取]()  # 正则提取所须数据\n",
    "### 3. [Css选择器提取]()  # 利用BeautifulSoup4 进行提取\n",
    "### 4. [Xpath选择器提取]()  # 利用lxml的etree模块进行xpath提取\n",
    "### 5. [jQuery提取]()  # 有前端的知识的朋友应该很熟悉,利用的是pyquery模块,节点选择语法与jQuery一致\n",
    "### 6. [Scrapy 混合提取器]()  # 利用scrapy的Selector模块进行混合提取"
   ]
  },
  {
   "cell_type": "markdown",
   "metadata": {},
   "source": [
    "### 1. 分析网页，确认爬取目标的数据类型。\n",
    "   - #### 打开 [目标url](https://movie.douban.com/tag/Top100), 定位数据位置\n",
    "   ![爬取源网址](./images/index.png)  \n",
    "   - #### 定位需要的数据位置，查看爬取目标。  \n",
    "   ![爬取目标](./images/data_target.png)  \n",
    "   由图可得，我们需要的数据分别为，['海报', '电影名', '上映日期', '演员', '评分', '评价人数']\n",
    "   - #### 查看请求，分析数据来源请求（F12 >> network 打开请求界面，如下图）\n",
    "   ![抓包准备](./images/capture_package_ready.png)  \n",
    "   - #### 确认数据请求来源(Ctrl + F 搜索: 辛德勒)\n",
    "   ![抓包准备](./images/confirm_request.png)  \n",
    "   上图可知，该请求只有一个，所以就能轻松的确定来源拉！ \n",
    "   - #### 查看headers，分析请求报文\n",
    "   ![请求分析](./images/requests_ann.png)  \n",
    "   分析结果如图，所以我们可以得出以下结论：  \n",
    "   \n",
    "    \n",
    "| 信息     | 结果                                  |\n",
    "| -------- | -------------------------------------|\n",
    "| 请求地址 | <https://movie.douban.com/tag/Top100> |\n",
    "| 请求方法 | Get                                   |\n",
    "| 响应格式 | text 文本                             |\n",
    "| 编码     | UTF-8                                |"
   ]
  },
  {
   "cell_type": "markdown",
   "metadata": {},
   "source": [
    "## 2. 利用requests进行请求测试\n",
    "`requests.get`  \n",
    "定义请求函数，`get_data`  \n",
    "返回`text`数据  "
   ]
  },
  {
   "cell_type": "code",
   "execution_count": 1,
   "metadata": {},
   "outputs": [],
   "source": [
    "import requests\n",
    "from requests.exceptions import HTTPError"
   ]
  },
  {
   "cell_type": "code",
   "execution_count": 2,
   "metadata": {},
   "outputs": [],
   "source": [
    "def get_data(url):\n",
    "    \n",
    "    response = requests.get(url)\n",
    "    if response.status_code == requests.codes.ok:  # 检测状态码\n",
    "        return response.text  # 返回响应的文本信息\n",
    "    else:\n",
    "        response.raise_for_status()  # 4xx 5xx 时,引出错误 代替 raise requests.exception.HTTPError"
   ]
  },
  {
   "cell_type": "code",
   "execution_count": 3,
   "metadata": {},
   "outputs": [],
   "source": [
    "url = \"https://movie.douban.com/tag/Top100\""
   ]
  },
  {
   "cell_type": "code",
   "execution_count": 4,
   "metadata": {},
   "outputs": [],
   "source": [
    "data = get_data(url)  # 获取数据\n",
    "data_res = {}  # 存储数据的初始化字典"
   ]
  },
  {
   "cell_type": "markdown",
   "metadata": {},
   "source": [
    "## 3. 提取数据\n",
    "   - 正则提取\n",
    "   - BeautifulSoup 提取\n",
    "   - Xpath 提取\n",
    "   - scrapy 混合提取"
   ]
  },
  {
   "cell_type": "markdown",
   "metadata": {},
   "source": [
    "### 1. 正则提取\n",
    "- 观察数据位置\n",
    "![电影名，海报地址](./images/re_name_poster.png)"
   ]
  },
  {
   "cell_type": "code",
   "execution_count": 5,
   "metadata": {},
   "outputs": [],
   "source": [
    "import re"
   ]
  },
  {
   "cell_type": "markdown",
   "metadata": {},
   "source": [
    "### 提取 海报地址以及电影名称\n",
    "**通过查看该请求的响应内容快速进行复制匹配,如下图搜索:**\n",
    "![复制匹配](./images/re_get_data_1.png)  \n",
    "用到的匹配规则提示:\n",
    "   - \".\" 表示任意非空格换行等字符\n",
    "   - \".*?\"  表示贪婪匹配,最少匹配一次\n",
    "   - \"()\"  表示提取()中的内容\n",
    "   -  \"\\\\w\" 表示正常字符,比如英文字母,中文等常见文字\n",
    "   - \".+\"  表示至少匹配一次任意字符"
   ]
  },
  {
   "cell_type": "code",
   "execution_count": 6,
   "metadata": {
    "scrolled": true
   },
   "outputs": [
    {
     "data": {
      "text/plain": [
       "([('https://img3.doubanio.com/view/photo/s_ratio_poster/public/p2457983084.jpg',\n",
       "   '摔跤吧！爸爸'),\n",
       "  ('https://img1.doubanio.com/view/photo/s_ratio_poster/public/p792443418.jpg',\n",
       "   '两杆大烟枪'),\n",
       "  ('https://img3.doubanio.com/view/photo/s_ratio_poster/public/p513344864.jpg',\n",
       "   '盗梦空间'),\n",
       "  ('https://img3.doubanio.com/view/photo/s_ratio_poster/public/p1606727862.jpg',\n",
       "   '千与千寻'),\n",
       "  ('https://img1.doubanio.com/view/photo/s_ratio_poster/public/p510876377.jpg',\n",
       "   '阿甘正传'),\n",
       "  ('https://img1.doubanio.com/view/photo/s_ratio_poster/public/p1512562287.jpg',\n",
       "   '让子弹飞'),\n",
       "  ('https://img3.doubanio.com/view/photo/s_ratio_poster/public/p457760035.jpg',\n",
       "   '泰坦尼克号'),\n",
       "  ('https://img1.doubanio.com/view/photo/s_ratio_poster/public/p2184505167.jpg',\n",
       "   '大闹天宫'),\n",
       "  ('https://img3.doubanio.com/view/photo/s_ratio_poster/public/p1910902213.jpg',\n",
       "   '低俗小说'),\n",
       "  ('https://img3.doubanio.com/view/photo/s_ratio_poster/public/p2206088801.jpg',\n",
       "   '星际穿越')],\n",
       " [('摔跤吧', '我和我的冠军女儿(台) / 打死不离3父女(港)'),\n",
       "  ('两杆大烟枪', '够姜四小强(港) / 两根枪管(台)'),\n",
       "  ('盗梦空间', '潜行凶间(港) / 全面启动(台)'),\n",
       "  ('千与千寻', '神隐少女(台) / Spirited Away'),\n",
       "  ('阿甘正传', '福雷斯特·冈普'),\n",
       "  ('让子弹飞', '让子弹飞一会儿 / 火烧云'),\n",
       "  ('泰坦尼克号', '铁达尼号(港/台)'),\n",
       "  ('大闹天宫', '大闹天宫 上下集 / The Monkey King'),\n",
       "  ('低俗小说', '黑色追緝令(台) / 危险人物(港)'),\n",
       "  ('星际穿越', '星际启示录(港) / 星际效应(台)')])"
      ]
     },
     "execution_count": 6,
     "metadata": {},
     "output_type": "execute_result"
    }
   ],
   "source": [
    "# 设置提取表达式 \n",
    "poster_pattern = re.compile(r\"\"\"<a class=\"nbg\" href=\".*?\"  title=\".*?\">.*?<img src=\"(.*?)\" width=\"75\" alt=\"(.*?)\" class=\"\"/>.*?</a>\"\"\", re.S)  # 海报的正则表达式\n",
    "movie_name_pattern = re.compile(r\"\"\" <div class=\"pl2\">.*? <a href=\".*?\"  class=\"\">.*?(\\w+).*?<span style=\"font-size:13px;\">(.*?)</span>.*?</a>\"\"\", re.S)  # 电影名正则表达式\n",
    "poster_res = re.findall(poster_pattern, data)  # 获取所有匹配结果\n",
    "movie_name_res = re.findall(movie_name_pattern, data)\n",
    "poster_res, movie_name_res"
   ]
  },
  {
   "cell_type": "markdown",
   "metadata": {},
   "source": [
    "**查看结果好像没什么问题, 我们用长度比较来看看数量是否一致**"
   ]
  },
  {
   "cell_type": "code",
   "execution_count": 7,
   "metadata": {},
   "outputs": [
    {
     "data": {
      "text/plain": [
       "True"
      ]
     },
     "execution_count": 7,
     "metadata": {},
     "output_type": "execute_result"
    }
   ],
   "source": [
    "len(poster_res) == len(movie_name_res)"
   ]
  },
  {
   "cell_type": "markdown",
   "metadata": {},
   "source": [
    "**长度一致,看来匹配规则在这里没问题**\n",
    "我们将提取到的数据存储到我们的数据结构`data_res`中"
   ]
  },
  {
   "cell_type": "code",
   "execution_count": 8,
   "metadata": {
    "scrolled": true
   },
   "outputs": [
    {
     "data": {
      "text/plain": [
       "{'两杆大烟枪': {'poster': 'https://img1.doubanio.com/view/photo/s_ratio_poster/public/p792443418.jpg',\n",
       "  'else_name': '够姜四小强(港) / 两根枪管(台)'},\n",
       " '盗梦空间': {'poster': 'https://img3.doubanio.com/view/photo/s_ratio_poster/public/p513344864.jpg',\n",
       "  'else_name': '潜行凶间(港) / 全面启动(台)'},\n",
       " '千与千寻': {'poster': 'https://img3.doubanio.com/view/photo/s_ratio_poster/public/p1606727862.jpg',\n",
       "  'else_name': '神隐少女(台) / Spirited Away'},\n",
       " '阿甘正传': {'poster': 'https://img1.doubanio.com/view/photo/s_ratio_poster/public/p510876377.jpg',\n",
       "  'else_name': '福雷斯特·冈普'},\n",
       " '让子弹飞': {'poster': 'https://img1.doubanio.com/view/photo/s_ratio_poster/public/p1512562287.jpg',\n",
       "  'else_name': '让子弹飞一会儿 / 火烧云'},\n",
       " '泰坦尼克号': {'poster': 'https://img3.doubanio.com/view/photo/s_ratio_poster/public/p457760035.jpg',\n",
       "  'else_name': '铁达尼号(港/台)'},\n",
       " '大闹天宫': {'poster': 'https://img1.doubanio.com/view/photo/s_ratio_poster/public/p2184505167.jpg',\n",
       "  'else_name': '大闹天宫 上下集 / The Monkey King'},\n",
       " '低俗小说': {'poster': 'https://img3.doubanio.com/view/photo/s_ratio_poster/public/p1910902213.jpg',\n",
       "  'else_name': '黑色追緝令(台) / 危险人物(港)'},\n",
       " '星际穿越': {'poster': 'https://img3.doubanio.com/view/photo/s_ratio_poster/public/p2206088801.jpg',\n",
       "  'else_name': '星际启示录(港) / 星际效应(台)'}}"
      ]
     },
     "execution_count": 8,
     "metadata": {},
     "output_type": "execute_result"
    }
   ],
   "source": [
    "for poster, movie_name in zip(poster_res, movie_name_res):  # 压缩遍历\n",
    "    # 进行名称验证，是否对应,\n",
    "    name1 = poster[1]\n",
    "    name2 = movie_name[0]\n",
    "    if name1 == name2:\n",
    "        tmp_dict = data_res.get(name1, {})  # 初始化字典\n",
    "        tmp_dict.update({\"poster\": poster[0]})  # 字典更新\n",
    "        tmp_dict.update({\"else_name\": movie_name[1]})  # 字典更新\n",
    "        data_res[name1] = tmp_dict\n",
    "data_res"
   ]
  },
  {
   "cell_type": "markdown",
   "metadata": {},
   "source": [
    "**我们用同样的方法,提取其他需要的数据**  \n",
    "***这里有个小技巧,用额外的字段来得到唯一匹配, 如下图:***  \n",
    "需要的数据:  \n",
    "![需要的数据](./images/unique1.png)   \n",
    "额外数据匹配:  \n",
    "![额外匹配](./images/unique2.png)"
   ]
  },
  {
   "cell_type": "markdown",
   "metadata": {},
   "source": [
    "#### 整体提取\n",
    "**由于所有数据都集中在一个块，如下图：**  \n",
    "![总数据](./images/total_data.png)  \n",
    "所有我们就一次性全部提取，方便数据的收集.  \n",
    "由于有些是电影值有一个年份，所以匹配不好匹配，我们匹配整体后利用\"/\"进行分割再挑选.  \n",
    "*PS: 其实正则匹配这种很多字段的容易出错，换行之类的字符容易忘记替代，所以建议一点一点的增加匹配表达式的长度.*"
   ]
  },
  {
   "cell_type": "code",
   "execution_count": 9,
   "metadata": {},
   "outputs": [
    {
     "data": {
      "text/plain": [
       "[('两杆大烟枪',\n",
       "  'https://img1.doubanio.com/view/photo/s_ratio_poster/public/p792443418.jpg',\n",
       "  '两杆大烟枪',\n",
       "  '够姜四小强(港) / 两根枪管(台)',\n",
       "  '1998-08-28(英国) / 杰森·弗莱明 / 德克斯特·弗莱彻 / 尼克·莫兰 / 杰森·斯坦森 / 斯蒂文·麦金托什 / 斯汀 / 维尼·琼斯 / 丹尼·约翰-儒勒 / 维克多·麦奎尔 / 阿兰·福德 / 安德鲁·蒂曼 / 马修·沃恩 / 弗兰克·哈珀 / 罗尼·福克斯 / 罗伯·布莱顿...',\n",
       "  '9.1',\n",
       "  '352582人评价'),\n",
       " ('盗梦空间',\n",
       "  'https://img3.doubanio.com/view/photo/s_ratio_poster/public/p513344864.jpg',\n",
       "  '盗梦空间',\n",
       "  '潜行凶间(港) / 全面启动(台)',\n",
       "  '2010-07-16(美国) / 2010-09-01(中国大陆) / 莱昂纳多·迪卡普里奥 / 约瑟夫·高登-莱维特 / 艾伦·佩吉 / 汤姆·哈迪 / 渡边谦 / 迪利普·劳 / 基里安·墨菲 / 汤姆·贝伦杰 / 玛丽昂·歌迪亚 / 皮特·波斯尔思韦特 / 迈克尔·凯恩 / 卢卡斯·哈斯...',\n",
       "  '9.3',\n",
       "  '1104241人评价'),\n",
       " ('千与千寻',\n",
       "  'https://img3.doubanio.com/view/photo/s_ratio_poster/public/p1606727862.jpg',\n",
       "  '千与千寻',\n",
       "  '神隐少女(台) / Spirited Away',\n",
       "  '2001-07-20(日本) / 柊瑠美 / 入野自由 / 夏木真理 / 菅原文太 / 中村彰男 / 玉井夕海 / 神木隆之介 / 内藤刚志 / 泽口靖子 / 我修院达也 / 大泉洋 / 小林郁夫 / 上条恒彦 / 小野武彦 / 山像香 / 斋藤志郎 / 安田显 / 户次重幸 / 黛维·切斯 /...',\n",
       "  '9.3',\n",
       "  '1023155人评价'),\n",
       " ('阿甘正传',\n",
       "  'https://img1.doubanio.com/view/photo/s_ratio_poster/public/p510876377.jpg',\n",
       "  '阿甘正传',\n",
       "  '福雷斯特·冈普',\n",
       "  '1994-06-23(洛杉矶首映) / 1994-07-06(美国) / 汤姆·汉克斯 / 罗宾·怀特 / 加里·西尼斯 / 麦凯尔泰·威廉逊 / 莎莉·菲尔德 / 海利·乔·奥斯蒙 / 迈克尔·康纳·亨弗里斯 / Harold G. Herthum / 山姆·安德森 / Ione M. Telech / 彼得·道博森 / 希芳·法隆...',\n",
       "  '9.4',\n",
       "  '1097181人评价'),\n",
       " ('让子弹飞',\n",
       "  'https://img1.doubanio.com/view/photo/s_ratio_poster/public/p1512562287.jpg',\n",
       "  '让子弹飞',\n",
       "  '让子弹飞一会儿 / 火烧云',\n",
       "  '2010-12-16(中国大陆) / 姜文 / 葛优 / 周润发 / 刘嘉玲 / 陈坤 / 张默 / 姜武 / 周韵 / 廖凡 / 姚橹 / 邵兵 / 苗圃 / 冯小刚 / 胡军 / 马珂 / 白冰 / 杜奕衡 / 李静 / 胡明 / 危笑 / 杨奇雨 / 赵铭 / 宣晓鸣 / 岳红 / 姜洪齐 / 文祥 / 陈磊 / 沙瑀 / 吴昔果...',\n",
       "  '8.7',\n",
       "  '877649人评价'),\n",
       " ('泰坦尼克号',\n",
       "  'https://img3.doubanio.com/view/photo/s_ratio_poster/public/p457760035.jpg',\n",
       "  '泰坦尼克号',\n",
       "  '铁达尼号(港/台)',\n",
       "  '1997-11-01(东京电影节) / 1997-12-19(美国) / 1998-04-03(中国大陆) / 莱昂纳多·迪卡普里奥 / 凯特·温丝莱特 / 比利·赞恩 / 凯西·贝茨 / 弗兰西丝·费舍 / 格劳瑞亚·斯图尔特 / 比尔·帕克斯顿 / 伯纳德·希尔 / 大卫·沃纳 / 维克多·加博 / 乔纳森·海德...',\n",
       "  '9.3',\n",
       "  '1037583人评价'),\n",
       " ('大闹天宫',\n",
       "  'https://img1.doubanio.com/view/photo/s_ratio_poster/public/p2184505167.jpg',\n",
       "  '大闹天宫',\n",
       "  '大闹天宫 上下集 / The Monkey King',\n",
       "  '1961(中国大陆) / 1964(中国大陆) / 1978(中国大陆) / 2004(中国大陆) / 邱岳峰 / 富润生 / 毕克 / 尚华 / 于鼎 / 李梓 / 刘广宁 / 汉斯·艾尔佛森 / 中国大陆 / 万籁鸣 / 唐澄 / 114分钟 / 动画 / 奇幻 / 李克弱 Keruo Li / 万籁鸣 Laiming Wan / 汉语普通话...',\n",
       "  '9.3',\n",
       "  '166566人评价'),\n",
       " ('低俗小说',\n",
       "  'https://img3.doubanio.com/view/photo/s_ratio_poster/public/p1910902213.jpg',\n",
       "  '低俗小说',\n",
       "  '黑色追緝令(台) / 危险人物(港)',\n",
       "  '1994-05-12(戛纳电影节) / 1994-10-14(美国) / 约翰·特拉沃尔塔 / 乌玛·瑟曼 / 阿曼达·普拉莫 / 蒂姆·罗斯 / 塞缪尔·杰克逊 / 菲尔·拉马 / 布鲁斯·威利斯 / 弗兰克·威利 / 布尔·斯蒂尔斯 / 文·瑞姆斯 / 劳拉·拉芙蕾丝 / 保罗·考尔德伦...',\n",
       "  '8.8',\n",
       "  '460981人评价'),\n",
       " ('星际穿越',\n",
       "  'https://img3.doubanio.com/view/photo/s_ratio_poster/public/p2206088801.jpg',\n",
       "  '星际穿越',\n",
       "  '星际启示录(港) / 星际效应(台)',\n",
       "  '2014-11-07(美国) / 2014-11-12(中国大陆) / 马修·麦康纳 / 安妮·海瑟薇 / 杰西卡·查斯坦 / 卡西·阿弗莱克 / 迈克尔·凯恩 / 马特·达蒙 / 麦肯吉·弗依 / 蒂莫西·柴勒梅德 / 艾伦·伯斯汀 / 约翰·利思戈 / 韦斯·本特利 / 大卫·吉雅西 / 比尔·欧文...',\n",
       "  '9.2',\n",
       "  '786848人评价')]"
      ]
     },
     "execution_count": 9,
     "metadata": {},
     "output_type": "execute_result"
    }
   ],
   "source": [
    "total_pattern = re.compile(\"\"\"<p class=\"ul\">.*?<a class=\"nbg\" href=\".*?\"  title=\"(.*?)\">.*?<img src=\"(.*?)\" width=\"75\".*?<div class=\"pl2\">.*?<a href=\".*?\"  class=\"\">.*?(\\w+).*?style=\"font-size:13px;\">(.*?)</span>.*?class=\"pl\">(.*?)</p>.*?class=\"star clearfix\">.*?\"allstar45\"></span>.*?\"rating_nums\">(.*?)</span>.*?<span class=\"pl\">\\((.*?)\\)</span>.*?<div id=\".*?\"></div>\"\"\", re.S)\n",
    "res = re.findall(total_pattern, data)\n",
    "res"
   ]
  },
  {
   "cell_type": "markdown",
   "metadata": {},
   "source": [
    "#### 观察整体数据情况，提取数据  \n",
    "![需要稍复杂处理](./images/time_handle.png)"
   ]
  },
  {
   "cell_type": "code",
   "execution_count": 10,
   "metadata": {},
   "outputs": [],
   "source": [
    "def get_time_actor(data):\n",
    "    \"\"\"\n",
    "    获取处理后的时间和演员数据\n",
    "    :param data: \n",
    "    :return: \n",
    "    \"\"\"\n",
    "    tmp_data = data.split(\" / \")\n",
    "    ind = 1\n",
    "    for i, v in enumerate(tmp_data):\n",
    "        if v[:4].isdigit():  # 判断是否为数字\n",
    "            ind += 1\n",
    "        else:\n",
    "            break\n",
    "        return tmp_data[:ind], tmp_data[ind:]"
   ]
  },
  {
   "cell_type": "code",
   "execution_count": 11,
   "metadata": {
    "scrolled": true
   },
   "outputs": [
    {
     "name": "stdout",
     "output_type": "stream",
     "text": [
      "{'两杆大烟枪': {'poster': 'https://img1.doubanio.com/view/photo/s_ratio_poster/public/p792443418.jpg', 'else_name': '够姜四小强(港) / 两根枪管(台)', 'movie_name': '两杆大烟枪', 'poster_url': 'https://img1.doubanio.com/view/photo/s_ratio_poster/public/p792443418.jpg', 'other_name': '够姜四小强(港) / 两根枪管(台)', 'score': 9.1, 'comment_people': '352582', 'release_time': ['1998-08-28(英国)', '杰森·弗莱明'], 'actor': ['德克斯特·弗莱彻', '尼克·莫兰', '杰森·斯坦森', '斯蒂文·麦金托什', '斯汀', '维尼·琼斯', '丹尼·约翰-儒勒', '维克多·麦奎尔', '阿兰·福德', '安德鲁·蒂曼', '马修·沃恩', '弗兰克·哈珀', '罗尼·福克斯', '罗伯·布莱顿...']}, '盗梦空间': {'poster': 'https://img3.doubanio.com/view/photo/s_ratio_poster/public/p513344864.jpg', 'else_name': '潜行凶间(港) / 全面启动(台)', 'movie_name': '盗梦空间', 'poster_url': 'https://img3.doubanio.com/view/photo/s_ratio_poster/public/p513344864.jpg', 'other_name': '潜行凶间(港) / 全面启动(台)', 'score': 9.3, 'comment_people': '1104241', 'release_time': ['2010-07-16(美国)', '2010-09-01(中国大陆)'], 'actor': ['莱昂纳多·迪卡普里奥', '约瑟夫·高登-莱维特', '艾伦·佩吉', '汤姆·哈迪', '渡边谦', '迪利普·劳', '基里安·墨菲', '汤姆·贝伦杰', '玛丽昂·歌迪亚', '皮特·波斯尔思韦特', '迈克尔·凯恩', '卢卡斯·哈斯...']}, '千与千寻': {'poster': 'https://img3.doubanio.com/view/photo/s_ratio_poster/public/p1606727862.jpg', 'else_name': '神隐少女(台) / Spirited Away', 'movie_name': '千与千寻', 'poster_url': 'https://img3.doubanio.com/view/photo/s_ratio_poster/public/p1606727862.jpg', 'other_name': '神隐少女(台) / Spirited Away', 'score': 9.3, 'comment_people': '1023155', 'release_time': ['2001-07-20(日本)', '柊瑠美'], 'actor': ['入野自由', '夏木真理', '菅原文太', '中村彰男', '玉井夕海', '神木隆之介', '内藤刚志', '泽口靖子', '我修院达也', '大泉洋', '小林郁夫', '上条恒彦', '小野武彦', '山像香', '斋藤志郎', '安田显', '户次重幸', '黛维·切斯 /...']}, '阿甘正传': {'poster': 'https://img1.doubanio.com/view/photo/s_ratio_poster/public/p510876377.jpg', 'else_name': '福雷斯特·冈普', 'movie_name': '阿甘正传', 'poster_url': 'https://img1.doubanio.com/view/photo/s_ratio_poster/public/p510876377.jpg', 'other_name': '福雷斯特·冈普', 'score': 9.4, 'comment_people': '1097181', 'release_time': ['1994-06-23(洛杉矶首映)', '1994-07-06(美国)'], 'actor': ['汤姆·汉克斯', '罗宾·怀特', '加里·西尼斯', '麦凯尔泰·威廉逊', '莎莉·菲尔德', '海利·乔·奥斯蒙', '迈克尔·康纳·亨弗里斯', 'Harold G. Herthum', '山姆·安德森', 'Ione M. Telech', '彼得·道博森', '希芳·法隆...']}, '让子弹飞': {'poster': 'https://img1.doubanio.com/view/photo/s_ratio_poster/public/p1512562287.jpg', 'else_name': '让子弹飞一会儿 / 火烧云', 'movie_name': '让子弹飞', 'poster_url': 'https://img1.doubanio.com/view/photo/s_ratio_poster/public/p1512562287.jpg', 'other_name': '让子弹飞一会儿 / 火烧云', 'score': 8.7, 'comment_people': '877649', 'release_time': ['2010-12-16(中国大陆)', '姜文'], 'actor': ['葛优', '周润发', '刘嘉玲', '陈坤', '张默', '姜武', '周韵', '廖凡', '姚橹', '邵兵', '苗圃', '冯小刚', '胡军', '马珂', '白冰', '杜奕衡', '李静', '胡明', '危笑', '杨奇雨', '赵铭', '宣晓鸣', '岳红', '姜洪齐', '文祥', '陈磊', '沙瑀', '吴昔果...']}, '泰坦尼克号': {'poster': 'https://img3.doubanio.com/view/photo/s_ratio_poster/public/p457760035.jpg', 'else_name': '铁达尼号(港/台)', 'movie_name': '泰坦尼克号', 'poster_url': 'https://img3.doubanio.com/view/photo/s_ratio_poster/public/p457760035.jpg', 'other_name': '铁达尼号(港/台)', 'score': 9.3, 'comment_people': '1037583', 'release_time': ['1997-11-01(东京电影节)', '1997-12-19(美国)'], 'actor': ['1998-04-03(中国大陆)', '莱昂纳多·迪卡普里奥', '凯特·温丝莱特', '比利·赞恩', '凯西·贝茨', '弗兰西丝·费舍', '格劳瑞亚·斯图尔特', '比尔·帕克斯顿', '伯纳德·希尔', '大卫·沃纳', '维克多·加博', '乔纳森·海德...']}, '大闹天宫': {'poster': 'https://img1.doubanio.com/view/photo/s_ratio_poster/public/p2184505167.jpg', 'else_name': '大闹天宫 上下集 / The Monkey King', 'movie_name': '大闹天宫', 'poster_url': 'https://img1.doubanio.com/view/photo/s_ratio_poster/public/p2184505167.jpg', 'other_name': '大闹天宫 上下集 / The Monkey King', 'score': 9.3, 'comment_people': '166566', 'release_time': ['1961(中国大陆)', '1964(中国大陆)'], 'actor': ['1978(中国大陆)', '2004(中国大陆)', '邱岳峰', '富润生', '毕克', '尚华', '于鼎', '李梓', '刘广宁', '汉斯·艾尔佛森', '中国大陆', '万籁鸣', '唐澄', '114分钟', '动画', '奇幻', '李克弱 Keruo Li', '万籁鸣 Laiming Wan', '汉语普通话...']}, '低俗小说': {'poster': 'https://img3.doubanio.com/view/photo/s_ratio_poster/public/p1910902213.jpg', 'else_name': '黑色追緝令(台) / 危险人物(港)', 'movie_name': '低俗小说', 'poster_url': 'https://img3.doubanio.com/view/photo/s_ratio_poster/public/p1910902213.jpg', 'other_name': '黑色追緝令(台) / 危险人物(港)', 'score': 8.8, 'comment_people': '460981', 'release_time': ['1994-05-12(戛纳电影节)', '1994-10-14(美国)'], 'actor': ['约翰·特拉沃尔塔', '乌玛·瑟曼', '阿曼达·普拉莫', '蒂姆·罗斯', '塞缪尔·杰克逊', '菲尔·拉马', '布鲁斯·威利斯', '弗兰克·威利', '布尔·斯蒂尔斯', '文·瑞姆斯', '劳拉·拉芙蕾丝', '保罗·考尔德伦...']}, '星际穿越': {'poster': 'https://img3.doubanio.com/view/photo/s_ratio_poster/public/p2206088801.jpg', 'else_name': '星际启示录(港) / 星际效应(台)', 'movie_name': '星际穿越', 'poster_url': 'https://img3.doubanio.com/view/photo/s_ratio_poster/public/p2206088801.jpg', 'other_name': '星际启示录(港) / 星际效应(台)', 'score': 9.2, 'comment_people': '786848', 'release_time': ['2014-11-07(美国)', '2014-11-12(中国大陆)'], 'actor': ['马修·麦康纳', '安妮·海瑟薇', '杰西卡·查斯坦', '卡西·阿弗莱克', '迈克尔·凯恩', '马特·达蒙', '麦肯吉·弗依', '蒂莫西·柴勒梅德', '艾伦·伯斯汀', '约翰·利思戈', '韦斯·本特利', '大卫·吉雅西', '比尔·欧文...']}}\n"
     ]
    }
   ],
   "source": [
    "for tmp_data in res:\n",
    "    tmp = data_res.get(tmp_data[0], {})  # 获取原来的字典数据\n",
    "    if tmp_data[0] == tmp_data[2]:  # 检测数据是否对齐\n",
    "        tmp.update({\"movie_name\": tmp_data[0], \"poster_url\": tmp_data[1], \"other_name\": tmp_data[3], \"score\": float(tmp_data[-2]), \"comment_people\": tmp_data[-1].replace(\"人评价\", \"\")})  # 更新数据\n",
    "        time_data, actor = get_time_actor(tmp_data[-3])\n",
    "        tmp.update({\"release_time\": time_data, \"actor\": actor})\n",
    "        data_res[tmp_data[0]] = tmp\n",
    "    else:\n",
    "        print(\"数据有误\")\n",
    "print(data_res)"
   ]
  },
  {
   "cell_type": "markdown",
   "metadata": {},
   "source": [
    "## 2. BeautifulSoup （css选择器） 提取"
   ]
  },
  {
   "cell_type": "code",
   "execution_count": 12,
   "metadata": {},
   "outputs": [],
   "source": [
    "from bs4 import BeautifulSoup"
   ]
  },
  {
   "cell_type": "code",
   "execution_count": 13,
   "metadata": {},
   "outputs": [],
   "source": [
    "soup = BeautifulSoup(data, \"lxml\")  # 初始化soup对象"
   ]
  },
  {
   "cell_type": "markdown",
   "metadata": {},
   "source": [
    "#### 利用css选择器逐一获取数据\n",
    "**poster**: `\".nbg img\"`  \n",
    "**movie_name**: `\".pl2 a\"`  \n",
    "**time_actor**: `\".pl2 p.pl\"`  \n",
    "**score**: `\".rating_nums\"`  \n",
    "**comment_people**: `\".star.clearfix .pl\"`   \n",
    "\n",
    "\n",
    "***PS:***  \n",
    "- \".\" 表示class \n",
    "- \" \"表示子孙节点  \n",
    "- img 就是img节点  \n",
    "- a 就是a节点\n",
    "- \"#abd\" 表示 id=\"abc\"的节点"
   ]
  },
  {
   "cell_type": "code",
   "execution_count": 25,
   "metadata": {},
   "outputs": [],
   "source": [
    "poster = soup.select(\".nbg img\")  # 海报\n",
    "movie_name = soup.select(\".pl2 a\")  # 电影名称\n",
    "time_actor = soup.select(\".pl2 p.pl\")  # 上映时间及演员\n",
    "score = soup.select(\".rating_nums\")  # 电影评分\n",
    "comment_people = soup.select(\".star.clearfix .pl\")  # 评分人数\n",
    "movie_data = {}  # 存储结构"
   ]
  },
  {
   "cell_type": "code",
   "execution_count": 26,
   "metadata": {},
   "outputs": [
    {
     "data": {
      "text/plain": [
       "[<a class=\"\" href=\"https://movie.douban.com/subject/26387939/\">\n",
       "                         摔跤吧！爸爸\n",
       "                         / <span style=\"font-size:13px;\">我和我的冠军女儿(台) / 打死不离3父女(港)</span>\n",
       " </a>, <a class=\"\" href=\"https://movie.douban.com/subject/1293350/\">\n",
       "                         两杆大烟枪\n",
       "                         / <span style=\"font-size:13px;\">够姜四小强(港) / 两根枪管(台)</span>\n",
       " </a>, <a class=\"\" href=\"https://movie.douban.com/subject/3541415/\">\n",
       "                         盗梦空间\n",
       "                         / <span style=\"font-size:13px;\">潜行凶间(港) / 全面启动(台)</span>\n",
       " </a>, <a class=\"\" href=\"https://movie.douban.com/subject/1291561/\">\n",
       "                         千与千寻\n",
       "                         / <span style=\"font-size:13px;\">神隐少女(台) / Spirited Away</span>\n",
       " </a>, <a class=\"\" href=\"https://movie.douban.com/subject/1292720/\">\n",
       "                         阿甘正传\n",
       "                         / <span style=\"font-size:13px;\">福雷斯特·冈普</span>\n",
       " </a>, <a class=\"\" href=\"https://movie.douban.com/subject/3742360/\">\n",
       "                         让子弹飞\n",
       "                         / <span style=\"font-size:13px;\">让子弹飞一会儿 / 火烧云</span>\n",
       " </a>, <a class=\"\" href=\"https://movie.douban.com/subject/1292722/\">\n",
       "                         泰坦尼克号\n",
       "                         / <span style=\"font-size:13px;\">铁达尼号(港/台)</span>\n",
       " </a>, <a class=\"\" href=\"https://movie.douban.com/subject/1418019/\">\n",
       "                         大闹天宫\n",
       "                         / <span style=\"font-size:13px;\">大闹天宫 上下集 / The Monkey King</span>\n",
       " </a>, <a class=\"\" href=\"https://movie.douban.com/subject/1291832/\">\n",
       "                         低俗小说\n",
       "                         / <span style=\"font-size:13px;\">黑色追緝令(台) / 危险人物(港)</span>\n",
       " </a>, <a class=\"\" href=\"https://movie.douban.com/subject/1889243/\">\n",
       "                         星际穿越\n",
       "                         / <span style=\"font-size:13px;\">星际启示录(港) / 星际效应(台)</span>\n",
       " </a>, <a href=\"https://movie.douban.com/tag/\">浏览全部电影标签</a>]"
      ]
     },
     "execution_count": 26,
     "metadata": {},
     "output_type": "execute_result"
    }
   ],
   "source": [
    "movie_name"
   ]
  },
  {
   "cell_type": "code",
   "execution_count": null,
   "metadata": {},
   "outputs": [],
   "source": []
  },
  {
   "cell_type": "markdown",
   "metadata": {},
   "source": [
    "#### 批量获取数据"
   ]
  },
  {
   "cell_type": "code",
   "execution_count": 15,
   "metadata": {
    "scrolled": true
   },
   "outputs": [
    {
     "name": "stdout",
     "output_type": "stream",
     "text": [
      "{'摔跤吧！爸爸': {'poster': 'https://img3.doubanio.com/view/photo/s_ratio_poster/public/p2457983084.jpg', 'movie_name': '摔跤吧！爸爸', 'other_name': '我和我的冠军女儿(台) / 打死不离3父女(港)', 'release_time': ['2016-12-23(印度)', '2017-05-05(中国大陆)'], 'actor': ['阿米尔·汗', '法缇玛·萨那·纱卡', '桑亚·玛荷塔', '阿帕尔夏克提·库拉那', '沙克希·坦沃', '塞伊拉·沃西', '苏哈妮·巴特纳格尔', '里特维克·萨霍里', '吉里什·库卡尼', '维万·巴特那', '什沙尔·夏尔马...'], 'score': '9.1', 'comment': '(766064人评价)'}, '两杆大烟枪': {'poster': 'https://img1.doubanio.com/view/photo/s_ratio_poster/public/p792443418.jpg', 'movie_name': '两杆大烟枪', 'other_name': '够姜四小强(港) / 两根枪管(台)', 'release_time': ['1998-08-28(英国)', '杰森·弗莱明'], 'actor': ['德克斯特·弗莱彻', '尼克·莫兰', '杰森·斯坦森', '斯蒂文·麦金托什', '斯汀', '维尼·琼斯', '丹尼·约翰-儒勒', '维克多·麦奎尔', '阿兰·福德', '安德鲁·蒂曼', '马修·沃恩', '弗兰克·哈珀', '罗尼·福克斯', '罗伯·布莱顿...'], 'score': '9.1', 'comment': '(352582人评价)'}, '盗梦空间': {'poster': 'https://img3.doubanio.com/view/photo/s_ratio_poster/public/p513344864.jpg', 'movie_name': '盗梦空间', 'other_name': '潜行凶间(港) / 全面启动(台)', 'release_time': ['2010-07-16(美国)', '2010-09-01(中国大陆)'], 'actor': ['莱昂纳多·迪卡普里奥', '约瑟夫·高登-莱维特', '艾伦·佩吉', '汤姆·哈迪', '渡边谦', '迪利普·劳', '基里安·墨菲', '汤姆·贝伦杰', '玛丽昂·歌迪亚', '皮特·波斯尔思韦特', '迈克尔·凯恩', '卢卡斯·哈斯...'], 'score': '9.3', 'comment': '(1104241人评价)'}, '千与千寻': {'poster': 'https://img3.doubanio.com/view/photo/s_ratio_poster/public/p1606727862.jpg', 'movie_name': '千与千寻', 'other_name': '神隐少女(台) / Spirited Away', 'release_time': ['2001-07-20(日本)', '柊瑠美'], 'actor': ['入野自由', '夏木真理', '菅原文太', '中村彰男', '玉井夕海', '神木隆之介', '内藤刚志', '泽口靖子', '我修院达也', '大泉洋', '小林郁夫', '上条恒彦', '小野武彦', '山像香', '斋藤志郎', '安田显', '户次重幸', '黛维·切斯 /...'], 'score': '9.3', 'comment': '(1023155人评价)'}, '阿甘正传': {'poster': 'https://img1.doubanio.com/view/photo/s_ratio_poster/public/p510876377.jpg', 'movie_name': '阿甘正传', 'other_name': '福雷斯特·冈普', 'release_time': ['1994-06-23(洛杉矶首映)', '1994-07-06(美国)'], 'actor': ['汤姆·汉克斯', '罗宾·怀特', '加里·西尼斯', '麦凯尔泰·威廉逊', '莎莉·菲尔德', '海利·乔·奥斯蒙', '迈克尔·康纳·亨弗里斯', 'Harold G. Herthum', '山姆·安德森', 'Ione M. Telech', '彼得·道博森', '希芳·法隆...'], 'score': '9.4', 'comment': '(1097181人评价)'}, '让子弹飞': {'poster': 'https://img1.doubanio.com/view/photo/s_ratio_poster/public/p1512562287.jpg', 'movie_name': '让子弹飞', 'other_name': '让子弹飞一会儿 / 火烧云', 'release_time': ['2010-12-16(中国大陆)', '姜文'], 'actor': ['葛优', '周润发', '刘嘉玲', '陈坤', '张默', '姜武', '周韵', '廖凡', '姚橹', '邵兵', '苗圃', '冯小刚', '胡军', '马珂', '白冰', '杜奕衡', '李静', '胡明', '危笑', '杨奇雨', '赵铭', '宣晓鸣', '岳红', '姜洪齐', '文祥', '陈磊', '沙瑀', '吴昔果...'], 'score': '8.7', 'comment': '(877649人评价)'}, '泰坦尼克号': {'poster': 'https://img3.doubanio.com/view/photo/s_ratio_poster/public/p457760035.jpg', 'movie_name': '泰坦尼克号', 'other_name': '铁达尼号(港/台)', 'release_time': ['1997-11-01(东京电影节)', '1997-12-19(美国)'], 'actor': ['1998-04-03(中国大陆)', '莱昂纳多·迪卡普里奥', '凯特·温丝莱特', '比利·赞恩', '凯西·贝茨', '弗兰西丝·费舍', '格劳瑞亚·斯图尔特', '比尔·帕克斯顿', '伯纳德·希尔', '大卫·沃纳', '维克多·加博', '乔纳森·海德...'], 'score': '9.3', 'comment': '(1037583人评价)'}, '大闹天宫': {'poster': 'https://img1.doubanio.com/view/photo/s_ratio_poster/public/p2184505167.jpg', 'movie_name': '大闹天宫', 'other_name': '大闹天宫 上下集 / The Monkey King', 'release_time': ['1961(中国大陆)', '1964(中国大陆)'], 'actor': ['1978(中国大陆)', '2004(中国大陆)', '邱岳峰', '富润生', '毕克', '尚华', '于鼎', '李梓', '刘广宁', '汉斯·艾尔佛森', '中国大陆', '万籁鸣', '唐澄', '114分钟', '动画', '奇幻', '李克弱 Keruo Li', '万籁鸣 Laiming Wan', '汉语普通话...'], 'score': '9.3', 'comment': '(166566人评价)'}, '低俗小说': {'poster': 'https://img3.doubanio.com/view/photo/s_ratio_poster/public/p1910902213.jpg', 'movie_name': '低俗小说', 'other_name': '黑色追緝令(台) / 危险人物(港)', 'release_time': ['1994-05-12(戛纳电影节)', '1994-10-14(美国)'], 'actor': ['约翰·特拉沃尔塔', '乌玛·瑟曼', '阿曼达·普拉莫', '蒂姆·罗斯', '塞缪尔·杰克逊', '菲尔·拉马', '布鲁斯·威利斯', '弗兰克·威利', '布尔·斯蒂尔斯', '文·瑞姆斯', '劳拉·拉芙蕾丝', '保罗·考尔德伦...'], 'score': '8.8', 'comment': '(460981人评价)'}, '星际穿越': {'poster': 'https://img3.doubanio.com/view/photo/s_ratio_poster/public/p2206088801.jpg', 'movie_name': '星际穿越', 'other_name': '星际启示录(港) / 星际效应(台)', 'release_time': ['2014-11-07(美国)', '2014-11-12(中国大陆)'], 'actor': ['马修·麦康纳', '安妮·海瑟薇', '杰西卡·查斯坦', '卡西·阿弗莱克', '迈克尔·凯恩', '马特·达蒙', '麦肯吉·弗依', '蒂莫西·柴勒梅德', '艾伦·伯斯汀', '约翰·利思戈', '韦斯·本特利', '大卫·吉雅西', '比尔·欧文...'], 'score': '9.2', 'comment': '(786848人评价)'}}\n"
     ]
    }
   ],
   "source": [
    "for p, m, t, s, c in zip(poster, movie_name, time_actor, score, comment_people):\n",
    "    pos = p.get(\"src\")  # 海报地址\n",
    "    mov = m.get_text().replace(m.select(\"span\")[0].get_text(), \"\")  # 电影名称\n",
    "    mov = mov.replace(\"/\", \"\").strip()  # 去掉不需要的字符\n",
    "    other_name = m.select(\"span\")[0].get_text()  # 额外名字\n",
    "    release_time, actor = get_time_actor(t.get_text())\n",
    "    sco = s.get_text()\n",
    "    comment = c.get_text()\n",
    "    movie_data.update({mov: {\"poster\": pos, \"movie_name\": mov, \"other_name\": other_name, \"release_time\": release_time, \"actor\": actor, \"score\": sco, \"comment\": comment}})\n",
    "print(movie_data)"
   ]
  },
  {
   "cell_type": "markdown",
   "metadata": {},
   "source": [
    "## 3. Xpath 提取"
   ]
  },
  {
   "cell_type": "code",
   "execution_count": 16,
   "metadata": {},
   "outputs": [],
   "source": [
    "from lxml import etree  # 导入xpath模块"
   ]
  },
  {
   "cell_type": "code",
   "execution_count": 17,
   "metadata": {},
   "outputs": [],
   "source": [
    "xpath_data = etree.HTML(data)  # 初始化xpath结构"
   ]
  },
  {
   "cell_type": "markdown",
   "metadata": {},
   "source": [
    "可以直接在浏览器中试xpath表达式,如下图:  \n",
    "![xpath1](./images/xpath1.png)  \n",
    "**下例用到的xpath语法解释:**  \n",
    " - \"//\"  # 代表从根节点搜索\n",
    " - \"//a\"  # 搜索根节点的所有a标签\n",
    " - \"//a[@class=\"nbg]\"  # 搜索class=\"nbg\"的a标签\n",
    " - \".../a\"  # 搜索从...节点开始的子a标签\n",
    " - \".../img/@src\"  # 获取当前img标签的src属性\n",
    " - \".../p/text()\"  # 获取当前p标签下的文本\n",
    " - \".../p//text()\"  # 获取当前p标签后的所有文本(子孙文本)"
   ]
  },
  {
   "cell_type": "code",
   "execution_count": 18,
   "metadata": {},
   "outputs": [],
   "source": [
    "poster = xpath_data.xpath('//a[@class=\"nbg\"]/img/@src')  # 获取海报\n",
    "movie_name = xpath_data.xpath('//div[@class=\"pl2\"]/a/text()')  # 获取电影名\n",
    "other_name = xpath_data.xpath('//div[@class=\"pl2\"]/a/span/text()')  # 获取电影别名\n",
    "time_actor = xpath_data.xpath('//div[@class=\"pl2\"]/p/text()')  # 获取时间和演员\n",
    "score = xpath_data.xpath('//span[@class=\"rating_nums\"]/text()')  # 获取评分\n",
    "comment_people = xpath_data.xpath('//span[@class=\"pl\"]/text()')  # 评分人数\n",
    "movie_data = {}"
   ]
  },
  {
   "cell_type": "markdown",
   "metadata": {},
   "source": [
    "#### 同样进行数据收集"
   ]
  },
  {
   "cell_type": "code",
   "execution_count": 19,
   "metadata": {
    "scrolled": true
   },
   "outputs": [
    {
     "name": "stdout",
     "output_type": "stream",
     "text": [
      "{'摔跤吧！爸爸': {'poster': 'https://img3.doubanio.com/view/photo/s_ratio_poster/public/p2457983084.jpg', 'movie_name': '摔跤吧！爸爸', 'other_name': '2016-12-23(印度) / 2017-05-05(中国大陆) / 阿米尔·汗 / 法缇玛·萨那·纱卡 / 桑亚·玛荷塔 / 阿帕尔夏克提·库拉那 / 沙克希·坦沃 / 塞伊拉·沃西 / 苏哈妮·巴特纳格尔 / 里特维克·萨霍里 / 吉里什·库卡尼 / 维万·巴特那 / 什沙尔·夏尔马...', 'release_time': ['2016-12-23(印度)', '2017-05-05(中国大陆)'], 'actor': ['阿米尔·汗', '法缇玛·萨那·纱卡', '桑亚·玛荷塔', '阿帕尔夏克提·库拉那', '沙克希·坦沃', '塞伊拉·沃西', '苏哈妮·巴特纳格尔', '里特维克·萨霍里', '吉里什·库卡尼', '维万·巴特那', '什沙尔·夏尔马...'], 'score': '9.1', 'comment': '(766064人评价)'}, '': {'poster': 'https://img3.doubanio.com/view/photo/s_ratio_poster/public/p2206088801.jpg', 'movie_name': '', 'other_name': '2014-11-07(美国) / 2014-11-12(中国大陆) / 马修·麦康纳 / 安妮·海瑟薇 / 杰西卡·查斯坦 / 卡西·阿弗莱克 / 迈克尔·凯恩 / 马特·达蒙 / 麦肯吉·弗依 / 蒂莫西·柴勒梅德 / 艾伦·伯斯汀 / 约翰·利思戈 / 韦斯·本特利 / 大卫·吉雅西 / 比尔·欧文...', 'release_time': ['2014-11-07(美国)', '2014-11-12(中国大陆)'], 'actor': ['马修·麦康纳', '安妮·海瑟薇', '杰西卡·查斯坦', '卡西·阿弗莱克', '迈克尔·凯恩', '马特·达蒙', '麦肯吉·弗依', '蒂莫西·柴勒梅德', '艾伦·伯斯汀', '约翰·利思戈', '韦斯·本特利', '大卫·吉雅西', '比尔·欧文...'], 'score': '9.2', 'comment': '(786848人评价)'}, '两杆大烟枪': {'poster': 'https://img3.doubanio.com/view/photo/s_ratio_poster/public/p513344864.jpg', 'movie_name': '两杆大烟枪', 'other_name': '2010-07-16(美国) / 2010-09-01(中国大陆) / 莱昂纳多·迪卡普里奥 / 约瑟夫·高登-莱维特 / 艾伦·佩吉 / 汤姆·哈迪 / 渡边谦 / 迪利普·劳 / 基里安·墨菲 / 汤姆·贝伦杰 / 玛丽昂·歌迪亚 / 皮特·波斯尔思韦特 / 迈克尔·凯恩 / 卢卡斯·哈斯...', 'release_time': ['2010-07-16(美国)', '2010-09-01(中国大陆)'], 'actor': ['莱昂纳多·迪卡普里奥', '约瑟夫·高登-莱维特', '艾伦·佩吉', '汤姆·哈迪', '渡边谦', '迪利普·劳', '基里安·墨菲', '汤姆·贝伦杰', '玛丽昂·歌迪亚', '皮特·波斯尔思韦特', '迈克尔·凯恩', '卢卡斯·哈斯...'], 'score': '9.3', 'comment': '(1104241人评价)'}, '盗梦空间': {'poster': 'https://img1.doubanio.com/view/photo/s_ratio_poster/public/p510876377.jpg', 'movie_name': '盗梦空间', 'other_name': '1994-06-23(洛杉矶首映) / 1994-07-06(美国) / 汤姆·汉克斯 / 罗宾·怀特 / 加里·西尼斯 / 麦凯尔泰·威廉逊 / 莎莉·菲尔德 / 海利·乔·奥斯蒙 / 迈克尔·康纳·亨弗里斯 / Harold G. Herthum / 山姆·安德森 / Ione M. Telech / 彼得·道博森 / 希芳·法隆...', 'release_time': ['1994-06-23(洛杉矶首映)', '1994-07-06(美国)'], 'actor': ['汤姆·汉克斯', '罗宾·怀特', '加里·西尼斯', '麦凯尔泰·威廉逊', '莎莉·菲尔德', '海利·乔·奥斯蒙', '迈克尔·康纳·亨弗里斯', 'Harold G. Herthum', '山姆·安德森', 'Ione M. Telech', '彼得·道博森', '希芳·法隆...'], 'score': '9.4', 'comment': '(1097181人评价)'}, '千与千寻': {'poster': 'https://img3.doubanio.com/view/photo/s_ratio_poster/public/p457760035.jpg', 'movie_name': '千与千寻', 'other_name': '1997-11-01(东京电影节) / 1997-12-19(美国) / 1998-04-03(中国大陆) / 莱昂纳多·迪卡普里奥 / 凯特·温丝莱特 / 比利·赞恩 / 凯西·贝茨 / 弗兰西丝·费舍 / 格劳瑞亚·斯图尔特 / 比尔·帕克斯顿 / 伯纳德·希尔 / 大卫·沃纳 / 维克多·加博 / 乔纳森·海德...', 'release_time': ['1997-11-01(东京电影节)', '1997-12-19(美国)'], 'actor': ['1998-04-03(中国大陆)', '莱昂纳多·迪卡普里奥', '凯特·温丝莱特', '比利·赞恩', '凯西·贝茨', '弗兰西丝·费舍', '格劳瑞亚·斯图尔特', '比尔·帕克斯顿', '伯纳德·希尔', '大卫·沃纳', '维克多·加博', '乔纳森·海德...'], 'score': '9.3', 'comment': '(1037583人评价)'}, '阿甘正传': {'poster': 'https://img3.doubanio.com/view/photo/s_ratio_poster/public/p1910902213.jpg', 'movie_name': '阿甘正传', 'other_name': '1994-05-12(戛纳电影节) / 1994-10-14(美国) / 约翰·特拉沃尔塔 / 乌玛·瑟曼 / 阿曼达·普拉莫 / 蒂姆·罗斯 / 塞缪尔·杰克逊 / 菲尔·拉马 / 布鲁斯·威利斯 / 弗兰克·威利 / 布尔·斯蒂尔斯 / 文·瑞姆斯 / 劳拉·拉芙蕾丝 / 保罗·考尔德伦...', 'release_time': ['1994-05-12(戛纳电影节)', '1994-10-14(美国)'], 'actor': ['约翰·特拉沃尔塔', '乌玛·瑟曼', '阿曼达·普拉莫', '蒂姆·罗斯', '塞缪尔·杰克逊', '菲尔·拉马', '布鲁斯·威利斯', '弗兰克·威利', '布尔·斯蒂尔斯', '文·瑞姆斯', '劳拉·拉芙蕾丝', '保罗·考尔德伦...'], 'score': '8.8', 'comment': '(460981人评价)'}}\n"
     ]
    }
   ],
   "source": [
    "for p, m, o, t, s, c in zip(poster, movie_name, other_name, time_actor, score, comment_people):\n",
    "    m = m.replace(\"/\", \"\").strip()\n",
    "    release_time, actor = get_time_actor(t)\n",
    "    movie_data.update({m: {\"poster\": p, \"movie_name\": m, \"other_name\": t, \"release_time\": release_time, \"actor\": actor, \"score\": s, \"comment\": c}})\n",
    "print(movie_data)"
   ]
  },
  {
   "cell_type": "markdown",
   "metadata": {},
   "source": [
    "## 4. Pyquery 的数据提取\n",
    "主要利用jquery的定位方式，  \n",
    "如 \".name\" 表示 class=\"name\"   \n",
    "\"#name\" 表示 id=\"name\"  \n",
    "以下例子中:\n",
    "  - \"a.nbg\"  # 表示 a class=\"nbg\"\n",
    "  - \"a img\"  # 表示 a标签的子孙img标签\n",
    "  - .remove()  # 表示移除该节点\n",
    "  - .items()  # 当选中多个节点时,需要使用.items() 生成可遍历对象再进行提取\n",
    "  - .attr()  # 表示获取标签\n",
    "  - .text()  # 表示获取文本"
   ]
  },
  {
   "cell_type": "code",
   "execution_count": 20,
   "metadata": {},
   "outputs": [],
   "source": [
    "from pyquery import PyQuery as pq"
   ]
  },
  {
   "cell_type": "code",
   "execution_count": 21,
   "metadata": {},
   "outputs": [],
   "source": [
    "query_data = pq(data[:])  # 因为为了便于提取,需要删除节点,避免破坏元数据,拷贝一份"
   ]
  },
  {
   "cell_type": "code",
   "execution_count": 22,
   "metadata": {},
   "outputs": [],
   "source": [
    "poster = (i.attr[\"src\"] for i in query_data(\"a.nbg img\").items())  # 获取海报\n",
    "other_name = [i.text() for i in query_data(\"div.pl2 a span\").items()]  # 获取别名\n",
    "query_data(\"div.pl2 a span\").remove()  # 移除别名节点\n",
    "movie_name = (i.text().strip(\"/\").strip() for i in query_data(\"div.pl2 a\").items())  # 获取电影名\n",
    "time_actor =  (i.text() for i in query_data(\"div.pl2 p\").items())  # 获取上映时间和演员\n",
    "score = (i.text() for i in query_data(\"span.rating_nums\").items())  # 获取评分\n",
    "comment_people = (i.text() for i in query_data(\"span.pl\").items())  # 获取评价人数\n",
    "movie_data = {}"
   ]
  },
  {
   "cell_type": "code",
   "execution_count": 23,
   "metadata": {
    "scrolled": true
   },
   "outputs": [
    {
     "name": "stdout",
     "output_type": "stream",
     "text": [
      "{'摔跤吧！爸爸': {'poster': 'https://img3.doubanio.com/view/photo/s_ratio_poster/public/p2457983084.jpg', 'movie_name': '摔跤吧！爸爸', 'other_name': '2016-12-23(印度) / 2017-05-05(中国大陆) / 阿米尔·汗 / 法缇玛·萨那·纱卡 / 桑亚·玛荷塔 / 阿帕尔夏克提·库拉那 / 沙克希·坦沃 / 塞伊拉·沃西 / 苏哈妮·巴特纳格尔 / 里特维克·萨霍里 / 吉里什·库卡尼 / 维万·巴特那 / 什沙尔·夏尔马...', 'release_time': ['2016-12-23(印度)', '2017-05-05(中国大陆)'], 'actor': ['阿米尔·汗', '法缇玛·萨那·纱卡', '桑亚·玛荷塔', '阿帕尔夏克提·库拉那', '沙克希·坦沃', '塞伊拉·沃西', '苏哈妮·巴特纳格尔', '里特维克·萨霍里', '吉里什·库卡尼', '维万·巴特那', '什沙尔·夏尔马...'], 'score': '9.1', 'comment': '(766064人评价)'}, '两杆大烟枪': {'poster': 'https://img1.doubanio.com/view/photo/s_ratio_poster/public/p792443418.jpg', 'movie_name': '两杆大烟枪', 'other_name': '1998-08-28(英国) / 杰森·弗莱明 / 德克斯特·弗莱彻 / 尼克·莫兰 / 杰森·斯坦森 / 斯蒂文·麦金托什 / 斯汀 / 维尼·琼斯 / 丹尼·约翰-儒勒 / 维克多·麦奎尔 / 阿兰·福德 / 安德鲁·蒂曼 / 马修·沃恩 / 弗兰克·哈珀 / 罗尼·福克斯 / 罗伯·布莱顿...', 'release_time': ['1998-08-28(英国)', '杰森·弗莱明'], 'actor': ['德克斯特·弗莱彻', '尼克·莫兰', '杰森·斯坦森', '斯蒂文·麦金托什', '斯汀', '维尼·琼斯', '丹尼·约翰-儒勒', '维克多·麦奎尔', '阿兰·福德', '安德鲁·蒂曼', '马修·沃恩', '弗兰克·哈珀', '罗尼·福克斯', '罗伯·布莱顿...'], 'score': '9.1', 'comment': '(352582人评价)'}, '盗梦空间': {'poster': 'https://img3.doubanio.com/view/photo/s_ratio_poster/public/p513344864.jpg', 'movie_name': '盗梦空间', 'other_name': '2010-07-16(美国) / 2010-09-01(中国大陆) / 莱昂纳多·迪卡普里奥 / 约瑟夫·高登-莱维特 / 艾伦·佩吉 / 汤姆·哈迪 / 渡边谦 / 迪利普·劳 / 基里安·墨菲 / 汤姆·贝伦杰 / 玛丽昂·歌迪亚 / 皮特·波斯尔思韦特 / 迈克尔·凯恩 / 卢卡斯·哈斯...', 'release_time': ['2010-07-16(美国)', '2010-09-01(中国大陆)'], 'actor': ['莱昂纳多·迪卡普里奥', '约瑟夫·高登-莱维特', '艾伦·佩吉', '汤姆·哈迪', '渡边谦', '迪利普·劳', '基里安·墨菲', '汤姆·贝伦杰', '玛丽昂·歌迪亚', '皮特·波斯尔思韦特', '迈克尔·凯恩', '卢卡斯·哈斯...'], 'score': '9.3', 'comment': '(1104241人评价)'}, '千与千寻': {'poster': 'https://img3.doubanio.com/view/photo/s_ratio_poster/public/p1606727862.jpg', 'movie_name': '千与千寻', 'other_name': '2001-07-20(日本) / 柊瑠美 / 入野自由 / 夏木真理 / 菅原文太 / 中村彰男 / 玉井夕海 / 神木隆之介 / 内藤刚志 / 泽口靖子 / 我修院达也 / 大泉洋 / 小林郁夫 / 上条恒彦 / 小野武彦 / 山像香 / 斋藤志郎 / 安田显 / 户次重幸 / 黛维·切斯 /...', 'release_time': ['2001-07-20(日本)', '柊瑠美'], 'actor': ['入野自由', '夏木真理', '菅原文太', '中村彰男', '玉井夕海', '神木隆之介', '内藤刚志', '泽口靖子', '我修院达也', '大泉洋', '小林郁夫', '上条恒彦', '小野武彦', '山像香', '斋藤志郎', '安田显', '户次重幸', '黛维·切斯 /...'], 'score': '9.3', 'comment': '(1023155人评价)'}, '阿甘正传': {'poster': 'https://img1.doubanio.com/view/photo/s_ratio_poster/public/p510876377.jpg', 'movie_name': '阿甘正传', 'other_name': '1994-06-23(洛杉矶首映) / 1994-07-06(美国) / 汤姆·汉克斯 / 罗宾·怀特 / 加里·西尼斯 / 麦凯尔泰·威廉逊 / 莎莉·菲尔德 / 海利·乔·奥斯蒙 / 迈克尔·康纳·亨弗里斯 / Harold G. Herthum / 山姆·安德森 / Ione M. Telech / 彼得·道博森 / 希芳·法隆...', 'release_time': ['1994-06-23(洛杉矶首映)', '1994-07-06(美国)'], 'actor': ['汤姆·汉克斯', '罗宾·怀特', '加里·西尼斯', '麦凯尔泰·威廉逊', '莎莉·菲尔德', '海利·乔·奥斯蒙', '迈克尔·康纳·亨弗里斯', 'Harold G. Herthum', '山姆·安德森', 'Ione M. Telech', '彼得·道博森', '希芳·法隆...'], 'score': '9.4', 'comment': '(1097181人评价)'}, '让子弹飞': {'poster': 'https://img1.doubanio.com/view/photo/s_ratio_poster/public/p1512562287.jpg', 'movie_name': '让子弹飞', 'other_name': '2010-12-16(中国大陆) / 姜文 / 葛优 / 周润发 / 刘嘉玲 / 陈坤 / 张默 / 姜武 / 周韵 / 廖凡 / 姚橹 / 邵兵 / 苗圃 / 冯小刚 / 胡军 / 马珂 / 白冰 / 杜奕衡 / 李静 / 胡明 / 危笑 / 杨奇雨 / 赵铭 / 宣晓鸣 / 岳红 / 姜洪齐 / 文祥 / 陈磊 / 沙瑀 / 吴昔果...', 'release_time': ['2010-12-16(中国大陆)', '姜文'], 'actor': ['葛优', '周润发', '刘嘉玲', '陈坤', '张默', '姜武', '周韵', '廖凡', '姚橹', '邵兵', '苗圃', '冯小刚', '胡军', '马珂', '白冰', '杜奕衡', '李静', '胡明', '危笑', '杨奇雨', '赵铭', '宣晓鸣', '岳红', '姜洪齐', '文祥', '陈磊', '沙瑀', '吴昔果...'], 'score': '8.7', 'comment': '(877649人评价)'}, '泰坦尼克号': {'poster': 'https://img3.doubanio.com/view/photo/s_ratio_poster/public/p457760035.jpg', 'movie_name': '泰坦尼克号', 'other_name': '1997-11-01(东京电影节) / 1997-12-19(美国) / 1998-04-03(中国大陆) / 莱昂纳多·迪卡普里奥 / 凯特·温丝莱特 / 比利·赞恩 / 凯西·贝茨 / 弗兰西丝·费舍 / 格劳瑞亚·斯图尔特 / 比尔·帕克斯顿 / 伯纳德·希尔 / 大卫·沃纳 / 维克多·加博 / 乔纳森·海德...', 'release_time': ['1997-11-01(东京电影节)', '1997-12-19(美国)'], 'actor': ['1998-04-03(中国大陆)', '莱昂纳多·迪卡普里奥', '凯特·温丝莱特', '比利·赞恩', '凯西·贝茨', '弗兰西丝·费舍', '格劳瑞亚·斯图尔特', '比尔·帕克斯顿', '伯纳德·希尔', '大卫·沃纳', '维克多·加博', '乔纳森·海德...'], 'score': '9.3', 'comment': '(1037583人评价)'}, '大闹天宫': {'poster': 'https://img1.doubanio.com/view/photo/s_ratio_poster/public/p2184505167.jpg', 'movie_name': '大闹天宫', 'other_name': '1961(中国大陆) / 1964(中国大陆) / 1978(中国大陆) / 2004(中国大陆) / 邱岳峰 / 富润生 / 毕克 / 尚华 / 于鼎 / 李梓 / 刘广宁 / 汉斯·艾尔佛森 / 中国大陆 / 万籁鸣 / 唐澄 / 114分钟 / 动画 / 奇幻 / 李克弱 Keruo Li / 万籁鸣 Laiming Wan / 汉语普通话...', 'release_time': ['1961(中国大陆)', '1964(中国大陆)'], 'actor': ['1978(中国大陆)', '2004(中国大陆)', '邱岳峰', '富润生', '毕克', '尚华', '于鼎', '李梓', '刘广宁', '汉斯·艾尔佛森', '中国大陆', '万籁鸣', '唐澄', '114分钟', '动画', '奇幻', '李克弱 Keruo Li', '万籁鸣 Laiming Wan', '汉语普通话...'], 'score': '9.3', 'comment': '(166566人评价)'}, '低俗小说': {'poster': 'https://img3.doubanio.com/view/photo/s_ratio_poster/public/p1910902213.jpg', 'movie_name': '低俗小说', 'other_name': '1994-05-12(戛纳电影节) / 1994-10-14(美国) / 约翰·特拉沃尔塔 / 乌玛·瑟曼 / 阿曼达·普拉莫 / 蒂姆·罗斯 / 塞缪尔·杰克逊 / 菲尔·拉马 / 布鲁斯·威利斯 / 弗兰克·威利 / 布尔·斯蒂尔斯 / 文·瑞姆斯 / 劳拉·拉芙蕾丝 / 保罗·考尔德伦...', 'release_time': ['1994-05-12(戛纳电影节)', '1994-10-14(美国)'], 'actor': ['约翰·特拉沃尔塔', '乌玛·瑟曼', '阿曼达·普拉莫', '蒂姆·罗斯', '塞缪尔·杰克逊', '菲尔·拉马', '布鲁斯·威利斯', '弗兰克·威利', '布尔·斯蒂尔斯', '文·瑞姆斯', '劳拉·拉芙蕾丝', '保罗·考尔德伦...'], 'score': '8.8', 'comment': '(460981人评价)'}, '星际穿越': {'poster': 'https://img3.doubanio.com/view/photo/s_ratio_poster/public/p2206088801.jpg', 'movie_name': '星际穿越', 'other_name': '2014-11-07(美国) / 2014-11-12(中国大陆) / 马修·麦康纳 / 安妮·海瑟薇 / 杰西卡·查斯坦 / 卡西·阿弗莱克 / 迈克尔·凯恩 / 马特·达蒙 / 麦肯吉·弗依 / 蒂莫西·柴勒梅德 / 艾伦·伯斯汀 / 约翰·利思戈 / 韦斯·本特利 / 大卫·吉雅西 / 比尔·欧文...', 'release_time': ['2014-11-07(美国)', '2014-11-12(中国大陆)'], 'actor': ['马修·麦康纳', '安妮·海瑟薇', '杰西卡·查斯坦', '卡西·阿弗莱克', '迈克尔·凯恩', '马特·达蒙', '麦肯吉·弗依', '蒂莫西·柴勒梅德', '艾伦·伯斯汀', '约翰·利思戈', '韦斯·本特利', '大卫·吉雅西', '比尔·欧文...'], 'score': '9.2', 'comment': '(786848人评价)'}}\n"
     ]
    }
   ],
   "source": [
    "for p, m, o, t, s, c in zip(poster, movie_name, other_name, time_actor, score, comment_people):\n",
    "    release_time, actor = get_time_actor(t)\n",
    "    movie_data.update({m: {\"poster\": p, \"movie_name\": m, \"other_name\": t, \"release_time\": release_time, \"actor\": actor, \"score\": s, \"comment\": c}})\n",
    "print(movie_data)"
   ]
  },
  {
   "cell_type": "markdown",
   "metadata": {},
   "source": [
    "## 5. scrapy 混合提取"
   ]
  },
  {
   "cell_type": "code",
   "execution_count": 24,
   "metadata": {},
   "outputs": [
    {
     "ename": "ModuleNotFoundError",
     "evalue": "No module named 'scrapy'",
     "output_type": "error",
     "traceback": [
      "\u001b[0;31m---------------------------------------------------------------------------\u001b[0m",
      "\u001b[0;31mModuleNotFoundError\u001b[0m                       Traceback (most recent call last)",
      "\u001b[0;32m<ipython-input-24-687e5b38ba5b>\u001b[0m in \u001b[0;36m<module>\u001b[0;34m\u001b[0m\n\u001b[0;32m----> 1\u001b[0;31m \u001b[0;32mfrom\u001b[0m \u001b[0mscrapy\u001b[0m \u001b[0;32mimport\u001b[0m \u001b[0mSelector\u001b[0m  \u001b[0;31m# 导入scrapy的选择器\u001b[0m\u001b[0;34m\u001b[0m\u001b[0;34m\u001b[0m\u001b[0m\n\u001b[0m",
      "\u001b[0;31mModuleNotFoundError\u001b[0m: No module named 'scrapy'"
     ]
    }
   ],
   "source": [
    "from scrapy import Selector  # 导入scrapy的选择器"
   ]
  },
  {
   "cell_type": "code",
   "execution_count": null,
   "metadata": {},
   "outputs": [],
   "source": [
    "se = Selector(text=data)"
   ]
  },
  {
   "cell_type": "markdown",
   "metadata": {},
   "source": [
    "#### 提取规则说明 从下方案例可以看出,scrapy的提取器,css和xpath,以及正则提取都是支持的,我们可以混用  \n",
    "   - .css()  # 就是css规则的提取\n",
    "   - .xpath()  # 就是xpath规则的提取,需要注意的是,因为scrapy的Selector支持混用,如果xpath是在某个提取器之后,那么必须使用\"./\"来跟进上个提取器的提取点,不能使用\"//\", 因为Selector 的xapth提取器的\"//\"永远代表根节点\n",
    "       - response.css(\"#id\").xpath(\"./a\")  # 该规则表示id=\"id\" 的节点**之后**的所有a标签节点\n",
    "       - response.css(\"#id\").xpath(\"//a\")  # 改规则就变成了提取所有的a标签节点,前面的css选择器的结果失效.\n",
    "   - .re()  # 就是正则的提取, 正则提取后,不需要用extract()来转化成str类型\n",
    "   - extract()  # 将当前的选择结果转化成str类型  "
   ]
  },
  {
   "cell_type": "code",
   "execution_count": null,
   "metadata": {},
   "outputs": [],
   "source": [
    "poster = se.css(\".nbg img\").xpath(\"./@src\").extract()  # 获取海报\n",
    "movie_name = se.css(\"div.pl2\").xpath(\"./a/text()\").re(\"\\w+\")  # 获取电影名\n",
    "other_name = se.css(\"div.pl2\").xpath(\"./a/span/text()\").extract()  # 获取电影别名\n",
    "time_actor = se.css(\"div.pl2\").xpath(\"./p/text()\").extract()  # 获取上映日期和演员\n",
    "score = se.css(\"span.rating_nums::text\").extract()  # 获取评分\n",
    "comment_people = se.xpath('//span[@class=\"pl\"]/text()').extract()  # 获取评分人数\n",
    "movie_data = {}"
   ]
  },
  {
   "cell_type": "code",
   "execution_count": null,
   "metadata": {
    "scrolled": true
   },
   "outputs": [],
   "source": [
    "for p, m, o, t, s, c in zip(poster, movie_name, other_name, time_actor, score, comment_people):\n",
    "    release_time, actor = get_time_actor(t)\n",
    "    movie_data.update({m: {\"poster\": p, \"movie_name\": m, \"other_name\": t, \"release_time\": release_time, \"actor\": actor, \"score\": s, \"comment\": c}})\n",
    "print(movie_data)"
   ]
  },
  {
   "cell_type": "markdown",
   "metadata": {},
   "source": [
    "## 总结\n",
    "以上就是我们该次提取练习的所有内容,以豆瓣电影top100的响应为例,我们讲解了常用的5种提取器.  \n",
    "**1. 正则**  \n",
    "   - \".\" 表示任意非空格换行等字符\n",
    "   - \".*?\"  表示贪婪匹配,最少匹配一次\n",
    "   - \"()\"  表示提取()中的内容\n",
    "   -  \"\\\\w\" 表示正常字符,比如英文字母,中文等常见文字\n",
    "   - \".+\"  表示至少匹配一次任意字符  \n",
    "   \n",
    "**2. css**  \n",
    "- \".\" 表示class \n",
    "- \" \"表示子孙节点  \n",
    "- img 就是img节点  \n",
    "- a 就是a节点\n",
    "- \"#abd\" 表示 id=\"abc\"的节点\n",
    "\n",
    "**3. xpath**  \n",
    " - \"//\"  # 代表从根节点搜索\n",
    " - \"//a\"  # 搜索根节点的所有a标签\n",
    " - \"//a[@class=\"nbg]\"  # 搜索class=\"nbg\"的a标签\n",
    " - \".../a\"  # 搜索从...节点开始的子a标签\n",
    " - \".../img/@src\"  # 获取当前img标签的src属性\n",
    " - \".../p/text()\"  # 获取当前p标签下的文本\n",
    " - \".../p//text()\"  # 获取当前p标签后的所有文本(子孙文本)\n",
    " \n",
    "**4. pyquery**  \n",
    "  - \"a.nbg\"  # 表示 a class=\"nbg\"\n",
    "  - \"a img\"  # 表示 a标签的子孙img标签\n",
    "  - .remove()  # 表示移除该节点\n",
    "  - .items()  # 当选中多个节点时,需要使用.items() 生成可遍历对象再进行提取\n",
    "  - .attr()  # 表示获取标签\n",
    "  - .text()  # 表示获取文本\n",
    "  \n",
    "**5. 混合提取**  \n",
    "   - .css()  # 就是css规则的提取\n",
    "   - .xpath()  # 就是xpath规则的提取,需要注意的是,因为scrapy的Selector支持混用,如果xpath是在某个提取器之后,那么必须使用\"./\"来跟进上个提取器的提取点,不能使用\"//\", 因为Selector 的xapth提取器的\"//\"永远代表根节点\n",
    "       - response.css(\"#id\").xpath(\"./a\")  # 该规则表示id=\"id\" 的节点**之后**的所有a标签节点\n",
    "       - response.css(\"#id\").xpath(\"//a\")  # 改规则就变成了提取所有的a标签节点,前面的css选择器的结果失效.\n",
    "   - .re()  # 就是正则的提取, 正则提取后,不需要用extract()来转化成str类型\n",
    "   - extract()  # 将当前的选择结果转化成str类型  "
   ]
  }
 ],
 "metadata": {
  "kernelspec": {
   "display_name": "Python 3",
   "language": "python",
   "name": "python3"
  },
  "language_info": {
   "codemirror_mode": {
    "name": "ipython",
    "version": 3
   },
   "file_extension": ".py",
   "mimetype": "text/x-python",
   "name": "python",
   "nbconvert_exporter": "python",
   "pygments_lexer": "ipython3",
   "version": "3.7.3"
  }
 },
 "nbformat": 4,
 "nbformat_minor": 2
}
