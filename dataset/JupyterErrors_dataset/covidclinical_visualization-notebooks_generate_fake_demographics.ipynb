{
 "cells": [
  {
   "cell_type": "code",
   "execution_count": 16,
   "metadata": {},
   "outputs": [
    {
     "ename": "FileNotFoundError",
     "evalue": "[Errno 2] No such file or directory: '../fakedata'",
     "output_type": "error",
     "traceback": [
      "\u001b[0;31m---------------------------------------------------------------------------\u001b[0m",
      "\u001b[0;31mFileNotFoundError\u001b[0m                         Traceback (most recent call last)",
      "\u001b[0;32m<ipython-input-16-300990ca0081>\u001b[0m in \u001b[0;36m<module>\u001b[0;34m\u001b[0m\n\u001b[1;32m     10\u001b[0m \u001b[0msys\u001b[0m\u001b[0;34m.\u001b[0m\u001b[0mpath\u001b[0m\u001b[0;34m.\u001b[0m\u001b[0minsert\u001b[0m\u001b[0;34m(\u001b[0m\u001b[0;36m1\u001b[0m\u001b[0;34m,\u001b[0m \u001b[0;34m'../../notebooks'\u001b[0m\u001b[0;34m)\u001b[0m \u001b[0;31m# We want to use constants.py in another folder\u001b[0m\u001b[0;34m\u001b[0m\u001b[0;34m\u001b[0m\u001b[0m\n\u001b[1;32m     11\u001b[0m \u001b[0;34m\u001b[0m\u001b[0m\n\u001b[0;32m---> 12\u001b[0;31m \u001b[0;32mfrom\u001b[0m \u001b[0mconstants\u001b[0m \u001b[0;32mimport\u001b[0m \u001b[0mDATA_DIR\u001b[0m\u001b[0;34m,\u001b[0m \u001b[0mCOLUMNS\u001b[0m\u001b[0;34m\u001b[0m\u001b[0;34m\u001b[0m\u001b[0m\n\u001b[0m\u001b[1;32m     13\u001b[0m \u001b[0;34m\u001b[0m\u001b[0m\n\u001b[1;32m     14\u001b[0m \u001b[0mnp\u001b[0m\u001b[0;34m.\u001b[0m\u001b[0mrandom\u001b[0m\u001b[0;34m.\u001b[0m\u001b[0mseed\u001b[0m\u001b[0;34m(\u001b[0m\u001b[0;36m0\u001b[0m\u001b[0;34m)\u001b[0m\u001b[0;34m\u001b[0m\u001b[0;34m\u001b[0m\u001b[0m\n",
      "\u001b[0;32m~/Projects/c19i2b2-notebooks/notebooks/constants.py\u001b[0m in \u001b[0;36m<module>\u001b[0;34m\u001b[0m\n\u001b[1;32m     48\u001b[0m \u001b[0;34m\u001b[0m\u001b[0m\n\u001b[1;32m     49\u001b[0m \u001b[0;31m# Collect all site IDs by looking into file names in `DATA_DIR`.\u001b[0m\u001b[0;34m\u001b[0m\u001b[0;34m\u001b[0m\u001b[0;34m\u001b[0m\u001b[0m\n\u001b[0;32m---> 50\u001b[0;31m \u001b[0mfilenames\u001b[0m \u001b[0;34m=\u001b[0m \u001b[0;34m[\u001b[0m\u001b[0mf\u001b[0m \u001b[0;32mfor\u001b[0m \u001b[0mf\u001b[0m \u001b[0;32min\u001b[0m \u001b[0mlistdir\u001b[0m\u001b[0;34m(\u001b[0m\u001b[0mDATA_DIR\u001b[0m\u001b[0;34m)\u001b[0m \u001b[0;32mif\u001b[0m \u001b[0misfile\u001b[0m\u001b[0;34m(\u001b[0m\u001b[0mjoin\u001b[0m\u001b[0;34m(\u001b[0m\u001b[0mDATA_DIR\u001b[0m\u001b[0;34m,\u001b[0m \u001b[0mf\u001b[0m\u001b[0;34m)\u001b[0m\u001b[0;34m)\u001b[0m\u001b[0;34m]\u001b[0m\u001b[0;34m\u001b[0m\u001b[0;34m\u001b[0m\u001b[0m\n\u001b[0m\u001b[1;32m     51\u001b[0m \u001b[0;34m\u001b[0m\u001b[0m\n\u001b[1;32m     52\u001b[0m \u001b[0m_SITE_IDS_FOR_DAILY_COUNT_FILES\u001b[0m \u001b[0;34m=\u001b[0m \u001b[0;34m[\u001b[0m\u001b[0mfname\u001b[0m\u001b[0;34m[\u001b[0m\u001b[0mlen\u001b[0m\u001b[0;34m(\u001b[0m\u001b[0;34m\"DailyCounts-\"\u001b[0m\u001b[0;34m)\u001b[0m\u001b[0;34m:\u001b[0m\u001b[0;34m-\u001b[0m\u001b[0mlen\u001b[0m\u001b[0;34m(\u001b[0m\u001b[0;34m\".csv\"\u001b[0m\u001b[0;34m)\u001b[0m\u001b[0;34m]\u001b[0m \u001b[0;32mfor\u001b[0m \u001b[0mfname\u001b[0m \u001b[0;32min\u001b[0m \u001b[0mfilenames\u001b[0m \u001b[0;32mif\u001b[0m \u001b[0;34m\"DailyCounts-\"\u001b[0m \u001b[0;32min\u001b[0m \u001b[0mfname\u001b[0m\u001b[0;34m]\u001b[0m\u001b[0;34m\u001b[0m\u001b[0;34m\u001b[0m\u001b[0m\n",
      "\u001b[0;31mFileNotFoundError\u001b[0m: [Errno 2] No such file or directory: '../fakedata'"
     ]
    }
   ],
   "source": [
    "import numpy as np\n",
    "import pandas as pd\n",
    "import altair as alt\n",
    "from os.path import join\n",
    "import random\n",
    "import string\n",
    "from numpy.random import choice\n",
    "\n",
    "import sys\n",
    "sys.path.insert(1, '../../notebooks') # We want to use constants.py in another folder\n",
    "\n",
    "from constants import DATA_DIR, COLUMNS\n",
    "\n",
    "np.random.seed(0)"
   ]
  },
  {
   "cell_type": "code",
   "execution_count": 17,
   "metadata": {},
   "outputs": [],
   "source": [
    "#File #2: Demographics-SiteID.csv\n",
    "#Fields: siteid, sex, total_patients, age_0to2, age_3to5, age_6to11, age_12to17, age_18to25, age_26to49, age_50to69, age_70to79, age_80plus\n",
    "#Notes:\n",
    "#(1) One row per sex (values = \"Male\", \"Female\", \"Other\", \"All\")\n",
    "#(2) Count anyone who is not male or female as \"Other\"\n",
    "#(3) Include all patients in the \"All\" row\n",
    "#(4) The total_patients value in the sex=All row should be everyone\n",
    "#(5) Obfuscate small counts with \"-1\" as required by your institution\n",
    "#Examples: (Demographics-BIDMC.csv)\n",
    "#BIDMC, Male, 26, 0, 0, 0, 0, 0, 0, 6, 8, 12\n",
    "#BIDMC, Female, 24, 0, 0, 0, 0, 0, 0, -1, 10, 11\n",
    "#BIDMC, Other, 0, 0, 0, 0, 0, 0, 0, 0, 0, 0\n",
    "#BIDMC, All, 50, 0, 0, 0, 0, 0, 0, 9, 18, 23"
   ]
  },
  {
   "cell_type": "code",
   "execution_count": 18,
   "metadata": {},
   "outputs": [],
   "source": [
    "num_sites = 20\n",
    "num_agegroups = 9"
   ]
  },
  {
   "cell_type": "code",
   "execution_count": 19,
   "metadata": {},
   "outputs": [],
   "source": [
    "# Fake site ids\n",
    "\n",
    "# To generate new list, uncomment below\n",
    "# site_ids = []\n",
    "# for i in range(num_sites):\n",
    "#     site_ids.append(\"F\" + \"\".join(random.choices(string.ascii_uppercase, k=2)))\n",
    "\n",
    "site_ids = ['FWN','FXL','FZT','FMT','FFG','FOW','FSZ','FMA','FEQ','FVX','FKQ','FBL','FDQ','FKN','FBD','FKL','FUU','FZU','FZM','FUN']"
   ]
  },
  {
   "cell_type": "code",
   "execution_count": 20,
   "metadata": {},
   "outputs": [],
   "source": [
    "# Iterate each site to make dataFrame\n",
    "dfs = []\n",
    "for siteid in site_ids:\n",
    "    \n",
    "    data = []\n",
    "    \n",
    "    # A factor that decide the number of patients in each site\n",
    "    size_of_site = choice([\"s\", \"m\", \"l\"], 1, [0.1, 0.6, 0.4])\n",
    "        \n",
    "    if size_of_site == \"s\":        \n",
    "        patient_ages_male = np.floor(np.abs(np.random.normal(loc=0, scale=2, size=num_agegroups)*10))\n",
    "        patient_ages_female = np.floor(np.abs(np.random.normal(loc=0, scale=2, size=num_agegroups)*10))        \n",
    "        patient_ages_other = np.floor(np.abs(np.random.normal(loc=0, scale=0.6, size=num_agegroups)))\n",
    "    elif size_of_site == \"m\":\n",
    "        patient_ages_male = np.floor(np.abs(np.random.normal(loc=0, scale=5, size=num_agegroups)*10))\n",
    "        patient_ages_female = np.floor(np.abs(np.random.normal(loc=0, scale=5, size=num_agegroups)*10))        \n",
    "        patient_ages_other = np.floor(np.abs(np.random.normal(loc=0, scale=0.7, size=num_agegroups)))\n",
    "    else:\n",
    "        patient_ages_male = np.floor(np.abs(np.random.normal(loc=0, scale=8, size=num_agegroups)*10))\n",
    "        patient_ages_female = np.floor(np.abs(np.random.normal(loc=0, scale=8, size=num_agegroups)*10))        \n",
    "        patient_ages_other = np.floor(np.abs(np.random.normal(loc=0, scale=0.8, size=num_agegroups)))\n",
    "\n",
    "    patient_ages_all = patient_ages_male + patient_ages_female + patient_ages_other\n",
    "\n",
    "    data.append(np.concatenate(([siteid, \"Male\", int(sum(patient_ages_male))], patient_ages_male.astype(int))))\n",
    "    data.append(np.concatenate(([siteid, \"Female\", int(sum(patient_ages_female))], patient_ages_female.astype(int))))    \n",
    "    data.append(np.concatenate(([siteid, \"Other\", int(sum(patient_ages_other))], patient_ages_other.astype(int))))\n",
    "    data.append(np.concatenate(([siteid, \"All\", int(sum(patient_ages_all))], patient_ages_all.astype(int))))    \n",
    "\n",
    "    # Make data\n",
    "    df = pd.DataFrame(data)\n",
    "    dfs.append(df)\n",
    "    \n",
    "    # Write a file\n",
    "    df.to_csv(join(\"..\", \"Demographics-\" + siteid + '.csv'), index = False, header=False)"
   ]
  },
  {
   "cell_type": "code",
   "execution_count": null,
   "metadata": {},
   "outputs": [],
   "source": []
  }
 ],
 "metadata": {
  "kernelspec": {
   "display_name": "Python [conda env:c19i2b2-py] *",
   "language": "python",
   "name": "conda-env-c19i2b2-py-py"
  },
  "language_info": {
   "codemirror_mode": {
    "name": "ipython",
    "version": 3
   },
   "file_extension": ".py",
   "mimetype": "text/x-python",
   "name": "python",
   "nbconvert_exporter": "python",
   "pygments_lexer": "ipython3",
   "version": "3.8.2"
  }
 },
 "nbformat": 4,
 "nbformat_minor": 4
}
