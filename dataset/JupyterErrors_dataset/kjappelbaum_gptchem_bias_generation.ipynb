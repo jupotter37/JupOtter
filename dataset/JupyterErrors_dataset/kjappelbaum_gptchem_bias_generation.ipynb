{
 "cells": [
  {
   "cell_type": "code",
   "execution_count": 1,
   "metadata": {},
   "outputs": [],
   "source": [
    "%load_ext autoreload\n",
    "%autoreload 2"
   ]
  },
  {
   "cell_type": "code",
   "execution_count": 2,
   "metadata": {},
   "outputs": [],
   "source": [
    "import random\n",
    "from collections import defaultdict\n",
    "\n",
    "import numpy as np\n",
    "import pandas as pd\n",
    "\n",
    "from gptchem.data import get_qmug_data\n",
    "from gptchem.evaluator import is_valid\n",
    "from gptchem.extractor import InverseExtractor\n",
    "from gptchem.formatter import InverseDesignFormatter\n",
    "from gptchem.plotsettings import *\n",
    "from gptchem.querier import Querier\n",
    "from gptchem.tuner import Tuner"
   ]
  },
  {
   "cell_type": "code",
   "execution_count": 3,
   "metadata": {},
   "outputs": [],
   "source": [
    "num_samples = 100\n",
    "TEMPERATURES = [0.0, 0.1, 0.2, 0.5, 0.75, 1.0, 1.25, 1.5]"
   ]
  },
  {
   "cell_type": "code",
   "execution_count": 4,
   "metadata": {},
   "outputs": [],
   "source": [
    "def generate_desired_dist(mean: float = 5.0, width: float = 0.2, num_points: int = 100):\n",
    "    return np.random.normal(mean, width, size=num_points)"
   ]
  },
  {
   "cell_type": "code",
   "execution_count": 5,
   "metadata": {},
   "outputs": [],
   "source": [
    "formatter = InverseDesignFormatter(\n",
    "    representation_column=\"SMILES\",\n",
    "    property_columns=[\"GFN2_HOMO_LUMO_GAP_mean_ev\"],\n",
    "    property_names=[\"bandgap\"],\n",
    "    num_digits=1,\n",
    ")"
   ]
  },
  {
   "cell_type": "code",
   "execution_count": 6,
   "metadata": {},
   "outputs": [],
   "source": [
    "tuner = Tuner()"
   ]
  },
  {
   "cell_type": "code",
   "execution_count": 7,
   "metadata": {},
   "outputs": [],
   "source": [
    "extractor = InverseExtractor()"
   ]
  },
  {
   "attachments": {},
   "cell_type": "markdown",
   "metadata": {},
   "source": [
    "# Iteration 0\n"
   ]
  },
  {
   "cell_type": "code",
   "execution_count": 6,
   "metadata": {},
   "outputs": [],
   "source": [
    "data = get_qmug_data()"
   ]
  },
  {
   "cell_type": "code",
   "execution_count": 4,
   "metadata": {},
   "outputs": [],
   "source": [
    "train_set = data.sample(num_samples)"
   ]
  },
  {
   "cell_type": "code",
   "execution_count": 14,
   "metadata": {},
   "outputs": [
    {
     "data": {
      "text/plain": [
       "2.585626760870966"
      ]
     },
     "execution_count": 14,
     "metadata": {},
     "output_type": "execute_result"
    }
   ],
   "source": [
    "train_set[\"GFN2_HOMO_LUMO_GAP_mean_ev\"].mean()"
   ]
  },
  {
   "cell_type": "code",
   "execution_count": 8,
   "metadata": {},
   "outputs": [],
   "source": [
    "formatted_0 = formatter(train_set)"
   ]
  },
  {
   "cell_type": "code",
   "execution_count": 10,
   "metadata": {},
   "outputs": [
    {
     "name": "stderr",
     "output_type": "stream",
     "text": [
      "Upload progress: 100%|██████████| 45.0k/45.0k [00:00<00:00, 21.1Mit/s]\n"
     ]
    },
    {
     "name": "stdout",
     "output_type": "stream",
     "text": [
      "Uploaded file from /Users/kevinmaikjablonka/git/kjappelbaum/gptchem/experiments/05_inverse/bandgap/biasing/manual/out/20230209_170232/train.jsonl: file-nYMwTmPBskIID3jKNgtKtdxf\n"
     ]
    },
    {
     "name": "stderr",
     "output_type": "stream",
     "text": [
      "wandb: Currently logged in as: kjappelbaum. Use `wandb login --relogin` to force relogin\n"
     ]
    },
    {
     "name": "stdout",
     "output_type": "stream",
     "text": [
      "A run for fine-tune ft-t24yOKINJbekcMBORKwIpS5C was previously created but didn't end successfully\n",
      "A new wandb run will be created for fine-tune ft-t24yOKINJbekcMBORKwIpS5C and previous run will be overwritten\n"
     ]
    },
    {
     "name": "stderr",
     "output_type": "stream",
     "text": [
      "wandb: wandb version 0.13.10 is available!  To upgrade, please run:\n",
      "wandb:  $ pip install wandb --upgrade\n",
      "wandb: Tracking run with wandb version 0.13.7\n",
      "wandb: Run data is saved locally in /Users/kevinmaikjablonka/git/kjappelbaum/gptchem/experiments/05_inverse/bandgap/biasing/manual/wandb/run-20230209_182516-ft-t24yOKINJbekcMBORKwIpS5C\n",
      "wandb: Run `wandb offline` to turn off syncing.\n",
      "wandb: Syncing run ft-t24yOKINJbekcMBORKwIpS5C\n",
      "wandb: ⭐️ View project at https://wandb.ai/kjappelbaum/GPT-3\n",
      "wandb: 🚀 View run at https://wandb.ai/kjappelbaum/GPT-3/runs/ft-t24yOKINJbekcMBORKwIpS5C\n",
      "Traceback (most recent call last):\n",
      "  File \"/Users/kevinmaikjablonka/miniconda3/envs/gptchem/bin/openai\", line 8, in <module>\n",
      "    sys.exit(main())\n",
      "  File \"/Users/kevinmaikjablonka/miniconda3/envs/gptchem/lib/python3.9/site-packages/openai/_openai_scripts.py\", line 63, in main\n",
      "    args.func(args)\n",
      "  File \"/Users/kevinmaikjablonka/miniconda3/envs/gptchem/lib/python3.9/site-packages/openai/cli.py\", line 527, in sync\n",
      "    resp = openai.wandb_logger.WandbLogger.sync(\n",
      "  File \"/Users/kevinmaikjablonka/miniconda3/envs/gptchem/lib/python3.9/site-packages/openai/wandb_logger.py\", line 73, in sync\n",
      "    fine_tune_logged = [\n",
      "  File \"/Users/kevinmaikjablonka/miniconda3/envs/gptchem/lib/python3.9/site-packages/openai/wandb_logger.py\", line 74, in <listcomp>\n",
      "    cls._log_fine_tune(\n",
      "  File \"/Users/kevinmaikjablonka/miniconda3/envs/gptchem/lib/python3.9/site-packages/openai/wandb_logger.py\", line 162, in _log_fine_tune\n",
      "    step = metrics.pop(\"step\")\n",
      "KeyError: 'step'\n",
      "wandb: Waiting for W&B process to finish... (failed 1). Press Control-C to abort syncing.\n",
      "wandb: Synced ft-t24yOKINJbekcMBORKwIpS5C: https://wandb.ai/kjappelbaum/GPT-3/runs/ft-t24yOKINJbekcMBORKwIpS5C\n",
      "wandb: Synced 6 W&B file(s), 0 media file(s), 0 artifact file(s) and 0 other file(s)\n",
      "wandb: Find logs at: ./wandb/run-20230209_182516-ft-t24yOKINJbekcMBORKwIpS5C/logs\n"
     ]
    }
   ],
   "source": [
    "tune_res_0 = tuner(formatted_0)"
   ]
  },
  {
   "cell_type": "code",
   "execution_count": 12,
   "metadata": {},
   "outputs": [
    {
     "data": {
      "text/plain": [
       "{'base_model': 'ada',\n",
       " 'batch_size': None,\n",
       " 'n_epochs': 4,\n",
       " 'learning_rate_multiplier': None,\n",
       " 'run_name': None,\n",
       " 'wandb_sync': True,\n",
       " 'outdir': '/Users/kevinmaikjablonka/git/kjappelbaum/gptchem/experiments/05_inverse/bandgap/biasing/manual/out/20230209_170232',\n",
       " 'train_filename': '/Users/kevinmaikjablonka/git/kjappelbaum/gptchem/experiments/05_inverse/bandgap/biasing/manual/out/20230209_170232/train.jsonl',\n",
       " 'valid_filename': 'None',\n",
       " 'model_name': 'ada:ft-lsmoepfl-2023-02-09-17-22-56',\n",
       " 'ft_id': 'ft-KYUUSQvS2nkwk6r1bA68dLdy',\n",
       " 'date': '20230209_182529',\n",
       " 'train_file_id': 'file-nYMwTmPBskIID3jKNgtKtdxf',\n",
       " 'valid_file_id': None}"
      ]
     },
     "execution_count": 12,
     "metadata": {},
     "output_type": "execute_result"
    }
   ],
   "source": [
    "tune_res_0"
   ]
  },
  {
   "cell_type": "code",
   "execution_count": 9,
   "metadata": {},
   "outputs": [],
   "source": [
    "querier_0 = Querier(\"ada:ft-lsmoepfl-2023-02-09-17-22-56\", max_tokens=600)"
   ]
  },
  {
   "cell_type": "code",
   "execution_count": 10,
   "metadata": {},
   "outputs": [],
   "source": [
    "expected_gaps_0 = generate_desired_dist(3.5, 0.2, 1000)"
   ]
  },
  {
   "cell_type": "code",
   "execution_count": 11,
   "metadata": {},
   "outputs": [],
   "source": [
    "expected_frame_0 = pd.DataFrame(\n",
    "    {\"SMILES\": [\"SMILE\"] * 1000, \"GFN2_HOMO_LUMO_GAP_mean_ev\": expected_gaps_0}\n",
    ")"
   ]
  },
  {
   "cell_type": "code",
   "execution_count": 12,
   "metadata": {},
   "outputs": [],
   "source": [
    "formatted_test_0 = formatter(expected_frame_0)"
   ]
  },
  {
   "cell_type": "code",
   "execution_count": 13,
   "metadata": {},
   "outputs": [],
   "source": [
    "completions_0 = defaultdict(list)\n",
    "smiles_0 = defaultdict(list)\n",
    "\n",
    "for temp in TEMPERATURES:\n",
    "    try:\n",
    "        completions = querier_0(formatted_test_0, temperature=temp)\n",
    "        extracted = extractor(completions)\n",
    "        completions_0[temp] = completions\n",
    "        smiles_0[temp] = extracted\n",
    "    except Exception:\n",
    "        pass"
   ]
  },
  {
   "cell_type": "code",
   "execution_count": 18,
   "metadata": {},
   "outputs": [],
   "source": [
    "unique_smiles_0 = set()\n",
    "for t, v in smiles_0.items():\n",
    "    unique_smiles_0.update(v)"
   ]
  },
  {
   "cell_type": "code",
   "execution_count": 19,
   "metadata": {},
   "outputs": [
    {
     "data": {
      "text/plain": [
       "4099"
      ]
     },
     "execution_count": 19,
     "metadata": {},
     "output_type": "execute_result"
    }
   ],
   "source": [
    "len(unique_smiles_0)"
   ]
  },
  {
   "cell_type": "code",
   "execution_count": 21,
   "metadata": {},
   "outputs": [],
   "source": [
    "valid_smiles_0 = [s for s in unique_smiles_0 if is_valid(s)]"
   ]
  },
  {
   "cell_type": "code",
   "execution_count": 22,
   "metadata": {},
   "outputs": [
    {
     "data": {
      "text/plain": [
       "178"
      ]
     },
     "execution_count": 22,
     "metadata": {},
     "output_type": "execute_result"
    }
   ],
   "source": [
    "len(valid_smiles_0)"
   ]
  },
  {
   "cell_type": "code",
   "execution_count": 24,
   "metadata": {},
   "outputs": [],
   "source": [
    "with open(\"xtb_inputs/0.txt\", \"w\") as handle:\n",
    "    for smile in valid_smiles_0:\n",
    "        handle.write(smile + \"\\n\")"
   ]
  },
  {
   "cell_type": "code",
   "execution_count": 26,
   "metadata": {},
   "outputs": [],
   "source": [
    "with open(\"xtb_inputs/0_sample.txt\", \"w\") as handle:\n",
    "    for smile in random.sample(valid_smiles_0, 100):\n",
    "        handle.write(smile + \"\\n\")"
   ]
  },
  {
   "cell_type": "code",
   "execution_count": 27,
   "metadata": {},
   "outputs": [],
   "source": [
    "train_0 = pd.read_json(\n",
    "    \"/Users/kevinmaikjablonka/git/kjappelbaum/gptchem/experiments/05_inverse/bandgap/biasing/manual/out/20230209_170232/train.jsonl\",\n",
    "    lines=True,\n",
    ")"
   ]
  },
  {
   "cell_type": "code",
   "execution_count": 38,
   "metadata": {},
   "outputs": [],
   "source": [
    "train_0[\"gap\"] = train_0[\"representation\"].apply(lambda x: x[0])"
   ]
  },
  {
   "cell_type": "code",
   "execution_count": 5,
   "metadata": {},
   "outputs": [],
   "source": [
    "xtb_outputs_0 = pd.read_csv(\"xtb_outputs/0.csv\")"
   ]
  },
  {
   "cell_type": "code",
   "execution_count": 11,
   "metadata": {},
   "outputs": [
    {
     "data": {
      "text/plain": [
       "(array([ 1.,  2.,  1.,  5.,  4.,  8.,  4.,  3.,  3.,  7., 11.,  9., 11.,\n",
       "         9.,  7.,  2.,  3.,  1.,  1.,  1.,  0.,  0.,  0.,  0.,  0.,  0.,\n",
       "         0.,  0.,  0.,  0.,  0.,  0.,  0.,  0.,  0.,  0.,  0.,  0.,  0.,\n",
       "         0.,  0.,  0.,  0.,  0.,  0.,  0.,  0.,  0.,  0.,  1.]),\n",
       " array([ 0.34340049,  0.58116254,  0.8189246 ,  1.05668666,  1.29444871,\n",
       "         1.53221077,  1.76997282,  2.00773488,  2.24549694,  2.48325899,\n",
       "         2.72102105,  2.95878311,  3.19654516,  3.43430722,  3.67206928,\n",
       "         3.90983133,  4.14759339,  4.38535545,  4.6231175 ,  4.86087956,\n",
       "         5.09864162,  5.33640367,  5.57416573,  5.81192779,  6.04968984,\n",
       "         6.2874519 ,  6.52521396,  6.76297601,  7.00073807,  7.23850012,\n",
       "         7.47626218,  7.71402424,  7.95178629,  8.18954835,  8.42731041,\n",
       "         8.66507246,  8.90283452,  9.14059658,  9.37835863,  9.61612069,\n",
       "         9.85388275, 10.0916448 , 10.32940686, 10.56716892, 10.80493097,\n",
       "        11.04269303, 11.28045509, 11.51821714, 11.7559792 , 11.99374126,\n",
       "        12.23150331]),\n",
       " <BarContainer object of 50 artists>)"
      ]
     },
     "execution_count": 11,
     "metadata": {},
     "output_type": "execute_result"
    },
    {
     "data": {
      "image/png": "[encoded data removed]",
      "text/plain": [
       "<Figure size 330x250 with 1 Axes>"
      ]
     },
     "metadata": {},
     "output_type": "display_data"
    }
   ],
   "source": [
    "plt.hist(train_0[\"gap\"])\n",
    "plt.hist(xtb_outputs_0[\"gaps\"], alpha=0.5, bins=50)"
   ]
  },
  {
   "attachments": {},
   "cell_type": "markdown",
   "metadata": {},
   "source": [
    "## 1st iteration\n"
   ]
  },
  {
   "cell_type": "code",
   "execution_count": 41,
   "metadata": {},
   "outputs": [],
   "source": [
    "train_data_1 = pd.DataFrame(\n",
    "    {\n",
    "        \"SMILES\": train_0[\"label\"].to_list() + xtb_outputs_0[\"smiles\"].to_list(),\n",
    "        \"GFN2_HOMO_LUMO_GAP_mean_ev\": train_0[\"gap\"].to_list() + xtb_outputs_0[\"gaps\"].to_list(),\n",
    "    }\n",
    ")"
   ]
  },
  {
   "cell_type": "code",
   "execution_count": 43,
   "metadata": {},
   "outputs": [],
   "source": [
    "train_data_1.dropna(inplace=True)"
   ]
  },
  {
   "cell_type": "code",
   "execution_count": 47,
   "metadata": {},
   "outputs": [],
   "source": [
    "train_data_1_selected = train_data_1[train_data_1[\"GFN2_HOMO_LUMO_GAP_mean_ev\"] > 2.5]"
   ]
  },
  {
   "cell_type": "code",
   "execution_count": 48,
   "metadata": {},
   "outputs": [
    {
     "data": {
      "text/plain": [
       "121"
      ]
     },
     "execution_count": 48,
     "metadata": {},
     "output_type": "execute_result"
    }
   ],
   "source": [
    "len(train_data_1_selected)"
   ]
  },
  {
   "cell_type": "code",
   "execution_count": 49,
   "metadata": {},
   "outputs": [],
   "source": [
    "formatted_1 = formatter(train_data_1_selected)"
   ]
  },
  {
   "cell_type": "code",
   "execution_count": 50,
   "metadata": {},
   "outputs": [
    {
     "name": "stderr",
     "output_type": "stream",
     "text": [
      "Upload progress: 100%|██████████| 50.8k/50.8k [00:00<00:00, 49.3Mit/s]\n"
     ]
    },
    {
     "name": "stdout",
     "output_type": "stream",
     "text": [
      "Uploaded file from /Users/kevinmaikjablonka/git/kjappelbaum/gptchem/experiments/05_inverse/bandgap/biasing/manual/out/20230209_222854/train.jsonl: file-LXxUjqsHvueMeCFZ6VjJD9EV\n"
     ]
    },
    {
     "name": "stderr",
     "output_type": "stream",
     "text": [
      "wandb: Currently logged in as: kjappelbaum. Use `wandb login --relogin` to force relogin\n"
     ]
    },
    {
     "name": "stdout",
     "output_type": "stream",
     "text": [
      "A run for fine-tune ft-t24yOKINJbekcMBORKwIpS5C was previously created but didn't end successfully\n",
      "A new wandb run will be created for fine-tune ft-t24yOKINJbekcMBORKwIpS5C and previous run will be overwritten\n"
     ]
    },
    {
     "name": "stderr",
     "output_type": "stream",
     "text": [
      "wandb: wandb version 0.13.10 is available!  To upgrade, please run:\n",
      "wandb:  $ pip install wandb --upgrade\n",
      "wandb: Tracking run with wandb version 0.13.7\n",
      "wandb: Run data is saved locally in /Users/kevinmaikjablonka/git/kjappelbaum/gptchem/experiments/05_inverse/bandgap/biasing/manual/wandb/run-20230210_033523-ft-t24yOKINJbekcMBORKwIpS5C\n",
      "wandb: Run `wandb offline` to turn off syncing.\n",
      "wandb: Syncing run ft-t24yOKINJbekcMBORKwIpS5C\n",
      "wandb: ⭐️ View project at https://wandb.ai/kjappelbaum/GPT-3\n",
      "wandb: 🚀 View run at https://wandb.ai/kjappelbaum/GPT-3/runs/ft-t24yOKINJbekcMBORKwIpS5C\n",
      "Traceback (most recent call last):\n",
      "  File \"/Users/kevinmaikjablonka/miniconda3/envs/gptchem/bin/openai\", line 8, in <module>\n",
      "    sys.exit(main())\n",
      "  File \"/Users/kevinmaikjablonka/miniconda3/envs/gptchem/lib/python3.9/site-packages/openai/_openai_scripts.py\", line 63, in main\n",
      "    args.func(args)\n",
      "  File \"/Users/kevinmaikjablonka/miniconda3/envs/gptchem/lib/python3.9/site-packages/openai/cli.py\", line 527, in sync\n",
      "    resp = openai.wandb_logger.WandbLogger.sync(\n",
      "  File \"/Users/kevinmaikjablonka/miniconda3/envs/gptchem/lib/python3.9/site-packages/openai/wandb_logger.py\", line 73, in sync\n",
      "    fine_tune_logged = [\n",
      "  File \"/Users/kevinmaikjablonka/miniconda3/envs/gptchem/lib/python3.9/site-packages/openai/wandb_logger.py\", line 74, in <listcomp>\n",
      "    cls._log_fine_tune(\n",
      "  File \"/Users/kevinmaikjablonka/miniconda3/envs/gptchem/lib/python3.9/site-packages/openai/wandb_logger.py\", line 162, in _log_fine_tune\n",
      "    step = metrics.pop(\"step\")\n",
      "KeyError: 'step'\n",
      "wandb: Waiting for W&B process to finish... (failed 1). Press Control-C to abort syncing.\n",
      "wandb: Synced ft-t24yOKINJbekcMBORKwIpS5C: https://wandb.ai/kjappelbaum/GPT-3/runs/ft-t24yOKINJbekcMBORKwIpS5C\n",
      "wandb: Synced 7 W&B file(s), 0 media file(s), 0 artifact file(s) and 0 other file(s)\n",
      "wandb: Find logs at: ./wandb/run-20230210_033523-ft-t24yOKINJbekcMBORKwIpS5C/logs\n"
     ]
    }
   ],
   "source": [
    "tune_res_1 = tuner(formatted_1)"
   ]
  },
  {
   "cell_type": "code",
   "execution_count": 51,
   "metadata": {},
   "outputs": [
    {
     "data": {
      "text/plain": [
       "{'base_model': 'ada',\n",
       " 'batch_size': None,\n",
       " 'n_epochs': 4,\n",
       " 'learning_rate_multiplier': None,\n",
       " 'run_name': None,\n",
       " 'wandb_sync': True,\n",
       " 'outdir': '/Users/kevinmaikjablonka/git/kjappelbaum/gptchem/experiments/05_inverse/bandgap/biasing/manual/out/20230209_222854',\n",
       " 'train_filename': '/Users/kevinmaikjablonka/git/kjappelbaum/gptchem/experiments/05_inverse/bandgap/biasing/manual/out/20230209_222854/train.jsonl',\n",
       " 'valid_filename': 'None',\n",
       " 'model_name': 'ada:ft-lsmoepfl-2023-02-10-02-32-57',\n",
       " 'ft_id': 'ft-AphrpbwXTGF1sKHIaWFA5GxI',\n",
       " 'date': '20230210_033537',\n",
       " 'train_file_id': 'file-LXxUjqsHvueMeCFZ6VjJD9EV',\n",
       " 'valid_file_id': None}"
      ]
     },
     "execution_count": 51,
     "metadata": {},
     "output_type": "execute_result"
    }
   ],
   "source": [
    "tune_res_1"
   ]
  },
  {
   "cell_type": "code",
   "execution_count": 52,
   "metadata": {},
   "outputs": [],
   "source": [
    "querier_1 = Querier(\"ada:ft-lsmoepfl-2023-02-10-02-32-57\", max_tokens=600)"
   ]
  },
  {
   "cell_type": "code",
   "execution_count": 53,
   "metadata": {},
   "outputs": [],
   "source": [
    "expected_gaps_1 = generate_desired_dist(4.5, 0.2, 2000)"
   ]
  },
  {
   "cell_type": "code",
   "execution_count": 54,
   "metadata": {},
   "outputs": [],
   "source": [
    "expected_frame_1 = pd.DataFrame(\n",
    "    {\"SMILES\": [\"SMILE\"] * 2000, \"GFN2_HOMO_LUMO_GAP_mean_ev\": expected_gaps_1}\n",
    ")"
   ]
  },
  {
   "cell_type": "code",
   "execution_count": 55,
   "metadata": {},
   "outputs": [],
   "source": [
    "formatted_test_1 = formatter(expected_frame_1)"
   ]
  },
  {
   "cell_type": "code",
   "execution_count": 56,
   "metadata": {},
   "outputs": [],
   "source": [
    "completions_1 = defaultdict(list)\n",
    "smiles_1 = defaultdict(list)\n",
    "\n",
    "for temp in TEMPERATURES:\n",
    "    try:\n",
    "        completions = querier_1(formatted_test_1, temperature=temp)\n",
    "        extracted = extractor(completions)\n",
    "        completions_1[temp] = completions\n",
    "        smiles_1[temp] = extracted\n",
    "    except Exception:\n",
    "        pass"
   ]
  },
  {
   "cell_type": "code",
   "execution_count": 58,
   "metadata": {},
   "outputs": [],
   "source": [
    "unique_smiles_1 = set()\n",
    "for t, v in smiles_1.items():\n",
    "    unique_smiles_1.update(v)"
   ]
  },
  {
   "cell_type": "code",
   "execution_count": 59,
   "metadata": {},
   "outputs": [
    {
     "data": {
      "text/plain": [
       "2148"
      ]
     },
     "execution_count": 59,
     "metadata": {},
     "output_type": "execute_result"
    }
   ],
   "source": [
    "len(unique_smiles_1)"
   ]
  },
  {
   "cell_type": "code",
   "execution_count": 60,
   "metadata": {},
   "outputs": [],
   "source": [
    "valid_smiles_1 = [s for s in unique_smiles_1 if is_valid(s)]"
   ]
  },
  {
   "cell_type": "code",
   "execution_count": 61,
   "metadata": {},
   "outputs": [
    {
     "data": {
      "text/plain": [
       "644"
      ]
     },
     "execution_count": 61,
     "metadata": {},
     "output_type": "execute_result"
    }
   ],
   "source": [
    "len(valid_smiles_1)"
   ]
  },
  {
   "cell_type": "code",
   "execution_count": 62,
   "metadata": {},
   "outputs": [],
   "source": [
    "with open(\"xtb_inputs/1.txt\", \"w\") as handle:\n",
    "    for smile in valid_smiles_1:\n",
    "        handle.write(smile + \"\\n\")"
   ]
  },
  {
   "cell_type": "code",
   "execution_count": 64,
   "metadata": {},
   "outputs": [],
   "source": [
    "with open(\"xtb_inputs/1_sample.txt\", \"w\") as handle:\n",
    "    for smile in random.sample(valid_smiles_1, 100):\n",
    "        handle.write(smile + \"\\n\")"
   ]
  },
  {
   "cell_type": "code",
   "execution_count": 7,
   "metadata": {},
   "outputs": [
    {
     "ename": "NameError",
     "evalue": "name 'train_0' is not defined",
     "output_type": "error",
     "traceback": [
      "\u001b[0;31m---------------------------------------------------------------------------\u001b[0m",
      "\u001b[0;31mNameError\u001b[0m                                 Traceback (most recent call last)",
      "Cell \u001b[0;32mIn[7], line 7\u001b[0m\n\u001b[1;32m      5\u001b[0m train_1[\u001b[39m\"\u001b[39m\u001b[39mgap\u001b[39m\u001b[39m\"\u001b[39m] \u001b[39m=\u001b[39m train_1[\u001b[39m\"\u001b[39m\u001b[39mrepresentation\u001b[39m\u001b[39m\"\u001b[39m]\u001b[39m.\u001b[39mapply(\u001b[39mlambda\u001b[39;00m x: x[\u001b[39m0\u001b[39m])\n\u001b[1;32m      6\u001b[0m xtb_outputs_1 \u001b[39m=\u001b[39m pd\u001b[39m.\u001b[39mread_csv(\u001b[39m\"\u001b[39m\u001b[39mxtb_outputs/1.csv\u001b[39m\u001b[39m\"\u001b[39m)\n\u001b[0;32m----> 7\u001b[0m plt\u001b[39m.\u001b[39mhist(train_0[\u001b[39m\"\u001b[39m\u001b[39mgap\u001b[39m\u001b[39m\"\u001b[39m])\n\u001b[1;32m      8\u001b[0m \u001b[39m# plt.hist(train_1['gap'], bins=50)\u001b[39;00m\n\u001b[1;32m      9\u001b[0m plt\u001b[39m.\u001b[39mhist(xtb_outputs_1[\u001b[39m\"\u001b[39m\u001b[39mgaps\u001b[39m\u001b[39m\"\u001b[39m], alpha\u001b[39m=\u001b[39m\u001b[39m0.5\u001b[39m, bins\u001b[39m=\u001b[39m\u001b[39m100\u001b[39m)\n",
      "\u001b[0;31mNameError\u001b[0m: name 'train_0' is not defined"
     ]
    }
   ],
   "source": [
    "train_1 = pd.read_json(\n",
    "    \"/Users/kevinmaikjablonka/git/kjappelbaum/gptchem/experiments/05_inverse/bandgap/biasing/manual/out/20230209_222854/train.jsonl\",\n",
    "    lines=True,\n",
    ")\n",
    "train_1[\"gap\"] = train_1[\"representation\"].apply(lambda x: x[0])\n",
    "xtb_outputs_1 = pd.read_csv(\"xtb_outputs/1.csv\")\n",
    "plt.hist(train_0[\"gap\"])\n",
    "# plt.hist(train_1['gap'], bins=50)\n",
    "plt.hist(xtb_outputs_1[\"gaps\"], alpha=0.5, bins=100)"
   ]
  },
  {
   "attachments": {},
   "cell_type": "markdown",
   "metadata": {},
   "source": [
    "## Second iteration\n"
   ]
  },
  {
   "cell_type": "code",
   "execution_count": 14,
   "metadata": {},
   "outputs": [],
   "source": [
    "train_data_2 = pd.DataFrame(\n",
    "    {\n",
    "        \"SMILES\": train_0[\"label\"].to_list()\n",
    "        + xtb_outputs_0[\"smiles\"].to_list()\n",
    "        + train_1[\"label\"].to_list()\n",
    "        + xtb_outputs_1[\"smiles\"].to_list(),\n",
    "        \"GFN2_HOMO_LUMO_GAP_mean_ev\": train_0[\"gap\"].to_list()\n",
    "        + xtb_outputs_0[\"gaps\"].to_list()\n",
    "        + train_1[\"gap\"].to_list()\n",
    "        + xtb_outputs_1[\"gaps\"].to_list(),\n",
    "    }\n",
    ")"
   ]
  },
  {
   "cell_type": "code",
   "execution_count": 15,
   "metadata": {},
   "outputs": [],
   "source": [
    "train_data_2.dropna(inplace=True)"
   ]
  },
  {
   "cell_type": "code",
   "execution_count": 16,
   "metadata": {},
   "outputs": [
    {
     "data": {
      "text/plain": [
       "<AxesSubplot: >"
      ]
     },
     "execution_count": 16,
     "metadata": {},
     "output_type": "execute_result"
    },
    {
     "data": {
      "image/png": "[encoded data removed]",
      "text/plain": [
       "<Figure size 330x250 with 1 Axes>"
      ]
     },
     "metadata": {},
     "output_type": "display_data"
    }
   ],
   "source": [
    "train_data_2[\"GFN2_HOMO_LUMO_GAP_mean_ev\"].hist(bins=100)"
   ]
  },
  {
   "cell_type": "code",
   "execution_count": 17,
   "metadata": {},
   "outputs": [],
   "source": [
    "train_data_2_selected = train_data_2[train_data_2[\"GFN2_HOMO_LUMO_GAP_mean_ev\"] > 3]"
   ]
  },
  {
   "cell_type": "code",
   "execution_count": 18,
   "metadata": {},
   "outputs": [
    {
     "data": {
      "text/plain": [
       "344"
      ]
     },
     "execution_count": 18,
     "metadata": {},
     "output_type": "execute_result"
    }
   ],
   "source": [
    "len(train_data_2_selected)"
   ]
  },
  {
   "cell_type": "code",
   "execution_count": 19,
   "metadata": {},
   "outputs": [],
   "source": [
    "formatted_2 = formatter(train_data_2_selected)"
   ]
  },
  {
   "cell_type": "code",
   "execution_count": 21,
   "metadata": {},
   "outputs": [
    {
     "name": "stderr",
     "output_type": "stream",
     "text": [
      "Upload progress: 100%|██████████| 141k/141k [00:00<00:00, 99.1Mit/s]\n"
     ]
    },
    {
     "name": "stdout",
     "output_type": "stream",
     "text": [
      "Uploaded file from /Users/kevinmaikjablonka/git/kjappelbaum/gptchem/experiments/05_inverse/bandgap/biasing/manual/out/20230210_181210/train.jsonl: file-T6oxh1ocCq2rxcCwPeUOxoNw\n"
     ]
    },
    {
     "name": "stderr",
     "output_type": "stream",
     "text": [
      "wandb: Currently logged in as: kjappelbaum. Use `wandb login --relogin` to force relogin\n",
      "wandb: wandb version 0.13.10 is available!  To upgrade, please run:\n",
      "wandb:  $ pip install wandb --upgrade\n",
      "wandb: Tracking run with wandb version 0.13.7\n",
      "wandb: Run data is saved locally in /Users/kevinmaikjablonka/git/kjappelbaum/gptchem/experiments/05_inverse/bandgap/biasing/manual/wandb/run-20230211_043955-ft-ELdTIxvhC4puGJyiOhMCEaUW\n",
      "wandb: Run `wandb offline` to turn off syncing.\n",
      "wandb: Syncing run ft-ELdTIxvhC4puGJyiOhMCEaUW\n",
      "wandb: ⭐️ View project at https://wandb.ai/kjappelbaum/GPT-3\n",
      "wandb: 🚀 View run at https://wandb.ai/kjappelbaum/GPT-3/runs/ft-ELdTIxvhC4puGJyiOhMCEaUW\n",
      "Traceback (most recent call last):\n",
      "  File \"/Users/kevinmaikjablonka/miniconda3/envs/gptchem/bin/openai\", line 8, in <module>\n",
      "    sys.exit(main())\n",
      "  File \"/Users/kevinmaikjablonka/miniconda3/envs/gptchem/lib/python3.9/site-packages/openai/_openai_scripts.py\", line 63, in main\n",
      "    args.func(args)\n",
      "  File \"/Users/kevinmaikjablonka/miniconda3/envs/gptchem/lib/python3.9/site-packages/openai/cli.py\", line 527, in sync\n",
      "    resp = openai.wandb_logger.WandbLogger.sync(\n",
      "  File \"/Users/kevinmaikjablonka/miniconda3/envs/gptchem/lib/python3.9/site-packages/openai/wandb_logger.py\", line 73, in sync\n",
      "    fine_tune_logged = [\n",
      "  File \"/Users/kevinmaikjablonka/miniconda3/envs/gptchem/lib/python3.9/site-packages/openai/wandb_logger.py\", line 74, in <listcomp>\n",
      "    cls._log_fine_tune(\n",
      "  File \"/Users/kevinmaikjablonka/miniconda3/envs/gptchem/lib/python3.9/site-packages/openai/wandb_logger.py\", line 162, in _log_fine_tune\n",
      "    step = metrics.pop(\"step\")\n",
      "KeyError: 'step'\n",
      "wandb: Waiting for W&B process to finish... (failed 1). Press Control-C to abort syncing.\n",
      "wandb: Synced ft-ELdTIxvhC4puGJyiOhMCEaUW: https://wandb.ai/kjappelbaum/GPT-3/runs/ft-ELdTIxvhC4puGJyiOhMCEaUW\n",
      "wandb: Synced 7 W&B file(s), 0 media file(s), 0 artifact file(s) and 0 other file(s)\n",
      "wandb: Find logs at: ./wandb/run-20230211_043955-ft-ELdTIxvhC4puGJyiOhMCEaUW/logs\n"
     ]
    }
   ],
   "source": [
    "tune_res_2 = tuner(formatted_2)"
   ]
  },
  {
   "cell_type": "code",
   "execution_count": 22,
   "metadata": {},
   "outputs": [
    {
     "data": {
      "text/plain": [
       "{'base_model': 'ada',\n",
       " 'batch_size': None,\n",
       " 'n_epochs': 4,\n",
       " 'learning_rate_multiplier': None,\n",
       " 'run_name': None,\n",
       " 'wandb_sync': True,\n",
       " 'outdir': '/Users/kevinmaikjablonka/git/kjappelbaum/gptchem/experiments/05_inverse/bandgap/biasing/manual/out/20230210_181210',\n",
       " 'train_filename': '/Users/kevinmaikjablonka/git/kjappelbaum/gptchem/experiments/05_inverse/bandgap/biasing/manual/out/20230210_181210/train.jsonl',\n",
       " 'valid_filename': 'None',\n",
       " 'model_name': 'ada:ft-lsmoepfl-2023-02-11-03-37-08',\n",
       " 'ft_id': 'ft-0ukqRtb8zQDe7m8jmuQ90oJD',\n",
       " 'date': '20230211_044008',\n",
       " 'train_file_id': 'file-T6oxh1ocCq2rxcCwPeUOxoNw',\n",
       " 'valid_file_id': None}"
      ]
     },
     "execution_count": 22,
     "metadata": {},
     "output_type": "execute_result"
    }
   ],
   "source": [
    "tune_res_2"
   ]
  },
  {
   "cell_type": "code",
   "execution_count": 23,
   "metadata": {},
   "outputs": [],
   "source": [
    "querier_2 = Querier(\"ada:ft-lsmoepfl-2023-02-11-03-37-08\", max_tokens=600)"
   ]
  },
  {
   "cell_type": "code",
   "execution_count": 24,
   "metadata": {},
   "outputs": [],
   "source": [
    "expected_gaps_2 = generate_desired_dist(5.5, 0.2, 2000)"
   ]
  },
  {
   "cell_type": "code",
   "execution_count": 25,
   "metadata": {},
   "outputs": [],
   "source": [
    "expected_frame_2 = pd.DataFrame(\n",
    "    {\"SMILES\": [\"SMILE\"] * 2000, \"GFN2_HOMO_LUMO_GAP_mean_ev\": expected_gaps_2}\n",
    ")"
   ]
  },
  {
   "cell_type": "code",
   "execution_count": 26,
   "metadata": {},
   "outputs": [],
   "source": [
    "formatted_test_2 = formatter(expected_frame_2)"
   ]
  },
  {
   "cell_type": "code",
   "execution_count": 27,
   "metadata": {},
   "outputs": [],
   "source": [
    "completions_2 = defaultdict(list)\n",
    "smiles_2 = defaultdict(list)\n",
    "\n",
    "for temp in TEMPERATURES:\n",
    "    try:\n",
    "        completions = querier_2(formatted_test_2, temperature=temp)\n",
    "        extracted = extractor(completions)\n",
    "        completions_2[temp] = completions\n",
    "        smiles_2[temp] = extracted\n",
    "    except Exception:\n",
    "        pass"
   ]
  },
  {
   "cell_type": "code",
   "execution_count": 28,
   "metadata": {},
   "outputs": [],
   "source": [
    "unique_smiles_2 = set()\n",
    "for t, v in smiles_2.items():\n",
    "    unique_smiles_2.update(v)"
   ]
  },
  {
   "cell_type": "code",
   "execution_count": 29,
   "metadata": {},
   "outputs": [
    {
     "data": {
      "text/plain": [
       "3027"
      ]
     },
     "execution_count": 29,
     "metadata": {},
     "output_type": "execute_result"
    }
   ],
   "source": [
    "len(unique_smiles_2)"
   ]
  },
  {
   "cell_type": "code",
   "execution_count": 30,
   "metadata": {},
   "outputs": [],
   "source": [
    "valid_smiles_2 = [s for s in unique_smiles_2 if is_valid(s)]"
   ]
  },
  {
   "cell_type": "code",
   "execution_count": 31,
   "metadata": {},
   "outputs": [],
   "source": [
    "with open(\"xtb_inputs/2.txt\", \"w\") as handle:\n",
    "    for smile in valid_smiles_2:\n",
    "        handle.write(smile + \"\\n\")"
   ]
  },
  {
   "cell_type": "code",
   "execution_count": 32,
   "metadata": {},
   "outputs": [],
   "source": [
    "with open(\"xtb_inputs/2_sample.txt\", \"w\") as handle:\n",
    "    for smile in random.sample(valid_smiles_2, 100):\n",
    "        handle.write(smile + \"\\n\")"
   ]
  },
  {
   "attachments": {},
   "cell_type": "markdown",
   "metadata": {},
   "source": [
    "## Third iteration\n"
   ]
  },
  {
   "cell_type": "code",
   "execution_count": 8,
   "metadata": {},
   "outputs": [
    {
     "data": {
      "text/plain": [
       "<matplotlib.legend.Legend at 0x325f14790>"
      ]
     },
     "execution_count": 8,
     "metadata": {},
     "output_type": "execute_result"
    },
    {
     "data": {
      "image/png": "[encoded data removed]",
      "text/plain": [
       "<Figure size 330x250 with 1 Axes>"
      ]
     },
     "metadata": {},
     "output_type": "display_data"
    }
   ],
   "source": [
    "train_2 = pd.read_json(\n",
    "    \"/Users/kevinmaikjablonka/git/kjappelbaum/gptchem/experiments/05_inverse/bandgap/biasing/manual/out/20230210_181210/train.jsonl\",\n",
    "    lines=True,\n",
    ")\n",
    "train_2[\"gap\"] = train_2[\"representation\"].apply(lambda x: x[0])\n",
    "xtb_outputs_2 = pd.read_csv(\"xtb_outputs/2.csv\")\n",
    "plt.hist(train_2[\"gap\"], density=True, label=\"Train 2\")\n",
    "plt.hist(train_1[\"gap\"], bins=50, density=True, label=\"Train 1\")\n",
    "plt.hist(xtb_outputs_1[\"gaps\"], alpha=0.5, bins=100, label=\"Generated\", density=True)\n",
    "plt.legend()"
   ]
  },
  {
   "cell_type": "code",
   "execution_count": 41,
   "metadata": {},
   "outputs": [],
   "source": [
    "train_data_3 = pd.DataFrame(\n",
    "    {\n",
    "        \"SMILES\": train_0[\"label\"].to_list()\n",
    "        + xtb_outputs_0[\"smiles\"].to_list()\n",
    "        + train_1[\"label\"].to_list()\n",
    "        + xtb_outputs_1[\"smiles\"].to_list()\n",
    "        + train_2[\"label\"].to_list()\n",
    "        + xtb_outputs_2[\"smiles\"].to_list(),\n",
    "        \"GFN2_HOMO_LUMO_GAP_mean_ev\": train_0[\"gap\"].to_list()\n",
    "        + xtb_outputs_0[\"gaps\"].to_list()\n",
    "        + train_1[\"gap\"].to_list()\n",
    "        + xtb_outputs_1[\"gaps\"].to_list()\n",
    "        + train_2[\"gap\"].to_list()\n",
    "        + xtb_outputs_2[\"gaps\"].to_list(),\n",
    "    }\n",
    ")"
   ]
  },
  {
   "cell_type": "code",
   "execution_count": 42,
   "metadata": {},
   "outputs": [],
   "source": [
    "train_data_3.dropna(inplace=True)"
   ]
  },
  {
   "cell_type": "code",
   "execution_count": 45,
   "metadata": {},
   "outputs": [
    {
     "data": {
      "text/plain": [
       "<AxesSubplot: >"
      ]
     },
     "execution_count": 45,
     "metadata": {},
     "output_type": "execute_result"
    },
    {
     "data": {
      "image/png": "[encoded data removed]",
      "text/plain": [
       "<Figure size 330x250 with 1 Axes>"
      ]
     },
     "metadata": {},
     "output_type": "display_data"
    }
   ],
   "source": [
    "train_data_3[\"GFN2_HOMO_LUMO_GAP_mean_ev\"].hist(bins=100)"
   ]
  },
  {
   "cell_type": "code",
   "execution_count": 46,
   "metadata": {},
   "outputs": [],
   "source": [
    "train_data_3_selected = train_data_3[train_data_3[\"GFN2_HOMO_LUMO_GAP_mean_ev\"] > 3.5]"
   ]
  },
  {
   "cell_type": "code",
   "execution_count": 48,
   "metadata": {},
   "outputs": [],
   "source": [
    "formatted_3 = formatter(train_data_3_selected)"
   ]
  },
  {
   "cell_type": "code",
   "execution_count": 52,
   "metadata": {},
   "outputs": [
    {
     "name": "stderr",
     "output_type": "stream",
     "text": [
      "Upload progress: 100%|██████████| 131k/131k [00:00<00:00, 205Mit/s]\n"
     ]
    },
    {
     "name": "stdout",
     "output_type": "stream",
     "text": [
      "Uploaded file from /Users/kevinmaikjablonka/git/kjappelbaum/gptchem/experiments/05_inverse/bandgap/biasing/manual/out/20230210_181210/train.jsonl: file-EfZM3QJRiTMk4PyaGwG7S6Qi\n"
     ]
    },
    {
     "name": "stderr",
     "output_type": "stream",
     "text": [
      "wandb: Currently logged in as: kjappelbaum. Use `wandb login --relogin` to force relogin\n"
     ]
    },
    {
     "name": "stdout",
     "output_type": "stream",
     "text": [
      "A run for fine-tune ft-ELdTIxvhC4puGJyiOhMCEaUW was previously created but didn't end successfully\n",
      "A new wandb run will be created for fine-tune ft-ELdTIxvhC4puGJyiOhMCEaUW and previous run will be overwritten\n"
     ]
    },
    {
     "name": "stderr",
     "output_type": "stream",
     "text": [
      "wandb: wandb version 0.13.10 is available!  To upgrade, please run:\n",
      "wandb:  $ pip install wandb --upgrade\n",
      "wandb: Tracking run with wandb version 0.13.7\n",
      "wandb: Run data is saved locally in /Users/kevinmaikjablonka/git/kjappelbaum/gptchem/experiments/05_inverse/bandgap/biasing/manual/wandb/run-20230211_154851-ft-ELdTIxvhC4puGJyiOhMCEaUW\n",
      "wandb: Run `wandb offline` to turn off syncing.\n",
      "wandb: Syncing run ft-ELdTIxvhC4puGJyiOhMCEaUW\n",
      "wandb: ⭐️ View project at https://wandb.ai/kjappelbaum/GPT-3\n",
      "wandb: 🚀 View run at https://wandb.ai/kjappelbaum/GPT-3/runs/ft-ELdTIxvhC4puGJyiOhMCEaUW\n",
      "Traceback (most recent call last):\n",
      "  File \"/Users/kevinmaikjablonka/miniconda3/envs/gptchem/bin/openai\", line 8, in <module>\n",
      "    sys.exit(main())\n",
      "  File \"/Users/kevinmaikjablonka/miniconda3/envs/gptchem/lib/python3.9/site-packages/openai/_openai_scripts.py\", line 63, in main\n",
      "    args.func(args)\n",
      "  File \"/Users/kevinmaikjablonka/miniconda3/envs/gptchem/lib/python3.9/site-packages/openai/cli.py\", line 527, in sync\n",
      "    resp = openai.wandb_logger.WandbLogger.sync(\n",
      "  File \"/Users/kevinmaikjablonka/miniconda3/envs/gptchem/lib/python3.9/site-packages/openai/wandb_logger.py\", line 73, in sync\n",
      "    fine_tune_logged = [\n",
      "  File \"/Users/kevinmaikjablonka/miniconda3/envs/gptchem/lib/python3.9/site-packages/openai/wandb_logger.py\", line 74, in <listcomp>\n",
      "    cls._log_fine_tune(\n",
      "  File \"/Users/kevinmaikjablonka/miniconda3/envs/gptchem/lib/python3.9/site-packages/openai/wandb_logger.py\", line 162, in _log_fine_tune\n",
      "    step = metrics.pop(\"step\")\n",
      "KeyError: 'step'\n",
      "wandb: Waiting for W&B process to finish... (failed 1). Press Control-C to abort syncing.\n",
      "wandb: Synced ft-ELdTIxvhC4puGJyiOhMCEaUW: https://wandb.ai/kjappelbaum/GPT-3/runs/ft-ELdTIxvhC4puGJyiOhMCEaUW\n",
      "wandb: Synced 7 W&B file(s), 0 media file(s), 0 artifact file(s) and 0 other file(s)\n",
      "wandb: Find logs at: ./wandb/run-20230211_154851-ft-ELdTIxvhC4puGJyiOhMCEaUW/logs\n"
     ]
    }
   ],
   "source": [
    "tune_res_3 = tuner(formatted_3)"
   ]
  },
  {
   "cell_type": "code",
   "execution_count": 53,
   "metadata": {},
   "outputs": [
    {
     "name": "stderr",
     "output_type": "stream",
     "text": [
      "[autoreload of numpy.core.multiarray failed: Traceback (most recent call last):\n",
      "  File \"/Users/kevinmaikjablonka/miniconda3/envs/gptchem/lib/python3.9/site-packages/IPython/extensions/autoreload.py\", line 261, in check\n",
      "    superreload(m, reload, self.old_objects)\n",
      "  File \"/Users/kevinmaikjablonka/miniconda3/envs/gptchem/lib/python3.9/site-packages/IPython/extensions/autoreload.py\", line 459, in superreload\n",
      "    module = reload(module)\n",
      "  File \"/Users/kevinmaikjablonka/miniconda3/envs/gptchem/lib/python3.9/importlib/__init__.py\", line 169, in reload\n",
      "    _bootstrap._exec(spec, module)\n",
      "  File \"<frozen importlib._bootstrap>\", line 613, in _exec\n",
      "  File \"<frozen importlib._bootstrap_external>\", line 850, in exec_module\n",
      "  File \"<frozen importlib._bootstrap>\", line 228, in _call_with_frames_removed\n",
      "  File \"/Users/kevinmaikjablonka/miniconda3/envs/gptchem/lib/python3.9/site-packages/numpy/core/multiarray.py\", line 16, in <module>\n",
      "    from ._multiarray_umath import (\n",
      "ImportError: cannot import name 'fastCopyAndTranspose' from 'numpy.core._multiarray_umath' (/Users/kevinmaikjablonka/miniconda3/envs/gptchem/lib/python3.9/site-packages/numpy/core/_multiarray_umath.cpython-39-darwin.so)\n",
      "]\n",
      "[autoreload of numpy.core._methods failed: Traceback (most recent call last):\n",
      "  File \"/Users/kevinmaikjablonka/miniconda3/envs/gptchem/lib/python3.9/site-packages/IPython/extensions/autoreload.py\", line 261, in check\n",
      "    superreload(m, reload, self.old_objects)\n",
      "  File \"/Users/kevinmaikjablonka/miniconda3/envs/gptchem/lib/python3.9/site-packages/IPython/extensions/autoreload.py\", line 459, in superreload\n",
      "    module = reload(module)\n",
      "  File \"/Users/kevinmaikjablonka/miniconda3/envs/gptchem/lib/python3.9/importlib/__init__.py\", line 169, in reload\n",
      "    _bootstrap._exec(spec, module)\n",
      "  File \"<frozen importlib._bootstrap>\", line 613, in _exec\n",
      "  File \"<frozen importlib._bootstrap_external>\", line 850, in exec_module\n",
      "  File \"<frozen importlib._bootstrap>\", line 228, in _call_with_frames_removed\n",
      "  File \"/Users/kevinmaikjablonka/miniconda3/envs/gptchem/lib/python3.9/site-packages/numpy/core/_methods.py\", line 14, in <module>\n",
      "    from numpy.core._ufunc_config import _no_nep50_warning\n",
      "ImportError: cannot import name '_no_nep50_warning' from 'numpy.core._ufunc_config' (/Users/kevinmaikjablonka/miniconda3/envs/gptchem/lib/python3.9/site-packages/numpy/core/_ufunc_config.py)\n",
      "]\n",
      "[autoreload of numpy.core.numeric failed: Traceback (most recent call last):\n",
      "  File \"/Users/kevinmaikjablonka/miniconda3/envs/gptchem/lib/python3.9/site-packages/IPython/extensions/autoreload.py\", line 261, in check\n",
      "    superreload(m, reload, self.old_objects)\n",
      "  File \"/Users/kevinmaikjablonka/miniconda3/envs/gptchem/lib/python3.9/site-packages/IPython/extensions/autoreload.py\", line 459, in superreload\n",
      "    module = reload(module)\n",
      "  File \"/Users/kevinmaikjablonka/miniconda3/envs/gptchem/lib/python3.9/importlib/__init__.py\", line 169, in reload\n",
      "    _bootstrap._exec(spec, module)\n",
      "  File \"<frozen importlib._bootstrap>\", line 613, in _exec\n",
      "  File \"<frozen importlib._bootstrap_external>\", line 850, in exec_module\n",
      "  File \"<frozen importlib._bootstrap>\", line 228, in _call_with_frames_removed\n",
      "  File \"/Users/kevinmaikjablonka/miniconda3/envs/gptchem/lib/python3.9/site-packages/numpy/core/numeric.py\", line 10, in <module>\n",
      "    from .multiarray import (\n",
      "ImportError: cannot import name 'fastCopyAndTranspose' from 'numpy.core.multiarray' (/Users/kevinmaikjablonka/miniconda3/envs/gptchem/lib/python3.9/site-packages/numpy/core/multiarray.py)\n",
      "]\n",
      "[autoreload of numpy.core._add_newdocs failed: Traceback (most recent call last):\n",
      "  File \"/Users/kevinmaikjablonka/miniconda3/envs/gptchem/lib/python3.9/site-packages/IPython/extensions/autoreload.py\", line 261, in check\n",
      "    superreload(m, reload, self.old_objects)\n",
      "  File \"/Users/kevinmaikjablonka/miniconda3/envs/gptchem/lib/python3.9/site-packages/IPython/extensions/autoreload.py\", line 459, in superreload\n",
      "    module = reload(module)\n",
      "  File \"/Users/kevinmaikjablonka/miniconda3/envs/gptchem/lib/python3.9/importlib/__init__.py\", line 169, in reload\n",
      "    _bootstrap._exec(spec, module)\n",
      "  File \"<frozen importlib._bootstrap>\", line 613, in _exec\n",
      "  File \"<frozen importlib._bootstrap_external>\", line 850, in exec_module\n",
      "  File \"<frozen importlib._bootstrap>\", line 228, in _call_with_frames_removed\n",
      "  File \"/Users/kevinmaikjablonka/miniconda3/envs/gptchem/lib/python3.9/site-packages/numpy/core/_add_newdocs.py\", line 5697, in <module>\n",
      "    add_newdoc('numpy.core', 'ufunc', ('resolve_dtypes',\n",
      "  File \"/Users/kevinmaikjablonka/miniconda3/envs/gptchem/lib/python3.9/site-packages/numpy/core/function_base.py\", line 534, in add_newdoc\n",
      "    _add_docstring(getattr(new, attr), docstring.strip(), warn_on_python)\n",
      "AttributeError: type object 'numpy.ufunc' has no attribute 'resolve_dtypes'\n",
      "]\n",
      "[autoreload of numpy.linalg.linalg failed: Traceback (most recent call last):\n",
      "  File \"/Users/kevinmaikjablonka/miniconda3/envs/gptchem/lib/python3.9/site-packages/IPython/extensions/autoreload.py\", line 261, in check\n",
      "    superreload(m, reload, self.old_objects)\n",
      "  File \"/Users/kevinmaikjablonka/miniconda3/envs/gptchem/lib/python3.9/site-packages/IPython/extensions/autoreload.py\", line 459, in superreload\n",
      "    module = reload(module)\n",
      "  File \"/Users/kevinmaikjablonka/miniconda3/envs/gptchem/lib/python3.9/importlib/__init__.py\", line 169, in reload\n",
      "    _bootstrap._exec(spec, module)\n",
      "  File \"<frozen importlib._bootstrap>\", line 613, in _exec\n",
      "  File \"<frozen importlib._bootstrap_external>\", line 850, in exec_module\n",
      "  File \"<frozen importlib._bootstrap>\", line 228, in _call_with_frames_removed\n",
      "  File \"/Users/kevinmaikjablonka/miniconda3/envs/gptchem/lib/python3.9/site-packages/numpy/linalg/linalg.py\", line 85, in <module>\n",
      "    _linalg_error_extobj = _determine_error_states()\n",
      "  File \"/Users/kevinmaikjablonka/miniconda3/envs/gptchem/lib/python3.9/site-packages/numpy/linalg/linalg.py\", line 78, in _determine_error_states\n",
      "    with errstate(invalid='call', over='ignore',\n",
      "  File \"/Users/kevinmaikjablonka/miniconda3/envs/gptchem/lib/python3.9/site-packages/numpy/core/_ufunc_config.py\", line 432, in __enter__\n",
      "    if self.call is not _Unspecified:\n",
      "  File \"/Users/kevinmaikjablonka/miniconda3/envs/gptchem/lib/python3.9/site-packages/numpy/core/_ufunc_config.py\", line 306, in seterrcall\n",
      "    raise ValueError(\"Only callable can be used as callback\")\n",
      "ValueError: Only callable can be used as callback\n",
      "]\n",
      "[autoreload of numpy failed: Traceback (most recent call last):\n",
      "  File \"/Users/kevinmaikjablonka/miniconda3/envs/gptchem/lib/python3.9/site-packages/IPython/extensions/autoreload.py\", line 261, in check\n",
      "    superreload(m, reload, self.old_objects)\n",
      "  File \"/Users/kevinmaikjablonka/miniconda3/envs/gptchem/lib/python3.9/site-packages/IPython/extensions/autoreload.py\", line 459, in superreload\n",
      "    module = reload(module)\n",
      "  File \"/Users/kevinmaikjablonka/miniconda3/envs/gptchem/lib/python3.9/importlib/__init__.py\", line 169, in reload\n",
      "    _bootstrap._exec(spec, module)\n",
      "  File \"<frozen importlib._bootstrap>\", line 613, in _exec\n",
      "  File \"<frozen importlib._bootstrap_external>\", line 850, in exec_module\n",
      "  File \"<frozen importlib._bootstrap>\", line 228, in _call_with_frames_removed\n",
      "  File \"/Users/kevinmaikjablonka/miniconda3/envs/gptchem/lib/python3.9/site-packages/numpy/__init__.py\", line 223, in <module>\n",
      "    core.getlimits._register_known_types()\n",
      "  File \"/Users/kevinmaikjablonka/miniconda3/envs/gptchem/lib/python3.9/site-packages/numpy/core/getlimits.py\", line 224, in _register_known_types\n",
      "    with numeric.errstate(all='ignore'):\n",
      "  File \"/Users/kevinmaikjablonka/miniconda3/envs/gptchem/lib/python3.9/site-packages/numpy/core/_ufunc_config.py\", line 432, in __enter__\n",
      "    if self.call is not _Unspecified:\n",
      "  File \"/Users/kevinmaikjablonka/miniconda3/envs/gptchem/lib/python3.9/site-packages/numpy/core/_ufunc_config.py\", line 306, in seterrcall\n",
      "    raise ValueError(\"Only callable can be used as callback\")\n",
      "ValueError: Only callable can be used as callback\n",
      "]\n",
      "[autoreload of numpy.testing._private.utils failed: Traceback (most recent call last):\n",
      "  File \"/Users/kevinmaikjablonka/miniconda3/envs/gptchem/lib/python3.9/site-packages/IPython/extensions/autoreload.py\", line 261, in check\n",
      "    superreload(m, reload, self.old_objects)\n",
      "  File \"/Users/kevinmaikjablonka/miniconda3/envs/gptchem/lib/python3.9/site-packages/IPython/extensions/autoreload.py\", line 459, in superreload\n",
      "    module = reload(module)\n",
      "  File \"/Users/kevinmaikjablonka/miniconda3/envs/gptchem/lib/python3.9/importlib/__init__.py\", line 169, in reload\n",
      "    _bootstrap._exec(spec, module)\n",
      "  File \"<frozen importlib._bootstrap>\", line 613, in _exec\n",
      "  File \"<frozen importlib._bootstrap_external>\", line 850, in exec_module\n",
      "  File \"<frozen importlib._bootstrap>\", line 228, in _call_with_frames_removed\n",
      "  File \"/Users/kevinmaikjablonka/miniconda3/envs/gptchem/lib/python3.9/site-packages/numpy/testing/_private/utils.py\", line 55, in <module>\n",
      "    HAS_LAPACK64 = numpy.linalg.lapack_lite._ilp64\n",
      "AttributeError: module 'numpy.linalg' has no attribute 'lapack_lite'\n",
      "]\n",
      "[autoreload of numpy.testing failed: Traceback (most recent call last):\n",
      "  File \"/Users/kevinmaikjablonka/miniconda3/envs/gptchem/lib/python3.9/site-packages/IPython/extensions/autoreload.py\", line 261, in check\n",
      "    superreload(m, reload, self.old_objects)\n",
      "  File \"/Users/kevinmaikjablonka/miniconda3/envs/gptchem/lib/python3.9/site-packages/IPython/extensions/autoreload.py\", line 459, in superreload\n",
      "    module = reload(module)\n",
      "  File \"/Users/kevinmaikjablonka/miniconda3/envs/gptchem/lib/python3.9/importlib/__init__.py\", line 169, in reload\n",
      "    _bootstrap._exec(spec, module)\n",
      "  File \"<frozen importlib._bootstrap>\", line 613, in _exec\n",
      "  File \"<frozen importlib._bootstrap_external>\", line 850, in exec_module\n",
      "  File \"<frozen importlib._bootstrap>\", line 228, in _call_with_frames_removed\n",
      "  File \"/Users/kevinmaikjablonka/miniconda3/envs/gptchem/lib/python3.9/site-packages/numpy/testing/__init__.py\", line 18, in <module>\n",
      "    __all__ = _private.utils.__all__ + ['TestCase', 'run_module_suite']\n",
      "AttributeError: module 'numpy.testing._private' has no attribute 'utils'\n",
      "]\n"
     ]
    },
    {
     "data": {
      "text/plain": [
       "{'base_model': 'ada',\n",
       " 'batch_size': None,\n",
       " 'n_epochs': 4,\n",
       " 'learning_rate_multiplier': None,\n",
       " 'run_name': None,\n",
       " 'wandb_sync': True,\n",
       " 'outdir': '/Users/kevinmaikjablonka/git/kjappelbaum/gptchem/experiments/05_inverse/bandgap/biasing/manual/out/20230210_181210',\n",
       " 'train_filename': '/Users/kevinmaikjablonka/git/kjappelbaum/gptchem/experiments/05_inverse/bandgap/biasing/manual/out/20230210_181210/train.jsonl',\n",
       " 'valid_filename': 'None',\n",
       " 'model_name': 'ada:ft-personal-2023-02-11-14-42-29',\n",
       " 'ft_id': 'ft-0DlmSA4MEMCMAjDo8HqtRqza',\n",
       " 'date': '20230211_154904',\n",
       " 'train_file_id': 'file-EfZM3QJRiTMk4PyaGwG7S6Qi',\n",
       " 'valid_file_id': None}"
      ]
     },
     "execution_count": 53,
     "metadata": {},
     "output_type": "execute_result"
    }
   ],
   "source": [
    "tune_res_3"
   ]
  },
  {
   "cell_type": "code",
   "execution_count": 8,
   "metadata": {},
   "outputs": [],
   "source": [
    "querier_3 = Querier(\"ada:ft-personal-2023-02-11-14-42-29\", max_tokens=600)"
   ]
  },
  {
   "cell_type": "code",
   "execution_count": 9,
   "metadata": {},
   "outputs": [],
   "source": [
    "expected_gaps_3 = generate_desired_dist(6.5, 0.2, 2000)"
   ]
  },
  {
   "cell_type": "code",
   "execution_count": 10,
   "metadata": {},
   "outputs": [],
   "source": [
    "expected_frame_3 = pd.DataFrame(\n",
    "    {\"SMILES\": [\"SMILE\"] * 2000, \"GFN2_HOMO_LUMO_GAP_mean_ev\": expected_gaps_3}\n",
    ")"
   ]
  },
  {
   "cell_type": "code",
   "execution_count": 11,
   "metadata": {},
   "outputs": [],
   "source": [
    "formatted_test_3 = formatter(expected_frame_3)"
   ]
  },
  {
   "cell_type": "code",
   "execution_count": 15,
   "metadata": {},
   "outputs": [],
   "source": [
    "completions_3 = defaultdict(list)\n",
    "smiles_3 = defaultdict(list)\n",
    "\n",
    "for temp in TEMPERATURES:\n",
    "    try:\n",
    "        completions = querier_3(formatted_test_3, temperature=temp)\n",
    "        extracted = extractor(completions)\n",
    "        completions_3[temp] = completions\n",
    "        smiles_3[temp] = extracted\n",
    "    except Exception:\n",
    "        pass"
   ]
  },
  {
   "cell_type": "code",
   "execution_count": 16,
   "metadata": {},
   "outputs": [],
   "source": [
    "unique_smiles_3 = set()\n",
    "for t, v in smiles_3.items():\n",
    "    unique_smiles_3.update(v)"
   ]
  },
  {
   "cell_type": "code",
   "execution_count": 17,
   "metadata": {},
   "outputs": [
    {
     "data": {
      "text/plain": [
       "569"
      ]
     },
     "execution_count": 17,
     "metadata": {},
     "output_type": "execute_result"
    }
   ],
   "source": [
    "len(unique_smiles_3)"
   ]
  },
  {
   "cell_type": "code",
   "execution_count": 18,
   "metadata": {},
   "outputs": [],
   "source": [
    "valid_smiles_3 = [s for s in unique_smiles_3 if is_valid(s)]"
   ]
  },
  {
   "cell_type": "code",
   "execution_count": 19,
   "metadata": {},
   "outputs": [
    {
     "data": {
      "text/plain": [
       "389"
      ]
     },
     "execution_count": 19,
     "metadata": {},
     "output_type": "execute_result"
    }
   ],
   "source": [
    "len(valid_smiles_3)"
   ]
  },
  {
   "cell_type": "code",
   "execution_count": 20,
   "metadata": {},
   "outputs": [],
   "source": [
    "with open(\"xtb_inputs/3.txt\", \"w\") as handle:\n",
    "    for smile in valid_smiles_3:\n",
    "        handle.write(smile + \"\\n\")"
   ]
  },
  {
   "cell_type": "code",
   "execution_count": 21,
   "metadata": {},
   "outputs": [],
   "source": [
    "with open(\"xtb_inputs/3_sample.txt\", \"w\") as handle:\n",
    "    for smile in random.sample(valid_smiles_3, 100):\n",
    "        handle.write(smile + \"\\n\")"
   ]
  },
  {
   "cell_type": "code",
   "execution_count": 9,
   "metadata": {},
   "outputs": [
    {
     "data": {
      "text/plain": [
       "<matplotlib.legend.Legend at 0x328317bb0>"
      ]
     },
     "execution_count": 9,
     "metadata": {},
     "output_type": "execute_result"
    },
    {
     "data": {
      "image/png": "[encoded data removed]",
      "text/plain": [
       "<Figure size 330x250 with 1 Axes>"
      ]
     },
     "metadata": {},
     "output_type": "display_data"
    }
   ],
   "source": [
    "train_3 = pd.read_json(\n",
    "    \"/Users/kevinmaikjablonka/git/kjappelbaum/gptchem/experiments/05_inverse/bandgap/biasing/manual/out/20230210_181210/train.jsonl\",\n",
    "    lines=True,\n",
    ")\n",
    "train_3[\"gap\"] = train_3[\"representation\"].apply(lambda x: x[0])\n",
    "xtb_outputs_3 = pd.read_csv(\"xtb_outputs/3.csv\")\n",
    "plt.hist(train_3[\"gap\"], bins=50, density=True, label=\"Train 3\")\n",
    "plt.hist(xtb_outputs_3[\"gaps\"], alpha=0.5, bins=100, label=\"Generated\", density=True)\n",
    "plt.legend()"
   ]
  },
  {
   "attachments": {},
   "cell_type": "markdown",
   "metadata": {},
   "source": [
    "## Iteration 4\n"
   ]
  },
  {
   "cell_type": "code",
   "execution_count": 39,
   "metadata": {},
   "outputs": [],
   "source": [
    "train_data_4 = pd.DataFrame(\n",
    "    {\n",
    "        \"SMILES\": train_0[\"label\"].to_list()\n",
    "        + xtb_outputs_0[\"smiles\"].to_list()\n",
    "        + train_1[\"label\"].to_list()\n",
    "        + xtb_outputs_1[\"smiles\"].to_list()\n",
    "        + train_2[\"label\"].to_list()\n",
    "        + xtb_outputs_2[\"smiles\"].to_list()\n",
    "        + train_3[\"label\"].to_list()\n",
    "        + xtb_outputs_3[\"smiles\"].to_list(),\n",
    "        \"GFN2_HOMO_LUMO_GAP_mean_ev\": train_0[\"gap\"].to_list()\n",
    "        + xtb_outputs_0[\"gaps\"].to_list()\n",
    "        + train_1[\"gap\"].to_list()\n",
    "        + xtb_outputs_1[\"gaps\"].to_list()\n",
    "        + train_2[\"gap\"].to_list()\n",
    "        + xtb_outputs_2[\"gaps\"].to_list()\n",
    "        + train_3[\"gap\"].to_list()\n",
    "        + xtb_outputs_3[\"gaps\"].to_list(),\n",
    "    }\n",
    ")"
   ]
  },
  {
   "cell_type": "code",
   "execution_count": 40,
   "metadata": {},
   "outputs": [
    {
     "data": {
      "text/plain": [
       "<AxesSubplot: >"
      ]
     },
     "execution_count": 40,
     "metadata": {},
     "output_type": "execute_result"
    },
    {
     "data": {
      "image/png": "[encoded data removed]",
      "text/plain": [
       "<Figure size 330x250 with 1 Axes>"
      ]
     },
     "metadata": {},
     "output_type": "display_data"
    }
   ],
   "source": [
    "train_data_4[\"GFN2_HOMO_LUMO_GAP_mean_ev\"].hist()"
   ]
  },
  {
   "cell_type": "code",
   "execution_count": 42,
   "metadata": {},
   "outputs": [],
   "source": [
    "train_data_4.dropna(inplace=True)"
   ]
  },
  {
   "cell_type": "code",
   "execution_count": 47,
   "metadata": {},
   "outputs": [],
   "source": [
    "train_data_4_selected = train_data_4[train_data_4[\"GFN2_HOMO_LUMO_GAP_mean_ev\"] > 4]"
   ]
  },
  {
   "cell_type": "code",
   "execution_count": 48,
   "metadata": {},
   "outputs": [
    {
     "data": {
      "text/plain": [
       "269"
      ]
     },
     "execution_count": 48,
     "metadata": {},
     "output_type": "execute_result"
    }
   ],
   "source": [
    "len(train_data_4_selected)"
   ]
  },
  {
   "cell_type": "code",
   "execution_count": 49,
   "metadata": {},
   "outputs": [],
   "source": [
    "formatted_4 = formatter(train_data_4_selected)"
   ]
  },
  {
   "cell_type": "code",
   "execution_count": 50,
   "metadata": {},
   "outputs": [
    {
     "name": "stderr",
     "output_type": "stream",
     "text": [
      "Upload progress: 100%|██████████| 74.7k/74.7k [00:00<00:00, 36.9Mit/s]\n"
     ]
    },
    {
     "name": "stdout",
     "output_type": "stream",
     "text": [
      "Uploaded file from /Users/kevinmaikjablonka/git/kjappelbaum/gptchem/experiments/05_inverse/bandgap/biasing/manual/out/20230211_155802/train.jsonl: file-0U1hSBJGmChCN7axoYsVZwhr\n",
      "Fine-tune ft-TOztw1CpQzXH88dFy1Nlnck8 has the status \"failed\" and will not be logged\n",
      "🎉 wandb sync completed successfully\n"
     ]
    }
   ],
   "source": [
    "tune_res_4 = tuner(formatted_4)"
   ]
  },
  {
   "cell_type": "code",
   "execution_count": 52,
   "metadata": {},
   "outputs": [
    {
     "data": {
      "text/plain": [
       "{'base_model': 'ada',\n",
       " 'batch_size': None,\n",
       " 'n_epochs': 4,\n",
       " 'learning_rate_multiplier': None,\n",
       " 'run_name': None,\n",
       " 'wandb_sync': True,\n",
       " 'outdir': '/Users/kevinmaikjablonka/git/kjappelbaum/gptchem/experiments/05_inverse/bandgap/biasing/manual/out/20230211_155802',\n",
       " 'train_filename': '/Users/kevinmaikjablonka/git/kjappelbaum/gptchem/experiments/05_inverse/bandgap/biasing/manual/out/20230211_155802/train.jsonl',\n",
       " 'valid_filename': 'None',\n",
       " 'model_name': 'ada:ft-personal-2023-02-11-16-50-35',\n",
       " 'ft_id': 'ft-BtjCl5k1TVE01Tkc2OhPXipt',\n",
       " 'date': '20230211_175428',\n",
       " 'train_file_id': 'file-0U1hSBJGmChCN7axoYsVZwhr',\n",
       " 'valid_file_id': None}"
      ]
     },
     "execution_count": 52,
     "metadata": {},
     "output_type": "execute_result"
    }
   ],
   "source": [
    "tune_res_4"
   ]
  },
  {
   "cell_type": "code",
   "execution_count": 53,
   "metadata": {},
   "outputs": [],
   "source": [
    "querier_4 = Querier(\"ada:ft-personal-2023-02-11-16-50-35\", max_tokens=600)"
   ]
  },
  {
   "cell_type": "code",
   "execution_count": 54,
   "metadata": {},
   "outputs": [],
   "source": [
    "expected_gaps_4 = generate_desired_dist(7.5, 0.2, 2000)"
   ]
  },
  {
   "cell_type": "code",
   "execution_count": 55,
   "metadata": {},
   "outputs": [],
   "source": [
    "expected_frame_4 = pd.DataFrame(\n",
    "    {\"SMILES\": [\"SMILE\"] * 2000, \"GFN2_HOMO_LUMO_GAP_mean_ev\": expected_gaps_4}\n",
    ")"
   ]
  },
  {
   "cell_type": "code",
   "execution_count": 56,
   "metadata": {},
   "outputs": [],
   "source": [
    "formatted_test_4 = formatter(expected_frame_4)"
   ]
  },
  {
   "cell_type": "code",
   "execution_count": 57,
   "metadata": {},
   "outputs": [],
   "source": [
    "completions_4 = defaultdict(list)\n",
    "smiles_4 = defaultdict(list)\n",
    "\n",
    "for temp in TEMPERATURES:\n",
    "    try:\n",
    "        completions = querier_4(formatted_test_4, temperature=temp)\n",
    "        extracted = extractor(completions)\n",
    "        completions_4[temp] = completions\n",
    "        smiles_4[temp] = extracted\n",
    "    except Exception:\n",
    "        pass"
   ]
  },
  {
   "cell_type": "code",
   "execution_count": 58,
   "metadata": {},
   "outputs": [],
   "source": [
    "unique_smiles_4 = set()\n",
    "for t, v in smiles_4.items():\n",
    "    unique_smiles_4.update(v)"
   ]
  },
  {
   "cell_type": "code",
   "execution_count": 59,
   "metadata": {},
   "outputs": [
    {
     "data": {
      "text/plain": [
       "914"
      ]
     },
     "execution_count": 59,
     "metadata": {},
     "output_type": "execute_result"
    }
   ],
   "source": [
    "len(unique_smiles_4)"
   ]
  },
  {
   "cell_type": "code",
   "execution_count": 60,
   "metadata": {},
   "outputs": [],
   "source": [
    "valid_smiles_4 = [s for s in unique_smiles_4 if is_valid(s)]"
   ]
  },
  {
   "cell_type": "code",
   "execution_count": 62,
   "metadata": {},
   "outputs": [
    {
     "data": {
      "text/plain": [
       "301"
      ]
     },
     "execution_count": 62,
     "metadata": {},
     "output_type": "execute_result"
    }
   ],
   "source": [
    "len(valid_smiles_4)"
   ]
  },
  {
   "cell_type": "code",
   "execution_count": 63,
   "metadata": {},
   "outputs": [],
   "source": [
    "with open(\"xtb_inputs/4.txt\", \"w\") as handle:\n",
    "    for smile in valid_smiles_4:\n",
    "        handle.write(smile + \"\\n\")"
   ]
  },
  {
   "cell_type": "code",
   "execution_count": 64,
   "metadata": {},
   "outputs": [],
   "source": [
    "with open(\"xtb_inputs/4_sample.txt\", \"w\") as handle:\n",
    "    for smile in random.sample(valid_smiles_4, 100):\n",
    "        handle.write(smile + \"\\n\")"
   ]
  },
  {
   "cell_type": "code",
   "execution_count": 10,
   "metadata": {},
   "outputs": [
    {
     "data": {
      "text/plain": [
       "<matplotlib.legend.Legend at 0x328624490>"
      ]
     },
     "execution_count": 10,
     "metadata": {},
     "output_type": "execute_result"
    },
    {
     "data": {
      "image/png": "[encoded data removed]",
      "text/plain": [
       "<Figure size 330x250 with 1 Axes>"
      ]
     },
     "metadata": {},
     "output_type": "display_data"
    }
   ],
   "source": [
    "xtb_outputs_4 = pd.read_csv(\"xtb_outputs/4.csv\")\n",
    "plt.hist(train_3[\"gap\"], bins=50, density=True, label=\"Train 3\")\n",
    "plt.hist(xtb_outputs_4[\"gaps\"], alpha=0.5, bins=100, label=\"Generated\", density=True)\n",
    "plt.legend()"
   ]
  },
  {
   "cell_type": "code",
   "execution_count": 66,
   "metadata": {},
   "outputs": [],
   "source": [
    "import seaborn as sns"
   ]
  },
  {
   "cell_type": "code",
   "execution_count": 88,
   "metadata": {},
   "outputs": [
    {
     "data": {
      "text/plain": [
       "(0.0, 8.0)"
      ]
     },
     "execution_count": 88,
     "metadata": {},
     "output_type": "execute_result"
    },
    {
     "data": {
      "image/png": "[encoded data removed]",
      "text/plain": [
       "<Figure size 330x250 with 1 Axes>"
      ]
     },
     "metadata": {},
     "output_type": "display_data"
    }
   ],
   "source": [
    "sns.distplot(xtb_outputs_0[\"gaps\"], label=\"0\")\n",
    "sns.distplot(xtb_outputs_1[\"gaps\"], label=\"1\")\n",
    "sns.distplot(xtb_outputs_2[\"gaps\"], label=\"2\")\n",
    "sns.distplot(xtb_outputs_3[\"gaps\"], label=\"3\")\n",
    "sns.distplot(xtb_outputs_4[\"gaps\"], label=\"4\")\n",
    "plt.legend()\n",
    "\n",
    "plt.xlim(0, 8)"
   ]
  },
  {
   "attachments": {},
   "cell_type": "markdown",
   "metadata": {},
   "source": [
    "## Iteration 5\n"
   ]
  },
  {
   "cell_type": "code",
   "execution_count": 74,
   "metadata": {},
   "outputs": [],
   "source": [
    "train_4 = pd.read_json(\n",
    "    \"/Users/kevinmaikjablonka/git/kjappelbaum/gptchem/experiments/05_inverse/bandgap/biasing/manual/out/20230211_155802/train.jsonl\",\n",
    "    lines=True,\n",
    ")\n",
    "train_4[\"gap\"] = train_4[\"representation\"].apply(lambda x: x[0])"
   ]
  },
  {
   "cell_type": "code",
   "execution_count": 75,
   "metadata": {},
   "outputs": [],
   "source": [
    "train_data_5 = pd.DataFrame(\n",
    "    {\n",
    "        \"SMILES\": train_0[\"label\"].to_list()\n",
    "        + xtb_outputs_0[\"smiles\"].to_list()\n",
    "        + train_1[\"label\"].to_list()\n",
    "        + xtb_outputs_1[\"smiles\"].to_list()\n",
    "        + train_2[\"label\"].to_list()\n",
    "        + xtb_outputs_2[\"smiles\"].to_list()\n",
    "        + train_3[\"label\"].to_list()\n",
    "        + xtb_outputs_3[\"smiles\"].to_list()\n",
    "        + train_4[\"label\"].to_list()\n",
    "        + xtb_outputs_4[\"smiles\"].to_list(),\n",
    "        \"GFN2_HOMO_LUMO_GAP_mean_ev\": train_0[\"gap\"].to_list()\n",
    "        + xtb_outputs_0[\"gaps\"].to_list()\n",
    "        + train_1[\"gap\"].to_list()\n",
    "        + xtb_outputs_1[\"gaps\"].to_list()\n",
    "        + train_2[\"gap\"].to_list()\n",
    "        + xtb_outputs_2[\"gaps\"].to_list()\n",
    "        + train_3[\"gap\"].to_list()\n",
    "        + xtb_outputs_3[\"gaps\"].to_list()\n",
    "        + train_4[\"gap\"].to_list()\n",
    "        + xtb_outputs_4[\"gaps\"].to_list(),\n",
    "    }\n",
    ")"
   ]
  },
  {
   "cell_type": "code",
   "execution_count": 77,
   "metadata": {},
   "outputs": [
    {
     "data": {
      "text/plain": [
       "<AxesSubplot: >"
      ]
     },
     "execution_count": 77,
     "metadata": {},
     "output_type": "execute_result"
    },
    {
     "data": {
      "image/png": "[encoded data removed]",
      "text/plain": [
       "<Figure size 330x250 with 1 Axes>"
      ]
     },
     "metadata": {},
     "output_type": "display_data"
    }
   ],
   "source": [
    "train_data_5[\"GFN2_HOMO_LUMO_GAP_mean_ev\"].hist()"
   ]
  },
  {
   "cell_type": "code",
   "execution_count": 78,
   "metadata": {},
   "outputs": [],
   "source": [
    "train_data_5.dropna(inplace=True)"
   ]
  },
  {
   "cell_type": "code",
   "execution_count": 84,
   "metadata": {},
   "outputs": [],
   "source": [
    "train_data_5_selected = train_data_5[train_data_5[\"GFN2_HOMO_LUMO_GAP_mean_ev\"] > 4.5]"
   ]
  },
  {
   "cell_type": "code",
   "execution_count": 85,
   "metadata": {},
   "outputs": [
    {
     "data": {
      "text/plain": [
       "275"
      ]
     },
     "execution_count": 85,
     "metadata": {},
     "output_type": "execute_result"
    }
   ],
   "source": [
    "len(train_data_5_selected)"
   ]
  },
  {
   "cell_type": "code",
   "execution_count": 86,
   "metadata": {},
   "outputs": [],
   "source": [
    "formatted_5 = formatter(train_data_5_selected)"
   ]
  },
  {
   "cell_type": "code",
   "execution_count": 87,
   "metadata": {},
   "outputs": [
    {
     "name": "stderr",
     "output_type": "stream",
     "text": [
      "Upload progress: 100%|██████████| 70.5k/70.5k [00:00<00:00, 75.0Mit/s]\n"
     ]
    },
    {
     "name": "stdout",
     "output_type": "stream",
     "text": [
      "Uploaded file from /Users/kevinmaikjablonka/git/kjappelbaum/gptchem/experiments/05_inverse/bandgap/biasing/manual/out/20230211_155802/train.jsonl: file-OEyLDs8AMuDL5OY232FwAzRe\n",
      "Fine-tune ft-TOztw1CpQzXH88dFy1Nlnck8 has the status \"failed\" and will not be logged\n",
      "🎉 wandb sync completed successfully\n"
     ]
    }
   ],
   "source": [
    "tune_res_5 = tuner(formatted_5)"
   ]
  },
  {
   "cell_type": "code",
   "execution_count": 89,
   "metadata": {},
   "outputs": [
    {
     "data": {
      "text/plain": [
       "{'base_model': 'ada',\n",
       " 'batch_size': None,\n",
       " 'n_epochs': 4,\n",
       " 'learning_rate_multiplier': None,\n",
       " 'run_name': None,\n",
       " 'wandb_sync': True,\n",
       " 'outdir': '/Users/kevinmaikjablonka/git/kjappelbaum/gptchem/experiments/05_inverse/bandgap/biasing/manual/out/20230211_155802',\n",
       " 'train_filename': '/Users/kevinmaikjablonka/git/kjappelbaum/gptchem/experiments/05_inverse/bandgap/biasing/manual/out/20230211_155802/train.jsonl',\n",
       " 'valid_filename': 'None',\n",
       " 'model_name': 'ada:ft-personal-2023-02-11-19-04-14',\n",
       " 'ft_id': 'ft-yreOOlZBJWijY10Uju2pKmzB',\n",
       " 'date': '20230211_200749',\n",
       " 'train_file_id': 'file-OEyLDs8AMuDL5OY232FwAzRe',\n",
       " 'valid_file_id': None}"
      ]
     },
     "execution_count": 89,
     "metadata": {},
     "output_type": "execute_result"
    }
   ],
   "source": [
    "tune_res_5"
   ]
  },
  {
   "cell_type": "code",
   "execution_count": 90,
   "metadata": {},
   "outputs": [],
   "source": [
    "querier_5 = Querier(\"ada:ft-personal-2023-02-11-19-04-14\", max_tokens=600)"
   ]
  },
  {
   "cell_type": "code",
   "execution_count": 91,
   "metadata": {},
   "outputs": [],
   "source": [
    "expected_gaps_5 = generate_desired_dist(7.5, 0.2, 2000)"
   ]
  },
  {
   "cell_type": "code",
   "execution_count": 92,
   "metadata": {},
   "outputs": [],
   "source": [
    "expected_frame_5 = pd.DataFrame(\n",
    "    {\"SMILES\": [\"SMILE\"] * 2000, \"GFN2_HOMO_LUMO_GAP_mean_ev\": expected_gaps_5}\n",
    ")"
   ]
  },
  {
   "cell_type": "code",
   "execution_count": 93,
   "metadata": {},
   "outputs": [],
   "source": [
    "formatted_test_5 = formatter(expected_frame_5)"
   ]
  },
  {
   "cell_type": "code",
   "execution_count": 94,
   "metadata": {},
   "outputs": [],
   "source": [
    "completions_5 = defaultdict(list)\n",
    "smiles_5 = defaultdict(list)\n",
    "\n",
    "for temp in TEMPERATURES:\n",
    "    try:\n",
    "        completions = querier_5(formatted_test_5, temperature=temp)\n",
    "        extracted = extractor(completions)\n",
    "        completions_5[temp] = completions\n",
    "        smiles_5[temp] = extracted\n",
    "    except Exception:\n",
    "        pass"
   ]
  },
  {
   "cell_type": "code",
   "execution_count": 116,
   "metadata": {},
   "outputs": [],
   "source": [
    "unique_smiles_5 = set()\n",
    "for t, v in smiles_5.items():\n",
    "    unique_smiles_5.update(v)"
   ]
  },
  {
   "cell_type": "code",
   "execution_count": 117,
   "metadata": {},
   "outputs": [
    {
     "data": {
      "text/plain": [
       "374"
      ]
     },
     "execution_count": 117,
     "metadata": {},
     "output_type": "execute_result"
    }
   ],
   "source": [
    "len(unique_smiles_5)"
   ]
  },
  {
   "cell_type": "code",
   "execution_count": 127,
   "metadata": {},
   "outputs": [],
   "source": [
    "valid_smiles_5 = [s.split()[0].split(\"【\")[0] for s in unique_smiles_5 if is_valid(s)]"
   ]
  },
  {
   "cell_type": "code",
   "execution_count": 128,
   "metadata": {},
   "outputs": [
    {
     "data": {
      "text/plain": [
       "203"
      ]
     },
     "execution_count": 128,
     "metadata": {},
     "output_type": "execute_result"
    }
   ],
   "source": [
    "len(valid_smiles_5)"
   ]
  },
  {
   "cell_type": "code",
   "execution_count": 129,
   "metadata": {},
   "outputs": [],
   "source": [
    "with open(\"xtb_inputs/5.txt\", \"w\") as handle:\n",
    "    for smile in valid_smiles_5:\n",
    "        handle.write(smile + \"\\n\")"
   ]
  },
  {
   "cell_type": "code",
   "execution_count": 130,
   "metadata": {},
   "outputs": [],
   "source": [
    "with open(\"xtb_inputs/5_sample.txt\", \"w\") as handle:\n",
    "    for smile in random.sample(valid_smiles_5, 100):\n",
    "        handle.write(smile + \"\\n\")"
   ]
  },
  {
   "cell_type": "code",
   "execution_count": 11,
   "metadata": {},
   "outputs": [
    {
     "data": {
      "text/plain": [
       "<matplotlib.legend.Legend at 0x328853820>"
      ]
     },
     "execution_count": 11,
     "metadata": {},
     "output_type": "execute_result"
    },
    {
     "data": {
      "image/png": "[encoded data removed]",
      "text/plain": [
       "<Figure size 330x250 with 1 Axes>"
      ]
     },
     "metadata": {},
     "output_type": "display_data"
    }
   ],
   "source": [
    "xtb_outputs_5 = pd.read_csv(\"xtb_outputs/5.csv\")\n",
    "plt.hist(train_3[\"gap\"], bins=50, density=True, label=\"Train 3\")\n",
    "plt.hist(xtb_outputs_5[\"gaps\"], alpha=0.5, bins=100, label=\"Generated\", density=True)\n",
    "plt.legend()"
   ]
  },
  {
   "cell_type": "code",
   "execution_count": 132,
   "metadata": {},
   "outputs": [
    {
     "data": {
      "text/plain": [
       "(0.0, 8.0)"
      ]
     },
     "execution_count": 132,
     "metadata": {},
     "output_type": "execute_result"
    },
    {
     "data": {
      "image/png": "[encoded data removed]",
      "text/plain": [
       "<Figure size 330x250 with 1 Axes>"
      ]
     },
     "metadata": {},
     "output_type": "display_data"
    }
   ],
   "source": [
    "sns.distplot(xtb_outputs_0[\"gaps\"], label=\"0\")\n",
    "sns.distplot(xtb_outputs_1[\"gaps\"], label=\"1\")\n",
    "sns.distplot(xtb_outputs_2[\"gaps\"], label=\"2\")\n",
    "sns.distplot(xtb_outputs_3[\"gaps\"], label=\"3\")\n",
    "sns.distplot(xtb_outputs_4[\"gaps\"], label=\"4\")\n",
    "sns.distplot(xtb_outputs_5[\"gaps\"], label=\"5\")\n",
    "plt.legend()\n",
    "\n",
    "plt.xlim(0, 8)"
   ]
  },
  {
   "attachments": {},
   "cell_type": "markdown",
   "metadata": {},
   "source": [
    "## Iteration 6\n"
   ]
  },
  {
   "cell_type": "code",
   "execution_count": 133,
   "metadata": {},
   "outputs": [],
   "source": [
    "train_5 = pd.read_json(\n",
    "    \"/Users/kevinmaikjablonka/git/kjappelbaum/gptchem/experiments/05_inverse/bandgap/biasing/manual/out/20230211_155802/train.jsonl\",\n",
    "    lines=True,\n",
    ")\n",
    "train_5[\"gap\"] = train_5[\"representation\"].apply(lambda x: x[0])"
   ]
  },
  {
   "cell_type": "code",
   "execution_count": 134,
   "metadata": {},
   "outputs": [],
   "source": [
    "train_data_6 = pd.DataFrame(\n",
    "    {\n",
    "        \"SMILES\": train_0[\"label\"].to_list()\n",
    "        + xtb_outputs_0[\"smiles\"].to_list()\n",
    "        + train_1[\"label\"].to_list()\n",
    "        + xtb_outputs_1[\"smiles\"].to_list()\n",
    "        + train_2[\"label\"].to_list()\n",
    "        + xtb_outputs_2[\"smiles\"].to_list()\n",
    "        + train_3[\"label\"].to_list()\n",
    "        + xtb_outputs_3[\"smiles\"].to_list()\n",
    "        + train_4[\"label\"].to_list()\n",
    "        + xtb_outputs_4[\"smiles\"].to_list()\n",
    "        + train_5[\"label\"].to_list()\n",
    "        + xtb_outputs_5[\"smiles\"].to_list(),\n",
    "        \"GFN2_HOMO_LUMO_GAP_mean_ev\": train_0[\"gap\"].to_list()\n",
    "        + xtb_outputs_0[\"gaps\"].to_list()\n",
    "        + train_1[\"gap\"].to_list()\n",
    "        + xtb_outputs_1[\"gaps\"].to_list()\n",
    "        + train_2[\"gap\"].to_list()\n",
    "        + xtb_outputs_2[\"gaps\"].to_list()\n",
    "        + train_3[\"gap\"].to_list()\n",
    "        + xtb_outputs_3[\"gaps\"].to_list()\n",
    "        + train_4[\"gap\"].to_list()\n",
    "        + xtb_outputs_4[\"gaps\"].to_list()\n",
    "        + train_5[\"gap\"].to_list()\n",
    "        + xtb_outputs_5[\"gaps\"].to_list(),\n",
    "    }\n",
    ")"
   ]
  },
  {
   "cell_type": "code",
   "execution_count": 136,
   "metadata": {},
   "outputs": [
    {
     "data": {
      "text/plain": [
       "<AxesSubplot: >"
      ]
     },
     "execution_count": 136,
     "metadata": {},
     "output_type": "execute_result"
    },
    {
     "data": {
      "image/png": "[encoded data removed]",
      "text/plain": [
       "<Figure size 330x250 with 1 Axes>"
      ]
     },
     "metadata": {},
     "output_type": "display_data"
    }
   ],
   "source": [
    "train_data_6[\"GFN2_HOMO_LUMO_GAP_mean_ev\"].hist(bins=100)"
   ]
  },
  {
   "cell_type": "code",
   "execution_count": 137,
   "metadata": {},
   "outputs": [],
   "source": [
    "train_data_6.dropna(inplace=True)"
   ]
  },
  {
   "cell_type": "code",
   "execution_count": 138,
   "metadata": {},
   "outputs": [],
   "source": [
    "train_data_6_selected = train_data_6[train_data_6[\"GFN2_HOMO_LUMO_GAP_mean_ev\"] > 5]"
   ]
  },
  {
   "cell_type": "code",
   "execution_count": 139,
   "metadata": {},
   "outputs": [
    {
     "data": {
      "text/plain": [
       "292"
      ]
     },
     "execution_count": 139,
     "metadata": {},
     "output_type": "execute_result"
    }
   ],
   "source": [
    "len(train_data_6_selected)"
   ]
  },
  {
   "cell_type": "code",
   "execution_count": 140,
   "metadata": {},
   "outputs": [],
   "source": [
    "formatted_6 = formatter(train_data_6_selected)"
   ]
  },
  {
   "cell_type": "code",
   "execution_count": 141,
   "metadata": {},
   "outputs": [
    {
     "name": "stderr",
     "output_type": "stream",
     "text": [
      "Upload progress: 100%|██████████| 76.7k/76.7k [00:00<00:00, 71.4Mit/s]\n"
     ]
    },
    {
     "name": "stdout",
     "output_type": "stream",
     "text": [
      "Uploaded file from /Users/kevinmaikjablonka/git/kjappelbaum/gptchem/experiments/05_inverse/bandgap/biasing/manual/out/20230211_155802/train.jsonl: file-CJTW0nXHbuZPLJYVjhitmWIG\n",
      "Fine-tune ft-TOztw1CpQzXH88dFy1Nlnck8 has the status \"failed\" and will not be logged\n",
      "🎉 wandb sync completed successfully\n"
     ]
    }
   ],
   "source": [
    "tune_res_6 = tuner(formatted_6)"
   ]
  },
  {
   "cell_type": "code",
   "execution_count": 142,
   "metadata": {},
   "outputs": [
    {
     "data": {
      "text/plain": [
       "{'base_model': 'ada',\n",
       " 'batch_size': None,\n",
       " 'n_epochs': 4,\n",
       " 'learning_rate_multiplier': None,\n",
       " 'run_name': None,\n",
       " 'wandb_sync': True,\n",
       " 'outdir': '/Users/kevinmaikjablonka/git/kjappelbaum/gptchem/experiments/05_inverse/bandgap/biasing/manual/out/20230211_155802',\n",
       " 'train_filename': '/Users/kevinmaikjablonka/git/kjappelbaum/gptchem/experiments/05_inverse/bandgap/biasing/manual/out/20230211_155802/train.jsonl',\n",
       " 'valid_filename': 'None',\n",
       " 'model_name': 'ada:ft-personal-2023-02-11-20-48-54',\n",
       " 'ft_id': 'ft-9I13NaUOZNjqmgrU2HurqrUI',\n",
       " 'date': '20230211_215145',\n",
       " 'train_file_id': 'file-CJTW0nXHbuZPLJYVjhitmWIG',\n",
       " 'valid_file_id': None}"
      ]
     },
     "execution_count": 142,
     "metadata": {},
     "output_type": "execute_result"
    }
   ],
   "source": [
    "tune_res_6"
   ]
  },
  {
   "cell_type": "code",
   "execution_count": 143,
   "metadata": {},
   "outputs": [],
   "source": [
    "querier_6 = Querier(\"ada:ft-personal-2023-02-11-20-48-54\", max_tokens=600)"
   ]
  },
  {
   "cell_type": "code",
   "execution_count": 144,
   "metadata": {},
   "outputs": [],
   "source": [
    "expected_gaps_6 = generate_desired_dist(6.5, 0.2, 2000)"
   ]
  },
  {
   "cell_type": "code",
   "execution_count": 145,
   "metadata": {},
   "outputs": [],
   "source": [
    "expected_frame_6 = pd.DataFrame(\n",
    "    {\"SMILES\": [\"SMILE\"] * 2000, \"GFN2_HOMO_LUMO_GAP_mean_ev\": expected_gaps_6}\n",
    ")"
   ]
  },
  {
   "cell_type": "code",
   "execution_count": 146,
   "metadata": {},
   "outputs": [],
   "source": [
    "formatted_test_6 = formatter(expected_frame_6)"
   ]
  },
  {
   "cell_type": "code",
   "execution_count": 147,
   "metadata": {},
   "outputs": [],
   "source": [
    "completions_6 = defaultdict(list)\n",
    "smiles_6 = defaultdict(list)\n",
    "\n",
    "for temp in TEMPERATURES:\n",
    "    try:\n",
    "        completions = querier_6(formatted_test_6, temperature=temp)\n",
    "        extracted = extractor(completions)\n",
    "        completions_6[temp] = completions\n",
    "        smiles_6[temp] = extracted\n",
    "    except Exception:\n",
    "        pass"
   ]
  },
  {
   "cell_type": "code",
   "execution_count": 166,
   "metadata": {},
   "outputs": [],
   "source": [
    "from rdkit import Chem"
   ]
  },
  {
   "cell_type": "code",
   "execution_count": 185,
   "metadata": {},
   "outputs": [],
   "source": [
    "unique_smiles_6 = set()\n",
    "for t, v in smiles_6.items():\n",
    "    try:\n",
    "        unique_smiles_6.update(v)\n",
    "    except Exception as e:\n",
    "        print(e)\n",
    "        pass"
   ]
  },
  {
   "cell_type": "code",
   "execution_count": 186,
   "metadata": {},
   "outputs": [
    {
     "data": {
      "text/plain": [
       "2324"
      ]
     },
     "execution_count": 186,
     "metadata": {},
     "output_type": "execute_result"
    }
   ],
   "source": [
    "len(unique_smiles_6)"
   ]
  },
  {
   "cell_type": "code",
   "execution_count": 196,
   "metadata": {},
   "outputs": [],
   "source": [
    "valid_smiles_6 = [\n",
    "    Chem.MolToSmiles(Chem.MolFromSmiles(s.split()[0]))\n",
    "    for s in unique_smiles_6\n",
    "    if is_valid(s)\n",
    "    and not any(\n",
    "        symb in s\n",
    "        for symb in [\n",
    "            \"��\",\n",
    "            \"やできま\",\n",
    "            \"€\",\n",
    "            \".\",\n",
    "            \"˚\",\n",
    "            \"к\",\n",
    "            \"�\",\n",
    "            \"I\",\n",
    "            \"—\",\n",
    "            \"—\",\n",
    "            \"}\",\n",
    "            \"»\",\n",
    "        ]\n",
    "    )\n",
    "]"
   ]
  },
  {
   "cell_type": "code",
   "execution_count": 198,
   "metadata": {},
   "outputs": [],
   "source": [
    "valid_smiles_6 = list(set(valid_smiles_6))"
   ]
  },
  {
   "cell_type": "code",
   "execution_count": 199,
   "metadata": {},
   "outputs": [
    {
     "data": {
      "text/plain": [
       "194"
      ]
     },
     "execution_count": 199,
     "metadata": {},
     "output_type": "execute_result"
    }
   ],
   "source": [
    "len(valid_smiles_6)"
   ]
  },
  {
   "cell_type": "code",
   "execution_count": 200,
   "metadata": {},
   "outputs": [],
   "source": [
    "with open(\"xtb_inputs/6.txt\", \"w\") as handle:\n",
    "    for smile in valid_smiles_6:\n",
    "        handle.write(smile + \"\\n\")"
   ]
  },
  {
   "cell_type": "code",
   "execution_count": 201,
   "metadata": {},
   "outputs": [],
   "source": [
    "with open(\"xtb_inputs/6_sample.txt\", \"w\") as handle:\n",
    "    for smile in random.sample(valid_smiles_6, 100):\n",
    "        handle.write(smile + \"\\n\")"
   ]
  },
  {
   "cell_type": "code",
   "execution_count": 12,
   "metadata": {},
   "outputs": [
    {
     "data": {
      "text/plain": [
       "<matplotlib.legend.Legend at 0x328a2cf10>"
      ]
     },
     "execution_count": 12,
     "metadata": {},
     "output_type": "execute_result"
    },
    {
     "data": {
      "image/png": "[encoded data removed]",
      "text/plain": [
       "<Figure size 330x250 with 1 Axes>"
      ]
     },
     "metadata": {},
     "output_type": "display_data"
    }
   ],
   "source": [
    "xtb_outputs_6 = pd.read_csv(\"xtb_outputs/6.csv\")\n",
    "plt.hist(train_3[\"gap\"], bins=50, density=True, label=\"Train 3\")\n",
    "plt.hist(xtb_outputs_6[\"gaps\"], alpha=0.5, bins=100, label=\"Generated\", density=True)\n",
    "plt.legend()"
   ]
  },
  {
   "cell_type": "code",
   "execution_count": 210,
   "metadata": {},
   "outputs": [
    {
     "data": {
      "text/plain": [
       "(0.0, 8.0)"
      ]
     },
     "execution_count": 210,
     "metadata": {},
     "output_type": "execute_result"
    },
    {
     "data": {
      "image/png": "[encoded data removed]",
      "text/plain": [
       "<Figure size 330x250 with 1 Axes>"
      ]
     },
     "metadata": {},
     "output_type": "display_data"
    }
   ],
   "source": [
    "sns.distplot(data[\"GFN2_HOMO_LUMO_GAP_mean_ev\"], label=\"QMUG\")\n",
    "sns.distplot(xtb_outputs_0[\"gaps\"], label=\"0\")\n",
    "sns.distplot(xtb_outputs_1[\"gaps\"], label=\"1\")\n",
    "sns.distplot(xtb_outputs_2[\"gaps\"], label=\"2\")\n",
    "sns.distplot(xtb_outputs_3[\"gaps\"], label=\"3\")\n",
    "sns.distplot(xtb_outputs_4[\"gaps\"], label=\"4\")\n",
    "sns.distplot(xtb_outputs_5[\"gaps\"], label=\"5\")\n",
    "sns.distplot(xtb_outputs_6[\"gaps\"], label=\"6\")\n",
    "plt.legend()\n",
    "\n",
    "plt.xlim(0, 8)"
   ]
  },
  {
   "cell_type": "markdown",
   "metadata": {},
   "source": [
    "## Iteration 7"
   ]
  },
  {
   "cell_type": "code",
   "execution_count": 217,
   "metadata": {},
   "outputs": [],
   "source": [
    "train_6 = pd.read_json(\n",
    "    \"/Users/kevinmaikjablonka/git/kjappelbaum/gptchem/experiments/05_inverse/bandgap/biasing/manual/out/20230211_155802/train.jsonl\",\n",
    "    lines=True,\n",
    ")\n",
    "train_6[\"gap\"] = train_5[\"representation\"].apply(lambda x: x[0])"
   ]
  },
  {
   "cell_type": "code",
   "execution_count": 218,
   "metadata": {},
   "outputs": [],
   "source": [
    "train_data_7 = pd.DataFrame(\n",
    "    {\n",
    "        \"SMILES\": train_0[\"label\"].to_list()\n",
    "        + xtb_outputs_0[\"smiles\"].to_list()\n",
    "        + train_1[\"label\"].to_list()\n",
    "        + xtb_outputs_1[\"smiles\"].to_list()\n",
    "        + train_2[\"label\"].to_list()\n",
    "        + xtb_outputs_2[\"smiles\"].to_list()\n",
    "        + train_3[\"label\"].to_list()\n",
    "        + xtb_outputs_3[\"smiles\"].to_list()\n",
    "        + train_4[\"label\"].to_list()\n",
    "        + xtb_outputs_4[\"smiles\"].to_list()\n",
    "        + train_5[\"label\"].to_list()\n",
    "        + xtb_outputs_5[\"smiles\"].to_list()\n",
    "        + train_6[\"label\"].to_list()\n",
    "        + xtb_outputs_6[\"smiles\"].to_list(),\n",
    "        \"GFN2_HOMO_LUMO_GAP_mean_ev\": train_0[\"gap\"].to_list()\n",
    "        + xtb_outputs_0[\"gaps\"].to_list()\n",
    "        + train_1[\"gap\"].to_list()\n",
    "        + xtb_outputs_1[\"gaps\"].to_list()\n",
    "        + train_2[\"gap\"].to_list()\n",
    "        + xtb_outputs_2[\"gaps\"].to_list()\n",
    "        + train_3[\"gap\"].to_list()\n",
    "        + xtb_outputs_3[\"gaps\"].to_list()\n",
    "        + train_4[\"gap\"].to_list()\n",
    "        + xtb_outputs_4[\"gaps\"].to_list()\n",
    "        + train_5[\"gap\"].to_list()\n",
    "        + xtb_outputs_5[\"gaps\"].to_list()\n",
    "        + train_6[\"gap\"].to_list()\n",
    "        + xtb_outputs_6[\"gaps\"].to_list(),\n",
    "    }\n",
    ")"
   ]
  },
  {
   "cell_type": "code",
   "execution_count": 219,
   "metadata": {},
   "outputs": [
    {
     "data": {
      "text/plain": [
       "<AxesSubplot: >"
      ]
     },
     "execution_count": 219,
     "metadata": {},
     "output_type": "execute_result"
    },
    {
     "data": {
      "image/png": "[encoded data removed]",
      "text/plain": [
       "<Figure size 330x250 with 1 Axes>"
      ]
     },
     "metadata": {},
     "output_type": "display_data"
    }
   ],
   "source": [
    "train_data_7[\"GFN2_HOMO_LUMO_GAP_mean_ev\"].hist(bins=100)"
   ]
  },
  {
   "cell_type": "code",
   "execution_count": 220,
   "metadata": {},
   "outputs": [],
   "source": [
    "train_data_7_selected = train_data_7[\n",
    "    (train_data_7[\"GFN2_HOMO_LUMO_GAP_mean_ev\"] > 5)\n",
    "    & (train_data_7[\"GFN2_HOMO_LUMO_GAP_mean_ev\"] < 10)\n",
    "]"
   ]
  },
  {
   "cell_type": "code",
   "execution_count": 221,
   "metadata": {},
   "outputs": [
    {
     "data": {
      "text/plain": [
       "134"
      ]
     },
     "execution_count": 221,
     "metadata": {},
     "output_type": "execute_result"
    }
   ],
   "source": [
    "len(train_data_7_selected)"
   ]
  },
  {
   "cell_type": "code",
   "execution_count": 222,
   "metadata": {},
   "outputs": [],
   "source": [
    "formatted_7 = formatter(train_data_7_selected)"
   ]
  },
  {
   "cell_type": "code",
   "execution_count": 223,
   "metadata": {},
   "outputs": [
    {
     "name": "stderr",
     "output_type": "stream",
     "text": [
      "Upload progress: 100%|██████████| 31.5k/31.5k [00:00<00:00, 58.9Mit/s]\n"
     ]
    },
    {
     "name": "stdout",
     "output_type": "stream",
     "text": [
      "Uploaded file from /Users/kevinmaikjablonka/git/kjappelbaum/gptchem/experiments/05_inverse/bandgap/biasing/manual/out/20230211_155802/train.jsonl: file-xQW5t4tEhOAjRVIBdGgYM3lL\n",
      "Fine-tune ft-TOztw1CpQzXH88dFy1Nlnck8 has the status \"failed\" and will not be logged\n",
      "🎉 wandb sync completed successfully\n"
     ]
    }
   ],
   "source": [
    "tune_res_7 = tuner(formatted_7)"
   ]
  },
  {
   "cell_type": "code",
   "execution_count": 224,
   "metadata": {},
   "outputs": [
    {
     "data": {
      "text/plain": [
       "{'base_model': 'ada',\n",
       " 'batch_size': None,\n",
       " 'n_epochs': 4,\n",
       " 'learning_rate_multiplier': None,\n",
       " 'run_name': None,\n",
       " 'wandb_sync': True,\n",
       " 'outdir': '/Users/kevinmaikjablonka/git/kjappelbaum/gptchem/experiments/05_inverse/bandgap/biasing/manual/out/20230211_155802',\n",
       " 'train_filename': '/Users/kevinmaikjablonka/git/kjappelbaum/gptchem/experiments/05_inverse/bandgap/biasing/manual/out/20230211_155802/train.jsonl',\n",
       " 'valid_filename': 'None',\n",
       " 'model_name': 'ada:ft-personal-2023-02-11-22-26-49',\n",
       " 'ft_id': 'ft-OYQahLh81yjYMSa4awoONIQA',\n",
       " 'date': '20230211_232944',\n",
       " 'train_file_id': 'file-xQW5t4tEhOAjRVIBdGgYM3lL',\n",
       " 'valid_file_id': None}"
      ]
     },
     "execution_count": 224,
     "metadata": {},
     "output_type": "execute_result"
    }
   ],
   "source": [
    "tune_res_7"
   ]
  },
  {
   "cell_type": "code",
   "execution_count": 226,
   "metadata": {},
   "outputs": [],
   "source": [
    "querier_7 = Querier(\"ada:ft-personal-2023-02-11-22-26-49\", max_tokens=600)"
   ]
  },
  {
   "cell_type": "code",
   "execution_count": 227,
   "metadata": {},
   "outputs": [],
   "source": [
    "expected_gaps_7 = generate_desired_dist(6.5, 0.2, 2000)"
   ]
  },
  {
   "cell_type": "code",
   "execution_count": 228,
   "metadata": {},
   "outputs": [],
   "source": [
    "expected_frame_7 = pd.DataFrame(\n",
    "    {\"SMILES\": [\"SMILE\"] * 2000, \"GFN2_HOMO_LUMO_GAP_mean_ev\": expected_gaps_7}\n",
    ")"
   ]
  },
  {
   "cell_type": "code",
   "execution_count": 229,
   "metadata": {},
   "outputs": [],
   "source": [
    "formatted_test_7 = formatter(expected_frame_7)"
   ]
  },
  {
   "cell_type": "code",
   "execution_count": 230,
   "metadata": {},
   "outputs": [],
   "source": [
    "completions_7 = defaultdict(list)\n",
    "smiles_7 = defaultdict(list)\n",
    "\n",
    "for temp in TEMPERATURES:\n",
    "    try:\n",
    "        completions = querier_7(formatted_test_7, temperature=temp)\n",
    "        extracted = extractor(completions)\n",
    "        completions_7[temp] = completions\n",
    "        smiles_7[temp] = extracted\n",
    "    except Exception:\n",
    "        pass"
   ]
  },
  {
   "cell_type": "code",
   "execution_count": 231,
   "metadata": {},
   "outputs": [],
   "source": [
    "unique_smiles_7 = set()\n",
    "for t, v in smiles_7.items():\n",
    "    try:\n",
    "        unique_smiles_7.update(v)\n",
    "    except Exception as e:\n",
    "        print(e)\n",
    "        pass"
   ]
  },
  {
   "cell_type": "code",
   "execution_count": 232,
   "metadata": {},
   "outputs": [],
   "source": [
    "valid_smiles_7 = [\n",
    "    Chem.MolToSmiles(Chem.MolFromSmiles(s.split()[0]))\n",
    "    for s in unique_smiles_7\n",
    "    if is_valid(s)\n",
    "    and not any(\n",
    "        symb in s\n",
    "        for symb in [\n",
    "            \"��\",\n",
    "            \"やできま\",\n",
    "            \"€\",\n",
    "            \".\",\n",
    "            \"˚\",\n",
    "            \"к\",\n",
    "            \"�\",\n",
    "            \"I\",\n",
    "            \"—\",\n",
    "            \"—\",\n",
    "            \"}\",\n",
    "            \"»\",\n",
    "        ]\n",
    "    )\n",
    "]"
   ]
  },
  {
   "cell_type": "code",
   "execution_count": null,
   "metadata": {},
   "outputs": [],
   "source": [
    "with open(\"xtb_inputs/7.txt\", \"w\") as handle:\n",
    "    for smile in valid_smiles_7:\n",
    "        handle.write(smile + \"\\n\")"
   ]
  },
  {
   "cell_type": "code",
   "execution_count": 234,
   "metadata": {},
   "outputs": [],
   "source": [
    "with open(\"xtb_inputs/7_sample.txt\", \"w\") as handle:\n",
    "    for smile in random.sample(valid_smiles_7, 100):\n",
    "        handle.write(smile + \"\\n\")"
   ]
  },
  {
   "cell_type": "code",
   "execution_count": 13,
   "metadata": {},
   "outputs": [
    {
     "data": {
      "text/plain": [
       "<matplotlib.legend.Legend at 0x328d5d8e0>"
      ]
     },
     "execution_count": 13,
     "metadata": {},
     "output_type": "execute_result"
    },
    {
     "data": {
      "image/png": "[encoded data removed]",
      "text/plain": [
       "<Figure size 330x250 with 1 Axes>"
      ]
     },
     "metadata": {},
     "output_type": "display_data"
    }
   ],
   "source": [
    "xtb_outputs_7 = pd.read_csv(\"xtb_outputs/7.csv\")\n",
    "plt.hist(train_3[\"gap\"], bins=50, density=True, label=\"Train 3\")\n",
    "plt.hist(xtb_outputs_7[\"gaps\"], alpha=0.5, bins=100, label=\"Generated\", density=True)\n",
    "plt.legend()"
   ]
  },
  {
   "cell_type": "code",
   "execution_count": 236,
   "metadata": {},
   "outputs": [
    {
     "data": {
      "text/plain": [
       "(0.0, 8.0)"
      ]
     },
     "execution_count": 236,
     "metadata": {},
     "output_type": "execute_result"
    },
    {
     "data": {
      "image/png": "[encoded data removed]",
      "text/plain": [
       "<Figure size 330x250 with 1 Axes>"
      ]
     },
     "metadata": {},
     "output_type": "display_data"
    }
   ],
   "source": [
    "sns.distplot(data[\"GFN2_HOMO_LUMO_GAP_mean_ev\"], label=\"QMUG\")\n",
    "sns.distplot(xtb_outputs_0[\"gaps\"], label=\"0\")\n",
    "sns.distplot(xtb_outputs_1[\"gaps\"], label=\"1\")\n",
    "sns.distplot(xtb_outputs_2[\"gaps\"], label=\"2\")\n",
    "sns.distplot(xtb_outputs_3[\"gaps\"], label=\"3\")\n",
    "sns.distplot(xtb_outputs_4[\"gaps\"], label=\"4\")\n",
    "sns.distplot(xtb_outputs_5[\"gaps\"], label=\"5\")\n",
    "sns.distplot(xtb_outputs_6[\"gaps\"], label=\"6\")\n",
    "sns.distplot(xtb_outputs_7[\"gaps\"], label=\"7\")\n",
    "plt.legend()\n",
    "\n",
    "plt.xlim(0, 8)"
   ]
  },
  {
   "cell_type": "code",
   "execution_count": 33,
   "metadata": {},
   "outputs": [
    {
     "data": {
      "text/plain": [
       "2.582679103223603"
      ]
     },
     "execution_count": 33,
     "metadata": {},
     "output_type": "execute_result"
    }
   ],
   "source": [
    "data[\"GFN2_HOMO_LUMO_GAP_mean_ev\"].mean()"
   ]
  },
  {
   "cell_type": "code",
   "execution_count": 22,
   "metadata": {},
   "outputs": [],
   "source": [
    "import matplotlib as mpl\n",
    "\n",
    "norm = mpl.colors.Normalize(vmin=-1.5, vmax=7.5)"
   ]
  },
  {
   "cell_type": "code",
   "execution_count": 23,
   "metadata": {},
   "outputs": [],
   "source": [
    "cmap = mpl.cm.get_cmap(\"RdBu_r\")"
   ]
  },
  {
   "cell_type": "code",
   "execution_count": 24,
   "metadata": {},
   "outputs": [],
   "source": [
    "import seaborn as sns\n",
    "from scipy.constants import golden"
   ]
  },
  {
   "cell_type": "code",
   "execution_count": 32,
   "metadata": {},
   "outputs": [
    {
     "data": {
      "image/png": "[encoded data removed]",
      "text/plain": [
       "<Figure size 325x301.292 with 1 Axes>"
      ]
     },
     "metadata": {},
     "output_type": "display_data"
    }
   ],
   "source": [
    "fig, ax = plt.subplots(figsize=(3.25, 3.25 / golden * 1.5))\n",
    "ax.set_facecolor(\"white\")\n",
    "# sns.distplot(gaps, ax=ax, label=\"QMUGs\", color=cmap(norm(0)))\n",
    "# sns.distplot(biased_gap_res['gap'], label=\"it. 0\", ax=ax, color=cmap(norm(1)))\n",
    "# sns.distplot(first_iteration_gap_res['gap'], label=\"it. 1\", ax=ax,\n",
    "#              color=cmap(norm(2)))\n",
    "# sns.distplot(second_iteration_gap_res['gap'], label=\"it. 2\", ax=ax\n",
    "#              , color=cmap(norm(3)))\n",
    "# sns.distplot(third_iteration_gap_res['gap'], label=\"it. 3\", ax=ax,\n",
    "#              color=cmap(norm(4)))\n",
    "# sns.distplot(fourth_iteration_gap_res['gap'], label=\"it. 4\", ax=ax,\n",
    "#              color=cmap(norm(5)))\n",
    "\n",
    "sns.distplot(data[\"GFN2_HOMO_LUMO_GAP_mean_ev\"], label=\"QMUG\", ax=ax, color=cmap(norm(-1)))\n",
    "sns.distplot(xtb_outputs_0[\"gaps\"], label=\"0\", ax=ax, color=cmap(norm(0)))\n",
    "sns.distplot(xtb_outputs_1[\"gaps\"], label=\"1\", ax=ax, color=cmap(norm(1)))\n",
    "sns.distplot(xtb_outputs_2[\"gaps\"], label=\"2\", ax=ax, color=cmap(norm(2)))\n",
    "sns.distplot(xtb_outputs_3[\"gaps\"], label=\"3\", ax=ax, color=cmap(norm(3)))\n",
    "sns.distplot(xtb_outputs_4[\"gaps\"], label=\"4\", ax=ax, color=cmap(norm(4)))\n",
    "sns.distplot(xtb_outputs_5[\"gaps\"], label=\"5\", ax=ax, color=cmap(norm(5)))\n",
    "sns.distplot(xtb_outputs_6[\"gaps\"], label=\"6\", ax=ax, color=cmap(norm(6)))\n",
    "sns.distplot(xtb_outputs_7[\"gaps\"], label=\"7\", ax=ax, color=cmap(norm(7)))\n",
    "\n",
    "\n",
    "ax.set_xlim(0, 10)\n",
    "ax.legend(loc=\"upper left\", ncol=3)\n",
    "ax.set_ylabel(\"\")\n",
    "ylabel_top(\"density\")\n",
    "ax.set_xlabel(\"HOMO-LUMO gap / eV\")\n",
    "\n",
    "range_frame(ax, np.array([0.1, 9]), np.array([0, 1.5]))\n",
    "\n",
    "fig.tight_layout()\n",
    "fig.savefig(\"biasing_gaps_100.pdf\", bbox_inches=\"tight\")"
   ]
  },
  {
   "cell_type": "code",
   "execution_count": null,
   "metadata": {},
   "outputs": [],
   "source": []
  }
 ],
 "metadata": {
  "kernelspec": {
   "display_name": "gptchem",
   "language": "python",
   "name": "python3"
  },
  "language_info": {
   "codemirror_mode": {
    "name": "ipython",
    "version": 3
   },
   "file_extension": ".py",
   "mimetype": "text/x-python",
   "name": "python",
   "nbconvert_exporter": "python",
   "pygments_lexer": "ipython3",
   "version": "3.9.16"
  },
  "orig_nbformat": 4,
  "vscode": {
   "interpreter": {
    "hash": "2f3b9074e5baa1438c27e2ea813f7f53b7516c83bd70840b6d64eae6820ee5df"
   }
  }
 },
 "nbformat": 4,
 "nbformat_minor": 2
}
