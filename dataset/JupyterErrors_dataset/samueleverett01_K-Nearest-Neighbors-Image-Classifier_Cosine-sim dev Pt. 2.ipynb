{
 "cells": [
  {
   "cell_type": "markdown",
   "metadata": {},
   "source": [
    "# Using Cosine Similarity Model to Classify MNIST Hand-written Digits\n",
    "\n",
    "Below I write out the algorithm and show accuracy of it on the entire MNIST dataset.  I later go on to show how this approach needs far less data than other classification methods to work well (I think)."
   ]
  },
  {
   "cell_type": "code",
   "execution_count": 2,
   "metadata": {},
   "outputs": [],
   "source": [
    "import numpy as np\n",
    "from tqdm import tqdm\n",
    "import cupy as cp\n",
    "import heapq\n",
    "from collections import Counter\n",
    "from sklearn.metrics.pairwise import cosine_similarity\n",
    "from sklearn import datasets, model_selection\n",
    "mnist = datasets.fetch_mldata('MNIST original')\n",
    "\n",
    "data, target = mnist.data, mnist.target"
   ]
  },
  {
   "cell_type": "code",
   "execution_count": 2,
   "metadata": {},
   "outputs": [
    {
     "data": {
      "text/plain": [
       "((70000, 784), (70000,))"
      ]
     },
     "execution_count": 2,
     "metadata": {},
     "output_type": "execute_result"
    }
   ],
   "source": [
    "data.shape, target.shape"
   ]
  },
  {
   "cell_type": "code",
   "execution_count": 3,
   "metadata": {},
   "outputs": [
    {
     "name": "stdout",
     "output_type": "stream",
     "text": [
      "0.0\n",
      "1.0\n",
      "2.0\n",
      "3.0\n",
      "4.0\n",
      "5.0\n",
      "6.0\n",
      "7.0\n",
      "8.0\n",
      "9.0\n",
      "1.0\n",
      "2.0\n",
      "3.0\n",
      "4.0\n",
      "5.0\n",
      "6.0\n",
      "7.0\n",
      "8.0\n",
      "9.0\n"
     ]
    }
   ],
   "source": [
    "indices = [0, 5923, 12665, 18623, 24754, 30596, 36017, 41935, 48200, 54051, 10000, 18000, 22000, 25000, 35000, 38000, 43000, 49000, 55000]\n",
    "for i in indices:\n",
    "    print(target[i])"
   ]
  },
  {
   "cell_type": "code",
   "execution_count": 9,
   "metadata": {},
   "outputs": [],
   "source": [
    "# first make a function that takes in array and classifies it\n",
    "def classification(indx):\n",
    "    \"\"\"indx: index of datapoint in dataset to be classified\n",
    "    n: number of top values to compare\n",
    "    returns: top n most similar indexes\"\"\"\n",
    "    \n",
    "    dist = []\n",
    "    \n",
    "    for i in range(0, len(target)):\n",
    "        cpmr = [data[indx]]\n",
    "        cpmr.append(data[i])\n",
    "        cpmr = np.array(cpmr)\n",
    "        \n",
    "        cosim = cosine_similarity(cpmr)[0][1]\n",
    "        dist.append(cosim)\n",
    "    \n",
    "    dist = np.array(dist)\n",
    "    top = heapq.nlargest(5, range(len(dist)), dist.take)\n",
    "    \n",
    "    # top most similar index (excluding itself)\n",
    "    decision = target[top[1]]\n",
    "    \n",
    "    if(target[indx] == decision):\n",
    "        return decision, True\n",
    "    else:\n",
    "        return decision, False"
   ]
  },
  {
   "cell_type": "code",
   "execution_count": 16,
   "metadata": {},
   "outputs": [
    {
     "name": "stdout",
     "output_type": "stream",
     "text": [
      "CPU times: user 6.6 s, sys: 3.91 ms, total: 6.61 s\n",
      "Wall time: 6.63 s\n"
     ]
    }
   ],
   "source": [
    "%%time\n",
    "p = classification(18623)"
   ]
  },
  {
   "cell_type": "markdown",
   "metadata": {},
   "source": [
    "Great! So the basics are working, now we just need to figure out how to find the accuracy of this throughout the whole dataset..."
   ]
  },
  {
   "cell_type": "code",
   "execution_count": 20,
   "metadata": {},
   "outputs": [
    {
     "name": "stdout",
     "output_type": "stream",
     "text": [
      "0\n",
      "10\n",
      "20\n",
      "30\n",
      "40\n",
      "50\n",
      "60\n",
      "70\n",
      "80\n",
      "90\n",
      "CPU times: user 10min 52s, sys: 176 ms, total: 10min 53s\n",
      "Wall time: 10min 53s\n"
     ]
    }
   ],
   "source": [
    "%%time\n",
    "# now make a loop that uses above function to test and predict accuracy\n",
    "# just pick a random index and work with that.  if do enough over time will fall on all numbers\n",
    "correct = 0\n",
    "count = 0\n",
    "\n",
    "for i in range(0, 100):\n",
    "    indx = np.random.choice(target.shape[0])\n",
    "    pred = classification(indx)\n",
    "    \n",
    "    if(pred[1] == True):\n",
    "        correct += 1\n",
    "        count += 1\n",
    "    else:\n",
    "        count += 1\n",
    "        \n",
    "    if(i%10 == 0):\n",
    "        print(i)"
   ]
  },
  {
   "cell_type": "code",
   "execution_count": 21,
   "metadata": {},
   "outputs": [
    {
     "name": "stdout",
     "output_type": "stream",
     "text": [
      "correct\n",
      "\n",
      "count\n",
      "\n",
      "0.97\n"
     ]
    }
   ],
   "source": [
    "print(\"correct\")\n",
    "print(\"\\n\" + \"count\" + \"\\n\")\n",
    "print(correct/count)"
   ]
  },
  {
   "cell_type": "markdown",
   "metadata": {},
   "source": [
    "## optimize\n",
    "Now, I will start messing around with everything to see how I can optimize it all.  The above version, **version 1, takes 6 seconds per classification and takes about ten minutes to classify 100 digits.  V1 is very slow**."
   ]
  },
  {
   "cell_type": "code",
   "execution_count": 23,
   "metadata": {},
   "outputs": [
    {
     "name": "stdout",
     "output_type": "stream",
     "text": [
      "CPU times: user 486 ms, sys: 274 ms, total: 760 ms\n",
      "Wall time: 634 ms\n"
     ]
    },
    {
     "data": {
      "text/plain": [
       "array([[1.        , 0.87006533, 0.63943673, ..., 0.46985674, 0.49680307,\n",
       "        0.53896219]])"
      ]
     },
     "execution_count": 23,
     "metadata": {},
     "output_type": "execute_result"
    }
   ],
   "source": [
    "%%time\n",
    "cosine_similarity(np.array([data[0]]), data)"
   ]
  },
  {
   "cell_type": "markdown",
   "metadata": {},
   "source": [
    "note how this took an order of magnitude less time with this technique"
   ]
  },
  {
   "cell_type": "code",
   "execution_count": 98,
   "metadata": {},
   "outputs": [],
   "source": [
    "# try to optimize function\n",
    "def classif(indx, n):\n",
    "    \"\"\"indx: index of datapoint in dataset to be classified\n",
    "    n: number of top values to compare\n",
    "    returns: top n most similar indexes\"\"\"\n",
    "\n",
    "    dist = cosine_similarity(np.array([data[indx]]), data)\n",
    "    \n",
    "    top = heapq.nlargest((n+1), range(len(dist[0])), dist.take)\n",
    "    #take off the first value as that is its own\n",
    "    top = [target[i] for i in top[1:(n+1)]]\n",
    "    \n",
    "    mc = Counter(top)\n",
    "    # voting on value to return\n",
    "    return mc.most_common(1)[0][0]"
   ]
  },
  {
   "cell_type": "code",
   "execution_count": 107,
   "metadata": {},
   "outputs": [
    {
     "name": "stdout",
     "output_type": "stream",
     "text": [
      "CPU times: user 665 ms, sys: 248 ms, total: 913 ms\n",
      "Wall time: 699 ms\n"
     ]
    },
    {
     "data": {
      "text/plain": [
       "True"
      ]
     },
     "execution_count": 107,
     "metadata": {},
     "output_type": "execute_result"
    }
   ],
   "source": [
    "%%time\n",
    "classif(30596, 7) == target[30596]"
   ]
  },
  {
   "cell_type": "markdown",
   "metadata": {},
   "source": [
    "Find accuracy"
   ]
  },
  {
   "cell_type": "code",
   "execution_count": 100,
   "metadata": {},
   "outputs": [],
   "source": [
    "def get_acc(n, steps):\n",
    "    correct = 0\n",
    "    count = 0\n",
    "    #that way we can look and make sure it touched on all values\n",
    "    indxls = []\n",
    "    \n",
    "    for i in range(0, steps):\n",
    "        indx = np.random.choice(target.shape[0])\n",
    "        indxls.append(indx)\n",
    "        \n",
    "        pred = classif(indx, n)\n",
    "        \n",
    "        if(pred == target[indx]):\n",
    "            correct += 1\n",
    "            count += 1\n",
    "        else:\n",
    "            count += 1\n",
    "        \n",
    "        if(i%100 == 0):\n",
    "            print(str(i) + \" correct: \" + str(correct/count))\n",
    "    \n",
    "    return correct, count, (correct/count)"
   ]
  },
  {
   "cell_type": "code",
   "execution_count": 108,
   "metadata": {},
   "outputs": [
    {
     "name": "stdout",
     "output_type": "stream",
     "text": [
      "0 correct: 0.0\n",
      "CPU times: user 1min 42s, sys: 30.3 s, total: 2min 12s\n",
      "Wall time: 1min 8s\n"
     ]
    },
    {
     "data": {
      "text/plain": [
       "(97, 100, 0.97)"
      ]
     },
     "execution_count": 108,
     "metadata": {},
     "output_type": "execute_result"
    }
   ],
   "source": [
    "%%time\n",
    "get_acc(5, 100)"
   ]
  },
  {
   "cell_type": "markdown",
   "metadata": {},
   "source": [
    "**Version 2 (above) took about 1 minute, an order of magnitude faster than Version 1**"
   ]
  },
  {
   "cell_type": "code",
   "execution_count": 107,
   "metadata": {},
   "outputs": [
    {
     "name": "stdout",
     "output_type": "stream",
     "text": [
      "0 correct: 1.0\n",
      "100 correct: 0.9702970297029703\n",
      "200 correct: 0.9701492537313433\n",
      "300 correct: 0.9767441860465116\n",
      "400 correct: 0.9750623441396509\n",
      "500 correct: 0.9780439121756487\n",
      "600 correct: 0.9800332778702163\n",
      "700 correct: 0.9800285306704708\n",
      "800 correct: 0.9812734082397003\n",
      "900 correct: 0.9800221975582686\n",
      "CPU times: user 16min 34s, sys: 4min 54s, total: 21min 28s\n",
      "Wall time: 11min 18s\n"
     ]
    },
    {
     "data": {
      "text/plain": [
       "(979, 1000, 0.979)"
      ]
     },
     "execution_count": 107,
     "metadata": {},
     "output_type": "execute_result"
    }
   ],
   "source": [
    "%%time\n",
    "get_acc(6, 1000)"
   ]
  },
  {
   "cell_type": "code",
   "execution_count": 118,
   "metadata": {},
   "outputs": [
    {
     "name": "stdout",
     "output_type": "stream",
     "text": [
      "0 correct: 1.0\n",
      "100 correct: 0.9900990099009901\n",
      "200 correct: 0.9900497512437811\n",
      "300 correct: 0.9833887043189369\n",
      "400 correct: 0.9850374064837906\n",
      "500 correct: 0.9860279441117764\n",
      "600 correct: 0.9883527454242929\n",
      "700 correct: 0.985734664764622\n",
      "800 correct: 0.9862671660424469\n",
      "900 correct: 0.9866814650388457\n",
      "1000 correct: 0.988011988011988\n",
      "1100 correct: 0.9872842870118075\n",
      "1200 correct: 0.9866777685262281\n",
      "1300 correct: 0.9846272098385856\n",
      "1400 correct: 0.9857244825124911\n",
      "1500 correct: 0.9846768820786143\n",
      "1600 correct: 0.985633978763273\n",
      "1700 correct: 0.9841269841269841\n",
      "1800 correct: 0.9816768461965575\n",
      "1900 correct: 0.9810625986322988\n",
      "2000 correct: 0.9810094952523738\n",
      "2100 correct: 0.9804854831032842\n",
      "2200 correct: 0.9809177646524307\n",
      "2300 correct: 0.9817470664928292\n",
      "2400 correct: 0.9816743023740109\n",
      "2500 correct: 0.9804078368652539\n",
      "2600 correct: 0.98000768935025\n",
      "2700 correct: 0.9796371714179933\n",
      "2800 correct: 0.9796501249553731\n",
      "2900 correct: 0.9800068941744227\n",
      "3000 correct: 0.9803398867044318\n",
      "3100 correct: 0.9793614962915189\n",
      "3200 correct: 0.978756638550453\n",
      "3300 correct: 0.9784913662526508\n",
      "3400 correct: 0.9788297559541311\n",
      "3500 correct: 0.9791488146243931\n",
      "3600 correct: 0.9794501527353513\n",
      "3700 correct: 0.9800054039448798\n",
      "3800 correct: 0.9802683504340963\n",
      "3900 correct: 0.9802614714175852\n",
      "4000 correct: 0.9797550612346914\n",
      "4100 correct: 0.9795171909290417\n",
      "4200 correct: 0.980004760771245\n",
      "4300 correct: 0.9800046500813764\n",
      "4400 correct: 0.9800045444217224\n",
      "4500 correct: 0.9802266163074872\n",
      "4600 correct: 0.980656379048033\n",
      "4700 correct: 0.9804296958094022\n",
      "4800 correct: 0.9806290356175796\n",
      "4900 correct: 0.9808202407671903\n",
      "5000 correct: 0.981003799240152\n",
      "5100 correct: 0.9811801607527936\n",
      "5200 correct: 0.9809651990001923\n",
      "5300 correct: 0.9805697038294662\n",
      "5400 correct: 0.9803740048139233\n",
      "5500 correct: 0.9800036357025995\n",
      "5600 correct: 0.9801821103374397\n",
      "5700 correct: 0.9801789159796527\n",
      "5800 correct: 0.9803482158248578\n",
      "5900 correct: 0.9803423148618878\n",
      "6000 correct: 0.9800033327778703\n",
      "6100 correct: 0.9798393705949844\n",
      "6200 correct: 0.979519432349621\n",
      "6300 correct: 0.9798444691318838\n",
      "6400 correct: 0.9801593501015466\n",
      "6500 correct: 0.9801568989386248\n",
      "6600 correct: 0.9801545220421148\n",
      "6700 correct: 0.9798537531711685\n",
      "6800 correct: 0.9801499779444199\n",
      "6900 correct: 0.9801478046659904\n",
      "7000 correct: 0.9798600199971432\n",
      "7100 correct: 0.9798619912688353\n",
      "7200 correct: 0.9800027773920289\n",
      "7300 correct: 0.9801397068894672\n",
      "7400 correct: 0.9802729360897176\n",
      "7500 correct: 0.9804026129849354\n",
      "7600 correct: 0.9803973161426128\n",
      "7700 correct: 0.9805220101285548\n",
      "7800 correct: 0.9803871298551468\n",
      "7900 correct: 0.9803822300974561\n",
      "8000 correct: 0.9805024371953506\n",
      "8100 correct: 0.9803727934822861\n",
      "8200 correct: 0.9803682477746616\n",
      "8300 correct: 0.9806047464160944\n",
      "8400 correct: 0.9808356148077609\n",
      "8500 correct: 0.9807081519821198\n",
      "8600 correct: 0.9803511219625625\n",
      "8700 correct: 0.980462015860246\n",
      "8800 correct: 0.980343142824679\n",
      "8900 correct: 0.9802269407931693\n",
      "9000 correct: 0.9802244195089435\n",
      "9100 correct: 0.980221953631469\n",
      "9200 correct: 0.9800021736767742\n",
      "9300 correct: 0.9798946349854855\n",
      "9400 correct: 0.9798957557706627\n",
      "9500 correct: 0.9797916008841174\n",
      "9600 correct: 0.9797937714821373\n",
      "9700 correct: 0.9797958973301721\n",
      "9800 correct: 0.979695949392919\n",
      "9900 correct: 0.9798000201999798\n",
      "CPU times: user 1h 44min 4s, sys: 44min 38s, total: 2h 28min 42s\n",
      "Wall time: 1h 52min 54s\n"
     ]
    },
    {
     "data": {
      "text/plain": [
       "(9799, 10000, 0.9799)"
      ]
     },
     "execution_count": 118,
     "metadata": {},
     "output_type": "execute_result"
    }
   ],
   "source": [
    "%%time\n",
    "get_acc(7, 10000)"
   ]
  },
  {
   "cell_type": "markdown",
   "metadata": {},
   "source": [
    "So if this is anywhere faster than 10 minutes we know we have a good speedup.  And **Version 2 is much faster than Version 1**.\n",
    "\n",
    "\n",
    "**Next step is to see how little data this can work on**  Also speed up even more via vectorization and doing things like pre-picking the random index values\n",
    "\n",
    "Also do weighted voting and distance of matrices instead of vectors.  When it gets one wrong, return index of incorrect one.\n",
    "\n",
    "First below will start by trying to furthur optimize the cosine similarity by messing with entereing matrices and pre-picking random numbers.\n",
    "\n",
    "## Work towards vectorizing and optimizing even more"
   ]
  },
  {
   "cell_type": "code",
   "execution_count": 3,
   "metadata": {},
   "outputs": [
    {
     "data": {
      "text/plain": [
       "((70000, 784), (70000,))"
      ]
     },
     "execution_count": 3,
     "metadata": {},
     "output_type": "execute_result"
    }
   ],
   "source": [
    "data.shape, target.shape"
   ]
  },
  {
   "cell_type": "code",
   "execution_count": 7,
   "metadata": {},
   "outputs": [
    {
     "data": {
      "text/plain": [
       "[66201, 6093, 39272, 22214, 4028, 55381, 66627, 4710, 5307, 8157]"
      ]
     },
     "execution_count": 7,
     "metadata": {},
     "output_type": "execute_result"
    }
   ],
   "source": [
    "#choose n random indices\n",
    "random_indx = [np.random.choice(len(target)) for i in range(0, 1000)]\n",
    "random_indx[:10]"
   ]
  },
  {
   "cell_type": "markdown",
   "metadata": {},
   "source": [
    "Now need to make some matrix P with n random images chosen from data.  Can do the same thing for either matrix passed into cosine_similarity so as to choose the amount of data testing on."
   ]
  },
  {
   "cell_type": "code",
   "execution_count": 11,
   "metadata": {},
   "outputs": [
    {
     "data": {
      "text/plain": [
       "(1000, 784)"
      ]
     },
     "execution_count": 11,
     "metadata": {},
     "output_type": "execute_result"
    }
   ],
   "source": [
    "P = [data[i] for i in random_indx]\n",
    "P = np.array(P)\n",
    "P.shape"
   ]
  },
  {
   "cell_type": "code",
   "execution_count": 14,
   "metadata": {},
   "outputs": [
    {
     "data": {
      "text/plain": [
       "array([[1.        , 0.54208823],\n",
       "       [0.96013024, 0.73798737]])"
      ]
     },
     "execution_count": 14,
     "metadata": {},
     "output_type": "execute_result"
    }
   ],
   "source": [
    "# test how the output datastructure looks for cosine similarity between two matrices\n",
    "X = np.array([[3, 5, 2],\n",
    "             [4, 4, 1]])\n",
    "Y = np.array([[3, 5, 2],\n",
    "             [200, 10, 10]])\n",
    "cosine_similarity(X, Y)"
   ]
  },
  {
   "cell_type": "code",
   "execution_count": 30,
   "metadata": {},
   "outputs": [
    {
     "ename": "TypeError",
     "evalue": "unhashable type: 'list'",
     "output_type": "error",
     "traceback": [
      "\u001b[0;31m---------------------------------------------------------------------------\u001b[0m",
      "\u001b[0;31mTypeError\u001b[0m                                 Traceback (most recent call last)",
      "\u001b[0;32m<ipython-input-30-e4e9e0439427>\u001b[0m in \u001b[0;36m<module>\u001b[0;34m()\u001b[0m\n\u001b[1;32m      1\u001b[0m \u001b[0mZ\u001b[0m \u001b[0;34m=\u001b[0m \u001b[0;34m[\u001b[0m\u001b[0;34m[\u001b[0m\u001b[0;36m3\u001b[0m\u001b[0;34m,\u001b[0m \u001b[0;36m5\u001b[0m\u001b[0;34m,\u001b[0m \u001b[0;36m3\u001b[0m\u001b[0;34m]\u001b[0m\u001b[0;34m,\u001b[0m \u001b[0;34m[\u001b[0m\u001b[0;36m200\u001b[0m\u001b[0;34m,\u001b[0m \u001b[0;36m10\u001b[0m\u001b[0;34m,\u001b[0m \u001b[0;36m10\u001b[0m\u001b[0;34m]\u001b[0m\u001b[0;34m]\u001b[0m\u001b[0;34m\u001b[0m\u001b[0m\n\u001b[0;32m----> 2\u001b[0;31m \u001b[0mmc\u001b[0m \u001b[0;34m=\u001b[0m \u001b[0mCounter\u001b[0m\u001b[0;34m(\u001b[0m\u001b[0mZ\u001b[0m\u001b[0;34m)\u001b[0m\u001b[0;34m\u001b[0m\u001b[0m\n\u001b[0m\u001b[1;32m      3\u001b[0m \u001b[0mclassification\u001b[0m \u001b[0;34m=\u001b[0m \u001b[0mmc\u001b[0m\u001b[0;34m.\u001b[0m\u001b[0mmost_common\u001b[0m\u001b[0;34m(\u001b[0m\u001b[0;36m1\u001b[0m\u001b[0;34m)\u001b[0m\u001b[0;34m\u001b[0m\u001b[0m\n\u001b[1;32m      4\u001b[0m \u001b[0mclassification\u001b[0m\u001b[0;34m\u001b[0m\u001b[0m\n",
      "\u001b[0;32m~/anaconda3/lib/python3.6/collections/__init__.py\u001b[0m in \u001b[0;36m__init__\u001b[0;34m(*args, **kwds)\u001b[0m\n\u001b[1;32m    533\u001b[0m             \u001b[0;32mraise\u001b[0m \u001b[0mTypeError\u001b[0m\u001b[0;34m(\u001b[0m\u001b[0;34m'expected at most 1 arguments, got %d'\u001b[0m \u001b[0;34m%\u001b[0m \u001b[0mlen\u001b[0m\u001b[0;34m(\u001b[0m\u001b[0margs\u001b[0m\u001b[0;34m)\u001b[0m\u001b[0;34m)\u001b[0m\u001b[0;34m\u001b[0m\u001b[0m\n\u001b[1;32m    534\u001b[0m         \u001b[0msuper\u001b[0m\u001b[0;34m(\u001b[0m\u001b[0mCounter\u001b[0m\u001b[0;34m,\u001b[0m \u001b[0mself\u001b[0m\u001b[0;34m)\u001b[0m\u001b[0;34m.\u001b[0m\u001b[0m__init__\u001b[0m\u001b[0;34m(\u001b[0m\u001b[0;34m)\u001b[0m\u001b[0;34m\u001b[0m\u001b[0m\n\u001b[0;32m--> 535\u001b[0;31m         \u001b[0mself\u001b[0m\u001b[0;34m.\u001b[0m\u001b[0mupdate\u001b[0m\u001b[0;34m(\u001b[0m\u001b[0;34m*\u001b[0m\u001b[0margs\u001b[0m\u001b[0;34m,\u001b[0m \u001b[0;34m**\u001b[0m\u001b[0mkwds\u001b[0m\u001b[0;34m)\u001b[0m\u001b[0;34m\u001b[0m\u001b[0m\n\u001b[0m\u001b[1;32m    536\u001b[0m \u001b[0;34m\u001b[0m\u001b[0m\n\u001b[1;32m    537\u001b[0m     \u001b[0;32mdef\u001b[0m \u001b[0m__missing__\u001b[0m\u001b[0;34m(\u001b[0m\u001b[0mself\u001b[0m\u001b[0;34m,\u001b[0m \u001b[0mkey\u001b[0m\u001b[0;34m)\u001b[0m\u001b[0;34m:\u001b[0m\u001b[0;34m\u001b[0m\u001b[0m\n",
      "\u001b[0;32m~/anaconda3/lib/python3.6/collections/__init__.py\u001b[0m in \u001b[0;36mupdate\u001b[0;34m(*args, **kwds)\u001b[0m\n\u001b[1;32m    620\u001b[0m                     \u001b[0msuper\u001b[0m\u001b[0;34m(\u001b[0m\u001b[0mCounter\u001b[0m\u001b[0;34m,\u001b[0m \u001b[0mself\u001b[0m\u001b[0;34m)\u001b[0m\u001b[0;34m.\u001b[0m\u001b[0mupdate\u001b[0m\u001b[0;34m(\u001b[0m\u001b[0miterable\u001b[0m\u001b[0;34m)\u001b[0m \u001b[0;31m# fast path when counter is empty\u001b[0m\u001b[0;34m\u001b[0m\u001b[0m\n\u001b[1;32m    621\u001b[0m             \u001b[0;32melse\u001b[0m\u001b[0;34m:\u001b[0m\u001b[0;34m\u001b[0m\u001b[0m\n\u001b[0;32m--> 622\u001b[0;31m                 \u001b[0m_count_elements\u001b[0m\u001b[0;34m(\u001b[0m\u001b[0mself\u001b[0m\u001b[0;34m,\u001b[0m \u001b[0miterable\u001b[0m\u001b[0;34m)\u001b[0m\u001b[0;34m\u001b[0m\u001b[0m\n\u001b[0m\u001b[1;32m    623\u001b[0m         \u001b[0;32mif\u001b[0m \u001b[0mkwds\u001b[0m\u001b[0;34m:\u001b[0m\u001b[0;34m\u001b[0m\u001b[0m\n\u001b[1;32m    624\u001b[0m             \u001b[0mself\u001b[0m\u001b[0;34m.\u001b[0m\u001b[0mupdate\u001b[0m\u001b[0;34m(\u001b[0m\u001b[0mkwds\u001b[0m\u001b[0;34m)\u001b[0m\u001b[0;34m\u001b[0m\u001b[0m\n",
      "\u001b[0;31mTypeError\u001b[0m: unhashable type: 'list'"
     ]
    }
   ],
   "source": [
    "Z = [[3, 5, 3], [200, 10, 10]]\n",
    "mc = Counter(Z)\n",
    "classification = mc.most_common(1)\n",
    "classification"
   ]
  },
  {
   "cell_type": "code",
   "execution_count": 25,
   "metadata": {},
   "outputs": [
    {
     "data": {
      "text/plain": [
       "[[1, 0], [0, 1]]"
      ]
     },
     "execution_count": 25,
     "metadata": {},
     "output_type": "execute_result"
    }
   ],
   "source": [
    "top = [(heapq.nlargest(2, range(len(i)), i.take)) for i in Y]\n",
    "\n",
    "top"
   ]
  },
  {
   "cell_type": "code",
   "execution_count": 34,
   "metadata": {},
   "outputs": [],
   "source": [
    "def classif(indx, n):\n",
    "    \"\"\"indx: index of datapoint in dataset to be classified\n",
    "    n: number of top values to compare\n",
    "    returns: top n most similar indexes\"\"\"\n",
    "\n",
    "    dist = cosine_similarity(np.array([data[indx]]), data)\n",
    "    \n",
    "    top = heapq.nlargest((n+1), range(len(dist[0])), dist.take)\n",
    "    #take off the first value as that is its own\n",
    "    top = [target[i] for i in top[1:(n+1)]]\n",
    "    \n",
    "    mc = Counter(top)\n",
    "    # voting on value to return\n",
    "    return mc.most_common(1)[0][0]"
   ]
  },
  {
   "cell_type": "code",
   "execution_count": 45,
   "metadata": {},
   "outputs": [],
   "source": [
    "def most_common(lst):\n",
    "    return max(set(lst), key=lst.count)"
   ]
  },
  {
   "cell_type": "code",
   "execution_count": 47,
   "metadata": {},
   "outputs": [
    {
     "data": {
      "text/plain": [
       "8"
      ]
     },
     "execution_count": 47,
     "metadata": {},
     "output_type": "execute_result"
    }
   ],
   "source": [
    "x = np.random.randint(1, 10, (5000))\n",
    "x = list(x)\n",
    "most_common(x)"
   ]
  },
  {
   "cell_type": "code",
   "execution_count": 77,
   "metadata": {},
   "outputs": [],
   "source": [
    "def superclassif(comparisons, n):\n",
    "    correct = 0\n",
    "    count = 0\n",
    "    # classify all comparisons\n",
    "    random_indx = [np.random.choice(len(target)) for i in range(0, comparisons)]\n",
    "    X = [data[i] for i in random_indx]\n",
    "    X = np.array(X)\n",
    "    \n",
    "    # comparisons x size data structure\n",
    "    cosim = cosine_similarity(X, data)\n",
    "    \n",
    "    # get top n indices for each\n",
    "    top = [(heapq.nlargest((n), range(len(i)), i.take)) for i in cosim]\n",
    "    top = [[target[j] for j in i] for i in top[:(n)]]\n",
    "    \n",
    "    pred = [most_common(i) for i in top]\n",
    "    \n",
    "    correct_classification = [target[i] for i in random_indx]\n",
    "    \n",
    "    for i, j in pred, correct_classification:\n",
    "        if(i==j):\n",
    "            correct += 1\n",
    "            count += 1\n",
    "        else:\n",
    "            count += 1"
   ]
  },
  {
   "cell_type": "code",
   "execution_count": 55,
   "metadata": {},
   "outputs": [
    {
     "data": {
      "text/plain": [
       "[20097, 23328, 27054, 16216, 21490]"
      ]
     },
     "execution_count": 55,
     "metadata": {},
     "output_type": "execute_result"
    }
   ],
   "source": [
    "random_indx = [np.random.choice(len(target)) for i in range(0, 5)]\n",
    "random_indx"
   ]
  },
  {
   "cell_type": "code",
   "execution_count": 75,
   "metadata": {},
   "outputs": [
    {
     "data": {
      "text/plain": [
       "3.0"
      ]
     },
     "execution_count": 75,
     "metadata": {},
     "output_type": "execute_result"
    }
   ],
   "source": [
    "target[21490]"
   ]
  },
  {
   "cell_type": "code",
   "execution_count": 56,
   "metadata": {},
   "outputs": [
    {
     "data": {
      "text/plain": [
       "array([[0, 0, 0, ..., 0, 0, 0],\n",
       "       [0, 0, 0, ..., 0, 0, 0],\n",
       "       [0, 0, 0, ..., 0, 0, 0],\n",
       "       [0, 0, 0, ..., 0, 0, 0],\n",
       "       [0, 0, 0, ..., 0, 0, 0]], dtype=uint8)"
      ]
     },
     "execution_count": 56,
     "metadata": {},
     "output_type": "execute_result"
    }
   ],
   "source": [
    "X = [data[i] for i in random_indx]\n",
    "X = np.array(X)\n",
    "X"
   ]
  },
  {
   "cell_type": "code",
   "execution_count": 58,
   "metadata": {},
   "outputs": [
    {
     "data": {
      "text/plain": [
       "(5, 70000)"
      ]
     },
     "execution_count": 58,
     "metadata": {},
     "output_type": "execute_result"
    }
   ],
   "source": [
    "cosim = cosine_similarity(X, data)\n",
    "cosim.shape"
   ]
  },
  {
   "cell_type": "code",
   "execution_count": 92,
   "metadata": {},
   "outputs": [
    {
     "data": {
      "text/plain": [
       "[[20097, 63829, 21066, 21379, 63263, 21168],\n",
       " [23328, 21463, 23675, 19946, 23251, 22894],\n",
       " [27054, 64563, 24990, 25201, 64527, 26471],\n",
       " [16216, 62191, 19868, 12828, 16222, 18017],\n",
       " [21490, 22622, 23171, 19168, 22810, 20315]]"
      ]
     },
     "execution_count": 92,
     "metadata": {},
     "output_type": "execute_result"
    }
   ],
   "source": [
    "top = [(heapq.nlargest((6), range(len(i)), i.take)) for i in cosim]\n",
    "top"
   ]
  },
  {
   "cell_type": "code",
   "execution_count": 93,
   "metadata": {},
   "outputs": [
    {
     "data": {
      "text/plain": [
       "[[3.0, 3.0, 3.0, 3.0, 3.0],\n",
       " [3.0, 3.0, 3.0, 3.0, 3.0],\n",
       " [4.0, 4.0, 4.0, 4.0, 4.0],\n",
       " [2.0, 3.0, 2.0, 2.0, 2.0],\n",
       " [3.0, 3.0, 3.0, 3.0, 3.0]]"
      ]
     },
     "execution_count": 93,
     "metadata": {},
     "output_type": "execute_result"
    }
   ],
   "source": [
    "top = [[target[j] for j in i[1:6]] for i in top]\n",
    "top"
   ]
  },
  {
   "cell_type": "code",
   "execution_count": 94,
   "metadata": {},
   "outputs": [
    {
     "data": {
      "text/plain": [
       "[3.0, 3.0, 4.0, 2.0, 3.0]"
      ]
     },
     "execution_count": 94,
     "metadata": {},
     "output_type": "execute_result"
    }
   ],
   "source": [
    "pred = [most_common(i) for i in top]\n",
    "pred"
   ]
  },
  {
   "cell_type": "code",
   "execution_count": 95,
   "metadata": {},
   "outputs": [
    {
     "data": {
      "text/plain": [
       "[3.0, 3.0, 4.0, 2.0, 3.0]"
      ]
     },
     "execution_count": 95,
     "metadata": {},
     "output_type": "execute_result"
    }
   ],
   "source": [
    "correct_classification = [target[i] for i in random_indx]\n",
    "correct_classification"
   ]
  },
  {
   "cell_type": "code",
   "execution_count": 91,
   "metadata": {},
   "outputs": [
    {
     "name": "stdout",
     "output_type": "stream",
     "text": [
      "1.0\n"
     ]
    }
   ],
   "source": [
    "count = 0\n",
    "correct = 0\n",
    "for i, j in zip(pred, correct_classification):\n",
    "    if(i==j):\n",
    "        correct += 1\n",
    "        count += 1\n",
    "    else:\n",
    "        count += 1\n",
    "        \n",
    "print(correct/count)"
   ]
  },
  {
   "cell_type": "markdown",
   "metadata": {},
   "source": [
    "## Final\n",
    "This should be the final (optimized) version (version 3) coming from the work above, of course are always more way to optimize.\n",
    "\n",
    "I will now run again on 1,000 comparisons and see how it performs.  On last optimized version (version 2), it took about 10 minutes to run through 1,000."
   ]
  },
  {
   "cell_type": "code",
   "execution_count": 102,
   "metadata": {},
   "outputs": [],
   "source": [
    "def most_common(lst):\n",
    "    return max(set(lst), key=lst.count)\n",
    "\n",
    "def superclassif(comparisons, n):\n",
    "    \"\"\"comparisons: the number of numbers to test\n",
    "    n: number of top highest indices to vote on\n",
    "    returns: amount of correct predictions, total predictions, and percentage accuracy\"\"\"\n",
    "    correct = 0\n",
    "    count = 0\n",
    "    # classify all comparisons\n",
    "    random_indx = [np.random.choice(len(target)) for i in range(0, comparisons)]\n",
    "    X = [data[i] for i in random_indx]\n",
    "    X = np.array(X)\n",
    "    \n",
    "    # comparisons x size data structure\n",
    "    cosim = cosine_similarity(X, data)\n",
    "    \n",
    "    # get top n indices for each\n",
    "    top = [(heapq.nlargest((n+1), range(len(i)), i.take)) for i in cosim]\n",
    "    top = [[target[j] for j in i[1:(n+1)]] for i in top]\n",
    "    \n",
    "    pred = [most_common(i) for i in top]\n",
    "    \n",
    "    correct_classification = [target[i] for i in random_indx]\n",
    "    \n",
    "    for i, j in zip(pred, correct_classification):\n",
    "        if(i==j):\n",
    "            correct += 1\n",
    "            count += 1\n",
    "        else:\n",
    "            count += 1\n",
    "            \n",
    "    acc = (correct / count) * 100\n",
    "    \n",
    "    return correct, count, acc"
   ]
  },
  {
   "cell_type": "code",
   "execution_count": 105,
   "metadata": {},
   "outputs": [
    {
     "name": "stdout",
     "output_type": "stream",
     "text": [
      "CPU times: user 636 ms, sys: 271 ms, total: 906 ms\n",
      "Wall time: 673 ms\n"
     ]
    },
    {
     "data": {
      "text/plain": [
       "(1, 1, 100.0)"
      ]
     },
     "execution_count": 105,
     "metadata": {},
     "output_type": "execute_result"
    }
   ],
   "source": [
    "%%time\n",
    "superclassif(1, 6)"
   ]
  },
  {
   "cell_type": "code",
   "execution_count": 110,
   "metadata": {},
   "outputs": [
    {
     "name": "stdout",
     "output_type": "stream",
     "text": [
      "CPU times: user 4.8 s, sys: 297 ms, total: 5.1 s\n",
      "Wall time: 4.19 s\n"
     ]
    },
    {
     "data": {
      "text/plain": [
       "(96, 100, 96.0)"
      ]
     },
     "execution_count": 110,
     "metadata": {},
     "output_type": "execute_result"
    }
   ],
   "source": [
    "%%time\n",
    "superclassif(100, 5)"
   ]
  },
  {
   "cell_type": "markdown",
   "metadata": {},
   "source": [
    "**Version 3 (above) is even faster than version 1, classifying 100 samples in four seconds, far faster than Version 2 and Verison 1.  Note however, that Version 3 classifies one image in about the same time as Version 2.  This is because Version 3 is built to have a lot of images pushed through it at once, thus it is the same speed on the lower threshold of comparisons, but much faster on the upper threshhold.  If only singular comparisons were being made however, much could be done to Version 3 to make it faster on the lower threshold of comparisons.**"
   ]
  },
  {
   "cell_type": "code",
   "execution_count": 111,
   "metadata": {},
   "outputs": [
    {
     "name": "stdout",
     "output_type": "stream",
     "text": [
      "CPU times: user 40.4 s, sys: 458 ms, total: 40.9 s\n",
      "Wall time: 37.7 s\n"
     ]
    },
    {
     "data": {
      "text/plain": [
       "(978, 1000, 97.8)"
      ]
     },
     "execution_count": 111,
     "metadata": {},
     "output_type": "execute_result"
    }
   ],
   "source": [
    "%%time\n",
    "superclassif(1000, 6)"
   ]
  },
  {
   "cell_type": "markdown",
   "metadata": {},
   "source": [
    "What took Version 2 11 minutes to complete, and what would have taken Version 1 over 100 minutes to complete, was done in 37 seconds on Version 3!\n",
    "\n",
    "Below I will mess with the n parameter a bit and see how I can nudge more accuracy with adjusting that."
   ]
  },
  {
   "cell_type": "code",
   "execution_count": 112,
   "metadata": {},
   "outputs": [
    {
     "name": "stdout",
     "output_type": "stream",
     "text": [
      "CPU times: user 39.2 s, sys: 422 ms, total: 39.6 s\n",
      "Wall time: 36.1 s\n"
     ]
    },
    {
     "data": {
      "text/plain": [
       "(987, 1000, 98.7)"
      ]
     },
     "execution_count": 112,
     "metadata": {},
     "output_type": "execute_result"
    }
   ],
   "source": [
    "%%time\n",
    "superclassif(1000, 3)"
   ]
  },
  {
   "cell_type": "code",
   "execution_count": 113,
   "metadata": {},
   "outputs": [
    {
     "name": "stdout",
     "output_type": "stream",
     "text": [
      "CPU times: user 39.5 s, sys: 475 ms, total: 40 s\n",
      "Wall time: 36.7 s\n"
     ]
    },
    {
     "data": {
      "text/plain": [
       "(974, 1000, 97.39999999999999)"
      ]
     },
     "execution_count": 113,
     "metadata": {},
     "output_type": "execute_result"
    }
   ],
   "source": [
    "%%time\n",
    "superclassif(1000, 4)"
   ]
  },
  {
   "cell_type": "code",
   "execution_count": 114,
   "metadata": {},
   "outputs": [
    {
     "name": "stdout",
     "output_type": "stream",
     "text": [
      "CPU times: user 39.9 s, sys: 393 ms, total: 40.3 s\n",
      "Wall time: 36.8 s\n"
     ]
    },
    {
     "data": {
      "text/plain": [
       "(977, 1000, 97.7)"
      ]
     },
     "execution_count": 114,
     "metadata": {},
     "output_type": "execute_result"
    }
   ],
   "source": [
    "%%time\n",
    "superclassif(1000, 5)"
   ]
  },
  {
   "cell_type": "code",
   "execution_count": 115,
   "metadata": {},
   "outputs": [
    {
     "name": "stdout",
     "output_type": "stream",
     "text": [
      "CPU times: user 40.6 s, sys: 398 ms, total: 41 s\n",
      "Wall time: 37.5 s\n"
     ]
    },
    {
     "data": {
      "text/plain": [
       "(978, 1000, 97.8)"
      ]
     },
     "execution_count": 115,
     "metadata": {},
     "output_type": "execute_result"
    }
   ],
   "source": [
    "%%time\n",
    "superclassif(1000, 13)"
   ]
  },
  {
   "cell_type": "code",
   "execution_count": 116,
   "metadata": {},
   "outputs": [
    {
     "name": "stdout",
     "output_type": "stream",
     "text": [
      "CPU times: user 40.1 s, sys: 475 ms, total: 40.6 s\n",
      "Wall time: 37.3 s\n"
     ]
    },
    {
     "data": {
      "text/plain": [
       "(964, 1000, 96.39999999999999)"
      ]
     },
     "execution_count": 116,
     "metadata": {},
     "output_type": "execute_result"
    }
   ],
   "source": [
    "%%time\n",
    "superclassif(1000, 21)"
   ]
  },
  {
   "cell_type": "markdown",
   "metadata": {},
   "source": [
    "Looking at the results above, it would seem that smaller values of n do better than larget numbers, however the drop for larget numbers is not very steep.\n",
    "\n",
    "Now I will test on a large base of 10,000 with an n=3"
   ]
  },
  {
   "cell_type": "code",
   "execution_count": 117,
   "metadata": {},
   "outputs": [
    {
     "name": "stdout",
     "output_type": "stream",
     "text": [
      "CPU times: user 6min 30s, sys: 1.61 s, total: 6min 32s\n",
      "Wall time: 6min 4s\n"
     ]
    },
    {
     "data": {
      "text/plain": [
       "(9806, 10000, 98.06)"
      ]
     },
     "execution_count": 117,
     "metadata": {},
     "output_type": "execute_result"
    }
   ],
   "source": [
    "%%time\n",
    "superclassif(10000, 3)"
   ]
  },
  {
   "cell_type": "markdown",
   "metadata": {},
   "source": [
    "Once again, the optimized version is better having taken 6 minutes to classify 10,000 images instead of 1 hour 44 :)  Also note the higher 98% accuracy with n=3!\n",
    "\n",
    "## Next Steps\n",
    "Next I will a) see how this performs on less data, b) optimize even more"
   ]
  },
  {
   "cell_type": "code",
   "execution_count": null,
   "metadata": {},
   "outputs": [],
   "source": []
  },
  {
   "cell_type": "code",
   "execution_count": null,
   "metadata": {},
   "outputs": [],
   "source": []
  },
  {
   "cell_type": "code",
   "execution_count": null,
   "metadata": {},
   "outputs": [],
   "source": []
  },
  {
   "cell_type": "code",
   "execution_count": null,
   "metadata": {},
   "outputs": [],
   "source": []
  },
  {
   "cell_type": "code",
   "execution_count": null,
   "metadata": {},
   "outputs": [],
   "source": []
  },
  {
   "cell_type": "code",
   "execution_count": null,
   "metadata": {},
   "outputs": [],
   "source": []
  },
  {
   "cell_type": "code",
   "execution_count": null,
   "metadata": {},
   "outputs": [],
   "source": []
  },
  {
   "cell_type": "code",
   "execution_count": null,
   "metadata": {},
   "outputs": [],
   "source": []
  },
  {
   "cell_type": "code",
   "execution_count": null,
   "metadata": {},
   "outputs": [],
   "source": []
  },
  {
   "cell_type": "code",
   "execution_count": null,
   "metadata": {},
   "outputs": [],
   "source": []
  }
 ],
 "metadata": {
  "kernelspec": {
   "display_name": "Python [default]",
   "language": "python",
   "name": "python3"
  },
  "language_info": {
   "codemirror_mode": {
    "name": "ipython",
    "version": 3
   },
   "file_extension": ".py",
   "mimetype": "text/x-python",
   "name": "python",
   "nbconvert_exporter": "python",
   "pygments_lexer": "ipython3",
   "version": "3.6.4"
  }
 },
 "nbformat": 4,
 "nbformat_minor": 2
}
