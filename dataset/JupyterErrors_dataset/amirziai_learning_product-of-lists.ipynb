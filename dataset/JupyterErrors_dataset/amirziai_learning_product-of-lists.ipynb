{
 "cells": [
  {
   "cell_type": "markdown",
   "metadata": {},
   "source": [
    "# Product of lists\n",
    "TODO: Index accounting is incorrect"
   ]
  },
  {
   "cell_type": "code",
   "execution_count": 3,
   "metadata": {},
   "outputs": [],
   "source": [
    "from functools import reduce"
   ]
  },
  {
   "cell_type": "code",
   "execution_count": 4,
   "metadata": {},
   "outputs": [],
   "source": [
    "def product_naive(*xs):\n",
    "    o = []\n",
    "    lens = [len(x) for x in xs]\n",
    "    indices = [0] * len(xs)\n",
    "    current_pos = len(lens) - 1\n",
    "    \n",
    "    for _ in range(reduce(lambda x, y: x * y, lens)):\n",
    "        tmp = []\n",
    "        for i, ind in enumerate(indices):\n",
    "            tmp.append(xs[i][ind])\n",
    "        o.append(tuple(tmp))\n",
    "        if indices[current_pos] == lens[current_pos] - 1:\n",
    "            indices[current_pos] = 0\n",
    "            for i_inner in range(current_pos + 1, len(lens)):\n",
    "                indices[i_inner] = 0\n",
    "                \n",
    "            current_pos += 1\n",
    "            indices[current_pos] += 1\n",
    "        else:\n",
    "            indices[current_pos] += 1\n",
    "            \n",
    "    return o"
   ]
  },
  {
   "cell_type": "code",
   "execution_count": 5,
   "metadata": {},
   "outputs": [
    {
     "ename": "IndexError",
     "evalue": "list index out of range",
     "output_type": "error",
     "traceback": [
      "\u001b[0;31m---------------------------------------------------------------------------\u001b[0m",
      "\u001b[0;31mIndexError\u001b[0m                                Traceback (most recent call last)",
      "\u001b[0;32m<ipython-input-5-25d7e0ae4232>\u001b[0m in \u001b[0;36m<module>\u001b[0;34m()\u001b[0m\n\u001b[1;32m      6\u001b[0m ]\n\u001b[1;32m      7\u001b[0m [product_naive(*test_case) == list(product(*test_case))\n\u001b[0;32m----> 8\u001b[0;31m      for test_case in test_cases]\n\u001b[0m",
      "\u001b[0;32m<ipython-input-5-25d7e0ae4232>\u001b[0m in \u001b[0;36m<listcomp>\u001b[0;34m(.0)\u001b[0m\n\u001b[1;32m      6\u001b[0m ]\n\u001b[1;32m      7\u001b[0m [product_naive(*test_case) == list(product(*test_case))\n\u001b[0;32m----> 8\u001b[0;31m      for test_case in test_cases]\n\u001b[0m",
      "\u001b[0;32m<ipython-input-4-e2e81cedeab9>\u001b[0m in \u001b[0;36mproduct_naive\u001b[0;34m(*xs)\u001b[0m\n\u001b[1;32m     16\u001b[0m \u001b[0;34m\u001b[0m\u001b[0m\n\u001b[1;32m     17\u001b[0m             \u001b[0mcurrent_pos\u001b[0m \u001b[0;34m+=\u001b[0m \u001b[0;36m1\u001b[0m\u001b[0;34m\u001b[0m\u001b[0m\n\u001b[0;32m---> 18\u001b[0;31m             \u001b[0mindices\u001b[0m\u001b[0;34m[\u001b[0m\u001b[0mcurrent_pos\u001b[0m\u001b[0;34m]\u001b[0m \u001b[0;34m+=\u001b[0m \u001b[0;36m1\u001b[0m\u001b[0;34m\u001b[0m\u001b[0m\n\u001b[0m\u001b[1;32m     19\u001b[0m         \u001b[0;32melse\u001b[0m\u001b[0;34m:\u001b[0m\u001b[0;34m\u001b[0m\u001b[0m\n\u001b[1;32m     20\u001b[0m             \u001b[0mindices\u001b[0m\u001b[0;34m[\u001b[0m\u001b[0mcurrent_pos\u001b[0m\u001b[0;34m]\u001b[0m \u001b[0;34m+=\u001b[0m \u001b[0;36m1\u001b[0m\u001b[0;34m\u001b[0m\u001b[0m\n",
      "\u001b[0;31mIndexError\u001b[0m: list index out of range"
     ]
    }
   ],
   "source": [
    "test_cases = [\n",
    "    [[1, 2], [3, 4]],\n",
    "    [[1, 2], [3, 4], [5, 6]],\n",
    "    [[1, 2, 3], [4, 5, 6]],\n",
    "    [[1, 2, 3], [4, 5, 6], [7, 8, 9]]\n",
    "]\n",
    "[product_naive(*test_case) == list(product(*test_case))\n",
    "     for test_case in test_cases]"
   ]
  },
  {
   "cell_type": "code",
   "execution_count": null,
   "metadata": {},
   "outputs": [],
   "source": []
  }
 ],
 "metadata": {
  "anaconda-cloud": {},
  "kernelspec": {
   "display_name": "Python [default]",
   "language": "python",
   "name": "python3"
  },
  "language_info": {
   "codemirror_mode": {
    "name": "ipython",
    "version": 3
   },
   "file_extension": ".py",
   "mimetype": "text/x-python",
   "name": "python",
   "nbconvert_exporter": "python",
   "pygments_lexer": "ipython3",
   "version": "3.5.4"
  }
 },
 "nbformat": 4,
 "nbformat_minor": 2
}
