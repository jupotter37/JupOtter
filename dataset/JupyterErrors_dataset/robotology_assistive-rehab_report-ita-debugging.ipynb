{
 "cells": [
  {
   "cell_type": "code",
   "execution_count": 3,
   "metadata": {
    "scrolled": false
   },
   "outputs": [
    {
     "data": {
      "text/html": [
       "        <script type=\"text/javascript\">\n",
       "        window.PlotlyConfig = {MathJaxConfig: 'local'};\n",
       "        if (window.MathJax && window.MathJax.Hub && window.MathJax.Hub.Config) {window.MathJax.Hub.Config({SVG: {font: \"STIX-Web\"}});}\n",
       "        if (typeof require !== 'undefined') {\n",
       "        require.undef(\"plotly\");\n",
       "        requirejs.config({\n",
       "            paths: {\n",
       "                'plotly': ['https://cdn.plot.ly/plotly-2.18.0.min']\n",
       "            }\n",
       "        });\n",
       "        require(['plotly'], function(Plotly) {\n",
       "            window._Plotly = Plotly;\n",
       "        });\n",
       "        }\n",
       "        </script>\n",
       "        "
      ]
     },
     "metadata": {},
     "output_type": "display_data"
    }
   ],
   "source": [
    "#import libraries\n",
    "import warnings \n",
    "warnings.filterwarnings(\"ignore\",category=FutureWarning)\n",
    "warnings.filterwarnings(\"ignore\", message=\"numpy.dtype size changed\")\n",
    "import scipy.io as spio\n",
    "import scipy.signal\n",
    "import scipy.ndimage\n",
    "import numpy as np\n",
    "import matplotlib.pyplot as plt\n",
    "from mpl_toolkits.mplot3d import Axes3D\n",
    "from collections import namedtuple\n",
    "import math \n",
    "import re \n",
    "import pandas as pd\n",
    "import os\n",
    "import glob\n",
    "from os.path import expanduser\n",
    "import datetime\n",
    "import statistics as stats\n",
    "from plotly import __version__\n",
    "from plotly.offline import download_plotlyjs, init_notebook_mode, plot, iplot\n",
    "import plotly.graph_objs as go\n",
    "init_notebook_mode(connected=True)\n"
   ]
  },
  {
   "cell_type": "code",
   "execution_count": 4,
   "metadata": {
    "scrolled": false
   },
   "outputs": [],
   "source": [
    "def color_negative_red(val):\n",
    "    color = 'red' if val > 110 else 'black'\n",
    "    return 'color: %s' % color\n"
   ]
  },
  {
   "cell_type": "code",
   "execution_count": 5,
   "metadata": {
    "scrolled": false
   },
   "outputs": [],
   "source": [
    "class Keypoint:\n",
    "    tag = \"\"\n",
    "    parent = ['']\n",
    "    child = ['']\n",
    "    point = None\n",
    "\n",
    "    def __init__(self,tag=None,parent=None,child=None,point=None):\n",
    "        if tag is not None:            \n",
    "            self.tag = tag\n",
    "        if parent is not None:\n",
    "            self.parent = parent\n",
    "        if child is not None:\n",
    "            self.child = child\n",
    "        if point is not None:\n",
    "            self.point = point\n"
   ]
  },
  {
   "cell_type": "code",
   "execution_count": 6,
   "metadata": {
    "scrolled": false
   },
   "outputs": [],
   "source": [
    "class Skeleton:\n",
    "    keypoints = [Keypoint() for i in range(17)]\n",
    "    tag2id = {\n",
    "        \"shoulderCenter\" : 0,\n",
    "        \"head\" : 1,\n",
    "        \"shoulderLeft\" : 2,\n",
    "        \"elbowLeft\" : 3,\n",
    "        \"handLeft\" : 4,\n",
    "        \"shoulderRight\" : 5,\n",
    "        \"elbowRight\" : 6,\n",
    "        \"handRight\" : 7,\n",
    "        \"hipCenter\" : 8,\n",
    "        \"hipLeft\" : 9,\n",
    "        \"kneeLeft\" : 10,\n",
    "        \"ankleLeft\" : 11,\n",
    "        \"footLeft\" : 12,\n",
    "        \"hipRight\" : 13,\n",
    "        \"kneeRight\" : 14,\n",
    "        \"ankleRight\" : 15,\n",
    "        \"footRight\" : 16,\n",
    "    }\n",
    "    keypoints[tag2id[\"shoulderCenter\"]] = Keypoint(\"shoulderCenter\",[''],['head','shoulderLeft','shoulderRight','hipCenter'])\n",
    "    keypoints[tag2id[\"head\"]] = Keypoint(\"head\",['shoulderCenter'],[''])\n",
    "    keypoints[tag2id[\"shoulderLeft\"]] = Keypoint(\"shoulderLeft\",['shoulderCenter'],['elbowLeft'])\n",
    "    keypoints[tag2id[\"elbowLeft\"]] = Keypoint(\"elbowLeft\",['shoulderLeft'],['handLeft'])\n",
    "    keypoints[tag2id[\"handLeft\"]] = Keypoint(\"handLeft\",['elbowLeft'],[''])\n",
    "    keypoints[tag2id[\"shoulderRight\"]] = Keypoint(\"shoulderRight\",['shoulderCenter'],['elbowRight'])\n",
    "    keypoints[tag2id[\"elbowRight\"]] = Keypoint(\"elbowRight\",['shoulderRight'],['handRight'])\n",
    "    keypoints[tag2id[\"handRight\"]] = Keypoint(\"handRight\",['elbowRight'],[''])\n",
    "    keypoints[tag2id[\"hipCenter\"]] = Keypoint(\"hipCenter\",['shoulderCenter'],['hipLeft','hipRight'])\n",
    "    keypoints[tag2id[\"hipLeft\"]] = Keypoint(\"hipLeft\",['shoulderCenter'],['kneeLeft'])\n",
    "    keypoints[tag2id[\"kneeLeft\"]] = Keypoint(\"kneeLeft\",['hipLeft'],['ankleLeft'])\n",
    "    keypoints[tag2id[\"ankleLeft\"]] = Keypoint(\"ankleLeft\",['kneeLeft'],['footLeft'])\n",
    "    keypoints[tag2id[\"footLeft\"]] = Keypoint(\"footLeft\",['ankleLeft'],[''])\n",
    "    keypoints[tag2id[\"hipRight\"]] = Keypoint(\"hipRight\",['shoulderCenter'],['kneeRight'])\n",
    "    keypoints[tag2id[\"kneeRight\"]] = Keypoint(\"kneeRight\",['hipRight'],['ankleRight'])\n",
    "    keypoints[tag2id[\"ankleRight\"]] = Keypoint(\"ankleRight\",['kneeRight'],['footRight'])\n",
    "    keypoints[tag2id[\"footRight\"]] = Keypoint(\"footRight\",['ankleRight'],[''])\n",
    "\n",
    "    def __init__(self,keyp_map=None):\n",
    "        if keyp_map is not None:\n",
    "            for tag in keyp_map.keys():\n",
    "                self.keypoints[self.tag2id[tag]].point = keyp_map[tag] \n",
    "\n",
    "    def getKeypoint(self,keyp_tag):\n",
    "        return self.keypoints[self.tag2id[keyp_tag]].point\n",
    "\n",
    "    def getChild(self,keyp_tag):\n",
    "        return self.keypoints[self.tag2id[keyp_tag]].child\n",
    "\n",
    "    def getParent(self,keyp_tag):\n",
    "        return self.keypoints[self.tag2id[keyp_tag]].parent\n",
    "\n",
    "    def getTransformation(self):\n",
    "        sagittal = None\n",
    "        coronal = None\n",
    "        transverse = None\n",
    "        T = np.eye(4,4)\n",
    "        if self.getKeypoint(\"shoulderLeft\") is not None:\n",
    "            if self.getKeypoint(\"shoulderRight\") is not None:\n",
    "                sagittal = self.getKeypoint(\"shoulderLeft\")[0]-self.getKeypoint(\"shoulderRight\")[0]\n",
    "                sagittal = sagittal/np.linalg.norm(sagittal)\n",
    "        if self.getKeypoint(\"shoulderCenter\") is not None:\n",
    "            if self.getKeypoint(\"hipLeft\") is not None:\n",
    "                if self.getKeypoint(\"hipRight\") is not None:\n",
    "                    transverse = self.getKeypoint(\"shoulderCenter\")[0]-0.5*(self.getKeypoint(\"hipLeft\")[0]+self.getKeypoint(\"hipRight\")[0])\n",
    "                    transverse = transverse/np.linalg.norm(transverse)\n",
    "        if self.getKeypoint(\"shoulderCenter\") is not None:\n",
    "            pSC = self.getKeypoint(\"shoulderCenter\")[0]\n",
    "\n",
    "        if sagittal is not None:\n",
    "            if coronal is not None:\n",
    "                coronal = np.cross(sagittal,transverse)\n",
    "                T[0,0]=coronal[0]\n",
    "                T[1,0]=coronal[1]\n",
    "                T[2,0]=coronal[2]\n",
    "                T[0,1]=sagittal[0]\n",
    "                T[1,1]=sagittal[1]\n",
    "                T[2,1]=sagittal[2]\n",
    "                T[0,2]=transverse[0]\n",
    "                T[1,2]=transverse[1]\n",
    "                T[2,2]=transverse[2]\n",
    "                T[0,3]=pSC[0]\n",
    "                T[1,3]=pSC[1]\n",
    "                T[2,3]=pSC[2]\n",
    "                T[3,3]=1\n",
    "        return T\n",
    "\n",
    "    def show(self):\n",
    "        for i in range(len(self.keypoints)):\n",
    "            k = self.keypoints[i]\n",
    "            print(\"keypoint[\", k.tag, \"]\", \"=\", k.point)\n"
   ]
  },
  {
   "cell_type": "code",
   "execution_count": 7,
   "metadata": {
    "scrolled": false
   },
   "outputs": [],
   "source": [
    "class Exercise:\n",
    "    name = \"\"\n",
    "    typee = \"\"\n",
    "    metrics = []\n",
    "\n",
    "class Tug(Exercise):\n",
    "    name = \"tug\"\n",
    "    typee = \"test\"\n",
    "    metrics = [\"ROM_0\",\"ROM_1\",\"ROM_2\",\"ROM_3\",\"ROM_4\",\"ROM_5\",\"step_0\"]\n",
    "    result = []\n",
    "    month_res = {\n",
    "        0: [],\n",
    "        1: [],\n",
    "        2: [],\n",
    "        3: [],\n",
    "        4: [],\n",
    "        5: [],\n",
    "        6: [],\n",
    "        7: [],\n",
    "        8: [],\n",
    "        9: [],\n",
    "        10: [],\n",
    "        11: []\n",
    "    }\n",
    "\n",
    "    def __init__(self,month,result):\n",
    "        self.result = result\n",
    "        self.month_res[month] = result\n",
    "\n",
    "    def getResult(self,month):\n",
    "        return self.month_res[month]\n",
    "\n"
   ]
  },
  {
   "cell_type": "code",
   "execution_count": 8,
   "metadata": {
    "scrolled": false
   },
   "outputs": [],
   "source": [
    "class Metric:\n",
    "    name = ''\n",
    "\n",
    "    def __init__(self,name):\n",
    "        self.name = name\n",
    "\n",
    "\n",
    "class Step(Metric):\n",
    "    name = \"step\"\n",
    "    en_projection = False\n",
    "    medfilt = 1\n",
    "    step_thresh = 0.0\n",
    "    tstart = 0.0\n",
    "    tend = 0.0\n",
    "    step_length = []\n",
    "    step_width = []\n",
    "    step_distance = []\n",
    "    filtered_step_distance = []\n",
    "    strikes = []\n",
    "    nsteps = 0\n",
    "    cadence = 0.0\n",
    "    speed = 0.0\n",
    "    ex_time = 0.0\n",
    "    \n",
    "    def __init__(self,medfilt_window,en_projection,tstart,tend,step_thresh):\n",
    "\n",
    "        # scipy median filter requires odd kernel size\n",
    "        self.medfilt = int(medfilt_window)\n",
    "        if not (self.medfilt & 1):\n",
    "            self.medfilt = self.medfilt + 1\n",
    "\n",
    "        self.tstart = tstart\n",
    "        self.tend = tend\n",
    "        self.step_thresh = step_thresh\n",
    "        self.en_projection = en_projection\n",
    "\n",
    "    def compute(self,skeleton):\n",
    "        alj = skeleton.getKeypoint(\"ankleLeft\")\n",
    "        arj = skeleton.getKeypoint(\"ankleRight\")\n",
    "        ankles_diff = alj[:, :2] - arj[:, :2]\n",
    "\n",
    "        if self.en_projection:\n",
    "            if skeleton.getKeypoint(\"shoulderLeft\") is not None and skeleton.getKeypoint(\"shoulderRight\") is not None:\n",
    "                sagittal = skeleton.getKeypoint(\"shoulderLeft\")[0] - skeleton.getKeypoint(\"shoulderRight\")[0]\n",
    "                sagittal = sagittal / np.linalg.norm(sagittal)\n",
    "            for i in range(len(alj)):\n",
    "                v = alj[i,:] - arj[i,:]\n",
    "                dist = np.dot(v,np.transpose(sagittal))\n",
    "                v = v - dist * sagittal\n",
    "                self.step_distance.append(np.linalg.norm(v))\n",
    "                self.filtered_step_distance = scipy.signal.medfilt(self.step_distance,kernel_size=self.medfilt)\n",
    "        else:\n",
    "            # ankles_diff_filtered = scipy.ndimage.median_filter(ankles_diff, size = (self.medfilt, self.medfilt))\n",
    "            ankles_diff_filtered = scipy.signal.savgol_filter(ankles_diff, 20, 2, axis=0)\n",
    "            self.filtered_step_distance = np.linalg.norm(ankles_diff_filtered, axis=1)\n",
    "            self.step_distance = np.linalg.norm(ankles_diff, axis=1)\n",
    "\n",
    "            outliers_indices = np.where(np.abs(scipy.stats.zscore(self.filtered_step_distance)) > 3)[0]\n",
    "            self.filtered_step_distance[outliers_indices] = 0.0\n",
    "\n",
    "        #self.strikes = scipy.signal.find_peaks_cwt(self.filtered_step_distance, np.arange(1, 42), min_snr=1)\n",
    "        self.strikes,_ = scipy.signal.find_peaks(self.filtered_step_distance, height = self.step_thresh, distance = 10)\n",
    "        slen = self.filtered_step_distance[self.strikes]\n",
    "        self.step_length = stats.mean(slen)\n",
    "        self.step_width = np.fabs(ankles_diff)\n",
    "        self.nsteps = len(self.strikes)\n",
    "        self.cadence = self.nsteps / (self.tend - self.tstart)\n",
    "        self.speed = self.step_length * self.cadence\n",
    "        self.ex_time = self.tend - self.tstart\n"
   ]
  },
  {
   "cell_type": "code",
   "execution_count": 9,
   "metadata": {},
   "outputs": [],
   "source": [
    "class Metric:\n",
    "    name = ''\n",
    "\n",
    "    def __init__(self,name):\n",
    "        self.name = name\n",
    "\n",
    "\n",
    "class Step(Metric):\n",
    "    name = \"step\"\n",
    "    en_projection = False\n",
    "    medfilt = 1\n",
    "    step_thresh = 0.0\n",
    "    tstart = 0.0\n",
    "    tstanding = 0.0\n",
    "    tforward = 0.0\n",
    "    tturning = 0.0\n",
    "    tbackward = 0.0\n",
    "    tsitting = 0.0\n",
    "    tend = 0.0\n",
    "    step_length = []\n",
    "    step_width = []\n",
    "    step_distance = []\n",
    "    filtered_step_distance = []\n",
    "    strikes = []\n",
    "    nsteps = 0\n",
    "    cadence = 0.0\n",
    "    speed = 0.0\n",
    "    ex_time = 0.0\n",
    "    \n",
    "    def __init__(self,medfilt_window,en_projection,step_thresh):\n",
    "\n",
    "        # scipy median filter requires odd kernel size\n",
    "        self.medfilt = int(medfilt_window)\n",
    "        if not (self.medfilt & 1):\n",
    "            self.medfilt = self.medfilt + 1\n",
    "\n",
    "        self.step_thresh = step_thresh\n",
    "        self.en_projection = en_projection\n",
    "\n",
    "    def compute_timing(self, skeleton):\n",
    "        sc = skeleton.getKeypoint(\"shouldCenter\")\n",
    "        hc = skeleton.getKeypoint(\"hipCenter\")\n",
    "        alj = skeleton.getKeypoint(\"ankleLeft\")\n",
    "        arj = skeleton.getKeypoint(\"ankleRight\")\n",
    "\n",
    "        vel_hipCenter_x = scipy.signal.savgol_filter(hc, 20, 2, 1, axis=1)\n",
    "        vel_hipCenter_z = scipy.signal.savgol_filter(hc, 20, 2, 1, axis=2)\n",
    "        vel_ankleLeft_x = scipy.signal.savgol_filter(alj, 20, 2, 1, axis=1)\n",
    "        vel_ankleLeft_z = scipy.signal.savgol_filter(alj, 20, 2, 1, axis=2)\n",
    "        vel_ankleRight_x = scipy.signal.savgol_filter(arj, 20, 2, 1, axis=1)\n",
    "        vel_ankleRight_z = scipy.signal.savgol_filter(arj, 20, 2, 1, axis=2)\n",
    "\n",
    "    def compute(self,skeleton):\n",
    "        alj = skeleton.getKeypoint(\"ankleLeft\")\n",
    "        arj = skeleton.getKeypoint(\"ankleRight\")\n",
    "        ankles_diff = alj[:, :2] - arj[:, :2]\n",
    "\n",
    "        if self.en_projection:\n",
    "            if skeleton.getKeypoint(\"shoulderLeft\") is not None and skeleton.getKeypoint(\"shoulderRight\") is not None:\n",
    "                sagittal = skeleton.getKeypoint(\"shoulderLeft\")[0] - skeleton.getKeypoint(\"shoulderRight\")[0]\n",
    "                sagittal = sagittal / np.linalg.norm(sagittal)\n",
    "            for i in range(len(alj)):\n",
    "                v = alj[i,:] - arj[i,:]\n",
    "                dist = np.dot(v,np.transpose(sagittal))\n",
    "                v = v - dist * sagittal\n",
    "                self.step_distance.append(np.linalg.norm(v))\n",
    "                self.filtered_step_distance = scipy.signal.medfilt(self.step_distance,kernel_size=self.medfilt)\n",
    "        else:\n",
    "            # ankles_diff_filtered = scipy.ndimage.median_filter(ankles_diff, size = (self.medfilt, self.medfilt))\n",
    "            ankles_diff_filtered = scipy.signal.savgol_filter(ankles_diff, 20, 2, axis=0)\n",
    "            self.filtered_step_distance = np.linalg.norm(ankles_diff_filtered, axis=1)\n",
    "            self.step_distance = np.linalg.norm(ankles_diff, axis=1)\n",
    "\n",
    "            outliers_indices = np.where(np.abs(scipy.stats.zscore(self.filtered_step_distance)) > 3)[0]\n",
    "            self.filtered_step_distance[outliers_indices] = 0.0\n",
    "\n",
    "        #self.strikes = scipy.signal.find_peaks_cwt(self.filtered_step_distance, np.arange(1, 42), min_snr=1)\n",
    "        self.strikes,_ = scipy.signal.find_peaks(self.filtered_step_distance, height = self.step_thresh, distance = 10)\n",
    "        slen = self.filtered_step_distance[self.strikes]\n",
    "        self.step_length = stats.mean(slen)\n",
    "        self.step_width = np.fabs(ankles_diff)\n",
    "        self.nsteps = len(self.strikes)\n",
    "        self.cadence = self.nsteps / (self.tend - self.tstart)\n",
    "        self.speed = self.step_length * self.cadence\n",
    "        self.ex_time = self.tend - self.tstart\n"
   ]
  },
  {
   "cell_type": "code",
   "execution_count": 9,
   "metadata": {
    "scrolled": false
   },
   "outputs": [],
   "source": [
    "def loadmat(filename):\n",
    "    '''\n",
    "    this function should be called instead of direct spio.loadmat\n",
    "    as it cures the problem of not properly recovering python dictionaries\n",
    "    from mat files. It calls the function check keys to cure all entries\n",
    "    which are still mat-objects\n",
    "    '''\n",
    "    data = spio.loadmat(filename, struct_as_record=False, squeeze_me=True)\n",
    "    return _check_keys(data)\n",
    "\n",
    "def _check_keys(dict):\n",
    "    '''\n",
    "    checks if entries in dictionary are mat-objects. If yes\n",
    "    todict is called to change them to nested dictionaries\n",
    "    '''\n",
    "    for key in dict:\n",
    "        if isinstance(dict[key],  spio.matlab.mat_struct):\n",
    "            dict[key] = _todict(dict[key])\n",
    "    return dict        \n",
    "\n",
    "def _todict(matobj):\n",
    "    '''\n",
    "    A recursive function which constructs from matobjects nested dictionaries\n",
    "    '''\n",
    "    dict = {}\n",
    "    for strg in matobj._fieldnames:\n",
    "        elem = matobj.__dict__[strg]\n",
    "        if isinstance(elem, spio.matlab.mat_struct):\n",
    "            dict[strg] = _todict(elem)\n",
    "        else:\n",
    "            dict[strg] = elem\n",
    "    return dict\n"
   ]
  },
  {
   "cell_type": "markdown",
   "metadata": {},
   "source": [
    "\n",
    "## Dati anagrafici "
   ]
  },
  {
   "cell_type": "code",
   "execution_count": 10,
   "metadata": {
    "scrolled": false
   },
   "outputs": [
    {
     "data": {
      "text/html": [
       "<div>\n",
       "<style scoped>\n",
       "    .dataframe tbody tr th:only-of-type {\n",
       "        vertical-align: middle;\n",
       "    }\n",
       "\n",
       "    .dataframe tbody tr th {\n",
       "        vertical-align: top;\n",
       "    }\n",
       "\n",
       "    .dataframe thead th {\n",
       "        text-align: right;\n",
       "    }\n",
       "</style>\n",
       "<table border=\"1\" class=\"dataframe\">\n",
       "  <thead>\n",
       "    <tr style=\"text-align: right;\">\n",
       "      <th></th>\n",
       "      <th>Paziente</th>\n",
       "    </tr>\n",
       "  </thead>\n",
       "  <tbody>\n",
       "    <tr>\n",
       "      <th>Nome</th>\n",
       "      <td>002</td>\n",
       "    </tr>\n",
       "    <tr>\n",
       "      <th>Cognome</th>\n",
       "      <td></td>\n",
       "    </tr>\n",
       "    <tr>\n",
       "      <th>Età</th>\n",
       "      <td></td>\n",
       "    </tr>\n",
       "  </tbody>\n",
       "</table>\n",
       "</div>"
      ],
      "text/plain": [
       "        Paziente\n",
       "Nome         002\n",
       "Cognome         \n",
       "Età             "
      ]
     },
     "metadata": {},
     "output_type": "display_data"
    }
   ],
   "source": [
    "\n",
    "#load file \n",
    "home = expanduser(\"~\")\n",
    "id_patient = 'datadump-FDG-002-20230208-mr'\n",
    "pth = home + '/dev_iit/assistive-rehab/data_exp/'+ id_patient\n",
    "files = glob.glob(os.path.join(pth, '*.mat'))\n",
    "lastfile = max(files, key=os.path.getctime)\n",
    "\n",
    "#print personal data\n",
    "i = [pos for pos, char in enumerate(lastfile) if char == \"-\"]\n",
    "i1 = i[-3]\n",
    "i2 = i[-2]\n",
    "name = lastfile[i1+1:i2]\n",
    "surname = \"\"\n",
    "age = \"\"\n",
    "\n",
    "personaldata = []\n",
    "personaldata.append(name)\n",
    "personaldata.append(surname)\n",
    "personaldata.append(age)        \n",
    "table = pd.DataFrame(personaldata) \n",
    "table.rename(index={0:\"Nome\",1:\"Cognome\",2:\"Età\"},  columns={0:\"Paziente\"}, inplace=True)\n",
    "display(table) "
   ]
  },
  {
   "cell_type": "code",
   "execution_count": 11,
   "metadata": {
    "scrolled": false
   },
   "outputs": [],
   "source": [
    "\n",
    "data = []\n",
    "ctime = []\n",
    "filename = []\n",
    "tagex = []\n",
    "files.sort(key=os.path.getctime)\n",
    "for fi in files:\n",
    "    i = [pos for pos, char in enumerate(fi) if char == \"-\"]\n",
    "    i1 = i[-3]\n",
    "    i2 = i[-2]\n",
    "    i3 = i[-1]\n",
    "    namei = fi[i1+1:i2]\n",
    "    if namei == name:\n",
    "        filename.append(fi)\n",
    "        data.append(loadmat(fi)) #data.append(scipy.io.loadmat(fi))\n",
    "        tagex.append(fi[i2+1:i3])\n",
    "        ctime.append(os.path.getctime(fi))   "
   ]
  },
  {
   "cell_type": "code",
   "execution_count": 12,
   "metadata": {
    "scrolled": false
   },
   "outputs": [],
   "source": [
    "time = []\n",
    "month = []\n",
    "exercises = []\n",
    "ex_names = []\n",
    "#count how many exercise of the same type were performed at that month\n",
    "countexmonth = {\n",
    "    \"tug\" : [0,0,0,0,0,0,0,0,0,0,0,0]\n",
    "}\n",
    "\n",
    "for i in range(len(data)):\n",
    "\n",
    "    datai = data[i]\n",
    "    time.append(datai['Time_samples'])\n",
    "    monthi = datetime.date.fromtimestamp(ctime[i]).month-1\n",
    "    month.append(monthi)\n",
    "    shoulderCenter = datai['Keypoints']['shoulderCenter']\n",
    "    head = datai['Keypoints']['head']\n",
    "    shoulderLeft = datai['Keypoints']['shoulderLeft']\n",
    "    shoulderRight = datai['Keypoints']['shoulderRight']\n",
    "    elbowLeft = datai['Keypoints']['elbowLeft']\n",
    "    handLeft = datai['Keypoints']['handLeft']\n",
    "    elbowRight = datai['Keypoints']['elbowRight']\n",
    "    handRight = datai['Keypoints']['handRight']\n",
    "    hipLeft = datai['Keypoints']['hipLeft']\n",
    "    hipRight = datai['Keypoints']['hipRight']\n",
    "    ankleLeft = datai['Keypoints']['ankleLeft']\n",
    "    ankleRight = datai['Keypoints']['ankleRight']\n",
    "    kneeLeft = datai['Keypoints']['kneeLeft']\n",
    "    kneeRight = datai['Keypoints']['kneeRight']\n",
    "    footLeft = datai['Keypoints']['footLeft']\n",
    "    footRight = datai['Keypoints']['footRight']\n",
    "    hipCenter = datai['Keypoints']['hipCenter']\n",
    "\n",
    "    key_pam = {\n",
    "        \"shoulderCenter\" : shoulderCenter,\n",
    "        \"head\" : head,\n",
    "        \"shoulderLeft\" : shoulderLeft,\n",
    "        \"shoulderRight\" : shoulderRight,\n",
    "        \"elbowLeft\" : elbowLeft,\n",
    "        \"handLeft\" : handLeft,\n",
    "        \"elbowRight\" : elbowRight,\n",
    "        \"handRight\" : handRight,\n",
    "        \"hipLeft\" : hipLeft,\n",
    "        \"hipRight\" : hipRight,\n",
    "        \"ankleLeft\" : ankleLeft,\n",
    "        \"ankleRight\" : ankleRight,\n",
    "        \"kneeLeft\" : kneeLeft,\n",
    "        \"kneeRight\" : kneeRight,\n",
    "        \"footLeft\" : footLeft,\n",
    "        \"footRight\" : footRight,\n",
    "        \"hipCenter\" : hipCenter\n",
    "    }\n",
    "    s=Skeleton(key_pam)\n",
    "    #s.show()\n",
    "\n",
    "    exname = datai[\"Exercise\"][\"name\"]\n",
    "    exname = re.sub(r'[^\\w]','',exname)\n",
    "    ex_names.append(exname)\n",
    "    result_singleexercise = []\n",
    "    allmet = datai[\"Exercise\"][\"metrics\"]\n",
    "    metrics = allmet.keys()\n",
    "    for metname in metrics:\n",
    "\n",
    "        if \"step\" in metname:\n",
    "            flt = allmet[metname][\"median_filter_window\"]\n",
    "            proj = allmet[metname][\"enable_plane_projection\"]\n",
    "            proj = False\n",
    "            tstart = allmet[metname][\"tstart\"]\n",
    "            tend = allmet[metname][\"tend\"]\n",
    "            step_thresh = allmet[metname][\"step_thresh\"]\n",
    "            step = Step(flt,proj,tstart,tend,step_thresh)\n",
    "            step.compute(s)\n",
    "            stepmet = [step.step_distance, step.nsteps, step.cadence, step.speed, step.ex_time,\n",
    "                       step.filtered_step_distance, step.strikes, step.step_width, step.step_length]\n",
    "            result_singleexercise.append((step,stepmet))\n",
    "\n",
    "\n",
    "    if exname == \"tug\":\n",
    "        ex = Tug(monthi,result_singleexercise)\n",
    "\n",
    "    countexmonth[exname][monthi] = 1 + countexmonth[exname][monthi]\n",
    "\n",
    "    exercises.append(ex)   "
   ]
  },
  {
   "cell_type": "code",
   "execution_count": 13,
   "metadata": {},
   "outputs": [
    {
     "data": {
      "text/plain": [
       "276.87239241600037"
      ]
     },
     "execution_count": 13,
     "metadata": {},
     "output_type": "execute_result"
    }
   ],
   "source": [
    "time[0][0]"
   ]
  },
  {
   "cell_type": "code",
   "execution_count": 14,
   "metadata": {},
   "outputs": [
    {
     "data": {
      "text/plain": [
       "array([[-5.70641829e-01,  2.94318713e-01,  9.82976553e-01],\n",
       "       [-5.61625400e-01,  2.93720468e-01,  9.69396759e-01],\n",
       "       [-5.61593561e-01,  2.93583246e-01,  9.78265678e-01],\n",
       "       [-5.69742587e-01,  2.89779798e-01,  9.56580846e-01],\n",
       "       [-5.69715011e-01,  2.89661771e-01,  9.65446336e-01],\n",
       "       [-5.70172904e-01,  2.91976618e-01,  9.79029764e-01],\n",
       "       [-5.62177366e-01,  2.96500591e-01,  9.66116878e-01],\n",
       "       [-5.71167562e-01,  2.96947485e-01,  9.78936220e-01],\n",
       "       [-5.62983011e-01,  3.00606552e-01,  9.90203209e-01],\n",
       "       [-5.63018987e-01,  3.00761604e-01,  9.81323299e-01],\n",
       "       [-5.70641829e-01,  2.94318713e-01,  9.82976553e-01],\n",
       "       [-5.70641829e-01,  2.94318713e-01,  9.82976553e-01],\n",
       "       [-5.71637281e-01,  2.99293611e-01,  9.82899524e-01],\n",
       "       [-5.64023592e-01,  3.05851849e-01,  9.91710606e-01],\n",
       "       [-5.64023592e-01,  3.05851849e-01,  9.91710606e-01],\n",
       "       [-5.71600517e-01,  2.99136259e-01,  9.91779856e-01],\n",
       "       [-5.70641829e-01,  2.94318713e-01,  9.82976553e-01],\n",
       "       [-5.70641829e-01,  2.94318713e-01,  9.82976553e-01],\n",
       "       [-5.62084450e-01,  2.96056310e-01,  9.82976553e-01],\n",
       "       [-5.62084450e-01,  2.96056310e-01,  9.82976553e-01],\n",
       "       [-5.62047902e-01,  2.95898793e-01,  9.91849106e-01],\n",
       "       [-5.61096678e-01,  2.91080128e-01,  9.83053578e-01],\n",
       "       [-5.60108905e-01,  2.86103947e-01,  9.83130603e-01],\n",
       "       [-5.68241259e-01,  2.82301130e-01,  9.71102784e-01],\n",
       "       [-5.61624627e-01,  2.93716534e-01,  9.69372505e-01],\n",
       "       [-5.62126253e-01,  2.96240092e-01,  9.64588744e-01],\n",
       "       [-5.61166349e-01,  2.91384627e-01,  9.55816965e-01],\n",
       "       [-5.61166349e-01,  2.91384627e-01,  9.55816965e-01],\n",
       "       [-5.67699981e-01,  2.79590049e-01,  9.64869260e-01],\n",
       "       [-5.51296587e-01,  2.41663337e-01,  9.56829732e-01],\n",
       "       [-5.38856106e-01,  1.78961196e-01,  9.40391321e-01],\n",
       "       [-5.17814312e-01,  3.02037879e-02,  9.26418272e-01],\n",
       "       [-4.77722983e-01, -9.82088643e-02,  9.29889739e-01],\n",
       "       [-4.77722983e-01, -9.82088643e-02,  9.29889739e-01],\n",
       "       [-4.64957797e-01, -1.45874384e-01,  9.46682550e-01],\n",
       "       [-4.51864512e-01, -1.94284859e-01,  9.61774171e-01],\n",
       "       [-4.40188157e-01, -2.22384999e-01,  1.04170362e+00],\n",
       "       [-4.19944068e-01, -2.63620349e-01,  1.13527339e+00],\n",
       "       [-4.17556631e-01, -3.25925043e-01,  1.17238177e+00],\n",
       "       [-4.04650233e-01, -3.73348115e-01,  1.17413960e+00],\n",
       "       [-3.96038942e-01, -4.78577480e-01,  1.20010454e+00],\n",
       "       [-3.91320926e-01, -6.01433371e-01,  1.20847724e+00],\n",
       "       [-3.63922411e-01, -7.01871005e-01,  1.21494119e+00],\n",
       "       [-3.42573667e-01, -8.09401917e-01,  1.22796039e+00],\n",
       "       [-3.11146398e-01, -9.28414413e-01,  1.22069989e+00],\n",
       "       [-2.81661367e-01, -1.05068610e+00,  1.19831262e+00],\n",
       "       [-2.46640719e-01, -1.17283787e+00,  1.19742075e+00],\n",
       "       [-2.12804297e-01, -1.29851027e+00,  1.20785884e+00],\n",
       "       [-1.88984630e-01, -1.42152915e+00,  1.21635805e+00],\n",
       "       [-1.54003925e-01, -1.54097234e+00,  1.20385364e+00],\n",
       "       [-1.33791152e-01, -1.67945531e+00,  1.16142395e+00],\n",
       "       [-1.09920589e-01, -1.82174533e+00,  1.16313594e+00],\n",
       "       [-9.56532074e-02, -1.96916010e+00,  1.16738800e+00],\n",
       "       [-6.88164560e-02, -2.10802319e+00,  1.16565991e+00],\n",
       "       [-1.36385492e-02, -2.35683317e+00,  1.16107608e+00],\n",
       "       [ 2.44469199e-02, -2.48364474e+00,  1.13840576e+00],\n",
       "       [ 2.44469199e-02, -2.48364474e+00,  1.13840576e+00],\n",
       "       [ 5.17051763e-02, -2.56533284e+00,  1.13172742e+00],\n",
       "       [ 9.78122167e-02, -2.67928356e+00,  1.13896422e+00],\n",
       "       [ 1.37799288e-01, -2.88978819e+00,  1.12970373e+00],\n",
       "       [ 1.37799288e-01, -2.88978819e+00,  1.12970373e+00],\n",
       "       [ 1.54173071e-01, -3.03388551e+00,  1.12063370e+00],\n",
       "       [ 2.20024855e-01, -3.25049626e+00,  1.14006097e+00],\n",
       "       [ 2.20024855e-01, -3.25049626e+00,  1.14006097e+00],\n",
       "       [ 2.72729308e-01, -3.37517601e+00,  1.15516142e+00],\n",
       "       [ 3.00865749e-01, -3.36880973e+00,  1.14507272e+00],\n",
       "       [ 3.18614467e-01, -3.34071223e+00,  1.12888384e+00],\n",
       "       [ 3.18614467e-01, -3.34071223e+00,  1.12888384e+00],\n",
       "       [ 3.27095412e-01, -3.29762760e+00,  1.12492914e+00],\n",
       "       [ 3.31546460e-01, -3.23358056e+00,  1.11831164e+00],\n",
       "       [ 3.48161101e-01, -3.16705397e+00,  1.11803032e+00],\n",
       "       [ 3.74228663e-01, -3.07039399e+00,  1.11964088e+00],\n",
       "       [ 3.86918978e-01, -2.96177973e+00,  1.11811484e+00],\n",
       "       [ 3.67582205e-01, -2.74790312e+00,  1.16297254e+00],\n",
       "       [ 3.43174472e-01, -2.64146177e+00,  1.16579169e+00],\n",
       "       [ 3.43174472e-01, -2.64146177e+00,  1.16579169e+00],\n",
       "       [ 2.73030370e-01, -2.42530411e+00,  1.14414868e+00],\n",
       "       [ 2.73030370e-01, -2.42530411e+00,  1.14414868e+00],\n",
       "       [ 2.37459090e-01, -2.29093896e+00,  1.15526442e+00],\n",
       "       [ 2.03797714e-01, -2.16275380e+00,  1.19512369e+00],\n",
       "       [ 1.57441815e-01, -2.04041615e+00,  1.20615571e+00],\n",
       "       [ 9.66392865e-02, -1.89711892e+00,  1.18784193e+00],\n",
       "       [ 6.03714995e-02, -1.76093693e+00,  1.18100027e+00],\n",
       "       [ 2.43987916e-02, -1.61933162e+00,  1.21235254e+00],\n",
       "       [-7.70567648e-04, -1.50316356e+00,  1.24021112e+00],\n",
       "       [-2.19669070e-02, -1.38131771e+00,  1.26125957e+00],\n",
       "       [-6.57841663e-02, -1.23093151e+00,  1.24362327e+00],\n",
       "       [-8.73942334e-02, -1.11391233e+00,  1.23892072e+00],\n",
       "       [-1.12901010e-01, -1.00510632e+00,  1.22939540e+00],\n",
       "       [-1.56398410e-01, -8.76428629e-01,  1.25625772e+00],\n",
       "       [-2.04046015e-01, -7.78815129e-01,  1.27528245e+00],\n",
       "       [-2.60221328e-01, -7.13655823e-01,  1.29752496e+00],\n",
       "       [-3.12489152e-01, -6.32200647e-01,  1.30250639e+00],\n",
       "       [-3.61974927e-01, -5.32927303e-01,  1.30053007e+00],\n",
       "       [-3.98113563e-01, -4.42279817e-01,  1.31765962e+00],\n",
       "       [-4.22528532e-01, -4.06459618e-01,  1.30793737e+00],\n",
       "       [-4.53493292e-01, -3.58848370e-01,  1.30643199e+00],\n",
       "       [-4.71452004e-01, -2.85616594e-01,  1.26412693e+00],\n",
       "       [-4.99839089e-01, -2.42675255e-01,  1.22404183e+00],\n",
       "       [-5.38791081e-01, -2.20513164e-01,  1.19875171e+00],\n",
       "       [-5.35991927e-01, -1.88040228e-01,  1.14394061e+00],\n",
       "       [-5.52219777e-01, -1.62697589e-01,  1.04453642e+00],\n",
       "       [-5.28680539e-01, -1.31737926e-01,  9.77273494e-01],\n",
       "       [-5.07417149e-01, -1.10752469e-01,  9.56943860e-01],\n",
       "       [-5.07552600e-01, -8.64313218e-02,  9.34759849e-01],\n",
       "       [-4.99012538e-01, -6.37548949e-02,  9.31151429e-01],\n",
       "       [-5.09737981e-01,  3.23184444e-02,  9.67252314e-01],\n",
       "       [-5.23632791e-01,  1.02321032e-01,  9.68235432e-01],\n",
       "       [-5.39878448e-01,  1.40529934e-01,  9.58855272e-01],\n",
       "       [-5.42386005e-01,  1.96794366e-01,  9.66458841e-01],\n",
       "       [-5.42386005e-01,  1.96794366e-01,  9.66458841e-01],\n",
       "       [-5.53243186e-01,  2.51489741e-01,  9.65430284e-01],\n",
       "       [-5.56231492e-01,  2.66524101e-01,  9.56323346e-01],\n",
       "       [-5.55244492e-01,  2.61551853e-01,  9.56424625e-01],\n",
       "       [-5.57244267e-01,  2.71627505e-01,  9.56985953e-01],\n",
       "       [-5.57244267e-01,  2.71627505e-01,  9.56985953e-01],\n",
       "       [-5.57675856e-01,  2.73823610e-01,  9.69753366e-01],\n",
       "       [-5.57108819e-01,  2.71016865e-01,  9.92195347e-01],\n",
       "       [-5.65664711e-01,  2.69444937e-01,  9.83361686e-01],\n",
       "       [-5.61645978e-01,  2.49387377e-01,  9.92472341e-01],\n",
       "       [-5.53157534e-01,  2.51111227e-01,  9.92472341e-01],\n",
       "       [-5.62678402e-01,  2.54520482e-01,  9.83592770e-01],\n",
       "       [-5.55169902e-01,  2.61222328e-01,  9.83515741e-01],\n",
       "       [-5.55169902e-01,  2.61222328e-01,  9.83515741e-01]])"
      ]
     },
     "execution_count": 14,
     "metadata": {},
     "output_type": "execute_result"
    }
   ],
   "source": [
    "s.keypoints[0].point"
   ]
  },
  {
   "cell_type": "code",
   "execution_count": 15,
   "metadata": {},
   "outputs": [
    {
     "data": {
      "image/png": "[encoded data removed]",
      "text/plain": [
       "<Figure size 640x480 with 1 Axes>"
      ]
     },
     "metadata": {},
     "output_type": "display_data"
    }
   ],
   "source": [
    "s.keypoints[0].point[:,0]\n",
    "import matplotlib.pyplot as plt\n",
    "plt.plot(s.keypoints[0].point[:,0], s.keypoints[0].point[:,1])\n",
    "plt.ylabel('some numbers')\n",
    "plt.show()"
   ]
  },
  {
   "cell_type": "code",
   "execution_count": 16,
   "metadata": {},
   "outputs": [],
   "source": [
    "def compute_timing(skeleton, tag):\n",
    "        sc = skeleton.getKeypoint(tag)\n",
    "\n",
    "        win=10\n",
    "        poly_ord=2\n",
    "        dev_ord=1\n",
    "\n",
    "        acc_x = scipy.signal.savgol_filter(sc[:,0], win, poly_ord, 2, delta = time[0][1]-time[0][0], axis=0)\n",
    "        acc_y = scipy.signal.savgol_filter(sc[:,1], win, poly_ord, 2, delta = time[0][1]-time[0][0], axis=0)\n",
    "        acc_z = scipy.signal.savgol_filter(sc[:,2], win, poly_ord, 2, delta = time[0][1]-time[0][0], axis=0)\n",
    "        vel_x = scipy.signal.savgol_filter(sc[:,0], win, poly_ord, dev_ord, delta = time[0][1]-time[0][0], axis=0)\n",
    "        vel_y = scipy.signal.savgol_filter(sc[:,1], win, poly_ord, dev_ord, delta = time[0][1]-time[0][0], axis=0)\n",
    "        vel_z = scipy.signal.savgol_filter(sc[:,2], win, poly_ord, dev_ord, delta = time[0][1]-time[0][0], axis=0)        \n",
    "\n",
    "        return vel_x, vel_y, vel_z, acc_x, acc_y, acc_z\n",
    "\n",
    "vel_shoulCenter_x, vel_shoulCenter_y, vel_shoulCenter_z, acc_shoulCenter_x, acc_shoulCenter_y, acc_shoulCenter_z= compute_timing(s, \"shoulderCenter\")\n",
    "vel_hipCenter_x, vel_hipCenter_y, vel_hipCenter_z, acc_hipCenter_x, acc_hipCenter_y, acc_hipCenter_z = compute_timing(s, \"hipCenter\")\n",
    "vel_ankleLeft_x, vel_ankleLeft_y, vel_ankleLeft_z, acc_ankleLeft_x, acc_ankleLeft_y, acc_ankleLeft_z = compute_timing(s, \"ankleLeft\")\n",
    "vel_ankleRight_x, vel_ankleRight_y, vel_ankleRight_z, acc_ankleRight_x, acc_ankleRight_y, acc_ankleRight_z = compute_timing(s, \"ankleRight\")\n",
    "vel_shoulRight_x, vel_shoulRight_y, vel_shoulRight_z, acc_shoulRight_x, acc_shoulRight_y, acc_shoulRight_z = compute_timing(s, \"shoulderRight\")\n",
    "vel_shoulLeft_x, vel_shoulLeft_y, vel_shoulLeft_z, acc_shoulLeft_x, acc_shoulLeft_y, acc_shoulLeft_z = compute_timing(s, \"shoulderLeft\")"
   ]
  },
  {
   "attachments": {},
   "cell_type": "markdown",
   "metadata": {},
   "source": [
    "# Fase di alzata"
   ]
  },
  {
   "attachments": {},
   "cell_type": "markdown",
   "metadata": {},
   "source": [
    "###### L'alzata inizia quando noto un'accelerazione in z del centro delle spalle e, contemporaneamente, una crescita della distanza in y tra il centro delle spalle e il centro delle anche."
   ]
  },
  {
   "cell_type": "code",
   "execution_count": 18,
   "metadata": {},
   "outputs": [],
   "source": [
    "dur= 29 #49\n",
    "nsigma=3\n",
    "# init_mean= np.mean(acc_shoulCenter_z[0:49])\n",
    "# init_std= np.std(acc_shoulCenter_z[0:49])\n",
    "# cond1 = np.where(np.abs((acc_shoulCenter_z-init_mean)/init_std) > nsigma)[0]\n",
    "init_mean= np.mean(acc_hipCenter_z[0:dur])\n",
    "init_std= np.std(acc_hipCenter_z[0:dur])\n",
    "cond1 = np.where(np.abs((acc_hipCenter_z-init_mean)/init_std) > nsigma)[0]\n",
    "\n",
    "cond2=np.where(np.diff(np.sign(acc_hipCenter_y-acc_shoulCenter_y)))[0]\n",
    "\n",
    "in_stand_idx= np.intersect1d(cond1,cond2)[0]\n",
    "\n",
    "#L'alzata finisce quando il centro delle spalle non varia piu' la sua altezza #FDG preferisce quando inizia la camminata\n",
    "#zero_vel = np.where(np.diff(np.sign(vel_shoulCenter_z[in_stand_idx:])))\n",
    "#fin_stand_idx = in_stand_idx + zero_vel[0][1]\n"
   ]
  },
  {
   "cell_type": "code",
   "execution_count": 19,
   "metadata": {},
   "outputs": [
    {
     "data": {
      "text/plain": [
       "array([ 30,  31,  32,  33,  34,  37,  38,  97,  98,  99, 102, 103, 104,\n",
       "       105, 106])"
      ]
     },
     "execution_count": 19,
     "metadata": {},
     "output_type": "execute_result"
    }
   ],
   "source": [
    "cond1"
   ]
  },
  {
   "cell_type": "code",
   "execution_count": 20,
   "metadata": {},
   "outputs": [
    {
     "ename": "NameError",
     "evalue": "name 'in_wf_idx' is not defined",
     "output_type": "error",
     "traceback": [
      "\u001b[0;31m---------------------------------------------------------------------------\u001b[0m",
      "\u001b[0;31mNameError\u001b[0m                                 Traceback (most recent call last)",
      "Cell \u001b[0;32mIn[20], line 9\u001b[0m\n\u001b[1;32m      7\u001b[0m axs[\u001b[39m1\u001b[39m]\u001b[39m.\u001b[39mplot(time[\u001b[39m0\u001b[39m][\u001b[39m0\u001b[39m:\u001b[39m-\u001b[39m\u001b[39m1\u001b[39m], vel_shoulCenter_z)\n\u001b[1;32m      8\u001b[0m \u001b[39m#axs[1].plot(time[0][fin_stand_idx],vel_shoulCenter_z[fin_stand_idx], 'ro')\u001b[39;00m\n\u001b[0;32m----> 9\u001b[0m axs[\u001b[39m1\u001b[39m]\u001b[39m.\u001b[39mplot(time[\u001b[39m0\u001b[39m][in_wf_idx],vel_shoulCenter_z[in_wf_idx], \u001b[39m'\u001b[39m\u001b[39mro\u001b[39m\u001b[39m'\u001b[39m)\n\u001b[1;32m     10\u001b[0m \u001b[39m#axs[1].plot(time[0][0:-1], np.zeros((len(vel_shoulCenter_z),1)))\u001b[39;00m\n\u001b[1;32m     11\u001b[0m axs[\u001b[39m1\u001b[39m]\u001b[39m.\u001b[39mset_ylabel(\u001b[39m'\u001b[39m\u001b[39mVelocity\u001b[39m\u001b[39m'\u001b[39m)\n",
      "\u001b[0;31mNameError\u001b[0m: name 'in_wf_idx' is not defined"
     ]
    },
    {
     "data": {
      "image/png": "[encoded data removed]",
      "text/plain": [
       "<Figure size 640x480 with 3 Axes>"
      ]
     },
     "metadata": {},
     "output_type": "display_data"
    }
   ],
   "source": [
    "fig, axs = plt.subplots(3)\n",
    "axs[0].plot(time[0][0:-1], acc_shoulCenter_z)\n",
    "axs[0].plot(time[0][in_stand_idx],acc_shoulCenter_z[in_stand_idx], 'go')\n",
    "#axs[0].plot(time[0][0:-1], np.zeros((len(vel_shoulCenter_z),1)))\n",
    "axs[0].set_ylabel('Acceleration')\n",
    "\n",
    "axs[1].plot(time[0][0:-1], vel_shoulCenter_z)\n",
    "#axs[1].plot(time[0][fin_stand_idx],vel_shoulCenter_z[fin_stand_idx], 'ro')\n",
    "axs[1].plot(time[0][in_wf_idx],vel_shoulCenter_z[in_wf_idx], 'ro')\n",
    "#axs[1].plot(time[0][0:-1], np.zeros((len(vel_shoulCenter_z),1)))\n",
    "axs[1].set_ylabel('Velocity')\n",
    "\n",
    "axs[2].plot(time[0][0:-1], s.keypoints[0].point[:,2])\n",
    "axs[2].plot(time[0][in_stand_idx],s.keypoints[0].point[in_stand_idx,2], 'go')\n",
    "#axs[2].plot(time[0][fin_stand_idx],s.keypoints[0].point[fin_stand_idx,2], 'ro')\n",
    "axs[2].plot(time[0][in_wf_idx],s.keypoints[0].point[in_wf_idx,2], 'ro')\n",
    "axs[2].set_ylabel('Position')\n",
    "\n",
    "print('Alzata inizia a:')\n",
    "print(time[0][in_stand_idx])\n",
    "print('e finisce a: ') \n",
    "#print(time[0][fin_stand_idx])\n",
    "print(time[0][in_wf_idx])\n",
    "print('Dura:')\n",
    "print(time[0][in_wf_idx]-time[0][in_stand_idx])"
   ]
  },
  {
   "attachments": {},
   "cell_type": "markdown",
   "metadata": {},
   "source": [
    "# Fase di camminata andata"
   ]
  },
  {
   "attachments": {},
   "cell_type": "markdown",
   "metadata": {},
   "source": [
    "###### La camminata inizia appena uno dei due piedi accelera in y e finisce con l'inizio della rotazione. Quest'ultima inizia quando la distanza in x delle due spalle inizia a descrescere e ho superato la linea dei 3m."
   ]
  },
  {
   "cell_type": "code",
   "execution_count": 21,
   "metadata": {},
   "outputs": [
    {
     "name": "stdout",
     "output_type": "stream",
     "text": [
      "La camminata di andata inizia a:\n",
      "280.48265051841736\n",
      "e finisce a: \n",
      "282.77765107154846\n",
      "Dura:\n",
      "2.2950005531311035\n"
     ]
    }
   ],
   "source": [
    "nsigma=3\n",
    "init_mean= np.mean(acc_ankleRight_y[0:dur])\n",
    "init_std= np.std(acc_ankleRight_y[0:dur])\n",
    "in_wf_Right_y_idx = np.where(np.abs((acc_ankleRight_y-init_mean)/init_std) > nsigma)[0]\n",
    "in_wf_Right_y_idx = np.where(vel_ankleRight_y[in_stand_idx:] < -1)[0]+in_stand_idx-2\n",
    "init_mean= np.mean(acc_ankleLeft_y[0:dur])\n",
    "init_std= np.std(acc_ankleLeft_y[0:dur])\n",
    "in_wf_Left_y_idx = np.where(np.abs((acc_ankleLeft_y-init_mean)/init_std) > nsigma)[0]\n",
    "in_wf_Left_y_idx = np.where(vel_ankleLeft_y[in_stand_idx:] < -1)[0]+in_stand_idx-2\n",
    "#in_wf_idx= np.minimum(in_wf_Right_y_idx, in_wf_Left_y_idx)[0]\n",
    "if in_wf_Right_y_idx[0]<in_wf_Left_y_idx[0]:\n",
    "    cond1 = in_wf_Right_y_idx\n",
    "else:\n",
    "    cond1 = in_wf_Left_y_idx\n",
    "\n",
    "cond2 = np.array(np.where(vel_hipCenter_y[in_stand_idx:]<0.))[0]+in_stand_idx-2#\n",
    "in_wf_idx=np.intersect1d(cond1,cond2)[0]\n",
    "\n",
    "#cond1 = np.array(np.where(acc_shoulRight_x>0))[0]\n",
    "diff_vel_x=vel_shoulRight_x-vel_shoulLeft_x\n",
    "diff_acc_x=acc_shoulRight_x-acc_shoulLeft_x\n",
    "cond1= np.array(np.where(diff_acc_x>0))[0]\n",
    "\n",
    "rfoot_cross3m = np.array(np.where(s.keypoints[15].point[:,1]<-3.))[0]#\n",
    "lfoot_cross3m = np.array(np.where(s.keypoints[11].point[:,1]<-3.))[0]#\n",
    "if rfoot_cross3m[0]<lfoot_cross3m[0]:\n",
    "    foot_cross3m = rfoot_cross3m\n",
    "else:\n",
    "    foot_cross3m = lfoot_cross3m\n",
    "\n",
    "fin_wf_idx=np.intersect1d(cond1,foot_cross3m)[0]\n",
    "\n",
    "print('La camminata di andata inizia a:')\n",
    "print(time[0][in_wf_idx])\n",
    "print('e finisce a: ') \n",
    "print(time[0][fin_wf_idx])\n",
    "print('Dura:')\n",
    "print(time[0][fin_wf_idx]-time[0][in_wf_idx])"
   ]
  },
  {
   "cell_type": "code",
   "execution_count": 22,
   "metadata": {},
   "outputs": [
    {
     "name": "stdout",
     "output_type": "stream",
     "text": [
      "La camminata di andata inizia a:\n",
      "280.48265051841736\n",
      "e finisce a: \n",
      "282.77765107154846\n",
      "Dura:\n",
      "2.2950005531311035\n"
     ]
    },
    {
     "data": {
      "image/png": "[encoded data removed]",
      "text/plain": [
       "<Figure size 640x480 with 9 Axes>"
      ]
     },
     "metadata": {},
     "output_type": "display_data"
    }
   ],
   "source": [
    "fig, axs = plt.subplots(3,3)\n",
    "axs[0,0].plot(time[0][0:-1], acc_ankleRight_x, label= 'R')\n",
    "axs[0,0].plot(time[0][0:-1], acc_ankleLeft_x, label= 'L')\n",
    "#axs[0,0].plot(time[0][0:-1], np.zeros((len(vel_ankleRight_x),1)))\n",
    "axs[0,0].set_ylabel('Acceleration')\n",
    "axs[0,0].set_title('Ankle X-dim')\n",
    "axs[0,0].legend()\n",
    "\n",
    "axs[1,0].plot(time[0][0:-1], vel_ankleRight_x)\n",
    "axs[1,0].plot(time[0][0:-1], vel_ankleLeft_x)\n",
    "#axs[1,0].plot(time[0][0:-1], np.zeros((len(vel_ankleRight_x),1)))\n",
    "axs[1,0].set_ylabel('Velocity')\n",
    "\n",
    "axs[2,0].plot(time[0][0:-1], s.keypoints[15].point[:,0])\n",
    "axs[2,0].plot(time[0][0:-1], s.keypoints[11].point[:,0])\n",
    "axs[2,0].set_ylabel('Position')\n",
    "\n",
    "axs[0,1].plot(time[0][0:-1], acc_ankleRight_y)\n",
    "axs[0,1].plot(time[0][in_wf_Right_y_idx],acc_ankleRight_y[in_wf_Right_y_idx], 'go')\n",
    "axs[0,1].plot(time[0][0:-1], acc_ankleLeft_y)\n",
    "axs[0,1].plot(time[0][in_wf_Left_y_idx],acc_ankleLeft_y[in_wf_Left_y_idx], 'go')\n",
    "#axs[0,1].plot(time[0][0:-1], np.zeros((len(vel_ankleRight_y),1)))\n",
    "axs[0,1].set_title('Ankle Y-dim')\n",
    "\n",
    "axs[1,1].plot(time[0][0:-1], vel_ankleRight_y)\n",
    "axs[1,1].plot(time[0][0:-1], vel_ankleLeft_y)\n",
    "#axs[1,1].plot(time[0][0:-1], np.zeros((len(vel_ankleRight_y),1)))\n",
    "\n",
    "axs[2,1].plot(time[0][0:-1], s.keypoints[15].point[:,1])\n",
    "axs[2,1].plot(time[0][in_wf_idx],s.keypoints[15].point[in_wf_idx,1], 'go')\n",
    "axs[2,1].plot(time[0][fin_wf_idx],s.keypoints[15].point[fin_wf_idx,1], 'ro')\n",
    "#axs[2,1].plot(time[0][0:-1], s.keypoints[11].point[:,1])\n",
    "#axs[2,1].plot(time[0][in_wf_Left_y_idx],s.keypoints[11].point[in_wf_Left_y_idx,1], 'go')\n",
    "axs[2,1].plot(time[0][0:-1], -3*np.ones((len(vel_ankleRight_x),1)), 'k--')\n",
    "#axs[2,1].set_ylim([-0.5, 0.5])\n",
    "\n",
    "axs[0,2].plot(time[0][0:-1], acc_shoulRight_x)\n",
    "#axs[0,2].plot(time[0][finish_idx],acc_shoulRight_x[finish_idx], 'go')\n",
    "#axs[0,2].plot(time[0][0:-1], np.zeros((len(vel_shoulRight_x),1)))\n",
    "axs[0,2].set_title('Shoulder right X-dim')\n",
    "\n",
    "axs[1,2].plot(time[0][0:-1], vel_shoulRight_x)\n",
    "#axs[1,2].plot(time[0][0:-1], np.zeros((len(vel_shoulRight_x),1)))\n",
    "\n",
    "axs[2,2].plot(time[0][0:-1], s.keypoints[5].point[:,0])\n",
    "axs[2,2].plot(time[0][fin_wf_idx],s.keypoints[5].point[fin_wf_idx,0], 'ro')\n",
    "#axs[2,2].plot(time[0][0:-1], -3*np.ones((len(vel_shoulRight_x),1)))\n",
    "\n",
    "print('La camminata di andata inizia a:')\n",
    "print(time[0][in_wf_idx])\n",
    "print('e finisce a: ') \n",
    "print(time[0][fin_wf_idx])\n",
    "print('Dura:')\n",
    "print(time[0][fin_wf_idx]-time[0][in_wf_idx])"
   ]
  },
  {
   "cell_type": "code",
   "execution_count": 23,
   "metadata": {},
   "outputs": [
    {
     "data": {
      "text/plain": [
       "[<matplotlib.lines.Line2D at 0x7fa3f0356880>]"
      ]
     },
     "execution_count": 23,
     "metadata": {},
     "output_type": "execute_result"
    },
    {
     "data": {
      "image/png": "[encoded data removed]",
      "text/plain": [
       "<Figure size 640x480 with 1 Axes>"
      ]
     },
     "metadata": {},
     "output_type": "display_data"
    }
   ],
   "source": [
    "plt.plot(time[0][0:-1], s.keypoints[15].point[:,1])\n",
    "plt.plot(time[0][in_wf_idx],s.keypoints[15].point[in_wf_idx,1], 'go')\n",
    "plt.plot(time[0][fin_wf_idx],s.keypoints[15].point[fin_wf_idx,1], 'ro')\n",
    "plt.plot(time[0][0:-1], vel_ankleRight_y)"
   ]
  },
  {
   "attachments": {},
   "cell_type": "markdown",
   "metadata": {},
   "source": [
    "# Fase di rotazione"
   ]
  },
  {
   "attachments": {},
   "cell_type": "markdown",
   "metadata": {},
   "source": [
    "###### La fase di rotazione quando la distanza in x delle due spalle ritorna ai valori iniziali e la velocita' in y del centro spalle e' positiva."
   ]
  },
  {
   "cell_type": "code",
   "execution_count": 24,
   "metadata": {},
   "outputs": [
    {
     "name": "stdout",
     "output_type": "stream",
     "text": [
      "La prima rotazione termina a:\n",
      "284.09495306015015\n",
      "Dura:\n",
      "1.3173019886016846\n"
     ]
    }
   ],
   "source": [
    "diff_shoul = s.keypoints[5].point[:,0]-s.keypoints[2].point[:,0]\n",
    "cond1= np.array(np.where(abs(diff_shoul[fin_wf_idx:]-abs(diff_shoul[0]))<0.01))[0]\n",
    "\n",
    "cond2 = np.array(np.where(vel_shoulCenter_y[fin_wf_idx:]>0.))[0]#\n",
    "\n",
    "fin_turn1_idx=np.intersect1d(cond1,cond2)[0]+fin_wf_idx\n",
    "\n",
    "print('La prima rotazione termina a:')\n",
    "print(time[0][fin_turn1_idx])\n",
    "print('Dura:')\n",
    "print(time[0][fin_turn1_idx]-time[0][fin_wf_idx])"
   ]
  },
  {
   "cell_type": "code",
   "execution_count": 25,
   "metadata": {},
   "outputs": [
    {
     "data": {
      "text/plain": [
       "array([13, 14, 15, 16, 17, 18, 21, 22, 27])"
      ]
     },
     "execution_count": 25,
     "metadata": {},
     "output_type": "execute_result"
    }
   ],
   "source": [
    "cond1"
   ]
  },
  {
   "cell_type": "code",
   "execution_count": 26,
   "metadata": {},
   "outputs": [
    {
     "name": "stderr",
     "output_type": "stream",
     "text": [
      "No artists with labels found to put in legend.  Note that artists whose label start with an underscore are ignored when legend() is called with no argument.\n"
     ]
    },
    {
     "name": "stdout",
     "output_type": "stream",
     "text": [
      "La camminata di rotazione inizia a:\n",
      "282.77765107154846\n",
      "e finisce a: \n",
      "284.09495306015015\n",
      "Dura:\n",
      "1.3173019886016846\n"
     ]
    },
    {
     "data": {
      "image/png": "[encoded data removed]",
      "text/plain": [
       "<Figure size 640x480 with 3 Axes>"
      ]
     },
     "metadata": {},
     "output_type": "display_data"
    }
   ],
   "source": [
    "fig, axs = plt.subplots(3)\n",
    "#axs[0].plot(time[0][0:-1], acc_shoulRight_x, label='R')\n",
    "#axs[0].plot(time[0][0:-1], acc_shoulLeft_x, label='L')\n",
    "axs[0].plot(time[0][0:-1], acc_shoulRight_x-acc_shoulLeft_x)\n",
    "axs[0].set_ylabel('Acceleration')\n",
    "axs[0].set_title('X-dim')\n",
    "axs[0].legend()\n",
    "\n",
    "#axs[1].plot(time[0][0:-1], vel_shoulRight_x)\n",
    "#axs[1].plot(time[0][0:-1], vel_shoulLeft_x)\n",
    "diff_vel_x=vel_shoulRight_x-vel_shoulLeft_x\n",
    "#fin_turn_idx= np.where(np.diff(np.sign(diff_vel_x[fin_wf_idx:])))[0][0]+fin_wf_idx\n",
    "axs[1].plot(time[0][0:-1], diff_vel_x)\n",
    "axs[1].plot(time[0][0:-1], vel_shoulCenter_y)\n",
    "axs[1].plot(time[0][fin_wf_idx],diff_vel_x[fin_wf_idx], 'go')\n",
    "axs[1].plot(time[0][fin_turn1_idx],diff_vel_x[fin_turn1_idx], 'ro')\n",
    "axs[1].plot(time[0][0:-1], 0*np.ones((len(vel_shoulRight_x),1)), 'k--')\n",
    "axs[1].set_ylabel('Velocity')\n",
    "\n",
    "#axs[2].plot(time[0][0:-1], s.keypoints[5].point[:,0])\n",
    "#axs[2].plot(time[0][0:-1], s.keypoints[2].point[:,0])\n",
    "axs[2].plot(time[0][0:-1], s.keypoints[5].point[:,0]-s.keypoints[2].point[:,0])\n",
    "#axs[2].plot(time[0][0:-1], s.keypoints[0].point[:,1])\n",
    "axs[2].plot(time[0][fin_wf_idx], diff_shoul[fin_wf_idx], 'go')\n",
    "axs[2].plot(time[0][fin_turn1_idx], diff_shoul[fin_turn1_idx], 'ro')\n",
    "axs[2].plot(time[0][0:-1], 0*np.ones((len(vel_shoulRight_x),1)), 'k--')\n",
    "axs[2].plot(time[0][0:-1], abs(diff_shoul[0])*np.ones((len(vel_shoulRight_x),1)), 'k--')\n",
    "axs[2].set_ylabel('Position')\n",
    "\n",
    "print('La camminata di rotazione inizia a:')\n",
    "print(time[0][fin_wf_idx])\n",
    "print('e finisce a: ') \n",
    "print(time[0][fin_turn1_idx])\n",
    "print('Dura:')\n",
    "print(time[0][fin_turn1_idx]-time[0][fin_wf_idx])"
   ]
  },
  {
   "attachments": {},
   "cell_type": "markdown",
   "metadata": {},
   "source": [
    "# Fase di camminata ritorno"
   ]
  },
  {
   "attachments": {},
   "cell_type": "markdown",
   "metadata": {},
   "source": [
    "###### La fase di camminata di ritorno termina quando inizia la seconda rotazione."
   ]
  },
  {
   "cell_type": "code",
   "execution_count": 41,
   "metadata": {},
   "outputs": [
    {
     "name": "stdout",
     "output_type": "stream",
     "text": [
      "La camminata di ritorno inizia a:\n",
      "284.09495306015015\n",
      "e finisce a: \n",
      "287.48109245300293\n",
      "Dura:\n",
      "3.386139392852783\n"
     ]
    }
   ],
   "source": [
    "# pos_ankleRight_x=s.keypoints[15].point[:,0]\n",
    "# pos_ankleLeft_x=s.keypoints[11].point[:,0]\n",
    "# fin_wb_idxR = np.where(np.diff(pos_ankleRight_x[fin_turn_idx:])>0.3)[0][0]+fin_turn_idx\n",
    "# fin_wb_idxL = np.where(np.diff(pos_ankleLeft_x[fin_turn_idx:])>0.3)[0][0]+fin_turn_idx\n",
    "# #fin_wb_idxR = np.where(np.diff(np.sign(vel_ankleRight_x[fin_turn_idx:])))[0][0]+fin_turn_idx\n",
    "# #fin_wb_idxL = np.where(np.diff(np.sign(vel_ankleLeft_x[fin_turn_idx:])))[0][0]+fin_turn_idx\n",
    "\n",
    "diff_acc_x=acc_shoulRight_x-acc_shoulLeft_x\n",
    "cond1= np.array(np.where(diff_acc_x[fin_turn1_idx:]<0))[0]\n",
    "\n",
    "rfoot_cross0m = np.array(np.where(s.keypoints[15].point[fin_turn1_idx:,1]>0.))[0]#\n",
    "lfoot_cross0m = np.array(np.where(s.keypoints[11].point[fin_turn1_idx:,1]>0.))[0]#\n",
    "if rfoot_cross0m[0]<lfoot_cross0m[0]:\n",
    "    foot_cross0m = rfoot_cross0m\n",
    "else:\n",
    "    foot_cross0m = lfoot_cross0m\n",
    "\n",
    "fin_wb_idx=np.intersect1d(cond1,foot_cross0m)[0]+fin_turn1_idx\n",
    "#fin_wb_idx=cond1[0]+fin_turn1_idx\n",
    "\n",
    "print('La camminata di ritorno inizia a:')\n",
    "print(time[0][fin_turn1_idx])\n",
    "print('e finisce a: ') \n",
    "print(time[0][fin_wb_idx])\n",
    "print('Dura:')\n",
    "print(time[0][fin_wb_idx]-time[0][fin_turn1_idx])"
   ]
  },
  {
   "cell_type": "code",
   "execution_count": 79,
   "metadata": {},
   "outputs": [
    {
     "name": "stdout",
     "output_type": "stream",
     "text": [
      "[19 20 21 22 23 24 25 26 27 28]\n",
      "285.97971391677856\n"
     ]
    }
   ],
   "source": [
    "diff_shoul = abs(s.keypoints[5].point[:,0]-s.keypoints[2].point[:,0])\n",
    "cond1= np.array(np.where(diff_shoul[fin_turn1_idx:]<diff_shoul[0]-0.1))[0]\n",
    "print(cond1)\n",
    "cond2 = np.array(np.where(vel_shoulCenter_y[fin_wf_idx:]>0.))[0]#\n",
    "\n",
    "fin_wb_idx=cond1[0]+fin_turn1_idx\n",
    "print(time[0][fin_wb_idx])"
   ]
  },
  {
   "cell_type": "code",
   "execution_count": 80,
   "metadata": {},
   "outputs": [
    {
     "data": {
      "image/png": "[encoded data removed]",
      "text/plain": [
       "<Figure size 640x480 with 3 Axes>"
      ]
     },
     "metadata": {},
     "output_type": "display_data"
    },
    {
     "name": "stdout",
     "output_type": "stream",
     "text": [
      "La camminata di ritorno inizia a:\n",
      "284.09495306015015\n",
      "e finisce a: \n",
      "285.97971391677856\n",
      "Dura:\n",
      "1.884760856628418\n"
     ]
    }
   ],
   "source": [
    "fig, axs = plt.subplots(3,1)\n",
    "\n",
    "axs[0].plot(time[0][0:-1], acc_ankleRight_x, label= 'R')\n",
    "axs[0].plot(time[0][0:-1], acc_ankleLeft_x, label= 'L')\n",
    "axs[0].plot(time[0][0:-1], np.zeros((len(vel_ankleRight_x),1)))\n",
    "axs[0].set_ylabel('Acceleration')\n",
    "axs[0].set_title('X-dim')\n",
    "axs[0].legend()\n",
    "\n",
    "axs[1].plot(time[0][0:-1], vel_ankleRight_x)\n",
    "axs[1].plot(time[0][0:-1], vel_ankleLeft_x)\n",
    "axs[1].plot(time[0][0:-1], np.zeros((len(vel_ankleRight_x),1)))\n",
    "axs[1].set_ylabel('Velocity')\n",
    "\n",
    "axs[2].plot(time[0][0:-1], s.keypoints[15].point[:,0])\n",
    "axs[2].plot(time[0][fin_turn1_idx],s.keypoints[15].point[fin_turn1_idx,0], 'go')\n",
    "#axs[2].plot(time[0][fin_wb_idxR],s.keypoints[15].point[fin_wb_idxR,0], 'ro')\n",
    "axs[2].plot(time[0][fin_wb_idx],s.keypoints[15].point[fin_wb_idx,0], 'yo')\n",
    "axs[2].plot(time[0][0:-1], s.keypoints[11].point[:,0])\n",
    "axs[2].plot(time[0][fin_turn1_idx],s.keypoints[11].point[fin_turn1_idx,0], 'go')\n",
    "#axs[2].plot(time[0][fin_wb_idxL],s.keypoints[11].point[fin_wb_idxL,0], 'ro')\n",
    "axs[2].plot(time[0][fin_wb_idx],s.keypoints[11].point[fin_wb_idx,0], 'yo')\n",
    "axs[2].set_ylabel('Position')\n",
    "\n",
    "#fin_wb_idx=np.minimum(fin_wb_idxR, fin_wb_idxL)\n",
    "#fin_wb_idx=np.maximum(fin_wb_idxR, fin_wb_idxL)\n",
    "\n",
    "plt.show()\n",
    "print('La camminata di ritorno inizia a:')\n",
    "print(time[0][fin_turn1_idx])\n",
    "print('e finisce a: ') \n",
    "print(time[0][fin_wb_idx])\n",
    "print('Dura:')\n",
    "print(time[0][fin_wb_idx]-time[0][fin_turn1_idx])\n",
    "#print(time[0][np.minimum(fin_wb_idxR, fin_wb_idxL)]-time[0][fin_turn_idx])"
   ]
  },
  {
   "attachments": {},
   "cell_type": "markdown",
   "metadata": {},
   "source": [
    "# Fase di rotazione 2"
   ]
  },
  {
   "cell_type": "markdown",
   "metadata": {},
   "source": [
    "###### La seconda rotazione termina quando noto una decelerazione in z del centro delle spalle e, contemporaneamente, una diminuzione della distanza in y tra il centro delle spalle e il centro delle anche.\n",
    "###### La seconda rotazione termina quando..."
   ]
  },
  {
   "cell_type": "code",
   "execution_count": 81,
   "metadata": {},
   "outputs": [],
   "source": [
    "nsigma=3\n",
    "# init_mean= np.mean(acc_shoulCenter_z[0:49])\n",
    "# init_std= np.std(acc_shoulCenter_z[0:49])\n",
    "cond1 = np.where(vel_shoulCenter_z[fin_wb_idx:] < 0.)[0]\n",
    "\n",
    "#cond2=np.where(np.diff(np.sign(acc_hipCenter_y[fin_wb_idx:]-acc_shoulCenter_y[fin_wb_idx:])))[0]\n",
    "#cond2=np.where(np.diff(np.sign(vel_hipCenter_y[fin_wb_idx:]-vel_shoulCenter_y[fin_wb_idx:])))[0]\n",
    "cond2=np.where(vel_hipCenter_y[fin_wb_idx:]>vel_shoulCenter_y[fin_wb_idx:])[0]\n",
    "cond2=np.where(np.sign(vel_hipCenter_y[fin_wb_idx:]-vel_shoulCenter_y[fin_wb_idx:])>0)[0]\n",
    "\n",
    "\n",
    "fin_turn2_idx= np.intersect1d(cond1,cond2)[0]+fin_wb_idx\n",
    "\n",
    "fin_turn2_idx = np.where(np.abs(vel_hipCenter_y[fin_wb_idx:]-vel_shoulCenter_y[fin_wb_idx:]-0.05)>0)[0][0]+fin_wb_idx\n",
    "\n",
    "strikes,_ = scipy.signal.find_peaks(-acc_shoulCenter_z[fin_wb_idx:], height = 0.0, distance = 10)\n",
    "fin_turn2_idx = strikes[0]+fin_wb_idx\n",
    "\n",
    "#L'alzata finisce quando il centro delle spalle non varia piu' la sua altezza #FDG preferisce quando inizia la camminata\n",
    "#zero_vel = np.where(np.diff(np.sign(vel_shoulCenter_z[in_stand_idx:])))\n",
    "#fin_stand_idx = in_stand_idx + zero_vel[0][1]\n",
    "\n",
    "# diff_shoul = s.keypoints[5].point[:,0]-s.keypoints[2].point[:,0]\n",
    "# cond1= np.array(np.where(abs(diff_shoul[fin_wb_idx:]-abs(diff_shoul[0]))<0.1))[0]\n",
    "# fin_turn2_idx= cond1[0]+fin_wb_idx"
   ]
  },
  {
   "cell_type": "code",
   "execution_count": 82,
   "metadata": {},
   "outputs": [
    {
     "name": "stderr",
     "output_type": "stream",
     "text": [
      "No artists with labels found to put in legend.  Note that artists whose label start with an underscore are ignored when legend() is called with no argument.\n"
     ]
    },
    {
     "name": "stdout",
     "output_type": "stream",
     "text": [
      "La camminata di rotazione inizia a:\n",
      "285.97971391677856\n",
      "e finisce a: \n",
      "286.59415078163147\n",
      "Dura:\n",
      "0.6144368648529053\n"
     ]
    },
    {
     "data": {
      "image/png": "[encoded data removed]",
      "text/plain": [
       "<Figure size 640x480 with 3 Axes>"
      ]
     },
     "metadata": {},
     "output_type": "display_data"
    }
   ],
   "source": [
    "fig, axs = plt.subplots(3)\n",
    "#axs[0].plot(time[0][0:-1], acc_shoulRight_x, label='R')\n",
    "#axs[0].plot(time[0][0:-1], acc_shoulLeft_x, label='L')\n",
    "axs[0].plot(time[0][0:-1], acc_shoulRight_x-acc_shoulLeft_x)\n",
    "axs[0].set_ylabel('Acceleration')\n",
    "axs[0].set_title('X-dim')\n",
    "axs[0].legend()\n",
    "\n",
    "#axs[1].plot(time[0][0:-1], vel_shoulRight_x)\n",
    "#axs[1].plot(time[0][0:-1], vel_shoulLeft_x)\n",
    "diff_vel_x=vel_shoulRight_x-vel_shoulLeft_x\n",
    "axs[1].plot(time[0][0:-1], diff_vel_x)\n",
    "#axs[1].plot(time[0][in_turn2_idx],diff_vel_x[in_turn2_idx], 'go')\n",
    "axs[1].plot(time[0][fin_wb_idx],diff_vel_x[fin_wb_idx], 'go')\n",
    "axs[1].plot(time[0][fin_turn2_idx],diff_vel_x[fin_turn2_idx], 'ro')\n",
    "axs[1].plot(time[0][0:-1], 0*np.ones((len(vel_shoulRight_x),1)), 'k--')\n",
    "axs[1].set_ylabel('Velocity')\n",
    "\n",
    "axs[2].plot(time[0][0:-1], s.keypoints[5].point[:,0])\n",
    "axs[2].plot(time[0][0:-1], s.keypoints[2].point[:,0])\n",
    "diff_shoul = s.keypoints[5].point[:,0]-s.keypoints[2].point[:,0]\n",
    "axs[2].plot(time[0][0:-1], s.keypoints[5].point[:,0]-s.keypoints[2].point[:,0])\n",
    "axs[2].plot(time[0][fin_wb_idx], diff_shoul[fin_wb_idx], 'go')\n",
    "axs[2].plot(time[0][fin_turn2_idx], diff_shoul[fin_turn2_idx], 'ro')\n",
    "axs[2].plot(time[0][0:-1], 0*np.ones((len(vel_shoulRight_x),1)), 'k--')\n",
    "axs[2].set_ylabel('Position')\n",
    "\n",
    "print('La camminata di rotazione inizia a:')\n",
    "print(time[0][fin_wb_idx])\n",
    "print('e finisce a: ') \n",
    "print(time[0][fin_turn2_idx])\n",
    "print('Dura:')\n",
    "print(time[0][fin_turn2_idx]-time[0][fin_wb_idx])\n",
    "\n"
   ]
  },
  {
   "attachments": {},
   "cell_type": "markdown",
   "metadata": {},
   "source": [
    "# Fase di discesa"
   ]
  },
  {
   "cell_type": "code",
   "execution_count": 83,
   "metadata": {},
   "outputs": [
    {
     "data": {
      "text/plain": [
       "(124,)"
      ]
     },
     "execution_count": 83,
     "metadata": {},
     "output_type": "execute_result"
    }
   ],
   "source": [
    "time[0][0:-1].shape"
   ]
  },
  {
   "cell_type": "code",
   "execution_count": 84,
   "metadata": {},
   "outputs": [
    {
     "name": "stdout",
     "output_type": "stream",
     "text": [
      "Discesa inizia a:\n",
      "286.59415078163147\n",
      "e finisce a: \n",
      "287.48109245300293\n",
      "Dura:\n",
      "0.88694167137146\n",
      "Tutto il trial dura:\n",
      "7.605099678039551\n"
     ]
    },
    {
     "data": {
      "image/png": "[encoded data removed]",
      "text/plain": [
       "<Figure size 640x480 with 3 Axes>"
      ]
     },
     "metadata": {},
     "output_type": "display_data"
    }
   ],
   "source": [
    "nsigma=3\n",
    "#zero_vel = np.where(np.diff(np.sign(vel_shoulCenter_z[fin_turn2_idx:])))[0]\n",
    "#in_sit_idx= fin_turn2_idx + zero_vel[0]\n",
    "\n",
    "init_mean= np.mean(acc_shoulCenter_z[:dur])\n",
    "init_std= np.std(acc_shoulCenter_z[:dur])\n",
    "outliers_indices1 = np.where(np.abs((acc_shoulCenter_z[fin_turn2_idx:]-init_mean)/init_std) < nsigma)[0]\n",
    "init_mean= np.mean(s.keypoints[0].point[:dur,2])\n",
    "init_std= np.std(s.keypoints[0].point[:dur,2])\n",
    "outliers_indices2 = np.where(np.abs((s.keypoints[0].point[fin_turn2_idx:,2]-init_mean)/init_std) < nsigma)[0]\n",
    "elem=np.intersect1d(outliers_indices1,outliers_indices2)[0]\n",
    "if (elem==0): \n",
    "    fin_sit_idx = len(time[0][0:-1])-1\n",
    "else:\n",
    "    fin_sit_idx = fin_turn2_idx + elem\n",
    "\n",
    "fig, axs = plt.subplots(3)\n",
    "axs[0].plot(time[0][0:-1], acc_shoulCenter_z)\n",
    "axs[0].plot(time[0][fin_sit_idx],acc_shoulCenter_z[fin_sit_idx], 'ro')\n",
    "axs[0].set_ylabel('Acceleration')\n",
    "\n",
    "axs[1].plot(time[0][0:-1], vel_shoulCenter_z)\n",
    "axs[1].plot(time[0][fin_turn2_idx],vel_shoulCenter_z[fin_turn2_idx], 'go')\n",
    "axs[1].set_ylabel('Velocity')\n",
    "\n",
    "axs[2].plot(time[0][0:-1], s.keypoints[0].point[:,2])\n",
    "axs[2].plot(time[0][fin_turn2_idx],s.keypoints[0].point[fin_turn2_idx,2], 'go')\n",
    "axs[2].plot(time[0][fin_sit_idx],s.keypoints[0].point[fin_sit_idx,2], 'ro')\n",
    "axs[2].set_ylabel('Position')\n",
    "\n",
    "print('Discesa inizia a:')\n",
    "print(time[0][fin_turn2_idx])\n",
    "print('e finisce a: ') \n",
    "print(time[0][fin_sit_idx])\n",
    "print('Dura:')\n",
    "print(time[0][fin_sit_idx]-time[0][fin_turn2_idx])\n",
    "\n",
    "print('Tutto il trial dura:')\n",
    "print(time[0][fin_sit_idx]-time[0][in_stand_idx])"
   ]
  },
  {
   "cell_type": "code",
   "execution_count": 36,
   "metadata": {},
   "outputs": [
    {
     "data": {
      "text/plain": [
       "Text(0, 0.5, 'Position')"
      ]
     },
     "execution_count": 36,
     "metadata": {},
     "output_type": "execute_result"
    },
    {
     "data": {
      "image/png": "[encoded data removed]",
      "text/plain": [
       "<Figure size 640x480 with 3 Axes>"
      ]
     },
     "metadata": {},
     "output_type": "display_data"
    }
   ],
   "source": [
    "fig, axs = plt.subplots(3)\n",
    "axs[0].plot(time[0][0:-1], acc_shoulCenter_y)\n",
    "axs[0].plot(time[0][0:-1], acc_hipCenter_y)\n",
    "axs[0].plot(time[0][0:-1], acc_hipCenter_y-acc_shoulCenter_y)\n",
    "axs[0].set_ylabel('Acceleration')\n",
    "\n",
    "axs[1].plot(time[0][0:-1], vel_shoulCenter_y)\n",
    "axs[1].plot(time[0][0:-1], vel_hipCenter_y)\n",
    "axs[1].plot(time[0][0:-1], vel_hipCenter_y-vel_shoulCenter_y)\n",
    "axs[1].set_ylabel('Velocity')\n",
    "\n",
    "axs[2].plot(time[0][0:-1], s.keypoints[0].point[:,1])\n",
    "axs[2].plot(time[0][0:-1], s.keypoints[8].point[:,1])\n",
    "axs[2].plot(time[0][0:-1], s.keypoints[8].point[:,1]-s.keypoints[0].point[:,1])\n",
    "axs[2].set_ylabel('Position')\n"
   ]
  },
  {
   "cell_type": "code",
   "execution_count": 37,
   "metadata": {},
   "outputs": [
    {
     "name": "stderr",
     "output_type": "stream",
     "text": [
      "/tmp/ipykernel_19772/2546345123.py:8: UserWarning:\n",
      "\n",
      "Setting the 'color' property will override the edgecolor or facecolor properties.\n",
      "\n",
      "/tmp/ipykernel_19772/2546345123.py:19: UserWarning:\n",
      "\n",
      "Setting the 'color' property will override the edgecolor or facecolor properties.\n",
      "\n",
      "/tmp/ipykernel_19772/2546345123.py:30: UserWarning:\n",
      "\n",
      "Setting the 'color' property will override the edgecolor or facecolor properties.\n",
      "\n",
      "/tmp/ipykernel_19772/2546345123.py:41: UserWarning:\n",
      "\n",
      "Setting the 'color' property will override the edgecolor or facecolor properties.\n",
      "\n",
      "/tmp/ipykernel_19772/2546345123.py:52: UserWarning:\n",
      "\n",
      "Setting the 'color' property will override the edgecolor or facecolor properties.\n",
      "\n"
     ]
    },
    {
     "ename": "NameError",
     "evalue": "name 'fin_sit_idx' is not defined",
     "output_type": "error",
     "traceback": [
      "\u001b[0;31m---------------------------------------------------------------------------\u001b[0m",
      "\u001b[0;31mNameError\u001b[0m                                 Traceback (most recent call last)",
      "Cell \u001b[0;32mIn[37], line 61\u001b[0m\n\u001b[1;32m     52\u001b[0m rect5\u001b[39m=\u001b[39mmpatches\u001b[39m.\u001b[39mRectangle((left,bottom),width,height, \n\u001b[1;32m     53\u001b[0m                         \u001b[39m#fill=False,\u001b[39;00m\n\u001b[1;32m     54\u001b[0m                         alpha\u001b[39m=\u001b[39m\u001b[39m0.15\u001b[39m,\n\u001b[0;32m   (...)\u001b[0m\n\u001b[1;32m     58\u001b[0m                        label \u001b[39m=\u001b[39m\u001b[39mf\u001b[39m\u001b[39m'\u001b[39m\u001b[39m2nd turn (\u001b[39m\u001b[39m{\u001b[39;00mdurata_fase\u001b[39m}\u001b[39;00m\u001b[39m\"\u001b[39m\u001b[39m)\u001b[39m\u001b[39m'\u001b[39m,\n\u001b[1;32m     59\u001b[0m                        facecolor\u001b[39m=\u001b[39m\u001b[39m\"\u001b[39m\u001b[39morange\u001b[39m\u001b[39m\"\u001b[39m)\n\u001b[1;32m     60\u001b[0m plt\u001b[39m.\u001b[39mgca()\u001b[39m.\u001b[39madd_patch(rect5)\n\u001b[0;32m---> 61\u001b[0m left, bottom, width, height \u001b[39m=\u001b[39m (time[\u001b[39m0\u001b[39m][fin_turn2_idx], \u001b[39m-\u001b[39m\u001b[39m3.5\u001b[39m, time[\u001b[39m0\u001b[39m][fin_sit_idx]\u001b[39m-\u001b[39mtime[\u001b[39m0\u001b[39m][fin_turn2_idx], \u001b[39m4\u001b[39m)\n\u001b[1;32m     62\u001b[0m durata_fase\u001b[39m=\u001b[39m \u001b[39mformat\u001b[39m(time[\u001b[39m0\u001b[39m][fin_sit_idx]\u001b[39m-\u001b[39mtime[\u001b[39m0\u001b[39m][fin_turn2_idx],\u001b[39m'\u001b[39m\u001b[39m.2f\u001b[39m\u001b[39m'\u001b[39m)\n\u001b[1;32m     63\u001b[0m rect6\u001b[39m=\u001b[39mmpatches\u001b[39m.\u001b[39mRectangle((left,bottom),width,height, \n\u001b[1;32m     64\u001b[0m                         \u001b[39m#fill=False,\u001b[39;00m\n\u001b[1;32m     65\u001b[0m                         alpha\u001b[39m=\u001b[39m\u001b[39m0.15\u001b[39m,\n\u001b[0;32m   (...)\u001b[0m\n\u001b[1;32m     69\u001b[0m                        label \u001b[39m=\u001b[39m\u001b[39mf\u001b[39m\u001b[39m'\u001b[39m\u001b[39mStand2Sit (\u001b[39m\u001b[39m{\u001b[39;00mdurata_fase\u001b[39m}\u001b[39;00m\u001b[39m\"\u001b[39m\u001b[39m)\u001b[39m\u001b[39m'\u001b[39m,\n\u001b[1;32m     70\u001b[0m                        facecolor\u001b[39m=\u001b[39m\u001b[39m\"\u001b[39m\u001b[39m#FFEB00\u001b[39m\u001b[39m\"\u001b[39m)\n",
      "\u001b[0;31mNameError\u001b[0m: name 'fin_sit_idx' is not defined"
     ]
    },
    {
     "data": {
      "image/png": "[encoded data removed]",
      "text/plain": [
       "<Figure size 640x480 with 1 Axes>"
      ]
     },
     "metadata": {},
     "output_type": "display_data"
    }
   ],
   "source": [
    "\t\n",
    "import matplotlib.patches as mpatches\n",
    "plt.plot(time[0][0:-1], s.keypoints[15].point[:,1], label ='R')\n",
    "plt.plot(time[0][0:-1], s.keypoints[11].point[:,1], label ='L')\n",
    "plt.xlabel('Time [s]')\n",
    "plt.ylabel('Ankles (y-dim) [m]')\n",
    "left, bottom, width, height = (time[0][in_stand_idx], -3.5, time[0][in_wf_idx]-time[0][in_stand_idx], 4)\n",
    "durata_fase = format(time[0][in_wf_idx]-time[0][in_stand_idx],'.2f')\n",
    "rect1=mpatches.Rectangle((left,bottom),width,height, \n",
    "                        #fill=False,\n",
    "                        alpha=0.15,\n",
    "                        color=\"red\",\n",
    "                       linewidth=1.5,\n",
    "                       linestyle='--',\n",
    "                       label =f'Sit2Stand ({durata_fase}\")',\n",
    "                       facecolor=\"red\")\n",
    "plt.gca().add_patch(rect1)\n",
    "left, bottom, width, height = (time[0][in_wf_idx], -3.5, time[0][fin_wf_idx]-time[0][in_wf_idx], 4)\n",
    "durata_fase = format(time[0][fin_wf_idx]-time[0][in_wf_idx],'.2f')\n",
    "rect2=mpatches.Rectangle((left,bottom),width,height, \n",
    "                        #fill=False,\n",
    "                        alpha=0.15,\n",
    "                        color=\"purple\",\n",
    "                       linewidth=1.5,\n",
    "                       linestyle='--',\n",
    "                       label =f'Walk forw ({durata_fase}\")',\n",
    "                       facecolor=\"purple\")\n",
    "plt.gca().add_patch(rect2)\n",
    "left, bottom, width, height = (time[0][fin_wf_idx], -3.5, time[0][fin_turn1_idx]-time[0][fin_wf_idx], 4)\n",
    "durata_fase = format(time[0][fin_turn1_idx]-time[0][fin_wf_idx],'.2f')\n",
    "rect3=mpatches.Rectangle((left,bottom),width,height, \n",
    "                        #fill=False,\n",
    "                        alpha=0.15,\n",
    "                        color=\"blue\",\n",
    "                       linewidth=1.5,\n",
    "                       linestyle='--',\n",
    "                       label =f'1st turn ({durata_fase}\")',\n",
    "                       facecolor=\"blue\")\n",
    "plt.gca().add_patch(rect3)\n",
    "left, bottom, width, height = (time[0][fin_turn1_idx], -3.5, time[0][fin_wb_idx]-time[0][fin_turn1_idx], 4)\n",
    "durata_fase = format(time[0][fin_wb_idx]-time[0][fin_turn1_idx],'.2f')\n",
    "rect4=mpatches.Rectangle((left,bottom),width,height, \n",
    "                        #fill=False,\n",
    "                        alpha=0.15,\n",
    "                        color=\"green\",\n",
    "                       linewidth=1.5,\n",
    "                       linestyle='--',\n",
    "                       label =f'Walk back ({durata_fase}\")',\n",
    "                       facecolor=\"green\")\n",
    "plt.gca().add_patch(rect4)\n",
    "left, bottom, width, height = (time[0][fin_wb_idx], -3.5, time[0][fin_turn2_idx]-time[0][fin_wb_idx], 4)\n",
    "durata_fase= format(time[0][fin_turn2_idx]-time[0][fin_wb_idx],'.2f')\n",
    "rect5=mpatches.Rectangle((left,bottom),width,height, \n",
    "                        #fill=False,\n",
    "                        alpha=0.15,\n",
    "                        color=\"orange\",\n",
    "                       linewidth=1.5,\n",
    "                       linestyle='--',\n",
    "                       label =f'2nd turn ({durata_fase}\")',\n",
    "                       facecolor=\"orange\")\n",
    "plt.gca().add_patch(rect5)\n",
    "left, bottom, width, height = (time[0][fin_turn2_idx], -3.5, time[0][fin_sit_idx]-time[0][fin_turn2_idx], 4)\n",
    "durata_fase= format(time[0][fin_sit_idx]-time[0][fin_turn2_idx],'.2f')\n",
    "rect6=mpatches.Rectangle((left,bottom),width,height, \n",
    "                        #fill=False,\n",
    "                        alpha=0.15,\n",
    "                        color=\"#FFEB00\",\n",
    "                       linewidth=1.5,\n",
    "                       linestyle='--',\n",
    "                       label =f'Stand2Sit ({durata_fase}\")',\n",
    "                       facecolor=\"#FFEB00\")\n",
    "plt.gca().add_patch(rect6)\n",
    "plt.legend()\n",
    "plt.savefig(\"/home/carmela/dev_iit/assistive-rehab/EsempioFasiTUG.svg\", format=\"svg\")"
   ]
  },
  {
   "cell_type": "code",
   "execution_count": null,
   "metadata": {},
   "outputs": [],
   "source": [
    "dur= 49 #49\n",
    "nsigma=3\n",
    "\n",
    "###\n",
    "init_mean= np.mean(acc_hipCenter_z[0:dur])\n",
    "init_std= np.std(acc_hipCenter_z[0:dur])\n",
    "cond1 = np.where(np.abs((acc_hipCenter_z-init_mean)/init_std) > nsigma)[0]\n",
    "\n",
    "cond2=np.where(np.diff(np.sign(acc_hipCenter_y-acc_shoulCenter_y)))[0]\n",
    "\n",
    "in_stand_idx= np.intersect1d(cond1,cond2)[0]\n",
    "\n",
    "###\n",
    "init_mean= np.mean(acc_ankleRight_y[0:dur])\n",
    "init_std= np.std(acc_ankleRight_y[0:dur])\n",
    "in_wf_Right_y_idx = np.where(np.abs((acc_ankleRight_y-init_mean)/init_std) > nsigma)[0]\n",
    "in_wf_Right_y_idx = np.where(vel_ankleRight_y[in_stand_idx:] < -1)[0]+in_stand_idx-2\n",
    "init_mean= np.mean(acc_ankleLeft_y[0:dur])\n",
    "init_std= np.std(acc_ankleLeft_y[0:dur])\n",
    "in_wf_Left_y_idx = np.where(np.abs((acc_ankleLeft_y-init_mean)/init_std) > nsigma)[0]\n",
    "in_wf_Left_y_idx = np.where(vel_ankleLeft_y[in_stand_idx:] < -1)[0]+in_stand_idx-2\n",
    "#in_wf_idx= np.minimum(in_wf_Right_y_idx, in_wf_Left_y_idx)[0]\n",
    "if in_wf_Right_y_idx[0]<in_wf_Left_y_idx[0]:\n",
    "    cond1 = in_wf_Right_y_idx\n",
    "else:\n",
    "    cond1 = in_wf_Left_y_idx\n",
    "\n",
    "cond2 = np.array(np.where(vel_hipCenter_y[in_stand_idx:]<0.))[0]+in_stand_idx-2#\n",
    "in_wf_idx=np.intersect1d(cond1,cond2)[0]\n",
    "\n",
    "#cond1 = np.array(np.where(acc_shoulRight_x>0))[0]\n",
    "diff_vel_x=vel_shoulRight_x-vel_shoulLeft_x\n",
    "diff_acc_x=acc_shoulRight_x-acc_shoulLeft_x\n",
    "cond1= np.array(np.where(diff_acc_x>0))[0]\n",
    "\n",
    "rfoot_cross3m = np.array(np.where(s.keypoints[15].point[:,1]<-3.))[0]#\n",
    "lfoot_cross3m = np.array(np.where(s.keypoints[11].point[:,1]<-3.))[0]#\n",
    "if rfoot_cross3m[0]<lfoot_cross3m[0]:\n",
    "    foot_cross3m = rfoot_cross3m\n",
    "else:\n",
    "    foot_cross3m = lfoot_cross3m\n",
    "\n",
    "fin_wf_idx=np.intersect1d(cond1,foot_cross3m)[0]\n",
    "\n",
    "###\n",
    "diff_shoul = s.keypoints[5].point[:,0]-s.keypoints[2].point[:,0]\n",
    "cond1= np.array(np.where(abs(diff_shoul[fin_wf_idx:]-abs(diff_shoul[0]))<0.01))[0]\n",
    "\n",
    "cond2 = np.array(np.where(vel_shoulCenter_y[fin_wf_idx:]>0.))[0]#\n",
    "\n",
    "fin_turn1_idx=np.intersect1d(cond1,cond2)[0]+fin_wf_idx\n",
    "\n",
    "###\n",
    "diff_acc_x=acc_shoulRight_x-acc_shoulLeft_x\n",
    "cond1= np.array(np.where(diff_acc_x[fin_turn1_idx:]<0))[0]\n",
    "\n",
    "rfoot_cross0m = np.array(np.where(s.keypoints[15].point[fin_turn1_idx:,1]>0.))[0]#\n",
    "lfoot_cross0m = np.array(np.where(s.keypoints[11].point[fin_turn1_idx:,1]>0.))[0]#\n",
    "if rfoot_cross0m[0]<lfoot_cross3m[0]:\n",
    "    foot_cross0m = rfoot_cross0m\n",
    "else:\n",
    "    foot_cross0m = lfoot_cross0m\n",
    "\n",
    "fin_wb_idx=np.intersect1d(cond1,foot_cross0m)[0]+fin_turn1_idx\n",
    "\n",
    "###\n",
    "cond1 = np.where(vel_shoulCenter_z[fin_wb_idx:] < 0.)[0]\n",
    "\n",
    "cond2=np.where(np.diff(np.sign(acc_hipCenter_y[fin_wb_idx:]-acc_shoulCenter_y[fin_wb_idx:])))[0]\n",
    "\n",
    "fin_turn2_idx= np.intersect1d(cond1,cond2)[0]+fin_wb_idx\n",
    "\n",
    "###\n",
    "zero_vel = np.where(np.diff(np.sign(vel_shoulCenter_z[fin_turn2_idx:])))[0]\n",
    "in_sit_idx= fin_turn2_idx + zero_vel[0]\n",
    "\n",
    "init_mean= np.mean(acc_shoulCenter_z[:dur])\n",
    "init_std= np.std(acc_shoulCenter_z[:dur])\n",
    "outliers_indices1 = np.where(np.abs((acc_shoulCenter_z[fin_turn2_idx:]-init_mean)/init_std) < nsigma)[0]\n",
    "init_mean= np.mean(s.keypoints[0].point[:dur,2])\n",
    "init_std= np.std(s.keypoints[0].point[:dur,2])\n",
    "outliers_indices2 = np.where(np.abs((s.keypoints[0].point[fin_turn2_idx:,2]-init_mean)/init_std) < nsigma)[0]\n",
    "elem=np.intersect1d(outliers_indices1,outliers_indices2)[0]\n",
    "fin_sit_idx = fin_turn2_idx + elem\n"
   ]
  },
  {
   "cell_type": "markdown",
   "metadata": {},
   "source": [
    " \n",
    "## Report della seduta odierna\n",
    "Il paziente ha svolto il seguente esercizio: "
   ]
  },
  {
   "cell_type": "code",
   "execution_count": 48,
   "metadata": {
    "scrolled": false
   },
   "outputs": [
    {
     "name": "stdout",
     "output_type": "stream",
     "text": [
      "b'tug'\n"
     ]
    }
   ],
   "source": [
    "\n",
    "print(exname.encode('ascii')) "
   ]
  },
  {
   "cell_type": "markdown",
   "metadata": {},
   "source": [
    " \n",
    "on: "
   ]
  },
  {
   "cell_type": "code",
   "execution_count": 49,
   "metadata": {
    "scrolled": false
   },
   "outputs": [
    {
     "name": "stdout",
     "output_type": "stream",
     "text": [
      "2023-02-28 15:19:24.999164\n"
     ]
    }
   ],
   "source": [
    "\n",
    "now = datetime.datetime.now()\n",
    "print(now)"
   ]
  },
  {
   "cell_type": "markdown",
   "metadata": {},
   "source": [
    " \n",
    "Di seguito si riporta il grafico:"
   ]
  },
  {
   "cell_type": "code",
   "execution_count": 50,
   "metadata": {
    "scrolled": true
   },
   "outputs": [
    {
     "data": {
      "application/vnd.plotly.v1+json": {
       "config": {
        "linkText": "Export to plot.ly",
        "plotlyServerURL": "https://plot.ly",
        "showLink": false
       },
       "data": [
        {
         "line": {
          "color": "blue",
          "width": 3
         },
         "mode": "lines",
         "name": "Distanza tra i piedi",
         "type": "scatter",
         "x": [
          364.45887899398804,
          364.5586404800415,
          364.6589159965515,
          364.7593548297882,
          364.8601448535919,
          364.96894550323486,
          365.0596868991852,
          365.1594166755676,
          365.25956082344055,
          365.3596260547638,
          365.4601356983185,
          365.55979108810425,
          365.6599338054657,
          365.760290145874,
          365.8600797653198,
          365.9602725505829,
          366.0603938102722,
          366.16379594802856,
          366.2636842727661,
          366.3638548851013,
          366.4605884552002,
          366.5609917640686,
          366.6607811450958,
          366.7835304737091,
          366.86488342285156,
          366.96648716926575,
          367.0610132217407,
          367.1611726284027,
          367.26143312454224,
          367.36129570007324,
          367.46194195747375,
          367.5621943473816,
          367.6617558002472,
          367.76181387901306,
          367.8632423877716,
          367.9623694419861,
          368.0634768009186,
          368.16354393959045,
          368.26345467567444,
          368.3634202480316,
          368.4639570713043,
          368.56341767311096,
          368.66284465789795,
          368.76342129707336,
          368.8643660545349,
          368.96563172340393,
          369.06455993652344,
          369.16477060317993,
          369.26576590538025,
          369.3649263381958,
          369.46443724632263,
          369.564484834671,
          369.6652081012726,
          369.7659890651703,
          369.86567997932434,
          369.9659514427185,
          370.0671544075012,
          370.1666123867035,
          370.266783952713,
          370.36477303504944,
          370.4668548107147,
          370.565545797348,
          370.6652846336365,
          370.7655713558197,
          370.8653576374054,
          370.96653938293457,
          371.0674316883087,
          371.1659688949585,
          371.26658487319946,
          371.3692162036896,
          371.46680188179016,
          371.56940364837646,
          371.66719913482666,
          371.7668056488037,
          371.86815881729126,
          371.9680743217468,
          372.0671577453613,
          372.1683523654938,
          372.2659475803375,
          372.3691494464874,
          372.46960973739624,
          372.5661597251892,
          372.66928935050964,
          372.7676477432251,
          372.8702368736267,
          372.9683094024658,
          373.06783747673035,
          373.1671121120453,
          373.26922821998596,
          373.36808013916016,
          373.46855306625366,
          373.5675835609436,
          373.66880536079407,
          373.76876640319824,
          373.8698561191559,
          373.97192335128784,
          374.0674250125885,
          374.16755986213684,
          374.2683062553406,
          374.3683798313141,
          374.46939849853516,
          374.56834268569946,
          374.66983461380005,
          374.7691607475281,
          374.8697361946106,
          374.9699294567108,
          375.06860613822937,
          375.16787028312683,
          375.26893734931946,
          375.3684616088867,
          375.46800565719604,
          375.572505235672,
          375.66814947128296,
          375.77130460739136,
          375.86928486824036,
          375.9735300540924,
          376.0717408657074,
          376.1719069480896,
          376.27218413352966,
          376.37700939178467,
          376.4729585647583,
          376.568984746933,
          376.6694688796997,
          376.7690782546997,
          376.8701825141907,
          376.96993613243103,
          377.06991147994995,
          377.17006039619446,
          377.2700288295746,
          377.369996547699,
          377.47222781181335,
          377.57026195526123,
          377.6698634624481,
          377.77056527137756,
          377.87061953544617,
          377.97315883636475,
          378.07047605514526,
          378.17071175575256,
          378.2701976299286,
          378.37180352211,
          378.4711010456085,
          378.57070755958557,
          378.67058849334717,
          378.77225136756897,
          378.8715682029724,
          378.97123861312866,
          379.0709683895111,
          379.17172718048096,
          379.2713677883148,
          379.37117290496826,
          379.4718773365021,
          379.5713415145874,
          379.6712350845337,
          379.7715103626251,
          379.8717985153198,
          379.97728991508484,
          380.0728027820587,
          380.1717813014984,
          380.27346563339233,
          380.3715305328369,
          380.47183561325073,
          380.5720341205597,
          380.6718740463257,
          380.7727301120758,
          380.87255120277405,
          380.9730746746063,
          381.0756416320801,
          381.17266750335693
         ],
         "y": [
          0.22550608582281653,
          0.22449410230330605,
          0.22367105908357332,
          0.22299201734784557,
          0.22241900966410844,
          0.22192136649083574,
          0.22147594123498096,
          0.22106726565661186,
          0.2206876612271153,
          0.22033732419617655,
          0.21973215850597172,
          0.21963254642540758,
          0.22057042991557646,
          0.22066315834906497,
          0.2210474761517728,
          0.2209823717734921,
          0.2204426246324708,
          0.2196494877596815,
          0.2189636360979769,
          0.21832493459855373,
          0.2177646083233337,
          0.21730273823327276,
          0.21706748683342814,
          0.21720533195504207,
          0.2176642439336071,
          0.21811775448267198,
          0.2184202495025458,
          0.21869372013648444,
          0.21882302537485798,
          0.21905026038040407,
          0.21936599877253152,
          0.21986155840534646,
          0.21913163535531396,
          0.21921545202419354,
          0.21921631877659936,
          0.2191422670840862,
          0.219054143159536,
          0.21901374741977267,
          0.21896669482788364,
          0.21899687881193627,
          0.2190891319127399,
          0.21923053923084845,
          0.21941403027136902,
          0.21962334855398052,
          0.2199412222081849,
          0.22038455790511158,
          0.22083220200803091,
          0.22113280535922938,
          0.22142174059093064,
          0.22157082295054725,
          0.22176109028538757,
          0.22206876095562467,
          0.22230214336916293,
          0.22241024219440156,
          0.22236518313466777,
          0.2221763241558945,
          0.22209904945107686,
          0.22185797786812067,
          0.2215930091984008,
          0.2212874236671306,
          0.2204260319853809,
          0.2191837422122113,
          0.21865374497586224,
          0.21932404784172732,
          0.22087649445453458,
          0.22226287205026304,
          0.2236402223553488,
          0.2257224101653704,
          0.23117186449010155,
          0.23472161482812628,
          0.23453376092263092,
          0.22991426888467417,
          0.22451101360508147,
          0.2375100547137424,
          0.27713706785703673,
          0.3202484727350465,
          0.34590068235671456,
          0.35110013897068265,
          0.32349294190275074,
          0.2603595644826042,
          0.21581935037695213,
          0.1897246693136346,
          0.17769874910441422,
          0.17163312191103808,
          0.16588658499044048,
          0.15957362228309238,
          0.1530114376270221,
          0.15360379050346382,
          0.15725440512448677,
          0.16681886083601197,
          0.17038121501055495,
          0.1550731997800091,
          0.13310111331324698,
          0.12754054465544287,
          0.1306048704280779,
          0.1304200962722548,
          0.12326721642607069,
          0.11490271421177893,
          0.12331514381531429,
          0.13563453773980585,
          0.15684398922660378,
          0.1880535866440192,
          0.2381354415663204,
          0.27908227209671066,
          0.25981307489538885,
          0.20290118004138993,
          0.12324567700822432,
          0.049283899982252403,
          0.11101506111212511,
          0.16719189659995778,
          0.18113105177372915,
          0.16512085500844667,
          0.1625439080660741,
          0.1904937436706369,
          0.23105352673622587,
          0.2522113108727371,
          0.24443057703968832,
          0.21906635388829807,
          0.18670089754324495,
          0.16060871933697082,
          0.14995190105587425,
          0.15491596477893696,
          0.15916664953354923,
          0.15406011783478912,
          0.14495022620652875,
          0.08958172188980949,
          0.06839640477556813,
          0.08177385913089137,
          0.11614056295453634,
          0.2350285558280235,
          0.33000461953236093,
          0.4102564804694569,
          0.46881642520625766,
          0,
          0.5528917724327111,
          0.5308352358832014,
          0.4901880867094133,
          0.4282144919054783,
          0.34261887907749666,
          0.2489165317334858,
          0.15491779272751155,
          0.12423083397550859,
          0.1148790462997327,
          0.19078206548913257,
          0.36205367844573527,
          0.45991485660566,
          0.5184236074466365,
          0.5348401566669787,
          0.5013698363291877,
          0.5149403035723006,
          0.5138892869391699,
          0.49338726168656066,
          0.45266154865553015,
          0.4896283231662134,
          0.4674749295928096,
          0.43491470545676775,
          0.3908053244296834,
          0.37928342062404113,
          0.3529176164271499,
          0.32214406974572823,
          0.28700494074616884,
          0.24757843682526073,
          0.20402637510296093,
          0.15674240214412644,
          0.10696602820611541,
          0.06075270477025562,
          0.05366771631319851
         ]
        },
        {
         "marker": {
          "color": "red",
          "size": 10
         },
         "mode": "markers",
         "name": "Appoggio tallone",
         "type": "scatter",
         "x": [
          365.8600797653198,
          367.5621943473816,
          369.7659890651703,
          372.1683523654938,
          373.46855306625366,
          374.7691607475281,
          375.9735300540924,
          377.87061953544617,
          379.17172718048096
         ],
         "y": [
          0.2210474761517728,
          0.21986155840534646,
          0.22241024219440156,
          0.35110013897068265,
          0.17038121501055495,
          0.27908227209671066,
          0.2522113108727371,
          0.5528917724327111,
          0.5348401566669787
         ]
        }
       ],
       "layout": {
        "autosize": false,
        "font": {
         "color": "black",
         "family": "Courier New, monospace",
         "size": 22
        },
        "height": 600,
        "template": {
         "data": {
          "bar": [
           {
            "error_x": {
             "color": "#2a3f5f"
            },
            "error_y": {
             "color": "#2a3f5f"
            },
            "marker": {
             "line": {
              "color": "#E5ECF6",
              "width": 0.5
             },
             "pattern": {
              "fillmode": "overlay",
              "size": 10,
              "solidity": 0.2
             }
            },
            "type": "bar"
           }
          ],
          "barpolar": [
           {
            "marker": {
             "line": {
              "color": "#E5ECF6",
              "width": 0.5
             },
             "pattern": {
              "fillmode": "overlay",
              "size": 10,
              "solidity": 0.2
             }
            },
            "type": "barpolar"
           }
          ],
          "carpet": [
           {
            "aaxis": {
             "endlinecolor": "#2a3f5f",
             "gridcolor": "white",
             "linecolor": "white",
             "minorgridcolor": "white",
             "startlinecolor": "#2a3f5f"
            },
            "baxis": {
             "endlinecolor": "#2a3f5f",
             "gridcolor": "white",
             "linecolor": "white",
             "minorgridcolor": "white",
             "startlinecolor": "#2a3f5f"
            },
            "type": "carpet"
           }
          ],
          "choropleth": [
           {
            "colorbar": {
             "outlinewidth": 0,
             "ticks": ""
            },
            "type": "choropleth"
           }
          ],
          "contour": [
           {
            "colorbar": {
             "outlinewidth": 0,
             "ticks": ""
            },
            "colorscale": [
             [
              0,
              "#0d0887"
             ],
             [
              0.1111111111111111,
              "#46039f"
             ],
             [
              0.2222222222222222,
              "#7201a8"
             ],
             [
              0.3333333333333333,
              "#9c179e"
             ],
             [
              0.4444444444444444,
              "#bd3786"
             ],
             [
              0.5555555555555556,
              "#d8576b"
             ],
             [
              0.6666666666666666,
              "#ed7953"
             ],
             [
              0.7777777777777778,
              "#fb9f3a"
             ],
             [
              0.8888888888888888,
              "#fdca26"
             ],
             [
              1,
              "#f0f921"
             ]
            ],
            "type": "contour"
           }
          ],
          "contourcarpet": [
           {
            "colorbar": {
             "outlinewidth": 0,
             "ticks": ""
            },
            "type": "contourcarpet"
           }
          ],
          "heatmap": [
           {
            "colorbar": {
             "outlinewidth": 0,
             "ticks": ""
            },
            "colorscale": [
             [
              0,
              "#0d0887"
             ],
             [
              0.1111111111111111,
              "#46039f"
             ],
             [
              0.2222222222222222,
              "#7201a8"
             ],
             [
              0.3333333333333333,
              "#9c179e"
             ],
             [
              0.4444444444444444,
              "#bd3786"
             ],
             [
              0.5555555555555556,
              "#d8576b"
             ],
             [
              0.6666666666666666,
              "#ed7953"
             ],
             [
              0.7777777777777778,
              "#fb9f3a"
             ],
             [
              0.8888888888888888,
              "#fdca26"
             ],
             [
              1,
              "#f0f921"
             ]
            ],
            "type": "heatmap"
           }
          ],
          "heatmapgl": [
           {
            "colorbar": {
             "outlinewidth": 0,
             "ticks": ""
            },
            "colorscale": [
             [
              0,
              "#0d0887"
             ],
             [
              0.1111111111111111,
              "#46039f"
             ],
             [
              0.2222222222222222,
              "#7201a8"
             ],
             [
              0.3333333333333333,
              "#9c179e"
             ],
             [
              0.4444444444444444,
              "#bd3786"
             ],
             [
              0.5555555555555556,
              "#d8576b"
             ],
             [
              0.6666666666666666,
              "#ed7953"
             ],
             [
              0.7777777777777778,
              "#fb9f3a"
             ],
             [
              0.8888888888888888,
              "#fdca26"
             ],
             [
              1,
              "#f0f921"
             ]
            ],
            "type": "heatmapgl"
           }
          ],
          "histogram": [
           {
            "marker": {
             "pattern": {
              "fillmode": "overlay",
              "size": 10,
              "solidity": 0.2
             }
            },
            "type": "histogram"
           }
          ],
          "histogram2d": [
           {
            "colorbar": {
             "outlinewidth": 0,
             "ticks": ""
            },
            "colorscale": [
             [
              0,
              "#0d0887"
             ],
             [
              0.1111111111111111,
              "#46039f"
             ],
             [
              0.2222222222222222,
              "#7201a8"
             ],
             [
              0.3333333333333333,
              "#9c179e"
             ],
             [
              0.4444444444444444,
              "#bd3786"
             ],
             [
              0.5555555555555556,
              "#d8576b"
             ],
             [
              0.6666666666666666,
              "#ed7953"
             ],
             [
              0.7777777777777778,
              "#fb9f3a"
             ],
             [
              0.8888888888888888,
              "#fdca26"
             ],
             [
              1,
              "#f0f921"
             ]
            ],
            "type": "histogram2d"
           }
          ],
          "histogram2dcontour": [
           {
            "colorbar": {
             "outlinewidth": 0,
             "ticks": ""
            },
            "colorscale": [
             [
              0,
              "#0d0887"
             ],
             [
              0.1111111111111111,
              "#46039f"
             ],
             [
              0.2222222222222222,
              "#7201a8"
             ],
             [
              0.3333333333333333,
              "#9c179e"
             ],
             [
              0.4444444444444444,
              "#bd3786"
             ],
             [
              0.5555555555555556,
              "#d8576b"
             ],
             [
              0.6666666666666666,
              "#ed7953"
             ],
             [
              0.7777777777777778,
              "#fb9f3a"
             ],
             [
              0.8888888888888888,
              "#fdca26"
             ],
             [
              1,
              "#f0f921"
             ]
            ],
            "type": "histogram2dcontour"
           }
          ],
          "mesh3d": [
           {
            "colorbar": {
             "outlinewidth": 0,
             "ticks": ""
            },
            "type": "mesh3d"
           }
          ],
          "parcoords": [
           {
            "line": {
             "colorbar": {
              "outlinewidth": 0,
              "ticks": ""
             }
            },
            "type": "parcoords"
           }
          ],
          "pie": [
           {
            "automargin": true,
            "type": "pie"
           }
          ],
          "scatter": [
           {
            "fillpattern": {
             "fillmode": "overlay",
             "size": 10,
             "solidity": 0.2
            },
            "type": "scatter"
           }
          ],
          "scatter3d": [
           {
            "line": {
             "colorbar": {
              "outlinewidth": 0,
              "ticks": ""
             }
            },
            "marker": {
             "colorbar": {
              "outlinewidth": 0,
              "ticks": ""
             }
            },
            "type": "scatter3d"
           }
          ],
          "scattercarpet": [
           {
            "marker": {
             "colorbar": {
              "outlinewidth": 0,
              "ticks": ""
             }
            },
            "type": "scattercarpet"
           }
          ],
          "scattergeo": [
           {
            "marker": {
             "colorbar": {
              "outlinewidth": 0,
              "ticks": ""
             }
            },
            "type": "scattergeo"
           }
          ],
          "scattergl": [
           {
            "marker": {
             "colorbar": {
              "outlinewidth": 0,
              "ticks": ""
             }
            },
            "type": "scattergl"
           }
          ],
          "scattermapbox": [
           {
            "marker": {
             "colorbar": {
              "outlinewidth": 0,
              "ticks": ""
             }
            },
            "type": "scattermapbox"
           }
          ],
          "scatterpolar": [
           {
            "marker": {
             "colorbar": {
              "outlinewidth": 0,
              "ticks": ""
             }
            },
            "type": "scatterpolar"
           }
          ],
          "scatterpolargl": [
           {
            "marker": {
             "colorbar": {
              "outlinewidth": 0,
              "ticks": ""
             }
            },
            "type": "scatterpolargl"
           }
          ],
          "scatterternary": [
           {
            "marker": {
             "colorbar": {
              "outlinewidth": 0,
              "ticks": ""
             }
            },
            "type": "scatterternary"
           }
          ],
          "surface": [
           {
            "colorbar": {
             "outlinewidth": 0,
             "ticks": ""
            },
            "colorscale": [
             [
              0,
              "#0d0887"
             ],
             [
              0.1111111111111111,
              "#46039f"
             ],
             [
              0.2222222222222222,
              "#7201a8"
             ],
             [
              0.3333333333333333,
              "#9c179e"
             ],
             [
              0.4444444444444444,
              "#bd3786"
             ],
             [
              0.5555555555555556,
              "#d8576b"
             ],
             [
              0.6666666666666666,
              "#ed7953"
             ],
             [
              0.7777777777777778,
              "#fb9f3a"
             ],
             [
              0.8888888888888888,
              "#fdca26"
             ],
             [
              1,
              "#f0f921"
             ]
            ],
            "type": "surface"
           }
          ],
          "table": [
           {
            "cells": {
             "fill": {
              "color": "#EBF0F8"
             },
             "line": {
              "color": "white"
             }
            },
            "header": {
             "fill": {
              "color": "#C8D4E3"
             },
             "line": {
              "color": "white"
             }
            },
            "type": "table"
           }
          ]
         },
         "layout": {
          "annotationdefaults": {
           "arrowcolor": "#2a3f5f",
           "arrowhead": 0,
           "arrowwidth": 1
          },
          "autotypenumbers": "strict",
          "coloraxis": {
           "colorbar": {
            "outlinewidth": 0,
            "ticks": ""
           }
          },
          "colorscale": {
           "diverging": [
            [
             0,
             "#8e0152"
            ],
            [
             0.1,
             "#c51b7d"
            ],
            [
             0.2,
             "#de77ae"
            ],
            [
             0.3,
             "#f1b6da"
            ],
            [
             0.4,
             "#fde0ef"
            ],
            [
             0.5,
             "#f7f7f7"
            ],
            [
             0.6,
             "#e6f5d0"
            ],
            [
             0.7,
             "#b8e186"
            ],
            [
             0.8,
             "#7fbc41"
            ],
            [
             0.9,
             "#4d9221"
            ],
            [
             1,
             "#276419"
            ]
           ],
           "sequential": [
            [
             0,
             "#0d0887"
            ],
            [
             0.1111111111111111,
             "#46039f"
            ],
            [
             0.2222222222222222,
             "#7201a8"
            ],
            [
             0.3333333333333333,
             "#9c179e"
            ],
            [
             0.4444444444444444,
             "#bd3786"
            ],
            [
             0.5555555555555556,
             "#d8576b"
            ],
            [
             0.6666666666666666,
             "#ed7953"
            ],
            [
             0.7777777777777778,
             "#fb9f3a"
            ],
            [
             0.8888888888888888,
             "#fdca26"
            ],
            [
             1,
             "#f0f921"
            ]
           ],
           "sequentialminus": [
            [
             0,
             "#0d0887"
            ],
            [
             0.1111111111111111,
             "#46039f"
            ],
            [
             0.2222222222222222,
             "#7201a8"
            ],
            [
             0.3333333333333333,
             "#9c179e"
            ],
            [
             0.4444444444444444,
             "#bd3786"
            ],
            [
             0.5555555555555556,
             "#d8576b"
            ],
            [
             0.6666666666666666,
             "#ed7953"
            ],
            [
             0.7777777777777778,
             "#fb9f3a"
            ],
            [
             0.8888888888888888,
             "#fdca26"
            ],
            [
             1,
             "#f0f921"
            ]
           ]
          },
          "colorway": [
           "#636efa",
           "#EF553B",
           "#00cc96",
           "#ab63fa",
           "#FFA15A",
           "#19d3f3",
           "#FF6692",
           "#B6E880",
           "#FF97FF",
           "#FECB52"
          ],
          "font": {
           "color": "#2a3f5f"
          },
          "geo": {
           "bgcolor": "white",
           "lakecolor": "white",
           "landcolor": "#E5ECF6",
           "showlakes": true,
           "showland": true,
           "subunitcolor": "white"
          },
          "hoverlabel": {
           "align": "left"
          },
          "hovermode": "closest",
          "mapbox": {
           "style": "light"
          },
          "paper_bgcolor": "white",
          "plot_bgcolor": "#E5ECF6",
          "polar": {
           "angularaxis": {
            "gridcolor": "white",
            "linecolor": "white",
            "ticks": ""
           },
           "bgcolor": "#E5ECF6",
           "radialaxis": {
            "gridcolor": "white",
            "linecolor": "white",
            "ticks": ""
           }
          },
          "scene": {
           "xaxis": {
            "backgroundcolor": "#E5ECF6",
            "gridcolor": "white",
            "gridwidth": 2,
            "linecolor": "white",
            "showbackground": true,
            "ticks": "",
            "zerolinecolor": "white"
           },
           "yaxis": {
            "backgroundcolor": "#E5ECF6",
            "gridcolor": "white",
            "gridwidth": 2,
            "linecolor": "white",
            "showbackground": true,
            "ticks": "",
            "zerolinecolor": "white"
           },
           "zaxis": {
            "backgroundcolor": "#E5ECF6",
            "gridcolor": "white",
            "gridwidth": 2,
            "linecolor": "white",
            "showbackground": true,
            "ticks": "",
            "zerolinecolor": "white"
           }
          },
          "shapedefaults": {
           "line": {
            "color": "#2a3f5f"
           }
          },
          "ternary": {
           "aaxis": {
            "gridcolor": "white",
            "linecolor": "white",
            "ticks": ""
           },
           "baxis": {
            "gridcolor": "white",
            "linecolor": "white",
            "ticks": ""
           },
           "bgcolor": "#E5ECF6",
           "caxis": {
            "gridcolor": "white",
            "linecolor": "white",
            "ticks": ""
           }
          },
          "title": {
           "x": 0.05
          },
          "xaxis": {
           "automargin": true,
           "gridcolor": "white",
           "linecolor": "white",
           "ticks": "",
           "title": {
            "standoff": 15
           },
           "zerolinecolor": "white",
           "zerolinewidth": 2
          },
          "yaxis": {
           "automargin": true,
           "gridcolor": "white",
           "linecolor": "white",
           "ticks": "",
           "title": {
            "standoff": 15
           },
           "zerolinecolor": "white",
           "zerolinewidth": 2
          }
         }
        },
        "title": {
         "text": "Distanza tra i piedi"
        },
        "width": 750,
        "xaxis": {
         "title": {
          "font": {
           "color": "#7f7f7f",
           "family": "Courier New, monospace",
           "size": 18
          },
          "text": "time [s]"
         }
        },
        "yaxis": {
         "title": {
          "font": {
           "color": "#7f7f7f",
           "family": "Courier New, monospace",
           "size": 18
          },
          "text": "dist [m]"
         }
        }
       }
      },
      "text/html": [
       "<div>                            <div id=\"15203ad4-5905-4853-960b-c4f58f7875cb\" class=\"plotly-graph-div\" style=\"height:600px; width:750px;\"></div>            <script type=\"text/javascript\">                require([\"plotly\"], function(Plotly) {                    window.PLOTLYENV=window.PLOTLYENV || {};                                    if (document.getElementById(\"15203ad4-5905-4853-960b-c4f58f7875cb\")) {                    Plotly.newPlot(                        \"15203ad4-5905-4853-960b-c4f58f7875cb\",                        [{\"line\":{\"color\":\"blue\",\"width\":3},\"mode\":\"lines\",\"name\":\"Distanza tra i piedi\",\"x\":[364.45887899398804,364.5586404800415,364.6589159965515,364.7593548297882,364.8601448535919,364.96894550323486,365.0596868991852,365.1594166755676,365.25956082344055,365.3596260547638,365.4601356983185,365.55979108810425,365.6599338054657,365.760290145874,365.8600797653198,365.9602725505829,366.0603938102722,366.16379594802856,366.2636842727661,366.3638548851013,366.4605884552002,366.5609917640686,366.6607811450958,366.7835304737091,366.86488342285156,366.96648716926575,367.0610132217407,367.1611726284027,367.26143312454224,367.36129570007324,367.46194195747375,367.5621943473816,367.6617558002472,367.76181387901306,367.8632423877716,367.9623694419861,368.0634768009186,368.16354393959045,368.26345467567444,368.3634202480316,368.4639570713043,368.56341767311096,368.66284465789795,368.76342129707336,368.8643660545349,368.96563172340393,369.06455993652344,369.16477060317993,369.26576590538025,369.3649263381958,369.46443724632263,369.564484834671,369.6652081012726,369.7659890651703,369.86567997932434,369.9659514427185,370.0671544075012,370.1666123867035,370.266783952713,370.36477303504944,370.4668548107147,370.565545797348,370.6652846336365,370.7655713558197,370.8653576374054,370.96653938293457,371.0674316883087,371.1659688949585,371.26658487319946,371.3692162036896,371.46680188179016,371.56940364837646,371.66719913482666,371.7668056488037,371.86815881729126,371.9680743217468,372.0671577453613,372.1683523654938,372.2659475803375,372.3691494464874,372.46960973739624,372.5661597251892,372.66928935050964,372.7676477432251,372.8702368736267,372.9683094024658,373.06783747673035,373.1671121120453,373.26922821998596,373.36808013916016,373.46855306625366,373.5675835609436,373.66880536079407,373.76876640319824,373.8698561191559,373.97192335128784,374.0674250125885,374.16755986213684,374.2683062553406,374.3683798313141,374.46939849853516,374.56834268569946,374.66983461380005,374.7691607475281,374.8697361946106,374.9699294567108,375.06860613822937,375.16787028312683,375.26893734931946,375.3684616088867,375.46800565719604,375.572505235672,375.66814947128296,375.77130460739136,375.86928486824036,375.9735300540924,376.0717408657074,376.1719069480896,376.27218413352966,376.37700939178467,376.4729585647583,376.568984746933,376.6694688796997,376.7690782546997,376.8701825141907,376.96993613243103,377.06991147994995,377.17006039619446,377.2700288295746,377.369996547699,377.47222781181335,377.57026195526123,377.6698634624481,377.77056527137756,377.87061953544617,377.97315883636475,378.07047605514526,378.17071175575256,378.2701976299286,378.37180352211,378.4711010456085,378.57070755958557,378.67058849334717,378.77225136756897,378.8715682029724,378.97123861312866,379.0709683895111,379.17172718048096,379.2713677883148,379.37117290496826,379.4718773365021,379.5713415145874,379.6712350845337,379.7715103626251,379.8717985153198,379.97728991508484,380.0728027820587,380.1717813014984,380.27346563339233,380.3715305328369,380.47183561325073,380.5720341205597,380.6718740463257,380.7727301120758,380.87255120277405,380.9730746746063,381.0756416320801,381.17266750335693],\"y\":[0.22550608582281653,0.22449410230330605,0.22367105908357332,0.22299201734784557,0.22241900966410844,0.22192136649083574,0.22147594123498096,0.22106726565661186,0.2206876612271153,0.22033732419617655,0.21973215850597172,0.21963254642540758,0.22057042991557646,0.22066315834906497,0.2210474761517728,0.2209823717734921,0.2204426246324708,0.2196494877596815,0.2189636360979769,0.21832493459855373,0.2177646083233337,0.21730273823327276,0.21706748683342814,0.21720533195504207,0.2176642439336071,0.21811775448267198,0.2184202495025458,0.21869372013648444,0.21882302537485798,0.21905026038040407,0.21936599877253152,0.21986155840534646,0.21913163535531396,0.21921545202419354,0.21921631877659936,0.2191422670840862,0.219054143159536,0.21901374741977267,0.21896669482788364,0.21899687881193627,0.2190891319127399,0.21923053923084845,0.21941403027136902,0.21962334855398052,0.2199412222081849,0.22038455790511158,0.22083220200803091,0.22113280535922938,0.22142174059093064,0.22157082295054725,0.22176109028538757,0.22206876095562467,0.22230214336916293,0.22241024219440156,0.22236518313466777,0.2221763241558945,0.22209904945107686,0.22185797786812067,0.2215930091984008,0.2212874236671306,0.2204260319853809,0.2191837422122113,0.21865374497586224,0.21932404784172732,0.22087649445453458,0.22226287205026304,0.2236402223553488,0.2257224101653704,0.23117186449010155,0.23472161482812628,0.23453376092263092,0.22991426888467417,0.22451101360508147,0.2375100547137424,0.27713706785703673,0.3202484727350465,0.34590068235671456,0.35110013897068265,0.32349294190275074,0.2603595644826042,0.21581935037695213,0.1897246693136346,0.17769874910441422,0.17163312191103808,0.16588658499044048,0.15957362228309238,0.1530114376270221,0.15360379050346382,0.15725440512448677,0.16681886083601197,0.17038121501055495,0.1550731997800091,0.13310111331324698,0.12754054465544287,0.1306048704280779,0.1304200962722548,0.12326721642607069,0.11490271421177893,0.12331514381531429,0.13563453773980585,0.15684398922660378,0.1880535866440192,0.2381354415663204,0.27908227209671066,0.25981307489538885,0.20290118004138993,0.12324567700822432,0.049283899982252403,0.11101506111212511,0.16719189659995778,0.18113105177372915,0.16512085500844667,0.1625439080660741,0.1904937436706369,0.23105352673622587,0.2522113108727371,0.24443057703968832,0.21906635388829807,0.18670089754324495,0.16060871933697082,0.14995190105587425,0.15491596477893696,0.15916664953354923,0.15406011783478912,0.14495022620652875,0.08958172188980949,0.06839640477556813,0.08177385913089137,0.11614056295453634,0.2350285558280235,0.33000461953236093,0.4102564804694569,0.46881642520625766,0.0,0.5528917724327111,0.5308352358832014,0.4901880867094133,0.4282144919054783,0.34261887907749666,0.2489165317334858,0.15491779272751155,0.12423083397550859,0.1148790462997327,0.19078206548913257,0.36205367844573527,0.45991485660566,0.5184236074466365,0.5348401566669787,0.5013698363291877,0.5149403035723006,0.5138892869391699,0.49338726168656066,0.45266154865553015,0.4896283231662134,0.4674749295928096,0.43491470545676775,0.3908053244296834,0.37928342062404113,0.3529176164271499,0.32214406974572823,0.28700494074616884,0.24757843682526073,0.20402637510296093,0.15674240214412644,0.10696602820611541,0.06075270477025562,0.05366771631319851],\"type\":\"scatter\"},{\"marker\":{\"color\":\"red\",\"size\":10},\"mode\":\"markers\",\"name\":\"Appoggio tallone\",\"x\":[365.8600797653198,367.5621943473816,369.7659890651703,372.1683523654938,373.46855306625366,374.7691607475281,375.9735300540924,377.87061953544617,379.17172718048096],\"y\":[0.2210474761517728,0.21986155840534646,0.22241024219440156,0.35110013897068265,0.17038121501055495,0.27908227209671066,0.2522113108727371,0.5528917724327111,0.5348401566669787],\"type\":\"scatter\"}],                        {\"autosize\":false,\"font\":{\"color\":\"black\",\"family\":\"Courier New, monospace\",\"size\":22},\"height\":600,\"template\":{\"data\":{\"barpolar\":[{\"marker\":{\"line\":{\"color\":\"#E5ECF6\",\"width\":0.5},\"pattern\":{\"fillmode\":\"overlay\",\"size\":10,\"solidity\":0.2}},\"type\":\"barpolar\"}],\"bar\":[{\"error_x\":{\"color\":\"#2a3f5f\"},\"error_y\":{\"color\":\"#2a3f5f\"},\"marker\":{\"line\":{\"color\":\"#E5ECF6\",\"width\":0.5},\"pattern\":{\"fillmode\":\"overlay\",\"size\":10,\"solidity\":0.2}},\"type\":\"bar\"}],\"carpet\":[{\"aaxis\":{\"endlinecolor\":\"#2a3f5f\",\"gridcolor\":\"white\",\"linecolor\":\"white\",\"minorgridcolor\":\"white\",\"startlinecolor\":\"#2a3f5f\"},\"baxis\":{\"endlinecolor\":\"#2a3f5f\",\"gridcolor\":\"white\",\"linecolor\":\"white\",\"minorgridcolor\":\"white\",\"startlinecolor\":\"#2a3f5f\"},\"type\":\"carpet\"}],\"choropleth\":[{\"colorbar\":{\"outlinewidth\":0,\"ticks\":\"\"},\"type\":\"choropleth\"}],\"contourcarpet\":[{\"colorbar\":{\"outlinewidth\":0,\"ticks\":\"\"},\"type\":\"contourcarpet\"}],\"contour\":[{\"colorbar\":{\"outlinewidth\":0,\"ticks\":\"\"},\"colorscale\":[[0.0,\"#0d0887\"],[0.1111111111111111,\"#46039f\"],[0.2222222222222222,\"#7201a8\"],[0.3333333333333333,\"#9c179e\"],[0.4444444444444444,\"#bd3786\"],[0.5555555555555556,\"#d8576b\"],[0.6666666666666666,\"#ed7953\"],[0.7777777777777778,\"#fb9f3a\"],[0.8888888888888888,\"#fdca26\"],[1.0,\"#f0f921\"]],\"type\":\"contour\"}],\"heatmapgl\":[{\"colorbar\":{\"outlinewidth\":0,\"ticks\":\"\"},\"colorscale\":[[0.0,\"#0d0887\"],[0.1111111111111111,\"#46039f\"],[0.2222222222222222,\"#7201a8\"],[0.3333333333333333,\"#9c179e\"],[0.4444444444444444,\"#bd3786\"],[0.5555555555555556,\"#d8576b\"],[0.6666666666666666,\"#ed7953\"],[0.7777777777777778,\"#fb9f3a\"],[0.8888888888888888,\"#fdca26\"],[1.0,\"#f0f921\"]],\"type\":\"heatmapgl\"}],\"heatmap\":[{\"colorbar\":{\"outlinewidth\":0,\"ticks\":\"\"},\"colorscale\":[[0.0,\"#0d0887\"],[0.1111111111111111,\"#46039f\"],[0.2222222222222222,\"#7201a8\"],[0.3333333333333333,\"#9c179e\"],[0.4444444444444444,\"#bd3786\"],[0.5555555555555556,\"#d8576b\"],[0.6666666666666666,\"#ed7953\"],[0.7777777777777778,\"#fb9f3a\"],[0.8888888888888888,\"#fdca26\"],[1.0,\"#f0f921\"]],\"type\":\"heatmap\"}],\"histogram2dcontour\":[{\"colorbar\":{\"outlinewidth\":0,\"ticks\":\"\"},\"colorscale\":[[0.0,\"#0d0887\"],[0.1111111111111111,\"#46039f\"],[0.2222222222222222,\"#7201a8\"],[0.3333333333333333,\"#9c179e\"],[0.4444444444444444,\"#bd3786\"],[0.5555555555555556,\"#d8576b\"],[0.6666666666666666,\"#ed7953\"],[0.7777777777777778,\"#fb9f3a\"],[0.8888888888888888,\"#fdca26\"],[1.0,\"#f0f921\"]],\"type\":\"histogram2dcontour\"}],\"histogram2d\":[{\"colorbar\":{\"outlinewidth\":0,\"ticks\":\"\"},\"colorscale\":[[0.0,\"#0d0887\"],[0.1111111111111111,\"#46039f\"],[0.2222222222222222,\"#7201a8\"],[0.3333333333333333,\"#9c179e\"],[0.4444444444444444,\"#bd3786\"],[0.5555555555555556,\"#d8576b\"],[0.6666666666666666,\"#ed7953\"],[0.7777777777777778,\"#fb9f3a\"],[0.8888888888888888,\"#fdca26\"],[1.0,\"#f0f921\"]],\"type\":\"histogram2d\"}],\"histogram\":[{\"marker\":{\"pattern\":{\"fillmode\":\"overlay\",\"size\":10,\"solidity\":0.2}},\"type\":\"histogram\"}],\"mesh3d\":[{\"colorbar\":{\"outlinewidth\":0,\"ticks\":\"\"},\"type\":\"mesh3d\"}],\"parcoords\":[{\"line\":{\"colorbar\":{\"outlinewidth\":0,\"ticks\":\"\"}},\"type\":\"parcoords\"}],\"pie\":[{\"automargin\":true,\"type\":\"pie\"}],\"scatter3d\":[{\"line\":{\"colorbar\":{\"outlinewidth\":0,\"ticks\":\"\"}},\"marker\":{\"colorbar\":{\"outlinewidth\":0,\"ticks\":\"\"}},\"type\":\"scatter3d\"}],\"scattercarpet\":[{\"marker\":{\"colorbar\":{\"outlinewidth\":0,\"ticks\":\"\"}},\"type\":\"scattercarpet\"}],\"scattergeo\":[{\"marker\":{\"colorbar\":{\"outlinewidth\":0,\"ticks\":\"\"}},\"type\":\"scattergeo\"}],\"scattergl\":[{\"marker\":{\"colorbar\":{\"outlinewidth\":0,\"ticks\":\"\"}},\"type\":\"scattergl\"}],\"scattermapbox\":[{\"marker\":{\"colorbar\":{\"outlinewidth\":0,\"ticks\":\"\"}},\"type\":\"scattermapbox\"}],\"scatterpolargl\":[{\"marker\":{\"colorbar\":{\"outlinewidth\":0,\"ticks\":\"\"}},\"type\":\"scatterpolargl\"}],\"scatterpolar\":[{\"marker\":{\"colorbar\":{\"outlinewidth\":0,\"ticks\":\"\"}},\"type\":\"scatterpolar\"}],\"scatter\":[{\"fillpattern\":{\"fillmode\":\"overlay\",\"size\":10,\"solidity\":0.2},\"type\":\"scatter\"}],\"scatterternary\":[{\"marker\":{\"colorbar\":{\"outlinewidth\":0,\"ticks\":\"\"}},\"type\":\"scatterternary\"}],\"surface\":[{\"colorbar\":{\"outlinewidth\":0,\"ticks\":\"\"},\"colorscale\":[[0.0,\"#0d0887\"],[0.1111111111111111,\"#46039f\"],[0.2222222222222222,\"#7201a8\"],[0.3333333333333333,\"#9c179e\"],[0.4444444444444444,\"#bd3786\"],[0.5555555555555556,\"#d8576b\"],[0.6666666666666666,\"#ed7953\"],[0.7777777777777778,\"#fb9f3a\"],[0.8888888888888888,\"#fdca26\"],[1.0,\"#f0f921\"]],\"type\":\"surface\"}],\"table\":[{\"cells\":{\"fill\":{\"color\":\"#EBF0F8\"},\"line\":{\"color\":\"white\"}},\"header\":{\"fill\":{\"color\":\"#C8D4E3\"},\"line\":{\"color\":\"white\"}},\"type\":\"table\"}]},\"layout\":{\"annotationdefaults\":{\"arrowcolor\":\"#2a3f5f\",\"arrowhead\":0,\"arrowwidth\":1},\"autotypenumbers\":\"strict\",\"coloraxis\":{\"colorbar\":{\"outlinewidth\":0,\"ticks\":\"\"}},\"colorscale\":{\"diverging\":[[0,\"#8e0152\"],[0.1,\"#c51b7d\"],[0.2,\"#de77ae\"],[0.3,\"#f1b6da\"],[0.4,\"#fde0ef\"],[0.5,\"#f7f7f7\"],[0.6,\"#e6f5d0\"],[0.7,\"#b8e186\"],[0.8,\"#7fbc41\"],[0.9,\"#4d9221\"],[1,\"#276419\"]],\"sequential\":[[0.0,\"#0d0887\"],[0.1111111111111111,\"#46039f\"],[0.2222222222222222,\"#7201a8\"],[0.3333333333333333,\"#9c179e\"],[0.4444444444444444,\"#bd3786\"],[0.5555555555555556,\"#d8576b\"],[0.6666666666666666,\"#ed7953\"],[0.7777777777777778,\"#fb9f3a\"],[0.8888888888888888,\"#fdca26\"],[1.0,\"#f0f921\"]],\"sequentialminus\":[[0.0,\"#0d0887\"],[0.1111111111111111,\"#46039f\"],[0.2222222222222222,\"#7201a8\"],[0.3333333333333333,\"#9c179e\"],[0.4444444444444444,\"#bd3786\"],[0.5555555555555556,\"#d8576b\"],[0.6666666666666666,\"#ed7953\"],[0.7777777777777778,\"#fb9f3a\"],[0.8888888888888888,\"#fdca26\"],[1.0,\"#f0f921\"]]},\"colorway\":[\"#636efa\",\"#EF553B\",\"#00cc96\",\"#ab63fa\",\"#FFA15A\",\"#19d3f3\",\"#FF6692\",\"#B6E880\",\"#FF97FF\",\"#FECB52\"],\"font\":{\"color\":\"#2a3f5f\"},\"geo\":{\"bgcolor\":\"white\",\"lakecolor\":\"white\",\"landcolor\":\"#E5ECF6\",\"showlakes\":true,\"showland\":true,\"subunitcolor\":\"white\"},\"hoverlabel\":{\"align\":\"left\"},\"hovermode\":\"closest\",\"mapbox\":{\"style\":\"light\"},\"paper_bgcolor\":\"white\",\"plot_bgcolor\":\"#E5ECF6\",\"polar\":{\"angularaxis\":{\"gridcolor\":\"white\",\"linecolor\":\"white\",\"ticks\":\"\"},\"bgcolor\":\"#E5ECF6\",\"radialaxis\":{\"gridcolor\":\"white\",\"linecolor\":\"white\",\"ticks\":\"\"}},\"scene\":{\"xaxis\":{\"backgroundcolor\":\"#E5ECF6\",\"gridcolor\":\"white\",\"gridwidth\":2,\"linecolor\":\"white\",\"showbackground\":true,\"ticks\":\"\",\"zerolinecolor\":\"white\"},\"yaxis\":{\"backgroundcolor\":\"#E5ECF6\",\"gridcolor\":\"white\",\"gridwidth\":2,\"linecolor\":\"white\",\"showbackground\":true,\"ticks\":\"\",\"zerolinecolor\":\"white\"},\"zaxis\":{\"backgroundcolor\":\"#E5ECF6\",\"gridcolor\":\"white\",\"gridwidth\":2,\"linecolor\":\"white\",\"showbackground\":true,\"ticks\":\"\",\"zerolinecolor\":\"white\"}},\"shapedefaults\":{\"line\":{\"color\":\"#2a3f5f\"}},\"ternary\":{\"aaxis\":{\"gridcolor\":\"white\",\"linecolor\":\"white\",\"ticks\":\"\"},\"baxis\":{\"gridcolor\":\"white\",\"linecolor\":\"white\",\"ticks\":\"\"},\"bgcolor\":\"#E5ECF6\",\"caxis\":{\"gridcolor\":\"white\",\"linecolor\":\"white\",\"ticks\":\"\"}},\"title\":{\"x\":0.05},\"xaxis\":{\"automargin\":true,\"gridcolor\":\"white\",\"linecolor\":\"white\",\"ticks\":\"\",\"title\":{\"standoff\":15},\"zerolinecolor\":\"white\",\"zerolinewidth\":2},\"yaxis\":{\"automargin\":true,\"gridcolor\":\"white\",\"linecolor\":\"white\",\"ticks\":\"\",\"title\":{\"standoff\":15},\"zerolinecolor\":\"white\",\"zerolinewidth\":2}}},\"title\":{\"text\":\"Distanza tra i piedi\"},\"width\":750,\"xaxis\":{\"title\":{\"font\":{\"color\":\"#7f7f7f\",\"family\":\"Courier New, monospace\",\"size\":18},\"text\":\"time [s]\"}},\"yaxis\":{\"title\":{\"font\":{\"color\":\"#7f7f7f\",\"family\":\"Courier New, monospace\",\"size\":18},\"text\":\"dist [m]\"}}},                        {\"responsive\": true}                    ).then(function(){\n",
       "                            \n",
       "var gd = document.getElementById('15203ad4-5905-4853-960b-c4f58f7875cb');\n",
       "var x = new MutationObserver(function (mutations, observer) {{\n",
       "        var display = window.getComputedStyle(gd).display;\n",
       "        if (!display || display === 'none') {{\n",
       "            console.log([gd, 'removed!']);\n",
       "            Plotly.purge(gd);\n",
       "            observer.disconnect();\n",
       "        }}\n",
       "}});\n",
       "\n",
       "// Listen for the removal of the full notebook cells\n",
       "var notebookContainer = gd.closest('#notebook-container');\n",
       "if (notebookContainer) {{\n",
       "    x.observe(notebookContainer, {childList: true});\n",
       "}}\n",
       "\n",
       "// Listen for the clearing of the current output cell\n",
       "var outputEl = gd.closest('.output');\n",
       "if (outputEl) {{\n",
       "    x.observe(outputEl, {childList: true});\n",
       "}}\n",
       "\n",
       "                        })                };                });            </script>        </div>"
      ]
     },
     "metadata": {},
     "output_type": "display_data"
    },
    {
     "data": {
      "text/html": [
       "<div>\n",
       "<style scoped>\n",
       "    .dataframe tbody tr th:only-of-type {\n",
       "        vertical-align: middle;\n",
       "    }\n",
       "\n",
       "    .dataframe tbody tr th {\n",
       "        vertical-align: top;\n",
       "    }\n",
       "\n",
       "    .dataframe thead th {\n",
       "        text-align: right;\n",
       "    }\n",
       "</style>\n",
       "<table border=\"1\" class=\"dataframe\">\n",
       "  <thead>\n",
       "    <tr style=\"text-align: right;\">\n",
       "      <th></th>\n",
       "      <th>Gait analysis</th>\n",
       "    </tr>\n",
       "  </thead>\n",
       "  <tbody>\n",
       "    <tr>\n",
       "      <th>Step Length Avg. [m]</th>\n",
       "      <td>0.311536</td>\n",
       "    </tr>\n",
       "    <tr>\n",
       "      <th>Number of steps</th>\n",
       "      <td>9.000000</td>\n",
       "    </tr>\n",
       "    <tr>\n",
       "      <th>Cadence [steps/s]</th>\n",
       "      <td>0.535295</td>\n",
       "    </tr>\n",
       "    <tr>\n",
       "      <th>Speed [m/s]</th>\n",
       "      <td>0.166764</td>\n",
       "    </tr>\n",
       "    <tr>\n",
       "      <th>Execution time [s]</th>\n",
       "      <td>16.813154</td>\n",
       "    </tr>\n",
       "  </tbody>\n",
       "</table>\n",
       "</div>"
      ],
      "text/plain": [
       "                      Gait analysis\n",
       "Step Length Avg. [m]       0.311536\n",
       "Number of steps            9.000000\n",
       "Cadence [steps/s]          0.535295\n",
       "Speed [m/s]                0.166764\n",
       "Execution time [s]        16.813154"
      ]
     },
     "metadata": {},
     "output_type": "display_data"
    }
   ],
   "source": [
    "lastsess_time = time[-1]\n",
    "lastsess_result = exercises[-1].result\n",
    "lastsess_res_step = []\n",
    "\n",
    "%matplotlib inline\n",
    "%matplotlib inline\n",
    "for i in range(len(lastsess_result)):\n",
    "    lastsess_met,lastsess_resi = lastsess_result[i]\n",
    "    lastsess_metname = lastsess_met.name\n",
    "\n",
    "    ################\n",
    "    #     STEP     #\n",
    "    ################\n",
    "    if lastsess_metname == \"step\":\n",
    "        dist=lastsess_resi[5]\n",
    "        strikes=lastsess_resi[6]\n",
    "        trace1 = go.Scatter(\n",
    "            x=lastsess_time,y=dist,\n",
    "            mode='lines',\n",
    "            line=dict(\n",
    "                color='blue',\n",
    "                width=3\n",
    "            ),\n",
    "            name='Distanza tra i piedi'\n",
    "        )\n",
    "        trace2 = go.Scatter(\n",
    "            x=lastsess_time[strikes],y=dist[strikes],\n",
    "            mode='markers',\n",
    "            marker=dict(\n",
    "                color='red',\n",
    "                size=10\n",
    "            ),\n",
    "            name='Appoggio tallone'\n",
    "        )\n",
    "        data = [trace1,trace2]\n",
    "        layout = dict(\n",
    "            width=750,\n",
    "            height=600,\n",
    "            autosize=False,\n",
    "            title='Distanza tra i piedi',\n",
    "            font=dict(family='Courier New, monospace', size=22, color='black'),\n",
    "            xaxis=dict(\n",
    "                title='time [s]',\n",
    "                titlefont=dict(\n",
    "                    family='Courier New, monospace',\n",
    "                    size=18,\n",
    "                    color='#7f7f7f'\n",
    "                )\n",
    "            ),\n",
    "            yaxis=dict(\n",
    "                title='dist [m]',\n",
    "                titlefont=dict(\n",
    "                    family='Courier New, monospace',\n",
    "                    size=18,\n",
    "                    color='#7f7f7f'\n",
    "                )\n",
    "            )\n",
    "        )\n",
    "        fig = dict(data=data, layout=layout)\n",
    "        iplot(fig)\n",
    "\n",
    "        lastsess_res_step.append(lastsess_resi)\n",
    "        sla = lastsess_res_step[0][8]\n",
    "        ns = lastsess_res_step[0][1]\n",
    "        cad = lastsess_res_step[0][2]\n",
    "        sp = lastsess_res_step[0][3]\n",
    "        ex = lastsess_res_step[0][4]\n",
    "        tablestep = pd.DataFrame([sla, ns, cad, sp, ex])\n",
    "        tablestep.rename(index={0:\"Step Length Avg. [m]\",1:\"Number of steps\",2:\"Cadence [steps/s]\",\n",
    "                                3:\"Speed [m/s]\",4:\"Execution time [s]\"},\n",
    "                         columns={0:\"Gait analysis\"}, inplace=True)\n",
    "        display(tablestep)\n",
    "\n"
   ]
  },
  {
   "cell_type": "code",
   "execution_count": 51,
   "metadata": {
    "scrolled": false
   },
   "outputs": [
    {
     "data": {
      "text/html": [
       "<div>\n",
       "<style scoped>\n",
       "    .dataframe tbody tr th:only-of-type {\n",
       "        vertical-align: middle;\n",
       "    }\n",
       "\n",
       "    .dataframe tbody tr th {\n",
       "        vertical-align: top;\n",
       "    }\n",
       "\n",
       "    .dataframe thead th {\n",
       "        text-align: right;\n",
       "    }\n",
       "</style>\n",
       "<table border=\"1\" class=\"dataframe\">\n",
       "  <thead>\n",
       "    <tr style=\"text-align: right;\">\n",
       "      <th></th>\n",
       "      <th>Tabella TUG</th>\n",
       "    </tr>\n",
       "  </thead>\n",
       "  <tbody>\n",
       "    <tr>\n",
       "      <th>&lt; 10 s</th>\n",
       "      <td>Normale mobilità</td>\n",
       "    </tr>\n",
       "    <tr>\n",
       "      <th>&lt; 20 s</th>\n",
       "      <td>Buona mobilita</td>\n",
       "    </tr>\n",
       "    <tr>\n",
       "      <th>&lt; 30 s</th>\n",
       "      <td>Ausili cammino</td>\n",
       "    </tr>\n",
       "    <tr>\n",
       "      <th>&gt;= 30 s</th>\n",
       "      <td>Rischio caduta</td>\n",
       "    </tr>\n",
       "  </tbody>\n",
       "</table>\n",
       "</div>"
      ],
      "text/plain": [
       "              Tabella TUG\n",
       "< 10 s   Normale mobilità\n",
       "< 20 s     Buona mobilita\n",
       "< 30 s     Ausili cammino\n",
       ">= 30 s    Rischio caduta"
      ]
     },
     "metadata": {},
     "output_type": "display_data"
    },
    {
     "name": "stdout",
     "output_type": "stream",
     "text": [
      "Il test è stato svolto in 16.81 s\n",
      "La valutazione è \u001b[1;30;42m Buona mobilità, non necessita ausili\n"
     ]
    }
   ],
   "source": [
    "if exname == 'tug':\n",
    "\n",
    "    table_tug = pd.DataFrame([['Normale mobilità'],['Buona mobilita'],['Ausili cammino'],['Rischio caduta']],\n",
    "             index=['< 10 s','< 20 s','< 30 s','>= 30 s'],\n",
    "             columns=['Tabella TUG'])\n",
    "    display(table_tug)\n",
    "\n",
    "    time_score = lastsess_res_step[0][4]\n",
    "    print(\"Il test è stato svolto in\",round(time_score,2),\"s\")\n",
    "    if time_score < 10:\n",
    "        evaluation = 'Normale mobilità'\n",
    "        print(\"La valutazione è \u001b[1;30;42m\",evaluation)\n",
    "    elif time_score < 20:\n",
    "        evaluation = 'Buona mobilità, non necessita ausili'\n",
    "        print(\"La valutazione è \u001b[1;30;42m\",evaluation)\n",
    "    elif time_score < 30:\n",
    "        evaluation = 'Necessita ausili cammino'\n",
    "        print(\"La valutazione è \u001b[1;30;43m\",evaluation)\n",
    "    elif time_score >= 30:\n",
    "        evaluation = 'Rischio caduta'\n",
    "        print(\"La valutazione è \u001b[1;30;41m\",evaluation)\n"
   ]
  },
  {
   "cell_type": "markdown",
   "metadata": {},
   "source": [
    " \n",
    "## Andamento stato clinico"
   ]
  },
  {
   "cell_type": "markdown",
   "metadata": {},
   "source": [
    " \n",
    "Gli esercizi svolti dal paziente nei mesi in analisi sono raggruppati come segue:"
   ]
  },
  {
   "cell_type": "code",
   "execution_count": 52,
   "metadata": {
    "scrolled": false
   },
   "outputs": [
    {
     "data": {
      "application/vnd.plotly.v1+json": {
       "config": {
        "linkText": "Export to plot.ly",
        "plotlyServerURL": "https://plot.ly",
        "showLink": false
       },
       "data": [
        {
         "hole": 0.3,
         "hoverinfo": "label+percent+value",
         "labels": [
          "timed-up-and-go"
         ],
         "marker": {
          "colors": [
           "#FEBFB3"
          ],
          "line": {
           "color": "#000000",
           "width": 2
          }
         },
         "textfont": {
          "size": 20
         },
         "type": "pie",
         "values": [
          0
         ]
        }
       ],
       "layout": {
        "template": {
         "data": {
          "bar": [
           {
            "error_x": {
             "color": "#2a3f5f"
            },
            "error_y": {
             "color": "#2a3f5f"
            },
            "marker": {
             "line": {
              "color": "#E5ECF6",
              "width": 0.5
             },
             "pattern": {
              "fillmode": "overlay",
              "size": 10,
              "solidity": 0.2
             }
            },
            "type": "bar"
           }
          ],
          "barpolar": [
           {
            "marker": {
             "line": {
              "color": "#E5ECF6",
              "width": 0.5
             },
             "pattern": {
              "fillmode": "overlay",
              "size": 10,
              "solidity": 0.2
             }
            },
            "type": "barpolar"
           }
          ],
          "carpet": [
           {
            "aaxis": {
             "endlinecolor": "#2a3f5f",
             "gridcolor": "white",
             "linecolor": "white",
             "minorgridcolor": "white",
             "startlinecolor": "#2a3f5f"
            },
            "baxis": {
             "endlinecolor": "#2a3f5f",
             "gridcolor": "white",
             "linecolor": "white",
             "minorgridcolor": "white",
             "startlinecolor": "#2a3f5f"
            },
            "type": "carpet"
           }
          ],
          "choropleth": [
           {
            "colorbar": {
             "outlinewidth": 0,
             "ticks": ""
            },
            "type": "choropleth"
           }
          ],
          "contour": [
           {
            "colorbar": {
             "outlinewidth": 0,
             "ticks": ""
            },
            "colorscale": [
             [
              0,
              "#0d0887"
             ],
             [
              0.1111111111111111,
              "#46039f"
             ],
             [
              0.2222222222222222,
              "#7201a8"
             ],
             [
              0.3333333333333333,
              "#9c179e"
             ],
             [
              0.4444444444444444,
              "#bd3786"
             ],
             [
              0.5555555555555556,
              "#d8576b"
             ],
             [
              0.6666666666666666,
              "#ed7953"
             ],
             [
              0.7777777777777778,
              "#fb9f3a"
             ],
             [
              0.8888888888888888,
              "#fdca26"
             ],
             [
              1,
              "#f0f921"
             ]
            ],
            "type": "contour"
           }
          ],
          "contourcarpet": [
           {
            "colorbar": {
             "outlinewidth": 0,
             "ticks": ""
            },
            "type": "contourcarpet"
           }
          ],
          "heatmap": [
           {
            "colorbar": {
             "outlinewidth": 0,
             "ticks": ""
            },
            "colorscale": [
             [
              0,
              "#0d0887"
             ],
             [
              0.1111111111111111,
              "#46039f"
             ],
             [
              0.2222222222222222,
              "#7201a8"
             ],
             [
              0.3333333333333333,
              "#9c179e"
             ],
             [
              0.4444444444444444,
              "#bd3786"
             ],
             [
              0.5555555555555556,
              "#d8576b"
             ],
             [
              0.6666666666666666,
              "#ed7953"
             ],
             [
              0.7777777777777778,
              "#fb9f3a"
             ],
             [
              0.8888888888888888,
              "#fdca26"
             ],
             [
              1,
              "#f0f921"
             ]
            ],
            "type": "heatmap"
           }
          ],
          "heatmapgl": [
           {
            "colorbar": {
             "outlinewidth": 0,
             "ticks": ""
            },
            "colorscale": [
             [
              0,
              "#0d0887"
             ],
             [
              0.1111111111111111,
              "#46039f"
             ],
             [
              0.2222222222222222,
              "#7201a8"
             ],
             [
              0.3333333333333333,
              "#9c179e"
             ],
             [
              0.4444444444444444,
              "#bd3786"
             ],
             [
              0.5555555555555556,
              "#d8576b"
             ],
             [
              0.6666666666666666,
              "#ed7953"
             ],
             [
              0.7777777777777778,
              "#fb9f3a"
             ],
             [
              0.8888888888888888,
              "#fdca26"
             ],
             [
              1,
              "#f0f921"
             ]
            ],
            "type": "heatmapgl"
           }
          ],
          "histogram": [
           {
            "marker": {
             "pattern": {
              "fillmode": "overlay",
              "size": 10,
              "solidity": 0.2
             }
            },
            "type": "histogram"
           }
          ],
          "histogram2d": [
           {
            "colorbar": {
             "outlinewidth": 0,
             "ticks": ""
            },
            "colorscale": [
             [
              0,
              "#0d0887"
             ],
             [
              0.1111111111111111,
              "#46039f"
             ],
             [
              0.2222222222222222,
              "#7201a8"
             ],
             [
              0.3333333333333333,
              "#9c179e"
             ],
             [
              0.4444444444444444,
              "#bd3786"
             ],
             [
              0.5555555555555556,
              "#d8576b"
             ],
             [
              0.6666666666666666,
              "#ed7953"
             ],
             [
              0.7777777777777778,
              "#fb9f3a"
             ],
             [
              0.8888888888888888,
              "#fdca26"
             ],
             [
              1,
              "#f0f921"
             ]
            ],
            "type": "histogram2d"
           }
          ],
          "histogram2dcontour": [
           {
            "colorbar": {
             "outlinewidth": 0,
             "ticks": ""
            },
            "colorscale": [
             [
              0,
              "#0d0887"
             ],
             [
              0.1111111111111111,
              "#46039f"
             ],
             [
              0.2222222222222222,
              "#7201a8"
             ],
             [
              0.3333333333333333,
              "#9c179e"
             ],
             [
              0.4444444444444444,
              "#bd3786"
             ],
             [
              0.5555555555555556,
              "#d8576b"
             ],
             [
              0.6666666666666666,
              "#ed7953"
             ],
             [
              0.7777777777777778,
              "#fb9f3a"
             ],
             [
              0.8888888888888888,
              "#fdca26"
             ],
             [
              1,
              "#f0f921"
             ]
            ],
            "type": "histogram2dcontour"
           }
          ],
          "mesh3d": [
           {
            "colorbar": {
             "outlinewidth": 0,
             "ticks": ""
            },
            "type": "mesh3d"
           }
          ],
          "parcoords": [
           {
            "line": {
             "colorbar": {
              "outlinewidth": 0,
              "ticks": ""
             }
            },
            "type": "parcoords"
           }
          ],
          "pie": [
           {
            "automargin": true,
            "type": "pie"
           }
          ],
          "scatter": [
           {
            "fillpattern": {
             "fillmode": "overlay",
             "size": 10,
             "solidity": 0.2
            },
            "type": "scatter"
           }
          ],
          "scatter3d": [
           {
            "line": {
             "colorbar": {
              "outlinewidth": 0,
              "ticks": ""
             }
            },
            "marker": {
             "colorbar": {
              "outlinewidth": 0,
              "ticks": ""
             }
            },
            "type": "scatter3d"
           }
          ],
          "scattercarpet": [
           {
            "marker": {
             "colorbar": {
              "outlinewidth": 0,
              "ticks": ""
             }
            },
            "type": "scattercarpet"
           }
          ],
          "scattergeo": [
           {
            "marker": {
             "colorbar": {
              "outlinewidth": 0,
              "ticks": ""
             }
            },
            "type": "scattergeo"
           }
          ],
          "scattergl": [
           {
            "marker": {
             "colorbar": {
              "outlinewidth": 0,
              "ticks": ""
             }
            },
            "type": "scattergl"
           }
          ],
          "scattermapbox": [
           {
            "marker": {
             "colorbar": {
              "outlinewidth": 0,
              "ticks": ""
             }
            },
            "type": "scattermapbox"
           }
          ],
          "scatterpolar": [
           {
            "marker": {
             "colorbar": {
              "outlinewidth": 0,
              "ticks": ""
             }
            },
            "type": "scatterpolar"
           }
          ],
          "scatterpolargl": [
           {
            "marker": {
             "colorbar": {
              "outlinewidth": 0,
              "ticks": ""
             }
            },
            "type": "scatterpolargl"
           }
          ],
          "scatterternary": [
           {
            "marker": {
             "colorbar": {
              "outlinewidth": 0,
              "ticks": ""
             }
            },
            "type": "scatterternary"
           }
          ],
          "surface": [
           {
            "colorbar": {
             "outlinewidth": 0,
             "ticks": ""
            },
            "colorscale": [
             [
              0,
              "#0d0887"
             ],
             [
              0.1111111111111111,
              "#46039f"
             ],
             [
              0.2222222222222222,
              "#7201a8"
             ],
             [
              0.3333333333333333,
              "#9c179e"
             ],
             [
              0.4444444444444444,
              "#bd3786"
             ],
             [
              0.5555555555555556,
              "#d8576b"
             ],
             [
              0.6666666666666666,
              "#ed7953"
             ],
             [
              0.7777777777777778,
              "#fb9f3a"
             ],
             [
              0.8888888888888888,
              "#fdca26"
             ],
             [
              1,
              "#f0f921"
             ]
            ],
            "type": "surface"
           }
          ],
          "table": [
           {
            "cells": {
             "fill": {
              "color": "#EBF0F8"
             },
             "line": {
              "color": "white"
             }
            },
            "header": {
             "fill": {
              "color": "#C8D4E3"
             },
             "line": {
              "color": "white"
             }
            },
            "type": "table"
           }
          ]
         },
         "layout": {
          "annotationdefaults": {
           "arrowcolor": "#2a3f5f",
           "arrowhead": 0,
           "arrowwidth": 1
          },
          "autotypenumbers": "strict",
          "coloraxis": {
           "colorbar": {
            "outlinewidth": 0,
            "ticks": ""
           }
          },
          "colorscale": {
           "diverging": [
            [
             0,
             "#8e0152"
            ],
            [
             0.1,
             "#c51b7d"
            ],
            [
             0.2,
             "#de77ae"
            ],
            [
             0.3,
             "#f1b6da"
            ],
            [
             0.4,
             "#fde0ef"
            ],
            [
             0.5,
             "#f7f7f7"
            ],
            [
             0.6,
             "#e6f5d0"
            ],
            [
             0.7,
             "#b8e186"
            ],
            [
             0.8,
             "#7fbc41"
            ],
            [
             0.9,
             "#4d9221"
            ],
            [
             1,
             "#276419"
            ]
           ],
           "sequential": [
            [
             0,
             "#0d0887"
            ],
            [
             0.1111111111111111,
             "#46039f"
            ],
            [
             0.2222222222222222,
             "#7201a8"
            ],
            [
             0.3333333333333333,
             "#9c179e"
            ],
            [
             0.4444444444444444,
             "#bd3786"
            ],
            [
             0.5555555555555556,
             "#d8576b"
            ],
            [
             0.6666666666666666,
             "#ed7953"
            ],
            [
             0.7777777777777778,
             "#fb9f3a"
            ],
            [
             0.8888888888888888,
             "#fdca26"
            ],
            [
             1,
             "#f0f921"
            ]
           ],
           "sequentialminus": [
            [
             0,
             "#0d0887"
            ],
            [
             0.1111111111111111,
             "#46039f"
            ],
            [
             0.2222222222222222,
             "#7201a8"
            ],
            [
             0.3333333333333333,
             "#9c179e"
            ],
            [
             0.4444444444444444,
             "#bd3786"
            ],
            [
             0.5555555555555556,
             "#d8576b"
            ],
            [
             0.6666666666666666,
             "#ed7953"
            ],
            [
             0.7777777777777778,
             "#fb9f3a"
            ],
            [
             0.8888888888888888,
             "#fdca26"
            ],
            [
             1,
             "#f0f921"
            ]
           ]
          },
          "colorway": [
           "#636efa",
           "#EF553B",
           "#00cc96",
           "#ab63fa",
           "#FFA15A",
           "#19d3f3",
           "#FF6692",
           "#B6E880",
           "#FF97FF",
           "#FECB52"
          ],
          "font": {
           "color": "#2a3f5f"
          },
          "geo": {
           "bgcolor": "white",
           "lakecolor": "white",
           "landcolor": "#E5ECF6",
           "showlakes": true,
           "showland": true,
           "subunitcolor": "white"
          },
          "hoverlabel": {
           "align": "left"
          },
          "hovermode": "closest",
          "mapbox": {
           "style": "light"
          },
          "paper_bgcolor": "white",
          "plot_bgcolor": "#E5ECF6",
          "polar": {
           "angularaxis": {
            "gridcolor": "white",
            "linecolor": "white",
            "ticks": ""
           },
           "bgcolor": "#E5ECF6",
           "radialaxis": {
            "gridcolor": "white",
            "linecolor": "white",
            "ticks": ""
           }
          },
          "scene": {
           "xaxis": {
            "backgroundcolor": "#E5ECF6",
            "gridcolor": "white",
            "gridwidth": 2,
            "linecolor": "white",
            "showbackground": true,
            "ticks": "",
            "zerolinecolor": "white"
           },
           "yaxis": {
            "backgroundcolor": "#E5ECF6",
            "gridcolor": "white",
            "gridwidth": 2,
            "linecolor": "white",
            "showbackground": true,
            "ticks": "",
            "zerolinecolor": "white"
           },
           "zaxis": {
            "backgroundcolor": "#E5ECF6",
            "gridcolor": "white",
            "gridwidth": 2,
            "linecolor": "white",
            "showbackground": true,
            "ticks": "",
            "zerolinecolor": "white"
           }
          },
          "shapedefaults": {
           "line": {
            "color": "#2a3f5f"
           }
          },
          "ternary": {
           "aaxis": {
            "gridcolor": "white",
            "linecolor": "white",
            "ticks": ""
           },
           "baxis": {
            "gridcolor": "white",
            "linecolor": "white",
            "ticks": ""
           },
           "bgcolor": "#E5ECF6",
           "caxis": {
            "gridcolor": "white",
            "linecolor": "white",
            "ticks": ""
           }
          },
          "title": {
           "x": 0.05
          },
          "xaxis": {
           "automargin": true,
           "gridcolor": "white",
           "linecolor": "white",
           "ticks": "",
           "title": {
            "standoff": 15
           },
           "zerolinecolor": "white",
           "zerolinewidth": 2
          },
          "yaxis": {
           "automargin": true,
           "gridcolor": "white",
           "linecolor": "white",
           "ticks": "",
           "title": {
            "standoff": 15
           },
           "zerolinecolor": "white",
           "zerolinewidth": 2
          }
         }
        },
        "title": {
         "text": "Performed exercises"
        }
       }
      },
      "text/html": [
       "<div>                            <div id=\"23f6e519-4d05-421c-be89-8e1fa6fe513e\" class=\"plotly-graph-div\" style=\"height:525px; width:100%;\"></div>            <script type=\"text/javascript\">                require([\"plotly\"], function(Plotly) {                    window.PLOTLYENV=window.PLOTLYENV || {};                                    if (document.getElementById(\"23f6e519-4d05-421c-be89-8e1fa6fe513e\")) {                    Plotly.newPlot(                        \"23f6e519-4d05-421c-be89-8e1fa6fe513e\",                        [{\"hole\":0.3,\"hoverinfo\":\"label+percent+value\",\"labels\":[\"timed-up-and-go\"],\"marker\":{\"colors\":[\"#FEBFB3\"],\"line\":{\"color\":\"#000000\",\"width\":2}},\"textfont\":{\"size\":20},\"values\":[0],\"type\":\"pie\"}],                        {\"template\":{\"data\":{\"barpolar\":[{\"marker\":{\"line\":{\"color\":\"#E5ECF6\",\"width\":0.5},\"pattern\":{\"fillmode\":\"overlay\",\"size\":10,\"solidity\":0.2}},\"type\":\"barpolar\"}],\"bar\":[{\"error_x\":{\"color\":\"#2a3f5f\"},\"error_y\":{\"color\":\"#2a3f5f\"},\"marker\":{\"line\":{\"color\":\"#E5ECF6\",\"width\":0.5},\"pattern\":{\"fillmode\":\"overlay\",\"size\":10,\"solidity\":0.2}},\"type\":\"bar\"}],\"carpet\":[{\"aaxis\":{\"endlinecolor\":\"#2a3f5f\",\"gridcolor\":\"white\",\"linecolor\":\"white\",\"minorgridcolor\":\"white\",\"startlinecolor\":\"#2a3f5f\"},\"baxis\":{\"endlinecolor\":\"#2a3f5f\",\"gridcolor\":\"white\",\"linecolor\":\"white\",\"minorgridcolor\":\"white\",\"startlinecolor\":\"#2a3f5f\"},\"type\":\"carpet\"}],\"choropleth\":[{\"colorbar\":{\"outlinewidth\":0,\"ticks\":\"\"},\"type\":\"choropleth\"}],\"contourcarpet\":[{\"colorbar\":{\"outlinewidth\":0,\"ticks\":\"\"},\"type\":\"contourcarpet\"}],\"contour\":[{\"colorbar\":{\"outlinewidth\":0,\"ticks\":\"\"},\"colorscale\":[[0.0,\"#0d0887\"],[0.1111111111111111,\"#46039f\"],[0.2222222222222222,\"#7201a8\"],[0.3333333333333333,\"#9c179e\"],[0.4444444444444444,\"#bd3786\"],[0.5555555555555556,\"#d8576b\"],[0.6666666666666666,\"#ed7953\"],[0.7777777777777778,\"#fb9f3a\"],[0.8888888888888888,\"#fdca26\"],[1.0,\"#f0f921\"]],\"type\":\"contour\"}],\"heatmapgl\":[{\"colorbar\":{\"outlinewidth\":0,\"ticks\":\"\"},\"colorscale\":[[0.0,\"#0d0887\"],[0.1111111111111111,\"#46039f\"],[0.2222222222222222,\"#7201a8\"],[0.3333333333333333,\"#9c179e\"],[0.4444444444444444,\"#bd3786\"],[0.5555555555555556,\"#d8576b\"],[0.6666666666666666,\"#ed7953\"],[0.7777777777777778,\"#fb9f3a\"],[0.8888888888888888,\"#fdca26\"],[1.0,\"#f0f921\"]],\"type\":\"heatmapgl\"}],\"heatmap\":[{\"colorbar\":{\"outlinewidth\":0,\"ticks\":\"\"},\"colorscale\":[[0.0,\"#0d0887\"],[0.1111111111111111,\"#46039f\"],[0.2222222222222222,\"#7201a8\"],[0.3333333333333333,\"#9c179e\"],[0.4444444444444444,\"#bd3786\"],[0.5555555555555556,\"#d8576b\"],[0.6666666666666666,\"#ed7953\"],[0.7777777777777778,\"#fb9f3a\"],[0.8888888888888888,\"#fdca26\"],[1.0,\"#f0f921\"]],\"type\":\"heatmap\"}],\"histogram2dcontour\":[{\"colorbar\":{\"outlinewidth\":0,\"ticks\":\"\"},\"colorscale\":[[0.0,\"#0d0887\"],[0.1111111111111111,\"#46039f\"],[0.2222222222222222,\"#7201a8\"],[0.3333333333333333,\"#9c179e\"],[0.4444444444444444,\"#bd3786\"],[0.5555555555555556,\"#d8576b\"],[0.6666666666666666,\"#ed7953\"],[0.7777777777777778,\"#fb9f3a\"],[0.8888888888888888,\"#fdca26\"],[1.0,\"#f0f921\"]],\"type\":\"histogram2dcontour\"}],\"histogram2d\":[{\"colorbar\":{\"outlinewidth\":0,\"ticks\":\"\"},\"colorscale\":[[0.0,\"#0d0887\"],[0.1111111111111111,\"#46039f\"],[0.2222222222222222,\"#7201a8\"],[0.3333333333333333,\"#9c179e\"],[0.4444444444444444,\"#bd3786\"],[0.5555555555555556,\"#d8576b\"],[0.6666666666666666,\"#ed7953\"],[0.7777777777777778,\"#fb9f3a\"],[0.8888888888888888,\"#fdca26\"],[1.0,\"#f0f921\"]],\"type\":\"histogram2d\"}],\"histogram\":[{\"marker\":{\"pattern\":{\"fillmode\":\"overlay\",\"size\":10,\"solidity\":0.2}},\"type\":\"histogram\"}],\"mesh3d\":[{\"colorbar\":{\"outlinewidth\":0,\"ticks\":\"\"},\"type\":\"mesh3d\"}],\"parcoords\":[{\"line\":{\"colorbar\":{\"outlinewidth\":0,\"ticks\":\"\"}},\"type\":\"parcoords\"}],\"pie\":[{\"automargin\":true,\"type\":\"pie\"}],\"scatter3d\":[{\"line\":{\"colorbar\":{\"outlinewidth\":0,\"ticks\":\"\"}},\"marker\":{\"colorbar\":{\"outlinewidth\":0,\"ticks\":\"\"}},\"type\":\"scatter3d\"}],\"scattercarpet\":[{\"marker\":{\"colorbar\":{\"outlinewidth\":0,\"ticks\":\"\"}},\"type\":\"scattercarpet\"}],\"scattergeo\":[{\"marker\":{\"colorbar\":{\"outlinewidth\":0,\"ticks\":\"\"}},\"type\":\"scattergeo\"}],\"scattergl\":[{\"marker\":{\"colorbar\":{\"outlinewidth\":0,\"ticks\":\"\"}},\"type\":\"scattergl\"}],\"scattermapbox\":[{\"marker\":{\"colorbar\":{\"outlinewidth\":0,\"ticks\":\"\"}},\"type\":\"scattermapbox\"}],\"scatterpolargl\":[{\"marker\":{\"colorbar\":{\"outlinewidth\":0,\"ticks\":\"\"}},\"type\":\"scatterpolargl\"}],\"scatterpolar\":[{\"marker\":{\"colorbar\":{\"outlinewidth\":0,\"ticks\":\"\"}},\"type\":\"scatterpolar\"}],\"scatter\":[{\"fillpattern\":{\"fillmode\":\"overlay\",\"size\":10,\"solidity\":0.2},\"type\":\"scatter\"}],\"scatterternary\":[{\"marker\":{\"colorbar\":{\"outlinewidth\":0,\"ticks\":\"\"}},\"type\":\"scatterternary\"}],\"surface\":[{\"colorbar\":{\"outlinewidth\":0,\"ticks\":\"\"},\"colorscale\":[[0.0,\"#0d0887\"],[0.1111111111111111,\"#46039f\"],[0.2222222222222222,\"#7201a8\"],[0.3333333333333333,\"#9c179e\"],[0.4444444444444444,\"#bd3786\"],[0.5555555555555556,\"#d8576b\"],[0.6666666666666666,\"#ed7953\"],[0.7777777777777778,\"#fb9f3a\"],[0.8888888888888888,\"#fdca26\"],[1.0,\"#f0f921\"]],\"type\":\"surface\"}],\"table\":[{\"cells\":{\"fill\":{\"color\":\"#EBF0F8\"},\"line\":{\"color\":\"white\"}},\"header\":{\"fill\":{\"color\":\"#C8D4E3\"},\"line\":{\"color\":\"white\"}},\"type\":\"table\"}]},\"layout\":{\"annotationdefaults\":{\"arrowcolor\":\"#2a3f5f\",\"arrowhead\":0,\"arrowwidth\":1},\"autotypenumbers\":\"strict\",\"coloraxis\":{\"colorbar\":{\"outlinewidth\":0,\"ticks\":\"\"}},\"colorscale\":{\"diverging\":[[0,\"#8e0152\"],[0.1,\"#c51b7d\"],[0.2,\"#de77ae\"],[0.3,\"#f1b6da\"],[0.4,\"#fde0ef\"],[0.5,\"#f7f7f7\"],[0.6,\"#e6f5d0\"],[0.7,\"#b8e186\"],[0.8,\"#7fbc41\"],[0.9,\"#4d9221\"],[1,\"#276419\"]],\"sequential\":[[0.0,\"#0d0887\"],[0.1111111111111111,\"#46039f\"],[0.2222222222222222,\"#7201a8\"],[0.3333333333333333,\"#9c179e\"],[0.4444444444444444,\"#bd3786\"],[0.5555555555555556,\"#d8576b\"],[0.6666666666666666,\"#ed7953\"],[0.7777777777777778,\"#fb9f3a\"],[0.8888888888888888,\"#fdca26\"],[1.0,\"#f0f921\"]],\"sequentialminus\":[[0.0,\"#0d0887\"],[0.1111111111111111,\"#46039f\"],[0.2222222222222222,\"#7201a8\"],[0.3333333333333333,\"#9c179e\"],[0.4444444444444444,\"#bd3786\"],[0.5555555555555556,\"#d8576b\"],[0.6666666666666666,\"#ed7953\"],[0.7777777777777778,\"#fb9f3a\"],[0.8888888888888888,\"#fdca26\"],[1.0,\"#f0f921\"]]},\"colorway\":[\"#636efa\",\"#EF553B\",\"#00cc96\",\"#ab63fa\",\"#FFA15A\",\"#19d3f3\",\"#FF6692\",\"#B6E880\",\"#FF97FF\",\"#FECB52\"],\"font\":{\"color\":\"#2a3f5f\"},\"geo\":{\"bgcolor\":\"white\",\"lakecolor\":\"white\",\"landcolor\":\"#E5ECF6\",\"showlakes\":true,\"showland\":true,\"subunitcolor\":\"white\"},\"hoverlabel\":{\"align\":\"left\"},\"hovermode\":\"closest\",\"mapbox\":{\"style\":\"light\"},\"paper_bgcolor\":\"white\",\"plot_bgcolor\":\"#E5ECF6\",\"polar\":{\"angularaxis\":{\"gridcolor\":\"white\",\"linecolor\":\"white\",\"ticks\":\"\"},\"bgcolor\":\"#E5ECF6\",\"radialaxis\":{\"gridcolor\":\"white\",\"linecolor\":\"white\",\"ticks\":\"\"}},\"scene\":{\"xaxis\":{\"backgroundcolor\":\"#E5ECF6\",\"gridcolor\":\"white\",\"gridwidth\":2,\"linecolor\":\"white\",\"showbackground\":true,\"ticks\":\"\",\"zerolinecolor\":\"white\"},\"yaxis\":{\"backgroundcolor\":\"#E5ECF6\",\"gridcolor\":\"white\",\"gridwidth\":2,\"linecolor\":\"white\",\"showbackground\":true,\"ticks\":\"\",\"zerolinecolor\":\"white\"},\"zaxis\":{\"backgroundcolor\":\"#E5ECF6\",\"gridcolor\":\"white\",\"gridwidth\":2,\"linecolor\":\"white\",\"showbackground\":true,\"ticks\":\"\",\"zerolinecolor\":\"white\"}},\"shapedefaults\":{\"line\":{\"color\":\"#2a3f5f\"}},\"ternary\":{\"aaxis\":{\"gridcolor\":\"white\",\"linecolor\":\"white\",\"ticks\":\"\"},\"baxis\":{\"gridcolor\":\"white\",\"linecolor\":\"white\",\"ticks\":\"\"},\"bgcolor\":\"#E5ECF6\",\"caxis\":{\"gridcolor\":\"white\",\"linecolor\":\"white\",\"ticks\":\"\"}},\"title\":{\"x\":0.05},\"xaxis\":{\"automargin\":true,\"gridcolor\":\"white\",\"linecolor\":\"white\",\"ticks\":\"\",\"title\":{\"standoff\":15},\"zerolinecolor\":\"white\",\"zerolinewidth\":2},\"yaxis\":{\"automargin\":true,\"gridcolor\":\"white\",\"linecolor\":\"white\",\"ticks\":\"\",\"title\":{\"standoff\":15},\"zerolinecolor\":\"white\",\"zerolinewidth\":2}}},\"title\":{\"text\":\"Performed exercises\"}},                        {\"responsive\": true}                    ).then(function(){\n",
       "                            \n",
       "var gd = document.getElementById('23f6e519-4d05-421c-be89-8e1fa6fe513e');\n",
       "var x = new MutationObserver(function (mutations, observer) {{\n",
       "        var display = window.getComputedStyle(gd).display;\n",
       "        if (!display || display === 'none') {{\n",
       "            console.log([gd, 'removed!']);\n",
       "            Plotly.purge(gd);\n",
       "            observer.disconnect();\n",
       "        }}\n",
       "}});\n",
       "\n",
       "// Listen for the removal of the full notebook cells\n",
       "var notebookContainer = gd.closest('#notebook-container');\n",
       "if (notebookContainer) {{\n",
       "    x.observe(notebookContainer, {childList: true});\n",
       "}}\n",
       "\n",
       "// Listen for the clearing of the current output cell\n",
       "var outputEl = gd.closest('.output');\n",
       "if (outputEl) {{\n",
       "    x.observe(outputEl, {childList: true});\n",
       "}}\n",
       "\n",
       "                        })                };                });            </script>        </div>"
      ]
     },
     "metadata": {},
     "output_type": "display_data"
    }
   ],
   "source": [
    "labels = [\"timed-up-and-go\"]\n",
    "values = [tagex.count(\"tug\")]\n",
    "colors = ['#FEBFB3']\n",
    "\n",
    "trace = go.Pie(labels=labels, values=values,\n",
    "               #hoverinfo='label+percent', textinfo='value', \n",
    "               textfont=dict(size=20),\n",
    "               marker=dict(colors=colors, \n",
    "                           line=dict(color='#000000', width=2)),\n",
    "               hoverinfo=\"label+percent+value\",\n",
    "               hole=0.3\n",
    "              )\n",
    "layout = go.Layout(\n",
    "        title=\"Performed exercises\",\n",
    ")\n",
    "data = [trace]\n",
    "fig = go.Figure(data=data,layout=layout)\n",
    "iplot(fig)   "
   ]
  },
  {
   "cell_type": "markdown",
   "metadata": {},
   "source": [
    " \n",
    "Di seguito, si riportano gli andamenti delle metriche del paziente, raggruppati per mese: "
   ]
  },
  {
   "cell_type": "code",
   "execution_count": 53,
   "metadata": {
    "scrolled": false
   },
   "outputs": [],
   "source": [
    "keyp2rommax = {\n",
    "    \"shoulderCenter\" : [0,0,0,0,0,0,0,0,0,0,0,0],\n",
    "    \"head\" : [0,0,0,0,0,0,0,0,0,0,0,0],\n",
    "    \"shoulderLeft\" : [0,0,0,0,0,0,0,0,0,0,0,0],\n",
    "    \"elbowLeft\" : [0,0,0,0,0,0,0,0,0,0,0,0],\n",
    "    \"handLeft\" : [0,0,0,0,0,0,0,0,0,0,0,0],\n",
    "    \"shoulderRight\" : [0,0,0,0,0,0,0,0,0,0,0,0],\n",
    "    \"elbowRight\" : [0,0,0,0,0,0,0,0,0,0,0,0],\n",
    "    \"handRight\" : [0,0,0,0,0,0,0,0,0,0,0,0],\n",
    "    \"hipCenter\" : [0,0,0,0,0,0,0,0,0,0,0,0],\n",
    "    \"hipLeft\" : [0,0,0,0,0,0,0,0,0,0,0,0],\n",
    "    \"kneeLeft\" : [0,0,0,0,0,0,0,0,0,0,0,0],\n",
    "    \"ankleLeft\" : [0,0,0,0,0,0,0,0,0,0,0,0],\n",
    "    \"footLeft\" : [0,0,0,0,0,0,0,0,0,0,0,0],\n",
    "    \"hipRight\" : [0,0,0,0,0,0,0,0,0,0,0,0],\n",
    "    \"kneeRight\" : [0,0,0,0,0,0,0,0,0,0,0,0],\n",
    "    \"ankleRight\" : [0,0,0,0,0,0,0,0,0,0,0,0],\n",
    "    \"footRight\" : [0,0,0,0,0,0,0,0,0,0,0,0]\n",
    "}\n",
    "keyp2rommin = {\n",
    "    \"shoulderCenter\" : [0,0,0,0,0,0,0,0,0,0,0,0],\n",
    "    \"head\" : [0,0,0,0,0,0,0,0,0,0,0,0],\n",
    "    \"shoulderLeft\" : [0,0,0,0,0,0,0,0,0,0,0,0],\n",
    "    \"elbowLeft\" : [0,0,0,0,0,0,0,0,0,0,0,0],\n",
    "    \"handLeft\" : [0,0,0,0,0,0,0,0,0,0,0,0],\n",
    "    \"shoulderRight\" : [0,0,0,0,0,0,0,0,0,0,0,0],\n",
    "    \"elbowRight\" : [0,0,0,0,0,0,0,0,0,0,0,0],\n",
    "    \"handRight\" : [0,0,0,0,0,0,0,0,0,0,0,0],\n",
    "    \"hipCenter\" : [0,0,0,0,0,0,0,0,0,0,0,0],\n",
    "    \"hipLeft\" : [0,0,0,0,0,0,0,0,0,0,0,0],\n",
    "    \"kneeLeft\" : [0,0,0,0,0,0,0,0,0,0,0,0],\n",
    "    \"ankleLeft\" : [0,0,0,0,0,0,0,0,0,0,0,0],\n",
    "    \"footLeft\" : [0,0,0,0,0,0,0,0,0,0,0,0],\n",
    "    \"hipRight\" : [0,0,0,0,0,0,0,0,0,0,0,0],\n",
    "    \"kneeRight\" : [0,0,0,0,0,0,0,0,0,0,0,0],\n",
    "    \"ankleRight\" : [0,0,0,0,0,0,0,0,0,0,0,0],\n",
    "    \"footRight\" : [0,0,0,0,0,0,0,0,0,0,0,0]\n",
    "}\n",
    "countrommonth = {\n",
    "    \"shoulderCenter\" : [0,0,0,0,0,0,0,0,0,0,0,0],\n",
    "    \"head\" : [0,0,0,0,0,0,0,0,0,0,0,0],\n",
    "    \"shoulderLeft\" : [0,0,0,0,0,0,0,0,0,0,0,0],\n",
    "    \"elbowLeft\" : [0,0,0,0,0,0,0,0,0,0,0,0],\n",
    "    \"handLeft\" : [0,0,0,0,0,0,0,0,0,0,0,0],\n",
    "    \"shoulderRight\" : [0,0,0,0,0,0,0,0,0,0,0,0],\n",
    "    \"elbowRight\" : [0,0,0,0,0,0,0,0,0,0,0,0],\n",
    "    \"handRight\" : [0,0,0,0,0,0,0,0,0,0,0,0],\n",
    "    \"hipCenter\" : [0,0,0,0,0,0,0,0,0,0,0,0],\n",
    "    \"hipLeft\" : [0,0,0,0,0,0,0,0,0,0,0,0],\n",
    "    \"kneeLeft\" : [0,0,0,0,0,0,0,0,0,0,0,0],\n",
    "    \"ankleLeft\" : [0,0,0,0,0,0,0,0,0,0,0,0],\n",
    "    \"footLeft\" : [0,0,0,0,0,0,0,0,0,0,0,0],\n",
    "    \"hipRight\" : [0,0,0,0,0,0,0,0,0,0,0,0],\n",
    "    \"kneeRight\" : [0,0,0,0,0,0,0,0,0,0,0,0],\n",
    "    \"ankleRight\" : [0,0,0,0,0,0,0,0,0,0,0,0],\n",
    "    \"footRight\" : [0,0,0,0,0,0,0,0,0,0,0,0]\n",
    "}\n",
    "keyp2rommax_avg = {\n",
    "    \"shoulderCenter\" : [0,0,0,0,0,0,0,0,0,0,0,0],\n",
    "    \"head\" : [0,0,0,0,0,0,0,0,0,0,0,0],\n",
    "    \"shoulderLeft\" : [0,0,0,0,0,0,0,0,0,0,0,0],\n",
    "    \"elbowLeft\" : [0,0,0,0,0,0,0,0,0,0,0,0],\n",
    "    \"handLeft\" : [0,0,0,0,0,0,0,0,0,0,0,0],\n",
    "    \"shoulderRight\" : [0,0,0,0,0,0,0,0,0,0,0,0],\n",
    "    \"elbowRight\" : [0,0,0,0,0,0,0,0,0,0,0,0],\n",
    "    \"handRight\" : [0,0,0,0,0,0,0,0,0,0,0,0],\n",
    "    \"hipCenter\" : [0,0,0,0,0,0,0,0,0,0,0,0],\n",
    "    \"hipLeft\" : [0,0,0,0,0,0,0,0,0,0,0,0],\n",
    "    \"kneeLeft\" : [0,0,0,0,0,0,0,0,0,0,0,0],\n",
    "    \"ankleLeft\" : [0,0,0,0,0,0,0,0,0,0,0,0],\n",
    "    \"footLeft\" : [0,0,0,0,0,0,0,0,0,0,0,0],\n",
    "    \"hipRight\" : [0,0,0,0,0,0,0,0,0,0,0,0],\n",
    "    \"kneeRight\" : [0,0,0,0,0,0,0,0,0,0,0,0],\n",
    "    \"ankleRight\" : [0,0,0,0,0,0,0,0,0,0,0,0],\n",
    "    \"footRight\" : [0,0,0,0,0,0,0,0,0,0,0,0]\n",
    "}\n",
    "keyp2rommin_avg = {\n",
    "    \"shoulderCenter\" : [0,0,0,0,0,0,0,0,0,0,0,0],\n",
    "    \"head\" : [0,0,0,0,0,0,0,0,0,0,0,0],\n",
    "    \"shoulderLeft\" : [0,0,0,0,0,0,0,0,0,0,0,0],\n",
    "    \"elbowLeft\" : [0,0,0,0,0,0,0,0,0,0,0,0],\n",
    "    \"handLeft\" : [0,0,0,0,0,0,0,0,0,0,0,0],\n",
    "    \"shoulderRight\" : [0,0,0,0,0,0,0,0,0,0,0,0],\n",
    "    \"elbowRight\" : [0,0,0,0,0,0,0,0,0,0,0,0],\n",
    "    \"handRight\" : [0,0,0,0,0,0,0,0,0,0,0,0],\n",
    "    \"hipCenter\" : [0,0,0,0,0,0,0,0,0,0,0,0],\n",
    "    \"hipLeft\" : [0,0,0,0,0,0,0,0,0,0,0,0],\n",
    "    \"kneeLeft\" : [0,0,0,0,0,0,0,0,0,0,0,0],\n",
    "    \"ankleLeft\" : [0,0,0,0,0,0,0,0,0,0,0,0],\n",
    "    \"footLeft\" : [0,0,0,0,0,0,0,0,0,0,0,0],\n",
    "    \"hipRight\" : [0,0,0,0,0,0,0,0,0,0,0,0],\n",
    "    \"kneeRight\" : [0,0,0,0,0,0,0,0,0,0,0,0],\n",
    "    \"ankleRight\" : [0,0,0,0,0,0,0,0,0,0,0,0],\n",
    "    \"footRight\" : [0,0,0,0,0,0,0,0,0,0,0,0]\n",
    "}\n",
    "\n",
    "stepmonth = {\n",
    "    \"step_length\" : [0,0,0,0,0,0,0,0,0,0,0,0],\n",
    "    \"numsteps\" : [0,0,0,0,0,0,0,0,0,0,0,0],\n",
    "    \"cadence\" : [0,0,0,0,0,0,0,0,0,0,0,0],\n",
    "    \"speed\" : [0,0,0,0,0,0,0,0,0,0,0,0],\n",
    "    \"time\" : [0,0,0,0,0,0,0,0,0,0,0,0]\n",
    "}\n",
    "countstepmonth = [0,0,0,0,0,0,0,0,0,0,0,0]\n",
    "\n",
    "endpointmonth = {\n",
    "    \"time\" : [0,0,0,0,0,0,0,0,0,0,0,0],\n",
    "    \"speed\" : [0,0,0,0,0,0,0,0,0,0,0,0]\n",
    "}\n",
    "countendpointmonth = [0,0,0,0,0,0,0,0,0,0,0,0]\n",
    "\n",
    "for i in range(len(exercises)):\n",
    "    exnamei = exercises[i].name\n",
    "    for monthi in range(12):\n",
    "        if countexmonth[exnamei][monthi] != 0:\n",
    "            res_exi = exercises[i].getResult(monthi)\n",
    "            for m in range(len(res_exi)): \n",
    "                single_metric,result_single_metric = res_exi[m]\n",
    "                single_metric_name = single_metric.name\n",
    "                          \n",
    "                if single_metric_name == \"step\":\n",
    "                    stepmonth[\"step_length\"][monthi] = single_metric.step_length + stepmonth[\"step_length\"][monthi]\n",
    "                    stepmonth[\"numsteps\"][monthi] = single_metric.nsteps + stepmonth[\"numsteps\"][monthi]\n",
    "                    stepmonth[\"cadence\"][monthi] = single_metric.cadence + stepmonth[\"cadence\"][monthi]\n",
    "                    stepmonth[\"speed\"][monthi] = single_metric.speed + stepmonth[\"speed\"][monthi]\n",
    "                    stepmonth[\"time\"][monthi] = single_metric.ex_time + stepmonth[\"time\"][monthi]\n",
    "                    countstepmonth[monthi] = 1 + countstepmonth[monthi]\n"
   ]
  },
  {
   "cell_type": "code",
   "execution_count": 54,
   "metadata": {
    "scrolled": false
   },
   "outputs": [],
   "source": [
    "counted_exmonth = {\n",
    "    \"tug\" : [0,0,0,0,0,0,0,0,0,0,0,0]\n",
    "}\n",
    "for i in range(len(exercises)):\n",
    "    exnamei = exercises[i].name\n",
    "\n",
    "    for monthi in range(12):  \n",
    "        if countexmonth[exnamei][monthi] != 0:\n",
    "            if counted_exmonth[exnamei][monthi] < 1:       \n",
    "                res_exi = exercises[i].getResult(monthi)\n",
    "                for m in range(len(res_exi)): \n",
    "                    single_metric,result_single_metric = res_exi[m]\n",
    "                    single_metric_name = single_metric.name\n",
    "\n",
    "                    if single_metric_name == \"step\":\n",
    "                        if countstepmonth[monthi] != 0:\n",
    "                            stepmonth[\"step_length\"][monthi] = stepmonth[\"step_length\"][monthi]/countstepmonth[monthi]\n",
    "                            stepmonth[\"numsteps\"][monthi] = stepmonth[\"numsteps\"][monthi]/countstepmonth[monthi]\n",
    "                            stepmonth[\"cadence\"][monthi] = stepmonth[\"cadence\"][monthi]/countstepmonth[monthi]\n",
    "                            stepmonth[\"speed\"][monthi] = stepmonth[\"speed\"][monthi]/countstepmonth[monthi]\n",
    "                            stepmonth[\"time\"][monthi] = stepmonth[\"time\"][monthi]/countstepmonth[monthi]   \n",
    "\n",
    "                counted_exmonth[exnamei][monthi] = 1"
   ]
  },
  {
   "cell_type": "code",
   "execution_count": 55,
   "metadata": {
    "scrolled": false
   },
   "outputs": [
    {
     "data": {
      "text/html": [
       "<font size=5><b>Risultati del Timed Up and Go</b></font>"
      ],
      "text/plain": [
       "<IPython.core.display.HTML object>"
      ]
     },
     "metadata": {},
     "output_type": "display_data"
    }
   ],
   "source": [
    "title = \"Risultati del Timed Up and Go\"\n",
    "msg1 = HTML('<font size=5><b>'+title+'</b></font>')\n",
    "msg2 = HTML('<font size=5,font color=gray,font >'+title+'</font>')\n",
    "if sum(counted_exmonth['tug'])>0:\n",
    "    display(msg1);\n",
    "else:\n",
    "    display(msg2); "
   ]
  },
  {
   "cell_type": "code",
   "execution_count": 56,
   "metadata": {
    "scrolled": false
   },
   "outputs": [
    {
     "data": {
      "text/html": [
       "<div>\n",
       "<style scoped>\n",
       "    .dataframe tbody tr th:only-of-type {\n",
       "        vertical-align: middle;\n",
       "    }\n",
       "\n",
       "    .dataframe tbody tr th {\n",
       "        vertical-align: top;\n",
       "    }\n",
       "\n",
       "    .dataframe thead th {\n",
       "        text-align: right;\n",
       "    }\n",
       "</style>\n",
       "<table border=\"1\" class=\"dataframe\">\n",
       "  <thead>\n",
       "    <tr style=\"text-align: right;\">\n",
       "      <th></th>\n",
       "      <th>Jan</th>\n",
       "      <th>Feb</th>\n",
       "      <th>Mar</th>\n",
       "      <th>Apr</th>\n",
       "      <th>May</th>\n",
       "      <th>Jun</th>\n",
       "      <th>Jul</th>\n",
       "      <th>Aug</th>\n",
       "      <th>Sep</th>\n",
       "      <th>Oct</th>\n",
       "      <th>Nov</th>\n",
       "      <th>Dec</th>\n",
       "    </tr>\n",
       "  </thead>\n",
       "  <tbody>\n",
       "    <tr>\n",
       "      <th>Numero di passi</th>\n",
       "      <td>0</td>\n",
       "      <td>0.311536</td>\n",
       "      <td>0</td>\n",
       "      <td>0</td>\n",
       "      <td>0</td>\n",
       "      <td>0</td>\n",
       "      <td>0</td>\n",
       "      <td>0</td>\n",
       "      <td>0</td>\n",
       "      <td>0</td>\n",
       "      <td>0</td>\n",
       "      <td>0</td>\n",
       "    </tr>\n",
       "    <tr>\n",
       "      <th>Velocità [m/s]</th>\n",
       "      <td>0</td>\n",
       "      <td>9.000000</td>\n",
       "      <td>0</td>\n",
       "      <td>0</td>\n",
       "      <td>0</td>\n",
       "      <td>0</td>\n",
       "      <td>0</td>\n",
       "      <td>0</td>\n",
       "      <td>0</td>\n",
       "      <td>0</td>\n",
       "      <td>0</td>\n",
       "      <td>0</td>\n",
       "    </tr>\n",
       "    <tr>\n",
       "      <th>Lunghezza passo [m]</th>\n",
       "      <td>0</td>\n",
       "      <td>0.535295</td>\n",
       "      <td>0</td>\n",
       "      <td>0</td>\n",
       "      <td>0</td>\n",
       "      <td>0</td>\n",
       "      <td>0</td>\n",
       "      <td>0</td>\n",
       "      <td>0</td>\n",
       "      <td>0</td>\n",
       "      <td>0</td>\n",
       "      <td>0</td>\n",
       "    </tr>\n",
       "    <tr>\n",
       "      <th>Cadenza [steps/s]</th>\n",
       "      <td>0</td>\n",
       "      <td>0.166764</td>\n",
       "      <td>0</td>\n",
       "      <td>0</td>\n",
       "      <td>0</td>\n",
       "      <td>0</td>\n",
       "      <td>0</td>\n",
       "      <td>0</td>\n",
       "      <td>0</td>\n",
       "      <td>0</td>\n",
       "      <td>0</td>\n",
       "      <td>0</td>\n",
       "    </tr>\n",
       "    <tr>\n",
       "      <th>Tempo di esecuzione [s]</th>\n",
       "      <td>0</td>\n",
       "      <td>16.813154</td>\n",
       "      <td>0</td>\n",
       "      <td>0</td>\n",
       "      <td>0</td>\n",
       "      <td>0</td>\n",
       "      <td>0</td>\n",
       "      <td>0</td>\n",
       "      <td>0</td>\n",
       "      <td>0</td>\n",
       "      <td>0</td>\n",
       "      <td>0</td>\n",
       "    </tr>\n",
       "  </tbody>\n",
       "</table>\n",
       "</div>"
      ],
      "text/plain": [
       "                         Jan        Feb  Mar  Apr  May  Jun  Jul  Aug  Sep  \\\n",
       "Numero di passi            0   0.311536    0    0    0    0    0    0    0   \n",
       "Velocità [m/s]             0   9.000000    0    0    0    0    0    0    0   \n",
       "Lunghezza passo [m]        0   0.535295    0    0    0    0    0    0    0   \n",
       "Cadenza [steps/s]          0   0.166764    0    0    0    0    0    0    0   \n",
       "Tempo di esecuzione [s]    0  16.813154    0    0    0    0    0    0    0   \n",
       "\n",
       "                         Oct  Nov  Dec  \n",
       "Numero di passi            0    0    0  \n",
       "Velocità [m/s]             0    0    0  \n",
       "Lunghezza passo [m]        0    0    0  \n",
       "Cadenza [steps/s]          0    0    0  \n",
       "Tempo di esecuzione [s]    0    0    0  "
      ]
     },
     "metadata": {},
     "output_type": "display_data"
    }
   ],
   "source": [
    "allmonths = [1,2,3,4,5,6,7,8,9,10,11,12]\n",
    "counted_ex = {\n",
    "    \"tug\" : 0\n",
    "}\n",
    "for i in range(len(exercises)):\n",
    "    exnamei = exercises[i].name\n",
    "    res_exi = exercises[i].result\n",
    "    if counted_ex[exnamei] < 1:\n",
    "\n",
    "        #############################\n",
    "        #      Results for TUG      #\n",
    "        #############################\n",
    "        if exnamei == \"tug\":\n",
    "            counted_ex[exnamei] = 1\n",
    "            step_month_table = pd.DataFrame.from_dict(stepmonth,orient='index',\n",
    "                                                      columns=['Jan','Feb','Mar','Apr','May','Jun',\n",
    "                                                           'Jul','Aug','Sep','Oct','Nov','Dec'])\n",
    "            step_month_table.index = [\"Numero di passi\",\"Velocità [m/s]\",\"Lunghezza passo [m]\",\n",
    "                                      \"Cadenza [steps/s]\",\"Tempo di esecuzione [s]\"]\n",
    "            display(step_month_table)\n",
    "\n",
    "            for m in range(len(res_exi)): \n",
    "                single_metric,result_single_metric = res_exi[m]"
   ]
  },
  {
   "cell_type": "code",
   "execution_count": null,
   "metadata": {},
   "outputs": [],
   "source": []
  }
 ],
 "metadata": {
  "kernelspec": {
   "display_name": "Python 3",
   "language": "python",
   "name": "python3"
  },
  "language_info": {
   "codemirror_mode": {
    "name": "ipython",
    "version": 3
   },
   "file_extension": ".py",
   "mimetype": "text/x-python",
   "name": "python",
   "nbconvert_exporter": "python",
   "pygments_lexer": "ipython3",
   "version": "3.8.10"
  },
  "vscode": {
   "interpreter": {
    "hash": "916dbcbb3f70747c44a77c7bcd40155683ae19c65e1c03b4aa3499c5328201f1"
   }
  }
 },
 "nbformat": 4,
 "nbformat_minor": 2
}
