{
 "cells": [
  {
   "cell_type": "markdown",
   "metadata": {},
   "source": [
    "# Calculus review"
   ]
  },
  {
   "cell_type": "code",
   "execution_count": 1,
   "metadata": {},
   "outputs": [],
   "source": [
    "import datetime\n",
    "import numpy as np\n",
    "import matplotlib.pyplot as plt\n",
    "import statsmodels.api as sm\n",
    "import pandas as pd\n",
    "import matplotlib.pyplot as plt\n",
    "from sympy import symbols, diff, solve, integrate, dsolve\n",
    "from sympy.utilities.lambdify import lambdify\n",
    "from sympy.solvers.solveset import linsolve\n",
    "import warnings\n",
    "warnings.filterwarnings(\"ignore\")"
   ]
  },
  {
   "cell_type": "markdown",
   "metadata": {},
   "source": [
    "The following notebook is a review of differential and difference equations with examples in python.\n",
    "\n",
    "The equations and examples are from the following book I highly recommend using to brush up on mathamtics commonly used in economics coursework:\n",
    "- Dowling, E. T. (2012). Introduction to mathematical economics. McGraw-Hill.\n",
    "    - [Amazon link](https://www.amazon.com/Schaums-Introduction-Mathematical-Economics-Outlines/dp/0071762515/ref=sr_1_7?dchild=1&keywords=mathematics+economics&qid=1593200726&sr=8-7)"
   ]
  },
  {
   "cell_type": "markdown",
   "metadata": {},
   "source": [
    "# Table of contents\n",
    "- [1. First-order equations](#First-order-equations)\n",
    "    - [1.1 Differential equations](#1.1-Differential-equations)\n",
    "    - [1.2 Difference equations](#1.2-Difference-equations)\n",
    "    \n",
    "    \n",
    "- [2. Second-order equations](#2.-Second-order-equations)\n",
    "     - [2.1 Differential equations](#2.1-Differential-equations)\n",
    "     - [2.2 Difference equations](#2.2-Difference-equations)\n",
    "\n",
    "\n",
    "\n",
    "- [3. Simultaneous equations](#3.-Simultaneous-equations)\n",
    "    - [3.1 Differential equations](#3.1-Differential-equations)\n",
    "    - [3.2 Difference equations](#3.2-Difference-equations)\n",
    "\n",
    "\n",
    "- [4. Calculus of variations](#4.-Calculus-of-variations)\n",
    "\n",
    "\n",
    "- [5. Optimal control theory](#5.-Optimal-control-theory)\n"
   ]
  },
  {
   "cell_type": "markdown",
   "metadata": {},
   "source": [
    "# Intro\n",
    "## I.1 Differential equations\n",
    "\n",
    "- `Differential equation:` is an equation that relates one or more functions and their derivatives.\n",
    "\n",
    "Definition from: [wikipedia](https://en.wikipedia.org/wiki/Differential_equation#:~:text=In%20mathematics%2C%20a%20differential%20equation,a%20relationship%20between%20the%20two.)\n",
    "\n",
    "\n",
    "## I.2 Difference equations\n",
    "- `Difference equation:` an equation that recursively defines a sequence or multidimensional array of values if one or more initial terms are given \n",
    "    - each further term of the sequence or array is defined as a function of the preceding terms.\n",
    "-   A difference equation is a specific type of recurrence relation\n",
    "\n",
    "Definition from: [wikipedia](https://en.wikipedia.org/wiki/Recurrence_relation#Relationship_to_difference_equations_narrowly_defined)\n",
    "\n",
    "## I.3 Linear difference equation\n",
    "- `Linear difference equation:` \n",
    "-  A polynomial that is linear \n",
    "    - Means that each of its terms has degree 0 or 1. \n",
    "- Usually the context is the evolution of some variable over time, with the current time period or discrete moment in time denoted as t, one period earlier denoted as t − 1, one period later as t + 1\n",
    "\n",
    "- Used in modeling such time series\n",
    "- In econometric applications, linear difference equations are modeled with stochastic terms\n",
    "    - Examples include: AR, VAR, ARMA\n",
    "    \n",
    "Definition from: [wikipedia](hhttps://en.wikipedia.org/wiki/Linear_difference_equation)\n"
   ]
  },
  {
   "cell_type": "markdown",
   "metadata": {},
   "source": [
    "# 1. First-order equations\n",
    "\n",
    "## 1.1 Differential equations"
   ]
  },
  {
   "cell_type": "code",
   "execution_count": 2,
   "metadata": {},
   "outputs": [],
   "source": [
    "y_dt, y = symbols('y_dt y', integer=True)\n",
    "def differential(f):\n",
    "    #Steady state solutions\n",
    "    ss = solve(f, y)\n",
    "    \n",
    "    #Critical point\n",
    "    critical = solve(diff(f,y))\n",
    "    \n",
    "    #Check for concavity\n",
    "    if diff(f,y,y)<0:\n",
    "        print(\"Concave with max\")\n",
    "    else:\n",
    "        print(\"Not concave\")\n",
    "    \n",
    "    #Plot\n",
    "    x = np.linspace(-1,5,101)\n",
    "    f_lamb = lambdify(y, f)\n",
    "    yf = f_lamb(x)\n",
    "    plt.plot(x,yf)\n",
    "    plt.axvline(critical, color='red', label='Critical point')\n",
    "    plt.axvline(ss[0], color='green', label='Steady state')\n",
    "    plt.axvline(ss[1], color='green', label='Steady state')\n",
    "    plt.legend(loc='upper center', bbox_to_anchor=(0.5, -0.05),fancybox=True, shadow=True, ncol=3)\n",
    "    \n",
    "    \n",
    "    print('If dy*/dy>0 arrow points right ')\n",
    "    arrow_args = dict(fc=\"k\", ec=\"k\", head_width=.6, lw=1,\n",
    "            alpha=0.6, head_length=.4)\n",
    "    \n",
    "    plt.arrow(ss[0],0, -.5, 0, **arrow_args) # x, y, dx, dy\n",
    "    plt.arrow(ss[0],0, .5, 0, **arrow_args) # x, y, dx, dy\n",
    "\n",
    "    plt.arrow(ss[1]+1, 0, -.5, 0, **arrow_args) # x, y, dx, dy\n",
    "    plt.arrow(ss[1]-1, 0, .5, 0, **arrow_args) # x, y, dx, dy  "
   ]
  },
  {
   "cell_type": "markdown",
   "metadata": {},
   "source": [
    "### 1.1.1 Python example: Differential equations and phase diagrams\n",
    "$$Y=8y-2y^2$$"
   ]
  },
  {
   "cell_type": "code",
   "execution_count": 3,
   "metadata": {},
   "outputs": [
    {
     "name": "stdout",
     "output_type": "stream",
     "text": [
      "Concave with max\n",
      "If dy*/dy>0 arrow points right \n"
     ]
    },
    {
     "data": {
      "image/png": "[encoded data removed]",
      "text/plain": [
       "<Figure size 432x288 with 1 Axes>"
      ]
     },
     "metadata": {
      "needs_background": "light"
     },
     "output_type": "display_data"
    }
   ],
   "source": [
    "f = 8*y - 2*y**2\n",
    "differential(f)  "
   ]
  },
  {
   "cell_type": "markdown",
   "metadata": {},
   "source": [
    "## 1.2 Difference equations\n",
    "\n",
    "#### Basic definition\n",
    "- Relationship between dependent variable and a lagged variable changing at discrete intervals of time\n",
    "\n",
    "\n",
    "\n",
    "### 1.2.1 General formula\n",
    "\n",
    "$$y_t = b y_{t+1}+a \\\\\n",
    "\\begin{cases}\n",
    "y_t = (y_0-\\frac{a}{1-b})b^t+ \\frac{a}{1-b} & \\text{when} \\neq 1\\\\\n",
    "y_t = y_0+at & \\text{when} = 1\n",
    "\\end{cases}    \n",
    "$$\n",
    "\n",
    "When:\n",
    "- b>0: non-osscilating\n",
    "- b<0: osccilating\n",
    "- |b|>1: explodes\n",
    "- |b|<0: converges\n"
   ]
  },
  {
   "cell_type": "markdown",
   "metadata": {},
   "source": [
    "#### 1.2.1.1 Python example: FOD-General formula"
   ]
  },
  {
   "cell_type": "code",
   "execution_count": 4,
   "metadata": {},
   "outputs": [
    {
     "data": {
      "image/png": "[encoded data removed]",
      "text/plain": [
       "<Figure size 432x288 with 1 Axes>"
      ]
     },
     "metadata": {
      "needs_background": "light"
     },
     "output_type": "display_data"
    }
   ],
   "source": [
    "def first_difference(y0, b, a, length):\n",
    "    yt = []\n",
    "    for t in range(0, length+1):\n",
    "        if b!=1:\n",
    "            yt.append((y0-((a)/(1-b)))*(b)**t + (a/(1-b)))\n",
    "        else:\n",
    "            yt.append(y0+a*t)\n",
    "    return yt\n",
    "y0, a, length = [5,16,5]\n",
    "b = [2, 1, .2, -.2, -1, -1.5]\n",
    "for bs in b:\n",
    "    yt = first_difference(y0, bs, a, length)     \n",
    "    t = np.arange(0,length+1, 1)\n",
    "    plt.plot(t, yt, label = bs)\n",
    "    plt.ylim([-5,20])\n",
    "plt.axhline(y0,color='pink',label ='y0')\n",
    "plt.legend(loc='center left', bbox_to_anchor=(1, 0.5))\n",
    "plt.ylabel(r'$y_t$')\n",
    "plt.xlabel(\"t\")\n",
    "plt.title('First order difference equations');"
   ]
  },
  {
   "cell_type": "markdown",
   "metadata": {},
   "source": [
    "### 1.2.2 Economic example: First-order-difference\n",
    "- Reference: User create code derived from [Quantecon](https://python-programming.quantecon.org/python_oop.html)\n",
    "\n",
    " $$k_{t+1} = \\frac{[(s z k^α_t) + (1 - δ)k_t]}{(1 + n)}$$\n",
    " - s: Savings\n",
    " - n: Depreciation rate\n",
    " - $\\alpha_t$: Labor share in period t\n",
    " - z: Productivity\n",
    " - $\\delta$: Depreciation rate\n",
    " - $k_t$: Capital stock in period t"
   ]
  },
  {
   "cell_type": "markdown",
   "metadata": {},
   "source": [
    "#### 1.2.2.1 Solow steady state"
   ]
  },
  {
   "cell_type": "code",
   "execution_count": 5,
   "metadata": {},
   "outputs": [],
   "source": [
    "def solow(n, s, δ, α, z, kt_0, ts_len):\n",
    "    k = np.zeros([ts_len])\n",
    "    k[0] = kt_0\n",
    "    for t in range(ts_len-1):\n",
    "        k[t+1] = (s * z * k[t]**α + (1 - δ) * k[t]) / (1 + n)\n",
    "    return k"
   ]
  },
  {
   "cell_type": "code",
   "execution_count": 6,
   "metadata": {},
   "outputs": [],
   "source": [
    "def solow_ss(n, s, δ, α, z):\n",
    "    return ((s * z) / (n + δ))**(1 / (1 - α))"
   ]
  },
  {
   "cell_type": "code",
   "execution_count": 7,
   "metadata": {},
   "outputs": [
    {
     "data": {
      "image/png": "[encoded data removed]",
      "text/plain": [
       "<Figure size 432x288 with 1 Axes>"
      ]
     },
     "metadata": {
      "needs_background": "light"
     },
     "output_type": "display_data"
    }
   ],
   "source": [
    "n, s, δ, α, z, kt_0, ts = [.05, 0.25, .1, .3, 2, 1, 60]\n",
    "for k in [1,8]:\n",
    "    capital_path = solow(n, s, δ, α, z, k, ts)\n",
    "    time_path = np.linspace(0,ts,ts)\n",
    "    plt.plot(time_path, capital_path, label=r'$K_0={}$'.format(k))\n",
    "plt.plot(time_path, np.repeat(solow_ss(n,s,δ, α, z), len(time_path)), label='Steady state')\n",
    "plt.legend();"
   ]
  },
  {
   "cell_type": "markdown",
   "metadata": {},
   "source": [
    "# 2. Second-order equations"
   ]
  },
  {
   "cell_type": "markdown",
   "metadata": {},
   "source": [
    "## 2.1 Differential equations\n",
    "$$y\\prime\\prime(t) + b1 y\\prime(t)+b2 y(t)=a$$"
   ]
  },
  {
   "cell_type": "markdown",
   "metadata": {},
   "source": [
    "### 2.1.1 Sympy example"
   ]
  },
  {
   "cell_type": "code",
   "execution_count": 8,
   "metadata": {},
   "outputs": [
    {
     "data": {
      "text/latex": [
       "$\\displaystyle y{\\left(t \\right)} + \\frac{d^{2}}{d t^{2}} y{\\left(t \\right)} + \\frac{d^{3}}{d t^{3}} y{\\left(t \\right)} = 0$"
      ],
      "text/plain": [
       "Eq(y(t) + Derivative(y(t), (t, 2)) + Derivative(y(t), (t, 3)), 0)"
      ]
     },
     "execution_count": 8,
     "metadata": {},
     "output_type": "execute_result"
    }
   ],
   "source": [
    "import sympy as sp\n",
    "\n",
    "t = sp.symbols('t')\n",
    "y = sp.Function('y')\n",
    "diffeq = sp.Eq(y(t).diff(t, t) + y(t).diff(t, t,t)+ y(t)) \n",
    "diffeq"
   ]
  },
  {
   "cell_type": "markdown",
   "metadata": {},
   "source": [
    "### 2.1.2 Python example: second-order differential equation"
   ]
  },
  {
   "cell_type": "markdown",
   "metadata": {},
   "source": [
    "\n",
    "Example:\n",
    "$$y\\prime\\prime(t) - 5 y\\prime(t)+4 y(t)=2$$"
   ]
  },
  {
   "cell_type": "code",
   "execution_count": 9,
   "metadata": {},
   "outputs": [],
   "source": [
    "k1, k2, e,t = symbols('k1 k2 e t', integer=True)\n",
    "\n",
    "def second_differential(b1, b2, a, y, dy):\n",
    "    #Particular equation:\n",
    "    if b2!=0:\n",
    "        particular_integral = a/b2\n",
    "    if b2 == 0 or b1 !=0:\n",
    "        particular_integral = (a/b1)*t\n",
    "    if b1==0 or b2==0:\n",
    "        particular_integral = (a/2)*t**2\n",
    "    \n",
    "    #Eigenvalues\n",
    "    r1 = (-b1+(np.sqrt(b1**2-4*b2)))/2      \n",
    "    r2 = (-b1- (np.sqrt(b1**2-4*b2)))/2\n",
    "\n",
    "    \n",
    "    #Complementary solution    \n",
    "    comp_solu = k1*e**(r2*t)    +   k2*e**(r1*t) + particular_integral\n",
    "    comp_solu_deriv = diff(comp_solu, t)\n",
    "    \n",
    "    #UNFINISHED\n",
    "    #Definite solution\n",
    "    def_solu1 = comp_solu-y\n",
    "    def_solu2 = comp_solu_deriv-dy\n",
    "    #def_solu = linsolve([def_solu1, def_solu2],(k1,k2))\n",
    "    \n",
    "    return comp_solu"
   ]
  },
  {
   "cell_type": "code",
   "execution_count": 10,
   "metadata": {},
   "outputs": [
    {
     "data": {
      "text/latex": [
       "$\\displaystyle e^{1.0 t} k_{1} + e^{4.0 t} k_{2} - 0.4 t$"
      ],
      "text/plain": [
       "e**(1.0*t)*k1 + e**(4.0*t)*k2 - 0.4*t"
      ]
     },
     "execution_count": 10,
     "metadata": {},
     "output_type": "execute_result"
    }
   ],
   "source": [
    "second_differential(-5, 4, 2, 5.5, 11)"
   ]
  },
  {
   "cell_type": "markdown",
   "metadata": {},
   "source": [
    "## 2.2 Difference equations\n",
    "#### Basic definition\n",
    "- Specifies the state $x_t$ as a function of the state at two previous times\n",
    "\n",
    "\n",
    "$$y_t+b1y_{t-1}+ b2y_{t-2}=a$$"
   ]
  },
  {
   "cell_type": "markdown",
   "metadata": {},
   "source": [
    "### 2.2.1 Particular solution"
   ]
  },
  {
   "cell_type": "code",
   "execution_count": 11,
   "metadata": {},
   "outputs": [],
   "source": [
    "k1, k2, e, t, y = symbols('k1 k2 e t y', integer=True)\n",
    "def second_difference(b1, b2,a):\n",
    "    #Particular equation:\n",
    "    if b2+b1!=-1:\n",
    "        particular_solu = (a)/(1+b1+b2)\n",
    "    if b2+b1 == -1 and b1 !=-2:\n",
    "        particular_solu = ((a)/(2+b1))*t\n",
    "    if b2+b1==-1 and b1==-2:\n",
    "        particular_solu = (a/2)*t**2\n",
    "        \n",
    "    return particular_solu"
   ]
  },
  {
   "cell_type": "markdown",
   "metadata": {},
   "source": [
    "#### 2.2.1.1 Ex1: Particular solution\n",
    "\n",
    "$$y_t-10y_{t-1}+ 16y_{t-2}=14$$"
   ]
  },
  {
   "cell_type": "code",
   "execution_count": 12,
   "metadata": {},
   "outputs": [
    {
     "data": {
      "text/plain": [
       "2.0"
      ]
     },
     "execution_count": 12,
     "metadata": {},
     "output_type": "execute_result"
    }
   ],
   "source": [
    "b1,b2,a = [-10,16, 14]\n",
    "second_difference(b1,b2,a)"
   ]
  },
  {
   "cell_type": "markdown",
   "metadata": {},
   "source": [
    "#### 2.2.1.2 Ex2: Particular solution\n",
    "\n",
    "$$y_t-6y_{t-1}+ 5y_{t-2}=12$$"
   ]
  },
  {
   "cell_type": "code",
   "execution_count": 13,
   "metadata": {},
   "outputs": [
    {
     "data": {
      "text/latex": [
       "$\\displaystyle - 3.0 t$"
      ],
      "text/plain": [
       "-3.0*t"
      ]
     },
     "execution_count": 13,
     "metadata": {},
     "output_type": "execute_result"
    }
   ],
   "source": [
    "second_difference(-6, 5, 12)"
   ]
  },
  {
   "cell_type": "markdown",
   "metadata": {},
   "source": [
    "$$y_t-2y_{t-1}+ y_{t-2}=8$$"
   ]
  },
  {
   "cell_type": "code",
   "execution_count": 14,
   "metadata": {},
   "outputs": [
    {
     "data": {
      "text/latex": [
       "$\\displaystyle 4.0 t^{2}$"
      ],
      "text/plain": [
       "4.0*t**2"
      ]
     },
     "execution_count": 14,
     "metadata": {},
     "output_type": "execute_result"
    }
   ],
   "source": [
    "second_difference(-2, 1, 8)"
   ]
  },
  {
   "cell_type": "markdown",
   "metadata": {},
   "source": [
    "### 2.2.2 Complementary function"
   ]
  },
  {
   "cell_type": "code",
   "execution_count": 15,
   "metadata": {},
   "outputs": [],
   "source": [
    "A1, A2, e, t, y = symbols('A1 A2 e t y', integer=True)\n",
    "def second_difference(b1, b2,a):\n",
    "    #Particular equation:\n",
    "    if b2+b1!=-1:\n",
    "        particular_solu = (a)/(1+b1+b2)\n",
    "    if b2+b1 == -1 and b1 !=-2:\n",
    "        particular_solu = ((a)/(2+b1))*t\n",
    "    if b2+b1==-1 and b1==-2:\n",
    "        particular_solu = (a/2)*t**2\n",
    "        \n",
    "    #Eigenvalues\n",
    "    eigvalues = np.sort((-b1+np.array([+1,-1])*(np.sqrt(b1**2-4*b2)))/2)\n",
    "    \n",
    "    #Complementary function\n",
    "    comp_func = A1*eigvalues[0]**t+A2*eigvalues[1]**t+particular_solu\n",
    "    return comp_func"
   ]
  },
  {
   "cell_type": "markdown",
   "metadata": {},
   "source": [
    "#### 2.2.2.1 Ex1: Particular solution\n",
    "\n",
    "$$y_t-10y_{t-1}+ 16y_{t-2}=14$$"
   ]
  },
  {
   "cell_type": "code",
   "execution_count": 16,
   "metadata": {},
   "outputs": [
    {
     "data": {
      "text/latex": [
       "$\\displaystyle 2.0^{t} A_{1} + 8.0^{t} A_{2} + 2.0$"
      ],
      "text/plain": [
       "2.0**t*A1 + 8.0**t*A2 + 2.0"
      ]
     },
     "execution_count": 16,
     "metadata": {},
     "output_type": "execute_result"
    }
   ],
   "source": [
    "second_difference(-10,16, 14)"
   ]
  },
  {
   "cell_type": "markdown",
   "metadata": {},
   "source": [
    "#### 2.2.2.2 Ex2: Particular solution\n",
    "\n",
    "$$y_t-6y_{t-1}+ 5y_{t-2}=12$$"
   ]
  },
  {
   "cell_type": "code",
   "execution_count": 17,
   "metadata": {},
   "outputs": [
    {
     "data": {
      "text/latex": [
       "$\\displaystyle 1.0^{t} A_{1} + 5.0^{t} A_{2} - 3.0 t$"
      ],
      "text/plain": [
       "1.0**t*A1 + 5.0**t*A2 - 3.0*t"
      ]
     },
     "execution_count": 17,
     "metadata": {},
     "output_type": "execute_result"
    }
   ],
   "source": [
    "second_difference(-6, 5, 12)"
   ]
  },
  {
   "cell_type": "markdown",
   "metadata": {},
   "source": [
    "### 2.2.3 General solution"
   ]
  },
  {
   "cell_type": "code",
   "execution_count": 18,
   "metadata": {},
   "outputs": [
    {
     "name": "stdout",
     "output_type": "stream",
     "text": [
      "Time path diverges\n"
     ]
    },
    {
     "data": {
      "text/latex": [
       "$\\displaystyle 5.0 \\cdot 2.0^{t} + 3.0 \\cdot 8.0^{t} + 2.0$"
      ],
      "text/plain": [
       "5.0*2.0**t + 3.0*8.0**t + 2.0"
      ]
     },
     "execution_count": 18,
     "metadata": {},
     "output_type": "execute_result"
    }
   ],
   "source": [
    "A1, A2, e, t, y = symbols('A1 A2 e t y', integer=True)\n",
    "def second_difference(b1, b2,a, y0, y1):\n",
    "    #Particular equation:\n",
    "    if b2+b1!=-1:\n",
    "        particular_solu = (a)/(1+b1+b2)\n",
    "    if b2+b1 == -1 and b1 !=-2:\n",
    "        particular_solu = ((a)/(2+b1))*t\n",
    "    if b2+b1==-1 and b1==-2:\n",
    "        particular_solu = (a/2)*t**2\n",
    "        \n",
    "    #Eigenvalues\n",
    "    eigvalues = np.sort((-b1+np.array([+1,-1])*(np.sqrt(b1**2-4*b2)))/2)\n",
    "    \n",
    "    #Complementary function\n",
    "    comp_func = A1*eigvalues[0]**t+A2*eigvalues[1]**t+particular_solu\n",
    "    \n",
    "    #General solution\n",
    "    general_solu_1 =  comp_func.subs({t:0})-y0\n",
    "    general_solu_2 =  comp_func.subs({t:1})-y1\n",
    "    general_solu = list(linsolve([general_solu_1, general_solu_2],(A1,A2)))[0]\n",
    "    final_answer = general_solu[0]*eigvalues[0]**t+general_solu[1]*eigvalues[1]**t+particular_solu\n",
    "    \n",
    "    #Check answer by plugging t into equation to find y0\n",
    "    #Should be equal\n",
    "    assert final_answer.subs({t:0})==y0\n",
    "    assert final_answer.subs({t:1})==y1\n",
    "    \n",
    "    #Stability conditions\n",
    "    if abs(max(eigvalues))>1:\n",
    "        print('Time path diverges')\n",
    "    else:\n",
    "        print('Time path converges')\n",
    "    \n",
    "    return final_answer\n",
    "\n",
    "second_difference(-10,16, 14, 10, 36)"
   ]
  },
  {
   "cell_type": "markdown",
   "metadata": {},
   "source": [
    "## 2.3 Economic example: Second-order difference\n",
    "- Reference: User create code derived from [Quantecon](https://python-programming.quantecon.org/python_oop.html)\n",
    "\n",
    "###  2.3.1 The Samuelson Multiplier-Accelerator\n",
    "\n",
    "##### Consumption function\n",
    "$$\n",
    "C_t = a Y_{t-1} + \\gamma \\tag{1}\n",
    "$$\n",
    "\n",
    "Where:\n",
    "- a: Marginal propensity to consume (MPC)\n",
    "\n",
    "##### Investment function\n",
    "$$\n",
    "I_t = b (Y_{t-1} - Y_{t-2}) \\tag{2}\n",
    "$$\n",
    "\n",
    "Where:\n",
    "- b: Accelerator coefficient\n",
    "\n",
    "##### GDP identity\n",
    "$$\n",
    "Y_t = C_t + I_t + G_t \\tag{3}\n",
    "$$\n",
    "\n",
    "##### Second-order linear difference equation: Combine 1, 2, 3  \n",
    "\n",
    "$$\n",
    "Y_{t+2} - \\rho_1 Y_{t+1} - \\rho_2 Y_t  = 0 \\tag{6}\n",
    "$$\n",
    "Where:\n",
    "- $ \\rho_1 = (a+b) $ \n",
    "- $ \\rho_2 = -b $.\n",
    "\n",
    "\n"
   ]
  },
  {
   "cell_type": "markdown",
   "metadata": {},
   "source": [
    "#### 2.3.1.1 Python example: Samuelson Multiplier-Accelerator"
   ]
  },
  {
   "cell_type": "code",
   "execution_count": 19,
   "metadata": {
    "scrolled": true
   },
   "outputs": [
    {
     "data": {
      "image/png": "[encoded data removed]",
      "text/plain": [
       "<Figure size 432x288 with 1 Axes>"
      ]
     },
     "metadata": {
      "needs_background": "light"
     },
     "output_type": "display_data"
    }
   ],
   "source": [
    "def sam(y_0=100, y_1=80, α=.92, β=.5, γ=10, time_series=60): \n",
    "    #Path\n",
    "    ρ1 = α + β\n",
    "    ρ2 = -β  \n",
    "    y = np.zeros([time_series])\n",
    "    y[0] = y_0\n",
    "    y[1] = y_1\n",
    "    for t in range(time_series-2):\n",
    "        y[t+2] = ρ1 * y[t+1] + ρ2 * y[t] + γ \n",
    "    plt.plot(np.linspace(0,time_series,time_series), y)\n",
    "sam(y_0=100, y_1=120, α=.92, β=.5, γ=10, time_series=60)"
   ]
  },
  {
   "cell_type": "markdown",
   "metadata": {},
   "source": [
    "#### 2.3.1.2 Python example: Stabilty conditions--Samuelson Multiplier-Accelerator"
   ]
  },
  {
   "cell_type": "code",
   "execution_count": 20,
   "metadata": {},
   "outputs": [],
   "source": [
    "def sam_stability(α=.92, β=.5):\n",
    "    roots = []\n",
    "    ρ1 = α + β\n",
    "    ρ2 = -β  \n",
    "    print(f'ρ_1 is {ρ1}')\n",
    "    print(f'ρ_2 is {ρ2}')\n",
    "    discriminant = ρ1 ** 2 + 4 * ρ2\n",
    "    roots.append((-ρ1 + np.sqrt(discriminant)) / 2)\n",
    "    roots.append((-ρ1 - np.sqrt(discriminant)) / 2)\n",
    "    if ρ2 > 1 + ρ1 or ρ2 < -1:\n",
    "        print('Explosive oscillations')\n",
    "    elif ρ1 + ρ2 > 1:\n",
    "        print('Explosive growth')\n",
    "    elif discriminant < 0:\n",
    "        print('Complex roots\\nModulus less than one\\nTherefore damped oscillations')\n",
    "    else:\n",
    "        print('Roots real \\nAbsolute values are less than one \\nTherefore smooth convergence to a steady state')"
   ]
  },
  {
   "cell_type": "code",
   "execution_count": 21,
   "metadata": {},
   "outputs": [
    {
     "name": "stdout",
     "output_type": "stream",
     "text": [
      "ρ_1 is 1.42\n",
      "ρ_2 is -0.5\n",
      "Roots real \n",
      "Absolute values are less than one \n",
      "Therefore smooth convergence to a steady state\n"
     ]
    }
   ],
   "source": [
    "sam_stability(α=.92, β=.5)"
   ]
  },
  {
   "cell_type": "markdown",
   "metadata": {},
   "source": [
    "# 3. Simultaneous equations"
   ]
  },
  {
   "cell_type": "markdown",
   "metadata": {},
   "source": [
    "## 3.1 Differential equations\n",
    "\n"
   ]
  },
  {
   "cell_type": "markdown",
   "metadata": {},
   "source": [
    "$$\n",
    "\\dot{y_1} = a_{11}y_1 + a_{12}y_2+b_1 \\\\\n",
    "\\dot{y_2} = a_{21}y_1 + a_{22}y_2+b_2\n",
    "$$\n",
    "\n",
    "#### Expressed in matrix form\n",
    "$$\n",
    "\\begin{bmatrix}\n",
    "\\dot{y_1}\\\\\n",
    "\\dot{y_2}\n",
    "\\end{bmatrix} \n",
    "=\n",
    "\\begin{bmatrix}\n",
    "a_{11} & a_{12}\\\\\n",
    "a_{21} & a_{22}\n",
    "\\end{bmatrix} \n",
    "\\begin{bmatrix}\n",
    "y_1\\\\\n",
    "y_2\n",
    "\\end{bmatrix} +\n",
    "\\begin{bmatrix}\n",
    "b_1\\\\\n",
    "b_2\n",
    "\\end{bmatrix} \n",
    "$$"
   ]
  },
  {
   "cell_type": "markdown",
   "metadata": {},
   "source": [
    "#### Complementary solution\n",
    "$$y_c = \\sum_{i=1}^{n} k_i C_i e^{r_i t}$$\n",
    "Where:\n",
    "- $C_i$ = Eigen vector\n",
    "- $r_i$ = EIgenvalue\n",
    "\n",
    "#### Calculate eigenvalues\n",
    "$$r_i = \\frac{Tr(A) \\pm \\sqrt{Tr(A)^2 - 4|A|}}{2}$$\n",
    "\n",
    "#### Stability conditions\n",
    "- all $r_i<0$ dynamically stable\n",
    "- $r_i>0$ unstable"
   ]
  },
  {
   "cell_type": "markdown",
   "metadata": {},
   "source": [
    "### 3.1.1 Python example: Differential equations"
   ]
  },
  {
   "cell_type": "code",
   "execution_count": 22,
   "metadata": {},
   "outputs": [],
   "source": [
    "import numpy as np\n",
    "from sympy import symbols, diff, solve\n",
    "from sympy.solvers.solveset import linsolve\n",
    "\n",
    "k1, k2, e,t = symbols('k1 k2 e t', integer=True)\n",
    "\n",
    "def simultaneous_differential(matrix, solu, ys):\n",
    "    assert sum(np.diag(A))==np.trace(A)\n",
    "    \n",
    "    #Eigenvalues\n",
    "    trace = np.trace(A)\n",
    "    det = round(np.linalg.det(A),0)\n",
    "    eig_values = np.round((np.sort((trace+np.array([+1,-1])*np.sqrt(trace**2-(4*det)))/2)),1)\n",
    "    \n",
    "    #Eigvenvectors\n",
    "    eig_vecs = []\n",
    "    for i in eig_values:\n",
    "        vec = matrix-np.diag(np.repeat(i,2))\n",
    "        c1 = 1 #Euclidean distance condition\n",
    "        c2 = c1/((-vec[0,1])/vec[0,0])\n",
    "        eigvector = np.array([c1,c2]).reshape(-1,1)\n",
    "        eig_vecs.append(eigvector)\n",
    "    eig_matrix = np.concatenate(eig_vecs, axis=1)\n",
    "    \n",
    "    #Complementary solution   \n",
    "    comp_solus = []\n",
    "    for i in range(np.shape(eig_matrix)[1]):\n",
    "        y_complementary = eig_matrix[i,0]*k1*e**(eig_values[0]*t)+ eig_matrix[i,1]*k2*e**(eig_values[1]*t) \n",
    "        comp_solus.append(y_complementary) \n",
    "    \n",
    "    #Complete general solution\n",
    "    intertemporal_solu = np.linalg.solve(A,b)\n",
    "    general_solus = []\n",
    "    for solu, comp in zip(intertemporal_solu, comp_solus):\n",
    "        general_solus.append(comp+solu)\n",
    "    \n",
    "    \n",
    "   #Definite solution\n",
    "    initial_conditions = []\n",
    "    for idx, (y, solu) in enumerate(zip(ys,intertemporal_solu)):\n",
    "        k = eig_matrix[idx,0]*k1+ eig_matrix[idx,1]*k2+solu-y\n",
    "        initial_conditions.append(k) \n",
    "    ks = list(linsolve([initial_conditions[0], initial_conditions[1]],(k1,k2)))[0]\n",
    "    \n",
    "    definite_solu = []\n",
    "    for ans,intertemp in zip(comp_solus,intertemporal_solu):\n",
    "           definite_solu.append(ans.subs({k1:ks[0], k2:ks[1]})+intertemp)\n",
    "    \n",
    "    return eig_values, eig_matrix, comp_solus, general_solus, definite_solu"
   ]
  },
  {
   "cell_type": "markdown",
   "metadata": {},
   "source": [
    "#### 3.1.1.1 Complementary solutions"
   ]
  },
  {
   "cell_type": "code",
   "execution_count": 23,
   "metadata": {},
   "outputs": [
    {
     "data": {
      "text/latex": [
       "$\\displaystyle 1.0 e^{4.0 t} k_{1} + 1.0 e^{6.0 t} k_{2}$"
      ],
      "text/plain": [
       "1.0*e**(4.0*t)*k1 + 1.0*e**(6.0*t)*k2"
      ]
     },
     "execution_count": 23,
     "metadata": {},
     "output_type": "execute_result"
    }
   ],
   "source": [
    "A = np.array([[5,-.5],[-2,5]])\n",
    "b = np.array([[12], [24]])\n",
    "ys = [12,4]\n",
    "simultaneous_differential(A, b, ys)[2][0]"
   ]
  },
  {
   "cell_type": "code",
   "execution_count": 24,
   "metadata": {},
   "outputs": [
    {
     "data": {
      "text/latex": [
       "$\\displaystyle 2.0 e^{4.0 t} k_{1} - 2.0 e^{6.0 t} k_{2}$"
      ],
      "text/plain": [
       "2.0*e**(4.0*t)*k1 - 2.0*e**(6.0*t)*k2"
      ]
     },
     "execution_count": 24,
     "metadata": {},
     "output_type": "execute_result"
    }
   ],
   "source": [
    "simultaneous_differential(A, b, ys)[2][1]"
   ]
  },
  {
   "cell_type": "markdown",
   "metadata": {},
   "source": [
    "#### 3.1.1.2 Complete general solutions"
   ]
  },
  {
   "cell_type": "code",
   "execution_count": 25,
   "metadata": {},
   "outputs": [
    {
     "data": {
      "text/latex": [
       "$\\displaystyle 1.0 e^{4.0 t} k_{1} + 1.0 e^{6.0 t} k_{2} + 3.0$"
      ],
      "text/plain": [
       "1.0*e**(4.0*t)*k1 + 1.0*e**(6.0*t)*k2 + 3.0"
      ]
     },
     "execution_count": 25,
     "metadata": {},
     "output_type": "execute_result"
    }
   ],
   "source": [
    "simultaneous_differential(A, b, ys)[3][0]"
   ]
  },
  {
   "cell_type": "code",
   "execution_count": 26,
   "metadata": {},
   "outputs": [
    {
     "data": {
      "text/latex": [
       "$\\displaystyle 2.0 e^{4.0 t} k_{1} - 2.0 e^{6.0 t} k_{2} + 6.0$"
      ],
      "text/plain": [
       "2.0*e**(4.0*t)*k1 - 2.0*e**(6.0*t)*k2 + 6.0"
      ]
     },
     "execution_count": 26,
     "metadata": {},
     "output_type": "execute_result"
    }
   ],
   "source": [
    "simultaneous_differential(A, b, ys)[3][1]"
   ]
  },
  {
   "cell_type": "markdown",
   "metadata": {},
   "source": [
    "#### 3.1.1.3 Definite solutions"
   ]
  },
  {
   "cell_type": "code",
   "execution_count": 27,
   "metadata": {},
   "outputs": [
    {
     "data": {
      "text/latex": [
       "$\\displaystyle 4.0 e^{4.0 t} + 5.0 e^{6.0 t} + 3.0$"
      ],
      "text/plain": [
       "4.0*e**(4.0*t) + 5.0*e**(6.0*t) + 3.0"
      ]
     },
     "execution_count": 27,
     "metadata": {},
     "output_type": "execute_result"
    }
   ],
   "source": [
    "simultaneous_differential(A, b, ys)[4][0]"
   ]
  },
  {
   "cell_type": "code",
   "execution_count": 28,
   "metadata": {},
   "outputs": [
    {
     "data": {
      "text/latex": [
       "$\\displaystyle 8.0 e^{4.0 t} - 10.0 e^{6.0 t} + 6.0$"
      ],
      "text/plain": [
       "8.0*e**(4.0*t) - 10.0*e**(6.0*t) + 6.0"
      ]
     },
     "execution_count": 28,
     "metadata": {},
     "output_type": "execute_result"
    }
   ],
   "source": [
    "simultaneous_differential(A, b, ys)[4][1]"
   ]
  },
  {
   "cell_type": "markdown",
   "metadata": {},
   "source": [
    "## 3.2 Difference equations"
   ]
  },
  {
   "cell_type": "code",
   "execution_count": 29,
   "metadata": {},
   "outputs": [],
   "source": [
    "from sympy import symbols, diff, solve\n",
    "from sympy.solvers.solveset import linsolve\n",
    "\n",
    "k1, k2,t = symbols('k1 k2 t', integer=True)\n",
    "\n",
    "def simultaneous_difference(matrix, solu, x0, y0):\n",
    "    assert sum(np.diag(A))==np.trace(A)\n",
    "    \n",
    "    #Eigenvalues\n",
    "    trace = np.trace(A)\n",
    "    det = round(np.linalg.det(A),0)\n",
    "    r1 = (trace + np.sqrt(trace**2-(4*det)))/2 #Eigenvalue finder\n",
    "    r2 = (trace - np.sqrt(trace**2-(4*det)))/2 #Eigenvalue finder\n",
    "    if abs(r1)>0 and abs(r2)>0:\n",
    "        print('Time path is divergent')\n",
    "    else:\n",
    "        print(\"Time path is convergent\")\n",
    "    \n",
    "    #Eigvenvectors\n",
    "    # Eigenvector 1\n",
    "    vec1 = matrix-np.diag(np.repeat(r1,2))\n",
    "    c1 = 1 #Euclidean distance condition\n",
    "    c2 = c1/((-vec1[1,1])/vec1[1,0])\n",
    "    eigvector_1 = np.array([c1,c2]).reshape(-1,1)\n",
    "    \n",
    "    # Eigenvector 2\n",
    "    vec2 = matrix-np.diag(np.repeat(r2,2))\n",
    "    c1 = 1 #Euclidean distance condition\n",
    "    c2 = c1/((-vec2[0,1])/vec2[0,0]) \n",
    "    eigvector_2 = np.array([c1,c2]).reshape(-1,1)\n",
    "    \n",
    "    \n",
    "    #Complementary solution    \n",
    "    eig_matrix = np.hstack([eigvector_1, eigvector_2])\n",
    "    xt = k2*(eig_matrix[0,1])*r2**t    +   k1*eig_matrix[0,0]*r1**t \n",
    "    yt = k2*(eig_matrix[1,1])*r2**t    +   k1*eig_matrix[1,0]*r1**t\n",
    "    \n",
    "    #Complete general solution\n",
    "    solu1, solu2 = np.linalg.inv(np.eye(2)-matrix)@solu\n",
    "    y1_c = xt + solu1\n",
    "    y2_c = yt + solu2\n",
    "    \n",
    "    \n",
    "    return (r1, r2), eigvector_1, eigvector_2, xt, yt, y1_c, y2_c "
   ]
  },
  {
   "cell_type": "markdown",
   "metadata": {},
   "source": [
    "### 3.2.1 Simultaneous differential equations\n",
    "\n",
    "- Pg. 434, 19.3"
   ]
  },
  {
   "cell_type": "code",
   "execution_count": 30,
   "metadata": {},
   "outputs": [
    {
     "name": "stdout",
     "output_type": "stream",
     "text": [
      "Time path is divergent\n",
      "Time path is divergent\n"
     ]
    }
   ],
   "source": [
    "A = np.array([[-4, 1],[2,-3]])\n",
    "b = np.array([[12], [6]])\n",
    "x0, y0 = [16,8]\n",
    "# General solutions\n",
    "yt = simultaneous_difference(A, b, x0, y0)[6]\n",
    "xt = simultaneous_difference(A, b, x0, y0)[5]"
   ]
  },
  {
   "cell_type": "code",
   "execution_count": 31,
   "metadata": {},
   "outputs": [
    {
     "data": {
      "text/latex": [
       "$\\displaystyle 1.0 \\left(-2.0\\right)^{t} k_{1} + 1.0 \\left(-5.0\\right)^{t} k_{2} + 3.0$"
      ],
      "text/plain": [
       "1.0*(-2.0)**t*k1 + 1.0*(-5.0)**t*k2 + 3.0"
      ]
     },
     "execution_count": 31,
     "metadata": {},
     "output_type": "execute_result"
    }
   ],
   "source": [
    "xt"
   ]
  },
  {
   "cell_type": "code",
   "execution_count": 32,
   "metadata": {},
   "outputs": [
    {
     "data": {
      "text/latex": [
       "$\\displaystyle 2.0 \\left(-2.0\\right)^{t} k_{1} - 1.0 \\left(-5.0\\right)^{t} k_{2} + 3.0$"
      ],
      "text/plain": [
       "2.0*(-2.0)**t*k1 - 1.0*(-5.0)**t*k2 + 3.0"
      ]
     },
     "execution_count": 32,
     "metadata": {},
     "output_type": "execute_result"
    }
   ],
   "source": [
    "yt"
   ]
  },
  {
   "cell_type": "markdown",
   "metadata": {},
   "source": [
    "# 4. Calculus of variations\n",
    "\n",
    "## 4.1 Basics\n",
    "Dynamic optimization: \n",
    "- max or min of an integral\n",
    "\n",
    "$$\\int^T_0 F[t,x(t), x^*(t)]dt$$\n"
   ]
  },
  {
   "cell_type": "markdown",
   "metadata": {},
   "source": [
    "## 4.2 Distance between two points\n",
    "\n",
    "$$ s= \\int^{t1}_{t0}=\\sqrt{1+(\\frac{dx}{dt})^2 dt}$$"
   ]
  },
  {
   "cell_type": "markdown",
   "metadata": {},
   "source": [
    "## 4.3 Euler's equation\n",
    "\n",
    "$$\\int^{t1}_{t0} F[t,x(t), x^*(t)]dt$$\n",
    "\n",
    "To optimize the above function the necessary condition is Euler's equation\n",
    "\n",
    "$$\\frac{\\partial F}{\\partial x} = \\frac{d}{dt}\\Big(\\frac{\\partial F}{\\partial \\dot{x}}\\Big)$$"
   ]
  },
  {
   "cell_type": "markdown",
   "metadata": {},
   "source": [
    "### 4.3.1 Sympy: Euler equation"
   ]
  },
  {
   "cell_type": "code",
   "execution_count": 33,
   "metadata": {},
   "outputs": [
    {
     "data": {
      "text/latex": [
       "$\\displaystyle 6 e^{3 t} x^{2} + 4 t x{\\left(t \\right)}$"
      ],
      "text/plain": [
       "6*e**(3*t)*x**2 + 4*t*x(t)"
      ]
     },
     "execution_count": 33,
     "metadata": {},
     "output_type": "execute_result"
    }
   ],
   "source": [
    "t,x = sp.symbols('t, x')\n",
    "xdot = sp.Function('x')\n",
    "f = 6*x**2*e**(3*t)+4*t*(xdot(t))\n",
    "f"
   ]
  },
  {
   "cell_type": "markdown",
   "metadata": {},
   "source": [
    "### 4.3.1.1 $\\frac{\\partial F}{\\partial \\dot{x}}$"
   ]
  },
  {
   "cell_type": "code",
   "execution_count": 34,
   "metadata": {},
   "outputs": [
    {
     "data": {
      "text/latex": [
       "$\\displaystyle 4 t$"
      ],
      "text/plain": [
       "4*t"
      ]
     },
     "execution_count": 34,
     "metadata": {},
     "output_type": "execute_result"
    }
   ],
   "source": [
    "df_dx_dot = diff(f, xdot(t))\n",
    "df_dx_dot"
   ]
  },
  {
   "cell_type": "markdown",
   "metadata": {},
   "source": [
    "### 4.3.1.2 $\\frac{d}{dt}\\Big(\\frac{\\partial F}{\\partial \\dot{x}}\\Big)$"
   ]
  },
  {
   "cell_type": "code",
   "execution_count": 35,
   "metadata": {},
   "outputs": [
    {
     "data": {
      "text/latex": [
       "$\\displaystyle 4$"
      ],
      "text/plain": [
       "4"
      ]
     },
     "execution_count": 35,
     "metadata": {},
     "output_type": "execute_result"
    }
   ],
   "source": [
    "rhs = diff(df_dx_dot,t)\n",
    "rhs"
   ]
  },
  {
   "cell_type": "markdown",
   "metadata": {},
   "source": [
    "### 4.3.1.3 $\\frac{\\partial F}{\\partial x}$"
   ]
  },
  {
   "cell_type": "code",
   "execution_count": 36,
   "metadata": {},
   "outputs": [
    {
     "data": {
      "text/latex": [
       "$\\displaystyle 12 e^{3 t} x$"
      ],
      "text/plain": [
       "12*e**(3*t)*x"
      ]
     },
     "execution_count": 36,
     "metadata": {},
     "output_type": "execute_result"
    }
   ],
   "source": [
    "df_dx = diff(f,x)\n",
    "df_dx "
   ]
  },
  {
   "cell_type": "markdown",
   "metadata": {},
   "source": [
    "### 4.3.1.4 Euler equation solution: $X(t)=$ "
   ]
  },
  {
   "cell_type": "code",
   "execution_count": 37,
   "metadata": {},
   "outputs": [
    {
     "data": {
      "text/plain": [
       "[e**(-3*t)/3]"
      ]
     },
     "execution_count": 37,
     "metadata": {},
     "output_type": "execute_result"
    }
   ],
   "source": [
    "solve(df_dx-rhs, x)"
   ]
  },
  {
   "cell_type": "markdown",
   "metadata": {},
   "source": [
    "## 4.5 Sufficiency conditions\n",
    "\n",
    "$$D=\\begin{bmatrix}\n",
    "F_{xx}& F_{xx^*} \\\\\n",
    "F_{x^*x}& F_{x^*x^*}\n",
    "\\end{bmatrix}$$\n",
    "\n",
    "Where:\n",
    "- $|D_1| = F_{xx}<0$\n",
    "    - Stricly concave\n",
    "    \n",
    "- $|D_2| = |D|>0$\n",
    "    - Global max\n",
    "  "
   ]
  },
  {
   "cell_type": "markdown",
   "metadata": {},
   "source": [
    "## 4.6 Dynamic optimization s.j.t constraints\n",
    "\n",
    "$$\\int^T_0 F[t,x(t), \\dot{x}(t)]dt\\\\\n",
    "s.j.t\\\\\n",
    "\\int^T_0 G[t,x(t), \\dot{x}(t)]dt\\\\\n",
    "=\\int^T_0 (F+\\lambda G)dt$$\n",
    "\n",
    "\n",
    "Necessary condition for extremal dynamic optimization (Euler equation):\n",
    "\n",
    "$$\\frac{\\partial H}{\\partial x} = \\frac{d}{dt}\\Big(\\frac{\\partial H}{\\partial \\dot{x}}\\Big)$$"
   ]
  },
  {
   "cell_type": "markdown",
   "metadata": {},
   "source": [
    "### 4.6.1 Sympy example: Dynamic optimization\n",
    "- Isoperimetric problem to determine a curve with a given perimeter\n",
    "\n",
    "\n",
    "- Find curve y of length k enclosing a max area of A\n",
    "\n",
    "$$\n",
    "A=\\frac{1}{2} \\int(x\\dot{y}-y)dx \\\\\n",
    "\\int_{x0}^{x1}\\sqrt{1+\\dot{y}^2} dx = k\\\\\n",
    "\\int_{x0}^{x1}\\frac{1}{2}\\Big[(x\\dot{y}-y)+\\lambda\\sqrt{1+\\dot{y}^2}\\Big]dx\n",
    "$$\n",
    "\n",
    "$$\n",
    "\\frac{\\partial H}{\\partial x} = \\frac{d}{dt}\\Big(\\frac{\\partial H}{\\partial \\dot{x}}\\Big)\n",
    "$$"
   ]
  },
  {
   "cell_type": "markdown",
   "metadata": {},
   "source": [
    "### 4.6.1.1 Sympy"
   ]
  },
  {
   "cell_type": "code",
   "execution_count": 38,
   "metadata": {},
   "outputs": [
    {
     "data": {
      "text/latex": [
       "$\\displaystyle \\lambda \\sqrt{y^{2}{\\left(t \\right)} + 1} + 0.5 x y{\\left(t \\right)} - 0.5 y$"
      ],
      "text/plain": [
       "lambda*sqrt(y(t)**2 + 1) + 0.5*x*y(t) - 0.5*y"
      ]
     },
     "execution_count": 38,
     "metadata": {},
     "output_type": "execute_result"
    }
   ],
   "source": [
    "t,y,x, lamb = sp.symbols('t y x lambda')\n",
    "ydot = sp.Function('y')\n",
    "h = (1/2)*(x*ydot(t)-y)+lamb*sp.sqrt(1+ydot(t)**2)\n",
    "h"
   ]
  },
  {
   "cell_type": "code",
   "execution_count": 39,
   "metadata": {},
   "outputs": [
    {
     "data": {
      "text/plain": [
       "True"
      ]
     },
     "execution_count": 39,
     "metadata": {},
     "output_type": "execute_result"
    }
   ],
   "source": [
    "diff(h,y)== -diff(diff(h, ydot(t)),x)"
   ]
  },
  {
   "cell_type": "markdown",
   "metadata": {},
   "source": [
    "# 5. Optimal control theory\n",
    "\n",
    "## 5.1 Basics\n",
    "- More powerful than calculus of variations because it can manage: \n",
    "    - Corner solutions\n",
    "    \n",
    "\n",
    "#### Aim of optimal control is to find the optimal path of:\n",
    "   - y(t): control variable\n",
    "   - x(t): State variable\n",
    "    \n",
    "    \n",
    "$$\n",
    "\\max J = \\int^T_0 F[x(t),y(t),t]dt\\\\\n",
    "s.j.t \\\\\n",
    "\\dot{x} = G[x(t),y(t),t]dt\\\\\n",
    "x(0)=x_0 \\\\\n",
    "x(T)= x_T\n",
    "$$"
   ]
  },
  {
   "cell_type": "markdown",
   "metadata": {},
   "source": [
    "## 5.2 Hamiltonian\n",
    "\n",
    "$$ \n",
    "H[x(t),y(t),\\lambda(t),t]= F[x(t),y(t),t] +\\lambda(t) g[x(t),y(t),t]\\\\\n",
    "$$\n",
    "\n",
    "- $\\lambda(t)$ = Costate variable\n",
    "    - Estimates the marginal value/shadow price of thestate variable x(t)\n",
    "\n",
    "\n",
    "### 5.2.1 Necessary conditions of Hamiltonian\n",
    "$$\n",
    "\\frac{\\partial h}{\\partial y} = 0 \\tag{1}\n",
    "$$\n",
    "\n",
    "#### Max principle\n",
    "$$\n",
    "\\dot{\\lambda} = -\\frac{\\partial h}{\\partial x} \\tag{2.a}\n",
    "$$\n",
    "\n",
    "$$\n",
    "\\dot{x} = \\frac{\\partial h}{\\partial\\lambda} \\tag{2.b}\n",
    "$$\n",
    "\n",
    "#### Boundary conditions\n",
    "\n",
    "$$\n",
    "x(0)= x_0 \\tag{3.a}\n",
    "$$\n",
    "\n",
    "$$\n",
    "x(T)= x_T \\tag{3.b}\n",
    "$$"
   ]
  },
  {
   "cell_type": "markdown",
   "metadata": {},
   "source": [
    "### 5.2.2 Sympy example: Hamiltonian\n",
    "\n",
    "$$\n",
    "\\int^3_0 (4x-5y^2)dt\\\\\n",
    "\\dot{x} = 8y \\\\\n",
    "x(0) = 2 \\\\\n",
    "x(3) = 117.2\n",
    "$$"
   ]
  },
  {
   "cell_type": "code",
   "execution_count": 40,
   "metadata": {},
   "outputs": [
    {
     "data": {
      "text/latex": [
       "$\\displaystyle 8 \\lambda y + 4 x - 5 y^{2}$"
      ],
      "text/plain": [
       "8*lambda*y + 4*x - 5*y**2"
      ]
     },
     "execution_count": 40,
     "metadata": {},
     "output_type": "execute_result"
    }
   ],
   "source": [
    "t, y, x, lamb = sp.symbols('t y x lambda')\n",
    "ydot = sp.Function('y')\n",
    "xdot = sp.Function('x')\n",
    "lambdot = sp.Function('lambda')\n",
    "H = 4*x-5*y**2+(lamb*8*y)\n",
    "H"
   ]
  },
  {
   "cell_type": "markdown",
   "metadata": {},
   "source": [
    "#### 5.2.2.1 Maxium principle"
   ]
  },
  {
   "cell_type": "code",
   "execution_count": 41,
   "metadata": {},
   "outputs": [
    {
     "data": {
      "text/plain": [
       "[4*lambda/5]"
      ]
     },
     "execution_count": 41,
     "metadata": {},
     "output_type": "execute_result"
    }
   ],
   "source": [
    "# 1.\n",
    "one = diff(H,y)\n",
    "one = solve(one, y)\n",
    "one"
   ]
  },
  {
   "cell_type": "code",
   "execution_count": 42,
   "metadata": {},
   "outputs": [
    {
     "ename": "NameError",
     "evalue": "name 'Eq' is not defined",
     "output_type": "error",
     "traceback": [
      "\u001b[0;31m---------------------------------------------------------------------------\u001b[0m",
      "\u001b[0;31mNameError\u001b[0m                                 Traceback (most recent call last)",
      "\u001b[0;32m<ipython-input-42-9b52081359c1>\u001b[0m in \u001b[0;36m<module>\u001b[0;34m\u001b[0m\n\u001b[1;32m      1\u001b[0m \u001b[0;31m# 2.a\u001b[0m\u001b[0;34m\u001b[0m\u001b[0;34m\u001b[0m\u001b[0;34m\u001b[0m\u001b[0m\n\u001b[1;32m      2\u001b[0m \u001b[0mtwo_a\u001b[0m \u001b[0;34m=\u001b[0m \u001b[0;34m-\u001b[0m \u001b[0mdiff\u001b[0m\u001b[0;34m(\u001b[0m\u001b[0mH\u001b[0m\u001b[0;34m,\u001b[0m \u001b[0mx\u001b[0m\u001b[0;34m)\u001b[0m \u001b[0;31m#dot lamb\u001b[0m\u001b[0;34m\u001b[0m\u001b[0;34m\u001b[0m\u001b[0m\n\u001b[0;32m----> 3\u001b[0;31m \u001b[0mdot_lamb_eq\u001b[0m \u001b[0;34m=\u001b[0m \u001b[0mEq\u001b[0m\u001b[0;34m(\u001b[0m\u001b[0mtwo_a\u001b[0m\u001b[0;34m,\u001b[0m \u001b[0mlambdot\u001b[0m\u001b[0;34m(\u001b[0m\u001b[0mt\u001b[0m\u001b[0;34m)\u001b[0m\u001b[0;34m.\u001b[0m\u001b[0mdiff\u001b[0m\u001b[0;34m(\u001b[0m\u001b[0;34m)\u001b[0m\u001b[0;34m)\u001b[0m\u001b[0;34m\u001b[0m\u001b[0;34m\u001b[0m\u001b[0m\n\u001b[0m\u001b[1;32m      4\u001b[0m \u001b[0mdot_lamb_eq\u001b[0m\u001b[0;34m\u001b[0m\u001b[0;34m\u001b[0m\u001b[0m\n",
      "\u001b[0;31mNameError\u001b[0m: name 'Eq' is not defined"
     ]
    }
   ],
   "source": [
    "# 2.a\n",
    "two_a = - diff(H, x) #dot lamb\n",
    "dot_lamb_eq = Eq(two_a, lambdot(t).diff())\n",
    "dot_lamb_eq"
   ]
  },
  {
   "cell_type": "code",
   "execution_count": null,
   "metadata": {},
   "outputs": [],
   "source": [
    "# 2.b\n",
    "two_b = diff(H, lamb) #dot x\n",
    "dot_x_eq = Eq(two_b, xdot(t).diff())\n",
    "dot_x_eq"
   ]
  },
  {
   "cell_type": "code",
   "execution_count": null,
   "metadata": {},
   "outputs": [],
   "source": [
    "# one into dot_x\n",
    "dot_x = two_b.subs({y:4*lamb/5})\n",
    "dot_x_eq = Eq(dot_x, xdot(t).diff())\n",
    "dot_x_eq"
   ]
  },
  {
   "cell_type": "markdown",
   "metadata": {},
   "source": [
    "#### 5.2.2.2 Solve for state variables $x(t)$ & co-state $\\lambda(t)$"
   ]
  },
  {
   "cell_type": "code",
   "execution_count": null,
   "metadata": {},
   "outputs": [],
   "source": [
    "costate = dsolve(dot_lamb)\n",
    "costate"
   ]
  },
  {
   "cell_type": "code",
   "execution_count": null,
   "metadata": {},
   "outputs": [],
   "source": [
    "dot_ex_eq = dot_x_eq.subs({lamb: lambs.rhs})\n",
    "dot_ex_eq"
   ]
  },
  {
   "cell_type": "code",
   "execution_count": null,
   "metadata": {},
   "outputs": [],
   "source": [
    "state = dsolve(dot_ex_eq)\n",
    "state"
   ]
  },
  {
   "cell_type": "markdown",
   "metadata": {},
   "source": [
    "#### 5.2.2.3 Boundary conditions"
   ]
  },
  {
   "cell_type": "code",
   "execution_count": null,
   "metadata": {},
   "outputs": [],
   "source": [
    "#When state(0)=2\n",
    "state_0 = state.subs({t:0})\n",
    "state_0"
   ]
  },
  {
   "cell_type": "code",
   "execution_count": null,
   "metadata": {},
   "outputs": [],
   "source": [
    "#C2\n",
    "c2 = solve(state_0.rhs-2)\n",
    "c2"
   ]
  },
  {
   "cell_type": "code",
   "execution_count": null,
   "metadata": {},
   "outputs": [],
   "source": [
    "# When state(3)=117.2\n",
    "state_3 = state.subs({t:3})\n",
    "state_3"
   ]
  },
  {
   "cell_type": "code",
   "execution_count": null,
   "metadata": {},
   "outputs": [],
   "source": [
    "c1 = 12\n",
    "c1"
   ]
  },
  {
   "cell_type": "markdown",
   "metadata": {},
   "source": [
    "#### 5.2.2.4 Solve state variable"
   ]
  },
  {
   "cell_type": "code",
   "execution_count": null,
   "metadata": {},
   "outputs": [],
   "source": [
    "state"
   ]
  },
  {
   "cell_type": "markdown",
   "metadata": {},
   "source": [
    "$$\n",
    "x(t) = -12.8t^2+76.8t+2 \\tag{state}\n",
    "$$\n",
    "$$\n",
    "\\lambda(t) = -4t+12 \\tag{costate}\n",
    "$$"
   ]
  },
  {
   "cell_type": "markdown",
   "metadata": {},
   "source": [
    "#### 5.2.2.5 Two methods to solve control y(t)\n",
    "1. Plug in costate to equation one\n",
    "\n",
    "$$y(t)=.8(-4t+12) = -3.2t+9.6$$\n",
    "\n",
    "2. Take deriv of state var\n",
    "\n",
    "$$\\dot{x} = -25.6t+76.8$$\n",
    "\n",
    "Sub $\\dot{x}$ \n",
    "\n",
    "$$y(t) = -3.2t+9.6\\tag{control}$$\n"
   ]
  },
  {
   "cell_type": "markdown",
   "metadata": {},
   "source": [
    "#### 5.2.2.6 Solve endpoints\n",
    "\n",
    "$$\n",
    "y(0)=9.6\\\\\n",
    "y(3)=0\n",
    "$$"
   ]
  },
  {
   "cell_type": "markdown",
   "metadata": {},
   "source": [
    "## 5.3 Sufficiency conditions\n",
    "\n",
    "$$D=\\begin{bmatrix}\n",
    "F_{xx}& F_{xy} \\\\\n",
    "F_{yx}& F_{yy}\n",
    "\\end{bmatrix}$$\n",
    "\n",
    "Where:\n",
    "- $|D_1| = F_{xx}<0$\n",
    "- $|D_2| = |D|>0$\n",
    "    - Concave\n",
    "    \n",
    "  "
   ]
  },
  {
   "cell_type": "markdown",
   "metadata": {},
   "source": [
    "## 5.4 Optimal control with free endpoints\n",
    "\n",
    "Boundary conditions of Hamiltonian are different\n",
    "\n",
    "$$\n",
    "\\frac{\\partial h}{\\partial y} = 0 \\tag{1}\n",
    "$$\n",
    "\n",
    "#### Max principle\n",
    "$$\n",
    "\\dot{\\lambda} = -\\frac{\\partial h}{\\partial x} \\tag{2.a}\n",
    "$$\n",
    "\n",
    "$$\n",
    "\\dot{x} = \\frac{\\partial h}{\\partial\\lambda} \\tag{2.b}\n",
    "$$\n",
    "\n",
    "#### Boundary conditions\n",
    "\n",
    "$$\n",
    "x(0)= x_0 \\tag{3.a}\n",
    "$$\n",
    "\n",
    "Different than transversality condition\n",
    "$$\n",
    "x(T)= 0 \\tag{3.b}\n",
    "$$"
   ]
  },
  {
   "cell_type": "markdown",
   "metadata": {},
   "source": [
    "## 5.5 Inequality constraints in endpoints\n",
    "\n",
    "$$\n",
    "\\begin{cases}\n",
    "\\lambda(t) = 0 & \\text{when} \\ \\ x^*(t)> x_{min}\\\\\n",
    "\\lambda(t) \\geq 0  & \\text{when} \\ \\ x^*(t)=x_{min}\n",
    "\\end{cases} \n",
    "$$"
   ]
  },
  {
   "cell_type": "markdown",
   "metadata": {},
   "source": [
    "## 5.6 Current valued Hamiltonian\n",
    "\n",
    "Optimal control with discounting\n",
    "    \n",
    "    \n",
    "$$\n",
    "\\max J = \\int^T_0 e^{-pt} F[x(t),y(t),t]dt\\\\\n",
    "s.j.t \\\\\n",
    "\\dot{x} = G[x(t),y(t),t]dt\\\\\n",
    "$$\n",
    "\n",
    "$$ \n",
    "H= e^{-pt}F[x(t),y(t),t] +\\lambda(t) g[x(t),y(t),t]\\\\\n",
    "$$\n",
    "\n",
    "Let $\\mu(t) = \\lambda(t)e^{pt}$:\n",
    "\n",
    "Form new current valued Hamiltonian\n",
    "$$ \n",
    "He^{pt}= H_c = F[x(t),y(t),t] +mu(t) g[x(t),y(t),t]\\\\\n",
    "$$"
   ]
  },
  {
   "cell_type": "markdown",
   "metadata": {},
   "source": [
    "### 5.6.1 Sufficient conditions\n",
    "\n",
    "Unchanged\n",
    "$$\n",
    "\\frac{\\partial H}{\\partial y} = 0 \\tag{1}\n",
    "$$\n",
    "\n",
    "#### Max principle\n",
    "New to $H_c$\n",
    "$$\n",
    "\\dot{\\mu} = p\\mu-\\frac{\\partial H}{\\partial x} \\tag{2.a}\n",
    "$$\n",
    "\n",
    "New to $H_c$\n",
    "$$\n",
    "\\dot{x} = \\frac{\\partial H}{\\partial\\mu} \\tag{2.b}\n",
    "$$\n",
    "\n",
    "#### Boundary conditions\n",
    "\n",
    "Unchanged\n",
    "$$\n",
    "x(0)= x_0 \\tag{3.a}\n",
    "$$\n",
    "\n",
    "New to $H_c$\n",
    "$$\n",
    "\\mu(t)e^{pt}= 0 \\tag{3.b}\n",
    "$$"
   ]
  }
 ],
 "metadata": {
  "kernelspec": {
   "display_name": "Python 3",
   "language": "python",
   "name": "python3"
  },
  "language_info": {
   "codemirror_mode": {
    "name": "ipython",
    "version": 3
   },
   "file_extension": ".py",
   "mimetype": "text/x-python",
   "name": "python",
   "nbconvert_exporter": "python",
   "pygments_lexer": "ipython3",
   "version": "3.7.6"
  }
 },
 "nbformat": 4,
 "nbformat_minor": 4
}
