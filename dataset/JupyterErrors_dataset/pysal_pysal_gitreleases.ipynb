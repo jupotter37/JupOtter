{
 "cells": [
  {
   "cell_type": "code",
   "execution_count": 1,
   "metadata": {},
   "outputs": [],
   "source": [
    "import gitreleases"
   ]
  },
  {
   "cell_type": "code",
   "execution_count": 2,
   "metadata": {},
   "outputs": [
    {
     "name": "stdout",
     "output_type": "stream",
     "text": [
      "libpysal has a latest release\n",
      "esda has a latest release\n",
      "giddy has a latest release\n",
      "inequality has a latest release\n",
      "pointpats has a latest release\n",
      "spaghetti has a latest release\n",
      "mapclassify has a latest release\n",
      "splot has no latest release\n",
      "spreg has a latest release\n",
      "spglm has a latest release\n",
      "spint has a latest release\n",
      "mgwr has a latest release\n",
      "spvcm has a latest release\n",
      "The following 12 packages have a git release:\n",
      "\t\n",
      "dict_keys(['libpysal', 'esda', 'giddy', 'inequality', 'pointpats', 'spaghetti', 'mapclassify', 'spreg', 'spglm', 'spint', 'mgwr', 'spvcm'])\n",
      "\n",
      "\n",
      "The following 1 packages do not have a git release:\n",
      "\t\n",
      "['splot']\n"
     ]
    }
   ],
   "source": [
    "gitreleases.get_release_info()"
   ]
  },
  {
   "cell_type": "code",
   "execution_count": 3,
   "metadata": {},
   "outputs": [
    {
     "name": "stdout",
     "output_type": "stream",
     "text": [
      "libpysal\n",
      "https://api.github.com/repos/pysal/libpysal/tarball/v4.0.1\n",
      "tarballs/libpysal.tar.gz\n",
      "esda\n",
      "https://api.github.com/repos/pysal/esda/tarball/v2.0.1\n",
      "tarballs/esda.tar.gz\n",
      "giddy\n",
      "https://api.github.com/repos/pysal/giddy/tarball/v2.0.0\n",
      "tarballs/giddy.tar.gz\n",
      "inequality\n",
      "https://api.github.com/repos/pysal/inequality/tarball/v1.0.0\n",
      "tarballs/inequality.tar.gz\n",
      "pointpats\n",
      "https://api.github.com/repos/pysal/pointpats/tarball/V1.1.0\n",
      "tarballs/pointpats.tar.gz\n",
      "spaghetti\n",
      "https://api.github.com/repos/pysal/spaghetti/tarball/1.1.1.post3\n",
      "tarballs/spaghetti.tar.gz\n",
      "mapclassify\n",
      "https://api.github.com/repos/pysal/mapclassify/tarball/v2.0.1\n",
      "tarballs/mapclassify.tar.gz\n",
      "spreg\n",
      "https://api.github.com/repos/pysal/spreg/tarball/v1.0.4post1\n",
      "tarballs/spreg.tar.gz\n",
      "spglm\n",
      "https://api.github.com/repos/pysal/spglm/tarball/v1.0.6\n",
      "tarballs/spglm.tar.gz\n",
      "spint\n",
      "https://api.github.com/repos/pysal/spint/tarball/v1.0.4\n",
      "tarballs/spint.tar.gz\n",
      "mgwr\n",
      "https://api.github.com/repos/pysal/mgwr/tarball/v2.0.1\n",
      "tarballs/mgwr.tar.gz\n",
      "spvcm\n",
      "https://api.github.com/repos/pysal/spvcm/tarball/0.2.0\n",
      "tarballs/spvcm.tar.gz\n"
     ]
    },
    {
     "data": {
      "text/plain": [
       "{'libpysal': ['v4.0.1',\n",
       "  'https://api.github.com/repos/pysal/libpysal/tarball/v4.0.1'],\n",
       " 'esda': ['v2.0.1', 'https://api.github.com/repos/pysal/esda/tarball/v2.0.1'],\n",
       " 'giddy': ['v2.0.0',\n",
       "  'https://api.github.com/repos/pysal/giddy/tarball/v2.0.0'],\n",
       " 'inequality': ['v1.0.0',\n",
       "  'https://api.github.com/repos/pysal/inequality/tarball/v1.0.0'],\n",
       " 'pointpats': ['V1.1.0',\n",
       "  'https://api.github.com/repos/pysal/pointpats/tarball/V1.1.0'],\n",
       " 'spaghetti': ['1.1.1.post3',\n",
       "  'https://api.github.com/repos/pysal/spaghetti/tarball/1.1.1.post3'],\n",
       " 'mapclassify': ['v2.0.1',\n",
       "  'https://api.github.com/repos/pysal/mapclassify/tarball/v2.0.1'],\n",
       " 'spreg': ['v1.0.4post1',\n",
       "  'https://api.github.com/repos/pysal/spreg/tarball/v1.0.4post1'],\n",
       " 'spglm': ['v1.0.6',\n",
       "  'https://api.github.com/repos/pysal/spglm/tarball/v1.0.6'],\n",
       " 'spint': ['v1.0.4',\n",
       "  'https://api.github.com/repos/pysal/spint/tarball/v1.0.4'],\n",
       " 'mgwr': ['v2.0.1', 'https://api.github.com/repos/pysal/mgwr/tarball/v2.0.1'],\n",
       " 'spvcm': ['0.2.0', 'https://api.github.com/repos/pysal/spvcm/tarball/0.2.0']}"
      ]
     },
     "execution_count": 3,
     "metadata": {},
     "output_type": "execute_result"
    }
   ],
   "source": [
    "gitreleases.get_tarballs()"
   ]
  },
  {
   "cell_type": "code",
   "execution_count": 5,
   "metadata": {},
   "outputs": [],
   "source": [
    "import json\n",
    "with open('tarballs.json', 'r') as fp:\n",
    "    sources = json.load(fp)\n"
   ]
  },
  {
   "cell_type": "code",
   "execution_count": 6,
   "metadata": {},
   "outputs": [
    {
     "data": {
      "text/plain": [
       "{'libpysal': ['v4.0.1',\n",
       "  'https://api.github.com/repos/pysal/libpysal/tarball/v4.0.1'],\n",
       " 'esda': ['v2.0.1', 'https://api.github.com/repos/pysal/esda/tarball/v2.0.1'],\n",
       " 'giddy': ['v2.0.0',\n",
       "  'https://api.github.com/repos/pysal/giddy/tarball/v2.0.0'],\n",
       " 'inequality': ['v1.0.0',\n",
       "  'https://api.github.com/repos/pysal/inequality/tarball/v1.0.0'],\n",
       " 'pointpats': ['V1.1.0',\n",
       "  'https://api.github.com/repos/pysal/pointpats/tarball/V1.1.0'],\n",
       " 'spaghetti': ['1.1.1.post3',\n",
       "  'https://api.github.com/repos/pysal/spaghetti/tarball/1.1.1.post3'],\n",
       " 'mapclassify': ['v2.0.1',\n",
       "  'https://api.github.com/repos/pysal/mapclassify/tarball/v2.0.1'],\n",
       " 'spreg': ['v1.0.4post1',\n",
       "  'https://api.github.com/repos/pysal/spreg/tarball/v1.0.4post1'],\n",
       " 'spglm': ['v1.0.6',\n",
       "  'https://api.github.com/repos/pysal/spglm/tarball/v1.0.6'],\n",
       " 'spint': ['v1.0.4',\n",
       "  'https://api.github.com/repos/pysal/spint/tarball/v1.0.4'],\n",
       " 'mgwr': ['v2.0.1', 'https://api.github.com/repos/pysal/mgwr/tarball/v2.0.1'],\n",
       " 'spvcm': ['0.2.0', 'https://api.github.com/repos/pysal/spvcm/tarball/0.2.0']}"
      ]
     },
     "execution_count": 6,
     "metadata": {},
     "output_type": "execute_result"
    }
   ],
   "source": [
    "sources"
   ]
  },
  {
   "cell_type": "code",
   "execution_count": 10,
   "metadata": {},
   "outputs": [
    {
     "name": "stdout",
     "output_type": "stream",
     "text": [
      "git clone git@github.com:pysal/libpysal.git --branch v4.0.1 tmp/libpysal\n",
      "git clone git@github.com:pysal/esda.git --branch v2.0.1 tmp/esda\n",
      "git clone git@github.com:pysal/giddy.git --branch v2.0.0 tmp/giddy\n",
      "git clone git@github.com:pysal/inequality.git --branch v1.0.0 tmp/inequality\n",
      "git clone git@github.com:pysal/pointpats.git --branch V1.1.0 tmp/pointpats\n",
      "git clone git@github.com:pysal/spaghetti.git --branch 1.1.1.post3 tmp/spaghetti\n",
      "git clone git@github.com:pysal/mapclassify.git --branch v2.0.1 tmp/mapclassify\n",
      "git clone git@github.com:pysal/spreg.git --branch v1.0.4post1 tmp/spreg\n",
      "git clone git@github.com:pysal/spglm.git --branch v1.0.6 tmp/spglm\n",
      "git clone git@github.com:pysal/spint.git --branch v1.0.4 tmp/spint\n",
      "git clone git@github.com:pysal/mgwr.git --branch v2.0.1 tmp/mgwr\n",
      "git clone git@github.com:pysal/spvcm.git --branch 0.2.0 tmp/spvcm\n"
     ]
    }
   ],
   "source": [
    "# git clone  git@github.com:mygitname/theproject.git --branch 1.0.2\n",
    "import os\n",
    "for subpackage in sources.keys():\n",
    "    tag = sources[subpackage][0]\n",
    "    pkgstr = \"git clone git@github.com:pysal/{subpackage}.git --branch {tag} tmp/{subpackage}\".format(subpackage=subpackage,\n",
    "                                                                                      tag=tag)\n",
    "    print(pkgstr)\n",
    "    os.system(pkgstr)\n"
   ]
  },
  {
   "cell_type": "code",
   "execution_count": 1,
   "metadata": {},
   "outputs": [],
   "source": [
    "import gitreleases"
   ]
  },
  {
   "cell_type": "code",
   "execution_count": 3,
   "metadata": {},
   "outputs": [
    {
     "name": "stdout",
     "output_type": "stream",
     "text": [
      "libpysal has a latest release\n",
      "esda has a latest release\n",
      "giddy has a latest release\n",
      "inequality has a latest release\n",
      "pointpats has a latest release\n",
      "spaghetti has a latest release\n",
      "mapclassify has a latest release\n",
      "splot has no latest release\n",
      "spreg has a latest release\n",
      "spglm has a latest release\n",
      "spint has a latest release\n",
      "mgwr has a latest release\n",
      "spvcm has a latest release\n",
      "The following 12 packages have a git release:\n",
      "\t\n",
      "dict_keys(['libpysal', 'esda', 'giddy', 'inequality', 'pointpats', 'spaghetti', 'mapclassify', 'spreg', 'spglm', 'spint', 'mgwr', 'spvcm'])\n",
      "\n",
      "\n",
      "The following 1 packages do not have a git release:\n",
      "\t\n",
      "['splot']\n"
     ]
    }
   ],
   "source": [
    "gitreleases.get_release_info()"
   ]
  },
  {
   "cell_type": "code",
   "execution_count": 4,
   "metadata": {},
   "outputs": [
    {
     "name": "stdout",
     "output_type": "stream",
     "text": [
      "git clone git@github.com:pysal/libpysal.git --branch v4.0.1 tmp/libpysal\n",
      "git clone git@github.com:pysal/esda.git --branch v2.0.1 tmp/esda\n",
      "git clone git@github.com:pysal/giddy.git --branch v2.0.0 tmp/giddy\n",
      "git clone git@github.com:pysal/inequality.git --branch v1.0.0 tmp/inequality\n",
      "git clone git@github.com:pysal/pointpats.git --branch V1.1.0 tmp/pointpats\n",
      "git clone git@github.com:pysal/spaghetti.git --branch 1.1.1.post3 tmp/spaghetti\n",
      "git clone git@github.com:pysal/mapclassify.git --branch v2.0.1 tmp/mapclassify\n",
      "git clone git@github.com:pysal/spreg.git --branch v1.0.4post1 tmp/spreg\n",
      "git clone git@github.com:pysal/spglm.git --branch v1.0.6 tmp/spglm\n",
      "git clone git@github.com:pysal/spint.git --branch v1.0.4 tmp/spint\n",
      "git clone git@github.com:pysal/mgwr.git --branch v2.0.1 tmp/mgwr\n",
      "git clone git@github.com:pysal/spvcm.git --branch 0.2.0 tmp/spvcm\n"
     ]
    }
   ],
   "source": [
    "gitreleases.clone_releases()"
   ]
  },
  {
   "cell_type": "code",
   "execution_count": 5,
   "metadata": {},
   "outputs": [
    {
     "ename": "NameError",
     "evalue": "name 'Os' is not defined",
     "output_type": "error",
     "traceback": [
      "\u001b[0;31m---------------------------------------------------------------------------\u001b[0m",
      "\u001b[0;31mNameError\u001b[0m                                 Traceback (most recent call last)",
      "\u001b[0;32m<ipython-input-5-f7c6a581b7dc>\u001b[0m in \u001b[0;36m<module>\u001b[0;34m()\u001b[0m\n\u001b[0;32m----> 1\u001b[0;31m \u001b[0mgitreleases\u001b[0m\u001b[0;34m.\u001b[0m\u001b[0mget_tarballs\u001b[0m\u001b[0;34m(\u001b[0m\u001b[0;34m)\u001b[0m\u001b[0;34m\u001b[0m\u001b[0m\n\u001b[0m",
      "\u001b[0;32m~/Dropbox/p/pysal/src/pysal/gitreleases.py\u001b[0m in \u001b[0;36mget_tarballs\u001b[0;34m()\u001b[0m\n\u001b[1;32m     58\u001b[0m     \u001b[0;32mwith\u001b[0m \u001b[0mopen\u001b[0m\u001b[0;34m(\u001b[0m\u001b[0;34m'tarballs.json'\u001b[0m\u001b[0;34m,\u001b[0m \u001b[0;34m'r'\u001b[0m\u001b[0;34m)\u001b[0m \u001b[0;32mas\u001b[0m \u001b[0mfp\u001b[0m\u001b[0;34m:\u001b[0m\u001b[0;34m\u001b[0m\u001b[0m\n\u001b[1;32m     59\u001b[0m         \u001b[0msources\u001b[0m \u001b[0;34m=\u001b[0m \u001b[0mjson\u001b[0m\u001b[0;34m.\u001b[0m\u001b[0mload\u001b[0m\u001b[0;34m(\u001b[0m\u001b[0mfp\u001b[0m\u001b[0;34m)\u001b[0m\u001b[0;34m\u001b[0m\u001b[0m\n\u001b[0;32m---> 60\u001b[0;31m     \u001b[0mOs\u001b[0m\u001b[0;34m.\u001b[0m\u001b[0msystem\u001b[0m\u001b[0;34m(\u001b[0m\u001b[0;34m'rm -rf tarballs'\u001b[0m\u001b[0;34m)\u001b[0m\u001b[0;34m\u001b[0m\u001b[0m\n\u001b[0m\u001b[1;32m     61\u001b[0m     \u001b[0mos\u001b[0m\u001b[0;34m.\u001b[0m\u001b[0msystem\u001b[0m\u001b[0;34m(\u001b[0m\u001b[0;34m'mkdir tarballs'\u001b[0m\u001b[0;34m)\u001b[0m\u001b[0;34m\u001b[0m\u001b[0m\n\u001b[1;32m     62\u001b[0m     \u001b[0;32mfor\u001b[0m \u001b[0msubpackage\u001b[0m \u001b[0;32min\u001b[0m \u001b[0msources\u001b[0m\u001b[0;34m.\u001b[0m\u001b[0mkeys\u001b[0m\u001b[0;34m(\u001b[0m\u001b[0;34m)\u001b[0m\u001b[0;34m:\u001b[0m\u001b[0;34m\u001b[0m\u001b[0m\n",
      "\u001b[0;31mNameError\u001b[0m: name 'Os' is not defined"
     ]
    }
   ],
   "source": [
    "gitreleases.get_tarballs()"
   ]
  },
  {
   "cell_type": "code",
   "execution_count": 2,
   "metadata": {},
   "outputs": [],
   "source": [
    "import gitreleases"
   ]
  },
  {
   "cell_type": "code",
   "execution_count": 3,
   "metadata": {},
   "outputs": [
    {
     "name": "stdout",
     "output_type": "stream",
     "text": [
      "libpysal\n",
      "https://api.github.com/repos/pysal/libpysal/tarball/v4.0.1\n",
      "tarballs/libpysal.tar.gz\n",
      "esda\n",
      "https://api.github.com/repos/pysal/esda/tarball/v2.0.1\n",
      "tarballs/esda.tar.gz\n",
      "giddy\n",
      "https://api.github.com/repos/pysal/giddy/tarball/v2.0.0\n",
      "tarballs/giddy.tar.gz\n",
      "inequality\n",
      "https://api.github.com/repos/pysal/inequality/tarball/v1.0.0\n",
      "tarballs/inequality.tar.gz\n",
      "pointpats\n",
      "https://api.github.com/repos/pysal/pointpats/tarball/V1.1.0\n",
      "tarballs/pointpats.tar.gz\n",
      "spaghetti\n",
      "https://api.github.com/repos/pysal/spaghetti/tarball/1.1.1.post3\n",
      "tarballs/spaghetti.tar.gz\n",
      "mapclassify\n",
      "https://api.github.com/repos/pysal/mapclassify/tarball/v2.0.1\n",
      "tarballs/mapclassify.tar.gz\n",
      "spreg\n",
      "https://api.github.com/repos/pysal/spreg/tarball/v1.0.4post1\n",
      "tarballs/spreg.tar.gz\n",
      "spglm\n",
      "https://api.github.com/repos/pysal/spglm/tarball/v1.0.6\n",
      "tarballs/spglm.tar.gz\n",
      "spint\n",
      "https://api.github.com/repos/pysal/spint/tarball/v1.0.4\n",
      "tarballs/spint.tar.gz\n",
      "mgwr\n",
      "https://api.github.com/repos/pysal/mgwr/tarball/v2.0.1\n",
      "tarballs/mgwr.tar.gz\n",
      "spvcm\n",
      "https://api.github.com/repos/pysal/spvcm/tarball/0.2.0\n",
      "tarballs/spvcm.tar.gz\n"
     ]
    },
    {
     "data": {
      "text/plain": [
       "{'libpysal': ['v4.0.1',\n",
       "  'https://api.github.com/repos/pysal/libpysal/tarball/v4.0.1'],\n",
       " 'esda': ['v2.0.1', 'https://api.github.com/repos/pysal/esda/tarball/v2.0.1'],\n",
       " 'giddy': ['v2.0.0',\n",
       "  'https://api.github.com/repos/pysal/giddy/tarball/v2.0.0'],\n",
       " 'inequality': ['v1.0.0',\n",
       "  'https://api.github.com/repos/pysal/inequality/tarball/v1.0.0'],\n",
       " 'pointpats': ['V1.1.0',\n",
       "  'https://api.github.com/repos/pysal/pointpats/tarball/V1.1.0'],\n",
       " 'spaghetti': ['1.1.1.post3',\n",
       "  'https://api.github.com/repos/pysal/spaghetti/tarball/1.1.1.post3'],\n",
       " 'mapclassify': ['v2.0.1',\n",
       "  'https://api.github.com/repos/pysal/mapclassify/tarball/v2.0.1'],\n",
       " 'spreg': ['v1.0.4post1',\n",
       "  'https://api.github.com/repos/pysal/spreg/tarball/v1.0.4post1'],\n",
       " 'spglm': ['v1.0.6',\n",
       "  'https://api.github.com/repos/pysal/spglm/tarball/v1.0.6'],\n",
       " 'spint': ['v1.0.4',\n",
       "  'https://api.github.com/repos/pysal/spint/tarball/v1.0.4'],\n",
       " 'mgwr': ['v2.0.1', 'https://api.github.com/repos/pysal/mgwr/tarball/v2.0.1'],\n",
       " 'spvcm': ['0.2.0', 'https://api.github.com/repos/pysal/spvcm/tarball/0.2.0']}"
      ]
     },
     "execution_count": 3,
     "metadata": {},
     "output_type": "execute_result"
    }
   ],
   "source": [
    "gitreleases.get_tarballs()"
   ]
  },
  {
   "cell_type": "code",
   "execution_count": 4,
   "metadata": {},
   "outputs": [],
   "source": [
    "import tarfile,os\n"
   ]
  },
  {
   "cell_type": "code",
   "execution_count": 14,
   "metadata": {},
   "outputs": [
    {
     "name": "stdout",
     "output_type": "stream",
     "text": [
      "pysal-libpysal-362db82\n"
     ]
    }
   ],
   "source": [
    "tar = tarfile.open(\"tarballs/libpysal.tar.gz\", \"r:gz\")\n",
    "members = tar.getmembers()\n",
    "path = members[0].path\n",
    "print(path)"
   ]
  },
  {
   "cell_type": "code",
   "execution_count": 13,
   "metadata": {},
   "outputs": [
    {
     "data": {
      "text/plain": [
       "'pysal-libpysal-362db82'"
      ]
     },
     "execution_count": 13,
     "metadata": {},
     "output_type": "execute_result"
    }
   ],
   "source": [
    "m0.path"
   ]
  },
  {
   "cell_type": "code",
   "execution_count": 23,
   "metadata": {},
   "outputs": [
    {
     "data": {
      "text/plain": [
       "0"
      ]
     },
     "execution_count": 23,
     "metadata": {},
     "output_type": "execute_result"
    }
   ],
   "source": [
    "os.system('tar xzvf tarballs/libpysal.tar.gz')\n"
   ]
  },
  {
   "cell_type": "code",
   "execution_count": 24,
   "metadata": {},
   "outputs": [],
   "source": [
    "cmd = \"mv {path} tmp/{package}\".format(path=path,package='libpysal')"
   ]
  },
  {
   "cell_type": "code",
   "execution_count": 25,
   "metadata": {},
   "outputs": [
    {
     "data": {
      "text/plain": [
       "'mv pysal-libpysal-362db82 tmp/libpysal'"
      ]
     },
     "execution_count": 25,
     "metadata": {},
     "output_type": "execute_result"
    }
   ],
   "source": [
    "cmd"
   ]
  },
  {
   "cell_type": "code",
   "execution_count": 26,
   "metadata": {},
   "outputs": [
    {
     "data": {
      "text/plain": [
       "0"
      ]
     },
     "execution_count": 26,
     "metadata": {},
     "output_type": "execute_result"
    }
   ],
   "source": [
    "os.system(cmd)"
   ]
  },
  {
   "cell_type": "code",
   "execution_count": 27,
   "metadata": {},
   "outputs": [
    {
     "name": "stdout",
     "output_type": "stream",
     "text": [
      "\u001b[34mlibpysal\u001b[m\u001b[m/ \u001b[34mmgwr\u001b[m\u001b[m/     \u001b[34mspvcm\u001b[m\u001b[m/\n"
     ]
    }
   ],
   "source": [
    "ls tmp"
   ]
  },
  {
   "cell_type": "code",
   "execution_count": 1,
   "metadata": {},
   "outputs": [],
   "source": [
    "import gitreleases"
   ]
  },
  {
   "cell_type": "code",
   "execution_count": 2,
   "metadata": {},
   "outputs": [
    {
     "name": "stdout",
     "output_type": "stream",
     "text": [
      "libpysal\n",
      "https://api.github.com/repos/pysal/libpysal/tarball/v4.0.1\n",
      "tarballs/libpysal.tar.gz\n",
      "tar xzvf tarballs/libpysal.tar.gz\n",
      "cp -R pysal-libpysal-362db82 tmp/libpysal\n",
      "esda\n",
      "https://api.github.com/repos/pysal/esda/tarball/v2.0.1\n",
      "tarballs/esda.tar.gz\n",
      "tar xzvf tarballs/esda.tar.gz\n",
      "cp -R pysal-esda-94f81e1 tmp/esda\n",
      "giddy\n",
      "https://api.github.com/repos/pysal/giddy/tarball/v2.0.0\n",
      "tarballs/giddy.tar.gz\n",
      "tar xzvf tarballs/giddy.tar.gz\n",
      "cp -R pysal-giddy-ad4cc13 tmp/giddy\n",
      "inequality\n",
      "https://api.github.com/repos/pysal/inequality/tarball/v1.0.0\n",
      "tarballs/inequality.tar.gz\n",
      "tar xzvf tarballs/inequality.tar.gz\n",
      "cp -R pysal-inequality-fd6c1c1 tmp/inequality\n",
      "pointpats\n",
      "https://api.github.com/repos/pysal/pointpats/tarball/V1.1.0\n",
      "tarballs/pointpats.tar.gz\n",
      "tar xzvf tarballs/pointpats.tar.gz\n",
      "cp -R pysal-pointpats-3cecbf5 tmp/pointpats\n",
      "spaghetti\n",
      "https://api.github.com/repos/pysal/spaghetti/tarball/1.1.1.post3\n",
      "tarballs/spaghetti.tar.gz\n",
      "tar xzvf tarballs/spaghetti.tar.gz\n",
      "cp -R pysal-spaghetti-83c92b5 tmp/spaghetti\n",
      "mapclassify\n",
      "https://api.github.com/repos/pysal/mapclassify/tarball/v2.0.1\n",
      "tarballs/mapclassify.tar.gz\n",
      "tar xzvf tarballs/mapclassify.tar.gz\n",
      "cp -R pysal-mapclassify-07345d6 tmp/mapclassify\n",
      "spreg\n",
      "https://api.github.com/repos/pysal/spreg/tarball/v1.0.4post1\n",
      "tarballs/spreg.tar.gz\n",
      "tar xzvf tarballs/spreg.tar.gz\n",
      "cp -R pysal-spreg-6898b3c tmp/spreg\n",
      "spglm\n",
      "https://api.github.com/repos/pysal/spglm/tarball/v1.0.6\n",
      "tarballs/spglm.tar.gz\n",
      "tar xzvf tarballs/spglm.tar.gz\n",
      "cp -R pysal-spglm-8d6e806 tmp/spglm\n",
      "spint\n",
      "https://api.github.com/repos/pysal/spint/tarball/v1.0.4\n",
      "tarballs/spint.tar.gz\n",
      "tar xzvf tarballs/spint.tar.gz\n",
      "cp -R pysal-spint-ec76c38 tmp/spint\n",
      "mgwr\n",
      "https://api.github.com/repos/pysal/mgwr/tarball/v2.0.1\n",
      "tarballs/mgwr.tar.gz\n",
      "tar xzvf tarballs/mgwr.tar.gz\n",
      "cp -R pysal-mgwr-2884d7b tmp/mgwr\n",
      "spvcm\n",
      "https://api.github.com/repos/pysal/spvcm/tarball/0.2.0\n",
      "tarballs/spvcm.tar.gz\n",
      "tar xzvf tarballs/spvcm.tar.gz\n",
      "cp -R pysal-spvcm-ab687ce tmp/spvcm\n"
     ]
    },
    {
     "data": {
      "text/plain": [
       "{'libpysal': ['v4.0.1',\n",
       "  'https://api.github.com/repos/pysal/libpysal/tarball/v4.0.1'],\n",
       " 'esda': ['v2.0.1', 'https://api.github.com/repos/pysal/esda/tarball/v2.0.1'],\n",
       " 'giddy': ['v2.0.0',\n",
       "  'https://api.github.com/repos/pysal/giddy/tarball/v2.0.0'],\n",
       " 'inequality': ['v1.0.0',\n",
       "  'https://api.github.com/repos/pysal/inequality/tarball/v1.0.0'],\n",
       " 'pointpats': ['V1.1.0',\n",
       "  'https://api.github.com/repos/pysal/pointpats/tarball/V1.1.0'],\n",
       " 'spaghetti': ['1.1.1.post3',\n",
       "  'https://api.github.com/repos/pysal/spaghetti/tarball/1.1.1.post3'],\n",
       " 'mapclassify': ['v2.0.1',\n",
       "  'https://api.github.com/repos/pysal/mapclassify/tarball/v2.0.1'],\n",
       " 'spreg': ['v1.0.4post1',\n",
       "  'https://api.github.com/repos/pysal/spreg/tarball/v1.0.4post1'],\n",
       " 'spglm': ['v1.0.6',\n",
       "  'https://api.github.com/repos/pysal/spglm/tarball/v1.0.6'],\n",
       " 'spint': ['v1.0.4',\n",
       "  'https://api.github.com/repos/pysal/spint/tarball/v1.0.4'],\n",
       " 'mgwr': ['v2.0.1', 'https://api.github.com/repos/pysal/mgwr/tarball/v2.0.1'],\n",
       " 'spvcm': ['0.2.0', 'https://api.github.com/repos/pysal/spvcm/tarball/0.2.0']}"
      ]
     },
     "execution_count": 2,
     "metadata": {},
     "output_type": "execute_result"
    }
   ],
   "source": [
    "gitreleases.get_tarballs()"
   ]
  },
  {
   "cell_type": "code",
   "execution_count": null,
   "metadata": {},
   "outputs": [],
   "source": []
  }
 ],
 "metadata": {
  "kernelspec": {
   "display_name": "Python 3",
   "language": "python",
   "name": "python3"
  },
  "language_info": {
   "codemirror_mode": {
    "name": "ipython",
    "version": 3
   },
   "file_extension": ".py",
   "mimetype": "text/x-python",
   "name": "python",
   "nbconvert_exporter": "python",
   "pygments_lexer": "ipython3",
   "version": "3.7.0"
  }
 },
 "nbformat": 4,
 "nbformat_minor": 2
}
