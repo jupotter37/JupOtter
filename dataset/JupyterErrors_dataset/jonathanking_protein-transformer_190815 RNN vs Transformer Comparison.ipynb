{
 "cells": [
  {
   "cell_type": "code",
   "execution_count": 21,
   "metadata": {},
   "outputs": [],
   "source": [
    "import torch\n",
    "import numpy as np\n",
    "import seaborn as sns\n",
    "import matplotlib.pyplot as plt\n",
    "from glob import glob\n",
    "%matplotlib inline\n",
    "# sns.set_style(\"darkgrid\")"
   ]
  },
  {
   "cell_type": "markdown",
   "metadata": {},
   "source": [
    "```\n",
    "python scripts/predict.py -dataset test\n",
    "python scripts/predict.y -dataset train\n",
    "```"
   ]
  },
  {
   "cell_type": "markdown",
   "metadata": {},
   "source": [
    "# Find best model"
   ]
  },
  {
   "cell_type": "code",
   "execution_count": 61,
   "metadata": {},
   "outputs": [],
   "source": [
    "runs = glob(\"/home/jok120/protein-transformer/coords/*/*.tch\")"
   ]
  },
  {
   "cell_type": "code",
   "execution_count": 64,
   "metadata": {
    "scrolled": true
   },
   "outputs": [
    {
     "data": {
      "text/plain": [
       "['/home/jok120/protein-transformer/coords/test_casp12_pnbest_04_best/casp12_pnbest_04_best_test_trans-evalution.tch',\n",
       " '/home/jok120/protein-transformer/coords/test_casp12_pnbest_02_best/casp12_pnbest_02_best_test_trans-evalution.tch',\n",
       " '/home/jok120/protein-transformer/coords/test_casp12_rnn_250lr2b12_best/casp12_rnn_250lr2b12_best_test_trans-evalution.tch',\n",
       " '/home/jok120/protein-transformer/coords/test_b_casp12_09_best/b_casp12_09_best_test_trans-evalution.tch',\n",
       " '/home/jok120/protein-transformer/coords/test_casp12_pnbest_01_best/casp12_pnbest_01_best_test_trans-evalution.tch',\n",
       " '/home/jok120/protein-transformer/coords/test_b_casp12_03_best/b_casp12_03_best_test_trans-evalution.tch',\n",
       " '/home/jok120/protein-transformer/coords/test_casp12_pnbest_06_best/casp12_pnbest_06_best_test_trans-evalution.tch',\n",
       " '/home/jok120/protein-transformer/coords/b_casp12_03_best/b_casp12_03_best_test_trans-evalution.tch',\n",
       " '/home/jok120/protein-transformer/coords/test_b_casp12_08_best/b_casp12_08_best_test_trans-evalution.tch',\n",
       " '/home/jok120/protein-transformer/coords/test_casp12_pnbest_05_best/casp12_pnbest_05_best_test_trans-evalution.tch',\n",
       " '/home/jok120/protein-transformer/coords/test_b_casp12_07_best/b_casp12_07_best_test_trans-evalution.tch',\n",
       " '/home/jok120/protein-transformer/coords/test_casp12_pnbest_08_best/casp12_pnbest_08_best_test_trans-evalution.tch',\n",
       " '/home/jok120/protein-transformer/coords/test_casp12_pnbest_03_best/casp12_pnbest_03_best_test_trans-evalution.tch',\n",
       " '/home/jok120/protein-transformer/coords/test_casp12_rnn_500b12_best/casp12_rnn_500b12_best_test_trans-evalution.tch',\n",
       " '/home/jok120/protein-transformer/coords/test_b_casp12_05_best/b_casp12_05_best_test_trans-evalution.tch',\n",
       " '/home/jok120/protein-transformer/coords/test_b_casp12_06_best/b_casp12_06_best_test_trans-evalution.tch',\n",
       " '/home/jok120/protein-transformer/coords/test_b_casp12_10_best/b_casp12_10_best_test_trans-evalution.tch']"
      ]
     },
     "execution_count": 64,
     "metadata": {},
     "output_type": "execute_result"
    }
   ],
   "source": [
    "runs"
   ]
  },
  {
   "cell_type": "code",
   "execution_count": 63,
   "metadata": {
    "scrolled": true
   },
   "outputs": [
    {
     "name": "stdout",
     "output_type": "stream",
     "text": [
      "2_pnbest_04_best/casp12_pnbest_04_best_test_trans-evalution.tch\n",
      "RMSE: 0.792 0.041\n",
      "DRMSD: 17.003 5.213\n",
      "RMSD: 20.553 4.643\n",
      "2_pnbest_02_best/casp12_pnbest_02_best_test_trans-evalution.tch\n",
      "RMSE: 0.689 0.041\n",
      "DRMSD: 16.428 5.056\n",
      "RMSD: 20.371 4.721\n",
      "2_rnn_250lr2b12_best/casp12_rnn_250lr2b12_best_test_trans-evalution.tch\n",
      "RMSE: 0.680 0.041\n",
      "DRMSD: 15.140 4.929\n",
      "RMSD: 20.557 4.257\n",
      "p12_09_best/b_casp12_09_best_test_trans-evalution.tch\n",
      "RMSE: 0.769 0.039\n",
      "DRMSD: 15.623 4.708\n",
      "RMSD: 19.335 4.375\n",
      "2_pnbest_01_best/casp12_pnbest_01_best_test_trans-evalution.tch\n",
      "RMSE: 0.758 0.022\n",
      "DRMSD: 17.154 5.035\n",
      "RMSD: 21.595 5.085\n",
      "p12_03_best/b_casp12_03_best_test_trans-evalution.tch\n",
      "RMSE: 0.712 0.026\n",
      "DRMSD: 13.890 4.262\n",
      "RMSD: 21.778 4.875\n",
      "2_pnbest_06_best/casp12_pnbest_06_best_test_trans-evalution.tch\n",
      "RMSE: 0.905 0.018\n",
      "DRMSD: 17.348 5.464\n",
      "RMSD: 20.146 4.876\n",
      "3_best/b_casp12_03_best_test_trans-evalution.tch\n",
      "RMSE: 0.705 0.031\n",
      "DRMSD: 14.769 3.582\n",
      "RMSD: 23.625 4.465\n",
      "p12_08_best/b_casp12_08_best_test_trans-evalution.tch\n",
      "RMSE: 0.695 0.047\n",
      "DRMSD: 15.955 4.605\n",
      "RMSD: 20.027 4.857\n",
      "2_pnbest_05_best/casp12_pnbest_05_best_test_trans-evalution.tch\n",
      "RMSE: 0.752 0.027\n",
      "DRMSD: 18.110 5.476\n",
      "RMSD: 21.618 5.906\n",
      "p12_07_best/b_casp12_07_best_test_trans-evalution.tch\n",
      "RMSE: 0.708 0.008\n",
      "DRMSD: 17.777 5.123\n",
      "RMSD: 18.085 4.323\n",
      "2_pnbest_08_best/casp12_pnbest_08_best_test_trans-evalution.tch\n",
      "RMSE: 0.766 0.009\n",
      "DRMSD: 16.458 5.117\n",
      "RMSD: 19.679 4.157\n",
      "2_pnbest_03_best/casp12_pnbest_03_best_test_trans-evalution.tch\n",
      "RMSE: 0.735 0.033\n",
      "DRMSD: 17.162 6.496\n",
      "RMSD: 21.116 5.650\n",
      "2_rnn_500b12_best/casp12_rnn_500b12_best_test_trans-evalution.tch\n",
      "RMSE: 0.588 0.014\n",
      "DRMSD: 16.875 4.557\n",
      "RMSD: 19.894 5.101\n",
      "p12_05_best/b_casp12_05_best_test_trans-evalution.tch\n",
      "RMSE: 0.832 0.055\n",
      "DRMSD: 17.201 5.837\n",
      "RMSD: 18.305 4.251\n",
      "p12_06_best/b_casp12_06_best_test_trans-evalution.tch\n",
      "RMSE: 0.719 0.044\n",
      "DRMSD: 15.316 5.160\n",
      "RMSD: 19.414 3.927\n",
      "p12_10_best/b_casp12_10_best_test_trans-evalution.tch\n",
      "RMSE: 0.583 0.028\n",
      "DRMSD: 16.392 4.750\n",
      "RMSD: 18.828 4.372\n"
     ]
    }
   ],
   "source": [
    "for r in runs:\n",
    "    print(r[50:])\n",
    "    d = torch.load(r)\n",
    "    summary(d)"
   ]
  },
  {
   "cell_type": "markdown",
   "metadata": {},
   "source": [
    "The best (RMSD) RNN is casp12_rnn_500b12_best with\n",
    "```\n",
    "RMSE: 0.588 0.014\n",
    "DRMSD: 16.875 4.557\n",
    "RMSD: 19.894 5.101\n",
    "```\n",
    "\n",
    "The best transformer is b_casp12_07_best with\n",
    "```\n",
    "RMSE: 0.708 0.008\n",
    "DRMSD: 17.777 5.123\n",
    "RMSD: 18.085 4.323\n",
    "```"
   ]
  },
  {
   "cell_type": "code",
   "execution_count": 65,
   "metadata": {},
   "outputs": [],
   "source": [
    "trf = torch.load(runs[10])\n",
    "rnn = torch.load(runs[-4])"
   ]
  },
  {
   "cell_type": "code",
   "execution_count": null,
   "metadata": {},
   "outputs": [],
   "source": []
  },
  {
   "cell_type": "markdown",
   "metadata": {},
   "source": [
    "# Plots"
   ]
  },
  {
   "cell_type": "code",
   "execution_count": 66,
   "metadata": {},
   "outputs": [],
   "source": [
    "for dictionary in [rnn, trf]:\n",
    "    for k, v in dictionary.items():\n",
    "        dictionary[k] = np.array(v)"
   ]
  },
  {
   "cell_type": "code",
   "execution_count": 67,
   "metadata": {},
   "outputs": [],
   "source": [
    "plt.rcParams['figure.figsize'] = [6, 4]#[30.6, 20.4]\n",
    "plt.rcParams.update({'font.size': 13})"
   ]
  },
  {
   "cell_type": "code",
   "execution_count": 68,
   "metadata": {},
   "outputs": [
    {
     "name": "stdout",
     "output_type": "stream",
     "text": [
      "mkdir: cannot create directory ‘figs’: File exists\r\n"
     ]
    }
   ],
   "source": [
    "!mkdir figs"
   ]
  },
  {
   "cell_type": "code",
   "execution_count": 69,
   "metadata": {},
   "outputs": [
    {
     "data": {
      "image/png": "[encoded data removed]",
      "text/plain": [
       "<Figure size 432x288 with 1 Axes>"
      ]
     },
     "metadata": {
      "needs_background": "light"
     },
     "output_type": "display_data"
    }
   ],
   "source": [
    "# sns.distplot(trf[\"drmsd\"],kde=False, label=\"Transformer\")\n",
    "plt.hist(trf[\"drmsd\"], label=\"Transformer\")\n",
    "# sns.distplot(rnn[\"drmsd\"],kde=False, label=\"RNN\")\n",
    "plt.hist(rnn[\"drmsd\"], label=\"RNN\", alpha=0.6)\n",
    "plt.legend()\n",
    "plt.title(\"DRMSD Loss Distribution over Test Set\")\n",
    "plt.ylabel(\"Count\")\n",
    "plt.xlabel(\"Distance-based Root Mean Square Deviation (DRMSD) in Å\")\n",
    "plt.savefig(\"figs/190815_drmsd_comparison.pdf\")"
   ]
  },
  {
   "cell_type": "code",
   "execution_count": 70,
   "metadata": {},
   "outputs": [
    {
     "data": {
      "image/png": "[encoded data removed]",
      "text/plain": [
       "<Figure size 432x288 with 1 Axes>"
      ]
     },
     "metadata": {
      "needs_background": "light"
     },
     "output_type": "display_data"
    }
   ],
   "source": [
    "# sns.distplot(np.sqrt(trf[\"mse\"]),kde=False, label=\"Transformer\")\n",
    "# sns.distplot(np.sqrt(rnn[\"mse\"]),kde=False, label=\"RNN\")\n",
    "plt.hist(np.sqrt(trf[\"mse\"]), label=\"Transformer\")\n",
    "plt.hist(np.sqrt(rnn[\"mse\"]), label=\"RNN\", alpha=0.6)\n",
    "plt.legend()\n",
    "plt.title(\"RMSE Loss Distribution over Test Set\")\n",
    "plt.ylabel(\"Count\")\n",
    "plt.xlabel(\"Angle Root Mean Square Error (RMSE) in Radians\")\n",
    "plt.savefig(\"figs/190815_rmse_comparison.pdf\")"
   ]
  },
  {
   "cell_type": "code",
   "execution_count": 73,
   "metadata": {},
   "outputs": [
    {
     "data": {
      "image/png": "[encoded data removed]",
      "text/plain": [
       "<Figure size 432x288 with 1 Axes>"
      ]
     },
     "metadata": {
      "needs_background": "light"
     },
     "output_type": "display_data"
    }
   ],
   "source": [
    "# sns.distplot(np.sqrt(trf[\"mse\"]),kde=False, label=\"Transformer\")\n",
    "# sns.distplot(np.sqrt(rnn[\"mse\"]),kde=False, label=\"RNN\")\n",
    "plt.hist(np.sqrt(trf[\"rmsd\"]), label=\"Transformer\")\n",
    "plt.hist(np.sqrt(rnn[\"rmsd\"]), label=\"RNN\", alpha=0.6)\n",
    "plt.legend()\n",
    "plt.title(\"RMSD Loss Distribution over Test Set\")\n",
    "plt.ylabel(\"Count\")\n",
    "plt.xlabel(\"Coordinate Root Mean Square Deviation (RMSD) in Å\")\n",
    "plt.savefig(\"figs/190815_rmsd_comparison.pdf\")"
   ]
  },
  {
   "cell_type": "code",
   "execution_count": 72,
   "metadata": {},
   "outputs": [],
   "source": [
    "def summary(di):\n",
    "    for k, v in di.items():\n",
    "        di[k] = np.array(v)\n",
    "    print(\"RMSE:\", end=\" \")\n",
    "    print(\"{:.3f} {:.3f}\".format(np.sqrt(di[\"mse\"]).mean(), np.sqrt(di[\"mse\"]).std()))\n",
    "    print(\"DRMSD:\", end=\" \")\n",
    "    print(\"{:.3f} {:.3f}\".format(di[\"drmsd\"].mean(), di[\"drmsd\"].std()))\n",
    "    print(\"RMSD:\", end=\" \")\n",
    "    print(\"{:.3f} {:.3f}\".format(di[\"rmsd\"].mean(), di[\"rmsd\"].std()))"
   ]
  },
  {
   "cell_type": "code",
   "execution_count": 57,
   "metadata": {},
   "outputs": [
    {
     "name": "stdout",
     "output_type": "stream",
     "text": [
      "RMSE: 0.680 0.041\n",
      "DRMSD: 15.140 4.929\n",
      "RMSD: 20.557 4.257\n"
     ]
    }
   ],
   "source": [
    "summary(trf)"
   ]
  },
  {
   "cell_type": "code",
   "execution_count": 58,
   "metadata": {},
   "outputs": [
    {
     "name": "stdout",
     "output_type": "stream",
     "text": [
      "RMSE: 0.712 0.026\n",
      "DRMSD: 13.890 4.262\n",
      "RMSD: 21.778 4.875\n"
     ]
    }
   ],
   "source": [
    "summary(rnn)"
   ]
  },
  {
   "cell_type": "markdown",
   "metadata": {},
   "source": [
    "# Compare batch time"
   ]
  },
  {
   "cell_type": "code",
   "execution_count": 29,
   "metadata": {},
   "outputs": [],
   "source": [
    "import pandas as pd\n",
    "rnn_log = pd.read_csv(\"/home/jok120/Desktop/safekeeping/0602-rnn_q3-01.train\")\n",
    "trf_log = pd.read_csv(\"/home/jok120/Desktop/safekeeping/0602-q3_adam-0457c.train\")"
   ]
  },
  {
   "cell_type": "code",
   "execution_count": 17,
   "metadata": {},
   "outputs": [
    {
     "ename": "NameError",
     "evalue": "name 'rnn_log' is not defined",
     "output_type": "error",
     "traceback": [
      "\u001b[0;31m---------------------------------------------------------------------------\u001b[0m",
      "\u001b[0;31mNameError\u001b[0m                                 Traceback (most recent call last)",
      "\u001b[0;32m<ipython-input-17-95750c35ffe9>\u001b[0m in \u001b[0;36m<module>\u001b[0;34m\u001b[0m\n\u001b[0;32m----> 1\u001b[0;31m \u001b[0mtime_rnn\u001b[0m \u001b[0;34m=\u001b[0m \u001b[0mrnn_log\u001b[0m\u001b[0;34m[\u001b[0m\u001b[0;34m\"time\"\u001b[0m\u001b[0;34m]\u001b[0m\u001b[0;34m.\u001b[0m\u001b[0miloc\u001b[0m\u001b[0;34m[\u001b[0m\u001b[0;36m9\u001b[0m\u001b[0;34m]\u001b[0m \u001b[0;34m-\u001b[0m \u001b[0mrnn_log\u001b[0m\u001b[0;34m[\u001b[0m\u001b[0;34m\"time\"\u001b[0m\u001b[0;34m]\u001b[0m\u001b[0;34m.\u001b[0m\u001b[0miloc\u001b[0m\u001b[0;34m[\u001b[0m\u001b[0;36m8\u001b[0m\u001b[0;34m]\u001b[0m\u001b[0;34m\u001b[0m\u001b[0;34m\u001b[0m\u001b[0m\n\u001b[0m\u001b[1;32m      2\u001b[0m \u001b[0mprint\u001b[0m\u001b[0;34m(\u001b[0m\u001b[0mtime_rnn\u001b[0m\u001b[0;34m)\u001b[0m\u001b[0;34m\u001b[0m\u001b[0;34m\u001b[0m\u001b[0m\n",
      "\u001b[0;31mNameError\u001b[0m: name 'rnn_log' is not defined"
     ]
    }
   ],
   "source": [
    "time_rnn = rnn_log[\"time\"].iloc[9] - rnn_log[\"time\"].iloc[8]\n",
    "print(time_rnn)"
   ]
  },
  {
   "cell_type": "code",
   "execution_count": 37,
   "metadata": {
    "scrolled": true
   },
   "outputs": [
    {
     "data": {
      "text/plain": [
       "2.5513086318969727"
      ]
     },
     "execution_count": 37,
     "metadata": {},
     "output_type": "execute_result"
    }
   ],
   "source": [
    "time_trf = trf_log[\"time\"].iloc[9] - trf_log[\"time\"].iloc[8]\n",
    "print(time_trf)"
   ]
  },
  {
   "cell_type": "code",
   "execution_count": null,
   "metadata": {},
   "outputs": [],
   "source": [
    "print(time_trf / 12)\n",
    "print(time_rnn / 4)"
   ]
  }
 ],
 "metadata": {
  "kernelspec": {
   "display_name": "Python (pytorch_src2)",
   "language": "python",
   "name": "pytorch_src2"
  },
  "language_info": {
   "codemirror_mode": {
    "name": "ipython",
    "version": 3
   },
   "file_extension": ".py",
   "mimetype": "text/x-python",
   "name": "python",
   "nbconvert_exporter": "python",
   "pygments_lexer": "ipython3",
   "version": "3.6.8"
  }
 },
 "nbformat": 4,
 "nbformat_minor": 2
}
