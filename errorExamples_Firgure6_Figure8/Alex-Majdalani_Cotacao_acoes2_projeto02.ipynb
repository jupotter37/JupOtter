{
 "cells": [
  {
   "cell_type": "markdown",
   "metadata": {},
   "source": [
    "# Projeto 02\n",
    "\n",
    "Passo a passo do problema\n",
    "\n",
    "- Buscar os dados da ação automaticamente\n",
    "- Criar as anáises solicitadas\n",
    "    - Cotação máxima\n",
    "    - Cotação mínima\n",
    "    - Valor médio da ação\n",
    "- Enviar um email automaticamente para o gestor"
   ]
  },
  {
   "cell_type": "markdown",
   "metadata": {},
   "source": [
    "#### Buscar dados da ação automaticamente\n",
    "bibliotecas: 'yfinace' e 'matplotlib'\n",
    "\n",
    "'pip install yfinance' pip install matplotli'"
   ]
  },
  {
   "cell_type": "code",
   "execution_count": 1,
   "metadata": {},
   "outputs": [],
   "source": [
    "# importando o yfinance\n",
    "import yfinance\n",
    "import tkinter as tk\n",
    "from tkinter import messagebox"
   ]
  },
  {
   "cell_type": "code",
   "execution_count": null,
   "metadata": {},
   "outputs": [],
   "source": []
  },
  {
   "cell_type": "code",
   "execution_count": 2,
   "metadata": {},
   "outputs": [
    {
     "ename": "KeyboardInterrupt",
     "evalue": "",
     "output_type": "error",
     "traceback": [
      "\u001b[1;31m---------------------------------------------------------------------------\u001b[0m",
      "\u001b[1;31mKeyboardInterrupt\u001b[0m                         Traceback (most recent call last)",
      "Cell \u001b[1;32mIn[2], line 48\u001b[0m\n\u001b[0;32m     45\u001b[0m button_submit\u001b[38;5;241m.\u001b[39mgrid(row\u001b[38;5;241m=\u001b[39m\u001b[38;5;241m3\u001b[39m, columnspan\u001b[38;5;241m=\u001b[39m\u001b[38;5;241m2\u001b[39m, pady\u001b[38;5;241m=\u001b[39m\u001b[38;5;241m20\u001b[39m)\n\u001b[0;32m     47\u001b[0m \u001b[38;5;66;03m# Execução da janela principal\u001b[39;00m\n\u001b[1;32m---> 48\u001b[0m \u001b[43mroot\u001b[49m\u001b[38;5;241;43m.\u001b[39;49m\u001b[43mmainloop\u001b[49m\u001b[43m(\u001b[49m\u001b[43m)\u001b[49m\n",
      "File \u001b[1;32md:\\Arquivos de Programas\\python\\Lib\\tkinter\\__init__.py:1504\u001b[0m, in \u001b[0;36mMisc.mainloop\u001b[1;34m(self, n)\u001b[0m\n\u001b[0;32m   1502\u001b[0m \u001b[38;5;28;01mdef\u001b[39;00m \u001b[38;5;21mmainloop\u001b[39m(\u001b[38;5;28mself\u001b[39m, n\u001b[38;5;241m=\u001b[39m\u001b[38;5;241m0\u001b[39m):\n\u001b[0;32m   1503\u001b[0m \u001b[38;5;250m    \u001b[39m\u001b[38;5;124;03m\"\"\"Call the mainloop of Tk.\"\"\"\u001b[39;00m\n\u001b[1;32m-> 1504\u001b[0m     \u001b[38;5;28;43mself\u001b[39;49m\u001b[38;5;241;43m.\u001b[39;49m\u001b[43mtk\u001b[49m\u001b[38;5;241;43m.\u001b[39;49m\u001b[43mmainloop\u001b[49m\u001b[43m(\u001b[49m\u001b[43mn\u001b[49m\u001b[43m)\u001b[49m\n",
      "\u001b[1;31mKeyboardInterrupt\u001b[0m: "
     ]
    },
    {
     "ename": "",
     "evalue": "",
     "output_type": "error",
     "traceback": [
      "\u001b[1;31mThe Kernel crashed while executing code in the current cell or a previous cell. \n",
      "\u001b[1;31mPlease review the code in the cell(s) to identify a possible cause of the failure. \n",
      "\u001b[1;31mClick <a href='https://aka.ms/vscodeJupyterKernelCrash'>here</a> for more info. \n",
      "\u001b[1;31mView Jupyter <a href='command:jupyter.viewOutput'>log</a> for further details."
     ]
    }
   ],
   "source": [
    "# Função que será chamada quando o botão \"Submit\" for pressionado\n",
    "def submit():\n",
    "    ticker = entry_ticker.get()\n",
    "    data_inic = entry_data_inic.get()\n",
    "    data_term = entry_data_term.get()\n",
    "\n",
    "    # Validação dos dados (opcional)\n",
    "    if not ticker:\n",
    "        messagebox.showerror(\"Erro\", \"Por favor, insira o código da ação.\")\n",
    "        return\n",
    "    if not data_inic or not data_term:\n",
    "        messagebox.showerror(\"Erro\", \"Por favor, insira ambas as datas.\")\n",
    "        return\n",
    "    \n",
    "    # Aqui você pode adicionar a lógica para processar os dados inseridos\n",
    "    print(f\"Ticker: {ticker}\")\n",
    "    print(f\"Data de início: {data_inic}\")\n",
    "    print(f\"Data de término: {data_term}\")\n",
    "\n",
    "# Criação da janela principal\n",
    "root = tk.Tk()\n",
    "root.title(\"Análise de Ações\")\n",
    "\n",
    "# Criação dos rótulos e campos de entrada\n",
    "label_ticker = tk.Label(root, text=\"Código da Ação:\")\n",
    "label_ticker.grid(row=0, column=0, padx=10, pady=10)\n",
    "\n",
    "entry_ticker = tk.Entry(root)\n",
    "entry_ticker.grid(row=0, column=1, padx=10, pady=10)\n",
    "\n",
    "label_data_inic = tk.Label(root, text=\"Início do Período (aaaa-mm-dd):\")\n",
    "label_data_inic.grid(row=1, column=0, padx=10, pady=10)\n",
    "\n",
    "entry_data_inic = tk.Entry(root)\n",
    "entry_data_inic.grid(row=1, column=1, padx=10, pady=10)\n",
    "\n",
    "label_data_term = tk.Label(root, text=\"Término do Período (aaaa-mm-dd):\")\n",
    "label_data_term.grid(row=2, column=0, padx=10, pady=10)\n",
    "\n",
    "entry_data_term = tk.Entry(root)\n",
    "entry_data_term.grid(row=2, column=1, padx=10, pady=10)\n",
    "\n",
    "# Criação do botão \"Submit\"\n",
    "button_submit = tk.Button(root, text=\"Enviar\", command=submit)\n",
    "button_submit.grid(row=3, columnspan=2, pady=20)\n",
    "\n",
    "# Execução da janela principal\n",
    "root.mainloop()\n",
    "\n"
   ]
  },
  {
   "cell_type": "code",
   "execution_count": null,
   "metadata": {},
   "outputs": [],
   "source": [
    "\n",
    "# ticker = input(\"Digite o código da ação desejada: \")\n",
    "# data_inic = input(\"Digite o início do período (Obs: ano-mês-dia): \")\n",
    "# data_term = input(\"Digite o término do período (Obs: ano-mês-dia): \")\n",
    "\n",
    "# dados = yfinance.Ticker(ticker).history(start=data_inic, end=data_term) # pode criar um input para as datas\n",
    "# fechamento = dados.Close # Acessar somente a coluna de fechamento\n",
    "# grafico = fechamento.plot() # fazer o gráfico da ação\n",
    "\n"
   ]
  },
  {
   "cell_type": "markdown",
   "metadata": {},
   "source": [
    "#### Criar as análises solicitadas\n",
    "- Cotação máxima\n",
    "- Cotação mínima\n",
    "- Valor médio "
   ]
  },
  {
   "cell_type": "code",
   "execution_count": null,
   "metadata": {},
   "outputs": [
    {
     "ename": "NameError",
     "evalue": "name 'fechamento' is not defined",
     "output_type": "error",
     "traceback": [
      "\u001b[1;31m---------------------------------------------------------------------------\u001b[0m",
      "\u001b[1;31mNameError\u001b[0m                                 Traceback (most recent call last)",
      "Cell \u001b[1;32mIn[10], line 1\u001b[0m\n\u001b[1;32m----> 1\u001b[0m maxima \u001b[38;5;241m=\u001b[39m \u001b[38;5;28mround\u001b[39m(\u001b[43mfechamento\u001b[49m\u001b[38;5;241m.\u001b[39mmax(), \u001b[38;5;241m2\u001b[39m) \u001b[38;5;66;03m# cotação máxima + arendondamento\u001b[39;00m\n\u001b[0;32m      2\u001b[0m minima \u001b[38;5;241m=\u001b[39m \u001b[38;5;28mround\u001b[39m(fechamento\u001b[38;5;241m.\u001b[39mmin(), \u001b[38;5;241m2\u001b[39m) \u001b[38;5;66;03m# cotação mínima\u001b[39;00m\n\u001b[0;32m      3\u001b[0m valor_medio \u001b[38;5;241m=\u001b[39m \u001b[38;5;28mround\u001b[39m(fechamento\u001b[38;5;241m.\u001b[39mmean(), \u001b[38;5;241m2\u001b[39m) \u001b[38;5;66;03m# valor médio da ação\u001b[39;00m\n",
      "\u001b[1;31mNameError\u001b[0m: name 'fechamento' is not defined"
     ]
    }
   ],
   "source": [
    "maxima = round(fechamento.max(), 2) # cotação máxima + arendondamento\n",
    "minima = round(fechamento.min(), 2) # cotação mínima\n",
    "valor_medio = round(fechamento.mean(), 2) # valor médio da ação\n",
    "\n",
    "print(maxima)\n",
    "print(minima)\n",
    "print(valor_medio)\n",
    "\n"
   ]
  },
  {
   "cell_type": "markdown",
   "metadata": {},
   "source": [
    "#### Enviar o email automaticamente\n",
    "\n",
    "#### Como enviar o gráfico no email??"
   ]
  },
  {
   "cell_type": "code",
   "execution_count": null,
   "metadata": {},
   "outputs": [
    {
     "name": "stdout",
     "output_type": "stream",
     "text": [
      "Email Enviado\n"
     ]
    }
   ],
   "source": [
    "# enviar email para o gerente \n",
    "# import win32com.client as win32\n",
    "# outlook = win32.Dispatch('outlook.application')\n",
    "# mail = outlook.CreateItem(0)\n",
    "# mail.To = 'tecnologiapython1@gmail.com'\n",
    "# mail.Subject = 'Relatório da Ação'\n",
    "# mail.HTMLBody = f'''\n",
    "# <p>Presado Diretor,</p>\n",
    "\n",
    "# <p>Segue os dados referente a Ação {ticker} do período de {data_inic} a {data_term}:</p>\n",
    "\n",
    "# <p>Preço máximo no período: R$ {maxima}</p>\n",
    "\n",
    "# <p>Preço mínimo no período: R$ {minima}</p>\n",
    "  \n",
    "# <p>Valor médio no período: R$ {valor_medio}</p>\n",
    "\n",
    "# <p>Gráfico de Evolução dos Preços</p> \n",
    "# {grafico}\n",
    "\n",
    "# <p>Att.</p>\n",
    "\n",
    "# <p>Alex Majdalani</p>\n",
    "\n",
    "# '''\n",
    "# mail.Send()\n",
    "# print('Email Enviado')"
   ]
  }
 ],
 "metadata": {
  "kernelspec": {
   "display_name": "Python 3",
   "language": "python",
   "name": "python3"
  },
  "language_info": {
   "codemirror_mode": {
    "name": "ipython",
    "version": 3
   },
   "file_extension": ".py",
   "mimetype": "text/x-python",
   "name": "python",
   "nbconvert_exporter": "python",
   "pygments_lexer": "ipython3",
   "version": "3.12.3"
  }
 },
 "nbformat": 4,
 "nbformat_minor": 2
}
